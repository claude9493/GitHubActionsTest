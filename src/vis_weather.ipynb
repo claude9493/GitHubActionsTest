{
 "cells": [
  {
   "cell_type": "code",
   "execution_count": 1,
   "metadata": {
    "execution": {
     "iopub.execute_input": "2021-10-13T08:13:57.376267Z",
     "iopub.status.busy": "2021-10-13T08:13:57.375569Z",
     "iopub.status.idle": "2021-10-13T08:13:58.558828Z",
     "shell.execute_reply": "2021-10-13T08:13:58.559276Z"
    }
   },
   "outputs": [],
   "source": [
    "import json, yaml, requests\r\n",
    "from datetime import datetime\r\n",
    "from dateutil import tz\r\n",
    "import pandas as pd\r\n",
    "from PIL import Image\r\n",
    "from io import BytesIO\r\n",
    "import matplotlib.pyplot as plt\r\n",
    "import seaborn\r\n",
    "\r\n",
    "CONFIG_PATH = \"../config/config.yaml\""
   ]
  },
  {
   "cell_type": "code",
   "execution_count": 2,
   "metadata": {
    "execution": {
     "iopub.execute_input": "2021-10-13T08:13:58.565388Z",
     "iopub.status.busy": "2021-10-13T08:13:58.561868Z",
     "iopub.status.idle": "2021-10-13T08:13:58.571980Z",
     "shell.execute_reply": "2021-10-13T08:13:58.571333Z"
    }
   },
   "outputs": [],
   "source": [
    "with open('../newest_ts', 'r') as f:\r\n",
    "    newest_ts = f.read()\r\n",
    "\r\n",
    "data_path = f\"../data/data_{newest_ts}.json\"\r\n",
    "with open(data_path, 'r') as f:\r\n",
    "    data = json.load(f)\r\n",
    "\r\n",
    "with open(CONFIG_PATH, \"r\") as stream:\r\n",
    "    config = yaml.safe_load(stream)\r\n",
    "\r\n",
    "TIME_ZONE = config['time_zone']\r\n",
    "DATETIME_FORMAT = config['dt_format']"
   ]
  },
  {
   "cell_type": "code",
   "execution_count": 3,
   "metadata": {
    "execution": {
     "iopub.execute_input": "2021-10-13T08:13:58.576953Z",
     "iopub.status.busy": "2021-10-13T08:13:58.576376Z",
     "iopub.status.idle": "2021-10-13T08:13:58.581950Z",
     "shell.execute_reply": "2021-10-13T08:13:58.582488Z"
    }
   },
   "outputs": [
    {
     "name": "stdout",
     "output_type": "stream",
     "text": [
      "Recent query happens at 2021-10-13 16:13:54 (CST).\n"
     ]
    }
   ],
   "source": [
    "def ts2dt(ts, format=DATETIME_FORMAT):\r\n",
    "    dt = (datetime.utcfromtimestamp(int(ts))\r\n",
    "                    .replace(tzinfo=tz.tzutc())\r\n",
    "                    # .astimezone(tz.tzlocal())\r\n",
    "                    .astimezone(tz.gettz(TIME_ZONE)))\r\n",
    "    return dt.strftime(format), dt\r\n",
    "\r\n",
    "_, newest_dt = ts2dt(newest_ts)\r\n",
    "print(f\"Recent query happens at {newest_dt.strftime(DATETIME_FORMAT)} ({newest_dt.tzname()}).\")"
   ]
  },
  {
   "cell_type": "code",
   "execution_count": 4,
   "metadata": {
    "execution": {
     "iopub.execute_input": "2021-10-13T08:13:58.588102Z",
     "iopub.status.busy": "2021-10-13T08:13:58.586830Z",
     "iopub.status.idle": "2021-10-13T08:13:58.588689Z",
     "shell.execute_reply": "2021-10-13T08:13:58.589129Z"
    }
   },
   "outputs": [],
   "source": [
    "def degrees_to_cardinal(d):\r\n",
    "  dirs = ['N', 'NNE', 'NE', 'ENE', 'E', 'ESE', 'SE', 'SSE', 'S', 'SSW', 'SW', 'WSW', 'W', 'WNW', 'NW', 'NNW']\r\n",
    "  ix = int(round(d / (360. / len(dirs))))\r\n",
    "  return dirs[ix % len(dirs)]"
   ]
  },
  {
   "cell_type": "code",
   "execution_count": 5,
   "metadata": {
    "execution": {
     "iopub.execute_input": "2021-10-13T08:13:58.593699Z",
     "iopub.status.busy": "2021-10-13T08:13:58.592275Z",
     "iopub.status.idle": "2021-10-13T08:13:58.594330Z",
     "shell.execute_reply": "2021-10-13T08:13:58.595123Z"
    }
   },
   "outputs": [],
   "source": [
    "# data.keys()"
   ]
  },
  {
   "cell_type": "code",
   "execution_count": 6,
   "metadata": {
    "execution": {
     "iopub.execute_input": "2021-10-13T08:13:58.599262Z",
     "iopub.status.busy": "2021-10-13T08:13:58.598035Z",
     "iopub.status.idle": "2021-10-13T08:13:58.599872Z",
     "shell.execute_reply": "2021-10-13T08:13:58.600313Z"
    }
   },
   "outputs": [],
   "source": [
    "# data['current']"
   ]
  },
  {
   "cell_type": "code",
   "execution_count": 7,
   "metadata": {
    "execution": {
     "iopub.execute_input": "2021-10-13T08:13:58.619732Z",
     "iopub.status.busy": "2021-10-13T08:13:58.619087Z",
     "iopub.status.idle": "2021-10-13T08:13:58.900654Z",
     "shell.execute_reply": "2021-10-13T08:13:58.901427Z"
    }
   },
   "outputs": [
    {
     "data": {
      "image/png": "[encoded data removed]",
      "text/plain": [
       "<Figure size 216x216 with 1 Axes>"
      ]
     },
     "metadata": {
      "needs_background": "light"
     },
     "output_type": "display_data"
    },
    {
     "name": "stdout",
     "output_type": "stream",
     "text": [
      "Today, sun rises at 06:18 and sets at 17:59.\n",
      "Currently, the weather is Rain (light rain).\n",
      "The temperature is 24.77°C and it feels like 25.78°C.\n",
      "The UV index is 0.35, humidity is 95%.\n",
      "The pressure is 1002 hPa, percentage of cloud cover is 100%\n",
      "The wind comes from WNW direction with a speed 0.45 m/s.\n"
     ]
    }
   ],
   "source": [
    "current = data['current']\r\n",
    "\r\n",
    "fig, ax = plt.subplots(figsize=(3, 3))\r\n",
    "icon = requests.get(f\"http://openweathermap.org/img/wn/{current['weather'][0]['icon']}@2x.png\")\r\n",
    "im = Image.open(BytesIO(icon.content))\r\n",
    "plt.imshow(im)\r\n",
    "ax.set_axis_off()\r\n",
    "plt.show()\r\n",
    "\r\n",
    "print(f\"Today, sun rises at {ts2dt(current['sunrise'], '%H:%M')[0]} \\\r\n",
    "and sets at {ts2dt(current['sunset'], '%H:%M')[0]}.\\n\\\r\n",
    "Currently, the weather is {current['weather'][0]['main']} ({current['weather'][0]['description']}).\\n\\\r\n",
    "The temperature is {current['temp']}°C and it feels like {current['feels_like']}°C.\\n\\\r\n",
    "The UV index is {current['uvi']}, humidity is {current['humidity']}%.\\n\\\r\n",
    "The pressure is {current['pressure']} hPa, percentage of cloud cover is {current['clouds']}%\\n\\\r\n",
    "The wind comes from {degrees_to_cardinal(current['wind_deg'])} direction with a speed {current['wind_speed']} m/s.\")"
   ]
  },
  {
   "cell_type": "code",
   "execution_count": 8,
   "metadata": {
    "execution": {
     "iopub.execute_input": "2021-10-13T08:13:58.909551Z",
     "iopub.status.busy": "2021-10-13T08:13:58.907526Z",
     "iopub.status.idle": "2021-10-13T08:13:58.913329Z",
     "shell.execute_reply": "2021-10-13T08:13:58.912873Z"
    }
   },
   "outputs": [],
   "source": [
    "df_hourly = pd.DataFrame(data['hourly'])\r\n",
    "df_daily = pd.DataFrame(data['daily'])"
   ]
  },
  {
   "cell_type": "code",
   "execution_count": 9,
   "metadata": {
    "execution": {
     "iopub.execute_input": "2021-10-13T08:13:58.933406Z",
     "iopub.status.busy": "2021-10-13T08:13:58.915764Z",
     "iopub.status.idle": "2021-10-13T08:13:59.229942Z",
     "shell.execute_reply": "2021-10-13T08:13:59.230536Z"
    }
   },
   "outputs": [
    {
     "data": {
      "image/png": "[encoded data removed]",
      "text/plain": [
       "<Figure size 864x432 with 1 Axes>"
      ]
     },
     "metadata": {
      "needs_background": "light"
     },
     "output_type": "display_data"
    }
   ],
   "source": [
    "fig, ax = plt.subplots(figsize=(12, 6))\r\n",
    "plt.plot(df_hourly.temp, '.-', label='Temperature')\r\n",
    "plt.plot(df_hourly.feels_like, '.-', label='Feels Like')\r\n",
    "ax.set(title='Temperature in future 48 hours', xlabel='Time', ylabel='Temperature')\r\n",
    "ax.set_xticks(list(range(0, len(df_hourly), 2)))\r\n",
    "ax.set_xticklabels([ts2dt(ts, '%m-%d %H:%M')[0] for i, ts in enumerate(df_hourly.dt) if i%2==0], \r\n",
    "                   rotation=45, ha=\"right\")\r\n",
    "ax.locator_params(nbins=15, axis='y')\r\n",
    "plt.legend()\r\n",
    "plt.show()"
   ]
  },
  {
   "cell_type": "code",
   "execution_count": 10,
   "metadata": {
    "execution": {
     "iopub.execute_input": "2021-10-13T08:13:59.235892Z",
     "iopub.status.busy": "2021-10-13T08:13:59.235267Z",
     "iopub.status.idle": "2021-10-13T08:13:59.257009Z",
     "shell.execute_reply": "2021-10-13T08:13:59.257453Z"
    }
   },
   "outputs": [
    {
     "data": {
      "text/html": [
       "<div>\n",
       "<style scoped>\n",
       "    .dataframe tbody tr th:only-of-type {\n",
       "        vertical-align: middle;\n",
       "    }\n",
       "\n",
       "    .dataframe tbody tr th {\n",
       "        vertical-align: top;\n",
       "    }\n",
       "\n",
       "    .dataframe thead th {\n",
       "        text-align: right;\n",
       "    }\n",
       "</style>\n",
       "<table border=\"1\" class=\"dataframe\">\n",
       "  <thead>\n",
       "    <tr style=\"text-align: right;\">\n",
       "      <th></th>\n",
       "      <th>dt</th>\n",
       "      <th>temp</th>\n",
       "      <th>feels_like</th>\n",
       "      <th>pressure</th>\n",
       "      <th>humidity</th>\n",
       "      <th>dew_point</th>\n",
       "      <th>uvi</th>\n",
       "      <th>clouds</th>\n",
       "      <th>visibility</th>\n",
       "      <th>wind_speed</th>\n",
       "      <th>wind_deg</th>\n",
       "      <th>wind_gust</th>\n",
       "      <th>weather</th>\n",
       "      <th>pop</th>\n",
       "      <th>rain</th>\n",
       "    </tr>\n",
       "  </thead>\n",
       "  <tbody>\n",
       "    <tr>\n",
       "      <th>0</th>\n",
       "      <td>1634112000</td>\n",
       "      <td>24.77</td>\n",
       "      <td>25.78</td>\n",
       "      <td>1002</td>\n",
       "      <td>95</td>\n",
       "      <td>23.91</td>\n",
       "      <td>0.35</td>\n",
       "      <td>100</td>\n",
       "      <td>10000</td>\n",
       "      <td>10.74</td>\n",
       "      <td>94</td>\n",
       "      <td>14.73</td>\n",
       "      <td>[{'id': 500, 'main': 'Rain', 'description': 'l...</td>\n",
       "      <td>1.0</td>\n",
       "      <td>{'1h': 0.87}</td>\n",
       "    </tr>\n",
       "    <tr>\n",
       "      <th>1</th>\n",
       "      <td>1634115600</td>\n",
       "      <td>25.09</td>\n",
       "      <td>26.08</td>\n",
       "      <td>1002</td>\n",
       "      <td>93</td>\n",
       "      <td>23.88</td>\n",
       "      <td>0.10</td>\n",
       "      <td>100</td>\n",
       "      <td>10000</td>\n",
       "      <td>10.64</td>\n",
       "      <td>90</td>\n",
       "      <td>13.95</td>\n",
       "      <td>[{'id': 501, 'main': 'Rain', 'description': 'm...</td>\n",
       "      <td>1.0</td>\n",
       "      <td>{'1h': 3.16}</td>\n",
       "    </tr>\n",
       "    <tr>\n",
       "      <th>2</th>\n",
       "      <td>1634119200</td>\n",
       "      <td>25.39</td>\n",
       "      <td>26.36</td>\n",
       "      <td>1003</td>\n",
       "      <td>91</td>\n",
       "      <td>23.81</td>\n",
       "      <td>0.00</td>\n",
       "      <td>100</td>\n",
       "      <td>10000</td>\n",
       "      <td>10.39</td>\n",
       "      <td>90</td>\n",
       "      <td>13.52</td>\n",
       "      <td>[{'id': 501, 'main': 'Rain', 'description': 'm...</td>\n",
       "      <td>1.0</td>\n",
       "      <td>{'1h': 1.15}</td>\n",
       "    </tr>\n",
       "    <tr>\n",
       "      <th>3</th>\n",
       "      <td>1634122800</td>\n",
       "      <td>25.59</td>\n",
       "      <td>26.53</td>\n",
       "      <td>1004</td>\n",
       "      <td>89</td>\n",
       "      <td>23.64</td>\n",
       "      <td>0.00</td>\n",
       "      <td>99</td>\n",
       "      <td>10000</td>\n",
       "      <td>10.52</td>\n",
       "      <td>83</td>\n",
       "      <td>14.13</td>\n",
       "      <td>[{'id': 500, 'main': 'Rain', 'description': 'l...</td>\n",
       "      <td>1.0</td>\n",
       "      <td>{'1h': 0.86}</td>\n",
       "    </tr>\n",
       "    <tr>\n",
       "      <th>4</th>\n",
       "      <td>1634126400</td>\n",
       "      <td>25.84</td>\n",
       "      <td>26.75</td>\n",
       "      <td>1006</td>\n",
       "      <td>87</td>\n",
       "      <td>23.51</td>\n",
       "      <td>0.00</td>\n",
       "      <td>100</td>\n",
       "      <td>9303</td>\n",
       "      <td>10.98</td>\n",
       "      <td>80</td>\n",
       "      <td>14.34</td>\n",
       "      <td>[{'id': 500, 'main': 'Rain', 'description': 'l...</td>\n",
       "      <td>1.0</td>\n",
       "      <td>{'1h': 0.62}</td>\n",
       "    </tr>\n",
       "  </tbody>\n",
       "</table>\n",
       "</div>"
      ],
      "text/plain": [
       "           dt   temp  feels_like  pressure  humidity  dew_point   uvi  clouds  \\\n",
       "0  1634112000  24.77       25.78      1002        95      23.91  0.35     100   \n",
       "1  1634115600  25.09       26.08      1002        93      23.88  0.10     100   \n",
       "2  1634119200  25.39       26.36      1003        91      23.81  0.00     100   \n",
       "3  1634122800  25.59       26.53      1004        89      23.64  0.00      99   \n",
       "4  1634126400  25.84       26.75      1006        87      23.51  0.00     100   \n",
       "\n",
       "   visibility  wind_speed  wind_deg  wind_gust  \\\n",
       "0       10000       10.74        94      14.73   \n",
       "1       10000       10.64        90      13.95   \n",
       "2       10000       10.39        90      13.52   \n",
       "3       10000       10.52        83      14.13   \n",
       "4        9303       10.98        80      14.34   \n",
       "\n",
       "                                             weather  pop          rain  \n",
       "0  [{'id': 500, 'main': 'Rain', 'description': 'l...  1.0  {'1h': 0.87}  \n",
       "1  [{'id': 501, 'main': 'Rain', 'description': 'm...  1.0  {'1h': 3.16}  \n",
       "2  [{'id': 501, 'main': 'Rain', 'description': 'm...  1.0  {'1h': 1.15}  \n",
       "3  [{'id': 500, 'main': 'Rain', 'description': 'l...  1.0  {'1h': 0.86}  \n",
       "4  [{'id': 500, 'main': 'Rain', 'description': 'l...  1.0  {'1h': 0.62}  "
      ]
     },
     "execution_count": 10,
     "metadata": {},
     "output_type": "execute_result"
    }
   ],
   "source": [
    "df_hourly.head()"
   ]
  },
  {
   "cell_type": "code",
   "execution_count": null,
   "metadata": {},
   "outputs": [],
   "source": []
  }
 ],
 "metadata": {
  "interpreter": {
   "hash": "c1b4cfe941b6d2466ad1fb5979e97da9cda8801728c8091b097ab734208fc00c"
  },
  "kernelspec": {
   "display_name": "Python 3.8.3 64-bit ('base': conda)",
   "name": "python3"
  },
  "language_info": {
   "codemirror_mode": {
    "name": "ipython",
    "version": 3
   },
   "file_extension": ".py",
   "mimetype": "text/x-python",
   "name": "python",
   "nbconvert_exporter": "python",
   "pygments_lexer": "ipython3",
   "version": "3.8.12"
  }
 },
 "nbformat": 4,
 "nbformat_minor": 2
}
