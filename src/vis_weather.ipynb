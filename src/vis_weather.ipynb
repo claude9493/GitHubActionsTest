{
 "cells": [
  {
   "cell_type": "code",
   "execution_count": 1,
   "metadata": {
    "execution": {
     "iopub.execute_input": "2021-10-12T22:11:49.186446Z",
     "iopub.status.busy": "2021-10-12T22:11:49.185735Z",
     "iopub.status.idle": "2021-10-12T22:11:50.706164Z",
     "shell.execute_reply": "2021-10-12T22:11:50.706945Z"
    }
   },
   "outputs": [],
   "source": [
    "import json, yaml, requests\r\n",
    "from datetime import datetime\r\n",
    "from dateutil import tz\r\n",
    "import pandas as pd\r\n",
    "from PIL import Image\r\n",
    "from io import BytesIO\r\n",
    "import matplotlib.pyplot as plt\r\n",
    "import seaborn\r\n",
    "\r\n",
    "CONFIG_PATH = \"../config/config.yaml\""
   ]
  },
  {
   "cell_type": "code",
   "execution_count": 2,
   "metadata": {
    "execution": {
     "iopub.execute_input": "2021-10-12T22:11:50.712910Z",
     "iopub.status.busy": "2021-10-12T22:11:50.712300Z",
     "iopub.status.idle": "2021-10-12T22:11:50.719319Z",
     "shell.execute_reply": "2021-10-12T22:11:50.718816Z"
    }
   },
   "outputs": [],
   "source": [
    "with open('../newest_ts', 'r') as f:\r\n",
    "    newest_ts = f.read()\r\n",
    "\r\n",
    "data_path = f\"../data/data_{newest_ts}.json\"\r\n",
    "with open(data_path, 'r') as f:\r\n",
    "    data = json.load(f)\r\n",
    "\r\n",
    "with open(CONFIG_PATH, \"r\") as stream:\r\n",
    "    config = yaml.safe_load(stream)\r\n",
    "\r\n",
    "TIME_ZONE = config['time_zone']\r\n",
    "DATETIME_FORMAT = config['dt_format']"
   ]
  },
  {
   "cell_type": "code",
   "execution_count": 3,
   "metadata": {
    "execution": {
     "iopub.execute_input": "2021-10-12T22:11:50.724470Z",
     "iopub.status.busy": "2021-10-12T22:11:50.723875Z",
     "iopub.status.idle": "2021-10-12T22:11:50.737736Z",
     "shell.execute_reply": "2021-10-12T22:11:50.737187Z"
    }
   },
   "outputs": [
    {
     "name": "stdout",
     "output_type": "stream",
     "text": [
      "Recent query happens at 2021-10-13 06:11:45 (CST).\n"
     ]
    }
   ],
   "source": [
    "def ts2dt(ts, format=DATETIME_FORMAT):\r\n",
    "    dt = (datetime.utcfromtimestamp(int(ts))\r\n",
    "                    .replace(tzinfo=tz.tzutc())\r\n",
    "                    # .astimezone(tz.tzlocal())\r\n",
    "                    .astimezone(tz.gettz(TIME_ZONE)))\r\n",
    "    return dt.strftime(format), dt\r\n",
    "\r\n",
    "_, newest_dt = ts2dt(newest_ts)\r\n",
    "print(f\"Recent query happens at {newest_dt.strftime(DATETIME_FORMAT)} ({newest_dt.tzname()}).\")"
   ]
  },
  {
   "cell_type": "code",
   "execution_count": 4,
   "metadata": {
    "execution": {
     "iopub.execute_input": "2021-10-12T22:11:50.740889Z",
     "iopub.status.busy": "2021-10-12T22:11:50.740284Z",
     "iopub.status.idle": "2021-10-12T22:11:50.745859Z",
     "shell.execute_reply": "2021-10-12T22:11:50.745360Z"
    }
   },
   "outputs": [],
   "source": [
    "def degrees_to_cardinal(d):\r\n",
    "  dirs = ['N', 'NNE', 'NE', 'ENE', 'E', 'ESE', 'SE', 'SSE', 'S', 'SSW', 'SW', 'WSW', 'W', 'WNW', 'NW', 'NNW']\r\n",
    "  ix = int(round(d / (360. / len(dirs))))\r\n",
    "  return dirs[ix % len(dirs)]"
   ]
  },
  {
   "cell_type": "code",
   "execution_count": 5,
   "metadata": {
    "execution": {
     "iopub.execute_input": "2021-10-12T22:11:50.751152Z",
     "iopub.status.busy": "2021-10-12T22:11:50.749555Z",
     "iopub.status.idle": "2021-10-12T22:11:50.751801Z",
     "shell.execute_reply": "2021-10-12T22:11:50.752288Z"
    }
   },
   "outputs": [],
   "source": [
    "# data.keys()"
   ]
  },
  {
   "cell_type": "code",
   "execution_count": 6,
   "metadata": {
    "execution": {
     "iopub.execute_input": "2021-10-12T22:11:50.756970Z",
     "iopub.status.busy": "2021-10-12T22:11:50.755659Z",
     "iopub.status.idle": "2021-10-12T22:11:50.757656Z",
     "shell.execute_reply": "2021-10-12T22:11:50.758147Z"
    }
   },
   "outputs": [],
   "source": [
    "# data['current']"
   ]
  },
  {
   "cell_type": "code",
   "execution_count": 7,
   "metadata": {
    "execution": {
     "iopub.execute_input": "2021-10-12T22:11:50.780579Z",
     "iopub.status.busy": "2021-10-12T22:11:50.779825Z",
     "iopub.status.idle": "2021-10-12T22:11:51.199469Z",
     "shell.execute_reply": "2021-10-12T22:11:51.200066Z"
    }
   },
   "outputs": [
    {
     "data": {
      "image/png": "[encoded data removed]",
      "text/plain": [
       "<Figure size 216x216 with 1 Axes>"
      ]
     },
     "metadata": {
      "needs_background": "light"
     },
     "output_type": "display_data"
    },
    {
     "name": "stdout",
     "output_type": "stream",
     "text": [
      "Today, sun rises at 06:18 and sets at 17:59.\n",
      "Currently, the weather is Rain (moderate rain).\n",
      "The temperature is 23.35°C and it feels like 24.14°C.\n",
      "The UV index is 0, humidity is 92%.\n",
      "The pressure is 1011 hPa, percentage of cloud cover is 100%\n",
      "The wind comes from NNE direction with a speed 10.73 m/s.\n"
     ]
    }
   ],
   "source": [
    "current = data['current']\r\n",
    "\r\n",
    "fig, ax = plt.subplots(figsize=(3, 3))\r\n",
    "icon = requests.get(f\"http://openweathermap.org/img/wn/{current['weather'][0]['icon']}@2x.png\")\r\n",
    "im = Image.open(BytesIO(icon.content))\r\n",
    "plt.imshow(im)\r\n",
    "ax.set_axis_off()\r\n",
    "plt.show()\r\n",
    "\r\n",
    "print(f\"Today, sun rises at {ts2dt(current['sunrise'], '%H:%M')[0]} \\\r\n",
    "and sets at {ts2dt(current['sunset'], '%H:%M')[0]}.\\n\\\r\n",
    "Currently, the weather is {current['weather'][0]['main']} ({current['weather'][0]['description']}).\\n\\\r\n",
    "The temperature is {current['temp']}°C and it feels like {current['feels_like']}°C.\\n\\\r\n",
    "The UV index is {current['uvi']}, humidity is {current['humidity']}%.\\n\\\r\n",
    "The pressure is {current['pressure']} hPa, percentage of cloud cover is {current['clouds']}%\\n\\\r\n",
    "The wind comes from {degrees_to_cardinal(current['wind_deg'])} direction with a speed {current['wind_speed']} m/s.\")"
   ]
  },
  {
   "cell_type": "code",
   "execution_count": 8,
   "metadata": {
    "execution": {
     "iopub.execute_input": "2021-10-12T22:11:51.203242Z",
     "iopub.status.busy": "2021-10-12T22:11:51.202651Z",
     "iopub.status.idle": "2021-10-12T22:11:51.209216Z",
     "shell.execute_reply": "2021-10-12T22:11:51.209902Z"
    }
   },
   "outputs": [],
   "source": [
    "df_hourly = pd.DataFrame(data['hourly'])\r\n",
    "df_daily = pd.DataFrame(data['daily'])"
   ]
  },
  {
   "cell_type": "code",
   "execution_count": 9,
   "metadata": {
    "execution": {
     "iopub.execute_input": "2021-10-12T22:11:51.212686Z",
     "iopub.status.busy": "2021-10-12T22:11:51.212083Z",
     "iopub.status.idle": "2021-10-12T22:11:51.532206Z",
     "shell.execute_reply": "2021-10-12T22:11:51.532715Z"
    }
   },
   "outputs": [
    {
     "data": {
      "image/png": "[encoded data removed]",
      "text/plain": [
       "<Figure size 864x432 with 1 Axes>"
      ]
     },
     "metadata": {
      "needs_background": "light"
     },
     "output_type": "display_data"
    }
   ],
   "source": [
    "fig, ax = plt.subplots(figsize=(12, 6))\r\n",
    "plt.plot(df_hourly.temp, '.-', label='Temperature')\r\n",
    "plt.plot(df_hourly.feels_like, '.-', label='Feels Like')\r\n",
    "ax.set(title='Temperature in future 48 hours', xlabel='Time', ylabel='Temperature')\r\n",
    "ax.set_xticks(list(range(0, len(df_hourly), 2)))\r\n",
    "ax.set_xticklabels([ts2dt(ts, '%m-%d %H:%M')[0] for i, ts in enumerate(df_hourly.dt) if i%2==0], \r\n",
    "                   rotation=45, ha=\"right\")\r\n",
    "ax.locator_params(nbins=15, axis='y')\r\n",
    "plt.legend()\r\n",
    "plt.show()"
   ]
  },
  {
   "cell_type": "code",
   "execution_count": 10,
   "metadata": {
    "execution": {
     "iopub.execute_input": "2021-10-12T22:11:51.546768Z",
     "iopub.status.busy": "2021-10-12T22:11:51.537107Z",
     "iopub.status.idle": "2021-10-12T22:11:51.559875Z",
     "shell.execute_reply": "2021-10-12T22:11:51.560377Z"
    }
   },
   "outputs": [
    {
     "data": {
      "text/html": [
       "<div>\n",
       "<style scoped>\n",
       "    .dataframe tbody tr th:only-of-type {\n",
       "        vertical-align: middle;\n",
       "    }\n",
       "\n",
       "    .dataframe tbody tr th {\n",
       "        vertical-align: top;\n",
       "    }\n",
       "\n",
       "    .dataframe thead th {\n",
       "        text-align: right;\n",
       "    }\n",
       "</style>\n",
       "<table border=\"1\" class=\"dataframe\">\n",
       "  <thead>\n",
       "    <tr style=\"text-align: right;\">\n",
       "      <th></th>\n",
       "      <th>dt</th>\n",
       "      <th>temp</th>\n",
       "      <th>feels_like</th>\n",
       "      <th>pressure</th>\n",
       "      <th>humidity</th>\n",
       "      <th>dew_point</th>\n",
       "      <th>uvi</th>\n",
       "      <th>clouds</th>\n",
       "      <th>visibility</th>\n",
       "      <th>wind_speed</th>\n",
       "      <th>wind_deg</th>\n",
       "      <th>wind_gust</th>\n",
       "      <th>weather</th>\n",
       "      <th>pop</th>\n",
       "      <th>rain</th>\n",
       "    </tr>\n",
       "  </thead>\n",
       "  <tbody>\n",
       "    <tr>\n",
       "      <th>0</th>\n",
       "      <td>1634076000</td>\n",
       "      <td>23.35</td>\n",
       "      <td>24.14</td>\n",
       "      <td>1011</td>\n",
       "      <td>92</td>\n",
       "      <td>21.98</td>\n",
       "      <td>0.00</td>\n",
       "      <td>100</td>\n",
       "      <td>4371</td>\n",
       "      <td>15.09</td>\n",
       "      <td>50</td>\n",
       "      <td>24.59</td>\n",
       "      <td>[{'id': 501, 'main': 'Rain', 'description': 'm...</td>\n",
       "      <td>0.79</td>\n",
       "      <td>{'1h': 3.13}</td>\n",
       "    </tr>\n",
       "    <tr>\n",
       "      <th>1</th>\n",
       "      <td>1634079600</td>\n",
       "      <td>23.52</td>\n",
       "      <td>24.33</td>\n",
       "      <td>1009</td>\n",
       "      <td>92</td>\n",
       "      <td>22.14</td>\n",
       "      <td>0.00</td>\n",
       "      <td>100</td>\n",
       "      <td>2268</td>\n",
       "      <td>15.16</td>\n",
       "      <td>63</td>\n",
       "      <td>23.84</td>\n",
       "      <td>[{'id': 501, 'main': 'Rain', 'description': 'm...</td>\n",
       "      <td>0.83</td>\n",
       "      <td>{'1h': 2.05}</td>\n",
       "    </tr>\n",
       "    <tr>\n",
       "      <th>2</th>\n",
       "      <td>1634083200</td>\n",
       "      <td>24.01</td>\n",
       "      <td>24.89</td>\n",
       "      <td>1007</td>\n",
       "      <td>93</td>\n",
       "      <td>22.81</td>\n",
       "      <td>0.16</td>\n",
       "      <td>100</td>\n",
       "      <td>7126</td>\n",
       "      <td>13.76</td>\n",
       "      <td>79</td>\n",
       "      <td>20.53</td>\n",
       "      <td>[{'id': 500, 'main': 'Rain', 'description': 'l...</td>\n",
       "      <td>0.95</td>\n",
       "      <td>{'1h': 0.24}</td>\n",
       "    </tr>\n",
       "    <tr>\n",
       "      <th>3</th>\n",
       "      <td>1634086800</td>\n",
       "      <td>24.63</td>\n",
       "      <td>25.55</td>\n",
       "      <td>1006</td>\n",
       "      <td>92</td>\n",
       "      <td>23.24</td>\n",
       "      <td>0.14</td>\n",
       "      <td>100</td>\n",
       "      <td>6584</td>\n",
       "      <td>12.21</td>\n",
       "      <td>77</td>\n",
       "      <td>17.69</td>\n",
       "      <td>[{'id': 501, 'main': 'Rain', 'description': 'm...</td>\n",
       "      <td>0.99</td>\n",
       "      <td>{'1h': 2.43}</td>\n",
       "    </tr>\n",
       "    <tr>\n",
       "      <th>4</th>\n",
       "      <td>1634090400</td>\n",
       "      <td>25.33</td>\n",
       "      <td>26.29</td>\n",
       "      <td>1005</td>\n",
       "      <td>91</td>\n",
       "      <td>23.75</td>\n",
       "      <td>0.27</td>\n",
       "      <td>100</td>\n",
       "      <td>5930</td>\n",
       "      <td>12.33</td>\n",
       "      <td>82</td>\n",
       "      <td>18.11</td>\n",
       "      <td>[{'id': 501, 'main': 'Rain', 'description': 'm...</td>\n",
       "      <td>1.00</td>\n",
       "      <td>{'1h': 1.68}</td>\n",
       "    </tr>\n",
       "  </tbody>\n",
       "</table>\n",
       "</div>"
      ],
      "text/plain": [
       "           dt   temp  feels_like  pressure  humidity  dew_point   uvi  clouds  \\\n",
       "0  1634076000  23.35       24.14      1011        92      21.98  0.00     100   \n",
       "1  1634079600  23.52       24.33      1009        92      22.14  0.00     100   \n",
       "2  1634083200  24.01       24.89      1007        93      22.81  0.16     100   \n",
       "3  1634086800  24.63       25.55      1006        92      23.24  0.14     100   \n",
       "4  1634090400  25.33       26.29      1005        91      23.75  0.27     100   \n",
       "\n",
       "   visibility  wind_speed  wind_deg  wind_gust  \\\n",
       "0        4371       15.09        50      24.59   \n",
       "1        2268       15.16        63      23.84   \n",
       "2        7126       13.76        79      20.53   \n",
       "3        6584       12.21        77      17.69   \n",
       "4        5930       12.33        82      18.11   \n",
       "\n",
       "                                             weather   pop          rain  \n",
       "0  [{'id': 501, 'main': 'Rain', 'description': 'm...  0.79  {'1h': 3.13}  \n",
       "1  [{'id': 501, 'main': 'Rain', 'description': 'm...  0.83  {'1h': 2.05}  \n",
       "2  [{'id': 500, 'main': 'Rain', 'description': 'l...  0.95  {'1h': 0.24}  \n",
       "3  [{'id': 501, 'main': 'Rain', 'description': 'm...  0.99  {'1h': 2.43}  \n",
       "4  [{'id': 501, 'main': 'Rain', 'description': 'm...  1.00  {'1h': 1.68}  "
      ]
     },
     "execution_count": 10,
     "metadata": {},
     "output_type": "execute_result"
    }
   ],
   "source": [
    "df_hourly.head()"
   ]
  },
  {
   "cell_type": "code",
   "execution_count": null,
   "metadata": {},
   "outputs": [],
   "source": []
  }
 ],
 "metadata": {
  "interpreter": {
   "hash": "c1b4cfe941b6d2466ad1fb5979e97da9cda8801728c8091b097ab734208fc00c"
  },
  "kernelspec": {
   "display_name": "Python 3.8.3 64-bit ('base': conda)",
   "name": "python3"
  },
  "language_info": {
   "codemirror_mode": {
    "name": "ipython",
    "version": 3
   },
   "file_extension": ".py",
   "mimetype": "text/x-python",
   "name": "python",
   "nbconvert_exporter": "python",
   "pygments_lexer": "ipython3",
   "version": "3.8.12"
  }
 },
 "nbformat": 4,
 "nbformat_minor": 2
}
