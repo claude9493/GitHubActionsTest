{
 "cells": [
  {
   "cell_type": "code",
   "execution_count": 1,
   "metadata": {
    "execution": {
     "iopub.execute_input": "2021-10-25T04:15:14.262431Z",
     "iopub.status.busy": "2021-10-25T04:15:14.261770Z",
     "iopub.status.idle": "2021-10-25T04:15:17.283355Z",
     "shell.execute_reply": "2021-10-25T04:15:17.282156Z"
    }
   },
   "outputs": [],
   "source": [
    "import json, yaml, requests\r\n",
    "from datetime import datetime\r\n",
    "from dateutil import tz\r\n",
    "import pandas as pd\r\n",
    "from PIL import Image\r\n",
    "from io import BytesIO\r\n",
    "import matplotlib.pyplot as plt\r\n",
    "import seaborn\r\n",
    "\r\n",
    "CONFIG_PATH = \"../config/config.yaml\""
   ]
  },
  {
   "cell_type": "code",
   "execution_count": 2,
   "metadata": {
    "execution": {
     "iopub.execute_input": "2021-10-25T04:15:17.287248Z",
     "iopub.status.busy": "2021-10-25T04:15:17.286416Z",
     "iopub.status.idle": "2021-10-25T04:15:17.294636Z",
     "shell.execute_reply": "2021-10-25T04:15:17.295142Z"
    }
   },
   "outputs": [],
   "source": [
    "with open('../newest_ts', 'r') as f:\r\n",
    "    newest_ts = f.read()\r\n",
    "\r\n",
    "data_path = f\"../data/data_{newest_ts}.json\"\r\n",
    "with open(data_path, 'r') as f:\r\n",
    "    data = json.load(f)\r\n",
    "\r\n",
    "with open(CONFIG_PATH, \"r\") as stream:\r\n",
    "    config = yaml.safe_load(stream)\r\n",
    "\r\n",
    "TIME_ZONE = config['time_zone']\r\n",
    "DATETIME_FORMAT = config['dt_format']"
   ]
  },
  {
   "cell_type": "code",
   "execution_count": 3,
   "metadata": {
    "execution": {
     "iopub.execute_input": "2021-10-25T04:15:17.300863Z",
     "iopub.status.busy": "2021-10-25T04:15:17.300248Z",
     "iopub.status.idle": "2021-10-25T04:15:17.312645Z",
     "shell.execute_reply": "2021-10-25T04:15:17.313148Z"
    }
   },
   "outputs": [
    {
     "name": "stdout",
     "output_type": "stream",
     "text": [
      "Recent query happens at 2021-10-25 12:15:11 (CST).\n"
     ]
    }
   ],
   "source": [
    "def ts2dt(ts, format=DATETIME_FORMAT):\r\n",
    "    dt = (datetime.utcfromtimestamp(int(ts))\r\n",
    "                    .replace(tzinfo=tz.tzutc())\r\n",
    "                    # .astimezone(tz.tzlocal())\r\n",
    "                    .astimezone(tz.gettz(TIME_ZONE)))\r\n",
    "    return dt.strftime(format), dt\r\n",
    "\r\n",
    "_, newest_dt = ts2dt(newest_ts)\r\n",
    "print(f\"Recent query happens at {newest_dt.strftime(DATETIME_FORMAT)} ({newest_dt.tzname()}).\")"
   ]
  },
  {
   "cell_type": "code",
   "execution_count": 4,
   "metadata": {
    "execution": {
     "iopub.execute_input": "2021-10-25T04:15:17.319746Z",
     "iopub.status.busy": "2021-10-25T04:15:17.318248Z",
     "iopub.status.idle": "2021-10-25T04:15:17.320405Z",
     "shell.execute_reply": "2021-10-25T04:15:17.320875Z"
    }
   },
   "outputs": [],
   "source": [
    "def degrees_to_cardinal(d):\r\n",
    "  dirs = ['N', 'NNE', 'NE', 'ENE', 'E', 'ESE', 'SE', 'SSE', 'S', 'SSW', 'SW', 'WSW', 'W', 'WNW', 'NW', 'NNW']\r\n",
    "  ix = int(round(d / (360. / len(dirs))))\r\n",
    "  return dirs[ix % len(dirs)]"
   ]
  },
  {
   "cell_type": "code",
   "execution_count": 5,
   "metadata": {
    "execution": {
     "iopub.execute_input": "2021-10-25T04:15:17.326233Z",
     "iopub.status.busy": "2021-10-25T04:15:17.324599Z",
     "iopub.status.idle": "2021-10-25T04:15:17.326866Z",
     "shell.execute_reply": "2021-10-25T04:15:17.327334Z"
    }
   },
   "outputs": [],
   "source": [
    "# data.keys()"
   ]
  },
  {
   "cell_type": "code",
   "execution_count": 6,
   "metadata": {
    "execution": {
     "iopub.execute_input": "2021-10-25T04:15:17.332501Z",
     "iopub.status.busy": "2021-10-25T04:15:17.330789Z",
     "iopub.status.idle": "2021-10-25T04:15:17.333333Z",
     "shell.execute_reply": "2021-10-25T04:15:17.333853Z"
    }
   },
   "outputs": [],
   "source": [
    "# data['current']"
   ]
  },
  {
   "cell_type": "code",
   "execution_count": 7,
   "metadata": {
    "execution": {
     "iopub.execute_input": "2021-10-25T04:15:17.355964Z",
     "iopub.status.busy": "2021-10-25T04:15:17.355263Z",
     "iopub.status.idle": "2021-10-25T04:15:17.767389Z",
     "shell.execute_reply": "2021-10-25T04:15:17.767913Z"
    }
   },
   "outputs": [
    {
     "data": {
      "image/png": "[encoded data removed]",
      "text/plain": [
       "<Figure size 216x216 with 1 Axes>"
      ]
     },
     "metadata": {
      "needs_background": "light"
     },
     "output_type": "display_data"
    },
    {
     "name": "stdout",
     "output_type": "stream",
     "text": [
      "Today, sun rises at 06:23 and sets at 17:50.\n",
      "Currently, the weather is Clouds (broken clouds).\n",
      "The temperature is 24.32°C and it feels like 24.64°C.\n",
      "The UV index is 7.34, humidity is 70%.\n",
      "The pressure is 1017 hPa, percentage of cloud cover is 84%\n",
      "The wind comes from NW direction with a speed 4.02 m/s.\n"
     ]
    }
   ],
   "source": [
    "current = data['current']\r\n",
    "\r\n",
    "fig, ax = plt.subplots(figsize=(3, 3))\r\n",
    "icon = requests.get(f\"http://openweathermap.org/img/wn/{current['weather'][0]['icon']}@2x.png\")\r\n",
    "im = Image.open(BytesIO(icon.content))\r\n",
    "plt.imshow(im)\r\n",
    "ax.set_axis_off()\r\n",
    "plt.show()\r\n",
    "\r\n",
    "print(f\"Today, sun rises at {ts2dt(current['sunrise'], '%H:%M')[0]} \\\r\n",
    "and sets at {ts2dt(current['sunset'], '%H:%M')[0]}.\\n\\\r\n",
    "Currently, the weather is {current['weather'][0]['main']} ({current['weather'][0]['description']}).\\n\\\r\n",
    "The temperature is {current['temp']}°C and it feels like {current['feels_like']}°C.\\n\\\r\n",
    "The UV index is {current['uvi']}, humidity is {current['humidity']}%.\\n\\\r\n",
    "The pressure is {current['pressure']} hPa, percentage of cloud cover is {current['clouds']}%\\n\\\r\n",
    "The wind comes from {degrees_to_cardinal(current['wind_deg'])} direction with a speed {current['wind_speed']} m/s.\")"
   ]
  },
  {
   "cell_type": "code",
   "execution_count": 8,
   "metadata": {
    "execution": {
     "iopub.execute_input": "2021-10-25T04:15:17.776893Z",
     "iopub.status.busy": "2021-10-25T04:15:17.776262Z",
     "iopub.status.idle": "2021-10-25T04:15:17.779561Z",
     "shell.execute_reply": "2021-10-25T04:15:17.780557Z"
    }
   },
   "outputs": [],
   "source": [
    "df_hourly = pd.DataFrame(data['hourly'])\r\n",
    "df_daily = pd.DataFrame(data['daily'])"
   ]
  },
  {
   "cell_type": "code",
   "execution_count": 9,
   "metadata": {
    "execution": {
     "iopub.execute_input": "2021-10-25T04:15:17.784733Z",
     "iopub.status.busy": "2021-10-25T04:15:17.783442Z",
     "iopub.status.idle": "2021-10-25T04:15:18.198201Z",
     "shell.execute_reply": "2021-10-25T04:15:18.198702Z"
    }
   },
   "outputs": [
    {
     "data": {
      "image/png": "[encoded data removed]",
      "text/plain": [
       "<Figure size 864x432 with 1 Axes>"
      ]
     },
     "metadata": {
      "needs_background": "light"
     },
     "output_type": "display_data"
    }
   ],
   "source": [
    "fig, ax = plt.subplots(figsize=(12, 6))\r\n",
    "plt.plot(df_hourly.temp, '.-', label='Temperature')\r\n",
    "plt.plot(df_hourly.feels_like, '.-', label='Feels Like')\r\n",
    "ax.set(title='Temperature in future 48 hours', xlabel='Time', ylabel='Temperature')\r\n",
    "ax.set_xticks(list(range(0, len(df_hourly), 2)))\r\n",
    "ax.set_xticklabels([ts2dt(ts, '%m-%d %H:%M')[0] for i, ts in enumerate(df_hourly.dt) if i%2==0], \r\n",
    "                   rotation=45, ha=\"right\")\r\n",
    "ax.locator_params(nbins=15, axis='y')\r\n",
    "plt.legend()\r\n",
    "plt.show()"
   ]
  },
  {
   "cell_type": "code",
   "execution_count": 10,
   "metadata": {
    "execution": {
     "iopub.execute_input": "2021-10-25T04:15:18.204119Z",
     "iopub.status.busy": "2021-10-25T04:15:18.203436Z",
     "iopub.status.idle": "2021-10-25T04:15:18.225712Z",
     "shell.execute_reply": "2021-10-25T04:15:18.226211Z"
    }
   },
   "outputs": [
    {
     "data": {
      "text/html": [
       "<div>\n",
       "<style scoped>\n",
       "    .dataframe tbody tr th:only-of-type {\n",
       "        vertical-align: middle;\n",
       "    }\n",
       "\n",
       "    .dataframe tbody tr th {\n",
       "        vertical-align: top;\n",
       "    }\n",
       "\n",
       "    .dataframe thead th {\n",
       "        text-align: right;\n",
       "    }\n",
       "</style>\n",
       "<table border=\"1\" class=\"dataframe\">\n",
       "  <thead>\n",
       "    <tr style=\"text-align: right;\">\n",
       "      <th></th>\n",
       "      <th>dt</th>\n",
       "      <th>temp</th>\n",
       "      <th>feels_like</th>\n",
       "      <th>pressure</th>\n",
       "      <th>humidity</th>\n",
       "      <th>dew_point</th>\n",
       "      <th>uvi</th>\n",
       "      <th>clouds</th>\n",
       "      <th>visibility</th>\n",
       "      <th>wind_speed</th>\n",
       "      <th>wind_deg</th>\n",
       "      <th>wind_gust</th>\n",
       "      <th>weather</th>\n",
       "      <th>pop</th>\n",
       "      <th>rain</th>\n",
       "    </tr>\n",
       "  </thead>\n",
       "  <tbody>\n",
       "    <tr>\n",
       "      <th>0</th>\n",
       "      <td>1635134400</td>\n",
       "      <td>24.32</td>\n",
       "      <td>24.64</td>\n",
       "      <td>1017</td>\n",
       "      <td>70</td>\n",
       "      <td>18.50</td>\n",
       "      <td>7.34</td>\n",
       "      <td>84</td>\n",
       "      <td>10000</td>\n",
       "      <td>2.91</td>\n",
       "      <td>38</td>\n",
       "      <td>3.83</td>\n",
       "      <td>[{'id': 803, 'main': 'Clouds', 'description': ...</td>\n",
       "      <td>0.0</td>\n",
       "      <td>NaN</td>\n",
       "    </tr>\n",
       "    <tr>\n",
       "      <th>1</th>\n",
       "      <td>1635138000</td>\n",
       "      <td>24.24</td>\n",
       "      <td>24.47</td>\n",
       "      <td>1017</td>\n",
       "      <td>67</td>\n",
       "      <td>17.73</td>\n",
       "      <td>7.20</td>\n",
       "      <td>81</td>\n",
       "      <td>10000</td>\n",
       "      <td>3.28</td>\n",
       "      <td>58</td>\n",
       "      <td>4.05</td>\n",
       "      <td>[{'id': 500, 'main': 'Rain', 'description': 'l...</td>\n",
       "      <td>0.2</td>\n",
       "      <td>{'1h': 0.15}</td>\n",
       "    </tr>\n",
       "    <tr>\n",
       "      <th>2</th>\n",
       "      <td>1635141600</td>\n",
       "      <td>24.24</td>\n",
       "      <td>24.42</td>\n",
       "      <td>1016</td>\n",
       "      <td>65</td>\n",
       "      <td>17.25</td>\n",
       "      <td>5.78</td>\n",
       "      <td>75</td>\n",
       "      <td>10000</td>\n",
       "      <td>3.34</td>\n",
       "      <td>64</td>\n",
       "      <td>3.96</td>\n",
       "      <td>[{'id': 803, 'main': 'Clouds', 'description': ...</td>\n",
       "      <td>0.0</td>\n",
       "      <td>NaN</td>\n",
       "    </tr>\n",
       "    <tr>\n",
       "      <th>3</th>\n",
       "      <td>1635145200</td>\n",
       "      <td>24.25</td>\n",
       "      <td>24.38</td>\n",
       "      <td>1016</td>\n",
       "      <td>63</td>\n",
       "      <td>16.76</td>\n",
       "      <td>3.60</td>\n",
       "      <td>48</td>\n",
       "      <td>10000</td>\n",
       "      <td>3.41</td>\n",
       "      <td>64</td>\n",
       "      <td>3.99</td>\n",
       "      <td>[{'id': 802, 'main': 'Clouds', 'description': ...</td>\n",
       "      <td>0.0</td>\n",
       "      <td>NaN</td>\n",
       "    </tr>\n",
       "    <tr>\n",
       "      <th>4</th>\n",
       "      <td>1635148800</td>\n",
       "      <td>24.30</td>\n",
       "      <td>24.40</td>\n",
       "      <td>1015</td>\n",
       "      <td>62</td>\n",
       "      <td>16.56</td>\n",
       "      <td>1.65</td>\n",
       "      <td>34</td>\n",
       "      <td>10000</td>\n",
       "      <td>3.77</td>\n",
       "      <td>60</td>\n",
       "      <td>4.16</td>\n",
       "      <td>[{'id': 802, 'main': 'Clouds', 'description': ...</td>\n",
       "      <td>0.0</td>\n",
       "      <td>NaN</td>\n",
       "    </tr>\n",
       "  </tbody>\n",
       "</table>\n",
       "</div>"
      ],
      "text/plain": [
       "           dt   temp  feels_like  pressure  humidity  dew_point   uvi  clouds  \\\n",
       "0  1635134400  24.32       24.64      1017        70      18.50  7.34      84   \n",
       "1  1635138000  24.24       24.47      1017        67      17.73  7.20      81   \n",
       "2  1635141600  24.24       24.42      1016        65      17.25  5.78      75   \n",
       "3  1635145200  24.25       24.38      1016        63      16.76  3.60      48   \n",
       "4  1635148800  24.30       24.40      1015        62      16.56  1.65      34   \n",
       "\n",
       "   visibility  wind_speed  wind_deg  wind_gust  \\\n",
       "0       10000        2.91        38       3.83   \n",
       "1       10000        3.28        58       4.05   \n",
       "2       10000        3.34        64       3.96   \n",
       "3       10000        3.41        64       3.99   \n",
       "4       10000        3.77        60       4.16   \n",
       "\n",
       "                                             weather  pop          rain  \n",
       "0  [{'id': 803, 'main': 'Clouds', 'description': ...  0.0           NaN  \n",
       "1  [{'id': 500, 'main': 'Rain', 'description': 'l...  0.2  {'1h': 0.15}  \n",
       "2  [{'id': 803, 'main': 'Clouds', 'description': ...  0.0           NaN  \n",
       "3  [{'id': 802, 'main': 'Clouds', 'description': ...  0.0           NaN  \n",
       "4  [{'id': 802, 'main': 'Clouds', 'description': ...  0.0           NaN  "
      ]
     },
     "execution_count": 10,
     "metadata": {},
     "output_type": "execute_result"
    }
   ],
   "source": [
    "df_hourly.head()"
   ]
  },
  {
   "cell_type": "code",
   "execution_count": null,
   "metadata": {},
   "outputs": [],
   "source": []
  }
 ],
 "metadata": {
  "interpreter": {
   "hash": "c1b4cfe941b6d2466ad1fb5979e97da9cda8801728c8091b097ab734208fc00c"
  },
  "kernelspec": {
   "display_name": "Python 3.8.3 64-bit ('base': conda)",
   "name": "python3"
  },
  "language_info": {
   "codemirror_mode": {
    "name": "ipython",
    "version": 3
   },
   "file_extension": ".py",
   "mimetype": "text/x-python",
   "name": "python",
   "nbconvert_exporter": "python",
   "pygments_lexer": "ipython3",
   "version": "3.8.12"
  }
 },
 "nbformat": 4,
 "nbformat_minor": 2
}
