{
 "cells": [
  {
   "cell_type": "code",
   "execution_count": 1,
   "metadata": {
    "execution": {
     "iopub.execute_input": "2021-09-13T08:13:26.158646Z",
     "iopub.status.busy": "2021-09-13T08:13:26.157983Z",
     "iopub.status.idle": "2021-09-13T08:13:29.541719Z",
     "shell.execute_reply": "2021-09-13T08:13:29.541135Z"
    }
   },
   "outputs": [],
   "source": [
    "import json, yaml, requests\r\n",
    "from datetime import datetime\r\n",
    "from dateutil import tz\r\n",
    "import pandas as pd\r\n",
    "from PIL import Image\r\n",
    "from io import BytesIO\r\n",
    "import matplotlib.pyplot as plt\r\n",
    "import seaborn\r\n",
    "\r\n",
    "CONFIG_PATH = \"../config/config.yaml\""
   ]
  },
  {
   "cell_type": "code",
   "execution_count": 2,
   "metadata": {
    "execution": {
     "iopub.execute_input": "2021-09-13T08:13:29.549224Z",
     "iopub.status.busy": "2021-09-13T08:13:29.546462Z",
     "iopub.status.idle": "2021-09-13T08:13:29.551663Z",
     "shell.execute_reply": "2021-09-13T08:13:29.551297Z"
    }
   },
   "outputs": [],
   "source": [
    "with open('../newest_ts', 'r') as f:\r\n",
    "    newest_ts = f.read()\r\n",
    "\r\n",
    "data_path = f\"../data/data_{newest_ts}.json\"\r\n",
    "with open(data_path, 'r') as f:\r\n",
    "    data = json.load(f)\r\n",
    "\r\n",
    "with open(CONFIG_PATH, \"r\") as stream:\r\n",
    "    config = yaml.safe_load(stream)\r\n",
    "\r\n",
    "TIME_ZONE = config['time_zone']\r\n",
    "DATETIME_FORMAT = config['dt_format']"
   ]
  },
  {
   "cell_type": "code",
   "execution_count": 3,
   "metadata": {
    "execution": {
     "iopub.execute_input": "2021-09-13T08:13:29.556039Z",
     "iopub.status.busy": "2021-09-13T08:13:29.555331Z",
     "iopub.status.idle": "2021-09-13T08:13:29.559412Z",
     "shell.execute_reply": "2021-09-13T08:13:29.559777Z"
    }
   },
   "outputs": [
    {
     "name": "stdout",
     "output_type": "stream",
     "text": [
      "Recent query happens at 2021-09-13 16:13:23 (CST).\n"
     ]
    }
   ],
   "source": [
    "def ts2dt(ts, format=DATETIME_FORMAT):\r\n",
    "    dt = (datetime.utcfromtimestamp(int(ts))\r\n",
    "                    .replace(tzinfo=tz.tzutc())\r\n",
    "                    # .astimezone(tz.tzlocal())\r\n",
    "                    .astimezone(tz.gettz(TIME_ZONE)))\r\n",
    "    return dt.strftime(format), dt\r\n",
    "\r\n",
    "_, newest_dt = ts2dt(newest_ts)\r\n",
    "print(f\"Recent query happens at {newest_dt.strftime(DATETIME_FORMAT)} ({newest_dt.tzname()}).\")"
   ]
  },
  {
   "cell_type": "code",
   "execution_count": 4,
   "metadata": {
    "execution": {
     "iopub.execute_input": "2021-09-13T08:13:29.564611Z",
     "iopub.status.busy": "2021-09-13T08:13:29.563508Z",
     "iopub.status.idle": "2021-09-13T08:13:29.565125Z",
     "shell.execute_reply": "2021-09-13T08:13:29.565483Z"
    }
   },
   "outputs": [],
   "source": [
    "def degrees_to_cardinal(d):\r\n",
    "  dirs = ['N', 'NNE', 'NE', 'ENE', 'E', 'ESE', 'SE', 'SSE', 'S', 'SSW', 'SW', 'WSW', 'W', 'WNW', 'NW', 'NNW']\r\n",
    "  ix = int(round(d / (360. / len(dirs))))\r\n",
    "  return dirs[ix % len(dirs)]"
   ]
  },
  {
   "cell_type": "code",
   "execution_count": 5,
   "metadata": {
    "execution": {
     "iopub.execute_input": "2021-09-13T08:13:29.569158Z",
     "iopub.status.busy": "2021-09-13T08:13:29.568221Z",
     "iopub.status.idle": "2021-09-13T08:13:29.569669Z",
     "shell.execute_reply": "2021-09-13T08:13:29.570028Z"
    }
   },
   "outputs": [],
   "source": [
    "# data.keys()"
   ]
  },
  {
   "cell_type": "code",
   "execution_count": 6,
   "metadata": {
    "execution": {
     "iopub.execute_input": "2021-09-13T08:13:29.573487Z",
     "iopub.status.busy": "2021-09-13T08:13:29.572537Z",
     "iopub.status.idle": "2021-09-13T08:13:29.573998Z",
     "shell.execute_reply": "2021-09-13T08:13:29.574355Z"
    }
   },
   "outputs": [],
   "source": [
    "# data['current']"
   ]
  },
  {
   "cell_type": "code",
   "execution_count": 7,
   "metadata": {
    "execution": {
     "iopub.execute_input": "2021-09-13T08:13:29.590383Z",
     "iopub.status.busy": "2021-09-13T08:13:29.578969Z",
     "iopub.status.idle": "2021-09-13T08:13:29.917336Z",
     "shell.execute_reply": "2021-09-13T08:13:29.917990Z"
    }
   },
   "outputs": [
    {
     "data": {
      "image/png": "[encoded data removed]",
      "text/plain": [
       "<Figure size 216x216 with 1 Axes>"
      ]
     },
     "metadata": {
      "needs_background": "light"
     },
     "output_type": "display_data"
    },
    {
     "name": "stdout",
     "output_type": "stream",
     "text": [
      "Today, sun rises at 06:09 and sets at 18:29.\n",
      "Currently, the weather is Clouds (broken clouds).\n",
      "The temperature is 33.75°C and it feels like 40.75°C.\n",
      "The UV index is 3.04, humidity is 68%.\n",
      "The pressure is 1006 hPa, percentage of cloud cover is 63%\n",
      "The wind comes from SSW direction with a speed 3.72 m/s.\n"
     ]
    }
   ],
   "source": [
    "current = data['current']\r\n",
    "\r\n",
    "fig, ax = plt.subplots(figsize=(3, 3))\r\n",
    "icon = requests.get(f\"http://openweathermap.org/img/wn/{current['weather'][0]['icon']}@2x.png\")\r\n",
    "im = Image.open(BytesIO(icon.content))\r\n",
    "plt.imshow(im)\r\n",
    "ax.set_axis_off()\r\n",
    "plt.show()\r\n",
    "\r\n",
    "print(f\"Today, sun rises at {ts2dt(current['sunrise'], '%H:%M')[0]} \\\r\n",
    "and sets at {ts2dt(current['sunset'], '%H:%M')[0]}.\\n\\\r\n",
    "Currently, the weather is {current['weather'][0]['main']} ({current['weather'][0]['description']}).\\n\\\r\n",
    "The temperature is {current['temp']}°C and it feels like {current['feels_like']}°C.\\n\\\r\n",
    "The UV index is {current['uvi']}, humidity is {current['humidity']}%.\\n\\\r\n",
    "The pressure is {current['pressure']} hPa, percentage of cloud cover is {current['clouds']}%\\n\\\r\n",
    "The wind comes from {degrees_to_cardinal(current['wind_deg'])} direction with a speed {current['wind_speed']} m/s.\")"
   ]
  },
  {
   "cell_type": "code",
   "execution_count": 8,
   "metadata": {
    "execution": {
     "iopub.execute_input": "2021-09-13T08:13:29.920991Z",
     "iopub.status.busy": "2021-09-13T08:13:29.920540Z",
     "iopub.status.idle": "2021-09-13T08:13:29.926967Z",
     "shell.execute_reply": "2021-09-13T08:13:29.927598Z"
    }
   },
   "outputs": [],
   "source": [
    "df_hourly = pd.DataFrame(data['hourly'])\r\n",
    "df_daily = pd.DataFrame(data['daily'])"
   ]
  },
  {
   "cell_type": "code",
   "execution_count": 9,
   "metadata": {
    "execution": {
     "iopub.execute_input": "2021-09-13T08:13:29.930680Z",
     "iopub.status.busy": "2021-09-13T08:13:29.929750Z",
     "iopub.status.idle": "2021-09-13T08:13:30.182693Z",
     "shell.execute_reply": "2021-09-13T08:13:30.183072Z"
    }
   },
   "outputs": [
    {
     "data": {
      "image/png": "[encoded data removed]",
      "text/plain": [
       "<Figure size 864x432 with 1 Axes>"
      ]
     },
     "metadata": {
      "needs_background": "light"
     },
     "output_type": "display_data"
    }
   ],
   "source": [
    "fig, ax = plt.subplots(figsize=(12, 6))\r\n",
    "plt.plot(df_hourly.temp, '.-', label='Temperature')\r\n",
    "plt.plot(df_hourly.feels_like, '.-', label='Feels Like')\r\n",
    "ax.set(title='Temperature in future 48 hours', xlabel='Time', ylabel='Temperature')\r\n",
    "ax.set_xticks(list(range(0, len(df_hourly), 2)))\r\n",
    "ax.set_xticklabels([ts2dt(ts, '%m-%d %H:%M')[0] for i, ts in enumerate(df_hourly.dt) if i%2==0], \r\n",
    "                   rotation=45, ha=\"right\")\r\n",
    "ax.locator_params(nbins=15, axis='y')\r\n",
    "plt.legend()\r\n",
    "plt.show()"
   ]
  },
  {
   "cell_type": "code",
   "execution_count": 10,
   "metadata": {
    "execution": {
     "iopub.execute_input": "2021-09-13T08:13:30.187388Z",
     "iopub.status.busy": "2021-09-13T08:13:30.186932Z",
     "iopub.status.idle": "2021-09-13T08:13:30.204208Z",
     "shell.execute_reply": "2021-09-13T08:13:30.203814Z"
    }
   },
   "outputs": [
    {
     "data": {
      "text/html": [
       "<div>\n",
       "<style scoped>\n",
       "    .dataframe tbody tr th:only-of-type {\n",
       "        vertical-align: middle;\n",
       "    }\n",
       "\n",
       "    .dataframe tbody tr th {\n",
       "        vertical-align: top;\n",
       "    }\n",
       "\n",
       "    .dataframe thead th {\n",
       "        text-align: right;\n",
       "    }\n",
       "</style>\n",
       "<table border=\"1\" class=\"dataframe\">\n",
       "  <thead>\n",
       "    <tr style=\"text-align: right;\">\n",
       "      <th></th>\n",
       "      <th>dt</th>\n",
       "      <th>temp</th>\n",
       "      <th>feels_like</th>\n",
       "      <th>pressure</th>\n",
       "      <th>humidity</th>\n",
       "      <th>dew_point</th>\n",
       "      <th>uvi</th>\n",
       "      <th>clouds</th>\n",
       "      <th>visibility</th>\n",
       "      <th>wind_speed</th>\n",
       "      <th>wind_deg</th>\n",
       "      <th>wind_gust</th>\n",
       "      <th>weather</th>\n",
       "      <th>pop</th>\n",
       "      <th>rain</th>\n",
       "    </tr>\n",
       "  </thead>\n",
       "  <tbody>\n",
       "    <tr>\n",
       "      <th>0</th>\n",
       "      <td>1631520000</td>\n",
       "      <td>33.75</td>\n",
       "      <td>40.75</td>\n",
       "      <td>1006</td>\n",
       "      <td>68</td>\n",
       "      <td>27.01</td>\n",
       "      <td>3.04</td>\n",
       "      <td>63</td>\n",
       "      <td>10000</td>\n",
       "      <td>3.72</td>\n",
       "      <td>203</td>\n",
       "      <td>2.81</td>\n",
       "      <td>[{'id': 803, 'main': 'Clouds', 'description': ...</td>\n",
       "      <td>0.0</td>\n",
       "      <td>NaN</td>\n",
       "    </tr>\n",
       "    <tr>\n",
       "      <th>1</th>\n",
       "      <td>1631523600</td>\n",
       "      <td>33.09</td>\n",
       "      <td>40.09</td>\n",
       "      <td>1006</td>\n",
       "      <td>69</td>\n",
       "      <td>26.63</td>\n",
       "      <td>1.02</td>\n",
       "      <td>64</td>\n",
       "      <td>10000</td>\n",
       "      <td>4.05</td>\n",
       "      <td>200</td>\n",
       "      <td>3.64</td>\n",
       "      <td>[{'id': 803, 'main': 'Clouds', 'description': ...</td>\n",
       "      <td>0.0</td>\n",
       "      <td>NaN</td>\n",
       "    </tr>\n",
       "    <tr>\n",
       "      <th>2</th>\n",
       "      <td>1631527200</td>\n",
       "      <td>32.10</td>\n",
       "      <td>39.10</td>\n",
       "      <td>1006</td>\n",
       "      <td>72</td>\n",
       "      <td>26.41</td>\n",
       "      <td>0.16</td>\n",
       "      <td>68</td>\n",
       "      <td>10000</td>\n",
       "      <td>3.72</td>\n",
       "      <td>203</td>\n",
       "      <td>4.14</td>\n",
       "      <td>[{'id': 803, 'main': 'Clouds', 'description': ...</td>\n",
       "      <td>0.0</td>\n",
       "      <td>NaN</td>\n",
       "    </tr>\n",
       "    <tr>\n",
       "      <th>3</th>\n",
       "      <td>1631530800</td>\n",
       "      <td>30.85</td>\n",
       "      <td>37.85</td>\n",
       "      <td>1007</td>\n",
       "      <td>75</td>\n",
       "      <td>25.90</td>\n",
       "      <td>0.00</td>\n",
       "      <td>73</td>\n",
       "      <td>10000</td>\n",
       "      <td>3.04</td>\n",
       "      <td>202</td>\n",
       "      <td>3.56</td>\n",
       "      <td>[{'id': 803, 'main': 'Clouds', 'description': ...</td>\n",
       "      <td>0.0</td>\n",
       "      <td>NaN</td>\n",
       "    </tr>\n",
       "    <tr>\n",
       "      <th>4</th>\n",
       "      <td>1631534400</td>\n",
       "      <td>29.69</td>\n",
       "      <td>36.47</td>\n",
       "      <td>1008</td>\n",
       "      <td>79</td>\n",
       "      <td>25.66</td>\n",
       "      <td>0.00</td>\n",
       "      <td>75</td>\n",
       "      <td>10000</td>\n",
       "      <td>3.01</td>\n",
       "      <td>203</td>\n",
       "      <td>3.73</td>\n",
       "      <td>[{'id': 500, 'main': 'Rain', 'description': 'l...</td>\n",
       "      <td>0.2</td>\n",
       "      <td>{'1h': 0.1}</td>\n",
       "    </tr>\n",
       "  </tbody>\n",
       "</table>\n",
       "</div>"
      ],
      "text/plain": [
       "           dt   temp  feels_like  pressure  humidity  dew_point   uvi  clouds  \\\n",
       "0  1631520000  33.75       40.75      1006        68      27.01  3.04      63   \n",
       "1  1631523600  33.09       40.09      1006        69      26.63  1.02      64   \n",
       "2  1631527200  32.10       39.10      1006        72      26.41  0.16      68   \n",
       "3  1631530800  30.85       37.85      1007        75      25.90  0.00      73   \n",
       "4  1631534400  29.69       36.47      1008        79      25.66  0.00      75   \n",
       "\n",
       "   visibility  wind_speed  wind_deg  wind_gust  \\\n",
       "0       10000        3.72       203       2.81   \n",
       "1       10000        4.05       200       3.64   \n",
       "2       10000        3.72       203       4.14   \n",
       "3       10000        3.04       202       3.56   \n",
       "4       10000        3.01       203       3.73   \n",
       "\n",
       "                                             weather  pop         rain  \n",
       "0  [{'id': 803, 'main': 'Clouds', 'description': ...  0.0          NaN  \n",
       "1  [{'id': 803, 'main': 'Clouds', 'description': ...  0.0          NaN  \n",
       "2  [{'id': 803, 'main': 'Clouds', 'description': ...  0.0          NaN  \n",
       "3  [{'id': 803, 'main': 'Clouds', 'description': ...  0.0          NaN  \n",
       "4  [{'id': 500, 'main': 'Rain', 'description': 'l...  0.2  {'1h': 0.1}  "
      ]
     },
     "execution_count": 10,
     "metadata": {},
     "output_type": "execute_result"
    }
   ],
   "source": [
    "df_hourly.head()"
   ]
  },
  {
   "cell_type": "code",
   "execution_count": null,
   "metadata": {},
   "outputs": [],
   "source": []
  }
 ],
 "metadata": {
  "interpreter": {
   "hash": "c1b4cfe941b6d2466ad1fb5979e97da9cda8801728c8091b097ab734208fc00c"
  },
  "kernelspec": {
   "display_name": "Python 3.8.3 64-bit ('base': conda)",
   "name": "python3"
  },
  "language_info": {
   "codemirror_mode": {
    "name": "ipython",
    "version": 3
   },
   "file_extension": ".py",
   "mimetype": "text/x-python",
   "name": "python",
   "nbconvert_exporter": "python",
   "pygments_lexer": "ipython3",
   "version": "3.8.11"
  }
 },
 "nbformat": 4,
 "nbformat_minor": 2
}
