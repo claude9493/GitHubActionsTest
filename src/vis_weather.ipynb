{
 "cells": [
  {
   "cell_type": "code",
   "execution_count": 1,
   "metadata": {
    "execution": {
     "iopub.execute_input": "2021-09-09T19:12:28.015177Z",
     "iopub.status.busy": "2021-09-09T19:12:28.014515Z",
     "iopub.status.idle": "2021-09-09T19:12:31.156890Z",
     "shell.execute_reply": "2021-09-09T19:12:31.155993Z"
    }
   },
   "outputs": [],
   "source": [
    "import json, yaml, requests\r\n",
    "from datetime import datetime\r\n",
    "from dateutil import tz\r\n",
    "import pandas as pd\r\n",
    "from PIL import Image\r\n",
    "from io import BytesIO\r\n",
    "import matplotlib.pyplot as plt\r\n",
    "import seaborn\r\n",
    "\r\n",
    "CONFIG_PATH = \"../config/config.yaml\""
   ]
  },
  {
   "cell_type": "code",
   "execution_count": 2,
   "metadata": {
    "execution": {
     "iopub.execute_input": "2021-09-09T19:12:31.163332Z",
     "iopub.status.busy": "2021-09-09T19:12:31.161054Z",
     "iopub.status.idle": "2021-09-09T19:12:31.165917Z",
     "shell.execute_reply": "2021-09-09T19:12:31.165308Z"
    }
   },
   "outputs": [],
   "source": [
    "with open('../newest_ts', 'r') as f:\r\n",
    "    newest_ts = f.read()\r\n",
    "\r\n",
    "data_path = f\"../data/data_{newest_ts}.json\"\r\n",
    "with open(data_path, 'r') as f:\r\n",
    "    data = json.load(f)\r\n",
    "\r\n",
    "with open(CONFIG_PATH, \"r\") as stream:\r\n",
    "    config = yaml.safe_load(stream)\r\n",
    "\r\n",
    "TIME_ZONE = config['time_zone']\r\n",
    "DATETIME_FORMAT = config['dt_format']"
   ]
  },
  {
   "cell_type": "code",
   "execution_count": 3,
   "metadata": {
    "execution": {
     "iopub.execute_input": "2021-09-09T19:12:31.169868Z",
     "iopub.status.busy": "2021-09-09T19:12:31.169416Z",
     "iopub.status.idle": "2021-09-09T19:12:31.200467Z",
     "shell.execute_reply": "2021-09-09T19:12:31.200868Z"
    }
   },
   "outputs": [
    {
     "name": "stdout",
     "output_type": "stream",
     "text": [
      "Recent query happens at 2021-09-10 03:12:25 (CST).\n"
     ]
    }
   ],
   "source": [
    "def ts2dt(ts, format=DATETIME_FORMAT):\r\n",
    "    dt = (datetime.utcfromtimestamp(int(ts))\r\n",
    "                    .replace(tzinfo=tz.tzutc())\r\n",
    "                    # .astimezone(tz.tzlocal())\r\n",
    "                    .astimezone(tz.gettz(TIME_ZONE)))\r\n",
    "    return dt.strftime(format), dt\r\n",
    "\r\n",
    "_, newest_dt = ts2dt(newest_ts)\r\n",
    "print(f\"Recent query happens at {newest_dt.strftime(DATETIME_FORMAT)} ({newest_dt.tzname()}).\")"
   ]
  },
  {
   "cell_type": "code",
   "execution_count": 4,
   "metadata": {
    "execution": {
     "iopub.execute_input": "2021-09-09T19:12:31.205831Z",
     "iopub.status.busy": "2021-09-09T19:12:31.204676Z",
     "iopub.status.idle": "2021-09-09T19:12:31.206371Z",
     "shell.execute_reply": "2021-09-09T19:12:31.206737Z"
    }
   },
   "outputs": [],
   "source": [
    "def degrees_to_cardinal(d):\r\n",
    "  dirs = ['N', 'NNE', 'NE', 'ENE', 'E', 'ESE', 'SE', 'SSE', 'S', 'SSW', 'SW', 'WSW', 'W', 'WNW', 'NW', 'NNW']\r\n",
    "  ix = int(round(d / (360. / len(dirs))))\r\n",
    "  return dirs[ix % len(dirs)]"
   ]
  },
  {
   "cell_type": "code",
   "execution_count": 5,
   "metadata": {
    "execution": {
     "iopub.execute_input": "2021-09-09T19:12:31.210185Z",
     "iopub.status.busy": "2021-09-09T19:12:31.209215Z",
     "iopub.status.idle": "2021-09-09T19:12:31.210683Z",
     "shell.execute_reply": "2021-09-09T19:12:31.211047Z"
    }
   },
   "outputs": [],
   "source": [
    "# data.keys()"
   ]
  },
  {
   "cell_type": "code",
   "execution_count": 6,
   "metadata": {
    "execution": {
     "iopub.execute_input": "2021-09-09T19:12:31.214686Z",
     "iopub.status.busy": "2021-09-09T19:12:31.213621Z",
     "iopub.status.idle": "2021-09-09T19:12:31.215197Z",
     "shell.execute_reply": "2021-09-09T19:12:31.215555Z"
    }
   },
   "outputs": [],
   "source": [
    "# data['current']"
   ]
  },
  {
   "cell_type": "code",
   "execution_count": 7,
   "metadata": {
    "execution": {
     "iopub.execute_input": "2021-09-09T19:12:31.230510Z",
     "iopub.status.busy": "2021-09-09T19:12:31.230037Z",
     "iopub.status.idle": "2021-09-09T19:12:31.540453Z",
     "shell.execute_reply": "2021-09-09T19:12:31.541053Z"
    }
   },
   "outputs": [
    {
     "data": {
      "image/png": "[encoded data removed]",
      "text/plain": [
       "<Figure size 216x216 with 1 Axes>"
      ]
     },
     "metadata": {
      "needs_background": "light"
     },
     "output_type": "display_data"
    },
    {
     "name": "stdout",
     "output_type": "stream",
     "text": [
      "Today, sun rises at 06:08 and sets at 18:32.\n",
      "Currently, the weather is Clouds (overcast clouds).\n",
      "The temperature is 29.31°C and it feels like 36.1°C.\n",
      "The UV index is 0, humidity is 82%.\n",
      "The pressure is 1009 hPa, percentage of cloud cover is 100%\n",
      "The wind comes from ENE direction with a speed 3.99 m/s.\n"
     ]
    }
   ],
   "source": [
    "current = data['current']\r\n",
    "\r\n",
    "fig, ax = plt.subplots(figsize=(3, 3))\r\n",
    "icon = requests.get(f\"http://openweathermap.org/img/wn/{current['weather'][0]['icon']}@2x.png\")\r\n",
    "im = Image.open(BytesIO(icon.content))\r\n",
    "plt.imshow(im)\r\n",
    "ax.set_axis_off()\r\n",
    "plt.show()\r\n",
    "\r\n",
    "print(f\"Today, sun rises at {ts2dt(current['sunrise'], '%H:%M')[0]} \\\r\n",
    "and sets at {ts2dt(current['sunset'], '%H:%M')[0]}.\\n\\\r\n",
    "Currently, the weather is {current['weather'][0]['main']} ({current['weather'][0]['description']}).\\n\\\r\n",
    "The temperature is {current['temp']}°C and it feels like {current['feels_like']}°C.\\n\\\r\n",
    "The UV index is {current['uvi']}, humidity is {current['humidity']}%.\\n\\\r\n",
    "The pressure is {current['pressure']} hPa, percentage of cloud cover is {current['clouds']}%\\n\\\r\n",
    "The wind comes from {degrees_to_cardinal(current['wind_deg'])} direction with a speed {current['wind_speed']} m/s.\")"
   ]
  },
  {
   "cell_type": "code",
   "execution_count": 8,
   "metadata": {
    "execution": {
     "iopub.execute_input": "2021-09-09T19:12:31.543861Z",
     "iopub.status.busy": "2021-09-09T19:12:31.543061Z",
     "iopub.status.idle": "2021-09-09T19:12:31.549004Z",
     "shell.execute_reply": "2021-09-09T19:12:31.549551Z"
    }
   },
   "outputs": [],
   "source": [
    "df_hourly = pd.DataFrame(data['hourly'])\r\n",
    "df_daily = pd.DataFrame(data['daily'])"
   ]
  },
  {
   "cell_type": "code",
   "execution_count": 9,
   "metadata": {
    "execution": {
     "iopub.execute_input": "2021-09-09T19:12:31.552106Z",
     "iopub.status.busy": "2021-09-09T19:12:31.551315Z",
     "iopub.status.idle": "2021-09-09T19:12:31.768722Z",
     "shell.execute_reply": "2021-09-09T19:12:31.769159Z"
    }
   },
   "outputs": [
    {
     "data": {
      "image/png": "[encoded data removed]",
      "text/plain": [
       "<Figure size 864x432 with 1 Axes>"
      ]
     },
     "metadata": {
      "needs_background": "light"
     },
     "output_type": "display_data"
    }
   ],
   "source": [
    "fig, ax = plt.subplots(figsize=(12, 6))\r\n",
    "plt.plot(df_hourly.temp, '.-', label='Temperature')\r\n",
    "plt.plot(df_hourly.feels_like, '.-', label='Feels Like')\r\n",
    "ax.set(title='Temperature in future 48 hours', xlabel='Time', ylabel='Temperature')\r\n",
    "ax.set_xticks(list(range(0, len(df_hourly), 2)))\r\n",
    "ax.set_xticklabels([ts2dt(ts, '%m-%d %H:%M')[0] for i, ts in enumerate(df_hourly.dt) if i%2==0], \r\n",
    "                   rotation=45, ha=\"right\")\r\n",
    "ax.locator_params(nbins=15, axis='y')\r\n",
    "plt.legend()\r\n",
    "plt.show()"
   ]
  },
  {
   "cell_type": "code",
   "execution_count": 10,
   "metadata": {
    "execution": {
     "iopub.execute_input": "2021-09-09T19:12:31.778823Z",
     "iopub.status.busy": "2021-09-09T19:12:31.772516Z",
     "iopub.status.idle": "2021-09-09T19:12:31.788041Z",
     "shell.execute_reply": "2021-09-09T19:12:31.787645Z"
    }
   },
   "outputs": [
    {
     "data": {
      "text/html": [
       "<div>\n",
       "<style scoped>\n",
       "    .dataframe tbody tr th:only-of-type {\n",
       "        vertical-align: middle;\n",
       "    }\n",
       "\n",
       "    .dataframe tbody tr th {\n",
       "        vertical-align: top;\n",
       "    }\n",
       "\n",
       "    .dataframe thead th {\n",
       "        text-align: right;\n",
       "    }\n",
       "</style>\n",
       "<table border=\"1\" class=\"dataframe\">\n",
       "  <thead>\n",
       "    <tr style=\"text-align: right;\">\n",
       "      <th></th>\n",
       "      <th>dt</th>\n",
       "      <th>temp</th>\n",
       "      <th>feels_like</th>\n",
       "      <th>pressure</th>\n",
       "      <th>humidity</th>\n",
       "      <th>dew_point</th>\n",
       "      <th>uvi</th>\n",
       "      <th>clouds</th>\n",
       "      <th>visibility</th>\n",
       "      <th>wind_speed</th>\n",
       "      <th>wind_deg</th>\n",
       "      <th>wind_gust</th>\n",
       "      <th>weather</th>\n",
       "      <th>pop</th>\n",
       "      <th>rain</th>\n",
       "    </tr>\n",
       "  </thead>\n",
       "  <tbody>\n",
       "    <tr>\n",
       "      <th>0</th>\n",
       "      <td>1631214000</td>\n",
       "      <td>29.31</td>\n",
       "      <td>36.10</td>\n",
       "      <td>1009</td>\n",
       "      <td>82</td>\n",
       "      <td>25.91</td>\n",
       "      <td>0.00</td>\n",
       "      <td>100</td>\n",
       "      <td>10000</td>\n",
       "      <td>3.99</td>\n",
       "      <td>75</td>\n",
       "      <td>6.37</td>\n",
       "      <td>[{'id': 500, 'main': 'Rain', 'description': 'l...</td>\n",
       "      <td>1.00</td>\n",
       "      <td>{'1h': 0.42}</td>\n",
       "    </tr>\n",
       "    <tr>\n",
       "      <th>1</th>\n",
       "      <td>1631217600</td>\n",
       "      <td>28.95</td>\n",
       "      <td>35.26</td>\n",
       "      <td>1009</td>\n",
       "      <td>83</td>\n",
       "      <td>25.77</td>\n",
       "      <td>0.00</td>\n",
       "      <td>100</td>\n",
       "      <td>10000</td>\n",
       "      <td>4.13</td>\n",
       "      <td>69</td>\n",
       "      <td>6.40</td>\n",
       "      <td>[{'id': 804, 'main': 'Clouds', 'description': ...</td>\n",
       "      <td>0.80</td>\n",
       "      <td>NaN</td>\n",
       "    </tr>\n",
       "    <tr>\n",
       "      <th>2</th>\n",
       "      <td>1631221200</td>\n",
       "      <td>28.59</td>\n",
       "      <td>34.21</td>\n",
       "      <td>1009</td>\n",
       "      <td>83</td>\n",
       "      <td>25.42</td>\n",
       "      <td>0.00</td>\n",
       "      <td>98</td>\n",
       "      <td>10000</td>\n",
       "      <td>4.34</td>\n",
       "      <td>70</td>\n",
       "      <td>6.60</td>\n",
       "      <td>[{'id': 804, 'main': 'Clouds', 'description': ...</td>\n",
       "      <td>0.80</td>\n",
       "      <td>NaN</td>\n",
       "    </tr>\n",
       "    <tr>\n",
       "      <th>3</th>\n",
       "      <td>1631224800</td>\n",
       "      <td>28.16</td>\n",
       "      <td>33.01</td>\n",
       "      <td>1009</td>\n",
       "      <td>83</td>\n",
       "      <td>25.00</td>\n",
       "      <td>0.00</td>\n",
       "      <td>93</td>\n",
       "      <td>10000</td>\n",
       "      <td>4.24</td>\n",
       "      <td>66</td>\n",
       "      <td>6.34</td>\n",
       "      <td>[{'id': 804, 'main': 'Clouds', 'description': ...</td>\n",
       "      <td>0.77</td>\n",
       "      <td>NaN</td>\n",
       "    </tr>\n",
       "    <tr>\n",
       "      <th>4</th>\n",
       "      <td>1631228400</td>\n",
       "      <td>27.96</td>\n",
       "      <td>32.46</td>\n",
       "      <td>1009</td>\n",
       "      <td>83</td>\n",
       "      <td>24.80</td>\n",
       "      <td>0.25</td>\n",
       "      <td>91</td>\n",
       "      <td>10000</td>\n",
       "      <td>4.72</td>\n",
       "      <td>65</td>\n",
       "      <td>6.51</td>\n",
       "      <td>[{'id': 804, 'main': 'Clouds', 'description': ...</td>\n",
       "      <td>0.73</td>\n",
       "      <td>NaN</td>\n",
       "    </tr>\n",
       "  </tbody>\n",
       "</table>\n",
       "</div>"
      ],
      "text/plain": [
       "           dt   temp  feels_like  pressure  humidity  dew_point   uvi  clouds  \\\n",
       "0  1631214000  29.31       36.10      1009        82      25.91  0.00     100   \n",
       "1  1631217600  28.95       35.26      1009        83      25.77  0.00     100   \n",
       "2  1631221200  28.59       34.21      1009        83      25.42  0.00      98   \n",
       "3  1631224800  28.16       33.01      1009        83      25.00  0.00      93   \n",
       "4  1631228400  27.96       32.46      1009        83      24.80  0.25      91   \n",
       "\n",
       "   visibility  wind_speed  wind_deg  wind_gust  \\\n",
       "0       10000        3.99        75       6.37   \n",
       "1       10000        4.13        69       6.40   \n",
       "2       10000        4.34        70       6.60   \n",
       "3       10000        4.24        66       6.34   \n",
       "4       10000        4.72        65       6.51   \n",
       "\n",
       "                                             weather   pop          rain  \n",
       "0  [{'id': 500, 'main': 'Rain', 'description': 'l...  1.00  {'1h': 0.42}  \n",
       "1  [{'id': 804, 'main': 'Clouds', 'description': ...  0.80           NaN  \n",
       "2  [{'id': 804, 'main': 'Clouds', 'description': ...  0.80           NaN  \n",
       "3  [{'id': 804, 'main': 'Clouds', 'description': ...  0.77           NaN  \n",
       "4  [{'id': 804, 'main': 'Clouds', 'description': ...  0.73           NaN  "
      ]
     },
     "execution_count": 10,
     "metadata": {},
     "output_type": "execute_result"
    }
   ],
   "source": [
    "df_hourly.head()"
   ]
  },
  {
   "cell_type": "code",
   "execution_count": null,
   "metadata": {},
   "outputs": [],
   "source": []
  }
 ],
 "metadata": {
  "interpreter": {
   "hash": "c1b4cfe941b6d2466ad1fb5979e97da9cda8801728c8091b097ab734208fc00c"
  },
  "kernelspec": {
   "display_name": "Python 3.8.3 64-bit ('base': conda)",
   "name": "python3"
  },
  "language_info": {
   "codemirror_mode": {
    "name": "ipython",
    "version": 3
   },
   "file_extension": ".py",
   "mimetype": "text/x-python",
   "name": "python",
   "nbconvert_exporter": "python",
   "pygments_lexer": "ipython3",
   "version": "3.8.11"
  }
 },
 "nbformat": 4,
 "nbformat_minor": 2
}
