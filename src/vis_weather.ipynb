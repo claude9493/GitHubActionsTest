{
 "cells": [
  {
   "cell_type": "code",
   "execution_count": 1,
   "metadata": {
    "execution": {
     "iopub.execute_input": "2021-09-30T23:11:54.875915Z",
     "iopub.status.busy": "2021-09-30T23:11:54.875364Z",
     "iopub.status.idle": "2021-09-30T23:11:56.136081Z",
     "shell.execute_reply": "2021-09-30T23:11:56.136478Z"
    }
   },
   "outputs": [],
   "source": [
    "import json, yaml, requests\r\n",
    "from datetime import datetime\r\n",
    "from dateutil import tz\r\n",
    "import pandas as pd\r\n",
    "from PIL import Image\r\n",
    "from io import BytesIO\r\n",
    "import matplotlib.pyplot as plt\r\n",
    "import seaborn\r\n",
    "\r\n",
    "CONFIG_PATH = \"../config/config.yaml\""
   ]
  },
  {
   "cell_type": "code",
   "execution_count": 2,
   "metadata": {
    "execution": {
     "iopub.execute_input": "2021-09-30T23:11:56.141867Z",
     "iopub.status.busy": "2021-09-30T23:11:56.141072Z",
     "iopub.status.idle": "2021-09-30T23:11:56.146006Z",
     "shell.execute_reply": "2021-09-30T23:11:56.145608Z"
    }
   },
   "outputs": [],
   "source": [
    "with open('../newest_ts', 'r') as f:\r\n",
    "    newest_ts = f.read()\r\n",
    "\r\n",
    "data_path = f\"../data/data_{newest_ts}.json\"\r\n",
    "with open(data_path, 'r') as f:\r\n",
    "    data = json.load(f)\r\n",
    "\r\n",
    "with open(CONFIG_PATH, \"r\") as stream:\r\n",
    "    config = yaml.safe_load(stream)\r\n",
    "\r\n",
    "TIME_ZONE = config['time_zone']\r\n",
    "DATETIME_FORMAT = config['dt_format']"
   ]
  },
  {
   "cell_type": "code",
   "execution_count": 3,
   "metadata": {
    "execution": {
     "iopub.execute_input": "2021-09-30T23:11:56.150283Z",
     "iopub.status.busy": "2021-09-30T23:11:56.149830Z",
     "iopub.status.idle": "2021-09-30T23:11:56.183662Z",
     "shell.execute_reply": "2021-09-30T23:11:56.184067Z"
    }
   },
   "outputs": [
    {
     "name": "stdout",
     "output_type": "stream",
     "text": [
      "Recent query happens at 2021-10-01 07:11:52 (CST).\n"
     ]
    }
   ],
   "source": [
    "def ts2dt(ts, format=DATETIME_FORMAT):\r\n",
    "    dt = (datetime.utcfromtimestamp(int(ts))\r\n",
    "                    .replace(tzinfo=tz.tzutc())\r\n",
    "                    # .astimezone(tz.tzlocal())\r\n",
    "                    .astimezone(tz.gettz(TIME_ZONE)))\r\n",
    "    return dt.strftime(format), dt\r\n",
    "\r\n",
    "_, newest_dt = ts2dt(newest_ts)\r\n",
    "print(f\"Recent query happens at {newest_dt.strftime(DATETIME_FORMAT)} ({newest_dt.tzname()}).\")"
   ]
  },
  {
   "cell_type": "code",
   "execution_count": 4,
   "metadata": {
    "execution": {
     "iopub.execute_input": "2021-09-30T23:11:56.189498Z",
     "iopub.status.busy": "2021-09-30T23:11:56.188410Z",
     "iopub.status.idle": "2021-09-30T23:11:56.190017Z",
     "shell.execute_reply": "2021-09-30T23:11:56.190405Z"
    }
   },
   "outputs": [],
   "source": [
    "def degrees_to_cardinal(d):\r\n",
    "  dirs = ['N', 'NNE', 'NE', 'ENE', 'E', 'ESE', 'SE', 'SSE', 'S', 'SSW', 'SW', 'WSW', 'W', 'WNW', 'NW', 'NNW']\r\n",
    "  ix = int(round(d / (360. / len(dirs))))\r\n",
    "  return dirs[ix % len(dirs)]"
   ]
  },
  {
   "cell_type": "code",
   "execution_count": 5,
   "metadata": {
    "execution": {
     "iopub.execute_input": "2021-09-30T23:11:56.194303Z",
     "iopub.status.busy": "2021-09-30T23:11:56.193332Z",
     "iopub.status.idle": "2021-09-30T23:11:56.194834Z",
     "shell.execute_reply": "2021-09-30T23:11:56.195194Z"
    }
   },
   "outputs": [],
   "source": [
    "# data.keys()"
   ]
  },
  {
   "cell_type": "code",
   "execution_count": 6,
   "metadata": {
    "execution": {
     "iopub.execute_input": "2021-09-30T23:11:56.198782Z",
     "iopub.status.busy": "2021-09-30T23:11:56.197731Z",
     "iopub.status.idle": "2021-09-30T23:11:56.199297Z",
     "shell.execute_reply": "2021-09-30T23:11:56.199655Z"
    }
   },
   "outputs": [],
   "source": [
    "# data['current']"
   ]
  },
  {
   "cell_type": "code",
   "execution_count": 7,
   "metadata": {
    "execution": {
     "iopub.execute_input": "2021-09-30T23:11:56.216631Z",
     "iopub.status.busy": "2021-09-30T23:11:56.214055Z",
     "iopub.status.idle": "2021-09-30T23:11:56.600023Z",
     "shell.execute_reply": "2021-09-30T23:11:56.600642Z"
    }
   },
   "outputs": [
    {
     "data": {
      "image/png": "[encoded data removed]",
      "text/plain": [
       "<Figure size 216x216 with 1 Axes>"
      ]
     },
     "metadata": {
      "needs_background": "light"
     },
     "output_type": "display_data"
    },
    {
     "name": "stdout",
     "output_type": "stream",
     "text": [
      "Today, sun rises at 06:14 and sets at 18:11.\n",
      "Currently, the weather is Clouds (few clouds).\n",
      "The temperature is 28.69°C and it feels like 35.34°C.\n",
      "The UV index is 0.17, humidity is 87%.\n",
      "The pressure is 1008 hPa, percentage of cloud cover is 13%\n",
      "The wind comes from SSE direction with a speed 1.34 m/s.\n"
     ]
    }
   ],
   "source": [
    "current = data['current']\r\n",
    "\r\n",
    "fig, ax = plt.subplots(figsize=(3, 3))\r\n",
    "icon = requests.get(f\"http://openweathermap.org/img/wn/{current['weather'][0]['icon']}@2x.png\")\r\n",
    "im = Image.open(BytesIO(icon.content))\r\n",
    "plt.imshow(im)\r\n",
    "ax.set_axis_off()\r\n",
    "plt.show()\r\n",
    "\r\n",
    "print(f\"Today, sun rises at {ts2dt(current['sunrise'], '%H:%M')[0]} \\\r\n",
    "and sets at {ts2dt(current['sunset'], '%H:%M')[0]}.\\n\\\r\n",
    "Currently, the weather is {current['weather'][0]['main']} ({current['weather'][0]['description']}).\\n\\\r\n",
    "The temperature is {current['temp']}°C and it feels like {current['feels_like']}°C.\\n\\\r\n",
    "The UV index is {current['uvi']}, humidity is {current['humidity']}%.\\n\\\r\n",
    "The pressure is {current['pressure']} hPa, percentage of cloud cover is {current['clouds']}%\\n\\\r\n",
    "The wind comes from {degrees_to_cardinal(current['wind_deg'])} direction with a speed {current['wind_speed']} m/s.\")"
   ]
  },
  {
   "cell_type": "code",
   "execution_count": 8,
   "metadata": {
    "execution": {
     "iopub.execute_input": "2021-09-30T23:11:56.607698Z",
     "iopub.status.busy": "2021-09-30T23:11:56.607087Z",
     "iopub.status.idle": "2021-09-30T23:11:56.610235Z",
     "shell.execute_reply": "2021-09-30T23:11:56.610837Z"
    }
   },
   "outputs": [],
   "source": [
    "df_hourly = pd.DataFrame(data['hourly'])\r\n",
    "df_daily = pd.DataFrame(data['daily'])"
   ]
  },
  {
   "cell_type": "code",
   "execution_count": 9,
   "metadata": {
    "execution": {
     "iopub.execute_input": "2021-09-30T23:11:56.619247Z",
     "iopub.status.busy": "2021-09-30T23:11:56.617894Z",
     "iopub.status.idle": "2021-09-30T23:11:56.856889Z",
     "shell.execute_reply": "2021-09-30T23:11:56.857261Z"
    }
   },
   "outputs": [
    {
     "data": {
      "image/png": "[encoded data removed]",
      "text/plain": [
       "<Figure size 864x432 with 1 Axes>"
      ]
     },
     "metadata": {
      "needs_background": "light"
     },
     "output_type": "display_data"
    }
   ],
   "source": [
    "fig, ax = plt.subplots(figsize=(12, 6))\r\n",
    "plt.plot(df_hourly.temp, '.-', label='Temperature')\r\n",
    "plt.plot(df_hourly.feels_like, '.-', label='Feels Like')\r\n",
    "ax.set(title='Temperature in future 48 hours', xlabel='Time', ylabel='Temperature')\r\n",
    "ax.set_xticks(list(range(0, len(df_hourly), 2)))\r\n",
    "ax.set_xticklabels([ts2dt(ts, '%m-%d %H:%M')[0] for i, ts in enumerate(df_hourly.dt) if i%2==0], \r\n",
    "                   rotation=45, ha=\"right\")\r\n",
    "ax.locator_params(nbins=15, axis='y')\r\n",
    "plt.legend()\r\n",
    "plt.show()"
   ]
  },
  {
   "cell_type": "code",
   "execution_count": 10,
   "metadata": {
    "execution": {
     "iopub.execute_input": "2021-09-30T23:11:56.861627Z",
     "iopub.status.busy": "2021-09-30T23:11:56.861175Z",
     "iopub.status.idle": "2021-09-30T23:11:56.879255Z",
     "shell.execute_reply": "2021-09-30T23:11:56.878856Z"
    }
   },
   "outputs": [
    {
     "data": {
      "text/html": [
       "<div>\n",
       "<style scoped>\n",
       "    .dataframe tbody tr th:only-of-type {\n",
       "        vertical-align: middle;\n",
       "    }\n",
       "\n",
       "    .dataframe tbody tr th {\n",
       "        vertical-align: top;\n",
       "    }\n",
       "\n",
       "    .dataframe thead th {\n",
       "        text-align: right;\n",
       "    }\n",
       "</style>\n",
       "<table border=\"1\" class=\"dataframe\">\n",
       "  <thead>\n",
       "    <tr style=\"text-align: right;\">\n",
       "      <th></th>\n",
       "      <th>dt</th>\n",
       "      <th>temp</th>\n",
       "      <th>feels_like</th>\n",
       "      <th>pressure</th>\n",
       "      <th>humidity</th>\n",
       "      <th>dew_point</th>\n",
       "      <th>uvi</th>\n",
       "      <th>clouds</th>\n",
       "      <th>visibility</th>\n",
       "      <th>wind_speed</th>\n",
       "      <th>wind_deg</th>\n",
       "      <th>wind_gust</th>\n",
       "      <th>weather</th>\n",
       "      <th>pop</th>\n",
       "      <th>rain</th>\n",
       "    </tr>\n",
       "  </thead>\n",
       "  <tbody>\n",
       "    <tr>\n",
       "      <th>0</th>\n",
       "      <td>1633042800</td>\n",
       "      <td>28.69</td>\n",
       "      <td>35.34</td>\n",
       "      <td>1008</td>\n",
       "      <td>87</td>\n",
       "      <td>26.31</td>\n",
       "      <td>0.17</td>\n",
       "      <td>13</td>\n",
       "      <td>10000</td>\n",
       "      <td>2.45</td>\n",
       "      <td>222</td>\n",
       "      <td>2.62</td>\n",
       "      <td>[{'id': 801, 'main': 'Clouds', 'description': ...</td>\n",
       "      <td>0.57</td>\n",
       "      <td>NaN</td>\n",
       "    </tr>\n",
       "    <tr>\n",
       "      <th>1</th>\n",
       "      <td>1633046400</td>\n",
       "      <td>28.67</td>\n",
       "      <td>34.85</td>\n",
       "      <td>1008</td>\n",
       "      <td>85</td>\n",
       "      <td>25.90</td>\n",
       "      <td>1.02</td>\n",
       "      <td>13</td>\n",
       "      <td>10000</td>\n",
       "      <td>2.63</td>\n",
       "      <td>217</td>\n",
       "      <td>2.82</td>\n",
       "      <td>[{'id': 801, 'main': 'Clouds', 'description': ...</td>\n",
       "      <td>0.60</td>\n",
       "      <td>NaN</td>\n",
       "    </tr>\n",
       "    <tr>\n",
       "      <th>2</th>\n",
       "      <td>1633050000</td>\n",
       "      <td>28.93</td>\n",
       "      <td>34.98</td>\n",
       "      <td>1009</td>\n",
       "      <td>82</td>\n",
       "      <td>25.54</td>\n",
       "      <td>3.04</td>\n",
       "      <td>8</td>\n",
       "      <td>10000</td>\n",
       "      <td>2.86</td>\n",
       "      <td>221</td>\n",
       "      <td>2.75</td>\n",
       "      <td>[{'id': 800, 'main': 'Clear', 'description': '...</td>\n",
       "      <td>0.25</td>\n",
       "      <td>NaN</td>\n",
       "    </tr>\n",
       "    <tr>\n",
       "      <th>3</th>\n",
       "      <td>1633053600</td>\n",
       "      <td>29.43</td>\n",
       "      <td>35.24</td>\n",
       "      <td>1009</td>\n",
       "      <td>77</td>\n",
       "      <td>24.97</td>\n",
       "      <td>5.82</td>\n",
       "      <td>8</td>\n",
       "      <td>10000</td>\n",
       "      <td>3.07</td>\n",
       "      <td>217</td>\n",
       "      <td>2.61</td>\n",
       "      <td>[{'id': 800, 'main': 'Clear', 'description': '...</td>\n",
       "      <td>0.33</td>\n",
       "      <td>NaN</td>\n",
       "    </tr>\n",
       "    <tr>\n",
       "      <th>4</th>\n",
       "      <td>1633057200</td>\n",
       "      <td>30.10</td>\n",
       "      <td>35.79</td>\n",
       "      <td>1010</td>\n",
       "      <td>72</td>\n",
       "      <td>24.49</td>\n",
       "      <td>8.49</td>\n",
       "      <td>11</td>\n",
       "      <td>10000</td>\n",
       "      <td>3.42</td>\n",
       "      <td>212</td>\n",
       "      <td>2.63</td>\n",
       "      <td>[{'id': 801, 'main': 'Clouds', 'description': ...</td>\n",
       "      <td>0.27</td>\n",
       "      <td>NaN</td>\n",
       "    </tr>\n",
       "  </tbody>\n",
       "</table>\n",
       "</div>"
      ],
      "text/plain": [
       "           dt   temp  feels_like  pressure  humidity  dew_point   uvi  clouds  \\\n",
       "0  1633042800  28.69       35.34      1008        87      26.31  0.17      13   \n",
       "1  1633046400  28.67       34.85      1008        85      25.90  1.02      13   \n",
       "2  1633050000  28.93       34.98      1009        82      25.54  3.04       8   \n",
       "3  1633053600  29.43       35.24      1009        77      24.97  5.82       8   \n",
       "4  1633057200  30.10       35.79      1010        72      24.49  8.49      11   \n",
       "\n",
       "   visibility  wind_speed  wind_deg  wind_gust  \\\n",
       "0       10000        2.45       222       2.62   \n",
       "1       10000        2.63       217       2.82   \n",
       "2       10000        2.86       221       2.75   \n",
       "3       10000        3.07       217       2.61   \n",
       "4       10000        3.42       212       2.63   \n",
       "\n",
       "                                             weather   pop rain  \n",
       "0  [{'id': 801, 'main': 'Clouds', 'description': ...  0.57  NaN  \n",
       "1  [{'id': 801, 'main': 'Clouds', 'description': ...  0.60  NaN  \n",
       "2  [{'id': 800, 'main': 'Clear', 'description': '...  0.25  NaN  \n",
       "3  [{'id': 800, 'main': 'Clear', 'description': '...  0.33  NaN  \n",
       "4  [{'id': 801, 'main': 'Clouds', 'description': ...  0.27  NaN  "
      ]
     },
     "execution_count": 10,
     "metadata": {},
     "output_type": "execute_result"
    }
   ],
   "source": [
    "df_hourly.head()"
   ]
  },
  {
   "cell_type": "code",
   "execution_count": null,
   "metadata": {},
   "outputs": [],
   "source": []
  }
 ],
 "metadata": {
  "interpreter": {
   "hash": "c1b4cfe941b6d2466ad1fb5979e97da9cda8801728c8091b097ab734208fc00c"
  },
  "kernelspec": {
   "display_name": "Python 3.8.3 64-bit ('base': conda)",
   "name": "python3"
  },
  "language_info": {
   "codemirror_mode": {
    "name": "ipython",
    "version": 3
   },
   "file_extension": ".py",
   "mimetype": "text/x-python",
   "name": "python",
   "nbconvert_exporter": "python",
   "pygments_lexer": "ipython3",
   "version": "3.8.12"
  }
 },
 "nbformat": 4,
 "nbformat_minor": 2
}
