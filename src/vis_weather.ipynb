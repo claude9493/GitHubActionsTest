{
 "cells": [
  {
   "cell_type": "code",
   "execution_count": 1,
   "metadata": {
    "execution": {
     "iopub.execute_input": "2021-10-24T01:57:20.888690Z",
     "iopub.status.busy": "2021-10-24T01:57:20.887637Z",
     "iopub.status.idle": "2021-10-24T01:57:23.995424Z",
     "shell.execute_reply": "2021-10-24T01:57:23.995936Z"
    }
   },
   "outputs": [],
   "source": [
    "import json, yaml, requests\r\n",
    "from datetime import datetime\r\n",
    "from dateutil import tz\r\n",
    "import pandas as pd\r\n",
    "from PIL import Image\r\n",
    "from io import BytesIO\r\n",
    "import matplotlib.pyplot as plt\r\n",
    "import seaborn\r\n",
    "\r\n",
    "CONFIG_PATH = \"../config/config.yaml\""
   ]
  },
  {
   "cell_type": "code",
   "execution_count": 2,
   "metadata": {
    "execution": {
     "iopub.execute_input": "2021-10-24T01:57:24.004103Z",
     "iopub.status.busy": "2021-10-24T01:57:24.002648Z",
     "iopub.status.idle": "2021-10-24T01:57:24.009265Z",
     "shell.execute_reply": "2021-10-24T01:57:24.009897Z"
    }
   },
   "outputs": [],
   "source": [
    "with open('../newest_ts', 'r') as f:\r\n",
    "    newest_ts = f.read()\r\n",
    "\r\n",
    "data_path = f\"../data/data_{newest_ts}.json\"\r\n",
    "with open(data_path, 'r') as f:\r\n",
    "    data = json.load(f)\r\n",
    "\r\n",
    "with open(CONFIG_PATH, \"r\") as stream:\r\n",
    "    config = yaml.safe_load(stream)\r\n",
    "\r\n",
    "TIME_ZONE = config['time_zone']\r\n",
    "DATETIME_FORMAT = config['dt_format']"
   ]
  },
  {
   "cell_type": "code",
   "execution_count": 3,
   "metadata": {
    "execution": {
     "iopub.execute_input": "2021-10-24T01:57:24.016067Z",
     "iopub.status.busy": "2021-10-24T01:57:24.015177Z",
     "iopub.status.idle": "2021-10-24T01:57:24.022110Z",
     "shell.execute_reply": "2021-10-24T01:57:24.022623Z"
    }
   },
   "outputs": [
    {
     "name": "stdout",
     "output_type": "stream",
     "text": [
      "Recent query happens at 2021-10-24 09:57:16 (CST).\n"
     ]
    }
   ],
   "source": [
    "def ts2dt(ts, format=DATETIME_FORMAT):\r\n",
    "    dt = (datetime.utcfromtimestamp(int(ts))\r\n",
    "                    .replace(tzinfo=tz.tzutc())\r\n",
    "                    # .astimezone(tz.tzlocal())\r\n",
    "                    .astimezone(tz.gettz(TIME_ZONE)))\r\n",
    "    return dt.strftime(format), dt\r\n",
    "\r\n",
    "_, newest_dt = ts2dt(newest_ts)\r\n",
    "print(f\"Recent query happens at {newest_dt.strftime(DATETIME_FORMAT)} ({newest_dt.tzname()}).\")"
   ]
  },
  {
   "cell_type": "code",
   "execution_count": 4,
   "metadata": {
    "execution": {
     "iopub.execute_input": "2021-10-24T01:57:24.029179Z",
     "iopub.status.busy": "2021-10-24T01:57:24.027395Z",
     "iopub.status.idle": "2021-10-24T01:57:24.029815Z",
     "shell.execute_reply": "2021-10-24T01:57:24.030289Z"
    }
   },
   "outputs": [],
   "source": [
    "def degrees_to_cardinal(d):\r\n",
    "  dirs = ['N', 'NNE', 'NE', 'ENE', 'E', 'ESE', 'SE', 'SSE', 'S', 'SSW', 'SW', 'WSW', 'W', 'WNW', 'NW', 'NNW']\r\n",
    "  ix = int(round(d / (360. / len(dirs))))\r\n",
    "  return dirs[ix % len(dirs)]"
   ]
  },
  {
   "cell_type": "code",
   "execution_count": 5,
   "metadata": {
    "execution": {
     "iopub.execute_input": "2021-10-24T01:57:24.035514Z",
     "iopub.status.busy": "2021-10-24T01:57:24.034088Z",
     "iopub.status.idle": "2021-10-24T01:57:24.036121Z",
     "shell.execute_reply": "2021-10-24T01:57:24.036571Z"
    }
   },
   "outputs": [],
   "source": [
    "# data.keys()"
   ]
  },
  {
   "cell_type": "code",
   "execution_count": 6,
   "metadata": {
    "execution": {
     "iopub.execute_input": "2021-10-24T01:57:24.041714Z",
     "iopub.status.busy": "2021-10-24T01:57:24.039969Z",
     "iopub.status.idle": "2021-10-24T01:57:24.042388Z",
     "shell.execute_reply": "2021-10-24T01:57:24.042957Z"
    }
   },
   "outputs": [],
   "source": [
    "# data['current']"
   ]
  },
  {
   "cell_type": "code",
   "execution_count": 7,
   "metadata": {
    "execution": {
     "iopub.execute_input": "2021-10-24T01:57:24.065245Z",
     "iopub.status.busy": "2021-10-24T01:57:24.049833Z",
     "iopub.status.idle": "2021-10-24T01:57:24.485071Z",
     "shell.execute_reply": "2021-10-24T01:57:24.486112Z"
    }
   },
   "outputs": [
    {
     "data": {
      "image/png": "[encoded data removed]",
      "text/plain": [
       "<Figure size 216x216 with 1 Axes>"
      ]
     },
     "metadata": {
      "needs_background": "light"
     },
     "output_type": "display_data"
    },
    {
     "name": "stdout",
     "output_type": "stream",
     "text": [
      "Today, sun rises at 06:22 and sets at 17:51.\n",
      "Currently, the weather is Clouds (few clouds).\n",
      "The temperature is 21.97°C and it feels like 22.15°C.\n",
      "The UV index is 4.25, humidity is 74%.\n",
      "The pressure is 1017 hPa, percentage of cloud cover is 16%\n",
      "The wind comes from ENE direction with a speed 1.34 m/s.\n"
     ]
    }
   ],
   "source": [
    "current = data['current']\r\n",
    "\r\n",
    "fig, ax = plt.subplots(figsize=(3, 3))\r\n",
    "icon = requests.get(f\"http://openweathermap.org/img/wn/{current['weather'][0]['icon']}@2x.png\")\r\n",
    "im = Image.open(BytesIO(icon.content))\r\n",
    "plt.imshow(im)\r\n",
    "ax.set_axis_off()\r\n",
    "plt.show()\r\n",
    "\r\n",
    "print(f\"Today, sun rises at {ts2dt(current['sunrise'], '%H:%M')[0]} \\\r\n",
    "and sets at {ts2dt(current['sunset'], '%H:%M')[0]}.\\n\\\r\n",
    "Currently, the weather is {current['weather'][0]['main']} ({current['weather'][0]['description']}).\\n\\\r\n",
    "The temperature is {current['temp']}°C and it feels like {current['feels_like']}°C.\\n\\\r\n",
    "The UV index is {current['uvi']}, humidity is {current['humidity']}%.\\n\\\r\n",
    "The pressure is {current['pressure']} hPa, percentage of cloud cover is {current['clouds']}%\\n\\\r\n",
    "The wind comes from {degrees_to_cardinal(current['wind_deg'])} direction with a speed {current['wind_speed']} m/s.\")"
   ]
  },
  {
   "cell_type": "code",
   "execution_count": 8,
   "metadata": {
    "execution": {
     "iopub.execute_input": "2021-10-24T01:57:24.489957Z",
     "iopub.status.busy": "2021-10-24T01:57:24.488771Z",
     "iopub.status.idle": "2021-10-24T01:57:24.497687Z",
     "shell.execute_reply": "2021-10-24T01:57:24.498467Z"
    }
   },
   "outputs": [],
   "source": [
    "df_hourly = pd.DataFrame(data['hourly'])\r\n",
    "df_daily = pd.DataFrame(data['daily'])"
   ]
  },
  {
   "cell_type": "code",
   "execution_count": 9,
   "metadata": {
    "execution": {
     "iopub.execute_input": "2021-10-24T01:57:24.502138Z",
     "iopub.status.busy": "2021-10-24T01:57:24.501045Z",
     "iopub.status.idle": "2021-10-24T01:57:24.906489Z",
     "shell.execute_reply": "2021-10-24T01:57:24.907651Z"
    }
   },
   "outputs": [
    {
     "data": {
      "image/png": "[encoded data removed]",
      "text/plain": [
       "<Figure size 864x432 with 1 Axes>"
      ]
     },
     "metadata": {
      "needs_background": "light"
     },
     "output_type": "display_data"
    }
   ],
   "source": [
    "fig, ax = plt.subplots(figsize=(12, 6))\r\n",
    "plt.plot(df_hourly.temp, '.-', label='Temperature')\r\n",
    "plt.plot(df_hourly.feels_like, '.-', label='Feels Like')\r\n",
    "ax.set(title='Temperature in future 48 hours', xlabel='Time', ylabel='Temperature')\r\n",
    "ax.set_xticks(list(range(0, len(df_hourly), 2)))\r\n",
    "ax.set_xticklabels([ts2dt(ts, '%m-%d %H:%M')[0] for i, ts in enumerate(df_hourly.dt) if i%2==0], \r\n",
    "                   rotation=45, ha=\"right\")\r\n",
    "ax.locator_params(nbins=15, axis='y')\r\n",
    "plt.legend()\r\n",
    "plt.show()"
   ]
  },
  {
   "cell_type": "code",
   "execution_count": 10,
   "metadata": {
    "execution": {
     "iopub.execute_input": "2021-10-24T01:57:24.915311Z",
     "iopub.status.busy": "2021-10-24T01:57:24.914745Z",
     "iopub.status.idle": "2021-10-24T01:57:24.937127Z",
     "shell.execute_reply": "2021-10-24T01:57:24.937707Z"
    }
   },
   "outputs": [
    {
     "data": {
      "text/html": [
       "<div>\n",
       "<style scoped>\n",
       "    .dataframe tbody tr th:only-of-type {\n",
       "        vertical-align: middle;\n",
       "    }\n",
       "\n",
       "    .dataframe tbody tr th {\n",
       "        vertical-align: top;\n",
       "    }\n",
       "\n",
       "    .dataframe thead th {\n",
       "        text-align: right;\n",
       "    }\n",
       "</style>\n",
       "<table border=\"1\" class=\"dataframe\">\n",
       "  <thead>\n",
       "    <tr style=\"text-align: right;\">\n",
       "      <th></th>\n",
       "      <th>dt</th>\n",
       "      <th>temp</th>\n",
       "      <th>feels_like</th>\n",
       "      <th>pressure</th>\n",
       "      <th>humidity</th>\n",
       "      <th>dew_point</th>\n",
       "      <th>uvi</th>\n",
       "      <th>clouds</th>\n",
       "      <th>visibility</th>\n",
       "      <th>wind_speed</th>\n",
       "      <th>wind_deg</th>\n",
       "      <th>wind_gust</th>\n",
       "      <th>weather</th>\n",
       "      <th>pop</th>\n",
       "      <th>rain</th>\n",
       "    </tr>\n",
       "  </thead>\n",
       "  <tbody>\n",
       "    <tr>\n",
       "      <th>0</th>\n",
       "      <td>1635037200</td>\n",
       "      <td>21.66</td>\n",
       "      <td>21.76</td>\n",
       "      <td>1018</td>\n",
       "      <td>72</td>\n",
       "      <td>16.40</td>\n",
       "      <td>2.11</td>\n",
       "      <td>18</td>\n",
       "      <td>10000</td>\n",
       "      <td>3.26</td>\n",
       "      <td>16</td>\n",
       "      <td>4.42</td>\n",
       "      <td>[{'id': 801, 'main': 'Clouds', 'description': ...</td>\n",
       "      <td>0.0</td>\n",
       "      <td>NaN</td>\n",
       "    </tr>\n",
       "    <tr>\n",
       "      <th>1</th>\n",
       "      <td>1635040800</td>\n",
       "      <td>21.97</td>\n",
       "      <td>22.15</td>\n",
       "      <td>1017</td>\n",
       "      <td>74</td>\n",
       "      <td>17.13</td>\n",
       "      <td>4.25</td>\n",
       "      <td>16</td>\n",
       "      <td>10000</td>\n",
       "      <td>3.09</td>\n",
       "      <td>19</td>\n",
       "      <td>4.14</td>\n",
       "      <td>[{'id': 801, 'main': 'Clouds', 'description': ...</td>\n",
       "      <td>0.0</td>\n",
       "      <td>NaN</td>\n",
       "    </tr>\n",
       "    <tr>\n",
       "      <th>2</th>\n",
       "      <td>1635044400</td>\n",
       "      <td>22.06</td>\n",
       "      <td>22.18</td>\n",
       "      <td>1018</td>\n",
       "      <td>71</td>\n",
       "      <td>16.56</td>\n",
       "      <td>6.38</td>\n",
       "      <td>15</td>\n",
       "      <td>10000</td>\n",
       "      <td>2.86</td>\n",
       "      <td>23</td>\n",
       "      <td>3.70</td>\n",
       "      <td>[{'id': 801, 'main': 'Clouds', 'description': ...</td>\n",
       "      <td>0.0</td>\n",
       "      <td>NaN</td>\n",
       "    </tr>\n",
       "    <tr>\n",
       "      <th>3</th>\n",
       "      <td>1635048000</td>\n",
       "      <td>22.46</td>\n",
       "      <td>22.54</td>\n",
       "      <td>1018</td>\n",
       "      <td>68</td>\n",
       "      <td>16.27</td>\n",
       "      <td>7.62</td>\n",
       "      <td>14</td>\n",
       "      <td>10000</td>\n",
       "      <td>3.06</td>\n",
       "      <td>32</td>\n",
       "      <td>3.65</td>\n",
       "      <td>[{'id': 801, 'main': 'Clouds', 'description': ...</td>\n",
       "      <td>0.0</td>\n",
       "      <td>NaN</td>\n",
       "    </tr>\n",
       "    <tr>\n",
       "      <th>4</th>\n",
       "      <td>1635051600</td>\n",
       "      <td>23.03</td>\n",
       "      <td>23.09</td>\n",
       "      <td>1018</td>\n",
       "      <td>65</td>\n",
       "      <td>16.10</td>\n",
       "      <td>7.47</td>\n",
       "      <td>12</td>\n",
       "      <td>10000</td>\n",
       "      <td>3.84</td>\n",
       "      <td>38</td>\n",
       "      <td>4.20</td>\n",
       "      <td>[{'id': 801, 'main': 'Clouds', 'description': ...</td>\n",
       "      <td>0.0</td>\n",
       "      <td>NaN</td>\n",
       "    </tr>\n",
       "  </tbody>\n",
       "</table>\n",
       "</div>"
      ],
      "text/plain": [
       "           dt   temp  feels_like  pressure  humidity  dew_point   uvi  clouds  \\\n",
       "0  1635037200  21.66       21.76      1018        72      16.40  2.11      18   \n",
       "1  1635040800  21.97       22.15      1017        74      17.13  4.25      16   \n",
       "2  1635044400  22.06       22.18      1018        71      16.56  6.38      15   \n",
       "3  1635048000  22.46       22.54      1018        68      16.27  7.62      14   \n",
       "4  1635051600  23.03       23.09      1018        65      16.10  7.47      12   \n",
       "\n",
       "   visibility  wind_speed  wind_deg  wind_gust  \\\n",
       "0       10000        3.26        16       4.42   \n",
       "1       10000        3.09        19       4.14   \n",
       "2       10000        2.86        23       3.70   \n",
       "3       10000        3.06        32       3.65   \n",
       "4       10000        3.84        38       4.20   \n",
       "\n",
       "                                             weather  pop rain  \n",
       "0  [{'id': 801, 'main': 'Clouds', 'description': ...  0.0  NaN  \n",
       "1  [{'id': 801, 'main': 'Clouds', 'description': ...  0.0  NaN  \n",
       "2  [{'id': 801, 'main': 'Clouds', 'description': ...  0.0  NaN  \n",
       "3  [{'id': 801, 'main': 'Clouds', 'description': ...  0.0  NaN  \n",
       "4  [{'id': 801, 'main': 'Clouds', 'description': ...  0.0  NaN  "
      ]
     },
     "execution_count": 10,
     "metadata": {},
     "output_type": "execute_result"
    }
   ],
   "source": [
    "df_hourly.head()"
   ]
  },
  {
   "cell_type": "code",
   "execution_count": null,
   "metadata": {},
   "outputs": [],
   "source": []
  }
 ],
 "metadata": {
  "interpreter": {
   "hash": "c1b4cfe941b6d2466ad1fb5979e97da9cda8801728c8091b097ab734208fc00c"
  },
  "kernelspec": {
   "display_name": "Python 3.8.3 64-bit ('base': conda)",
   "name": "python3"
  },
  "language_info": {
   "codemirror_mode": {
    "name": "ipython",
    "version": 3
   },
   "file_extension": ".py",
   "mimetype": "text/x-python",
   "name": "python",
   "nbconvert_exporter": "python",
   "pygments_lexer": "ipython3",
   "version": "3.8.12"
  }
 },
 "nbformat": 4,
 "nbformat_minor": 2
}
