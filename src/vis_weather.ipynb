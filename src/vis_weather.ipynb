{
 "cells": [
  {
   "cell_type": "code",
   "execution_count": 1,
   "metadata": {
    "execution": {
     "iopub.execute_input": "2021-08-31T19:12:25.716257Z",
     "iopub.status.busy": "2021-08-31T19:12:25.715602Z",
     "iopub.status.idle": "2021-08-31T19:12:28.465548Z",
     "shell.execute_reply": "2021-08-31T19:12:28.464549Z"
    }
   },
   "outputs": [],
   "source": [
    "import json, yaml, requests\r\n",
    "from datetime import datetime\r\n",
    "from dateutil import tz\r\n",
    "import pandas as pd\r\n",
    "from PIL import Image\r\n",
    "from io import BytesIO\r\n",
    "import matplotlib.pyplot as plt\r\n",
    "import seaborn\r\n",
    "\r\n",
    "CONFIG_PATH = \"../config/config.yaml\""
   ]
  },
  {
   "cell_type": "code",
   "execution_count": 2,
   "metadata": {
    "execution": {
     "iopub.execute_input": "2021-08-31T19:12:28.468700Z",
     "iopub.status.busy": "2021-08-31T19:12:28.468104Z",
     "iopub.status.idle": "2021-08-31T19:12:28.476818Z",
     "shell.execute_reply": "2021-08-31T19:12:28.476228Z"
    }
   },
   "outputs": [],
   "source": [
    "with open('../newest_ts', 'r') as f:\r\n",
    "    newest_ts = f.read()\r\n",
    "\r\n",
    "data_path = f\"../data/data_{newest_ts}.json\"\r\n",
    "with open(data_path, 'r') as f:\r\n",
    "    data = json.load(f)\r\n",
    "\r\n",
    "with open(CONFIG_PATH, \"r\") as stream:\r\n",
    "    config = yaml.safe_load(stream)\r\n",
    "\r\n",
    "TIME_ZONE = config['time_zone']\r\n",
    "DATETIME_FORMAT = config['dt_format']"
   ]
  },
  {
   "cell_type": "code",
   "execution_count": 3,
   "metadata": {
    "execution": {
     "iopub.execute_input": "2021-08-31T19:12:28.483095Z",
     "iopub.status.busy": "2021-08-31T19:12:28.482355Z",
     "iopub.status.idle": "2021-08-31T19:12:28.495596Z",
     "shell.execute_reply": "2021-08-31T19:12:28.495058Z"
    }
   },
   "outputs": [
    {
     "name": "stdout",
     "output_type": "stream",
     "text": [
      "Recent query happens at 2021-09-01 03:12:22 (CST).\n"
     ]
    }
   ],
   "source": [
    "def ts2dt(ts, format=DATETIME_FORMAT):\r\n",
    "    dt = (datetime.utcfromtimestamp(int(ts))\r\n",
    "                    .replace(tzinfo=tz.tzutc())\r\n",
    "                    # .astimezone(tz.tzlocal())\r\n",
    "                    .astimezone(tz.gettz(TIME_ZONE)))\r\n",
    "    return dt.strftime(format), dt\r\n",
    "\r\n",
    "_, newest_dt = ts2dt(newest_ts)\r\n",
    "print(f\"Recent query happens at {newest_dt.strftime(DATETIME_FORMAT)} ({newest_dt.tzname()}).\")"
   ]
  },
  {
   "cell_type": "code",
   "execution_count": 4,
   "metadata": {
    "execution": {
     "iopub.execute_input": "2021-08-31T19:12:28.503076Z",
     "iopub.status.busy": "2021-08-31T19:12:28.500417Z",
     "iopub.status.idle": "2021-08-31T19:12:28.503756Z",
     "shell.execute_reply": "2021-08-31T19:12:28.504245Z"
    }
   },
   "outputs": [],
   "source": [
    "def degrees_to_cardinal(d):\r\n",
    "  dirs = ['N', 'NNE', 'NE', 'ENE', 'E', 'ESE', 'SE', 'SSE', 'S', 'SSW', 'SW', 'WSW', 'W', 'WNW', 'NW', 'NNW']\r\n",
    "  ix = int(round(d / (360. / len(dirs))))\r\n",
    "  return dirs[ix % len(dirs)]"
   ]
  },
  {
   "cell_type": "code",
   "execution_count": 5,
   "metadata": {
    "execution": {
     "iopub.execute_input": "2021-08-31T19:12:28.509355Z",
     "iopub.status.busy": "2021-08-31T19:12:28.508003Z",
     "iopub.status.idle": "2021-08-31T19:12:28.509991Z",
     "shell.execute_reply": "2021-08-31T19:12:28.510506Z"
    }
   },
   "outputs": [],
   "source": [
    "# data.keys()"
   ]
  },
  {
   "cell_type": "code",
   "execution_count": 6,
   "metadata": {
    "execution": {
     "iopub.execute_input": "2021-08-31T19:12:28.515224Z",
     "iopub.status.busy": "2021-08-31T19:12:28.513790Z",
     "iopub.status.idle": "2021-08-31T19:12:28.515869Z",
     "shell.execute_reply": "2021-08-31T19:12:28.516359Z"
    }
   },
   "outputs": [],
   "source": [
    "# data['current']"
   ]
  },
  {
   "cell_type": "code",
   "execution_count": 7,
   "metadata": {
    "execution": {
     "iopub.execute_input": "2021-08-31T19:12:28.543571Z",
     "iopub.status.busy": "2021-08-31T19:12:28.519639Z",
     "iopub.status.idle": "2021-08-31T19:12:29.051314Z",
     "shell.execute_reply": "2021-08-31T19:12:29.051932Z"
    }
   },
   "outputs": [
    {
     "data": {
      "image/png": "[encoded data removed]",
      "text/plain": [
       "<Figure size 216x216 with 1 Axes>"
      ]
     },
     "metadata": {
      "needs_background": "light"
     },
     "output_type": "display_data"
    },
    {
     "name": "stdout",
     "output_type": "stream",
     "text": [
      "Today, sun rises at 06:05 and sets at 18:40.\n",
      "Currently, the weather is Clouds (overcast clouds).\n",
      "The temperature is 27.65°C and it feels like 32.66°C.\n",
      "The UV index is 0, humidity is 90%.\n",
      "The pressure is 1009 hPa, percentage of cloud cover is 100%\n",
      "The wind comes from ENE direction with a speed 6.17 m/s.\n"
     ]
    }
   ],
   "source": [
    "current = data['current']\r\n",
    "\r\n",
    "fig, ax = plt.subplots(figsize=(3, 3))\r\n",
    "icon = requests.get(f\"http://openweathermap.org/img/wn/{current['weather'][0]['icon']}@2x.png\")\r\n",
    "im = Image.open(BytesIO(icon.content))\r\n",
    "plt.imshow(im)\r\n",
    "ax.set_axis_off()\r\n",
    "plt.show()\r\n",
    "\r\n",
    "print(f\"Today, sun rises at {ts2dt(current['sunrise'], '%H:%M')[0]} \\\r\n",
    "and sets at {ts2dt(current['sunset'], '%H:%M')[0]}.\\n\\\r\n",
    "Currently, the weather is {current['weather'][0]['main']} ({current['weather'][0]['description']}).\\n\\\r\n",
    "The temperature is {current['temp']}°C and it feels like {current['feels_like']}°C.\\n\\\r\n",
    "The UV index is {current['uvi']}, humidity is {current['humidity']}%.\\n\\\r\n",
    "The pressure is {current['pressure']} hPa, percentage of cloud cover is {current['clouds']}%\\n\\\r\n",
    "The wind comes from {degrees_to_cardinal(current['wind_deg'])} direction with a speed {current['wind_speed']} m/s.\")"
   ]
  },
  {
   "cell_type": "code",
   "execution_count": 8,
   "metadata": {
    "execution": {
     "iopub.execute_input": "2021-08-31T19:12:29.057159Z",
     "iopub.status.busy": "2021-08-31T19:12:29.056413Z",
     "iopub.status.idle": "2021-08-31T19:12:29.062036Z",
     "shell.execute_reply": "2021-08-31T19:12:29.062566Z"
    }
   },
   "outputs": [],
   "source": [
    "df_hourly = pd.DataFrame(data['hourly'])\r\n",
    "df_daily = pd.DataFrame(data['daily'])"
   ]
  },
  {
   "cell_type": "code",
   "execution_count": 9,
   "metadata": {
    "execution": {
     "iopub.execute_input": "2021-08-31T19:12:29.065211Z",
     "iopub.status.busy": "2021-08-31T19:12:29.064618Z",
     "iopub.status.idle": "2021-08-31T19:12:29.407139Z",
     "shell.execute_reply": "2021-08-31T19:12:29.406613Z"
    }
   },
   "outputs": [
    {
     "data": {
      "image/png": "[encoded data removed]",
      "text/plain": [
       "<Figure size 864x432 with 1 Axes>"
      ]
     },
     "metadata": {
      "needs_background": "light"
     },
     "output_type": "display_data"
    }
   ],
   "source": [
    "fig, ax = plt.subplots(figsize=(12, 6))\r\n",
    "plt.plot(df_hourly.temp, '.-', label='Temperature')\r\n",
    "plt.plot(df_hourly.feels_like, '.-', label='Feels Like')\r\n",
    "ax.set(title='Temperature in future 48 hours', xlabel='Time', ylabel='Temperature')\r\n",
    "ax.set_xticks(list(range(0, len(df_hourly), 2)))\r\n",
    "ax.set_xticklabels([ts2dt(ts, '%m-%d %H:%M')[0] for i, ts in enumerate(df_hourly.dt) if i%2==0], \r\n",
    "                   rotation=45, ha=\"right\")\r\n",
    "ax.locator_params(nbins=15, axis='y')\r\n",
    "plt.legend()\r\n",
    "plt.show()"
   ]
  },
  {
   "cell_type": "code",
   "execution_count": 10,
   "metadata": {
    "execution": {
     "iopub.execute_input": "2021-08-31T19:12:29.422374Z",
     "iopub.status.busy": "2021-08-31T19:12:29.412573Z",
     "iopub.status.idle": "2021-08-31T19:12:29.436481Z",
     "shell.execute_reply": "2021-08-31T19:12:29.435954Z"
    }
   },
   "outputs": [
    {
     "data": {
      "text/html": [
       "<div>\n",
       "<style scoped>\n",
       "    .dataframe tbody tr th:only-of-type {\n",
       "        vertical-align: middle;\n",
       "    }\n",
       "\n",
       "    .dataframe tbody tr th {\n",
       "        vertical-align: top;\n",
       "    }\n",
       "\n",
       "    .dataframe thead th {\n",
       "        text-align: right;\n",
       "    }\n",
       "</style>\n",
       "<table border=\"1\" class=\"dataframe\">\n",
       "  <thead>\n",
       "    <tr style=\"text-align: right;\">\n",
       "      <th></th>\n",
       "      <th>dt</th>\n",
       "      <th>temp</th>\n",
       "      <th>feels_like</th>\n",
       "      <th>pressure</th>\n",
       "      <th>humidity</th>\n",
       "      <th>dew_point</th>\n",
       "      <th>uvi</th>\n",
       "      <th>clouds</th>\n",
       "      <th>visibility</th>\n",
       "      <th>wind_speed</th>\n",
       "      <th>wind_deg</th>\n",
       "      <th>wind_gust</th>\n",
       "      <th>weather</th>\n",
       "      <th>pop</th>\n",
       "      <th>rain</th>\n",
       "    </tr>\n",
       "  </thead>\n",
       "  <tbody>\n",
       "    <tr>\n",
       "      <th>0</th>\n",
       "      <td>1630436400</td>\n",
       "      <td>27.65</td>\n",
       "      <td>32.66</td>\n",
       "      <td>1009</td>\n",
       "      <td>90</td>\n",
       "      <td>25.86</td>\n",
       "      <td>0.00</td>\n",
       "      <td>100</td>\n",
       "      <td>10000</td>\n",
       "      <td>6.17</td>\n",
       "      <td>76</td>\n",
       "      <td>8.56</td>\n",
       "      <td>[{'id': 500, 'main': 'Rain', 'description': 'l...</td>\n",
       "      <td>0.66</td>\n",
       "      <td>{'1h': 0.24}</td>\n",
       "    </tr>\n",
       "    <tr>\n",
       "      <th>1</th>\n",
       "      <td>1630440000</td>\n",
       "      <td>27.51</td>\n",
       "      <td>31.95</td>\n",
       "      <td>1009</td>\n",
       "      <td>88</td>\n",
       "      <td>25.34</td>\n",
       "      <td>0.00</td>\n",
       "      <td>100</td>\n",
       "      <td>10000</td>\n",
       "      <td>6.01</td>\n",
       "      <td>75</td>\n",
       "      <td>8.32</td>\n",
       "      <td>[{'id': 804, 'main': 'Clouds', 'description': ...</td>\n",
       "      <td>0.66</td>\n",
       "      <td>NaN</td>\n",
       "    </tr>\n",
       "    <tr>\n",
       "      <th>2</th>\n",
       "      <td>1630443600</td>\n",
       "      <td>27.37</td>\n",
       "      <td>31.55</td>\n",
       "      <td>1009</td>\n",
       "      <td>88</td>\n",
       "      <td>25.20</td>\n",
       "      <td>0.00</td>\n",
       "      <td>100</td>\n",
       "      <td>10000</td>\n",
       "      <td>6.00</td>\n",
       "      <td>74</td>\n",
       "      <td>8.11</td>\n",
       "      <td>[{'id': 804, 'main': 'Clouds', 'description': ...</td>\n",
       "      <td>0.66</td>\n",
       "      <td>NaN</td>\n",
       "    </tr>\n",
       "    <tr>\n",
       "      <th>3</th>\n",
       "      <td>1630447200</td>\n",
       "      <td>27.10</td>\n",
       "      <td>30.69</td>\n",
       "      <td>1009</td>\n",
       "      <td>87</td>\n",
       "      <td>24.75</td>\n",
       "      <td>0.00</td>\n",
       "      <td>98</td>\n",
       "      <td>10000</td>\n",
       "      <td>6.08</td>\n",
       "      <td>75</td>\n",
       "      <td>8.30</td>\n",
       "      <td>[{'id': 501, 'main': 'Rain', 'description': 'm...</td>\n",
       "      <td>0.70</td>\n",
       "      <td>{'1h': 1.05}</td>\n",
       "    </tr>\n",
       "    <tr>\n",
       "      <th>4</th>\n",
       "      <td>1630450800</td>\n",
       "      <td>27.13</td>\n",
       "      <td>30.66</td>\n",
       "      <td>1010</td>\n",
       "      <td>86</td>\n",
       "      <td>24.58</td>\n",
       "      <td>0.33</td>\n",
       "      <td>96</td>\n",
       "      <td>10000</td>\n",
       "      <td>6.10</td>\n",
       "      <td>83</td>\n",
       "      <td>8.66</td>\n",
       "      <td>[{'id': 501, 'main': 'Rain', 'description': 'm...</td>\n",
       "      <td>0.70</td>\n",
       "      <td>{'1h': 1.51}</td>\n",
       "    </tr>\n",
       "  </tbody>\n",
       "</table>\n",
       "</div>"
      ],
      "text/plain": [
       "           dt   temp  feels_like  pressure  humidity  dew_point   uvi  clouds  \\\n",
       "0  1630436400  27.65       32.66      1009        90      25.86  0.00     100   \n",
       "1  1630440000  27.51       31.95      1009        88      25.34  0.00     100   \n",
       "2  1630443600  27.37       31.55      1009        88      25.20  0.00     100   \n",
       "3  1630447200  27.10       30.69      1009        87      24.75  0.00      98   \n",
       "4  1630450800  27.13       30.66      1010        86      24.58  0.33      96   \n",
       "\n",
       "   visibility  wind_speed  wind_deg  wind_gust  \\\n",
       "0       10000        6.17        76       8.56   \n",
       "1       10000        6.01        75       8.32   \n",
       "2       10000        6.00        74       8.11   \n",
       "3       10000        6.08        75       8.30   \n",
       "4       10000        6.10        83       8.66   \n",
       "\n",
       "                                             weather   pop          rain  \n",
       "0  [{'id': 500, 'main': 'Rain', 'description': 'l...  0.66  {'1h': 0.24}  \n",
       "1  [{'id': 804, 'main': 'Clouds', 'description': ...  0.66           NaN  \n",
       "2  [{'id': 804, 'main': 'Clouds', 'description': ...  0.66           NaN  \n",
       "3  [{'id': 501, 'main': 'Rain', 'description': 'm...  0.70  {'1h': 1.05}  \n",
       "4  [{'id': 501, 'main': 'Rain', 'description': 'm...  0.70  {'1h': 1.51}  "
      ]
     },
     "execution_count": 10,
     "metadata": {},
     "output_type": "execute_result"
    }
   ],
   "source": [
    "df_hourly.head()"
   ]
  },
  {
   "cell_type": "code",
   "execution_count": null,
   "metadata": {},
   "outputs": [],
   "source": []
  }
 ],
 "metadata": {
  "interpreter": {
   "hash": "c1b4cfe941b6d2466ad1fb5979e97da9cda8801728c8091b097ab734208fc00c"
  },
  "kernelspec": {
   "display_name": "Python 3.8.3 64-bit ('base': conda)",
   "name": "python3"
  },
  "language_info": {
   "codemirror_mode": {
    "name": "ipython",
    "version": 3
   },
   "file_extension": ".py",
   "mimetype": "text/x-python",
   "name": "python",
   "nbconvert_exporter": "python",
   "pygments_lexer": "ipython3",
   "version": "3.8.11"
  }
 },
 "nbformat": 4,
 "nbformat_minor": 2
}
