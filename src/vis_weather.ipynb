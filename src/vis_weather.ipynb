{
 "cells": [
  {
   "cell_type": "code",
   "execution_count": 1,
   "metadata": {
    "execution": {
     "iopub.execute_input": "2021-08-26T04:20:07.660050Z",
     "iopub.status.busy": "2021-08-26T04:20:07.659467Z",
     "iopub.status.idle": "2021-08-26T04:20:11.554199Z",
     "shell.execute_reply": "2021-08-26T04:20:11.553604Z"
    }
   },
   "outputs": [],
   "source": [
    "import json, yaml, requests\r\n",
    "from datetime import datetime\r\n",
    "from dateutil import tz\r\n",
    "import pandas as pd\r\n",
    "from PIL import Image\r\n",
    "from io import BytesIO\r\n",
    "import matplotlib.pyplot as plt\r\n",
    "import seaborn\r\n",
    "\r\n",
    "CONFIG_PATH = \"../config/config.yaml\""
   ]
  },
  {
   "cell_type": "code",
   "execution_count": 2,
   "metadata": {
    "execution": {
     "iopub.execute_input": "2021-08-26T04:20:11.559931Z",
     "iopub.status.busy": "2021-08-26T04:20:11.558733Z",
     "iopub.status.idle": "2021-08-26T04:20:11.565186Z",
     "shell.execute_reply": "2021-08-26T04:20:11.564424Z"
    }
   },
   "outputs": [],
   "source": [
    "with open('../newest_ts', 'r') as f:\r\n",
    "    newest_ts = f.read()\r\n",
    "\r\n",
    "data_path = f\"../data/data_{newest_ts}.json\"\r\n",
    "with open(data_path, 'r') as f:\r\n",
    "    data = json.load(f)\r\n",
    "\r\n",
    "with open(CONFIG_PATH, \"r\") as stream:\r\n",
    "    config = yaml.safe_load(stream)\r\n",
    "\r\n",
    "TIME_ZONE = config['time_zone']\r\n",
    "DATETIME_FORMAT = config['dt_format']"
   ]
  },
  {
   "cell_type": "code",
   "execution_count": 3,
   "metadata": {
    "execution": {
     "iopub.execute_input": "2021-08-26T04:20:11.570394Z",
     "iopub.status.busy": "2021-08-26T04:20:11.569336Z",
     "iopub.status.idle": "2021-08-26T04:20:11.598014Z",
     "shell.execute_reply": "2021-08-26T04:20:11.597412Z"
    }
   },
   "outputs": [
    {
     "name": "stdout",
     "output_type": "stream",
     "text": [
      "Recent query happens at 2021-08-26 12:20:04 (CST).\n"
     ]
    }
   ],
   "source": [
    "def ts2dt(ts, format=DATETIME_FORMAT):\r\n",
    "    dt = (datetime.utcfromtimestamp(int(ts))\r\n",
    "                    .replace(tzinfo=tz.tzutc())\r\n",
    "                    # .astimezone(tz.tzlocal())\r\n",
    "                    .astimezone(tz.gettz(TIME_ZONE)))\r\n",
    "    return dt.strftime(format), dt\r\n",
    "\r\n",
    "_, newest_dt = ts2dt(newest_ts)\r\n",
    "print(f\"Recent query happens at {newest_dt.strftime(DATETIME_FORMAT)} ({newest_dt.tzname()}).\")"
   ]
  },
  {
   "cell_type": "code",
   "execution_count": 4,
   "metadata": {
    "execution": {
     "iopub.execute_input": "2021-08-26T04:20:11.603292Z",
     "iopub.status.busy": "2021-08-26T04:20:11.602668Z",
     "iopub.status.idle": "2021-08-26T04:20:11.604987Z",
     "shell.execute_reply": "2021-08-26T04:20:11.604450Z"
    }
   },
   "outputs": [],
   "source": [
    "def degrees_to_cardinal(d):\r\n",
    "  dirs = ['N', 'NNE', 'NE', 'ENE', 'E', 'ESE', 'SE', 'SSE', 'S', 'SSW', 'SW', 'WSW', 'W', 'WNW', 'NW', 'NNW']\r\n",
    "  ix = int(round(d / (360. / len(dirs))))\r\n",
    "  return dirs[ix % len(dirs)]"
   ]
  },
  {
   "cell_type": "code",
   "execution_count": 5,
   "metadata": {
    "execution": {
     "iopub.execute_input": "2021-08-26T04:20:11.608387Z",
     "iopub.status.busy": "2021-08-26T04:20:11.607324Z",
     "iopub.status.idle": "2021-08-26T04:20:11.611583Z",
     "shell.execute_reply": "2021-08-26T04:20:11.611147Z"
    }
   },
   "outputs": [],
   "source": [
    "# data.keys()"
   ]
  },
  {
   "cell_type": "code",
   "execution_count": 6,
   "metadata": {
    "execution": {
     "iopub.execute_input": "2021-08-26T04:20:11.614794Z",
     "iopub.status.busy": "2021-08-26T04:20:11.613873Z",
     "iopub.status.idle": "2021-08-26T04:20:11.617929Z",
     "shell.execute_reply": "2021-08-26T04:20:11.617434Z"
    }
   },
   "outputs": [],
   "source": [
    "# data['current']"
   ]
  },
  {
   "cell_type": "code",
   "execution_count": 7,
   "metadata": {
    "execution": {
     "iopub.execute_input": "2021-08-26T04:20:11.639915Z",
     "iopub.status.busy": "2021-08-26T04:20:11.639315Z",
     "iopub.status.idle": "2021-08-26T04:20:12.073504Z",
     "shell.execute_reply": "2021-08-26T04:20:12.074346Z"
    }
   },
   "outputs": [
    {
     "data": {
      "image/png": "[encoded data removed]",
      "text/plain": [
       "<Figure size 216x216 with 1 Axes>"
      ]
     },
     "metadata": {
      "needs_background": "light"
     },
     "output_type": "display_data"
    },
    {
     "name": "stdout",
     "output_type": "stream",
     "text": [
      "Today, sun rises at 06:03 and sets at 18:46.\n",
      "Currently, the weather is Clouds (broken clouds).\n",
      "The temperature is 32.24°C and it feels like 39.24°C.\n",
      "The UV index is 11.2, humidity is 72%.\n",
      "The pressure is 1012 hPa, percentage of cloud cover is 67%\n",
      "The wind comes from SE direction with a speed 3.27 m/s.\n"
     ]
    }
   ],
   "source": [
    "current = data['current']\r\n",
    "\r\n",
    "fig, ax = plt.subplots(figsize=(3, 3))\r\n",
    "icon = requests.get(f\"http://openweathermap.org/img/wn/{current['weather'][0]['icon']}@2x.png\")\r\n",
    "im = Image.open(BytesIO(icon.content))\r\n",
    "plt.imshow(im)\r\n",
    "ax.set_axis_off()\r\n",
    "plt.show()\r\n",
    "\r\n",
    "print(f\"Today, sun rises at {ts2dt(current['sunrise'], '%H:%M')[0]} \\\r\n",
    "and sets at {ts2dt(current['sunset'], '%H:%M')[0]}.\\n\\\r\n",
    "Currently, the weather is {current['weather'][0]['main']} ({current['weather'][0]['description']}).\\n\\\r\n",
    "The temperature is {current['temp']}°C and it feels like {current['feels_like']}°C.\\n\\\r\n",
    "The UV index is {current['uvi']}, humidity is {current['humidity']}%.\\n\\\r\n",
    "The pressure is {current['pressure']} hPa, percentage of cloud cover is {current['clouds']}%\\n\\\r\n",
    "The wind comes from {degrees_to_cardinal(current['wind_deg'])} direction with a speed {current['wind_speed']} m/s.\")"
   ]
  },
  {
   "cell_type": "code",
   "execution_count": 8,
   "metadata": {
    "execution": {
     "iopub.execute_input": "2021-08-26T04:20:12.077902Z",
     "iopub.status.busy": "2021-08-26T04:20:12.076840Z",
     "iopub.status.idle": "2021-08-26T04:20:12.085081Z",
     "shell.execute_reply": "2021-08-26T04:20:12.085832Z"
    }
   },
   "outputs": [],
   "source": [
    "df_hourly = pd.DataFrame(data['hourly'])\r\n",
    "df_daily = pd.DataFrame(data['daily'])"
   ]
  },
  {
   "cell_type": "code",
   "execution_count": 9,
   "metadata": {
    "execution": {
     "iopub.execute_input": "2021-08-26T04:20:12.089219Z",
     "iopub.status.busy": "2021-08-26T04:20:12.088159Z",
     "iopub.status.idle": "2021-08-26T04:20:12.409370Z",
     "shell.execute_reply": "2021-08-26T04:20:12.410147Z"
    }
   },
   "outputs": [
    {
     "data": {
      "image/png": "[encoded data removed]",
      "text/plain": [
       "<Figure size 864x432 with 1 Axes>"
      ]
     },
     "metadata": {
      "needs_background": "light"
     },
     "output_type": "display_data"
    }
   ],
   "source": [
    "fig, ax = plt.subplots(figsize=(12, 6))\r\n",
    "plt.plot(df_hourly.temp, '.-', label='Temperature')\r\n",
    "plt.plot(df_hourly.feels_like, '.-', label='Feels Like')\r\n",
    "ax.set(title='Temperature in future 48 hours', xlabel='Time', ylabel='Temperature')\r\n",
    "ax.set_xticks(list(range(0, len(df_hourly), 2)))\r\n",
    "ax.set_xticklabels([ts2dt(ts, '%m-%d %H:%M')[0] for i, ts in enumerate(df_hourly.dt) if i%2==0], \r\n",
    "                   rotation=45, ha=\"right\")\r\n",
    "ax.locator_params(nbins=15, axis='y')\r\n",
    "plt.legend()\r\n",
    "plt.show()"
   ]
  },
  {
   "cell_type": "code",
   "execution_count": 10,
   "metadata": {
    "execution": {
     "iopub.execute_input": "2021-08-26T04:20:12.422685Z",
     "iopub.status.busy": "2021-08-26T04:20:12.414268Z",
     "iopub.status.idle": "2021-08-26T04:20:12.435507Z",
     "shell.execute_reply": "2021-08-26T04:20:12.436006Z"
    }
   },
   "outputs": [
    {
     "data": {
      "text/html": [
       "<div>\n",
       "<style scoped>\n",
       "    .dataframe tbody tr th:only-of-type {\n",
       "        vertical-align: middle;\n",
       "    }\n",
       "\n",
       "    .dataframe tbody tr th {\n",
       "        vertical-align: top;\n",
       "    }\n",
       "\n",
       "    .dataframe thead th {\n",
       "        text-align: right;\n",
       "    }\n",
       "</style>\n",
       "<table border=\"1\" class=\"dataframe\">\n",
       "  <thead>\n",
       "    <tr style=\"text-align: right;\">\n",
       "      <th></th>\n",
       "      <th>dt</th>\n",
       "      <th>temp</th>\n",
       "      <th>feels_like</th>\n",
       "      <th>pressure</th>\n",
       "      <th>humidity</th>\n",
       "      <th>dew_point</th>\n",
       "      <th>uvi</th>\n",
       "      <th>clouds</th>\n",
       "      <th>visibility</th>\n",
       "      <th>wind_speed</th>\n",
       "      <th>wind_deg</th>\n",
       "      <th>wind_gust</th>\n",
       "      <th>weather</th>\n",
       "      <th>pop</th>\n",
       "      <th>rain</th>\n",
       "    </tr>\n",
       "  </thead>\n",
       "  <tbody>\n",
       "    <tr>\n",
       "      <th>0</th>\n",
       "      <td>1629950400</td>\n",
       "      <td>32.24</td>\n",
       "      <td>39.24</td>\n",
       "      <td>1012</td>\n",
       "      <td>72</td>\n",
       "      <td>26.54</td>\n",
       "      <td>11.20</td>\n",
       "      <td>67</td>\n",
       "      <td>10000</td>\n",
       "      <td>3.27</td>\n",
       "      <td>128</td>\n",
       "      <td>3.25</td>\n",
       "      <td>[{'id': 500, 'main': 'Rain', 'description': 'l...</td>\n",
       "      <td>0.86</td>\n",
       "      <td>{'1h': 0.54}</td>\n",
       "    </tr>\n",
       "    <tr>\n",
       "      <th>1</th>\n",
       "      <td>1629954000</td>\n",
       "      <td>31.79</td>\n",
       "      <td>38.79</td>\n",
       "      <td>1012</td>\n",
       "      <td>71</td>\n",
       "      <td>25.88</td>\n",
       "      <td>11.03</td>\n",
       "      <td>68</td>\n",
       "      <td>10000</td>\n",
       "      <td>3.88</td>\n",
       "      <td>125</td>\n",
       "      <td>3.67</td>\n",
       "      <td>[{'id': 803, 'main': 'Clouds', 'description': ...</td>\n",
       "      <td>0.88</td>\n",
       "      <td>NaN</td>\n",
       "    </tr>\n",
       "    <tr>\n",
       "      <th>2</th>\n",
       "      <td>1629957600</td>\n",
       "      <td>31.34</td>\n",
       "      <td>38.34</td>\n",
       "      <td>1011</td>\n",
       "      <td>70</td>\n",
       "      <td>25.21</td>\n",
       "      <td>9.16</td>\n",
       "      <td>71</td>\n",
       "      <td>10000</td>\n",
       "      <td>3.74</td>\n",
       "      <td>124</td>\n",
       "      <td>3.52</td>\n",
       "      <td>[{'id': 803, 'main': 'Clouds', 'description': ...</td>\n",
       "      <td>0.88</td>\n",
       "      <td>NaN</td>\n",
       "    </tr>\n",
       "    <tr>\n",
       "      <th>3</th>\n",
       "      <td>1629961200</td>\n",
       "      <td>30.87</td>\n",
       "      <td>36.96</td>\n",
       "      <td>1011</td>\n",
       "      <td>69</td>\n",
       "      <td>24.52</td>\n",
       "      <td>5.96</td>\n",
       "      <td>87</td>\n",
       "      <td>10000</td>\n",
       "      <td>3.55</td>\n",
       "      <td>122</td>\n",
       "      <td>3.31</td>\n",
       "      <td>[{'id': 804, 'main': 'Clouds', 'description': ...</td>\n",
       "      <td>0.04</td>\n",
       "      <td>NaN</td>\n",
       "    </tr>\n",
       "    <tr>\n",
       "      <th>4</th>\n",
       "      <td>1629964800</td>\n",
       "      <td>30.26</td>\n",
       "      <td>35.17</td>\n",
       "      <td>1010</td>\n",
       "      <td>68</td>\n",
       "      <td>23.69</td>\n",
       "      <td>3.17</td>\n",
       "      <td>90</td>\n",
       "      <td>10000</td>\n",
       "      <td>3.63</td>\n",
       "      <td>121</td>\n",
       "      <td>3.57</td>\n",
       "      <td>[{'id': 804, 'main': 'Clouds', 'description': ...</td>\n",
       "      <td>0.10</td>\n",
       "      <td>NaN</td>\n",
       "    </tr>\n",
       "  </tbody>\n",
       "</table>\n",
       "</div>"
      ],
      "text/plain": [
       "           dt   temp  feels_like  pressure  humidity  dew_point    uvi  \\\n",
       "0  1629950400  32.24       39.24      1012        72      26.54  11.20   \n",
       "1  1629954000  31.79       38.79      1012        71      25.88  11.03   \n",
       "2  1629957600  31.34       38.34      1011        70      25.21   9.16   \n",
       "3  1629961200  30.87       36.96      1011        69      24.52   5.96   \n",
       "4  1629964800  30.26       35.17      1010        68      23.69   3.17   \n",
       "\n",
       "   clouds  visibility  wind_speed  wind_deg  wind_gust  \\\n",
       "0      67       10000        3.27       128       3.25   \n",
       "1      68       10000        3.88       125       3.67   \n",
       "2      71       10000        3.74       124       3.52   \n",
       "3      87       10000        3.55       122       3.31   \n",
       "4      90       10000        3.63       121       3.57   \n",
       "\n",
       "                                             weather   pop          rain  \n",
       "0  [{'id': 500, 'main': 'Rain', 'description': 'l...  0.86  {'1h': 0.54}  \n",
       "1  [{'id': 803, 'main': 'Clouds', 'description': ...  0.88           NaN  \n",
       "2  [{'id': 803, 'main': 'Clouds', 'description': ...  0.88           NaN  \n",
       "3  [{'id': 804, 'main': 'Clouds', 'description': ...  0.04           NaN  \n",
       "4  [{'id': 804, 'main': 'Clouds', 'description': ...  0.10           NaN  "
      ]
     },
     "execution_count": 10,
     "metadata": {},
     "output_type": "execute_result"
    }
   ],
   "source": [
    "df_hourly.head()"
   ]
  },
  {
   "cell_type": "code",
   "execution_count": null,
   "metadata": {},
   "outputs": [],
   "source": []
  }
 ],
 "metadata": {
  "interpreter": {
   "hash": "c1b4cfe941b6d2466ad1fb5979e97da9cda8801728c8091b097ab734208fc00c"
  },
  "kernelspec": {
   "display_name": "Python 3.8.3 64-bit ('base': conda)",
   "name": "python3"
  },
  "language_info": {
   "codemirror_mode": {
    "name": "ipython",
    "version": 3
   },
   "file_extension": ".py",
   "mimetype": "text/x-python",
   "name": "python",
   "nbconvert_exporter": "python",
   "pygments_lexer": "ipython3",
   "version": "3.8.11"
  }
 },
 "nbformat": 4,
 "nbformat_minor": 2
}
