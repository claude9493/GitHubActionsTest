{
 "cells": [
  {
   "cell_type": "code",
   "execution_count": 1,
   "metadata": {
    "execution": {
     "iopub.execute_input": "2021-08-23T11:12:53.722273Z",
     "iopub.status.busy": "2021-08-23T11:12:53.721502Z",
     "iopub.status.idle": "2021-08-23T11:12:55.200380Z",
     "shell.execute_reply": "2021-08-23T11:12:55.201023Z"
    }
   },
   "outputs": [],
   "source": [
    "import json, yaml, requests\r\n",
    "from datetime import datetime\r\n",
    "from dateutil import tz\r\n",
    "import pandas as pd\r\n",
    "from PIL import Image\r\n",
    "from io import BytesIO\r\n",
    "import matplotlib.pyplot as plt\r\n",
    "import seaborn\r\n",
    "\r\n",
    "CONFIG_PATH = \"../config/config.yaml\""
   ]
  },
  {
   "cell_type": "code",
   "execution_count": 2,
   "metadata": {
    "execution": {
     "iopub.execute_input": "2021-08-23T11:12:55.207104Z",
     "iopub.status.busy": "2021-08-23T11:12:55.206540Z",
     "iopub.status.idle": "2021-08-23T11:12:55.212417Z",
     "shell.execute_reply": "2021-08-23T11:12:55.211893Z"
    }
   },
   "outputs": [],
   "source": [
    "with open('../newest_ts', 'r') as f:\r\n",
    "    newest_ts = f.read()\r\n",
    "\r\n",
    "data_path = f\"../data/data_{newest_ts}.json\"\r\n",
    "with open(data_path, 'r') as f:\r\n",
    "    data = json.load(f)\r\n",
    "\r\n",
    "with open(CONFIG_PATH, \"r\") as stream:\r\n",
    "    config = yaml.safe_load(stream)\r\n",
    "\r\n",
    "TIME_ZONE = config['time_zone']\r\n",
    "DATETIME_FORMAT = config['dt_format']"
   ]
  },
  {
   "cell_type": "code",
   "execution_count": 3,
   "metadata": {
    "execution": {
     "iopub.execute_input": "2021-08-23T11:12:55.218506Z",
     "iopub.status.busy": "2021-08-23T11:12:55.216623Z",
     "iopub.status.idle": "2021-08-23T11:12:55.221593Z",
     "shell.execute_reply": "2021-08-23T11:12:55.222015Z"
    }
   },
   "outputs": [
    {
     "name": "stdout",
     "output_type": "stream",
     "text": [
      "Recent query happens at 2021-08-23 19:12:50 (CST).\n"
     ]
    }
   ],
   "source": [
    "def ts2dt(ts, format=DATETIME_FORMAT):\r\n",
    "    dt = (datetime.utcfromtimestamp(int(ts))\r\n",
    "                    .replace(tzinfo=tz.tzutc())\r\n",
    "                    # .astimezone(tz.tzlocal())\r\n",
    "                    .astimezone(tz.gettz(TIME_ZONE)))\r\n",
    "    return dt.strftime(format), dt\r\n",
    "\r\n",
    "_, newest_dt = ts2dt(newest_ts)\r\n",
    "print(f\"Recent query happens at {newest_dt.strftime(DATETIME_FORMAT)} ({newest_dt.tzname()}).\")"
   ]
  },
  {
   "cell_type": "code",
   "execution_count": 4,
   "metadata": {
    "execution": {
     "iopub.execute_input": "2021-08-23T11:12:55.227781Z",
     "iopub.status.busy": "2021-08-23T11:12:55.226308Z",
     "iopub.status.idle": "2021-08-23T11:12:55.228815Z",
     "shell.execute_reply": "2021-08-23T11:12:55.229346Z"
    }
   },
   "outputs": [],
   "source": [
    "def degrees_to_cardinal(d):\r\n",
    "  dirs = ['N', 'NNE', 'NE', 'ENE', 'E', 'ESE', 'SE', 'SSE', 'S', 'SSW', 'SW', 'WSW', 'W', 'WNW', 'NW', 'NNW']\r\n",
    "  ix = int(round(d / (360. / len(dirs))))\r\n",
    "  return dirs[ix % len(dirs)]"
   ]
  },
  {
   "cell_type": "code",
   "execution_count": 5,
   "metadata": {
    "execution": {
     "iopub.execute_input": "2021-08-23T11:12:55.234331Z",
     "iopub.status.busy": "2021-08-23T11:12:55.233217Z",
     "iopub.status.idle": "2021-08-23T11:12:55.235631Z",
     "shell.execute_reply": "2021-08-23T11:12:55.236166Z"
    }
   },
   "outputs": [],
   "source": [
    "# data.keys()"
   ]
  },
  {
   "cell_type": "code",
   "execution_count": 6,
   "metadata": {
    "execution": {
     "iopub.execute_input": "2021-08-23T11:12:55.240618Z",
     "iopub.status.busy": "2021-08-23T11:12:55.239199Z",
     "iopub.status.idle": "2021-08-23T11:12:55.241220Z",
     "shell.execute_reply": "2021-08-23T11:12:55.241649Z"
    }
   },
   "outputs": [],
   "source": [
    "# data['current']"
   ]
  },
  {
   "cell_type": "code",
   "execution_count": 7,
   "metadata": {
    "execution": {
     "iopub.execute_input": "2021-08-23T11:12:55.252920Z",
     "iopub.status.busy": "2021-08-23T11:12:55.252356Z",
     "iopub.status.idle": "2021-08-23T11:12:55.835770Z",
     "shell.execute_reply": "2021-08-23T11:12:55.836659Z"
    }
   },
   "outputs": [
    {
     "data": {
      "image/png": "[encoded data removed]",
      "text/plain": [
       "<Figure size 216x216 with 1 Axes>"
      ]
     },
     "metadata": {
      "needs_background": "light"
     },
     "output_type": "display_data"
    },
    {
     "name": "stdout",
     "output_type": "stream",
     "text": [
      "Today, sun rises at 06:03 and sets at 18:48.\n",
      "Currently, the weather is Clouds (overcast clouds).\n",
      "The temperature is 30.35°C and it feels like 37.35°C.\n",
      "The UV index is 0, humidity is 79%.\n",
      "The pressure is 1006 hPa, percentage of cloud cover is 95%\n",
      "The wind comes from S direction with a speed 3.35 m/s.\n"
     ]
    }
   ],
   "source": [
    "current = data['current']\r\n",
    "\r\n",
    "fig, ax = plt.subplots(figsize=(3, 3))\r\n",
    "icon = requests.get(f\"http://openweathermap.org/img/wn/{current['weather'][0]['icon']}@2x.png\")\r\n",
    "im = Image.open(BytesIO(icon.content))\r\n",
    "plt.imshow(im)\r\n",
    "ax.set_axis_off()\r\n",
    "plt.show()\r\n",
    "\r\n",
    "print(f\"Today, sun rises at {ts2dt(current['sunrise'], '%H:%M')[0]} \\\r\n",
    "and sets at {ts2dt(current['sunset'], '%H:%M')[0]}.\\n\\\r\n",
    "Currently, the weather is {current['weather'][0]['main']} ({current['weather'][0]['description']}).\\n\\\r\n",
    "The temperature is {current['temp']}°C and it feels like {current['feels_like']}°C.\\n\\\r\n",
    "The UV index is {current['uvi']}, humidity is {current['humidity']}%.\\n\\\r\n",
    "The pressure is {current['pressure']} hPa, percentage of cloud cover is {current['clouds']}%\\n\\\r\n",
    "The wind comes from {degrees_to_cardinal(current['wind_deg'])} direction with a speed {current['wind_speed']} m/s.\")"
   ]
  },
  {
   "cell_type": "code",
   "execution_count": 8,
   "metadata": {
    "execution": {
     "iopub.execute_input": "2021-08-23T11:12:55.839952Z",
     "iopub.status.busy": "2021-08-23T11:12:55.838918Z",
     "iopub.status.idle": "2021-08-23T11:12:55.847106Z",
     "shell.execute_reply": "2021-08-23T11:12:55.848137Z"
    }
   },
   "outputs": [],
   "source": [
    "df_hourly = pd.DataFrame(data['hourly'])\r\n",
    "df_daily = pd.DataFrame(data['daily'])"
   ]
  },
  {
   "cell_type": "code",
   "execution_count": 9,
   "metadata": {
    "execution": {
     "iopub.execute_input": "2021-08-23T11:12:55.851475Z",
     "iopub.status.busy": "2021-08-23T11:12:55.850355Z",
     "iopub.status.idle": "2021-08-23T11:12:56.179980Z",
     "shell.execute_reply": "2021-08-23T11:12:56.179231Z"
    }
   },
   "outputs": [
    {
     "data": {
      "image/png": "[encoded data removed]",
      "text/plain": [
       "<Figure size 864x432 with 1 Axes>"
      ]
     },
     "metadata": {
      "needs_background": "light"
     },
     "output_type": "display_data"
    }
   ],
   "source": [
    "fig, ax = plt.subplots(figsize=(12, 6))\r\n",
    "plt.plot(df_hourly.temp, '.-', label='Temperature')\r\n",
    "plt.plot(df_hourly.feels_like, '.-', label='Feels Like')\r\n",
    "ax.set(title='Temperature in future 48 hours', xlabel='Time', ylabel='Temperature')\r\n",
    "ax.set_xticks(list(range(0, len(df_hourly), 2)))\r\n",
    "ax.set_xticklabels([ts2dt(ts, '%m-%d %H:%M')[0] for i, ts in enumerate(df_hourly.dt) if i%2==0], \r\n",
    "                   rotation=45, ha=\"right\")\r\n",
    "ax.locator_params(nbins=15, axis='y')\r\n",
    "plt.legend()\r\n",
    "plt.show()"
   ]
  },
  {
   "cell_type": "code",
   "execution_count": 10,
   "metadata": {
    "execution": {
     "iopub.execute_input": "2021-08-23T11:12:56.185342Z",
     "iopub.status.busy": "2021-08-23T11:12:56.184728Z",
     "iopub.status.idle": "2021-08-23T11:12:56.204992Z",
     "shell.execute_reply": "2021-08-23T11:12:56.205483Z"
    }
   },
   "outputs": [
    {
     "data": {
      "text/html": [
       "<div>\n",
       "<style scoped>\n",
       "    .dataframe tbody tr th:only-of-type {\n",
       "        vertical-align: middle;\n",
       "    }\n",
       "\n",
       "    .dataframe tbody tr th {\n",
       "        vertical-align: top;\n",
       "    }\n",
       "\n",
       "    .dataframe thead th {\n",
       "        text-align: right;\n",
       "    }\n",
       "</style>\n",
       "<table border=\"1\" class=\"dataframe\">\n",
       "  <thead>\n",
       "    <tr style=\"text-align: right;\">\n",
       "      <th></th>\n",
       "      <th>dt</th>\n",
       "      <th>temp</th>\n",
       "      <th>feels_like</th>\n",
       "      <th>pressure</th>\n",
       "      <th>humidity</th>\n",
       "      <th>dew_point</th>\n",
       "      <th>uvi</th>\n",
       "      <th>clouds</th>\n",
       "      <th>visibility</th>\n",
       "      <th>wind_speed</th>\n",
       "      <th>wind_deg</th>\n",
       "      <th>wind_gust</th>\n",
       "      <th>weather</th>\n",
       "      <th>pop</th>\n",
       "      <th>rain</th>\n",
       "    </tr>\n",
       "  </thead>\n",
       "  <tbody>\n",
       "    <tr>\n",
       "      <th>0</th>\n",
       "      <td>1629716400</td>\n",
       "      <td>30.35</td>\n",
       "      <td>37.35</td>\n",
       "      <td>1006</td>\n",
       "      <td>79</td>\n",
       "      <td>26.30</td>\n",
       "      <td>0.0</td>\n",
       "      <td>95</td>\n",
       "      <td>10000</td>\n",
       "      <td>3.35</td>\n",
       "      <td>182</td>\n",
       "      <td>4.86</td>\n",
       "      <td>[{'id': 804, 'main': 'Clouds', 'description': ...</td>\n",
       "      <td>0.00</td>\n",
       "      <td>NaN</td>\n",
       "    </tr>\n",
       "    <tr>\n",
       "      <th>1</th>\n",
       "      <td>1629720000</td>\n",
       "      <td>30.00</td>\n",
       "      <td>37.00</td>\n",
       "      <td>1006</td>\n",
       "      <td>80</td>\n",
       "      <td>26.17</td>\n",
       "      <td>0.0</td>\n",
       "      <td>95</td>\n",
       "      <td>10000</td>\n",
       "      <td>2.83</td>\n",
       "      <td>182</td>\n",
       "      <td>4.34</td>\n",
       "      <td>[{'id': 804, 'main': 'Clouds', 'description': ...</td>\n",
       "      <td>0.00</td>\n",
       "      <td>NaN</td>\n",
       "    </tr>\n",
       "    <tr>\n",
       "      <th>2</th>\n",
       "      <td>1629723600</td>\n",
       "      <td>29.65</td>\n",
       "      <td>36.61</td>\n",
       "      <td>1007</td>\n",
       "      <td>80</td>\n",
       "      <td>25.83</td>\n",
       "      <td>0.0</td>\n",
       "      <td>97</td>\n",
       "      <td>10000</td>\n",
       "      <td>3.21</td>\n",
       "      <td>167</td>\n",
       "      <td>4.79</td>\n",
       "      <td>[{'id': 804, 'main': 'Clouds', 'description': ...</td>\n",
       "      <td>0.02</td>\n",
       "      <td>NaN</td>\n",
       "    </tr>\n",
       "    <tr>\n",
       "      <th>3</th>\n",
       "      <td>1629727200</td>\n",
       "      <td>29.26</td>\n",
       "      <td>35.47</td>\n",
       "      <td>1007</td>\n",
       "      <td>80</td>\n",
       "      <td>25.45</td>\n",
       "      <td>0.0</td>\n",
       "      <td>98</td>\n",
       "      <td>10000</td>\n",
       "      <td>3.72</td>\n",
       "      <td>160</td>\n",
       "      <td>5.04</td>\n",
       "      <td>[{'id': 804, 'main': 'Clouds', 'description': ...</td>\n",
       "      <td>0.10</td>\n",
       "      <td>NaN</td>\n",
       "    </tr>\n",
       "    <tr>\n",
       "      <th>4</th>\n",
       "      <td>1629730800</td>\n",
       "      <td>28.72</td>\n",
       "      <td>34.38</td>\n",
       "      <td>1008</td>\n",
       "      <td>82</td>\n",
       "      <td>25.34</td>\n",
       "      <td>0.0</td>\n",
       "      <td>98</td>\n",
       "      <td>10000</td>\n",
       "      <td>3.67</td>\n",
       "      <td>155</td>\n",
       "      <td>4.89</td>\n",
       "      <td>[{'id': 500, 'main': 'Rain', 'description': 'l...</td>\n",
       "      <td>0.36</td>\n",
       "      <td>{'1h': 0.11}</td>\n",
       "    </tr>\n",
       "  </tbody>\n",
       "</table>\n",
       "</div>"
      ],
      "text/plain": [
       "           dt   temp  feels_like  pressure  humidity  dew_point  uvi  clouds  \\\n",
       "0  1629716400  30.35       37.35      1006        79      26.30  0.0      95   \n",
       "1  1629720000  30.00       37.00      1006        80      26.17  0.0      95   \n",
       "2  1629723600  29.65       36.61      1007        80      25.83  0.0      97   \n",
       "3  1629727200  29.26       35.47      1007        80      25.45  0.0      98   \n",
       "4  1629730800  28.72       34.38      1008        82      25.34  0.0      98   \n",
       "\n",
       "   visibility  wind_speed  wind_deg  wind_gust  \\\n",
       "0       10000        3.35       182       4.86   \n",
       "1       10000        2.83       182       4.34   \n",
       "2       10000        3.21       167       4.79   \n",
       "3       10000        3.72       160       5.04   \n",
       "4       10000        3.67       155       4.89   \n",
       "\n",
       "                                             weather   pop          rain  \n",
       "0  [{'id': 804, 'main': 'Clouds', 'description': ...  0.00           NaN  \n",
       "1  [{'id': 804, 'main': 'Clouds', 'description': ...  0.00           NaN  \n",
       "2  [{'id': 804, 'main': 'Clouds', 'description': ...  0.02           NaN  \n",
       "3  [{'id': 804, 'main': 'Clouds', 'description': ...  0.10           NaN  \n",
       "4  [{'id': 500, 'main': 'Rain', 'description': 'l...  0.36  {'1h': 0.11}  "
      ]
     },
     "execution_count": 10,
     "metadata": {},
     "output_type": "execute_result"
    }
   ],
   "source": [
    "df_hourly.head()"
   ]
  },
  {
   "cell_type": "code",
   "execution_count": null,
   "metadata": {},
   "outputs": [],
   "source": []
  }
 ],
 "metadata": {
  "interpreter": {
   "hash": "c1b4cfe941b6d2466ad1fb5979e97da9cda8801728c8091b097ab734208fc00c"
  },
  "kernelspec": {
   "display_name": "Python 3.8.3 64-bit ('base': conda)",
   "name": "python3"
  },
  "language_info": {
   "codemirror_mode": {
    "name": "ipython",
    "version": 3
   },
   "file_extension": ".py",
   "mimetype": "text/x-python",
   "name": "python",
   "nbconvert_exporter": "python",
   "pygments_lexer": "ipython3",
   "version": "3.8.11"
  }
 },
 "nbformat": 4,
 "nbformat_minor": 2
}
