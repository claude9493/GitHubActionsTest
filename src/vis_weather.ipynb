{
 "cells": [
  {
   "cell_type": "code",
   "execution_count": 1,
   "metadata": {
    "execution": {
     "iopub.execute_input": "2021-10-20T11:10:13.529133Z",
     "iopub.status.busy": "2021-10-20T11:10:13.528534Z",
     "iopub.status.idle": "2021-10-20T11:10:15.989813Z",
     "shell.execute_reply": "2021-10-20T11:10:15.989231Z"
    }
   },
   "outputs": [],
   "source": [
    "import json, yaml, requests\r\n",
    "from datetime import datetime\r\n",
    "from dateutil import tz\r\n",
    "import pandas as pd\r\n",
    "from PIL import Image\r\n",
    "from io import BytesIO\r\n",
    "import matplotlib.pyplot as plt\r\n",
    "import seaborn\r\n",
    "\r\n",
    "CONFIG_PATH = \"../config/config.yaml\""
   ]
  },
  {
   "cell_type": "code",
   "execution_count": 2,
   "metadata": {
    "execution": {
     "iopub.execute_input": "2021-10-20T11:10:15.997265Z",
     "iopub.status.busy": "2021-10-20T11:10:15.994400Z",
     "iopub.status.idle": "2021-10-20T11:10:15.999994Z",
     "shell.execute_reply": "2021-10-20T11:10:15.999615Z"
    }
   },
   "outputs": [],
   "source": [
    "with open('../newest_ts', 'r') as f:\r\n",
    "    newest_ts = f.read()\r\n",
    "\r\n",
    "data_path = f\"../data/data_{newest_ts}.json\"\r\n",
    "with open(data_path, 'r') as f:\r\n",
    "    data = json.load(f)\r\n",
    "\r\n",
    "with open(CONFIG_PATH, \"r\") as stream:\r\n",
    "    config = yaml.safe_load(stream)\r\n",
    "\r\n",
    "TIME_ZONE = config['time_zone']\r\n",
    "DATETIME_FORMAT = config['dt_format']"
   ]
  },
  {
   "cell_type": "code",
   "execution_count": 3,
   "metadata": {
    "execution": {
     "iopub.execute_input": "2021-10-20T11:10:16.004468Z",
     "iopub.status.busy": "2021-10-20T11:10:16.003963Z",
     "iopub.status.idle": "2021-10-20T11:10:16.009211Z",
     "shell.execute_reply": "2021-10-20T11:10:16.009590Z"
    }
   },
   "outputs": [
    {
     "name": "stdout",
     "output_type": "stream",
     "text": [
      "Recent query happens at 2021-10-20 19:10:10 (CST).\n"
     ]
    }
   ],
   "source": [
    "def ts2dt(ts, format=DATETIME_FORMAT):\r\n",
    "    dt = (datetime.utcfromtimestamp(int(ts))\r\n",
    "                    .replace(tzinfo=tz.tzutc())\r\n",
    "                    # .astimezone(tz.tzlocal())\r\n",
    "                    .astimezone(tz.gettz(TIME_ZONE)))\r\n",
    "    return dt.strftime(format), dt\r\n",
    "\r\n",
    "_, newest_dt = ts2dt(newest_ts)\r\n",
    "print(f\"Recent query happens at {newest_dt.strftime(DATETIME_FORMAT)} ({newest_dt.tzname()}).\")"
   ]
  },
  {
   "cell_type": "code",
   "execution_count": 4,
   "metadata": {
    "execution": {
     "iopub.execute_input": "2021-10-20T11:10:16.014550Z",
     "iopub.status.busy": "2021-10-20T11:10:16.013501Z",
     "iopub.status.idle": "2021-10-20T11:10:16.015069Z",
     "shell.execute_reply": "2021-10-20T11:10:16.015433Z"
    }
   },
   "outputs": [],
   "source": [
    "def degrees_to_cardinal(d):\r\n",
    "  dirs = ['N', 'NNE', 'NE', 'ENE', 'E', 'ESE', 'SE', 'SSE', 'S', 'SSW', 'SW', 'WSW', 'W', 'WNW', 'NW', 'NNW']\r\n",
    "  ix = int(round(d / (360. / len(dirs))))\r\n",
    "  return dirs[ix % len(dirs)]"
   ]
  },
  {
   "cell_type": "code",
   "execution_count": 5,
   "metadata": {
    "execution": {
     "iopub.execute_input": "2021-10-20T11:10:16.019520Z",
     "iopub.status.busy": "2021-10-20T11:10:16.018348Z",
     "iopub.status.idle": "2021-10-20T11:10:16.020047Z",
     "shell.execute_reply": "2021-10-20T11:10:16.020413Z"
    }
   },
   "outputs": [],
   "source": [
    "# data.keys()"
   ]
  },
  {
   "cell_type": "code",
   "execution_count": 6,
   "metadata": {
    "execution": {
     "iopub.execute_input": "2021-10-20T11:10:16.024098Z",
     "iopub.status.busy": "2021-10-20T11:10:16.023101Z",
     "iopub.status.idle": "2021-10-20T11:10:16.024623Z",
     "shell.execute_reply": "2021-10-20T11:10:16.024991Z"
    }
   },
   "outputs": [],
   "source": [
    "# data['current']"
   ]
  },
  {
   "cell_type": "code",
   "execution_count": 7,
   "metadata": {
    "execution": {
     "iopub.execute_input": "2021-10-20T11:10:16.042816Z",
     "iopub.status.busy": "2021-10-20T11:10:16.041229Z",
     "iopub.status.idle": "2021-10-20T11:10:16.418944Z",
     "shell.execute_reply": "2021-10-20T11:10:16.419608Z"
    }
   },
   "outputs": [
    {
     "data": {
      "image/png": "[encoded data removed]",
      "text/plain": [
       "<Figure size 216x216 with 1 Axes>"
      ]
     },
     "metadata": {
      "needs_background": "light"
     },
     "output_type": "display_data"
    },
    {
     "name": "stdout",
     "output_type": "stream",
     "text": [
      "Today, sun rises at 06:21 and sets at 17:54.\n",
      "Currently, the weather is Rain (light rain).\n",
      "The temperature is 26.64°C and it feels like 26.64°C.\n",
      "The UV index is 0, humidity is 80%.\n",
      "The pressure is 1019 hPa, percentage of cloud cover is 58%\n",
      "The wind comes from SE direction with a speed 4.02 m/s.\n"
     ]
    }
   ],
   "source": [
    "current = data['current']\r\n",
    "\r\n",
    "fig, ax = plt.subplots(figsize=(3, 3))\r\n",
    "icon = requests.get(f\"http://openweathermap.org/img/wn/{current['weather'][0]['icon']}@2x.png\")\r\n",
    "im = Image.open(BytesIO(icon.content))\r\n",
    "plt.imshow(im)\r\n",
    "ax.set_axis_off()\r\n",
    "plt.show()\r\n",
    "\r\n",
    "print(f\"Today, sun rises at {ts2dt(current['sunrise'], '%H:%M')[0]} \\\r\n",
    "and sets at {ts2dt(current['sunset'], '%H:%M')[0]}.\\n\\\r\n",
    "Currently, the weather is {current['weather'][0]['main']} ({current['weather'][0]['description']}).\\n\\\r\n",
    "The temperature is {current['temp']}°C and it feels like {current['feels_like']}°C.\\n\\\r\n",
    "The UV index is {current['uvi']}, humidity is {current['humidity']}%.\\n\\\r\n",
    "The pressure is {current['pressure']} hPa, percentage of cloud cover is {current['clouds']}%\\n\\\r\n",
    "The wind comes from {degrees_to_cardinal(current['wind_deg'])} direction with a speed {current['wind_speed']} m/s.\")"
   ]
  },
  {
   "cell_type": "code",
   "execution_count": 8,
   "metadata": {
    "execution": {
     "iopub.execute_input": "2021-10-20T11:10:16.422936Z",
     "iopub.status.busy": "2021-10-20T11:10:16.422005Z",
     "iopub.status.idle": "2021-10-20T11:10:16.428894Z",
     "shell.execute_reply": "2021-10-20T11:10:16.429540Z"
    }
   },
   "outputs": [],
   "source": [
    "df_hourly = pd.DataFrame(data['hourly'])\r\n",
    "df_daily = pd.DataFrame(data['daily'])"
   ]
  },
  {
   "cell_type": "code",
   "execution_count": 9,
   "metadata": {
    "execution": {
     "iopub.execute_input": "2021-10-20T11:10:16.432587Z",
     "iopub.status.busy": "2021-10-20T11:10:16.431666Z",
     "iopub.status.idle": "2021-10-20T11:10:16.670586Z",
     "shell.execute_reply": "2021-10-20T11:10:16.670170Z"
    }
   },
   "outputs": [
    {
     "data": {
      "image/png": "[encoded data removed]",
      "text/plain": [
       "<Figure size 864x432 with 1 Axes>"
      ]
     },
     "metadata": {
      "needs_background": "light"
     },
     "output_type": "display_data"
    }
   ],
   "source": [
    "fig, ax = plt.subplots(figsize=(12, 6))\r\n",
    "plt.plot(df_hourly.temp, '.-', label='Temperature')\r\n",
    "plt.plot(df_hourly.feels_like, '.-', label='Feels Like')\r\n",
    "ax.set(title='Temperature in future 48 hours', xlabel='Time', ylabel='Temperature')\r\n",
    "ax.set_xticks(list(range(0, len(df_hourly), 2)))\r\n",
    "ax.set_xticklabels([ts2dt(ts, '%m-%d %H:%M')[0] for i, ts in enumerate(df_hourly.dt) if i%2==0], \r\n",
    "                   rotation=45, ha=\"right\")\r\n",
    "ax.locator_params(nbins=15, axis='y')\r\n",
    "plt.legend()\r\n",
    "plt.show()"
   ]
  },
  {
   "cell_type": "code",
   "execution_count": 10,
   "metadata": {
    "execution": {
     "iopub.execute_input": "2021-10-20T11:10:16.674847Z",
     "iopub.status.busy": "2021-10-20T11:10:16.674393Z",
     "iopub.status.idle": "2021-10-20T11:10:16.691718Z",
     "shell.execute_reply": "2021-10-20T11:10:16.692091Z"
    }
   },
   "outputs": [
    {
     "data": {
      "text/html": [
       "<div>\n",
       "<style scoped>\n",
       "    .dataframe tbody tr th:only-of-type {\n",
       "        vertical-align: middle;\n",
       "    }\n",
       "\n",
       "    .dataframe tbody tr th {\n",
       "        vertical-align: top;\n",
       "    }\n",
       "\n",
       "    .dataframe thead th {\n",
       "        text-align: right;\n",
       "    }\n",
       "</style>\n",
       "<table border=\"1\" class=\"dataframe\">\n",
       "  <thead>\n",
       "    <tr style=\"text-align: right;\">\n",
       "      <th></th>\n",
       "      <th>dt</th>\n",
       "      <th>temp</th>\n",
       "      <th>feels_like</th>\n",
       "      <th>pressure</th>\n",
       "      <th>humidity</th>\n",
       "      <th>dew_point</th>\n",
       "      <th>uvi</th>\n",
       "      <th>clouds</th>\n",
       "      <th>visibility</th>\n",
       "      <th>wind_speed</th>\n",
       "      <th>wind_deg</th>\n",
       "      <th>wind_gust</th>\n",
       "      <th>weather</th>\n",
       "      <th>pop</th>\n",
       "      <th>rain</th>\n",
       "    </tr>\n",
       "  </thead>\n",
       "  <tbody>\n",
       "    <tr>\n",
       "      <th>0</th>\n",
       "      <td>1634727600</td>\n",
       "      <td>26.64</td>\n",
       "      <td>26.64</td>\n",
       "      <td>1019</td>\n",
       "      <td>80</td>\n",
       "      <td>22.90</td>\n",
       "      <td>0.0</td>\n",
       "      <td>58</td>\n",
       "      <td>10000</td>\n",
       "      <td>4.39</td>\n",
       "      <td>111</td>\n",
       "      <td>5.80</td>\n",
       "      <td>[{'id': 803, 'main': 'Clouds', 'description': ...</td>\n",
       "      <td>0.08</td>\n",
       "      <td>NaN</td>\n",
       "    </tr>\n",
       "    <tr>\n",
       "      <th>1</th>\n",
       "      <td>1634731200</td>\n",
       "      <td>26.47</td>\n",
       "      <td>26.47</td>\n",
       "      <td>1018</td>\n",
       "      <td>81</td>\n",
       "      <td>22.94</td>\n",
       "      <td>0.0</td>\n",
       "      <td>57</td>\n",
       "      <td>10000</td>\n",
       "      <td>4.63</td>\n",
       "      <td>106</td>\n",
       "      <td>6.02</td>\n",
       "      <td>[{'id': 500, 'main': 'Rain', 'description': 'l...</td>\n",
       "      <td>0.28</td>\n",
       "      <td>{'1h': 0.12}</td>\n",
       "    </tr>\n",
       "    <tr>\n",
       "      <th>2</th>\n",
       "      <td>1634734800</td>\n",
       "      <td>26.25</td>\n",
       "      <td>26.25</td>\n",
       "      <td>1017</td>\n",
       "      <td>82</td>\n",
       "      <td>22.93</td>\n",
       "      <td>0.0</td>\n",
       "      <td>58</td>\n",
       "      <td>10000</td>\n",
       "      <td>4.74</td>\n",
       "      <td>101</td>\n",
       "      <td>6.21</td>\n",
       "      <td>[{'id': 500, 'main': 'Rain', 'description': 'l...</td>\n",
       "      <td>0.21</td>\n",
       "      <td>{'1h': 0.1}</td>\n",
       "    </tr>\n",
       "    <tr>\n",
       "      <th>3</th>\n",
       "      <td>1634738400</td>\n",
       "      <td>25.99</td>\n",
       "      <td>25.99</td>\n",
       "      <td>1017</td>\n",
       "      <td>83</td>\n",
       "      <td>22.88</td>\n",
       "      <td>0.0</td>\n",
       "      <td>64</td>\n",
       "      <td>10000</td>\n",
       "      <td>4.82</td>\n",
       "      <td>102</td>\n",
       "      <td>6.45</td>\n",
       "      <td>[{'id': 500, 'main': 'Rain', 'description': 'l...</td>\n",
       "      <td>0.20</td>\n",
       "      <td>{'1h': 0.1}</td>\n",
       "    </tr>\n",
       "    <tr>\n",
       "      <th>4</th>\n",
       "      <td>1634742000</td>\n",
       "      <td>25.74</td>\n",
       "      <td>26.56</td>\n",
       "      <td>1016</td>\n",
       "      <td>84</td>\n",
       "      <td>22.83</td>\n",
       "      <td>0.0</td>\n",
       "      <td>69</td>\n",
       "      <td>10000</td>\n",
       "      <td>4.80</td>\n",
       "      <td>104</td>\n",
       "      <td>6.39</td>\n",
       "      <td>[{'id': 803, 'main': 'Clouds', 'description': ...</td>\n",
       "      <td>0.08</td>\n",
       "      <td>NaN</td>\n",
       "    </tr>\n",
       "  </tbody>\n",
       "</table>\n",
       "</div>"
      ],
      "text/plain": [
       "           dt   temp  feels_like  pressure  humidity  dew_point  uvi  clouds  \\\n",
       "0  1634727600  26.64       26.64      1019        80      22.90  0.0      58   \n",
       "1  1634731200  26.47       26.47      1018        81      22.94  0.0      57   \n",
       "2  1634734800  26.25       26.25      1017        82      22.93  0.0      58   \n",
       "3  1634738400  25.99       25.99      1017        83      22.88  0.0      64   \n",
       "4  1634742000  25.74       26.56      1016        84      22.83  0.0      69   \n",
       "\n",
       "   visibility  wind_speed  wind_deg  wind_gust  \\\n",
       "0       10000        4.39       111       5.80   \n",
       "1       10000        4.63       106       6.02   \n",
       "2       10000        4.74       101       6.21   \n",
       "3       10000        4.82       102       6.45   \n",
       "4       10000        4.80       104       6.39   \n",
       "\n",
       "                                             weather   pop          rain  \n",
       "0  [{'id': 803, 'main': 'Clouds', 'description': ...  0.08           NaN  \n",
       "1  [{'id': 500, 'main': 'Rain', 'description': 'l...  0.28  {'1h': 0.12}  \n",
       "2  [{'id': 500, 'main': 'Rain', 'description': 'l...  0.21   {'1h': 0.1}  \n",
       "3  [{'id': 500, 'main': 'Rain', 'description': 'l...  0.20   {'1h': 0.1}  \n",
       "4  [{'id': 803, 'main': 'Clouds', 'description': ...  0.08           NaN  "
      ]
     },
     "execution_count": 10,
     "metadata": {},
     "output_type": "execute_result"
    }
   ],
   "source": [
    "df_hourly.head()"
   ]
  },
  {
   "cell_type": "code",
   "execution_count": null,
   "metadata": {},
   "outputs": [],
   "source": []
  }
 ],
 "metadata": {
  "interpreter": {
   "hash": "c1b4cfe941b6d2466ad1fb5979e97da9cda8801728c8091b097ab734208fc00c"
  },
  "kernelspec": {
   "display_name": "Python 3.8.3 64-bit ('base': conda)",
   "name": "python3"
  },
  "language_info": {
   "codemirror_mode": {
    "name": "ipython",
    "version": 3
   },
   "file_extension": ".py",
   "mimetype": "text/x-python",
   "name": "python",
   "nbconvert_exporter": "python",
   "pygments_lexer": "ipython3",
   "version": "3.8.12"
  }
 },
 "nbformat": 4,
 "nbformat_minor": 2
}
