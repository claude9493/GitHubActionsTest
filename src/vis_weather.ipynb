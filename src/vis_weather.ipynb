{
 "cells": [
  {
   "cell_type": "code",
   "execution_count": 1,
   "metadata": {
    "execution": {
     "iopub.execute_input": "2021-08-27T09:39:51.994373Z",
     "iopub.status.busy": "2021-08-27T09:39:51.993665Z",
     "iopub.status.idle": "2021-08-27T09:39:56.136727Z",
     "shell.execute_reply": "2021-08-27T09:39:56.135738Z"
    }
   },
   "outputs": [],
   "source": [
    "import json, yaml, requests\r\n",
    "from datetime import datetime\r\n",
    "from dateutil import tz\r\n",
    "import pandas as pd\r\n",
    "from PIL import Image\r\n",
    "from io import BytesIO\r\n",
    "import matplotlib.pyplot as plt\r\n",
    "import seaborn\r\n",
    "\r\n",
    "CONFIG_PATH = \"../config/config.yaml\""
   ]
  },
  {
   "cell_type": "code",
   "execution_count": 2,
   "metadata": {
    "execution": {
     "iopub.execute_input": "2021-08-27T09:39:56.142704Z",
     "iopub.status.busy": "2021-08-27T09:39:56.141942Z",
     "iopub.status.idle": "2021-08-27T09:39:56.147240Z",
     "shell.execute_reply": "2021-08-27T09:39:56.147696Z"
    }
   },
   "outputs": [],
   "source": [
    "with open('../newest_ts', 'r') as f:\r\n",
    "    newest_ts = f.read()\r\n",
    "\r\n",
    "data_path = f\"../data/data_{newest_ts}.json\"\r\n",
    "with open(data_path, 'r') as f:\r\n",
    "    data = json.load(f)\r\n",
    "\r\n",
    "with open(CONFIG_PATH, \"r\") as stream:\r\n",
    "    config = yaml.safe_load(stream)\r\n",
    "\r\n",
    "TIME_ZONE = config['time_zone']\r\n",
    "DATETIME_FORMAT = config['dt_format']"
   ]
  },
  {
   "cell_type": "code",
   "execution_count": 3,
   "metadata": {
    "execution": {
     "iopub.execute_input": "2021-08-27T09:39:56.152710Z",
     "iopub.status.busy": "2021-08-27T09:39:56.152136Z",
     "iopub.status.idle": "2021-08-27T09:39:56.162820Z",
     "shell.execute_reply": "2021-08-27T09:39:56.163297Z"
    }
   },
   "outputs": [
    {
     "name": "stdout",
     "output_type": "stream",
     "text": [
      "Recent query happens at 2021-08-27 17:39:48 (CST).\n"
     ]
    }
   ],
   "source": [
    "def ts2dt(ts, format=DATETIME_FORMAT):\r\n",
    "    dt = (datetime.utcfromtimestamp(int(ts))\r\n",
    "                    .replace(tzinfo=tz.tzutc())\r\n",
    "                    # .astimezone(tz.tzlocal())\r\n",
    "                    .astimezone(tz.gettz(TIME_ZONE)))\r\n",
    "    return dt.strftime(format), dt\r\n",
    "\r\n",
    "_, newest_dt = ts2dt(newest_ts)\r\n",
    "print(f\"Recent query happens at {newest_dt.strftime(DATETIME_FORMAT)} ({newest_dt.tzname()}).\")"
   ]
  },
  {
   "cell_type": "code",
   "execution_count": 4,
   "metadata": {
    "execution": {
     "iopub.execute_input": "2021-08-27T09:39:56.169444Z",
     "iopub.status.busy": "2021-08-27T09:39:56.168054Z",
     "iopub.status.idle": "2021-08-27T09:39:56.170048Z",
     "shell.execute_reply": "2021-08-27T09:39:56.170651Z"
    }
   },
   "outputs": [],
   "source": [
    "def degrees_to_cardinal(d):\r\n",
    "  dirs = ['N', 'NNE', 'NE', 'ENE', 'E', 'ESE', 'SE', 'SSE', 'S', 'SSW', 'SW', 'WSW', 'W', 'WNW', 'NW', 'NNW']\r\n",
    "  ix = int(round(d / (360. / len(dirs))))\r\n",
    "  return dirs[ix % len(dirs)]"
   ]
  },
  {
   "cell_type": "code",
   "execution_count": 5,
   "metadata": {
    "execution": {
     "iopub.execute_input": "2021-08-27T09:39:56.175457Z",
     "iopub.status.busy": "2021-08-27T09:39:56.174209Z",
     "iopub.status.idle": "2021-08-27T09:39:56.176074Z",
     "shell.execute_reply": "2021-08-27T09:39:56.176659Z"
    }
   },
   "outputs": [],
   "source": [
    "# data.keys()"
   ]
  },
  {
   "cell_type": "code",
   "execution_count": 6,
   "metadata": {
    "execution": {
     "iopub.execute_input": "2021-08-27T09:39:56.181437Z",
     "iopub.status.busy": "2021-08-27T09:39:56.180880Z",
     "iopub.status.idle": "2021-08-27T09:39:56.183006Z",
     "shell.execute_reply": "2021-08-27T09:39:56.182544Z"
    }
   },
   "outputs": [],
   "source": [
    "# data['current']"
   ]
  },
  {
   "cell_type": "code",
   "execution_count": 7,
   "metadata": {
    "execution": {
     "iopub.execute_input": "2021-08-27T09:39:56.206883Z",
     "iopub.status.busy": "2021-08-27T09:39:56.206101Z",
     "iopub.status.idle": "2021-08-27T09:39:56.640153Z",
     "shell.execute_reply": "2021-08-27T09:39:56.641112Z"
    }
   },
   "outputs": [
    {
     "data": {
      "image/png": "[encoded data removed]",
      "text/plain": [
       "<Figure size 216x216 with 1 Axes>"
      ]
     },
     "metadata": {
      "needs_background": "light"
     },
     "output_type": "display_data"
    },
    {
     "name": "stdout",
     "output_type": "stream",
     "text": [
      "Today, sun rises at 06:04 and sets at 18:45.\n",
      "Currently, the weather is Rain (light rain).\n",
      "The temperature is 24.75°C and it feels like 25.26°C.\n",
      "The UV index is 0.17, humidity is 76%.\n",
      "The pressure is 1010 hPa, percentage of cloud cover is 61%\n",
      "The wind comes from ESE direction with a speed 6 m/s.\n"
     ]
    }
   ],
   "source": [
    "current = data['current']\r\n",
    "\r\n",
    "fig, ax = plt.subplots(figsize=(3, 3))\r\n",
    "icon = requests.get(f\"http://openweathermap.org/img/wn/{current['weather'][0]['icon']}@2x.png\")\r\n",
    "im = Image.open(BytesIO(icon.content))\r\n",
    "plt.imshow(im)\r\n",
    "ax.set_axis_off()\r\n",
    "plt.show()\r\n",
    "\r\n",
    "print(f\"Today, sun rises at {ts2dt(current['sunrise'], '%H:%M')[0]} \\\r\n",
    "and sets at {ts2dt(current['sunset'], '%H:%M')[0]}.\\n\\\r\n",
    "Currently, the weather is {current['weather'][0]['main']} ({current['weather'][0]['description']}).\\n\\\r\n",
    "The temperature is {current['temp']}°C and it feels like {current['feels_like']}°C.\\n\\\r\n",
    "The UV index is {current['uvi']}, humidity is {current['humidity']}%.\\n\\\r\n",
    "The pressure is {current['pressure']} hPa, percentage of cloud cover is {current['clouds']}%\\n\\\r\n",
    "The wind comes from {degrees_to_cardinal(current['wind_deg'])} direction with a speed {current['wind_speed']} m/s.\")"
   ]
  },
  {
   "cell_type": "code",
   "execution_count": 8,
   "metadata": {
    "execution": {
     "iopub.execute_input": "2021-08-27T09:39:56.649305Z",
     "iopub.status.busy": "2021-08-27T09:39:56.644091Z",
     "iopub.status.idle": "2021-08-27T09:39:56.653040Z",
     "shell.execute_reply": "2021-08-27T09:39:56.653727Z"
    }
   },
   "outputs": [],
   "source": [
    "df_hourly = pd.DataFrame(data['hourly'])\r\n",
    "df_daily = pd.DataFrame(data['daily'])"
   ]
  },
  {
   "cell_type": "code",
   "execution_count": 9,
   "metadata": {
    "execution": {
     "iopub.execute_input": "2021-08-27T09:39:56.657096Z",
     "iopub.status.busy": "2021-08-27T09:39:56.656449Z",
     "iopub.status.idle": "2021-08-27T09:39:57.003883Z",
     "shell.execute_reply": "2021-08-27T09:39:57.004325Z"
    }
   },
   "outputs": [
    {
     "data": {
      "image/png": "[encoded data removed]",
      "text/plain": [
       "<Figure size 864x432 with 1 Axes>"
      ]
     },
     "metadata": {
      "needs_background": "light"
     },
     "output_type": "display_data"
    }
   ],
   "source": [
    "fig, ax = plt.subplots(figsize=(12, 6))\r\n",
    "plt.plot(df_hourly.temp, '.-', label='Temperature')\r\n",
    "plt.plot(df_hourly.feels_like, '.-', label='Feels Like')\r\n",
    "ax.set(title='Temperature in future 48 hours', xlabel='Time', ylabel='Temperature')\r\n",
    "ax.set_xticks(list(range(0, len(df_hourly), 2)))\r\n",
    "ax.set_xticklabels([ts2dt(ts, '%m-%d %H:%M')[0] for i, ts in enumerate(df_hourly.dt) if i%2==0], \r\n",
    "                   rotation=45, ha=\"right\")\r\n",
    "ax.locator_params(nbins=15, axis='y')\r\n",
    "plt.legend()\r\n",
    "plt.show()"
   ]
  },
  {
   "cell_type": "code",
   "execution_count": 10,
   "metadata": {
    "execution": {
     "iopub.execute_input": "2021-08-27T09:39:57.009292Z",
     "iopub.status.busy": "2021-08-27T09:39:57.006832Z",
     "iopub.status.idle": "2021-08-27T09:39:57.032757Z",
     "shell.execute_reply": "2021-08-27T09:39:57.032210Z"
    }
   },
   "outputs": [
    {
     "data": {
      "text/html": [
       "<div>\n",
       "<style scoped>\n",
       "    .dataframe tbody tr th:only-of-type {\n",
       "        vertical-align: middle;\n",
       "    }\n",
       "\n",
       "    .dataframe tbody tr th {\n",
       "        vertical-align: top;\n",
       "    }\n",
       "\n",
       "    .dataframe thead th {\n",
       "        text-align: right;\n",
       "    }\n",
       "</style>\n",
       "<table border=\"1\" class=\"dataframe\">\n",
       "  <thead>\n",
       "    <tr style=\"text-align: right;\">\n",
       "      <th></th>\n",
       "      <th>dt</th>\n",
       "      <th>temp</th>\n",
       "      <th>feels_like</th>\n",
       "      <th>pressure</th>\n",
       "      <th>humidity</th>\n",
       "      <th>dew_point</th>\n",
       "      <th>uvi</th>\n",
       "      <th>clouds</th>\n",
       "      <th>visibility</th>\n",
       "      <th>wind_speed</th>\n",
       "      <th>wind_deg</th>\n",
       "      <th>wind_gust</th>\n",
       "      <th>weather</th>\n",
       "      <th>pop</th>\n",
       "      <th>rain</th>\n",
       "    </tr>\n",
       "  </thead>\n",
       "  <tbody>\n",
       "    <tr>\n",
       "      <th>0</th>\n",
       "      <td>1630054800</td>\n",
       "      <td>25.66</td>\n",
       "      <td>26.24</td>\n",
       "      <td>1010</td>\n",
       "      <td>75</td>\n",
       "      <td>20.90</td>\n",
       "      <td>1.11</td>\n",
       "      <td>60</td>\n",
       "      <td>10000</td>\n",
       "      <td>6.99</td>\n",
       "      <td>102</td>\n",
       "      <td>8.19</td>\n",
       "      <td>[{'id': 803, 'main': 'Clouds', 'description': ...</td>\n",
       "      <td>0.14</td>\n",
       "      <td>NaN</td>\n",
       "    </tr>\n",
       "    <tr>\n",
       "      <th>1</th>\n",
       "      <td>1630058400</td>\n",
       "      <td>24.75</td>\n",
       "      <td>25.26</td>\n",
       "      <td>1010</td>\n",
       "      <td>76</td>\n",
       "      <td>20.23</td>\n",
       "      <td>0.17</td>\n",
       "      <td>61</td>\n",
       "      <td>10000</td>\n",
       "      <td>6.00</td>\n",
       "      <td>105</td>\n",
       "      <td>7.86</td>\n",
       "      <td>[{'id': 501, 'main': 'Rain', 'description': 'm...</td>\n",
       "      <td>0.24</td>\n",
       "      <td>{'1h': 2.05}</td>\n",
       "    </tr>\n",
       "    <tr>\n",
       "      <th>2</th>\n",
       "      <td>1630062000</td>\n",
       "      <td>25.46</td>\n",
       "      <td>26.07</td>\n",
       "      <td>1010</td>\n",
       "      <td>77</td>\n",
       "      <td>21.13</td>\n",
       "      <td>0.00</td>\n",
       "      <td>59</td>\n",
       "      <td>10000</td>\n",
       "      <td>5.95</td>\n",
       "      <td>108</td>\n",
       "      <td>8.04</td>\n",
       "      <td>[{'id': 501, 'main': 'Rain', 'description': 'm...</td>\n",
       "      <td>0.36</td>\n",
       "      <td>{'1h': 3.65}</td>\n",
       "    </tr>\n",
       "    <tr>\n",
       "      <th>3</th>\n",
       "      <td>1630065600</td>\n",
       "      <td>26.11</td>\n",
       "      <td>26.11</td>\n",
       "      <td>1010</td>\n",
       "      <td>78</td>\n",
       "      <td>21.97</td>\n",
       "      <td>0.00</td>\n",
       "      <td>57</td>\n",
       "      <td>10000</td>\n",
       "      <td>5.97</td>\n",
       "      <td>110</td>\n",
       "      <td>8.17</td>\n",
       "      <td>[{'id': 502, 'main': 'Rain', 'description': 'h...</td>\n",
       "      <td>0.47</td>\n",
       "      <td>{'1h': 4.86}</td>\n",
       "    </tr>\n",
       "    <tr>\n",
       "      <th>4</th>\n",
       "      <td>1630069200</td>\n",
       "      <td>26.65</td>\n",
       "      <td>26.65</td>\n",
       "      <td>1011</td>\n",
       "      <td>79</td>\n",
       "      <td>22.71</td>\n",
       "      <td>0.00</td>\n",
       "      <td>45</td>\n",
       "      <td>10000</td>\n",
       "      <td>5.52</td>\n",
       "      <td>108</td>\n",
       "      <td>7.93</td>\n",
       "      <td>[{'id': 501, 'main': 'Rain', 'description': 'm...</td>\n",
       "      <td>0.73</td>\n",
       "      <td>{'1h': 1.25}</td>\n",
       "    </tr>\n",
       "  </tbody>\n",
       "</table>\n",
       "</div>"
      ],
      "text/plain": [
       "           dt   temp  feels_like  pressure  humidity  dew_point   uvi  clouds  \\\n",
       "0  1630054800  25.66       26.24      1010        75      20.90  1.11      60   \n",
       "1  1630058400  24.75       25.26      1010        76      20.23  0.17      61   \n",
       "2  1630062000  25.46       26.07      1010        77      21.13  0.00      59   \n",
       "3  1630065600  26.11       26.11      1010        78      21.97  0.00      57   \n",
       "4  1630069200  26.65       26.65      1011        79      22.71  0.00      45   \n",
       "\n",
       "   visibility  wind_speed  wind_deg  wind_gust  \\\n",
       "0       10000        6.99       102       8.19   \n",
       "1       10000        6.00       105       7.86   \n",
       "2       10000        5.95       108       8.04   \n",
       "3       10000        5.97       110       8.17   \n",
       "4       10000        5.52       108       7.93   \n",
       "\n",
       "                                             weather   pop          rain  \n",
       "0  [{'id': 803, 'main': 'Clouds', 'description': ...  0.14           NaN  \n",
       "1  [{'id': 501, 'main': 'Rain', 'description': 'm...  0.24  {'1h': 2.05}  \n",
       "2  [{'id': 501, 'main': 'Rain', 'description': 'm...  0.36  {'1h': 3.65}  \n",
       "3  [{'id': 502, 'main': 'Rain', 'description': 'h...  0.47  {'1h': 4.86}  \n",
       "4  [{'id': 501, 'main': 'Rain', 'description': 'm...  0.73  {'1h': 1.25}  "
      ]
     },
     "execution_count": 10,
     "metadata": {},
     "output_type": "execute_result"
    }
   ],
   "source": [
    "df_hourly.head()"
   ]
  },
  {
   "cell_type": "code",
   "execution_count": null,
   "metadata": {},
   "outputs": [],
   "source": []
  }
 ],
 "metadata": {
  "interpreter": {
   "hash": "c1b4cfe941b6d2466ad1fb5979e97da9cda8801728c8091b097ab734208fc00c"
  },
  "kernelspec": {
   "display_name": "Python 3.8.3 64-bit ('base': conda)",
   "name": "python3"
  },
  "language_info": {
   "codemirror_mode": {
    "name": "ipython",
    "version": 3
   },
   "file_extension": ".py",
   "mimetype": "text/x-python",
   "name": "python",
   "nbconvert_exporter": "python",
   "pygments_lexer": "ipython3",
   "version": "3.8.11"
  }
 },
 "nbformat": 4,
 "nbformat_minor": 2
}
