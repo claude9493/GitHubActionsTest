{
 "cells": [
  {
   "cell_type": "code",
   "execution_count": 1,
   "metadata": {
    "execution": {
     "iopub.execute_input": "2021-10-07T21:10:08.241736Z",
     "iopub.status.busy": "2021-10-07T21:10:08.241170Z",
     "iopub.status.idle": "2021-10-07T21:10:10.542892Z",
     "shell.execute_reply": "2021-10-07T21:10:10.542303Z"
    }
   },
   "outputs": [],
   "source": [
    "import json, yaml, requests\r\n",
    "from datetime import datetime\r\n",
    "from dateutil import tz\r\n",
    "import pandas as pd\r\n",
    "from PIL import Image\r\n",
    "from io import BytesIO\r\n",
    "import matplotlib.pyplot as plt\r\n",
    "import seaborn\r\n",
    "\r\n",
    "CONFIG_PATH = \"../config/config.yaml\""
   ]
  },
  {
   "cell_type": "code",
   "execution_count": 2,
   "metadata": {
    "execution": {
     "iopub.execute_input": "2021-10-07T21:10:10.547932Z",
     "iopub.status.busy": "2021-10-07T21:10:10.546951Z",
     "iopub.status.idle": "2021-10-07T21:10:10.552629Z",
     "shell.execute_reply": "2021-10-07T21:10:10.552254Z"
    }
   },
   "outputs": [],
   "source": [
    "with open('../newest_ts', 'r') as f:\r\n",
    "    newest_ts = f.read()\r\n",
    "\r\n",
    "data_path = f\"../data/data_{newest_ts}.json\"\r\n",
    "with open(data_path, 'r') as f:\r\n",
    "    data = json.load(f)\r\n",
    "\r\n",
    "with open(CONFIG_PATH, \"r\") as stream:\r\n",
    "    config = yaml.safe_load(stream)\r\n",
    "\r\n",
    "TIME_ZONE = config['time_zone']\r\n",
    "DATETIME_FORMAT = config['dt_format']"
   ]
  },
  {
   "cell_type": "code",
   "execution_count": 3,
   "metadata": {
    "execution": {
     "iopub.execute_input": "2021-10-07T21:10:10.556743Z",
     "iopub.status.busy": "2021-10-07T21:10:10.556243Z",
     "iopub.status.idle": "2021-10-07T21:10:10.561729Z",
     "shell.execute_reply": "2021-10-07T21:10:10.562111Z"
    }
   },
   "outputs": [
    {
     "name": "stdout",
     "output_type": "stream",
     "text": [
      "Recent query happens at 2021-10-08 05:10:05 (CST).\n"
     ]
    }
   ],
   "source": [
    "def ts2dt(ts, format=DATETIME_FORMAT):\r\n",
    "    dt = (datetime.utcfromtimestamp(int(ts))\r\n",
    "                    .replace(tzinfo=tz.tzutc())\r\n",
    "                    # .astimezone(tz.tzlocal())\r\n",
    "                    .astimezone(tz.gettz(TIME_ZONE)))\r\n",
    "    return dt.strftime(format), dt\r\n",
    "\r\n",
    "_, newest_dt = ts2dt(newest_ts)\r\n",
    "print(f\"Recent query happens at {newest_dt.strftime(DATETIME_FORMAT)} ({newest_dt.tzname()}).\")"
   ]
  },
  {
   "cell_type": "code",
   "execution_count": 4,
   "metadata": {
    "execution": {
     "iopub.execute_input": "2021-10-07T21:10:10.566825Z",
     "iopub.status.busy": "2021-10-07T21:10:10.565775Z",
     "iopub.status.idle": "2021-10-07T21:10:10.567340Z",
     "shell.execute_reply": "2021-10-07T21:10:10.567700Z"
    }
   },
   "outputs": [],
   "source": [
    "def degrees_to_cardinal(d):\r\n",
    "  dirs = ['N', 'NNE', 'NE', 'ENE', 'E', 'ESE', 'SE', 'SSE', 'S', 'SSW', 'SW', 'WSW', 'W', 'WNW', 'NW', 'NNW']\r\n",
    "  ix = int(round(d / (360. / len(dirs))))\r\n",
    "  return dirs[ix % len(dirs)]"
   ]
  },
  {
   "cell_type": "code",
   "execution_count": 5,
   "metadata": {
    "execution": {
     "iopub.execute_input": "2021-10-07T21:10:10.571638Z",
     "iopub.status.busy": "2021-10-07T21:10:10.570476Z",
     "iopub.status.idle": "2021-10-07T21:10:10.572171Z",
     "shell.execute_reply": "2021-10-07T21:10:10.572538Z"
    }
   },
   "outputs": [],
   "source": [
    "# data.keys()"
   ]
  },
  {
   "cell_type": "code",
   "execution_count": 6,
   "metadata": {
    "execution": {
     "iopub.execute_input": "2021-10-07T21:10:10.576126Z",
     "iopub.status.busy": "2021-10-07T21:10:10.575093Z",
     "iopub.status.idle": "2021-10-07T21:10:10.576644Z",
     "shell.execute_reply": "2021-10-07T21:10:10.577002Z"
    }
   },
   "outputs": [],
   "source": [
    "# data['current']"
   ]
  },
  {
   "cell_type": "code",
   "execution_count": 7,
   "metadata": {
    "execution": {
     "iopub.execute_input": "2021-10-07T21:10:10.593389Z",
     "iopub.status.busy": "2021-10-07T21:10:10.592927Z",
     "iopub.status.idle": "2021-10-07T21:10:10.982263Z",
     "shell.execute_reply": "2021-10-07T21:10:10.982931Z"
    }
   },
   "outputs": [
    {
     "data": {
      "image/png": "[encoded data removed]",
      "text/plain": [
       "<Figure size 216x216 with 1 Axes>"
      ]
     },
     "metadata": {
      "needs_background": "light"
     },
     "output_type": "display_data"
    },
    {
     "name": "stdout",
     "output_type": "stream",
     "text": [
      "Today, sun rises at 06:16 and sets at 18:04.\n",
      "Currently, the weather is Rain (heavy intensity rain).\n",
      "The temperature is 25.06°C and it feels like 26.1°C.\n",
      "The UV index is 0, humidity is 95%.\n",
      "The pressure is 1009 hPa, percentage of cloud cover is 100%\n",
      "The wind comes from W direction with a speed 0.89 m/s.\n"
     ]
    }
   ],
   "source": [
    "current = data['current']\r\n",
    "\r\n",
    "fig, ax = plt.subplots(figsize=(3, 3))\r\n",
    "icon = requests.get(f\"http://openweathermap.org/img/wn/{current['weather'][0]['icon']}@2x.png\")\r\n",
    "im = Image.open(BytesIO(icon.content))\r\n",
    "plt.imshow(im)\r\n",
    "ax.set_axis_off()\r\n",
    "plt.show()\r\n",
    "\r\n",
    "print(f\"Today, sun rises at {ts2dt(current['sunrise'], '%H:%M')[0]} \\\r\n",
    "and sets at {ts2dt(current['sunset'], '%H:%M')[0]}.\\n\\\r\n",
    "Currently, the weather is {current['weather'][0]['main']} ({current['weather'][0]['description']}).\\n\\\r\n",
    "The temperature is {current['temp']}°C and it feels like {current['feels_like']}°C.\\n\\\r\n",
    "The UV index is {current['uvi']}, humidity is {current['humidity']}%.\\n\\\r\n",
    "The pressure is {current['pressure']} hPa, percentage of cloud cover is {current['clouds']}%\\n\\\r\n",
    "The wind comes from {degrees_to_cardinal(current['wind_deg'])} direction with a speed {current['wind_speed']} m/s.\")"
   ]
  },
  {
   "cell_type": "code",
   "execution_count": 8,
   "metadata": {
    "execution": {
     "iopub.execute_input": "2021-10-07T21:10:10.986280Z",
     "iopub.status.busy": "2021-10-07T21:10:10.985321Z",
     "iopub.status.idle": "2021-10-07T21:10:10.992055Z",
     "shell.execute_reply": "2021-10-07T21:10:10.992696Z"
    }
   },
   "outputs": [],
   "source": [
    "df_hourly = pd.DataFrame(data['hourly'])\r\n",
    "df_daily = pd.DataFrame(data['daily'])"
   ]
  },
  {
   "cell_type": "code",
   "execution_count": 9,
   "metadata": {
    "execution": {
     "iopub.execute_input": "2021-10-07T21:10:10.995688Z",
     "iopub.status.busy": "2021-10-07T21:10:10.994766Z",
     "iopub.status.idle": "2021-10-07T21:10:11.244460Z",
     "shell.execute_reply": "2021-10-07T21:10:11.244003Z"
    }
   },
   "outputs": [
    {
     "data": {
      "image/png": "[encoded data removed]",
      "text/plain": [
       "<Figure size 864x432 with 1 Axes>"
      ]
     },
     "metadata": {
      "needs_background": "light"
     },
     "output_type": "display_data"
    }
   ],
   "source": [
    "fig, ax = plt.subplots(figsize=(12, 6))\r\n",
    "plt.plot(df_hourly.temp, '.-', label='Temperature')\r\n",
    "plt.plot(df_hourly.feels_like, '.-', label='Feels Like')\r\n",
    "ax.set(title='Temperature in future 48 hours', xlabel='Time', ylabel='Temperature')\r\n",
    "ax.set_xticks(list(range(0, len(df_hourly), 2)))\r\n",
    "ax.set_xticklabels([ts2dt(ts, '%m-%d %H:%M')[0] for i, ts in enumerate(df_hourly.dt) if i%2==0], \r\n",
    "                   rotation=45, ha=\"right\")\r\n",
    "ax.locator_params(nbins=15, axis='y')\r\n",
    "plt.legend()\r\n",
    "plt.show()"
   ]
  },
  {
   "cell_type": "code",
   "execution_count": 10,
   "metadata": {
    "execution": {
     "iopub.execute_input": "2021-10-07T21:10:11.255304Z",
     "iopub.status.busy": "2021-10-07T21:10:11.248094Z",
     "iopub.status.idle": "2021-10-07T21:10:11.267331Z",
     "shell.execute_reply": "2021-10-07T21:10:11.266898Z"
    }
   },
   "outputs": [
    {
     "data": {
      "text/html": [
       "<div>\n",
       "<style scoped>\n",
       "    .dataframe tbody tr th:only-of-type {\n",
       "        vertical-align: middle;\n",
       "    }\n",
       "\n",
       "    .dataframe tbody tr th {\n",
       "        vertical-align: top;\n",
       "    }\n",
       "\n",
       "    .dataframe thead th {\n",
       "        text-align: right;\n",
       "    }\n",
       "</style>\n",
       "<table border=\"1\" class=\"dataframe\">\n",
       "  <thead>\n",
       "    <tr style=\"text-align: right;\">\n",
       "      <th></th>\n",
       "      <th>dt</th>\n",
       "      <th>temp</th>\n",
       "      <th>feels_like</th>\n",
       "      <th>pressure</th>\n",
       "      <th>humidity</th>\n",
       "      <th>dew_point</th>\n",
       "      <th>uvi</th>\n",
       "      <th>clouds</th>\n",
       "      <th>visibility</th>\n",
       "      <th>wind_speed</th>\n",
       "      <th>wind_deg</th>\n",
       "      <th>wind_gust</th>\n",
       "      <th>weather</th>\n",
       "      <th>pop</th>\n",
       "      <th>rain</th>\n",
       "    </tr>\n",
       "  </thead>\n",
       "  <tbody>\n",
       "    <tr>\n",
       "      <th>0</th>\n",
       "      <td>1633640400</td>\n",
       "      <td>25.06</td>\n",
       "      <td>26.10</td>\n",
       "      <td>1009</td>\n",
       "      <td>95</td>\n",
       "      <td>24.20</td>\n",
       "      <td>0.00</td>\n",
       "      <td>100</td>\n",
       "      <td>3857</td>\n",
       "      <td>9.51</td>\n",
       "      <td>75</td>\n",
       "      <td>13.15</td>\n",
       "      <td>[{'id': 502, 'main': 'Rain', 'description': 'h...</td>\n",
       "      <td>0.99</td>\n",
       "      <td>{'1h': 4.21}</td>\n",
       "    </tr>\n",
       "    <tr>\n",
       "      <th>1</th>\n",
       "      <td>1633644000</td>\n",
       "      <td>25.14</td>\n",
       "      <td>26.16</td>\n",
       "      <td>1008</td>\n",
       "      <td>94</td>\n",
       "      <td>24.11</td>\n",
       "      <td>0.00</td>\n",
       "      <td>100</td>\n",
       "      <td>6717</td>\n",
       "      <td>10.65</td>\n",
       "      <td>66</td>\n",
       "      <td>14.53</td>\n",
       "      <td>[{'id': 500, 'main': 'Rain', 'description': 'l...</td>\n",
       "      <td>1.00</td>\n",
       "      <td>{'1h': 0.24}</td>\n",
       "    </tr>\n",
       "    <tr>\n",
       "      <th>2</th>\n",
       "      <td>1633647600</td>\n",
       "      <td>25.17</td>\n",
       "      <td>26.20</td>\n",
       "      <td>1007</td>\n",
       "      <td>94</td>\n",
       "      <td>24.13</td>\n",
       "      <td>0.00</td>\n",
       "      <td>100</td>\n",
       "      <td>3769</td>\n",
       "      <td>11.01</td>\n",
       "      <td>68</td>\n",
       "      <td>16.05</td>\n",
       "      <td>[{'id': 500, 'main': 'Rain', 'description': 'l...</td>\n",
       "      <td>1.00</td>\n",
       "      <td>{'1h': 0.24}</td>\n",
       "    </tr>\n",
       "    <tr>\n",
       "      <th>3</th>\n",
       "      <td>1633651200</td>\n",
       "      <td>25.11</td>\n",
       "      <td>26.21</td>\n",
       "      <td>1005</td>\n",
       "      <td>97</td>\n",
       "      <td>24.60</td>\n",
       "      <td>0.05</td>\n",
       "      <td>100</td>\n",
       "      <td>1027</td>\n",
       "      <td>13.39</td>\n",
       "      <td>99</td>\n",
       "      <td>18.05</td>\n",
       "      <td>[{'id': 503, 'main': 'Rain', 'description': 'v...</td>\n",
       "      <td>1.00</td>\n",
       "      <td>{'1h': 19.72}</td>\n",
       "    </tr>\n",
       "    <tr>\n",
       "      <th>4</th>\n",
       "      <td>1633654800</td>\n",
       "      <td>25.36</td>\n",
       "      <td>26.46</td>\n",
       "      <td>1005</td>\n",
       "      <td>96</td>\n",
       "      <td>24.68</td>\n",
       "      <td>0.07</td>\n",
       "      <td>100</td>\n",
       "      <td>1807</td>\n",
       "      <td>12.43</td>\n",
       "      <td>106</td>\n",
       "      <td>18.61</td>\n",
       "      <td>[{'id': 502, 'main': 'Rain', 'description': 'h...</td>\n",
       "      <td>1.00</td>\n",
       "      <td>{'1h': 13.97}</td>\n",
       "    </tr>\n",
       "  </tbody>\n",
       "</table>\n",
       "</div>"
      ],
      "text/plain": [
       "           dt   temp  feels_like  pressure  humidity  dew_point   uvi  clouds  \\\n",
       "0  1633640400  25.06       26.10      1009        95      24.20  0.00     100   \n",
       "1  1633644000  25.14       26.16      1008        94      24.11  0.00     100   \n",
       "2  1633647600  25.17       26.20      1007        94      24.13  0.00     100   \n",
       "3  1633651200  25.11       26.21      1005        97      24.60  0.05     100   \n",
       "4  1633654800  25.36       26.46      1005        96      24.68  0.07     100   \n",
       "\n",
       "   visibility  wind_speed  wind_deg  wind_gust  \\\n",
       "0        3857        9.51        75      13.15   \n",
       "1        6717       10.65        66      14.53   \n",
       "2        3769       11.01        68      16.05   \n",
       "3        1027       13.39        99      18.05   \n",
       "4        1807       12.43       106      18.61   \n",
       "\n",
       "                                             weather   pop           rain  \n",
       "0  [{'id': 502, 'main': 'Rain', 'description': 'h...  0.99   {'1h': 4.21}  \n",
       "1  [{'id': 500, 'main': 'Rain', 'description': 'l...  1.00   {'1h': 0.24}  \n",
       "2  [{'id': 500, 'main': 'Rain', 'description': 'l...  1.00   {'1h': 0.24}  \n",
       "3  [{'id': 503, 'main': 'Rain', 'description': 'v...  1.00  {'1h': 19.72}  \n",
       "4  [{'id': 502, 'main': 'Rain', 'description': 'h...  1.00  {'1h': 13.97}  "
      ]
     },
     "execution_count": 10,
     "metadata": {},
     "output_type": "execute_result"
    }
   ],
   "source": [
    "df_hourly.head()"
   ]
  },
  {
   "cell_type": "code",
   "execution_count": null,
   "metadata": {},
   "outputs": [],
   "source": []
  }
 ],
 "metadata": {
  "interpreter": {
   "hash": "c1b4cfe941b6d2466ad1fb5979e97da9cda8801728c8091b097ab734208fc00c"
  },
  "kernelspec": {
   "display_name": "Python 3.8.3 64-bit ('base': conda)",
   "name": "python3"
  },
  "language_info": {
   "codemirror_mode": {
    "name": "ipython",
    "version": 3
   },
   "file_extension": ".py",
   "mimetype": "text/x-python",
   "name": "python",
   "nbconvert_exporter": "python",
   "pygments_lexer": "ipython3",
   "version": "3.8.12"
  }
 },
 "nbformat": 4,
 "nbformat_minor": 2
}
