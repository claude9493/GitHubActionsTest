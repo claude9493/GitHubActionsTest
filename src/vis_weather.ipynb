{
 "cells": [
  {
   "cell_type": "code",
   "execution_count": 1,
   "metadata": {
    "execution": {
     "iopub.execute_input": "2021-10-11T05:10:53.311953Z",
     "iopub.status.busy": "2021-10-11T05:10:53.311339Z",
     "iopub.status.idle": "2021-10-11T05:10:54.494968Z",
     "shell.execute_reply": "2021-10-11T05:10:54.494362Z"
    }
   },
   "outputs": [],
   "source": [
    "import json, yaml, requests\r\n",
    "from datetime import datetime\r\n",
    "from dateutil import tz\r\n",
    "import pandas as pd\r\n",
    "from PIL import Image\r\n",
    "from io import BytesIO\r\n",
    "import matplotlib.pyplot as plt\r\n",
    "import seaborn\r\n",
    "\r\n",
    "CONFIG_PATH = \"../config/config.yaml\""
   ]
  },
  {
   "cell_type": "code",
   "execution_count": 2,
   "metadata": {
    "execution": {
     "iopub.execute_input": "2021-10-11T05:10:54.502082Z",
     "iopub.status.busy": "2021-10-11T05:10:54.499191Z",
     "iopub.status.idle": "2021-10-11T05:10:54.504578Z",
     "shell.execute_reply": "2021-10-11T05:10:54.504207Z"
    }
   },
   "outputs": [],
   "source": [
    "with open('../newest_ts', 'r') as f:\r\n",
    "    newest_ts = f.read()\r\n",
    "\r\n",
    "data_path = f\"../data/data_{newest_ts}.json\"\r\n",
    "with open(data_path, 'r') as f:\r\n",
    "    data = json.load(f)\r\n",
    "\r\n",
    "with open(CONFIG_PATH, \"r\") as stream:\r\n",
    "    config = yaml.safe_load(stream)\r\n",
    "\r\n",
    "TIME_ZONE = config['time_zone']\r\n",
    "DATETIME_FORMAT = config['dt_format']"
   ]
  },
  {
   "cell_type": "code",
   "execution_count": 3,
   "metadata": {
    "execution": {
     "iopub.execute_input": "2021-10-11T05:10:54.508636Z",
     "iopub.status.busy": "2021-10-11T05:10:54.508184Z",
     "iopub.status.idle": "2021-10-11T05:10:54.518341Z",
     "shell.execute_reply": "2021-10-11T05:10:54.518711Z"
    }
   },
   "outputs": [
    {
     "name": "stdout",
     "output_type": "stream",
     "text": [
      "Recent query happens at 2021-10-11 13:10:50 (CST).\n"
     ]
    }
   ],
   "source": [
    "def ts2dt(ts, format=DATETIME_FORMAT):\r\n",
    "    dt = (datetime.utcfromtimestamp(int(ts))\r\n",
    "                    .replace(tzinfo=tz.tzutc())\r\n",
    "                    # .astimezone(tz.tzlocal())\r\n",
    "                    .astimezone(tz.gettz(TIME_ZONE)))\r\n",
    "    return dt.strftime(format), dt\r\n",
    "\r\n",
    "_, newest_dt = ts2dt(newest_ts)\r\n",
    "print(f\"Recent query happens at {newest_dt.strftime(DATETIME_FORMAT)} ({newest_dt.tzname()}).\")"
   ]
  },
  {
   "cell_type": "code",
   "execution_count": 4,
   "metadata": {
    "execution": {
     "iopub.execute_input": "2021-10-11T05:10:54.523570Z",
     "iopub.status.busy": "2021-10-11T05:10:54.522470Z",
     "iopub.status.idle": "2021-10-11T05:10:54.524086Z",
     "shell.execute_reply": "2021-10-11T05:10:54.524442Z"
    }
   },
   "outputs": [],
   "source": [
    "def degrees_to_cardinal(d):\r\n",
    "  dirs = ['N', 'NNE', 'NE', 'ENE', 'E', 'ESE', 'SE', 'SSE', 'S', 'SSW', 'SW', 'WSW', 'W', 'WNW', 'NW', 'NNW']\r\n",
    "  ix = int(round(d / (360. / len(dirs))))\r\n",
    "  return dirs[ix % len(dirs)]"
   ]
  },
  {
   "cell_type": "code",
   "execution_count": 5,
   "metadata": {
    "execution": {
     "iopub.execute_input": "2021-10-11T05:10:54.528261Z",
     "iopub.status.busy": "2021-10-11T05:10:54.527238Z",
     "iopub.status.idle": "2021-10-11T05:10:54.528773Z",
     "shell.execute_reply": "2021-10-11T05:10:54.529132Z"
    }
   },
   "outputs": [],
   "source": [
    "# data.keys()"
   ]
  },
  {
   "cell_type": "code",
   "execution_count": 6,
   "metadata": {
    "execution": {
     "iopub.execute_input": "2021-10-11T05:10:54.532633Z",
     "iopub.status.busy": "2021-10-11T05:10:54.531653Z",
     "iopub.status.idle": "2021-10-11T05:10:54.533150Z",
     "shell.execute_reply": "2021-10-11T05:10:54.533510Z"
    }
   },
   "outputs": [],
   "source": [
    "# data['current']"
   ]
  },
  {
   "cell_type": "code",
   "execution_count": 7,
   "metadata": {
    "execution": {
     "iopub.execute_input": "2021-10-11T05:10:54.549997Z",
     "iopub.status.busy": "2021-10-11T05:10:54.549463Z",
     "iopub.status.idle": "2021-10-11T05:10:55.076332Z",
     "shell.execute_reply": "2021-10-11T05:10:55.076679Z"
    }
   },
   "outputs": [
    {
     "data": {
      "image/png": "[encoded data removed]",
      "text/plain": [
       "<Figure size 216x216 with 1 Axes>"
      ]
     },
     "metadata": {
      "needs_background": "light"
     },
     "output_type": "display_data"
    },
    {
     "name": "stdout",
     "output_type": "stream",
     "text": [
      "Today, sun rises at 06:17 and sets at 18:01.\n",
      "Currently, the weather is Clouds (broken clouds).\n",
      "The temperature is 31.61°C and it feels like 35.36°C.\n",
      "The UV index is 8.53, humidity is 57%.\n",
      "The pressure is 1015 hPa, percentage of cloud cover is 65%\n",
      "The wind comes from N direction with a speed 4.47 m/s.\n"
     ]
    }
   ],
   "source": [
    "current = data['current']\r\n",
    "\r\n",
    "fig, ax = plt.subplots(figsize=(3, 3))\r\n",
    "icon = requests.get(f\"http://openweathermap.org/img/wn/{current['weather'][0]['icon']}@2x.png\")\r\n",
    "im = Image.open(BytesIO(icon.content))\r\n",
    "plt.imshow(im)\r\n",
    "ax.set_axis_off()\r\n",
    "plt.show()\r\n",
    "\r\n",
    "print(f\"Today, sun rises at {ts2dt(current['sunrise'], '%H:%M')[0]} \\\r\n",
    "and sets at {ts2dt(current['sunset'], '%H:%M')[0]}.\\n\\\r\n",
    "Currently, the weather is {current['weather'][0]['main']} ({current['weather'][0]['description']}).\\n\\\r\n",
    "The temperature is {current['temp']}°C and it feels like {current['feels_like']}°C.\\n\\\r\n",
    "The UV index is {current['uvi']}, humidity is {current['humidity']}%.\\n\\\r\n",
    "The pressure is {current['pressure']} hPa, percentage of cloud cover is {current['clouds']}%\\n\\\r\n",
    "The wind comes from {degrees_to_cardinal(current['wind_deg'])} direction with a speed {current['wind_speed']} m/s.\")"
   ]
  },
  {
   "cell_type": "code",
   "execution_count": 8,
   "metadata": {
    "execution": {
     "iopub.execute_input": "2021-10-11T05:10:55.081671Z",
     "iopub.status.busy": "2021-10-11T05:10:55.081217Z",
     "iopub.status.idle": "2021-10-11T05:10:55.084538Z",
     "shell.execute_reply": "2021-10-11T05:10:55.084883Z"
    }
   },
   "outputs": [],
   "source": [
    "df_hourly = pd.DataFrame(data['hourly'])\r\n",
    "df_daily = pd.DataFrame(data['daily'])"
   ]
  },
  {
   "cell_type": "code",
   "execution_count": 9,
   "metadata": {
    "execution": {
     "iopub.execute_input": "2021-10-11T05:10:55.108276Z",
     "iopub.status.busy": "2021-10-11T05:10:55.091997Z",
     "iopub.status.idle": "2021-10-11T05:10:55.337502Z",
     "shell.execute_reply": "2021-10-11T05:10:55.337074Z"
    }
   },
   "outputs": [
    {
     "data": {
      "image/png": "[encoded data removed]",
      "text/plain": [
       "<Figure size 864x432 with 1 Axes>"
      ]
     },
     "metadata": {
      "needs_background": "light"
     },
     "output_type": "display_data"
    }
   ],
   "source": [
    "fig, ax = plt.subplots(figsize=(12, 6))\r\n",
    "plt.plot(df_hourly.temp, '.-', label='Temperature')\r\n",
    "plt.plot(df_hourly.feels_like, '.-', label='Feels Like')\r\n",
    "ax.set(title='Temperature in future 48 hours', xlabel='Time', ylabel='Temperature')\r\n",
    "ax.set_xticks(list(range(0, len(df_hourly), 2)))\r\n",
    "ax.set_xticklabels([ts2dt(ts, '%m-%d %H:%M')[0] for i, ts in enumerate(df_hourly.dt) if i%2==0], \r\n",
    "                   rotation=45, ha=\"right\")\r\n",
    "ax.locator_params(nbins=15, axis='y')\r\n",
    "plt.legend()\r\n",
    "plt.show()"
   ]
  },
  {
   "cell_type": "code",
   "execution_count": 10,
   "metadata": {
    "execution": {
     "iopub.execute_input": "2021-10-11T05:10:55.342043Z",
     "iopub.status.busy": "2021-10-11T05:10:55.341170Z",
     "iopub.status.idle": "2021-10-11T05:10:55.360545Z",
     "shell.execute_reply": "2021-10-11T05:10:55.360144Z"
    }
   },
   "outputs": [
    {
     "data": {
      "text/html": [
       "<div>\n",
       "<style scoped>\n",
       "    .dataframe tbody tr th:only-of-type {\n",
       "        vertical-align: middle;\n",
       "    }\n",
       "\n",
       "    .dataframe tbody tr th {\n",
       "        vertical-align: top;\n",
       "    }\n",
       "\n",
       "    .dataframe thead th {\n",
       "        text-align: right;\n",
       "    }\n",
       "</style>\n",
       "<table border=\"1\" class=\"dataframe\">\n",
       "  <thead>\n",
       "    <tr style=\"text-align: right;\">\n",
       "      <th></th>\n",
       "      <th>dt</th>\n",
       "      <th>temp</th>\n",
       "      <th>feels_like</th>\n",
       "      <th>pressure</th>\n",
       "      <th>humidity</th>\n",
       "      <th>dew_point</th>\n",
       "      <th>uvi</th>\n",
       "      <th>clouds</th>\n",
       "      <th>visibility</th>\n",
       "      <th>wind_speed</th>\n",
       "      <th>wind_deg</th>\n",
       "      <th>wind_gust</th>\n",
       "      <th>weather</th>\n",
       "      <th>pop</th>\n",
       "      <th>rain</th>\n",
       "    </tr>\n",
       "  </thead>\n",
       "  <tbody>\n",
       "    <tr>\n",
       "      <th>0</th>\n",
       "      <td>1633928400</td>\n",
       "      <td>31.61</td>\n",
       "      <td>35.36</td>\n",
       "      <td>1015</td>\n",
       "      <td>57</td>\n",
       "      <td>22.05</td>\n",
       "      <td>8.53</td>\n",
       "      <td>65</td>\n",
       "      <td>10000</td>\n",
       "      <td>8.68</td>\n",
       "      <td>4</td>\n",
       "      <td>10.94</td>\n",
       "      <td>[{'id': 803, 'main': 'Clouds', 'description': ...</td>\n",
       "      <td>0.0</td>\n",
       "      <td>NaN</td>\n",
       "    </tr>\n",
       "    <tr>\n",
       "      <th>1</th>\n",
       "      <td>1633932000</td>\n",
       "      <td>31.08</td>\n",
       "      <td>34.52</td>\n",
       "      <td>1013</td>\n",
       "      <td>58</td>\n",
       "      <td>21.84</td>\n",
       "      <td>6.89</td>\n",
       "      <td>65</td>\n",
       "      <td>10000</td>\n",
       "      <td>8.71</td>\n",
       "      <td>10</td>\n",
       "      <td>10.97</td>\n",
       "      <td>[{'id': 803, 'main': 'Clouds', 'description': ...</td>\n",
       "      <td>0.0</td>\n",
       "      <td>NaN</td>\n",
       "    </tr>\n",
       "    <tr>\n",
       "      <th>2</th>\n",
       "      <td>1633935600</td>\n",
       "      <td>30.40</td>\n",
       "      <td>33.61</td>\n",
       "      <td>1011</td>\n",
       "      <td>60</td>\n",
       "      <td>21.76</td>\n",
       "      <td>4.74</td>\n",
       "      <td>67</td>\n",
       "      <td>10000</td>\n",
       "      <td>9.21</td>\n",
       "      <td>6</td>\n",
       "      <td>11.59</td>\n",
       "      <td>[{'id': 803, 'main': 'Clouds', 'description': ...</td>\n",
       "      <td>0.0</td>\n",
       "      <td>NaN</td>\n",
       "    </tr>\n",
       "    <tr>\n",
       "      <th>3</th>\n",
       "      <td>1633939200</td>\n",
       "      <td>29.46</td>\n",
       "      <td>32.19</td>\n",
       "      <td>1008</td>\n",
       "      <td>62</td>\n",
       "      <td>21.42</td>\n",
       "      <td>2.24</td>\n",
       "      <td>55</td>\n",
       "      <td>10000</td>\n",
       "      <td>9.01</td>\n",
       "      <td>6</td>\n",
       "      <td>11.99</td>\n",
       "      <td>[{'id': 803, 'main': 'Clouds', 'description': ...</td>\n",
       "      <td>0.0</td>\n",
       "      <td>NaN</td>\n",
       "    </tr>\n",
       "    <tr>\n",
       "      <th>4</th>\n",
       "      <td>1633942800</td>\n",
       "      <td>27.96</td>\n",
       "      <td>29.96</td>\n",
       "      <td>1006</td>\n",
       "      <td>65</td>\n",
       "      <td>20.77</td>\n",
       "      <td>0.64</td>\n",
       "      <td>44</td>\n",
       "      <td>10000</td>\n",
       "      <td>8.97</td>\n",
       "      <td>360</td>\n",
       "      <td>12.64</td>\n",
       "      <td>[{'id': 802, 'main': 'Clouds', 'description': ...</td>\n",
       "      <td>0.0</td>\n",
       "      <td>NaN</td>\n",
       "    </tr>\n",
       "  </tbody>\n",
       "</table>\n",
       "</div>"
      ],
      "text/plain": [
       "           dt   temp  feels_like  pressure  humidity  dew_point   uvi  clouds  \\\n",
       "0  1633928400  31.61       35.36      1015        57      22.05  8.53      65   \n",
       "1  1633932000  31.08       34.52      1013        58      21.84  6.89      65   \n",
       "2  1633935600  30.40       33.61      1011        60      21.76  4.74      67   \n",
       "3  1633939200  29.46       32.19      1008        62      21.42  2.24      55   \n",
       "4  1633942800  27.96       29.96      1006        65      20.77  0.64      44   \n",
       "\n",
       "   visibility  wind_speed  wind_deg  wind_gust  \\\n",
       "0       10000        8.68         4      10.94   \n",
       "1       10000        8.71        10      10.97   \n",
       "2       10000        9.21         6      11.59   \n",
       "3       10000        9.01         6      11.99   \n",
       "4       10000        8.97       360      12.64   \n",
       "\n",
       "                                             weather  pop rain  \n",
       "0  [{'id': 803, 'main': 'Clouds', 'description': ...  0.0  NaN  \n",
       "1  [{'id': 803, 'main': 'Clouds', 'description': ...  0.0  NaN  \n",
       "2  [{'id': 803, 'main': 'Clouds', 'description': ...  0.0  NaN  \n",
       "3  [{'id': 803, 'main': 'Clouds', 'description': ...  0.0  NaN  \n",
       "4  [{'id': 802, 'main': 'Clouds', 'description': ...  0.0  NaN  "
      ]
     },
     "execution_count": 10,
     "metadata": {},
     "output_type": "execute_result"
    }
   ],
   "source": [
    "df_hourly.head()"
   ]
  },
  {
   "cell_type": "code",
   "execution_count": null,
   "metadata": {},
   "outputs": [],
   "source": []
  }
 ],
 "metadata": {
  "interpreter": {
   "hash": "c1b4cfe941b6d2466ad1fb5979e97da9cda8801728c8091b097ab734208fc00c"
  },
  "kernelspec": {
   "display_name": "Python 3.8.3 64-bit ('base': conda)",
   "name": "python3"
  },
  "language_info": {
   "codemirror_mode": {
    "name": "ipython",
    "version": 3
   },
   "file_extension": ".py",
   "mimetype": "text/x-python",
   "name": "python",
   "nbconvert_exporter": "python",
   "pygments_lexer": "ipython3",
   "version": "3.8.12"
  }
 },
 "nbformat": 4,
 "nbformat_minor": 2
}
