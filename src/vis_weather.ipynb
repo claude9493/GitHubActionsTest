{
 "cells": [
  {
   "cell_type": "code",
   "execution_count": 1,
   "metadata": {
    "execution": {
     "iopub.execute_input": "2021-09-19T21:09:49.248311Z",
     "iopub.status.busy": "2021-09-19T21:09:49.247603Z",
     "iopub.status.idle": "2021-09-19T21:09:50.646866Z",
     "shell.execute_reply": "2021-09-19T21:09:50.646225Z"
    }
   },
   "outputs": [],
   "source": [
    "import json, yaml, requests\r\n",
    "from datetime import datetime\r\n",
    "from dateutil import tz\r\n",
    "import pandas as pd\r\n",
    "from PIL import Image\r\n",
    "from io import BytesIO\r\n",
    "import matplotlib.pyplot as plt\r\n",
    "import seaborn\r\n",
    "\r\n",
    "CONFIG_PATH = \"../config/config.yaml\""
   ]
  },
  {
   "cell_type": "code",
   "execution_count": 2,
   "metadata": {
    "execution": {
     "iopub.execute_input": "2021-09-19T21:09:50.654844Z",
     "iopub.status.busy": "2021-09-19T21:09:50.651803Z",
     "iopub.status.idle": "2021-09-19T21:09:50.657854Z",
     "shell.execute_reply": "2021-09-19T21:09:50.657270Z"
    }
   },
   "outputs": [],
   "source": [
    "with open('../newest_ts', 'r') as f:\r\n",
    "    newest_ts = f.read()\r\n",
    "\r\n",
    "data_path = f\"../data/data_{newest_ts}.json\"\r\n",
    "with open(data_path, 'r') as f:\r\n",
    "    data = json.load(f)\r\n",
    "\r\n",
    "with open(CONFIG_PATH, \"r\") as stream:\r\n",
    "    config = yaml.safe_load(stream)\r\n",
    "\r\n",
    "TIME_ZONE = config['time_zone']\r\n",
    "DATETIME_FORMAT = config['dt_format']"
   ]
  },
  {
   "cell_type": "code",
   "execution_count": 3,
   "metadata": {
    "execution": {
     "iopub.execute_input": "2021-09-19T21:09:50.663920Z",
     "iopub.status.busy": "2021-09-19T21:09:50.662227Z",
     "iopub.status.idle": "2021-09-19T21:09:50.667080Z",
     "shell.execute_reply": "2021-09-19T21:09:50.667529Z"
    }
   },
   "outputs": [
    {
     "name": "stdout",
     "output_type": "stream",
     "text": [
      "Recent query happens at 2021-09-20 05:09:46 (CST).\n"
     ]
    }
   ],
   "source": [
    "def ts2dt(ts, format=DATETIME_FORMAT):\r\n",
    "    dt = (datetime.utcfromtimestamp(int(ts))\r\n",
    "                    .replace(tzinfo=tz.tzutc())\r\n",
    "                    # .astimezone(tz.tzlocal())\r\n",
    "                    .astimezone(tz.gettz(TIME_ZONE)))\r\n",
    "    return dt.strftime(format), dt\r\n",
    "\r\n",
    "_, newest_dt = ts2dt(newest_ts)\r\n",
    "print(f\"Recent query happens at {newest_dt.strftime(DATETIME_FORMAT)} ({newest_dt.tzname()}).\")"
   ]
  },
  {
   "cell_type": "code",
   "execution_count": 4,
   "metadata": {
    "execution": {
     "iopub.execute_input": "2021-09-19T21:09:50.673156Z",
     "iopub.status.busy": "2021-09-19T21:09:50.671946Z",
     "iopub.status.idle": "2021-09-19T21:09:50.673759Z",
     "shell.execute_reply": "2021-09-19T21:09:50.674197Z"
    }
   },
   "outputs": [],
   "source": [
    "def degrees_to_cardinal(d):\r\n",
    "  dirs = ['N', 'NNE', 'NE', 'ENE', 'E', 'ESE', 'SE', 'SSE', 'S', 'SSW', 'SW', 'WSW', 'W', 'WNW', 'NW', 'NNW']\r\n",
    "  ix = int(round(d / (360. / len(dirs))))\r\n",
    "  return dirs[ix % len(dirs)]"
   ]
  },
  {
   "cell_type": "code",
   "execution_count": 5,
   "metadata": {
    "execution": {
     "iopub.execute_input": "2021-09-19T21:09:50.678594Z",
     "iopub.status.busy": "2021-09-19T21:09:50.677425Z",
     "iopub.status.idle": "2021-09-19T21:09:50.679222Z",
     "shell.execute_reply": "2021-09-19T21:09:50.679658Z"
    }
   },
   "outputs": [],
   "source": [
    "# data.keys()"
   ]
  },
  {
   "cell_type": "code",
   "execution_count": 6,
   "metadata": {
    "execution": {
     "iopub.execute_input": "2021-09-19T21:09:50.683894Z",
     "iopub.status.busy": "2021-09-19T21:09:50.682671Z",
     "iopub.status.idle": "2021-09-19T21:09:50.684491Z",
     "shell.execute_reply": "2021-09-19T21:09:50.684919Z"
    }
   },
   "outputs": [],
   "source": [
    "# data['current']"
   ]
  },
  {
   "cell_type": "code",
   "execution_count": 7,
   "metadata": {
    "execution": {
     "iopub.execute_input": "2021-09-19T21:09:50.703932Z",
     "iopub.status.busy": "2021-09-19T21:09:50.703361Z",
     "iopub.status.idle": "2021-09-19T21:09:51.149869Z",
     "shell.execute_reply": "2021-09-19T21:09:51.150658Z"
    }
   },
   "outputs": [
    {
     "data": {
      "image/png": "[encoded data removed]",
      "text/plain": [
       "<Figure size 216x216 with 1 Axes>"
      ]
     },
     "metadata": {
      "needs_background": "light"
     },
     "output_type": "display_data"
    },
    {
     "name": "stdout",
     "output_type": "stream",
     "text": [
      "Today, sun rises at 06:11 and sets at 18:21.\n",
      "Currently, the weather is Clouds (scattered clouds).\n",
      "The temperature is 28.68°C and it feels like 35.53°C.\n",
      "The UV index is 0, humidity is 88%.\n",
      "The pressure is 1010 hPa, percentage of cloud cover is 27%\n",
      "The wind comes from ENE direction with a speed 1.46 m/s.\n"
     ]
    }
   ],
   "source": [
    "current = data['current']\r\n",
    "\r\n",
    "fig, ax = plt.subplots(figsize=(3, 3))\r\n",
    "icon = requests.get(f\"http://openweathermap.org/img/wn/{current['weather'][0]['icon']}@2x.png\")\r\n",
    "im = Image.open(BytesIO(icon.content))\r\n",
    "plt.imshow(im)\r\n",
    "ax.set_axis_off()\r\n",
    "plt.show()\r\n",
    "\r\n",
    "print(f\"Today, sun rises at {ts2dt(current['sunrise'], '%H:%M')[0]} \\\r\n",
    "and sets at {ts2dt(current['sunset'], '%H:%M')[0]}.\\n\\\r\n",
    "Currently, the weather is {current['weather'][0]['main']} ({current['weather'][0]['description']}).\\n\\\r\n",
    "The temperature is {current['temp']}°C and it feels like {current['feels_like']}°C.\\n\\\r\n",
    "The UV index is {current['uvi']}, humidity is {current['humidity']}%.\\n\\\r\n",
    "The pressure is {current['pressure']} hPa, percentage of cloud cover is {current['clouds']}%\\n\\\r\n",
    "The wind comes from {degrees_to_cardinal(current['wind_deg'])} direction with a speed {current['wind_speed']} m/s.\")"
   ]
  },
  {
   "cell_type": "code",
   "execution_count": 8,
   "metadata": {
    "execution": {
     "iopub.execute_input": "2021-09-19T21:09:51.154357Z",
     "iopub.status.busy": "2021-09-19T21:09:51.153261Z",
     "iopub.status.idle": "2021-09-19T21:09:51.161069Z",
     "shell.execute_reply": "2021-09-19T21:09:51.161822Z"
    }
   },
   "outputs": [],
   "source": [
    "df_hourly = pd.DataFrame(data['hourly'])\r\n",
    "df_daily = pd.DataFrame(data['daily'])"
   ]
  },
  {
   "cell_type": "code",
   "execution_count": 9,
   "metadata": {
    "execution": {
     "iopub.execute_input": "2021-09-19T21:09:51.165518Z",
     "iopub.status.busy": "2021-09-19T21:09:51.164310Z",
     "iopub.status.idle": "2021-09-19T21:09:51.440863Z",
     "shell.execute_reply": "2021-09-19T21:09:51.439966Z"
    }
   },
   "outputs": [
    {
     "data": {
      "image/png": "[encoded data removed]",
      "text/plain": [
       "<Figure size 864x432 with 1 Axes>"
      ]
     },
     "metadata": {
      "needs_background": "light"
     },
     "output_type": "display_data"
    }
   ],
   "source": [
    "fig, ax = plt.subplots(figsize=(12, 6))\r\n",
    "plt.plot(df_hourly.temp, '.-', label='Temperature')\r\n",
    "plt.plot(df_hourly.feels_like, '.-', label='Feels Like')\r\n",
    "ax.set(title='Temperature in future 48 hours', xlabel='Time', ylabel='Temperature')\r\n",
    "ax.set_xticks(list(range(0, len(df_hourly), 2)))\r\n",
    "ax.set_xticklabels([ts2dt(ts, '%m-%d %H:%M')[0] for i, ts in enumerate(df_hourly.dt) if i%2==0], \r\n",
    "                   rotation=45, ha=\"right\")\r\n",
    "ax.locator_params(nbins=15, axis='y')\r\n",
    "plt.legend()\r\n",
    "plt.show()"
   ]
  },
  {
   "cell_type": "code",
   "execution_count": 10,
   "metadata": {
    "execution": {
     "iopub.execute_input": "2021-09-19T21:09:51.453549Z",
     "iopub.status.busy": "2021-09-19T21:09:51.445224Z",
     "iopub.status.idle": "2021-09-19T21:09:51.464808Z",
     "shell.execute_reply": "2021-09-19T21:09:51.464350Z"
    }
   },
   "outputs": [
    {
     "data": {
      "text/html": [
       "<div>\n",
       "<style scoped>\n",
       "    .dataframe tbody tr th:only-of-type {\n",
       "        vertical-align: middle;\n",
       "    }\n",
       "\n",
       "    .dataframe tbody tr th {\n",
       "        vertical-align: top;\n",
       "    }\n",
       "\n",
       "    .dataframe thead th {\n",
       "        text-align: right;\n",
       "    }\n",
       "</style>\n",
       "<table border=\"1\" class=\"dataframe\">\n",
       "  <thead>\n",
       "    <tr style=\"text-align: right;\">\n",
       "      <th></th>\n",
       "      <th>dt</th>\n",
       "      <th>temp</th>\n",
       "      <th>feels_like</th>\n",
       "      <th>pressure</th>\n",
       "      <th>humidity</th>\n",
       "      <th>dew_point</th>\n",
       "      <th>uvi</th>\n",
       "      <th>clouds</th>\n",
       "      <th>visibility</th>\n",
       "      <th>wind_speed</th>\n",
       "      <th>wind_deg</th>\n",
       "      <th>wind_gust</th>\n",
       "      <th>weather</th>\n",
       "      <th>pop</th>\n",
       "      <th>rain</th>\n",
       "    </tr>\n",
       "  </thead>\n",
       "  <tbody>\n",
       "    <tr>\n",
       "      <th>0</th>\n",
       "      <td>1632085200</td>\n",
       "      <td>28.68</td>\n",
       "      <td>35.53</td>\n",
       "      <td>1010</td>\n",
       "      <td>88</td>\n",
       "      <td>26.49</td>\n",
       "      <td>0.00</td>\n",
       "      <td>27</td>\n",
       "      <td>10000</td>\n",
       "      <td>1.46</td>\n",
       "      <td>78</td>\n",
       "      <td>1.77</td>\n",
       "      <td>[{'id': 802, 'main': 'Clouds', 'description': ...</td>\n",
       "      <td>0.81</td>\n",
       "      <td>NaN</td>\n",
       "    </tr>\n",
       "    <tr>\n",
       "      <th>1</th>\n",
       "      <td>1632088800</td>\n",
       "      <td>28.44</td>\n",
       "      <td>34.56</td>\n",
       "      <td>1010</td>\n",
       "      <td>87</td>\n",
       "      <td>26.06</td>\n",
       "      <td>0.00</td>\n",
       "      <td>26</td>\n",
       "      <td>10000</td>\n",
       "      <td>1.75</td>\n",
       "      <td>78</td>\n",
       "      <td>2.09</td>\n",
       "      <td>[{'id': 802, 'main': 'Clouds', 'description': ...</td>\n",
       "      <td>0.77</td>\n",
       "      <td>NaN</td>\n",
       "    </tr>\n",
       "    <tr>\n",
       "      <th>2</th>\n",
       "      <td>1632092400</td>\n",
       "      <td>28.29</td>\n",
       "      <td>33.91</td>\n",
       "      <td>1010</td>\n",
       "      <td>86</td>\n",
       "      <td>25.72</td>\n",
       "      <td>0.22</td>\n",
       "      <td>23</td>\n",
       "      <td>10000</td>\n",
       "      <td>2.09</td>\n",
       "      <td>72</td>\n",
       "      <td>2.51</td>\n",
       "      <td>[{'id': 801, 'main': 'Clouds', 'description': ...</td>\n",
       "      <td>0.77</td>\n",
       "      <td>NaN</td>\n",
       "    </tr>\n",
       "    <tr>\n",
       "      <th>3</th>\n",
       "      <td>1632096000</td>\n",
       "      <td>28.49</td>\n",
       "      <td>33.92</td>\n",
       "      <td>1011</td>\n",
       "      <td>83</td>\n",
       "      <td>25.32</td>\n",
       "      <td>1.24</td>\n",
       "      <td>20</td>\n",
       "      <td>10000</td>\n",
       "      <td>2.38</td>\n",
       "      <td>78</td>\n",
       "      <td>2.76</td>\n",
       "      <td>[{'id': 801, 'main': 'Clouds', 'description': ...</td>\n",
       "      <td>0.73</td>\n",
       "      <td>NaN</td>\n",
       "    </tr>\n",
       "    <tr>\n",
       "      <th>4</th>\n",
       "      <td>1632099600</td>\n",
       "      <td>28.93</td>\n",
       "      <td>34.34</td>\n",
       "      <td>1012</td>\n",
       "      <td>79</td>\n",
       "      <td>24.92</td>\n",
       "      <td>3.37</td>\n",
       "      <td>8</td>\n",
       "      <td>10000</td>\n",
       "      <td>2.73</td>\n",
       "      <td>83</td>\n",
       "      <td>2.93</td>\n",
       "      <td>[{'id': 800, 'main': 'Clear', 'description': '...</td>\n",
       "      <td>0.04</td>\n",
       "      <td>NaN</td>\n",
       "    </tr>\n",
       "  </tbody>\n",
       "</table>\n",
       "</div>"
      ],
      "text/plain": [
       "           dt   temp  feels_like  pressure  humidity  dew_point   uvi  clouds  \\\n",
       "0  1632085200  28.68       35.53      1010        88      26.49  0.00      27   \n",
       "1  1632088800  28.44       34.56      1010        87      26.06  0.00      26   \n",
       "2  1632092400  28.29       33.91      1010        86      25.72  0.22      23   \n",
       "3  1632096000  28.49       33.92      1011        83      25.32  1.24      20   \n",
       "4  1632099600  28.93       34.34      1012        79      24.92  3.37       8   \n",
       "\n",
       "   visibility  wind_speed  wind_deg  wind_gust  \\\n",
       "0       10000        1.46        78       1.77   \n",
       "1       10000        1.75        78       2.09   \n",
       "2       10000        2.09        72       2.51   \n",
       "3       10000        2.38        78       2.76   \n",
       "4       10000        2.73        83       2.93   \n",
       "\n",
       "                                             weather   pop rain  \n",
       "0  [{'id': 802, 'main': 'Clouds', 'description': ...  0.81  NaN  \n",
       "1  [{'id': 802, 'main': 'Clouds', 'description': ...  0.77  NaN  \n",
       "2  [{'id': 801, 'main': 'Clouds', 'description': ...  0.77  NaN  \n",
       "3  [{'id': 801, 'main': 'Clouds', 'description': ...  0.73  NaN  \n",
       "4  [{'id': 800, 'main': 'Clear', 'description': '...  0.04  NaN  "
      ]
     },
     "execution_count": 10,
     "metadata": {},
     "output_type": "execute_result"
    }
   ],
   "source": [
    "df_hourly.head()"
   ]
  },
  {
   "cell_type": "code",
   "execution_count": null,
   "metadata": {},
   "outputs": [],
   "source": []
  }
 ],
 "metadata": {
  "interpreter": {
   "hash": "c1b4cfe941b6d2466ad1fb5979e97da9cda8801728c8091b097ab734208fc00c"
  },
  "kernelspec": {
   "display_name": "Python 3.8.3 64-bit ('base': conda)",
   "name": "python3"
  },
  "language_info": {
   "codemirror_mode": {
    "name": "ipython",
    "version": 3
   },
   "file_extension": ".py",
   "mimetype": "text/x-python",
   "name": "python",
   "nbconvert_exporter": "python",
   "pygments_lexer": "ipython3",
   "version": "3.8.11"
  }
 },
 "nbformat": 4,
 "nbformat_minor": 2
}
