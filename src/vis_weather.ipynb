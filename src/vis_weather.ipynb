{
 "cells": [
  {
   "cell_type": "code",
   "execution_count": 1,
   "metadata": {
    "execution": {
     "iopub.execute_input": "2021-10-17T12:17:13.637896Z",
     "iopub.status.busy": "2021-10-17T12:17:13.637000Z",
     "iopub.status.idle": "2021-10-17T12:17:15.241159Z",
     "shell.execute_reply": "2021-10-17T12:17:15.241630Z"
    }
   },
   "outputs": [],
   "source": [
    "import json, yaml, requests\r\n",
    "from datetime import datetime\r\n",
    "from dateutil import tz\r\n",
    "import pandas as pd\r\n",
    "from PIL import Image\r\n",
    "from io import BytesIO\r\n",
    "import matplotlib.pyplot as plt\r\n",
    "import seaborn\r\n",
    "\r\n",
    "CONFIG_PATH = \"../config/config.yaml\""
   ]
  },
  {
   "cell_type": "code",
   "execution_count": 2,
   "metadata": {
    "execution": {
     "iopub.execute_input": "2021-10-17T12:17:15.248267Z",
     "iopub.status.busy": "2021-10-17T12:17:15.247041Z",
     "iopub.status.idle": "2021-10-17T12:17:15.252749Z",
     "shell.execute_reply": "2021-10-17T12:17:15.253213Z"
    }
   },
   "outputs": [],
   "source": [
    "with open('../newest_ts', 'r') as f:\r\n",
    "    newest_ts = f.read()\r\n",
    "\r\n",
    "data_path = f\"../data/data_{newest_ts}.json\"\r\n",
    "with open(data_path, 'r') as f:\r\n",
    "    data = json.load(f)\r\n",
    "\r\n",
    "with open(CONFIG_PATH, \"r\") as stream:\r\n",
    "    config = yaml.safe_load(stream)\r\n",
    "\r\n",
    "TIME_ZONE = config['time_zone']\r\n",
    "DATETIME_FORMAT = config['dt_format']"
   ]
  },
  {
   "cell_type": "code",
   "execution_count": 3,
   "metadata": {
    "execution": {
     "iopub.execute_input": "2021-10-17T12:17:15.258520Z",
     "iopub.status.busy": "2021-10-17T12:17:15.257867Z",
     "iopub.status.idle": "2021-10-17T12:17:15.264143Z",
     "shell.execute_reply": "2021-10-17T12:17:15.264635Z"
    }
   },
   "outputs": [
    {
     "name": "stdout",
     "output_type": "stream",
     "text": [
      "Recent query happens at 2021-10-17 20:17:10 (CST).\n"
     ]
    }
   ],
   "source": [
    "def ts2dt(ts, format=DATETIME_FORMAT):\r\n",
    "    dt = (datetime.utcfromtimestamp(int(ts))\r\n",
    "                    .replace(tzinfo=tz.tzutc())\r\n",
    "                    # .astimezone(tz.tzlocal())\r\n",
    "                    .astimezone(tz.gettz(TIME_ZONE)))\r\n",
    "    return dt.strftime(format), dt\r\n",
    "\r\n",
    "_, newest_dt = ts2dt(newest_ts)\r\n",
    "print(f\"Recent query happens at {newest_dt.strftime(DATETIME_FORMAT)} ({newest_dt.tzname()}).\")"
   ]
  },
  {
   "cell_type": "code",
   "execution_count": 4,
   "metadata": {
    "execution": {
     "iopub.execute_input": "2021-10-17T12:17:15.270816Z",
     "iopub.status.busy": "2021-10-17T12:17:15.269262Z",
     "iopub.status.idle": "2021-10-17T12:17:15.271492Z",
     "shell.execute_reply": "2021-10-17T12:17:15.272030Z"
    }
   },
   "outputs": [],
   "source": [
    "def degrees_to_cardinal(d):\r\n",
    "  dirs = ['N', 'NNE', 'NE', 'ENE', 'E', 'ESE', 'SE', 'SSE', 'S', 'SSW', 'SW', 'WSW', 'W', 'WNW', 'NW', 'NNW']\r\n",
    "  ix = int(round(d / (360. / len(dirs))))\r\n",
    "  return dirs[ix % len(dirs)]"
   ]
  },
  {
   "cell_type": "code",
   "execution_count": 5,
   "metadata": {
    "execution": {
     "iopub.execute_input": "2021-10-17T12:17:15.277345Z",
     "iopub.status.busy": "2021-10-17T12:17:15.275810Z",
     "iopub.status.idle": "2021-10-17T12:17:15.278037Z",
     "shell.execute_reply": "2021-10-17T12:17:15.278550Z"
    }
   },
   "outputs": [],
   "source": [
    "# data.keys()"
   ]
  },
  {
   "cell_type": "code",
   "execution_count": 6,
   "metadata": {
    "execution": {
     "iopub.execute_input": "2021-10-17T12:17:15.283415Z",
     "iopub.status.busy": "2021-10-17T12:17:15.281892Z",
     "iopub.status.idle": "2021-10-17T12:17:15.284189Z",
     "shell.execute_reply": "2021-10-17T12:17:15.284674Z"
    }
   },
   "outputs": [],
   "source": [
    "# data['current']"
   ]
  },
  {
   "cell_type": "code",
   "execution_count": 7,
   "metadata": {
    "execution": {
     "iopub.execute_input": "2021-10-17T12:17:15.306148Z",
     "iopub.status.busy": "2021-10-17T12:17:15.305525Z",
     "iopub.status.idle": "2021-10-17T12:17:15.771194Z",
     "shell.execute_reply": "2021-10-17T12:17:15.771960Z"
    }
   },
   "outputs": [
    {
     "data": {
      "image/png": "[encoded data removed]",
      "text/plain": [
       "<Figure size 216x216 with 1 Axes>"
      ]
     },
     "metadata": {
      "needs_background": "light"
     },
     "output_type": "display_data"
    },
    {
     "name": "stdout",
     "output_type": "stream",
     "text": [
      "Today, sun rises at 06:19 and sets at 17:56.\n",
      "Currently, the weather is Clouds (broken clouds).\n",
      "The temperature is 22.68°C and it feels like 22.96°C.\n",
      "The UV index is 0, humidity is 75%.\n",
      "The pressure is 1018 hPa, percentage of cloud cover is 76%\n",
      "The wind comes from NE direction with a speed 0.89 m/s.\n"
     ]
    }
   ],
   "source": [
    "current = data['current']\r\n",
    "\r\n",
    "fig, ax = plt.subplots(figsize=(3, 3))\r\n",
    "icon = requests.get(f\"http://openweathermap.org/img/wn/{current['weather'][0]['icon']}@2x.png\")\r\n",
    "im = Image.open(BytesIO(icon.content))\r\n",
    "plt.imshow(im)\r\n",
    "ax.set_axis_off()\r\n",
    "plt.show()\r\n",
    "\r\n",
    "print(f\"Today, sun rises at {ts2dt(current['sunrise'], '%H:%M')[0]} \\\r\n",
    "and sets at {ts2dt(current['sunset'], '%H:%M')[0]}.\\n\\\r\n",
    "Currently, the weather is {current['weather'][0]['main']} ({current['weather'][0]['description']}).\\n\\\r\n",
    "The temperature is {current['temp']}°C and it feels like {current['feels_like']}°C.\\n\\\r\n",
    "The UV index is {current['uvi']}, humidity is {current['humidity']}%.\\n\\\r\n",
    "The pressure is {current['pressure']} hPa, percentage of cloud cover is {current['clouds']}%\\n\\\r\n",
    "The wind comes from {degrees_to_cardinal(current['wind_deg'])} direction with a speed {current['wind_speed']} m/s.\")"
   ]
  },
  {
   "cell_type": "code",
   "execution_count": 8,
   "metadata": {
    "execution": {
     "iopub.execute_input": "2021-10-17T12:17:15.775512Z",
     "iopub.status.busy": "2021-10-17T12:17:15.774465Z",
     "iopub.status.idle": "2021-10-17T12:17:15.782649Z",
     "shell.execute_reply": "2021-10-17T12:17:15.783515Z"
    }
   },
   "outputs": [],
   "source": [
    "df_hourly = pd.DataFrame(data['hourly'])\r\n",
    "df_daily = pd.DataFrame(data['daily'])"
   ]
  },
  {
   "cell_type": "code",
   "execution_count": 9,
   "metadata": {
    "execution": {
     "iopub.execute_input": "2021-10-17T12:17:15.787138Z",
     "iopub.status.busy": "2021-10-17T12:17:15.785893Z",
     "iopub.status.idle": "2021-10-17T12:17:16.121899Z",
     "shell.execute_reply": "2021-10-17T12:17:16.123261Z"
    }
   },
   "outputs": [
    {
     "data": {
      "image/png": "[encoded data removed]",
      "text/plain": [
       "<Figure size 864x432 with 1 Axes>"
      ]
     },
     "metadata": {
      "needs_background": "light"
     },
     "output_type": "display_data"
    }
   ],
   "source": [
    "fig, ax = plt.subplots(figsize=(12, 6))\r\n",
    "plt.plot(df_hourly.temp, '.-', label='Temperature')\r\n",
    "plt.plot(df_hourly.feels_like, '.-', label='Feels Like')\r\n",
    "ax.set(title='Temperature in future 48 hours', xlabel='Time', ylabel='Temperature')\r\n",
    "ax.set_xticks(list(range(0, len(df_hourly), 2)))\r\n",
    "ax.set_xticklabels([ts2dt(ts, '%m-%d %H:%M')[0] for i, ts in enumerate(df_hourly.dt) if i%2==0], \r\n",
    "                   rotation=45, ha=\"right\")\r\n",
    "ax.locator_params(nbins=15, axis='y')\r\n",
    "plt.legend()\r\n",
    "plt.show()"
   ]
  },
  {
   "cell_type": "code",
   "execution_count": 10,
   "metadata": {
    "execution": {
     "iopub.execute_input": "2021-10-17T12:17:16.126558Z",
     "iopub.status.busy": "2021-10-17T12:17:16.125986Z",
     "iopub.status.idle": "2021-10-17T12:17:16.147834Z",
     "shell.execute_reply": "2021-10-17T12:17:16.148376Z"
    }
   },
   "outputs": [
    {
     "data": {
      "text/html": [
       "<div>\n",
       "<style scoped>\n",
       "    .dataframe tbody tr th:only-of-type {\n",
       "        vertical-align: middle;\n",
       "    }\n",
       "\n",
       "    .dataframe tbody tr th {\n",
       "        vertical-align: top;\n",
       "    }\n",
       "\n",
       "    .dataframe thead th {\n",
       "        text-align: right;\n",
       "    }\n",
       "</style>\n",
       "<table border=\"1\" class=\"dataframe\">\n",
       "  <thead>\n",
       "    <tr style=\"text-align: right;\">\n",
       "      <th></th>\n",
       "      <th>dt</th>\n",
       "      <th>temp</th>\n",
       "      <th>feels_like</th>\n",
       "      <th>pressure</th>\n",
       "      <th>humidity</th>\n",
       "      <th>dew_point</th>\n",
       "      <th>uvi</th>\n",
       "      <th>clouds</th>\n",
       "      <th>visibility</th>\n",
       "      <th>wind_speed</th>\n",
       "      <th>wind_deg</th>\n",
       "      <th>wind_gust</th>\n",
       "      <th>weather</th>\n",
       "      <th>pop</th>\n",
       "    </tr>\n",
       "  </thead>\n",
       "  <tbody>\n",
       "    <tr>\n",
       "      <th>0</th>\n",
       "      <td>1634472000</td>\n",
       "      <td>22.68</td>\n",
       "      <td>22.96</td>\n",
       "      <td>1018</td>\n",
       "      <td>75</td>\n",
       "      <td>18.02</td>\n",
       "      <td>0.0</td>\n",
       "      <td>76</td>\n",
       "      <td>10000</td>\n",
       "      <td>4.86</td>\n",
       "      <td>28</td>\n",
       "      <td>6.82</td>\n",
       "      <td>[{'id': 803, 'main': 'Clouds', 'description': ...</td>\n",
       "      <td>0.03</td>\n",
       "    </tr>\n",
       "    <tr>\n",
       "      <th>1</th>\n",
       "      <td>1634475600</td>\n",
       "      <td>22.41</td>\n",
       "      <td>22.64</td>\n",
       "      <td>1018</td>\n",
       "      <td>74</td>\n",
       "      <td>17.55</td>\n",
       "      <td>0.0</td>\n",
       "      <td>78</td>\n",
       "      <td>10000</td>\n",
       "      <td>4.52</td>\n",
       "      <td>16</td>\n",
       "      <td>5.93</td>\n",
       "      <td>[{'id': 803, 'main': 'Clouds', 'description': ...</td>\n",
       "      <td>0.00</td>\n",
       "    </tr>\n",
       "    <tr>\n",
       "      <th>2</th>\n",
       "      <td>1634479200</td>\n",
       "      <td>21.96</td>\n",
       "      <td>22.14</td>\n",
       "      <td>1019</td>\n",
       "      <td>74</td>\n",
       "      <td>17.12</td>\n",
       "      <td>0.0</td>\n",
       "      <td>76</td>\n",
       "      <td>10000</td>\n",
       "      <td>4.36</td>\n",
       "      <td>24</td>\n",
       "      <td>6.13</td>\n",
       "      <td>[{'id': 803, 'main': 'Clouds', 'description': ...</td>\n",
       "      <td>0.00</td>\n",
       "    </tr>\n",
       "    <tr>\n",
       "      <th>3</th>\n",
       "      <td>1634482800</td>\n",
       "      <td>21.56</td>\n",
       "      <td>21.73</td>\n",
       "      <td>1019</td>\n",
       "      <td>75</td>\n",
       "      <td>16.94</td>\n",
       "      <td>0.0</td>\n",
       "      <td>74</td>\n",
       "      <td>10000</td>\n",
       "      <td>4.65</td>\n",
       "      <td>36</td>\n",
       "      <td>6.95</td>\n",
       "      <td>[{'id': 803, 'main': 'Clouds', 'description': ...</td>\n",
       "      <td>0.00</td>\n",
       "    </tr>\n",
       "    <tr>\n",
       "      <th>4</th>\n",
       "      <td>1634486400</td>\n",
       "      <td>21.00</td>\n",
       "      <td>21.14</td>\n",
       "      <td>1019</td>\n",
       "      <td>76</td>\n",
       "      <td>16.61</td>\n",
       "      <td>0.0</td>\n",
       "      <td>68</td>\n",
       "      <td>10000</td>\n",
       "      <td>4.48</td>\n",
       "      <td>34</td>\n",
       "      <td>6.25</td>\n",
       "      <td>[{'id': 803, 'main': 'Clouds', 'description': ...</td>\n",
       "      <td>0.00</td>\n",
       "    </tr>\n",
       "  </tbody>\n",
       "</table>\n",
       "</div>"
      ],
      "text/plain": [
       "           dt   temp  feels_like  pressure  humidity  dew_point  uvi  clouds  \\\n",
       "0  1634472000  22.68       22.96      1018        75      18.02  0.0      76   \n",
       "1  1634475600  22.41       22.64      1018        74      17.55  0.0      78   \n",
       "2  1634479200  21.96       22.14      1019        74      17.12  0.0      76   \n",
       "3  1634482800  21.56       21.73      1019        75      16.94  0.0      74   \n",
       "4  1634486400  21.00       21.14      1019        76      16.61  0.0      68   \n",
       "\n",
       "   visibility  wind_speed  wind_deg  wind_gust  \\\n",
       "0       10000        4.86        28       6.82   \n",
       "1       10000        4.52        16       5.93   \n",
       "2       10000        4.36        24       6.13   \n",
       "3       10000        4.65        36       6.95   \n",
       "4       10000        4.48        34       6.25   \n",
       "\n",
       "                                             weather   pop  \n",
       "0  [{'id': 803, 'main': 'Clouds', 'description': ...  0.03  \n",
       "1  [{'id': 803, 'main': 'Clouds', 'description': ...  0.00  \n",
       "2  [{'id': 803, 'main': 'Clouds', 'description': ...  0.00  \n",
       "3  [{'id': 803, 'main': 'Clouds', 'description': ...  0.00  \n",
       "4  [{'id': 803, 'main': 'Clouds', 'description': ...  0.00  "
      ]
     },
     "execution_count": 10,
     "metadata": {},
     "output_type": "execute_result"
    }
   ],
   "source": [
    "df_hourly.head()"
   ]
  },
  {
   "cell_type": "code",
   "execution_count": null,
   "metadata": {},
   "outputs": [],
   "source": []
  }
 ],
 "metadata": {
  "interpreter": {
   "hash": "c1b4cfe941b6d2466ad1fb5979e97da9cda8801728c8091b097ab734208fc00c"
  },
  "kernelspec": {
   "display_name": "Python 3.8.3 64-bit ('base': conda)",
   "name": "python3"
  },
  "language_info": {
   "codemirror_mode": {
    "name": "ipython",
    "version": 3
   },
   "file_extension": ".py",
   "mimetype": "text/x-python",
   "name": "python",
   "nbconvert_exporter": "python",
   "pygments_lexer": "ipython3",
   "version": "3.8.12"
  }
 },
 "nbformat": 4,
 "nbformat_minor": 2
}
