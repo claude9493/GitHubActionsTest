{
 "cells": [
  {
   "cell_type": "code",
   "execution_count": 1,
   "metadata": {
    "execution": {
     "iopub.execute_input": "2021-09-07T07:18:01.148906Z",
     "iopub.status.busy": "2021-09-07T07:18:01.148332Z",
     "iopub.status.idle": "2021-09-07T07:18:08.982072Z",
     "shell.execute_reply": "2021-09-07T07:18:08.981091Z"
    }
   },
   "outputs": [
    {
     "name": "stderr",
     "output_type": "stream",
     "text": [
      "Matplotlib is building the font cache; this may take a moment.\n"
     ]
    }
   ],
   "source": [
    "import json, yaml, requests\r\n",
    "from datetime import datetime\r\n",
    "from dateutil import tz\r\n",
    "import pandas as pd\r\n",
    "from PIL import Image\r\n",
    "from io import BytesIO\r\n",
    "import matplotlib.pyplot as plt\r\n",
    "import seaborn\r\n",
    "\r\n",
    "CONFIG_PATH = \"../config/config.yaml\""
   ]
  },
  {
   "cell_type": "code",
   "execution_count": 2,
   "metadata": {
    "execution": {
     "iopub.execute_input": "2021-09-07T07:18:08.988367Z",
     "iopub.status.busy": "2021-09-07T07:18:08.987199Z",
     "iopub.status.idle": "2021-09-07T07:18:08.995335Z",
     "shell.execute_reply": "2021-09-07T07:18:08.994309Z"
    }
   },
   "outputs": [],
   "source": [
    "with open('../newest_ts', 'r') as f:\r\n",
    "    newest_ts = f.read()\r\n",
    "\r\n",
    "data_path = f\"../data/data_{newest_ts}.json\"\r\n",
    "with open(data_path, 'r') as f:\r\n",
    "    data = json.load(f)\r\n",
    "\r\n",
    "with open(CONFIG_PATH, \"r\") as stream:\r\n",
    "    config = yaml.safe_load(stream)\r\n",
    "\r\n",
    "TIME_ZONE = config['time_zone']\r\n",
    "DATETIME_FORMAT = config['dt_format']"
   ]
  },
  {
   "cell_type": "code",
   "execution_count": 3,
   "metadata": {
    "execution": {
     "iopub.execute_input": "2021-09-07T07:18:09.000691Z",
     "iopub.status.busy": "2021-09-07T07:18:09.000017Z",
     "iopub.status.idle": "2021-09-07T07:18:09.023126Z",
     "shell.execute_reply": "2021-09-07T07:18:09.022390Z"
    }
   },
   "outputs": [
    {
     "name": "stdout",
     "output_type": "stream",
     "text": [
      "Recent query happens at 2021-09-07 15:17:56 (CST).\n"
     ]
    }
   ],
   "source": [
    "def ts2dt(ts, format=DATETIME_FORMAT):\r\n",
    "    dt = (datetime.utcfromtimestamp(int(ts))\r\n",
    "                    .replace(tzinfo=tz.tzutc())\r\n",
    "                    # .astimezone(tz.tzlocal())\r\n",
    "                    .astimezone(tz.gettz(TIME_ZONE)))\r\n",
    "    return dt.strftime(format), dt\r\n",
    "\r\n",
    "_, newest_dt = ts2dt(newest_ts)\r\n",
    "print(f\"Recent query happens at {newest_dt.strftime(DATETIME_FORMAT)} ({newest_dt.tzname()}).\")"
   ]
  },
  {
   "cell_type": "code",
   "execution_count": 4,
   "metadata": {
    "execution": {
     "iopub.execute_input": "2021-09-07T07:18:09.028191Z",
     "iopub.status.busy": "2021-09-07T07:18:09.027649Z",
     "iopub.status.idle": "2021-09-07T07:18:09.031247Z",
     "shell.execute_reply": "2021-09-07T07:18:09.030788Z"
    }
   },
   "outputs": [],
   "source": [
    "def degrees_to_cardinal(d):\r\n",
    "  dirs = ['N', 'NNE', 'NE', 'ENE', 'E', 'ESE', 'SE', 'SSE', 'S', 'SSW', 'SW', 'WSW', 'W', 'WNW', 'NW', 'NNW']\r\n",
    "  ix = int(round(d / (360. / len(dirs))))\r\n",
    "  return dirs[ix % len(dirs)]"
   ]
  },
  {
   "cell_type": "code",
   "execution_count": 5,
   "metadata": {
    "execution": {
     "iopub.execute_input": "2021-09-07T07:18:09.036120Z",
     "iopub.status.busy": "2021-09-07T07:18:09.034880Z",
     "iopub.status.idle": "2021-09-07T07:18:09.037302Z",
     "shell.execute_reply": "2021-09-07T07:18:09.037762Z"
    }
   },
   "outputs": [],
   "source": [
    "# data.keys()"
   ]
  },
  {
   "cell_type": "code",
   "execution_count": 6,
   "metadata": {
    "execution": {
     "iopub.execute_input": "2021-09-07T07:18:09.041968Z",
     "iopub.status.busy": "2021-09-07T07:18:09.040734Z",
     "iopub.status.idle": "2021-09-07T07:18:09.042551Z",
     "shell.execute_reply": "2021-09-07T07:18:09.042958Z"
    }
   },
   "outputs": [],
   "source": [
    "# data['current']"
   ]
  },
  {
   "cell_type": "code",
   "execution_count": 7,
   "metadata": {
    "execution": {
     "iopub.execute_input": "2021-09-07T07:18:09.063392Z",
     "iopub.status.busy": "2021-09-07T07:18:09.062442Z",
     "iopub.status.idle": "2021-09-07T07:18:09.517688Z",
     "shell.execute_reply": "2021-09-07T07:18:09.516867Z"
    }
   },
   "outputs": [
    {
     "data": {
      "image/png": "[encoded data removed]",
      "text/plain": [
       "<Figure size 216x216 with 1 Axes>"
      ]
     },
     "metadata": {
      "needs_background": "light"
     },
     "output_type": "display_data"
    },
    {
     "name": "stdout",
     "output_type": "stream",
     "text": [
      "Today, sun rises at 06:07 and sets at 18:34.\n",
      "Currently, the weather is Clear (clear sky).\n",
      "The temperature is 32.15°C and it feels like 39.15°C.\n",
      "The UV index is 6.16, humidity is 73%.\n",
      "The pressure is 1009 hPa, percentage of cloud cover is 7%\n",
      "The wind comes from E direction with a speed 5.13 m/s.\n"
     ]
    }
   ],
   "source": [
    "current = data['current']\r\n",
    "\r\n",
    "fig, ax = plt.subplots(figsize=(3, 3))\r\n",
    "icon = requests.get(f\"http://openweathermap.org/img/wn/{current['weather'][0]['icon']}@2x.png\")\r\n",
    "im = Image.open(BytesIO(icon.content))\r\n",
    "plt.imshow(im)\r\n",
    "ax.set_axis_off()\r\n",
    "plt.show()\r\n",
    "\r\n",
    "print(f\"Today, sun rises at {ts2dt(current['sunrise'], '%H:%M')[0]} \\\r\n",
    "and sets at {ts2dt(current['sunset'], '%H:%M')[0]}.\\n\\\r\n",
    "Currently, the weather is {current['weather'][0]['main']} ({current['weather'][0]['description']}).\\n\\\r\n",
    "The temperature is {current['temp']}°C and it feels like {current['feels_like']}°C.\\n\\\r\n",
    "The UV index is {current['uvi']}, humidity is {current['humidity']}%.\\n\\\r\n",
    "The pressure is {current['pressure']} hPa, percentage of cloud cover is {current['clouds']}%\\n\\\r\n",
    "The wind comes from {degrees_to_cardinal(current['wind_deg'])} direction with a speed {current['wind_speed']} m/s.\")"
   ]
  },
  {
   "cell_type": "code",
   "execution_count": 8,
   "metadata": {
    "execution": {
     "iopub.execute_input": "2021-09-07T07:18:09.523318Z",
     "iopub.status.busy": "2021-09-07T07:18:09.522781Z",
     "iopub.status.idle": "2021-09-07T07:18:09.527847Z",
     "shell.execute_reply": "2021-09-07T07:18:09.528535Z"
    }
   },
   "outputs": [],
   "source": [
    "df_hourly = pd.DataFrame(data['hourly'])\r\n",
    "df_daily = pd.DataFrame(data['daily'])"
   ]
  },
  {
   "cell_type": "code",
   "execution_count": 9,
   "metadata": {
    "execution": {
     "iopub.execute_input": "2021-09-07T07:18:09.547040Z",
     "iopub.status.busy": "2021-09-07T07:18:09.543470Z",
     "iopub.status.idle": "2021-09-07T07:18:09.808002Z",
     "shell.execute_reply": "2021-09-07T07:18:09.807552Z"
    }
   },
   "outputs": [
    {
     "data": {
      "image/png": "[encoded data removed]",
      "text/plain": [
       "<Figure size 864x432 with 1 Axes>"
      ]
     },
     "metadata": {
      "needs_background": "light"
     },
     "output_type": "display_data"
    }
   ],
   "source": [
    "fig, ax = plt.subplots(figsize=(12, 6))\r\n",
    "plt.plot(df_hourly.temp, '.-', label='Temperature')\r\n",
    "plt.plot(df_hourly.feels_like, '.-', label='Feels Like')\r\n",
    "ax.set(title='Temperature in future 48 hours', xlabel='Time', ylabel='Temperature')\r\n",
    "ax.set_xticks(list(range(0, len(df_hourly), 2)))\r\n",
    "ax.set_xticklabels([ts2dt(ts, '%m-%d %H:%M')[0] for i, ts in enumerate(df_hourly.dt) if i%2==0], \r\n",
    "                   rotation=45, ha=\"right\")\r\n",
    "ax.locator_params(nbins=15, axis='y')\r\n",
    "plt.legend()\r\n",
    "plt.show()"
   ]
  },
  {
   "cell_type": "code",
   "execution_count": 10,
   "metadata": {
    "execution": {
     "iopub.execute_input": "2021-09-07T07:18:09.812496Z",
     "iopub.status.busy": "2021-09-07T07:18:09.812039Z",
     "iopub.status.idle": "2021-09-07T07:18:09.831918Z",
     "shell.execute_reply": "2021-09-07T07:18:09.832697Z"
    }
   },
   "outputs": [
    {
     "data": {
      "text/html": [
       "<div>\n",
       "<style scoped>\n",
       "    .dataframe tbody tr th:only-of-type {\n",
       "        vertical-align: middle;\n",
       "    }\n",
       "\n",
       "    .dataframe tbody tr th {\n",
       "        vertical-align: top;\n",
       "    }\n",
       "\n",
       "    .dataframe thead th {\n",
       "        text-align: right;\n",
       "    }\n",
       "</style>\n",
       "<table border=\"1\" class=\"dataframe\">\n",
       "  <thead>\n",
       "    <tr style=\"text-align: right;\">\n",
       "      <th></th>\n",
       "      <th>dt</th>\n",
       "      <th>temp</th>\n",
       "      <th>feels_like</th>\n",
       "      <th>pressure</th>\n",
       "      <th>humidity</th>\n",
       "      <th>dew_point</th>\n",
       "      <th>uvi</th>\n",
       "      <th>clouds</th>\n",
       "      <th>visibility</th>\n",
       "      <th>wind_speed</th>\n",
       "      <th>wind_deg</th>\n",
       "      <th>wind_gust</th>\n",
       "      <th>weather</th>\n",
       "      <th>pop</th>\n",
       "      <th>rain</th>\n",
       "    </tr>\n",
       "  </thead>\n",
       "  <tbody>\n",
       "    <tr>\n",
       "      <th>0</th>\n",
       "      <td>1630998000</td>\n",
       "      <td>32.15</td>\n",
       "      <td>39.15</td>\n",
       "      <td>1009</td>\n",
       "      <td>73</td>\n",
       "      <td>26.69</td>\n",
       "      <td>6.16</td>\n",
       "      <td>7</td>\n",
       "      <td>10000</td>\n",
       "      <td>5.13</td>\n",
       "      <td>92</td>\n",
       "      <td>6.30</td>\n",
       "      <td>[{'id': 800, 'main': 'Clear', 'description': '...</td>\n",
       "      <td>0.63</td>\n",
       "      <td>NaN</td>\n",
       "    </tr>\n",
       "    <tr>\n",
       "      <th>1</th>\n",
       "      <td>1631001600</td>\n",
       "      <td>31.64</td>\n",
       "      <td>38.64</td>\n",
       "      <td>1009</td>\n",
       "      <td>73</td>\n",
       "      <td>26.20</td>\n",
       "      <td>3.17</td>\n",
       "      <td>7</td>\n",
       "      <td>10000</td>\n",
       "      <td>4.82</td>\n",
       "      <td>92</td>\n",
       "      <td>6.13</td>\n",
       "      <td>[{'id': 800, 'main': 'Clear', 'description': '...</td>\n",
       "      <td>0.55</td>\n",
       "      <td>NaN</td>\n",
       "    </tr>\n",
       "    <tr>\n",
       "      <th>2</th>\n",
       "      <td>1631005200</td>\n",
       "      <td>30.99</td>\n",
       "      <td>37.99</td>\n",
       "      <td>1009</td>\n",
       "      <td>74</td>\n",
       "      <td>25.81</td>\n",
       "      <td>1.10</td>\n",
       "      <td>7</td>\n",
       "      <td>10000</td>\n",
       "      <td>4.54</td>\n",
       "      <td>92</td>\n",
       "      <td>6.14</td>\n",
       "      <td>[{'id': 800, 'main': 'Clear', 'description': '...</td>\n",
       "      <td>0.64</td>\n",
       "      <td>NaN</td>\n",
       "    </tr>\n",
       "    <tr>\n",
       "      <th>3</th>\n",
       "      <td>1631008800</td>\n",
       "      <td>30.04</td>\n",
       "      <td>36.68</td>\n",
       "      <td>1009</td>\n",
       "      <td>76</td>\n",
       "      <td>25.34</td>\n",
       "      <td>0.18</td>\n",
       "      <td>6</td>\n",
       "      <td>10000</td>\n",
       "      <td>4.16</td>\n",
       "      <td>94</td>\n",
       "      <td>6.20</td>\n",
       "      <td>[{'id': 800, 'main': 'Clear', 'description': '...</td>\n",
       "      <td>0.60</td>\n",
       "      <td>NaN</td>\n",
       "    </tr>\n",
       "    <tr>\n",
       "      <th>4</th>\n",
       "      <td>1631012400</td>\n",
       "      <td>28.85</td>\n",
       "      <td>34.54</td>\n",
       "      <td>1009</td>\n",
       "      <td>81</td>\n",
       "      <td>25.26</td>\n",
       "      <td>0.00</td>\n",
       "      <td>5</td>\n",
       "      <td>10000</td>\n",
       "      <td>4.14</td>\n",
       "      <td>98</td>\n",
       "      <td>6.19</td>\n",
       "      <td>[{'id': 500, 'main': 'Rain', 'description': 'l...</td>\n",
       "      <td>0.56</td>\n",
       "      <td>{'1h': 0.1}</td>\n",
       "    </tr>\n",
       "  </tbody>\n",
       "</table>\n",
       "</div>"
      ],
      "text/plain": [
       "           dt   temp  feels_like  pressure  humidity  dew_point   uvi  clouds  \\\n",
       "0  1630998000  32.15       39.15      1009        73      26.69  6.16       7   \n",
       "1  1631001600  31.64       38.64      1009        73      26.20  3.17       7   \n",
       "2  1631005200  30.99       37.99      1009        74      25.81  1.10       7   \n",
       "3  1631008800  30.04       36.68      1009        76      25.34  0.18       6   \n",
       "4  1631012400  28.85       34.54      1009        81      25.26  0.00       5   \n",
       "\n",
       "   visibility  wind_speed  wind_deg  wind_gust  \\\n",
       "0       10000        5.13        92       6.30   \n",
       "1       10000        4.82        92       6.13   \n",
       "2       10000        4.54        92       6.14   \n",
       "3       10000        4.16        94       6.20   \n",
       "4       10000        4.14        98       6.19   \n",
       "\n",
       "                                             weather   pop         rain  \n",
       "0  [{'id': 800, 'main': 'Clear', 'description': '...  0.63          NaN  \n",
       "1  [{'id': 800, 'main': 'Clear', 'description': '...  0.55          NaN  \n",
       "2  [{'id': 800, 'main': 'Clear', 'description': '...  0.64          NaN  \n",
       "3  [{'id': 800, 'main': 'Clear', 'description': '...  0.60          NaN  \n",
       "4  [{'id': 500, 'main': 'Rain', 'description': 'l...  0.56  {'1h': 0.1}  "
      ]
     },
     "execution_count": 10,
     "metadata": {},
     "output_type": "execute_result"
    }
   ],
   "source": [
    "df_hourly.head()"
   ]
  },
  {
   "cell_type": "code",
   "execution_count": null,
   "metadata": {},
   "outputs": [],
   "source": []
  }
 ],
 "metadata": {
  "interpreter": {
   "hash": "c1b4cfe941b6d2466ad1fb5979e97da9cda8801728c8091b097ab734208fc00c"
  },
  "kernelspec": {
   "display_name": "Python 3.8.3 64-bit ('base': conda)",
   "name": "python3"
  },
  "language_info": {
   "codemirror_mode": {
    "name": "ipython",
    "version": 3
   },
   "file_extension": ".py",
   "mimetype": "text/x-python",
   "name": "python",
   "nbconvert_exporter": "python",
   "pygments_lexer": "ipython3",
   "version": "3.8.11"
  }
 },
 "nbformat": 4,
 "nbformat_minor": 2
}
