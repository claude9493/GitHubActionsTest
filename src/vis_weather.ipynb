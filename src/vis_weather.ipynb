{
 "cells": [
  {
   "cell_type": "code",
   "execution_count": 1,
   "metadata": {
    "execution": {
     "iopub.execute_input": "2021-09-10T20:39:06.002036Z",
     "iopub.status.busy": "2021-09-10T20:39:06.001301Z",
     "iopub.status.idle": "2021-09-10T20:39:07.709861Z",
     "shell.execute_reply": "2021-09-10T20:39:07.710387Z"
    }
   },
   "outputs": [],
   "source": [
    "import json, yaml, requests\r\n",
    "from datetime import datetime\r\n",
    "from dateutil import tz\r\n",
    "import pandas as pd\r\n",
    "from PIL import Image\r\n",
    "from io import BytesIO\r\n",
    "import matplotlib.pyplot as plt\r\n",
    "import seaborn\r\n",
    "\r\n",
    "CONFIG_PATH = \"../config/config.yaml\""
   ]
  },
  {
   "cell_type": "code",
   "execution_count": 2,
   "metadata": {
    "execution": {
     "iopub.execute_input": "2021-09-10T20:39:07.718483Z",
     "iopub.status.busy": "2021-09-10T20:39:07.717833Z",
     "iopub.status.idle": "2021-09-10T20:39:07.723379Z",
     "shell.execute_reply": "2021-09-10T20:39:07.723799Z"
    }
   },
   "outputs": [],
   "source": [
    "with open('../newest_ts', 'r') as f:\r\n",
    "    newest_ts = f.read()\r\n",
    "\r\n",
    "data_path = f\"../data/data_{newest_ts}.json\"\r\n",
    "with open(data_path, 'r') as f:\r\n",
    "    data = json.load(f)\r\n",
    "\r\n",
    "with open(CONFIG_PATH, \"r\") as stream:\r\n",
    "    config = yaml.safe_load(stream)\r\n",
    "\r\n",
    "TIME_ZONE = config['time_zone']\r\n",
    "DATETIME_FORMAT = config['dt_format']"
   ]
  },
  {
   "cell_type": "code",
   "execution_count": 3,
   "metadata": {
    "execution": {
     "iopub.execute_input": "2021-09-10T20:39:07.729102Z",
     "iopub.status.busy": "2021-09-10T20:39:07.728461Z",
     "iopub.status.idle": "2021-09-10T20:39:07.742936Z",
     "shell.execute_reply": "2021-09-10T20:39:07.743397Z"
    }
   },
   "outputs": [
    {
     "name": "stdout",
     "output_type": "stream",
     "text": [
      "Recent query happens at 2021-09-11 04:39:03 (CST).\n"
     ]
    }
   ],
   "source": [
    "def ts2dt(ts, format=DATETIME_FORMAT):\r\n",
    "    dt = (datetime.utcfromtimestamp(int(ts))\r\n",
    "                    .replace(tzinfo=tz.tzutc())\r\n",
    "                    # .astimezone(tz.tzlocal())\r\n",
    "                    .astimezone(tz.gettz(TIME_ZONE)))\r\n",
    "    return dt.strftime(format), dt\r\n",
    "\r\n",
    "_, newest_dt = ts2dt(newest_ts)\r\n",
    "print(f\"Recent query happens at {newest_dt.strftime(DATETIME_FORMAT)} ({newest_dt.tzname()}).\")"
   ]
  },
  {
   "cell_type": "code",
   "execution_count": 4,
   "metadata": {
    "execution": {
     "iopub.execute_input": "2021-09-10T20:39:07.750111Z",
     "iopub.status.busy": "2021-09-10T20:39:07.748538Z",
     "iopub.status.idle": "2021-09-10T20:39:07.750825Z",
     "shell.execute_reply": "2021-09-10T20:39:07.751499Z"
    }
   },
   "outputs": [],
   "source": [
    "def degrees_to_cardinal(d):\r\n",
    "  dirs = ['N', 'NNE', 'NE', 'ENE', 'E', 'ESE', 'SE', 'SSE', 'S', 'SSW', 'SW', 'WSW', 'W', 'WNW', 'NW', 'NNW']\r\n",
    "  ix = int(round(d / (360. / len(dirs))))\r\n",
    "  return dirs[ix % len(dirs)]"
   ]
  },
  {
   "cell_type": "code",
   "execution_count": 5,
   "metadata": {
    "execution": {
     "iopub.execute_input": "2021-09-10T20:39:07.756505Z",
     "iopub.status.busy": "2021-09-10T20:39:07.755062Z",
     "iopub.status.idle": "2021-09-10T20:39:07.757137Z",
     "shell.execute_reply": "2021-09-10T20:39:07.757594Z"
    }
   },
   "outputs": [],
   "source": [
    "# data.keys()"
   ]
  },
  {
   "cell_type": "code",
   "execution_count": 6,
   "metadata": {
    "execution": {
     "iopub.execute_input": "2021-09-10T20:39:07.760975Z",
     "iopub.status.busy": "2021-09-10T20:39:07.760418Z",
     "iopub.status.idle": "2021-09-10T20:39:07.763242Z",
     "shell.execute_reply": "2021-09-10T20:39:07.762731Z"
    }
   },
   "outputs": [],
   "source": [
    "# data['current']"
   ]
  },
  {
   "cell_type": "code",
   "execution_count": 7,
   "metadata": {
    "execution": {
     "iopub.execute_input": "2021-09-10T20:39:07.787010Z",
     "iopub.status.busy": "2021-09-10T20:39:07.786354Z",
     "iopub.status.idle": "2021-09-10T20:39:08.394968Z",
     "shell.execute_reply": "2021-09-10T20:39:08.395602Z"
    }
   },
   "outputs": [
    {
     "data": {
      "image/png": "[encoded data removed]",
      "text/plain": [
       "<Figure size 216x216 with 1 Axes>"
      ]
     },
     "metadata": {
      "needs_background": "light"
     },
     "output_type": "display_data"
    },
    {
     "name": "stdout",
     "output_type": "stream",
     "text": [
      "Today, sun rises at 06:08 and sets at 18:31.\n",
      "Currently, the weather is Clouds (few clouds).\n",
      "The temperature is 29.05°C and it feels like 35.1°C.\n",
      "The UV index is 0, humidity is 81%.\n",
      "The pressure is 1006 hPa, percentage of cloud cover is 24%\n",
      "The wind comes from ENE direction with a speed 1.81 m/s.\n"
     ]
    }
   ],
   "source": [
    "current = data['current']\r\n",
    "\r\n",
    "fig, ax = plt.subplots(figsize=(3, 3))\r\n",
    "icon = requests.get(f\"http://openweathermap.org/img/wn/{current['weather'][0]['icon']}@2x.png\")\r\n",
    "im = Image.open(BytesIO(icon.content))\r\n",
    "plt.imshow(im)\r\n",
    "ax.set_axis_off()\r\n",
    "plt.show()\r\n",
    "\r\n",
    "print(f\"Today, sun rises at {ts2dt(current['sunrise'], '%H:%M')[0]} \\\r\n",
    "and sets at {ts2dt(current['sunset'], '%H:%M')[0]}.\\n\\\r\n",
    "Currently, the weather is {current['weather'][0]['main']} ({current['weather'][0]['description']}).\\n\\\r\n",
    "The temperature is {current['temp']}°C and it feels like {current['feels_like']}°C.\\n\\\r\n",
    "The UV index is {current['uvi']}, humidity is {current['humidity']}%.\\n\\\r\n",
    "The pressure is {current['pressure']} hPa, percentage of cloud cover is {current['clouds']}%\\n\\\r\n",
    "The wind comes from {degrees_to_cardinal(current['wind_deg'])} direction with a speed {current['wind_speed']} m/s.\")"
   ]
  },
  {
   "cell_type": "code",
   "execution_count": 8,
   "metadata": {
    "execution": {
     "iopub.execute_input": "2021-09-10T20:39:08.399215Z",
     "iopub.status.busy": "2021-09-10T20:39:08.398609Z",
     "iopub.status.idle": "2021-09-10T20:39:08.405608Z",
     "shell.execute_reply": "2021-09-10T20:39:08.406392Z"
    }
   },
   "outputs": [],
   "source": [
    "df_hourly = pd.DataFrame(data['hourly'])\r\n",
    "df_daily = pd.DataFrame(data['daily'])"
   ]
  },
  {
   "cell_type": "code",
   "execution_count": 9,
   "metadata": {
    "execution": {
     "iopub.execute_input": "2021-09-10T20:39:08.409519Z",
     "iopub.status.busy": "2021-09-10T20:39:08.408971Z",
     "iopub.status.idle": "2021-09-10T20:39:08.760463Z",
     "shell.execute_reply": "2021-09-10T20:39:08.759971Z"
    }
   },
   "outputs": [
    {
     "data": {
      "image/png": "[encoded data removed]",
      "text/plain": [
       "<Figure size 864x432 with 1 Axes>"
      ]
     },
     "metadata": {
      "needs_background": "light"
     },
     "output_type": "display_data"
    }
   ],
   "source": [
    "fig, ax = plt.subplots(figsize=(12, 6))\r\n",
    "plt.plot(df_hourly.temp, '.-', label='Temperature')\r\n",
    "plt.plot(df_hourly.feels_like, '.-', label='Feels Like')\r\n",
    "ax.set(title='Temperature in future 48 hours', xlabel='Time', ylabel='Temperature')\r\n",
    "ax.set_xticks(list(range(0, len(df_hourly), 2)))\r\n",
    "ax.set_xticklabels([ts2dt(ts, '%m-%d %H:%M')[0] for i, ts in enumerate(df_hourly.dt) if i%2==0], \r\n",
    "                   rotation=45, ha=\"right\")\r\n",
    "ax.locator_params(nbins=15, axis='y')\r\n",
    "plt.legend()\r\n",
    "plt.show()"
   ]
  },
  {
   "cell_type": "code",
   "execution_count": 10,
   "metadata": {
    "execution": {
     "iopub.execute_input": "2021-09-10T20:39:08.775314Z",
     "iopub.status.busy": "2021-09-10T20:39:08.765331Z",
     "iopub.status.idle": "2021-09-10T20:39:08.789685Z",
     "shell.execute_reply": "2021-09-10T20:39:08.790152Z"
    }
   },
   "outputs": [
    {
     "data": {
      "text/html": [
       "<div>\n",
       "<style scoped>\n",
       "    .dataframe tbody tr th:only-of-type {\n",
       "        vertical-align: middle;\n",
       "    }\n",
       "\n",
       "    .dataframe tbody tr th {\n",
       "        vertical-align: top;\n",
       "    }\n",
       "\n",
       "    .dataframe thead th {\n",
       "        text-align: right;\n",
       "    }\n",
       "</style>\n",
       "<table border=\"1\" class=\"dataframe\">\n",
       "  <thead>\n",
       "    <tr style=\"text-align: right;\">\n",
       "      <th></th>\n",
       "      <th>dt</th>\n",
       "      <th>temp</th>\n",
       "      <th>feels_like</th>\n",
       "      <th>pressure</th>\n",
       "      <th>humidity</th>\n",
       "      <th>dew_point</th>\n",
       "      <th>uvi</th>\n",
       "      <th>clouds</th>\n",
       "      <th>visibility</th>\n",
       "      <th>wind_speed</th>\n",
       "      <th>wind_deg</th>\n",
       "      <th>wind_gust</th>\n",
       "      <th>weather</th>\n",
       "      <th>pop</th>\n",
       "      <th>rain</th>\n",
       "    </tr>\n",
       "  </thead>\n",
       "  <tbody>\n",
       "    <tr>\n",
       "      <th>0</th>\n",
       "      <td>1631304000</td>\n",
       "      <td>28.76</td>\n",
       "      <td>34.49</td>\n",
       "      <td>1006</td>\n",
       "      <td>82</td>\n",
       "      <td>25.38</td>\n",
       "      <td>0.00</td>\n",
       "      <td>22</td>\n",
       "      <td>10000</td>\n",
       "      <td>1.92</td>\n",
       "      <td>80</td>\n",
       "      <td>2.19</td>\n",
       "      <td>[{'id': 500, 'main': 'Rain', 'description': 'l...</td>\n",
       "      <td>0.52</td>\n",
       "      <td>{'1h': 0.26}</td>\n",
       "    </tr>\n",
       "    <tr>\n",
       "      <th>1</th>\n",
       "      <td>1631307600</td>\n",
       "      <td>29.05</td>\n",
       "      <td>35.10</td>\n",
       "      <td>1006</td>\n",
       "      <td>81</td>\n",
       "      <td>25.45</td>\n",
       "      <td>0.00</td>\n",
       "      <td>24</td>\n",
       "      <td>10000</td>\n",
       "      <td>1.81</td>\n",
       "      <td>67</td>\n",
       "      <td>2.04</td>\n",
       "      <td>[{'id': 801, 'main': 'Clouds', 'description': ...</td>\n",
       "      <td>0.58</td>\n",
       "      <td>NaN</td>\n",
       "    </tr>\n",
       "    <tr>\n",
       "      <th>2</th>\n",
       "      <td>1631311200</td>\n",
       "      <td>28.75</td>\n",
       "      <td>34.26</td>\n",
       "      <td>1006</td>\n",
       "      <td>81</td>\n",
       "      <td>25.16</td>\n",
       "      <td>0.00</td>\n",
       "      <td>24</td>\n",
       "      <td>10000</td>\n",
       "      <td>1.89</td>\n",
       "      <td>72</td>\n",
       "      <td>2.16</td>\n",
       "      <td>[{'id': 500, 'main': 'Rain', 'description': 'l...</td>\n",
       "      <td>0.71</td>\n",
       "      <td>{'1h': 0.12}</td>\n",
       "    </tr>\n",
       "    <tr>\n",
       "      <th>3</th>\n",
       "      <td>1631314800</td>\n",
       "      <td>28.62</td>\n",
       "      <td>33.70</td>\n",
       "      <td>1006</td>\n",
       "      <td>80</td>\n",
       "      <td>24.83</td>\n",
       "      <td>0.26</td>\n",
       "      <td>24</td>\n",
       "      <td>10000</td>\n",
       "      <td>1.19</td>\n",
       "      <td>49</td>\n",
       "      <td>1.26</td>\n",
       "      <td>[{'id': 500, 'main': 'Rain', 'description': 'l...</td>\n",
       "      <td>0.71</td>\n",
       "      <td>{'1h': 0.15}</td>\n",
       "    </tr>\n",
       "    <tr>\n",
       "      <th>4</th>\n",
       "      <td>1631318400</td>\n",
       "      <td>28.95</td>\n",
       "      <td>33.77</td>\n",
       "      <td>1006</td>\n",
       "      <td>76</td>\n",
       "      <td>24.29</td>\n",
       "      <td>1.35</td>\n",
       "      <td>24</td>\n",
       "      <td>10000</td>\n",
       "      <td>0.90</td>\n",
       "      <td>7</td>\n",
       "      <td>1.17</td>\n",
       "      <td>[{'id': 801, 'main': 'Clouds', 'description': ...</td>\n",
       "      <td>0.68</td>\n",
       "      <td>NaN</td>\n",
       "    </tr>\n",
       "  </tbody>\n",
       "</table>\n",
       "</div>"
      ],
      "text/plain": [
       "           dt   temp  feels_like  pressure  humidity  dew_point   uvi  clouds  \\\n",
       "0  1631304000  28.76       34.49      1006        82      25.38  0.00      22   \n",
       "1  1631307600  29.05       35.10      1006        81      25.45  0.00      24   \n",
       "2  1631311200  28.75       34.26      1006        81      25.16  0.00      24   \n",
       "3  1631314800  28.62       33.70      1006        80      24.83  0.26      24   \n",
       "4  1631318400  28.95       33.77      1006        76      24.29  1.35      24   \n",
       "\n",
       "   visibility  wind_speed  wind_deg  wind_gust  \\\n",
       "0       10000        1.92        80       2.19   \n",
       "1       10000        1.81        67       2.04   \n",
       "2       10000        1.89        72       2.16   \n",
       "3       10000        1.19        49       1.26   \n",
       "4       10000        0.90         7       1.17   \n",
       "\n",
       "                                             weather   pop          rain  \n",
       "0  [{'id': 500, 'main': 'Rain', 'description': 'l...  0.52  {'1h': 0.26}  \n",
       "1  [{'id': 801, 'main': 'Clouds', 'description': ...  0.58           NaN  \n",
       "2  [{'id': 500, 'main': 'Rain', 'description': 'l...  0.71  {'1h': 0.12}  \n",
       "3  [{'id': 500, 'main': 'Rain', 'description': 'l...  0.71  {'1h': 0.15}  \n",
       "4  [{'id': 801, 'main': 'Clouds', 'description': ...  0.68           NaN  "
      ]
     },
     "execution_count": 10,
     "metadata": {},
     "output_type": "execute_result"
    }
   ],
   "source": [
    "df_hourly.head()"
   ]
  },
  {
   "cell_type": "code",
   "execution_count": null,
   "metadata": {},
   "outputs": [],
   "source": []
  }
 ],
 "metadata": {
  "interpreter": {
   "hash": "c1b4cfe941b6d2466ad1fb5979e97da9cda8801728c8091b097ab734208fc00c"
  },
  "kernelspec": {
   "display_name": "Python 3.8.3 64-bit ('base': conda)",
   "name": "python3"
  },
  "language_info": {
   "codemirror_mode": {
    "name": "ipython",
    "version": 3
   },
   "file_extension": ".py",
   "mimetype": "text/x-python",
   "name": "python",
   "nbconvert_exporter": "python",
   "pygments_lexer": "ipython3",
   "version": "3.8.11"
  }
 },
 "nbformat": 4,
 "nbformat_minor": 2
}
