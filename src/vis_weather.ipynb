{
 "cells": [
  {
   "cell_type": "code",
   "execution_count": 1,
   "metadata": {
    "execution": {
     "iopub.execute_input": "2021-09-08T21:37:54.376637Z",
     "iopub.status.busy": "2021-09-08T21:37:54.376120Z",
     "iopub.status.idle": "2021-09-08T21:37:56.719107Z",
     "shell.execute_reply": "2021-09-08T21:37:56.718191Z"
    }
   },
   "outputs": [],
   "source": [
    "import json, yaml, requests\r\n",
    "from datetime import datetime\r\n",
    "from dateutil import tz\r\n",
    "import pandas as pd\r\n",
    "from PIL import Image\r\n",
    "from io import BytesIO\r\n",
    "import matplotlib.pyplot as plt\r\n",
    "import seaborn\r\n",
    "\r\n",
    "CONFIG_PATH = \"../config/config.yaml\""
   ]
  },
  {
   "cell_type": "code",
   "execution_count": 2,
   "metadata": {
    "execution": {
     "iopub.execute_input": "2021-09-08T21:37:56.724458Z",
     "iopub.status.busy": "2021-09-08T21:37:56.723785Z",
     "iopub.status.idle": "2021-09-08T21:37:56.728792Z",
     "shell.execute_reply": "2021-09-08T21:37:56.728364Z"
    }
   },
   "outputs": [],
   "source": [
    "with open('../newest_ts', 'r') as f:\r\n",
    "    newest_ts = f.read()\r\n",
    "\r\n",
    "data_path = f\"../data/data_{newest_ts}.json\"\r\n",
    "with open(data_path, 'r') as f:\r\n",
    "    data = json.load(f)\r\n",
    "\r\n",
    "with open(CONFIG_PATH, \"r\") as stream:\r\n",
    "    config = yaml.safe_load(stream)\r\n",
    "\r\n",
    "TIME_ZONE = config['time_zone']\r\n",
    "DATETIME_FORMAT = config['dt_format']"
   ]
  },
  {
   "cell_type": "code",
   "execution_count": 3,
   "metadata": {
    "execution": {
     "iopub.execute_input": "2021-09-08T21:37:56.732842Z",
     "iopub.status.busy": "2021-09-08T21:37:56.730664Z",
     "iopub.status.idle": "2021-09-08T21:37:56.737657Z",
     "shell.execute_reply": "2021-09-08T21:37:56.738061Z"
    }
   },
   "outputs": [
    {
     "name": "stdout",
     "output_type": "stream",
     "text": [
      "Recent query happens at 2021-09-09 05:37:51 (CST).\n"
     ]
    }
   ],
   "source": [
    "def ts2dt(ts, format=DATETIME_FORMAT):\r\n",
    "    dt = (datetime.utcfromtimestamp(int(ts))\r\n",
    "                    .replace(tzinfo=tz.tzutc())\r\n",
    "                    # .astimezone(tz.tzlocal())\r\n",
    "                    .astimezone(tz.gettz(TIME_ZONE)))\r\n",
    "    return dt.strftime(format), dt\r\n",
    "\r\n",
    "_, newest_dt = ts2dt(newest_ts)\r\n",
    "print(f\"Recent query happens at {newest_dt.strftime(DATETIME_FORMAT)} ({newest_dt.tzname()}).\")"
   ]
  },
  {
   "cell_type": "code",
   "execution_count": 4,
   "metadata": {
    "execution": {
     "iopub.execute_input": "2021-09-08T21:37:56.743124Z",
     "iopub.status.busy": "2021-09-08T21:37:56.742097Z",
     "iopub.status.idle": "2021-09-08T21:37:56.743647Z",
     "shell.execute_reply": "2021-09-08T21:37:56.744017Z"
    }
   },
   "outputs": [],
   "source": [
    "def degrees_to_cardinal(d):\r\n",
    "  dirs = ['N', 'NNE', 'NE', 'ENE', 'E', 'ESE', 'SE', 'SSE', 'S', 'SSW', 'SW', 'WSW', 'W', 'WNW', 'NW', 'NNW']\r\n",
    "  ix = int(round(d / (360. / len(dirs))))\r\n",
    "  return dirs[ix % len(dirs)]"
   ]
  },
  {
   "cell_type": "code",
   "execution_count": 5,
   "metadata": {
    "execution": {
     "iopub.execute_input": "2021-09-08T21:37:56.748054Z",
     "iopub.status.busy": "2021-09-08T21:37:56.747055Z",
     "iopub.status.idle": "2021-09-08T21:37:56.748581Z",
     "shell.execute_reply": "2021-09-08T21:37:56.748948Z"
    }
   },
   "outputs": [],
   "source": [
    "# data.keys()"
   ]
  },
  {
   "cell_type": "code",
   "execution_count": 6,
   "metadata": {
    "execution": {
     "iopub.execute_input": "2021-09-08T21:37:56.752679Z",
     "iopub.status.busy": "2021-09-08T21:37:56.751700Z",
     "iopub.status.idle": "2021-09-08T21:37:56.753209Z",
     "shell.execute_reply": "2021-09-08T21:37:56.753576Z"
    }
   },
   "outputs": [],
   "source": [
    "# data['current']"
   ]
  },
  {
   "cell_type": "code",
   "execution_count": 7,
   "metadata": {
    "execution": {
     "iopub.execute_input": "2021-09-08T21:37:56.770480Z",
     "iopub.status.busy": "2021-09-08T21:37:56.769978Z",
     "iopub.status.idle": "2021-09-08T21:37:57.055889Z",
     "shell.execute_reply": "2021-09-08T21:37:57.056543Z"
    }
   },
   "outputs": [
    {
     "data": {
      "image/png": "[encoded data removed]",
      "text/plain": [
       "<Figure size 216x216 with 1 Axes>"
      ]
     },
     "metadata": {
      "needs_background": "light"
     },
     "output_type": "display_data"
    },
    {
     "name": "stdout",
     "output_type": "stream",
     "text": [
      "Today, sun rises at 06:08 and sets at 18:32.\n",
      "Currently, the weather is Clouds (scattered clouds).\n",
      "The temperature is 28.44°C and it feels like 32.18°C.\n",
      "The UV index is 0, humidity is 74%.\n",
      "The pressure is 1010 hPa, percentage of cloud cover is 40%\n",
      "The wind comes from ENE direction with a speed 1.58 m/s.\n"
     ]
    }
   ],
   "source": [
    "current = data['current']\r\n",
    "\r\n",
    "fig, ax = plt.subplots(figsize=(3, 3))\r\n",
    "icon = requests.get(f\"http://openweathermap.org/img/wn/{current['weather'][0]['icon']}@2x.png\")\r\n",
    "im = Image.open(BytesIO(icon.content))\r\n",
    "plt.imshow(im)\r\n",
    "ax.set_axis_off()\r\n",
    "plt.show()\r\n",
    "\r\n",
    "print(f\"Today, sun rises at {ts2dt(current['sunrise'], '%H:%M')[0]} \\\r\n",
    "and sets at {ts2dt(current['sunset'], '%H:%M')[0]}.\\n\\\r\n",
    "Currently, the weather is {current['weather'][0]['main']} ({current['weather'][0]['description']}).\\n\\\r\n",
    "The temperature is {current['temp']}°C and it feels like {current['feels_like']}°C.\\n\\\r\n",
    "The UV index is {current['uvi']}, humidity is {current['humidity']}%.\\n\\\r\n",
    "The pressure is {current['pressure']} hPa, percentage of cloud cover is {current['clouds']}%\\n\\\r\n",
    "The wind comes from {degrees_to_cardinal(current['wind_deg'])} direction with a speed {current['wind_speed']} m/s.\")"
   ]
  },
  {
   "cell_type": "code",
   "execution_count": 8,
   "metadata": {
    "execution": {
     "iopub.execute_input": "2021-09-08T21:37:57.059715Z",
     "iopub.status.busy": "2021-09-08T21:37:57.058795Z",
     "iopub.status.idle": "2021-09-08T21:37:57.065625Z",
     "shell.execute_reply": "2021-09-08T21:37:57.066267Z"
    }
   },
   "outputs": [],
   "source": [
    "df_hourly = pd.DataFrame(data['hourly'])\r\n",
    "df_daily = pd.DataFrame(data['daily'])"
   ]
  },
  {
   "cell_type": "code",
   "execution_count": 9,
   "metadata": {
    "execution": {
     "iopub.execute_input": "2021-09-08T21:37:57.069230Z",
     "iopub.status.busy": "2021-09-08T21:37:57.068332Z",
     "iopub.status.idle": "2021-09-08T21:37:57.308641Z",
     "shell.execute_reply": "2021-09-08T21:37:57.308211Z"
    }
   },
   "outputs": [
    {
     "data": {
      "image/png": "[encoded data removed]",
      "text/plain": [
       "<Figure size 864x432 with 1 Axes>"
      ]
     },
     "metadata": {
      "needs_background": "light"
     },
     "output_type": "display_data"
    }
   ],
   "source": [
    "fig, ax = plt.subplots(figsize=(12, 6))\r\n",
    "plt.plot(df_hourly.temp, '.-', label='Temperature')\r\n",
    "plt.plot(df_hourly.feels_like, '.-', label='Feels Like')\r\n",
    "ax.set(title='Temperature in future 48 hours', xlabel='Time', ylabel='Temperature')\r\n",
    "ax.set_xticks(list(range(0, len(df_hourly), 2)))\r\n",
    "ax.set_xticklabels([ts2dt(ts, '%m-%d %H:%M')[0] for i, ts in enumerate(df_hourly.dt) if i%2==0], \r\n",
    "                   rotation=45, ha=\"right\")\r\n",
    "ax.locator_params(nbins=15, axis='y')\r\n",
    "plt.legend()\r\n",
    "plt.show()"
   ]
  },
  {
   "cell_type": "code",
   "execution_count": 10,
   "metadata": {
    "execution": {
     "iopub.execute_input": "2021-09-08T21:37:57.313127Z",
     "iopub.status.busy": "2021-09-08T21:37:57.312629Z",
     "iopub.status.idle": "2021-09-08T21:37:57.329827Z",
     "shell.execute_reply": "2021-09-08T21:37:57.329417Z"
    }
   },
   "outputs": [
    {
     "data": {
      "text/html": [
       "<div>\n",
       "<style scoped>\n",
       "    .dataframe tbody tr th:only-of-type {\n",
       "        vertical-align: middle;\n",
       "    }\n",
       "\n",
       "    .dataframe tbody tr th {\n",
       "        vertical-align: top;\n",
       "    }\n",
       "\n",
       "    .dataframe thead th {\n",
       "        text-align: right;\n",
       "    }\n",
       "</style>\n",
       "<table border=\"1\" class=\"dataframe\">\n",
       "  <thead>\n",
       "    <tr style=\"text-align: right;\">\n",
       "      <th></th>\n",
       "      <th>dt</th>\n",
       "      <th>temp</th>\n",
       "      <th>feels_like</th>\n",
       "      <th>pressure</th>\n",
       "      <th>humidity</th>\n",
       "      <th>dew_point</th>\n",
       "      <th>uvi</th>\n",
       "      <th>clouds</th>\n",
       "      <th>visibility</th>\n",
       "      <th>wind_speed</th>\n",
       "      <th>wind_deg</th>\n",
       "      <th>wind_gust</th>\n",
       "      <th>weather</th>\n",
       "      <th>pop</th>\n",
       "      <th>rain</th>\n",
       "    </tr>\n",
       "  </thead>\n",
       "  <tbody>\n",
       "    <tr>\n",
       "      <th>0</th>\n",
       "      <td>1631134800</td>\n",
       "      <td>28.25</td>\n",
       "      <td>31.92</td>\n",
       "      <td>1010</td>\n",
       "      <td>75</td>\n",
       "      <td>23.39</td>\n",
       "      <td>0.00</td>\n",
       "      <td>38</td>\n",
       "      <td>10000</td>\n",
       "      <td>0.91</td>\n",
       "      <td>59</td>\n",
       "      <td>1.04</td>\n",
       "      <td>[{'id': 802, 'main': 'Clouds', 'description': ...</td>\n",
       "      <td>0.39</td>\n",
       "      <td>NaN</td>\n",
       "    </tr>\n",
       "    <tr>\n",
       "      <th>1</th>\n",
       "      <td>1631138400</td>\n",
       "      <td>28.44</td>\n",
       "      <td>32.18</td>\n",
       "      <td>1010</td>\n",
       "      <td>74</td>\n",
       "      <td>23.35</td>\n",
       "      <td>0.00</td>\n",
       "      <td>40</td>\n",
       "      <td>10000</td>\n",
       "      <td>1.58</td>\n",
       "      <td>76</td>\n",
       "      <td>1.77</td>\n",
       "      <td>[{'id': 802, 'main': 'Clouds', 'description': ...</td>\n",
       "      <td>0.51</td>\n",
       "      <td>NaN</td>\n",
       "    </tr>\n",
       "    <tr>\n",
       "      <th>2</th>\n",
       "      <td>1631142000</td>\n",
       "      <td>28.29</td>\n",
       "      <td>32.01</td>\n",
       "      <td>1010</td>\n",
       "      <td>75</td>\n",
       "      <td>23.43</td>\n",
       "      <td>0.27</td>\n",
       "      <td>41</td>\n",
       "      <td>10000</td>\n",
       "      <td>1.87</td>\n",
       "      <td>74</td>\n",
       "      <td>2.22</td>\n",
       "      <td>[{'id': 802, 'main': 'Clouds', 'description': ...</td>\n",
       "      <td>0.67</td>\n",
       "      <td>NaN</td>\n",
       "    </tr>\n",
       "    <tr>\n",
       "      <th>3</th>\n",
       "      <td>1631145600</td>\n",
       "      <td>28.47</td>\n",
       "      <td>32.09</td>\n",
       "      <td>1010</td>\n",
       "      <td>73</td>\n",
       "      <td>23.16</td>\n",
       "      <td>1.37</td>\n",
       "      <td>41</td>\n",
       "      <td>10000</td>\n",
       "      <td>2.08</td>\n",
       "      <td>63</td>\n",
       "      <td>2.44</td>\n",
       "      <td>[{'id': 802, 'main': 'Clouds', 'description': ...</td>\n",
       "      <td>0.63</td>\n",
       "      <td>NaN</td>\n",
       "    </tr>\n",
       "    <tr>\n",
       "      <th>4</th>\n",
       "      <td>1631149200</td>\n",
       "      <td>28.95</td>\n",
       "      <td>32.80</td>\n",
       "      <td>1011</td>\n",
       "      <td>71</td>\n",
       "      <td>23.16</td>\n",
       "      <td>3.57</td>\n",
       "      <td>21</td>\n",
       "      <td>10000</td>\n",
       "      <td>2.49</td>\n",
       "      <td>78</td>\n",
       "      <td>2.89</td>\n",
       "      <td>[{'id': 801, 'main': 'Clouds', 'description': ...</td>\n",
       "      <td>0.03</td>\n",
       "      <td>NaN</td>\n",
       "    </tr>\n",
       "  </tbody>\n",
       "</table>\n",
       "</div>"
      ],
      "text/plain": [
       "           dt   temp  feels_like  pressure  humidity  dew_point   uvi  clouds  \\\n",
       "0  1631134800  28.25       31.92      1010        75      23.39  0.00      38   \n",
       "1  1631138400  28.44       32.18      1010        74      23.35  0.00      40   \n",
       "2  1631142000  28.29       32.01      1010        75      23.43  0.27      41   \n",
       "3  1631145600  28.47       32.09      1010        73      23.16  1.37      41   \n",
       "4  1631149200  28.95       32.80      1011        71      23.16  3.57      21   \n",
       "\n",
       "   visibility  wind_speed  wind_deg  wind_gust  \\\n",
       "0       10000        0.91        59       1.04   \n",
       "1       10000        1.58        76       1.77   \n",
       "2       10000        1.87        74       2.22   \n",
       "3       10000        2.08        63       2.44   \n",
       "4       10000        2.49        78       2.89   \n",
       "\n",
       "                                             weather   pop rain  \n",
       "0  [{'id': 802, 'main': 'Clouds', 'description': ...  0.39  NaN  \n",
       "1  [{'id': 802, 'main': 'Clouds', 'description': ...  0.51  NaN  \n",
       "2  [{'id': 802, 'main': 'Clouds', 'description': ...  0.67  NaN  \n",
       "3  [{'id': 802, 'main': 'Clouds', 'description': ...  0.63  NaN  \n",
       "4  [{'id': 801, 'main': 'Clouds', 'description': ...  0.03  NaN  "
      ]
     },
     "execution_count": 10,
     "metadata": {},
     "output_type": "execute_result"
    }
   ],
   "source": [
    "df_hourly.head()"
   ]
  },
  {
   "cell_type": "code",
   "execution_count": null,
   "metadata": {},
   "outputs": [],
   "source": []
  }
 ],
 "metadata": {
  "interpreter": {
   "hash": "c1b4cfe941b6d2466ad1fb5979e97da9cda8801728c8091b097ab734208fc00c"
  },
  "kernelspec": {
   "display_name": "Python 3.8.3 64-bit ('base': conda)",
   "name": "python3"
  },
  "language_info": {
   "codemirror_mode": {
    "name": "ipython",
    "version": 3
   },
   "file_extension": ".py",
   "mimetype": "text/x-python",
   "name": "python",
   "nbconvert_exporter": "python",
   "pygments_lexer": "ipython3",
   "version": "3.8.11"
  }
 },
 "nbformat": 4,
 "nbformat_minor": 2
}
