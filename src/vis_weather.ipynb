{
 "cells": [
  {
   "cell_type": "code",
   "execution_count": 1,
   "metadata": {
    "execution": {
     "iopub.execute_input": "2021-10-19T20:12:08.627589Z",
     "iopub.status.busy": "2021-10-19T20:12:08.626988Z",
     "iopub.status.idle": "2021-10-19T20:12:09.943611Z",
     "shell.execute_reply": "2021-10-19T20:12:09.942909Z"
    }
   },
   "outputs": [],
   "source": [
    "import json, yaml, requests\r\n",
    "from datetime import datetime\r\n",
    "from dateutil import tz\r\n",
    "import pandas as pd\r\n",
    "from PIL import Image\r\n",
    "from io import BytesIO\r\n",
    "import matplotlib.pyplot as plt\r\n",
    "import seaborn\r\n",
    "\r\n",
    "CONFIG_PATH = \"../config/config.yaml\""
   ]
  },
  {
   "cell_type": "code",
   "execution_count": 2,
   "metadata": {
    "execution": {
     "iopub.execute_input": "2021-10-19T20:12:09.951663Z",
     "iopub.status.busy": "2021-10-19T20:12:09.948446Z",
     "iopub.status.idle": "2021-10-19T20:12:09.954376Z",
     "shell.execute_reply": "2021-10-19T20:12:09.953964Z"
    }
   },
   "outputs": [],
   "source": [
    "with open('../newest_ts', 'r') as f:\r\n",
    "    newest_ts = f.read()\r\n",
    "\r\n",
    "data_path = f\"../data/data_{newest_ts}.json\"\r\n",
    "with open(data_path, 'r') as f:\r\n",
    "    data = json.load(f)\r\n",
    "\r\n",
    "with open(CONFIG_PATH, \"r\") as stream:\r\n",
    "    config = yaml.safe_load(stream)\r\n",
    "\r\n",
    "TIME_ZONE = config['time_zone']\r\n",
    "DATETIME_FORMAT = config['dt_format']"
   ]
  },
  {
   "cell_type": "code",
   "execution_count": 3,
   "metadata": {
    "execution": {
     "iopub.execute_input": "2021-10-19T20:12:09.959146Z",
     "iopub.status.busy": "2021-10-19T20:12:09.958604Z",
     "iopub.status.idle": "2021-10-19T20:12:09.964679Z",
     "shell.execute_reply": "2021-10-19T20:12:09.965080Z"
    }
   },
   "outputs": [
    {
     "name": "stdout",
     "output_type": "stream",
     "text": [
      "Recent query happens at 2021-10-20 04:12:05 (CST).\n"
     ]
    }
   ],
   "source": [
    "def ts2dt(ts, format=DATETIME_FORMAT):\r\n",
    "    dt = (datetime.utcfromtimestamp(int(ts))\r\n",
    "                    .replace(tzinfo=tz.tzutc())\r\n",
    "                    # .astimezone(tz.tzlocal())\r\n",
    "                    .astimezone(tz.gettz(TIME_ZONE)))\r\n",
    "    return dt.strftime(format), dt\r\n",
    "\r\n",
    "_, newest_dt = ts2dt(newest_ts)\r\n",
    "print(f\"Recent query happens at {newest_dt.strftime(DATETIME_FORMAT)} ({newest_dt.tzname()}).\")"
   ]
  },
  {
   "cell_type": "code",
   "execution_count": 4,
   "metadata": {
    "execution": {
     "iopub.execute_input": "2021-10-19T20:12:09.970457Z",
     "iopub.status.busy": "2021-10-19T20:12:09.969351Z",
     "iopub.status.idle": "2021-10-19T20:12:09.971011Z",
     "shell.execute_reply": "2021-10-19T20:12:09.971402Z"
    }
   },
   "outputs": [],
   "source": [
    "def degrees_to_cardinal(d):\r\n",
    "  dirs = ['N', 'NNE', 'NE', 'ENE', 'E', 'ESE', 'SE', 'SSE', 'S', 'SSW', 'SW', 'WSW', 'W', 'WNW', 'NW', 'NNW']\r\n",
    "  ix = int(round(d / (360. / len(dirs))))\r\n",
    "  return dirs[ix % len(dirs)]"
   ]
  },
  {
   "cell_type": "code",
   "execution_count": 5,
   "metadata": {
    "execution": {
     "iopub.execute_input": "2021-10-19T20:12:09.975677Z",
     "iopub.status.busy": "2021-10-19T20:12:09.974532Z",
     "iopub.status.idle": "2021-10-19T20:12:09.976297Z",
     "shell.execute_reply": "2021-10-19T20:12:09.976725Z"
    }
   },
   "outputs": [],
   "source": [
    "# data.keys()"
   ]
  },
  {
   "cell_type": "code",
   "execution_count": 6,
   "metadata": {
    "execution": {
     "iopub.execute_input": "2021-10-19T20:12:09.981011Z",
     "iopub.status.busy": "2021-10-19T20:12:09.979740Z",
     "iopub.status.idle": "2021-10-19T20:12:09.981595Z",
     "shell.execute_reply": "2021-10-19T20:12:09.981985Z"
    }
   },
   "outputs": [],
   "source": [
    "# data['current']"
   ]
  },
  {
   "cell_type": "code",
   "execution_count": 7,
   "metadata": {
    "execution": {
     "iopub.execute_input": "2021-10-19T20:12:10.001272Z",
     "iopub.status.busy": "2021-10-19T20:12:10.000670Z",
     "iopub.status.idle": "2021-10-19T20:12:10.384400Z",
     "shell.execute_reply": "2021-10-19T20:12:10.385167Z"
    }
   },
   "outputs": [
    {
     "data": {
      "image/png": "[encoded data removed]",
      "text/plain": [
       "<Figure size 216x216 with 1 Axes>"
      ]
     },
     "metadata": {
      "needs_background": "light"
     },
     "output_type": "display_data"
    },
    {
     "name": "stdout",
     "output_type": "stream",
     "text": [
      "Today, sun rises at 06:21 and sets at 17:54.\n",
      "Currently, the weather is Clouds (overcast clouds).\n",
      "The temperature is 25.56°C and it feels like 26.26°C.\n",
      "The UV index is 0, humidity is 80%.\n",
      "The pressure is 1001 hPa, percentage of cloud cover is 100%\n",
      "The wind comes from ENE direction with a speed 3.58 m/s.\n"
     ]
    }
   ],
   "source": [
    "current = data['current']\r\n",
    "\r\n",
    "fig, ax = plt.subplots(figsize=(3, 3))\r\n",
    "icon = requests.get(f\"http://openweathermap.org/img/wn/{current['weather'][0]['icon']}@2x.png\")\r\n",
    "im = Image.open(BytesIO(icon.content))\r\n",
    "plt.imshow(im)\r\n",
    "ax.set_axis_off()\r\n",
    "plt.show()\r\n",
    "\r\n",
    "print(f\"Today, sun rises at {ts2dt(current['sunrise'], '%H:%M')[0]} \\\r\n",
    "and sets at {ts2dt(current['sunset'], '%H:%M')[0]}.\\n\\\r\n",
    "Currently, the weather is {current['weather'][0]['main']} ({current['weather'][0]['description']}).\\n\\\r\n",
    "The temperature is {current['temp']}°C and it feels like {current['feels_like']}°C.\\n\\\r\n",
    "The UV index is {current['uvi']}, humidity is {current['humidity']}%.\\n\\\r\n",
    "The pressure is {current['pressure']} hPa, percentage of cloud cover is {current['clouds']}%\\n\\\r\n",
    "The wind comes from {degrees_to_cardinal(current['wind_deg'])} direction with a speed {current['wind_speed']} m/s.\")"
   ]
  },
  {
   "cell_type": "code",
   "execution_count": 8,
   "metadata": {
    "execution": {
     "iopub.execute_input": "2021-10-19T20:12:10.388770Z",
     "iopub.status.busy": "2021-10-19T20:12:10.387699Z",
     "iopub.status.idle": "2021-10-19T20:12:10.395329Z",
     "shell.execute_reply": "2021-10-19T20:12:10.396043Z"
    }
   },
   "outputs": [],
   "source": [
    "df_hourly = pd.DataFrame(data['hourly'])\r\n",
    "df_daily = pd.DataFrame(data['daily'])"
   ]
  },
  {
   "cell_type": "code",
   "execution_count": 9,
   "metadata": {
    "execution": {
     "iopub.execute_input": "2021-10-19T20:12:10.399362Z",
     "iopub.status.busy": "2021-10-19T20:12:10.398319Z",
     "iopub.status.idle": "2021-10-19T20:12:10.669721Z",
     "shell.execute_reply": "2021-10-19T20:12:10.670221Z"
    }
   },
   "outputs": [
    {
     "data": {
      "image/png": "[encoded data removed]",
      "text/plain": [
       "<Figure size 864x432 with 1 Axes>"
      ]
     },
     "metadata": {
      "needs_background": "light"
     },
     "output_type": "display_data"
    }
   ],
   "source": [
    "fig, ax = plt.subplots(figsize=(12, 6))\r\n",
    "plt.plot(df_hourly.temp, '.-', label='Temperature')\r\n",
    "plt.plot(df_hourly.feels_like, '.-', label='Feels Like')\r\n",
    "ax.set(title='Temperature in future 48 hours', xlabel='Time', ylabel='Temperature')\r\n",
    "ax.set_xticks(list(range(0, len(df_hourly), 2)))\r\n",
    "ax.set_xticklabels([ts2dt(ts, '%m-%d %H:%M')[0] for i, ts in enumerate(df_hourly.dt) if i%2==0], \r\n",
    "                   rotation=45, ha=\"right\")\r\n",
    "ax.locator_params(nbins=15, axis='y')\r\n",
    "plt.legend()\r\n",
    "plt.show()"
   ]
  },
  {
   "cell_type": "code",
   "execution_count": 10,
   "metadata": {
    "execution": {
     "iopub.execute_input": "2021-10-19T20:12:10.681757Z",
     "iopub.status.busy": "2021-10-19T20:12:10.674353Z",
     "iopub.status.idle": "2021-10-19T20:12:10.694221Z",
     "shell.execute_reply": "2021-10-19T20:12:10.693749Z"
    }
   },
   "outputs": [
    {
     "data": {
      "text/html": [
       "<div>\n",
       "<style scoped>\n",
       "    .dataframe tbody tr th:only-of-type {\n",
       "        vertical-align: middle;\n",
       "    }\n",
       "\n",
       "    .dataframe tbody tr th {\n",
       "        vertical-align: top;\n",
       "    }\n",
       "\n",
       "    .dataframe thead th {\n",
       "        text-align: right;\n",
       "    }\n",
       "</style>\n",
       "<table border=\"1\" class=\"dataframe\">\n",
       "  <thead>\n",
       "    <tr style=\"text-align: right;\">\n",
       "      <th></th>\n",
       "      <th>dt</th>\n",
       "      <th>temp</th>\n",
       "      <th>feels_like</th>\n",
       "      <th>pressure</th>\n",
       "      <th>humidity</th>\n",
       "      <th>dew_point</th>\n",
       "      <th>uvi</th>\n",
       "      <th>clouds</th>\n",
       "      <th>visibility</th>\n",
       "      <th>wind_speed</th>\n",
       "      <th>wind_deg</th>\n",
       "      <th>wind_gust</th>\n",
       "      <th>weather</th>\n",
       "      <th>pop</th>\n",
       "      <th>rain</th>\n",
       "    </tr>\n",
       "  </thead>\n",
       "  <tbody>\n",
       "    <tr>\n",
       "      <th>0</th>\n",
       "      <td>1634673600</td>\n",
       "      <td>25.56</td>\n",
       "      <td>26.26</td>\n",
       "      <td>1001</td>\n",
       "      <td>80</td>\n",
       "      <td>21.85</td>\n",
       "      <td>0.00</td>\n",
       "      <td>100</td>\n",
       "      <td>10000</td>\n",
       "      <td>5.27</td>\n",
       "      <td>88</td>\n",
       "      <td>6.72</td>\n",
       "      <td>[{'id': 804, 'main': 'Clouds', 'description': ...</td>\n",
       "      <td>0.0</td>\n",
       "      <td>NaN</td>\n",
       "    </tr>\n",
       "    <tr>\n",
       "      <th>1</th>\n",
       "      <td>1634677200</td>\n",
       "      <td>25.40</td>\n",
       "      <td>26.11</td>\n",
       "      <td>1004</td>\n",
       "      <td>81</td>\n",
       "      <td>21.90</td>\n",
       "      <td>0.00</td>\n",
       "      <td>100</td>\n",
       "      <td>10000</td>\n",
       "      <td>5.73</td>\n",
       "      <td>88</td>\n",
       "      <td>7.23</td>\n",
       "      <td>[{'id': 804, 'main': 'Clouds', 'description': ...</td>\n",
       "      <td>0.0</td>\n",
       "      <td>NaN</td>\n",
       "    </tr>\n",
       "    <tr>\n",
       "      <th>2</th>\n",
       "      <td>1634680800</td>\n",
       "      <td>25.26</td>\n",
       "      <td>25.96</td>\n",
       "      <td>1007</td>\n",
       "      <td>81</td>\n",
       "      <td>21.77</td>\n",
       "      <td>0.00</td>\n",
       "      <td>100</td>\n",
       "      <td>10000</td>\n",
       "      <td>5.98</td>\n",
       "      <td>87</td>\n",
       "      <td>7.44</td>\n",
       "      <td>[{'id': 804, 'main': 'Clouds', 'description': ...</td>\n",
       "      <td>0.0</td>\n",
       "      <td>NaN</td>\n",
       "    </tr>\n",
       "    <tr>\n",
       "      <th>3</th>\n",
       "      <td>1634684400</td>\n",
       "      <td>25.11</td>\n",
       "      <td>25.82</td>\n",
       "      <td>1011</td>\n",
       "      <td>82</td>\n",
       "      <td>21.82</td>\n",
       "      <td>0.00</td>\n",
       "      <td>100</td>\n",
       "      <td>10000</td>\n",
       "      <td>5.96</td>\n",
       "      <td>85</td>\n",
       "      <td>7.33</td>\n",
       "      <td>[{'id': 500, 'main': 'Rain', 'description': 'l...</td>\n",
       "      <td>0.2</td>\n",
       "      <td>{'1h': 0.12}</td>\n",
       "    </tr>\n",
       "    <tr>\n",
       "      <th>4</th>\n",
       "      <td>1634688000</td>\n",
       "      <td>25.12</td>\n",
       "      <td>25.83</td>\n",
       "      <td>1014</td>\n",
       "      <td>82</td>\n",
       "      <td>21.83</td>\n",
       "      <td>0.43</td>\n",
       "      <td>99</td>\n",
       "      <td>10000</td>\n",
       "      <td>5.91</td>\n",
       "      <td>84</td>\n",
       "      <td>7.58</td>\n",
       "      <td>[{'id': 500, 'main': 'Rain', 'description': 'l...</td>\n",
       "      <td>0.2</td>\n",
       "      <td>{'1h': 0.12}</td>\n",
       "    </tr>\n",
       "  </tbody>\n",
       "</table>\n",
       "</div>"
      ],
      "text/plain": [
       "           dt   temp  feels_like  pressure  humidity  dew_point   uvi  clouds  \\\n",
       "0  1634673600  25.56       26.26      1001        80      21.85  0.00     100   \n",
       "1  1634677200  25.40       26.11      1004        81      21.90  0.00     100   \n",
       "2  1634680800  25.26       25.96      1007        81      21.77  0.00     100   \n",
       "3  1634684400  25.11       25.82      1011        82      21.82  0.00     100   \n",
       "4  1634688000  25.12       25.83      1014        82      21.83  0.43      99   \n",
       "\n",
       "   visibility  wind_speed  wind_deg  wind_gust  \\\n",
       "0       10000        5.27        88       6.72   \n",
       "1       10000        5.73        88       7.23   \n",
       "2       10000        5.98        87       7.44   \n",
       "3       10000        5.96        85       7.33   \n",
       "4       10000        5.91        84       7.58   \n",
       "\n",
       "                                             weather  pop          rain  \n",
       "0  [{'id': 804, 'main': 'Clouds', 'description': ...  0.0           NaN  \n",
       "1  [{'id': 804, 'main': 'Clouds', 'description': ...  0.0           NaN  \n",
       "2  [{'id': 804, 'main': 'Clouds', 'description': ...  0.0           NaN  \n",
       "3  [{'id': 500, 'main': 'Rain', 'description': 'l...  0.2  {'1h': 0.12}  \n",
       "4  [{'id': 500, 'main': 'Rain', 'description': 'l...  0.2  {'1h': 0.12}  "
      ]
     },
     "execution_count": 10,
     "metadata": {},
     "output_type": "execute_result"
    }
   ],
   "source": [
    "df_hourly.head()"
   ]
  },
  {
   "cell_type": "code",
   "execution_count": null,
   "metadata": {},
   "outputs": [],
   "source": []
  }
 ],
 "metadata": {
  "interpreter": {
   "hash": "c1b4cfe941b6d2466ad1fb5979e97da9cda8801728c8091b097ab734208fc00c"
  },
  "kernelspec": {
   "display_name": "Python 3.8.3 64-bit ('base': conda)",
   "name": "python3"
  },
  "language_info": {
   "codemirror_mode": {
    "name": "ipython",
    "version": 3
   },
   "file_extension": ".py",
   "mimetype": "text/x-python",
   "name": "python",
   "nbconvert_exporter": "python",
   "pygments_lexer": "ipython3",
   "version": "3.8.12"
  }
 },
 "nbformat": 4,
 "nbformat_minor": 2
}
