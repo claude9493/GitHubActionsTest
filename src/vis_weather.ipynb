{
 "cells": [
  {
   "cell_type": "code",
   "execution_count": 1,
   "metadata": {
    "execution": {
     "iopub.execute_input": "2021-09-25T04:14:32.289686Z",
     "iopub.status.busy": "2021-09-25T04:14:32.289157Z",
     "iopub.status.idle": "2021-09-25T04:14:34.740719Z",
     "shell.execute_reply": "2021-09-25T04:14:34.739189Z"
    }
   },
   "outputs": [],
   "source": [
    "import json, yaml, requests\r\n",
    "from datetime import datetime\r\n",
    "from dateutil import tz\r\n",
    "import pandas as pd\r\n",
    "from PIL import Image\r\n",
    "from io import BytesIO\r\n",
    "import matplotlib.pyplot as plt\r\n",
    "import seaborn\r\n",
    "\r\n",
    "CONFIG_PATH = \"../config/config.yaml\""
   ]
  },
  {
   "cell_type": "code",
   "execution_count": 2,
   "metadata": {
    "execution": {
     "iopub.execute_input": "2021-09-25T04:14:34.748648Z",
     "iopub.status.busy": "2021-09-25T04:14:34.745947Z",
     "iopub.status.idle": "2021-09-25T04:14:34.750684Z",
     "shell.execute_reply": "2021-09-25T04:14:34.750232Z"
    }
   },
   "outputs": [],
   "source": [
    "with open('../newest_ts', 'r') as f:\r\n",
    "    newest_ts = f.read()\r\n",
    "\r\n",
    "data_path = f\"../data/data_{newest_ts}.json\"\r\n",
    "with open(data_path, 'r') as f:\r\n",
    "    data = json.load(f)\r\n",
    "\r\n",
    "with open(CONFIG_PATH, \"r\") as stream:\r\n",
    "    config = yaml.safe_load(stream)\r\n",
    "\r\n",
    "TIME_ZONE = config['time_zone']\r\n",
    "DATETIME_FORMAT = config['dt_format']"
   ]
  },
  {
   "cell_type": "code",
   "execution_count": 3,
   "metadata": {
    "execution": {
     "iopub.execute_input": "2021-09-25T04:14:34.755610Z",
     "iopub.status.busy": "2021-09-25T04:14:34.754859Z",
     "iopub.status.idle": "2021-09-25T04:14:34.765189Z",
     "shell.execute_reply": "2021-09-25T04:14:34.765590Z"
    }
   },
   "outputs": [
    {
     "name": "stdout",
     "output_type": "stream",
     "text": [
      "Recent query happens at 2021-09-25 12:14:29 (CST).\n"
     ]
    }
   ],
   "source": [
    "def ts2dt(ts, format=DATETIME_FORMAT):\r\n",
    "    dt = (datetime.utcfromtimestamp(int(ts))\r\n",
    "                    .replace(tzinfo=tz.tzutc())\r\n",
    "                    # .astimezone(tz.tzlocal())\r\n",
    "                    .astimezone(tz.gettz(TIME_ZONE)))\r\n",
    "    return dt.strftime(format), dt\r\n",
    "\r\n",
    "_, newest_dt = ts2dt(newest_ts)\r\n",
    "print(f\"Recent query happens at {newest_dt.strftime(DATETIME_FORMAT)} ({newest_dt.tzname()}).\")"
   ]
  },
  {
   "cell_type": "code",
   "execution_count": 4,
   "metadata": {
    "execution": {
     "iopub.execute_input": "2021-09-25T04:14:34.770582Z",
     "iopub.status.busy": "2021-09-25T04:14:34.769524Z",
     "iopub.status.idle": "2021-09-25T04:14:34.771156Z",
     "shell.execute_reply": "2021-09-25T04:14:34.771553Z"
    }
   },
   "outputs": [],
   "source": [
    "def degrees_to_cardinal(d):\r\n",
    "  dirs = ['N', 'NNE', 'NE', 'ENE', 'E', 'ESE', 'SE', 'SSE', 'S', 'SSW', 'SW', 'WSW', 'W', 'WNW', 'NW', 'NNW']\r\n",
    "  ix = int(round(d / (360. / len(dirs))))\r\n",
    "  return dirs[ix % len(dirs)]"
   ]
  },
  {
   "cell_type": "code",
   "execution_count": 5,
   "metadata": {
    "execution": {
     "iopub.execute_input": "2021-09-25T04:14:34.775643Z",
     "iopub.status.busy": "2021-09-25T04:14:34.774478Z",
     "iopub.status.idle": "2021-09-25T04:14:34.776198Z",
     "shell.execute_reply": "2021-09-25T04:14:34.776595Z"
    }
   },
   "outputs": [],
   "source": [
    "# data.keys()"
   ]
  },
  {
   "cell_type": "code",
   "execution_count": 6,
   "metadata": {
    "execution": {
     "iopub.execute_input": "2021-09-25T04:14:34.780648Z",
     "iopub.status.busy": "2021-09-25T04:14:34.779519Z",
     "iopub.status.idle": "2021-09-25T04:14:34.781184Z",
     "shell.execute_reply": "2021-09-25T04:14:34.781527Z"
    }
   },
   "outputs": [],
   "source": [
    "# data['current']"
   ]
  },
  {
   "cell_type": "code",
   "execution_count": 7,
   "metadata": {
    "execution": {
     "iopub.execute_input": "2021-09-25T04:14:34.798910Z",
     "iopub.status.busy": "2021-09-25T04:14:34.787284Z",
     "iopub.status.idle": "2021-09-25T04:14:35.266495Z",
     "shell.execute_reply": "2021-09-25T04:14:35.267178Z"
    }
   },
   "outputs": [
    {
     "data": {
      "image/png": "[encoded data removed]",
      "text/plain": [
       "<Figure size 216x216 with 1 Axes>"
      ]
     },
     "metadata": {
      "needs_background": "light"
     },
     "output_type": "display_data"
    },
    {
     "name": "stdout",
     "output_type": "stream",
     "text": [
      "Today, sun rises at 06:12 and sets at 18:16.\n",
      "Currently, the weather is Clouds (scattered clouds).\n",
      "The temperature is 30.93°C and it feels like 37.93°C.\n",
      "The UV index is 9.74, humidity is 73%.\n",
      "The pressure is 1013 hPa, percentage of cloud cover is 45%\n",
      "The wind comes from E direction with a speed 5.36 m/s.\n"
     ]
    }
   ],
   "source": [
    "current = data['current']\r\n",
    "\r\n",
    "fig, ax = plt.subplots(figsize=(3, 3))\r\n",
    "icon = requests.get(f\"http://openweathermap.org/img/wn/{current['weather'][0]['icon']}@2x.png\")\r\n",
    "im = Image.open(BytesIO(icon.content))\r\n",
    "plt.imshow(im)\r\n",
    "ax.set_axis_off()\r\n",
    "plt.show()\r\n",
    "\r\n",
    "print(f\"Today, sun rises at {ts2dt(current['sunrise'], '%H:%M')[0]} \\\r\n",
    "and sets at {ts2dt(current['sunset'], '%H:%M')[0]}.\\n\\\r\n",
    "Currently, the weather is {current['weather'][0]['main']} ({current['weather'][0]['description']}).\\n\\\r\n",
    "The temperature is {current['temp']}°C and it feels like {current['feels_like']}°C.\\n\\\r\n",
    "The UV index is {current['uvi']}, humidity is {current['humidity']}%.\\n\\\r\n",
    "The pressure is {current['pressure']} hPa, percentage of cloud cover is {current['clouds']}%\\n\\\r\n",
    "The wind comes from {degrees_to_cardinal(current['wind_deg'])} direction with a speed {current['wind_speed']} m/s.\")"
   ]
  },
  {
   "cell_type": "code",
   "execution_count": 8,
   "metadata": {
    "execution": {
     "iopub.execute_input": "2021-09-25T04:14:35.270362Z",
     "iopub.status.busy": "2021-09-25T04:14:35.269431Z",
     "iopub.status.idle": "2021-09-25T04:14:35.276687Z",
     "shell.execute_reply": "2021-09-25T04:14:35.277412Z"
    }
   },
   "outputs": [],
   "source": [
    "df_hourly = pd.DataFrame(data['hourly'])\r\n",
    "df_daily = pd.DataFrame(data['daily'])"
   ]
  },
  {
   "cell_type": "code",
   "execution_count": 9,
   "metadata": {
    "execution": {
     "iopub.execute_input": "2021-09-25T04:14:35.280759Z",
     "iopub.status.busy": "2021-09-25T04:14:35.279664Z",
     "iopub.status.idle": "2021-09-25T04:14:35.539106Z",
     "shell.execute_reply": "2021-09-25T04:14:35.538659Z"
    }
   },
   "outputs": [
    {
     "data": {
      "image/png": "[encoded data removed]",
      "text/plain": [
       "<Figure size 864x432 with 1 Axes>"
      ]
     },
     "metadata": {
      "needs_background": "light"
     },
     "output_type": "display_data"
    }
   ],
   "source": [
    "fig, ax = plt.subplots(figsize=(12, 6))\r\n",
    "plt.plot(df_hourly.temp, '.-', label='Temperature')\r\n",
    "plt.plot(df_hourly.feels_like, '.-', label='Feels Like')\r\n",
    "ax.set(title='Temperature in future 48 hours', xlabel='Time', ylabel='Temperature')\r\n",
    "ax.set_xticks(list(range(0, len(df_hourly), 2)))\r\n",
    "ax.set_xticklabels([ts2dt(ts, '%m-%d %H:%M')[0] for i, ts in enumerate(df_hourly.dt) if i%2==0], \r\n",
    "                   rotation=45, ha=\"right\")\r\n",
    "ax.locator_params(nbins=15, axis='y')\r\n",
    "plt.legend()\r\n",
    "plt.show()"
   ]
  },
  {
   "cell_type": "code",
   "execution_count": 10,
   "metadata": {
    "execution": {
     "iopub.execute_input": "2021-09-25T04:14:35.543766Z",
     "iopub.status.busy": "2021-09-25T04:14:35.543165Z",
     "iopub.status.idle": "2021-09-25T04:14:35.564615Z",
     "shell.execute_reply": "2021-09-25T04:14:35.564113Z"
    }
   },
   "outputs": [
    {
     "data": {
      "text/html": [
       "<div>\n",
       "<style scoped>\n",
       "    .dataframe tbody tr th:only-of-type {\n",
       "        vertical-align: middle;\n",
       "    }\n",
       "\n",
       "    .dataframe tbody tr th {\n",
       "        vertical-align: top;\n",
       "    }\n",
       "\n",
       "    .dataframe thead th {\n",
       "        text-align: right;\n",
       "    }\n",
       "</style>\n",
       "<table border=\"1\" class=\"dataframe\">\n",
       "  <thead>\n",
       "    <tr style=\"text-align: right;\">\n",
       "      <th></th>\n",
       "      <th>dt</th>\n",
       "      <th>temp</th>\n",
       "      <th>feels_like</th>\n",
       "      <th>pressure</th>\n",
       "      <th>humidity</th>\n",
       "      <th>dew_point</th>\n",
       "      <th>uvi</th>\n",
       "      <th>clouds</th>\n",
       "      <th>visibility</th>\n",
       "      <th>wind_speed</th>\n",
       "      <th>wind_deg</th>\n",
       "      <th>wind_gust</th>\n",
       "      <th>weather</th>\n",
       "      <th>pop</th>\n",
       "      <th>rain</th>\n",
       "    </tr>\n",
       "  </thead>\n",
       "  <tbody>\n",
       "    <tr>\n",
       "      <th>0</th>\n",
       "      <td>1632542400</td>\n",
       "      <td>30.93</td>\n",
       "      <td>37.93</td>\n",
       "      <td>1013</td>\n",
       "      <td>73</td>\n",
       "      <td>25.52</td>\n",
       "      <td>9.74</td>\n",
       "      <td>45</td>\n",
       "      <td>10000</td>\n",
       "      <td>7.16</td>\n",
       "      <td>77</td>\n",
       "      <td>7.83</td>\n",
       "      <td>[{'id': 802, 'main': 'Clouds', 'description': ...</td>\n",
       "      <td>0.21</td>\n",
       "      <td>NaN</td>\n",
       "    </tr>\n",
       "    <tr>\n",
       "      <th>1</th>\n",
       "      <td>1632546000</td>\n",
       "      <td>30.64</td>\n",
       "      <td>37.22</td>\n",
       "      <td>1013</td>\n",
       "      <td>72</td>\n",
       "      <td>25.01</td>\n",
       "      <td>9.56</td>\n",
       "      <td>44</td>\n",
       "      <td>10000</td>\n",
       "      <td>7.28</td>\n",
       "      <td>82</td>\n",
       "      <td>7.99</td>\n",
       "      <td>[{'id': 500, 'main': 'Rain', 'description': 'l...</td>\n",
       "      <td>0.37</td>\n",
       "      <td>{'1h': 0.12}</td>\n",
       "    </tr>\n",
       "    <tr>\n",
       "      <th>2</th>\n",
       "      <td>1632549600</td>\n",
       "      <td>30.35</td>\n",
       "      <td>36.17</td>\n",
       "      <td>1013</td>\n",
       "      <td>71</td>\n",
       "      <td>24.50</td>\n",
       "      <td>7.81</td>\n",
       "      <td>41</td>\n",
       "      <td>10000</td>\n",
       "      <td>6.92</td>\n",
       "      <td>85</td>\n",
       "      <td>7.84</td>\n",
       "      <td>[{'id': 500, 'main': 'Rain', 'description': 'l...</td>\n",
       "      <td>0.37</td>\n",
       "      <td>{'1h': 0.18}</td>\n",
       "    </tr>\n",
       "    <tr>\n",
       "      <th>3</th>\n",
       "      <td>1632553200</td>\n",
       "      <td>29.94</td>\n",
       "      <td>34.89</td>\n",
       "      <td>1012</td>\n",
       "      <td>70</td>\n",
       "      <td>23.87</td>\n",
       "      <td>5.19</td>\n",
       "      <td>19</td>\n",
       "      <td>10000</td>\n",
       "      <td>6.76</td>\n",
       "      <td>88</td>\n",
       "      <td>8.11</td>\n",
       "      <td>[{'id': 801, 'main': 'Clouds', 'description': ...</td>\n",
       "      <td>0.00</td>\n",
       "      <td>NaN</td>\n",
       "    </tr>\n",
       "    <tr>\n",
       "      <th>4</th>\n",
       "      <td>1632556800</td>\n",
       "      <td>29.39</td>\n",
       "      <td>33.39</td>\n",
       "      <td>1011</td>\n",
       "      <td>69</td>\n",
       "      <td>23.11</td>\n",
       "      <td>2.57</td>\n",
       "      <td>10</td>\n",
       "      <td>10000</td>\n",
       "      <td>6.55</td>\n",
       "      <td>93</td>\n",
       "      <td>8.11</td>\n",
       "      <td>[{'id': 800, 'main': 'Clear', 'description': '...</td>\n",
       "      <td>0.00</td>\n",
       "      <td>NaN</td>\n",
       "    </tr>\n",
       "  </tbody>\n",
       "</table>\n",
       "</div>"
      ],
      "text/plain": [
       "           dt   temp  feels_like  pressure  humidity  dew_point   uvi  clouds  \\\n",
       "0  1632542400  30.93       37.93      1013        73      25.52  9.74      45   \n",
       "1  1632546000  30.64       37.22      1013        72      25.01  9.56      44   \n",
       "2  1632549600  30.35       36.17      1013        71      24.50  7.81      41   \n",
       "3  1632553200  29.94       34.89      1012        70      23.87  5.19      19   \n",
       "4  1632556800  29.39       33.39      1011        69      23.11  2.57      10   \n",
       "\n",
       "   visibility  wind_speed  wind_deg  wind_gust  \\\n",
       "0       10000        7.16        77       7.83   \n",
       "1       10000        7.28        82       7.99   \n",
       "2       10000        6.92        85       7.84   \n",
       "3       10000        6.76        88       8.11   \n",
       "4       10000        6.55        93       8.11   \n",
       "\n",
       "                                             weather   pop          rain  \n",
       "0  [{'id': 802, 'main': 'Clouds', 'description': ...  0.21           NaN  \n",
       "1  [{'id': 500, 'main': 'Rain', 'description': 'l...  0.37  {'1h': 0.12}  \n",
       "2  [{'id': 500, 'main': 'Rain', 'description': 'l...  0.37  {'1h': 0.18}  \n",
       "3  [{'id': 801, 'main': 'Clouds', 'description': ...  0.00           NaN  \n",
       "4  [{'id': 800, 'main': 'Clear', 'description': '...  0.00           NaN  "
      ]
     },
     "execution_count": 10,
     "metadata": {},
     "output_type": "execute_result"
    }
   ],
   "source": [
    "df_hourly.head()"
   ]
  },
  {
   "cell_type": "code",
   "execution_count": null,
   "metadata": {},
   "outputs": [],
   "source": []
  }
 ],
 "metadata": {
  "interpreter": {
   "hash": "c1b4cfe941b6d2466ad1fb5979e97da9cda8801728c8091b097ab734208fc00c"
  },
  "kernelspec": {
   "display_name": "Python 3.8.3 64-bit ('base': conda)",
   "name": "python3"
  },
  "language_info": {
   "codemirror_mode": {
    "name": "ipython",
    "version": 3
   },
   "file_extension": ".py",
   "mimetype": "text/x-python",
   "name": "python",
   "nbconvert_exporter": "python",
   "pygments_lexer": "ipython3",
   "version": "3.8.12"
  }
 },
 "nbformat": 4,
 "nbformat_minor": 2
}
