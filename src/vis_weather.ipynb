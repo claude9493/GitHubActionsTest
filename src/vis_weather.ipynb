{
 "cells": [
  {
   "cell_type": "code",
   "execution_count": 1,
   "metadata": {
    "execution": {
     "iopub.execute_input": "2021-10-17T06:13:50.042968Z",
     "iopub.status.busy": "2021-10-17T06:13:50.042204Z",
     "iopub.status.idle": "2021-10-17T06:13:51.594934Z",
     "shell.execute_reply": "2021-10-17T06:13:51.594251Z"
    }
   },
   "outputs": [],
   "source": [
    "import json, yaml, requests\r\n",
    "from datetime import datetime\r\n",
    "from dateutil import tz\r\n",
    "import pandas as pd\r\n",
    "from PIL import Image\r\n",
    "from io import BytesIO\r\n",
    "import matplotlib.pyplot as plt\r\n",
    "import seaborn\r\n",
    "\r\n",
    "CONFIG_PATH = \"../config/config.yaml\""
   ]
  },
  {
   "cell_type": "code",
   "execution_count": 2,
   "metadata": {
    "execution": {
     "iopub.execute_input": "2021-10-17T06:13:51.601249Z",
     "iopub.status.busy": "2021-10-17T06:13:51.600602Z",
     "iopub.status.idle": "2021-10-17T06:13:51.606342Z",
     "shell.execute_reply": "2021-10-17T06:13:51.606815Z"
    }
   },
   "outputs": [],
   "source": [
    "with open('../newest_ts', 'r') as f:\r\n",
    "    newest_ts = f.read()\r\n",
    "\r\n",
    "data_path = f\"../data/data_{newest_ts}.json\"\r\n",
    "with open(data_path, 'r') as f:\r\n",
    "    data = json.load(f)\r\n",
    "\r\n",
    "with open(CONFIG_PATH, \"r\") as stream:\r\n",
    "    config = yaml.safe_load(stream)\r\n",
    "\r\n",
    "TIME_ZONE = config['time_zone']\r\n",
    "DATETIME_FORMAT = config['dt_format']"
   ]
  },
  {
   "cell_type": "code",
   "execution_count": 3,
   "metadata": {
    "execution": {
     "iopub.execute_input": "2021-10-17T06:13:51.612189Z",
     "iopub.status.busy": "2021-10-17T06:13:51.611404Z",
     "iopub.status.idle": "2021-10-17T06:13:51.617853Z",
     "shell.execute_reply": "2021-10-17T06:13:51.618368Z"
    }
   },
   "outputs": [
    {
     "name": "stdout",
     "output_type": "stream",
     "text": [
      "Recent query happens at 2021-10-17 14:13:46 (CST).\n"
     ]
    }
   ],
   "source": [
    "def ts2dt(ts, format=DATETIME_FORMAT):\r\n",
    "    dt = (datetime.utcfromtimestamp(int(ts))\r\n",
    "                    .replace(tzinfo=tz.tzutc())\r\n",
    "                    # .astimezone(tz.tzlocal())\r\n",
    "                    .astimezone(tz.gettz(TIME_ZONE)))\r\n",
    "    return dt.strftime(format), dt\r\n",
    "\r\n",
    "_, newest_dt = ts2dt(newest_ts)\r\n",
    "print(f\"Recent query happens at {newest_dt.strftime(DATETIME_FORMAT)} ({newest_dt.tzname()}).\")"
   ]
  },
  {
   "cell_type": "code",
   "execution_count": 4,
   "metadata": {
    "execution": {
     "iopub.execute_input": "2021-10-17T06:13:51.624702Z",
     "iopub.status.busy": "2021-10-17T06:13:51.623178Z",
     "iopub.status.idle": "2021-10-17T06:13:51.625349Z",
     "shell.execute_reply": "2021-10-17T06:13:51.625839Z"
    }
   },
   "outputs": [],
   "source": [
    "def degrees_to_cardinal(d):\r\n",
    "  dirs = ['N', 'NNE', 'NE', 'ENE', 'E', 'ESE', 'SE', 'SSE', 'S', 'SSW', 'SW', 'WSW', 'W', 'WNW', 'NW', 'NNW']\r\n",
    "  ix = int(round(d / (360. / len(dirs))))\r\n",
    "  return dirs[ix % len(dirs)]"
   ]
  },
  {
   "cell_type": "code",
   "execution_count": 5,
   "metadata": {
    "execution": {
     "iopub.execute_input": "2021-10-17T06:13:51.630885Z",
     "iopub.status.busy": "2021-10-17T06:13:51.629365Z",
     "iopub.status.idle": "2021-10-17T06:13:51.631509Z",
     "shell.execute_reply": "2021-10-17T06:13:51.631983Z"
    }
   },
   "outputs": [],
   "source": [
    "# data.keys()"
   ]
  },
  {
   "cell_type": "code",
   "execution_count": 6,
   "metadata": {
    "execution": {
     "iopub.execute_input": "2021-10-17T06:13:51.636891Z",
     "iopub.status.busy": "2021-10-17T06:13:51.635411Z",
     "iopub.status.idle": "2021-10-17T06:13:51.637541Z",
     "shell.execute_reply": "2021-10-17T06:13:51.638074Z"
    }
   },
   "outputs": [],
   "source": [
    "# data['current']"
   ]
  },
  {
   "cell_type": "code",
   "execution_count": 7,
   "metadata": {
    "execution": {
     "iopub.execute_input": "2021-10-17T06:13:51.660338Z",
     "iopub.status.busy": "2021-10-17T06:13:51.659696Z",
     "iopub.status.idle": "2021-10-17T06:13:52.073375Z",
     "shell.execute_reply": "2021-10-17T06:13:52.073980Z"
    }
   },
   "outputs": [
    {
     "data": {
      "image/png": "[encoded data removed]",
      "text/plain": [
       "<Figure size 216x216 with 1 Axes>"
      ]
     },
     "metadata": {
      "needs_background": "light"
     },
     "output_type": "display_data"
    },
    {
     "name": "stdout",
     "output_type": "stream",
     "text": [
      "Today, sun rises at 06:19 and sets at 17:56.\n",
      "Currently, the weather is Clouds (scattered clouds).\n",
      "The temperature is 26.33°C and it feels like 26.33°C.\n",
      "The UV index is 6.51, humidity is 65%.\n",
      "The pressure is 1016 hPa, percentage of cloud cover is 26%\n",
      "The wind comes from N direction with a speed 0.89 m/s.\n"
     ]
    }
   ],
   "source": [
    "current = data['current']\r\n",
    "\r\n",
    "fig, ax = plt.subplots(figsize=(3, 3))\r\n",
    "icon = requests.get(f\"http://openweathermap.org/img/wn/{current['weather'][0]['icon']}@2x.png\")\r\n",
    "im = Image.open(BytesIO(icon.content))\r\n",
    "plt.imshow(im)\r\n",
    "ax.set_axis_off()\r\n",
    "plt.show()\r\n",
    "\r\n",
    "print(f\"Today, sun rises at {ts2dt(current['sunrise'], '%H:%M')[0]} \\\r\n",
    "and sets at {ts2dt(current['sunset'], '%H:%M')[0]}.\\n\\\r\n",
    "Currently, the weather is {current['weather'][0]['main']} ({current['weather'][0]['description']}).\\n\\\r\n",
    "The temperature is {current['temp']}°C and it feels like {current['feels_like']}°C.\\n\\\r\n",
    "The UV index is {current['uvi']}, humidity is {current['humidity']}%.\\n\\\r\n",
    "The pressure is {current['pressure']} hPa, percentage of cloud cover is {current['clouds']}%\\n\\\r\n",
    "The wind comes from {degrees_to_cardinal(current['wind_deg'])} direction with a speed {current['wind_speed']} m/s.\")"
   ]
  },
  {
   "cell_type": "code",
   "execution_count": 8,
   "metadata": {
    "execution": {
     "iopub.execute_input": "2021-10-17T06:13:52.077329Z",
     "iopub.status.busy": "2021-10-17T06:13:52.076610Z",
     "iopub.status.idle": "2021-10-17T06:13:52.083766Z",
     "shell.execute_reply": "2021-10-17T06:13:52.084350Z"
    }
   },
   "outputs": [],
   "source": [
    "df_hourly = pd.DataFrame(data['hourly'])\r\n",
    "df_daily = pd.DataFrame(data['daily'])"
   ]
  },
  {
   "cell_type": "code",
   "execution_count": 9,
   "metadata": {
    "execution": {
     "iopub.execute_input": "2021-10-17T06:13:52.087871Z",
     "iopub.status.busy": "2021-10-17T06:13:52.087256Z",
     "iopub.status.idle": "2021-10-17T06:13:52.456331Z",
     "shell.execute_reply": "2021-10-17T06:13:52.455392Z"
    }
   },
   "outputs": [
    {
     "data": {
      "image/png": "[encoded data removed]",
      "text/plain": [
       "<Figure size 864x432 with 1 Axes>"
      ]
     },
     "metadata": {
      "needs_background": "light"
     },
     "output_type": "display_data"
    }
   ],
   "source": [
    "fig, ax = plt.subplots(figsize=(12, 6))\r\n",
    "plt.plot(df_hourly.temp, '.-', label='Temperature')\r\n",
    "plt.plot(df_hourly.feels_like, '.-', label='Feels Like')\r\n",
    "ax.set(title='Temperature in future 48 hours', xlabel='Time', ylabel='Temperature')\r\n",
    "ax.set_xticks(list(range(0, len(df_hourly), 2)))\r\n",
    "ax.set_xticklabels([ts2dt(ts, '%m-%d %H:%M')[0] for i, ts in enumerate(df_hourly.dt) if i%2==0], \r\n",
    "                   rotation=45, ha=\"right\")\r\n",
    "ax.locator_params(nbins=15, axis='y')\r\n",
    "plt.legend()\r\n",
    "plt.show()"
   ]
  },
  {
   "cell_type": "code",
   "execution_count": 10,
   "metadata": {
    "execution": {
     "iopub.execute_input": "2021-10-17T06:13:52.474325Z",
     "iopub.status.busy": "2021-10-17T06:13:52.464688Z",
     "iopub.status.idle": "2021-10-17T06:13:52.494225Z",
     "shell.execute_reply": "2021-10-17T06:13:52.493301Z"
    }
   },
   "outputs": [
    {
     "data": {
      "text/html": [
       "<div>\n",
       "<style scoped>\n",
       "    .dataframe tbody tr th:only-of-type {\n",
       "        vertical-align: middle;\n",
       "    }\n",
       "\n",
       "    .dataframe tbody tr th {\n",
       "        vertical-align: top;\n",
       "    }\n",
       "\n",
       "    .dataframe thead th {\n",
       "        text-align: right;\n",
       "    }\n",
       "</style>\n",
       "<table border=\"1\" class=\"dataframe\">\n",
       "  <thead>\n",
       "    <tr style=\"text-align: right;\">\n",
       "      <th></th>\n",
       "      <th>dt</th>\n",
       "      <th>temp</th>\n",
       "      <th>feels_like</th>\n",
       "      <th>pressure</th>\n",
       "      <th>humidity</th>\n",
       "      <th>dew_point</th>\n",
       "      <th>uvi</th>\n",
       "      <th>clouds</th>\n",
       "      <th>visibility</th>\n",
       "      <th>wind_speed</th>\n",
       "      <th>wind_deg</th>\n",
       "      <th>wind_gust</th>\n",
       "      <th>weather</th>\n",
       "      <th>pop</th>\n",
       "    </tr>\n",
       "  </thead>\n",
       "  <tbody>\n",
       "    <tr>\n",
       "      <th>0</th>\n",
       "      <td>1634450400</td>\n",
       "      <td>26.33</td>\n",
       "      <td>26.33</td>\n",
       "      <td>1016</td>\n",
       "      <td>65</td>\n",
       "      <td>19.23</td>\n",
       "      <td>6.51</td>\n",
       "      <td>26</td>\n",
       "      <td>10000</td>\n",
       "      <td>6.80</td>\n",
       "      <td>30</td>\n",
       "      <td>7.81</td>\n",
       "      <td>[{'id': 802, 'main': 'Clouds', 'description': ...</td>\n",
       "      <td>0.03</td>\n",
       "    </tr>\n",
       "    <tr>\n",
       "      <th>1</th>\n",
       "      <td>1634454000</td>\n",
       "      <td>25.91</td>\n",
       "      <td>26.28</td>\n",
       "      <td>1016</td>\n",
       "      <td>66</td>\n",
       "      <td>19.07</td>\n",
       "      <td>4.08</td>\n",
       "      <td>38</td>\n",
       "      <td>10000</td>\n",
       "      <td>6.47</td>\n",
       "      <td>32</td>\n",
       "      <td>7.21</td>\n",
       "      <td>[{'id': 802, 'main': 'Clouds', 'description': ...</td>\n",
       "      <td>0.16</td>\n",
       "    </tr>\n",
       "    <tr>\n",
       "      <th>2</th>\n",
       "      <td>1634457600</td>\n",
       "      <td>25.45</td>\n",
       "      <td>25.80</td>\n",
       "      <td>1016</td>\n",
       "      <td>67</td>\n",
       "      <td>18.88</td>\n",
       "      <td>1.91</td>\n",
       "      <td>51</td>\n",
       "      <td>10000</td>\n",
       "      <td>5.93</td>\n",
       "      <td>34</td>\n",
       "      <td>7.05</td>\n",
       "      <td>[{'id': 803, 'main': 'Clouds', 'description': ...</td>\n",
       "      <td>0.12</td>\n",
       "    </tr>\n",
       "    <tr>\n",
       "      <th>3</th>\n",
       "      <td>1634461200</td>\n",
       "      <td>24.82</td>\n",
       "      <td>25.13</td>\n",
       "      <td>1017</td>\n",
       "      <td>68</td>\n",
       "      <td>18.51</td>\n",
       "      <td>0.53</td>\n",
       "      <td>66</td>\n",
       "      <td>10000</td>\n",
       "      <td>5.65</td>\n",
       "      <td>32</td>\n",
       "      <td>6.94</td>\n",
       "      <td>[{'id': 803, 'main': 'Clouds', 'description': ...</td>\n",
       "      <td>0.08</td>\n",
       "    </tr>\n",
       "    <tr>\n",
       "      <th>4</th>\n",
       "      <td>1634464800</td>\n",
       "      <td>23.95</td>\n",
       "      <td>24.23</td>\n",
       "      <td>1018</td>\n",
       "      <td>70</td>\n",
       "      <td>18.15</td>\n",
       "      <td>0.00</td>\n",
       "      <td>80</td>\n",
       "      <td>10000</td>\n",
       "      <td>5.70</td>\n",
       "      <td>26</td>\n",
       "      <td>7.06</td>\n",
       "      <td>[{'id': 803, 'main': 'Clouds', 'description': ...</td>\n",
       "      <td>0.11</td>\n",
       "    </tr>\n",
       "  </tbody>\n",
       "</table>\n",
       "</div>"
      ],
      "text/plain": [
       "           dt   temp  feels_like  pressure  humidity  dew_point   uvi  clouds  \\\n",
       "0  1634450400  26.33       26.33      1016        65      19.23  6.51      26   \n",
       "1  1634454000  25.91       26.28      1016        66      19.07  4.08      38   \n",
       "2  1634457600  25.45       25.80      1016        67      18.88  1.91      51   \n",
       "3  1634461200  24.82       25.13      1017        68      18.51  0.53      66   \n",
       "4  1634464800  23.95       24.23      1018        70      18.15  0.00      80   \n",
       "\n",
       "   visibility  wind_speed  wind_deg  wind_gust  \\\n",
       "0       10000        6.80        30       7.81   \n",
       "1       10000        6.47        32       7.21   \n",
       "2       10000        5.93        34       7.05   \n",
       "3       10000        5.65        32       6.94   \n",
       "4       10000        5.70        26       7.06   \n",
       "\n",
       "                                             weather   pop  \n",
       "0  [{'id': 802, 'main': 'Clouds', 'description': ...  0.03  \n",
       "1  [{'id': 802, 'main': 'Clouds', 'description': ...  0.16  \n",
       "2  [{'id': 803, 'main': 'Clouds', 'description': ...  0.12  \n",
       "3  [{'id': 803, 'main': 'Clouds', 'description': ...  0.08  \n",
       "4  [{'id': 803, 'main': 'Clouds', 'description': ...  0.11  "
      ]
     },
     "execution_count": 10,
     "metadata": {},
     "output_type": "execute_result"
    }
   ],
   "source": [
    "df_hourly.head()"
   ]
  },
  {
   "cell_type": "code",
   "execution_count": null,
   "metadata": {},
   "outputs": [],
   "source": []
  }
 ],
 "metadata": {
  "interpreter": {
   "hash": "c1b4cfe941b6d2466ad1fb5979e97da9cda8801728c8091b097ab734208fc00c"
  },
  "kernelspec": {
   "display_name": "Python 3.8.3 64-bit ('base': conda)",
   "name": "python3"
  },
  "language_info": {
   "codemirror_mode": {
    "name": "ipython",
    "version": 3
   },
   "file_extension": ".py",
   "mimetype": "text/x-python",
   "name": "python",
   "nbconvert_exporter": "python",
   "pygments_lexer": "ipython3",
   "version": "3.8.12"
  }
 },
 "nbformat": 4,
 "nbformat_minor": 2
}
