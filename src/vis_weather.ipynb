{
 "cells": [
  {
   "cell_type": "code",
   "execution_count": 1,
   "metadata": {
    "execution": {
     "iopub.execute_input": "2021-10-16T05:10:16.293086Z",
     "iopub.status.busy": "2021-10-16T05:10:16.292477Z",
     "iopub.status.idle": "2021-10-16T05:10:20.933458Z",
     "shell.execute_reply": "2021-10-16T05:10:20.933920Z"
    }
   },
   "outputs": [],
   "source": [
    "import json, yaml, requests\r\n",
    "from datetime import datetime\r\n",
    "from dateutil import tz\r\n",
    "import pandas as pd\r\n",
    "from PIL import Image\r\n",
    "from io import BytesIO\r\n",
    "import matplotlib.pyplot as plt\r\n",
    "import seaborn\r\n",
    "\r\n",
    "CONFIG_PATH = \"../config/config.yaml\""
   ]
  },
  {
   "cell_type": "code",
   "execution_count": 2,
   "metadata": {
    "execution": {
     "iopub.execute_input": "2021-10-16T05:10:20.939350Z",
     "iopub.status.busy": "2021-10-16T05:10:20.938589Z",
     "iopub.status.idle": "2021-10-16T05:10:20.943264Z",
     "shell.execute_reply": "2021-10-16T05:10:20.942930Z"
    }
   },
   "outputs": [],
   "source": [
    "with open('../newest_ts', 'r') as f:\r\n",
    "    newest_ts = f.read()\r\n",
    "\r\n",
    "data_path = f\"../data/data_{newest_ts}.json\"\r\n",
    "with open(data_path, 'r') as f:\r\n",
    "    data = json.load(f)\r\n",
    "\r\n",
    "with open(CONFIG_PATH, \"r\") as stream:\r\n",
    "    config = yaml.safe_load(stream)\r\n",
    "\r\n",
    "TIME_ZONE = config['time_zone']\r\n",
    "DATETIME_FORMAT = config['dt_format']"
   ]
  },
  {
   "cell_type": "code",
   "execution_count": 3,
   "metadata": {
    "execution": {
     "iopub.execute_input": "2021-10-16T05:10:20.947384Z",
     "iopub.status.busy": "2021-10-16T05:10:20.946984Z",
     "iopub.status.idle": "2021-10-16T05:10:20.951018Z",
     "shell.execute_reply": "2021-10-16T05:10:20.951343Z"
    }
   },
   "outputs": [
    {
     "name": "stdout",
     "output_type": "stream",
     "text": [
      "Recent query happens at 2021-10-16 13:10:12 (CST).\n"
     ]
    }
   ],
   "source": [
    "def ts2dt(ts, format=DATETIME_FORMAT):\r\n",
    "    dt = (datetime.utcfromtimestamp(int(ts))\r\n",
    "                    .replace(tzinfo=tz.tzutc())\r\n",
    "                    # .astimezone(tz.tzlocal())\r\n",
    "                    .astimezone(tz.gettz(TIME_ZONE)))\r\n",
    "    return dt.strftime(format), dt\r\n",
    "\r\n",
    "_, newest_dt = ts2dt(newest_ts)\r\n",
    "print(f\"Recent query happens at {newest_dt.strftime(DATETIME_FORMAT)} ({newest_dt.tzname()}).\")"
   ]
  },
  {
   "cell_type": "code",
   "execution_count": 4,
   "metadata": {
    "execution": {
     "iopub.execute_input": "2021-10-16T05:10:20.955672Z",
     "iopub.status.busy": "2021-10-16T05:10:20.954941Z",
     "iopub.status.idle": "2021-10-16T05:10:20.956366Z",
     "shell.execute_reply": "2021-10-16T05:10:20.956711Z"
    }
   },
   "outputs": [],
   "source": [
    "def degrees_to_cardinal(d):\r\n",
    "  dirs = ['N', 'NNE', 'NE', 'ENE', 'E', 'ESE', 'SE', 'SSE', 'S', 'SSW', 'SW', 'WSW', 'W', 'WNW', 'NW', 'NNW']\r\n",
    "  ix = int(round(d / (360. / len(dirs))))\r\n",
    "  return dirs[ix % len(dirs)]"
   ]
  },
  {
   "cell_type": "code",
   "execution_count": 5,
   "metadata": {
    "execution": {
     "iopub.execute_input": "2021-10-16T05:10:20.960198Z",
     "iopub.status.busy": "2021-10-16T05:10:20.959211Z",
     "iopub.status.idle": "2021-10-16T05:10:20.961998Z",
     "shell.execute_reply": "2021-10-16T05:10:20.961611Z"
    }
   },
   "outputs": [],
   "source": [
    "# data.keys()"
   ]
  },
  {
   "cell_type": "code",
   "execution_count": 6,
   "metadata": {
    "execution": {
     "iopub.execute_input": "2021-10-16T05:10:20.965395Z",
     "iopub.status.busy": "2021-10-16T05:10:20.964395Z",
     "iopub.status.idle": "2021-10-16T05:10:20.965930Z",
     "shell.execute_reply": "2021-10-16T05:10:20.966289Z"
    }
   },
   "outputs": [],
   "source": [
    "# data['current']"
   ]
  },
  {
   "cell_type": "code",
   "execution_count": 7,
   "metadata": {
    "execution": {
     "iopub.execute_input": "2021-10-16T05:10:20.976351Z",
     "iopub.status.busy": "2021-10-16T05:10:20.971679Z",
     "iopub.status.idle": "2021-10-16T05:10:21.240766Z",
     "shell.execute_reply": "2021-10-16T05:10:21.241446Z"
    }
   },
   "outputs": [
    {
     "data": {
      "image/png": "[encoded data removed]",
      "text/plain": [
       "<Figure size 216x216 with 1 Axes>"
      ]
     },
     "metadata": {
      "needs_background": "light"
     },
     "output_type": "display_data"
    },
    {
     "name": "stdout",
     "output_type": "stream",
     "text": [
      "Today, sun rises at 06:19 and sets at 17:57.\n",
      "Currently, the weather is Clouds (scattered clouds).\n",
      "The temperature is 28.52°C and it feels like 32.2°C.\n",
      "The UV index is 7.99, humidity is 73%.\n",
      "The pressure is 1013 hPa, percentage of cloud cover is 49%\n",
      "The wind comes from NNE direction with a speed 4.47 m/s.\n"
     ]
    }
   ],
   "source": [
    "current = data['current']\r\n",
    "\r\n",
    "fig, ax = plt.subplots(figsize=(3, 3))\r\n",
    "icon = requests.get(f\"http://openweathermap.org/img/wn/{current['weather'][0]['icon']}@2x.png\")\r\n",
    "im = Image.open(BytesIO(icon.content))\r\n",
    "plt.imshow(im)\r\n",
    "ax.set_axis_off()\r\n",
    "plt.show()\r\n",
    "\r\n",
    "print(f\"Today, sun rises at {ts2dt(current['sunrise'], '%H:%M')[0]} \\\r\n",
    "and sets at {ts2dt(current['sunset'], '%H:%M')[0]}.\\n\\\r\n",
    "Currently, the weather is {current['weather'][0]['main']} ({current['weather'][0]['description']}).\\n\\\r\n",
    "The temperature is {current['temp']}°C and it feels like {current['feels_like']}°C.\\n\\\r\n",
    "The UV index is {current['uvi']}, humidity is {current['humidity']}%.\\n\\\r\n",
    "The pressure is {current['pressure']} hPa, percentage of cloud cover is {current['clouds']}%\\n\\\r\n",
    "The wind comes from {degrees_to_cardinal(current['wind_deg'])} direction with a speed {current['wind_speed']} m/s.\")"
   ]
  },
  {
   "cell_type": "code",
   "execution_count": 8,
   "metadata": {
    "execution": {
     "iopub.execute_input": "2021-10-16T05:10:21.244565Z",
     "iopub.status.busy": "2021-10-16T05:10:21.244107Z",
     "iopub.status.idle": "2021-10-16T05:10:21.250576Z",
     "shell.execute_reply": "2021-10-16T05:10:21.251231Z"
    }
   },
   "outputs": [],
   "source": [
    "df_hourly = pd.DataFrame(data['hourly'])\r\n",
    "df_daily = pd.DataFrame(data['daily'])"
   ]
  },
  {
   "cell_type": "code",
   "execution_count": 9,
   "metadata": {
    "execution": {
     "iopub.execute_input": "2021-10-16T05:10:21.254410Z",
     "iopub.status.busy": "2021-10-16T05:10:21.253433Z",
     "iopub.status.idle": "2021-10-16T05:10:21.505491Z",
     "shell.execute_reply": "2021-10-16T05:10:21.505972Z"
    }
   },
   "outputs": [
    {
     "data": {
      "image/png": "[encoded data removed]",
      "text/plain": [
       "<Figure size 864x432 with 1 Axes>"
      ]
     },
     "metadata": {
      "needs_background": "light"
     },
     "output_type": "display_data"
    }
   ],
   "source": [
    "fig, ax = plt.subplots(figsize=(12, 6))\r\n",
    "plt.plot(df_hourly.temp, '.-', label='Temperature')\r\n",
    "plt.plot(df_hourly.feels_like, '.-', label='Feels Like')\r\n",
    "ax.set(title='Temperature in future 48 hours', xlabel='Time', ylabel='Temperature')\r\n",
    "ax.set_xticks(list(range(0, len(df_hourly), 2)))\r\n",
    "ax.set_xticklabels([ts2dt(ts, '%m-%d %H:%M')[0] for i, ts in enumerate(df_hourly.dt) if i%2==0], \r\n",
    "                   rotation=45, ha=\"right\")\r\n",
    "ax.locator_params(nbins=15, axis='y')\r\n",
    "plt.legend()\r\n",
    "plt.show()"
   ]
  },
  {
   "cell_type": "code",
   "execution_count": 10,
   "metadata": {
    "execution": {
     "iopub.execute_input": "2021-10-16T05:10:21.510602Z",
     "iopub.status.busy": "2021-10-16T05:10:21.510084Z",
     "iopub.status.idle": "2021-10-16T05:10:21.532050Z",
     "shell.execute_reply": "2021-10-16T05:10:21.532434Z"
    }
   },
   "outputs": [
    {
     "data": {
      "text/html": [
       "<div>\n",
       "<style scoped>\n",
       "    .dataframe tbody tr th:only-of-type {\n",
       "        vertical-align: middle;\n",
       "    }\n",
       "\n",
       "    .dataframe tbody tr th {\n",
       "        vertical-align: top;\n",
       "    }\n",
       "\n",
       "    .dataframe thead th {\n",
       "        text-align: right;\n",
       "    }\n",
       "</style>\n",
       "<table border=\"1\" class=\"dataframe\">\n",
       "  <thead>\n",
       "    <tr style=\"text-align: right;\">\n",
       "      <th></th>\n",
       "      <th>dt</th>\n",
       "      <th>temp</th>\n",
       "      <th>feels_like</th>\n",
       "      <th>pressure</th>\n",
       "      <th>humidity</th>\n",
       "      <th>dew_point</th>\n",
       "      <th>uvi</th>\n",
       "      <th>clouds</th>\n",
       "      <th>visibility</th>\n",
       "      <th>wind_speed</th>\n",
       "      <th>wind_deg</th>\n",
       "      <th>wind_gust</th>\n",
       "      <th>weather</th>\n",
       "      <th>pop</th>\n",
       "    </tr>\n",
       "  </thead>\n",
       "  <tbody>\n",
       "    <tr>\n",
       "      <th>0</th>\n",
       "      <td>1634360400</td>\n",
       "      <td>28.52</td>\n",
       "      <td>32.20</td>\n",
       "      <td>1013</td>\n",
       "      <td>73</td>\n",
       "      <td>23.21</td>\n",
       "      <td>7.99</td>\n",
       "      <td>49</td>\n",
       "      <td>10000</td>\n",
       "      <td>7.47</td>\n",
       "      <td>23</td>\n",
       "      <td>8.12</td>\n",
       "      <td>[{'id': 802, 'main': 'Clouds', 'description': ...</td>\n",
       "      <td>0.00</td>\n",
       "    </tr>\n",
       "    <tr>\n",
       "      <th>1</th>\n",
       "      <td>1634364000</td>\n",
       "      <td>28.32</td>\n",
       "      <td>31.45</td>\n",
       "      <td>1013</td>\n",
       "      <td>71</td>\n",
       "      <td>22.56</td>\n",
       "      <td>6.45</td>\n",
       "      <td>48</td>\n",
       "      <td>10000</td>\n",
       "      <td>7.51</td>\n",
       "      <td>23</td>\n",
       "      <td>8.17</td>\n",
       "      <td>[{'id': 802, 'main': 'Clouds', 'description': ...</td>\n",
       "      <td>0.04</td>\n",
       "    </tr>\n",
       "    <tr>\n",
       "      <th>2</th>\n",
       "      <td>1634367600</td>\n",
       "      <td>28.12</td>\n",
       "      <td>30.90</td>\n",
       "      <td>1013</td>\n",
       "      <td>70</td>\n",
       "      <td>22.13</td>\n",
       "      <td>3.69</td>\n",
       "      <td>47</td>\n",
       "      <td>10000</td>\n",
       "      <td>7.58</td>\n",
       "      <td>20</td>\n",
       "      <td>8.16</td>\n",
       "      <td>[{'id': 802, 'main': 'Clouds', 'description': ...</td>\n",
       "      <td>0.16</td>\n",
       "    </tr>\n",
       "    <tr>\n",
       "      <th>3</th>\n",
       "      <td>1634371200</td>\n",
       "      <td>27.53</td>\n",
       "      <td>29.78</td>\n",
       "      <td>1013</td>\n",
       "      <td>70</td>\n",
       "      <td>21.57</td>\n",
       "      <td>1.73</td>\n",
       "      <td>48</td>\n",
       "      <td>10000</td>\n",
       "      <td>8.21</td>\n",
       "      <td>16</td>\n",
       "      <td>9.11</td>\n",
       "      <td>[{'id': 802, 'main': 'Clouds', 'description': ...</td>\n",
       "      <td>0.26</td>\n",
       "    </tr>\n",
       "    <tr>\n",
       "      <th>4</th>\n",
       "      <td>1634374800</td>\n",
       "      <td>26.21</td>\n",
       "      <td>26.21</td>\n",
       "      <td>1014</td>\n",
       "      <td>69</td>\n",
       "      <td>20.07</td>\n",
       "      <td>0.48</td>\n",
       "      <td>43</td>\n",
       "      <td>10000</td>\n",
       "      <td>9.02</td>\n",
       "      <td>15</td>\n",
       "      <td>10.58</td>\n",
       "      <td>[{'id': 802, 'main': 'Clouds', 'description': ...</td>\n",
       "      <td>0.26</td>\n",
       "    </tr>\n",
       "  </tbody>\n",
       "</table>\n",
       "</div>"
      ],
      "text/plain": [
       "           dt   temp  feels_like  pressure  humidity  dew_point   uvi  clouds  \\\n",
       "0  1634360400  28.52       32.20      1013        73      23.21  7.99      49   \n",
       "1  1634364000  28.32       31.45      1013        71      22.56  6.45      48   \n",
       "2  1634367600  28.12       30.90      1013        70      22.13  3.69      47   \n",
       "3  1634371200  27.53       29.78      1013        70      21.57  1.73      48   \n",
       "4  1634374800  26.21       26.21      1014        69      20.07  0.48      43   \n",
       "\n",
       "   visibility  wind_speed  wind_deg  wind_gust  \\\n",
       "0       10000        7.47        23       8.12   \n",
       "1       10000        7.51        23       8.17   \n",
       "2       10000        7.58        20       8.16   \n",
       "3       10000        8.21        16       9.11   \n",
       "4       10000        9.02        15      10.58   \n",
       "\n",
       "                                             weather   pop  \n",
       "0  [{'id': 802, 'main': 'Clouds', 'description': ...  0.00  \n",
       "1  [{'id': 802, 'main': 'Clouds', 'description': ...  0.04  \n",
       "2  [{'id': 802, 'main': 'Clouds', 'description': ...  0.16  \n",
       "3  [{'id': 802, 'main': 'Clouds', 'description': ...  0.26  \n",
       "4  [{'id': 802, 'main': 'Clouds', 'description': ...  0.26  "
      ]
     },
     "execution_count": 10,
     "metadata": {},
     "output_type": "execute_result"
    }
   ],
   "source": [
    "df_hourly.head()"
   ]
  },
  {
   "cell_type": "code",
   "execution_count": null,
   "metadata": {},
   "outputs": [],
   "source": []
  }
 ],
 "metadata": {
  "interpreter": {
   "hash": "c1b4cfe941b6d2466ad1fb5979e97da9cda8801728c8091b097ab734208fc00c"
  },
  "kernelspec": {
   "display_name": "Python 3.8.3 64-bit ('base': conda)",
   "name": "python3"
  },
  "language_info": {
   "codemirror_mode": {
    "name": "ipython",
    "version": 3
   },
   "file_extension": ".py",
   "mimetype": "text/x-python",
   "name": "python",
   "nbconvert_exporter": "python",
   "pygments_lexer": "ipython3",
   "version": "3.8.12"
  }
 },
 "nbformat": 4,
 "nbformat_minor": 2
}
