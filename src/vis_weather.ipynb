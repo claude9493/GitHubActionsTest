{
 "cells": [
  {
   "cell_type": "code",
   "execution_count": 1,
   "metadata": {
    "execution": {
     "iopub.execute_input": "2021-09-10T07:36:24.790745Z",
     "iopub.status.busy": "2021-09-10T07:36:24.789943Z",
     "iopub.status.idle": "2021-09-10T07:36:26.176487Z",
     "shell.execute_reply": "2021-09-10T07:36:26.175536Z"
    }
   },
   "outputs": [],
   "source": [
    "import json, yaml, requests\r\n",
    "from datetime import datetime\r\n",
    "from dateutil import tz\r\n",
    "import pandas as pd\r\n",
    "from PIL import Image\r\n",
    "from io import BytesIO\r\n",
    "import matplotlib.pyplot as plt\r\n",
    "import seaborn\r\n",
    "\r\n",
    "CONFIG_PATH = \"../config/config.yaml\""
   ]
  },
  {
   "cell_type": "code",
   "execution_count": 2,
   "metadata": {
    "execution": {
     "iopub.execute_input": "2021-09-10T07:36:26.182069Z",
     "iopub.status.busy": "2021-09-10T07:36:26.179554Z",
     "iopub.status.idle": "2021-09-10T07:36:26.188641Z",
     "shell.execute_reply": "2021-09-10T07:36:26.187836Z"
    }
   },
   "outputs": [],
   "source": [
    "with open('../newest_ts', 'r') as f:\r\n",
    "    newest_ts = f.read()\r\n",
    "\r\n",
    "data_path = f\"../data/data_{newest_ts}.json\"\r\n",
    "with open(data_path, 'r') as f:\r\n",
    "    data = json.load(f)\r\n",
    "\r\n",
    "with open(CONFIG_PATH, \"r\") as stream:\r\n",
    "    config = yaml.safe_load(stream)\r\n",
    "\r\n",
    "TIME_ZONE = config['time_zone']\r\n",
    "DATETIME_FORMAT = config['dt_format']"
   ]
  },
  {
   "cell_type": "code",
   "execution_count": 3,
   "metadata": {
    "execution": {
     "iopub.execute_input": "2021-09-10T07:36:26.194984Z",
     "iopub.status.busy": "2021-09-10T07:36:26.193649Z",
     "iopub.status.idle": "2021-09-10T07:36:26.197708Z",
     "shell.execute_reply": "2021-09-10T07:36:26.198111Z"
    }
   },
   "outputs": [
    {
     "name": "stdout",
     "output_type": "stream",
     "text": [
      "Recent query happens at 2021-09-10 15:36:21 (CST).\n"
     ]
    }
   ],
   "source": [
    "def ts2dt(ts, format=DATETIME_FORMAT):\r\n",
    "    dt = (datetime.utcfromtimestamp(int(ts))\r\n",
    "                    .replace(tzinfo=tz.tzutc())\r\n",
    "                    # .astimezone(tz.tzlocal())\r\n",
    "                    .astimezone(tz.gettz(TIME_ZONE)))\r\n",
    "    return dt.strftime(format), dt\r\n",
    "\r\n",
    "_, newest_dt = ts2dt(newest_ts)\r\n",
    "print(f\"Recent query happens at {newest_dt.strftime(DATETIME_FORMAT)} ({newest_dt.tzname()}).\")"
   ]
  },
  {
   "cell_type": "code",
   "execution_count": 4,
   "metadata": {
    "execution": {
     "iopub.execute_input": "2021-09-10T07:36:26.203473Z",
     "iopub.status.busy": "2021-09-10T07:36:26.202088Z",
     "iopub.status.idle": "2021-09-10T07:36:26.204065Z",
     "shell.execute_reply": "2021-09-10T07:36:26.204477Z"
    }
   },
   "outputs": [],
   "source": [
    "def degrees_to_cardinal(d):\r\n",
    "  dirs = ['N', 'NNE', 'NE', 'ENE', 'E', 'ESE', 'SE', 'SSE', 'S', 'SSW', 'SW', 'WSW', 'W', 'WNW', 'NW', 'NNW']\r\n",
    "  ix = int(round(d / (360. / len(dirs))))\r\n",
    "  return dirs[ix % len(dirs)]"
   ]
  },
  {
   "cell_type": "code",
   "execution_count": 5,
   "metadata": {
    "execution": {
     "iopub.execute_input": "2021-09-10T07:36:26.208459Z",
     "iopub.status.busy": "2021-09-10T07:36:26.207411Z",
     "iopub.status.idle": "2021-09-10T07:36:26.209025Z",
     "shell.execute_reply": "2021-09-10T07:36:26.209424Z"
    }
   },
   "outputs": [],
   "source": [
    "# data.keys()"
   ]
  },
  {
   "cell_type": "code",
   "execution_count": 6,
   "metadata": {
    "execution": {
     "iopub.execute_input": "2021-09-10T07:36:26.212978Z",
     "iopub.status.busy": "2021-09-10T07:36:26.212013Z",
     "iopub.status.idle": "2021-09-10T07:36:26.213841Z",
     "shell.execute_reply": "2021-09-10T07:36:26.214267Z"
    }
   },
   "outputs": [],
   "source": [
    "# data['current']"
   ]
  },
  {
   "cell_type": "code",
   "execution_count": 7,
   "metadata": {
    "execution": {
     "iopub.execute_input": "2021-09-10T07:36:26.231236Z",
     "iopub.status.busy": "2021-09-10T07:36:26.219886Z",
     "iopub.status.idle": "2021-09-10T07:36:26.648999Z",
     "shell.execute_reply": "2021-09-10T07:36:26.649721Z"
    }
   },
   "outputs": [
    {
     "data": {
      "image/png": "[encoded data removed]",
      "text/plain": [
       "<Figure size 216x216 with 1 Axes>"
      ]
     },
     "metadata": {
      "needs_background": "light"
     },
     "output_type": "display_data"
    },
    {
     "name": "stdout",
     "output_type": "stream",
     "text": [
      "Today, sun rises at 06:08 and sets at 18:32.\n",
      "Currently, the weather is Clouds (few clouds).\n",
      "The temperature is 32.75°C and it feels like 39.75°C.\n",
      "The UV index is 2.47, humidity is 72%.\n",
      "The pressure is 1007 hPa, percentage of cloud cover is 21%\n",
      "The wind comes from ESE direction with a speed 4.67 m/s.\n"
     ]
    }
   ],
   "source": [
    "current = data['current']\r\n",
    "\r\n",
    "fig, ax = plt.subplots(figsize=(3, 3))\r\n",
    "icon = requests.get(f\"http://openweathermap.org/img/wn/{current['weather'][0]['icon']}@2x.png\")\r\n",
    "im = Image.open(BytesIO(icon.content))\r\n",
    "plt.imshow(im)\r\n",
    "ax.set_axis_off()\r\n",
    "plt.show()\r\n",
    "\r\n",
    "print(f\"Today, sun rises at {ts2dt(current['sunrise'], '%H:%M')[0]} \\\r\n",
    "and sets at {ts2dt(current['sunset'], '%H:%M')[0]}.\\n\\\r\n",
    "Currently, the weather is {current['weather'][0]['main']} ({current['weather'][0]['description']}).\\n\\\r\n",
    "The temperature is {current['temp']}°C and it feels like {current['feels_like']}°C.\\n\\\r\n",
    "The UV index is {current['uvi']}, humidity is {current['humidity']}%.\\n\\\r\n",
    "The pressure is {current['pressure']} hPa, percentage of cloud cover is {current['clouds']}%\\n\\\r\n",
    "The wind comes from {degrees_to_cardinal(current['wind_deg'])} direction with a speed {current['wind_speed']} m/s.\")"
   ]
  },
  {
   "cell_type": "code",
   "execution_count": 8,
   "metadata": {
    "execution": {
     "iopub.execute_input": "2021-09-10T07:36:26.653206Z",
     "iopub.status.busy": "2021-09-10T07:36:26.652018Z",
     "iopub.status.idle": "2021-09-10T07:36:26.659412Z",
     "shell.execute_reply": "2021-09-10T07:36:26.660089Z"
    }
   },
   "outputs": [],
   "source": [
    "df_hourly = pd.DataFrame(data['hourly'])\r\n",
    "df_daily = pd.DataFrame(data['daily'])"
   ]
  },
  {
   "cell_type": "code",
   "execution_count": 9,
   "metadata": {
    "execution": {
     "iopub.execute_input": "2021-09-10T07:36:26.663496Z",
     "iopub.status.busy": "2021-09-10T07:36:26.662356Z",
     "iopub.status.idle": "2021-09-10T07:36:26.950170Z",
     "shell.execute_reply": "2021-09-10T07:36:26.950912Z"
    }
   },
   "outputs": [
    {
     "data": {
      "image/png": "[encoded data removed]",
      "text/plain": [
       "<Figure size 864x432 with 1 Axes>"
      ]
     },
     "metadata": {
      "needs_background": "light"
     },
     "output_type": "display_data"
    }
   ],
   "source": [
    "fig, ax = plt.subplots(figsize=(12, 6))\r\n",
    "plt.plot(df_hourly.temp, '.-', label='Temperature')\r\n",
    "plt.plot(df_hourly.feels_like, '.-', label='Feels Like')\r\n",
    "ax.set(title='Temperature in future 48 hours', xlabel='Time', ylabel='Temperature')\r\n",
    "ax.set_xticks(list(range(0, len(df_hourly), 2)))\r\n",
    "ax.set_xticklabels([ts2dt(ts, '%m-%d %H:%M')[0] for i, ts in enumerate(df_hourly.dt) if i%2==0], \r\n",
    "                   rotation=45, ha=\"right\")\r\n",
    "ax.locator_params(nbins=15, axis='y')\r\n",
    "plt.legend()\r\n",
    "plt.show()"
   ]
  },
  {
   "cell_type": "code",
   "execution_count": 10,
   "metadata": {
    "execution": {
     "iopub.execute_input": "2021-09-10T07:36:26.962863Z",
     "iopub.status.busy": "2021-09-10T07:36:26.955074Z",
     "iopub.status.idle": "2021-09-10T07:36:26.973801Z",
     "shell.execute_reply": "2021-09-10T07:36:26.973364Z"
    }
   },
   "outputs": [
    {
     "data": {
      "text/html": [
       "<div>\n",
       "<style scoped>\n",
       "    .dataframe tbody tr th:only-of-type {\n",
       "        vertical-align: middle;\n",
       "    }\n",
       "\n",
       "    .dataframe tbody tr th {\n",
       "        vertical-align: top;\n",
       "    }\n",
       "\n",
       "    .dataframe thead th {\n",
       "        text-align: right;\n",
       "    }\n",
       "</style>\n",
       "<table border=\"1\" class=\"dataframe\">\n",
       "  <thead>\n",
       "    <tr style=\"text-align: right;\">\n",
       "      <th></th>\n",
       "      <th>dt</th>\n",
       "      <th>temp</th>\n",
       "      <th>feels_like</th>\n",
       "      <th>pressure</th>\n",
       "      <th>humidity</th>\n",
       "      <th>dew_point</th>\n",
       "      <th>uvi</th>\n",
       "      <th>clouds</th>\n",
       "      <th>visibility</th>\n",
       "      <th>wind_speed</th>\n",
       "      <th>wind_deg</th>\n",
       "      <th>wind_gust</th>\n",
       "      <th>weather</th>\n",
       "      <th>pop</th>\n",
       "      <th>rain</th>\n",
       "    </tr>\n",
       "  </thead>\n",
       "  <tbody>\n",
       "    <tr>\n",
       "      <th>0</th>\n",
       "      <td>1631257200</td>\n",
       "      <td>32.25</td>\n",
       "      <td>39.25</td>\n",
       "      <td>1007</td>\n",
       "      <td>71</td>\n",
       "      <td>26.32</td>\n",
       "      <td>4.81</td>\n",
       "      <td>19</td>\n",
       "      <td>10000</td>\n",
       "      <td>4.51</td>\n",
       "      <td>98</td>\n",
       "      <td>5.03</td>\n",
       "      <td>[{'id': 801, 'main': 'Clouds', 'description': ...</td>\n",
       "      <td>0.07</td>\n",
       "      <td>NaN</td>\n",
       "    </tr>\n",
       "    <tr>\n",
       "      <th>1</th>\n",
       "      <td>1631260800</td>\n",
       "      <td>32.75</td>\n",
       "      <td>39.75</td>\n",
       "      <td>1007</td>\n",
       "      <td>72</td>\n",
       "      <td>27.03</td>\n",
       "      <td>2.47</td>\n",
       "      <td>21</td>\n",
       "      <td>10000</td>\n",
       "      <td>4.67</td>\n",
       "      <td>110</td>\n",
       "      <td>5.38</td>\n",
       "      <td>[{'id': 801, 'main': 'Clouds', 'description': ...</td>\n",
       "      <td>0.15</td>\n",
       "      <td>NaN</td>\n",
       "    </tr>\n",
       "    <tr>\n",
       "      <th>2</th>\n",
       "      <td>1631264400</td>\n",
       "      <td>32.07</td>\n",
       "      <td>39.07</td>\n",
       "      <td>1007</td>\n",
       "      <td>73</td>\n",
       "      <td>26.62</td>\n",
       "      <td>0.84</td>\n",
       "      <td>24</td>\n",
       "      <td>10000</td>\n",
       "      <td>4.25</td>\n",
       "      <td>105</td>\n",
       "      <td>5.50</td>\n",
       "      <td>[{'id': 801, 'main': 'Clouds', 'description': ...</td>\n",
       "      <td>0.16</td>\n",
       "      <td>NaN</td>\n",
       "    </tr>\n",
       "    <tr>\n",
       "      <th>3</th>\n",
       "      <td>1631268000</td>\n",
       "      <td>31.17</td>\n",
       "      <td>38.17</td>\n",
       "      <td>1007</td>\n",
       "      <td>75</td>\n",
       "      <td>26.21</td>\n",
       "      <td>0.17</td>\n",
       "      <td>29</td>\n",
       "      <td>10000</td>\n",
       "      <td>3.40</td>\n",
       "      <td>98</td>\n",
       "      <td>4.85</td>\n",
       "      <td>[{'id': 802, 'main': 'Clouds', 'description': ...</td>\n",
       "      <td>0.16</td>\n",
       "      <td>NaN</td>\n",
       "    </tr>\n",
       "    <tr>\n",
       "      <th>4</th>\n",
       "      <td>1631271600</td>\n",
       "      <td>30.06</td>\n",
       "      <td>37.06</td>\n",
       "      <td>1006</td>\n",
       "      <td>78</td>\n",
       "      <td>25.80</td>\n",
       "      <td>0.00</td>\n",
       "      <td>29</td>\n",
       "      <td>10000</td>\n",
       "      <td>2.67</td>\n",
       "      <td>104</td>\n",
       "      <td>3.99</td>\n",
       "      <td>[{'id': 802, 'main': 'Clouds', 'description': ...</td>\n",
       "      <td>0.18</td>\n",
       "      <td>NaN</td>\n",
       "    </tr>\n",
       "  </tbody>\n",
       "</table>\n",
       "</div>"
      ],
      "text/plain": [
       "           dt   temp  feels_like  pressure  humidity  dew_point   uvi  clouds  \\\n",
       "0  1631257200  32.25       39.25      1007        71      26.32  4.81      19   \n",
       "1  1631260800  32.75       39.75      1007        72      27.03  2.47      21   \n",
       "2  1631264400  32.07       39.07      1007        73      26.62  0.84      24   \n",
       "3  1631268000  31.17       38.17      1007        75      26.21  0.17      29   \n",
       "4  1631271600  30.06       37.06      1006        78      25.80  0.00      29   \n",
       "\n",
       "   visibility  wind_speed  wind_deg  wind_gust  \\\n",
       "0       10000        4.51        98       5.03   \n",
       "1       10000        4.67       110       5.38   \n",
       "2       10000        4.25       105       5.50   \n",
       "3       10000        3.40        98       4.85   \n",
       "4       10000        2.67       104       3.99   \n",
       "\n",
       "                                             weather   pop rain  \n",
       "0  [{'id': 801, 'main': 'Clouds', 'description': ...  0.07  NaN  \n",
       "1  [{'id': 801, 'main': 'Clouds', 'description': ...  0.15  NaN  \n",
       "2  [{'id': 801, 'main': 'Clouds', 'description': ...  0.16  NaN  \n",
       "3  [{'id': 802, 'main': 'Clouds', 'description': ...  0.16  NaN  \n",
       "4  [{'id': 802, 'main': 'Clouds', 'description': ...  0.18  NaN  "
      ]
     },
     "execution_count": 10,
     "metadata": {},
     "output_type": "execute_result"
    }
   ],
   "source": [
    "df_hourly.head()"
   ]
  },
  {
   "cell_type": "code",
   "execution_count": null,
   "metadata": {},
   "outputs": [],
   "source": []
  }
 ],
 "metadata": {
  "interpreter": {
   "hash": "c1b4cfe941b6d2466ad1fb5979e97da9cda8801728c8091b097ab734208fc00c"
  },
  "kernelspec": {
   "display_name": "Python 3.8.3 64-bit ('base': conda)",
   "name": "python3"
  },
  "language_info": {
   "codemirror_mode": {
    "name": "ipython",
    "version": 3
   },
   "file_extension": ".py",
   "mimetype": "text/x-python",
   "name": "python",
   "nbconvert_exporter": "python",
   "pygments_lexer": "ipython3",
   "version": "3.8.11"
  }
 },
 "nbformat": 4,
 "nbformat_minor": 2
}
