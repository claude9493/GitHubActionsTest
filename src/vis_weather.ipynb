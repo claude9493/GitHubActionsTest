{
 "cells": [
  {
   "cell_type": "code",
   "execution_count": 1,
   "metadata": {
    "execution": {
     "iopub.execute_input": "2021-10-08T02:01:13.754851Z",
     "iopub.status.busy": "2021-10-08T02:01:13.754207Z",
     "iopub.status.idle": "2021-10-08T02:01:16.744769Z",
     "shell.execute_reply": "2021-10-08T02:01:16.744100Z"
    }
   },
   "outputs": [],
   "source": [
    "import json, yaml, requests\r\n",
    "from datetime import datetime\r\n",
    "from dateutil import tz\r\n",
    "import pandas as pd\r\n",
    "from PIL import Image\r\n",
    "from io import BytesIO\r\n",
    "import matplotlib.pyplot as plt\r\n",
    "import seaborn\r\n",
    "\r\n",
    "CONFIG_PATH = \"../config/config.yaml\""
   ]
  },
  {
   "cell_type": "code",
   "execution_count": 2,
   "metadata": {
    "execution": {
     "iopub.execute_input": "2021-10-08T02:01:16.752633Z",
     "iopub.status.busy": "2021-10-08T02:01:16.749594Z",
     "iopub.status.idle": "2021-10-08T02:01:16.755621Z",
     "shell.execute_reply": "2021-10-08T02:01:16.755106Z"
    }
   },
   "outputs": [],
   "source": [
    "with open('../newest_ts', 'r') as f:\r\n",
    "    newest_ts = f.read()\r\n",
    "\r\n",
    "data_path = f\"../data/data_{newest_ts}.json\"\r\n",
    "with open(data_path, 'r') as f:\r\n",
    "    data = json.load(f)\r\n",
    "\r\n",
    "with open(CONFIG_PATH, \"r\") as stream:\r\n",
    "    config = yaml.safe_load(stream)\r\n",
    "\r\n",
    "TIME_ZONE = config['time_zone']\r\n",
    "DATETIME_FORMAT = config['dt_format']"
   ]
  },
  {
   "cell_type": "code",
   "execution_count": 3,
   "metadata": {
    "execution": {
     "iopub.execute_input": "2021-10-08T02:01:16.761045Z",
     "iopub.status.busy": "2021-10-08T02:01:16.760507Z",
     "iopub.status.idle": "2021-10-08T02:01:16.766565Z",
     "shell.execute_reply": "2021-10-08T02:01:16.766996Z"
    }
   },
   "outputs": [
    {
     "name": "stdout",
     "output_type": "stream",
     "text": [
      "Recent query happens at 2021-10-08 10:01:09 (CST).\n"
     ]
    }
   ],
   "source": [
    "def ts2dt(ts, format=DATETIME_FORMAT):\r\n",
    "    dt = (datetime.utcfromtimestamp(int(ts))\r\n",
    "                    .replace(tzinfo=tz.tzutc())\r\n",
    "                    # .astimezone(tz.tzlocal())\r\n",
    "                    .astimezone(tz.gettz(TIME_ZONE)))\r\n",
    "    return dt.strftime(format), dt\r\n",
    "\r\n",
    "_, newest_dt = ts2dt(newest_ts)\r\n",
    "print(f\"Recent query happens at {newest_dt.strftime(DATETIME_FORMAT)} ({newest_dt.tzname()}).\")"
   ]
  },
  {
   "cell_type": "code",
   "execution_count": 4,
   "metadata": {
    "execution": {
     "iopub.execute_input": "2021-10-08T02:01:16.773259Z",
     "iopub.status.busy": "2021-10-08T02:01:16.771634Z",
     "iopub.status.idle": "2021-10-08T02:01:16.774085Z",
     "shell.execute_reply": "2021-10-08T02:01:16.774616Z"
    }
   },
   "outputs": [],
   "source": [
    "def degrees_to_cardinal(d):\r\n",
    "  dirs = ['N', 'NNE', 'NE', 'ENE', 'E', 'ESE', 'SE', 'SSE', 'S', 'SSW', 'SW', 'WSW', 'W', 'WNW', 'NW', 'NNW']\r\n",
    "  ix = int(round(d / (360. / len(dirs))))\r\n",
    "  return dirs[ix % len(dirs)]"
   ]
  },
  {
   "cell_type": "code",
   "execution_count": 5,
   "metadata": {
    "execution": {
     "iopub.execute_input": "2021-10-08T02:01:16.779709Z",
     "iopub.status.busy": "2021-10-08T02:01:16.778192Z",
     "iopub.status.idle": "2021-10-08T02:01:16.780261Z",
     "shell.execute_reply": "2021-10-08T02:01:16.780670Z"
    }
   },
   "outputs": [],
   "source": [
    "# data.keys()"
   ]
  },
  {
   "cell_type": "code",
   "execution_count": 6,
   "metadata": {
    "execution": {
     "iopub.execute_input": "2021-10-08T02:01:16.785165Z",
     "iopub.status.busy": "2021-10-08T02:01:16.783444Z",
     "iopub.status.idle": "2021-10-08T02:01:16.785740Z",
     "shell.execute_reply": "2021-10-08T02:01:16.786172Z"
    }
   },
   "outputs": [],
   "source": [
    "# data['current']"
   ]
  },
  {
   "cell_type": "code",
   "execution_count": 7,
   "metadata": {
    "execution": {
     "iopub.execute_input": "2021-10-08T02:01:16.807441Z",
     "iopub.status.busy": "2021-10-08T02:01:16.806540Z",
     "iopub.status.idle": "2021-10-08T02:01:17.201612Z",
     "shell.execute_reply": "2021-10-08T02:01:17.202306Z"
    }
   },
   "outputs": [
    {
     "data": {
      "image/png": "[encoded data removed]",
      "text/plain": [
       "<Figure size 216x216 with 1 Axes>"
      ]
     },
     "metadata": {
      "needs_background": "light"
     },
     "output_type": "display_data"
    },
    {
     "name": "stdout",
     "output_type": "stream",
     "text": [
      "Today, sun rises at 06:16 and sets at 18:04.\n",
      "Currently, the weather is Rain (heavy intensity rain).\n",
      "The temperature is 25.29°C and it feels like 26.38°C.\n",
      "The UV index is 0.13, humidity is 96%.\n",
      "The pressure is 1004 hPa, percentage of cloud cover is 100%\n",
      "The wind comes from NNW direction with a speed 0.89 m/s.\n"
     ]
    }
   ],
   "source": [
    "current = data['current']\r\n",
    "\r\n",
    "fig, ax = plt.subplots(figsize=(3, 3))\r\n",
    "icon = requests.get(f\"http://openweathermap.org/img/wn/{current['weather'][0]['icon']}@2x.png\")\r\n",
    "im = Image.open(BytesIO(icon.content))\r\n",
    "plt.imshow(im)\r\n",
    "ax.set_axis_off()\r\n",
    "plt.show()\r\n",
    "\r\n",
    "print(f\"Today, sun rises at {ts2dt(current['sunrise'], '%H:%M')[0]} \\\r\n",
    "and sets at {ts2dt(current['sunset'], '%H:%M')[0]}.\\n\\\r\n",
    "Currently, the weather is {current['weather'][0]['main']} ({current['weather'][0]['description']}).\\n\\\r\n",
    "The temperature is {current['temp']}°C and it feels like {current['feels_like']}°C.\\n\\\r\n",
    "The UV index is {current['uvi']}, humidity is {current['humidity']}%.\\n\\\r\n",
    "The pressure is {current['pressure']} hPa, percentage of cloud cover is {current['clouds']}%\\n\\\r\n",
    "The wind comes from {degrees_to_cardinal(current['wind_deg'])} direction with a speed {current['wind_speed']} m/s.\")"
   ]
  },
  {
   "cell_type": "code",
   "execution_count": 8,
   "metadata": {
    "execution": {
     "iopub.execute_input": "2021-10-08T02:01:17.205658Z",
     "iopub.status.busy": "2021-10-08T02:01:17.204683Z",
     "iopub.status.idle": "2021-10-08T02:01:17.213264Z",
     "shell.execute_reply": "2021-10-08T02:01:17.214173Z"
    }
   },
   "outputs": [],
   "source": [
    "df_hourly = pd.DataFrame(data['hourly'])\r\n",
    "df_daily = pd.DataFrame(data['daily'])"
   ]
  },
  {
   "cell_type": "code",
   "execution_count": 9,
   "metadata": {
    "execution": {
     "iopub.execute_input": "2021-10-08T02:01:17.217759Z",
     "iopub.status.busy": "2021-10-08T02:01:17.216761Z",
     "iopub.status.idle": "2021-10-08T02:01:17.555368Z",
     "shell.execute_reply": "2021-10-08T02:01:17.554658Z"
    }
   },
   "outputs": [
    {
     "data": {
      "image/png": "[encoded data removed]",
      "text/plain": [
       "<Figure size 864x432 with 1 Axes>"
      ]
     },
     "metadata": {
      "needs_background": "light"
     },
     "output_type": "display_data"
    }
   ],
   "source": [
    "fig, ax = plt.subplots(figsize=(12, 6))\r\n",
    "plt.plot(df_hourly.temp, '.-', label='Temperature')\r\n",
    "plt.plot(df_hourly.feels_like, '.-', label='Feels Like')\r\n",
    "ax.set(title='Temperature in future 48 hours', xlabel='Time', ylabel='Temperature')\r\n",
    "ax.set_xticks(list(range(0, len(df_hourly), 2)))\r\n",
    "ax.set_xticklabels([ts2dt(ts, '%m-%d %H:%M')[0] for i, ts in enumerate(df_hourly.dt) if i%2==0], \r\n",
    "                   rotation=45, ha=\"right\")\r\n",
    "ax.locator_params(nbins=15, axis='y')\r\n",
    "plt.legend()\r\n",
    "plt.show()"
   ]
  },
  {
   "cell_type": "code",
   "execution_count": 10,
   "metadata": {
    "execution": {
     "iopub.execute_input": "2021-10-08T02:01:17.569123Z",
     "iopub.status.busy": "2021-10-08T02:01:17.559857Z",
     "iopub.status.idle": "2021-10-08T02:01:17.584421Z",
     "shell.execute_reply": "2021-10-08T02:01:17.583977Z"
    }
   },
   "outputs": [
    {
     "data": {
      "text/html": [
       "<div>\n",
       "<style scoped>\n",
       "    .dataframe tbody tr th:only-of-type {\n",
       "        vertical-align: middle;\n",
       "    }\n",
       "\n",
       "    .dataframe tbody tr th {\n",
       "        vertical-align: top;\n",
       "    }\n",
       "\n",
       "    .dataframe thead th {\n",
       "        text-align: right;\n",
       "    }\n",
       "</style>\n",
       "<table border=\"1\" class=\"dataframe\">\n",
       "  <thead>\n",
       "    <tr style=\"text-align: right;\">\n",
       "      <th></th>\n",
       "      <th>dt</th>\n",
       "      <th>temp</th>\n",
       "      <th>feels_like</th>\n",
       "      <th>pressure</th>\n",
       "      <th>humidity</th>\n",
       "      <th>dew_point</th>\n",
       "      <th>uvi</th>\n",
       "      <th>clouds</th>\n",
       "      <th>visibility</th>\n",
       "      <th>wind_speed</th>\n",
       "      <th>wind_deg</th>\n",
       "      <th>wind_gust</th>\n",
       "      <th>weather</th>\n",
       "      <th>pop</th>\n",
       "      <th>rain</th>\n",
       "    </tr>\n",
       "  </thead>\n",
       "  <tbody>\n",
       "    <tr>\n",
       "      <th>0</th>\n",
       "      <td>1633658400</td>\n",
       "      <td>25.29</td>\n",
       "      <td>26.38</td>\n",
       "      <td>1004</td>\n",
       "      <td>96</td>\n",
       "      <td>24.61</td>\n",
       "      <td>0.13</td>\n",
       "      <td>100</td>\n",
       "      <td>2805</td>\n",
       "      <td>9.26</td>\n",
       "      <td>124</td>\n",
       "      <td>13.78</td>\n",
       "      <td>[{'id': 502, 'main': 'Rain', 'description': 'h...</td>\n",
       "      <td>1.0</td>\n",
       "      <td>{'1h': 7.49}</td>\n",
       "    </tr>\n",
       "    <tr>\n",
       "      <th>1</th>\n",
       "      <td>1633662000</td>\n",
       "      <td>25.41</td>\n",
       "      <td>26.49</td>\n",
       "      <td>1004</td>\n",
       "      <td>95</td>\n",
       "      <td>24.55</td>\n",
       "      <td>0.19</td>\n",
       "      <td>100</td>\n",
       "      <td>3861</td>\n",
       "      <td>9.59</td>\n",
       "      <td>116</td>\n",
       "      <td>13.26</td>\n",
       "      <td>[{'id': 501, 'main': 'Rain', 'description': 'm...</td>\n",
       "      <td>1.0</td>\n",
       "      <td>{'1h': 2.05}</td>\n",
       "    </tr>\n",
       "    <tr>\n",
       "      <th>2</th>\n",
       "      <td>1633665600</td>\n",
       "      <td>25.55</td>\n",
       "      <td>26.62</td>\n",
       "      <td>1005</td>\n",
       "      <td>94</td>\n",
       "      <td>24.51</td>\n",
       "      <td>0.42</td>\n",
       "      <td>100</td>\n",
       "      <td>3940</td>\n",
       "      <td>8.72</td>\n",
       "      <td>108</td>\n",
       "      <td>12.45</td>\n",
       "      <td>[{'id': 501, 'main': 'Rain', 'description': 'm...</td>\n",
       "      <td>1.0</td>\n",
       "      <td>{'1h': 1.78}</td>\n",
       "    </tr>\n",
       "    <tr>\n",
       "      <th>3</th>\n",
       "      <td>1633669200</td>\n",
       "      <td>25.58</td>\n",
       "      <td>26.65</td>\n",
       "      <td>1005</td>\n",
       "      <td>94</td>\n",
       "      <td>24.54</td>\n",
       "      <td>0.42</td>\n",
       "      <td>100</td>\n",
       "      <td>3264</td>\n",
       "      <td>9.30</td>\n",
       "      <td>106</td>\n",
       "      <td>13.06</td>\n",
       "      <td>[{'id': 502, 'main': 'Rain', 'description': 'h...</td>\n",
       "      <td>1.0</td>\n",
       "      <td>{'1h': 5.5}</td>\n",
       "    </tr>\n",
       "    <tr>\n",
       "      <th>4</th>\n",
       "      <td>1633672800</td>\n",
       "      <td>25.59</td>\n",
       "      <td>26.66</td>\n",
       "      <td>1004</td>\n",
       "      <td>94</td>\n",
       "      <td>24.55</td>\n",
       "      <td>0.34</td>\n",
       "      <td>100</td>\n",
       "      <td>2762</td>\n",
       "      <td>9.59</td>\n",
       "      <td>109</td>\n",
       "      <td>12.87</td>\n",
       "      <td>[{'id': 502, 'main': 'Rain', 'description': 'h...</td>\n",
       "      <td>1.0</td>\n",
       "      <td>{'1h': 5.48}</td>\n",
       "    </tr>\n",
       "  </tbody>\n",
       "</table>\n",
       "</div>"
      ],
      "text/plain": [
       "           dt   temp  feels_like  pressure  humidity  dew_point   uvi  clouds  \\\n",
       "0  1633658400  25.29       26.38      1004        96      24.61  0.13     100   \n",
       "1  1633662000  25.41       26.49      1004        95      24.55  0.19     100   \n",
       "2  1633665600  25.55       26.62      1005        94      24.51  0.42     100   \n",
       "3  1633669200  25.58       26.65      1005        94      24.54  0.42     100   \n",
       "4  1633672800  25.59       26.66      1004        94      24.55  0.34     100   \n",
       "\n",
       "   visibility  wind_speed  wind_deg  wind_gust  \\\n",
       "0        2805        9.26       124      13.78   \n",
       "1        3861        9.59       116      13.26   \n",
       "2        3940        8.72       108      12.45   \n",
       "3        3264        9.30       106      13.06   \n",
       "4        2762        9.59       109      12.87   \n",
       "\n",
       "                                             weather  pop          rain  \n",
       "0  [{'id': 502, 'main': 'Rain', 'description': 'h...  1.0  {'1h': 7.49}  \n",
       "1  [{'id': 501, 'main': 'Rain', 'description': 'm...  1.0  {'1h': 2.05}  \n",
       "2  [{'id': 501, 'main': 'Rain', 'description': 'm...  1.0  {'1h': 1.78}  \n",
       "3  [{'id': 502, 'main': 'Rain', 'description': 'h...  1.0   {'1h': 5.5}  \n",
       "4  [{'id': 502, 'main': 'Rain', 'description': 'h...  1.0  {'1h': 5.48}  "
      ]
     },
     "execution_count": 10,
     "metadata": {},
     "output_type": "execute_result"
    }
   ],
   "source": [
    "df_hourly.head()"
   ]
  },
  {
   "cell_type": "code",
   "execution_count": null,
   "metadata": {},
   "outputs": [],
   "source": []
  }
 ],
 "metadata": {
  "interpreter": {
   "hash": "c1b4cfe941b6d2466ad1fb5979e97da9cda8801728c8091b097ab734208fc00c"
  },
  "kernelspec": {
   "display_name": "Python 3.8.3 64-bit ('base': conda)",
   "name": "python3"
  },
  "language_info": {
   "codemirror_mode": {
    "name": "ipython",
    "version": 3
   },
   "file_extension": ".py",
   "mimetype": "text/x-python",
   "name": "python",
   "nbconvert_exporter": "python",
   "pygments_lexer": "ipython3",
   "version": "3.8.12"
  }
 },
 "nbformat": 4,
 "nbformat_minor": 2
}
