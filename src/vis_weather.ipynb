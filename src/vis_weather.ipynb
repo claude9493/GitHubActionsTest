{
 "cells": [
  {
   "cell_type": "code",
   "execution_count": 1,
   "metadata": {
    "execution": {
     "iopub.execute_input": "2021-08-26T02:24:15.469147Z",
     "iopub.status.busy": "2021-08-26T02:24:15.468370Z",
     "iopub.status.idle": "2021-08-26T02:24:16.757308Z",
     "shell.execute_reply": "2021-08-26T02:24:16.756646Z"
    }
   },
   "outputs": [],
   "source": [
    "import json, yaml, requests\r\n",
    "from datetime import datetime\r\n",
    "from dateutil import tz\r\n",
    "import pandas as pd\r\n",
    "from PIL import Image\r\n",
    "from io import BytesIO\r\n",
    "import matplotlib.pyplot as plt\r\n",
    "import seaborn\r\n",
    "\r\n",
    "CONFIG_PATH = \"../config/config.yaml\""
   ]
  },
  {
   "cell_type": "code",
   "execution_count": 2,
   "metadata": {
    "execution": {
     "iopub.execute_input": "2021-08-26T02:24:16.764777Z",
     "iopub.status.busy": "2021-08-26T02:24:16.761564Z",
     "iopub.status.idle": "2021-08-26T02:24:16.767724Z",
     "shell.execute_reply": "2021-08-26T02:24:16.767321Z"
    }
   },
   "outputs": [],
   "source": [
    "with open('../newest_ts', 'r') as f:\r\n",
    "    newest_ts = f.read()\r\n",
    "\r\n",
    "data_path = f\"../data/data_{newest_ts}.json\"\r\n",
    "with open(data_path, 'r') as f:\r\n",
    "    data = json.load(f)\r\n",
    "\r\n",
    "with open(CONFIG_PATH, \"r\") as stream:\r\n",
    "    config = yaml.safe_load(stream)\r\n",
    "\r\n",
    "TIME_ZONE = config['time_zone']\r\n",
    "DATETIME_FORMAT = config['dt_format']"
   ]
  },
  {
   "cell_type": "code",
   "execution_count": 3,
   "metadata": {
    "execution": {
     "iopub.execute_input": "2021-08-26T02:24:16.772661Z",
     "iopub.status.busy": "2021-08-26T02:24:16.771693Z",
     "iopub.status.idle": "2021-08-26T02:24:16.778459Z",
     "shell.execute_reply": "2021-08-26T02:24:16.778034Z"
    }
   },
   "outputs": [
    {
     "name": "stdout",
     "output_type": "stream",
     "text": [
      "Recent query happens at 2021-08-26 10:24:13 (CST).\n"
     ]
    }
   ],
   "source": [
    "def ts2dt(ts, format=DATETIME_FORMAT):\r\n",
    "    dt = (datetime.utcfromtimestamp(int(ts))\r\n",
    "                    .replace(tzinfo=tz.tzutc())\r\n",
    "                    # .astimezone(tz.tzlocal())\r\n",
    "                    .astimezone(tz.gettz(TIME_ZONE)))\r\n",
    "    return dt.strftime(format), dt\r\n",
    "\r\n",
    "_, newest_dt = ts2dt(newest_ts)\r\n",
    "print(f\"Recent query happens at {newest_dt.strftime(DATETIME_FORMAT)} ({newest_dt.tzname()}).\")"
   ]
  },
  {
   "cell_type": "code",
   "execution_count": 4,
   "metadata": {
    "execution": {
     "iopub.execute_input": "2021-08-26T02:24:16.783081Z",
     "iopub.status.busy": "2021-08-26T02:24:16.782583Z",
     "iopub.status.idle": "2021-08-26T02:24:16.786178Z",
     "shell.execute_reply": "2021-08-26T02:24:16.785656Z"
    }
   },
   "outputs": [],
   "source": [
    "def degrees_to_cardinal(d):\r\n",
    "  dirs = ['N', 'NNE', 'NE', 'ENE', 'E', 'ESE', 'SE', 'SSE', 'S', 'SSW', 'SW', 'WSW', 'W', 'WNW', 'NW', 'NNW']\r\n",
    "  ix = int(round(d / (360. / len(dirs))))\r\n",
    "  return dirs[ix % len(dirs)]"
   ]
  },
  {
   "cell_type": "code",
   "execution_count": 5,
   "metadata": {
    "execution": {
     "iopub.execute_input": "2021-08-26T02:24:16.789707Z",
     "iopub.status.busy": "2021-08-26T02:24:16.788166Z",
     "iopub.status.idle": "2021-08-26T02:24:16.792098Z",
     "shell.execute_reply": "2021-08-26T02:24:16.791660Z"
    }
   },
   "outputs": [],
   "source": [
    "# data.keys()"
   ]
  },
  {
   "cell_type": "code",
   "execution_count": 6,
   "metadata": {
    "execution": {
     "iopub.execute_input": "2021-08-26T02:24:16.796308Z",
     "iopub.status.busy": "2021-08-26T02:24:16.795222Z",
     "iopub.status.idle": "2021-08-26T02:24:16.796850Z",
     "shell.execute_reply": "2021-08-26T02:24:16.797261Z"
    }
   },
   "outputs": [],
   "source": [
    "# data['current']"
   ]
  },
  {
   "cell_type": "code",
   "execution_count": 7,
   "metadata": {
    "execution": {
     "iopub.execute_input": "2021-08-26T02:24:16.821415Z",
     "iopub.status.busy": "2021-08-26T02:24:16.820735Z",
     "iopub.status.idle": "2021-08-26T02:24:17.216086Z",
     "shell.execute_reply": "2021-08-26T02:24:17.216744Z"
    }
   },
   "outputs": [
    {
     "data": {
      "image/png": "[encoded data removed]",
      "text/plain": [
       "<Figure size 216x216 with 1 Axes>"
      ]
     },
     "metadata": {
      "needs_background": "light"
     },
     "output_type": "display_data"
    },
    {
     "name": "stdout",
     "output_type": "stream",
     "text": [
      "Today, sun rises at 06:03 and sets at 18:46.\n",
      "Currently, the weather is Clouds (broken clouds).\n",
      "The temperature is 31.52°C and it feels like 38.52°C.\n",
      "The UV index is 7.18, humidity is 76%.\n",
      "The pressure is 1012 hPa, percentage of cloud cover is 66%\n",
      "The wind comes from SE direction with a speed 2.45 m/s.\n"
     ]
    }
   ],
   "source": [
    "current = data['current']\r\n",
    "\r\n",
    "fig, ax = plt.subplots(figsize=(3, 3))\r\n",
    "icon = requests.get(f\"http://openweathermap.org/img/wn/{current['weather'][0]['icon']}@2x.png\")\r\n",
    "im = Image.open(BytesIO(icon.content))\r\n",
    "plt.imshow(im)\r\n",
    "ax.set_axis_off()\r\n",
    "plt.show()\r\n",
    "\r\n",
    "print(f\"Today, sun rises at {ts2dt(current['sunrise'], '%H:%M')[0]} \\\r\n",
    "and sets at {ts2dt(current['sunset'], '%H:%M')[0]}.\\n\\\r\n",
    "Currently, the weather is {current['weather'][0]['main']} ({current['weather'][0]['description']}).\\n\\\r\n",
    "The temperature is {current['temp']}°C and it feels like {current['feels_like']}°C.\\n\\\r\n",
    "The UV index is {current['uvi']}, humidity is {current['humidity']}%.\\n\\\r\n",
    "The pressure is {current['pressure']} hPa, percentage of cloud cover is {current['clouds']}%\\n\\\r\n",
    "The wind comes from {degrees_to_cardinal(current['wind_deg'])} direction with a speed {current['wind_speed']} m/s.\")"
   ]
  },
  {
   "cell_type": "code",
   "execution_count": 8,
   "metadata": {
    "execution": {
     "iopub.execute_input": "2021-08-26T02:24:17.227735Z",
     "iopub.status.busy": "2021-08-26T02:24:17.224392Z",
     "iopub.status.idle": "2021-08-26T02:24:17.230911Z",
     "shell.execute_reply": "2021-08-26T02:24:17.231548Z"
    }
   },
   "outputs": [],
   "source": [
    "df_hourly = pd.DataFrame(data['hourly'])\r\n",
    "df_daily = pd.DataFrame(data['daily'])"
   ]
  },
  {
   "cell_type": "code",
   "execution_count": 9,
   "metadata": {
    "execution": {
     "iopub.execute_input": "2021-08-26T02:24:17.251432Z",
     "iopub.status.busy": "2021-08-26T02:24:17.239515Z",
     "iopub.status.idle": "2021-08-26T02:24:17.575572Z",
     "shell.execute_reply": "2021-08-26T02:24:17.576337Z"
    }
   },
   "outputs": [
    {
     "data": {
      "image/png": "[encoded data removed]",
      "text/plain": [
       "<Figure size 864x432 with 1 Axes>"
      ]
     },
     "metadata": {
      "needs_background": "light"
     },
     "output_type": "display_data"
    }
   ],
   "source": [
    "fig, ax = plt.subplots(figsize=(12, 6))\r\n",
    "plt.plot(df_hourly.temp, '.-', label='Temperature')\r\n",
    "plt.plot(df_hourly.feels_like, '.-', label='Feels Like')\r\n",
    "ax.set(title='Temperature in future 48 hours', xlabel='Time', ylabel='Temperature')\r\n",
    "ax.set_xticks(list(range(0, len(df_hourly), 2)))\r\n",
    "ax.set_xticklabels([ts2dt(ts, '%m-%d %H:%M')[0] for i, ts in enumerate(df_hourly.dt) if i%2==0], \r\n",
    "                   rotation=45, ha=\"right\")\r\n",
    "ax.locator_params(nbins=15, axis='y')\r\n",
    "plt.legend()\r\n",
    "plt.show()"
   ]
  },
  {
   "cell_type": "code",
   "execution_count": 10,
   "metadata": {
    "execution": {
     "iopub.execute_input": "2021-08-26T02:24:17.588455Z",
     "iopub.status.busy": "2021-08-26T02:24:17.580551Z",
     "iopub.status.idle": "2021-08-26T02:24:17.599847Z",
     "shell.execute_reply": "2021-08-26T02:24:17.600529Z"
    }
   },
   "outputs": [
    {
     "data": {
      "text/html": [
       "<div>\n",
       "<style scoped>\n",
       "    .dataframe tbody tr th:only-of-type {\n",
       "        vertical-align: middle;\n",
       "    }\n",
       "\n",
       "    .dataframe tbody tr th {\n",
       "        vertical-align: top;\n",
       "    }\n",
       "\n",
       "    .dataframe thead th {\n",
       "        text-align: right;\n",
       "    }\n",
       "</style>\n",
       "<table border=\"1\" class=\"dataframe\">\n",
       "  <thead>\n",
       "    <tr style=\"text-align: right;\">\n",
       "      <th></th>\n",
       "      <th>dt</th>\n",
       "      <th>temp</th>\n",
       "      <th>feels_like</th>\n",
       "      <th>pressure</th>\n",
       "      <th>humidity</th>\n",
       "      <th>dew_point</th>\n",
       "      <th>uvi</th>\n",
       "      <th>clouds</th>\n",
       "      <th>visibility</th>\n",
       "      <th>wind_speed</th>\n",
       "      <th>wind_deg</th>\n",
       "      <th>wind_gust</th>\n",
       "      <th>weather</th>\n",
       "      <th>pop</th>\n",
       "      <th>rain</th>\n",
       "    </tr>\n",
       "  </thead>\n",
       "  <tbody>\n",
       "    <tr>\n",
       "      <th>0</th>\n",
       "      <td>1629943200</td>\n",
       "      <td>31.52</td>\n",
       "      <td>38.52</td>\n",
       "      <td>1012</td>\n",
       "      <td>76</td>\n",
       "      <td>26.77</td>\n",
       "      <td>7.18</td>\n",
       "      <td>66</td>\n",
       "      <td>10000</td>\n",
       "      <td>2.45</td>\n",
       "      <td>135</td>\n",
       "      <td>2.81</td>\n",
       "      <td>[{'id': 500, 'main': 'Rain', 'description': 'l...</td>\n",
       "      <td>0.73</td>\n",
       "      <td>{'1h': 0.12}</td>\n",
       "    </tr>\n",
       "    <tr>\n",
       "      <th>1</th>\n",
       "      <td>1629946800</td>\n",
       "      <td>31.19</td>\n",
       "      <td>38.19</td>\n",
       "      <td>1012</td>\n",
       "      <td>74</td>\n",
       "      <td>26.00</td>\n",
       "      <td>10.05</td>\n",
       "      <td>65</td>\n",
       "      <td>10000</td>\n",
       "      <td>2.53</td>\n",
       "      <td>129</td>\n",
       "      <td>2.76</td>\n",
       "      <td>[{'id': 500, 'main': 'Rain', 'description': 'l...</td>\n",
       "      <td>0.80</td>\n",
       "      <td>{'1h': 0.1}</td>\n",
       "    </tr>\n",
       "    <tr>\n",
       "      <th>2</th>\n",
       "      <td>1629950400</td>\n",
       "      <td>30.84</td>\n",
       "      <td>37.84</td>\n",
       "      <td>1012</td>\n",
       "      <td>73</td>\n",
       "      <td>25.43</td>\n",
       "      <td>11.20</td>\n",
       "      <td>66</td>\n",
       "      <td>10000</td>\n",
       "      <td>3.27</td>\n",
       "      <td>128</td>\n",
       "      <td>3.25</td>\n",
       "      <td>[{'id': 803, 'main': 'Clouds', 'description': ...</td>\n",
       "      <td>0.86</td>\n",
       "      <td>NaN</td>\n",
       "    </tr>\n",
       "    <tr>\n",
       "      <th>3</th>\n",
       "      <td>1629954000</td>\n",
       "      <td>30.61</td>\n",
       "      <td>36.85</td>\n",
       "      <td>1011</td>\n",
       "      <td>71</td>\n",
       "      <td>24.75</td>\n",
       "      <td>11.03</td>\n",
       "      <td>70</td>\n",
       "      <td>10000</td>\n",
       "      <td>3.88</td>\n",
       "      <td>125</td>\n",
       "      <td>3.67</td>\n",
       "      <td>[{'id': 803, 'main': 'Clouds', 'description': ...</td>\n",
       "      <td>0.88</td>\n",
       "      <td>NaN</td>\n",
       "    </tr>\n",
       "    <tr>\n",
       "      <th>4</th>\n",
       "      <td>1629957600</td>\n",
       "      <td>30.30</td>\n",
       "      <td>35.52</td>\n",
       "      <td>1010</td>\n",
       "      <td>69</td>\n",
       "      <td>23.97</td>\n",
       "      <td>9.16</td>\n",
       "      <td>75</td>\n",
       "      <td>10000</td>\n",
       "      <td>3.74</td>\n",
       "      <td>124</td>\n",
       "      <td>3.52</td>\n",
       "      <td>[{'id': 803, 'main': 'Clouds', 'description': ...</td>\n",
       "      <td>0.88</td>\n",
       "      <td>NaN</td>\n",
       "    </tr>\n",
       "  </tbody>\n",
       "</table>\n",
       "</div>"
      ],
      "text/plain": [
       "           dt   temp  feels_like  pressure  humidity  dew_point    uvi  \\\n",
       "0  1629943200  31.52       38.52      1012        76      26.77   7.18   \n",
       "1  1629946800  31.19       38.19      1012        74      26.00  10.05   \n",
       "2  1629950400  30.84       37.84      1012        73      25.43  11.20   \n",
       "3  1629954000  30.61       36.85      1011        71      24.75  11.03   \n",
       "4  1629957600  30.30       35.52      1010        69      23.97   9.16   \n",
       "\n",
       "   clouds  visibility  wind_speed  wind_deg  wind_gust  \\\n",
       "0      66       10000        2.45       135       2.81   \n",
       "1      65       10000        2.53       129       2.76   \n",
       "2      66       10000        3.27       128       3.25   \n",
       "3      70       10000        3.88       125       3.67   \n",
       "4      75       10000        3.74       124       3.52   \n",
       "\n",
       "                                             weather   pop          rain  \n",
       "0  [{'id': 500, 'main': 'Rain', 'description': 'l...  0.73  {'1h': 0.12}  \n",
       "1  [{'id': 500, 'main': 'Rain', 'description': 'l...  0.80   {'1h': 0.1}  \n",
       "2  [{'id': 803, 'main': 'Clouds', 'description': ...  0.86           NaN  \n",
       "3  [{'id': 803, 'main': 'Clouds', 'description': ...  0.88           NaN  \n",
       "4  [{'id': 803, 'main': 'Clouds', 'description': ...  0.88           NaN  "
      ]
     },
     "execution_count": 10,
     "metadata": {},
     "output_type": "execute_result"
    }
   ],
   "source": [
    "df_hourly.head()"
   ]
  },
  {
   "cell_type": "code",
   "execution_count": null,
   "metadata": {},
   "outputs": [],
   "source": []
  }
 ],
 "metadata": {
  "interpreter": {
   "hash": "c1b4cfe941b6d2466ad1fb5979e97da9cda8801728c8091b097ab734208fc00c"
  },
  "kernelspec": {
   "display_name": "Python 3.8.3 64-bit ('base': conda)",
   "name": "python3"
  },
  "language_info": {
   "codemirror_mode": {
    "name": "ipython",
    "version": 3
   },
   "file_extension": ".py",
   "mimetype": "text/x-python",
   "name": "python",
   "nbconvert_exporter": "python",
   "pygments_lexer": "ipython3",
   "version": "3.8.11"
  }
 },
 "nbformat": 4,
 "nbformat_minor": 2
}
