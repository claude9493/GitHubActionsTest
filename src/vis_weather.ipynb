{
 "cells": [
  {
   "cell_type": "code",
   "execution_count": 1,
   "metadata": {
    "execution": {
     "iopub.execute_input": "2021-09-26T04:14:37.273315Z",
     "iopub.status.busy": "2021-09-26T04:14:37.272464Z",
     "iopub.status.idle": "2021-09-26T04:14:38.890716Z",
     "shell.execute_reply": "2021-09-26T04:14:38.891254Z"
    }
   },
   "outputs": [],
   "source": [
    "import json, yaml, requests\r\n",
    "from datetime import datetime\r\n",
    "from dateutil import tz\r\n",
    "import pandas as pd\r\n",
    "from PIL import Image\r\n",
    "from io import BytesIO\r\n",
    "import matplotlib.pyplot as plt\r\n",
    "import seaborn\r\n",
    "\r\n",
    "CONFIG_PATH = \"../config/config.yaml\""
   ]
  },
  {
   "cell_type": "code",
   "execution_count": 2,
   "metadata": {
    "execution": {
     "iopub.execute_input": "2021-09-26T04:14:38.898124Z",
     "iopub.status.busy": "2021-09-26T04:14:38.897097Z",
     "iopub.status.idle": "2021-09-26T04:14:38.903572Z",
     "shell.execute_reply": "2021-09-26T04:14:38.902635Z"
    }
   },
   "outputs": [],
   "source": [
    "with open('../newest_ts', 'r') as f:\r\n",
    "    newest_ts = f.read()\r\n",
    "\r\n",
    "data_path = f\"../data/data_{newest_ts}.json\"\r\n",
    "with open(data_path, 'r') as f:\r\n",
    "    data = json.load(f)\r\n",
    "\r\n",
    "with open(CONFIG_PATH, \"r\") as stream:\r\n",
    "    config = yaml.safe_load(stream)\r\n",
    "\r\n",
    "TIME_ZONE = config['time_zone']\r\n",
    "DATETIME_FORMAT = config['dt_format']"
   ]
  },
  {
   "cell_type": "code",
   "execution_count": 3,
   "metadata": {
    "execution": {
     "iopub.execute_input": "2021-09-26T04:14:38.916650Z",
     "iopub.status.busy": "2021-09-26T04:14:38.913989Z",
     "iopub.status.idle": "2021-09-26T04:14:38.928757Z",
     "shell.execute_reply": "2021-09-26T04:14:38.929282Z"
    }
   },
   "outputs": [
    {
     "name": "stdout",
     "output_type": "stream",
     "text": [
      "Recent query happens at 2021-09-26 12:14:33 (CST).\n"
     ]
    }
   ],
   "source": [
    "def ts2dt(ts, format=DATETIME_FORMAT):\r\n",
    "    dt = (datetime.utcfromtimestamp(int(ts))\r\n",
    "                    .replace(tzinfo=tz.tzutc())\r\n",
    "                    # .astimezone(tz.tzlocal())\r\n",
    "                    .astimezone(tz.gettz(TIME_ZONE)))\r\n",
    "    return dt.strftime(format), dt\r\n",
    "\r\n",
    "_, newest_dt = ts2dt(newest_ts)\r\n",
    "print(f\"Recent query happens at {newest_dt.strftime(DATETIME_FORMAT)} ({newest_dt.tzname()}).\")"
   ]
  },
  {
   "cell_type": "code",
   "execution_count": 4,
   "metadata": {
    "execution": {
     "iopub.execute_input": "2021-09-26T04:14:38.934677Z",
     "iopub.status.busy": "2021-09-26T04:14:38.934024Z",
     "iopub.status.idle": "2021-09-26T04:14:38.937487Z",
     "shell.execute_reply": "2021-09-26T04:14:38.937948Z"
    }
   },
   "outputs": [],
   "source": [
    "def degrees_to_cardinal(d):\r\n",
    "  dirs = ['N', 'NNE', 'NE', 'ENE', 'E', 'ESE', 'SE', 'SSE', 'S', 'SSW', 'SW', 'WSW', 'W', 'WNW', 'NW', 'NNW']\r\n",
    "  ix = int(round(d / (360. / len(dirs))))\r\n",
    "  return dirs[ix % len(dirs)]"
   ]
  },
  {
   "cell_type": "code",
   "execution_count": 5,
   "metadata": {
    "execution": {
     "iopub.execute_input": "2021-09-26T04:14:38.943810Z",
     "iopub.status.busy": "2021-09-26T04:14:38.943077Z",
     "iopub.status.idle": "2021-09-26T04:14:38.946317Z",
     "shell.execute_reply": "2021-09-26T04:14:38.945779Z"
    }
   },
   "outputs": [],
   "source": [
    "# data.keys()"
   ]
  },
  {
   "cell_type": "code",
   "execution_count": 6,
   "metadata": {
    "execution": {
     "iopub.execute_input": "2021-09-26T04:14:38.957046Z",
     "iopub.status.busy": "2021-09-26T04:14:38.954139Z",
     "iopub.status.idle": "2021-09-26T04:14:38.967053Z",
     "shell.execute_reply": "2021-09-26T04:14:38.966516Z"
    }
   },
   "outputs": [],
   "source": [
    "# data['current']"
   ]
  },
  {
   "cell_type": "code",
   "execution_count": 7,
   "metadata": {
    "execution": {
     "iopub.execute_input": "2021-09-26T04:14:38.997980Z",
     "iopub.status.busy": "2021-09-26T04:14:38.989186Z",
     "iopub.status.idle": "2021-09-26T04:14:39.280411Z",
     "shell.execute_reply": "2021-09-26T04:14:39.281496Z"
    }
   },
   "outputs": [
    {
     "data": {
      "image/png": "[encoded data removed]",
      "text/plain": [
       "<Figure size 216x216 with 1 Axes>"
      ]
     },
     "metadata": {
      "needs_background": "light"
     },
     "output_type": "display_data"
    },
    {
     "name": "stdout",
     "output_type": "stream",
     "text": [
      "Today, sun rises at 06:12 and sets at 18:15.\n",
      "Currently, the weather is Rain (light rain).\n",
      "The temperature is 30.08°C and it feels like 35.74°C.\n",
      "The UV index is 9.97, humidity is 72%.\n",
      "The pressure is 1012 hPa, percentage of cloud cover is 36%\n",
      "The wind comes from SW direction with a speed 0.45 m/s.\n"
     ]
    }
   ],
   "source": [
    "current = data['current']\r\n",
    "\r\n",
    "fig, ax = plt.subplots(figsize=(3, 3))\r\n",
    "icon = requests.get(f\"http://openweathermap.org/img/wn/{current['weather'][0]['icon']}@2x.png\")\r\n",
    "im = Image.open(BytesIO(icon.content))\r\n",
    "plt.imshow(im)\r\n",
    "ax.set_axis_off()\r\n",
    "plt.show()\r\n",
    "\r\n",
    "print(f\"Today, sun rises at {ts2dt(current['sunrise'], '%H:%M')[0]} \\\r\n",
    "and sets at {ts2dt(current['sunset'], '%H:%M')[0]}.\\n\\\r\n",
    "Currently, the weather is {current['weather'][0]['main']} ({current['weather'][0]['description']}).\\n\\\r\n",
    "The temperature is {current['temp']}°C and it feels like {current['feels_like']}°C.\\n\\\r\n",
    "The UV index is {current['uvi']}, humidity is {current['humidity']}%.\\n\\\r\n",
    "The pressure is {current['pressure']} hPa, percentage of cloud cover is {current['clouds']}%\\n\\\r\n",
    "The wind comes from {degrees_to_cardinal(current['wind_deg'])} direction with a speed {current['wind_speed']} m/s.\")"
   ]
  },
  {
   "cell_type": "code",
   "execution_count": 8,
   "metadata": {
    "execution": {
     "iopub.execute_input": "2021-09-26T04:14:39.285671Z",
     "iopub.status.busy": "2021-09-26T04:14:39.285024Z",
     "iopub.status.idle": "2021-09-26T04:14:39.293621Z",
     "shell.execute_reply": "2021-09-26T04:14:39.294514Z"
    }
   },
   "outputs": [],
   "source": [
    "df_hourly = pd.DataFrame(data['hourly'])\r\n",
    "df_daily = pd.DataFrame(data['daily'])"
   ]
  },
  {
   "cell_type": "code",
   "execution_count": 9,
   "metadata": {
    "execution": {
     "iopub.execute_input": "2021-09-26T04:14:39.298735Z",
     "iopub.status.busy": "2021-09-26T04:14:39.297264Z",
     "iopub.status.idle": "2021-09-26T04:14:39.673398Z",
     "shell.execute_reply": "2021-09-26T04:14:39.673882Z"
    }
   },
   "outputs": [
    {
     "data": {
      "image/png": "[encoded data removed]",
      "text/plain": [
       "<Figure size 864x432 with 1 Axes>"
      ]
     },
     "metadata": {
      "needs_background": "light"
     },
     "output_type": "display_data"
    }
   ],
   "source": [
    "fig, ax = plt.subplots(figsize=(12, 6))\r\n",
    "plt.plot(df_hourly.temp, '.-', label='Temperature')\r\n",
    "plt.plot(df_hourly.feels_like, '.-', label='Feels Like')\r\n",
    "ax.set(title='Temperature in future 48 hours', xlabel='Time', ylabel='Temperature')\r\n",
    "ax.set_xticks(list(range(0, len(df_hourly), 2)))\r\n",
    "ax.set_xticklabels([ts2dt(ts, '%m-%d %H:%M')[0] for i, ts in enumerate(df_hourly.dt) if i%2==0], \r\n",
    "                   rotation=45, ha=\"right\")\r\n",
    "ax.locator_params(nbins=15, axis='y')\r\n",
    "plt.legend()\r\n",
    "plt.show()"
   ]
  },
  {
   "cell_type": "code",
   "execution_count": 10,
   "metadata": {
    "execution": {
     "iopub.execute_input": "2021-09-26T04:14:39.689019Z",
     "iopub.status.busy": "2021-09-26T04:14:39.678848Z",
     "iopub.status.idle": "2021-09-26T04:14:39.703249Z",
     "shell.execute_reply": "2021-09-26T04:14:39.704025Z"
    }
   },
   "outputs": [
    {
     "data": {
      "text/html": [
       "<div>\n",
       "<style scoped>\n",
       "    .dataframe tbody tr th:only-of-type {\n",
       "        vertical-align: middle;\n",
       "    }\n",
       "\n",
       "    .dataframe tbody tr th {\n",
       "        vertical-align: top;\n",
       "    }\n",
       "\n",
       "    .dataframe thead th {\n",
       "        text-align: right;\n",
       "    }\n",
       "</style>\n",
       "<table border=\"1\" class=\"dataframe\">\n",
       "  <thead>\n",
       "    <tr style=\"text-align: right;\">\n",
       "      <th></th>\n",
       "      <th>dt</th>\n",
       "      <th>temp</th>\n",
       "      <th>feels_like</th>\n",
       "      <th>pressure</th>\n",
       "      <th>humidity</th>\n",
       "      <th>dew_point</th>\n",
       "      <th>uvi</th>\n",
       "      <th>clouds</th>\n",
       "      <th>visibility</th>\n",
       "      <th>wind_speed</th>\n",
       "      <th>wind_deg</th>\n",
       "      <th>wind_gust</th>\n",
       "      <th>weather</th>\n",
       "      <th>pop</th>\n",
       "      <th>rain</th>\n",
       "    </tr>\n",
       "  </thead>\n",
       "  <tbody>\n",
       "    <tr>\n",
       "      <th>0</th>\n",
       "      <td>1632628800</td>\n",
       "      <td>30.08</td>\n",
       "      <td>35.74</td>\n",
       "      <td>1012</td>\n",
       "      <td>72</td>\n",
       "      <td>24.47</td>\n",
       "      <td>9.97</td>\n",
       "      <td>36</td>\n",
       "      <td>10000</td>\n",
       "      <td>6.59</td>\n",
       "      <td>77</td>\n",
       "      <td>7.45</td>\n",
       "      <td>[{'id': 802, 'main': 'Clouds', 'description': ...</td>\n",
       "      <td>0.0</td>\n",
       "      <td>NaN</td>\n",
       "    </tr>\n",
       "    <tr>\n",
       "      <th>1</th>\n",
       "      <td>1632632400</td>\n",
       "      <td>29.93</td>\n",
       "      <td>34.87</td>\n",
       "      <td>1012</td>\n",
       "      <td>70</td>\n",
       "      <td>23.86</td>\n",
       "      <td>9.79</td>\n",
       "      <td>35</td>\n",
       "      <td>10000</td>\n",
       "      <td>6.26</td>\n",
       "      <td>81</td>\n",
       "      <td>7.04</td>\n",
       "      <td>[{'id': 500, 'main': 'Rain', 'description': 'l...</td>\n",
       "      <td>0.2</td>\n",
       "      <td>{'1h': 0.15}</td>\n",
       "    </tr>\n",
       "    <tr>\n",
       "      <th>2</th>\n",
       "      <td>1632636000</td>\n",
       "      <td>29.81</td>\n",
       "      <td>34.13</td>\n",
       "      <td>1012</td>\n",
       "      <td>68</td>\n",
       "      <td>23.27</td>\n",
       "      <td>8.00</td>\n",
       "      <td>34</td>\n",
       "      <td>10000</td>\n",
       "      <td>5.92</td>\n",
       "      <td>86</td>\n",
       "      <td>6.69</td>\n",
       "      <td>[{'id': 500, 'main': 'Rain', 'description': 'l...</td>\n",
       "      <td>0.2</td>\n",
       "      <td>{'1h': 0.15}</td>\n",
       "    </tr>\n",
       "    <tr>\n",
       "      <th>3</th>\n",
       "      <td>1632639600</td>\n",
       "      <td>29.61</td>\n",
       "      <td>33.26</td>\n",
       "      <td>1011</td>\n",
       "      <td>66</td>\n",
       "      <td>22.58</td>\n",
       "      <td>5.33</td>\n",
       "      <td>29</td>\n",
       "      <td>10000</td>\n",
       "      <td>5.54</td>\n",
       "      <td>89</td>\n",
       "      <td>6.40</td>\n",
       "      <td>[{'id': 802, 'main': 'Clouds', 'description': ...</td>\n",
       "      <td>0.0</td>\n",
       "      <td>NaN</td>\n",
       "    </tr>\n",
       "    <tr>\n",
       "      <th>4</th>\n",
       "      <td>1632643200</td>\n",
       "      <td>29.27</td>\n",
       "      <td>32.19</td>\n",
       "      <td>1010</td>\n",
       "      <td>64</td>\n",
       "      <td>21.76</td>\n",
       "      <td>2.63</td>\n",
       "      <td>30</td>\n",
       "      <td>10000</td>\n",
       "      <td>5.03</td>\n",
       "      <td>93</td>\n",
       "      <td>5.87</td>\n",
       "      <td>[{'id': 802, 'main': 'Clouds', 'description': ...</td>\n",
       "      <td>0.0</td>\n",
       "      <td>NaN</td>\n",
       "    </tr>\n",
       "  </tbody>\n",
       "</table>\n",
       "</div>"
      ],
      "text/plain": [
       "           dt   temp  feels_like  pressure  humidity  dew_point   uvi  clouds  \\\n",
       "0  1632628800  30.08       35.74      1012        72      24.47  9.97      36   \n",
       "1  1632632400  29.93       34.87      1012        70      23.86  9.79      35   \n",
       "2  1632636000  29.81       34.13      1012        68      23.27  8.00      34   \n",
       "3  1632639600  29.61       33.26      1011        66      22.58  5.33      29   \n",
       "4  1632643200  29.27       32.19      1010        64      21.76  2.63      30   \n",
       "\n",
       "   visibility  wind_speed  wind_deg  wind_gust  \\\n",
       "0       10000        6.59        77       7.45   \n",
       "1       10000        6.26        81       7.04   \n",
       "2       10000        5.92        86       6.69   \n",
       "3       10000        5.54        89       6.40   \n",
       "4       10000        5.03        93       5.87   \n",
       "\n",
       "                                             weather  pop          rain  \n",
       "0  [{'id': 802, 'main': 'Clouds', 'description': ...  0.0           NaN  \n",
       "1  [{'id': 500, 'main': 'Rain', 'description': 'l...  0.2  {'1h': 0.15}  \n",
       "2  [{'id': 500, 'main': 'Rain', 'description': 'l...  0.2  {'1h': 0.15}  \n",
       "3  [{'id': 802, 'main': 'Clouds', 'description': ...  0.0           NaN  \n",
       "4  [{'id': 802, 'main': 'Clouds', 'description': ...  0.0           NaN  "
      ]
     },
     "execution_count": 10,
     "metadata": {},
     "output_type": "execute_result"
    }
   ],
   "source": [
    "df_hourly.head()"
   ]
  },
  {
   "cell_type": "code",
   "execution_count": null,
   "metadata": {},
   "outputs": [],
   "source": []
  }
 ],
 "metadata": {
  "interpreter": {
   "hash": "c1b4cfe941b6d2466ad1fb5979e97da9cda8801728c8091b097ab734208fc00c"
  },
  "kernelspec": {
   "display_name": "Python 3.8.3 64-bit ('base': conda)",
   "name": "python3"
  },
  "language_info": {
   "codemirror_mode": {
    "name": "ipython",
    "version": 3
   },
   "file_extension": ".py",
   "mimetype": "text/x-python",
   "name": "python",
   "nbconvert_exporter": "python",
   "pygments_lexer": "ipython3",
   "version": "3.8.12"
  }
 },
 "nbformat": 4,
 "nbformat_minor": 2
}
