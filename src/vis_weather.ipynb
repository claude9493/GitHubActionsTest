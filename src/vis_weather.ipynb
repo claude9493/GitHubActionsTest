{
 "cells": [
  {
   "cell_type": "code",
   "execution_count": 1,
   "metadata": {
    "execution": {
     "iopub.execute_input": "2021-09-17T06:13:45.018901Z",
     "iopub.status.busy": "2021-09-17T06:13:45.018064Z",
     "iopub.status.idle": "2021-09-17T06:13:51.089325Z",
     "shell.execute_reply": "2021-09-17T06:13:51.088558Z"
    }
   },
   "outputs": [],
   "source": [
    "import json, yaml, requests\r\n",
    "from datetime import datetime\r\n",
    "from dateutil import tz\r\n",
    "import pandas as pd\r\n",
    "from PIL import Image\r\n",
    "from io import BytesIO\r\n",
    "import matplotlib.pyplot as plt\r\n",
    "import seaborn\r\n",
    "\r\n",
    "CONFIG_PATH = \"../config/config.yaml\""
   ]
  },
  {
   "cell_type": "code",
   "execution_count": 2,
   "metadata": {
    "execution": {
     "iopub.execute_input": "2021-09-17T06:13:51.095117Z",
     "iopub.status.busy": "2021-09-17T06:13:51.094511Z",
     "iopub.status.idle": "2021-09-17T06:13:51.100256Z",
     "shell.execute_reply": "2021-09-17T06:13:51.099781Z"
    }
   },
   "outputs": [],
   "source": [
    "with open('../newest_ts', 'r') as f:\r\n",
    "    newest_ts = f.read()\r\n",
    "\r\n",
    "data_path = f\"../data/data_{newest_ts}.json\"\r\n",
    "with open(data_path, 'r') as f:\r\n",
    "    data = json.load(f)\r\n",
    "\r\n",
    "with open(CONFIG_PATH, \"r\") as stream:\r\n",
    "    config = yaml.safe_load(stream)\r\n",
    "\r\n",
    "TIME_ZONE = config['time_zone']\r\n",
    "DATETIME_FORMAT = config['dt_format']"
   ]
  },
  {
   "cell_type": "code",
   "execution_count": 3,
   "metadata": {
    "execution": {
     "iopub.execute_input": "2021-09-17T06:13:51.105296Z",
     "iopub.status.busy": "2021-09-17T06:13:51.104693Z",
     "iopub.status.idle": "2021-09-17T06:13:51.119667Z",
     "shell.execute_reply": "2021-09-17T06:13:51.119169Z"
    }
   },
   "outputs": [
    {
     "name": "stdout",
     "output_type": "stream",
     "text": [
      "Recent query happens at 2021-09-17 14:13:40 (CST).\n"
     ]
    }
   ],
   "source": [
    "def ts2dt(ts, format=DATETIME_FORMAT):\r\n",
    "    dt = (datetime.utcfromtimestamp(int(ts))\r\n",
    "                    .replace(tzinfo=tz.tzutc())\r\n",
    "                    # .astimezone(tz.tzlocal())\r\n",
    "                    .astimezone(tz.gettz(TIME_ZONE)))\r\n",
    "    return dt.strftime(format), dt\r\n",
    "\r\n",
    "_, newest_dt = ts2dt(newest_ts)\r\n",
    "print(f\"Recent query happens at {newest_dt.strftime(DATETIME_FORMAT)} ({newest_dt.tzname()}).\")"
   ]
  },
  {
   "cell_type": "code",
   "execution_count": 4,
   "metadata": {
    "execution": {
     "iopub.execute_input": "2021-09-17T06:13:51.126087Z",
     "iopub.status.busy": "2021-09-17T06:13:51.124454Z",
     "iopub.status.idle": "2021-09-17T06:13:51.126694Z",
     "shell.execute_reply": "2021-09-17T06:13:51.127138Z"
    }
   },
   "outputs": [],
   "source": [
    "def degrees_to_cardinal(d):\r\n",
    "  dirs = ['N', 'NNE', 'NE', 'ENE', 'E', 'ESE', 'SE', 'SSE', 'S', 'SSW', 'SW', 'WSW', 'W', 'WNW', 'NW', 'NNW']\r\n",
    "  ix = int(round(d / (360. / len(dirs))))\r\n",
    "  return dirs[ix % len(dirs)]"
   ]
  },
  {
   "cell_type": "code",
   "execution_count": 5,
   "metadata": {
    "execution": {
     "iopub.execute_input": "2021-09-17T06:13:51.131032Z",
     "iopub.status.busy": "2021-09-17T06:13:51.129356Z",
     "iopub.status.idle": "2021-09-17T06:13:51.133304Z",
     "shell.execute_reply": "2021-09-17T06:13:51.132827Z"
    }
   },
   "outputs": [],
   "source": [
    "# data.keys()"
   ]
  },
  {
   "cell_type": "code",
   "execution_count": 6,
   "metadata": {
    "execution": {
     "iopub.execute_input": "2021-09-17T06:13:51.137673Z",
     "iopub.status.busy": "2021-09-17T06:13:51.136439Z",
     "iopub.status.idle": "2021-09-17T06:13:51.138267Z",
     "shell.execute_reply": "2021-09-17T06:13:51.138776Z"
    }
   },
   "outputs": [],
   "source": [
    "# data['current']"
   ]
  },
  {
   "cell_type": "code",
   "execution_count": 7,
   "metadata": {
    "execution": {
     "iopub.execute_input": "2021-09-17T06:13:51.159626Z",
     "iopub.status.busy": "2021-09-17T06:13:51.158948Z",
     "iopub.status.idle": "2021-09-17T06:13:51.632169Z",
     "shell.execute_reply": "2021-09-17T06:13:51.632951Z"
    }
   },
   "outputs": [
    {
     "data": {
      "image/png": "[encoded data removed]",
      "text/plain": [
       "<Figure size 216x216 with 1 Axes>"
      ]
     },
     "metadata": {
      "needs_background": "light"
     },
     "output_type": "display_data"
    },
    {
     "name": "stdout",
     "output_type": "stream",
     "text": [
      "Today, sun rises at 06:10 and sets at 18:25.\n",
      "Currently, the weather is Clouds (scattered clouds).\n",
      "The temperature is 31.75°C and it feels like 37.09°C.\n",
      "The UV index is 8.51, humidity is 62%.\n",
      "The pressure is 1008 hPa, percentage of cloud cover is 45%\n",
      "The wind comes from SE direction with a speed 2.01 m/s.\n"
     ]
    }
   ],
   "source": [
    "current = data['current']\r\n",
    "\r\n",
    "fig, ax = plt.subplots(figsize=(3, 3))\r\n",
    "icon = requests.get(f\"http://openweathermap.org/img/wn/{current['weather'][0]['icon']}@2x.png\")\r\n",
    "im = Image.open(BytesIO(icon.content))\r\n",
    "plt.imshow(im)\r\n",
    "ax.set_axis_off()\r\n",
    "plt.show()\r\n",
    "\r\n",
    "print(f\"Today, sun rises at {ts2dt(current['sunrise'], '%H:%M')[0]} \\\r\n",
    "and sets at {ts2dt(current['sunset'], '%H:%M')[0]}.\\n\\\r\n",
    "Currently, the weather is {current['weather'][0]['main']} ({current['weather'][0]['description']}).\\n\\\r\n",
    "The temperature is {current['temp']}°C and it feels like {current['feels_like']}°C.\\n\\\r\n",
    "The UV index is {current['uvi']}, humidity is {current['humidity']}%.\\n\\\r\n",
    "The pressure is {current['pressure']} hPa, percentage of cloud cover is {current['clouds']}%\\n\\\r\n",
    "The wind comes from {degrees_to_cardinal(current['wind_deg'])} direction with a speed {current['wind_speed']} m/s.\")"
   ]
  },
  {
   "cell_type": "code",
   "execution_count": 8,
   "metadata": {
    "execution": {
     "iopub.execute_input": "2021-09-17T06:13:51.636800Z",
     "iopub.status.busy": "2021-09-17T06:13:51.635529Z",
     "iopub.status.idle": "2021-09-17T06:13:51.643775Z",
     "shell.execute_reply": "2021-09-17T06:13:51.644462Z"
    }
   },
   "outputs": [],
   "source": [
    "df_hourly = pd.DataFrame(data['hourly'])\r\n",
    "df_daily = pd.DataFrame(data['daily'])"
   ]
  },
  {
   "cell_type": "code",
   "execution_count": 9,
   "metadata": {
    "execution": {
     "iopub.execute_input": "2021-09-17T06:13:51.648127Z",
     "iopub.status.busy": "2021-09-17T06:13:51.647087Z",
     "iopub.status.idle": "2021-09-17T06:13:51.985800Z",
     "shell.execute_reply": "2021-09-17T06:13:51.986499Z"
    }
   },
   "outputs": [
    {
     "data": {
      "image/png": "[encoded data removed]",
      "text/plain": [
       "<Figure size 864x432 with 1 Axes>"
      ]
     },
     "metadata": {
      "needs_background": "light"
     },
     "output_type": "display_data"
    }
   ],
   "source": [
    "fig, ax = plt.subplots(figsize=(12, 6))\r\n",
    "plt.plot(df_hourly.temp, '.-', label='Temperature')\r\n",
    "plt.plot(df_hourly.feels_like, '.-', label='Feels Like')\r\n",
    "ax.set(title='Temperature in future 48 hours', xlabel='Time', ylabel='Temperature')\r\n",
    "ax.set_xticks(list(range(0, len(df_hourly), 2)))\r\n",
    "ax.set_xticklabels([ts2dt(ts, '%m-%d %H:%M')[0] for i, ts in enumerate(df_hourly.dt) if i%2==0], \r\n",
    "                   rotation=45, ha=\"right\")\r\n",
    "ax.locator_params(nbins=15, axis='y')\r\n",
    "plt.legend()\r\n",
    "plt.show()"
   ]
  },
  {
   "cell_type": "code",
   "execution_count": 10,
   "metadata": {
    "execution": {
     "iopub.execute_input": "2021-09-17T06:13:51.991688Z",
     "iopub.status.busy": "2021-09-17T06:13:51.989095Z",
     "iopub.status.idle": "2021-09-17T06:13:52.014110Z",
     "shell.execute_reply": "2021-09-17T06:13:52.013563Z"
    }
   },
   "outputs": [
    {
     "data": {
      "text/html": [
       "<div>\n",
       "<style scoped>\n",
       "    .dataframe tbody tr th:only-of-type {\n",
       "        vertical-align: middle;\n",
       "    }\n",
       "\n",
       "    .dataframe tbody tr th {\n",
       "        vertical-align: top;\n",
       "    }\n",
       "\n",
       "    .dataframe thead th {\n",
       "        text-align: right;\n",
       "    }\n",
       "</style>\n",
       "<table border=\"1\" class=\"dataframe\">\n",
       "  <thead>\n",
       "    <tr style=\"text-align: right;\">\n",
       "      <th></th>\n",
       "      <th>dt</th>\n",
       "      <th>temp</th>\n",
       "      <th>feels_like</th>\n",
       "      <th>pressure</th>\n",
       "      <th>humidity</th>\n",
       "      <th>dew_point</th>\n",
       "      <th>uvi</th>\n",
       "      <th>clouds</th>\n",
       "      <th>visibility</th>\n",
       "      <th>wind_speed</th>\n",
       "      <th>wind_deg</th>\n",
       "      <th>wind_gust</th>\n",
       "      <th>weather</th>\n",
       "      <th>pop</th>\n",
       "      <th>rain</th>\n",
       "    </tr>\n",
       "  </thead>\n",
       "  <tbody>\n",
       "    <tr>\n",
       "      <th>0</th>\n",
       "      <td>1631858400</td>\n",
       "      <td>31.75</td>\n",
       "      <td>37.09</td>\n",
       "      <td>1008</td>\n",
       "      <td>62</td>\n",
       "      <td>23.57</td>\n",
       "      <td>8.51</td>\n",
       "      <td>45</td>\n",
       "      <td>10000</td>\n",
       "      <td>2.01</td>\n",
       "      <td>146</td>\n",
       "      <td>1.59</td>\n",
       "      <td>[{'id': 802, 'main': 'Clouds', 'description': ...</td>\n",
       "      <td>0.86</td>\n",
       "      <td>NaN</td>\n",
       "    </tr>\n",
       "    <tr>\n",
       "      <th>1</th>\n",
       "      <td>1631862000</td>\n",
       "      <td>31.59</td>\n",
       "      <td>36.42</td>\n",
       "      <td>1008</td>\n",
       "      <td>61</td>\n",
       "      <td>23.15</td>\n",
       "      <td>5.73</td>\n",
       "      <td>38</td>\n",
       "      <td>10000</td>\n",
       "      <td>2.16</td>\n",
       "      <td>146</td>\n",
       "      <td>1.70</td>\n",
       "      <td>[{'id': 500, 'main': 'Rain', 'description': 'l...</td>\n",
       "      <td>0.21</td>\n",
       "      <td>{'1h': 0.37}</td>\n",
       "    </tr>\n",
       "    <tr>\n",
       "      <th>2</th>\n",
       "      <td>1631865600</td>\n",
       "      <td>31.33</td>\n",
       "      <td>36.10</td>\n",
       "      <td>1008</td>\n",
       "      <td>62</td>\n",
       "      <td>23.17</td>\n",
       "      <td>2.90</td>\n",
       "      <td>31</td>\n",
       "      <td>10000</td>\n",
       "      <td>2.17</td>\n",
       "      <td>141</td>\n",
       "      <td>1.91</td>\n",
       "      <td>[{'id': 500, 'main': 'Rain', 'description': 'l...</td>\n",
       "      <td>0.23</td>\n",
       "      <td>{'1h': 0.13}</td>\n",
       "    </tr>\n",
       "    <tr>\n",
       "      <th>3</th>\n",
       "      <td>1631869200</td>\n",
       "      <td>30.96</td>\n",
       "      <td>35.79</td>\n",
       "      <td>1007</td>\n",
       "      <td>64</td>\n",
       "      <td>23.35</td>\n",
       "      <td>0.94</td>\n",
       "      <td>24</td>\n",
       "      <td>10000</td>\n",
       "      <td>2.24</td>\n",
       "      <td>149</td>\n",
       "      <td>2.02</td>\n",
       "      <td>[{'id': 801, 'main': 'Clouds', 'description': ...</td>\n",
       "      <td>0.03</td>\n",
       "      <td>NaN</td>\n",
       "    </tr>\n",
       "    <tr>\n",
       "      <th>4</th>\n",
       "      <td>1631872800</td>\n",
       "      <td>30.08</td>\n",
       "      <td>34.75</td>\n",
       "      <td>1008</td>\n",
       "      <td>68</td>\n",
       "      <td>23.52</td>\n",
       "      <td>0.14</td>\n",
       "      <td>15</td>\n",
       "      <td>10000</td>\n",
       "      <td>2.09</td>\n",
       "      <td>142</td>\n",
       "      <td>2.21</td>\n",
       "      <td>[{'id': 801, 'main': 'Clouds', 'description': ...</td>\n",
       "      <td>0.02</td>\n",
       "      <td>NaN</td>\n",
       "    </tr>\n",
       "  </tbody>\n",
       "</table>\n",
       "</div>"
      ],
      "text/plain": [
       "           dt   temp  feels_like  pressure  humidity  dew_point   uvi  clouds  \\\n",
       "0  1631858400  31.75       37.09      1008        62      23.57  8.51      45   \n",
       "1  1631862000  31.59       36.42      1008        61      23.15  5.73      38   \n",
       "2  1631865600  31.33       36.10      1008        62      23.17  2.90      31   \n",
       "3  1631869200  30.96       35.79      1007        64      23.35  0.94      24   \n",
       "4  1631872800  30.08       34.75      1008        68      23.52  0.14      15   \n",
       "\n",
       "   visibility  wind_speed  wind_deg  wind_gust  \\\n",
       "0       10000        2.01       146       1.59   \n",
       "1       10000        2.16       146       1.70   \n",
       "2       10000        2.17       141       1.91   \n",
       "3       10000        2.24       149       2.02   \n",
       "4       10000        2.09       142       2.21   \n",
       "\n",
       "                                             weather   pop          rain  \n",
       "0  [{'id': 802, 'main': 'Clouds', 'description': ...  0.86           NaN  \n",
       "1  [{'id': 500, 'main': 'Rain', 'description': 'l...  0.21  {'1h': 0.37}  \n",
       "2  [{'id': 500, 'main': 'Rain', 'description': 'l...  0.23  {'1h': 0.13}  \n",
       "3  [{'id': 801, 'main': 'Clouds', 'description': ...  0.03           NaN  \n",
       "4  [{'id': 801, 'main': 'Clouds', 'description': ...  0.02           NaN  "
      ]
     },
     "execution_count": 10,
     "metadata": {},
     "output_type": "execute_result"
    }
   ],
   "source": [
    "df_hourly.head()"
   ]
  },
  {
   "cell_type": "code",
   "execution_count": null,
   "metadata": {},
   "outputs": [],
   "source": []
  }
 ],
 "metadata": {
  "interpreter": {
   "hash": "c1b4cfe941b6d2466ad1fb5979e97da9cda8801728c8091b097ab734208fc00c"
  },
  "kernelspec": {
   "display_name": "Python 3.8.3 64-bit ('base': conda)",
   "name": "python3"
  },
  "language_info": {
   "codemirror_mode": {
    "name": "ipython",
    "version": 3
   },
   "file_extension": ".py",
   "mimetype": "text/x-python",
   "name": "python",
   "nbconvert_exporter": "python",
   "pygments_lexer": "ipython3",
   "version": "3.8.11"
  }
 },
 "nbformat": 4,
 "nbformat_minor": 2
}
