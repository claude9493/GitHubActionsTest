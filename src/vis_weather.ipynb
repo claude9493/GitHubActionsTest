{
 "cells": [
  {
   "cell_type": "code",
   "execution_count": 1,
   "metadata": {
    "execution": {
     "iopub.execute_input": "2021-10-09T19:09:17.434446Z",
     "iopub.status.busy": "2021-10-09T19:09:17.433883Z",
     "iopub.status.idle": "2021-10-09T19:09:18.565621Z",
     "shell.execute_reply": "2021-10-09T19:09:18.566214Z"
    }
   },
   "outputs": [],
   "source": [
    "import json, yaml, requests\r\n",
    "from datetime import datetime\r\n",
    "from dateutil import tz\r\n",
    "import pandas as pd\r\n",
    "from PIL import Image\r\n",
    "from io import BytesIO\r\n",
    "import matplotlib.pyplot as plt\r\n",
    "import seaborn\r\n",
    "\r\n",
    "CONFIG_PATH = \"../config/config.yaml\""
   ]
  },
  {
   "cell_type": "code",
   "execution_count": 2,
   "metadata": {
    "execution": {
     "iopub.execute_input": "2021-10-09T19:09:18.571725Z",
     "iopub.status.busy": "2021-10-09T19:09:18.570739Z",
     "iopub.status.idle": "2021-10-09T19:09:18.575682Z",
     "shell.execute_reply": "2021-10-09T19:09:18.576073Z"
    }
   },
   "outputs": [],
   "source": [
    "with open('../newest_ts', 'r') as f:\r\n",
    "    newest_ts = f.read()\r\n",
    "\r\n",
    "data_path = f\"../data/data_{newest_ts}.json\"\r\n",
    "with open(data_path, 'r') as f:\r\n",
    "    data = json.load(f)\r\n",
    "\r\n",
    "with open(CONFIG_PATH, \"r\") as stream:\r\n",
    "    config = yaml.safe_load(stream)\r\n",
    "\r\n",
    "TIME_ZONE = config['time_zone']\r\n",
    "DATETIME_FORMAT = config['dt_format']"
   ]
  },
  {
   "cell_type": "code",
   "execution_count": 3,
   "metadata": {
    "execution": {
     "iopub.execute_input": "2021-10-09T19:09:18.581179Z",
     "iopub.status.busy": "2021-10-09T19:09:18.580455Z",
     "iopub.status.idle": "2021-10-09T19:09:18.588133Z",
     "shell.execute_reply": "2021-10-09T19:09:18.587612Z"
    }
   },
   "outputs": [
    {
     "name": "stdout",
     "output_type": "stream",
     "text": [
      "Recent query happens at 2021-10-10 03:09:14 (CST).\n"
     ]
    }
   ],
   "source": [
    "def ts2dt(ts, format=DATETIME_FORMAT):\r\n",
    "    dt = (datetime.utcfromtimestamp(int(ts))\r\n",
    "                    .replace(tzinfo=tz.tzutc())\r\n",
    "                    # .astimezone(tz.tzlocal())\r\n",
    "                    .astimezone(tz.gettz(TIME_ZONE)))\r\n",
    "    return dt.strftime(format), dt\r\n",
    "\r\n",
    "_, newest_dt = ts2dt(newest_ts)\r\n",
    "print(f\"Recent query happens at {newest_dt.strftime(DATETIME_FORMAT)} ({newest_dt.tzname()}).\")"
   ]
  },
  {
   "cell_type": "code",
   "execution_count": 4,
   "metadata": {
    "execution": {
     "iopub.execute_input": "2021-10-09T19:09:18.594002Z",
     "iopub.status.busy": "2021-10-09T19:09:18.592694Z",
     "iopub.status.idle": "2021-10-09T19:09:18.594590Z",
     "shell.execute_reply": "2021-10-09T19:09:18.594998Z"
    }
   },
   "outputs": [],
   "source": [
    "def degrees_to_cardinal(d):\r\n",
    "  dirs = ['N', 'NNE', 'NE', 'ENE', 'E', 'ESE', 'SE', 'SSE', 'S', 'SSW', 'SW', 'WSW', 'W', 'WNW', 'NW', 'NNW']\r\n",
    "  ix = int(round(d / (360. / len(dirs))))\r\n",
    "  return dirs[ix % len(dirs)]"
   ]
  },
  {
   "cell_type": "code",
   "execution_count": 5,
   "metadata": {
    "execution": {
     "iopub.execute_input": "2021-10-09T19:09:18.598671Z",
     "iopub.status.busy": "2021-10-09T19:09:18.597858Z",
     "iopub.status.idle": "2021-10-09T19:09:18.600000Z",
     "shell.execute_reply": "2021-10-09T19:09:18.600458Z"
    }
   },
   "outputs": [],
   "source": [
    "# data.keys()"
   ]
  },
  {
   "cell_type": "code",
   "execution_count": 6,
   "metadata": {
    "execution": {
     "iopub.execute_input": "2021-10-09T19:09:18.604771Z",
     "iopub.status.busy": "2021-10-09T19:09:18.603476Z",
     "iopub.status.idle": "2021-10-09T19:09:18.605419Z",
     "shell.execute_reply": "2021-10-09T19:09:18.605836Z"
    }
   },
   "outputs": [],
   "source": [
    "# data['current']"
   ]
  },
  {
   "cell_type": "code",
   "execution_count": 7,
   "metadata": {
    "execution": {
     "iopub.execute_input": "2021-10-09T19:09:18.623603Z",
     "iopub.status.busy": "2021-10-09T19:09:18.623047Z",
     "iopub.status.idle": "2021-10-09T19:09:19.046209Z",
     "shell.execute_reply": "2021-10-09T19:09:19.047025Z"
    }
   },
   "outputs": [
    {
     "data": {
      "image/png": "[encoded data removed]",
      "text/plain": [
       "<Figure size 216x216 with 1 Axes>"
      ]
     },
     "metadata": {
      "needs_background": "light"
     },
     "output_type": "display_data"
    },
    {
     "name": "stdout",
     "output_type": "stream",
     "text": [
      "Today, sun rises at 06:17 and sets at 18:02.\n",
      "Currently, the weather is Rain (moderate rain).\n",
      "The temperature is 25.9°C and it feels like 27.03°C.\n",
      "The UV index is 0, humidity is 95%.\n",
      "The pressure is 1007 hPa, percentage of cloud cover is 100%\n",
      "The wind comes from ENE direction with a speed 0.89 m/s.\n"
     ]
    }
   ],
   "source": [
    "current = data['current']\r\n",
    "\r\n",
    "fig, ax = plt.subplots(figsize=(3, 3))\r\n",
    "icon = requests.get(f\"http://openweathermap.org/img/wn/{current['weather'][0]['icon']}@2x.png\")\r\n",
    "im = Image.open(BytesIO(icon.content))\r\n",
    "plt.imshow(im)\r\n",
    "ax.set_axis_off()\r\n",
    "plt.show()\r\n",
    "\r\n",
    "print(f\"Today, sun rises at {ts2dt(current['sunrise'], '%H:%M')[0]} \\\r\n",
    "and sets at {ts2dt(current['sunset'], '%H:%M')[0]}.\\n\\\r\n",
    "Currently, the weather is {current['weather'][0]['main']} ({current['weather'][0]['description']}).\\n\\\r\n",
    "The temperature is {current['temp']}°C and it feels like {current['feels_like']}°C.\\n\\\r\n",
    "The UV index is {current['uvi']}, humidity is {current['humidity']}%.\\n\\\r\n",
    "The pressure is {current['pressure']} hPa, percentage of cloud cover is {current['clouds']}%\\n\\\r\n",
    "The wind comes from {degrees_to_cardinal(current['wind_deg'])} direction with a speed {current['wind_speed']} m/s.\")"
   ]
  },
  {
   "cell_type": "code",
   "execution_count": 8,
   "metadata": {
    "execution": {
     "iopub.execute_input": "2021-10-09T19:09:19.060785Z",
     "iopub.status.busy": "2021-10-09T19:09:19.060217Z",
     "iopub.status.idle": "2021-10-09T19:09:19.079281Z",
     "shell.execute_reply": "2021-10-09T19:09:19.079915Z"
    }
   },
   "outputs": [],
   "source": [
    "df_hourly = pd.DataFrame(data['hourly'])\r\n",
    "df_daily = pd.DataFrame(data['daily'])"
   ]
  },
  {
   "cell_type": "code",
   "execution_count": 9,
   "metadata": {
    "execution": {
     "iopub.execute_input": "2021-10-09T19:09:19.088359Z",
     "iopub.status.busy": "2021-10-09T19:09:19.087699Z",
     "iopub.status.idle": "2021-10-09T19:09:19.375022Z",
     "shell.execute_reply": "2021-10-09T19:09:19.375483Z"
    }
   },
   "outputs": [
    {
     "data": {
      "image/png": "[encoded data removed]",
      "text/plain": [
       "<Figure size 864x432 with 1 Axes>"
      ]
     },
     "metadata": {
      "needs_background": "light"
     },
     "output_type": "display_data"
    }
   ],
   "source": [
    "fig, ax = plt.subplots(figsize=(12, 6))\r\n",
    "plt.plot(df_hourly.temp, '.-', label='Temperature')\r\n",
    "plt.plot(df_hourly.feels_like, '.-', label='Feels Like')\r\n",
    "ax.set(title='Temperature in future 48 hours', xlabel='Time', ylabel='Temperature')\r\n",
    "ax.set_xticks(list(range(0, len(df_hourly), 2)))\r\n",
    "ax.set_xticklabels([ts2dt(ts, '%m-%d %H:%M')[0] for i, ts in enumerate(df_hourly.dt) if i%2==0], \r\n",
    "                   rotation=45, ha=\"right\")\r\n",
    "ax.locator_params(nbins=15, axis='y')\r\n",
    "plt.legend()\r\n",
    "plt.show()"
   ]
  },
  {
   "cell_type": "code",
   "execution_count": 10,
   "metadata": {
    "execution": {
     "iopub.execute_input": "2021-10-09T19:09:19.380024Z",
     "iopub.status.busy": "2021-10-09T19:09:19.377686Z",
     "iopub.status.idle": "2021-10-09T19:09:19.400164Z",
     "shell.execute_reply": "2021-10-09T19:09:19.399444Z"
    }
   },
   "outputs": [
    {
     "data": {
      "text/html": [
       "<div>\n",
       "<style scoped>\n",
       "    .dataframe tbody tr th:only-of-type {\n",
       "        vertical-align: middle;\n",
       "    }\n",
       "\n",
       "    .dataframe tbody tr th {\n",
       "        vertical-align: top;\n",
       "    }\n",
       "\n",
       "    .dataframe thead th {\n",
       "        text-align: right;\n",
       "    }\n",
       "</style>\n",
       "<table border=\"1\" class=\"dataframe\">\n",
       "  <thead>\n",
       "    <tr style=\"text-align: right;\">\n",
       "      <th></th>\n",
       "      <th>dt</th>\n",
       "      <th>temp</th>\n",
       "      <th>feels_like</th>\n",
       "      <th>pressure</th>\n",
       "      <th>humidity</th>\n",
       "      <th>dew_point</th>\n",
       "      <th>uvi</th>\n",
       "      <th>clouds</th>\n",
       "      <th>visibility</th>\n",
       "      <th>wind_speed</th>\n",
       "      <th>wind_deg</th>\n",
       "      <th>wind_gust</th>\n",
       "      <th>weather</th>\n",
       "      <th>pop</th>\n",
       "      <th>rain</th>\n",
       "    </tr>\n",
       "  </thead>\n",
       "  <tbody>\n",
       "    <tr>\n",
       "      <th>0</th>\n",
       "      <td>1633806000</td>\n",
       "      <td>25.90</td>\n",
       "      <td>27.03</td>\n",
       "      <td>1007</td>\n",
       "      <td>95</td>\n",
       "      <td>25.04</td>\n",
       "      <td>0.00</td>\n",
       "      <td>100</td>\n",
       "      <td>10000</td>\n",
       "      <td>11.62</td>\n",
       "      <td>84</td>\n",
       "      <td>15.79</td>\n",
       "      <td>[{'id': 500, 'main': 'Rain', 'description': 'l...</td>\n",
       "      <td>0.69</td>\n",
       "      <td>{'1h': 0.43}</td>\n",
       "    </tr>\n",
       "    <tr>\n",
       "      <th>1</th>\n",
       "      <td>1633809600</td>\n",
       "      <td>25.94</td>\n",
       "      <td>27.02</td>\n",
       "      <td>1007</td>\n",
       "      <td>93</td>\n",
       "      <td>24.72</td>\n",
       "      <td>0.00</td>\n",
       "      <td>100</td>\n",
       "      <td>10000</td>\n",
       "      <td>11.43</td>\n",
       "      <td>84</td>\n",
       "      <td>15.56</td>\n",
       "      <td>[{'id': 500, 'main': 'Rain', 'description': 'l...</td>\n",
       "      <td>0.69</td>\n",
       "      <td>{'1h': 0.56}</td>\n",
       "    </tr>\n",
       "    <tr>\n",
       "      <th>2</th>\n",
       "      <td>1633813200</td>\n",
       "      <td>25.95</td>\n",
       "      <td>25.95</td>\n",
       "      <td>1007</td>\n",
       "      <td>91</td>\n",
       "      <td>24.37</td>\n",
       "      <td>0.00</td>\n",
       "      <td>100</td>\n",
       "      <td>10000</td>\n",
       "      <td>11.32</td>\n",
       "      <td>86</td>\n",
       "      <td>15.12</td>\n",
       "      <td>[{'id': 501, 'main': 'Rain', 'description': 'm...</td>\n",
       "      <td>0.69</td>\n",
       "      <td>{'1h': 3.16}</td>\n",
       "    </tr>\n",
       "    <tr>\n",
       "      <th>3</th>\n",
       "      <td>1633816800</td>\n",
       "      <td>26.03</td>\n",
       "      <td>26.03</td>\n",
       "      <td>1008</td>\n",
       "      <td>90</td>\n",
       "      <td>24.26</td>\n",
       "      <td>0.00</td>\n",
       "      <td>100</td>\n",
       "      <td>10000</td>\n",
       "      <td>10.97</td>\n",
       "      <td>88</td>\n",
       "      <td>14.78</td>\n",
       "      <td>[{'id': 500, 'main': 'Rain', 'description': 'l...</td>\n",
       "      <td>0.69</td>\n",
       "      <td>{'1h': 0.54}</td>\n",
       "    </tr>\n",
       "    <tr>\n",
       "      <th>4</th>\n",
       "      <td>1633820400</td>\n",
       "      <td>26.12</td>\n",
       "      <td>26.12</td>\n",
       "      <td>1009</td>\n",
       "      <td>87</td>\n",
       "      <td>23.78</td>\n",
       "      <td>0.01</td>\n",
       "      <td>100</td>\n",
       "      <td>10000</td>\n",
       "      <td>10.38</td>\n",
       "      <td>89</td>\n",
       "      <td>14.08</td>\n",
       "      <td>[{'id': 500, 'main': 'Rain', 'description': 'l...</td>\n",
       "      <td>0.69</td>\n",
       "      <td>{'1h': 0.67}</td>\n",
       "    </tr>\n",
       "  </tbody>\n",
       "</table>\n",
       "</div>"
      ],
      "text/plain": [
       "           dt   temp  feels_like  pressure  humidity  dew_point   uvi  clouds  \\\n",
       "0  1633806000  25.90       27.03      1007        95      25.04  0.00     100   \n",
       "1  1633809600  25.94       27.02      1007        93      24.72  0.00     100   \n",
       "2  1633813200  25.95       25.95      1007        91      24.37  0.00     100   \n",
       "3  1633816800  26.03       26.03      1008        90      24.26  0.00     100   \n",
       "4  1633820400  26.12       26.12      1009        87      23.78  0.01     100   \n",
       "\n",
       "   visibility  wind_speed  wind_deg  wind_gust  \\\n",
       "0       10000       11.62        84      15.79   \n",
       "1       10000       11.43        84      15.56   \n",
       "2       10000       11.32        86      15.12   \n",
       "3       10000       10.97        88      14.78   \n",
       "4       10000       10.38        89      14.08   \n",
       "\n",
       "                                             weather   pop          rain  \n",
       "0  [{'id': 500, 'main': 'Rain', 'description': 'l...  0.69  {'1h': 0.43}  \n",
       "1  [{'id': 500, 'main': 'Rain', 'description': 'l...  0.69  {'1h': 0.56}  \n",
       "2  [{'id': 501, 'main': 'Rain', 'description': 'm...  0.69  {'1h': 3.16}  \n",
       "3  [{'id': 500, 'main': 'Rain', 'description': 'l...  0.69  {'1h': 0.54}  \n",
       "4  [{'id': 500, 'main': 'Rain', 'description': 'l...  0.69  {'1h': 0.67}  "
      ]
     },
     "execution_count": 10,
     "metadata": {},
     "output_type": "execute_result"
    }
   ],
   "source": [
    "df_hourly.head()"
   ]
  },
  {
   "cell_type": "code",
   "execution_count": null,
   "metadata": {},
   "outputs": [],
   "source": []
  }
 ],
 "metadata": {
  "interpreter": {
   "hash": "c1b4cfe941b6d2466ad1fb5979e97da9cda8801728c8091b097ab734208fc00c"
  },
  "kernelspec": {
   "display_name": "Python 3.8.3 64-bit ('base': conda)",
   "name": "python3"
  },
  "language_info": {
   "codemirror_mode": {
    "name": "ipython",
    "version": 3
   },
   "file_extension": ".py",
   "mimetype": "text/x-python",
   "name": "python",
   "nbconvert_exporter": "python",
   "pygments_lexer": "ipython3",
   "version": "3.8.12"
  }
 },
 "nbformat": 4,
 "nbformat_minor": 2
}
