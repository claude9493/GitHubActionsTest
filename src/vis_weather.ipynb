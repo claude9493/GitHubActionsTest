{
 "cells": [
  {
   "cell_type": "code",
   "execution_count": 1,
   "metadata": {
    "execution": {
     "iopub.execute_input": "2021-10-12T10:13:03.609201Z",
     "iopub.status.busy": "2021-10-12T10:13:03.608625Z",
     "iopub.status.idle": "2021-10-12T10:13:04.861016Z",
     "shell.execute_reply": "2021-10-12T10:13:04.860474Z"
    }
   },
   "outputs": [],
   "source": [
    "import json, yaml, requests\r\n",
    "from datetime import datetime\r\n",
    "from dateutil import tz\r\n",
    "import pandas as pd\r\n",
    "from PIL import Image\r\n",
    "from io import BytesIO\r\n",
    "import matplotlib.pyplot as plt\r\n",
    "import seaborn\r\n",
    "\r\n",
    "CONFIG_PATH = \"../config/config.yaml\""
   ]
  },
  {
   "cell_type": "code",
   "execution_count": 2,
   "metadata": {
    "execution": {
     "iopub.execute_input": "2021-10-12T10:13:04.863879Z",
     "iopub.status.busy": "2021-10-12T10:13:04.863259Z",
     "iopub.status.idle": "2021-10-12T10:13:04.870515Z",
     "shell.execute_reply": "2021-10-12T10:13:04.870117Z"
    }
   },
   "outputs": [],
   "source": [
    "with open('../newest_ts', 'r') as f:\r\n",
    "    newest_ts = f.read()\r\n",
    "\r\n",
    "data_path = f\"../data/data_{newest_ts}.json\"\r\n",
    "with open(data_path, 'r') as f:\r\n",
    "    data = json.load(f)\r\n",
    "\r\n",
    "with open(CONFIG_PATH, \"r\") as stream:\r\n",
    "    config = yaml.safe_load(stream)\r\n",
    "\r\n",
    "TIME_ZONE = config['time_zone']\r\n",
    "DATETIME_FORMAT = config['dt_format']"
   ]
  },
  {
   "cell_type": "code",
   "execution_count": 3,
   "metadata": {
    "execution": {
     "iopub.execute_input": "2021-10-12T10:13:04.874723Z",
     "iopub.status.busy": "2021-10-12T10:13:04.874260Z",
     "iopub.status.idle": "2021-10-12T10:13:04.885130Z",
     "shell.execute_reply": "2021-10-12T10:13:04.885534Z"
    }
   },
   "outputs": [
    {
     "name": "stdout",
     "output_type": "stream",
     "text": [
      "Recent query happens at 2021-10-12 18:13:00 (CST).\n"
     ]
    }
   ],
   "source": [
    "def ts2dt(ts, format=DATETIME_FORMAT):\r\n",
    "    dt = (datetime.utcfromtimestamp(int(ts))\r\n",
    "                    .replace(tzinfo=tz.tzutc())\r\n",
    "                    # .astimezone(tz.tzlocal())\r\n",
    "                    .astimezone(tz.gettz(TIME_ZONE)))\r\n",
    "    return dt.strftime(format), dt\r\n",
    "\r\n",
    "_, newest_dt = ts2dt(newest_ts)\r\n",
    "print(f\"Recent query happens at {newest_dt.strftime(DATETIME_FORMAT)} ({newest_dt.tzname()}).\")"
   ]
  },
  {
   "cell_type": "code",
   "execution_count": 4,
   "metadata": {
    "execution": {
     "iopub.execute_input": "2021-10-12T10:13:04.890390Z",
     "iopub.status.busy": "2021-10-12T10:13:04.889181Z",
     "iopub.status.idle": "2021-10-12T10:13:04.890913Z",
     "shell.execute_reply": "2021-10-12T10:13:04.891274Z"
    }
   },
   "outputs": [],
   "source": [
    "def degrees_to_cardinal(d):\r\n",
    "  dirs = ['N', 'NNE', 'NE', 'ENE', 'E', 'ESE', 'SE', 'SSE', 'S', 'SSW', 'SW', 'WSW', 'W', 'WNW', 'NW', 'NNW']\r\n",
    "  ix = int(round(d / (360. / len(dirs))))\r\n",
    "  return dirs[ix % len(dirs)]"
   ]
  },
  {
   "cell_type": "code",
   "execution_count": 5,
   "metadata": {
    "execution": {
     "iopub.execute_input": "2021-10-12T10:13:04.895063Z",
     "iopub.status.busy": "2021-10-12T10:13:04.893969Z",
     "iopub.status.idle": "2021-10-12T10:13:04.895593Z",
     "shell.execute_reply": "2021-10-12T10:13:04.895953Z"
    }
   },
   "outputs": [],
   "source": [
    "# data.keys()"
   ]
  },
  {
   "cell_type": "code",
   "execution_count": 6,
   "metadata": {
    "execution": {
     "iopub.execute_input": "2021-10-12T10:13:04.899412Z",
     "iopub.status.busy": "2021-10-12T10:13:04.898422Z",
     "iopub.status.idle": "2021-10-12T10:13:04.899930Z",
     "shell.execute_reply": "2021-10-12T10:13:04.900290Z"
    }
   },
   "outputs": [],
   "source": [
    "# data['current']"
   ]
  },
  {
   "cell_type": "code",
   "execution_count": 7,
   "metadata": {
    "execution": {
     "iopub.execute_input": "2021-10-12T10:13:04.916938Z",
     "iopub.status.busy": "2021-10-12T10:13:04.916461Z",
     "iopub.status.idle": "2021-10-12T10:13:05.426814Z",
     "shell.execute_reply": "2021-10-12T10:13:05.427195Z"
    }
   },
   "outputs": [
    {
     "data": {
      "image/png": "[encoded data removed]",
      "text/plain": [
       "<Figure size 216x216 with 1 Axes>"
      ]
     },
     "metadata": {
      "needs_background": "light"
     },
     "output_type": "display_data"
    },
    {
     "name": "stdout",
     "output_type": "stream",
     "text": [
      "Today, sun rises at 06:17 and sets at 18:00.\n",
      "Currently, the weather is Rain (light rain).\n",
      "The temperature is 25.53°C and it feels like 25.97°C.\n",
      "The UV index is 0, humidity is 70%.\n",
      "The pressure is 1010 hPa, percentage of cloud cover is 100%\n",
      "The wind comes from WNW direction with a speed 1.34 m/s.\n"
     ]
    }
   ],
   "source": [
    "current = data['current']\r\n",
    "\r\n",
    "fig, ax = plt.subplots(figsize=(3, 3))\r\n",
    "icon = requests.get(f\"http://openweathermap.org/img/wn/{current['weather'][0]['icon']}@2x.png\")\r\n",
    "im = Image.open(BytesIO(icon.content))\r\n",
    "plt.imshow(im)\r\n",
    "ax.set_axis_off()\r\n",
    "plt.show()\r\n",
    "\r\n",
    "print(f\"Today, sun rises at {ts2dt(current['sunrise'], '%H:%M')[0]} \\\r\n",
    "and sets at {ts2dt(current['sunset'], '%H:%M')[0]}.\\n\\\r\n",
    "Currently, the weather is {current['weather'][0]['main']} ({current['weather'][0]['description']}).\\n\\\r\n",
    "The temperature is {current['temp']}°C and it feels like {current['feels_like']}°C.\\n\\\r\n",
    "The UV index is {current['uvi']}, humidity is {current['humidity']}%.\\n\\\r\n",
    "The pressure is {current['pressure']} hPa, percentage of cloud cover is {current['clouds']}%\\n\\\r\n",
    "The wind comes from {degrees_to_cardinal(current['wind_deg'])} direction with a speed {current['wind_speed']} m/s.\")"
   ]
  },
  {
   "cell_type": "code",
   "execution_count": 8,
   "metadata": {
    "execution": {
     "iopub.execute_input": "2021-10-12T10:13:05.432124Z",
     "iopub.status.busy": "2021-10-12T10:13:05.431654Z",
     "iopub.status.idle": "2021-10-12T10:13:05.435260Z",
     "shell.execute_reply": "2021-10-12T10:13:05.435606Z"
    }
   },
   "outputs": [],
   "source": [
    "df_hourly = pd.DataFrame(data['hourly'])\r\n",
    "df_daily = pd.DataFrame(data['daily'])"
   ]
  },
  {
   "cell_type": "code",
   "execution_count": 9,
   "metadata": {
    "execution": {
     "iopub.execute_input": "2021-10-12T10:13:05.450907Z",
     "iopub.status.busy": "2021-10-12T10:13:05.450447Z",
     "iopub.status.idle": "2021-10-12T10:13:05.673515Z",
     "shell.execute_reply": "2021-10-12T10:13:05.673913Z"
    }
   },
   "outputs": [
    {
     "data": {
      "image/png": "[encoded data removed]",
      "text/plain": [
       "<Figure size 864x432 with 1 Axes>"
      ]
     },
     "metadata": {
      "needs_background": "light"
     },
     "output_type": "display_data"
    }
   ],
   "source": [
    "fig, ax = plt.subplots(figsize=(12, 6))\r\n",
    "plt.plot(df_hourly.temp, '.-', label='Temperature')\r\n",
    "plt.plot(df_hourly.feels_like, '.-', label='Feels Like')\r\n",
    "ax.set(title='Temperature in future 48 hours', xlabel='Time', ylabel='Temperature')\r\n",
    "ax.set_xticks(list(range(0, len(df_hourly), 2)))\r\n",
    "ax.set_xticklabels([ts2dt(ts, '%m-%d %H:%M')[0] for i, ts in enumerate(df_hourly.dt) if i%2==0], \r\n",
    "                   rotation=45, ha=\"right\")\r\n",
    "ax.locator_params(nbins=15, axis='y')\r\n",
    "plt.legend()\r\n",
    "plt.show()"
   ]
  },
  {
   "cell_type": "code",
   "execution_count": 10,
   "metadata": {
    "execution": {
     "iopub.execute_input": "2021-10-12T10:13:05.678604Z",
     "iopub.status.busy": "2021-10-12T10:13:05.677717Z",
     "iopub.status.idle": "2021-10-12T10:13:05.697261Z",
     "shell.execute_reply": "2021-10-12T10:13:05.697671Z"
    }
   },
   "outputs": [
    {
     "data": {
      "text/html": [
       "<div>\n",
       "<style scoped>\n",
       "    .dataframe tbody tr th:only-of-type {\n",
       "        vertical-align: middle;\n",
       "    }\n",
       "\n",
       "    .dataframe tbody tr th {\n",
       "        vertical-align: top;\n",
       "    }\n",
       "\n",
       "    .dataframe thead th {\n",
       "        text-align: right;\n",
       "    }\n",
       "</style>\n",
       "<table border=\"1\" class=\"dataframe\">\n",
       "  <thead>\n",
       "    <tr style=\"text-align: right;\">\n",
       "      <th></th>\n",
       "      <th>dt</th>\n",
       "      <th>temp</th>\n",
       "      <th>feels_like</th>\n",
       "      <th>pressure</th>\n",
       "      <th>humidity</th>\n",
       "      <th>dew_point</th>\n",
       "      <th>uvi</th>\n",
       "      <th>clouds</th>\n",
       "      <th>visibility</th>\n",
       "      <th>wind_speed</th>\n",
       "      <th>wind_deg</th>\n",
       "      <th>wind_gust</th>\n",
       "      <th>weather</th>\n",
       "      <th>pop</th>\n",
       "      <th>rain</th>\n",
       "    </tr>\n",
       "  </thead>\n",
       "  <tbody>\n",
       "    <tr>\n",
       "      <th>0</th>\n",
       "      <td>1634032800</td>\n",
       "      <td>25.53</td>\n",
       "      <td>25.97</td>\n",
       "      <td>1010</td>\n",
       "      <td>70</td>\n",
       "      <td>19.66</td>\n",
       "      <td>0.0</td>\n",
       "      <td>100</td>\n",
       "      <td>10000</td>\n",
       "      <td>14.30</td>\n",
       "      <td>13</td>\n",
       "      <td>20.70</td>\n",
       "      <td>[{'id': 804, 'main': 'Clouds', 'description': ...</td>\n",
       "      <td>0.00</td>\n",
       "      <td>NaN</td>\n",
       "    </tr>\n",
       "    <tr>\n",
       "      <th>1</th>\n",
       "      <td>1634036400</td>\n",
       "      <td>25.10</td>\n",
       "      <td>25.52</td>\n",
       "      <td>1008</td>\n",
       "      <td>71</td>\n",
       "      <td>19.47</td>\n",
       "      <td>0.0</td>\n",
       "      <td>100</td>\n",
       "      <td>10000</td>\n",
       "      <td>14.79</td>\n",
       "      <td>8</td>\n",
       "      <td>20.75</td>\n",
       "      <td>[{'id': 804, 'main': 'Clouds', 'description': ...</td>\n",
       "      <td>0.03</td>\n",
       "      <td>NaN</td>\n",
       "    </tr>\n",
       "    <tr>\n",
       "      <th>2</th>\n",
       "      <td>1634040000</td>\n",
       "      <td>24.69</td>\n",
       "      <td>25.07</td>\n",
       "      <td>1006</td>\n",
       "      <td>71</td>\n",
       "      <td>19.08</td>\n",
       "      <td>0.0</td>\n",
       "      <td>100</td>\n",
       "      <td>10000</td>\n",
       "      <td>14.45</td>\n",
       "      <td>15</td>\n",
       "      <td>21.33</td>\n",
       "      <td>[{'id': 804, 'main': 'Clouds', 'description': ...</td>\n",
       "      <td>0.18</td>\n",
       "      <td>NaN</td>\n",
       "    </tr>\n",
       "    <tr>\n",
       "      <th>3</th>\n",
       "      <td>1634043600</td>\n",
       "      <td>23.99</td>\n",
       "      <td>24.35</td>\n",
       "      <td>1005</td>\n",
       "      <td>73</td>\n",
       "      <td>18.85</td>\n",
       "      <td>0.0</td>\n",
       "      <td>100</td>\n",
       "      <td>10000</td>\n",
       "      <td>13.39</td>\n",
       "      <td>17</td>\n",
       "      <td>20.43</td>\n",
       "      <td>[{'id': 501, 'main': 'Rain', 'description': 'm...</td>\n",
       "      <td>0.79</td>\n",
       "      <td>{'1h': 1.31}</td>\n",
       "    </tr>\n",
       "    <tr>\n",
       "      <th>4</th>\n",
       "      <td>1634047200</td>\n",
       "      <td>22.56</td>\n",
       "      <td>23.01</td>\n",
       "      <td>1003</td>\n",
       "      <td>82</td>\n",
       "      <td>19.33</td>\n",
       "      <td>0.0</td>\n",
       "      <td>100</td>\n",
       "      <td>10000</td>\n",
       "      <td>13.15</td>\n",
       "      <td>13</td>\n",
       "      <td>21.76</td>\n",
       "      <td>[{'id': 500, 'main': 'Rain', 'description': 'l...</td>\n",
       "      <td>0.87</td>\n",
       "      <td>{'1h': 0.91}</td>\n",
       "    </tr>\n",
       "  </tbody>\n",
       "</table>\n",
       "</div>"
      ],
      "text/plain": [
       "           dt   temp  feels_like  pressure  humidity  dew_point  uvi  clouds  \\\n",
       "0  1634032800  25.53       25.97      1010        70      19.66  0.0     100   \n",
       "1  1634036400  25.10       25.52      1008        71      19.47  0.0     100   \n",
       "2  1634040000  24.69       25.07      1006        71      19.08  0.0     100   \n",
       "3  1634043600  23.99       24.35      1005        73      18.85  0.0     100   \n",
       "4  1634047200  22.56       23.01      1003        82      19.33  0.0     100   \n",
       "\n",
       "   visibility  wind_speed  wind_deg  wind_gust  \\\n",
       "0       10000       14.30        13      20.70   \n",
       "1       10000       14.79         8      20.75   \n",
       "2       10000       14.45        15      21.33   \n",
       "3       10000       13.39        17      20.43   \n",
       "4       10000       13.15        13      21.76   \n",
       "\n",
       "                                             weather   pop          rain  \n",
       "0  [{'id': 804, 'main': 'Clouds', 'description': ...  0.00           NaN  \n",
       "1  [{'id': 804, 'main': 'Clouds', 'description': ...  0.03           NaN  \n",
       "2  [{'id': 804, 'main': 'Clouds', 'description': ...  0.18           NaN  \n",
       "3  [{'id': 501, 'main': 'Rain', 'description': 'm...  0.79  {'1h': 1.31}  \n",
       "4  [{'id': 500, 'main': 'Rain', 'description': 'l...  0.87  {'1h': 0.91}  "
      ]
     },
     "execution_count": 10,
     "metadata": {},
     "output_type": "execute_result"
    }
   ],
   "source": [
    "df_hourly.head()"
   ]
  },
  {
   "cell_type": "code",
   "execution_count": null,
   "metadata": {},
   "outputs": [],
   "source": []
  }
 ],
 "metadata": {
  "interpreter": {
   "hash": "c1b4cfe941b6d2466ad1fb5979e97da9cda8801728c8091b097ab734208fc00c"
  },
  "kernelspec": {
   "display_name": "Python 3.8.3 64-bit ('base': conda)",
   "name": "python3"
  },
  "language_info": {
   "codemirror_mode": {
    "name": "ipython",
    "version": 3
   },
   "file_extension": ".py",
   "mimetype": "text/x-python",
   "name": "python",
   "nbconvert_exporter": "python",
   "pygments_lexer": "ipython3",
   "version": "3.8.12"
  }
 },
 "nbformat": 4,
 "nbformat_minor": 2
}
