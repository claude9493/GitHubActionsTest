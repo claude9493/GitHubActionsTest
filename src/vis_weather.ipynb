{
 "cells": [
  {
   "cell_type": "code",
   "execution_count": 1,
   "metadata": {
    "execution": {
     "iopub.execute_input": "2021-10-20T08:14:17.529915Z",
     "iopub.status.busy": "2021-10-20T08:14:17.529333Z",
     "iopub.status.idle": "2021-10-20T08:14:20.096872Z",
     "shell.execute_reply": "2021-10-20T08:14:20.096280Z"
    }
   },
   "outputs": [],
   "source": [
    "import json, yaml, requests\r\n",
    "from datetime import datetime\r\n",
    "from dateutil import tz\r\n",
    "import pandas as pd\r\n",
    "from PIL import Image\r\n",
    "from io import BytesIO\r\n",
    "import matplotlib.pyplot as plt\r\n",
    "import seaborn\r\n",
    "\r\n",
    "CONFIG_PATH = \"../config/config.yaml\""
   ]
  },
  {
   "cell_type": "code",
   "execution_count": 2,
   "metadata": {
    "execution": {
     "iopub.execute_input": "2021-10-20T08:14:20.104650Z",
     "iopub.status.busy": "2021-10-20T08:14:20.101806Z",
     "iopub.status.idle": "2021-10-20T08:14:20.107426Z",
     "shell.execute_reply": "2021-10-20T08:14:20.106696Z"
    }
   },
   "outputs": [],
   "source": [
    "with open('../newest_ts', 'r') as f:\r\n",
    "    newest_ts = f.read()\r\n",
    "\r\n",
    "data_path = f\"../data/data_{newest_ts}.json\"\r\n",
    "with open(data_path, 'r') as f:\r\n",
    "    data = json.load(f)\r\n",
    "\r\n",
    "with open(CONFIG_PATH, \"r\") as stream:\r\n",
    "    config = yaml.safe_load(stream)\r\n",
    "\r\n",
    "TIME_ZONE = config['time_zone']\r\n",
    "DATETIME_FORMAT = config['dt_format']"
   ]
  },
  {
   "cell_type": "code",
   "execution_count": 3,
   "metadata": {
    "execution": {
     "iopub.execute_input": "2021-10-20T08:14:20.111906Z",
     "iopub.status.busy": "2021-10-20T08:14:20.111410Z",
     "iopub.status.idle": "2021-10-20T08:14:20.117506Z",
     "shell.execute_reply": "2021-10-20T08:14:20.117125Z"
    }
   },
   "outputs": [
    {
     "name": "stdout",
     "output_type": "stream",
     "text": [
      "Recent query happens at 2021-10-20 16:14:14 (CST).\n"
     ]
    }
   ],
   "source": [
    "def ts2dt(ts, format=DATETIME_FORMAT):\r\n",
    "    dt = (datetime.utcfromtimestamp(int(ts))\r\n",
    "                    .replace(tzinfo=tz.tzutc())\r\n",
    "                    # .astimezone(tz.tzlocal())\r\n",
    "                    .astimezone(tz.gettz(TIME_ZONE)))\r\n",
    "    return dt.strftime(format), dt\r\n",
    "\r\n",
    "_, newest_dt = ts2dt(newest_ts)\r\n",
    "print(f\"Recent query happens at {newest_dt.strftime(DATETIME_FORMAT)} ({newest_dt.tzname()}).\")"
   ]
  },
  {
   "cell_type": "code",
   "execution_count": 4,
   "metadata": {
    "execution": {
     "iopub.execute_input": "2021-10-20T08:14:20.121630Z",
     "iopub.status.busy": "2021-10-20T08:14:20.121176Z",
     "iopub.status.idle": "2021-10-20T08:14:20.123878Z",
     "shell.execute_reply": "2021-10-20T08:14:20.124229Z"
    }
   },
   "outputs": [],
   "source": [
    "def degrees_to_cardinal(d):\r\n",
    "  dirs = ['N', 'NNE', 'NE', 'ENE', 'E', 'ESE', 'SE', 'SSE', 'S', 'SSW', 'SW', 'WSW', 'W', 'WNW', 'NW', 'NNW']\r\n",
    "  ix = int(round(d / (360. / len(dirs))))\r\n",
    "  return dirs[ix % len(dirs)]"
   ]
  },
  {
   "cell_type": "code",
   "execution_count": 5,
   "metadata": {
    "execution": {
     "iopub.execute_input": "2021-10-20T08:14:20.128231Z",
     "iopub.status.busy": "2021-10-20T08:14:20.127185Z",
     "iopub.status.idle": "2021-10-20T08:14:20.128744Z",
     "shell.execute_reply": "2021-10-20T08:14:20.129108Z"
    }
   },
   "outputs": [],
   "source": [
    "# data.keys()"
   ]
  },
  {
   "cell_type": "code",
   "execution_count": 6,
   "metadata": {
    "execution": {
     "iopub.execute_input": "2021-10-20T08:14:20.132861Z",
     "iopub.status.busy": "2021-10-20T08:14:20.131674Z",
     "iopub.status.idle": "2021-10-20T08:14:20.133384Z",
     "shell.execute_reply": "2021-10-20T08:14:20.133747Z"
    }
   },
   "outputs": [],
   "source": [
    "# data['current']"
   ]
  },
  {
   "cell_type": "code",
   "execution_count": 7,
   "metadata": {
    "execution": {
     "iopub.execute_input": "2021-10-20T08:14:20.153305Z",
     "iopub.status.busy": "2021-10-20T08:14:20.151538Z",
     "iopub.status.idle": "2021-10-20T08:14:20.537951Z",
     "shell.execute_reply": "2021-10-20T08:14:20.538621Z"
    }
   },
   "outputs": [
    {
     "data": {
      "image/png": "[encoded data removed]",
      "text/plain": [
       "<Figure size 216x216 with 1 Axes>"
      ]
     },
     "metadata": {
      "needs_background": "light"
     },
     "output_type": "display_data"
    },
    {
     "name": "stdout",
     "output_type": "stream",
     "text": [
      "Today, sun rises at 06:21 and sets at 17:54.\n",
      "Currently, the weather is Clouds (broken clouds).\n",
      "The temperature is 28.65°C and it feels like 32.67°C.\n",
      "The UV index is 1.94, humidity is 74%.\n",
      "The pressure is 1013 hPa, percentage of cloud cover is 75%\n",
      "The wind comes from W direction with a speed 0.45 m/s.\n"
     ]
    }
   ],
   "source": [
    "current = data['current']\r\n",
    "\r\n",
    "fig, ax = plt.subplots(figsize=(3, 3))\r\n",
    "icon = requests.get(f\"http://openweathermap.org/img/wn/{current['weather'][0]['icon']}@2x.png\")\r\n",
    "im = Image.open(BytesIO(icon.content))\r\n",
    "plt.imshow(im)\r\n",
    "ax.set_axis_off()\r\n",
    "plt.show()\r\n",
    "\r\n",
    "print(f\"Today, sun rises at {ts2dt(current['sunrise'], '%H:%M')[0]} \\\r\n",
    "and sets at {ts2dt(current['sunset'], '%H:%M')[0]}.\\n\\\r\n",
    "Currently, the weather is {current['weather'][0]['main']} ({current['weather'][0]['description']}).\\n\\\r\n",
    "The temperature is {current['temp']}°C and it feels like {current['feels_like']}°C.\\n\\\r\n",
    "The UV index is {current['uvi']}, humidity is {current['humidity']}%.\\n\\\r\n",
    "The pressure is {current['pressure']} hPa, percentage of cloud cover is {current['clouds']}%\\n\\\r\n",
    "The wind comes from {degrees_to_cardinal(current['wind_deg'])} direction with a speed {current['wind_speed']} m/s.\")"
   ]
  },
  {
   "cell_type": "code",
   "execution_count": 8,
   "metadata": {
    "execution": {
     "iopub.execute_input": "2021-10-20T08:14:20.541722Z",
     "iopub.status.busy": "2021-10-20T08:14:20.541249Z",
     "iopub.status.idle": "2021-10-20T08:14:20.547656Z",
     "shell.execute_reply": "2021-10-20T08:14:20.548291Z"
    }
   },
   "outputs": [],
   "source": [
    "df_hourly = pd.DataFrame(data['hourly'])\r\n",
    "df_daily = pd.DataFrame(data['daily'])"
   ]
  },
  {
   "cell_type": "code",
   "execution_count": 9,
   "metadata": {
    "execution": {
     "iopub.execute_input": "2021-10-20T08:14:20.551354Z",
     "iopub.status.busy": "2021-10-20T08:14:20.550412Z",
     "iopub.status.idle": "2021-10-20T08:14:20.782223Z",
     "shell.execute_reply": "2021-10-20T08:14:20.781781Z"
    }
   },
   "outputs": [
    {
     "data": {
      "image/png": "[encoded data removed]",
      "text/plain": [
       "<Figure size 864x432 with 1 Axes>"
      ]
     },
     "metadata": {
      "needs_background": "light"
     },
     "output_type": "display_data"
    }
   ],
   "source": [
    "fig, ax = plt.subplots(figsize=(12, 6))\r\n",
    "plt.plot(df_hourly.temp, '.-', label='Temperature')\r\n",
    "plt.plot(df_hourly.feels_like, '.-', label='Feels Like')\r\n",
    "ax.set(title='Temperature in future 48 hours', xlabel='Time', ylabel='Temperature')\r\n",
    "ax.set_xticks(list(range(0, len(df_hourly), 2)))\r\n",
    "ax.set_xticklabels([ts2dt(ts, '%m-%d %H:%M')[0] for i, ts in enumerate(df_hourly.dt) if i%2==0], \r\n",
    "                   rotation=45, ha=\"right\")\r\n",
    "ax.locator_params(nbins=15, axis='y')\r\n",
    "plt.legend()\r\n",
    "plt.show()"
   ]
  },
  {
   "cell_type": "code",
   "execution_count": 10,
   "metadata": {
    "execution": {
     "iopub.execute_input": "2021-10-20T08:14:20.786656Z",
     "iopub.status.busy": "2021-10-20T08:14:20.786195Z",
     "iopub.status.idle": "2021-10-20T08:14:20.804336Z",
     "shell.execute_reply": "2021-10-20T08:14:20.803868Z"
    }
   },
   "outputs": [
    {
     "data": {
      "text/html": [
       "<div>\n",
       "<style scoped>\n",
       "    .dataframe tbody tr th:only-of-type {\n",
       "        vertical-align: middle;\n",
       "    }\n",
       "\n",
       "    .dataframe tbody tr th {\n",
       "        vertical-align: top;\n",
       "    }\n",
       "\n",
       "    .dataframe thead th {\n",
       "        text-align: right;\n",
       "    }\n",
       "</style>\n",
       "<table border=\"1\" class=\"dataframe\">\n",
       "  <thead>\n",
       "    <tr style=\"text-align: right;\">\n",
       "      <th></th>\n",
       "      <th>dt</th>\n",
       "      <th>temp</th>\n",
       "      <th>feels_like</th>\n",
       "      <th>pressure</th>\n",
       "      <th>humidity</th>\n",
       "      <th>dew_point</th>\n",
       "      <th>uvi</th>\n",
       "      <th>clouds</th>\n",
       "      <th>visibility</th>\n",
       "      <th>wind_speed</th>\n",
       "      <th>wind_deg</th>\n",
       "      <th>wind_gust</th>\n",
       "      <th>weather</th>\n",
       "      <th>pop</th>\n",
       "      <th>rain</th>\n",
       "    </tr>\n",
       "  </thead>\n",
       "  <tbody>\n",
       "    <tr>\n",
       "      <th>0</th>\n",
       "      <td>1634716800</td>\n",
       "      <td>28.65</td>\n",
       "      <td>32.67</td>\n",
       "      <td>1013</td>\n",
       "      <td>74</td>\n",
       "      <td>23.56</td>\n",
       "      <td>1.94</td>\n",
       "      <td>75</td>\n",
       "      <td>10000</td>\n",
       "      <td>4.79</td>\n",
       "      <td>99</td>\n",
       "      <td>5.62</td>\n",
       "      <td>[{'id': 803, 'main': 'Clouds', 'description': ...</td>\n",
       "      <td>0.00</td>\n",
       "      <td>NaN</td>\n",
       "    </tr>\n",
       "    <tr>\n",
       "      <th>1</th>\n",
       "      <td>1634720400</td>\n",
       "      <td>28.22</td>\n",
       "      <td>31.85</td>\n",
       "      <td>1013</td>\n",
       "      <td>75</td>\n",
       "      <td>23.37</td>\n",
       "      <td>0.53</td>\n",
       "      <td>75</td>\n",
       "      <td>10000</td>\n",
       "      <td>4.89</td>\n",
       "      <td>103</td>\n",
       "      <td>5.98</td>\n",
       "      <td>[{'id': 803, 'main': 'Clouds', 'description': ...</td>\n",
       "      <td>0.00</td>\n",
       "      <td>NaN</td>\n",
       "    </tr>\n",
       "    <tr>\n",
       "      <th>2</th>\n",
       "      <td>1634724000</td>\n",
       "      <td>27.60</td>\n",
       "      <td>30.74</td>\n",
       "      <td>1013</td>\n",
       "      <td>77</td>\n",
       "      <td>23.20</td>\n",
       "      <td>0.00</td>\n",
       "      <td>72</td>\n",
       "      <td>10000</td>\n",
       "      <td>4.50</td>\n",
       "      <td>113</td>\n",
       "      <td>5.96</td>\n",
       "      <td>[{'id': 803, 'main': 'Clouds', 'description': ...</td>\n",
       "      <td>0.00</td>\n",
       "      <td>NaN</td>\n",
       "    </tr>\n",
       "    <tr>\n",
       "      <th>3</th>\n",
       "      <td>1634727600</td>\n",
       "      <td>26.98</td>\n",
       "      <td>29.60</td>\n",
       "      <td>1014</td>\n",
       "      <td>79</td>\n",
       "      <td>23.03</td>\n",
       "      <td>0.00</td>\n",
       "      <td>65</td>\n",
       "      <td>10000</td>\n",
       "      <td>4.39</td>\n",
       "      <td>111</td>\n",
       "      <td>5.80</td>\n",
       "      <td>[{'id': 803, 'main': 'Clouds', 'description': ...</td>\n",
       "      <td>0.08</td>\n",
       "      <td>NaN</td>\n",
       "    </tr>\n",
       "    <tr>\n",
       "      <th>4</th>\n",
       "      <td>1634731200</td>\n",
       "      <td>26.35</td>\n",
       "      <td>26.35</td>\n",
       "      <td>1015</td>\n",
       "      <td>82</td>\n",
       "      <td>23.03</td>\n",
       "      <td>0.00</td>\n",
       "      <td>58</td>\n",
       "      <td>10000</td>\n",
       "      <td>4.63</td>\n",
       "      <td>106</td>\n",
       "      <td>6.02</td>\n",
       "      <td>[{'id': 803, 'main': 'Clouds', 'description': ...</td>\n",
       "      <td>0.08</td>\n",
       "      <td>NaN</td>\n",
       "    </tr>\n",
       "  </tbody>\n",
       "</table>\n",
       "</div>"
      ],
      "text/plain": [
       "           dt   temp  feels_like  pressure  humidity  dew_point   uvi  clouds  \\\n",
       "0  1634716800  28.65       32.67      1013        74      23.56  1.94      75   \n",
       "1  1634720400  28.22       31.85      1013        75      23.37  0.53      75   \n",
       "2  1634724000  27.60       30.74      1013        77      23.20  0.00      72   \n",
       "3  1634727600  26.98       29.60      1014        79      23.03  0.00      65   \n",
       "4  1634731200  26.35       26.35      1015        82      23.03  0.00      58   \n",
       "\n",
       "   visibility  wind_speed  wind_deg  wind_gust  \\\n",
       "0       10000        4.79        99       5.62   \n",
       "1       10000        4.89       103       5.98   \n",
       "2       10000        4.50       113       5.96   \n",
       "3       10000        4.39       111       5.80   \n",
       "4       10000        4.63       106       6.02   \n",
       "\n",
       "                                             weather   pop rain  \n",
       "0  [{'id': 803, 'main': 'Clouds', 'description': ...  0.00  NaN  \n",
       "1  [{'id': 803, 'main': 'Clouds', 'description': ...  0.00  NaN  \n",
       "2  [{'id': 803, 'main': 'Clouds', 'description': ...  0.00  NaN  \n",
       "3  [{'id': 803, 'main': 'Clouds', 'description': ...  0.08  NaN  \n",
       "4  [{'id': 803, 'main': 'Clouds', 'description': ...  0.08  NaN  "
      ]
     },
     "execution_count": 10,
     "metadata": {},
     "output_type": "execute_result"
    }
   ],
   "source": [
    "df_hourly.head()"
   ]
  },
  {
   "cell_type": "code",
   "execution_count": null,
   "metadata": {},
   "outputs": [],
   "source": []
  }
 ],
 "metadata": {
  "interpreter": {
   "hash": "c1b4cfe941b6d2466ad1fb5979e97da9cda8801728c8091b097ab734208fc00c"
  },
  "kernelspec": {
   "display_name": "Python 3.8.3 64-bit ('base': conda)",
   "name": "python3"
  },
  "language_info": {
   "codemirror_mode": {
    "name": "ipython",
    "version": 3
   },
   "file_extension": ".py",
   "mimetype": "text/x-python",
   "name": "python",
   "nbconvert_exporter": "python",
   "pygments_lexer": "ipython3",
   "version": "3.8.12"
  }
 },
 "nbformat": 4,
 "nbformat_minor": 2
}
