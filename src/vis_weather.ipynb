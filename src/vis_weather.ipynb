{
 "cells": [
  {
   "cell_type": "code",
   "execution_count": 1,
   "metadata": {
    "execution": {
     "iopub.execute_input": "2021-08-31T05:13:47.237553Z",
     "iopub.status.busy": "2021-08-31T05:13:47.236826Z",
     "iopub.status.idle": "2021-08-31T05:13:51.154031Z",
     "shell.execute_reply": "2021-08-31T05:13:51.154528Z"
    }
   },
   "outputs": [],
   "source": [
    "import json, yaml, requests\r\n",
    "from datetime import datetime\r\n",
    "from dateutil import tz\r\n",
    "import pandas as pd\r\n",
    "from PIL import Image\r\n",
    "from io import BytesIO\r\n",
    "import matplotlib.pyplot as plt\r\n",
    "import seaborn\r\n",
    "\r\n",
    "CONFIG_PATH = \"../config/config.yaml\""
   ]
  },
  {
   "cell_type": "code",
   "execution_count": 2,
   "metadata": {
    "execution": {
     "iopub.execute_input": "2021-08-31T05:13:51.163470Z",
     "iopub.status.busy": "2021-08-31T05:13:51.160400Z",
     "iopub.status.idle": "2021-08-31T05:13:51.167030Z",
     "shell.execute_reply": "2021-08-31T05:13:51.166484Z"
    }
   },
   "outputs": [],
   "source": [
    "with open('../newest_ts', 'r') as f:\r\n",
    "    newest_ts = f.read()\r\n",
    "\r\n",
    "data_path = f\"../data/data_{newest_ts}.json\"\r\n",
    "with open(data_path, 'r') as f:\r\n",
    "    data = json.load(f)\r\n",
    "\r\n",
    "with open(CONFIG_PATH, \"r\") as stream:\r\n",
    "    config = yaml.safe_load(stream)\r\n",
    "\r\n",
    "TIME_ZONE = config['time_zone']\r\n",
    "DATETIME_FORMAT = config['dt_format']"
   ]
  },
  {
   "cell_type": "code",
   "execution_count": 3,
   "metadata": {
    "execution": {
     "iopub.execute_input": "2021-08-31T05:13:51.171960Z",
     "iopub.status.busy": "2021-08-31T05:13:51.171406Z",
     "iopub.status.idle": "2021-08-31T05:13:51.187127Z",
     "shell.execute_reply": "2021-08-31T05:13:51.187541Z"
    }
   },
   "outputs": [
    {
     "name": "stdout",
     "output_type": "stream",
     "text": [
      "Recent query happens at 2021-08-31 13:13:43 (CST).\n"
     ]
    }
   ],
   "source": [
    "def ts2dt(ts, format=DATETIME_FORMAT):\r\n",
    "    dt = (datetime.utcfromtimestamp(int(ts))\r\n",
    "                    .replace(tzinfo=tz.tzutc())\r\n",
    "                    # .astimezone(tz.tzlocal())\r\n",
    "                    .astimezone(tz.gettz(TIME_ZONE)))\r\n",
    "    return dt.strftime(format), dt\r\n",
    "\r\n",
    "_, newest_dt = ts2dt(newest_ts)\r\n",
    "print(f\"Recent query happens at {newest_dt.strftime(DATETIME_FORMAT)} ({newest_dt.tzname()}).\")"
   ]
  },
  {
   "cell_type": "code",
   "execution_count": 4,
   "metadata": {
    "execution": {
     "iopub.execute_input": "2021-08-31T05:13:51.192482Z",
     "iopub.status.busy": "2021-08-31T05:13:51.191899Z",
     "iopub.status.idle": "2021-08-31T05:13:51.194185Z",
     "shell.execute_reply": "2021-08-31T05:13:51.193387Z"
    }
   },
   "outputs": [],
   "source": [
    "def degrees_to_cardinal(d):\r\n",
    "  dirs = ['N', 'NNE', 'NE', 'ENE', 'E', 'ESE', 'SE', 'SSE', 'S', 'SSW', 'SW', 'WSW', 'W', 'WNW', 'NW', 'NNW']\r\n",
    "  ix = int(round(d / (360. / len(dirs))))\r\n",
    "  return dirs[ix % len(dirs)]"
   ]
  },
  {
   "cell_type": "code",
   "execution_count": 5,
   "metadata": {
    "execution": {
     "iopub.execute_input": "2021-08-31T05:13:51.198396Z",
     "iopub.status.busy": "2021-08-31T05:13:51.197827Z",
     "iopub.status.idle": "2021-08-31T05:13:51.200746Z",
     "shell.execute_reply": "2021-08-31T05:13:51.200308Z"
    }
   },
   "outputs": [],
   "source": [
    "# data.keys()"
   ]
  },
  {
   "cell_type": "code",
   "execution_count": 6,
   "metadata": {
    "execution": {
     "iopub.execute_input": "2021-08-31T05:13:51.204213Z",
     "iopub.status.busy": "2021-08-31T05:13:51.203658Z",
     "iopub.status.idle": "2021-08-31T05:13:51.206988Z",
     "shell.execute_reply": "2021-08-31T05:13:51.207430Z"
    }
   },
   "outputs": [],
   "source": [
    "# data['current']"
   ]
  },
  {
   "cell_type": "code",
   "execution_count": 7,
   "metadata": {
    "execution": {
     "iopub.execute_input": "2021-08-31T05:13:51.229700Z",
     "iopub.status.busy": "2021-08-31T05:13:51.219036Z",
     "iopub.status.idle": "2021-08-31T05:13:51.737332Z",
     "shell.execute_reply": "2021-08-31T05:13:51.738143Z"
    }
   },
   "outputs": [
    {
     "data": {
      "image/png": "[encoded data removed]",
      "text/plain": [
       "<Figure size 216x216 with 1 Axes>"
      ]
     },
     "metadata": {
      "needs_background": "light"
     },
     "output_type": "display_data"
    },
    {
     "name": "stdout",
     "output_type": "stream",
     "text": [
      "Today, sun rises at 06:05 and sets at 18:41.\n",
      "Currently, the weather is Rain (moderate rain).\n",
      "The temperature is 27.68°C and it feels like 31.59°C.\n",
      "The UV index is 9.73, humidity is 82%.\n",
      "The pressure is 1011 hPa, percentage of cloud cover is 56%\n",
      "The wind comes from ENE direction with a speed 4.5 m/s.\n"
     ]
    }
   ],
   "source": [
    "current = data['current']\r\n",
    "\r\n",
    "fig, ax = plt.subplots(figsize=(3, 3))\r\n",
    "icon = requests.get(f\"http://openweathermap.org/img/wn/{current['weather'][0]['icon']}@2x.png\")\r\n",
    "im = Image.open(BytesIO(icon.content))\r\n",
    "plt.imshow(im)\r\n",
    "ax.set_axis_off()\r\n",
    "plt.show()\r\n",
    "\r\n",
    "print(f\"Today, sun rises at {ts2dt(current['sunrise'], '%H:%M')[0]} \\\r\n",
    "and sets at {ts2dt(current['sunset'], '%H:%M')[0]}.\\n\\\r\n",
    "Currently, the weather is {current['weather'][0]['main']} ({current['weather'][0]['description']}).\\n\\\r\n",
    "The temperature is {current['temp']}°C and it feels like {current['feels_like']}°C.\\n\\\r\n",
    "The UV index is {current['uvi']}, humidity is {current['humidity']}%.\\n\\\r\n",
    "The pressure is {current['pressure']} hPa, percentage of cloud cover is {current['clouds']}%\\n\\\r\n",
    "The wind comes from {degrees_to_cardinal(current['wind_deg'])} direction with a speed {current['wind_speed']} m/s.\")"
   ]
  },
  {
   "cell_type": "code",
   "execution_count": 8,
   "metadata": {
    "execution": {
     "iopub.execute_input": "2021-08-31T05:13:51.741751Z",
     "iopub.status.busy": "2021-08-31T05:13:51.740558Z",
     "iopub.status.idle": "2021-08-31T05:13:51.749349Z",
     "shell.execute_reply": "2021-08-31T05:13:51.750142Z"
    }
   },
   "outputs": [],
   "source": [
    "df_hourly = pd.DataFrame(data['hourly'])\r\n",
    "df_daily = pd.DataFrame(data['daily'])"
   ]
  },
  {
   "cell_type": "code",
   "execution_count": 9,
   "metadata": {
    "execution": {
     "iopub.execute_input": "2021-08-31T05:13:51.753604Z",
     "iopub.status.busy": "2021-08-31T05:13:51.752376Z",
     "iopub.status.idle": "2021-08-31T05:13:52.073738Z",
     "shell.execute_reply": "2021-08-31T05:13:52.073215Z"
    }
   },
   "outputs": [
    {
     "data": {
      "image/png": "[encoded data removed]",
      "text/plain": [
       "<Figure size 864x432 with 1 Axes>"
      ]
     },
     "metadata": {
      "needs_background": "light"
     },
     "output_type": "display_data"
    }
   ],
   "source": [
    "fig, ax = plt.subplots(figsize=(12, 6))\r\n",
    "plt.plot(df_hourly.temp, '.-', label='Temperature')\r\n",
    "plt.plot(df_hourly.feels_like, '.-', label='Feels Like')\r\n",
    "ax.set(title='Temperature in future 48 hours', xlabel='Time', ylabel='Temperature')\r\n",
    "ax.set_xticks(list(range(0, len(df_hourly), 2)))\r\n",
    "ax.set_xticklabels([ts2dt(ts, '%m-%d %H:%M')[0] for i, ts in enumerate(df_hourly.dt) if i%2==0], \r\n",
    "                   rotation=45, ha=\"right\")\r\n",
    "ax.locator_params(nbins=15, axis='y')\r\n",
    "plt.legend()\r\n",
    "plt.show()"
   ]
  },
  {
   "cell_type": "code",
   "execution_count": 10,
   "metadata": {
    "execution": {
     "iopub.execute_input": "2021-08-31T05:13:52.088798Z",
     "iopub.status.busy": "2021-08-31T05:13:52.078332Z",
     "iopub.status.idle": "2021-08-31T05:13:52.104272Z",
     "shell.execute_reply": "2021-08-31T05:13:52.103686Z"
    }
   },
   "outputs": [
    {
     "data": {
      "text/html": [
       "<div>\n",
       "<style scoped>\n",
       "    .dataframe tbody tr th:only-of-type {\n",
       "        vertical-align: middle;\n",
       "    }\n",
       "\n",
       "    .dataframe tbody tr th {\n",
       "        vertical-align: top;\n",
       "    }\n",
       "\n",
       "    .dataframe thead th {\n",
       "        text-align: right;\n",
       "    }\n",
       "</style>\n",
       "<table border=\"1\" class=\"dataframe\">\n",
       "  <thead>\n",
       "    <tr style=\"text-align: right;\">\n",
       "      <th></th>\n",
       "      <th>dt</th>\n",
       "      <th>temp</th>\n",
       "      <th>feels_like</th>\n",
       "      <th>pressure</th>\n",
       "      <th>humidity</th>\n",
       "      <th>dew_point</th>\n",
       "      <th>uvi</th>\n",
       "      <th>clouds</th>\n",
       "      <th>visibility</th>\n",
       "      <th>wind_speed</th>\n",
       "      <th>wind_deg</th>\n",
       "      <th>wind_gust</th>\n",
       "      <th>weather</th>\n",
       "      <th>pop</th>\n",
       "      <th>rain</th>\n",
       "    </tr>\n",
       "  </thead>\n",
       "  <tbody>\n",
       "    <tr>\n",
       "      <th>0</th>\n",
       "      <td>1630386000</td>\n",
       "      <td>27.68</td>\n",
       "      <td>31.59</td>\n",
       "      <td>1011</td>\n",
       "      <td>82</td>\n",
       "      <td>24.33</td>\n",
       "      <td>9.73</td>\n",
       "      <td>56</td>\n",
       "      <td>10000</td>\n",
       "      <td>4.50</td>\n",
       "      <td>76</td>\n",
       "      <td>4.91</td>\n",
       "      <td>[{'id': 500, 'main': 'Rain', 'description': 'l...</td>\n",
       "      <td>0.89</td>\n",
       "      <td>{'1h': 0.41}</td>\n",
       "    </tr>\n",
       "    <tr>\n",
       "      <th>1</th>\n",
       "      <td>1630389600</td>\n",
       "      <td>28.08</td>\n",
       "      <td>31.99</td>\n",
       "      <td>1011</td>\n",
       "      <td>78</td>\n",
       "      <td>23.88</td>\n",
       "      <td>8.07</td>\n",
       "      <td>56</td>\n",
       "      <td>10000</td>\n",
       "      <td>4.99</td>\n",
       "      <td>78</td>\n",
       "      <td>5.49</td>\n",
       "      <td>[{'id': 500, 'main': 'Rain', 'description': 'l...</td>\n",
       "      <td>0.81</td>\n",
       "      <td>{'1h': 0.87}</td>\n",
       "    </tr>\n",
       "    <tr>\n",
       "      <th>2</th>\n",
       "      <td>1630393200</td>\n",
       "      <td>28.25</td>\n",
       "      <td>32.07</td>\n",
       "      <td>1011</td>\n",
       "      <td>76</td>\n",
       "      <td>23.61</td>\n",
       "      <td>3.95</td>\n",
       "      <td>60</td>\n",
       "      <td>10000</td>\n",
       "      <td>5.07</td>\n",
       "      <td>82</td>\n",
       "      <td>6.24</td>\n",
       "      <td>[{'id': 803, 'main': 'Clouds', 'description': ...</td>\n",
       "      <td>0.66</td>\n",
       "      <td>NaN</td>\n",
       "    </tr>\n",
       "    <tr>\n",
       "      <th>3</th>\n",
       "      <td>1630396800</td>\n",
       "      <td>28.39</td>\n",
       "      <td>32.07</td>\n",
       "      <td>1010</td>\n",
       "      <td>74</td>\n",
       "      <td>23.31</td>\n",
       "      <td>2.08</td>\n",
       "      <td>67</td>\n",
       "      <td>10000</td>\n",
       "      <td>5.56</td>\n",
       "      <td>86</td>\n",
       "      <td>7.06</td>\n",
       "      <td>[{'id': 803, 'main': 'Clouds', 'description': ...</td>\n",
       "      <td>0.84</td>\n",
       "      <td>NaN</td>\n",
       "    </tr>\n",
       "    <tr>\n",
       "      <th>4</th>\n",
       "      <td>1630400400</td>\n",
       "      <td>28.19</td>\n",
       "      <td>31.63</td>\n",
       "      <td>1010</td>\n",
       "      <td>74</td>\n",
       "      <td>23.11</td>\n",
       "      <td>0.75</td>\n",
       "      <td>70</td>\n",
       "      <td>10000</td>\n",
       "      <td>6.10</td>\n",
       "      <td>90</td>\n",
       "      <td>7.99</td>\n",
       "      <td>[{'id': 500, 'main': 'Rain', 'description': 'l...</td>\n",
       "      <td>0.92</td>\n",
       "      <td>{'1h': 0.21}</td>\n",
       "    </tr>\n",
       "  </tbody>\n",
       "</table>\n",
       "</div>"
      ],
      "text/plain": [
       "           dt   temp  feels_like  pressure  humidity  dew_point   uvi  clouds  \\\n",
       "0  1630386000  27.68       31.59      1011        82      24.33  9.73      56   \n",
       "1  1630389600  28.08       31.99      1011        78      23.88  8.07      56   \n",
       "2  1630393200  28.25       32.07      1011        76      23.61  3.95      60   \n",
       "3  1630396800  28.39       32.07      1010        74      23.31  2.08      67   \n",
       "4  1630400400  28.19       31.63      1010        74      23.11  0.75      70   \n",
       "\n",
       "   visibility  wind_speed  wind_deg  wind_gust  \\\n",
       "0       10000        4.50        76       4.91   \n",
       "1       10000        4.99        78       5.49   \n",
       "2       10000        5.07        82       6.24   \n",
       "3       10000        5.56        86       7.06   \n",
       "4       10000        6.10        90       7.99   \n",
       "\n",
       "                                             weather   pop          rain  \n",
       "0  [{'id': 500, 'main': 'Rain', 'description': 'l...  0.89  {'1h': 0.41}  \n",
       "1  [{'id': 500, 'main': 'Rain', 'description': 'l...  0.81  {'1h': 0.87}  \n",
       "2  [{'id': 803, 'main': 'Clouds', 'description': ...  0.66           NaN  \n",
       "3  [{'id': 803, 'main': 'Clouds', 'description': ...  0.84           NaN  \n",
       "4  [{'id': 500, 'main': 'Rain', 'description': 'l...  0.92  {'1h': 0.21}  "
      ]
     },
     "execution_count": 10,
     "metadata": {},
     "output_type": "execute_result"
    }
   ],
   "source": [
    "df_hourly.head()"
   ]
  },
  {
   "cell_type": "code",
   "execution_count": null,
   "metadata": {},
   "outputs": [],
   "source": []
  }
 ],
 "metadata": {
  "interpreter": {
   "hash": "c1b4cfe941b6d2466ad1fb5979e97da9cda8801728c8091b097ab734208fc00c"
  },
  "kernelspec": {
   "display_name": "Python 3.8.3 64-bit ('base': conda)",
   "name": "python3"
  },
  "language_info": {
   "codemirror_mode": {
    "name": "ipython",
    "version": 3
   },
   "file_extension": ".py",
   "mimetype": "text/x-python",
   "name": "python",
   "nbconvert_exporter": "python",
   "pygments_lexer": "ipython3",
   "version": "3.8.11"
  }
 },
 "nbformat": 4,
 "nbformat_minor": 2
}
