{
 "cells": [
  {
   "cell_type": "code",
   "execution_count": 1,
   "metadata": {
    "execution": {
     "iopub.execute_input": "2021-09-27T23:11:32.878768Z",
     "iopub.status.busy": "2021-09-27T23:11:32.878011Z",
     "iopub.status.idle": "2021-09-27T23:11:34.172044Z",
     "shell.execute_reply": "2021-09-27T23:11:34.171259Z"
    }
   },
   "outputs": [],
   "source": [
    "import json, yaml, requests\r\n",
    "from datetime import datetime\r\n",
    "from dateutil import tz\r\n",
    "import pandas as pd\r\n",
    "from PIL import Image\r\n",
    "from io import BytesIO\r\n",
    "import matplotlib.pyplot as plt\r\n",
    "import seaborn\r\n",
    "\r\n",
    "CONFIG_PATH = \"../config/config.yaml\""
   ]
  },
  {
   "cell_type": "code",
   "execution_count": 2,
   "metadata": {
    "execution": {
     "iopub.execute_input": "2021-09-27T23:11:34.177427Z",
     "iopub.status.busy": "2021-09-27T23:11:34.174386Z",
     "iopub.status.idle": "2021-09-27T23:11:34.182619Z",
     "shell.execute_reply": "2021-09-27T23:11:34.183071Z"
    }
   },
   "outputs": [],
   "source": [
    "with open('../newest_ts', 'r') as f:\r\n",
    "    newest_ts = f.read()\r\n",
    "\r\n",
    "data_path = f\"../data/data_{newest_ts}.json\"\r\n",
    "with open(data_path, 'r') as f:\r\n",
    "    data = json.load(f)\r\n",
    "\r\n",
    "with open(CONFIG_PATH, \"r\") as stream:\r\n",
    "    config = yaml.safe_load(stream)\r\n",
    "\r\n",
    "TIME_ZONE = config['time_zone']\r\n",
    "DATETIME_FORMAT = config['dt_format']"
   ]
  },
  {
   "cell_type": "code",
   "execution_count": 3,
   "metadata": {
    "execution": {
     "iopub.execute_input": "2021-09-27T23:11:34.186082Z",
     "iopub.status.busy": "2021-09-27T23:11:34.185565Z",
     "iopub.status.idle": "2021-09-27T23:11:34.196846Z",
     "shell.execute_reply": "2021-09-27T23:11:34.197259Z"
    }
   },
   "outputs": [
    {
     "name": "stdout",
     "output_type": "stream",
     "text": [
      "Recent query happens at 2021-09-28 07:11:29 (CST).\n"
     ]
    }
   ],
   "source": [
    "def ts2dt(ts, format=DATETIME_FORMAT):\r\n",
    "    dt = (datetime.utcfromtimestamp(int(ts))\r\n",
    "                    .replace(tzinfo=tz.tzutc())\r\n",
    "                    # .astimezone(tz.tzlocal())\r\n",
    "                    .astimezone(tz.gettz(TIME_ZONE)))\r\n",
    "    return dt.strftime(format), dt\r\n",
    "\r\n",
    "_, newest_dt = ts2dt(newest_ts)\r\n",
    "print(f\"Recent query happens at {newest_dt.strftime(DATETIME_FORMAT)} ({newest_dt.tzname()}).\")"
   ]
  },
  {
   "cell_type": "code",
   "execution_count": 4,
   "metadata": {
    "execution": {
     "iopub.execute_input": "2021-09-27T23:11:34.202500Z",
     "iopub.status.busy": "2021-09-27T23:11:34.199729Z",
     "iopub.status.idle": "2021-09-27T23:11:34.204869Z",
     "shell.execute_reply": "2021-09-27T23:11:34.204319Z"
    }
   },
   "outputs": [],
   "source": [
    "def degrees_to_cardinal(d):\r\n",
    "  dirs = ['N', 'NNE', 'NE', 'ENE', 'E', 'ESE', 'SE', 'SSE', 'S', 'SSW', 'SW', 'WSW', 'W', 'WNW', 'NW', 'NNW']\r\n",
    "  ix = int(round(d / (360. / len(dirs))))\r\n",
    "  return dirs[ix % len(dirs)]"
   ]
  },
  {
   "cell_type": "code",
   "execution_count": 5,
   "metadata": {
    "execution": {
     "iopub.execute_input": "2021-09-27T23:11:34.210272Z",
     "iopub.status.busy": "2021-09-27T23:11:34.208381Z",
     "iopub.status.idle": "2021-09-27T23:11:34.210855Z",
     "shell.execute_reply": "2021-09-27T23:11:34.211366Z"
    }
   },
   "outputs": [],
   "source": [
    "# data.keys()"
   ]
  },
  {
   "cell_type": "code",
   "execution_count": 6,
   "metadata": {
    "execution": {
     "iopub.execute_input": "2021-09-27T23:11:34.215843Z",
     "iopub.status.busy": "2021-09-27T23:11:34.214352Z",
     "iopub.status.idle": "2021-09-27T23:11:34.216453Z",
     "shell.execute_reply": "2021-09-27T23:11:34.216869Z"
    }
   },
   "outputs": [],
   "source": [
    "# data['current']"
   ]
  },
  {
   "cell_type": "code",
   "execution_count": 7,
   "metadata": {
    "execution": {
     "iopub.execute_input": "2021-09-27T23:11:34.236845Z",
     "iopub.status.busy": "2021-09-27T23:11:34.219203Z",
     "iopub.status.idle": "2021-09-27T23:11:34.659684Z",
     "shell.execute_reply": "2021-09-27T23:11:34.660138Z"
    }
   },
   "outputs": [
    {
     "data": {
      "image/png": "[encoded data removed]",
      "text/plain": [
       "<Figure size 216x216 with 1 Axes>"
      ]
     },
     "metadata": {
      "needs_background": "light"
     },
     "output_type": "display_data"
    },
    {
     "name": "stdout",
     "output_type": "stream",
     "text": [
      "Today, sun rises at 06:13 and sets at 18:13.\n",
      "Currently, the weather is Clear (clear sky).\n",
      "The temperature is 28.32°C and it feels like 32.74°C.\n",
      "The UV index is 0.18, humidity is 79%.\n",
      "The pressure is 1007 hPa, percentage of cloud cover is 0%\n",
      "The wind comes from SW direction with a speed 1.34 m/s.\n"
     ]
    }
   ],
   "source": [
    "current = data['current']\r\n",
    "\r\n",
    "fig, ax = plt.subplots(figsize=(3, 3))\r\n",
    "icon = requests.get(f\"http://openweathermap.org/img/wn/{current['weather'][0]['icon']}@2x.png\")\r\n",
    "im = Image.open(BytesIO(icon.content))\r\n",
    "plt.imshow(im)\r\n",
    "ax.set_axis_off()\r\n",
    "plt.show()\r\n",
    "\r\n",
    "print(f\"Today, sun rises at {ts2dt(current['sunrise'], '%H:%M')[0]} \\\r\n",
    "and sets at {ts2dt(current['sunset'], '%H:%M')[0]}.\\n\\\r\n",
    "Currently, the weather is {current['weather'][0]['main']} ({current['weather'][0]['description']}).\\n\\\r\n",
    "The temperature is {current['temp']}°C and it feels like {current['feels_like']}°C.\\n\\\r\n",
    "The UV index is {current['uvi']}, humidity is {current['humidity']}%.\\n\\\r\n",
    "The pressure is {current['pressure']} hPa, percentage of cloud cover is {current['clouds']}%\\n\\\r\n",
    "The wind comes from {degrees_to_cardinal(current['wind_deg'])} direction with a speed {current['wind_speed']} m/s.\")"
   ]
  },
  {
   "cell_type": "code",
   "execution_count": 8,
   "metadata": {
    "execution": {
     "iopub.execute_input": "2021-09-27T23:11:34.663094Z",
     "iopub.status.busy": "2021-09-27T23:11:34.662402Z",
     "iopub.status.idle": "2021-09-27T23:11:34.668986Z",
     "shell.execute_reply": "2021-09-27T23:11:34.669608Z"
    }
   },
   "outputs": [],
   "source": [
    "df_hourly = pd.DataFrame(data['hourly'])\r\n",
    "df_daily = pd.DataFrame(data['daily'])"
   ]
  },
  {
   "cell_type": "code",
   "execution_count": 9,
   "metadata": {
    "execution": {
     "iopub.execute_input": "2021-09-27T23:11:34.672756Z",
     "iopub.status.busy": "2021-09-27T23:11:34.671901Z",
     "iopub.status.idle": "2021-09-27T23:11:35.005030Z",
     "shell.execute_reply": "2021-09-27T23:11:35.004542Z"
    }
   },
   "outputs": [
    {
     "data": {
      "image/png": "[encoded data removed]",
      "text/plain": [
       "<Figure size 864x432 with 1 Axes>"
      ]
     },
     "metadata": {
      "needs_background": "light"
     },
     "output_type": "display_data"
    }
   ],
   "source": [
    "fig, ax = plt.subplots(figsize=(12, 6))\r\n",
    "plt.plot(df_hourly.temp, '.-', label='Temperature')\r\n",
    "plt.plot(df_hourly.feels_like, '.-', label='Feels Like')\r\n",
    "ax.set(title='Temperature in future 48 hours', xlabel='Time', ylabel='Temperature')\r\n",
    "ax.set_xticks(list(range(0, len(df_hourly), 2)))\r\n",
    "ax.set_xticklabels([ts2dt(ts, '%m-%d %H:%M')[0] for i, ts in enumerate(df_hourly.dt) if i%2==0], \r\n",
    "                   rotation=45, ha=\"right\")\r\n",
    "ax.locator_params(nbins=15, axis='y')\r\n",
    "plt.legend()\r\n",
    "plt.show()"
   ]
  },
  {
   "cell_type": "code",
   "execution_count": 10,
   "metadata": {
    "execution": {
     "iopub.execute_input": "2021-09-27T23:11:35.011442Z",
     "iopub.status.busy": "2021-09-27T23:11:35.010839Z",
     "iopub.status.idle": "2021-09-27T23:11:35.036356Z",
     "shell.execute_reply": "2021-09-27T23:11:35.035491Z"
    }
   },
   "outputs": [
    {
     "data": {
      "text/html": [
       "<div>\n",
       "<style scoped>\n",
       "    .dataframe tbody tr th:only-of-type {\n",
       "        vertical-align: middle;\n",
       "    }\n",
       "\n",
       "    .dataframe tbody tr th {\n",
       "        vertical-align: top;\n",
       "    }\n",
       "\n",
       "    .dataframe thead th {\n",
       "        text-align: right;\n",
       "    }\n",
       "</style>\n",
       "<table border=\"1\" class=\"dataframe\">\n",
       "  <thead>\n",
       "    <tr style=\"text-align: right;\">\n",
       "      <th></th>\n",
       "      <th>dt</th>\n",
       "      <th>temp</th>\n",
       "      <th>feels_like</th>\n",
       "      <th>pressure</th>\n",
       "      <th>humidity</th>\n",
       "      <th>dew_point</th>\n",
       "      <th>uvi</th>\n",
       "      <th>clouds</th>\n",
       "      <th>visibility</th>\n",
       "      <th>wind_speed</th>\n",
       "      <th>wind_deg</th>\n",
       "      <th>wind_gust</th>\n",
       "      <th>weather</th>\n",
       "      <th>pop</th>\n",
       "      <th>rain</th>\n",
       "    </tr>\n",
       "  </thead>\n",
       "  <tbody>\n",
       "    <tr>\n",
       "      <th>0</th>\n",
       "      <td>1632783600</td>\n",
       "      <td>28.32</td>\n",
       "      <td>32.74</td>\n",
       "      <td>1007</td>\n",
       "      <td>79</td>\n",
       "      <td>24.33</td>\n",
       "      <td>0.18</td>\n",
       "      <td>0</td>\n",
       "      <td>10000</td>\n",
       "      <td>2.25</td>\n",
       "      <td>63</td>\n",
       "      <td>2.59</td>\n",
       "      <td>[{'id': 800, 'main': 'Clear', 'description': '...</td>\n",
       "      <td>0.0</td>\n",
       "      <td>NaN</td>\n",
       "    </tr>\n",
       "    <tr>\n",
       "      <th>1</th>\n",
       "      <td>1632787200</td>\n",
       "      <td>28.27</td>\n",
       "      <td>32.28</td>\n",
       "      <td>1008</td>\n",
       "      <td>77</td>\n",
       "      <td>23.85</td>\n",
       "      <td>1.04</td>\n",
       "      <td>0</td>\n",
       "      <td>10000</td>\n",
       "      <td>2.47</td>\n",
       "      <td>76</td>\n",
       "      <td>2.80</td>\n",
       "      <td>[{'id': 800, 'main': 'Clear', 'description': '...</td>\n",
       "      <td>0.0</td>\n",
       "      <td>NaN</td>\n",
       "    </tr>\n",
       "    <tr>\n",
       "      <th>2</th>\n",
       "      <td>1632790800</td>\n",
       "      <td>28.47</td>\n",
       "      <td>32.42</td>\n",
       "      <td>1009</td>\n",
       "      <td>75</td>\n",
       "      <td>23.61</td>\n",
       "      <td>2.99</td>\n",
       "      <td>0</td>\n",
       "      <td>10000</td>\n",
       "      <td>2.86</td>\n",
       "      <td>88</td>\n",
       "      <td>2.83</td>\n",
       "      <td>[{'id': 500, 'main': 'Rain', 'description': 'l...</td>\n",
       "      <td>0.2</td>\n",
       "      <td>{'1h': 0.15}</td>\n",
       "    </tr>\n",
       "    <tr>\n",
       "      <th>3</th>\n",
       "      <td>1632794400</td>\n",
       "      <td>28.85</td>\n",
       "      <td>32.58</td>\n",
       "      <td>1010</td>\n",
       "      <td>71</td>\n",
       "      <td>23.06</td>\n",
       "      <td>5.70</td>\n",
       "      <td>0</td>\n",
       "      <td>10000</td>\n",
       "      <td>3.05</td>\n",
       "      <td>96</td>\n",
       "      <td>2.73</td>\n",
       "      <td>[{'id': 800, 'main': 'Clear', 'description': '...</td>\n",
       "      <td>0.0</td>\n",
       "      <td>NaN</td>\n",
       "    </tr>\n",
       "    <tr>\n",
       "      <th>4</th>\n",
       "      <td>1632798000</td>\n",
       "      <td>29.39</td>\n",
       "      <td>33.19</td>\n",
       "      <td>1010</td>\n",
       "      <td>68</td>\n",
       "      <td>22.87</td>\n",
       "      <td>8.28</td>\n",
       "      <td>1</td>\n",
       "      <td>10000</td>\n",
       "      <td>3.22</td>\n",
       "      <td>106</td>\n",
       "      <td>2.65</td>\n",
       "      <td>[{'id': 800, 'main': 'Clear', 'description': '...</td>\n",
       "      <td>0.0</td>\n",
       "      <td>NaN</td>\n",
       "    </tr>\n",
       "  </tbody>\n",
       "</table>\n",
       "</div>"
      ],
      "text/plain": [
       "           dt   temp  feels_like  pressure  humidity  dew_point   uvi  clouds  \\\n",
       "0  1632783600  28.32       32.74      1007        79      24.33  0.18       0   \n",
       "1  1632787200  28.27       32.28      1008        77      23.85  1.04       0   \n",
       "2  1632790800  28.47       32.42      1009        75      23.61  2.99       0   \n",
       "3  1632794400  28.85       32.58      1010        71      23.06  5.70       0   \n",
       "4  1632798000  29.39       33.19      1010        68      22.87  8.28       1   \n",
       "\n",
       "   visibility  wind_speed  wind_deg  wind_gust  \\\n",
       "0       10000        2.25        63       2.59   \n",
       "1       10000        2.47        76       2.80   \n",
       "2       10000        2.86        88       2.83   \n",
       "3       10000        3.05        96       2.73   \n",
       "4       10000        3.22       106       2.65   \n",
       "\n",
       "                                             weather  pop          rain  \n",
       "0  [{'id': 800, 'main': 'Clear', 'description': '...  0.0           NaN  \n",
       "1  [{'id': 800, 'main': 'Clear', 'description': '...  0.0           NaN  \n",
       "2  [{'id': 500, 'main': 'Rain', 'description': 'l...  0.2  {'1h': 0.15}  \n",
       "3  [{'id': 800, 'main': 'Clear', 'description': '...  0.0           NaN  \n",
       "4  [{'id': 800, 'main': 'Clear', 'description': '...  0.0           NaN  "
      ]
     },
     "execution_count": 10,
     "metadata": {},
     "output_type": "execute_result"
    }
   ],
   "source": [
    "df_hourly.head()"
   ]
  },
  {
   "cell_type": "code",
   "execution_count": null,
   "metadata": {},
   "outputs": [],
   "source": []
  }
 ],
 "metadata": {
  "interpreter": {
   "hash": "c1b4cfe941b6d2466ad1fb5979e97da9cda8801728c8091b097ab734208fc00c"
  },
  "kernelspec": {
   "display_name": "Python 3.8.3 64-bit ('base': conda)",
   "name": "python3"
  },
  "language_info": {
   "codemirror_mode": {
    "name": "ipython",
    "version": 3
   },
   "file_extension": ".py",
   "mimetype": "text/x-python",
   "name": "python",
   "nbconvert_exporter": "python",
   "pygments_lexer": "ipython3",
   "version": "3.8.12"
  }
 },
 "nbformat": 4,
 "nbformat_minor": 2
}
