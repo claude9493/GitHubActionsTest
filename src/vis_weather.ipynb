{
 "cells": [
  {
   "cell_type": "code",
   "execution_count": 1,
   "metadata": {
    "execution": {
     "iopub.execute_input": "2021-08-26T04:50:52.021857Z",
     "iopub.status.busy": "2021-08-26T04:50:52.021197Z",
     "iopub.status.idle": "2021-08-26T04:50:54.840598Z",
     "shell.execute_reply": "2021-08-26T04:50:54.839890Z"
    }
   },
   "outputs": [],
   "source": [
    "import json, yaml, requests\r\n",
    "from datetime import datetime\r\n",
    "from dateutil import tz\r\n",
    "import pandas as pd\r\n",
    "from PIL import Image\r\n",
    "from io import BytesIO\r\n",
    "import matplotlib.pyplot as plt\r\n",
    "import seaborn\r\n",
    "\r\n",
    "CONFIG_PATH = \"../config/config.yaml\""
   ]
  },
  {
   "cell_type": "code",
   "execution_count": 2,
   "metadata": {
    "execution": {
     "iopub.execute_input": "2021-08-26T04:50:54.847740Z",
     "iopub.status.busy": "2021-08-26T04:50:54.846002Z",
     "iopub.status.idle": "2021-08-26T04:50:54.854593Z",
     "shell.execute_reply": "2021-08-26T04:50:54.853762Z"
    }
   },
   "outputs": [],
   "source": [
    "with open('../newest_ts', 'r') as f:\r\n",
    "    newest_ts = f.read()\r\n",
    "\r\n",
    "data_path = f\"../data/data_{newest_ts}.json\"\r\n",
    "with open(data_path, 'r') as f:\r\n",
    "    data = json.load(f)\r\n",
    "\r\n",
    "with open(CONFIG_PATH, \"r\") as stream:\r\n",
    "    config = yaml.safe_load(stream)\r\n",
    "\r\n",
    "TIME_ZONE = config['time_zone']\r\n",
    "DATETIME_FORMAT = config['dt_format']"
   ]
  },
  {
   "cell_type": "code",
   "execution_count": 3,
   "metadata": {
    "execution": {
     "iopub.execute_input": "2021-08-26T04:50:54.860737Z",
     "iopub.status.busy": "2021-08-26T04:50:54.859720Z",
     "iopub.status.idle": "2021-08-26T04:50:54.871243Z",
     "shell.execute_reply": "2021-08-26T04:50:54.870725Z"
    }
   },
   "outputs": [
    {
     "name": "stdout",
     "output_type": "stream",
     "text": [
      "Recent query happens at 2021-08-26 12:50:48 (CST).\n"
     ]
    }
   ],
   "source": [
    "def ts2dt(ts, format=DATETIME_FORMAT):\r\n",
    "    dt = (datetime.utcfromtimestamp(int(ts))\r\n",
    "                    .replace(tzinfo=tz.tzutc())\r\n",
    "                    # .astimezone(tz.tzlocal())\r\n",
    "                    .astimezone(tz.gettz(TIME_ZONE)))\r\n",
    "    return dt.strftime(format), dt\r\n",
    "\r\n",
    "_, newest_dt = ts2dt(newest_ts)\r\n",
    "print(f\"Recent query happens at {newest_dt.strftime(DATETIME_FORMAT)} ({newest_dt.tzname()}).\")"
   ]
  },
  {
   "cell_type": "code",
   "execution_count": 4,
   "metadata": {
    "execution": {
     "iopub.execute_input": "2021-08-26T04:50:54.876328Z",
     "iopub.status.busy": "2021-08-26T04:50:54.875717Z",
     "iopub.status.idle": "2021-08-26T04:50:54.879265Z",
     "shell.execute_reply": "2021-08-26T04:50:54.878551Z"
    }
   },
   "outputs": [],
   "source": [
    "def degrees_to_cardinal(d):\r\n",
    "  dirs = ['N', 'NNE', 'NE', 'ENE', 'E', 'ESE', 'SE', 'SSE', 'S', 'SSW', 'SW', 'WSW', 'W', 'WNW', 'NW', 'NNW']\r\n",
    "  ix = int(round(d / (360. / len(dirs))))\r\n",
    "  return dirs[ix % len(dirs)]"
   ]
  },
  {
   "cell_type": "code",
   "execution_count": 5,
   "metadata": {
    "execution": {
     "iopub.execute_input": "2021-08-26T04:50:54.883776Z",
     "iopub.status.busy": "2021-08-26T04:50:54.883079Z",
     "iopub.status.idle": "2021-08-26T04:50:54.886537Z",
     "shell.execute_reply": "2021-08-26T04:50:54.887020Z"
    }
   },
   "outputs": [],
   "source": [
    "# data.keys()"
   ]
  },
  {
   "cell_type": "code",
   "execution_count": 6,
   "metadata": {
    "execution": {
     "iopub.execute_input": "2021-08-26T04:50:54.892945Z",
     "iopub.status.busy": "2021-08-26T04:50:54.891448Z",
     "iopub.status.idle": "2021-08-26T04:50:54.893669Z",
     "shell.execute_reply": "2021-08-26T04:50:54.894162Z"
    }
   },
   "outputs": [],
   "source": [
    "# data['current']"
   ]
  },
  {
   "cell_type": "code",
   "execution_count": 7,
   "metadata": {
    "execution": {
     "iopub.execute_input": "2021-08-26T04:50:54.916425Z",
     "iopub.status.busy": "2021-08-26T04:50:54.915802Z",
     "iopub.status.idle": "2021-08-26T04:50:55.337236Z",
     "shell.execute_reply": "2021-08-26T04:50:55.337929Z"
    }
   },
   "outputs": [
    {
     "data": {
      "image/png": "[encoded data removed]",
      "text/plain": [
       "<Figure size 216x216 with 1 Axes>"
      ]
     },
     "metadata": {
      "needs_background": "light"
     },
     "output_type": "display_data"
    },
    {
     "name": "stdout",
     "output_type": "stream",
     "text": [
      "Today, sun rises at 06:03 and sets at 18:46.\n",
      "Currently, the weather is Clouds (broken clouds).\n",
      "The temperature is 31.75°C and it feels like 38.75°C.\n",
      "The UV index is 11.03, humidity is 69%.\n",
      "The pressure is 1011 hPa, percentage of cloud cover is 72%\n",
      "The wind comes from SE direction with a speed 3.88 m/s.\n"
     ]
    }
   ],
   "source": [
    "current = data['current']\r\n",
    "\r\n",
    "fig, ax = plt.subplots(figsize=(3, 3))\r\n",
    "icon = requests.get(f\"http://openweathermap.org/img/wn/{current['weather'][0]['icon']}@2x.png\")\r\n",
    "im = Image.open(BytesIO(icon.content))\r\n",
    "plt.imshow(im)\r\n",
    "ax.set_axis_off()\r\n",
    "plt.show()\r\n",
    "\r\n",
    "print(f\"Today, sun rises at {ts2dt(current['sunrise'], '%H:%M')[0]} \\\r\n",
    "and sets at {ts2dt(current['sunset'], '%H:%M')[0]}.\\n\\\r\n",
    "Currently, the weather is {current['weather'][0]['main']} ({current['weather'][0]['description']}).\\n\\\r\n",
    "The temperature is {current['temp']}°C and it feels like {current['feels_like']}°C.\\n\\\r\n",
    "The UV index is {current['uvi']}, humidity is {current['humidity']}%.\\n\\\r\n",
    "The pressure is {current['pressure']} hPa, percentage of cloud cover is {current['clouds']}%\\n\\\r\n",
    "The wind comes from {degrees_to_cardinal(current['wind_deg'])} direction with a speed {current['wind_speed']} m/s.\")"
   ]
  },
  {
   "cell_type": "code",
   "execution_count": 8,
   "metadata": {
    "execution": {
     "iopub.execute_input": "2021-08-26T04:50:55.347334Z",
     "iopub.status.busy": "2021-08-26T04:50:55.340567Z",
     "iopub.status.idle": "2021-08-26T04:50:55.349923Z",
     "shell.execute_reply": "2021-08-26T04:50:55.350563Z"
    }
   },
   "outputs": [],
   "source": [
    "df_hourly = pd.DataFrame(data['hourly'])\r\n",
    "df_daily = pd.DataFrame(data['daily'])"
   ]
  },
  {
   "cell_type": "code",
   "execution_count": 9,
   "metadata": {
    "execution": {
     "iopub.execute_input": "2021-08-26T04:50:55.359323Z",
     "iopub.status.busy": "2021-08-26T04:50:55.358488Z",
     "iopub.status.idle": "2021-08-26T04:50:55.710061Z",
     "shell.execute_reply": "2021-08-26T04:50:55.710864Z"
    }
   },
   "outputs": [
    {
     "data": {
      "image/png": "[encoded data removed]",
      "text/plain": [
       "<Figure size 864x432 with 1 Axes>"
      ]
     },
     "metadata": {
      "needs_background": "light"
     },
     "output_type": "display_data"
    }
   ],
   "source": [
    "fig, ax = plt.subplots(figsize=(12, 6))\r\n",
    "plt.plot(df_hourly.temp, '.-', label='Temperature')\r\n",
    "plt.plot(df_hourly.feels_like, '.-', label='Feels Like')\r\n",
    "ax.set(title='Temperature in future 48 hours', xlabel='Time', ylabel='Temperature')\r\n",
    "ax.set_xticks(list(range(0, len(df_hourly), 2)))\r\n",
    "ax.set_xticklabels([ts2dt(ts, '%m-%d %H:%M')[0] for i, ts in enumerate(df_hourly.dt) if i%2==0], \r\n",
    "                   rotation=45, ha=\"right\")\r\n",
    "ax.locator_params(nbins=15, axis='y')\r\n",
    "plt.legend()\r\n",
    "plt.show()"
   ]
  },
  {
   "cell_type": "code",
   "execution_count": 10,
   "metadata": {
    "execution": {
     "iopub.execute_input": "2021-08-26T04:50:55.725510Z",
     "iopub.status.busy": "2021-08-26T04:50:55.715493Z",
     "iopub.status.idle": "2021-08-26T04:50:55.740039Z",
     "shell.execute_reply": "2021-08-26T04:50:55.740542Z"
    }
   },
   "outputs": [
    {
     "data": {
      "text/html": [
       "<div>\n",
       "<style scoped>\n",
       "    .dataframe tbody tr th:only-of-type {\n",
       "        vertical-align: middle;\n",
       "    }\n",
       "\n",
       "    .dataframe tbody tr th {\n",
       "        vertical-align: top;\n",
       "    }\n",
       "\n",
       "    .dataframe thead th {\n",
       "        text-align: right;\n",
       "    }\n",
       "</style>\n",
       "<table border=\"1\" class=\"dataframe\">\n",
       "  <thead>\n",
       "    <tr style=\"text-align: right;\">\n",
       "      <th></th>\n",
       "      <th>dt</th>\n",
       "      <th>temp</th>\n",
       "      <th>feels_like</th>\n",
       "      <th>pressure</th>\n",
       "      <th>humidity</th>\n",
       "      <th>dew_point</th>\n",
       "      <th>uvi</th>\n",
       "      <th>clouds</th>\n",
       "      <th>visibility</th>\n",
       "      <th>wind_speed</th>\n",
       "      <th>wind_deg</th>\n",
       "      <th>wind_gust</th>\n",
       "      <th>weather</th>\n",
       "      <th>pop</th>\n",
       "      <th>rain</th>\n",
       "    </tr>\n",
       "  </thead>\n",
       "  <tbody>\n",
       "    <tr>\n",
       "      <th>0</th>\n",
       "      <td>1629950400</td>\n",
       "      <td>31.36</td>\n",
       "      <td>38.36</td>\n",
       "      <td>1011</td>\n",
       "      <td>70</td>\n",
       "      <td>25.23</td>\n",
       "      <td>11.20</td>\n",
       "      <td>71</td>\n",
       "      <td>10000</td>\n",
       "      <td>3.27</td>\n",
       "      <td>128</td>\n",
       "      <td>3.25</td>\n",
       "      <td>[{'id': 500, 'main': 'Rain', 'description': 'l...</td>\n",
       "      <td>0.86</td>\n",
       "      <td>{'1h': 0.54}</td>\n",
       "    </tr>\n",
       "    <tr>\n",
       "      <th>1</th>\n",
       "      <td>1629954000</td>\n",
       "      <td>31.75</td>\n",
       "      <td>38.75</td>\n",
       "      <td>1011</td>\n",
       "      <td>69</td>\n",
       "      <td>25.36</td>\n",
       "      <td>11.03</td>\n",
       "      <td>72</td>\n",
       "      <td>10000</td>\n",
       "      <td>3.88</td>\n",
       "      <td>125</td>\n",
       "      <td>3.67</td>\n",
       "      <td>[{'id': 803, 'main': 'Clouds', 'description': ...</td>\n",
       "      <td>0.88</td>\n",
       "      <td>NaN</td>\n",
       "    </tr>\n",
       "    <tr>\n",
       "      <th>2</th>\n",
       "      <td>1629957600</td>\n",
       "      <td>31.40</td>\n",
       "      <td>38.05</td>\n",
       "      <td>1011</td>\n",
       "      <td>68</td>\n",
       "      <td>24.78</td>\n",
       "      <td>9.16</td>\n",
       "      <td>73</td>\n",
       "      <td>10000</td>\n",
       "      <td>3.74</td>\n",
       "      <td>124</td>\n",
       "      <td>3.52</td>\n",
       "      <td>[{'id': 803, 'main': 'Clouds', 'description': ...</td>\n",
       "      <td>0.88</td>\n",
       "      <td>NaN</td>\n",
       "    </tr>\n",
       "    <tr>\n",
       "      <th>3</th>\n",
       "      <td>1629961200</td>\n",
       "      <td>31.03</td>\n",
       "      <td>37.08</td>\n",
       "      <td>1011</td>\n",
       "      <td>68</td>\n",
       "      <td>24.43</td>\n",
       "      <td>5.96</td>\n",
       "      <td>83</td>\n",
       "      <td>10000</td>\n",
       "      <td>3.55</td>\n",
       "      <td>122</td>\n",
       "      <td>3.31</td>\n",
       "      <td>[{'id': 803, 'main': 'Clouds', 'description': ...</td>\n",
       "      <td>0.04</td>\n",
       "      <td>NaN</td>\n",
       "    </tr>\n",
       "    <tr>\n",
       "      <th>4</th>\n",
       "      <td>1629964800</td>\n",
       "      <td>30.56</td>\n",
       "      <td>35.90</td>\n",
       "      <td>1010</td>\n",
       "      <td>68</td>\n",
       "      <td>23.98</td>\n",
       "      <td>3.17</td>\n",
       "      <td>86</td>\n",
       "      <td>10000</td>\n",
       "      <td>3.63</td>\n",
       "      <td>121</td>\n",
       "      <td>3.57</td>\n",
       "      <td>[{'id': 804, 'main': 'Clouds', 'description': ...</td>\n",
       "      <td>0.10</td>\n",
       "      <td>NaN</td>\n",
       "    </tr>\n",
       "  </tbody>\n",
       "</table>\n",
       "</div>"
      ],
      "text/plain": [
       "           dt   temp  feels_like  pressure  humidity  dew_point    uvi  \\\n",
       "0  1629950400  31.36       38.36      1011        70      25.23  11.20   \n",
       "1  1629954000  31.75       38.75      1011        69      25.36  11.03   \n",
       "2  1629957600  31.40       38.05      1011        68      24.78   9.16   \n",
       "3  1629961200  31.03       37.08      1011        68      24.43   5.96   \n",
       "4  1629964800  30.56       35.90      1010        68      23.98   3.17   \n",
       "\n",
       "   clouds  visibility  wind_speed  wind_deg  wind_gust  \\\n",
       "0      71       10000        3.27       128       3.25   \n",
       "1      72       10000        3.88       125       3.67   \n",
       "2      73       10000        3.74       124       3.52   \n",
       "3      83       10000        3.55       122       3.31   \n",
       "4      86       10000        3.63       121       3.57   \n",
       "\n",
       "                                             weather   pop          rain  \n",
       "0  [{'id': 500, 'main': 'Rain', 'description': 'l...  0.86  {'1h': 0.54}  \n",
       "1  [{'id': 803, 'main': 'Clouds', 'description': ...  0.88           NaN  \n",
       "2  [{'id': 803, 'main': 'Clouds', 'description': ...  0.88           NaN  \n",
       "3  [{'id': 803, 'main': 'Clouds', 'description': ...  0.04           NaN  \n",
       "4  [{'id': 804, 'main': 'Clouds', 'description': ...  0.10           NaN  "
      ]
     },
     "execution_count": 10,
     "metadata": {},
     "output_type": "execute_result"
    }
   ],
   "source": [
    "df_hourly.head()"
   ]
  },
  {
   "cell_type": "code",
   "execution_count": null,
   "metadata": {},
   "outputs": [],
   "source": []
  }
 ],
 "metadata": {
  "interpreter": {
   "hash": "c1b4cfe941b6d2466ad1fb5979e97da9cda8801728c8091b097ab734208fc00c"
  },
  "kernelspec": {
   "display_name": "Python 3.8.3 64-bit ('base': conda)",
   "name": "python3"
  },
  "language_info": {
   "codemirror_mode": {
    "name": "ipython",
    "version": 3
   },
   "file_extension": ".py",
   "mimetype": "text/x-python",
   "name": "python",
   "nbconvert_exporter": "python",
   "pygments_lexer": "ipython3",
   "version": "3.8.11"
  }
 },
 "nbformat": 4,
 "nbformat_minor": 2
}
