{
 "cells": [
  {
   "cell_type": "code",
   "execution_count": 1,
   "metadata": {
    "execution": {
     "iopub.execute_input": "2021-09-03T11:12:53.229048Z",
     "iopub.status.busy": "2021-09-03T11:12:53.228474Z",
     "iopub.status.idle": "2021-09-03T11:12:54.532870Z",
     "shell.execute_reply": "2021-09-03T11:12:54.531973Z"
    }
   },
   "outputs": [],
   "source": [
    "import json, yaml, requests\r\n",
    "from datetime import datetime\r\n",
    "from dateutil import tz\r\n",
    "import pandas as pd\r\n",
    "from PIL import Image\r\n",
    "from io import BytesIO\r\n",
    "import matplotlib.pyplot as plt\r\n",
    "import seaborn\r\n",
    "\r\n",
    "CONFIG_PATH = \"../config/config.yaml\""
   ]
  },
  {
   "cell_type": "code",
   "execution_count": 2,
   "metadata": {
    "execution": {
     "iopub.execute_input": "2021-09-03T11:12:54.541666Z",
     "iopub.status.busy": "2021-09-03T11:12:54.540197Z",
     "iopub.status.idle": "2021-09-03T11:12:54.546577Z",
     "shell.execute_reply": "2021-09-03T11:12:54.547077Z"
    }
   },
   "outputs": [],
   "source": [
    "with open('../newest_ts', 'r') as f:\r\n",
    "    newest_ts = f.read()\r\n",
    "\r\n",
    "data_path = f\"../data/data_{newest_ts}.json\"\r\n",
    "with open(data_path, 'r') as f:\r\n",
    "    data = json.load(f)\r\n",
    "\r\n",
    "with open(CONFIG_PATH, \"r\") as stream:\r\n",
    "    config = yaml.safe_load(stream)\r\n",
    "\r\n",
    "TIME_ZONE = config['time_zone']\r\n",
    "DATETIME_FORMAT = config['dt_format']"
   ]
  },
  {
   "cell_type": "code",
   "execution_count": 3,
   "metadata": {
    "execution": {
     "iopub.execute_input": "2021-09-03T11:12:54.552232Z",
     "iopub.status.busy": "2021-09-03T11:12:54.551385Z",
     "iopub.status.idle": "2021-09-03T11:12:54.558373Z",
     "shell.execute_reply": "2021-09-03T11:12:54.557527Z"
    }
   },
   "outputs": [
    {
     "name": "stdout",
     "output_type": "stream",
     "text": [
      "Recent query happens at 2021-09-03 19:12:50 (CST).\n"
     ]
    }
   ],
   "source": [
    "def ts2dt(ts, format=DATETIME_FORMAT):\r\n",
    "    dt = (datetime.utcfromtimestamp(int(ts))\r\n",
    "                    .replace(tzinfo=tz.tzutc())\r\n",
    "                    # .astimezone(tz.tzlocal())\r\n",
    "                    .astimezone(tz.gettz(TIME_ZONE)))\r\n",
    "    return dt.strftime(format), dt\r\n",
    "\r\n",
    "_, newest_dt = ts2dt(newest_ts)\r\n",
    "print(f\"Recent query happens at {newest_dt.strftime(DATETIME_FORMAT)} ({newest_dt.tzname()}).\")"
   ]
  },
  {
   "cell_type": "code",
   "execution_count": 4,
   "metadata": {
    "execution": {
     "iopub.execute_input": "2021-09-03T11:12:54.562836Z",
     "iopub.status.busy": "2021-09-03T11:12:54.562298Z",
     "iopub.status.idle": "2021-09-03T11:12:54.566023Z",
     "shell.execute_reply": "2021-09-03T11:12:54.565517Z"
    }
   },
   "outputs": [],
   "source": [
    "def degrees_to_cardinal(d):\r\n",
    "  dirs = ['N', 'NNE', 'NE', 'ENE', 'E', 'ESE', 'SE', 'SSE', 'S', 'SSW', 'SW', 'WSW', 'W', 'WNW', 'NW', 'NNW']\r\n",
    "  ix = int(round(d / (360. / len(dirs))))\r\n",
    "  return dirs[ix % len(dirs)]"
   ]
  },
  {
   "cell_type": "code",
   "execution_count": 5,
   "metadata": {
    "execution": {
     "iopub.execute_input": "2021-09-03T11:12:54.569696Z",
     "iopub.status.busy": "2021-09-03T11:12:54.569219Z",
     "iopub.status.idle": "2021-09-03T11:12:54.572499Z",
     "shell.execute_reply": "2021-09-03T11:12:54.572057Z"
    }
   },
   "outputs": [],
   "source": [
    "# data.keys()"
   ]
  },
  {
   "cell_type": "code",
   "execution_count": 6,
   "metadata": {
    "execution": {
     "iopub.execute_input": "2021-09-03T11:12:54.575801Z",
     "iopub.status.busy": "2021-09-03T11:12:54.574446Z",
     "iopub.status.idle": "2021-09-03T11:12:54.578410Z",
     "shell.execute_reply": "2021-09-03T11:12:54.579083Z"
    }
   },
   "outputs": [],
   "source": [
    "# data['current']"
   ]
  },
  {
   "cell_type": "code",
   "execution_count": 7,
   "metadata": {
    "execution": {
     "iopub.execute_input": "2021-09-03T11:12:54.592563Z",
     "iopub.status.busy": "2021-09-03T11:12:54.590904Z",
     "iopub.status.idle": "2021-09-03T11:12:55.170782Z",
     "shell.execute_reply": "2021-09-03T11:12:55.171464Z"
    }
   },
   "outputs": [
    {
     "data": {
      "image/png": "[encoded data removed]",
      "text/plain": [
       "<Figure size 216x216 with 1 Axes>"
      ]
     },
     "metadata": {
      "needs_background": "light"
     },
     "output_type": "display_data"
    },
    {
     "name": "stdout",
     "output_type": "stream",
     "text": [
      "Today, sun rises at 06:06 and sets at 18:38.\n",
      "Currently, the weather is Clouds (broken clouds).\n",
      "The temperature is 30.35°C and it feels like 37.27°C.\n",
      "The UV index is 0, humidity is 75%.\n",
      "The pressure is 1006 hPa, percentage of cloud cover is 66%\n",
      "The wind comes from SSE direction with a speed 2.65 m/s.\n"
     ]
    }
   ],
   "source": [
    "current = data['current']\r\n",
    "\r\n",
    "fig, ax = plt.subplots(figsize=(3, 3))\r\n",
    "icon = requests.get(f\"http://openweathermap.org/img/wn/{current['weather'][0]['icon']}@2x.png\")\r\n",
    "im = Image.open(BytesIO(icon.content))\r\n",
    "plt.imshow(im)\r\n",
    "ax.set_axis_off()\r\n",
    "plt.show()\r\n",
    "\r\n",
    "print(f\"Today, sun rises at {ts2dt(current['sunrise'], '%H:%M')[0]} \\\r\n",
    "and sets at {ts2dt(current['sunset'], '%H:%M')[0]}.\\n\\\r\n",
    "Currently, the weather is {current['weather'][0]['main']} ({current['weather'][0]['description']}).\\n\\\r\n",
    "The temperature is {current['temp']}°C and it feels like {current['feels_like']}°C.\\n\\\r\n",
    "The UV index is {current['uvi']}, humidity is {current['humidity']}%.\\n\\\r\n",
    "The pressure is {current['pressure']} hPa, percentage of cloud cover is {current['clouds']}%\\n\\\r\n",
    "The wind comes from {degrees_to_cardinal(current['wind_deg'])} direction with a speed {current['wind_speed']} m/s.\")"
   ]
  },
  {
   "cell_type": "code",
   "execution_count": 8,
   "metadata": {
    "execution": {
     "iopub.execute_input": "2021-09-03T11:12:55.174710Z",
     "iopub.status.busy": "2021-09-03T11:12:55.174221Z",
     "iopub.status.idle": "2021-09-03T11:12:55.181225Z",
     "shell.execute_reply": "2021-09-03T11:12:55.181853Z"
    }
   },
   "outputs": [],
   "source": [
    "df_hourly = pd.DataFrame(data['hourly'])\r\n",
    "df_daily = pd.DataFrame(data['daily'])"
   ]
  },
  {
   "cell_type": "code",
   "execution_count": 9,
   "metadata": {
    "execution": {
     "iopub.execute_input": "2021-09-03T11:12:55.185362Z",
     "iopub.status.busy": "2021-09-03T11:12:55.184427Z",
     "iopub.status.idle": "2021-09-03T11:12:55.516072Z",
     "shell.execute_reply": "2021-09-03T11:12:55.516603Z"
    }
   },
   "outputs": [
    {
     "data": {
      "image/png": "[encoded data removed]",
      "text/plain": [
       "<Figure size 864x432 with 1 Axes>"
      ]
     },
     "metadata": {
      "needs_background": "light"
     },
     "output_type": "display_data"
    }
   ],
   "source": [
    "fig, ax = plt.subplots(figsize=(12, 6))\r\n",
    "plt.plot(df_hourly.temp, '.-', label='Temperature')\r\n",
    "plt.plot(df_hourly.feels_like, '.-', label='Feels Like')\r\n",
    "ax.set(title='Temperature in future 48 hours', xlabel='Time', ylabel='Temperature')\r\n",
    "ax.set_xticks(list(range(0, len(df_hourly), 2)))\r\n",
    "ax.set_xticklabels([ts2dt(ts, '%m-%d %H:%M')[0] for i, ts in enumerate(df_hourly.dt) if i%2==0], \r\n",
    "                   rotation=45, ha=\"right\")\r\n",
    "ax.locator_params(nbins=15, axis='y')\r\n",
    "plt.legend()\r\n",
    "plt.show()"
   ]
  },
  {
   "cell_type": "code",
   "execution_count": 10,
   "metadata": {
    "execution": {
     "iopub.execute_input": "2021-09-03T11:12:55.531606Z",
     "iopub.status.busy": "2021-09-03T11:12:55.521385Z",
     "iopub.status.idle": "2021-09-03T11:12:55.543377Z",
     "shell.execute_reply": "2021-09-03T11:12:55.542945Z"
    }
   },
   "outputs": [
    {
     "data": {
      "text/html": [
       "<div>\n",
       "<style scoped>\n",
       "    .dataframe tbody tr th:only-of-type {\n",
       "        vertical-align: middle;\n",
       "    }\n",
       "\n",
       "    .dataframe tbody tr th {\n",
       "        vertical-align: top;\n",
       "    }\n",
       "\n",
       "    .dataframe thead th {\n",
       "        text-align: right;\n",
       "    }\n",
       "</style>\n",
       "<table border=\"1\" class=\"dataframe\">\n",
       "  <thead>\n",
       "    <tr style=\"text-align: right;\">\n",
       "      <th></th>\n",
       "      <th>dt</th>\n",
       "      <th>temp</th>\n",
       "      <th>feels_like</th>\n",
       "      <th>pressure</th>\n",
       "      <th>humidity</th>\n",
       "      <th>dew_point</th>\n",
       "      <th>uvi</th>\n",
       "      <th>clouds</th>\n",
       "      <th>visibility</th>\n",
       "      <th>wind_speed</th>\n",
       "      <th>wind_deg</th>\n",
       "      <th>wind_gust</th>\n",
       "      <th>weather</th>\n",
       "      <th>pop</th>\n",
       "      <th>rain</th>\n",
       "    </tr>\n",
       "  </thead>\n",
       "  <tbody>\n",
       "    <tr>\n",
       "      <th>0</th>\n",
       "      <td>1630666800</td>\n",
       "      <td>30.35</td>\n",
       "      <td>37.27</td>\n",
       "      <td>1006</td>\n",
       "      <td>75</td>\n",
       "      <td>25.42</td>\n",
       "      <td>0.0</td>\n",
       "      <td>66</td>\n",
       "      <td>10000</td>\n",
       "      <td>2.65</td>\n",
       "      <td>153</td>\n",
       "      <td>3.10</td>\n",
       "      <td>[{'id': 803, 'main': 'Clouds', 'description': ...</td>\n",
       "      <td>0.0</td>\n",
       "      <td>NaN</td>\n",
       "    </tr>\n",
       "    <tr>\n",
       "      <th>1</th>\n",
       "      <td>1630670400</td>\n",
       "      <td>29.95</td>\n",
       "      <td>36.42</td>\n",
       "      <td>1006</td>\n",
       "      <td>76</td>\n",
       "      <td>25.25</td>\n",
       "      <td>0.0</td>\n",
       "      <td>67</td>\n",
       "      <td>10000</td>\n",
       "      <td>2.82</td>\n",
       "      <td>152</td>\n",
       "      <td>3.53</td>\n",
       "      <td>[{'id': 803, 'main': 'Clouds', 'description': ...</td>\n",
       "      <td>0.0</td>\n",
       "      <td>NaN</td>\n",
       "    </tr>\n",
       "    <tr>\n",
       "      <th>2</th>\n",
       "      <td>1630674000</td>\n",
       "      <td>29.50</td>\n",
       "      <td>35.68</td>\n",
       "      <td>1006</td>\n",
       "      <td>78</td>\n",
       "      <td>25.26</td>\n",
       "      <td>0.0</td>\n",
       "      <td>78</td>\n",
       "      <td>10000</td>\n",
       "      <td>2.92</td>\n",
       "      <td>155</td>\n",
       "      <td>3.80</td>\n",
       "      <td>[{'id': 803, 'main': 'Clouds', 'description': ...</td>\n",
       "      <td>0.0</td>\n",
       "      <td>NaN</td>\n",
       "    </tr>\n",
       "    <tr>\n",
       "      <th>3</th>\n",
       "      <td>1630677600</td>\n",
       "      <td>28.99</td>\n",
       "      <td>34.71</td>\n",
       "      <td>1007</td>\n",
       "      <td>80</td>\n",
       "      <td>25.19</td>\n",
       "      <td>0.0</td>\n",
       "      <td>60</td>\n",
       "      <td>10000</td>\n",
       "      <td>2.64</td>\n",
       "      <td>158</td>\n",
       "      <td>3.59</td>\n",
       "      <td>[{'id': 803, 'main': 'Clouds', 'description': ...</td>\n",
       "      <td>0.0</td>\n",
       "      <td>NaN</td>\n",
       "    </tr>\n",
       "    <tr>\n",
       "      <th>4</th>\n",
       "      <td>1630681200</td>\n",
       "      <td>28.45</td>\n",
       "      <td>33.44</td>\n",
       "      <td>1008</td>\n",
       "      <td>81</td>\n",
       "      <td>24.87</td>\n",
       "      <td>0.0</td>\n",
       "      <td>46</td>\n",
       "      <td>10000</td>\n",
       "      <td>2.69</td>\n",
       "      <td>163</td>\n",
       "      <td>3.64</td>\n",
       "      <td>[{'id': 802, 'main': 'Clouds', 'description': ...</td>\n",
       "      <td>0.0</td>\n",
       "      <td>NaN</td>\n",
       "    </tr>\n",
       "  </tbody>\n",
       "</table>\n",
       "</div>"
      ],
      "text/plain": [
       "           dt   temp  feels_like  pressure  humidity  dew_point  uvi  clouds  \\\n",
       "0  1630666800  30.35       37.27      1006        75      25.42  0.0      66   \n",
       "1  1630670400  29.95       36.42      1006        76      25.25  0.0      67   \n",
       "2  1630674000  29.50       35.68      1006        78      25.26  0.0      78   \n",
       "3  1630677600  28.99       34.71      1007        80      25.19  0.0      60   \n",
       "4  1630681200  28.45       33.44      1008        81      24.87  0.0      46   \n",
       "\n",
       "   visibility  wind_speed  wind_deg  wind_gust  \\\n",
       "0       10000        2.65       153       3.10   \n",
       "1       10000        2.82       152       3.53   \n",
       "2       10000        2.92       155       3.80   \n",
       "3       10000        2.64       158       3.59   \n",
       "4       10000        2.69       163       3.64   \n",
       "\n",
       "                                             weather  pop rain  \n",
       "0  [{'id': 803, 'main': 'Clouds', 'description': ...  0.0  NaN  \n",
       "1  [{'id': 803, 'main': 'Clouds', 'description': ...  0.0  NaN  \n",
       "2  [{'id': 803, 'main': 'Clouds', 'description': ...  0.0  NaN  \n",
       "3  [{'id': 803, 'main': 'Clouds', 'description': ...  0.0  NaN  \n",
       "4  [{'id': 802, 'main': 'Clouds', 'description': ...  0.0  NaN  "
      ]
     },
     "execution_count": 10,
     "metadata": {},
     "output_type": "execute_result"
    }
   ],
   "source": [
    "df_hourly.head()"
   ]
  },
  {
   "cell_type": "code",
   "execution_count": null,
   "metadata": {},
   "outputs": [],
   "source": []
  }
 ],
 "metadata": {
  "interpreter": {
   "hash": "c1b4cfe941b6d2466ad1fb5979e97da9cda8801728c8091b097ab734208fc00c"
  },
  "kernelspec": {
   "display_name": "Python 3.8.3 64-bit ('base': conda)",
   "name": "python3"
  },
  "language_info": {
   "codemirror_mode": {
    "name": "ipython",
    "version": 3
   },
   "file_extension": ".py",
   "mimetype": "text/x-python",
   "name": "python",
   "nbconvert_exporter": "python",
   "pygments_lexer": "ipython3",
   "version": "3.8.11"
  }
 },
 "nbformat": 4,
 "nbformat_minor": 2
}
