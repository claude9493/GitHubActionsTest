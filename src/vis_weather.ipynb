{
 "cells": [
  {
   "cell_type": "code",
   "execution_count": 1,
   "metadata": {
    "execution": {
     "iopub.execute_input": "2021-09-14T02:23:39.273309Z",
     "iopub.status.busy": "2021-09-14T02:23:39.272574Z",
     "iopub.status.idle": "2021-09-14T02:23:40.783351Z",
     "shell.execute_reply": "2021-09-14T02:23:40.783776Z"
    }
   },
   "outputs": [],
   "source": [
    "import json, yaml, requests\r\n",
    "from datetime import datetime\r\n",
    "from dateutil import tz\r\n",
    "import pandas as pd\r\n",
    "from PIL import Image\r\n",
    "from io import BytesIO\r\n",
    "import matplotlib.pyplot as plt\r\n",
    "import seaborn\r\n",
    "\r\n",
    "CONFIG_PATH = \"../config/config.yaml\""
   ]
  },
  {
   "cell_type": "code",
   "execution_count": 2,
   "metadata": {
    "execution": {
     "iopub.execute_input": "2021-09-14T02:23:40.792804Z",
     "iopub.status.busy": "2021-09-14T02:23:40.789411Z",
     "iopub.status.idle": "2021-09-14T02:23:40.795908Z",
     "shell.execute_reply": "2021-09-14T02:23:40.795385Z"
    }
   },
   "outputs": [],
   "source": [
    "with open('../newest_ts', 'r') as f:\r\n",
    "    newest_ts = f.read()\r\n",
    "\r\n",
    "data_path = f\"../data/data_{newest_ts}.json\"\r\n",
    "with open(data_path, 'r') as f:\r\n",
    "    data = json.load(f)\r\n",
    "\r\n",
    "with open(CONFIG_PATH, \"r\") as stream:\r\n",
    "    config = yaml.safe_load(stream)\r\n",
    "\r\n",
    "TIME_ZONE = config['time_zone']\r\n",
    "DATETIME_FORMAT = config['dt_format']"
   ]
  },
  {
   "cell_type": "code",
   "execution_count": 3,
   "metadata": {
    "execution": {
     "iopub.execute_input": "2021-09-14T02:23:40.802279Z",
     "iopub.status.busy": "2021-09-14T02:23:40.801187Z",
     "iopub.status.idle": "2021-09-14T02:23:40.827184Z",
     "shell.execute_reply": "2021-09-14T02:23:40.827825Z"
    }
   },
   "outputs": [
    {
     "name": "stdout",
     "output_type": "stream",
     "text": [
      "Recent query happens at 2021-09-14 10:23:35 (CST).\n"
     ]
    }
   ],
   "source": [
    "def ts2dt(ts, format=DATETIME_FORMAT):\r\n",
    "    dt = (datetime.utcfromtimestamp(int(ts))\r\n",
    "                    .replace(tzinfo=tz.tzutc())\r\n",
    "                    # .astimezone(tz.tzlocal())\r\n",
    "                    .astimezone(tz.gettz(TIME_ZONE)))\r\n",
    "    return dt.strftime(format), dt\r\n",
    "\r\n",
    "_, newest_dt = ts2dt(newest_ts)\r\n",
    "print(f\"Recent query happens at {newest_dt.strftime(DATETIME_FORMAT)} ({newest_dt.tzname()}).\")"
   ]
  },
  {
   "cell_type": "code",
   "execution_count": 4,
   "metadata": {
    "execution": {
     "iopub.execute_input": "2021-09-14T02:23:40.832831Z",
     "iopub.status.busy": "2021-09-14T02:23:40.832313Z",
     "iopub.status.idle": "2021-09-14T02:23:40.834298Z",
     "shell.execute_reply": "2021-09-14T02:23:40.834765Z"
    }
   },
   "outputs": [],
   "source": [
    "def degrees_to_cardinal(d):\r\n",
    "  dirs = ['N', 'NNE', 'NE', 'ENE', 'E', 'ESE', 'SE', 'SSE', 'S', 'SSW', 'SW', 'WSW', 'W', 'WNW', 'NW', 'NNW']\r\n",
    "  ix = int(round(d / (360. / len(dirs))))\r\n",
    "  return dirs[ix % len(dirs)]"
   ]
  },
  {
   "cell_type": "code",
   "execution_count": 5,
   "metadata": {
    "execution": {
     "iopub.execute_input": "2021-09-14T02:23:40.839624Z",
     "iopub.status.busy": "2021-09-14T02:23:40.838971Z",
     "iopub.status.idle": "2021-09-14T02:23:40.842771Z",
     "shell.execute_reply": "2021-09-14T02:23:40.842316Z"
    }
   },
   "outputs": [],
   "source": [
    "# data.keys()"
   ]
  },
  {
   "cell_type": "code",
   "execution_count": 6,
   "metadata": {
    "execution": {
     "iopub.execute_input": "2021-09-14T02:23:40.847302Z",
     "iopub.status.busy": "2021-09-14T02:23:40.845856Z",
     "iopub.status.idle": "2021-09-14T02:23:40.848075Z",
     "shell.execute_reply": "2021-09-14T02:23:40.848740Z"
    }
   },
   "outputs": [],
   "source": [
    "# data['current']"
   ]
  },
  {
   "cell_type": "code",
   "execution_count": 7,
   "metadata": {
    "execution": {
     "iopub.execute_input": "2021-09-14T02:23:40.871277Z",
     "iopub.status.busy": "2021-09-14T02:23:40.870679Z",
     "iopub.status.idle": "2021-09-14T02:23:41.323247Z",
     "shell.execute_reply": "2021-09-14T02:23:41.324397Z"
    }
   },
   "outputs": [
    {
     "data": {
      "image/png": "[encoded data removed]",
      "text/plain": [
       "<Figure size 216x216 with 1 Axes>"
      ]
     },
     "metadata": {
      "needs_background": "light"
     },
     "output_type": "display_data"
    },
    {
     "name": "stdout",
     "output_type": "stream",
     "text": [
      "Today, sun rises at 06:09 and sets at 18:28.\n",
      "Currently, the weather is Rain (moderate rain).\n",
      "The temperature is 31.4°C and it feels like 38.4°C.\n",
      "The UV index is 6.23, humidity is 78%.\n",
      "The pressure is 1012 hPa, percentage of cloud cover is 87%\n",
      "The wind comes from S direction with a speed 1.14 m/s.\n"
     ]
    }
   ],
   "source": [
    "current = data['current']\r\n",
    "\r\n",
    "fig, ax = plt.subplots(figsize=(3, 3))\r\n",
    "icon = requests.get(f\"http://openweathermap.org/img/wn/{current['weather'][0]['icon']}@2x.png\")\r\n",
    "im = Image.open(BytesIO(icon.content))\r\n",
    "plt.imshow(im)\r\n",
    "ax.set_axis_off()\r\n",
    "plt.show()\r\n",
    "\r\n",
    "print(f\"Today, sun rises at {ts2dt(current['sunrise'], '%H:%M')[0]} \\\r\n",
    "and sets at {ts2dt(current['sunset'], '%H:%M')[0]}.\\n\\\r\n",
    "Currently, the weather is {current['weather'][0]['main']} ({current['weather'][0]['description']}).\\n\\\r\n",
    "The temperature is {current['temp']}°C and it feels like {current['feels_like']}°C.\\n\\\r\n",
    "The UV index is {current['uvi']}, humidity is {current['humidity']}%.\\n\\\r\n",
    "The pressure is {current['pressure']} hPa, percentage of cloud cover is {current['clouds']}%\\n\\\r\n",
    "The wind comes from {degrees_to_cardinal(current['wind_deg'])} direction with a speed {current['wind_speed']} m/s.\")"
   ]
  },
  {
   "cell_type": "code",
   "execution_count": 8,
   "metadata": {
    "execution": {
     "iopub.execute_input": "2021-09-14T02:23:41.328511Z",
     "iopub.status.busy": "2021-09-14T02:23:41.327997Z",
     "iopub.status.idle": "2021-09-14T02:23:41.336060Z",
     "shell.execute_reply": "2021-09-14T02:23:41.336819Z"
    }
   },
   "outputs": [],
   "source": [
    "df_hourly = pd.DataFrame(data['hourly'])\r\n",
    "df_daily = pd.DataFrame(data['daily'])"
   ]
  },
  {
   "cell_type": "code",
   "execution_count": 9,
   "metadata": {
    "execution": {
     "iopub.execute_input": "2021-09-14T02:23:41.340050Z",
     "iopub.status.busy": "2021-09-14T02:23:41.339527Z",
     "iopub.status.idle": "2021-09-14T02:23:41.700657Z",
     "shell.execute_reply": "2021-09-14T02:23:41.701116Z"
    }
   },
   "outputs": [
    {
     "data": {
      "image/png": "[encoded data removed]",
      "text/plain": [
       "<Figure size 864x432 with 1 Axes>"
      ]
     },
     "metadata": {
      "needs_background": "light"
     },
     "output_type": "display_data"
    }
   ],
   "source": [
    "fig, ax = plt.subplots(figsize=(12, 6))\r\n",
    "plt.plot(df_hourly.temp, '.-', label='Temperature')\r\n",
    "plt.plot(df_hourly.feels_like, '.-', label='Feels Like')\r\n",
    "ax.set(title='Temperature in future 48 hours', xlabel='Time', ylabel='Temperature')\r\n",
    "ax.set_xticks(list(range(0, len(df_hourly), 2)))\r\n",
    "ax.set_xticklabels([ts2dt(ts, '%m-%d %H:%M')[0] for i, ts in enumerate(df_hourly.dt) if i%2==0], \r\n",
    "                   rotation=45, ha=\"right\")\r\n",
    "ax.locator_params(nbins=15, axis='y')\r\n",
    "plt.legend()\r\n",
    "plt.show()"
   ]
  },
  {
   "cell_type": "code",
   "execution_count": 10,
   "metadata": {
    "execution": {
     "iopub.execute_input": "2021-09-14T02:23:41.714928Z",
     "iopub.status.busy": "2021-09-14T02:23:41.705686Z",
     "iopub.status.idle": "2021-09-14T02:23:41.728962Z",
     "shell.execute_reply": "2021-09-14T02:23:41.728150Z"
    }
   },
   "outputs": [
    {
     "data": {
      "text/html": [
       "<div>\n",
       "<style scoped>\n",
       "    .dataframe tbody tr th:only-of-type {\n",
       "        vertical-align: middle;\n",
       "    }\n",
       "\n",
       "    .dataframe tbody tr th {\n",
       "        vertical-align: top;\n",
       "    }\n",
       "\n",
       "    .dataframe thead th {\n",
       "        text-align: right;\n",
       "    }\n",
       "</style>\n",
       "<table border=\"1\" class=\"dataframe\">\n",
       "  <thead>\n",
       "    <tr style=\"text-align: right;\">\n",
       "      <th></th>\n",
       "      <th>dt</th>\n",
       "      <th>temp</th>\n",
       "      <th>feels_like</th>\n",
       "      <th>pressure</th>\n",
       "      <th>humidity</th>\n",
       "      <th>dew_point</th>\n",
       "      <th>uvi</th>\n",
       "      <th>clouds</th>\n",
       "      <th>visibility</th>\n",
       "      <th>wind_speed</th>\n",
       "      <th>wind_deg</th>\n",
       "      <th>wind_gust</th>\n",
       "      <th>weather</th>\n",
       "      <th>pop</th>\n",
       "      <th>rain</th>\n",
       "    </tr>\n",
       "  </thead>\n",
       "  <tbody>\n",
       "    <tr>\n",
       "      <th>0</th>\n",
       "      <td>1631584800</td>\n",
       "      <td>31.40</td>\n",
       "      <td>38.40</td>\n",
       "      <td>1012</td>\n",
       "      <td>78</td>\n",
       "      <td>27.10</td>\n",
       "      <td>6.23</td>\n",
       "      <td>87</td>\n",
       "      <td>10000</td>\n",
       "      <td>1.14</td>\n",
       "      <td>174</td>\n",
       "      <td>1.09</td>\n",
       "      <td>[{'id': 804, 'main': 'Clouds', 'description': ...</td>\n",
       "      <td>0.46</td>\n",
       "      <td>NaN</td>\n",
       "    </tr>\n",
       "    <tr>\n",
       "      <th>1</th>\n",
       "      <td>1631588400</td>\n",
       "      <td>31.37</td>\n",
       "      <td>38.37</td>\n",
       "      <td>1012</td>\n",
       "      <td>75</td>\n",
       "      <td>26.40</td>\n",
       "      <td>8.90</td>\n",
       "      <td>88</td>\n",
       "      <td>10000</td>\n",
       "      <td>1.39</td>\n",
       "      <td>174</td>\n",
       "      <td>1.34</td>\n",
       "      <td>[{'id': 500, 'main': 'Rain', 'description': 'l...</td>\n",
       "      <td>0.48</td>\n",
       "      <td>{'1h': 0.12}</td>\n",
       "    </tr>\n",
       "    <tr>\n",
       "      <th>2</th>\n",
       "      <td>1631592000</td>\n",
       "      <td>31.50</td>\n",
       "      <td>38.50</td>\n",
       "      <td>1012</td>\n",
       "      <td>72</td>\n",
       "      <td>25.83</td>\n",
       "      <td>9.86</td>\n",
       "      <td>89</td>\n",
       "      <td>10000</td>\n",
       "      <td>1.52</td>\n",
       "      <td>188</td>\n",
       "      <td>1.49</td>\n",
       "      <td>[{'id': 500, 'main': 'Rain', 'description': 'l...</td>\n",
       "      <td>0.40</td>\n",
       "      <td>{'1h': 0.12}</td>\n",
       "    </tr>\n",
       "    <tr>\n",
       "      <th>3</th>\n",
       "      <td>1631595600</td>\n",
       "      <td>31.60</td>\n",
       "      <td>38.60</td>\n",
       "      <td>1011</td>\n",
       "      <td>69</td>\n",
       "      <td>25.21</td>\n",
       "      <td>9.69</td>\n",
       "      <td>92</td>\n",
       "      <td>10000</td>\n",
       "      <td>2.29</td>\n",
       "      <td>193</td>\n",
       "      <td>1.98</td>\n",
       "      <td>[{'id': 804, 'main': 'Clouds', 'description': ...</td>\n",
       "      <td>0.41</td>\n",
       "      <td>NaN</td>\n",
       "    </tr>\n",
       "    <tr>\n",
       "      <th>4</th>\n",
       "      <td>1631599200</td>\n",
       "      <td>31.54</td>\n",
       "      <td>37.79</td>\n",
       "      <td>1011</td>\n",
       "      <td>66</td>\n",
       "      <td>24.41</td>\n",
       "      <td>7.97</td>\n",
       "      <td>94</td>\n",
       "      <td>10000</td>\n",
       "      <td>2.75</td>\n",
       "      <td>203</td>\n",
       "      <td>2.25</td>\n",
       "      <td>[{'id': 804, 'main': 'Clouds', 'description': ...</td>\n",
       "      <td>0.41</td>\n",
       "      <td>NaN</td>\n",
       "    </tr>\n",
       "  </tbody>\n",
       "</table>\n",
       "</div>"
      ],
      "text/plain": [
       "           dt   temp  feels_like  pressure  humidity  dew_point   uvi  clouds  \\\n",
       "0  1631584800  31.40       38.40      1012        78      27.10  6.23      87   \n",
       "1  1631588400  31.37       38.37      1012        75      26.40  8.90      88   \n",
       "2  1631592000  31.50       38.50      1012        72      25.83  9.86      89   \n",
       "3  1631595600  31.60       38.60      1011        69      25.21  9.69      92   \n",
       "4  1631599200  31.54       37.79      1011        66      24.41  7.97      94   \n",
       "\n",
       "   visibility  wind_speed  wind_deg  wind_gust  \\\n",
       "0       10000        1.14       174       1.09   \n",
       "1       10000        1.39       174       1.34   \n",
       "2       10000        1.52       188       1.49   \n",
       "3       10000        2.29       193       1.98   \n",
       "4       10000        2.75       203       2.25   \n",
       "\n",
       "                                             weather   pop          rain  \n",
       "0  [{'id': 804, 'main': 'Clouds', 'description': ...  0.46           NaN  \n",
       "1  [{'id': 500, 'main': 'Rain', 'description': 'l...  0.48  {'1h': 0.12}  \n",
       "2  [{'id': 500, 'main': 'Rain', 'description': 'l...  0.40  {'1h': 0.12}  \n",
       "3  [{'id': 804, 'main': 'Clouds', 'description': ...  0.41           NaN  \n",
       "4  [{'id': 804, 'main': 'Clouds', 'description': ...  0.41           NaN  "
      ]
     },
     "execution_count": 10,
     "metadata": {},
     "output_type": "execute_result"
    }
   ],
   "source": [
    "df_hourly.head()"
   ]
  },
  {
   "cell_type": "code",
   "execution_count": null,
   "metadata": {},
   "outputs": [],
   "source": []
  }
 ],
 "metadata": {
  "interpreter": {
   "hash": "c1b4cfe941b6d2466ad1fb5979e97da9cda8801728c8091b097ab734208fc00c"
  },
  "kernelspec": {
   "display_name": "Python 3.8.3 64-bit ('base': conda)",
   "name": "python3"
  },
  "language_info": {
   "codemirror_mode": {
    "name": "ipython",
    "version": 3
   },
   "file_extension": ".py",
   "mimetype": "text/x-python",
   "name": "python",
   "nbconvert_exporter": "python",
   "pygments_lexer": "ipython3",
   "version": "3.8.11"
  }
 },
 "nbformat": 4,
 "nbformat_minor": 2
}
