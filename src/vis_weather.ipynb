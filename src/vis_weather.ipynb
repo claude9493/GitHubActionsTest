{
 "cells": [
  {
   "cell_type": "code",
   "execution_count": 1,
   "metadata": {
    "execution": {
     "iopub.execute_input": "2021-09-23T19:09:28.529704Z",
     "iopub.status.busy": "2021-09-23T19:09:28.529104Z",
     "iopub.status.idle": "2021-09-23T19:09:30.261596Z",
     "shell.execute_reply": "2021-09-23T19:09:30.261002Z"
    }
   },
   "outputs": [],
   "source": [
    "import json, yaml, requests\r\n",
    "from datetime import datetime\r\n",
    "from dateutil import tz\r\n",
    "import pandas as pd\r\n",
    "from PIL import Image\r\n",
    "from io import BytesIO\r\n",
    "import matplotlib.pyplot as plt\r\n",
    "import seaborn\r\n",
    "\r\n",
    "CONFIG_PATH = \"../config/config.yaml\""
   ]
  },
  {
   "cell_type": "code",
   "execution_count": 2,
   "metadata": {
    "execution": {
     "iopub.execute_input": "2021-09-23T19:09:30.266664Z",
     "iopub.status.busy": "2021-09-23T19:09:30.266188Z",
     "iopub.status.idle": "2021-09-23T19:09:30.270891Z",
     "shell.execute_reply": "2021-09-23T19:09:30.270486Z"
    }
   },
   "outputs": [],
   "source": [
    "with open('../newest_ts', 'r') as f:\r\n",
    "    newest_ts = f.read()\r\n",
    "\r\n",
    "data_path = f\"../data/data_{newest_ts}.json\"\r\n",
    "with open(data_path, 'r') as f:\r\n",
    "    data = json.load(f)\r\n",
    "\r\n",
    "with open(CONFIG_PATH, \"r\") as stream:\r\n",
    "    config = yaml.safe_load(stream)\r\n",
    "\r\n",
    "TIME_ZONE = config['time_zone']\r\n",
    "DATETIME_FORMAT = config['dt_format']"
   ]
  },
  {
   "cell_type": "code",
   "execution_count": 3,
   "metadata": {
    "execution": {
     "iopub.execute_input": "2021-09-23T19:09:30.276087Z",
     "iopub.status.busy": "2021-09-23T19:09:30.274602Z",
     "iopub.status.idle": "2021-09-23T19:09:30.278794Z",
     "shell.execute_reply": "2021-09-23T19:09:30.279176Z"
    }
   },
   "outputs": [
    {
     "name": "stdout",
     "output_type": "stream",
     "text": [
      "Recent query happens at 2021-09-24 03:09:25 (CST).\n"
     ]
    }
   ],
   "source": [
    "def ts2dt(ts, format=DATETIME_FORMAT):\r\n",
    "    dt = (datetime.utcfromtimestamp(int(ts))\r\n",
    "                    .replace(tzinfo=tz.tzutc())\r\n",
    "                    # .astimezone(tz.tzlocal())\r\n",
    "                    .astimezone(tz.gettz(TIME_ZONE)))\r\n",
    "    return dt.strftime(format), dt\r\n",
    "\r\n",
    "_, newest_dt = ts2dt(newest_ts)\r\n",
    "print(f\"Recent query happens at {newest_dt.strftime(DATETIME_FORMAT)} ({newest_dt.tzname()}).\")"
   ]
  },
  {
   "cell_type": "code",
   "execution_count": 4,
   "metadata": {
    "execution": {
     "iopub.execute_input": "2021-09-23T19:09:30.284074Z",
     "iopub.status.busy": "2021-09-23T19:09:30.282908Z",
     "iopub.status.idle": "2021-09-23T19:09:30.284596Z",
     "shell.execute_reply": "2021-09-23T19:09:30.284959Z"
    }
   },
   "outputs": [],
   "source": [
    "def degrees_to_cardinal(d):\r\n",
    "  dirs = ['N', 'NNE', 'NE', 'ENE', 'E', 'ESE', 'SE', 'SSE', 'S', 'SSW', 'SW', 'WSW', 'W', 'WNW', 'NW', 'NNW']\r\n",
    "  ix = int(round(d / (360. / len(dirs))))\r\n",
    "  return dirs[ix % len(dirs)]"
   ]
  },
  {
   "cell_type": "code",
   "execution_count": 5,
   "metadata": {
    "execution": {
     "iopub.execute_input": "2021-09-23T19:09:30.288773Z",
     "iopub.status.busy": "2021-09-23T19:09:30.287775Z",
     "iopub.status.idle": "2021-09-23T19:09:30.289297Z",
     "shell.execute_reply": "2021-09-23T19:09:30.289662Z"
    }
   },
   "outputs": [],
   "source": [
    "# data.keys()"
   ]
  },
  {
   "cell_type": "code",
   "execution_count": 6,
   "metadata": {
    "execution": {
     "iopub.execute_input": "2021-09-23T19:09:30.293183Z",
     "iopub.status.busy": "2021-09-23T19:09:30.292199Z",
     "iopub.status.idle": "2021-09-23T19:09:30.294207Z",
     "shell.execute_reply": "2021-09-23T19:09:30.293833Z"
    }
   },
   "outputs": [],
   "source": [
    "# data['current']"
   ]
  },
  {
   "cell_type": "code",
   "execution_count": 7,
   "metadata": {
    "execution": {
     "iopub.execute_input": "2021-09-23T19:09:30.316389Z",
     "iopub.status.busy": "2021-09-23T19:09:30.312123Z",
     "iopub.status.idle": "2021-09-23T19:09:30.696117Z",
     "shell.execute_reply": "2021-09-23T19:09:30.696778Z"
    }
   },
   "outputs": [
    {
     "data": {
      "image/png": "[encoded data removed]",
      "text/plain": [
       "<Figure size 216x216 with 1 Axes>"
      ]
     },
     "metadata": {
      "needs_background": "light"
     },
     "output_type": "display_data"
    },
    {
     "name": "stdout",
     "output_type": "stream",
     "text": [
      "Today, sun rises at 06:12 and sets at 18:17.\n",
      "Currently, the weather is Rain (light rain).\n",
      "The temperature is 29.15°C and it feels like 35.62°C.\n",
      "The UV index is 0, humidity is 82%.\n",
      "The pressure is 1013 hPa, percentage of cloud cover is 70%\n",
      "The wind comes from E direction with a speed 6.44 m/s.\n"
     ]
    }
   ],
   "source": [
    "current = data['current']\r\n",
    "\r\n",
    "fig, ax = plt.subplots(figsize=(3, 3))\r\n",
    "icon = requests.get(f\"http://openweathermap.org/img/wn/{current['weather'][0]['icon']}@2x.png\")\r\n",
    "im = Image.open(BytesIO(icon.content))\r\n",
    "plt.imshow(im)\r\n",
    "ax.set_axis_off()\r\n",
    "plt.show()\r\n",
    "\r\n",
    "print(f\"Today, sun rises at {ts2dt(current['sunrise'], '%H:%M')[0]} \\\r\n",
    "and sets at {ts2dt(current['sunset'], '%H:%M')[0]}.\\n\\\r\n",
    "Currently, the weather is {current['weather'][0]['main']} ({current['weather'][0]['description']}).\\n\\\r\n",
    "The temperature is {current['temp']}°C and it feels like {current['feels_like']}°C.\\n\\\r\n",
    "The UV index is {current['uvi']}, humidity is {current['humidity']}%.\\n\\\r\n",
    "The pressure is {current['pressure']} hPa, percentage of cloud cover is {current['clouds']}%\\n\\\r\n",
    "The wind comes from {degrees_to_cardinal(current['wind_deg'])} direction with a speed {current['wind_speed']} m/s.\")"
   ]
  },
  {
   "cell_type": "code",
   "execution_count": 8,
   "metadata": {
    "execution": {
     "iopub.execute_input": "2021-09-23T19:09:30.700082Z",
     "iopub.status.busy": "2021-09-23T19:09:30.699151Z",
     "iopub.status.idle": "2021-09-23T19:09:30.705878Z",
     "shell.execute_reply": "2021-09-23T19:09:30.706510Z"
    }
   },
   "outputs": [],
   "source": [
    "df_hourly = pd.DataFrame(data['hourly'])\r\n",
    "df_daily = pd.DataFrame(data['daily'])"
   ]
  },
  {
   "cell_type": "code",
   "execution_count": 9,
   "metadata": {
    "execution": {
     "iopub.execute_input": "2021-09-23T19:09:30.709620Z",
     "iopub.status.busy": "2021-09-23T19:09:30.708596Z",
     "iopub.status.idle": "2021-09-23T19:09:30.946096Z",
     "shell.execute_reply": "2021-09-23T19:09:30.945612Z"
    }
   },
   "outputs": [
    {
     "data": {
      "image/png": "[encoded data removed]",
      "text/plain": [
       "<Figure size 864x432 with 1 Axes>"
      ]
     },
     "metadata": {
      "needs_background": "light"
     },
     "output_type": "display_data"
    }
   ],
   "source": [
    "fig, ax = plt.subplots(figsize=(12, 6))\r\n",
    "plt.plot(df_hourly.temp, '.-', label='Temperature')\r\n",
    "plt.plot(df_hourly.feels_like, '.-', label='Feels Like')\r\n",
    "ax.set(title='Temperature in future 48 hours', xlabel='Time', ylabel='Temperature')\r\n",
    "ax.set_xticks(list(range(0, len(df_hourly), 2)))\r\n",
    "ax.set_xticklabels([ts2dt(ts, '%m-%d %H:%M')[0] for i, ts in enumerate(df_hourly.dt) if i%2==0], \r\n",
    "                   rotation=45, ha=\"right\")\r\n",
    "ax.locator_params(nbins=15, axis='y')\r\n",
    "plt.legend()\r\n",
    "plt.show()"
   ]
  },
  {
   "cell_type": "code",
   "execution_count": 10,
   "metadata": {
    "execution": {
     "iopub.execute_input": "2021-09-23T19:09:30.957072Z",
     "iopub.status.busy": "2021-09-23T19:09:30.949938Z",
     "iopub.status.idle": "2021-09-23T19:09:30.967702Z",
     "shell.execute_reply": "2021-09-23T19:09:30.967317Z"
    }
   },
   "outputs": [
    {
     "data": {
      "text/html": [
       "<div>\n",
       "<style scoped>\n",
       "    .dataframe tbody tr th:only-of-type {\n",
       "        vertical-align: middle;\n",
       "    }\n",
       "\n",
       "    .dataframe tbody tr th {\n",
       "        vertical-align: top;\n",
       "    }\n",
       "\n",
       "    .dataframe thead th {\n",
       "        text-align: right;\n",
       "    }\n",
       "</style>\n",
       "<table border=\"1\" class=\"dataframe\">\n",
       "  <thead>\n",
       "    <tr style=\"text-align: right;\">\n",
       "      <th></th>\n",
       "      <th>dt</th>\n",
       "      <th>temp</th>\n",
       "      <th>feels_like</th>\n",
       "      <th>pressure</th>\n",
       "      <th>humidity</th>\n",
       "      <th>dew_point</th>\n",
       "      <th>uvi</th>\n",
       "      <th>clouds</th>\n",
       "      <th>visibility</th>\n",
       "      <th>wind_speed</th>\n",
       "      <th>wind_deg</th>\n",
       "      <th>wind_gust</th>\n",
       "      <th>weather</th>\n",
       "      <th>pop</th>\n",
       "      <th>rain</th>\n",
       "    </tr>\n",
       "  </thead>\n",
       "  <tbody>\n",
       "    <tr>\n",
       "      <th>0</th>\n",
       "      <td>1632423600</td>\n",
       "      <td>29.15</td>\n",
       "      <td>35.62</td>\n",
       "      <td>1013</td>\n",
       "      <td>82</td>\n",
       "      <td>25.76</td>\n",
       "      <td>0.0</td>\n",
       "      <td>70</td>\n",
       "      <td>10000</td>\n",
       "      <td>6.44</td>\n",
       "      <td>88</td>\n",
       "      <td>8.69</td>\n",
       "      <td>[{'id': 500, 'main': 'Rain', 'description': 'l...</td>\n",
       "      <td>0.64</td>\n",
       "      <td>{'1h': 0.88}</td>\n",
       "    </tr>\n",
       "    <tr>\n",
       "      <th>1</th>\n",
       "      <td>1632427200</td>\n",
       "      <td>28.83</td>\n",
       "      <td>34.69</td>\n",
       "      <td>1013</td>\n",
       "      <td>82</td>\n",
       "      <td>25.45</td>\n",
       "      <td>0.0</td>\n",
       "      <td>70</td>\n",
       "      <td>10000</td>\n",
       "      <td>6.31</td>\n",
       "      <td>90</td>\n",
       "      <td>8.86</td>\n",
       "      <td>[{'id': 803, 'main': 'Clouds', 'description': ...</td>\n",
       "      <td>0.65</td>\n",
       "      <td>NaN</td>\n",
       "    </tr>\n",
       "    <tr>\n",
       "      <th>2</th>\n",
       "      <td>1632430800</td>\n",
       "      <td>28.57</td>\n",
       "      <td>33.96</td>\n",
       "      <td>1013</td>\n",
       "      <td>82</td>\n",
       "      <td>25.19</td>\n",
       "      <td>0.0</td>\n",
       "      <td>69</td>\n",
       "      <td>10000</td>\n",
       "      <td>6.45</td>\n",
       "      <td>92</td>\n",
       "      <td>9.16</td>\n",
       "      <td>[{'id': 803, 'main': 'Clouds', 'description': ...</td>\n",
       "      <td>0.65</td>\n",
       "      <td>NaN</td>\n",
       "    </tr>\n",
       "    <tr>\n",
       "      <th>3</th>\n",
       "      <td>1632434400</td>\n",
       "      <td>28.30</td>\n",
       "      <td>33.04</td>\n",
       "      <td>1014</td>\n",
       "      <td>81</td>\n",
       "      <td>24.72</td>\n",
       "      <td>0.0</td>\n",
       "      <td>65</td>\n",
       "      <td>10000</td>\n",
       "      <td>6.57</td>\n",
       "      <td>91</td>\n",
       "      <td>9.17</td>\n",
       "      <td>[{'id': 500, 'main': 'Rain', 'description': 'l...</td>\n",
       "      <td>0.65</td>\n",
       "      <td>{'1h': 0.51}</td>\n",
       "    </tr>\n",
       "    <tr>\n",
       "      <th>4</th>\n",
       "      <td>1632438000</td>\n",
       "      <td>28.09</td>\n",
       "      <td>32.49</td>\n",
       "      <td>1014</td>\n",
       "      <td>81</td>\n",
       "      <td>24.52</td>\n",
       "      <td>0.2</td>\n",
       "      <td>60</td>\n",
       "      <td>10000</td>\n",
       "      <td>6.36</td>\n",
       "      <td>88</td>\n",
       "      <td>8.73</td>\n",
       "      <td>[{'id': 500, 'main': 'Rain', 'description': 'l...</td>\n",
       "      <td>0.69</td>\n",
       "      <td>{'1h': 0.37}</td>\n",
       "    </tr>\n",
       "  </tbody>\n",
       "</table>\n",
       "</div>"
      ],
      "text/plain": [
       "           dt   temp  feels_like  pressure  humidity  dew_point  uvi  clouds  \\\n",
       "0  1632423600  29.15       35.62      1013        82      25.76  0.0      70   \n",
       "1  1632427200  28.83       34.69      1013        82      25.45  0.0      70   \n",
       "2  1632430800  28.57       33.96      1013        82      25.19  0.0      69   \n",
       "3  1632434400  28.30       33.04      1014        81      24.72  0.0      65   \n",
       "4  1632438000  28.09       32.49      1014        81      24.52  0.2      60   \n",
       "\n",
       "   visibility  wind_speed  wind_deg  wind_gust  \\\n",
       "0       10000        6.44        88       8.69   \n",
       "1       10000        6.31        90       8.86   \n",
       "2       10000        6.45        92       9.16   \n",
       "3       10000        6.57        91       9.17   \n",
       "4       10000        6.36        88       8.73   \n",
       "\n",
       "                                             weather   pop          rain  \n",
       "0  [{'id': 500, 'main': 'Rain', 'description': 'l...  0.64  {'1h': 0.88}  \n",
       "1  [{'id': 803, 'main': 'Clouds', 'description': ...  0.65           NaN  \n",
       "2  [{'id': 803, 'main': 'Clouds', 'description': ...  0.65           NaN  \n",
       "3  [{'id': 500, 'main': 'Rain', 'description': 'l...  0.65  {'1h': 0.51}  \n",
       "4  [{'id': 500, 'main': 'Rain', 'description': 'l...  0.69  {'1h': 0.37}  "
      ]
     },
     "execution_count": 10,
     "metadata": {},
     "output_type": "execute_result"
    }
   ],
   "source": [
    "df_hourly.head()"
   ]
  },
  {
   "cell_type": "code",
   "execution_count": null,
   "metadata": {},
   "outputs": [],
   "source": []
  }
 ],
 "metadata": {
  "interpreter": {
   "hash": "c1b4cfe941b6d2466ad1fb5979e97da9cda8801728c8091b097ab734208fc00c"
  },
  "kernelspec": {
   "display_name": "Python 3.8.3 64-bit ('base': conda)",
   "name": "python3"
  },
  "language_info": {
   "codemirror_mode": {
    "name": "ipython",
    "version": 3
   },
   "file_extension": ".py",
   "mimetype": "text/x-python",
   "name": "python",
   "nbconvert_exporter": "python",
   "pygments_lexer": "ipython3",
   "version": "3.8.12"
  }
 },
 "nbformat": 4,
 "nbformat_minor": 2
}
