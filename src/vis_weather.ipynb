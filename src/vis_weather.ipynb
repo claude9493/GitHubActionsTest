{
 "cells": [
  {
   "cell_type": "code",
   "execution_count": 1,
   "metadata": {
    "execution": {
     "iopub.execute_input": "2021-10-22T05:10:38.030916Z",
     "iopub.status.busy": "2021-10-22T05:10:38.030389Z",
     "iopub.status.idle": "2021-10-22T05:10:40.021386Z",
     "shell.execute_reply": "2021-10-22T05:10:40.021855Z"
    }
   },
   "outputs": [],
   "source": [
    "import json, yaml, requests\r\n",
    "from datetime import datetime\r\n",
    "from dateutil import tz\r\n",
    "import pandas as pd\r\n",
    "from PIL import Image\r\n",
    "from io import BytesIO\r\n",
    "import matplotlib.pyplot as plt\r\n",
    "import seaborn\r\n",
    "\r\n",
    "CONFIG_PATH = \"../config/config.yaml\""
   ]
  },
  {
   "cell_type": "code",
   "execution_count": 2,
   "metadata": {
    "execution": {
     "iopub.execute_input": "2021-10-22T05:10:40.029675Z",
     "iopub.status.busy": "2021-10-22T05:10:40.026772Z",
     "iopub.status.idle": "2021-10-22T05:10:40.032181Z",
     "shell.execute_reply": "2021-10-22T05:10:40.031753Z"
    }
   },
   "outputs": [],
   "source": [
    "with open('../newest_ts', 'r') as f:\r\n",
    "    newest_ts = f.read()\r\n",
    "\r\n",
    "data_path = f\"../data/data_{newest_ts}.json\"\r\n",
    "with open(data_path, 'r') as f:\r\n",
    "    data = json.load(f)\r\n",
    "\r\n",
    "with open(CONFIG_PATH, \"r\") as stream:\r\n",
    "    config = yaml.safe_load(stream)\r\n",
    "\r\n",
    "TIME_ZONE = config['time_zone']\r\n",
    "DATETIME_FORMAT = config['dt_format']"
   ]
  },
  {
   "cell_type": "code",
   "execution_count": 3,
   "metadata": {
    "execution": {
     "iopub.execute_input": "2021-10-22T05:10:40.036773Z",
     "iopub.status.busy": "2021-10-22T05:10:40.036313Z",
     "iopub.status.idle": "2021-10-22T05:10:40.047456Z",
     "shell.execute_reply": "2021-10-22T05:10:40.047064Z"
    }
   },
   "outputs": [
    {
     "name": "stdout",
     "output_type": "stream",
     "text": [
      "Recent query happens at 2021-10-22 13:10:34 (CST).\n"
     ]
    }
   ],
   "source": [
    "def ts2dt(ts, format=DATETIME_FORMAT):\r\n",
    "    dt = (datetime.utcfromtimestamp(int(ts))\r\n",
    "                    .replace(tzinfo=tz.tzutc())\r\n",
    "                    # .astimezone(tz.tzlocal())\r\n",
    "                    .astimezone(tz.gettz(TIME_ZONE)))\r\n",
    "    return dt.strftime(format), dt\r\n",
    "\r\n",
    "_, newest_dt = ts2dt(newest_ts)\r\n",
    "print(f\"Recent query happens at {newest_dt.strftime(DATETIME_FORMAT)} ({newest_dt.tzname()}).\")"
   ]
  },
  {
   "cell_type": "code",
   "execution_count": 4,
   "metadata": {
    "execution": {
     "iopub.execute_input": "2021-10-22T05:10:40.052496Z",
     "iopub.status.busy": "2021-10-22T05:10:40.051472Z",
     "iopub.status.idle": "2021-10-22T05:10:40.053039Z",
     "shell.execute_reply": "2021-10-22T05:10:40.053413Z"
    }
   },
   "outputs": [],
   "source": [
    "def degrees_to_cardinal(d):\r\n",
    "  dirs = ['N', 'NNE', 'NE', 'ENE', 'E', 'ESE', 'SE', 'SSE', 'S', 'SSW', 'SW', 'WSW', 'W', 'WNW', 'NW', 'NNW']\r\n",
    "  ix = int(round(d / (360. / len(dirs))))\r\n",
    "  return dirs[ix % len(dirs)]"
   ]
  },
  {
   "cell_type": "code",
   "execution_count": 5,
   "metadata": {
    "execution": {
     "iopub.execute_input": "2021-10-22T05:10:40.057331Z",
     "iopub.status.busy": "2021-10-22T05:10:40.056328Z",
     "iopub.status.idle": "2021-10-22T05:10:40.058367Z",
     "shell.execute_reply": "2021-10-22T05:10:40.058000Z"
    }
   },
   "outputs": [],
   "source": [
    "# data.keys()"
   ]
  },
  {
   "cell_type": "code",
   "execution_count": 6,
   "metadata": {
    "execution": {
     "iopub.execute_input": "2021-10-22T05:10:40.062114Z",
     "iopub.status.busy": "2021-10-22T05:10:40.061030Z",
     "iopub.status.idle": "2021-10-22T05:10:40.062633Z",
     "shell.execute_reply": "2021-10-22T05:10:40.062996Z"
    }
   },
   "outputs": [],
   "source": [
    "# data['current']"
   ]
  },
  {
   "cell_type": "code",
   "execution_count": 7,
   "metadata": {
    "execution": {
     "iopub.execute_input": "2021-10-22T05:10:40.080273Z",
     "iopub.status.busy": "2021-10-22T05:10:40.079785Z",
     "iopub.status.idle": "2021-10-22T05:10:40.452598Z",
     "shell.execute_reply": "2021-10-22T05:10:40.453291Z"
    }
   },
   "outputs": [
    {
     "data": {
      "image/png": "[encoded data removed]",
      "text/plain": [
       "<Figure size 216x216 with 1 Axes>"
      ]
     },
     "metadata": {
      "needs_background": "light"
     },
     "output_type": "display_data"
    },
    {
     "name": "stdout",
     "output_type": "stream",
     "text": [
      "Today, sun rises at 06:21 and sets at 17:52.\n",
      "Currently, the weather is Clouds (overcast clouds).\n",
      "The temperature is 20.04°C and it feels like 20.06°C.\n",
      "The UV index is 1.79, humidity is 75%.\n",
      "The pressure is 1018 hPa, percentage of cloud cover is 100%\n",
      "The wind comes from SE direction with a speed 0.45 m/s.\n"
     ]
    }
   ],
   "source": [
    "current = data['current']\r\n",
    "\r\n",
    "fig, ax = plt.subplots(figsize=(3, 3))\r\n",
    "icon = requests.get(f\"http://openweathermap.org/img/wn/{current['weather'][0]['icon']}@2x.png\")\r\n",
    "im = Image.open(BytesIO(icon.content))\r\n",
    "plt.imshow(im)\r\n",
    "ax.set_axis_off()\r\n",
    "plt.show()\r\n",
    "\r\n",
    "print(f\"Today, sun rises at {ts2dt(current['sunrise'], '%H:%M')[0]} \\\r\n",
    "and sets at {ts2dt(current['sunset'], '%H:%M')[0]}.\\n\\\r\n",
    "Currently, the weather is {current['weather'][0]['main']} ({current['weather'][0]['description']}).\\n\\\r\n",
    "The temperature is {current['temp']}°C and it feels like {current['feels_like']}°C.\\n\\\r\n",
    "The UV index is {current['uvi']}, humidity is {current['humidity']}%.\\n\\\r\n",
    "The pressure is {current['pressure']} hPa, percentage of cloud cover is {current['clouds']}%\\n\\\r\n",
    "The wind comes from {degrees_to_cardinal(current['wind_deg'])} direction with a speed {current['wind_speed']} m/s.\")"
   ]
  },
  {
   "cell_type": "code",
   "execution_count": 8,
   "metadata": {
    "execution": {
     "iopub.execute_input": "2021-10-22T05:10:40.456496Z",
     "iopub.status.busy": "2021-10-22T05:10:40.455570Z",
     "iopub.status.idle": "2021-10-22T05:10:40.462319Z",
     "shell.execute_reply": "2021-10-22T05:10:40.462960Z"
    }
   },
   "outputs": [],
   "source": [
    "df_hourly = pd.DataFrame(data['hourly'])\r\n",
    "df_daily = pd.DataFrame(data['daily'])"
   ]
  },
  {
   "cell_type": "code",
   "execution_count": 9,
   "metadata": {
    "execution": {
     "iopub.execute_input": "2021-10-22T05:10:40.465961Z",
     "iopub.status.busy": "2021-10-22T05:10:40.465029Z",
     "iopub.status.idle": "2021-10-22T05:10:40.714555Z",
     "shell.execute_reply": "2021-10-22T05:10:40.713743Z"
    }
   },
   "outputs": [
    {
     "data": {
      "image/png": "[encoded data removed]",
      "text/plain": [
       "<Figure size 864x432 with 1 Axes>"
      ]
     },
     "metadata": {
      "needs_background": "light"
     },
     "output_type": "display_data"
    }
   ],
   "source": [
    "fig, ax = plt.subplots(figsize=(12, 6))\r\n",
    "plt.plot(df_hourly.temp, '.-', label='Temperature')\r\n",
    "plt.plot(df_hourly.feels_like, '.-', label='Feels Like')\r\n",
    "ax.set(title='Temperature in future 48 hours', xlabel='Time', ylabel='Temperature')\r\n",
    "ax.set_xticks(list(range(0, len(df_hourly), 2)))\r\n",
    "ax.set_xticklabels([ts2dt(ts, '%m-%d %H:%M')[0] for i, ts in enumerate(df_hourly.dt) if i%2==0], \r\n",
    "                   rotation=45, ha=\"right\")\r\n",
    "ax.locator_params(nbins=15, axis='y')\r\n",
    "plt.legend()\r\n",
    "plt.show()"
   ]
  },
  {
   "cell_type": "code",
   "execution_count": 10,
   "metadata": {
    "execution": {
     "iopub.execute_input": "2021-10-22T05:10:40.718795Z",
     "iopub.status.busy": "2021-10-22T05:10:40.716826Z",
     "iopub.status.idle": "2021-10-22T05:10:40.735782Z",
     "shell.execute_reply": "2021-10-22T05:10:40.735389Z"
    }
   },
   "outputs": [
    {
     "data": {
      "text/html": [
       "<div>\n",
       "<style scoped>\n",
       "    .dataframe tbody tr th:only-of-type {\n",
       "        vertical-align: middle;\n",
       "    }\n",
       "\n",
       "    .dataframe tbody tr th {\n",
       "        vertical-align: top;\n",
       "    }\n",
       "\n",
       "    .dataframe thead th {\n",
       "        text-align: right;\n",
       "    }\n",
       "</style>\n",
       "<table border=\"1\" class=\"dataframe\">\n",
       "  <thead>\n",
       "    <tr style=\"text-align: right;\">\n",
       "      <th></th>\n",
       "      <th>dt</th>\n",
       "      <th>temp</th>\n",
       "      <th>feels_like</th>\n",
       "      <th>pressure</th>\n",
       "      <th>humidity</th>\n",
       "      <th>dew_point</th>\n",
       "      <th>uvi</th>\n",
       "      <th>clouds</th>\n",
       "      <th>visibility</th>\n",
       "      <th>wind_speed</th>\n",
       "      <th>wind_deg</th>\n",
       "      <th>wind_gust</th>\n",
       "      <th>weather</th>\n",
       "      <th>pop</th>\n",
       "    </tr>\n",
       "  </thead>\n",
       "  <tbody>\n",
       "    <tr>\n",
       "      <th>0</th>\n",
       "      <td>1634878800</td>\n",
       "      <td>20.04</td>\n",
       "      <td>20.06</td>\n",
       "      <td>1018</td>\n",
       "      <td>75</td>\n",
       "      <td>15.48</td>\n",
       "      <td>1.79</td>\n",
       "      <td>100</td>\n",
       "      <td>10000</td>\n",
       "      <td>3.73</td>\n",
       "      <td>1</td>\n",
       "      <td>4.48</td>\n",
       "      <td>[{'id': 804, 'main': 'Clouds', 'description': ...</td>\n",
       "      <td>0.0</td>\n",
       "    </tr>\n",
       "    <tr>\n",
       "      <th>1</th>\n",
       "      <td>1634882400</td>\n",
       "      <td>19.82</td>\n",
       "      <td>19.76</td>\n",
       "      <td>1018</td>\n",
       "      <td>73</td>\n",
       "      <td>14.84</td>\n",
       "      <td>1.44</td>\n",
       "      <td>100</td>\n",
       "      <td>10000</td>\n",
       "      <td>3.93</td>\n",
       "      <td>6</td>\n",
       "      <td>4.98</td>\n",
       "      <td>[{'id': 804, 'main': 'Clouds', 'description': ...</td>\n",
       "      <td>0.0</td>\n",
       "    </tr>\n",
       "    <tr>\n",
       "      <th>2</th>\n",
       "      <td>1634886000</td>\n",
       "      <td>19.61</td>\n",
       "      <td>19.51</td>\n",
       "      <td>1018</td>\n",
       "      <td>72</td>\n",
       "      <td>14.43</td>\n",
       "      <td>0.98</td>\n",
       "      <td>100</td>\n",
       "      <td>10000</td>\n",
       "      <td>4.18</td>\n",
       "      <td>11</td>\n",
       "      <td>5.55</td>\n",
       "      <td>[{'id': 804, 'main': 'Clouds', 'description': ...</td>\n",
       "      <td>0.0</td>\n",
       "    </tr>\n",
       "    <tr>\n",
       "      <th>3</th>\n",
       "      <td>1634889600</td>\n",
       "      <td>19.22</td>\n",
       "      <td>19.05</td>\n",
       "      <td>1018</td>\n",
       "      <td>71</td>\n",
       "      <td>13.84</td>\n",
       "      <td>0.45</td>\n",
       "      <td>100</td>\n",
       "      <td>10000</td>\n",
       "      <td>4.47</td>\n",
       "      <td>14</td>\n",
       "      <td>6.48</td>\n",
       "      <td>[{'id': 804, 'main': 'Clouds', 'description': ...</td>\n",
       "      <td>0.0</td>\n",
       "    </tr>\n",
       "    <tr>\n",
       "      <th>4</th>\n",
       "      <td>1634893200</td>\n",
       "      <td>18.68</td>\n",
       "      <td>18.46</td>\n",
       "      <td>1019</td>\n",
       "      <td>71</td>\n",
       "      <td>13.32</td>\n",
       "      <td>0.12</td>\n",
       "      <td>100</td>\n",
       "      <td>10000</td>\n",
       "      <td>4.59</td>\n",
       "      <td>15</td>\n",
       "      <td>6.79</td>\n",
       "      <td>[{'id': 804, 'main': 'Clouds', 'description': ...</td>\n",
       "      <td>0.0</td>\n",
       "    </tr>\n",
       "  </tbody>\n",
       "</table>\n",
       "</div>"
      ],
      "text/plain": [
       "           dt   temp  feels_like  pressure  humidity  dew_point   uvi  clouds  \\\n",
       "0  1634878800  20.04       20.06      1018        75      15.48  1.79     100   \n",
       "1  1634882400  19.82       19.76      1018        73      14.84  1.44     100   \n",
       "2  1634886000  19.61       19.51      1018        72      14.43  0.98     100   \n",
       "3  1634889600  19.22       19.05      1018        71      13.84  0.45     100   \n",
       "4  1634893200  18.68       18.46      1019        71      13.32  0.12     100   \n",
       "\n",
       "   visibility  wind_speed  wind_deg  wind_gust  \\\n",
       "0       10000        3.73         1       4.48   \n",
       "1       10000        3.93         6       4.98   \n",
       "2       10000        4.18        11       5.55   \n",
       "3       10000        4.47        14       6.48   \n",
       "4       10000        4.59        15       6.79   \n",
       "\n",
       "                                             weather  pop  \n",
       "0  [{'id': 804, 'main': 'Clouds', 'description': ...  0.0  \n",
       "1  [{'id': 804, 'main': 'Clouds', 'description': ...  0.0  \n",
       "2  [{'id': 804, 'main': 'Clouds', 'description': ...  0.0  \n",
       "3  [{'id': 804, 'main': 'Clouds', 'description': ...  0.0  \n",
       "4  [{'id': 804, 'main': 'Clouds', 'description': ...  0.0  "
      ]
     },
     "execution_count": 10,
     "metadata": {},
     "output_type": "execute_result"
    }
   ],
   "source": [
    "df_hourly.head()"
   ]
  },
  {
   "cell_type": "code",
   "execution_count": null,
   "metadata": {},
   "outputs": [],
   "source": []
  }
 ],
 "metadata": {
  "interpreter": {
   "hash": "c1b4cfe941b6d2466ad1fb5979e97da9cda8801728c8091b097ab734208fc00c"
  },
  "kernelspec": {
   "display_name": "Python 3.8.3 64-bit ('base': conda)",
   "name": "python3"
  },
  "language_info": {
   "codemirror_mode": {
    "name": "ipython",
    "version": 3
   },
   "file_extension": ".py",
   "mimetype": "text/x-python",
   "name": "python",
   "nbconvert_exporter": "python",
   "pygments_lexer": "ipython3",
   "version": "3.8.12"
  }
 },
 "nbformat": 4,
 "nbformat_minor": 2
}
