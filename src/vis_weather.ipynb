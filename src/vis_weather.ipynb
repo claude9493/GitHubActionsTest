{
 "cells": [
  {
   "cell_type": "code",
   "execution_count": 1,
   "metadata": {
    "execution": {
     "iopub.execute_input": "2021-10-07T05:10:36.492199Z",
     "iopub.status.busy": "2021-10-07T05:10:36.491638Z",
     "iopub.status.idle": "2021-10-07T05:10:38.664007Z",
     "shell.execute_reply": "2021-10-07T05:10:38.663443Z"
    }
   },
   "outputs": [],
   "source": [
    "import json, yaml, requests\r\n",
    "from datetime import datetime\r\n",
    "from dateutil import tz\r\n",
    "import pandas as pd\r\n",
    "from PIL import Image\r\n",
    "from io import BytesIO\r\n",
    "import matplotlib.pyplot as plt\r\n",
    "import seaborn\r\n",
    "\r\n",
    "CONFIG_PATH = \"../config/config.yaml\""
   ]
  },
  {
   "cell_type": "code",
   "execution_count": 2,
   "metadata": {
    "execution": {
     "iopub.execute_input": "2021-10-07T05:10:38.668582Z",
     "iopub.status.busy": "2021-10-07T05:10:38.668082Z",
     "iopub.status.idle": "2021-10-07T05:10:38.673461Z",
     "shell.execute_reply": "2021-10-07T05:10:38.673059Z"
    }
   },
   "outputs": [],
   "source": [
    "with open('../newest_ts', 'r') as f:\r\n",
    "    newest_ts = f.read()\r\n",
    "\r\n",
    "data_path = f\"../data/data_{newest_ts}.json\"\r\n",
    "with open(data_path, 'r') as f:\r\n",
    "    data = json.load(f)\r\n",
    "\r\n",
    "with open(CONFIG_PATH, \"r\") as stream:\r\n",
    "    config = yaml.safe_load(stream)\r\n",
    "\r\n",
    "TIME_ZONE = config['time_zone']\r\n",
    "DATETIME_FORMAT = config['dt_format']"
   ]
  },
  {
   "cell_type": "code",
   "execution_count": 3,
   "metadata": {
    "execution": {
     "iopub.execute_input": "2021-10-07T05:10:38.677594Z",
     "iopub.status.busy": "2021-10-07T05:10:38.677107Z",
     "iopub.status.idle": "2021-10-07T05:10:38.682223Z",
     "shell.execute_reply": "2021-10-07T05:10:38.682593Z"
    }
   },
   "outputs": [
    {
     "name": "stdout",
     "output_type": "stream",
     "text": [
      "Recent query happens at 2021-10-07 13:10:33 (CST).\n"
     ]
    }
   ],
   "source": [
    "def ts2dt(ts, format=DATETIME_FORMAT):\r\n",
    "    dt = (datetime.utcfromtimestamp(int(ts))\r\n",
    "                    .replace(tzinfo=tz.tzutc())\r\n",
    "                    # .astimezone(tz.tzlocal())\r\n",
    "                    .astimezone(tz.gettz(TIME_ZONE)))\r\n",
    "    return dt.strftime(format), dt\r\n",
    "\r\n",
    "_, newest_dt = ts2dt(newest_ts)\r\n",
    "print(f\"Recent query happens at {newest_dt.strftime(DATETIME_FORMAT)} ({newest_dt.tzname()}).\")"
   ]
  },
  {
   "cell_type": "code",
   "execution_count": 4,
   "metadata": {
    "execution": {
     "iopub.execute_input": "2021-10-07T05:10:38.686980Z",
     "iopub.status.busy": "2021-10-07T05:10:38.686315Z",
     "iopub.status.idle": "2021-10-07T05:10:38.688226Z",
     "shell.execute_reply": "2021-10-07T05:10:38.688597Z"
    }
   },
   "outputs": [],
   "source": [
    "def degrees_to_cardinal(d):\r\n",
    "  dirs = ['N', 'NNE', 'NE', 'ENE', 'E', 'ESE', 'SE', 'SSE', 'S', 'SSW', 'SW', 'WSW', 'W', 'WNW', 'NW', 'NNW']\r\n",
    "  ix = int(round(d / (360. / len(dirs))))\r\n",
    "  return dirs[ix % len(dirs)]"
   ]
  },
  {
   "cell_type": "code",
   "execution_count": 5,
   "metadata": {
    "execution": {
     "iopub.execute_input": "2021-10-07T05:10:38.692423Z",
     "iopub.status.busy": "2021-10-07T05:10:38.691359Z",
     "iopub.status.idle": "2021-10-07T05:10:38.692959Z",
     "shell.execute_reply": "2021-10-07T05:10:38.693322Z"
    }
   },
   "outputs": [],
   "source": [
    "# data.keys()"
   ]
  },
  {
   "cell_type": "code",
   "execution_count": 6,
   "metadata": {
    "execution": {
     "iopub.execute_input": "2021-10-07T05:10:38.697019Z",
     "iopub.status.busy": "2021-10-07T05:10:38.696022Z",
     "iopub.status.idle": "2021-10-07T05:10:38.697544Z",
     "shell.execute_reply": "2021-10-07T05:10:38.697906Z"
    }
   },
   "outputs": [],
   "source": [
    "# data['current']"
   ]
  },
  {
   "cell_type": "code",
   "execution_count": 7,
   "metadata": {
    "execution": {
     "iopub.execute_input": "2021-10-07T05:10:38.714258Z",
     "iopub.status.busy": "2021-10-07T05:10:38.713794Z",
     "iopub.status.idle": "2021-10-07T05:10:39.228904Z",
     "shell.execute_reply": "2021-10-07T05:10:39.229646Z"
    }
   },
   "outputs": [
    {
     "data": {
      "image/png": "[encoded data removed]",
      "text/plain": [
       "<Figure size 216x216 with 1 Axes>"
      ]
     },
     "metadata": {
      "needs_background": "light"
     },
     "output_type": "display_data"
    },
    {
     "name": "stdout",
     "output_type": "stream",
     "text": [
      "Today, sun rises at 06:16 and sets at 18:05.\n",
      "Currently, the weather is Rain (moderate rain).\n",
      "The temperature is 31.54°C and it feels like 37.48°C.\n",
      "The UV index is 8.83, humidity is 65%.\n",
      "The pressure is 1004 hPa, percentage of cloud cover is 13%\n",
      "The wind comes from SW direction with a speed 0.89 m/s.\n"
     ]
    }
   ],
   "source": [
    "current = data['current']\r\n",
    "\r\n",
    "fig, ax = plt.subplots(figsize=(3, 3))\r\n",
    "icon = requests.get(f\"http://openweathermap.org/img/wn/{current['weather'][0]['icon']}@2x.png\")\r\n",
    "im = Image.open(BytesIO(icon.content))\r\n",
    "plt.imshow(im)\r\n",
    "ax.set_axis_off()\r\n",
    "plt.show()\r\n",
    "\r\n",
    "print(f\"Today, sun rises at {ts2dt(current['sunrise'], '%H:%M')[0]} \\\r\n",
    "and sets at {ts2dt(current['sunset'], '%H:%M')[0]}.\\n\\\r\n",
    "Currently, the weather is {current['weather'][0]['main']} ({current['weather'][0]['description']}).\\n\\\r\n",
    "The temperature is {current['temp']}°C and it feels like {current['feels_like']}°C.\\n\\\r\n",
    "The UV index is {current['uvi']}, humidity is {current['humidity']}%.\\n\\\r\n",
    "The pressure is {current['pressure']} hPa, percentage of cloud cover is {current['clouds']}%\\n\\\r\n",
    "The wind comes from {degrees_to_cardinal(current['wind_deg'])} direction with a speed {current['wind_speed']} m/s.\")"
   ]
  },
  {
   "cell_type": "code",
   "execution_count": 8,
   "metadata": {
    "execution": {
     "iopub.execute_input": "2021-10-07T05:10:39.232643Z",
     "iopub.status.busy": "2021-10-07T05:10:39.232168Z",
     "iopub.status.idle": "2021-10-07T05:10:39.238507Z",
     "shell.execute_reply": "2021-10-07T05:10:39.239197Z"
    }
   },
   "outputs": [],
   "source": [
    "df_hourly = pd.DataFrame(data['hourly'])\r\n",
    "df_daily = pd.DataFrame(data['daily'])"
   ]
  },
  {
   "cell_type": "code",
   "execution_count": 9,
   "metadata": {
    "execution": {
     "iopub.execute_input": "2021-10-07T05:10:39.242330Z",
     "iopub.status.busy": "2021-10-07T05:10:39.241386Z",
     "iopub.status.idle": "2021-10-07T05:10:39.490347Z",
     "shell.execute_reply": "2021-10-07T05:10:39.489943Z"
    }
   },
   "outputs": [
    {
     "data": {
      "image/png": "[encoded data removed]",
      "text/plain": [
       "<Figure size 864x432 with 1 Axes>"
      ]
     },
     "metadata": {
      "needs_background": "light"
     },
     "output_type": "display_data"
    }
   ],
   "source": [
    "fig, ax = plt.subplots(figsize=(12, 6))\r\n",
    "plt.plot(df_hourly.temp, '.-', label='Temperature')\r\n",
    "plt.plot(df_hourly.feels_like, '.-', label='Feels Like')\r\n",
    "ax.set(title='Temperature in future 48 hours', xlabel='Time', ylabel='Temperature')\r\n",
    "ax.set_xticks(list(range(0, len(df_hourly), 2)))\r\n",
    "ax.set_xticklabels([ts2dt(ts, '%m-%d %H:%M')[0] for i, ts in enumerate(df_hourly.dt) if i%2==0], \r\n",
    "                   rotation=45, ha=\"right\")\r\n",
    "ax.locator_params(nbins=15, axis='y')\r\n",
    "plt.legend()\r\n",
    "plt.show()"
   ]
  },
  {
   "cell_type": "code",
   "execution_count": 10,
   "metadata": {
    "execution": {
     "iopub.execute_input": "2021-10-07T05:10:39.501240Z",
     "iopub.status.busy": "2021-10-07T05:10:39.494082Z",
     "iopub.status.idle": "2021-10-07T05:10:39.512641Z",
     "shell.execute_reply": "2021-10-07T05:10:39.512199Z"
    }
   },
   "outputs": [
    {
     "data": {
      "text/html": [
       "<div>\n",
       "<style scoped>\n",
       "    .dataframe tbody tr th:only-of-type {\n",
       "        vertical-align: middle;\n",
       "    }\n",
       "\n",
       "    .dataframe tbody tr th {\n",
       "        vertical-align: top;\n",
       "    }\n",
       "\n",
       "    .dataframe thead th {\n",
       "        text-align: right;\n",
       "    }\n",
       "</style>\n",
       "<table border=\"1\" class=\"dataframe\">\n",
       "  <thead>\n",
       "    <tr style=\"text-align: right;\">\n",
       "      <th></th>\n",
       "      <th>dt</th>\n",
       "      <th>temp</th>\n",
       "      <th>feels_like</th>\n",
       "      <th>pressure</th>\n",
       "      <th>humidity</th>\n",
       "      <th>dew_point</th>\n",
       "      <th>uvi</th>\n",
       "      <th>clouds</th>\n",
       "      <th>visibility</th>\n",
       "      <th>wind_speed</th>\n",
       "      <th>wind_deg</th>\n",
       "      <th>wind_gust</th>\n",
       "      <th>weather</th>\n",
       "      <th>pop</th>\n",
       "      <th>rain</th>\n",
       "    </tr>\n",
       "  </thead>\n",
       "  <tbody>\n",
       "    <tr>\n",
       "      <th>0</th>\n",
       "      <td>1633582800</td>\n",
       "      <td>31.54</td>\n",
       "      <td>37.48</td>\n",
       "      <td>1004</td>\n",
       "      <td>65</td>\n",
       "      <td>24.16</td>\n",
       "      <td>8.83</td>\n",
       "      <td>13</td>\n",
       "      <td>10000</td>\n",
       "      <td>10.27</td>\n",
       "      <td>78</td>\n",
       "      <td>13.64</td>\n",
       "      <td>[{'id': 500, 'main': 'Rain', 'description': 'l...</td>\n",
       "      <td>0.38</td>\n",
       "      <td>{'1h': 0.12}</td>\n",
       "    </tr>\n",
       "    <tr>\n",
       "      <th>1</th>\n",
       "      <td>1633586400</td>\n",
       "      <td>31.14</td>\n",
       "      <td>36.78</td>\n",
       "      <td>1004</td>\n",
       "      <td>66</td>\n",
       "      <td>24.03</td>\n",
       "      <td>7.16</td>\n",
       "      <td>13</td>\n",
       "      <td>10000</td>\n",
       "      <td>10.87</td>\n",
       "      <td>84</td>\n",
       "      <td>14.23</td>\n",
       "      <td>[{'id': 801, 'main': 'Clouds', 'description': ...</td>\n",
       "      <td>0.42</td>\n",
       "      <td>NaN</td>\n",
       "    </tr>\n",
       "    <tr>\n",
       "      <th>2</th>\n",
       "      <td>1633590000</td>\n",
       "      <td>30.48</td>\n",
       "      <td>35.97</td>\n",
       "      <td>1004</td>\n",
       "      <td>69</td>\n",
       "      <td>24.15</td>\n",
       "      <td>4.37</td>\n",
       "      <td>41</td>\n",
       "      <td>10000</td>\n",
       "      <td>11.20</td>\n",
       "      <td>85</td>\n",
       "      <td>14.83</td>\n",
       "      <td>[{'id': 802, 'main': 'Clouds', 'description': ...</td>\n",
       "      <td>0.66</td>\n",
       "      <td>NaN</td>\n",
       "    </tr>\n",
       "    <tr>\n",
       "      <th>3</th>\n",
       "      <td>1633593600</td>\n",
       "      <td>29.46</td>\n",
       "      <td>34.41</td>\n",
       "      <td>1004</td>\n",
       "      <td>73</td>\n",
       "      <td>24.11</td>\n",
       "      <td>2.08</td>\n",
       "      <td>59</td>\n",
       "      <td>10000</td>\n",
       "      <td>11.28</td>\n",
       "      <td>85</td>\n",
       "      <td>15.14</td>\n",
       "      <td>[{'id': 500, 'main': 'Rain', 'description': 'l...</td>\n",
       "      <td>0.70</td>\n",
       "      <td>{'1h': 0.78}</td>\n",
       "    </tr>\n",
       "    <tr>\n",
       "      <th>4</th>\n",
       "      <td>1633597200</td>\n",
       "      <td>28.37</td>\n",
       "      <td>32.52</td>\n",
       "      <td>1004</td>\n",
       "      <td>77</td>\n",
       "      <td>23.95</td>\n",
       "      <td>0.63</td>\n",
       "      <td>77</td>\n",
       "      <td>10000</td>\n",
       "      <td>10.93</td>\n",
       "      <td>86</td>\n",
       "      <td>14.94</td>\n",
       "      <td>[{'id': 501, 'main': 'Rain', 'description': 'm...</td>\n",
       "      <td>0.74</td>\n",
       "      <td>{'1h': 1.23}</td>\n",
       "    </tr>\n",
       "  </tbody>\n",
       "</table>\n",
       "</div>"
      ],
      "text/plain": [
       "           dt   temp  feels_like  pressure  humidity  dew_point   uvi  clouds  \\\n",
       "0  1633582800  31.54       37.48      1004        65      24.16  8.83      13   \n",
       "1  1633586400  31.14       36.78      1004        66      24.03  7.16      13   \n",
       "2  1633590000  30.48       35.97      1004        69      24.15  4.37      41   \n",
       "3  1633593600  29.46       34.41      1004        73      24.11  2.08      59   \n",
       "4  1633597200  28.37       32.52      1004        77      23.95  0.63      77   \n",
       "\n",
       "   visibility  wind_speed  wind_deg  wind_gust  \\\n",
       "0       10000       10.27        78      13.64   \n",
       "1       10000       10.87        84      14.23   \n",
       "2       10000       11.20        85      14.83   \n",
       "3       10000       11.28        85      15.14   \n",
       "4       10000       10.93        86      14.94   \n",
       "\n",
       "                                             weather   pop          rain  \n",
       "0  [{'id': 500, 'main': 'Rain', 'description': 'l...  0.38  {'1h': 0.12}  \n",
       "1  [{'id': 801, 'main': 'Clouds', 'description': ...  0.42           NaN  \n",
       "2  [{'id': 802, 'main': 'Clouds', 'description': ...  0.66           NaN  \n",
       "3  [{'id': 500, 'main': 'Rain', 'description': 'l...  0.70  {'1h': 0.78}  \n",
       "4  [{'id': 501, 'main': 'Rain', 'description': 'm...  0.74  {'1h': 1.23}  "
      ]
     },
     "execution_count": 10,
     "metadata": {},
     "output_type": "execute_result"
    }
   ],
   "source": [
    "df_hourly.head()"
   ]
  },
  {
   "cell_type": "code",
   "execution_count": null,
   "metadata": {},
   "outputs": [],
   "source": []
  }
 ],
 "metadata": {
  "interpreter": {
   "hash": "c1b4cfe941b6d2466ad1fb5979e97da9cda8801728c8091b097ab734208fc00c"
  },
  "kernelspec": {
   "display_name": "Python 3.8.3 64-bit ('base': conda)",
   "name": "python3"
  },
  "language_info": {
   "codemirror_mode": {
    "name": "ipython",
    "version": 3
   },
   "file_extension": ".py",
   "mimetype": "text/x-python",
   "name": "python",
   "nbconvert_exporter": "python",
   "pygments_lexer": "ipython3",
   "version": "3.8.12"
  }
 },
 "nbformat": 4,
 "nbformat_minor": 2
}
