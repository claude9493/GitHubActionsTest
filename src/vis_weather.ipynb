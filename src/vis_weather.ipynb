{
 "cells": [
  {
   "cell_type": "code",
   "execution_count": 1,
   "metadata": {
    "execution": {
     "iopub.execute_input": "2021-08-23T05:36:33.174078Z",
     "iopub.status.busy": "2021-08-23T05:36:33.173413Z",
     "iopub.status.idle": "2021-08-23T05:36:34.768964Z",
     "shell.execute_reply": "2021-08-23T05:36:34.769456Z"
    }
   },
   "outputs": [],
   "source": [
    "import json, yaml, requests\r\n",
    "from datetime import datetime\r\n",
    "from dateutil import tz\r\n",
    "import pandas as pd\r\n",
    "from PIL import Image\r\n",
    "from io import BytesIO\r\n",
    "import matplotlib.pyplot as plt\r\n",
    "import seaborn\r\n",
    "\r\n",
    "CONFIG_PATH = \"../config/config.yaml\""
   ]
  },
  {
   "cell_type": "code",
   "execution_count": 2,
   "metadata": {
    "execution": {
     "iopub.execute_input": "2021-08-23T05:36:34.776577Z",
     "iopub.status.busy": "2021-08-23T05:36:34.775049Z",
     "iopub.status.idle": "2021-08-23T05:36:34.782196Z",
     "shell.execute_reply": "2021-08-23T05:36:34.781077Z"
    }
   },
   "outputs": [],
   "source": [
    "with open('../newest_ts', 'r') as f:\r\n",
    "    newest_ts = f.read()\r\n",
    "\r\n",
    "data_path = f\"../data/data_{newest_ts}.json\"\r\n",
    "with open(data_path, 'r') as f:\r\n",
    "    data = json.load(f)\r\n",
    "\r\n",
    "with open(CONFIG_PATH, \"r\") as stream:\r\n",
    "    config = yaml.safe_load(stream)\r\n",
    "\r\n",
    "TIME_ZONE = config['time_zone']\r\n",
    "DATETIME_FORMAT = config['dt_format']"
   ]
  },
  {
   "cell_type": "code",
   "execution_count": 3,
   "metadata": {
    "execution": {
     "iopub.execute_input": "2021-08-23T05:36:34.789999Z",
     "iopub.status.busy": "2021-08-23T05:36:34.787809Z",
     "iopub.status.idle": "2021-08-23T05:36:34.795434Z",
     "shell.execute_reply": "2021-08-23T05:36:34.794264Z"
    }
   },
   "outputs": [
    {
     "name": "stdout",
     "output_type": "stream",
     "text": [
      "Recent query happens at 2021-08-23 13:36:30 (CST).\n"
     ]
    }
   ],
   "source": [
    "def ts2dt(ts, format=DATETIME_FORMAT):\r\n",
    "    dt = (datetime.utcfromtimestamp(int(ts))\r\n",
    "                    .replace(tzinfo=tz.tzutc())\r\n",
    "                    # .astimezone(tz.tzlocal())\r\n",
    "                    .astimezone(tz.gettz(TIME_ZONE)))\r\n",
    "    return dt.strftime(format), dt\r\n",
    "\r\n",
    "_, newest_dt = ts2dt(newest_ts)\r\n",
    "print(f\"Recent query happens at {newest_dt.strftime(DATETIME_FORMAT)} ({newest_dt.tzname()}).\")"
   ]
  },
  {
   "cell_type": "code",
   "execution_count": 4,
   "metadata": {
    "execution": {
     "iopub.execute_input": "2021-08-23T05:36:34.801070Z",
     "iopub.status.busy": "2021-08-23T05:36:34.800414Z",
     "iopub.status.idle": "2021-08-23T05:36:34.805007Z",
     "shell.execute_reply": "2021-08-23T05:36:34.804078Z"
    }
   },
   "outputs": [],
   "source": [
    "def degrees_to_cardinal(d):\r\n",
    "  dirs = ['N', 'NNE', 'NE', 'ENE', 'E', 'ESE', 'SE', 'SSE', 'S', 'SSW', 'SW', 'WSW', 'W', 'WNW', 'NW', 'NNW']\r\n",
    "  ix = int(round(d / (360. / len(dirs))))\r\n",
    "  return dirs[ix % len(dirs)]"
   ]
  },
  {
   "cell_type": "code",
   "execution_count": 5,
   "metadata": {
    "execution": {
     "iopub.execute_input": "2021-08-23T05:36:34.810654Z",
     "iopub.status.busy": "2021-08-23T05:36:34.808972Z",
     "iopub.status.idle": "2021-08-23T05:36:34.811314Z",
     "shell.execute_reply": "2021-08-23T05:36:34.811856Z"
    }
   },
   "outputs": [],
   "source": [
    "# data.keys()"
   ]
  },
  {
   "cell_type": "code",
   "execution_count": 6,
   "metadata": {
    "execution": {
     "iopub.execute_input": "2021-08-23T05:36:34.815787Z",
     "iopub.status.busy": "2021-08-23T05:36:34.815150Z",
     "iopub.status.idle": "2021-08-23T05:36:34.817536Z",
     "shell.execute_reply": "2021-08-23T05:36:34.818020Z"
    }
   },
   "outputs": [],
   "source": [
    "# data['current']"
   ]
  },
  {
   "cell_type": "code",
   "execution_count": 7,
   "metadata": {
    "execution": {
     "iopub.execute_input": "2021-08-23T05:36:34.830109Z",
     "iopub.status.busy": "2021-08-23T05:36:34.829407Z",
     "iopub.status.idle": "2021-08-23T05:36:35.467090Z",
     "shell.execute_reply": "2021-08-23T05:36:35.467909Z"
    }
   },
   "outputs": [
    {
     "data": {
      "image/png": "[encoded data removed]",
      "text/plain": [
       "<Figure size 216x216 with 1 Axes>"
      ]
     },
     "metadata": {
      "needs_background": "light"
     },
     "output_type": "display_data"
    },
    {
     "name": "stdout",
     "output_type": "stream",
     "text": [
      "Today, sun rises at 06:03 and sets at 18:48.\n",
      "Currently, the weather is Clouds (broken clouds).\n",
      "The temperature is 33.26°C and it feels like 40.26°C.\n",
      "The UV index is 9.88, humidity is 68%.\n",
      "The pressure is 1007 hPa, percentage of cloud cover is 51%\n",
      "The wind comes from SSW direction with a speed 4.33 m/s.\n"
     ]
    }
   ],
   "source": [
    "current = data['current']\r\n",
    "\r\n",
    "fig, ax = plt.subplots(figsize=(3, 3))\r\n",
    "icon = requests.get(f\"http://openweathermap.org/img/wn/{current['weather'][0]['icon']}@2x.png\")\r\n",
    "im = Image.open(BytesIO(icon.content))\r\n",
    "plt.imshow(im)\r\n",
    "ax.set_axis_off()\r\n",
    "plt.show()\r\n",
    "\r\n",
    "print(f\"Today, sun rises at {ts2dt(current['sunrise'], '%H:%M')[0]} \\\r\n",
    "and sets at {ts2dt(current['sunset'], '%H:%M')[0]}.\\n\\\r\n",
    "Currently, the weather is {current['weather'][0]['main']} ({current['weather'][0]['description']}).\\n\\\r\n",
    "The temperature is {current['temp']}°C and it feels like {current['feels_like']}°C.\\n\\\r\n",
    "The UV index is {current['uvi']}, humidity is {current['humidity']}%.\\n\\\r\n",
    "The pressure is {current['pressure']} hPa, percentage of cloud cover is {current['clouds']}%\\n\\\r\n",
    "The wind comes from {degrees_to_cardinal(current['wind_deg'])} direction with a speed {current['wind_speed']} m/s.\")"
   ]
  },
  {
   "cell_type": "code",
   "execution_count": 8,
   "metadata": {
    "execution": {
     "iopub.execute_input": "2021-08-23T05:36:35.471912Z",
     "iopub.status.busy": "2021-08-23T05:36:35.470594Z",
     "iopub.status.idle": "2021-08-23T05:36:35.479411Z",
     "shell.execute_reply": "2021-08-23T05:36:35.480215Z"
    }
   },
   "outputs": [],
   "source": [
    "df_hourly = pd.DataFrame(data['hourly'])\r\n",
    "df_daily = pd.DataFrame(data['daily'])"
   ]
  },
  {
   "cell_type": "code",
   "execution_count": 9,
   "metadata": {
    "execution": {
     "iopub.execute_input": "2021-08-23T05:36:35.484690Z",
     "iopub.status.busy": "2021-08-23T05:36:35.483111Z",
     "iopub.status.idle": "2021-08-23T05:36:35.864972Z",
     "shell.execute_reply": "2021-08-23T05:36:35.865545Z"
    }
   },
   "outputs": [
    {
     "data": {
      "image/png": "[encoded data removed]",
      "text/plain": [
       "<Figure size 864x432 with 1 Axes>"
      ]
     },
     "metadata": {
      "needs_background": "light"
     },
     "output_type": "display_data"
    }
   ],
   "source": [
    "fig, ax = plt.subplots(figsize=(12, 6))\r\n",
    "plt.plot(df_hourly.temp, '.-', label='Temperature')\r\n",
    "plt.plot(df_hourly.feels_like, '.-', label='Feels Like')\r\n",
    "ax.set(title='Temperature in future 48 hours', xlabel='Time', ylabel='Temperature')\r\n",
    "ax.set_xticks(list(range(0, len(df_hourly), 2)))\r\n",
    "ax.set_xticklabels([ts2dt(ts, '%m-%d %H:%M')[0] for i, ts in enumerate(df_hourly.dt) if i%2==0], \r\n",
    "                   rotation=45, ha=\"right\")\r\n",
    "ax.locator_params(nbins=15, axis='y')\r\n",
    "plt.legend()\r\n",
    "plt.show()"
   ]
  },
  {
   "cell_type": "code",
   "execution_count": 10,
   "metadata": {
    "execution": {
     "iopub.execute_input": "2021-08-23T05:36:35.889948Z",
     "iopub.status.busy": "2021-08-23T05:36:35.880388Z",
     "iopub.status.idle": "2021-08-23T05:36:35.895816Z",
     "shell.execute_reply": "2021-08-23T05:36:35.895302Z"
    }
   },
   "outputs": [
    {
     "data": {
      "text/html": [
       "<div>\n",
       "<style scoped>\n",
       "    .dataframe tbody tr th:only-of-type {\n",
       "        vertical-align: middle;\n",
       "    }\n",
       "\n",
       "    .dataframe tbody tr th {\n",
       "        vertical-align: top;\n",
       "    }\n",
       "\n",
       "    .dataframe thead th {\n",
       "        text-align: right;\n",
       "    }\n",
       "</style>\n",
       "<table border=\"1\" class=\"dataframe\">\n",
       "  <thead>\n",
       "    <tr style=\"text-align: right;\">\n",
       "      <th></th>\n",
       "      <th>dt</th>\n",
       "      <th>temp</th>\n",
       "      <th>feels_like</th>\n",
       "      <th>pressure</th>\n",
       "      <th>humidity</th>\n",
       "      <th>dew_point</th>\n",
       "      <th>uvi</th>\n",
       "      <th>clouds</th>\n",
       "      <th>visibility</th>\n",
       "      <th>wind_speed</th>\n",
       "      <th>wind_deg</th>\n",
       "      <th>wind_gust</th>\n",
       "      <th>weather</th>\n",
       "      <th>pop</th>\n",
       "      <th>rain</th>\n",
       "    </tr>\n",
       "  </thead>\n",
       "  <tbody>\n",
       "    <tr>\n",
       "      <th>0</th>\n",
       "      <td>1629694800</td>\n",
       "      <td>32.71</td>\n",
       "      <td>39.71</td>\n",
       "      <td>1007</td>\n",
       "      <td>69</td>\n",
       "      <td>26.27</td>\n",
       "      <td>11.88</td>\n",
       "      <td>49</td>\n",
       "      <td>10000</td>\n",
       "      <td>4.48</td>\n",
       "      <td>219</td>\n",
       "      <td>4.48</td>\n",
       "      <td>[{'id': 500, 'main': 'Rain', 'description': 'l...</td>\n",
       "      <td>0.41</td>\n",
       "      <td>{'1h': 0.21}</td>\n",
       "    </tr>\n",
       "    <tr>\n",
       "      <th>1</th>\n",
       "      <td>1629698400</td>\n",
       "      <td>33.26</td>\n",
       "      <td>40.26</td>\n",
       "      <td>1007</td>\n",
       "      <td>68</td>\n",
       "      <td>26.55</td>\n",
       "      <td>9.88</td>\n",
       "      <td>51</td>\n",
       "      <td>10000</td>\n",
       "      <td>4.33</td>\n",
       "      <td>207</td>\n",
       "      <td>4.33</td>\n",
       "      <td>[{'id': 803, 'main': 'Clouds', 'description': ...</td>\n",
       "      <td>0.46</td>\n",
       "      <td>NaN</td>\n",
       "    </tr>\n",
       "    <tr>\n",
       "      <th>2</th>\n",
       "      <td>1629702000</td>\n",
       "      <td>32.68</td>\n",
       "      <td>39.68</td>\n",
       "      <td>1007</td>\n",
       "      <td>68</td>\n",
       "      <td>26.00</td>\n",
       "      <td>6.78</td>\n",
       "      <td>61</td>\n",
       "      <td>10000</td>\n",
       "      <td>4.00</td>\n",
       "      <td>201</td>\n",
       "      <td>4.19</td>\n",
       "      <td>[{'id': 803, 'main': 'Clouds', 'description': ...</td>\n",
       "      <td>0.05</td>\n",
       "      <td>NaN</td>\n",
       "    </tr>\n",
       "    <tr>\n",
       "      <th>3</th>\n",
       "      <td>1629705600</td>\n",
       "      <td>32.01</td>\n",
       "      <td>39.01</td>\n",
       "      <td>1006</td>\n",
       "      <td>69</td>\n",
       "      <td>25.60</td>\n",
       "      <td>3.63</td>\n",
       "      <td>71</td>\n",
       "      <td>10000</td>\n",
       "      <td>3.91</td>\n",
       "      <td>199</td>\n",
       "      <td>4.17</td>\n",
       "      <td>[{'id': 803, 'main': 'Clouds', 'description': ...</td>\n",
       "      <td>0.00</td>\n",
       "      <td>NaN</td>\n",
       "    </tr>\n",
       "    <tr>\n",
       "      <th>4</th>\n",
       "      <td>1629709200</td>\n",
       "      <td>31.17</td>\n",
       "      <td>38.06</td>\n",
       "      <td>1006</td>\n",
       "      <td>70</td>\n",
       "      <td>25.05</td>\n",
       "      <td>1.35</td>\n",
       "      <td>80</td>\n",
       "      <td>10000</td>\n",
       "      <td>3.76</td>\n",
       "      <td>199</td>\n",
       "      <td>4.31</td>\n",
       "      <td>[{'id': 803, 'main': 'Clouds', 'description': ...</td>\n",
       "      <td>0.00</td>\n",
       "      <td>NaN</td>\n",
       "    </tr>\n",
       "  </tbody>\n",
       "</table>\n",
       "</div>"
      ],
      "text/plain": [
       "           dt   temp  feels_like  pressure  humidity  dew_point    uvi  \\\n",
       "0  1629694800  32.71       39.71      1007        69      26.27  11.88   \n",
       "1  1629698400  33.26       40.26      1007        68      26.55   9.88   \n",
       "2  1629702000  32.68       39.68      1007        68      26.00   6.78   \n",
       "3  1629705600  32.01       39.01      1006        69      25.60   3.63   \n",
       "4  1629709200  31.17       38.06      1006        70      25.05   1.35   \n",
       "\n",
       "   clouds  visibility  wind_speed  wind_deg  wind_gust  \\\n",
       "0      49       10000        4.48       219       4.48   \n",
       "1      51       10000        4.33       207       4.33   \n",
       "2      61       10000        4.00       201       4.19   \n",
       "3      71       10000        3.91       199       4.17   \n",
       "4      80       10000        3.76       199       4.31   \n",
       "\n",
       "                                             weather   pop          rain  \n",
       "0  [{'id': 500, 'main': 'Rain', 'description': 'l...  0.41  {'1h': 0.21}  \n",
       "1  [{'id': 803, 'main': 'Clouds', 'description': ...  0.46           NaN  \n",
       "2  [{'id': 803, 'main': 'Clouds', 'description': ...  0.05           NaN  \n",
       "3  [{'id': 803, 'main': 'Clouds', 'description': ...  0.00           NaN  \n",
       "4  [{'id': 803, 'main': 'Clouds', 'description': ...  0.00           NaN  "
      ]
     },
     "execution_count": 10,
     "metadata": {},
     "output_type": "execute_result"
    }
   ],
   "source": [
    "df_hourly.head()"
   ]
  },
  {
   "cell_type": "code",
   "execution_count": null,
   "metadata": {},
   "outputs": [],
   "source": []
  }
 ],
 "metadata": {
  "interpreter": {
   "hash": "c1b4cfe941b6d2466ad1fb5979e97da9cda8801728c8091b097ab734208fc00c"
  },
  "kernelspec": {
   "display_name": "Python 3.8.3 64-bit ('base': conda)",
   "name": "python3"
  },
  "language_info": {
   "codemirror_mode": {
    "name": "ipython",
    "version": 3
   },
   "file_extension": ".py",
   "mimetype": "text/x-python",
   "name": "python",
   "nbconvert_exporter": "python",
   "pygments_lexer": "ipython3",
   "version": "3.8.11"
  }
 },
 "nbformat": 4,
 "nbformat_minor": 2
}
