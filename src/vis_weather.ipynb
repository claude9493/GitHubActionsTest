{
 "cells": [
  {
   "cell_type": "code",
   "execution_count": 1,
   "metadata": {
    "execution": {
     "iopub.execute_input": "2021-09-03T16:23:33.569656Z",
     "iopub.status.busy": "2021-09-03T16:23:33.568979Z",
     "iopub.status.idle": "2021-09-03T16:23:35.136248Z",
     "shell.execute_reply": "2021-09-03T16:23:35.135139Z"
    }
   },
   "outputs": [],
   "source": [
    "import json, yaml, requests\r\n",
    "from datetime import datetime\r\n",
    "from dateutil import tz\r\n",
    "import pandas as pd\r\n",
    "from PIL import Image\r\n",
    "from io import BytesIO\r\n",
    "import matplotlib.pyplot as plt\r\n",
    "import seaborn\r\n",
    "\r\n",
    "CONFIG_PATH = \"../config/config.yaml\""
   ]
  },
  {
   "cell_type": "code",
   "execution_count": 2,
   "metadata": {
    "execution": {
     "iopub.execute_input": "2021-09-03T16:23:35.142524Z",
     "iopub.status.busy": "2021-09-03T16:23:35.140918Z",
     "iopub.status.idle": "2021-09-03T16:23:35.147713Z",
     "shell.execute_reply": "2021-09-03T16:23:35.147287Z"
    }
   },
   "outputs": [],
   "source": [
    "with open('../newest_ts', 'r') as f:\r\n",
    "    newest_ts = f.read()\r\n",
    "\r\n",
    "data_path = f\"../data/data_{newest_ts}.json\"\r\n",
    "with open(data_path, 'r') as f:\r\n",
    "    data = json.load(f)\r\n",
    "\r\n",
    "with open(CONFIG_PATH, \"r\") as stream:\r\n",
    "    config = yaml.safe_load(stream)\r\n",
    "\r\n",
    "TIME_ZONE = config['time_zone']\r\n",
    "DATETIME_FORMAT = config['dt_format']"
   ]
  },
  {
   "cell_type": "code",
   "execution_count": 3,
   "metadata": {
    "execution": {
     "iopub.execute_input": "2021-09-03T16:23:35.152323Z",
     "iopub.status.busy": "2021-09-03T16:23:35.151810Z",
     "iopub.status.idle": "2021-09-03T16:23:35.182746Z",
     "shell.execute_reply": "2021-09-03T16:23:35.182175Z"
    }
   },
   "outputs": [
    {
     "name": "stdout",
     "output_type": "stream",
     "text": [
      "Recent query happens at 2021-09-04 00:23:30 (CST).\n"
     ]
    }
   ],
   "source": [
    "def ts2dt(ts, format=DATETIME_FORMAT):\r\n",
    "    dt = (datetime.utcfromtimestamp(int(ts))\r\n",
    "                    .replace(tzinfo=tz.tzutc())\r\n",
    "                    # .astimezone(tz.tzlocal())\r\n",
    "                    .astimezone(tz.gettz(TIME_ZONE)))\r\n",
    "    return dt.strftime(format), dt\r\n",
    "\r\n",
    "_, newest_dt = ts2dt(newest_ts)\r\n",
    "print(f\"Recent query happens at {newest_dt.strftime(DATETIME_FORMAT)} ({newest_dt.tzname()}).\")"
   ]
  },
  {
   "cell_type": "code",
   "execution_count": 4,
   "metadata": {
    "execution": {
     "iopub.execute_input": "2021-09-03T16:23:35.187573Z",
     "iopub.status.busy": "2021-09-03T16:23:35.185151Z",
     "iopub.status.idle": "2021-09-03T16:23:35.190072Z",
     "shell.execute_reply": "2021-09-03T16:23:35.190534Z"
    }
   },
   "outputs": [],
   "source": [
    "def degrees_to_cardinal(d):\r\n",
    "  dirs = ['N', 'NNE', 'NE', 'ENE', 'E', 'ESE', 'SE', 'SSE', 'S', 'SSW', 'SW', 'WSW', 'W', 'WNW', 'NW', 'NNW']\r\n",
    "  ix = int(round(d / (360. / len(dirs))))\r\n",
    "  return dirs[ix % len(dirs)]"
   ]
  },
  {
   "cell_type": "code",
   "execution_count": 5,
   "metadata": {
    "execution": {
     "iopub.execute_input": "2021-09-03T16:23:35.194404Z",
     "iopub.status.busy": "2021-09-03T16:23:35.193831Z",
     "iopub.status.idle": "2021-09-03T16:23:35.197730Z",
     "shell.execute_reply": "2021-09-03T16:23:35.198161Z"
    }
   },
   "outputs": [],
   "source": [
    "# data.keys()"
   ]
  },
  {
   "cell_type": "code",
   "execution_count": 6,
   "metadata": {
    "execution": {
     "iopub.execute_input": "2021-09-03T16:23:35.202807Z",
     "iopub.status.busy": "2021-09-03T16:23:35.201376Z",
     "iopub.status.idle": "2021-09-03T16:23:35.203437Z",
     "shell.execute_reply": "2021-09-03T16:23:35.203971Z"
    }
   },
   "outputs": [],
   "source": [
    "# data['current']"
   ]
  },
  {
   "cell_type": "code",
   "execution_count": 7,
   "metadata": {
    "execution": {
     "iopub.execute_input": "2021-09-03T16:23:35.224837Z",
     "iopub.status.busy": "2021-09-03T16:23:35.224252Z",
     "iopub.status.idle": "2021-09-03T16:23:35.660497Z",
     "shell.execute_reply": "2021-09-03T16:23:35.661277Z"
    }
   },
   "outputs": [
    {
     "data": {
      "image/png": "[encoded data removed]",
      "text/plain": [
       "<Figure size 216x216 with 1 Axes>"
      ]
     },
     "metadata": {
      "needs_background": "light"
     },
     "output_type": "display_data"
    },
    {
     "name": "stdout",
     "output_type": "stream",
     "text": [
      "Today, sun rises at 06:06 and sets at 18:37.\n",
      "Currently, the weather is Clouds (scattered clouds).\n",
      "The temperature is 29.53°C and it feels like 36.51°C.\n",
      "The UV index is 0, humidity is 81%.\n",
      "The pressure is 1008 hPa, percentage of cloud cover is 26%\n",
      "The wind comes from SSE direction with a speed 2.55 m/s.\n"
     ]
    }
   ],
   "source": [
    "current = data['current']\r\n",
    "\r\n",
    "fig, ax = plt.subplots(figsize=(3, 3))\r\n",
    "icon = requests.get(f\"http://openweathermap.org/img/wn/{current['weather'][0]['icon']}@2x.png\")\r\n",
    "im = Image.open(BytesIO(icon.content))\r\n",
    "plt.imshow(im)\r\n",
    "ax.set_axis_off()\r\n",
    "plt.show()\r\n",
    "\r\n",
    "print(f\"Today, sun rises at {ts2dt(current['sunrise'], '%H:%M')[0]} \\\r\n",
    "and sets at {ts2dt(current['sunset'], '%H:%M')[0]}.\\n\\\r\n",
    "Currently, the weather is {current['weather'][0]['main']} ({current['weather'][0]['description']}).\\n\\\r\n",
    "The temperature is {current['temp']}°C and it feels like {current['feels_like']}°C.\\n\\\r\n",
    "The UV index is {current['uvi']}, humidity is {current['humidity']}%.\\n\\\r\n",
    "The pressure is {current['pressure']} hPa, percentage of cloud cover is {current['clouds']}%\\n\\\r\n",
    "The wind comes from {degrees_to_cardinal(current['wind_deg'])} direction with a speed {current['wind_speed']} m/s.\")"
   ]
  },
  {
   "cell_type": "code",
   "execution_count": 8,
   "metadata": {
    "execution": {
     "iopub.execute_input": "2021-09-03T16:23:35.664982Z",
     "iopub.status.busy": "2021-09-03T16:23:35.664459Z",
     "iopub.status.idle": "2021-09-03T16:23:35.672206Z",
     "shell.execute_reply": "2021-09-03T16:23:35.673143Z"
    }
   },
   "outputs": [],
   "source": [
    "df_hourly = pd.DataFrame(data['hourly'])\r\n",
    "df_daily = pd.DataFrame(data['daily'])"
   ]
  },
  {
   "cell_type": "code",
   "execution_count": 9,
   "metadata": {
    "execution": {
     "iopub.execute_input": "2021-09-03T16:23:35.676727Z",
     "iopub.status.busy": "2021-09-03T16:23:35.676095Z",
     "iopub.status.idle": "2021-09-03T16:23:36.000094Z",
     "shell.execute_reply": "2021-09-03T16:23:35.999581Z"
    }
   },
   "outputs": [
    {
     "data": {
      "image/png": "[encoded data removed]",
      "text/plain": [
       "<Figure size 864x432 with 1 Axes>"
      ]
     },
     "metadata": {
      "needs_background": "light"
     },
     "output_type": "display_data"
    }
   ],
   "source": [
    "fig, ax = plt.subplots(figsize=(12, 6))\r\n",
    "plt.plot(df_hourly.temp, '.-', label='Temperature')\r\n",
    "plt.plot(df_hourly.feels_like, '.-', label='Feels Like')\r\n",
    "ax.set(title='Temperature in future 48 hours', xlabel='Time', ylabel='Temperature')\r\n",
    "ax.set_xticks(list(range(0, len(df_hourly), 2)))\r\n",
    "ax.set_xticklabels([ts2dt(ts, '%m-%d %H:%M')[0] for i, ts in enumerate(df_hourly.dt) if i%2==0], \r\n",
    "                   rotation=45, ha=\"right\")\r\n",
    "ax.locator_params(nbins=15, axis='y')\r\n",
    "plt.legend()\r\n",
    "plt.show()"
   ]
  },
  {
   "cell_type": "code",
   "execution_count": 10,
   "metadata": {
    "execution": {
     "iopub.execute_input": "2021-09-03T16:23:36.012178Z",
     "iopub.status.busy": "2021-09-03T16:23:36.003969Z",
     "iopub.status.idle": "2021-09-03T16:23:36.023759Z",
     "shell.execute_reply": "2021-09-03T16:23:36.024186Z"
    }
   },
   "outputs": [
    {
     "data": {
      "text/html": [
       "<div>\n",
       "<style scoped>\n",
       "    .dataframe tbody tr th:only-of-type {\n",
       "        vertical-align: middle;\n",
       "    }\n",
       "\n",
       "    .dataframe tbody tr th {\n",
       "        vertical-align: top;\n",
       "    }\n",
       "\n",
       "    .dataframe thead th {\n",
       "        text-align: right;\n",
       "    }\n",
       "</style>\n",
       "<table border=\"1\" class=\"dataframe\">\n",
       "  <thead>\n",
       "    <tr style=\"text-align: right;\">\n",
       "      <th></th>\n",
       "      <th>dt</th>\n",
       "      <th>temp</th>\n",
       "      <th>feels_like</th>\n",
       "      <th>pressure</th>\n",
       "      <th>humidity</th>\n",
       "      <th>dew_point</th>\n",
       "      <th>uvi</th>\n",
       "      <th>clouds</th>\n",
       "      <th>visibility</th>\n",
       "      <th>wind_speed</th>\n",
       "      <th>wind_deg</th>\n",
       "      <th>wind_gust</th>\n",
       "      <th>weather</th>\n",
       "      <th>pop</th>\n",
       "      <th>rain</th>\n",
       "    </tr>\n",
       "  </thead>\n",
       "  <tbody>\n",
       "    <tr>\n",
       "      <th>0</th>\n",
       "      <td>1630684800</td>\n",
       "      <td>29.53</td>\n",
       "      <td>36.51</td>\n",
       "      <td>1008</td>\n",
       "      <td>81</td>\n",
       "      <td>25.92</td>\n",
       "      <td>0.0</td>\n",
       "      <td>26</td>\n",
       "      <td>10000</td>\n",
       "      <td>2.55</td>\n",
       "      <td>152</td>\n",
       "      <td>3.55</td>\n",
       "      <td>[{'id': 802, 'main': 'Clouds', 'description': ...</td>\n",
       "      <td>0.08</td>\n",
       "      <td>NaN</td>\n",
       "    </tr>\n",
       "    <tr>\n",
       "      <th>1</th>\n",
       "      <td>1630688400</td>\n",
       "      <td>29.17</td>\n",
       "      <td>35.68</td>\n",
       "      <td>1008</td>\n",
       "      <td>82</td>\n",
       "      <td>25.78</td>\n",
       "      <td>0.0</td>\n",
       "      <td>25</td>\n",
       "      <td>10000</td>\n",
       "      <td>1.94</td>\n",
       "      <td>157</td>\n",
       "      <td>2.69</td>\n",
       "      <td>[{'id': 802, 'main': 'Clouds', 'description': ...</td>\n",
       "      <td>0.20</td>\n",
       "      <td>NaN</td>\n",
       "    </tr>\n",
       "    <tr>\n",
       "      <th>2</th>\n",
       "      <td>1630692000</td>\n",
       "      <td>28.77</td>\n",
       "      <td>34.52</td>\n",
       "      <td>1008</td>\n",
       "      <td>82</td>\n",
       "      <td>25.39</td>\n",
       "      <td>0.0</td>\n",
       "      <td>23</td>\n",
       "      <td>10000</td>\n",
       "      <td>1.76</td>\n",
       "      <td>161</td>\n",
       "      <td>2.38</td>\n",
       "      <td>[{'id': 801, 'main': 'Clouds', 'description': ...</td>\n",
       "      <td>0.36</td>\n",
       "      <td>NaN</td>\n",
       "    </tr>\n",
       "    <tr>\n",
       "      <th>3</th>\n",
       "      <td>1630695600</td>\n",
       "      <td>28.29</td>\n",
       "      <td>33.19</td>\n",
       "      <td>1007</td>\n",
       "      <td>82</td>\n",
       "      <td>24.92</td>\n",
       "      <td>0.0</td>\n",
       "      <td>10</td>\n",
       "      <td>10000</td>\n",
       "      <td>1.47</td>\n",
       "      <td>160</td>\n",
       "      <td>1.88</td>\n",
       "      <td>[{'id': 800, 'main': 'Clear', 'description': '...</td>\n",
       "      <td>0.61</td>\n",
       "      <td>NaN</td>\n",
       "    </tr>\n",
       "    <tr>\n",
       "      <th>4</th>\n",
       "      <td>1630699200</td>\n",
       "      <td>27.71</td>\n",
       "      <td>31.80</td>\n",
       "      <td>1007</td>\n",
       "      <td>83</td>\n",
       "      <td>24.56</td>\n",
       "      <td>0.0</td>\n",
       "      <td>5</td>\n",
       "      <td>10000</td>\n",
       "      <td>1.52</td>\n",
       "      <td>172</td>\n",
       "      <td>1.88</td>\n",
       "      <td>[{'id': 500, 'main': 'Rain', 'description': 'l...</td>\n",
       "      <td>0.61</td>\n",
       "      <td>{'1h': 0.27}</td>\n",
       "    </tr>\n",
       "  </tbody>\n",
       "</table>\n",
       "</div>"
      ],
      "text/plain": [
       "           dt   temp  feels_like  pressure  humidity  dew_point  uvi  clouds  \\\n",
       "0  1630684800  29.53       36.51      1008        81      25.92  0.0      26   \n",
       "1  1630688400  29.17       35.68      1008        82      25.78  0.0      25   \n",
       "2  1630692000  28.77       34.52      1008        82      25.39  0.0      23   \n",
       "3  1630695600  28.29       33.19      1007        82      24.92  0.0      10   \n",
       "4  1630699200  27.71       31.80      1007        83      24.56  0.0       5   \n",
       "\n",
       "   visibility  wind_speed  wind_deg  wind_gust  \\\n",
       "0       10000        2.55       152       3.55   \n",
       "1       10000        1.94       157       2.69   \n",
       "2       10000        1.76       161       2.38   \n",
       "3       10000        1.47       160       1.88   \n",
       "4       10000        1.52       172       1.88   \n",
       "\n",
       "                                             weather   pop          rain  \n",
       "0  [{'id': 802, 'main': 'Clouds', 'description': ...  0.08           NaN  \n",
       "1  [{'id': 802, 'main': 'Clouds', 'description': ...  0.20           NaN  \n",
       "2  [{'id': 801, 'main': 'Clouds', 'description': ...  0.36           NaN  \n",
       "3  [{'id': 800, 'main': 'Clear', 'description': '...  0.61           NaN  \n",
       "4  [{'id': 500, 'main': 'Rain', 'description': 'l...  0.61  {'1h': 0.27}  "
      ]
     },
     "execution_count": 10,
     "metadata": {},
     "output_type": "execute_result"
    }
   ],
   "source": [
    "df_hourly.head()"
   ]
  },
  {
   "cell_type": "code",
   "execution_count": null,
   "metadata": {},
   "outputs": [],
   "source": []
  }
 ],
 "metadata": {
  "interpreter": {
   "hash": "c1b4cfe941b6d2466ad1fb5979e97da9cda8801728c8091b097ab734208fc00c"
  },
  "kernelspec": {
   "display_name": "Python 3.8.3 64-bit ('base': conda)",
   "name": "python3"
  },
  "language_info": {
   "codemirror_mode": {
    "name": "ipython",
    "version": 3
   },
   "file_extension": ".py",
   "mimetype": "text/x-python",
   "name": "python",
   "nbconvert_exporter": "python",
   "pygments_lexer": "ipython3",
   "version": "3.8.11"
  }
 },
 "nbformat": 4,
 "nbformat_minor": 2
}
