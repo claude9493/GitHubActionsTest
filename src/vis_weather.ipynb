{
 "cells": [
  {
   "cell_type": "code",
   "execution_count": 1,
   "metadata": {
    "execution": {
     "iopub.execute_input": "2021-10-05T01:56:06.700568Z",
     "iopub.status.busy": "2021-10-05T01:56:06.699936Z",
     "iopub.status.idle": "2021-10-05T01:56:08.657824Z",
     "shell.execute_reply": "2021-10-05T01:56:08.657193Z"
    }
   },
   "outputs": [],
   "source": [
    "import json, yaml, requests\r\n",
    "from datetime import datetime\r\n",
    "from dateutil import tz\r\n",
    "import pandas as pd\r\n",
    "from PIL import Image\r\n",
    "from io import BytesIO\r\n",
    "import matplotlib.pyplot as plt\r\n",
    "import seaborn\r\n",
    "\r\n",
    "CONFIG_PATH = \"../config/config.yaml\""
   ]
  },
  {
   "cell_type": "code",
   "execution_count": 2,
   "metadata": {
    "execution": {
     "iopub.execute_input": "2021-10-05T01:56:08.663105Z",
     "iopub.status.busy": "2021-10-05T01:56:08.662593Z",
     "iopub.status.idle": "2021-10-05T01:56:08.667253Z",
     "shell.execute_reply": "2021-10-05T01:56:08.667604Z"
    }
   },
   "outputs": [],
   "source": [
    "with open('../newest_ts', 'r') as f:\r\n",
    "    newest_ts = f.read()\r\n",
    "\r\n",
    "data_path = f\"../data/data_{newest_ts}.json\"\r\n",
    "with open(data_path, 'r') as f:\r\n",
    "    data = json.load(f)\r\n",
    "\r\n",
    "with open(CONFIG_PATH, \"r\") as stream:\r\n",
    "    config = yaml.safe_load(stream)\r\n",
    "\r\n",
    "TIME_ZONE = config['time_zone']\r\n",
    "DATETIME_FORMAT = config['dt_format']"
   ]
  },
  {
   "cell_type": "code",
   "execution_count": 3,
   "metadata": {
    "execution": {
     "iopub.execute_input": "2021-10-05T01:56:08.671952Z",
     "iopub.status.busy": "2021-10-05T01:56:08.671486Z",
     "iopub.status.idle": "2021-10-05T01:56:08.676946Z",
     "shell.execute_reply": "2021-10-05T01:56:08.677313Z"
    }
   },
   "outputs": [
    {
     "name": "stdout",
     "output_type": "stream",
     "text": [
      "Recent query happens at 2021-10-05 09:56:03 (CST).\n"
     ]
    }
   ],
   "source": [
    "def ts2dt(ts, format=DATETIME_FORMAT):\r\n",
    "    dt = (datetime.utcfromtimestamp(int(ts))\r\n",
    "                    .replace(tzinfo=tz.tzutc())\r\n",
    "                    # .astimezone(tz.tzlocal())\r\n",
    "                    .astimezone(tz.gettz(TIME_ZONE)))\r\n",
    "    return dt.strftime(format), dt\r\n",
    "\r\n",
    "_, newest_dt = ts2dt(newest_ts)\r\n",
    "print(f\"Recent query happens at {newest_dt.strftime(DATETIME_FORMAT)} ({newest_dt.tzname()}).\")"
   ]
  },
  {
   "cell_type": "code",
   "execution_count": 4,
   "metadata": {
    "execution": {
     "iopub.execute_input": "2021-10-05T01:56:08.682271Z",
     "iopub.status.busy": "2021-10-05T01:56:08.681248Z",
     "iopub.status.idle": "2021-10-05T01:56:08.682789Z",
     "shell.execute_reply": "2021-10-05T01:56:08.683151Z"
    }
   },
   "outputs": [],
   "source": [
    "def degrees_to_cardinal(d):\r\n",
    "  dirs = ['N', 'NNE', 'NE', 'ENE', 'E', 'ESE', 'SE', 'SSE', 'S', 'SSW', 'SW', 'WSW', 'W', 'WNW', 'NW', 'NNW']\r\n",
    "  ix = int(round(d / (360. / len(dirs))))\r\n",
    "  return dirs[ix % len(dirs)]"
   ]
  },
  {
   "cell_type": "code",
   "execution_count": 5,
   "metadata": {
    "execution": {
     "iopub.execute_input": "2021-10-05T01:56:08.687102Z",
     "iopub.status.busy": "2021-10-05T01:56:08.685964Z",
     "iopub.status.idle": "2021-10-05T01:56:08.687632Z",
     "shell.execute_reply": "2021-10-05T01:56:08.687996Z"
    }
   },
   "outputs": [],
   "source": [
    "# data.keys()"
   ]
  },
  {
   "cell_type": "code",
   "execution_count": 6,
   "metadata": {
    "execution": {
     "iopub.execute_input": "2021-10-05T01:56:08.691804Z",
     "iopub.status.busy": "2021-10-05T01:56:08.690673Z",
     "iopub.status.idle": "2021-10-05T01:56:08.692357Z",
     "shell.execute_reply": "2021-10-05T01:56:08.692737Z"
    }
   },
   "outputs": [],
   "source": [
    "# data['current']"
   ]
  },
  {
   "cell_type": "code",
   "execution_count": 7,
   "metadata": {
    "execution": {
     "iopub.execute_input": "2021-10-05T01:56:08.711012Z",
     "iopub.status.busy": "2021-10-05T01:56:08.709349Z",
     "iopub.status.idle": "2021-10-05T01:56:09.073466Z",
     "shell.execute_reply": "2021-10-05T01:56:09.074167Z"
    }
   },
   "outputs": [
    {
     "data": {
      "image/png": "[encoded data removed]",
      "text/plain": [
       "<Figure size 216x216 with 1 Axes>"
      ]
     },
     "metadata": {
      "needs_background": "light"
     },
     "output_type": "display_data"
    },
    {
     "name": "stdout",
     "output_type": "stream",
     "text": [
      "Today, sun rises at 06:15 and sets at 18:07.\n",
      "Currently, the weather is Clear (clear sky).\n",
      "The temperature is 30.7°C and it feels like 34.7°C.\n",
      "The UV index is 5.21, humidity is 62%.\n",
      "The pressure is 1013 hPa, percentage of cloud cover is 9%\n",
      "The wind comes from ENE direction with a speed 8.05 m/s.\n"
     ]
    }
   ],
   "source": [
    "current = data['current']\r\n",
    "\r\n",
    "fig, ax = plt.subplots(figsize=(3, 3))\r\n",
    "icon = requests.get(f\"http://openweathermap.org/img/wn/{current['weather'][0]['icon']}@2x.png\")\r\n",
    "im = Image.open(BytesIO(icon.content))\r\n",
    "plt.imshow(im)\r\n",
    "ax.set_axis_off()\r\n",
    "plt.show()\r\n",
    "\r\n",
    "print(f\"Today, sun rises at {ts2dt(current['sunrise'], '%H:%M')[0]} \\\r\n",
    "and sets at {ts2dt(current['sunset'], '%H:%M')[0]}.\\n\\\r\n",
    "Currently, the weather is {current['weather'][0]['main']} ({current['weather'][0]['description']}).\\n\\\r\n",
    "The temperature is {current['temp']}°C and it feels like {current['feels_like']}°C.\\n\\\r\n",
    "The UV index is {current['uvi']}, humidity is {current['humidity']}%.\\n\\\r\n",
    "The pressure is {current['pressure']} hPa, percentage of cloud cover is {current['clouds']}%\\n\\\r\n",
    "The wind comes from {degrees_to_cardinal(current['wind_deg'])} direction with a speed {current['wind_speed']} m/s.\")"
   ]
  },
  {
   "cell_type": "code",
   "execution_count": 8,
   "metadata": {
    "execution": {
     "iopub.execute_input": "2021-10-05T01:56:09.081192Z",
     "iopub.status.busy": "2021-10-05T01:56:09.078775Z",
     "iopub.status.idle": "2021-10-05T01:56:09.083969Z",
     "shell.execute_reply": "2021-10-05T01:56:09.084623Z"
    }
   },
   "outputs": [],
   "source": [
    "df_hourly = pd.DataFrame(data['hourly'])\r\n",
    "df_daily = pd.DataFrame(data['daily'])"
   ]
  },
  {
   "cell_type": "code",
   "execution_count": 9,
   "metadata": {
    "execution": {
     "iopub.execute_input": "2021-10-05T01:56:09.101757Z",
     "iopub.status.busy": "2021-10-05T01:56:09.100284Z",
     "iopub.status.idle": "2021-10-05T01:56:09.325593Z",
     "shell.execute_reply": "2021-10-05T01:56:09.325967Z"
    }
   },
   "outputs": [
    {
     "data": {
      "image/png": "[encoded data removed]",
      "text/plain": [
       "<Figure size 864x432 with 1 Axes>"
      ]
     },
     "metadata": {
      "needs_background": "light"
     },
     "output_type": "display_data"
    }
   ],
   "source": [
    "fig, ax = plt.subplots(figsize=(12, 6))\r\n",
    "plt.plot(df_hourly.temp, '.-', label='Temperature')\r\n",
    "plt.plot(df_hourly.feels_like, '.-', label='Feels Like')\r\n",
    "ax.set(title='Temperature in future 48 hours', xlabel='Time', ylabel='Temperature')\r\n",
    "ax.set_xticks(list(range(0, len(df_hourly), 2)))\r\n",
    "ax.set_xticklabels([ts2dt(ts, '%m-%d %H:%M')[0] for i, ts in enumerate(df_hourly.dt) if i%2==0], \r\n",
    "                   rotation=45, ha=\"right\")\r\n",
    "ax.locator_params(nbins=15, axis='y')\r\n",
    "plt.legend()\r\n",
    "plt.show()"
   ]
  },
  {
   "cell_type": "code",
   "execution_count": 10,
   "metadata": {
    "execution": {
     "iopub.execute_input": "2021-10-05T01:56:09.330339Z",
     "iopub.status.busy": "2021-10-05T01:56:09.329888Z",
     "iopub.status.idle": "2021-10-05T01:56:09.346985Z",
     "shell.execute_reply": "2021-10-05T01:56:09.346492Z"
    }
   },
   "outputs": [
    {
     "data": {
      "text/html": [
       "<div>\n",
       "<style scoped>\n",
       "    .dataframe tbody tr th:only-of-type {\n",
       "        vertical-align: middle;\n",
       "    }\n",
       "\n",
       "    .dataframe tbody tr th {\n",
       "        vertical-align: top;\n",
       "    }\n",
       "\n",
       "    .dataframe thead th {\n",
       "        text-align: right;\n",
       "    }\n",
       "</style>\n",
       "<table border=\"1\" class=\"dataframe\">\n",
       "  <thead>\n",
       "    <tr style=\"text-align: right;\">\n",
       "      <th></th>\n",
       "      <th>dt</th>\n",
       "      <th>temp</th>\n",
       "      <th>feels_like</th>\n",
       "      <th>pressure</th>\n",
       "      <th>humidity</th>\n",
       "      <th>dew_point</th>\n",
       "      <th>uvi</th>\n",
       "      <th>clouds</th>\n",
       "      <th>visibility</th>\n",
       "      <th>wind_speed</th>\n",
       "      <th>wind_deg</th>\n",
       "      <th>wind_gust</th>\n",
       "      <th>weather</th>\n",
       "      <th>pop</th>\n",
       "      <th>rain</th>\n",
       "    </tr>\n",
       "  </thead>\n",
       "  <tbody>\n",
       "    <tr>\n",
       "      <th>0</th>\n",
       "      <td>1633395600</td>\n",
       "      <td>30.26</td>\n",
       "      <td>34.22</td>\n",
       "      <td>1013</td>\n",
       "      <td>64</td>\n",
       "      <td>22.69</td>\n",
       "      <td>2.70</td>\n",
       "      <td>9</td>\n",
       "      <td>10000</td>\n",
       "      <td>8.33</td>\n",
       "      <td>68</td>\n",
       "      <td>10.62</td>\n",
       "      <td>[{'id': 800, 'main': 'Clear', 'description': '...</td>\n",
       "      <td>0.08</td>\n",
       "      <td>NaN</td>\n",
       "    </tr>\n",
       "    <tr>\n",
       "      <th>1</th>\n",
       "      <td>1633399200</td>\n",
       "      <td>30.70</td>\n",
       "      <td>34.70</td>\n",
       "      <td>1013</td>\n",
       "      <td>62</td>\n",
       "      <td>22.58</td>\n",
       "      <td>5.21</td>\n",
       "      <td>9</td>\n",
       "      <td>10000</td>\n",
       "      <td>8.70</td>\n",
       "      <td>72</td>\n",
       "      <td>10.31</td>\n",
       "      <td>[{'id': 800, 'main': 'Clear', 'description': '...</td>\n",
       "      <td>0.15</td>\n",
       "      <td>NaN</td>\n",
       "    </tr>\n",
       "    <tr>\n",
       "      <th>2</th>\n",
       "      <td>1633402800</td>\n",
       "      <td>30.38</td>\n",
       "      <td>34.48</td>\n",
       "      <td>1013</td>\n",
       "      <td>64</td>\n",
       "      <td>22.80</td>\n",
       "      <td>7.64</td>\n",
       "      <td>10</td>\n",
       "      <td>10000</td>\n",
       "      <td>9.07</td>\n",
       "      <td>73</td>\n",
       "      <td>10.41</td>\n",
       "      <td>[{'id': 800, 'main': 'Clear', 'description': '...</td>\n",
       "      <td>0.17</td>\n",
       "      <td>NaN</td>\n",
       "    </tr>\n",
       "    <tr>\n",
       "      <th>3</th>\n",
       "      <td>1633406400</td>\n",
       "      <td>30.11</td>\n",
       "      <td>34.35</td>\n",
       "      <td>1013</td>\n",
       "      <td>66</td>\n",
       "      <td>23.06</td>\n",
       "      <td>9.11</td>\n",
       "      <td>15</td>\n",
       "      <td>10000</td>\n",
       "      <td>8.88</td>\n",
       "      <td>74</td>\n",
       "      <td>10.08</td>\n",
       "      <td>[{'id': 801, 'main': 'Clouds', 'description': ...</td>\n",
       "      <td>0.13</td>\n",
       "      <td>NaN</td>\n",
       "    </tr>\n",
       "    <tr>\n",
       "      <th>4</th>\n",
       "      <td>1633410000</td>\n",
       "      <td>29.93</td>\n",
       "      <td>33.95</td>\n",
       "      <td>1012</td>\n",
       "      <td>66</td>\n",
       "      <td>22.89</td>\n",
       "      <td>8.95</td>\n",
       "      <td>20</td>\n",
       "      <td>10000</td>\n",
       "      <td>8.82</td>\n",
       "      <td>80</td>\n",
       "      <td>9.41</td>\n",
       "      <td>[{'id': 801, 'main': 'Clouds', 'description': ...</td>\n",
       "      <td>0.13</td>\n",
       "      <td>NaN</td>\n",
       "    </tr>\n",
       "  </tbody>\n",
       "</table>\n",
       "</div>"
      ],
      "text/plain": [
       "           dt   temp  feels_like  pressure  humidity  dew_point   uvi  clouds  \\\n",
       "0  1633395600  30.26       34.22      1013        64      22.69  2.70       9   \n",
       "1  1633399200  30.70       34.70      1013        62      22.58  5.21       9   \n",
       "2  1633402800  30.38       34.48      1013        64      22.80  7.64      10   \n",
       "3  1633406400  30.11       34.35      1013        66      23.06  9.11      15   \n",
       "4  1633410000  29.93       33.95      1012        66      22.89  8.95      20   \n",
       "\n",
       "   visibility  wind_speed  wind_deg  wind_gust  \\\n",
       "0       10000        8.33        68      10.62   \n",
       "1       10000        8.70        72      10.31   \n",
       "2       10000        9.07        73      10.41   \n",
       "3       10000        8.88        74      10.08   \n",
       "4       10000        8.82        80       9.41   \n",
       "\n",
       "                                             weather   pop rain  \n",
       "0  [{'id': 800, 'main': 'Clear', 'description': '...  0.08  NaN  \n",
       "1  [{'id': 800, 'main': 'Clear', 'description': '...  0.15  NaN  \n",
       "2  [{'id': 800, 'main': 'Clear', 'description': '...  0.17  NaN  \n",
       "3  [{'id': 801, 'main': 'Clouds', 'description': ...  0.13  NaN  \n",
       "4  [{'id': 801, 'main': 'Clouds', 'description': ...  0.13  NaN  "
      ]
     },
     "execution_count": 10,
     "metadata": {},
     "output_type": "execute_result"
    }
   ],
   "source": [
    "df_hourly.head()"
   ]
  },
  {
   "cell_type": "code",
   "execution_count": null,
   "metadata": {},
   "outputs": [],
   "source": []
  }
 ],
 "metadata": {
  "interpreter": {
   "hash": "c1b4cfe941b6d2466ad1fb5979e97da9cda8801728c8091b097ab734208fc00c"
  },
  "kernelspec": {
   "display_name": "Python 3.8.3 64-bit ('base': conda)",
   "name": "python3"
  },
  "language_info": {
   "codemirror_mode": {
    "name": "ipython",
    "version": 3
   },
   "file_extension": ".py",
   "mimetype": "text/x-python",
   "name": "python",
   "nbconvert_exporter": "python",
   "pygments_lexer": "ipython3",
   "version": "3.8.12"
  }
 },
 "nbformat": 4,
 "nbformat_minor": 2
}
