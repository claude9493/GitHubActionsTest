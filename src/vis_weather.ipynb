{
 "cells": [
  {
   "cell_type": "code",
   "execution_count": 1,
   "metadata": {
    "execution": {
     "iopub.execute_input": "2021-09-08T10:41:25.480677Z",
     "iopub.status.busy": "2021-09-08T10:41:25.480053Z",
     "iopub.status.idle": "2021-09-08T10:41:27.723374Z",
     "shell.execute_reply": "2021-09-08T10:41:27.723821Z"
    }
   },
   "outputs": [],
   "source": [
    "import json, yaml, requests\r\n",
    "from datetime import datetime\r\n",
    "from dateutil import tz\r\n",
    "import pandas as pd\r\n",
    "from PIL import Image\r\n",
    "from io import BytesIO\r\n",
    "import matplotlib.pyplot as plt\r\n",
    "import seaborn\r\n",
    "\r\n",
    "CONFIG_PATH = \"../config/config.yaml\""
   ]
  },
  {
   "cell_type": "code",
   "execution_count": 2,
   "metadata": {
    "execution": {
     "iopub.execute_input": "2021-09-08T10:41:27.732375Z",
     "iopub.status.busy": "2021-09-08T10:41:27.729041Z",
     "iopub.status.idle": "2021-09-08T10:41:27.735265Z",
     "shell.execute_reply": "2021-09-08T10:41:27.734808Z"
    }
   },
   "outputs": [],
   "source": [
    "with open('../newest_ts', 'r') as f:\r\n",
    "    newest_ts = f.read()\r\n",
    "\r\n",
    "data_path = f\"../data/data_{newest_ts}.json\"\r\n",
    "with open(data_path, 'r') as f:\r\n",
    "    data = json.load(f)\r\n",
    "\r\n",
    "with open(CONFIG_PATH, \"r\") as stream:\r\n",
    "    config = yaml.safe_load(stream)\r\n",
    "\r\n",
    "TIME_ZONE = config['time_zone']\r\n",
    "DATETIME_FORMAT = config['dt_format']"
   ]
  },
  {
   "cell_type": "code",
   "execution_count": 3,
   "metadata": {
    "execution": {
     "iopub.execute_input": "2021-09-08T10:41:27.740340Z",
     "iopub.status.busy": "2021-09-08T10:41:27.739750Z",
     "iopub.status.idle": "2021-09-08T10:41:27.745399Z",
     "shell.execute_reply": "2021-09-08T10:41:27.745833Z"
    }
   },
   "outputs": [
    {
     "name": "stdout",
     "output_type": "stream",
     "text": [
      "Recent query happens at 2021-09-08 18:41:22 (CST).\n"
     ]
    }
   ],
   "source": [
    "def ts2dt(ts, format=DATETIME_FORMAT):\r\n",
    "    dt = (datetime.utcfromtimestamp(int(ts))\r\n",
    "                    .replace(tzinfo=tz.tzutc())\r\n",
    "                    # .astimezone(tz.tzlocal())\r\n",
    "                    .astimezone(tz.gettz(TIME_ZONE)))\r\n",
    "    return dt.strftime(format), dt\r\n",
    "\r\n",
    "_, newest_dt = ts2dt(newest_ts)\r\n",
    "print(f\"Recent query happens at {newest_dt.strftime(DATETIME_FORMAT)} ({newest_dt.tzname()}).\")"
   ]
  },
  {
   "cell_type": "code",
   "execution_count": 4,
   "metadata": {
    "execution": {
     "iopub.execute_input": "2021-09-08T10:41:27.751491Z",
     "iopub.status.busy": "2021-09-08T10:41:27.750348Z",
     "iopub.status.idle": "2021-09-08T10:41:27.752096Z",
     "shell.execute_reply": "2021-09-08T10:41:27.752527Z"
    }
   },
   "outputs": [],
   "source": [
    "def degrees_to_cardinal(d):\r\n",
    "  dirs = ['N', 'NNE', 'NE', 'ENE', 'E', 'ESE', 'SE', 'SSE', 'S', 'SSW', 'SW', 'WSW', 'W', 'WNW', 'NW', 'NNW']\r\n",
    "  ix = int(round(d / (360. / len(dirs))))\r\n",
    "  return dirs[ix % len(dirs)]"
   ]
  },
  {
   "cell_type": "code",
   "execution_count": 5,
   "metadata": {
    "execution": {
     "iopub.execute_input": "2021-09-08T10:41:27.757107Z",
     "iopub.status.busy": "2021-09-08T10:41:27.755784Z",
     "iopub.status.idle": "2021-09-08T10:41:27.757713Z",
     "shell.execute_reply": "2021-09-08T10:41:27.758141Z"
    }
   },
   "outputs": [],
   "source": [
    "# data.keys()"
   ]
  },
  {
   "cell_type": "code",
   "execution_count": 6,
   "metadata": {
    "execution": {
     "iopub.execute_input": "2021-09-08T10:41:27.762469Z",
     "iopub.status.busy": "2021-09-08T10:41:27.761171Z",
     "iopub.status.idle": "2021-09-08T10:41:27.763070Z",
     "shell.execute_reply": "2021-09-08T10:41:27.763497Z"
    }
   },
   "outputs": [],
   "source": [
    "# data['current']"
   ]
  },
  {
   "cell_type": "code",
   "execution_count": 7,
   "metadata": {
    "execution": {
     "iopub.execute_input": "2021-09-08T10:41:27.782206Z",
     "iopub.status.busy": "2021-09-08T10:41:27.781627Z",
     "iopub.status.idle": "2021-09-08T10:41:28.070617Z",
     "shell.execute_reply": "2021-09-08T10:41:28.071375Z"
    }
   },
   "outputs": [
    {
     "data": {
      "image/png": "[encoded data removed]",
      "text/plain": [
       "<Figure size 216x216 with 1 Axes>"
      ]
     },
     "metadata": {
      "needs_background": "light"
     },
     "output_type": "display_data"
    },
    {
     "name": "stdout",
     "output_type": "stream",
     "text": [
      "Today, sun rises at 06:07 and sets at 18:33.\n",
      "Currently, the weather is Clouds (broken clouds).\n",
      "The temperature is 30.75°C and it feels like 37.75°C.\n",
      "The UV index is 0, humidity is 76%.\n",
      "The pressure is 1008 hPa, percentage of cloud cover is 68%\n",
      "The wind comes from SE direction with a speed 3.22 m/s.\n"
     ]
    }
   ],
   "source": [
    "current = data['current']\r\n",
    "\r\n",
    "fig, ax = plt.subplots(figsize=(3, 3))\r\n",
    "icon = requests.get(f\"http://openweathermap.org/img/wn/{current['weather'][0]['icon']}@2x.png\")\r\n",
    "im = Image.open(BytesIO(icon.content))\r\n",
    "plt.imshow(im)\r\n",
    "ax.set_axis_off()\r\n",
    "plt.show()\r\n",
    "\r\n",
    "print(f\"Today, sun rises at {ts2dt(current['sunrise'], '%H:%M')[0]} \\\r\n",
    "and sets at {ts2dt(current['sunset'], '%H:%M')[0]}.\\n\\\r\n",
    "Currently, the weather is {current['weather'][0]['main']} ({current['weather'][0]['description']}).\\n\\\r\n",
    "The temperature is {current['temp']}°C and it feels like {current['feels_like']}°C.\\n\\\r\n",
    "The UV index is {current['uvi']}, humidity is {current['humidity']}%.\\n\\\r\n",
    "The pressure is {current['pressure']} hPa, percentage of cloud cover is {current['clouds']}%\\n\\\r\n",
    "The wind comes from {degrees_to_cardinal(current['wind_deg'])} direction with a speed {current['wind_speed']} m/s.\")"
   ]
  },
  {
   "cell_type": "code",
   "execution_count": 8,
   "metadata": {
    "execution": {
     "iopub.execute_input": "2021-09-08T10:41:28.074965Z",
     "iopub.status.busy": "2021-09-08T10:41:28.073907Z",
     "iopub.status.idle": "2021-09-08T10:41:28.081650Z",
     "shell.execute_reply": "2021-09-08T10:41:28.082377Z"
    }
   },
   "outputs": [],
   "source": [
    "df_hourly = pd.DataFrame(data['hourly'])\r\n",
    "df_daily = pd.DataFrame(data['daily'])"
   ]
  },
  {
   "cell_type": "code",
   "execution_count": 9,
   "metadata": {
    "execution": {
     "iopub.execute_input": "2021-09-08T10:41:28.085856Z",
     "iopub.status.busy": "2021-09-08T10:41:28.084800Z",
     "iopub.status.idle": "2021-09-08T10:41:28.370848Z",
     "shell.execute_reply": "2021-09-08T10:41:28.369964Z"
    }
   },
   "outputs": [
    {
     "data": {
      "image/png": "[encoded data removed]",
      "text/plain": [
       "<Figure size 864x432 with 1 Axes>"
      ]
     },
     "metadata": {
      "needs_background": "light"
     },
     "output_type": "display_data"
    }
   ],
   "source": [
    "fig, ax = plt.subplots(figsize=(12, 6))\r\n",
    "plt.plot(df_hourly.temp, '.-', label='Temperature')\r\n",
    "plt.plot(df_hourly.feels_like, '.-', label='Feels Like')\r\n",
    "ax.set(title='Temperature in future 48 hours', xlabel='Time', ylabel='Temperature')\r\n",
    "ax.set_xticks(list(range(0, len(df_hourly), 2)))\r\n",
    "ax.set_xticklabels([ts2dt(ts, '%m-%d %H:%M')[0] for i, ts in enumerate(df_hourly.dt) if i%2==0], \r\n",
    "                   rotation=45, ha=\"right\")\r\n",
    "ax.locator_params(nbins=15, axis='y')\r\n",
    "plt.legend()\r\n",
    "plt.show()"
   ]
  },
  {
   "cell_type": "code",
   "execution_count": 10,
   "metadata": {
    "execution": {
     "iopub.execute_input": "2021-09-08T10:41:28.382905Z",
     "iopub.status.busy": "2021-09-08T10:41:28.374990Z",
     "iopub.status.idle": "2021-09-08T10:41:28.394475Z",
     "shell.execute_reply": "2021-09-08T10:41:28.394894Z"
    }
   },
   "outputs": [
    {
     "data": {
      "text/html": [
       "<div>\n",
       "<style scoped>\n",
       "    .dataframe tbody tr th:only-of-type {\n",
       "        vertical-align: middle;\n",
       "    }\n",
       "\n",
       "    .dataframe tbody tr th {\n",
       "        vertical-align: top;\n",
       "    }\n",
       "\n",
       "    .dataframe thead th {\n",
       "        text-align: right;\n",
       "    }\n",
       "</style>\n",
       "<table border=\"1\" class=\"dataframe\">\n",
       "  <thead>\n",
       "    <tr style=\"text-align: right;\">\n",
       "      <th></th>\n",
       "      <th>dt</th>\n",
       "      <th>temp</th>\n",
       "      <th>feels_like</th>\n",
       "      <th>pressure</th>\n",
       "      <th>humidity</th>\n",
       "      <th>dew_point</th>\n",
       "      <th>uvi</th>\n",
       "      <th>clouds</th>\n",
       "      <th>visibility</th>\n",
       "      <th>wind_speed</th>\n",
       "      <th>wind_deg</th>\n",
       "      <th>wind_gust</th>\n",
       "      <th>weather</th>\n",
       "      <th>pop</th>\n",
       "      <th>rain</th>\n",
       "    </tr>\n",
       "  </thead>\n",
       "  <tbody>\n",
       "    <tr>\n",
       "      <th>0</th>\n",
       "      <td>1631095200</td>\n",
       "      <td>30.42</td>\n",
       "      <td>37.42</td>\n",
       "      <td>1008</td>\n",
       "      <td>75</td>\n",
       "      <td>25.49</td>\n",
       "      <td>0.18</td>\n",
       "      <td>68</td>\n",
       "      <td>10000</td>\n",
       "      <td>3.42</td>\n",
       "      <td>138</td>\n",
       "      <td>3.52</td>\n",
       "      <td>[{'id': 803, 'main': 'Clouds', 'description': ...</td>\n",
       "      <td>0.02</td>\n",
       "      <td>NaN</td>\n",
       "    </tr>\n",
       "    <tr>\n",
       "      <th>1</th>\n",
       "      <td>1631098800</td>\n",
       "      <td>30.75</td>\n",
       "      <td>37.75</td>\n",
       "      <td>1008</td>\n",
       "      <td>76</td>\n",
       "      <td>26.03</td>\n",
       "      <td>0.00</td>\n",
       "      <td>68</td>\n",
       "      <td>10000</td>\n",
       "      <td>3.22</td>\n",
       "      <td>137</td>\n",
       "      <td>3.75</td>\n",
       "      <td>[{'id': 803, 'main': 'Clouds', 'description': ...</td>\n",
       "      <td>0.06</td>\n",
       "      <td>NaN</td>\n",
       "    </tr>\n",
       "    <tr>\n",
       "      <th>2</th>\n",
       "      <td>1631102400</td>\n",
       "      <td>30.24</td>\n",
       "      <td>37.24</td>\n",
       "      <td>1008</td>\n",
       "      <td>77</td>\n",
       "      <td>25.76</td>\n",
       "      <td>0.00</td>\n",
       "      <td>69</td>\n",
       "      <td>10000</td>\n",
       "      <td>2.90</td>\n",
       "      <td>138</td>\n",
       "      <td>3.55</td>\n",
       "      <td>[{'id': 803, 'main': 'Clouds', 'description': ...</td>\n",
       "      <td>0.15</td>\n",
       "      <td>NaN</td>\n",
       "    </tr>\n",
       "    <tr>\n",
       "      <th>3</th>\n",
       "      <td>1631106000</td>\n",
       "      <td>29.67</td>\n",
       "      <td>36.15</td>\n",
       "      <td>1009</td>\n",
       "      <td>78</td>\n",
       "      <td>25.42</td>\n",
       "      <td>0.00</td>\n",
       "      <td>81</td>\n",
       "      <td>10000</td>\n",
       "      <td>2.91</td>\n",
       "      <td>139</td>\n",
       "      <td>3.74</td>\n",
       "      <td>[{'id': 803, 'main': 'Clouds', 'description': ...</td>\n",
       "      <td>0.32</td>\n",
       "      <td>NaN</td>\n",
       "    </tr>\n",
       "    <tr>\n",
       "      <th>4</th>\n",
       "      <td>1631109600</td>\n",
       "      <td>29.06</td>\n",
       "      <td>34.91</td>\n",
       "      <td>1010</td>\n",
       "      <td>80</td>\n",
       "      <td>25.26</td>\n",
       "      <td>0.00</td>\n",
       "      <td>81</td>\n",
       "      <td>10000</td>\n",
       "      <td>2.72</td>\n",
       "      <td>146</td>\n",
       "      <td>3.57</td>\n",
       "      <td>[{'id': 803, 'main': 'Clouds', 'description': ...</td>\n",
       "      <td>0.24</td>\n",
       "      <td>NaN</td>\n",
       "    </tr>\n",
       "  </tbody>\n",
       "</table>\n",
       "</div>"
      ],
      "text/plain": [
       "           dt   temp  feels_like  pressure  humidity  dew_point   uvi  clouds  \\\n",
       "0  1631095200  30.42       37.42      1008        75      25.49  0.18      68   \n",
       "1  1631098800  30.75       37.75      1008        76      26.03  0.00      68   \n",
       "2  1631102400  30.24       37.24      1008        77      25.76  0.00      69   \n",
       "3  1631106000  29.67       36.15      1009        78      25.42  0.00      81   \n",
       "4  1631109600  29.06       34.91      1010        80      25.26  0.00      81   \n",
       "\n",
       "   visibility  wind_speed  wind_deg  wind_gust  \\\n",
       "0       10000        3.42       138       3.52   \n",
       "1       10000        3.22       137       3.75   \n",
       "2       10000        2.90       138       3.55   \n",
       "3       10000        2.91       139       3.74   \n",
       "4       10000        2.72       146       3.57   \n",
       "\n",
       "                                             weather   pop rain  \n",
       "0  [{'id': 803, 'main': 'Clouds', 'description': ...  0.02  NaN  \n",
       "1  [{'id': 803, 'main': 'Clouds', 'description': ...  0.06  NaN  \n",
       "2  [{'id': 803, 'main': 'Clouds', 'description': ...  0.15  NaN  \n",
       "3  [{'id': 803, 'main': 'Clouds', 'description': ...  0.32  NaN  \n",
       "4  [{'id': 803, 'main': 'Clouds', 'description': ...  0.24  NaN  "
      ]
     },
     "execution_count": 10,
     "metadata": {},
     "output_type": "execute_result"
    }
   ],
   "source": [
    "df_hourly.head()"
   ]
  },
  {
   "cell_type": "code",
   "execution_count": null,
   "metadata": {},
   "outputs": [],
   "source": []
  }
 ],
 "metadata": {
  "interpreter": {
   "hash": "c1b4cfe941b6d2466ad1fb5979e97da9cda8801728c8091b097ab734208fc00c"
  },
  "kernelspec": {
   "display_name": "Python 3.8.3 64-bit ('base': conda)",
   "name": "python3"
  },
  "language_info": {
   "codemirror_mode": {
    "name": "ipython",
    "version": 3
   },
   "file_extension": ".py",
   "mimetype": "text/x-python",
   "name": "python",
   "nbconvert_exporter": "python",
   "pygments_lexer": "ipython3",
   "version": "3.8.11"
  }
 },
 "nbformat": 4,
 "nbformat_minor": 2
}
