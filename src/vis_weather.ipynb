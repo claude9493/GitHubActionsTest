{
 "cells": [
  {
   "cell_type": "code",
   "execution_count": 1,
   "metadata": {
    "execution": {
     "iopub.execute_input": "2021-10-14T08:14:05.633679Z",
     "iopub.status.busy": "2021-10-14T08:14:05.632948Z",
     "iopub.status.idle": "2021-10-14T08:14:08.909690Z",
     "shell.execute_reply": "2021-10-14T08:14:08.910170Z"
    }
   },
   "outputs": [],
   "source": [
    "import json, yaml, requests\r\n",
    "from datetime import datetime\r\n",
    "from dateutil import tz\r\n",
    "import pandas as pd\r\n",
    "from PIL import Image\r\n",
    "from io import BytesIO\r\n",
    "import matplotlib.pyplot as plt\r\n",
    "import seaborn\r\n",
    "\r\n",
    "CONFIG_PATH = \"../config/config.yaml\""
   ]
  },
  {
   "cell_type": "code",
   "execution_count": 2,
   "metadata": {
    "execution": {
     "iopub.execute_input": "2021-10-14T08:14:08.917293Z",
     "iopub.status.busy": "2021-10-14T08:14:08.916675Z",
     "iopub.status.idle": "2021-10-14T08:14:08.921837Z",
     "shell.execute_reply": "2021-10-14T08:14:08.921366Z"
    }
   },
   "outputs": [],
   "source": [
    "with open('../newest_ts', 'r') as f:\r\n",
    "    newest_ts = f.read()\r\n",
    "\r\n",
    "data_path = f\"../data/data_{newest_ts}.json\"\r\n",
    "with open(data_path, 'r') as f:\r\n",
    "    data = json.load(f)\r\n",
    "\r\n",
    "with open(CONFIG_PATH, \"r\") as stream:\r\n",
    "    config = yaml.safe_load(stream)\r\n",
    "\r\n",
    "TIME_ZONE = config['time_zone']\r\n",
    "DATETIME_FORMAT = config['dt_format']"
   ]
  },
  {
   "cell_type": "code",
   "execution_count": 3,
   "metadata": {
    "execution": {
     "iopub.execute_input": "2021-10-14T08:14:08.928012Z",
     "iopub.status.busy": "2021-10-14T08:14:08.927073Z",
     "iopub.status.idle": "2021-10-14T08:14:08.935276Z",
     "shell.execute_reply": "2021-10-14T08:14:08.935838Z"
    }
   },
   "outputs": [
    {
     "name": "stdout",
     "output_type": "stream",
     "text": [
      "Recent query happens at 2021-10-14 16:14:00 (CST).\n"
     ]
    }
   ],
   "source": [
    "def ts2dt(ts, format=DATETIME_FORMAT):\r\n",
    "    dt = (datetime.utcfromtimestamp(int(ts))\r\n",
    "                    .replace(tzinfo=tz.tzutc())\r\n",
    "                    # .astimezone(tz.tzlocal())\r\n",
    "                    .astimezone(tz.gettz(TIME_ZONE)))\r\n",
    "    return dt.strftime(format), dt\r\n",
    "\r\n",
    "_, newest_dt = ts2dt(newest_ts)\r\n",
    "print(f\"Recent query happens at {newest_dt.strftime(DATETIME_FORMAT)} ({newest_dt.tzname()}).\")"
   ]
  },
  {
   "cell_type": "code",
   "execution_count": 4,
   "metadata": {
    "execution": {
     "iopub.execute_input": "2021-10-14T08:14:08.941758Z",
     "iopub.status.busy": "2021-10-14T08:14:08.940289Z",
     "iopub.status.idle": "2021-10-14T08:14:08.942364Z",
     "shell.execute_reply": "2021-10-14T08:14:08.942799Z"
    }
   },
   "outputs": [],
   "source": [
    "def degrees_to_cardinal(d):\r\n",
    "  dirs = ['N', 'NNE', 'NE', 'ENE', 'E', 'ESE', 'SE', 'SSE', 'S', 'SSW', 'SW', 'WSW', 'W', 'WNW', 'NW', 'NNW']\r\n",
    "  ix = int(round(d / (360. / len(dirs))))\r\n",
    "  return dirs[ix % len(dirs)]"
   ]
  },
  {
   "cell_type": "code",
   "execution_count": 5,
   "metadata": {
    "execution": {
     "iopub.execute_input": "2021-10-14T08:14:08.948212Z",
     "iopub.status.busy": "2021-10-14T08:14:08.946868Z",
     "iopub.status.idle": "2021-10-14T08:14:08.948845Z",
     "shell.execute_reply": "2021-10-14T08:14:08.949285Z"
    }
   },
   "outputs": [],
   "source": [
    "# data.keys()"
   ]
  },
  {
   "cell_type": "code",
   "execution_count": 6,
   "metadata": {
    "execution": {
     "iopub.execute_input": "2021-10-14T08:14:08.954433Z",
     "iopub.status.busy": "2021-10-14T08:14:08.953018Z",
     "iopub.status.idle": "2021-10-14T08:14:08.955290Z",
     "shell.execute_reply": "2021-10-14T08:14:08.955796Z"
    }
   },
   "outputs": [],
   "source": [
    "# data['current']"
   ]
  },
  {
   "cell_type": "code",
   "execution_count": 7,
   "metadata": {
    "execution": {
     "iopub.execute_input": "2021-10-14T08:14:08.977447Z",
     "iopub.status.busy": "2021-10-14T08:14:08.971345Z",
     "iopub.status.idle": "2021-10-14T08:14:09.445863Z",
     "shell.execute_reply": "2021-10-14T08:14:09.446849Z"
    }
   },
   "outputs": [
    {
     "data": {
      "image/png": "[encoded data removed]",
      "text/plain": [
       "<Figure size 216x216 with 1 Axes>"
      ]
     },
     "metadata": {
      "needs_background": "light"
     },
     "output_type": "display_data"
    },
    {
     "name": "stdout",
     "output_type": "stream",
     "text": [
      "Today, sun rises at 06:18 and sets at 17:59.\n",
      "Currently, the weather is Clouds (scattered clouds).\n",
      "The temperature is 29.77°C and it feels like 36.44°C.\n",
      "The UV index is 1.74, humidity is 78%.\n",
      "The pressure is 1007 hPa, percentage of cloud cover is 48%\n",
      "The wind comes from E direction with a speed 0.45 m/s.\n"
     ]
    }
   ],
   "source": [
    "current = data['current']\r\n",
    "\r\n",
    "fig, ax = plt.subplots(figsize=(3, 3))\r\n",
    "icon = requests.get(f\"http://openweathermap.org/img/wn/{current['weather'][0]['icon']}@2x.png\")\r\n",
    "im = Image.open(BytesIO(icon.content))\r\n",
    "plt.imshow(im)\r\n",
    "ax.set_axis_off()\r\n",
    "plt.show()\r\n",
    "\r\n",
    "print(f\"Today, sun rises at {ts2dt(current['sunrise'], '%H:%M')[0]} \\\r\n",
    "and sets at {ts2dt(current['sunset'], '%H:%M')[0]}.\\n\\\r\n",
    "Currently, the weather is {current['weather'][0]['main']} ({current['weather'][0]['description']}).\\n\\\r\n",
    "The temperature is {current['temp']}°C and it feels like {current['feels_like']}°C.\\n\\\r\n",
    "The UV index is {current['uvi']}, humidity is {current['humidity']}%.\\n\\\r\n",
    "The pressure is {current['pressure']} hPa, percentage of cloud cover is {current['clouds']}%\\n\\\r\n",
    "The wind comes from {degrees_to_cardinal(current['wind_deg'])} direction with a speed {current['wind_speed']} m/s.\")"
   ]
  },
  {
   "cell_type": "code",
   "execution_count": 8,
   "metadata": {
    "execution": {
     "iopub.execute_input": "2021-10-14T08:14:09.451249Z",
     "iopub.status.busy": "2021-10-14T08:14:09.449978Z",
     "iopub.status.idle": "2021-10-14T08:14:09.459176Z",
     "shell.execute_reply": "2021-10-14T08:14:09.460098Z"
    }
   },
   "outputs": [],
   "source": [
    "df_hourly = pd.DataFrame(data['hourly'])\r\n",
    "df_daily = pd.DataFrame(data['daily'])"
   ]
  },
  {
   "cell_type": "code",
   "execution_count": 9,
   "metadata": {
    "execution": {
     "iopub.execute_input": "2021-10-14T08:14:09.463905Z",
     "iopub.status.busy": "2021-10-14T08:14:09.462508Z",
     "iopub.status.idle": "2021-10-14T08:14:09.782221Z",
     "shell.execute_reply": "2021-10-14T08:14:09.783168Z"
    }
   },
   "outputs": [
    {
     "data": {
      "image/png": "[encoded data removed]",
      "text/plain": [
       "<Figure size 864x432 with 1 Axes>"
      ]
     },
     "metadata": {
      "needs_background": "light"
     },
     "output_type": "display_data"
    }
   ],
   "source": [
    "fig, ax = plt.subplots(figsize=(12, 6))\r\n",
    "plt.plot(df_hourly.temp, '.-', label='Temperature')\r\n",
    "plt.plot(df_hourly.feels_like, '.-', label='Feels Like')\r\n",
    "ax.set(title='Temperature in future 48 hours', xlabel='Time', ylabel='Temperature')\r\n",
    "ax.set_xticks(list(range(0, len(df_hourly), 2)))\r\n",
    "ax.set_xticklabels([ts2dt(ts, '%m-%d %H:%M')[0] for i, ts in enumerate(df_hourly.dt) if i%2==0], \r\n",
    "                   rotation=45, ha=\"right\")\r\n",
    "ax.locator_params(nbins=15, axis='y')\r\n",
    "plt.legend()\r\n",
    "plt.show()"
   ]
  },
  {
   "cell_type": "code",
   "execution_count": 10,
   "metadata": {
    "execution": {
     "iopub.execute_input": "2021-10-14T08:14:09.787094Z",
     "iopub.status.busy": "2021-10-14T08:14:09.786391Z",
     "iopub.status.idle": "2021-10-14T08:14:09.809838Z",
     "shell.execute_reply": "2021-10-14T08:14:09.810262Z"
    }
   },
   "outputs": [
    {
     "data": {
      "text/html": [
       "<div>\n",
       "<style scoped>\n",
       "    .dataframe tbody tr th:only-of-type {\n",
       "        vertical-align: middle;\n",
       "    }\n",
       "\n",
       "    .dataframe tbody tr th {\n",
       "        vertical-align: top;\n",
       "    }\n",
       "\n",
       "    .dataframe thead th {\n",
       "        text-align: right;\n",
       "    }\n",
       "</style>\n",
       "<table border=\"1\" class=\"dataframe\">\n",
       "  <thead>\n",
       "    <tr style=\"text-align: right;\">\n",
       "      <th></th>\n",
       "      <th>dt</th>\n",
       "      <th>temp</th>\n",
       "      <th>feels_like</th>\n",
       "      <th>pressure</th>\n",
       "      <th>humidity</th>\n",
       "      <th>dew_point</th>\n",
       "      <th>uvi</th>\n",
       "      <th>clouds</th>\n",
       "      <th>visibility</th>\n",
       "      <th>wind_speed</th>\n",
       "      <th>wind_deg</th>\n",
       "      <th>wind_gust</th>\n",
       "      <th>weather</th>\n",
       "      <th>pop</th>\n",
       "      <th>rain</th>\n",
       "    </tr>\n",
       "  </thead>\n",
       "  <tbody>\n",
       "    <tr>\n",
       "      <th>0</th>\n",
       "      <td>1634198400</td>\n",
       "      <td>29.77</td>\n",
       "      <td>36.44</td>\n",
       "      <td>1007</td>\n",
       "      <td>78</td>\n",
       "      <td>25.52</td>\n",
       "      <td>1.74</td>\n",
       "      <td>48</td>\n",
       "      <td>10000</td>\n",
       "      <td>5.10</td>\n",
       "      <td>65</td>\n",
       "      <td>6.37</td>\n",
       "      <td>[{'id': 802, 'main': 'Clouds', 'description': ...</td>\n",
       "      <td>0.72</td>\n",
       "      <td>NaN</td>\n",
       "    </tr>\n",
       "    <tr>\n",
       "      <th>1</th>\n",
       "      <td>1634202000</td>\n",
       "      <td>29.35</td>\n",
       "      <td>35.49</td>\n",
       "      <td>1007</td>\n",
       "      <td>79</td>\n",
       "      <td>25.33</td>\n",
       "      <td>0.48</td>\n",
       "      <td>51</td>\n",
       "      <td>10000</td>\n",
       "      <td>4.42</td>\n",
       "      <td>69</td>\n",
       "      <td>5.93</td>\n",
       "      <td>[{'id': 500, 'main': 'Rain', 'description': 'l...</td>\n",
       "      <td>0.92</td>\n",
       "      <td>{'1h': 0.13}</td>\n",
       "    </tr>\n",
       "    <tr>\n",
       "      <th>2</th>\n",
       "      <td>1634205600</td>\n",
       "      <td>28.57</td>\n",
       "      <td>33.76</td>\n",
       "      <td>1008</td>\n",
       "      <td>81</td>\n",
       "      <td>24.99</td>\n",
       "      <td>0.00</td>\n",
       "      <td>58</td>\n",
       "      <td>10000</td>\n",
       "      <td>4.22</td>\n",
       "      <td>68</td>\n",
       "      <td>5.96</td>\n",
       "      <td>[{'id': 803, 'main': 'Clouds', 'description': ...</td>\n",
       "      <td>0.80</td>\n",
       "      <td>NaN</td>\n",
       "    </tr>\n",
       "    <tr>\n",
       "      <th>3</th>\n",
       "      <td>1634209200</td>\n",
       "      <td>27.66</td>\n",
       "      <td>31.67</td>\n",
       "      <td>1009</td>\n",
       "      <td>83</td>\n",
       "      <td>24.51</td>\n",
       "      <td>0.00</td>\n",
       "      <td>67</td>\n",
       "      <td>10000</td>\n",
       "      <td>4.46</td>\n",
       "      <td>64</td>\n",
       "      <td>6.23</td>\n",
       "      <td>[{'id': 500, 'main': 'Rain', 'description': 'l...</td>\n",
       "      <td>1.00</td>\n",
       "      <td>{'1h': 0.68}</td>\n",
       "    </tr>\n",
       "    <tr>\n",
       "      <th>4</th>\n",
       "      <td>1634212800</td>\n",
       "      <td>26.70</td>\n",
       "      <td>29.56</td>\n",
       "      <td>1009</td>\n",
       "      <td>86</td>\n",
       "      <td>24.16</td>\n",
       "      <td>0.00</td>\n",
       "      <td>75</td>\n",
       "      <td>10000</td>\n",
       "      <td>3.94</td>\n",
       "      <td>63</td>\n",
       "      <td>5.50</td>\n",
       "      <td>[{'id': 500, 'main': 'Rain', 'description': 'l...</td>\n",
       "      <td>1.00</td>\n",
       "      <td>{'1h': 0.45}</td>\n",
       "    </tr>\n",
       "  </tbody>\n",
       "</table>\n",
       "</div>"
      ],
      "text/plain": [
       "           dt   temp  feels_like  pressure  humidity  dew_point   uvi  clouds  \\\n",
       "0  1634198400  29.77       36.44      1007        78      25.52  1.74      48   \n",
       "1  1634202000  29.35       35.49      1007        79      25.33  0.48      51   \n",
       "2  1634205600  28.57       33.76      1008        81      24.99  0.00      58   \n",
       "3  1634209200  27.66       31.67      1009        83      24.51  0.00      67   \n",
       "4  1634212800  26.70       29.56      1009        86      24.16  0.00      75   \n",
       "\n",
       "   visibility  wind_speed  wind_deg  wind_gust  \\\n",
       "0       10000        5.10        65       6.37   \n",
       "1       10000        4.42        69       5.93   \n",
       "2       10000        4.22        68       5.96   \n",
       "3       10000        4.46        64       6.23   \n",
       "4       10000        3.94        63       5.50   \n",
       "\n",
       "                                             weather   pop          rain  \n",
       "0  [{'id': 802, 'main': 'Clouds', 'description': ...  0.72           NaN  \n",
       "1  [{'id': 500, 'main': 'Rain', 'description': 'l...  0.92  {'1h': 0.13}  \n",
       "2  [{'id': 803, 'main': 'Clouds', 'description': ...  0.80           NaN  \n",
       "3  [{'id': 500, 'main': 'Rain', 'description': 'l...  1.00  {'1h': 0.68}  \n",
       "4  [{'id': 500, 'main': 'Rain', 'description': 'l...  1.00  {'1h': 0.45}  "
      ]
     },
     "execution_count": 10,
     "metadata": {},
     "output_type": "execute_result"
    }
   ],
   "source": [
    "df_hourly.head()"
   ]
  },
  {
   "cell_type": "code",
   "execution_count": null,
   "metadata": {},
   "outputs": [],
   "source": []
  }
 ],
 "metadata": {
  "interpreter": {
   "hash": "c1b4cfe941b6d2466ad1fb5979e97da9cda8801728c8091b097ab734208fc00c"
  },
  "kernelspec": {
   "display_name": "Python 3.8.3 64-bit ('base': conda)",
   "name": "python3"
  },
  "language_info": {
   "codemirror_mode": {
    "name": "ipython",
    "version": 3
   },
   "file_extension": ".py",
   "mimetype": "text/x-python",
   "name": "python",
   "nbconvert_exporter": "python",
   "pygments_lexer": "ipython3",
   "version": "3.8.12"
  }
 },
 "nbformat": 4,
 "nbformat_minor": 2
}
