{
 "cells": [
  {
   "cell_type": "code",
   "execution_count": 1,
   "metadata": {
    "execution": {
     "iopub.execute_input": "2021-08-29T23:15:20.746684Z",
     "iopub.status.busy": "2021-08-29T23:15:20.746086Z",
     "iopub.status.idle": "2021-08-29T23:15:22.205781Z",
     "shell.execute_reply": "2021-08-29T23:15:22.204968Z"
    }
   },
   "outputs": [],
   "source": [
    "import json, yaml, requests\r\n",
    "from datetime import datetime\r\n",
    "from dateutil import tz\r\n",
    "import pandas as pd\r\n",
    "from PIL import Image\r\n",
    "from io import BytesIO\r\n",
    "import matplotlib.pyplot as plt\r\n",
    "import seaborn\r\n",
    "\r\n",
    "CONFIG_PATH = \"../config/config.yaml\""
   ]
  },
  {
   "cell_type": "code",
   "execution_count": 2,
   "metadata": {
    "execution": {
     "iopub.execute_input": "2021-08-29T23:15:22.214417Z",
     "iopub.status.busy": "2021-08-29T23:15:22.213876Z",
     "iopub.status.idle": "2021-08-29T23:15:22.217423Z",
     "shell.execute_reply": "2021-08-29T23:15:22.216995Z"
    }
   },
   "outputs": [],
   "source": [
    "with open('../newest_ts', 'r') as f:\r\n",
    "    newest_ts = f.read()\r\n",
    "\r\n",
    "data_path = f\"../data/data_{newest_ts}.json\"\r\n",
    "with open(data_path, 'r') as f:\r\n",
    "    data = json.load(f)\r\n",
    "\r\n",
    "with open(CONFIG_PATH, \"r\") as stream:\r\n",
    "    config = yaml.safe_load(stream)\r\n",
    "\r\n",
    "TIME_ZONE = config['time_zone']\r\n",
    "DATETIME_FORMAT = config['dt_format']"
   ]
  },
  {
   "cell_type": "code",
   "execution_count": 3,
   "metadata": {
    "execution": {
     "iopub.execute_input": "2021-08-29T23:15:22.222620Z",
     "iopub.status.busy": "2021-08-29T23:15:22.221927Z",
     "iopub.status.idle": "2021-08-29T23:15:22.231965Z",
     "shell.execute_reply": "2021-08-29T23:15:22.230994Z"
    }
   },
   "outputs": [
    {
     "name": "stdout",
     "output_type": "stream",
     "text": [
      "Recent query happens at 2021-08-30 07:15:17 (CST).\n"
     ]
    }
   ],
   "source": [
    "def ts2dt(ts, format=DATETIME_FORMAT):\r\n",
    "    dt = (datetime.utcfromtimestamp(int(ts))\r\n",
    "                    .replace(tzinfo=tz.tzutc())\r\n",
    "                    # .astimezone(tz.tzlocal())\r\n",
    "                    .astimezone(tz.gettz(TIME_ZONE)))\r\n",
    "    return dt.strftime(format), dt\r\n",
    "\r\n",
    "_, newest_dt = ts2dt(newest_ts)\r\n",
    "print(f\"Recent query happens at {newest_dt.strftime(DATETIME_FORMAT)} ({newest_dt.tzname()}).\")"
   ]
  },
  {
   "cell_type": "code",
   "execution_count": 4,
   "metadata": {
    "execution": {
     "iopub.execute_input": "2021-08-29T23:15:22.241710Z",
     "iopub.status.busy": "2021-08-29T23:15:22.241111Z",
     "iopub.status.idle": "2021-08-29T23:15:22.243929Z",
     "shell.execute_reply": "2021-08-29T23:15:22.244366Z"
    }
   },
   "outputs": [],
   "source": [
    "def degrees_to_cardinal(d):\r\n",
    "  dirs = ['N', 'NNE', 'NE', 'ENE', 'E', 'ESE', 'SE', 'SSE', 'S', 'SSW', 'SW', 'WSW', 'W', 'WNW', 'NW', 'NNW']\r\n",
    "  ix = int(round(d / (360. / len(dirs))))\r\n",
    "  return dirs[ix % len(dirs)]"
   ]
  },
  {
   "cell_type": "code",
   "execution_count": 5,
   "metadata": {
    "execution": {
     "iopub.execute_input": "2021-08-29T23:15:22.248932Z",
     "iopub.status.busy": "2021-08-29T23:15:22.246994Z",
     "iopub.status.idle": "2021-08-29T23:15:22.251146Z",
     "shell.execute_reply": "2021-08-29T23:15:22.251569Z"
    }
   },
   "outputs": [],
   "source": [
    "# data.keys()"
   ]
  },
  {
   "cell_type": "code",
   "execution_count": 6,
   "metadata": {
    "execution": {
     "iopub.execute_input": "2021-08-29T23:15:22.256473Z",
     "iopub.status.busy": "2021-08-29T23:15:22.255062Z",
     "iopub.status.idle": "2021-08-29T23:15:22.257069Z",
     "shell.execute_reply": "2021-08-29T23:15:22.257540Z"
    }
   },
   "outputs": [],
   "source": [
    "# data['current']"
   ]
  },
  {
   "cell_type": "code",
   "execution_count": 7,
   "metadata": {
    "execution": {
     "iopub.execute_input": "2021-08-29T23:15:22.278390Z",
     "iopub.status.busy": "2021-08-29T23:15:22.264293Z",
     "iopub.status.idle": "2021-08-29T23:15:22.586187Z",
     "shell.execute_reply": "2021-08-29T23:15:22.585732Z"
    }
   },
   "outputs": [
    {
     "data": {
      "image/png": "[encoded data removed]",
      "text/plain": [
       "<Figure size 216x216 with 1 Axes>"
      ]
     },
     "metadata": {
      "needs_background": "light"
     },
     "output_type": "display_data"
    },
    {
     "name": "stdout",
     "output_type": "stream",
     "text": [
      "Today, sun rises at 06:05 and sets at 18:42.\n",
      "Currently, the weather is Clouds (scattered clouds).\n",
      "The temperature is 28.2°C and it feels like 33.83°C.\n",
      "The UV index is 0.35, humidity is 87%.\n",
      "The pressure is 1012 hPa, percentage of cloud cover is 27%\n",
      "The wind comes from ENE direction with a speed 3.82 m/s.\n"
     ]
    }
   ],
   "source": [
    "current = data['current']\r\n",
    "\r\n",
    "fig, ax = plt.subplots(figsize=(3, 3))\r\n",
    "icon = requests.get(f\"http://openweathermap.org/img/wn/{current['weather'][0]['icon']}@2x.png\")\r\n",
    "im = Image.open(BytesIO(icon.content))\r\n",
    "plt.imshow(im)\r\n",
    "ax.set_axis_off()\r\n",
    "plt.show()\r\n",
    "\r\n",
    "print(f\"Today, sun rises at {ts2dt(current['sunrise'], '%H:%M')[0]} \\\r\n",
    "and sets at {ts2dt(current['sunset'], '%H:%M')[0]}.\\n\\\r\n",
    "Currently, the weather is {current['weather'][0]['main']} ({current['weather'][0]['description']}).\\n\\\r\n",
    "The temperature is {current['temp']}°C and it feels like {current['feels_like']}°C.\\n\\\r\n",
    "The UV index is {current['uvi']}, humidity is {current['humidity']}%.\\n\\\r\n",
    "The pressure is {current['pressure']} hPa, percentage of cloud cover is {current['clouds']}%\\n\\\r\n",
    "The wind comes from {degrees_to_cardinal(current['wind_deg'])} direction with a speed {current['wind_speed']} m/s.\")"
   ]
  },
  {
   "cell_type": "code",
   "execution_count": 8,
   "metadata": {
    "execution": {
     "iopub.execute_input": "2021-08-29T23:15:22.591867Z",
     "iopub.status.busy": "2021-08-29T23:15:22.591208Z",
     "iopub.status.idle": "2021-08-29T23:15:22.595174Z",
     "shell.execute_reply": "2021-08-29T23:15:22.595610Z"
    }
   },
   "outputs": [],
   "source": [
    "df_hourly = pd.DataFrame(data['hourly'])\r\n",
    "df_daily = pd.DataFrame(data['daily'])"
   ]
  },
  {
   "cell_type": "code",
   "execution_count": 9,
   "metadata": {
    "execution": {
     "iopub.execute_input": "2021-08-29T23:15:22.606722Z",
     "iopub.status.busy": "2021-08-29T23:15:22.603186Z",
     "iopub.status.idle": "2021-08-29T23:15:22.882424Z",
     "shell.execute_reply": "2021-08-29T23:15:22.882859Z"
    }
   },
   "outputs": [
    {
     "data": {
      "image/png": "[encoded data removed]",
      "text/plain": [
       "<Figure size 864x432 with 1 Axes>"
      ]
     },
     "metadata": {
      "needs_background": "light"
     },
     "output_type": "display_data"
    }
   ],
   "source": [
    "fig, ax = plt.subplots(figsize=(12, 6))\r\n",
    "plt.plot(df_hourly.temp, '.-', label='Temperature')\r\n",
    "plt.plot(df_hourly.feels_like, '.-', label='Feels Like')\r\n",
    "ax.set(title='Temperature in future 48 hours', xlabel='Time', ylabel='Temperature')\r\n",
    "ax.set_xticks(list(range(0, len(df_hourly), 2)))\r\n",
    "ax.set_xticklabels([ts2dt(ts, '%m-%d %H:%M')[0] for i, ts in enumerate(df_hourly.dt) if i%2==0], \r\n",
    "                   rotation=45, ha=\"right\")\r\n",
    "ax.locator_params(nbins=15, axis='y')\r\n",
    "plt.legend()\r\n",
    "plt.show()"
   ]
  },
  {
   "cell_type": "code",
   "execution_count": 10,
   "metadata": {
    "execution": {
     "iopub.execute_input": "2021-08-29T23:15:22.887332Z",
     "iopub.status.busy": "2021-08-29T23:15:22.885309Z",
     "iopub.status.idle": "2021-08-29T23:15:22.906580Z",
     "shell.execute_reply": "2021-08-29T23:15:22.906129Z"
    }
   },
   "outputs": [
    {
     "data": {
      "text/html": [
       "<div>\n",
       "<style scoped>\n",
       "    .dataframe tbody tr th:only-of-type {\n",
       "        vertical-align: middle;\n",
       "    }\n",
       "\n",
       "    .dataframe tbody tr th {\n",
       "        vertical-align: top;\n",
       "    }\n",
       "\n",
       "    .dataframe thead th {\n",
       "        text-align: right;\n",
       "    }\n",
       "</style>\n",
       "<table border=\"1\" class=\"dataframe\">\n",
       "  <thead>\n",
       "    <tr style=\"text-align: right;\">\n",
       "      <th></th>\n",
       "      <th>dt</th>\n",
       "      <th>temp</th>\n",
       "      <th>feels_like</th>\n",
       "      <th>pressure</th>\n",
       "      <th>humidity</th>\n",
       "      <th>dew_point</th>\n",
       "      <th>uvi</th>\n",
       "      <th>clouds</th>\n",
       "      <th>visibility</th>\n",
       "      <th>wind_speed</th>\n",
       "      <th>wind_deg</th>\n",
       "      <th>wind_gust</th>\n",
       "      <th>weather</th>\n",
       "      <th>pop</th>\n",
       "      <th>rain</th>\n",
       "    </tr>\n",
       "  </thead>\n",
       "  <tbody>\n",
       "    <tr>\n",
       "      <th>0</th>\n",
       "      <td>1630278000</td>\n",
       "      <td>28.20</td>\n",
       "      <td>33.83</td>\n",
       "      <td>1012</td>\n",
       "      <td>87</td>\n",
       "      <td>25.83</td>\n",
       "      <td>0.35</td>\n",
       "      <td>27</td>\n",
       "      <td>10000</td>\n",
       "      <td>3.82</td>\n",
       "      <td>69</td>\n",
       "      <td>4.87</td>\n",
       "      <td>[{'id': 802, 'main': 'Clouds', 'description': ...</td>\n",
       "      <td>0.44</td>\n",
       "      <td>NaN</td>\n",
       "    </tr>\n",
       "    <tr>\n",
       "      <th>1</th>\n",
       "      <td>1630281600</td>\n",
       "      <td>28.19</td>\n",
       "      <td>33.44</td>\n",
       "      <td>1012</td>\n",
       "      <td>85</td>\n",
       "      <td>25.43</td>\n",
       "      <td>1.55</td>\n",
       "      <td>27</td>\n",
       "      <td>10000</td>\n",
       "      <td>4.28</td>\n",
       "      <td>68</td>\n",
       "      <td>5.23</td>\n",
       "      <td>[{'id': 802, 'main': 'Clouds', 'description': ...</td>\n",
       "      <td>0.44</td>\n",
       "      <td>NaN</td>\n",
       "    </tr>\n",
       "    <tr>\n",
       "      <th>2</th>\n",
       "      <td>1630285200</td>\n",
       "      <td>28.39</td>\n",
       "      <td>33.46</td>\n",
       "      <td>1012</td>\n",
       "      <td>82</td>\n",
       "      <td>25.02</td>\n",
       "      <td>3.98</td>\n",
       "      <td>23</td>\n",
       "      <td>10000</td>\n",
       "      <td>4.64</td>\n",
       "      <td>71</td>\n",
       "      <td>5.66</td>\n",
       "      <td>[{'id': 500, 'main': 'Rain', 'description': 'l...</td>\n",
       "      <td>0.20</td>\n",
       "      <td>{'1h': 0.18}</td>\n",
       "    </tr>\n",
       "    <tr>\n",
       "      <th>3</th>\n",
       "      <td>1630288800</td>\n",
       "      <td>28.77</td>\n",
       "      <td>33.91</td>\n",
       "      <td>1013</td>\n",
       "      <td>79</td>\n",
       "      <td>24.76</td>\n",
       "      <td>7.12</td>\n",
       "      <td>21</td>\n",
       "      <td>10000</td>\n",
       "      <td>5.14</td>\n",
       "      <td>75</td>\n",
       "      <td>5.86</td>\n",
       "      <td>[{'id': 801, 'main': 'Clouds', 'description': ...</td>\n",
       "      <td>0.03</td>\n",
       "      <td>NaN</td>\n",
       "    </tr>\n",
       "    <tr>\n",
       "      <th>4</th>\n",
       "      <td>1630292400</td>\n",
       "      <td>29.31</td>\n",
       "      <td>34.26</td>\n",
       "      <td>1012</td>\n",
       "      <td>74</td>\n",
       "      <td>24.19</td>\n",
       "      <td>10.02</td>\n",
       "      <td>17</td>\n",
       "      <td>10000</td>\n",
       "      <td>5.31</td>\n",
       "      <td>76</td>\n",
       "      <td>5.85</td>\n",
       "      <td>[{'id': 801, 'main': 'Clouds', 'description': ...</td>\n",
       "      <td>0.03</td>\n",
       "      <td>NaN</td>\n",
       "    </tr>\n",
       "  </tbody>\n",
       "</table>\n",
       "</div>"
      ],
      "text/plain": [
       "           dt   temp  feels_like  pressure  humidity  dew_point    uvi  \\\n",
       "0  1630278000  28.20       33.83      1012        87      25.83   0.35   \n",
       "1  1630281600  28.19       33.44      1012        85      25.43   1.55   \n",
       "2  1630285200  28.39       33.46      1012        82      25.02   3.98   \n",
       "3  1630288800  28.77       33.91      1013        79      24.76   7.12   \n",
       "4  1630292400  29.31       34.26      1012        74      24.19  10.02   \n",
       "\n",
       "   clouds  visibility  wind_speed  wind_deg  wind_gust  \\\n",
       "0      27       10000        3.82        69       4.87   \n",
       "1      27       10000        4.28        68       5.23   \n",
       "2      23       10000        4.64        71       5.66   \n",
       "3      21       10000        5.14        75       5.86   \n",
       "4      17       10000        5.31        76       5.85   \n",
       "\n",
       "                                             weather   pop          rain  \n",
       "0  [{'id': 802, 'main': 'Clouds', 'description': ...  0.44           NaN  \n",
       "1  [{'id': 802, 'main': 'Clouds', 'description': ...  0.44           NaN  \n",
       "2  [{'id': 500, 'main': 'Rain', 'description': 'l...  0.20  {'1h': 0.18}  \n",
       "3  [{'id': 801, 'main': 'Clouds', 'description': ...  0.03           NaN  \n",
       "4  [{'id': 801, 'main': 'Clouds', 'description': ...  0.03           NaN  "
      ]
     },
     "execution_count": 10,
     "metadata": {},
     "output_type": "execute_result"
    }
   ],
   "source": [
    "df_hourly.head()"
   ]
  },
  {
   "cell_type": "code",
   "execution_count": null,
   "metadata": {},
   "outputs": [],
   "source": []
  }
 ],
 "metadata": {
  "interpreter": {
   "hash": "c1b4cfe941b6d2466ad1fb5979e97da9cda8801728c8091b097ab734208fc00c"
  },
  "kernelspec": {
   "display_name": "Python 3.8.3 64-bit ('base': conda)",
   "name": "python3"
  },
  "language_info": {
   "codemirror_mode": {
    "name": "ipython",
    "version": 3
   },
   "file_extension": ".py",
   "mimetype": "text/x-python",
   "name": "python",
   "nbconvert_exporter": "python",
   "pygments_lexer": "ipython3",
   "version": "3.8.11"
  }
 },
 "nbformat": 4,
 "nbformat_minor": 2
}
