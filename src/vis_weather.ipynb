{
 "cells": [
  {
   "cell_type": "code",
   "execution_count": 1,
   "metadata": {
    "execution": {
     "iopub.execute_input": "2021-10-13T07:11:54.545472Z",
     "iopub.status.busy": "2021-10-13T07:11:54.543379Z",
     "iopub.status.idle": "2021-10-13T07:11:55.937739Z",
     "shell.execute_reply": "2021-10-13T07:11:55.936788Z"
    }
   },
   "outputs": [],
   "source": [
    "import json, yaml, requests\r\n",
    "from datetime import datetime\r\n",
    "from dateutil import tz\r\n",
    "import pandas as pd\r\n",
    "from PIL import Image\r\n",
    "from io import BytesIO\r\n",
    "import matplotlib.pyplot as plt\r\n",
    "import seaborn\r\n",
    "\r\n",
    "CONFIG_PATH = \"../config/config.yaml\""
   ]
  },
  {
   "cell_type": "code",
   "execution_count": 2,
   "metadata": {
    "execution": {
     "iopub.execute_input": "2021-10-13T07:11:55.946403Z",
     "iopub.status.busy": "2021-10-13T07:11:55.942748Z",
     "iopub.status.idle": "2021-10-13T07:11:55.949244Z",
     "shell.execute_reply": "2021-10-13T07:11:55.948780Z"
    }
   },
   "outputs": [],
   "source": [
    "with open('../newest_ts', 'r') as f:\r\n",
    "    newest_ts = f.read()\r\n",
    "\r\n",
    "data_path = f\"../data/data_{newest_ts}.json\"\r\n",
    "with open(data_path, 'r') as f:\r\n",
    "    data = json.load(f)\r\n",
    "\r\n",
    "with open(CONFIG_PATH, \"r\") as stream:\r\n",
    "    config = yaml.safe_load(stream)\r\n",
    "\r\n",
    "TIME_ZONE = config['time_zone']\r\n",
    "DATETIME_FORMAT = config['dt_format']"
   ]
  },
  {
   "cell_type": "code",
   "execution_count": 3,
   "metadata": {
    "execution": {
     "iopub.execute_input": "2021-10-13T07:11:55.954257Z",
     "iopub.status.busy": "2021-10-13T07:11:55.953725Z",
     "iopub.status.idle": "2021-10-13T07:11:55.965272Z",
     "shell.execute_reply": "2021-10-13T07:11:55.965722Z"
    }
   },
   "outputs": [
    {
     "name": "stdout",
     "output_type": "stream",
     "text": [
      "Recent query happens at 2021-10-13 15:11:51 (CST).\n"
     ]
    }
   ],
   "source": [
    "def ts2dt(ts, format=DATETIME_FORMAT):\r\n",
    "    dt = (datetime.utcfromtimestamp(int(ts))\r\n",
    "                    .replace(tzinfo=tz.tzutc())\r\n",
    "                    # .astimezone(tz.tzlocal())\r\n",
    "                    .astimezone(tz.gettz(TIME_ZONE)))\r\n",
    "    return dt.strftime(format), dt\r\n",
    "\r\n",
    "_, newest_dt = ts2dt(newest_ts)\r\n",
    "print(f\"Recent query happens at {newest_dt.strftime(DATETIME_FORMAT)} ({newest_dt.tzname()}).\")"
   ]
  },
  {
   "cell_type": "code",
   "execution_count": 4,
   "metadata": {
    "execution": {
     "iopub.execute_input": "2021-10-13T07:11:55.971656Z",
     "iopub.status.busy": "2021-10-13T07:11:55.970295Z",
     "iopub.status.idle": "2021-10-13T07:11:55.972263Z",
     "shell.execute_reply": "2021-10-13T07:11:55.972689Z"
    }
   },
   "outputs": [],
   "source": [
    "def degrees_to_cardinal(d):\r\n",
    "  dirs = ['N', 'NNE', 'NE', 'ENE', 'E', 'ESE', 'SE', 'SSE', 'S', 'SSW', 'SW', 'WSW', 'W', 'WNW', 'NW', 'NNW']\r\n",
    "  ix = int(round(d / (360. / len(dirs))))\r\n",
    "  return dirs[ix % len(dirs)]"
   ]
  },
  {
   "cell_type": "code",
   "execution_count": 5,
   "metadata": {
    "execution": {
     "iopub.execute_input": "2021-10-13T07:11:55.977740Z",
     "iopub.status.busy": "2021-10-13T07:11:55.976380Z",
     "iopub.status.idle": "2021-10-13T07:11:55.978439Z",
     "shell.execute_reply": "2021-10-13T07:11:55.978889Z"
    }
   },
   "outputs": [],
   "source": [
    "# data.keys()"
   ]
  },
  {
   "cell_type": "code",
   "execution_count": 6,
   "metadata": {
    "execution": {
     "iopub.execute_input": "2021-10-13T07:11:55.990199Z",
     "iopub.status.busy": "2021-10-13T07:11:55.980932Z",
     "iopub.status.idle": "2021-10-13T07:11:55.992321Z",
     "shell.execute_reply": "2021-10-13T07:11:55.991807Z"
    }
   },
   "outputs": [],
   "source": [
    "# data['current']"
   ]
  },
  {
   "cell_type": "code",
   "execution_count": 7,
   "metadata": {
    "execution": {
     "iopub.execute_input": "2021-10-13T07:11:56.008845Z",
     "iopub.status.busy": "2021-10-13T07:11:56.008269Z",
     "iopub.status.idle": "2021-10-13T07:11:56.282670Z",
     "shell.execute_reply": "2021-10-13T07:11:56.283455Z"
    }
   },
   "outputs": [
    {
     "data": {
      "image/png": "[encoded data removed]",
      "text/plain": [
       "<Figure size 216x216 with 1 Axes>"
      ]
     },
     "metadata": {
      "needs_background": "light"
     },
     "output_type": "display_data"
    },
    {
     "name": "stdout",
     "output_type": "stream",
     "text": [
      "Today, sun rises at 06:18 and sets at 17:59.\n",
      "Currently, the weather is Rain (moderate rain).\n",
      "The temperature is 25.94°C and it feels like 27.02°C.\n",
      "The UV index is 0.73, humidity is 93%.\n",
      "The pressure is 1002 hPa, percentage of cloud cover is 100%\n",
      "The wind comes from NE direction with a speed 1.79 m/s.\n"
     ]
    }
   ],
   "source": [
    "current = data['current']\r\n",
    "\r\n",
    "fig, ax = plt.subplots(figsize=(3, 3))\r\n",
    "icon = requests.get(f\"http://openweathermap.org/img/wn/{current['weather'][0]['icon']}@2x.png\")\r\n",
    "im = Image.open(BytesIO(icon.content))\r\n",
    "plt.imshow(im)\r\n",
    "ax.set_axis_off()\r\n",
    "plt.show()\r\n",
    "\r\n",
    "print(f\"Today, sun rises at {ts2dt(current['sunrise'], '%H:%M')[0]} \\\r\n",
    "and sets at {ts2dt(current['sunset'], '%H:%M')[0]}.\\n\\\r\n",
    "Currently, the weather is {current['weather'][0]['main']} ({current['weather'][0]['description']}).\\n\\\r\n",
    "The temperature is {current['temp']}°C and it feels like {current['feels_like']}°C.\\n\\\r\n",
    "The UV index is {current['uvi']}, humidity is {current['humidity']}%.\\n\\\r\n",
    "The pressure is {current['pressure']} hPa, percentage of cloud cover is {current['clouds']}%\\n\\\r\n",
    "The wind comes from {degrees_to_cardinal(current['wind_deg'])} direction with a speed {current['wind_speed']} m/s.\")"
   ]
  },
  {
   "cell_type": "code",
   "execution_count": 8,
   "metadata": {
    "execution": {
     "iopub.execute_input": "2021-10-13T07:11:56.287503Z",
     "iopub.status.busy": "2021-10-13T07:11:56.286420Z",
     "iopub.status.idle": "2021-10-13T07:11:56.294294Z",
     "shell.execute_reply": "2021-10-13T07:11:56.295053Z"
    }
   },
   "outputs": [],
   "source": [
    "df_hourly = pd.DataFrame(data['hourly'])\r\n",
    "df_daily = pd.DataFrame(data['daily'])"
   ]
  },
  {
   "cell_type": "code",
   "execution_count": 9,
   "metadata": {
    "execution": {
     "iopub.execute_input": "2021-10-13T07:11:56.298835Z",
     "iopub.status.busy": "2021-10-13T07:11:56.297489Z",
     "iopub.status.idle": "2021-10-13T07:11:56.597957Z",
     "shell.execute_reply": "2021-10-13T07:11:56.597508Z"
    }
   },
   "outputs": [
    {
     "data": {
      "image/png": "[encoded data removed]",
      "text/plain": [
       "<Figure size 864x432 with 1 Axes>"
      ]
     },
     "metadata": {
      "needs_background": "light"
     },
     "output_type": "display_data"
    }
   ],
   "source": [
    "fig, ax = plt.subplots(figsize=(12, 6))\r\n",
    "plt.plot(df_hourly.temp, '.-', label='Temperature')\r\n",
    "plt.plot(df_hourly.feels_like, '.-', label='Feels Like')\r\n",
    "ax.set(title='Temperature in future 48 hours', xlabel='Time', ylabel='Temperature')\r\n",
    "ax.set_xticks(list(range(0, len(df_hourly), 2)))\r\n",
    "ax.set_xticklabels([ts2dt(ts, '%m-%d %H:%M')[0] for i, ts in enumerate(df_hourly.dt) if i%2==0], \r\n",
    "                   rotation=45, ha=\"right\")\r\n",
    "ax.locator_params(nbins=15, axis='y')\r\n",
    "plt.legend()\r\n",
    "plt.show()"
   ]
  },
  {
   "cell_type": "code",
   "execution_count": 10,
   "metadata": {
    "execution": {
     "iopub.execute_input": "2021-10-13T07:11:56.602415Z",
     "iopub.status.busy": "2021-10-13T07:11:56.600316Z",
     "iopub.status.idle": "2021-10-13T07:11:56.624264Z",
     "shell.execute_reply": "2021-10-13T07:11:56.623775Z"
    }
   },
   "outputs": [
    {
     "data": {
      "text/html": [
       "<div>\n",
       "<style scoped>\n",
       "    .dataframe tbody tr th:only-of-type {\n",
       "        vertical-align: middle;\n",
       "    }\n",
       "\n",
       "    .dataframe tbody tr th {\n",
       "        vertical-align: top;\n",
       "    }\n",
       "\n",
       "    .dataframe thead th {\n",
       "        text-align: right;\n",
       "    }\n",
       "</style>\n",
       "<table border=\"1\" class=\"dataframe\">\n",
       "  <thead>\n",
       "    <tr style=\"text-align: right;\">\n",
       "      <th></th>\n",
       "      <th>dt</th>\n",
       "      <th>temp</th>\n",
       "      <th>feels_like</th>\n",
       "      <th>pressure</th>\n",
       "      <th>humidity</th>\n",
       "      <th>dew_point</th>\n",
       "      <th>uvi</th>\n",
       "      <th>clouds</th>\n",
       "      <th>visibility</th>\n",
       "      <th>wind_speed</th>\n",
       "      <th>wind_deg</th>\n",
       "      <th>wind_gust</th>\n",
       "      <th>weather</th>\n",
       "      <th>pop</th>\n",
       "      <th>rain</th>\n",
       "    </tr>\n",
       "  </thead>\n",
       "  <tbody>\n",
       "    <tr>\n",
       "      <th>0</th>\n",
       "      <td>1634108400</td>\n",
       "      <td>25.94</td>\n",
       "      <td>27.02</td>\n",
       "      <td>1002</td>\n",
       "      <td>93</td>\n",
       "      <td>24.72</td>\n",
       "      <td>0.73</td>\n",
       "      <td>100</td>\n",
       "      <td>9688</td>\n",
       "      <td>13.20</td>\n",
       "      <td>96</td>\n",
       "      <td>17.39</td>\n",
       "      <td>[{'id': 501, 'main': 'Rain', 'description': 'm...</td>\n",
       "      <td>1.0</td>\n",
       "      <td>{'1h': 1.38}</td>\n",
       "    </tr>\n",
       "    <tr>\n",
       "      <th>1</th>\n",
       "      <td>1634112000</td>\n",
       "      <td>26.04</td>\n",
       "      <td>26.04</td>\n",
       "      <td>1002</td>\n",
       "      <td>91</td>\n",
       "      <td>24.45</td>\n",
       "      <td>0.35</td>\n",
       "      <td>100</td>\n",
       "      <td>10000</td>\n",
       "      <td>10.74</td>\n",
       "      <td>94</td>\n",
       "      <td>14.73</td>\n",
       "      <td>[{'id': 502, 'main': 'Rain', 'description': 'h...</td>\n",
       "      <td>1.0</td>\n",
       "      <td>{'1h': 9.99}</td>\n",
       "    </tr>\n",
       "    <tr>\n",
       "      <th>2</th>\n",
       "      <td>1634115600</td>\n",
       "      <td>26.12</td>\n",
       "      <td>26.12</td>\n",
       "      <td>1003</td>\n",
       "      <td>90</td>\n",
       "      <td>24.35</td>\n",
       "      <td>0.10</td>\n",
       "      <td>100</td>\n",
       "      <td>10000</td>\n",
       "      <td>10.64</td>\n",
       "      <td>90</td>\n",
       "      <td>13.95</td>\n",
       "      <td>[{'id': 501, 'main': 'Rain', 'description': 'm...</td>\n",
       "      <td>1.0</td>\n",
       "      <td>{'1h': 2.05}</td>\n",
       "    </tr>\n",
       "    <tr>\n",
       "      <th>3</th>\n",
       "      <td>1634119200</td>\n",
       "      <td>26.17</td>\n",
       "      <td>26.17</td>\n",
       "      <td>1004</td>\n",
       "      <td>88</td>\n",
       "      <td>24.02</td>\n",
       "      <td>0.00</td>\n",
       "      <td>99</td>\n",
       "      <td>10000</td>\n",
       "      <td>10.39</td>\n",
       "      <td>90</td>\n",
       "      <td>13.52</td>\n",
       "      <td>[{'id': 500, 'main': 'Rain', 'description': 'l...</td>\n",
       "      <td>1.0</td>\n",
       "      <td>{'1h': 0.63}</td>\n",
       "    </tr>\n",
       "    <tr>\n",
       "      <th>4</th>\n",
       "      <td>1634122800</td>\n",
       "      <td>26.10</td>\n",
       "      <td>26.10</td>\n",
       "      <td>1005</td>\n",
       "      <td>87</td>\n",
       "      <td>23.77</td>\n",
       "      <td>0.00</td>\n",
       "      <td>99</td>\n",
       "      <td>10000</td>\n",
       "      <td>10.52</td>\n",
       "      <td>83</td>\n",
       "      <td>14.13</td>\n",
       "      <td>[{'id': 500, 'main': 'Rain', 'description': 'l...</td>\n",
       "      <td>1.0</td>\n",
       "      <td>{'1h': 0.86}</td>\n",
       "    </tr>\n",
       "  </tbody>\n",
       "</table>\n",
       "</div>"
      ],
      "text/plain": [
       "           dt   temp  feels_like  pressure  humidity  dew_point   uvi  clouds  \\\n",
       "0  1634108400  25.94       27.02      1002        93      24.72  0.73     100   \n",
       "1  1634112000  26.04       26.04      1002        91      24.45  0.35     100   \n",
       "2  1634115600  26.12       26.12      1003        90      24.35  0.10     100   \n",
       "3  1634119200  26.17       26.17      1004        88      24.02  0.00      99   \n",
       "4  1634122800  26.10       26.10      1005        87      23.77  0.00      99   \n",
       "\n",
       "   visibility  wind_speed  wind_deg  wind_gust  \\\n",
       "0        9688       13.20        96      17.39   \n",
       "1       10000       10.74        94      14.73   \n",
       "2       10000       10.64        90      13.95   \n",
       "3       10000       10.39        90      13.52   \n",
       "4       10000       10.52        83      14.13   \n",
       "\n",
       "                                             weather  pop          rain  \n",
       "0  [{'id': 501, 'main': 'Rain', 'description': 'm...  1.0  {'1h': 1.38}  \n",
       "1  [{'id': 502, 'main': 'Rain', 'description': 'h...  1.0  {'1h': 9.99}  \n",
       "2  [{'id': 501, 'main': 'Rain', 'description': 'm...  1.0  {'1h': 2.05}  \n",
       "3  [{'id': 500, 'main': 'Rain', 'description': 'l...  1.0  {'1h': 0.63}  \n",
       "4  [{'id': 500, 'main': 'Rain', 'description': 'l...  1.0  {'1h': 0.86}  "
      ]
     },
     "execution_count": 10,
     "metadata": {},
     "output_type": "execute_result"
    }
   ],
   "source": [
    "df_hourly.head()"
   ]
  },
  {
   "cell_type": "code",
   "execution_count": null,
   "metadata": {},
   "outputs": [],
   "source": []
  }
 ],
 "metadata": {
  "interpreter": {
   "hash": "c1b4cfe941b6d2466ad1fb5979e97da9cda8801728c8091b097ab734208fc00c"
  },
  "kernelspec": {
   "display_name": "Python 3.8.3 64-bit ('base': conda)",
   "name": "python3"
  },
  "language_info": {
   "codemirror_mode": {
    "name": "ipython",
    "version": 3
   },
   "file_extension": ".py",
   "mimetype": "text/x-python",
   "name": "python",
   "nbconvert_exporter": "python",
   "pygments_lexer": "ipython3",
   "version": "3.8.12"
  }
 },
 "nbformat": 4,
 "nbformat_minor": 2
}
