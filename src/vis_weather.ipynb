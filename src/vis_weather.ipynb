{
 "cells": [
  {
   "cell_type": "code",
   "execution_count": 1,
   "metadata": {
    "execution": {
     "iopub.execute_input": "2021-09-18T04:14:21.775297Z",
     "iopub.status.busy": "2021-09-18T04:14:21.774766Z",
     "iopub.status.idle": "2021-09-18T04:14:24.395726Z",
     "shell.execute_reply": "2021-09-18T04:14:24.394788Z"
    }
   },
   "outputs": [],
   "source": [
    "import json, yaml, requests\r\n",
    "from datetime import datetime\r\n",
    "from dateutil import tz\r\n",
    "import pandas as pd\r\n",
    "from PIL import Image\r\n",
    "from io import BytesIO\r\n",
    "import matplotlib.pyplot as plt\r\n",
    "import seaborn\r\n",
    "\r\n",
    "CONFIG_PATH = \"../config/config.yaml\""
   ]
  },
  {
   "cell_type": "code",
   "execution_count": 2,
   "metadata": {
    "execution": {
     "iopub.execute_input": "2021-09-18T04:14:24.399249Z",
     "iopub.status.busy": "2021-09-18T04:14:24.398555Z",
     "iopub.status.idle": "2021-09-18T04:14:24.406172Z",
     "shell.execute_reply": "2021-09-18T04:14:24.406600Z"
    }
   },
   "outputs": [],
   "source": [
    "with open('../newest_ts', 'r') as f:\r\n",
    "    newest_ts = f.read()\r\n",
    "\r\n",
    "data_path = f\"../data/data_{newest_ts}.json\"\r\n",
    "with open(data_path, 'r') as f:\r\n",
    "    data = json.load(f)\r\n",
    "\r\n",
    "with open(CONFIG_PATH, \"r\") as stream:\r\n",
    "    config = yaml.safe_load(stream)\r\n",
    "\r\n",
    "TIME_ZONE = config['time_zone']\r\n",
    "DATETIME_FORMAT = config['dt_format']"
   ]
  },
  {
   "cell_type": "code",
   "execution_count": 3,
   "metadata": {
    "execution": {
     "iopub.execute_input": "2021-09-18T04:14:24.411458Z",
     "iopub.status.busy": "2021-09-18T04:14:24.410996Z",
     "iopub.status.idle": "2021-09-18T04:14:24.421235Z",
     "shell.execute_reply": "2021-09-18T04:14:24.421671Z"
    }
   },
   "outputs": [
    {
     "name": "stdout",
     "output_type": "stream",
     "text": [
      "Recent query happens at 2021-09-18 12:14:18 (CST).\n"
     ]
    }
   ],
   "source": [
    "def ts2dt(ts, format=DATETIME_FORMAT):\r\n",
    "    dt = (datetime.utcfromtimestamp(int(ts))\r\n",
    "                    .replace(tzinfo=tz.tzutc())\r\n",
    "                    # .astimezone(tz.tzlocal())\r\n",
    "                    .astimezone(tz.gettz(TIME_ZONE)))\r\n",
    "    return dt.strftime(format), dt\r\n",
    "\r\n",
    "_, newest_dt = ts2dt(newest_ts)\r\n",
    "print(f\"Recent query happens at {newest_dt.strftime(DATETIME_FORMAT)} ({newest_dt.tzname()}).\")"
   ]
  },
  {
   "cell_type": "code",
   "execution_count": 4,
   "metadata": {
    "execution": {
     "iopub.execute_input": "2021-09-18T04:14:24.426757Z",
     "iopub.status.busy": "2021-09-18T04:14:24.425585Z",
     "iopub.status.idle": "2021-09-18T04:14:24.427272Z",
     "shell.execute_reply": "2021-09-18T04:14:24.427664Z"
    }
   },
   "outputs": [],
   "source": [
    "def degrees_to_cardinal(d):\r\n",
    "  dirs = ['N', 'NNE', 'NE', 'ENE', 'E', 'ESE', 'SE', 'SSE', 'S', 'SSW', 'SW', 'WSW', 'W', 'WNW', 'NW', 'NNW']\r\n",
    "  ix = int(round(d / (360. / len(dirs))))\r\n",
    "  return dirs[ix % len(dirs)]"
   ]
  },
  {
   "cell_type": "code",
   "execution_count": 5,
   "metadata": {
    "execution": {
     "iopub.execute_input": "2021-09-18T04:14:24.433688Z",
     "iopub.status.busy": "2021-09-18T04:14:24.432371Z",
     "iopub.status.idle": "2021-09-18T04:14:24.434372Z",
     "shell.execute_reply": "2021-09-18T04:14:24.434787Z"
    }
   },
   "outputs": [],
   "source": [
    "# data.keys()"
   ]
  },
  {
   "cell_type": "code",
   "execution_count": 6,
   "metadata": {
    "execution": {
     "iopub.execute_input": "2021-09-18T04:14:24.439320Z",
     "iopub.status.busy": "2021-09-18T04:14:24.437524Z",
     "iopub.status.idle": "2021-09-18T04:14:24.439891Z",
     "shell.execute_reply": "2021-09-18T04:14:24.440307Z"
    }
   },
   "outputs": [],
   "source": [
    "# data['current']"
   ]
  },
  {
   "cell_type": "code",
   "execution_count": 7,
   "metadata": {
    "execution": {
     "iopub.execute_input": "2021-09-18T04:14:24.460686Z",
     "iopub.status.busy": "2021-09-18T04:14:24.460028Z",
     "iopub.status.idle": "2021-09-18T04:14:24.919092Z",
     "shell.execute_reply": "2021-09-18T04:14:24.918162Z"
    }
   },
   "outputs": [
    {
     "data": {
      "image/png": "[encoded data removed]",
      "text/plain": [
       "<Figure size 216x216 with 1 Axes>"
      ]
     },
     "metadata": {
      "needs_background": "light"
     },
     "output_type": "display_data"
    },
    {
     "name": "stdout",
     "output_type": "stream",
     "text": [
      "Today, sun rises at 06:10 and sets at 18:24.\n",
      "Currently, the weather is Clouds (overcast clouds).\n",
      "The temperature is 31.86°C and it feels like 38.86°C.\n",
      "The UV index is 8.98, humidity is 75%.\n",
      "The pressure is 1012 hPa, percentage of cloud cover is 89%\n",
      "The wind comes from E direction with a speed 5.27 m/s.\n"
     ]
    }
   ],
   "source": [
    "current = data['current']\r\n",
    "\r\n",
    "fig, ax = plt.subplots(figsize=(3, 3))\r\n",
    "icon = requests.get(f\"http://openweathermap.org/img/wn/{current['weather'][0]['icon']}@2x.png\")\r\n",
    "im = Image.open(BytesIO(icon.content))\r\n",
    "plt.imshow(im)\r\n",
    "ax.set_axis_off()\r\n",
    "plt.show()\r\n",
    "\r\n",
    "print(f\"Today, sun rises at {ts2dt(current['sunrise'], '%H:%M')[0]} \\\r\n",
    "and sets at {ts2dt(current['sunset'], '%H:%M')[0]}.\\n\\\r\n",
    "Currently, the weather is {current['weather'][0]['main']} ({current['weather'][0]['description']}).\\n\\\r\n",
    "The temperature is {current['temp']}°C and it feels like {current['feels_like']}°C.\\n\\\r\n",
    "The UV index is {current['uvi']}, humidity is {current['humidity']}%.\\n\\\r\n",
    "The pressure is {current['pressure']} hPa, percentage of cloud cover is {current['clouds']}%\\n\\\r\n",
    "The wind comes from {degrees_to_cardinal(current['wind_deg'])} direction with a speed {current['wind_speed']} m/s.\")"
   ]
  },
  {
   "cell_type": "code",
   "execution_count": 8,
   "metadata": {
    "execution": {
     "iopub.execute_input": "2021-09-18T04:14:24.926075Z",
     "iopub.status.busy": "2021-09-18T04:14:24.925568Z",
     "iopub.status.idle": "2021-09-18T04:14:24.929513Z",
     "shell.execute_reply": "2021-09-18T04:14:24.930119Z"
    }
   },
   "outputs": [],
   "source": [
    "df_hourly = pd.DataFrame(data['hourly'])\r\n",
    "df_daily = pd.DataFrame(data['daily'])"
   ]
  },
  {
   "cell_type": "code",
   "execution_count": 9,
   "metadata": {
    "execution": {
     "iopub.execute_input": "2021-09-18T04:14:24.940699Z",
     "iopub.status.busy": "2021-09-18T04:14:24.939088Z",
     "iopub.status.idle": "2021-09-18T04:14:25.280550Z",
     "shell.execute_reply": "2021-09-18T04:14:25.281258Z"
    }
   },
   "outputs": [
    {
     "data": {
      "image/png": "[encoded data removed]",
      "text/plain": [
       "<Figure size 864x432 with 1 Axes>"
      ]
     },
     "metadata": {
      "needs_background": "light"
     },
     "output_type": "display_data"
    }
   ],
   "source": [
    "fig, ax = plt.subplots(figsize=(12, 6))\r\n",
    "plt.plot(df_hourly.temp, '.-', label='Temperature')\r\n",
    "plt.plot(df_hourly.feels_like, '.-', label='Feels Like')\r\n",
    "ax.set(title='Temperature in future 48 hours', xlabel='Time', ylabel='Temperature')\r\n",
    "ax.set_xticks(list(range(0, len(df_hourly), 2)))\r\n",
    "ax.set_xticklabels([ts2dt(ts, '%m-%d %H:%M')[0] for i, ts in enumerate(df_hourly.dt) if i%2==0], \r\n",
    "                   rotation=45, ha=\"right\")\r\n",
    "ax.locator_params(nbins=15, axis='y')\r\n",
    "plt.legend()\r\n",
    "plt.show()"
   ]
  },
  {
   "cell_type": "code",
   "execution_count": 10,
   "metadata": {
    "execution": {
     "iopub.execute_input": "2021-09-18T04:14:25.286380Z",
     "iopub.status.busy": "2021-09-18T04:14:25.285722Z",
     "iopub.status.idle": "2021-09-18T04:14:25.306056Z",
     "shell.execute_reply": "2021-09-18T04:14:25.305357Z"
    }
   },
   "outputs": [
    {
     "data": {
      "text/html": [
       "<div>\n",
       "<style scoped>\n",
       "    .dataframe tbody tr th:only-of-type {\n",
       "        vertical-align: middle;\n",
       "    }\n",
       "\n",
       "    .dataframe tbody tr th {\n",
       "        vertical-align: top;\n",
       "    }\n",
       "\n",
       "    .dataframe thead th {\n",
       "        text-align: right;\n",
       "    }\n",
       "</style>\n",
       "<table border=\"1\" class=\"dataframe\">\n",
       "  <thead>\n",
       "    <tr style=\"text-align: right;\">\n",
       "      <th></th>\n",
       "      <th>dt</th>\n",
       "      <th>temp</th>\n",
       "      <th>feels_like</th>\n",
       "      <th>pressure</th>\n",
       "      <th>humidity</th>\n",
       "      <th>dew_point</th>\n",
       "      <th>uvi</th>\n",
       "      <th>clouds</th>\n",
       "      <th>visibility</th>\n",
       "      <th>wind_speed</th>\n",
       "      <th>wind_deg</th>\n",
       "      <th>wind_gust</th>\n",
       "      <th>weather</th>\n",
       "      <th>pop</th>\n",
       "      <th>rain</th>\n",
       "    </tr>\n",
       "  </thead>\n",
       "  <tbody>\n",
       "    <tr>\n",
       "      <th>0</th>\n",
       "      <td>1631937600</td>\n",
       "      <td>31.86</td>\n",
       "      <td>38.86</td>\n",
       "      <td>1012</td>\n",
       "      <td>75</td>\n",
       "      <td>26.87</td>\n",
       "      <td>8.98</td>\n",
       "      <td>89</td>\n",
       "      <td>10000</td>\n",
       "      <td>5.27</td>\n",
       "      <td>88</td>\n",
       "      <td>5.78</td>\n",
       "      <td>[{'id': 804, 'main': 'Clouds', 'description': ...</td>\n",
       "      <td>0.64</td>\n",
       "      <td>NaN</td>\n",
       "    </tr>\n",
       "    <tr>\n",
       "      <th>1</th>\n",
       "      <td>1631941200</td>\n",
       "      <td>31.47</td>\n",
       "      <td>38.47</td>\n",
       "      <td>1012</td>\n",
       "      <td>74</td>\n",
       "      <td>26.27</td>\n",
       "      <td>8.82</td>\n",
       "      <td>89</td>\n",
       "      <td>10000</td>\n",
       "      <td>5.67</td>\n",
       "      <td>90</td>\n",
       "      <td>5.75</td>\n",
       "      <td>[{'id': 804, 'main': 'Clouds', 'description': ...</td>\n",
       "      <td>0.64</td>\n",
       "      <td>NaN</td>\n",
       "    </tr>\n",
       "    <tr>\n",
       "      <th>2</th>\n",
       "      <td>1631944800</td>\n",
       "      <td>30.98</td>\n",
       "      <td>37.98</td>\n",
       "      <td>1011</td>\n",
       "      <td>74</td>\n",
       "      <td>25.80</td>\n",
       "      <td>7.24</td>\n",
       "      <td>90</td>\n",
       "      <td>10000</td>\n",
       "      <td>5.90</td>\n",
       "      <td>92</td>\n",
       "      <td>6.02</td>\n",
       "      <td>[{'id': 500, 'main': 'Rain', 'description': 'l...</td>\n",
       "      <td>0.59</td>\n",
       "      <td>{'1h': 0.1}</td>\n",
       "    </tr>\n",
       "    <tr>\n",
       "      <th>3</th>\n",
       "      <td>1631948400</td>\n",
       "      <td>30.35</td>\n",
       "      <td>37.27</td>\n",
       "      <td>1011</td>\n",
       "      <td>75</td>\n",
       "      <td>25.42</td>\n",
       "      <td>4.85</td>\n",
       "      <td>96</td>\n",
       "      <td>10000</td>\n",
       "      <td>5.42</td>\n",
       "      <td>96</td>\n",
       "      <td>5.97</td>\n",
       "      <td>[{'id': 804, 'main': 'Clouds', 'description': ...</td>\n",
       "      <td>0.17</td>\n",
       "      <td>NaN</td>\n",
       "    </tr>\n",
       "    <tr>\n",
       "      <th>4</th>\n",
       "      <td>1631952000</td>\n",
       "      <td>29.76</td>\n",
       "      <td>35.65</td>\n",
       "      <td>1010</td>\n",
       "      <td>75</td>\n",
       "      <td>24.85</td>\n",
       "      <td>2.45</td>\n",
       "      <td>98</td>\n",
       "      <td>10000</td>\n",
       "      <td>5.15</td>\n",
       "      <td>99</td>\n",
       "      <td>6.16</td>\n",
       "      <td>[{'id': 804, 'main': 'Clouds', 'description': ...</td>\n",
       "      <td>0.24</td>\n",
       "      <td>NaN</td>\n",
       "    </tr>\n",
       "  </tbody>\n",
       "</table>\n",
       "</div>"
      ],
      "text/plain": [
       "           dt   temp  feels_like  pressure  humidity  dew_point   uvi  clouds  \\\n",
       "0  1631937600  31.86       38.86      1012        75      26.87  8.98      89   \n",
       "1  1631941200  31.47       38.47      1012        74      26.27  8.82      89   \n",
       "2  1631944800  30.98       37.98      1011        74      25.80  7.24      90   \n",
       "3  1631948400  30.35       37.27      1011        75      25.42  4.85      96   \n",
       "4  1631952000  29.76       35.65      1010        75      24.85  2.45      98   \n",
       "\n",
       "   visibility  wind_speed  wind_deg  wind_gust  \\\n",
       "0       10000        5.27        88       5.78   \n",
       "1       10000        5.67        90       5.75   \n",
       "2       10000        5.90        92       6.02   \n",
       "3       10000        5.42        96       5.97   \n",
       "4       10000        5.15        99       6.16   \n",
       "\n",
       "                                             weather   pop         rain  \n",
       "0  [{'id': 804, 'main': 'Clouds', 'description': ...  0.64          NaN  \n",
       "1  [{'id': 804, 'main': 'Clouds', 'description': ...  0.64          NaN  \n",
       "2  [{'id': 500, 'main': 'Rain', 'description': 'l...  0.59  {'1h': 0.1}  \n",
       "3  [{'id': 804, 'main': 'Clouds', 'description': ...  0.17          NaN  \n",
       "4  [{'id': 804, 'main': 'Clouds', 'description': ...  0.24          NaN  "
      ]
     },
     "execution_count": 10,
     "metadata": {},
     "output_type": "execute_result"
    }
   ],
   "source": [
    "df_hourly.head()"
   ]
  },
  {
   "cell_type": "code",
   "execution_count": null,
   "metadata": {},
   "outputs": [],
   "source": []
  }
 ],
 "metadata": {
  "interpreter": {
   "hash": "c1b4cfe941b6d2466ad1fb5979e97da9cda8801728c8091b097ab734208fc00c"
  },
  "kernelspec": {
   "display_name": "Python 3.8.3 64-bit ('base': conda)",
   "name": "python3"
  },
  "language_info": {
   "codemirror_mode": {
    "name": "ipython",
    "version": 3
   },
   "file_extension": ".py",
   "mimetype": "text/x-python",
   "name": "python",
   "nbconvert_exporter": "python",
   "pygments_lexer": "ipython3",
   "version": "3.8.11"
  }
 },
 "nbformat": 4,
 "nbformat_minor": 2
}
