{
 "cells": [
  {
   "cell_type": "code",
   "execution_count": 1,
   "metadata": {
    "execution": {
     "iopub.execute_input": "2021-10-18T17:18:22.222025Z",
     "iopub.status.busy": "2021-10-18T17:18:22.221332Z",
     "iopub.status.idle": "2021-10-18T17:18:24.776062Z",
     "shell.execute_reply": "2021-10-18T17:18:24.775401Z"
    }
   },
   "outputs": [],
   "source": [
    "import json, yaml, requests\r\n",
    "from datetime import datetime\r\n",
    "from dateutil import tz\r\n",
    "import pandas as pd\r\n",
    "from PIL import Image\r\n",
    "from io import BytesIO\r\n",
    "import matplotlib.pyplot as plt\r\n",
    "import seaborn\r\n",
    "\r\n",
    "CONFIG_PATH = \"../config/config.yaml\""
   ]
  },
  {
   "cell_type": "code",
   "execution_count": 2,
   "metadata": {
    "execution": {
     "iopub.execute_input": "2021-10-18T17:18:24.784952Z",
     "iopub.status.busy": "2021-10-18T17:18:24.781016Z",
     "iopub.status.idle": "2021-10-18T17:18:24.788090Z",
     "shell.execute_reply": "2021-10-18T17:18:24.787526Z"
    }
   },
   "outputs": [],
   "source": [
    "with open('../newest_ts', 'r') as f:\r\n",
    "    newest_ts = f.read()\r\n",
    "\r\n",
    "data_path = f\"../data/data_{newest_ts}.json\"\r\n",
    "with open(data_path, 'r') as f:\r\n",
    "    data = json.load(f)\r\n",
    "\r\n",
    "with open(CONFIG_PATH, \"r\") as stream:\r\n",
    "    config = yaml.safe_load(stream)\r\n",
    "\r\n",
    "TIME_ZONE = config['time_zone']\r\n",
    "DATETIME_FORMAT = config['dt_format']"
   ]
  },
  {
   "cell_type": "code",
   "execution_count": 3,
   "metadata": {
    "execution": {
     "iopub.execute_input": "2021-10-18T17:18:24.795276Z",
     "iopub.status.busy": "2021-10-18T17:18:24.793853Z",
     "iopub.status.idle": "2021-10-18T17:18:24.802121Z",
     "shell.execute_reply": "2021-10-18T17:18:24.801586Z"
    }
   },
   "outputs": [
    {
     "name": "stdout",
     "output_type": "stream",
     "text": [
      "Recent query happens at 2021-10-19 01:18:18 (CST).\n"
     ]
    }
   ],
   "source": [
    "def ts2dt(ts, format=DATETIME_FORMAT):\r\n",
    "    dt = (datetime.utcfromtimestamp(int(ts))\r\n",
    "                    .replace(tzinfo=tz.tzutc())\r\n",
    "                    # .astimezone(tz.tzlocal())\r\n",
    "                    .astimezone(tz.gettz(TIME_ZONE)))\r\n",
    "    return dt.strftime(format), dt\r\n",
    "\r\n",
    "_, newest_dt = ts2dt(newest_ts)\r\n",
    "print(f\"Recent query happens at {newest_dt.strftime(DATETIME_FORMAT)} ({newest_dt.tzname()}).\")"
   ]
  },
  {
   "cell_type": "code",
   "execution_count": 4,
   "metadata": {
    "execution": {
     "iopub.execute_input": "2021-10-18T17:18:24.807323Z",
     "iopub.status.busy": "2021-10-18T17:18:24.806677Z",
     "iopub.status.idle": "2021-10-18T17:18:24.808973Z",
     "shell.execute_reply": "2021-10-18T17:18:24.810744Z"
    }
   },
   "outputs": [],
   "source": [
    "def degrees_to_cardinal(d):\r\n",
    "  dirs = ['N', 'NNE', 'NE', 'ENE', 'E', 'ESE', 'SE', 'SSE', 'S', 'SSW', 'SW', 'WSW', 'W', 'WNW', 'NW', 'NNW']\r\n",
    "  ix = int(round(d / (360. / len(dirs))))\r\n",
    "  return dirs[ix % len(dirs)]"
   ]
  },
  {
   "cell_type": "code",
   "execution_count": 5,
   "metadata": {
    "execution": {
     "iopub.execute_input": "2021-10-18T17:18:24.815947Z",
     "iopub.status.busy": "2021-10-18T17:18:24.814501Z",
     "iopub.status.idle": "2021-10-18T17:18:24.816603Z",
     "shell.execute_reply": "2021-10-18T17:18:24.817096Z"
    }
   },
   "outputs": [],
   "source": [
    "# data.keys()"
   ]
  },
  {
   "cell_type": "code",
   "execution_count": 6,
   "metadata": {
    "execution": {
     "iopub.execute_input": "2021-10-18T17:18:24.822032Z",
     "iopub.status.busy": "2021-10-18T17:18:24.820548Z",
     "iopub.status.idle": "2021-10-18T17:18:24.822706Z",
     "shell.execute_reply": "2021-10-18T17:18:24.823233Z"
    }
   },
   "outputs": [],
   "source": [
    "# data['current']"
   ]
  },
  {
   "cell_type": "code",
   "execution_count": 7,
   "metadata": {
    "execution": {
     "iopub.execute_input": "2021-10-18T17:18:24.845330Z",
     "iopub.status.busy": "2021-10-18T17:18:24.844551Z",
     "iopub.status.idle": "2021-10-18T17:18:25.275088Z",
     "shell.execute_reply": "2021-10-18T17:18:25.275911Z"
    }
   },
   "outputs": [
    {
     "data": {
      "image/png": "[encoded data removed]",
      "text/plain": [
       "<Figure size 216x216 with 1 Axes>"
      ]
     },
     "metadata": {
      "needs_background": "light"
     },
     "output_type": "display_data"
    },
    {
     "name": "stdout",
     "output_type": "stream",
     "text": [
      "Today, sun rises at 06:20 and sets at 17:54.\n",
      "Currently, the weather is Rain (light rain).\n",
      "The temperature is 23.67°C and it feels like 24.13°C.\n",
      "The UV index is 0, humidity is 78%.\n",
      "The pressure is 1017 hPa, percentage of cloud cover is 57%\n",
      "The wind comes from ENE direction with a speed 3.59 m/s.\n"
     ]
    }
   ],
   "source": [
    "current = data['current']\r\n",
    "\r\n",
    "fig, ax = plt.subplots(figsize=(3, 3))\r\n",
    "icon = requests.get(f\"http://openweathermap.org/img/wn/{current['weather'][0]['icon']}@2x.png\")\r\n",
    "im = Image.open(BytesIO(icon.content))\r\n",
    "plt.imshow(im)\r\n",
    "ax.set_axis_off()\r\n",
    "plt.show()\r\n",
    "\r\n",
    "print(f\"Today, sun rises at {ts2dt(current['sunrise'], '%H:%M')[0]} \\\r\n",
    "and sets at {ts2dt(current['sunset'], '%H:%M')[0]}.\\n\\\r\n",
    "Currently, the weather is {current['weather'][0]['main']} ({current['weather'][0]['description']}).\\n\\\r\n",
    "The temperature is {current['temp']}°C and it feels like {current['feels_like']}°C.\\n\\\r\n",
    "The UV index is {current['uvi']}, humidity is {current['humidity']}%.\\n\\\r\n",
    "The pressure is {current['pressure']} hPa, percentage of cloud cover is {current['clouds']}%\\n\\\r\n",
    "The wind comes from {degrees_to_cardinal(current['wind_deg'])} direction with a speed {current['wind_speed']} m/s.\")"
   ]
  },
  {
   "cell_type": "code",
   "execution_count": 8,
   "metadata": {
    "execution": {
     "iopub.execute_input": "2021-10-18T17:18:25.279624Z",
     "iopub.status.busy": "2021-10-18T17:18:25.278985Z",
     "iopub.status.idle": "2021-10-18T17:18:25.287522Z",
     "shell.execute_reply": "2021-10-18T17:18:25.288323Z"
    }
   },
   "outputs": [],
   "source": [
    "df_hourly = pd.DataFrame(data['hourly'])\r\n",
    "df_daily = pd.DataFrame(data['daily'])"
   ]
  },
  {
   "cell_type": "code",
   "execution_count": 9,
   "metadata": {
    "execution": {
     "iopub.execute_input": "2021-10-18T17:18:25.291815Z",
     "iopub.status.busy": "2021-10-18T17:18:25.291188Z",
     "iopub.status.idle": "2021-10-18T17:18:25.639510Z",
     "shell.execute_reply": "2021-10-18T17:18:25.638898Z"
    }
   },
   "outputs": [
    {
     "data": {
      "image/png": "[encoded data removed]",
      "text/plain": [
       "<Figure size 864x432 with 1 Axes>"
      ]
     },
     "metadata": {
      "needs_background": "light"
     },
     "output_type": "display_data"
    }
   ],
   "source": [
    "fig, ax = plt.subplots(figsize=(12, 6))\r\n",
    "plt.plot(df_hourly.temp, '.-', label='Temperature')\r\n",
    "plt.plot(df_hourly.feels_like, '.-', label='Feels Like')\r\n",
    "ax.set(title='Temperature in future 48 hours', xlabel='Time', ylabel='Temperature')\r\n",
    "ax.set_xticks(list(range(0, len(df_hourly), 2)))\r\n",
    "ax.set_xticklabels([ts2dt(ts, '%m-%d %H:%M')[0] for i, ts in enumerate(df_hourly.dt) if i%2==0], \r\n",
    "                   rotation=45, ha=\"right\")\r\n",
    "ax.locator_params(nbins=15, axis='y')\r\n",
    "plt.legend()\r\n",
    "plt.show()"
   ]
  },
  {
   "cell_type": "code",
   "execution_count": 10,
   "metadata": {
    "execution": {
     "iopub.execute_input": "2021-10-18T17:18:25.652848Z",
     "iopub.status.busy": "2021-10-18T17:18:25.643880Z",
     "iopub.status.idle": "2021-10-18T17:18:25.666572Z",
     "shell.execute_reply": "2021-10-18T17:18:25.665657Z"
    }
   },
   "outputs": [
    {
     "data": {
      "text/html": [
       "<div>\n",
       "<style scoped>\n",
       "    .dataframe tbody tr th:only-of-type {\n",
       "        vertical-align: middle;\n",
       "    }\n",
       "\n",
       "    .dataframe tbody tr th {\n",
       "        vertical-align: top;\n",
       "    }\n",
       "\n",
       "    .dataframe thead th {\n",
       "        text-align: right;\n",
       "    }\n",
       "</style>\n",
       "<table border=\"1\" class=\"dataframe\">\n",
       "  <thead>\n",
       "    <tr style=\"text-align: right;\">\n",
       "      <th></th>\n",
       "      <th>dt</th>\n",
       "      <th>temp</th>\n",
       "      <th>feels_like</th>\n",
       "      <th>pressure</th>\n",
       "      <th>humidity</th>\n",
       "      <th>dew_point</th>\n",
       "      <th>uvi</th>\n",
       "      <th>clouds</th>\n",
       "      <th>visibility</th>\n",
       "      <th>wind_speed</th>\n",
       "      <th>wind_deg</th>\n",
       "      <th>wind_gust</th>\n",
       "      <th>weather</th>\n",
       "      <th>pop</th>\n",
       "      <th>rain</th>\n",
       "    </tr>\n",
       "  </thead>\n",
       "  <tbody>\n",
       "    <tr>\n",
       "      <th>0</th>\n",
       "      <td>1634576400</td>\n",
       "      <td>23.67</td>\n",
       "      <td>24.13</td>\n",
       "      <td>1017</td>\n",
       "      <td>78</td>\n",
       "      <td>19.61</td>\n",
       "      <td>0</td>\n",
       "      <td>57</td>\n",
       "      <td>10000</td>\n",
       "      <td>3.59</td>\n",
       "      <td>63</td>\n",
       "      <td>4.17</td>\n",
       "      <td>[{'id': 803, 'main': 'Clouds', 'description': ...</td>\n",
       "      <td>0.0</td>\n",
       "      <td>NaN</td>\n",
       "    </tr>\n",
       "    <tr>\n",
       "      <th>1</th>\n",
       "      <td>1634580000</td>\n",
       "      <td>23.72</td>\n",
       "      <td>24.16</td>\n",
       "      <td>1017</td>\n",
       "      <td>77</td>\n",
       "      <td>19.45</td>\n",
       "      <td>0</td>\n",
       "      <td>58</td>\n",
       "      <td>10000</td>\n",
       "      <td>3.45</td>\n",
       "      <td>60</td>\n",
       "      <td>4.00</td>\n",
       "      <td>[{'id': 500, 'main': 'Rain', 'description': 'l...</td>\n",
       "      <td>0.2</td>\n",
       "      <td>{'1h': 0.15}</td>\n",
       "    </tr>\n",
       "    <tr>\n",
       "      <th>2</th>\n",
       "      <td>1634583600</td>\n",
       "      <td>23.73</td>\n",
       "      <td>24.20</td>\n",
       "      <td>1017</td>\n",
       "      <td>78</td>\n",
       "      <td>19.67</td>\n",
       "      <td>0</td>\n",
       "      <td>74</td>\n",
       "      <td>10000</td>\n",
       "      <td>3.80</td>\n",
       "      <td>57</td>\n",
       "      <td>4.36</td>\n",
       "      <td>[{'id': 803, 'main': 'Clouds', 'description': ...</td>\n",
       "      <td>0.0</td>\n",
       "      <td>NaN</td>\n",
       "    </tr>\n",
       "    <tr>\n",
       "      <th>3</th>\n",
       "      <td>1634587200</td>\n",
       "      <td>23.66</td>\n",
       "      <td>24.14</td>\n",
       "      <td>1017</td>\n",
       "      <td>79</td>\n",
       "      <td>19.80</td>\n",
       "      <td>0</td>\n",
       "      <td>81</td>\n",
       "      <td>10000</td>\n",
       "      <td>4.03</td>\n",
       "      <td>58</td>\n",
       "      <td>4.49</td>\n",
       "      <td>[{'id': 803, 'main': 'Clouds', 'description': ...</td>\n",
       "      <td>0.0</td>\n",
       "      <td>NaN</td>\n",
       "    </tr>\n",
       "    <tr>\n",
       "      <th>4</th>\n",
       "      <td>1634590800</td>\n",
       "      <td>23.62</td>\n",
       "      <td>24.10</td>\n",
       "      <td>1017</td>\n",
       "      <td>79</td>\n",
       "      <td>19.76</td>\n",
       "      <td>0</td>\n",
       "      <td>86</td>\n",
       "      <td>10000</td>\n",
       "      <td>3.87</td>\n",
       "      <td>65</td>\n",
       "      <td>4.24</td>\n",
       "      <td>[{'id': 804, 'main': 'Clouds', 'description': ...</td>\n",
       "      <td>0.0</td>\n",
       "      <td>NaN</td>\n",
       "    </tr>\n",
       "  </tbody>\n",
       "</table>\n",
       "</div>"
      ],
      "text/plain": [
       "           dt   temp  feels_like  pressure  humidity  dew_point  uvi  clouds  \\\n",
       "0  1634576400  23.67       24.13      1017        78      19.61    0      57   \n",
       "1  1634580000  23.72       24.16      1017        77      19.45    0      58   \n",
       "2  1634583600  23.73       24.20      1017        78      19.67    0      74   \n",
       "3  1634587200  23.66       24.14      1017        79      19.80    0      81   \n",
       "4  1634590800  23.62       24.10      1017        79      19.76    0      86   \n",
       "\n",
       "   visibility  wind_speed  wind_deg  wind_gust  \\\n",
       "0       10000        3.59        63       4.17   \n",
       "1       10000        3.45        60       4.00   \n",
       "2       10000        3.80        57       4.36   \n",
       "3       10000        4.03        58       4.49   \n",
       "4       10000        3.87        65       4.24   \n",
       "\n",
       "                                             weather  pop          rain  \n",
       "0  [{'id': 803, 'main': 'Clouds', 'description': ...  0.0           NaN  \n",
       "1  [{'id': 500, 'main': 'Rain', 'description': 'l...  0.2  {'1h': 0.15}  \n",
       "2  [{'id': 803, 'main': 'Clouds', 'description': ...  0.0           NaN  \n",
       "3  [{'id': 803, 'main': 'Clouds', 'description': ...  0.0           NaN  \n",
       "4  [{'id': 804, 'main': 'Clouds', 'description': ...  0.0           NaN  "
      ]
     },
     "execution_count": 10,
     "metadata": {},
     "output_type": "execute_result"
    }
   ],
   "source": [
    "df_hourly.head()"
   ]
  },
  {
   "cell_type": "code",
   "execution_count": null,
   "metadata": {},
   "outputs": [],
   "source": []
  }
 ],
 "metadata": {
  "interpreter": {
   "hash": "c1b4cfe941b6d2466ad1fb5979e97da9cda8801728c8091b097ab734208fc00c"
  },
  "kernelspec": {
   "display_name": "Python 3.8.3 64-bit ('base': conda)",
   "name": "python3"
  },
  "language_info": {
   "codemirror_mode": {
    "name": "ipython",
    "version": 3
   },
   "file_extension": ".py",
   "mimetype": "text/x-python",
   "name": "python",
   "nbconvert_exporter": "python",
   "pygments_lexer": "ipython3",
   "version": "3.8.12"
  }
 },
 "nbformat": 4,
 "nbformat_minor": 2
}
