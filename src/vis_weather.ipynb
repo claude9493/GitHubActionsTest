{
 "cells": [
  {
   "cell_type": "code",
   "execution_count": 1,
   "metadata": {
    "execution": {
     "iopub.execute_input": "2021-09-06T03:16:54.435133Z",
     "iopub.status.busy": "2021-09-06T03:16:54.434238Z",
     "iopub.status.idle": "2021-09-06T03:16:59.167589Z",
     "shell.execute_reply": "2021-09-06T03:16:59.165951Z"
    }
   },
   "outputs": [],
   "source": [
    "import json, yaml, requests\r\n",
    "from datetime import datetime\r\n",
    "from dateutil import tz\r\n",
    "import pandas as pd\r\n",
    "from PIL import Image\r\n",
    "from io import BytesIO\r\n",
    "import matplotlib.pyplot as plt\r\n",
    "import seaborn\r\n",
    "\r\n",
    "CONFIG_PATH = \"../config/config.yaml\""
   ]
  },
  {
   "cell_type": "code",
   "execution_count": 2,
   "metadata": {
    "execution": {
     "iopub.execute_input": "2021-09-06T03:16:59.171015Z",
     "iopub.status.busy": "2021-09-06T03:16:59.170349Z",
     "iopub.status.idle": "2021-09-06T03:16:59.179407Z",
     "shell.execute_reply": "2021-09-06T03:16:59.179993Z"
    }
   },
   "outputs": [],
   "source": [
    "with open('../newest_ts', 'r') as f:\r\n",
    "    newest_ts = f.read()\r\n",
    "\r\n",
    "data_path = f\"../data/data_{newest_ts}.json\"\r\n",
    "with open(data_path, 'r') as f:\r\n",
    "    data = json.load(f)\r\n",
    "\r\n",
    "with open(CONFIG_PATH, \"r\") as stream:\r\n",
    "    config = yaml.safe_load(stream)\r\n",
    "\r\n",
    "TIME_ZONE = config['time_zone']\r\n",
    "DATETIME_FORMAT = config['dt_format']"
   ]
  },
  {
   "cell_type": "code",
   "execution_count": 3,
   "metadata": {
    "execution": {
     "iopub.execute_input": "2021-09-06T03:16:59.185887Z",
     "iopub.status.busy": "2021-09-06T03:16:59.185309Z",
     "iopub.status.idle": "2021-09-06T03:16:59.231900Z",
     "shell.execute_reply": "2021-09-06T03:16:59.232642Z"
    }
   },
   "outputs": [
    {
     "name": "stdout",
     "output_type": "stream",
     "text": [
      "Recent query happens at 2021-09-06 11:16:50 (CST).\n"
     ]
    }
   ],
   "source": [
    "def ts2dt(ts, format=DATETIME_FORMAT):\r\n",
    "    dt = (datetime.utcfromtimestamp(int(ts))\r\n",
    "                    .replace(tzinfo=tz.tzutc())\r\n",
    "                    # .astimezone(tz.tzlocal())\r\n",
    "                    .astimezone(tz.gettz(TIME_ZONE)))\r\n",
    "    return dt.strftime(format), dt\r\n",
    "\r\n",
    "_, newest_dt = ts2dt(newest_ts)\r\n",
    "print(f\"Recent query happens at {newest_dt.strftime(DATETIME_FORMAT)} ({newest_dt.tzname()}).\")"
   ]
  },
  {
   "cell_type": "code",
   "execution_count": 4,
   "metadata": {
    "execution": {
     "iopub.execute_input": "2021-09-06T03:16:59.240341Z",
     "iopub.status.busy": "2021-09-06T03:16:59.239142Z",
     "iopub.status.idle": "2021-09-06T03:16:59.241374Z",
     "shell.execute_reply": "2021-09-06T03:16:59.241968Z"
    }
   },
   "outputs": [],
   "source": [
    "def degrees_to_cardinal(d):\r\n",
    "  dirs = ['N', 'NNE', 'NE', 'ENE', 'E', 'ESE', 'SE', 'SSE', 'S', 'SSW', 'SW', 'WSW', 'W', 'WNW', 'NW', 'NNW']\r\n",
    "  ix = int(round(d / (360. / len(dirs))))\r\n",
    "  return dirs[ix % len(dirs)]"
   ]
  },
  {
   "cell_type": "code",
   "execution_count": 5,
   "metadata": {
    "execution": {
     "iopub.execute_input": "2021-09-06T03:16:59.247493Z",
     "iopub.status.busy": "2021-09-06T03:16:59.246039Z",
     "iopub.status.idle": "2021-09-06T03:16:59.248419Z",
     "shell.execute_reply": "2021-09-06T03:16:59.248969Z"
    }
   },
   "outputs": [],
   "source": [
    "# data.keys()"
   ]
  },
  {
   "cell_type": "code",
   "execution_count": 6,
   "metadata": {
    "execution": {
     "iopub.execute_input": "2021-09-06T03:16:59.253567Z",
     "iopub.status.busy": "2021-09-06T03:16:59.252348Z",
     "iopub.status.idle": "2021-09-06T03:16:59.254316Z",
     "shell.execute_reply": "2021-09-06T03:16:59.254848Z"
    }
   },
   "outputs": [],
   "source": [
    "# data['current']"
   ]
  },
  {
   "cell_type": "code",
   "execution_count": 7,
   "metadata": {
    "execution": {
     "iopub.execute_input": "2021-09-06T03:16:59.277813Z",
     "iopub.status.busy": "2021-09-06T03:16:59.277167Z",
     "iopub.status.idle": "2021-09-06T03:16:59.734844Z",
     "shell.execute_reply": "2021-09-06T03:16:59.735619Z"
    }
   },
   "outputs": [
    {
     "data": {
      "image/png": "[encoded data removed]",
      "text/plain": [
       "<Figure size 216x216 with 1 Axes>"
      ]
     },
     "metadata": {
      "needs_background": "light"
     },
     "output_type": "display_data"
    },
    {
     "name": "stdout",
     "output_type": "stream",
     "text": [
      "Today, sun rises at 06:07 and sets at 18:35.\n",
      "Currently, the weather is Clouds (few clouds).\n",
      "The temperature is 32.66°C and it feels like 39.66°C.\n",
      "The UV index is 9.65, humidity is 70%.\n",
      "The pressure is 1011 hPa, percentage of cloud cover is 17%\n",
      "The wind comes from E direction with a speed 4.18 m/s.\n"
     ]
    }
   ],
   "source": [
    "current = data['current']\r\n",
    "\r\n",
    "fig, ax = plt.subplots(figsize=(3, 3))\r\n",
    "icon = requests.get(f\"http://openweathermap.org/img/wn/{current['weather'][0]['icon']}@2x.png\")\r\n",
    "im = Image.open(BytesIO(icon.content))\r\n",
    "plt.imshow(im)\r\n",
    "ax.set_axis_off()\r\n",
    "plt.show()\r\n",
    "\r\n",
    "print(f\"Today, sun rises at {ts2dt(current['sunrise'], '%H:%M')[0]} \\\r\n",
    "and sets at {ts2dt(current['sunset'], '%H:%M')[0]}.\\n\\\r\n",
    "Currently, the weather is {current['weather'][0]['main']} ({current['weather'][0]['description']}).\\n\\\r\n",
    "The temperature is {current['temp']}°C and it feels like {current['feels_like']}°C.\\n\\\r\n",
    "The UV index is {current['uvi']}, humidity is {current['humidity']}%.\\n\\\r\n",
    "The pressure is {current['pressure']} hPa, percentage of cloud cover is {current['clouds']}%\\n\\\r\n",
    "The wind comes from {degrees_to_cardinal(current['wind_deg'])} direction with a speed {current['wind_speed']} m/s.\")"
   ]
  },
  {
   "cell_type": "code",
   "execution_count": 8,
   "metadata": {
    "execution": {
     "iopub.execute_input": "2021-09-06T03:16:59.739231Z",
     "iopub.status.busy": "2021-09-06T03:16:59.738203Z",
     "iopub.status.idle": "2021-09-06T03:16:59.746943Z",
     "shell.execute_reply": "2021-09-06T03:16:59.747737Z"
    }
   },
   "outputs": [],
   "source": [
    "df_hourly = pd.DataFrame(data['hourly'])\r\n",
    "df_daily = pd.DataFrame(data['daily'])"
   ]
  },
  {
   "cell_type": "code",
   "execution_count": 9,
   "metadata": {
    "execution": {
     "iopub.execute_input": "2021-09-06T03:16:59.751551Z",
     "iopub.status.busy": "2021-09-06T03:16:59.750479Z",
     "iopub.status.idle": "2021-09-06T03:17:00.117286Z",
     "shell.execute_reply": "2021-09-06T03:17:00.116701Z"
    }
   },
   "outputs": [
    {
     "data": {
      "image/png": "[encoded data removed]",
      "text/plain": [
       "<Figure size 864x432 with 1 Axes>"
      ]
     },
     "metadata": {
      "needs_background": "light"
     },
     "output_type": "display_data"
    }
   ],
   "source": [
    "fig, ax = plt.subplots(figsize=(12, 6))\r\n",
    "plt.plot(df_hourly.temp, '.-', label='Temperature')\r\n",
    "plt.plot(df_hourly.feels_like, '.-', label='Feels Like')\r\n",
    "ax.set(title='Temperature in future 48 hours', xlabel='Time', ylabel='Temperature')\r\n",
    "ax.set_xticks(list(range(0, len(df_hourly), 2)))\r\n",
    "ax.set_xticklabels([ts2dt(ts, '%m-%d %H:%M')[0] for i, ts in enumerate(df_hourly.dt) if i%2==0], \r\n",
    "                   rotation=45, ha=\"right\")\r\n",
    "ax.locator_params(nbins=15, axis='y')\r\n",
    "plt.legend()\r\n",
    "plt.show()"
   ]
  },
  {
   "cell_type": "code",
   "execution_count": 10,
   "metadata": {
    "execution": {
     "iopub.execute_input": "2021-09-06T03:17:00.123320Z",
     "iopub.status.busy": "2021-09-06T03:17:00.122760Z",
     "iopub.status.idle": "2021-09-06T03:17:00.150981Z",
     "shell.execute_reply": "2021-09-06T03:17:00.151483Z"
    }
   },
   "outputs": [
    {
     "data": {
      "text/html": [
       "<div>\n",
       "<style scoped>\n",
       "    .dataframe tbody tr th:only-of-type {\n",
       "        vertical-align: middle;\n",
       "    }\n",
       "\n",
       "    .dataframe tbody tr th {\n",
       "        vertical-align: top;\n",
       "    }\n",
       "\n",
       "    .dataframe thead th {\n",
       "        text-align: right;\n",
       "    }\n",
       "</style>\n",
       "<table border=\"1\" class=\"dataframe\">\n",
       "  <thead>\n",
       "    <tr style=\"text-align: right;\">\n",
       "      <th></th>\n",
       "      <th>dt</th>\n",
       "      <th>temp</th>\n",
       "      <th>feels_like</th>\n",
       "      <th>pressure</th>\n",
       "      <th>humidity</th>\n",
       "      <th>dew_point</th>\n",
       "      <th>uvi</th>\n",
       "      <th>clouds</th>\n",
       "      <th>visibility</th>\n",
       "      <th>wind_speed</th>\n",
       "      <th>wind_deg</th>\n",
       "      <th>wind_gust</th>\n",
       "      <th>weather</th>\n",
       "      <th>pop</th>\n",
       "      <th>rain</th>\n",
       "    </tr>\n",
       "  </thead>\n",
       "  <tbody>\n",
       "    <tr>\n",
       "      <th>0</th>\n",
       "      <td>1630897200</td>\n",
       "      <td>32.66</td>\n",
       "      <td>39.66</td>\n",
       "      <td>1011</td>\n",
       "      <td>70</td>\n",
       "      <td>26.47</td>\n",
       "      <td>9.65</td>\n",
       "      <td>17</td>\n",
       "      <td>10000</td>\n",
       "      <td>4.18</td>\n",
       "      <td>84</td>\n",
       "      <td>5.01</td>\n",
       "      <td>[{'id': 801, 'main': 'Clouds', 'description': ...</td>\n",
       "      <td>0.77</td>\n",
       "      <td>NaN</td>\n",
       "    </tr>\n",
       "    <tr>\n",
       "      <th>1</th>\n",
       "      <td>1630900800</td>\n",
       "      <td>32.18</td>\n",
       "      <td>39.18</td>\n",
       "      <td>1011</td>\n",
       "      <td>69</td>\n",
       "      <td>25.77</td>\n",
       "      <td>10.49</td>\n",
       "      <td>17</td>\n",
       "      <td>10000</td>\n",
       "      <td>4.22</td>\n",
       "      <td>86</td>\n",
       "      <td>5.00</td>\n",
       "      <td>[{'id': 801, 'main': 'Clouds', 'description': ...</td>\n",
       "      <td>0.73</td>\n",
       "      <td>NaN</td>\n",
       "    </tr>\n",
       "    <tr>\n",
       "      <th>2</th>\n",
       "      <td>1630904400</td>\n",
       "      <td>31.72</td>\n",
       "      <td>38.72</td>\n",
       "      <td>1011</td>\n",
       "      <td>69</td>\n",
       "      <td>25.33</td>\n",
       "      <td>10.32</td>\n",
       "      <td>19</td>\n",
       "      <td>10000</td>\n",
       "      <td>4.59</td>\n",
       "      <td>93</td>\n",
       "      <td>5.22</td>\n",
       "      <td>[{'id': 801, 'main': 'Clouds', 'description': ...</td>\n",
       "      <td>0.73</td>\n",
       "      <td>NaN</td>\n",
       "    </tr>\n",
       "    <tr>\n",
       "      <th>3</th>\n",
       "      <td>1630908000</td>\n",
       "      <td>31.18</td>\n",
       "      <td>37.78</td>\n",
       "      <td>1010</td>\n",
       "      <td>69</td>\n",
       "      <td>24.81</td>\n",
       "      <td>8.53</td>\n",
       "      <td>26</td>\n",
       "      <td>10000</td>\n",
       "      <td>4.51</td>\n",
       "      <td>94</td>\n",
       "      <td>5.34</td>\n",
       "      <td>[{'id': 802, 'main': 'Clouds', 'description': ...</td>\n",
       "      <td>0.66</td>\n",
       "      <td>NaN</td>\n",
       "    </tr>\n",
       "    <tr>\n",
       "      <th>4</th>\n",
       "      <td>1630911600</td>\n",
       "      <td>30.56</td>\n",
       "      <td>36.72</td>\n",
       "      <td>1009</td>\n",
       "      <td>71</td>\n",
       "      <td>24.70</td>\n",
       "      <td>6.16</td>\n",
       "      <td>70</td>\n",
       "      <td>10000</td>\n",
       "      <td>4.35</td>\n",
       "      <td>95</td>\n",
       "      <td>5.45</td>\n",
       "      <td>[{'id': 803, 'main': 'Clouds', 'description': ...</td>\n",
       "      <td>0.70</td>\n",
       "      <td>NaN</td>\n",
       "    </tr>\n",
       "  </tbody>\n",
       "</table>\n",
       "</div>"
      ],
      "text/plain": [
       "           dt   temp  feels_like  pressure  humidity  dew_point    uvi  \\\n",
       "0  1630897200  32.66       39.66      1011        70      26.47   9.65   \n",
       "1  1630900800  32.18       39.18      1011        69      25.77  10.49   \n",
       "2  1630904400  31.72       38.72      1011        69      25.33  10.32   \n",
       "3  1630908000  31.18       37.78      1010        69      24.81   8.53   \n",
       "4  1630911600  30.56       36.72      1009        71      24.70   6.16   \n",
       "\n",
       "   clouds  visibility  wind_speed  wind_deg  wind_gust  \\\n",
       "0      17       10000        4.18        84       5.01   \n",
       "1      17       10000        4.22        86       5.00   \n",
       "2      19       10000        4.59        93       5.22   \n",
       "3      26       10000        4.51        94       5.34   \n",
       "4      70       10000        4.35        95       5.45   \n",
       "\n",
       "                                             weather   pop rain  \n",
       "0  [{'id': 801, 'main': 'Clouds', 'description': ...  0.77  NaN  \n",
       "1  [{'id': 801, 'main': 'Clouds', 'description': ...  0.73  NaN  \n",
       "2  [{'id': 801, 'main': 'Clouds', 'description': ...  0.73  NaN  \n",
       "3  [{'id': 802, 'main': 'Clouds', 'description': ...  0.66  NaN  \n",
       "4  [{'id': 803, 'main': 'Clouds', 'description': ...  0.70  NaN  "
      ]
     },
     "execution_count": 10,
     "metadata": {},
     "output_type": "execute_result"
    }
   ],
   "source": [
    "df_hourly.head()"
   ]
  },
  {
   "cell_type": "code",
   "execution_count": null,
   "metadata": {},
   "outputs": [],
   "source": []
  }
 ],
 "metadata": {
  "interpreter": {
   "hash": "c1b4cfe941b6d2466ad1fb5979e97da9cda8801728c8091b097ab734208fc00c"
  },
  "kernelspec": {
   "display_name": "Python 3.8.3 64-bit ('base': conda)",
   "name": "python3"
  },
  "language_info": {
   "codemirror_mode": {
    "name": "ipython",
    "version": 3
   },
   "file_extension": ".py",
   "mimetype": "text/x-python",
   "name": "python",
   "nbconvert_exporter": "python",
   "pygments_lexer": "ipython3",
   "version": "3.8.11"
  }
 },
 "nbformat": 4,
 "nbformat_minor": 2
}
