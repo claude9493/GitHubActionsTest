{
 "cells": [
  {
   "cell_type": "code",
   "execution_count": 1,
   "metadata": {
    "execution": {
     "iopub.execute_input": "2021-08-29T22:14:51.733524Z",
     "iopub.status.busy": "2021-08-29T22:14:51.732831Z",
     "iopub.status.idle": "2021-08-29T22:14:53.375625Z",
     "shell.execute_reply": "2021-08-29T22:14:53.374609Z"
    }
   },
   "outputs": [],
   "source": [
    "import json, yaml, requests\r\n",
    "from datetime import datetime\r\n",
    "from dateutil import tz\r\n",
    "import pandas as pd\r\n",
    "from PIL import Image\r\n",
    "from io import BytesIO\r\n",
    "import matplotlib.pyplot as plt\r\n",
    "import seaborn\r\n",
    "\r\n",
    "CONFIG_PATH = \"../config/config.yaml\""
   ]
  },
  {
   "cell_type": "code",
   "execution_count": 2,
   "metadata": {
    "execution": {
     "iopub.execute_input": "2021-08-29T22:14:53.381284Z",
     "iopub.status.busy": "2021-08-29T22:14:53.380739Z",
     "iopub.status.idle": "2021-08-29T22:14:53.386373Z",
     "shell.execute_reply": "2021-08-29T22:14:53.385698Z"
    }
   },
   "outputs": [],
   "source": [
    "with open('../newest_ts', 'r') as f:\r\n",
    "    newest_ts = f.read()\r\n",
    "\r\n",
    "data_path = f\"../data/data_{newest_ts}.json\"\r\n",
    "with open(data_path, 'r') as f:\r\n",
    "    data = json.load(f)\r\n",
    "\r\n",
    "with open(CONFIG_PATH, \"r\") as stream:\r\n",
    "    config = yaml.safe_load(stream)\r\n",
    "\r\n",
    "TIME_ZONE = config['time_zone']\r\n",
    "DATETIME_FORMAT = config['dt_format']"
   ]
  },
  {
   "cell_type": "code",
   "execution_count": 3,
   "metadata": {
    "execution": {
     "iopub.execute_input": "2021-08-29T22:14:53.391776Z",
     "iopub.status.busy": "2021-08-29T22:14:53.390879Z",
     "iopub.status.idle": "2021-08-29T22:14:53.397151Z",
     "shell.execute_reply": "2021-08-29T22:14:53.396579Z"
    }
   },
   "outputs": [
    {
     "name": "stdout",
     "output_type": "stream",
     "text": [
      "Recent query happens at 2021-08-30 06:14:48 (CST).\n"
     ]
    }
   ],
   "source": [
    "def ts2dt(ts, format=DATETIME_FORMAT):\r\n",
    "    dt = (datetime.utcfromtimestamp(int(ts))\r\n",
    "                    .replace(tzinfo=tz.tzutc())\r\n",
    "                    # .astimezone(tz.tzlocal())\r\n",
    "                    .astimezone(tz.gettz(TIME_ZONE)))\r\n",
    "    return dt.strftime(format), dt\r\n",
    "\r\n",
    "_, newest_dt = ts2dt(newest_ts)\r\n",
    "print(f\"Recent query happens at {newest_dt.strftime(DATETIME_FORMAT)} ({newest_dt.tzname()}).\")"
   ]
  },
  {
   "cell_type": "code",
   "execution_count": 4,
   "metadata": {
    "execution": {
     "iopub.execute_input": "2021-08-29T22:14:53.403142Z",
     "iopub.status.busy": "2021-08-29T22:14:53.401560Z",
     "iopub.status.idle": "2021-08-29T22:14:53.403756Z",
     "shell.execute_reply": "2021-08-29T22:14:53.404269Z"
    }
   },
   "outputs": [],
   "source": [
    "def degrees_to_cardinal(d):\r\n",
    "  dirs = ['N', 'NNE', 'NE', 'ENE', 'E', 'ESE', 'SE', 'SSE', 'S', 'SSW', 'SW', 'WSW', 'W', 'WNW', 'NW', 'NNW']\r\n",
    "  ix = int(round(d / (360. / len(dirs))))\r\n",
    "  return dirs[ix % len(dirs)]"
   ]
  },
  {
   "cell_type": "code",
   "execution_count": 5,
   "metadata": {
    "execution": {
     "iopub.execute_input": "2021-08-29T22:14:53.409783Z",
     "iopub.status.busy": "2021-08-29T22:14:53.408389Z",
     "iopub.status.idle": "2021-08-29T22:14:53.410481Z",
     "shell.execute_reply": "2021-08-29T22:14:53.410912Z"
    }
   },
   "outputs": [],
   "source": [
    "# data.keys()"
   ]
  },
  {
   "cell_type": "code",
   "execution_count": 6,
   "metadata": {
    "execution": {
     "iopub.execute_input": "2021-08-29T22:14:53.416075Z",
     "iopub.status.busy": "2021-08-29T22:14:53.414518Z",
     "iopub.status.idle": "2021-08-29T22:14:53.416698Z",
     "shell.execute_reply": "2021-08-29T22:14:53.417198Z"
    }
   },
   "outputs": [],
   "source": [
    "# data['current']"
   ]
  },
  {
   "cell_type": "code",
   "execution_count": 7,
   "metadata": {
    "execution": {
     "iopub.execute_input": "2021-08-29T22:14:53.438654Z",
     "iopub.status.busy": "2021-08-29T22:14:53.438111Z",
     "iopub.status.idle": "2021-08-29T22:14:53.863432Z",
     "shell.execute_reply": "2021-08-29T22:14:53.864250Z"
    }
   },
   "outputs": [
    {
     "data": {
      "image/png": "[encoded data removed]",
      "text/plain": [
       "<Figure size 216x216 with 1 Axes>"
      ]
     },
     "metadata": {
      "needs_background": "light"
     },
     "output_type": "display_data"
    },
    {
     "name": "stdout",
     "output_type": "stream",
     "text": [
      "Today, sun rises at 06:05 and sets at 18:42.\n",
      "Currently, the weather is Clouds (scattered clouds).\n",
      "The temperature is 28.04°C and it feels like 33.35°C.\n",
      "The UV index is 0, humidity is 87%.\n",
      "The pressure is 1011 hPa, percentage of cloud cover is 29%\n",
      "The wind comes from ENE direction with a speed 3.62 m/s.\n"
     ]
    }
   ],
   "source": [
    "current = data['current']\r\n",
    "\r\n",
    "fig, ax = plt.subplots(figsize=(3, 3))\r\n",
    "icon = requests.get(f\"http://openweathermap.org/img/wn/{current['weather'][0]['icon']}@2x.png\")\r\n",
    "im = Image.open(BytesIO(icon.content))\r\n",
    "plt.imshow(im)\r\n",
    "ax.set_axis_off()\r\n",
    "plt.show()\r\n",
    "\r\n",
    "print(f\"Today, sun rises at {ts2dt(current['sunrise'], '%H:%M')[0]} \\\r\n",
    "and sets at {ts2dt(current['sunset'], '%H:%M')[0]}.\\n\\\r\n",
    "Currently, the weather is {current['weather'][0]['main']} ({current['weather'][0]['description']}).\\n\\\r\n",
    "The temperature is {current['temp']}°C and it feels like {current['feels_like']}°C.\\n\\\r\n",
    "The UV index is {current['uvi']}, humidity is {current['humidity']}%.\\n\\\r\n",
    "The pressure is {current['pressure']} hPa, percentage of cloud cover is {current['clouds']}%\\n\\\r\n",
    "The wind comes from {degrees_to_cardinal(current['wind_deg'])} direction with a speed {current['wind_speed']} m/s.\")"
   ]
  },
  {
   "cell_type": "code",
   "execution_count": 8,
   "metadata": {
    "execution": {
     "iopub.execute_input": "2021-08-29T22:14:53.868191Z",
     "iopub.status.busy": "2021-08-29T22:14:53.866975Z",
     "iopub.status.idle": "2021-08-29T22:14:53.876151Z",
     "shell.execute_reply": "2021-08-29T22:14:53.876893Z"
    }
   },
   "outputs": [],
   "source": [
    "df_hourly = pd.DataFrame(data['hourly'])\r\n",
    "df_daily = pd.DataFrame(data['daily'])"
   ]
  },
  {
   "cell_type": "code",
   "execution_count": 9,
   "metadata": {
    "execution": {
     "iopub.execute_input": "2021-08-29T22:14:53.880770Z",
     "iopub.status.busy": "2021-08-29T22:14:53.879620Z",
     "iopub.status.idle": "2021-08-29T22:14:54.227726Z",
     "shell.execute_reply": "2021-08-29T22:14:54.227249Z"
    }
   },
   "outputs": [
    {
     "data": {
      "image/png": "[encoded data removed]",
      "text/plain": [
       "<Figure size 864x432 with 1 Axes>"
      ]
     },
     "metadata": {
      "needs_background": "light"
     },
     "output_type": "display_data"
    }
   ],
   "source": [
    "fig, ax = plt.subplots(figsize=(12, 6))\r\n",
    "plt.plot(df_hourly.temp, '.-', label='Temperature')\r\n",
    "plt.plot(df_hourly.feels_like, '.-', label='Feels Like')\r\n",
    "ax.set(title='Temperature in future 48 hours', xlabel='Time', ylabel='Temperature')\r\n",
    "ax.set_xticks(list(range(0, len(df_hourly), 2)))\r\n",
    "ax.set_xticklabels([ts2dt(ts, '%m-%d %H:%M')[0] for i, ts in enumerate(df_hourly.dt) if i%2==0], \r\n",
    "                   rotation=45, ha=\"right\")\r\n",
    "ax.locator_params(nbins=15, axis='y')\r\n",
    "plt.legend()\r\n",
    "plt.show()"
   ]
  },
  {
   "cell_type": "code",
   "execution_count": 10,
   "metadata": {
    "execution": {
     "iopub.execute_input": "2021-08-29T22:14:54.232900Z",
     "iopub.status.busy": "2021-08-29T22:14:54.232340Z",
     "iopub.status.idle": "2021-08-29T22:14:54.254530Z",
     "shell.execute_reply": "2021-08-29T22:14:54.253767Z"
    }
   },
   "outputs": [
    {
     "data": {
      "text/html": [
       "<div>\n",
       "<style scoped>\n",
       "    .dataframe tbody tr th:only-of-type {\n",
       "        vertical-align: middle;\n",
       "    }\n",
       "\n",
       "    .dataframe tbody tr th {\n",
       "        vertical-align: top;\n",
       "    }\n",
       "\n",
       "    .dataframe thead th {\n",
       "        text-align: right;\n",
       "    }\n",
       "</style>\n",
       "<table border=\"1\" class=\"dataframe\">\n",
       "  <thead>\n",
       "    <tr style=\"text-align: right;\">\n",
       "      <th></th>\n",
       "      <th>dt</th>\n",
       "      <th>temp</th>\n",
       "      <th>feels_like</th>\n",
       "      <th>pressure</th>\n",
       "      <th>humidity</th>\n",
       "      <th>dew_point</th>\n",
       "      <th>uvi</th>\n",
       "      <th>clouds</th>\n",
       "      <th>visibility</th>\n",
       "      <th>wind_speed</th>\n",
       "      <th>wind_deg</th>\n",
       "      <th>wind_gust</th>\n",
       "      <th>weather</th>\n",
       "      <th>pop</th>\n",
       "      <th>rain</th>\n",
       "    </tr>\n",
       "  </thead>\n",
       "  <tbody>\n",
       "    <tr>\n",
       "      <th>0</th>\n",
       "      <td>1630274400</td>\n",
       "      <td>28.04</td>\n",
       "      <td>33.35</td>\n",
       "      <td>1011</td>\n",
       "      <td>87</td>\n",
       "      <td>25.67</td>\n",
       "      <td>0.00</td>\n",
       "      <td>29</td>\n",
       "      <td>10000</td>\n",
       "      <td>3.62</td>\n",
       "      <td>73</td>\n",
       "      <td>4.81</td>\n",
       "      <td>[{'id': 500, 'main': 'Rain', 'description': 'l...</td>\n",
       "      <td>0.48</td>\n",
       "      <td>{'1h': 0.16}</td>\n",
       "    </tr>\n",
       "    <tr>\n",
       "      <th>1</th>\n",
       "      <td>1630278000</td>\n",
       "      <td>27.93</td>\n",
       "      <td>32.86</td>\n",
       "      <td>1011</td>\n",
       "      <td>86</td>\n",
       "      <td>25.37</td>\n",
       "      <td>0.35</td>\n",
       "      <td>29</td>\n",
       "      <td>10000</td>\n",
       "      <td>3.82</td>\n",
       "      <td>69</td>\n",
       "      <td>4.87</td>\n",
       "      <td>[{'id': 802, 'main': 'Clouds', 'description': ...</td>\n",
       "      <td>0.44</td>\n",
       "      <td>NaN</td>\n",
       "    </tr>\n",
       "    <tr>\n",
       "      <th>2</th>\n",
       "      <td>1630281600</td>\n",
       "      <td>28.08</td>\n",
       "      <td>32.79</td>\n",
       "      <td>1011</td>\n",
       "      <td>83</td>\n",
       "      <td>24.92</td>\n",
       "      <td>1.55</td>\n",
       "      <td>27</td>\n",
       "      <td>10000</td>\n",
       "      <td>4.28</td>\n",
       "      <td>68</td>\n",
       "      <td>5.23</td>\n",
       "      <td>[{'id': 802, 'main': 'Clouds', 'description': ...</td>\n",
       "      <td>0.44</td>\n",
       "      <td>NaN</td>\n",
       "    </tr>\n",
       "    <tr>\n",
       "      <th>3</th>\n",
       "      <td>1630285200</td>\n",
       "      <td>28.42</td>\n",
       "      <td>33.17</td>\n",
       "      <td>1012</td>\n",
       "      <td>80</td>\n",
       "      <td>24.63</td>\n",
       "      <td>3.98</td>\n",
       "      <td>21</td>\n",
       "      <td>10000</td>\n",
       "      <td>4.64</td>\n",
       "      <td>71</td>\n",
       "      <td>5.66</td>\n",
       "      <td>[{'id': 801, 'main': 'Clouds', 'description': ...</td>\n",
       "      <td>0.00</td>\n",
       "      <td>NaN</td>\n",
       "    </tr>\n",
       "    <tr>\n",
       "      <th>4</th>\n",
       "      <td>1630288800</td>\n",
       "      <td>28.93</td>\n",
       "      <td>33.72</td>\n",
       "      <td>1013</td>\n",
       "      <td>76</td>\n",
       "      <td>24.27</td>\n",
       "      <td>7.12</td>\n",
       "      <td>19</td>\n",
       "      <td>10000</td>\n",
       "      <td>5.14</td>\n",
       "      <td>75</td>\n",
       "      <td>5.86</td>\n",
       "      <td>[{'id': 801, 'main': 'Clouds', 'description': ...</td>\n",
       "      <td>0.03</td>\n",
       "      <td>NaN</td>\n",
       "    </tr>\n",
       "  </tbody>\n",
       "</table>\n",
       "</div>"
      ],
      "text/plain": [
       "           dt   temp  feels_like  pressure  humidity  dew_point   uvi  clouds  \\\n",
       "0  1630274400  28.04       33.35      1011        87      25.67  0.00      29   \n",
       "1  1630278000  27.93       32.86      1011        86      25.37  0.35      29   \n",
       "2  1630281600  28.08       32.79      1011        83      24.92  1.55      27   \n",
       "3  1630285200  28.42       33.17      1012        80      24.63  3.98      21   \n",
       "4  1630288800  28.93       33.72      1013        76      24.27  7.12      19   \n",
       "\n",
       "   visibility  wind_speed  wind_deg  wind_gust  \\\n",
       "0       10000        3.62        73       4.81   \n",
       "1       10000        3.82        69       4.87   \n",
       "2       10000        4.28        68       5.23   \n",
       "3       10000        4.64        71       5.66   \n",
       "4       10000        5.14        75       5.86   \n",
       "\n",
       "                                             weather   pop          rain  \n",
       "0  [{'id': 500, 'main': 'Rain', 'description': 'l...  0.48  {'1h': 0.16}  \n",
       "1  [{'id': 802, 'main': 'Clouds', 'description': ...  0.44           NaN  \n",
       "2  [{'id': 802, 'main': 'Clouds', 'description': ...  0.44           NaN  \n",
       "3  [{'id': 801, 'main': 'Clouds', 'description': ...  0.00           NaN  \n",
       "4  [{'id': 801, 'main': 'Clouds', 'description': ...  0.03           NaN  "
      ]
     },
     "execution_count": 10,
     "metadata": {},
     "output_type": "execute_result"
    }
   ],
   "source": [
    "df_hourly.head()"
   ]
  },
  {
   "cell_type": "code",
   "execution_count": null,
   "metadata": {},
   "outputs": [],
   "source": []
  }
 ],
 "metadata": {
  "interpreter": {
   "hash": "c1b4cfe941b6d2466ad1fb5979e97da9cda8801728c8091b097ab734208fc00c"
  },
  "kernelspec": {
   "display_name": "Python 3.8.3 64-bit ('base': conda)",
   "name": "python3"
  },
  "language_info": {
   "codemirror_mode": {
    "name": "ipython",
    "version": 3
   },
   "file_extension": ".py",
   "mimetype": "text/x-python",
   "name": "python",
   "nbconvert_exporter": "python",
   "pygments_lexer": "ipython3",
   "version": "3.8.11"
  }
 },
 "nbformat": 4,
 "nbformat_minor": 2
}
