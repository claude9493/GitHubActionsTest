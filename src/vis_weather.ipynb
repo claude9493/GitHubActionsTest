{
 "cells": [
  {
   "cell_type": "code",
   "execution_count": 1,
   "metadata": {
    "execution": {
     "iopub.execute_input": "2021-09-02T10:41:34.162455Z",
     "iopub.status.busy": "2021-09-02T10:41:34.161920Z",
     "iopub.status.idle": "2021-09-02T10:41:39.530246Z",
     "shell.execute_reply": "2021-09-02T10:41:39.529654Z"
    }
   },
   "outputs": [],
   "source": [
    "import json, yaml, requests\r\n",
    "from datetime import datetime\r\n",
    "from dateutil import tz\r\n",
    "import pandas as pd\r\n",
    "from PIL import Image\r\n",
    "from io import BytesIO\r\n",
    "import matplotlib.pyplot as plt\r\n",
    "import seaborn\r\n",
    "\r\n",
    "CONFIG_PATH = \"../config/config.yaml\""
   ]
  },
  {
   "cell_type": "code",
   "execution_count": 2,
   "metadata": {
    "execution": {
     "iopub.execute_input": "2021-09-02T10:41:39.535686Z",
     "iopub.status.busy": "2021-09-02T10:41:39.535184Z",
     "iopub.status.idle": "2021-09-02T10:41:39.540076Z",
     "shell.execute_reply": "2021-09-02T10:41:39.539683Z"
    }
   },
   "outputs": [],
   "source": [
    "with open('../newest_ts', 'r') as f:\r\n",
    "    newest_ts = f.read()\r\n",
    "\r\n",
    "data_path = f\"../data/data_{newest_ts}.json\"\r\n",
    "with open(data_path, 'r') as f:\r\n",
    "    data = json.load(f)\r\n",
    "\r\n",
    "with open(CONFIG_PATH, \"r\") as stream:\r\n",
    "    config = yaml.safe_load(stream)\r\n",
    "\r\n",
    "TIME_ZONE = config['time_zone']\r\n",
    "DATETIME_FORMAT = config['dt_format']"
   ]
  },
  {
   "cell_type": "code",
   "execution_count": 3,
   "metadata": {
    "execution": {
     "iopub.execute_input": "2021-09-02T10:41:39.544471Z",
     "iopub.status.busy": "2021-09-02T10:41:39.543985Z",
     "iopub.status.idle": "2021-09-02T10:41:39.548187Z",
     "shell.execute_reply": "2021-09-02T10:41:39.548557Z"
    }
   },
   "outputs": [
    {
     "name": "stdout",
     "output_type": "stream",
     "text": [
      "Recent query happens at 2021-09-02 18:41:30 (CST).\n"
     ]
    }
   ],
   "source": [
    "def ts2dt(ts, format=DATETIME_FORMAT):\r\n",
    "    dt = (datetime.utcfromtimestamp(int(ts))\r\n",
    "                    .replace(tzinfo=tz.tzutc())\r\n",
    "                    # .astimezone(tz.tzlocal())\r\n",
    "                    .astimezone(tz.gettz(TIME_ZONE)))\r\n",
    "    return dt.strftime(format), dt\r\n",
    "\r\n",
    "_, newest_dt = ts2dt(newest_ts)\r\n",
    "print(f\"Recent query happens at {newest_dt.strftime(DATETIME_FORMAT)} ({newest_dt.tzname()}).\")"
   ]
  },
  {
   "cell_type": "code",
   "execution_count": 4,
   "metadata": {
    "execution": {
     "iopub.execute_input": "2021-09-02T10:41:39.553593Z",
     "iopub.status.busy": "2021-09-02T10:41:39.552562Z",
     "iopub.status.idle": "2021-09-02T10:41:39.554223Z",
     "shell.execute_reply": "2021-09-02T10:41:39.554589Z"
    }
   },
   "outputs": [],
   "source": [
    "def degrees_to_cardinal(d):\r\n",
    "  dirs = ['N', 'NNE', 'NE', 'ENE', 'E', 'ESE', 'SE', 'SSE', 'S', 'SSW', 'SW', 'WSW', 'W', 'WNW', 'NW', 'NNW']\r\n",
    "  ix = int(round(d / (360. / len(dirs))))\r\n",
    "  return dirs[ix % len(dirs)]"
   ]
  },
  {
   "cell_type": "code",
   "execution_count": 5,
   "metadata": {
    "execution": {
     "iopub.execute_input": "2021-09-02T10:41:39.558129Z",
     "iopub.status.busy": "2021-09-02T10:41:39.557668Z",
     "iopub.status.idle": "2021-09-02T10:41:39.559809Z",
     "shell.execute_reply": "2021-09-02T10:41:39.559377Z"
    }
   },
   "outputs": [],
   "source": [
    "# data.keys()"
   ]
  },
  {
   "cell_type": "code",
   "execution_count": 6,
   "metadata": {
    "execution": {
     "iopub.execute_input": "2021-09-02T10:41:39.563533Z",
     "iopub.status.busy": "2021-09-02T10:41:39.562695Z",
     "iopub.status.idle": "2021-09-02T10:41:39.564322Z",
     "shell.execute_reply": "2021-09-02T10:41:39.564692Z"
    }
   },
   "outputs": [],
   "source": [
    "# data['current']"
   ]
  },
  {
   "cell_type": "code",
   "execution_count": 7,
   "metadata": {
    "execution": {
     "iopub.execute_input": "2021-09-02T10:41:39.583254Z",
     "iopub.status.busy": "2021-09-02T10:41:39.582681Z",
     "iopub.status.idle": "2021-09-02T10:41:40.019509Z",
     "shell.execute_reply": "2021-09-02T10:41:40.020204Z"
    }
   },
   "outputs": [
    {
     "data": {
      "image/png": "[encoded data removed]",
      "text/plain": [
       "<Figure size 216x216 with 1 Axes>"
      ]
     },
     "metadata": {
      "needs_background": "light"
     },
     "output_type": "display_data"
    },
    {
     "name": "stdout",
     "output_type": "stream",
     "text": [
      "Today, sun rises at 06:06 and sets at 18:39.\n",
      "Currently, the weather is Clear (clear sky).\n",
      "The temperature is 30.3°C and it feels like 37.13°C.\n",
      "The UV index is 0, humidity is 75%.\n",
      "The pressure is 1008 hPa, percentage of cloud cover is 7%\n",
      "The wind comes from ESE direction with a speed 3.09 m/s.\n"
     ]
    }
   ],
   "source": [
    "current = data['current']\r\n",
    "\r\n",
    "fig, ax = plt.subplots(figsize=(3, 3))\r\n",
    "icon = requests.get(f\"http://openweathermap.org/img/wn/{current['weather'][0]['icon']}@2x.png\")\r\n",
    "im = Image.open(BytesIO(icon.content))\r\n",
    "plt.imshow(im)\r\n",
    "ax.set_axis_off()\r\n",
    "plt.show()\r\n",
    "\r\n",
    "print(f\"Today, sun rises at {ts2dt(current['sunrise'], '%H:%M')[0]} \\\r\n",
    "and sets at {ts2dt(current['sunset'], '%H:%M')[0]}.\\n\\\r\n",
    "Currently, the weather is {current['weather'][0]['main']} ({current['weather'][0]['description']}).\\n\\\r\n",
    "The temperature is {current['temp']}°C and it feels like {current['feels_like']}°C.\\n\\\r\n",
    "The UV index is {current['uvi']}, humidity is {current['humidity']}%.\\n\\\r\n",
    "The pressure is {current['pressure']} hPa, percentage of cloud cover is {current['clouds']}%\\n\\\r\n",
    "The wind comes from {degrees_to_cardinal(current['wind_deg'])} direction with a speed {current['wind_speed']} m/s.\")"
   ]
  },
  {
   "cell_type": "code",
   "execution_count": 8,
   "metadata": {
    "execution": {
     "iopub.execute_input": "2021-09-02T10:41:40.023530Z",
     "iopub.status.busy": "2021-09-02T10:41:40.022583Z",
     "iopub.status.idle": "2021-09-02T10:41:40.029942Z",
     "shell.execute_reply": "2021-09-02T10:41:40.030593Z"
    }
   },
   "outputs": [],
   "source": [
    "df_hourly = pd.DataFrame(data['hourly'])\r\n",
    "df_daily = pd.DataFrame(data['daily'])"
   ]
  },
  {
   "cell_type": "code",
   "execution_count": 9,
   "metadata": {
    "execution": {
     "iopub.execute_input": "2021-09-02T10:41:40.033809Z",
     "iopub.status.busy": "2021-09-02T10:41:40.032889Z",
     "iopub.status.idle": "2021-09-02T10:41:40.285401Z",
     "shell.execute_reply": "2021-09-02T10:41:40.284962Z"
    }
   },
   "outputs": [
    {
     "data": {
      "image/png": "[encoded data removed]",
      "text/plain": [
       "<Figure size 864x432 with 1 Axes>"
      ]
     },
     "metadata": {
      "needs_background": "light"
     },
     "output_type": "display_data"
    }
   ],
   "source": [
    "fig, ax = plt.subplots(figsize=(12, 6))\r\n",
    "plt.plot(df_hourly.temp, '.-', label='Temperature')\r\n",
    "plt.plot(df_hourly.feels_like, '.-', label='Feels Like')\r\n",
    "ax.set(title='Temperature in future 48 hours', xlabel='Time', ylabel='Temperature')\r\n",
    "ax.set_xticks(list(range(0, len(df_hourly), 2)))\r\n",
    "ax.set_xticklabels([ts2dt(ts, '%m-%d %H:%M')[0] for i, ts in enumerate(df_hourly.dt) if i%2==0], \r\n",
    "                   rotation=45, ha=\"right\")\r\n",
    "ax.locator_params(nbins=15, axis='y')\r\n",
    "plt.legend()\r\n",
    "plt.show()"
   ]
  },
  {
   "cell_type": "code",
   "execution_count": 10,
   "metadata": {
    "execution": {
     "iopub.execute_input": "2021-09-02T10:41:40.290294Z",
     "iopub.status.busy": "2021-09-02T10:41:40.289838Z",
     "iopub.status.idle": "2021-09-02T10:41:40.307761Z",
     "shell.execute_reply": "2021-09-02T10:41:40.307315Z"
    }
   },
   "outputs": [
    {
     "data": {
      "text/html": [
       "<div>\n",
       "<style scoped>\n",
       "    .dataframe tbody tr th:only-of-type {\n",
       "        vertical-align: middle;\n",
       "    }\n",
       "\n",
       "    .dataframe tbody tr th {\n",
       "        vertical-align: top;\n",
       "    }\n",
       "\n",
       "    .dataframe thead th {\n",
       "        text-align: right;\n",
       "    }\n",
       "</style>\n",
       "<table border=\"1\" class=\"dataframe\">\n",
       "  <thead>\n",
       "    <tr style=\"text-align: right;\">\n",
       "      <th></th>\n",
       "      <th>dt</th>\n",
       "      <th>temp</th>\n",
       "      <th>feels_like</th>\n",
       "      <th>pressure</th>\n",
       "      <th>humidity</th>\n",
       "      <th>dew_point</th>\n",
       "      <th>uvi</th>\n",
       "      <th>clouds</th>\n",
       "      <th>visibility</th>\n",
       "      <th>wind_speed</th>\n",
       "      <th>wind_deg</th>\n",
       "      <th>wind_gust</th>\n",
       "      <th>weather</th>\n",
       "      <th>pop</th>\n",
       "      <th>rain</th>\n",
       "    </tr>\n",
       "  </thead>\n",
       "  <tbody>\n",
       "    <tr>\n",
       "      <th>0</th>\n",
       "      <td>1630576800</td>\n",
       "      <td>30.03</td>\n",
       "      <td>36.38</td>\n",
       "      <td>1008</td>\n",
       "      <td>75</td>\n",
       "      <td>25.11</td>\n",
       "      <td>0.21</td>\n",
       "      <td>7</td>\n",
       "      <td>10000</td>\n",
       "      <td>3.16</td>\n",
       "      <td>116</td>\n",
       "      <td>3.95</td>\n",
       "      <td>[{'id': 800, 'main': 'Clear', 'description': '...</td>\n",
       "      <td>0.68</td>\n",
       "      <td>NaN</td>\n",
       "    </tr>\n",
       "    <tr>\n",
       "      <th>1</th>\n",
       "      <td>1630580400</td>\n",
       "      <td>30.30</td>\n",
       "      <td>37.13</td>\n",
       "      <td>1008</td>\n",
       "      <td>75</td>\n",
       "      <td>25.37</td>\n",
       "      <td>0.00</td>\n",
       "      <td>7</td>\n",
       "      <td>10000</td>\n",
       "      <td>3.09</td>\n",
       "      <td>120</td>\n",
       "      <td>3.81</td>\n",
       "      <td>[{'id': 800, 'main': 'Clear', 'description': '...</td>\n",
       "      <td>0.61</td>\n",
       "      <td>NaN</td>\n",
       "    </tr>\n",
       "    <tr>\n",
       "      <th>2</th>\n",
       "      <td>1630584000</td>\n",
       "      <td>29.87</td>\n",
       "      <td>36.20</td>\n",
       "      <td>1008</td>\n",
       "      <td>76</td>\n",
       "      <td>25.18</td>\n",
       "      <td>0.00</td>\n",
       "      <td>8</td>\n",
       "      <td>10000</td>\n",
       "      <td>3.19</td>\n",
       "      <td>123</td>\n",
       "      <td>3.97</td>\n",
       "      <td>[{'id': 800, 'main': 'Clear', 'description': '...</td>\n",
       "      <td>0.54</td>\n",
       "      <td>NaN</td>\n",
       "    </tr>\n",
       "    <tr>\n",
       "      <th>3</th>\n",
       "      <td>1630587600</td>\n",
       "      <td>29.41</td>\n",
       "      <td>35.19</td>\n",
       "      <td>1008</td>\n",
       "      <td>77</td>\n",
       "      <td>24.95</td>\n",
       "      <td>0.00</td>\n",
       "      <td>22</td>\n",
       "      <td>10000</td>\n",
       "      <td>3.23</td>\n",
       "      <td>128</td>\n",
       "      <td>3.97</td>\n",
       "      <td>[{'id': 801, 'main': 'Clouds', 'description': ...</td>\n",
       "      <td>0.00</td>\n",
       "      <td>NaN</td>\n",
       "    </tr>\n",
       "    <tr>\n",
       "      <th>4</th>\n",
       "      <td>1630591200</td>\n",
       "      <td>28.93</td>\n",
       "      <td>34.34</td>\n",
       "      <td>1009</td>\n",
       "      <td>79</td>\n",
       "      <td>24.92</td>\n",
       "      <td>0.00</td>\n",
       "      <td>26</td>\n",
       "      <td>10000</td>\n",
       "      <td>3.20</td>\n",
       "      <td>134</td>\n",
       "      <td>3.93</td>\n",
       "      <td>[{'id': 802, 'main': 'Clouds', 'description': ...</td>\n",
       "      <td>0.00</td>\n",
       "      <td>NaN</td>\n",
       "    </tr>\n",
       "  </tbody>\n",
       "</table>\n",
       "</div>"
      ],
      "text/plain": [
       "           dt   temp  feels_like  pressure  humidity  dew_point   uvi  clouds  \\\n",
       "0  1630576800  30.03       36.38      1008        75      25.11  0.21       7   \n",
       "1  1630580400  30.30       37.13      1008        75      25.37  0.00       7   \n",
       "2  1630584000  29.87       36.20      1008        76      25.18  0.00       8   \n",
       "3  1630587600  29.41       35.19      1008        77      24.95  0.00      22   \n",
       "4  1630591200  28.93       34.34      1009        79      24.92  0.00      26   \n",
       "\n",
       "   visibility  wind_speed  wind_deg  wind_gust  \\\n",
       "0       10000        3.16       116       3.95   \n",
       "1       10000        3.09       120       3.81   \n",
       "2       10000        3.19       123       3.97   \n",
       "3       10000        3.23       128       3.97   \n",
       "4       10000        3.20       134       3.93   \n",
       "\n",
       "                                             weather   pop rain  \n",
       "0  [{'id': 800, 'main': 'Clear', 'description': '...  0.68  NaN  \n",
       "1  [{'id': 800, 'main': 'Clear', 'description': '...  0.61  NaN  \n",
       "2  [{'id': 800, 'main': 'Clear', 'description': '...  0.54  NaN  \n",
       "3  [{'id': 801, 'main': 'Clouds', 'description': ...  0.00  NaN  \n",
       "4  [{'id': 802, 'main': 'Clouds', 'description': ...  0.00  NaN  "
      ]
     },
     "execution_count": 10,
     "metadata": {},
     "output_type": "execute_result"
    }
   ],
   "source": [
    "df_hourly.head()"
   ]
  },
  {
   "cell_type": "code",
   "execution_count": null,
   "metadata": {},
   "outputs": [],
   "source": []
  }
 ],
 "metadata": {
  "interpreter": {
   "hash": "c1b4cfe941b6d2466ad1fb5979e97da9cda8801728c8091b097ab734208fc00c"
  },
  "kernelspec": {
   "display_name": "Python 3.8.3 64-bit ('base': conda)",
   "name": "python3"
  },
  "language_info": {
   "codemirror_mode": {
    "name": "ipython",
    "version": 3
   },
   "file_extension": ".py",
   "mimetype": "text/x-python",
   "name": "python",
   "nbconvert_exporter": "python",
   "pygments_lexer": "ipython3",
   "version": "3.8.11"
  }
 },
 "nbformat": 4,
 "nbformat_minor": 2
}
