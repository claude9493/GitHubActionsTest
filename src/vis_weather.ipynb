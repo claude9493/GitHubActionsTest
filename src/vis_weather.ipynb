{
 "cells": [
  {
   "cell_type": "code",
   "execution_count": 1,
   "metadata": {
    "execution": {
     "iopub.execute_input": "2021-10-18T15:12:34.953065Z",
     "iopub.status.busy": "2021-10-18T15:12:34.952465Z",
     "iopub.status.idle": "2021-10-18T15:12:36.407226Z",
     "shell.execute_reply": "2021-10-18T15:12:36.406347Z"
    }
   },
   "outputs": [],
   "source": [
    "import json, yaml, requests\r\n",
    "from datetime import datetime\r\n",
    "from dateutil import tz\r\n",
    "import pandas as pd\r\n",
    "from PIL import Image\r\n",
    "from io import BytesIO\r\n",
    "import matplotlib.pyplot as plt\r\n",
    "import seaborn\r\n",
    "\r\n",
    "CONFIG_PATH = \"../config/config.yaml\""
   ]
  },
  {
   "cell_type": "code",
   "execution_count": 2,
   "metadata": {
    "execution": {
     "iopub.execute_input": "2021-10-18T15:12:36.412538Z",
     "iopub.status.busy": "2021-10-18T15:12:36.411968Z",
     "iopub.status.idle": "2021-10-18T15:12:36.417323Z",
     "shell.execute_reply": "2021-10-18T15:12:36.416924Z"
    }
   },
   "outputs": [],
   "source": [
    "with open('../newest_ts', 'r') as f:\r\n",
    "    newest_ts = f.read()\r\n",
    "\r\n",
    "data_path = f\"../data/data_{newest_ts}.json\"\r\n",
    "with open(data_path, 'r') as f:\r\n",
    "    data = json.load(f)\r\n",
    "\r\n",
    "with open(CONFIG_PATH, \"r\") as stream:\r\n",
    "    config = yaml.safe_load(stream)\r\n",
    "\r\n",
    "TIME_ZONE = config['time_zone']\r\n",
    "DATETIME_FORMAT = config['dt_format']"
   ]
  },
  {
   "cell_type": "code",
   "execution_count": 3,
   "metadata": {
    "execution": {
     "iopub.execute_input": "2021-10-18T15:12:36.422365Z",
     "iopub.status.busy": "2021-10-18T15:12:36.421810Z",
     "iopub.status.idle": "2021-10-18T15:12:36.428728Z",
     "shell.execute_reply": "2021-10-18T15:12:36.430757Z"
    }
   },
   "outputs": [
    {
     "name": "stdout",
     "output_type": "stream",
     "text": [
      "Recent query happens at 2021-10-18 23:12:32 (CST).\n"
     ]
    }
   ],
   "source": [
    "def ts2dt(ts, format=DATETIME_FORMAT):\r\n",
    "    dt = (datetime.utcfromtimestamp(int(ts))\r\n",
    "                    .replace(tzinfo=tz.tzutc())\r\n",
    "                    # .astimezone(tz.tzlocal())\r\n",
    "                    .astimezone(tz.gettz(TIME_ZONE)))\r\n",
    "    return dt.strftime(format), dt\r\n",
    "\r\n",
    "_, newest_dt = ts2dt(newest_ts)\r\n",
    "print(f\"Recent query happens at {newest_dt.strftime(DATETIME_FORMAT)} ({newest_dt.tzname()}).\")"
   ]
  },
  {
   "cell_type": "code",
   "execution_count": 4,
   "metadata": {
    "execution": {
     "iopub.execute_input": "2021-10-18T15:12:36.435141Z",
     "iopub.status.busy": "2021-10-18T15:12:36.432874Z",
     "iopub.status.idle": "2021-10-18T15:12:36.437447Z",
     "shell.execute_reply": "2021-10-18T15:12:36.437050Z"
    }
   },
   "outputs": [],
   "source": [
    "def degrees_to_cardinal(d):\r\n",
    "  dirs = ['N', 'NNE', 'NE', 'ENE', 'E', 'ESE', 'SE', 'SSE', 'S', 'SSW', 'SW', 'WSW', 'W', 'WNW', 'NW', 'NNW']\r\n",
    "  ix = int(round(d / (360. / len(dirs))))\r\n",
    "  return dirs[ix % len(dirs)]"
   ]
  },
  {
   "cell_type": "code",
   "execution_count": 5,
   "metadata": {
    "execution": {
     "iopub.execute_input": "2021-10-18T15:12:36.442688Z",
     "iopub.status.busy": "2021-10-18T15:12:36.441317Z",
     "iopub.status.idle": "2021-10-18T15:12:36.443265Z",
     "shell.execute_reply": "2021-10-18T15:12:36.443679Z"
    }
   },
   "outputs": [],
   "source": [
    "# data.keys()"
   ]
  },
  {
   "cell_type": "code",
   "execution_count": 6,
   "metadata": {
    "execution": {
     "iopub.execute_input": "2021-10-18T15:12:36.448729Z",
     "iopub.status.busy": "2021-10-18T15:12:36.447330Z",
     "iopub.status.idle": "2021-10-18T15:12:36.449323Z",
     "shell.execute_reply": "2021-10-18T15:12:36.449822Z"
    }
   },
   "outputs": [],
   "source": [
    "# data['current']"
   ]
  },
  {
   "cell_type": "code",
   "execution_count": 7,
   "metadata": {
    "execution": {
     "iopub.execute_input": "2021-10-18T15:12:36.469806Z",
     "iopub.status.busy": "2021-10-18T15:12:36.469291Z",
     "iopub.status.idle": "2021-10-18T15:12:36.749573Z",
     "shell.execute_reply": "2021-10-18T15:12:36.750007Z"
    }
   },
   "outputs": [
    {
     "data": {
      "image/png": "[encoded data removed]",
      "text/plain": [
       "<Figure size 216x216 with 1 Axes>"
      ]
     },
     "metadata": {
      "needs_background": "light"
     },
     "output_type": "display_data"
    },
    {
     "name": "stdout",
     "output_type": "stream",
     "text": [
      "Today, sun rises at 06:20 and sets at 17:55.\n",
      "Currently, the weather is Rain (light rain).\n",
      "The temperature is 24.58°C and it feels like 25.05°C.\n",
      "The UV index is 0, humidity is 75%.\n",
      "The pressure is 1018 hPa, percentage of cloud cover is 33%\n",
      "The wind comes from ENE direction with a speed 2.68 m/s.\n"
     ]
    }
   ],
   "source": [
    "current = data['current']\r\n",
    "\r\n",
    "fig, ax = plt.subplots(figsize=(3, 3))\r\n",
    "icon = requests.get(f\"http://openweathermap.org/img/wn/{current['weather'][0]['icon']}@2x.png\")\r\n",
    "im = Image.open(BytesIO(icon.content))\r\n",
    "plt.imshow(im)\r\n",
    "ax.set_axis_off()\r\n",
    "plt.show()\r\n",
    "\r\n",
    "print(f\"Today, sun rises at {ts2dt(current['sunrise'], '%H:%M')[0]} \\\r\n",
    "and sets at {ts2dt(current['sunset'], '%H:%M')[0]}.\\n\\\r\n",
    "Currently, the weather is {current['weather'][0]['main']} ({current['weather'][0]['description']}).\\n\\\r\n",
    "The temperature is {current['temp']}°C and it feels like {current['feels_like']}°C.\\n\\\r\n",
    "The UV index is {current['uvi']}, humidity is {current['humidity']}%.\\n\\\r\n",
    "The pressure is {current['pressure']} hPa, percentage of cloud cover is {current['clouds']}%\\n\\\r\n",
    "The wind comes from {degrees_to_cardinal(current['wind_deg'])} direction with a speed {current['wind_speed']} m/s.\")"
   ]
  },
  {
   "cell_type": "code",
   "execution_count": 8,
   "metadata": {
    "execution": {
     "iopub.execute_input": "2021-10-18T15:12:36.756476Z",
     "iopub.status.busy": "2021-10-18T15:12:36.755867Z",
     "iopub.status.idle": "2021-10-18T15:12:36.760403Z",
     "shell.execute_reply": "2021-10-18T15:12:36.760801Z"
    }
   },
   "outputs": [],
   "source": [
    "df_hourly = pd.DataFrame(data['hourly'])\r\n",
    "df_daily = pd.DataFrame(data['daily'])"
   ]
  },
  {
   "cell_type": "code",
   "execution_count": 9,
   "metadata": {
    "execution": {
     "iopub.execute_input": "2021-10-18T15:12:36.777484Z",
     "iopub.status.busy": "2021-10-18T15:12:36.766223Z",
     "iopub.status.idle": "2021-10-18T15:12:37.105115Z",
     "shell.execute_reply": "2021-10-18T15:12:37.104464Z"
    }
   },
   "outputs": [
    {
     "data": {
      "image/png": "[encoded data removed]",
      "text/plain": [
       "<Figure size 864x432 with 1 Axes>"
      ]
     },
     "metadata": {
      "needs_background": "light"
     },
     "output_type": "display_data"
    }
   ],
   "source": [
    "fig, ax = plt.subplots(figsize=(12, 6))\r\n",
    "plt.plot(df_hourly.temp, '.-', label='Temperature')\r\n",
    "plt.plot(df_hourly.feels_like, '.-', label='Feels Like')\r\n",
    "ax.set(title='Temperature in future 48 hours', xlabel='Time', ylabel='Temperature')\r\n",
    "ax.set_xticks(list(range(0, len(df_hourly), 2)))\r\n",
    "ax.set_xticklabels([ts2dt(ts, '%m-%d %H:%M')[0] for i, ts in enumerate(df_hourly.dt) if i%2==0], \r\n",
    "                   rotation=45, ha=\"right\")\r\n",
    "ax.locator_params(nbins=15, axis='y')\r\n",
    "plt.legend()\r\n",
    "plt.show()"
   ]
  },
  {
   "cell_type": "code",
   "execution_count": 10,
   "metadata": {
    "execution": {
     "iopub.execute_input": "2021-10-18T15:12:37.111190Z",
     "iopub.status.busy": "2021-10-18T15:12:37.110667Z",
     "iopub.status.idle": "2021-10-18T15:12:37.130649Z",
     "shell.execute_reply": "2021-10-18T15:12:37.130227Z"
    }
   },
   "outputs": [
    {
     "data": {
      "text/html": [
       "<div>\n",
       "<style scoped>\n",
       "    .dataframe tbody tr th:only-of-type {\n",
       "        vertical-align: middle;\n",
       "    }\n",
       "\n",
       "    .dataframe tbody tr th {\n",
       "        vertical-align: top;\n",
       "    }\n",
       "\n",
       "    .dataframe thead th {\n",
       "        text-align: right;\n",
       "    }\n",
       "</style>\n",
       "<table border=\"1\" class=\"dataframe\">\n",
       "  <thead>\n",
       "    <tr style=\"text-align: right;\">\n",
       "      <th></th>\n",
       "      <th>dt</th>\n",
       "      <th>temp</th>\n",
       "      <th>feels_like</th>\n",
       "      <th>pressure</th>\n",
       "      <th>humidity</th>\n",
       "      <th>dew_point</th>\n",
       "      <th>uvi</th>\n",
       "      <th>clouds</th>\n",
       "      <th>visibility</th>\n",
       "      <th>wind_speed</th>\n",
       "      <th>wind_deg</th>\n",
       "      <th>wind_gust</th>\n",
       "      <th>weather</th>\n",
       "      <th>pop</th>\n",
       "      <th>rain</th>\n",
       "    </tr>\n",
       "  </thead>\n",
       "  <tbody>\n",
       "    <tr>\n",
       "      <th>0</th>\n",
       "      <td>1634569200</td>\n",
       "      <td>24.58</td>\n",
       "      <td>25.05</td>\n",
       "      <td>1018</td>\n",
       "      <td>75</td>\n",
       "      <td>19.86</td>\n",
       "      <td>0</td>\n",
       "      <td>33</td>\n",
       "      <td>10000</td>\n",
       "      <td>3.81</td>\n",
       "      <td>73</td>\n",
       "      <td>4.55</td>\n",
       "      <td>[{'id': 802, 'main': 'Clouds', 'description': ...</td>\n",
       "      <td>0.0</td>\n",
       "      <td>NaN</td>\n",
       "    </tr>\n",
       "    <tr>\n",
       "      <th>1</th>\n",
       "      <td>1634572800</td>\n",
       "      <td>24.49</td>\n",
       "      <td>24.98</td>\n",
       "      <td>1018</td>\n",
       "      <td>76</td>\n",
       "      <td>19.98</td>\n",
       "      <td>0</td>\n",
       "      <td>36</td>\n",
       "      <td>10000</td>\n",
       "      <td>3.84</td>\n",
       "      <td>67</td>\n",
       "      <td>4.47</td>\n",
       "      <td>[{'id': 500, 'main': 'Rain', 'description': 'l...</td>\n",
       "      <td>0.2</td>\n",
       "      <td>{'1h': 0.13}</td>\n",
       "    </tr>\n",
       "    <tr>\n",
       "      <th>2</th>\n",
       "      <td>1634576400</td>\n",
       "      <td>24.33</td>\n",
       "      <td>24.83</td>\n",
       "      <td>1018</td>\n",
       "      <td>77</td>\n",
       "      <td>20.04</td>\n",
       "      <td>0</td>\n",
       "      <td>43</td>\n",
       "      <td>10000</td>\n",
       "      <td>3.59</td>\n",
       "      <td>63</td>\n",
       "      <td>4.17</td>\n",
       "      <td>[{'id': 802, 'main': 'Clouds', 'description': ...</td>\n",
       "      <td>0.0</td>\n",
       "      <td>NaN</td>\n",
       "    </tr>\n",
       "    <tr>\n",
       "      <th>3</th>\n",
       "      <td>1634580000</td>\n",
       "      <td>24.17</td>\n",
       "      <td>24.65</td>\n",
       "      <td>1018</td>\n",
       "      <td>77</td>\n",
       "      <td>19.88</td>\n",
       "      <td>0</td>\n",
       "      <td>52</td>\n",
       "      <td>10000</td>\n",
       "      <td>3.45</td>\n",
       "      <td>60</td>\n",
       "      <td>4.00</td>\n",
       "      <td>[{'id': 803, 'main': 'Clouds', 'description': ...</td>\n",
       "      <td>0.0</td>\n",
       "      <td>NaN</td>\n",
       "    </tr>\n",
       "    <tr>\n",
       "      <th>4</th>\n",
       "      <td>1634583600</td>\n",
       "      <td>23.97</td>\n",
       "      <td>24.46</td>\n",
       "      <td>1017</td>\n",
       "      <td>78</td>\n",
       "      <td>19.90</td>\n",
       "      <td>0</td>\n",
       "      <td>87</td>\n",
       "      <td>10000</td>\n",
       "      <td>3.80</td>\n",
       "      <td>57</td>\n",
       "      <td>4.36</td>\n",
       "      <td>[{'id': 804, 'main': 'Clouds', 'description': ...</td>\n",
       "      <td>0.0</td>\n",
       "      <td>NaN</td>\n",
       "    </tr>\n",
       "  </tbody>\n",
       "</table>\n",
       "</div>"
      ],
      "text/plain": [
       "           dt   temp  feels_like  pressure  humidity  dew_point  uvi  clouds  \\\n",
       "0  1634569200  24.58       25.05      1018        75      19.86    0      33   \n",
       "1  1634572800  24.49       24.98      1018        76      19.98    0      36   \n",
       "2  1634576400  24.33       24.83      1018        77      20.04    0      43   \n",
       "3  1634580000  24.17       24.65      1018        77      19.88    0      52   \n",
       "4  1634583600  23.97       24.46      1017        78      19.90    0      87   \n",
       "\n",
       "   visibility  wind_speed  wind_deg  wind_gust  \\\n",
       "0       10000        3.81        73       4.55   \n",
       "1       10000        3.84        67       4.47   \n",
       "2       10000        3.59        63       4.17   \n",
       "3       10000        3.45        60       4.00   \n",
       "4       10000        3.80        57       4.36   \n",
       "\n",
       "                                             weather  pop          rain  \n",
       "0  [{'id': 802, 'main': 'Clouds', 'description': ...  0.0           NaN  \n",
       "1  [{'id': 500, 'main': 'Rain', 'description': 'l...  0.2  {'1h': 0.13}  \n",
       "2  [{'id': 802, 'main': 'Clouds', 'description': ...  0.0           NaN  \n",
       "3  [{'id': 803, 'main': 'Clouds', 'description': ...  0.0           NaN  \n",
       "4  [{'id': 804, 'main': 'Clouds', 'description': ...  0.0           NaN  "
      ]
     },
     "execution_count": 10,
     "metadata": {},
     "output_type": "execute_result"
    }
   ],
   "source": [
    "df_hourly.head()"
   ]
  },
  {
   "cell_type": "code",
   "execution_count": null,
   "metadata": {},
   "outputs": [],
   "source": []
  }
 ],
 "metadata": {
  "interpreter": {
   "hash": "c1b4cfe941b6d2466ad1fb5979e97da9cda8801728c8091b097ab734208fc00c"
  },
  "kernelspec": {
   "display_name": "Python 3.8.3 64-bit ('base': conda)",
   "name": "python3"
  },
  "language_info": {
   "codemirror_mode": {
    "name": "ipython",
    "version": 3
   },
   "file_extension": ".py",
   "mimetype": "text/x-python",
   "name": "python",
   "nbconvert_exporter": "python",
   "pygments_lexer": "ipython3",
   "version": "3.8.12"
  }
 },
 "nbformat": 4,
 "nbformat_minor": 2
}
