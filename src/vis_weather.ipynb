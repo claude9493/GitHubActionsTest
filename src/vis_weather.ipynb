{
 "cells": [
  {
   "cell_type": "code",
   "execution_count": 1,
   "metadata": {
    "execution": {
     "iopub.execute_input": "2021-09-21T00:39:06.717097Z",
     "iopub.status.busy": "2021-09-21T00:39:06.716498Z",
     "iopub.status.idle": "2021-09-21T00:39:08.906537Z",
     "shell.execute_reply": "2021-09-21T00:39:08.906004Z"
    }
   },
   "outputs": [],
   "source": [
    "import json, yaml, requests\r\n",
    "from datetime import datetime\r\n",
    "from dateutil import tz\r\n",
    "import pandas as pd\r\n",
    "from PIL import Image\r\n",
    "from io import BytesIO\r\n",
    "import matplotlib.pyplot as plt\r\n",
    "import seaborn\r\n",
    "\r\n",
    "CONFIG_PATH = \"../config/config.yaml\""
   ]
  },
  {
   "cell_type": "code",
   "execution_count": 2,
   "metadata": {
    "execution": {
     "iopub.execute_input": "2021-09-21T00:39:08.911397Z",
     "iopub.status.busy": "2021-09-21T00:39:08.910639Z",
     "iopub.status.idle": "2021-09-21T00:39:08.915711Z",
     "shell.execute_reply": "2021-09-21T00:39:08.914976Z"
    }
   },
   "outputs": [],
   "source": [
    "with open('../newest_ts', 'r') as f:\r\n",
    "    newest_ts = f.read()\r\n",
    "\r\n",
    "data_path = f\"../data/data_{newest_ts}.json\"\r\n",
    "with open(data_path, 'r') as f:\r\n",
    "    data = json.load(f)\r\n",
    "\r\n",
    "with open(CONFIG_PATH, \"r\") as stream:\r\n",
    "    config = yaml.safe_load(stream)\r\n",
    "\r\n",
    "TIME_ZONE = config['time_zone']\r\n",
    "DATETIME_FORMAT = config['dt_format']"
   ]
  },
  {
   "cell_type": "code",
   "execution_count": 3,
   "metadata": {
    "execution": {
     "iopub.execute_input": "2021-09-21T00:39:08.919977Z",
     "iopub.status.busy": "2021-09-21T00:39:08.919516Z",
     "iopub.status.idle": "2021-09-21T00:39:08.929383Z",
     "shell.execute_reply": "2021-09-21T00:39:08.929733Z"
    }
   },
   "outputs": [
    {
     "name": "stdout",
     "output_type": "stream",
     "text": [
      "Recent query happens at 2021-09-21 08:39:03 (CST).\n"
     ]
    }
   ],
   "source": [
    "def ts2dt(ts, format=DATETIME_FORMAT):\r\n",
    "    dt = (datetime.utcfromtimestamp(int(ts))\r\n",
    "                    .replace(tzinfo=tz.tzutc())\r\n",
    "                    # .astimezone(tz.tzlocal())\r\n",
    "                    .astimezone(tz.gettz(TIME_ZONE)))\r\n",
    "    return dt.strftime(format), dt\r\n",
    "\r\n",
    "_, newest_dt = ts2dt(newest_ts)\r\n",
    "print(f\"Recent query happens at {newest_dt.strftime(DATETIME_FORMAT)} ({newest_dt.tzname()}).\")"
   ]
  },
  {
   "cell_type": "code",
   "execution_count": 4,
   "metadata": {
    "execution": {
     "iopub.execute_input": "2021-09-21T00:39:08.934584Z",
     "iopub.status.busy": "2021-09-21T00:39:08.933609Z",
     "iopub.status.idle": "2021-09-21T00:39:08.935100Z",
     "shell.execute_reply": "2021-09-21T00:39:08.935484Z"
    }
   },
   "outputs": [],
   "source": [
    "def degrees_to_cardinal(d):\r\n",
    "  dirs = ['N', 'NNE', 'NE', 'ENE', 'E', 'ESE', 'SE', 'SSE', 'S', 'SSW', 'SW', 'WSW', 'W', 'WNW', 'NW', 'NNW']\r\n",
    "  ix = int(round(d / (360. / len(dirs))))\r\n",
    "  return dirs[ix % len(dirs)]"
   ]
  },
  {
   "cell_type": "code",
   "execution_count": 5,
   "metadata": {
    "execution": {
     "iopub.execute_input": "2021-09-21T00:39:08.939198Z",
     "iopub.status.busy": "2021-09-21T00:39:08.938198Z",
     "iopub.status.idle": "2021-09-21T00:39:08.939741Z",
     "shell.execute_reply": "2021-09-21T00:39:08.940102Z"
    }
   },
   "outputs": [],
   "source": [
    "# data.keys()"
   ]
  },
  {
   "cell_type": "code",
   "execution_count": 6,
   "metadata": {
    "execution": {
     "iopub.execute_input": "2021-09-21T00:39:08.943575Z",
     "iopub.status.busy": "2021-09-21T00:39:08.942571Z",
     "iopub.status.idle": "2021-09-21T00:39:08.944087Z",
     "shell.execute_reply": "2021-09-21T00:39:08.944446Z"
    }
   },
   "outputs": [],
   "source": [
    "# data['current']"
   ]
  },
  {
   "cell_type": "code",
   "execution_count": 7,
   "metadata": {
    "execution": {
     "iopub.execute_input": "2021-09-21T00:39:08.960493Z",
     "iopub.status.busy": "2021-09-21T00:39:08.960019Z",
     "iopub.status.idle": "2021-09-21T00:39:09.339443Z",
     "shell.execute_reply": "2021-09-21T00:39:09.340104Z"
    }
   },
   "outputs": [
    {
     "data": {
      "image/png": "[encoded data removed]",
      "text/plain": [
       "<Figure size 216x216 with 1 Axes>"
      ]
     },
     "metadata": {
      "needs_background": "light"
     },
     "output_type": "display_data"
    },
    {
     "name": "stdout",
     "output_type": "stream",
     "text": [
      "Today, sun rises at 06:11 and sets at 18:20.\n",
      "Currently, the weather is Clouds (overcast clouds).\n",
      "The temperature is 29.75°C and it feels like 35.62°C.\n",
      "The UV index is 3.22, humidity is 75%.\n",
      "The pressure is 1011 hPa, percentage of cloud cover is 87%\n",
      "The wind comes from NE direction with a speed 0.7 m/s.\n"
     ]
    }
   ],
   "source": [
    "current = data['current']\r\n",
    "\r\n",
    "fig, ax = plt.subplots(figsize=(3, 3))\r\n",
    "icon = requests.get(f\"http://openweathermap.org/img/wn/{current['weather'][0]['icon']}@2x.png\")\r\n",
    "im = Image.open(BytesIO(icon.content))\r\n",
    "plt.imshow(im)\r\n",
    "ax.set_axis_off()\r\n",
    "plt.show()\r\n",
    "\r\n",
    "print(f\"Today, sun rises at {ts2dt(current['sunrise'], '%H:%M')[0]} \\\r\n",
    "and sets at {ts2dt(current['sunset'], '%H:%M')[0]}.\\n\\\r\n",
    "Currently, the weather is {current['weather'][0]['main']} ({current['weather'][0]['description']}).\\n\\\r\n",
    "The temperature is {current['temp']}°C and it feels like {current['feels_like']}°C.\\n\\\r\n",
    "The UV index is {current['uvi']}, humidity is {current['humidity']}%.\\n\\\r\n",
    "The pressure is {current['pressure']} hPa, percentage of cloud cover is {current['clouds']}%\\n\\\r\n",
    "The wind comes from {degrees_to_cardinal(current['wind_deg'])} direction with a speed {current['wind_speed']} m/s.\")"
   ]
  },
  {
   "cell_type": "code",
   "execution_count": 8,
   "metadata": {
    "execution": {
     "iopub.execute_input": "2021-09-21T00:39:09.343187Z",
     "iopub.status.busy": "2021-09-21T00:39:09.342285Z",
     "iopub.status.idle": "2021-09-21T00:39:09.348901Z",
     "shell.execute_reply": "2021-09-21T00:39:09.349517Z"
    }
   },
   "outputs": [],
   "source": [
    "df_hourly = pd.DataFrame(data['hourly'])\r\n",
    "df_daily = pd.DataFrame(data['daily'])"
   ]
  },
  {
   "cell_type": "code",
   "execution_count": 9,
   "metadata": {
    "execution": {
     "iopub.execute_input": "2021-09-21T00:39:09.352414Z",
     "iopub.status.busy": "2021-09-21T00:39:09.351516Z",
     "iopub.status.idle": "2021-09-21T00:39:09.583632Z",
     "shell.execute_reply": "2021-09-21T00:39:09.583124Z"
    }
   },
   "outputs": [
    {
     "data": {
      "image/png": "[encoded data removed]",
      "text/plain": [
       "<Figure size 864x432 with 1 Axes>"
      ]
     },
     "metadata": {
      "needs_background": "light"
     },
     "output_type": "display_data"
    }
   ],
   "source": [
    "fig, ax = plt.subplots(figsize=(12, 6))\r\n",
    "plt.plot(df_hourly.temp, '.-', label='Temperature')\r\n",
    "plt.plot(df_hourly.feels_like, '.-', label='Feels Like')\r\n",
    "ax.set(title='Temperature in future 48 hours', xlabel='Time', ylabel='Temperature')\r\n",
    "ax.set_xticks(list(range(0, len(df_hourly), 2)))\r\n",
    "ax.set_xticklabels([ts2dt(ts, '%m-%d %H:%M')[0] for i, ts in enumerate(df_hourly.dt) if i%2==0], \r\n",
    "                   rotation=45, ha=\"right\")\r\n",
    "ax.locator_params(nbins=15, axis='y')\r\n",
    "plt.legend()\r\n",
    "plt.show()"
   ]
  },
  {
   "cell_type": "code",
   "execution_count": 10,
   "metadata": {
    "execution": {
     "iopub.execute_input": "2021-09-21T00:39:09.588132Z",
     "iopub.status.busy": "2021-09-21T00:39:09.587589Z",
     "iopub.status.idle": "2021-09-21T00:39:09.603433Z",
     "shell.execute_reply": "2021-09-21T00:39:09.603814Z"
    }
   },
   "outputs": [
    {
     "data": {
      "text/html": [
       "<div>\n",
       "<style scoped>\n",
       "    .dataframe tbody tr th:only-of-type {\n",
       "        vertical-align: middle;\n",
       "    }\n",
       "\n",
       "    .dataframe tbody tr th {\n",
       "        vertical-align: top;\n",
       "    }\n",
       "\n",
       "    .dataframe thead th {\n",
       "        text-align: right;\n",
       "    }\n",
       "</style>\n",
       "<table border=\"1\" class=\"dataframe\">\n",
       "  <thead>\n",
       "    <tr style=\"text-align: right;\">\n",
       "      <th></th>\n",
       "      <th>dt</th>\n",
       "      <th>temp</th>\n",
       "      <th>feels_like</th>\n",
       "      <th>pressure</th>\n",
       "      <th>humidity</th>\n",
       "      <th>dew_point</th>\n",
       "      <th>uvi</th>\n",
       "      <th>clouds</th>\n",
       "      <th>visibility</th>\n",
       "      <th>wind_speed</th>\n",
       "      <th>wind_deg</th>\n",
       "      <th>wind_gust</th>\n",
       "      <th>weather</th>\n",
       "      <th>pop</th>\n",
       "      <th>rain</th>\n",
       "    </tr>\n",
       "  </thead>\n",
       "  <tbody>\n",
       "    <tr>\n",
       "      <th>0</th>\n",
       "      <td>1632182400</td>\n",
       "      <td>29.43</td>\n",
       "      <td>35.01</td>\n",
       "      <td>1011</td>\n",
       "      <td>76</td>\n",
       "      <td>24.75</td>\n",
       "      <td>1.19</td>\n",
       "      <td>84</td>\n",
       "      <td>10000</td>\n",
       "      <td>1.00</td>\n",
       "      <td>48</td>\n",
       "      <td>1.12</td>\n",
       "      <td>[{'id': 500, 'main': 'Rain', 'description': 'l...</td>\n",
       "      <td>0.68</td>\n",
       "      <td>{'1h': 0.39}</td>\n",
       "    </tr>\n",
       "    <tr>\n",
       "      <th>1</th>\n",
       "      <td>1632186000</td>\n",
       "      <td>29.75</td>\n",
       "      <td>35.62</td>\n",
       "      <td>1011</td>\n",
       "      <td>75</td>\n",
       "      <td>24.84</td>\n",
       "      <td>3.22</td>\n",
       "      <td>87</td>\n",
       "      <td>10000</td>\n",
       "      <td>0.70</td>\n",
       "      <td>53</td>\n",
       "      <td>0.89</td>\n",
       "      <td>[{'id': 804, 'main': 'Clouds', 'description': ...</td>\n",
       "      <td>0.58</td>\n",
       "      <td>NaN</td>\n",
       "    </tr>\n",
       "    <tr>\n",
       "      <th>2</th>\n",
       "      <td>1632189600</td>\n",
       "      <td>29.77</td>\n",
       "      <td>35.43</td>\n",
       "      <td>1011</td>\n",
       "      <td>74</td>\n",
       "      <td>24.63</td>\n",
       "      <td>6.06</td>\n",
       "      <td>83</td>\n",
       "      <td>10000</td>\n",
       "      <td>0.49</td>\n",
       "      <td>90</td>\n",
       "      <td>0.66</td>\n",
       "      <td>[{'id': 803, 'main': 'Clouds', 'description': ...</td>\n",
       "      <td>0.50</td>\n",
       "      <td>NaN</td>\n",
       "    </tr>\n",
       "    <tr>\n",
       "      <th>3</th>\n",
       "      <td>1632193200</td>\n",
       "      <td>30.04</td>\n",
       "      <td>35.38</td>\n",
       "      <td>1011</td>\n",
       "      <td>71</td>\n",
       "      <td>24.20</td>\n",
       "      <td>8.74</td>\n",
       "      <td>74</td>\n",
       "      <td>10000</td>\n",
       "      <td>0.83</td>\n",
       "      <td>119</td>\n",
       "      <td>0.78</td>\n",
       "      <td>[{'id': 803, 'main': 'Clouds', 'description': ...</td>\n",
       "      <td>0.44</td>\n",
       "      <td>NaN</td>\n",
       "    </tr>\n",
       "    <tr>\n",
       "      <th>4</th>\n",
       "      <td>1632196800</td>\n",
       "      <td>30.42</td>\n",
       "      <td>35.82</td>\n",
       "      <td>1010</td>\n",
       "      <td>69</td>\n",
       "      <td>24.09</td>\n",
       "      <td>10.23</td>\n",
       "      <td>64</td>\n",
       "      <td>10000</td>\n",
       "      <td>1.67</td>\n",
       "      <td>136</td>\n",
       "      <td>1.41</td>\n",
       "      <td>[{'id': 803, 'main': 'Clouds', 'description': ...</td>\n",
       "      <td>0.37</td>\n",
       "      <td>NaN</td>\n",
       "    </tr>\n",
       "  </tbody>\n",
       "</table>\n",
       "</div>"
      ],
      "text/plain": [
       "           dt   temp  feels_like  pressure  humidity  dew_point    uvi  \\\n",
       "0  1632182400  29.43       35.01      1011        76      24.75   1.19   \n",
       "1  1632186000  29.75       35.62      1011        75      24.84   3.22   \n",
       "2  1632189600  29.77       35.43      1011        74      24.63   6.06   \n",
       "3  1632193200  30.04       35.38      1011        71      24.20   8.74   \n",
       "4  1632196800  30.42       35.82      1010        69      24.09  10.23   \n",
       "\n",
       "   clouds  visibility  wind_speed  wind_deg  wind_gust  \\\n",
       "0      84       10000        1.00        48       1.12   \n",
       "1      87       10000        0.70        53       0.89   \n",
       "2      83       10000        0.49        90       0.66   \n",
       "3      74       10000        0.83       119       0.78   \n",
       "4      64       10000        1.67       136       1.41   \n",
       "\n",
       "                                             weather   pop          rain  \n",
       "0  [{'id': 500, 'main': 'Rain', 'description': 'l...  0.68  {'1h': 0.39}  \n",
       "1  [{'id': 804, 'main': 'Clouds', 'description': ...  0.58           NaN  \n",
       "2  [{'id': 803, 'main': 'Clouds', 'description': ...  0.50           NaN  \n",
       "3  [{'id': 803, 'main': 'Clouds', 'description': ...  0.44           NaN  \n",
       "4  [{'id': 803, 'main': 'Clouds', 'description': ...  0.37           NaN  "
      ]
     },
     "execution_count": 10,
     "metadata": {},
     "output_type": "execute_result"
    }
   ],
   "source": [
    "df_hourly.head()"
   ]
  },
  {
   "cell_type": "code",
   "execution_count": null,
   "metadata": {},
   "outputs": [],
   "source": []
  }
 ],
 "metadata": {
  "interpreter": {
   "hash": "c1b4cfe941b6d2466ad1fb5979e97da9cda8801728c8091b097ab734208fc00c"
  },
  "kernelspec": {
   "display_name": "Python 3.8.3 64-bit ('base': conda)",
   "name": "python3"
  },
  "language_info": {
   "codemirror_mode": {
    "name": "ipython",
    "version": 3
   },
   "file_extension": ".py",
   "mimetype": "text/x-python",
   "name": "python",
   "nbconvert_exporter": "python",
   "pygments_lexer": "ipython3",
   "version": "3.8.11"
  }
 },
 "nbformat": 4,
 "nbformat_minor": 2
}
