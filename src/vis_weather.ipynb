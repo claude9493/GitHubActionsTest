{
 "cells": [
  {
   "cell_type": "code",
   "execution_count": 1,
   "metadata": {
    "execution": {
     "iopub.execute_input": "2021-10-22T00:44:42.244844Z",
     "iopub.status.busy": "2021-10-22T00:44:42.244212Z",
     "iopub.status.idle": "2021-10-22T00:44:47.271462Z",
     "shell.execute_reply": "2021-10-22T00:44:47.270662Z"
    }
   },
   "outputs": [],
   "source": [
    "import json, yaml, requests\r\n",
    "from datetime import datetime\r\n",
    "from dateutil import tz\r\n",
    "import pandas as pd\r\n",
    "from PIL import Image\r\n",
    "from io import BytesIO\r\n",
    "import matplotlib.pyplot as plt\r\n",
    "import seaborn\r\n",
    "\r\n",
    "CONFIG_PATH = \"../config/config.yaml\""
   ]
  },
  {
   "cell_type": "code",
   "execution_count": 2,
   "metadata": {
    "execution": {
     "iopub.execute_input": "2021-10-22T00:44:47.278165Z",
     "iopub.status.busy": "2021-10-22T00:44:47.275673Z",
     "iopub.status.idle": "2021-10-22T00:44:47.280663Z",
     "shell.execute_reply": "2021-10-22T00:44:47.280252Z"
    }
   },
   "outputs": [],
   "source": [
    "with open('../newest_ts', 'r') as f:\r\n",
    "    newest_ts = f.read()\r\n",
    "\r\n",
    "data_path = f\"../data/data_{newest_ts}.json\"\r\n",
    "with open(data_path, 'r') as f:\r\n",
    "    data = json.load(f)\r\n",
    "\r\n",
    "with open(CONFIG_PATH, \"r\") as stream:\r\n",
    "    config = yaml.safe_load(stream)\r\n",
    "\r\n",
    "TIME_ZONE = config['time_zone']\r\n",
    "DATETIME_FORMAT = config['dt_format']"
   ]
  },
  {
   "cell_type": "code",
   "execution_count": 3,
   "metadata": {
    "execution": {
     "iopub.execute_input": "2021-10-22T00:44:47.284754Z",
     "iopub.status.busy": "2021-10-22T00:44:47.284273Z",
     "iopub.status.idle": "2021-10-22T00:44:47.303951Z",
     "shell.execute_reply": "2021-10-22T00:44:47.304379Z"
    }
   },
   "outputs": [
    {
     "name": "stdout",
     "output_type": "stream",
     "text": [
      "Recent query happens at 2021-10-22 08:44:37 (CST).\n"
     ]
    }
   ],
   "source": [
    "def ts2dt(ts, format=DATETIME_FORMAT):\r\n",
    "    dt = (datetime.utcfromtimestamp(int(ts))\r\n",
    "                    .replace(tzinfo=tz.tzutc())\r\n",
    "                    # .astimezone(tz.tzlocal())\r\n",
    "                    .astimezone(tz.gettz(TIME_ZONE)))\r\n",
    "    return dt.strftime(format), dt\r\n",
    "\r\n",
    "_, newest_dt = ts2dt(newest_ts)\r\n",
    "print(f\"Recent query happens at {newest_dt.strftime(DATETIME_FORMAT)} ({newest_dt.tzname()}).\")"
   ]
  },
  {
   "cell_type": "code",
   "execution_count": 4,
   "metadata": {
    "execution": {
     "iopub.execute_input": "2021-10-22T00:44:47.309631Z",
     "iopub.status.busy": "2021-10-22T00:44:47.308682Z",
     "iopub.status.idle": "2021-10-22T00:44:47.310180Z",
     "shell.execute_reply": "2021-10-22T00:44:47.310504Z"
    }
   },
   "outputs": [],
   "source": [
    "def degrees_to_cardinal(d):\r\n",
    "  dirs = ['N', 'NNE', 'NE', 'ENE', 'E', 'ESE', 'SE', 'SSE', 'S', 'SSW', 'SW', 'WSW', 'W', 'WNW', 'NW', 'NNW']\r\n",
    "  ix = int(round(d / (360. / len(dirs))))\r\n",
    "  return dirs[ix % len(dirs)]"
   ]
  },
  {
   "cell_type": "code",
   "execution_count": 5,
   "metadata": {
    "execution": {
     "iopub.execute_input": "2021-10-22T00:44:47.313749Z",
     "iopub.status.busy": "2021-10-22T00:44:47.313006Z",
     "iopub.status.idle": "2021-10-22T00:44:47.314849Z",
     "shell.execute_reply": "2021-10-22T00:44:47.314469Z"
    }
   },
   "outputs": [],
   "source": [
    "# data.keys()"
   ]
  },
  {
   "cell_type": "code",
   "execution_count": 6,
   "metadata": {
    "execution": {
     "iopub.execute_input": "2021-10-22T00:44:47.317864Z",
     "iopub.status.busy": "2021-10-22T00:44:47.317144Z",
     "iopub.status.idle": "2021-10-22T00:44:47.318617Z",
     "shell.execute_reply": "2021-10-22T00:44:47.318941Z"
    }
   },
   "outputs": [],
   "source": [
    "# data['current']"
   ]
  },
  {
   "cell_type": "code",
   "execution_count": 7,
   "metadata": {
    "execution": {
     "iopub.execute_input": "2021-10-22T00:44:47.335449Z",
     "iopub.status.busy": "2021-10-22T00:44:47.334562Z",
     "iopub.status.idle": "2021-10-22T00:44:47.719350Z",
     "shell.execute_reply": "2021-10-22T00:44:47.719970Z"
    }
   },
   "outputs": [
    {
     "data": {
      "image/png": "[encoded data removed]",
      "text/plain": [
       "<Figure size 216x216 with 1 Axes>"
      ]
     },
     "metadata": {
      "needs_background": "light"
     },
     "output_type": "display_data"
    },
    {
     "name": "stdout",
     "output_type": "stream",
     "text": [
      "Today, sun rises at 06:21 and sets at 17:52.\n",
      "Currently, the weather is Clouds (overcast clouds).\n",
      "The temperature is 18.23°C and it feels like 18.25°C.\n",
      "The UV index is 0.52, humidity is 82%.\n",
      "The pressure is 1018 hPa, percentage of cloud cover is 100%\n",
      "The wind comes from NE direction with a speed 0.45 m/s.\n"
     ]
    }
   ],
   "source": [
    "current = data['current']\r\n",
    "\r\n",
    "fig, ax = plt.subplots(figsize=(3, 3))\r\n",
    "icon = requests.get(f\"http://openweathermap.org/img/wn/{current['weather'][0]['icon']}@2x.png\")\r\n",
    "im = Image.open(BytesIO(icon.content))\r\n",
    "plt.imshow(im)\r\n",
    "ax.set_axis_off()\r\n",
    "plt.show()\r\n",
    "\r\n",
    "print(f\"Today, sun rises at {ts2dt(current['sunrise'], '%H:%M')[0]} \\\r\n",
    "and sets at {ts2dt(current['sunset'], '%H:%M')[0]}.\\n\\\r\n",
    "Currently, the weather is {current['weather'][0]['main']} ({current['weather'][0]['description']}).\\n\\\r\n",
    "The temperature is {current['temp']}°C and it feels like {current['feels_like']}°C.\\n\\\r\n",
    "The UV index is {current['uvi']}, humidity is {current['humidity']}%.\\n\\\r\n",
    "The pressure is {current['pressure']} hPa, percentage of cloud cover is {current['clouds']}%\\n\\\r\n",
    "The wind comes from {degrees_to_cardinal(current['wind_deg'])} direction with a speed {current['wind_speed']} m/s.\")"
   ]
  },
  {
   "cell_type": "code",
   "execution_count": 8,
   "metadata": {
    "execution": {
     "iopub.execute_input": "2021-10-22T00:44:47.726731Z",
     "iopub.status.busy": "2021-10-22T00:44:47.724807Z",
     "iopub.status.idle": "2021-10-22T00:44:47.729623Z",
     "shell.execute_reply": "2021-10-22T00:44:47.729264Z"
    }
   },
   "outputs": [],
   "source": [
    "df_hourly = pd.DataFrame(data['hourly'])\r\n",
    "df_daily = pd.DataFrame(data['daily'])"
   ]
  },
  {
   "cell_type": "code",
   "execution_count": 9,
   "metadata": {
    "execution": {
     "iopub.execute_input": "2021-10-22T00:44:47.741687Z",
     "iopub.status.busy": "2021-10-22T00:44:47.741119Z",
     "iopub.status.idle": "2021-10-22T00:44:47.961539Z",
     "shell.execute_reply": "2021-10-22T00:44:47.962091Z"
    }
   },
   "outputs": [
    {
     "data": {
      "image/png": "[encoded data removed]",
      "text/plain": [
       "<Figure size 864x432 with 1 Axes>"
      ]
     },
     "metadata": {
      "needs_background": "light"
     },
     "output_type": "display_data"
    }
   ],
   "source": [
    "fig, ax = plt.subplots(figsize=(12, 6))\r\n",
    "plt.plot(df_hourly.temp, '.-', label='Temperature')\r\n",
    "plt.plot(df_hourly.feels_like, '.-', label='Feels Like')\r\n",
    "ax.set(title='Temperature in future 48 hours', xlabel='Time', ylabel='Temperature')\r\n",
    "ax.set_xticks(list(range(0, len(df_hourly), 2)))\r\n",
    "ax.set_xticklabels([ts2dt(ts, '%m-%d %H:%M')[0] for i, ts in enumerate(df_hourly.dt) if i%2==0], \r\n",
    "                   rotation=45, ha=\"right\")\r\n",
    "ax.locator_params(nbins=15, axis='y')\r\n",
    "plt.legend()\r\n",
    "plt.show()"
   ]
  },
  {
   "cell_type": "code",
   "execution_count": 10,
   "metadata": {
    "execution": {
     "iopub.execute_input": "2021-10-22T00:44:47.966785Z",
     "iopub.status.busy": "2021-10-22T00:44:47.964319Z",
     "iopub.status.idle": "2021-10-22T00:44:47.983472Z",
     "shell.execute_reply": "2021-10-22T00:44:47.982674Z"
    }
   },
   "outputs": [
    {
     "data": {
      "text/html": [
       "<div>\n",
       "<style scoped>\n",
       "    .dataframe tbody tr th:only-of-type {\n",
       "        vertical-align: middle;\n",
       "    }\n",
       "\n",
       "    .dataframe tbody tr th {\n",
       "        vertical-align: top;\n",
       "    }\n",
       "\n",
       "    .dataframe thead th {\n",
       "        text-align: right;\n",
       "    }\n",
       "</style>\n",
       "<table border=\"1\" class=\"dataframe\">\n",
       "  <thead>\n",
       "    <tr style=\"text-align: right;\">\n",
       "      <th></th>\n",
       "      <th>dt</th>\n",
       "      <th>temp</th>\n",
       "      <th>feels_like</th>\n",
       "      <th>pressure</th>\n",
       "      <th>humidity</th>\n",
       "      <th>dew_point</th>\n",
       "      <th>uvi</th>\n",
       "      <th>clouds</th>\n",
       "      <th>visibility</th>\n",
       "      <th>wind_speed</th>\n",
       "      <th>wind_deg</th>\n",
       "      <th>wind_gust</th>\n",
       "      <th>weather</th>\n",
       "      <th>pop</th>\n",
       "    </tr>\n",
       "  </thead>\n",
       "  <tbody>\n",
       "    <tr>\n",
       "      <th>0</th>\n",
       "      <td>1634860800</td>\n",
       "      <td>18.09</td>\n",
       "      <td>18.07</td>\n",
       "      <td>1018</td>\n",
       "      <td>81</td>\n",
       "      <td>14.78</td>\n",
       "      <td>0.17</td>\n",
       "      <td>100</td>\n",
       "      <td>10000</td>\n",
       "      <td>4.09</td>\n",
       "      <td>7</td>\n",
       "      <td>5.32</td>\n",
       "      <td>[{'id': 804, 'main': 'Clouds', 'description': ...</td>\n",
       "      <td>0.16</td>\n",
       "    </tr>\n",
       "    <tr>\n",
       "      <th>1</th>\n",
       "      <td>1634864400</td>\n",
       "      <td>18.23</td>\n",
       "      <td>18.25</td>\n",
       "      <td>1018</td>\n",
       "      <td>82</td>\n",
       "      <td>15.11</td>\n",
       "      <td>0.52</td>\n",
       "      <td>100</td>\n",
       "      <td>10000</td>\n",
       "      <td>3.75</td>\n",
       "      <td>3</td>\n",
       "      <td>4.73</td>\n",
       "      <td>[{'id': 804, 'main': 'Clouds', 'description': ...</td>\n",
       "      <td>0.04</td>\n",
       "    </tr>\n",
       "    <tr>\n",
       "      <th>2</th>\n",
       "      <td>1634868000</td>\n",
       "      <td>18.19</td>\n",
       "      <td>18.15</td>\n",
       "      <td>1018</td>\n",
       "      <td>80</td>\n",
       "      <td>14.69</td>\n",
       "      <td>1.04</td>\n",
       "      <td>100</td>\n",
       "      <td>10000</td>\n",
       "      <td>3.74</td>\n",
       "      <td>359</td>\n",
       "      <td>4.66</td>\n",
       "      <td>[{'id': 804, 'main': 'Clouds', 'description': ...</td>\n",
       "      <td>0.04</td>\n",
       "    </tr>\n",
       "    <tr>\n",
       "      <th>3</th>\n",
       "      <td>1634871600</td>\n",
       "      <td>18.19</td>\n",
       "      <td>18.10</td>\n",
       "      <td>1019</td>\n",
       "      <td>78</td>\n",
       "      <td>14.29</td>\n",
       "      <td>1.57</td>\n",
       "      <td>100</td>\n",
       "      <td>10000</td>\n",
       "      <td>3.67</td>\n",
       "      <td>4</td>\n",
       "      <td>4.66</td>\n",
       "      <td>[{'id': 804, 'main': 'Clouds', 'description': ...</td>\n",
       "      <td>0.00</td>\n",
       "    </tr>\n",
       "    <tr>\n",
       "      <th>4</th>\n",
       "      <td>1634875200</td>\n",
       "      <td>18.36</td>\n",
       "      <td>18.18</td>\n",
       "      <td>1019</td>\n",
       "      <td>74</td>\n",
       "      <td>13.65</td>\n",
       "      <td>1.83</td>\n",
       "      <td>100</td>\n",
       "      <td>10000</td>\n",
       "      <td>3.85</td>\n",
       "      <td>2</td>\n",
       "      <td>4.74</td>\n",
       "      <td>[{'id': 804, 'main': 'Clouds', 'description': ...</td>\n",
       "      <td>0.00</td>\n",
       "    </tr>\n",
       "  </tbody>\n",
       "</table>\n",
       "</div>"
      ],
      "text/plain": [
       "           dt   temp  feels_like  pressure  humidity  dew_point   uvi  clouds  \\\n",
       "0  1634860800  18.09       18.07      1018        81      14.78  0.17     100   \n",
       "1  1634864400  18.23       18.25      1018        82      15.11  0.52     100   \n",
       "2  1634868000  18.19       18.15      1018        80      14.69  1.04     100   \n",
       "3  1634871600  18.19       18.10      1019        78      14.29  1.57     100   \n",
       "4  1634875200  18.36       18.18      1019        74      13.65  1.83     100   \n",
       "\n",
       "   visibility  wind_speed  wind_deg  wind_gust  \\\n",
       "0       10000        4.09         7       5.32   \n",
       "1       10000        3.75         3       4.73   \n",
       "2       10000        3.74       359       4.66   \n",
       "3       10000        3.67         4       4.66   \n",
       "4       10000        3.85         2       4.74   \n",
       "\n",
       "                                             weather   pop  \n",
       "0  [{'id': 804, 'main': 'Clouds', 'description': ...  0.16  \n",
       "1  [{'id': 804, 'main': 'Clouds', 'description': ...  0.04  \n",
       "2  [{'id': 804, 'main': 'Clouds', 'description': ...  0.04  \n",
       "3  [{'id': 804, 'main': 'Clouds', 'description': ...  0.00  \n",
       "4  [{'id': 804, 'main': 'Clouds', 'description': ...  0.00  "
      ]
     },
     "execution_count": 10,
     "metadata": {},
     "output_type": "execute_result"
    }
   ],
   "source": [
    "df_hourly.head()"
   ]
  },
  {
   "cell_type": "code",
   "execution_count": null,
   "metadata": {},
   "outputs": [],
   "source": []
  }
 ],
 "metadata": {
  "interpreter": {
   "hash": "c1b4cfe941b6d2466ad1fb5979e97da9cda8801728c8091b097ab734208fc00c"
  },
  "kernelspec": {
   "display_name": "Python 3.8.3 64-bit ('base': conda)",
   "name": "python3"
  },
  "language_info": {
   "codemirror_mode": {
    "name": "ipython",
    "version": 3
   },
   "file_extension": ".py",
   "mimetype": "text/x-python",
   "name": "python",
   "nbconvert_exporter": "python",
   "pygments_lexer": "ipython3",
   "version": "3.8.12"
  }
 },
 "nbformat": 4,
 "nbformat_minor": 2
}
