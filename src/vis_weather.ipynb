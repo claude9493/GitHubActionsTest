{
 "cells": [
  {
   "cell_type": "code",
   "execution_count": 1,
   "metadata": {
    "execution": {
     "iopub.execute_input": "2021-08-31T08:41:48.635250Z",
     "iopub.status.busy": "2021-08-31T08:41:48.634744Z",
     "iopub.status.idle": "2021-08-31T08:41:51.359337Z",
     "shell.execute_reply": "2021-08-31T08:41:51.359731Z"
    }
   },
   "outputs": [],
   "source": [
    "import json, yaml, requests\r\n",
    "from datetime import datetime\r\n",
    "from dateutil import tz\r\n",
    "import pandas as pd\r\n",
    "from PIL import Image\r\n",
    "from io import BytesIO\r\n",
    "import matplotlib.pyplot as plt\r\n",
    "import seaborn\r\n",
    "\r\n",
    "CONFIG_PATH = \"../config/config.yaml\""
   ]
  },
  {
   "cell_type": "code",
   "execution_count": 2,
   "metadata": {
    "execution": {
     "iopub.execute_input": "2021-08-31T08:41:51.367265Z",
     "iopub.status.busy": "2021-08-31T08:41:51.364458Z",
     "iopub.status.idle": "2021-08-31T08:41:51.369777Z",
     "shell.execute_reply": "2021-08-31T08:41:51.369370Z"
    }
   },
   "outputs": [],
   "source": [
    "with open('../newest_ts', 'r') as f:\r\n",
    "    newest_ts = f.read()\r\n",
    "\r\n",
    "data_path = f\"../data/data_{newest_ts}.json\"\r\n",
    "with open(data_path, 'r') as f:\r\n",
    "    data = json.load(f)\r\n",
    "\r\n",
    "with open(CONFIG_PATH, \"r\") as stream:\r\n",
    "    config = yaml.safe_load(stream)\r\n",
    "\r\n",
    "TIME_ZONE = config['time_zone']\r\n",
    "DATETIME_FORMAT = config['dt_format']"
   ]
  },
  {
   "cell_type": "code",
   "execution_count": 3,
   "metadata": {
    "execution": {
     "iopub.execute_input": "2021-08-31T08:41:51.374049Z",
     "iopub.status.busy": "2021-08-31T08:41:51.373417Z",
     "iopub.status.idle": "2021-08-31T08:41:51.377705Z",
     "shell.execute_reply": "2021-08-31T08:41:51.378054Z"
    }
   },
   "outputs": [
    {
     "name": "stdout",
     "output_type": "stream",
     "text": [
      "Recent query happens at 2021-08-31 16:41:45 (CST).\n"
     ]
    }
   ],
   "source": [
    "def ts2dt(ts, format=DATETIME_FORMAT):\r\n",
    "    dt = (datetime.utcfromtimestamp(int(ts))\r\n",
    "                    .replace(tzinfo=tz.tzutc())\r\n",
    "                    # .astimezone(tz.tzlocal())\r\n",
    "                    .astimezone(tz.gettz(TIME_ZONE)))\r\n",
    "    return dt.strftime(format), dt\r\n",
    "\r\n",
    "_, newest_dt = ts2dt(newest_ts)\r\n",
    "print(f\"Recent query happens at {newest_dt.strftime(DATETIME_FORMAT)} ({newest_dt.tzname()}).\")"
   ]
  },
  {
   "cell_type": "code",
   "execution_count": 4,
   "metadata": {
    "execution": {
     "iopub.execute_input": "2021-08-31T08:41:51.382920Z",
     "iopub.status.busy": "2021-08-31T08:41:51.381789Z",
     "iopub.status.idle": "2021-08-31T08:41:51.383441Z",
     "shell.execute_reply": "2021-08-31T08:41:51.383799Z"
    }
   },
   "outputs": [],
   "source": [
    "def degrees_to_cardinal(d):\r\n",
    "  dirs = ['N', 'NNE', 'NE', 'ENE', 'E', 'ESE', 'SE', 'SSE', 'S', 'SSW', 'SW', 'WSW', 'W', 'WNW', 'NW', 'NNW']\r\n",
    "  ix = int(round(d / (360. / len(dirs))))\r\n",
    "  return dirs[ix % len(dirs)]"
   ]
  },
  {
   "cell_type": "code",
   "execution_count": 5,
   "metadata": {
    "execution": {
     "iopub.execute_input": "2021-08-31T08:41:51.387502Z",
     "iopub.status.busy": "2021-08-31T08:41:51.386512Z",
     "iopub.status.idle": "2021-08-31T08:41:51.388023Z",
     "shell.execute_reply": "2021-08-31T08:41:51.388384Z"
    }
   },
   "outputs": [],
   "source": [
    "# data.keys()"
   ]
  },
  {
   "cell_type": "code",
   "execution_count": 6,
   "metadata": {
    "execution": {
     "iopub.execute_input": "2021-08-31T08:41:51.391167Z",
     "iopub.status.busy": "2021-08-31T08:41:51.390721Z",
     "iopub.status.idle": "2021-08-31T08:41:51.393355Z",
     "shell.execute_reply": "2021-08-31T08:41:51.393701Z"
    }
   },
   "outputs": [],
   "source": [
    "# data['current']"
   ]
  },
  {
   "cell_type": "code",
   "execution_count": 7,
   "metadata": {
    "execution": {
     "iopub.execute_input": "2021-08-31T08:41:51.418123Z",
     "iopub.status.busy": "2021-08-31T08:41:51.415561Z",
     "iopub.status.idle": "2021-08-31T08:41:51.696346Z",
     "shell.execute_reply": "2021-08-31T08:41:51.696993Z"
    }
   },
   "outputs": [
    {
     "data": {
      "image/png": "[encoded data removed]",
      "text/plain": [
       "<Figure size 216x216 with 1 Axes>"
      ]
     },
     "metadata": {
      "needs_background": "light"
     },
     "output_type": "display_data"
    },
    {
     "name": "stdout",
     "output_type": "stream",
     "text": [
      "Today, sun rises at 06:05 and sets at 18:41.\n",
      "Currently, the weather is Rain (moderate rain).\n",
      "The temperature is 27.63°C and it feels like 31.87°C.\n",
      "The UV index is 0.75, humidity is 85%.\n",
      "The pressure is 1009 hPa, percentage of cloud cover is 80%\n",
      "The wind comes from E direction with a speed 3.81 m/s.\n"
     ]
    }
   ],
   "source": [
    "current = data['current']\r\n",
    "\r\n",
    "fig, ax = plt.subplots(figsize=(3, 3))\r\n",
    "icon = requests.get(f\"http://openweathermap.org/img/wn/{current['weather'][0]['icon']}@2x.png\")\r\n",
    "im = Image.open(BytesIO(icon.content))\r\n",
    "plt.imshow(im)\r\n",
    "ax.set_axis_off()\r\n",
    "plt.show()\r\n",
    "\r\n",
    "print(f\"Today, sun rises at {ts2dt(current['sunrise'], '%H:%M')[0]} \\\r\n",
    "and sets at {ts2dt(current['sunset'], '%H:%M')[0]}.\\n\\\r\n",
    "Currently, the weather is {current['weather'][0]['main']} ({current['weather'][0]['description']}).\\n\\\r\n",
    "The temperature is {current['temp']}°C and it feels like {current['feels_like']}°C.\\n\\\r\n",
    "The UV index is {current['uvi']}, humidity is {current['humidity']}%.\\n\\\r\n",
    "The pressure is {current['pressure']} hPa, percentage of cloud cover is {current['clouds']}%\\n\\\r\n",
    "The wind comes from {degrees_to_cardinal(current['wind_deg'])} direction with a speed {current['wind_speed']} m/s.\")"
   ]
  },
  {
   "cell_type": "code",
   "execution_count": 8,
   "metadata": {
    "execution": {
     "iopub.execute_input": "2021-08-31T08:41:51.699977Z",
     "iopub.status.busy": "2021-08-31T08:41:51.699530Z",
     "iopub.status.idle": "2021-08-31T08:41:51.705869Z",
     "shell.execute_reply": "2021-08-31T08:41:51.706505Z"
    }
   },
   "outputs": [],
   "source": [
    "df_hourly = pd.DataFrame(data['hourly'])\r\n",
    "df_daily = pd.DataFrame(data['daily'])"
   ]
  },
  {
   "cell_type": "code",
   "execution_count": 9,
   "metadata": {
    "execution": {
     "iopub.execute_input": "2021-08-31T08:41:51.709513Z",
     "iopub.status.busy": "2021-08-31T08:41:51.708601Z",
     "iopub.status.idle": "2021-08-31T08:41:51.946071Z",
     "shell.execute_reply": "2021-08-31T08:41:51.945598Z"
    }
   },
   "outputs": [
    {
     "data": {
      "image/png": "[encoded data removed]",
      "text/plain": [
       "<Figure size 864x432 with 1 Axes>"
      ]
     },
     "metadata": {
      "needs_background": "light"
     },
     "output_type": "display_data"
    }
   ],
   "source": [
    "fig, ax = plt.subplots(figsize=(12, 6))\r\n",
    "plt.plot(df_hourly.temp, '.-', label='Temperature')\r\n",
    "plt.plot(df_hourly.feels_like, '.-', label='Feels Like')\r\n",
    "ax.set(title='Temperature in future 48 hours', xlabel='Time', ylabel='Temperature')\r\n",
    "ax.set_xticks(list(range(0, len(df_hourly), 2)))\r\n",
    "ax.set_xticklabels([ts2dt(ts, '%m-%d %H:%M')[0] for i, ts in enumerate(df_hourly.dt) if i%2==0], \r\n",
    "                   rotation=45, ha=\"right\")\r\n",
    "ax.locator_params(nbins=15, axis='y')\r\n",
    "plt.legend()\r\n",
    "plt.show()"
   ]
  },
  {
   "cell_type": "code",
   "execution_count": 10,
   "metadata": {
    "execution": {
     "iopub.execute_input": "2021-08-31T08:41:51.956985Z",
     "iopub.status.busy": "2021-08-31T08:41:51.949829Z",
     "iopub.status.idle": "2021-08-31T08:41:51.968606Z",
     "shell.execute_reply": "2021-08-31T08:41:51.968227Z"
    }
   },
   "outputs": [
    {
     "data": {
      "text/html": [
       "<div>\n",
       "<style scoped>\n",
       "    .dataframe tbody tr th:only-of-type {\n",
       "        vertical-align: middle;\n",
       "    }\n",
       "\n",
       "    .dataframe tbody tr th {\n",
       "        vertical-align: top;\n",
       "    }\n",
       "\n",
       "    .dataframe thead th {\n",
       "        text-align: right;\n",
       "    }\n",
       "</style>\n",
       "<table border=\"1\" class=\"dataframe\">\n",
       "  <thead>\n",
       "    <tr style=\"text-align: right;\">\n",
       "      <th></th>\n",
       "      <th>dt</th>\n",
       "      <th>temp</th>\n",
       "      <th>feels_like</th>\n",
       "      <th>pressure</th>\n",
       "      <th>humidity</th>\n",
       "      <th>dew_point</th>\n",
       "      <th>uvi</th>\n",
       "      <th>clouds</th>\n",
       "      <th>visibility</th>\n",
       "      <th>wind_speed</th>\n",
       "      <th>wind_deg</th>\n",
       "      <th>wind_gust</th>\n",
       "      <th>weather</th>\n",
       "      <th>pop</th>\n",
       "      <th>rain</th>\n",
       "    </tr>\n",
       "  </thead>\n",
       "  <tbody>\n",
       "    <tr>\n",
       "      <th>0</th>\n",
       "      <td>1630396800</td>\n",
       "      <td>27.85</td>\n",
       "      <td>32.02</td>\n",
       "      <td>1009</td>\n",
       "      <td>82</td>\n",
       "      <td>24.49</td>\n",
       "      <td>2.08</td>\n",
       "      <td>80</td>\n",
       "      <td>10000</td>\n",
       "      <td>4.00</td>\n",
       "      <td>83</td>\n",
       "      <td>5.63</td>\n",
       "      <td>[{'id': 500, 'main': 'Rain', 'description': 'l...</td>\n",
       "      <td>0.84</td>\n",
       "      <td>{'1h': 0.14}</td>\n",
       "    </tr>\n",
       "    <tr>\n",
       "      <th>1</th>\n",
       "      <td>1630400400</td>\n",
       "      <td>27.63</td>\n",
       "      <td>31.87</td>\n",
       "      <td>1009</td>\n",
       "      <td>85</td>\n",
       "      <td>24.88</td>\n",
       "      <td>0.75</td>\n",
       "      <td>80</td>\n",
       "      <td>10000</td>\n",
       "      <td>3.81</td>\n",
       "      <td>84</td>\n",
       "      <td>5.43</td>\n",
       "      <td>[{'id': 501, 'main': 'Rain', 'description': 'm...</td>\n",
       "      <td>0.80</td>\n",
       "      <td>{'1h': 2.73}</td>\n",
       "    </tr>\n",
       "    <tr>\n",
       "      <th>2</th>\n",
       "      <td>1630404000</td>\n",
       "      <td>27.80</td>\n",
       "      <td>31.89</td>\n",
       "      <td>1009</td>\n",
       "      <td>82</td>\n",
       "      <td>24.44</td>\n",
       "      <td>0.22</td>\n",
       "      <td>80</td>\n",
       "      <td>10000</td>\n",
       "      <td>4.17</td>\n",
       "      <td>87</td>\n",
       "      <td>5.76</td>\n",
       "      <td>[{'id': 501, 'main': 'Rain', 'description': 'm...</td>\n",
       "      <td>0.72</td>\n",
       "      <td>{'1h': 1.54}</td>\n",
       "    </tr>\n",
       "    <tr>\n",
       "      <th>3</th>\n",
       "      <td>1630407600</td>\n",
       "      <td>27.70</td>\n",
       "      <td>31.50</td>\n",
       "      <td>1009</td>\n",
       "      <td>81</td>\n",
       "      <td>24.14</td>\n",
       "      <td>0.00</td>\n",
       "      <td>82</td>\n",
       "      <td>10000</td>\n",
       "      <td>4.09</td>\n",
       "      <td>83</td>\n",
       "      <td>5.69</td>\n",
       "      <td>[{'id': 501, 'main': 'Rain', 'description': 'm...</td>\n",
       "      <td>0.76</td>\n",
       "      <td>{'1h': 1.54}</td>\n",
       "    </tr>\n",
       "    <tr>\n",
       "      <th>4</th>\n",
       "      <td>1630411200</td>\n",
       "      <td>27.63</td>\n",
       "      <td>31.33</td>\n",
       "      <td>1010</td>\n",
       "      <td>81</td>\n",
       "      <td>24.07</td>\n",
       "      <td>0.00</td>\n",
       "      <td>84</td>\n",
       "      <td>10000</td>\n",
       "      <td>4.18</td>\n",
       "      <td>76</td>\n",
       "      <td>6.12</td>\n",
       "      <td>[{'id': 803, 'main': 'Clouds', 'description': ...</td>\n",
       "      <td>0.76</td>\n",
       "      <td>NaN</td>\n",
       "    </tr>\n",
       "  </tbody>\n",
       "</table>\n",
       "</div>"
      ],
      "text/plain": [
       "           dt   temp  feels_like  pressure  humidity  dew_point   uvi  clouds  \\\n",
       "0  1630396800  27.85       32.02      1009        82      24.49  2.08      80   \n",
       "1  1630400400  27.63       31.87      1009        85      24.88  0.75      80   \n",
       "2  1630404000  27.80       31.89      1009        82      24.44  0.22      80   \n",
       "3  1630407600  27.70       31.50      1009        81      24.14  0.00      82   \n",
       "4  1630411200  27.63       31.33      1010        81      24.07  0.00      84   \n",
       "\n",
       "   visibility  wind_speed  wind_deg  wind_gust  \\\n",
       "0       10000        4.00        83       5.63   \n",
       "1       10000        3.81        84       5.43   \n",
       "2       10000        4.17        87       5.76   \n",
       "3       10000        4.09        83       5.69   \n",
       "4       10000        4.18        76       6.12   \n",
       "\n",
       "                                             weather   pop          rain  \n",
       "0  [{'id': 500, 'main': 'Rain', 'description': 'l...  0.84  {'1h': 0.14}  \n",
       "1  [{'id': 501, 'main': 'Rain', 'description': 'm...  0.80  {'1h': 2.73}  \n",
       "2  [{'id': 501, 'main': 'Rain', 'description': 'm...  0.72  {'1h': 1.54}  \n",
       "3  [{'id': 501, 'main': 'Rain', 'description': 'm...  0.76  {'1h': 1.54}  \n",
       "4  [{'id': 803, 'main': 'Clouds', 'description': ...  0.76           NaN  "
      ]
     },
     "execution_count": 10,
     "metadata": {},
     "output_type": "execute_result"
    }
   ],
   "source": [
    "df_hourly.head()"
   ]
  },
  {
   "cell_type": "code",
   "execution_count": null,
   "metadata": {},
   "outputs": [],
   "source": []
  }
 ],
 "metadata": {
  "interpreter": {
   "hash": "c1b4cfe941b6d2466ad1fb5979e97da9cda8801728c8091b097ab734208fc00c"
  },
  "kernelspec": {
   "display_name": "Python 3.8.3 64-bit ('base': conda)",
   "name": "python3"
  },
  "language_info": {
   "codemirror_mode": {
    "name": "ipython",
    "version": 3
   },
   "file_extension": ".py",
   "mimetype": "text/x-python",
   "name": "python",
   "nbconvert_exporter": "python",
   "pygments_lexer": "ipython3",
   "version": "3.8.11"
  }
 },
 "nbformat": 4,
 "nbformat_minor": 2
}
