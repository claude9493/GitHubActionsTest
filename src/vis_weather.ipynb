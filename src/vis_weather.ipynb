{
 "cells": [
  {
   "cell_type": "code",
   "execution_count": 1,
   "metadata": {
    "execution": {
     "iopub.execute_input": "2021-09-11T05:13:35.166895Z",
     "iopub.status.busy": "2021-09-11T05:13:35.166076Z",
     "iopub.status.idle": "2021-09-11T05:13:36.885572Z",
     "shell.execute_reply": "2021-09-11T05:13:36.886093Z"
    }
   },
   "outputs": [],
   "source": [
    "import json, yaml, requests\r\n",
    "from datetime import datetime\r\n",
    "from dateutil import tz\r\n",
    "import pandas as pd\r\n",
    "from PIL import Image\r\n",
    "from io import BytesIO\r\n",
    "import matplotlib.pyplot as plt\r\n",
    "import seaborn\r\n",
    "\r\n",
    "CONFIG_PATH = \"../config/config.yaml\""
   ]
  },
  {
   "cell_type": "code",
   "execution_count": 2,
   "metadata": {
    "execution": {
     "iopub.execute_input": "2021-09-11T05:13:36.892718Z",
     "iopub.status.busy": "2021-09-11T05:13:36.891994Z",
     "iopub.status.idle": "2021-09-11T05:13:36.898517Z",
     "shell.execute_reply": "2021-09-11T05:13:36.897895Z"
    }
   },
   "outputs": [],
   "source": [
    "with open('../newest_ts', 'r') as f:\r\n",
    "    newest_ts = f.read()\r\n",
    "\r\n",
    "data_path = f\"../data/data_{newest_ts}.json\"\r\n",
    "with open(data_path, 'r') as f:\r\n",
    "    data = json.load(f)\r\n",
    "\r\n",
    "with open(CONFIG_PATH, \"r\") as stream:\r\n",
    "    config = yaml.safe_load(stream)\r\n",
    "\r\n",
    "TIME_ZONE = config['time_zone']\r\n",
    "DATETIME_FORMAT = config['dt_format']"
   ]
  },
  {
   "cell_type": "code",
   "execution_count": 3,
   "metadata": {
    "execution": {
     "iopub.execute_input": "2021-09-11T05:13:36.904008Z",
     "iopub.status.busy": "2021-09-11T05:13:36.903357Z",
     "iopub.status.idle": "2021-09-11T05:13:36.911842Z",
     "shell.execute_reply": "2021-09-11T05:13:36.912347Z"
    }
   },
   "outputs": [
    {
     "name": "stdout",
     "output_type": "stream",
     "text": [
      "Recent query happens at 2021-09-11 13:13:31 (CST).\n"
     ]
    }
   ],
   "source": [
    "def ts2dt(ts, format=DATETIME_FORMAT):\r\n",
    "    dt = (datetime.utcfromtimestamp(int(ts))\r\n",
    "                    .replace(tzinfo=tz.tzutc())\r\n",
    "                    # .astimezone(tz.tzlocal())\r\n",
    "                    .astimezone(tz.gettz(TIME_ZONE)))\r\n",
    "    return dt.strftime(format), dt\r\n",
    "\r\n",
    "_, newest_dt = ts2dt(newest_ts)\r\n",
    "print(f\"Recent query happens at {newest_dt.strftime(DATETIME_FORMAT)} ({newest_dt.tzname()}).\")"
   ]
  },
  {
   "cell_type": "code",
   "execution_count": 4,
   "metadata": {
    "execution": {
     "iopub.execute_input": "2021-09-11T05:13:36.917911Z",
     "iopub.status.busy": "2021-09-11T05:13:36.917321Z",
     "iopub.status.idle": "2021-09-11T05:13:36.919969Z",
     "shell.execute_reply": "2021-09-11T05:13:36.919158Z"
    }
   },
   "outputs": [],
   "source": [
    "def degrees_to_cardinal(d):\r\n",
    "  dirs = ['N', 'NNE', 'NE', 'ENE', 'E', 'ESE', 'SE', 'SSE', 'S', 'SSW', 'SW', 'WSW', 'W', 'WNW', 'NW', 'NNW']\r\n",
    "  ix = int(round(d / (360. / len(dirs))))\r\n",
    "  return dirs[ix % len(dirs)]"
   ]
  },
  {
   "cell_type": "code",
   "execution_count": 5,
   "metadata": {
    "execution": {
     "iopub.execute_input": "2021-09-11T05:13:36.924036Z",
     "iopub.status.busy": "2021-09-11T05:13:36.923403Z",
     "iopub.status.idle": "2021-09-11T05:13:36.926826Z",
     "shell.execute_reply": "2021-09-11T05:13:36.925974Z"
    }
   },
   "outputs": [],
   "source": [
    "# data.keys()"
   ]
  },
  {
   "cell_type": "code",
   "execution_count": 6,
   "metadata": {
    "execution": {
     "iopub.execute_input": "2021-09-11T05:13:36.930895Z",
     "iopub.status.busy": "2021-09-11T05:13:36.930299Z",
     "iopub.status.idle": "2021-09-11T05:13:36.934010Z",
     "shell.execute_reply": "2021-09-11T05:13:36.933450Z"
    }
   },
   "outputs": [],
   "source": [
    "# data['current']"
   ]
  },
  {
   "cell_type": "code",
   "execution_count": 7,
   "metadata": {
    "execution": {
     "iopub.execute_input": "2021-09-11T05:13:36.956310Z",
     "iopub.status.busy": "2021-09-11T05:13:36.949083Z",
     "iopub.status.idle": "2021-09-11T05:13:37.351242Z",
     "shell.execute_reply": "2021-09-11T05:13:37.352049Z"
    }
   },
   "outputs": [
    {
     "data": {
      "image/png": "[encoded data removed]",
      "text/plain": [
       "<Figure size 216x216 with 1 Axes>"
      ]
     },
     "metadata": {
      "needs_background": "light"
     },
     "output_type": "display_data"
    },
    {
     "name": "stdout",
     "output_type": "stream",
     "text": [
      "Today, sun rises at 06:08 and sets at 18:31.\n",
      "Currently, the weather is Clouds (broken clouds).\n",
      "The temperature is 33.23°C and it feels like 40.23°C.\n",
      "The UV index is 9.04, humidity is 65%.\n",
      "The pressure is 1004 hPa, percentage of cloud cover is 77%\n",
      "The wind comes from WSW direction with a speed 3.95 m/s.\n"
     ]
    }
   ],
   "source": [
    "current = data['current']\r\n",
    "\r\n",
    "fig, ax = plt.subplots(figsize=(3, 3))\r\n",
    "icon = requests.get(f\"http://openweathermap.org/img/wn/{current['weather'][0]['icon']}@2x.png\")\r\n",
    "im = Image.open(BytesIO(icon.content))\r\n",
    "plt.imshow(im)\r\n",
    "ax.set_axis_off()\r\n",
    "plt.show()\r\n",
    "\r\n",
    "print(f\"Today, sun rises at {ts2dt(current['sunrise'], '%H:%M')[0]} \\\r\n",
    "and sets at {ts2dt(current['sunset'], '%H:%M')[0]}.\\n\\\r\n",
    "Currently, the weather is {current['weather'][0]['main']} ({current['weather'][0]['description']}).\\n\\\r\n",
    "The temperature is {current['temp']}°C and it feels like {current['feels_like']}°C.\\n\\\r\n",
    "The UV index is {current['uvi']}, humidity is {current['humidity']}%.\\n\\\r\n",
    "The pressure is {current['pressure']} hPa, percentage of cloud cover is {current['clouds']}%\\n\\\r\n",
    "The wind comes from {degrees_to_cardinal(current['wind_deg'])} direction with a speed {current['wind_speed']} m/s.\")"
   ]
  },
  {
   "cell_type": "code",
   "execution_count": 8,
   "metadata": {
    "execution": {
     "iopub.execute_input": "2021-09-11T05:13:37.355845Z",
     "iopub.status.busy": "2021-09-11T05:13:37.354741Z",
     "iopub.status.idle": "2021-09-11T05:13:37.363151Z",
     "shell.execute_reply": "2021-09-11T05:13:37.363961Z"
    }
   },
   "outputs": [],
   "source": [
    "df_hourly = pd.DataFrame(data['hourly'])\r\n",
    "df_daily = pd.DataFrame(data['daily'])"
   ]
  },
  {
   "cell_type": "code",
   "execution_count": 9,
   "metadata": {
    "execution": {
     "iopub.execute_input": "2021-09-11T05:13:37.367670Z",
     "iopub.status.busy": "2021-09-11T05:13:37.366529Z",
     "iopub.status.idle": "2021-09-11T05:13:37.709158Z",
     "shell.execute_reply": "2021-09-11T05:13:37.709870Z"
    }
   },
   "outputs": [
    {
     "data": {
      "image/png": "[encoded data removed]",
      "text/plain": [
       "<Figure size 864x432 with 1 Axes>"
      ]
     },
     "metadata": {
      "needs_background": "light"
     },
     "output_type": "display_data"
    }
   ],
   "source": [
    "fig, ax = plt.subplots(figsize=(12, 6))\r\n",
    "plt.plot(df_hourly.temp, '.-', label='Temperature')\r\n",
    "plt.plot(df_hourly.feels_like, '.-', label='Feels Like')\r\n",
    "ax.set(title='Temperature in future 48 hours', xlabel='Time', ylabel='Temperature')\r\n",
    "ax.set_xticks(list(range(0, len(df_hourly), 2)))\r\n",
    "ax.set_xticklabels([ts2dt(ts, '%m-%d %H:%M')[0] for i, ts in enumerate(df_hourly.dt) if i%2==0], \r\n",
    "                   rotation=45, ha=\"right\")\r\n",
    "ax.locator_params(nbins=15, axis='y')\r\n",
    "plt.legend()\r\n",
    "plt.show()"
   ]
  },
  {
   "cell_type": "code",
   "execution_count": 10,
   "metadata": {
    "execution": {
     "iopub.execute_input": "2021-09-11T05:13:37.724713Z",
     "iopub.status.busy": "2021-09-11T05:13:37.714425Z",
     "iopub.status.idle": "2021-09-11T05:13:37.741479Z",
     "shell.execute_reply": "2021-09-11T05:13:37.741997Z"
    }
   },
   "outputs": [
    {
     "data": {
      "text/html": [
       "<div>\n",
       "<style scoped>\n",
       "    .dataframe tbody tr th:only-of-type {\n",
       "        vertical-align: middle;\n",
       "    }\n",
       "\n",
       "    .dataframe tbody tr th {\n",
       "        vertical-align: top;\n",
       "    }\n",
       "\n",
       "    .dataframe thead th {\n",
       "        text-align: right;\n",
       "    }\n",
       "</style>\n",
       "<table border=\"1\" class=\"dataframe\">\n",
       "  <thead>\n",
       "    <tr style=\"text-align: right;\">\n",
       "      <th></th>\n",
       "      <th>dt</th>\n",
       "      <th>temp</th>\n",
       "      <th>feels_like</th>\n",
       "      <th>pressure</th>\n",
       "      <th>humidity</th>\n",
       "      <th>dew_point</th>\n",
       "      <th>uvi</th>\n",
       "      <th>clouds</th>\n",
       "      <th>visibility</th>\n",
       "      <th>wind_speed</th>\n",
       "      <th>wind_deg</th>\n",
       "      <th>wind_gust</th>\n",
       "      <th>weather</th>\n",
       "      <th>pop</th>\n",
       "      <th>rain</th>\n",
       "    </tr>\n",
       "  </thead>\n",
       "  <tbody>\n",
       "    <tr>\n",
       "      <th>0</th>\n",
       "      <td>1631336400</td>\n",
       "      <td>33.23</td>\n",
       "      <td>40.23</td>\n",
       "      <td>1004</td>\n",
       "      <td>65</td>\n",
       "      <td>25.76</td>\n",
       "      <td>9.04</td>\n",
       "      <td>77</td>\n",
       "      <td>10000</td>\n",
       "      <td>3.95</td>\n",
       "      <td>247</td>\n",
       "      <td>4.28</td>\n",
       "      <td>[{'id': 803, 'main': 'Clouds', 'description': ...</td>\n",
       "      <td>0.29</td>\n",
       "      <td>NaN</td>\n",
       "    </tr>\n",
       "    <tr>\n",
       "      <th>1</th>\n",
       "      <td>1631340000</td>\n",
       "      <td>32.66</td>\n",
       "      <td>39.66</td>\n",
       "      <td>1004</td>\n",
       "      <td>66</td>\n",
       "      <td>25.47</td>\n",
       "      <td>7.45</td>\n",
       "      <td>78</td>\n",
       "      <td>10000</td>\n",
       "      <td>4.23</td>\n",
       "      <td>237</td>\n",
       "      <td>4.42</td>\n",
       "      <td>[{'id': 803, 'main': 'Clouds', 'description': ...</td>\n",
       "      <td>0.34</td>\n",
       "      <td>NaN</td>\n",
       "    </tr>\n",
       "    <tr>\n",
       "      <th>2</th>\n",
       "      <td>1631343600</td>\n",
       "      <td>31.87</td>\n",
       "      <td>38.87</td>\n",
       "      <td>1004</td>\n",
       "      <td>68</td>\n",
       "      <td>25.23</td>\n",
       "      <td>4.37</td>\n",
       "      <td>78</td>\n",
       "      <td>10000</td>\n",
       "      <td>3.98</td>\n",
       "      <td>238</td>\n",
       "      <td>4.40</td>\n",
       "      <td>[{'id': 500, 'main': 'Rain', 'description': 'l...</td>\n",
       "      <td>0.36</td>\n",
       "      <td>{'1h': 0.13}</td>\n",
       "    </tr>\n",
       "    <tr>\n",
       "      <th>3</th>\n",
       "      <td>1631347200</td>\n",
       "      <td>31.34</td>\n",
       "      <td>38.21</td>\n",
       "      <td>1003</td>\n",
       "      <td>69</td>\n",
       "      <td>24.97</td>\n",
       "      <td>2.23</td>\n",
       "      <td>75</td>\n",
       "      <td>10000</td>\n",
       "      <td>4.04</td>\n",
       "      <td>242</td>\n",
       "      <td>4.43</td>\n",
       "      <td>[{'id': 803, 'main': 'Clouds', 'description': ...</td>\n",
       "      <td>0.28</td>\n",
       "      <td>NaN</td>\n",
       "    </tr>\n",
       "    <tr>\n",
       "      <th>4</th>\n",
       "      <td>1631350800</td>\n",
       "      <td>30.71</td>\n",
       "      <td>37.12</td>\n",
       "      <td>1002</td>\n",
       "      <td>71</td>\n",
       "      <td>24.84</td>\n",
       "      <td>0.76</td>\n",
       "      <td>63</td>\n",
       "      <td>10000</td>\n",
       "      <td>3.57</td>\n",
       "      <td>247</td>\n",
       "      <td>4.05</td>\n",
       "      <td>[{'id': 803, 'main': 'Clouds', 'description': ...</td>\n",
       "      <td>0.29</td>\n",
       "      <td>NaN</td>\n",
       "    </tr>\n",
       "  </tbody>\n",
       "</table>\n",
       "</div>"
      ],
      "text/plain": [
       "           dt   temp  feels_like  pressure  humidity  dew_point   uvi  clouds  \\\n",
       "0  1631336400  33.23       40.23      1004        65      25.76  9.04      77   \n",
       "1  1631340000  32.66       39.66      1004        66      25.47  7.45      78   \n",
       "2  1631343600  31.87       38.87      1004        68      25.23  4.37      78   \n",
       "3  1631347200  31.34       38.21      1003        69      24.97  2.23      75   \n",
       "4  1631350800  30.71       37.12      1002        71      24.84  0.76      63   \n",
       "\n",
       "   visibility  wind_speed  wind_deg  wind_gust  \\\n",
       "0       10000        3.95       247       4.28   \n",
       "1       10000        4.23       237       4.42   \n",
       "2       10000        3.98       238       4.40   \n",
       "3       10000        4.04       242       4.43   \n",
       "4       10000        3.57       247       4.05   \n",
       "\n",
       "                                             weather   pop          rain  \n",
       "0  [{'id': 803, 'main': 'Clouds', 'description': ...  0.29           NaN  \n",
       "1  [{'id': 803, 'main': 'Clouds', 'description': ...  0.34           NaN  \n",
       "2  [{'id': 500, 'main': 'Rain', 'description': 'l...  0.36  {'1h': 0.13}  \n",
       "3  [{'id': 803, 'main': 'Clouds', 'description': ...  0.28           NaN  \n",
       "4  [{'id': 803, 'main': 'Clouds', 'description': ...  0.29           NaN  "
      ]
     },
     "execution_count": 10,
     "metadata": {},
     "output_type": "execute_result"
    }
   ],
   "source": [
    "df_hourly.head()"
   ]
  },
  {
   "cell_type": "code",
   "execution_count": null,
   "metadata": {},
   "outputs": [],
   "source": []
  }
 ],
 "metadata": {
  "interpreter": {
   "hash": "c1b4cfe941b6d2466ad1fb5979e97da9cda8801728c8091b097ab734208fc00c"
  },
  "kernelspec": {
   "display_name": "Python 3.8.3 64-bit ('base': conda)",
   "name": "python3"
  },
  "language_info": {
   "codemirror_mode": {
    "name": "ipython",
    "version": 3
   },
   "file_extension": ".py",
   "mimetype": "text/x-python",
   "name": "python",
   "nbconvert_exporter": "python",
   "pygments_lexer": "ipython3",
   "version": "3.8.11"
  }
 },
 "nbformat": 4,
 "nbformat_minor": 2
}
