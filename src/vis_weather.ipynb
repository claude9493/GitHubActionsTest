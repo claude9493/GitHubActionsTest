{
 "cells": [
  {
   "cell_type": "code",
   "execution_count": 1,
   "metadata": {
    "execution": {
     "iopub.execute_input": "2021-09-25T01:54:31.105786Z",
     "iopub.status.busy": "2021-09-25T01:54:31.105198Z",
     "iopub.status.idle": "2021-09-25T01:54:32.304374Z",
     "shell.execute_reply": "2021-09-25T01:54:32.303398Z"
    }
   },
   "outputs": [],
   "source": [
    "import json, yaml, requests\r\n",
    "from datetime import datetime\r\n",
    "from dateutil import tz\r\n",
    "import pandas as pd\r\n",
    "from PIL import Image\r\n",
    "from io import BytesIO\r\n",
    "import matplotlib.pyplot as plt\r\n",
    "import seaborn\r\n",
    "\r\n",
    "CONFIG_PATH = \"../config/config.yaml\""
   ]
  },
  {
   "cell_type": "code",
   "execution_count": 2,
   "metadata": {
    "execution": {
     "iopub.execute_input": "2021-09-25T01:54:32.309353Z",
     "iopub.status.busy": "2021-09-25T01:54:32.308873Z",
     "iopub.status.idle": "2021-09-25T01:54:32.314123Z",
     "shell.execute_reply": "2021-09-25T01:54:32.313736Z"
    }
   },
   "outputs": [],
   "source": [
    "with open('../newest_ts', 'r') as f:\r\n",
    "    newest_ts = f.read()\r\n",
    "\r\n",
    "data_path = f\"../data/data_{newest_ts}.json\"\r\n",
    "with open(data_path, 'r') as f:\r\n",
    "    data = json.load(f)\r\n",
    "\r\n",
    "with open(CONFIG_PATH, \"r\") as stream:\r\n",
    "    config = yaml.safe_load(stream)\r\n",
    "\r\n",
    "TIME_ZONE = config['time_zone']\r\n",
    "DATETIME_FORMAT = config['dt_format']"
   ]
  },
  {
   "cell_type": "code",
   "execution_count": 3,
   "metadata": {
    "execution": {
     "iopub.execute_input": "2021-09-25T01:54:32.318908Z",
     "iopub.status.busy": "2021-09-25T01:54:32.317809Z",
     "iopub.status.idle": "2021-09-25T01:54:32.321919Z",
     "shell.execute_reply": "2021-09-25T01:54:32.322291Z"
    }
   },
   "outputs": [
    {
     "name": "stdout",
     "output_type": "stream",
     "text": [
      "Recent query happens at 2021-09-25 09:54:28 (CST).\n"
     ]
    }
   ],
   "source": [
    "def ts2dt(ts, format=DATETIME_FORMAT):\r\n",
    "    dt = (datetime.utcfromtimestamp(int(ts))\r\n",
    "                    .replace(tzinfo=tz.tzutc())\r\n",
    "                    # .astimezone(tz.tzlocal())\r\n",
    "                    .astimezone(tz.gettz(TIME_ZONE)))\r\n",
    "    return dt.strftime(format), dt\r\n",
    "\r\n",
    "_, newest_dt = ts2dt(newest_ts)\r\n",
    "print(f\"Recent query happens at {newest_dt.strftime(DATETIME_FORMAT)} ({newest_dt.tzname()}).\")"
   ]
  },
  {
   "cell_type": "code",
   "execution_count": 4,
   "metadata": {
    "execution": {
     "iopub.execute_input": "2021-09-25T01:54:32.327223Z",
     "iopub.status.busy": "2021-09-25T01:54:32.326073Z",
     "iopub.status.idle": "2021-09-25T01:54:32.327737Z",
     "shell.execute_reply": "2021-09-25T01:54:32.328096Z"
    }
   },
   "outputs": [],
   "source": [
    "def degrees_to_cardinal(d):\r\n",
    "  dirs = ['N', 'NNE', 'NE', 'ENE', 'E', 'ESE', 'SE', 'SSE', 'S', 'SSW', 'SW', 'WSW', 'W', 'WNW', 'NW', 'NNW']\r\n",
    "  ix = int(round(d / (360. / len(dirs))))\r\n",
    "  return dirs[ix % len(dirs)]"
   ]
  },
  {
   "cell_type": "code",
   "execution_count": 5,
   "metadata": {
    "execution": {
     "iopub.execute_input": "2021-09-25T01:54:32.332120Z",
     "iopub.status.busy": "2021-09-25T01:54:32.331041Z",
     "iopub.status.idle": "2021-09-25T01:54:32.332641Z",
     "shell.execute_reply": "2021-09-25T01:54:32.333078Z"
    }
   },
   "outputs": [],
   "source": [
    "# data.keys()"
   ]
  },
  {
   "cell_type": "code",
   "execution_count": 6,
   "metadata": {
    "execution": {
     "iopub.execute_input": "2021-09-25T01:54:32.336952Z",
     "iopub.status.busy": "2021-09-25T01:54:32.335920Z",
     "iopub.status.idle": "2021-09-25T01:54:32.337459Z",
     "shell.execute_reply": "2021-09-25T01:54:32.337841Z"
    }
   },
   "outputs": [],
   "source": [
    "# data['current']"
   ]
  },
  {
   "cell_type": "code",
   "execution_count": 7,
   "metadata": {
    "execution": {
     "iopub.execute_input": "2021-09-25T01:54:32.354048Z",
     "iopub.status.busy": "2021-09-25T01:54:32.353565Z",
     "iopub.status.idle": "2021-09-25T01:54:32.729149Z",
     "shell.execute_reply": "2021-09-25T01:54:32.729836Z"
    }
   },
   "outputs": [
    {
     "data": {
      "image/png": "[encoded data removed]",
      "text/plain": [
       "<Figure size 216x216 with 1 Axes>"
      ]
     },
     "metadata": {
      "needs_background": "light"
     },
     "output_type": "display_data"
    },
    {
     "name": "stdout",
     "output_type": "stream",
     "text": [
      "Today, sun rises at 06:12 and sets at 18:16.\n",
      "Currently, the weather is Clouds (broken clouds).\n",
      "The temperature is 30.5°C and it feels like 37.5°C.\n",
      "The UV index is 5.72, humidity is 75%.\n",
      "The pressure is 1013 hPa, percentage of cloud cover is 67%\n",
      "The wind comes from S direction with a speed 0.45 m/s.\n"
     ]
    }
   ],
   "source": [
    "current = data['current']\r\n",
    "\r\n",
    "fig, ax = plt.subplots(figsize=(3, 3))\r\n",
    "icon = requests.get(f\"http://openweathermap.org/img/wn/{current['weather'][0]['icon']}@2x.png\")\r\n",
    "im = Image.open(BytesIO(icon.content))\r\n",
    "plt.imshow(im)\r\n",
    "ax.set_axis_off()\r\n",
    "plt.show()\r\n",
    "\r\n",
    "print(f\"Today, sun rises at {ts2dt(current['sunrise'], '%H:%M')[0]} \\\r\n",
    "and sets at {ts2dt(current['sunset'], '%H:%M')[0]}.\\n\\\r\n",
    "Currently, the weather is {current['weather'][0]['main']} ({current['weather'][0]['description']}).\\n\\\r\n",
    "The temperature is {current['temp']}°C and it feels like {current['feels_like']}°C.\\n\\\r\n",
    "The UV index is {current['uvi']}, humidity is {current['humidity']}%.\\n\\\r\n",
    "The pressure is {current['pressure']} hPa, percentage of cloud cover is {current['clouds']}%\\n\\\r\n",
    "The wind comes from {degrees_to_cardinal(current['wind_deg'])} direction with a speed {current['wind_speed']} m/s.\")"
   ]
  },
  {
   "cell_type": "code",
   "execution_count": 8,
   "metadata": {
    "execution": {
     "iopub.execute_input": "2021-09-25T01:54:32.732997Z",
     "iopub.status.busy": "2021-09-25T01:54:32.732079Z",
     "iopub.status.idle": "2021-09-25T01:54:32.738802Z",
     "shell.execute_reply": "2021-09-25T01:54:32.739438Z"
    }
   },
   "outputs": [],
   "source": [
    "df_hourly = pd.DataFrame(data['hourly'])\r\n",
    "df_daily = pd.DataFrame(data['daily'])"
   ]
  },
  {
   "cell_type": "code",
   "execution_count": 9,
   "metadata": {
    "execution": {
     "iopub.execute_input": "2021-09-25T01:54:32.742544Z",
     "iopub.status.busy": "2021-09-25T01:54:32.741507Z",
     "iopub.status.idle": "2021-09-25T01:54:32.985052Z",
     "shell.execute_reply": "2021-09-25T01:54:32.984629Z"
    }
   },
   "outputs": [
    {
     "data": {
      "image/png": "[encoded data removed]",
      "text/plain": [
       "<Figure size 864x432 with 1 Axes>"
      ]
     },
     "metadata": {
      "needs_background": "light"
     },
     "output_type": "display_data"
    }
   ],
   "source": [
    "fig, ax = plt.subplots(figsize=(12, 6))\r\n",
    "plt.plot(df_hourly.temp, '.-', label='Temperature')\r\n",
    "plt.plot(df_hourly.feels_like, '.-', label='Feels Like')\r\n",
    "ax.set(title='Temperature in future 48 hours', xlabel='Time', ylabel='Temperature')\r\n",
    "ax.set_xticks(list(range(0, len(df_hourly), 2)))\r\n",
    "ax.set_xticklabels([ts2dt(ts, '%m-%d %H:%M')[0] for i, ts in enumerate(df_hourly.dt) if i%2==0], \r\n",
    "                   rotation=45, ha=\"right\")\r\n",
    "ax.locator_params(nbins=15, axis='y')\r\n",
    "plt.legend()\r\n",
    "plt.show()"
   ]
  },
  {
   "cell_type": "code",
   "execution_count": 10,
   "metadata": {
    "execution": {
     "iopub.execute_input": "2021-09-25T01:54:32.989653Z",
     "iopub.status.busy": "2021-09-25T01:54:32.989201Z",
     "iopub.status.idle": "2021-09-25T01:54:33.006578Z",
     "shell.execute_reply": "2021-09-25T01:54:33.006177Z"
    }
   },
   "outputs": [
    {
     "data": {
      "text/html": [
       "<div>\n",
       "<style scoped>\n",
       "    .dataframe tbody tr th:only-of-type {\n",
       "        vertical-align: middle;\n",
       "    }\n",
       "\n",
       "    .dataframe tbody tr th {\n",
       "        vertical-align: top;\n",
       "    }\n",
       "\n",
       "    .dataframe thead th {\n",
       "        text-align: right;\n",
       "    }\n",
       "</style>\n",
       "<table border=\"1\" class=\"dataframe\">\n",
       "  <thead>\n",
       "    <tr style=\"text-align: right;\">\n",
       "      <th></th>\n",
       "      <th>dt</th>\n",
       "      <th>temp</th>\n",
       "      <th>feels_like</th>\n",
       "      <th>pressure</th>\n",
       "      <th>humidity</th>\n",
       "      <th>dew_point</th>\n",
       "      <th>uvi</th>\n",
       "      <th>clouds</th>\n",
       "      <th>visibility</th>\n",
       "      <th>wind_speed</th>\n",
       "      <th>wind_deg</th>\n",
       "      <th>wind_gust</th>\n",
       "      <th>weather</th>\n",
       "      <th>pop</th>\n",
       "      <th>rain</th>\n",
       "    </tr>\n",
       "  </thead>\n",
       "  <tbody>\n",
       "    <tr>\n",
       "      <th>0</th>\n",
       "      <td>1632531600</td>\n",
       "      <td>30.00</td>\n",
       "      <td>36.56</td>\n",
       "      <td>1013</td>\n",
       "      <td>76</td>\n",
       "      <td>25.30</td>\n",
       "      <td>3.02</td>\n",
       "      <td>68</td>\n",
       "      <td>10000</td>\n",
       "      <td>7.20</td>\n",
       "      <td>71</td>\n",
       "      <td>9.05</td>\n",
       "      <td>[{'id': 500, 'main': 'Rain', 'description': 'l...</td>\n",
       "      <td>0.40</td>\n",
       "      <td>{'1h': 0.2}</td>\n",
       "    </tr>\n",
       "    <tr>\n",
       "      <th>1</th>\n",
       "      <td>1632535200</td>\n",
       "      <td>30.50</td>\n",
       "      <td>37.50</td>\n",
       "      <td>1013</td>\n",
       "      <td>75</td>\n",
       "      <td>25.56</td>\n",
       "      <td>5.72</td>\n",
       "      <td>67</td>\n",
       "      <td>10000</td>\n",
       "      <td>7.17</td>\n",
       "      <td>72</td>\n",
       "      <td>8.18</td>\n",
       "      <td>[{'id': 803, 'main': 'Clouds', 'description': ...</td>\n",
       "      <td>0.31</td>\n",
       "      <td>NaN</td>\n",
       "    </tr>\n",
       "    <tr>\n",
       "      <th>2</th>\n",
       "      <td>1632538800</td>\n",
       "      <td>30.18</td>\n",
       "      <td>36.52</td>\n",
       "      <td>1013</td>\n",
       "      <td>74</td>\n",
       "      <td>25.03</td>\n",
       "      <td>8.28</td>\n",
       "      <td>65</td>\n",
       "      <td>10000</td>\n",
       "      <td>7.62</td>\n",
       "      <td>72</td>\n",
       "      <td>8.53</td>\n",
       "      <td>[{'id': 803, 'main': 'Clouds', 'description': ...</td>\n",
       "      <td>0.35</td>\n",
       "      <td>NaN</td>\n",
       "    </tr>\n",
       "    <tr>\n",
       "      <th>3</th>\n",
       "      <td>1632542400</td>\n",
       "      <td>29.97</td>\n",
       "      <td>35.70</td>\n",
       "      <td>1013</td>\n",
       "      <td>73</td>\n",
       "      <td>24.60</td>\n",
       "      <td>9.74</td>\n",
       "      <td>63</td>\n",
       "      <td>10000</td>\n",
       "      <td>7.30</td>\n",
       "      <td>76</td>\n",
       "      <td>8.22</td>\n",
       "      <td>[{'id': 803, 'main': 'Clouds', 'description': ...</td>\n",
       "      <td>0.36</td>\n",
       "      <td>NaN</td>\n",
       "    </tr>\n",
       "    <tr>\n",
       "      <th>4</th>\n",
       "      <td>1632546000</td>\n",
       "      <td>29.88</td>\n",
       "      <td>34.98</td>\n",
       "      <td>1013</td>\n",
       "      <td>71</td>\n",
       "      <td>24.05</td>\n",
       "      <td>9.56</td>\n",
       "      <td>59</td>\n",
       "      <td>10000</td>\n",
       "      <td>7.22</td>\n",
       "      <td>82</td>\n",
       "      <td>7.84</td>\n",
       "      <td>[{'id': 803, 'main': 'Clouds', 'description': ...</td>\n",
       "      <td>0.26</td>\n",
       "      <td>NaN</td>\n",
       "    </tr>\n",
       "  </tbody>\n",
       "</table>\n",
       "</div>"
      ],
      "text/plain": [
       "           dt   temp  feels_like  pressure  humidity  dew_point   uvi  clouds  \\\n",
       "0  1632531600  30.00       36.56      1013        76      25.30  3.02      68   \n",
       "1  1632535200  30.50       37.50      1013        75      25.56  5.72      67   \n",
       "2  1632538800  30.18       36.52      1013        74      25.03  8.28      65   \n",
       "3  1632542400  29.97       35.70      1013        73      24.60  9.74      63   \n",
       "4  1632546000  29.88       34.98      1013        71      24.05  9.56      59   \n",
       "\n",
       "   visibility  wind_speed  wind_deg  wind_gust  \\\n",
       "0       10000        7.20        71       9.05   \n",
       "1       10000        7.17        72       8.18   \n",
       "2       10000        7.62        72       8.53   \n",
       "3       10000        7.30        76       8.22   \n",
       "4       10000        7.22        82       7.84   \n",
       "\n",
       "                                             weather   pop         rain  \n",
       "0  [{'id': 500, 'main': 'Rain', 'description': 'l...  0.40  {'1h': 0.2}  \n",
       "1  [{'id': 803, 'main': 'Clouds', 'description': ...  0.31          NaN  \n",
       "2  [{'id': 803, 'main': 'Clouds', 'description': ...  0.35          NaN  \n",
       "3  [{'id': 803, 'main': 'Clouds', 'description': ...  0.36          NaN  \n",
       "4  [{'id': 803, 'main': 'Clouds', 'description': ...  0.26          NaN  "
      ]
     },
     "execution_count": 10,
     "metadata": {},
     "output_type": "execute_result"
    }
   ],
   "source": [
    "df_hourly.head()"
   ]
  },
  {
   "cell_type": "code",
   "execution_count": null,
   "metadata": {},
   "outputs": [],
   "source": []
  }
 ],
 "metadata": {
  "interpreter": {
   "hash": "c1b4cfe941b6d2466ad1fb5979e97da9cda8801728c8091b097ab734208fc00c"
  },
  "kernelspec": {
   "display_name": "Python 3.8.3 64-bit ('base': conda)",
   "name": "python3"
  },
  "language_info": {
   "codemirror_mode": {
    "name": "ipython",
    "version": 3
   },
   "file_extension": ".py",
   "mimetype": "text/x-python",
   "name": "python",
   "nbconvert_exporter": "python",
   "pygments_lexer": "ipython3",
   "version": "3.8.12"
  }
 },
 "nbformat": 4,
 "nbformat_minor": 2
}
