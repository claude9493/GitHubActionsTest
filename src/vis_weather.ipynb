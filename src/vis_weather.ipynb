{
 "cells": [
  {
   "cell_type": "code",
   "execution_count": 1,
   "metadata": {
    "execution": {
     "iopub.execute_input": "2021-09-24T03:12:13.032299Z",
     "iopub.status.busy": "2021-09-24T03:12:13.031683Z",
     "iopub.status.idle": "2021-09-24T03:12:18.019092Z",
     "shell.execute_reply": "2021-09-24T03:12:18.018397Z"
    }
   },
   "outputs": [],
   "source": [
    "import json, yaml, requests\r\n",
    "from datetime import datetime\r\n",
    "from dateutil import tz\r\n",
    "import pandas as pd\r\n",
    "from PIL import Image\r\n",
    "from io import BytesIO\r\n",
    "import matplotlib.pyplot as plt\r\n",
    "import seaborn\r\n",
    "\r\n",
    "CONFIG_PATH = \"../config/config.yaml\""
   ]
  },
  {
   "cell_type": "code",
   "execution_count": 2,
   "metadata": {
    "execution": {
     "iopub.execute_input": "2021-09-24T03:12:18.028142Z",
     "iopub.status.busy": "2021-09-24T03:12:18.025100Z",
     "iopub.status.idle": "2021-09-24T03:12:18.031052Z",
     "shell.execute_reply": "2021-09-24T03:12:18.030546Z"
    }
   },
   "outputs": [],
   "source": [
    "with open('../newest_ts', 'r') as f:\r\n",
    "    newest_ts = f.read()\r\n",
    "\r\n",
    "data_path = f\"../data/data_{newest_ts}.json\"\r\n",
    "with open(data_path, 'r') as f:\r\n",
    "    data = json.load(f)\r\n",
    "\r\n",
    "with open(CONFIG_PATH, \"r\") as stream:\r\n",
    "    config = yaml.safe_load(stream)\r\n",
    "\r\n",
    "TIME_ZONE = config['time_zone']\r\n",
    "DATETIME_FORMAT = config['dt_format']"
   ]
  },
  {
   "cell_type": "code",
   "execution_count": 3,
   "metadata": {
    "execution": {
     "iopub.execute_input": "2021-09-24T03:12:18.036177Z",
     "iopub.status.busy": "2021-09-24T03:12:18.035604Z",
     "iopub.status.idle": "2021-09-24T03:12:18.076506Z",
     "shell.execute_reply": "2021-09-24T03:12:18.076974Z"
    }
   },
   "outputs": [
    {
     "name": "stdout",
     "output_type": "stream",
     "text": [
      "Recent query happens at 2021-09-24 11:12:08 (CST).\n"
     ]
    }
   ],
   "source": [
    "def ts2dt(ts, format=DATETIME_FORMAT):\r\n",
    "    dt = (datetime.utcfromtimestamp(int(ts))\r\n",
    "                    .replace(tzinfo=tz.tzutc())\r\n",
    "                    # .astimezone(tz.tzlocal())\r\n",
    "                    .astimezone(tz.gettz(TIME_ZONE)))\r\n",
    "    return dt.strftime(format), dt\r\n",
    "\r\n",
    "_, newest_dt = ts2dt(newest_ts)\r\n",
    "print(f\"Recent query happens at {newest_dt.strftime(DATETIME_FORMAT)} ({newest_dt.tzname()}).\")"
   ]
  },
  {
   "cell_type": "code",
   "execution_count": 4,
   "metadata": {
    "execution": {
     "iopub.execute_input": "2021-09-24T03:12:18.083844Z",
     "iopub.status.busy": "2021-09-24T03:12:18.082430Z",
     "iopub.status.idle": "2021-09-24T03:12:18.084467Z",
     "shell.execute_reply": "2021-09-24T03:12:18.084897Z"
    }
   },
   "outputs": [],
   "source": [
    "def degrees_to_cardinal(d):\r\n",
    "  dirs = ['N', 'NNE', 'NE', 'ENE', 'E', 'ESE', 'SE', 'SSE', 'S', 'SSW', 'SW', 'WSW', 'W', 'WNW', 'NW', 'NNW']\r\n",
    "  ix = int(round(d / (360. / len(dirs))))\r\n",
    "  return dirs[ix % len(dirs)]"
   ]
  },
  {
   "cell_type": "code",
   "execution_count": 5,
   "metadata": {
    "execution": {
     "iopub.execute_input": "2021-09-24T03:12:18.089664Z",
     "iopub.status.busy": "2021-09-24T03:12:18.088494Z",
     "iopub.status.idle": "2021-09-24T03:12:18.090270Z",
     "shell.execute_reply": "2021-09-24T03:12:18.090699Z"
    }
   },
   "outputs": [],
   "source": [
    "# data.keys()"
   ]
  },
  {
   "cell_type": "code",
   "execution_count": 6,
   "metadata": {
    "execution": {
     "iopub.execute_input": "2021-09-24T03:12:18.095578Z",
     "iopub.status.busy": "2021-09-24T03:12:18.094192Z",
     "iopub.status.idle": "2021-09-24T03:12:18.096196Z",
     "shell.execute_reply": "2021-09-24T03:12:18.096626Z"
    }
   },
   "outputs": [],
   "source": [
    "# data['current']"
   ]
  },
  {
   "cell_type": "code",
   "execution_count": 7,
   "metadata": {
    "execution": {
     "iopub.execute_input": "2021-09-24T03:12:18.118480Z",
     "iopub.status.busy": "2021-09-24T03:12:18.116648Z",
     "iopub.status.idle": "2021-09-24T03:12:18.484865Z",
     "shell.execute_reply": "2021-09-24T03:12:18.485636Z"
    }
   },
   "outputs": [
    {
     "data": {
      "image/png": "[encoded data removed]",
      "text/plain": [
       "<Figure size 216x216 with 1 Axes>"
      ]
     },
     "metadata": {
      "needs_background": "light"
     },
     "output_type": "display_data"
    },
    {
     "name": "stdout",
     "output_type": "stream",
     "text": [
      "Today, sun rises at 06:12 and sets at 18:17.\n",
      "Currently, the weather is Clouds (scattered clouds).\n",
      "The temperature is 30.11°C and it feels like 37.11°C.\n",
      "The UV index is 8.42, humidity is 82%.\n",
      "The pressure is 1015 hPa, percentage of cloud cover is 45%\n",
      "The wind comes from E direction with a speed 6.67 m/s.\n"
     ]
    }
   ],
   "source": [
    "current = data['current']\r\n",
    "\r\n",
    "fig, ax = plt.subplots(figsize=(3, 3))\r\n",
    "icon = requests.get(f\"http://openweathermap.org/img/wn/{current['weather'][0]['icon']}@2x.png\")\r\n",
    "im = Image.open(BytesIO(icon.content))\r\n",
    "plt.imshow(im)\r\n",
    "ax.set_axis_off()\r\n",
    "plt.show()\r\n",
    "\r\n",
    "print(f\"Today, sun rises at {ts2dt(current['sunrise'], '%H:%M')[0]} \\\r\n",
    "and sets at {ts2dt(current['sunset'], '%H:%M')[0]}.\\n\\\r\n",
    "Currently, the weather is {current['weather'][0]['main']} ({current['weather'][0]['description']}).\\n\\\r\n",
    "The temperature is {current['temp']}°C and it feels like {current['feels_like']}°C.\\n\\\r\n",
    "The UV index is {current['uvi']}, humidity is {current['humidity']}%.\\n\\\r\n",
    "The pressure is {current['pressure']} hPa, percentage of cloud cover is {current['clouds']}%\\n\\\r\n",
    "The wind comes from {degrees_to_cardinal(current['wind_deg'])} direction with a speed {current['wind_speed']} m/s.\")"
   ]
  },
  {
   "cell_type": "code",
   "execution_count": 8,
   "metadata": {
    "execution": {
     "iopub.execute_input": "2021-09-24T03:12:18.489361Z",
     "iopub.status.busy": "2021-09-24T03:12:18.488257Z",
     "iopub.status.idle": "2021-09-24T03:12:18.496009Z",
     "shell.execute_reply": "2021-09-24T03:12:18.496712Z"
    }
   },
   "outputs": [],
   "source": [
    "df_hourly = pd.DataFrame(data['hourly'])\r\n",
    "df_daily = pd.DataFrame(data['daily'])"
   ]
  },
  {
   "cell_type": "code",
   "execution_count": 9,
   "metadata": {
    "execution": {
     "iopub.execute_input": "2021-09-24T03:12:18.500276Z",
     "iopub.status.busy": "2021-09-24T03:12:18.499183Z",
     "iopub.status.idle": "2021-09-24T03:12:18.782423Z",
     "shell.execute_reply": "2021-09-24T03:12:18.781912Z"
    }
   },
   "outputs": [
    {
     "data": {
      "image/png": "[encoded data removed]",
      "text/plain": [
       "<Figure size 864x432 with 1 Axes>"
      ]
     },
     "metadata": {
      "needs_background": "light"
     },
     "output_type": "display_data"
    }
   ],
   "source": [
    "fig, ax = plt.subplots(figsize=(12, 6))\r\n",
    "plt.plot(df_hourly.temp, '.-', label='Temperature')\r\n",
    "plt.plot(df_hourly.feels_like, '.-', label='Feels Like')\r\n",
    "ax.set(title='Temperature in future 48 hours', xlabel='Time', ylabel='Temperature')\r\n",
    "ax.set_xticks(list(range(0, len(df_hourly), 2)))\r\n",
    "ax.set_xticklabels([ts2dt(ts, '%m-%d %H:%M')[0] for i, ts in enumerate(df_hourly.dt) if i%2==0], \r\n",
    "                   rotation=45, ha=\"right\")\r\n",
    "ax.locator_params(nbins=15, axis='y')\r\n",
    "plt.legend()\r\n",
    "plt.show()"
   ]
  },
  {
   "cell_type": "code",
   "execution_count": 10,
   "metadata": {
    "execution": {
     "iopub.execute_input": "2021-09-24T03:12:18.787940Z",
     "iopub.status.busy": "2021-09-24T03:12:18.787365Z",
     "iopub.status.idle": "2021-09-24T03:12:18.808566Z",
     "shell.execute_reply": "2021-09-24T03:12:18.808072Z"
    }
   },
   "outputs": [
    {
     "data": {
      "text/html": [
       "<div>\n",
       "<style scoped>\n",
       "    .dataframe tbody tr th:only-of-type {\n",
       "        vertical-align: middle;\n",
       "    }\n",
       "\n",
       "    .dataframe tbody tr th {\n",
       "        vertical-align: top;\n",
       "    }\n",
       "\n",
       "    .dataframe thead th {\n",
       "        text-align: right;\n",
       "    }\n",
       "</style>\n",
       "<table border=\"1\" class=\"dataframe\">\n",
       "  <thead>\n",
       "    <tr style=\"text-align: right;\">\n",
       "      <th></th>\n",
       "      <th>dt</th>\n",
       "      <th>temp</th>\n",
       "      <th>feels_like</th>\n",
       "      <th>pressure</th>\n",
       "      <th>humidity</th>\n",
       "      <th>dew_point</th>\n",
       "      <th>uvi</th>\n",
       "      <th>clouds</th>\n",
       "      <th>visibility</th>\n",
       "      <th>wind_speed</th>\n",
       "      <th>wind_deg</th>\n",
       "      <th>wind_gust</th>\n",
       "      <th>weather</th>\n",
       "      <th>pop</th>\n",
       "      <th>rain</th>\n",
       "    </tr>\n",
       "  </thead>\n",
       "  <tbody>\n",
       "    <tr>\n",
       "      <th>0</th>\n",
       "      <td>1632452400</td>\n",
       "      <td>30.11</td>\n",
       "      <td>37.11</td>\n",
       "      <td>1015</td>\n",
       "      <td>82</td>\n",
       "      <td>26.69</td>\n",
       "      <td>8.42</td>\n",
       "      <td>45</td>\n",
       "      <td>10000</td>\n",
       "      <td>6.67</td>\n",
       "      <td>89</td>\n",
       "      <td>8.09</td>\n",
       "      <td>[{'id': 500, 'main': 'Rain', 'description': 'l...</td>\n",
       "      <td>0.57</td>\n",
       "      <td>{'1h': 0.1}</td>\n",
       "    </tr>\n",
       "    <tr>\n",
       "      <th>1</th>\n",
       "      <td>1632456000</td>\n",
       "      <td>29.99</td>\n",
       "      <td>36.99</td>\n",
       "      <td>1015</td>\n",
       "      <td>80</td>\n",
       "      <td>26.16</td>\n",
       "      <td>10.09</td>\n",
       "      <td>44</td>\n",
       "      <td>10000</td>\n",
       "      <td>6.81</td>\n",
       "      <td>89</td>\n",
       "      <td>7.91</td>\n",
       "      <td>[{'id': 802, 'main': 'Clouds', 'description': ...</td>\n",
       "      <td>0.49</td>\n",
       "      <td>NaN</td>\n",
       "    </tr>\n",
       "    <tr>\n",
       "      <th>2</th>\n",
       "      <td>1632459600</td>\n",
       "      <td>29.97</td>\n",
       "      <td>36.97</td>\n",
       "      <td>1014</td>\n",
       "      <td>78</td>\n",
       "      <td>25.71</td>\n",
       "      <td>9.91</td>\n",
       "      <td>42</td>\n",
       "      <td>10000</td>\n",
       "      <td>6.57</td>\n",
       "      <td>88</td>\n",
       "      <td>7.61</td>\n",
       "      <td>[{'id': 500, 'main': 'Rain', 'description': 'l...</td>\n",
       "      <td>0.46</td>\n",
       "      <td>{'1h': 0.15}</td>\n",
       "    </tr>\n",
       "    <tr>\n",
       "      <th>3</th>\n",
       "      <td>1632463200</td>\n",
       "      <td>29.97</td>\n",
       "      <td>36.22</td>\n",
       "      <td>1014</td>\n",
       "      <td>75</td>\n",
       "      <td>25.05</td>\n",
       "      <td>8.10</td>\n",
       "      <td>39</td>\n",
       "      <td>10000</td>\n",
       "      <td>6.29</td>\n",
       "      <td>87</td>\n",
       "      <td>7.50</td>\n",
       "      <td>[{'id': 802, 'main': 'Clouds', 'description': ...</td>\n",
       "      <td>0.46</td>\n",
       "      <td>NaN</td>\n",
       "    </tr>\n",
       "    <tr>\n",
       "      <th>4</th>\n",
       "      <td>1632466800</td>\n",
       "      <td>29.93</td>\n",
       "      <td>35.60</td>\n",
       "      <td>1013</td>\n",
       "      <td>73</td>\n",
       "      <td>24.56</td>\n",
       "      <td>5.46</td>\n",
       "      <td>22</td>\n",
       "      <td>10000</td>\n",
       "      <td>6.43</td>\n",
       "      <td>89</td>\n",
       "      <td>7.67</td>\n",
       "      <td>[{'id': 801, 'main': 'Clouds', 'description': ...</td>\n",
       "      <td>0.38</td>\n",
       "      <td>NaN</td>\n",
       "    </tr>\n",
       "  </tbody>\n",
       "</table>\n",
       "</div>"
      ],
      "text/plain": [
       "           dt   temp  feels_like  pressure  humidity  dew_point    uvi  \\\n",
       "0  1632452400  30.11       37.11      1015        82      26.69   8.42   \n",
       "1  1632456000  29.99       36.99      1015        80      26.16  10.09   \n",
       "2  1632459600  29.97       36.97      1014        78      25.71   9.91   \n",
       "3  1632463200  29.97       36.22      1014        75      25.05   8.10   \n",
       "4  1632466800  29.93       35.60      1013        73      24.56   5.46   \n",
       "\n",
       "   clouds  visibility  wind_speed  wind_deg  wind_gust  \\\n",
       "0      45       10000        6.67        89       8.09   \n",
       "1      44       10000        6.81        89       7.91   \n",
       "2      42       10000        6.57        88       7.61   \n",
       "3      39       10000        6.29        87       7.50   \n",
       "4      22       10000        6.43        89       7.67   \n",
       "\n",
       "                                             weather   pop          rain  \n",
       "0  [{'id': 500, 'main': 'Rain', 'description': 'l...  0.57   {'1h': 0.1}  \n",
       "1  [{'id': 802, 'main': 'Clouds', 'description': ...  0.49           NaN  \n",
       "2  [{'id': 500, 'main': 'Rain', 'description': 'l...  0.46  {'1h': 0.15}  \n",
       "3  [{'id': 802, 'main': 'Clouds', 'description': ...  0.46           NaN  \n",
       "4  [{'id': 801, 'main': 'Clouds', 'description': ...  0.38           NaN  "
      ]
     },
     "execution_count": 10,
     "metadata": {},
     "output_type": "execute_result"
    }
   ],
   "source": [
    "df_hourly.head()"
   ]
  },
  {
   "cell_type": "code",
   "execution_count": null,
   "metadata": {},
   "outputs": [],
   "source": []
  }
 ],
 "metadata": {
  "interpreter": {
   "hash": "c1b4cfe941b6d2466ad1fb5979e97da9cda8801728c8091b097ab734208fc00c"
  },
  "kernelspec": {
   "display_name": "Python 3.8.3 64-bit ('base': conda)",
   "name": "python3"
  },
  "language_info": {
   "codemirror_mode": {
    "name": "ipython",
    "version": 3
   },
   "file_extension": ".py",
   "mimetype": "text/x-python",
   "name": "python",
   "nbconvert_exporter": "python",
   "pygments_lexer": "ipython3",
   "version": "3.8.12"
  }
 },
 "nbformat": 4,
 "nbformat_minor": 2
}
