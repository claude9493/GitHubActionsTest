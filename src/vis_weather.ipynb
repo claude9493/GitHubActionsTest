{
 "cells": [
  {
   "cell_type": "code",
   "execution_count": 1,
   "metadata": {
    "execution": {
     "iopub.execute_input": "2021-09-15T00:38:08.528072Z",
     "iopub.status.busy": "2021-09-15T00:38:08.527379Z",
     "iopub.status.idle": "2021-09-15T00:38:11.392066Z",
     "shell.execute_reply": "2021-09-15T00:38:11.390865Z"
    }
   },
   "outputs": [],
   "source": [
    "import json, yaml, requests\r\n",
    "from datetime import datetime\r\n",
    "from dateutil import tz\r\n",
    "import pandas as pd\r\n",
    "from PIL import Image\r\n",
    "from io import BytesIO\r\n",
    "import matplotlib.pyplot as plt\r\n",
    "import seaborn\r\n",
    "\r\n",
    "CONFIG_PATH = \"../config/config.yaml\""
   ]
  },
  {
   "cell_type": "code",
   "execution_count": 2,
   "metadata": {
    "execution": {
     "iopub.execute_input": "2021-09-15T00:38:11.398157Z",
     "iopub.status.busy": "2021-09-15T00:38:11.397370Z",
     "iopub.status.idle": "2021-09-15T00:38:11.402778Z",
     "shell.execute_reply": "2021-09-15T00:38:11.403293Z"
    }
   },
   "outputs": [],
   "source": [
    "with open('../newest_ts', 'r') as f:\r\n",
    "    newest_ts = f.read()\r\n",
    "\r\n",
    "data_path = f\"../data/data_{newest_ts}.json\"\r\n",
    "with open(data_path, 'r') as f:\r\n",
    "    data = json.load(f)\r\n",
    "\r\n",
    "with open(CONFIG_PATH, \"r\") as stream:\r\n",
    "    config = yaml.safe_load(stream)\r\n",
    "\r\n",
    "TIME_ZONE = config['time_zone']\r\n",
    "DATETIME_FORMAT = config['dt_format']"
   ]
  },
  {
   "cell_type": "code",
   "execution_count": 3,
   "metadata": {
    "execution": {
     "iopub.execute_input": "2021-09-15T00:38:11.408504Z",
     "iopub.status.busy": "2021-09-15T00:38:11.407899Z",
     "iopub.status.idle": "2021-09-15T00:38:11.418195Z",
     "shell.execute_reply": "2021-09-15T00:38:11.418746Z"
    }
   },
   "outputs": [
    {
     "name": "stdout",
     "output_type": "stream",
     "text": [
      "Recent query happens at 2021-09-15 08:38:04 (CST).\n"
     ]
    }
   ],
   "source": [
    "def ts2dt(ts, format=DATETIME_FORMAT):\r\n",
    "    dt = (datetime.utcfromtimestamp(int(ts))\r\n",
    "                    .replace(tzinfo=tz.tzutc())\r\n",
    "                    # .astimezone(tz.tzlocal())\r\n",
    "                    .astimezone(tz.gettz(TIME_ZONE)))\r\n",
    "    return dt.strftime(format), dt\r\n",
    "\r\n",
    "_, newest_dt = ts2dt(newest_ts)\r\n",
    "print(f\"Recent query happens at {newest_dt.strftime(DATETIME_FORMAT)} ({newest_dt.tzname()}).\")"
   ]
  },
  {
   "cell_type": "code",
   "execution_count": 4,
   "metadata": {
    "execution": {
     "iopub.execute_input": "2021-09-15T00:38:11.425035Z",
     "iopub.status.busy": "2021-09-15T00:38:11.423528Z",
     "iopub.status.idle": "2021-09-15T00:38:11.425652Z",
     "shell.execute_reply": "2021-09-15T00:38:11.426143Z"
    }
   },
   "outputs": [],
   "source": [
    "def degrees_to_cardinal(d):\r\n",
    "  dirs = ['N', 'NNE', 'NE', 'ENE', 'E', 'ESE', 'SE', 'SSE', 'S', 'SSW', 'SW', 'WSW', 'W', 'WNW', 'NW', 'NNW']\r\n",
    "  ix = int(round(d / (360. / len(dirs))))\r\n",
    "  return dirs[ix % len(dirs)]"
   ]
  },
  {
   "cell_type": "code",
   "execution_count": 5,
   "metadata": {
    "execution": {
     "iopub.execute_input": "2021-09-15T00:38:11.431342Z",
     "iopub.status.busy": "2021-09-15T00:38:11.429816Z",
     "iopub.status.idle": "2021-09-15T00:38:11.431987Z",
     "shell.execute_reply": "2021-09-15T00:38:11.432468Z"
    }
   },
   "outputs": [],
   "source": [
    "# data.keys()"
   ]
  },
  {
   "cell_type": "code",
   "execution_count": 6,
   "metadata": {
    "execution": {
     "iopub.execute_input": "2021-09-15T00:38:11.437154Z",
     "iopub.status.busy": "2021-09-15T00:38:11.435698Z",
     "iopub.status.idle": "2021-09-15T00:38:11.438020Z",
     "shell.execute_reply": "2021-09-15T00:38:11.438519Z"
    }
   },
   "outputs": [],
   "source": [
    "# data['current']"
   ]
  },
  {
   "cell_type": "code",
   "execution_count": 7,
   "metadata": {
    "execution": {
     "iopub.execute_input": "2021-09-15T00:38:11.461302Z",
     "iopub.status.busy": "2021-09-15T00:38:11.460299Z",
     "iopub.status.idle": "2021-09-15T00:38:11.981309Z",
     "shell.execute_reply": "2021-09-15T00:38:11.982547Z"
    }
   },
   "outputs": [
    {
     "data": {
      "image/png": "[encoded data removed]",
      "text/plain": [
       "<Figure size 216x216 with 1 Axes>"
      ]
     },
     "metadata": {
      "needs_background": "light"
     },
     "output_type": "display_data"
    },
    {
     "name": "stdout",
     "output_type": "stream",
     "text": [
      "Today, sun rises at 06:09 and sets at 18:27.\n",
      "Currently, the weather is Clouds (scattered clouds).\n",
      "The temperature is 29.98°C and it feels like 36.78°C.\n",
      "The UV index is 3.44, humidity is 77%.\n",
      "The pressure is 1012 hPa, percentage of cloud cover is 49%\n",
      "The wind comes from W direction with a speed 2.5 m/s.\n"
     ]
    }
   ],
   "source": [
    "current = data['current']\r\n",
    "\r\n",
    "fig, ax = plt.subplots(figsize=(3, 3))\r\n",
    "icon = requests.get(f\"http://openweathermap.org/img/wn/{current['weather'][0]['icon']}@2x.png\")\r\n",
    "im = Image.open(BytesIO(icon.content))\r\n",
    "plt.imshow(im)\r\n",
    "ax.set_axis_off()\r\n",
    "plt.show()\r\n",
    "\r\n",
    "print(f\"Today, sun rises at {ts2dt(current['sunrise'], '%H:%M')[0]} \\\r\n",
    "and sets at {ts2dt(current['sunset'], '%H:%M')[0]}.\\n\\\r\n",
    "Currently, the weather is {current['weather'][0]['main']} ({current['weather'][0]['description']}).\\n\\\r\n",
    "The temperature is {current['temp']}°C and it feels like {current['feels_like']}°C.\\n\\\r\n",
    "The UV index is {current['uvi']}, humidity is {current['humidity']}%.\\n\\\r\n",
    "The pressure is {current['pressure']} hPa, percentage of cloud cover is {current['clouds']}%\\n\\\r\n",
    "The wind comes from {degrees_to_cardinal(current['wind_deg'])} direction with a speed {current['wind_speed']} m/s.\")"
   ]
  },
  {
   "cell_type": "code",
   "execution_count": 8,
   "metadata": {
    "execution": {
     "iopub.execute_input": "2021-09-15T00:38:11.986663Z",
     "iopub.status.busy": "2021-09-15T00:38:11.986048Z",
     "iopub.status.idle": "2021-09-15T00:38:11.994877Z",
     "shell.execute_reply": "2021-09-15T00:38:11.995718Z"
    }
   },
   "outputs": [],
   "source": [
    "df_hourly = pd.DataFrame(data['hourly'])\r\n",
    "df_daily = pd.DataFrame(data['daily'])"
   ]
  },
  {
   "cell_type": "code",
   "execution_count": 9,
   "metadata": {
    "execution": {
     "iopub.execute_input": "2021-09-15T00:38:11.999192Z",
     "iopub.status.busy": "2021-09-15T00:38:11.998543Z",
     "iopub.status.idle": "2021-09-15T00:38:12.330315Z",
     "shell.execute_reply": "2021-09-15T00:38:12.330784Z"
    }
   },
   "outputs": [
    {
     "data": {
      "image/png": "[encoded data removed]",
      "text/plain": [
       "<Figure size 864x432 with 1 Axes>"
      ]
     },
     "metadata": {
      "needs_background": "light"
     },
     "output_type": "display_data"
    }
   ],
   "source": [
    "fig, ax = plt.subplots(figsize=(12, 6))\r\n",
    "plt.plot(df_hourly.temp, '.-', label='Temperature')\r\n",
    "plt.plot(df_hourly.feels_like, '.-', label='Feels Like')\r\n",
    "ax.set(title='Temperature in future 48 hours', xlabel='Time', ylabel='Temperature')\r\n",
    "ax.set_xticks(list(range(0, len(df_hourly), 2)))\r\n",
    "ax.set_xticklabels([ts2dt(ts, '%m-%d %H:%M')[0] for i, ts in enumerate(df_hourly.dt) if i%2==0], \r\n",
    "                   rotation=45, ha=\"right\")\r\n",
    "ax.locator_params(nbins=15, axis='y')\r\n",
    "plt.legend()\r\n",
    "plt.show()"
   ]
  },
  {
   "cell_type": "code",
   "execution_count": 10,
   "metadata": {
    "execution": {
     "iopub.execute_input": "2021-09-15T00:38:12.344261Z",
     "iopub.status.busy": "2021-09-15T00:38:12.335402Z",
     "iopub.status.idle": "2021-09-15T00:38:12.356766Z",
     "shell.execute_reply": "2021-09-15T00:38:12.357271Z"
    }
   },
   "outputs": [
    {
     "data": {
      "text/html": [
       "<div>\n",
       "<style scoped>\n",
       "    .dataframe tbody tr th:only-of-type {\n",
       "        vertical-align: middle;\n",
       "    }\n",
       "\n",
       "    .dataframe tbody tr th {\n",
       "        vertical-align: top;\n",
       "    }\n",
       "\n",
       "    .dataframe thead th {\n",
       "        text-align: right;\n",
       "    }\n",
       "</style>\n",
       "<table border=\"1\" class=\"dataframe\">\n",
       "  <thead>\n",
       "    <tr style=\"text-align: right;\">\n",
       "      <th></th>\n",
       "      <th>dt</th>\n",
       "      <th>temp</th>\n",
       "      <th>feels_like</th>\n",
       "      <th>pressure</th>\n",
       "      <th>humidity</th>\n",
       "      <th>dew_point</th>\n",
       "      <th>uvi</th>\n",
       "      <th>clouds</th>\n",
       "      <th>visibility</th>\n",
       "      <th>wind_speed</th>\n",
       "      <th>wind_deg</th>\n",
       "      <th>wind_gust</th>\n",
       "      <th>weather</th>\n",
       "      <th>pop</th>\n",
       "      <th>rain</th>\n",
       "    </tr>\n",
       "  </thead>\n",
       "  <tbody>\n",
       "    <tr>\n",
       "      <th>0</th>\n",
       "      <td>1631664000</td>\n",
       "      <td>29.74</td>\n",
       "      <td>36.10</td>\n",
       "      <td>1012</td>\n",
       "      <td>77</td>\n",
       "      <td>25.27</td>\n",
       "      <td>1.24</td>\n",
       "      <td>58</td>\n",
       "      <td>10000</td>\n",
       "      <td>2.02</td>\n",
       "      <td>278</td>\n",
       "      <td>2.26</td>\n",
       "      <td>[{'id': 500, 'main': 'Rain', 'description': 'l...</td>\n",
       "      <td>0.81</td>\n",
       "      <td>{'1h': 0.37}</td>\n",
       "    </tr>\n",
       "    <tr>\n",
       "      <th>1</th>\n",
       "      <td>1631667600</td>\n",
       "      <td>29.98</td>\n",
       "      <td>36.78</td>\n",
       "      <td>1012</td>\n",
       "      <td>77</td>\n",
       "      <td>25.50</td>\n",
       "      <td>3.44</td>\n",
       "      <td>49</td>\n",
       "      <td>10000</td>\n",
       "      <td>2.50</td>\n",
       "      <td>278</td>\n",
       "      <td>2.77</td>\n",
       "      <td>[{'id': 802, 'main': 'Clouds', 'description': ...</td>\n",
       "      <td>0.37</td>\n",
       "      <td>NaN</td>\n",
       "    </tr>\n",
       "    <tr>\n",
       "      <th>2</th>\n",
       "      <td>1631671200</td>\n",
       "      <td>30.10</td>\n",
       "      <td>36.57</td>\n",
       "      <td>1012</td>\n",
       "      <td>75</td>\n",
       "      <td>25.18</td>\n",
       "      <td>6.36</td>\n",
       "      <td>48</td>\n",
       "      <td>10000</td>\n",
       "      <td>2.41</td>\n",
       "      <td>279</td>\n",
       "      <td>2.66</td>\n",
       "      <td>[{'id': 802, 'main': 'Clouds', 'description': ...</td>\n",
       "      <td>0.33</td>\n",
       "      <td>NaN</td>\n",
       "    </tr>\n",
       "    <tr>\n",
       "      <th>3</th>\n",
       "      <td>1631674800</td>\n",
       "      <td>30.44</td>\n",
       "      <td>36.68</td>\n",
       "      <td>1012</td>\n",
       "      <td>72</td>\n",
       "      <td>24.82</td>\n",
       "      <td>9.11</td>\n",
       "      <td>44</td>\n",
       "      <td>10000</td>\n",
       "      <td>2.45</td>\n",
       "      <td>268</td>\n",
       "      <td>2.65</td>\n",
       "      <td>[{'id': 802, 'main': 'Clouds', 'description': ...</td>\n",
       "      <td>0.37</td>\n",
       "      <td>NaN</td>\n",
       "    </tr>\n",
       "    <tr>\n",
       "      <th>4</th>\n",
       "      <td>1631678400</td>\n",
       "      <td>30.89</td>\n",
       "      <td>37.01</td>\n",
       "      <td>1011</td>\n",
       "      <td>69</td>\n",
       "      <td>24.54</td>\n",
       "      <td>10.65</td>\n",
       "      <td>46</td>\n",
       "      <td>10000</td>\n",
       "      <td>2.93</td>\n",
       "      <td>253</td>\n",
       "      <td>3.02</td>\n",
       "      <td>[{'id': 802, 'main': 'Clouds', 'description': ...</td>\n",
       "      <td>0.29</td>\n",
       "      <td>NaN</td>\n",
       "    </tr>\n",
       "  </tbody>\n",
       "</table>\n",
       "</div>"
      ],
      "text/plain": [
       "           dt   temp  feels_like  pressure  humidity  dew_point    uvi  \\\n",
       "0  1631664000  29.74       36.10      1012        77      25.27   1.24   \n",
       "1  1631667600  29.98       36.78      1012        77      25.50   3.44   \n",
       "2  1631671200  30.10       36.57      1012        75      25.18   6.36   \n",
       "3  1631674800  30.44       36.68      1012        72      24.82   9.11   \n",
       "4  1631678400  30.89       37.01      1011        69      24.54  10.65   \n",
       "\n",
       "   clouds  visibility  wind_speed  wind_deg  wind_gust  \\\n",
       "0      58       10000        2.02       278       2.26   \n",
       "1      49       10000        2.50       278       2.77   \n",
       "2      48       10000        2.41       279       2.66   \n",
       "3      44       10000        2.45       268       2.65   \n",
       "4      46       10000        2.93       253       3.02   \n",
       "\n",
       "                                             weather   pop          rain  \n",
       "0  [{'id': 500, 'main': 'Rain', 'description': 'l...  0.81  {'1h': 0.37}  \n",
       "1  [{'id': 802, 'main': 'Clouds', 'description': ...  0.37           NaN  \n",
       "2  [{'id': 802, 'main': 'Clouds', 'description': ...  0.33           NaN  \n",
       "3  [{'id': 802, 'main': 'Clouds', 'description': ...  0.37           NaN  \n",
       "4  [{'id': 802, 'main': 'Clouds', 'description': ...  0.29           NaN  "
      ]
     },
     "execution_count": 10,
     "metadata": {},
     "output_type": "execute_result"
    }
   ],
   "source": [
    "df_hourly.head()"
   ]
  },
  {
   "cell_type": "code",
   "execution_count": null,
   "metadata": {},
   "outputs": [],
   "source": []
  }
 ],
 "metadata": {
  "interpreter": {
   "hash": "c1b4cfe941b6d2466ad1fb5979e97da9cda8801728c8091b097ab734208fc00c"
  },
  "kernelspec": {
   "display_name": "Python 3.8.3 64-bit ('base': conda)",
   "name": "python3"
  },
  "language_info": {
   "codemirror_mode": {
    "name": "ipython",
    "version": 3
   },
   "file_extension": ".py",
   "mimetype": "text/x-python",
   "name": "python",
   "nbconvert_exporter": "python",
   "pygments_lexer": "ipython3",
   "version": "3.8.11"
  }
 },
 "nbformat": 4,
 "nbformat_minor": 2
}
