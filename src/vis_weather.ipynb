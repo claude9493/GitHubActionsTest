{
 "cells": [
  {
   "cell_type": "code",
   "execution_count": 1,
   "metadata": {
    "execution": {
     "iopub.execute_input": "2021-09-27T07:12:13.364261Z",
     "iopub.status.busy": "2021-09-27T07:12:13.363503Z",
     "iopub.status.idle": "2021-09-27T07:12:15.793521Z",
     "shell.execute_reply": "2021-09-27T07:12:15.792817Z"
    }
   },
   "outputs": [],
   "source": [
    "import json, yaml, requests\r\n",
    "from datetime import datetime\r\n",
    "from dateutil import tz\r\n",
    "import pandas as pd\r\n",
    "from PIL import Image\r\n",
    "from io import BytesIO\r\n",
    "import matplotlib.pyplot as plt\r\n",
    "import seaborn\r\n",
    "\r\n",
    "CONFIG_PATH = \"../config/config.yaml\""
   ]
  },
  {
   "cell_type": "code",
   "execution_count": 2,
   "metadata": {
    "execution": {
     "iopub.execute_input": "2021-09-27T07:12:15.802870Z",
     "iopub.status.busy": "2021-09-27T07:12:15.802244Z",
     "iopub.status.idle": "2021-09-27T07:12:15.805440Z",
     "shell.execute_reply": "2021-09-27T07:12:15.804313Z"
    }
   },
   "outputs": [],
   "source": [
    "with open('../newest_ts', 'r') as f:\r\n",
    "    newest_ts = f.read()\r\n",
    "\r\n",
    "data_path = f\"../data/data_{newest_ts}.json\"\r\n",
    "with open(data_path, 'r') as f:\r\n",
    "    data = json.load(f)\r\n",
    "\r\n",
    "with open(CONFIG_PATH, \"r\") as stream:\r\n",
    "    config = yaml.safe_load(stream)\r\n",
    "\r\n",
    "TIME_ZONE = config['time_zone']\r\n",
    "DATETIME_FORMAT = config['dt_format']"
   ]
  },
  {
   "cell_type": "code",
   "execution_count": 3,
   "metadata": {
    "execution": {
     "iopub.execute_input": "2021-09-27T07:12:15.810416Z",
     "iopub.status.busy": "2021-09-27T07:12:15.809855Z",
     "iopub.status.idle": "2021-09-27T07:12:15.821170Z",
     "shell.execute_reply": "2021-09-27T07:12:15.820697Z"
    }
   },
   "outputs": [
    {
     "name": "stdout",
     "output_type": "stream",
     "text": [
      "Recent query happens at 2021-09-27 15:12:10 (CST).\n"
     ]
    }
   ],
   "source": [
    "def ts2dt(ts, format=DATETIME_FORMAT):\r\n",
    "    dt = (datetime.utcfromtimestamp(int(ts))\r\n",
    "                    .replace(tzinfo=tz.tzutc())\r\n",
    "                    # .astimezone(tz.tzlocal())\r\n",
    "                    .astimezone(tz.gettz(TIME_ZONE)))\r\n",
    "    return dt.strftime(format), dt\r\n",
    "\r\n",
    "_, newest_dt = ts2dt(newest_ts)\r\n",
    "print(f\"Recent query happens at {newest_dt.strftime(DATETIME_FORMAT)} ({newest_dt.tzname()}).\")"
   ]
  },
  {
   "cell_type": "code",
   "execution_count": 4,
   "metadata": {
    "execution": {
     "iopub.execute_input": "2021-09-27T07:12:15.827319Z",
     "iopub.status.busy": "2021-09-27T07:12:15.825983Z",
     "iopub.status.idle": "2021-09-27T07:12:15.828114Z",
     "shell.execute_reply": "2021-09-27T07:12:15.828614Z"
    }
   },
   "outputs": [],
   "source": [
    "def degrees_to_cardinal(d):\r\n",
    "  dirs = ['N', 'NNE', 'NE', 'ENE', 'E', 'ESE', 'SE', 'SSE', 'S', 'SSW', 'SW', 'WSW', 'W', 'WNW', 'NW', 'NNW']\r\n",
    "  ix = int(round(d / (360. / len(dirs))))\r\n",
    "  return dirs[ix % len(dirs)]"
   ]
  },
  {
   "cell_type": "code",
   "execution_count": 5,
   "metadata": {
    "execution": {
     "iopub.execute_input": "2021-09-27T07:12:15.833740Z",
     "iopub.status.busy": "2021-09-27T07:12:15.832190Z",
     "iopub.status.idle": "2021-09-27T07:12:15.834353Z",
     "shell.execute_reply": "2021-09-27T07:12:15.834825Z"
    }
   },
   "outputs": [],
   "source": [
    "# data.keys()"
   ]
  },
  {
   "cell_type": "code",
   "execution_count": 6,
   "metadata": {
    "execution": {
     "iopub.execute_input": "2021-09-27T07:12:15.839715Z",
     "iopub.status.busy": "2021-09-27T07:12:15.838187Z",
     "iopub.status.idle": "2021-09-27T07:12:15.840375Z",
     "shell.execute_reply": "2021-09-27T07:12:15.840848Z"
    }
   },
   "outputs": [],
   "source": [
    "# data['current']"
   ]
  },
  {
   "cell_type": "code",
   "execution_count": 7,
   "metadata": {
    "execution": {
     "iopub.execute_input": "2021-09-27T07:12:15.870479Z",
     "iopub.status.busy": "2021-09-27T07:12:15.858472Z",
     "iopub.status.idle": "2021-09-27T07:12:16.293784Z",
     "shell.execute_reply": "2021-09-27T07:12:16.294595Z"
    }
   },
   "outputs": [
    {
     "data": {
      "image/png": "[encoded data removed]",
      "text/plain": [
       "<Figure size 216x216 with 1 Axes>"
      ]
     },
     "metadata": {
      "needs_background": "light"
     },
     "output_type": "display_data"
    },
    {
     "name": "stdout",
     "output_type": "stream",
     "text": [
      "Today, sun rises at 06:13 and sets at 18:14.\n",
      "Currently, the weather is Clouds (scattered clouds).\n",
      "The temperature is 31.1°C and it feels like 38.1°C.\n",
      "The UV index is 5.23, humidity is 72%.\n",
      "The pressure is 1009 hPa, percentage of cloud cover is 35%\n",
      "The wind comes from WSW direction with a speed 3.58 m/s.\n"
     ]
    }
   ],
   "source": [
    "current = data['current']\r\n",
    "\r\n",
    "fig, ax = plt.subplots(figsize=(3, 3))\r\n",
    "icon = requests.get(f\"http://openweathermap.org/img/wn/{current['weather'][0]['icon']}@2x.png\")\r\n",
    "im = Image.open(BytesIO(icon.content))\r\n",
    "plt.imshow(im)\r\n",
    "ax.set_axis_off()\r\n",
    "plt.show()\r\n",
    "\r\n",
    "print(f\"Today, sun rises at {ts2dt(current['sunrise'], '%H:%M')[0]} \\\r\n",
    "and sets at {ts2dt(current['sunset'], '%H:%M')[0]}.\\n\\\r\n",
    "Currently, the weather is {current['weather'][0]['main']} ({current['weather'][0]['description']}).\\n\\\r\n",
    "The temperature is {current['temp']}°C and it feels like {current['feels_like']}°C.\\n\\\r\n",
    "The UV index is {current['uvi']}, humidity is {current['humidity']}%.\\n\\\r\n",
    "The pressure is {current['pressure']} hPa, percentage of cloud cover is {current['clouds']}%\\n\\\r\n",
    "The wind comes from {degrees_to_cardinal(current['wind_deg'])} direction with a speed {current['wind_speed']} m/s.\")"
   ]
  },
  {
   "cell_type": "code",
   "execution_count": 8,
   "metadata": {
    "execution": {
     "iopub.execute_input": "2021-09-27T07:12:16.298158Z",
     "iopub.status.busy": "2021-09-27T07:12:16.297558Z",
     "iopub.status.idle": "2021-09-27T07:12:16.305462Z",
     "shell.execute_reply": "2021-09-27T07:12:16.306238Z"
    }
   },
   "outputs": [],
   "source": [
    "df_hourly = pd.DataFrame(data['hourly'])\r\n",
    "df_daily = pd.DataFrame(data['daily'])"
   ]
  },
  {
   "cell_type": "code",
   "execution_count": 9,
   "metadata": {
    "execution": {
     "iopub.execute_input": "2021-09-27T07:12:16.309729Z",
     "iopub.status.busy": "2021-09-27T07:12:16.308646Z",
     "iopub.status.idle": "2021-09-27T07:12:16.643990Z",
     "shell.execute_reply": "2021-09-27T07:12:16.643006Z"
    }
   },
   "outputs": [
    {
     "data": {
      "image/png": "[encoded data removed]",
      "text/plain": [
       "<Figure size 864x432 with 1 Axes>"
      ]
     },
     "metadata": {
      "needs_background": "light"
     },
     "output_type": "display_data"
    }
   ],
   "source": [
    "fig, ax = plt.subplots(figsize=(12, 6))\r\n",
    "plt.plot(df_hourly.temp, '.-', label='Temperature')\r\n",
    "plt.plot(df_hourly.feels_like, '.-', label='Feels Like')\r\n",
    "ax.set(title='Temperature in future 48 hours', xlabel='Time', ylabel='Temperature')\r\n",
    "ax.set_xticks(list(range(0, len(df_hourly), 2)))\r\n",
    "ax.set_xticklabels([ts2dt(ts, '%m-%d %H:%M')[0] for i, ts in enumerate(df_hourly.dt) if i%2==0], \r\n",
    "                   rotation=45, ha=\"right\")\r\n",
    "ax.locator_params(nbins=15, axis='y')\r\n",
    "plt.legend()\r\n",
    "plt.show()"
   ]
  },
  {
   "cell_type": "code",
   "execution_count": 10,
   "metadata": {
    "execution": {
     "iopub.execute_input": "2021-09-27T07:12:16.654604Z",
     "iopub.status.busy": "2021-09-27T07:12:16.648458Z",
     "iopub.status.idle": "2021-09-27T07:12:16.669102Z",
     "shell.execute_reply": "2021-09-27T07:12:16.668650Z"
    }
   },
   "outputs": [
    {
     "data": {
      "text/html": [
       "<div>\n",
       "<style scoped>\n",
       "    .dataframe tbody tr th:only-of-type {\n",
       "        vertical-align: middle;\n",
       "    }\n",
       "\n",
       "    .dataframe tbody tr th {\n",
       "        vertical-align: top;\n",
       "    }\n",
       "\n",
       "    .dataframe thead th {\n",
       "        text-align: right;\n",
       "    }\n",
       "</style>\n",
       "<table border=\"1\" class=\"dataframe\">\n",
       "  <thead>\n",
       "    <tr style=\"text-align: right;\">\n",
       "      <th></th>\n",
       "      <th>dt</th>\n",
       "      <th>temp</th>\n",
       "      <th>feels_like</th>\n",
       "      <th>pressure</th>\n",
       "      <th>humidity</th>\n",
       "      <th>dew_point</th>\n",
       "      <th>uvi</th>\n",
       "      <th>clouds</th>\n",
       "      <th>visibility</th>\n",
       "      <th>wind_speed</th>\n",
       "      <th>wind_deg</th>\n",
       "      <th>wind_gust</th>\n",
       "      <th>weather</th>\n",
       "      <th>pop</th>\n",
       "    </tr>\n",
       "  </thead>\n",
       "  <tbody>\n",
       "    <tr>\n",
       "      <th>0</th>\n",
       "      <td>1632726000</td>\n",
       "      <td>31.10</td>\n",
       "      <td>38.10</td>\n",
       "      <td>1009</td>\n",
       "      <td>72</td>\n",
       "      <td>25.45</td>\n",
       "      <td>5.23</td>\n",
       "      <td>35</td>\n",
       "      <td>10000</td>\n",
       "      <td>3.94</td>\n",
       "      <td>114</td>\n",
       "      <td>3.32</td>\n",
       "      <td>[{'id': 802, 'main': 'Clouds', 'description': ...</td>\n",
       "      <td>0</td>\n",
       "    </tr>\n",
       "    <tr>\n",
       "      <th>1</th>\n",
       "      <td>1632729600</td>\n",
       "      <td>30.68</td>\n",
       "      <td>36.75</td>\n",
       "      <td>1009</td>\n",
       "      <td>70</td>\n",
       "      <td>24.58</td>\n",
       "      <td>2.58</td>\n",
       "      <td>33</td>\n",
       "      <td>10000</td>\n",
       "      <td>3.67</td>\n",
       "      <td>117</td>\n",
       "      <td>3.00</td>\n",
       "      <td>[{'id': 802, 'main': 'Clouds', 'description': ...</td>\n",
       "      <td>0</td>\n",
       "    </tr>\n",
       "    <tr>\n",
       "      <th>2</th>\n",
       "      <td>1632733200</td>\n",
       "      <td>30.08</td>\n",
       "      <td>35.23</td>\n",
       "      <td>1009</td>\n",
       "      <td>70</td>\n",
       "      <td>24.00</td>\n",
       "      <td>0.81</td>\n",
       "      <td>29</td>\n",
       "      <td>10000</td>\n",
       "      <td>3.42</td>\n",
       "      <td>119</td>\n",
       "      <td>2.95</td>\n",
       "      <td>[{'id': 802, 'main': 'Clouds', 'description': ...</td>\n",
       "      <td>0</td>\n",
       "    </tr>\n",
       "    <tr>\n",
       "      <th>3</th>\n",
       "      <td>1632736800</td>\n",
       "      <td>29.16</td>\n",
       "      <td>33.28</td>\n",
       "      <td>1009</td>\n",
       "      <td>71</td>\n",
       "      <td>23.36</td>\n",
       "      <td>0.00</td>\n",
       "      <td>23</td>\n",
       "      <td>10000</td>\n",
       "      <td>3.09</td>\n",
       "      <td>121</td>\n",
       "      <td>3.05</td>\n",
       "      <td>[{'id': 801, 'main': 'Clouds', 'description': ...</td>\n",
       "      <td>0</td>\n",
       "    </tr>\n",
       "    <tr>\n",
       "      <th>4</th>\n",
       "      <td>1632740400</td>\n",
       "      <td>28.23</td>\n",
       "      <td>31.56</td>\n",
       "      <td>1009</td>\n",
       "      <td>73</td>\n",
       "      <td>22.93</td>\n",
       "      <td>0.00</td>\n",
       "      <td>17</td>\n",
       "      <td>10000</td>\n",
       "      <td>3.03</td>\n",
       "      <td>121</td>\n",
       "      <td>3.20</td>\n",
       "      <td>[{'id': 801, 'main': 'Clouds', 'description': ...</td>\n",
       "      <td>0</td>\n",
       "    </tr>\n",
       "  </tbody>\n",
       "</table>\n",
       "</div>"
      ],
      "text/plain": [
       "           dt   temp  feels_like  pressure  humidity  dew_point   uvi  clouds  \\\n",
       "0  1632726000  31.10       38.10      1009        72      25.45  5.23      35   \n",
       "1  1632729600  30.68       36.75      1009        70      24.58  2.58      33   \n",
       "2  1632733200  30.08       35.23      1009        70      24.00  0.81      29   \n",
       "3  1632736800  29.16       33.28      1009        71      23.36  0.00      23   \n",
       "4  1632740400  28.23       31.56      1009        73      22.93  0.00      17   \n",
       "\n",
       "   visibility  wind_speed  wind_deg  wind_gust  \\\n",
       "0       10000        3.94       114       3.32   \n",
       "1       10000        3.67       117       3.00   \n",
       "2       10000        3.42       119       2.95   \n",
       "3       10000        3.09       121       3.05   \n",
       "4       10000        3.03       121       3.20   \n",
       "\n",
       "                                             weather  pop  \n",
       "0  [{'id': 802, 'main': 'Clouds', 'description': ...    0  \n",
       "1  [{'id': 802, 'main': 'Clouds', 'description': ...    0  \n",
       "2  [{'id': 802, 'main': 'Clouds', 'description': ...    0  \n",
       "3  [{'id': 801, 'main': 'Clouds', 'description': ...    0  \n",
       "4  [{'id': 801, 'main': 'Clouds', 'description': ...    0  "
      ]
     },
     "execution_count": 10,
     "metadata": {},
     "output_type": "execute_result"
    }
   ],
   "source": [
    "df_hourly.head()"
   ]
  },
  {
   "cell_type": "code",
   "execution_count": null,
   "metadata": {},
   "outputs": [],
   "source": []
  }
 ],
 "metadata": {
  "interpreter": {
   "hash": "c1b4cfe941b6d2466ad1fb5979e97da9cda8801728c8091b097ab734208fc00c"
  },
  "kernelspec": {
   "display_name": "Python 3.8.3 64-bit ('base': conda)",
   "name": "python3"
  },
  "language_info": {
   "codemirror_mode": {
    "name": "ipython",
    "version": 3
   },
   "file_extension": ".py",
   "mimetype": "text/x-python",
   "name": "python",
   "nbconvert_exporter": "python",
   "pygments_lexer": "ipython3",
   "version": "3.8.12"
  }
 },
 "nbformat": 4,
 "nbformat_minor": 2
}
