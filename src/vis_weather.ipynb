{
 "cells": [
  {
   "cell_type": "code",
   "execution_count": 1,
   "metadata": {
    "execution": {
     "iopub.execute_input": "2021-09-16T22:11:27.579812Z",
     "iopub.status.busy": "2021-09-16T22:11:27.579210Z",
     "iopub.status.idle": "2021-09-16T22:11:29.306552Z",
     "shell.execute_reply": "2021-09-16T22:11:29.307083Z"
    }
   },
   "outputs": [],
   "source": [
    "import json, yaml, requests\r\n",
    "from datetime import datetime\r\n",
    "from dateutil import tz\r\n",
    "import pandas as pd\r\n",
    "from PIL import Image\r\n",
    "from io import BytesIO\r\n",
    "import matplotlib.pyplot as plt\r\n",
    "import seaborn\r\n",
    "\r\n",
    "CONFIG_PATH = \"../config/config.yaml\""
   ]
  },
  {
   "cell_type": "code",
   "execution_count": 2,
   "metadata": {
    "execution": {
     "iopub.execute_input": "2021-09-16T22:11:29.315529Z",
     "iopub.status.busy": "2021-09-16T22:11:29.314876Z",
     "iopub.status.idle": "2021-09-16T22:11:29.318568Z",
     "shell.execute_reply": "2021-09-16T22:11:29.319060Z"
    }
   },
   "outputs": [],
   "source": [
    "with open('../newest_ts', 'r') as f:\r\n",
    "    newest_ts = f.read()\r\n",
    "\r\n",
    "data_path = f\"../data/data_{newest_ts}.json\"\r\n",
    "with open(data_path, 'r') as f:\r\n",
    "    data = json.load(f)\r\n",
    "\r\n",
    "with open(CONFIG_PATH, \"r\") as stream:\r\n",
    "    config = yaml.safe_load(stream)\r\n",
    "\r\n",
    "TIME_ZONE = config['time_zone']\r\n",
    "DATETIME_FORMAT = config['dt_format']"
   ]
  },
  {
   "cell_type": "code",
   "execution_count": 3,
   "metadata": {
    "execution": {
     "iopub.execute_input": "2021-09-16T22:11:29.324293Z",
     "iopub.status.busy": "2021-09-16T22:11:29.323758Z",
     "iopub.status.idle": "2021-09-16T22:11:29.334765Z",
     "shell.execute_reply": "2021-09-16T22:11:29.335161Z"
    }
   },
   "outputs": [
    {
     "name": "stdout",
     "output_type": "stream",
     "text": [
      "Recent query happens at 2021-09-17 06:11:23 (CST).\n"
     ]
    }
   ],
   "source": [
    "def ts2dt(ts, format=DATETIME_FORMAT):\r\n",
    "    dt = (datetime.utcfromtimestamp(int(ts))\r\n",
    "                    .replace(tzinfo=tz.tzutc())\r\n",
    "                    # .astimezone(tz.tzlocal())\r\n",
    "                    .astimezone(tz.gettz(TIME_ZONE)))\r\n",
    "    return dt.strftime(format), dt\r\n",
    "\r\n",
    "_, newest_dt = ts2dt(newest_ts)\r\n",
    "print(f\"Recent query happens at {newest_dt.strftime(DATETIME_FORMAT)} ({newest_dt.tzname()}).\")"
   ]
  },
  {
   "cell_type": "code",
   "execution_count": 4,
   "metadata": {
    "execution": {
     "iopub.execute_input": "2021-09-16T22:11:29.340681Z",
     "iopub.status.busy": "2021-09-16T22:11:29.340090Z",
     "iopub.status.idle": "2021-09-16T22:11:29.344185Z",
     "shell.execute_reply": "2021-09-16T22:11:29.343649Z"
    }
   },
   "outputs": [],
   "source": [
    "def degrees_to_cardinal(d):\r\n",
    "  dirs = ['N', 'NNE', 'NE', 'ENE', 'E', 'ESE', 'SE', 'SSE', 'S', 'SSW', 'SW', 'WSW', 'W', 'WNW', 'NW', 'NNW']\r\n",
    "  ix = int(round(d / (360. / len(dirs))))\r\n",
    "  return dirs[ix % len(dirs)]"
   ]
  },
  {
   "cell_type": "code",
   "execution_count": 5,
   "metadata": {
    "execution": {
     "iopub.execute_input": "2021-09-16T22:11:29.348065Z",
     "iopub.status.busy": "2021-09-16T22:11:29.347406Z",
     "iopub.status.idle": "2021-09-16T22:11:29.351396Z",
     "shell.execute_reply": "2021-09-16T22:11:29.350980Z"
    }
   },
   "outputs": [],
   "source": [
    "# data.keys()"
   ]
  },
  {
   "cell_type": "code",
   "execution_count": 6,
   "metadata": {
    "execution": {
     "iopub.execute_input": "2021-09-16T22:11:29.354820Z",
     "iopub.status.busy": "2021-09-16T22:11:29.354308Z",
     "iopub.status.idle": "2021-09-16T22:11:29.358320Z",
     "shell.execute_reply": "2021-09-16T22:11:29.357662Z"
    }
   },
   "outputs": [],
   "source": [
    "# data['current']"
   ]
  },
  {
   "cell_type": "code",
   "execution_count": 7,
   "metadata": {
    "execution": {
     "iopub.execute_input": "2021-09-16T22:11:29.375326Z",
     "iopub.status.busy": "2021-09-16T22:11:29.369850Z",
     "iopub.status.idle": "2021-09-16T22:11:29.809522Z",
     "shell.execute_reply": "2021-09-16T22:11:29.810179Z"
    }
   },
   "outputs": [
    {
     "data": {
      "image/png": "[encoded data removed]",
      "text/plain": [
       "<Figure size 216x216 with 1 Axes>"
      ]
     },
     "metadata": {
      "needs_background": "light"
     },
     "output_type": "display_data"
    },
    {
     "name": "stdout",
     "output_type": "stream",
     "text": [
      "Today, sun rises at 06:10 and sets at 18:25.\n",
      "Currently, the weather is Clouds (broken clouds).\n",
      "The temperature is 28.04°C and it feels like 33.01°C.\n",
      "The UV index is 0, humidity is 85%.\n",
      "The pressure is 1008 hPa, percentage of cloud cover is 73%\n",
      "The wind comes from WNW direction with a speed 1.85 m/s.\n"
     ]
    }
   ],
   "source": [
    "current = data['current']\r\n",
    "\r\n",
    "fig, ax = plt.subplots(figsize=(3, 3))\r\n",
    "icon = requests.get(f\"http://openweathermap.org/img/wn/{current['weather'][0]['icon']}@2x.png\")\r\n",
    "im = Image.open(BytesIO(icon.content))\r\n",
    "plt.imshow(im)\r\n",
    "ax.set_axis_off()\r\n",
    "plt.show()\r\n",
    "\r\n",
    "print(f\"Today, sun rises at {ts2dt(current['sunrise'], '%H:%M')[0]} \\\r\n",
    "and sets at {ts2dt(current['sunset'], '%H:%M')[0]}.\\n\\\r\n",
    "Currently, the weather is {current['weather'][0]['main']} ({current['weather'][0]['description']}).\\n\\\r\n",
    "The temperature is {current['temp']}°C and it feels like {current['feels_like']}°C.\\n\\\r\n",
    "The UV index is {current['uvi']}, humidity is {current['humidity']}%.\\n\\\r\n",
    "The pressure is {current['pressure']} hPa, percentage of cloud cover is {current['clouds']}%\\n\\\r\n",
    "The wind comes from {degrees_to_cardinal(current['wind_deg'])} direction with a speed {current['wind_speed']} m/s.\")"
   ]
  },
  {
   "cell_type": "code",
   "execution_count": 8,
   "metadata": {
    "execution": {
     "iopub.execute_input": "2021-09-16T22:11:29.813823Z",
     "iopub.status.busy": "2021-09-16T22:11:29.812718Z",
     "iopub.status.idle": "2021-09-16T22:11:29.819757Z",
     "shell.execute_reply": "2021-09-16T22:11:29.820394Z"
    }
   },
   "outputs": [],
   "source": [
    "df_hourly = pd.DataFrame(data['hourly'])\r\n",
    "df_daily = pd.DataFrame(data['daily'])"
   ]
  },
  {
   "cell_type": "code",
   "execution_count": 9,
   "metadata": {
    "execution": {
     "iopub.execute_input": "2021-09-16T22:11:29.823861Z",
     "iopub.status.busy": "2021-09-16T22:11:29.822670Z",
     "iopub.status.idle": "2021-09-16T22:11:30.127040Z",
     "shell.execute_reply": "2021-09-16T22:11:30.126614Z"
    }
   },
   "outputs": [
    {
     "data": {
      "image/png": "[encoded data removed]",
      "text/plain": [
       "<Figure size 864x432 with 1 Axes>"
      ]
     },
     "metadata": {
      "needs_background": "light"
     },
     "output_type": "display_data"
    }
   ],
   "source": [
    "fig, ax = plt.subplots(figsize=(12, 6))\r\n",
    "plt.plot(df_hourly.temp, '.-', label='Temperature')\r\n",
    "plt.plot(df_hourly.feels_like, '.-', label='Feels Like')\r\n",
    "ax.set(title='Temperature in future 48 hours', xlabel='Time', ylabel='Temperature')\r\n",
    "ax.set_xticks(list(range(0, len(df_hourly), 2)))\r\n",
    "ax.set_xticklabels([ts2dt(ts, '%m-%d %H:%M')[0] for i, ts in enumerate(df_hourly.dt) if i%2==0], \r\n",
    "                   rotation=45, ha=\"right\")\r\n",
    "ax.locator_params(nbins=15, axis='y')\r\n",
    "plt.legend()\r\n",
    "plt.show()"
   ]
  },
  {
   "cell_type": "code",
   "execution_count": 10,
   "metadata": {
    "execution": {
     "iopub.execute_input": "2021-09-16T22:11:30.131150Z",
     "iopub.status.busy": "2021-09-16T22:11:30.130686Z",
     "iopub.status.idle": "2021-09-16T22:11:30.151914Z",
     "shell.execute_reply": "2021-09-16T22:11:30.151282Z"
    }
   },
   "outputs": [
    {
     "data": {
      "text/html": [
       "<div>\n",
       "<style scoped>\n",
       "    .dataframe tbody tr th:only-of-type {\n",
       "        vertical-align: middle;\n",
       "    }\n",
       "\n",
       "    .dataframe tbody tr th {\n",
       "        vertical-align: top;\n",
       "    }\n",
       "\n",
       "    .dataframe thead th {\n",
       "        text-align: right;\n",
       "    }\n",
       "</style>\n",
       "<table border=\"1\" class=\"dataframe\">\n",
       "  <thead>\n",
       "    <tr style=\"text-align: right;\">\n",
       "      <th></th>\n",
       "      <th>dt</th>\n",
       "      <th>temp</th>\n",
       "      <th>feels_like</th>\n",
       "      <th>pressure</th>\n",
       "      <th>humidity</th>\n",
       "      <th>dew_point</th>\n",
       "      <th>uvi</th>\n",
       "      <th>clouds</th>\n",
       "      <th>visibility</th>\n",
       "      <th>wind_speed</th>\n",
       "      <th>wind_deg</th>\n",
       "      <th>wind_gust</th>\n",
       "      <th>weather</th>\n",
       "      <th>pop</th>\n",
       "      <th>rain</th>\n",
       "    </tr>\n",
       "  </thead>\n",
       "  <tbody>\n",
       "    <tr>\n",
       "      <th>0</th>\n",
       "      <td>1631829600</td>\n",
       "      <td>28.04</td>\n",
       "      <td>33.01</td>\n",
       "      <td>1008</td>\n",
       "      <td>85</td>\n",
       "      <td>25.28</td>\n",
       "      <td>0.00</td>\n",
       "      <td>73</td>\n",
       "      <td>10000</td>\n",
       "      <td>1.85</td>\n",
       "      <td>285</td>\n",
       "      <td>2.01</td>\n",
       "      <td>[{'id': 500, 'main': 'Rain', 'description': 'l...</td>\n",
       "      <td>0.58</td>\n",
       "      <td>{'1h': 0.68}</td>\n",
       "    </tr>\n",
       "    <tr>\n",
       "      <th>1</th>\n",
       "      <td>1631833200</td>\n",
       "      <td>28.06</td>\n",
       "      <td>32.73</td>\n",
       "      <td>1008</td>\n",
       "      <td>83</td>\n",
       "      <td>24.90</td>\n",
       "      <td>0.23</td>\n",
       "      <td>71</td>\n",
       "      <td>10000</td>\n",
       "      <td>1.18</td>\n",
       "      <td>319</td>\n",
       "      <td>1.37</td>\n",
       "      <td>[{'id': 803, 'main': 'Clouds', 'description': ...</td>\n",
       "      <td>0.70</td>\n",
       "      <td>NaN</td>\n",
       "    </tr>\n",
       "    <tr>\n",
       "      <th>2</th>\n",
       "      <td>1631836800</td>\n",
       "      <td>28.38</td>\n",
       "      <td>33.25</td>\n",
       "      <td>1008</td>\n",
       "      <td>81</td>\n",
       "      <td>24.80</td>\n",
       "      <td>1.26</td>\n",
       "      <td>65</td>\n",
       "      <td>10000</td>\n",
       "      <td>1.18</td>\n",
       "      <td>345</td>\n",
       "      <td>1.36</td>\n",
       "      <td>[{'id': 803, 'main': 'Clouds', 'description': ...</td>\n",
       "      <td>0.68</td>\n",
       "      <td>NaN</td>\n",
       "    </tr>\n",
       "    <tr>\n",
       "      <th>3</th>\n",
       "      <td>1631840400</td>\n",
       "      <td>28.96</td>\n",
       "      <td>34.00</td>\n",
       "      <td>1009</td>\n",
       "      <td>77</td>\n",
       "      <td>24.52</td>\n",
       "      <td>3.36</td>\n",
       "      <td>44</td>\n",
       "      <td>10000</td>\n",
       "      <td>0.73</td>\n",
       "      <td>36</td>\n",
       "      <td>1.03</td>\n",
       "      <td>[{'id': 500, 'main': 'Rain', 'description': 'l...</td>\n",
       "      <td>0.71</td>\n",
       "      <td>{'1h': 0.37}</td>\n",
       "    </tr>\n",
       "    <tr>\n",
       "      <th>4</th>\n",
       "      <td>1631844000</td>\n",
       "      <td>29.24</td>\n",
       "      <td>33.87</td>\n",
       "      <td>1010</td>\n",
       "      <td>73</td>\n",
       "      <td>23.90</td>\n",
       "      <td>6.26</td>\n",
       "      <td>46</td>\n",
       "      <td>10000</td>\n",
       "      <td>0.92</td>\n",
       "      <td>122</td>\n",
       "      <td>1.17</td>\n",
       "      <td>[{'id': 501, 'main': 'Rain', 'description': 'm...</td>\n",
       "      <td>0.79</td>\n",
       "      <td>{'1h': 1.51}</td>\n",
       "    </tr>\n",
       "  </tbody>\n",
       "</table>\n",
       "</div>"
      ],
      "text/plain": [
       "           dt   temp  feels_like  pressure  humidity  dew_point   uvi  clouds  \\\n",
       "0  1631829600  28.04       33.01      1008        85      25.28  0.00      73   \n",
       "1  1631833200  28.06       32.73      1008        83      24.90  0.23      71   \n",
       "2  1631836800  28.38       33.25      1008        81      24.80  1.26      65   \n",
       "3  1631840400  28.96       34.00      1009        77      24.52  3.36      44   \n",
       "4  1631844000  29.24       33.87      1010        73      23.90  6.26      46   \n",
       "\n",
       "   visibility  wind_speed  wind_deg  wind_gust  \\\n",
       "0       10000        1.85       285       2.01   \n",
       "1       10000        1.18       319       1.37   \n",
       "2       10000        1.18       345       1.36   \n",
       "3       10000        0.73        36       1.03   \n",
       "4       10000        0.92       122       1.17   \n",
       "\n",
       "                                             weather   pop          rain  \n",
       "0  [{'id': 500, 'main': 'Rain', 'description': 'l...  0.58  {'1h': 0.68}  \n",
       "1  [{'id': 803, 'main': 'Clouds', 'description': ...  0.70           NaN  \n",
       "2  [{'id': 803, 'main': 'Clouds', 'description': ...  0.68           NaN  \n",
       "3  [{'id': 500, 'main': 'Rain', 'description': 'l...  0.71  {'1h': 0.37}  \n",
       "4  [{'id': 501, 'main': 'Rain', 'description': 'm...  0.79  {'1h': 1.51}  "
      ]
     },
     "execution_count": 10,
     "metadata": {},
     "output_type": "execute_result"
    }
   ],
   "source": [
    "df_hourly.head()"
   ]
  },
  {
   "cell_type": "code",
   "execution_count": null,
   "metadata": {},
   "outputs": [],
   "source": []
  }
 ],
 "metadata": {
  "interpreter": {
   "hash": "c1b4cfe941b6d2466ad1fb5979e97da9cda8801728c8091b097ab734208fc00c"
  },
  "kernelspec": {
   "display_name": "Python 3.8.3 64-bit ('base': conda)",
   "name": "python3"
  },
  "language_info": {
   "codemirror_mode": {
    "name": "ipython",
    "version": 3
   },
   "file_extension": ".py",
   "mimetype": "text/x-python",
   "name": "python",
   "nbconvert_exporter": "python",
   "pygments_lexer": "ipython3",
   "version": "3.8.11"
  }
 },
 "nbformat": 4,
 "nbformat_minor": 2
}
