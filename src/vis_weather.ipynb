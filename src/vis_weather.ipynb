{
 "cells": [
  {
   "cell_type": "code",
   "execution_count": 1,
   "metadata": {
    "execution": {
     "iopub.execute_input": "2021-09-03T10:17:26.345070Z",
     "iopub.status.busy": "2021-09-03T10:17:26.344487Z",
     "iopub.status.idle": "2021-09-03T10:17:28.577937Z",
     "shell.execute_reply": "2021-09-03T10:17:28.578395Z"
    }
   },
   "outputs": [],
   "source": [
    "import json, yaml, requests\r\n",
    "from datetime import datetime\r\n",
    "from dateutil import tz\r\n",
    "import pandas as pd\r\n",
    "from PIL import Image\r\n",
    "from io import BytesIO\r\n",
    "import matplotlib.pyplot as plt\r\n",
    "import seaborn\r\n",
    "\r\n",
    "CONFIG_PATH = \"../config/config.yaml\""
   ]
  },
  {
   "cell_type": "code",
   "execution_count": 2,
   "metadata": {
    "execution": {
     "iopub.execute_input": "2021-09-03T10:17:28.585074Z",
     "iopub.status.busy": "2021-09-03T10:17:28.582542Z",
     "iopub.status.idle": "2021-09-03T10:17:28.587512Z",
     "shell.execute_reply": "2021-09-03T10:17:28.587125Z"
    }
   },
   "outputs": [],
   "source": [
    "with open('../newest_ts', 'r') as f:\r\n",
    "    newest_ts = f.read()\r\n",
    "\r\n",
    "data_path = f\"../data/data_{newest_ts}.json\"\r\n",
    "with open(data_path, 'r') as f:\r\n",
    "    data = json.load(f)\r\n",
    "\r\n",
    "with open(CONFIG_PATH, \"r\") as stream:\r\n",
    "    config = yaml.safe_load(stream)\r\n",
    "\r\n",
    "TIME_ZONE = config['time_zone']\r\n",
    "DATETIME_FORMAT = config['dt_format']"
   ]
  },
  {
   "cell_type": "code",
   "execution_count": 3,
   "metadata": {
    "execution": {
     "iopub.execute_input": "2021-09-03T10:17:28.591305Z",
     "iopub.status.busy": "2021-09-03T10:17:28.590855Z",
     "iopub.status.idle": "2021-09-03T10:17:28.599446Z",
     "shell.execute_reply": "2021-09-03T10:17:28.599820Z"
    }
   },
   "outputs": [
    {
     "name": "stdout",
     "output_type": "stream",
     "text": [
      "Recent query happens at 2021-09-03 18:17:23 (CST).\n"
     ]
    }
   ],
   "source": [
    "def ts2dt(ts, format=DATETIME_FORMAT):\r\n",
    "    dt = (datetime.utcfromtimestamp(int(ts))\r\n",
    "                    .replace(tzinfo=tz.tzutc())\r\n",
    "                    # .astimezone(tz.tzlocal())\r\n",
    "                    .astimezone(tz.gettz(TIME_ZONE)))\r\n",
    "    return dt.strftime(format), dt\r\n",
    "\r\n",
    "_, newest_dt = ts2dt(newest_ts)\r\n",
    "print(f\"Recent query happens at {newest_dt.strftime(DATETIME_FORMAT)} ({newest_dt.tzname()}).\")"
   ]
  },
  {
   "cell_type": "code",
   "execution_count": 4,
   "metadata": {
    "execution": {
     "iopub.execute_input": "2021-09-03T10:17:28.604190Z",
     "iopub.status.busy": "2021-09-03T10:17:28.603225Z",
     "iopub.status.idle": "2021-09-03T10:17:28.604705Z",
     "shell.execute_reply": "2021-09-03T10:17:28.605068Z"
    }
   },
   "outputs": [],
   "source": [
    "def degrees_to_cardinal(d):\r\n",
    "  dirs = ['N', 'NNE', 'NE', 'ENE', 'E', 'ESE', 'SE', 'SSE', 'S', 'SSW', 'SW', 'WSW', 'W', 'WNW', 'NW', 'NNW']\r\n",
    "  ix = int(round(d / (360. / len(dirs))))\r\n",
    "  return dirs[ix % len(dirs)]"
   ]
  },
  {
   "cell_type": "code",
   "execution_count": 5,
   "metadata": {
    "execution": {
     "iopub.execute_input": "2021-09-03T10:17:28.608635Z",
     "iopub.status.busy": "2021-09-03T10:17:28.607593Z",
     "iopub.status.idle": "2021-09-03T10:17:28.609150Z",
     "shell.execute_reply": "2021-09-03T10:17:28.609514Z"
    }
   },
   "outputs": [],
   "source": [
    "# data.keys()"
   ]
  },
  {
   "cell_type": "code",
   "execution_count": 6,
   "metadata": {
    "execution": {
     "iopub.execute_input": "2021-09-03T10:17:28.612814Z",
     "iopub.status.busy": "2021-09-03T10:17:28.611857Z",
     "iopub.status.idle": "2021-09-03T10:17:28.613334Z",
     "shell.execute_reply": "2021-09-03T10:17:28.613727Z"
    }
   },
   "outputs": [],
   "source": [
    "# data['current']"
   ]
  },
  {
   "cell_type": "code",
   "execution_count": 7,
   "metadata": {
    "execution": {
     "iopub.execute_input": "2021-09-03T10:17:28.628726Z",
     "iopub.status.busy": "2021-09-03T10:17:28.628244Z",
     "iopub.status.idle": "2021-09-03T10:17:28.886607Z",
     "shell.execute_reply": "2021-09-03T10:17:28.887201Z"
    }
   },
   "outputs": [
    {
     "data": {
      "image/png": "[encoded data removed]",
      "text/plain": [
       "<Figure size 216x216 with 1 Axes>"
      ]
     },
     "metadata": {
      "needs_background": "light"
     },
     "output_type": "display_data"
    },
    {
     "name": "stdout",
     "output_type": "stream",
     "text": [
      "Today, sun rises at 06:06 and sets at 18:38.\n",
      "Currently, the weather is Clouds (broken clouds).\n",
      "The temperature is 31.24°C and it feels like 37.94°C.\n",
      "The UV index is 0.21, humidity is 69%.\n",
      "The pressure is 1006 hPa, percentage of cloud cover is 57%\n",
      "The wind comes from SSE direction with a speed 2.86 m/s.\n"
     ]
    }
   ],
   "source": [
    "current = data['current']\r\n",
    "\r\n",
    "fig, ax = plt.subplots(figsize=(3, 3))\r\n",
    "icon = requests.get(f\"http://openweathermap.org/img/wn/{current['weather'][0]['icon']}@2x.png\")\r\n",
    "im = Image.open(BytesIO(icon.content))\r\n",
    "plt.imshow(im)\r\n",
    "ax.set_axis_off()\r\n",
    "plt.show()\r\n",
    "\r\n",
    "print(f\"Today, sun rises at {ts2dt(current['sunrise'], '%H:%M')[0]} \\\r\n",
    "and sets at {ts2dt(current['sunset'], '%H:%M')[0]}.\\n\\\r\n",
    "Currently, the weather is {current['weather'][0]['main']} ({current['weather'][0]['description']}).\\n\\\r\n",
    "The temperature is {current['temp']}°C and it feels like {current['feels_like']}°C.\\n\\\r\n",
    "The UV index is {current['uvi']}, humidity is {current['humidity']}%.\\n\\\r\n",
    "The pressure is {current['pressure']} hPa, percentage of cloud cover is {current['clouds']}%\\n\\\r\n",
    "The wind comes from {degrees_to_cardinal(current['wind_deg'])} direction with a speed {current['wind_speed']} m/s.\")"
   ]
  },
  {
   "cell_type": "code",
   "execution_count": 8,
   "metadata": {
    "execution": {
     "iopub.execute_input": "2021-09-03T10:17:28.890012Z",
     "iopub.status.busy": "2021-09-03T10:17:28.889183Z",
     "iopub.status.idle": "2021-09-03T10:17:28.895329Z",
     "shell.execute_reply": "2021-09-03T10:17:28.895892Z"
    }
   },
   "outputs": [],
   "source": [
    "df_hourly = pd.DataFrame(data['hourly'])\r\n",
    "df_daily = pd.DataFrame(data['daily'])"
   ]
  },
  {
   "cell_type": "code",
   "execution_count": 9,
   "metadata": {
    "execution": {
     "iopub.execute_input": "2021-09-03T10:17:28.898605Z",
     "iopub.status.busy": "2021-09-03T10:17:28.897799Z",
     "iopub.status.idle": "2021-09-03T10:17:29.123473Z",
     "shell.execute_reply": "2021-09-03T10:17:29.123045Z"
    }
   },
   "outputs": [
    {
     "data": {
      "image/png": "[encoded data removed]",
      "text/plain": [
       "<Figure size 864x432 with 1 Axes>"
      ]
     },
     "metadata": {
      "needs_background": "light"
     },
     "output_type": "display_data"
    }
   ],
   "source": [
    "fig, ax = plt.subplots(figsize=(12, 6))\r\n",
    "plt.plot(df_hourly.temp, '.-', label='Temperature')\r\n",
    "plt.plot(df_hourly.feels_like, '.-', label='Feels Like')\r\n",
    "ax.set(title='Temperature in future 48 hours', xlabel='Time', ylabel='Temperature')\r\n",
    "ax.set_xticks(list(range(0, len(df_hourly), 2)))\r\n",
    "ax.set_xticklabels([ts2dt(ts, '%m-%d %H:%M')[0] for i, ts in enumerate(df_hourly.dt) if i%2==0], \r\n",
    "                   rotation=45, ha=\"right\")\r\n",
    "ax.locator_params(nbins=15, axis='y')\r\n",
    "plt.legend()\r\n",
    "plt.show()"
   ]
  },
  {
   "cell_type": "code",
   "execution_count": 10,
   "metadata": {
    "execution": {
     "iopub.execute_input": "2021-09-03T10:17:29.134094Z",
     "iopub.status.busy": "2021-09-03T10:17:29.126873Z",
     "iopub.status.idle": "2021-09-03T10:17:29.143601Z",
     "shell.execute_reply": "2021-09-03T10:17:29.143966Z"
    }
   },
   "outputs": [
    {
     "data": {
      "text/html": [
       "<div>\n",
       "<style scoped>\n",
       "    .dataframe tbody tr th:only-of-type {\n",
       "        vertical-align: middle;\n",
       "    }\n",
       "\n",
       "    .dataframe tbody tr th {\n",
       "        vertical-align: top;\n",
       "    }\n",
       "\n",
       "    .dataframe thead th {\n",
       "        text-align: right;\n",
       "    }\n",
       "</style>\n",
       "<table border=\"1\" class=\"dataframe\">\n",
       "  <thead>\n",
       "    <tr style=\"text-align: right;\">\n",
       "      <th></th>\n",
       "      <th>dt</th>\n",
       "      <th>temp</th>\n",
       "      <th>feels_like</th>\n",
       "      <th>pressure</th>\n",
       "      <th>humidity</th>\n",
       "      <th>dew_point</th>\n",
       "      <th>uvi</th>\n",
       "      <th>clouds</th>\n",
       "      <th>visibility</th>\n",
       "      <th>wind_speed</th>\n",
       "      <th>wind_deg</th>\n",
       "      <th>wind_gust</th>\n",
       "      <th>weather</th>\n",
       "      <th>pop</th>\n",
       "      <th>rain</th>\n",
       "    </tr>\n",
       "  </thead>\n",
       "  <tbody>\n",
       "    <tr>\n",
       "      <th>0</th>\n",
       "      <td>1630663200</td>\n",
       "      <td>31.24</td>\n",
       "      <td>37.94</td>\n",
       "      <td>1006</td>\n",
       "      <td>69</td>\n",
       "      <td>24.87</td>\n",
       "      <td>0.21</td>\n",
       "      <td>57</td>\n",
       "      <td>10000</td>\n",
       "      <td>2.86</td>\n",
       "      <td>150</td>\n",
       "      <td>3.34</td>\n",
       "      <td>[{'id': 803, 'main': 'Clouds', 'description': ...</td>\n",
       "      <td>0.01</td>\n",
       "      <td>NaN</td>\n",
       "    </tr>\n",
       "    <tr>\n",
       "      <th>1</th>\n",
       "      <td>1630666800</td>\n",
       "      <td>30.71</td>\n",
       "      <td>37.12</td>\n",
       "      <td>1006</td>\n",
       "      <td>71</td>\n",
       "      <td>24.84</td>\n",
       "      <td>0.00</td>\n",
       "      <td>59</td>\n",
       "      <td>10000</td>\n",
       "      <td>2.65</td>\n",
       "      <td>153</td>\n",
       "      <td>3.10</td>\n",
       "      <td>[{'id': 803, 'main': 'Clouds', 'description': ...</td>\n",
       "      <td>0.00</td>\n",
       "      <td>NaN</td>\n",
       "    </tr>\n",
       "    <tr>\n",
       "      <th>2</th>\n",
       "      <td>1630670400</td>\n",
       "      <td>30.08</td>\n",
       "      <td>35.99</td>\n",
       "      <td>1006</td>\n",
       "      <td>73</td>\n",
       "      <td>24.70</td>\n",
       "      <td>0.00</td>\n",
       "      <td>63</td>\n",
       "      <td>10000</td>\n",
       "      <td>2.82</td>\n",
       "      <td>152</td>\n",
       "      <td>3.53</td>\n",
       "      <td>[{'id': 803, 'main': 'Clouds', 'description': ...</td>\n",
       "      <td>0.00</td>\n",
       "      <td>NaN</td>\n",
       "    </tr>\n",
       "    <tr>\n",
       "      <th>3</th>\n",
       "      <td>1630674000</td>\n",
       "      <td>29.43</td>\n",
       "      <td>35.24</td>\n",
       "      <td>1007</td>\n",
       "      <td>77</td>\n",
       "      <td>24.97</td>\n",
       "      <td>0.00</td>\n",
       "      <td>80</td>\n",
       "      <td>10000</td>\n",
       "      <td>2.92</td>\n",
       "      <td>155</td>\n",
       "      <td>3.80</td>\n",
       "      <td>[{'id': 803, 'main': 'Clouds', 'description': ...</td>\n",
       "      <td>0.00</td>\n",
       "      <td>NaN</td>\n",
       "    </tr>\n",
       "    <tr>\n",
       "      <th>4</th>\n",
       "      <td>1630677600</td>\n",
       "      <td>28.71</td>\n",
       "      <td>33.95</td>\n",
       "      <td>1008</td>\n",
       "      <td>80</td>\n",
       "      <td>24.92</td>\n",
       "      <td>0.00</td>\n",
       "      <td>56</td>\n",
       "      <td>10000</td>\n",
       "      <td>2.64</td>\n",
       "      <td>158</td>\n",
       "      <td>3.59</td>\n",
       "      <td>[{'id': 803, 'main': 'Clouds', 'description': ...</td>\n",
       "      <td>0.00</td>\n",
       "      <td>NaN</td>\n",
       "    </tr>\n",
       "  </tbody>\n",
       "</table>\n",
       "</div>"
      ],
      "text/plain": [
       "           dt   temp  feels_like  pressure  humidity  dew_point   uvi  clouds  \\\n",
       "0  1630663200  31.24       37.94      1006        69      24.87  0.21      57   \n",
       "1  1630666800  30.71       37.12      1006        71      24.84  0.00      59   \n",
       "2  1630670400  30.08       35.99      1006        73      24.70  0.00      63   \n",
       "3  1630674000  29.43       35.24      1007        77      24.97  0.00      80   \n",
       "4  1630677600  28.71       33.95      1008        80      24.92  0.00      56   \n",
       "\n",
       "   visibility  wind_speed  wind_deg  wind_gust  \\\n",
       "0       10000        2.86       150       3.34   \n",
       "1       10000        2.65       153       3.10   \n",
       "2       10000        2.82       152       3.53   \n",
       "3       10000        2.92       155       3.80   \n",
       "4       10000        2.64       158       3.59   \n",
       "\n",
       "                                             weather   pop rain  \n",
       "0  [{'id': 803, 'main': 'Clouds', 'description': ...  0.01  NaN  \n",
       "1  [{'id': 803, 'main': 'Clouds', 'description': ...  0.00  NaN  \n",
       "2  [{'id': 803, 'main': 'Clouds', 'description': ...  0.00  NaN  \n",
       "3  [{'id': 803, 'main': 'Clouds', 'description': ...  0.00  NaN  \n",
       "4  [{'id': 803, 'main': 'Clouds', 'description': ...  0.00  NaN  "
      ]
     },
     "execution_count": 10,
     "metadata": {},
     "output_type": "execute_result"
    }
   ],
   "source": [
    "df_hourly.head()"
   ]
  },
  {
   "cell_type": "code",
   "execution_count": null,
   "metadata": {},
   "outputs": [],
   "source": []
  }
 ],
 "metadata": {
  "interpreter": {
   "hash": "c1b4cfe941b6d2466ad1fb5979e97da9cda8801728c8091b097ab734208fc00c"
  },
  "kernelspec": {
   "display_name": "Python 3.8.3 64-bit ('base': conda)",
   "name": "python3"
  },
  "language_info": {
   "codemirror_mode": {
    "name": "ipython",
    "version": 3
   },
   "file_extension": ".py",
   "mimetype": "text/x-python",
   "name": "python",
   "nbconvert_exporter": "python",
   "pygments_lexer": "ipython3",
   "version": "3.8.11"
  }
 },
 "nbformat": 4,
 "nbformat_minor": 2
}
