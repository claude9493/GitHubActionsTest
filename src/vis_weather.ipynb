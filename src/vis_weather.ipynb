{
 "cells": [
  {
   "cell_type": "code",
   "execution_count": 1,
   "metadata": {
    "execution": {
     "iopub.execute_input": "2021-08-25T01:55:08.915814Z",
     "iopub.status.busy": "2021-08-25T01:55:08.915232Z",
     "iopub.status.idle": "2021-08-25T01:55:12.678559Z",
     "shell.execute_reply": "2021-08-25T01:55:12.677950Z"
    }
   },
   "outputs": [],
   "source": [
    "import json, yaml, requests\r\n",
    "from datetime import datetime\r\n",
    "from dateutil import tz\r\n",
    "import pandas as pd\r\n",
    "from PIL import Image\r\n",
    "from io import BytesIO\r\n",
    "import matplotlib.pyplot as plt\r\n",
    "import seaborn\r\n",
    "\r\n",
    "CONFIG_PATH = \"../config/config.yaml\""
   ]
  },
  {
   "cell_type": "code",
   "execution_count": 2,
   "metadata": {
    "execution": {
     "iopub.execute_input": "2021-08-25T01:55:12.684478Z",
     "iopub.status.busy": "2021-08-25T01:55:12.683681Z",
     "iopub.status.idle": "2021-08-25T01:55:12.690285Z",
     "shell.execute_reply": "2021-08-25T01:55:12.689565Z"
    }
   },
   "outputs": [],
   "source": [
    "with open('../newest_ts', 'r') as f:\r\n",
    "    newest_ts = f.read()\r\n",
    "\r\n",
    "data_path = f\"../data/data_{newest_ts}.json\"\r\n",
    "with open(data_path, 'r') as f:\r\n",
    "    data = json.load(f)\r\n",
    "\r\n",
    "with open(CONFIG_PATH, \"r\") as stream:\r\n",
    "    config = yaml.safe_load(stream)\r\n",
    "\r\n",
    "TIME_ZONE = config['time_zone']\r\n",
    "DATETIME_FORMAT = config['dt_format']"
   ]
  },
  {
   "cell_type": "code",
   "execution_count": 3,
   "metadata": {
    "execution": {
     "iopub.execute_input": "2021-08-25T01:55:12.695388Z",
     "iopub.status.busy": "2021-08-25T01:55:12.694693Z",
     "iopub.status.idle": "2021-08-25T01:55:12.715187Z",
     "shell.execute_reply": "2021-08-25T01:55:12.714493Z"
    }
   },
   "outputs": [
    {
     "name": "stdout",
     "output_type": "stream",
     "text": [
      "Recent query happens at 2021-08-25 09:55:06 (CST).\n"
     ]
    }
   ],
   "source": [
    "def ts2dt(ts, format=DATETIME_FORMAT):\r\n",
    "    dt = (datetime.utcfromtimestamp(int(ts))\r\n",
    "                    .replace(tzinfo=tz.tzutc())\r\n",
    "                    # .astimezone(tz.tzlocal())\r\n",
    "                    .astimezone(tz.gettz(TIME_ZONE)))\r\n",
    "    return dt.strftime(format), dt\r\n",
    "\r\n",
    "_, newest_dt = ts2dt(newest_ts)\r\n",
    "print(f\"Recent query happens at {newest_dt.strftime(DATETIME_FORMAT)} ({newest_dt.tzname()}).\")"
   ]
  },
  {
   "cell_type": "code",
   "execution_count": 4,
   "metadata": {
    "execution": {
     "iopub.execute_input": "2021-08-25T01:55:12.720922Z",
     "iopub.status.busy": "2021-08-25T01:55:12.719645Z",
     "iopub.status.idle": "2021-08-25T01:55:12.721518Z",
     "shell.execute_reply": "2021-08-25T01:55:12.721941Z"
    }
   },
   "outputs": [],
   "source": [
    "def degrees_to_cardinal(d):\r\n",
    "  dirs = ['N', 'NNE', 'NE', 'ENE', 'E', 'ESE', 'SE', 'SSE', 'S', 'SSW', 'SW', 'WSW', 'W', 'WNW', 'NW', 'NNW']\r\n",
    "  ix = int(round(d / (360. / len(dirs))))\r\n",
    "  return dirs[ix % len(dirs)]"
   ]
  },
  {
   "cell_type": "code",
   "execution_count": 5,
   "metadata": {
    "execution": {
     "iopub.execute_input": "2021-08-25T01:55:12.726489Z",
     "iopub.status.busy": "2021-08-25T01:55:12.725283Z",
     "iopub.status.idle": "2021-08-25T01:55:12.727078Z",
     "shell.execute_reply": "2021-08-25T01:55:12.727503Z"
    }
   },
   "outputs": [],
   "source": [
    "# data.keys()"
   ]
  },
  {
   "cell_type": "code",
   "execution_count": 6,
   "metadata": {
    "execution": {
     "iopub.execute_input": "2021-08-25T01:55:12.731755Z",
     "iopub.status.busy": "2021-08-25T01:55:12.730591Z",
     "iopub.status.idle": "2021-08-25T01:55:12.732377Z",
     "shell.execute_reply": "2021-08-25T01:55:12.732798Z"
    }
   },
   "outputs": [],
   "source": [
    "# data['current']"
   ]
  },
  {
   "cell_type": "code",
   "execution_count": 7,
   "metadata": {
    "execution": {
     "iopub.execute_input": "2021-08-25T01:55:12.753713Z",
     "iopub.status.busy": "2021-08-25T01:55:12.753134Z",
     "iopub.status.idle": "2021-08-25T01:55:13.059786Z",
     "shell.execute_reply": "2021-08-25T01:55:13.060478Z"
    }
   },
   "outputs": [
    {
     "data": {
      "image/png": "[encoded data removed]",
      "text/plain": [
       "<Figure size 216x216 with 1 Axes>"
      ]
     },
     "metadata": {
      "needs_background": "light"
     },
     "output_type": "display_data"
    },
    {
     "name": "stdout",
     "output_type": "stream",
     "text": [
      "Today, sun rises at 06:03 and sets at 18:46.\n",
      "Currently, the weather is Clouds (overcast clouds).\n",
      "The temperature is 30.91°C and it feels like 37.91°C.\n",
      "The UV index is 6.91, humidity is 79%.\n",
      "The pressure is 1010 hPa, percentage of cloud cover is 100%\n",
      "The wind comes from SE direction with a speed 2.52 m/s.\n"
     ]
    }
   ],
   "source": [
    "current = data['current']\r\n",
    "\r\n",
    "fig, ax = plt.subplots(figsize=(3, 3))\r\n",
    "icon = requests.get(f\"http://openweathermap.org/img/wn/{current['weather'][0]['icon']}@2x.png\")\r\n",
    "im = Image.open(BytesIO(icon.content))\r\n",
    "plt.imshow(im)\r\n",
    "ax.set_axis_off()\r\n",
    "plt.show()\r\n",
    "\r\n",
    "print(f\"Today, sun rises at {ts2dt(current['sunrise'], '%H:%M')[0]} \\\r\n",
    "and sets at {ts2dt(current['sunset'], '%H:%M')[0]}.\\n\\\r\n",
    "Currently, the weather is {current['weather'][0]['main']} ({current['weather'][0]['description']}).\\n\\\r\n",
    "The temperature is {current['temp']}°C and it feels like {current['feels_like']}°C.\\n\\\r\n",
    "The UV index is {current['uvi']}, humidity is {current['humidity']}%.\\n\\\r\n",
    "The pressure is {current['pressure']} hPa, percentage of cloud cover is {current['clouds']}%\\n\\\r\n",
    "The wind comes from {degrees_to_cardinal(current['wind_deg'])} direction with a speed {current['wind_speed']} m/s.\")"
   ]
  },
  {
   "cell_type": "code",
   "execution_count": 8,
   "metadata": {
    "execution": {
     "iopub.execute_input": "2021-08-25T01:55:13.068482Z",
     "iopub.status.busy": "2021-08-25T01:55:13.066311Z",
     "iopub.status.idle": "2021-08-25T01:55:13.071864Z",
     "shell.execute_reply": "2021-08-25T01:55:13.072539Z"
    }
   },
   "outputs": [],
   "source": [
    "df_hourly = pd.DataFrame(data['hourly'])\r\n",
    "df_daily = pd.DataFrame(data['daily'])"
   ]
  },
  {
   "cell_type": "code",
   "execution_count": 9,
   "metadata": {
    "execution": {
     "iopub.execute_input": "2021-08-25T01:55:13.085476Z",
     "iopub.status.busy": "2021-08-25T01:55:13.084937Z",
     "iopub.status.idle": "2021-08-25T01:55:13.377296Z",
     "shell.execute_reply": "2021-08-25T01:55:13.376382Z"
    }
   },
   "outputs": [
    {
     "data": {
      "image/png": "[encoded data removed]",
      "text/plain": [
       "<Figure size 864x432 with 1 Axes>"
      ]
     },
     "metadata": {
      "needs_background": "light"
     },
     "output_type": "display_data"
    }
   ],
   "source": [
    "fig, ax = plt.subplots(figsize=(12, 6))\r\n",
    "plt.plot(df_hourly.temp, '.-', label='Temperature')\r\n",
    "plt.plot(df_hourly.feels_like, '.-', label='Feels Like')\r\n",
    "ax.set(title='Temperature in future 48 hours', xlabel='Time', ylabel='Temperature')\r\n",
    "ax.set_xticks(list(range(0, len(df_hourly), 2)))\r\n",
    "ax.set_xticklabels([ts2dt(ts, '%m-%d %H:%M')[0] for i, ts in enumerate(df_hourly.dt) if i%2==0], \r\n",
    "                   rotation=45, ha=\"right\")\r\n",
    "ax.locator_params(nbins=15, axis='y')\r\n",
    "plt.legend()\r\n",
    "plt.show()"
   ]
  },
  {
   "cell_type": "code",
   "execution_count": 10,
   "metadata": {
    "execution": {
     "iopub.execute_input": "2021-08-25T01:55:13.382328Z",
     "iopub.status.busy": "2021-08-25T01:55:13.380015Z",
     "iopub.status.idle": "2021-08-25T01:55:13.402921Z",
     "shell.execute_reply": "2021-08-25T01:55:13.402467Z"
    }
   },
   "outputs": [
    {
     "data": {
      "text/html": [
       "<div>\n",
       "<style scoped>\n",
       "    .dataframe tbody tr th:only-of-type {\n",
       "        vertical-align: middle;\n",
       "    }\n",
       "\n",
       "    .dataframe tbody tr th {\n",
       "        vertical-align: top;\n",
       "    }\n",
       "\n",
       "    .dataframe thead th {\n",
       "        text-align: right;\n",
       "    }\n",
       "</style>\n",
       "<table border=\"1\" class=\"dataframe\">\n",
       "  <thead>\n",
       "    <tr style=\"text-align: right;\">\n",
       "      <th></th>\n",
       "      <th>dt</th>\n",
       "      <th>temp</th>\n",
       "      <th>feels_like</th>\n",
       "      <th>pressure</th>\n",
       "      <th>humidity</th>\n",
       "      <th>dew_point</th>\n",
       "      <th>uvi</th>\n",
       "      <th>clouds</th>\n",
       "      <th>visibility</th>\n",
       "      <th>wind_speed</th>\n",
       "      <th>wind_deg</th>\n",
       "      <th>wind_gust</th>\n",
       "      <th>weather</th>\n",
       "      <th>pop</th>\n",
       "      <th>rain</th>\n",
       "    </tr>\n",
       "  </thead>\n",
       "  <tbody>\n",
       "    <tr>\n",
       "      <th>0</th>\n",
       "      <td>1629853200</td>\n",
       "      <td>30.48</td>\n",
       "      <td>37.48</td>\n",
       "      <td>1010</td>\n",
       "      <td>78</td>\n",
       "      <td>26.21</td>\n",
       "      <td>3.89</td>\n",
       "      <td>100</td>\n",
       "      <td>10000</td>\n",
       "      <td>2.50</td>\n",
       "      <td>140</td>\n",
       "      <td>3.09</td>\n",
       "      <td>[{'id': 500, 'main': 'Rain', 'description': 'l...</td>\n",
       "      <td>0.58</td>\n",
       "      <td>{'1h': 0.44}</td>\n",
       "    </tr>\n",
       "    <tr>\n",
       "      <th>1</th>\n",
       "      <td>1629856800</td>\n",
       "      <td>30.91</td>\n",
       "      <td>37.91</td>\n",
       "      <td>1010</td>\n",
       "      <td>79</td>\n",
       "      <td>26.84</td>\n",
       "      <td>6.91</td>\n",
       "      <td>100</td>\n",
       "      <td>10000</td>\n",
       "      <td>2.52</td>\n",
       "      <td>142</td>\n",
       "      <td>3.02</td>\n",
       "      <td>[{'id': 804, 'main': 'Clouds', 'description': ...</td>\n",
       "      <td>0.66</td>\n",
       "      <td>NaN</td>\n",
       "    </tr>\n",
       "    <tr>\n",
       "      <th>2</th>\n",
       "      <td>1629860400</td>\n",
       "      <td>30.66</td>\n",
       "      <td>37.66</td>\n",
       "      <td>1010</td>\n",
       "      <td>77</td>\n",
       "      <td>26.16</td>\n",
       "      <td>9.67</td>\n",
       "      <td>100</td>\n",
       "      <td>10000</td>\n",
       "      <td>2.60</td>\n",
       "      <td>138</td>\n",
       "      <td>2.93</td>\n",
       "      <td>[{'id': 804, 'main': 'Clouds', 'description': ...</td>\n",
       "      <td>0.72</td>\n",
       "      <td>NaN</td>\n",
       "    </tr>\n",
       "    <tr>\n",
       "      <th>3</th>\n",
       "      <td>1629864000</td>\n",
       "      <td>30.45</td>\n",
       "      <td>37.45</td>\n",
       "      <td>1010</td>\n",
       "      <td>75</td>\n",
       "      <td>25.51</td>\n",
       "      <td>11.58</td>\n",
       "      <td>100</td>\n",
       "      <td>10000</td>\n",
       "      <td>2.95</td>\n",
       "      <td>134</td>\n",
       "      <td>3.11</td>\n",
       "      <td>[{'id': 804, 'main': 'Clouds', 'description': ...</td>\n",
       "      <td>0.73</td>\n",
       "      <td>NaN</td>\n",
       "    </tr>\n",
       "    <tr>\n",
       "      <th>4</th>\n",
       "      <td>1629867600</td>\n",
       "      <td>30.43</td>\n",
       "      <td>36.93</td>\n",
       "      <td>1009</td>\n",
       "      <td>73</td>\n",
       "      <td>25.04</td>\n",
       "      <td>11.40</td>\n",
       "      <td>99</td>\n",
       "      <td>10000</td>\n",
       "      <td>2.96</td>\n",
       "      <td>128</td>\n",
       "      <td>2.97</td>\n",
       "      <td>[{'id': 804, 'main': 'Clouds', 'description': ...</td>\n",
       "      <td>0.80</td>\n",
       "      <td>NaN</td>\n",
       "    </tr>\n",
       "  </tbody>\n",
       "</table>\n",
       "</div>"
      ],
      "text/plain": [
       "           dt   temp  feels_like  pressure  humidity  dew_point    uvi  \\\n",
       "0  1629853200  30.48       37.48      1010        78      26.21   3.89   \n",
       "1  1629856800  30.91       37.91      1010        79      26.84   6.91   \n",
       "2  1629860400  30.66       37.66      1010        77      26.16   9.67   \n",
       "3  1629864000  30.45       37.45      1010        75      25.51  11.58   \n",
       "4  1629867600  30.43       36.93      1009        73      25.04  11.40   \n",
       "\n",
       "   clouds  visibility  wind_speed  wind_deg  wind_gust  \\\n",
       "0     100       10000        2.50       140       3.09   \n",
       "1     100       10000        2.52       142       3.02   \n",
       "2     100       10000        2.60       138       2.93   \n",
       "3     100       10000        2.95       134       3.11   \n",
       "4      99       10000        2.96       128       2.97   \n",
       "\n",
       "                                             weather   pop          rain  \n",
       "0  [{'id': 500, 'main': 'Rain', 'description': 'l...  0.58  {'1h': 0.44}  \n",
       "1  [{'id': 804, 'main': 'Clouds', 'description': ...  0.66           NaN  \n",
       "2  [{'id': 804, 'main': 'Clouds', 'description': ...  0.72           NaN  \n",
       "3  [{'id': 804, 'main': 'Clouds', 'description': ...  0.73           NaN  \n",
       "4  [{'id': 804, 'main': 'Clouds', 'description': ...  0.80           NaN  "
      ]
     },
     "execution_count": 10,
     "metadata": {},
     "output_type": "execute_result"
    }
   ],
   "source": [
    "df_hourly.head()"
   ]
  },
  {
   "cell_type": "code",
   "execution_count": null,
   "metadata": {},
   "outputs": [],
   "source": []
  }
 ],
 "metadata": {
  "interpreter": {
   "hash": "c1b4cfe941b6d2466ad1fb5979e97da9cda8801728c8091b097ab734208fc00c"
  },
  "kernelspec": {
   "display_name": "Python 3.8.3 64-bit ('base': conda)",
   "name": "python3"
  },
  "language_info": {
   "codemirror_mode": {
    "name": "ipython",
    "version": 3
   },
   "file_extension": ".py",
   "mimetype": "text/x-python",
   "name": "python",
   "nbconvert_exporter": "python",
   "pygments_lexer": "ipython3",
   "version": "3.8.11"
  }
 },
 "nbformat": 4,
 "nbformat_minor": 2
}
