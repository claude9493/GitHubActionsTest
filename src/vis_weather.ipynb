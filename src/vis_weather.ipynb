{
 "cells": [
  {
   "cell_type": "code",
   "execution_count": 1,
   "metadata": {
    "execution": {
     "iopub.execute_input": "2021-10-02T21:09:48.328420Z",
     "iopub.status.busy": "2021-10-02T21:09:48.327870Z",
     "iopub.status.idle": "2021-10-02T21:09:49.724574Z",
     "shell.execute_reply": "2021-10-02T21:09:49.723940Z"
    }
   },
   "outputs": [],
   "source": [
    "import json, yaml, requests\r\n",
    "from datetime import datetime\r\n",
    "from dateutil import tz\r\n",
    "import pandas as pd\r\n",
    "from PIL import Image\r\n",
    "from io import BytesIO\r\n",
    "import matplotlib.pyplot as plt\r\n",
    "import seaborn\r\n",
    "\r\n",
    "CONFIG_PATH = \"../config/config.yaml\""
   ]
  },
  {
   "cell_type": "code",
   "execution_count": 2,
   "metadata": {
    "execution": {
     "iopub.execute_input": "2021-10-02T21:09:49.730021Z",
     "iopub.status.busy": "2021-10-02T21:09:49.729020Z",
     "iopub.status.idle": "2021-10-02T21:09:49.734231Z",
     "shell.execute_reply": "2021-10-02T21:09:49.733610Z"
    }
   },
   "outputs": [],
   "source": [
    "with open('../newest_ts', 'r') as f:\r\n",
    "    newest_ts = f.read()\r\n",
    "\r\n",
    "data_path = f\"../data/data_{newest_ts}.json\"\r\n",
    "with open(data_path, 'r') as f:\r\n",
    "    data = json.load(f)\r\n",
    "\r\n",
    "with open(CONFIG_PATH, \"r\") as stream:\r\n",
    "    config = yaml.safe_load(stream)\r\n",
    "\r\n",
    "TIME_ZONE = config['time_zone']\r\n",
    "DATETIME_FORMAT = config['dt_format']"
   ]
  },
  {
   "cell_type": "code",
   "execution_count": 3,
   "metadata": {
    "execution": {
     "iopub.execute_input": "2021-10-02T21:09:49.738370Z",
     "iopub.status.busy": "2021-10-02T21:09:49.737918Z",
     "iopub.status.idle": "2021-10-02T21:09:49.751163Z",
     "shell.execute_reply": "2021-10-02T21:09:49.751542Z"
    }
   },
   "outputs": [
    {
     "name": "stdout",
     "output_type": "stream",
     "text": [
      "Recent query happens at 2021-10-03 05:09:45 (CST).\n"
     ]
    }
   ],
   "source": [
    "def ts2dt(ts, format=DATETIME_FORMAT):\r\n",
    "    dt = (datetime.utcfromtimestamp(int(ts))\r\n",
    "                    .replace(tzinfo=tz.tzutc())\r\n",
    "                    # .astimezone(tz.tzlocal())\r\n",
    "                    .astimezone(tz.gettz(TIME_ZONE)))\r\n",
    "    return dt.strftime(format), dt\r\n",
    "\r\n",
    "_, newest_dt = ts2dt(newest_ts)\r\n",
    "print(f\"Recent query happens at {newest_dt.strftime(DATETIME_FORMAT)} ({newest_dt.tzname()}).\")"
   ]
  },
  {
   "cell_type": "code",
   "execution_count": 4,
   "metadata": {
    "execution": {
     "iopub.execute_input": "2021-10-02T21:09:49.756511Z",
     "iopub.status.busy": "2021-10-02T21:09:49.755492Z",
     "iopub.status.idle": "2021-10-02T21:09:49.757035Z",
     "shell.execute_reply": "2021-10-02T21:09:49.757399Z"
    }
   },
   "outputs": [],
   "source": [
    "def degrees_to_cardinal(d):\r\n",
    "  dirs = ['N', 'NNE', 'NE', 'ENE', 'E', 'ESE', 'SE', 'SSE', 'S', 'SSW', 'SW', 'WSW', 'W', 'WNW', 'NW', 'NNW']\r\n",
    "  ix = int(round(d / (360. / len(dirs))))\r\n",
    "  return dirs[ix % len(dirs)]"
   ]
  },
  {
   "cell_type": "code",
   "execution_count": 5,
   "metadata": {
    "execution": {
     "iopub.execute_input": "2021-10-02T21:09:49.761308Z",
     "iopub.status.busy": "2021-10-02T21:09:49.760315Z",
     "iopub.status.idle": "2021-10-02T21:09:49.761828Z",
     "shell.execute_reply": "2021-10-02T21:09:49.762186Z"
    }
   },
   "outputs": [],
   "source": [
    "# data.keys()"
   ]
  },
  {
   "cell_type": "code",
   "execution_count": 6,
   "metadata": {
    "execution": {
     "iopub.execute_input": "2021-10-02T21:09:49.765880Z",
     "iopub.status.busy": "2021-10-02T21:09:49.764798Z",
     "iopub.status.idle": "2021-10-02T21:09:49.766399Z",
     "shell.execute_reply": "2021-10-02T21:09:49.766782Z"
    }
   },
   "outputs": [],
   "source": [
    "# data['current']"
   ]
  },
  {
   "cell_type": "code",
   "execution_count": 7,
   "metadata": {
    "execution": {
     "iopub.execute_input": "2021-10-02T21:09:49.772459Z",
     "iopub.status.busy": "2021-10-02T21:09:49.771373Z",
     "iopub.status.idle": "2021-10-02T21:09:50.166992Z",
     "shell.execute_reply": "2021-10-02T21:09:50.167374Z"
    }
   },
   "outputs": [
    {
     "data": {
      "image/png": "[encoded data removed]",
      "text/plain": [
       "<Figure size 216x216 with 1 Axes>"
      ]
     },
     "metadata": {
      "needs_background": "light"
     },
     "output_type": "display_data"
    },
    {
     "name": "stdout",
     "output_type": "stream",
     "text": [
      "Today, sun rises at 06:14 and sets at 18:09.\n",
      "Currently, the weather is Clouds (scattered clouds).\n",
      "The temperature is 28.43°C and it feels like 34.33°C.\n",
      "The UV index is 0, humidity is 86%.\n",
      "The pressure is 1010 hPa, percentage of cloud cover is 41%\n",
      "The wind comes from ESE direction with a speed 4.05 m/s.\n"
     ]
    }
   ],
   "source": [
    "current = data['current']\r\n",
    "\r\n",
    "fig, ax = plt.subplots(figsize=(3, 3))\r\n",
    "icon = requests.get(f\"http://openweathermap.org/img/wn/{current['weather'][0]['icon']}@2x.png\")\r\n",
    "im = Image.open(BytesIO(icon.content))\r\n",
    "plt.imshow(im)\r\n",
    "ax.set_axis_off()\r\n",
    "plt.show()\r\n",
    "\r\n",
    "print(f\"Today, sun rises at {ts2dt(current['sunrise'], '%H:%M')[0]} \\\r\n",
    "and sets at {ts2dt(current['sunset'], '%H:%M')[0]}.\\n\\\r\n",
    "Currently, the weather is {current['weather'][0]['main']} ({current['weather'][0]['description']}).\\n\\\r\n",
    "The temperature is {current['temp']}°C and it feels like {current['feels_like']}°C.\\n\\\r\n",
    "The UV index is {current['uvi']}, humidity is {current['humidity']}%.\\n\\\r\n",
    "The pressure is {current['pressure']} hPa, percentage of cloud cover is {current['clouds']}%\\n\\\r\n",
    "The wind comes from {degrees_to_cardinal(current['wind_deg'])} direction with a speed {current['wind_speed']} m/s.\")"
   ]
  },
  {
   "cell_type": "code",
   "execution_count": 8,
   "metadata": {
    "execution": {
     "iopub.execute_input": "2021-10-02T21:09:50.170284Z",
     "iopub.status.busy": "2021-10-02T21:09:50.169844Z",
     "iopub.status.idle": "2021-10-02T21:09:50.176188Z",
     "shell.execute_reply": "2021-10-02T21:09:50.176821Z"
    }
   },
   "outputs": [],
   "source": [
    "df_hourly = pd.DataFrame(data['hourly'])\r\n",
    "df_daily = pd.DataFrame(data['daily'])"
   ]
  },
  {
   "cell_type": "code",
   "execution_count": 9,
   "metadata": {
    "execution": {
     "iopub.execute_input": "2021-10-02T21:09:50.180001Z",
     "iopub.status.busy": "2021-10-02T21:09:50.178970Z",
     "iopub.status.idle": "2021-10-02T21:09:50.412083Z",
     "shell.execute_reply": "2021-10-02T21:09:50.412493Z"
    }
   },
   "outputs": [
    {
     "data": {
      "image/png": "[encoded data removed]",
      "text/plain": [
       "<Figure size 864x432 with 1 Axes>"
      ]
     },
     "metadata": {
      "needs_background": "light"
     },
     "output_type": "display_data"
    }
   ],
   "source": [
    "fig, ax = plt.subplots(figsize=(12, 6))\r\n",
    "plt.plot(df_hourly.temp, '.-', label='Temperature')\r\n",
    "plt.plot(df_hourly.feels_like, '.-', label='Feels Like')\r\n",
    "ax.set(title='Temperature in future 48 hours', xlabel='Time', ylabel='Temperature')\r\n",
    "ax.set_xticks(list(range(0, len(df_hourly), 2)))\r\n",
    "ax.set_xticklabels([ts2dt(ts, '%m-%d %H:%M')[0] for i, ts in enumerate(df_hourly.dt) if i%2==0], \r\n",
    "                   rotation=45, ha=\"right\")\r\n",
    "ax.locator_params(nbins=15, axis='y')\r\n",
    "plt.legend()\r\n",
    "plt.show()"
   ]
  },
  {
   "cell_type": "code",
   "execution_count": 10,
   "metadata": {
    "execution": {
     "iopub.execute_input": "2021-10-02T21:09:50.423624Z",
     "iopub.status.busy": "2021-10-02T21:09:50.416283Z",
     "iopub.status.idle": "2021-10-02T21:09:50.435384Z",
     "shell.execute_reply": "2021-10-02T21:09:50.434967Z"
    }
   },
   "outputs": [
    {
     "data": {
      "text/html": [
       "<div>\n",
       "<style scoped>\n",
       "    .dataframe tbody tr th:only-of-type {\n",
       "        vertical-align: middle;\n",
       "    }\n",
       "\n",
       "    .dataframe tbody tr th {\n",
       "        vertical-align: top;\n",
       "    }\n",
       "\n",
       "    .dataframe thead th {\n",
       "        text-align: right;\n",
       "    }\n",
       "</style>\n",
       "<table border=\"1\" class=\"dataframe\">\n",
       "  <thead>\n",
       "    <tr style=\"text-align: right;\">\n",
       "      <th></th>\n",
       "      <th>dt</th>\n",
       "      <th>temp</th>\n",
       "      <th>feels_like</th>\n",
       "      <th>pressure</th>\n",
       "      <th>humidity</th>\n",
       "      <th>dew_point</th>\n",
       "      <th>uvi</th>\n",
       "      <th>clouds</th>\n",
       "      <th>visibility</th>\n",
       "      <th>wind_speed</th>\n",
       "      <th>wind_deg</th>\n",
       "      <th>wind_gust</th>\n",
       "      <th>weather</th>\n",
       "      <th>pop</th>\n",
       "      <th>rain</th>\n",
       "    </tr>\n",
       "  </thead>\n",
       "  <tbody>\n",
       "    <tr>\n",
       "      <th>0</th>\n",
       "      <td>1633208400</td>\n",
       "      <td>28.43</td>\n",
       "      <td>34.33</td>\n",
       "      <td>1010</td>\n",
       "      <td>86</td>\n",
       "      <td>25.86</td>\n",
       "      <td>0.00</td>\n",
       "      <td>41</td>\n",
       "      <td>10000</td>\n",
       "      <td>4.05</td>\n",
       "      <td>103</td>\n",
       "      <td>5.65</td>\n",
       "      <td>[{'id': 500, 'main': 'Rain', 'description': 'l...</td>\n",
       "      <td>0.89</td>\n",
       "      <td>{'1h': 0.45}</td>\n",
       "    </tr>\n",
       "    <tr>\n",
       "      <th>1</th>\n",
       "      <td>1633212000</td>\n",
       "      <td>28.18</td>\n",
       "      <td>33.23</td>\n",
       "      <td>1010</td>\n",
       "      <td>84</td>\n",
       "      <td>25.22</td>\n",
       "      <td>0.00</td>\n",
       "      <td>39</td>\n",
       "      <td>10000</td>\n",
       "      <td>4.64</td>\n",
       "      <td>97</td>\n",
       "      <td>6.14</td>\n",
       "      <td>[{'id': 802, 'main': 'Clouds', 'description': ...</td>\n",
       "      <td>0.73</td>\n",
       "      <td>NaN</td>\n",
       "    </tr>\n",
       "    <tr>\n",
       "      <th>2</th>\n",
       "      <td>1633215600</td>\n",
       "      <td>27.93</td>\n",
       "      <td>32.38</td>\n",
       "      <td>1011</td>\n",
       "      <td>83</td>\n",
       "      <td>24.77</td>\n",
       "      <td>0.15</td>\n",
       "      <td>36</td>\n",
       "      <td>10000</td>\n",
       "      <td>5.15</td>\n",
       "      <td>91</td>\n",
       "      <td>6.61</td>\n",
       "      <td>[{'id': 802, 'main': 'Clouds', 'description': ...</td>\n",
       "      <td>0.77</td>\n",
       "      <td>NaN</td>\n",
       "    </tr>\n",
       "    <tr>\n",
       "      <th>3</th>\n",
       "      <td>1633219200</td>\n",
       "      <td>27.97</td>\n",
       "      <td>32.02</td>\n",
       "      <td>1012</td>\n",
       "      <td>80</td>\n",
       "      <td>24.20</td>\n",
       "      <td>0.94</td>\n",
       "      <td>35</td>\n",
       "      <td>10000</td>\n",
       "      <td>5.67</td>\n",
       "      <td>89</td>\n",
       "      <td>7.16</td>\n",
       "      <td>[{'id': 500, 'main': 'Rain', 'description': 'l...</td>\n",
       "      <td>0.97</td>\n",
       "      <td>{'1h': 0.77}</td>\n",
       "    </tr>\n",
       "    <tr>\n",
       "      <th>4</th>\n",
       "      <td>1633222800</td>\n",
       "      <td>28.08</td>\n",
       "      <td>31.99</td>\n",
       "      <td>1013</td>\n",
       "      <td>78</td>\n",
       "      <td>23.88</td>\n",
       "      <td>2.81</td>\n",
       "      <td>45</td>\n",
       "      <td>10000</td>\n",
       "      <td>6.25</td>\n",
       "      <td>91</td>\n",
       "      <td>7.57</td>\n",
       "      <td>[{'id': 500, 'main': 'Rain', 'description': 'l...</td>\n",
       "      <td>0.83</td>\n",
       "      <td>{'1h': 0.73}</td>\n",
       "    </tr>\n",
       "  </tbody>\n",
       "</table>\n",
       "</div>"
      ],
      "text/plain": [
       "           dt   temp  feels_like  pressure  humidity  dew_point   uvi  clouds  \\\n",
       "0  1633208400  28.43       34.33      1010        86      25.86  0.00      41   \n",
       "1  1633212000  28.18       33.23      1010        84      25.22  0.00      39   \n",
       "2  1633215600  27.93       32.38      1011        83      24.77  0.15      36   \n",
       "3  1633219200  27.97       32.02      1012        80      24.20  0.94      35   \n",
       "4  1633222800  28.08       31.99      1013        78      23.88  2.81      45   \n",
       "\n",
       "   visibility  wind_speed  wind_deg  wind_gust  \\\n",
       "0       10000        4.05       103       5.65   \n",
       "1       10000        4.64        97       6.14   \n",
       "2       10000        5.15        91       6.61   \n",
       "3       10000        5.67        89       7.16   \n",
       "4       10000        6.25        91       7.57   \n",
       "\n",
       "                                             weather   pop          rain  \n",
       "0  [{'id': 500, 'main': 'Rain', 'description': 'l...  0.89  {'1h': 0.45}  \n",
       "1  [{'id': 802, 'main': 'Clouds', 'description': ...  0.73           NaN  \n",
       "2  [{'id': 802, 'main': 'Clouds', 'description': ...  0.77           NaN  \n",
       "3  [{'id': 500, 'main': 'Rain', 'description': 'l...  0.97  {'1h': 0.77}  \n",
       "4  [{'id': 500, 'main': 'Rain', 'description': 'l...  0.83  {'1h': 0.73}  "
      ]
     },
     "execution_count": 10,
     "metadata": {},
     "output_type": "execute_result"
    }
   ],
   "source": [
    "df_hourly.head()"
   ]
  },
  {
   "cell_type": "code",
   "execution_count": null,
   "metadata": {},
   "outputs": [],
   "source": []
  }
 ],
 "metadata": {
  "interpreter": {
   "hash": "c1b4cfe941b6d2466ad1fb5979e97da9cda8801728c8091b097ab734208fc00c"
  },
  "kernelspec": {
   "display_name": "Python 3.8.3 64-bit ('base': conda)",
   "name": "python3"
  },
  "language_info": {
   "codemirror_mode": {
    "name": "ipython",
    "version": 3
   },
   "file_extension": ".py",
   "mimetype": "text/x-python",
   "name": "python",
   "nbconvert_exporter": "python",
   "pygments_lexer": "ipython3",
   "version": "3.8.12"
  }
 },
 "nbformat": 4,
 "nbformat_minor": 2
}
