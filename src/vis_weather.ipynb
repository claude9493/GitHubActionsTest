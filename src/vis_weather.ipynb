{
 "cells": [
  {
   "cell_type": "code",
   "execution_count": 1,
   "metadata": {
    "execution": {
     "iopub.execute_input": "2021-10-07T20:12:23.840287Z",
     "iopub.status.busy": "2021-10-07T20:12:23.839652Z",
     "iopub.status.idle": "2021-10-07T20:12:27.655623Z",
     "shell.execute_reply": "2021-10-07T20:12:27.656102Z"
    }
   },
   "outputs": [],
   "source": [
    "import json, yaml, requests\r\n",
    "from datetime import datetime\r\n",
    "from dateutil import tz\r\n",
    "import pandas as pd\r\n",
    "from PIL import Image\r\n",
    "from io import BytesIO\r\n",
    "import matplotlib.pyplot as plt\r\n",
    "import seaborn\r\n",
    "\r\n",
    "CONFIG_PATH = \"../config/config.yaml\""
   ]
  },
  {
   "cell_type": "code",
   "execution_count": 2,
   "metadata": {
    "execution": {
     "iopub.execute_input": "2021-10-07T20:12:27.662817Z",
     "iopub.status.busy": "2021-10-07T20:12:27.661489Z",
     "iopub.status.idle": "2021-10-07T20:12:27.669762Z",
     "shell.execute_reply": "2021-10-07T20:12:27.668971Z"
    }
   },
   "outputs": [],
   "source": [
    "with open('../newest_ts', 'r') as f:\r\n",
    "    newest_ts = f.read()\r\n",
    "\r\n",
    "data_path = f\"../data/data_{newest_ts}.json\"\r\n",
    "with open(data_path, 'r') as f:\r\n",
    "    data = json.load(f)\r\n",
    "\r\n",
    "with open(CONFIG_PATH, \"r\") as stream:\r\n",
    "    config = yaml.safe_load(stream)\r\n",
    "\r\n",
    "TIME_ZONE = config['time_zone']\r\n",
    "DATETIME_FORMAT = config['dt_format']"
   ]
  },
  {
   "cell_type": "code",
   "execution_count": 3,
   "metadata": {
    "execution": {
     "iopub.execute_input": "2021-10-07T20:12:27.674680Z",
     "iopub.status.busy": "2021-10-07T20:12:27.674100Z",
     "iopub.status.idle": "2021-10-07T20:12:27.709724Z",
     "shell.execute_reply": "2021-10-07T20:12:27.710173Z"
    }
   },
   "outputs": [
    {
     "name": "stdout",
     "output_type": "stream",
     "text": [
      "Recent query happens at 2021-10-08 04:12:20 (CST).\n"
     ]
    }
   ],
   "source": [
    "def ts2dt(ts, format=DATETIME_FORMAT):\r\n",
    "    dt = (datetime.utcfromtimestamp(int(ts))\r\n",
    "                    .replace(tzinfo=tz.tzutc())\r\n",
    "                    # .astimezone(tz.tzlocal())\r\n",
    "                    .astimezone(tz.gettz(TIME_ZONE)))\r\n",
    "    return dt.strftime(format), dt\r\n",
    "\r\n",
    "_, newest_dt = ts2dt(newest_ts)\r\n",
    "print(f\"Recent query happens at {newest_dt.strftime(DATETIME_FORMAT)} ({newest_dt.tzname()}).\")"
   ]
  },
  {
   "cell_type": "code",
   "execution_count": 4,
   "metadata": {
    "execution": {
     "iopub.execute_input": "2021-10-07T20:12:27.715360Z",
     "iopub.status.busy": "2021-10-07T20:12:27.714768Z",
     "iopub.status.idle": "2021-10-07T20:12:27.717283Z",
     "shell.execute_reply": "2021-10-07T20:12:27.716759Z"
    }
   },
   "outputs": [],
   "source": [
    "def degrees_to_cardinal(d):\r\n",
    "  dirs = ['N', 'NNE', 'NE', 'ENE', 'E', 'ESE', 'SE', 'SSE', 'S', 'SSW', 'SW', 'WSW', 'W', 'WNW', 'NW', 'NNW']\r\n",
    "  ix = int(round(d / (360. / len(dirs))))\r\n",
    "  return dirs[ix % len(dirs)]"
   ]
  },
  {
   "cell_type": "code",
   "execution_count": 5,
   "metadata": {
    "execution": {
     "iopub.execute_input": "2021-10-07T20:12:27.722366Z",
     "iopub.status.busy": "2021-10-07T20:12:27.721769Z",
     "iopub.status.idle": "2021-10-07T20:12:27.725619Z",
     "shell.execute_reply": "2021-10-07T20:12:27.725141Z"
    }
   },
   "outputs": [],
   "source": [
    "# data.keys()"
   ]
  },
  {
   "cell_type": "code",
   "execution_count": 6,
   "metadata": {
    "execution": {
     "iopub.execute_input": "2021-10-07T20:12:27.730893Z",
     "iopub.status.busy": "2021-10-07T20:12:27.729464Z",
     "iopub.status.idle": "2021-10-07T20:12:27.731512Z",
     "shell.execute_reply": "2021-10-07T20:12:27.732016Z"
    }
   },
   "outputs": [],
   "source": [
    "# data['current']"
   ]
  },
  {
   "cell_type": "code",
   "execution_count": 7,
   "metadata": {
    "execution": {
     "iopub.execute_input": "2021-10-07T20:12:27.753093Z",
     "iopub.status.busy": "2021-10-07T20:12:27.752452Z",
     "iopub.status.idle": "2021-10-07T20:12:28.173405Z",
     "shell.execute_reply": "2021-10-07T20:12:28.172813Z"
    }
   },
   "outputs": [
    {
     "data": {
      "image/png": "[encoded data removed]",
      "text/plain": [
       "<Figure size 216x216 with 1 Axes>"
      ]
     },
     "metadata": {
      "needs_background": "light"
     },
     "output_type": "display_data"
    },
    {
     "name": "stdout",
     "output_type": "stream",
     "text": [
      "Today, sun rises at 06:16 and sets at 18:04.\n",
      "Currently, the weather is Rain (light rain).\n",
      "The temperature is 25.16°C and it feels like 26.19°C.\n",
      "The UV index is 0, humidity is 94%.\n",
      "The pressure is 1003 hPa, percentage of cloud cover is 100%\n",
      "The wind comes from N direction with a speed 0.89 m/s.\n"
     ]
    }
   ],
   "source": [
    "current = data['current']\r\n",
    "\r\n",
    "fig, ax = plt.subplots(figsize=(3, 3))\r\n",
    "icon = requests.get(f\"http://openweathermap.org/img/wn/{current['weather'][0]['icon']}@2x.png\")\r\n",
    "im = Image.open(BytesIO(icon.content))\r\n",
    "plt.imshow(im)\r\n",
    "ax.set_axis_off()\r\n",
    "plt.show()\r\n",
    "\r\n",
    "print(f\"Today, sun rises at {ts2dt(current['sunrise'], '%H:%M')[0]} \\\r\n",
    "and sets at {ts2dt(current['sunset'], '%H:%M')[0]}.\\n\\\r\n",
    "Currently, the weather is {current['weather'][0]['main']} ({current['weather'][0]['description']}).\\n\\\r\n",
    "The temperature is {current['temp']}°C and it feels like {current['feels_like']}°C.\\n\\\r\n",
    "The UV index is {current['uvi']}, humidity is {current['humidity']}%.\\n\\\r\n",
    "The pressure is {current['pressure']} hPa, percentage of cloud cover is {current['clouds']}%\\n\\\r\n",
    "The wind comes from {degrees_to_cardinal(current['wind_deg'])} direction with a speed {current['wind_speed']} m/s.\")"
   ]
  },
  {
   "cell_type": "code",
   "execution_count": 8,
   "metadata": {
    "execution": {
     "iopub.execute_input": "2021-10-07T20:12:28.181772Z",
     "iopub.status.busy": "2021-10-07T20:12:28.181165Z",
     "iopub.status.idle": "2021-10-07T20:12:28.184285Z",
     "shell.execute_reply": "2021-10-07T20:12:28.185080Z"
    }
   },
   "outputs": [],
   "source": [
    "df_hourly = pd.DataFrame(data['hourly'])\r\n",
    "df_daily = pd.DataFrame(data['daily'])"
   ]
  },
  {
   "cell_type": "code",
   "execution_count": 9,
   "metadata": {
    "execution": {
     "iopub.execute_input": "2021-10-07T20:12:28.188593Z",
     "iopub.status.busy": "2021-10-07T20:12:28.187506Z",
     "iopub.status.idle": "2021-10-07T20:12:28.511904Z",
     "shell.execute_reply": "2021-10-07T20:12:28.510905Z"
    }
   },
   "outputs": [
    {
     "data": {
      "image/png": "[encoded data removed]",
      "text/plain": [
       "<Figure size 864x432 with 1 Axes>"
      ]
     },
     "metadata": {
      "needs_background": "light"
     },
     "output_type": "display_data"
    }
   ],
   "source": [
    "fig, ax = plt.subplots(figsize=(12, 6))\r\n",
    "plt.plot(df_hourly.temp, '.-', label='Temperature')\r\n",
    "plt.plot(df_hourly.feels_like, '.-', label='Feels Like')\r\n",
    "ax.set(title='Temperature in future 48 hours', xlabel='Time', ylabel='Temperature')\r\n",
    "ax.set_xticks(list(range(0, len(df_hourly), 2)))\r\n",
    "ax.set_xticklabels([ts2dt(ts, '%m-%d %H:%M')[0] for i, ts in enumerate(df_hourly.dt) if i%2==0], \r\n",
    "                   rotation=45, ha=\"right\")\r\n",
    "ax.locator_params(nbins=15, axis='y')\r\n",
    "plt.legend()\r\n",
    "plt.show()"
   ]
  },
  {
   "cell_type": "code",
   "execution_count": 10,
   "metadata": {
    "execution": {
     "iopub.execute_input": "2021-10-07T20:12:28.527910Z",
     "iopub.status.busy": "2021-10-07T20:12:28.517870Z",
     "iopub.status.idle": "2021-10-07T20:12:28.543308Z",
     "shell.execute_reply": "2021-10-07T20:12:28.544275Z"
    }
   },
   "outputs": [
    {
     "data": {
      "text/html": [
       "<div>\n",
       "<style scoped>\n",
       "    .dataframe tbody tr th:only-of-type {\n",
       "        vertical-align: middle;\n",
       "    }\n",
       "\n",
       "    .dataframe tbody tr th {\n",
       "        vertical-align: top;\n",
       "    }\n",
       "\n",
       "    .dataframe thead th {\n",
       "        text-align: right;\n",
       "    }\n",
       "</style>\n",
       "<table border=\"1\" class=\"dataframe\">\n",
       "  <thead>\n",
       "    <tr style=\"text-align: right;\">\n",
       "      <th></th>\n",
       "      <th>dt</th>\n",
       "      <th>temp</th>\n",
       "      <th>feels_like</th>\n",
       "      <th>pressure</th>\n",
       "      <th>humidity</th>\n",
       "      <th>dew_point</th>\n",
       "      <th>uvi</th>\n",
       "      <th>clouds</th>\n",
       "      <th>visibility</th>\n",
       "      <th>wind_speed</th>\n",
       "      <th>wind_deg</th>\n",
       "      <th>wind_gust</th>\n",
       "      <th>weather</th>\n",
       "      <th>pop</th>\n",
       "      <th>rain</th>\n",
       "    </tr>\n",
       "  </thead>\n",
       "  <tbody>\n",
       "    <tr>\n",
       "      <th>0</th>\n",
       "      <td>1633636800</td>\n",
       "      <td>25.16</td>\n",
       "      <td>26.19</td>\n",
       "      <td>1003</td>\n",
       "      <td>94</td>\n",
       "      <td>24.12</td>\n",
       "      <td>0.00</td>\n",
       "      <td>100</td>\n",
       "      <td>4168</td>\n",
       "      <td>10.81</td>\n",
       "      <td>98</td>\n",
       "      <td>14.81</td>\n",
       "      <td>[{'id': 502, 'main': 'Rain', 'description': 'h...</td>\n",
       "      <td>0.92</td>\n",
       "      <td>{'1h': 5.72}</td>\n",
       "    </tr>\n",
       "    <tr>\n",
       "      <th>1</th>\n",
       "      <td>1633640400</td>\n",
       "      <td>25.17</td>\n",
       "      <td>26.22</td>\n",
       "      <td>1003</td>\n",
       "      <td>95</td>\n",
       "      <td>24.31</td>\n",
       "      <td>0.00</td>\n",
       "      <td>100</td>\n",
       "      <td>3088</td>\n",
       "      <td>10.81</td>\n",
       "      <td>79</td>\n",
       "      <td>14.61</td>\n",
       "      <td>[{'id': 501, 'main': 'Rain', 'description': 'm...</td>\n",
       "      <td>1.00</td>\n",
       "      <td>{'1h': 3.65}</td>\n",
       "    </tr>\n",
       "    <tr>\n",
       "      <th>2</th>\n",
       "      <td>1633644000</td>\n",
       "      <td>25.13</td>\n",
       "      <td>26.21</td>\n",
       "      <td>1003</td>\n",
       "      <td>96</td>\n",
       "      <td>24.45</td>\n",
       "      <td>0.00</td>\n",
       "      <td>100</td>\n",
       "      <td>467</td>\n",
       "      <td>8.06</td>\n",
       "      <td>84</td>\n",
       "      <td>12.76</td>\n",
       "      <td>[{'id': 502, 'main': 'Rain', 'description': 'h...</td>\n",
       "      <td>1.00</td>\n",
       "      <td>{'1h': 6.48}</td>\n",
       "    </tr>\n",
       "    <tr>\n",
       "      <th>3</th>\n",
       "      <td>1633647600</td>\n",
       "      <td>25.36</td>\n",
       "      <td>26.46</td>\n",
       "      <td>1003</td>\n",
       "      <td>96</td>\n",
       "      <td>24.68</td>\n",
       "      <td>0.00</td>\n",
       "      <td>100</td>\n",
       "      <td>671</td>\n",
       "      <td>10.98</td>\n",
       "      <td>76</td>\n",
       "      <td>16.15</td>\n",
       "      <td>[{'id': 503, 'main': 'Rain', 'description': 'v...</td>\n",
       "      <td>1.00</td>\n",
       "      <td>{'1h': 22.04}</td>\n",
       "    </tr>\n",
       "    <tr>\n",
       "      <th>4</th>\n",
       "      <td>1633651200</td>\n",
       "      <td>25.38</td>\n",
       "      <td>26.48</td>\n",
       "      <td>1004</td>\n",
       "      <td>96</td>\n",
       "      <td>24.70</td>\n",
       "      <td>0.05</td>\n",
       "      <td>100</td>\n",
       "      <td>2311</td>\n",
       "      <td>9.94</td>\n",
       "      <td>111</td>\n",
       "      <td>15.70</td>\n",
       "      <td>[{'id': 503, 'main': 'Rain', 'description': 'v...</td>\n",
       "      <td>1.00</td>\n",
       "      <td>{'1h': 25.54}</td>\n",
       "    </tr>\n",
       "  </tbody>\n",
       "</table>\n",
       "</div>"
      ],
      "text/plain": [
       "           dt   temp  feels_like  pressure  humidity  dew_point   uvi  clouds  \\\n",
       "0  1633636800  25.16       26.19      1003        94      24.12  0.00     100   \n",
       "1  1633640400  25.17       26.22      1003        95      24.31  0.00     100   \n",
       "2  1633644000  25.13       26.21      1003        96      24.45  0.00     100   \n",
       "3  1633647600  25.36       26.46      1003        96      24.68  0.00     100   \n",
       "4  1633651200  25.38       26.48      1004        96      24.70  0.05     100   \n",
       "\n",
       "   visibility  wind_speed  wind_deg  wind_gust  \\\n",
       "0        4168       10.81        98      14.81   \n",
       "1        3088       10.81        79      14.61   \n",
       "2         467        8.06        84      12.76   \n",
       "3         671       10.98        76      16.15   \n",
       "4        2311        9.94       111      15.70   \n",
       "\n",
       "                                             weather   pop           rain  \n",
       "0  [{'id': 502, 'main': 'Rain', 'description': 'h...  0.92   {'1h': 5.72}  \n",
       "1  [{'id': 501, 'main': 'Rain', 'description': 'm...  1.00   {'1h': 3.65}  \n",
       "2  [{'id': 502, 'main': 'Rain', 'description': 'h...  1.00   {'1h': 6.48}  \n",
       "3  [{'id': 503, 'main': 'Rain', 'description': 'v...  1.00  {'1h': 22.04}  \n",
       "4  [{'id': 503, 'main': 'Rain', 'description': 'v...  1.00  {'1h': 25.54}  "
      ]
     },
     "execution_count": 10,
     "metadata": {},
     "output_type": "execute_result"
    }
   ],
   "source": [
    "df_hourly.head()"
   ]
  },
  {
   "cell_type": "code",
   "execution_count": null,
   "metadata": {},
   "outputs": [],
   "source": []
  }
 ],
 "metadata": {
  "interpreter": {
   "hash": "c1b4cfe941b6d2466ad1fb5979e97da9cda8801728c8091b097ab734208fc00c"
  },
  "kernelspec": {
   "display_name": "Python 3.8.3 64-bit ('base': conda)",
   "name": "python3"
  },
  "language_info": {
   "codemirror_mode": {
    "name": "ipython",
    "version": 3
   },
   "file_extension": ".py",
   "mimetype": "text/x-python",
   "name": "python",
   "nbconvert_exporter": "python",
   "pygments_lexer": "ipython3",
   "version": "3.8.12"
  }
 },
 "nbformat": 4,
 "nbformat_minor": 2
}
