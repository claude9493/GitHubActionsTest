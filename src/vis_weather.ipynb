{
 "cells": [
  {
   "cell_type": "code",
   "execution_count": 1,
   "metadata": {
    "execution": {
     "iopub.execute_input": "2021-09-04T14:36:28.151071Z",
     "iopub.status.busy": "2021-09-04T14:36:28.150434Z",
     "iopub.status.idle": "2021-09-04T14:36:30.418238Z",
     "shell.execute_reply": "2021-09-04T14:36:30.417332Z"
    }
   },
   "outputs": [],
   "source": [
    "import json, yaml, requests\r\n",
    "from datetime import datetime\r\n",
    "from dateutil import tz\r\n",
    "import pandas as pd\r\n",
    "from PIL import Image\r\n",
    "from io import BytesIO\r\n",
    "import matplotlib.pyplot as plt\r\n",
    "import seaborn\r\n",
    "\r\n",
    "CONFIG_PATH = \"../config/config.yaml\""
   ]
  },
  {
   "cell_type": "code",
   "execution_count": 2,
   "metadata": {
    "execution": {
     "iopub.execute_input": "2021-09-04T14:36:30.423829Z",
     "iopub.status.busy": "2021-09-04T14:36:30.422806Z",
     "iopub.status.idle": "2021-09-04T14:36:30.428166Z",
     "shell.execute_reply": "2021-09-04T14:36:30.428581Z"
    }
   },
   "outputs": [],
   "source": [
    "with open('../newest_ts', 'r') as f:\r\n",
    "    newest_ts = f.read()\r\n",
    "\r\n",
    "data_path = f\"../data/data_{newest_ts}.json\"\r\n",
    "with open(data_path, 'r') as f:\r\n",
    "    data = json.load(f)\r\n",
    "\r\n",
    "with open(CONFIG_PATH, \"r\") as stream:\r\n",
    "    config = yaml.safe_load(stream)\r\n",
    "\r\n",
    "TIME_ZONE = config['time_zone']\r\n",
    "DATETIME_FORMAT = config['dt_format']"
   ]
  },
  {
   "cell_type": "code",
   "execution_count": 3,
   "metadata": {
    "execution": {
     "iopub.execute_input": "2021-09-04T14:36:30.433491Z",
     "iopub.status.busy": "2021-09-04T14:36:30.432897Z",
     "iopub.status.idle": "2021-09-04T14:36:30.443899Z",
     "shell.execute_reply": "2021-09-04T14:36:30.444306Z"
    }
   },
   "outputs": [
    {
     "name": "stdout",
     "output_type": "stream",
     "text": [
      "Recent query happens at 2021-09-04 22:36:24 (CST).\n"
     ]
    }
   ],
   "source": [
    "def ts2dt(ts, format=DATETIME_FORMAT):\r\n",
    "    dt = (datetime.utcfromtimestamp(int(ts))\r\n",
    "                    .replace(tzinfo=tz.tzutc())\r\n",
    "                    # .astimezone(tz.tzlocal())\r\n",
    "                    .astimezone(tz.gettz(TIME_ZONE)))\r\n",
    "    return dt.strftime(format), dt\r\n",
    "\r\n",
    "_, newest_dt = ts2dt(newest_ts)\r\n",
    "print(f\"Recent query happens at {newest_dt.strftime(DATETIME_FORMAT)} ({newest_dt.tzname()}).\")"
   ]
  },
  {
   "cell_type": "code",
   "execution_count": 4,
   "metadata": {
    "execution": {
     "iopub.execute_input": "2021-09-04T14:36:30.448944Z",
     "iopub.status.busy": "2021-09-04T14:36:30.448408Z",
     "iopub.status.idle": "2021-09-04T14:36:30.450697Z",
     "shell.execute_reply": "2021-09-04T14:36:30.450124Z"
    }
   },
   "outputs": [],
   "source": [
    "def degrees_to_cardinal(d):\r\n",
    "  dirs = ['N', 'NNE', 'NE', 'ENE', 'E', 'ESE', 'SE', 'SSE', 'S', 'SSW', 'SW', 'WSW', 'W', 'WNW', 'NW', 'NNW']\r\n",
    "  ix = int(round(d / (360. / len(dirs))))\r\n",
    "  return dirs[ix % len(dirs)]"
   ]
  },
  {
   "cell_type": "code",
   "execution_count": 5,
   "metadata": {
    "execution": {
     "iopub.execute_input": "2021-09-04T14:36:30.455345Z",
     "iopub.status.busy": "2021-09-04T14:36:30.453775Z",
     "iopub.status.idle": "2021-09-04T14:36:30.455952Z",
     "shell.execute_reply": "2021-09-04T14:36:30.456384Z"
    }
   },
   "outputs": [],
   "source": [
    "# data.keys()"
   ]
  },
  {
   "cell_type": "code",
   "execution_count": 6,
   "metadata": {
    "execution": {
     "iopub.execute_input": "2021-09-04T14:36:30.460494Z",
     "iopub.status.busy": "2021-09-04T14:36:30.459289Z",
     "iopub.status.idle": "2021-09-04T14:36:30.461158Z",
     "shell.execute_reply": "2021-09-04T14:36:30.461632Z"
    }
   },
   "outputs": [],
   "source": [
    "# data['current']"
   ]
  },
  {
   "cell_type": "code",
   "execution_count": 7,
   "metadata": {
    "execution": {
     "iopub.execute_input": "2021-09-04T14:36:30.480472Z",
     "iopub.status.busy": "2021-09-04T14:36:30.479875Z",
     "iopub.status.idle": "2021-09-04T14:36:30.900451Z",
     "shell.execute_reply": "2021-09-04T14:36:30.901235Z"
    }
   },
   "outputs": [
    {
     "data": {
      "image/png": "[encoded data removed]",
      "text/plain": [
       "<Figure size 216x216 with 1 Axes>"
      ]
     },
     "metadata": {
      "needs_background": "light"
     },
     "output_type": "display_data"
    },
    {
     "name": "stdout",
     "output_type": "stream",
     "text": [
      "Today, sun rises at 06:06 and sets at 18:37.\n",
      "Currently, the weather is Clear (clear sky).\n",
      "The temperature is 29.68°C and it feels like 36.68°C.\n",
      "The UV index is 0, humidity is 81%.\n",
      "The pressure is 1010 hPa, percentage of cloud cover is 4%\n",
      "The wind comes from ESE direction with a speed 2.75 m/s.\n"
     ]
    }
   ],
   "source": [
    "current = data['current']\r\n",
    "\r\n",
    "fig, ax = plt.subplots(figsize=(3, 3))\r\n",
    "icon = requests.get(f\"http://openweathermap.org/img/wn/{current['weather'][0]['icon']}@2x.png\")\r\n",
    "im = Image.open(BytesIO(icon.content))\r\n",
    "plt.imshow(im)\r\n",
    "ax.set_axis_off()\r\n",
    "plt.show()\r\n",
    "\r\n",
    "print(f\"Today, sun rises at {ts2dt(current['sunrise'], '%H:%M')[0]} \\\r\n",
    "and sets at {ts2dt(current['sunset'], '%H:%M')[0]}.\\n\\\r\n",
    "Currently, the weather is {current['weather'][0]['main']} ({current['weather'][0]['description']}).\\n\\\r\n",
    "The temperature is {current['temp']}°C and it feels like {current['feels_like']}°C.\\n\\\r\n",
    "The UV index is {current['uvi']}, humidity is {current['humidity']}%.\\n\\\r\n",
    "The pressure is {current['pressure']} hPa, percentage of cloud cover is {current['clouds']}%\\n\\\r\n",
    "The wind comes from {degrees_to_cardinal(current['wind_deg'])} direction with a speed {current['wind_speed']} m/s.\")"
   ]
  },
  {
   "cell_type": "code",
   "execution_count": 8,
   "metadata": {
    "execution": {
     "iopub.execute_input": "2021-09-04T14:36:30.904896Z",
     "iopub.status.busy": "2021-09-04T14:36:30.903829Z",
     "iopub.status.idle": "2021-09-04T14:36:30.911563Z",
     "shell.execute_reply": "2021-09-04T14:36:30.912221Z"
    }
   },
   "outputs": [],
   "source": [
    "df_hourly = pd.DataFrame(data['hourly'])\r\n",
    "df_daily = pd.DataFrame(data['daily'])"
   ]
  },
  {
   "cell_type": "code",
   "execution_count": 9,
   "metadata": {
    "execution": {
     "iopub.execute_input": "2021-09-04T14:36:30.915209Z",
     "iopub.status.busy": "2021-09-04T14:36:30.914262Z",
     "iopub.status.idle": "2021-09-04T14:36:31.213807Z",
     "shell.execute_reply": "2021-09-04T14:36:31.214217Z"
    }
   },
   "outputs": [
    {
     "data": {
      "image/png": "[encoded data removed]",
      "text/plain": [
       "<Figure size 864x432 with 1 Axes>"
      ]
     },
     "metadata": {
      "needs_background": "light"
     },
     "output_type": "display_data"
    }
   ],
   "source": [
    "fig, ax = plt.subplots(figsize=(12, 6))\r\n",
    "plt.plot(df_hourly.temp, '.-', label='Temperature')\r\n",
    "plt.plot(df_hourly.feels_like, '.-', label='Feels Like')\r\n",
    "ax.set(title='Temperature in future 48 hours', xlabel='Time', ylabel='Temperature')\r\n",
    "ax.set_xticks(list(range(0, len(df_hourly), 2)))\r\n",
    "ax.set_xticklabels([ts2dt(ts, '%m-%d %H:%M')[0] for i, ts in enumerate(df_hourly.dt) if i%2==0], \r\n",
    "                   rotation=45, ha=\"right\")\r\n",
    "ax.locator_params(nbins=15, axis='y')\r\n",
    "plt.legend()\r\n",
    "plt.show()"
   ]
  },
  {
   "cell_type": "code",
   "execution_count": 10,
   "metadata": {
    "execution": {
     "iopub.execute_input": "2021-09-04T14:36:31.225660Z",
     "iopub.status.busy": "2021-09-04T14:36:31.217848Z",
     "iopub.status.idle": "2021-09-04T14:36:31.236567Z",
     "shell.execute_reply": "2021-09-04T14:36:31.236140Z"
    }
   },
   "outputs": [
    {
     "data": {
      "text/html": [
       "<div>\n",
       "<style scoped>\n",
       "    .dataframe tbody tr th:only-of-type {\n",
       "        vertical-align: middle;\n",
       "    }\n",
       "\n",
       "    .dataframe tbody tr th {\n",
       "        vertical-align: top;\n",
       "    }\n",
       "\n",
       "    .dataframe thead th {\n",
       "        text-align: right;\n",
       "    }\n",
       "</style>\n",
       "<table border=\"1\" class=\"dataframe\">\n",
       "  <thead>\n",
       "    <tr style=\"text-align: right;\">\n",
       "      <th></th>\n",
       "      <th>dt</th>\n",
       "      <th>temp</th>\n",
       "      <th>feels_like</th>\n",
       "      <th>pressure</th>\n",
       "      <th>humidity</th>\n",
       "      <th>dew_point</th>\n",
       "      <th>uvi</th>\n",
       "      <th>clouds</th>\n",
       "      <th>visibility</th>\n",
       "      <th>wind_speed</th>\n",
       "      <th>wind_deg</th>\n",
       "      <th>wind_gust</th>\n",
       "      <th>weather</th>\n",
       "      <th>pop</th>\n",
       "      <th>rain</th>\n",
       "    </tr>\n",
       "  </thead>\n",
       "  <tbody>\n",
       "    <tr>\n",
       "      <th>0</th>\n",
       "      <td>1630764000</td>\n",
       "      <td>29.39</td>\n",
       "      <td>35.85</td>\n",
       "      <td>1010</td>\n",
       "      <td>80</td>\n",
       "      <td>25.58</td>\n",
       "      <td>0.0</td>\n",
       "      <td>4</td>\n",
       "      <td>10000</td>\n",
       "      <td>2.69</td>\n",
       "      <td>117</td>\n",
       "      <td>3.78</td>\n",
       "      <td>[{'id': 800, 'main': 'Clear', 'description': '...</td>\n",
       "      <td>0.0</td>\n",
       "      <td>NaN</td>\n",
       "    </tr>\n",
       "    <tr>\n",
       "      <th>1</th>\n",
       "      <td>1630767600</td>\n",
       "      <td>29.68</td>\n",
       "      <td>36.68</td>\n",
       "      <td>1010</td>\n",
       "      <td>81</td>\n",
       "      <td>26.07</td>\n",
       "      <td>0.0</td>\n",
       "      <td>4</td>\n",
       "      <td>10000</td>\n",
       "      <td>2.75</td>\n",
       "      <td>116</td>\n",
       "      <td>4.07</td>\n",
       "      <td>[{'id': 800, 'main': 'Clear', 'description': '...</td>\n",
       "      <td>0.0</td>\n",
       "      <td>NaN</td>\n",
       "    </tr>\n",
       "    <tr>\n",
       "      <th>2</th>\n",
       "      <td>1630771200</td>\n",
       "      <td>29.36</td>\n",
       "      <td>36.25</td>\n",
       "      <td>1010</td>\n",
       "      <td>82</td>\n",
       "      <td>25.96</td>\n",
       "      <td>0.0</td>\n",
       "      <td>4</td>\n",
       "      <td>10000</td>\n",
       "      <td>2.69</td>\n",
       "      <td>108</td>\n",
       "      <td>4.14</td>\n",
       "      <td>[{'id': 800, 'main': 'Clear', 'description': '...</td>\n",
       "      <td>0.0</td>\n",
       "      <td>NaN</td>\n",
       "    </tr>\n",
       "    <tr>\n",
       "      <th>3</th>\n",
       "      <td>1630774800</td>\n",
       "      <td>28.98</td>\n",
       "      <td>34.90</td>\n",
       "      <td>1010</td>\n",
       "      <td>81</td>\n",
       "      <td>25.39</td>\n",
       "      <td>0.0</td>\n",
       "      <td>5</td>\n",
       "      <td>10000</td>\n",
       "      <td>2.50</td>\n",
       "      <td>113</td>\n",
       "      <td>3.87</td>\n",
       "      <td>[{'id': 800, 'main': 'Clear', 'description': '...</td>\n",
       "      <td>0.0</td>\n",
       "      <td>NaN</td>\n",
       "    </tr>\n",
       "    <tr>\n",
       "      <th>4</th>\n",
       "      <td>1630778400</td>\n",
       "      <td>28.56</td>\n",
       "      <td>33.73</td>\n",
       "      <td>1009</td>\n",
       "      <td>81</td>\n",
       "      <td>24.98</td>\n",
       "      <td>0.0</td>\n",
       "      <td>6</td>\n",
       "      <td>10000</td>\n",
       "      <td>2.72</td>\n",
       "      <td>115</td>\n",
       "      <td>3.83</td>\n",
       "      <td>[{'id': 800, 'main': 'Clear', 'description': '...</td>\n",
       "      <td>0.0</td>\n",
       "      <td>NaN</td>\n",
       "    </tr>\n",
       "  </tbody>\n",
       "</table>\n",
       "</div>"
      ],
      "text/plain": [
       "           dt   temp  feels_like  pressure  humidity  dew_point  uvi  clouds  \\\n",
       "0  1630764000  29.39       35.85      1010        80      25.58  0.0       4   \n",
       "1  1630767600  29.68       36.68      1010        81      26.07  0.0       4   \n",
       "2  1630771200  29.36       36.25      1010        82      25.96  0.0       4   \n",
       "3  1630774800  28.98       34.90      1010        81      25.39  0.0       5   \n",
       "4  1630778400  28.56       33.73      1009        81      24.98  0.0       6   \n",
       "\n",
       "   visibility  wind_speed  wind_deg  wind_gust  \\\n",
       "0       10000        2.69       117       3.78   \n",
       "1       10000        2.75       116       4.07   \n",
       "2       10000        2.69       108       4.14   \n",
       "3       10000        2.50       113       3.87   \n",
       "4       10000        2.72       115       3.83   \n",
       "\n",
       "                                             weather  pop rain  \n",
       "0  [{'id': 800, 'main': 'Clear', 'description': '...  0.0  NaN  \n",
       "1  [{'id': 800, 'main': 'Clear', 'description': '...  0.0  NaN  \n",
       "2  [{'id': 800, 'main': 'Clear', 'description': '...  0.0  NaN  \n",
       "3  [{'id': 800, 'main': 'Clear', 'description': '...  0.0  NaN  \n",
       "4  [{'id': 800, 'main': 'Clear', 'description': '...  0.0  NaN  "
      ]
     },
     "execution_count": 10,
     "metadata": {},
     "output_type": "execute_result"
    }
   ],
   "source": [
    "df_hourly.head()"
   ]
  },
  {
   "cell_type": "code",
   "execution_count": null,
   "metadata": {},
   "outputs": [],
   "source": []
  }
 ],
 "metadata": {
  "interpreter": {
   "hash": "c1b4cfe941b6d2466ad1fb5979e97da9cda8801728c8091b097ab734208fc00c"
  },
  "kernelspec": {
   "display_name": "Python 3.8.3 64-bit ('base': conda)",
   "name": "python3"
  },
  "language_info": {
   "codemirror_mode": {
    "name": "ipython",
    "version": 3
   },
   "file_extension": ".py",
   "mimetype": "text/x-python",
   "name": "python",
   "nbconvert_exporter": "python",
   "pygments_lexer": "ipython3",
   "version": "3.8.11"
  }
 },
 "nbformat": 4,
 "nbformat_minor": 2
}
