{
 "cells": [
  {
   "cell_type": "code",
   "execution_count": 1,
   "metadata": {
    "execution": {
     "iopub.execute_input": "2021-10-06T09:12:08.185834Z",
     "iopub.status.busy": "2021-10-06T09:12:08.185141Z",
     "iopub.status.idle": "2021-10-06T09:12:09.510915Z",
     "shell.execute_reply": "2021-10-06T09:12:09.510281Z"
    }
   },
   "outputs": [],
   "source": [
    "import json, yaml, requests\r\n",
    "from datetime import datetime\r\n",
    "from dateutil import tz\r\n",
    "import pandas as pd\r\n",
    "from PIL import Image\r\n",
    "from io import BytesIO\r\n",
    "import matplotlib.pyplot as plt\r\n",
    "import seaborn\r\n",
    "\r\n",
    "CONFIG_PATH = \"../config/config.yaml\""
   ]
  },
  {
   "cell_type": "code",
   "execution_count": 2,
   "metadata": {
    "execution": {
     "iopub.execute_input": "2021-10-06T09:12:09.519114Z",
     "iopub.status.busy": "2021-10-06T09:12:09.515856Z",
     "iopub.status.idle": "2021-10-06T09:12:09.522497Z",
     "shell.execute_reply": "2021-10-06T09:12:09.521886Z"
    }
   },
   "outputs": [],
   "source": [
    "with open('../newest_ts', 'r') as f:\r\n",
    "    newest_ts = f.read()\r\n",
    "\r\n",
    "data_path = f\"../data/data_{newest_ts}.json\"\r\n",
    "with open(data_path, 'r') as f:\r\n",
    "    data = json.load(f)\r\n",
    "\r\n",
    "with open(CONFIG_PATH, \"r\") as stream:\r\n",
    "    config = yaml.safe_load(stream)\r\n",
    "\r\n",
    "TIME_ZONE = config['time_zone']\r\n",
    "DATETIME_FORMAT = config['dt_format']"
   ]
  },
  {
   "cell_type": "code",
   "execution_count": 3,
   "metadata": {
    "execution": {
     "iopub.execute_input": "2021-10-06T09:12:09.529109Z",
     "iopub.status.busy": "2021-10-06T09:12:09.526861Z",
     "iopub.status.idle": "2021-10-06T09:12:09.536018Z",
     "shell.execute_reply": "2021-10-06T09:12:09.534369Z"
    }
   },
   "outputs": [
    {
     "name": "stdout",
     "output_type": "stream",
     "text": [
      "Recent query happens at 2021-10-06 17:12:05 (CST).\n"
     ]
    }
   ],
   "source": [
    "def ts2dt(ts, format=DATETIME_FORMAT):\r\n",
    "    dt = (datetime.utcfromtimestamp(int(ts))\r\n",
    "                    .replace(tzinfo=tz.tzutc())\r\n",
    "                    # .astimezone(tz.tzlocal())\r\n",
    "                    .astimezone(tz.gettz(TIME_ZONE)))\r\n",
    "    return dt.strftime(format), dt\r\n",
    "\r\n",
    "_, newest_dt = ts2dt(newest_ts)\r\n",
    "print(f\"Recent query happens at {newest_dt.strftime(DATETIME_FORMAT)} ({newest_dt.tzname()}).\")"
   ]
  },
  {
   "cell_type": "code",
   "execution_count": 4,
   "metadata": {
    "execution": {
     "iopub.execute_input": "2021-10-06T09:12:09.541975Z",
     "iopub.status.busy": "2021-10-06T09:12:09.541336Z",
     "iopub.status.idle": "2021-10-06T09:12:09.542978Z",
     "shell.execute_reply": "2021-10-06T09:12:09.543468Z"
    }
   },
   "outputs": [],
   "source": [
    "def degrees_to_cardinal(d):\r\n",
    "  dirs = ['N', 'NNE', 'NE', 'ENE', 'E', 'ESE', 'SE', 'SSE', 'S', 'SSW', 'SW', 'WSW', 'W', 'WNW', 'NW', 'NNW']\r\n",
    "  ix = int(round(d / (360. / len(dirs))))\r\n",
    "  return dirs[ix % len(dirs)]"
   ]
  },
  {
   "cell_type": "code",
   "execution_count": 5,
   "metadata": {
    "execution": {
     "iopub.execute_input": "2021-10-06T09:12:09.549047Z",
     "iopub.status.busy": "2021-10-06T09:12:09.547261Z",
     "iopub.status.idle": "2021-10-06T09:12:09.549797Z",
     "shell.execute_reply": "2021-10-06T09:12:09.550297Z"
    }
   },
   "outputs": [],
   "source": [
    "# data.keys()"
   ]
  },
  {
   "cell_type": "code",
   "execution_count": 6,
   "metadata": {
    "execution": {
     "iopub.execute_input": "2021-10-06T09:12:09.557157Z",
     "iopub.status.busy": "2021-10-06T09:12:09.554041Z",
     "iopub.status.idle": "2021-10-06T09:12:09.557979Z",
     "shell.execute_reply": "2021-10-06T09:12:09.558541Z"
    }
   },
   "outputs": [],
   "source": [
    "# data['current']"
   ]
  },
  {
   "cell_type": "code",
   "execution_count": 7,
   "metadata": {
    "execution": {
     "iopub.execute_input": "2021-10-06T09:12:09.562846Z",
     "iopub.status.busy": "2021-10-06T09:12:09.562162Z",
     "iopub.status.idle": "2021-10-06T09:12:09.992840Z",
     "shell.execute_reply": "2021-10-06T09:12:09.993566Z"
    }
   },
   "outputs": [
    {
     "data": {
      "image/png": "[encoded data removed]",
      "text/plain": [
       "<Figure size 216x216 with 1 Axes>"
      ]
     },
     "metadata": {
      "needs_background": "light"
     },
     "output_type": "display_data"
    },
    {
     "name": "stdout",
     "output_type": "stream",
     "text": [
      "Today, sun rises at 06:15 and sets at 18:06.\n",
      "Currently, the weather is Clouds (scattered clouds).\n",
      "The temperature is 30.11°C and it feels like 35.56°C.\n",
      "The UV index is 0.57, humidity is 71%.\n",
      "The pressure is 1005 hPa, percentage of cloud cover is 42%\n",
      "The wind comes from NW direction with a speed 0.45 m/s.\n"
     ]
    }
   ],
   "source": [
    "current = data['current']\r\n",
    "\r\n",
    "fig, ax = plt.subplots(figsize=(3, 3))\r\n",
    "icon = requests.get(f\"http://openweathermap.org/img/wn/{current['weather'][0]['icon']}@2x.png\")\r\n",
    "im = Image.open(BytesIO(icon.content))\r\n",
    "plt.imshow(im)\r\n",
    "ax.set_axis_off()\r\n",
    "plt.show()\r\n",
    "\r\n",
    "print(f\"Today, sun rises at {ts2dt(current['sunrise'], '%H:%M')[0]} \\\r\n",
    "and sets at {ts2dt(current['sunset'], '%H:%M')[0]}.\\n\\\r\n",
    "Currently, the weather is {current['weather'][0]['main']} ({current['weather'][0]['description']}).\\n\\\r\n",
    "The temperature is {current['temp']}°C and it feels like {current['feels_like']}°C.\\n\\\r\n",
    "The UV index is {current['uvi']}, humidity is {current['humidity']}%.\\n\\\r\n",
    "The pressure is {current['pressure']} hPa, percentage of cloud cover is {current['clouds']}%\\n\\\r\n",
    "The wind comes from {degrees_to_cardinal(current['wind_deg'])} direction with a speed {current['wind_speed']} m/s.\")"
   ]
  },
  {
   "cell_type": "code",
   "execution_count": 8,
   "metadata": {
    "execution": {
     "iopub.execute_input": "2021-10-06T09:12:09.997188Z",
     "iopub.status.busy": "2021-10-06T09:12:09.996209Z",
     "iopub.status.idle": "2021-10-06T09:12:10.004321Z",
     "shell.execute_reply": "2021-10-06T09:12:10.005231Z"
    }
   },
   "outputs": [],
   "source": [
    "df_hourly = pd.DataFrame(data['hourly'])\r\n",
    "df_daily = pd.DataFrame(data['daily'])"
   ]
  },
  {
   "cell_type": "code",
   "execution_count": 9,
   "metadata": {
    "execution": {
     "iopub.execute_input": "2021-10-06T09:12:10.009189Z",
     "iopub.status.busy": "2021-10-06T09:12:10.008100Z",
     "iopub.status.idle": "2021-10-06T09:12:10.330835Z",
     "shell.execute_reply": "2021-10-06T09:12:10.331381Z"
    }
   },
   "outputs": [
    {
     "data": {
      "image/png": "[encoded data removed]",
      "text/plain": [
       "<Figure size 864x432 with 1 Axes>"
      ]
     },
     "metadata": {
      "needs_background": "light"
     },
     "output_type": "display_data"
    }
   ],
   "source": [
    "fig, ax = plt.subplots(figsize=(12, 6))\r\n",
    "plt.plot(df_hourly.temp, '.-', label='Temperature')\r\n",
    "plt.plot(df_hourly.feels_like, '.-', label='Feels Like')\r\n",
    "ax.set(title='Temperature in future 48 hours', xlabel='Time', ylabel='Temperature')\r\n",
    "ax.set_xticks(list(range(0, len(df_hourly), 2)))\r\n",
    "ax.set_xticklabels([ts2dt(ts, '%m-%d %H:%M')[0] for i, ts in enumerate(df_hourly.dt) if i%2==0], \r\n",
    "                   rotation=45, ha=\"right\")\r\n",
    "ax.locator_params(nbins=15, axis='y')\r\n",
    "plt.legend()\r\n",
    "plt.show()"
   ]
  },
  {
   "cell_type": "code",
   "execution_count": 10,
   "metadata": {
    "execution": {
     "iopub.execute_input": "2021-10-06T09:12:10.336797Z",
     "iopub.status.busy": "2021-10-06T09:12:10.336045Z",
     "iopub.status.idle": "2021-10-06T09:12:10.356927Z",
     "shell.execute_reply": "2021-10-06T09:12:10.357346Z"
    }
   },
   "outputs": [
    {
     "data": {
      "text/html": [
       "<div>\n",
       "<style scoped>\n",
       "    .dataframe tbody tr th:only-of-type {\n",
       "        vertical-align: middle;\n",
       "    }\n",
       "\n",
       "    .dataframe tbody tr th {\n",
       "        vertical-align: top;\n",
       "    }\n",
       "\n",
       "    .dataframe thead th {\n",
       "        text-align: right;\n",
       "    }\n",
       "</style>\n",
       "<table border=\"1\" class=\"dataframe\">\n",
       "  <thead>\n",
       "    <tr style=\"text-align: right;\">\n",
       "      <th></th>\n",
       "      <th>dt</th>\n",
       "      <th>temp</th>\n",
       "      <th>feels_like</th>\n",
       "      <th>pressure</th>\n",
       "      <th>humidity</th>\n",
       "      <th>dew_point</th>\n",
       "      <th>uvi</th>\n",
       "      <th>clouds</th>\n",
       "      <th>visibility</th>\n",
       "      <th>wind_speed</th>\n",
       "      <th>wind_deg</th>\n",
       "      <th>wind_gust</th>\n",
       "      <th>weather</th>\n",
       "      <th>pop</th>\n",
       "      <th>rain</th>\n",
       "    </tr>\n",
       "  </thead>\n",
       "  <tbody>\n",
       "    <tr>\n",
       "      <th>0</th>\n",
       "      <td>1633510800</td>\n",
       "      <td>30.11</td>\n",
       "      <td>35.56</td>\n",
       "      <td>1005</td>\n",
       "      <td>71</td>\n",
       "      <td>24.27</td>\n",
       "      <td>0.57</td>\n",
       "      <td>42</td>\n",
       "      <td>10000</td>\n",
       "      <td>7.49</td>\n",
       "      <td>82</td>\n",
       "      <td>9.25</td>\n",
       "      <td>[{'id': 802, 'main': 'Clouds', 'description': ...</td>\n",
       "      <td>0.18</td>\n",
       "      <td>NaN</td>\n",
       "    </tr>\n",
       "    <tr>\n",
       "      <th>1</th>\n",
       "      <td>1633514400</td>\n",
       "      <td>29.79</td>\n",
       "      <td>35.24</td>\n",
       "      <td>1005</td>\n",
       "      <td>73</td>\n",
       "      <td>24.43</td>\n",
       "      <td>0.00</td>\n",
       "      <td>42</td>\n",
       "      <td>10000</td>\n",
       "      <td>7.14</td>\n",
       "      <td>83</td>\n",
       "      <td>9.79</td>\n",
       "      <td>[{'id': 802, 'main': 'Clouds', 'description': ...</td>\n",
       "      <td>0.18</td>\n",
       "      <td>NaN</td>\n",
       "    </tr>\n",
       "    <tr>\n",
       "      <th>2</th>\n",
       "      <td>1633518000</td>\n",
       "      <td>29.41</td>\n",
       "      <td>34.51</td>\n",
       "      <td>1006</td>\n",
       "      <td>74</td>\n",
       "      <td>24.29</td>\n",
       "      <td>0.00</td>\n",
       "      <td>42</td>\n",
       "      <td>10000</td>\n",
       "      <td>7.35</td>\n",
       "      <td>88</td>\n",
       "      <td>10.46</td>\n",
       "      <td>[{'id': 802, 'main': 'Clouds', 'description': ...</td>\n",
       "      <td>0.22</td>\n",
       "      <td>NaN</td>\n",
       "    </tr>\n",
       "    <tr>\n",
       "      <th>3</th>\n",
       "      <td>1633521600</td>\n",
       "      <td>29.01</td>\n",
       "      <td>33.92</td>\n",
       "      <td>1006</td>\n",
       "      <td>76</td>\n",
       "      <td>24.35</td>\n",
       "      <td>0.00</td>\n",
       "      <td>41</td>\n",
       "      <td>10000</td>\n",
       "      <td>7.82</td>\n",
       "      <td>87</td>\n",
       "      <td>11.02</td>\n",
       "      <td>[{'id': 500, 'main': 'Rain', 'description': 'l...</td>\n",
       "      <td>0.30</td>\n",
       "      <td>{'1h': 0.13}</td>\n",
       "    </tr>\n",
       "    <tr>\n",
       "      <th>4</th>\n",
       "      <td>1633525200</td>\n",
       "      <td>28.45</td>\n",
       "      <td>32.89</td>\n",
       "      <td>1007</td>\n",
       "      <td>78</td>\n",
       "      <td>24.24</td>\n",
       "      <td>0.00</td>\n",
       "      <td>20</td>\n",
       "      <td>10000</td>\n",
       "      <td>8.51</td>\n",
       "      <td>87</td>\n",
       "      <td>12.07</td>\n",
       "      <td>[{'id': 500, 'main': 'Rain', 'description': 'l...</td>\n",
       "      <td>0.72</td>\n",
       "      <td>{'1h': 0.62}</td>\n",
       "    </tr>\n",
       "  </tbody>\n",
       "</table>\n",
       "</div>"
      ],
      "text/plain": [
       "           dt   temp  feels_like  pressure  humidity  dew_point   uvi  clouds  \\\n",
       "0  1633510800  30.11       35.56      1005        71      24.27  0.57      42   \n",
       "1  1633514400  29.79       35.24      1005        73      24.43  0.00      42   \n",
       "2  1633518000  29.41       34.51      1006        74      24.29  0.00      42   \n",
       "3  1633521600  29.01       33.92      1006        76      24.35  0.00      41   \n",
       "4  1633525200  28.45       32.89      1007        78      24.24  0.00      20   \n",
       "\n",
       "   visibility  wind_speed  wind_deg  wind_gust  \\\n",
       "0       10000        7.49        82       9.25   \n",
       "1       10000        7.14        83       9.79   \n",
       "2       10000        7.35        88      10.46   \n",
       "3       10000        7.82        87      11.02   \n",
       "4       10000        8.51        87      12.07   \n",
       "\n",
       "                                             weather   pop          rain  \n",
       "0  [{'id': 802, 'main': 'Clouds', 'description': ...  0.18           NaN  \n",
       "1  [{'id': 802, 'main': 'Clouds', 'description': ...  0.18           NaN  \n",
       "2  [{'id': 802, 'main': 'Clouds', 'description': ...  0.22           NaN  \n",
       "3  [{'id': 500, 'main': 'Rain', 'description': 'l...  0.30  {'1h': 0.13}  \n",
       "4  [{'id': 500, 'main': 'Rain', 'description': 'l...  0.72  {'1h': 0.62}  "
      ]
     },
     "execution_count": 10,
     "metadata": {},
     "output_type": "execute_result"
    }
   ],
   "source": [
    "df_hourly.head()"
   ]
  },
  {
   "cell_type": "code",
   "execution_count": null,
   "metadata": {},
   "outputs": [],
   "source": []
  }
 ],
 "metadata": {
  "interpreter": {
   "hash": "c1b4cfe941b6d2466ad1fb5979e97da9cda8801728c8091b097ab734208fc00c"
  },
  "kernelspec": {
   "display_name": "Python 3.8.3 64-bit ('base': conda)",
   "name": "python3"
  },
  "language_info": {
   "codemirror_mode": {
    "name": "ipython",
    "version": 3
   },
   "file_extension": ".py",
   "mimetype": "text/x-python",
   "name": "python",
   "nbconvert_exporter": "python",
   "pygments_lexer": "ipython3",
   "version": "3.8.12"
  }
 },
 "nbformat": 4,
 "nbformat_minor": 2
}
