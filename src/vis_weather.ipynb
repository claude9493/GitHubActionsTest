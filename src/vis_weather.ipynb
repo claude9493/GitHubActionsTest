{
 "cells": [
  {
   "cell_type": "code",
   "execution_count": 1,
   "metadata": {
    "execution": {
     "iopub.execute_input": "2021-09-23T09:11:47.049093Z",
     "iopub.status.busy": "2021-09-23T09:11:47.048348Z",
     "iopub.status.idle": "2021-09-23T09:11:52.536003Z",
     "shell.execute_reply": "2021-09-23T09:11:52.534598Z"
    }
   },
   "outputs": [],
   "source": [
    "import json, yaml, requests\r\n",
    "from datetime import datetime\r\n",
    "from dateutil import tz\r\n",
    "import pandas as pd\r\n",
    "from PIL import Image\r\n",
    "from io import BytesIO\r\n",
    "import matplotlib.pyplot as plt\r\n",
    "import seaborn\r\n",
    "\r\n",
    "CONFIG_PATH = \"../config/config.yaml\""
   ]
  },
  {
   "cell_type": "code",
   "execution_count": 2,
   "metadata": {
    "execution": {
     "iopub.execute_input": "2021-09-23T09:11:52.539465Z",
     "iopub.status.busy": "2021-09-23T09:11:52.538803Z",
     "iopub.status.idle": "2021-09-23T09:11:52.546028Z",
     "shell.execute_reply": "2021-09-23T09:11:52.546439Z"
    }
   },
   "outputs": [],
   "source": [
    "with open('../newest_ts', 'r') as f:\r\n",
    "    newest_ts = f.read()\r\n",
    "\r\n",
    "data_path = f\"../data/data_{newest_ts}.json\"\r\n",
    "with open(data_path, 'r') as f:\r\n",
    "    data = json.load(f)\r\n",
    "\r\n",
    "with open(CONFIG_PATH, \"r\") as stream:\r\n",
    "    config = yaml.safe_load(stream)\r\n",
    "\r\n",
    "TIME_ZONE = config['time_zone']\r\n",
    "DATETIME_FORMAT = config['dt_format']"
   ]
  },
  {
   "cell_type": "code",
   "execution_count": 3,
   "metadata": {
    "execution": {
     "iopub.execute_input": "2021-09-23T09:11:52.550579Z",
     "iopub.status.busy": "2021-09-23T09:11:52.550006Z",
     "iopub.status.idle": "2021-09-23T09:11:52.570038Z",
     "shell.execute_reply": "2021-09-23T09:11:52.570493Z"
    }
   },
   "outputs": [
    {
     "name": "stdout",
     "output_type": "stream",
     "text": [
      "Recent query happens at 2021-09-23 17:11:42 (CST).\n"
     ]
    }
   ],
   "source": [
    "def ts2dt(ts, format=DATETIME_FORMAT):\r\n",
    "    dt = (datetime.utcfromtimestamp(int(ts))\r\n",
    "                    .replace(tzinfo=tz.tzutc())\r\n",
    "                    # .astimezone(tz.tzlocal())\r\n",
    "                    .astimezone(tz.gettz(TIME_ZONE)))\r\n",
    "    return dt.strftime(format), dt\r\n",
    "\r\n",
    "_, newest_dt = ts2dt(newest_ts)\r\n",
    "print(f\"Recent query happens at {newest_dt.strftime(DATETIME_FORMAT)} ({newest_dt.tzname()}).\")"
   ]
  },
  {
   "cell_type": "code",
   "execution_count": 4,
   "metadata": {
    "execution": {
     "iopub.execute_input": "2021-09-23T09:11:52.575172Z",
     "iopub.status.busy": "2021-09-23T09:11:52.574603Z",
     "iopub.status.idle": "2021-09-23T09:11:52.577682Z",
     "shell.execute_reply": "2021-09-23T09:11:52.578114Z"
    }
   },
   "outputs": [],
   "source": [
    "def degrees_to_cardinal(d):\r\n",
    "  dirs = ['N', 'NNE', 'NE', 'ENE', 'E', 'ESE', 'SE', 'SSE', 'S', 'SSW', 'SW', 'WSW', 'W', 'WNW', 'NW', 'NNW']\r\n",
    "  ix = int(round(d / (360. / len(dirs))))\r\n",
    "  return dirs[ix % len(dirs)]"
   ]
  },
  {
   "cell_type": "code",
   "execution_count": 5,
   "metadata": {
    "execution": {
     "iopub.execute_input": "2021-09-23T09:11:52.583159Z",
     "iopub.status.busy": "2021-09-23T09:11:52.581319Z",
     "iopub.status.idle": "2021-09-23T09:11:52.583794Z",
     "shell.execute_reply": "2021-09-23T09:11:52.584378Z"
    }
   },
   "outputs": [],
   "source": [
    "# data.keys()"
   ]
  },
  {
   "cell_type": "code",
   "execution_count": 6,
   "metadata": {
    "execution": {
     "iopub.execute_input": "2021-09-23T09:11:52.588737Z",
     "iopub.status.busy": "2021-09-23T09:11:52.587460Z",
     "iopub.status.idle": "2021-09-23T09:11:52.589371Z",
     "shell.execute_reply": "2021-09-23T09:11:52.589750Z"
    }
   },
   "outputs": [],
   "source": [
    "# data['current']"
   ]
  },
  {
   "cell_type": "code",
   "execution_count": 7,
   "metadata": {
    "execution": {
     "iopub.execute_input": "2021-09-23T09:11:52.612332Z",
     "iopub.status.busy": "2021-09-23T09:11:52.611473Z",
     "iopub.status.idle": "2021-09-23T09:11:53.239088Z",
     "shell.execute_reply": "2021-09-23T09:11:53.239809Z"
    }
   },
   "outputs": [
    {
     "data": {
      "image/png": "[encoded data removed]",
      "text/plain": [
       "<Figure size 216x216 with 1 Axes>"
      ]
     },
     "metadata": {
      "needs_background": "light"
     },
     "output_type": "display_data"
    },
    {
     "name": "stdout",
     "output_type": "stream",
     "text": [
      "Today, sun rises at 06:11 and sets at 18:18.\n",
      "Currently, the weather is Rain (moderate rain).\n",
      "The temperature is 28.52°C and it feels like 34.21°C.\n",
      "The UV index is 0.78, humidity is 84%.\n",
      "The pressure is 1012 hPa, percentage of cloud cover is 100%\n",
      "The wind comes from E direction with a speed 6.59 m/s.\n"
     ]
    }
   ],
   "source": [
    "current = data['current']\r\n",
    "\r\n",
    "fig, ax = plt.subplots(figsize=(3, 3))\r\n",
    "icon = requests.get(f\"http://openweathermap.org/img/wn/{current['weather'][0]['icon']}@2x.png\")\r\n",
    "im = Image.open(BytesIO(icon.content))\r\n",
    "plt.imshow(im)\r\n",
    "ax.set_axis_off()\r\n",
    "plt.show()\r\n",
    "\r\n",
    "print(f\"Today, sun rises at {ts2dt(current['sunrise'], '%H:%M')[0]} \\\r\n",
    "and sets at {ts2dt(current['sunset'], '%H:%M')[0]}.\\n\\\r\n",
    "Currently, the weather is {current['weather'][0]['main']} ({current['weather'][0]['description']}).\\n\\\r\n",
    "The temperature is {current['temp']}°C and it feels like {current['feels_like']}°C.\\n\\\r\n",
    "The UV index is {current['uvi']}, humidity is {current['humidity']}%.\\n\\\r\n",
    "The pressure is {current['pressure']} hPa, percentage of cloud cover is {current['clouds']}%\\n\\\r\n",
    "The wind comes from {degrees_to_cardinal(current['wind_deg'])} direction with a speed {current['wind_speed']} m/s.\")"
   ]
  },
  {
   "cell_type": "code",
   "execution_count": 8,
   "metadata": {
    "execution": {
     "iopub.execute_input": "2021-09-23T09:11:53.243674Z",
     "iopub.status.busy": "2021-09-23T09:11:53.242617Z",
     "iopub.status.idle": "2021-09-23T09:11:53.250381Z",
     "shell.execute_reply": "2021-09-23T09:11:53.251261Z"
    }
   },
   "outputs": [],
   "source": [
    "df_hourly = pd.DataFrame(data['hourly'])\r\n",
    "df_daily = pd.DataFrame(data['daily'])"
   ]
  },
  {
   "cell_type": "code",
   "execution_count": 9,
   "metadata": {
    "execution": {
     "iopub.execute_input": "2021-09-23T09:11:53.254452Z",
     "iopub.status.busy": "2021-09-23T09:11:53.253458Z",
     "iopub.status.idle": "2021-09-23T09:11:53.568442Z",
     "shell.execute_reply": "2021-09-23T09:11:53.567868Z"
    }
   },
   "outputs": [
    {
     "data": {
      "image/png": "[encoded data removed]",
      "text/plain": [
       "<Figure size 864x432 with 1 Axes>"
      ]
     },
     "metadata": {
      "needs_background": "light"
     },
     "output_type": "display_data"
    }
   ],
   "source": [
    "fig, ax = plt.subplots(figsize=(12, 6))\r\n",
    "plt.plot(df_hourly.temp, '.-', label='Temperature')\r\n",
    "plt.plot(df_hourly.feels_like, '.-', label='Feels Like')\r\n",
    "ax.set(title='Temperature in future 48 hours', xlabel='Time', ylabel='Temperature')\r\n",
    "ax.set_xticks(list(range(0, len(df_hourly), 2)))\r\n",
    "ax.set_xticklabels([ts2dt(ts, '%m-%d %H:%M')[0] for i, ts in enumerate(df_hourly.dt) if i%2==0], \r\n",
    "                   rotation=45, ha=\"right\")\r\n",
    "ax.locator_params(nbins=15, axis='y')\r\n",
    "plt.legend()\r\n",
    "plt.show()"
   ]
  },
  {
   "cell_type": "code",
   "execution_count": 10,
   "metadata": {
    "execution": {
     "iopub.execute_input": "2021-09-23T09:11:53.572995Z",
     "iopub.status.busy": "2021-09-23T09:11:53.572444Z",
     "iopub.status.idle": "2021-09-23T09:11:53.594468Z",
     "shell.execute_reply": "2021-09-23T09:11:53.592656Z"
    }
   },
   "outputs": [
    {
     "data": {
      "text/html": [
       "<div>\n",
       "<style scoped>\n",
       "    .dataframe tbody tr th:only-of-type {\n",
       "        vertical-align: middle;\n",
       "    }\n",
       "\n",
       "    .dataframe tbody tr th {\n",
       "        vertical-align: top;\n",
       "    }\n",
       "\n",
       "    .dataframe thead th {\n",
       "        text-align: right;\n",
       "    }\n",
       "</style>\n",
       "<table border=\"1\" class=\"dataframe\">\n",
       "  <thead>\n",
       "    <tr style=\"text-align: right;\">\n",
       "      <th></th>\n",
       "      <th>dt</th>\n",
       "      <th>temp</th>\n",
       "      <th>feels_like</th>\n",
       "      <th>pressure</th>\n",
       "      <th>humidity</th>\n",
       "      <th>dew_point</th>\n",
       "      <th>uvi</th>\n",
       "      <th>clouds</th>\n",
       "      <th>visibility</th>\n",
       "      <th>wind_speed</th>\n",
       "      <th>wind_deg</th>\n",
       "      <th>wind_gust</th>\n",
       "      <th>weather</th>\n",
       "      <th>pop</th>\n",
       "      <th>rain</th>\n",
       "    </tr>\n",
       "  </thead>\n",
       "  <tbody>\n",
       "    <tr>\n",
       "      <th>0</th>\n",
       "      <td>1632387600</td>\n",
       "      <td>28.52</td>\n",
       "      <td>34.21</td>\n",
       "      <td>1012</td>\n",
       "      <td>84</td>\n",
       "      <td>25.55</td>\n",
       "      <td>0.78</td>\n",
       "      <td>100</td>\n",
       "      <td>10000</td>\n",
       "      <td>6.59</td>\n",
       "      <td>92</td>\n",
       "      <td>8.52</td>\n",
       "      <td>[{'id': 500, 'main': 'Rain', 'description': 'l...</td>\n",
       "      <td>0.69</td>\n",
       "      <td>{'1h': 0.36}</td>\n",
       "    </tr>\n",
       "    <tr>\n",
       "      <th>1</th>\n",
       "      <td>1632391200</td>\n",
       "      <td>28.48</td>\n",
       "      <td>33.90</td>\n",
       "      <td>1012</td>\n",
       "      <td>83</td>\n",
       "      <td>25.31</td>\n",
       "      <td>0.00</td>\n",
       "      <td>100</td>\n",
       "      <td>10000</td>\n",
       "      <td>6.28</td>\n",
       "      <td>93</td>\n",
       "      <td>8.74</td>\n",
       "      <td>[{'id': 500, 'main': 'Rain', 'description': 'l...</td>\n",
       "      <td>0.69</td>\n",
       "      <td>{'1h': 0.56}</td>\n",
       "    </tr>\n",
       "    <tr>\n",
       "      <th>2</th>\n",
       "      <td>1632394800</td>\n",
       "      <td>28.41</td>\n",
       "      <td>33.51</td>\n",
       "      <td>1012</td>\n",
       "      <td>82</td>\n",
       "      <td>25.04</td>\n",
       "      <td>0.00</td>\n",
       "      <td>99</td>\n",
       "      <td>10000</td>\n",
       "      <td>6.37</td>\n",
       "      <td>95</td>\n",
       "      <td>8.76</td>\n",
       "      <td>[{'id': 500, 'main': 'Rain', 'description': 'l...</td>\n",
       "      <td>0.69</td>\n",
       "      <td>{'1h': 0.1}</td>\n",
       "    </tr>\n",
       "    <tr>\n",
       "      <th>3</th>\n",
       "      <td>1632398400</td>\n",
       "      <td>28.36</td>\n",
       "      <td>33.38</td>\n",
       "      <td>1013</td>\n",
       "      <td>82</td>\n",
       "      <td>24.99</td>\n",
       "      <td>0.00</td>\n",
       "      <td>99</td>\n",
       "      <td>10000</td>\n",
       "      <td>6.70</td>\n",
       "      <td>97</td>\n",
       "      <td>9.05</td>\n",
       "      <td>[{'id': 804, 'main': 'Clouds', 'description': ...</td>\n",
       "      <td>0.65</td>\n",
       "      <td>NaN</td>\n",
       "    </tr>\n",
       "    <tr>\n",
       "      <th>4</th>\n",
       "      <td>1632402000</td>\n",
       "      <td>28.31</td>\n",
       "      <td>33.06</td>\n",
       "      <td>1014</td>\n",
       "      <td>81</td>\n",
       "      <td>24.73</td>\n",
       "      <td>0.00</td>\n",
       "      <td>97</td>\n",
       "      <td>10000</td>\n",
       "      <td>7.21</td>\n",
       "      <td>97</td>\n",
       "      <td>9.39</td>\n",
       "      <td>[{'id': 500, 'main': 'Rain', 'description': 'l...</td>\n",
       "      <td>0.61</td>\n",
       "      <td>{'1h': 0.18}</td>\n",
       "    </tr>\n",
       "  </tbody>\n",
       "</table>\n",
       "</div>"
      ],
      "text/plain": [
       "           dt   temp  feels_like  pressure  humidity  dew_point   uvi  clouds  \\\n",
       "0  1632387600  28.52       34.21      1012        84      25.55  0.78     100   \n",
       "1  1632391200  28.48       33.90      1012        83      25.31  0.00     100   \n",
       "2  1632394800  28.41       33.51      1012        82      25.04  0.00      99   \n",
       "3  1632398400  28.36       33.38      1013        82      24.99  0.00      99   \n",
       "4  1632402000  28.31       33.06      1014        81      24.73  0.00      97   \n",
       "\n",
       "   visibility  wind_speed  wind_deg  wind_gust  \\\n",
       "0       10000        6.59        92       8.52   \n",
       "1       10000        6.28        93       8.74   \n",
       "2       10000        6.37        95       8.76   \n",
       "3       10000        6.70        97       9.05   \n",
       "4       10000        7.21        97       9.39   \n",
       "\n",
       "                                             weather   pop          rain  \n",
       "0  [{'id': 500, 'main': 'Rain', 'description': 'l...  0.69  {'1h': 0.36}  \n",
       "1  [{'id': 500, 'main': 'Rain', 'description': 'l...  0.69  {'1h': 0.56}  \n",
       "2  [{'id': 500, 'main': 'Rain', 'description': 'l...  0.69   {'1h': 0.1}  \n",
       "3  [{'id': 804, 'main': 'Clouds', 'description': ...  0.65           NaN  \n",
       "4  [{'id': 500, 'main': 'Rain', 'description': 'l...  0.61  {'1h': 0.18}  "
      ]
     },
     "execution_count": 10,
     "metadata": {},
     "output_type": "execute_result"
    }
   ],
   "source": [
    "df_hourly.head()"
   ]
  },
  {
   "cell_type": "code",
   "execution_count": null,
   "metadata": {},
   "outputs": [],
   "source": []
  }
 ],
 "metadata": {
  "interpreter": {
   "hash": "c1b4cfe941b6d2466ad1fb5979e97da9cda8801728c8091b097ab734208fc00c"
  },
  "kernelspec": {
   "display_name": "Python 3.8.3 64-bit ('base': conda)",
   "name": "python3"
  },
  "language_info": {
   "codemirror_mode": {
    "name": "ipython",
    "version": 3
   },
   "file_extension": ".py",
   "mimetype": "text/x-python",
   "name": "python",
   "nbconvert_exporter": "python",
   "pygments_lexer": "ipython3",
   "version": "3.8.12"
  }
 },
 "nbformat": 4,
 "nbformat_minor": 2
}
