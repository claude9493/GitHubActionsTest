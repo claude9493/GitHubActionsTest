{
 "cells": [
  {
   "cell_type": "code",
   "execution_count": 1,
   "metadata": {
    "execution": {
     "iopub.execute_input": "2021-10-14T22:12:46.298190Z",
     "iopub.status.busy": "2021-10-14T22:12:46.297317Z",
     "iopub.status.idle": "2021-10-14T22:12:49.320213Z",
     "shell.execute_reply": "2021-10-14T22:12:49.319626Z"
    }
   },
   "outputs": [],
   "source": [
    "import json, yaml, requests\r\n",
    "from datetime import datetime\r\n",
    "from dateutil import tz\r\n",
    "import pandas as pd\r\n",
    "from PIL import Image\r\n",
    "from io import BytesIO\r\n",
    "import matplotlib.pyplot as plt\r\n",
    "import seaborn\r\n",
    "\r\n",
    "CONFIG_PATH = \"../config/config.yaml\""
   ]
  },
  {
   "cell_type": "code",
   "execution_count": 2,
   "metadata": {
    "execution": {
     "iopub.execute_input": "2021-10-14T22:12:49.328960Z",
     "iopub.status.busy": "2021-10-14T22:12:49.325045Z",
     "iopub.status.idle": "2021-10-14T22:12:49.331861Z",
     "shell.execute_reply": "2021-10-14T22:12:49.331435Z"
    }
   },
   "outputs": [],
   "source": [
    "with open('../newest_ts', 'r') as f:\r\n",
    "    newest_ts = f.read()\r\n",
    "\r\n",
    "data_path = f\"../data/data_{newest_ts}.json\"\r\n",
    "with open(data_path, 'r') as f:\r\n",
    "    data = json.load(f)\r\n",
    "\r\n",
    "with open(CONFIG_PATH, \"r\") as stream:\r\n",
    "    config = yaml.safe_load(stream)\r\n",
    "\r\n",
    "TIME_ZONE = config['time_zone']\r\n",
    "DATETIME_FORMAT = config['dt_format']"
   ]
  },
  {
   "cell_type": "code",
   "execution_count": 3,
   "metadata": {
    "execution": {
     "iopub.execute_input": "2021-10-14T22:12:49.336605Z",
     "iopub.status.busy": "2021-10-14T22:12:49.336060Z",
     "iopub.status.idle": "2021-10-14T22:12:49.342611Z",
     "shell.execute_reply": "2021-10-14T22:12:49.343041Z"
    }
   },
   "outputs": [
    {
     "name": "stdout",
     "output_type": "stream",
     "text": [
      "Recent query happens at 2021-10-15 06:12:43 (CST).\n"
     ]
    }
   ],
   "source": [
    "def ts2dt(ts, format=DATETIME_FORMAT):\r\n",
    "    dt = (datetime.utcfromtimestamp(int(ts))\r\n",
    "                    .replace(tzinfo=tz.tzutc())\r\n",
    "                    # .astimezone(tz.tzlocal())\r\n",
    "                    .astimezone(tz.gettz(TIME_ZONE)))\r\n",
    "    return dt.strftime(format), dt\r\n",
    "\r\n",
    "_, newest_dt = ts2dt(newest_ts)\r\n",
    "print(f\"Recent query happens at {newest_dt.strftime(DATETIME_FORMAT)} ({newest_dt.tzname()}).\")"
   ]
  },
  {
   "cell_type": "code",
   "execution_count": 4,
   "metadata": {
    "execution": {
     "iopub.execute_input": "2021-10-14T22:12:49.349140Z",
     "iopub.status.busy": "2021-10-14T22:12:49.347627Z",
     "iopub.status.idle": "2021-10-14T22:12:49.349720Z",
     "shell.execute_reply": "2021-10-14T22:12:49.350217Z"
    }
   },
   "outputs": [],
   "source": [
    "def degrees_to_cardinal(d):\r\n",
    "  dirs = ['N', 'NNE', 'NE', 'ENE', 'E', 'ESE', 'SE', 'SSE', 'S', 'SSW', 'SW', 'WSW', 'W', 'WNW', 'NW', 'NNW']\r\n",
    "  ix = int(round(d / (360. / len(dirs))))\r\n",
    "  return dirs[ix % len(dirs)]"
   ]
  },
  {
   "cell_type": "code",
   "execution_count": 5,
   "metadata": {
    "execution": {
     "iopub.execute_input": "2021-10-14T22:12:49.356195Z",
     "iopub.status.busy": "2021-10-14T22:12:49.354639Z",
     "iopub.status.idle": "2021-10-14T22:12:49.356804Z",
     "shell.execute_reply": "2021-10-14T22:12:49.357250Z"
    }
   },
   "outputs": [],
   "source": [
    "# data.keys()"
   ]
  },
  {
   "cell_type": "code",
   "execution_count": 6,
   "metadata": {
    "execution": {
     "iopub.execute_input": "2021-10-14T22:12:49.360890Z",
     "iopub.status.busy": "2021-10-14T22:12:49.360305Z",
     "iopub.status.idle": "2021-10-14T22:12:49.363240Z",
     "shell.execute_reply": "2021-10-14T22:12:49.362589Z"
    }
   },
   "outputs": [],
   "source": [
    "# data['current']"
   ]
  },
  {
   "cell_type": "code",
   "execution_count": 7,
   "metadata": {
    "execution": {
     "iopub.execute_input": "2021-10-14T22:12:49.394094Z",
     "iopub.status.busy": "2021-10-14T22:12:49.393503Z",
     "iopub.status.idle": "2021-10-14T22:12:49.808917Z",
     "shell.execute_reply": "2021-10-14T22:12:49.808397Z"
    }
   },
   "outputs": [
    {
     "data": {
      "image/png": "[encoded data removed]",
      "text/plain": [
       "<Figure size 216x216 with 1 Axes>"
      ]
     },
     "metadata": {
      "needs_background": "light"
     },
     "output_type": "display_data"
    },
    {
     "name": "stdout",
     "output_type": "stream",
     "text": [
      "Today, sun rises at 06:18 and sets at 17:58.\n",
      "Currently, the weather is Clouds (overcast clouds).\n",
      "The temperature is 25.91°C and it feels like 26.75°C.\n",
      "The UV index is 0, humidity is 84%.\n",
      "The pressure is 1008 hPa, percentage of cloud cover is 100%\n",
      "The wind comes from NE direction with a speed 3.58 m/s.\n"
     ]
    }
   ],
   "source": [
    "current = data['current']\r\n",
    "\r\n",
    "fig, ax = plt.subplots(figsize=(3, 3))\r\n",
    "icon = requests.get(f\"http://openweathermap.org/img/wn/{current['weather'][0]['icon']}@2x.png\")\r\n",
    "im = Image.open(BytesIO(icon.content))\r\n",
    "plt.imshow(im)\r\n",
    "ax.set_axis_off()\r\n",
    "plt.show()\r\n",
    "\r\n",
    "print(f\"Today, sun rises at {ts2dt(current['sunrise'], '%H:%M')[0]} \\\r\n",
    "and sets at {ts2dt(current['sunset'], '%H:%M')[0]}.\\n\\\r\n",
    "Currently, the weather is {current['weather'][0]['main']} ({current['weather'][0]['description']}).\\n\\\r\n",
    "The temperature is {current['temp']}°C and it feels like {current['feels_like']}°C.\\n\\\r\n",
    "The UV index is {current['uvi']}, humidity is {current['humidity']}%.\\n\\\r\n",
    "The pressure is {current['pressure']} hPa, percentage of cloud cover is {current['clouds']}%\\n\\\r\n",
    "The wind comes from {degrees_to_cardinal(current['wind_deg'])} direction with a speed {current['wind_speed']} m/s.\")"
   ]
  },
  {
   "cell_type": "code",
   "execution_count": 8,
   "metadata": {
    "execution": {
     "iopub.execute_input": "2021-10-14T22:12:49.812203Z",
     "iopub.status.busy": "2021-10-14T22:12:49.811537Z",
     "iopub.status.idle": "2021-10-14T22:12:49.819151Z",
     "shell.execute_reply": "2021-10-14T22:12:49.819797Z"
    }
   },
   "outputs": [],
   "source": [
    "df_hourly = pd.DataFrame(data['hourly'])\r\n",
    "df_daily = pd.DataFrame(data['daily'])"
   ]
  },
  {
   "cell_type": "code",
   "execution_count": 9,
   "metadata": {
    "execution": {
     "iopub.execute_input": "2021-10-14T22:12:49.822940Z",
     "iopub.status.busy": "2021-10-14T22:12:49.822232Z",
     "iopub.status.idle": "2021-10-14T22:12:50.205021Z",
     "shell.execute_reply": "2021-10-14T22:12:50.204455Z"
    }
   },
   "outputs": [
    {
     "data": {
      "image/png": "[encoded data removed]",
      "text/plain": [
       "<Figure size 864x432 with 1 Axes>"
      ]
     },
     "metadata": {
      "needs_background": "light"
     },
     "output_type": "display_data"
    }
   ],
   "source": [
    "fig, ax = plt.subplots(figsize=(12, 6))\r\n",
    "plt.plot(df_hourly.temp, '.-', label='Temperature')\r\n",
    "plt.plot(df_hourly.feels_like, '.-', label='Feels Like')\r\n",
    "ax.set(title='Temperature in future 48 hours', xlabel='Time', ylabel='Temperature')\r\n",
    "ax.set_xticks(list(range(0, len(df_hourly), 2)))\r\n",
    "ax.set_xticklabels([ts2dt(ts, '%m-%d %H:%M')[0] for i, ts in enumerate(df_hourly.dt) if i%2==0], \r\n",
    "                   rotation=45, ha=\"right\")\r\n",
    "ax.locator_params(nbins=15, axis='y')\r\n",
    "plt.legend()\r\n",
    "plt.show()"
   ]
  },
  {
   "cell_type": "code",
   "execution_count": 10,
   "metadata": {
    "execution": {
     "iopub.execute_input": "2021-10-14T22:12:50.211328Z",
     "iopub.status.busy": "2021-10-14T22:12:50.210787Z",
     "iopub.status.idle": "2021-10-14T22:12:50.234876Z",
     "shell.execute_reply": "2021-10-14T22:12:50.235353Z"
    }
   },
   "outputs": [
    {
     "data": {
      "text/html": [
       "<div>\n",
       "<style scoped>\n",
       "    .dataframe tbody tr th:only-of-type {\n",
       "        vertical-align: middle;\n",
       "    }\n",
       "\n",
       "    .dataframe tbody tr th {\n",
       "        vertical-align: top;\n",
       "    }\n",
       "\n",
       "    .dataframe thead th {\n",
       "        text-align: right;\n",
       "    }\n",
       "</style>\n",
       "<table border=\"1\" class=\"dataframe\">\n",
       "  <thead>\n",
       "    <tr style=\"text-align: right;\">\n",
       "      <th></th>\n",
       "      <th>dt</th>\n",
       "      <th>temp</th>\n",
       "      <th>feels_like</th>\n",
       "      <th>pressure</th>\n",
       "      <th>humidity</th>\n",
       "      <th>dew_point</th>\n",
       "      <th>uvi</th>\n",
       "      <th>clouds</th>\n",
       "      <th>visibility</th>\n",
       "      <th>wind_speed</th>\n",
       "      <th>wind_deg</th>\n",
       "      <th>wind_gust</th>\n",
       "      <th>weather</th>\n",
       "      <th>pop</th>\n",
       "      <th>rain</th>\n",
       "    </tr>\n",
       "  </thead>\n",
       "  <tbody>\n",
       "    <tr>\n",
       "      <th>0</th>\n",
       "      <td>1634248800</td>\n",
       "      <td>25.91</td>\n",
       "      <td>26.75</td>\n",
       "      <td>1008</td>\n",
       "      <td>84</td>\n",
       "      <td>23.00</td>\n",
       "      <td>0.00</td>\n",
       "      <td>100</td>\n",
       "      <td>10000</td>\n",
       "      <td>2.74</td>\n",
       "      <td>20</td>\n",
       "      <td>3.44</td>\n",
       "      <td>[{'id': 804, 'main': 'Clouds', 'description': ...</td>\n",
       "      <td>0.63</td>\n",
       "      <td>NaN</td>\n",
       "    </tr>\n",
       "    <tr>\n",
       "      <th>1</th>\n",
       "      <td>1634252400</td>\n",
       "      <td>25.57</td>\n",
       "      <td>26.40</td>\n",
       "      <td>1008</td>\n",
       "      <td>85</td>\n",
       "      <td>22.86</td>\n",
       "      <td>0.00</td>\n",
       "      <td>100</td>\n",
       "      <td>10000</td>\n",
       "      <td>2.93</td>\n",
       "      <td>28</td>\n",
       "      <td>3.71</td>\n",
       "      <td>[{'id': 804, 'main': 'Clouds', 'description': ...</td>\n",
       "      <td>0.65</td>\n",
       "      <td>NaN</td>\n",
       "    </tr>\n",
       "    <tr>\n",
       "      <th>2</th>\n",
       "      <td>1634256000</td>\n",
       "      <td>25.19</td>\n",
       "      <td>25.98</td>\n",
       "      <td>1009</td>\n",
       "      <td>85</td>\n",
       "      <td>22.49</td>\n",
       "      <td>0.31</td>\n",
       "      <td>100</td>\n",
       "      <td>10000</td>\n",
       "      <td>2.94</td>\n",
       "      <td>20</td>\n",
       "      <td>3.66</td>\n",
       "      <td>[{'id': 804, 'main': 'Clouds', 'description': ...</td>\n",
       "      <td>0.65</td>\n",
       "      <td>NaN</td>\n",
       "    </tr>\n",
       "    <tr>\n",
       "      <th>3</th>\n",
       "      <td>1634259600</td>\n",
       "      <td>24.86</td>\n",
       "      <td>25.65</td>\n",
       "      <td>1010</td>\n",
       "      <td>86</td>\n",
       "      <td>22.36</td>\n",
       "      <td>0.86</td>\n",
       "      <td>100</td>\n",
       "      <td>10000</td>\n",
       "      <td>3.07</td>\n",
       "      <td>27</td>\n",
       "      <td>3.93</td>\n",
       "      <td>[{'id': 500, 'main': 'Rain', 'description': 'l...</td>\n",
       "      <td>0.69</td>\n",
       "      <td>{'1h': 0.19}</td>\n",
       "    </tr>\n",
       "    <tr>\n",
       "      <th>4</th>\n",
       "      <td>1634263200</td>\n",
       "      <td>24.76</td>\n",
       "      <td>25.54</td>\n",
       "      <td>1010</td>\n",
       "      <td>86</td>\n",
       "      <td>22.26</td>\n",
       "      <td>1.72</td>\n",
       "      <td>100</td>\n",
       "      <td>10000</td>\n",
       "      <td>3.60</td>\n",
       "      <td>34</td>\n",
       "      <td>4.85</td>\n",
       "      <td>[{'id': 804, 'main': 'Clouds', 'description': ...</td>\n",
       "      <td>0.80</td>\n",
       "      <td>NaN</td>\n",
       "    </tr>\n",
       "  </tbody>\n",
       "</table>\n",
       "</div>"
      ],
      "text/plain": [
       "           dt   temp  feels_like  pressure  humidity  dew_point   uvi  clouds  \\\n",
       "0  1634248800  25.91       26.75      1008        84      23.00  0.00     100   \n",
       "1  1634252400  25.57       26.40      1008        85      22.86  0.00     100   \n",
       "2  1634256000  25.19       25.98      1009        85      22.49  0.31     100   \n",
       "3  1634259600  24.86       25.65      1010        86      22.36  0.86     100   \n",
       "4  1634263200  24.76       25.54      1010        86      22.26  1.72     100   \n",
       "\n",
       "   visibility  wind_speed  wind_deg  wind_gust  \\\n",
       "0       10000        2.74        20       3.44   \n",
       "1       10000        2.93        28       3.71   \n",
       "2       10000        2.94        20       3.66   \n",
       "3       10000        3.07        27       3.93   \n",
       "4       10000        3.60        34       4.85   \n",
       "\n",
       "                                             weather   pop          rain  \n",
       "0  [{'id': 804, 'main': 'Clouds', 'description': ...  0.63           NaN  \n",
       "1  [{'id': 804, 'main': 'Clouds', 'description': ...  0.65           NaN  \n",
       "2  [{'id': 804, 'main': 'Clouds', 'description': ...  0.65           NaN  \n",
       "3  [{'id': 500, 'main': 'Rain', 'description': 'l...  0.69  {'1h': 0.19}  \n",
       "4  [{'id': 804, 'main': 'Clouds', 'description': ...  0.80           NaN  "
      ]
     },
     "execution_count": 10,
     "metadata": {},
     "output_type": "execute_result"
    }
   ],
   "source": [
    "df_hourly.head()"
   ]
  },
  {
   "cell_type": "code",
   "execution_count": null,
   "metadata": {},
   "outputs": [],
   "source": []
  }
 ],
 "metadata": {
  "interpreter": {
   "hash": "c1b4cfe941b6d2466ad1fb5979e97da9cda8801728c8091b097ab734208fc00c"
  },
  "kernelspec": {
   "display_name": "Python 3.8.3 64-bit ('base': conda)",
   "name": "python3"
  },
  "language_info": {
   "codemirror_mode": {
    "name": "ipython",
    "version": 3
   },
   "file_extension": ".py",
   "mimetype": "text/x-python",
   "name": "python",
   "nbconvert_exporter": "python",
   "pygments_lexer": "ipython3",
   "version": "3.8.12"
  }
 },
 "nbformat": 4,
 "nbformat_minor": 2
}
