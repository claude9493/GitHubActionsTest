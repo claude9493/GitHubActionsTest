{
 "cells": [
  {
   "cell_type": "code",
   "execution_count": 1,
   "metadata": {
    "execution": {
     "iopub.execute_input": "2021-08-29T08:40:22.758213Z",
     "iopub.status.busy": "2021-08-29T08:40:22.757335Z",
     "iopub.status.idle": "2021-08-29T08:40:25.840696Z",
     "shell.execute_reply": "2021-08-29T08:40:25.841435Z"
    }
   },
   "outputs": [],
   "source": [
    "import json, yaml, requests\r\n",
    "from datetime import datetime\r\n",
    "from dateutil import tz\r\n",
    "import pandas as pd\r\n",
    "from PIL import Image\r\n",
    "from io import BytesIO\r\n",
    "import matplotlib.pyplot as plt\r\n",
    "import seaborn\r\n",
    "\r\n",
    "CONFIG_PATH = \"../config/config.yaml\""
   ]
  },
  {
   "cell_type": "code",
   "execution_count": 2,
   "metadata": {
    "execution": {
     "iopub.execute_input": "2021-08-29T08:40:25.847730Z",
     "iopub.status.busy": "2021-08-29T08:40:25.846657Z",
     "iopub.status.idle": "2021-08-29T08:40:25.853352Z",
     "shell.execute_reply": "2021-08-29T08:40:25.852769Z"
    }
   },
   "outputs": [],
   "source": [
    "with open('../newest_ts', 'r') as f:\r\n",
    "    newest_ts = f.read()\r\n",
    "\r\n",
    "data_path = f\"../data/data_{newest_ts}.json\"\r\n",
    "with open(data_path, 'r') as f:\r\n",
    "    data = json.load(f)\r\n",
    "\r\n",
    "with open(CONFIG_PATH, \"r\") as stream:\r\n",
    "    config = yaml.safe_load(stream)\r\n",
    "\r\n",
    "TIME_ZONE = config['time_zone']\r\n",
    "DATETIME_FORMAT = config['dt_format']"
   ]
  },
  {
   "cell_type": "code",
   "execution_count": 3,
   "metadata": {
    "execution": {
     "iopub.execute_input": "2021-08-29T08:40:25.858602Z",
     "iopub.status.busy": "2021-08-29T08:40:25.857903Z",
     "iopub.status.idle": "2021-08-29T08:40:25.878442Z",
     "shell.execute_reply": "2021-08-29T08:40:25.878942Z"
    }
   },
   "outputs": [
    {
     "name": "stdout",
     "output_type": "stream",
     "text": [
      "Recent query happens at 2021-08-29 16:40:19 (CST).\n"
     ]
    }
   ],
   "source": [
    "def ts2dt(ts, format=DATETIME_FORMAT):\r\n",
    "    dt = (datetime.utcfromtimestamp(int(ts))\r\n",
    "                    .replace(tzinfo=tz.tzutc())\r\n",
    "                    # .astimezone(tz.tzlocal())\r\n",
    "                    .astimezone(tz.gettz(TIME_ZONE)))\r\n",
    "    return dt.strftime(format), dt\r\n",
    "\r\n",
    "_, newest_dt = ts2dt(newest_ts)\r\n",
    "print(f\"Recent query happens at {newest_dt.strftime(DATETIME_FORMAT)} ({newest_dt.tzname()}).\")"
   ]
  },
  {
   "cell_type": "code",
   "execution_count": 4,
   "metadata": {
    "execution": {
     "iopub.execute_input": "2021-08-29T08:40:25.884171Z",
     "iopub.status.busy": "2021-08-29T08:40:25.883571Z",
     "iopub.status.idle": "2021-08-29T08:40:25.886220Z",
     "shell.execute_reply": "2021-08-29T08:40:25.885682Z"
    }
   },
   "outputs": [],
   "source": [
    "def degrees_to_cardinal(d):\r\n",
    "  dirs = ['N', 'NNE', 'NE', 'ENE', 'E', 'ESE', 'SE', 'SSE', 'S', 'SSW', 'SW', 'WSW', 'W', 'WNW', 'NW', 'NNW']\r\n",
    "  ix = int(round(d / (360. / len(dirs))))\r\n",
    "  return dirs[ix % len(dirs)]"
   ]
  },
  {
   "cell_type": "code",
   "execution_count": 5,
   "metadata": {
    "execution": {
     "iopub.execute_input": "2021-08-29T08:40:25.889967Z",
     "iopub.status.busy": "2021-08-29T08:40:25.889389Z",
     "iopub.status.idle": "2021-08-29T08:40:25.891570Z",
     "shell.execute_reply": "2021-08-29T08:40:25.892024Z"
    }
   },
   "outputs": [],
   "source": [
    "# data.keys()"
   ]
  },
  {
   "cell_type": "code",
   "execution_count": 6,
   "metadata": {
    "execution": {
     "iopub.execute_input": "2021-08-29T08:40:25.896486Z",
     "iopub.status.busy": "2021-08-29T08:40:25.895183Z",
     "iopub.status.idle": "2021-08-29T08:40:25.897125Z",
     "shell.execute_reply": "2021-08-29T08:40:25.897617Z"
    }
   },
   "outputs": [],
   "source": [
    "# data['current']"
   ]
  },
  {
   "cell_type": "code",
   "execution_count": 7,
   "metadata": {
    "execution": {
     "iopub.execute_input": "2021-08-29T08:40:25.919970Z",
     "iopub.status.busy": "2021-08-29T08:40:25.919359Z",
     "iopub.status.idle": "2021-08-29T08:40:26.354353Z",
     "shell.execute_reply": "2021-08-29T08:40:26.355183Z"
    }
   },
   "outputs": [
    {
     "data": {
      "image/png": "[encoded data removed]",
      "text/plain": [
       "<Figure size 216x216 with 1 Axes>"
      ]
     },
     "metadata": {
      "needs_background": "light"
     },
     "output_type": "display_data"
    },
    {
     "name": "stdout",
     "output_type": "stream",
     "text": [
      "Today, sun rises at 06:04 and sets at 18:43.\n",
      "Currently, the weather is Clouds (overcast clouds).\n",
      "The temperature is 30.62°C and it feels like 37.62°C.\n",
      "The UV index is 1.21, humidity is 76%.\n",
      "The pressure is 1010 hPa, percentage of cloud cover is 99%\n",
      "The wind comes from E direction with a speed 4.37 m/s.\n"
     ]
    }
   ],
   "source": [
    "current = data['current']\r\n",
    "\r\n",
    "fig, ax = plt.subplots(figsize=(3, 3))\r\n",
    "icon = requests.get(f\"http://openweathermap.org/img/wn/{current['weather'][0]['icon']}@2x.png\")\r\n",
    "im = Image.open(BytesIO(icon.content))\r\n",
    "plt.imshow(im)\r\n",
    "ax.set_axis_off()\r\n",
    "plt.show()\r\n",
    "\r\n",
    "print(f\"Today, sun rises at {ts2dt(current['sunrise'], '%H:%M')[0]} \\\r\n",
    "and sets at {ts2dt(current['sunset'], '%H:%M')[0]}.\\n\\\r\n",
    "Currently, the weather is {current['weather'][0]['main']} ({current['weather'][0]['description']}).\\n\\\r\n",
    "The temperature is {current['temp']}°C and it feels like {current['feels_like']}°C.\\n\\\r\n",
    "The UV index is {current['uvi']}, humidity is {current['humidity']}%.\\n\\\r\n",
    "The pressure is {current['pressure']} hPa, percentage of cloud cover is {current['clouds']}%\\n\\\r\n",
    "The wind comes from {degrees_to_cardinal(current['wind_deg'])} direction with a speed {current['wind_speed']} m/s.\")"
   ]
  },
  {
   "cell_type": "code",
   "execution_count": 8,
   "metadata": {
    "execution": {
     "iopub.execute_input": "2021-08-29T08:40:26.358741Z",
     "iopub.status.busy": "2021-08-29T08:40:26.358158Z",
     "iopub.status.idle": "2021-08-29T08:40:26.366309Z",
     "shell.execute_reply": "2021-08-29T08:40:26.367052Z"
    }
   },
   "outputs": [],
   "source": [
    "df_hourly = pd.DataFrame(data['hourly'])\r\n",
    "df_daily = pd.DataFrame(data['daily'])"
   ]
  },
  {
   "cell_type": "code",
   "execution_count": 9,
   "metadata": {
    "execution": {
     "iopub.execute_input": "2021-08-29T08:40:26.370930Z",
     "iopub.status.busy": "2021-08-29T08:40:26.369481Z",
     "iopub.status.idle": "2021-08-29T08:40:26.700029Z",
     "shell.execute_reply": "2021-08-29T08:40:26.699507Z"
    }
   },
   "outputs": [
    {
     "data": {
      "image/png": "[encoded data removed]",
      "text/plain": [
       "<Figure size 864x432 with 1 Axes>"
      ]
     },
     "metadata": {
      "needs_background": "light"
     },
     "output_type": "display_data"
    }
   ],
   "source": [
    "fig, ax = plt.subplots(figsize=(12, 6))\r\n",
    "plt.plot(df_hourly.temp, '.-', label='Temperature')\r\n",
    "plt.plot(df_hourly.feels_like, '.-', label='Feels Like')\r\n",
    "ax.set(title='Temperature in future 48 hours', xlabel='Time', ylabel='Temperature')\r\n",
    "ax.set_xticks(list(range(0, len(df_hourly), 2)))\r\n",
    "ax.set_xticklabels([ts2dt(ts, '%m-%d %H:%M')[0] for i, ts in enumerate(df_hourly.dt) if i%2==0], \r\n",
    "                   rotation=45, ha=\"right\")\r\n",
    "ax.locator_params(nbins=15, axis='y')\r\n",
    "plt.legend()\r\n",
    "plt.show()"
   ]
  },
  {
   "cell_type": "code",
   "execution_count": 10,
   "metadata": {
    "execution": {
     "iopub.execute_input": "2021-08-29T08:40:26.713523Z",
     "iopub.status.busy": "2021-08-29T08:40:26.709899Z",
     "iopub.status.idle": "2021-08-29T08:40:26.726182Z",
     "shell.execute_reply": "2021-08-29T08:40:26.725665Z"
    }
   },
   "outputs": [
    {
     "data": {
      "text/html": [
       "<div>\n",
       "<style scoped>\n",
       "    .dataframe tbody tr th:only-of-type {\n",
       "        vertical-align: middle;\n",
       "    }\n",
       "\n",
       "    .dataframe tbody tr th {\n",
       "        vertical-align: top;\n",
       "    }\n",
       "\n",
       "    .dataframe thead th {\n",
       "        text-align: right;\n",
       "    }\n",
       "</style>\n",
       "<table border=\"1\" class=\"dataframe\">\n",
       "  <thead>\n",
       "    <tr style=\"text-align: right;\">\n",
       "      <th></th>\n",
       "      <th>dt</th>\n",
       "      <th>temp</th>\n",
       "      <th>feels_like</th>\n",
       "      <th>pressure</th>\n",
       "      <th>humidity</th>\n",
       "      <th>dew_point</th>\n",
       "      <th>uvi</th>\n",
       "      <th>clouds</th>\n",
       "      <th>visibility</th>\n",
       "      <th>wind_speed</th>\n",
       "      <th>wind_deg</th>\n",
       "      <th>wind_gust</th>\n",
       "      <th>weather</th>\n",
       "      <th>pop</th>\n",
       "      <th>rain</th>\n",
       "    </tr>\n",
       "  </thead>\n",
       "  <tbody>\n",
       "    <tr>\n",
       "      <th>0</th>\n",
       "      <td>1630224000</td>\n",
       "      <td>30.43</td>\n",
       "      <td>37.21</td>\n",
       "      <td>1010</td>\n",
       "      <td>74</td>\n",
       "      <td>25.27</td>\n",
       "      <td>3.35</td>\n",
       "      <td>99</td>\n",
       "      <td>10000</td>\n",
       "      <td>3.93</td>\n",
       "      <td>102</td>\n",
       "      <td>5.23</td>\n",
       "      <td>[{'id': 500, 'main': 'Rain', 'description': 'l...</td>\n",
       "      <td>0.70</td>\n",
       "      <td>{'1h': 0.33}</td>\n",
       "    </tr>\n",
       "    <tr>\n",
       "      <th>1</th>\n",
       "      <td>1630227600</td>\n",
       "      <td>30.62</td>\n",
       "      <td>37.62</td>\n",
       "      <td>1010</td>\n",
       "      <td>76</td>\n",
       "      <td>25.90</td>\n",
       "      <td>1.21</td>\n",
       "      <td>99</td>\n",
       "      <td>10000</td>\n",
       "      <td>4.37</td>\n",
       "      <td>96</td>\n",
       "      <td>5.72</td>\n",
       "      <td>[{'id': 804, 'main': 'Clouds', 'description': ...</td>\n",
       "      <td>0.58</td>\n",
       "      <td>NaN</td>\n",
       "    </tr>\n",
       "    <tr>\n",
       "      <th>2</th>\n",
       "      <td>1630231200</td>\n",
       "      <td>30.27</td>\n",
       "      <td>37.05</td>\n",
       "      <td>1010</td>\n",
       "      <td>75</td>\n",
       "      <td>25.34</td>\n",
       "      <td>0.22</td>\n",
       "      <td>99</td>\n",
       "      <td>10000</td>\n",
       "      <td>4.07</td>\n",
       "      <td>95</td>\n",
       "      <td>6.08</td>\n",
       "      <td>[{'id': 804, 'main': 'Clouds', 'description': ...</td>\n",
       "      <td>0.58</td>\n",
       "      <td>NaN</td>\n",
       "    </tr>\n",
       "    <tr>\n",
       "      <th>3</th>\n",
       "      <td>1630234800</td>\n",
       "      <td>29.71</td>\n",
       "      <td>36.01</td>\n",
       "      <td>1010</td>\n",
       "      <td>77</td>\n",
       "      <td>25.24</td>\n",
       "      <td>0.00</td>\n",
       "      <td>94</td>\n",
       "      <td>10000</td>\n",
       "      <td>4.11</td>\n",
       "      <td>98</td>\n",
       "      <td>6.09</td>\n",
       "      <td>[{'id': 804, 'main': 'Clouds', 'description': ...</td>\n",
       "      <td>0.51</td>\n",
       "      <td>NaN</td>\n",
       "    </tr>\n",
       "    <tr>\n",
       "      <th>4</th>\n",
       "      <td>1630238400</td>\n",
       "      <td>29.18</td>\n",
       "      <td>35.02</td>\n",
       "      <td>1011</td>\n",
       "      <td>79</td>\n",
       "      <td>25.16</td>\n",
       "      <td>0.00</td>\n",
       "      <td>92</td>\n",
       "      <td>10000</td>\n",
       "      <td>4.83</td>\n",
       "      <td>94</td>\n",
       "      <td>7.32</td>\n",
       "      <td>[{'id': 804, 'main': 'Clouds', 'description': ...</td>\n",
       "      <td>0.43</td>\n",
       "      <td>NaN</td>\n",
       "    </tr>\n",
       "  </tbody>\n",
       "</table>\n",
       "</div>"
      ],
      "text/plain": [
       "           dt   temp  feels_like  pressure  humidity  dew_point   uvi  clouds  \\\n",
       "0  1630224000  30.43       37.21      1010        74      25.27  3.35      99   \n",
       "1  1630227600  30.62       37.62      1010        76      25.90  1.21      99   \n",
       "2  1630231200  30.27       37.05      1010        75      25.34  0.22      99   \n",
       "3  1630234800  29.71       36.01      1010        77      25.24  0.00      94   \n",
       "4  1630238400  29.18       35.02      1011        79      25.16  0.00      92   \n",
       "\n",
       "   visibility  wind_speed  wind_deg  wind_gust  \\\n",
       "0       10000        3.93       102       5.23   \n",
       "1       10000        4.37        96       5.72   \n",
       "2       10000        4.07        95       6.08   \n",
       "3       10000        4.11        98       6.09   \n",
       "4       10000        4.83        94       7.32   \n",
       "\n",
       "                                             weather   pop          rain  \n",
       "0  [{'id': 500, 'main': 'Rain', 'description': 'l...  0.70  {'1h': 0.33}  \n",
       "1  [{'id': 804, 'main': 'Clouds', 'description': ...  0.58           NaN  \n",
       "2  [{'id': 804, 'main': 'Clouds', 'description': ...  0.58           NaN  \n",
       "3  [{'id': 804, 'main': 'Clouds', 'description': ...  0.51           NaN  \n",
       "4  [{'id': 804, 'main': 'Clouds', 'description': ...  0.43           NaN  "
      ]
     },
     "execution_count": 10,
     "metadata": {},
     "output_type": "execute_result"
    }
   ],
   "source": [
    "df_hourly.head()"
   ]
  },
  {
   "cell_type": "code",
   "execution_count": null,
   "metadata": {},
   "outputs": [],
   "source": []
  }
 ],
 "metadata": {
  "interpreter": {
   "hash": "c1b4cfe941b6d2466ad1fb5979e97da9cda8801728c8091b097ab734208fc00c"
  },
  "kernelspec": {
   "display_name": "Python 3.8.3 64-bit ('base': conda)",
   "name": "python3"
  },
  "language_info": {
   "codemirror_mode": {
    "name": "ipython",
    "version": 3
   },
   "file_extension": ".py",
   "mimetype": "text/x-python",
   "name": "python",
   "nbconvert_exporter": "python",
   "pygments_lexer": "ipython3",
   "version": "3.8.11"
  }
 },
 "nbformat": 4,
 "nbformat_minor": 2
}
