{
 "cells": [
  {
   "cell_type": "code",
   "execution_count": 1,
   "metadata": {
    "execution": {
     "iopub.execute_input": "2021-08-28T06:18:22.590753Z",
     "iopub.status.busy": "2021-08-28T06:18:22.590053Z",
     "iopub.status.idle": "2021-08-28T06:18:27.448270Z",
     "shell.execute_reply": "2021-08-28T06:18:27.447624Z"
    }
   },
   "outputs": [],
   "source": [
    "import json, yaml, requests\r\n",
    "from datetime import datetime\r\n",
    "from dateutil import tz\r\n",
    "import pandas as pd\r\n",
    "from PIL import Image\r\n",
    "from io import BytesIO\r\n",
    "import matplotlib.pyplot as plt\r\n",
    "import seaborn\r\n",
    "\r\n",
    "CONFIG_PATH = \"../config/config.yaml\""
   ]
  },
  {
   "cell_type": "code",
   "execution_count": 2,
   "metadata": {
    "execution": {
     "iopub.execute_input": "2021-08-28T06:18:27.464423Z",
     "iopub.status.busy": "2021-08-28T06:18:27.459876Z",
     "iopub.status.idle": "2021-08-28T06:18:27.467646Z",
     "shell.execute_reply": "2021-08-28T06:18:27.466447Z"
    }
   },
   "outputs": [],
   "source": [
    "with open('../newest_ts', 'r') as f:\r\n",
    "    newest_ts = f.read()\r\n",
    "\r\n",
    "data_path = f\"../data/data_{newest_ts}.json\"\r\n",
    "with open(data_path, 'r') as f:\r\n",
    "    data = json.load(f)\r\n",
    "\r\n",
    "with open(CONFIG_PATH, \"r\") as stream:\r\n",
    "    config = yaml.safe_load(stream)\r\n",
    "\r\n",
    "TIME_ZONE = config['time_zone']\r\n",
    "DATETIME_FORMAT = config['dt_format']"
   ]
  },
  {
   "cell_type": "code",
   "execution_count": 3,
   "metadata": {
    "execution": {
     "iopub.execute_input": "2021-08-28T06:18:27.473475Z",
     "iopub.status.busy": "2021-08-28T06:18:27.472759Z",
     "iopub.status.idle": "2021-08-28T06:18:27.509267Z",
     "shell.execute_reply": "2021-08-28T06:18:27.509784Z"
    }
   },
   "outputs": [
    {
     "name": "stdout",
     "output_type": "stream",
     "text": [
      "Recent query happens at 2021-08-28 14:18:18 (CST).\n"
     ]
    }
   ],
   "source": [
    "def ts2dt(ts, format=DATETIME_FORMAT):\r\n",
    "    dt = (datetime.utcfromtimestamp(int(ts))\r\n",
    "                    .replace(tzinfo=tz.tzutc())\r\n",
    "                    # .astimezone(tz.tzlocal())\r\n",
    "                    .astimezone(tz.gettz(TIME_ZONE)))\r\n",
    "    return dt.strftime(format), dt\r\n",
    "\r\n",
    "_, newest_dt = ts2dt(newest_ts)\r\n",
    "print(f\"Recent query happens at {newest_dt.strftime(DATETIME_FORMAT)} ({newest_dt.tzname()}).\")"
   ]
  },
  {
   "cell_type": "code",
   "execution_count": 4,
   "metadata": {
    "execution": {
     "iopub.execute_input": "2021-08-28T06:18:27.517107Z",
     "iopub.status.busy": "2021-08-28T06:18:27.515433Z",
     "iopub.status.idle": "2021-08-28T06:18:27.517910Z",
     "shell.execute_reply": "2021-08-28T06:18:27.518420Z"
    }
   },
   "outputs": [],
   "source": [
    "def degrees_to_cardinal(d):\r\n",
    "  dirs = ['N', 'NNE', 'NE', 'ENE', 'E', 'ESE', 'SE', 'SSE', 'S', 'SSW', 'SW', 'WSW', 'W', 'WNW', 'NW', 'NNW']\r\n",
    "  ix = int(round(d / (360. / len(dirs))))\r\n",
    "  return dirs[ix % len(dirs)]"
   ]
  },
  {
   "cell_type": "code",
   "execution_count": 5,
   "metadata": {
    "execution": {
     "iopub.execute_input": "2021-08-28T06:18:27.529239Z",
     "iopub.status.busy": "2021-08-28T06:18:27.528620Z",
     "iopub.status.idle": "2021-08-28T06:18:27.552679Z",
     "shell.execute_reply": "2021-08-28T06:18:27.552132Z"
    }
   },
   "outputs": [],
   "source": [
    "# data.keys()"
   ]
  },
  {
   "cell_type": "code",
   "execution_count": 6,
   "metadata": {
    "execution": {
     "iopub.execute_input": "2021-08-28T06:18:27.564479Z",
     "iopub.status.busy": "2021-08-28T06:18:27.562829Z",
     "iopub.status.idle": "2021-08-28T06:18:27.565088Z",
     "shell.execute_reply": "2021-08-28T06:18:27.563729Z"
    }
   },
   "outputs": [],
   "source": [
    "# data['current']"
   ]
  },
  {
   "cell_type": "code",
   "execution_count": 7,
   "metadata": {
    "execution": {
     "iopub.execute_input": "2021-08-28T06:18:27.607128Z",
     "iopub.status.busy": "2021-08-28T06:18:27.596655Z",
     "iopub.status.idle": "2021-08-28T06:18:28.075001Z",
     "shell.execute_reply": "2021-08-28T06:18:28.076164Z"
    }
   },
   "outputs": [
    {
     "data": {
      "image/png": "[encoded data removed]",
      "text/plain": [
       "<Figure size 216x216 with 1 Axes>"
      ]
     },
     "metadata": {
      "needs_background": "light"
     },
     "output_type": "display_data"
    },
    {
     "name": "stdout",
     "output_type": "stream",
     "text": [
      "Today, sun rises at 06:04 and sets at 18:44.\n",
      "Currently, the weather is Clouds (scattered clouds).\n",
      "The temperature is 27.05°C and it feels like 30.56°C.\n",
      "The UV index is 9.57, humidity is 87%.\n",
      "The pressure is 1010 hPa, percentage of cloud cover is 29%\n",
      "The wind comes from E direction with a speed 4.73 m/s.\n"
     ]
    }
   ],
   "source": [
    "current = data['current']\r\n",
    "\r\n",
    "fig, ax = plt.subplots(figsize=(3, 3))\r\n",
    "icon = requests.get(f\"http://openweathermap.org/img/wn/{current['weather'][0]['icon']}@2x.png\")\r\n",
    "im = Image.open(BytesIO(icon.content))\r\n",
    "plt.imshow(im)\r\n",
    "ax.set_axis_off()\r\n",
    "plt.show()\r\n",
    "\r\n",
    "print(f\"Today, sun rises at {ts2dt(current['sunrise'], '%H:%M')[0]} \\\r\n",
    "and sets at {ts2dt(current['sunset'], '%H:%M')[0]}.\\n\\\r\n",
    "Currently, the weather is {current['weather'][0]['main']} ({current['weather'][0]['description']}).\\n\\\r\n",
    "The temperature is {current['temp']}°C and it feels like {current['feels_like']}°C.\\n\\\r\n",
    "The UV index is {current['uvi']}, humidity is {current['humidity']}%.\\n\\\r\n",
    "The pressure is {current['pressure']} hPa, percentage of cloud cover is {current['clouds']}%\\n\\\r\n",
    "The wind comes from {degrees_to_cardinal(current['wind_deg'])} direction with a speed {current['wind_speed']} m/s.\")"
   ]
  },
  {
   "cell_type": "code",
   "execution_count": 8,
   "metadata": {
    "execution": {
     "iopub.execute_input": "2021-08-28T06:18:28.081139Z",
     "iopub.status.busy": "2021-08-28T06:18:28.079746Z",
     "iopub.status.idle": "2021-08-28T06:18:28.089201Z",
     "shell.execute_reply": "2021-08-28T06:18:28.090098Z"
    }
   },
   "outputs": [],
   "source": [
    "df_hourly = pd.DataFrame(data['hourly'])\r\n",
    "df_daily = pd.DataFrame(data['daily'])"
   ]
  },
  {
   "cell_type": "code",
   "execution_count": 9,
   "metadata": {
    "execution": {
     "iopub.execute_input": "2021-08-28T06:18:28.094177Z",
     "iopub.status.busy": "2021-08-28T06:18:28.093033Z",
     "iopub.status.idle": "2021-08-28T06:18:28.470556Z",
     "shell.execute_reply": "2021-08-28T06:18:28.471061Z"
    }
   },
   "outputs": [
    {
     "data": {
      "image/png": "[encoded data removed]",
      "text/plain": [
       "<Figure size 864x432 with 1 Axes>"
      ]
     },
     "metadata": {
      "needs_background": "light"
     },
     "output_type": "display_data"
    }
   ],
   "source": [
    "fig, ax = plt.subplots(figsize=(12, 6))\r\n",
    "plt.plot(df_hourly.temp, '.-', label='Temperature')\r\n",
    "plt.plot(df_hourly.feels_like, '.-', label='Feels Like')\r\n",
    "ax.set(title='Temperature in future 48 hours', xlabel='Time', ylabel='Temperature')\r\n",
    "ax.set_xticks(list(range(0, len(df_hourly), 2)))\r\n",
    "ax.set_xticklabels([ts2dt(ts, '%m-%d %H:%M')[0] for i, ts in enumerate(df_hourly.dt) if i%2==0], \r\n",
    "                   rotation=45, ha=\"right\")\r\n",
    "ax.locator_params(nbins=15, axis='y')\r\n",
    "plt.legend()\r\n",
    "plt.show()"
   ]
  },
  {
   "cell_type": "code",
   "execution_count": 10,
   "metadata": {
    "execution": {
     "iopub.execute_input": "2021-08-28T06:18:28.486310Z",
     "iopub.status.busy": "2021-08-28T06:18:28.481380Z",
     "iopub.status.idle": "2021-08-28T06:18:28.502371Z",
     "shell.execute_reply": "2021-08-28T06:18:28.501799Z"
    }
   },
   "outputs": [
    {
     "data": {
      "text/html": [
       "<div>\n",
       "<style scoped>\n",
       "    .dataframe tbody tr th:only-of-type {\n",
       "        vertical-align: middle;\n",
       "    }\n",
       "\n",
       "    .dataframe tbody tr th {\n",
       "        vertical-align: top;\n",
       "    }\n",
       "\n",
       "    .dataframe thead th {\n",
       "        text-align: right;\n",
       "    }\n",
       "</style>\n",
       "<table border=\"1\" class=\"dataframe\">\n",
       "  <thead>\n",
       "    <tr style=\"text-align: right;\">\n",
       "      <th></th>\n",
       "      <th>dt</th>\n",
       "      <th>temp</th>\n",
       "      <th>feels_like</th>\n",
       "      <th>pressure</th>\n",
       "      <th>humidity</th>\n",
       "      <th>dew_point</th>\n",
       "      <th>uvi</th>\n",
       "      <th>clouds</th>\n",
       "      <th>visibility</th>\n",
       "      <th>wind_speed</th>\n",
       "      <th>wind_deg</th>\n",
       "      <th>wind_gust</th>\n",
       "      <th>weather</th>\n",
       "      <th>pop</th>\n",
       "      <th>rain</th>\n",
       "    </tr>\n",
       "  </thead>\n",
       "  <tbody>\n",
       "    <tr>\n",
       "      <th>0</th>\n",
       "      <td>1630130400</td>\n",
       "      <td>27.05</td>\n",
       "      <td>30.56</td>\n",
       "      <td>1010</td>\n",
       "      <td>87</td>\n",
       "      <td>24.70</td>\n",
       "      <td>9.57</td>\n",
       "      <td>29</td>\n",
       "      <td>10000</td>\n",
       "      <td>4.73</td>\n",
       "      <td>91</td>\n",
       "      <td>6.14</td>\n",
       "      <td>[{'id': 802, 'main': 'Clouds', 'description': ...</td>\n",
       "      <td>0.64</td>\n",
       "      <td>NaN</td>\n",
       "    </tr>\n",
       "    <tr>\n",
       "      <th>1</th>\n",
       "      <td>1630134000</td>\n",
       "      <td>27.64</td>\n",
       "      <td>31.48</td>\n",
       "      <td>1010</td>\n",
       "      <td>82</td>\n",
       "      <td>24.29</td>\n",
       "      <td>5.99</td>\n",
       "      <td>26</td>\n",
       "      <td>10000</td>\n",
       "      <td>4.86</td>\n",
       "      <td>90</td>\n",
       "      <td>6.25</td>\n",
       "      <td>[{'id': 802, 'main': 'Clouds', 'description': ...</td>\n",
       "      <td>0.42</td>\n",
       "      <td>NaN</td>\n",
       "    </tr>\n",
       "    <tr>\n",
       "      <th>2</th>\n",
       "      <td>1630137600</td>\n",
       "      <td>28.07</td>\n",
       "      <td>31.96</td>\n",
       "      <td>1010</td>\n",
       "      <td>78</td>\n",
       "      <td>23.87</td>\n",
       "      <td>3.17</td>\n",
       "      <td>25</td>\n",
       "      <td>10000</td>\n",
       "      <td>4.94</td>\n",
       "      <td>92</td>\n",
       "      <td>6.48</td>\n",
       "      <td>[{'id': 500, 'main': 'Rain', 'description': 'l...</td>\n",
       "      <td>0.46</td>\n",
       "      <td>{'1h': 0.75}</td>\n",
       "    </tr>\n",
       "    <tr>\n",
       "      <th>3</th>\n",
       "      <td>1630141200</td>\n",
       "      <td>28.48</td>\n",
       "      <td>32.11</td>\n",
       "      <td>1009</td>\n",
       "      <td>73</td>\n",
       "      <td>23.17</td>\n",
       "      <td>1.15</td>\n",
       "      <td>30</td>\n",
       "      <td>10000</td>\n",
       "      <td>4.37</td>\n",
       "      <td>94</td>\n",
       "      <td>6.16</td>\n",
       "      <td>[{'id': 802, 'main': 'Clouds', 'description': ...</td>\n",
       "      <td>0.47</td>\n",
       "      <td>NaN</td>\n",
       "    </tr>\n",
       "    <tr>\n",
       "      <th>4</th>\n",
       "      <td>1630144800</td>\n",
       "      <td>28.60</td>\n",
       "      <td>32.21</td>\n",
       "      <td>1009</td>\n",
       "      <td>72</td>\n",
       "      <td>23.06</td>\n",
       "      <td>0.07</td>\n",
       "      <td>37</td>\n",
       "      <td>10000</td>\n",
       "      <td>3.93</td>\n",
       "      <td>94</td>\n",
       "      <td>5.95</td>\n",
       "      <td>[{'id': 802, 'main': 'Clouds', 'description': ...</td>\n",
       "      <td>0.47</td>\n",
       "      <td>NaN</td>\n",
       "    </tr>\n",
       "  </tbody>\n",
       "</table>\n",
       "</div>"
      ],
      "text/plain": [
       "           dt   temp  feels_like  pressure  humidity  dew_point   uvi  clouds  \\\n",
       "0  1630130400  27.05       30.56      1010        87      24.70  9.57      29   \n",
       "1  1630134000  27.64       31.48      1010        82      24.29  5.99      26   \n",
       "2  1630137600  28.07       31.96      1010        78      23.87  3.17      25   \n",
       "3  1630141200  28.48       32.11      1009        73      23.17  1.15      30   \n",
       "4  1630144800  28.60       32.21      1009        72      23.06  0.07      37   \n",
       "\n",
       "   visibility  wind_speed  wind_deg  wind_gust  \\\n",
       "0       10000        4.73        91       6.14   \n",
       "1       10000        4.86        90       6.25   \n",
       "2       10000        4.94        92       6.48   \n",
       "3       10000        4.37        94       6.16   \n",
       "4       10000        3.93        94       5.95   \n",
       "\n",
       "                                             weather   pop          rain  \n",
       "0  [{'id': 802, 'main': 'Clouds', 'description': ...  0.64           NaN  \n",
       "1  [{'id': 802, 'main': 'Clouds', 'description': ...  0.42           NaN  \n",
       "2  [{'id': 500, 'main': 'Rain', 'description': 'l...  0.46  {'1h': 0.75}  \n",
       "3  [{'id': 802, 'main': 'Clouds', 'description': ...  0.47           NaN  \n",
       "4  [{'id': 802, 'main': 'Clouds', 'description': ...  0.47           NaN  "
      ]
     },
     "execution_count": 10,
     "metadata": {},
     "output_type": "execute_result"
    }
   ],
   "source": [
    "df_hourly.head()"
   ]
  },
  {
   "cell_type": "code",
   "execution_count": null,
   "metadata": {},
   "outputs": [],
   "source": []
  }
 ],
 "metadata": {
  "interpreter": {
   "hash": "c1b4cfe941b6d2466ad1fb5979e97da9cda8801728c8091b097ab734208fc00c"
  },
  "kernelspec": {
   "display_name": "Python 3.8.3 64-bit ('base': conda)",
   "name": "python3"
  },
  "language_info": {
   "codemirror_mode": {
    "name": "ipython",
    "version": 3
   },
   "file_extension": ".py",
   "mimetype": "text/x-python",
   "name": "python",
   "nbconvert_exporter": "python",
   "pygments_lexer": "ipython3",
   "version": "3.8.11"
  }
 },
 "nbformat": 4,
 "nbformat_minor": 2
}
