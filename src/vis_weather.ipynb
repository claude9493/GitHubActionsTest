{
 "cells": [
  {
   "cell_type": "code",
   "execution_count": 1,
   "metadata": {
    "execution": {
     "iopub.execute_input": "2021-10-05T02:25:25.242121Z",
     "iopub.status.busy": "2021-10-05T02:25:25.241511Z",
     "iopub.status.idle": "2021-10-05T02:25:27.659771Z",
     "shell.execute_reply": "2021-10-05T02:25:27.659136Z"
    }
   },
   "outputs": [],
   "source": [
    "import json, yaml, requests\r\n",
    "from datetime import datetime\r\n",
    "from dateutil import tz\r\n",
    "import pandas as pd\r\n",
    "from PIL import Image\r\n",
    "from io import BytesIO\r\n",
    "import matplotlib.pyplot as plt\r\n",
    "import seaborn\r\n",
    "\r\n",
    "CONFIG_PATH = \"../config/config.yaml\""
   ]
  },
  {
   "cell_type": "code",
   "execution_count": 2,
   "metadata": {
    "execution": {
     "iopub.execute_input": "2021-10-05T02:25:27.664660Z",
     "iopub.status.busy": "2021-10-05T02:25:27.664179Z",
     "iopub.status.idle": "2021-10-05T02:25:27.669326Z",
     "shell.execute_reply": "2021-10-05T02:25:27.668947Z"
    }
   },
   "outputs": [],
   "source": [
    "with open('../newest_ts', 'r') as f:\r\n",
    "    newest_ts = f.read()\r\n",
    "\r\n",
    "data_path = f\"../data/data_{newest_ts}.json\"\r\n",
    "with open(data_path, 'r') as f:\r\n",
    "    data = json.load(f)\r\n",
    "\r\n",
    "with open(CONFIG_PATH, \"r\") as stream:\r\n",
    "    config = yaml.safe_load(stream)\r\n",
    "\r\n",
    "TIME_ZONE = config['time_zone']\r\n",
    "DATETIME_FORMAT = config['dt_format']"
   ]
  },
  {
   "cell_type": "code",
   "execution_count": 3,
   "metadata": {
    "execution": {
     "iopub.execute_input": "2021-10-05T02:25:27.673548Z",
     "iopub.status.busy": "2021-10-05T02:25:27.673094Z",
     "iopub.status.idle": "2021-10-05T02:25:27.701556Z",
     "shell.execute_reply": "2021-10-05T02:25:27.701138Z"
    }
   },
   "outputs": [
    {
     "name": "stdout",
     "output_type": "stream",
     "text": [
      "Recent query happens at 2021-10-05 10:25:22 (CST).\n"
     ]
    }
   ],
   "source": [
    "def ts2dt(ts, format=DATETIME_FORMAT):\r\n",
    "    dt = (datetime.utcfromtimestamp(int(ts))\r\n",
    "                    .replace(tzinfo=tz.tzutc())\r\n",
    "                    # .astimezone(tz.tzlocal())\r\n",
    "                    .astimezone(tz.gettz(TIME_ZONE)))\r\n",
    "    return dt.strftime(format), dt\r\n",
    "\r\n",
    "_, newest_dt = ts2dt(newest_ts)\r\n",
    "print(f\"Recent query happens at {newest_dt.strftime(DATETIME_FORMAT)} ({newest_dt.tzname()}).\")"
   ]
  },
  {
   "cell_type": "code",
   "execution_count": 4,
   "metadata": {
    "execution": {
     "iopub.execute_input": "2021-10-05T02:25:27.705750Z",
     "iopub.status.busy": "2021-10-05T02:25:27.705290Z",
     "iopub.status.idle": "2021-10-05T02:25:27.707133Z",
     "shell.execute_reply": "2021-10-05T02:25:27.707502Z"
    }
   },
   "outputs": [],
   "source": [
    "def degrees_to_cardinal(d):\r\n",
    "  dirs = ['N', 'NNE', 'NE', 'ENE', 'E', 'ESE', 'SE', 'SSE', 'S', 'SSW', 'SW', 'WSW', 'W', 'WNW', 'NW', 'NNW']\r\n",
    "  ix = int(round(d / (360. / len(dirs))))\r\n",
    "  return dirs[ix % len(dirs)]"
   ]
  },
  {
   "cell_type": "code",
   "execution_count": 5,
   "metadata": {
    "execution": {
     "iopub.execute_input": "2021-10-05T02:25:27.711551Z",
     "iopub.status.busy": "2021-10-05T02:25:27.710391Z",
     "iopub.status.idle": "2021-10-05T02:25:27.712081Z",
     "shell.execute_reply": "2021-10-05T02:25:27.712442Z"
    }
   },
   "outputs": [],
   "source": [
    "# data.keys()"
   ]
  },
  {
   "cell_type": "code",
   "execution_count": 6,
   "metadata": {
    "execution": {
     "iopub.execute_input": "2021-10-05T02:25:27.716291Z",
     "iopub.status.busy": "2021-10-05T02:25:27.715177Z",
     "iopub.status.idle": "2021-10-05T02:25:27.716809Z",
     "shell.execute_reply": "2021-10-05T02:25:27.717168Z"
    }
   },
   "outputs": [],
   "source": [
    "# data['current']"
   ]
  },
  {
   "cell_type": "code",
   "execution_count": 7,
   "metadata": {
    "execution": {
     "iopub.execute_input": "2021-10-05T02:25:27.733787Z",
     "iopub.status.busy": "2021-10-05T02:25:27.733317Z",
     "iopub.status.idle": "2021-10-05T02:25:28.088402Z",
     "shell.execute_reply": "2021-10-05T02:25:28.089080Z"
    }
   },
   "outputs": [
    {
     "data": {
      "image/png": "[encoded data removed]",
      "text/plain": [
       "<Figure size 216x216 with 1 Axes>"
      ]
     },
     "metadata": {
      "needs_background": "light"
     },
     "output_type": "display_data"
    },
    {
     "name": "stdout",
     "output_type": "stream",
     "text": [
      "Today, sun rises at 06:15 and sets at 18:07.\n",
      "Currently, the weather is Clear (clear sky).\n",
      "The temperature is 30.97°C and it feels like 35.29°C.\n",
      "The UV index is 5.21, humidity is 62%.\n",
      "The pressure is 1027 hPa, percentage of cloud cover is 9%\n",
      "The wind comes from ENE direction with a speed 7.15 m/s.\n"
     ]
    }
   ],
   "source": [
    "current = data['current']\r\n",
    "\r\n",
    "fig, ax = plt.subplots(figsize=(3, 3))\r\n",
    "icon = requests.get(f\"http://openweathermap.org/img/wn/{current['weather'][0]['icon']}@2x.png\")\r\n",
    "im = Image.open(BytesIO(icon.content))\r\n",
    "plt.imshow(im)\r\n",
    "ax.set_axis_off()\r\n",
    "plt.show()\r\n",
    "\r\n",
    "print(f\"Today, sun rises at {ts2dt(current['sunrise'], '%H:%M')[0]} \\\r\n",
    "and sets at {ts2dt(current['sunset'], '%H:%M')[0]}.\\n\\\r\n",
    "Currently, the weather is {current['weather'][0]['main']} ({current['weather'][0]['description']}).\\n\\\r\n",
    "The temperature is {current['temp']}°C and it feels like {current['feels_like']}°C.\\n\\\r\n",
    "The UV index is {current['uvi']}, humidity is {current['humidity']}%.\\n\\\r\n",
    "The pressure is {current['pressure']} hPa, percentage of cloud cover is {current['clouds']}%\\n\\\r\n",
    "The wind comes from {degrees_to_cardinal(current['wind_deg'])} direction with a speed {current['wind_speed']} m/s.\")"
   ]
  },
  {
   "cell_type": "code",
   "execution_count": 8,
   "metadata": {
    "execution": {
     "iopub.execute_input": "2021-10-05T02:25:28.092300Z",
     "iopub.status.busy": "2021-10-05T02:25:28.091366Z",
     "iopub.status.idle": "2021-10-05T02:25:28.098229Z",
     "shell.execute_reply": "2021-10-05T02:25:28.098901Z"
    }
   },
   "outputs": [],
   "source": [
    "df_hourly = pd.DataFrame(data['hourly'])\r\n",
    "df_daily = pd.DataFrame(data['daily'])"
   ]
  },
  {
   "cell_type": "code",
   "execution_count": 9,
   "metadata": {
    "execution": {
     "iopub.execute_input": "2021-10-05T02:25:28.101924Z",
     "iopub.status.busy": "2021-10-05T02:25:28.100987Z",
     "iopub.status.idle": "2021-10-05T02:25:28.337362Z",
     "shell.execute_reply": "2021-10-05T02:25:28.337787Z"
    }
   },
   "outputs": [
    {
     "data": {
      "image/png": "[encoded data removed]",
      "text/plain": [
       "<Figure size 864x432 with 1 Axes>"
      ]
     },
     "metadata": {
      "needs_background": "light"
     },
     "output_type": "display_data"
    }
   ],
   "source": [
    "fig, ax = plt.subplots(figsize=(12, 6))\r\n",
    "plt.plot(df_hourly.temp, '.-', label='Temperature')\r\n",
    "plt.plot(df_hourly.feels_like, '.-', label='Feels Like')\r\n",
    "ax.set(title='Temperature in future 48 hours', xlabel='Time', ylabel='Temperature')\r\n",
    "ax.set_xticks(list(range(0, len(df_hourly), 2)))\r\n",
    "ax.set_xticklabels([ts2dt(ts, '%m-%d %H:%M')[0] for i, ts in enumerate(df_hourly.dt) if i%2==0], \r\n",
    "                   rotation=45, ha=\"right\")\r\n",
    "ax.locator_params(nbins=15, axis='y')\r\n",
    "plt.legend()\r\n",
    "plt.show()"
   ]
  },
  {
   "cell_type": "code",
   "execution_count": 10,
   "metadata": {
    "execution": {
     "iopub.execute_input": "2021-10-05T02:25:28.349065Z",
     "iopub.status.busy": "2021-10-05T02:25:28.343326Z",
     "iopub.status.idle": "2021-10-05T02:25:28.359040Z",
     "shell.execute_reply": "2021-10-05T02:25:28.359419Z"
    }
   },
   "outputs": [
    {
     "data": {
      "text/html": [
       "<div>\n",
       "<style scoped>\n",
       "    .dataframe tbody tr th:only-of-type {\n",
       "        vertical-align: middle;\n",
       "    }\n",
       "\n",
       "    .dataframe tbody tr th {\n",
       "        vertical-align: top;\n",
       "    }\n",
       "\n",
       "    .dataframe thead th {\n",
       "        text-align: right;\n",
       "    }\n",
       "</style>\n",
       "<table border=\"1\" class=\"dataframe\">\n",
       "  <thead>\n",
       "    <tr style=\"text-align: right;\">\n",
       "      <th></th>\n",
       "      <th>dt</th>\n",
       "      <th>temp</th>\n",
       "      <th>feels_like</th>\n",
       "      <th>pressure</th>\n",
       "      <th>humidity</th>\n",
       "      <th>dew_point</th>\n",
       "      <th>uvi</th>\n",
       "      <th>clouds</th>\n",
       "      <th>visibility</th>\n",
       "      <th>wind_speed</th>\n",
       "      <th>wind_deg</th>\n",
       "      <th>wind_gust</th>\n",
       "      <th>weather</th>\n",
       "      <th>pop</th>\n",
       "      <th>rain</th>\n",
       "    </tr>\n",
       "  </thead>\n",
       "  <tbody>\n",
       "    <tr>\n",
       "      <th>0</th>\n",
       "      <td>1633399200</td>\n",
       "      <td>30.97</td>\n",
       "      <td>35.29</td>\n",
       "      <td>1027</td>\n",
       "      <td>62</td>\n",
       "      <td>22.84</td>\n",
       "      <td>5.21</td>\n",
       "      <td>9</td>\n",
       "      <td>10000</td>\n",
       "      <td>8.70</td>\n",
       "      <td>72</td>\n",
       "      <td>10.31</td>\n",
       "      <td>[{'id': 800, 'main': 'Clear', 'description': '...</td>\n",
       "      <td>0.15</td>\n",
       "      <td>NaN</td>\n",
       "    </tr>\n",
       "    <tr>\n",
       "      <th>1</th>\n",
       "      <td>1633402800</td>\n",
       "      <td>30.59</td>\n",
       "      <td>34.95</td>\n",
       "      <td>1024</td>\n",
       "      <td>64</td>\n",
       "      <td>23.00</td>\n",
       "      <td>7.64</td>\n",
       "      <td>10</td>\n",
       "      <td>10000</td>\n",
       "      <td>9.07</td>\n",
       "      <td>73</td>\n",
       "      <td>10.41</td>\n",
       "      <td>[{'id': 800, 'main': 'Clear', 'description': '...</td>\n",
       "      <td>0.17</td>\n",
       "      <td>NaN</td>\n",
       "    </tr>\n",
       "    <tr>\n",
       "      <th>2</th>\n",
       "      <td>1633406400</td>\n",
       "      <td>30.27</td>\n",
       "      <td>34.71</td>\n",
       "      <td>1021</td>\n",
       "      <td>66</td>\n",
       "      <td>23.21</td>\n",
       "      <td>9.11</td>\n",
       "      <td>15</td>\n",
       "      <td>10000</td>\n",
       "      <td>8.88</td>\n",
       "      <td>74</td>\n",
       "      <td>10.08</td>\n",
       "      <td>[{'id': 801, 'main': 'Clouds', 'description': ...</td>\n",
       "      <td>0.13</td>\n",
       "      <td>NaN</td>\n",
       "    </tr>\n",
       "    <tr>\n",
       "      <th>3</th>\n",
       "      <td>1633410000</td>\n",
       "      <td>30.04</td>\n",
       "      <td>34.19</td>\n",
       "      <td>1017</td>\n",
       "      <td>66</td>\n",
       "      <td>22.99</td>\n",
       "      <td>8.95</td>\n",
       "      <td>20</td>\n",
       "      <td>10000</td>\n",
       "      <td>8.82</td>\n",
       "      <td>80</td>\n",
       "      <td>9.41</td>\n",
       "      <td>[{'id': 801, 'main': 'Clouds', 'description': ...</td>\n",
       "      <td>0.13</td>\n",
       "      <td>NaN</td>\n",
       "    </tr>\n",
       "    <tr>\n",
       "      <th>4</th>\n",
       "      <td>1633413600</td>\n",
       "      <td>29.67</td>\n",
       "      <td>33.39</td>\n",
       "      <td>1013</td>\n",
       "      <td>66</td>\n",
       "      <td>22.64</td>\n",
       "      <td>7.26</td>\n",
       "      <td>26</td>\n",
       "      <td>10000</td>\n",
       "      <td>8.48</td>\n",
       "      <td>82</td>\n",
       "      <td>9.17</td>\n",
       "      <td>[{'id': 802, 'main': 'Clouds', 'description': ...</td>\n",
       "      <td>0.11</td>\n",
       "      <td>NaN</td>\n",
       "    </tr>\n",
       "  </tbody>\n",
       "</table>\n",
       "</div>"
      ],
      "text/plain": [
       "           dt   temp  feels_like  pressure  humidity  dew_point   uvi  clouds  \\\n",
       "0  1633399200  30.97       35.29      1027        62      22.84  5.21       9   \n",
       "1  1633402800  30.59       34.95      1024        64      23.00  7.64      10   \n",
       "2  1633406400  30.27       34.71      1021        66      23.21  9.11      15   \n",
       "3  1633410000  30.04       34.19      1017        66      22.99  8.95      20   \n",
       "4  1633413600  29.67       33.39      1013        66      22.64  7.26      26   \n",
       "\n",
       "   visibility  wind_speed  wind_deg  wind_gust  \\\n",
       "0       10000        8.70        72      10.31   \n",
       "1       10000        9.07        73      10.41   \n",
       "2       10000        8.88        74      10.08   \n",
       "3       10000        8.82        80       9.41   \n",
       "4       10000        8.48        82       9.17   \n",
       "\n",
       "                                             weather   pop rain  \n",
       "0  [{'id': 800, 'main': 'Clear', 'description': '...  0.15  NaN  \n",
       "1  [{'id': 800, 'main': 'Clear', 'description': '...  0.17  NaN  \n",
       "2  [{'id': 801, 'main': 'Clouds', 'description': ...  0.13  NaN  \n",
       "3  [{'id': 801, 'main': 'Clouds', 'description': ...  0.13  NaN  \n",
       "4  [{'id': 802, 'main': 'Clouds', 'description': ...  0.11  NaN  "
      ]
     },
     "execution_count": 10,
     "metadata": {},
     "output_type": "execute_result"
    }
   ],
   "source": [
    "df_hourly.head()"
   ]
  },
  {
   "cell_type": "code",
   "execution_count": null,
   "metadata": {},
   "outputs": [],
   "source": []
  }
 ],
 "metadata": {
  "interpreter": {
   "hash": "c1b4cfe941b6d2466ad1fb5979e97da9cda8801728c8091b097ab734208fc00c"
  },
  "kernelspec": {
   "display_name": "Python 3.8.3 64-bit ('base': conda)",
   "name": "python3"
  },
  "language_info": {
   "codemirror_mode": {
    "name": "ipython",
    "version": 3
   },
   "file_extension": ".py",
   "mimetype": "text/x-python",
   "name": "python",
   "nbconvert_exporter": "python",
   "pygments_lexer": "ipython3",
   "version": "3.8.12"
  }
 },
 "nbformat": 4,
 "nbformat_minor": 2
}
