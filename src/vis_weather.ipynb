{
 "cells": [
  {
   "cell_type": "code",
   "execution_count": 1,
   "metadata": {
    "execution": {
     "iopub.execute_input": "2021-08-30T04:50:21.470484Z",
     "iopub.status.busy": "2021-08-30T04:50:21.469841Z",
     "iopub.status.idle": "2021-08-30T04:50:22.930966Z",
     "shell.execute_reply": "2021-08-30T04:50:22.930252Z"
    }
   },
   "outputs": [],
   "source": [
    "import json, yaml, requests\r\n",
    "from datetime import datetime\r\n",
    "from dateutil import tz\r\n",
    "import pandas as pd\r\n",
    "from PIL import Image\r\n",
    "from io import BytesIO\r\n",
    "import matplotlib.pyplot as plt\r\n",
    "import seaborn\r\n",
    "\r\n",
    "CONFIG_PATH = \"../config/config.yaml\""
   ]
  },
  {
   "cell_type": "code",
   "execution_count": 2,
   "metadata": {
    "execution": {
     "iopub.execute_input": "2021-08-30T04:50:22.938974Z",
     "iopub.status.busy": "2021-08-30T04:50:22.935720Z",
     "iopub.status.idle": "2021-08-30T04:50:22.941759Z",
     "shell.execute_reply": "2021-08-30T04:50:22.941329Z"
    }
   },
   "outputs": [],
   "source": [
    "with open('../newest_ts', 'r') as f:\r\n",
    "    newest_ts = f.read()\r\n",
    "\r\n",
    "data_path = f\"../data/data_{newest_ts}.json\"\r\n",
    "with open(data_path, 'r') as f:\r\n",
    "    data = json.load(f)\r\n",
    "\r\n",
    "with open(CONFIG_PATH, \"r\") as stream:\r\n",
    "    config = yaml.safe_load(stream)\r\n",
    "\r\n",
    "TIME_ZONE = config['time_zone']\r\n",
    "DATETIME_FORMAT = config['dt_format']"
   ]
  },
  {
   "cell_type": "code",
   "execution_count": 3,
   "metadata": {
    "execution": {
     "iopub.execute_input": "2021-08-30T04:50:22.947992Z",
     "iopub.status.busy": "2021-08-30T04:50:22.947457Z",
     "iopub.status.idle": "2021-08-30T04:50:22.952775Z",
     "shell.execute_reply": "2021-08-30T04:50:22.953205Z"
    }
   },
   "outputs": [
    {
     "name": "stdout",
     "output_type": "stream",
     "text": [
      "Recent query happens at 2021-08-30 12:50:19 (CST).\n"
     ]
    }
   ],
   "source": [
    "def ts2dt(ts, format=DATETIME_FORMAT):\r\n",
    "    dt = (datetime.utcfromtimestamp(int(ts))\r\n",
    "                    .replace(tzinfo=tz.tzutc())\r\n",
    "                    # .astimezone(tz.tzlocal())\r\n",
    "                    .astimezone(tz.gettz(TIME_ZONE)))\r\n",
    "    return dt.strftime(format), dt\r\n",
    "\r\n",
    "_, newest_dt = ts2dt(newest_ts)\r\n",
    "print(f\"Recent query happens at {newest_dt.strftime(DATETIME_FORMAT)} ({newest_dt.tzname()}).\")"
   ]
  },
  {
   "cell_type": "code",
   "execution_count": 4,
   "metadata": {
    "execution": {
     "iopub.execute_input": "2021-08-30T04:50:22.957536Z",
     "iopub.status.busy": "2021-08-30T04:50:22.955326Z",
     "iopub.status.idle": "2021-08-30T04:50:22.959973Z",
     "shell.execute_reply": "2021-08-30T04:50:22.959435Z"
    }
   },
   "outputs": [],
   "source": [
    "def degrees_to_cardinal(d):\r\n",
    "  dirs = ['N', 'NNE', 'NE', 'ENE', 'E', 'ESE', 'SE', 'SSE', 'S', 'SSW', 'SW', 'WSW', 'W', 'WNW', 'NW', 'NNW']\r\n",
    "  ix = int(round(d / (360. / len(dirs))))\r\n",
    "  return dirs[ix % len(dirs)]"
   ]
  },
  {
   "cell_type": "code",
   "execution_count": 5,
   "metadata": {
    "execution": {
     "iopub.execute_input": "2021-08-30T04:50:22.964324Z",
     "iopub.status.busy": "2021-08-30T04:50:22.963189Z",
     "iopub.status.idle": "2021-08-30T04:50:22.964913Z",
     "shell.execute_reply": "2021-08-30T04:50:22.965334Z"
    }
   },
   "outputs": [],
   "source": [
    "# data.keys()"
   ]
  },
  {
   "cell_type": "code",
   "execution_count": 6,
   "metadata": {
    "execution": {
     "iopub.execute_input": "2021-08-30T04:50:22.969477Z",
     "iopub.status.busy": "2021-08-30T04:50:22.968245Z",
     "iopub.status.idle": "2021-08-30T04:50:22.970071Z",
     "shell.execute_reply": "2021-08-30T04:50:22.970495Z"
    }
   },
   "outputs": [],
   "source": [
    "# data['current']"
   ]
  },
  {
   "cell_type": "code",
   "execution_count": 7,
   "metadata": {
    "execution": {
     "iopub.execute_input": "2021-08-30T04:50:22.989875Z",
     "iopub.status.busy": "2021-08-30T04:50:22.989283Z",
     "iopub.status.idle": "2021-08-30T04:50:23.280292Z",
     "shell.execute_reply": "2021-08-30T04:50:23.281121Z"
    }
   },
   "outputs": [
    {
     "data": {
      "image/png": "[encoded data removed]",
      "text/plain": [
       "<Figure size 216x216 with 1 Axes>"
      ]
     },
     "metadata": {
      "needs_background": "light"
     },
     "output_type": "display_data"
    },
    {
     "name": "stdout",
     "output_type": "stream",
     "text": [
      "Today, sun rises at 06:05 and sets at 18:42.\n",
      "Currently, the weather is Clouds (few clouds).\n",
      "The temperature is 32.45°C and it feels like 39.45°C.\n",
      "The UV index is 11.63, humidity is 70%.\n",
      "The pressure is 1011 hPa, percentage of cloud cover is 12%\n",
      "The wind comes from E direction with a speed 5.35 m/s.\n"
     ]
    }
   ],
   "source": [
    "current = data['current']\r\n",
    "\r\n",
    "fig, ax = plt.subplots(figsize=(3, 3))\r\n",
    "icon = requests.get(f\"http://openweathermap.org/img/wn/{current['weather'][0]['icon']}@2x.png\")\r\n",
    "im = Image.open(BytesIO(icon.content))\r\n",
    "plt.imshow(im)\r\n",
    "ax.set_axis_off()\r\n",
    "plt.show()\r\n",
    "\r\n",
    "print(f\"Today, sun rises at {ts2dt(current['sunrise'], '%H:%M')[0]} \\\r\n",
    "and sets at {ts2dt(current['sunset'], '%H:%M')[0]}.\\n\\\r\n",
    "Currently, the weather is {current['weather'][0]['main']} ({current['weather'][0]['description']}).\\n\\\r\n",
    "The temperature is {current['temp']}°C and it feels like {current['feels_like']}°C.\\n\\\r\n",
    "The UV index is {current['uvi']}, humidity is {current['humidity']}%.\\n\\\r\n",
    "The pressure is {current['pressure']} hPa, percentage of cloud cover is {current['clouds']}%\\n\\\r\n",
    "The wind comes from {degrees_to_cardinal(current['wind_deg'])} direction with a speed {current['wind_speed']} m/s.\")"
   ]
  },
  {
   "cell_type": "code",
   "execution_count": 8,
   "metadata": {
    "execution": {
     "iopub.execute_input": "2021-08-30T04:50:23.284524Z",
     "iopub.status.busy": "2021-08-30T04:50:23.283998Z",
     "iopub.status.idle": "2021-08-30T04:50:23.291204Z",
     "shell.execute_reply": "2021-08-30T04:50:23.291921Z"
    }
   },
   "outputs": [],
   "source": [
    "df_hourly = pd.DataFrame(data['hourly'])\r\n",
    "df_daily = pd.DataFrame(data['daily'])"
   ]
  },
  {
   "cell_type": "code",
   "execution_count": 9,
   "metadata": {
    "execution": {
     "iopub.execute_input": "2021-08-30T04:50:23.295394Z",
     "iopub.status.busy": "2021-08-30T04:50:23.294317Z",
     "iopub.status.idle": "2021-08-30T04:50:23.595242Z",
     "shell.execute_reply": "2021-08-30T04:50:23.594780Z"
    }
   },
   "outputs": [
    {
     "data": {
      "image/png": "[encoded data removed]",
      "text/plain": [
       "<Figure size 864x432 with 1 Axes>"
      ]
     },
     "metadata": {
      "needs_background": "light"
     },
     "output_type": "display_data"
    }
   ],
   "source": [
    "fig, ax = plt.subplots(figsize=(12, 6))\r\n",
    "plt.plot(df_hourly.temp, '.-', label='Temperature')\r\n",
    "plt.plot(df_hourly.feels_like, '.-', label='Feels Like')\r\n",
    "ax.set(title='Temperature in future 48 hours', xlabel='Time', ylabel='Temperature')\r\n",
    "ax.set_xticks(list(range(0, len(df_hourly), 2)))\r\n",
    "ax.set_xticklabels([ts2dt(ts, '%m-%d %H:%M')[0] for i, ts in enumerate(df_hourly.dt) if i%2==0], \r\n",
    "                   rotation=45, ha=\"right\")\r\n",
    "ax.locator_params(nbins=15, axis='y')\r\n",
    "plt.legend()\r\n",
    "plt.show()"
   ]
  },
  {
   "cell_type": "code",
   "execution_count": 10,
   "metadata": {
    "execution": {
     "iopub.execute_input": "2021-08-30T04:50:23.607873Z",
     "iopub.status.busy": "2021-08-30T04:50:23.599702Z",
     "iopub.status.idle": "2021-08-30T04:50:23.619518Z",
     "shell.execute_reply": "2021-08-30T04:50:23.619937Z"
    }
   },
   "outputs": [
    {
     "data": {
      "text/html": [
       "<div>\n",
       "<style scoped>\n",
       "    .dataframe tbody tr th:only-of-type {\n",
       "        vertical-align: middle;\n",
       "    }\n",
       "\n",
       "    .dataframe tbody tr th {\n",
       "        vertical-align: top;\n",
       "    }\n",
       "\n",
       "    .dataframe thead th {\n",
       "        text-align: right;\n",
       "    }\n",
       "</style>\n",
       "<table border=\"1\" class=\"dataframe\">\n",
       "  <thead>\n",
       "    <tr style=\"text-align: right;\">\n",
       "      <th></th>\n",
       "      <th>dt</th>\n",
       "      <th>temp</th>\n",
       "      <th>feels_like</th>\n",
       "      <th>pressure</th>\n",
       "      <th>humidity</th>\n",
       "      <th>dew_point</th>\n",
       "      <th>uvi</th>\n",
       "      <th>clouds</th>\n",
       "      <th>visibility</th>\n",
       "      <th>wind_speed</th>\n",
       "      <th>wind_deg</th>\n",
       "      <th>wind_gust</th>\n",
       "      <th>weather</th>\n",
       "      <th>pop</th>\n",
       "      <th>rain</th>\n",
       "    </tr>\n",
       "  </thead>\n",
       "  <tbody>\n",
       "    <tr>\n",
       "      <th>0</th>\n",
       "      <td>1630296000</td>\n",
       "      <td>31.95</td>\n",
       "      <td>38.95</td>\n",
       "      <td>1011</td>\n",
       "      <td>69</td>\n",
       "      <td>25.55</td>\n",
       "      <td>11.84</td>\n",
       "      <td>12</td>\n",
       "      <td>10000</td>\n",
       "      <td>5.39</td>\n",
       "      <td>77</td>\n",
       "      <td>6.05</td>\n",
       "      <td>[{'id': 801, 'main': 'Clouds', 'description': ...</td>\n",
       "      <td>0.07</td>\n",
       "      <td>NaN</td>\n",
       "    </tr>\n",
       "    <tr>\n",
       "      <th>1</th>\n",
       "      <td>1630299600</td>\n",
       "      <td>32.45</td>\n",
       "      <td>39.45</td>\n",
       "      <td>1011</td>\n",
       "      <td>70</td>\n",
       "      <td>26.27</td>\n",
       "      <td>11.63</td>\n",
       "      <td>12</td>\n",
       "      <td>10000</td>\n",
       "      <td>5.35</td>\n",
       "      <td>81</td>\n",
       "      <td>6.08</td>\n",
       "      <td>[{'id': 801, 'main': 'Clouds', 'description': ...</td>\n",
       "      <td>0.07</td>\n",
       "      <td>NaN</td>\n",
       "    </tr>\n",
       "    <tr>\n",
       "      <th>2</th>\n",
       "      <td>1630303200</td>\n",
       "      <td>32.03</td>\n",
       "      <td>39.03</td>\n",
       "      <td>1011</td>\n",
       "      <td>69</td>\n",
       "      <td>25.62</td>\n",
       "      <td>9.64</td>\n",
       "      <td>12</td>\n",
       "      <td>10000</td>\n",
       "      <td>5.57</td>\n",
       "      <td>88</td>\n",
       "      <td>6.28</td>\n",
       "      <td>[{'id': 801, 'main': 'Clouds', 'description': ...</td>\n",
       "      <td>0.07</td>\n",
       "      <td>NaN</td>\n",
       "    </tr>\n",
       "    <tr>\n",
       "      <th>3</th>\n",
       "      <td>1630306800</td>\n",
       "      <td>31.54</td>\n",
       "      <td>38.43</td>\n",
       "      <td>1011</td>\n",
       "      <td>68</td>\n",
       "      <td>24.91</td>\n",
       "      <td>6.45</td>\n",
       "      <td>12</td>\n",
       "      <td>10000</td>\n",
       "      <td>5.47</td>\n",
       "      <td>94</td>\n",
       "      <td>6.45</td>\n",
       "      <td>[{'id': 500, 'main': 'Rain', 'description': 'l...</td>\n",
       "      <td>0.20</td>\n",
       "      <td>{'1h': 0.1}</td>\n",
       "    </tr>\n",
       "    <tr>\n",
       "      <th>4</th>\n",
       "      <td>1630310400</td>\n",
       "      <td>30.91</td>\n",
       "      <td>36.78</td>\n",
       "      <td>1010</td>\n",
       "      <td>68</td>\n",
       "      <td>24.31</td>\n",
       "      <td>3.40</td>\n",
       "      <td>19</td>\n",
       "      <td>10000</td>\n",
       "      <td>5.43</td>\n",
       "      <td>100</td>\n",
       "      <td>6.72</td>\n",
       "      <td>[{'id': 801, 'main': 'Clouds', 'description': ...</td>\n",
       "      <td>0.07</td>\n",
       "      <td>NaN</td>\n",
       "    </tr>\n",
       "  </tbody>\n",
       "</table>\n",
       "</div>"
      ],
      "text/plain": [
       "           dt   temp  feels_like  pressure  humidity  dew_point    uvi  \\\n",
       "0  1630296000  31.95       38.95      1011        69      25.55  11.84   \n",
       "1  1630299600  32.45       39.45      1011        70      26.27  11.63   \n",
       "2  1630303200  32.03       39.03      1011        69      25.62   9.64   \n",
       "3  1630306800  31.54       38.43      1011        68      24.91   6.45   \n",
       "4  1630310400  30.91       36.78      1010        68      24.31   3.40   \n",
       "\n",
       "   clouds  visibility  wind_speed  wind_deg  wind_gust  \\\n",
       "0      12       10000        5.39        77       6.05   \n",
       "1      12       10000        5.35        81       6.08   \n",
       "2      12       10000        5.57        88       6.28   \n",
       "3      12       10000        5.47        94       6.45   \n",
       "4      19       10000        5.43       100       6.72   \n",
       "\n",
       "                                             weather   pop         rain  \n",
       "0  [{'id': 801, 'main': 'Clouds', 'description': ...  0.07          NaN  \n",
       "1  [{'id': 801, 'main': 'Clouds', 'description': ...  0.07          NaN  \n",
       "2  [{'id': 801, 'main': 'Clouds', 'description': ...  0.07          NaN  \n",
       "3  [{'id': 500, 'main': 'Rain', 'description': 'l...  0.20  {'1h': 0.1}  \n",
       "4  [{'id': 801, 'main': 'Clouds', 'description': ...  0.07          NaN  "
      ]
     },
     "execution_count": 10,
     "metadata": {},
     "output_type": "execute_result"
    }
   ],
   "source": [
    "df_hourly.head()"
   ]
  },
  {
   "cell_type": "code",
   "execution_count": null,
   "metadata": {},
   "outputs": [],
   "source": []
  }
 ],
 "metadata": {
  "interpreter": {
   "hash": "c1b4cfe941b6d2466ad1fb5979e97da9cda8801728c8091b097ab734208fc00c"
  },
  "kernelspec": {
   "display_name": "Python 3.8.3 64-bit ('base': conda)",
   "name": "python3"
  },
  "language_info": {
   "codemirror_mode": {
    "name": "ipython",
    "version": 3
   },
   "file_extension": ".py",
   "mimetype": "text/x-python",
   "name": "python",
   "nbconvert_exporter": "python",
   "pygments_lexer": "ipython3",
   "version": "3.8.11"
  }
 },
 "nbformat": 4,
 "nbformat_minor": 2
}
