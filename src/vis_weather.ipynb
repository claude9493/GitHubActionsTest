{
 "cells": [
  {
   "cell_type": "code",
   "execution_count": 1,
   "metadata": {
    "execution": {
     "iopub.execute_input": "2021-10-07T04:15:15.216149Z",
     "iopub.status.busy": "2021-10-07T04:15:15.214934Z",
     "iopub.status.idle": "2021-10-07T04:15:16.695816Z",
     "shell.execute_reply": "2021-10-07T04:15:16.694819Z"
    }
   },
   "outputs": [],
   "source": [
    "import json, yaml, requests\r\n",
    "from datetime import datetime\r\n",
    "from dateutil import tz\r\n",
    "import pandas as pd\r\n",
    "from PIL import Image\r\n",
    "from io import BytesIO\r\n",
    "import matplotlib.pyplot as plt\r\n",
    "import seaborn\r\n",
    "\r\n",
    "CONFIG_PATH = \"../config/config.yaml\""
   ]
  },
  {
   "cell_type": "code",
   "execution_count": 2,
   "metadata": {
    "execution": {
     "iopub.execute_input": "2021-10-07T04:15:16.701532Z",
     "iopub.status.busy": "2021-10-07T04:15:16.700764Z",
     "iopub.status.idle": "2021-10-07T04:15:16.707760Z",
     "shell.execute_reply": "2021-10-07T04:15:16.707220Z"
    }
   },
   "outputs": [],
   "source": [
    "with open('../newest_ts', 'r') as f:\r\n",
    "    newest_ts = f.read()\r\n",
    "\r\n",
    "data_path = f\"../data/data_{newest_ts}.json\"\r\n",
    "with open(data_path, 'r') as f:\r\n",
    "    data = json.load(f)\r\n",
    "\r\n",
    "with open(CONFIG_PATH, \"r\") as stream:\r\n",
    "    config = yaml.safe_load(stream)\r\n",
    "\r\n",
    "TIME_ZONE = config['time_zone']\r\n",
    "DATETIME_FORMAT = config['dt_format']"
   ]
  },
  {
   "cell_type": "code",
   "execution_count": 3,
   "metadata": {
    "execution": {
     "iopub.execute_input": "2021-10-07T04:15:16.713132Z",
     "iopub.status.busy": "2021-10-07T04:15:16.712562Z",
     "iopub.status.idle": "2021-10-07T04:15:17.238579Z",
     "shell.execute_reply": "2021-10-07T04:15:17.239217Z"
    }
   },
   "outputs": [
    {
     "name": "stdout",
     "output_type": "stream",
     "text": [
      "Recent query happens at 2021-10-07 12:15:11 (CST).\n"
     ]
    }
   ],
   "source": [
    "def ts2dt(ts, format=DATETIME_FORMAT):\r\n",
    "    dt = (datetime.utcfromtimestamp(int(ts))\r\n",
    "                    .replace(tzinfo=tz.tzutc())\r\n",
    "                    # .astimezone(tz.tzlocal())\r\n",
    "                    .astimezone(tz.gettz(TIME_ZONE)))\r\n",
    "    return dt.strftime(format), dt\r\n",
    "\r\n",
    "_, newest_dt = ts2dt(newest_ts)\r\n",
    "print(f\"Recent query happens at {newest_dt.strftime(DATETIME_FORMAT)} ({newest_dt.tzname()}).\")"
   ]
  },
  {
   "cell_type": "code",
   "execution_count": 4,
   "metadata": {
    "execution": {
     "iopub.execute_input": "2021-10-07T04:15:17.244779Z",
     "iopub.status.busy": "2021-10-07T04:15:17.244249Z",
     "iopub.status.idle": "2021-10-07T04:15:17.246296Z",
     "shell.execute_reply": "2021-10-07T04:15:17.246932Z"
    }
   },
   "outputs": [],
   "source": [
    "def degrees_to_cardinal(d):\r\n",
    "  dirs = ['N', 'NNE', 'NE', 'ENE', 'E', 'ESE', 'SE', 'SSE', 'S', 'SSW', 'SW', 'WSW', 'W', 'WNW', 'NW', 'NNW']\r\n",
    "  ix = int(round(d / (360. / len(dirs))))\r\n",
    "  return dirs[ix % len(dirs)]"
   ]
  },
  {
   "cell_type": "code",
   "execution_count": 5,
   "metadata": {
    "execution": {
     "iopub.execute_input": "2021-10-07T04:15:17.250264Z",
     "iopub.status.busy": "2021-10-07T04:15:17.249733Z",
     "iopub.status.idle": "2021-10-07T04:15:17.253463Z",
     "shell.execute_reply": "2021-10-07T04:15:17.252895Z"
    }
   },
   "outputs": [],
   "source": [
    "# data.keys()"
   ]
  },
  {
   "cell_type": "code",
   "execution_count": 6,
   "metadata": {
    "execution": {
     "iopub.execute_input": "2021-10-07T04:15:17.257322Z",
     "iopub.status.busy": "2021-10-07T04:15:17.256202Z",
     "iopub.status.idle": "2021-10-07T04:15:17.259202Z",
     "shell.execute_reply": "2021-10-07T04:15:17.258578Z"
    }
   },
   "outputs": [],
   "source": [
    "# data['current']"
   ]
  },
  {
   "cell_type": "code",
   "execution_count": 7,
   "metadata": {
    "execution": {
     "iopub.execute_input": "2021-10-07T04:15:17.261684Z",
     "iopub.status.busy": "2021-10-07T04:15:17.261153Z",
     "iopub.status.idle": "2021-10-07T04:15:17.702679Z",
     "shell.execute_reply": "2021-10-07T04:15:17.703135Z"
    }
   },
   "outputs": [
    {
     "data": {
      "image/png": "[encoded data removed]",
      "text/plain": [
       "<Figure size 216x216 with 1 Axes>"
      ]
     },
     "metadata": {
      "needs_background": "light"
     },
     "output_type": "display_data"
    },
    {
     "name": "stdout",
     "output_type": "stream",
     "text": [
      "Today, sun rises at 06:16 and sets at 18:05.\n",
      "Currently, the weather is Clouds (few clouds).\n",
      "The temperature is 30.84°C and it feels like 36.05°C.\n",
      "The UV index is 9, humidity is 66%.\n",
      "The pressure is 1005 hPa, percentage of cloud cover is 11%\n",
      "The wind comes from SW direction with a speed 0.89 m/s.\n"
     ]
    }
   ],
   "source": [
    "current = data['current']\r\n",
    "\r\n",
    "fig, ax = plt.subplots(figsize=(3, 3))\r\n",
    "icon = requests.get(f\"http://openweathermap.org/img/wn/{current['weather'][0]['icon']}@2x.png\")\r\n",
    "im = Image.open(BytesIO(icon.content))\r\n",
    "plt.imshow(im)\r\n",
    "ax.set_axis_off()\r\n",
    "plt.show()\r\n",
    "\r\n",
    "print(f\"Today, sun rises at {ts2dt(current['sunrise'], '%H:%M')[0]} \\\r\n",
    "and sets at {ts2dt(current['sunset'], '%H:%M')[0]}.\\n\\\r\n",
    "Currently, the weather is {current['weather'][0]['main']} ({current['weather'][0]['description']}).\\n\\\r\n",
    "The temperature is {current['temp']}°C and it feels like {current['feels_like']}°C.\\n\\\r\n",
    "The UV index is {current['uvi']}, humidity is {current['humidity']}%.\\n\\\r\n",
    "The pressure is {current['pressure']} hPa, percentage of cloud cover is {current['clouds']}%\\n\\\r\n",
    "The wind comes from {degrees_to_cardinal(current['wind_deg'])} direction with a speed {current['wind_speed']} m/s.\")"
   ]
  },
  {
   "cell_type": "code",
   "execution_count": 8,
   "metadata": {
    "execution": {
     "iopub.execute_input": "2021-10-07T04:15:17.706503Z",
     "iopub.status.busy": "2021-10-07T04:15:17.706015Z",
     "iopub.status.idle": "2021-10-07T04:15:17.713570Z",
     "shell.execute_reply": "2021-10-07T04:15:17.714221Z"
    }
   },
   "outputs": [],
   "source": [
    "df_hourly = pd.DataFrame(data['hourly'])\r\n",
    "df_daily = pd.DataFrame(data['daily'])"
   ]
  },
  {
   "cell_type": "code",
   "execution_count": 9,
   "metadata": {
    "execution": {
     "iopub.execute_input": "2021-10-07T04:15:17.717784Z",
     "iopub.status.busy": "2021-10-07T04:15:17.717164Z",
     "iopub.status.idle": "2021-10-07T04:15:18.057439Z",
     "shell.execute_reply": "2021-10-07T04:15:18.058327Z"
    }
   },
   "outputs": [
    {
     "data": {
      "image/png": "[encoded data removed]",
      "text/plain": [
       "<Figure size 864x432 with 1 Axes>"
      ]
     },
     "metadata": {
      "needs_background": "light"
     },
     "output_type": "display_data"
    }
   ],
   "source": [
    "fig, ax = plt.subplots(figsize=(12, 6))\r\n",
    "plt.plot(df_hourly.temp, '.-', label='Temperature')\r\n",
    "plt.plot(df_hourly.feels_like, '.-', label='Feels Like')\r\n",
    "ax.set(title='Temperature in future 48 hours', xlabel='Time', ylabel='Temperature')\r\n",
    "ax.set_xticks(list(range(0, len(df_hourly), 2)))\r\n",
    "ax.set_xticklabels([ts2dt(ts, '%m-%d %H:%M')[0] for i, ts in enumerate(df_hourly.dt) if i%2==0], \r\n",
    "                   rotation=45, ha=\"right\")\r\n",
    "ax.locator_params(nbins=15, axis='y')\r\n",
    "plt.legend()\r\n",
    "plt.show()"
   ]
  },
  {
   "cell_type": "code",
   "execution_count": 10,
   "metadata": {
    "execution": {
     "iopub.execute_input": "2021-10-07T04:15:18.081039Z",
     "iopub.status.busy": "2021-10-07T04:15:18.072696Z",
     "iopub.status.idle": "2021-10-07T04:15:18.086320Z",
     "shell.execute_reply": "2021-10-07T04:15:18.086916Z"
    }
   },
   "outputs": [
    {
     "data": {
      "text/html": [
       "<div>\n",
       "<style scoped>\n",
       "    .dataframe tbody tr th:only-of-type {\n",
       "        vertical-align: middle;\n",
       "    }\n",
       "\n",
       "    .dataframe tbody tr th {\n",
       "        vertical-align: top;\n",
       "    }\n",
       "\n",
       "    .dataframe thead th {\n",
       "        text-align: right;\n",
       "    }\n",
       "</style>\n",
       "<table border=\"1\" class=\"dataframe\">\n",
       "  <thead>\n",
       "    <tr style=\"text-align: right;\">\n",
       "      <th></th>\n",
       "      <th>dt</th>\n",
       "      <th>temp</th>\n",
       "      <th>feels_like</th>\n",
       "      <th>pressure</th>\n",
       "      <th>humidity</th>\n",
       "      <th>dew_point</th>\n",
       "      <th>uvi</th>\n",
       "      <th>clouds</th>\n",
       "      <th>visibility</th>\n",
       "      <th>wind_speed</th>\n",
       "      <th>wind_deg</th>\n",
       "      <th>wind_gust</th>\n",
       "      <th>weather</th>\n",
       "      <th>pop</th>\n",
       "      <th>rain</th>\n",
       "    </tr>\n",
       "  </thead>\n",
       "  <tbody>\n",
       "    <tr>\n",
       "      <th>0</th>\n",
       "      <td>1633579200</td>\n",
       "      <td>30.84</td>\n",
       "      <td>36.05</td>\n",
       "      <td>1005</td>\n",
       "      <td>66</td>\n",
       "      <td>23.75</td>\n",
       "      <td>9.00</td>\n",
       "      <td>11</td>\n",
       "      <td>10000</td>\n",
       "      <td>9.79</td>\n",
       "      <td>70</td>\n",
       "      <td>13.28</td>\n",
       "      <td>[{'id': 801, 'main': 'Clouds', 'description': ...</td>\n",
       "      <td>0.33</td>\n",
       "      <td>NaN</td>\n",
       "    </tr>\n",
       "    <tr>\n",
       "      <th>1</th>\n",
       "      <td>1633582800</td>\n",
       "      <td>30.71</td>\n",
       "      <td>35.73</td>\n",
       "      <td>1005</td>\n",
       "      <td>66</td>\n",
       "      <td>23.63</td>\n",
       "      <td>8.83</td>\n",
       "      <td>11</td>\n",
       "      <td>10000</td>\n",
       "      <td>10.27</td>\n",
       "      <td>78</td>\n",
       "      <td>13.64</td>\n",
       "      <td>[{'id': 801, 'main': 'Clouds', 'description': ...</td>\n",
       "      <td>0.38</td>\n",
       "      <td>NaN</td>\n",
       "    </tr>\n",
       "    <tr>\n",
       "      <th>2</th>\n",
       "      <td>1633586400</td>\n",
       "      <td>30.31</td>\n",
       "      <td>35.29</td>\n",
       "      <td>1005</td>\n",
       "      <td>68</td>\n",
       "      <td>23.74</td>\n",
       "      <td>7.16</td>\n",
       "      <td>13</td>\n",
       "      <td>10000</td>\n",
       "      <td>10.87</td>\n",
       "      <td>84</td>\n",
       "      <td>14.23</td>\n",
       "      <td>[{'id': 801, 'main': 'Clouds', 'description': ...</td>\n",
       "      <td>0.42</td>\n",
       "      <td>NaN</td>\n",
       "    </tr>\n",
       "    <tr>\n",
       "      <th>3</th>\n",
       "      <td>1633590000</td>\n",
       "      <td>29.68</td>\n",
       "      <td>34.50</td>\n",
       "      <td>1004</td>\n",
       "      <td>71</td>\n",
       "      <td>23.86</td>\n",
       "      <td>4.37</td>\n",
       "      <td>54</td>\n",
       "      <td>10000</td>\n",
       "      <td>11.20</td>\n",
       "      <td>85</td>\n",
       "      <td>14.83</td>\n",
       "      <td>[{'id': 500, 'main': 'Rain', 'description': 'l...</td>\n",
       "      <td>0.66</td>\n",
       "      <td>{'1h': 0.5}</td>\n",
       "    </tr>\n",
       "    <tr>\n",
       "      <th>4</th>\n",
       "      <td>1633593600</td>\n",
       "      <td>28.63</td>\n",
       "      <td>32.98</td>\n",
       "      <td>1004</td>\n",
       "      <td>76</td>\n",
       "      <td>23.98</td>\n",
       "      <td>2.08</td>\n",
       "      <td>73</td>\n",
       "      <td>10000</td>\n",
       "      <td>11.28</td>\n",
       "      <td>85</td>\n",
       "      <td>15.14</td>\n",
       "      <td>[{'id': 500, 'main': 'Rain', 'description': 'l...</td>\n",
       "      <td>0.70</td>\n",
       "      <td>{'1h': 0.78}</td>\n",
       "    </tr>\n",
       "  </tbody>\n",
       "</table>\n",
       "</div>"
      ],
      "text/plain": [
       "           dt   temp  feels_like  pressure  humidity  dew_point   uvi  clouds  \\\n",
       "0  1633579200  30.84       36.05      1005        66      23.75  9.00      11   \n",
       "1  1633582800  30.71       35.73      1005        66      23.63  8.83      11   \n",
       "2  1633586400  30.31       35.29      1005        68      23.74  7.16      13   \n",
       "3  1633590000  29.68       34.50      1004        71      23.86  4.37      54   \n",
       "4  1633593600  28.63       32.98      1004        76      23.98  2.08      73   \n",
       "\n",
       "   visibility  wind_speed  wind_deg  wind_gust  \\\n",
       "0       10000        9.79        70      13.28   \n",
       "1       10000       10.27        78      13.64   \n",
       "2       10000       10.87        84      14.23   \n",
       "3       10000       11.20        85      14.83   \n",
       "4       10000       11.28        85      15.14   \n",
       "\n",
       "                                             weather   pop          rain  \n",
       "0  [{'id': 801, 'main': 'Clouds', 'description': ...  0.33           NaN  \n",
       "1  [{'id': 801, 'main': 'Clouds', 'description': ...  0.38           NaN  \n",
       "2  [{'id': 801, 'main': 'Clouds', 'description': ...  0.42           NaN  \n",
       "3  [{'id': 500, 'main': 'Rain', 'description': 'l...  0.66   {'1h': 0.5}  \n",
       "4  [{'id': 500, 'main': 'Rain', 'description': 'l...  0.70  {'1h': 0.78}  "
      ]
     },
     "execution_count": 10,
     "metadata": {},
     "output_type": "execute_result"
    }
   ],
   "source": [
    "df_hourly.head()"
   ]
  },
  {
   "cell_type": "code",
   "execution_count": null,
   "metadata": {},
   "outputs": [],
   "source": []
  }
 ],
 "metadata": {
  "interpreter": {
   "hash": "c1b4cfe941b6d2466ad1fb5979e97da9cda8801728c8091b097ab734208fc00c"
  },
  "kernelspec": {
   "display_name": "Python 3.8.3 64-bit ('base': conda)",
   "name": "python3"
  },
  "language_info": {
   "codemirror_mode": {
    "name": "ipython",
    "version": 3
   },
   "file_extension": ".py",
   "mimetype": "text/x-python",
   "name": "python",
   "nbconvert_exporter": "python",
   "pygments_lexer": "ipython3",
   "version": "3.8.12"
  }
 },
 "nbformat": 4,
 "nbformat_minor": 2
}
