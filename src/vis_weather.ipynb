{
 "cells": [
  {
   "cell_type": "code",
   "execution_count": 1,
   "metadata": {
    "execution": {
     "iopub.execute_input": "2021-08-25T09:40:12.367140Z",
     "iopub.status.busy": "2021-08-25T09:40:12.366480Z",
     "iopub.status.idle": "2021-08-25T09:40:17.510174Z",
     "shell.execute_reply": "2021-08-25T09:40:17.509594Z"
    }
   },
   "outputs": [],
   "source": [
    "import json, yaml, requests\r\n",
    "from datetime import datetime\r\n",
    "from dateutil import tz\r\n",
    "import pandas as pd\r\n",
    "from PIL import Image\r\n",
    "from io import BytesIO\r\n",
    "import matplotlib.pyplot as plt\r\n",
    "import seaborn\r\n",
    "\r\n",
    "CONFIG_PATH = \"../config/config.yaml\""
   ]
  },
  {
   "cell_type": "code",
   "execution_count": 2,
   "metadata": {
    "execution": {
     "iopub.execute_input": "2021-08-25T09:40:17.515404Z",
     "iopub.status.busy": "2021-08-25T09:40:17.514722Z",
     "iopub.status.idle": "2021-08-25T09:40:17.520013Z",
     "shell.execute_reply": "2021-08-25T09:40:17.519579Z"
    }
   },
   "outputs": [],
   "source": [
    "with open('../newest_ts', 'r') as f:\r\n",
    "    newest_ts = f.read()\r\n",
    "\r\n",
    "data_path = f\"../data/data_{newest_ts}.json\"\r\n",
    "with open(data_path, 'r') as f:\r\n",
    "    data = json.load(f)\r\n",
    "\r\n",
    "with open(CONFIG_PATH, \"r\") as stream:\r\n",
    "    config = yaml.safe_load(stream)\r\n",
    "\r\n",
    "TIME_ZONE = config['time_zone']\r\n",
    "DATETIME_FORMAT = config['dt_format']"
   ]
  },
  {
   "cell_type": "code",
   "execution_count": 3,
   "metadata": {
    "execution": {
     "iopub.execute_input": "2021-08-25T09:40:17.524614Z",
     "iopub.status.busy": "2021-08-25T09:40:17.524080Z",
     "iopub.status.idle": "2021-08-25T09:40:17.528736Z",
     "shell.execute_reply": "2021-08-25T09:40:17.529175Z"
    }
   },
   "outputs": [
    {
     "name": "stdout",
     "output_type": "stream",
     "text": [
      "Recent query happens at 2021-08-25 17:40:08 (CST).\n"
     ]
    }
   ],
   "source": [
    "def ts2dt(ts, format=DATETIME_FORMAT):\r\n",
    "    dt = (datetime.utcfromtimestamp(int(ts))\r\n",
    "                    .replace(tzinfo=tz.tzutc())\r\n",
    "                    # .astimezone(tz.tzlocal())\r\n",
    "                    .astimezone(tz.gettz(TIME_ZONE)))\r\n",
    "    return dt.strftime(format), dt\r\n",
    "\r\n",
    "_, newest_dt = ts2dt(newest_ts)\r\n",
    "print(f\"Recent query happens at {newest_dt.strftime(DATETIME_FORMAT)} ({newest_dt.tzname()}).\")"
   ]
  },
  {
   "cell_type": "code",
   "execution_count": 4,
   "metadata": {
    "execution": {
     "iopub.execute_input": "2021-08-25T09:40:17.534676Z",
     "iopub.status.busy": "2021-08-25T09:40:17.533374Z",
     "iopub.status.idle": "2021-08-25T09:40:17.535251Z",
     "shell.execute_reply": "2021-08-25T09:40:17.535695Z"
    }
   },
   "outputs": [],
   "source": [
    "def degrees_to_cardinal(d):\r\n",
    "  dirs = ['N', 'NNE', 'NE', 'ENE', 'E', 'ESE', 'SE', 'SSE', 'S', 'SSW', 'SW', 'WSW', 'W', 'WNW', 'NW', 'NNW']\r\n",
    "  ix = int(round(d / (360. / len(dirs))))\r\n",
    "  return dirs[ix % len(dirs)]"
   ]
  },
  {
   "cell_type": "code",
   "execution_count": 5,
   "metadata": {
    "execution": {
     "iopub.execute_input": "2021-08-25T09:40:17.540439Z",
     "iopub.status.busy": "2021-08-25T09:40:17.538985Z",
     "iopub.status.idle": "2021-08-25T09:40:17.541049Z",
     "shell.execute_reply": "2021-08-25T09:40:17.541594Z"
    }
   },
   "outputs": [],
   "source": [
    "# data.keys()"
   ]
  },
  {
   "cell_type": "code",
   "execution_count": 6,
   "metadata": {
    "execution": {
     "iopub.execute_input": "2021-08-25T09:40:17.545692Z",
     "iopub.status.busy": "2021-08-25T09:40:17.544485Z",
     "iopub.status.idle": "2021-08-25T09:40:17.546265Z",
     "shell.execute_reply": "2021-08-25T09:40:17.546698Z"
    }
   },
   "outputs": [],
   "source": [
    "# data['current']"
   ]
  },
  {
   "cell_type": "code",
   "execution_count": 7,
   "metadata": {
    "execution": {
     "iopub.execute_input": "2021-08-25T09:40:17.576263Z",
     "iopub.status.busy": "2021-08-25T09:40:17.572744Z",
     "iopub.status.idle": "2021-08-25T09:40:18.030747Z",
     "shell.execute_reply": "2021-08-25T09:40:18.031528Z"
    }
   },
   "outputs": [
    {
     "data": {
      "image/png": "[encoded data removed]",
      "text/plain": [
       "<Figure size 216x216 with 1 Axes>"
      ]
     },
     "metadata": {
      "needs_background": "light"
     },
     "output_type": "display_data"
    },
    {
     "name": "stdout",
     "output_type": "stream",
     "text": [
      "Today, sun rises at 06:03 and sets at 18:46.\n",
      "Currently, the weather is Clouds (broken clouds).\n",
      "The temperature is 31.1°C and it feels like 38.1°C.\n",
      "The UV index is 0.23, humidity is 75%.\n",
      "The pressure is 1008 hPa, percentage of cloud cover is 70%\n",
      "The wind comes from SE direction with a speed 3.36 m/s.\n"
     ]
    }
   ],
   "source": [
    "current = data['current']\r\n",
    "\r\n",
    "fig, ax = plt.subplots(figsize=(3, 3))\r\n",
    "icon = requests.get(f\"http://openweathermap.org/img/wn/{current['weather'][0]['icon']}@2x.png\")\r\n",
    "im = Image.open(BytesIO(icon.content))\r\n",
    "plt.imshow(im)\r\n",
    "ax.set_axis_off()\r\n",
    "plt.show()\r\n",
    "\r\n",
    "print(f\"Today, sun rises at {ts2dt(current['sunrise'], '%H:%M')[0]} \\\r\n",
    "and sets at {ts2dt(current['sunset'], '%H:%M')[0]}.\\n\\\r\n",
    "Currently, the weather is {current['weather'][0]['main']} ({current['weather'][0]['description']}).\\n\\\r\n",
    "The temperature is {current['temp']}°C and it feels like {current['feels_like']}°C.\\n\\\r\n",
    "The UV index is {current['uvi']}, humidity is {current['humidity']}%.\\n\\\r\n",
    "The pressure is {current['pressure']} hPa, percentage of cloud cover is {current['clouds']}%\\n\\\r\n",
    "The wind comes from {degrees_to_cardinal(current['wind_deg'])} direction with a speed {current['wind_speed']} m/s.\")"
   ]
  },
  {
   "cell_type": "code",
   "execution_count": 8,
   "metadata": {
    "execution": {
     "iopub.execute_input": "2021-08-25T09:40:18.035137Z",
     "iopub.status.busy": "2021-08-25T09:40:18.034541Z",
     "iopub.status.idle": "2021-08-25T09:40:18.042437Z",
     "shell.execute_reply": "2021-08-25T09:40:18.043259Z"
    }
   },
   "outputs": [],
   "source": [
    "df_hourly = pd.DataFrame(data['hourly'])\r\n",
    "df_daily = pd.DataFrame(data['daily'])"
   ]
  },
  {
   "cell_type": "code",
   "execution_count": 9,
   "metadata": {
    "execution": {
     "iopub.execute_input": "2021-08-25T09:40:18.046493Z",
     "iopub.status.busy": "2021-08-25T09:40:18.045924Z",
     "iopub.status.idle": "2021-08-25T09:40:18.359985Z",
     "shell.execute_reply": "2021-08-25T09:40:18.359454Z"
    }
   },
   "outputs": [
    {
     "data": {
      "image/png": "[encoded data removed]",
      "text/plain": [
       "<Figure size 864x432 with 1 Axes>"
      ]
     },
     "metadata": {
      "needs_background": "light"
     },
     "output_type": "display_data"
    }
   ],
   "source": [
    "fig, ax = plt.subplots(figsize=(12, 6))\r\n",
    "plt.plot(df_hourly.temp, '.-', label='Temperature')\r\n",
    "plt.plot(df_hourly.feels_like, '.-', label='Feels Like')\r\n",
    "ax.set(title='Temperature in future 48 hours', xlabel='Time', ylabel='Temperature')\r\n",
    "ax.set_xticks(list(range(0, len(df_hourly), 2)))\r\n",
    "ax.set_xticklabels([ts2dt(ts, '%m-%d %H:%M')[0] for i, ts in enumerate(df_hourly.dt) if i%2==0], \r\n",
    "                   rotation=45, ha=\"right\")\r\n",
    "ax.locator_params(nbins=15, axis='y')\r\n",
    "plt.legend()\r\n",
    "plt.show()"
   ]
  },
  {
   "cell_type": "code",
   "execution_count": 10,
   "metadata": {
    "execution": {
     "iopub.execute_input": "2021-08-25T09:40:18.365119Z",
     "iopub.status.busy": "2021-08-25T09:40:18.364221Z",
     "iopub.status.idle": "2021-08-25T09:40:18.384726Z",
     "shell.execute_reply": "2021-08-25T09:40:18.385234Z"
    }
   },
   "outputs": [
    {
     "data": {
      "text/html": [
       "<div>\n",
       "<style scoped>\n",
       "    .dataframe tbody tr th:only-of-type {\n",
       "        vertical-align: middle;\n",
       "    }\n",
       "\n",
       "    .dataframe tbody tr th {\n",
       "        vertical-align: top;\n",
       "    }\n",
       "\n",
       "    .dataframe thead th {\n",
       "        text-align: right;\n",
       "    }\n",
       "</style>\n",
       "<table border=\"1\" class=\"dataframe\">\n",
       "  <thead>\n",
       "    <tr style=\"text-align: right;\">\n",
       "      <th></th>\n",
       "      <th>dt</th>\n",
       "      <th>temp</th>\n",
       "      <th>feels_like</th>\n",
       "      <th>pressure</th>\n",
       "      <th>humidity</th>\n",
       "      <th>dew_point</th>\n",
       "      <th>uvi</th>\n",
       "      <th>clouds</th>\n",
       "      <th>visibility</th>\n",
       "      <th>wind_speed</th>\n",
       "      <th>wind_deg</th>\n",
       "      <th>wind_gust</th>\n",
       "      <th>weather</th>\n",
       "      <th>pop</th>\n",
       "      <th>rain</th>\n",
       "    </tr>\n",
       "  </thead>\n",
       "  <tbody>\n",
       "    <tr>\n",
       "      <th>0</th>\n",
       "      <td>1629882000</td>\n",
       "      <td>30.74</td>\n",
       "      <td>37.74</td>\n",
       "      <td>1008</td>\n",
       "      <td>74</td>\n",
       "      <td>25.57</td>\n",
       "      <td>1.25</td>\n",
       "      <td>74</td>\n",
       "      <td>10000</td>\n",
       "      <td>3.75</td>\n",
       "      <td>133</td>\n",
       "      <td>4.20</td>\n",
       "      <td>[{'id': 500, 'main': 'Rain', 'description': 'l...</td>\n",
       "      <td>0.62</td>\n",
       "      <td>{'1h': 0.12}</td>\n",
       "    </tr>\n",
       "    <tr>\n",
       "      <th>1</th>\n",
       "      <td>1629885600</td>\n",
       "      <td>31.10</td>\n",
       "      <td>38.10</td>\n",
       "      <td>1008</td>\n",
       "      <td>75</td>\n",
       "      <td>26.14</td>\n",
       "      <td>0.23</td>\n",
       "      <td>70</td>\n",
       "      <td>10000</td>\n",
       "      <td>3.36</td>\n",
       "      <td>130</td>\n",
       "      <td>4.20</td>\n",
       "      <td>[{'id': 803, 'main': 'Clouds', 'description': ...</td>\n",
       "      <td>0.62</td>\n",
       "      <td>NaN</td>\n",
       "    </tr>\n",
       "    <tr>\n",
       "      <th>2</th>\n",
       "      <td>1629889200</td>\n",
       "      <td>30.56</td>\n",
       "      <td>37.56</td>\n",
       "      <td>1008</td>\n",
       "      <td>76</td>\n",
       "      <td>25.84</td>\n",
       "      <td>0.00</td>\n",
       "      <td>71</td>\n",
       "      <td>10000</td>\n",
       "      <td>3.00</td>\n",
       "      <td>126</td>\n",
       "      <td>3.90</td>\n",
       "      <td>[{'id': 803, 'main': 'Clouds', 'description': ...</td>\n",
       "      <td>0.61</td>\n",
       "      <td>NaN</td>\n",
       "    </tr>\n",
       "    <tr>\n",
       "      <th>3</th>\n",
       "      <td>1629892800</td>\n",
       "      <td>29.94</td>\n",
       "      <td>36.66</td>\n",
       "      <td>1008</td>\n",
       "      <td>77</td>\n",
       "      <td>25.47</td>\n",
       "      <td>0.00</td>\n",
       "      <td>69</td>\n",
       "      <td>10000</td>\n",
       "      <td>2.93</td>\n",
       "      <td>119</td>\n",
       "      <td>3.94</td>\n",
       "      <td>[{'id': 803, 'main': 'Clouds', 'description': ...</td>\n",
       "      <td>0.61</td>\n",
       "      <td>NaN</td>\n",
       "    </tr>\n",
       "    <tr>\n",
       "      <th>4</th>\n",
       "      <td>1629896400</td>\n",
       "      <td>29.33</td>\n",
       "      <td>35.68</td>\n",
       "      <td>1009</td>\n",
       "      <td>80</td>\n",
       "      <td>25.52</td>\n",
       "      <td>0.00</td>\n",
       "      <td>67</td>\n",
       "      <td>10000</td>\n",
       "      <td>2.80</td>\n",
       "      <td>116</td>\n",
       "      <td>3.86</td>\n",
       "      <td>[{'id': 803, 'main': 'Clouds', 'description': ...</td>\n",
       "      <td>0.03</td>\n",
       "      <td>NaN</td>\n",
       "    </tr>\n",
       "  </tbody>\n",
       "</table>\n",
       "</div>"
      ],
      "text/plain": [
       "           dt   temp  feels_like  pressure  humidity  dew_point   uvi  clouds  \\\n",
       "0  1629882000  30.74       37.74      1008        74      25.57  1.25      74   \n",
       "1  1629885600  31.10       38.10      1008        75      26.14  0.23      70   \n",
       "2  1629889200  30.56       37.56      1008        76      25.84  0.00      71   \n",
       "3  1629892800  29.94       36.66      1008        77      25.47  0.00      69   \n",
       "4  1629896400  29.33       35.68      1009        80      25.52  0.00      67   \n",
       "\n",
       "   visibility  wind_speed  wind_deg  wind_gust  \\\n",
       "0       10000        3.75       133       4.20   \n",
       "1       10000        3.36       130       4.20   \n",
       "2       10000        3.00       126       3.90   \n",
       "3       10000        2.93       119       3.94   \n",
       "4       10000        2.80       116       3.86   \n",
       "\n",
       "                                             weather   pop          rain  \n",
       "0  [{'id': 500, 'main': 'Rain', 'description': 'l...  0.62  {'1h': 0.12}  \n",
       "1  [{'id': 803, 'main': 'Clouds', 'description': ...  0.62           NaN  \n",
       "2  [{'id': 803, 'main': 'Clouds', 'description': ...  0.61           NaN  \n",
       "3  [{'id': 803, 'main': 'Clouds', 'description': ...  0.61           NaN  \n",
       "4  [{'id': 803, 'main': 'Clouds', 'description': ...  0.03           NaN  "
      ]
     },
     "execution_count": 10,
     "metadata": {},
     "output_type": "execute_result"
    }
   ],
   "source": [
    "df_hourly.head()"
   ]
  },
  {
   "cell_type": "code",
   "execution_count": null,
   "metadata": {},
   "outputs": [],
   "source": []
  }
 ],
 "metadata": {
  "interpreter": {
   "hash": "c1b4cfe941b6d2466ad1fb5979e97da9cda8801728c8091b097ab734208fc00c"
  },
  "kernelspec": {
   "display_name": "Python 3.8.3 64-bit ('base': conda)",
   "name": "python3"
  },
  "language_info": {
   "codemirror_mode": {
    "name": "ipython",
    "version": 3
   },
   "file_extension": ".py",
   "mimetype": "text/x-python",
   "name": "python",
   "nbconvert_exporter": "python",
   "pygments_lexer": "ipython3",
   "version": "3.8.11"
  }
 },
 "nbformat": 4,
 "nbformat_minor": 2
}
