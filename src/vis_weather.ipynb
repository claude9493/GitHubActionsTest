{
 "cells": [
  {
   "cell_type": "code",
   "execution_count": 1,
   "metadata": {
    "execution": {
     "iopub.execute_input": "2021-09-28T21:08:29.784420Z",
     "iopub.status.busy": "2021-09-28T21:08:29.783414Z",
     "iopub.status.idle": "2021-09-28T21:08:32.294391Z",
     "shell.execute_reply": "2021-09-28T21:08:32.293660Z"
    }
   },
   "outputs": [],
   "source": [
    "import json, yaml, requests\r\n",
    "from datetime import datetime\r\n",
    "from dateutil import tz\r\n",
    "import pandas as pd\r\n",
    "from PIL import Image\r\n",
    "from io import BytesIO\r\n",
    "import matplotlib.pyplot as plt\r\n",
    "import seaborn\r\n",
    "\r\n",
    "CONFIG_PATH = \"../config/config.yaml\""
   ]
  },
  {
   "cell_type": "code",
   "execution_count": 2,
   "metadata": {
    "execution": {
     "iopub.execute_input": "2021-09-28T21:08:32.302849Z",
     "iopub.status.busy": "2021-09-28T21:08:32.299402Z",
     "iopub.status.idle": "2021-09-28T21:08:32.305718Z",
     "shell.execute_reply": "2021-09-28T21:08:32.305264Z"
    }
   },
   "outputs": [],
   "source": [
    "with open('../newest_ts', 'r') as f:\r\n",
    "    newest_ts = f.read()\r\n",
    "\r\n",
    "data_path = f\"../data/data_{newest_ts}.json\"\r\n",
    "with open(data_path, 'r') as f:\r\n",
    "    data = json.load(f)\r\n",
    "\r\n",
    "with open(CONFIG_PATH, \"r\") as stream:\r\n",
    "    config = yaml.safe_load(stream)\r\n",
    "\r\n",
    "TIME_ZONE = config['time_zone']\r\n",
    "DATETIME_FORMAT = config['dt_format']"
   ]
  },
  {
   "cell_type": "code",
   "execution_count": 3,
   "metadata": {
    "execution": {
     "iopub.execute_input": "2021-09-28T21:08:32.313675Z",
     "iopub.status.busy": "2021-09-28T21:08:32.313127Z",
     "iopub.status.idle": "2021-09-28T21:08:32.328901Z",
     "shell.execute_reply": "2021-09-28T21:08:32.325430Z"
    }
   },
   "outputs": [
    {
     "name": "stdout",
     "output_type": "stream",
     "text": [
      "Recent query happens at 2021-09-29 05:08:26 (CST).\n"
     ]
    }
   ],
   "source": [
    "def ts2dt(ts, format=DATETIME_FORMAT):\r\n",
    "    dt = (datetime.utcfromtimestamp(int(ts))\r\n",
    "                    .replace(tzinfo=tz.tzutc())\r\n",
    "                    # .astimezone(tz.tzlocal())\r\n",
    "                    .astimezone(tz.gettz(TIME_ZONE)))\r\n",
    "    return dt.strftime(format), dt\r\n",
    "\r\n",
    "_, newest_dt = ts2dt(newest_ts)\r\n",
    "print(f\"Recent query happens at {newest_dt.strftime(DATETIME_FORMAT)} ({newest_dt.tzname()}).\")"
   ]
  },
  {
   "cell_type": "code",
   "execution_count": 4,
   "metadata": {
    "execution": {
     "iopub.execute_input": "2021-09-28T21:08:32.335782Z",
     "iopub.status.busy": "2021-09-28T21:08:32.335239Z",
     "iopub.status.idle": "2021-09-28T21:08:32.338316Z",
     "shell.execute_reply": "2021-09-28T21:08:32.338724Z"
    }
   },
   "outputs": [],
   "source": [
    "def degrees_to_cardinal(d):\r\n",
    "  dirs = ['N', 'NNE', 'NE', 'ENE', 'E', 'ESE', 'SE', 'SSE', 'S', 'SSW', 'SW', 'WSW', 'W', 'WNW', 'NW', 'NNW']\r\n",
    "  ix = int(round(d / (360. / len(dirs))))\r\n",
    "  return dirs[ix % len(dirs)]"
   ]
  },
  {
   "cell_type": "code",
   "execution_count": 5,
   "metadata": {
    "execution": {
     "iopub.execute_input": "2021-09-28T21:08:32.342515Z",
     "iopub.status.busy": "2021-09-28T21:08:32.341978Z",
     "iopub.status.idle": "2021-09-28T21:08:32.345132Z",
     "shell.execute_reply": "2021-09-28T21:08:32.345537Z"
    }
   },
   "outputs": [],
   "source": [
    "# data.keys()"
   ]
  },
  {
   "cell_type": "code",
   "execution_count": 6,
   "metadata": {
    "execution": {
     "iopub.execute_input": "2021-09-28T21:08:32.349029Z",
     "iopub.status.busy": "2021-09-28T21:08:32.348468Z",
     "iopub.status.idle": "2021-09-28T21:08:32.351661Z",
     "shell.execute_reply": "2021-09-28T21:08:32.350933Z"
    }
   },
   "outputs": [],
   "source": [
    "# data['current']"
   ]
  },
  {
   "cell_type": "code",
   "execution_count": 7,
   "metadata": {
    "execution": {
     "iopub.execute_input": "2021-09-28T21:08:32.372821Z",
     "iopub.status.busy": "2021-09-28T21:08:32.372243Z",
     "iopub.status.idle": "2021-09-28T21:08:32.686635Z",
     "shell.execute_reply": "2021-09-28T21:08:32.687402Z"
    }
   },
   "outputs": [
    {
     "data": {
      "image/png": "[encoded data removed]",
      "text/plain": [
       "<Figure size 216x216 with 1 Axes>"
      ]
     },
     "metadata": {
      "needs_background": "light"
     },
     "output_type": "display_data"
    },
    {
     "name": "stdout",
     "output_type": "stream",
     "text": [
      "Today, sun rises at 06:13 and sets at 18:12.\n",
      "Currently, the weather is Clouds (few clouds).\n",
      "The temperature is 27.9°C and it feels like 32.94°C.\n",
      "The UV index is 0, humidity is 87%.\n",
      "The pressure is 1007 hPa, percentage of cloud cover is 17%\n",
      "The wind comes from WSW direction with a speed 0.45 m/s.\n"
     ]
    }
   ],
   "source": [
    "current = data['current']\r\n",
    "\r\n",
    "fig, ax = plt.subplots(figsize=(3, 3))\r\n",
    "icon = requests.get(f\"http://openweathermap.org/img/wn/{current['weather'][0]['icon']}@2x.png\")\r\n",
    "im = Image.open(BytesIO(icon.content))\r\n",
    "plt.imshow(im)\r\n",
    "ax.set_axis_off()\r\n",
    "plt.show()\r\n",
    "\r\n",
    "print(f\"Today, sun rises at {ts2dt(current['sunrise'], '%H:%M')[0]} \\\r\n",
    "and sets at {ts2dt(current['sunset'], '%H:%M')[0]}.\\n\\\r\n",
    "Currently, the weather is {current['weather'][0]['main']} ({current['weather'][0]['description']}).\\n\\\r\n",
    "The temperature is {current['temp']}°C and it feels like {current['feels_like']}°C.\\n\\\r\n",
    "The UV index is {current['uvi']}, humidity is {current['humidity']}%.\\n\\\r\n",
    "The pressure is {current['pressure']} hPa, percentage of cloud cover is {current['clouds']}%\\n\\\r\n",
    "The wind comes from {degrees_to_cardinal(current['wind_deg'])} direction with a speed {current['wind_speed']} m/s.\")"
   ]
  },
  {
   "cell_type": "code",
   "execution_count": 8,
   "metadata": {
    "execution": {
     "iopub.execute_input": "2021-09-28T21:08:32.691142Z",
     "iopub.status.busy": "2021-09-28T21:08:32.690071Z",
     "iopub.status.idle": "2021-09-28T21:08:32.697945Z",
     "shell.execute_reply": "2021-09-28T21:08:32.698704Z"
    }
   },
   "outputs": [],
   "source": [
    "df_hourly = pd.DataFrame(data['hourly'])\r\n",
    "df_daily = pd.DataFrame(data['daily'])"
   ]
  },
  {
   "cell_type": "code",
   "execution_count": 9,
   "metadata": {
    "execution": {
     "iopub.execute_input": "2021-09-28T21:08:32.702215Z",
     "iopub.status.busy": "2021-09-28T21:08:32.701141Z",
     "iopub.status.idle": "2021-09-28T21:08:32.984753Z",
     "shell.execute_reply": "2021-09-28T21:08:32.984227Z"
    }
   },
   "outputs": [
    {
     "data": {
      "image/png": "[encoded data removed]",
      "text/plain": [
       "<Figure size 864x432 with 1 Axes>"
      ]
     },
     "metadata": {
      "needs_background": "light"
     },
     "output_type": "display_data"
    }
   ],
   "source": [
    "fig, ax = plt.subplots(figsize=(12, 6))\r\n",
    "plt.plot(df_hourly.temp, '.-', label='Temperature')\r\n",
    "plt.plot(df_hourly.feels_like, '.-', label='Feels Like')\r\n",
    "ax.set(title='Temperature in future 48 hours', xlabel='Time', ylabel='Temperature')\r\n",
    "ax.set_xticks(list(range(0, len(df_hourly), 2)))\r\n",
    "ax.set_xticklabels([ts2dt(ts, '%m-%d %H:%M')[0] for i, ts in enumerate(df_hourly.dt) if i%2==0], \r\n",
    "                   rotation=45, ha=\"right\")\r\n",
    "ax.locator_params(nbins=15, axis='y')\r\n",
    "plt.legend()\r\n",
    "plt.show()"
   ]
  },
  {
   "cell_type": "code",
   "execution_count": 10,
   "metadata": {
    "execution": {
     "iopub.execute_input": "2021-09-28T21:08:32.989345Z",
     "iopub.status.busy": "2021-09-28T21:08:32.988801Z",
     "iopub.status.idle": "2021-09-28T21:08:33.009011Z",
     "shell.execute_reply": "2021-09-28T21:08:33.008490Z"
    }
   },
   "outputs": [
    {
     "data": {
      "text/html": [
       "<div>\n",
       "<style scoped>\n",
       "    .dataframe tbody tr th:only-of-type {\n",
       "        vertical-align: middle;\n",
       "    }\n",
       "\n",
       "    .dataframe tbody tr th {\n",
       "        vertical-align: top;\n",
       "    }\n",
       "\n",
       "    .dataframe thead th {\n",
       "        text-align: right;\n",
       "    }\n",
       "</style>\n",
       "<table border=\"1\" class=\"dataframe\">\n",
       "  <thead>\n",
       "    <tr style=\"text-align: right;\">\n",
       "      <th></th>\n",
       "      <th>dt</th>\n",
       "      <th>temp</th>\n",
       "      <th>feels_like</th>\n",
       "      <th>pressure</th>\n",
       "      <th>humidity</th>\n",
       "      <th>dew_point</th>\n",
       "      <th>uvi</th>\n",
       "      <th>clouds</th>\n",
       "      <th>visibility</th>\n",
       "      <th>wind_speed</th>\n",
       "      <th>wind_deg</th>\n",
       "      <th>wind_gust</th>\n",
       "      <th>weather</th>\n",
       "      <th>pop</th>\n",
       "      <th>rain</th>\n",
       "    </tr>\n",
       "  </thead>\n",
       "  <tbody>\n",
       "    <tr>\n",
       "      <th>0</th>\n",
       "      <td>1632862800</td>\n",
       "      <td>27.90</td>\n",
       "      <td>32.94</td>\n",
       "      <td>1007</td>\n",
       "      <td>87</td>\n",
       "      <td>25.53</td>\n",
       "      <td>0.00</td>\n",
       "      <td>17</td>\n",
       "      <td>10000</td>\n",
       "      <td>0.69</td>\n",
       "      <td>259</td>\n",
       "      <td>0.94</td>\n",
       "      <td>[{'id': 801, 'main': 'Clouds', 'description': ...</td>\n",
       "      <td>0.04</td>\n",
       "      <td>NaN</td>\n",
       "    </tr>\n",
       "    <tr>\n",
       "      <th>1</th>\n",
       "      <td>1632866400</td>\n",
       "      <td>27.66</td>\n",
       "      <td>31.95</td>\n",
       "      <td>1007</td>\n",
       "      <td>85</td>\n",
       "      <td>24.91</td>\n",
       "      <td>0.00</td>\n",
       "      <td>16</td>\n",
       "      <td>10000</td>\n",
       "      <td>0.62</td>\n",
       "      <td>275</td>\n",
       "      <td>0.83</td>\n",
       "      <td>[{'id': 500, 'main': 'Rain', 'description': 'l...</td>\n",
       "      <td>0.24</td>\n",
       "      <td>{'1h': 0.1}</td>\n",
       "    </tr>\n",
       "    <tr>\n",
       "      <th>2</th>\n",
       "      <td>1632870000</td>\n",
       "      <td>27.54</td>\n",
       "      <td>31.36</td>\n",
       "      <td>1008</td>\n",
       "      <td>83</td>\n",
       "      <td>24.39</td>\n",
       "      <td>0.17</td>\n",
       "      <td>15</td>\n",
       "      <td>10000</td>\n",
       "      <td>0.62</td>\n",
       "      <td>293</td>\n",
       "      <td>0.83</td>\n",
       "      <td>[{'id': 500, 'main': 'Rain', 'description': 'l...</td>\n",
       "      <td>0.24</td>\n",
       "      <td>{'1h': 0.1}</td>\n",
       "    </tr>\n",
       "    <tr>\n",
       "      <th>3</th>\n",
       "      <td>1632873600</td>\n",
       "      <td>27.87</td>\n",
       "      <td>31.78</td>\n",
       "      <td>1008</td>\n",
       "      <td>80</td>\n",
       "      <td>24.10</td>\n",
       "      <td>1.01</td>\n",
       "      <td>12</td>\n",
       "      <td>10000</td>\n",
       "      <td>0.67</td>\n",
       "      <td>275</td>\n",
       "      <td>0.99</td>\n",
       "      <td>[{'id': 801, 'main': 'Clouds', 'description': ...</td>\n",
       "      <td>0.04</td>\n",
       "      <td>NaN</td>\n",
       "    </tr>\n",
       "    <tr>\n",
       "      <th>4</th>\n",
       "      <td>1632877200</td>\n",
       "      <td>28.59</td>\n",
       "      <td>32.70</td>\n",
       "      <td>1009</td>\n",
       "      <td>75</td>\n",
       "      <td>23.72</td>\n",
       "      <td>2.92</td>\n",
       "      <td>3</td>\n",
       "      <td>10000</td>\n",
       "      <td>1.01</td>\n",
       "      <td>232</td>\n",
       "      <td>1.28</td>\n",
       "      <td>[{'id': 800, 'main': 'Clear', 'description': '...</td>\n",
       "      <td>0.00</td>\n",
       "      <td>NaN</td>\n",
       "    </tr>\n",
       "  </tbody>\n",
       "</table>\n",
       "</div>"
      ],
      "text/plain": [
       "           dt   temp  feels_like  pressure  humidity  dew_point   uvi  clouds  \\\n",
       "0  1632862800  27.90       32.94      1007        87      25.53  0.00      17   \n",
       "1  1632866400  27.66       31.95      1007        85      24.91  0.00      16   \n",
       "2  1632870000  27.54       31.36      1008        83      24.39  0.17      15   \n",
       "3  1632873600  27.87       31.78      1008        80      24.10  1.01      12   \n",
       "4  1632877200  28.59       32.70      1009        75      23.72  2.92       3   \n",
       "\n",
       "   visibility  wind_speed  wind_deg  wind_gust  \\\n",
       "0       10000        0.69       259       0.94   \n",
       "1       10000        0.62       275       0.83   \n",
       "2       10000        0.62       293       0.83   \n",
       "3       10000        0.67       275       0.99   \n",
       "4       10000        1.01       232       1.28   \n",
       "\n",
       "                                             weather   pop         rain  \n",
       "0  [{'id': 801, 'main': 'Clouds', 'description': ...  0.04          NaN  \n",
       "1  [{'id': 500, 'main': 'Rain', 'description': 'l...  0.24  {'1h': 0.1}  \n",
       "2  [{'id': 500, 'main': 'Rain', 'description': 'l...  0.24  {'1h': 0.1}  \n",
       "3  [{'id': 801, 'main': 'Clouds', 'description': ...  0.04          NaN  \n",
       "4  [{'id': 800, 'main': 'Clear', 'description': '...  0.00          NaN  "
      ]
     },
     "execution_count": 10,
     "metadata": {},
     "output_type": "execute_result"
    }
   ],
   "source": [
    "df_hourly.head()"
   ]
  },
  {
   "cell_type": "code",
   "execution_count": null,
   "metadata": {},
   "outputs": [],
   "source": []
  }
 ],
 "metadata": {
  "interpreter": {
   "hash": "c1b4cfe941b6d2466ad1fb5979e97da9cda8801728c8091b097ab734208fc00c"
  },
  "kernelspec": {
   "display_name": "Python 3.8.3 64-bit ('base': conda)",
   "name": "python3"
  },
  "language_info": {
   "codemirror_mode": {
    "name": "ipython",
    "version": 3
   },
   "file_extension": ".py",
   "mimetype": "text/x-python",
   "name": "python",
   "nbconvert_exporter": "python",
   "pygments_lexer": "ipython3",
   "version": "3.8.12"
  }
 },
 "nbformat": 4,
 "nbformat_minor": 2
}
