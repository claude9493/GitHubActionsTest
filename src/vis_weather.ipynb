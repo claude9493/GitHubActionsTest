{
 "cells": [
  {
   "cell_type": "code",
   "execution_count": 1,
   "metadata": {
    "execution": {
     "iopub.execute_input": "2021-10-14T09:12:03.646908Z",
     "iopub.status.busy": "2021-10-14T09:12:03.646206Z",
     "iopub.status.idle": "2021-10-14T09:12:13.612119Z",
     "shell.execute_reply": "2021-10-14T09:12:13.611411Z"
    }
   },
   "outputs": [
    {
     "name": "stderr",
     "output_type": "stream",
     "text": [
      "Matplotlib is building the font cache; this may take a moment.\n"
     ]
    }
   ],
   "source": [
    "import json, yaml, requests\r\n",
    "from datetime import datetime\r\n",
    "from dateutil import tz\r\n",
    "import pandas as pd\r\n",
    "from PIL import Image\r\n",
    "from io import BytesIO\r\n",
    "import matplotlib.pyplot as plt\r\n",
    "import seaborn\r\n",
    "\r\n",
    "CONFIG_PATH = \"../config/config.yaml\""
   ]
  },
  {
   "cell_type": "code",
   "execution_count": 2,
   "metadata": {
    "execution": {
     "iopub.execute_input": "2021-10-14T09:12:13.619961Z",
     "iopub.status.busy": "2021-10-14T09:12:13.616662Z",
     "iopub.status.idle": "2021-10-14T09:12:13.622827Z",
     "shell.execute_reply": "2021-10-14T09:12:13.622352Z"
    }
   },
   "outputs": [],
   "source": [
    "with open('../newest_ts', 'r') as f:\r\n",
    "    newest_ts = f.read()\r\n",
    "\r\n",
    "data_path = f\"../data/data_{newest_ts}.json\"\r\n",
    "with open(data_path, 'r') as f:\r\n",
    "    data = json.load(f)\r\n",
    "\r\n",
    "with open(CONFIG_PATH, \"r\") as stream:\r\n",
    "    config = yaml.safe_load(stream)\r\n",
    "\r\n",
    "TIME_ZONE = config['time_zone']\r\n",
    "DATETIME_FORMAT = config['dt_format']"
   ]
  },
  {
   "cell_type": "code",
   "execution_count": 3,
   "metadata": {
    "execution": {
     "iopub.execute_input": "2021-10-14T09:12:13.627322Z",
     "iopub.status.busy": "2021-10-14T09:12:13.626589Z",
     "iopub.status.idle": "2021-10-14T09:12:13.631517Z",
     "shell.execute_reply": "2021-10-14T09:12:13.631996Z"
    }
   },
   "outputs": [
    {
     "name": "stdout",
     "output_type": "stream",
     "text": [
      "Recent query happens at 2021-10-14 17:11:56 (CST).\n"
     ]
    }
   ],
   "source": [
    "def ts2dt(ts, format=DATETIME_FORMAT):\r\n",
    "    dt = (datetime.utcfromtimestamp(int(ts))\r\n",
    "                    .replace(tzinfo=tz.tzutc())\r\n",
    "                    # .astimezone(tz.tzlocal())\r\n",
    "                    .astimezone(tz.gettz(TIME_ZONE)))\r\n",
    "    return dt.strftime(format), dt\r\n",
    "\r\n",
    "_, newest_dt = ts2dt(newest_ts)\r\n",
    "print(f\"Recent query happens at {newest_dt.strftime(DATETIME_FORMAT)} ({newest_dt.tzname()}).\")"
   ]
  },
  {
   "cell_type": "code",
   "execution_count": 4,
   "metadata": {
    "execution": {
     "iopub.execute_input": "2021-10-14T09:12:13.638048Z",
     "iopub.status.busy": "2021-10-14T09:12:13.636493Z",
     "iopub.status.idle": "2021-10-14T09:12:13.638681Z",
     "shell.execute_reply": "2021-10-14T09:12:13.639120Z"
    }
   },
   "outputs": [],
   "source": [
    "def degrees_to_cardinal(d):\r\n",
    "  dirs = ['N', 'NNE', 'NE', 'ENE', 'E', 'ESE', 'SE', 'SSE', 'S', 'SSW', 'SW', 'WSW', 'W', 'WNW', 'NW', 'NNW']\r\n",
    "  ix = int(round(d / (360. / len(dirs))))\r\n",
    "  return dirs[ix % len(dirs)]"
   ]
  },
  {
   "cell_type": "code",
   "execution_count": 5,
   "metadata": {
    "execution": {
     "iopub.execute_input": "2021-10-14T09:12:13.643868Z",
     "iopub.status.busy": "2021-10-14T09:12:13.642480Z",
     "iopub.status.idle": "2021-10-14T09:12:13.644503Z",
     "shell.execute_reply": "2021-10-14T09:12:13.644981Z"
    }
   },
   "outputs": [],
   "source": [
    "# data.keys()"
   ]
  },
  {
   "cell_type": "code",
   "execution_count": 6,
   "metadata": {
    "execution": {
     "iopub.execute_input": "2021-10-14T09:12:13.649748Z",
     "iopub.status.busy": "2021-10-14T09:12:13.648383Z",
     "iopub.status.idle": "2021-10-14T09:12:13.650351Z",
     "shell.execute_reply": "2021-10-14T09:12:13.650833Z"
    }
   },
   "outputs": [],
   "source": [
    "# data['current']"
   ]
  },
  {
   "cell_type": "code",
   "execution_count": 7,
   "metadata": {
    "execution": {
     "iopub.execute_input": "2021-10-14T09:12:13.670677Z",
     "iopub.status.busy": "2021-10-14T09:12:13.670054Z",
     "iopub.status.idle": "2021-10-14T09:12:14.078109Z",
     "shell.execute_reply": "2021-10-14T09:12:14.078621Z"
    }
   },
   "outputs": [
    {
     "data": {
      "image/png": "[encoded data removed]",
      "text/plain": [
       "<Figure size 216x216 with 1 Axes>"
      ]
     },
     "metadata": {
      "needs_background": "light"
     },
     "output_type": "display_data"
    },
    {
     "name": "stdout",
     "output_type": "stream",
     "text": [
      "Today, sun rises at 06:18 and sets at 17:59.\n",
      "Currently, the weather is Clouds (broken clouds).\n",
      "The temperature is 28.87°C and it feels like 34.59°C.\n",
      "The UV index is 0.48, humidity is 81%.\n",
      "The pressure is 1007 hPa, percentage of cloud cover is 65%\n",
      "The wind comes from E direction with a speed 5.36 m/s.\n"
     ]
    }
   ],
   "source": [
    "current = data['current']\r\n",
    "\r\n",
    "fig, ax = plt.subplots(figsize=(3, 3))\r\n",
    "icon = requests.get(f\"http://openweathermap.org/img/wn/{current['weather'][0]['icon']}@2x.png\")\r\n",
    "im = Image.open(BytesIO(icon.content))\r\n",
    "plt.imshow(im)\r\n",
    "ax.set_axis_off()\r\n",
    "plt.show()\r\n",
    "\r\n",
    "print(f\"Today, sun rises at {ts2dt(current['sunrise'], '%H:%M')[0]} \\\r\n",
    "and sets at {ts2dt(current['sunset'], '%H:%M')[0]}.\\n\\\r\n",
    "Currently, the weather is {current['weather'][0]['main']} ({current['weather'][0]['description']}).\\n\\\r\n",
    "The temperature is {current['temp']}°C and it feels like {current['feels_like']}°C.\\n\\\r\n",
    "The UV index is {current['uvi']}, humidity is {current['humidity']}%.\\n\\\r\n",
    "The pressure is {current['pressure']} hPa, percentage of cloud cover is {current['clouds']}%\\n\\\r\n",
    "The wind comes from {degrees_to_cardinal(current['wind_deg'])} direction with a speed {current['wind_speed']} m/s.\")"
   ]
  },
  {
   "cell_type": "code",
   "execution_count": 8,
   "metadata": {
    "execution": {
     "iopub.execute_input": "2021-10-14T09:12:14.081651Z",
     "iopub.status.busy": "2021-10-14T09:12:14.080972Z",
     "iopub.status.idle": "2021-10-14T09:12:14.087645Z",
     "shell.execute_reply": "2021-10-14T09:12:14.088317Z"
    }
   },
   "outputs": [],
   "source": [
    "df_hourly = pd.DataFrame(data['hourly'])\r\n",
    "df_daily = pd.DataFrame(data['daily'])"
   ]
  },
  {
   "cell_type": "code",
   "execution_count": 9,
   "metadata": {
    "execution": {
     "iopub.execute_input": "2021-10-14T09:12:14.090825Z",
     "iopub.status.busy": "2021-10-14T09:12:14.090221Z",
     "iopub.status.idle": "2021-10-14T09:12:14.396782Z",
     "shell.execute_reply": "2021-10-14T09:12:14.396232Z"
    }
   },
   "outputs": [
    {
     "data": {
      "image/png": "[encoded data removed]",
      "text/plain": [
       "<Figure size 864x432 with 1 Axes>"
      ]
     },
     "metadata": {
      "needs_background": "light"
     },
     "output_type": "display_data"
    }
   ],
   "source": [
    "fig, ax = plt.subplots(figsize=(12, 6))\r\n",
    "plt.plot(df_hourly.temp, '.-', label='Temperature')\r\n",
    "plt.plot(df_hourly.feels_like, '.-', label='Feels Like')\r\n",
    "ax.set(title='Temperature in future 48 hours', xlabel='Time', ylabel='Temperature')\r\n",
    "ax.set_xticks(list(range(0, len(df_hourly), 2)))\r\n",
    "ax.set_xticklabels([ts2dt(ts, '%m-%d %H:%M')[0] for i, ts in enumerate(df_hourly.dt) if i%2==0], \r\n",
    "                   rotation=45, ha=\"right\")\r\n",
    "ax.locator_params(nbins=15, axis='y')\r\n",
    "plt.legend()\r\n",
    "plt.show()"
   ]
  },
  {
   "cell_type": "code",
   "execution_count": 10,
   "metadata": {
    "execution": {
     "iopub.execute_input": "2021-10-14T09:12:14.401169Z",
     "iopub.status.busy": "2021-10-14T09:12:14.400638Z",
     "iopub.status.idle": "2021-10-14T09:12:14.420495Z",
     "shell.execute_reply": "2021-10-14T09:12:14.420937Z"
    }
   },
   "outputs": [
    {
     "data": {
      "text/html": [
       "<div>\n",
       "<style scoped>\n",
       "    .dataframe tbody tr th:only-of-type {\n",
       "        vertical-align: middle;\n",
       "    }\n",
       "\n",
       "    .dataframe tbody tr th {\n",
       "        vertical-align: top;\n",
       "    }\n",
       "\n",
       "    .dataframe thead th {\n",
       "        text-align: right;\n",
       "    }\n",
       "</style>\n",
       "<table border=\"1\" class=\"dataframe\">\n",
       "  <thead>\n",
       "    <tr style=\"text-align: right;\">\n",
       "      <th></th>\n",
       "      <th>dt</th>\n",
       "      <th>temp</th>\n",
       "      <th>feels_like</th>\n",
       "      <th>pressure</th>\n",
       "      <th>humidity</th>\n",
       "      <th>dew_point</th>\n",
       "      <th>uvi</th>\n",
       "      <th>clouds</th>\n",
       "      <th>visibility</th>\n",
       "      <th>wind_speed</th>\n",
       "      <th>wind_deg</th>\n",
       "      <th>wind_gust</th>\n",
       "      <th>weather</th>\n",
       "      <th>pop</th>\n",
       "      <th>rain</th>\n",
       "    </tr>\n",
       "  </thead>\n",
       "  <tbody>\n",
       "    <tr>\n",
       "      <th>0</th>\n",
       "      <td>1634202000</td>\n",
       "      <td>28.87</td>\n",
       "      <td>34.59</td>\n",
       "      <td>1007</td>\n",
       "      <td>81</td>\n",
       "      <td>25.28</td>\n",
       "      <td>0.48</td>\n",
       "      <td>65</td>\n",
       "      <td>10000</td>\n",
       "      <td>4.42</td>\n",
       "      <td>69</td>\n",
       "      <td>5.93</td>\n",
       "      <td>[{'id': 500, 'main': 'Rain', 'description': 'l...</td>\n",
       "      <td>0.92</td>\n",
       "      <td>{'1h': 0.15}</td>\n",
       "    </tr>\n",
       "    <tr>\n",
       "      <th>1</th>\n",
       "      <td>1634205600</td>\n",
       "      <td>28.45</td>\n",
       "      <td>33.62</td>\n",
       "      <td>1007</td>\n",
       "      <td>82</td>\n",
       "      <td>25.08</td>\n",
       "      <td>0.00</td>\n",
       "      <td>67</td>\n",
       "      <td>10000</td>\n",
       "      <td>4.22</td>\n",
       "      <td>68</td>\n",
       "      <td>5.96</td>\n",
       "      <td>[{'id': 803, 'main': 'Clouds', 'description': ...</td>\n",
       "      <td>0.80</td>\n",
       "      <td>NaN</td>\n",
       "    </tr>\n",
       "    <tr>\n",
       "      <th>2</th>\n",
       "      <td>1634209200</td>\n",
       "      <td>27.83</td>\n",
       "      <td>32.12</td>\n",
       "      <td>1008</td>\n",
       "      <td>83</td>\n",
       "      <td>24.67</td>\n",
       "      <td>0.00</td>\n",
       "      <td>71</td>\n",
       "      <td>10000</td>\n",
       "      <td>4.46</td>\n",
       "      <td>64</td>\n",
       "      <td>6.23</td>\n",
       "      <td>[{'id': 803, 'main': 'Clouds', 'description': ...</td>\n",
       "      <td>0.80</td>\n",
       "      <td>NaN</td>\n",
       "    </tr>\n",
       "    <tr>\n",
       "      <th>3</th>\n",
       "      <td>1634212800</td>\n",
       "      <td>27.11</td>\n",
       "      <td>30.50</td>\n",
       "      <td>1009</td>\n",
       "      <td>85</td>\n",
       "      <td>24.37</td>\n",
       "      <td>0.00</td>\n",
       "      <td>75</td>\n",
       "      <td>10000</td>\n",
       "      <td>3.94</td>\n",
       "      <td>63</td>\n",
       "      <td>5.50</td>\n",
       "      <td>[{'id': 500, 'main': 'Rain', 'description': 'l...</td>\n",
       "      <td>1.00</td>\n",
       "      <td>{'1h': 0.45}</td>\n",
       "    </tr>\n",
       "    <tr>\n",
       "      <th>4</th>\n",
       "      <td>1634216400</td>\n",
       "      <td>26.24</td>\n",
       "      <td>26.24</td>\n",
       "      <td>1010</td>\n",
       "      <td>86</td>\n",
       "      <td>23.71</td>\n",
       "      <td>0.00</td>\n",
       "      <td>93</td>\n",
       "      <td>10000</td>\n",
       "      <td>3.29</td>\n",
       "      <td>39</td>\n",
       "      <td>4.65</td>\n",
       "      <td>[{'id': 500, 'main': 'Rain', 'description': 'l...</td>\n",
       "      <td>0.65</td>\n",
       "      <td>{'1h': 0.52}</td>\n",
       "    </tr>\n",
       "  </tbody>\n",
       "</table>\n",
       "</div>"
      ],
      "text/plain": [
       "           dt   temp  feels_like  pressure  humidity  dew_point   uvi  clouds  \\\n",
       "0  1634202000  28.87       34.59      1007        81      25.28  0.48      65   \n",
       "1  1634205600  28.45       33.62      1007        82      25.08  0.00      67   \n",
       "2  1634209200  27.83       32.12      1008        83      24.67  0.00      71   \n",
       "3  1634212800  27.11       30.50      1009        85      24.37  0.00      75   \n",
       "4  1634216400  26.24       26.24      1010        86      23.71  0.00      93   \n",
       "\n",
       "   visibility  wind_speed  wind_deg  wind_gust  \\\n",
       "0       10000        4.42        69       5.93   \n",
       "1       10000        4.22        68       5.96   \n",
       "2       10000        4.46        64       6.23   \n",
       "3       10000        3.94        63       5.50   \n",
       "4       10000        3.29        39       4.65   \n",
       "\n",
       "                                             weather   pop          rain  \n",
       "0  [{'id': 500, 'main': 'Rain', 'description': 'l...  0.92  {'1h': 0.15}  \n",
       "1  [{'id': 803, 'main': 'Clouds', 'description': ...  0.80           NaN  \n",
       "2  [{'id': 803, 'main': 'Clouds', 'description': ...  0.80           NaN  \n",
       "3  [{'id': 500, 'main': 'Rain', 'description': 'l...  1.00  {'1h': 0.45}  \n",
       "4  [{'id': 500, 'main': 'Rain', 'description': 'l...  0.65  {'1h': 0.52}  "
      ]
     },
     "execution_count": 10,
     "metadata": {},
     "output_type": "execute_result"
    }
   ],
   "source": [
    "df_hourly.head()"
   ]
  },
  {
   "cell_type": "code",
   "execution_count": null,
   "metadata": {},
   "outputs": [],
   "source": []
  }
 ],
 "metadata": {
  "interpreter": {
   "hash": "c1b4cfe941b6d2466ad1fb5979e97da9cda8801728c8091b097ab734208fc00c"
  },
  "kernelspec": {
   "display_name": "Python 3.8.3 64-bit ('base': conda)",
   "name": "python3"
  },
  "language_info": {
   "codemirror_mode": {
    "name": "ipython",
    "version": 3
   },
   "file_extension": ".py",
   "mimetype": "text/x-python",
   "name": "python",
   "nbconvert_exporter": "python",
   "pygments_lexer": "ipython3",
   "version": "3.8.12"
  }
 },
 "nbformat": 4,
 "nbformat_minor": 2
}
