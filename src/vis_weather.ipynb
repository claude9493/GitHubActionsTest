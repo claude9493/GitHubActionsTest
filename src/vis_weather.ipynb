{
 "cells": [
  {
   "cell_type": "code",
   "execution_count": 1,
   "metadata": {
    "execution": {
     "iopub.execute_input": "2021-08-25T03:40:56.111498Z",
     "iopub.status.busy": "2021-08-25T03:40:56.110552Z",
     "iopub.status.idle": "2021-08-25T03:40:57.642037Z",
     "shell.execute_reply": "2021-08-25T03:40:57.642550Z"
    }
   },
   "outputs": [],
   "source": [
    "import json, yaml, requests\r\n",
    "from datetime import datetime\r\n",
    "from dateutil import tz\r\n",
    "import pandas as pd\r\n",
    "from PIL import Image\r\n",
    "from io import BytesIO\r\n",
    "import matplotlib.pyplot as plt\r\n",
    "import seaborn\r\n",
    "\r\n",
    "CONFIG_PATH = \"../config/config.yaml\""
   ]
  },
  {
   "cell_type": "code",
   "execution_count": 2,
   "metadata": {
    "execution": {
     "iopub.execute_input": "2021-08-25T03:40:57.652443Z",
     "iopub.status.busy": "2021-08-25T03:40:57.648892Z",
     "iopub.status.idle": "2021-08-25T03:40:57.655405Z",
     "shell.execute_reply": "2021-08-25T03:40:57.656011Z"
    }
   },
   "outputs": [],
   "source": [
    "with open('../newest_ts', 'r') as f:\r\n",
    "    newest_ts = f.read()\r\n",
    "\r\n",
    "data_path = f\"../data/data_{newest_ts}.json\"\r\n",
    "with open(data_path, 'r') as f:\r\n",
    "    data = json.load(f)\r\n",
    "\r\n",
    "with open(CONFIG_PATH, \"r\") as stream:\r\n",
    "    config = yaml.safe_load(stream)\r\n",
    "\r\n",
    "TIME_ZONE = config['time_zone']\r\n",
    "DATETIME_FORMAT = config['dt_format']"
   ]
  },
  {
   "cell_type": "code",
   "execution_count": 3,
   "metadata": {
    "execution": {
     "iopub.execute_input": "2021-08-25T03:40:57.662282Z",
     "iopub.status.busy": "2021-08-25T03:40:57.660968Z",
     "iopub.status.idle": "2021-08-25T03:40:57.669250Z",
     "shell.execute_reply": "2021-08-25T03:40:57.669764Z"
    }
   },
   "outputs": [
    {
     "name": "stdout",
     "output_type": "stream",
     "text": [
      "Recent query happens at 2021-08-25 11:40:53 (CST).\n"
     ]
    }
   ],
   "source": [
    "def ts2dt(ts, format=DATETIME_FORMAT):\r\n",
    "    dt = (datetime.utcfromtimestamp(int(ts))\r\n",
    "                    .replace(tzinfo=tz.tzutc())\r\n",
    "                    # .astimezone(tz.tzlocal())\r\n",
    "                    .astimezone(tz.gettz(TIME_ZONE)))\r\n",
    "    return dt.strftime(format), dt\r\n",
    "\r\n",
    "_, newest_dt = ts2dt(newest_ts)\r\n",
    "print(f\"Recent query happens at {newest_dt.strftime(DATETIME_FORMAT)} ({newest_dt.tzname()}).\")"
   ]
  },
  {
   "cell_type": "code",
   "execution_count": 4,
   "metadata": {
    "execution": {
     "iopub.execute_input": "2021-08-25T03:40:57.676055Z",
     "iopub.status.busy": "2021-08-25T03:40:57.674511Z",
     "iopub.status.idle": "2021-08-25T03:40:57.676767Z",
     "shell.execute_reply": "2021-08-25T03:40:57.677693Z"
    }
   },
   "outputs": [],
   "source": [
    "def degrees_to_cardinal(d):\r\n",
    "  dirs = ['N', 'NNE', 'NE', 'ENE', 'E', 'ESE', 'SE', 'SSE', 'S', 'SSW', 'SW', 'WSW', 'W', 'WNW', 'NW', 'NNW']\r\n",
    "  ix = int(round(d / (360. / len(dirs))))\r\n",
    "  return dirs[ix % len(dirs)]"
   ]
  },
  {
   "cell_type": "code",
   "execution_count": 5,
   "metadata": {
    "execution": {
     "iopub.execute_input": "2021-08-25T03:40:57.682998Z",
     "iopub.status.busy": "2021-08-25T03:40:57.682373Z",
     "iopub.status.idle": "2021-08-25T03:40:57.688865Z",
     "shell.execute_reply": "2021-08-25T03:40:57.688228Z"
    }
   },
   "outputs": [],
   "source": [
    "# data.keys()"
   ]
  },
  {
   "cell_type": "code",
   "execution_count": 6,
   "metadata": {
    "execution": {
     "iopub.execute_input": "2021-08-25T03:40:57.692943Z",
     "iopub.status.busy": "2021-08-25T03:40:57.692328Z",
     "iopub.status.idle": "2021-08-25T03:40:57.696327Z",
     "shell.execute_reply": "2021-08-25T03:40:57.695755Z"
    }
   },
   "outputs": [],
   "source": [
    "# data['current']"
   ]
  },
  {
   "cell_type": "code",
   "execution_count": 7,
   "metadata": {
    "execution": {
     "iopub.execute_input": "2021-08-25T03:40:57.720216Z",
     "iopub.status.busy": "2021-08-25T03:40:57.719549Z",
     "iopub.status.idle": "2021-08-25T03:40:58.088986Z",
     "shell.execute_reply": "2021-08-25T03:40:58.089814Z"
    }
   },
   "outputs": [
    {
     "data": {
      "image/png": "[encoded data removed]",
      "text/plain": [
       "<Figure size 216x216 with 1 Axes>"
      ]
     },
     "metadata": {
      "needs_background": "light"
     },
     "output_type": "display_data"
    },
    {
     "name": "stdout",
     "output_type": "stream",
     "text": [
      "Today, sun rises at 06:03 and sets at 18:46.\n",
      "Currently, the weather is Clouds (overcast clouds).\n",
      "The temperature is 32.24°C and it feels like 39.24°C.\n",
      "The UV index is 11.58, humidity is 70%.\n",
      "The pressure is 1009 hPa, percentage of cloud cover is 100%\n",
      "The wind comes from SE direction with a speed 2.95 m/s.\n"
     ]
    }
   ],
   "source": [
    "current = data['current']\r\n",
    "\r\n",
    "fig, ax = plt.subplots(figsize=(3, 3))\r\n",
    "icon = requests.get(f\"http://openweathermap.org/img/wn/{current['weather'][0]['icon']}@2x.png\")\r\n",
    "im = Image.open(BytesIO(icon.content))\r\n",
    "plt.imshow(im)\r\n",
    "ax.set_axis_off()\r\n",
    "plt.show()\r\n",
    "\r\n",
    "print(f\"Today, sun rises at {ts2dt(current['sunrise'], '%H:%M')[0]} \\\r\n",
    "and sets at {ts2dt(current['sunset'], '%H:%M')[0]}.\\n\\\r\n",
    "Currently, the weather is {current['weather'][0]['main']} ({current['weather'][0]['description']}).\\n\\\r\n",
    "The temperature is {current['temp']}°C and it feels like {current['feels_like']}°C.\\n\\\r\n",
    "The UV index is {current['uvi']}, humidity is {current['humidity']}%.\\n\\\r\n",
    "The pressure is {current['pressure']} hPa, percentage of cloud cover is {current['clouds']}%\\n\\\r\n",
    "The wind comes from {degrees_to_cardinal(current['wind_deg'])} direction with a speed {current['wind_speed']} m/s.\")"
   ]
  },
  {
   "cell_type": "code",
   "execution_count": 8,
   "metadata": {
    "execution": {
     "iopub.execute_input": "2021-08-25T03:40:58.094048Z",
     "iopub.status.busy": "2021-08-25T03:40:58.092931Z",
     "iopub.status.idle": "2021-08-25T03:40:58.101500Z",
     "shell.execute_reply": "2021-08-25T03:40:58.102673Z"
    }
   },
   "outputs": [],
   "source": [
    "df_hourly = pd.DataFrame(data['hourly'])\r\n",
    "df_daily = pd.DataFrame(data['daily'])"
   ]
  },
  {
   "cell_type": "code",
   "execution_count": 9,
   "metadata": {
    "execution": {
     "iopub.execute_input": "2021-08-25T03:40:58.106143Z",
     "iopub.status.busy": "2021-08-25T03:40:58.105013Z",
     "iopub.status.idle": "2021-08-25T03:40:58.458049Z",
     "shell.execute_reply": "2021-08-25T03:40:58.458772Z"
    }
   },
   "outputs": [
    {
     "data": {
      "image/png": "[encoded data removed]",
      "text/plain": [
       "<Figure size 864x432 with 1 Axes>"
      ]
     },
     "metadata": {
      "needs_background": "light"
     },
     "output_type": "display_data"
    }
   ],
   "source": [
    "fig, ax = plt.subplots(figsize=(12, 6))\r\n",
    "plt.plot(df_hourly.temp, '.-', label='Temperature')\r\n",
    "plt.plot(df_hourly.feels_like, '.-', label='Feels Like')\r\n",
    "ax.set(title='Temperature in future 48 hours', xlabel='Time', ylabel='Temperature')\r\n",
    "ax.set_xticks(list(range(0, len(df_hourly), 2)))\r\n",
    "ax.set_xticklabels([ts2dt(ts, '%m-%d %H:%M')[0] for i, ts in enumerate(df_hourly.dt) if i%2==0], \r\n",
    "                   rotation=45, ha=\"right\")\r\n",
    "ax.locator_params(nbins=15, axis='y')\r\n",
    "plt.legend()\r\n",
    "plt.show()"
   ]
  },
  {
   "cell_type": "code",
   "execution_count": 10,
   "metadata": {
    "execution": {
     "iopub.execute_input": "2021-08-25T03:40:58.464632Z",
     "iopub.status.busy": "2021-08-25T03:40:58.463819Z",
     "iopub.status.idle": "2021-08-25T03:40:58.484641Z",
     "shell.execute_reply": "2021-08-25T03:40:58.483854Z"
    }
   },
   "outputs": [
    {
     "data": {
      "text/html": [
       "<div>\n",
       "<style scoped>\n",
       "    .dataframe tbody tr th:only-of-type {\n",
       "        vertical-align: middle;\n",
       "    }\n",
       "\n",
       "    .dataframe tbody tr th {\n",
       "        vertical-align: top;\n",
       "    }\n",
       "\n",
       "    .dataframe thead th {\n",
       "        text-align: right;\n",
       "    }\n",
       "</style>\n",
       "<table border=\"1\" class=\"dataframe\">\n",
       "  <thead>\n",
       "    <tr style=\"text-align: right;\">\n",
       "      <th></th>\n",
       "      <th>dt</th>\n",
       "      <th>temp</th>\n",
       "      <th>feels_like</th>\n",
       "      <th>pressure</th>\n",
       "      <th>humidity</th>\n",
       "      <th>dew_point</th>\n",
       "      <th>uvi</th>\n",
       "      <th>clouds</th>\n",
       "      <th>visibility</th>\n",
       "      <th>wind_speed</th>\n",
       "      <th>wind_deg</th>\n",
       "      <th>wind_gust</th>\n",
       "      <th>weather</th>\n",
       "      <th>pop</th>\n",
       "      <th>rain</th>\n",
       "    </tr>\n",
       "  </thead>\n",
       "  <tbody>\n",
       "    <tr>\n",
       "      <th>0</th>\n",
       "      <td>1629860400</td>\n",
       "      <td>31.73</td>\n",
       "      <td>38.73</td>\n",
       "      <td>1009</td>\n",
       "      <td>70</td>\n",
       "      <td>25.58</td>\n",
       "      <td>9.67</td>\n",
       "      <td>100</td>\n",
       "      <td>10000</td>\n",
       "      <td>2.60</td>\n",
       "      <td>138</td>\n",
       "      <td>2.93</td>\n",
       "      <td>[{'id': 804, 'main': 'Clouds', 'description': ...</td>\n",
       "      <td>0.72</td>\n",
       "      <td>NaN</td>\n",
       "    </tr>\n",
       "    <tr>\n",
       "      <th>1</th>\n",
       "      <td>1629864000</td>\n",
       "      <td>32.24</td>\n",
       "      <td>39.24</td>\n",
       "      <td>1009</td>\n",
       "      <td>70</td>\n",
       "      <td>26.07</td>\n",
       "      <td>11.58</td>\n",
       "      <td>100</td>\n",
       "      <td>10000</td>\n",
       "      <td>2.95</td>\n",
       "      <td>134</td>\n",
       "      <td>3.11</td>\n",
       "      <td>[{'id': 804, 'main': 'Clouds', 'description': ...</td>\n",
       "      <td>0.73</td>\n",
       "      <td>NaN</td>\n",
       "    </tr>\n",
       "    <tr>\n",
       "      <th>2</th>\n",
       "      <td>1629867600</td>\n",
       "      <td>31.81</td>\n",
       "      <td>38.81</td>\n",
       "      <td>1009</td>\n",
       "      <td>69</td>\n",
       "      <td>25.41</td>\n",
       "      <td>11.40</td>\n",
       "      <td>100</td>\n",
       "      <td>10000</td>\n",
       "      <td>2.96</td>\n",
       "      <td>128</td>\n",
       "      <td>2.97</td>\n",
       "      <td>[{'id': 804, 'main': 'Clouds', 'description': ...</td>\n",
       "      <td>0.80</td>\n",
       "      <td>NaN</td>\n",
       "    </tr>\n",
       "    <tr>\n",
       "      <th>3</th>\n",
       "      <td>1629871200</td>\n",
       "      <td>31.46</td>\n",
       "      <td>38.46</td>\n",
       "      <td>1008</td>\n",
       "      <td>69</td>\n",
       "      <td>25.08</td>\n",
       "      <td>9.47</td>\n",
       "      <td>99</td>\n",
       "      <td>10000</td>\n",
       "      <td>3.27</td>\n",
       "      <td>126</td>\n",
       "      <td>3.09</td>\n",
       "      <td>[{'id': 804, 'main': 'Clouds', 'description': ...</td>\n",
       "      <td>0.80</td>\n",
       "      <td>NaN</td>\n",
       "    </tr>\n",
       "    <tr>\n",
       "      <th>4</th>\n",
       "      <td>1629874800</td>\n",
       "      <td>30.93</td>\n",
       "      <td>37.41</td>\n",
       "      <td>1008</td>\n",
       "      <td>70</td>\n",
       "      <td>24.82</td>\n",
       "      <td>6.39</td>\n",
       "      <td>100</td>\n",
       "      <td>10000</td>\n",
       "      <td>3.75</td>\n",
       "      <td>128</td>\n",
       "      <td>3.58</td>\n",
       "      <td>[{'id': 804, 'main': 'Clouds', 'description': ...</td>\n",
       "      <td>0.39</td>\n",
       "      <td>NaN</td>\n",
       "    </tr>\n",
       "  </tbody>\n",
       "</table>\n",
       "</div>"
      ],
      "text/plain": [
       "           dt   temp  feels_like  pressure  humidity  dew_point    uvi  \\\n",
       "0  1629860400  31.73       38.73      1009        70      25.58   9.67   \n",
       "1  1629864000  32.24       39.24      1009        70      26.07  11.58   \n",
       "2  1629867600  31.81       38.81      1009        69      25.41  11.40   \n",
       "3  1629871200  31.46       38.46      1008        69      25.08   9.47   \n",
       "4  1629874800  30.93       37.41      1008        70      24.82   6.39   \n",
       "\n",
       "   clouds  visibility  wind_speed  wind_deg  wind_gust  \\\n",
       "0     100       10000        2.60       138       2.93   \n",
       "1     100       10000        2.95       134       3.11   \n",
       "2     100       10000        2.96       128       2.97   \n",
       "3      99       10000        3.27       126       3.09   \n",
       "4     100       10000        3.75       128       3.58   \n",
       "\n",
       "                                             weather   pop rain  \n",
       "0  [{'id': 804, 'main': 'Clouds', 'description': ...  0.72  NaN  \n",
       "1  [{'id': 804, 'main': 'Clouds', 'description': ...  0.73  NaN  \n",
       "2  [{'id': 804, 'main': 'Clouds', 'description': ...  0.80  NaN  \n",
       "3  [{'id': 804, 'main': 'Clouds', 'description': ...  0.80  NaN  \n",
       "4  [{'id': 804, 'main': 'Clouds', 'description': ...  0.39  NaN  "
      ]
     },
     "execution_count": 10,
     "metadata": {},
     "output_type": "execute_result"
    }
   ],
   "source": [
    "df_hourly.head()"
   ]
  },
  {
   "cell_type": "code",
   "execution_count": null,
   "metadata": {},
   "outputs": [],
   "source": []
  }
 ],
 "metadata": {
  "interpreter": {
   "hash": "c1b4cfe941b6d2466ad1fb5979e97da9cda8801728c8091b097ab734208fc00c"
  },
  "kernelspec": {
   "display_name": "Python 3.8.3 64-bit ('base': conda)",
   "name": "python3"
  },
  "language_info": {
   "codemirror_mode": {
    "name": "ipython",
    "version": 3
   },
   "file_extension": ".py",
   "mimetype": "text/x-python",
   "name": "python",
   "nbconvert_exporter": "python",
   "pygments_lexer": "ipython3",
   "version": "3.8.11"
  }
 },
 "nbformat": 4,
 "nbformat_minor": 2
}
