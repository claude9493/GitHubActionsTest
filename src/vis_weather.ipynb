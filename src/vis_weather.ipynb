{
 "cells": [
  {
   "cell_type": "code",
   "execution_count": 1,
   "metadata": {
    "execution": {
     "iopub.execute_input": "2021-10-09T12:16:57.682990Z",
     "iopub.status.busy": "2021-10-09T12:16:57.682259Z",
     "iopub.status.idle": "2021-10-09T12:16:59.236891Z",
     "shell.execute_reply": "2021-10-09T12:16:59.236146Z"
    }
   },
   "outputs": [],
   "source": [
    "import json, yaml, requests\r\n",
    "from datetime import datetime\r\n",
    "from dateutil import tz\r\n",
    "import pandas as pd\r\n",
    "from PIL import Image\r\n",
    "from io import BytesIO\r\n",
    "import matplotlib.pyplot as plt\r\n",
    "import seaborn\r\n",
    "\r\n",
    "CONFIG_PATH = \"../config/config.yaml\""
   ]
  },
  {
   "cell_type": "code",
   "execution_count": 2,
   "metadata": {
    "execution": {
     "iopub.execute_input": "2021-10-09T12:16:59.243989Z",
     "iopub.status.busy": "2021-10-09T12:16:59.243350Z",
     "iopub.status.idle": "2021-10-09T12:16:59.249463Z",
     "shell.execute_reply": "2021-10-09T12:16:59.249951Z"
    }
   },
   "outputs": [],
   "source": [
    "with open('../newest_ts', 'r') as f:\r\n",
    "    newest_ts = f.read()\r\n",
    "\r\n",
    "data_path = f\"../data/data_{newest_ts}.json\"\r\n",
    "with open(data_path, 'r') as f:\r\n",
    "    data = json.load(f)\r\n",
    "\r\n",
    "with open(CONFIG_PATH, \"r\") as stream:\r\n",
    "    config = yaml.safe_load(stream)\r\n",
    "\r\n",
    "TIME_ZONE = config['time_zone']\r\n",
    "DATETIME_FORMAT = config['dt_format']"
   ]
  },
  {
   "cell_type": "code",
   "execution_count": 3,
   "metadata": {
    "execution": {
     "iopub.execute_input": "2021-10-09T12:16:59.256984Z",
     "iopub.status.busy": "2021-10-09T12:16:59.256381Z",
     "iopub.status.idle": "2021-10-09T12:16:59.268475Z",
     "shell.execute_reply": "2021-10-09T12:16:59.268926Z"
    }
   },
   "outputs": [
    {
     "name": "stdout",
     "output_type": "stream",
     "text": [
      "Recent query happens at 2021-10-09 20:16:53 (CST).\n"
     ]
    }
   ],
   "source": [
    "def ts2dt(ts, format=DATETIME_FORMAT):\r\n",
    "    dt = (datetime.utcfromtimestamp(int(ts))\r\n",
    "                    .replace(tzinfo=tz.tzutc())\r\n",
    "                    # .astimezone(tz.tzlocal())\r\n",
    "                    .astimezone(tz.gettz(TIME_ZONE)))\r\n",
    "    return dt.strftime(format), dt\r\n",
    "\r\n",
    "_, newest_dt = ts2dt(newest_ts)\r\n",
    "print(f\"Recent query happens at {newest_dt.strftime(DATETIME_FORMAT)} ({newest_dt.tzname()}).\")"
   ]
  },
  {
   "cell_type": "code",
   "execution_count": 4,
   "metadata": {
    "execution": {
     "iopub.execute_input": "2021-10-09T12:16:59.276981Z",
     "iopub.status.busy": "2021-10-09T12:16:59.275526Z",
     "iopub.status.idle": "2021-10-09T12:16:59.277615Z",
     "shell.execute_reply": "2021-10-09T12:16:59.278027Z"
    }
   },
   "outputs": [],
   "source": [
    "def degrees_to_cardinal(d):\r\n",
    "  dirs = ['N', 'NNE', 'NE', 'ENE', 'E', 'ESE', 'SE', 'SSE', 'S', 'SSW', 'SW', 'WSW', 'W', 'WNW', 'NW', 'NNW']\r\n",
    "  ix = int(round(d / (360. / len(dirs))))\r\n",
    "  return dirs[ix % len(dirs)]"
   ]
  },
  {
   "cell_type": "code",
   "execution_count": 5,
   "metadata": {
    "execution": {
     "iopub.execute_input": "2021-10-09T12:16:59.283257Z",
     "iopub.status.busy": "2021-10-09T12:16:59.282643Z",
     "iopub.status.idle": "2021-10-09T12:16:59.284656Z",
     "shell.execute_reply": "2021-10-09T12:16:59.285046Z"
    }
   },
   "outputs": [],
   "source": [
    "# data.keys()"
   ]
  },
  {
   "cell_type": "code",
   "execution_count": 6,
   "metadata": {
    "execution": {
     "iopub.execute_input": "2021-10-09T12:16:59.290327Z",
     "iopub.status.busy": "2021-10-09T12:16:59.289144Z",
     "iopub.status.idle": "2021-10-09T12:16:59.290879Z",
     "shell.execute_reply": "2021-10-09T12:16:59.291268Z"
    }
   },
   "outputs": [],
   "source": [
    "# data['current']"
   ]
  },
  {
   "cell_type": "code",
   "execution_count": 7,
   "metadata": {
    "execution": {
     "iopub.execute_input": "2021-10-09T12:16:59.312244Z",
     "iopub.status.busy": "2021-10-09T12:16:59.311574Z",
     "iopub.status.idle": "2021-10-09T12:16:59.784472Z",
     "shell.execute_reply": "2021-10-09T12:16:59.785351Z"
    }
   },
   "outputs": [
    {
     "data": {
      "image/png": "[encoded data removed]",
      "text/plain": [
       "<Figure size 216x216 with 1 Axes>"
      ]
     },
     "metadata": {
      "needs_background": "light"
     },
     "output_type": "display_data"
    },
    {
     "name": "stdout",
     "output_type": "stream",
     "text": [
      "Today, sun rises at 06:16 and sets at 18:03.\n",
      "Currently, the weather is Rain (moderate rain).\n",
      "The temperature is 27.04°C and it feels like 31.18°C.\n",
      "The UV index is 0, humidity is 93%.\n",
      "The pressure is 1004 hPa, percentage of cloud cover is 100%\n",
      "The wind comes from NNW direction with a speed 2.24 m/s.\n"
     ]
    }
   ],
   "source": [
    "current = data['current']\r\n",
    "\r\n",
    "fig, ax = plt.subplots(figsize=(3, 3))\r\n",
    "icon = requests.get(f\"http://openweathermap.org/img/wn/{current['weather'][0]['icon']}@2x.png\")\r\n",
    "im = Image.open(BytesIO(icon.content))\r\n",
    "plt.imshow(im)\r\n",
    "ax.set_axis_off()\r\n",
    "plt.show()\r\n",
    "\r\n",
    "print(f\"Today, sun rises at {ts2dt(current['sunrise'], '%H:%M')[0]} \\\r\n",
    "and sets at {ts2dt(current['sunset'], '%H:%M')[0]}.\\n\\\r\n",
    "Currently, the weather is {current['weather'][0]['main']} ({current['weather'][0]['description']}).\\n\\\r\n",
    "The temperature is {current['temp']}°C and it feels like {current['feels_like']}°C.\\n\\\r\n",
    "The UV index is {current['uvi']}, humidity is {current['humidity']}%.\\n\\\r\n",
    "The pressure is {current['pressure']} hPa, percentage of cloud cover is {current['clouds']}%\\n\\\r\n",
    "The wind comes from {degrees_to_cardinal(current['wind_deg'])} direction with a speed {current['wind_speed']} m/s.\")"
   ]
  },
  {
   "cell_type": "code",
   "execution_count": 8,
   "metadata": {
    "execution": {
     "iopub.execute_input": "2021-10-09T12:16:59.792599Z",
     "iopub.status.busy": "2021-10-09T12:16:59.791969Z",
     "iopub.status.idle": "2021-10-09T12:16:59.798929Z",
     "shell.execute_reply": "2021-10-09T12:16:59.800017Z"
    }
   },
   "outputs": [],
   "source": [
    "df_hourly = pd.DataFrame(data['hourly'])\r\n",
    "df_daily = pd.DataFrame(data['daily'])"
   ]
  },
  {
   "cell_type": "code",
   "execution_count": 9,
   "metadata": {
    "execution": {
     "iopub.execute_input": "2021-10-09T12:16:59.811428Z",
     "iopub.status.busy": "2021-10-09T12:16:59.810820Z",
     "iopub.status.idle": "2021-10-09T12:17:00.090960Z",
     "shell.execute_reply": "2021-10-09T12:17:00.090417Z"
    }
   },
   "outputs": [
    {
     "data": {
      "image/png": "[encoded data removed]",
      "text/plain": [
       "<Figure size 864x432 with 1 Axes>"
      ]
     },
     "metadata": {
      "needs_background": "light"
     },
     "output_type": "display_data"
    }
   ],
   "source": [
    "fig, ax = plt.subplots(figsize=(12, 6))\r\n",
    "plt.plot(df_hourly.temp, '.-', label='Temperature')\r\n",
    "plt.plot(df_hourly.feels_like, '.-', label='Feels Like')\r\n",
    "ax.set(title='Temperature in future 48 hours', xlabel='Time', ylabel='Temperature')\r\n",
    "ax.set_xticks(list(range(0, len(df_hourly), 2)))\r\n",
    "ax.set_xticklabels([ts2dt(ts, '%m-%d %H:%M')[0] for i, ts in enumerate(df_hourly.dt) if i%2==0], \r\n",
    "                   rotation=45, ha=\"right\")\r\n",
    "ax.locator_params(nbins=15, axis='y')\r\n",
    "plt.legend()\r\n",
    "plt.show()"
   ]
  },
  {
   "cell_type": "code",
   "execution_count": 10,
   "metadata": {
    "execution": {
     "iopub.execute_input": "2021-10-09T12:17:00.103614Z",
     "iopub.status.busy": "2021-10-09T12:17:00.103011Z",
     "iopub.status.idle": "2021-10-09T12:17:00.123479Z",
     "shell.execute_reply": "2021-10-09T12:17:00.122952Z"
    }
   },
   "outputs": [
    {
     "data": {
      "text/html": [
       "<div>\n",
       "<style scoped>\n",
       "    .dataframe tbody tr th:only-of-type {\n",
       "        vertical-align: middle;\n",
       "    }\n",
       "\n",
       "    .dataframe tbody tr th {\n",
       "        vertical-align: top;\n",
       "    }\n",
       "\n",
       "    .dataframe thead th {\n",
       "        text-align: right;\n",
       "    }\n",
       "</style>\n",
       "<table border=\"1\" class=\"dataframe\">\n",
       "  <thead>\n",
       "    <tr style=\"text-align: right;\">\n",
       "      <th></th>\n",
       "      <th>dt</th>\n",
       "      <th>temp</th>\n",
       "      <th>feels_like</th>\n",
       "      <th>pressure</th>\n",
       "      <th>humidity</th>\n",
       "      <th>dew_point</th>\n",
       "      <th>uvi</th>\n",
       "      <th>clouds</th>\n",
       "      <th>visibility</th>\n",
       "      <th>wind_speed</th>\n",
       "      <th>wind_deg</th>\n",
       "      <th>wind_gust</th>\n",
       "      <th>weather</th>\n",
       "      <th>pop</th>\n",
       "      <th>rain</th>\n",
       "    </tr>\n",
       "  </thead>\n",
       "  <tbody>\n",
       "    <tr>\n",
       "      <th>0</th>\n",
       "      <td>1633780800</td>\n",
       "      <td>27.04</td>\n",
       "      <td>31.18</td>\n",
       "      <td>1004</td>\n",
       "      <td>93</td>\n",
       "      <td>25.81</td>\n",
       "      <td>0.0</td>\n",
       "      <td>100</td>\n",
       "      <td>3350</td>\n",
       "      <td>12.64</td>\n",
       "      <td>93</td>\n",
       "      <td>18.18</td>\n",
       "      <td>[{'id': 502, 'main': 'Rain', 'description': 'h...</td>\n",
       "      <td>0.96</td>\n",
       "      <td>{'1h': 5.69}</td>\n",
       "    </tr>\n",
       "    <tr>\n",
       "      <th>1</th>\n",
       "      <td>1633784400</td>\n",
       "      <td>26.85</td>\n",
       "      <td>30.60</td>\n",
       "      <td>1005</td>\n",
       "      <td>93</td>\n",
       "      <td>25.62</td>\n",
       "      <td>0.0</td>\n",
       "      <td>100</td>\n",
       "      <td>4932</td>\n",
       "      <td>12.28</td>\n",
       "      <td>96</td>\n",
       "      <td>18.15</td>\n",
       "      <td>[{'id': 502, 'main': 'Rain', 'description': 'h...</td>\n",
       "      <td>0.97</td>\n",
       "      <td>{'1h': 5.62}</td>\n",
       "    </tr>\n",
       "    <tr>\n",
       "      <th>2</th>\n",
       "      <td>1633788000</td>\n",
       "      <td>26.62</td>\n",
       "      <td>26.62</td>\n",
       "      <td>1006</td>\n",
       "      <td>94</td>\n",
       "      <td>25.57</td>\n",
       "      <td>0.0</td>\n",
       "      <td>100</td>\n",
       "      <td>4681</td>\n",
       "      <td>11.81</td>\n",
       "      <td>99</td>\n",
       "      <td>18.08</td>\n",
       "      <td>[{'id': 500, 'main': 'Rain', 'description': 'l...</td>\n",
       "      <td>0.97</td>\n",
       "      <td>{'1h': 0.24}</td>\n",
       "    </tr>\n",
       "    <tr>\n",
       "      <th>3</th>\n",
       "      <td>1633791600</td>\n",
       "      <td>26.40</td>\n",
       "      <td>26.40</td>\n",
       "      <td>1006</td>\n",
       "      <td>95</td>\n",
       "      <td>25.53</td>\n",
       "      <td>0.0</td>\n",
       "      <td>100</td>\n",
       "      <td>2489</td>\n",
       "      <td>11.63</td>\n",
       "      <td>101</td>\n",
       "      <td>18.10</td>\n",
       "      <td>[{'id': 502, 'main': 'Rain', 'description': 'h...</td>\n",
       "      <td>1.00</td>\n",
       "      <td>{'1h': 4.78}</td>\n",
       "    </tr>\n",
       "    <tr>\n",
       "      <th>4</th>\n",
       "      <td>1633795200</td>\n",
       "      <td>26.22</td>\n",
       "      <td>26.22</td>\n",
       "      <td>1007</td>\n",
       "      <td>95</td>\n",
       "      <td>25.35</td>\n",
       "      <td>0.0</td>\n",
       "      <td>100</td>\n",
       "      <td>4261</td>\n",
       "      <td>11.49</td>\n",
       "      <td>97</td>\n",
       "      <td>17.71</td>\n",
       "      <td>[{'id': 502, 'main': 'Rain', 'description': 'h...</td>\n",
       "      <td>1.00</td>\n",
       "      <td>{'1h': 4.31}</td>\n",
       "    </tr>\n",
       "  </tbody>\n",
       "</table>\n",
       "</div>"
      ],
      "text/plain": [
       "           dt   temp  feels_like  pressure  humidity  dew_point  uvi  clouds  \\\n",
       "0  1633780800  27.04       31.18      1004        93      25.81  0.0     100   \n",
       "1  1633784400  26.85       30.60      1005        93      25.62  0.0     100   \n",
       "2  1633788000  26.62       26.62      1006        94      25.57  0.0     100   \n",
       "3  1633791600  26.40       26.40      1006        95      25.53  0.0     100   \n",
       "4  1633795200  26.22       26.22      1007        95      25.35  0.0     100   \n",
       "\n",
       "   visibility  wind_speed  wind_deg  wind_gust  \\\n",
       "0        3350       12.64        93      18.18   \n",
       "1        4932       12.28        96      18.15   \n",
       "2        4681       11.81        99      18.08   \n",
       "3        2489       11.63       101      18.10   \n",
       "4        4261       11.49        97      17.71   \n",
       "\n",
       "                                             weather   pop          rain  \n",
       "0  [{'id': 502, 'main': 'Rain', 'description': 'h...  0.96  {'1h': 5.69}  \n",
       "1  [{'id': 502, 'main': 'Rain', 'description': 'h...  0.97  {'1h': 5.62}  \n",
       "2  [{'id': 500, 'main': 'Rain', 'description': 'l...  0.97  {'1h': 0.24}  \n",
       "3  [{'id': 502, 'main': 'Rain', 'description': 'h...  1.00  {'1h': 4.78}  \n",
       "4  [{'id': 502, 'main': 'Rain', 'description': 'h...  1.00  {'1h': 4.31}  "
      ]
     },
     "execution_count": 10,
     "metadata": {},
     "output_type": "execute_result"
    }
   ],
   "source": [
    "df_hourly.head()"
   ]
  },
  {
   "cell_type": "code",
   "execution_count": null,
   "metadata": {},
   "outputs": [],
   "source": []
  }
 ],
 "metadata": {
  "interpreter": {
   "hash": "c1b4cfe941b6d2466ad1fb5979e97da9cda8801728c8091b097ab734208fc00c"
  },
  "kernelspec": {
   "display_name": "Python 3.8.3 64-bit ('base': conda)",
   "name": "python3"
  },
  "language_info": {
   "codemirror_mode": {
    "name": "ipython",
    "version": 3
   },
   "file_extension": ".py",
   "mimetype": "text/x-python",
   "name": "python",
   "nbconvert_exporter": "python",
   "pygments_lexer": "ipython3",
   "version": "3.8.12"
  }
 },
 "nbformat": 4,
 "nbformat_minor": 2
}
