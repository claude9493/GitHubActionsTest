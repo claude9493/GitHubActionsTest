{
 "cells": [
  {
   "cell_type": "code",
   "execution_count": 1,
   "metadata": {
    "execution": {
     "iopub.execute_input": "2021-09-11T14:13:26.400875Z",
     "iopub.status.busy": "2021-09-11T14:13:26.400126Z",
     "iopub.status.idle": "2021-09-11T14:13:27.803660Z",
     "shell.execute_reply": "2021-09-11T14:13:27.804499Z"
    }
   },
   "outputs": [],
   "source": [
    "import json, yaml, requests\r\n",
    "from datetime import datetime\r\n",
    "from dateutil import tz\r\n",
    "import pandas as pd\r\n",
    "from PIL import Image\r\n",
    "from io import BytesIO\r\n",
    "import matplotlib.pyplot as plt\r\n",
    "import seaborn\r\n",
    "\r\n",
    "CONFIG_PATH = \"../config/config.yaml\""
   ]
  },
  {
   "cell_type": "code",
   "execution_count": 2,
   "metadata": {
    "execution": {
     "iopub.execute_input": "2021-09-11T14:13:27.811623Z",
     "iopub.status.busy": "2021-09-11T14:13:27.810338Z",
     "iopub.status.idle": "2021-09-11T14:13:27.815967Z",
     "shell.execute_reply": "2021-09-11T14:13:27.815456Z"
    }
   },
   "outputs": [],
   "source": [
    "with open('../newest_ts', 'r') as f:\r\n",
    "    newest_ts = f.read()\r\n",
    "\r\n",
    "data_path = f\"../data/data_{newest_ts}.json\"\r\n",
    "with open(data_path, 'r') as f:\r\n",
    "    data = json.load(f)\r\n",
    "\r\n",
    "with open(CONFIG_PATH, \"r\") as stream:\r\n",
    "    config = yaml.safe_load(stream)\r\n",
    "\r\n",
    "TIME_ZONE = config['time_zone']\r\n",
    "DATETIME_FORMAT = config['dt_format']"
   ]
  },
  {
   "cell_type": "code",
   "execution_count": 3,
   "metadata": {
    "execution": {
     "iopub.execute_input": "2021-09-11T14:13:27.821674Z",
     "iopub.status.busy": "2021-09-11T14:13:27.819955Z",
     "iopub.status.idle": "2021-09-11T14:13:27.824443Z",
     "shell.execute_reply": "2021-09-11T14:13:27.824852Z"
    }
   },
   "outputs": [
    {
     "name": "stdout",
     "output_type": "stream",
     "text": [
      "Recent query happens at 2021-09-11 22:13:23 (CST).\n"
     ]
    }
   ],
   "source": [
    "def ts2dt(ts, format=DATETIME_FORMAT):\r\n",
    "    dt = (datetime.utcfromtimestamp(int(ts))\r\n",
    "                    .replace(tzinfo=tz.tzutc())\r\n",
    "                    # .astimezone(tz.tzlocal())\r\n",
    "                    .astimezone(tz.gettz(TIME_ZONE)))\r\n",
    "    return dt.strftime(format), dt\r\n",
    "\r\n",
    "_, newest_dt = ts2dt(newest_ts)\r\n",
    "print(f\"Recent query happens at {newest_dt.strftime(DATETIME_FORMAT)} ({newest_dt.tzname()}).\")"
   ]
  },
  {
   "cell_type": "code",
   "execution_count": 4,
   "metadata": {
    "execution": {
     "iopub.execute_input": "2021-09-11T14:13:27.830147Z",
     "iopub.status.busy": "2021-09-11T14:13:27.829025Z",
     "iopub.status.idle": "2021-09-11T14:13:27.830836Z",
     "shell.execute_reply": "2021-09-11T14:13:27.831288Z"
    }
   },
   "outputs": [],
   "source": [
    "def degrees_to_cardinal(d):\r\n",
    "  dirs = ['N', 'NNE', 'NE', 'ENE', 'E', 'ESE', 'SE', 'SSE', 'S', 'SSW', 'SW', 'WSW', 'W', 'WNW', 'NW', 'NNW']\r\n",
    "  ix = int(round(d / (360. / len(dirs))))\r\n",
    "  return dirs[ix % len(dirs)]"
   ]
  },
  {
   "cell_type": "code",
   "execution_count": 5,
   "metadata": {
    "execution": {
     "iopub.execute_input": "2021-09-11T14:13:27.835485Z",
     "iopub.status.busy": "2021-09-11T14:13:27.834348Z",
     "iopub.status.idle": "2021-09-11T14:13:27.836054Z",
     "shell.execute_reply": "2021-09-11T14:13:27.836455Z"
    }
   },
   "outputs": [],
   "source": [
    "# data.keys()"
   ]
  },
  {
   "cell_type": "code",
   "execution_count": 6,
   "metadata": {
    "execution": {
     "iopub.execute_input": "2021-09-11T14:13:27.840215Z",
     "iopub.status.busy": "2021-09-11T14:13:27.839132Z",
     "iopub.status.idle": "2021-09-11T14:13:27.840934Z",
     "shell.execute_reply": "2021-09-11T14:13:27.841378Z"
    }
   },
   "outputs": [],
   "source": [
    "# data['current']"
   ]
  },
  {
   "cell_type": "code",
   "execution_count": 7,
   "metadata": {
    "execution": {
     "iopub.execute_input": "2021-09-11T14:13:27.859604Z",
     "iopub.status.busy": "2021-09-11T14:13:27.846179Z",
     "iopub.status.idle": "2021-09-11T14:13:28.149425Z",
     "shell.execute_reply": "2021-09-11T14:13:28.148992Z"
    }
   },
   "outputs": [
    {
     "data": {
      "image/png": "[encoded data removed]",
      "text/plain": [
       "<Figure size 216x216 with 1 Axes>"
      ]
     },
     "metadata": {
      "needs_background": "light"
     },
     "output_type": "display_data"
    },
    {
     "name": "stdout",
     "output_type": "stream",
     "text": [
      "Today, sun rises at 06:08 and sets at 18:31.\n",
      "Currently, the weather is Rain (light rain).\n",
      "The temperature is 31.14°C and it feels like 38.14°C.\n",
      "The UV index is 0, humidity is 84%.\n",
      "The pressure is 1004 hPa, percentage of cloud cover is 56%\n",
      "The wind comes from WSW direction with a speed 3.55 m/s.\n"
     ]
    }
   ],
   "source": [
    "current = data['current']\r\n",
    "\r\n",
    "fig, ax = plt.subplots(figsize=(3, 3))\r\n",
    "icon = requests.get(f\"http://openweathermap.org/img/wn/{current['weather'][0]['icon']}@2x.png\")\r\n",
    "im = Image.open(BytesIO(icon.content))\r\n",
    "plt.imshow(im)\r\n",
    "ax.set_axis_off()\r\n",
    "plt.show()\r\n",
    "\r\n",
    "print(f\"Today, sun rises at {ts2dt(current['sunrise'], '%H:%M')[0]} \\\r\n",
    "and sets at {ts2dt(current['sunset'], '%H:%M')[0]}.\\n\\\r\n",
    "Currently, the weather is {current['weather'][0]['main']} ({current['weather'][0]['description']}).\\n\\\r\n",
    "The temperature is {current['temp']}°C and it feels like {current['feels_like']}°C.\\n\\\r\n",
    "The UV index is {current['uvi']}, humidity is {current['humidity']}%.\\n\\\r\n",
    "The pressure is {current['pressure']} hPa, percentage of cloud cover is {current['clouds']}%\\n\\\r\n",
    "The wind comes from {degrees_to_cardinal(current['wind_deg'])} direction with a speed {current['wind_speed']} m/s.\")"
   ]
  },
  {
   "cell_type": "code",
   "execution_count": 8,
   "metadata": {
    "execution": {
     "iopub.execute_input": "2021-09-11T14:13:28.155065Z",
     "iopub.status.busy": "2021-09-11T14:13:28.154456Z",
     "iopub.status.idle": "2021-09-11T14:13:28.158990Z",
     "shell.execute_reply": "2021-09-11T14:13:28.159714Z"
    }
   },
   "outputs": [],
   "source": [
    "df_hourly = pd.DataFrame(data['hourly'])\r\n",
    "df_daily = pd.DataFrame(data['daily'])"
   ]
  },
  {
   "cell_type": "code",
   "execution_count": 9,
   "metadata": {
    "execution": {
     "iopub.execute_input": "2021-09-11T14:13:28.162982Z",
     "iopub.status.busy": "2021-09-11T14:13:28.161967Z",
     "iopub.status.idle": "2021-09-11T14:13:28.446918Z",
     "shell.execute_reply": "2021-09-11T14:13:28.446117Z"
    }
   },
   "outputs": [
    {
     "data": {
      "image/png": "[encoded data removed]",
      "text/plain": [
       "<Figure size 864x432 with 1 Axes>"
      ]
     },
     "metadata": {
      "needs_background": "light"
     },
     "output_type": "display_data"
    }
   ],
   "source": [
    "fig, ax = plt.subplots(figsize=(12, 6))\r\n",
    "plt.plot(df_hourly.temp, '.-', label='Temperature')\r\n",
    "plt.plot(df_hourly.feels_like, '.-', label='Feels Like')\r\n",
    "ax.set(title='Temperature in future 48 hours', xlabel='Time', ylabel='Temperature')\r\n",
    "ax.set_xticks(list(range(0, len(df_hourly), 2)))\r\n",
    "ax.set_xticklabels([ts2dt(ts, '%m-%d %H:%M')[0] for i, ts in enumerate(df_hourly.dt) if i%2==0], \r\n",
    "                   rotation=45, ha=\"right\")\r\n",
    "ax.locator_params(nbins=15, axis='y')\r\n",
    "plt.legend()\r\n",
    "plt.show()"
   ]
  },
  {
   "cell_type": "code",
   "execution_count": 10,
   "metadata": {
    "execution": {
     "iopub.execute_input": "2021-09-11T14:13:28.458820Z",
     "iopub.status.busy": "2021-09-11T14:13:28.451116Z",
     "iopub.status.idle": "2021-09-11T14:13:28.470232Z",
     "shell.execute_reply": "2021-09-11T14:13:28.469591Z"
    }
   },
   "outputs": [
    {
     "data": {
      "text/html": [
       "<div>\n",
       "<style scoped>\n",
       "    .dataframe tbody tr th:only-of-type {\n",
       "        vertical-align: middle;\n",
       "    }\n",
       "\n",
       "    .dataframe tbody tr th {\n",
       "        vertical-align: top;\n",
       "    }\n",
       "\n",
       "    .dataframe thead th {\n",
       "        text-align: right;\n",
       "    }\n",
       "</style>\n",
       "<table border=\"1\" class=\"dataframe\">\n",
       "  <thead>\n",
       "    <tr style=\"text-align: right;\">\n",
       "      <th></th>\n",
       "      <th>dt</th>\n",
       "      <th>temp</th>\n",
       "      <th>feels_like</th>\n",
       "      <th>pressure</th>\n",
       "      <th>humidity</th>\n",
       "      <th>dew_point</th>\n",
       "      <th>uvi</th>\n",
       "      <th>clouds</th>\n",
       "      <th>visibility</th>\n",
       "      <th>wind_speed</th>\n",
       "      <th>wind_deg</th>\n",
       "      <th>wind_gust</th>\n",
       "      <th>weather</th>\n",
       "      <th>pop</th>\n",
       "      <th>rain</th>\n",
       "    </tr>\n",
       "  </thead>\n",
       "  <tbody>\n",
       "    <tr>\n",
       "      <th>0</th>\n",
       "      <td>1631368800</td>\n",
       "      <td>31.14</td>\n",
       "      <td>38.14</td>\n",
       "      <td>1004</td>\n",
       "      <td>84</td>\n",
       "      <td>28.11</td>\n",
       "      <td>0.0</td>\n",
       "      <td>56</td>\n",
       "      <td>10000</td>\n",
       "      <td>3.55</td>\n",
       "      <td>244</td>\n",
       "      <td>4.15</td>\n",
       "      <td>[{'id': 803, 'main': 'Clouds', 'description': ...</td>\n",
       "      <td>0.32</td>\n",
       "      <td>NaN</td>\n",
       "    </tr>\n",
       "    <tr>\n",
       "      <th>1</th>\n",
       "      <td>1631372400</td>\n",
       "      <td>30.71</td>\n",
       "      <td>37.71</td>\n",
       "      <td>1004</td>\n",
       "      <td>83</td>\n",
       "      <td>27.49</td>\n",
       "      <td>0.0</td>\n",
       "      <td>55</td>\n",
       "      <td>10000</td>\n",
       "      <td>4.38</td>\n",
       "      <td>245</td>\n",
       "      <td>5.68</td>\n",
       "      <td>[{'id': 500, 'main': 'Rain', 'description': 'l...</td>\n",
       "      <td>0.24</td>\n",
       "      <td>{'1h': 0.18}</td>\n",
       "    </tr>\n",
       "    <tr>\n",
       "      <th>2</th>\n",
       "      <td>1631376000</td>\n",
       "      <td>30.12</td>\n",
       "      <td>37.12</td>\n",
       "      <td>1003</td>\n",
       "      <td>84</td>\n",
       "      <td>27.11</td>\n",
       "      <td>0.0</td>\n",
       "      <td>56</td>\n",
       "      <td>10000</td>\n",
       "      <td>4.72</td>\n",
       "      <td>251</td>\n",
       "      <td>5.99</td>\n",
       "      <td>[{'id': 500, 'main': 'Rain', 'description': 'l...</td>\n",
       "      <td>0.28</td>\n",
       "      <td>{'1h': 0.13}</td>\n",
       "    </tr>\n",
       "    <tr>\n",
       "      <th>3</th>\n",
       "      <td>1631379600</td>\n",
       "      <td>29.36</td>\n",
       "      <td>36.36</td>\n",
       "      <td>1003</td>\n",
       "      <td>86</td>\n",
       "      <td>26.77</td>\n",
       "      <td>0.0</td>\n",
       "      <td>57</td>\n",
       "      <td>10000</td>\n",
       "      <td>4.62</td>\n",
       "      <td>255</td>\n",
       "      <td>5.97</td>\n",
       "      <td>[{'id': 803, 'main': 'Clouds', 'description': ...</td>\n",
       "      <td>0.01</td>\n",
       "      <td>NaN</td>\n",
       "    </tr>\n",
       "    <tr>\n",
       "      <th>4</th>\n",
       "      <td>1631383200</td>\n",
       "      <td>28.80</td>\n",
       "      <td>35.47</td>\n",
       "      <td>1002</td>\n",
       "      <td>86</td>\n",
       "      <td>26.22</td>\n",
       "      <td>0.0</td>\n",
       "      <td>57</td>\n",
       "      <td>10000</td>\n",
       "      <td>4.76</td>\n",
       "      <td>251</td>\n",
       "      <td>6.46</td>\n",
       "      <td>[{'id': 500, 'main': 'Rain', 'description': 'l...</td>\n",
       "      <td>0.30</td>\n",
       "      <td>{'1h': 0.35}</td>\n",
       "    </tr>\n",
       "  </tbody>\n",
       "</table>\n",
       "</div>"
      ],
      "text/plain": [
       "           dt   temp  feels_like  pressure  humidity  dew_point  uvi  clouds  \\\n",
       "0  1631368800  31.14       38.14      1004        84      28.11  0.0      56   \n",
       "1  1631372400  30.71       37.71      1004        83      27.49  0.0      55   \n",
       "2  1631376000  30.12       37.12      1003        84      27.11  0.0      56   \n",
       "3  1631379600  29.36       36.36      1003        86      26.77  0.0      57   \n",
       "4  1631383200  28.80       35.47      1002        86      26.22  0.0      57   \n",
       "\n",
       "   visibility  wind_speed  wind_deg  wind_gust  \\\n",
       "0       10000        3.55       244       4.15   \n",
       "1       10000        4.38       245       5.68   \n",
       "2       10000        4.72       251       5.99   \n",
       "3       10000        4.62       255       5.97   \n",
       "4       10000        4.76       251       6.46   \n",
       "\n",
       "                                             weather   pop          rain  \n",
       "0  [{'id': 803, 'main': 'Clouds', 'description': ...  0.32           NaN  \n",
       "1  [{'id': 500, 'main': 'Rain', 'description': 'l...  0.24  {'1h': 0.18}  \n",
       "2  [{'id': 500, 'main': 'Rain', 'description': 'l...  0.28  {'1h': 0.13}  \n",
       "3  [{'id': 803, 'main': 'Clouds', 'description': ...  0.01           NaN  \n",
       "4  [{'id': 500, 'main': 'Rain', 'description': 'l...  0.30  {'1h': 0.35}  "
      ]
     },
     "execution_count": 10,
     "metadata": {},
     "output_type": "execute_result"
    }
   ],
   "source": [
    "df_hourly.head()"
   ]
  },
  {
   "cell_type": "code",
   "execution_count": null,
   "metadata": {},
   "outputs": [],
   "source": []
  }
 ],
 "metadata": {
  "interpreter": {
   "hash": "c1b4cfe941b6d2466ad1fb5979e97da9cda8801728c8091b097ab734208fc00c"
  },
  "kernelspec": {
   "display_name": "Python 3.8.3 64-bit ('base': conda)",
   "name": "python3"
  },
  "language_info": {
   "codemirror_mode": {
    "name": "ipython",
    "version": 3
   },
   "file_extension": ".py",
   "mimetype": "text/x-python",
   "name": "python",
   "nbconvert_exporter": "python",
   "pygments_lexer": "ipython3",
   "version": "3.8.11"
  }
 },
 "nbformat": 4,
 "nbformat_minor": 2
}
