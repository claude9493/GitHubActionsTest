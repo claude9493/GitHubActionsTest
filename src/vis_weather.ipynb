{
 "cells": [
  {
   "cell_type": "code",
   "execution_count": 1,
   "metadata": {
    "execution": {
     "iopub.execute_input": "2021-10-06T06:13:51.673033Z",
     "iopub.status.busy": "2021-10-06T06:13:51.672203Z",
     "iopub.status.idle": "2021-10-06T06:13:54.850337Z",
     "shell.execute_reply": "2021-10-06T06:13:54.849280Z"
    }
   },
   "outputs": [],
   "source": [
    "import json, yaml, requests\r\n",
    "from datetime import datetime\r\n",
    "from dateutil import tz\r\n",
    "import pandas as pd\r\n",
    "from PIL import Image\r\n",
    "from io import BytesIO\r\n",
    "import matplotlib.pyplot as plt\r\n",
    "import seaborn\r\n",
    "\r\n",
    "CONFIG_PATH = \"../config/config.yaml\""
   ]
  },
  {
   "cell_type": "code",
   "execution_count": 2,
   "metadata": {
    "execution": {
     "iopub.execute_input": "2021-10-06T06:13:54.857201Z",
     "iopub.status.busy": "2021-10-06T06:13:54.852977Z",
     "iopub.status.idle": "2021-10-06T06:13:54.862948Z",
     "shell.execute_reply": "2021-10-06T06:13:54.862037Z"
    }
   },
   "outputs": [],
   "source": [
    "with open('../newest_ts', 'r') as f:\r\n",
    "    newest_ts = f.read()\r\n",
    "\r\n",
    "data_path = f\"../data/data_{newest_ts}.json\"\r\n",
    "with open(data_path, 'r') as f:\r\n",
    "    data = json.load(f)\r\n",
    "\r\n",
    "with open(CONFIG_PATH, \"r\") as stream:\r\n",
    "    config = yaml.safe_load(stream)\r\n",
    "\r\n",
    "TIME_ZONE = config['time_zone']\r\n",
    "DATETIME_FORMAT = config['dt_format']"
   ]
  },
  {
   "cell_type": "code",
   "execution_count": 3,
   "metadata": {
    "execution": {
     "iopub.execute_input": "2021-10-06T06:13:54.867935Z",
     "iopub.status.busy": "2021-10-06T06:13:54.867350Z",
     "iopub.status.idle": "2021-10-06T06:13:54.916689Z",
     "shell.execute_reply": "2021-10-06T06:13:54.917453Z"
    }
   },
   "outputs": [
    {
     "name": "stdout",
     "output_type": "stream",
     "text": [
      "Recent query happens at 2021-10-06 14:13:47 (CST).\n"
     ]
    }
   ],
   "source": [
    "def ts2dt(ts, format=DATETIME_FORMAT):\r\n",
    "    dt = (datetime.utcfromtimestamp(int(ts))\r\n",
    "                    .replace(tzinfo=tz.tzutc())\r\n",
    "                    # .astimezone(tz.tzlocal())\r\n",
    "                    .astimezone(tz.gettz(TIME_ZONE)))\r\n",
    "    return dt.strftime(format), dt\r\n",
    "\r\n",
    "_, newest_dt = ts2dt(newest_ts)\r\n",
    "print(f\"Recent query happens at {newest_dt.strftime(DATETIME_FORMAT)} ({newest_dt.tzname()}).\")"
   ]
  },
  {
   "cell_type": "code",
   "execution_count": 4,
   "metadata": {
    "execution": {
     "iopub.execute_input": "2021-10-06T06:13:54.922748Z",
     "iopub.status.busy": "2021-10-06T06:13:54.922208Z",
     "iopub.status.idle": "2021-10-06T06:13:54.925398Z",
     "shell.execute_reply": "2021-10-06T06:13:54.925811Z"
    }
   },
   "outputs": [],
   "source": [
    "def degrees_to_cardinal(d):\r\n",
    "  dirs = ['N', 'NNE', 'NE', 'ENE', 'E', 'ESE', 'SE', 'SSE', 'S', 'SSW', 'SW', 'WSW', 'W', 'WNW', 'NW', 'NNW']\r\n",
    "  ix = int(round(d / (360. / len(dirs))))\r\n",
    "  return dirs[ix % len(dirs)]"
   ]
  },
  {
   "cell_type": "code",
   "execution_count": 5,
   "metadata": {
    "execution": {
     "iopub.execute_input": "2021-10-06T06:13:54.929536Z",
     "iopub.status.busy": "2021-10-06T06:13:54.929015Z",
     "iopub.status.idle": "2021-10-06T06:13:54.932516Z",
     "shell.execute_reply": "2021-10-06T06:13:54.932027Z"
    }
   },
   "outputs": [],
   "source": [
    "# data.keys()"
   ]
  },
  {
   "cell_type": "code",
   "execution_count": 6,
   "metadata": {
    "execution": {
     "iopub.execute_input": "2021-10-06T06:13:54.936200Z",
     "iopub.status.busy": "2021-10-06T06:13:54.935682Z",
     "iopub.status.idle": "2021-10-06T06:13:54.938644Z",
     "shell.execute_reply": "2021-10-06T06:13:54.939042Z"
    }
   },
   "outputs": [],
   "source": [
    "# data['current']"
   ]
  },
  {
   "cell_type": "code",
   "execution_count": 7,
   "metadata": {
    "execution": {
     "iopub.execute_input": "2021-10-06T06:13:54.957548Z",
     "iopub.status.busy": "2021-10-06T06:13:54.957034Z",
     "iopub.status.idle": "2021-10-06T06:13:55.239041Z",
     "shell.execute_reply": "2021-10-06T06:13:55.239839Z"
    }
   },
   "outputs": [
    {
     "data": {
      "image/png": "[encoded data removed]",
      "text/plain": [
       "<Figure size 216x216 with 1 Axes>"
      ]
     },
     "metadata": {
      "needs_background": "light"
     },
     "output_type": "display_data"
    },
    {
     "name": "stdout",
     "output_type": "stream",
     "text": [
      "Today, sun rises at 06:15 and sets at 18:06.\n",
      "Currently, the weather is Clear (clear sky).\n",
      "The temperature is 31.48°C and it feels like 36.74°C.\n",
      "The UV index is 7.01, humidity is 63%.\n",
      "The pressure is 1006 hPa, percentage of cloud cover is 4%\n",
      "The wind comes from WNW direction with a speed 0.89 m/s.\n"
     ]
    }
   ],
   "source": [
    "current = data['current']\r\n",
    "\r\n",
    "fig, ax = plt.subplots(figsize=(3, 3))\r\n",
    "icon = requests.get(f\"http://openweathermap.org/img/wn/{current['weather'][0]['icon']}@2x.png\")\r\n",
    "im = Image.open(BytesIO(icon.content))\r\n",
    "plt.imshow(im)\r\n",
    "ax.set_axis_off()\r\n",
    "plt.show()\r\n",
    "\r\n",
    "print(f\"Today, sun rises at {ts2dt(current['sunrise'], '%H:%M')[0]} \\\r\n",
    "and sets at {ts2dt(current['sunset'], '%H:%M')[0]}.\\n\\\r\n",
    "Currently, the weather is {current['weather'][0]['main']} ({current['weather'][0]['description']}).\\n\\\r\n",
    "The temperature is {current['temp']}°C and it feels like {current['feels_like']}°C.\\n\\\r\n",
    "The UV index is {current['uvi']}, humidity is {current['humidity']}%.\\n\\\r\n",
    "The pressure is {current['pressure']} hPa, percentage of cloud cover is {current['clouds']}%\\n\\\r\n",
    "The wind comes from {degrees_to_cardinal(current['wind_deg'])} direction with a speed {current['wind_speed']} m/s.\")"
   ]
  },
  {
   "cell_type": "code",
   "execution_count": 8,
   "metadata": {
    "execution": {
     "iopub.execute_input": "2021-10-06T06:13:55.243449Z",
     "iopub.status.busy": "2021-10-06T06:13:55.242369Z",
     "iopub.status.idle": "2021-10-06T06:13:55.250100Z",
     "shell.execute_reply": "2021-10-06T06:13:55.250856Z"
    }
   },
   "outputs": [],
   "source": [
    "df_hourly = pd.DataFrame(data['hourly'])\r\n",
    "df_daily = pd.DataFrame(data['daily'])"
   ]
  },
  {
   "cell_type": "code",
   "execution_count": 9,
   "metadata": {
    "execution": {
     "iopub.execute_input": "2021-10-06T06:13:55.254307Z",
     "iopub.status.busy": "2021-10-06T06:13:55.253237Z",
     "iopub.status.idle": "2021-10-06T06:13:55.530104Z",
     "shell.execute_reply": "2021-10-06T06:13:55.530522Z"
    }
   },
   "outputs": [
    {
     "data": {
      "image/png": "[encoded data removed]",
      "text/plain": [
       "<Figure size 864x432 with 1 Axes>"
      ]
     },
     "metadata": {
      "needs_background": "light"
     },
     "output_type": "display_data"
    }
   ],
   "source": [
    "fig, ax = plt.subplots(figsize=(12, 6))\r\n",
    "plt.plot(df_hourly.temp, '.-', label='Temperature')\r\n",
    "plt.plot(df_hourly.feels_like, '.-', label='Feels Like')\r\n",
    "ax.set(title='Temperature in future 48 hours', xlabel='Time', ylabel='Temperature')\r\n",
    "ax.set_xticks(list(range(0, len(df_hourly), 2)))\r\n",
    "ax.set_xticklabels([ts2dt(ts, '%m-%d %H:%M')[0] for i, ts in enumerate(df_hourly.dt) if i%2==0], \r\n",
    "                   rotation=45, ha=\"right\")\r\n",
    "ax.locator_params(nbins=15, axis='y')\r\n",
    "plt.legend()\r\n",
    "plt.show()"
   ]
  },
  {
   "cell_type": "code",
   "execution_count": 10,
   "metadata": {
    "execution": {
     "iopub.execute_input": "2021-10-06T06:13:55.535438Z",
     "iopub.status.busy": "2021-10-06T06:13:55.534898Z",
     "iopub.status.idle": "2021-10-06T06:13:55.556182Z",
     "shell.execute_reply": "2021-10-06T06:13:55.555586Z"
    }
   },
   "outputs": [
    {
     "data": {
      "text/html": [
       "<div>\n",
       "<style scoped>\n",
       "    .dataframe tbody tr th:only-of-type {\n",
       "        vertical-align: middle;\n",
       "    }\n",
       "\n",
       "    .dataframe tbody tr th {\n",
       "        vertical-align: top;\n",
       "    }\n",
       "\n",
       "    .dataframe thead th {\n",
       "        text-align: right;\n",
       "    }\n",
       "</style>\n",
       "<table border=\"1\" class=\"dataframe\">\n",
       "  <thead>\n",
       "    <tr style=\"text-align: right;\">\n",
       "      <th></th>\n",
       "      <th>dt</th>\n",
       "      <th>temp</th>\n",
       "      <th>feels_like</th>\n",
       "      <th>pressure</th>\n",
       "      <th>humidity</th>\n",
       "      <th>dew_point</th>\n",
       "      <th>uvi</th>\n",
       "      <th>clouds</th>\n",
       "      <th>visibility</th>\n",
       "      <th>wind_speed</th>\n",
       "      <th>wind_deg</th>\n",
       "      <th>wind_gust</th>\n",
       "      <th>weather</th>\n",
       "      <th>pop</th>\n",
       "      <th>rain</th>\n",
       "    </tr>\n",
       "  </thead>\n",
       "  <tbody>\n",
       "    <tr>\n",
       "      <th>0</th>\n",
       "      <td>1633500000</td>\n",
       "      <td>31.48</td>\n",
       "      <td>36.74</td>\n",
       "      <td>1006</td>\n",
       "      <td>63</td>\n",
       "      <td>23.58</td>\n",
       "      <td>7.01</td>\n",
       "      <td>4</td>\n",
       "      <td>10000</td>\n",
       "      <td>6.38</td>\n",
       "      <td>83</td>\n",
       "      <td>7.92</td>\n",
       "      <td>[{'id': 800, 'main': 'Clear', 'description': '...</td>\n",
       "      <td>0.00</td>\n",
       "      <td>NaN</td>\n",
       "    </tr>\n",
       "    <tr>\n",
       "      <th>1</th>\n",
       "      <td>1633503600</td>\n",
       "      <td>31.11</td>\n",
       "      <td>35.87</td>\n",
       "      <td>1006</td>\n",
       "      <td>63</td>\n",
       "      <td>23.23</td>\n",
       "      <td>3.95</td>\n",
       "      <td>4</td>\n",
       "      <td>10000</td>\n",
       "      <td>6.72</td>\n",
       "      <td>88</td>\n",
       "      <td>7.93</td>\n",
       "      <td>[{'id': 800, 'main': 'Clear', 'description': '...</td>\n",
       "      <td>0.03</td>\n",
       "      <td>NaN</td>\n",
       "    </tr>\n",
       "    <tr>\n",
       "      <th>2</th>\n",
       "      <td>1633507200</td>\n",
       "      <td>30.58</td>\n",
       "      <td>35.17</td>\n",
       "      <td>1006</td>\n",
       "      <td>65</td>\n",
       "      <td>23.25</td>\n",
       "      <td>1.89</td>\n",
       "      <td>3</td>\n",
       "      <td>10000</td>\n",
       "      <td>6.97</td>\n",
       "      <td>87</td>\n",
       "      <td>7.89</td>\n",
       "      <td>[{'id': 800, 'main': 'Clear', 'description': '...</td>\n",
       "      <td>0.03</td>\n",
       "      <td>NaN</td>\n",
       "    </tr>\n",
       "    <tr>\n",
       "      <th>3</th>\n",
       "      <td>1633510800</td>\n",
       "      <td>29.85</td>\n",
       "      <td>34.22</td>\n",
       "      <td>1006</td>\n",
       "      <td>68</td>\n",
       "      <td>23.30</td>\n",
       "      <td>0.57</td>\n",
       "      <td>3</td>\n",
       "      <td>10000</td>\n",
       "      <td>7.10</td>\n",
       "      <td>85</td>\n",
       "      <td>8.24</td>\n",
       "      <td>[{'id': 800, 'main': 'Clear', 'description': '...</td>\n",
       "      <td>0.00</td>\n",
       "      <td>NaN</td>\n",
       "    </tr>\n",
       "    <tr>\n",
       "      <th>4</th>\n",
       "      <td>1633514400</td>\n",
       "      <td>28.86</td>\n",
       "      <td>32.97</td>\n",
       "      <td>1007</td>\n",
       "      <td>73</td>\n",
       "      <td>23.53</td>\n",
       "      <td>0.00</td>\n",
       "      <td>2</td>\n",
       "      <td>10000</td>\n",
       "      <td>6.77</td>\n",
       "      <td>85</td>\n",
       "      <td>8.47</td>\n",
       "      <td>[{'id': 800, 'main': 'Clear', 'description': '...</td>\n",
       "      <td>0.00</td>\n",
       "      <td>NaN</td>\n",
       "    </tr>\n",
       "  </tbody>\n",
       "</table>\n",
       "</div>"
      ],
      "text/plain": [
       "           dt   temp  feels_like  pressure  humidity  dew_point   uvi  clouds  \\\n",
       "0  1633500000  31.48       36.74      1006        63      23.58  7.01       4   \n",
       "1  1633503600  31.11       35.87      1006        63      23.23  3.95       4   \n",
       "2  1633507200  30.58       35.17      1006        65      23.25  1.89       3   \n",
       "3  1633510800  29.85       34.22      1006        68      23.30  0.57       3   \n",
       "4  1633514400  28.86       32.97      1007        73      23.53  0.00       2   \n",
       "\n",
       "   visibility  wind_speed  wind_deg  wind_gust  \\\n",
       "0       10000        6.38        83       7.92   \n",
       "1       10000        6.72        88       7.93   \n",
       "2       10000        6.97        87       7.89   \n",
       "3       10000        7.10        85       8.24   \n",
       "4       10000        6.77        85       8.47   \n",
       "\n",
       "                                             weather   pop rain  \n",
       "0  [{'id': 800, 'main': 'Clear', 'description': '...  0.00  NaN  \n",
       "1  [{'id': 800, 'main': 'Clear', 'description': '...  0.03  NaN  \n",
       "2  [{'id': 800, 'main': 'Clear', 'description': '...  0.03  NaN  \n",
       "3  [{'id': 800, 'main': 'Clear', 'description': '...  0.00  NaN  \n",
       "4  [{'id': 800, 'main': 'Clear', 'description': '...  0.00  NaN  "
      ]
     },
     "execution_count": 10,
     "metadata": {},
     "output_type": "execute_result"
    }
   ],
   "source": [
    "df_hourly.head()"
   ]
  },
  {
   "cell_type": "code",
   "execution_count": null,
   "metadata": {},
   "outputs": [],
   "source": []
  }
 ],
 "metadata": {
  "interpreter": {
   "hash": "c1b4cfe941b6d2466ad1fb5979e97da9cda8801728c8091b097ab734208fc00c"
  },
  "kernelspec": {
   "display_name": "Python 3.8.3 64-bit ('base': conda)",
   "name": "python3"
  },
  "language_info": {
   "codemirror_mode": {
    "name": "ipython",
    "version": 3
   },
   "file_extension": ".py",
   "mimetype": "text/x-python",
   "name": "python",
   "nbconvert_exporter": "python",
   "pygments_lexer": "ipython3",
   "version": "3.8.12"
  }
 },
 "nbformat": 4,
 "nbformat_minor": 2
}
