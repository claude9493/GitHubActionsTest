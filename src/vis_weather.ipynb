{
 "cells": [
  {
   "cell_type": "code",
   "execution_count": 1,
   "metadata": {
    "execution": {
     "iopub.execute_input": "2021-08-23T06:19:05.186205Z",
     "iopub.status.busy": "2021-08-23T06:19:05.185547Z",
     "iopub.status.idle": "2021-08-23T06:19:08.202798Z",
     "shell.execute_reply": "2021-08-23T06:19:08.203410Z"
    }
   },
   "outputs": [],
   "source": [
    "import json, yaml, requests\r\n",
    "from datetime import datetime\r\n",
    "from dateutil import tz\r\n",
    "import pandas as pd\r\n",
    "from PIL import Image\r\n",
    "from io import BytesIO\r\n",
    "import matplotlib.pyplot as plt\r\n",
    "import seaborn\r\n",
    "\r\n",
    "CONFIG_PATH = \"../config/config.yaml\""
   ]
  },
  {
   "cell_type": "code",
   "execution_count": 2,
   "metadata": {
    "execution": {
     "iopub.execute_input": "2021-08-23T06:19:08.208909Z",
     "iopub.status.busy": "2021-08-23T06:19:08.208284Z",
     "iopub.status.idle": "2021-08-23T06:19:08.213760Z",
     "shell.execute_reply": "2021-08-23T06:19:08.214224Z"
    }
   },
   "outputs": [],
   "source": [
    "with open('../newest_ts', 'r') as f:\r\n",
    "    newest_ts = f.read()\r\n",
    "\r\n",
    "data_path = f\"../data/data_{newest_ts}.json\"\r\n",
    "with open(data_path, 'r') as f:\r\n",
    "    data = json.load(f)\r\n",
    "\r\n",
    "with open(CONFIG_PATH, \"r\") as stream:\r\n",
    "    config = yaml.safe_load(stream)\r\n",
    "\r\n",
    "TIME_ZONE = config['time_zone']\r\n",
    "DATETIME_FORMAT = config['dt_format']"
   ]
  },
  {
   "cell_type": "code",
   "execution_count": 3,
   "metadata": {
    "execution": {
     "iopub.execute_input": "2021-08-23T06:19:08.219179Z",
     "iopub.status.busy": "2021-08-23T06:19:08.218453Z",
     "iopub.status.idle": "2021-08-23T06:19:08.258255Z",
     "shell.execute_reply": "2021-08-23T06:19:08.258753Z"
    }
   },
   "outputs": [
    {
     "name": "stdout",
     "output_type": "stream",
     "text": [
      "Recent query happens at 2021-08-23 14:19:01 (CST).\n"
     ]
    }
   ],
   "source": [
    "def ts2dt(ts, format=DATETIME_FORMAT):\r\n",
    "    dt = (datetime.utcfromtimestamp(int(ts))\r\n",
    "                    .replace(tzinfo=tz.tzutc())\r\n",
    "                    # .astimezone(tz.tzlocal())\r\n",
    "                    .astimezone(tz.gettz(TIME_ZONE)))\r\n",
    "    return dt.strftime(format), dt\r\n",
    "\r\n",
    "_, newest_dt = ts2dt(newest_ts)\r\n",
    "print(f\"Recent query happens at {newest_dt.strftime(DATETIME_FORMAT)} ({newest_dt.tzname()}).\")"
   ]
  },
  {
   "cell_type": "code",
   "execution_count": 4,
   "metadata": {
    "execution": {
     "iopub.execute_input": "2021-08-23T06:19:08.264861Z",
     "iopub.status.busy": "2021-08-23T06:19:08.263259Z",
     "iopub.status.idle": "2021-08-23T06:19:08.265511Z",
     "shell.execute_reply": "2021-08-23T06:19:08.266001Z"
    }
   },
   "outputs": [],
   "source": [
    "def degrees_to_cardinal(d):\r\n",
    "  dirs = ['N', 'NNE', 'NE', 'ENE', 'E', 'ESE', 'SE', 'SSE', 'S', 'SSW', 'SW', 'WSW', 'W', 'WNW', 'NW', 'NNW']\r\n",
    "  ix = int(round(d / (360. / len(dirs))))\r\n",
    "  return dirs[ix % len(dirs)]"
   ]
  },
  {
   "cell_type": "code",
   "execution_count": 5,
   "metadata": {
    "execution": {
     "iopub.execute_input": "2021-08-23T06:19:08.270835Z",
     "iopub.status.busy": "2021-08-23T06:19:08.269416Z",
     "iopub.status.idle": "2021-08-23T06:19:08.271482Z",
     "shell.execute_reply": "2021-08-23T06:19:08.271972Z"
    }
   },
   "outputs": [],
   "source": [
    "# data.keys()"
   ]
  },
  {
   "cell_type": "code",
   "execution_count": 6,
   "metadata": {
    "execution": {
     "iopub.execute_input": "2021-08-23T06:19:08.276986Z",
     "iopub.status.busy": "2021-08-23T06:19:08.275623Z",
     "iopub.status.idle": "2021-08-23T06:19:08.277626Z",
     "shell.execute_reply": "2021-08-23T06:19:08.278113Z"
    }
   },
   "outputs": [],
   "source": [
    "# data['current']"
   ]
  },
  {
   "cell_type": "code",
   "execution_count": 7,
   "metadata": {
    "execution": {
     "iopub.execute_input": "2021-08-23T06:19:08.300135Z",
     "iopub.status.busy": "2021-08-23T06:19:08.299517Z",
     "iopub.status.idle": "2021-08-23T06:19:08.757246Z",
     "shell.execute_reply": "2021-08-23T06:19:08.758360Z"
    }
   },
   "outputs": [
    {
     "data": {
      "image/png": "[encoded data removed]",
      "text/plain": [
       "<Figure size 216x216 with 1 Axes>"
      ]
     },
     "metadata": {
      "needs_background": "light"
     },
     "output_type": "display_data"
    },
    {
     "name": "stdout",
     "output_type": "stream",
     "text": [
      "Today, sun rises at 06:03 and sets at 18:48.\n",
      "Currently, the weather is Clouds (broken clouds).\n",
      "The temperature is 32.75°C and it feels like 39.75°C.\n",
      "The UV index is 9.88, humidity is 67%.\n",
      "The pressure is 1007 hPa, percentage of cloud cover is 58%\n",
      "The wind comes from SSW direction with a speed 4.15 m/s.\n"
     ]
    }
   ],
   "source": [
    "current = data['current']\r\n",
    "\r\n",
    "fig, ax = plt.subplots(figsize=(3, 3))\r\n",
    "icon = requests.get(f\"http://openweathermap.org/img/wn/{current['weather'][0]['icon']}@2x.png\")\r\n",
    "im = Image.open(BytesIO(icon.content))\r\n",
    "plt.imshow(im)\r\n",
    "ax.set_axis_off()\r\n",
    "plt.show()\r\n",
    "\r\n",
    "print(f\"Today, sun rises at {ts2dt(current['sunrise'], '%H:%M')[0]} \\\r\n",
    "and sets at {ts2dt(current['sunset'], '%H:%M')[0]}.\\n\\\r\n",
    "Currently, the weather is {current['weather'][0]['main']} ({current['weather'][0]['description']}).\\n\\\r\n",
    "The temperature is {current['temp']}°C and it feels like {current['feels_like']}°C.\\n\\\r\n",
    "The UV index is {current['uvi']}, humidity is {current['humidity']}%.\\n\\\r\n",
    "The pressure is {current['pressure']} hPa, percentage of cloud cover is {current['clouds']}%\\n\\\r\n",
    "The wind comes from {degrees_to_cardinal(current['wind_deg'])} direction with a speed {current['wind_speed']} m/s.\")"
   ]
  },
  {
   "cell_type": "code",
   "execution_count": 8,
   "metadata": {
    "execution": {
     "iopub.execute_input": "2021-08-23T06:19:08.762251Z",
     "iopub.status.busy": "2021-08-23T06:19:08.761191Z",
     "iopub.status.idle": "2021-08-23T06:19:08.769797Z",
     "shell.execute_reply": "2021-08-23T06:19:08.770538Z"
    }
   },
   "outputs": [],
   "source": [
    "df_hourly = pd.DataFrame(data['hourly'])\r\n",
    "df_daily = pd.DataFrame(data['daily'])"
   ]
  },
  {
   "cell_type": "code",
   "execution_count": 9,
   "metadata": {
    "execution": {
     "iopub.execute_input": "2021-08-23T06:19:08.773917Z",
     "iopub.status.busy": "2021-08-23T06:19:08.772852Z",
     "iopub.status.idle": "2021-08-23T06:19:09.106829Z",
     "shell.execute_reply": "2021-08-23T06:19:09.107289Z"
    }
   },
   "outputs": [
    {
     "data": {
      "image/png": "[encoded data removed]",
      "text/plain": [
       "<Figure size 864x432 with 1 Axes>"
      ]
     },
     "metadata": {
      "needs_background": "light"
     },
     "output_type": "display_data"
    }
   ],
   "source": [
    "fig, ax = plt.subplots(figsize=(12, 6))\r\n",
    "plt.plot(df_hourly.temp, '.-', label='Temperature')\r\n",
    "plt.plot(df_hourly.feels_like, '.-', label='Feels Like')\r\n",
    "ax.set(title='Temperature in future 48 hours', xlabel='Time', ylabel='Temperature')\r\n",
    "ax.set_xticks(list(range(0, len(df_hourly), 2)))\r\n",
    "ax.set_xticklabels([ts2dt(ts, '%m-%d %H:%M')[0] for i, ts in enumerate(df_hourly.dt) if i%2==0], \r\n",
    "                   rotation=45, ha=\"right\")\r\n",
    "ax.locator_params(nbins=15, axis='y')\r\n",
    "plt.legend()\r\n",
    "plt.show()"
   ]
  },
  {
   "cell_type": "code",
   "execution_count": 10,
   "metadata": {
    "execution": {
     "iopub.execute_input": "2021-08-23T06:19:09.112062Z",
     "iopub.status.busy": "2021-08-23T06:19:09.111495Z",
     "iopub.status.idle": "2021-08-23T06:19:09.130943Z",
     "shell.execute_reply": "2021-08-23T06:19:09.131427Z"
    }
   },
   "outputs": [
    {
     "data": {
      "text/html": [
       "<div>\n",
       "<style scoped>\n",
       "    .dataframe tbody tr th:only-of-type {\n",
       "        vertical-align: middle;\n",
       "    }\n",
       "\n",
       "    .dataframe tbody tr th {\n",
       "        vertical-align: top;\n",
       "    }\n",
       "\n",
       "    .dataframe thead th {\n",
       "        text-align: right;\n",
       "    }\n",
       "</style>\n",
       "<table border=\"1\" class=\"dataframe\">\n",
       "  <thead>\n",
       "    <tr style=\"text-align: right;\">\n",
       "      <th></th>\n",
       "      <th>dt</th>\n",
       "      <th>temp</th>\n",
       "      <th>feels_like</th>\n",
       "      <th>pressure</th>\n",
       "      <th>humidity</th>\n",
       "      <th>dew_point</th>\n",
       "      <th>uvi</th>\n",
       "      <th>clouds</th>\n",
       "      <th>visibility</th>\n",
       "      <th>wind_speed</th>\n",
       "      <th>wind_deg</th>\n",
       "      <th>wind_gust</th>\n",
       "      <th>weather</th>\n",
       "      <th>pop</th>\n",
       "      <th>rain</th>\n",
       "    </tr>\n",
       "  </thead>\n",
       "  <tbody>\n",
       "    <tr>\n",
       "      <th>0</th>\n",
       "      <td>1629698400</td>\n",
       "      <td>32.75</td>\n",
       "      <td>39.75</td>\n",
       "      <td>1007</td>\n",
       "      <td>67</td>\n",
       "      <td>25.81</td>\n",
       "      <td>9.88</td>\n",
       "      <td>58</td>\n",
       "      <td>10000</td>\n",
       "      <td>4.15</td>\n",
       "      <td>201</td>\n",
       "      <td>4.12</td>\n",
       "      <td>[{'id': 500, 'main': 'Rain', 'description': 'l...</td>\n",
       "      <td>0.54</td>\n",
       "      <td>{'1h': 0.4}</td>\n",
       "    </tr>\n",
       "    <tr>\n",
       "      <th>1</th>\n",
       "      <td>1629702000</td>\n",
       "      <td>32.28</td>\n",
       "      <td>39.28</td>\n",
       "      <td>1007</td>\n",
       "      <td>66</td>\n",
       "      <td>25.11</td>\n",
       "      <td>6.78</td>\n",
       "      <td>66</td>\n",
       "      <td>10000</td>\n",
       "      <td>4.26</td>\n",
       "      <td>200</td>\n",
       "      <td>4.42</td>\n",
       "      <td>[{'id': 803, 'main': 'Clouds', 'description': ...</td>\n",
       "      <td>0.07</td>\n",
       "      <td>NaN</td>\n",
       "    </tr>\n",
       "    <tr>\n",
       "      <th>2</th>\n",
       "      <td>1629705600</td>\n",
       "      <td>31.77</td>\n",
       "      <td>38.72</td>\n",
       "      <td>1006</td>\n",
       "      <td>67</td>\n",
       "      <td>24.88</td>\n",
       "      <td>3.63</td>\n",
       "      <td>70</td>\n",
       "      <td>10000</td>\n",
       "      <td>4.21</td>\n",
       "      <td>195</td>\n",
       "      <td>4.46</td>\n",
       "      <td>[{'id': 803, 'main': 'Clouds', 'description': ...</td>\n",
       "      <td>0.00</td>\n",
       "      <td>NaN</td>\n",
       "    </tr>\n",
       "    <tr>\n",
       "      <th>3</th>\n",
       "      <td>1629709200</td>\n",
       "      <td>31.02</td>\n",
       "      <td>37.35</td>\n",
       "      <td>1006</td>\n",
       "      <td>69</td>\n",
       "      <td>24.66</td>\n",
       "      <td>1.35</td>\n",
       "      <td>79</td>\n",
       "      <td>10000</td>\n",
       "      <td>4.13</td>\n",
       "      <td>201</td>\n",
       "      <td>4.70</td>\n",
       "      <td>[{'id': 803, 'main': 'Clouds', 'description': ...</td>\n",
       "      <td>0.00</td>\n",
       "      <td>NaN</td>\n",
       "    </tr>\n",
       "    <tr>\n",
       "      <th>4</th>\n",
       "      <td>1629712800</td>\n",
       "      <td>30.10</td>\n",
       "      <td>36.05</td>\n",
       "      <td>1006</td>\n",
       "      <td>73</td>\n",
       "      <td>24.72</td>\n",
       "      <td>0.25</td>\n",
       "      <td>87</td>\n",
       "      <td>10000</td>\n",
       "      <td>3.74</td>\n",
       "      <td>190</td>\n",
       "      <td>4.73</td>\n",
       "      <td>[{'id': 804, 'main': 'Clouds', 'description': ...</td>\n",
       "      <td>0.00</td>\n",
       "      <td>NaN</td>\n",
       "    </tr>\n",
       "  </tbody>\n",
       "</table>\n",
       "</div>"
      ],
      "text/plain": [
       "           dt   temp  feels_like  pressure  humidity  dew_point   uvi  clouds  \\\n",
       "0  1629698400  32.75       39.75      1007        67      25.81  9.88      58   \n",
       "1  1629702000  32.28       39.28      1007        66      25.11  6.78      66   \n",
       "2  1629705600  31.77       38.72      1006        67      24.88  3.63      70   \n",
       "3  1629709200  31.02       37.35      1006        69      24.66  1.35      79   \n",
       "4  1629712800  30.10       36.05      1006        73      24.72  0.25      87   \n",
       "\n",
       "   visibility  wind_speed  wind_deg  wind_gust  \\\n",
       "0       10000        4.15       201       4.12   \n",
       "1       10000        4.26       200       4.42   \n",
       "2       10000        4.21       195       4.46   \n",
       "3       10000        4.13       201       4.70   \n",
       "4       10000        3.74       190       4.73   \n",
       "\n",
       "                                             weather   pop         rain  \n",
       "0  [{'id': 500, 'main': 'Rain', 'description': 'l...  0.54  {'1h': 0.4}  \n",
       "1  [{'id': 803, 'main': 'Clouds', 'description': ...  0.07          NaN  \n",
       "2  [{'id': 803, 'main': 'Clouds', 'description': ...  0.00          NaN  \n",
       "3  [{'id': 803, 'main': 'Clouds', 'description': ...  0.00          NaN  \n",
       "4  [{'id': 804, 'main': 'Clouds', 'description': ...  0.00          NaN  "
      ]
     },
     "execution_count": 10,
     "metadata": {},
     "output_type": "execute_result"
    }
   ],
   "source": [
    "df_hourly.head()"
   ]
  },
  {
   "cell_type": "code",
   "execution_count": null,
   "metadata": {},
   "outputs": [],
   "source": []
  }
 ],
 "metadata": {
  "interpreter": {
   "hash": "c1b4cfe941b6d2466ad1fb5979e97da9cda8801728c8091b097ab734208fc00c"
  },
  "kernelspec": {
   "display_name": "Python 3.8.3 64-bit ('base': conda)",
   "name": "python3"
  },
  "language_info": {
   "codemirror_mode": {
    "name": "ipython",
    "version": 3
   },
   "file_extension": ".py",
   "mimetype": "text/x-python",
   "name": "python",
   "nbconvert_exporter": "python",
   "pygments_lexer": "ipython3",
   "version": "3.8.11"
  }
 },
 "nbformat": 4,
 "nbformat_minor": 2
}
