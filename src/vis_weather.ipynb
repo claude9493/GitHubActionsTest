{
 "cells": [
  {
   "cell_type": "code",
   "execution_count": 1,
   "metadata": {
    "execution": {
     "iopub.execute_input": "2021-10-21T04:15:58.962423Z",
     "iopub.status.busy": "2021-10-21T04:15:58.961648Z",
     "iopub.status.idle": "2021-10-21T04:16:02.028156Z",
     "shell.execute_reply": "2021-10-21T04:16:02.028705Z"
    }
   },
   "outputs": [],
   "source": [
    "import json, yaml, requests\r\n",
    "from datetime import datetime\r\n",
    "from dateutil import tz\r\n",
    "import pandas as pd\r\n",
    "from PIL import Image\r\n",
    "from io import BytesIO\r\n",
    "import matplotlib.pyplot as plt\r\n",
    "import seaborn\r\n",
    "\r\n",
    "CONFIG_PATH = \"../config/config.yaml\""
   ]
  },
  {
   "cell_type": "code",
   "execution_count": 2,
   "metadata": {
    "execution": {
     "iopub.execute_input": "2021-10-21T04:16:02.034190Z",
     "iopub.status.busy": "2021-10-21T04:16:02.031335Z",
     "iopub.status.idle": "2021-10-21T04:16:02.039196Z",
     "shell.execute_reply": "2021-10-21T04:16:02.039687Z"
    }
   },
   "outputs": [],
   "source": [
    "with open('../newest_ts', 'r') as f:\r\n",
    "    newest_ts = f.read()\r\n",
    "\r\n",
    "data_path = f\"../data/data_{newest_ts}.json\"\r\n",
    "with open(data_path, 'r') as f:\r\n",
    "    data = json.load(f)\r\n",
    "\r\n",
    "with open(CONFIG_PATH, \"r\") as stream:\r\n",
    "    config = yaml.safe_load(stream)\r\n",
    "\r\n",
    "TIME_ZONE = config['time_zone']\r\n",
    "DATETIME_FORMAT = config['dt_format']"
   ]
  },
  {
   "cell_type": "code",
   "execution_count": 3,
   "metadata": {
    "execution": {
     "iopub.execute_input": "2021-10-21T04:16:02.044894Z",
     "iopub.status.busy": "2021-10-21T04:16:02.044235Z",
     "iopub.status.idle": "2021-10-21T04:16:02.050631Z",
     "shell.execute_reply": "2021-10-21T04:16:02.051121Z"
    }
   },
   "outputs": [
    {
     "name": "stdout",
     "output_type": "stream",
     "text": [
      "Recent query happens at 2021-10-21 12:15:55 (CST).\n"
     ]
    }
   ],
   "source": [
    "def ts2dt(ts, format=DATETIME_FORMAT):\r\n",
    "    dt = (datetime.utcfromtimestamp(int(ts))\r\n",
    "                    .replace(tzinfo=tz.tzutc())\r\n",
    "                    # .astimezone(tz.tzlocal())\r\n",
    "                    .astimezone(tz.gettz(TIME_ZONE)))\r\n",
    "    return dt.strftime(format), dt\r\n",
    "\r\n",
    "_, newest_dt = ts2dt(newest_ts)\r\n",
    "print(f\"Recent query happens at {newest_dt.strftime(DATETIME_FORMAT)} ({newest_dt.tzname()}).\")"
   ]
  },
  {
   "cell_type": "code",
   "execution_count": 4,
   "metadata": {
    "execution": {
     "iopub.execute_input": "2021-10-21T04:16:02.060591Z",
     "iopub.status.busy": "2021-10-21T04:16:02.058953Z",
     "iopub.status.idle": "2021-10-21T04:16:02.061235Z",
     "shell.execute_reply": "2021-10-21T04:16:02.061723Z"
    }
   },
   "outputs": [],
   "source": [
    "def degrees_to_cardinal(d):\r\n",
    "  dirs = ['N', 'NNE', 'NE', 'ENE', 'E', 'ESE', 'SE', 'SSE', 'S', 'SSW', 'SW', 'WSW', 'W', 'WNW', 'NW', 'NNW']\r\n",
    "  ix = int(round(d / (360. / len(dirs))))\r\n",
    "  return dirs[ix % len(dirs)]"
   ]
  },
  {
   "cell_type": "code",
   "execution_count": 5,
   "metadata": {
    "execution": {
     "iopub.execute_input": "2021-10-21T04:16:02.065693Z",
     "iopub.status.busy": "2021-10-21T04:16:02.065119Z",
     "iopub.status.idle": "2021-10-21T04:16:02.068690Z",
     "shell.execute_reply": "2021-10-21T04:16:02.069181Z"
    }
   },
   "outputs": [],
   "source": [
    "# data.keys()"
   ]
  },
  {
   "cell_type": "code",
   "execution_count": 6,
   "metadata": {
    "execution": {
     "iopub.execute_input": "2021-10-21T04:16:02.074184Z",
     "iopub.status.busy": "2021-10-21T04:16:02.072354Z",
     "iopub.status.idle": "2021-10-21T04:16:02.074857Z",
     "shell.execute_reply": "2021-10-21T04:16:02.075353Z"
    }
   },
   "outputs": [],
   "source": [
    "# data['current']"
   ]
  },
  {
   "cell_type": "code",
   "execution_count": 7,
   "metadata": {
    "execution": {
     "iopub.execute_input": "2021-10-21T04:16:02.097475Z",
     "iopub.status.busy": "2021-10-21T04:16:02.096798Z",
     "iopub.status.idle": "2021-10-21T04:16:02.672712Z",
     "shell.execute_reply": "2021-10-21T04:16:02.673565Z"
    }
   },
   "outputs": [
    {
     "data": {
      "image/png": "[encoded data removed]",
      "text/plain": [
       "<Figure size 216x216 with 1 Axes>"
      ]
     },
     "metadata": {
      "needs_background": "light"
     },
     "output_type": "display_data"
    },
    {
     "name": "stdout",
     "output_type": "stream",
     "text": [
      "Today, sun rises at 06:21 and sets at 17:53.\n",
      "Currently, the weather is Clouds (overcast clouds).\n",
      "The temperature is 26.83°C and it feels like 29.8°C.\n",
      "The UV index is 5.15, humidity is 85%.\n",
      "The pressure is 1013 hPa, percentage of cloud cover is 99%\n",
      "The wind comes from E direction with a speed 0.45 m/s.\n"
     ]
    }
   ],
   "source": [
    "current = data['current']\r\n",
    "\r\n",
    "fig, ax = plt.subplots(figsize=(3, 3))\r\n",
    "icon = requests.get(f\"http://openweathermap.org/img/wn/{current['weather'][0]['icon']}@2x.png\")\r\n",
    "im = Image.open(BytesIO(icon.content))\r\n",
    "plt.imshow(im)\r\n",
    "ax.set_axis_off()\r\n",
    "plt.show()\r\n",
    "\r\n",
    "print(f\"Today, sun rises at {ts2dt(current['sunrise'], '%H:%M')[0]} \\\r\n",
    "and sets at {ts2dt(current['sunset'], '%H:%M')[0]}.\\n\\\r\n",
    "Currently, the weather is {current['weather'][0]['main']} ({current['weather'][0]['description']}).\\n\\\r\n",
    "The temperature is {current['temp']}°C and it feels like {current['feels_like']}°C.\\n\\\r\n",
    "The UV index is {current['uvi']}, humidity is {current['humidity']}%.\\n\\\r\n",
    "The pressure is {current['pressure']} hPa, percentage of cloud cover is {current['clouds']}%\\n\\\r\n",
    "The wind comes from {degrees_to_cardinal(current['wind_deg'])} direction with a speed {current['wind_speed']} m/s.\")"
   ]
  },
  {
   "cell_type": "code",
   "execution_count": 8,
   "metadata": {
    "execution": {
     "iopub.execute_input": "2021-10-21T04:16:02.677502Z",
     "iopub.status.busy": "2021-10-21T04:16:02.676926Z",
     "iopub.status.idle": "2021-10-21T04:16:02.685151Z",
     "shell.execute_reply": "2021-10-21T04:16:02.685980Z"
    }
   },
   "outputs": [],
   "source": [
    "df_hourly = pd.DataFrame(data['hourly'])\r\n",
    "df_daily = pd.DataFrame(data['daily'])"
   ]
  },
  {
   "cell_type": "code",
   "execution_count": 9,
   "metadata": {
    "execution": {
     "iopub.execute_input": "2021-10-21T04:16:02.689401Z",
     "iopub.status.busy": "2021-10-21T04:16:02.688279Z",
     "iopub.status.idle": "2021-10-21T04:16:03.028631Z",
     "shell.execute_reply": "2021-10-21T04:16:03.029122Z"
    }
   },
   "outputs": [
    {
     "data": {
      "image/png": "[encoded data removed]",
      "text/plain": [
       "<Figure size 864x432 with 1 Axes>"
      ]
     },
     "metadata": {
      "needs_background": "light"
     },
     "output_type": "display_data"
    }
   ],
   "source": [
    "fig, ax = plt.subplots(figsize=(12, 6))\r\n",
    "plt.plot(df_hourly.temp, '.-', label='Temperature')\r\n",
    "plt.plot(df_hourly.feels_like, '.-', label='Feels Like')\r\n",
    "ax.set(title='Temperature in future 48 hours', xlabel='Time', ylabel='Temperature')\r\n",
    "ax.set_xticks(list(range(0, len(df_hourly), 2)))\r\n",
    "ax.set_xticklabels([ts2dt(ts, '%m-%d %H:%M')[0] for i, ts in enumerate(df_hourly.dt) if i%2==0], \r\n",
    "                   rotation=45, ha=\"right\")\r\n",
    "ax.locator_params(nbins=15, axis='y')\r\n",
    "plt.legend()\r\n",
    "plt.show()"
   ]
  },
  {
   "cell_type": "code",
   "execution_count": 10,
   "metadata": {
    "execution": {
     "iopub.execute_input": "2021-10-21T04:16:03.046674Z",
     "iopub.status.busy": "2021-10-21T04:16:03.033019Z",
     "iopub.status.idle": "2021-10-21T04:16:03.058706Z",
     "shell.execute_reply": "2021-10-21T04:16:03.059294Z"
    }
   },
   "outputs": [
    {
     "data": {
      "text/html": [
       "<div>\n",
       "<style scoped>\n",
       "    .dataframe tbody tr th:only-of-type {\n",
       "        vertical-align: middle;\n",
       "    }\n",
       "\n",
       "    .dataframe tbody tr th {\n",
       "        vertical-align: top;\n",
       "    }\n",
       "\n",
       "    .dataframe thead th {\n",
       "        text-align: right;\n",
       "    }\n",
       "</style>\n",
       "<table border=\"1\" class=\"dataframe\">\n",
       "  <thead>\n",
       "    <tr style=\"text-align: right;\">\n",
       "      <th></th>\n",
       "      <th>dt</th>\n",
       "      <th>temp</th>\n",
       "      <th>feels_like</th>\n",
       "      <th>pressure</th>\n",
       "      <th>humidity</th>\n",
       "      <th>dew_point</th>\n",
       "      <th>uvi</th>\n",
       "      <th>clouds</th>\n",
       "      <th>visibility</th>\n",
       "      <th>wind_speed</th>\n",
       "      <th>wind_deg</th>\n",
       "      <th>wind_gust</th>\n",
       "      <th>weather</th>\n",
       "      <th>pop</th>\n",
       "      <th>rain</th>\n",
       "    </tr>\n",
       "  </thead>\n",
       "  <tbody>\n",
       "    <tr>\n",
       "      <th>0</th>\n",
       "      <td>1634788800</td>\n",
       "      <td>26.83</td>\n",
       "      <td>29.80</td>\n",
       "      <td>1013</td>\n",
       "      <td>85</td>\n",
       "      <td>24.09</td>\n",
       "      <td>5.15</td>\n",
       "      <td>99</td>\n",
       "      <td>10000</td>\n",
       "      <td>2.23</td>\n",
       "      <td>50</td>\n",
       "      <td>2.22</td>\n",
       "      <td>[{'id': 500, 'main': 'Rain', 'description': 'l...</td>\n",
       "      <td>0.52</td>\n",
       "      <td>{'1h': 0.3}</td>\n",
       "    </tr>\n",
       "    <tr>\n",
       "      <th>1</th>\n",
       "      <td>1634792400</td>\n",
       "      <td>26.62</td>\n",
       "      <td>26.62</td>\n",
       "      <td>1013</td>\n",
       "      <td>83</td>\n",
       "      <td>23.49</td>\n",
       "      <td>5.05</td>\n",
       "      <td>99</td>\n",
       "      <td>10000</td>\n",
       "      <td>2.26</td>\n",
       "      <td>22</td>\n",
       "      <td>2.61</td>\n",
       "      <td>[{'id': 500, 'main': 'Rain', 'description': 'l...</td>\n",
       "      <td>0.47</td>\n",
       "      <td>{'1h': 0.27}</td>\n",
       "    </tr>\n",
       "    <tr>\n",
       "      <th>2</th>\n",
       "      <td>1634796000</td>\n",
       "      <td>26.22</td>\n",
       "      <td>26.22</td>\n",
       "      <td>1013</td>\n",
       "      <td>81</td>\n",
       "      <td>22.70</td>\n",
       "      <td>4.06</td>\n",
       "      <td>98</td>\n",
       "      <td>10000</td>\n",
       "      <td>2.26</td>\n",
       "      <td>16</td>\n",
       "      <td>2.78</td>\n",
       "      <td>[{'id': 804, 'main': 'Clouds', 'description': ...</td>\n",
       "      <td>0.39</td>\n",
       "      <td>NaN</td>\n",
       "    </tr>\n",
       "    <tr>\n",
       "      <th>3</th>\n",
       "      <td>1634799600</td>\n",
       "      <td>25.49</td>\n",
       "      <td>26.16</td>\n",
       "      <td>1013</td>\n",
       "      <td>79</td>\n",
       "      <td>21.58</td>\n",
       "      <td>1.68</td>\n",
       "      <td>91</td>\n",
       "      <td>10000</td>\n",
       "      <td>3.48</td>\n",
       "      <td>23</td>\n",
       "      <td>4.02</td>\n",
       "      <td>[{'id': 804, 'main': 'Clouds', 'description': ...</td>\n",
       "      <td>0.12</td>\n",
       "      <td>NaN</td>\n",
       "    </tr>\n",
       "    <tr>\n",
       "      <th>4</th>\n",
       "      <td>1634803200</td>\n",
       "      <td>24.50</td>\n",
       "      <td>24.94</td>\n",
       "      <td>1013</td>\n",
       "      <td>74</td>\n",
       "      <td>19.56</td>\n",
       "      <td>0.78</td>\n",
       "      <td>88</td>\n",
       "      <td>10000</td>\n",
       "      <td>4.24</td>\n",
       "      <td>12</td>\n",
       "      <td>5.08</td>\n",
       "      <td>[{'id': 804, 'main': 'Clouds', 'description': ...</td>\n",
       "      <td>0.12</td>\n",
       "      <td>NaN</td>\n",
       "    </tr>\n",
       "  </tbody>\n",
       "</table>\n",
       "</div>"
      ],
      "text/plain": [
       "           dt   temp  feels_like  pressure  humidity  dew_point   uvi  clouds  \\\n",
       "0  1634788800  26.83       29.80      1013        85      24.09  5.15      99   \n",
       "1  1634792400  26.62       26.62      1013        83      23.49  5.05      99   \n",
       "2  1634796000  26.22       26.22      1013        81      22.70  4.06      98   \n",
       "3  1634799600  25.49       26.16      1013        79      21.58  1.68      91   \n",
       "4  1634803200  24.50       24.94      1013        74      19.56  0.78      88   \n",
       "\n",
       "   visibility  wind_speed  wind_deg  wind_gust  \\\n",
       "0       10000        2.23        50       2.22   \n",
       "1       10000        2.26        22       2.61   \n",
       "2       10000        2.26        16       2.78   \n",
       "3       10000        3.48        23       4.02   \n",
       "4       10000        4.24        12       5.08   \n",
       "\n",
       "                                             weather   pop          rain  \n",
       "0  [{'id': 500, 'main': 'Rain', 'description': 'l...  0.52   {'1h': 0.3}  \n",
       "1  [{'id': 500, 'main': 'Rain', 'description': 'l...  0.47  {'1h': 0.27}  \n",
       "2  [{'id': 804, 'main': 'Clouds', 'description': ...  0.39           NaN  \n",
       "3  [{'id': 804, 'main': 'Clouds', 'description': ...  0.12           NaN  \n",
       "4  [{'id': 804, 'main': 'Clouds', 'description': ...  0.12           NaN  "
      ]
     },
     "execution_count": 10,
     "metadata": {},
     "output_type": "execute_result"
    }
   ],
   "source": [
    "df_hourly.head()"
   ]
  },
  {
   "cell_type": "code",
   "execution_count": null,
   "metadata": {},
   "outputs": [],
   "source": []
  }
 ],
 "metadata": {
  "interpreter": {
   "hash": "c1b4cfe941b6d2466ad1fb5979e97da9cda8801728c8091b097ab734208fc00c"
  },
  "kernelspec": {
   "display_name": "Python 3.8.3 64-bit ('base': conda)",
   "name": "python3"
  },
  "language_info": {
   "codemirror_mode": {
    "name": "ipython",
    "version": 3
   },
   "file_extension": ".py",
   "mimetype": "text/x-python",
   "name": "python",
   "nbconvert_exporter": "python",
   "pygments_lexer": "ipython3",
   "version": "3.8.12"
  }
 },
 "nbformat": 4,
 "nbformat_minor": 2
}
