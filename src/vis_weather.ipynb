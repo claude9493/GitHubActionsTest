{
 "cells": [
  {
   "cell_type": "code",
   "execution_count": 1,
   "metadata": {
    "execution": {
     "iopub.execute_input": "2021-09-20T23:09:42.016906Z",
     "iopub.status.busy": "2021-09-20T23:09:42.016269Z",
     "iopub.status.idle": "2021-09-20T23:09:45.646311Z",
     "shell.execute_reply": "2021-09-20T23:09:45.645717Z"
    }
   },
   "outputs": [],
   "source": [
    "import json, yaml, requests\r\n",
    "from datetime import datetime\r\n",
    "from dateutil import tz\r\n",
    "import pandas as pd\r\n",
    "from PIL import Image\r\n",
    "from io import BytesIO\r\n",
    "import matplotlib.pyplot as plt\r\n",
    "import seaborn\r\n",
    "\r\n",
    "CONFIG_PATH = \"../config/config.yaml\""
   ]
  },
  {
   "cell_type": "code",
   "execution_count": 2,
   "metadata": {
    "execution": {
     "iopub.execute_input": "2021-09-20T23:09:45.649313Z",
     "iopub.status.busy": "2021-09-20T23:09:45.648681Z",
     "iopub.status.idle": "2021-09-20T23:09:45.656623Z",
     "shell.execute_reply": "2021-09-20T23:09:45.656093Z"
    }
   },
   "outputs": [],
   "source": [
    "with open('../newest_ts', 'r') as f:\r\n",
    "    newest_ts = f.read()\r\n",
    "\r\n",
    "data_path = f\"../data/data_{newest_ts}.json\"\r\n",
    "with open(data_path, 'r') as f:\r\n",
    "    data = json.load(f)\r\n",
    "\r\n",
    "with open(CONFIG_PATH, \"r\") as stream:\r\n",
    "    config = yaml.safe_load(stream)\r\n",
    "\r\n",
    "TIME_ZONE = config['time_zone']\r\n",
    "DATETIME_FORMAT = config['dt_format']"
   ]
  },
  {
   "cell_type": "code",
   "execution_count": 3,
   "metadata": {
    "execution": {
     "iopub.execute_input": "2021-09-20T23:09:45.661249Z",
     "iopub.status.busy": "2021-09-20T23:09:45.660723Z",
     "iopub.status.idle": "2021-09-20T23:09:45.756648Z",
     "shell.execute_reply": "2021-09-20T23:09:45.757165Z"
    }
   },
   "outputs": [
    {
     "name": "stdout",
     "output_type": "stream",
     "text": [
      "Recent query happens at 2021-09-21 07:09:38 (CST).\n"
     ]
    }
   ],
   "source": [
    "def ts2dt(ts, format=DATETIME_FORMAT):\r\n",
    "    dt = (datetime.utcfromtimestamp(int(ts))\r\n",
    "                    .replace(tzinfo=tz.tzutc())\r\n",
    "                    # .astimezone(tz.tzlocal())\r\n",
    "                    .astimezone(tz.gettz(TIME_ZONE)))\r\n",
    "    return dt.strftime(format), dt\r\n",
    "\r\n",
    "_, newest_dt = ts2dt(newest_ts)\r\n",
    "print(f\"Recent query happens at {newest_dt.strftime(DATETIME_FORMAT)} ({newest_dt.tzname()}).\")"
   ]
  },
  {
   "cell_type": "code",
   "execution_count": 4,
   "metadata": {
    "execution": {
     "iopub.execute_input": "2021-09-20T23:09:45.762980Z",
     "iopub.status.busy": "2021-09-20T23:09:45.760208Z",
     "iopub.status.idle": "2021-09-20T23:09:45.766575Z",
     "shell.execute_reply": "2021-09-20T23:09:45.765922Z"
    }
   },
   "outputs": [],
   "source": [
    "def degrees_to_cardinal(d):\r\n",
    "  dirs = ['N', 'NNE', 'NE', 'ENE', 'E', 'ESE', 'SE', 'SSE', 'S', 'SSW', 'SW', 'WSW', 'W', 'WNW', 'NW', 'NNW']\r\n",
    "  ix = int(round(d / (360. / len(dirs))))\r\n",
    "  return dirs[ix % len(dirs)]"
   ]
  },
  {
   "cell_type": "code",
   "execution_count": 5,
   "metadata": {
    "execution": {
     "iopub.execute_input": "2021-09-20T23:09:45.769835Z",
     "iopub.status.busy": "2021-09-20T23:09:45.769272Z",
     "iopub.status.idle": "2021-09-20T23:09:45.772450Z",
     "shell.execute_reply": "2021-09-20T23:09:45.773344Z"
    }
   },
   "outputs": [],
   "source": [
    "# data.keys()"
   ]
  },
  {
   "cell_type": "code",
   "execution_count": 6,
   "metadata": {
    "execution": {
     "iopub.execute_input": "2021-09-20T23:09:45.777426Z",
     "iopub.status.busy": "2021-09-20T23:09:45.776729Z",
     "iopub.status.idle": "2021-09-20T23:09:45.778771Z",
     "shell.execute_reply": "2021-09-20T23:09:45.779258Z"
    }
   },
   "outputs": [],
   "source": [
    "# data['current']"
   ]
  },
  {
   "cell_type": "code",
   "execution_count": 7,
   "metadata": {
    "execution": {
     "iopub.execute_input": "2021-09-20T23:09:45.787166Z",
     "iopub.status.busy": "2021-09-20T23:09:45.781914Z",
     "iopub.status.idle": "2021-09-20T23:09:46.334323Z",
     "shell.execute_reply": "2021-09-20T23:09:46.335068Z"
    }
   },
   "outputs": [
    {
     "data": {
      "image/png": "[encoded data removed]",
      "text/plain": [
       "<Figure size 216x216 with 1 Axes>"
      ]
     },
     "metadata": {
      "needs_background": "light"
     },
     "output_type": "display_data"
    },
    {
     "name": "stdout",
     "output_type": "stream",
     "text": [
      "Today, sun rises at 06:11 and sets at 18:20.\n",
      "Currently, the weather is Clouds (scattered clouds).\n",
      "The temperature is 28.75°C and it feels like 34.67°C.\n",
      "The UV index is 0.21, humidity is 83%.\n",
      "The pressure is 1010 hPa, percentage of cloud cover is 30%\n",
      "The wind comes from N direction with a speed 1.16 m/s.\n"
     ]
    }
   ],
   "source": [
    "current = data['current']\r\n",
    "\r\n",
    "fig, ax = plt.subplots(figsize=(3, 3))\r\n",
    "icon = requests.get(f\"http://openweathermap.org/img/wn/{current['weather'][0]['icon']}@2x.png\")\r\n",
    "im = Image.open(BytesIO(icon.content))\r\n",
    "plt.imshow(im)\r\n",
    "ax.set_axis_off()\r\n",
    "plt.show()\r\n",
    "\r\n",
    "print(f\"Today, sun rises at {ts2dt(current['sunrise'], '%H:%M')[0]} \\\r\n",
    "and sets at {ts2dt(current['sunset'], '%H:%M')[0]}.\\n\\\r\n",
    "Currently, the weather is {current['weather'][0]['main']} ({current['weather'][0]['description']}).\\n\\\r\n",
    "The temperature is {current['temp']}°C and it feels like {current['feels_like']}°C.\\n\\\r\n",
    "The UV index is {current['uvi']}, humidity is {current['humidity']}%.\\n\\\r\n",
    "The pressure is {current['pressure']} hPa, percentage of cloud cover is {current['clouds']}%\\n\\\r\n",
    "The wind comes from {degrees_to_cardinal(current['wind_deg'])} direction with a speed {current['wind_speed']} m/s.\")"
   ]
  },
  {
   "cell_type": "code",
   "execution_count": 8,
   "metadata": {
    "execution": {
     "iopub.execute_input": "2021-09-20T23:09:46.338387Z",
     "iopub.status.busy": "2021-09-20T23:09:46.337879Z",
     "iopub.status.idle": "2021-09-20T23:09:46.345765Z",
     "shell.execute_reply": "2021-09-20T23:09:46.346644Z"
    }
   },
   "outputs": [],
   "source": [
    "df_hourly = pd.DataFrame(data['hourly'])\r\n",
    "df_daily = pd.DataFrame(data['daily'])"
   ]
  },
  {
   "cell_type": "code",
   "execution_count": 9,
   "metadata": {
    "execution": {
     "iopub.execute_input": "2021-09-20T23:09:46.349839Z",
     "iopub.status.busy": "2021-09-20T23:09:46.348788Z",
     "iopub.status.idle": "2021-09-20T23:09:46.700068Z",
     "shell.execute_reply": "2021-09-20T23:09:46.699515Z"
    }
   },
   "outputs": [
    {
     "data": {
      "image/png": "[encoded data removed]",
      "text/plain": [
       "<Figure size 864x432 with 1 Axes>"
      ]
     },
     "metadata": {
      "needs_background": "light"
     },
     "output_type": "display_data"
    }
   ],
   "source": [
    "fig, ax = plt.subplots(figsize=(12, 6))\r\n",
    "plt.plot(df_hourly.temp, '.-', label='Temperature')\r\n",
    "plt.plot(df_hourly.feels_like, '.-', label='Feels Like')\r\n",
    "ax.set(title='Temperature in future 48 hours', xlabel='Time', ylabel='Temperature')\r\n",
    "ax.set_xticks(list(range(0, len(df_hourly), 2)))\r\n",
    "ax.set_xticklabels([ts2dt(ts, '%m-%d %H:%M')[0] for i, ts in enumerate(df_hourly.dt) if i%2==0], \r\n",
    "                   rotation=45, ha=\"right\")\r\n",
    "ax.locator_params(nbins=15, axis='y')\r\n",
    "plt.legend()\r\n",
    "plt.show()"
   ]
  },
  {
   "cell_type": "code",
   "execution_count": 10,
   "metadata": {
    "execution": {
     "iopub.execute_input": "2021-09-20T23:09:46.704417Z",
     "iopub.status.busy": "2021-09-20T23:09:46.702187Z",
     "iopub.status.idle": "2021-09-20T23:09:46.725932Z",
     "shell.execute_reply": "2021-09-20T23:09:46.725298Z"
    }
   },
   "outputs": [
    {
     "data": {
      "text/html": [
       "<div>\n",
       "<style scoped>\n",
       "    .dataframe tbody tr th:only-of-type {\n",
       "        vertical-align: middle;\n",
       "    }\n",
       "\n",
       "    .dataframe tbody tr th {\n",
       "        vertical-align: top;\n",
       "    }\n",
       "\n",
       "    .dataframe thead th {\n",
       "        text-align: right;\n",
       "    }\n",
       "</style>\n",
       "<table border=\"1\" class=\"dataframe\">\n",
       "  <thead>\n",
       "    <tr style=\"text-align: right;\">\n",
       "      <th></th>\n",
       "      <th>dt</th>\n",
       "      <th>temp</th>\n",
       "      <th>feels_like</th>\n",
       "      <th>pressure</th>\n",
       "      <th>humidity</th>\n",
       "      <th>dew_point</th>\n",
       "      <th>uvi</th>\n",
       "      <th>clouds</th>\n",
       "      <th>visibility</th>\n",
       "      <th>wind_speed</th>\n",
       "      <th>wind_deg</th>\n",
       "      <th>wind_gust</th>\n",
       "      <th>weather</th>\n",
       "      <th>pop</th>\n",
       "      <th>rain</th>\n",
       "    </tr>\n",
       "  </thead>\n",
       "  <tbody>\n",
       "    <tr>\n",
       "      <th>0</th>\n",
       "      <td>1632178800</td>\n",
       "      <td>28.75</td>\n",
       "      <td>34.67</td>\n",
       "      <td>1010</td>\n",
       "      <td>83</td>\n",
       "      <td>25.57</td>\n",
       "      <td>0.21</td>\n",
       "      <td>30</td>\n",
       "      <td>10000</td>\n",
       "      <td>1.16</td>\n",
       "      <td>8</td>\n",
       "      <td>1.15</td>\n",
       "      <td>[{'id': 500, 'main': 'Rain', 'description': 'l...</td>\n",
       "      <td>0.43</td>\n",
       "      <td>{'1h': 0.16}</td>\n",
       "    </tr>\n",
       "    <tr>\n",
       "      <th>1</th>\n",
       "      <td>1632182400</td>\n",
       "      <td>28.65</td>\n",
       "      <td>34.18</td>\n",
       "      <td>1010</td>\n",
       "      <td>82</td>\n",
       "      <td>25.27</td>\n",
       "      <td>1.19</td>\n",
       "      <td>29</td>\n",
       "      <td>10000</td>\n",
       "      <td>1.02</td>\n",
       "      <td>4</td>\n",
       "      <td>0.93</td>\n",
       "      <td>[{'id': 802, 'main': 'Clouds', 'description': ...</td>\n",
       "      <td>0.64</td>\n",
       "      <td>NaN</td>\n",
       "    </tr>\n",
       "    <tr>\n",
       "      <th>2</th>\n",
       "      <td>1632186000</td>\n",
       "      <td>28.93</td>\n",
       "      <td>34.34</td>\n",
       "      <td>1010</td>\n",
       "      <td>79</td>\n",
       "      <td>24.92</td>\n",
       "      <td>3.22</td>\n",
       "      <td>23</td>\n",
       "      <td>10000</td>\n",
       "      <td>0.51</td>\n",
       "      <td>43</td>\n",
       "      <td>0.69</td>\n",
       "      <td>[{'id': 801, 'main': 'Clouds', 'description': ...</td>\n",
       "      <td>0.42</td>\n",
       "      <td>NaN</td>\n",
       "    </tr>\n",
       "    <tr>\n",
       "      <th>3</th>\n",
       "      <td>1632189600</td>\n",
       "      <td>29.51</td>\n",
       "      <td>34.76</td>\n",
       "      <td>1011</td>\n",
       "      <td>74</td>\n",
       "      <td>24.38</td>\n",
       "      <td>6.06</td>\n",
       "      <td>19</td>\n",
       "      <td>10000</td>\n",
       "      <td>0.88</td>\n",
       "      <td>96</td>\n",
       "      <td>1.01</td>\n",
       "      <td>[{'id': 801, 'main': 'Clouds', 'description': ...</td>\n",
       "      <td>0.34</td>\n",
       "      <td>NaN</td>\n",
       "    </tr>\n",
       "    <tr>\n",
       "      <th>4</th>\n",
       "      <td>1632193200</td>\n",
       "      <td>30.23</td>\n",
       "      <td>35.35</td>\n",
       "      <td>1011</td>\n",
       "      <td>69</td>\n",
       "      <td>23.91</td>\n",
       "      <td>8.74</td>\n",
       "      <td>18</td>\n",
       "      <td>10000</td>\n",
       "      <td>1.41</td>\n",
       "      <td>124</td>\n",
       "      <td>1.23</td>\n",
       "      <td>[{'id': 801, 'main': 'Clouds', 'description': ...</td>\n",
       "      <td>0.23</td>\n",
       "      <td>NaN</td>\n",
       "    </tr>\n",
       "  </tbody>\n",
       "</table>\n",
       "</div>"
      ],
      "text/plain": [
       "           dt   temp  feels_like  pressure  humidity  dew_point   uvi  clouds  \\\n",
       "0  1632178800  28.75       34.67      1010        83      25.57  0.21      30   \n",
       "1  1632182400  28.65       34.18      1010        82      25.27  1.19      29   \n",
       "2  1632186000  28.93       34.34      1010        79      24.92  3.22      23   \n",
       "3  1632189600  29.51       34.76      1011        74      24.38  6.06      19   \n",
       "4  1632193200  30.23       35.35      1011        69      23.91  8.74      18   \n",
       "\n",
       "   visibility  wind_speed  wind_deg  wind_gust  \\\n",
       "0       10000        1.16         8       1.15   \n",
       "1       10000        1.02         4       0.93   \n",
       "2       10000        0.51        43       0.69   \n",
       "3       10000        0.88        96       1.01   \n",
       "4       10000        1.41       124       1.23   \n",
       "\n",
       "                                             weather   pop          rain  \n",
       "0  [{'id': 500, 'main': 'Rain', 'description': 'l...  0.43  {'1h': 0.16}  \n",
       "1  [{'id': 802, 'main': 'Clouds', 'description': ...  0.64           NaN  \n",
       "2  [{'id': 801, 'main': 'Clouds', 'description': ...  0.42           NaN  \n",
       "3  [{'id': 801, 'main': 'Clouds', 'description': ...  0.34           NaN  \n",
       "4  [{'id': 801, 'main': 'Clouds', 'description': ...  0.23           NaN  "
      ]
     },
     "execution_count": 10,
     "metadata": {},
     "output_type": "execute_result"
    }
   ],
   "source": [
    "df_hourly.head()"
   ]
  },
  {
   "cell_type": "code",
   "execution_count": null,
   "metadata": {},
   "outputs": [],
   "source": []
  }
 ],
 "metadata": {
  "interpreter": {
   "hash": "c1b4cfe941b6d2466ad1fb5979e97da9cda8801728c8091b097ab734208fc00c"
  },
  "kernelspec": {
   "display_name": "Python 3.8.3 64-bit ('base': conda)",
   "name": "python3"
  },
  "language_info": {
   "codemirror_mode": {
    "name": "ipython",
    "version": 3
   },
   "file_extension": ".py",
   "mimetype": "text/x-python",
   "name": "python",
   "nbconvert_exporter": "python",
   "pygments_lexer": "ipython3",
   "version": "3.8.11"
  }
 },
 "nbformat": 4,
 "nbformat_minor": 2
}
