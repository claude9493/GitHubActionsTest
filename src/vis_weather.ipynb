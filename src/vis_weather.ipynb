{
 "cells": [
  {
   "cell_type": "code",
   "execution_count": 1,
   "metadata": {
    "execution": {
     "iopub.execute_input": "2021-10-17T16:16:21.771164Z",
     "iopub.status.busy": "2021-10-17T16:16:21.770565Z",
     "iopub.status.idle": "2021-10-17T16:16:23.181758Z",
     "shell.execute_reply": "2021-10-17T16:16:23.181146Z"
    }
   },
   "outputs": [],
   "source": [
    "import json, yaml, requests\r\n",
    "from datetime import datetime\r\n",
    "from dateutil import tz\r\n",
    "import pandas as pd\r\n",
    "from PIL import Image\r\n",
    "from io import BytesIO\r\n",
    "import matplotlib.pyplot as plt\r\n",
    "import seaborn\r\n",
    "\r\n",
    "CONFIG_PATH = \"../config/config.yaml\""
   ]
  },
  {
   "cell_type": "code",
   "execution_count": 2,
   "metadata": {
    "execution": {
     "iopub.execute_input": "2021-10-17T16:16:23.187014Z",
     "iopub.status.busy": "2021-10-17T16:16:23.186468Z",
     "iopub.status.idle": "2021-10-17T16:16:23.191843Z",
     "shell.execute_reply": "2021-10-17T16:16:23.191182Z"
    }
   },
   "outputs": [],
   "source": [
    "with open('../newest_ts', 'r') as f:\r\n",
    "    newest_ts = f.read()\r\n",
    "\r\n",
    "data_path = f\"../data/data_{newest_ts}.json\"\r\n",
    "with open(data_path, 'r') as f:\r\n",
    "    data = json.load(f)\r\n",
    "\r\n",
    "with open(CONFIG_PATH, \"r\") as stream:\r\n",
    "    config = yaml.safe_load(stream)\r\n",
    "\r\n",
    "TIME_ZONE = config['time_zone']\r\n",
    "DATETIME_FORMAT = config['dt_format']"
   ]
  },
  {
   "cell_type": "code",
   "execution_count": 3,
   "metadata": {
    "execution": {
     "iopub.execute_input": "2021-10-17T16:16:23.196070Z",
     "iopub.status.busy": "2021-10-17T16:16:23.195578Z",
     "iopub.status.idle": "2021-10-17T16:16:23.200871Z",
     "shell.execute_reply": "2021-10-17T16:16:23.201248Z"
    }
   },
   "outputs": [
    {
     "name": "stdout",
     "output_type": "stream",
     "text": [
      "Recent query happens at 2021-10-18 00:16:19 (CST).\n"
     ]
    }
   ],
   "source": [
    "def ts2dt(ts, format=DATETIME_FORMAT):\r\n",
    "    dt = (datetime.utcfromtimestamp(int(ts))\r\n",
    "                    .replace(tzinfo=tz.tzutc())\r\n",
    "                    # .astimezone(tz.tzlocal())\r\n",
    "                    .astimezone(tz.gettz(TIME_ZONE)))\r\n",
    "    return dt.strftime(format), dt\r\n",
    "\r\n",
    "_, newest_dt = ts2dt(newest_ts)\r\n",
    "print(f\"Recent query happens at {newest_dt.strftime(DATETIME_FORMAT)} ({newest_dt.tzname()}).\")"
   ]
  },
  {
   "cell_type": "code",
   "execution_count": 4,
   "metadata": {
    "execution": {
     "iopub.execute_input": "2021-10-17T16:16:23.206080Z",
     "iopub.status.busy": "2021-10-17T16:16:23.204952Z",
     "iopub.status.idle": "2021-10-17T16:16:23.206614Z",
     "shell.execute_reply": "2021-10-17T16:16:23.206977Z"
    }
   },
   "outputs": [],
   "source": [
    "def degrees_to_cardinal(d):\r\n",
    "  dirs = ['N', 'NNE', 'NE', 'ENE', 'E', 'ESE', 'SE', 'SSE', 'S', 'SSW', 'SW', 'WSW', 'W', 'WNW', 'NW', 'NNW']\r\n",
    "  ix = int(round(d / (360. / len(dirs))))\r\n",
    "  return dirs[ix % len(dirs)]"
   ]
  },
  {
   "cell_type": "code",
   "execution_count": 5,
   "metadata": {
    "execution": {
     "iopub.execute_input": "2021-10-17T16:16:23.210858Z",
     "iopub.status.busy": "2021-10-17T16:16:23.209794Z",
     "iopub.status.idle": "2021-10-17T16:16:23.211447Z",
     "shell.execute_reply": "2021-10-17T16:16:23.211834Z"
    }
   },
   "outputs": [],
   "source": [
    "# data.keys()"
   ]
  },
  {
   "cell_type": "code",
   "execution_count": 6,
   "metadata": {
    "execution": {
     "iopub.execute_input": "2021-10-17T16:16:23.215511Z",
     "iopub.status.busy": "2021-10-17T16:16:23.214368Z",
     "iopub.status.idle": "2021-10-17T16:16:23.216045Z",
     "shell.execute_reply": "2021-10-17T16:16:23.216405Z"
    }
   },
   "outputs": [],
   "source": [
    "# data['current']"
   ]
  },
  {
   "cell_type": "code",
   "execution_count": 7,
   "metadata": {
    "execution": {
     "iopub.execute_input": "2021-10-17T16:16:23.232792Z",
     "iopub.status.busy": "2021-10-17T16:16:23.232333Z",
     "iopub.status.idle": "2021-10-17T16:16:23.617203Z",
     "shell.execute_reply": "2021-10-17T16:16:23.617867Z"
    }
   },
   "outputs": [
    {
     "data": {
      "image/png": "[encoded data removed]",
      "text/plain": [
       "<Figure size 216x216 with 1 Axes>"
      ]
     },
     "metadata": {
      "needs_background": "light"
     },
     "output_type": "display_data"
    },
    {
     "name": "stdout",
     "output_type": "stream",
     "text": [
      "Today, sun rises at 06:20 and sets at 17:55.\n",
      "Currently, the weather is Clouds (broken clouds).\n",
      "The temperature is 21.84°C and it feels like 22.09°C.\n",
      "The UV index is 0, humidity is 77%.\n",
      "The pressure is 1018 hPa, percentage of cloud cover is 72%\n",
      "The wind comes from NNW direction with a speed 0.45 m/s.\n"
     ]
    }
   ],
   "source": [
    "current = data['current']\r\n",
    "\r\n",
    "fig, ax = plt.subplots(figsize=(3, 3))\r\n",
    "icon = requests.get(f\"http://openweathermap.org/img/wn/{current['weather'][0]['icon']}@2x.png\")\r\n",
    "im = Image.open(BytesIO(icon.content))\r\n",
    "plt.imshow(im)\r\n",
    "ax.set_axis_off()\r\n",
    "plt.show()\r\n",
    "\r\n",
    "print(f\"Today, sun rises at {ts2dt(current['sunrise'], '%H:%M')[0]} \\\r\n",
    "and sets at {ts2dt(current['sunset'], '%H:%M')[0]}.\\n\\\r\n",
    "Currently, the weather is {current['weather'][0]['main']} ({current['weather'][0]['description']}).\\n\\\r\n",
    "The temperature is {current['temp']}°C and it feels like {current['feels_like']}°C.\\n\\\r\n",
    "The UV index is {current['uvi']}, humidity is {current['humidity']}%.\\n\\\r\n",
    "The pressure is {current['pressure']} hPa, percentage of cloud cover is {current['clouds']}%\\n\\\r\n",
    "The wind comes from {degrees_to_cardinal(current['wind_deg'])} direction with a speed {current['wind_speed']} m/s.\")"
   ]
  },
  {
   "cell_type": "code",
   "execution_count": 8,
   "metadata": {
    "execution": {
     "iopub.execute_input": "2021-10-17T16:16:23.620824Z",
     "iopub.status.busy": "2021-10-17T16:16:23.620374Z",
     "iopub.status.idle": "2021-10-17T16:16:23.626644Z",
     "shell.execute_reply": "2021-10-17T16:16:23.627283Z"
    }
   },
   "outputs": [],
   "source": [
    "df_hourly = pd.DataFrame(data['hourly'])\r\n",
    "df_daily = pd.DataFrame(data['daily'])"
   ]
  },
  {
   "cell_type": "code",
   "execution_count": 9,
   "metadata": {
    "execution": {
     "iopub.execute_input": "2021-10-17T16:16:23.630259Z",
     "iopub.status.busy": "2021-10-17T16:16:23.629327Z",
     "iopub.status.idle": "2021-10-17T16:16:23.882831Z",
     "shell.execute_reply": "2021-10-17T16:16:23.881957Z"
    }
   },
   "outputs": [
    {
     "data": {
      "image/png": "[encoded data removed]",
      "text/plain": [
       "<Figure size 864x432 with 1 Axes>"
      ]
     },
     "metadata": {
      "needs_background": "light"
     },
     "output_type": "display_data"
    }
   ],
   "source": [
    "fig, ax = plt.subplots(figsize=(12, 6))\r\n",
    "plt.plot(df_hourly.temp, '.-', label='Temperature')\r\n",
    "plt.plot(df_hourly.feels_like, '.-', label='Feels Like')\r\n",
    "ax.set(title='Temperature in future 48 hours', xlabel='Time', ylabel='Temperature')\r\n",
    "ax.set_xticks(list(range(0, len(df_hourly), 2)))\r\n",
    "ax.set_xticklabels([ts2dt(ts, '%m-%d %H:%M')[0] for i, ts in enumerate(df_hourly.dt) if i%2==0], \r\n",
    "                   rotation=45, ha=\"right\")\r\n",
    "ax.locator_params(nbins=15, axis='y')\r\n",
    "plt.legend()\r\n",
    "plt.show()"
   ]
  },
  {
   "cell_type": "code",
   "execution_count": 10,
   "metadata": {
    "execution": {
     "iopub.execute_input": "2021-10-17T16:16:23.887043Z",
     "iopub.status.busy": "2021-10-17T16:16:23.886594Z",
     "iopub.status.idle": "2021-10-17T16:16:23.905850Z",
     "shell.execute_reply": "2021-10-17T16:16:23.905424Z"
    }
   },
   "outputs": [
    {
     "data": {
      "text/html": [
       "<div>\n",
       "<style scoped>\n",
       "    .dataframe tbody tr th:only-of-type {\n",
       "        vertical-align: middle;\n",
       "    }\n",
       "\n",
       "    .dataframe tbody tr th {\n",
       "        vertical-align: top;\n",
       "    }\n",
       "\n",
       "    .dataframe thead th {\n",
       "        text-align: right;\n",
       "    }\n",
       "</style>\n",
       "<table border=\"1\" class=\"dataframe\">\n",
       "  <thead>\n",
       "    <tr style=\"text-align: right;\">\n",
       "      <th></th>\n",
       "      <th>dt</th>\n",
       "      <th>temp</th>\n",
       "      <th>feels_like</th>\n",
       "      <th>pressure</th>\n",
       "      <th>humidity</th>\n",
       "      <th>dew_point</th>\n",
       "      <th>uvi</th>\n",
       "      <th>clouds</th>\n",
       "      <th>visibility</th>\n",
       "      <th>wind_speed</th>\n",
       "      <th>wind_deg</th>\n",
       "      <th>wind_gust</th>\n",
       "      <th>weather</th>\n",
       "      <th>pop</th>\n",
       "    </tr>\n",
       "  </thead>\n",
       "  <tbody>\n",
       "    <tr>\n",
       "      <th>0</th>\n",
       "      <td>1634486400</td>\n",
       "      <td>21.84</td>\n",
       "      <td>22.09</td>\n",
       "      <td>1018</td>\n",
       "      <td>77</td>\n",
       "      <td>17.63</td>\n",
       "      <td>0.0</td>\n",
       "      <td>72</td>\n",
       "      <td>10000</td>\n",
       "      <td>4.23</td>\n",
       "      <td>33</td>\n",
       "      <td>5.74</td>\n",
       "      <td>[{'id': 803, 'main': 'Clouds', 'description': ...</td>\n",
       "      <td>0.10</td>\n",
       "    </tr>\n",
       "    <tr>\n",
       "      <th>1</th>\n",
       "      <td>1634490000</td>\n",
       "      <td>21.55</td>\n",
       "      <td>21.75</td>\n",
       "      <td>1018</td>\n",
       "      <td>76</td>\n",
       "      <td>17.14</td>\n",
       "      <td>0.0</td>\n",
       "      <td>72</td>\n",
       "      <td>10000</td>\n",
       "      <td>4.06</td>\n",
       "      <td>26</td>\n",
       "      <td>5.20</td>\n",
       "      <td>[{'id': 803, 'main': 'Clouds', 'description': ...</td>\n",
       "      <td>0.10</td>\n",
       "    </tr>\n",
       "    <tr>\n",
       "      <th>2</th>\n",
       "      <td>1634493600</td>\n",
       "      <td>21.11</td>\n",
       "      <td>21.26</td>\n",
       "      <td>1018</td>\n",
       "      <td>76</td>\n",
       "      <td>16.72</td>\n",
       "      <td>0.0</td>\n",
       "      <td>70</td>\n",
       "      <td>10000</td>\n",
       "      <td>4.17</td>\n",
       "      <td>27</td>\n",
       "      <td>5.39</td>\n",
       "      <td>[{'id': 803, 'main': 'Clouds', 'description': ...</td>\n",
       "      <td>0.06</td>\n",
       "    </tr>\n",
       "    <tr>\n",
       "      <th>3</th>\n",
       "      <td>1634497200</td>\n",
       "      <td>20.69</td>\n",
       "      <td>20.77</td>\n",
       "      <td>1018</td>\n",
       "      <td>75</td>\n",
       "      <td>16.10</td>\n",
       "      <td>0.0</td>\n",
       "      <td>71</td>\n",
       "      <td>10000</td>\n",
       "      <td>4.25</td>\n",
       "      <td>37</td>\n",
       "      <td>5.56</td>\n",
       "      <td>[{'id': 803, 'main': 'Clouds', 'description': ...</td>\n",
       "      <td>0.05</td>\n",
       "    </tr>\n",
       "    <tr>\n",
       "      <th>4</th>\n",
       "      <td>1634500800</td>\n",
       "      <td>20.21</td>\n",
       "      <td>20.27</td>\n",
       "      <td>1018</td>\n",
       "      <td>76</td>\n",
       "      <td>15.85</td>\n",
       "      <td>0.0</td>\n",
       "      <td>81</td>\n",
       "      <td>10000</td>\n",
       "      <td>4.26</td>\n",
       "      <td>38</td>\n",
       "      <td>5.34</td>\n",
       "      <td>[{'id': 803, 'main': 'Clouds', 'description': ...</td>\n",
       "      <td>0.03</td>\n",
       "    </tr>\n",
       "  </tbody>\n",
       "</table>\n",
       "</div>"
      ],
      "text/plain": [
       "           dt   temp  feels_like  pressure  humidity  dew_point  uvi  clouds  \\\n",
       "0  1634486400  21.84       22.09      1018        77      17.63  0.0      72   \n",
       "1  1634490000  21.55       21.75      1018        76      17.14  0.0      72   \n",
       "2  1634493600  21.11       21.26      1018        76      16.72  0.0      70   \n",
       "3  1634497200  20.69       20.77      1018        75      16.10  0.0      71   \n",
       "4  1634500800  20.21       20.27      1018        76      15.85  0.0      81   \n",
       "\n",
       "   visibility  wind_speed  wind_deg  wind_gust  \\\n",
       "0       10000        4.23        33       5.74   \n",
       "1       10000        4.06        26       5.20   \n",
       "2       10000        4.17        27       5.39   \n",
       "3       10000        4.25        37       5.56   \n",
       "4       10000        4.26        38       5.34   \n",
       "\n",
       "                                             weather   pop  \n",
       "0  [{'id': 803, 'main': 'Clouds', 'description': ...  0.10  \n",
       "1  [{'id': 803, 'main': 'Clouds', 'description': ...  0.10  \n",
       "2  [{'id': 803, 'main': 'Clouds', 'description': ...  0.06  \n",
       "3  [{'id': 803, 'main': 'Clouds', 'description': ...  0.05  \n",
       "4  [{'id': 803, 'main': 'Clouds', 'description': ...  0.03  "
      ]
     },
     "execution_count": 10,
     "metadata": {},
     "output_type": "execute_result"
    }
   ],
   "source": [
    "df_hourly.head()"
   ]
  },
  {
   "cell_type": "code",
   "execution_count": null,
   "metadata": {},
   "outputs": [],
   "source": []
  }
 ],
 "metadata": {
  "interpreter": {
   "hash": "c1b4cfe941b6d2466ad1fb5979e97da9cda8801728c8091b097ab734208fc00c"
  },
  "kernelspec": {
   "display_name": "Python 3.8.3 64-bit ('base': conda)",
   "name": "python3"
  },
  "language_info": {
   "codemirror_mode": {
    "name": "ipython",
    "version": 3
   },
   "file_extension": ".py",
   "mimetype": "text/x-python",
   "name": "python",
   "nbconvert_exporter": "python",
   "pygments_lexer": "ipython3",
   "version": "3.8.12"
  }
 },
 "nbformat": 4,
 "nbformat_minor": 2
}
