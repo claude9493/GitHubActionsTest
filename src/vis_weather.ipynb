{
 "cells": [
  {
   "cell_type": "code",
   "execution_count": 1,
   "metadata": {
    "execution": {
     "iopub.execute_input": "2021-09-24T12:17:50.392943Z",
     "iopub.status.busy": "2021-09-24T12:17:50.392263Z",
     "iopub.status.idle": "2021-09-24T12:17:54.335511Z",
     "shell.execute_reply": "2021-09-24T12:17:54.334870Z"
    }
   },
   "outputs": [],
   "source": [
    "import json, yaml, requests\r\n",
    "from datetime import datetime\r\n",
    "from dateutil import tz\r\n",
    "import pandas as pd\r\n",
    "from PIL import Image\r\n",
    "from io import BytesIO\r\n",
    "import matplotlib.pyplot as plt\r\n",
    "import seaborn\r\n",
    "\r\n",
    "CONFIG_PATH = \"../config/config.yaml\""
   ]
  },
  {
   "cell_type": "code",
   "execution_count": 2,
   "metadata": {
    "execution": {
     "iopub.execute_input": "2021-09-24T12:17:54.341687Z",
     "iopub.status.busy": "2021-09-24T12:17:54.340606Z",
     "iopub.status.idle": "2021-09-24T12:17:54.346674Z",
     "shell.execute_reply": "2021-09-24T12:17:54.345872Z"
    }
   },
   "outputs": [],
   "source": [
    "with open('../newest_ts', 'r') as f:\r\n",
    "    newest_ts = f.read()\r\n",
    "\r\n",
    "data_path = f\"../data/data_{newest_ts}.json\"\r\n",
    "with open(data_path, 'r') as f:\r\n",
    "    data = json.load(f)\r\n",
    "\r\n",
    "with open(CONFIG_PATH, \"r\") as stream:\r\n",
    "    config = yaml.safe_load(stream)\r\n",
    "\r\n",
    "TIME_ZONE = config['time_zone']\r\n",
    "DATETIME_FORMAT = config['dt_format']"
   ]
  },
  {
   "cell_type": "code",
   "execution_count": 3,
   "metadata": {
    "execution": {
     "iopub.execute_input": "2021-09-24T12:17:54.351355Z",
     "iopub.status.busy": "2021-09-24T12:17:54.350863Z",
     "iopub.status.idle": "2021-09-24T12:17:54.362587Z",
     "shell.execute_reply": "2021-09-24T12:17:54.362147Z"
    }
   },
   "outputs": [
    {
     "name": "stdout",
     "output_type": "stream",
     "text": [
      "Recent query happens at 2021-09-24 20:17:46 (CST).\n"
     ]
    }
   ],
   "source": [
    "def ts2dt(ts, format=DATETIME_FORMAT):\r\n",
    "    dt = (datetime.utcfromtimestamp(int(ts))\r\n",
    "                    .replace(tzinfo=tz.tzutc())\r\n",
    "                    # .astimezone(tz.tzlocal())\r\n",
    "                    .astimezone(tz.gettz(TIME_ZONE)))\r\n",
    "    return dt.strftime(format), dt\r\n",
    "\r\n",
    "_, newest_dt = ts2dt(newest_ts)\r\n",
    "print(f\"Recent query happens at {newest_dt.strftime(DATETIME_FORMAT)} ({newest_dt.tzname()}).\")"
   ]
  },
  {
   "cell_type": "code",
   "execution_count": 4,
   "metadata": {
    "execution": {
     "iopub.execute_input": "2021-09-24T12:17:54.368013Z",
     "iopub.status.busy": "2021-09-24T12:17:54.366813Z",
     "iopub.status.idle": "2021-09-24T12:17:54.368606Z",
     "shell.execute_reply": "2021-09-24T12:17:54.369061Z"
    }
   },
   "outputs": [],
   "source": [
    "def degrees_to_cardinal(d):\r\n",
    "  dirs = ['N', 'NNE', 'NE', 'ENE', 'E', 'ESE', 'SE', 'SSE', 'S', 'SSW', 'SW', 'WSW', 'W', 'WNW', 'NW', 'NNW']\r\n",
    "  ix = int(round(d / (360. / len(dirs))))\r\n",
    "  return dirs[ix % len(dirs)]"
   ]
  },
  {
   "cell_type": "code",
   "execution_count": 5,
   "metadata": {
    "execution": {
     "iopub.execute_input": "2021-09-24T12:17:54.373048Z",
     "iopub.status.busy": "2021-09-24T12:17:54.371942Z",
     "iopub.status.idle": "2021-09-24T12:17:54.373603Z",
     "shell.execute_reply": "2021-09-24T12:17:54.373996Z"
    }
   },
   "outputs": [],
   "source": [
    "# data.keys()"
   ]
  },
  {
   "cell_type": "code",
   "execution_count": 6,
   "metadata": {
    "execution": {
     "iopub.execute_input": "2021-09-24T12:17:54.377971Z",
     "iopub.status.busy": "2021-09-24T12:17:54.376815Z",
     "iopub.status.idle": "2021-09-24T12:17:54.378565Z",
     "shell.execute_reply": "2021-09-24T12:17:54.378990Z"
    }
   },
   "outputs": [],
   "source": [
    "# data['current']"
   ]
  },
  {
   "cell_type": "code",
   "execution_count": 7,
   "metadata": {
    "execution": {
     "iopub.execute_input": "2021-09-24T12:17:54.396952Z",
     "iopub.status.busy": "2021-09-24T12:17:54.396388Z",
     "iopub.status.idle": "2021-09-24T12:17:54.679923Z",
     "shell.execute_reply": "2021-09-24T12:17:54.680620Z"
    }
   },
   "outputs": [
    {
     "data": {
      "image/png": "[encoded data removed]",
      "text/plain": [
       "<Figure size 216x216 with 1 Axes>"
      ]
     },
     "metadata": {
      "needs_background": "light"
     },
     "output_type": "display_data"
    },
    {
     "name": "stdout",
     "output_type": "stream",
     "text": [
      "Today, sun rises at 06:12 and sets at 18:17.\n",
      "Currently, the weather is Clear (clear sky).\n",
      "The temperature is 29.59°C and it feels like 36.59°C.\n",
      "The UV index is 0, humidity is 81%.\n",
      "The pressure is 1013 hPa, percentage of cloud cover is 5%\n",
      "The wind comes from SSE direction with a speed 0.45 m/s.\n"
     ]
    }
   ],
   "source": [
    "current = data['current']\r\n",
    "\r\n",
    "fig, ax = plt.subplots(figsize=(3, 3))\r\n",
    "icon = requests.get(f\"http://openweathermap.org/img/wn/{current['weather'][0]['icon']}@2x.png\")\r\n",
    "im = Image.open(BytesIO(icon.content))\r\n",
    "plt.imshow(im)\r\n",
    "ax.set_axis_off()\r\n",
    "plt.show()\r\n",
    "\r\n",
    "print(f\"Today, sun rises at {ts2dt(current['sunrise'], '%H:%M')[0]} \\\r\n",
    "and sets at {ts2dt(current['sunset'], '%H:%M')[0]}.\\n\\\r\n",
    "Currently, the weather is {current['weather'][0]['main']} ({current['weather'][0]['description']}).\\n\\\r\n",
    "The temperature is {current['temp']}°C and it feels like {current['feels_like']}°C.\\n\\\r\n",
    "The UV index is {current['uvi']}, humidity is {current['humidity']}%.\\n\\\r\n",
    "The pressure is {current['pressure']} hPa, percentage of cloud cover is {current['clouds']}%\\n\\\r\n",
    "The wind comes from {degrees_to_cardinal(current['wind_deg'])} direction with a speed {current['wind_speed']} m/s.\")"
   ]
  },
  {
   "cell_type": "code",
   "execution_count": 8,
   "metadata": {
    "execution": {
     "iopub.execute_input": "2021-09-24T12:17:54.688405Z",
     "iopub.status.busy": "2021-09-24T12:17:54.683178Z",
     "iopub.status.idle": "2021-09-24T12:17:54.691301Z",
     "shell.execute_reply": "2021-09-24T12:17:54.691936Z"
    }
   },
   "outputs": [],
   "source": [
    "df_hourly = pd.DataFrame(data['hourly'])\r\n",
    "df_daily = pd.DataFrame(data['daily'])"
   ]
  },
  {
   "cell_type": "code",
   "execution_count": 9,
   "metadata": {
    "execution": {
     "iopub.execute_input": "2021-09-24T12:17:54.700120Z",
     "iopub.status.busy": "2021-09-24T12:17:54.699620Z",
     "iopub.status.idle": "2021-09-24T12:17:54.961762Z",
     "shell.execute_reply": "2021-09-24T12:17:54.961252Z"
    }
   },
   "outputs": [
    {
     "data": {
      "image/png": "[encoded data removed]",
      "text/plain": [
       "<Figure size 864x432 with 1 Axes>"
      ]
     },
     "metadata": {
      "needs_background": "light"
     },
     "output_type": "display_data"
    }
   ],
   "source": [
    "fig, ax = plt.subplots(figsize=(12, 6))\r\n",
    "plt.plot(df_hourly.temp, '.-', label='Temperature')\r\n",
    "plt.plot(df_hourly.feels_like, '.-', label='Feels Like')\r\n",
    "ax.set(title='Temperature in future 48 hours', xlabel='Time', ylabel='Temperature')\r\n",
    "ax.set_xticks(list(range(0, len(df_hourly), 2)))\r\n",
    "ax.set_xticklabels([ts2dt(ts, '%m-%d %H:%M')[0] for i, ts in enumerate(df_hourly.dt) if i%2==0], \r\n",
    "                   rotation=45, ha=\"right\")\r\n",
    "ax.locator_params(nbins=15, axis='y')\r\n",
    "plt.legend()\r\n",
    "plt.show()"
   ]
  },
  {
   "cell_type": "code",
   "execution_count": 10,
   "metadata": {
    "execution": {
     "iopub.execute_input": "2021-09-24T12:17:54.966440Z",
     "iopub.status.busy": "2021-09-24T12:17:54.965890Z",
     "iopub.status.idle": "2021-09-24T12:17:54.986127Z",
     "shell.execute_reply": "2021-09-24T12:17:54.985616Z"
    }
   },
   "outputs": [
    {
     "data": {
      "text/html": [
       "<div>\n",
       "<style scoped>\n",
       "    .dataframe tbody tr th:only-of-type {\n",
       "        vertical-align: middle;\n",
       "    }\n",
       "\n",
       "    .dataframe tbody tr th {\n",
       "        vertical-align: top;\n",
       "    }\n",
       "\n",
       "    .dataframe thead th {\n",
       "        text-align: right;\n",
       "    }\n",
       "</style>\n",
       "<table border=\"1\" class=\"dataframe\">\n",
       "  <thead>\n",
       "    <tr style=\"text-align: right;\">\n",
       "      <th></th>\n",
       "      <th>dt</th>\n",
       "      <th>temp</th>\n",
       "      <th>feels_like</th>\n",
       "      <th>pressure</th>\n",
       "      <th>humidity</th>\n",
       "      <th>dew_point</th>\n",
       "      <th>uvi</th>\n",
       "      <th>clouds</th>\n",
       "      <th>visibility</th>\n",
       "      <th>wind_speed</th>\n",
       "      <th>wind_deg</th>\n",
       "      <th>wind_gust</th>\n",
       "      <th>weather</th>\n",
       "      <th>pop</th>\n",
       "      <th>rain</th>\n",
       "    </tr>\n",
       "  </thead>\n",
       "  <tbody>\n",
       "    <tr>\n",
       "      <th>0</th>\n",
       "      <td>1632484800</td>\n",
       "      <td>29.59</td>\n",
       "      <td>36.59</td>\n",
       "      <td>1013</td>\n",
       "      <td>81</td>\n",
       "      <td>25.98</td>\n",
       "      <td>0.0</td>\n",
       "      <td>5</td>\n",
       "      <td>10000</td>\n",
       "      <td>6.31</td>\n",
       "      <td>96</td>\n",
       "      <td>8.83</td>\n",
       "      <td>[{'id': 500, 'main': 'Rain', 'description': 'l...</td>\n",
       "      <td>0.67</td>\n",
       "      <td>{'1h': 0.17}</td>\n",
       "    </tr>\n",
       "    <tr>\n",
       "      <th>1</th>\n",
       "      <td>1632488400</td>\n",
       "      <td>29.28</td>\n",
       "      <td>35.77</td>\n",
       "      <td>1013</td>\n",
       "      <td>81</td>\n",
       "      <td>25.68</td>\n",
       "      <td>0.0</td>\n",
       "      <td>5</td>\n",
       "      <td>10000</td>\n",
       "      <td>6.36</td>\n",
       "      <td>93</td>\n",
       "      <td>9.09</td>\n",
       "      <td>[{'id': 800, 'main': 'Clear', 'description': '...</td>\n",
       "      <td>0.50</td>\n",
       "      <td>NaN</td>\n",
       "    </tr>\n",
       "    <tr>\n",
       "      <th>2</th>\n",
       "      <td>1632492000</td>\n",
       "      <td>29.01</td>\n",
       "      <td>34.77</td>\n",
       "      <td>1013</td>\n",
       "      <td>80</td>\n",
       "      <td>25.21</td>\n",
       "      <td>0.0</td>\n",
       "      <td>6</td>\n",
       "      <td>10000</td>\n",
       "      <td>6.53</td>\n",
       "      <td>93</td>\n",
       "      <td>9.46</td>\n",
       "      <td>[{'id': 800, 'main': 'Clear', 'description': '...</td>\n",
       "      <td>0.58</td>\n",
       "      <td>NaN</td>\n",
       "    </tr>\n",
       "    <tr>\n",
       "      <th>3</th>\n",
       "      <td>1632495600</td>\n",
       "      <td>28.63</td>\n",
       "      <td>33.73</td>\n",
       "      <td>1014</td>\n",
       "      <td>80</td>\n",
       "      <td>24.84</td>\n",
       "      <td>0.0</td>\n",
       "      <td>6</td>\n",
       "      <td>10000</td>\n",
       "      <td>6.47</td>\n",
       "      <td>90</td>\n",
       "      <td>9.59</td>\n",
       "      <td>[{'id': 500, 'main': 'Rain', 'description': 'l...</td>\n",
       "      <td>0.58</td>\n",
       "      <td>{'1h': 0.13}</td>\n",
       "    </tr>\n",
       "    <tr>\n",
       "      <th>4</th>\n",
       "      <td>1632499200</td>\n",
       "      <td>28.30</td>\n",
       "      <td>33.04</td>\n",
       "      <td>1014</td>\n",
       "      <td>81</td>\n",
       "      <td>24.72</td>\n",
       "      <td>0.0</td>\n",
       "      <td>7</td>\n",
       "      <td>10000</td>\n",
       "      <td>6.31</td>\n",
       "      <td>88</td>\n",
       "      <td>9.19</td>\n",
       "      <td>[{'id': 800, 'main': 'Clear', 'description': '...</td>\n",
       "      <td>0.54</td>\n",
       "      <td>NaN</td>\n",
       "    </tr>\n",
       "  </tbody>\n",
       "</table>\n",
       "</div>"
      ],
      "text/plain": [
       "           dt   temp  feels_like  pressure  humidity  dew_point  uvi  clouds  \\\n",
       "0  1632484800  29.59       36.59      1013        81      25.98  0.0       5   \n",
       "1  1632488400  29.28       35.77      1013        81      25.68  0.0       5   \n",
       "2  1632492000  29.01       34.77      1013        80      25.21  0.0       6   \n",
       "3  1632495600  28.63       33.73      1014        80      24.84  0.0       6   \n",
       "4  1632499200  28.30       33.04      1014        81      24.72  0.0       7   \n",
       "\n",
       "   visibility  wind_speed  wind_deg  wind_gust  \\\n",
       "0       10000        6.31        96       8.83   \n",
       "1       10000        6.36        93       9.09   \n",
       "2       10000        6.53        93       9.46   \n",
       "3       10000        6.47        90       9.59   \n",
       "4       10000        6.31        88       9.19   \n",
       "\n",
       "                                             weather   pop          rain  \n",
       "0  [{'id': 500, 'main': 'Rain', 'description': 'l...  0.67  {'1h': 0.17}  \n",
       "1  [{'id': 800, 'main': 'Clear', 'description': '...  0.50           NaN  \n",
       "2  [{'id': 800, 'main': 'Clear', 'description': '...  0.58           NaN  \n",
       "3  [{'id': 500, 'main': 'Rain', 'description': 'l...  0.58  {'1h': 0.13}  \n",
       "4  [{'id': 800, 'main': 'Clear', 'description': '...  0.54           NaN  "
      ]
     },
     "execution_count": 10,
     "metadata": {},
     "output_type": "execute_result"
    }
   ],
   "source": [
    "df_hourly.head()"
   ]
  },
  {
   "cell_type": "code",
   "execution_count": null,
   "metadata": {},
   "outputs": [],
   "source": []
  }
 ],
 "metadata": {
  "interpreter": {
   "hash": "c1b4cfe941b6d2466ad1fb5979e97da9cda8801728c8091b097ab734208fc00c"
  },
  "kernelspec": {
   "display_name": "Python 3.8.3 64-bit ('base': conda)",
   "name": "python3"
  },
  "language_info": {
   "codemirror_mode": {
    "name": "ipython",
    "version": 3
   },
   "file_extension": ".py",
   "mimetype": "text/x-python",
   "name": "python",
   "nbconvert_exporter": "python",
   "pygments_lexer": "ipython3",
   "version": "3.8.12"
  }
 },
 "nbformat": 4,
 "nbformat_minor": 2
}
