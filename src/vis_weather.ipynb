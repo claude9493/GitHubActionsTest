{
 "cells": [
  {
   "cell_type": "code",
   "execution_count": 1,
   "metadata": {
    "execution": {
     "iopub.execute_input": "2021-09-02T21:37:40.085063Z",
     "iopub.status.busy": "2021-09-02T21:37:40.084458Z",
     "iopub.status.idle": "2021-09-02T21:37:43.251760Z",
     "shell.execute_reply": "2021-09-02T21:37:43.251162Z"
    }
   },
   "outputs": [],
   "source": [
    "import json, yaml, requests\r\n",
    "from datetime import datetime\r\n",
    "from dateutil import tz\r\n",
    "import pandas as pd\r\n",
    "from PIL import Image\r\n",
    "from io import BytesIO\r\n",
    "import matplotlib.pyplot as plt\r\n",
    "import seaborn\r\n",
    "\r\n",
    "CONFIG_PATH = \"../config/config.yaml\""
   ]
  },
  {
   "cell_type": "code",
   "execution_count": 2,
   "metadata": {
    "execution": {
     "iopub.execute_input": "2021-09-02T21:37:43.256675Z",
     "iopub.status.busy": "2021-09-02T21:37:43.256249Z",
     "iopub.status.idle": "2021-09-02T21:37:43.260753Z",
     "shell.execute_reply": "2021-09-02T21:37:43.261076Z"
    }
   },
   "outputs": [],
   "source": [
    "with open('../newest_ts', 'r') as f:\r\n",
    "    newest_ts = f.read()\r\n",
    "\r\n",
    "data_path = f\"../data/data_{newest_ts}.json\"\r\n",
    "with open(data_path, 'r') as f:\r\n",
    "    data = json.load(f)\r\n",
    "\r\n",
    "with open(CONFIG_PATH, \"r\") as stream:\r\n",
    "    config = yaml.safe_load(stream)\r\n",
    "\r\n",
    "TIME_ZONE = config['time_zone']\r\n",
    "DATETIME_FORMAT = config['dt_format']"
   ]
  },
  {
   "cell_type": "code",
   "execution_count": 3,
   "metadata": {
    "execution": {
     "iopub.execute_input": "2021-09-02T21:37:43.265383Z",
     "iopub.status.busy": "2021-09-02T21:37:43.264880Z",
     "iopub.status.idle": "2021-09-02T21:37:43.269559Z",
     "shell.execute_reply": "2021-09-02T21:37:43.269961Z"
    }
   },
   "outputs": [
    {
     "name": "stdout",
     "output_type": "stream",
     "text": [
      "Recent query happens at 2021-09-03 05:37:37 (CST).\n"
     ]
    }
   ],
   "source": [
    "def ts2dt(ts, format=DATETIME_FORMAT):\r\n",
    "    dt = (datetime.utcfromtimestamp(int(ts))\r\n",
    "                    .replace(tzinfo=tz.tzutc())\r\n",
    "                    # .astimezone(tz.tzlocal())\r\n",
    "                    .astimezone(tz.gettz(TIME_ZONE)))\r\n",
    "    return dt.strftime(format), dt\r\n",
    "\r\n",
    "_, newest_dt = ts2dt(newest_ts)\r\n",
    "print(f\"Recent query happens at {newest_dt.strftime(DATETIME_FORMAT)} ({newest_dt.tzname()}).\")"
   ]
  },
  {
   "cell_type": "code",
   "execution_count": 4,
   "metadata": {
    "execution": {
     "iopub.execute_input": "2021-09-02T21:37:43.274793Z",
     "iopub.status.busy": "2021-09-02T21:37:43.273698Z",
     "iopub.status.idle": "2021-09-02T21:37:43.275314Z",
     "shell.execute_reply": "2021-09-02T21:37:43.275682Z"
    }
   },
   "outputs": [],
   "source": [
    "def degrees_to_cardinal(d):\r\n",
    "  dirs = ['N', 'NNE', 'NE', 'ENE', 'E', 'ESE', 'SE', 'SSE', 'S', 'SSW', 'SW', 'WSW', 'W', 'WNW', 'NW', 'NNW']\r\n",
    "  ix = int(round(d / (360. / len(dirs))))\r\n",
    "  return dirs[ix % len(dirs)]"
   ]
  },
  {
   "cell_type": "code",
   "execution_count": 5,
   "metadata": {
    "execution": {
     "iopub.execute_input": "2021-09-02T21:37:43.279361Z",
     "iopub.status.busy": "2021-09-02T21:37:43.278400Z",
     "iopub.status.idle": "2021-09-02T21:37:43.279880Z",
     "shell.execute_reply": "2021-09-02T21:37:43.280248Z"
    }
   },
   "outputs": [],
   "source": [
    "# data.keys()"
   ]
  },
  {
   "cell_type": "code",
   "execution_count": 6,
   "metadata": {
    "execution": {
     "iopub.execute_input": "2021-09-02T21:37:43.283618Z",
     "iopub.status.busy": "2021-09-02T21:37:43.282640Z",
     "iopub.status.idle": "2021-09-02T21:37:43.284135Z",
     "shell.execute_reply": "2021-09-02T21:37:43.284499Z"
    }
   },
   "outputs": [],
   "source": [
    "# data['current']"
   ]
  },
  {
   "cell_type": "code",
   "execution_count": 7,
   "metadata": {
    "execution": {
     "iopub.execute_input": "2021-09-02T21:37:43.299148Z",
     "iopub.status.busy": "2021-09-02T21:37:43.289459Z",
     "iopub.status.idle": "2021-09-02T21:37:43.620329Z",
     "shell.execute_reply": "2021-09-02T21:37:43.620926Z"
    }
   },
   "outputs": [
    {
     "data": {
      "image/png": "[encoded data removed]",
      "text/plain": [
       "<Figure size 216x216 with 1 Axes>"
      ]
     },
     "metadata": {
      "needs_background": "light"
     },
     "output_type": "display_data"
    },
    {
     "name": "stdout",
     "output_type": "stream",
     "text": [
      "Today, sun rises at 06:06 and sets at 18:38.\n",
      "Currently, the weather is Clouds (broken clouds).\n",
      "The temperature is 28.28°C and it feels like 33.34°C.\n",
      "The UV index is 0, humidity is 83%.\n",
      "The pressure is 1007 hPa, percentage of cloud cover is 62%\n",
      "The wind comes from ESE direction with a speed 0.43 m/s.\n"
     ]
    }
   ],
   "source": [
    "current = data['current']\r\n",
    "\r\n",
    "fig, ax = plt.subplots(figsize=(3, 3))\r\n",
    "icon = requests.get(f\"http://openweathermap.org/img/wn/{current['weather'][0]['icon']}@2x.png\")\r\n",
    "im = Image.open(BytesIO(icon.content))\r\n",
    "plt.imshow(im)\r\n",
    "ax.set_axis_off()\r\n",
    "plt.show()\r\n",
    "\r\n",
    "print(f\"Today, sun rises at {ts2dt(current['sunrise'], '%H:%M')[0]} \\\r\n",
    "and sets at {ts2dt(current['sunset'], '%H:%M')[0]}.\\n\\\r\n",
    "Currently, the weather is {current['weather'][0]['main']} ({current['weather'][0]['description']}).\\n\\\r\n",
    "The temperature is {current['temp']}°C and it feels like {current['feels_like']}°C.\\n\\\r\n",
    "The UV index is {current['uvi']}, humidity is {current['humidity']}%.\\n\\\r\n",
    "The pressure is {current['pressure']} hPa, percentage of cloud cover is {current['clouds']}%\\n\\\r\n",
    "The wind comes from {degrees_to_cardinal(current['wind_deg'])} direction with a speed {current['wind_speed']} m/s.\")"
   ]
  },
  {
   "cell_type": "code",
   "execution_count": 8,
   "metadata": {
    "execution": {
     "iopub.execute_input": "2021-09-02T21:37:43.623825Z",
     "iopub.status.busy": "2021-09-02T21:37:43.622995Z",
     "iopub.status.idle": "2021-09-02T21:37:43.629511Z",
     "shell.execute_reply": "2021-09-02T21:37:43.630136Z"
    }
   },
   "outputs": [],
   "source": [
    "df_hourly = pd.DataFrame(data['hourly'])\r\n",
    "df_daily = pd.DataFrame(data['daily'])"
   ]
  },
  {
   "cell_type": "code",
   "execution_count": 9,
   "metadata": {
    "execution": {
     "iopub.execute_input": "2021-09-02T21:37:43.633051Z",
     "iopub.status.busy": "2021-09-02T21:37:43.632155Z",
     "iopub.status.idle": "2021-09-02T21:37:43.850633Z",
     "shell.execute_reply": "2021-09-02T21:37:43.850228Z"
    }
   },
   "outputs": [
    {
     "data": {
      "image/png": "[encoded data removed]",
      "text/plain": [
       "<Figure size 864x432 with 1 Axes>"
      ]
     },
     "metadata": {
      "needs_background": "light"
     },
     "output_type": "display_data"
    }
   ],
   "source": [
    "fig, ax = plt.subplots(figsize=(12, 6))\r\n",
    "plt.plot(df_hourly.temp, '.-', label='Temperature')\r\n",
    "plt.plot(df_hourly.feels_like, '.-', label='Feels Like')\r\n",
    "ax.set(title='Temperature in future 48 hours', xlabel='Time', ylabel='Temperature')\r\n",
    "ax.set_xticks(list(range(0, len(df_hourly), 2)))\r\n",
    "ax.set_xticklabels([ts2dt(ts, '%m-%d %H:%M')[0] for i, ts in enumerate(df_hourly.dt) if i%2==0], \r\n",
    "                   rotation=45, ha=\"right\")\r\n",
    "ax.locator_params(nbins=15, axis='y')\r\n",
    "plt.legend()\r\n",
    "plt.show()"
   ]
  },
  {
   "cell_type": "code",
   "execution_count": 10,
   "metadata": {
    "execution": {
     "iopub.execute_input": "2021-09-02T21:37:43.860899Z",
     "iopub.status.busy": "2021-09-02T21:37:43.854269Z",
     "iopub.status.idle": "2021-09-02T21:37:43.870516Z",
     "shell.execute_reply": "2021-09-02T21:37:43.870151Z"
    }
   },
   "outputs": [
    {
     "data": {
      "text/html": [
       "<div>\n",
       "<style scoped>\n",
       "    .dataframe tbody tr th:only-of-type {\n",
       "        vertical-align: middle;\n",
       "    }\n",
       "\n",
       "    .dataframe tbody tr th {\n",
       "        vertical-align: top;\n",
       "    }\n",
       "\n",
       "    .dataframe thead th {\n",
       "        text-align: right;\n",
       "    }\n",
       "</style>\n",
       "<table border=\"1\" class=\"dataframe\">\n",
       "  <thead>\n",
       "    <tr style=\"text-align: right;\">\n",
       "      <th></th>\n",
       "      <th>dt</th>\n",
       "      <th>temp</th>\n",
       "      <th>feels_like</th>\n",
       "      <th>pressure</th>\n",
       "      <th>humidity</th>\n",
       "      <th>dew_point</th>\n",
       "      <th>uvi</th>\n",
       "      <th>clouds</th>\n",
       "      <th>visibility</th>\n",
       "      <th>wind_speed</th>\n",
       "      <th>wind_deg</th>\n",
       "      <th>wind_gust</th>\n",
       "      <th>weather</th>\n",
       "      <th>pop</th>\n",
       "      <th>rain</th>\n",
       "    </tr>\n",
       "  </thead>\n",
       "  <tbody>\n",
       "    <tr>\n",
       "      <th>0</th>\n",
       "      <td>1630616400</td>\n",
       "      <td>28.10</td>\n",
       "      <td>32.68</td>\n",
       "      <td>1007</td>\n",
       "      <td>82</td>\n",
       "      <td>24.74</td>\n",
       "      <td>0.00</td>\n",
       "      <td>63</td>\n",
       "      <td>10000</td>\n",
       "      <td>0.57</td>\n",
       "      <td>114</td>\n",
       "      <td>0.98</td>\n",
       "      <td>[{'id': 803, 'main': 'Clouds', 'description': ...</td>\n",
       "      <td>0.00</td>\n",
       "      <td>NaN</td>\n",
       "    </tr>\n",
       "    <tr>\n",
       "      <th>1</th>\n",
       "      <td>1630620000</td>\n",
       "      <td>28.28</td>\n",
       "      <td>33.34</td>\n",
       "      <td>1007</td>\n",
       "      <td>83</td>\n",
       "      <td>25.11</td>\n",
       "      <td>0.00</td>\n",
       "      <td>62</td>\n",
       "      <td>10000</td>\n",
       "      <td>0.43</td>\n",
       "      <td>122</td>\n",
       "      <td>0.71</td>\n",
       "      <td>[{'id': 500, 'main': 'Rain', 'description': 'l...</td>\n",
       "      <td>0.20</td>\n",
       "      <td>{'1h': 0.21}</td>\n",
       "    </tr>\n",
       "    <tr>\n",
       "      <th>2</th>\n",
       "      <td>1630623600</td>\n",
       "      <td>28.12</td>\n",
       "      <td>32.73</td>\n",
       "      <td>1007</td>\n",
       "      <td>82</td>\n",
       "      <td>24.75</td>\n",
       "      <td>0.32</td>\n",
       "      <td>61</td>\n",
       "      <td>10000</td>\n",
       "      <td>0.35</td>\n",
       "      <td>84</td>\n",
       "      <td>0.60</td>\n",
       "      <td>[{'id': 500, 'main': 'Rain', 'description': 'l...</td>\n",
       "      <td>0.20</td>\n",
       "      <td>{'1h': 0.13}</td>\n",
       "    </tr>\n",
       "    <tr>\n",
       "      <th>3</th>\n",
       "      <td>1630627200</td>\n",
       "      <td>28.28</td>\n",
       "      <td>32.81</td>\n",
       "      <td>1007</td>\n",
       "      <td>80</td>\n",
       "      <td>24.50</td>\n",
       "      <td>1.48</td>\n",
       "      <td>61</td>\n",
       "      <td>10000</td>\n",
       "      <td>0.67</td>\n",
       "      <td>54</td>\n",
       "      <td>0.74</td>\n",
       "      <td>[{'id': 803, 'main': 'Clouds', 'description': ...</td>\n",
       "      <td>0.00</td>\n",
       "      <td>NaN</td>\n",
       "    </tr>\n",
       "    <tr>\n",
       "      <th>4</th>\n",
       "      <td>1630630800</td>\n",
       "      <td>28.79</td>\n",
       "      <td>33.56</td>\n",
       "      <td>1008</td>\n",
       "      <td>77</td>\n",
       "      <td>24.35</td>\n",
       "      <td>3.77</td>\n",
       "      <td>67</td>\n",
       "      <td>10000</td>\n",
       "      <td>1.05</td>\n",
       "      <td>64</td>\n",
       "      <td>1.03</td>\n",
       "      <td>[{'id': 803, 'main': 'Clouds', 'description': ...</td>\n",
       "      <td>0.39</td>\n",
       "      <td>NaN</td>\n",
       "    </tr>\n",
       "  </tbody>\n",
       "</table>\n",
       "</div>"
      ],
      "text/plain": [
       "           dt   temp  feels_like  pressure  humidity  dew_point   uvi  clouds  \\\n",
       "0  1630616400  28.10       32.68      1007        82      24.74  0.00      63   \n",
       "1  1630620000  28.28       33.34      1007        83      25.11  0.00      62   \n",
       "2  1630623600  28.12       32.73      1007        82      24.75  0.32      61   \n",
       "3  1630627200  28.28       32.81      1007        80      24.50  1.48      61   \n",
       "4  1630630800  28.79       33.56      1008        77      24.35  3.77      67   \n",
       "\n",
       "   visibility  wind_speed  wind_deg  wind_gust  \\\n",
       "0       10000        0.57       114       0.98   \n",
       "1       10000        0.43       122       0.71   \n",
       "2       10000        0.35        84       0.60   \n",
       "3       10000        0.67        54       0.74   \n",
       "4       10000        1.05        64       1.03   \n",
       "\n",
       "                                             weather   pop          rain  \n",
       "0  [{'id': 803, 'main': 'Clouds', 'description': ...  0.00           NaN  \n",
       "1  [{'id': 500, 'main': 'Rain', 'description': 'l...  0.20  {'1h': 0.21}  \n",
       "2  [{'id': 500, 'main': 'Rain', 'description': 'l...  0.20  {'1h': 0.13}  \n",
       "3  [{'id': 803, 'main': 'Clouds', 'description': ...  0.00           NaN  \n",
       "4  [{'id': 803, 'main': 'Clouds', 'description': ...  0.39           NaN  "
      ]
     },
     "execution_count": 10,
     "metadata": {},
     "output_type": "execute_result"
    }
   ],
   "source": [
    "df_hourly.head()"
   ]
  },
  {
   "cell_type": "code",
   "execution_count": null,
   "metadata": {},
   "outputs": [],
   "source": []
  }
 ],
 "metadata": {
  "interpreter": {
   "hash": "c1b4cfe941b6d2466ad1fb5979e97da9cda8801728c8091b097ab734208fc00c"
  },
  "kernelspec": {
   "display_name": "Python 3.8.3 64-bit ('base': conda)",
   "name": "python3"
  },
  "language_info": {
   "codemirror_mode": {
    "name": "ipython",
    "version": 3
   },
   "file_extension": ".py",
   "mimetype": "text/x-python",
   "name": "python",
   "nbconvert_exporter": "python",
   "pygments_lexer": "ipython3",
   "version": "3.8.11"
  }
 },
 "nbformat": 4,
 "nbformat_minor": 2
}
