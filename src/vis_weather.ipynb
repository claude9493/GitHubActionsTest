{
 "cells": [
  {
   "cell_type": "code",
   "execution_count": 1,
   "metadata": {
    "execution": {
     "iopub.execute_input": "2021-09-16T02:34:04.953848Z",
     "iopub.status.busy": "2021-09-16T02:34:04.953213Z",
     "iopub.status.idle": "2021-09-16T02:34:06.515834Z",
     "shell.execute_reply": "2021-09-16T02:34:06.514504Z"
    }
   },
   "outputs": [],
   "source": [
    "import json, yaml, requests\r\n",
    "from datetime import datetime\r\n",
    "from dateutil import tz\r\n",
    "import pandas as pd\r\n",
    "from PIL import Image\r\n",
    "from io import BytesIO\r\n",
    "import matplotlib.pyplot as plt\r\n",
    "import seaborn\r\n",
    "\r\n",
    "CONFIG_PATH = \"../config/config.yaml\""
   ]
  },
  {
   "cell_type": "code",
   "execution_count": 2,
   "metadata": {
    "execution": {
     "iopub.execute_input": "2021-09-16T02:34:06.524673Z",
     "iopub.status.busy": "2021-09-16T02:34:06.521236Z",
     "iopub.status.idle": "2021-09-16T02:34:06.527355Z",
     "shell.execute_reply": "2021-09-16T02:34:06.527808Z"
    }
   },
   "outputs": [],
   "source": [
    "with open('../newest_ts', 'r') as f:\r\n",
    "    newest_ts = f.read()\r\n",
    "\r\n",
    "data_path = f\"../data/data_{newest_ts}.json\"\r\n",
    "with open(data_path, 'r') as f:\r\n",
    "    data = json.load(f)\r\n",
    "\r\n",
    "with open(CONFIG_PATH, \"r\") as stream:\r\n",
    "    config = yaml.safe_load(stream)\r\n",
    "\r\n",
    "TIME_ZONE = config['time_zone']\r\n",
    "DATETIME_FORMAT = config['dt_format']"
   ]
  },
  {
   "cell_type": "code",
   "execution_count": 3,
   "metadata": {
    "execution": {
     "iopub.execute_input": "2021-09-16T02:34:06.532785Z",
     "iopub.status.busy": "2021-09-16T02:34:06.532183Z",
     "iopub.status.idle": "2021-09-16T02:34:06.564691Z",
     "shell.execute_reply": "2021-09-16T02:34:06.564218Z"
    }
   },
   "outputs": [
    {
     "name": "stdout",
     "output_type": "stream",
     "text": [
      "Recent query happens at 2021-09-16 10:34:01 (CST).\n"
     ]
    }
   ],
   "source": [
    "def ts2dt(ts, format=DATETIME_FORMAT):\r\n",
    "    dt = (datetime.utcfromtimestamp(int(ts))\r\n",
    "                    .replace(tzinfo=tz.tzutc())\r\n",
    "                    # .astimezone(tz.tzlocal())\r\n",
    "                    .astimezone(tz.gettz(TIME_ZONE)))\r\n",
    "    return dt.strftime(format), dt\r\n",
    "\r\n",
    "_, newest_dt = ts2dt(newest_ts)\r\n",
    "print(f\"Recent query happens at {newest_dt.strftime(DATETIME_FORMAT)} ({newest_dt.tzname()}).\")"
   ]
  },
  {
   "cell_type": "code",
   "execution_count": 4,
   "metadata": {
    "execution": {
     "iopub.execute_input": "2021-09-16T02:34:06.569789Z",
     "iopub.status.busy": "2021-09-16T02:34:06.569213Z",
     "iopub.status.idle": "2021-09-16T02:34:06.571495Z",
     "shell.execute_reply": "2021-09-16T02:34:06.571916Z"
    }
   },
   "outputs": [],
   "source": [
    "def degrees_to_cardinal(d):\r\n",
    "  dirs = ['N', 'NNE', 'NE', 'ENE', 'E', 'ESE', 'SE', 'SSE', 'S', 'SSW', 'SW', 'WSW', 'W', 'WNW', 'NW', 'NNW']\r\n",
    "  ix = int(round(d / (360. / len(dirs))))\r\n",
    "  return dirs[ix % len(dirs)]"
   ]
  },
  {
   "cell_type": "code",
   "execution_count": 5,
   "metadata": {
    "execution": {
     "iopub.execute_input": "2021-09-16T02:34:06.576902Z",
     "iopub.status.busy": "2021-09-16T02:34:06.575410Z",
     "iopub.status.idle": "2021-09-16T02:34:06.577522Z",
     "shell.execute_reply": "2021-09-16T02:34:06.577960Z"
    }
   },
   "outputs": [],
   "source": [
    "# data.keys()"
   ]
  },
  {
   "cell_type": "code",
   "execution_count": 6,
   "metadata": {
    "execution": {
     "iopub.execute_input": "2021-09-16T02:34:06.582830Z",
     "iopub.status.busy": "2021-09-16T02:34:06.581424Z",
     "iopub.status.idle": "2021-09-16T02:34:06.583496Z",
     "shell.execute_reply": "2021-09-16T02:34:06.583963Z"
    }
   },
   "outputs": [],
   "source": [
    "# data['current']"
   ]
  },
  {
   "cell_type": "code",
   "execution_count": 7,
   "metadata": {
    "execution": {
     "iopub.execute_input": "2021-09-16T02:34:06.607159Z",
     "iopub.status.busy": "2021-09-16T02:34:06.589665Z",
     "iopub.status.idle": "2021-09-16T02:34:07.155666Z",
     "shell.execute_reply": "2021-09-16T02:34:07.156418Z"
    }
   },
   "outputs": [
    {
     "data": {
      "image/png": "[encoded data removed]",
      "text/plain": [
       "<Figure size 216x216 with 1 Axes>"
      ]
     },
     "metadata": {
      "needs_background": "light"
     },
     "output_type": "display_data"
    },
    {
     "name": "stdout",
     "output_type": "stream",
     "text": [
      "Today, sun rises at 06:09 and sets at 18:26.\n",
      "Currently, the weather is Clouds (overcast clouds).\n",
      "The temperature is 31.54°C and it feels like 38.54°C.\n",
      "The UV index is 8.68, humidity is 71%.\n",
      "The pressure is 1010 hPa, percentage of cloud cover is 100%\n",
      "The wind comes from W direction with a speed 2.06 m/s.\n"
     ]
    }
   ],
   "source": [
    "current = data['current']\r\n",
    "\r\n",
    "fig, ax = plt.subplots(figsize=(3, 3))\r\n",
    "icon = requests.get(f\"http://openweathermap.org/img/wn/{current['weather'][0]['icon']}@2x.png\")\r\n",
    "im = Image.open(BytesIO(icon.content))\r\n",
    "plt.imshow(im)\r\n",
    "ax.set_axis_off()\r\n",
    "plt.show()\r\n",
    "\r\n",
    "print(f\"Today, sun rises at {ts2dt(current['sunrise'], '%H:%M')[0]} \\\r\n",
    "and sets at {ts2dt(current['sunset'], '%H:%M')[0]}.\\n\\\r\n",
    "Currently, the weather is {current['weather'][0]['main']} ({current['weather'][0]['description']}).\\n\\\r\n",
    "The temperature is {current['temp']}°C and it feels like {current['feels_like']}°C.\\n\\\r\n",
    "The UV index is {current['uvi']}, humidity is {current['humidity']}%.\\n\\\r\n",
    "The pressure is {current['pressure']} hPa, percentage of cloud cover is {current['clouds']}%\\n\\\r\n",
    "The wind comes from {degrees_to_cardinal(current['wind_deg'])} direction with a speed {current['wind_speed']} m/s.\")"
   ]
  },
  {
   "cell_type": "code",
   "execution_count": 8,
   "metadata": {
    "execution": {
     "iopub.execute_input": "2021-09-16T02:34:07.160168Z",
     "iopub.status.busy": "2021-09-16T02:34:07.159071Z",
     "iopub.status.idle": "2021-09-16T02:34:07.167004Z",
     "shell.execute_reply": "2021-09-16T02:34:07.167774Z"
    }
   },
   "outputs": [],
   "source": [
    "df_hourly = pd.DataFrame(data['hourly'])\r\n",
    "df_daily = pd.DataFrame(data['daily'])"
   ]
  },
  {
   "cell_type": "code",
   "execution_count": 9,
   "metadata": {
    "execution": {
     "iopub.execute_input": "2021-09-16T02:34:07.171189Z",
     "iopub.status.busy": "2021-09-16T02:34:07.170045Z",
     "iopub.status.idle": "2021-09-16T02:34:07.479111Z",
     "shell.execute_reply": "2021-09-16T02:34:07.478598Z"
    }
   },
   "outputs": [
    {
     "data": {
      "image/png": "[encoded data removed]",
      "text/plain": [
       "<Figure size 864x432 with 1 Axes>"
      ]
     },
     "metadata": {
      "needs_background": "light"
     },
     "output_type": "display_data"
    }
   ],
   "source": [
    "fig, ax = plt.subplots(figsize=(12, 6))\r\n",
    "plt.plot(df_hourly.temp, '.-', label='Temperature')\r\n",
    "plt.plot(df_hourly.feels_like, '.-', label='Feels Like')\r\n",
    "ax.set(title='Temperature in future 48 hours', xlabel='Time', ylabel='Temperature')\r\n",
    "ax.set_xticks(list(range(0, len(df_hourly), 2)))\r\n",
    "ax.set_xticklabels([ts2dt(ts, '%m-%d %H:%M')[0] for i, ts in enumerate(df_hourly.dt) if i%2==0], \r\n",
    "                   rotation=45, ha=\"right\")\r\n",
    "ax.locator_params(nbins=15, axis='y')\r\n",
    "plt.legend()\r\n",
    "plt.show()"
   ]
  },
  {
   "cell_type": "code",
   "execution_count": 10,
   "metadata": {
    "execution": {
     "iopub.execute_input": "2021-09-16T02:34:07.484058Z",
     "iopub.status.busy": "2021-09-16T02:34:07.483473Z",
     "iopub.status.idle": "2021-09-16T02:34:07.504875Z",
     "shell.execute_reply": "2021-09-16T02:34:07.505333Z"
    }
   },
   "outputs": [
    {
     "data": {
      "text/html": [
       "<div>\n",
       "<style scoped>\n",
       "    .dataframe tbody tr th:only-of-type {\n",
       "        vertical-align: middle;\n",
       "    }\n",
       "\n",
       "    .dataframe tbody tr th {\n",
       "        vertical-align: top;\n",
       "    }\n",
       "\n",
       "    .dataframe thead th {\n",
       "        text-align: right;\n",
       "    }\n",
       "</style>\n",
       "<table border=\"1\" class=\"dataframe\">\n",
       "  <thead>\n",
       "    <tr style=\"text-align: right;\">\n",
       "      <th></th>\n",
       "      <th>dt</th>\n",
       "      <th>temp</th>\n",
       "      <th>feels_like</th>\n",
       "      <th>pressure</th>\n",
       "      <th>humidity</th>\n",
       "      <th>dew_point</th>\n",
       "      <th>uvi</th>\n",
       "      <th>clouds</th>\n",
       "      <th>visibility</th>\n",
       "      <th>wind_speed</th>\n",
       "      <th>wind_deg</th>\n",
       "      <th>wind_gust</th>\n",
       "      <th>weather</th>\n",
       "      <th>pop</th>\n",
       "      <th>rain</th>\n",
       "    </tr>\n",
       "  </thead>\n",
       "  <tbody>\n",
       "    <tr>\n",
       "      <th>0</th>\n",
       "      <td>1631757600</td>\n",
       "      <td>31.22</td>\n",
       "      <td>38.22</td>\n",
       "      <td>1010</td>\n",
       "      <td>72</td>\n",
       "      <td>25.57</td>\n",
       "      <td>6.06</td>\n",
       "      <td>100</td>\n",
       "      <td>10000</td>\n",
       "      <td>2.80</td>\n",
       "      <td>292</td>\n",
       "      <td>2.96</td>\n",
       "      <td>[{'id': 500, 'main': 'Rain', 'description': 'l...</td>\n",
       "      <td>0.86</td>\n",
       "      <td>{'1h': 0.43}</td>\n",
       "    </tr>\n",
       "    <tr>\n",
       "      <th>1</th>\n",
       "      <td>1631761200</td>\n",
       "      <td>31.54</td>\n",
       "      <td>38.54</td>\n",
       "      <td>1010</td>\n",
       "      <td>71</td>\n",
       "      <td>25.64</td>\n",
       "      <td>8.68</td>\n",
       "      <td>100</td>\n",
       "      <td>10000</td>\n",
       "      <td>2.06</td>\n",
       "      <td>280</td>\n",
       "      <td>2.11</td>\n",
       "      <td>[{'id': 804, 'main': 'Clouds', 'description': ...</td>\n",
       "      <td>0.83</td>\n",
       "      <td>NaN</td>\n",
       "    </tr>\n",
       "    <tr>\n",
       "      <th>2</th>\n",
       "      <td>1631764800</td>\n",
       "      <td>31.38</td>\n",
       "      <td>38.38</td>\n",
       "      <td>1010</td>\n",
       "      <td>70</td>\n",
       "      <td>25.25</td>\n",
       "      <td>10.00</td>\n",
       "      <td>100</td>\n",
       "      <td>10000</td>\n",
       "      <td>2.76</td>\n",
       "      <td>264</td>\n",
       "      <td>2.65</td>\n",
       "      <td>[{'id': 804, 'main': 'Clouds', 'description': ...</td>\n",
       "      <td>0.82</td>\n",
       "      <td>NaN</td>\n",
       "    </tr>\n",
       "    <tr>\n",
       "      <th>3</th>\n",
       "      <td>1631768400</td>\n",
       "      <td>31.31</td>\n",
       "      <td>38.13</td>\n",
       "      <td>1010</td>\n",
       "      <td>69</td>\n",
       "      <td>24.94</td>\n",
       "      <td>9.82</td>\n",
       "      <td>100</td>\n",
       "      <td>10000</td>\n",
       "      <td>2.97</td>\n",
       "      <td>258</td>\n",
       "      <td>3.13</td>\n",
       "      <td>[{'id': 500, 'main': 'Rain', 'description': 'l...</td>\n",
       "      <td>0.78</td>\n",
       "      <td>{'1h': 0.6}</td>\n",
       "    </tr>\n",
       "    <tr>\n",
       "      <th>4</th>\n",
       "      <td>1631772000</td>\n",
       "      <td>31.23</td>\n",
       "      <td>37.60</td>\n",
       "      <td>1009</td>\n",
       "      <td>68</td>\n",
       "      <td>24.62</td>\n",
       "      <td>8.07</td>\n",
       "      <td>99</td>\n",
       "      <td>10000</td>\n",
       "      <td>3.06</td>\n",
       "      <td>249</td>\n",
       "      <td>3.22</td>\n",
       "      <td>[{'id': 500, 'main': 'Rain', 'description': 'l...</td>\n",
       "      <td>0.74</td>\n",
       "      <td>{'1h': 0.3}</td>\n",
       "    </tr>\n",
       "  </tbody>\n",
       "</table>\n",
       "</div>"
      ],
      "text/plain": [
       "           dt   temp  feels_like  pressure  humidity  dew_point    uvi  \\\n",
       "0  1631757600  31.22       38.22      1010        72      25.57   6.06   \n",
       "1  1631761200  31.54       38.54      1010        71      25.64   8.68   \n",
       "2  1631764800  31.38       38.38      1010        70      25.25  10.00   \n",
       "3  1631768400  31.31       38.13      1010        69      24.94   9.82   \n",
       "4  1631772000  31.23       37.60      1009        68      24.62   8.07   \n",
       "\n",
       "   clouds  visibility  wind_speed  wind_deg  wind_gust  \\\n",
       "0     100       10000        2.80       292       2.96   \n",
       "1     100       10000        2.06       280       2.11   \n",
       "2     100       10000        2.76       264       2.65   \n",
       "3     100       10000        2.97       258       3.13   \n",
       "4      99       10000        3.06       249       3.22   \n",
       "\n",
       "                                             weather   pop          rain  \n",
       "0  [{'id': 500, 'main': 'Rain', 'description': 'l...  0.86  {'1h': 0.43}  \n",
       "1  [{'id': 804, 'main': 'Clouds', 'description': ...  0.83           NaN  \n",
       "2  [{'id': 804, 'main': 'Clouds', 'description': ...  0.82           NaN  \n",
       "3  [{'id': 500, 'main': 'Rain', 'description': 'l...  0.78   {'1h': 0.6}  \n",
       "4  [{'id': 500, 'main': 'Rain', 'description': 'l...  0.74   {'1h': 0.3}  "
      ]
     },
     "execution_count": 10,
     "metadata": {},
     "output_type": "execute_result"
    }
   ],
   "source": [
    "df_hourly.head()"
   ]
  },
  {
   "cell_type": "code",
   "execution_count": null,
   "metadata": {},
   "outputs": [],
   "source": []
  }
 ],
 "metadata": {
  "interpreter": {
   "hash": "c1b4cfe941b6d2466ad1fb5979e97da9cda8801728c8091b097ab734208fc00c"
  },
  "kernelspec": {
   "display_name": "Python 3.8.3 64-bit ('base': conda)",
   "name": "python3"
  },
  "language_info": {
   "codemirror_mode": {
    "name": "ipython",
    "version": 3
   },
   "file_extension": ".py",
   "mimetype": "text/x-python",
   "name": "python",
   "nbconvert_exporter": "python",
   "pygments_lexer": "ipython3",
   "version": "3.8.11"
  }
 },
 "nbformat": 4,
 "nbformat_minor": 2
}
