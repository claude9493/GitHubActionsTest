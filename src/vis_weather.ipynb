{
 "cells": [
  {
   "cell_type": "code",
   "execution_count": 1,
   "metadata": {
    "execution": {
     "iopub.execute_input": "2021-09-14T00:39:44.433148Z",
     "iopub.status.busy": "2021-09-14T00:39:44.432375Z",
     "iopub.status.idle": "2021-09-14T00:39:47.267945Z",
     "shell.execute_reply": "2021-09-14T00:39:47.266877Z"
    }
   },
   "outputs": [],
   "source": [
    "import json, yaml, requests\r\n",
    "from datetime import datetime\r\n",
    "from dateutil import tz\r\n",
    "import pandas as pd\r\n",
    "from PIL import Image\r\n",
    "from io import BytesIO\r\n",
    "import matplotlib.pyplot as plt\r\n",
    "import seaborn\r\n",
    "\r\n",
    "CONFIG_PATH = \"../config/config.yaml\""
   ]
  },
  {
   "cell_type": "code",
   "execution_count": 2,
   "metadata": {
    "execution": {
     "iopub.execute_input": "2021-09-14T00:39:47.273122Z",
     "iopub.status.busy": "2021-09-14T00:39:47.270515Z",
     "iopub.status.idle": "2021-09-14T00:39:47.278720Z",
     "shell.execute_reply": "2021-09-14T00:39:47.277961Z"
    }
   },
   "outputs": [],
   "source": [
    "with open('../newest_ts', 'r') as f:\r\n",
    "    newest_ts = f.read()\r\n",
    "\r\n",
    "data_path = f\"../data/data_{newest_ts}.json\"\r\n",
    "with open(data_path, 'r') as f:\r\n",
    "    data = json.load(f)\r\n",
    "\r\n",
    "with open(CONFIG_PATH, \"r\") as stream:\r\n",
    "    config = yaml.safe_load(stream)\r\n",
    "\r\n",
    "TIME_ZONE = config['time_zone']\r\n",
    "DATETIME_FORMAT = config['dt_format']"
   ]
  },
  {
   "cell_type": "code",
   "execution_count": 3,
   "metadata": {
    "execution": {
     "iopub.execute_input": "2021-09-14T00:39:47.283669Z",
     "iopub.status.busy": "2021-09-14T00:39:47.283138Z",
     "iopub.status.idle": "2021-09-14T00:39:47.293973Z",
     "shell.execute_reply": "2021-09-14T00:39:47.294376Z"
    }
   },
   "outputs": [
    {
     "name": "stdout",
     "output_type": "stream",
     "text": [
      "Recent query happens at 2021-09-14 08:39:41 (CST).\n"
     ]
    }
   ],
   "source": [
    "def ts2dt(ts, format=DATETIME_FORMAT):\r\n",
    "    dt = (datetime.utcfromtimestamp(int(ts))\r\n",
    "                    .replace(tzinfo=tz.tzutc())\r\n",
    "                    # .astimezone(tz.tzlocal())\r\n",
    "                    .astimezone(tz.gettz(TIME_ZONE)))\r\n",
    "    return dt.strftime(format), dt\r\n",
    "\r\n",
    "_, newest_dt = ts2dt(newest_ts)\r\n",
    "print(f\"Recent query happens at {newest_dt.strftime(DATETIME_FORMAT)} ({newest_dt.tzname()}).\")"
   ]
  },
  {
   "cell_type": "code",
   "execution_count": 4,
   "metadata": {
    "execution": {
     "iopub.execute_input": "2021-09-14T00:39:47.299453Z",
     "iopub.status.busy": "2021-09-14T00:39:47.298390Z",
     "iopub.status.idle": "2021-09-14T00:39:47.300002Z",
     "shell.execute_reply": "2021-09-14T00:39:47.300392Z"
    }
   },
   "outputs": [],
   "source": [
    "def degrees_to_cardinal(d):\r\n",
    "  dirs = ['N', 'NNE', 'NE', 'ENE', 'E', 'ESE', 'SE', 'SSE', 'S', 'SSW', 'SW', 'WSW', 'W', 'WNW', 'NW', 'NNW']\r\n",
    "  ix = int(round(d / (360. / len(dirs))))\r\n",
    "  return dirs[ix % len(dirs)]"
   ]
  },
  {
   "cell_type": "code",
   "execution_count": 5,
   "metadata": {
    "execution": {
     "iopub.execute_input": "2021-09-14T00:39:47.304419Z",
     "iopub.status.busy": "2021-09-14T00:39:47.303303Z",
     "iopub.status.idle": "2021-09-14T00:39:47.304984Z",
     "shell.execute_reply": "2021-09-14T00:39:47.305381Z"
    }
   },
   "outputs": [],
   "source": [
    "# data.keys()"
   ]
  },
  {
   "cell_type": "code",
   "execution_count": 6,
   "metadata": {
    "execution": {
     "iopub.execute_input": "2021-09-14T00:39:47.308533Z",
     "iopub.status.busy": "2021-09-14T00:39:47.308040Z",
     "iopub.status.idle": "2021-09-14T00:39:47.310231Z",
     "shell.execute_reply": "2021-09-14T00:39:47.309799Z"
    }
   },
   "outputs": [],
   "source": [
    "# data['current']"
   ]
  },
  {
   "cell_type": "code",
   "execution_count": 7,
   "metadata": {
    "execution": {
     "iopub.execute_input": "2021-09-14T00:39:47.329693Z",
     "iopub.status.busy": "2021-09-14T00:39:47.329174Z",
     "iopub.status.idle": "2021-09-14T00:39:47.656711Z",
     "shell.execute_reply": "2021-09-14T00:39:47.657509Z"
    }
   },
   "outputs": [
    {
     "data": {
      "image/png": "[encoded data removed]",
      "text/plain": [
       "<Figure size 216x216 with 1 Axes>"
      ]
     },
     "metadata": {
      "needs_background": "light"
     },
     "output_type": "display_data"
    },
    {
     "name": "stdout",
     "output_type": "stream",
     "text": [
      "Today, sun rises at 06:09 and sets at 18:28.\n",
      "Currently, the weather is Clouds (overcast clouds).\n",
      "The temperature is 30.43°C and it feels like 37.43°C.\n",
      "The UV index is 3.37, humidity is 86%.\n",
      "The pressure is 1012 hPa, percentage of cloud cover is 85%\n",
      "The wind comes from S direction with a speed 1.03 m/s.\n"
     ]
    }
   ],
   "source": [
    "current = data['current']\r\n",
    "\r\n",
    "fig, ax = plt.subplots(figsize=(3, 3))\r\n",
    "icon = requests.get(f\"http://openweathermap.org/img/wn/{current['weather'][0]['icon']}@2x.png\")\r\n",
    "im = Image.open(BytesIO(icon.content))\r\n",
    "plt.imshow(im)\r\n",
    "ax.set_axis_off()\r\n",
    "plt.show()\r\n",
    "\r\n",
    "print(f\"Today, sun rises at {ts2dt(current['sunrise'], '%H:%M')[0]} \\\r\n",
    "and sets at {ts2dt(current['sunset'], '%H:%M')[0]}.\\n\\\r\n",
    "Currently, the weather is {current['weather'][0]['main']} ({current['weather'][0]['description']}).\\n\\\r\n",
    "The temperature is {current['temp']}°C and it feels like {current['feels_like']}°C.\\n\\\r\n",
    "The UV index is {current['uvi']}, humidity is {current['humidity']}%.\\n\\\r\n",
    "The pressure is {current['pressure']} hPa, percentage of cloud cover is {current['clouds']}%\\n\\\r\n",
    "The wind comes from {degrees_to_cardinal(current['wind_deg'])} direction with a speed {current['wind_speed']} m/s.\")"
   ]
  },
  {
   "cell_type": "code",
   "execution_count": 8,
   "metadata": {
    "execution": {
     "iopub.execute_input": "2021-09-14T00:39:47.661062Z",
     "iopub.status.busy": "2021-09-14T00:39:47.660103Z",
     "iopub.status.idle": "2021-09-14T00:39:47.667199Z",
     "shell.execute_reply": "2021-09-14T00:39:47.667870Z"
    }
   },
   "outputs": [],
   "source": [
    "df_hourly = pd.DataFrame(data['hourly'])\r\n",
    "df_daily = pd.DataFrame(data['daily'])"
   ]
  },
  {
   "cell_type": "code",
   "execution_count": 9,
   "metadata": {
    "execution": {
     "iopub.execute_input": "2021-09-14T00:39:47.671144Z",
     "iopub.status.busy": "2021-09-14T00:39:47.670137Z",
     "iopub.status.idle": "2021-09-14T00:39:47.928736Z",
     "shell.execute_reply": "2021-09-14T00:39:47.928249Z"
    }
   },
   "outputs": [
    {
     "data": {
      "image/png": "[encoded data removed]",
      "text/plain": [
       "<Figure size 864x432 with 1 Axes>"
      ]
     },
     "metadata": {
      "needs_background": "light"
     },
     "output_type": "display_data"
    }
   ],
   "source": [
    "fig, ax = plt.subplots(figsize=(12, 6))\r\n",
    "plt.plot(df_hourly.temp, '.-', label='Temperature')\r\n",
    "plt.plot(df_hourly.feels_like, '.-', label='Feels Like')\r\n",
    "ax.set(title='Temperature in future 48 hours', xlabel='Time', ylabel='Temperature')\r\n",
    "ax.set_xticks(list(range(0, len(df_hourly), 2)))\r\n",
    "ax.set_xticklabels([ts2dt(ts, '%m-%d %H:%M')[0] for i, ts in enumerate(df_hourly.dt) if i%2==0], \r\n",
    "                   rotation=45, ha=\"right\")\r\n",
    "ax.locator_params(nbins=15, axis='y')\r\n",
    "plt.legend()\r\n",
    "plt.show()"
   ]
  },
  {
   "cell_type": "code",
   "execution_count": 10,
   "metadata": {
    "execution": {
     "iopub.execute_input": "2021-09-14T00:39:47.940530Z",
     "iopub.status.busy": "2021-09-14T00:39:47.932937Z",
     "iopub.status.idle": "2021-09-14T00:39:47.951554Z",
     "shell.execute_reply": "2021-09-14T00:39:47.951147Z"
    }
   },
   "outputs": [
    {
     "data": {
      "text/html": [
       "<div>\n",
       "<style scoped>\n",
       "    .dataframe tbody tr th:only-of-type {\n",
       "        vertical-align: middle;\n",
       "    }\n",
       "\n",
       "    .dataframe tbody tr th {\n",
       "        vertical-align: top;\n",
       "    }\n",
       "\n",
       "    .dataframe thead th {\n",
       "        text-align: right;\n",
       "    }\n",
       "</style>\n",
       "<table border=\"1\" class=\"dataframe\">\n",
       "  <thead>\n",
       "    <tr style=\"text-align: right;\">\n",
       "      <th></th>\n",
       "      <th>dt</th>\n",
       "      <th>temp</th>\n",
       "      <th>feels_like</th>\n",
       "      <th>pressure</th>\n",
       "      <th>humidity</th>\n",
       "      <th>dew_point</th>\n",
       "      <th>uvi</th>\n",
       "      <th>clouds</th>\n",
       "      <th>visibility</th>\n",
       "      <th>wind_speed</th>\n",
       "      <th>wind_deg</th>\n",
       "      <th>wind_gust</th>\n",
       "      <th>weather</th>\n",
       "      <th>pop</th>\n",
       "      <th>rain</th>\n",
       "    </tr>\n",
       "  </thead>\n",
       "  <tbody>\n",
       "    <tr>\n",
       "      <th>0</th>\n",
       "      <td>1631577600</td>\n",
       "      <td>30.16</td>\n",
       "      <td>37.16</td>\n",
       "      <td>1012</td>\n",
       "      <td>84</td>\n",
       "      <td>27.15</td>\n",
       "      <td>1.21</td>\n",
       "      <td>87</td>\n",
       "      <td>10000</td>\n",
       "      <td>0.71</td>\n",
       "      <td>180</td>\n",
       "      <td>0.88</td>\n",
       "      <td>[{'id': 804, 'main': 'Clouds', 'description': ...</td>\n",
       "      <td>0.80</td>\n",
       "      <td>NaN</td>\n",
       "    </tr>\n",
       "    <tr>\n",
       "      <th>1</th>\n",
       "      <td>1631581200</td>\n",
       "      <td>30.43</td>\n",
       "      <td>37.43</td>\n",
       "      <td>1012</td>\n",
       "      <td>86</td>\n",
       "      <td>27.82</td>\n",
       "      <td>3.37</td>\n",
       "      <td>85</td>\n",
       "      <td>10000</td>\n",
       "      <td>1.03</td>\n",
       "      <td>174</td>\n",
       "      <td>1.17</td>\n",
       "      <td>[{'id': 804, 'main': 'Clouds', 'description': ...</td>\n",
       "      <td>0.39</td>\n",
       "      <td>NaN</td>\n",
       "    </tr>\n",
       "    <tr>\n",
       "      <th>2</th>\n",
       "      <td>1631584800</td>\n",
       "      <td>30.49</td>\n",
       "      <td>37.49</td>\n",
       "      <td>1012</td>\n",
       "      <td>82</td>\n",
       "      <td>27.06</td>\n",
       "      <td>6.23</td>\n",
       "      <td>85</td>\n",
       "      <td>10000</td>\n",
       "      <td>1.14</td>\n",
       "      <td>174</td>\n",
       "      <td>1.09</td>\n",
       "      <td>[{'id': 804, 'main': 'Clouds', 'description': ...</td>\n",
       "      <td>0.46</td>\n",
       "      <td>NaN</td>\n",
       "    </tr>\n",
       "    <tr>\n",
       "      <th>3</th>\n",
       "      <td>1631588400</td>\n",
       "      <td>30.76</td>\n",
       "      <td>37.76</td>\n",
       "      <td>1012</td>\n",
       "      <td>77</td>\n",
       "      <td>26.26</td>\n",
       "      <td>8.90</td>\n",
       "      <td>87</td>\n",
       "      <td>10000</td>\n",
       "      <td>1.39</td>\n",
       "      <td>174</td>\n",
       "      <td>1.34</td>\n",
       "      <td>[{'id': 804, 'main': 'Clouds', 'description': ...</td>\n",
       "      <td>0.48</td>\n",
       "      <td>NaN</td>\n",
       "    </tr>\n",
       "    <tr>\n",
       "      <th>4</th>\n",
       "      <td>1631592000</td>\n",
       "      <td>31.16</td>\n",
       "      <td>38.16</td>\n",
       "      <td>1012</td>\n",
       "      <td>72</td>\n",
       "      <td>25.51</td>\n",
       "      <td>9.86</td>\n",
       "      <td>90</td>\n",
       "      <td>10000</td>\n",
       "      <td>1.52</td>\n",
       "      <td>188</td>\n",
       "      <td>1.49</td>\n",
       "      <td>[{'id': 804, 'main': 'Clouds', 'description': ...</td>\n",
       "      <td>0.40</td>\n",
       "      <td>NaN</td>\n",
       "    </tr>\n",
       "  </tbody>\n",
       "</table>\n",
       "</div>"
      ],
      "text/plain": [
       "           dt   temp  feels_like  pressure  humidity  dew_point   uvi  clouds  \\\n",
       "0  1631577600  30.16       37.16      1012        84      27.15  1.21      87   \n",
       "1  1631581200  30.43       37.43      1012        86      27.82  3.37      85   \n",
       "2  1631584800  30.49       37.49      1012        82      27.06  6.23      85   \n",
       "3  1631588400  30.76       37.76      1012        77      26.26  8.90      87   \n",
       "4  1631592000  31.16       38.16      1012        72      25.51  9.86      90   \n",
       "\n",
       "   visibility  wind_speed  wind_deg  wind_gust  \\\n",
       "0       10000        0.71       180       0.88   \n",
       "1       10000        1.03       174       1.17   \n",
       "2       10000        1.14       174       1.09   \n",
       "3       10000        1.39       174       1.34   \n",
       "4       10000        1.52       188       1.49   \n",
       "\n",
       "                                             weather   pop rain  \n",
       "0  [{'id': 804, 'main': 'Clouds', 'description': ...  0.80  NaN  \n",
       "1  [{'id': 804, 'main': 'Clouds', 'description': ...  0.39  NaN  \n",
       "2  [{'id': 804, 'main': 'Clouds', 'description': ...  0.46  NaN  \n",
       "3  [{'id': 804, 'main': 'Clouds', 'description': ...  0.48  NaN  \n",
       "4  [{'id': 804, 'main': 'Clouds', 'description': ...  0.40  NaN  "
      ]
     },
     "execution_count": 10,
     "metadata": {},
     "output_type": "execute_result"
    }
   ],
   "source": [
    "df_hourly.head()"
   ]
  },
  {
   "cell_type": "code",
   "execution_count": null,
   "metadata": {},
   "outputs": [],
   "source": []
  }
 ],
 "metadata": {
  "interpreter": {
   "hash": "c1b4cfe941b6d2466ad1fb5979e97da9cda8801728c8091b097ab734208fc00c"
  },
  "kernelspec": {
   "display_name": "Python 3.8.3 64-bit ('base': conda)",
   "name": "python3"
  },
  "language_info": {
   "codemirror_mode": {
    "name": "ipython",
    "version": 3
   },
   "file_extension": ".py",
   "mimetype": "text/x-python",
   "name": "python",
   "nbconvert_exporter": "python",
   "pygments_lexer": "ipython3",
   "version": "3.8.11"
  }
 },
 "nbformat": 4,
 "nbformat_minor": 2
}
