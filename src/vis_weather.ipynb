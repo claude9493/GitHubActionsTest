{
 "cells": [
  {
   "cell_type": "code",
   "execution_count": 1,
   "metadata": {
    "execution": {
     "iopub.execute_input": "2021-10-16T06:13:29.559589Z",
     "iopub.status.busy": "2021-10-16T06:13:29.559053Z",
     "iopub.status.idle": "2021-10-16T06:13:31.787946Z",
     "shell.execute_reply": "2021-10-16T06:13:31.787427Z"
    }
   },
   "outputs": [],
   "source": [
    "import json, yaml, requests\r\n",
    "from datetime import datetime\r\n",
    "from dateutil import tz\r\n",
    "import pandas as pd\r\n",
    "from PIL import Image\r\n",
    "from io import BytesIO\r\n",
    "import matplotlib.pyplot as plt\r\n",
    "import seaborn\r\n",
    "\r\n",
    "CONFIG_PATH = \"../config/config.yaml\""
   ]
  },
  {
   "cell_type": "code",
   "execution_count": 2,
   "metadata": {
    "execution": {
     "iopub.execute_input": "2021-10-16T06:13:31.795092Z",
     "iopub.status.busy": "2021-10-16T06:13:31.792280Z",
     "iopub.status.idle": "2021-10-16T06:13:31.797636Z",
     "shell.execute_reply": "2021-10-16T06:13:31.797211Z"
    }
   },
   "outputs": [],
   "source": [
    "with open('../newest_ts', 'r') as f:\r\n",
    "    newest_ts = f.read()\r\n",
    "\r\n",
    "data_path = f\"../data/data_{newest_ts}.json\"\r\n",
    "with open(data_path, 'r') as f:\r\n",
    "    data = json.load(f)\r\n",
    "\r\n",
    "with open(CONFIG_PATH, \"r\") as stream:\r\n",
    "    config = yaml.safe_load(stream)\r\n",
    "\r\n",
    "TIME_ZONE = config['time_zone']\r\n",
    "DATETIME_FORMAT = config['dt_format']"
   ]
  },
  {
   "cell_type": "code",
   "execution_count": 3,
   "metadata": {
    "execution": {
     "iopub.execute_input": "2021-10-16T06:13:31.801965Z",
     "iopub.status.busy": "2021-10-16T06:13:31.801494Z",
     "iopub.status.idle": "2021-10-16T06:13:31.807928Z",
     "shell.execute_reply": "2021-10-16T06:13:31.808302Z"
    }
   },
   "outputs": [
    {
     "name": "stdout",
     "output_type": "stream",
     "text": [
      "Recent query happens at 2021-10-16 14:13:26 (CST).\n"
     ]
    }
   ],
   "source": [
    "def ts2dt(ts, format=DATETIME_FORMAT):\r\n",
    "    dt = (datetime.utcfromtimestamp(int(ts))\r\n",
    "                    .replace(tzinfo=tz.tzutc())\r\n",
    "                    # .astimezone(tz.tzlocal())\r\n",
    "                    .astimezone(tz.gettz(TIME_ZONE)))\r\n",
    "    return dt.strftime(format), dt\r\n",
    "\r\n",
    "_, newest_dt = ts2dt(newest_ts)\r\n",
    "print(f\"Recent query happens at {newest_dt.strftime(DATETIME_FORMAT)} ({newest_dt.tzname()}).\")"
   ]
  },
  {
   "cell_type": "code",
   "execution_count": 4,
   "metadata": {
    "execution": {
     "iopub.execute_input": "2021-10-16T06:13:31.813167Z",
     "iopub.status.busy": "2021-10-16T06:13:31.812013Z",
     "iopub.status.idle": "2021-10-16T06:13:31.813721Z",
     "shell.execute_reply": "2021-10-16T06:13:31.814094Z"
    }
   },
   "outputs": [],
   "source": [
    "def degrees_to_cardinal(d):\r\n",
    "  dirs = ['N', 'NNE', 'NE', 'ENE', 'E', 'ESE', 'SE', 'SSE', 'S', 'SSW', 'SW', 'WSW', 'W', 'WNW', 'NW', 'NNW']\r\n",
    "  ix = int(round(d / (360. / len(dirs))))\r\n",
    "  return dirs[ix % len(dirs)]"
   ]
  },
  {
   "cell_type": "code",
   "execution_count": 5,
   "metadata": {
    "execution": {
     "iopub.execute_input": "2021-10-16T06:13:31.817924Z",
     "iopub.status.busy": "2021-10-16T06:13:31.816801Z",
     "iopub.status.idle": "2021-10-16T06:13:31.818443Z",
     "shell.execute_reply": "2021-10-16T06:13:31.818807Z"
    }
   },
   "outputs": [],
   "source": [
    "# data.keys()"
   ]
  },
  {
   "cell_type": "code",
   "execution_count": 6,
   "metadata": {
    "execution": {
     "iopub.execute_input": "2021-10-16T06:13:31.822423Z",
     "iopub.status.busy": "2021-10-16T06:13:31.821262Z",
     "iopub.status.idle": "2021-10-16T06:13:31.822944Z",
     "shell.execute_reply": "2021-10-16T06:13:31.823305Z"
    }
   },
   "outputs": [],
   "source": [
    "# data['current']"
   ]
  },
  {
   "cell_type": "code",
   "execution_count": 7,
   "metadata": {
    "execution": {
     "iopub.execute_input": "2021-10-16T06:13:31.844845Z",
     "iopub.status.busy": "2021-10-16T06:13:31.840533Z",
     "iopub.status.idle": "2021-10-16T06:13:32.215043Z",
     "shell.execute_reply": "2021-10-16T06:13:32.215717Z"
    }
   },
   "outputs": [
    {
     "data": {
      "image/png": "[encoded data removed]",
      "text/plain": [
       "<Figure size 216x216 with 1 Axes>"
      ]
     },
     "metadata": {
      "needs_background": "light"
     },
     "output_type": "display_data"
    },
    {
     "name": "stdout",
     "output_type": "stream",
     "text": [
      "Today, sun rises at 06:19 and sets at 17:57.\n",
      "Currently, the weather is Clouds (scattered clouds).\n",
      "The temperature is 29.9°C and it feels like 33.67°C.\n",
      "The UV index is 6.45, humidity is 65%.\n",
      "The pressure is 1012 hPa, percentage of cloud cover is 45%\n",
      "The wind comes from NE direction with a speed 2.68 m/s.\n"
     ]
    }
   ],
   "source": [
    "current = data['current']\r\n",
    "\r\n",
    "fig, ax = plt.subplots(figsize=(3, 3))\r\n",
    "icon = requests.get(f\"http://openweathermap.org/img/wn/{current['weather'][0]['icon']}@2x.png\")\r\n",
    "im = Image.open(BytesIO(icon.content))\r\n",
    "plt.imshow(im)\r\n",
    "ax.set_axis_off()\r\n",
    "plt.show()\r\n",
    "\r\n",
    "print(f\"Today, sun rises at {ts2dt(current['sunrise'], '%H:%M')[0]} \\\r\n",
    "and sets at {ts2dt(current['sunset'], '%H:%M')[0]}.\\n\\\r\n",
    "Currently, the weather is {current['weather'][0]['main']} ({current['weather'][0]['description']}).\\n\\\r\n",
    "The temperature is {current['temp']}°C and it feels like {current['feels_like']}°C.\\n\\\r\n",
    "The UV index is {current['uvi']}, humidity is {current['humidity']}%.\\n\\\r\n",
    "The pressure is {current['pressure']} hPa, percentage of cloud cover is {current['clouds']}%\\n\\\r\n",
    "The wind comes from {degrees_to_cardinal(current['wind_deg'])} direction with a speed {current['wind_speed']} m/s.\")"
   ]
  },
  {
   "cell_type": "code",
   "execution_count": 8,
   "metadata": {
    "execution": {
     "iopub.execute_input": "2021-10-16T06:13:32.218860Z",
     "iopub.status.busy": "2021-10-16T06:13:32.217925Z",
     "iopub.status.idle": "2021-10-16T06:13:32.224600Z",
     "shell.execute_reply": "2021-10-16T06:13:32.225250Z"
    }
   },
   "outputs": [],
   "source": [
    "df_hourly = pd.DataFrame(data['hourly'])\r\n",
    "df_daily = pd.DataFrame(data['daily'])"
   ]
  },
  {
   "cell_type": "code",
   "execution_count": 9,
   "metadata": {
    "execution": {
     "iopub.execute_input": "2021-10-16T06:13:32.228253Z",
     "iopub.status.busy": "2021-10-16T06:13:32.227314Z",
     "iopub.status.idle": "2021-10-16T06:13:32.455688Z",
     "shell.execute_reply": "2021-10-16T06:13:32.454933Z"
    }
   },
   "outputs": [
    {
     "data": {
      "image/png": "[encoded data removed]",
      "text/plain": [
       "<Figure size 864x432 with 1 Axes>"
      ]
     },
     "metadata": {
      "needs_background": "light"
     },
     "output_type": "display_data"
    }
   ],
   "source": [
    "fig, ax = plt.subplots(figsize=(12, 6))\r\n",
    "plt.plot(df_hourly.temp, '.-', label='Temperature')\r\n",
    "plt.plot(df_hourly.feels_like, '.-', label='Feels Like')\r\n",
    "ax.set(title='Temperature in future 48 hours', xlabel='Time', ylabel='Temperature')\r\n",
    "ax.set_xticks(list(range(0, len(df_hourly), 2)))\r\n",
    "ax.set_xticklabels([ts2dt(ts, '%m-%d %H:%M')[0] for i, ts in enumerate(df_hourly.dt) if i%2==0], \r\n",
    "                   rotation=45, ha=\"right\")\r\n",
    "ax.locator_params(nbins=15, axis='y')\r\n",
    "plt.legend()\r\n",
    "plt.show()"
   ]
  },
  {
   "cell_type": "code",
   "execution_count": 10,
   "metadata": {
    "execution": {
     "iopub.execute_input": "2021-10-16T06:13:32.466021Z",
     "iopub.status.busy": "2021-10-16T06:13:32.459410Z",
     "iopub.status.idle": "2021-10-16T06:13:32.476578Z",
     "shell.execute_reply": "2021-10-16T06:13:32.476192Z"
    }
   },
   "outputs": [
    {
     "data": {
      "text/html": [
       "<div>\n",
       "<style scoped>\n",
       "    .dataframe tbody tr th:only-of-type {\n",
       "        vertical-align: middle;\n",
       "    }\n",
       "\n",
       "    .dataframe tbody tr th {\n",
       "        vertical-align: top;\n",
       "    }\n",
       "\n",
       "    .dataframe thead th {\n",
       "        text-align: right;\n",
       "    }\n",
       "</style>\n",
       "<table border=\"1\" class=\"dataframe\">\n",
       "  <thead>\n",
       "    <tr style=\"text-align: right;\">\n",
       "      <th></th>\n",
       "      <th>dt</th>\n",
       "      <th>temp</th>\n",
       "      <th>feels_like</th>\n",
       "      <th>pressure</th>\n",
       "      <th>humidity</th>\n",
       "      <th>dew_point</th>\n",
       "      <th>uvi</th>\n",
       "      <th>clouds</th>\n",
       "      <th>visibility</th>\n",
       "      <th>wind_speed</th>\n",
       "      <th>wind_deg</th>\n",
       "      <th>wind_gust</th>\n",
       "      <th>weather</th>\n",
       "      <th>pop</th>\n",
       "    </tr>\n",
       "  </thead>\n",
       "  <tbody>\n",
       "    <tr>\n",
       "      <th>0</th>\n",
       "      <td>1634364000</td>\n",
       "      <td>29.90</td>\n",
       "      <td>33.67</td>\n",
       "      <td>1012</td>\n",
       "      <td>65</td>\n",
       "      <td>22.61</td>\n",
       "      <td>6.45</td>\n",
       "      <td>45</td>\n",
       "      <td>10000</td>\n",
       "      <td>7.51</td>\n",
       "      <td>23</td>\n",
       "      <td>8.17</td>\n",
       "      <td>[{'id': 802, 'main': 'Clouds', 'description': ...</td>\n",
       "      <td>0.04</td>\n",
       "    </tr>\n",
       "    <tr>\n",
       "      <th>1</th>\n",
       "      <td>1634367600</td>\n",
       "      <td>29.43</td>\n",
       "      <td>32.88</td>\n",
       "      <td>1012</td>\n",
       "      <td>66</td>\n",
       "      <td>22.41</td>\n",
       "      <td>3.69</td>\n",
       "      <td>45</td>\n",
       "      <td>10000</td>\n",
       "      <td>7.58</td>\n",
       "      <td>20</td>\n",
       "      <td>8.16</td>\n",
       "      <td>[{'id': 802, 'main': 'Clouds', 'description': ...</td>\n",
       "      <td>0.16</td>\n",
       "    </tr>\n",
       "    <tr>\n",
       "      <th>2</th>\n",
       "      <td>1634371200</td>\n",
       "      <td>28.69</td>\n",
       "      <td>31.57</td>\n",
       "      <td>1012</td>\n",
       "      <td>67</td>\n",
       "      <td>21.96</td>\n",
       "      <td>1.73</td>\n",
       "      <td>46</td>\n",
       "      <td>10000</td>\n",
       "      <td>8.21</td>\n",
       "      <td>16</td>\n",
       "      <td>9.11</td>\n",
       "      <td>[{'id': 802, 'main': 'Clouds', 'description': ...</td>\n",
       "      <td>0.26</td>\n",
       "    </tr>\n",
       "    <tr>\n",
       "      <th>3</th>\n",
       "      <td>1634374800</td>\n",
       "      <td>27.34</td>\n",
       "      <td>29.25</td>\n",
       "      <td>1013</td>\n",
       "      <td>68</td>\n",
       "      <td>20.91</td>\n",
       "      <td>0.48</td>\n",
       "      <td>43</td>\n",
       "      <td>10000</td>\n",
       "      <td>9.02</td>\n",
       "      <td>15</td>\n",
       "      <td>10.58</td>\n",
       "      <td>[{'id': 802, 'main': 'Clouds', 'description': ...</td>\n",
       "      <td>0.26</td>\n",
       "    </tr>\n",
       "    <tr>\n",
       "      <th>4</th>\n",
       "      <td>1634378400</td>\n",
       "      <td>25.44</td>\n",
       "      <td>25.89</td>\n",
       "      <td>1014</td>\n",
       "      <td>71</td>\n",
       "      <td>19.80</td>\n",
       "      <td>0.00</td>\n",
       "      <td>35</td>\n",
       "      <td>10000</td>\n",
       "      <td>9.01</td>\n",
       "      <td>12</td>\n",
       "      <td>11.78</td>\n",
       "      <td>[{'id': 802, 'main': 'Clouds', 'description': ...</td>\n",
       "      <td>0.17</td>\n",
       "    </tr>\n",
       "  </tbody>\n",
       "</table>\n",
       "</div>"
      ],
      "text/plain": [
       "           dt   temp  feels_like  pressure  humidity  dew_point   uvi  clouds  \\\n",
       "0  1634364000  29.90       33.67      1012        65      22.61  6.45      45   \n",
       "1  1634367600  29.43       32.88      1012        66      22.41  3.69      45   \n",
       "2  1634371200  28.69       31.57      1012        67      21.96  1.73      46   \n",
       "3  1634374800  27.34       29.25      1013        68      20.91  0.48      43   \n",
       "4  1634378400  25.44       25.89      1014        71      19.80  0.00      35   \n",
       "\n",
       "   visibility  wind_speed  wind_deg  wind_gust  \\\n",
       "0       10000        7.51        23       8.17   \n",
       "1       10000        7.58        20       8.16   \n",
       "2       10000        8.21        16       9.11   \n",
       "3       10000        9.02        15      10.58   \n",
       "4       10000        9.01        12      11.78   \n",
       "\n",
       "                                             weather   pop  \n",
       "0  [{'id': 802, 'main': 'Clouds', 'description': ...  0.04  \n",
       "1  [{'id': 802, 'main': 'Clouds', 'description': ...  0.16  \n",
       "2  [{'id': 802, 'main': 'Clouds', 'description': ...  0.26  \n",
       "3  [{'id': 802, 'main': 'Clouds', 'description': ...  0.26  \n",
       "4  [{'id': 802, 'main': 'Clouds', 'description': ...  0.17  "
      ]
     },
     "execution_count": 10,
     "metadata": {},
     "output_type": "execute_result"
    }
   ],
   "source": [
    "df_hourly.head()"
   ]
  },
  {
   "cell_type": "code",
   "execution_count": null,
   "metadata": {},
   "outputs": [],
   "source": []
  }
 ],
 "metadata": {
  "interpreter": {
   "hash": "c1b4cfe941b6d2466ad1fb5979e97da9cda8801728c8091b097ab734208fc00c"
  },
  "kernelspec": {
   "display_name": "Python 3.8.3 64-bit ('base': conda)",
   "name": "python3"
  },
  "language_info": {
   "codemirror_mode": {
    "name": "ipython",
    "version": 3
   },
   "file_extension": ".py",
   "mimetype": "text/x-python",
   "name": "python",
   "nbconvert_exporter": "python",
   "pygments_lexer": "ipython3",
   "version": "3.8.12"
  }
 },
 "nbformat": 4,
 "nbformat_minor": 2
}
