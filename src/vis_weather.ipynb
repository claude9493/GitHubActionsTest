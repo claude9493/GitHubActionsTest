{
 "cells": [
  {
   "cell_type": "code",
   "execution_count": 1,
   "metadata": {
    "execution": {
     "iopub.execute_input": "2021-09-09T23:15:20.639981Z",
     "iopub.status.busy": "2021-09-09T23:15:20.639200Z",
     "iopub.status.idle": "2021-09-09T23:15:22.574174Z",
     "shell.execute_reply": "2021-09-09T23:15:22.573559Z"
    }
   },
   "outputs": [],
   "source": [
    "import json, yaml, requests\r\n",
    "from datetime import datetime\r\n",
    "from dateutil import tz\r\n",
    "import pandas as pd\r\n",
    "from PIL import Image\r\n",
    "from io import BytesIO\r\n",
    "import matplotlib.pyplot as plt\r\n",
    "import seaborn\r\n",
    "\r\n",
    "CONFIG_PATH = \"../config/config.yaml\""
   ]
  },
  {
   "cell_type": "code",
   "execution_count": 2,
   "metadata": {
    "execution": {
     "iopub.execute_input": "2021-09-09T23:15:22.579283Z",
     "iopub.status.busy": "2021-09-09T23:15:22.578779Z",
     "iopub.status.idle": "2021-09-09T23:15:22.583548Z",
     "shell.execute_reply": "2021-09-09T23:15:22.583140Z"
    }
   },
   "outputs": [],
   "source": [
    "with open('../newest_ts', 'r') as f:\r\n",
    "    newest_ts = f.read()\r\n",
    "\r\n",
    "data_path = f\"../data/data_{newest_ts}.json\"\r\n",
    "with open(data_path, 'r') as f:\r\n",
    "    data = json.load(f)\r\n",
    "\r\n",
    "with open(CONFIG_PATH, \"r\") as stream:\r\n",
    "    config = yaml.safe_load(stream)\r\n",
    "\r\n",
    "TIME_ZONE = config['time_zone']\r\n",
    "DATETIME_FORMAT = config['dt_format']"
   ]
  },
  {
   "cell_type": "code",
   "execution_count": 3,
   "metadata": {
    "execution": {
     "iopub.execute_input": "2021-09-09T23:15:22.589029Z",
     "iopub.status.busy": "2021-09-09T23:15:22.587714Z",
     "iopub.status.idle": "2021-09-09T23:15:22.592229Z",
     "shell.execute_reply": "2021-09-09T23:15:22.592677Z"
    }
   },
   "outputs": [
    {
     "name": "stdout",
     "output_type": "stream",
     "text": [
      "Recent query happens at 2021-09-10 07:15:17 (CST).\n"
     ]
    }
   ],
   "source": [
    "def ts2dt(ts, format=DATETIME_FORMAT):\r\n",
    "    dt = (datetime.utcfromtimestamp(int(ts))\r\n",
    "                    .replace(tzinfo=tz.tzutc())\r\n",
    "                    # .astimezone(tz.tzlocal())\r\n",
    "                    .astimezone(tz.gettz(TIME_ZONE)))\r\n",
    "    return dt.strftime(format), dt\r\n",
    "\r\n",
    "_, newest_dt = ts2dt(newest_ts)\r\n",
    "print(f\"Recent query happens at {newest_dt.strftime(DATETIME_FORMAT)} ({newest_dt.tzname()}).\")"
   ]
  },
  {
   "cell_type": "code",
   "execution_count": 4,
   "metadata": {
    "execution": {
     "iopub.execute_input": "2021-09-09T23:15:22.596707Z",
     "iopub.status.busy": "2021-09-09T23:15:22.596231Z",
     "iopub.status.idle": "2021-09-09T23:15:22.599560Z",
     "shell.execute_reply": "2021-09-09T23:15:22.599052Z"
    }
   },
   "outputs": [],
   "source": [
    "def degrees_to_cardinal(d):\r\n",
    "  dirs = ['N', 'NNE', 'NE', 'ENE', 'E', 'ESE', 'SE', 'SSE', 'S', 'SSW', 'SW', 'WSW', 'W', 'WNW', 'NW', 'NNW']\r\n",
    "  ix = int(round(d / (360. / len(dirs))))\r\n",
    "  return dirs[ix % len(dirs)]"
   ]
  },
  {
   "cell_type": "code",
   "execution_count": 5,
   "metadata": {
    "execution": {
     "iopub.execute_input": "2021-09-09T23:15:22.603035Z",
     "iopub.status.busy": "2021-09-09T23:15:22.602549Z",
     "iopub.status.idle": "2021-09-09T23:15:22.605461Z",
     "shell.execute_reply": "2021-09-09T23:15:22.605863Z"
    }
   },
   "outputs": [],
   "source": [
    "# data.keys()"
   ]
  },
  {
   "cell_type": "code",
   "execution_count": 6,
   "metadata": {
    "execution": {
     "iopub.execute_input": "2021-09-09T23:15:22.608941Z",
     "iopub.status.busy": "2021-09-09T23:15:22.608004Z",
     "iopub.status.idle": "2021-09-09T23:15:22.611503Z",
     "shell.execute_reply": "2021-09-09T23:15:22.611062Z"
    }
   },
   "outputs": [],
   "source": [
    "# data['current']"
   ]
  },
  {
   "cell_type": "code",
   "execution_count": 7,
   "metadata": {
    "execution": {
     "iopub.execute_input": "2021-09-09T23:15:22.613911Z",
     "iopub.status.busy": "2021-09-09T23:15:22.613411Z",
     "iopub.status.idle": "2021-09-09T23:15:23.063882Z",
     "shell.execute_reply": "2021-09-09T23:15:23.064647Z"
    }
   },
   "outputs": [
    {
     "data": {
      "image/png": "[encoded data removed]",
      "text/plain": [
       "<Figure size 216x216 with 1 Axes>"
      ]
     },
     "metadata": {
      "needs_background": "light"
     },
     "output_type": "display_data"
    },
    {
     "name": "stdout",
     "output_type": "stream",
     "text": [
      "Today, sun rises at 06:08 and sets at 18:32.\n",
      "Currently, the weather is Clouds (overcast clouds).\n",
      "The temperature is 29.31°C and it feels like 35.86°C.\n",
      "The UV index is 0.25, humidity is 81%.\n",
      "The pressure is 1009 hPa, percentage of cloud cover is 89%\n",
      "The wind comes from ENE direction with a speed 4.72 m/s.\n"
     ]
    }
   ],
   "source": [
    "current = data['current']\r\n",
    "\r\n",
    "fig, ax = plt.subplots(figsize=(3, 3))\r\n",
    "icon = requests.get(f\"http://openweathermap.org/img/wn/{current['weather'][0]['icon']}@2x.png\")\r\n",
    "im = Image.open(BytesIO(icon.content))\r\n",
    "plt.imshow(im)\r\n",
    "ax.set_axis_off()\r\n",
    "plt.show()\r\n",
    "\r\n",
    "print(f\"Today, sun rises at {ts2dt(current['sunrise'], '%H:%M')[0]} \\\r\n",
    "and sets at {ts2dt(current['sunset'], '%H:%M')[0]}.\\n\\\r\n",
    "Currently, the weather is {current['weather'][0]['main']} ({current['weather'][0]['description']}).\\n\\\r\n",
    "The temperature is {current['temp']}°C and it feels like {current['feels_like']}°C.\\n\\\r\n",
    "The UV index is {current['uvi']}, humidity is {current['humidity']}%.\\n\\\r\n",
    "The pressure is {current['pressure']} hPa, percentage of cloud cover is {current['clouds']}%\\n\\\r\n",
    "The wind comes from {degrees_to_cardinal(current['wind_deg'])} direction with a speed {current['wind_speed']} m/s.\")"
   ]
  },
  {
   "cell_type": "code",
   "execution_count": 8,
   "metadata": {
    "execution": {
     "iopub.execute_input": "2021-09-09T23:15:23.067908Z",
     "iopub.status.busy": "2021-09-09T23:15:23.067366Z",
     "iopub.status.idle": "2021-09-09T23:15:23.074766Z",
     "shell.execute_reply": "2021-09-09T23:15:23.075449Z"
    }
   },
   "outputs": [],
   "source": [
    "df_hourly = pd.DataFrame(data['hourly'])\r\n",
    "df_daily = pd.DataFrame(data['daily'])"
   ]
  },
  {
   "cell_type": "code",
   "execution_count": 9,
   "metadata": {
    "execution": {
     "iopub.execute_input": "2021-09-09T23:15:23.079010Z",
     "iopub.status.busy": "2021-09-09T23:15:23.077865Z",
     "iopub.status.idle": "2021-09-09T23:15:23.396872Z",
     "shell.execute_reply": "2021-09-09T23:15:23.396358Z"
    }
   },
   "outputs": [
    {
     "data": {
      "image/png": "[encoded data removed]",
      "text/plain": [
       "<Figure size 864x432 with 1 Axes>"
      ]
     },
     "metadata": {
      "needs_background": "light"
     },
     "output_type": "display_data"
    }
   ],
   "source": [
    "fig, ax = plt.subplots(figsize=(12, 6))\r\n",
    "plt.plot(df_hourly.temp, '.-', label='Temperature')\r\n",
    "plt.plot(df_hourly.feels_like, '.-', label='Feels Like')\r\n",
    "ax.set(title='Temperature in future 48 hours', xlabel='Time', ylabel='Temperature')\r\n",
    "ax.set_xticks(list(range(0, len(df_hourly), 2)))\r\n",
    "ax.set_xticklabels([ts2dt(ts, '%m-%d %H:%M')[0] for i, ts in enumerate(df_hourly.dt) if i%2==0], \r\n",
    "                   rotation=45, ha=\"right\")\r\n",
    "ax.locator_params(nbins=15, axis='y')\r\n",
    "plt.legend()\r\n",
    "plt.show()"
   ]
  },
  {
   "cell_type": "code",
   "execution_count": 10,
   "metadata": {
    "execution": {
     "iopub.execute_input": "2021-09-09T23:15:23.408106Z",
     "iopub.status.busy": "2021-09-09T23:15:23.400765Z",
     "iopub.status.idle": "2021-09-09T23:15:23.419413Z",
     "shell.execute_reply": "2021-09-09T23:15:23.419010Z"
    }
   },
   "outputs": [
    {
     "data": {
      "text/html": [
       "<div>\n",
       "<style scoped>\n",
       "    .dataframe tbody tr th:only-of-type {\n",
       "        vertical-align: middle;\n",
       "    }\n",
       "\n",
       "    .dataframe tbody tr th {\n",
       "        vertical-align: top;\n",
       "    }\n",
       "\n",
       "    .dataframe thead th {\n",
       "        text-align: right;\n",
       "    }\n",
       "</style>\n",
       "<table border=\"1\" class=\"dataframe\">\n",
       "  <thead>\n",
       "    <tr style=\"text-align: right;\">\n",
       "      <th></th>\n",
       "      <th>dt</th>\n",
       "      <th>temp</th>\n",
       "      <th>feels_like</th>\n",
       "      <th>pressure</th>\n",
       "      <th>humidity</th>\n",
       "      <th>dew_point</th>\n",
       "      <th>uvi</th>\n",
       "      <th>clouds</th>\n",
       "      <th>visibility</th>\n",
       "      <th>wind_speed</th>\n",
       "      <th>wind_deg</th>\n",
       "      <th>wind_gust</th>\n",
       "      <th>weather</th>\n",
       "      <th>pop</th>\n",
       "      <th>rain</th>\n",
       "    </tr>\n",
       "  </thead>\n",
       "  <tbody>\n",
       "    <tr>\n",
       "      <th>0</th>\n",
       "      <td>1631228400</td>\n",
       "      <td>29.31</td>\n",
       "      <td>35.86</td>\n",
       "      <td>1009</td>\n",
       "      <td>81</td>\n",
       "      <td>25.71</td>\n",
       "      <td>0.25</td>\n",
       "      <td>89</td>\n",
       "      <td>10000</td>\n",
       "      <td>4.72</td>\n",
       "      <td>65</td>\n",
       "      <td>6.51</td>\n",
       "      <td>[{'id': 804, 'main': 'Clouds', 'description': ...</td>\n",
       "      <td>0.73</td>\n",
       "      <td>NaN</td>\n",
       "    </tr>\n",
       "    <tr>\n",
       "      <th>1</th>\n",
       "      <td>1631232000</td>\n",
       "      <td>29.07</td>\n",
       "      <td>35.16</td>\n",
       "      <td>1009</td>\n",
       "      <td>81</td>\n",
       "      <td>25.47</td>\n",
       "      <td>1.32</td>\n",
       "      <td>89</td>\n",
       "      <td>10000</td>\n",
       "      <td>5.29</td>\n",
       "      <td>67</td>\n",
       "      <td>6.55</td>\n",
       "      <td>[{'id': 804, 'main': 'Clouds', 'description': ...</td>\n",
       "      <td>0.87</td>\n",
       "      <td>NaN</td>\n",
       "    </tr>\n",
       "    <tr>\n",
       "      <th>2</th>\n",
       "      <td>1631235600</td>\n",
       "      <td>29.05</td>\n",
       "      <td>34.66</td>\n",
       "      <td>1009</td>\n",
       "      <td>79</td>\n",
       "      <td>25.03</td>\n",
       "      <td>3.38</td>\n",
       "      <td>93</td>\n",
       "      <td>10000</td>\n",
       "      <td>5.35</td>\n",
       "      <td>69</td>\n",
       "      <td>6.32</td>\n",
       "      <td>[{'id': 804, 'main': 'Clouds', 'description': ...</td>\n",
       "      <td>0.29</td>\n",
       "      <td>NaN</td>\n",
       "    </tr>\n",
       "    <tr>\n",
       "      <th>3</th>\n",
       "      <td>1631239200</td>\n",
       "      <td>29.17</td>\n",
       "      <td>34.77</td>\n",
       "      <td>1010</td>\n",
       "      <td>78</td>\n",
       "      <td>24.94</td>\n",
       "      <td>6.19</td>\n",
       "      <td>96</td>\n",
       "      <td>10000</td>\n",
       "      <td>5.77</td>\n",
       "      <td>71</td>\n",
       "      <td>6.71</td>\n",
       "      <td>[{'id': 804, 'main': 'Clouds', 'description': ...</td>\n",
       "      <td>0.21</td>\n",
       "      <td>NaN</td>\n",
       "    </tr>\n",
       "    <tr>\n",
       "      <th>4</th>\n",
       "      <td>1631242800</td>\n",
       "      <td>29.47</td>\n",
       "      <td>34.66</td>\n",
       "      <td>1009</td>\n",
       "      <td>74</td>\n",
       "      <td>24.35</td>\n",
       "      <td>8.80</td>\n",
       "      <td>97</td>\n",
       "      <td>10000</td>\n",
       "      <td>5.86</td>\n",
       "      <td>71</td>\n",
       "      <td>6.82</td>\n",
       "      <td>[{'id': 804, 'main': 'Clouds', 'description': ...</td>\n",
       "      <td>0.16</td>\n",
       "      <td>NaN</td>\n",
       "    </tr>\n",
       "  </tbody>\n",
       "</table>\n",
       "</div>"
      ],
      "text/plain": [
       "           dt   temp  feels_like  pressure  humidity  dew_point   uvi  clouds  \\\n",
       "0  1631228400  29.31       35.86      1009        81      25.71  0.25      89   \n",
       "1  1631232000  29.07       35.16      1009        81      25.47  1.32      89   \n",
       "2  1631235600  29.05       34.66      1009        79      25.03  3.38      93   \n",
       "3  1631239200  29.17       34.77      1010        78      24.94  6.19      96   \n",
       "4  1631242800  29.47       34.66      1009        74      24.35  8.80      97   \n",
       "\n",
       "   visibility  wind_speed  wind_deg  wind_gust  \\\n",
       "0       10000        4.72        65       6.51   \n",
       "1       10000        5.29        67       6.55   \n",
       "2       10000        5.35        69       6.32   \n",
       "3       10000        5.77        71       6.71   \n",
       "4       10000        5.86        71       6.82   \n",
       "\n",
       "                                             weather   pop rain  \n",
       "0  [{'id': 804, 'main': 'Clouds', 'description': ...  0.73  NaN  \n",
       "1  [{'id': 804, 'main': 'Clouds', 'description': ...  0.87  NaN  \n",
       "2  [{'id': 804, 'main': 'Clouds', 'description': ...  0.29  NaN  \n",
       "3  [{'id': 804, 'main': 'Clouds', 'description': ...  0.21  NaN  \n",
       "4  [{'id': 804, 'main': 'Clouds', 'description': ...  0.16  NaN  "
      ]
     },
     "execution_count": 10,
     "metadata": {},
     "output_type": "execute_result"
    }
   ],
   "source": [
    "df_hourly.head()"
   ]
  },
  {
   "cell_type": "code",
   "execution_count": null,
   "metadata": {},
   "outputs": [],
   "source": []
  }
 ],
 "metadata": {
  "interpreter": {
   "hash": "c1b4cfe941b6d2466ad1fb5979e97da9cda8801728c8091b097ab734208fc00c"
  },
  "kernelspec": {
   "display_name": "Python 3.8.3 64-bit ('base': conda)",
   "name": "python3"
  },
  "language_info": {
   "codemirror_mode": {
    "name": "ipython",
    "version": 3
   },
   "file_extension": ".py",
   "mimetype": "text/x-python",
   "name": "python",
   "nbconvert_exporter": "python",
   "pygments_lexer": "ipython3",
   "version": "3.8.11"
  }
 },
 "nbformat": 4,
 "nbformat_minor": 2
}
