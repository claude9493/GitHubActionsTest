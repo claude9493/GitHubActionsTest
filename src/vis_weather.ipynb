{
 "cells": [
  {
   "cell_type": "code",
   "execution_count": 1,
   "metadata": {
    "execution": {
     "iopub.execute_input": "2021-10-20T04:15:12.083741Z",
     "iopub.status.busy": "2021-10-20T04:15:12.083206Z",
     "iopub.status.idle": "2021-10-20T04:15:14.336281Z",
     "shell.execute_reply": "2021-10-20T04:15:14.335615Z"
    }
   },
   "outputs": [],
   "source": [
    "import json, yaml, requests\r\n",
    "from datetime import datetime\r\n",
    "from dateutil import tz\r\n",
    "import pandas as pd\r\n",
    "from PIL import Image\r\n",
    "from io import BytesIO\r\n",
    "import matplotlib.pyplot as plt\r\n",
    "import seaborn\r\n",
    "\r\n",
    "CONFIG_PATH = \"../config/config.yaml\""
   ]
  },
  {
   "cell_type": "code",
   "execution_count": 2,
   "metadata": {
    "execution": {
     "iopub.execute_input": "2021-10-20T04:15:14.341449Z",
     "iopub.status.busy": "2021-10-20T04:15:14.340954Z",
     "iopub.status.idle": "2021-10-20T04:15:14.346667Z",
     "shell.execute_reply": "2021-10-20T04:15:14.345901Z"
    }
   },
   "outputs": [],
   "source": [
    "with open('../newest_ts', 'r') as f:\r\n",
    "    newest_ts = f.read()\r\n",
    "\r\n",
    "data_path = f\"../data/data_{newest_ts}.json\"\r\n",
    "with open(data_path, 'r') as f:\r\n",
    "    data = json.load(f)\r\n",
    "\r\n",
    "with open(CONFIG_PATH, \"r\") as stream:\r\n",
    "    config = yaml.safe_load(stream)\r\n",
    "\r\n",
    "TIME_ZONE = config['time_zone']\r\n",
    "DATETIME_FORMAT = config['dt_format']"
   ]
  },
  {
   "cell_type": "code",
   "execution_count": 3,
   "metadata": {
    "execution": {
     "iopub.execute_input": "2021-10-20T04:15:14.351043Z",
     "iopub.status.busy": "2021-10-20T04:15:14.348782Z",
     "iopub.status.idle": "2021-10-20T04:15:14.356906Z",
     "shell.execute_reply": "2021-10-20T04:15:14.357282Z"
    }
   },
   "outputs": [
    {
     "name": "stdout",
     "output_type": "stream",
     "text": [
      "Recent query happens at 2021-10-20 12:15:09 (CST).\n"
     ]
    }
   ],
   "source": [
    "def ts2dt(ts, format=DATETIME_FORMAT):\r\n",
    "    dt = (datetime.utcfromtimestamp(int(ts))\r\n",
    "                    .replace(tzinfo=tz.tzutc())\r\n",
    "                    # .astimezone(tz.tzlocal())\r\n",
    "                    .astimezone(tz.gettz(TIME_ZONE)))\r\n",
    "    return dt.strftime(format), dt\r\n",
    "\r\n",
    "_, newest_dt = ts2dt(newest_ts)\r\n",
    "print(f\"Recent query happens at {newest_dt.strftime(DATETIME_FORMAT)} ({newest_dt.tzname()}).\")"
   ]
  },
  {
   "cell_type": "code",
   "execution_count": 4,
   "metadata": {
    "execution": {
     "iopub.execute_input": "2021-10-20T04:15:14.362739Z",
     "iopub.status.busy": "2021-10-20T04:15:14.361565Z",
     "iopub.status.idle": "2021-10-20T04:15:14.363283Z",
     "shell.execute_reply": "2021-10-20T04:15:14.363650Z"
    }
   },
   "outputs": [],
   "source": [
    "def degrees_to_cardinal(d):\r\n",
    "  dirs = ['N', 'NNE', 'NE', 'ENE', 'E', 'ESE', 'SE', 'SSE', 'S', 'SSW', 'SW', 'WSW', 'W', 'WNW', 'NW', 'NNW']\r\n",
    "  ix = int(round(d / (360. / len(dirs))))\r\n",
    "  return dirs[ix % len(dirs)]"
   ]
  },
  {
   "cell_type": "code",
   "execution_count": 5,
   "metadata": {
    "execution": {
     "iopub.execute_input": "2021-10-20T04:15:14.367673Z",
     "iopub.status.busy": "2021-10-20T04:15:14.366683Z",
     "iopub.status.idle": "2021-10-20T04:15:14.368875Z",
     "shell.execute_reply": "2021-10-20T04:15:14.368453Z"
    }
   },
   "outputs": [],
   "source": [
    "# data.keys()"
   ]
  },
  {
   "cell_type": "code",
   "execution_count": 6,
   "metadata": {
    "execution": {
     "iopub.execute_input": "2021-10-20T04:15:14.372838Z",
     "iopub.status.busy": "2021-10-20T04:15:14.371801Z",
     "iopub.status.idle": "2021-10-20T04:15:14.373360Z",
     "shell.execute_reply": "2021-10-20T04:15:14.373721Z"
    }
   },
   "outputs": [],
   "source": [
    "# data['current']"
   ]
  },
  {
   "cell_type": "code",
   "execution_count": 7,
   "metadata": {
    "execution": {
     "iopub.execute_input": "2021-10-20T04:15:14.390627Z",
     "iopub.status.busy": "2021-10-20T04:15:14.379627Z",
     "iopub.status.idle": "2021-10-20T04:15:14.773935Z",
     "shell.execute_reply": "2021-10-20T04:15:14.774664Z"
    }
   },
   "outputs": [
    {
     "data": {
      "image/png": "[encoded data removed]",
      "text/plain": [
       "<Figure size 216x216 with 1 Axes>"
      ]
     },
     "metadata": {
      "needs_background": "light"
     },
     "output_type": "display_data"
    },
    {
     "name": "stdout",
     "output_type": "stream",
     "text": [
      "Today, sun rises at 06:21 and sets at 17:54.\n",
      "Currently, the weather is Clouds (broken clouds).\n",
      "The temperature is 28.7°C and it feels like 31.92°C.\n",
      "The UV index is 7.77, humidity is 69%.\n",
      "The pressure is 1016 hPa, percentage of cloud cover is 84%\n",
      "The wind comes from E direction with a speed 5.69 m/s.\n"
     ]
    }
   ],
   "source": [
    "current = data['current']\r\n",
    "\r\n",
    "fig, ax = plt.subplots(figsize=(3, 3))\r\n",
    "icon = requests.get(f\"http://openweathermap.org/img/wn/{current['weather'][0]['icon']}@2x.png\")\r\n",
    "im = Image.open(BytesIO(icon.content))\r\n",
    "plt.imshow(im)\r\n",
    "ax.set_axis_off()\r\n",
    "plt.show()\r\n",
    "\r\n",
    "print(f\"Today, sun rises at {ts2dt(current['sunrise'], '%H:%M')[0]} \\\r\n",
    "and sets at {ts2dt(current['sunset'], '%H:%M')[0]}.\\n\\\r\n",
    "Currently, the weather is {current['weather'][0]['main']} ({current['weather'][0]['description']}).\\n\\\r\n",
    "The temperature is {current['temp']}°C and it feels like {current['feels_like']}°C.\\n\\\r\n",
    "The UV index is {current['uvi']}, humidity is {current['humidity']}%.\\n\\\r\n",
    "The pressure is {current['pressure']} hPa, percentage of cloud cover is {current['clouds']}%\\n\\\r\n",
    "The wind comes from {degrees_to_cardinal(current['wind_deg'])} direction with a speed {current['wind_speed']} m/s.\")"
   ]
  },
  {
   "cell_type": "code",
   "execution_count": 8,
   "metadata": {
    "execution": {
     "iopub.execute_input": "2021-10-20T04:15:14.778066Z",
     "iopub.status.busy": "2021-10-20T04:15:14.777096Z",
     "iopub.status.idle": "2021-10-20T04:15:14.784572Z",
     "shell.execute_reply": "2021-10-20T04:15:14.785276Z"
    }
   },
   "outputs": [],
   "source": [
    "df_hourly = pd.DataFrame(data['hourly'])\r\n",
    "df_daily = pd.DataFrame(data['daily'])"
   ]
  },
  {
   "cell_type": "code",
   "execution_count": 9,
   "metadata": {
    "execution": {
     "iopub.execute_input": "2021-10-20T04:15:14.788540Z",
     "iopub.status.busy": "2021-10-20T04:15:14.787564Z",
     "iopub.status.idle": "2021-10-20T04:15:15.026722Z",
     "shell.execute_reply": "2021-10-20T04:15:15.026314Z"
    }
   },
   "outputs": [
    {
     "data": {
      "image/png": "[encoded data removed]",
      "text/plain": [
       "<Figure size 864x432 with 1 Axes>"
      ]
     },
     "metadata": {
      "needs_background": "light"
     },
     "output_type": "display_data"
    }
   ],
   "source": [
    "fig, ax = plt.subplots(figsize=(12, 6))\r\n",
    "plt.plot(df_hourly.temp, '.-', label='Temperature')\r\n",
    "plt.plot(df_hourly.feels_like, '.-', label='Feels Like')\r\n",
    "ax.set(title='Temperature in future 48 hours', xlabel='Time', ylabel='Temperature')\r\n",
    "ax.set_xticks(list(range(0, len(df_hourly), 2)))\r\n",
    "ax.set_xticklabels([ts2dt(ts, '%m-%d %H:%M')[0] for i, ts in enumerate(df_hourly.dt) if i%2==0], \r\n",
    "                   rotation=45, ha=\"right\")\r\n",
    "ax.locator_params(nbins=15, axis='y')\r\n",
    "plt.legend()\r\n",
    "plt.show()"
   ]
  },
  {
   "cell_type": "code",
   "execution_count": 10,
   "metadata": {
    "execution": {
     "iopub.execute_input": "2021-10-20T04:15:15.038594Z",
     "iopub.status.busy": "2021-10-20T04:15:15.030631Z",
     "iopub.status.idle": "2021-10-20T04:15:15.050649Z",
     "shell.execute_reply": "2021-10-20T04:15:15.050223Z"
    }
   },
   "outputs": [
    {
     "data": {
      "text/html": [
       "<div>\n",
       "<style scoped>\n",
       "    .dataframe tbody tr th:only-of-type {\n",
       "        vertical-align: middle;\n",
       "    }\n",
       "\n",
       "    .dataframe tbody tr th {\n",
       "        vertical-align: top;\n",
       "    }\n",
       "\n",
       "    .dataframe thead th {\n",
       "        text-align: right;\n",
       "    }\n",
       "</style>\n",
       "<table border=\"1\" class=\"dataframe\">\n",
       "  <thead>\n",
       "    <tr style=\"text-align: right;\">\n",
       "      <th></th>\n",
       "      <th>dt</th>\n",
       "      <th>temp</th>\n",
       "      <th>feels_like</th>\n",
       "      <th>pressure</th>\n",
       "      <th>humidity</th>\n",
       "      <th>dew_point</th>\n",
       "      <th>uvi</th>\n",
       "      <th>clouds</th>\n",
       "      <th>visibility</th>\n",
       "      <th>wind_speed</th>\n",
       "      <th>wind_deg</th>\n",
       "      <th>wind_gust</th>\n",
       "      <th>weather</th>\n",
       "      <th>pop</th>\n",
       "      <th>rain</th>\n",
       "    </tr>\n",
       "  </thead>\n",
       "  <tbody>\n",
       "    <tr>\n",
       "      <th>0</th>\n",
       "      <td>1634702400</td>\n",
       "      <td>28.70</td>\n",
       "      <td>31.92</td>\n",
       "      <td>1016</td>\n",
       "      <td>69</td>\n",
       "      <td>22.45</td>\n",
       "      <td>7.77</td>\n",
       "      <td>84</td>\n",
       "      <td>10000</td>\n",
       "      <td>5.69</td>\n",
       "      <td>92</td>\n",
       "      <td>6.63</td>\n",
       "      <td>[{'id': 500, 'main': 'Rain', 'description': 'l...</td>\n",
       "      <td>0.23</td>\n",
       "      <td>{'1h': 0.12}</td>\n",
       "    </tr>\n",
       "    <tr>\n",
       "      <th>1</th>\n",
       "      <td>1634706000</td>\n",
       "      <td>28.28</td>\n",
       "      <td>31.22</td>\n",
       "      <td>1016</td>\n",
       "      <td>70</td>\n",
       "      <td>22.28</td>\n",
       "      <td>7.62</td>\n",
       "      <td>84</td>\n",
       "      <td>10000</td>\n",
       "      <td>5.67</td>\n",
       "      <td>91</td>\n",
       "      <td>6.32</td>\n",
       "      <td>[{'id': 803, 'main': 'Clouds', 'description': ...</td>\n",
       "      <td>0.19</td>\n",
       "      <td>NaN</td>\n",
       "    </tr>\n",
       "    <tr>\n",
       "      <th>2</th>\n",
       "      <td>1634709600</td>\n",
       "      <td>27.92</td>\n",
       "      <td>30.64</td>\n",
       "      <td>1016</td>\n",
       "      <td>71</td>\n",
       "      <td>22.17</td>\n",
       "      <td>6.13</td>\n",
       "      <td>84</td>\n",
       "      <td>10000</td>\n",
       "      <td>5.43</td>\n",
       "      <td>94</td>\n",
       "      <td>6.03</td>\n",
       "      <td>[{'id': 803, 'main': 'Clouds', 'description': ...</td>\n",
       "      <td>0.16</td>\n",
       "      <td>NaN</td>\n",
       "    </tr>\n",
       "    <tr>\n",
       "      <th>3</th>\n",
       "      <td>1634713200</td>\n",
       "      <td>27.53</td>\n",
       "      <td>30.01</td>\n",
       "      <td>1015</td>\n",
       "      <td>72</td>\n",
       "      <td>22.03</td>\n",
       "      <td>4.19</td>\n",
       "      <td>78</td>\n",
       "      <td>10000</td>\n",
       "      <td>5.50</td>\n",
       "      <td>93</td>\n",
       "      <td>5.97</td>\n",
       "      <td>[{'id': 803, 'main': 'Clouds', 'description': ...</td>\n",
       "      <td>0.00</td>\n",
       "      <td>NaN</td>\n",
       "    </tr>\n",
       "    <tr>\n",
       "      <th>4</th>\n",
       "      <td>1634716800</td>\n",
       "      <td>26.93</td>\n",
       "      <td>29.06</td>\n",
       "      <td>1014</td>\n",
       "      <td>74</td>\n",
       "      <td>21.90</td>\n",
       "      <td>1.94</td>\n",
       "      <td>78</td>\n",
       "      <td>10000</td>\n",
       "      <td>5.46</td>\n",
       "      <td>91</td>\n",
       "      <td>5.84</td>\n",
       "      <td>[{'id': 803, 'main': 'Clouds', 'description': ...</td>\n",
       "      <td>0.00</td>\n",
       "      <td>NaN</td>\n",
       "    </tr>\n",
       "  </tbody>\n",
       "</table>\n",
       "</div>"
      ],
      "text/plain": [
       "           dt   temp  feels_like  pressure  humidity  dew_point   uvi  clouds  \\\n",
       "0  1634702400  28.70       31.92      1016        69      22.45  7.77      84   \n",
       "1  1634706000  28.28       31.22      1016        70      22.28  7.62      84   \n",
       "2  1634709600  27.92       30.64      1016        71      22.17  6.13      84   \n",
       "3  1634713200  27.53       30.01      1015        72      22.03  4.19      78   \n",
       "4  1634716800  26.93       29.06      1014        74      21.90  1.94      78   \n",
       "\n",
       "   visibility  wind_speed  wind_deg  wind_gust  \\\n",
       "0       10000        5.69        92       6.63   \n",
       "1       10000        5.67        91       6.32   \n",
       "2       10000        5.43        94       6.03   \n",
       "3       10000        5.50        93       5.97   \n",
       "4       10000        5.46        91       5.84   \n",
       "\n",
       "                                             weather   pop          rain  \n",
       "0  [{'id': 500, 'main': 'Rain', 'description': 'l...  0.23  {'1h': 0.12}  \n",
       "1  [{'id': 803, 'main': 'Clouds', 'description': ...  0.19           NaN  \n",
       "2  [{'id': 803, 'main': 'Clouds', 'description': ...  0.16           NaN  \n",
       "3  [{'id': 803, 'main': 'Clouds', 'description': ...  0.00           NaN  \n",
       "4  [{'id': 803, 'main': 'Clouds', 'description': ...  0.00           NaN  "
      ]
     },
     "execution_count": 10,
     "metadata": {},
     "output_type": "execute_result"
    }
   ],
   "source": [
    "df_hourly.head()"
   ]
  },
  {
   "cell_type": "code",
   "execution_count": null,
   "metadata": {},
   "outputs": [],
   "source": []
  }
 ],
 "metadata": {
  "interpreter": {
   "hash": "c1b4cfe941b6d2466ad1fb5979e97da9cda8801728c8091b097ab734208fc00c"
  },
  "kernelspec": {
   "display_name": "Python 3.8.3 64-bit ('base': conda)",
   "name": "python3"
  },
  "language_info": {
   "codemirror_mode": {
    "name": "ipython",
    "version": 3
   },
   "file_extension": ".py",
   "mimetype": "text/x-python",
   "name": "python",
   "nbconvert_exporter": "python",
   "pygments_lexer": "ipython3",
   "version": "3.8.12"
  }
 },
 "nbformat": 4,
 "nbformat_minor": 2
}
