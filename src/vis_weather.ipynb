{
 "cells": [
  {
   "cell_type": "code",
   "execution_count": 1,
   "metadata": {
    "execution": {
     "iopub.execute_input": "2021-10-03T04:14:30.792887Z",
     "iopub.status.busy": "2021-10-03T04:14:30.792277Z",
     "iopub.status.idle": "2021-10-03T04:14:32.065943Z",
     "shell.execute_reply": "2021-10-03T04:14:32.066414Z"
    }
   },
   "outputs": [],
   "source": [
    "import json, yaml, requests\r\n",
    "from datetime import datetime\r\n",
    "from dateutil import tz\r\n",
    "import pandas as pd\r\n",
    "from PIL import Image\r\n",
    "from io import BytesIO\r\n",
    "import matplotlib.pyplot as plt\r\n",
    "import seaborn\r\n",
    "\r\n",
    "CONFIG_PATH = \"../config/config.yaml\""
   ]
  },
  {
   "cell_type": "code",
   "execution_count": 2,
   "metadata": {
    "execution": {
     "iopub.execute_input": "2021-10-03T04:14:32.075850Z",
     "iopub.status.busy": "2021-10-03T04:14:32.071714Z",
     "iopub.status.idle": "2021-10-03T04:14:32.078639Z",
     "shell.execute_reply": "2021-10-03T04:14:32.079036Z"
    }
   },
   "outputs": [],
   "source": [
    "with open('../newest_ts', 'r') as f:\r\n",
    "    newest_ts = f.read()\r\n",
    "\r\n",
    "data_path = f\"../data/data_{newest_ts}.json\"\r\n",
    "with open(data_path, 'r') as f:\r\n",
    "    data = json.load(f)\r\n",
    "\r\n",
    "with open(CONFIG_PATH, \"r\") as stream:\r\n",
    "    config = yaml.safe_load(stream)\r\n",
    "\r\n",
    "TIME_ZONE = config['time_zone']\r\n",
    "DATETIME_FORMAT = config['dt_format']"
   ]
  },
  {
   "cell_type": "code",
   "execution_count": 3,
   "metadata": {
    "execution": {
     "iopub.execute_input": "2021-10-03T04:14:32.084879Z",
     "iopub.status.busy": "2021-10-03T04:14:32.083329Z",
     "iopub.status.idle": "2021-10-03T04:14:32.090025Z",
     "shell.execute_reply": "2021-10-03T04:14:32.090436Z"
    }
   },
   "outputs": [
    {
     "name": "stdout",
     "output_type": "stream",
     "text": [
      "Recent query happens at 2021-10-03 12:14:27 (CST).\n"
     ]
    }
   ],
   "source": [
    "def ts2dt(ts, format=DATETIME_FORMAT):\r\n",
    "    dt = (datetime.utcfromtimestamp(int(ts))\r\n",
    "                    .replace(tzinfo=tz.tzutc())\r\n",
    "                    # .astimezone(tz.tzlocal())\r\n",
    "                    .astimezone(tz.gettz(TIME_ZONE)))\r\n",
    "    return dt.strftime(format), dt\r\n",
    "\r\n",
    "_, newest_dt = ts2dt(newest_ts)\r\n",
    "print(f\"Recent query happens at {newest_dt.strftime(DATETIME_FORMAT)} ({newest_dt.tzname()}).\")"
   ]
  },
  {
   "cell_type": "code",
   "execution_count": 4,
   "metadata": {
    "execution": {
     "iopub.execute_input": "2021-10-03T04:14:32.096355Z",
     "iopub.status.busy": "2021-10-03T04:14:32.095138Z",
     "iopub.status.idle": "2021-10-03T04:14:32.097262Z",
     "shell.execute_reply": "2021-10-03T04:14:32.097737Z"
    }
   },
   "outputs": [],
   "source": [
    "def degrees_to_cardinal(d):\r\n",
    "  dirs = ['N', 'NNE', 'NE', 'ENE', 'E', 'ESE', 'SE', 'SSE', 'S', 'SSW', 'SW', 'WSW', 'W', 'WNW', 'NW', 'NNW']\r\n",
    "  ix = int(round(d / (360. / len(dirs))))\r\n",
    "  return dirs[ix % len(dirs)]"
   ]
  },
  {
   "cell_type": "code",
   "execution_count": 5,
   "metadata": {
    "execution": {
     "iopub.execute_input": "2021-10-03T04:14:32.102916Z",
     "iopub.status.busy": "2021-10-03T04:14:32.101412Z",
     "iopub.status.idle": "2021-10-03T04:14:32.103738Z",
     "shell.execute_reply": "2021-10-03T04:14:32.104163Z"
    }
   },
   "outputs": [],
   "source": [
    "# data.keys()"
   ]
  },
  {
   "cell_type": "code",
   "execution_count": 6,
   "metadata": {
    "execution": {
     "iopub.execute_input": "2021-10-03T04:14:32.108540Z",
     "iopub.status.busy": "2021-10-03T04:14:32.107316Z",
     "iopub.status.idle": "2021-10-03T04:14:32.109132Z",
     "shell.execute_reply": "2021-10-03T04:14:32.109593Z"
    }
   },
   "outputs": [],
   "source": [
    "# data['current']"
   ]
  },
  {
   "cell_type": "code",
   "execution_count": 7,
   "metadata": {
    "execution": {
     "iopub.execute_input": "2021-10-03T04:14:32.130789Z",
     "iopub.status.busy": "2021-10-03T04:14:32.130173Z",
     "iopub.status.idle": "2021-10-03T04:14:32.540872Z",
     "shell.execute_reply": "2021-10-03T04:14:32.541430Z"
    }
   },
   "outputs": [
    {
     "data": {
      "image/png": "[encoded data removed]",
      "text/plain": [
       "<Figure size 216x216 with 1 Axes>"
      ]
     },
     "metadata": {
      "needs_background": "light"
     },
     "output_type": "display_data"
    },
    {
     "name": "stdout",
     "output_type": "stream",
     "text": [
      "Today, sun rises at 06:14 and sets at 18:09.\n",
      "Currently, the weather is Clouds (broken clouds).\n",
      "The temperature is 28.59°C and it feels like 34.21°C.\n",
      "The UV index is 9.21, humidity is 83%.\n",
      "The pressure is 1013 hPa, percentage of cloud cover is 77%\n",
      "The wind comes from N direction with a speed 0.45 m/s.\n"
     ]
    }
   ],
   "source": [
    "current = data['current']\r\n",
    "\r\n",
    "fig, ax = plt.subplots(figsize=(3, 3))\r\n",
    "icon = requests.get(f\"http://openweathermap.org/img/wn/{current['weather'][0]['icon']}@2x.png\")\r\n",
    "im = Image.open(BytesIO(icon.content))\r\n",
    "plt.imshow(im)\r\n",
    "ax.set_axis_off()\r\n",
    "plt.show()\r\n",
    "\r\n",
    "print(f\"Today, sun rises at {ts2dt(current['sunrise'], '%H:%M')[0]} \\\r\n",
    "and sets at {ts2dt(current['sunset'], '%H:%M')[0]}.\\n\\\r\n",
    "Currently, the weather is {current['weather'][0]['main']} ({current['weather'][0]['description']}).\\n\\\r\n",
    "The temperature is {current['temp']}°C and it feels like {current['feels_like']}°C.\\n\\\r\n",
    "The UV index is {current['uvi']}, humidity is {current['humidity']}%.\\n\\\r\n",
    "The pressure is {current['pressure']} hPa, percentage of cloud cover is {current['clouds']}%\\n\\\r\n",
    "The wind comes from {degrees_to_cardinal(current['wind_deg'])} direction with a speed {current['wind_speed']} m/s.\")"
   ]
  },
  {
   "cell_type": "code",
   "execution_count": 8,
   "metadata": {
    "execution": {
     "iopub.execute_input": "2021-10-03T04:14:32.544665Z",
     "iopub.status.busy": "2021-10-03T04:14:32.544146Z",
     "iopub.status.idle": "2021-10-03T04:14:32.551012Z",
     "shell.execute_reply": "2021-10-03T04:14:32.551492Z"
    }
   },
   "outputs": [],
   "source": [
    "df_hourly = pd.DataFrame(data['hourly'])\r\n",
    "df_daily = pd.DataFrame(data['daily'])"
   ]
  },
  {
   "cell_type": "code",
   "execution_count": 9,
   "metadata": {
    "execution": {
     "iopub.execute_input": "2021-10-03T04:14:32.553954Z",
     "iopub.status.busy": "2021-10-03T04:14:32.553311Z",
     "iopub.status.idle": "2021-10-03T04:14:32.859183Z",
     "shell.execute_reply": "2021-10-03T04:14:32.859904Z"
    }
   },
   "outputs": [
    {
     "data": {
      "image/png": "[encoded data removed]",
      "text/plain": [
       "<Figure size 864x432 with 1 Axes>"
      ]
     },
     "metadata": {
      "needs_background": "light"
     },
     "output_type": "display_data"
    }
   ],
   "source": [
    "fig, ax = plt.subplots(figsize=(12, 6))\r\n",
    "plt.plot(df_hourly.temp, '.-', label='Temperature')\r\n",
    "plt.plot(df_hourly.feels_like, '.-', label='Feels Like')\r\n",
    "ax.set(title='Temperature in future 48 hours', xlabel='Time', ylabel='Temperature')\r\n",
    "ax.set_xticks(list(range(0, len(df_hourly), 2)))\r\n",
    "ax.set_xticklabels([ts2dt(ts, '%m-%d %H:%M')[0] for i, ts in enumerate(df_hourly.dt) if i%2==0], \r\n",
    "                   rotation=45, ha=\"right\")\r\n",
    "ax.locator_params(nbins=15, axis='y')\r\n",
    "plt.legend()\r\n",
    "plt.show()"
   ]
  },
  {
   "cell_type": "code",
   "execution_count": 10,
   "metadata": {
    "execution": {
     "iopub.execute_input": "2021-10-03T04:14:32.884819Z",
     "iopub.status.busy": "2021-10-03T04:14:32.864264Z",
     "iopub.status.idle": "2021-10-03T04:14:32.887331Z",
     "shell.execute_reply": "2021-10-03T04:14:32.887751Z"
    }
   },
   "outputs": [
    {
     "data": {
      "text/html": [
       "<div>\n",
       "<style scoped>\n",
       "    .dataframe tbody tr th:only-of-type {\n",
       "        vertical-align: middle;\n",
       "    }\n",
       "\n",
       "    .dataframe tbody tr th {\n",
       "        vertical-align: top;\n",
       "    }\n",
       "\n",
       "    .dataframe thead th {\n",
       "        text-align: right;\n",
       "    }\n",
       "</style>\n",
       "<table border=\"1\" class=\"dataframe\">\n",
       "  <thead>\n",
       "    <tr style=\"text-align: right;\">\n",
       "      <th></th>\n",
       "      <th>dt</th>\n",
       "      <th>temp</th>\n",
       "      <th>feels_like</th>\n",
       "      <th>pressure</th>\n",
       "      <th>humidity</th>\n",
       "      <th>dew_point</th>\n",
       "      <th>uvi</th>\n",
       "      <th>clouds</th>\n",
       "      <th>visibility</th>\n",
       "      <th>wind_speed</th>\n",
       "      <th>wind_deg</th>\n",
       "      <th>wind_gust</th>\n",
       "      <th>weather</th>\n",
       "      <th>pop</th>\n",
       "      <th>rain</th>\n",
       "    </tr>\n",
       "  </thead>\n",
       "  <tbody>\n",
       "    <tr>\n",
       "      <th>0</th>\n",
       "      <td>1633233600</td>\n",
       "      <td>28.59</td>\n",
       "      <td>34.21</td>\n",
       "      <td>1013</td>\n",
       "      <td>83</td>\n",
       "      <td>25.42</td>\n",
       "      <td>9.21</td>\n",
       "      <td>77</td>\n",
       "      <td>10000</td>\n",
       "      <td>6.65</td>\n",
       "      <td>102</td>\n",
       "      <td>7.56</td>\n",
       "      <td>[{'id': 803, 'main': 'Clouds', 'description': ...</td>\n",
       "      <td>0.67</td>\n",
       "      <td>NaN</td>\n",
       "    </tr>\n",
       "    <tr>\n",
       "      <th>1</th>\n",
       "      <td>1633237200</td>\n",
       "      <td>28.71</td>\n",
       "      <td>33.95</td>\n",
       "      <td>1013</td>\n",
       "      <td>80</td>\n",
       "      <td>24.92</td>\n",
       "      <td>9.05</td>\n",
       "      <td>77</td>\n",
       "      <td>10000</td>\n",
       "      <td>5.96</td>\n",
       "      <td>97</td>\n",
       "      <td>7.06</td>\n",
       "      <td>[{'id': 500, 'main': 'Rain', 'description': 'l...</td>\n",
       "      <td>0.67</td>\n",
       "      <td>{'1h': 0.12}</td>\n",
       "    </tr>\n",
       "    <tr>\n",
       "      <th>2</th>\n",
       "      <td>1633240800</td>\n",
       "      <td>28.81</td>\n",
       "      <td>33.81</td>\n",
       "      <td>1012</td>\n",
       "      <td>78</td>\n",
       "      <td>24.59</td>\n",
       "      <td>7.35</td>\n",
       "      <td>79</td>\n",
       "      <td>10000</td>\n",
       "      <td>6.53</td>\n",
       "      <td>93</td>\n",
       "      <td>7.21</td>\n",
       "      <td>[{'id': 500, 'main': 'Rain', 'description': 'l...</td>\n",
       "      <td>0.67</td>\n",
       "      <td>{'1h': 0.18}</td>\n",
       "    </tr>\n",
       "    <tr>\n",
       "      <th>3</th>\n",
       "      <td>1633244400</td>\n",
       "      <td>28.81</td>\n",
       "      <td>33.62</td>\n",
       "      <td>1012</td>\n",
       "      <td>77</td>\n",
       "      <td>24.37</td>\n",
       "      <td>4.80</td>\n",
       "      <td>84</td>\n",
       "      <td>10000</td>\n",
       "      <td>6.68</td>\n",
       "      <td>99</td>\n",
       "      <td>7.41</td>\n",
       "      <td>[{'id': 803, 'main': 'Clouds', 'description': ...</td>\n",
       "      <td>0.47</td>\n",
       "      <td>NaN</td>\n",
       "    </tr>\n",
       "    <tr>\n",
       "      <th>4</th>\n",
       "      <td>1633248000</td>\n",
       "      <td>28.59</td>\n",
       "      <td>32.88</td>\n",
       "      <td>1011</td>\n",
       "      <td>76</td>\n",
       "      <td>23.94</td>\n",
       "      <td>2.31</td>\n",
       "      <td>74</td>\n",
       "      <td>10000</td>\n",
       "      <td>6.65</td>\n",
       "      <td>101</td>\n",
       "      <td>7.53</td>\n",
       "      <td>[{'id': 803, 'main': 'Clouds', 'description': ...</td>\n",
       "      <td>0.59</td>\n",
       "      <td>NaN</td>\n",
       "    </tr>\n",
       "  </tbody>\n",
       "</table>\n",
       "</div>"
      ],
      "text/plain": [
       "           dt   temp  feels_like  pressure  humidity  dew_point   uvi  clouds  \\\n",
       "0  1633233600  28.59       34.21      1013        83      25.42  9.21      77   \n",
       "1  1633237200  28.71       33.95      1013        80      24.92  9.05      77   \n",
       "2  1633240800  28.81       33.81      1012        78      24.59  7.35      79   \n",
       "3  1633244400  28.81       33.62      1012        77      24.37  4.80      84   \n",
       "4  1633248000  28.59       32.88      1011        76      23.94  2.31      74   \n",
       "\n",
       "   visibility  wind_speed  wind_deg  wind_gust  \\\n",
       "0       10000        6.65       102       7.56   \n",
       "1       10000        5.96        97       7.06   \n",
       "2       10000        6.53        93       7.21   \n",
       "3       10000        6.68        99       7.41   \n",
       "4       10000        6.65       101       7.53   \n",
       "\n",
       "                                             weather   pop          rain  \n",
       "0  [{'id': 803, 'main': 'Clouds', 'description': ...  0.67           NaN  \n",
       "1  [{'id': 500, 'main': 'Rain', 'description': 'l...  0.67  {'1h': 0.12}  \n",
       "2  [{'id': 500, 'main': 'Rain', 'description': 'l...  0.67  {'1h': 0.18}  \n",
       "3  [{'id': 803, 'main': 'Clouds', 'description': ...  0.47           NaN  \n",
       "4  [{'id': 803, 'main': 'Clouds', 'description': ...  0.59           NaN  "
      ]
     },
     "execution_count": 10,
     "metadata": {},
     "output_type": "execute_result"
    }
   ],
   "source": [
    "df_hourly.head()"
   ]
  },
  {
   "cell_type": "code",
   "execution_count": null,
   "metadata": {},
   "outputs": [],
   "source": []
  }
 ],
 "metadata": {
  "interpreter": {
   "hash": "c1b4cfe941b6d2466ad1fb5979e97da9cda8801728c8091b097ab734208fc00c"
  },
  "kernelspec": {
   "display_name": "Python 3.8.3 64-bit ('base': conda)",
   "name": "python3"
  },
  "language_info": {
   "codemirror_mode": {
    "name": "ipython",
    "version": 3
   },
   "file_extension": ".py",
   "mimetype": "text/x-python",
   "name": "python",
   "nbconvert_exporter": "python",
   "pygments_lexer": "ipython3",
   "version": "3.8.12"
  }
 },
 "nbformat": 4,
 "nbformat_minor": 2
}
