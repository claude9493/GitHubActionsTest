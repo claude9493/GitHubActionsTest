{
 "cells": [
  {
   "cell_type": "code",
   "execution_count": 1,
   "metadata": {
    "execution": {
     "iopub.execute_input": "2021-09-10T00:54:47.519055Z",
     "iopub.status.busy": "2021-09-10T00:54:47.518206Z",
     "iopub.status.idle": "2021-09-10T00:54:50.188371Z",
     "shell.execute_reply": "2021-09-10T00:54:50.187177Z"
    }
   },
   "outputs": [],
   "source": [
    "import json, yaml, requests\r\n",
    "from datetime import datetime\r\n",
    "from dateutil import tz\r\n",
    "import pandas as pd\r\n",
    "from PIL import Image\r\n",
    "from io import BytesIO\r\n",
    "import matplotlib.pyplot as plt\r\n",
    "import seaborn\r\n",
    "\r\n",
    "CONFIG_PATH = \"../config/config.yaml\""
   ]
  },
  {
   "cell_type": "code",
   "execution_count": 2,
   "metadata": {
    "execution": {
     "iopub.execute_input": "2021-09-10T00:54:50.196868Z",
     "iopub.status.busy": "2021-09-10T00:54:50.193403Z",
     "iopub.status.idle": "2021-09-10T00:54:50.200109Z",
     "shell.execute_reply": "2021-09-10T00:54:50.199635Z"
    }
   },
   "outputs": [],
   "source": [
    "with open('../newest_ts', 'r') as f:\r\n",
    "    newest_ts = f.read()\r\n",
    "\r\n",
    "data_path = f\"../data/data_{newest_ts}.json\"\r\n",
    "with open(data_path, 'r') as f:\r\n",
    "    data = json.load(f)\r\n",
    "\r\n",
    "with open(CONFIG_PATH, \"r\") as stream:\r\n",
    "    config = yaml.safe_load(stream)\r\n",
    "\r\n",
    "TIME_ZONE = config['time_zone']\r\n",
    "DATETIME_FORMAT = config['dt_format']"
   ]
  },
  {
   "cell_type": "code",
   "execution_count": 3,
   "metadata": {
    "execution": {
     "iopub.execute_input": "2021-09-10T00:54:50.205883Z",
     "iopub.status.busy": "2021-09-10T00:54:50.204970Z",
     "iopub.status.idle": "2021-09-10T00:54:50.216073Z",
     "shell.execute_reply": "2021-09-10T00:54:50.216491Z"
    }
   },
   "outputs": [
    {
     "name": "stdout",
     "output_type": "stream",
     "text": [
      "Recent query happens at 2021-09-10 08:54:44 (CST).\n"
     ]
    }
   ],
   "source": [
    "def ts2dt(ts, format=DATETIME_FORMAT):\r\n",
    "    dt = (datetime.utcfromtimestamp(int(ts))\r\n",
    "                    .replace(tzinfo=tz.tzutc())\r\n",
    "                    # .astimezone(tz.tzlocal())\r\n",
    "                    .astimezone(tz.gettz(TIME_ZONE)))\r\n",
    "    return dt.strftime(format), dt\r\n",
    "\r\n",
    "_, newest_dt = ts2dt(newest_ts)\r\n",
    "print(f\"Recent query happens at {newest_dt.strftime(DATETIME_FORMAT)} ({newest_dt.tzname()}).\")"
   ]
  },
  {
   "cell_type": "code",
   "execution_count": 4,
   "metadata": {
    "execution": {
     "iopub.execute_input": "2021-09-10T00:54:50.222015Z",
     "iopub.status.busy": "2021-09-10T00:54:50.221396Z",
     "iopub.status.idle": "2021-09-10T00:54:50.224180Z",
     "shell.execute_reply": "2021-09-10T00:54:50.223479Z"
    }
   },
   "outputs": [],
   "source": [
    "def degrees_to_cardinal(d):\r\n",
    "  dirs = ['N', 'NNE', 'NE', 'ENE', 'E', 'ESE', 'SE', 'SSE', 'S', 'SSW', 'SW', 'WSW', 'W', 'WNW', 'NW', 'NNW']\r\n",
    "  ix = int(round(d / (360. / len(dirs))))\r\n",
    "  return dirs[ix % len(dirs)]"
   ]
  },
  {
   "cell_type": "code",
   "execution_count": 5,
   "metadata": {
    "execution": {
     "iopub.execute_input": "2021-09-10T00:54:50.228301Z",
     "iopub.status.busy": "2021-09-10T00:54:50.227696Z",
     "iopub.status.idle": "2021-09-10T00:54:50.231309Z",
     "shell.execute_reply": "2021-09-10T00:54:50.231827Z"
    }
   },
   "outputs": [],
   "source": [
    "# data.keys()"
   ]
  },
  {
   "cell_type": "code",
   "execution_count": 6,
   "metadata": {
    "execution": {
     "iopub.execute_input": "2021-09-10T00:54:50.235827Z",
     "iopub.status.busy": "2021-09-10T00:54:50.235217Z",
     "iopub.status.idle": "2021-09-10T00:54:50.238621Z",
     "shell.execute_reply": "2021-09-10T00:54:50.239065Z"
    }
   },
   "outputs": [],
   "source": [
    "# data['current']"
   ]
  },
  {
   "cell_type": "code",
   "execution_count": 7,
   "metadata": {
    "execution": {
     "iopub.execute_input": "2021-09-10T00:54:50.261124Z",
     "iopub.status.busy": "2021-09-10T00:54:50.260362Z",
     "iopub.status.idle": "2021-09-10T00:54:50.691968Z",
     "shell.execute_reply": "2021-09-10T00:54:50.692709Z"
    }
   },
   "outputs": [
    {
     "data": {
      "image/png": "[encoded data removed]",
      "text/plain": [
       "<Figure size 216x216 with 1 Axes>"
      ]
     },
     "metadata": {
      "needs_background": "light"
     },
     "output_type": "display_data"
    },
    {
     "name": "stdout",
     "output_type": "stream",
     "text": [
      "Today, sun rises at 06:08 and sets at 18:32.\n",
      "Currently, the weather is Clouds (overcast clouds).\n",
      "The temperature is 30.43°C and it feels like 37.43°C.\n",
      "The UV index is 3.38, humidity is 77%.\n",
      "The pressure is 1010 hPa, percentage of cloud cover is 98%\n",
      "The wind comes from ENE direction with a speed 5.35 m/s.\n"
     ]
    }
   ],
   "source": [
    "current = data['current']\r\n",
    "\r\n",
    "fig, ax = plt.subplots(figsize=(3, 3))\r\n",
    "icon = requests.get(f\"http://openweathermap.org/img/wn/{current['weather'][0]['icon']}@2x.png\")\r\n",
    "im = Image.open(BytesIO(icon.content))\r\n",
    "plt.imshow(im)\r\n",
    "ax.set_axis_off()\r\n",
    "plt.show()\r\n",
    "\r\n",
    "print(f\"Today, sun rises at {ts2dt(current['sunrise'], '%H:%M')[0]} \\\r\n",
    "and sets at {ts2dt(current['sunset'], '%H:%M')[0]}.\\n\\\r\n",
    "Currently, the weather is {current['weather'][0]['main']} ({current['weather'][0]['description']}).\\n\\\r\n",
    "The temperature is {current['temp']}°C and it feels like {current['feels_like']}°C.\\n\\\r\n",
    "The UV index is {current['uvi']}, humidity is {current['humidity']}%.\\n\\\r\n",
    "The pressure is {current['pressure']} hPa, percentage of cloud cover is {current['clouds']}%\\n\\\r\n",
    "The wind comes from {degrees_to_cardinal(current['wind_deg'])} direction with a speed {current['wind_speed']} m/s.\")"
   ]
  },
  {
   "cell_type": "code",
   "execution_count": 8,
   "metadata": {
    "execution": {
     "iopub.execute_input": "2021-09-10T00:54:50.696866Z",
     "iopub.status.busy": "2021-09-10T00:54:50.695639Z",
     "iopub.status.idle": "2021-09-10T00:54:50.704320Z",
     "shell.execute_reply": "2021-09-10T00:54:50.705144Z"
    }
   },
   "outputs": [],
   "source": [
    "df_hourly = pd.DataFrame(data['hourly'])\r\n",
    "df_daily = pd.DataFrame(data['daily'])"
   ]
  },
  {
   "cell_type": "code",
   "execution_count": 9,
   "metadata": {
    "execution": {
     "iopub.execute_input": "2021-09-10T00:54:50.708971Z",
     "iopub.status.busy": "2021-09-10T00:54:50.707647Z",
     "iopub.status.idle": "2021-09-10T00:54:51.059081Z",
     "shell.execute_reply": "2021-09-10T00:54:51.059852Z"
    }
   },
   "outputs": [
    {
     "data": {
      "image/png": "[encoded data removed]",
      "text/plain": [
       "<Figure size 864x432 with 1 Axes>"
      ]
     },
     "metadata": {
      "needs_background": "light"
     },
     "output_type": "display_data"
    }
   ],
   "source": [
    "fig, ax = plt.subplots(figsize=(12, 6))\r\n",
    "plt.plot(df_hourly.temp, '.-', label='Temperature')\r\n",
    "plt.plot(df_hourly.feels_like, '.-', label='Feels Like')\r\n",
    "ax.set(title='Temperature in future 48 hours', xlabel='Time', ylabel='Temperature')\r\n",
    "ax.set_xticks(list(range(0, len(df_hourly), 2)))\r\n",
    "ax.set_xticklabels([ts2dt(ts, '%m-%d %H:%M')[0] for i, ts in enumerate(df_hourly.dt) if i%2==0], \r\n",
    "                   rotation=45, ha=\"right\")\r\n",
    "ax.locator_params(nbins=15, axis='y')\r\n",
    "plt.legend()\r\n",
    "plt.show()"
   ]
  },
  {
   "cell_type": "code",
   "execution_count": 10,
   "metadata": {
    "execution": {
     "iopub.execute_input": "2021-09-10T00:54:51.073137Z",
     "iopub.status.busy": "2021-09-10T00:54:51.064774Z",
     "iopub.status.idle": "2021-09-10T00:54:51.086963Z",
     "shell.execute_reply": "2021-09-10T00:54:51.086474Z"
    }
   },
   "outputs": [
    {
     "data": {
      "text/html": [
       "<div>\n",
       "<style scoped>\n",
       "    .dataframe tbody tr th:only-of-type {\n",
       "        vertical-align: middle;\n",
       "    }\n",
       "\n",
       "    .dataframe tbody tr th {\n",
       "        vertical-align: top;\n",
       "    }\n",
       "\n",
       "    .dataframe thead th {\n",
       "        text-align: right;\n",
       "    }\n",
       "</style>\n",
       "<table border=\"1\" class=\"dataframe\">\n",
       "  <thead>\n",
       "    <tr style=\"text-align: right;\">\n",
       "      <th></th>\n",
       "      <th>dt</th>\n",
       "      <th>temp</th>\n",
       "      <th>feels_like</th>\n",
       "      <th>pressure</th>\n",
       "      <th>humidity</th>\n",
       "      <th>dew_point</th>\n",
       "      <th>uvi</th>\n",
       "      <th>clouds</th>\n",
       "      <th>visibility</th>\n",
       "      <th>wind_speed</th>\n",
       "      <th>wind_deg</th>\n",
       "      <th>wind_gust</th>\n",
       "      <th>weather</th>\n",
       "      <th>pop</th>\n",
       "      <th>rain</th>\n",
       "    </tr>\n",
       "  </thead>\n",
       "  <tbody>\n",
       "    <tr>\n",
       "      <th>0</th>\n",
       "      <td>1631232000</td>\n",
       "      <td>29.98</td>\n",
       "      <td>36.98</td>\n",
       "      <td>1010</td>\n",
       "      <td>78</td>\n",
       "      <td>25.72</td>\n",
       "      <td>1.32</td>\n",
       "      <td>95</td>\n",
       "      <td>10000</td>\n",
       "      <td>5.16</td>\n",
       "      <td>62</td>\n",
       "      <td>6.54</td>\n",
       "      <td>[{'id': 804, 'main': 'Clouds', 'description': ...</td>\n",
       "      <td>0.74</td>\n",
       "      <td>NaN</td>\n",
       "    </tr>\n",
       "    <tr>\n",
       "      <th>1</th>\n",
       "      <td>1631235600</td>\n",
       "      <td>30.43</td>\n",
       "      <td>37.43</td>\n",
       "      <td>1010</td>\n",
       "      <td>77</td>\n",
       "      <td>25.94</td>\n",
       "      <td>3.38</td>\n",
       "      <td>98</td>\n",
       "      <td>10000</td>\n",
       "      <td>5.35</td>\n",
       "      <td>62</td>\n",
       "      <td>6.17</td>\n",
       "      <td>[{'id': 804, 'main': 'Clouds', 'description': ...</td>\n",
       "      <td>0.24</td>\n",
       "      <td>NaN</td>\n",
       "    </tr>\n",
       "    <tr>\n",
       "      <th>2</th>\n",
       "      <td>1631239200</td>\n",
       "      <td>30.17</td>\n",
       "      <td>37.04</td>\n",
       "      <td>1010</td>\n",
       "      <td>76</td>\n",
       "      <td>25.47</td>\n",
       "      <td>6.19</td>\n",
       "      <td>98</td>\n",
       "      <td>10000</td>\n",
       "      <td>5.79</td>\n",
       "      <td>70</td>\n",
       "      <td>6.64</td>\n",
       "      <td>[{'id': 804, 'main': 'Clouds', 'description': ...</td>\n",
       "      <td>0.34</td>\n",
       "      <td>NaN</td>\n",
       "    </tr>\n",
       "    <tr>\n",
       "      <th>3</th>\n",
       "      <td>1631242800</td>\n",
       "      <td>30.11</td>\n",
       "      <td>36.60</td>\n",
       "      <td>1010</td>\n",
       "      <td>75</td>\n",
       "      <td>25.19</td>\n",
       "      <td>8.80</td>\n",
       "      <td>95</td>\n",
       "      <td>10000</td>\n",
       "      <td>5.77</td>\n",
       "      <td>72</td>\n",
       "      <td>6.73</td>\n",
       "      <td>[{'id': 804, 'main': 'Clouds', 'description': ...</td>\n",
       "      <td>0.37</td>\n",
       "      <td>NaN</td>\n",
       "    </tr>\n",
       "    <tr>\n",
       "      <th>4</th>\n",
       "      <td>1631246400</td>\n",
       "      <td>30.16</td>\n",
       "      <td>35.94</td>\n",
       "      <td>1009</td>\n",
       "      <td>72</td>\n",
       "      <td>24.55</td>\n",
       "      <td>10.69</td>\n",
       "      <td>89</td>\n",
       "      <td>10000</td>\n",
       "      <td>5.63</td>\n",
       "      <td>79</td>\n",
       "      <td>6.62</td>\n",
       "      <td>[{'id': 804, 'main': 'Clouds', 'description': ...</td>\n",
       "      <td>0.37</td>\n",
       "      <td>NaN</td>\n",
       "    </tr>\n",
       "  </tbody>\n",
       "</table>\n",
       "</div>"
      ],
      "text/plain": [
       "           dt   temp  feels_like  pressure  humidity  dew_point    uvi  \\\n",
       "0  1631232000  29.98       36.98      1010        78      25.72   1.32   \n",
       "1  1631235600  30.43       37.43      1010        77      25.94   3.38   \n",
       "2  1631239200  30.17       37.04      1010        76      25.47   6.19   \n",
       "3  1631242800  30.11       36.60      1010        75      25.19   8.80   \n",
       "4  1631246400  30.16       35.94      1009        72      24.55  10.69   \n",
       "\n",
       "   clouds  visibility  wind_speed  wind_deg  wind_gust  \\\n",
       "0      95       10000        5.16        62       6.54   \n",
       "1      98       10000        5.35        62       6.17   \n",
       "2      98       10000        5.79        70       6.64   \n",
       "3      95       10000        5.77        72       6.73   \n",
       "4      89       10000        5.63        79       6.62   \n",
       "\n",
       "                                             weather   pop rain  \n",
       "0  [{'id': 804, 'main': 'Clouds', 'description': ...  0.74  NaN  \n",
       "1  [{'id': 804, 'main': 'Clouds', 'description': ...  0.24  NaN  \n",
       "2  [{'id': 804, 'main': 'Clouds', 'description': ...  0.34  NaN  \n",
       "3  [{'id': 804, 'main': 'Clouds', 'description': ...  0.37  NaN  \n",
       "4  [{'id': 804, 'main': 'Clouds', 'description': ...  0.37  NaN  "
      ]
     },
     "execution_count": 10,
     "metadata": {},
     "output_type": "execute_result"
    }
   ],
   "source": [
    "df_hourly.head()"
   ]
  },
  {
   "cell_type": "code",
   "execution_count": null,
   "metadata": {},
   "outputs": [],
   "source": []
  }
 ],
 "metadata": {
  "interpreter": {
   "hash": "c1b4cfe941b6d2466ad1fb5979e97da9cda8801728c8091b097ab734208fc00c"
  },
  "kernelspec": {
   "display_name": "Python 3.8.3 64-bit ('base': conda)",
   "name": "python3"
  },
  "language_info": {
   "codemirror_mode": {
    "name": "ipython",
    "version": 3
   },
   "file_extension": ".py",
   "mimetype": "text/x-python",
   "name": "python",
   "nbconvert_exporter": "python",
   "pygments_lexer": "ipython3",
   "version": "3.8.11"
  }
 },
 "nbformat": 4,
 "nbformat_minor": 2
}
