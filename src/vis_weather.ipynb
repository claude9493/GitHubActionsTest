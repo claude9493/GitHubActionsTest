{
 "cells": [
  {
   "cell_type": "code",
   "execution_count": 1,
   "metadata": {
    "execution": {
     "iopub.execute_input": "2021-10-03T03:12:23.730340Z",
     "iopub.status.busy": "2021-10-03T03:12:23.729647Z",
     "iopub.status.idle": "2021-10-03T03:12:26.210705Z",
     "shell.execute_reply": "2021-10-03T03:12:26.209942Z"
    }
   },
   "outputs": [],
   "source": [
    "import json, yaml, requests\r\n",
    "from datetime import datetime\r\n",
    "from dateutil import tz\r\n",
    "import pandas as pd\r\n",
    "from PIL import Image\r\n",
    "from io import BytesIO\r\n",
    "import matplotlib.pyplot as plt\r\n",
    "import seaborn\r\n",
    "\r\n",
    "CONFIG_PATH = \"../config/config.yaml\""
   ]
  },
  {
   "cell_type": "code",
   "execution_count": 2,
   "metadata": {
    "execution": {
     "iopub.execute_input": "2021-10-03T03:12:26.219154Z",
     "iopub.status.busy": "2021-10-03T03:12:26.215883Z",
     "iopub.status.idle": "2021-10-03T03:12:26.222548Z",
     "shell.execute_reply": "2021-10-03T03:12:26.224087Z"
    }
   },
   "outputs": [],
   "source": [
    "with open('../newest_ts', 'r') as f:\r\n",
    "    newest_ts = f.read()\r\n",
    "\r\n",
    "data_path = f\"../data/data_{newest_ts}.json\"\r\n",
    "with open(data_path, 'r') as f:\r\n",
    "    data = json.load(f)\r\n",
    "\r\n",
    "with open(CONFIG_PATH, \"r\") as stream:\r\n",
    "    config = yaml.safe_load(stream)\r\n",
    "\r\n",
    "TIME_ZONE = config['time_zone']\r\n",
    "DATETIME_FORMAT = config['dt_format']"
   ]
  },
  {
   "cell_type": "code",
   "execution_count": 3,
   "metadata": {
    "execution": {
     "iopub.execute_input": "2021-10-03T03:12:26.228715Z",
     "iopub.status.busy": "2021-10-03T03:12:26.228013Z",
     "iopub.status.idle": "2021-10-03T03:12:26.238430Z",
     "shell.execute_reply": "2021-10-03T03:12:26.238886Z"
    }
   },
   "outputs": [
    {
     "name": "stdout",
     "output_type": "stream",
     "text": [
      "Recent query happens at 2021-10-03 11:12:20 (CST).\n"
     ]
    }
   ],
   "source": [
    "def ts2dt(ts, format=DATETIME_FORMAT):\r\n",
    "    dt = (datetime.utcfromtimestamp(int(ts))\r\n",
    "                    .replace(tzinfo=tz.tzutc())\r\n",
    "                    # .astimezone(tz.tzlocal())\r\n",
    "                    .astimezone(tz.gettz(TIME_ZONE)))\r\n",
    "    return dt.strftime(format), dt\r\n",
    "\r\n",
    "_, newest_dt = ts2dt(newest_ts)\r\n",
    "print(f\"Recent query happens at {newest_dt.strftime(DATETIME_FORMAT)} ({newest_dt.tzname()}).\")"
   ]
  },
  {
   "cell_type": "code",
   "execution_count": 4,
   "metadata": {
    "execution": {
     "iopub.execute_input": "2021-10-03T03:12:26.244724Z",
     "iopub.status.busy": "2021-10-03T03:12:26.243130Z",
     "iopub.status.idle": "2021-10-03T03:12:26.245453Z",
     "shell.execute_reply": "2021-10-03T03:12:26.245919Z"
    }
   },
   "outputs": [],
   "source": [
    "def degrees_to_cardinal(d):\r\n",
    "  dirs = ['N', 'NNE', 'NE', 'ENE', 'E', 'ESE', 'SE', 'SSE', 'S', 'SSW', 'SW', 'WSW', 'W', 'WNW', 'NW', 'NNW']\r\n",
    "  ix = int(round(d / (360. / len(dirs))))\r\n",
    "  return dirs[ix % len(dirs)]"
   ]
  },
  {
   "cell_type": "code",
   "execution_count": 5,
   "metadata": {
    "execution": {
     "iopub.execute_input": "2021-10-03T03:12:26.250542Z",
     "iopub.status.busy": "2021-10-03T03:12:26.249053Z",
     "iopub.status.idle": "2021-10-03T03:12:26.251144Z",
     "shell.execute_reply": "2021-10-03T03:12:26.252437Z"
    }
   },
   "outputs": [],
   "source": [
    "# data.keys()"
   ]
  },
  {
   "cell_type": "code",
   "execution_count": 6,
   "metadata": {
    "execution": {
     "iopub.execute_input": "2021-10-03T03:12:26.257156Z",
     "iopub.status.busy": "2021-10-03T03:12:26.255677Z",
     "iopub.status.idle": "2021-10-03T03:12:26.257846Z",
     "shell.execute_reply": "2021-10-03T03:12:26.258341Z"
    }
   },
   "outputs": [],
   "source": [
    "# data['current']"
   ]
  },
  {
   "cell_type": "code",
   "execution_count": 7,
   "metadata": {
    "execution": {
     "iopub.execute_input": "2021-10-03T03:12:26.286951Z",
     "iopub.status.busy": "2021-10-03T03:12:26.273053Z",
     "iopub.status.idle": "2021-10-03T03:12:26.686013Z",
     "shell.execute_reply": "2021-10-03T03:12:26.686880Z"
    }
   },
   "outputs": [
    {
     "data": {
      "image/png": "[encoded data removed]",
      "text/plain": [
       "<Figure size 216x216 with 1 Axes>"
      ]
     },
     "metadata": {
      "needs_background": "light"
     },
     "output_type": "display_data"
    },
    {
     "name": "stdout",
     "output_type": "stream",
     "text": [
      "Today, sun rises at 06:14 and sets at 18:09.\n",
      "Currently, the weather is Clouds (broken clouds).\n",
      "The temperature is 28.97°C and it feels like 35.55°C.\n",
      "The UV index is 7.91, humidity is 84%.\n",
      "The pressure is 1017 hPa, percentage of cloud cover is 78%\n",
      "The wind comes from SSW direction with a speed 0.45 m/s.\n"
     ]
    }
   ],
   "source": [
    "current = data['current']\r\n",
    "\r\n",
    "fig, ax = plt.subplots(figsize=(3, 3))\r\n",
    "icon = requests.get(f\"http://openweathermap.org/img/wn/{current['weather'][0]['icon']}@2x.png\")\r\n",
    "im = Image.open(BytesIO(icon.content))\r\n",
    "plt.imshow(im)\r\n",
    "ax.set_axis_off()\r\n",
    "plt.show()\r\n",
    "\r\n",
    "print(f\"Today, sun rises at {ts2dt(current['sunrise'], '%H:%M')[0]} \\\r\n",
    "and sets at {ts2dt(current['sunset'], '%H:%M')[0]}.\\n\\\r\n",
    "Currently, the weather is {current['weather'][0]['main']} ({current['weather'][0]['description']}).\\n\\\r\n",
    "The temperature is {current['temp']}°C and it feels like {current['feels_like']}°C.\\n\\\r\n",
    "The UV index is {current['uvi']}, humidity is {current['humidity']}%.\\n\\\r\n",
    "The pressure is {current['pressure']} hPa, percentage of cloud cover is {current['clouds']}%\\n\\\r\n",
    "The wind comes from {degrees_to_cardinal(current['wind_deg'])} direction with a speed {current['wind_speed']} m/s.\")"
   ]
  },
  {
   "cell_type": "code",
   "execution_count": 8,
   "metadata": {
    "execution": {
     "iopub.execute_input": "2021-10-03T03:12:26.690629Z",
     "iopub.status.busy": "2021-10-03T03:12:26.689538Z",
     "iopub.status.idle": "2021-10-03T03:12:26.697995Z",
     "shell.execute_reply": "2021-10-03T03:12:26.698791Z"
    }
   },
   "outputs": [],
   "source": [
    "df_hourly = pd.DataFrame(data['hourly'])\r\n",
    "df_daily = pd.DataFrame(data['daily'])"
   ]
  },
  {
   "cell_type": "code",
   "execution_count": 9,
   "metadata": {
    "execution": {
     "iopub.execute_input": "2021-10-03T03:12:26.702558Z",
     "iopub.status.busy": "2021-10-03T03:12:26.701392Z",
     "iopub.status.idle": "2021-10-03T03:12:27.010044Z",
     "shell.execute_reply": "2021-10-03T03:12:27.009485Z"
    }
   },
   "outputs": [
    {
     "data": {
      "image/png": "[encoded data removed]",
      "text/plain": [
       "<Figure size 864x432 with 1 Axes>"
      ]
     },
     "metadata": {
      "needs_background": "light"
     },
     "output_type": "display_data"
    }
   ],
   "source": [
    "fig, ax = plt.subplots(figsize=(12, 6))\r\n",
    "plt.plot(df_hourly.temp, '.-', label='Temperature')\r\n",
    "plt.plot(df_hourly.feels_like, '.-', label='Feels Like')\r\n",
    "ax.set(title='Temperature in future 48 hours', xlabel='Time', ylabel='Temperature')\r\n",
    "ax.set_xticks(list(range(0, len(df_hourly), 2)))\r\n",
    "ax.set_xticklabels([ts2dt(ts, '%m-%d %H:%M')[0] for i, ts in enumerate(df_hourly.dt) if i%2==0], \r\n",
    "                   rotation=45, ha=\"right\")\r\n",
    "ax.locator_params(nbins=15, axis='y')\r\n",
    "plt.legend()\r\n",
    "plt.show()"
   ]
  },
  {
   "cell_type": "code",
   "execution_count": 10,
   "metadata": {
    "execution": {
     "iopub.execute_input": "2021-10-03T03:12:27.031225Z",
     "iopub.status.busy": "2021-10-03T03:12:27.023604Z",
     "iopub.status.idle": "2021-10-03T03:12:27.037471Z",
     "shell.execute_reply": "2021-10-03T03:12:27.036970Z"
    }
   },
   "outputs": [
    {
     "data": {
      "text/html": [
       "<div>\n",
       "<style scoped>\n",
       "    .dataframe tbody tr th:only-of-type {\n",
       "        vertical-align: middle;\n",
       "    }\n",
       "\n",
       "    .dataframe tbody tr th {\n",
       "        vertical-align: top;\n",
       "    }\n",
       "\n",
       "    .dataframe thead th {\n",
       "        text-align: right;\n",
       "    }\n",
       "</style>\n",
       "<table border=\"1\" class=\"dataframe\">\n",
       "  <thead>\n",
       "    <tr style=\"text-align: right;\">\n",
       "      <th></th>\n",
       "      <th>dt</th>\n",
       "      <th>temp</th>\n",
       "      <th>feels_like</th>\n",
       "      <th>pressure</th>\n",
       "      <th>humidity</th>\n",
       "      <th>dew_point</th>\n",
       "      <th>uvi</th>\n",
       "      <th>clouds</th>\n",
       "      <th>visibility</th>\n",
       "      <th>wind_speed</th>\n",
       "      <th>wind_deg</th>\n",
       "      <th>wind_gust</th>\n",
       "      <th>weather</th>\n",
       "      <th>pop</th>\n",
       "      <th>rain</th>\n",
       "    </tr>\n",
       "  </thead>\n",
       "  <tbody>\n",
       "    <tr>\n",
       "      <th>0</th>\n",
       "      <td>1633230000</td>\n",
       "      <td>28.97</td>\n",
       "      <td>35.55</td>\n",
       "      <td>1017</td>\n",
       "      <td>84</td>\n",
       "      <td>25.99</td>\n",
       "      <td>7.91</td>\n",
       "      <td>78</td>\n",
       "      <td>10000</td>\n",
       "      <td>6.78</td>\n",
       "      <td>97</td>\n",
       "      <td>7.65</td>\n",
       "      <td>[{'id': 803, 'main': 'Clouds', 'description': ...</td>\n",
       "      <td>0.71</td>\n",
       "      <td>NaN</td>\n",
       "    </tr>\n",
       "    <tr>\n",
       "      <th>1</th>\n",
       "      <td>1633233600</td>\n",
       "      <td>29.00</td>\n",
       "      <td>34.96</td>\n",
       "      <td>1016</td>\n",
       "      <td>81</td>\n",
       "      <td>25.41</td>\n",
       "      <td>9.21</td>\n",
       "      <td>78</td>\n",
       "      <td>10000</td>\n",
       "      <td>6.65</td>\n",
       "      <td>102</td>\n",
       "      <td>7.56</td>\n",
       "      <td>[{'id': 500, 'main': 'Rain', 'description': 'l...</td>\n",
       "      <td>0.67</td>\n",
       "      <td>{'1h': 0.13}</td>\n",
       "    </tr>\n",
       "    <tr>\n",
       "      <th>2</th>\n",
       "      <td>1633237200</td>\n",
       "      <td>29.05</td>\n",
       "      <td>34.45</td>\n",
       "      <td>1015</td>\n",
       "      <td>78</td>\n",
       "      <td>24.82</td>\n",
       "      <td>9.05</td>\n",
       "      <td>78</td>\n",
       "      <td>10000</td>\n",
       "      <td>5.96</td>\n",
       "      <td>97</td>\n",
       "      <td>7.06</td>\n",
       "      <td>[{'id': 803, 'main': 'Clouds', 'description': ...</td>\n",
       "      <td>0.67</td>\n",
       "      <td>NaN</td>\n",
       "    </tr>\n",
       "    <tr>\n",
       "      <th>3</th>\n",
       "      <td>1633240800</td>\n",
       "      <td>29.07</td>\n",
       "      <td>34.08</td>\n",
       "      <td>1013</td>\n",
       "      <td>76</td>\n",
       "      <td>24.41</td>\n",
       "      <td>7.35</td>\n",
       "      <td>80</td>\n",
       "      <td>10000</td>\n",
       "      <td>6.53</td>\n",
       "      <td>93</td>\n",
       "      <td>7.21</td>\n",
       "      <td>[{'id': 803, 'main': 'Clouds', 'description': ...</td>\n",
       "      <td>0.67</td>\n",
       "      <td>NaN</td>\n",
       "    </tr>\n",
       "    <tr>\n",
       "      <th>4</th>\n",
       "      <td>1633244400</td>\n",
       "      <td>28.95</td>\n",
       "      <td>33.57</td>\n",
       "      <td>1012</td>\n",
       "      <td>75</td>\n",
       "      <td>24.07</td>\n",
       "      <td>4.80</td>\n",
       "      <td>86</td>\n",
       "      <td>10000</td>\n",
       "      <td>6.68</td>\n",
       "      <td>99</td>\n",
       "      <td>7.41</td>\n",
       "      <td>[{'id': 804, 'main': 'Clouds', 'description': ...</td>\n",
       "      <td>0.47</td>\n",
       "      <td>NaN</td>\n",
       "    </tr>\n",
       "  </tbody>\n",
       "</table>\n",
       "</div>"
      ],
      "text/plain": [
       "           dt   temp  feels_like  pressure  humidity  dew_point   uvi  clouds  \\\n",
       "0  1633230000  28.97       35.55      1017        84      25.99  7.91      78   \n",
       "1  1633233600  29.00       34.96      1016        81      25.41  9.21      78   \n",
       "2  1633237200  29.05       34.45      1015        78      24.82  9.05      78   \n",
       "3  1633240800  29.07       34.08      1013        76      24.41  7.35      80   \n",
       "4  1633244400  28.95       33.57      1012        75      24.07  4.80      86   \n",
       "\n",
       "   visibility  wind_speed  wind_deg  wind_gust  \\\n",
       "0       10000        6.78        97       7.65   \n",
       "1       10000        6.65       102       7.56   \n",
       "2       10000        5.96        97       7.06   \n",
       "3       10000        6.53        93       7.21   \n",
       "4       10000        6.68        99       7.41   \n",
       "\n",
       "                                             weather   pop          rain  \n",
       "0  [{'id': 803, 'main': 'Clouds', 'description': ...  0.71           NaN  \n",
       "1  [{'id': 500, 'main': 'Rain', 'description': 'l...  0.67  {'1h': 0.13}  \n",
       "2  [{'id': 803, 'main': 'Clouds', 'description': ...  0.67           NaN  \n",
       "3  [{'id': 803, 'main': 'Clouds', 'description': ...  0.67           NaN  \n",
       "4  [{'id': 804, 'main': 'Clouds', 'description': ...  0.47           NaN  "
      ]
     },
     "execution_count": 10,
     "metadata": {},
     "output_type": "execute_result"
    }
   ],
   "source": [
    "df_hourly.head()"
   ]
  },
  {
   "cell_type": "code",
   "execution_count": null,
   "metadata": {},
   "outputs": [],
   "source": []
  }
 ],
 "metadata": {
  "interpreter": {
   "hash": "c1b4cfe941b6d2466ad1fb5979e97da9cda8801728c8091b097ab734208fc00c"
  },
  "kernelspec": {
   "display_name": "Python 3.8.3 64-bit ('base': conda)",
   "name": "python3"
  },
  "language_info": {
   "codemirror_mode": {
    "name": "ipython",
    "version": 3
   },
   "file_extension": ".py",
   "mimetype": "text/x-python",
   "name": "python",
   "nbconvert_exporter": "python",
   "pygments_lexer": "ipython3",
   "version": "3.8.12"
  }
 },
 "nbformat": 4,
 "nbformat_minor": 2
}
