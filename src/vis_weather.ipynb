{
 "cells": [
  {
   "cell_type": "code",
   "execution_count": 1,
   "metadata": {
    "execution": {
     "iopub.execute_input": "2021-09-16T07:11:50.248759Z",
     "iopub.status.busy": "2021-09-16T07:11:50.248029Z",
     "iopub.status.idle": "2021-09-16T07:11:51.594988Z",
     "shell.execute_reply": "2021-09-16T07:11:51.594416Z"
    }
   },
   "outputs": [],
   "source": [
    "import json, yaml, requests\r\n",
    "from datetime import datetime\r\n",
    "from dateutil import tz\r\n",
    "import pandas as pd\r\n",
    "from PIL import Image\r\n",
    "from io import BytesIO\r\n",
    "import matplotlib.pyplot as plt\r\n",
    "import seaborn\r\n",
    "\r\n",
    "CONFIG_PATH = \"../config/config.yaml\""
   ]
  },
  {
   "cell_type": "code",
   "execution_count": 2,
   "metadata": {
    "execution": {
     "iopub.execute_input": "2021-09-16T07:11:51.600555Z",
     "iopub.status.busy": "2021-09-16T07:11:51.599719Z",
     "iopub.status.idle": "2021-09-16T07:11:51.604942Z",
     "shell.execute_reply": "2021-09-16T07:11:51.604336Z"
    }
   },
   "outputs": [],
   "source": [
    "with open('../newest_ts', 'r') as f:\r\n",
    "    newest_ts = f.read()\r\n",
    "\r\n",
    "data_path = f\"../data/data_{newest_ts}.json\"\r\n",
    "with open(data_path, 'r') as f:\r\n",
    "    data = json.load(f)\r\n",
    "\r\n",
    "with open(CONFIG_PATH, \"r\") as stream:\r\n",
    "    config = yaml.safe_load(stream)\r\n",
    "\r\n",
    "TIME_ZONE = config['time_zone']\r\n",
    "DATETIME_FORMAT = config['dt_format']"
   ]
  },
  {
   "cell_type": "code",
   "execution_count": 3,
   "metadata": {
    "execution": {
     "iopub.execute_input": "2021-09-16T07:11:51.609625Z",
     "iopub.status.busy": "2021-09-16T07:11:51.609158Z",
     "iopub.status.idle": "2021-09-16T07:11:51.621542Z",
     "shell.execute_reply": "2021-09-16T07:11:51.621116Z"
    }
   },
   "outputs": [
    {
     "name": "stdout",
     "output_type": "stream",
     "text": [
      "Recent query happens at 2021-09-16 15:11:47 (CST).\n"
     ]
    }
   ],
   "source": [
    "def ts2dt(ts, format=DATETIME_FORMAT):\r\n",
    "    dt = (datetime.utcfromtimestamp(int(ts))\r\n",
    "                    .replace(tzinfo=tz.tzutc())\r\n",
    "                    # .astimezone(tz.tzlocal())\r\n",
    "                    .astimezone(tz.gettz(TIME_ZONE)))\r\n",
    "    return dt.strftime(format), dt\r\n",
    "\r\n",
    "_, newest_dt = ts2dt(newest_ts)\r\n",
    "print(f\"Recent query happens at {newest_dt.strftime(DATETIME_FORMAT)} ({newest_dt.tzname()}).\")"
   ]
  },
  {
   "cell_type": "code",
   "execution_count": 4,
   "metadata": {
    "execution": {
     "iopub.execute_input": "2021-09-16T07:11:51.627094Z",
     "iopub.status.busy": "2021-09-16T07:11:51.626058Z",
     "iopub.status.idle": "2021-09-16T07:11:51.627622Z",
     "shell.execute_reply": "2021-09-16T07:11:51.627987Z"
    }
   },
   "outputs": [],
   "source": [
    "def degrees_to_cardinal(d):\r\n",
    "  dirs = ['N', 'NNE', 'NE', 'ENE', 'E', 'ESE', 'SE', 'SSE', 'S', 'SSW', 'SW', 'WSW', 'W', 'WNW', 'NW', 'NNW']\r\n",
    "  ix = int(round(d / (360. / len(dirs))))\r\n",
    "  return dirs[ix % len(dirs)]"
   ]
  },
  {
   "cell_type": "code",
   "execution_count": 5,
   "metadata": {
    "execution": {
     "iopub.execute_input": "2021-09-16T07:11:51.632283Z",
     "iopub.status.busy": "2021-09-16T07:11:51.631182Z",
     "iopub.status.idle": "2021-09-16T07:11:51.632844Z",
     "shell.execute_reply": "2021-09-16T07:11:51.633216Z"
    }
   },
   "outputs": [],
   "source": [
    "# data.keys()"
   ]
  },
  {
   "cell_type": "code",
   "execution_count": 6,
   "metadata": {
    "execution": {
     "iopub.execute_input": "2021-09-16T07:11:51.637151Z",
     "iopub.status.busy": "2021-09-16T07:11:51.636033Z",
     "iopub.status.idle": "2021-09-16T07:11:51.637678Z",
     "shell.execute_reply": "2021-09-16T07:11:51.638046Z"
    }
   },
   "outputs": [],
   "source": [
    "# data['current']"
   ]
  },
  {
   "cell_type": "code",
   "execution_count": 7,
   "metadata": {
    "execution": {
     "iopub.execute_input": "2021-09-16T07:11:51.645029Z",
     "iopub.status.busy": "2021-09-16T07:11:51.644405Z",
     "iopub.status.idle": "2021-09-16T07:11:52.057732Z",
     "shell.execute_reply": "2021-09-16T07:11:52.058424Z"
    }
   },
   "outputs": [
    {
     "data": {
      "image/png": "[encoded data removed]",
      "text/plain": [
       "<Figure size 216x216 with 1 Axes>"
      ]
     },
     "metadata": {
      "needs_background": "light"
     },
     "output_type": "display_data"
    },
    {
     "name": "stdout",
     "output_type": "stream",
     "text": [
      "Today, sun rises at 06:09 and sets at 18:26.\n",
      "Currently, the weather is Rain (moderate rain).\n",
      "The temperature is 30.11°C and it feels like 35.81°C.\n",
      "The UV index is 5.57, humidity is 72%.\n",
      "The pressure is 1007 hPa, percentage of cloud cover is 33%\n",
      "The wind comes from WSW direction with a speed 3.07 m/s.\n"
     ]
    }
   ],
   "source": [
    "current = data['current']\r\n",
    "\r\n",
    "fig, ax = plt.subplots(figsize=(3, 3))\r\n",
    "icon = requests.get(f\"http://openweathermap.org/img/wn/{current['weather'][0]['icon']}@2x.png\")\r\n",
    "im = Image.open(BytesIO(icon.content))\r\n",
    "plt.imshow(im)\r\n",
    "ax.set_axis_off()\r\n",
    "plt.show()\r\n",
    "\r\n",
    "print(f\"Today, sun rises at {ts2dt(current['sunrise'], '%H:%M')[0]} \\\r\n",
    "and sets at {ts2dt(current['sunset'], '%H:%M')[0]}.\\n\\\r\n",
    "Currently, the weather is {current['weather'][0]['main']} ({current['weather'][0]['description']}).\\n\\\r\n",
    "The temperature is {current['temp']}°C and it feels like {current['feels_like']}°C.\\n\\\r\n",
    "The UV index is {current['uvi']}, humidity is {current['humidity']}%.\\n\\\r\n",
    "The pressure is {current['pressure']} hPa, percentage of cloud cover is {current['clouds']}%\\n\\\r\n",
    "The wind comes from {degrees_to_cardinal(current['wind_deg'])} direction with a speed {current['wind_speed']} m/s.\")"
   ]
  },
  {
   "cell_type": "code",
   "execution_count": 8,
   "metadata": {
    "execution": {
     "iopub.execute_input": "2021-09-16T07:11:52.061686Z",
     "iopub.status.busy": "2021-09-16T07:11:52.060748Z",
     "iopub.status.idle": "2021-09-16T07:11:52.067913Z",
     "shell.execute_reply": "2021-09-16T07:11:52.068593Z"
    }
   },
   "outputs": [],
   "source": [
    "df_hourly = pd.DataFrame(data['hourly'])\r\n",
    "df_daily = pd.DataFrame(data['daily'])"
   ]
  },
  {
   "cell_type": "code",
   "execution_count": 9,
   "metadata": {
    "execution": {
     "iopub.execute_input": "2021-09-16T07:11:52.071874Z",
     "iopub.status.busy": "2021-09-16T07:11:52.070919Z",
     "iopub.status.idle": "2021-09-16T07:11:52.317195Z",
     "shell.execute_reply": "2021-09-16T07:11:52.316717Z"
    }
   },
   "outputs": [
    {
     "data": {
      "image/png": "[encoded data removed]",
      "text/plain": [
       "<Figure size 864x432 with 1 Axes>"
      ]
     },
     "metadata": {
      "needs_background": "light"
     },
     "output_type": "display_data"
    }
   ],
   "source": [
    "fig, ax = plt.subplots(figsize=(12, 6))\r\n",
    "plt.plot(df_hourly.temp, '.-', label='Temperature')\r\n",
    "plt.plot(df_hourly.feels_like, '.-', label='Feels Like')\r\n",
    "ax.set(title='Temperature in future 48 hours', xlabel='Time', ylabel='Temperature')\r\n",
    "ax.set_xticks(list(range(0, len(df_hourly), 2)))\r\n",
    "ax.set_xticklabels([ts2dt(ts, '%m-%d %H:%M')[0] for i, ts in enumerate(df_hourly.dt) if i%2==0], \r\n",
    "                   rotation=45, ha=\"right\")\r\n",
    "ax.locator_params(nbins=15, axis='y')\r\n",
    "plt.legend()\r\n",
    "plt.show()"
   ]
  },
  {
   "cell_type": "code",
   "execution_count": 10,
   "metadata": {
    "execution": {
     "iopub.execute_input": "2021-09-16T07:11:52.329322Z",
     "iopub.status.busy": "2021-09-16T07:11:52.321346Z",
     "iopub.status.idle": "2021-09-16T07:11:52.340938Z",
     "shell.execute_reply": "2021-09-16T07:11:52.340506Z"
    }
   },
   "outputs": [
    {
     "data": {
      "text/html": [
       "<div>\n",
       "<style scoped>\n",
       "    .dataframe tbody tr th:only-of-type {\n",
       "        vertical-align: middle;\n",
       "    }\n",
       "\n",
       "    .dataframe tbody tr th {\n",
       "        vertical-align: top;\n",
       "    }\n",
       "\n",
       "    .dataframe thead th {\n",
       "        text-align: right;\n",
       "    }\n",
       "</style>\n",
       "<table border=\"1\" class=\"dataframe\">\n",
       "  <thead>\n",
       "    <tr style=\"text-align: right;\">\n",
       "      <th></th>\n",
       "      <th>dt</th>\n",
       "      <th>temp</th>\n",
       "      <th>feels_like</th>\n",
       "      <th>pressure</th>\n",
       "      <th>humidity</th>\n",
       "      <th>dew_point</th>\n",
       "      <th>uvi</th>\n",
       "      <th>clouds</th>\n",
       "      <th>visibility</th>\n",
       "      <th>wind_speed</th>\n",
       "      <th>wind_deg</th>\n",
       "      <th>wind_gust</th>\n",
       "      <th>weather</th>\n",
       "      <th>pop</th>\n",
       "      <th>rain</th>\n",
       "    </tr>\n",
       "  </thead>\n",
       "  <tbody>\n",
       "    <tr>\n",
       "      <th>0</th>\n",
       "      <td>1631775600</td>\n",
       "      <td>30.11</td>\n",
       "      <td>35.81</td>\n",
       "      <td>1007</td>\n",
       "      <td>72</td>\n",
       "      <td>24.50</td>\n",
       "      <td>5.57</td>\n",
       "      <td>33</td>\n",
       "      <td>10000</td>\n",
       "      <td>3.07</td>\n",
       "      <td>244</td>\n",
       "      <td>3.42</td>\n",
       "      <td>[{'id': 802, 'main': 'Clouds', 'description': ...</td>\n",
       "      <td>0.00</td>\n",
       "      <td>NaN</td>\n",
       "    </tr>\n",
       "    <tr>\n",
       "      <th>1</th>\n",
       "      <td>1631779200</td>\n",
       "      <td>30.37</td>\n",
       "      <td>35.96</td>\n",
       "      <td>1007</td>\n",
       "      <td>70</td>\n",
       "      <td>24.28</td>\n",
       "      <td>2.82</td>\n",
       "      <td>33</td>\n",
       "      <td>10000</td>\n",
       "      <td>3.22</td>\n",
       "      <td>229</td>\n",
       "      <td>3.30</td>\n",
       "      <td>[{'id': 501, 'main': 'Rain', 'description': 'm...</td>\n",
       "      <td>0.28</td>\n",
       "      <td>{'1h': 2.37}</td>\n",
       "    </tr>\n",
       "    <tr>\n",
       "      <th>2</th>\n",
       "      <td>1631782800</td>\n",
       "      <td>30.38</td>\n",
       "      <td>35.98</td>\n",
       "      <td>1007</td>\n",
       "      <td>70</td>\n",
       "      <td>24.29</td>\n",
       "      <td>0.92</td>\n",
       "      <td>33</td>\n",
       "      <td>10000</td>\n",
       "      <td>4.06</td>\n",
       "      <td>222</td>\n",
       "      <td>4.07</td>\n",
       "      <td>[{'id': 501, 'main': 'Rain', 'description': 'm...</td>\n",
       "      <td>0.20</td>\n",
       "      <td>{'1h': 1.33}</td>\n",
       "    </tr>\n",
       "    <tr>\n",
       "      <th>3</th>\n",
       "      <td>1631786400</td>\n",
       "      <td>29.88</td>\n",
       "      <td>35.72</td>\n",
       "      <td>1007</td>\n",
       "      <td>74</td>\n",
       "      <td>24.74</td>\n",
       "      <td>0.12</td>\n",
       "      <td>35</td>\n",
       "      <td>10000</td>\n",
       "      <td>3.81</td>\n",
       "      <td>225</td>\n",
       "      <td>4.44</td>\n",
       "      <td>[{'id': 500, 'main': 'Rain', 'description': 'l...</td>\n",
       "      <td>0.32</td>\n",
       "      <td>{'1h': 0.12}</td>\n",
       "    </tr>\n",
       "    <tr>\n",
       "      <th>4</th>\n",
       "      <td>1631790000</td>\n",
       "      <td>29.41</td>\n",
       "      <td>34.96</td>\n",
       "      <td>1008</td>\n",
       "      <td>76</td>\n",
       "      <td>24.73</td>\n",
       "      <td>0.00</td>\n",
       "      <td>37</td>\n",
       "      <td>10000</td>\n",
       "      <td>3.20</td>\n",
       "      <td>231</td>\n",
       "      <td>3.53</td>\n",
       "      <td>[{'id': 802, 'main': 'Clouds', 'description': ...</td>\n",
       "      <td>0.16</td>\n",
       "      <td>NaN</td>\n",
       "    </tr>\n",
       "  </tbody>\n",
       "</table>\n",
       "</div>"
      ],
      "text/plain": [
       "           dt   temp  feels_like  pressure  humidity  dew_point   uvi  clouds  \\\n",
       "0  1631775600  30.11       35.81      1007        72      24.50  5.57      33   \n",
       "1  1631779200  30.37       35.96      1007        70      24.28  2.82      33   \n",
       "2  1631782800  30.38       35.98      1007        70      24.29  0.92      33   \n",
       "3  1631786400  29.88       35.72      1007        74      24.74  0.12      35   \n",
       "4  1631790000  29.41       34.96      1008        76      24.73  0.00      37   \n",
       "\n",
       "   visibility  wind_speed  wind_deg  wind_gust  \\\n",
       "0       10000        3.07       244       3.42   \n",
       "1       10000        3.22       229       3.30   \n",
       "2       10000        4.06       222       4.07   \n",
       "3       10000        3.81       225       4.44   \n",
       "4       10000        3.20       231       3.53   \n",
       "\n",
       "                                             weather   pop          rain  \n",
       "0  [{'id': 802, 'main': 'Clouds', 'description': ...  0.00           NaN  \n",
       "1  [{'id': 501, 'main': 'Rain', 'description': 'm...  0.28  {'1h': 2.37}  \n",
       "2  [{'id': 501, 'main': 'Rain', 'description': 'm...  0.20  {'1h': 1.33}  \n",
       "3  [{'id': 500, 'main': 'Rain', 'description': 'l...  0.32  {'1h': 0.12}  \n",
       "4  [{'id': 802, 'main': 'Clouds', 'description': ...  0.16           NaN  "
      ]
     },
     "execution_count": 10,
     "metadata": {},
     "output_type": "execute_result"
    }
   ],
   "source": [
    "df_hourly.head()"
   ]
  },
  {
   "cell_type": "code",
   "execution_count": null,
   "metadata": {},
   "outputs": [],
   "source": []
  }
 ],
 "metadata": {
  "interpreter": {
   "hash": "c1b4cfe941b6d2466ad1fb5979e97da9cda8801728c8091b097ab734208fc00c"
  },
  "kernelspec": {
   "display_name": "Python 3.8.3 64-bit ('base': conda)",
   "name": "python3"
  },
  "language_info": {
   "codemirror_mode": {
    "name": "ipython",
    "version": 3
   },
   "file_extension": ".py",
   "mimetype": "text/x-python",
   "name": "python",
   "nbconvert_exporter": "python",
   "pygments_lexer": "ipython3",
   "version": "3.8.11"
  }
 },
 "nbformat": 4,
 "nbformat_minor": 2
}
