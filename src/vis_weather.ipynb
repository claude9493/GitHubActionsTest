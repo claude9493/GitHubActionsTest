{
 "cells": [
  {
   "cell_type": "code",
   "execution_count": 1,
   "metadata": {
    "execution": {
     "iopub.execute_input": "2021-09-23T00:42:16.932695Z",
     "iopub.status.busy": "2021-09-23T00:42:16.932079Z",
     "iopub.status.idle": "2021-09-23T00:42:18.330281Z",
     "shell.execute_reply": "2021-09-23T00:42:18.329593Z"
    }
   },
   "outputs": [],
   "source": [
    "import json, yaml, requests\r\n",
    "from datetime import datetime\r\n",
    "from dateutil import tz\r\n",
    "import pandas as pd\r\n",
    "from PIL import Image\r\n",
    "from io import BytesIO\r\n",
    "import matplotlib.pyplot as plt\r\n",
    "import seaborn\r\n",
    "\r\n",
    "CONFIG_PATH = \"../config/config.yaml\""
   ]
  },
  {
   "cell_type": "code",
   "execution_count": 2,
   "metadata": {
    "execution": {
     "iopub.execute_input": "2021-09-23T00:42:18.335390Z",
     "iopub.status.busy": "2021-09-23T00:42:18.334573Z",
     "iopub.status.idle": "2021-09-23T00:42:18.341421Z",
     "shell.execute_reply": "2021-09-23T00:42:18.340913Z"
    }
   },
   "outputs": [],
   "source": [
    "with open('../newest_ts', 'r') as f:\r\n",
    "    newest_ts = f.read()\r\n",
    "\r\n",
    "data_path = f\"../data/data_{newest_ts}.json\"\r\n",
    "with open(data_path, 'r') as f:\r\n",
    "    data = json.load(f)\r\n",
    "\r\n",
    "with open(CONFIG_PATH, \"r\") as stream:\r\n",
    "    config = yaml.safe_load(stream)\r\n",
    "\r\n",
    "TIME_ZONE = config['time_zone']\r\n",
    "DATETIME_FORMAT = config['dt_format']"
   ]
  },
  {
   "cell_type": "code",
   "execution_count": 3,
   "metadata": {
    "execution": {
     "iopub.execute_input": "2021-09-23T00:42:18.346463Z",
     "iopub.status.busy": "2021-09-23T00:42:18.345886Z",
     "iopub.status.idle": "2021-09-23T00:42:18.351486Z",
     "shell.execute_reply": "2021-09-23T00:42:18.351914Z"
    }
   },
   "outputs": [
    {
     "name": "stdout",
     "output_type": "stream",
     "text": [
      "Recent query happens at 2021-09-23 08:42:13 (CST).\n"
     ]
    }
   ],
   "source": [
    "def ts2dt(ts, format=DATETIME_FORMAT):\r\n",
    "    dt = (datetime.utcfromtimestamp(int(ts))\r\n",
    "                    .replace(tzinfo=tz.tzutc())\r\n",
    "                    # .astimezone(tz.tzlocal())\r\n",
    "                    .astimezone(tz.gettz(TIME_ZONE)))\r\n",
    "    return dt.strftime(format), dt\r\n",
    "\r\n",
    "_, newest_dt = ts2dt(newest_ts)\r\n",
    "print(f\"Recent query happens at {newest_dt.strftime(DATETIME_FORMAT)} ({newest_dt.tzname()}).\")"
   ]
  },
  {
   "cell_type": "code",
   "execution_count": 4,
   "metadata": {
    "execution": {
     "iopub.execute_input": "2021-09-23T00:42:18.356247Z",
     "iopub.status.busy": "2021-09-23T00:42:18.355782Z",
     "iopub.status.idle": "2021-09-23T00:42:18.357969Z",
     "shell.execute_reply": "2021-09-23T00:42:18.357514Z"
    }
   },
   "outputs": [],
   "source": [
    "def degrees_to_cardinal(d):\r\n",
    "  dirs = ['N', 'NNE', 'NE', 'ENE', 'E', 'ESE', 'SE', 'SSE', 'S', 'SSW', 'SW', 'WSW', 'W', 'WNW', 'NW', 'NNW']\r\n",
    "  ix = int(round(d / (360. / len(dirs))))\r\n",
    "  return dirs[ix % len(dirs)]"
   ]
  },
  {
   "cell_type": "code",
   "execution_count": 5,
   "metadata": {
    "execution": {
     "iopub.execute_input": "2021-09-23T00:42:18.361299Z",
     "iopub.status.busy": "2021-09-23T00:42:18.360870Z",
     "iopub.status.idle": "2021-09-23T00:42:18.363978Z",
     "shell.execute_reply": "2021-09-23T00:42:18.363569Z"
    }
   },
   "outputs": [],
   "source": [
    "# data.keys()"
   ]
  },
  {
   "cell_type": "code",
   "execution_count": 6,
   "metadata": {
    "execution": {
     "iopub.execute_input": "2021-09-23T00:42:18.366692Z",
     "iopub.status.busy": "2021-09-23T00:42:18.366266Z",
     "iopub.status.idle": "2021-09-23T00:42:18.369198Z",
     "shell.execute_reply": "2021-09-23T00:42:18.368844Z"
    }
   },
   "outputs": [],
   "source": [
    "# data['current']"
   ]
  },
  {
   "cell_type": "code",
   "execution_count": 7,
   "metadata": {
    "execution": {
     "iopub.execute_input": "2021-09-23T00:42:18.389023Z",
     "iopub.status.busy": "2021-09-23T00:42:18.385085Z",
     "iopub.status.idle": "2021-09-23T00:42:18.814841Z",
     "shell.execute_reply": "2021-09-23T00:42:18.815638Z"
    }
   },
   "outputs": [
    {
     "data": {
      "image/png": "[encoded data removed]",
      "text/plain": [
       "<Figure size 216x216 with 1 Axes>"
      ]
     },
     "metadata": {
      "needs_background": "light"
     },
     "output_type": "display_data"
    },
    {
     "name": "stdout",
     "output_type": "stream",
     "text": [
      "Today, sun rises at 06:11 and sets at 18:18.\n",
      "Currently, the weather is Rain (light rain).\n",
      "The temperature is 29.35°C and it feels like 36.35°C.\n",
      "The UV index is 3.02, humidity is 83%.\n",
      "The pressure is 1014 hPa, percentage of cloud cover is 96%\n",
      "The wind comes from E direction with a speed 6.09 m/s.\n"
     ]
    }
   ],
   "source": [
    "current = data['current']\r\n",
    "\r\n",
    "fig, ax = plt.subplots(figsize=(3, 3))\r\n",
    "icon = requests.get(f\"http://openweathermap.org/img/wn/{current['weather'][0]['icon']}@2x.png\")\r\n",
    "im = Image.open(BytesIO(icon.content))\r\n",
    "plt.imshow(im)\r\n",
    "ax.set_axis_off()\r\n",
    "plt.show()\r\n",
    "\r\n",
    "print(f\"Today, sun rises at {ts2dt(current['sunrise'], '%H:%M')[0]} \\\r\n",
    "and sets at {ts2dt(current['sunset'], '%H:%M')[0]}.\\n\\\r\n",
    "Currently, the weather is {current['weather'][0]['main']} ({current['weather'][0]['description']}).\\n\\\r\n",
    "The temperature is {current['temp']}°C and it feels like {current['feels_like']}°C.\\n\\\r\n",
    "The UV index is {current['uvi']}, humidity is {current['humidity']}%.\\n\\\r\n",
    "The pressure is {current['pressure']} hPa, percentage of cloud cover is {current['clouds']}%\\n\\\r\n",
    "The wind comes from {degrees_to_cardinal(current['wind_deg'])} direction with a speed {current['wind_speed']} m/s.\")"
   ]
  },
  {
   "cell_type": "code",
   "execution_count": 8,
   "metadata": {
    "execution": {
     "iopub.execute_input": "2021-09-23T00:42:18.818935Z",
     "iopub.status.busy": "2021-09-23T00:42:18.817911Z",
     "iopub.status.idle": "2021-09-23T00:42:18.824736Z",
     "shell.execute_reply": "2021-09-23T00:42:18.825369Z"
    }
   },
   "outputs": [],
   "source": [
    "df_hourly = pd.DataFrame(data['hourly'])\r\n",
    "df_daily = pd.DataFrame(data['daily'])"
   ]
  },
  {
   "cell_type": "code",
   "execution_count": 9,
   "metadata": {
    "execution": {
     "iopub.execute_input": "2021-09-23T00:42:18.828805Z",
     "iopub.status.busy": "2021-09-23T00:42:18.827651Z",
     "iopub.status.idle": "2021-09-23T00:42:19.071249Z",
     "shell.execute_reply": "2021-09-23T00:42:19.070673Z"
    }
   },
   "outputs": [
    {
     "data": {
      "image/png": "[encoded data removed]",
      "text/plain": [
       "<Figure size 864x432 with 1 Axes>"
      ]
     },
     "metadata": {
      "needs_background": "light"
     },
     "output_type": "display_data"
    }
   ],
   "source": [
    "fig, ax = plt.subplots(figsize=(12, 6))\r\n",
    "plt.plot(df_hourly.temp, '.-', label='Temperature')\r\n",
    "plt.plot(df_hourly.feels_like, '.-', label='Feels Like')\r\n",
    "ax.set(title='Temperature in future 48 hours', xlabel='Time', ylabel='Temperature')\r\n",
    "ax.set_xticks(list(range(0, len(df_hourly), 2)))\r\n",
    "ax.set_xticklabels([ts2dt(ts, '%m-%d %H:%M')[0] for i, ts in enumerate(df_hourly.dt) if i%2==0], \r\n",
    "                   rotation=45, ha=\"right\")\r\n",
    "ax.locator_params(nbins=15, axis='y')\r\n",
    "plt.legend()\r\n",
    "plt.show()"
   ]
  },
  {
   "cell_type": "code",
   "execution_count": 10,
   "metadata": {
    "execution": {
     "iopub.execute_input": "2021-09-23T00:42:19.076083Z",
     "iopub.status.busy": "2021-09-23T00:42:19.075252Z",
     "iopub.status.idle": "2021-09-23T00:42:19.095150Z",
     "shell.execute_reply": "2021-09-23T00:42:19.094757Z"
    }
   },
   "outputs": [
    {
     "data": {
      "text/html": [
       "<div>\n",
       "<style scoped>\n",
       "    .dataframe tbody tr th:only-of-type {\n",
       "        vertical-align: middle;\n",
       "    }\n",
       "\n",
       "    .dataframe tbody tr th {\n",
       "        vertical-align: top;\n",
       "    }\n",
       "\n",
       "    .dataframe thead th {\n",
       "        text-align: right;\n",
       "    }\n",
       "</style>\n",
       "<table border=\"1\" class=\"dataframe\">\n",
       "  <thead>\n",
       "    <tr style=\"text-align: right;\">\n",
       "      <th></th>\n",
       "      <th>dt</th>\n",
       "      <th>temp</th>\n",
       "      <th>feels_like</th>\n",
       "      <th>pressure</th>\n",
       "      <th>humidity</th>\n",
       "      <th>dew_point</th>\n",
       "      <th>uvi</th>\n",
       "      <th>clouds</th>\n",
       "      <th>visibility</th>\n",
       "      <th>wind_speed</th>\n",
       "      <th>wind_deg</th>\n",
       "      <th>wind_gust</th>\n",
       "      <th>weather</th>\n",
       "      <th>pop</th>\n",
       "      <th>rain</th>\n",
       "    </tr>\n",
       "  </thead>\n",
       "  <tbody>\n",
       "    <tr>\n",
       "      <th>0</th>\n",
       "      <td>1632355200</td>\n",
       "      <td>29.21</td>\n",
       "      <td>35.80</td>\n",
       "      <td>1014</td>\n",
       "      <td>82</td>\n",
       "      <td>25.82</td>\n",
       "      <td>1.06</td>\n",
       "      <td>87</td>\n",
       "      <td>10000</td>\n",
       "      <td>5.82</td>\n",
       "      <td>88</td>\n",
       "      <td>7.20</td>\n",
       "      <td>[{'id': 500, 'main': 'Rain', 'description': 'l...</td>\n",
       "      <td>0.65</td>\n",
       "      <td>{'1h': 0.63}</td>\n",
       "    </tr>\n",
       "    <tr>\n",
       "      <th>1</th>\n",
       "      <td>1632358800</td>\n",
       "      <td>29.35</td>\n",
       "      <td>36.35</td>\n",
       "      <td>1014</td>\n",
       "      <td>83</td>\n",
       "      <td>26.16</td>\n",
       "      <td>3.02</td>\n",
       "      <td>96</td>\n",
       "      <td>10000</td>\n",
       "      <td>6.09</td>\n",
       "      <td>87</td>\n",
       "      <td>7.39</td>\n",
       "      <td>[{'id': 500, 'main': 'Rain', 'description': 'l...</td>\n",
       "      <td>0.69</td>\n",
       "      <td>{'1h': 0.56}</td>\n",
       "    </tr>\n",
       "    <tr>\n",
       "      <th>2</th>\n",
       "      <td>1632362400</td>\n",
       "      <td>29.31</td>\n",
       "      <td>35.86</td>\n",
       "      <td>1014</td>\n",
       "      <td>81</td>\n",
       "      <td>25.71</td>\n",
       "      <td>5.71</td>\n",
       "      <td>96</td>\n",
       "      <td>10000</td>\n",
       "      <td>6.24</td>\n",
       "      <td>86</td>\n",
       "      <td>7.35</td>\n",
       "      <td>[{'id': 500, 'main': 'Rain', 'description': 'l...</td>\n",
       "      <td>0.69</td>\n",
       "      <td>{'1h': 0.15}</td>\n",
       "    </tr>\n",
       "    <tr>\n",
       "      <th>3</th>\n",
       "      <td>1632366000</td>\n",
       "      <td>29.35</td>\n",
       "      <td>35.49</td>\n",
       "      <td>1014</td>\n",
       "      <td>79</td>\n",
       "      <td>25.33</td>\n",
       "      <td>8.24</td>\n",
       "      <td>96</td>\n",
       "      <td>10000</td>\n",
       "      <td>6.44</td>\n",
       "      <td>85</td>\n",
       "      <td>7.47</td>\n",
       "      <td>[{'id': 804, 'main': 'Clouds', 'description': ...</td>\n",
       "      <td>0.73</td>\n",
       "      <td>NaN</td>\n",
       "    </tr>\n",
       "    <tr>\n",
       "      <th>4</th>\n",
       "      <td>1632369600</td>\n",
       "      <td>29.46</td>\n",
       "      <td>35.33</td>\n",
       "      <td>1014</td>\n",
       "      <td>77</td>\n",
       "      <td>25.00</td>\n",
       "      <td>9.61</td>\n",
       "      <td>95</td>\n",
       "      <td>10000</td>\n",
       "      <td>6.53</td>\n",
       "      <td>89</td>\n",
       "      <td>7.71</td>\n",
       "      <td>[{'id': 500, 'main': 'Rain', 'description': 'l...</td>\n",
       "      <td>0.85</td>\n",
       "      <td>{'1h': 0.37}</td>\n",
       "    </tr>\n",
       "  </tbody>\n",
       "</table>\n",
       "</div>"
      ],
      "text/plain": [
       "           dt   temp  feels_like  pressure  humidity  dew_point   uvi  clouds  \\\n",
       "0  1632355200  29.21       35.80      1014        82      25.82  1.06      87   \n",
       "1  1632358800  29.35       36.35      1014        83      26.16  3.02      96   \n",
       "2  1632362400  29.31       35.86      1014        81      25.71  5.71      96   \n",
       "3  1632366000  29.35       35.49      1014        79      25.33  8.24      96   \n",
       "4  1632369600  29.46       35.33      1014        77      25.00  9.61      95   \n",
       "\n",
       "   visibility  wind_speed  wind_deg  wind_gust  \\\n",
       "0       10000        5.82        88       7.20   \n",
       "1       10000        6.09        87       7.39   \n",
       "2       10000        6.24        86       7.35   \n",
       "3       10000        6.44        85       7.47   \n",
       "4       10000        6.53        89       7.71   \n",
       "\n",
       "                                             weather   pop          rain  \n",
       "0  [{'id': 500, 'main': 'Rain', 'description': 'l...  0.65  {'1h': 0.63}  \n",
       "1  [{'id': 500, 'main': 'Rain', 'description': 'l...  0.69  {'1h': 0.56}  \n",
       "2  [{'id': 500, 'main': 'Rain', 'description': 'l...  0.69  {'1h': 0.15}  \n",
       "3  [{'id': 804, 'main': 'Clouds', 'description': ...  0.73           NaN  \n",
       "4  [{'id': 500, 'main': 'Rain', 'description': 'l...  0.85  {'1h': 0.37}  "
      ]
     },
     "execution_count": 10,
     "metadata": {},
     "output_type": "execute_result"
    }
   ],
   "source": [
    "df_hourly.head()"
   ]
  },
  {
   "cell_type": "code",
   "execution_count": null,
   "metadata": {},
   "outputs": [],
   "source": []
  }
 ],
 "metadata": {
  "interpreter": {
   "hash": "c1b4cfe941b6d2466ad1fb5979e97da9cda8801728c8091b097ab734208fc00c"
  },
  "kernelspec": {
   "display_name": "Python 3.8.3 64-bit ('base': conda)",
   "name": "python3"
  },
  "language_info": {
   "codemirror_mode": {
    "name": "ipython",
    "version": 3
   },
   "file_extension": ".py",
   "mimetype": "text/x-python",
   "name": "python",
   "nbconvert_exporter": "python",
   "pygments_lexer": "ipython3",
   "version": "3.8.11"
  }
 },
 "nbformat": 4,
 "nbformat_minor": 2
}
