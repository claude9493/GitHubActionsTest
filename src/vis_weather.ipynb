{
 "cells": [
  {
   "cell_type": "code",
   "execution_count": 1,
   "metadata": {
    "execution": {
     "iopub.execute_input": "2021-09-28T01:57:01.003386Z",
     "iopub.status.busy": "2021-09-28T01:57:01.002718Z",
     "iopub.status.idle": "2021-09-28T01:57:04.377991Z",
     "shell.execute_reply": "2021-09-28T01:57:04.376835Z"
    }
   },
   "outputs": [],
   "source": [
    "import json, yaml, requests\r\n",
    "from datetime import datetime\r\n",
    "from dateutil import tz\r\n",
    "import pandas as pd\r\n",
    "from PIL import Image\r\n",
    "from io import BytesIO\r\n",
    "import matplotlib.pyplot as plt\r\n",
    "import seaborn\r\n",
    "\r\n",
    "CONFIG_PATH = \"../config/config.yaml\""
   ]
  },
  {
   "cell_type": "code",
   "execution_count": 2,
   "metadata": {
    "execution": {
     "iopub.execute_input": "2021-09-28T01:57:04.386791Z",
     "iopub.status.busy": "2021-09-28T01:57:04.386236Z",
     "iopub.status.idle": "2021-09-28T01:57:04.390357Z",
     "shell.execute_reply": "2021-09-28T01:57:04.389908Z"
    }
   },
   "outputs": [],
   "source": [
    "with open('../newest_ts', 'r') as f:\r\n",
    "    newest_ts = f.read()\r\n",
    "\r\n",
    "data_path = f\"../data/data_{newest_ts}.json\"\r\n",
    "with open(data_path, 'r') as f:\r\n",
    "    data = json.load(f)\r\n",
    "\r\n",
    "with open(CONFIG_PATH, \"r\") as stream:\r\n",
    "    config = yaml.safe_load(stream)\r\n",
    "\r\n",
    "TIME_ZONE = config['time_zone']\r\n",
    "DATETIME_FORMAT = config['dt_format']"
   ]
  },
  {
   "cell_type": "code",
   "execution_count": 3,
   "metadata": {
    "execution": {
     "iopub.execute_input": "2021-09-28T01:57:04.395192Z",
     "iopub.status.busy": "2021-09-28T01:57:04.394648Z",
     "iopub.status.idle": "2021-09-28T01:57:04.405916Z",
     "shell.execute_reply": "2021-09-28T01:57:04.406343Z"
    }
   },
   "outputs": [
    {
     "name": "stdout",
     "output_type": "stream",
     "text": [
      "Recent query happens at 2021-09-28 09:56:57 (CST).\n"
     ]
    }
   ],
   "source": [
    "def ts2dt(ts, format=DATETIME_FORMAT):\r\n",
    "    dt = (datetime.utcfromtimestamp(int(ts))\r\n",
    "                    .replace(tzinfo=tz.tzutc())\r\n",
    "                    # .astimezone(tz.tzlocal())\r\n",
    "                    .astimezone(tz.gettz(TIME_ZONE)))\r\n",
    "    return dt.strftime(format), dt\r\n",
    "\r\n",
    "_, newest_dt = ts2dt(newest_ts)\r\n",
    "print(f\"Recent query happens at {newest_dt.strftime(DATETIME_FORMAT)} ({newest_dt.tzname()}).\")"
   ]
  },
  {
   "cell_type": "code",
   "execution_count": 4,
   "metadata": {
    "execution": {
     "iopub.execute_input": "2021-09-28T01:57:04.412418Z",
     "iopub.status.busy": "2021-09-28T01:57:04.411468Z",
     "iopub.status.idle": "2021-09-28T01:57:04.413909Z",
     "shell.execute_reply": "2021-09-28T01:57:04.413443Z"
    }
   },
   "outputs": [],
   "source": [
    "def degrees_to_cardinal(d):\r\n",
    "  dirs = ['N', 'NNE', 'NE', 'ENE', 'E', 'ESE', 'SE', 'SSE', 'S', 'SSW', 'SW', 'WSW', 'W', 'WNW', 'NW', 'NNW']\r\n",
    "  ix = int(round(d / (360. / len(dirs))))\r\n",
    "  return dirs[ix % len(dirs)]"
   ]
  },
  {
   "cell_type": "code",
   "execution_count": 5,
   "metadata": {
    "execution": {
     "iopub.execute_input": "2021-09-28T01:57:04.418516Z",
     "iopub.status.busy": "2021-09-28T01:57:04.417260Z",
     "iopub.status.idle": "2021-09-28T01:57:04.419118Z",
     "shell.execute_reply": "2021-09-28T01:57:04.419546Z"
    }
   },
   "outputs": [],
   "source": [
    "# data.keys()"
   ]
  },
  {
   "cell_type": "code",
   "execution_count": 6,
   "metadata": {
    "execution": {
     "iopub.execute_input": "2021-09-28T01:57:04.423955Z",
     "iopub.status.busy": "2021-09-28T01:57:04.422767Z",
     "iopub.status.idle": "2021-09-28T01:57:04.424558Z",
     "shell.execute_reply": "2021-09-28T01:57:04.424985Z"
    }
   },
   "outputs": [],
   "source": [
    "# data['current']"
   ]
  },
  {
   "cell_type": "code",
   "execution_count": 7,
   "metadata": {
    "execution": {
     "iopub.execute_input": "2021-09-28T01:57:04.444466Z",
     "iopub.status.busy": "2021-09-28T01:57:04.443909Z",
     "iopub.status.idle": "2021-09-28T01:57:04.864399Z",
     "shell.execute_reply": "2021-09-28T01:57:04.863923Z"
    }
   },
   "outputs": [
    {
     "data": {
      "image/png": "[encoded data removed]",
      "text/plain": [
       "<Figure size 216x216 with 1 Axes>"
      ]
     },
     "metadata": {
      "needs_background": "light"
     },
     "output_type": "display_data"
    },
    {
     "name": "stdout",
     "output_type": "stream",
     "text": [
      "Today, sun rises at 06:13 and sets at 18:13.\n",
      "Currently, the weather is Clear (clear sky).\n",
      "The temperature is 30.32°C and it feels like 35.83°C.\n",
      "The UV index is 5.7, humidity is 70%.\n",
      "The pressure is 1011 hPa, percentage of cloud cover is 5%\n",
      "The wind comes from E direction with a speed 2.64 m/s.\n"
     ]
    }
   ],
   "source": [
    "current = data['current']\r\n",
    "\r\n",
    "fig, ax = plt.subplots(figsize=(3, 3))\r\n",
    "icon = requests.get(f\"http://openweathermap.org/img/wn/{current['weather'][0]['icon']}@2x.png\")\r\n",
    "im = Image.open(BytesIO(icon.content))\r\n",
    "plt.imshow(im)\r\n",
    "ax.set_axis_off()\r\n",
    "plt.show()\r\n",
    "\r\n",
    "print(f\"Today, sun rises at {ts2dt(current['sunrise'], '%H:%M')[0]} \\\r\n",
    "and sets at {ts2dt(current['sunset'], '%H:%M')[0]}.\\n\\\r\n",
    "Currently, the weather is {current['weather'][0]['main']} ({current['weather'][0]['description']}).\\n\\\r\n",
    "The temperature is {current['temp']}°C and it feels like {current['feels_like']}°C.\\n\\\r\n",
    "The UV index is {current['uvi']}, humidity is {current['humidity']}%.\\n\\\r\n",
    "The pressure is {current['pressure']} hPa, percentage of cloud cover is {current['clouds']}%\\n\\\r\n",
    "The wind comes from {degrees_to_cardinal(current['wind_deg'])} direction with a speed {current['wind_speed']} m/s.\")"
   ]
  },
  {
   "cell_type": "code",
   "execution_count": 8,
   "metadata": {
    "execution": {
     "iopub.execute_input": "2021-09-28T01:57:04.869827Z",
     "iopub.status.busy": "2021-09-28T01:57:04.869287Z",
     "iopub.status.idle": "2021-09-28T01:57:04.875001Z",
     "shell.execute_reply": "2021-09-28T01:57:04.874575Z"
    }
   },
   "outputs": [],
   "source": [
    "df_hourly = pd.DataFrame(data['hourly'])\r\n",
    "df_daily = pd.DataFrame(data['daily'])"
   ]
  },
  {
   "cell_type": "code",
   "execution_count": 9,
   "metadata": {
    "execution": {
     "iopub.execute_input": "2021-09-28T01:57:04.881815Z",
     "iopub.status.busy": "2021-09-28T01:57:04.877391Z",
     "iopub.status.idle": "2021-09-28T01:57:05.154629Z",
     "shell.execute_reply": "2021-09-28T01:57:05.153859Z"
    }
   },
   "outputs": [
    {
     "data": {
      "image/png": "[encoded data removed]",
      "text/plain": [
       "<Figure size 864x432 with 1 Axes>"
      ]
     },
     "metadata": {
      "needs_background": "light"
     },
     "output_type": "display_data"
    }
   ],
   "source": [
    "fig, ax = plt.subplots(figsize=(12, 6))\r\n",
    "plt.plot(df_hourly.temp, '.-', label='Temperature')\r\n",
    "plt.plot(df_hourly.feels_like, '.-', label='Feels Like')\r\n",
    "ax.set(title='Temperature in future 48 hours', xlabel='Time', ylabel='Temperature')\r\n",
    "ax.set_xticks(list(range(0, len(df_hourly), 2)))\r\n",
    "ax.set_xticklabels([ts2dt(ts, '%m-%d %H:%M')[0] for i, ts in enumerate(df_hourly.dt) if i%2==0], \r\n",
    "                   rotation=45, ha=\"right\")\r\n",
    "ax.locator_params(nbins=15, axis='y')\r\n",
    "plt.legend()\r\n",
    "plt.show()"
   ]
  },
  {
   "cell_type": "code",
   "execution_count": 10,
   "metadata": {
    "execution": {
     "iopub.execute_input": "2021-09-28T01:57:05.166486Z",
     "iopub.status.busy": "2021-09-28T01:57:05.158766Z",
     "iopub.status.idle": "2021-09-28T01:57:05.178573Z",
     "shell.execute_reply": "2021-09-28T01:57:05.178112Z"
    }
   },
   "outputs": [
    {
     "data": {
      "text/html": [
       "<div>\n",
       "<style scoped>\n",
       "    .dataframe tbody tr th:only-of-type {\n",
       "        vertical-align: middle;\n",
       "    }\n",
       "\n",
       "    .dataframe tbody tr th {\n",
       "        vertical-align: top;\n",
       "    }\n",
       "\n",
       "    .dataframe thead th {\n",
       "        text-align: right;\n",
       "    }\n",
       "</style>\n",
       "<table border=\"1\" class=\"dataframe\">\n",
       "  <thead>\n",
       "    <tr style=\"text-align: right;\">\n",
       "      <th></th>\n",
       "      <th>dt</th>\n",
       "      <th>temp</th>\n",
       "      <th>feels_like</th>\n",
       "      <th>pressure</th>\n",
       "      <th>humidity</th>\n",
       "      <th>dew_point</th>\n",
       "      <th>uvi</th>\n",
       "      <th>clouds</th>\n",
       "      <th>visibility</th>\n",
       "      <th>wind_speed</th>\n",
       "      <th>wind_deg</th>\n",
       "      <th>wind_gust</th>\n",
       "      <th>weather</th>\n",
       "      <th>pop</th>\n",
       "      <th>rain</th>\n",
       "    </tr>\n",
       "  </thead>\n",
       "  <tbody>\n",
       "    <tr>\n",
       "      <th>0</th>\n",
       "      <td>1632790800</td>\n",
       "      <td>30.00</td>\n",
       "      <td>35.28</td>\n",
       "      <td>1011</td>\n",
       "      <td>71</td>\n",
       "      <td>24.16</td>\n",
       "      <td>2.99</td>\n",
       "      <td>5</td>\n",
       "      <td>10000</td>\n",
       "      <td>2.32</td>\n",
       "      <td>87</td>\n",
       "      <td>2.21</td>\n",
       "      <td>[{'id': 800, 'main': 'Clear', 'description': '...</td>\n",
       "      <td>0.0</td>\n",
       "      <td>NaN</td>\n",
       "    </tr>\n",
       "    <tr>\n",
       "      <th>1</th>\n",
       "      <td>1632794400</td>\n",
       "      <td>30.32</td>\n",
       "      <td>35.83</td>\n",
       "      <td>1011</td>\n",
       "      <td>70</td>\n",
       "      <td>24.23</td>\n",
       "      <td>5.70</td>\n",
       "      <td>5</td>\n",
       "      <td>10000</td>\n",
       "      <td>2.64</td>\n",
       "      <td>96</td>\n",
       "      <td>2.28</td>\n",
       "      <td>[{'id': 800, 'main': 'Clear', 'description': '...</td>\n",
       "      <td>0.0</td>\n",
       "      <td>NaN</td>\n",
       "    </tr>\n",
       "    <tr>\n",
       "      <th>2</th>\n",
       "      <td>1632798000</td>\n",
       "      <td>30.20</td>\n",
       "      <td>35.28</td>\n",
       "      <td>1011</td>\n",
       "      <td>69</td>\n",
       "      <td>23.88</td>\n",
       "      <td>8.28</td>\n",
       "      <td>6</td>\n",
       "      <td>10000</td>\n",
       "      <td>2.95</td>\n",
       "      <td>105</td>\n",
       "      <td>2.47</td>\n",
       "      <td>[{'id': 800, 'main': 'Clear', 'description': '...</td>\n",
       "      <td>0.0</td>\n",
       "      <td>NaN</td>\n",
       "    </tr>\n",
       "    <tr>\n",
       "      <th>3</th>\n",
       "      <td>1632801600</td>\n",
       "      <td>30.16</td>\n",
       "      <td>34.94</td>\n",
       "      <td>1011</td>\n",
       "      <td>68</td>\n",
       "      <td>23.60</td>\n",
       "      <td>9.47</td>\n",
       "      <td>8</td>\n",
       "      <td>10000</td>\n",
       "      <td>3.07</td>\n",
       "      <td>113</td>\n",
       "      <td>2.69</td>\n",
       "      <td>[{'id': 800, 'main': 'Clear', 'description': '...</td>\n",
       "      <td>0.0</td>\n",
       "      <td>NaN</td>\n",
       "    </tr>\n",
       "    <tr>\n",
       "      <th>4</th>\n",
       "      <td>1632805200</td>\n",
       "      <td>30.04</td>\n",
       "      <td>34.66</td>\n",
       "      <td>1010</td>\n",
       "      <td>68</td>\n",
       "      <td>23.48</td>\n",
       "      <td>9.30</td>\n",
       "      <td>14</td>\n",
       "      <td>10000</td>\n",
       "      <td>2.99</td>\n",
       "      <td>120</td>\n",
       "      <td>2.59</td>\n",
       "      <td>[{'id': 801, 'main': 'Clouds', 'description': ...</td>\n",
       "      <td>0.0</td>\n",
       "      <td>NaN</td>\n",
       "    </tr>\n",
       "  </tbody>\n",
       "</table>\n",
       "</div>"
      ],
      "text/plain": [
       "           dt   temp  feels_like  pressure  humidity  dew_point   uvi  clouds  \\\n",
       "0  1632790800  30.00       35.28      1011        71      24.16  2.99       5   \n",
       "1  1632794400  30.32       35.83      1011        70      24.23  5.70       5   \n",
       "2  1632798000  30.20       35.28      1011        69      23.88  8.28       6   \n",
       "3  1632801600  30.16       34.94      1011        68      23.60  9.47       8   \n",
       "4  1632805200  30.04       34.66      1010        68      23.48  9.30      14   \n",
       "\n",
       "   visibility  wind_speed  wind_deg  wind_gust  \\\n",
       "0       10000        2.32        87       2.21   \n",
       "1       10000        2.64        96       2.28   \n",
       "2       10000        2.95       105       2.47   \n",
       "3       10000        3.07       113       2.69   \n",
       "4       10000        2.99       120       2.59   \n",
       "\n",
       "                                             weather  pop rain  \n",
       "0  [{'id': 800, 'main': 'Clear', 'description': '...  0.0  NaN  \n",
       "1  [{'id': 800, 'main': 'Clear', 'description': '...  0.0  NaN  \n",
       "2  [{'id': 800, 'main': 'Clear', 'description': '...  0.0  NaN  \n",
       "3  [{'id': 800, 'main': 'Clear', 'description': '...  0.0  NaN  \n",
       "4  [{'id': 801, 'main': 'Clouds', 'description': ...  0.0  NaN  "
      ]
     },
     "execution_count": 10,
     "metadata": {},
     "output_type": "execute_result"
    }
   ],
   "source": [
    "df_hourly.head()"
   ]
  },
  {
   "cell_type": "code",
   "execution_count": null,
   "metadata": {},
   "outputs": [],
   "source": []
  }
 ],
 "metadata": {
  "interpreter": {
   "hash": "c1b4cfe941b6d2466ad1fb5979e97da9cda8801728c8091b097ab734208fc00c"
  },
  "kernelspec": {
   "display_name": "Python 3.8.3 64-bit ('base': conda)",
   "name": "python3"
  },
  "language_info": {
   "codemirror_mode": {
    "name": "ipython",
    "version": 3
   },
   "file_extension": ".py",
   "mimetype": "text/x-python",
   "name": "python",
   "nbconvert_exporter": "python",
   "pygments_lexer": "ipython3",
   "version": "3.8.12"
  }
 },
 "nbformat": 4,
 "nbformat_minor": 2
}
