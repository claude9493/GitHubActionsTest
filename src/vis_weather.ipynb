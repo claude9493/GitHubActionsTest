{
 "cells": [
  {
   "cell_type": "code",
   "execution_count": 1,
   "metadata": {
    "execution": {
     "iopub.execute_input": "2021-09-13T04:14:42.188142Z",
     "iopub.status.busy": "2021-09-13T04:14:42.187322Z",
     "iopub.status.idle": "2021-09-13T04:14:45.523917Z",
     "shell.execute_reply": "2021-09-13T04:14:45.524347Z"
    }
   },
   "outputs": [],
   "source": [
    "import json, yaml, requests\r\n",
    "from datetime import datetime\r\n",
    "from dateutil import tz\r\n",
    "import pandas as pd\r\n",
    "from PIL import Image\r\n",
    "from io import BytesIO\r\n",
    "import matplotlib.pyplot as plt\r\n",
    "import seaborn\r\n",
    "\r\n",
    "CONFIG_PATH = \"../config/config.yaml\""
   ]
  },
  {
   "cell_type": "code",
   "execution_count": 2,
   "metadata": {
    "execution": {
     "iopub.execute_input": "2021-09-13T04:14:45.533277Z",
     "iopub.status.busy": "2021-09-13T04:14:45.529675Z",
     "iopub.status.idle": "2021-09-13T04:14:45.536063Z",
     "shell.execute_reply": "2021-09-13T04:14:45.536667Z"
    }
   },
   "outputs": [],
   "source": [
    "with open('../newest_ts', 'r') as f:\r\n",
    "    newest_ts = f.read()\r\n",
    "\r\n",
    "data_path = f\"../data/data_{newest_ts}.json\"\r\n",
    "with open(data_path, 'r') as f:\r\n",
    "    data = json.load(f)\r\n",
    "\r\n",
    "with open(CONFIG_PATH, \"r\") as stream:\r\n",
    "    config = yaml.safe_load(stream)\r\n",
    "\r\n",
    "TIME_ZONE = config['time_zone']\r\n",
    "DATETIME_FORMAT = config['dt_format']"
   ]
  },
  {
   "cell_type": "code",
   "execution_count": 3,
   "metadata": {
    "execution": {
     "iopub.execute_input": "2021-09-13T04:14:45.541704Z",
     "iopub.status.busy": "2021-09-13T04:14:45.541149Z",
     "iopub.status.idle": "2021-09-13T04:14:45.553908Z",
     "shell.execute_reply": "2021-09-13T04:14:45.554348Z"
    }
   },
   "outputs": [
    {
     "name": "stdout",
     "output_type": "stream",
     "text": [
      "Recent query happens at 2021-09-13 12:14:38 (CST).\n"
     ]
    }
   ],
   "source": [
    "def ts2dt(ts, format=DATETIME_FORMAT):\r\n",
    "    dt = (datetime.utcfromtimestamp(int(ts))\r\n",
    "                    .replace(tzinfo=tz.tzutc())\r\n",
    "                    # .astimezone(tz.tzlocal())\r\n",
    "                    .astimezone(tz.gettz(TIME_ZONE)))\r\n",
    "    return dt.strftime(format), dt\r\n",
    "\r\n",
    "_, newest_dt = ts2dt(newest_ts)\r\n",
    "print(f\"Recent query happens at {newest_dt.strftime(DATETIME_FORMAT)} ({newest_dt.tzname()}).\")"
   ]
  },
  {
   "cell_type": "code",
   "execution_count": 4,
   "metadata": {
    "execution": {
     "iopub.execute_input": "2021-09-13T04:14:45.560697Z",
     "iopub.status.busy": "2021-09-13T04:14:45.559264Z",
     "iopub.status.idle": "2021-09-13T04:14:45.561299Z",
     "shell.execute_reply": "2021-09-13T04:14:45.561765Z"
    }
   },
   "outputs": [],
   "source": [
    "def degrees_to_cardinal(d):\r\n",
    "  dirs = ['N', 'NNE', 'NE', 'ENE', 'E', 'ESE', 'SE', 'SSE', 'S', 'SSW', 'SW', 'WSW', 'W', 'WNW', 'NW', 'NNW']\r\n",
    "  ix = int(round(d / (360. / len(dirs))))\r\n",
    "  return dirs[ix % len(dirs)]"
   ]
  },
  {
   "cell_type": "code",
   "execution_count": 5,
   "metadata": {
    "execution": {
     "iopub.execute_input": "2021-09-13T04:14:45.565556Z",
     "iopub.status.busy": "2021-09-13T04:14:45.563962Z",
     "iopub.status.idle": "2021-09-13T04:14:45.567447Z",
     "shell.execute_reply": "2021-09-13T04:14:45.567927Z"
    }
   },
   "outputs": [],
   "source": [
    "# data.keys()"
   ]
  },
  {
   "cell_type": "code",
   "execution_count": 6,
   "metadata": {
    "execution": {
     "iopub.execute_input": "2021-09-13T04:14:45.572541Z",
     "iopub.status.busy": "2021-09-13T04:14:45.571182Z",
     "iopub.status.idle": "2021-09-13T04:14:45.573236Z",
     "shell.execute_reply": "2021-09-13T04:14:45.573727Z"
    }
   },
   "outputs": [],
   "source": [
    "# data['current']"
   ]
  },
  {
   "cell_type": "code",
   "execution_count": 7,
   "metadata": {
    "execution": {
     "iopub.execute_input": "2021-09-13T04:14:45.593759Z",
     "iopub.status.busy": "2021-09-13T04:14:45.585862Z",
     "iopub.status.idle": "2021-09-13T04:14:46.041060Z",
     "shell.execute_reply": "2021-09-13T04:14:46.041825Z"
    }
   },
   "outputs": [
    {
     "data": {
      "image/png": "[encoded data removed]",
      "text/plain": [
       "<Figure size 216x216 with 1 Axes>"
      ]
     },
     "metadata": {
      "needs_background": "light"
     },
     "output_type": "display_data"
    },
    {
     "name": "stdout",
     "output_type": "stream",
     "text": [
      "Today, sun rises at 06:09 and sets at 18:29.\n",
      "Currently, the weather is Clear (clear sky).\n",
      "The temperature is 31.92°C and it feels like 38.92°C.\n",
      "The UV index is 10.97, humidity is 69%.\n",
      "The pressure is 1007 hPa, percentage of cloud cover is 4%\n",
      "The wind comes from SW direction with a speed 3.6 m/s.\n"
     ]
    }
   ],
   "source": [
    "current = data['current']\r\n",
    "\r\n",
    "fig, ax = plt.subplots(figsize=(3, 3))\r\n",
    "icon = requests.get(f\"http://openweathermap.org/img/wn/{current['weather'][0]['icon']}@2x.png\")\r\n",
    "im = Image.open(BytesIO(icon.content))\r\n",
    "plt.imshow(im)\r\n",
    "ax.set_axis_off()\r\n",
    "plt.show()\r\n",
    "\r\n",
    "print(f\"Today, sun rises at {ts2dt(current['sunrise'], '%H:%M')[0]} \\\r\n",
    "and sets at {ts2dt(current['sunset'], '%H:%M')[0]}.\\n\\\r\n",
    "Currently, the weather is {current['weather'][0]['main']} ({current['weather'][0]['description']}).\\n\\\r\n",
    "The temperature is {current['temp']}°C and it feels like {current['feels_like']}°C.\\n\\\r\n",
    "The UV index is {current['uvi']}, humidity is {current['humidity']}%.\\n\\\r\n",
    "The pressure is {current['pressure']} hPa, percentage of cloud cover is {current['clouds']}%\\n\\\r\n",
    "The wind comes from {degrees_to_cardinal(current['wind_deg'])} direction with a speed {current['wind_speed']} m/s.\")"
   ]
  },
  {
   "cell_type": "code",
   "execution_count": 8,
   "metadata": {
    "execution": {
     "iopub.execute_input": "2021-09-13T04:14:46.045408Z",
     "iopub.status.busy": "2021-09-13T04:14:46.044347Z",
     "iopub.status.idle": "2021-09-13T04:14:46.052430Z",
     "shell.execute_reply": "2021-09-13T04:14:46.053263Z"
    }
   },
   "outputs": [],
   "source": [
    "df_hourly = pd.DataFrame(data['hourly'])\r\n",
    "df_daily = pd.DataFrame(data['daily'])"
   ]
  },
  {
   "cell_type": "code",
   "execution_count": 9,
   "metadata": {
    "execution": {
     "iopub.execute_input": "2021-09-13T04:14:46.056918Z",
     "iopub.status.busy": "2021-09-13T04:14:46.055809Z",
     "iopub.status.idle": "2021-09-13T04:14:46.390261Z",
     "shell.execute_reply": "2021-09-13T04:14:46.389136Z"
    }
   },
   "outputs": [
    {
     "data": {
      "image/png": "[encoded data removed]",
      "text/plain": [
       "<Figure size 864x432 with 1 Axes>"
      ]
     },
     "metadata": {
      "needs_background": "light"
     },
     "output_type": "display_data"
    }
   ],
   "source": [
    "fig, ax = plt.subplots(figsize=(12, 6))\r\n",
    "plt.plot(df_hourly.temp, '.-', label='Temperature')\r\n",
    "plt.plot(df_hourly.feels_like, '.-', label='Feels Like')\r\n",
    "ax.set(title='Temperature in future 48 hours', xlabel='Time', ylabel='Temperature')\r\n",
    "ax.set_xticks(list(range(0, len(df_hourly), 2)))\r\n",
    "ax.set_xticklabels([ts2dt(ts, '%m-%d %H:%M')[0] for i, ts in enumerate(df_hourly.dt) if i%2==0], \r\n",
    "                   rotation=45, ha=\"right\")\r\n",
    "ax.locator_params(nbins=15, axis='y')\r\n",
    "plt.legend()\r\n",
    "plt.show()"
   ]
  },
  {
   "cell_type": "code",
   "execution_count": 10,
   "metadata": {
    "execution": {
     "iopub.execute_input": "2021-09-13T04:14:46.395710Z",
     "iopub.status.busy": "2021-09-13T04:14:46.394834Z",
     "iopub.status.idle": "2021-09-13T04:14:46.418353Z",
     "shell.execute_reply": "2021-09-13T04:14:46.417906Z"
    }
   },
   "outputs": [
    {
     "data": {
      "text/html": [
       "<div>\n",
       "<style scoped>\n",
       "    .dataframe tbody tr th:only-of-type {\n",
       "        vertical-align: middle;\n",
       "    }\n",
       "\n",
       "    .dataframe tbody tr th {\n",
       "        vertical-align: top;\n",
       "    }\n",
       "\n",
       "    .dataframe thead th {\n",
       "        text-align: right;\n",
       "    }\n",
       "</style>\n",
       "<table border=\"1\" class=\"dataframe\">\n",
       "  <thead>\n",
       "    <tr style=\"text-align: right;\">\n",
       "      <th></th>\n",
       "      <th>dt</th>\n",
       "      <th>temp</th>\n",
       "      <th>feels_like</th>\n",
       "      <th>pressure</th>\n",
       "      <th>humidity</th>\n",
       "      <th>dew_point</th>\n",
       "      <th>uvi</th>\n",
       "      <th>clouds</th>\n",
       "      <th>visibility</th>\n",
       "      <th>wind_speed</th>\n",
       "      <th>wind_deg</th>\n",
       "      <th>wind_gust</th>\n",
       "      <th>weather</th>\n",
       "      <th>pop</th>\n",
       "      <th>rain</th>\n",
       "    </tr>\n",
       "  </thead>\n",
       "  <tbody>\n",
       "    <tr>\n",
       "      <th>0</th>\n",
       "      <td>1631505600</td>\n",
       "      <td>31.92</td>\n",
       "      <td>38.92</td>\n",
       "      <td>1007</td>\n",
       "      <td>69</td>\n",
       "      <td>25.52</td>\n",
       "      <td>10.97</td>\n",
       "      <td>4</td>\n",
       "      <td>10000</td>\n",
       "      <td>3.60</td>\n",
       "      <td>225</td>\n",
       "      <td>3.43</td>\n",
       "      <td>[{'id': 500, 'main': 'Rain', 'description': 'l...</td>\n",
       "      <td>0.96</td>\n",
       "      <td>{'1h': 0.54}</td>\n",
       "    </tr>\n",
       "    <tr>\n",
       "      <th>1</th>\n",
       "      <td>1631509200</td>\n",
       "      <td>31.80</td>\n",
       "      <td>38.80</td>\n",
       "      <td>1007</td>\n",
       "      <td>68</td>\n",
       "      <td>25.16</td>\n",
       "      <td>10.77</td>\n",
       "      <td>5</td>\n",
       "      <td>10000</td>\n",
       "      <td>3.52</td>\n",
       "      <td>216</td>\n",
       "      <td>3.10</td>\n",
       "      <td>[{'id': 500, 'main': 'Rain', 'description': 'l...</td>\n",
       "      <td>0.96</td>\n",
       "      <td>{'1h': 0.27}</td>\n",
       "    </tr>\n",
       "    <tr>\n",
       "      <th>2</th>\n",
       "      <td>1631512800</td>\n",
       "      <td>31.67</td>\n",
       "      <td>38.67</td>\n",
       "      <td>1007</td>\n",
       "      <td>68</td>\n",
       "      <td>25.04</td>\n",
       "      <td>8.87</td>\n",
       "      <td>6</td>\n",
       "      <td>10000</td>\n",
       "      <td>3.92</td>\n",
       "      <td>207</td>\n",
       "      <td>3.20</td>\n",
       "      <td>[{'id': 800, 'main': 'Clear', 'description': '...</td>\n",
       "      <td>0.76</td>\n",
       "      <td>NaN</td>\n",
       "    </tr>\n",
       "    <tr>\n",
       "      <th>3</th>\n",
       "      <td>1631516400</td>\n",
       "      <td>31.37</td>\n",
       "      <td>38.37</td>\n",
       "      <td>1006</td>\n",
       "      <td>70</td>\n",
       "      <td>25.24</td>\n",
       "      <td>5.97</td>\n",
       "      <td>17</td>\n",
       "      <td>10000</td>\n",
       "      <td>3.93</td>\n",
       "      <td>203</td>\n",
       "      <td>3.21</td>\n",
       "      <td>[{'id': 500, 'main': 'Rain', 'description': 'l...</td>\n",
       "      <td>0.36</td>\n",
       "      <td>{'1h': 0.17}</td>\n",
       "    </tr>\n",
       "    <tr>\n",
       "      <th>4</th>\n",
       "      <td>1631520000</td>\n",
       "      <td>31.11</td>\n",
       "      <td>38.11</td>\n",
       "      <td>1006</td>\n",
       "      <td>71</td>\n",
       "      <td>25.23</td>\n",
       "      <td>3.04</td>\n",
       "      <td>37</td>\n",
       "      <td>10000</td>\n",
       "      <td>3.92</td>\n",
       "      <td>195</td>\n",
       "      <td>3.26</td>\n",
       "      <td>[{'id': 802, 'main': 'Clouds', 'description': ...</td>\n",
       "      <td>0.16</td>\n",
       "      <td>NaN</td>\n",
       "    </tr>\n",
       "  </tbody>\n",
       "</table>\n",
       "</div>"
      ],
      "text/plain": [
       "           dt   temp  feels_like  pressure  humidity  dew_point    uvi  \\\n",
       "0  1631505600  31.92       38.92      1007        69      25.52  10.97   \n",
       "1  1631509200  31.80       38.80      1007        68      25.16  10.77   \n",
       "2  1631512800  31.67       38.67      1007        68      25.04   8.87   \n",
       "3  1631516400  31.37       38.37      1006        70      25.24   5.97   \n",
       "4  1631520000  31.11       38.11      1006        71      25.23   3.04   \n",
       "\n",
       "   clouds  visibility  wind_speed  wind_deg  wind_gust  \\\n",
       "0       4       10000        3.60       225       3.43   \n",
       "1       5       10000        3.52       216       3.10   \n",
       "2       6       10000        3.92       207       3.20   \n",
       "3      17       10000        3.93       203       3.21   \n",
       "4      37       10000        3.92       195       3.26   \n",
       "\n",
       "                                             weather   pop          rain  \n",
       "0  [{'id': 500, 'main': 'Rain', 'description': 'l...  0.96  {'1h': 0.54}  \n",
       "1  [{'id': 500, 'main': 'Rain', 'description': 'l...  0.96  {'1h': 0.27}  \n",
       "2  [{'id': 800, 'main': 'Clear', 'description': '...  0.76           NaN  \n",
       "3  [{'id': 500, 'main': 'Rain', 'description': 'l...  0.36  {'1h': 0.17}  \n",
       "4  [{'id': 802, 'main': 'Clouds', 'description': ...  0.16           NaN  "
      ]
     },
     "execution_count": 10,
     "metadata": {},
     "output_type": "execute_result"
    }
   ],
   "source": [
    "df_hourly.head()"
   ]
  },
  {
   "cell_type": "code",
   "execution_count": null,
   "metadata": {},
   "outputs": [],
   "source": []
  }
 ],
 "metadata": {
  "interpreter": {
   "hash": "c1b4cfe941b6d2466ad1fb5979e97da9cda8801728c8091b097ab734208fc00c"
  },
  "kernelspec": {
   "display_name": "Python 3.8.3 64-bit ('base': conda)",
   "name": "python3"
  },
  "language_info": {
   "codemirror_mode": {
    "name": "ipython",
    "version": 3
   },
   "file_extension": ".py",
   "mimetype": "text/x-python",
   "name": "python",
   "nbconvert_exporter": "python",
   "pygments_lexer": "ipython3",
   "version": "3.8.11"
  }
 },
 "nbformat": 4,
 "nbformat_minor": 2
}
