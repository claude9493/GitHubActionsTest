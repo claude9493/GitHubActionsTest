{
 "cells": [
  {
   "cell_type": "code",
   "execution_count": 1,
   "metadata": {
    "execution": {
     "iopub.execute_input": "2021-10-04T02:02:44.016604Z",
     "iopub.status.busy": "2021-10-04T02:02:44.009787Z",
     "iopub.status.idle": "2021-10-04T02:02:45.548011Z",
     "shell.execute_reply": "2021-10-04T02:02:45.546878Z"
    }
   },
   "outputs": [],
   "source": [
    "import json, yaml, requests\r\n",
    "from datetime import datetime\r\n",
    "from dateutil import tz\r\n",
    "import pandas as pd\r\n",
    "from PIL import Image\r\n",
    "from io import BytesIO\r\n",
    "import matplotlib.pyplot as plt\r\n",
    "import seaborn\r\n",
    "\r\n",
    "CONFIG_PATH = \"../config/config.yaml\""
   ]
  },
  {
   "cell_type": "code",
   "execution_count": 2,
   "metadata": {
    "execution": {
     "iopub.execute_input": "2021-10-04T02:02:45.555413Z",
     "iopub.status.busy": "2021-10-04T02:02:45.554074Z",
     "iopub.status.idle": "2021-10-04T02:02:45.560169Z",
     "shell.execute_reply": "2021-10-04T02:02:45.560630Z"
    }
   },
   "outputs": [],
   "source": [
    "with open('../newest_ts', 'r') as f:\r\n",
    "    newest_ts = f.read()\r\n",
    "\r\n",
    "data_path = f\"../data/data_{newest_ts}.json\"\r\n",
    "with open(data_path, 'r') as f:\r\n",
    "    data = json.load(f)\r\n",
    "\r\n",
    "with open(CONFIG_PATH, \"r\") as stream:\r\n",
    "    config = yaml.safe_load(stream)\r\n",
    "\r\n",
    "TIME_ZONE = config['time_zone']\r\n",
    "DATETIME_FORMAT = config['dt_format']"
   ]
  },
  {
   "cell_type": "code",
   "execution_count": 3,
   "metadata": {
    "execution": {
     "iopub.execute_input": "2021-10-04T02:02:45.566370Z",
     "iopub.status.busy": "2021-10-04T02:02:45.565596Z",
     "iopub.status.idle": "2021-10-04T02:02:45.571532Z",
     "shell.execute_reply": "2021-10-04T02:02:45.572039Z"
    }
   },
   "outputs": [
    {
     "name": "stdout",
     "output_type": "stream",
     "text": [
      "Recent query happens at 2021-10-04 10:02:40 (CST).\n"
     ]
    }
   ],
   "source": [
    "def ts2dt(ts, format=DATETIME_FORMAT):\r\n",
    "    dt = (datetime.utcfromtimestamp(int(ts))\r\n",
    "                    .replace(tzinfo=tz.tzutc())\r\n",
    "                    # .astimezone(tz.tzlocal())\r\n",
    "                    .astimezone(tz.gettz(TIME_ZONE)))\r\n",
    "    return dt.strftime(format), dt\r\n",
    "\r\n",
    "_, newest_dt = ts2dt(newest_ts)\r\n",
    "print(f\"Recent query happens at {newest_dt.strftime(DATETIME_FORMAT)} ({newest_dt.tzname()}).\")"
   ]
  },
  {
   "cell_type": "code",
   "execution_count": 4,
   "metadata": {
    "execution": {
     "iopub.execute_input": "2021-10-04T02:02:45.577757Z",
     "iopub.status.busy": "2021-10-04T02:02:45.574265Z",
     "iopub.status.idle": "2021-10-04T02:02:45.580846Z",
     "shell.execute_reply": "2021-10-04T02:02:45.581295Z"
    }
   },
   "outputs": [],
   "source": [
    "def degrees_to_cardinal(d):\r\n",
    "  dirs = ['N', 'NNE', 'NE', 'ENE', 'E', 'ESE', 'SE', 'SSE', 'S', 'SSW', 'SW', 'WSW', 'W', 'WNW', 'NW', 'NNW']\r\n",
    "  ix = int(round(d / (360. / len(dirs))))\r\n",
    "  return dirs[ix % len(dirs)]"
   ]
  },
  {
   "cell_type": "code",
   "execution_count": 5,
   "metadata": {
    "execution": {
     "iopub.execute_input": "2021-10-04T02:02:45.586914Z",
     "iopub.status.busy": "2021-10-04T02:02:45.585352Z",
     "iopub.status.idle": "2021-10-04T02:02:45.587611Z",
     "shell.execute_reply": "2021-10-04T02:02:45.588104Z"
    }
   },
   "outputs": [],
   "source": [
    "# data.keys()"
   ]
  },
  {
   "cell_type": "code",
   "execution_count": 6,
   "metadata": {
    "execution": {
     "iopub.execute_input": "2021-10-04T02:02:45.594853Z",
     "iopub.status.busy": "2021-10-04T02:02:45.593244Z",
     "iopub.status.idle": "2021-10-04T02:02:45.595490Z",
     "shell.execute_reply": "2021-10-04T02:02:45.595973Z"
    }
   },
   "outputs": [],
   "source": [
    "# data['current']"
   ]
  },
  {
   "cell_type": "code",
   "execution_count": 7,
   "metadata": {
    "execution": {
     "iopub.execute_input": "2021-10-04T02:02:45.619603Z",
     "iopub.status.busy": "2021-10-04T02:02:45.618849Z",
     "iopub.status.idle": "2021-10-04T02:02:46.039619Z",
     "shell.execute_reply": "2021-10-04T02:02:46.040128Z"
    }
   },
   "outputs": [
    {
     "data": {
      "image/png": "[encoded data removed]",
      "text/plain": [
       "<Figure size 216x216 with 1 Axes>"
      ]
     },
     "metadata": {
      "needs_background": "light"
     },
     "output_type": "display_data"
    },
    {
     "name": "stdout",
     "output_type": "stream",
     "text": [
      "Today, sun rises at 06:15 and sets at 18:08.\n",
      "Currently, the weather is Clouds (broken clouds).\n",
      "The temperature is 29°C and it feels like 34.96°C.\n",
      "The UV index is 5.32, humidity is 81%.\n",
      "The pressure is 1014 hPa, percentage of cloud cover is 56%\n",
      "The wind comes from ENE direction with a speed 7.41 m/s.\n"
     ]
    }
   ],
   "source": [
    "current = data['current']\r\n",
    "\r\n",
    "fig, ax = plt.subplots(figsize=(3, 3))\r\n",
    "icon = requests.get(f\"http://openweathermap.org/img/wn/{current['weather'][0]['icon']}@2x.png\")\r\n",
    "im = Image.open(BytesIO(icon.content))\r\n",
    "plt.imshow(im)\r\n",
    "ax.set_axis_off()\r\n",
    "plt.show()\r\n",
    "\r\n",
    "print(f\"Today, sun rises at {ts2dt(current['sunrise'], '%H:%M')[0]} \\\r\n",
    "and sets at {ts2dt(current['sunset'], '%H:%M')[0]}.\\n\\\r\n",
    "Currently, the weather is {current['weather'][0]['main']} ({current['weather'][0]['description']}).\\n\\\r\n",
    "The temperature is {current['temp']}°C and it feels like {current['feels_like']}°C.\\n\\\r\n",
    "The UV index is {current['uvi']}, humidity is {current['humidity']}%.\\n\\\r\n",
    "The pressure is {current['pressure']} hPa, percentage of cloud cover is {current['clouds']}%\\n\\\r\n",
    "The wind comes from {degrees_to_cardinal(current['wind_deg'])} direction with a speed {current['wind_speed']} m/s.\")"
   ]
  },
  {
   "cell_type": "code",
   "execution_count": 8,
   "metadata": {
    "execution": {
     "iopub.execute_input": "2021-10-04T02:02:46.043264Z",
     "iopub.status.busy": "2021-10-04T02:02:46.042638Z",
     "iopub.status.idle": "2021-10-04T02:02:46.050674Z",
     "shell.execute_reply": "2021-10-04T02:02:46.051353Z"
    }
   },
   "outputs": [],
   "source": [
    "df_hourly = pd.DataFrame(data['hourly'])\r\n",
    "df_daily = pd.DataFrame(data['daily'])"
   ]
  },
  {
   "cell_type": "code",
   "execution_count": 9,
   "metadata": {
    "execution": {
     "iopub.execute_input": "2021-10-04T02:02:46.054688Z",
     "iopub.status.busy": "2021-10-04T02:02:46.053901Z",
     "iopub.status.idle": "2021-10-04T02:02:46.421965Z",
     "shell.execute_reply": "2021-10-04T02:02:46.422464Z"
    }
   },
   "outputs": [
    {
     "data": {
      "image/png": "[encoded data removed]",
      "text/plain": [
       "<Figure size 864x432 with 1 Axes>"
      ]
     },
     "metadata": {
      "needs_background": "light"
     },
     "output_type": "display_data"
    }
   ],
   "source": [
    "fig, ax = plt.subplots(figsize=(12, 6))\r\n",
    "plt.plot(df_hourly.temp, '.-', label='Temperature')\r\n",
    "plt.plot(df_hourly.feels_like, '.-', label='Feels Like')\r\n",
    "ax.set(title='Temperature in future 48 hours', xlabel='Time', ylabel='Temperature')\r\n",
    "ax.set_xticks(list(range(0, len(df_hourly), 2)))\r\n",
    "ax.set_xticklabels([ts2dt(ts, '%m-%d %H:%M')[0] for i, ts in enumerate(df_hourly.dt) if i%2==0], \r\n",
    "                   rotation=45, ha=\"right\")\r\n",
    "ax.locator_params(nbins=15, axis='y')\r\n",
    "plt.legend()\r\n",
    "plt.show()"
   ]
  },
  {
   "cell_type": "code",
   "execution_count": 10,
   "metadata": {
    "execution": {
     "iopub.execute_input": "2021-10-04T02:02:46.428010Z",
     "iopub.status.busy": "2021-10-04T02:02:46.425121Z",
     "iopub.status.idle": "2021-10-04T02:02:46.450916Z",
     "shell.execute_reply": "2021-10-04T02:02:46.451434Z"
    }
   },
   "outputs": [
    {
     "data": {
      "text/html": [
       "<div>\n",
       "<style scoped>\n",
       "    .dataframe tbody tr th:only-of-type {\n",
       "        vertical-align: middle;\n",
       "    }\n",
       "\n",
       "    .dataframe tbody tr th {\n",
       "        vertical-align: top;\n",
       "    }\n",
       "\n",
       "    .dataframe thead th {\n",
       "        text-align: right;\n",
       "    }\n",
       "</style>\n",
       "<table border=\"1\" class=\"dataframe\">\n",
       "  <thead>\n",
       "    <tr style=\"text-align: right;\">\n",
       "      <th></th>\n",
       "      <th>dt</th>\n",
       "      <th>temp</th>\n",
       "      <th>feels_like</th>\n",
       "      <th>pressure</th>\n",
       "      <th>humidity</th>\n",
       "      <th>dew_point</th>\n",
       "      <th>uvi</th>\n",
       "      <th>clouds</th>\n",
       "      <th>visibility</th>\n",
       "      <th>wind_speed</th>\n",
       "      <th>wind_deg</th>\n",
       "      <th>wind_gust</th>\n",
       "      <th>weather</th>\n",
       "      <th>pop</th>\n",
       "    </tr>\n",
       "  </thead>\n",
       "  <tbody>\n",
       "    <tr>\n",
       "      <th>0</th>\n",
       "      <td>1633312800</td>\n",
       "      <td>29.00</td>\n",
       "      <td>34.96</td>\n",
       "      <td>1014</td>\n",
       "      <td>81</td>\n",
       "      <td>25.41</td>\n",
       "      <td>5.32</td>\n",
       "      <td>56</td>\n",
       "      <td>10000</td>\n",
       "      <td>7.41</td>\n",
       "      <td>72</td>\n",
       "      <td>8.57</td>\n",
       "      <td>[{'id': 803, 'main': 'Clouds', 'description': ...</td>\n",
       "      <td>0.0</td>\n",
       "    </tr>\n",
       "    <tr>\n",
       "      <th>1</th>\n",
       "      <td>1633316400</td>\n",
       "      <td>28.96</td>\n",
       "      <td>34.21</td>\n",
       "      <td>1014</td>\n",
       "      <td>78</td>\n",
       "      <td>24.73</td>\n",
       "      <td>7.78</td>\n",
       "      <td>54</td>\n",
       "      <td>10000</td>\n",
       "      <td>7.45</td>\n",
       "      <td>72</td>\n",
       "      <td>8.33</td>\n",
       "      <td>[{'id': 803, 'main': 'Clouds', 'description': ...</td>\n",
       "      <td>0.0</td>\n",
       "    </tr>\n",
       "    <tr>\n",
       "      <th>2</th>\n",
       "      <td>1633320000</td>\n",
       "      <td>29.00</td>\n",
       "      <td>33.49</td>\n",
       "      <td>1014</td>\n",
       "      <td>74</td>\n",
       "      <td>23.89</td>\n",
       "      <td>9.25</td>\n",
       "      <td>49</td>\n",
       "      <td>10000</td>\n",
       "      <td>7.27</td>\n",
       "      <td>74</td>\n",
       "      <td>8.13</td>\n",
       "      <td>[{'id': 802, 'main': 'Clouds', 'description': ...</td>\n",
       "      <td>0.0</td>\n",
       "    </tr>\n",
       "    <tr>\n",
       "      <th>3</th>\n",
       "      <td>1633323600</td>\n",
       "      <td>29.12</td>\n",
       "      <td>33.19</td>\n",
       "      <td>1013</td>\n",
       "      <td>71</td>\n",
       "      <td>23.32</td>\n",
       "      <td>9.09</td>\n",
       "      <td>41</td>\n",
       "      <td>10000</td>\n",
       "      <td>6.88</td>\n",
       "      <td>77</td>\n",
       "      <td>7.96</td>\n",
       "      <td>[{'id': 802, 'main': 'Clouds', 'description': ...</td>\n",
       "      <td>0.0</td>\n",
       "    </tr>\n",
       "    <tr>\n",
       "      <th>4</th>\n",
       "      <td>1633327200</td>\n",
       "      <td>29.28</td>\n",
       "      <td>32.76</td>\n",
       "      <td>1012</td>\n",
       "      <td>67</td>\n",
       "      <td>22.52</td>\n",
       "      <td>7.38</td>\n",
       "      <td>32</td>\n",
       "      <td>10000</td>\n",
       "      <td>6.69</td>\n",
       "      <td>79</td>\n",
       "      <td>7.83</td>\n",
       "      <td>[{'id': 802, 'main': 'Clouds', 'description': ...</td>\n",
       "      <td>0.0</td>\n",
       "    </tr>\n",
       "  </tbody>\n",
       "</table>\n",
       "</div>"
      ],
      "text/plain": [
       "           dt   temp  feels_like  pressure  humidity  dew_point   uvi  clouds  \\\n",
       "0  1633312800  29.00       34.96      1014        81      25.41  5.32      56   \n",
       "1  1633316400  28.96       34.21      1014        78      24.73  7.78      54   \n",
       "2  1633320000  29.00       33.49      1014        74      23.89  9.25      49   \n",
       "3  1633323600  29.12       33.19      1013        71      23.32  9.09      41   \n",
       "4  1633327200  29.28       32.76      1012        67      22.52  7.38      32   \n",
       "\n",
       "   visibility  wind_speed  wind_deg  wind_gust  \\\n",
       "0       10000        7.41        72       8.57   \n",
       "1       10000        7.45        72       8.33   \n",
       "2       10000        7.27        74       8.13   \n",
       "3       10000        6.88        77       7.96   \n",
       "4       10000        6.69        79       7.83   \n",
       "\n",
       "                                             weather  pop  \n",
       "0  [{'id': 803, 'main': 'Clouds', 'description': ...  0.0  \n",
       "1  [{'id': 803, 'main': 'Clouds', 'description': ...  0.0  \n",
       "2  [{'id': 802, 'main': 'Clouds', 'description': ...  0.0  \n",
       "3  [{'id': 802, 'main': 'Clouds', 'description': ...  0.0  \n",
       "4  [{'id': 802, 'main': 'Clouds', 'description': ...  0.0  "
      ]
     },
     "execution_count": 10,
     "metadata": {},
     "output_type": "execute_result"
    }
   ],
   "source": [
    "df_hourly.head()"
   ]
  },
  {
   "cell_type": "code",
   "execution_count": null,
   "metadata": {},
   "outputs": [],
   "source": []
  }
 ],
 "metadata": {
  "interpreter": {
   "hash": "c1b4cfe941b6d2466ad1fb5979e97da9cda8801728c8091b097ab734208fc00c"
  },
  "kernelspec": {
   "display_name": "Python 3.8.3 64-bit ('base': conda)",
   "name": "python3"
  },
  "language_info": {
   "codemirror_mode": {
    "name": "ipython",
    "version": 3
   },
   "file_extension": ".py",
   "mimetype": "text/x-python",
   "name": "python",
   "nbconvert_exporter": "python",
   "pygments_lexer": "ipython3",
   "version": "3.8.12"
  }
 },
 "nbformat": 4,
 "nbformat_minor": 2
}
