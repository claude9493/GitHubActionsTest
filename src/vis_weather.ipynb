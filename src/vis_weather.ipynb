{
 "cells": [
  {
   "cell_type": "code",
   "execution_count": 1,
   "metadata": {
    "execution": {
     "iopub.execute_input": "2021-09-05T12:24:07.765932Z",
     "iopub.status.busy": "2021-09-05T12:24:07.764810Z",
     "iopub.status.idle": "2021-09-05T12:24:11.432771Z",
     "shell.execute_reply": "2021-09-05T12:24:11.432081Z"
    }
   },
   "outputs": [],
   "source": [
    "import json, yaml, requests\r\n",
    "from datetime import datetime\r\n",
    "from dateutil import tz\r\n",
    "import pandas as pd\r\n",
    "from PIL import Image\r\n",
    "from io import BytesIO\r\n",
    "import matplotlib.pyplot as plt\r\n",
    "import seaborn\r\n",
    "\r\n",
    "CONFIG_PATH = \"../config/config.yaml\""
   ]
  },
  {
   "cell_type": "code",
   "execution_count": 2,
   "metadata": {
    "execution": {
     "iopub.execute_input": "2021-09-05T12:24:11.439042Z",
     "iopub.status.busy": "2021-09-05T12:24:11.437931Z",
     "iopub.status.idle": "2021-09-05T12:24:11.444574Z",
     "shell.execute_reply": "2021-09-05T12:24:11.443649Z"
    }
   },
   "outputs": [],
   "source": [
    "with open('../newest_ts', 'r') as f:\r\n",
    "    newest_ts = f.read()\r\n",
    "\r\n",
    "data_path = f\"../data/data_{newest_ts}.json\"\r\n",
    "with open(data_path, 'r') as f:\r\n",
    "    data = json.load(f)\r\n",
    "\r\n",
    "with open(CONFIG_PATH, \"r\") as stream:\r\n",
    "    config = yaml.safe_load(stream)\r\n",
    "\r\n",
    "TIME_ZONE = config['time_zone']\r\n",
    "DATETIME_FORMAT = config['dt_format']"
   ]
  },
  {
   "cell_type": "code",
   "execution_count": 3,
   "metadata": {
    "execution": {
     "iopub.execute_input": "2021-09-05T12:24:11.450240Z",
     "iopub.status.busy": "2021-09-05T12:24:11.449636Z",
     "iopub.status.idle": "2021-09-05T12:24:11.464049Z",
     "shell.execute_reply": "2021-09-05T12:24:11.463550Z"
    }
   },
   "outputs": [
    {
     "name": "stdout",
     "output_type": "stream",
     "text": [
      "Recent query happens at 2021-09-05 20:24:04 (CST).\n"
     ]
    }
   ],
   "source": [
    "def ts2dt(ts, format=DATETIME_FORMAT):\r\n",
    "    dt = (datetime.utcfromtimestamp(int(ts))\r\n",
    "                    .replace(tzinfo=tz.tzutc())\r\n",
    "                    # .astimezone(tz.tzlocal())\r\n",
    "                    .astimezone(tz.gettz(TIME_ZONE)))\r\n",
    "    return dt.strftime(format), dt\r\n",
    "\r\n",
    "_, newest_dt = ts2dt(newest_ts)\r\n",
    "print(f\"Recent query happens at {newest_dt.strftime(DATETIME_FORMAT)} ({newest_dt.tzname()}).\")"
   ]
  },
  {
   "cell_type": "code",
   "execution_count": 4,
   "metadata": {
    "execution": {
     "iopub.execute_input": "2021-09-05T12:24:11.469237Z",
     "iopub.status.busy": "2021-09-05T12:24:11.468366Z",
     "iopub.status.idle": "2021-09-05T12:24:11.472872Z",
     "shell.execute_reply": "2021-09-05T12:24:11.473632Z"
    }
   },
   "outputs": [],
   "source": [
    "def degrees_to_cardinal(d):\r\n",
    "  dirs = ['N', 'NNE', 'NE', 'ENE', 'E', 'ESE', 'SE', 'SSE', 'S', 'SSW', 'SW', 'WSW', 'W', 'WNW', 'NW', 'NNW']\r\n",
    "  ix = int(round(d / (360. / len(dirs))))\r\n",
    "  return dirs[ix % len(dirs)]"
   ]
  },
  {
   "cell_type": "code",
   "execution_count": 5,
   "metadata": {
    "execution": {
     "iopub.execute_input": "2021-09-05T12:24:11.479261Z",
     "iopub.status.busy": "2021-09-05T12:24:11.477365Z",
     "iopub.status.idle": "2021-09-05T12:24:11.480158Z",
     "shell.execute_reply": "2021-09-05T12:24:11.480671Z"
    }
   },
   "outputs": [],
   "source": [
    "# data.keys()"
   ]
  },
  {
   "cell_type": "code",
   "execution_count": 6,
   "metadata": {
    "execution": {
     "iopub.execute_input": "2021-09-05T12:24:11.485715Z",
     "iopub.status.busy": "2021-09-05T12:24:11.484889Z",
     "iopub.status.idle": "2021-09-05T12:24:11.487709Z",
     "shell.execute_reply": "2021-09-05T12:24:11.487163Z"
    }
   },
   "outputs": [],
   "source": [
    "# data['current']"
   ]
  },
  {
   "cell_type": "code",
   "execution_count": 7,
   "metadata": {
    "execution": {
     "iopub.execute_input": "2021-09-05T12:24:11.519903Z",
     "iopub.status.busy": "2021-09-05T12:24:11.515220Z",
     "iopub.status.idle": "2021-09-05T12:24:11.940822Z",
     "shell.execute_reply": "2021-09-05T12:24:11.941746Z"
    }
   },
   "outputs": [
    {
     "data": {
      "image/png": "[encoded data removed]",
      "text/plain": [
       "<Figure size 216x216 with 1 Axes>"
      ]
     },
     "metadata": {
      "needs_background": "light"
     },
     "output_type": "display_data"
    },
    {
     "name": "stdout",
     "output_type": "stream",
     "text": [
      "Today, sun rises at 06:06 and sets at 18:36.\n",
      "Currently, the weather is Clouds (broken clouds).\n",
      "The temperature is 29.98°C and it feels like 36.98°C.\n",
      "The UV index is 0, humidity is 78%.\n",
      "The pressure is 1010 hPa, percentage of cloud cover is 65%\n",
      "The wind comes from E direction with a speed 3.08 m/s.\n"
     ]
    }
   ],
   "source": [
    "current = data['current']\r\n",
    "\r\n",
    "fig, ax = plt.subplots(figsize=(3, 3))\r\n",
    "icon = requests.get(f\"http://openweathermap.org/img/wn/{current['weather'][0]['icon']}@2x.png\")\r\n",
    "im = Image.open(BytesIO(icon.content))\r\n",
    "plt.imshow(im)\r\n",
    "ax.set_axis_off()\r\n",
    "plt.show()\r\n",
    "\r\n",
    "print(f\"Today, sun rises at {ts2dt(current['sunrise'], '%H:%M')[0]} \\\r\n",
    "and sets at {ts2dt(current['sunset'], '%H:%M')[0]}.\\n\\\r\n",
    "Currently, the weather is {current['weather'][0]['main']} ({current['weather'][0]['description']}).\\n\\\r\n",
    "The temperature is {current['temp']}°C and it feels like {current['feels_like']}°C.\\n\\\r\n",
    "The UV index is {current['uvi']}, humidity is {current['humidity']}%.\\n\\\r\n",
    "The pressure is {current['pressure']} hPa, percentage of cloud cover is {current['clouds']}%\\n\\\r\n",
    "The wind comes from {degrees_to_cardinal(current['wind_deg'])} direction with a speed {current['wind_speed']} m/s.\")"
   ]
  },
  {
   "cell_type": "code",
   "execution_count": 8,
   "metadata": {
    "execution": {
     "iopub.execute_input": "2021-09-05T12:24:11.945969Z",
     "iopub.status.busy": "2021-09-05T12:24:11.944794Z",
     "iopub.status.idle": "2021-09-05T12:24:11.954100Z",
     "shell.execute_reply": "2021-09-05T12:24:11.954934Z"
    }
   },
   "outputs": [],
   "source": [
    "df_hourly = pd.DataFrame(data['hourly'])\r\n",
    "df_daily = pd.DataFrame(data['daily'])"
   ]
  },
  {
   "cell_type": "code",
   "execution_count": 9,
   "metadata": {
    "execution": {
     "iopub.execute_input": "2021-09-05T12:24:11.958884Z",
     "iopub.status.busy": "2021-09-05T12:24:11.957480Z",
     "iopub.status.idle": "2021-09-05T12:24:12.325080Z",
     "shell.execute_reply": "2021-09-05T12:24:12.324495Z"
    }
   },
   "outputs": [
    {
     "data": {
      "image/png": "[encoded data removed]",
      "text/plain": [
       "<Figure size 864x432 with 1 Axes>"
      ]
     },
     "metadata": {
      "needs_background": "light"
     },
     "output_type": "display_data"
    }
   ],
   "source": [
    "fig, ax = plt.subplots(figsize=(12, 6))\r\n",
    "plt.plot(df_hourly.temp, '.-', label='Temperature')\r\n",
    "plt.plot(df_hourly.feels_like, '.-', label='Feels Like')\r\n",
    "ax.set(title='Temperature in future 48 hours', xlabel='Time', ylabel='Temperature')\r\n",
    "ax.set_xticks(list(range(0, len(df_hourly), 2)))\r\n",
    "ax.set_xticklabels([ts2dt(ts, '%m-%d %H:%M')[0] for i, ts in enumerate(df_hourly.dt) if i%2==0], \r\n",
    "                   rotation=45, ha=\"right\")\r\n",
    "ax.locator_params(nbins=15, axis='y')\r\n",
    "plt.legend()\r\n",
    "plt.show()"
   ]
  },
  {
   "cell_type": "code",
   "execution_count": 10,
   "metadata": {
    "execution": {
     "iopub.execute_input": "2021-09-05T12:24:12.330596Z",
     "iopub.status.busy": "2021-09-05T12:24:12.329348Z",
     "iopub.status.idle": "2021-09-05T12:24:12.352756Z",
     "shell.execute_reply": "2021-09-05T12:24:12.353266Z"
    }
   },
   "outputs": [
    {
     "data": {
      "text/html": [
       "<div>\n",
       "<style scoped>\n",
       "    .dataframe tbody tr th:only-of-type {\n",
       "        vertical-align: middle;\n",
       "    }\n",
       "\n",
       "    .dataframe tbody tr th {\n",
       "        vertical-align: top;\n",
       "    }\n",
       "\n",
       "    .dataframe thead th {\n",
       "        text-align: right;\n",
       "    }\n",
       "</style>\n",
       "<table border=\"1\" class=\"dataframe\">\n",
       "  <thead>\n",
       "    <tr style=\"text-align: right;\">\n",
       "      <th></th>\n",
       "      <th>dt</th>\n",
       "      <th>temp</th>\n",
       "      <th>feels_like</th>\n",
       "      <th>pressure</th>\n",
       "      <th>humidity</th>\n",
       "      <th>dew_point</th>\n",
       "      <th>uvi</th>\n",
       "      <th>clouds</th>\n",
       "      <th>visibility</th>\n",
       "      <th>wind_speed</th>\n",
       "      <th>wind_deg</th>\n",
       "      <th>wind_gust</th>\n",
       "      <th>weather</th>\n",
       "      <th>pop</th>\n",
       "      <th>rain</th>\n",
       "    </tr>\n",
       "  </thead>\n",
       "  <tbody>\n",
       "    <tr>\n",
       "      <th>0</th>\n",
       "      <td>1630843200</td>\n",
       "      <td>29.98</td>\n",
       "      <td>36.98</td>\n",
       "      <td>1010</td>\n",
       "      <td>78</td>\n",
       "      <td>25.72</td>\n",
       "      <td>0.0</td>\n",
       "      <td>65</td>\n",
       "      <td>10000</td>\n",
       "      <td>3.08</td>\n",
       "      <td>97</td>\n",
       "      <td>4.11</td>\n",
       "      <td>[{'id': 803, 'main': 'Clouds', 'description': ...</td>\n",
       "      <td>0.19</td>\n",
       "      <td>NaN</td>\n",
       "    </tr>\n",
       "    <tr>\n",
       "      <th>1</th>\n",
       "      <td>1630846800</td>\n",
       "      <td>29.61</td>\n",
       "      <td>36.24</td>\n",
       "      <td>1010</td>\n",
       "      <td>79</td>\n",
       "      <td>25.58</td>\n",
       "      <td>0.0</td>\n",
       "      <td>58</td>\n",
       "      <td>10000</td>\n",
       "      <td>3.11</td>\n",
       "      <td>96</td>\n",
       "      <td>4.40</td>\n",
       "      <td>[{'id': 803, 'main': 'Clouds', 'description': ...</td>\n",
       "      <td>0.00</td>\n",
       "      <td>NaN</td>\n",
       "    </tr>\n",
       "    <tr>\n",
       "      <th>2</th>\n",
       "      <td>1630850400</td>\n",
       "      <td>29.24</td>\n",
       "      <td>35.42</td>\n",
       "      <td>1010</td>\n",
       "      <td>80</td>\n",
       "      <td>25.43</td>\n",
       "      <td>0.0</td>\n",
       "      <td>61</td>\n",
       "      <td>10000</td>\n",
       "      <td>2.65</td>\n",
       "      <td>102</td>\n",
       "      <td>3.73</td>\n",
       "      <td>[{'id': 803, 'main': 'Clouds', 'description': ...</td>\n",
       "      <td>0.00</td>\n",
       "      <td>NaN</td>\n",
       "    </tr>\n",
       "    <tr>\n",
       "      <th>3</th>\n",
       "      <td>1630854000</td>\n",
       "      <td>28.81</td>\n",
       "      <td>34.42</td>\n",
       "      <td>1011</td>\n",
       "      <td>81</td>\n",
       "      <td>25.22</td>\n",
       "      <td>0.0</td>\n",
       "      <td>50</td>\n",
       "      <td>10000</td>\n",
       "      <td>3.02</td>\n",
       "      <td>98</td>\n",
       "      <td>4.20</td>\n",
       "      <td>[{'id': 802, 'main': 'Clouds', 'description': ...</td>\n",
       "      <td>0.00</td>\n",
       "      <td>NaN</td>\n",
       "    </tr>\n",
       "    <tr>\n",
       "      <th>4</th>\n",
       "      <td>1630857600</td>\n",
       "      <td>28.33</td>\n",
       "      <td>33.29</td>\n",
       "      <td>1011</td>\n",
       "      <td>82</td>\n",
       "      <td>24.96</td>\n",
       "      <td>0.0</td>\n",
       "      <td>39</td>\n",
       "      <td>10000</td>\n",
       "      <td>2.29</td>\n",
       "      <td>102</td>\n",
       "      <td>3.28</td>\n",
       "      <td>[{'id': 802, 'main': 'Clouds', 'description': ...</td>\n",
       "      <td>0.00</td>\n",
       "      <td>NaN</td>\n",
       "    </tr>\n",
       "  </tbody>\n",
       "</table>\n",
       "</div>"
      ],
      "text/plain": [
       "           dt   temp  feels_like  pressure  humidity  dew_point  uvi  clouds  \\\n",
       "0  1630843200  29.98       36.98      1010        78      25.72  0.0      65   \n",
       "1  1630846800  29.61       36.24      1010        79      25.58  0.0      58   \n",
       "2  1630850400  29.24       35.42      1010        80      25.43  0.0      61   \n",
       "3  1630854000  28.81       34.42      1011        81      25.22  0.0      50   \n",
       "4  1630857600  28.33       33.29      1011        82      24.96  0.0      39   \n",
       "\n",
       "   visibility  wind_speed  wind_deg  wind_gust  \\\n",
       "0       10000        3.08        97       4.11   \n",
       "1       10000        3.11        96       4.40   \n",
       "2       10000        2.65       102       3.73   \n",
       "3       10000        3.02        98       4.20   \n",
       "4       10000        2.29       102       3.28   \n",
       "\n",
       "                                             weather   pop rain  \n",
       "0  [{'id': 803, 'main': 'Clouds', 'description': ...  0.19  NaN  \n",
       "1  [{'id': 803, 'main': 'Clouds', 'description': ...  0.00  NaN  \n",
       "2  [{'id': 803, 'main': 'Clouds', 'description': ...  0.00  NaN  \n",
       "3  [{'id': 802, 'main': 'Clouds', 'description': ...  0.00  NaN  \n",
       "4  [{'id': 802, 'main': 'Clouds', 'description': ...  0.00  NaN  "
      ]
     },
     "execution_count": 10,
     "metadata": {},
     "output_type": "execute_result"
    }
   ],
   "source": [
    "df_hourly.head()"
   ]
  },
  {
   "cell_type": "code",
   "execution_count": null,
   "metadata": {},
   "outputs": [],
   "source": []
  }
 ],
 "metadata": {
  "interpreter": {
   "hash": "c1b4cfe941b6d2466ad1fb5979e97da9cda8801728c8091b097ab734208fc00c"
  },
  "kernelspec": {
   "display_name": "Python 3.8.3 64-bit ('base': conda)",
   "name": "python3"
  },
  "language_info": {
   "codemirror_mode": {
    "name": "ipython",
    "version": 3
   },
   "file_extension": ".py",
   "mimetype": "text/x-python",
   "name": "python",
   "nbconvert_exporter": "python",
   "pygments_lexer": "ipython3",
   "version": "3.8.11"
  }
 },
 "nbformat": 4,
 "nbformat_minor": 2
}
