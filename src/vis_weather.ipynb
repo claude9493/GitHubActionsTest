{
 "cells": [
  {
   "cell_type": "code",
   "execution_count": 1,
   "metadata": {
    "execution": {
     "iopub.execute_input": "2021-09-10T11:13:01.394545Z",
     "iopub.status.busy": "2021-09-10T11:13:01.393817Z",
     "iopub.status.idle": "2021-09-10T11:13:04.800770Z",
     "shell.execute_reply": "2021-09-10T11:13:04.800157Z"
    }
   },
   "outputs": [],
   "source": [
    "import json, yaml, requests\r\n",
    "from datetime import datetime\r\n",
    "from dateutil import tz\r\n",
    "import pandas as pd\r\n",
    "from PIL import Image\r\n",
    "from io import BytesIO\r\n",
    "import matplotlib.pyplot as plt\r\n",
    "import seaborn\r\n",
    "\r\n",
    "CONFIG_PATH = \"../config/config.yaml\""
   ]
  },
  {
   "cell_type": "code",
   "execution_count": 2,
   "metadata": {
    "execution": {
     "iopub.execute_input": "2021-09-10T11:13:04.808684Z",
     "iopub.status.busy": "2021-09-10T11:13:04.805462Z",
     "iopub.status.idle": "2021-09-10T11:13:04.811293Z",
     "shell.execute_reply": "2021-09-10T11:13:04.810894Z"
    }
   },
   "outputs": [],
   "source": [
    "with open('../newest_ts', 'r') as f:\r\n",
    "    newest_ts = f.read()\r\n",
    "\r\n",
    "data_path = f\"../data/data_{newest_ts}.json\"\r\n",
    "with open(data_path, 'r') as f:\r\n",
    "    data = json.load(f)\r\n",
    "\r\n",
    "with open(CONFIG_PATH, \"r\") as stream:\r\n",
    "    config = yaml.safe_load(stream)\r\n",
    "\r\n",
    "TIME_ZONE = config['time_zone']\r\n",
    "DATETIME_FORMAT = config['dt_format']"
   ]
  },
  {
   "cell_type": "code",
   "execution_count": 3,
   "metadata": {
    "execution": {
     "iopub.execute_input": "2021-09-10T11:13:04.815969Z",
     "iopub.status.busy": "2021-09-10T11:13:04.815467Z",
     "iopub.status.idle": "2021-09-10T11:13:04.826914Z",
     "shell.execute_reply": "2021-09-10T11:13:04.827295Z"
    }
   },
   "outputs": [
    {
     "name": "stdout",
     "output_type": "stream",
     "text": [
      "Recent query happens at 2021-09-10 19:12:58 (CST).\n"
     ]
    }
   ],
   "source": [
    "def ts2dt(ts, format=DATETIME_FORMAT):\r\n",
    "    dt = (datetime.utcfromtimestamp(int(ts))\r\n",
    "                    .replace(tzinfo=tz.tzutc())\r\n",
    "                    # .astimezone(tz.tzlocal())\r\n",
    "                    .astimezone(tz.gettz(TIME_ZONE)))\r\n",
    "    return dt.strftime(format), dt\r\n",
    "\r\n",
    "_, newest_dt = ts2dt(newest_ts)\r\n",
    "print(f\"Recent query happens at {newest_dt.strftime(DATETIME_FORMAT)} ({newest_dt.tzname()}).\")"
   ]
  },
  {
   "cell_type": "code",
   "execution_count": 4,
   "metadata": {
    "execution": {
     "iopub.execute_input": "2021-09-10T11:13:04.832830Z",
     "iopub.status.busy": "2021-09-10T11:13:04.831728Z",
     "iopub.status.idle": "2021-09-10T11:13:04.833349Z",
     "shell.execute_reply": "2021-09-10T11:13:04.833710Z"
    }
   },
   "outputs": [],
   "source": [
    "def degrees_to_cardinal(d):\r\n",
    "  dirs = ['N', 'NNE', 'NE', 'ENE', 'E', 'ESE', 'SE', 'SSE', 'S', 'SSW', 'SW', 'WSW', 'W', 'WNW', 'NW', 'NNW']\r\n",
    "  ix = int(round(d / (360. / len(dirs))))\r\n",
    "  return dirs[ix % len(dirs)]"
   ]
  },
  {
   "cell_type": "code",
   "execution_count": 5,
   "metadata": {
    "execution": {
     "iopub.execute_input": "2021-09-10T11:13:04.837911Z",
     "iopub.status.busy": "2021-09-10T11:13:04.836827Z",
     "iopub.status.idle": "2021-09-10T11:13:04.838522Z",
     "shell.execute_reply": "2021-09-10T11:13:04.838905Z"
    }
   },
   "outputs": [],
   "source": [
    "# data.keys()"
   ]
  },
  {
   "cell_type": "code",
   "execution_count": 6,
   "metadata": {
    "execution": {
     "iopub.execute_input": "2021-09-10T11:13:04.842905Z",
     "iopub.status.busy": "2021-09-10T11:13:04.841861Z",
     "iopub.status.idle": "2021-09-10T11:13:04.843559Z",
     "shell.execute_reply": "2021-09-10T11:13:04.843940Z"
    }
   },
   "outputs": [],
   "source": [
    "# data['current']"
   ]
  },
  {
   "cell_type": "code",
   "execution_count": 7,
   "metadata": {
    "execution": {
     "iopub.execute_input": "2021-09-10T11:13:04.867656Z",
     "iopub.status.busy": "2021-09-10T11:13:04.865071Z",
     "iopub.status.idle": "2021-09-10T11:13:05.184633Z",
     "shell.execute_reply": "2021-09-10T11:13:05.185331Z"
    }
   },
   "outputs": [
    {
     "data": {
      "image/png": "[encoded data removed]",
      "text/plain": [
       "<Figure size 216x216 with 1 Axes>"
      ]
     },
     "metadata": {
      "needs_background": "light"
     },
     "output_type": "display_data"
    },
    {
     "name": "stdout",
     "output_type": "stream",
     "text": [
      "Today, sun rises at 06:08 and sets at 18:32.\n",
      "Currently, the weather is Clouds (scattered clouds).\n",
      "The temperature is 31.54°C and it feels like 37.48°C.\n",
      "The UV index is 0, humidity is 65%.\n",
      "The pressure is 1006 hPa, percentage of cloud cover is 35%\n",
      "The wind comes from ESE direction with a speed 2.67 m/s.\n"
     ]
    }
   ],
   "source": [
    "current = data['current']\r\n",
    "\r\n",
    "fig, ax = plt.subplots(figsize=(3, 3))\r\n",
    "icon = requests.get(f\"http://openweathermap.org/img/wn/{current['weather'][0]['icon']}@2x.png\")\r\n",
    "im = Image.open(BytesIO(icon.content))\r\n",
    "plt.imshow(im)\r\n",
    "ax.set_axis_off()\r\n",
    "plt.show()\r\n",
    "\r\n",
    "print(f\"Today, sun rises at {ts2dt(current['sunrise'], '%H:%M')[0]} \\\r\n",
    "and sets at {ts2dt(current['sunset'], '%H:%M')[0]}.\\n\\\r\n",
    "Currently, the weather is {current['weather'][0]['main']} ({current['weather'][0]['description']}).\\n\\\r\n",
    "The temperature is {current['temp']}°C and it feels like {current['feels_like']}°C.\\n\\\r\n",
    "The UV index is {current['uvi']}, humidity is {current['humidity']}%.\\n\\\r\n",
    "The pressure is {current['pressure']} hPa, percentage of cloud cover is {current['clouds']}%\\n\\\r\n",
    "The wind comes from {degrees_to_cardinal(current['wind_deg'])} direction with a speed {current['wind_speed']} m/s.\")"
   ]
  },
  {
   "cell_type": "code",
   "execution_count": 8,
   "metadata": {
    "execution": {
     "iopub.execute_input": "2021-09-10T11:13:05.191176Z",
     "iopub.status.busy": "2021-09-10T11:13:05.190573Z",
     "iopub.status.idle": "2021-09-10T11:13:05.195394Z",
     "shell.execute_reply": "2021-09-10T11:13:05.196012Z"
    }
   },
   "outputs": [],
   "source": [
    "df_hourly = pd.DataFrame(data['hourly'])\r\n",
    "df_daily = pd.DataFrame(data['daily'])"
   ]
  },
  {
   "cell_type": "code",
   "execution_count": 9,
   "metadata": {
    "execution": {
     "iopub.execute_input": "2021-09-10T11:13:05.210500Z",
     "iopub.status.busy": "2021-09-10T11:13:05.198324Z",
     "iopub.status.idle": "2021-09-10T11:13:05.458602Z",
     "shell.execute_reply": "2021-09-10T11:13:05.457777Z"
    }
   },
   "outputs": [
    {
     "data": {
      "image/png": "[encoded data removed]",
      "text/plain": [
       "<Figure size 864x432 with 1 Axes>"
      ]
     },
     "metadata": {
      "needs_background": "light"
     },
     "output_type": "display_data"
    }
   ],
   "source": [
    "fig, ax = plt.subplots(figsize=(12, 6))\r\n",
    "plt.plot(df_hourly.temp, '.-', label='Temperature')\r\n",
    "plt.plot(df_hourly.feels_like, '.-', label='Feels Like')\r\n",
    "ax.set(title='Temperature in future 48 hours', xlabel='Time', ylabel='Temperature')\r\n",
    "ax.set_xticks(list(range(0, len(df_hourly), 2)))\r\n",
    "ax.set_xticklabels([ts2dt(ts, '%m-%d %H:%M')[0] for i, ts in enumerate(df_hourly.dt) if i%2==0], \r\n",
    "                   rotation=45, ha=\"right\")\r\n",
    "ax.locator_params(nbins=15, axis='y')\r\n",
    "plt.legend()\r\n",
    "plt.show()"
   ]
  },
  {
   "cell_type": "code",
   "execution_count": 10,
   "metadata": {
    "execution": {
     "iopub.execute_input": "2021-09-10T11:13:05.471676Z",
     "iopub.status.busy": "2021-09-10T11:13:05.462810Z",
     "iopub.status.idle": "2021-09-10T11:13:05.483463Z",
     "shell.execute_reply": "2021-09-10T11:13:05.483016Z"
    }
   },
   "outputs": [
    {
     "data": {
      "text/html": [
       "<div>\n",
       "<style scoped>\n",
       "    .dataframe tbody tr th:only-of-type {\n",
       "        vertical-align: middle;\n",
       "    }\n",
       "\n",
       "    .dataframe tbody tr th {\n",
       "        vertical-align: top;\n",
       "    }\n",
       "\n",
       "    .dataframe thead th {\n",
       "        text-align: right;\n",
       "    }\n",
       "</style>\n",
       "<table border=\"1\" class=\"dataframe\">\n",
       "  <thead>\n",
       "    <tr style=\"text-align: right;\">\n",
       "      <th></th>\n",
       "      <th>dt</th>\n",
       "      <th>temp</th>\n",
       "      <th>feels_like</th>\n",
       "      <th>pressure</th>\n",
       "      <th>humidity</th>\n",
       "      <th>dew_point</th>\n",
       "      <th>uvi</th>\n",
       "      <th>clouds</th>\n",
       "      <th>visibility</th>\n",
       "      <th>wind_speed</th>\n",
       "      <th>wind_deg</th>\n",
       "      <th>wind_gust</th>\n",
       "      <th>weather</th>\n",
       "      <th>pop</th>\n",
       "      <th>rain</th>\n",
       "    </tr>\n",
       "  </thead>\n",
       "  <tbody>\n",
       "    <tr>\n",
       "      <th>0</th>\n",
       "      <td>1631271600</td>\n",
       "      <td>31.54</td>\n",
       "      <td>37.48</td>\n",
       "      <td>1006</td>\n",
       "      <td>65</td>\n",
       "      <td>24.16</td>\n",
       "      <td>0.0</td>\n",
       "      <td>35</td>\n",
       "      <td>10000</td>\n",
       "      <td>2.67</td>\n",
       "      <td>104</td>\n",
       "      <td>3.99</td>\n",
       "      <td>[{'id': 802, 'main': 'Clouds', 'description': ...</td>\n",
       "      <td>0.18</td>\n",
       "      <td>NaN</td>\n",
       "    </tr>\n",
       "    <tr>\n",
       "      <th>1</th>\n",
       "      <td>1631275200</td>\n",
       "      <td>30.88</td>\n",
       "      <td>36.99</td>\n",
       "      <td>1006</td>\n",
       "      <td>69</td>\n",
       "      <td>24.53</td>\n",
       "      <td>0.0</td>\n",
       "      <td>34</td>\n",
       "      <td>10000</td>\n",
       "      <td>2.76</td>\n",
       "      <td>97</td>\n",
       "      <td>3.94</td>\n",
       "      <td>[{'id': 802, 'main': 'Clouds', 'description': ...</td>\n",
       "      <td>0.27</td>\n",
       "      <td>NaN</td>\n",
       "    </tr>\n",
       "    <tr>\n",
       "      <th>2</th>\n",
       "      <td>1631278800</td>\n",
       "      <td>30.22</td>\n",
       "      <td>36.36</td>\n",
       "      <td>1006</td>\n",
       "      <td>73</td>\n",
       "      <td>24.84</td>\n",
       "      <td>0.0</td>\n",
       "      <td>24</td>\n",
       "      <td>10000</td>\n",
       "      <td>2.88</td>\n",
       "      <td>91</td>\n",
       "      <td>4.04</td>\n",
       "      <td>[{'id': 801, 'main': 'Clouds', 'description': ...</td>\n",
       "      <td>0.14</td>\n",
       "      <td>NaN</td>\n",
       "    </tr>\n",
       "    <tr>\n",
       "      <th>3</th>\n",
       "      <td>1631282400</td>\n",
       "      <td>29.43</td>\n",
       "      <td>35.01</td>\n",
       "      <td>1007</td>\n",
       "      <td>76</td>\n",
       "      <td>24.75</td>\n",
       "      <td>0.0</td>\n",
       "      <td>18</td>\n",
       "      <td>10000</td>\n",
       "      <td>2.92</td>\n",
       "      <td>96</td>\n",
       "      <td>3.81</td>\n",
       "      <td>[{'id': 500, 'main': 'Rain', 'description': 'l...</td>\n",
       "      <td>0.55</td>\n",
       "      <td>{'1h': 0.28}</td>\n",
       "    </tr>\n",
       "    <tr>\n",
       "      <th>4</th>\n",
       "      <td>1631286000</td>\n",
       "      <td>28.77</td>\n",
       "      <td>34.11</td>\n",
       "      <td>1008</td>\n",
       "      <td>80</td>\n",
       "      <td>24.97</td>\n",
       "      <td>0.0</td>\n",
       "      <td>12</td>\n",
       "      <td>10000</td>\n",
       "      <td>2.70</td>\n",
       "      <td>103</td>\n",
       "      <td>3.45</td>\n",
       "      <td>[{'id': 500, 'main': 'Rain', 'description': 'l...</td>\n",
       "      <td>0.64</td>\n",
       "      <td>{'1h': 0.27}</td>\n",
       "    </tr>\n",
       "  </tbody>\n",
       "</table>\n",
       "</div>"
      ],
      "text/plain": [
       "           dt   temp  feels_like  pressure  humidity  dew_point  uvi  clouds  \\\n",
       "0  1631271600  31.54       37.48      1006        65      24.16  0.0      35   \n",
       "1  1631275200  30.88       36.99      1006        69      24.53  0.0      34   \n",
       "2  1631278800  30.22       36.36      1006        73      24.84  0.0      24   \n",
       "3  1631282400  29.43       35.01      1007        76      24.75  0.0      18   \n",
       "4  1631286000  28.77       34.11      1008        80      24.97  0.0      12   \n",
       "\n",
       "   visibility  wind_speed  wind_deg  wind_gust  \\\n",
       "0       10000        2.67       104       3.99   \n",
       "1       10000        2.76        97       3.94   \n",
       "2       10000        2.88        91       4.04   \n",
       "3       10000        2.92        96       3.81   \n",
       "4       10000        2.70       103       3.45   \n",
       "\n",
       "                                             weather   pop          rain  \n",
       "0  [{'id': 802, 'main': 'Clouds', 'description': ...  0.18           NaN  \n",
       "1  [{'id': 802, 'main': 'Clouds', 'description': ...  0.27           NaN  \n",
       "2  [{'id': 801, 'main': 'Clouds', 'description': ...  0.14           NaN  \n",
       "3  [{'id': 500, 'main': 'Rain', 'description': 'l...  0.55  {'1h': 0.28}  \n",
       "4  [{'id': 500, 'main': 'Rain', 'description': 'l...  0.64  {'1h': 0.27}  "
      ]
     },
     "execution_count": 10,
     "metadata": {},
     "output_type": "execute_result"
    }
   ],
   "source": [
    "df_hourly.head()"
   ]
  },
  {
   "cell_type": "code",
   "execution_count": null,
   "metadata": {},
   "outputs": [],
   "source": []
  }
 ],
 "metadata": {
  "interpreter": {
   "hash": "c1b4cfe941b6d2466ad1fb5979e97da9cda8801728c8091b097ab734208fc00c"
  },
  "kernelspec": {
   "display_name": "Python 3.8.3 64-bit ('base': conda)",
   "name": "python3"
  },
  "language_info": {
   "codemirror_mode": {
    "name": "ipython",
    "version": 3
   },
   "file_extension": ".py",
   "mimetype": "text/x-python",
   "name": "python",
   "nbconvert_exporter": "python",
   "pygments_lexer": "ipython3",
   "version": "3.8.11"
  }
 },
 "nbformat": 4,
 "nbformat_minor": 2
}
