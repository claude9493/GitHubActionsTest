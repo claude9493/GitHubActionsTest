{
 "cells": [
  {
   "cell_type": "code",
   "execution_count": 1,
   "metadata": {
    "execution": {
     "iopub.execute_input": "2021-09-11T07:14:50.965546Z",
     "iopub.status.busy": "2021-09-11T07:14:50.964790Z",
     "iopub.status.idle": "2021-09-11T07:14:54.513098Z",
     "shell.execute_reply": "2021-09-11T07:14:54.512118Z"
    }
   },
   "outputs": [],
   "source": [
    "import json, yaml, requests\r\n",
    "from datetime import datetime\r\n",
    "from dateutil import tz\r\n",
    "import pandas as pd\r\n",
    "from PIL import Image\r\n",
    "from io import BytesIO\r\n",
    "import matplotlib.pyplot as plt\r\n",
    "import seaborn\r\n",
    "\r\n",
    "CONFIG_PATH = \"../config/config.yaml\""
   ]
  },
  {
   "cell_type": "code",
   "execution_count": 2,
   "metadata": {
    "execution": {
     "iopub.execute_input": "2021-09-11T07:14:54.521549Z",
     "iopub.status.busy": "2021-09-11T07:14:54.518416Z",
     "iopub.status.idle": "2021-09-11T07:14:54.523738Z",
     "shell.execute_reply": "2021-09-11T07:14:54.523219Z"
    }
   },
   "outputs": [],
   "source": [
    "with open('../newest_ts', 'r') as f:\r\n",
    "    newest_ts = f.read()\r\n",
    "\r\n",
    "data_path = f\"../data/data_{newest_ts}.json\"\r\n",
    "with open(data_path, 'r') as f:\r\n",
    "    data = json.load(f)\r\n",
    "\r\n",
    "with open(CONFIG_PATH, \"r\") as stream:\r\n",
    "    config = yaml.safe_load(stream)\r\n",
    "\r\n",
    "TIME_ZONE = config['time_zone']\r\n",
    "DATETIME_FORMAT = config['dt_format']"
   ]
  },
  {
   "cell_type": "code",
   "execution_count": 3,
   "metadata": {
    "execution": {
     "iopub.execute_input": "2021-09-11T07:14:54.528663Z",
     "iopub.status.busy": "2021-09-11T07:14:54.528055Z",
     "iopub.status.idle": "2021-09-11T07:14:54.549552Z",
     "shell.execute_reply": "2021-09-11T07:14:54.549078Z"
    }
   },
   "outputs": [
    {
     "name": "stdout",
     "output_type": "stream",
     "text": [
      "Recent query happens at 2021-09-11 15:14:47 (CST).\n"
     ]
    }
   ],
   "source": [
    "def ts2dt(ts, format=DATETIME_FORMAT):\r\n",
    "    dt = (datetime.utcfromtimestamp(int(ts))\r\n",
    "                    .replace(tzinfo=tz.tzutc())\r\n",
    "                    # .astimezone(tz.tzlocal())\r\n",
    "                    .astimezone(tz.gettz(TIME_ZONE)))\r\n",
    "    return dt.strftime(format), dt\r\n",
    "\r\n",
    "_, newest_dt = ts2dt(newest_ts)\r\n",
    "print(f\"Recent query happens at {newest_dt.strftime(DATETIME_FORMAT)} ({newest_dt.tzname()}).\")"
   ]
  },
  {
   "cell_type": "code",
   "execution_count": 4,
   "metadata": {
    "execution": {
     "iopub.execute_input": "2021-09-11T07:14:54.554108Z",
     "iopub.status.busy": "2021-09-11T07:14:54.551757Z",
     "iopub.status.idle": "2021-09-11T07:14:54.556139Z",
     "shell.execute_reply": "2021-09-11T07:14:54.555696Z"
    }
   },
   "outputs": [],
   "source": [
    "def degrees_to_cardinal(d):\r\n",
    "  dirs = ['N', 'NNE', 'NE', 'ENE', 'E', 'ESE', 'SE', 'SSE', 'S', 'SSW', 'SW', 'WSW', 'W', 'WNW', 'NW', 'NNW']\r\n",
    "  ix = int(round(d / (360. / len(dirs))))\r\n",
    "  return dirs[ix % len(dirs)]"
   ]
  },
  {
   "cell_type": "code",
   "execution_count": 5,
   "metadata": {
    "execution": {
     "iopub.execute_input": "2021-09-11T07:14:54.560617Z",
     "iopub.status.busy": "2021-09-11T07:14:54.559423Z",
     "iopub.status.idle": "2021-09-11T07:14:54.561179Z",
     "shell.execute_reply": "2021-09-11T07:14:54.561576Z"
    }
   },
   "outputs": [],
   "source": [
    "# data.keys()"
   ]
  },
  {
   "cell_type": "code",
   "execution_count": 6,
   "metadata": {
    "execution": {
     "iopub.execute_input": "2021-09-11T07:14:54.565716Z",
     "iopub.status.busy": "2021-09-11T07:14:54.564517Z",
     "iopub.status.idle": "2021-09-11T07:14:54.566321Z",
     "shell.execute_reply": "2021-09-11T07:14:54.566734Z"
    }
   },
   "outputs": [],
   "source": [
    "# data['current']"
   ]
  },
  {
   "cell_type": "code",
   "execution_count": 7,
   "metadata": {
    "execution": {
     "iopub.execute_input": "2021-09-11T07:14:54.585476Z",
     "iopub.status.busy": "2021-09-11T07:14:54.584906Z",
     "iopub.status.idle": "2021-09-11T07:14:55.045918Z",
     "shell.execute_reply": "2021-09-11T07:14:55.046697Z"
    }
   },
   "outputs": [
    {
     "data": {
      "image/png": "[encoded data removed]",
      "text/plain": [
       "<Figure size 216x216 with 1 Axes>"
      ]
     },
     "metadata": {
      "needs_background": "light"
     },
     "output_type": "display_data"
    },
    {
     "name": "stdout",
     "output_type": "stream",
     "text": [
      "Today, sun rises at 06:08 and sets at 18:31.\n",
      "Currently, the weather is Clouds (broken clouds).\n",
      "The temperature is 33.75°C and it feels like 40.75°C.\n",
      "The UV index is 4.37, humidity is 71%.\n",
      "The pressure is 1002 hPa, percentage of cloud cover is 67%\n",
      "The wind comes from WSW direction with a speed 4.06 m/s.\n"
     ]
    }
   ],
   "source": [
    "current = data['current']\r\n",
    "\r\n",
    "fig, ax = plt.subplots(figsize=(3, 3))\r\n",
    "icon = requests.get(f\"http://openweathermap.org/img/wn/{current['weather'][0]['icon']}@2x.png\")\r\n",
    "im = Image.open(BytesIO(icon.content))\r\n",
    "plt.imshow(im)\r\n",
    "ax.set_axis_off()\r\n",
    "plt.show()\r\n",
    "\r\n",
    "print(f\"Today, sun rises at {ts2dt(current['sunrise'], '%H:%M')[0]} \\\r\n",
    "and sets at {ts2dt(current['sunset'], '%H:%M')[0]}.\\n\\\r\n",
    "Currently, the weather is {current['weather'][0]['main']} ({current['weather'][0]['description']}).\\n\\\r\n",
    "The temperature is {current['temp']}°C and it feels like {current['feels_like']}°C.\\n\\\r\n",
    "The UV index is {current['uvi']}, humidity is {current['humidity']}%.\\n\\\r\n",
    "The pressure is {current['pressure']} hPa, percentage of cloud cover is {current['clouds']}%\\n\\\r\n",
    "The wind comes from {degrees_to_cardinal(current['wind_deg'])} direction with a speed {current['wind_speed']} m/s.\")"
   ]
  },
  {
   "cell_type": "code",
   "execution_count": 8,
   "metadata": {
    "execution": {
     "iopub.execute_input": "2021-09-11T07:14:55.050318Z",
     "iopub.status.busy": "2021-09-11T07:14:55.049295Z",
     "iopub.status.idle": "2021-09-11T07:14:55.057051Z",
     "shell.execute_reply": "2021-09-11T07:14:55.057813Z"
    }
   },
   "outputs": [],
   "source": [
    "df_hourly = pd.DataFrame(data['hourly'])\r\n",
    "df_daily = pd.DataFrame(data['daily'])"
   ]
  },
  {
   "cell_type": "code",
   "execution_count": 9,
   "metadata": {
    "execution": {
     "iopub.execute_input": "2021-09-11T07:14:55.061400Z",
     "iopub.status.busy": "2021-09-11T07:14:55.060284Z",
     "iopub.status.idle": "2021-09-11T07:14:55.351976Z",
     "shell.execute_reply": "2021-09-11T07:14:55.351231Z"
    }
   },
   "outputs": [
    {
     "data": {
      "image/png": "[encoded data removed]",
      "text/plain": [
       "<Figure size 864x432 with 1 Axes>"
      ]
     },
     "metadata": {
      "needs_background": "light"
     },
     "output_type": "display_data"
    }
   ],
   "source": [
    "fig, ax = plt.subplots(figsize=(12, 6))\r\n",
    "plt.plot(df_hourly.temp, '.-', label='Temperature')\r\n",
    "plt.plot(df_hourly.feels_like, '.-', label='Feels Like')\r\n",
    "ax.set(title='Temperature in future 48 hours', xlabel='Time', ylabel='Temperature')\r\n",
    "ax.set_xticks(list(range(0, len(df_hourly), 2)))\r\n",
    "ax.set_xticklabels([ts2dt(ts, '%m-%d %H:%M')[0] for i, ts in enumerate(df_hourly.dt) if i%2==0], \r\n",
    "                   rotation=45, ha=\"right\")\r\n",
    "ax.locator_params(nbins=15, axis='y')\r\n",
    "plt.legend()\r\n",
    "plt.show()"
   ]
  },
  {
   "cell_type": "code",
   "execution_count": 10,
   "metadata": {
    "execution": {
     "iopub.execute_input": "2021-09-11T07:14:55.363851Z",
     "iopub.status.busy": "2021-09-11T07:14:55.356171Z",
     "iopub.status.idle": "2021-09-11T07:14:55.375446Z",
     "shell.execute_reply": "2021-09-11T07:14:55.374984Z"
    }
   },
   "outputs": [
    {
     "data": {
      "text/html": [
       "<div>\n",
       "<style scoped>\n",
       "    .dataframe tbody tr th:only-of-type {\n",
       "        vertical-align: middle;\n",
       "    }\n",
       "\n",
       "    .dataframe tbody tr th {\n",
       "        vertical-align: top;\n",
       "    }\n",
       "\n",
       "    .dataframe thead th {\n",
       "        text-align: right;\n",
       "    }\n",
       "</style>\n",
       "<table border=\"1\" class=\"dataframe\">\n",
       "  <thead>\n",
       "    <tr style=\"text-align: right;\">\n",
       "      <th></th>\n",
       "      <th>dt</th>\n",
       "      <th>temp</th>\n",
       "      <th>feels_like</th>\n",
       "      <th>pressure</th>\n",
       "      <th>humidity</th>\n",
       "      <th>dew_point</th>\n",
       "      <th>uvi</th>\n",
       "      <th>clouds</th>\n",
       "      <th>visibility</th>\n",
       "      <th>wind_speed</th>\n",
       "      <th>wind_deg</th>\n",
       "      <th>wind_gust</th>\n",
       "      <th>weather</th>\n",
       "      <th>pop</th>\n",
       "      <th>rain</th>\n",
       "    </tr>\n",
       "  </thead>\n",
       "  <tbody>\n",
       "    <tr>\n",
       "      <th>0</th>\n",
       "      <td>1631343600</td>\n",
       "      <td>33.75</td>\n",
       "      <td>40.75</td>\n",
       "      <td>1002</td>\n",
       "      <td>71</td>\n",
       "      <td>27.75</td>\n",
       "      <td>4.37</td>\n",
       "      <td>67</td>\n",
       "      <td>10000</td>\n",
       "      <td>4.06</td>\n",
       "      <td>247</td>\n",
       "      <td>4.79</td>\n",
       "      <td>[{'id': 803, 'main': 'Clouds', 'description': ...</td>\n",
       "      <td>0.20</td>\n",
       "      <td>NaN</td>\n",
       "    </tr>\n",
       "    <tr>\n",
       "      <th>1</th>\n",
       "      <td>1631347200</td>\n",
       "      <td>33.05</td>\n",
       "      <td>40.05</td>\n",
       "      <td>1002</td>\n",
       "      <td>72</td>\n",
       "      <td>27.32</td>\n",
       "      <td>2.23</td>\n",
       "      <td>69</td>\n",
       "      <td>10000</td>\n",
       "      <td>3.96</td>\n",
       "      <td>255</td>\n",
       "      <td>4.51</td>\n",
       "      <td>[{'id': 803, 'main': 'Clouds', 'description': ...</td>\n",
       "      <td>0.12</td>\n",
       "      <td>NaN</td>\n",
       "    </tr>\n",
       "    <tr>\n",
       "      <th>2</th>\n",
       "      <td>1631350800</td>\n",
       "      <td>32.39</td>\n",
       "      <td>39.39</td>\n",
       "      <td>1002</td>\n",
       "      <td>72</td>\n",
       "      <td>26.69</td>\n",
       "      <td>0.76</td>\n",
       "      <td>65</td>\n",
       "      <td>10000</td>\n",
       "      <td>3.82</td>\n",
       "      <td>253</td>\n",
       "      <td>4.51</td>\n",
       "      <td>[{'id': 803, 'main': 'Clouds', 'description': ...</td>\n",
       "      <td>0.05</td>\n",
       "      <td>NaN</td>\n",
       "    </tr>\n",
       "    <tr>\n",
       "      <th>3</th>\n",
       "      <td>1631354400</td>\n",
       "      <td>31.51</td>\n",
       "      <td>38.51</td>\n",
       "      <td>1002</td>\n",
       "      <td>73</td>\n",
       "      <td>26.08</td>\n",
       "      <td>0.12</td>\n",
       "      <td>56</td>\n",
       "      <td>10000</td>\n",
       "      <td>3.60</td>\n",
       "      <td>235</td>\n",
       "      <td>4.14</td>\n",
       "      <td>[{'id': 803, 'main': 'Clouds', 'description': ...</td>\n",
       "      <td>0.10</td>\n",
       "      <td>NaN</td>\n",
       "    </tr>\n",
       "    <tr>\n",
       "      <th>4</th>\n",
       "      <td>1631358000</td>\n",
       "      <td>30.22</td>\n",
       "      <td>37.19</td>\n",
       "      <td>1002</td>\n",
       "      <td>76</td>\n",
       "      <td>25.52</td>\n",
       "      <td>0.00</td>\n",
       "      <td>46</td>\n",
       "      <td>10000</td>\n",
       "      <td>3.67</td>\n",
       "      <td>244</td>\n",
       "      <td>4.54</td>\n",
       "      <td>[{'id': 802, 'main': 'Clouds', 'description': ...</td>\n",
       "      <td>0.14</td>\n",
       "      <td>NaN</td>\n",
       "    </tr>\n",
       "  </tbody>\n",
       "</table>\n",
       "</div>"
      ],
      "text/plain": [
       "           dt   temp  feels_like  pressure  humidity  dew_point   uvi  clouds  \\\n",
       "0  1631343600  33.75       40.75      1002        71      27.75  4.37      67   \n",
       "1  1631347200  33.05       40.05      1002        72      27.32  2.23      69   \n",
       "2  1631350800  32.39       39.39      1002        72      26.69  0.76      65   \n",
       "3  1631354400  31.51       38.51      1002        73      26.08  0.12      56   \n",
       "4  1631358000  30.22       37.19      1002        76      25.52  0.00      46   \n",
       "\n",
       "   visibility  wind_speed  wind_deg  wind_gust  \\\n",
       "0       10000        4.06       247       4.79   \n",
       "1       10000        3.96       255       4.51   \n",
       "2       10000        3.82       253       4.51   \n",
       "3       10000        3.60       235       4.14   \n",
       "4       10000        3.67       244       4.54   \n",
       "\n",
       "                                             weather   pop rain  \n",
       "0  [{'id': 803, 'main': 'Clouds', 'description': ...  0.20  NaN  \n",
       "1  [{'id': 803, 'main': 'Clouds', 'description': ...  0.12  NaN  \n",
       "2  [{'id': 803, 'main': 'Clouds', 'description': ...  0.05  NaN  \n",
       "3  [{'id': 803, 'main': 'Clouds', 'description': ...  0.10  NaN  \n",
       "4  [{'id': 802, 'main': 'Clouds', 'description': ...  0.14  NaN  "
      ]
     },
     "execution_count": 10,
     "metadata": {},
     "output_type": "execute_result"
    }
   ],
   "source": [
    "df_hourly.head()"
   ]
  },
  {
   "cell_type": "code",
   "execution_count": null,
   "metadata": {},
   "outputs": [],
   "source": []
  }
 ],
 "metadata": {
  "interpreter": {
   "hash": "c1b4cfe941b6d2466ad1fb5979e97da9cda8801728c8091b097ab734208fc00c"
  },
  "kernelspec": {
   "display_name": "Python 3.8.3 64-bit ('base': conda)",
   "name": "python3"
  },
  "language_info": {
   "codemirror_mode": {
    "name": "ipython",
    "version": 3
   },
   "file_extension": ".py",
   "mimetype": "text/x-python",
   "name": "python",
   "nbconvert_exporter": "python",
   "pygments_lexer": "ipython3",
   "version": "3.8.11"
  }
 },
 "nbformat": 4,
 "nbformat_minor": 2
}
