{
 "cells": [
  {
   "cell_type": "code",
   "execution_count": 1,
   "metadata": {
    "execution": {
     "iopub.execute_input": "2021-10-15T22:11:27.157579Z",
     "iopub.status.busy": "2021-10-15T22:11:27.156978Z",
     "iopub.status.idle": "2021-10-15T22:11:28.249037Z",
     "shell.execute_reply": "2021-10-15T22:11:28.248082Z"
    }
   },
   "outputs": [],
   "source": [
    "import json, yaml, requests\r\n",
    "from datetime import datetime\r\n",
    "from dateutil import tz\r\n",
    "import pandas as pd\r\n",
    "from PIL import Image\r\n",
    "from io import BytesIO\r\n",
    "import matplotlib.pyplot as plt\r\n",
    "import seaborn\r\n",
    "\r\n",
    "CONFIG_PATH = \"../config/config.yaml\""
   ]
  },
  {
   "cell_type": "code",
   "execution_count": 2,
   "metadata": {
    "execution": {
     "iopub.execute_input": "2021-10-15T22:11:28.255832Z",
     "iopub.status.busy": "2021-10-15T22:11:28.253072Z",
     "iopub.status.idle": "2021-10-15T22:11:28.257347Z",
     "shell.execute_reply": "2021-10-15T22:11:28.257699Z"
    }
   },
   "outputs": [],
   "source": [
    "with open('../newest_ts', 'r') as f:\r\n",
    "    newest_ts = f.read()\r\n",
    "\r\n",
    "data_path = f\"../data/data_{newest_ts}.json\"\r\n",
    "with open(data_path, 'r') as f:\r\n",
    "    data = json.load(f)\r\n",
    "\r\n",
    "with open(CONFIG_PATH, \"r\") as stream:\r\n",
    "    config = yaml.safe_load(stream)\r\n",
    "\r\n",
    "TIME_ZONE = config['time_zone']\r\n",
    "DATETIME_FORMAT = config['dt_format']"
   ]
  },
  {
   "cell_type": "code",
   "execution_count": 3,
   "metadata": {
    "execution": {
     "iopub.execute_input": "2021-10-15T22:11:28.261708Z",
     "iopub.status.busy": "2021-10-15T22:11:28.261218Z",
     "iopub.status.idle": "2021-10-15T22:11:28.267326Z",
     "shell.execute_reply": "2021-10-15T22:11:28.266922Z"
    }
   },
   "outputs": [
    {
     "name": "stdout",
     "output_type": "stream",
     "text": [
      "Recent query happens at 2021-10-16 06:11:24 (CST).\n"
     ]
    }
   ],
   "source": [
    "def ts2dt(ts, format=DATETIME_FORMAT):\r\n",
    "    dt = (datetime.utcfromtimestamp(int(ts))\r\n",
    "                    .replace(tzinfo=tz.tzutc())\r\n",
    "                    # .astimezone(tz.tzlocal())\r\n",
    "                    .astimezone(tz.gettz(TIME_ZONE)))\r\n",
    "    return dt.strftime(format), dt\r\n",
    "\r\n",
    "_, newest_dt = ts2dt(newest_ts)\r\n",
    "print(f\"Recent query happens at {newest_dt.strftime(DATETIME_FORMAT)} ({newest_dt.tzname()}).\")"
   ]
  },
  {
   "cell_type": "code",
   "execution_count": 4,
   "metadata": {
    "execution": {
     "iopub.execute_input": "2021-10-15T22:11:28.272085Z",
     "iopub.status.busy": "2021-10-15T22:11:28.270926Z",
     "iopub.status.idle": "2021-10-15T22:11:28.272602Z",
     "shell.execute_reply": "2021-10-15T22:11:28.272972Z"
    }
   },
   "outputs": [],
   "source": [
    "def degrees_to_cardinal(d):\r\n",
    "  dirs = ['N', 'NNE', 'NE', 'ENE', 'E', 'ESE', 'SE', 'SSE', 'S', 'SSW', 'SW', 'WSW', 'W', 'WNW', 'NW', 'NNW']\r\n",
    "  ix = int(round(d / (360. / len(dirs))))\r\n",
    "  return dirs[ix % len(dirs)]"
   ]
  },
  {
   "cell_type": "code",
   "execution_count": 5,
   "metadata": {
    "execution": {
     "iopub.execute_input": "2021-10-15T22:11:28.276873Z",
     "iopub.status.busy": "2021-10-15T22:11:28.275698Z",
     "iopub.status.idle": "2021-10-15T22:11:28.277394Z",
     "shell.execute_reply": "2021-10-15T22:11:28.277760Z"
    }
   },
   "outputs": [],
   "source": [
    "# data.keys()"
   ]
  },
  {
   "cell_type": "code",
   "execution_count": 6,
   "metadata": {
    "execution": {
     "iopub.execute_input": "2021-10-15T22:11:28.281344Z",
     "iopub.status.busy": "2021-10-15T22:11:28.280253Z",
     "iopub.status.idle": "2021-10-15T22:11:28.281874Z",
     "shell.execute_reply": "2021-10-15T22:11:28.282237Z"
    }
   },
   "outputs": [],
   "source": [
    "# data['current']"
   ]
  },
  {
   "cell_type": "code",
   "execution_count": 7,
   "metadata": {
    "execution": {
     "iopub.execute_input": "2021-10-15T22:11:28.298115Z",
     "iopub.status.busy": "2021-10-15T22:11:28.287366Z",
     "iopub.status.idle": "2021-10-15T22:11:28.662801Z",
     "shell.execute_reply": "2021-10-15T22:11:28.663425Z"
    }
   },
   "outputs": [
    {
     "data": {
      "image/png": "[encoded data removed]",
      "text/plain": [
       "<Figure size 216x216 with 1 Axes>"
      ]
     },
     "metadata": {
      "needs_background": "light"
     },
     "output_type": "display_data"
    },
    {
     "name": "stdout",
     "output_type": "stream",
     "text": [
      "Today, sun rises at 06:19 and sets at 17:57.\n",
      "Currently, the weather is Clouds (broken clouds).\n",
      "The temperature is 25.58°C and it feels like 26.49°C.\n",
      "The UV index is 0, humidity is 88%.\n",
      "The pressure is 1011 hPa, percentage of cloud cover is 84%\n",
      "The wind comes from NNE direction with a speed 0.45 m/s.\n"
     ]
    }
   ],
   "source": [
    "current = data['current']\r\n",
    "\r\n",
    "fig, ax = plt.subplots(figsize=(3, 3))\r\n",
    "icon = requests.get(f\"http://openweathermap.org/img/wn/{current['weather'][0]['icon']}@2x.png\")\r\n",
    "im = Image.open(BytesIO(icon.content))\r\n",
    "plt.imshow(im)\r\n",
    "ax.set_axis_off()\r\n",
    "plt.show()\r\n",
    "\r\n",
    "print(f\"Today, sun rises at {ts2dt(current['sunrise'], '%H:%M')[0]} \\\r\n",
    "and sets at {ts2dt(current['sunset'], '%H:%M')[0]}.\\n\\\r\n",
    "Currently, the weather is {current['weather'][0]['main']} ({current['weather'][0]['description']}).\\n\\\r\n",
    "The temperature is {current['temp']}°C and it feels like {current['feels_like']}°C.\\n\\\r\n",
    "The UV index is {current['uvi']}, humidity is {current['humidity']}%.\\n\\\r\n",
    "The pressure is {current['pressure']} hPa, percentage of cloud cover is {current['clouds']}%\\n\\\r\n",
    "The wind comes from {degrees_to_cardinal(current['wind_deg'])} direction with a speed {current['wind_speed']} m/s.\")"
   ]
  },
  {
   "cell_type": "code",
   "execution_count": 8,
   "metadata": {
    "execution": {
     "iopub.execute_input": "2021-10-15T22:11:28.666506Z",
     "iopub.status.busy": "2021-10-15T22:11:28.665637Z",
     "iopub.status.idle": "2021-10-15T22:11:28.671940Z",
     "shell.execute_reply": "2021-10-15T22:11:28.672539Z"
    }
   },
   "outputs": [],
   "source": [
    "df_hourly = pd.DataFrame(data['hourly'])\r\n",
    "df_daily = pd.DataFrame(data['daily'])"
   ]
  },
  {
   "cell_type": "code",
   "execution_count": 9,
   "metadata": {
    "execution": {
     "iopub.execute_input": "2021-10-15T22:11:28.675435Z",
     "iopub.status.busy": "2021-10-15T22:11:28.674570Z",
     "iopub.status.idle": "2021-10-15T22:11:28.895886Z",
     "shell.execute_reply": "2021-10-15T22:11:28.895125Z"
    }
   },
   "outputs": [
    {
     "data": {
      "image/png": "[encoded data removed]",
      "text/plain": [
       "<Figure size 864x432 with 1 Axes>"
      ]
     },
     "metadata": {
      "needs_background": "light"
     },
     "output_type": "display_data"
    }
   ],
   "source": [
    "fig, ax = plt.subplots(figsize=(12, 6))\r\n",
    "plt.plot(df_hourly.temp, '.-', label='Temperature')\r\n",
    "plt.plot(df_hourly.feels_like, '.-', label='Feels Like')\r\n",
    "ax.set(title='Temperature in future 48 hours', xlabel='Time', ylabel='Temperature')\r\n",
    "ax.set_xticks(list(range(0, len(df_hourly), 2)))\r\n",
    "ax.set_xticklabels([ts2dt(ts, '%m-%d %H:%M')[0] for i, ts in enumerate(df_hourly.dt) if i%2==0], \r\n",
    "                   rotation=45, ha=\"right\")\r\n",
    "ax.locator_params(nbins=15, axis='y')\r\n",
    "plt.legend()\r\n",
    "plt.show()"
   ]
  },
  {
   "cell_type": "code",
   "execution_count": 10,
   "metadata": {
    "execution": {
     "iopub.execute_input": "2021-10-15T22:11:28.900381Z",
     "iopub.status.busy": "2021-10-15T22:11:28.897932Z",
     "iopub.status.idle": "2021-10-15T22:11:28.916678Z",
     "shell.execute_reply": "2021-10-15T22:11:28.917228Z"
    }
   },
   "outputs": [
    {
     "data": {
      "text/html": [
       "<div>\n",
       "<style scoped>\n",
       "    .dataframe tbody tr th:only-of-type {\n",
       "        vertical-align: middle;\n",
       "    }\n",
       "\n",
       "    .dataframe tbody tr th {\n",
       "        vertical-align: top;\n",
       "    }\n",
       "\n",
       "    .dataframe thead th {\n",
       "        text-align: right;\n",
       "    }\n",
       "</style>\n",
       "<table border=\"1\" class=\"dataframe\">\n",
       "  <thead>\n",
       "    <tr style=\"text-align: right;\">\n",
       "      <th></th>\n",
       "      <th>dt</th>\n",
       "      <th>temp</th>\n",
       "      <th>feels_like</th>\n",
       "      <th>pressure</th>\n",
       "      <th>humidity</th>\n",
       "      <th>dew_point</th>\n",
       "      <th>uvi</th>\n",
       "      <th>clouds</th>\n",
       "      <th>visibility</th>\n",
       "      <th>wind_speed</th>\n",
       "      <th>wind_deg</th>\n",
       "      <th>wind_gust</th>\n",
       "      <th>weather</th>\n",
       "      <th>pop</th>\n",
       "    </tr>\n",
       "  </thead>\n",
       "  <tbody>\n",
       "    <tr>\n",
       "      <th>0</th>\n",
       "      <td>1634335200</td>\n",
       "      <td>25.58</td>\n",
       "      <td>26.49</td>\n",
       "      <td>1011</td>\n",
       "      <td>88</td>\n",
       "      <td>23.44</td>\n",
       "      <td>0.00</td>\n",
       "      <td>84</td>\n",
       "      <td>10000</td>\n",
       "      <td>3.73</td>\n",
       "      <td>359</td>\n",
       "      <td>5.35</td>\n",
       "      <td>[{'id': 803, 'main': 'Clouds', 'description': ...</td>\n",
       "      <td>0.40</td>\n",
       "    </tr>\n",
       "    <tr>\n",
       "      <th>1</th>\n",
       "      <td>1634338800</td>\n",
       "      <td>25.18</td>\n",
       "      <td>26.03</td>\n",
       "      <td>1011</td>\n",
       "      <td>87</td>\n",
       "      <td>22.86</td>\n",
       "      <td>0.00</td>\n",
       "      <td>83</td>\n",
       "      <td>10000</td>\n",
       "      <td>4.02</td>\n",
       "      <td>5</td>\n",
       "      <td>6.63</td>\n",
       "      <td>[{'id': 803, 'main': 'Clouds', 'description': ...</td>\n",
       "      <td>0.40</td>\n",
       "    </tr>\n",
       "    <tr>\n",
       "      <th>2</th>\n",
       "      <td>1634342400</td>\n",
       "      <td>25.00</td>\n",
       "      <td>25.77</td>\n",
       "      <td>1012</td>\n",
       "      <td>85</td>\n",
       "      <td>22.30</td>\n",
       "      <td>0.78</td>\n",
       "      <td>79</td>\n",
       "      <td>10000</td>\n",
       "      <td>4.74</td>\n",
       "      <td>11</td>\n",
       "      <td>7.54</td>\n",
       "      <td>[{'id': 803, 'main': 'Clouds', 'description': ...</td>\n",
       "      <td>0.32</td>\n",
       "    </tr>\n",
       "    <tr>\n",
       "      <th>3</th>\n",
       "      <td>1634346000</td>\n",
       "      <td>24.96</td>\n",
       "      <td>25.65</td>\n",
       "      <td>1013</td>\n",
       "      <td>82</td>\n",
       "      <td>21.67</td>\n",
       "      <td>2.38</td>\n",
       "      <td>64</td>\n",
       "      <td>10000</td>\n",
       "      <td>5.02</td>\n",
       "      <td>6</td>\n",
       "      <td>7.09</td>\n",
       "      <td>[{'id': 803, 'main': 'Clouds', 'description': ...</td>\n",
       "      <td>0.00</td>\n",
       "    </tr>\n",
       "    <tr>\n",
       "      <th>4</th>\n",
       "      <td>1634349600</td>\n",
       "      <td>25.39</td>\n",
       "      <td>26.00</td>\n",
       "      <td>1014</td>\n",
       "      <td>77</td>\n",
       "      <td>21.06</td>\n",
       "      <td>4.75</td>\n",
       "      <td>51</td>\n",
       "      <td>10000</td>\n",
       "      <td>5.84</td>\n",
       "      <td>10</td>\n",
       "      <td>7.70</td>\n",
       "      <td>[{'id': 803, 'main': 'Clouds', 'description': ...</td>\n",
       "      <td>0.00</td>\n",
       "    </tr>\n",
       "  </tbody>\n",
       "</table>\n",
       "</div>"
      ],
      "text/plain": [
       "           dt   temp  feels_like  pressure  humidity  dew_point   uvi  clouds  \\\n",
       "0  1634335200  25.58       26.49      1011        88      23.44  0.00      84   \n",
       "1  1634338800  25.18       26.03      1011        87      22.86  0.00      83   \n",
       "2  1634342400  25.00       25.77      1012        85      22.30  0.78      79   \n",
       "3  1634346000  24.96       25.65      1013        82      21.67  2.38      64   \n",
       "4  1634349600  25.39       26.00      1014        77      21.06  4.75      51   \n",
       "\n",
       "   visibility  wind_speed  wind_deg  wind_gust  \\\n",
       "0       10000        3.73       359       5.35   \n",
       "1       10000        4.02         5       6.63   \n",
       "2       10000        4.74        11       7.54   \n",
       "3       10000        5.02         6       7.09   \n",
       "4       10000        5.84        10       7.70   \n",
       "\n",
       "                                             weather   pop  \n",
       "0  [{'id': 803, 'main': 'Clouds', 'description': ...  0.40  \n",
       "1  [{'id': 803, 'main': 'Clouds', 'description': ...  0.40  \n",
       "2  [{'id': 803, 'main': 'Clouds', 'description': ...  0.32  \n",
       "3  [{'id': 803, 'main': 'Clouds', 'description': ...  0.00  \n",
       "4  [{'id': 803, 'main': 'Clouds', 'description': ...  0.00  "
      ]
     },
     "execution_count": 10,
     "metadata": {},
     "output_type": "execute_result"
    }
   ],
   "source": [
    "df_hourly.head()"
   ]
  },
  {
   "cell_type": "code",
   "execution_count": null,
   "metadata": {},
   "outputs": [],
   "source": []
  }
 ],
 "metadata": {
  "interpreter": {
   "hash": "c1b4cfe941b6d2466ad1fb5979e97da9cda8801728c8091b097ab734208fc00c"
  },
  "kernelspec": {
   "display_name": "Python 3.8.3 64-bit ('base': conda)",
   "name": "python3"
  },
  "language_info": {
   "codemirror_mode": {
    "name": "ipython",
    "version": 3
   },
   "file_extension": ".py",
   "mimetype": "text/x-python",
   "name": "python",
   "nbconvert_exporter": "python",
   "pygments_lexer": "ipython3",
   "version": "3.8.12"
  }
 },
 "nbformat": 4,
 "nbformat_minor": 2
}
