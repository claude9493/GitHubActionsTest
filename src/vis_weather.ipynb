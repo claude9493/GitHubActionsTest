{
 "cells": [
  {
   "cell_type": "code",
   "execution_count": 1,
   "metadata": {
    "execution": {
     "iopub.execute_input": "2021-08-30T02:25:25.304321Z",
     "iopub.status.busy": "2021-08-30T02:25:25.299790Z",
     "iopub.status.idle": "2021-08-30T02:25:29.016195Z",
     "shell.execute_reply": "2021-08-30T02:25:29.016662Z"
    }
   },
   "outputs": [],
   "source": [
    "import json, yaml, requests\r\n",
    "from datetime import datetime\r\n",
    "from dateutil import tz\r\n",
    "import pandas as pd\r\n",
    "from PIL import Image\r\n",
    "from io import BytesIO\r\n",
    "import matplotlib.pyplot as plt\r\n",
    "import seaborn\r\n",
    "\r\n",
    "CONFIG_PATH = \"../config/config.yaml\""
   ]
  },
  {
   "cell_type": "code",
   "execution_count": 2,
   "metadata": {
    "execution": {
     "iopub.execute_input": "2021-08-30T02:25:29.023079Z",
     "iopub.status.busy": "2021-08-30T02:25:29.022296Z",
     "iopub.status.idle": "2021-08-30T02:25:29.028127Z",
     "shell.execute_reply": "2021-08-30T02:25:29.027662Z"
    }
   },
   "outputs": [],
   "source": [
    "with open('../newest_ts', 'r') as f:\r\n",
    "    newest_ts = f.read()\r\n",
    "\r\n",
    "data_path = f\"../data/data_{newest_ts}.json\"\r\n",
    "with open(data_path, 'r') as f:\r\n",
    "    data = json.load(f)\r\n",
    "\r\n",
    "with open(CONFIG_PATH, \"r\") as stream:\r\n",
    "    config = yaml.safe_load(stream)\r\n",
    "\r\n",
    "TIME_ZONE = config['time_zone']\r\n",
    "DATETIME_FORMAT = config['dt_format']"
   ]
  },
  {
   "cell_type": "code",
   "execution_count": 3,
   "metadata": {
    "execution": {
     "iopub.execute_input": "2021-08-30T02:25:29.033298Z",
     "iopub.status.busy": "2021-08-30T02:25:29.032731Z",
     "iopub.status.idle": "2021-08-30T02:25:29.066913Z",
     "shell.execute_reply": "2021-08-30T02:25:29.067433Z"
    }
   },
   "outputs": [
    {
     "name": "stdout",
     "output_type": "stream",
     "text": [
      "Recent query happens at 2021-08-30 10:25:21 (CST).\n"
     ]
    }
   ],
   "source": [
    "def ts2dt(ts, format=DATETIME_FORMAT):\r\n",
    "    dt = (datetime.utcfromtimestamp(int(ts))\r\n",
    "                    .replace(tzinfo=tz.tzutc())\r\n",
    "                    # .astimezone(tz.tzlocal())\r\n",
    "                    .astimezone(tz.gettz(TIME_ZONE)))\r\n",
    "    return dt.strftime(format), dt\r\n",
    "\r\n",
    "_, newest_dt = ts2dt(newest_ts)\r\n",
    "print(f\"Recent query happens at {newest_dt.strftime(DATETIME_FORMAT)} ({newest_dt.tzname()}).\")"
   ]
  },
  {
   "cell_type": "code",
   "execution_count": 4,
   "metadata": {
    "execution": {
     "iopub.execute_input": "2021-08-30T02:25:29.074822Z",
     "iopub.status.busy": "2021-08-30T02:25:29.072738Z",
     "iopub.status.idle": "2021-08-30T02:25:29.075511Z",
     "shell.execute_reply": "2021-08-30T02:25:29.076189Z"
    }
   },
   "outputs": [],
   "source": [
    "def degrees_to_cardinal(d):\r\n",
    "  dirs = ['N', 'NNE', 'NE', 'ENE', 'E', 'ESE', 'SE', 'SSE', 'S', 'SSW', 'SW', 'WSW', 'W', 'WNW', 'NW', 'NNW']\r\n",
    "  ix = int(round(d / (360. / len(dirs))))\r\n",
    "  return dirs[ix % len(dirs)]"
   ]
  },
  {
   "cell_type": "code",
   "execution_count": 5,
   "metadata": {
    "execution": {
     "iopub.execute_input": "2021-08-30T02:25:29.081567Z",
     "iopub.status.busy": "2021-08-30T02:25:29.080031Z",
     "iopub.status.idle": "2021-08-30T02:25:29.082355Z",
     "shell.execute_reply": "2021-08-30T02:25:29.082863Z"
    }
   },
   "outputs": [],
   "source": [
    "# data.keys()"
   ]
  },
  {
   "cell_type": "code",
   "execution_count": 6,
   "metadata": {
    "execution": {
     "iopub.execute_input": "2021-08-30T02:25:29.087919Z",
     "iopub.status.busy": "2021-08-30T02:25:29.086417Z",
     "iopub.status.idle": "2021-08-30T02:25:29.088582Z",
     "shell.execute_reply": "2021-08-30T02:25:29.089029Z"
    }
   },
   "outputs": [],
   "source": [
    "# data['current']"
   ]
  },
  {
   "cell_type": "code",
   "execution_count": 7,
   "metadata": {
    "execution": {
     "iopub.execute_input": "2021-08-30T02:25:29.111598Z",
     "iopub.status.busy": "2021-08-30T02:25:29.095798Z",
     "iopub.status.idle": "2021-08-30T02:25:29.545967Z",
     "shell.execute_reply": "2021-08-30T02:25:29.546770Z"
    }
   },
   "outputs": [
    {
     "data": {
      "image/png": "[encoded data removed]",
      "text/plain": [
       "<Figure size 216x216 with 1 Axes>"
      ]
     },
     "metadata": {
      "needs_background": "light"
     },
     "output_type": "display_data"
    },
    {
     "name": "stdout",
     "output_type": "stream",
     "text": [
      "Today, sun rises at 06:05 and sets at 18:42.\n",
      "Currently, the weather is Clouds (few clouds).\n",
      "The temperature is 31.09°C and it feels like 38.09°C.\n",
      "The UV index is 7.12, humidity is 76%.\n",
      "The pressure is 1013 hPa, percentage of cloud cover is 16%\n",
      "The wind comes from ENE direction with a speed 4.83 m/s.\n"
     ]
    }
   ],
   "source": [
    "current = data['current']\r\n",
    "\r\n",
    "fig, ax = plt.subplots(figsize=(3, 3))\r\n",
    "icon = requests.get(f\"http://openweathermap.org/img/wn/{current['weather'][0]['icon']}@2x.png\")\r\n",
    "im = Image.open(BytesIO(icon.content))\r\n",
    "plt.imshow(im)\r\n",
    "ax.set_axis_off()\r\n",
    "plt.show()\r\n",
    "\r\n",
    "print(f\"Today, sun rises at {ts2dt(current['sunrise'], '%H:%M')[0]} \\\r\n",
    "and sets at {ts2dt(current['sunset'], '%H:%M')[0]}.\\n\\\r\n",
    "Currently, the weather is {current['weather'][0]['main']} ({current['weather'][0]['description']}).\\n\\\r\n",
    "The temperature is {current['temp']}°C and it feels like {current['feels_like']}°C.\\n\\\r\n",
    "The UV index is {current['uvi']}, humidity is {current['humidity']}%.\\n\\\r\n",
    "The pressure is {current['pressure']} hPa, percentage of cloud cover is {current['clouds']}%\\n\\\r\n",
    "The wind comes from {degrees_to_cardinal(current['wind_deg'])} direction with a speed {current['wind_speed']} m/s.\")"
   ]
  },
  {
   "cell_type": "code",
   "execution_count": 8,
   "metadata": {
    "execution": {
     "iopub.execute_input": "2021-08-30T02:25:29.550740Z",
     "iopub.status.busy": "2021-08-30T02:25:29.549524Z",
     "iopub.status.idle": "2021-08-30T02:25:29.557604Z",
     "shell.execute_reply": "2021-08-30T02:25:29.558330Z"
    }
   },
   "outputs": [],
   "source": [
    "df_hourly = pd.DataFrame(data['hourly'])\r\n",
    "df_daily = pd.DataFrame(data['daily'])"
   ]
  },
  {
   "cell_type": "code",
   "execution_count": 9,
   "metadata": {
    "execution": {
     "iopub.execute_input": "2021-08-30T02:25:29.562176Z",
     "iopub.status.busy": "2021-08-30T02:25:29.560845Z",
     "iopub.status.idle": "2021-08-30T02:25:29.900338Z",
     "shell.execute_reply": "2021-08-30T02:25:29.900858Z"
    }
   },
   "outputs": [
    {
     "data": {
      "image/png": "[encoded data removed]",
      "text/plain": [
       "<Figure size 864x432 with 1 Axes>"
      ]
     },
     "metadata": {
      "needs_background": "light"
     },
     "output_type": "display_data"
    }
   ],
   "source": [
    "fig, ax = plt.subplots(figsize=(12, 6))\r\n",
    "plt.plot(df_hourly.temp, '.-', label='Temperature')\r\n",
    "plt.plot(df_hourly.feels_like, '.-', label='Feels Like')\r\n",
    "ax.set(title='Temperature in future 48 hours', xlabel='Time', ylabel='Temperature')\r\n",
    "ax.set_xticks(list(range(0, len(df_hourly), 2)))\r\n",
    "ax.set_xticklabels([ts2dt(ts, '%m-%d %H:%M')[0] for i, ts in enumerate(df_hourly.dt) if i%2==0], \r\n",
    "                   rotation=45, ha=\"right\")\r\n",
    "ax.locator_params(nbins=15, axis='y')\r\n",
    "plt.legend()\r\n",
    "plt.show()"
   ]
  },
  {
   "cell_type": "code",
   "execution_count": 10,
   "metadata": {
    "execution": {
     "iopub.execute_input": "2021-08-30T02:25:29.912046Z",
     "iopub.status.busy": "2021-08-30T02:25:29.911411Z",
     "iopub.status.idle": "2021-08-30T02:25:29.931997Z",
     "shell.execute_reply": "2021-08-30T02:25:29.932524Z"
    }
   },
   "outputs": [
    {
     "data": {
      "text/html": [
       "<div>\n",
       "<style scoped>\n",
       "    .dataframe tbody tr th:only-of-type {\n",
       "        vertical-align: middle;\n",
       "    }\n",
       "\n",
       "    .dataframe tbody tr th {\n",
       "        vertical-align: top;\n",
       "    }\n",
       "\n",
       "    .dataframe thead th {\n",
       "        text-align: right;\n",
       "    }\n",
       "</style>\n",
       "<table border=\"1\" class=\"dataframe\">\n",
       "  <thead>\n",
       "    <tr style=\"text-align: right;\">\n",
       "      <th></th>\n",
       "      <th>dt</th>\n",
       "      <th>temp</th>\n",
       "      <th>feels_like</th>\n",
       "      <th>pressure</th>\n",
       "      <th>humidity</th>\n",
       "      <th>dew_point</th>\n",
       "      <th>uvi</th>\n",
       "      <th>clouds</th>\n",
       "      <th>visibility</th>\n",
       "      <th>wind_speed</th>\n",
       "      <th>wind_deg</th>\n",
       "      <th>wind_gust</th>\n",
       "      <th>weather</th>\n",
       "      <th>pop</th>\n",
       "      <th>rain</th>\n",
       "    </tr>\n",
       "  </thead>\n",
       "  <tbody>\n",
       "    <tr>\n",
       "      <th>0</th>\n",
       "      <td>1630288800</td>\n",
       "      <td>31.09</td>\n",
       "      <td>38.09</td>\n",
       "      <td>1013</td>\n",
       "      <td>76</td>\n",
       "      <td>26.36</td>\n",
       "      <td>7.12</td>\n",
       "      <td>16</td>\n",
       "      <td>10000</td>\n",
       "      <td>4.83</td>\n",
       "      <td>75</td>\n",
       "      <td>5.76</td>\n",
       "      <td>[{'id': 801, 'main': 'Clouds', 'description': ...</td>\n",
       "      <td>0.05</td>\n",
       "      <td>NaN</td>\n",
       "    </tr>\n",
       "    <tr>\n",
       "      <th>1</th>\n",
       "      <td>1630292400</td>\n",
       "      <td>30.78</td>\n",
       "      <td>37.78</td>\n",
       "      <td>1013</td>\n",
       "      <td>75</td>\n",
       "      <td>25.83</td>\n",
       "      <td>10.02</td>\n",
       "      <td>16</td>\n",
       "      <td>10000</td>\n",
       "      <td>5.20</td>\n",
       "      <td>76</td>\n",
       "      <td>5.89</td>\n",
       "      <td>[{'id': 801, 'main': 'Clouds', 'description': ...</td>\n",
       "      <td>0.10</td>\n",
       "      <td>NaN</td>\n",
       "    </tr>\n",
       "    <tr>\n",
       "      <th>2</th>\n",
       "      <td>1630296000</td>\n",
       "      <td>30.63</td>\n",
       "      <td>37.19</td>\n",
       "      <td>1013</td>\n",
       "      <td>72</td>\n",
       "      <td>25.00</td>\n",
       "      <td>11.84</td>\n",
       "      <td>15</td>\n",
       "      <td>10000</td>\n",
       "      <td>5.39</td>\n",
       "      <td>77</td>\n",
       "      <td>6.05</td>\n",
       "      <td>[{'id': 801, 'main': 'Clouds', 'description': ...</td>\n",
       "      <td>0.07</td>\n",
       "      <td>NaN</td>\n",
       "    </tr>\n",
       "    <tr>\n",
       "      <th>3</th>\n",
       "      <td>1630299600</td>\n",
       "      <td>30.52</td>\n",
       "      <td>36.34</td>\n",
       "      <td>1012</td>\n",
       "      <td>70</td>\n",
       "      <td>24.42</td>\n",
       "      <td>11.63</td>\n",
       "      <td>14</td>\n",
       "      <td>10000</td>\n",
       "      <td>5.35</td>\n",
       "      <td>81</td>\n",
       "      <td>6.08</td>\n",
       "      <td>[{'id': 801, 'main': 'Clouds', 'description': ...</td>\n",
       "      <td>0.07</td>\n",
       "      <td>NaN</td>\n",
       "    </tr>\n",
       "    <tr>\n",
       "      <th>4</th>\n",
       "      <td>1630303200</td>\n",
       "      <td>30.51</td>\n",
       "      <td>35.52</td>\n",
       "      <td>1011</td>\n",
       "      <td>67</td>\n",
       "      <td>23.69</td>\n",
       "      <td>9.64</td>\n",
       "      <td>12</td>\n",
       "      <td>10000</td>\n",
       "      <td>5.57</td>\n",
       "      <td>88</td>\n",
       "      <td>6.28</td>\n",
       "      <td>[{'id': 801, 'main': 'Clouds', 'description': ...</td>\n",
       "      <td>0.07</td>\n",
       "      <td>NaN</td>\n",
       "    </tr>\n",
       "  </tbody>\n",
       "</table>\n",
       "</div>"
      ],
      "text/plain": [
       "           dt   temp  feels_like  pressure  humidity  dew_point    uvi  \\\n",
       "0  1630288800  31.09       38.09      1013        76      26.36   7.12   \n",
       "1  1630292400  30.78       37.78      1013        75      25.83  10.02   \n",
       "2  1630296000  30.63       37.19      1013        72      25.00  11.84   \n",
       "3  1630299600  30.52       36.34      1012        70      24.42  11.63   \n",
       "4  1630303200  30.51       35.52      1011        67      23.69   9.64   \n",
       "\n",
       "   clouds  visibility  wind_speed  wind_deg  wind_gust  \\\n",
       "0      16       10000        4.83        75       5.76   \n",
       "1      16       10000        5.20        76       5.89   \n",
       "2      15       10000        5.39        77       6.05   \n",
       "3      14       10000        5.35        81       6.08   \n",
       "4      12       10000        5.57        88       6.28   \n",
       "\n",
       "                                             weather   pop rain  \n",
       "0  [{'id': 801, 'main': 'Clouds', 'description': ...  0.05  NaN  \n",
       "1  [{'id': 801, 'main': 'Clouds', 'description': ...  0.10  NaN  \n",
       "2  [{'id': 801, 'main': 'Clouds', 'description': ...  0.07  NaN  \n",
       "3  [{'id': 801, 'main': 'Clouds', 'description': ...  0.07  NaN  \n",
       "4  [{'id': 801, 'main': 'Clouds', 'description': ...  0.07  NaN  "
      ]
     },
     "execution_count": 10,
     "metadata": {},
     "output_type": "execute_result"
    }
   ],
   "source": [
    "df_hourly.head()"
   ]
  },
  {
   "cell_type": "code",
   "execution_count": null,
   "metadata": {},
   "outputs": [],
   "source": []
  }
 ],
 "metadata": {
  "interpreter": {
   "hash": "c1b4cfe941b6d2466ad1fb5979e97da9cda8801728c8091b097ab734208fc00c"
  },
  "kernelspec": {
   "display_name": "Python 3.8.3 64-bit ('base': conda)",
   "name": "python3"
  },
  "language_info": {
   "codemirror_mode": {
    "name": "ipython",
    "version": 3
   },
   "file_extension": ".py",
   "mimetype": "text/x-python",
   "name": "python",
   "nbconvert_exporter": "python",
   "pygments_lexer": "ipython3",
   "version": "3.8.11"
  }
 },
 "nbformat": 4,
 "nbformat_minor": 2
}
