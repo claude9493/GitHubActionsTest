{
 "cells": [
  {
   "cell_type": "code",
   "execution_count": 1,
   "metadata": {
    "execution": {
     "iopub.execute_input": "2021-09-05T13:38:16.634178Z",
     "iopub.status.busy": "2021-09-05T13:38:16.633605Z",
     "iopub.status.idle": "2021-09-05T13:38:20.414744Z",
     "shell.execute_reply": "2021-09-05T13:38:20.415224Z"
    }
   },
   "outputs": [],
   "source": [
    "import json, yaml, requests\r\n",
    "from datetime import datetime\r\n",
    "from dateutil import tz\r\n",
    "import pandas as pd\r\n",
    "from PIL import Image\r\n",
    "from io import BytesIO\r\n",
    "import matplotlib.pyplot as plt\r\n",
    "import seaborn\r\n",
    "\r\n",
    "CONFIG_PATH = \"../config/config.yaml\""
   ]
  },
  {
   "cell_type": "code",
   "execution_count": 2,
   "metadata": {
    "execution": {
     "iopub.execute_input": "2021-09-05T13:38:20.424410Z",
     "iopub.status.busy": "2021-09-05T13:38:20.420795Z",
     "iopub.status.idle": "2021-09-05T13:38:20.430208Z",
     "shell.execute_reply": "2021-09-05T13:38:20.429423Z"
    }
   },
   "outputs": [],
   "source": [
    "with open('../newest_ts', 'r') as f:\r\n",
    "    newest_ts = f.read()\r\n",
    "\r\n",
    "data_path = f\"../data/data_{newest_ts}.json\"\r\n",
    "with open(data_path, 'r') as f:\r\n",
    "    data = json.load(f)\r\n",
    "\r\n",
    "with open(CONFIG_PATH, \"r\") as stream:\r\n",
    "    config = yaml.safe_load(stream)\r\n",
    "\r\n",
    "TIME_ZONE = config['time_zone']\r\n",
    "DATETIME_FORMAT = config['dt_format']"
   ]
  },
  {
   "cell_type": "code",
   "execution_count": 3,
   "metadata": {
    "execution": {
     "iopub.execute_input": "2021-09-05T13:38:20.435306Z",
     "iopub.status.busy": "2021-09-05T13:38:20.434692Z",
     "iopub.status.idle": "2021-09-05T13:38:20.517740Z",
     "shell.execute_reply": "2021-09-05T13:38:20.517244Z"
    }
   },
   "outputs": [
    {
     "name": "stdout",
     "output_type": "stream",
     "text": [
      "Recent query happens at 2021-09-05 21:38:13 (CST).\n"
     ]
    }
   ],
   "source": [
    "def ts2dt(ts, format=DATETIME_FORMAT):\r\n",
    "    dt = (datetime.utcfromtimestamp(int(ts))\r\n",
    "                    .replace(tzinfo=tz.tzutc())\r\n",
    "                    # .astimezone(tz.tzlocal())\r\n",
    "                    .astimezone(tz.gettz(TIME_ZONE)))\r\n",
    "    return dt.strftime(format), dt\r\n",
    "\r\n",
    "_, newest_dt = ts2dt(newest_ts)\r\n",
    "print(f\"Recent query happens at {newest_dt.strftime(DATETIME_FORMAT)} ({newest_dt.tzname()}).\")"
   ]
  },
  {
   "cell_type": "code",
   "execution_count": 4,
   "metadata": {
    "execution": {
     "iopub.execute_input": "2021-09-05T13:38:20.522586Z",
     "iopub.status.busy": "2021-09-05T13:38:20.522034Z",
     "iopub.status.idle": "2021-09-05T13:38:20.526070Z",
     "shell.execute_reply": "2021-09-05T13:38:20.525287Z"
    }
   },
   "outputs": [],
   "source": [
    "def degrees_to_cardinal(d):\r\n",
    "  dirs = ['N', 'NNE', 'NE', 'ENE', 'E', 'ESE', 'SE', 'SSE', 'S', 'SSW', 'SW', 'WSW', 'W', 'WNW', 'NW', 'NNW']\r\n",
    "  ix = int(round(d / (360. / len(dirs))))\r\n",
    "  return dirs[ix % len(dirs)]"
   ]
  },
  {
   "cell_type": "code",
   "execution_count": 5,
   "metadata": {
    "execution": {
     "iopub.execute_input": "2021-09-05T13:38:20.529862Z",
     "iopub.status.busy": "2021-09-05T13:38:20.529040Z",
     "iopub.status.idle": "2021-09-05T13:38:20.532931Z",
     "shell.execute_reply": "2021-09-05T13:38:20.532516Z"
    }
   },
   "outputs": [],
   "source": [
    "# data.keys()"
   ]
  },
  {
   "cell_type": "code",
   "execution_count": 6,
   "metadata": {
    "execution": {
     "iopub.execute_input": "2021-09-05T13:38:20.536422Z",
     "iopub.status.busy": "2021-09-05T13:38:20.535850Z",
     "iopub.status.idle": "2021-09-05T13:38:20.539500Z",
     "shell.execute_reply": "2021-09-05T13:38:20.538980Z"
    }
   },
   "outputs": [],
   "source": [
    "# data['current']"
   ]
  },
  {
   "cell_type": "code",
   "execution_count": 7,
   "metadata": {
    "execution": {
     "iopub.execute_input": "2021-09-05T13:38:20.580396Z",
     "iopub.status.busy": "2021-09-05T13:38:20.575730Z",
     "iopub.status.idle": "2021-09-05T13:38:21.209739Z",
     "shell.execute_reply": "2021-09-05T13:38:21.208844Z"
    }
   },
   "outputs": [
    {
     "data": {
      "image/png": "[encoded data removed]",
      "text/plain": [
       "<Figure size 216x216 with 1 Axes>"
      ]
     },
     "metadata": {
      "needs_background": "light"
     },
     "output_type": "display_data"
    },
    {
     "name": "stdout",
     "output_type": "stream",
     "text": [
      "Today, sun rises at 06:06 and sets at 18:36.\n",
      "Currently, the weather is Clouds (broken clouds).\n",
      "The temperature is 29.53°C and it feels like 35.52°C.\n",
      "The UV index is 0, humidity is 77%.\n",
      "The pressure is 1011 hPa, percentage of cloud cover is 54%\n",
      "The wind comes from ESE direction with a speed 2.65 m/s.\n"
     ]
    }
   ],
   "source": [
    "current = data['current']\r\n",
    "\r\n",
    "fig, ax = plt.subplots(figsize=(3, 3))\r\n",
    "icon = requests.get(f\"http://openweathermap.org/img/wn/{current['weather'][0]['icon']}@2x.png\")\r\n",
    "im = Image.open(BytesIO(icon.content))\r\n",
    "plt.imshow(im)\r\n",
    "ax.set_axis_off()\r\n",
    "plt.show()\r\n",
    "\r\n",
    "print(f\"Today, sun rises at {ts2dt(current['sunrise'], '%H:%M')[0]} \\\r\n",
    "and sets at {ts2dt(current['sunset'], '%H:%M')[0]}.\\n\\\r\n",
    "Currently, the weather is {current['weather'][0]['main']} ({current['weather'][0]['description']}).\\n\\\r\n",
    "The temperature is {current['temp']}°C and it feels like {current['feels_like']}°C.\\n\\\r\n",
    "The UV index is {current['uvi']}, humidity is {current['humidity']}%.\\n\\\r\n",
    "The pressure is {current['pressure']} hPa, percentage of cloud cover is {current['clouds']}%\\n\\\r\n",
    "The wind comes from {degrees_to_cardinal(current['wind_deg'])} direction with a speed {current['wind_speed']} m/s.\")"
   ]
  },
  {
   "cell_type": "code",
   "execution_count": 8,
   "metadata": {
    "execution": {
     "iopub.execute_input": "2021-09-05T13:38:21.217807Z",
     "iopub.status.busy": "2021-09-05T13:38:21.217250Z",
     "iopub.status.idle": "2021-09-05T13:38:21.221914Z",
     "shell.execute_reply": "2021-09-05T13:38:21.221478Z"
    }
   },
   "outputs": [],
   "source": [
    "df_hourly = pd.DataFrame(data['hourly'])\r\n",
    "df_daily = pd.DataFrame(data['daily'])"
   ]
  },
  {
   "cell_type": "code",
   "execution_count": 9,
   "metadata": {
    "execution": {
     "iopub.execute_input": "2021-09-05T13:38:21.252437Z",
     "iopub.status.busy": "2021-09-05T13:38:21.251720Z",
     "iopub.status.idle": "2021-09-05T13:38:21.553607Z",
     "shell.execute_reply": "2021-09-05T13:38:21.554542Z"
    }
   },
   "outputs": [
    {
     "data": {
      "image/png": "[encoded data removed]",
      "text/plain": [
       "<Figure size 864x432 with 1 Axes>"
      ]
     },
     "metadata": {
      "needs_background": "light"
     },
     "output_type": "display_data"
    }
   ],
   "source": [
    "fig, ax = plt.subplots(figsize=(12, 6))\r\n",
    "plt.plot(df_hourly.temp, '.-', label='Temperature')\r\n",
    "plt.plot(df_hourly.feels_like, '.-', label='Feels Like')\r\n",
    "ax.set(title='Temperature in future 48 hours', xlabel='Time', ylabel='Temperature')\r\n",
    "ax.set_xticks(list(range(0, len(df_hourly), 2)))\r\n",
    "ax.set_xticklabels([ts2dt(ts, '%m-%d %H:%M')[0] for i, ts in enumerate(df_hourly.dt) if i%2==0], \r\n",
    "                   rotation=45, ha=\"right\")\r\n",
    "ax.locator_params(nbins=15, axis='y')\r\n",
    "plt.legend()\r\n",
    "plt.show()"
   ]
  },
  {
   "cell_type": "code",
   "execution_count": 10,
   "metadata": {
    "execution": {
     "iopub.execute_input": "2021-09-05T13:38:21.577425Z",
     "iopub.status.busy": "2021-09-05T13:38:21.559277Z",
     "iopub.status.idle": "2021-09-05T13:38:21.581939Z",
     "shell.execute_reply": "2021-09-05T13:38:21.582811Z"
    }
   },
   "outputs": [
    {
     "data": {
      "text/html": [
       "<div>\n",
       "<style scoped>\n",
       "    .dataframe tbody tr th:only-of-type {\n",
       "        vertical-align: middle;\n",
       "    }\n",
       "\n",
       "    .dataframe tbody tr th {\n",
       "        vertical-align: top;\n",
       "    }\n",
       "\n",
       "    .dataframe thead th {\n",
       "        text-align: right;\n",
       "    }\n",
       "</style>\n",
       "<table border=\"1\" class=\"dataframe\">\n",
       "  <thead>\n",
       "    <tr style=\"text-align: right;\">\n",
       "      <th></th>\n",
       "      <th>dt</th>\n",
       "      <th>temp</th>\n",
       "      <th>feels_like</th>\n",
       "      <th>pressure</th>\n",
       "      <th>humidity</th>\n",
       "      <th>dew_point</th>\n",
       "      <th>uvi</th>\n",
       "      <th>clouds</th>\n",
       "      <th>visibility</th>\n",
       "      <th>wind_speed</th>\n",
       "      <th>wind_deg</th>\n",
       "      <th>wind_gust</th>\n",
       "      <th>weather</th>\n",
       "      <th>pop</th>\n",
       "      <th>rain</th>\n",
       "    </tr>\n",
       "  </thead>\n",
       "  <tbody>\n",
       "    <tr>\n",
       "      <th>0</th>\n",
       "      <td>1630846800</td>\n",
       "      <td>29.25</td>\n",
       "      <td>34.99</td>\n",
       "      <td>1011</td>\n",
       "      <td>78</td>\n",
       "      <td>25.01</td>\n",
       "      <td>0.0</td>\n",
       "      <td>50</td>\n",
       "      <td>10000</td>\n",
       "      <td>3.11</td>\n",
       "      <td>96</td>\n",
       "      <td>4.40</td>\n",
       "      <td>[{'id': 802, 'main': 'Clouds', 'description': ...</td>\n",
       "      <td>0.0</td>\n",
       "      <td>NaN</td>\n",
       "    </tr>\n",
       "    <tr>\n",
       "      <th>1</th>\n",
       "      <td>1630850400</td>\n",
       "      <td>29.53</td>\n",
       "      <td>35.52</td>\n",
       "      <td>1011</td>\n",
       "      <td>77</td>\n",
       "      <td>25.07</td>\n",
       "      <td>0.0</td>\n",
       "      <td>54</td>\n",
       "      <td>10000</td>\n",
       "      <td>2.65</td>\n",
       "      <td>102</td>\n",
       "      <td>3.73</td>\n",
       "      <td>[{'id': 500, 'main': 'Rain', 'description': 'l...</td>\n",
       "      <td>0.2</td>\n",
       "      <td>{'1h': 0.1}</td>\n",
       "    </tr>\n",
       "    <tr>\n",
       "      <th>2</th>\n",
       "      <td>1630854000</td>\n",
       "      <td>29.23</td>\n",
       "      <td>34.93</td>\n",
       "      <td>1011</td>\n",
       "      <td>78</td>\n",
       "      <td>25.00</td>\n",
       "      <td>0.0</td>\n",
       "      <td>51</td>\n",
       "      <td>10000</td>\n",
       "      <td>3.02</td>\n",
       "      <td>98</td>\n",
       "      <td>4.20</td>\n",
       "      <td>[{'id': 500, 'main': 'Rain', 'description': 'l...</td>\n",
       "      <td>0.2</td>\n",
       "      <td>{'1h': 0.1}</td>\n",
       "    </tr>\n",
       "    <tr>\n",
       "      <th>3</th>\n",
       "      <td>1630857600</td>\n",
       "      <td>28.89</td>\n",
       "      <td>34.23</td>\n",
       "      <td>1011</td>\n",
       "      <td>79</td>\n",
       "      <td>24.88</td>\n",
       "      <td>0.0</td>\n",
       "      <td>46</td>\n",
       "      <td>10000</td>\n",
       "      <td>2.29</td>\n",
       "      <td>102</td>\n",
       "      <td>3.28</td>\n",
       "      <td>[{'id': 500, 'main': 'Rain', 'description': 'l...</td>\n",
       "      <td>0.2</td>\n",
       "      <td>{'1h': 0.1}</td>\n",
       "    </tr>\n",
       "    <tr>\n",
       "      <th>4</th>\n",
       "      <td>1630861200</td>\n",
       "      <td>28.52</td>\n",
       "      <td>33.44</td>\n",
       "      <td>1011</td>\n",
       "      <td>80</td>\n",
       "      <td>24.73</td>\n",
       "      <td>0.0</td>\n",
       "      <td>40</td>\n",
       "      <td>10000</td>\n",
       "      <td>2.39</td>\n",
       "      <td>104</td>\n",
       "      <td>3.11</td>\n",
       "      <td>[{'id': 802, 'main': 'Clouds', 'description': ...</td>\n",
       "      <td>0.0</td>\n",
       "      <td>NaN</td>\n",
       "    </tr>\n",
       "  </tbody>\n",
       "</table>\n",
       "</div>"
      ],
      "text/plain": [
       "           dt   temp  feels_like  pressure  humidity  dew_point  uvi  clouds  \\\n",
       "0  1630846800  29.25       34.99      1011        78      25.01  0.0      50   \n",
       "1  1630850400  29.53       35.52      1011        77      25.07  0.0      54   \n",
       "2  1630854000  29.23       34.93      1011        78      25.00  0.0      51   \n",
       "3  1630857600  28.89       34.23      1011        79      24.88  0.0      46   \n",
       "4  1630861200  28.52       33.44      1011        80      24.73  0.0      40   \n",
       "\n",
       "   visibility  wind_speed  wind_deg  wind_gust  \\\n",
       "0       10000        3.11        96       4.40   \n",
       "1       10000        2.65       102       3.73   \n",
       "2       10000        3.02        98       4.20   \n",
       "3       10000        2.29       102       3.28   \n",
       "4       10000        2.39       104       3.11   \n",
       "\n",
       "                                             weather  pop         rain  \n",
       "0  [{'id': 802, 'main': 'Clouds', 'description': ...  0.0          NaN  \n",
       "1  [{'id': 500, 'main': 'Rain', 'description': 'l...  0.2  {'1h': 0.1}  \n",
       "2  [{'id': 500, 'main': 'Rain', 'description': 'l...  0.2  {'1h': 0.1}  \n",
       "3  [{'id': 500, 'main': 'Rain', 'description': 'l...  0.2  {'1h': 0.1}  \n",
       "4  [{'id': 802, 'main': 'Clouds', 'description': ...  0.0          NaN  "
      ]
     },
     "execution_count": 10,
     "metadata": {},
     "output_type": "execute_result"
    }
   ],
   "source": [
    "df_hourly.head()"
   ]
  },
  {
   "cell_type": "code",
   "execution_count": null,
   "metadata": {},
   "outputs": [],
   "source": []
  }
 ],
 "metadata": {
  "interpreter": {
   "hash": "c1b4cfe941b6d2466ad1fb5979e97da9cda8801728c8091b097ab734208fc00c"
  },
  "kernelspec": {
   "display_name": "Python 3.8.3 64-bit ('base': conda)",
   "name": "python3"
  },
  "language_info": {
   "codemirror_mode": {
    "name": "ipython",
    "version": 3
   },
   "file_extension": ".py",
   "mimetype": "text/x-python",
   "name": "python",
   "nbconvert_exporter": "python",
   "pygments_lexer": "ipython3",
   "version": "3.8.11"
  }
 },
 "nbformat": 4,
 "nbformat_minor": 2
}
