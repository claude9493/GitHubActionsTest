{
 "cells": [
  {
   "cell_type": "code",
   "execution_count": 1,
   "metadata": {
    "execution": {
     "iopub.execute_input": "2021-10-01T00:42:27.645961Z",
     "iopub.status.busy": "2021-10-01T00:42:27.645223Z",
     "iopub.status.idle": "2021-10-01T00:42:28.855482Z",
     "shell.execute_reply": "2021-10-01T00:42:28.854856Z"
    }
   },
   "outputs": [],
   "source": [
    "import json, yaml, requests\r\n",
    "from datetime import datetime\r\n",
    "from dateutil import tz\r\n",
    "import pandas as pd\r\n",
    "from PIL import Image\r\n",
    "from io import BytesIO\r\n",
    "import matplotlib.pyplot as plt\r\n",
    "import seaborn\r\n",
    "\r\n",
    "CONFIG_PATH = \"../config/config.yaml\""
   ]
  },
  {
   "cell_type": "code",
   "execution_count": 2,
   "metadata": {
    "execution": {
     "iopub.execute_input": "2021-10-01T00:42:28.863143Z",
     "iopub.status.busy": "2021-10-01T00:42:28.860317Z",
     "iopub.status.idle": "2021-10-01T00:42:28.865716Z",
     "shell.execute_reply": "2021-10-01T00:42:28.865308Z"
    }
   },
   "outputs": [],
   "source": [
    "with open('../newest_ts', 'r') as f:\r\n",
    "    newest_ts = f.read()\r\n",
    "\r\n",
    "data_path = f\"../data/data_{newest_ts}.json\"\r\n",
    "with open(data_path, 'r') as f:\r\n",
    "    data = json.load(f)\r\n",
    "\r\n",
    "with open(CONFIG_PATH, \"r\") as stream:\r\n",
    "    config = yaml.safe_load(stream)\r\n",
    "\r\n",
    "TIME_ZONE = config['time_zone']\r\n",
    "DATETIME_FORMAT = config['dt_format']"
   ]
  },
  {
   "cell_type": "code",
   "execution_count": 3,
   "metadata": {
    "execution": {
     "iopub.execute_input": "2021-10-01T00:42:28.870109Z",
     "iopub.status.busy": "2021-10-01T00:42:28.869638Z",
     "iopub.status.idle": "2021-10-01T00:42:28.905001Z",
     "shell.execute_reply": "2021-10-01T00:42:28.905415Z"
    }
   },
   "outputs": [
    {
     "name": "stdout",
     "output_type": "stream",
     "text": [
      "Recent query happens at 2021-10-01 08:42:24 (CST).\n"
     ]
    }
   ],
   "source": [
    "def ts2dt(ts, format=DATETIME_FORMAT):\r\n",
    "    dt = (datetime.utcfromtimestamp(int(ts))\r\n",
    "                    .replace(tzinfo=tz.tzutc())\r\n",
    "                    # .astimezone(tz.tzlocal())\r\n",
    "                    .astimezone(tz.gettz(TIME_ZONE)))\r\n",
    "    return dt.strftime(format), dt\r\n",
    "\r\n",
    "_, newest_dt = ts2dt(newest_ts)\r\n",
    "print(f\"Recent query happens at {newest_dt.strftime(DATETIME_FORMAT)} ({newest_dt.tzname()}).\")"
   ]
  },
  {
   "cell_type": "code",
   "execution_count": 4,
   "metadata": {
    "execution": {
     "iopub.execute_input": "2021-10-01T00:42:28.911018Z",
     "iopub.status.busy": "2021-10-01T00:42:28.909968Z",
     "iopub.status.idle": "2021-10-01T00:42:28.911538Z",
     "shell.execute_reply": "2021-10-01T00:42:28.911910Z"
    }
   },
   "outputs": [],
   "source": [
    "def degrees_to_cardinal(d):\r\n",
    "  dirs = ['N', 'NNE', 'NE', 'ENE', 'E', 'ESE', 'SE', 'SSE', 'S', 'SSW', 'SW', 'WSW', 'W', 'WNW', 'NW', 'NNW']\r\n",
    "  ix = int(round(d / (360. / len(dirs))))\r\n",
    "  return dirs[ix % len(dirs)]"
   ]
  },
  {
   "cell_type": "code",
   "execution_count": 5,
   "metadata": {
    "execution": {
     "iopub.execute_input": "2021-10-01T00:42:28.916055Z",
     "iopub.status.busy": "2021-10-01T00:42:28.915055Z",
     "iopub.status.idle": "2021-10-01T00:42:28.916574Z",
     "shell.execute_reply": "2021-10-01T00:42:28.916939Z"
    }
   },
   "outputs": [],
   "source": [
    "# data.keys()"
   ]
  },
  {
   "cell_type": "code",
   "execution_count": 6,
   "metadata": {
    "execution": {
     "iopub.execute_input": "2021-10-01T00:42:28.920801Z",
     "iopub.status.busy": "2021-10-01T00:42:28.919670Z",
     "iopub.status.idle": "2021-10-01T00:42:28.921344Z",
     "shell.execute_reply": "2021-10-01T00:42:28.921710Z"
    }
   },
   "outputs": [],
   "source": [
    "# data['current']"
   ]
  },
  {
   "cell_type": "code",
   "execution_count": 7,
   "metadata": {
    "execution": {
     "iopub.execute_input": "2021-10-01T00:42:28.942017Z",
     "iopub.status.busy": "2021-10-01T00:42:28.926467Z",
     "iopub.status.idle": "2021-10-01T00:42:29.284237Z",
     "shell.execute_reply": "2021-10-01T00:42:29.284617Z"
    }
   },
   "outputs": [
    {
     "data": {
      "image/png": "[encoded data removed]",
      "text/plain": [
       "<Figure size 216x216 with 1 Axes>"
      ]
     },
     "metadata": {
      "needs_background": "light"
     },
     "output_type": "display_data"
    },
    {
     "name": "stdout",
     "output_type": "stream",
     "text": [
      "Today, sun rises at 06:14 and sets at 18:11.\n",
      "Currently, the weather is Clear (clear sky).\n",
      "The temperature is 30.24°C and it feels like 37.24°C.\n",
      "The UV index is 3.04, humidity is 83%.\n",
      "The pressure is 1009 hPa, percentage of cloud cover is 0%\n",
      "The wind comes from ENE direction with a speed 1.79 m/s.\n"
     ]
    }
   ],
   "source": [
    "current = data['current']\r\n",
    "\r\n",
    "fig, ax = plt.subplots(figsize=(3, 3))\r\n",
    "icon = requests.get(f\"http://openweathermap.org/img/wn/{current['weather'][0]['icon']}@2x.png\")\r\n",
    "im = Image.open(BytesIO(icon.content))\r\n",
    "plt.imshow(im)\r\n",
    "ax.set_axis_off()\r\n",
    "plt.show()\r\n",
    "\r\n",
    "print(f\"Today, sun rises at {ts2dt(current['sunrise'], '%H:%M')[0]} \\\r\n",
    "and sets at {ts2dt(current['sunset'], '%H:%M')[0]}.\\n\\\r\n",
    "Currently, the weather is {current['weather'][0]['main']} ({current['weather'][0]['description']}).\\n\\\r\n",
    "The temperature is {current['temp']}°C and it feels like {current['feels_like']}°C.\\n\\\r\n",
    "The UV index is {current['uvi']}, humidity is {current['humidity']}%.\\n\\\r\n",
    "The pressure is {current['pressure']} hPa, percentage of cloud cover is {current['clouds']}%\\n\\\r\n",
    "The wind comes from {degrees_to_cardinal(current['wind_deg'])} direction with a speed {current['wind_speed']} m/s.\")"
   ]
  },
  {
   "cell_type": "code",
   "execution_count": 8,
   "metadata": {
    "execution": {
     "iopub.execute_input": "2021-10-01T00:42:29.291561Z",
     "iopub.status.busy": "2021-10-01T00:42:29.291098Z",
     "iopub.status.idle": "2021-10-01T00:42:29.293658Z",
     "shell.execute_reply": "2021-10-01T00:42:29.294324Z"
    }
   },
   "outputs": [],
   "source": [
    "df_hourly = pd.DataFrame(data['hourly'])\r\n",
    "df_daily = pd.DataFrame(data['daily'])"
   ]
  },
  {
   "cell_type": "code",
   "execution_count": 9,
   "metadata": {
    "execution": {
     "iopub.execute_input": "2021-10-01T00:42:29.297552Z",
     "iopub.status.busy": "2021-10-01T00:42:29.296489Z",
     "iopub.status.idle": "2021-10-01T00:42:29.539916Z",
     "shell.execute_reply": "2021-10-01T00:42:29.539462Z"
    }
   },
   "outputs": [
    {
     "data": {
      "image/png": "[encoded data removed]",
      "text/plain": [
       "<Figure size 864x432 with 1 Axes>"
      ]
     },
     "metadata": {
      "needs_background": "light"
     },
     "output_type": "display_data"
    }
   ],
   "source": [
    "fig, ax = plt.subplots(figsize=(12, 6))\r\n",
    "plt.plot(df_hourly.temp, '.-', label='Temperature')\r\n",
    "plt.plot(df_hourly.feels_like, '.-', label='Feels Like')\r\n",
    "ax.set(title='Temperature in future 48 hours', xlabel='Time', ylabel='Temperature')\r\n",
    "ax.set_xticks(list(range(0, len(df_hourly), 2)))\r\n",
    "ax.set_xticklabels([ts2dt(ts, '%m-%d %H:%M')[0] for i, ts in enumerate(df_hourly.dt) if i%2==0], \r\n",
    "                   rotation=45, ha=\"right\")\r\n",
    "ax.locator_params(nbins=15, axis='y')\r\n",
    "plt.legend()\r\n",
    "plt.show()"
   ]
  },
  {
   "cell_type": "code",
   "execution_count": 10,
   "metadata": {
    "execution": {
     "iopub.execute_input": "2021-10-01T00:42:29.544726Z",
     "iopub.status.busy": "2021-10-01T00:42:29.544267Z",
     "iopub.status.idle": "2021-10-01T00:42:29.563603Z",
     "shell.execute_reply": "2021-10-01T00:42:29.563142Z"
    }
   },
   "outputs": [
    {
     "data": {
      "text/html": [
       "<div>\n",
       "<style scoped>\n",
       "    .dataframe tbody tr th:only-of-type {\n",
       "        vertical-align: middle;\n",
       "    }\n",
       "\n",
       "    .dataframe tbody tr th {\n",
       "        vertical-align: top;\n",
       "    }\n",
       "\n",
       "    .dataframe thead th {\n",
       "        text-align: right;\n",
       "    }\n",
       "</style>\n",
       "<table border=\"1\" class=\"dataframe\">\n",
       "  <thead>\n",
       "    <tr style=\"text-align: right;\">\n",
       "      <th></th>\n",
       "      <th>dt</th>\n",
       "      <th>temp</th>\n",
       "      <th>feels_like</th>\n",
       "      <th>pressure</th>\n",
       "      <th>humidity</th>\n",
       "      <th>dew_point</th>\n",
       "      <th>uvi</th>\n",
       "      <th>clouds</th>\n",
       "      <th>visibility</th>\n",
       "      <th>wind_speed</th>\n",
       "      <th>wind_deg</th>\n",
       "      <th>wind_gust</th>\n",
       "      <th>weather</th>\n",
       "      <th>pop</th>\n",
       "      <th>rain</th>\n",
       "    </tr>\n",
       "  </thead>\n",
       "  <tbody>\n",
       "    <tr>\n",
       "      <th>0</th>\n",
       "      <td>1633046400</td>\n",
       "      <td>29.91</td>\n",
       "      <td>36.91</td>\n",
       "      <td>1009</td>\n",
       "      <td>82</td>\n",
       "      <td>26.50</td>\n",
       "      <td>1.02</td>\n",
       "      <td>2</td>\n",
       "      <td>10000</td>\n",
       "      <td>2.63</td>\n",
       "      <td>217</td>\n",
       "      <td>2.82</td>\n",
       "      <td>[{'id': 800, 'main': 'Clear', 'description': '...</td>\n",
       "      <td>0.60</td>\n",
       "      <td>NaN</td>\n",
       "    </tr>\n",
       "    <tr>\n",
       "      <th>1</th>\n",
       "      <td>1633050000</td>\n",
       "      <td>30.24</td>\n",
       "      <td>37.24</td>\n",
       "      <td>1009</td>\n",
       "      <td>83</td>\n",
       "      <td>27.03</td>\n",
       "      <td>3.04</td>\n",
       "      <td>0</td>\n",
       "      <td>10000</td>\n",
       "      <td>2.86</td>\n",
       "      <td>221</td>\n",
       "      <td>2.75</td>\n",
       "      <td>[{'id': 800, 'main': 'Clear', 'description': '...</td>\n",
       "      <td>0.25</td>\n",
       "      <td>NaN</td>\n",
       "    </tr>\n",
       "    <tr>\n",
       "      <th>2</th>\n",
       "      <td>1633053600</td>\n",
       "      <td>30.18</td>\n",
       "      <td>37.18</td>\n",
       "      <td>1009</td>\n",
       "      <td>80</td>\n",
       "      <td>26.34</td>\n",
       "      <td>5.82</td>\n",
       "      <td>1</td>\n",
       "      <td>10000</td>\n",
       "      <td>3.07</td>\n",
       "      <td>217</td>\n",
       "      <td>2.61</td>\n",
       "      <td>[{'id': 800, 'main': 'Clear', 'description': '...</td>\n",
       "      <td>0.33</td>\n",
       "      <td>NaN</td>\n",
       "    </tr>\n",
       "    <tr>\n",
       "      <th>3</th>\n",
       "      <td>1633057200</td>\n",
       "      <td>30.32</td>\n",
       "      <td>37.32</td>\n",
       "      <td>1009</td>\n",
       "      <td>77</td>\n",
       "      <td>25.83</td>\n",
       "      <td>8.49</td>\n",
       "      <td>4</td>\n",
       "      <td>10000</td>\n",
       "      <td>3.42</td>\n",
       "      <td>212</td>\n",
       "      <td>2.63</td>\n",
       "      <td>[{'id': 800, 'main': 'Clear', 'description': '...</td>\n",
       "      <td>0.27</td>\n",
       "      <td>NaN</td>\n",
       "    </tr>\n",
       "    <tr>\n",
       "      <th>4</th>\n",
       "      <td>1633060800</td>\n",
       "      <td>30.49</td>\n",
       "      <td>37.38</td>\n",
       "      <td>1010</td>\n",
       "      <td>74</td>\n",
       "      <td>25.33</td>\n",
       "      <td>9.58</td>\n",
       "      <td>11</td>\n",
       "      <td>10000</td>\n",
       "      <td>3.99</td>\n",
       "      <td>209</td>\n",
       "      <td>3.13</td>\n",
       "      <td>[{'id': 801, 'main': 'Clouds', 'description': ...</td>\n",
       "      <td>0.22</td>\n",
       "      <td>NaN</td>\n",
       "    </tr>\n",
       "  </tbody>\n",
       "</table>\n",
       "</div>"
      ],
      "text/plain": [
       "           dt   temp  feels_like  pressure  humidity  dew_point   uvi  clouds  \\\n",
       "0  1633046400  29.91       36.91      1009        82      26.50  1.02       2   \n",
       "1  1633050000  30.24       37.24      1009        83      27.03  3.04       0   \n",
       "2  1633053600  30.18       37.18      1009        80      26.34  5.82       1   \n",
       "3  1633057200  30.32       37.32      1009        77      25.83  8.49       4   \n",
       "4  1633060800  30.49       37.38      1010        74      25.33  9.58      11   \n",
       "\n",
       "   visibility  wind_speed  wind_deg  wind_gust  \\\n",
       "0       10000        2.63       217       2.82   \n",
       "1       10000        2.86       221       2.75   \n",
       "2       10000        3.07       217       2.61   \n",
       "3       10000        3.42       212       2.63   \n",
       "4       10000        3.99       209       3.13   \n",
       "\n",
       "                                             weather   pop rain  \n",
       "0  [{'id': 800, 'main': 'Clear', 'description': '...  0.60  NaN  \n",
       "1  [{'id': 800, 'main': 'Clear', 'description': '...  0.25  NaN  \n",
       "2  [{'id': 800, 'main': 'Clear', 'description': '...  0.33  NaN  \n",
       "3  [{'id': 800, 'main': 'Clear', 'description': '...  0.27  NaN  \n",
       "4  [{'id': 801, 'main': 'Clouds', 'description': ...  0.22  NaN  "
      ]
     },
     "execution_count": 10,
     "metadata": {},
     "output_type": "execute_result"
    }
   ],
   "source": [
    "df_hourly.head()"
   ]
  },
  {
   "cell_type": "code",
   "execution_count": null,
   "metadata": {},
   "outputs": [],
   "source": []
  }
 ],
 "metadata": {
  "interpreter": {
   "hash": "c1b4cfe941b6d2466ad1fb5979e97da9cda8801728c8091b097ab734208fc00c"
  },
  "kernelspec": {
   "display_name": "Python 3.8.3 64-bit ('base': conda)",
   "name": "python3"
  },
  "language_info": {
   "codemirror_mode": {
    "name": "ipython",
    "version": 3
   },
   "file_extension": ".py",
   "mimetype": "text/x-python",
   "name": "python",
   "nbconvert_exporter": "python",
   "pygments_lexer": "ipython3",
   "version": "3.8.12"
  }
 },
 "nbformat": 4,
 "nbformat_minor": 2
}
