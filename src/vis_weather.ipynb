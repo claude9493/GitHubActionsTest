{
 "cells": [
  {
   "cell_type": "code",
   "execution_count": 1,
   "metadata": {
    "execution": {
     "iopub.execute_input": "2021-09-08T09:15:03.541576Z",
     "iopub.status.busy": "2021-09-08T09:15:03.541050Z",
     "iopub.status.idle": "2021-09-08T09:15:04.699445Z",
     "shell.execute_reply": "2021-09-08T09:15:04.699851Z"
    }
   },
   "outputs": [],
   "source": [
    "import json, yaml, requests\r\n",
    "from datetime import datetime\r\n",
    "from dateutil import tz\r\n",
    "import pandas as pd\r\n",
    "from PIL import Image\r\n",
    "from io import BytesIO\r\n",
    "import matplotlib.pyplot as plt\r\n",
    "import seaborn\r\n",
    "\r\n",
    "CONFIG_PATH = \"../config/config.yaml\""
   ]
  },
  {
   "cell_type": "code",
   "execution_count": 2,
   "metadata": {
    "execution": {
     "iopub.execute_input": "2021-09-08T09:15:04.705235Z",
     "iopub.status.busy": "2021-09-08T09:15:04.704683Z",
     "iopub.status.idle": "2021-09-08T09:15:04.710054Z",
     "shell.execute_reply": "2021-09-08T09:15:04.709651Z"
    }
   },
   "outputs": [],
   "source": [
    "with open('../newest_ts', 'r') as f:\r\n",
    "    newest_ts = f.read()\r\n",
    "\r\n",
    "data_path = f\"../data/data_{newest_ts}.json\"\r\n",
    "with open(data_path, 'r') as f:\r\n",
    "    data = json.load(f)\r\n",
    "\r\n",
    "with open(CONFIG_PATH, \"r\") as stream:\r\n",
    "    config = yaml.safe_load(stream)\r\n",
    "\r\n",
    "TIME_ZONE = config['time_zone']\r\n",
    "DATETIME_FORMAT = config['dt_format']"
   ]
  },
  {
   "cell_type": "code",
   "execution_count": 3,
   "metadata": {
    "execution": {
     "iopub.execute_input": "2021-09-08T09:15:04.715366Z",
     "iopub.status.busy": "2021-09-08T09:15:04.713888Z",
     "iopub.status.idle": "2021-09-08T09:15:04.717954Z",
     "shell.execute_reply": "2021-09-08T09:15:04.718348Z"
    }
   },
   "outputs": [
    {
     "name": "stdout",
     "output_type": "stream",
     "text": [
      "Recent query happens at 2021-09-08 17:15:00 (CST).\n"
     ]
    }
   ],
   "source": [
    "def ts2dt(ts, format=DATETIME_FORMAT):\r\n",
    "    dt = (datetime.utcfromtimestamp(int(ts))\r\n",
    "                    .replace(tzinfo=tz.tzutc())\r\n",
    "                    # .astimezone(tz.tzlocal())\r\n",
    "                    .astimezone(tz.gettz(TIME_ZONE)))\r\n",
    "    return dt.strftime(format), dt\r\n",
    "\r\n",
    "_, newest_dt = ts2dt(newest_ts)\r\n",
    "print(f\"Recent query happens at {newest_dt.strftime(DATETIME_FORMAT)} ({newest_dt.tzname()}).\")"
   ]
  },
  {
   "cell_type": "code",
   "execution_count": 4,
   "metadata": {
    "execution": {
     "iopub.execute_input": "2021-09-08T09:15:04.723285Z",
     "iopub.status.busy": "2021-09-08T09:15:04.722178Z",
     "iopub.status.idle": "2021-09-08T09:15:04.723817Z",
     "shell.execute_reply": "2021-09-08T09:15:04.724237Z"
    }
   },
   "outputs": [],
   "source": [
    "def degrees_to_cardinal(d):\r\n",
    "  dirs = ['N', 'NNE', 'NE', 'ENE', 'E', 'ESE', 'SE', 'SSE', 'S', 'SSW', 'SW', 'WSW', 'W', 'WNW', 'NW', 'NNW']\r\n",
    "  ix = int(round(d / (360. / len(dirs))))\r\n",
    "  return dirs[ix % len(dirs)]"
   ]
  },
  {
   "cell_type": "code",
   "execution_count": 5,
   "metadata": {
    "execution": {
     "iopub.execute_input": "2021-09-08T09:15:04.727382Z",
     "iopub.status.busy": "2021-09-08T09:15:04.726899Z",
     "iopub.status.idle": "2021-09-08T09:15:04.729090Z",
     "shell.execute_reply": "2021-09-08T09:15:04.728687Z"
    }
   },
   "outputs": [],
   "source": [
    "# data.keys()"
   ]
  },
  {
   "cell_type": "code",
   "execution_count": 6,
   "metadata": {
    "execution": {
     "iopub.execute_input": "2021-09-08T09:15:04.732225Z",
     "iopub.status.busy": "2021-09-08T09:15:04.731726Z",
     "iopub.status.idle": "2021-09-08T09:15:04.733955Z",
     "shell.execute_reply": "2021-09-08T09:15:04.733559Z"
    }
   },
   "outputs": [],
   "source": [
    "# data['current']"
   ]
  },
  {
   "cell_type": "code",
   "execution_count": 7,
   "metadata": {
    "execution": {
     "iopub.execute_input": "2021-09-08T09:15:04.752981Z",
     "iopub.status.busy": "2021-09-08T09:15:04.750161Z",
     "iopub.status.idle": "2021-09-08T09:15:05.166228Z",
     "shell.execute_reply": "2021-09-08T09:15:05.166876Z"
    }
   },
   "outputs": [
    {
     "data": {
      "image/png": "[encoded data removed]",
      "text/plain": [
       "<Figure size 216x216 with 1 Axes>"
      ]
     },
     "metadata": {
      "needs_background": "light"
     },
     "output_type": "display_data"
    },
    {
     "name": "stdout",
     "output_type": "stream",
     "text": [
      "Today, sun rises at 06:07 and sets at 18:33.\n",
      "Currently, the weather is Clouds (broken clouds).\n",
      "The temperature is 31.75°C and it feels like 38.75°C.\n",
      "The UV index is 1.02, humidity is 69%.\n",
      "The pressure is 1007 hPa, percentage of cloud cover is 58%\n",
      "The wind comes from SE direction with a speed 3.36 m/s.\n"
     ]
    }
   ],
   "source": [
    "current = data['current']\r\n",
    "\r\n",
    "fig, ax = plt.subplots(figsize=(3, 3))\r\n",
    "icon = requests.get(f\"http://openweathermap.org/img/wn/{current['weather'][0]['icon']}@2x.png\")\r\n",
    "im = Image.open(BytesIO(icon.content))\r\n",
    "plt.imshow(im)\r\n",
    "ax.set_axis_off()\r\n",
    "plt.show()\r\n",
    "\r\n",
    "print(f\"Today, sun rises at {ts2dt(current['sunrise'], '%H:%M')[0]} \\\r\n",
    "and sets at {ts2dt(current['sunset'], '%H:%M')[0]}.\\n\\\r\n",
    "Currently, the weather is {current['weather'][0]['main']} ({current['weather'][0]['description']}).\\n\\\r\n",
    "The temperature is {current['temp']}°C and it feels like {current['feels_like']}°C.\\n\\\r\n",
    "The UV index is {current['uvi']}, humidity is {current['humidity']}%.\\n\\\r\n",
    "The pressure is {current['pressure']} hPa, percentage of cloud cover is {current['clouds']}%\\n\\\r\n",
    "The wind comes from {degrees_to_cardinal(current['wind_deg'])} direction with a speed {current['wind_speed']} m/s.\")"
   ]
  },
  {
   "cell_type": "code",
   "execution_count": 8,
   "metadata": {
    "execution": {
     "iopub.execute_input": "2021-09-08T09:15:05.170065Z",
     "iopub.status.busy": "2021-09-08T09:15:05.169084Z",
     "iopub.status.idle": "2021-09-08T09:15:05.176552Z",
     "shell.execute_reply": "2021-09-08T09:15:05.177211Z"
    }
   },
   "outputs": [],
   "source": [
    "df_hourly = pd.DataFrame(data['hourly'])\r\n",
    "df_daily = pd.DataFrame(data['daily'])"
   ]
  },
  {
   "cell_type": "code",
   "execution_count": 9,
   "metadata": {
    "execution": {
     "iopub.execute_input": "2021-09-08T09:15:05.180197Z",
     "iopub.status.busy": "2021-09-08T09:15:05.179204Z",
     "iopub.status.idle": "2021-09-08T09:15:05.480988Z",
     "shell.execute_reply": "2021-09-08T09:15:05.480546Z"
    }
   },
   "outputs": [
    {
     "data": {
      "image/png": "[encoded data removed]",
      "text/plain": [
       "<Figure size 864x432 with 1 Axes>"
      ]
     },
     "metadata": {
      "needs_background": "light"
     },
     "output_type": "display_data"
    }
   ],
   "source": [
    "fig, ax = plt.subplots(figsize=(12, 6))\r\n",
    "plt.plot(df_hourly.temp, '.-', label='Temperature')\r\n",
    "plt.plot(df_hourly.feels_like, '.-', label='Feels Like')\r\n",
    "ax.set(title='Temperature in future 48 hours', xlabel='Time', ylabel='Temperature')\r\n",
    "ax.set_xticks(list(range(0, len(df_hourly), 2)))\r\n",
    "ax.set_xticklabels([ts2dt(ts, '%m-%d %H:%M')[0] for i, ts in enumerate(df_hourly.dt) if i%2==0], \r\n",
    "                   rotation=45, ha=\"right\")\r\n",
    "ax.locator_params(nbins=15, axis='y')\r\n",
    "plt.legend()\r\n",
    "plt.show()"
   ]
  },
  {
   "cell_type": "code",
   "execution_count": 10,
   "metadata": {
    "execution": {
     "iopub.execute_input": "2021-09-08T09:15:05.492880Z",
     "iopub.status.busy": "2021-09-08T09:15:05.484919Z",
     "iopub.status.idle": "2021-09-08T09:15:05.503584Z",
     "shell.execute_reply": "2021-09-08T09:15:05.503952Z"
    }
   },
   "outputs": [
    {
     "data": {
      "text/html": [
       "<div>\n",
       "<style scoped>\n",
       "    .dataframe tbody tr th:only-of-type {\n",
       "        vertical-align: middle;\n",
       "    }\n",
       "\n",
       "    .dataframe tbody tr th {\n",
       "        vertical-align: top;\n",
       "    }\n",
       "\n",
       "    .dataframe thead th {\n",
       "        text-align: right;\n",
       "    }\n",
       "</style>\n",
       "<table border=\"1\" class=\"dataframe\">\n",
       "  <thead>\n",
       "    <tr style=\"text-align: right;\">\n",
       "      <th></th>\n",
       "      <th>dt</th>\n",
       "      <th>temp</th>\n",
       "      <th>feels_like</th>\n",
       "      <th>pressure</th>\n",
       "      <th>humidity</th>\n",
       "      <th>dew_point</th>\n",
       "      <th>uvi</th>\n",
       "      <th>clouds</th>\n",
       "      <th>visibility</th>\n",
       "      <th>wind_speed</th>\n",
       "      <th>wind_deg</th>\n",
       "      <th>wind_gust</th>\n",
       "      <th>weather</th>\n",
       "      <th>pop</th>\n",
       "      <th>rain</th>\n",
       "    </tr>\n",
       "  </thead>\n",
       "  <tbody>\n",
       "    <tr>\n",
       "      <th>0</th>\n",
       "      <td>1631091600</td>\n",
       "      <td>31.75</td>\n",
       "      <td>38.75</td>\n",
       "      <td>1007</td>\n",
       "      <td>69</td>\n",
       "      <td>25.36</td>\n",
       "      <td>1.02</td>\n",
       "      <td>58</td>\n",
       "      <td>10000</td>\n",
       "      <td>3.36</td>\n",
       "      <td>132</td>\n",
       "      <td>3.01</td>\n",
       "      <td>[{'id': 803, 'main': 'Clouds', 'description': ...</td>\n",
       "      <td>0.02</td>\n",
       "      <td>NaN</td>\n",
       "    </tr>\n",
       "    <tr>\n",
       "      <th>1</th>\n",
       "      <td>1631095200</td>\n",
       "      <td>31.22</td>\n",
       "      <td>38.20</td>\n",
       "      <td>1007</td>\n",
       "      <td>70</td>\n",
       "      <td>25.09</td>\n",
       "      <td>0.18</td>\n",
       "      <td>60</td>\n",
       "      <td>10000</td>\n",
       "      <td>3.42</td>\n",
       "      <td>138</td>\n",
       "      <td>3.52</td>\n",
       "      <td>[{'id': 803, 'main': 'Clouds', 'description': ...</td>\n",
       "      <td>0.02</td>\n",
       "      <td>NaN</td>\n",
       "    </tr>\n",
       "    <tr>\n",
       "      <th>2</th>\n",
       "      <td>1631098800</td>\n",
       "      <td>30.43</td>\n",
       "      <td>36.93</td>\n",
       "      <td>1007</td>\n",
       "      <td>73</td>\n",
       "      <td>25.04</td>\n",
       "      <td>0.00</td>\n",
       "      <td>62</td>\n",
       "      <td>10000</td>\n",
       "      <td>3.22</td>\n",
       "      <td>137</td>\n",
       "      <td>3.75</td>\n",
       "      <td>[{'id': 500, 'main': 'Rain', 'description': 'l...</td>\n",
       "      <td>0.26</td>\n",
       "      <td>{'1h': 0.15}</td>\n",
       "    </tr>\n",
       "    <tr>\n",
       "      <th>3</th>\n",
       "      <td>1631102400</td>\n",
       "      <td>29.63</td>\n",
       "      <td>35.55</td>\n",
       "      <td>1008</td>\n",
       "      <td>76</td>\n",
       "      <td>24.95</td>\n",
       "      <td>0.00</td>\n",
       "      <td>68</td>\n",
       "      <td>10000</td>\n",
       "      <td>2.90</td>\n",
       "      <td>138</td>\n",
       "      <td>3.55</td>\n",
       "      <td>[{'id': 803, 'main': 'Clouds', 'description': ...</td>\n",
       "      <td>0.15</td>\n",
       "      <td>NaN</td>\n",
       "    </tr>\n",
       "    <tr>\n",
       "      <th>4</th>\n",
       "      <td>1631106000</td>\n",
       "      <td>28.79</td>\n",
       "      <td>33.96</td>\n",
       "      <td>1009</td>\n",
       "      <td>79</td>\n",
       "      <td>24.78</td>\n",
       "      <td>0.00</td>\n",
       "      <td>92</td>\n",
       "      <td>10000</td>\n",
       "      <td>2.91</td>\n",
       "      <td>139</td>\n",
       "      <td>3.74</td>\n",
       "      <td>[{'id': 804, 'main': 'Clouds', 'description': ...</td>\n",
       "      <td>0.32</td>\n",
       "      <td>NaN</td>\n",
       "    </tr>\n",
       "  </tbody>\n",
       "</table>\n",
       "</div>"
      ],
      "text/plain": [
       "           dt   temp  feels_like  pressure  humidity  dew_point   uvi  clouds  \\\n",
       "0  1631091600  31.75       38.75      1007        69      25.36  1.02      58   \n",
       "1  1631095200  31.22       38.20      1007        70      25.09  0.18      60   \n",
       "2  1631098800  30.43       36.93      1007        73      25.04  0.00      62   \n",
       "3  1631102400  29.63       35.55      1008        76      24.95  0.00      68   \n",
       "4  1631106000  28.79       33.96      1009        79      24.78  0.00      92   \n",
       "\n",
       "   visibility  wind_speed  wind_deg  wind_gust  \\\n",
       "0       10000        3.36       132       3.01   \n",
       "1       10000        3.42       138       3.52   \n",
       "2       10000        3.22       137       3.75   \n",
       "3       10000        2.90       138       3.55   \n",
       "4       10000        2.91       139       3.74   \n",
       "\n",
       "                                             weather   pop          rain  \n",
       "0  [{'id': 803, 'main': 'Clouds', 'description': ...  0.02           NaN  \n",
       "1  [{'id': 803, 'main': 'Clouds', 'description': ...  0.02           NaN  \n",
       "2  [{'id': 500, 'main': 'Rain', 'description': 'l...  0.26  {'1h': 0.15}  \n",
       "3  [{'id': 803, 'main': 'Clouds', 'description': ...  0.15           NaN  \n",
       "4  [{'id': 804, 'main': 'Clouds', 'description': ...  0.32           NaN  "
      ]
     },
     "execution_count": 10,
     "metadata": {},
     "output_type": "execute_result"
    }
   ],
   "source": [
    "df_hourly.head()"
   ]
  },
  {
   "cell_type": "code",
   "execution_count": null,
   "metadata": {},
   "outputs": [],
   "source": []
  }
 ],
 "metadata": {
  "interpreter": {
   "hash": "c1b4cfe941b6d2466ad1fb5979e97da9cda8801728c8091b097ab734208fc00c"
  },
  "kernelspec": {
   "display_name": "Python 3.8.3 64-bit ('base': conda)",
   "name": "python3"
  },
  "language_info": {
   "codemirror_mode": {
    "name": "ipython",
    "version": 3
   },
   "file_extension": ".py",
   "mimetype": "text/x-python",
   "name": "python",
   "nbconvert_exporter": "python",
   "pygments_lexer": "ipython3",
   "version": "3.8.11"
  }
 },
 "nbformat": 4,
 "nbformat_minor": 2
}
