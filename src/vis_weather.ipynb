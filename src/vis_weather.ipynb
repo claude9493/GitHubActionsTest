{
 "cells": [
  {
   "cell_type": "code",
   "execution_count": 1,
   "metadata": {
    "execution": {
     "iopub.execute_input": "2021-08-30T09:15:32.737421Z",
     "iopub.status.busy": "2021-08-30T09:15:32.736779Z",
     "iopub.status.idle": "2021-08-30T09:15:35.845627Z",
     "shell.execute_reply": "2021-08-30T09:15:35.844630Z"
    }
   },
   "outputs": [],
   "source": [
    "import json, yaml, requests\r\n",
    "from datetime import datetime\r\n",
    "from dateutil import tz\r\n",
    "import pandas as pd\r\n",
    "from PIL import Image\r\n",
    "from io import BytesIO\r\n",
    "import matplotlib.pyplot as plt\r\n",
    "import seaborn\r\n",
    "\r\n",
    "CONFIG_PATH = \"../config/config.yaml\""
   ]
  },
  {
   "cell_type": "code",
   "execution_count": 2,
   "metadata": {
    "execution": {
     "iopub.execute_input": "2021-08-30T09:15:35.853468Z",
     "iopub.status.busy": "2021-08-30T09:15:35.850355Z",
     "iopub.status.idle": "2021-08-30T09:15:35.856625Z",
     "shell.execute_reply": "2021-08-30T09:15:35.856166Z"
    }
   },
   "outputs": [],
   "source": [
    "with open('../newest_ts', 'r') as f:\r\n",
    "    newest_ts = f.read()\r\n",
    "\r\n",
    "data_path = f\"../data/data_{newest_ts}.json\"\r\n",
    "with open(data_path, 'r') as f:\r\n",
    "    data = json.load(f)\r\n",
    "\r\n",
    "with open(CONFIG_PATH, \"r\") as stream:\r\n",
    "    config = yaml.safe_load(stream)\r\n",
    "\r\n",
    "TIME_ZONE = config['time_zone']\r\n",
    "DATETIME_FORMAT = config['dt_format']"
   ]
  },
  {
   "cell_type": "code",
   "execution_count": 3,
   "metadata": {
    "execution": {
     "iopub.execute_input": "2021-08-30T09:15:35.861476Z",
     "iopub.status.busy": "2021-08-30T09:15:35.860744Z",
     "iopub.status.idle": "2021-08-30T09:15:35.872419Z",
     "shell.execute_reply": "2021-08-30T09:15:35.872884Z"
    }
   },
   "outputs": [
    {
     "name": "stdout",
     "output_type": "stream",
     "text": [
      "Recent query happens at 2021-08-30 17:15:29 (CST).\n"
     ]
    }
   ],
   "source": [
    "def ts2dt(ts, format=DATETIME_FORMAT):\r\n",
    "    dt = (datetime.utcfromtimestamp(int(ts))\r\n",
    "                    .replace(tzinfo=tz.tzutc())\r\n",
    "                    # .astimezone(tz.tzlocal())\r\n",
    "                    .astimezone(tz.gettz(TIME_ZONE)))\r\n",
    "    return dt.strftime(format), dt\r\n",
    "\r\n",
    "_, newest_dt = ts2dt(newest_ts)\r\n",
    "print(f\"Recent query happens at {newest_dt.strftime(DATETIME_FORMAT)} ({newest_dt.tzname()}).\")"
   ]
  },
  {
   "cell_type": "code",
   "execution_count": 4,
   "metadata": {
    "execution": {
     "iopub.execute_input": "2021-08-30T09:15:35.878455Z",
     "iopub.status.busy": "2021-08-30T09:15:35.877297Z",
     "iopub.status.idle": "2021-08-30T09:15:35.879044Z",
     "shell.execute_reply": "2021-08-30T09:15:35.879464Z"
    }
   },
   "outputs": [],
   "source": [
    "def degrees_to_cardinal(d):\r\n",
    "  dirs = ['N', 'NNE', 'NE', 'ENE', 'E', 'ESE', 'SE', 'SSE', 'S', 'SSW', 'SW', 'WSW', 'W', 'WNW', 'NW', 'NNW']\r\n",
    "  ix = int(round(d / (360. / len(dirs))))\r\n",
    "  return dirs[ix % len(dirs)]"
   ]
  },
  {
   "cell_type": "code",
   "execution_count": 5,
   "metadata": {
    "execution": {
     "iopub.execute_input": "2021-08-30T09:15:35.883827Z",
     "iopub.status.busy": "2021-08-30T09:15:35.882679Z",
     "iopub.status.idle": "2021-08-30T09:15:35.884413Z",
     "shell.execute_reply": "2021-08-30T09:15:35.884854Z"
    }
   },
   "outputs": [],
   "source": [
    "# data.keys()"
   ]
  },
  {
   "cell_type": "code",
   "execution_count": 6,
   "metadata": {
    "execution": {
     "iopub.execute_input": "2021-08-30T09:15:35.888906Z",
     "iopub.status.busy": "2021-08-30T09:15:35.887752Z",
     "iopub.status.idle": "2021-08-30T09:15:35.889498Z",
     "shell.execute_reply": "2021-08-30T09:15:35.889916Z"
    }
   },
   "outputs": [],
   "source": [
    "# data['current']"
   ]
  },
  {
   "cell_type": "code",
   "execution_count": 7,
   "metadata": {
    "execution": {
     "iopub.execute_input": "2021-08-30T09:15:35.908532Z",
     "iopub.status.busy": "2021-08-30T09:15:35.896007Z",
     "iopub.status.idle": "2021-08-30T09:15:36.227300Z",
     "shell.execute_reply": "2021-08-30T09:15:36.228052Z"
    }
   },
   "outputs": [
    {
     "data": {
      "image/png": "[encoded data removed]",
      "text/plain": [
       "<Figure size 216x216 with 1 Axes>"
      ]
     },
     "metadata": {
      "needs_background": "light"
     },
     "output_type": "display_data"
    },
    {
     "name": "stdout",
     "output_type": "stream",
     "text": [
      "Today, sun rises at 06:05 and sets at 18:42.\n",
      "Currently, the weather is Rain (light rain).\n",
      "The temperature is 30.75°C and it feels like 36.65°C.\n",
      "The UV index is 1.23, humidity is 69%.\n",
      "The pressure is 1010 hPa, percentage of cloud cover is 12%\n",
      "The wind comes from ESE direction with a speed 4.93 m/s.\n"
     ]
    }
   ],
   "source": [
    "current = data['current']\r\n",
    "\r\n",
    "fig, ax = plt.subplots(figsize=(3, 3))\r\n",
    "icon = requests.get(f\"http://openweathermap.org/img/wn/{current['weather'][0]['icon']}@2x.png\")\r\n",
    "im = Image.open(BytesIO(icon.content))\r\n",
    "plt.imshow(im)\r\n",
    "ax.set_axis_off()\r\n",
    "plt.show()\r\n",
    "\r\n",
    "print(f\"Today, sun rises at {ts2dt(current['sunrise'], '%H:%M')[0]} \\\r\n",
    "and sets at {ts2dt(current['sunset'], '%H:%M')[0]}.\\n\\\r\n",
    "Currently, the weather is {current['weather'][0]['main']} ({current['weather'][0]['description']}).\\n\\\r\n",
    "The temperature is {current['temp']}°C and it feels like {current['feels_like']}°C.\\n\\\r\n",
    "The UV index is {current['uvi']}, humidity is {current['humidity']}%.\\n\\\r\n",
    "The pressure is {current['pressure']} hPa, percentage of cloud cover is {current['clouds']}%\\n\\\r\n",
    "The wind comes from {degrees_to_cardinal(current['wind_deg'])} direction with a speed {current['wind_speed']} m/s.\")"
   ]
  },
  {
   "cell_type": "code",
   "execution_count": 8,
   "metadata": {
    "execution": {
     "iopub.execute_input": "2021-08-30T09:15:36.231441Z",
     "iopub.status.busy": "2021-08-30T09:15:36.230917Z",
     "iopub.status.idle": "2021-08-30T09:15:36.238015Z",
     "shell.execute_reply": "2021-08-30T09:15:36.238822Z"
    }
   },
   "outputs": [],
   "source": [
    "df_hourly = pd.DataFrame(data['hourly'])\r\n",
    "df_daily = pd.DataFrame(data['daily'])"
   ]
  },
  {
   "cell_type": "code",
   "execution_count": 9,
   "metadata": {
    "execution": {
     "iopub.execute_input": "2021-08-30T09:15:36.242319Z",
     "iopub.status.busy": "2021-08-30T09:15:36.241248Z",
     "iopub.status.idle": "2021-08-30T09:15:36.536164Z",
     "shell.execute_reply": "2021-08-30T09:15:36.535331Z"
    }
   },
   "outputs": [
    {
     "data": {
      "image/png": "[encoded data removed]",
      "text/plain": [
       "<Figure size 864x432 with 1 Axes>"
      ]
     },
     "metadata": {
      "needs_background": "light"
     },
     "output_type": "display_data"
    }
   ],
   "source": [
    "fig, ax = plt.subplots(figsize=(12, 6))\r\n",
    "plt.plot(df_hourly.temp, '.-', label='Temperature')\r\n",
    "plt.plot(df_hourly.feels_like, '.-', label='Feels Like')\r\n",
    "ax.set(title='Temperature in future 48 hours', xlabel='Time', ylabel='Temperature')\r\n",
    "ax.set_xticks(list(range(0, len(df_hourly), 2)))\r\n",
    "ax.set_xticklabels([ts2dt(ts, '%m-%d %H:%M')[0] for i, ts in enumerate(df_hourly.dt) if i%2==0], \r\n",
    "                   rotation=45, ha=\"right\")\r\n",
    "ax.locator_params(nbins=15, axis='y')\r\n",
    "plt.legend()\r\n",
    "plt.show()"
   ]
  },
  {
   "cell_type": "code",
   "execution_count": 10,
   "metadata": {
    "execution": {
     "iopub.execute_input": "2021-08-30T09:15:36.549182Z",
     "iopub.status.busy": "2021-08-30T09:15:36.541332Z",
     "iopub.status.idle": "2021-08-30T09:15:36.560185Z",
     "shell.execute_reply": "2021-08-30T09:15:36.560620Z"
    }
   },
   "outputs": [
    {
     "data": {
      "text/html": [
       "<div>\n",
       "<style scoped>\n",
       "    .dataframe tbody tr th:only-of-type {\n",
       "        vertical-align: middle;\n",
       "    }\n",
       "\n",
       "    .dataframe tbody tr th {\n",
       "        vertical-align: top;\n",
       "    }\n",
       "\n",
       "    .dataframe thead th {\n",
       "        text-align: right;\n",
       "    }\n",
       "</style>\n",
       "<table border=\"1\" class=\"dataframe\">\n",
       "  <thead>\n",
       "    <tr style=\"text-align: right;\">\n",
       "      <th></th>\n",
       "      <th>dt</th>\n",
       "      <th>temp</th>\n",
       "      <th>feels_like</th>\n",
       "      <th>pressure</th>\n",
       "      <th>humidity</th>\n",
       "      <th>dew_point</th>\n",
       "      <th>uvi</th>\n",
       "      <th>clouds</th>\n",
       "      <th>visibility</th>\n",
       "      <th>wind_speed</th>\n",
       "      <th>wind_deg</th>\n",
       "      <th>wind_gust</th>\n",
       "      <th>weather</th>\n",
       "      <th>pop</th>\n",
       "      <th>rain</th>\n",
       "    </tr>\n",
       "  </thead>\n",
       "  <tbody>\n",
       "    <tr>\n",
       "      <th>0</th>\n",
       "      <td>1630314000</td>\n",
       "      <td>30.75</td>\n",
       "      <td>36.65</td>\n",
       "      <td>1010</td>\n",
       "      <td>69</td>\n",
       "      <td>24.40</td>\n",
       "      <td>1.23</td>\n",
       "      <td>12</td>\n",
       "      <td>10000</td>\n",
       "      <td>4.93</td>\n",
       "      <td>104</td>\n",
       "      <td>6.71</td>\n",
       "      <td>[{'id': 801, 'main': 'Clouds', 'description': ...</td>\n",
       "      <td>0.13</td>\n",
       "      <td>NaN</td>\n",
       "    </tr>\n",
       "    <tr>\n",
       "      <th>1</th>\n",
       "      <td>1630317600</td>\n",
       "      <td>30.39</td>\n",
       "      <td>36.27</td>\n",
       "      <td>1010</td>\n",
       "      <td>71</td>\n",
       "      <td>24.54</td>\n",
       "      <td>0.22</td>\n",
       "      <td>13</td>\n",
       "      <td>10000</td>\n",
       "      <td>4.60</td>\n",
       "      <td>107</td>\n",
       "      <td>7.01</td>\n",
       "      <td>[{'id': 801, 'main': 'Clouds', 'description': ...</td>\n",
       "      <td>0.13</td>\n",
       "      <td>NaN</td>\n",
       "    </tr>\n",
       "    <tr>\n",
       "      <th>2</th>\n",
       "      <td>1630321200</td>\n",
       "      <td>29.78</td>\n",
       "      <td>35.46</td>\n",
       "      <td>1010</td>\n",
       "      <td>74</td>\n",
       "      <td>24.64</td>\n",
       "      <td>0.00</td>\n",
       "      <td>21</td>\n",
       "      <td>10000</td>\n",
       "      <td>4.98</td>\n",
       "      <td>106</td>\n",
       "      <td>7.62</td>\n",
       "      <td>[{'id': 801, 'main': 'Clouds', 'description': ...</td>\n",
       "      <td>0.30</td>\n",
       "      <td>NaN</td>\n",
       "    </tr>\n",
       "    <tr>\n",
       "      <th>3</th>\n",
       "      <td>1630324800</td>\n",
       "      <td>29.27</td>\n",
       "      <td>34.81</td>\n",
       "      <td>1011</td>\n",
       "      <td>77</td>\n",
       "      <td>24.82</td>\n",
       "      <td>0.00</td>\n",
       "      <td>32</td>\n",
       "      <td>10000</td>\n",
       "      <td>5.35</td>\n",
       "      <td>107</td>\n",
       "      <td>8.52</td>\n",
       "      <td>[{'id': 802, 'main': 'Clouds', 'description': ...</td>\n",
       "      <td>0.39</td>\n",
       "      <td>NaN</td>\n",
       "    </tr>\n",
       "    <tr>\n",
       "      <th>4</th>\n",
       "      <td>1630328400</td>\n",
       "      <td>28.76</td>\n",
       "      <td>33.88</td>\n",
       "      <td>1011</td>\n",
       "      <td>79</td>\n",
       "      <td>24.75</td>\n",
       "      <td>0.00</td>\n",
       "      <td>82</td>\n",
       "      <td>10000</td>\n",
       "      <td>5.63</td>\n",
       "      <td>108</td>\n",
       "      <td>8.31</td>\n",
       "      <td>[{'id': 803, 'main': 'Clouds', 'description': ...</td>\n",
       "      <td>0.12</td>\n",
       "      <td>NaN</td>\n",
       "    </tr>\n",
       "  </tbody>\n",
       "</table>\n",
       "</div>"
      ],
      "text/plain": [
       "           dt   temp  feels_like  pressure  humidity  dew_point   uvi  clouds  \\\n",
       "0  1630314000  30.75       36.65      1010        69      24.40  1.23      12   \n",
       "1  1630317600  30.39       36.27      1010        71      24.54  0.22      13   \n",
       "2  1630321200  29.78       35.46      1010        74      24.64  0.00      21   \n",
       "3  1630324800  29.27       34.81      1011        77      24.82  0.00      32   \n",
       "4  1630328400  28.76       33.88      1011        79      24.75  0.00      82   \n",
       "\n",
       "   visibility  wind_speed  wind_deg  wind_gust  \\\n",
       "0       10000        4.93       104       6.71   \n",
       "1       10000        4.60       107       7.01   \n",
       "2       10000        4.98       106       7.62   \n",
       "3       10000        5.35       107       8.52   \n",
       "4       10000        5.63       108       8.31   \n",
       "\n",
       "                                             weather   pop rain  \n",
       "0  [{'id': 801, 'main': 'Clouds', 'description': ...  0.13  NaN  \n",
       "1  [{'id': 801, 'main': 'Clouds', 'description': ...  0.13  NaN  \n",
       "2  [{'id': 801, 'main': 'Clouds', 'description': ...  0.30  NaN  \n",
       "3  [{'id': 802, 'main': 'Clouds', 'description': ...  0.39  NaN  \n",
       "4  [{'id': 803, 'main': 'Clouds', 'description': ...  0.12  NaN  "
      ]
     },
     "execution_count": 10,
     "metadata": {},
     "output_type": "execute_result"
    }
   ],
   "source": [
    "df_hourly.head()"
   ]
  },
  {
   "cell_type": "code",
   "execution_count": null,
   "metadata": {},
   "outputs": [],
   "source": []
  }
 ],
 "metadata": {
  "interpreter": {
   "hash": "c1b4cfe941b6d2466ad1fb5979e97da9cda8801728c8091b097ab734208fc00c"
  },
  "kernelspec": {
   "display_name": "Python 3.8.3 64-bit ('base': conda)",
   "name": "python3"
  },
  "language_info": {
   "codemirror_mode": {
    "name": "ipython",
    "version": 3
   },
   "file_extension": ".py",
   "mimetype": "text/x-python",
   "name": "python",
   "nbconvert_exporter": "python",
   "pygments_lexer": "ipython3",
   "version": "3.8.11"
  }
 },
 "nbformat": 4,
 "nbformat_minor": 2
}
