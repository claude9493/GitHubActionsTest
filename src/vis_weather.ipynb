{
 "cells": [
  {
   "cell_type": "code",
   "execution_count": 1,
   "metadata": {
    "execution": {
     "iopub.execute_input": "2021-09-22T04:14:34.487311Z",
     "iopub.status.busy": "2021-09-22T04:14:34.486707Z",
     "iopub.status.idle": "2021-09-22T04:14:38.110990Z",
     "shell.execute_reply": "2021-09-22T04:14:38.110192Z"
    }
   },
   "outputs": [],
   "source": [
    "import json, yaml, requests\r\n",
    "from datetime import datetime\r\n",
    "from dateutil import tz\r\n",
    "import pandas as pd\r\n",
    "from PIL import Image\r\n",
    "from io import BytesIO\r\n",
    "import matplotlib.pyplot as plt\r\n",
    "import seaborn\r\n",
    "\r\n",
    "CONFIG_PATH = \"../config/config.yaml\""
   ]
  },
  {
   "cell_type": "code",
   "execution_count": 2,
   "metadata": {
    "execution": {
     "iopub.execute_input": "2021-09-22T04:14:38.116612Z",
     "iopub.status.busy": "2021-09-22T04:14:38.115970Z",
     "iopub.status.idle": "2021-09-22T04:14:38.123940Z",
     "shell.execute_reply": "2021-09-22T04:14:38.123351Z"
    }
   },
   "outputs": [],
   "source": [
    "with open('../newest_ts', 'r') as f:\r\n",
    "    newest_ts = f.read()\r\n",
    "\r\n",
    "data_path = f\"../data/data_{newest_ts}.json\"\r\n",
    "with open(data_path, 'r') as f:\r\n",
    "    data = json.load(f)\r\n",
    "\r\n",
    "with open(CONFIG_PATH, \"r\") as stream:\r\n",
    "    config = yaml.safe_load(stream)\r\n",
    "\r\n",
    "TIME_ZONE = config['time_zone']\r\n",
    "DATETIME_FORMAT = config['dt_format']"
   ]
  },
  {
   "cell_type": "code",
   "execution_count": 3,
   "metadata": {
    "execution": {
     "iopub.execute_input": "2021-09-22T04:14:38.129503Z",
     "iopub.status.busy": "2021-09-22T04:14:38.128882Z",
     "iopub.status.idle": "2021-09-22T04:14:38.135700Z",
     "shell.execute_reply": "2021-09-22T04:14:38.136472Z"
    }
   },
   "outputs": [
    {
     "name": "stdout",
     "output_type": "stream",
     "text": [
      "Recent query happens at 2021-09-22 12:14:30 (CST).\n"
     ]
    }
   ],
   "source": [
    "def ts2dt(ts, format=DATETIME_FORMAT):\r\n",
    "    dt = (datetime.utcfromtimestamp(int(ts))\r\n",
    "                    .replace(tzinfo=tz.tzutc())\r\n",
    "                    # .astimezone(tz.tzlocal())\r\n",
    "                    .astimezone(tz.gettz(TIME_ZONE)))\r\n",
    "    return dt.strftime(format), dt\r\n",
    "\r\n",
    "_, newest_dt = ts2dt(newest_ts)\r\n",
    "print(f\"Recent query happens at {newest_dt.strftime(DATETIME_FORMAT)} ({newest_dt.tzname()}).\")"
   ]
  },
  {
   "cell_type": "code",
   "execution_count": 4,
   "metadata": {
    "execution": {
     "iopub.execute_input": "2021-09-22T04:14:38.141932Z",
     "iopub.status.busy": "2021-09-22T04:14:38.139035Z",
     "iopub.status.idle": "2021-09-22T04:14:38.144615Z",
     "shell.execute_reply": "2021-09-22T04:14:38.145405Z"
    }
   },
   "outputs": [],
   "source": [
    "def degrees_to_cardinal(d):\r\n",
    "  dirs = ['N', 'NNE', 'NE', 'ENE', 'E', 'ESE', 'SE', 'SSE', 'S', 'SSW', 'SW', 'WSW', 'W', 'WNW', 'NW', 'NNW']\r\n",
    "  ix = int(round(d / (360. / len(dirs))))\r\n",
    "  return dirs[ix % len(dirs)]"
   ]
  },
  {
   "cell_type": "code",
   "execution_count": 5,
   "metadata": {
    "execution": {
     "iopub.execute_input": "2021-09-22T04:14:38.149872Z",
     "iopub.status.busy": "2021-09-22T04:14:38.149251Z",
     "iopub.status.idle": "2021-09-22T04:14:38.152747Z",
     "shell.execute_reply": "2021-09-22T04:14:38.153518Z"
    }
   },
   "outputs": [],
   "source": [
    "# data.keys()"
   ]
  },
  {
   "cell_type": "code",
   "execution_count": 6,
   "metadata": {
    "execution": {
     "iopub.execute_input": "2021-09-22T04:14:38.157470Z",
     "iopub.status.busy": "2021-09-22T04:14:38.156904Z",
     "iopub.status.idle": "2021-09-22T04:14:38.159566Z",
     "shell.execute_reply": "2021-09-22T04:14:38.159086Z"
    }
   },
   "outputs": [],
   "source": [
    "# data['current']"
   ]
  },
  {
   "cell_type": "code",
   "execution_count": 7,
   "metadata": {
    "execution": {
     "iopub.execute_input": "2021-09-22T04:14:38.189567Z",
     "iopub.status.busy": "2021-09-22T04:14:38.170959Z",
     "iopub.status.idle": "2021-09-22T04:14:38.658009Z",
     "shell.execute_reply": "2021-09-22T04:14:38.658599Z"
    }
   },
   "outputs": [
    {
     "data": {
      "image/png": "[encoded data removed]",
      "text/plain": [
       "<Figure size 216x216 with 1 Axes>"
      ]
     },
     "metadata": {
      "needs_background": "light"
     },
     "output_type": "display_data"
    },
    {
     "name": "stdout",
     "output_type": "stream",
     "text": [
      "Today, sun rises at 06:11 and sets at 18:19.\n",
      "Currently, the weather is Clouds (scattered clouds).\n",
      "The temperature is 32.33°C and it feels like 39.33°C.\n",
      "The UV index is 9.98, humidity is 70%.\n",
      "The pressure is 1011 hPa, percentage of cloud cover is 44%\n",
      "The wind comes from ESE direction with a speed 3.54 m/s.\n"
     ]
    }
   ],
   "source": [
    "current = data['current']\r\n",
    "\r\n",
    "fig, ax = plt.subplots(figsize=(3, 3))\r\n",
    "icon = requests.get(f\"http://openweathermap.org/img/wn/{current['weather'][0]['icon']}@2x.png\")\r\n",
    "im = Image.open(BytesIO(icon.content))\r\n",
    "plt.imshow(im)\r\n",
    "ax.set_axis_off()\r\n",
    "plt.show()\r\n",
    "\r\n",
    "print(f\"Today, sun rises at {ts2dt(current['sunrise'], '%H:%M')[0]} \\\r\n",
    "and sets at {ts2dt(current['sunset'], '%H:%M')[0]}.\\n\\\r\n",
    "Currently, the weather is {current['weather'][0]['main']} ({current['weather'][0]['description']}).\\n\\\r\n",
    "The temperature is {current['temp']}°C and it feels like {current['feels_like']}°C.\\n\\\r\n",
    "The UV index is {current['uvi']}, humidity is {current['humidity']}%.\\n\\\r\n",
    "The pressure is {current['pressure']} hPa, percentage of cloud cover is {current['clouds']}%\\n\\\r\n",
    "The wind comes from {degrees_to_cardinal(current['wind_deg'])} direction with a speed {current['wind_speed']} m/s.\")"
   ]
  },
  {
   "cell_type": "code",
   "execution_count": 8,
   "metadata": {
    "execution": {
     "iopub.execute_input": "2021-09-22T04:14:38.662288Z",
     "iopub.status.busy": "2021-09-22T04:14:38.661165Z",
     "iopub.status.idle": "2021-09-22T04:14:38.669707Z",
     "shell.execute_reply": "2021-09-22T04:14:38.670497Z"
    }
   },
   "outputs": [],
   "source": [
    "df_hourly = pd.DataFrame(data['hourly'])\r\n",
    "df_daily = pd.DataFrame(data['daily'])"
   ]
  },
  {
   "cell_type": "code",
   "execution_count": 9,
   "metadata": {
    "execution": {
     "iopub.execute_input": "2021-09-22T04:14:38.674644Z",
     "iopub.status.busy": "2021-09-22T04:14:38.673375Z",
     "iopub.status.idle": "2021-09-22T04:14:39.041020Z",
     "shell.execute_reply": "2021-09-22T04:14:39.041906Z"
    }
   },
   "outputs": [
    {
     "data": {
      "image/png": "[encoded data removed]",
      "text/plain": [
       "<Figure size 864x432 with 1 Axes>"
      ]
     },
     "metadata": {
      "needs_background": "light"
     },
     "output_type": "display_data"
    }
   ],
   "source": [
    "fig, ax = plt.subplots(figsize=(12, 6))\r\n",
    "plt.plot(df_hourly.temp, '.-', label='Temperature')\r\n",
    "plt.plot(df_hourly.feels_like, '.-', label='Feels Like')\r\n",
    "ax.set(title='Temperature in future 48 hours', xlabel='Time', ylabel='Temperature')\r\n",
    "ax.set_xticks(list(range(0, len(df_hourly), 2)))\r\n",
    "ax.set_xticklabels([ts2dt(ts, '%m-%d %H:%M')[0] for i, ts in enumerate(df_hourly.dt) if i%2==0], \r\n",
    "                   rotation=45, ha=\"right\")\r\n",
    "ax.locator_params(nbins=15, axis='y')\r\n",
    "plt.legend()\r\n",
    "plt.show()"
   ]
  },
  {
   "cell_type": "code",
   "execution_count": 10,
   "metadata": {
    "execution": {
     "iopub.execute_input": "2021-09-22T04:14:39.056520Z",
     "iopub.status.busy": "2021-09-22T04:14:39.046844Z",
     "iopub.status.idle": "2021-09-22T04:14:39.073328Z",
     "shell.execute_reply": "2021-09-22T04:14:39.072780Z"
    }
   },
   "outputs": [
    {
     "data": {
      "text/html": [
       "<div>\n",
       "<style scoped>\n",
       "    .dataframe tbody tr th:only-of-type {\n",
       "        vertical-align: middle;\n",
       "    }\n",
       "\n",
       "    .dataframe tbody tr th {\n",
       "        vertical-align: top;\n",
       "    }\n",
       "\n",
       "    .dataframe thead th {\n",
       "        text-align: right;\n",
       "    }\n",
       "</style>\n",
       "<table border=\"1\" class=\"dataframe\">\n",
       "  <thead>\n",
       "    <tr style=\"text-align: right;\">\n",
       "      <th></th>\n",
       "      <th>dt</th>\n",
       "      <th>temp</th>\n",
       "      <th>feels_like</th>\n",
       "      <th>pressure</th>\n",
       "      <th>humidity</th>\n",
       "      <th>dew_point</th>\n",
       "      <th>uvi</th>\n",
       "      <th>clouds</th>\n",
       "      <th>visibility</th>\n",
       "      <th>wind_speed</th>\n",
       "      <th>wind_deg</th>\n",
       "      <th>wind_gust</th>\n",
       "      <th>weather</th>\n",
       "      <th>pop</th>\n",
       "      <th>rain</th>\n",
       "    </tr>\n",
       "  </thead>\n",
       "  <tbody>\n",
       "    <tr>\n",
       "      <th>0</th>\n",
       "      <td>1632283200</td>\n",
       "      <td>32.33</td>\n",
       "      <td>39.33</td>\n",
       "      <td>1011</td>\n",
       "      <td>70</td>\n",
       "      <td>26.15</td>\n",
       "      <td>9.98</td>\n",
       "      <td>44</td>\n",
       "      <td>10000</td>\n",
       "      <td>3.54</td>\n",
       "      <td>103</td>\n",
       "      <td>3.32</td>\n",
       "      <td>[{'id': 802, 'main': 'Clouds', 'description': ...</td>\n",
       "      <td>0.00</td>\n",
       "      <td>NaN</td>\n",
       "    </tr>\n",
       "    <tr>\n",
       "      <th>1</th>\n",
       "      <td>1632286800</td>\n",
       "      <td>32.00</td>\n",
       "      <td>39.00</td>\n",
       "      <td>1011</td>\n",
       "      <td>69</td>\n",
       "      <td>25.59</td>\n",
       "      <td>9.80</td>\n",
       "      <td>43</td>\n",
       "      <td>10000</td>\n",
       "      <td>3.59</td>\n",
       "      <td>103</td>\n",
       "      <td>3.41</td>\n",
       "      <td>[{'id': 802, 'main': 'Clouds', 'description': ...</td>\n",
       "      <td>0.00</td>\n",
       "      <td>NaN</td>\n",
       "    </tr>\n",
       "    <tr>\n",
       "      <th>2</th>\n",
       "      <td>1632290400</td>\n",
       "      <td>31.66</td>\n",
       "      <td>38.66</td>\n",
       "      <td>1011</td>\n",
       "      <td>68</td>\n",
       "      <td>25.03</td>\n",
       "      <td>8.02</td>\n",
       "      <td>41</td>\n",
       "      <td>10000</td>\n",
       "      <td>3.75</td>\n",
       "      <td>101</td>\n",
       "      <td>3.63</td>\n",
       "      <td>[{'id': 802, 'main': 'Clouds', 'description': ...</td>\n",
       "      <td>0.00</td>\n",
       "      <td>NaN</td>\n",
       "    </tr>\n",
       "    <tr>\n",
       "      <th>3</th>\n",
       "      <td>1632294000</td>\n",
       "      <td>31.28</td>\n",
       "      <td>37.73</td>\n",
       "      <td>1010</td>\n",
       "      <td>68</td>\n",
       "      <td>24.66</td>\n",
       "      <td>5.33</td>\n",
       "      <td>31</td>\n",
       "      <td>10000</td>\n",
       "      <td>3.80</td>\n",
       "      <td>100</td>\n",
       "      <td>3.87</td>\n",
       "      <td>[{'id': 802, 'main': 'Clouds', 'description': ...</td>\n",
       "      <td>0.03</td>\n",
       "      <td>NaN</td>\n",
       "    </tr>\n",
       "    <tr>\n",
       "      <th>4</th>\n",
       "      <td>1632297600</td>\n",
       "      <td>30.81</td>\n",
       "      <td>36.25</td>\n",
       "      <td>1009</td>\n",
       "      <td>67</td>\n",
       "      <td>23.97</td>\n",
       "      <td>2.67</td>\n",
       "      <td>23</td>\n",
       "      <td>10000</td>\n",
       "      <td>4.00</td>\n",
       "      <td>103</td>\n",
       "      <td>4.30</td>\n",
       "      <td>[{'id': 801, 'main': 'Clouds', 'description': ...</td>\n",
       "      <td>0.10</td>\n",
       "      <td>NaN</td>\n",
       "    </tr>\n",
       "  </tbody>\n",
       "</table>\n",
       "</div>"
      ],
      "text/plain": [
       "           dt   temp  feels_like  pressure  humidity  dew_point   uvi  clouds  \\\n",
       "0  1632283200  32.33       39.33      1011        70      26.15  9.98      44   \n",
       "1  1632286800  32.00       39.00      1011        69      25.59  9.80      43   \n",
       "2  1632290400  31.66       38.66      1011        68      25.03  8.02      41   \n",
       "3  1632294000  31.28       37.73      1010        68      24.66  5.33      31   \n",
       "4  1632297600  30.81       36.25      1009        67      23.97  2.67      23   \n",
       "\n",
       "   visibility  wind_speed  wind_deg  wind_gust  \\\n",
       "0       10000        3.54       103       3.32   \n",
       "1       10000        3.59       103       3.41   \n",
       "2       10000        3.75       101       3.63   \n",
       "3       10000        3.80       100       3.87   \n",
       "4       10000        4.00       103       4.30   \n",
       "\n",
       "                                             weather   pop rain  \n",
       "0  [{'id': 802, 'main': 'Clouds', 'description': ...  0.00  NaN  \n",
       "1  [{'id': 802, 'main': 'Clouds', 'description': ...  0.00  NaN  \n",
       "2  [{'id': 802, 'main': 'Clouds', 'description': ...  0.00  NaN  \n",
       "3  [{'id': 802, 'main': 'Clouds', 'description': ...  0.03  NaN  \n",
       "4  [{'id': 801, 'main': 'Clouds', 'description': ...  0.10  NaN  "
      ]
     },
     "execution_count": 10,
     "metadata": {},
     "output_type": "execute_result"
    }
   ],
   "source": [
    "df_hourly.head()"
   ]
  },
  {
   "cell_type": "code",
   "execution_count": null,
   "metadata": {},
   "outputs": [],
   "source": []
  }
 ],
 "metadata": {
  "interpreter": {
   "hash": "c1b4cfe941b6d2466ad1fb5979e97da9cda8801728c8091b097ab734208fc00c"
  },
  "kernelspec": {
   "display_name": "Python 3.8.3 64-bit ('base': conda)",
   "name": "python3"
  },
  "language_info": {
   "codemirror_mode": {
    "name": "ipython",
    "version": 3
   },
   "file_extension": ".py",
   "mimetype": "text/x-python",
   "name": "python",
   "nbconvert_exporter": "python",
   "pygments_lexer": "ipython3",
   "version": "3.8.11"
  }
 },
 "nbformat": 4,
 "nbformat_minor": 2
}
