{
 "cells": [
  {
   "cell_type": "code",
   "execution_count": 1,
   "metadata": {
    "execution": {
     "iopub.execute_input": "2021-10-11T18:13:13.590039Z",
     "iopub.status.busy": "2021-10-11T18:13:13.589471Z",
     "iopub.status.idle": "2021-10-11T18:13:14.679278Z",
     "shell.execute_reply": "2021-10-11T18:13:14.678344Z"
    }
   },
   "outputs": [],
   "source": [
    "import json, yaml, requests\r\n",
    "from datetime import datetime\r\n",
    "from dateutil import tz\r\n",
    "import pandas as pd\r\n",
    "from PIL import Image\r\n",
    "from io import BytesIO\r\n",
    "import matplotlib.pyplot as plt\r\n",
    "import seaborn\r\n",
    "\r\n",
    "CONFIG_PATH = \"../config/config.yaml\""
   ]
  },
  {
   "cell_type": "code",
   "execution_count": 2,
   "metadata": {
    "execution": {
     "iopub.execute_input": "2021-10-11T18:13:14.682217Z",
     "iopub.status.busy": "2021-10-11T18:13:14.681626Z",
     "iopub.status.idle": "2021-10-11T18:13:14.688799Z",
     "shell.execute_reply": "2021-10-11T18:13:14.688425Z"
    }
   },
   "outputs": [],
   "source": [
    "with open('../newest_ts', 'r') as f:\r\n",
    "    newest_ts = f.read()\r\n",
    "\r\n",
    "data_path = f\"../data/data_{newest_ts}.json\"\r\n",
    "with open(data_path, 'r') as f:\r\n",
    "    data = json.load(f)\r\n",
    "\r\n",
    "with open(CONFIG_PATH, \"r\") as stream:\r\n",
    "    config = yaml.safe_load(stream)\r\n",
    "\r\n",
    "TIME_ZONE = config['time_zone']\r\n",
    "DATETIME_FORMAT = config['dt_format']"
   ]
  },
  {
   "cell_type": "code",
   "execution_count": 3,
   "metadata": {
    "execution": {
     "iopub.execute_input": "2021-10-11T18:13:14.692966Z",
     "iopub.status.busy": "2021-10-11T18:13:14.692504Z",
     "iopub.status.idle": "2021-10-11T18:13:14.698337Z",
     "shell.execute_reply": "2021-10-11T18:13:14.698712Z"
    }
   },
   "outputs": [
    {
     "name": "stdout",
     "output_type": "stream",
     "text": [
      "Recent query happens at 2021-10-12 02:13:11 (CST).\n"
     ]
    }
   ],
   "source": [
    "def ts2dt(ts, format=DATETIME_FORMAT):\r\n",
    "    dt = (datetime.utcfromtimestamp(int(ts))\r\n",
    "                    .replace(tzinfo=tz.tzutc())\r\n",
    "                    # .astimezone(tz.tzlocal())\r\n",
    "                    .astimezone(tz.gettz(TIME_ZONE)))\r\n",
    "    return dt.strftime(format), dt\r\n",
    "\r\n",
    "_, newest_dt = ts2dt(newest_ts)\r\n",
    "print(f\"Recent query happens at {newest_dt.strftime(DATETIME_FORMAT)} ({newest_dt.tzname()}).\")"
   ]
  },
  {
   "cell_type": "code",
   "execution_count": 4,
   "metadata": {
    "execution": {
     "iopub.execute_input": "2021-10-11T18:13:14.703555Z",
     "iopub.status.busy": "2021-10-11T18:13:14.702426Z",
     "iopub.status.idle": "2021-10-11T18:13:14.704070Z",
     "shell.execute_reply": "2021-10-11T18:13:14.704437Z"
    }
   },
   "outputs": [],
   "source": [
    "def degrees_to_cardinal(d):\r\n",
    "  dirs = ['N', 'NNE', 'NE', 'ENE', 'E', 'ESE', 'SE', 'SSE', 'S', 'SSW', 'SW', 'WSW', 'W', 'WNW', 'NW', 'NNW']\r\n",
    "  ix = int(round(d / (360. / len(dirs))))\r\n",
    "  return dirs[ix % len(dirs)]"
   ]
  },
  {
   "cell_type": "code",
   "execution_count": 5,
   "metadata": {
    "execution": {
     "iopub.execute_input": "2021-10-11T18:13:14.708282Z",
     "iopub.status.busy": "2021-10-11T18:13:14.707199Z",
     "iopub.status.idle": "2021-10-11T18:13:14.708803Z",
     "shell.execute_reply": "2021-10-11T18:13:14.709163Z"
    }
   },
   "outputs": [],
   "source": [
    "# data.keys()"
   ]
  },
  {
   "cell_type": "code",
   "execution_count": 6,
   "metadata": {
    "execution": {
     "iopub.execute_input": "2021-10-11T18:13:14.712919Z",
     "iopub.status.busy": "2021-10-11T18:13:14.711769Z",
     "iopub.status.idle": "2021-10-11T18:13:14.713435Z",
     "shell.execute_reply": "2021-10-11T18:13:14.713794Z"
    }
   },
   "outputs": [],
   "source": [
    "# data['current']"
   ]
  },
  {
   "cell_type": "code",
   "execution_count": 7,
   "metadata": {
    "execution": {
     "iopub.execute_input": "2021-10-11T18:13:14.730419Z",
     "iopub.status.busy": "2021-10-11T18:13:14.729916Z",
     "iopub.status.idle": "2021-10-11T18:13:15.116936Z",
     "shell.execute_reply": "2021-10-11T18:13:15.117604Z"
    }
   },
   "outputs": [
    {
     "data": {
      "image/png": "[encoded data removed]",
      "text/plain": [
       "<Figure size 216x216 with 1 Axes>"
      ]
     },
     "metadata": {
      "needs_background": "light"
     },
     "output_type": "display_data"
    },
    {
     "name": "stdout",
     "output_type": "stream",
     "text": [
      "Today, sun rises at 06:17 and sets at 18:00.\n",
      "Currently, the weather is Clouds (overcast clouds).\n",
      "The temperature is 24.92°C and it feels like 25.3°C.\n",
      "The UV index is 0, humidity is 70%.\n",
      "The pressure is 1003 hPa, percentage of cloud cover is 95%\n",
      "The wind comes from NE direction with a speed 1.34 m/s.\n"
     ]
    }
   ],
   "source": [
    "current = data['current']\r\n",
    "\r\n",
    "fig, ax = plt.subplots(figsize=(3, 3))\r\n",
    "icon = requests.get(f\"http://openweathermap.org/img/wn/{current['weather'][0]['icon']}@2x.png\")\r\n",
    "im = Image.open(BytesIO(icon.content))\r\n",
    "plt.imshow(im)\r\n",
    "ax.set_axis_off()\r\n",
    "plt.show()\r\n",
    "\r\n",
    "print(f\"Today, sun rises at {ts2dt(current['sunrise'], '%H:%M')[0]} \\\r\n",
    "and sets at {ts2dt(current['sunset'], '%H:%M')[0]}.\\n\\\r\n",
    "Currently, the weather is {current['weather'][0]['main']} ({current['weather'][0]['description']}).\\n\\\r\n",
    "The temperature is {current['temp']}°C and it feels like {current['feels_like']}°C.\\n\\\r\n",
    "The UV index is {current['uvi']}, humidity is {current['humidity']}%.\\n\\\r\n",
    "The pressure is {current['pressure']} hPa, percentage of cloud cover is {current['clouds']}%\\n\\\r\n",
    "The wind comes from {degrees_to_cardinal(current['wind_deg'])} direction with a speed {current['wind_speed']} m/s.\")"
   ]
  },
  {
   "cell_type": "code",
   "execution_count": 8,
   "metadata": {
    "execution": {
     "iopub.execute_input": "2021-10-11T18:13:15.123054Z",
     "iopub.status.busy": "2021-10-11T18:13:15.122588Z",
     "iopub.status.idle": "2021-10-11T18:13:15.127013Z",
     "shell.execute_reply": "2021-10-11T18:13:15.127653Z"
    }
   },
   "outputs": [],
   "source": [
    "df_hourly = pd.DataFrame(data['hourly'])\r\n",
    "df_daily = pd.DataFrame(data['daily'])"
   ]
  },
  {
   "cell_type": "code",
   "execution_count": 9,
   "metadata": {
    "execution": {
     "iopub.execute_input": "2021-10-11T18:13:15.135598Z",
     "iopub.status.busy": "2021-10-11T18:13:15.134664Z",
     "iopub.status.idle": "2021-10-11T18:13:15.359322Z",
     "shell.execute_reply": "2021-10-11T18:13:15.358901Z"
    }
   },
   "outputs": [
    {
     "data": {
      "image/png": "[encoded data removed]",
      "text/plain": [
       "<Figure size 864x432 with 1 Axes>"
      ]
     },
     "metadata": {
      "needs_background": "light"
     },
     "output_type": "display_data"
    }
   ],
   "source": [
    "fig, ax = plt.subplots(figsize=(12, 6))\r\n",
    "plt.plot(df_hourly.temp, '.-', label='Temperature')\r\n",
    "plt.plot(df_hourly.feels_like, '.-', label='Feels Like')\r\n",
    "ax.set(title='Temperature in future 48 hours', xlabel='Time', ylabel='Temperature')\r\n",
    "ax.set_xticks(list(range(0, len(df_hourly), 2)))\r\n",
    "ax.set_xticklabels([ts2dt(ts, '%m-%d %H:%M')[0] for i, ts in enumerate(df_hourly.dt) if i%2==0], \r\n",
    "                   rotation=45, ha=\"right\")\r\n",
    "ax.locator_params(nbins=15, axis='y')\r\n",
    "plt.legend()\r\n",
    "plt.show()"
   ]
  },
  {
   "cell_type": "code",
   "execution_count": 10,
   "metadata": {
    "execution": {
     "iopub.execute_input": "2021-10-11T18:13:15.363085Z",
     "iopub.status.busy": "2021-10-11T18:13:15.361295Z",
     "iopub.status.idle": "2021-10-11T18:13:15.381125Z",
     "shell.execute_reply": "2021-10-11T18:13:15.380738Z"
    }
   },
   "outputs": [
    {
     "data": {
      "text/html": [
       "<div>\n",
       "<style scoped>\n",
       "    .dataframe tbody tr th:only-of-type {\n",
       "        vertical-align: middle;\n",
       "    }\n",
       "\n",
       "    .dataframe tbody tr th {\n",
       "        vertical-align: top;\n",
       "    }\n",
       "\n",
       "    .dataframe thead th {\n",
       "        text-align: right;\n",
       "    }\n",
       "</style>\n",
       "<table border=\"1\" class=\"dataframe\">\n",
       "  <thead>\n",
       "    <tr style=\"text-align: right;\">\n",
       "      <th></th>\n",
       "      <th>dt</th>\n",
       "      <th>temp</th>\n",
       "      <th>feels_like</th>\n",
       "      <th>pressure</th>\n",
       "      <th>humidity</th>\n",
       "      <th>dew_point</th>\n",
       "      <th>uvi</th>\n",
       "      <th>clouds</th>\n",
       "      <th>visibility</th>\n",
       "      <th>wind_speed</th>\n",
       "      <th>wind_deg</th>\n",
       "      <th>wind_gust</th>\n",
       "      <th>weather</th>\n",
       "      <th>pop</th>\n",
       "      <th>rain</th>\n",
       "    </tr>\n",
       "  </thead>\n",
       "  <tbody>\n",
       "    <tr>\n",
       "      <th>0</th>\n",
       "      <td>1633975200</td>\n",
       "      <td>24.92</td>\n",
       "      <td>25.30</td>\n",
       "      <td>1003</td>\n",
       "      <td>70</td>\n",
       "      <td>19.07</td>\n",
       "      <td>0</td>\n",
       "      <td>95</td>\n",
       "      <td>10000</td>\n",
       "      <td>8.53</td>\n",
       "      <td>349</td>\n",
       "      <td>16.72</td>\n",
       "      <td>[{'id': 804, 'main': 'Clouds', 'description': ...</td>\n",
       "      <td>0.0</td>\n",
       "      <td>NaN</td>\n",
       "    </tr>\n",
       "    <tr>\n",
       "      <th>1</th>\n",
       "      <td>1633978800</td>\n",
       "      <td>24.54</td>\n",
       "      <td>24.90</td>\n",
       "      <td>1003</td>\n",
       "      <td>71</td>\n",
       "      <td>18.94</td>\n",
       "      <td>0</td>\n",
       "      <td>96</td>\n",
       "      <td>10000</td>\n",
       "      <td>8.26</td>\n",
       "      <td>348</td>\n",
       "      <td>16.37</td>\n",
       "      <td>[{'id': 804, 'main': 'Clouds', 'description': ...</td>\n",
       "      <td>0.0</td>\n",
       "      <td>NaN</td>\n",
       "    </tr>\n",
       "    <tr>\n",
       "      <th>2</th>\n",
       "      <td>1633982400</td>\n",
       "      <td>24.08</td>\n",
       "      <td>24.40</td>\n",
       "      <td>1003</td>\n",
       "      <td>71</td>\n",
       "      <td>18.50</td>\n",
       "      <td>0</td>\n",
       "      <td>97</td>\n",
       "      <td>10000</td>\n",
       "      <td>8.38</td>\n",
       "      <td>349</td>\n",
       "      <td>16.48</td>\n",
       "      <td>[{'id': 804, 'main': 'Clouds', 'description': ...</td>\n",
       "      <td>0.0</td>\n",
       "      <td>NaN</td>\n",
       "    </tr>\n",
       "    <tr>\n",
       "      <th>3</th>\n",
       "      <td>1633986000</td>\n",
       "      <td>23.46</td>\n",
       "      <td>23.74</td>\n",
       "      <td>1003</td>\n",
       "      <td>72</td>\n",
       "      <td>18.12</td>\n",
       "      <td>0</td>\n",
       "      <td>98</td>\n",
       "      <td>10000</td>\n",
       "      <td>9.26</td>\n",
       "      <td>346</td>\n",
       "      <td>17.13</td>\n",
       "      <td>[{'id': 804, 'main': 'Clouds', 'description': ...</td>\n",
       "      <td>0.0</td>\n",
       "      <td>NaN</td>\n",
       "    </tr>\n",
       "    <tr>\n",
       "      <th>4</th>\n",
       "      <td>1633989600</td>\n",
       "      <td>22.82</td>\n",
       "      <td>23.04</td>\n",
       "      <td>1002</td>\n",
       "      <td>72</td>\n",
       "      <td>17.51</td>\n",
       "      <td>0</td>\n",
       "      <td>99</td>\n",
       "      <td>10000</td>\n",
       "      <td>9.85</td>\n",
       "      <td>348</td>\n",
       "      <td>18.06</td>\n",
       "      <td>[{'id': 804, 'main': 'Clouds', 'description': ...</td>\n",
       "      <td>0.0</td>\n",
       "      <td>NaN</td>\n",
       "    </tr>\n",
       "  </tbody>\n",
       "</table>\n",
       "</div>"
      ],
      "text/plain": [
       "           dt   temp  feels_like  pressure  humidity  dew_point  uvi  clouds  \\\n",
       "0  1633975200  24.92       25.30      1003        70      19.07    0      95   \n",
       "1  1633978800  24.54       24.90      1003        71      18.94    0      96   \n",
       "2  1633982400  24.08       24.40      1003        71      18.50    0      97   \n",
       "3  1633986000  23.46       23.74      1003        72      18.12    0      98   \n",
       "4  1633989600  22.82       23.04      1002        72      17.51    0      99   \n",
       "\n",
       "   visibility  wind_speed  wind_deg  wind_gust  \\\n",
       "0       10000        8.53       349      16.72   \n",
       "1       10000        8.26       348      16.37   \n",
       "2       10000        8.38       349      16.48   \n",
       "3       10000        9.26       346      17.13   \n",
       "4       10000        9.85       348      18.06   \n",
       "\n",
       "                                             weather  pop rain  \n",
       "0  [{'id': 804, 'main': 'Clouds', 'description': ...  0.0  NaN  \n",
       "1  [{'id': 804, 'main': 'Clouds', 'description': ...  0.0  NaN  \n",
       "2  [{'id': 804, 'main': 'Clouds', 'description': ...  0.0  NaN  \n",
       "3  [{'id': 804, 'main': 'Clouds', 'description': ...  0.0  NaN  \n",
       "4  [{'id': 804, 'main': 'Clouds', 'description': ...  0.0  NaN  "
      ]
     },
     "execution_count": 10,
     "metadata": {},
     "output_type": "execute_result"
    }
   ],
   "source": [
    "df_hourly.head()"
   ]
  },
  {
   "cell_type": "code",
   "execution_count": null,
   "metadata": {},
   "outputs": [],
   "source": []
  }
 ],
 "metadata": {
  "interpreter": {
   "hash": "c1b4cfe941b6d2466ad1fb5979e97da9cda8801728c8091b097ab734208fc00c"
  },
  "kernelspec": {
   "display_name": "Python 3.8.3 64-bit ('base': conda)",
   "name": "python3"
  },
  "language_info": {
   "codemirror_mode": {
    "name": "ipython",
    "version": 3
   },
   "file_extension": ".py",
   "mimetype": "text/x-python",
   "name": "python",
   "nbconvert_exporter": "python",
   "pygments_lexer": "ipython3",
   "version": "3.8.12"
  }
 },
 "nbformat": 4,
 "nbformat_minor": 2
}
