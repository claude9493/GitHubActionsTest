{
 "cells": [
  {
   "cell_type": "code",
   "execution_count": 1,
   "metadata": {
    "execution": {
     "iopub.execute_input": "2021-09-26T05:10:13.065053Z",
     "iopub.status.busy": "2021-09-26T05:10:13.064364Z",
     "iopub.status.idle": "2021-09-26T05:10:15.572075Z",
     "shell.execute_reply": "2021-09-26T05:10:15.571071Z"
    }
   },
   "outputs": [],
   "source": [
    "import json, yaml, requests\r\n",
    "from datetime import datetime\r\n",
    "from dateutil import tz\r\n",
    "import pandas as pd\r\n",
    "from PIL import Image\r\n",
    "from io import BytesIO\r\n",
    "import matplotlib.pyplot as plt\r\n",
    "import seaborn\r\n",
    "\r\n",
    "CONFIG_PATH = \"../config/config.yaml\""
   ]
  },
  {
   "cell_type": "code",
   "execution_count": 2,
   "metadata": {
    "execution": {
     "iopub.execute_input": "2021-09-26T05:10:15.576859Z",
     "iopub.status.busy": "2021-09-26T05:10:15.576384Z",
     "iopub.status.idle": "2021-09-26T05:10:15.581294Z",
     "shell.execute_reply": "2021-09-26T05:10:15.580864Z"
    }
   },
   "outputs": [],
   "source": [
    "with open('../newest_ts', 'r') as f:\r\n",
    "    newest_ts = f.read()\r\n",
    "\r\n",
    "data_path = f\"../data/data_{newest_ts}.json\"\r\n",
    "with open(data_path, 'r') as f:\r\n",
    "    data = json.load(f)\r\n",
    "\r\n",
    "with open(CONFIG_PATH, \"r\") as stream:\r\n",
    "    config = yaml.safe_load(stream)\r\n",
    "\r\n",
    "TIME_ZONE = config['time_zone']\r\n",
    "DATETIME_FORMAT = config['dt_format']"
   ]
  },
  {
   "cell_type": "code",
   "execution_count": 3,
   "metadata": {
    "execution": {
     "iopub.execute_input": "2021-09-26T05:10:15.585453Z",
     "iopub.status.busy": "2021-09-26T05:10:15.584984Z",
     "iopub.status.idle": "2021-09-26T05:10:15.589778Z",
     "shell.execute_reply": "2021-09-26T05:10:15.590164Z"
    }
   },
   "outputs": [
    {
     "name": "stdout",
     "output_type": "stream",
     "text": [
      "Recent query happens at 2021-09-26 13:10:09 (CST).\n"
     ]
    }
   ],
   "source": [
    "def ts2dt(ts, format=DATETIME_FORMAT):\r\n",
    "    dt = (datetime.utcfromtimestamp(int(ts))\r\n",
    "                    .replace(tzinfo=tz.tzutc())\r\n",
    "                    # .astimezone(tz.tzlocal())\r\n",
    "                    .astimezone(tz.gettz(TIME_ZONE)))\r\n",
    "    return dt.strftime(format), dt\r\n",
    "\r\n",
    "_, newest_dt = ts2dt(newest_ts)\r\n",
    "print(f\"Recent query happens at {newest_dt.strftime(DATETIME_FORMAT)} ({newest_dt.tzname()}).\")"
   ]
  },
  {
   "cell_type": "code",
   "execution_count": 4,
   "metadata": {
    "execution": {
     "iopub.execute_input": "2021-09-26T05:10:15.594956Z",
     "iopub.status.busy": "2021-09-26T05:10:15.593941Z",
     "iopub.status.idle": "2021-09-26T05:10:15.595471Z",
     "shell.execute_reply": "2021-09-26T05:10:15.595840Z"
    }
   },
   "outputs": [],
   "source": [
    "def degrees_to_cardinal(d):\r\n",
    "  dirs = ['N', 'NNE', 'NE', 'ENE', 'E', 'ESE', 'SE', 'SSE', 'S', 'SSW', 'SW', 'WSW', 'W', 'WNW', 'NW', 'NNW']\r\n",
    "  ix = int(round(d / (360. / len(dirs))))\r\n",
    "  return dirs[ix % len(dirs)]"
   ]
  },
  {
   "cell_type": "code",
   "execution_count": 5,
   "metadata": {
    "execution": {
     "iopub.execute_input": "2021-09-26T05:10:15.599999Z",
     "iopub.status.busy": "2021-09-26T05:10:15.598852Z",
     "iopub.status.idle": "2021-09-26T05:10:15.600528Z",
     "shell.execute_reply": "2021-09-26T05:10:15.600893Z"
    }
   },
   "outputs": [],
   "source": [
    "# data.keys()"
   ]
  },
  {
   "cell_type": "code",
   "execution_count": 6,
   "metadata": {
    "execution": {
     "iopub.execute_input": "2021-09-26T05:10:15.604481Z",
     "iopub.status.busy": "2021-09-26T05:10:15.603488Z",
     "iopub.status.idle": "2021-09-26T05:10:15.604997Z",
     "shell.execute_reply": "2021-09-26T05:10:15.605357Z"
    }
   },
   "outputs": [],
   "source": [
    "# data['current']"
   ]
  },
  {
   "cell_type": "code",
   "execution_count": 7,
   "metadata": {
    "execution": {
     "iopub.execute_input": "2021-09-26T05:10:15.621521Z",
     "iopub.status.busy": "2021-09-26T05:10:15.621046Z",
     "iopub.status.idle": "2021-09-26T05:10:16.090608Z",
     "shell.execute_reply": "2021-09-26T05:10:16.091274Z"
    }
   },
   "outputs": [
    {
     "data": {
      "image/png": "[encoded data removed]",
      "text/plain": [
       "<Figure size 216x216 with 1 Axes>"
      ]
     },
     "metadata": {
      "needs_background": "light"
     },
     "output_type": "display_data"
    },
    {
     "name": "stdout",
     "output_type": "stream",
     "text": [
      "Today, sun rises at 06:12 and sets at 18:15.\n",
      "Currently, the weather is Clouds (scattered clouds).\n",
      "The temperature is 30.31°C and it feels like 36.61°C.\n",
      "The UV index is 9.79, humidity is 73%.\n",
      "The pressure is 1011 hPa, percentage of cloud cover is 33%\n",
      "The wind comes from WNW direction with a speed 0.89 m/s.\n"
     ]
    }
   ],
   "source": [
    "current = data['current']\r\n",
    "\r\n",
    "fig, ax = plt.subplots(figsize=(3, 3))\r\n",
    "icon = requests.get(f\"http://openweathermap.org/img/wn/{current['weather'][0]['icon']}@2x.png\")\r\n",
    "im = Image.open(BytesIO(icon.content))\r\n",
    "plt.imshow(im)\r\n",
    "ax.set_axis_off()\r\n",
    "plt.show()\r\n",
    "\r\n",
    "print(f\"Today, sun rises at {ts2dt(current['sunrise'], '%H:%M')[0]} \\\r\n",
    "and sets at {ts2dt(current['sunset'], '%H:%M')[0]}.\\n\\\r\n",
    "Currently, the weather is {current['weather'][0]['main']} ({current['weather'][0]['description']}).\\n\\\r\n",
    "The temperature is {current['temp']}°C and it feels like {current['feels_like']}°C.\\n\\\r\n",
    "The UV index is {current['uvi']}, humidity is {current['humidity']}%.\\n\\\r\n",
    "The pressure is {current['pressure']} hPa, percentage of cloud cover is {current['clouds']}%\\n\\\r\n",
    "The wind comes from {degrees_to_cardinal(current['wind_deg'])} direction with a speed {current['wind_speed']} m/s.\")"
   ]
  },
  {
   "cell_type": "code",
   "execution_count": 8,
   "metadata": {
    "execution": {
     "iopub.execute_input": "2021-09-26T05:10:16.094449Z",
     "iopub.status.busy": "2021-09-26T05:10:16.093501Z",
     "iopub.status.idle": "2021-09-26T05:10:16.100231Z",
     "shell.execute_reply": "2021-09-26T05:10:16.100870Z"
    }
   },
   "outputs": [],
   "source": [
    "df_hourly = pd.DataFrame(data['hourly'])\r\n",
    "df_daily = pd.DataFrame(data['daily'])"
   ]
  },
  {
   "cell_type": "code",
   "execution_count": 9,
   "metadata": {
    "execution": {
     "iopub.execute_input": "2021-09-26T05:10:16.103850Z",
     "iopub.status.busy": "2021-09-26T05:10:16.102933Z",
     "iopub.status.idle": "2021-09-26T05:10:16.339954Z",
     "shell.execute_reply": "2021-09-26T05:10:16.340376Z"
    }
   },
   "outputs": [
    {
     "data": {
      "image/png": "[encoded data removed]",
      "text/plain": [
       "<Figure size 864x432 with 1 Axes>"
      ]
     },
     "metadata": {
      "needs_background": "light"
     },
     "output_type": "display_data"
    }
   ],
   "source": [
    "fig, ax = plt.subplots(figsize=(12, 6))\r\n",
    "plt.plot(df_hourly.temp, '.-', label='Temperature')\r\n",
    "plt.plot(df_hourly.feels_like, '.-', label='Feels Like')\r\n",
    "ax.set(title='Temperature in future 48 hours', xlabel='Time', ylabel='Temperature')\r\n",
    "ax.set_xticks(list(range(0, len(df_hourly), 2)))\r\n",
    "ax.set_xticklabels([ts2dt(ts, '%m-%d %H:%M')[0] for i, ts in enumerate(df_hourly.dt) if i%2==0], \r\n",
    "                   rotation=45, ha=\"right\")\r\n",
    "ax.locator_params(nbins=15, axis='y')\r\n",
    "plt.legend()\r\n",
    "plt.show()"
   ]
  },
  {
   "cell_type": "code",
   "execution_count": 10,
   "metadata": {
    "execution": {
     "iopub.execute_input": "2021-09-26T05:10:16.344581Z",
     "iopub.status.busy": "2021-09-26T05:10:16.344130Z",
     "iopub.status.idle": "2021-09-26T05:10:16.361245Z",
     "shell.execute_reply": "2021-09-26T05:10:16.360856Z"
    }
   },
   "outputs": [
    {
     "data": {
      "text/html": [
       "<div>\n",
       "<style scoped>\n",
       "    .dataframe tbody tr th:only-of-type {\n",
       "        vertical-align: middle;\n",
       "    }\n",
       "\n",
       "    .dataframe tbody tr th {\n",
       "        vertical-align: top;\n",
       "    }\n",
       "\n",
       "    .dataframe thead th {\n",
       "        text-align: right;\n",
       "    }\n",
       "</style>\n",
       "<table border=\"1\" class=\"dataframe\">\n",
       "  <thead>\n",
       "    <tr style=\"text-align: right;\">\n",
       "      <th></th>\n",
       "      <th>dt</th>\n",
       "      <th>temp</th>\n",
       "      <th>feels_like</th>\n",
       "      <th>pressure</th>\n",
       "      <th>humidity</th>\n",
       "      <th>dew_point</th>\n",
       "      <th>uvi</th>\n",
       "      <th>clouds</th>\n",
       "      <th>visibility</th>\n",
       "      <th>wind_speed</th>\n",
       "      <th>wind_deg</th>\n",
       "      <th>wind_gust</th>\n",
       "      <th>weather</th>\n",
       "      <th>pop</th>\n",
       "      <th>rain</th>\n",
       "    </tr>\n",
       "  </thead>\n",
       "  <tbody>\n",
       "    <tr>\n",
       "      <th>0</th>\n",
       "      <td>1632632400</td>\n",
       "      <td>30.31</td>\n",
       "      <td>36.61</td>\n",
       "      <td>1011</td>\n",
       "      <td>73</td>\n",
       "      <td>24.93</td>\n",
       "      <td>9.79</td>\n",
       "      <td>33</td>\n",
       "      <td>10000</td>\n",
       "      <td>6.26</td>\n",
       "      <td>81</td>\n",
       "      <td>7.04</td>\n",
       "      <td>[{'id': 802, 'main': 'Clouds', 'description': ...</td>\n",
       "      <td>0.0</td>\n",
       "      <td>NaN</td>\n",
       "    </tr>\n",
       "    <tr>\n",
       "      <th>1</th>\n",
       "      <td>1632636000</td>\n",
       "      <td>30.13</td>\n",
       "      <td>35.61</td>\n",
       "      <td>1011</td>\n",
       "      <td>71</td>\n",
       "      <td>24.29</td>\n",
       "      <td>8.00</td>\n",
       "      <td>32</td>\n",
       "      <td>10000</td>\n",
       "      <td>5.92</td>\n",
       "      <td>86</td>\n",
       "      <td>6.69</td>\n",
       "      <td>[{'id': 802, 'main': 'Clouds', 'description': ...</td>\n",
       "      <td>0.0</td>\n",
       "      <td>NaN</td>\n",
       "    </tr>\n",
       "    <tr>\n",
       "      <th>2</th>\n",
       "      <td>1632639600</td>\n",
       "      <td>29.91</td>\n",
       "      <td>34.36</td>\n",
       "      <td>1011</td>\n",
       "      <td>68</td>\n",
       "      <td>23.36</td>\n",
       "      <td>5.33</td>\n",
       "      <td>29</td>\n",
       "      <td>10000</td>\n",
       "      <td>5.54</td>\n",
       "      <td>89</td>\n",
       "      <td>6.40</td>\n",
       "      <td>[{'id': 500, 'main': 'Rain', 'description': 'l...</td>\n",
       "      <td>0.2</td>\n",
       "      <td>{'1h': 0.1}</td>\n",
       "    </tr>\n",
       "    <tr>\n",
       "      <th>3</th>\n",
       "      <td>1632643200</td>\n",
       "      <td>29.57</td>\n",
       "      <td>33.38</td>\n",
       "      <td>1010</td>\n",
       "      <td>67</td>\n",
       "      <td>22.79</td>\n",
       "      <td>2.63</td>\n",
       "      <td>31</td>\n",
       "      <td>10000</td>\n",
       "      <td>5.03</td>\n",
       "      <td>93</td>\n",
       "      <td>5.87</td>\n",
       "      <td>[{'id': 802, 'main': 'Clouds', 'description': ...</td>\n",
       "      <td>0.0</td>\n",
       "      <td>NaN</td>\n",
       "    </tr>\n",
       "    <tr>\n",
       "      <th>4</th>\n",
       "      <td>1632646800</td>\n",
       "      <td>28.98</td>\n",
       "      <td>31.80</td>\n",
       "      <td>1010</td>\n",
       "      <td>65</td>\n",
       "      <td>21.74</td>\n",
       "      <td>0.83</td>\n",
       "      <td>25</td>\n",
       "      <td>10000</td>\n",
       "      <td>4.67</td>\n",
       "      <td>96</td>\n",
       "      <td>5.62</td>\n",
       "      <td>[{'id': 802, 'main': 'Clouds', 'description': ...</td>\n",
       "      <td>0.0</td>\n",
       "      <td>NaN</td>\n",
       "    </tr>\n",
       "  </tbody>\n",
       "</table>\n",
       "</div>"
      ],
      "text/plain": [
       "           dt   temp  feels_like  pressure  humidity  dew_point   uvi  clouds  \\\n",
       "0  1632632400  30.31       36.61      1011        73      24.93  9.79      33   \n",
       "1  1632636000  30.13       35.61      1011        71      24.29  8.00      32   \n",
       "2  1632639600  29.91       34.36      1011        68      23.36  5.33      29   \n",
       "3  1632643200  29.57       33.38      1010        67      22.79  2.63      31   \n",
       "4  1632646800  28.98       31.80      1010        65      21.74  0.83      25   \n",
       "\n",
       "   visibility  wind_speed  wind_deg  wind_gust  \\\n",
       "0       10000        6.26        81       7.04   \n",
       "1       10000        5.92        86       6.69   \n",
       "2       10000        5.54        89       6.40   \n",
       "3       10000        5.03        93       5.87   \n",
       "4       10000        4.67        96       5.62   \n",
       "\n",
       "                                             weather  pop         rain  \n",
       "0  [{'id': 802, 'main': 'Clouds', 'description': ...  0.0          NaN  \n",
       "1  [{'id': 802, 'main': 'Clouds', 'description': ...  0.0          NaN  \n",
       "2  [{'id': 500, 'main': 'Rain', 'description': 'l...  0.2  {'1h': 0.1}  \n",
       "3  [{'id': 802, 'main': 'Clouds', 'description': ...  0.0          NaN  \n",
       "4  [{'id': 802, 'main': 'Clouds', 'description': ...  0.0          NaN  "
      ]
     },
     "execution_count": 10,
     "metadata": {},
     "output_type": "execute_result"
    }
   ],
   "source": [
    "df_hourly.head()"
   ]
  },
  {
   "cell_type": "code",
   "execution_count": null,
   "metadata": {},
   "outputs": [],
   "source": []
  }
 ],
 "metadata": {
  "interpreter": {
   "hash": "c1b4cfe941b6d2466ad1fb5979e97da9cda8801728c8091b097ab734208fc00c"
  },
  "kernelspec": {
   "display_name": "Python 3.8.3 64-bit ('base': conda)",
   "name": "python3"
  },
  "language_info": {
   "codemirror_mode": {
    "name": "ipython",
    "version": 3
   },
   "file_extension": ".py",
   "mimetype": "text/x-python",
   "name": "python",
   "nbconvert_exporter": "python",
   "pygments_lexer": "ipython3",
   "version": "3.8.12"
  }
 },
 "nbformat": 4,
 "nbformat_minor": 2
}
