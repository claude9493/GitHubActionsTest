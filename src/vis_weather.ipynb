{
 "cells": [
  {
   "cell_type": "code",
   "execution_count": 1,
   "metadata": {
    "execution": {
     "iopub.execute_input": "2021-08-27T01:59:15.842674Z",
     "iopub.status.busy": "2021-08-27T01:59:15.842148Z",
     "iopub.status.idle": "2021-08-27T01:59:17.986484Z",
     "shell.execute_reply": "2021-08-27T01:59:17.985512Z"
    }
   },
   "outputs": [],
   "source": [
    "import json, yaml, requests\r\n",
    "from datetime import datetime\r\n",
    "from dateutil import tz\r\n",
    "import pandas as pd\r\n",
    "from PIL import Image\r\n",
    "from io import BytesIO\r\n",
    "import matplotlib.pyplot as plt\r\n",
    "import seaborn\r\n",
    "\r\n",
    "CONFIG_PATH = \"../config/config.yaml\""
   ]
  },
  {
   "cell_type": "code",
   "execution_count": 2,
   "metadata": {
    "execution": {
     "iopub.execute_input": "2021-08-27T01:59:17.991395Z",
     "iopub.status.busy": "2021-08-27T01:59:17.989128Z",
     "iopub.status.idle": "2021-08-27T01:59:17.996610Z",
     "shell.execute_reply": "2021-08-27T01:59:17.995958Z"
    }
   },
   "outputs": [],
   "source": [
    "with open('../newest_ts', 'r') as f:\r\n",
    "    newest_ts = f.read()\r\n",
    "\r\n",
    "data_path = f\"../data/data_{newest_ts}.json\"\r\n",
    "with open(data_path, 'r') as f:\r\n",
    "    data = json.load(f)\r\n",
    "\r\n",
    "with open(CONFIG_PATH, \"r\") as stream:\r\n",
    "    config = yaml.safe_load(stream)\r\n",
    "\r\n",
    "TIME_ZONE = config['time_zone']\r\n",
    "DATETIME_FORMAT = config['dt_format']"
   ]
  },
  {
   "cell_type": "code",
   "execution_count": 3,
   "metadata": {
    "execution": {
     "iopub.execute_input": "2021-08-27T01:59:18.001136Z",
     "iopub.status.busy": "2021-08-27T01:59:18.000606Z",
     "iopub.status.idle": "2021-08-27T01:59:18.006272Z",
     "shell.execute_reply": "2021-08-27T01:59:18.006682Z"
    }
   },
   "outputs": [
    {
     "name": "stdout",
     "output_type": "stream",
     "text": [
      "Recent query happens at 2021-08-27 09:59:13 (CST).\n"
     ]
    }
   ],
   "source": [
    "def ts2dt(ts, format=DATETIME_FORMAT):\r\n",
    "    dt = (datetime.utcfromtimestamp(int(ts))\r\n",
    "                    .replace(tzinfo=tz.tzutc())\r\n",
    "                    # .astimezone(tz.tzlocal())\r\n",
    "                    .astimezone(tz.gettz(TIME_ZONE)))\r\n",
    "    return dt.strftime(format), dt\r\n",
    "\r\n",
    "_, newest_dt = ts2dt(newest_ts)\r\n",
    "print(f\"Recent query happens at {newest_dt.strftime(DATETIME_FORMAT)} ({newest_dt.tzname()}).\")"
   ]
  },
  {
   "cell_type": "code",
   "execution_count": 4,
   "metadata": {
    "execution": {
     "iopub.execute_input": "2021-08-27T01:59:18.011274Z",
     "iopub.status.busy": "2021-08-27T01:59:18.010817Z",
     "iopub.status.idle": "2021-08-27T01:59:18.013618Z",
     "shell.execute_reply": "2021-08-27T01:59:18.013197Z"
    }
   },
   "outputs": [],
   "source": [
    "def degrees_to_cardinal(d):\r\n",
    "  dirs = ['N', 'NNE', 'NE', 'ENE', 'E', 'ESE', 'SE', 'SSE', 'S', 'SSW', 'SW', 'WSW', 'W', 'WNW', 'NW', 'NNW']\r\n",
    "  ix = int(round(d / (360. / len(dirs))))\r\n",
    "  return dirs[ix % len(dirs)]"
   ]
  },
  {
   "cell_type": "code",
   "execution_count": 5,
   "metadata": {
    "execution": {
     "iopub.execute_input": "2021-08-27T01:59:18.017726Z",
     "iopub.status.busy": "2021-08-27T01:59:18.016641Z",
     "iopub.status.idle": "2021-08-27T01:59:18.018398Z",
     "shell.execute_reply": "2021-08-27T01:59:18.018824Z"
    }
   },
   "outputs": [],
   "source": [
    "# data.keys()"
   ]
  },
  {
   "cell_type": "code",
   "execution_count": 6,
   "metadata": {
    "execution": {
     "iopub.execute_input": "2021-08-27T01:59:18.022138Z",
     "iopub.status.busy": "2021-08-27T01:59:18.021605Z",
     "iopub.status.idle": "2021-08-27T01:59:18.023851Z",
     "shell.execute_reply": "2021-08-27T01:59:18.023504Z"
    }
   },
   "outputs": [],
   "source": [
    "# data['current']"
   ]
  },
  {
   "cell_type": "code",
   "execution_count": 7,
   "metadata": {
    "execution": {
     "iopub.execute_input": "2021-08-27T01:59:18.040490Z",
     "iopub.status.busy": "2021-08-27T01:59:18.029614Z",
     "iopub.status.idle": "2021-08-27T01:59:18.474746Z",
     "shell.execute_reply": "2021-08-27T01:59:18.475502Z"
    }
   },
   "outputs": [
    {
     "data": {
      "image/png": "[encoded data removed]",
      "text/plain": [
       "<Figure size 216x216 with 1 Axes>"
      ]
     },
     "metadata": {
      "needs_background": "light"
     },
     "output_type": "display_data"
    },
    {
     "name": "stdout",
     "output_type": "stream",
     "text": [
      "Today, sun rises at 06:04 and sets at 18:45.\n",
      "Currently, the weather is Rain (heavy intensity rain).\n",
      "The temperature is 26.75°C and it feels like 28.66°C.\n",
      "The UV index is 7.01, humidity is 73%.\n",
      "The pressure is 1012 hPa, percentage of cloud cover is 12%\n",
      "The wind comes from ENE direction with a speed 6.13 m/s.\n"
     ]
    }
   ],
   "source": [
    "current = data['current']\r\n",
    "\r\n",
    "fig, ax = plt.subplots(figsize=(3, 3))\r\n",
    "icon = requests.get(f\"http://openweathermap.org/img/wn/{current['weather'][0]['icon']}@2x.png\")\r\n",
    "im = Image.open(BytesIO(icon.content))\r\n",
    "plt.imshow(im)\r\n",
    "ax.set_axis_off()\r\n",
    "plt.show()\r\n",
    "\r\n",
    "print(f\"Today, sun rises at {ts2dt(current['sunrise'], '%H:%M')[0]} \\\r\n",
    "and sets at {ts2dt(current['sunset'], '%H:%M')[0]}.\\n\\\r\n",
    "Currently, the weather is {current['weather'][0]['main']} ({current['weather'][0]['description']}).\\n\\\r\n",
    "The temperature is {current['temp']}°C and it feels like {current['feels_like']}°C.\\n\\\r\n",
    "The UV index is {current['uvi']}, humidity is {current['humidity']}%.\\n\\\r\n",
    "The pressure is {current['pressure']} hPa, percentage of cloud cover is {current['clouds']}%\\n\\\r\n",
    "The wind comes from {degrees_to_cardinal(current['wind_deg'])} direction with a speed {current['wind_speed']} m/s.\")"
   ]
  },
  {
   "cell_type": "code",
   "execution_count": 8,
   "metadata": {
    "execution": {
     "iopub.execute_input": "2021-08-27T01:59:18.479401Z",
     "iopub.status.busy": "2021-08-27T01:59:18.478488Z",
     "iopub.status.idle": "2021-08-27T01:59:18.485784Z",
     "shell.execute_reply": "2021-08-27T01:59:18.486582Z"
    }
   },
   "outputs": [],
   "source": [
    "df_hourly = pd.DataFrame(data['hourly'])\r\n",
    "df_daily = pd.DataFrame(data['daily'])"
   ]
  },
  {
   "cell_type": "code",
   "execution_count": 9,
   "metadata": {
    "execution": {
     "iopub.execute_input": "2021-08-27T01:59:18.489708Z",
     "iopub.status.busy": "2021-08-27T01:59:18.488807Z",
     "iopub.status.idle": "2021-08-27T01:59:18.766100Z",
     "shell.execute_reply": "2021-08-27T01:59:18.766508Z"
    }
   },
   "outputs": [
    {
     "data": {
      "image/png": "[encoded data removed]",
      "text/plain": [
       "<Figure size 864x432 with 1 Axes>"
      ]
     },
     "metadata": {
      "needs_background": "light"
     },
     "output_type": "display_data"
    }
   ],
   "source": [
    "fig, ax = plt.subplots(figsize=(12, 6))\r\n",
    "plt.plot(df_hourly.temp, '.-', label='Temperature')\r\n",
    "plt.plot(df_hourly.feels_like, '.-', label='Feels Like')\r\n",
    "ax.set(title='Temperature in future 48 hours', xlabel='Time', ylabel='Temperature')\r\n",
    "ax.set_xticks(list(range(0, len(df_hourly), 2)))\r\n",
    "ax.set_xticklabels([ts2dt(ts, '%m-%d %H:%M')[0] for i, ts in enumerate(df_hourly.dt) if i%2==0], \r\n",
    "                   rotation=45, ha=\"right\")\r\n",
    "ax.locator_params(nbins=15, axis='y')\r\n",
    "plt.legend()\r\n",
    "plt.show()"
   ]
  },
  {
   "cell_type": "code",
   "execution_count": 10,
   "metadata": {
    "execution": {
     "iopub.execute_input": "2021-08-27T01:59:18.771199Z",
     "iopub.status.busy": "2021-08-27T01:59:18.770525Z",
     "iopub.status.idle": "2021-08-27T01:59:18.788014Z",
     "shell.execute_reply": "2021-08-27T01:59:18.788451Z"
    }
   },
   "outputs": [
    {
     "data": {
      "text/html": [
       "<div>\n",
       "<style scoped>\n",
       "    .dataframe tbody tr th:only-of-type {\n",
       "        vertical-align: middle;\n",
       "    }\n",
       "\n",
       "    .dataframe tbody tr th {\n",
       "        vertical-align: top;\n",
       "    }\n",
       "\n",
       "    .dataframe thead th {\n",
       "        text-align: right;\n",
       "    }\n",
       "</style>\n",
       "<table border=\"1\" class=\"dataframe\">\n",
       "  <thead>\n",
       "    <tr style=\"text-align: right;\">\n",
       "      <th></th>\n",
       "      <th>dt</th>\n",
       "      <th>temp</th>\n",
       "      <th>feels_like</th>\n",
       "      <th>pressure</th>\n",
       "      <th>humidity</th>\n",
       "      <th>dew_point</th>\n",
       "      <th>uvi</th>\n",
       "      <th>clouds</th>\n",
       "      <th>visibility</th>\n",
       "      <th>wind_speed</th>\n",
       "      <th>wind_deg</th>\n",
       "      <th>wind_gust</th>\n",
       "      <th>weather</th>\n",
       "      <th>pop</th>\n",
       "      <th>rain</th>\n",
       "    </tr>\n",
       "  </thead>\n",
       "  <tbody>\n",
       "    <tr>\n",
       "      <th>0</th>\n",
       "      <td>1630026000</td>\n",
       "      <td>27.12</td>\n",
       "      <td>29.42</td>\n",
       "      <td>1012</td>\n",
       "      <td>74</td>\n",
       "      <td>22.08</td>\n",
       "      <td>3.94</td>\n",
       "      <td>13</td>\n",
       "      <td>10000</td>\n",
       "      <td>5.55</td>\n",
       "      <td>73</td>\n",
       "      <td>6.59</td>\n",
       "      <td>[{'id': 801, 'main': 'Clouds', 'description': ...</td>\n",
       "      <td>0.76</td>\n",
       "      <td>NaN</td>\n",
       "    </tr>\n",
       "    <tr>\n",
       "      <th>1</th>\n",
       "      <td>1630029600</td>\n",
       "      <td>26.75</td>\n",
       "      <td>28.66</td>\n",
       "      <td>1012</td>\n",
       "      <td>73</td>\n",
       "      <td>21.51</td>\n",
       "      <td>7.01</td>\n",
       "      <td>12</td>\n",
       "      <td>10000</td>\n",
       "      <td>6.13</td>\n",
       "      <td>76</td>\n",
       "      <td>6.92</td>\n",
       "      <td>[{'id': 502, 'main': 'Rain', 'description': 'h...</td>\n",
       "      <td>0.66</td>\n",
       "      <td>{'1h': 6.48}</td>\n",
       "    </tr>\n",
       "    <tr>\n",
       "      <th>2</th>\n",
       "      <td>1630033200</td>\n",
       "      <td>27.32</td>\n",
       "      <td>29.61</td>\n",
       "      <td>1012</td>\n",
       "      <td>72</td>\n",
       "      <td>21.83</td>\n",
       "      <td>9.83</td>\n",
       "      <td>12</td>\n",
       "      <td>10000</td>\n",
       "      <td>6.15</td>\n",
       "      <td>76</td>\n",
       "      <td>7.08</td>\n",
       "      <td>[{'id': 502, 'main': 'Rain', 'description': 'h...</td>\n",
       "      <td>0.63</td>\n",
       "      <td>{'1h': 8.65}</td>\n",
       "    </tr>\n",
       "    <tr>\n",
       "      <th>3</th>\n",
       "      <td>1630036800</td>\n",
       "      <td>28.07</td>\n",
       "      <td>30.80</td>\n",
       "      <td>1012</td>\n",
       "      <td>70</td>\n",
       "      <td>22.08</td>\n",
       "      <td>11.55</td>\n",
       "      <td>12</td>\n",
       "      <td>10000</td>\n",
       "      <td>6.39</td>\n",
       "      <td>82</td>\n",
       "      <td>7.27</td>\n",
       "      <td>[{'id': 502, 'main': 'Rain', 'description': 'h...</td>\n",
       "      <td>0.60</td>\n",
       "      <td>{'1h': 6.48}</td>\n",
       "    </tr>\n",
       "    <tr>\n",
       "      <th>4</th>\n",
       "      <td>1630040400</td>\n",
       "      <td>28.77</td>\n",
       "      <td>31.89</td>\n",
       "      <td>1011</td>\n",
       "      <td>68</td>\n",
       "      <td>22.28</td>\n",
       "      <td>11.36</td>\n",
       "      <td>17</td>\n",
       "      <td>10000</td>\n",
       "      <td>6.74</td>\n",
       "      <td>89</td>\n",
       "      <td>7.45</td>\n",
       "      <td>[{'id': 801, 'main': 'Clouds', 'description': ...</td>\n",
       "      <td>0.60</td>\n",
       "      <td>NaN</td>\n",
       "    </tr>\n",
       "  </tbody>\n",
       "</table>\n",
       "</div>"
      ],
      "text/plain": [
       "           dt   temp  feels_like  pressure  humidity  dew_point    uvi  \\\n",
       "0  1630026000  27.12       29.42      1012        74      22.08   3.94   \n",
       "1  1630029600  26.75       28.66      1012        73      21.51   7.01   \n",
       "2  1630033200  27.32       29.61      1012        72      21.83   9.83   \n",
       "3  1630036800  28.07       30.80      1012        70      22.08  11.55   \n",
       "4  1630040400  28.77       31.89      1011        68      22.28  11.36   \n",
       "\n",
       "   clouds  visibility  wind_speed  wind_deg  wind_gust  \\\n",
       "0      13       10000        5.55        73       6.59   \n",
       "1      12       10000        6.13        76       6.92   \n",
       "2      12       10000        6.15        76       7.08   \n",
       "3      12       10000        6.39        82       7.27   \n",
       "4      17       10000        6.74        89       7.45   \n",
       "\n",
       "                                             weather   pop          rain  \n",
       "0  [{'id': 801, 'main': 'Clouds', 'description': ...  0.76           NaN  \n",
       "1  [{'id': 502, 'main': 'Rain', 'description': 'h...  0.66  {'1h': 6.48}  \n",
       "2  [{'id': 502, 'main': 'Rain', 'description': 'h...  0.63  {'1h': 8.65}  \n",
       "3  [{'id': 502, 'main': 'Rain', 'description': 'h...  0.60  {'1h': 6.48}  \n",
       "4  [{'id': 801, 'main': 'Clouds', 'description': ...  0.60           NaN  "
      ]
     },
     "execution_count": 10,
     "metadata": {},
     "output_type": "execute_result"
    }
   ],
   "source": [
    "df_hourly.head()"
   ]
  },
  {
   "cell_type": "code",
   "execution_count": null,
   "metadata": {},
   "outputs": [],
   "source": []
  }
 ],
 "metadata": {
  "interpreter": {
   "hash": "c1b4cfe941b6d2466ad1fb5979e97da9cda8801728c8091b097ab734208fc00c"
  },
  "kernelspec": {
   "display_name": "Python 3.8.3 64-bit ('base': conda)",
   "name": "python3"
  },
  "language_info": {
   "codemirror_mode": {
    "name": "ipython",
    "version": 3
   },
   "file_extension": ".py",
   "mimetype": "text/x-python",
   "name": "python",
   "nbconvert_exporter": "python",
   "pygments_lexer": "ipython3",
   "version": "3.8.11"
  }
 },
 "nbformat": 4,
 "nbformat_minor": 2
}
