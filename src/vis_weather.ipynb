{
 "cells": [
  {
   "cell_type": "code",
   "execution_count": 1,
   "metadata": {
    "execution": {
     "iopub.execute_input": "2021-10-23T04:15:00.366575Z",
     "iopub.status.busy": "2021-10-23T04:15:00.365985Z",
     "iopub.status.idle": "2021-10-23T04:15:03.637534Z",
     "shell.execute_reply": "2021-10-23T04:15:03.636932Z"
    }
   },
   "outputs": [],
   "source": [
    "import json, yaml, requests\r\n",
    "from datetime import datetime\r\n",
    "from dateutil import tz\r\n",
    "import pandas as pd\r\n",
    "from PIL import Image\r\n",
    "from io import BytesIO\r\n",
    "import matplotlib.pyplot as plt\r\n",
    "import seaborn\r\n",
    "\r\n",
    "CONFIG_PATH = \"../config/config.yaml\""
   ]
  },
  {
   "cell_type": "code",
   "execution_count": 2,
   "metadata": {
    "execution": {
     "iopub.execute_input": "2021-10-23T04:15:03.643306Z",
     "iopub.status.busy": "2021-10-23T04:15:03.642635Z",
     "iopub.status.idle": "2021-10-23T04:15:03.648890Z",
     "shell.execute_reply": "2021-10-23T04:15:03.648387Z"
    }
   },
   "outputs": [],
   "source": [
    "with open('../newest_ts', 'r') as f:\r\n",
    "    newest_ts = f.read()\r\n",
    "\r\n",
    "data_path = f\"../data/data_{newest_ts}.json\"\r\n",
    "with open(data_path, 'r') as f:\r\n",
    "    data = json.load(f)\r\n",
    "\r\n",
    "with open(CONFIG_PATH, \"r\") as stream:\r\n",
    "    config = yaml.safe_load(stream)\r\n",
    "\r\n",
    "TIME_ZONE = config['time_zone']\r\n",
    "DATETIME_FORMAT = config['dt_format']"
   ]
  },
  {
   "cell_type": "code",
   "execution_count": 3,
   "metadata": {
    "execution": {
     "iopub.execute_input": "2021-10-23T04:15:03.656046Z",
     "iopub.status.busy": "2021-10-23T04:15:03.654070Z",
     "iopub.status.idle": "2021-10-23T04:15:03.660391Z",
     "shell.execute_reply": "2021-10-23T04:15:03.660884Z"
    }
   },
   "outputs": [
    {
     "name": "stdout",
     "output_type": "stream",
     "text": [
      "Recent query happens at 2021-10-23 12:14:56 (CST).\n"
     ]
    }
   ],
   "source": [
    "def ts2dt(ts, format=DATETIME_FORMAT):\r\n",
    "    dt = (datetime.utcfromtimestamp(int(ts))\r\n",
    "                    .replace(tzinfo=tz.tzutc())\r\n",
    "                    # .astimezone(tz.tzlocal())\r\n",
    "                    .astimezone(tz.gettz(TIME_ZONE)))\r\n",
    "    return dt.strftime(format), dt\r\n",
    "\r\n",
    "_, newest_dt = ts2dt(newest_ts)\r\n",
    "print(f\"Recent query happens at {newest_dt.strftime(DATETIME_FORMAT)} ({newest_dt.tzname()}).\")"
   ]
  },
  {
   "cell_type": "code",
   "execution_count": 4,
   "metadata": {
    "execution": {
     "iopub.execute_input": "2021-10-23T04:15:03.667957Z",
     "iopub.status.busy": "2021-10-23T04:15:03.665880Z",
     "iopub.status.idle": "2021-10-23T04:15:03.668593Z",
     "shell.execute_reply": "2021-10-23T04:15:03.669067Z"
    }
   },
   "outputs": [],
   "source": [
    "def degrees_to_cardinal(d):\r\n",
    "  dirs = ['N', 'NNE', 'NE', 'ENE', 'E', 'ESE', 'SE', 'SSE', 'S', 'SSW', 'SW', 'WSW', 'W', 'WNW', 'NW', 'NNW']\r\n",
    "  ix = int(round(d / (360. / len(dirs))))\r\n",
    "  return dirs[ix % len(dirs)]"
   ]
  },
  {
   "cell_type": "code",
   "execution_count": 5,
   "metadata": {
    "execution": {
     "iopub.execute_input": "2021-10-23T04:15:03.672890Z",
     "iopub.status.busy": "2021-10-23T04:15:03.672278Z",
     "iopub.status.idle": "2021-10-23T04:15:03.674495Z",
     "shell.execute_reply": "2021-10-23T04:15:03.674983Z"
    }
   },
   "outputs": [],
   "source": [
    "# data.keys()"
   ]
  },
  {
   "cell_type": "code",
   "execution_count": 6,
   "metadata": {
    "execution": {
     "iopub.execute_input": "2021-10-23T04:15:03.678562Z",
     "iopub.status.busy": "2021-10-23T04:15:03.678015Z",
     "iopub.status.idle": "2021-10-23T04:15:03.680500Z",
     "shell.execute_reply": "2021-10-23T04:15:03.680924Z"
    }
   },
   "outputs": [],
   "source": [
    "# data['current']"
   ]
  },
  {
   "cell_type": "code",
   "execution_count": 7,
   "metadata": {
    "execution": {
     "iopub.execute_input": "2021-10-23T04:15:03.702332Z",
     "iopub.status.busy": "2021-10-23T04:15:03.701783Z",
     "iopub.status.idle": "2021-10-23T04:15:04.114510Z",
     "shell.execute_reply": "2021-10-23T04:15:04.115338Z"
    }
   },
   "outputs": [
    {
     "data": {
      "image/png": "[encoded data removed]",
      "text/plain": [
       "<Figure size 216x216 with 1 Axes>"
      ]
     },
     "metadata": {
      "needs_background": "light"
     },
     "output_type": "display_data"
    },
    {
     "name": "stdout",
     "output_type": "stream",
     "text": [
      "Today, sun rises at 06:22 and sets at 17:51.\n",
      "Currently, the weather is Clouds (broken clouds).\n",
      "The temperature is 21.7°C and it feels like 21.91°C.\n",
      "The UV index is 7.64, humidity is 76%.\n",
      "The pressure is 1019 hPa, percentage of cloud cover is 60%\n",
      "The wind comes from NE direction with a speed 3.03 m/s.\n"
     ]
    }
   ],
   "source": [
    "current = data['current']\r\n",
    "\r\n",
    "fig, ax = plt.subplots(figsize=(3, 3))\r\n",
    "icon = requests.get(f\"http://openweathermap.org/img/wn/{current['weather'][0]['icon']}@2x.png\")\r\n",
    "im = Image.open(BytesIO(icon.content))\r\n",
    "plt.imshow(im)\r\n",
    "ax.set_axis_off()\r\n",
    "plt.show()\r\n",
    "\r\n",
    "print(f\"Today, sun rises at {ts2dt(current['sunrise'], '%H:%M')[0]} \\\r\n",
    "and sets at {ts2dt(current['sunset'], '%H:%M')[0]}.\\n\\\r\n",
    "Currently, the weather is {current['weather'][0]['main']} ({current['weather'][0]['description']}).\\n\\\r\n",
    "The temperature is {current['temp']}°C and it feels like {current['feels_like']}°C.\\n\\\r\n",
    "The UV index is {current['uvi']}, humidity is {current['humidity']}%.\\n\\\r\n",
    "The pressure is {current['pressure']} hPa, percentage of cloud cover is {current['clouds']}%\\n\\\r\n",
    "The wind comes from {degrees_to_cardinal(current['wind_deg'])} direction with a speed {current['wind_speed']} m/s.\")"
   ]
  },
  {
   "cell_type": "code",
   "execution_count": 8,
   "metadata": {
    "execution": {
     "iopub.execute_input": "2021-10-23T04:15:04.118901Z",
     "iopub.status.busy": "2021-10-23T04:15:04.118300Z",
     "iopub.status.idle": "2021-10-23T04:15:04.126372Z",
     "shell.execute_reply": "2021-10-23T04:15:04.127382Z"
    }
   },
   "outputs": [],
   "source": [
    "df_hourly = pd.DataFrame(data['hourly'])\r\n",
    "df_daily = pd.DataFrame(data['daily'])"
   ]
  },
  {
   "cell_type": "code",
   "execution_count": 9,
   "metadata": {
    "execution": {
     "iopub.execute_input": "2021-10-23T04:15:04.131194Z",
     "iopub.status.busy": "2021-10-23T04:15:04.130611Z",
     "iopub.status.idle": "2021-10-23T04:15:04.485949Z",
     "shell.execute_reply": "2021-10-23T04:15:04.486434Z"
    }
   },
   "outputs": [
    {
     "data": {
      "image/png": "[encoded data removed]",
      "text/plain": [
       "<Figure size 864x432 with 1 Axes>"
      ]
     },
     "metadata": {
      "needs_background": "light"
     },
     "output_type": "display_data"
    }
   ],
   "source": [
    "fig, ax = plt.subplots(figsize=(12, 6))\r\n",
    "plt.plot(df_hourly.temp, '.-', label='Temperature')\r\n",
    "plt.plot(df_hourly.feels_like, '.-', label='Feels Like')\r\n",
    "ax.set(title='Temperature in future 48 hours', xlabel='Time', ylabel='Temperature')\r\n",
    "ax.set_xticks(list(range(0, len(df_hourly), 2)))\r\n",
    "ax.set_xticklabels([ts2dt(ts, '%m-%d %H:%M')[0] for i, ts in enumerate(df_hourly.dt) if i%2==0], \r\n",
    "                   rotation=45, ha=\"right\")\r\n",
    "ax.locator_params(nbins=15, axis='y')\r\n",
    "plt.legend()\r\n",
    "plt.show()"
   ]
  },
  {
   "cell_type": "code",
   "execution_count": 10,
   "metadata": {
    "execution": {
     "iopub.execute_input": "2021-10-23T04:15:04.499371Z",
     "iopub.status.busy": "2021-10-23T04:15:04.491309Z",
     "iopub.status.idle": "2021-10-23T04:15:04.510757Z",
     "shell.execute_reply": "2021-10-23T04:15:04.511349Z"
    }
   },
   "outputs": [
    {
     "data": {
      "text/html": [
       "<div>\n",
       "<style scoped>\n",
       "    .dataframe tbody tr th:only-of-type {\n",
       "        vertical-align: middle;\n",
       "    }\n",
       "\n",
       "    .dataframe tbody tr th {\n",
       "        vertical-align: top;\n",
       "    }\n",
       "\n",
       "    .dataframe thead th {\n",
       "        text-align: right;\n",
       "    }\n",
       "</style>\n",
       "<table border=\"1\" class=\"dataframe\">\n",
       "  <thead>\n",
       "    <tr style=\"text-align: right;\">\n",
       "      <th></th>\n",
       "      <th>dt</th>\n",
       "      <th>temp</th>\n",
       "      <th>feels_like</th>\n",
       "      <th>pressure</th>\n",
       "      <th>humidity</th>\n",
       "      <th>dew_point</th>\n",
       "      <th>uvi</th>\n",
       "      <th>clouds</th>\n",
       "      <th>visibility</th>\n",
       "      <th>wind_speed</th>\n",
       "      <th>wind_deg</th>\n",
       "      <th>wind_gust</th>\n",
       "      <th>weather</th>\n",
       "      <th>pop</th>\n",
       "    </tr>\n",
       "  </thead>\n",
       "  <tbody>\n",
       "    <tr>\n",
       "      <th>0</th>\n",
       "      <td>1634961600</td>\n",
       "      <td>21.70</td>\n",
       "      <td>21.91</td>\n",
       "      <td>1019</td>\n",
       "      <td>76</td>\n",
       "      <td>17.29</td>\n",
       "      <td>7.64</td>\n",
       "      <td>60</td>\n",
       "      <td>10000</td>\n",
       "      <td>3.03</td>\n",
       "      <td>41</td>\n",
       "      <td>3.95</td>\n",
       "      <td>[{'id': 803, 'main': 'Clouds', 'description': ...</td>\n",
       "      <td>0.0</td>\n",
       "    </tr>\n",
       "    <tr>\n",
       "      <th>1</th>\n",
       "      <td>1634965200</td>\n",
       "      <td>21.94</td>\n",
       "      <td>22.10</td>\n",
       "      <td>1019</td>\n",
       "      <td>73</td>\n",
       "      <td>16.88</td>\n",
       "      <td>7.49</td>\n",
       "      <td>59</td>\n",
       "      <td>10000</td>\n",
       "      <td>3.15</td>\n",
       "      <td>46</td>\n",
       "      <td>3.52</td>\n",
       "      <td>[{'id': 803, 'main': 'Clouds', 'description': ...</td>\n",
       "      <td>0.0</td>\n",
       "    </tr>\n",
       "    <tr>\n",
       "      <th>2</th>\n",
       "      <td>1634968800</td>\n",
       "      <td>22.24</td>\n",
       "      <td>22.35</td>\n",
       "      <td>1019</td>\n",
       "      <td>70</td>\n",
       "      <td>16.51</td>\n",
       "      <td>6.02</td>\n",
       "      <td>57</td>\n",
       "      <td>10000</td>\n",
       "      <td>2.97</td>\n",
       "      <td>57</td>\n",
       "      <td>3.09</td>\n",
       "      <td>[{'id': 803, 'main': 'Clouds', 'description': ...</td>\n",
       "      <td>0.0</td>\n",
       "    </tr>\n",
       "    <tr>\n",
       "      <th>3</th>\n",
       "      <td>1634972400</td>\n",
       "      <td>22.47</td>\n",
       "      <td>22.52</td>\n",
       "      <td>1018</td>\n",
       "      <td>67</td>\n",
       "      <td>16.04</td>\n",
       "      <td>3.88</td>\n",
       "      <td>54</td>\n",
       "      <td>10000</td>\n",
       "      <td>2.62</td>\n",
       "      <td>62</td>\n",
       "      <td>2.98</td>\n",
       "      <td>[{'id': 803, 'main': 'Clouds', 'description': ...</td>\n",
       "      <td>0.0</td>\n",
       "    </tr>\n",
       "    <tr>\n",
       "      <th>4</th>\n",
       "      <td>1634976000</td>\n",
       "      <td>22.63</td>\n",
       "      <td>22.65</td>\n",
       "      <td>1018</td>\n",
       "      <td>65</td>\n",
       "      <td>15.72</td>\n",
       "      <td>1.78</td>\n",
       "      <td>57</td>\n",
       "      <td>10000</td>\n",
       "      <td>2.83</td>\n",
       "      <td>58</td>\n",
       "      <td>3.14</td>\n",
       "      <td>[{'id': 803, 'main': 'Clouds', 'description': ...</td>\n",
       "      <td>0.0</td>\n",
       "    </tr>\n",
       "  </tbody>\n",
       "</table>\n",
       "</div>"
      ],
      "text/plain": [
       "           dt   temp  feels_like  pressure  humidity  dew_point   uvi  clouds  \\\n",
       "0  1634961600  21.70       21.91      1019        76      17.29  7.64      60   \n",
       "1  1634965200  21.94       22.10      1019        73      16.88  7.49      59   \n",
       "2  1634968800  22.24       22.35      1019        70      16.51  6.02      57   \n",
       "3  1634972400  22.47       22.52      1018        67      16.04  3.88      54   \n",
       "4  1634976000  22.63       22.65      1018        65      15.72  1.78      57   \n",
       "\n",
       "   visibility  wind_speed  wind_deg  wind_gust  \\\n",
       "0       10000        3.03        41       3.95   \n",
       "1       10000        3.15        46       3.52   \n",
       "2       10000        2.97        57       3.09   \n",
       "3       10000        2.62        62       2.98   \n",
       "4       10000        2.83        58       3.14   \n",
       "\n",
       "                                             weather  pop  \n",
       "0  [{'id': 803, 'main': 'Clouds', 'description': ...  0.0  \n",
       "1  [{'id': 803, 'main': 'Clouds', 'description': ...  0.0  \n",
       "2  [{'id': 803, 'main': 'Clouds', 'description': ...  0.0  \n",
       "3  [{'id': 803, 'main': 'Clouds', 'description': ...  0.0  \n",
       "4  [{'id': 803, 'main': 'Clouds', 'description': ...  0.0  "
      ]
     },
     "execution_count": 10,
     "metadata": {},
     "output_type": "execute_result"
    }
   ],
   "source": [
    "df_hourly.head()"
   ]
  },
  {
   "cell_type": "code",
   "execution_count": null,
   "metadata": {},
   "outputs": [],
   "source": []
  }
 ],
 "metadata": {
  "interpreter": {
   "hash": "c1b4cfe941b6d2466ad1fb5979e97da9cda8801728c8091b097ab734208fc00c"
  },
  "kernelspec": {
   "display_name": "Python 3.8.3 64-bit ('base': conda)",
   "name": "python3"
  },
  "language_info": {
   "codemirror_mode": {
    "name": "ipython",
    "version": 3
   },
   "file_extension": ".py",
   "mimetype": "text/x-python",
   "name": "python",
   "nbconvert_exporter": "python",
   "pygments_lexer": "ipython3",
   "version": "3.8.12"
  }
 },
 "nbformat": 4,
 "nbformat_minor": 2
}
