{
 "cells": [
  {
   "cell_type": "code",
   "execution_count": 1,
   "metadata": {
    "execution": {
     "iopub.execute_input": "2021-09-03T05:36:09.600013Z",
     "iopub.status.busy": "2021-09-03T05:36:09.599433Z",
     "iopub.status.idle": "2021-09-03T05:36:11.960584Z",
     "shell.execute_reply": "2021-09-03T05:36:11.959982Z"
    }
   },
   "outputs": [],
   "source": [
    "import json, yaml, requests\r\n",
    "from datetime import datetime\r\n",
    "from dateutil import tz\r\n",
    "import pandas as pd\r\n",
    "from PIL import Image\r\n",
    "from io import BytesIO\r\n",
    "import matplotlib.pyplot as plt\r\n",
    "import seaborn\r\n",
    "\r\n",
    "CONFIG_PATH = \"../config/config.yaml\""
   ]
  },
  {
   "cell_type": "code",
   "execution_count": 2,
   "metadata": {
    "execution": {
     "iopub.execute_input": "2021-09-03T05:36:11.967862Z",
     "iopub.status.busy": "2021-09-03T05:36:11.965758Z",
     "iopub.status.idle": "2021-09-03T05:36:11.970957Z",
     "shell.execute_reply": "2021-09-03T05:36:11.970568Z"
    }
   },
   "outputs": [],
   "source": [
    "with open('../newest_ts', 'r') as f:\r\n",
    "    newest_ts = f.read()\r\n",
    "\r\n",
    "data_path = f\"../data/data_{newest_ts}.json\"\r\n",
    "with open(data_path, 'r') as f:\r\n",
    "    data = json.load(f)\r\n",
    "\r\n",
    "with open(CONFIG_PATH, \"r\") as stream:\r\n",
    "    config = yaml.safe_load(stream)\r\n",
    "\r\n",
    "TIME_ZONE = config['time_zone']\r\n",
    "DATETIME_FORMAT = config['dt_format']"
   ]
  },
  {
   "cell_type": "code",
   "execution_count": 3,
   "metadata": {
    "execution": {
     "iopub.execute_input": "2021-09-03T05:36:11.975023Z",
     "iopub.status.busy": "2021-09-03T05:36:11.974567Z",
     "iopub.status.idle": "2021-09-03T05:36:11.984908Z",
     "shell.execute_reply": "2021-09-03T05:36:11.985279Z"
    }
   },
   "outputs": [
    {
     "name": "stdout",
     "output_type": "stream",
     "text": [
      "Recent query happens at 2021-09-03 13:36:06 (CST).\n"
     ]
    }
   ],
   "source": [
    "def ts2dt(ts, format=DATETIME_FORMAT):\r\n",
    "    dt = (datetime.utcfromtimestamp(int(ts))\r\n",
    "                    .replace(tzinfo=tz.tzutc())\r\n",
    "                    # .astimezone(tz.tzlocal())\r\n",
    "                    .astimezone(tz.gettz(TIME_ZONE)))\r\n",
    "    return dt.strftime(format), dt\r\n",
    "\r\n",
    "_, newest_dt = ts2dt(newest_ts)\r\n",
    "print(f\"Recent query happens at {newest_dt.strftime(DATETIME_FORMAT)} ({newest_dt.tzname()}).\")"
   ]
  },
  {
   "cell_type": "code",
   "execution_count": 4,
   "metadata": {
    "execution": {
     "iopub.execute_input": "2021-09-03T05:36:11.989936Z",
     "iopub.status.busy": "2021-09-03T05:36:11.988953Z",
     "iopub.status.idle": "2021-09-03T05:36:11.990455Z",
     "shell.execute_reply": "2021-09-03T05:36:11.990817Z"
    }
   },
   "outputs": [],
   "source": [
    "def degrees_to_cardinal(d):\r\n",
    "  dirs = ['N', 'NNE', 'NE', 'ENE', 'E', 'ESE', 'SE', 'SSE', 'S', 'SSW', 'SW', 'WSW', 'W', 'WNW', 'NW', 'NNW']\r\n",
    "  ix = int(round(d / (360. / len(dirs))))\r\n",
    "  return dirs[ix % len(dirs)]"
   ]
  },
  {
   "cell_type": "code",
   "execution_count": 5,
   "metadata": {
    "execution": {
     "iopub.execute_input": "2021-09-03T05:36:11.994398Z",
     "iopub.status.busy": "2021-09-03T05:36:11.993496Z",
     "iopub.status.idle": "2021-09-03T05:36:11.995114Z",
     "shell.execute_reply": "2021-09-03T05:36:11.995476Z"
    }
   },
   "outputs": [],
   "source": [
    "# data.keys()"
   ]
  },
  {
   "cell_type": "code",
   "execution_count": 6,
   "metadata": {
    "execution": {
     "iopub.execute_input": "2021-09-03T05:36:11.998918Z",
     "iopub.status.busy": "2021-09-03T05:36:11.997974Z",
     "iopub.status.idle": "2021-09-03T05:36:11.999436Z",
     "shell.execute_reply": "2021-09-03T05:36:11.999798Z"
    }
   },
   "outputs": [],
   "source": [
    "# data['current']"
   ]
  },
  {
   "cell_type": "code",
   "execution_count": 7,
   "metadata": {
    "execution": {
     "iopub.execute_input": "2021-09-03T05:36:12.015871Z",
     "iopub.status.busy": "2021-09-03T05:36:12.015405Z",
     "iopub.status.idle": "2021-09-03T05:36:12.316819Z",
     "shell.execute_reply": "2021-09-03T05:36:12.317477Z"
    }
   },
   "outputs": [
    {
     "data": {
      "image/png": "[encoded data removed]",
      "text/plain": [
       "<Figure size 216x216 with 1 Axes>"
      ]
     },
     "metadata": {
      "needs_background": "light"
     },
     "output_type": "display_data"
    },
    {
     "name": "stdout",
     "output_type": "stream",
     "text": [
      "Today, sun rises at 06:06 and sets at 18:38.\n",
      "Currently, the weather is Clouds (broken clouds).\n",
      "The temperature is 32.65°C and it feels like 39.65°C.\n",
      "The UV index is 7.74, humidity is 72%.\n",
      "The pressure is 1006 hPa, percentage of cloud cover is 68%\n",
      "The wind comes from SE direction with a speed 3.29 m/s.\n"
     ]
    }
   ],
   "source": [
    "current = data['current']\r\n",
    "\r\n",
    "fig, ax = plt.subplots(figsize=(3, 3))\r\n",
    "icon = requests.get(f\"http://openweathermap.org/img/wn/{current['weather'][0]['icon']}@2x.png\")\r\n",
    "im = Image.open(BytesIO(icon.content))\r\n",
    "plt.imshow(im)\r\n",
    "ax.set_axis_off()\r\n",
    "plt.show()\r\n",
    "\r\n",
    "print(f\"Today, sun rises at {ts2dt(current['sunrise'], '%H:%M')[0]} \\\r\n",
    "and sets at {ts2dt(current['sunset'], '%H:%M')[0]}.\\n\\\r\n",
    "Currently, the weather is {current['weather'][0]['main']} ({current['weather'][0]['description']}).\\n\\\r\n",
    "The temperature is {current['temp']}°C and it feels like {current['feels_like']}°C.\\n\\\r\n",
    "The UV index is {current['uvi']}, humidity is {current['humidity']}%.\\n\\\r\n",
    "The pressure is {current['pressure']} hPa, percentage of cloud cover is {current['clouds']}%\\n\\\r\n",
    "The wind comes from {degrees_to_cardinal(current['wind_deg'])} direction with a speed {current['wind_speed']} m/s.\")"
   ]
  },
  {
   "cell_type": "code",
   "execution_count": 8,
   "metadata": {
    "execution": {
     "iopub.execute_input": "2021-09-03T05:36:12.320501Z",
     "iopub.status.busy": "2021-09-03T05:36:12.319605Z",
     "iopub.status.idle": "2021-09-03T05:36:12.326151Z",
     "shell.execute_reply": "2021-09-03T05:36:12.326756Z"
    }
   },
   "outputs": [],
   "source": [
    "df_hourly = pd.DataFrame(data['hourly'])\r\n",
    "df_daily = pd.DataFrame(data['daily'])"
   ]
  },
  {
   "cell_type": "code",
   "execution_count": 9,
   "metadata": {
    "execution": {
     "iopub.execute_input": "2021-09-03T05:36:12.329593Z",
     "iopub.status.busy": "2021-09-03T05:36:12.328703Z",
     "iopub.status.idle": "2021-09-03T05:36:12.573114Z",
     "shell.execute_reply": "2021-09-03T05:36:12.572694Z"
    }
   },
   "outputs": [
    {
     "data": {
      "image/png": "[encoded data removed]",
      "text/plain": [
       "<Figure size 864x432 with 1 Axes>"
      ]
     },
     "metadata": {
      "needs_background": "light"
     },
     "output_type": "display_data"
    }
   ],
   "source": [
    "fig, ax = plt.subplots(figsize=(12, 6))\r\n",
    "plt.plot(df_hourly.temp, '.-', label='Temperature')\r\n",
    "plt.plot(df_hourly.feels_like, '.-', label='Feels Like')\r\n",
    "ax.set(title='Temperature in future 48 hours', xlabel='Time', ylabel='Temperature')\r\n",
    "ax.set_xticks(list(range(0, len(df_hourly), 2)))\r\n",
    "ax.set_xticklabels([ts2dt(ts, '%m-%d %H:%M')[0] for i, ts in enumerate(df_hourly.dt) if i%2==0], \r\n",
    "                   rotation=45, ha=\"right\")\r\n",
    "ax.locator_params(nbins=15, axis='y')\r\n",
    "plt.legend()\r\n",
    "plt.show()"
   ]
  },
  {
   "cell_type": "code",
   "execution_count": 10,
   "metadata": {
    "execution": {
     "iopub.execute_input": "2021-09-03T05:36:12.583065Z",
     "iopub.status.busy": "2021-09-03T05:36:12.576357Z",
     "iopub.status.idle": "2021-09-03T05:36:12.592829Z",
     "shell.execute_reply": "2021-09-03T05:36:12.592390Z"
    }
   },
   "outputs": [
    {
     "data": {
      "text/html": [
       "<div>\n",
       "<style scoped>\n",
       "    .dataframe tbody tr th:only-of-type {\n",
       "        vertical-align: middle;\n",
       "    }\n",
       "\n",
       "    .dataframe tbody tr th {\n",
       "        vertical-align: top;\n",
       "    }\n",
       "\n",
       "    .dataframe thead th {\n",
       "        text-align: right;\n",
       "    }\n",
       "</style>\n",
       "<table border=\"1\" class=\"dataframe\">\n",
       "  <thead>\n",
       "    <tr style=\"text-align: right;\">\n",
       "      <th></th>\n",
       "      <th>dt</th>\n",
       "      <th>temp</th>\n",
       "      <th>feels_like</th>\n",
       "      <th>pressure</th>\n",
       "      <th>humidity</th>\n",
       "      <th>dew_point</th>\n",
       "      <th>uvi</th>\n",
       "      <th>clouds</th>\n",
       "      <th>visibility</th>\n",
       "      <th>wind_speed</th>\n",
       "      <th>wind_deg</th>\n",
       "      <th>wind_gust</th>\n",
       "      <th>weather</th>\n",
       "      <th>pop</th>\n",
       "      <th>rain</th>\n",
       "    </tr>\n",
       "  </thead>\n",
       "  <tbody>\n",
       "    <tr>\n",
       "      <th>0</th>\n",
       "      <td>1630645200</td>\n",
       "      <td>32.16</td>\n",
       "      <td>39.16</td>\n",
       "      <td>1006</td>\n",
       "      <td>71</td>\n",
       "      <td>26.23</td>\n",
       "      <td>9.36</td>\n",
       "      <td>70</td>\n",
       "      <td>10000</td>\n",
       "      <td>3.25</td>\n",
       "      <td>126</td>\n",
       "      <td>2.64</td>\n",
       "      <td>[{'id': 803, 'main': 'Clouds', 'description': ...</td>\n",
       "      <td>0.43</td>\n",
       "      <td>NaN</td>\n",
       "    </tr>\n",
       "    <tr>\n",
       "      <th>1</th>\n",
       "      <td>1630648800</td>\n",
       "      <td>32.65</td>\n",
       "      <td>39.65</td>\n",
       "      <td>1006</td>\n",
       "      <td>72</td>\n",
       "      <td>26.94</td>\n",
       "      <td>7.74</td>\n",
       "      <td>68</td>\n",
       "      <td>10000</td>\n",
       "      <td>3.29</td>\n",
       "      <td>124</td>\n",
       "      <td>2.75</td>\n",
       "      <td>[{'id': 803, 'main': 'Clouds', 'description': ...</td>\n",
       "      <td>0.35</td>\n",
       "      <td>NaN</td>\n",
       "    </tr>\n",
       "    <tr>\n",
       "      <th>2</th>\n",
       "      <td>1630652400</td>\n",
       "      <td>32.20</td>\n",
       "      <td>39.20</td>\n",
       "      <td>1006</td>\n",
       "      <td>71</td>\n",
       "      <td>26.27</td>\n",
       "      <td>6.32</td>\n",
       "      <td>59</td>\n",
       "      <td>10000</td>\n",
       "      <td>3.59</td>\n",
       "      <td>122</td>\n",
       "      <td>3.08</td>\n",
       "      <td>[{'id': 803, 'main': 'Clouds', 'description': ...</td>\n",
       "      <td>0.00</td>\n",
       "      <td>NaN</td>\n",
       "    </tr>\n",
       "    <tr>\n",
       "      <th>3</th>\n",
       "      <td>1630656000</td>\n",
       "      <td>31.64</td>\n",
       "      <td>38.64</td>\n",
       "      <td>1006</td>\n",
       "      <td>70</td>\n",
       "      <td>25.49</td>\n",
       "      <td>3.30</td>\n",
       "      <td>48</td>\n",
       "      <td>10000</td>\n",
       "      <td>3.88</td>\n",
       "      <td>124</td>\n",
       "      <td>3.74</td>\n",
       "      <td>[{'id': 802, 'main': 'Clouds', 'description': ...</td>\n",
       "      <td>0.00</td>\n",
       "      <td>NaN</td>\n",
       "    </tr>\n",
       "    <tr>\n",
       "      <th>4</th>\n",
       "      <td>1630659600</td>\n",
       "      <td>30.93</td>\n",
       "      <td>37.41</td>\n",
       "      <td>1005</td>\n",
       "      <td>70</td>\n",
       "      <td>24.82</td>\n",
       "      <td>1.17</td>\n",
       "      <td>40</td>\n",
       "      <td>10000</td>\n",
       "      <td>3.64</td>\n",
       "      <td>128</td>\n",
       "      <td>3.92</td>\n",
       "      <td>[{'id': 802, 'main': 'Clouds', 'description': ...</td>\n",
       "      <td>0.00</td>\n",
       "      <td>NaN</td>\n",
       "    </tr>\n",
       "  </tbody>\n",
       "</table>\n",
       "</div>"
      ],
      "text/plain": [
       "           dt   temp  feels_like  pressure  humidity  dew_point   uvi  clouds  \\\n",
       "0  1630645200  32.16       39.16      1006        71      26.23  9.36      70   \n",
       "1  1630648800  32.65       39.65      1006        72      26.94  7.74      68   \n",
       "2  1630652400  32.20       39.20      1006        71      26.27  6.32      59   \n",
       "3  1630656000  31.64       38.64      1006        70      25.49  3.30      48   \n",
       "4  1630659600  30.93       37.41      1005        70      24.82  1.17      40   \n",
       "\n",
       "   visibility  wind_speed  wind_deg  wind_gust  \\\n",
       "0       10000        3.25       126       2.64   \n",
       "1       10000        3.29       124       2.75   \n",
       "2       10000        3.59       122       3.08   \n",
       "3       10000        3.88       124       3.74   \n",
       "4       10000        3.64       128       3.92   \n",
       "\n",
       "                                             weather   pop rain  \n",
       "0  [{'id': 803, 'main': 'Clouds', 'description': ...  0.43  NaN  \n",
       "1  [{'id': 803, 'main': 'Clouds', 'description': ...  0.35  NaN  \n",
       "2  [{'id': 803, 'main': 'Clouds', 'description': ...  0.00  NaN  \n",
       "3  [{'id': 802, 'main': 'Clouds', 'description': ...  0.00  NaN  \n",
       "4  [{'id': 802, 'main': 'Clouds', 'description': ...  0.00  NaN  "
      ]
     },
     "execution_count": 10,
     "metadata": {},
     "output_type": "execute_result"
    }
   ],
   "source": [
    "df_hourly.head()"
   ]
  },
  {
   "cell_type": "code",
   "execution_count": null,
   "metadata": {},
   "outputs": [],
   "source": []
  }
 ],
 "metadata": {
  "interpreter": {
   "hash": "c1b4cfe941b6d2466ad1fb5979e97da9cda8801728c8091b097ab734208fc00c"
  },
  "kernelspec": {
   "display_name": "Python 3.8.3 64-bit ('base': conda)",
   "name": "python3"
  },
  "language_info": {
   "codemirror_mode": {
    "name": "ipython",
    "version": 3
   },
   "file_extension": ".py",
   "mimetype": "text/x-python",
   "name": "python",
   "nbconvert_exporter": "python",
   "pygments_lexer": "ipython3",
   "version": "3.8.11"
  }
 },
 "nbformat": 4,
 "nbformat_minor": 2
}
