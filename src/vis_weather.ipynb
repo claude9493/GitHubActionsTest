{
 "cells": [
  {
   "cell_type": "code",
   "execution_count": 1,
   "metadata": {
    "execution": {
     "iopub.execute_input": "2021-09-15T06:13:27.282969Z",
     "iopub.status.busy": "2021-09-15T06:13:27.282163Z",
     "iopub.status.idle": "2021-09-15T06:13:28.965903Z",
     "shell.execute_reply": "2021-09-15T06:13:28.965007Z"
    }
   },
   "outputs": [],
   "source": [
    "import json, yaml, requests\r\n",
    "from datetime import datetime\r\n",
    "from dateutil import tz\r\n",
    "import pandas as pd\r\n",
    "from PIL import Image\r\n",
    "from io import BytesIO\r\n",
    "import matplotlib.pyplot as plt\r\n",
    "import seaborn\r\n",
    "\r\n",
    "CONFIG_PATH = \"../config/config.yaml\""
   ]
  },
  {
   "cell_type": "code",
   "execution_count": 2,
   "metadata": {
    "execution": {
     "iopub.execute_input": "2021-09-15T06:13:28.975452Z",
     "iopub.status.busy": "2021-09-15T06:13:28.971611Z",
     "iopub.status.idle": "2021-09-15T06:13:28.978224Z",
     "shell.execute_reply": "2021-09-15T06:13:28.978754Z"
    }
   },
   "outputs": [],
   "source": [
    "with open('../newest_ts', 'r') as f:\r\n",
    "    newest_ts = f.read()\r\n",
    "\r\n",
    "data_path = f\"../data/data_{newest_ts}.json\"\r\n",
    "with open(data_path, 'r') as f:\r\n",
    "    data = json.load(f)\r\n",
    "\r\n",
    "with open(CONFIG_PATH, \"r\") as stream:\r\n",
    "    config = yaml.safe_load(stream)\r\n",
    "\r\n",
    "TIME_ZONE = config['time_zone']\r\n",
    "DATETIME_FORMAT = config['dt_format']"
   ]
  },
  {
   "cell_type": "code",
   "execution_count": 3,
   "metadata": {
    "execution": {
     "iopub.execute_input": "2021-09-15T06:13:28.984183Z",
     "iopub.status.busy": "2021-09-15T06:13:28.983589Z",
     "iopub.status.idle": "2021-09-15T06:13:28.989587Z",
     "shell.execute_reply": "2021-09-15T06:13:28.989071Z"
    }
   },
   "outputs": [
    {
     "name": "stdout",
     "output_type": "stream",
     "text": [
      "Recent query happens at 2021-09-15 14:13:23 (CST).\n"
     ]
    }
   ],
   "source": [
    "def ts2dt(ts, format=DATETIME_FORMAT):\r\n",
    "    dt = (datetime.utcfromtimestamp(int(ts))\r\n",
    "                    .replace(tzinfo=tz.tzutc())\r\n",
    "                    # .astimezone(tz.tzlocal())\r\n",
    "                    .astimezone(tz.gettz(TIME_ZONE)))\r\n",
    "    return dt.strftime(format), dt\r\n",
    "\r\n",
    "_, newest_dt = ts2dt(newest_ts)\r\n",
    "print(f\"Recent query happens at {newest_dt.strftime(DATETIME_FORMAT)} ({newest_dt.tzname()}).\")"
   ]
  },
  {
   "cell_type": "code",
   "execution_count": 4,
   "metadata": {
    "execution": {
     "iopub.execute_input": "2021-09-15T06:13:28.994195Z",
     "iopub.status.busy": "2021-09-15T06:13:28.993576Z",
     "iopub.status.idle": "2021-09-15T06:13:28.996670Z",
     "shell.execute_reply": "2021-09-15T06:13:28.996109Z"
    }
   },
   "outputs": [],
   "source": [
    "def degrees_to_cardinal(d):\r\n",
    "  dirs = ['N', 'NNE', 'NE', 'ENE', 'E', 'ESE', 'SE', 'SSE', 'S', 'SSW', 'SW', 'WSW', 'W', 'WNW', 'NW', 'NNW']\r\n",
    "  ix = int(round(d / (360. / len(dirs))))\r\n",
    "  return dirs[ix % len(dirs)]"
   ]
  },
  {
   "cell_type": "code",
   "execution_count": 5,
   "metadata": {
    "execution": {
     "iopub.execute_input": "2021-09-15T06:13:29.002193Z",
     "iopub.status.busy": "2021-09-15T06:13:29.000566Z",
     "iopub.status.idle": "2021-09-15T06:13:29.003145Z",
     "shell.execute_reply": "2021-09-15T06:13:29.003722Z"
    }
   },
   "outputs": [],
   "source": [
    "# data.keys()"
   ]
  },
  {
   "cell_type": "code",
   "execution_count": 6,
   "metadata": {
    "execution": {
     "iopub.execute_input": "2021-09-15T06:13:29.009377Z",
     "iopub.status.busy": "2021-09-15T06:13:29.007657Z",
     "iopub.status.idle": "2021-09-15T06:13:29.010001Z",
     "shell.execute_reply": "2021-09-15T06:13:29.010466Z"
    }
   },
   "outputs": [],
   "source": [
    "# data['current']"
   ]
  },
  {
   "cell_type": "code",
   "execution_count": 7,
   "metadata": {
    "execution": {
     "iopub.execute_input": "2021-09-15T06:13:29.031927Z",
     "iopub.status.busy": "2021-09-15T06:13:29.031283Z",
     "iopub.status.idle": "2021-09-15T06:13:29.494910Z",
     "shell.execute_reply": "2021-09-15T06:13:29.495745Z"
    }
   },
   "outputs": [
    {
     "data": {
      "image/png": "[encoded data removed]",
      "text/plain": [
       "<Figure size 216x216 with 1 Axes>"
      ]
     },
     "metadata": {
      "needs_background": "light"
     },
     "output_type": "display_data"
    },
    {
     "name": "stdout",
     "output_type": "stream",
     "text": [
      "Today, sun rises at 06:09 and sets at 18:27.\n",
      "Currently, the weather is Clouds (broken clouds).\n",
      "The temperature is 32.75°C and it feels like 39.75°C.\n",
      "The UV index is 8.61, humidity is 67%.\n",
      "The pressure is 1010 hPa, percentage of cloud cover is 74%\n",
      "The wind comes from WSW direction with a speed 4.21 m/s.\n"
     ]
    }
   ],
   "source": [
    "current = data['current']\r\n",
    "\r\n",
    "fig, ax = plt.subplots(figsize=(3, 3))\r\n",
    "icon = requests.get(f\"http://openweathermap.org/img/wn/{current['weather'][0]['icon']}@2x.png\")\r\n",
    "im = Image.open(BytesIO(icon.content))\r\n",
    "plt.imshow(im)\r\n",
    "ax.set_axis_off()\r\n",
    "plt.show()\r\n",
    "\r\n",
    "print(f\"Today, sun rises at {ts2dt(current['sunrise'], '%H:%M')[0]} \\\r\n",
    "and sets at {ts2dt(current['sunset'], '%H:%M')[0]}.\\n\\\r\n",
    "Currently, the weather is {current['weather'][0]['main']} ({current['weather'][0]['description']}).\\n\\\r\n",
    "The temperature is {current['temp']}°C and it feels like {current['feels_like']}°C.\\n\\\r\n",
    "The UV index is {current['uvi']}, humidity is {current['humidity']}%.\\n\\\r\n",
    "The pressure is {current['pressure']} hPa, percentage of cloud cover is {current['clouds']}%\\n\\\r\n",
    "The wind comes from {degrees_to_cardinal(current['wind_deg'])} direction with a speed {current['wind_speed']} m/s.\")"
   ]
  },
  {
   "cell_type": "code",
   "execution_count": 8,
   "metadata": {
    "execution": {
     "iopub.execute_input": "2021-09-15T06:13:29.504591Z",
     "iopub.status.busy": "2021-09-15T06:13:29.502862Z",
     "iopub.status.idle": "2021-09-15T06:13:29.506948Z",
     "shell.execute_reply": "2021-09-15T06:13:29.507614Z"
    }
   },
   "outputs": [],
   "source": [
    "df_hourly = pd.DataFrame(data['hourly'])\r\n",
    "df_daily = pd.DataFrame(data['daily'])"
   ]
  },
  {
   "cell_type": "code",
   "execution_count": 9,
   "metadata": {
    "execution": {
     "iopub.execute_input": "2021-09-15T06:13:29.511345Z",
     "iopub.status.busy": "2021-09-15T06:13:29.510103Z",
     "iopub.status.idle": "2021-09-15T06:13:29.866514Z",
     "shell.execute_reply": "2021-09-15T06:13:29.866949Z"
    }
   },
   "outputs": [
    {
     "data": {
      "image/png": "[encoded data removed]",
      "text/plain": [
       "<Figure size 864x432 with 1 Axes>"
      ]
     },
     "metadata": {
      "needs_background": "light"
     },
     "output_type": "display_data"
    }
   ],
   "source": [
    "fig, ax = plt.subplots(figsize=(12, 6))\r\n",
    "plt.plot(df_hourly.temp, '.-', label='Temperature')\r\n",
    "plt.plot(df_hourly.feels_like, '.-', label='Feels Like')\r\n",
    "ax.set(title='Temperature in future 48 hours', xlabel='Time', ylabel='Temperature')\r\n",
    "ax.set_xticks(list(range(0, len(df_hourly), 2)))\r\n",
    "ax.set_xticklabels([ts2dt(ts, '%m-%d %H:%M')[0] for i, ts in enumerate(df_hourly.dt) if i%2==0], \r\n",
    "                   rotation=45, ha=\"right\")\r\n",
    "ax.locator_params(nbins=15, axis='y')\r\n",
    "plt.legend()\r\n",
    "plt.show()"
   ]
  },
  {
   "cell_type": "code",
   "execution_count": 10,
   "metadata": {
    "execution": {
     "iopub.execute_input": "2021-09-15T06:13:29.877174Z",
     "iopub.status.busy": "2021-09-15T06:13:29.871039Z",
     "iopub.status.idle": "2021-09-15T06:13:29.895687Z",
     "shell.execute_reply": "2021-09-15T06:13:29.895192Z"
    }
   },
   "outputs": [
    {
     "data": {
      "text/html": [
       "<div>\n",
       "<style scoped>\n",
       "    .dataframe tbody tr th:only-of-type {\n",
       "        vertical-align: middle;\n",
       "    }\n",
       "\n",
       "    .dataframe tbody tr th {\n",
       "        vertical-align: top;\n",
       "    }\n",
       "\n",
       "    .dataframe thead th {\n",
       "        text-align: right;\n",
       "    }\n",
       "</style>\n",
       "<table border=\"1\" class=\"dataframe\">\n",
       "  <thead>\n",
       "    <tr style=\"text-align: right;\">\n",
       "      <th></th>\n",
       "      <th>dt</th>\n",
       "      <th>temp</th>\n",
       "      <th>feels_like</th>\n",
       "      <th>pressure</th>\n",
       "      <th>humidity</th>\n",
       "      <th>dew_point</th>\n",
       "      <th>uvi</th>\n",
       "      <th>clouds</th>\n",
       "      <th>visibility</th>\n",
       "      <th>wind_speed</th>\n",
       "      <th>wind_deg</th>\n",
       "      <th>wind_gust</th>\n",
       "      <th>weather</th>\n",
       "      <th>pop</th>\n",
       "      <th>rain</th>\n",
       "    </tr>\n",
       "  </thead>\n",
       "  <tbody>\n",
       "    <tr>\n",
       "      <th>0</th>\n",
       "      <td>1631685600</td>\n",
       "      <td>32.75</td>\n",
       "      <td>39.75</td>\n",
       "      <td>1010</td>\n",
       "      <td>67</td>\n",
       "      <td>25.81</td>\n",
       "      <td>8.61</td>\n",
       "      <td>74</td>\n",
       "      <td>10000</td>\n",
       "      <td>4.21</td>\n",
       "      <td>245</td>\n",
       "      <td>4.09</td>\n",
       "      <td>[{'id': 500, 'main': 'Rain', 'description': 'l...</td>\n",
       "      <td>0.41</td>\n",
       "      <td>{'1h': 0.34}</td>\n",
       "    </tr>\n",
       "    <tr>\n",
       "      <th>1</th>\n",
       "      <td>1631689200</td>\n",
       "      <td>32.41</td>\n",
       "      <td>39.41</td>\n",
       "      <td>1010</td>\n",
       "      <td>68</td>\n",
       "      <td>25.74</td>\n",
       "      <td>5.67</td>\n",
       "      <td>77</td>\n",
       "      <td>10000</td>\n",
       "      <td>4.63</td>\n",
       "      <td>245</td>\n",
       "      <td>4.68</td>\n",
       "      <td>[{'id': 803, 'main': 'Clouds', 'description': ...</td>\n",
       "      <td>0.12</td>\n",
       "      <td>NaN</td>\n",
       "    </tr>\n",
       "    <tr>\n",
       "      <th>2</th>\n",
       "      <td>1631692800</td>\n",
       "      <td>31.99</td>\n",
       "      <td>38.99</td>\n",
       "      <td>1010</td>\n",
       "      <td>69</td>\n",
       "      <td>25.59</td>\n",
       "      <td>2.88</td>\n",
       "      <td>68</td>\n",
       "      <td>10000</td>\n",
       "      <td>4.97</td>\n",
       "      <td>242</td>\n",
       "      <td>5.13</td>\n",
       "      <td>[{'id': 803, 'main': 'Clouds', 'description': ...</td>\n",
       "      <td>0.16</td>\n",
       "      <td>NaN</td>\n",
       "    </tr>\n",
       "    <tr>\n",
       "      <th>3</th>\n",
       "      <td>1631696400</td>\n",
       "      <td>31.20</td>\n",
       "      <td>38.20</td>\n",
       "      <td>1009</td>\n",
       "      <td>71</td>\n",
       "      <td>25.31</td>\n",
       "      <td>0.94</td>\n",
       "      <td>58</td>\n",
       "      <td>10000</td>\n",
       "      <td>5.27</td>\n",
       "      <td>244</td>\n",
       "      <td>5.79</td>\n",
       "      <td>[{'id': 500, 'main': 'Rain', 'description': 'l...</td>\n",
       "      <td>0.36</td>\n",
       "      <td>{'1h': 0.39}</td>\n",
       "    </tr>\n",
       "    <tr>\n",
       "      <th>4</th>\n",
       "      <td>1631700000</td>\n",
       "      <td>30.13</td>\n",
       "      <td>36.66</td>\n",
       "      <td>1009</td>\n",
       "      <td>75</td>\n",
       "      <td>25.21</td>\n",
       "      <td>0.15</td>\n",
       "      <td>63</td>\n",
       "      <td>10000</td>\n",
       "      <td>5.02</td>\n",
       "      <td>246</td>\n",
       "      <td>6.54</td>\n",
       "      <td>[{'id': 500, 'main': 'Rain', 'description': 'l...</td>\n",
       "      <td>0.64</td>\n",
       "      <td>{'1h': 0.39}</td>\n",
       "    </tr>\n",
       "  </tbody>\n",
       "</table>\n",
       "</div>"
      ],
      "text/plain": [
       "           dt   temp  feels_like  pressure  humidity  dew_point   uvi  clouds  \\\n",
       "0  1631685600  32.75       39.75      1010        67      25.81  8.61      74   \n",
       "1  1631689200  32.41       39.41      1010        68      25.74  5.67      77   \n",
       "2  1631692800  31.99       38.99      1010        69      25.59  2.88      68   \n",
       "3  1631696400  31.20       38.20      1009        71      25.31  0.94      58   \n",
       "4  1631700000  30.13       36.66      1009        75      25.21  0.15      63   \n",
       "\n",
       "   visibility  wind_speed  wind_deg  wind_gust  \\\n",
       "0       10000        4.21       245       4.09   \n",
       "1       10000        4.63       245       4.68   \n",
       "2       10000        4.97       242       5.13   \n",
       "3       10000        5.27       244       5.79   \n",
       "4       10000        5.02       246       6.54   \n",
       "\n",
       "                                             weather   pop          rain  \n",
       "0  [{'id': 500, 'main': 'Rain', 'description': 'l...  0.41  {'1h': 0.34}  \n",
       "1  [{'id': 803, 'main': 'Clouds', 'description': ...  0.12           NaN  \n",
       "2  [{'id': 803, 'main': 'Clouds', 'description': ...  0.16           NaN  \n",
       "3  [{'id': 500, 'main': 'Rain', 'description': 'l...  0.36  {'1h': 0.39}  \n",
       "4  [{'id': 500, 'main': 'Rain', 'description': 'l...  0.64  {'1h': 0.39}  "
      ]
     },
     "execution_count": 10,
     "metadata": {},
     "output_type": "execute_result"
    }
   ],
   "source": [
    "df_hourly.head()"
   ]
  },
  {
   "cell_type": "code",
   "execution_count": null,
   "metadata": {},
   "outputs": [],
   "source": []
  }
 ],
 "metadata": {
  "interpreter": {
   "hash": "c1b4cfe941b6d2466ad1fb5979e97da9cda8801728c8091b097ab734208fc00c"
  },
  "kernelspec": {
   "display_name": "Python 3.8.3 64-bit ('base': conda)",
   "name": "python3"
  },
  "language_info": {
   "codemirror_mode": {
    "name": "ipython",
    "version": 3
   },
   "file_extension": ".py",
   "mimetype": "text/x-python",
   "name": "python",
   "nbconvert_exporter": "python",
   "pygments_lexer": "ipython3",
   "version": "3.8.11"
  }
 },
 "nbformat": 4,
 "nbformat_minor": 2
}
