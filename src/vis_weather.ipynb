{
 "cells": [
  {
   "cell_type": "code",
   "execution_count": 1,
   "metadata": {
    "execution": {
     "iopub.execute_input": "2021-08-28T20:15:36.316959Z",
     "iopub.status.busy": "2021-08-28T20:15:36.314514Z",
     "iopub.status.idle": "2021-08-28T20:15:38.115007Z",
     "shell.execute_reply": "2021-08-28T20:15:38.114033Z"
    }
   },
   "outputs": [],
   "source": [
    "import json, yaml, requests\r\n",
    "from datetime import datetime\r\n",
    "from dateutil import tz\r\n",
    "import pandas as pd\r\n",
    "from PIL import Image\r\n",
    "from io import BytesIO\r\n",
    "import matplotlib.pyplot as plt\r\n",
    "import seaborn\r\n",
    "\r\n",
    "CONFIG_PATH = \"../config/config.yaml\""
   ]
  },
  {
   "cell_type": "code",
   "execution_count": 2,
   "metadata": {
    "execution": {
     "iopub.execute_input": "2021-08-28T20:15:38.121391Z",
     "iopub.status.busy": "2021-08-28T20:15:38.120251Z",
     "iopub.status.idle": "2021-08-28T20:15:38.126631Z",
     "shell.execute_reply": "2021-08-28T20:15:38.126111Z"
    }
   },
   "outputs": [],
   "source": [
    "with open('../newest_ts', 'r') as f:\r\n",
    "    newest_ts = f.read()\r\n",
    "\r\n",
    "data_path = f\"../data/data_{newest_ts}.json\"\r\n",
    "with open(data_path, 'r') as f:\r\n",
    "    data = json.load(f)\r\n",
    "\r\n",
    "with open(CONFIG_PATH, \"r\") as stream:\r\n",
    "    config = yaml.safe_load(stream)\r\n",
    "\r\n",
    "TIME_ZONE = config['time_zone']\r\n",
    "DATETIME_FORMAT = config['dt_format']"
   ]
  },
  {
   "cell_type": "code",
   "execution_count": 3,
   "metadata": {
    "execution": {
     "iopub.execute_input": "2021-08-28T20:15:38.134452Z",
     "iopub.status.busy": "2021-08-28T20:15:38.132195Z",
     "iopub.status.idle": "2021-08-28T20:15:38.138043Z",
     "shell.execute_reply": "2021-08-28T20:15:38.138564Z"
    }
   },
   "outputs": [
    {
     "name": "stdout",
     "output_type": "stream",
     "text": [
      "Recent query happens at 2021-08-29 04:15:32 (CST).\n"
     ]
    }
   ],
   "source": [
    "def ts2dt(ts, format=DATETIME_FORMAT):\r\n",
    "    dt = (datetime.utcfromtimestamp(int(ts))\r\n",
    "                    .replace(tzinfo=tz.tzutc())\r\n",
    "                    # .astimezone(tz.tzlocal())\r\n",
    "                    .astimezone(tz.gettz(TIME_ZONE)))\r\n",
    "    return dt.strftime(format), dt\r\n",
    "\r\n",
    "_, newest_dt = ts2dt(newest_ts)\r\n",
    "print(f\"Recent query happens at {newest_dt.strftime(DATETIME_FORMAT)} ({newest_dt.tzname()}).\")"
   ]
  },
  {
   "cell_type": "code",
   "execution_count": 4,
   "metadata": {
    "execution": {
     "iopub.execute_input": "2021-08-28T20:15:38.144590Z",
     "iopub.status.busy": "2021-08-28T20:15:38.141420Z",
     "iopub.status.idle": "2021-08-28T20:15:38.146481Z",
     "shell.execute_reply": "2021-08-28T20:15:38.146997Z"
    }
   },
   "outputs": [],
   "source": [
    "def degrees_to_cardinal(d):\r\n",
    "  dirs = ['N', 'NNE', 'NE', 'ENE', 'E', 'ESE', 'SE', 'SSE', 'S', 'SSW', 'SW', 'WSW', 'W', 'WNW', 'NW', 'NNW']\r\n",
    "  ix = int(round(d / (360. / len(dirs))))\r\n",
    "  return dirs[ix % len(dirs)]"
   ]
  },
  {
   "cell_type": "code",
   "execution_count": 5,
   "metadata": {
    "execution": {
     "iopub.execute_input": "2021-08-28T20:15:38.152651Z",
     "iopub.status.busy": "2021-08-28T20:15:38.151004Z",
     "iopub.status.idle": "2021-08-28T20:15:38.153363Z",
     "shell.execute_reply": "2021-08-28T20:15:38.153904Z"
    }
   },
   "outputs": [],
   "source": [
    "# data.keys()"
   ]
  },
  {
   "cell_type": "code",
   "execution_count": 6,
   "metadata": {
    "execution": {
     "iopub.execute_input": "2021-08-28T20:15:38.158096Z",
     "iopub.status.busy": "2021-08-28T20:15:38.156349Z",
     "iopub.status.idle": "2021-08-28T20:15:38.160602Z",
     "shell.execute_reply": "2021-08-28T20:15:38.160092Z"
    }
   },
   "outputs": [],
   "source": [
    "# data['current']"
   ]
  },
  {
   "cell_type": "code",
   "execution_count": 7,
   "metadata": {
    "execution": {
     "iopub.execute_input": "2021-08-28T20:15:38.177490Z",
     "iopub.status.busy": "2021-08-28T20:15:38.176735Z",
     "iopub.status.idle": "2021-08-28T20:15:38.651115Z",
     "shell.execute_reply": "2021-08-28T20:15:38.653145Z"
    }
   },
   "outputs": [
    {
     "data": {
      "image/png": "[encoded data removed]",
      "text/plain": [
       "<Figure size 216x216 with 1 Axes>"
      ]
     },
     "metadata": {
      "needs_background": "light"
     },
     "output_type": "display_data"
    },
    {
     "name": "stdout",
     "output_type": "stream",
     "text": [
      "Today, sun rises at 06:04 and sets at 18:43.\n",
      "Currently, the weather is Clouds (overcast clouds).\n",
      "The temperature is 28.28°C and it feels like 31.83°C.\n",
      "The UV index is 0, humidity is 74%.\n",
      "The pressure is 1010 hPa, percentage of cloud cover is 100%\n",
      "The wind comes from ENE direction with a speed 4.74 m/s.\n"
     ]
    }
   ],
   "source": [
    "current = data['current']\r\n",
    "\r\n",
    "fig, ax = plt.subplots(figsize=(3, 3))\r\n",
    "icon = requests.get(f\"http://openweathermap.org/img/wn/{current['weather'][0]['icon']}@2x.png\")\r\n",
    "im = Image.open(BytesIO(icon.content))\r\n",
    "plt.imshow(im)\r\n",
    "ax.set_axis_off()\r\n",
    "plt.show()\r\n",
    "\r\n",
    "print(f\"Today, sun rises at {ts2dt(current['sunrise'], '%H:%M')[0]} \\\r\n",
    "and sets at {ts2dt(current['sunset'], '%H:%M')[0]}.\\n\\\r\n",
    "Currently, the weather is {current['weather'][0]['main']} ({current['weather'][0]['description']}).\\n\\\r\n",
    "The temperature is {current['temp']}°C and it feels like {current['feels_like']}°C.\\n\\\r\n",
    "The UV index is {current['uvi']}, humidity is {current['humidity']}%.\\n\\\r\n",
    "The pressure is {current['pressure']} hPa, percentage of cloud cover is {current['clouds']}%\\n\\\r\n",
    "The wind comes from {degrees_to_cardinal(current['wind_deg'])} direction with a speed {current['wind_speed']} m/s.\")"
   ]
  },
  {
   "cell_type": "code",
   "execution_count": 8,
   "metadata": {
    "execution": {
     "iopub.execute_input": "2021-08-28T20:15:38.657529Z",
     "iopub.status.busy": "2021-08-28T20:15:38.656918Z",
     "iopub.status.idle": "2021-08-28T20:15:38.666086Z",
     "shell.execute_reply": "2021-08-28T20:15:38.667056Z"
    }
   },
   "outputs": [],
   "source": [
    "df_hourly = pd.DataFrame(data['hourly'])\r\n",
    "df_daily = pd.DataFrame(data['daily'])"
   ]
  },
  {
   "cell_type": "code",
   "execution_count": 9,
   "metadata": {
    "execution": {
     "iopub.execute_input": "2021-08-28T20:15:38.671257Z",
     "iopub.status.busy": "2021-08-28T20:15:38.669971Z",
     "iopub.status.idle": "2021-08-28T20:15:39.025747Z",
     "shell.execute_reply": "2021-08-28T20:15:39.026338Z"
    }
   },
   "outputs": [
    {
     "data": {
      "image/png": "[encoded data removed]",
      "text/plain": [
       "<Figure size 864x432 with 1 Axes>"
      ]
     },
     "metadata": {
      "needs_background": "light"
     },
     "output_type": "display_data"
    }
   ],
   "source": [
    "fig, ax = plt.subplots(figsize=(12, 6))\r\n",
    "plt.plot(df_hourly.temp, '.-', label='Temperature')\r\n",
    "plt.plot(df_hourly.feels_like, '.-', label='Feels Like')\r\n",
    "ax.set(title='Temperature in future 48 hours', xlabel='Time', ylabel='Temperature')\r\n",
    "ax.set_xticks(list(range(0, len(df_hourly), 2)))\r\n",
    "ax.set_xticklabels([ts2dt(ts, '%m-%d %H:%M')[0] for i, ts in enumerate(df_hourly.dt) if i%2==0], \r\n",
    "                   rotation=45, ha=\"right\")\r\n",
    "ax.locator_params(nbins=15, axis='y')\r\n",
    "plt.legend()\r\n",
    "plt.show()"
   ]
  },
  {
   "cell_type": "code",
   "execution_count": 10,
   "metadata": {
    "execution": {
     "iopub.execute_input": "2021-08-28T20:15:39.031910Z",
     "iopub.status.busy": "2021-08-28T20:15:39.031257Z",
     "iopub.status.idle": "2021-08-28T20:15:39.053836Z",
     "shell.execute_reply": "2021-08-28T20:15:39.054476Z"
    }
   },
   "outputs": [
    {
     "data": {
      "text/html": [
       "<div>\n",
       "<style scoped>\n",
       "    .dataframe tbody tr th:only-of-type {\n",
       "        vertical-align: middle;\n",
       "    }\n",
       "\n",
       "    .dataframe tbody tr th {\n",
       "        vertical-align: top;\n",
       "    }\n",
       "\n",
       "    .dataframe thead th {\n",
       "        text-align: right;\n",
       "    }\n",
       "</style>\n",
       "<table border=\"1\" class=\"dataframe\">\n",
       "  <thead>\n",
       "    <tr style=\"text-align: right;\">\n",
       "      <th></th>\n",
       "      <th>dt</th>\n",
       "      <th>temp</th>\n",
       "      <th>feels_like</th>\n",
       "      <th>pressure</th>\n",
       "      <th>humidity</th>\n",
       "      <th>dew_point</th>\n",
       "      <th>uvi</th>\n",
       "      <th>clouds</th>\n",
       "      <th>visibility</th>\n",
       "      <th>wind_speed</th>\n",
       "      <th>wind_deg</th>\n",
       "      <th>wind_gust</th>\n",
       "      <th>weather</th>\n",
       "      <th>pop</th>\n",
       "      <th>rain</th>\n",
       "    </tr>\n",
       "  </thead>\n",
       "  <tbody>\n",
       "    <tr>\n",
       "      <th>0</th>\n",
       "      <td>1630180800</td>\n",
       "      <td>28.28</td>\n",
       "      <td>31.83</td>\n",
       "      <td>1010</td>\n",
       "      <td>74</td>\n",
       "      <td>23.20</td>\n",
       "      <td>0.00</td>\n",
       "      <td>100</td>\n",
       "      <td>10000</td>\n",
       "      <td>4.74</td>\n",
       "      <td>62</td>\n",
       "      <td>5.98</td>\n",
       "      <td>[{'id': 804, 'main': 'Clouds', 'description': ...</td>\n",
       "      <td>0.41</td>\n",
       "      <td>NaN</td>\n",
       "    </tr>\n",
       "    <tr>\n",
       "      <th>1</th>\n",
       "      <td>1630184400</td>\n",
       "      <td>28.06</td>\n",
       "      <td>31.64</td>\n",
       "      <td>1010</td>\n",
       "      <td>76</td>\n",
       "      <td>23.43</td>\n",
       "      <td>0.00</td>\n",
       "      <td>100</td>\n",
       "      <td>10000</td>\n",
       "      <td>5.04</td>\n",
       "      <td>64</td>\n",
       "      <td>6.53</td>\n",
       "      <td>[{'id': 804, 'main': 'Clouds', 'description': ...</td>\n",
       "      <td>0.45</td>\n",
       "      <td>NaN</td>\n",
       "    </tr>\n",
       "    <tr>\n",
       "      <th>2</th>\n",
       "      <td>1630188000</td>\n",
       "      <td>27.84</td>\n",
       "      <td>31.28</td>\n",
       "      <td>1010</td>\n",
       "      <td>77</td>\n",
       "      <td>23.43</td>\n",
       "      <td>0.00</td>\n",
       "      <td>99</td>\n",
       "      <td>10000</td>\n",
       "      <td>5.42</td>\n",
       "      <td>66</td>\n",
       "      <td>6.77</td>\n",
       "      <td>[{'id': 804, 'main': 'Clouds', 'description': ...</td>\n",
       "      <td>0.45</td>\n",
       "      <td>NaN</td>\n",
       "    </tr>\n",
       "    <tr>\n",
       "      <th>3</th>\n",
       "      <td>1630191600</td>\n",
       "      <td>27.77</td>\n",
       "      <td>31.12</td>\n",
       "      <td>1011</td>\n",
       "      <td>77</td>\n",
       "      <td>23.37</td>\n",
       "      <td>0.35</td>\n",
       "      <td>98</td>\n",
       "      <td>10000</td>\n",
       "      <td>5.62</td>\n",
       "      <td>66</td>\n",
       "      <td>7.16</td>\n",
       "      <td>[{'id': 804, 'main': 'Clouds', 'description': ...</td>\n",
       "      <td>0.45</td>\n",
       "      <td>NaN</td>\n",
       "    </tr>\n",
       "    <tr>\n",
       "      <th>4</th>\n",
       "      <td>1630195200</td>\n",
       "      <td>28.15</td>\n",
       "      <td>32.00</td>\n",
       "      <td>1011</td>\n",
       "      <td>77</td>\n",
       "      <td>23.73</td>\n",
       "      <td>1.55</td>\n",
       "      <td>98</td>\n",
       "      <td>10000</td>\n",
       "      <td>5.95</td>\n",
       "      <td>72</td>\n",
       "      <td>7.52</td>\n",
       "      <td>[{'id': 804, 'main': 'Clouds', 'description': ...</td>\n",
       "      <td>0.53</td>\n",
       "      <td>NaN</td>\n",
       "    </tr>\n",
       "  </tbody>\n",
       "</table>\n",
       "</div>"
      ],
      "text/plain": [
       "           dt   temp  feels_like  pressure  humidity  dew_point   uvi  clouds  \\\n",
       "0  1630180800  28.28       31.83      1010        74      23.20  0.00     100   \n",
       "1  1630184400  28.06       31.64      1010        76      23.43  0.00     100   \n",
       "2  1630188000  27.84       31.28      1010        77      23.43  0.00      99   \n",
       "3  1630191600  27.77       31.12      1011        77      23.37  0.35      98   \n",
       "4  1630195200  28.15       32.00      1011        77      23.73  1.55      98   \n",
       "\n",
       "   visibility  wind_speed  wind_deg  wind_gust  \\\n",
       "0       10000        4.74        62       5.98   \n",
       "1       10000        5.04        64       6.53   \n",
       "2       10000        5.42        66       6.77   \n",
       "3       10000        5.62        66       7.16   \n",
       "4       10000        5.95        72       7.52   \n",
       "\n",
       "                                             weather   pop rain  \n",
       "0  [{'id': 804, 'main': 'Clouds', 'description': ...  0.41  NaN  \n",
       "1  [{'id': 804, 'main': 'Clouds', 'description': ...  0.45  NaN  \n",
       "2  [{'id': 804, 'main': 'Clouds', 'description': ...  0.45  NaN  \n",
       "3  [{'id': 804, 'main': 'Clouds', 'description': ...  0.45  NaN  \n",
       "4  [{'id': 804, 'main': 'Clouds', 'description': ...  0.53  NaN  "
      ]
     },
     "execution_count": 10,
     "metadata": {},
     "output_type": "execute_result"
    }
   ],
   "source": [
    "df_hourly.head()"
   ]
  },
  {
   "cell_type": "code",
   "execution_count": null,
   "metadata": {},
   "outputs": [],
   "source": []
  }
 ],
 "metadata": {
  "interpreter": {
   "hash": "c1b4cfe941b6d2466ad1fb5979e97da9cda8801728c8091b097ab734208fc00c"
  },
  "kernelspec": {
   "display_name": "Python 3.8.3 64-bit ('base': conda)",
   "name": "python3"
  },
  "language_info": {
   "codemirror_mode": {
    "name": "ipython",
    "version": 3
   },
   "file_extension": ".py",
   "mimetype": "text/x-python",
   "name": "python",
   "nbconvert_exporter": "python",
   "pygments_lexer": "ipython3",
   "version": "3.8.11"
  }
 },
 "nbformat": 4,
 "nbformat_minor": 2
}
