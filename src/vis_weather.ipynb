{
 "cells": [
  {
   "cell_type": "code",
   "execution_count": 1,
   "metadata": {
    "execution": {
     "iopub.execute_input": "2021-10-09T18:12:51.430630Z",
     "iopub.status.busy": "2021-10-09T18:12:51.429946Z",
     "iopub.status.idle": "2021-10-09T18:12:53.166924Z",
     "shell.execute_reply": "2021-10-09T18:12:53.167465Z"
    }
   },
   "outputs": [],
   "source": [
    "import json, yaml, requests\r\n",
    "from datetime import datetime\r\n",
    "from dateutil import tz\r\n",
    "import pandas as pd\r\n",
    "from PIL import Image\r\n",
    "from io import BytesIO\r\n",
    "import matplotlib.pyplot as plt\r\n",
    "import seaborn\r\n",
    "\r\n",
    "CONFIG_PATH = \"../config/config.yaml\""
   ]
  },
  {
   "cell_type": "code",
   "execution_count": 2,
   "metadata": {
    "execution": {
     "iopub.execute_input": "2021-10-09T18:12:53.176786Z",
     "iopub.status.busy": "2021-10-09T18:12:53.172787Z",
     "iopub.status.idle": "2021-10-09T18:12:53.181503Z",
     "shell.execute_reply": "2021-10-09T18:12:53.182009Z"
    }
   },
   "outputs": [],
   "source": [
    "with open('../newest_ts', 'r') as f:\r\n",
    "    newest_ts = f.read()\r\n",
    "\r\n",
    "data_path = f\"../data/data_{newest_ts}.json\"\r\n",
    "with open(data_path, 'r') as f:\r\n",
    "    data = json.load(f)\r\n",
    "\r\n",
    "with open(CONFIG_PATH, \"r\") as stream:\r\n",
    "    config = yaml.safe_load(stream)\r\n",
    "\r\n",
    "TIME_ZONE = config['time_zone']\r\n",
    "DATETIME_FORMAT = config['dt_format']"
   ]
  },
  {
   "cell_type": "code",
   "execution_count": 3,
   "metadata": {
    "execution": {
     "iopub.execute_input": "2021-10-09T18:12:53.185221Z",
     "iopub.status.busy": "2021-10-09T18:12:53.184551Z",
     "iopub.status.idle": "2021-10-09T18:12:53.200389Z",
     "shell.execute_reply": "2021-10-09T18:12:53.200878Z"
    }
   },
   "outputs": [
    {
     "name": "stdout",
     "output_type": "stream",
     "text": [
      "Recent query happens at 2021-10-10 02:12:48 (CST).\n"
     ]
    }
   ],
   "source": [
    "def ts2dt(ts, format=DATETIME_FORMAT):\r\n",
    "    dt = (datetime.utcfromtimestamp(int(ts))\r\n",
    "                    .replace(tzinfo=tz.tzutc())\r\n",
    "                    # .astimezone(tz.tzlocal())\r\n",
    "                    .astimezone(tz.gettz(TIME_ZONE)))\r\n",
    "    return dt.strftime(format), dt\r\n",
    "\r\n",
    "_, newest_dt = ts2dt(newest_ts)\r\n",
    "print(f\"Recent query happens at {newest_dt.strftime(DATETIME_FORMAT)} ({newest_dt.tzname()}).\")"
   ]
  },
  {
   "cell_type": "code",
   "execution_count": 4,
   "metadata": {
    "execution": {
     "iopub.execute_input": "2021-10-09T18:12:53.207319Z",
     "iopub.status.busy": "2021-10-09T18:12:53.205899Z",
     "iopub.status.idle": "2021-10-09T18:12:53.207993Z",
     "shell.execute_reply": "2021-10-09T18:12:53.208457Z"
    }
   },
   "outputs": [],
   "source": [
    "def degrees_to_cardinal(d):\r\n",
    "  dirs = ['N', 'NNE', 'NE', 'ENE', 'E', 'ESE', 'SE', 'SSE', 'S', 'SSW', 'SW', 'WSW', 'W', 'WNW', 'NW', 'NNW']\r\n",
    "  ix = int(round(d / (360. / len(dirs))))\r\n",
    "  return dirs[ix % len(dirs)]"
   ]
  },
  {
   "cell_type": "code",
   "execution_count": 5,
   "metadata": {
    "execution": {
     "iopub.execute_input": "2021-10-09T18:12:53.213960Z",
     "iopub.status.busy": "2021-10-09T18:12:53.212323Z",
     "iopub.status.idle": "2021-10-09T18:12:53.214686Z",
     "shell.execute_reply": "2021-10-09T18:12:53.215174Z"
    }
   },
   "outputs": [],
   "source": [
    "# data.keys()"
   ]
  },
  {
   "cell_type": "code",
   "execution_count": 6,
   "metadata": {
    "execution": {
     "iopub.execute_input": "2021-10-09T18:12:53.218757Z",
     "iopub.status.busy": "2021-10-09T18:12:53.217443Z",
     "iopub.status.idle": "2021-10-09T18:12:53.220754Z",
     "shell.execute_reply": "2021-10-09T18:12:53.221234Z"
    }
   },
   "outputs": [],
   "source": [
    "# data['current']"
   ]
  },
  {
   "cell_type": "code",
   "execution_count": 7,
   "metadata": {
    "execution": {
     "iopub.execute_input": "2021-10-09T18:12:53.242919Z",
     "iopub.status.busy": "2021-10-09T18:12:53.242304Z",
     "iopub.status.idle": "2021-10-09T18:12:53.654222Z",
     "shell.execute_reply": "2021-10-09T18:12:53.654745Z"
    }
   },
   "outputs": [
    {
     "data": {
      "image/png": "[encoded data removed]",
      "text/plain": [
       "<Figure size 216x216 with 1 Axes>"
      ]
     },
     "metadata": {
      "needs_background": "light"
     },
     "output_type": "display_data"
    },
    {
     "name": "stdout",
     "output_type": "stream",
     "text": [
      "Today, sun rises at 06:17 and sets at 18:02.\n",
      "Currently, the weather is Rain (moderate rain).\n",
      "The temperature is 26.06°C and it feels like 26.06°C.\n",
      "The UV index is 0, humidity is 93%.\n",
      "The pressure is 1007 hPa, percentage of cloud cover is 100%\n",
      "The wind comes from E direction with a speed 2.24 m/s.\n"
     ]
    }
   ],
   "source": [
    "current = data['current']\r\n",
    "\r\n",
    "fig, ax = plt.subplots(figsize=(3, 3))\r\n",
    "icon = requests.get(f\"http://openweathermap.org/img/wn/{current['weather'][0]['icon']}@2x.png\")\r\n",
    "im = Image.open(BytesIO(icon.content))\r\n",
    "plt.imshow(im)\r\n",
    "ax.set_axis_off()\r\n",
    "plt.show()\r\n",
    "\r\n",
    "print(f\"Today, sun rises at {ts2dt(current['sunrise'], '%H:%M')[0]} \\\r\n",
    "and sets at {ts2dt(current['sunset'], '%H:%M')[0]}.\\n\\\r\n",
    "Currently, the weather is {current['weather'][0]['main']} ({current['weather'][0]['description']}).\\n\\\r\n",
    "The temperature is {current['temp']}°C and it feels like {current['feels_like']}°C.\\n\\\r\n",
    "The UV index is {current['uvi']}, humidity is {current['humidity']}%.\\n\\\r\n",
    "The pressure is {current['pressure']} hPa, percentage of cloud cover is {current['clouds']}%\\n\\\r\n",
    "The wind comes from {degrees_to_cardinal(current['wind_deg'])} direction with a speed {current['wind_speed']} m/s.\")"
   ]
  },
  {
   "cell_type": "code",
   "execution_count": 8,
   "metadata": {
    "execution": {
     "iopub.execute_input": "2021-10-09T18:12:53.663746Z",
     "iopub.status.busy": "2021-10-09T18:12:53.663131Z",
     "iopub.status.idle": "2021-10-09T18:12:53.666517Z",
     "shell.execute_reply": "2021-10-09T18:12:53.667296Z"
    }
   },
   "outputs": [],
   "source": [
    "df_hourly = pd.DataFrame(data['hourly'])\r\n",
    "df_daily = pd.DataFrame(data['daily'])"
   ]
  },
  {
   "cell_type": "code",
   "execution_count": 9,
   "metadata": {
    "execution": {
     "iopub.execute_input": "2021-10-09T18:12:53.671059Z",
     "iopub.status.busy": "2021-10-09T18:12:53.669901Z",
     "iopub.status.idle": "2021-10-09T18:12:53.992558Z",
     "shell.execute_reply": "2021-10-09T18:12:53.989471Z"
    }
   },
   "outputs": [
    {
     "data": {
      "image/png": "[encoded data removed]",
      "text/plain": [
       "<Figure size 864x432 with 1 Axes>"
      ]
     },
     "metadata": {
      "needs_background": "light"
     },
     "output_type": "display_data"
    }
   ],
   "source": [
    "fig, ax = plt.subplots(figsize=(12, 6))\r\n",
    "plt.plot(df_hourly.temp, '.-', label='Temperature')\r\n",
    "plt.plot(df_hourly.feels_like, '.-', label='Feels Like')\r\n",
    "ax.set(title='Temperature in future 48 hours', xlabel='Time', ylabel='Temperature')\r\n",
    "ax.set_xticks(list(range(0, len(df_hourly), 2)))\r\n",
    "ax.set_xticklabels([ts2dt(ts, '%m-%d %H:%M')[0] for i, ts in enumerate(df_hourly.dt) if i%2==0], \r\n",
    "                   rotation=45, ha=\"right\")\r\n",
    "ax.locator_params(nbins=15, axis='y')\r\n",
    "plt.legend()\r\n",
    "plt.show()"
   ]
  },
  {
   "cell_type": "code",
   "execution_count": 10,
   "metadata": {
    "execution": {
     "iopub.execute_input": "2021-10-09T18:12:54.017155Z",
     "iopub.status.busy": "2021-10-09T18:12:54.007929Z",
     "iopub.status.idle": "2021-10-09T18:12:54.023542Z",
     "shell.execute_reply": "2021-10-09T18:12:54.023025Z"
    }
   },
   "outputs": [
    {
     "data": {
      "text/html": [
       "<div>\n",
       "<style scoped>\n",
       "    .dataframe tbody tr th:only-of-type {\n",
       "        vertical-align: middle;\n",
       "    }\n",
       "\n",
       "    .dataframe tbody tr th {\n",
       "        vertical-align: top;\n",
       "    }\n",
       "\n",
       "    .dataframe thead th {\n",
       "        text-align: right;\n",
       "    }\n",
       "</style>\n",
       "<table border=\"1\" class=\"dataframe\">\n",
       "  <thead>\n",
       "    <tr style=\"text-align: right;\">\n",
       "      <th></th>\n",
       "      <th>dt</th>\n",
       "      <th>temp</th>\n",
       "      <th>feels_like</th>\n",
       "      <th>pressure</th>\n",
       "      <th>humidity</th>\n",
       "      <th>dew_point</th>\n",
       "      <th>uvi</th>\n",
       "      <th>clouds</th>\n",
       "      <th>visibility</th>\n",
       "      <th>wind_speed</th>\n",
       "      <th>wind_deg</th>\n",
       "      <th>wind_gust</th>\n",
       "      <th>weather</th>\n",
       "      <th>pop</th>\n",
       "      <th>rain</th>\n",
       "    </tr>\n",
       "  </thead>\n",
       "  <tbody>\n",
       "    <tr>\n",
       "      <th>0</th>\n",
       "      <td>1633802400</td>\n",
       "      <td>26.06</td>\n",
       "      <td>26.06</td>\n",
       "      <td>1007</td>\n",
       "      <td>93</td>\n",
       "      <td>24.84</td>\n",
       "      <td>0.0</td>\n",
       "      <td>100</td>\n",
       "      <td>4723</td>\n",
       "      <td>12.04</td>\n",
       "      <td>88</td>\n",
       "      <td>16.33</td>\n",
       "      <td>[{'id': 501, 'main': 'Rain', 'description': 'm...</td>\n",
       "      <td>1.0</td>\n",
       "      <td>{'1h': 2.42}</td>\n",
       "    </tr>\n",
       "    <tr>\n",
       "      <th>1</th>\n",
       "      <td>1633806000</td>\n",
       "      <td>25.94</td>\n",
       "      <td>26.99</td>\n",
       "      <td>1007</td>\n",
       "      <td>92</td>\n",
       "      <td>24.54</td>\n",
       "      <td>0.0</td>\n",
       "      <td>100</td>\n",
       "      <td>6116</td>\n",
       "      <td>11.83</td>\n",
       "      <td>86</td>\n",
       "      <td>15.84</td>\n",
       "      <td>[{'id': 502, 'main': 'Rain', 'description': 'h...</td>\n",
       "      <td>1.0</td>\n",
       "      <td>{'1h': 6.48}</td>\n",
       "    </tr>\n",
       "    <tr>\n",
       "      <th>2</th>\n",
       "      <td>1633809600</td>\n",
       "      <td>25.80</td>\n",
       "      <td>26.84</td>\n",
       "      <td>1007</td>\n",
       "      <td>92</td>\n",
       "      <td>24.40</td>\n",
       "      <td>0.0</td>\n",
       "      <td>100</td>\n",
       "      <td>6018</td>\n",
       "      <td>11.61</td>\n",
       "      <td>85</td>\n",
       "      <td>15.53</td>\n",
       "      <td>[{'id': 502, 'main': 'Rain', 'description': 'h...</td>\n",
       "      <td>1.0</td>\n",
       "      <td>{'1h': 8.65}</td>\n",
       "    </tr>\n",
       "    <tr>\n",
       "      <th>3</th>\n",
       "      <td>1633813200</td>\n",
       "      <td>25.76</td>\n",
       "      <td>26.74</td>\n",
       "      <td>1007</td>\n",
       "      <td>90</td>\n",
       "      <td>23.99</td>\n",
       "      <td>0.0</td>\n",
       "      <td>100</td>\n",
       "      <td>9687</td>\n",
       "      <td>11.35</td>\n",
       "      <td>87</td>\n",
       "      <td>15.10</td>\n",
       "      <td>[{'id': 501, 'main': 'Rain', 'description': 'm...</td>\n",
       "      <td>1.0</td>\n",
       "      <td>{'1h': 1.69}</td>\n",
       "    </tr>\n",
       "    <tr>\n",
       "      <th>4</th>\n",
       "      <td>1633816800</td>\n",
       "      <td>25.60</td>\n",
       "      <td>26.57</td>\n",
       "      <td>1008</td>\n",
       "      <td>90</td>\n",
       "      <td>23.84</td>\n",
       "      <td>0.0</td>\n",
       "      <td>100</td>\n",
       "      <td>8238</td>\n",
       "      <td>10.81</td>\n",
       "      <td>86</td>\n",
       "      <td>14.62</td>\n",
       "      <td>[{'id': 501, 'main': 'Rain', 'description': 'm...</td>\n",
       "      <td>1.0</td>\n",
       "      <td>{'1h': 1.42}</td>\n",
       "    </tr>\n",
       "  </tbody>\n",
       "</table>\n",
       "</div>"
      ],
      "text/plain": [
       "           dt   temp  feels_like  pressure  humidity  dew_point  uvi  clouds  \\\n",
       "0  1633802400  26.06       26.06      1007        93      24.84  0.0     100   \n",
       "1  1633806000  25.94       26.99      1007        92      24.54  0.0     100   \n",
       "2  1633809600  25.80       26.84      1007        92      24.40  0.0     100   \n",
       "3  1633813200  25.76       26.74      1007        90      23.99  0.0     100   \n",
       "4  1633816800  25.60       26.57      1008        90      23.84  0.0     100   \n",
       "\n",
       "   visibility  wind_speed  wind_deg  wind_gust  \\\n",
       "0        4723       12.04        88      16.33   \n",
       "1        6116       11.83        86      15.84   \n",
       "2        6018       11.61        85      15.53   \n",
       "3        9687       11.35        87      15.10   \n",
       "4        8238       10.81        86      14.62   \n",
       "\n",
       "                                             weather  pop          rain  \n",
       "0  [{'id': 501, 'main': 'Rain', 'description': 'm...  1.0  {'1h': 2.42}  \n",
       "1  [{'id': 502, 'main': 'Rain', 'description': 'h...  1.0  {'1h': 6.48}  \n",
       "2  [{'id': 502, 'main': 'Rain', 'description': 'h...  1.0  {'1h': 8.65}  \n",
       "3  [{'id': 501, 'main': 'Rain', 'description': 'm...  1.0  {'1h': 1.69}  \n",
       "4  [{'id': 501, 'main': 'Rain', 'description': 'm...  1.0  {'1h': 1.42}  "
      ]
     },
     "execution_count": 10,
     "metadata": {},
     "output_type": "execute_result"
    }
   ],
   "source": [
    "df_hourly.head()"
   ]
  },
  {
   "cell_type": "code",
   "execution_count": null,
   "metadata": {},
   "outputs": [],
   "source": []
  }
 ],
 "metadata": {
  "interpreter": {
   "hash": "c1b4cfe941b6d2466ad1fb5979e97da9cda8801728c8091b097ab734208fc00c"
  },
  "kernelspec": {
   "display_name": "Python 3.8.3 64-bit ('base': conda)",
   "name": "python3"
  },
  "language_info": {
   "codemirror_mode": {
    "name": "ipython",
    "version": 3
   },
   "file_extension": ".py",
   "mimetype": "text/x-python",
   "name": "python",
   "nbconvert_exporter": "python",
   "pygments_lexer": "ipython3",
   "version": "3.8.12"
  }
 },
 "nbformat": 4,
 "nbformat_minor": 2
}
