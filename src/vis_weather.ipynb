{
 "cells": [
  {
   "cell_type": "code",
   "execution_count": 1,
   "metadata": {
    "execution": {
     "iopub.execute_input": "2021-10-25T00:42:14.828529Z",
     "iopub.status.busy": "2021-10-25T00:42:14.827432Z",
     "iopub.status.idle": "2021-10-25T00:42:17.815780Z",
     "shell.execute_reply": "2021-10-25T00:42:17.816256Z"
    }
   },
   "outputs": [],
   "source": [
    "import json, yaml, requests\r\n",
    "from datetime import datetime\r\n",
    "from dateutil import tz\r\n",
    "import pandas as pd\r\n",
    "from PIL import Image\r\n",
    "from io import BytesIO\r\n",
    "import matplotlib.pyplot as plt\r\n",
    "import seaborn\r\n",
    "\r\n",
    "CONFIG_PATH = \"../config/config.yaml\""
   ]
  },
  {
   "cell_type": "code",
   "execution_count": 2,
   "metadata": {
    "execution": {
     "iopub.execute_input": "2021-10-25T00:42:17.821987Z",
     "iopub.status.busy": "2021-10-25T00:42:17.821383Z",
     "iopub.status.idle": "2021-10-25T00:42:17.828263Z",
     "shell.execute_reply": "2021-10-25T00:42:17.827391Z"
    }
   },
   "outputs": [],
   "source": [
    "with open('../newest_ts', 'r') as f:\r\n",
    "    newest_ts = f.read()\r\n",
    "\r\n",
    "data_path = f\"../data/data_{newest_ts}.json\"\r\n",
    "with open(data_path, 'r') as f:\r\n",
    "    data = json.load(f)\r\n",
    "\r\n",
    "with open(CONFIG_PATH, \"r\") as stream:\r\n",
    "    config = yaml.safe_load(stream)\r\n",
    "\r\n",
    "TIME_ZONE = config['time_zone']\r\n",
    "DATETIME_FORMAT = config['dt_format']"
   ]
  },
  {
   "cell_type": "code",
   "execution_count": 3,
   "metadata": {
    "execution": {
     "iopub.execute_input": "2021-10-25T00:42:17.833363Z",
     "iopub.status.busy": "2021-10-25T00:42:17.832723Z",
     "iopub.status.idle": "2021-10-25T00:42:17.843232Z",
     "shell.execute_reply": "2021-10-25T00:42:17.843707Z"
    }
   },
   "outputs": [
    {
     "name": "stdout",
     "output_type": "stream",
     "text": [
      "Recent query happens at 2021-10-25 08:42:11 (CST).\n"
     ]
    }
   ],
   "source": [
    "def ts2dt(ts, format=DATETIME_FORMAT):\r\n",
    "    dt = (datetime.utcfromtimestamp(int(ts))\r\n",
    "                    .replace(tzinfo=tz.tzutc())\r\n",
    "                    # .astimezone(tz.tzlocal())\r\n",
    "                    .astimezone(tz.gettz(TIME_ZONE)))\r\n",
    "    return dt.strftime(format), dt\r\n",
    "\r\n",
    "_, newest_dt = ts2dt(newest_ts)\r\n",
    "print(f\"Recent query happens at {newest_dt.strftime(DATETIME_FORMAT)} ({newest_dt.tzname()}).\")"
   ]
  },
  {
   "cell_type": "code",
   "execution_count": 4,
   "metadata": {
    "execution": {
     "iopub.execute_input": "2021-10-25T00:42:17.848820Z",
     "iopub.status.busy": "2021-10-25T00:42:17.848236Z",
     "iopub.status.idle": "2021-10-25T00:42:17.850362Z",
     "shell.execute_reply": "2021-10-25T00:42:17.850819Z"
    }
   },
   "outputs": [],
   "source": [
    "def degrees_to_cardinal(d):\r\n",
    "  dirs = ['N', 'NNE', 'NE', 'ENE', 'E', 'ESE', 'SE', 'SSE', 'S', 'SSW', 'SW', 'WSW', 'W', 'WNW', 'NW', 'NNW']\r\n",
    "  ix = int(round(d / (360. / len(dirs))))\r\n",
    "  return dirs[ix % len(dirs)]"
   ]
  },
  {
   "cell_type": "code",
   "execution_count": 5,
   "metadata": {
    "execution": {
     "iopub.execute_input": "2021-10-25T00:42:17.854627Z",
     "iopub.status.busy": "2021-10-25T00:42:17.853100Z",
     "iopub.status.idle": "2021-10-25T00:42:17.856754Z",
     "shell.execute_reply": "2021-10-25T00:42:17.856307Z"
    }
   },
   "outputs": [],
   "source": [
    "# data.keys()"
   ]
  },
  {
   "cell_type": "code",
   "execution_count": 6,
   "metadata": {
    "execution": {
     "iopub.execute_input": "2021-10-25T00:42:17.861522Z",
     "iopub.status.busy": "2021-10-25T00:42:17.859989Z",
     "iopub.status.idle": "2021-10-25T00:42:17.862129Z",
     "shell.execute_reply": "2021-10-25T00:42:17.862576Z"
    }
   },
   "outputs": [],
   "source": [
    "# data['current']"
   ]
  },
  {
   "cell_type": "code",
   "execution_count": 7,
   "metadata": {
    "execution": {
     "iopub.execute_input": "2021-10-25T00:42:17.883775Z",
     "iopub.status.busy": "2021-10-25T00:42:17.883201Z",
     "iopub.status.idle": "2021-10-25T00:42:18.297660Z",
     "shell.execute_reply": "2021-10-25T00:42:18.298408Z"
    }
   },
   "outputs": [
    {
     "data": {
      "image/png": "[encoded data removed]",
      "text/plain": [
       "<Figure size 216x216 with 1 Axes>"
      ]
     },
     "metadata": {
      "needs_background": "light"
     },
     "output_type": "display_data"
    },
    {
     "name": "stdout",
     "output_type": "stream",
     "text": [
      "Today, sun rises at 06:23 and sets at 17:50.\n",
      "Currently, the weather is Clouds (overcast clouds).\n",
      "The temperature is 20.53°C and it feels like 20.49°C.\n",
      "The UV index is 1.96, humidity is 71%.\n",
      "The pressure is 1019 hPa, percentage of cloud cover is 100%\n",
      "The wind comes from N direction with a speed 3.58 m/s.\n"
     ]
    }
   ],
   "source": [
    "current = data['current']\r\n",
    "\r\n",
    "fig, ax = plt.subplots(figsize=(3, 3))\r\n",
    "icon = requests.get(f\"http://openweathermap.org/img/wn/{current['weather'][0]['icon']}@2x.png\")\r\n",
    "im = Image.open(BytesIO(icon.content))\r\n",
    "plt.imshow(im)\r\n",
    "ax.set_axis_off()\r\n",
    "plt.show()\r\n",
    "\r\n",
    "print(f\"Today, sun rises at {ts2dt(current['sunrise'], '%H:%M')[0]} \\\r\n",
    "and sets at {ts2dt(current['sunset'], '%H:%M')[0]}.\\n\\\r\n",
    "Currently, the weather is {current['weather'][0]['main']} ({current['weather'][0]['description']}).\\n\\\r\n",
    "The temperature is {current['temp']}°C and it feels like {current['feels_like']}°C.\\n\\\r\n",
    "The UV index is {current['uvi']}, humidity is {current['humidity']}%.\\n\\\r\n",
    "The pressure is {current['pressure']} hPa, percentage of cloud cover is {current['clouds']}%\\n\\\r\n",
    "The wind comes from {degrees_to_cardinal(current['wind_deg'])} direction with a speed {current['wind_speed']} m/s.\")"
   ]
  },
  {
   "cell_type": "code",
   "execution_count": 8,
   "metadata": {
    "execution": {
     "iopub.execute_input": "2021-10-25T00:42:18.301903Z",
     "iopub.status.busy": "2021-10-25T00:42:18.301360Z",
     "iopub.status.idle": "2021-10-25T00:42:18.308434Z",
     "shell.execute_reply": "2021-10-25T00:42:18.309166Z"
    }
   },
   "outputs": [],
   "source": [
    "df_hourly = pd.DataFrame(data['hourly'])\r\n",
    "df_daily = pd.DataFrame(data['daily'])"
   ]
  },
  {
   "cell_type": "code",
   "execution_count": 9,
   "metadata": {
    "execution": {
     "iopub.execute_input": "2021-10-25T00:42:18.312518Z",
     "iopub.status.busy": "2021-10-25T00:42:18.311500Z",
     "iopub.status.idle": "2021-10-25T00:42:18.667488Z",
     "shell.execute_reply": "2021-10-25T00:42:18.667976Z"
    }
   },
   "outputs": [
    {
     "data": {
      "image/png": "[encoded data removed]",
      "text/plain": [
       "<Figure size 864x432 with 1 Axes>"
      ]
     },
     "metadata": {
      "needs_background": "light"
     },
     "output_type": "display_data"
    }
   ],
   "source": [
    "fig, ax = plt.subplots(figsize=(12, 6))\r\n",
    "plt.plot(df_hourly.temp, '.-', label='Temperature')\r\n",
    "plt.plot(df_hourly.feels_like, '.-', label='Feels Like')\r\n",
    "ax.set(title='Temperature in future 48 hours', xlabel='Time', ylabel='Temperature')\r\n",
    "ax.set_xticks(list(range(0, len(df_hourly), 2)))\r\n",
    "ax.set_xticklabels([ts2dt(ts, '%m-%d %H:%M')[0] for i, ts in enumerate(df_hourly.dt) if i%2==0], \r\n",
    "                   rotation=45, ha=\"right\")\r\n",
    "ax.locator_params(nbins=15, axis='y')\r\n",
    "plt.legend()\r\n",
    "plt.show()"
   ]
  },
  {
   "cell_type": "code",
   "execution_count": 10,
   "metadata": {
    "execution": {
     "iopub.execute_input": "2021-10-25T00:42:18.673729Z",
     "iopub.status.busy": "2021-10-25T00:42:18.672443Z",
     "iopub.status.idle": "2021-10-25T00:42:18.691793Z",
     "shell.execute_reply": "2021-10-25T00:42:18.692329Z"
    }
   },
   "outputs": [
    {
     "data": {
      "text/html": [
       "<div>\n",
       "<style scoped>\n",
       "    .dataframe tbody tr th:only-of-type {\n",
       "        vertical-align: middle;\n",
       "    }\n",
       "\n",
       "    .dataframe tbody tr th {\n",
       "        vertical-align: top;\n",
       "    }\n",
       "\n",
       "    .dataframe thead th {\n",
       "        text-align: right;\n",
       "    }\n",
       "</style>\n",
       "<table border=\"1\" class=\"dataframe\">\n",
       "  <thead>\n",
       "    <tr style=\"text-align: right;\">\n",
       "      <th></th>\n",
       "      <th>dt</th>\n",
       "      <th>temp</th>\n",
       "      <th>feels_like</th>\n",
       "      <th>pressure</th>\n",
       "      <th>humidity</th>\n",
       "      <th>dew_point</th>\n",
       "      <th>uvi</th>\n",
       "      <th>clouds</th>\n",
       "      <th>visibility</th>\n",
       "      <th>wind_speed</th>\n",
       "      <th>wind_deg</th>\n",
       "      <th>wind_gust</th>\n",
       "      <th>weather</th>\n",
       "      <th>pop</th>\n",
       "    </tr>\n",
       "  </thead>\n",
       "  <tbody>\n",
       "    <tr>\n",
       "      <th>0</th>\n",
       "      <td>1635120000</td>\n",
       "      <td>20.37</td>\n",
       "      <td>20.32</td>\n",
       "      <td>1019</td>\n",
       "      <td>71</td>\n",
       "      <td>14.94</td>\n",
       "      <td>0.62</td>\n",
       "      <td>95</td>\n",
       "      <td>10000</td>\n",
       "      <td>3.12</td>\n",
       "      <td>9</td>\n",
       "      <td>4.04</td>\n",
       "      <td>[{'id': 804, 'main': 'Clouds', 'description': ...</td>\n",
       "      <td>0.0</td>\n",
       "    </tr>\n",
       "    <tr>\n",
       "      <th>1</th>\n",
       "      <td>1635123600</td>\n",
       "      <td>20.53</td>\n",
       "      <td>20.49</td>\n",
       "      <td>1019</td>\n",
       "      <td>71</td>\n",
       "      <td>15.09</td>\n",
       "      <td>1.96</td>\n",
       "      <td>100</td>\n",
       "      <td>10000</td>\n",
       "      <td>3.13</td>\n",
       "      <td>14</td>\n",
       "      <td>3.98</td>\n",
       "      <td>[{'id': 804, 'main': 'Clouds', 'description': ...</td>\n",
       "      <td>0.0</td>\n",
       "    </tr>\n",
       "    <tr>\n",
       "      <th>2</th>\n",
       "      <td>1635127200</td>\n",
       "      <td>20.65</td>\n",
       "      <td>20.60</td>\n",
       "      <td>1019</td>\n",
       "      <td>70</td>\n",
       "      <td>14.99</td>\n",
       "      <td>3.96</td>\n",
       "      <td>100</td>\n",
       "      <td>10000</td>\n",
       "      <td>3.16</td>\n",
       "      <td>18</td>\n",
       "      <td>4.14</td>\n",
       "      <td>[{'id': 804, 'main': 'Clouds', 'description': ...</td>\n",
       "      <td>0.0</td>\n",
       "    </tr>\n",
       "    <tr>\n",
       "      <th>3</th>\n",
       "      <td>1635130800</td>\n",
       "      <td>21.23</td>\n",
       "      <td>21.16</td>\n",
       "      <td>1019</td>\n",
       "      <td>67</td>\n",
       "      <td>14.86</td>\n",
       "      <td>5.94</td>\n",
       "      <td>98</td>\n",
       "      <td>10000</td>\n",
       "      <td>3.05</td>\n",
       "      <td>24</td>\n",
       "      <td>4.17</td>\n",
       "      <td>[{'id': 804, 'main': 'Clouds', 'description': ...</td>\n",
       "      <td>0.0</td>\n",
       "    </tr>\n",
       "    <tr>\n",
       "      <th>4</th>\n",
       "      <td>1635134400</td>\n",
       "      <td>22.23</td>\n",
       "      <td>22.18</td>\n",
       "      <td>1018</td>\n",
       "      <td>64</td>\n",
       "      <td>15.10</td>\n",
       "      <td>7.34</td>\n",
       "      <td>90</td>\n",
       "      <td>10000</td>\n",
       "      <td>2.91</td>\n",
       "      <td>38</td>\n",
       "      <td>3.83</td>\n",
       "      <td>[{'id': 804, 'main': 'Clouds', 'description': ...</td>\n",
       "      <td>0.0</td>\n",
       "    </tr>\n",
       "  </tbody>\n",
       "</table>\n",
       "</div>"
      ],
      "text/plain": [
       "           dt   temp  feels_like  pressure  humidity  dew_point   uvi  clouds  \\\n",
       "0  1635120000  20.37       20.32      1019        71      14.94  0.62      95   \n",
       "1  1635123600  20.53       20.49      1019        71      15.09  1.96     100   \n",
       "2  1635127200  20.65       20.60      1019        70      14.99  3.96     100   \n",
       "3  1635130800  21.23       21.16      1019        67      14.86  5.94      98   \n",
       "4  1635134400  22.23       22.18      1018        64      15.10  7.34      90   \n",
       "\n",
       "   visibility  wind_speed  wind_deg  wind_gust  \\\n",
       "0       10000        3.12         9       4.04   \n",
       "1       10000        3.13        14       3.98   \n",
       "2       10000        3.16        18       4.14   \n",
       "3       10000        3.05        24       4.17   \n",
       "4       10000        2.91        38       3.83   \n",
       "\n",
       "                                             weather  pop  \n",
       "0  [{'id': 804, 'main': 'Clouds', 'description': ...  0.0  \n",
       "1  [{'id': 804, 'main': 'Clouds', 'description': ...  0.0  \n",
       "2  [{'id': 804, 'main': 'Clouds', 'description': ...  0.0  \n",
       "3  [{'id': 804, 'main': 'Clouds', 'description': ...  0.0  \n",
       "4  [{'id': 804, 'main': 'Clouds', 'description': ...  0.0  "
      ]
     },
     "execution_count": 10,
     "metadata": {},
     "output_type": "execute_result"
    }
   ],
   "source": [
    "df_hourly.head()"
   ]
  },
  {
   "cell_type": "code",
   "execution_count": null,
   "metadata": {},
   "outputs": [],
   "source": []
  }
 ],
 "metadata": {
  "interpreter": {
   "hash": "c1b4cfe941b6d2466ad1fb5979e97da9cda8801728c8091b097ab734208fc00c"
  },
  "kernelspec": {
   "display_name": "Python 3.8.3 64-bit ('base': conda)",
   "name": "python3"
  },
  "language_info": {
   "codemirror_mode": {
    "name": "ipython",
    "version": 3
   },
   "file_extension": ".py",
   "mimetype": "text/x-python",
   "name": "python",
   "nbconvert_exporter": "python",
   "pygments_lexer": "ipython3",
   "version": "3.8.12"
  }
 },
 "nbformat": 4,
 "nbformat_minor": 2
}
