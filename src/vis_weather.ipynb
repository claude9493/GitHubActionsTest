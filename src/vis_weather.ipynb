{
 "cells": [
  {
   "cell_type": "code",
   "execution_count": 1,
   "metadata": {
    "execution": {
     "iopub.execute_input": "2021-08-26T00:46:59.957917Z",
     "iopub.status.busy": "2021-08-26T00:46:59.957381Z",
     "iopub.status.idle": "2021-08-26T00:47:01.880545Z",
     "shell.execute_reply": "2021-08-26T00:47:01.879588Z"
    }
   },
   "outputs": [],
   "source": [
    "import json, yaml, requests\r\n",
    "from datetime import datetime\r\n",
    "from dateutil import tz\r\n",
    "import pandas as pd\r\n",
    "from PIL import Image\r\n",
    "from io import BytesIO\r\n",
    "import matplotlib.pyplot as plt\r\n",
    "import seaborn\r\n",
    "\r\n",
    "CONFIG_PATH = \"../config/config.yaml\""
   ]
  },
  {
   "cell_type": "code",
   "execution_count": 2,
   "metadata": {
    "execution": {
     "iopub.execute_input": "2021-08-26T00:47:01.890059Z",
     "iopub.status.busy": "2021-08-26T00:47:01.886672Z",
     "iopub.status.idle": "2021-08-26T00:47:01.892770Z",
     "shell.execute_reply": "2021-08-26T00:47:01.891829Z"
    }
   },
   "outputs": [],
   "source": [
    "with open('../newest_ts', 'r') as f:\r\n",
    "    newest_ts = f.read()\r\n",
    "\r\n",
    "data_path = f\"../data/data_{newest_ts}.json\"\r\n",
    "with open(data_path, 'r') as f:\r\n",
    "    data = json.load(f)\r\n",
    "\r\n",
    "with open(CONFIG_PATH, \"r\") as stream:\r\n",
    "    config = yaml.safe_load(stream)\r\n",
    "\r\n",
    "TIME_ZONE = config['time_zone']\r\n",
    "DATETIME_FORMAT = config['dt_format']"
   ]
  },
  {
   "cell_type": "code",
   "execution_count": 3,
   "metadata": {
    "execution": {
     "iopub.execute_input": "2021-08-26T00:47:01.897884Z",
     "iopub.status.busy": "2021-08-26T00:47:01.897197Z",
     "iopub.status.idle": "2021-08-26T00:47:01.906970Z",
     "shell.execute_reply": "2021-08-26T00:47:01.906604Z"
    }
   },
   "outputs": [
    {
     "name": "stdout",
     "output_type": "stream",
     "text": [
      "Recent query happens at 2021-08-26 08:46:57 (CST).\n"
     ]
    }
   ],
   "source": [
    "def ts2dt(ts, format=DATETIME_FORMAT):\r\n",
    "    dt = (datetime.utcfromtimestamp(int(ts))\r\n",
    "                    .replace(tzinfo=tz.tzutc())\r\n",
    "                    # .astimezone(tz.tzlocal())\r\n",
    "                    .astimezone(tz.gettz(TIME_ZONE)))\r\n",
    "    return dt.strftime(format), dt\r\n",
    "\r\n",
    "_, newest_dt = ts2dt(newest_ts)\r\n",
    "print(f\"Recent query happens at {newest_dt.strftime(DATETIME_FORMAT)} ({newest_dt.tzname()}).\")"
   ]
  },
  {
   "cell_type": "code",
   "execution_count": 4,
   "metadata": {
    "execution": {
     "iopub.execute_input": "2021-08-26T00:47:01.912409Z",
     "iopub.status.busy": "2021-08-26T00:47:01.911241Z",
     "iopub.status.idle": "2021-08-26T00:47:01.912944Z",
     "shell.execute_reply": "2021-08-26T00:47:01.913457Z"
    }
   },
   "outputs": [],
   "source": [
    "def degrees_to_cardinal(d):\r\n",
    "  dirs = ['N', 'NNE', 'NE', 'ENE', 'E', 'ESE', 'SE', 'SSE', 'S', 'SSW', 'SW', 'WSW', 'W', 'WNW', 'NW', 'NNW']\r\n",
    "  ix = int(round(d / (360. / len(dirs))))\r\n",
    "  return dirs[ix % len(dirs)]"
   ]
  },
  {
   "cell_type": "code",
   "execution_count": 5,
   "metadata": {
    "execution": {
     "iopub.execute_input": "2021-08-26T00:47:01.917820Z",
     "iopub.status.busy": "2021-08-26T00:47:01.916653Z",
     "iopub.status.idle": "2021-08-26T00:47:01.918369Z",
     "shell.execute_reply": "2021-08-26T00:47:01.918804Z"
    }
   },
   "outputs": [],
   "source": [
    "# data.keys()"
   ]
  },
  {
   "cell_type": "code",
   "execution_count": 6,
   "metadata": {
    "execution": {
     "iopub.execute_input": "2021-08-26T00:47:01.922778Z",
     "iopub.status.busy": "2021-08-26T00:47:01.921728Z",
     "iopub.status.idle": "2021-08-26T00:47:01.923516Z",
     "shell.execute_reply": "2021-08-26T00:47:01.923975Z"
    }
   },
   "outputs": [],
   "source": [
    "# data['current']"
   ]
  },
  {
   "cell_type": "code",
   "execution_count": 7,
   "metadata": {
    "execution": {
     "iopub.execute_input": "2021-08-26T00:47:01.940753Z",
     "iopub.status.busy": "2021-08-26T00:47:01.940244Z",
     "iopub.status.idle": "2021-08-26T00:47:02.427411Z",
     "shell.execute_reply": "2021-08-26T00:47:02.428134Z"
    }
   },
   "outputs": [
    {
     "data": {
      "image/png": "[encoded data removed]",
      "text/plain": [
       "<Figure size 216x216 with 1 Axes>"
      ]
     },
     "metadata": {
      "needs_background": "light"
     },
     "output_type": "display_data"
    },
    {
     "name": "stdout",
     "output_type": "stream",
     "text": [
      "Today, sun rises at 06:03 and sets at 18:46.\n",
      "Currently, the weather is Rain (light rain).\n",
      "The temperature is 30.12°C and it feels like 37.12°C.\n",
      "The UV index is 4.04, humidity is 83%.\n",
      "The pressure is 1012 hPa, percentage of cloud cover is 98%\n",
      "The wind comes from SE direction with a speed 2.58 m/s.\n"
     ]
    }
   ],
   "source": [
    "current = data['current']\r\n",
    "\r\n",
    "fig, ax = plt.subplots(figsize=(3, 3))\r\n",
    "icon = requests.get(f\"http://openweathermap.org/img/wn/{current['weather'][0]['icon']}@2x.png\")\r\n",
    "im = Image.open(BytesIO(icon.content))\r\n",
    "plt.imshow(im)\r\n",
    "ax.set_axis_off()\r\n",
    "plt.show()\r\n",
    "\r\n",
    "print(f\"Today, sun rises at {ts2dt(current['sunrise'], '%H:%M')[0]} \\\r\n",
    "and sets at {ts2dt(current['sunset'], '%H:%M')[0]}.\\n\\\r\n",
    "Currently, the weather is {current['weather'][0]['main']} ({current['weather'][0]['description']}).\\n\\\r\n",
    "The temperature is {current['temp']}°C and it feels like {current['feels_like']}°C.\\n\\\r\n",
    "The UV index is {current['uvi']}, humidity is {current['humidity']}%.\\n\\\r\n",
    "The pressure is {current['pressure']} hPa, percentage of cloud cover is {current['clouds']}%\\n\\\r\n",
    "The wind comes from {degrees_to_cardinal(current['wind_deg'])} direction with a speed {current['wind_speed']} m/s.\")"
   ]
  },
  {
   "cell_type": "code",
   "execution_count": 8,
   "metadata": {
    "execution": {
     "iopub.execute_input": "2021-08-26T00:47:02.435825Z",
     "iopub.status.busy": "2021-08-26T00:47:02.433474Z",
     "iopub.status.idle": "2021-08-26T00:47:02.439002Z",
     "shell.execute_reply": "2021-08-26T00:47:02.438592Z"
    }
   },
   "outputs": [],
   "source": [
    "df_hourly = pd.DataFrame(data['hourly'])\r\n",
    "df_daily = pd.DataFrame(data['daily'])"
   ]
  },
  {
   "cell_type": "code",
   "execution_count": 9,
   "metadata": {
    "execution": {
     "iopub.execute_input": "2021-08-26T00:47:02.450816Z",
     "iopub.status.busy": "2021-08-26T00:47:02.447369Z",
     "iopub.status.idle": "2021-08-26T00:47:02.703880Z",
     "shell.execute_reply": "2021-08-26T00:47:02.704375Z"
    }
   },
   "outputs": [
    {
     "data": {
      "image/png": "[encoded data removed]",
      "text/plain": [
       "<Figure size 864x432 with 1 Axes>"
      ]
     },
     "metadata": {
      "needs_background": "light"
     },
     "output_type": "display_data"
    }
   ],
   "source": [
    "fig, ax = plt.subplots(figsize=(12, 6))\r\n",
    "plt.plot(df_hourly.temp, '.-', label='Temperature')\r\n",
    "plt.plot(df_hourly.feels_like, '.-', label='Feels Like')\r\n",
    "ax.set(title='Temperature in future 48 hours', xlabel='Time', ylabel='Temperature')\r\n",
    "ax.set_xticks(list(range(0, len(df_hourly), 2)))\r\n",
    "ax.set_xticklabels([ts2dt(ts, '%m-%d %H:%M')[0] for i, ts in enumerate(df_hourly.dt) if i%2==0], \r\n",
    "                   rotation=45, ha=\"right\")\r\n",
    "ax.locator_params(nbins=15, axis='y')\r\n",
    "plt.legend()\r\n",
    "plt.show()"
   ]
  },
  {
   "cell_type": "code",
   "execution_count": 10,
   "metadata": {
    "execution": {
     "iopub.execute_input": "2021-08-26T00:47:02.723033Z",
     "iopub.status.busy": "2021-08-26T00:47:02.716128Z",
     "iopub.status.idle": "2021-08-26T00:47:02.727094Z",
     "shell.execute_reply": "2021-08-26T00:47:02.727480Z"
    }
   },
   "outputs": [
    {
     "data": {
      "text/html": [
       "<div>\n",
       "<style scoped>\n",
       "    .dataframe tbody tr th:only-of-type {\n",
       "        vertical-align: middle;\n",
       "    }\n",
       "\n",
       "    .dataframe tbody tr th {\n",
       "        vertical-align: top;\n",
       "    }\n",
       "\n",
       "    .dataframe thead th {\n",
       "        text-align: right;\n",
       "    }\n",
       "</style>\n",
       "<table border=\"1\" class=\"dataframe\">\n",
       "  <thead>\n",
       "    <tr style=\"text-align: right;\">\n",
       "      <th></th>\n",
       "      <th>dt</th>\n",
       "      <th>temp</th>\n",
       "      <th>feels_like</th>\n",
       "      <th>pressure</th>\n",
       "      <th>humidity</th>\n",
       "      <th>dew_point</th>\n",
       "      <th>uvi</th>\n",
       "      <th>clouds</th>\n",
       "      <th>visibility</th>\n",
       "      <th>wind_speed</th>\n",
       "      <th>wind_deg</th>\n",
       "      <th>wind_gust</th>\n",
       "      <th>weather</th>\n",
       "      <th>pop</th>\n",
       "      <th>rain</th>\n",
       "    </tr>\n",
       "  </thead>\n",
       "  <tbody>\n",
       "    <tr>\n",
       "      <th>0</th>\n",
       "      <td>1629936000</td>\n",
       "      <td>29.81</td>\n",
       "      <td>36.81</td>\n",
       "      <td>1012</td>\n",
       "      <td>81</td>\n",
       "      <td>26.19</td>\n",
       "      <td>1.59</td>\n",
       "      <td>95</td>\n",
       "      <td>10000</td>\n",
       "      <td>2.17</td>\n",
       "      <td>135</td>\n",
       "      <td>2.89</td>\n",
       "      <td>[{'id': 500, 'main': 'Rain', 'description': 'l...</td>\n",
       "      <td>0.67</td>\n",
       "      <td>{'1h': 0.15}</td>\n",
       "    </tr>\n",
       "    <tr>\n",
       "      <th>1</th>\n",
       "      <td>1629939600</td>\n",
       "      <td>30.12</td>\n",
       "      <td>37.12</td>\n",
       "      <td>1012</td>\n",
       "      <td>83</td>\n",
       "      <td>26.91</td>\n",
       "      <td>4.04</td>\n",
       "      <td>98</td>\n",
       "      <td>10000</td>\n",
       "      <td>2.58</td>\n",
       "      <td>126</td>\n",
       "      <td>2.95</td>\n",
       "      <td>[{'id': 500, 'main': 'Rain', 'description': 'l...</td>\n",
       "      <td>0.70</td>\n",
       "      <td>{'1h': 0.18}</td>\n",
       "    </tr>\n",
       "    <tr>\n",
       "      <th>2</th>\n",
       "      <td>1629943200</td>\n",
       "      <td>30.00</td>\n",
       "      <td>37.00</td>\n",
       "      <td>1012</td>\n",
       "      <td>80</td>\n",
       "      <td>26.17</td>\n",
       "      <td>7.18</td>\n",
       "      <td>92</td>\n",
       "      <td>10000</td>\n",
       "      <td>2.45</td>\n",
       "      <td>135</td>\n",
       "      <td>2.81</td>\n",
       "      <td>[{'id': 500, 'main': 'Rain', 'description': 'l...</td>\n",
       "      <td>0.73</td>\n",
       "      <td>{'1h': 0.15}</td>\n",
       "    </tr>\n",
       "    <tr>\n",
       "      <th>3</th>\n",
       "      <td>1629946800</td>\n",
       "      <td>30.02</td>\n",
       "      <td>36.89</td>\n",
       "      <td>1012</td>\n",
       "      <td>77</td>\n",
       "      <td>25.54</td>\n",
       "      <td>10.05</td>\n",
       "      <td>82</td>\n",
       "      <td>10000</td>\n",
       "      <td>2.53</td>\n",
       "      <td>129</td>\n",
       "      <td>2.76</td>\n",
       "      <td>[{'id': 500, 'main': 'Rain', 'description': 'l...</td>\n",
       "      <td>0.80</td>\n",
       "      <td>{'1h': 0.24}</td>\n",
       "    </tr>\n",
       "    <tr>\n",
       "      <th>4</th>\n",
       "      <td>1629950400</td>\n",
       "      <td>29.93</td>\n",
       "      <td>36.11</td>\n",
       "      <td>1012</td>\n",
       "      <td>75</td>\n",
       "      <td>25.01</td>\n",
       "      <td>11.20</td>\n",
       "      <td>79</td>\n",
       "      <td>10000</td>\n",
       "      <td>3.27</td>\n",
       "      <td>128</td>\n",
       "      <td>3.25</td>\n",
       "      <td>[{'id': 500, 'main': 'Rain', 'description': 'l...</td>\n",
       "      <td>0.86</td>\n",
       "      <td>{'1h': 0.54}</td>\n",
       "    </tr>\n",
       "  </tbody>\n",
       "</table>\n",
       "</div>"
      ],
      "text/plain": [
       "           dt   temp  feels_like  pressure  humidity  dew_point    uvi  \\\n",
       "0  1629936000  29.81       36.81      1012        81      26.19   1.59   \n",
       "1  1629939600  30.12       37.12      1012        83      26.91   4.04   \n",
       "2  1629943200  30.00       37.00      1012        80      26.17   7.18   \n",
       "3  1629946800  30.02       36.89      1012        77      25.54  10.05   \n",
       "4  1629950400  29.93       36.11      1012        75      25.01  11.20   \n",
       "\n",
       "   clouds  visibility  wind_speed  wind_deg  wind_gust  \\\n",
       "0      95       10000        2.17       135       2.89   \n",
       "1      98       10000        2.58       126       2.95   \n",
       "2      92       10000        2.45       135       2.81   \n",
       "3      82       10000        2.53       129       2.76   \n",
       "4      79       10000        3.27       128       3.25   \n",
       "\n",
       "                                             weather   pop          rain  \n",
       "0  [{'id': 500, 'main': 'Rain', 'description': 'l...  0.67  {'1h': 0.15}  \n",
       "1  [{'id': 500, 'main': 'Rain', 'description': 'l...  0.70  {'1h': 0.18}  \n",
       "2  [{'id': 500, 'main': 'Rain', 'description': 'l...  0.73  {'1h': 0.15}  \n",
       "3  [{'id': 500, 'main': 'Rain', 'description': 'l...  0.80  {'1h': 0.24}  \n",
       "4  [{'id': 500, 'main': 'Rain', 'description': 'l...  0.86  {'1h': 0.54}  "
      ]
     },
     "execution_count": 10,
     "metadata": {},
     "output_type": "execute_result"
    }
   ],
   "source": [
    "df_hourly.head()"
   ]
  },
  {
   "cell_type": "code",
   "execution_count": null,
   "metadata": {},
   "outputs": [],
   "source": []
  }
 ],
 "metadata": {
  "interpreter": {
   "hash": "c1b4cfe941b6d2466ad1fb5979e97da9cda8801728c8091b097ab734208fc00c"
  },
  "kernelspec": {
   "display_name": "Python 3.8.3 64-bit ('base': conda)",
   "name": "python3"
  },
  "language_info": {
   "codemirror_mode": {
    "name": "ipython",
    "version": 3
   },
   "file_extension": ".py",
   "mimetype": "text/x-python",
   "name": "python",
   "nbconvert_exporter": "python",
   "pygments_lexer": "ipython3",
   "version": "3.8.11"
  }
 },
 "nbformat": 4,
 "nbformat_minor": 2
}
