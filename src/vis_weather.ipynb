{
 "cells": [
  {
   "cell_type": "code",
   "execution_count": 1,
   "metadata": {
    "execution": {
     "iopub.execute_input": "2021-09-01T06:19:09.122784Z",
     "iopub.status.busy": "2021-09-01T06:19:09.122233Z",
     "iopub.status.idle": "2021-09-01T06:19:12.612173Z",
     "shell.execute_reply": "2021-09-01T06:19:12.610682Z"
    }
   },
   "outputs": [],
   "source": [
    "import json, yaml, requests\r\n",
    "from datetime import datetime\r\n",
    "from dateutil import tz\r\n",
    "import pandas as pd\r\n",
    "from PIL import Image\r\n",
    "from io import BytesIO\r\n",
    "import matplotlib.pyplot as plt\r\n",
    "import seaborn\r\n",
    "\r\n",
    "CONFIG_PATH = \"../config/config.yaml\""
   ]
  },
  {
   "cell_type": "code",
   "execution_count": 2,
   "metadata": {
    "execution": {
     "iopub.execute_input": "2021-09-01T06:19:12.617410Z",
     "iopub.status.busy": "2021-09-01T06:19:12.614731Z",
     "iopub.status.idle": "2021-09-01T06:19:12.623204Z",
     "shell.execute_reply": "2021-09-01T06:19:12.622629Z"
    }
   },
   "outputs": [],
   "source": [
    "with open('../newest_ts', 'r') as f:\r\n",
    "    newest_ts = f.read()\r\n",
    "\r\n",
    "data_path = f\"../data/data_{newest_ts}.json\"\r\n",
    "with open(data_path, 'r') as f:\r\n",
    "    data = json.load(f)\r\n",
    "\r\n",
    "with open(CONFIG_PATH, \"r\") as stream:\r\n",
    "    config = yaml.safe_load(stream)\r\n",
    "\r\n",
    "TIME_ZONE = config['time_zone']\r\n",
    "DATETIME_FORMAT = config['dt_format']"
   ]
  },
  {
   "cell_type": "code",
   "execution_count": 3,
   "metadata": {
    "execution": {
     "iopub.execute_input": "2021-09-01T06:19:12.628640Z",
     "iopub.status.busy": "2021-09-01T06:19:12.627879Z",
     "iopub.status.idle": "2021-09-01T06:19:12.699874Z",
     "shell.execute_reply": "2021-09-01T06:19:12.700445Z"
    }
   },
   "outputs": [
    {
     "name": "stdout",
     "output_type": "stream",
     "text": [
      "Recent query happens at 2021-09-01 14:19:05 (CST).\n"
     ]
    }
   ],
   "source": [
    "def ts2dt(ts, format=DATETIME_FORMAT):\r\n",
    "    dt = (datetime.utcfromtimestamp(int(ts))\r\n",
    "                    .replace(tzinfo=tz.tzutc())\r\n",
    "                    # .astimezone(tz.tzlocal())\r\n",
    "                    .astimezone(tz.gettz(TIME_ZONE)))\r\n",
    "    return dt.strftime(format), dt\r\n",
    "\r\n",
    "_, newest_dt = ts2dt(newest_ts)\r\n",
    "print(f\"Recent query happens at {newest_dt.strftime(DATETIME_FORMAT)} ({newest_dt.tzname()}).\")"
   ]
  },
  {
   "cell_type": "code",
   "execution_count": 4,
   "metadata": {
    "execution": {
     "iopub.execute_input": "2021-09-01T06:19:12.706956Z",
     "iopub.status.busy": "2021-09-01T06:19:12.705371Z",
     "iopub.status.idle": "2021-09-01T06:19:12.708000Z",
     "shell.execute_reply": "2021-09-01T06:19:12.708650Z"
    }
   },
   "outputs": [],
   "source": [
    "def degrees_to_cardinal(d):\r\n",
    "  dirs = ['N', 'NNE', 'NE', 'ENE', 'E', 'ESE', 'SE', 'SSE', 'S', 'SSW', 'SW', 'WSW', 'W', 'WNW', 'NW', 'NNW']\r\n",
    "  ix = int(round(d / (360. / len(dirs))))\r\n",
    "  return dirs[ix % len(dirs)]"
   ]
  },
  {
   "cell_type": "code",
   "execution_count": 5,
   "metadata": {
    "execution": {
     "iopub.execute_input": "2021-09-01T06:19:12.712708Z",
     "iopub.status.busy": "2021-09-01T06:19:12.712228Z",
     "iopub.status.idle": "2021-09-01T06:19:12.714061Z",
     "shell.execute_reply": "2021-09-01T06:19:12.714681Z"
    }
   },
   "outputs": [],
   "source": [
    "# data.keys()"
   ]
  },
  {
   "cell_type": "code",
   "execution_count": 6,
   "metadata": {
    "execution": {
     "iopub.execute_input": "2021-09-01T06:19:12.719921Z",
     "iopub.status.busy": "2021-09-01T06:19:12.718284Z",
     "iopub.status.idle": "2021-09-01T06:19:12.720623Z",
     "shell.execute_reply": "2021-09-01T06:19:12.721115Z"
    }
   },
   "outputs": [],
   "source": [
    "# data['current']"
   ]
  },
  {
   "cell_type": "code",
   "execution_count": 7,
   "metadata": {
    "execution": {
     "iopub.execute_input": "2021-09-01T06:19:12.740718Z",
     "iopub.status.busy": "2021-09-01T06:19:12.727348Z",
     "iopub.status.idle": "2021-09-01T06:19:13.350156Z",
     "shell.execute_reply": "2021-09-01T06:19:13.350890Z"
    }
   },
   "outputs": [
    {
     "data": {
      "image/png": "[encoded data removed]",
      "text/plain": [
       "<Figure size 216x216 with 1 Axes>"
      ]
     },
     "metadata": {
      "needs_background": "light"
     },
     "output_type": "display_data"
    },
    {
     "name": "stdout",
     "output_type": "stream",
     "text": [
      "Today, sun rises at 06:05 and sets at 18:40.\n",
      "Currently, the weather is Clouds (broken clouds).\n",
      "The temperature is 31.13°C and it feels like 38.13°C.\n",
      "The UV index is 8.98, humidity is 78%.\n",
      "The pressure is 1009 hPa, percentage of cloud cover is 68%\n",
      "The wind comes from E direction with a speed 6.44 m/s.\n"
     ]
    }
   ],
   "source": [
    "current = data['current']\r\n",
    "\r\n",
    "fig, ax = plt.subplots(figsize=(3, 3))\r\n",
    "icon = requests.get(f\"http://openweathermap.org/img/wn/{current['weather'][0]['icon']}@2x.png\")\r\n",
    "im = Image.open(BytesIO(icon.content))\r\n",
    "plt.imshow(im)\r\n",
    "ax.set_axis_off()\r\n",
    "plt.show()\r\n",
    "\r\n",
    "print(f\"Today, sun rises at {ts2dt(current['sunrise'], '%H:%M')[0]} \\\r\n",
    "and sets at {ts2dt(current['sunset'], '%H:%M')[0]}.\\n\\\r\n",
    "Currently, the weather is {current['weather'][0]['main']} ({current['weather'][0]['description']}).\\n\\\r\n",
    "The temperature is {current['temp']}°C and it feels like {current['feels_like']}°C.\\n\\\r\n",
    "The UV index is {current['uvi']}, humidity is {current['humidity']}%.\\n\\\r\n",
    "The pressure is {current['pressure']} hPa, percentage of cloud cover is {current['clouds']}%\\n\\\r\n",
    "The wind comes from {degrees_to_cardinal(current['wind_deg'])} direction with a speed {current['wind_speed']} m/s.\")"
   ]
  },
  {
   "cell_type": "code",
   "execution_count": 8,
   "metadata": {
    "execution": {
     "iopub.execute_input": "2021-09-01T06:19:13.354133Z",
     "iopub.status.busy": "2021-09-01T06:19:13.353672Z",
     "iopub.status.idle": "2021-09-01T06:19:13.360407Z",
     "shell.execute_reply": "2021-09-01T06:19:13.361015Z"
    }
   },
   "outputs": [],
   "source": [
    "df_hourly = pd.DataFrame(data['hourly'])\r\n",
    "df_daily = pd.DataFrame(data['daily'])"
   ]
  },
  {
   "cell_type": "code",
   "execution_count": 9,
   "metadata": {
    "execution": {
     "iopub.execute_input": "2021-09-01T06:19:13.364880Z",
     "iopub.status.busy": "2021-09-01T06:19:13.363713Z",
     "iopub.status.idle": "2021-09-01T06:19:13.678157Z",
     "shell.execute_reply": "2021-09-01T06:19:13.677314Z"
    }
   },
   "outputs": [
    {
     "data": {
      "image/png": "[encoded data removed]",
      "text/plain": [
       "<Figure size 864x432 with 1 Axes>"
      ]
     },
     "metadata": {
      "needs_background": "light"
     },
     "output_type": "display_data"
    }
   ],
   "source": [
    "fig, ax = plt.subplots(figsize=(12, 6))\r\n",
    "plt.plot(df_hourly.temp, '.-', label='Temperature')\r\n",
    "plt.plot(df_hourly.feels_like, '.-', label='Feels Like')\r\n",
    "ax.set(title='Temperature in future 48 hours', xlabel='Time', ylabel='Temperature')\r\n",
    "ax.set_xticks(list(range(0, len(df_hourly), 2)))\r\n",
    "ax.set_xticklabels([ts2dt(ts, '%m-%d %H:%M')[0] for i, ts in enumerate(df_hourly.dt) if i%2==0], \r\n",
    "                   rotation=45, ha=\"right\")\r\n",
    "ax.locator_params(nbins=15, axis='y')\r\n",
    "plt.legend()\r\n",
    "plt.show()"
   ]
  },
  {
   "cell_type": "code",
   "execution_count": 10,
   "metadata": {
    "execution": {
     "iopub.execute_input": "2021-09-01T06:19:13.687816Z",
     "iopub.status.busy": "2021-09-01T06:19:13.681754Z",
     "iopub.status.idle": "2021-09-01T06:19:13.702824Z",
     "shell.execute_reply": "2021-09-01T06:19:13.701828Z"
    }
   },
   "outputs": [
    {
     "data": {
      "text/html": [
       "<div>\n",
       "<style scoped>\n",
       "    .dataframe tbody tr th:only-of-type {\n",
       "        vertical-align: middle;\n",
       "    }\n",
       "\n",
       "    .dataframe tbody tr th {\n",
       "        vertical-align: top;\n",
       "    }\n",
       "\n",
       "    .dataframe thead th {\n",
       "        text-align: right;\n",
       "    }\n",
       "</style>\n",
       "<table border=\"1\" class=\"dataframe\">\n",
       "  <thead>\n",
       "    <tr style=\"text-align: right;\">\n",
       "      <th></th>\n",
       "      <th>dt</th>\n",
       "      <th>temp</th>\n",
       "      <th>feels_like</th>\n",
       "      <th>pressure</th>\n",
       "      <th>humidity</th>\n",
       "      <th>dew_point</th>\n",
       "      <th>uvi</th>\n",
       "      <th>clouds</th>\n",
       "      <th>visibility</th>\n",
       "      <th>wind_speed</th>\n",
       "      <th>wind_deg</th>\n",
       "      <th>wind_gust</th>\n",
       "      <th>weather</th>\n",
       "      <th>pop</th>\n",
       "      <th>rain</th>\n",
       "    </tr>\n",
       "  </thead>\n",
       "  <tbody>\n",
       "    <tr>\n",
       "      <th>0</th>\n",
       "      <td>1630476000</td>\n",
       "      <td>31.13</td>\n",
       "      <td>38.13</td>\n",
       "      <td>1009</td>\n",
       "      <td>78</td>\n",
       "      <td>26.83</td>\n",
       "      <td>8.98</td>\n",
       "      <td>68</td>\n",
       "      <td>10000</td>\n",
       "      <td>6.44</td>\n",
       "      <td>90</td>\n",
       "      <td>7.62</td>\n",
       "      <td>[{'id': 500, 'main': 'Rain', 'description': 'l...</td>\n",
       "      <td>0.84</td>\n",
       "      <td>{'1h': 0.38}</td>\n",
       "    </tr>\n",
       "    <tr>\n",
       "      <th>1</th>\n",
       "      <td>1630479600</td>\n",
       "      <td>30.80</td>\n",
       "      <td>37.80</td>\n",
       "      <td>1009</td>\n",
       "      <td>76</td>\n",
       "      <td>26.08</td>\n",
       "      <td>6.29</td>\n",
       "      <td>57</td>\n",
       "      <td>10000</td>\n",
       "      <td>6.58</td>\n",
       "      <td>93</td>\n",
       "      <td>7.73</td>\n",
       "      <td>[{'id': 803, 'main': 'Clouds', 'description': ...</td>\n",
       "      <td>0.51</td>\n",
       "      <td>NaN</td>\n",
       "    </tr>\n",
       "    <tr>\n",
       "      <th>2</th>\n",
       "      <td>1630483200</td>\n",
       "      <td>30.39</td>\n",
       "      <td>37.39</td>\n",
       "      <td>1009</td>\n",
       "      <td>75</td>\n",
       "      <td>25.46</td>\n",
       "      <td>3.31</td>\n",
       "      <td>46</td>\n",
       "      <td>10000</td>\n",
       "      <td>6.23</td>\n",
       "      <td>97</td>\n",
       "      <td>7.53</td>\n",
       "      <td>[{'id': 500, 'main': 'Rain', 'description': 'l...</td>\n",
       "      <td>0.55</td>\n",
       "      <td>{'1h': 0.27}</td>\n",
       "    </tr>\n",
       "    <tr>\n",
       "      <th>3</th>\n",
       "      <td>1630486800</td>\n",
       "      <td>29.79</td>\n",
       "      <td>35.98</td>\n",
       "      <td>1008</td>\n",
       "      <td>76</td>\n",
       "      <td>25.10</td>\n",
       "      <td>1.19</td>\n",
       "      <td>33</td>\n",
       "      <td>10000</td>\n",
       "      <td>5.93</td>\n",
       "      <td>97</td>\n",
       "      <td>7.35</td>\n",
       "      <td>[{'id': 802, 'main': 'Clouds', 'description': ...</td>\n",
       "      <td>0.55</td>\n",
       "      <td>NaN</td>\n",
       "    </tr>\n",
       "    <tr>\n",
       "      <th>4</th>\n",
       "      <td>1630490400</td>\n",
       "      <td>28.99</td>\n",
       "      <td>34.29</td>\n",
       "      <td>1008</td>\n",
       "      <td>78</td>\n",
       "      <td>24.76</td>\n",
       "      <td>0.21</td>\n",
       "      <td>21</td>\n",
       "      <td>10000</td>\n",
       "      <td>5.56</td>\n",
       "      <td>97</td>\n",
       "      <td>7.65</td>\n",
       "      <td>[{'id': 801, 'main': 'Clouds', 'description': ...</td>\n",
       "      <td>0.51</td>\n",
       "      <td>NaN</td>\n",
       "    </tr>\n",
       "  </tbody>\n",
       "</table>\n",
       "</div>"
      ],
      "text/plain": [
       "           dt   temp  feels_like  pressure  humidity  dew_point   uvi  clouds  \\\n",
       "0  1630476000  31.13       38.13      1009        78      26.83  8.98      68   \n",
       "1  1630479600  30.80       37.80      1009        76      26.08  6.29      57   \n",
       "2  1630483200  30.39       37.39      1009        75      25.46  3.31      46   \n",
       "3  1630486800  29.79       35.98      1008        76      25.10  1.19      33   \n",
       "4  1630490400  28.99       34.29      1008        78      24.76  0.21      21   \n",
       "\n",
       "   visibility  wind_speed  wind_deg  wind_gust  \\\n",
       "0       10000        6.44        90       7.62   \n",
       "1       10000        6.58        93       7.73   \n",
       "2       10000        6.23        97       7.53   \n",
       "3       10000        5.93        97       7.35   \n",
       "4       10000        5.56        97       7.65   \n",
       "\n",
       "                                             weather   pop          rain  \n",
       "0  [{'id': 500, 'main': 'Rain', 'description': 'l...  0.84  {'1h': 0.38}  \n",
       "1  [{'id': 803, 'main': 'Clouds', 'description': ...  0.51           NaN  \n",
       "2  [{'id': 500, 'main': 'Rain', 'description': 'l...  0.55  {'1h': 0.27}  \n",
       "3  [{'id': 802, 'main': 'Clouds', 'description': ...  0.55           NaN  \n",
       "4  [{'id': 801, 'main': 'Clouds', 'description': ...  0.51           NaN  "
      ]
     },
     "execution_count": 10,
     "metadata": {},
     "output_type": "execute_result"
    }
   ],
   "source": [
    "df_hourly.head()"
   ]
  },
  {
   "cell_type": "code",
   "execution_count": null,
   "metadata": {},
   "outputs": [],
   "source": []
  }
 ],
 "metadata": {
  "interpreter": {
   "hash": "c1b4cfe941b6d2466ad1fb5979e97da9cda8801728c8091b097ab734208fc00c"
  },
  "kernelspec": {
   "display_name": "Python 3.8.3 64-bit ('base': conda)",
   "name": "python3"
  },
  "language_info": {
   "codemirror_mode": {
    "name": "ipython",
    "version": 3
   },
   "file_extension": ".py",
   "mimetype": "text/x-python",
   "name": "python",
   "nbconvert_exporter": "python",
   "pygments_lexer": "ipython3",
   "version": "3.8.11"
  }
 },
 "nbformat": 4,
 "nbformat_minor": 2
}
