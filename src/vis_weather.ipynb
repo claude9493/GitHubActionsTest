{
 "cells": [
  {
   "cell_type": "code",
   "execution_count": 1,
   "metadata": {
    "execution": {
     "iopub.execute_input": "2021-10-23T06:13:46.480231Z",
     "iopub.status.busy": "2021-10-23T06:13:46.474976Z",
     "iopub.status.idle": "2021-10-23T06:13:47.694909Z",
     "shell.execute_reply": "2021-10-23T06:13:47.694391Z"
    }
   },
   "outputs": [],
   "source": [
    "import json, yaml, requests\r\n",
    "from datetime import datetime\r\n",
    "from dateutil import tz\r\n",
    "import pandas as pd\r\n",
    "from PIL import Image\r\n",
    "from io import BytesIO\r\n",
    "import matplotlib.pyplot as plt\r\n",
    "import seaborn\r\n",
    "\r\n",
    "CONFIG_PATH = \"../config/config.yaml\""
   ]
  },
  {
   "cell_type": "code",
   "execution_count": 2,
   "metadata": {
    "execution": {
     "iopub.execute_input": "2021-10-23T06:13:47.702464Z",
     "iopub.status.busy": "2021-10-23T06:13:47.698933Z",
     "iopub.status.idle": "2021-10-23T06:13:47.704883Z",
     "shell.execute_reply": "2021-10-23T06:13:47.705286Z"
    }
   },
   "outputs": [],
   "source": [
    "with open('../newest_ts', 'r') as f:\r\n",
    "    newest_ts = f.read()\r\n",
    "\r\n",
    "data_path = f\"../data/data_{newest_ts}.json\"\r\n",
    "with open(data_path, 'r') as f:\r\n",
    "    data = json.load(f)\r\n",
    "\r\n",
    "with open(CONFIG_PATH, \"r\") as stream:\r\n",
    "    config = yaml.safe_load(stream)\r\n",
    "\r\n",
    "TIME_ZONE = config['time_zone']\r\n",
    "DATETIME_FORMAT = config['dt_format']"
   ]
  },
  {
   "cell_type": "code",
   "execution_count": 3,
   "metadata": {
    "execution": {
     "iopub.execute_input": "2021-10-23T06:13:47.711253Z",
     "iopub.status.busy": "2021-10-23T06:13:47.709628Z",
     "iopub.status.idle": "2021-10-23T06:13:47.715339Z",
     "shell.execute_reply": "2021-10-23T06:13:47.715765Z"
    }
   },
   "outputs": [
    {
     "name": "stdout",
     "output_type": "stream",
     "text": [
      "Recent query happens at 2021-10-23 14:13:43 (CST).\n"
     ]
    }
   ],
   "source": [
    "def ts2dt(ts, format=DATETIME_FORMAT):\r\n",
    "    dt = (datetime.utcfromtimestamp(int(ts))\r\n",
    "                    .replace(tzinfo=tz.tzutc())\r\n",
    "                    # .astimezone(tz.tzlocal())\r\n",
    "                    .astimezone(tz.gettz(TIME_ZONE)))\r\n",
    "    return dt.strftime(format), dt\r\n",
    "\r\n",
    "_, newest_dt = ts2dt(newest_ts)\r\n",
    "print(f\"Recent query happens at {newest_dt.strftime(DATETIME_FORMAT)} ({newest_dt.tzname()}).\")"
   ]
  },
  {
   "cell_type": "code",
   "execution_count": 4,
   "metadata": {
    "execution": {
     "iopub.execute_input": "2021-10-23T06:13:47.721751Z",
     "iopub.status.busy": "2021-10-23T06:13:47.720434Z",
     "iopub.status.idle": "2021-10-23T06:13:47.722353Z",
     "shell.execute_reply": "2021-10-23T06:13:47.722792Z"
    }
   },
   "outputs": [],
   "source": [
    "def degrees_to_cardinal(d):\r\n",
    "  dirs = ['N', 'NNE', 'NE', 'ENE', 'E', 'ESE', 'SE', 'SSE', 'S', 'SSW', 'SW', 'WSW', 'W', 'WNW', 'NW', 'NNW']\r\n",
    "  ix = int(round(d / (360. / len(dirs))))\r\n",
    "  return dirs[ix % len(dirs)]"
   ]
  },
  {
   "cell_type": "code",
   "execution_count": 5,
   "metadata": {
    "execution": {
     "iopub.execute_input": "2021-10-23T06:13:47.727315Z",
     "iopub.status.busy": "2021-10-23T06:13:47.726006Z",
     "iopub.status.idle": "2021-10-23T06:13:47.728007Z",
     "shell.execute_reply": "2021-10-23T06:13:47.728599Z"
    }
   },
   "outputs": [],
   "source": [
    "# data.keys()"
   ]
  },
  {
   "cell_type": "code",
   "execution_count": 6,
   "metadata": {
    "execution": {
     "iopub.execute_input": "2021-10-23T06:13:47.733256Z",
     "iopub.status.busy": "2021-10-23T06:13:47.731868Z",
     "iopub.status.idle": "2021-10-23T06:13:47.733957Z",
     "shell.execute_reply": "2021-10-23T06:13:47.734459Z"
    }
   },
   "outputs": [],
   "source": [
    "# data['current']"
   ]
  },
  {
   "cell_type": "code",
   "execution_count": 7,
   "metadata": {
    "execution": {
     "iopub.execute_input": "2021-10-23T06:13:47.754075Z",
     "iopub.status.busy": "2021-10-23T06:13:47.740523Z",
     "iopub.status.idle": "2021-10-23T06:13:48.168370Z",
     "shell.execute_reply": "2021-10-23T06:13:48.169070Z"
    }
   },
   "outputs": [
    {
     "data": {
      "image/png": "[encoded data removed]",
      "text/plain": [
       "<Figure size 216x216 with 1 Axes>"
      ]
     },
     "metadata": {
      "needs_background": "light"
     },
     "output_type": "display_data"
    },
    {
     "name": "stdout",
     "output_type": "stream",
     "text": [
      "Today, sun rises at 06:22 and sets at 17:51.\n",
      "Currently, the weather is Clouds (broken clouds).\n",
      "The temperature is 23.43°C and it feels like 23.84°C.\n",
      "The UV index is 6.02, humidity is 77%.\n",
      "The pressure is 1018 hPa, percentage of cloud cover is 84%\n",
      "The wind comes from NE direction with a speed 2.52 m/s.\n"
     ]
    }
   ],
   "source": [
    "current = data['current']\r\n",
    "\r\n",
    "fig, ax = plt.subplots(figsize=(3, 3))\r\n",
    "icon = requests.get(f\"http://openweathermap.org/img/wn/{current['weather'][0]['icon']}@2x.png\")\r\n",
    "im = Image.open(BytesIO(icon.content))\r\n",
    "plt.imshow(im)\r\n",
    "ax.set_axis_off()\r\n",
    "plt.show()\r\n",
    "\r\n",
    "print(f\"Today, sun rises at {ts2dt(current['sunrise'], '%H:%M')[0]} \\\r\n",
    "and sets at {ts2dt(current['sunset'], '%H:%M')[0]}.\\n\\\r\n",
    "Currently, the weather is {current['weather'][0]['main']} ({current['weather'][0]['description']}).\\n\\\r\n",
    "The temperature is {current['temp']}°C and it feels like {current['feels_like']}°C.\\n\\\r\n",
    "The UV index is {current['uvi']}, humidity is {current['humidity']}%.\\n\\\r\n",
    "The pressure is {current['pressure']} hPa, percentage of cloud cover is {current['clouds']}%\\n\\\r\n",
    "The wind comes from {degrees_to_cardinal(current['wind_deg'])} direction with a speed {current['wind_speed']} m/s.\")"
   ]
  },
  {
   "cell_type": "code",
   "execution_count": 8,
   "metadata": {
    "execution": {
     "iopub.execute_input": "2021-10-23T06:13:48.172599Z",
     "iopub.status.busy": "2021-10-23T06:13:48.171469Z",
     "iopub.status.idle": "2021-10-23T06:13:48.178860Z",
     "shell.execute_reply": "2021-10-23T06:13:48.179528Z"
    }
   },
   "outputs": [],
   "source": [
    "df_hourly = pd.DataFrame(data['hourly'])\r\n",
    "df_daily = pd.DataFrame(data['daily'])"
   ]
  },
  {
   "cell_type": "code",
   "execution_count": 9,
   "metadata": {
    "execution": {
     "iopub.execute_input": "2021-10-23T06:13:48.182878Z",
     "iopub.status.busy": "2021-10-23T06:13:48.181737Z",
     "iopub.status.idle": "2021-10-23T06:13:48.497845Z",
     "shell.execute_reply": "2021-10-23T06:13:48.498254Z"
    }
   },
   "outputs": [
    {
     "data": {
      "image/png": "[encoded data removed]",
      "text/plain": [
       "<Figure size 864x432 with 1 Axes>"
      ]
     },
     "metadata": {
      "needs_background": "light"
     },
     "output_type": "display_data"
    }
   ],
   "source": [
    "fig, ax = plt.subplots(figsize=(12, 6))\r\n",
    "plt.plot(df_hourly.temp, '.-', label='Temperature')\r\n",
    "plt.plot(df_hourly.feels_like, '.-', label='Feels Like')\r\n",
    "ax.set(title='Temperature in future 48 hours', xlabel='Time', ylabel='Temperature')\r\n",
    "ax.set_xticks(list(range(0, len(df_hourly), 2)))\r\n",
    "ax.set_xticklabels([ts2dt(ts, '%m-%d %H:%M')[0] for i, ts in enumerate(df_hourly.dt) if i%2==0], \r\n",
    "                   rotation=45, ha=\"right\")\r\n",
    "ax.locator_params(nbins=15, axis='y')\r\n",
    "plt.legend()\r\n",
    "plt.show()"
   ]
  },
  {
   "cell_type": "code",
   "execution_count": 10,
   "metadata": {
    "execution": {
     "iopub.execute_input": "2021-10-23T06:13:48.517952Z",
     "iopub.status.busy": "2021-10-23T06:13:48.510464Z",
     "iopub.status.idle": "2021-10-23T06:13:48.523923Z",
     "shell.execute_reply": "2021-10-23T06:13:48.523481Z"
    }
   },
   "outputs": [
    {
     "data": {
      "text/html": [
       "<div>\n",
       "<style scoped>\n",
       "    .dataframe tbody tr th:only-of-type {\n",
       "        vertical-align: middle;\n",
       "    }\n",
       "\n",
       "    .dataframe tbody tr th {\n",
       "        vertical-align: top;\n",
       "    }\n",
       "\n",
       "    .dataframe thead th {\n",
       "        text-align: right;\n",
       "    }\n",
       "</style>\n",
       "<table border=\"1\" class=\"dataframe\">\n",
       "  <thead>\n",
       "    <tr style=\"text-align: right;\">\n",
       "      <th></th>\n",
       "      <th>dt</th>\n",
       "      <th>temp</th>\n",
       "      <th>feels_like</th>\n",
       "      <th>pressure</th>\n",
       "      <th>humidity</th>\n",
       "      <th>dew_point</th>\n",
       "      <th>uvi</th>\n",
       "      <th>clouds</th>\n",
       "      <th>visibility</th>\n",
       "      <th>wind_speed</th>\n",
       "      <th>wind_deg</th>\n",
       "      <th>wind_gust</th>\n",
       "      <th>weather</th>\n",
       "      <th>pop</th>\n",
       "    </tr>\n",
       "  </thead>\n",
       "  <tbody>\n",
       "    <tr>\n",
       "      <th>0</th>\n",
       "      <td>1634968800</td>\n",
       "      <td>23.43</td>\n",
       "      <td>23.84</td>\n",
       "      <td>1018</td>\n",
       "      <td>77</td>\n",
       "      <td>19.17</td>\n",
       "      <td>6.02</td>\n",
       "      <td>84</td>\n",
       "      <td>10000</td>\n",
       "      <td>2.52</td>\n",
       "      <td>38</td>\n",
       "      <td>2.83</td>\n",
       "      <td>[{'id': 803, 'main': 'Clouds', 'description': ...</td>\n",
       "      <td>0.0</td>\n",
       "    </tr>\n",
       "    <tr>\n",
       "      <th>1</th>\n",
       "      <td>1634972400</td>\n",
       "      <td>23.38</td>\n",
       "      <td>23.71</td>\n",
       "      <td>1018</td>\n",
       "      <td>74</td>\n",
       "      <td>18.48</td>\n",
       "      <td>3.88</td>\n",
       "      <td>75</td>\n",
       "      <td>10000</td>\n",
       "      <td>2.77</td>\n",
       "      <td>45</td>\n",
       "      <td>2.85</td>\n",
       "      <td>[{'id': 803, 'main': 'Clouds', 'description': ...</td>\n",
       "      <td>0.0</td>\n",
       "    </tr>\n",
       "    <tr>\n",
       "      <th>2</th>\n",
       "      <td>1634976000</td>\n",
       "      <td>23.25</td>\n",
       "      <td>23.48</td>\n",
       "      <td>1018</td>\n",
       "      <td>71</td>\n",
       "      <td>17.70</td>\n",
       "      <td>1.78</td>\n",
       "      <td>68</td>\n",
       "      <td>10000</td>\n",
       "      <td>2.98</td>\n",
       "      <td>56</td>\n",
       "      <td>3.06</td>\n",
       "      <td>[{'id': 803, 'main': 'Clouds', 'description': ...</td>\n",
       "      <td>0.0</td>\n",
       "    </tr>\n",
       "    <tr>\n",
       "      <th>3</th>\n",
       "      <td>1634979600</td>\n",
       "      <td>22.85</td>\n",
       "      <td>23.04</td>\n",
       "      <td>1019</td>\n",
       "      <td>71</td>\n",
       "      <td>17.32</td>\n",
       "      <td>0.48</td>\n",
       "      <td>61</td>\n",
       "      <td>10000</td>\n",
       "      <td>3.20</td>\n",
       "      <td>59</td>\n",
       "      <td>3.33</td>\n",
       "      <td>[{'id': 803, 'main': 'Clouds', 'description': ...</td>\n",
       "      <td>0.0</td>\n",
       "    </tr>\n",
       "    <tr>\n",
       "      <th>4</th>\n",
       "      <td>1634983200</td>\n",
       "      <td>22.00</td>\n",
       "      <td>22.11</td>\n",
       "      <td>1019</td>\n",
       "      <td>71</td>\n",
       "      <td>16.50</td>\n",
       "      <td>0.00</td>\n",
       "      <td>50</td>\n",
       "      <td>10000</td>\n",
       "      <td>3.24</td>\n",
       "      <td>53</td>\n",
       "      <td>3.46</td>\n",
       "      <td>[{'id': 802, 'main': 'Clouds', 'description': ...</td>\n",
       "      <td>0.0</td>\n",
       "    </tr>\n",
       "  </tbody>\n",
       "</table>\n",
       "</div>"
      ],
      "text/plain": [
       "           dt   temp  feels_like  pressure  humidity  dew_point   uvi  clouds  \\\n",
       "0  1634968800  23.43       23.84      1018        77      19.17  6.02      84   \n",
       "1  1634972400  23.38       23.71      1018        74      18.48  3.88      75   \n",
       "2  1634976000  23.25       23.48      1018        71      17.70  1.78      68   \n",
       "3  1634979600  22.85       23.04      1019        71      17.32  0.48      61   \n",
       "4  1634983200  22.00       22.11      1019        71      16.50  0.00      50   \n",
       "\n",
       "   visibility  wind_speed  wind_deg  wind_gust  \\\n",
       "0       10000        2.52        38       2.83   \n",
       "1       10000        2.77        45       2.85   \n",
       "2       10000        2.98        56       3.06   \n",
       "3       10000        3.20        59       3.33   \n",
       "4       10000        3.24        53       3.46   \n",
       "\n",
       "                                             weather  pop  \n",
       "0  [{'id': 803, 'main': 'Clouds', 'description': ...  0.0  \n",
       "1  [{'id': 803, 'main': 'Clouds', 'description': ...  0.0  \n",
       "2  [{'id': 803, 'main': 'Clouds', 'description': ...  0.0  \n",
       "3  [{'id': 803, 'main': 'Clouds', 'description': ...  0.0  \n",
       "4  [{'id': 802, 'main': 'Clouds', 'description': ...  0.0  "
      ]
     },
     "execution_count": 10,
     "metadata": {},
     "output_type": "execute_result"
    }
   ],
   "source": [
    "df_hourly.head()"
   ]
  },
  {
   "cell_type": "code",
   "execution_count": null,
   "metadata": {},
   "outputs": [],
   "source": []
  }
 ],
 "metadata": {
  "interpreter": {
   "hash": "c1b4cfe941b6d2466ad1fb5979e97da9cda8801728c8091b097ab734208fc00c"
  },
  "kernelspec": {
   "display_name": "Python 3.8.3 64-bit ('base': conda)",
   "name": "python3"
  },
  "language_info": {
   "codemirror_mode": {
    "name": "ipython",
    "version": 3
   },
   "file_extension": ".py",
   "mimetype": "text/x-python",
   "name": "python",
   "nbconvert_exporter": "python",
   "pygments_lexer": "ipython3",
   "version": "3.8.12"
  }
 },
 "nbformat": 4,
 "nbformat_minor": 2
}
