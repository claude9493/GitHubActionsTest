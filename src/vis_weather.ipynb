{
 "cells": [
  {
   "cell_type": "code",
   "execution_count": 1,
   "metadata": {
    "execution": {
     "iopub.execute_input": "2021-09-01T03:16:17.579018Z",
     "iopub.status.busy": "2021-09-01T03:16:17.578061Z",
     "iopub.status.idle": "2021-09-01T03:16:19.016422Z",
     "shell.execute_reply": "2021-09-01T03:16:19.017061Z"
    }
   },
   "outputs": [],
   "source": [
    "import json, yaml, requests\r\n",
    "from datetime import datetime\r\n",
    "from dateutil import tz\r\n",
    "import pandas as pd\r\n",
    "from PIL import Image\r\n",
    "from io import BytesIO\r\n",
    "import matplotlib.pyplot as plt\r\n",
    "import seaborn\r\n",
    "\r\n",
    "CONFIG_PATH = \"../config/config.yaml\""
   ]
  },
  {
   "cell_type": "code",
   "execution_count": 2,
   "metadata": {
    "execution": {
     "iopub.execute_input": "2021-09-01T03:16:19.023420Z",
     "iopub.status.busy": "2021-09-01T03:16:19.022042Z",
     "iopub.status.idle": "2021-09-01T03:16:19.027915Z",
     "shell.execute_reply": "2021-09-01T03:16:19.028348Z"
    }
   },
   "outputs": [],
   "source": [
    "with open('../newest_ts', 'r') as f:\r\n",
    "    newest_ts = f.read()\r\n",
    "\r\n",
    "data_path = f\"../data/data_{newest_ts}.json\"\r\n",
    "with open(data_path, 'r') as f:\r\n",
    "    data = json.load(f)\r\n",
    "\r\n",
    "with open(CONFIG_PATH, \"r\") as stream:\r\n",
    "    config = yaml.safe_load(stream)\r\n",
    "\r\n",
    "TIME_ZONE = config['time_zone']\r\n",
    "DATETIME_FORMAT = config['dt_format']"
   ]
  },
  {
   "cell_type": "code",
   "execution_count": 3,
   "metadata": {
    "execution": {
     "iopub.execute_input": "2021-09-01T03:16:19.035315Z",
     "iopub.status.busy": "2021-09-01T03:16:19.033584Z",
     "iopub.status.idle": "2021-09-01T03:16:19.038485Z",
     "shell.execute_reply": "2021-09-01T03:16:19.038922Z"
    }
   },
   "outputs": [
    {
     "name": "stdout",
     "output_type": "stream",
     "text": [
      "Recent query happens at 2021-09-01 11:16:14 (CST).\n"
     ]
    }
   ],
   "source": [
    "def ts2dt(ts, format=DATETIME_FORMAT):\r\n",
    "    dt = (datetime.utcfromtimestamp(int(ts))\r\n",
    "                    .replace(tzinfo=tz.tzutc())\r\n",
    "                    # .astimezone(tz.tzlocal())\r\n",
    "                    .astimezone(tz.gettz(TIME_ZONE)))\r\n",
    "    return dt.strftime(format), dt\r\n",
    "\r\n",
    "_, newest_dt = ts2dt(newest_ts)\r\n",
    "print(f\"Recent query happens at {newest_dt.strftime(DATETIME_FORMAT)} ({newest_dt.tzname()}).\")"
   ]
  },
  {
   "cell_type": "code",
   "execution_count": 4,
   "metadata": {
    "execution": {
     "iopub.execute_input": "2021-09-01T03:16:19.045073Z",
     "iopub.status.busy": "2021-09-01T03:16:19.043719Z",
     "iopub.status.idle": "2021-09-01T03:16:19.045697Z",
     "shell.execute_reply": "2021-09-01T03:16:19.046195Z"
    }
   },
   "outputs": [],
   "source": [
    "def degrees_to_cardinal(d):\r\n",
    "  dirs = ['N', 'NNE', 'NE', 'ENE', 'E', 'ESE', 'SE', 'SSE', 'S', 'SSW', 'SW', 'WSW', 'W', 'WNW', 'NW', 'NNW']\r\n",
    "  ix = int(round(d / (360. / len(dirs))))\r\n",
    "  return dirs[ix % len(dirs)]"
   ]
  },
  {
   "cell_type": "code",
   "execution_count": 5,
   "metadata": {
    "execution": {
     "iopub.execute_input": "2021-09-01T03:16:19.050691Z",
     "iopub.status.busy": "2021-09-01T03:16:19.049422Z",
     "iopub.status.idle": "2021-09-01T03:16:19.051488Z",
     "shell.execute_reply": "2021-09-01T03:16:19.052044Z"
    }
   },
   "outputs": [],
   "source": [
    "# data.keys()"
   ]
  },
  {
   "cell_type": "code",
   "execution_count": 6,
   "metadata": {
    "execution": {
     "iopub.execute_input": "2021-09-01T03:16:19.056874Z",
     "iopub.status.busy": "2021-09-01T03:16:19.055453Z",
     "iopub.status.idle": "2021-09-01T03:16:19.057577Z",
     "shell.execute_reply": "2021-09-01T03:16:19.058150Z"
    }
   },
   "outputs": [],
   "source": [
    "# data['current']"
   ]
  },
  {
   "cell_type": "code",
   "execution_count": 7,
   "metadata": {
    "execution": {
     "iopub.execute_input": "2021-09-01T03:16:19.081086Z",
     "iopub.status.busy": "2021-09-01T03:16:19.080545Z",
     "iopub.status.idle": "2021-09-01T03:16:19.496355Z",
     "shell.execute_reply": "2021-09-01T03:16:19.497197Z"
    }
   },
   "outputs": [
    {
     "data": {
      "image/png": "[encoded data removed]",
      "text/plain": [
       "<Figure size 216x216 with 1 Axes>"
      ]
     },
     "metadata": {
      "needs_background": "light"
     },
     "output_type": "display_data"
    },
    {
     "name": "stdout",
     "output_type": "stream",
     "text": [
      "Today, sun rises at 06:05 and sets at 18:40.\n",
      "Currently, the weather is Clouds (overcast clouds).\n",
      "The temperature is 28.91°C and it feels like 35.59°C.\n",
      "The UV index is 9.28, humidity is 85%.\n",
      "The pressure is 1010 hPa, percentage of cloud cover is 92%\n",
      "The wind comes from ENE direction with a speed 6.52 m/s.\n"
     ]
    }
   ],
   "source": [
    "current = data['current']\r\n",
    "\r\n",
    "fig, ax = plt.subplots(figsize=(3, 3))\r\n",
    "icon = requests.get(f\"http://openweathermap.org/img/wn/{current['weather'][0]['icon']}@2x.png\")\r\n",
    "im = Image.open(BytesIO(icon.content))\r\n",
    "plt.imshow(im)\r\n",
    "ax.set_axis_off()\r\n",
    "plt.show()\r\n",
    "\r\n",
    "print(f\"Today, sun rises at {ts2dt(current['sunrise'], '%H:%M')[0]} \\\r\n",
    "and sets at {ts2dt(current['sunset'], '%H:%M')[0]}.\\n\\\r\n",
    "Currently, the weather is {current['weather'][0]['main']} ({current['weather'][0]['description']}).\\n\\\r\n",
    "The temperature is {current['temp']}°C and it feels like {current['feels_like']}°C.\\n\\\r\n",
    "The UV index is {current['uvi']}, humidity is {current['humidity']}%.\\n\\\r\n",
    "The pressure is {current['pressure']} hPa, percentage of cloud cover is {current['clouds']}%\\n\\\r\n",
    "The wind comes from {degrees_to_cardinal(current['wind_deg'])} direction with a speed {current['wind_speed']} m/s.\")"
   ]
  },
  {
   "cell_type": "code",
   "execution_count": 8,
   "metadata": {
    "execution": {
     "iopub.execute_input": "2021-09-01T03:16:19.501295Z",
     "iopub.status.busy": "2021-09-01T03:16:19.500630Z",
     "iopub.status.idle": "2021-09-01T03:16:19.509745Z",
     "shell.execute_reply": "2021-09-01T03:16:19.510574Z"
    }
   },
   "outputs": [],
   "source": [
    "df_hourly = pd.DataFrame(data['hourly'])\r\n",
    "df_daily = pd.DataFrame(data['daily'])"
   ]
  },
  {
   "cell_type": "code",
   "execution_count": 9,
   "metadata": {
    "execution": {
     "iopub.execute_input": "2021-09-01T03:16:19.515284Z",
     "iopub.status.busy": "2021-09-01T03:16:19.513379Z",
     "iopub.status.idle": "2021-09-01T03:16:19.863678Z",
     "shell.execute_reply": "2021-09-01T03:16:19.863183Z"
    }
   },
   "outputs": [
    {
     "data": {
      "image/png": "[encoded data removed]",
      "text/plain": [
       "<Figure size 864x432 with 1 Axes>"
      ]
     },
     "metadata": {
      "needs_background": "light"
     },
     "output_type": "display_data"
    }
   ],
   "source": [
    "fig, ax = plt.subplots(figsize=(12, 6))\r\n",
    "plt.plot(df_hourly.temp, '.-', label='Temperature')\r\n",
    "plt.plot(df_hourly.feels_like, '.-', label='Feels Like')\r\n",
    "ax.set(title='Temperature in future 48 hours', xlabel='Time', ylabel='Temperature')\r\n",
    "ax.set_xticks(list(range(0, len(df_hourly), 2)))\r\n",
    "ax.set_xticklabels([ts2dt(ts, '%m-%d %H:%M')[0] for i, ts in enumerate(df_hourly.dt) if i%2==0], \r\n",
    "                   rotation=45, ha=\"right\")\r\n",
    "ax.locator_params(nbins=15, axis='y')\r\n",
    "plt.legend()\r\n",
    "plt.show()"
   ]
  },
  {
   "cell_type": "code",
   "execution_count": 10,
   "metadata": {
    "execution": {
     "iopub.execute_input": "2021-09-01T03:16:19.877897Z",
     "iopub.status.busy": "2021-09-01T03:16:19.867831Z",
     "iopub.status.idle": "2021-09-01T03:16:19.890616Z",
     "shell.execute_reply": "2021-09-01T03:16:19.890092Z"
    }
   },
   "outputs": [
    {
     "data": {
      "text/html": [
       "<div>\n",
       "<style scoped>\n",
       "    .dataframe tbody tr th:only-of-type {\n",
       "        vertical-align: middle;\n",
       "    }\n",
       "\n",
       "    .dataframe tbody tr th {\n",
       "        vertical-align: top;\n",
       "    }\n",
       "\n",
       "    .dataframe thead th {\n",
       "        text-align: right;\n",
       "    }\n",
       "</style>\n",
       "<table border=\"1\" class=\"dataframe\">\n",
       "  <thead>\n",
       "    <tr style=\"text-align: right;\">\n",
       "      <th></th>\n",
       "      <th>dt</th>\n",
       "      <th>temp</th>\n",
       "      <th>feels_like</th>\n",
       "      <th>pressure</th>\n",
       "      <th>humidity</th>\n",
       "      <th>dew_point</th>\n",
       "      <th>uvi</th>\n",
       "      <th>clouds</th>\n",
       "      <th>visibility</th>\n",
       "      <th>wind_speed</th>\n",
       "      <th>wind_deg</th>\n",
       "      <th>wind_gust</th>\n",
       "      <th>weather</th>\n",
       "      <th>pop</th>\n",
       "      <th>rain</th>\n",
       "    </tr>\n",
       "  </thead>\n",
       "  <tbody>\n",
       "    <tr>\n",
       "      <th>0</th>\n",
       "      <td>1630465200</td>\n",
       "      <td>28.91</td>\n",
       "      <td>35.59</td>\n",
       "      <td>1010</td>\n",
       "      <td>85</td>\n",
       "      <td>26.13</td>\n",
       "      <td>9.28</td>\n",
       "      <td>92</td>\n",
       "      <td>10000</td>\n",
       "      <td>6.52</td>\n",
       "      <td>78</td>\n",
       "      <td>7.87</td>\n",
       "      <td>[{'id': 500, 'main': 'Rain', 'description': 'l...</td>\n",
       "      <td>0.81</td>\n",
       "      <td>{'1h': 0.44}</td>\n",
       "    </tr>\n",
       "    <tr>\n",
       "      <th>1</th>\n",
       "      <td>1630468800</td>\n",
       "      <td>28.98</td>\n",
       "      <td>35.12</td>\n",
       "      <td>1010</td>\n",
       "      <td>82</td>\n",
       "      <td>25.59</td>\n",
       "      <td>11.03</td>\n",
       "      <td>92</td>\n",
       "      <td>10000</td>\n",
       "      <td>6.61</td>\n",
       "      <td>82</td>\n",
       "      <td>7.86</td>\n",
       "      <td>[{'id': 500, 'main': 'Rain', 'description': 'l...</td>\n",
       "      <td>0.86</td>\n",
       "      <td>{'1h': 0.12}</td>\n",
       "    </tr>\n",
       "    <tr>\n",
       "      <th>2</th>\n",
       "      <td>1630472400</td>\n",
       "      <td>29.16</td>\n",
       "      <td>34.96</td>\n",
       "      <td>1010</td>\n",
       "      <td>79</td>\n",
       "      <td>25.14</td>\n",
       "      <td>10.84</td>\n",
       "      <td>92</td>\n",
       "      <td>10000</td>\n",
       "      <td>6.19</td>\n",
       "      <td>90</td>\n",
       "      <td>7.15</td>\n",
       "      <td>[{'id': 500, 'main': 'Rain', 'description': 'l...</td>\n",
       "      <td>0.84</td>\n",
       "      <td>{'1h': 0.12}</td>\n",
       "    </tr>\n",
       "    <tr>\n",
       "      <th>3</th>\n",
       "      <td>1630476000</td>\n",
       "      <td>29.33</td>\n",
       "      <td>34.75</td>\n",
       "      <td>1009</td>\n",
       "      <td>76</td>\n",
       "      <td>24.66</td>\n",
       "      <td>8.98</td>\n",
       "      <td>88</td>\n",
       "      <td>10000</td>\n",
       "      <td>6.10</td>\n",
       "      <td>94</td>\n",
       "      <td>6.93</td>\n",
       "      <td>[{'id': 804, 'main': 'Clouds', 'description': ...</td>\n",
       "      <td>0.80</td>\n",
       "      <td>NaN</td>\n",
       "    </tr>\n",
       "    <tr>\n",
       "      <th>4</th>\n",
       "      <td>1630479600</td>\n",
       "      <td>29.33</td>\n",
       "      <td>34.09</td>\n",
       "      <td>1008</td>\n",
       "      <td>73</td>\n",
       "      <td>23.98</td>\n",
       "      <td>6.29</td>\n",
       "      <td>58</td>\n",
       "      <td>10000</td>\n",
       "      <td>6.26</td>\n",
       "      <td>96</td>\n",
       "      <td>7.13</td>\n",
       "      <td>[{'id': 803, 'main': 'Clouds', 'description': ...</td>\n",
       "      <td>0.43</td>\n",
       "      <td>NaN</td>\n",
       "    </tr>\n",
       "  </tbody>\n",
       "</table>\n",
       "</div>"
      ],
      "text/plain": [
       "           dt   temp  feels_like  pressure  humidity  dew_point    uvi  \\\n",
       "0  1630465200  28.91       35.59      1010        85      26.13   9.28   \n",
       "1  1630468800  28.98       35.12      1010        82      25.59  11.03   \n",
       "2  1630472400  29.16       34.96      1010        79      25.14  10.84   \n",
       "3  1630476000  29.33       34.75      1009        76      24.66   8.98   \n",
       "4  1630479600  29.33       34.09      1008        73      23.98   6.29   \n",
       "\n",
       "   clouds  visibility  wind_speed  wind_deg  wind_gust  \\\n",
       "0      92       10000        6.52        78       7.87   \n",
       "1      92       10000        6.61        82       7.86   \n",
       "2      92       10000        6.19        90       7.15   \n",
       "3      88       10000        6.10        94       6.93   \n",
       "4      58       10000        6.26        96       7.13   \n",
       "\n",
       "                                             weather   pop          rain  \n",
       "0  [{'id': 500, 'main': 'Rain', 'description': 'l...  0.81  {'1h': 0.44}  \n",
       "1  [{'id': 500, 'main': 'Rain', 'description': 'l...  0.86  {'1h': 0.12}  \n",
       "2  [{'id': 500, 'main': 'Rain', 'description': 'l...  0.84  {'1h': 0.12}  \n",
       "3  [{'id': 804, 'main': 'Clouds', 'description': ...  0.80           NaN  \n",
       "4  [{'id': 803, 'main': 'Clouds', 'description': ...  0.43           NaN  "
      ]
     },
     "execution_count": 10,
     "metadata": {},
     "output_type": "execute_result"
    }
   ],
   "source": [
    "df_hourly.head()"
   ]
  },
  {
   "cell_type": "code",
   "execution_count": null,
   "metadata": {},
   "outputs": [],
   "source": []
  }
 ],
 "metadata": {
  "interpreter": {
   "hash": "c1b4cfe941b6d2466ad1fb5979e97da9cda8801728c8091b097ab734208fc00c"
  },
  "kernelspec": {
   "display_name": "Python 3.8.3 64-bit ('base': conda)",
   "name": "python3"
  },
  "language_info": {
   "codemirror_mode": {
    "name": "ipython",
    "version": 3
   },
   "file_extension": ".py",
   "mimetype": "text/x-python",
   "name": "python",
   "nbconvert_exporter": "python",
   "pygments_lexer": "ipython3",
   "version": "3.8.11"
  }
 },
 "nbformat": 4,
 "nbformat_minor": 2
}
