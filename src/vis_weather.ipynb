{
 "cells": [
  {
   "cell_type": "code",
   "execution_count": 1,
   "metadata": {
    "execution": {
     "iopub.execute_input": "2021-09-17T07:11:32.805037Z",
     "iopub.status.busy": "2021-09-17T07:11:32.804342Z",
     "iopub.status.idle": "2021-09-17T07:11:34.641254Z",
     "shell.execute_reply": "2021-09-17T07:11:34.640576Z"
    }
   },
   "outputs": [],
   "source": [
    "import json, yaml, requests\r\n",
    "from datetime import datetime\r\n",
    "from dateutil import tz\r\n",
    "import pandas as pd\r\n",
    "from PIL import Image\r\n",
    "from io import BytesIO\r\n",
    "import matplotlib.pyplot as plt\r\n",
    "import seaborn\r\n",
    "\r\n",
    "CONFIG_PATH = \"../config/config.yaml\""
   ]
  },
  {
   "cell_type": "code",
   "execution_count": 2,
   "metadata": {
    "execution": {
     "iopub.execute_input": "2021-09-17T07:11:34.647433Z",
     "iopub.status.busy": "2021-09-17T07:11:34.646020Z",
     "iopub.status.idle": "2021-09-17T07:11:34.652449Z",
     "shell.execute_reply": "2021-09-17T07:11:34.652929Z"
    }
   },
   "outputs": [],
   "source": [
    "with open('../newest_ts', 'r') as f:\r\n",
    "    newest_ts = f.read()\r\n",
    "\r\n",
    "data_path = f\"../data/data_{newest_ts}.json\"\r\n",
    "with open(data_path, 'r') as f:\r\n",
    "    data = json.load(f)\r\n",
    "\r\n",
    "with open(CONFIG_PATH, \"r\") as stream:\r\n",
    "    config = yaml.safe_load(stream)\r\n",
    "\r\n",
    "TIME_ZONE = config['time_zone']\r\n",
    "DATETIME_FORMAT = config['dt_format']"
   ]
  },
  {
   "cell_type": "code",
   "execution_count": 3,
   "metadata": {
    "execution": {
     "iopub.execute_input": "2021-09-17T07:11:34.661126Z",
     "iopub.status.busy": "2021-09-17T07:11:34.660453Z",
     "iopub.status.idle": "2021-09-17T07:11:34.674980Z",
     "shell.execute_reply": "2021-09-17T07:11:34.675473Z"
    }
   },
   "outputs": [
    {
     "name": "stdout",
     "output_type": "stream",
     "text": [
      "Recent query happens at 2021-09-17 15:11:28 (CST).\n"
     ]
    }
   ],
   "source": [
    "def ts2dt(ts, format=DATETIME_FORMAT):\r\n",
    "    dt = (datetime.utcfromtimestamp(int(ts))\r\n",
    "                    .replace(tzinfo=tz.tzutc())\r\n",
    "                    # .astimezone(tz.tzlocal())\r\n",
    "                    .astimezone(tz.gettz(TIME_ZONE)))\r\n",
    "    return dt.strftime(format), dt\r\n",
    "\r\n",
    "_, newest_dt = ts2dt(newest_ts)\r\n",
    "print(f\"Recent query happens at {newest_dt.strftime(DATETIME_FORMAT)} ({newest_dt.tzname()}).\")"
   ]
  },
  {
   "cell_type": "code",
   "execution_count": 4,
   "metadata": {
    "execution": {
     "iopub.execute_input": "2021-09-17T07:11:34.682068Z",
     "iopub.status.busy": "2021-09-17T07:11:34.680689Z",
     "iopub.status.idle": "2021-09-17T07:11:34.682878Z",
     "shell.execute_reply": "2021-09-17T07:11:34.683373Z"
    }
   },
   "outputs": [],
   "source": [
    "def degrees_to_cardinal(d):\r\n",
    "  dirs = ['N', 'NNE', 'NE', 'ENE', 'E', 'ESE', 'SE', 'SSE', 'S', 'SSW', 'SW', 'WSW', 'W', 'WNW', 'NW', 'NNW']\r\n",
    "  ix = int(round(d / (360. / len(dirs))))\r\n",
    "  return dirs[ix % len(dirs)]"
   ]
  },
  {
   "cell_type": "code",
   "execution_count": 5,
   "metadata": {
    "execution": {
     "iopub.execute_input": "2021-09-17T07:11:34.688879Z",
     "iopub.status.busy": "2021-09-17T07:11:34.687211Z",
     "iopub.status.idle": "2021-09-17T07:11:34.689559Z",
     "shell.execute_reply": "2021-09-17T07:11:34.690050Z"
    }
   },
   "outputs": [],
   "source": [
    "# data.keys()"
   ]
  },
  {
   "cell_type": "code",
   "execution_count": 6,
   "metadata": {
    "execution": {
     "iopub.execute_input": "2021-09-17T07:11:34.695030Z",
     "iopub.status.busy": "2021-09-17T07:11:34.693572Z",
     "iopub.status.idle": "2021-09-17T07:11:34.695677Z",
     "shell.execute_reply": "2021-09-17T07:11:34.696165Z"
    }
   },
   "outputs": [],
   "source": [
    "# data['current']"
   ]
  },
  {
   "cell_type": "code",
   "execution_count": 7,
   "metadata": {
    "execution": {
     "iopub.execute_input": "2021-09-17T07:11:34.722339Z",
     "iopub.status.busy": "2021-09-17T07:11:34.721690Z",
     "iopub.status.idle": "2021-09-17T07:11:35.159090Z",
     "shell.execute_reply": "2021-09-17T07:11:35.159890Z"
    }
   },
   "outputs": [
    {
     "data": {
      "image/png": "[encoded data removed]",
      "text/plain": [
       "<Figure size 216x216 with 1 Axes>"
      ]
     },
     "metadata": {
      "needs_background": "light"
     },
     "output_type": "display_data"
    },
    {
     "name": "stdout",
     "output_type": "stream",
     "text": [
      "Today, sun rises at 06:10 and sets at 18:25.\n",
      "Currently, the weather is Clear (clear sky).\n",
      "The temperature is 32.33°C and it feels like 39.33°C.\n",
      "The UV index is 5.73, humidity is 68%.\n",
      "The pressure is 1008 hPa, percentage of cloud cover is 10%\n",
      "The wind comes from SE direction with a speed 2.16 m/s.\n"
     ]
    }
   ],
   "source": [
    "current = data['current']\r\n",
    "\r\n",
    "fig, ax = plt.subplots(figsize=(3, 3))\r\n",
    "icon = requests.get(f\"http://openweathermap.org/img/wn/{current['weather'][0]['icon']}@2x.png\")\r\n",
    "im = Image.open(BytesIO(icon.content))\r\n",
    "plt.imshow(im)\r\n",
    "ax.set_axis_off()\r\n",
    "plt.show()\r\n",
    "\r\n",
    "print(f\"Today, sun rises at {ts2dt(current['sunrise'], '%H:%M')[0]} \\\r\n",
    "and sets at {ts2dt(current['sunset'], '%H:%M')[0]}.\\n\\\r\n",
    "Currently, the weather is {current['weather'][0]['main']} ({current['weather'][0]['description']}).\\n\\\r\n",
    "The temperature is {current['temp']}°C and it feels like {current['feels_like']}°C.\\n\\\r\n",
    "The UV index is {current['uvi']}, humidity is {current['humidity']}%.\\n\\\r\n",
    "The pressure is {current['pressure']} hPa, percentage of cloud cover is {current['clouds']}%\\n\\\r\n",
    "The wind comes from {degrees_to_cardinal(current['wind_deg'])} direction with a speed {current['wind_speed']} m/s.\")"
   ]
  },
  {
   "cell_type": "code",
   "execution_count": 8,
   "metadata": {
    "execution": {
     "iopub.execute_input": "2021-09-17T07:11:35.163670Z",
     "iopub.status.busy": "2021-09-17T07:11:35.162985Z",
     "iopub.status.idle": "2021-09-17T07:11:35.171168Z",
     "shell.execute_reply": "2021-09-17T07:11:35.171950Z"
    }
   },
   "outputs": [],
   "source": [
    "df_hourly = pd.DataFrame(data['hourly'])\r\n",
    "df_daily = pd.DataFrame(data['daily'])"
   ]
  },
  {
   "cell_type": "code",
   "execution_count": 9,
   "metadata": {
    "execution": {
     "iopub.execute_input": "2021-09-17T07:11:35.175578Z",
     "iopub.status.busy": "2021-09-17T07:11:35.174989Z",
     "iopub.status.idle": "2021-09-17T07:11:35.500383Z",
     "shell.execute_reply": "2021-09-17T07:11:35.499856Z"
    }
   },
   "outputs": [
    {
     "data": {
      "image/png": "[encoded data removed]",
      "text/plain": [
       "<Figure size 864x432 with 1 Axes>"
      ]
     },
     "metadata": {
      "needs_background": "light"
     },
     "output_type": "display_data"
    }
   ],
   "source": [
    "fig, ax = plt.subplots(figsize=(12, 6))\r\n",
    "plt.plot(df_hourly.temp, '.-', label='Temperature')\r\n",
    "plt.plot(df_hourly.feels_like, '.-', label='Feels Like')\r\n",
    "ax.set(title='Temperature in future 48 hours', xlabel='Time', ylabel='Temperature')\r\n",
    "ax.set_xticks(list(range(0, len(df_hourly), 2)))\r\n",
    "ax.set_xticklabels([ts2dt(ts, '%m-%d %H:%M')[0] for i, ts in enumerate(df_hourly.dt) if i%2==0], \r\n",
    "                   rotation=45, ha=\"right\")\r\n",
    "ax.locator_params(nbins=15, axis='y')\r\n",
    "plt.legend()\r\n",
    "plt.show()"
   ]
  },
  {
   "cell_type": "code",
   "execution_count": 10,
   "metadata": {
    "execution": {
     "iopub.execute_input": "2021-09-17T07:11:35.521784Z",
     "iopub.status.busy": "2021-09-17T07:11:35.504715Z",
     "iopub.status.idle": "2021-09-17T07:11:35.525025Z",
     "shell.execute_reply": "2021-09-17T07:11:35.525530Z"
    }
   },
   "outputs": [
    {
     "data": {
      "text/html": [
       "<div>\n",
       "<style scoped>\n",
       "    .dataframe tbody tr th:only-of-type {\n",
       "        vertical-align: middle;\n",
       "    }\n",
       "\n",
       "    .dataframe tbody tr th {\n",
       "        vertical-align: top;\n",
       "    }\n",
       "\n",
       "    .dataframe thead th {\n",
       "        text-align: right;\n",
       "    }\n",
       "</style>\n",
       "<table border=\"1\" class=\"dataframe\">\n",
       "  <thead>\n",
       "    <tr style=\"text-align: right;\">\n",
       "      <th></th>\n",
       "      <th>dt</th>\n",
       "      <th>temp</th>\n",
       "      <th>feels_like</th>\n",
       "      <th>pressure</th>\n",
       "      <th>humidity</th>\n",
       "      <th>dew_point</th>\n",
       "      <th>uvi</th>\n",
       "      <th>clouds</th>\n",
       "      <th>visibility</th>\n",
       "      <th>wind_speed</th>\n",
       "      <th>wind_deg</th>\n",
       "      <th>wind_gust</th>\n",
       "      <th>weather</th>\n",
       "      <th>pop</th>\n",
       "      <th>rain</th>\n",
       "    </tr>\n",
       "  </thead>\n",
       "  <tbody>\n",
       "    <tr>\n",
       "      <th>0</th>\n",
       "      <td>1631862000</td>\n",
       "      <td>32.33</td>\n",
       "      <td>39.33</td>\n",
       "      <td>1008</td>\n",
       "      <td>68</td>\n",
       "      <td>25.66</td>\n",
       "      <td>5.73</td>\n",
       "      <td>10</td>\n",
       "      <td>10000</td>\n",
       "      <td>2.16</td>\n",
       "      <td>146</td>\n",
       "      <td>1.70</td>\n",
       "      <td>[{'id': 800, 'main': 'Clear', 'description': '...</td>\n",
       "      <td>0.01</td>\n",
       "      <td>NaN</td>\n",
       "    </tr>\n",
       "    <tr>\n",
       "      <th>1</th>\n",
       "      <td>1631865600</td>\n",
       "      <td>32.00</td>\n",
       "      <td>39.00</td>\n",
       "      <td>1008</td>\n",
       "      <td>66</td>\n",
       "      <td>24.85</td>\n",
       "      <td>2.90</td>\n",
       "      <td>10</td>\n",
       "      <td>10000</td>\n",
       "      <td>2.17</td>\n",
       "      <td>141</td>\n",
       "      <td>1.91</td>\n",
       "      <td>[{'id': 800, 'main': 'Clear', 'description': '...</td>\n",
       "      <td>0.03</td>\n",
       "      <td>NaN</td>\n",
       "    </tr>\n",
       "    <tr>\n",
       "      <th>2</th>\n",
       "      <td>1631869200</td>\n",
       "      <td>31.57</td>\n",
       "      <td>37.87</td>\n",
       "      <td>1008</td>\n",
       "      <td>66</td>\n",
       "      <td>24.44</td>\n",
       "      <td>0.94</td>\n",
       "      <td>10</td>\n",
       "      <td>10000</td>\n",
       "      <td>2.24</td>\n",
       "      <td>149</td>\n",
       "      <td>2.02</td>\n",
       "      <td>[{'id': 800, 'main': 'Clear', 'description': '...</td>\n",
       "      <td>0.03</td>\n",
       "      <td>NaN</td>\n",
       "    </tr>\n",
       "    <tr>\n",
       "      <th>3</th>\n",
       "      <td>1631872800</td>\n",
       "      <td>30.73</td>\n",
       "      <td>36.60</td>\n",
       "      <td>1008</td>\n",
       "      <td>69</td>\n",
       "      <td>24.38</td>\n",
       "      <td>0.14</td>\n",
       "      <td>9</td>\n",
       "      <td>10000</td>\n",
       "      <td>2.09</td>\n",
       "      <td>142</td>\n",
       "      <td>2.21</td>\n",
       "      <td>[{'id': 800, 'main': 'Clear', 'description': '...</td>\n",
       "      <td>0.02</td>\n",
       "      <td>NaN</td>\n",
       "    </tr>\n",
       "    <tr>\n",
       "      <th>4</th>\n",
       "      <td>1631876400</td>\n",
       "      <td>29.71</td>\n",
       "      <td>34.80</td>\n",
       "      <td>1008</td>\n",
       "      <td>72</td>\n",
       "      <td>24.12</td>\n",
       "      <td>0.00</td>\n",
       "      <td>8</td>\n",
       "      <td>10000</td>\n",
       "      <td>2.24</td>\n",
       "      <td>129</td>\n",
       "      <td>2.51</td>\n",
       "      <td>[{'id': 800, 'main': 'Clear', 'description': '...</td>\n",
       "      <td>0.03</td>\n",
       "      <td>NaN</td>\n",
       "    </tr>\n",
       "  </tbody>\n",
       "</table>\n",
       "</div>"
      ],
      "text/plain": [
       "           dt   temp  feels_like  pressure  humidity  dew_point   uvi  clouds  \\\n",
       "0  1631862000  32.33       39.33      1008        68      25.66  5.73      10   \n",
       "1  1631865600  32.00       39.00      1008        66      24.85  2.90      10   \n",
       "2  1631869200  31.57       37.87      1008        66      24.44  0.94      10   \n",
       "3  1631872800  30.73       36.60      1008        69      24.38  0.14       9   \n",
       "4  1631876400  29.71       34.80      1008        72      24.12  0.00       8   \n",
       "\n",
       "   visibility  wind_speed  wind_deg  wind_gust  \\\n",
       "0       10000        2.16       146       1.70   \n",
       "1       10000        2.17       141       1.91   \n",
       "2       10000        2.24       149       2.02   \n",
       "3       10000        2.09       142       2.21   \n",
       "4       10000        2.24       129       2.51   \n",
       "\n",
       "                                             weather   pop rain  \n",
       "0  [{'id': 800, 'main': 'Clear', 'description': '...  0.01  NaN  \n",
       "1  [{'id': 800, 'main': 'Clear', 'description': '...  0.03  NaN  \n",
       "2  [{'id': 800, 'main': 'Clear', 'description': '...  0.03  NaN  \n",
       "3  [{'id': 800, 'main': 'Clear', 'description': '...  0.02  NaN  \n",
       "4  [{'id': 800, 'main': 'Clear', 'description': '...  0.03  NaN  "
      ]
     },
     "execution_count": 10,
     "metadata": {},
     "output_type": "execute_result"
    }
   ],
   "source": [
    "df_hourly.head()"
   ]
  },
  {
   "cell_type": "code",
   "execution_count": null,
   "metadata": {},
   "outputs": [],
   "source": []
  }
 ],
 "metadata": {
  "interpreter": {
   "hash": "c1b4cfe941b6d2466ad1fb5979e97da9cda8801728c8091b097ab734208fc00c"
  },
  "kernelspec": {
   "display_name": "Python 3.8.3 64-bit ('base': conda)",
   "name": "python3"
  },
  "language_info": {
   "codemirror_mode": {
    "name": "ipython",
    "version": 3
   },
   "file_extension": ".py",
   "mimetype": "text/x-python",
   "name": "python",
   "nbconvert_exporter": "python",
   "pygments_lexer": "ipython3",
   "version": "3.8.11"
  }
 },
 "nbformat": 4,
 "nbformat_minor": 2
}
