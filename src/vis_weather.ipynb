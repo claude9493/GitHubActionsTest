{
 "cells": [
  {
   "cell_type": "code",
   "execution_count": 1,
   "metadata": {
    "execution": {
     "iopub.execute_input": "2021-09-01T06:47:27.657985Z",
     "iopub.status.busy": "2021-09-01T06:47:27.657481Z",
     "iopub.status.idle": "2021-09-01T06:47:28.901305Z",
     "shell.execute_reply": "2021-09-01T06:47:28.900702Z"
    }
   },
   "outputs": [],
   "source": [
    "import json, yaml, requests\r\n",
    "from datetime import datetime\r\n",
    "from dateutil import tz\r\n",
    "import pandas as pd\r\n",
    "from PIL import Image\r\n",
    "from io import BytesIO\r\n",
    "import matplotlib.pyplot as plt\r\n",
    "import seaborn\r\n",
    "\r\n",
    "CONFIG_PATH = \"../config/config.yaml\""
   ]
  },
  {
   "cell_type": "code",
   "execution_count": 2,
   "metadata": {
    "execution": {
     "iopub.execute_input": "2021-09-01T06:47:28.906367Z",
     "iopub.status.busy": "2021-09-01T06:47:28.905640Z",
     "iopub.status.idle": "2021-09-01T06:47:28.910092Z",
     "shell.execute_reply": "2021-09-01T06:47:28.910449Z"
    }
   },
   "outputs": [],
   "source": [
    "with open('../newest_ts', 'r') as f:\r\n",
    "    newest_ts = f.read()\r\n",
    "\r\n",
    "data_path = f\"../data/data_{newest_ts}.json\"\r\n",
    "with open(data_path, 'r') as f:\r\n",
    "    data = json.load(f)\r\n",
    "\r\n",
    "with open(CONFIG_PATH, \"r\") as stream:\r\n",
    "    config = yaml.safe_load(stream)\r\n",
    "\r\n",
    "TIME_ZONE = config['time_zone']\r\n",
    "DATETIME_FORMAT = config['dt_format']"
   ]
  },
  {
   "cell_type": "code",
   "execution_count": 3,
   "metadata": {
    "execution": {
     "iopub.execute_input": "2021-09-01T06:47:28.914810Z",
     "iopub.status.busy": "2021-09-01T06:47:28.914197Z",
     "iopub.status.idle": "2021-09-01T06:47:28.917775Z",
     "shell.execute_reply": "2021-09-01T06:47:28.918146Z"
    }
   },
   "outputs": [
    {
     "name": "stdout",
     "output_type": "stream",
     "text": [
      "Recent query happens at 2021-09-01 14:47:24 (CST).\n"
     ]
    }
   ],
   "source": [
    "def ts2dt(ts, format=DATETIME_FORMAT):\r\n",
    "    dt = (datetime.utcfromtimestamp(int(ts))\r\n",
    "                    .replace(tzinfo=tz.tzutc())\r\n",
    "                    # .astimezone(tz.tzlocal())\r\n",
    "                    .astimezone(tz.gettz(TIME_ZONE)))\r\n",
    "    return dt.strftime(format), dt\r\n",
    "\r\n",
    "_, newest_dt = ts2dt(newest_ts)\r\n",
    "print(f\"Recent query happens at {newest_dt.strftime(DATETIME_FORMAT)} ({newest_dt.tzname()}).\")"
   ]
  },
  {
   "cell_type": "code",
   "execution_count": 4,
   "metadata": {
    "execution": {
     "iopub.execute_input": "2021-09-01T06:47:28.922928Z",
     "iopub.status.busy": "2021-09-01T06:47:28.921897Z",
     "iopub.status.idle": "2021-09-01T06:47:28.923515Z",
     "shell.execute_reply": "2021-09-01T06:47:28.923914Z"
    }
   },
   "outputs": [],
   "source": [
    "def degrees_to_cardinal(d):\r\n",
    "  dirs = ['N', 'NNE', 'NE', 'ENE', 'E', 'ESE', 'SE', 'SSE', 'S', 'SSW', 'SW', 'WSW', 'W', 'WNW', 'NW', 'NNW']\r\n",
    "  ix = int(round(d / (360. / len(dirs))))\r\n",
    "  return dirs[ix % len(dirs)]"
   ]
  },
  {
   "cell_type": "code",
   "execution_count": 5,
   "metadata": {
    "execution": {
     "iopub.execute_input": "2021-09-01T06:47:28.927751Z",
     "iopub.status.busy": "2021-09-01T06:47:28.926753Z",
     "iopub.status.idle": "2021-09-01T06:47:28.928276Z",
     "shell.execute_reply": "2021-09-01T06:47:28.928647Z"
    }
   },
   "outputs": [],
   "source": [
    "# data.keys()"
   ]
  },
  {
   "cell_type": "code",
   "execution_count": 6,
   "metadata": {
    "execution": {
     "iopub.execute_input": "2021-09-01T06:47:28.932252Z",
     "iopub.status.busy": "2021-09-01T06:47:28.931219Z",
     "iopub.status.idle": "2021-09-01T06:47:28.932857Z",
     "shell.execute_reply": "2021-09-01T06:47:28.933227Z"
    }
   },
   "outputs": [],
   "source": [
    "# data['current']"
   ]
  },
  {
   "cell_type": "code",
   "execution_count": 7,
   "metadata": {
    "execution": {
     "iopub.execute_input": "2021-09-01T06:47:28.949215Z",
     "iopub.status.busy": "2021-09-01T06:47:28.942815Z",
     "iopub.status.idle": "2021-09-01T06:47:29.268236Z",
     "shell.execute_reply": "2021-09-01T06:47:29.268685Z"
    }
   },
   "outputs": [
    {
     "data": {
      "image/png": "[encoded data removed]",
      "text/plain": [
       "<Figure size 216x216 with 1 Axes>"
      ]
     },
     "metadata": {
      "needs_background": "light"
     },
     "output_type": "display_data"
    },
    {
     "name": "stdout",
     "output_type": "stream",
     "text": [
      "Today, sun rises at 06:05 and sets at 18:40.\n",
      "Currently, the weather is Clouds (few clouds).\n",
      "The temperature is 31.41°C and it feels like 38.41°C.\n",
      "The UV index is 6.29, humidity is 78%.\n",
      "The pressure is 1008 hPa, percentage of cloud cover is 11%\n",
      "The wind comes from E direction with a speed 6.58 m/s.\n"
     ]
    }
   ],
   "source": [
    "current = data['current']\r\n",
    "\r\n",
    "fig, ax = plt.subplots(figsize=(3, 3))\r\n",
    "icon = requests.get(f\"http://openweathermap.org/img/wn/{current['weather'][0]['icon']}@2x.png\")\r\n",
    "im = Image.open(BytesIO(icon.content))\r\n",
    "plt.imshow(im)\r\n",
    "ax.set_axis_off()\r\n",
    "plt.show()\r\n",
    "\r\n",
    "print(f\"Today, sun rises at {ts2dt(current['sunrise'], '%H:%M')[0]} \\\r\n",
    "and sets at {ts2dt(current['sunset'], '%H:%M')[0]}.\\n\\\r\n",
    "Currently, the weather is {current['weather'][0]['main']} ({current['weather'][0]['description']}).\\n\\\r\n",
    "The temperature is {current['temp']}°C and it feels like {current['feels_like']}°C.\\n\\\r\n",
    "The UV index is {current['uvi']}, humidity is {current['humidity']}%.\\n\\\r\n",
    "The pressure is {current['pressure']} hPa, percentage of cloud cover is {current['clouds']}%\\n\\\r\n",
    "The wind comes from {degrees_to_cardinal(current['wind_deg'])} direction with a speed {current['wind_speed']} m/s.\")"
   ]
  },
  {
   "cell_type": "code",
   "execution_count": 8,
   "metadata": {
    "execution": {
     "iopub.execute_input": "2021-09-01T06:47:29.271253Z",
     "iopub.status.busy": "2021-09-01T06:47:29.270807Z",
     "iopub.status.idle": "2021-09-01T06:47:29.276085Z",
     "shell.execute_reply": "2021-09-01T06:47:29.276517Z"
    }
   },
   "outputs": [],
   "source": [
    "df_hourly = pd.DataFrame(data['hourly'])\r\n",
    "df_daily = pd.DataFrame(data['daily'])"
   ]
  },
  {
   "cell_type": "code",
   "execution_count": 9,
   "metadata": {
    "execution": {
     "iopub.execute_input": "2021-09-01T06:47:29.278974Z",
     "iopub.status.busy": "2021-09-01T06:47:29.278502Z",
     "iopub.status.idle": "2021-09-01T06:47:29.527365Z",
     "shell.execute_reply": "2021-09-01T06:47:29.526922Z"
    }
   },
   "outputs": [
    {
     "data": {
      "image/png": "[encoded data removed]",
      "text/plain": [
       "<Figure size 864x432 with 1 Axes>"
      ]
     },
     "metadata": {
      "needs_background": "light"
     },
     "output_type": "display_data"
    }
   ],
   "source": [
    "fig, ax = plt.subplots(figsize=(12, 6))\r\n",
    "plt.plot(df_hourly.temp, '.-', label='Temperature')\r\n",
    "plt.plot(df_hourly.feels_like, '.-', label='Feels Like')\r\n",
    "ax.set(title='Temperature in future 48 hours', xlabel='Time', ylabel='Temperature')\r\n",
    "ax.set_xticks(list(range(0, len(df_hourly), 2)))\r\n",
    "ax.set_xticklabels([ts2dt(ts, '%m-%d %H:%M')[0] for i, ts in enumerate(df_hourly.dt) if i%2==0], \r\n",
    "                   rotation=45, ha=\"right\")\r\n",
    "ax.locator_params(nbins=15, axis='y')\r\n",
    "plt.legend()\r\n",
    "plt.show()"
   ]
  },
  {
   "cell_type": "code",
   "execution_count": 10,
   "metadata": {
    "execution": {
     "iopub.execute_input": "2021-09-01T06:47:29.539381Z",
     "iopub.status.busy": "2021-09-01T06:47:29.531412Z",
     "iopub.status.idle": "2021-09-01T06:47:29.550294Z",
     "shell.execute_reply": "2021-09-01T06:47:29.549677Z"
    }
   },
   "outputs": [
    {
     "data": {
      "text/html": [
       "<div>\n",
       "<style scoped>\n",
       "    .dataframe tbody tr th:only-of-type {\n",
       "        vertical-align: middle;\n",
       "    }\n",
       "\n",
       "    .dataframe tbody tr th {\n",
       "        vertical-align: top;\n",
       "    }\n",
       "\n",
       "    .dataframe thead th {\n",
       "        text-align: right;\n",
       "    }\n",
       "</style>\n",
       "<table border=\"1\" class=\"dataframe\">\n",
       "  <thead>\n",
       "    <tr style=\"text-align: right;\">\n",
       "      <th></th>\n",
       "      <th>dt</th>\n",
       "      <th>temp</th>\n",
       "      <th>feels_like</th>\n",
       "      <th>pressure</th>\n",
       "      <th>humidity</th>\n",
       "      <th>dew_point</th>\n",
       "      <th>uvi</th>\n",
       "      <th>clouds</th>\n",
       "      <th>visibility</th>\n",
       "      <th>wind_speed</th>\n",
       "      <th>wind_deg</th>\n",
       "      <th>wind_gust</th>\n",
       "      <th>weather</th>\n",
       "      <th>pop</th>\n",
       "      <th>rain</th>\n",
       "    </tr>\n",
       "  </thead>\n",
       "  <tbody>\n",
       "    <tr>\n",
       "      <th>0</th>\n",
       "      <td>1630476000</td>\n",
       "      <td>31.03</td>\n",
       "      <td>38.03</td>\n",
       "      <td>1008</td>\n",
       "      <td>76</td>\n",
       "      <td>26.30</td>\n",
       "      <td>8.98</td>\n",
       "      <td>22</td>\n",
       "      <td>10000</td>\n",
       "      <td>6.44</td>\n",
       "      <td>90</td>\n",
       "      <td>7.62</td>\n",
       "      <td>[{'id': 500, 'main': 'Rain', 'description': 'l...</td>\n",
       "      <td>0.84</td>\n",
       "      <td>{'1h': 0.38}</td>\n",
       "    </tr>\n",
       "    <tr>\n",
       "      <th>1</th>\n",
       "      <td>1630479600</td>\n",
       "      <td>31.41</td>\n",
       "      <td>38.41</td>\n",
       "      <td>1008</td>\n",
       "      <td>78</td>\n",
       "      <td>27.11</td>\n",
       "      <td>6.29</td>\n",
       "      <td>11</td>\n",
       "      <td>10000</td>\n",
       "      <td>6.58</td>\n",
       "      <td>93</td>\n",
       "      <td>7.73</td>\n",
       "      <td>[{'id': 501, 'main': 'Rain', 'description': 'm...</td>\n",
       "      <td>0.51</td>\n",
       "      <td>{'1h': 1.54}</td>\n",
       "    </tr>\n",
       "    <tr>\n",
       "      <th>2</th>\n",
       "      <td>1630483200</td>\n",
       "      <td>30.98</td>\n",
       "      <td>37.98</td>\n",
       "      <td>1008</td>\n",
       "      <td>76</td>\n",
       "      <td>26.25</td>\n",
       "      <td>3.31</td>\n",
       "      <td>11</td>\n",
       "      <td>10000</td>\n",
       "      <td>6.23</td>\n",
       "      <td>97</td>\n",
       "      <td>7.53</td>\n",
       "      <td>[{'id': 500, 'main': 'Rain', 'description': 'l...</td>\n",
       "      <td>0.55</td>\n",
       "      <td>{'1h': 0.12}</td>\n",
       "    </tr>\n",
       "    <tr>\n",
       "      <th>3</th>\n",
       "      <td>1630486800</td>\n",
       "      <td>30.40</td>\n",
       "      <td>37.40</td>\n",
       "      <td>1008</td>\n",
       "      <td>76</td>\n",
       "      <td>25.69</td>\n",
       "      <td>1.19</td>\n",
       "      <td>11</td>\n",
       "      <td>10000</td>\n",
       "      <td>5.93</td>\n",
       "      <td>97</td>\n",
       "      <td>7.35</td>\n",
       "      <td>[{'id': 801, 'main': 'Clouds', 'description': ...</td>\n",
       "      <td>0.55</td>\n",
       "      <td>NaN</td>\n",
       "    </tr>\n",
       "    <tr>\n",
       "      <th>4</th>\n",
       "      <td>1630490400</td>\n",
       "      <td>29.64</td>\n",
       "      <td>36.07</td>\n",
       "      <td>1008</td>\n",
       "      <td>78</td>\n",
       "      <td>25.39</td>\n",
       "      <td>0.21</td>\n",
       "      <td>10</td>\n",
       "      <td>10000</td>\n",
       "      <td>5.56</td>\n",
       "      <td>97</td>\n",
       "      <td>7.65</td>\n",
       "      <td>[{'id': 800, 'main': 'Clear', 'description': '...</td>\n",
       "      <td>0.51</td>\n",
       "      <td>NaN</td>\n",
       "    </tr>\n",
       "  </tbody>\n",
       "</table>\n",
       "</div>"
      ],
      "text/plain": [
       "           dt   temp  feels_like  pressure  humidity  dew_point   uvi  clouds  \\\n",
       "0  1630476000  31.03       38.03      1008        76      26.30  8.98      22   \n",
       "1  1630479600  31.41       38.41      1008        78      27.11  6.29      11   \n",
       "2  1630483200  30.98       37.98      1008        76      26.25  3.31      11   \n",
       "3  1630486800  30.40       37.40      1008        76      25.69  1.19      11   \n",
       "4  1630490400  29.64       36.07      1008        78      25.39  0.21      10   \n",
       "\n",
       "   visibility  wind_speed  wind_deg  wind_gust  \\\n",
       "0       10000        6.44        90       7.62   \n",
       "1       10000        6.58        93       7.73   \n",
       "2       10000        6.23        97       7.53   \n",
       "3       10000        5.93        97       7.35   \n",
       "4       10000        5.56        97       7.65   \n",
       "\n",
       "                                             weather   pop          rain  \n",
       "0  [{'id': 500, 'main': 'Rain', 'description': 'l...  0.84  {'1h': 0.38}  \n",
       "1  [{'id': 501, 'main': 'Rain', 'description': 'm...  0.51  {'1h': 1.54}  \n",
       "2  [{'id': 500, 'main': 'Rain', 'description': 'l...  0.55  {'1h': 0.12}  \n",
       "3  [{'id': 801, 'main': 'Clouds', 'description': ...  0.55           NaN  \n",
       "4  [{'id': 800, 'main': 'Clear', 'description': '...  0.51           NaN  "
      ]
     },
     "execution_count": 10,
     "metadata": {},
     "output_type": "execute_result"
    }
   ],
   "source": [
    "df_hourly.head()"
   ]
  },
  {
   "cell_type": "code",
   "execution_count": null,
   "metadata": {},
   "outputs": [],
   "source": []
  }
 ],
 "metadata": {
  "interpreter": {
   "hash": "c1b4cfe941b6d2466ad1fb5979e97da9cda8801728c8091b097ab734208fc00c"
  },
  "kernelspec": {
   "display_name": "Python 3.8.3 64-bit ('base': conda)",
   "name": "python3"
  },
  "language_info": {
   "codemirror_mode": {
    "name": "ipython",
    "version": 3
   },
   "file_extension": ".py",
   "mimetype": "text/x-python",
   "name": "python",
   "nbconvert_exporter": "python",
   "pygments_lexer": "ipython3",
   "version": "3.8.11"
  }
 },
 "nbformat": 4,
 "nbformat_minor": 2
}
