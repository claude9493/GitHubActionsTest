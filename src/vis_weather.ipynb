{
 "cells": [
  {
   "cell_type": "code",
   "execution_count": 1,
   "metadata": {
    "execution": {
     "iopub.execute_input": "2021-10-08T08:14:22.055610Z",
     "iopub.status.busy": "2021-10-08T08:14:22.055062Z",
     "iopub.status.idle": "2021-10-08T08:14:24.260621Z",
     "shell.execute_reply": "2021-10-08T08:14:24.261074Z"
    }
   },
   "outputs": [],
   "source": [
    "import json, yaml, requests\r\n",
    "from datetime import datetime\r\n",
    "from dateutil import tz\r\n",
    "import pandas as pd\r\n",
    "from PIL import Image\r\n",
    "from io import BytesIO\r\n",
    "import matplotlib.pyplot as plt\r\n",
    "import seaborn\r\n",
    "\r\n",
    "CONFIG_PATH = \"../config/config.yaml\""
   ]
  },
  {
   "cell_type": "code",
   "execution_count": 2,
   "metadata": {
    "execution": {
     "iopub.execute_input": "2021-10-08T08:14:24.268657Z",
     "iopub.status.busy": "2021-10-08T08:14:24.265890Z",
     "iopub.status.idle": "2021-10-08T08:14:24.271158Z",
     "shell.execute_reply": "2021-10-08T08:14:24.270726Z"
    }
   },
   "outputs": [],
   "source": [
    "with open('../newest_ts', 'r') as f:\r\n",
    "    newest_ts = f.read()\r\n",
    "\r\n",
    "data_path = f\"../data/data_{newest_ts}.json\"\r\n",
    "with open(data_path, 'r') as f:\r\n",
    "    data = json.load(f)\r\n",
    "\r\n",
    "with open(CONFIG_PATH, \"r\") as stream:\r\n",
    "    config = yaml.safe_load(stream)\r\n",
    "\r\n",
    "TIME_ZONE = config['time_zone']\r\n",
    "DATETIME_FORMAT = config['dt_format']"
   ]
  },
  {
   "cell_type": "code",
   "execution_count": 3,
   "metadata": {
    "execution": {
     "iopub.execute_input": "2021-10-08T08:14:24.275597Z",
     "iopub.status.busy": "2021-10-08T08:14:24.275137Z",
     "iopub.status.idle": "2021-10-08T08:14:24.288530Z",
     "shell.execute_reply": "2021-10-08T08:14:24.288106Z"
    }
   },
   "outputs": [
    {
     "name": "stdout",
     "output_type": "stream",
     "text": [
      "Recent query happens at 2021-10-08 16:14:18 (CST).\n"
     ]
    }
   ],
   "source": [
    "def ts2dt(ts, format=DATETIME_FORMAT):\r\n",
    "    dt = (datetime.utcfromtimestamp(int(ts))\r\n",
    "                    .replace(tzinfo=tz.tzutc())\r\n",
    "                    # .astimezone(tz.tzlocal())\r\n",
    "                    .astimezone(tz.gettz(TIME_ZONE)))\r\n",
    "    return dt.strftime(format), dt\r\n",
    "\r\n",
    "_, newest_dt = ts2dt(newest_ts)\r\n",
    "print(f\"Recent query happens at {newest_dt.strftime(DATETIME_FORMAT)} ({newest_dt.tzname()}).\")"
   ]
  },
  {
   "cell_type": "code",
   "execution_count": 4,
   "metadata": {
    "execution": {
     "iopub.execute_input": "2021-10-08T08:14:24.293260Z",
     "iopub.status.busy": "2021-10-08T08:14:24.292203Z",
     "iopub.status.idle": "2021-10-08T08:14:24.293776Z",
     "shell.execute_reply": "2021-10-08T08:14:24.294142Z"
    }
   },
   "outputs": [],
   "source": [
    "def degrees_to_cardinal(d):\r\n",
    "  dirs = ['N', 'NNE', 'NE', 'ENE', 'E', 'ESE', 'SE', 'SSE', 'S', 'SSW', 'SW', 'WSW', 'W', 'WNW', 'NW', 'NNW']\r\n",
    "  ix = int(round(d / (360. / len(dirs))))\r\n",
    "  return dirs[ix % len(dirs)]"
   ]
  },
  {
   "cell_type": "code",
   "execution_count": 5,
   "metadata": {
    "execution": {
     "iopub.execute_input": "2021-10-08T08:14:24.298182Z",
     "iopub.status.busy": "2021-10-08T08:14:24.297120Z",
     "iopub.status.idle": "2021-10-08T08:14:24.298700Z",
     "shell.execute_reply": "2021-10-08T08:14:24.299065Z"
    }
   },
   "outputs": [],
   "source": [
    "# data.keys()"
   ]
  },
  {
   "cell_type": "code",
   "execution_count": 6,
   "metadata": {
    "execution": {
     "iopub.execute_input": "2021-10-08T08:14:24.302749Z",
     "iopub.status.busy": "2021-10-08T08:14:24.301633Z",
     "iopub.status.idle": "2021-10-08T08:14:24.303268Z",
     "shell.execute_reply": "2021-10-08T08:14:24.303637Z"
    }
   },
   "outputs": [],
   "source": [
    "# data['current']"
   ]
  },
  {
   "cell_type": "code",
   "execution_count": 7,
   "metadata": {
    "execution": {
     "iopub.execute_input": "2021-10-08T08:14:24.325207Z",
     "iopub.status.busy": "2021-10-08T08:14:24.322643Z",
     "iopub.status.idle": "2021-10-08T08:14:24.844330Z",
     "shell.execute_reply": "2021-10-08T08:14:24.845007Z"
    }
   },
   "outputs": [
    {
     "data": {
      "image/png": "[encoded data removed]",
      "text/plain": [
       "<Figure size 216x216 with 1 Axes>"
      ]
     },
     "metadata": {
      "needs_background": "light"
     },
     "output_type": "display_data"
    },
    {
     "name": "stdout",
     "output_type": "stream",
     "text": [
      "Today, sun rises at 06:16 and sets at 18:04.\n",
      "Currently, the weather is Rain (moderate rain).\n",
      "The temperature is 25.3°C and it feels like 26.42°C.\n",
      "The UV index is 0.09, humidity is 97%.\n",
      "The pressure is 1003 hPa, percentage of cloud cover is 100%\n",
      "The wind comes from N direction with a speed 1.79 m/s.\n"
     ]
    }
   ],
   "source": [
    "current = data['current']\r\n",
    "\r\n",
    "fig, ax = plt.subplots(figsize=(3, 3))\r\n",
    "icon = requests.get(f\"http://openweathermap.org/img/wn/{current['weather'][0]['icon']}@2x.png\")\r\n",
    "im = Image.open(BytesIO(icon.content))\r\n",
    "plt.imshow(im)\r\n",
    "ax.set_axis_off()\r\n",
    "plt.show()\r\n",
    "\r\n",
    "print(f\"Today, sun rises at {ts2dt(current['sunrise'], '%H:%M')[0]} \\\r\n",
    "and sets at {ts2dt(current['sunset'], '%H:%M')[0]}.\\n\\\r\n",
    "Currently, the weather is {current['weather'][0]['main']} ({current['weather'][0]['description']}).\\n\\\r\n",
    "The temperature is {current['temp']}°C and it feels like {current['feels_like']}°C.\\n\\\r\n",
    "The UV index is {current['uvi']}, humidity is {current['humidity']}%.\\n\\\r\n",
    "The pressure is {current['pressure']} hPa, percentage of cloud cover is {current['clouds']}%\\n\\\r\n",
    "The wind comes from {degrees_to_cardinal(current['wind_deg'])} direction with a speed {current['wind_speed']} m/s.\")"
   ]
  },
  {
   "cell_type": "code",
   "execution_count": 8,
   "metadata": {
    "execution": {
     "iopub.execute_input": "2021-10-08T08:14:24.848186Z",
     "iopub.status.busy": "2021-10-08T08:14:24.847249Z",
     "iopub.status.idle": "2021-10-08T08:14:24.853986Z",
     "shell.execute_reply": "2021-10-08T08:14:24.854629Z"
    }
   },
   "outputs": [],
   "source": [
    "df_hourly = pd.DataFrame(data['hourly'])\r\n",
    "df_daily = pd.DataFrame(data['daily'])"
   ]
  },
  {
   "cell_type": "code",
   "execution_count": 9,
   "metadata": {
    "execution": {
     "iopub.execute_input": "2021-10-08T08:14:24.857605Z",
     "iopub.status.busy": "2021-10-08T08:14:24.856691Z",
     "iopub.status.idle": "2021-10-08T08:14:25.108143Z",
     "shell.execute_reply": "2021-10-08T08:14:25.107704Z"
    }
   },
   "outputs": [
    {
     "data": {
      "image/png": "[encoded data removed]",
      "text/plain": [
       "<Figure size 864x432 with 1 Axes>"
      ]
     },
     "metadata": {
      "needs_background": "light"
     },
     "output_type": "display_data"
    }
   ],
   "source": [
    "fig, ax = plt.subplots(figsize=(12, 6))\r\n",
    "plt.plot(df_hourly.temp, '.-', label='Temperature')\r\n",
    "plt.plot(df_hourly.feels_like, '.-', label='Feels Like')\r\n",
    "ax.set(title='Temperature in future 48 hours', xlabel='Time', ylabel='Temperature')\r\n",
    "ax.set_xticks(list(range(0, len(df_hourly), 2)))\r\n",
    "ax.set_xticklabels([ts2dt(ts, '%m-%d %H:%M')[0] for i, ts in enumerate(df_hourly.dt) if i%2==0], \r\n",
    "                   rotation=45, ha=\"right\")\r\n",
    "ax.locator_params(nbins=15, axis='y')\r\n",
    "plt.legend()\r\n",
    "plt.show()"
   ]
  },
  {
   "cell_type": "code",
   "execution_count": 10,
   "metadata": {
    "execution": {
     "iopub.execute_input": "2021-10-08T08:14:25.112594Z",
     "iopub.status.busy": "2021-10-08T08:14:25.112004Z",
     "iopub.status.idle": "2021-10-08T08:14:25.130329Z",
     "shell.execute_reply": "2021-10-08T08:14:25.130764Z"
    }
   },
   "outputs": [
    {
     "data": {
      "text/html": [
       "<div>\n",
       "<style scoped>\n",
       "    .dataframe tbody tr th:only-of-type {\n",
       "        vertical-align: middle;\n",
       "    }\n",
       "\n",
       "    .dataframe tbody tr th {\n",
       "        vertical-align: top;\n",
       "    }\n",
       "\n",
       "    .dataframe thead th {\n",
       "        text-align: right;\n",
       "    }\n",
       "</style>\n",
       "<table border=\"1\" class=\"dataframe\">\n",
       "  <thead>\n",
       "    <tr style=\"text-align: right;\">\n",
       "      <th></th>\n",
       "      <th>dt</th>\n",
       "      <th>temp</th>\n",
       "      <th>feels_like</th>\n",
       "      <th>pressure</th>\n",
       "      <th>humidity</th>\n",
       "      <th>dew_point</th>\n",
       "      <th>uvi</th>\n",
       "      <th>clouds</th>\n",
       "      <th>visibility</th>\n",
       "      <th>wind_speed</th>\n",
       "      <th>wind_deg</th>\n",
       "      <th>wind_gust</th>\n",
       "      <th>weather</th>\n",
       "      <th>pop</th>\n",
       "      <th>rain</th>\n",
       "    </tr>\n",
       "  </thead>\n",
       "  <tbody>\n",
       "    <tr>\n",
       "      <th>0</th>\n",
       "      <td>1633680000</td>\n",
       "      <td>25.30</td>\n",
       "      <td>26.42</td>\n",
       "      <td>1003</td>\n",
       "      <td>97</td>\n",
       "      <td>24.79</td>\n",
       "      <td>0.09</td>\n",
       "      <td>100</td>\n",
       "      <td>2594</td>\n",
       "      <td>9.81</td>\n",
       "      <td>88</td>\n",
       "      <td>13.41</td>\n",
       "      <td>[{'id': 502, 'main': 'Rain', 'description': 'h...</td>\n",
       "      <td>1.0</td>\n",
       "      <td>{'1h': 6.22}</td>\n",
       "    </tr>\n",
       "    <tr>\n",
       "      <th>1</th>\n",
       "      <td>1633683600</td>\n",
       "      <td>25.34</td>\n",
       "      <td>26.44</td>\n",
       "      <td>1003</td>\n",
       "      <td>96</td>\n",
       "      <td>24.66</td>\n",
       "      <td>0.02</td>\n",
       "      <td>100</td>\n",
       "      <td>2178</td>\n",
       "      <td>11.53</td>\n",
       "      <td>83</td>\n",
       "      <td>15.60</td>\n",
       "      <td>[{'id': 501, 'main': 'Rain', 'description': 'm...</td>\n",
       "      <td>1.0</td>\n",
       "      <td>{'1h': 2.73}</td>\n",
       "    </tr>\n",
       "    <tr>\n",
       "      <th>2</th>\n",
       "      <td>1633687200</td>\n",
       "      <td>25.44</td>\n",
       "      <td>26.55</td>\n",
       "      <td>1003</td>\n",
       "      <td>96</td>\n",
       "      <td>24.75</td>\n",
       "      <td>0.00</td>\n",
       "      <td>100</td>\n",
       "      <td>1781</td>\n",
       "      <td>12.58</td>\n",
       "      <td>92</td>\n",
       "      <td>17.61</td>\n",
       "      <td>[{'id': 502, 'main': 'Rain', 'description': 'h...</td>\n",
       "      <td>1.0</td>\n",
       "      <td>{'1h': 4.86}</td>\n",
       "    </tr>\n",
       "    <tr>\n",
       "      <th>3</th>\n",
       "      <td>1633690800</td>\n",
       "      <td>25.54</td>\n",
       "      <td>26.63</td>\n",
       "      <td>1004</td>\n",
       "      <td>95</td>\n",
       "      <td>24.68</td>\n",
       "      <td>0.00</td>\n",
       "      <td>100</td>\n",
       "      <td>2516</td>\n",
       "      <td>11.52</td>\n",
       "      <td>108</td>\n",
       "      <td>16.82</td>\n",
       "      <td>[{'id': 502, 'main': 'Rain', 'description': 'h...</td>\n",
       "      <td>1.0</td>\n",
       "      <td>{'1h': 10.26}</td>\n",
       "    </tr>\n",
       "    <tr>\n",
       "      <th>4</th>\n",
       "      <td>1633694400</td>\n",
       "      <td>25.80</td>\n",
       "      <td>26.92</td>\n",
       "      <td>1004</td>\n",
       "      <td>95</td>\n",
       "      <td>24.94</td>\n",
       "      <td>0.00</td>\n",
       "      <td>100</td>\n",
       "      <td>2379</td>\n",
       "      <td>12.92</td>\n",
       "      <td>110</td>\n",
       "      <td>18.21</td>\n",
       "      <td>[{'id': 502, 'main': 'Rain', 'description': 'h...</td>\n",
       "      <td>1.0</td>\n",
       "      <td>{'1h': 12.07}</td>\n",
       "    </tr>\n",
       "  </tbody>\n",
       "</table>\n",
       "</div>"
      ],
      "text/plain": [
       "           dt   temp  feels_like  pressure  humidity  dew_point   uvi  clouds  \\\n",
       "0  1633680000  25.30       26.42      1003        97      24.79  0.09     100   \n",
       "1  1633683600  25.34       26.44      1003        96      24.66  0.02     100   \n",
       "2  1633687200  25.44       26.55      1003        96      24.75  0.00     100   \n",
       "3  1633690800  25.54       26.63      1004        95      24.68  0.00     100   \n",
       "4  1633694400  25.80       26.92      1004        95      24.94  0.00     100   \n",
       "\n",
       "   visibility  wind_speed  wind_deg  wind_gust  \\\n",
       "0        2594        9.81        88      13.41   \n",
       "1        2178       11.53        83      15.60   \n",
       "2        1781       12.58        92      17.61   \n",
       "3        2516       11.52       108      16.82   \n",
       "4        2379       12.92       110      18.21   \n",
       "\n",
       "                                             weather  pop           rain  \n",
       "0  [{'id': 502, 'main': 'Rain', 'description': 'h...  1.0   {'1h': 6.22}  \n",
       "1  [{'id': 501, 'main': 'Rain', 'description': 'm...  1.0   {'1h': 2.73}  \n",
       "2  [{'id': 502, 'main': 'Rain', 'description': 'h...  1.0   {'1h': 4.86}  \n",
       "3  [{'id': 502, 'main': 'Rain', 'description': 'h...  1.0  {'1h': 10.26}  \n",
       "4  [{'id': 502, 'main': 'Rain', 'description': 'h...  1.0  {'1h': 12.07}  "
      ]
     },
     "execution_count": 10,
     "metadata": {},
     "output_type": "execute_result"
    }
   ],
   "source": [
    "df_hourly.head()"
   ]
  },
  {
   "cell_type": "code",
   "execution_count": null,
   "metadata": {},
   "outputs": [],
   "source": []
  }
 ],
 "metadata": {
  "interpreter": {
   "hash": "c1b4cfe941b6d2466ad1fb5979e97da9cda8801728c8091b097ab734208fc00c"
  },
  "kernelspec": {
   "display_name": "Python 3.8.3 64-bit ('base': conda)",
   "name": "python3"
  },
  "language_info": {
   "codemirror_mode": {
    "name": "ipython",
    "version": 3
   },
   "file_extension": ".py",
   "mimetype": "text/x-python",
   "name": "python",
   "nbconvert_exporter": "python",
   "pygments_lexer": "ipython3",
   "version": "3.8.12"
  }
 },
 "nbformat": 4,
 "nbformat_minor": 2
}
