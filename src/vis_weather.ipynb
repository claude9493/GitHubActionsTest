{
 "cells": [
  {
   "cell_type": "code",
   "execution_count": 1,
   "metadata": {
    "execution": {
     "iopub.execute_input": "2021-09-09T17:26:33.834071Z",
     "iopub.status.busy": "2021-09-09T17:26:33.833475Z",
     "iopub.status.idle": "2021-09-09T17:26:35.008800Z",
     "shell.execute_reply": "2021-09-09T17:26:35.008198Z"
    }
   },
   "outputs": [],
   "source": [
    "import json, yaml, requests\r\n",
    "from datetime import datetime\r\n",
    "from dateutil import tz\r\n",
    "import pandas as pd\r\n",
    "from PIL import Image\r\n",
    "from io import BytesIO\r\n",
    "import matplotlib.pyplot as plt\r\n",
    "import seaborn\r\n",
    "\r\n",
    "CONFIG_PATH = \"../config/config.yaml\""
   ]
  },
  {
   "cell_type": "code",
   "execution_count": 2,
   "metadata": {
    "execution": {
     "iopub.execute_input": "2021-09-09T17:26:35.016019Z",
     "iopub.status.busy": "2021-09-09T17:26:35.013150Z",
     "iopub.status.idle": "2021-09-09T17:26:35.018449Z",
     "shell.execute_reply": "2021-09-09T17:26:35.018076Z"
    }
   },
   "outputs": [],
   "source": [
    "with open('../newest_ts', 'r') as f:\r\n",
    "    newest_ts = f.read()\r\n",
    "\r\n",
    "data_path = f\"../data/data_{newest_ts}.json\"\r\n",
    "with open(data_path, 'r') as f:\r\n",
    "    data = json.load(f)\r\n",
    "\r\n",
    "with open(CONFIG_PATH, \"r\") as stream:\r\n",
    "    config = yaml.safe_load(stream)\r\n",
    "\r\n",
    "TIME_ZONE = config['time_zone']\r\n",
    "DATETIME_FORMAT = config['dt_format']"
   ]
  },
  {
   "cell_type": "code",
   "execution_count": 3,
   "metadata": {
    "execution": {
     "iopub.execute_input": "2021-09-09T17:26:35.022552Z",
     "iopub.status.busy": "2021-09-09T17:26:35.022105Z",
     "iopub.status.idle": "2021-09-09T17:26:35.026303Z",
     "shell.execute_reply": "2021-09-09T17:26:35.026673Z"
    }
   },
   "outputs": [
    {
     "name": "stdout",
     "output_type": "stream",
     "text": [
      "Recent query happens at 2021-09-10 01:26:31 (CST).\n"
     ]
    }
   ],
   "source": [
    "def ts2dt(ts, format=DATETIME_FORMAT):\r\n",
    "    dt = (datetime.utcfromtimestamp(int(ts))\r\n",
    "                    .replace(tzinfo=tz.tzutc())\r\n",
    "                    # .astimezone(tz.tzlocal())\r\n",
    "                    .astimezone(tz.gettz(TIME_ZONE)))\r\n",
    "    return dt.strftime(format), dt\r\n",
    "\r\n",
    "_, newest_dt = ts2dt(newest_ts)\r\n",
    "print(f\"Recent query happens at {newest_dt.strftime(DATETIME_FORMAT)} ({newest_dt.tzname()}).\")"
   ]
  },
  {
   "cell_type": "code",
   "execution_count": 4,
   "metadata": {
    "execution": {
     "iopub.execute_input": "2021-09-09T17:26:35.031386Z",
     "iopub.status.busy": "2021-09-09T17:26:35.030400Z",
     "iopub.status.idle": "2021-09-09T17:26:35.031921Z",
     "shell.execute_reply": "2021-09-09T17:26:35.032292Z"
    }
   },
   "outputs": [],
   "source": [
    "def degrees_to_cardinal(d):\r\n",
    "  dirs = ['N', 'NNE', 'NE', 'ENE', 'E', 'ESE', 'SE', 'SSE', 'S', 'SSW', 'SW', 'WSW', 'W', 'WNW', 'NW', 'NNW']\r\n",
    "  ix = int(round(d / (360. / len(dirs))))\r\n",
    "  return dirs[ix % len(dirs)]"
   ]
  },
  {
   "cell_type": "code",
   "execution_count": 5,
   "metadata": {
    "execution": {
     "iopub.execute_input": "2021-09-09T17:26:35.036161Z",
     "iopub.status.busy": "2021-09-09T17:26:35.034991Z",
     "iopub.status.idle": "2021-09-09T17:26:35.036685Z",
     "shell.execute_reply": "2021-09-09T17:26:35.037061Z"
    }
   },
   "outputs": [],
   "source": [
    "# data.keys()"
   ]
  },
  {
   "cell_type": "code",
   "execution_count": 6,
   "metadata": {
    "execution": {
     "iopub.execute_input": "2021-09-09T17:26:35.040927Z",
     "iopub.status.busy": "2021-09-09T17:26:35.039803Z",
     "iopub.status.idle": "2021-09-09T17:26:35.041441Z",
     "shell.execute_reply": "2021-09-09T17:26:35.041803Z"
    }
   },
   "outputs": [],
   "source": [
    "# data['current']"
   ]
  },
  {
   "cell_type": "code",
   "execution_count": 7,
   "metadata": {
    "execution": {
     "iopub.execute_input": "2021-09-09T17:26:35.057907Z",
     "iopub.status.busy": "2021-09-09T17:26:35.057438Z",
     "iopub.status.idle": "2021-09-09T17:26:35.311654Z",
     "shell.execute_reply": "2021-09-09T17:26:35.312049Z"
    }
   },
   "outputs": [
    {
     "data": {
      "image/png": "[encoded data removed]",
      "text/plain": [
       "<Figure size 216x216 with 1 Axes>"
      ]
     },
     "metadata": {
      "needs_background": "light"
     },
     "output_type": "display_data"
    },
    {
     "name": "stdout",
     "output_type": "stream",
     "text": [
      "Today, sun rises at 06:08 and sets at 18:32.\n",
      "Currently, the weather is Clouds (broken clouds).\n",
      "The temperature is 29.82°C and it feels like 36.82°C.\n",
      "The UV index is 0, humidity is 79%.\n",
      "The pressure is 1009 hPa, percentage of cloud cover is 60%\n",
      "The wind comes from ENE direction with a speed 3.75 m/s.\n"
     ]
    }
   ],
   "source": [
    "current = data['current']\r\n",
    "\r\n",
    "fig, ax = plt.subplots(figsize=(3, 3))\r\n",
    "icon = requests.get(f\"http://openweathermap.org/img/wn/{current['weather'][0]['icon']}@2x.png\")\r\n",
    "im = Image.open(BytesIO(icon.content))\r\n",
    "plt.imshow(im)\r\n",
    "ax.set_axis_off()\r\n",
    "plt.show()\r\n",
    "\r\n",
    "print(f\"Today, sun rises at {ts2dt(current['sunrise'], '%H:%M')[0]} \\\r\n",
    "and sets at {ts2dt(current['sunset'], '%H:%M')[0]}.\\n\\\r\n",
    "Currently, the weather is {current['weather'][0]['main']} ({current['weather'][0]['description']}).\\n\\\r\n",
    "The temperature is {current['temp']}°C and it feels like {current['feels_like']}°C.\\n\\\r\n",
    "The UV index is {current['uvi']}, humidity is {current['humidity']}%.\\n\\\r\n",
    "The pressure is {current['pressure']} hPa, percentage of cloud cover is {current['clouds']}%\\n\\\r\n",
    "The wind comes from {degrees_to_cardinal(current['wind_deg'])} direction with a speed {current['wind_speed']} m/s.\")"
   ]
  },
  {
   "cell_type": "code",
   "execution_count": 8,
   "metadata": {
    "execution": {
     "iopub.execute_input": "2021-09-09T17:26:35.318905Z",
     "iopub.status.busy": "2021-09-09T17:26:35.318099Z",
     "iopub.status.idle": "2021-09-09T17:26:35.320972Z",
     "shell.execute_reply": "2021-09-09T17:26:35.321404Z"
    }
   },
   "outputs": [],
   "source": [
    "df_hourly = pd.DataFrame(data['hourly'])\r\n",
    "df_daily = pd.DataFrame(data['daily'])"
   ]
  },
  {
   "cell_type": "code",
   "execution_count": 9,
   "metadata": {
    "execution": {
     "iopub.execute_input": "2021-09-09T17:26:35.323618Z",
     "iopub.status.busy": "2021-09-09T17:26:35.323168Z",
     "iopub.status.idle": "2021-09-09T17:26:35.565801Z",
     "shell.execute_reply": "2021-09-09T17:26:35.565376Z"
    }
   },
   "outputs": [
    {
     "data": {
      "image/png": "[encoded data removed]",
      "text/plain": [
       "<Figure size 864x432 with 1 Axes>"
      ]
     },
     "metadata": {
      "needs_background": "light"
     },
     "output_type": "display_data"
    }
   ],
   "source": [
    "fig, ax = plt.subplots(figsize=(12, 6))\r\n",
    "plt.plot(df_hourly.temp, '.-', label='Temperature')\r\n",
    "plt.plot(df_hourly.feels_like, '.-', label='Feels Like')\r\n",
    "ax.set(title='Temperature in future 48 hours', xlabel='Time', ylabel='Temperature')\r\n",
    "ax.set_xticks(list(range(0, len(df_hourly), 2)))\r\n",
    "ax.set_xticklabels([ts2dt(ts, '%m-%d %H:%M')[0] for i, ts in enumerate(df_hourly.dt) if i%2==0], \r\n",
    "                   rotation=45, ha=\"right\")\r\n",
    "ax.locator_params(nbins=15, axis='y')\r\n",
    "plt.legend()\r\n",
    "plt.show()"
   ]
  },
  {
   "cell_type": "code",
   "execution_count": 10,
   "metadata": {
    "execution": {
     "iopub.execute_input": "2021-09-09T17:26:35.576344Z",
     "iopub.status.busy": "2021-09-09T17:26:35.569541Z",
     "iopub.status.idle": "2021-09-09T17:26:35.586621Z",
     "shell.execute_reply": "2021-09-09T17:26:35.586199Z"
    }
   },
   "outputs": [
    {
     "data": {
      "text/html": [
       "<div>\n",
       "<style scoped>\n",
       "    .dataframe tbody tr th:only-of-type {\n",
       "        vertical-align: middle;\n",
       "    }\n",
       "\n",
       "    .dataframe tbody tr th {\n",
       "        vertical-align: top;\n",
       "    }\n",
       "\n",
       "    .dataframe thead th {\n",
       "        text-align: right;\n",
       "    }\n",
       "</style>\n",
       "<table border=\"1\" class=\"dataframe\">\n",
       "  <thead>\n",
       "    <tr style=\"text-align: right;\">\n",
       "      <th></th>\n",
       "      <th>dt</th>\n",
       "      <th>temp</th>\n",
       "      <th>feels_like</th>\n",
       "      <th>pressure</th>\n",
       "      <th>humidity</th>\n",
       "      <th>dew_point</th>\n",
       "      <th>uvi</th>\n",
       "      <th>clouds</th>\n",
       "      <th>visibility</th>\n",
       "      <th>wind_speed</th>\n",
       "      <th>wind_deg</th>\n",
       "      <th>wind_gust</th>\n",
       "      <th>weather</th>\n",
       "      <th>pop</th>\n",
       "      <th>rain</th>\n",
       "    </tr>\n",
       "  </thead>\n",
       "  <tbody>\n",
       "    <tr>\n",
       "      <th>0</th>\n",
       "      <td>1631206800</td>\n",
       "      <td>29.82</td>\n",
       "      <td>36.82</td>\n",
       "      <td>1009</td>\n",
       "      <td>79</td>\n",
       "      <td>25.78</td>\n",
       "      <td>0.0</td>\n",
       "      <td>60</td>\n",
       "      <td>10000</td>\n",
       "      <td>3.75</td>\n",
       "      <td>77</td>\n",
       "      <td>5.36</td>\n",
       "      <td>[{'id': 803, 'main': 'Clouds', 'description': ...</td>\n",
       "      <td>0.54</td>\n",
       "      <td>NaN</td>\n",
       "    </tr>\n",
       "    <tr>\n",
       "      <th>1</th>\n",
       "      <td>1631210400</td>\n",
       "      <td>29.31</td>\n",
       "      <td>35.62</td>\n",
       "      <td>1009</td>\n",
       "      <td>80</td>\n",
       "      <td>25.50</td>\n",
       "      <td>0.0</td>\n",
       "      <td>61</td>\n",
       "      <td>10000</td>\n",
       "      <td>4.06</td>\n",
       "      <td>78</td>\n",
       "      <td>5.95</td>\n",
       "      <td>[{'id': 803, 'main': 'Clouds', 'description': ...</td>\n",
       "      <td>0.62</td>\n",
       "      <td>NaN</td>\n",
       "    </tr>\n",
       "    <tr>\n",
       "      <th>2</th>\n",
       "      <td>1631214000</td>\n",
       "      <td>28.80</td>\n",
       "      <td>34.40</td>\n",
       "      <td>1009</td>\n",
       "      <td>81</td>\n",
       "      <td>25.21</td>\n",
       "      <td>0.0</td>\n",
       "      <td>76</td>\n",
       "      <td>10000</td>\n",
       "      <td>4.18</td>\n",
       "      <td>76</td>\n",
       "      <td>6.21</td>\n",
       "      <td>[{'id': 803, 'main': 'Clouds', 'description': ...</td>\n",
       "      <td>0.75</td>\n",
       "      <td>NaN</td>\n",
       "    </tr>\n",
       "    <tr>\n",
       "      <th>3</th>\n",
       "      <td>1631217600</td>\n",
       "      <td>28.30</td>\n",
       "      <td>33.21</td>\n",
       "      <td>1009</td>\n",
       "      <td>82</td>\n",
       "      <td>24.93</td>\n",
       "      <td>0.0</td>\n",
       "      <td>84</td>\n",
       "      <td>10000</td>\n",
       "      <td>4.05</td>\n",
       "      <td>70</td>\n",
       "      <td>5.89</td>\n",
       "      <td>[{'id': 500, 'main': 'Rain', 'description': 'l...</td>\n",
       "      <td>0.99</td>\n",
       "      <td>{'1h': 0.41}</td>\n",
       "    </tr>\n",
       "    <tr>\n",
       "      <th>4</th>\n",
       "      <td>1631221200</td>\n",
       "      <td>27.80</td>\n",
       "      <td>32.04</td>\n",
       "      <td>1009</td>\n",
       "      <td>83</td>\n",
       "      <td>24.65</td>\n",
       "      <td>0.0</td>\n",
       "      <td>92</td>\n",
       "      <td>10000</td>\n",
       "      <td>4.05</td>\n",
       "      <td>66</td>\n",
       "      <td>5.83</td>\n",
       "      <td>[{'id': 804, 'main': 'Clouds', 'description': ...</td>\n",
       "      <td>0.79</td>\n",
       "      <td>NaN</td>\n",
       "    </tr>\n",
       "  </tbody>\n",
       "</table>\n",
       "</div>"
      ],
      "text/plain": [
       "           dt   temp  feels_like  pressure  humidity  dew_point  uvi  clouds  \\\n",
       "0  1631206800  29.82       36.82      1009        79      25.78  0.0      60   \n",
       "1  1631210400  29.31       35.62      1009        80      25.50  0.0      61   \n",
       "2  1631214000  28.80       34.40      1009        81      25.21  0.0      76   \n",
       "3  1631217600  28.30       33.21      1009        82      24.93  0.0      84   \n",
       "4  1631221200  27.80       32.04      1009        83      24.65  0.0      92   \n",
       "\n",
       "   visibility  wind_speed  wind_deg  wind_gust  \\\n",
       "0       10000        3.75        77       5.36   \n",
       "1       10000        4.06        78       5.95   \n",
       "2       10000        4.18        76       6.21   \n",
       "3       10000        4.05        70       5.89   \n",
       "4       10000        4.05        66       5.83   \n",
       "\n",
       "                                             weather   pop          rain  \n",
       "0  [{'id': 803, 'main': 'Clouds', 'description': ...  0.54           NaN  \n",
       "1  [{'id': 803, 'main': 'Clouds', 'description': ...  0.62           NaN  \n",
       "2  [{'id': 803, 'main': 'Clouds', 'description': ...  0.75           NaN  \n",
       "3  [{'id': 500, 'main': 'Rain', 'description': 'l...  0.99  {'1h': 0.41}  \n",
       "4  [{'id': 804, 'main': 'Clouds', 'description': ...  0.79           NaN  "
      ]
     },
     "execution_count": 10,
     "metadata": {},
     "output_type": "execute_result"
    }
   ],
   "source": [
    "df_hourly.head()"
   ]
  },
  {
   "cell_type": "code",
   "execution_count": null,
   "metadata": {},
   "outputs": [],
   "source": []
  }
 ],
 "metadata": {
  "interpreter": {
   "hash": "c1b4cfe941b6d2466ad1fb5979e97da9cda8801728c8091b097ab734208fc00c"
  },
  "kernelspec": {
   "display_name": "Python 3.8.3 64-bit ('base': conda)",
   "name": "python3"
  },
  "language_info": {
   "codemirror_mode": {
    "name": "ipython",
    "version": 3
   },
   "file_extension": ".py",
   "mimetype": "text/x-python",
   "name": "python",
   "nbconvert_exporter": "python",
   "pygments_lexer": "ipython3",
   "version": "3.8.11"
  }
 },
 "nbformat": 4,
 "nbformat_minor": 2
}
