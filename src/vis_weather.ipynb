{
 "cells": [
  {
   "cell_type": "code",
   "execution_count": 1,
   "metadata": {
    "execution": {
     "iopub.execute_input": "2021-09-20T04:14:44.181705Z",
     "iopub.status.busy": "2021-09-20T04:14:44.181180Z",
     "iopub.status.idle": "2021-09-20T04:14:45.284880Z",
     "shell.execute_reply": "2021-09-20T04:14:45.283962Z"
    }
   },
   "outputs": [],
   "source": [
    "import json, yaml, requests\r\n",
    "from datetime import datetime\r\n",
    "from dateutil import tz\r\n",
    "import pandas as pd\r\n",
    "from PIL import Image\r\n",
    "from io import BytesIO\r\n",
    "import matplotlib.pyplot as plt\r\n",
    "import seaborn\r\n",
    "\r\n",
    "CONFIG_PATH = \"../config/config.yaml\""
   ]
  },
  {
   "cell_type": "code",
   "execution_count": 2,
   "metadata": {
    "execution": {
     "iopub.execute_input": "2021-09-20T04:14:45.289736Z",
     "iopub.status.busy": "2021-09-20T04:14:45.289276Z",
     "iopub.status.idle": "2021-09-20T04:14:45.294166Z",
     "shell.execute_reply": "2021-09-20T04:14:45.293784Z"
    }
   },
   "outputs": [],
   "source": [
    "with open('../newest_ts', 'r') as f:\r\n",
    "    newest_ts = f.read()\r\n",
    "\r\n",
    "data_path = f\"../data/data_{newest_ts}.json\"\r\n",
    "with open(data_path, 'r') as f:\r\n",
    "    data = json.load(f)\r\n",
    "\r\n",
    "with open(CONFIG_PATH, \"r\") as stream:\r\n",
    "    config = yaml.safe_load(stream)\r\n",
    "\r\n",
    "TIME_ZONE = config['time_zone']\r\n",
    "DATETIME_FORMAT = config['dt_format']"
   ]
  },
  {
   "cell_type": "code",
   "execution_count": 3,
   "metadata": {
    "execution": {
     "iopub.execute_input": "2021-09-20T04:14:45.298471Z",
     "iopub.status.busy": "2021-09-20T04:14:45.297996Z",
     "iopub.status.idle": "2021-09-20T04:14:45.307079Z",
     "shell.execute_reply": "2021-09-20T04:14:45.307461Z"
    }
   },
   "outputs": [
    {
     "name": "stdout",
     "output_type": "stream",
     "text": [
      "Recent query happens at 2021-09-20 12:14:41 (CST).\n"
     ]
    }
   ],
   "source": [
    "def ts2dt(ts, format=DATETIME_FORMAT):\r\n",
    "    dt = (datetime.utcfromtimestamp(int(ts))\r\n",
    "                    .replace(tzinfo=tz.tzutc())\r\n",
    "                    # .astimezone(tz.tzlocal())\r\n",
    "                    .astimezone(tz.gettz(TIME_ZONE)))\r\n",
    "    return dt.strftime(format), dt\r\n",
    "\r\n",
    "_, newest_dt = ts2dt(newest_ts)\r\n",
    "print(f\"Recent query happens at {newest_dt.strftime(DATETIME_FORMAT)} ({newest_dt.tzname()}).\")"
   ]
  },
  {
   "cell_type": "code",
   "execution_count": 4,
   "metadata": {
    "execution": {
     "iopub.execute_input": "2021-09-20T04:14:45.312472Z",
     "iopub.status.busy": "2021-09-20T04:14:45.311494Z",
     "iopub.status.idle": "2021-09-20T04:14:45.312986Z",
     "shell.execute_reply": "2021-09-20T04:14:45.313348Z"
    }
   },
   "outputs": [],
   "source": [
    "def degrees_to_cardinal(d):\r\n",
    "  dirs = ['N', 'NNE', 'NE', 'ENE', 'E', 'ESE', 'SE', 'SSE', 'S', 'SSW', 'SW', 'WSW', 'W', 'WNW', 'NW', 'NNW']\r\n",
    "  ix = int(round(d / (360. / len(dirs))))\r\n",
    "  return dirs[ix % len(dirs)]"
   ]
  },
  {
   "cell_type": "code",
   "execution_count": 5,
   "metadata": {
    "execution": {
     "iopub.execute_input": "2021-09-20T04:14:45.317388Z",
     "iopub.status.busy": "2021-09-20T04:14:45.316333Z",
     "iopub.status.idle": "2021-09-20T04:14:45.317897Z",
     "shell.execute_reply": "2021-09-20T04:14:45.318259Z"
    }
   },
   "outputs": [],
   "source": [
    "# data.keys()"
   ]
  },
  {
   "cell_type": "code",
   "execution_count": 6,
   "metadata": {
    "execution": {
     "iopub.execute_input": "2021-09-20T04:14:45.322114Z",
     "iopub.status.busy": "2021-09-20T04:14:45.321074Z",
     "iopub.status.idle": "2021-09-20T04:14:45.322627Z",
     "shell.execute_reply": "2021-09-20T04:14:45.323005Z"
    }
   },
   "outputs": [],
   "source": [
    "# data['current']"
   ]
  },
  {
   "cell_type": "code",
   "execution_count": 7,
   "metadata": {
    "execution": {
     "iopub.execute_input": "2021-09-20T04:14:45.339326Z",
     "iopub.status.busy": "2021-09-20T04:14:45.328585Z",
     "iopub.status.idle": "2021-09-20T04:14:45.836909Z",
     "shell.execute_reply": "2021-09-20T04:14:45.837349Z"
    }
   },
   "outputs": [
    {
     "data": {
      "image/png": "[encoded data removed]",
      "text/plain": [
       "<Figure size 216x216 with 1 Axes>"
      ]
     },
     "metadata": {
      "needs_background": "light"
     },
     "output_type": "display_data"
    },
    {
     "name": "stdout",
     "output_type": "stream",
     "text": [
      "Today, sun rises at 06:11 and sets at 18:21.\n",
      "Currently, the weather is Clouds (scattered clouds).\n",
      "The temperature is 29.08°C and it feels like 36.08°C.\n",
      "The UV index is 8.32, humidity is 88%.\n",
      "The pressure is 1012 hPa, percentage of cloud cover is 26%\n",
      "The wind comes from ESE direction with a speed 3.23 m/s.\n"
     ]
    }
   ],
   "source": [
    "current = data['current']\r\n",
    "\r\n",
    "fig, ax = plt.subplots(figsize=(3, 3))\r\n",
    "icon = requests.get(f\"http://openweathermap.org/img/wn/{current['weather'][0]['icon']}@2x.png\")\r\n",
    "im = Image.open(BytesIO(icon.content))\r\n",
    "plt.imshow(im)\r\n",
    "ax.set_axis_off()\r\n",
    "plt.show()\r\n",
    "\r\n",
    "print(f\"Today, sun rises at {ts2dt(current['sunrise'], '%H:%M')[0]} \\\r\n",
    "and sets at {ts2dt(current['sunset'], '%H:%M')[0]}.\\n\\\r\n",
    "Currently, the weather is {current['weather'][0]['main']} ({current['weather'][0]['description']}).\\n\\\r\n",
    "The temperature is {current['temp']}°C and it feels like {current['feels_like']}°C.\\n\\\r\n",
    "The UV index is {current['uvi']}, humidity is {current['humidity']}%.\\n\\\r\n",
    "The pressure is {current['pressure']} hPa, percentage of cloud cover is {current['clouds']}%\\n\\\r\n",
    "The wind comes from {degrees_to_cardinal(current['wind_deg'])} direction with a speed {current['wind_speed']} m/s.\")"
   ]
  },
  {
   "cell_type": "code",
   "execution_count": 8,
   "metadata": {
    "execution": {
     "iopub.execute_input": "2021-09-20T04:14:45.839996Z",
     "iopub.status.busy": "2021-09-20T04:14:45.839559Z",
     "iopub.status.idle": "2021-09-20T04:14:45.844926Z",
     "shell.execute_reply": "2021-09-20T04:14:45.845354Z"
    }
   },
   "outputs": [],
   "source": [
    "df_hourly = pd.DataFrame(data['hourly'])\r\n",
    "df_daily = pd.DataFrame(data['daily'])"
   ]
  },
  {
   "cell_type": "code",
   "execution_count": 9,
   "metadata": {
    "execution": {
     "iopub.execute_input": "2021-09-20T04:14:45.847827Z",
     "iopub.status.busy": "2021-09-20T04:14:45.847262Z",
     "iopub.status.idle": "2021-09-20T04:14:46.085228Z",
     "shell.execute_reply": "2021-09-20T04:14:46.085585Z"
    }
   },
   "outputs": [
    {
     "data": {
      "image/png": "[encoded data removed]",
      "text/plain": [
       "<Figure size 864x432 with 1 Axes>"
      ]
     },
     "metadata": {
      "needs_background": "light"
     },
     "output_type": "display_data"
    }
   ],
   "source": [
    "fig, ax = plt.subplots(figsize=(12, 6))\r\n",
    "plt.plot(df_hourly.temp, '.-', label='Temperature')\r\n",
    "plt.plot(df_hourly.feels_like, '.-', label='Feels Like')\r\n",
    "ax.set(title='Temperature in future 48 hours', xlabel='Time', ylabel='Temperature')\r\n",
    "ax.set_xticks(list(range(0, len(df_hourly), 2)))\r\n",
    "ax.set_xticklabels([ts2dt(ts, '%m-%d %H:%M')[0] for i, ts in enumerate(df_hourly.dt) if i%2==0], \r\n",
    "                   rotation=45, ha=\"right\")\r\n",
    "ax.locator_params(nbins=15, axis='y')\r\n",
    "plt.legend()\r\n",
    "plt.show()"
   ]
  },
  {
   "cell_type": "code",
   "execution_count": 10,
   "metadata": {
    "execution": {
     "iopub.execute_input": "2021-09-20T04:14:46.097287Z",
     "iopub.status.busy": "2021-09-20T04:14:46.089595Z",
     "iopub.status.idle": "2021-09-20T04:14:46.108043Z",
     "shell.execute_reply": "2021-09-20T04:14:46.107603Z"
    }
   },
   "outputs": [
    {
     "data": {
      "text/html": [
       "<div>\n",
       "<style scoped>\n",
       "    .dataframe tbody tr th:only-of-type {\n",
       "        vertical-align: middle;\n",
       "    }\n",
       "\n",
       "    .dataframe tbody tr th {\n",
       "        vertical-align: top;\n",
       "    }\n",
       "\n",
       "    .dataframe thead th {\n",
       "        text-align: right;\n",
       "    }\n",
       "</style>\n",
       "<table border=\"1\" class=\"dataframe\">\n",
       "  <thead>\n",
       "    <tr style=\"text-align: right;\">\n",
       "      <th></th>\n",
       "      <th>dt</th>\n",
       "      <th>temp</th>\n",
       "      <th>feels_like</th>\n",
       "      <th>pressure</th>\n",
       "      <th>humidity</th>\n",
       "      <th>dew_point</th>\n",
       "      <th>uvi</th>\n",
       "      <th>clouds</th>\n",
       "      <th>visibility</th>\n",
       "      <th>wind_speed</th>\n",
       "      <th>wind_deg</th>\n",
       "      <th>wind_gust</th>\n",
       "      <th>weather</th>\n",
       "      <th>pop</th>\n",
       "      <th>rain</th>\n",
       "    </tr>\n",
       "  </thead>\n",
       "  <tbody>\n",
       "    <tr>\n",
       "      <th>0</th>\n",
       "      <td>1632110400</td>\n",
       "      <td>29.08</td>\n",
       "      <td>36.08</td>\n",
       "      <td>1012</td>\n",
       "      <td>88</td>\n",
       "      <td>26.89</td>\n",
       "      <td>8.32</td>\n",
       "      <td>26</td>\n",
       "      <td>10000</td>\n",
       "      <td>3.23</td>\n",
       "      <td>103</td>\n",
       "      <td>2.60</td>\n",
       "      <td>[{'id': 500, 'main': 'Rain', 'description': 'l...</td>\n",
       "      <td>0.39</td>\n",
       "      <td>{'1h': 0.26}</td>\n",
       "    </tr>\n",
       "    <tr>\n",
       "      <th>1</th>\n",
       "      <td>1632114000</td>\n",
       "      <td>29.22</td>\n",
       "      <td>36.22</td>\n",
       "      <td>1012</td>\n",
       "      <td>85</td>\n",
       "      <td>26.43</td>\n",
       "      <td>8.18</td>\n",
       "      <td>27</td>\n",
       "      <td>10000</td>\n",
       "      <td>2.85</td>\n",
       "      <td>110</td>\n",
       "      <td>2.48</td>\n",
       "      <td>[{'id': 500, 'main': 'Rain', 'description': 'l...</td>\n",
       "      <td>0.41</td>\n",
       "      <td>{'1h': 0.37}</td>\n",
       "    </tr>\n",
       "    <tr>\n",
       "      <th>2</th>\n",
       "      <td>1632117600</td>\n",
       "      <td>29.47</td>\n",
       "      <td>36.33</td>\n",
       "      <td>1011</td>\n",
       "      <td>81</td>\n",
       "      <td>25.86</td>\n",
       "      <td>6.69</td>\n",
       "      <td>30</td>\n",
       "      <td>10000</td>\n",
       "      <td>2.51</td>\n",
       "      <td>118</td>\n",
       "      <td>2.03</td>\n",
       "      <td>[{'id': 501, 'main': 'Rain', 'description': 'm...</td>\n",
       "      <td>0.48</td>\n",
       "      <td>{'1h': 3.65}</td>\n",
       "    </tr>\n",
       "    <tr>\n",
       "      <th>3</th>\n",
       "      <td>1632121200</td>\n",
       "      <td>29.67</td>\n",
       "      <td>35.90</td>\n",
       "      <td>1010</td>\n",
       "      <td>77</td>\n",
       "      <td>25.20</td>\n",
       "      <td>5.35</td>\n",
       "      <td>60</td>\n",
       "      <td>10000</td>\n",
       "      <td>2.47</td>\n",
       "      <td>118</td>\n",
       "      <td>1.89</td>\n",
       "      <td>[{'id': 500, 'main': 'Rain', 'description': 'l...</td>\n",
       "      <td>0.39</td>\n",
       "      <td>{'1h': 0.12}</td>\n",
       "    </tr>\n",
       "    <tr>\n",
       "      <th>4</th>\n",
       "      <td>1632124800</td>\n",
       "      <td>29.81</td>\n",
       "      <td>35.54</td>\n",
       "      <td>1010</td>\n",
       "      <td>74</td>\n",
       "      <td>24.67</td>\n",
       "      <td>2.68</td>\n",
       "      <td>56</td>\n",
       "      <td>10000</td>\n",
       "      <td>2.27</td>\n",
       "      <td>110</td>\n",
       "      <td>1.79</td>\n",
       "      <td>[{'id': 803, 'main': 'Clouds', 'description': ...</td>\n",
       "      <td>0.38</td>\n",
       "      <td>NaN</td>\n",
       "    </tr>\n",
       "  </tbody>\n",
       "</table>\n",
       "</div>"
      ],
      "text/plain": [
       "           dt   temp  feels_like  pressure  humidity  dew_point   uvi  clouds  \\\n",
       "0  1632110400  29.08       36.08      1012        88      26.89  8.32      26   \n",
       "1  1632114000  29.22       36.22      1012        85      26.43  8.18      27   \n",
       "2  1632117600  29.47       36.33      1011        81      25.86  6.69      30   \n",
       "3  1632121200  29.67       35.90      1010        77      25.20  5.35      60   \n",
       "4  1632124800  29.81       35.54      1010        74      24.67  2.68      56   \n",
       "\n",
       "   visibility  wind_speed  wind_deg  wind_gust  \\\n",
       "0       10000        3.23       103       2.60   \n",
       "1       10000        2.85       110       2.48   \n",
       "2       10000        2.51       118       2.03   \n",
       "3       10000        2.47       118       1.89   \n",
       "4       10000        2.27       110       1.79   \n",
       "\n",
       "                                             weather   pop          rain  \n",
       "0  [{'id': 500, 'main': 'Rain', 'description': 'l...  0.39  {'1h': 0.26}  \n",
       "1  [{'id': 500, 'main': 'Rain', 'description': 'l...  0.41  {'1h': 0.37}  \n",
       "2  [{'id': 501, 'main': 'Rain', 'description': 'm...  0.48  {'1h': 3.65}  \n",
       "3  [{'id': 500, 'main': 'Rain', 'description': 'l...  0.39  {'1h': 0.12}  \n",
       "4  [{'id': 803, 'main': 'Clouds', 'description': ...  0.38           NaN  "
      ]
     },
     "execution_count": 10,
     "metadata": {},
     "output_type": "execute_result"
    }
   ],
   "source": [
    "df_hourly.head()"
   ]
  },
  {
   "cell_type": "code",
   "execution_count": null,
   "metadata": {},
   "outputs": [],
   "source": []
  }
 ],
 "metadata": {
  "interpreter": {
   "hash": "c1b4cfe941b6d2466ad1fb5979e97da9cda8801728c8091b097ab734208fc00c"
  },
  "kernelspec": {
   "display_name": "Python 3.8.3 64-bit ('base': conda)",
   "name": "python3"
  },
  "language_info": {
   "codemirror_mode": {
    "name": "ipython",
    "version": 3
   },
   "file_extension": ".py",
   "mimetype": "text/x-python",
   "name": "python",
   "nbconvert_exporter": "python",
   "pygments_lexer": "ipython3",
   "version": "3.8.11"
  }
 },
 "nbformat": 4,
 "nbformat_minor": 2
}
