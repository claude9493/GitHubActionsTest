{
 "cells": [
  {
   "cell_type": "code",
   "execution_count": 1,
   "metadata": {
    "execution": {
     "iopub.execute_input": "2021-09-03T19:12:37.808289Z",
     "iopub.status.busy": "2021-09-03T19:12:37.807589Z",
     "iopub.status.idle": "2021-09-03T19:12:41.158610Z",
     "shell.execute_reply": "2021-09-03T19:12:41.157588Z"
    }
   },
   "outputs": [],
   "source": [
    "import json, yaml, requests\r\n",
    "from datetime import datetime\r\n",
    "from dateutil import tz\r\n",
    "import pandas as pd\r\n",
    "from PIL import Image\r\n",
    "from io import BytesIO\r\n",
    "import matplotlib.pyplot as plt\r\n",
    "import seaborn\r\n",
    "\r\n",
    "CONFIG_PATH = \"../config/config.yaml\""
   ]
  },
  {
   "cell_type": "code",
   "execution_count": 2,
   "metadata": {
    "execution": {
     "iopub.execute_input": "2021-09-03T19:12:41.162063Z",
     "iopub.status.busy": "2021-09-03T19:12:41.161413Z",
     "iopub.status.idle": "2021-09-03T19:12:41.169517Z",
     "shell.execute_reply": "2021-09-03T19:12:41.170020Z"
    }
   },
   "outputs": [],
   "source": [
    "with open('../newest_ts', 'r') as f:\r\n",
    "    newest_ts = f.read()\r\n",
    "\r\n",
    "data_path = f\"../data/data_{newest_ts}.json\"\r\n",
    "with open(data_path, 'r') as f:\r\n",
    "    data = json.load(f)\r\n",
    "\r\n",
    "with open(CONFIG_PATH, \"r\") as stream:\r\n",
    "    config = yaml.safe_load(stream)\r\n",
    "\r\n",
    "TIME_ZONE = config['time_zone']\r\n",
    "DATETIME_FORMAT = config['dt_format']"
   ]
  },
  {
   "cell_type": "code",
   "execution_count": 3,
   "metadata": {
    "execution": {
     "iopub.execute_input": "2021-09-03T19:12:41.175871Z",
     "iopub.status.busy": "2021-09-03T19:12:41.175315Z",
     "iopub.status.idle": "2021-09-03T19:12:41.207646Z",
     "shell.execute_reply": "2021-09-03T19:12:41.207117Z"
    }
   },
   "outputs": [
    {
     "name": "stdout",
     "output_type": "stream",
     "text": [
      "Recent query happens at 2021-09-04 03:12:34 (CST).\n"
     ]
    }
   ],
   "source": [
    "def ts2dt(ts, format=DATETIME_FORMAT):\r\n",
    "    dt = (datetime.utcfromtimestamp(int(ts))\r\n",
    "                    .replace(tzinfo=tz.tzutc())\r\n",
    "                    # .astimezone(tz.tzlocal())\r\n",
    "                    .astimezone(tz.gettz(TIME_ZONE)))\r\n",
    "    return dt.strftime(format), dt\r\n",
    "\r\n",
    "_, newest_dt = ts2dt(newest_ts)\r\n",
    "print(f\"Recent query happens at {newest_dt.strftime(DATETIME_FORMAT)} ({newest_dt.tzname()}).\")"
   ]
  },
  {
   "cell_type": "code",
   "execution_count": 4,
   "metadata": {
    "execution": {
     "iopub.execute_input": "2021-09-03T19:12:41.214591Z",
     "iopub.status.busy": "2021-09-03T19:12:41.213116Z",
     "iopub.status.idle": "2021-09-03T19:12:41.215336Z",
     "shell.execute_reply": "2021-09-03T19:12:41.215840Z"
    }
   },
   "outputs": [],
   "source": [
    "def degrees_to_cardinal(d):\r\n",
    "  dirs = ['N', 'NNE', 'NE', 'ENE', 'E', 'ESE', 'SE', 'SSE', 'S', 'SSW', 'SW', 'WSW', 'W', 'WNW', 'NW', 'NNW']\r\n",
    "  ix = int(round(d / (360. / len(dirs))))\r\n",
    "  return dirs[ix % len(dirs)]"
   ]
  },
  {
   "cell_type": "code",
   "execution_count": 5,
   "metadata": {
    "execution": {
     "iopub.execute_input": "2021-09-03T19:12:41.221232Z",
     "iopub.status.busy": "2021-09-03T19:12:41.219710Z",
     "iopub.status.idle": "2021-09-03T19:12:41.221886Z",
     "shell.execute_reply": "2021-09-03T19:12:41.222394Z"
    }
   },
   "outputs": [],
   "source": [
    "# data.keys()"
   ]
  },
  {
   "cell_type": "code",
   "execution_count": 6,
   "metadata": {
    "execution": {
     "iopub.execute_input": "2021-09-03T19:12:41.226142Z",
     "iopub.status.busy": "2021-09-03T19:12:41.225546Z",
     "iopub.status.idle": "2021-09-03T19:12:41.227739Z",
     "shell.execute_reply": "2021-09-03T19:12:41.228204Z"
    }
   },
   "outputs": [],
   "source": [
    "# data['current']"
   ]
  },
  {
   "cell_type": "code",
   "execution_count": 7,
   "metadata": {
    "execution": {
     "iopub.execute_input": "2021-09-03T19:12:41.252557Z",
     "iopub.status.busy": "2021-09-03T19:12:41.251915Z",
     "iopub.status.idle": "2021-09-03T19:12:41.693400Z",
     "shell.execute_reply": "2021-09-03T19:12:41.693951Z"
    }
   },
   "outputs": [
    {
     "data": {
      "image/png": "[encoded data removed]",
      "text/plain": [
       "<Figure size 216x216 with 1 Axes>"
      ]
     },
     "metadata": {
      "needs_background": "light"
     },
     "output_type": "display_data"
    },
    {
     "name": "stdout",
     "output_type": "stream",
     "text": [
      "Today, sun rises at 06:06 and sets at 18:37.\n",
      "Currently, the weather is Clear (clear sky).\n",
      "The temperature is 29.15°C and it feels like 35.62°C.\n",
      "The UV index is 0, humidity is 82%.\n",
      "The pressure is 1007 hPa, percentage of cloud cover is 0%\n",
      "The wind comes from SE direction with a speed 2.3 m/s.\n"
     ]
    }
   ],
   "source": [
    "current = data['current']\r\n",
    "\r\n",
    "fig, ax = plt.subplots(figsize=(3, 3))\r\n",
    "icon = requests.get(f\"http://openweathermap.org/img/wn/{current['weather'][0]['icon']}@2x.png\")\r\n",
    "im = Image.open(BytesIO(icon.content))\r\n",
    "plt.imshow(im)\r\n",
    "ax.set_axis_off()\r\n",
    "plt.show()\r\n",
    "\r\n",
    "print(f\"Today, sun rises at {ts2dt(current['sunrise'], '%H:%M')[0]} \\\r\n",
    "and sets at {ts2dt(current['sunset'], '%H:%M')[0]}.\\n\\\r\n",
    "Currently, the weather is {current['weather'][0]['main']} ({current['weather'][0]['description']}).\\n\\\r\n",
    "The temperature is {current['temp']}°C and it feels like {current['feels_like']}°C.\\n\\\r\n",
    "The UV index is {current['uvi']}, humidity is {current['humidity']}%.\\n\\\r\n",
    "The pressure is {current['pressure']} hPa, percentage of cloud cover is {current['clouds']}%\\n\\\r\n",
    "The wind comes from {degrees_to_cardinal(current['wind_deg'])} direction with a speed {current['wind_speed']} m/s.\")"
   ]
  },
  {
   "cell_type": "code",
   "execution_count": 8,
   "metadata": {
    "execution": {
     "iopub.execute_input": "2021-09-03T19:12:41.703210Z",
     "iopub.status.busy": "2021-09-03T19:12:41.700486Z",
     "iopub.status.idle": "2021-09-03T19:12:41.706695Z",
     "shell.execute_reply": "2021-09-03T19:12:41.707518Z"
    }
   },
   "outputs": [],
   "source": [
    "df_hourly = pd.DataFrame(data['hourly'])\r\n",
    "df_daily = pd.DataFrame(data['daily'])"
   ]
  },
  {
   "cell_type": "code",
   "execution_count": 9,
   "metadata": {
    "execution": {
     "iopub.execute_input": "2021-09-03T19:12:41.725337Z",
     "iopub.status.busy": "2021-09-03T19:12:41.720806Z",
     "iopub.status.idle": "2021-09-03T19:12:42.050098Z",
     "shell.execute_reply": "2021-09-03T19:12:42.049549Z"
    }
   },
   "outputs": [
    {
     "data": {
      "image/png": "[encoded data removed]",
      "text/plain": [
       "<Figure size 864x432 with 1 Axes>"
      ]
     },
     "metadata": {
      "needs_background": "light"
     },
     "output_type": "display_data"
    }
   ],
   "source": [
    "fig, ax = plt.subplots(figsize=(12, 6))\r\n",
    "plt.plot(df_hourly.temp, '.-', label='Temperature')\r\n",
    "plt.plot(df_hourly.feels_like, '.-', label='Feels Like')\r\n",
    "ax.set(title='Temperature in future 48 hours', xlabel='Time', ylabel='Temperature')\r\n",
    "ax.set_xticks(list(range(0, len(df_hourly), 2)))\r\n",
    "ax.set_xticklabels([ts2dt(ts, '%m-%d %H:%M')[0] for i, ts in enumerate(df_hourly.dt) if i%2==0], \r\n",
    "                   rotation=45, ha=\"right\")\r\n",
    "ax.locator_params(nbins=15, axis='y')\r\n",
    "plt.legend()\r\n",
    "plt.show()"
   ]
  },
  {
   "cell_type": "code",
   "execution_count": 10,
   "metadata": {
    "execution": {
     "iopub.execute_input": "2021-09-03T19:12:42.055193Z",
     "iopub.status.busy": "2021-09-03T19:12:42.054541Z",
     "iopub.status.idle": "2021-09-03T19:12:42.077130Z",
     "shell.execute_reply": "2021-09-03T19:12:42.077788Z"
    }
   },
   "outputs": [
    {
     "data": {
      "text/html": [
       "<div>\n",
       "<style scoped>\n",
       "    .dataframe tbody tr th:only-of-type {\n",
       "        vertical-align: middle;\n",
       "    }\n",
       "\n",
       "    .dataframe tbody tr th {\n",
       "        vertical-align: top;\n",
       "    }\n",
       "\n",
       "    .dataframe thead th {\n",
       "        text-align: right;\n",
       "    }\n",
       "</style>\n",
       "<table border=\"1\" class=\"dataframe\">\n",
       "  <thead>\n",
       "    <tr style=\"text-align: right;\">\n",
       "      <th></th>\n",
       "      <th>dt</th>\n",
       "      <th>temp</th>\n",
       "      <th>feels_like</th>\n",
       "      <th>pressure</th>\n",
       "      <th>humidity</th>\n",
       "      <th>dew_point</th>\n",
       "      <th>uvi</th>\n",
       "      <th>clouds</th>\n",
       "      <th>visibility</th>\n",
       "      <th>wind_speed</th>\n",
       "      <th>wind_deg</th>\n",
       "      <th>wind_gust</th>\n",
       "      <th>weather</th>\n",
       "      <th>pop</th>\n",
       "      <th>rain</th>\n",
       "    </tr>\n",
       "  </thead>\n",
       "  <tbody>\n",
       "    <tr>\n",
       "      <th>0</th>\n",
       "      <td>1630695600</td>\n",
       "      <td>29.15</td>\n",
       "      <td>35.62</td>\n",
       "      <td>1007</td>\n",
       "      <td>82</td>\n",
       "      <td>25.76</td>\n",
       "      <td>0.00</td>\n",
       "      <td>0</td>\n",
       "      <td>10000</td>\n",
       "      <td>2.30</td>\n",
       "      <td>146</td>\n",
       "      <td>3.07</td>\n",
       "      <td>[{'id': 800, 'main': 'Clear', 'description': '...</td>\n",
       "      <td>0.40</td>\n",
       "      <td>NaN</td>\n",
       "    </tr>\n",
       "    <tr>\n",
       "      <th>1</th>\n",
       "      <td>1630699200</td>\n",
       "      <td>28.88</td>\n",
       "      <td>34.62</td>\n",
       "      <td>1007</td>\n",
       "      <td>81</td>\n",
       "      <td>25.29</td>\n",
       "      <td>0.00</td>\n",
       "      <td>1</td>\n",
       "      <td>10000</td>\n",
       "      <td>1.97</td>\n",
       "      <td>150</td>\n",
       "      <td>2.39</td>\n",
       "      <td>[{'id': 800, 'main': 'Clear', 'description': '...</td>\n",
       "      <td>0.37</td>\n",
       "      <td>NaN</td>\n",
       "    </tr>\n",
       "    <tr>\n",
       "      <th>2</th>\n",
       "      <td>1630702800</td>\n",
       "      <td>28.53</td>\n",
       "      <td>33.84</td>\n",
       "      <td>1007</td>\n",
       "      <td>82</td>\n",
       "      <td>25.15</td>\n",
       "      <td>0.00</td>\n",
       "      <td>2</td>\n",
       "      <td>10000</td>\n",
       "      <td>1.80</td>\n",
       "      <td>157</td>\n",
       "      <td>2.15</td>\n",
       "      <td>[{'id': 800, 'main': 'Clear', 'description': '...</td>\n",
       "      <td>0.46</td>\n",
       "      <td>NaN</td>\n",
       "    </tr>\n",
       "    <tr>\n",
       "      <th>3</th>\n",
       "      <td>1630706400</td>\n",
       "      <td>28.08</td>\n",
       "      <td>32.79</td>\n",
       "      <td>1007</td>\n",
       "      <td>83</td>\n",
       "      <td>24.92</td>\n",
       "      <td>0.00</td>\n",
       "      <td>2</td>\n",
       "      <td>10000</td>\n",
       "      <td>1.46</td>\n",
       "      <td>162</td>\n",
       "      <td>1.74</td>\n",
       "      <td>[{'id': 500, 'main': 'Rain', 'description': 'l...</td>\n",
       "      <td>0.70</td>\n",
       "      <td>{'1h': 0.45}</td>\n",
       "    </tr>\n",
       "    <tr>\n",
       "      <th>4</th>\n",
       "      <td>1630710000</td>\n",
       "      <td>27.69</td>\n",
       "      <td>31.61</td>\n",
       "      <td>1008</td>\n",
       "      <td>82</td>\n",
       "      <td>24.34</td>\n",
       "      <td>0.31</td>\n",
       "      <td>2</td>\n",
       "      <td>10000</td>\n",
       "      <td>1.47</td>\n",
       "      <td>145</td>\n",
       "      <td>1.79</td>\n",
       "      <td>[{'id': 501, 'main': 'Rain', 'description': 'm...</td>\n",
       "      <td>0.94</td>\n",
       "      <td>{'1h': 1.02}</td>\n",
       "    </tr>\n",
       "  </tbody>\n",
       "</table>\n",
       "</div>"
      ],
      "text/plain": [
       "           dt   temp  feels_like  pressure  humidity  dew_point   uvi  clouds  \\\n",
       "0  1630695600  29.15       35.62      1007        82      25.76  0.00       0   \n",
       "1  1630699200  28.88       34.62      1007        81      25.29  0.00       1   \n",
       "2  1630702800  28.53       33.84      1007        82      25.15  0.00       2   \n",
       "3  1630706400  28.08       32.79      1007        83      24.92  0.00       2   \n",
       "4  1630710000  27.69       31.61      1008        82      24.34  0.31       2   \n",
       "\n",
       "   visibility  wind_speed  wind_deg  wind_gust  \\\n",
       "0       10000        2.30       146       3.07   \n",
       "1       10000        1.97       150       2.39   \n",
       "2       10000        1.80       157       2.15   \n",
       "3       10000        1.46       162       1.74   \n",
       "4       10000        1.47       145       1.79   \n",
       "\n",
       "                                             weather   pop          rain  \n",
       "0  [{'id': 800, 'main': 'Clear', 'description': '...  0.40           NaN  \n",
       "1  [{'id': 800, 'main': 'Clear', 'description': '...  0.37           NaN  \n",
       "2  [{'id': 800, 'main': 'Clear', 'description': '...  0.46           NaN  \n",
       "3  [{'id': 500, 'main': 'Rain', 'description': 'l...  0.70  {'1h': 0.45}  \n",
       "4  [{'id': 501, 'main': 'Rain', 'description': 'm...  0.94  {'1h': 1.02}  "
      ]
     },
     "execution_count": 10,
     "metadata": {},
     "output_type": "execute_result"
    }
   ],
   "source": [
    "df_hourly.head()"
   ]
  },
  {
   "cell_type": "code",
   "execution_count": null,
   "metadata": {},
   "outputs": [],
   "source": []
  }
 ],
 "metadata": {
  "interpreter": {
   "hash": "c1b4cfe941b6d2466ad1fb5979e97da9cda8801728c8091b097ab734208fc00c"
  },
  "kernelspec": {
   "display_name": "Python 3.8.3 64-bit ('base': conda)",
   "name": "python3"
  },
  "language_info": {
   "codemirror_mode": {
    "name": "ipython",
    "version": 3
   },
   "file_extension": ".py",
   "mimetype": "text/x-python",
   "name": "python",
   "nbconvert_exporter": "python",
   "pygments_lexer": "ipython3",
   "version": "3.8.11"
  }
 },
 "nbformat": 4,
 "nbformat_minor": 2
}
