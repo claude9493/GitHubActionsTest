{
 "cells": [
  {
   "cell_type": "code",
   "execution_count": 1,
   "metadata": {
    "execution": {
     "iopub.execute_input": "2021-10-10T01:56:35.935868Z",
     "iopub.status.busy": "2021-10-10T01:56:35.934993Z",
     "iopub.status.idle": "2021-10-10T01:56:37.517693Z",
     "shell.execute_reply": "2021-10-10T01:56:37.518145Z"
    }
   },
   "outputs": [],
   "source": [
    "import json, yaml, requests\r\n",
    "from datetime import datetime\r\n",
    "from dateutil import tz\r\n",
    "import pandas as pd\r\n",
    "from PIL import Image\r\n",
    "from io import BytesIO\r\n",
    "import matplotlib.pyplot as plt\r\n",
    "import seaborn\r\n",
    "\r\n",
    "CONFIG_PATH = \"../config/config.yaml\""
   ]
  },
  {
   "cell_type": "code",
   "execution_count": 2,
   "metadata": {
    "execution": {
     "iopub.execute_input": "2021-10-10T01:56:37.528262Z",
     "iopub.status.busy": "2021-10-10T01:56:37.524508Z",
     "iopub.status.idle": "2021-10-10T01:56:37.531601Z",
     "shell.execute_reply": "2021-10-10T01:56:37.531077Z"
    }
   },
   "outputs": [],
   "source": [
    "with open('../newest_ts', 'r') as f:\r\n",
    "    newest_ts = f.read()\r\n",
    "\r\n",
    "data_path = f\"../data/data_{newest_ts}.json\"\r\n",
    "with open(data_path, 'r') as f:\r\n",
    "    data = json.load(f)\r\n",
    "\r\n",
    "with open(CONFIG_PATH, \"r\") as stream:\r\n",
    "    config = yaml.safe_load(stream)\r\n",
    "\r\n",
    "TIME_ZONE = config['time_zone']\r\n",
    "DATETIME_FORMAT = config['dt_format']"
   ]
  },
  {
   "cell_type": "code",
   "execution_count": 3,
   "metadata": {
    "execution": {
     "iopub.execute_input": "2021-10-10T01:56:37.536760Z",
     "iopub.status.busy": "2021-10-10T01:56:37.536014Z",
     "iopub.status.idle": "2021-10-10T01:56:37.546700Z",
     "shell.execute_reply": "2021-10-10T01:56:37.547166Z"
    }
   },
   "outputs": [
    {
     "name": "stdout",
     "output_type": "stream",
     "text": [
      "Recent query happens at 2021-10-10 09:56:32 (CST).\n"
     ]
    }
   ],
   "source": [
    "def ts2dt(ts, format=DATETIME_FORMAT):\r\n",
    "    dt = (datetime.utcfromtimestamp(int(ts))\r\n",
    "                    .replace(tzinfo=tz.tzutc())\r\n",
    "                    # .astimezone(tz.tzlocal())\r\n",
    "                    .astimezone(tz.gettz(TIME_ZONE)))\r\n",
    "    return dt.strftime(format), dt\r\n",
    "\r\n",
    "_, newest_dt = ts2dt(newest_ts)\r\n",
    "print(f\"Recent query happens at {newest_dt.strftime(DATETIME_FORMAT)} ({newest_dt.tzname()}).\")"
   ]
  },
  {
   "cell_type": "code",
   "execution_count": 4,
   "metadata": {
    "execution": {
     "iopub.execute_input": "2021-10-10T01:56:37.553120Z",
     "iopub.status.busy": "2021-10-10T01:56:37.551527Z",
     "iopub.status.idle": "2021-10-10T01:56:37.553715Z",
     "shell.execute_reply": "2021-10-10T01:56:37.554151Z"
    }
   },
   "outputs": [],
   "source": [
    "def degrees_to_cardinal(d):\r\n",
    "  dirs = ['N', 'NNE', 'NE', 'ENE', 'E', 'ESE', 'SE', 'SSE', 'S', 'SSW', 'SW', 'WSW', 'W', 'WNW', 'NW', 'NNW']\r\n",
    "  ix = int(round(d / (360. / len(dirs))))\r\n",
    "  return dirs[ix % len(dirs)]"
   ]
  },
  {
   "cell_type": "code",
   "execution_count": 5,
   "metadata": {
    "execution": {
     "iopub.execute_input": "2021-10-10T01:56:37.558523Z",
     "iopub.status.busy": "2021-10-10T01:56:37.557810Z",
     "iopub.status.idle": "2021-10-10T01:56:37.560333Z",
     "shell.execute_reply": "2021-10-10T01:56:37.559854Z"
    }
   },
   "outputs": [],
   "source": [
    "# data.keys()"
   ]
  },
  {
   "cell_type": "code",
   "execution_count": 6,
   "metadata": {
    "execution": {
     "iopub.execute_input": "2021-10-10T01:56:37.563836Z",
     "iopub.status.busy": "2021-10-10T01:56:37.563288Z",
     "iopub.status.idle": "2021-10-10T01:56:37.565410Z",
     "shell.execute_reply": "2021-10-10T01:56:37.565828Z"
    }
   },
   "outputs": [],
   "source": [
    "# data['current']"
   ]
  },
  {
   "cell_type": "code",
   "execution_count": 7,
   "metadata": {
    "execution": {
     "iopub.execute_input": "2021-10-10T01:56:37.597820Z",
     "iopub.status.busy": "2021-10-10T01:56:37.591086Z",
     "iopub.status.idle": "2021-10-10T01:56:37.987915Z",
     "shell.execute_reply": "2021-10-10T01:56:37.988879Z"
    }
   },
   "outputs": [
    {
     "data": {
      "image/png": "[encoded data removed]",
      "text/plain": [
       "<Figure size 216x216 with 1 Axes>"
      ]
     },
     "metadata": {
      "needs_background": "light"
     },
     "output_type": "display_data"
    },
    {
     "name": "stdout",
     "output_type": "stream",
     "text": [
      "Today, sun rises at 06:17 and sets at 18:02.\n",
      "Currently, the weather is Clouds (overcast clouds).\n",
      "The temperature is 26.87°C and it feels like 29.81°C.\n",
      "The UV index is 0.44, humidity is 84%.\n",
      "The pressure is 1010 hPa, percentage of cloud cover is 100%\n",
      "The wind comes from W direction with a speed 0.45 m/s.\n"
     ]
    }
   ],
   "source": [
    "current = data['current']\r\n",
    "\r\n",
    "fig, ax = plt.subplots(figsize=(3, 3))\r\n",
    "icon = requests.get(f\"http://openweathermap.org/img/wn/{current['weather'][0]['icon']}@2x.png\")\r\n",
    "im = Image.open(BytesIO(icon.content))\r\n",
    "plt.imshow(im)\r\n",
    "ax.set_axis_off()\r\n",
    "plt.show()\r\n",
    "\r\n",
    "print(f\"Today, sun rises at {ts2dt(current['sunrise'], '%H:%M')[0]} \\\r\n",
    "and sets at {ts2dt(current['sunset'], '%H:%M')[0]}.\\n\\\r\n",
    "Currently, the weather is {current['weather'][0]['main']} ({current['weather'][0]['description']}).\\n\\\r\n",
    "The temperature is {current['temp']}°C and it feels like {current['feels_like']}°C.\\n\\\r\n",
    "The UV index is {current['uvi']}, humidity is {current['humidity']}%.\\n\\\r\n",
    "The pressure is {current['pressure']} hPa, percentage of cloud cover is {current['clouds']}%\\n\\\r\n",
    "The wind comes from {degrees_to_cardinal(current['wind_deg'])} direction with a speed {current['wind_speed']} m/s.\")"
   ]
  },
  {
   "cell_type": "code",
   "execution_count": 8,
   "metadata": {
    "execution": {
     "iopub.execute_input": "2021-10-10T01:56:37.992858Z",
     "iopub.status.busy": "2021-10-10T01:56:37.991771Z",
     "iopub.status.idle": "2021-10-10T01:56:38.000093Z",
     "shell.execute_reply": "2021-10-10T01:56:38.000842Z"
    }
   },
   "outputs": [],
   "source": [
    "df_hourly = pd.DataFrame(data['hourly'])\r\n",
    "df_daily = pd.DataFrame(data['daily'])"
   ]
  },
  {
   "cell_type": "code",
   "execution_count": 9,
   "metadata": {
    "execution": {
     "iopub.execute_input": "2021-10-10T01:56:38.004877Z",
     "iopub.status.busy": "2021-10-10T01:56:38.003759Z",
     "iopub.status.idle": "2021-10-10T01:56:38.362403Z",
     "shell.execute_reply": "2021-10-10T01:56:38.361626Z"
    }
   },
   "outputs": [
    {
     "data": {
      "image/png": "[encoded data removed]",
      "text/plain": [
       "<Figure size 864x432 with 1 Axes>"
      ]
     },
     "metadata": {
      "needs_background": "light"
     },
     "output_type": "display_data"
    }
   ],
   "source": [
    "fig, ax = plt.subplots(figsize=(12, 6))\r\n",
    "plt.plot(df_hourly.temp, '.-', label='Temperature')\r\n",
    "plt.plot(df_hourly.feels_like, '.-', label='Feels Like')\r\n",
    "ax.set(title='Temperature in future 48 hours', xlabel='Time', ylabel='Temperature')\r\n",
    "ax.set_xticks(list(range(0, len(df_hourly), 2)))\r\n",
    "ax.set_xticklabels([ts2dt(ts, '%m-%d %H:%M')[0] for i, ts in enumerate(df_hourly.dt) if i%2==0], \r\n",
    "                   rotation=45, ha=\"right\")\r\n",
    "ax.locator_params(nbins=15, axis='y')\r\n",
    "plt.legend()\r\n",
    "plt.show()"
   ]
  },
  {
   "cell_type": "code",
   "execution_count": 10,
   "metadata": {
    "execution": {
     "iopub.execute_input": "2021-10-10T01:56:38.373630Z",
     "iopub.status.busy": "2021-10-10T01:56:38.367299Z",
     "iopub.status.idle": "2021-10-10T01:56:38.391558Z",
     "shell.execute_reply": "2021-10-10T01:56:38.391132Z"
    }
   },
   "outputs": [
    {
     "data": {
      "text/html": [
       "<div>\n",
       "<style scoped>\n",
       "    .dataframe tbody tr th:only-of-type {\n",
       "        vertical-align: middle;\n",
       "    }\n",
       "\n",
       "    .dataframe tbody tr th {\n",
       "        vertical-align: top;\n",
       "    }\n",
       "\n",
       "    .dataframe thead th {\n",
       "        text-align: right;\n",
       "    }\n",
       "</style>\n",
       "<table border=\"1\" class=\"dataframe\">\n",
       "  <thead>\n",
       "    <tr style=\"text-align: right;\">\n",
       "      <th></th>\n",
       "      <th>dt</th>\n",
       "      <th>temp</th>\n",
       "      <th>feels_like</th>\n",
       "      <th>pressure</th>\n",
       "      <th>humidity</th>\n",
       "      <th>dew_point</th>\n",
       "      <th>uvi</th>\n",
       "      <th>clouds</th>\n",
       "      <th>visibility</th>\n",
       "      <th>wind_speed</th>\n",
       "      <th>wind_deg</th>\n",
       "      <th>wind_gust</th>\n",
       "      <th>weather</th>\n",
       "      <th>pop</th>\n",
       "      <th>rain</th>\n",
       "    </tr>\n",
       "  </thead>\n",
       "  <tbody>\n",
       "    <tr>\n",
       "      <th>0</th>\n",
       "      <td>1633827600</td>\n",
       "      <td>26.73</td>\n",
       "      <td>29.55</td>\n",
       "      <td>1010</td>\n",
       "      <td>85</td>\n",
       "      <td>24.00</td>\n",
       "      <td>0.22</td>\n",
       "      <td>100</td>\n",
       "      <td>10000</td>\n",
       "      <td>9.28</td>\n",
       "      <td>88</td>\n",
       "      <td>12.80</td>\n",
       "      <td>[{'id': 501, 'main': 'Rain', 'description': 'm...</td>\n",
       "      <td>0.69</td>\n",
       "      <td>{'1h': 1.08}</td>\n",
       "    </tr>\n",
       "    <tr>\n",
       "      <th>1</th>\n",
       "      <td>1633831200</td>\n",
       "      <td>26.87</td>\n",
       "      <td>29.81</td>\n",
       "      <td>1010</td>\n",
       "      <td>84</td>\n",
       "      <td>23.94</td>\n",
       "      <td>0.44</td>\n",
       "      <td>100</td>\n",
       "      <td>10000</td>\n",
       "      <td>9.16</td>\n",
       "      <td>86</td>\n",
       "      <td>12.54</td>\n",
       "      <td>[{'id': 804, 'main': 'Clouds', 'description': ...</td>\n",
       "      <td>0.69</td>\n",
       "      <td>NaN</td>\n",
       "    </tr>\n",
       "    <tr>\n",
       "      <th>2</th>\n",
       "      <td>1633834800</td>\n",
       "      <td>26.82</td>\n",
       "      <td>29.60</td>\n",
       "      <td>1010</td>\n",
       "      <td>83</td>\n",
       "      <td>23.69</td>\n",
       "      <td>0.65</td>\n",
       "      <td>100</td>\n",
       "      <td>10000</td>\n",
       "      <td>8.59</td>\n",
       "      <td>82</td>\n",
       "      <td>12.16</td>\n",
       "      <td>[{'id': 804, 'main': 'Clouds', 'description': ...</td>\n",
       "      <td>0.69</td>\n",
       "      <td>NaN</td>\n",
       "    </tr>\n",
       "    <tr>\n",
       "      <th>3</th>\n",
       "      <td>1633838400</td>\n",
       "      <td>26.87</td>\n",
       "      <td>29.63</td>\n",
       "      <td>1010</td>\n",
       "      <td>82</td>\n",
       "      <td>23.54</td>\n",
       "      <td>1.33</td>\n",
       "      <td>100</td>\n",
       "      <td>10000</td>\n",
       "      <td>8.08</td>\n",
       "      <td>84</td>\n",
       "      <td>11.89</td>\n",
       "      <td>[{'id': 804, 'main': 'Clouds', 'description': ...</td>\n",
       "      <td>0.69</td>\n",
       "      <td>NaN</td>\n",
       "    </tr>\n",
       "    <tr>\n",
       "      <th>4</th>\n",
       "      <td>1633842000</td>\n",
       "      <td>27.25</td>\n",
       "      <td>30.30</td>\n",
       "      <td>1009</td>\n",
       "      <td>80</td>\n",
       "      <td>23.50</td>\n",
       "      <td>1.30</td>\n",
       "      <td>100</td>\n",
       "      <td>10000</td>\n",
       "      <td>8.28</td>\n",
       "      <td>88</td>\n",
       "      <td>11.38</td>\n",
       "      <td>[{'id': 500, 'main': 'Rain', 'description': 'l...</td>\n",
       "      <td>0.65</td>\n",
       "      <td>{'1h': 0.17}</td>\n",
       "    </tr>\n",
       "  </tbody>\n",
       "</table>\n",
       "</div>"
      ],
      "text/plain": [
       "           dt   temp  feels_like  pressure  humidity  dew_point   uvi  clouds  \\\n",
       "0  1633827600  26.73       29.55      1010        85      24.00  0.22     100   \n",
       "1  1633831200  26.87       29.81      1010        84      23.94  0.44     100   \n",
       "2  1633834800  26.82       29.60      1010        83      23.69  0.65     100   \n",
       "3  1633838400  26.87       29.63      1010        82      23.54  1.33     100   \n",
       "4  1633842000  27.25       30.30      1009        80      23.50  1.30     100   \n",
       "\n",
       "   visibility  wind_speed  wind_deg  wind_gust  \\\n",
       "0       10000        9.28        88      12.80   \n",
       "1       10000        9.16        86      12.54   \n",
       "2       10000        8.59        82      12.16   \n",
       "3       10000        8.08        84      11.89   \n",
       "4       10000        8.28        88      11.38   \n",
       "\n",
       "                                             weather   pop          rain  \n",
       "0  [{'id': 501, 'main': 'Rain', 'description': 'm...  0.69  {'1h': 1.08}  \n",
       "1  [{'id': 804, 'main': 'Clouds', 'description': ...  0.69           NaN  \n",
       "2  [{'id': 804, 'main': 'Clouds', 'description': ...  0.69           NaN  \n",
       "3  [{'id': 804, 'main': 'Clouds', 'description': ...  0.69           NaN  \n",
       "4  [{'id': 500, 'main': 'Rain', 'description': 'l...  0.65  {'1h': 0.17}  "
      ]
     },
     "execution_count": 10,
     "metadata": {},
     "output_type": "execute_result"
    }
   ],
   "source": [
    "df_hourly.head()"
   ]
  },
  {
   "cell_type": "code",
   "execution_count": null,
   "metadata": {},
   "outputs": [],
   "source": []
  }
 ],
 "metadata": {
  "interpreter": {
   "hash": "c1b4cfe941b6d2466ad1fb5979e97da9cda8801728c8091b097ab734208fc00c"
  },
  "kernelspec": {
   "display_name": "Python 3.8.3 64-bit ('base': conda)",
   "name": "python3"
  },
  "language_info": {
   "codemirror_mode": {
    "name": "ipython",
    "version": 3
   },
   "file_extension": ".py",
   "mimetype": "text/x-python",
   "name": "python",
   "nbconvert_exporter": "python",
   "pygments_lexer": "ipython3",
   "version": "3.8.12"
  }
 },
 "nbformat": 4,
 "nbformat_minor": 2
}
