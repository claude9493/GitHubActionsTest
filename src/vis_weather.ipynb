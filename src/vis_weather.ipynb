{
 "cells": [
  {
   "cell_type": "code",
   "execution_count": 1,
   "metadata": {
    "execution": {
     "iopub.execute_input": "2021-10-04T11:10:00.732279Z",
     "iopub.status.busy": "2021-10-04T11:10:00.731746Z",
     "iopub.status.idle": "2021-10-04T11:10:03.072891Z",
     "shell.execute_reply": "2021-10-04T11:10:03.073316Z"
    }
   },
   "outputs": [],
   "source": [
    "import json, yaml, requests\r\n",
    "from datetime import datetime\r\n",
    "from dateutil import tz\r\n",
    "import pandas as pd\r\n",
    "from PIL import Image\r\n",
    "from io import BytesIO\r\n",
    "import matplotlib.pyplot as plt\r\n",
    "import seaborn\r\n",
    "\r\n",
    "CONFIG_PATH = \"../config/config.yaml\""
   ]
  },
  {
   "cell_type": "code",
   "execution_count": 2,
   "metadata": {
    "execution": {
     "iopub.execute_input": "2021-10-04T11:10:03.081041Z",
     "iopub.status.busy": "2021-10-04T11:10:03.078032Z",
     "iopub.status.idle": "2021-10-04T11:10:03.083582Z",
     "shell.execute_reply": "2021-10-04T11:10:03.083162Z"
    }
   },
   "outputs": [],
   "source": [
    "with open('../newest_ts', 'r') as f:\r\n",
    "    newest_ts = f.read()\r\n",
    "\r\n",
    "data_path = f\"../data/data_{newest_ts}.json\"\r\n",
    "with open(data_path, 'r') as f:\r\n",
    "    data = json.load(f)\r\n",
    "\r\n",
    "with open(CONFIG_PATH, \"r\") as stream:\r\n",
    "    config = yaml.safe_load(stream)\r\n",
    "\r\n",
    "TIME_ZONE = config['time_zone']\r\n",
    "DATETIME_FORMAT = config['dt_format']"
   ]
  },
  {
   "cell_type": "code",
   "execution_count": 3,
   "metadata": {
    "execution": {
     "iopub.execute_input": "2021-10-04T11:10:03.088029Z",
     "iopub.status.busy": "2021-10-04T11:10:03.087562Z",
     "iopub.status.idle": "2021-10-04T11:10:03.099092Z",
     "shell.execute_reply": "2021-10-04T11:10:03.099472Z"
    }
   },
   "outputs": [
    {
     "name": "stdout",
     "output_type": "stream",
     "text": [
      "Recent query happens at 2021-10-04 19:09:57 (CST).\n"
     ]
    }
   ],
   "source": [
    "def ts2dt(ts, format=DATETIME_FORMAT):\r\n",
    "    dt = (datetime.utcfromtimestamp(int(ts))\r\n",
    "                    .replace(tzinfo=tz.tzutc())\r\n",
    "                    # .astimezone(tz.tzlocal())\r\n",
    "                    .astimezone(tz.gettz(TIME_ZONE)))\r\n",
    "    return dt.strftime(format), dt\r\n",
    "\r\n",
    "_, newest_dt = ts2dt(newest_ts)\r\n",
    "print(f\"Recent query happens at {newest_dt.strftime(DATETIME_FORMAT)} ({newest_dt.tzname()}).\")"
   ]
  },
  {
   "cell_type": "code",
   "execution_count": 4,
   "metadata": {
    "execution": {
     "iopub.execute_input": "2021-10-04T11:10:03.104666Z",
     "iopub.status.busy": "2021-10-04T11:10:03.103543Z",
     "iopub.status.idle": "2021-10-04T11:10:03.105188Z",
     "shell.execute_reply": "2021-10-04T11:10:03.105557Z"
    }
   },
   "outputs": [],
   "source": [
    "def degrees_to_cardinal(d):\r\n",
    "  dirs = ['N', 'NNE', 'NE', 'ENE', 'E', 'ESE', 'SE', 'SSE', 'S', 'SSW', 'SW', 'WSW', 'W', 'WNW', 'NW', 'NNW']\r\n",
    "  ix = int(round(d / (360. / len(dirs))))\r\n",
    "  return dirs[ix % len(dirs)]"
   ]
  },
  {
   "cell_type": "code",
   "execution_count": 5,
   "metadata": {
    "execution": {
     "iopub.execute_input": "2021-10-04T11:10:03.109420Z",
     "iopub.status.busy": "2021-10-04T11:10:03.108378Z",
     "iopub.status.idle": "2021-10-04T11:10:03.109934Z",
     "shell.execute_reply": "2021-10-04T11:10:03.110296Z"
    }
   },
   "outputs": [],
   "source": [
    "# data.keys()"
   ]
  },
  {
   "cell_type": "code",
   "execution_count": 6,
   "metadata": {
    "execution": {
     "iopub.execute_input": "2021-10-04T11:10:03.113987Z",
     "iopub.status.busy": "2021-10-04T11:10:03.112848Z",
     "iopub.status.idle": "2021-10-04T11:10:03.114503Z",
     "shell.execute_reply": "2021-10-04T11:10:03.114866Z"
    }
   },
   "outputs": [],
   "source": [
    "# data['current']"
   ]
  },
  {
   "cell_type": "code",
   "execution_count": 7,
   "metadata": {
    "execution": {
     "iopub.execute_input": "2021-10-04T11:10:03.131344Z",
     "iopub.status.busy": "2021-10-04T11:10:03.130847Z",
     "iopub.status.idle": "2021-10-04T11:10:05.481170Z",
     "shell.execute_reply": "2021-10-04T11:10:05.476877Z"
    }
   },
   "outputs": [
    {
     "data": {
      "image/png": "[encoded data removed]",
      "text/plain": [
       "<Figure size 216x216 with 1 Axes>"
      ]
     },
     "metadata": {
      "needs_background": "light"
     },
     "output_type": "display_data"
    },
    {
     "name": "stdout",
     "output_type": "stream",
     "text": [
      "Today, sun rises at 06:15 and sets at 18:08.\n",
      "Currently, the weather is Rain (light rain).\n",
      "The temperature is 29.68°C and it feels like 34.5°C.\n",
      "The UV index is 0, humidity is 71%.\n",
      "The pressure is 1010 hPa, percentage of cloud cover is 3%\n",
      "The wind comes from W direction with a speed 0.45 m/s.\n"
     ]
    }
   ],
   "source": [
    "current = data['current']\r\n",
    "\r\n",
    "fig, ax = plt.subplots(figsize=(3, 3))\r\n",
    "icon = requests.get(f\"http://openweathermap.org/img/wn/{current['weather'][0]['icon']}@2x.png\")\r\n",
    "im = Image.open(BytesIO(icon.content))\r\n",
    "plt.imshow(im)\r\n",
    "ax.set_axis_off()\r\n",
    "plt.show()\r\n",
    "\r\n",
    "print(f\"Today, sun rises at {ts2dt(current['sunrise'], '%H:%M')[0]} \\\r\n",
    "and sets at {ts2dt(current['sunset'], '%H:%M')[0]}.\\n\\\r\n",
    "Currently, the weather is {current['weather'][0]['main']} ({current['weather'][0]['description']}).\\n\\\r\n",
    "The temperature is {current['temp']}°C and it feels like {current['feels_like']}°C.\\n\\\r\n",
    "The UV index is {current['uvi']}, humidity is {current['humidity']}%.\\n\\\r\n",
    "The pressure is {current['pressure']} hPa, percentage of cloud cover is {current['clouds']}%\\n\\\r\n",
    "The wind comes from {degrees_to_cardinal(current['wind_deg'])} direction with a speed {current['wind_speed']} m/s.\")"
   ]
  },
  {
   "cell_type": "code",
   "execution_count": 8,
   "metadata": {
    "execution": {
     "iopub.execute_input": "2021-10-04T11:10:05.515184Z",
     "iopub.status.busy": "2021-10-04T11:10:05.502445Z",
     "iopub.status.idle": "2021-10-04T11:10:05.558920Z",
     "shell.execute_reply": "2021-10-04T11:10:05.569933Z"
    }
   },
   "outputs": [],
   "source": [
    "df_hourly = pd.DataFrame(data['hourly'])\r\n",
    "df_daily = pd.DataFrame(data['daily'])"
   ]
  },
  {
   "cell_type": "code",
   "execution_count": 9,
   "metadata": {
    "execution": {
     "iopub.execute_input": "2021-10-04T11:10:05.599607Z",
     "iopub.status.busy": "2021-10-04T11:10:05.588703Z",
     "iopub.status.idle": "2021-10-04T11:10:06.217994Z",
     "shell.execute_reply": "2021-10-04T11:10:06.216470Z"
    }
   },
   "outputs": [
    {
     "data": {
      "image/png": "[encoded data removed]",
      "text/plain": [
       "<Figure size 864x432 with 1 Axes>"
      ]
     },
     "metadata": {
      "needs_background": "light"
     },
     "output_type": "display_data"
    }
   ],
   "source": [
    "fig, ax = plt.subplots(figsize=(12, 6))\r\n",
    "plt.plot(df_hourly.temp, '.-', label='Temperature')\r\n",
    "plt.plot(df_hourly.feels_like, '.-', label='Feels Like')\r\n",
    "ax.set(title='Temperature in future 48 hours', xlabel='Time', ylabel='Temperature')\r\n",
    "ax.set_xticks(list(range(0, len(df_hourly), 2)))\r\n",
    "ax.set_xticklabels([ts2dt(ts, '%m-%d %H:%M')[0] for i, ts in enumerate(df_hourly.dt) if i%2==0], \r\n",
    "                   rotation=45, ha=\"right\")\r\n",
    "ax.locator_params(nbins=15, axis='y')\r\n",
    "plt.legend()\r\n",
    "plt.show()"
   ]
  },
  {
   "cell_type": "code",
   "execution_count": 10,
   "metadata": {
    "execution": {
     "iopub.execute_input": "2021-10-04T11:10:06.230176Z",
     "iopub.status.busy": "2021-10-04T11:10:06.228514Z",
     "iopub.status.idle": "2021-10-04T11:10:06.281846Z",
     "shell.execute_reply": "2021-10-04T11:10:06.283216Z"
    }
   },
   "outputs": [
    {
     "data": {
      "text/html": [
       "<div>\n",
       "<style scoped>\n",
       "    .dataframe tbody tr th:only-of-type {\n",
       "        vertical-align: middle;\n",
       "    }\n",
       "\n",
       "    .dataframe tbody tr th {\n",
       "        vertical-align: top;\n",
       "    }\n",
       "\n",
       "    .dataframe thead th {\n",
       "        text-align: right;\n",
       "    }\n",
       "</style>\n",
       "<table border=\"1\" class=\"dataframe\">\n",
       "  <thead>\n",
       "    <tr style=\"text-align: right;\">\n",
       "      <th></th>\n",
       "      <th>dt</th>\n",
       "      <th>temp</th>\n",
       "      <th>feels_like</th>\n",
       "      <th>pressure</th>\n",
       "      <th>humidity</th>\n",
       "      <th>dew_point</th>\n",
       "      <th>uvi</th>\n",
       "      <th>clouds</th>\n",
       "      <th>visibility</th>\n",
       "      <th>wind_speed</th>\n",
       "      <th>wind_deg</th>\n",
       "      <th>wind_gust</th>\n",
       "      <th>weather</th>\n",
       "      <th>pop</th>\n",
       "      <th>rain</th>\n",
       "    </tr>\n",
       "  </thead>\n",
       "  <tbody>\n",
       "    <tr>\n",
       "      <th>0</th>\n",
       "      <td>1633345200</td>\n",
       "      <td>29.68</td>\n",
       "      <td>34.50</td>\n",
       "      <td>1010</td>\n",
       "      <td>71</td>\n",
       "      <td>23.86</td>\n",
       "      <td>0.0</td>\n",
       "      <td>3</td>\n",
       "      <td>10000</td>\n",
       "      <td>5.95</td>\n",
       "      <td>92</td>\n",
       "      <td>8.24</td>\n",
       "      <td>[{'id': 800, 'main': 'Clear', 'description': '...</td>\n",
       "      <td>0.08</td>\n",
       "      <td>NaN</td>\n",
       "    </tr>\n",
       "    <tr>\n",
       "      <th>1</th>\n",
       "      <td>1633348800</td>\n",
       "      <td>29.34</td>\n",
       "      <td>33.90</td>\n",
       "      <td>1010</td>\n",
       "      <td>72</td>\n",
       "      <td>23.76</td>\n",
       "      <td>0.0</td>\n",
       "      <td>3</td>\n",
       "      <td>10000</td>\n",
       "      <td>5.82</td>\n",
       "      <td>93</td>\n",
       "      <td>8.46</td>\n",
       "      <td>[{'id': 500, 'main': 'Rain', 'description': 'l...</td>\n",
       "      <td>0.28</td>\n",
       "      <td>{'1h': 0.15}</td>\n",
       "    </tr>\n",
       "    <tr>\n",
       "      <th>2</th>\n",
       "      <td>1633352400</td>\n",
       "      <td>29.02</td>\n",
       "      <td>33.35</td>\n",
       "      <td>1011</td>\n",
       "      <td>73</td>\n",
       "      <td>23.69</td>\n",
       "      <td>0.0</td>\n",
       "      <td>3</td>\n",
       "      <td>10000</td>\n",
       "      <td>5.52</td>\n",
       "      <td>93</td>\n",
       "      <td>8.48</td>\n",
       "      <td>[{'id': 800, 'main': 'Clear', 'description': '...</td>\n",
       "      <td>0.15</td>\n",
       "      <td>NaN</td>\n",
       "    </tr>\n",
       "    <tr>\n",
       "      <th>3</th>\n",
       "      <td>1633356000</td>\n",
       "      <td>28.68</td>\n",
       "      <td>33.10</td>\n",
       "      <td>1012</td>\n",
       "      <td>76</td>\n",
       "      <td>24.03</td>\n",
       "      <td>0.0</td>\n",
       "      <td>2</td>\n",
       "      <td>10000</td>\n",
       "      <td>5.93</td>\n",
       "      <td>88</td>\n",
       "      <td>9.16</td>\n",
       "      <td>[{'id': 800, 'main': 'Clear', 'description': '...</td>\n",
       "      <td>0.16</td>\n",
       "      <td>NaN</td>\n",
       "    </tr>\n",
       "    <tr>\n",
       "      <th>4</th>\n",
       "      <td>1633359600</td>\n",
       "      <td>28.21</td>\n",
       "      <td>32.46</td>\n",
       "      <td>1012</td>\n",
       "      <td>79</td>\n",
       "      <td>24.22</td>\n",
       "      <td>0.0</td>\n",
       "      <td>3</td>\n",
       "      <td>10000</td>\n",
       "      <td>6.24</td>\n",
       "      <td>80</td>\n",
       "      <td>9.24</td>\n",
       "      <td>[{'id': 800, 'main': 'Clear', 'description': '...</td>\n",
       "      <td>0.20</td>\n",
       "      <td>NaN</td>\n",
       "    </tr>\n",
       "  </tbody>\n",
       "</table>\n",
       "</div>"
      ],
      "text/plain": [
       "           dt   temp  feels_like  pressure  humidity  dew_point  uvi  clouds  \\\n",
       "0  1633345200  29.68       34.50      1010        71      23.86  0.0       3   \n",
       "1  1633348800  29.34       33.90      1010        72      23.76  0.0       3   \n",
       "2  1633352400  29.02       33.35      1011        73      23.69  0.0       3   \n",
       "3  1633356000  28.68       33.10      1012        76      24.03  0.0       2   \n",
       "4  1633359600  28.21       32.46      1012        79      24.22  0.0       3   \n",
       "\n",
       "   visibility  wind_speed  wind_deg  wind_gust  \\\n",
       "0       10000        5.95        92       8.24   \n",
       "1       10000        5.82        93       8.46   \n",
       "2       10000        5.52        93       8.48   \n",
       "3       10000        5.93        88       9.16   \n",
       "4       10000        6.24        80       9.24   \n",
       "\n",
       "                                             weather   pop          rain  \n",
       "0  [{'id': 800, 'main': 'Clear', 'description': '...  0.08           NaN  \n",
       "1  [{'id': 500, 'main': 'Rain', 'description': 'l...  0.28  {'1h': 0.15}  \n",
       "2  [{'id': 800, 'main': 'Clear', 'description': '...  0.15           NaN  \n",
       "3  [{'id': 800, 'main': 'Clear', 'description': '...  0.16           NaN  \n",
       "4  [{'id': 800, 'main': 'Clear', 'description': '...  0.20           NaN  "
      ]
     },
     "execution_count": 10,
     "metadata": {},
     "output_type": "execute_result"
    }
   ],
   "source": [
    "df_hourly.head()"
   ]
  },
  {
   "cell_type": "code",
   "execution_count": null,
   "metadata": {},
   "outputs": [],
   "source": []
  }
 ],
 "metadata": {
  "interpreter": {
   "hash": "c1b4cfe941b6d2466ad1fb5979e97da9cda8801728c8091b097ab734208fc00c"
  },
  "kernelspec": {
   "display_name": "Python 3.8.3 64-bit ('base': conda)",
   "name": "python3"
  },
  "language_info": {
   "codemirror_mode": {
    "name": "ipython",
    "version": 3
   },
   "file_extension": ".py",
   "mimetype": "text/x-python",
   "name": "python",
   "nbconvert_exporter": "python",
   "pygments_lexer": "ipython3",
   "version": "3.8.12"
  }
 },
 "nbformat": 4,
 "nbformat_minor": 2
}
