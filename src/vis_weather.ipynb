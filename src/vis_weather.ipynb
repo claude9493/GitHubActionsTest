{
 "cells": [
  {
   "cell_type": "code",
   "execution_count": 1,
   "metadata": {
    "execution": {
     "iopub.execute_input": "2021-10-07T00:41:14.709574Z",
     "iopub.status.busy": "2021-10-07T00:41:14.709036Z",
     "iopub.status.idle": "2021-10-07T00:41:15.909351Z",
     "shell.execute_reply": "2021-10-07T00:41:15.909808Z"
    }
   },
   "outputs": [],
   "source": [
    "import json, yaml, requests\r\n",
    "from datetime import datetime\r\n",
    "from dateutil import tz\r\n",
    "import pandas as pd\r\n",
    "from PIL import Image\r\n",
    "from io import BytesIO\r\n",
    "import matplotlib.pyplot as plt\r\n",
    "import seaborn\r\n",
    "\r\n",
    "CONFIG_PATH = \"../config/config.yaml\""
   ]
  },
  {
   "cell_type": "code",
   "execution_count": 2,
   "metadata": {
    "execution": {
     "iopub.execute_input": "2021-10-07T00:41:15.915497Z",
     "iopub.status.busy": "2021-10-07T00:41:15.914423Z",
     "iopub.status.idle": "2021-10-07T00:41:15.919706Z",
     "shell.execute_reply": "2021-10-07T00:41:15.919322Z"
    }
   },
   "outputs": [],
   "source": [
    "with open('../newest_ts', 'r') as f:\r\n",
    "    newest_ts = f.read()\r\n",
    "\r\n",
    "data_path = f\"../data/data_{newest_ts}.json\"\r\n",
    "with open(data_path, 'r') as f:\r\n",
    "    data = json.load(f)\r\n",
    "\r\n",
    "with open(CONFIG_PATH, \"r\") as stream:\r\n",
    "    config = yaml.safe_load(stream)\r\n",
    "\r\n",
    "TIME_ZONE = config['time_zone']\r\n",
    "DATETIME_FORMAT = config['dt_format']"
   ]
  },
  {
   "cell_type": "code",
   "execution_count": 3,
   "metadata": {
    "execution": {
     "iopub.execute_input": "2021-10-07T00:41:15.923952Z",
     "iopub.status.busy": "2021-10-07T00:41:15.923469Z",
     "iopub.status.idle": "2021-10-07T00:41:15.928511Z",
     "shell.execute_reply": "2021-10-07T00:41:15.928884Z"
    }
   },
   "outputs": [
    {
     "name": "stdout",
     "output_type": "stream",
     "text": [
      "Recent query happens at 2021-10-07 08:41:12 (CST).\n"
     ]
    }
   ],
   "source": [
    "def ts2dt(ts, format=DATETIME_FORMAT):\r\n",
    "    dt = (datetime.utcfromtimestamp(int(ts))\r\n",
    "                    .replace(tzinfo=tz.tzutc())\r\n",
    "                    # .astimezone(tz.tzlocal())\r\n",
    "                    .astimezone(tz.gettz(TIME_ZONE)))\r\n",
    "    return dt.strftime(format), dt\r\n",
    "\r\n",
    "_, newest_dt = ts2dt(newest_ts)\r\n",
    "print(f\"Recent query happens at {newest_dt.strftime(DATETIME_FORMAT)} ({newest_dt.tzname()}).\")"
   ]
  },
  {
   "cell_type": "code",
   "execution_count": 4,
   "metadata": {
    "execution": {
     "iopub.execute_input": "2021-10-07T00:41:15.933797Z",
     "iopub.status.busy": "2021-10-07T00:41:15.932714Z",
     "iopub.status.idle": "2021-10-07T00:41:15.934316Z",
     "shell.execute_reply": "2021-10-07T00:41:15.934674Z"
    }
   },
   "outputs": [],
   "source": [
    "def degrees_to_cardinal(d):\r\n",
    "  dirs = ['N', 'NNE', 'NE', 'ENE', 'E', 'ESE', 'SE', 'SSE', 'S', 'SSW', 'SW', 'WSW', 'W', 'WNW', 'NW', 'NNW']\r\n",
    "  ix = int(round(d / (360. / len(dirs))))\r\n",
    "  return dirs[ix % len(dirs)]"
   ]
  },
  {
   "cell_type": "code",
   "execution_count": 5,
   "metadata": {
    "execution": {
     "iopub.execute_input": "2021-10-07T00:41:15.938591Z",
     "iopub.status.busy": "2021-10-07T00:41:15.937550Z",
     "iopub.status.idle": "2021-10-07T00:41:15.939107Z",
     "shell.execute_reply": "2021-10-07T00:41:15.939465Z"
    }
   },
   "outputs": [],
   "source": [
    "# data.keys()"
   ]
  },
  {
   "cell_type": "code",
   "execution_count": 6,
   "metadata": {
    "execution": {
     "iopub.execute_input": "2021-10-07T00:41:15.943136Z",
     "iopub.status.busy": "2021-10-07T00:41:15.942016Z",
     "iopub.status.idle": "2021-10-07T00:41:15.943663Z",
     "shell.execute_reply": "2021-10-07T00:41:15.944023Z"
    }
   },
   "outputs": [],
   "source": [
    "# data['current']"
   ]
  },
  {
   "cell_type": "code",
   "execution_count": 7,
   "metadata": {
    "execution": {
     "iopub.execute_input": "2021-10-07T00:41:15.960342Z",
     "iopub.status.busy": "2021-10-07T00:41:15.959890Z",
     "iopub.status.idle": "2021-10-07T00:41:16.318701Z",
     "shell.execute_reply": "2021-10-07T00:41:16.319360Z"
    }
   },
   "outputs": [
    {
     "data": {
      "image/png": "[encoded data removed]",
      "text/plain": [
       "<Figure size 216x216 with 1 Axes>"
      ]
     },
     "metadata": {
      "needs_background": "light"
     },
     "output_type": "display_data"
    },
    {
     "name": "stdout",
     "output_type": "stream",
     "text": [
      "Today, sun rises at 06:16 and sets at 18:05.\n",
      "Currently, the weather is Clear (clear sky).\n",
      "The temperature is 29.68°C and it feels like 34.05°C.\n",
      "The UV index is 2.63, humidity is 69%.\n",
      "The pressure is 1006 hPa, percentage of cloud cover is 7%\n",
      "The wind comes from SE direction with a speed 0.89 m/s.\n"
     ]
    }
   ],
   "source": [
    "current = data['current']\r\n",
    "\r\n",
    "fig, ax = plt.subplots(figsize=(3, 3))\r\n",
    "icon = requests.get(f\"http://openweathermap.org/img/wn/{current['weather'][0]['icon']}@2x.png\")\r\n",
    "im = Image.open(BytesIO(icon.content))\r\n",
    "plt.imshow(im)\r\n",
    "ax.set_axis_off()\r\n",
    "plt.show()\r\n",
    "\r\n",
    "print(f\"Today, sun rises at {ts2dt(current['sunrise'], '%H:%M')[0]} \\\r\n",
    "and sets at {ts2dt(current['sunset'], '%H:%M')[0]}.\\n\\\r\n",
    "Currently, the weather is {current['weather'][0]['main']} ({current['weather'][0]['description']}).\\n\\\r\n",
    "The temperature is {current['temp']}°C and it feels like {current['feels_like']}°C.\\n\\\r\n",
    "The UV index is {current['uvi']}, humidity is {current['humidity']}%.\\n\\\r\n",
    "The pressure is {current['pressure']} hPa, percentage of cloud cover is {current['clouds']}%\\n\\\r\n",
    "The wind comes from {degrees_to_cardinal(current['wind_deg'])} direction with a speed {current['wind_speed']} m/s.\")"
   ]
  },
  {
   "cell_type": "code",
   "execution_count": 8,
   "metadata": {
    "execution": {
     "iopub.execute_input": "2021-10-07T00:41:16.322442Z",
     "iopub.status.busy": "2021-10-07T00:41:16.321993Z",
     "iopub.status.idle": "2021-10-07T00:41:16.328205Z",
     "shell.execute_reply": "2021-10-07T00:41:16.328840Z"
    }
   },
   "outputs": [],
   "source": [
    "df_hourly = pd.DataFrame(data['hourly'])\r\n",
    "df_daily = pd.DataFrame(data['daily'])"
   ]
  },
  {
   "cell_type": "code",
   "execution_count": 9,
   "metadata": {
    "execution": {
     "iopub.execute_input": "2021-10-07T00:41:16.331787Z",
     "iopub.status.busy": "2021-10-07T00:41:16.330872Z",
     "iopub.status.idle": "2021-10-07T00:41:16.566759Z",
     "shell.execute_reply": "2021-10-07T00:41:16.566350Z"
    }
   },
   "outputs": [
    {
     "data": {
      "image/png": "[encoded data removed]",
      "text/plain": [
       "<Figure size 864x432 with 1 Axes>"
      ]
     },
     "metadata": {
      "needs_background": "light"
     },
     "output_type": "display_data"
    }
   ],
   "source": [
    "fig, ax = plt.subplots(figsize=(12, 6))\r\n",
    "plt.plot(df_hourly.temp, '.-', label='Temperature')\r\n",
    "plt.plot(df_hourly.feels_like, '.-', label='Feels Like')\r\n",
    "ax.set(title='Temperature in future 48 hours', xlabel='Time', ylabel='Temperature')\r\n",
    "ax.set_xticks(list(range(0, len(df_hourly), 2)))\r\n",
    "ax.set_xticklabels([ts2dt(ts, '%m-%d %H:%M')[0] for i, ts in enumerate(df_hourly.dt) if i%2==0], \r\n",
    "                   rotation=45, ha=\"right\")\r\n",
    "ax.locator_params(nbins=15, axis='y')\r\n",
    "plt.legend()\r\n",
    "plt.show()"
   ]
  },
  {
   "cell_type": "code",
   "execution_count": 10,
   "metadata": {
    "execution": {
     "iopub.execute_input": "2021-10-07T00:41:16.570413Z",
     "iopub.status.busy": "2021-10-07T00:41:16.568697Z",
     "iopub.status.idle": "2021-10-07T00:41:16.588250Z",
     "shell.execute_reply": "2021-10-07T00:41:16.587811Z"
    }
   },
   "outputs": [
    {
     "data": {
      "text/html": [
       "<div>\n",
       "<style scoped>\n",
       "    .dataframe tbody tr th:only-of-type {\n",
       "        vertical-align: middle;\n",
       "    }\n",
       "\n",
       "    .dataframe tbody tr th {\n",
       "        vertical-align: top;\n",
       "    }\n",
       "\n",
       "    .dataframe thead th {\n",
       "        text-align: right;\n",
       "    }\n",
       "</style>\n",
       "<table border=\"1\" class=\"dataframe\">\n",
       "  <thead>\n",
       "    <tr style=\"text-align: right;\">\n",
       "      <th></th>\n",
       "      <th>dt</th>\n",
       "      <th>temp</th>\n",
       "      <th>feels_like</th>\n",
       "      <th>pressure</th>\n",
       "      <th>humidity</th>\n",
       "      <th>dew_point</th>\n",
       "      <th>uvi</th>\n",
       "      <th>clouds</th>\n",
       "      <th>visibility</th>\n",
       "      <th>wind_speed</th>\n",
       "      <th>wind_deg</th>\n",
       "      <th>wind_gust</th>\n",
       "      <th>weather</th>\n",
       "      <th>pop</th>\n",
       "      <th>rain</th>\n",
       "    </tr>\n",
       "  </thead>\n",
       "  <tbody>\n",
       "    <tr>\n",
       "      <th>0</th>\n",
       "      <td>1633564800</td>\n",
       "      <td>29.30</td>\n",
       "      <td>33.60</td>\n",
       "      <td>1006</td>\n",
       "      <td>71</td>\n",
       "      <td>23.49</td>\n",
       "      <td>0.88</td>\n",
       "      <td>8</td>\n",
       "      <td>10000</td>\n",
       "      <td>8.92</td>\n",
       "      <td>58</td>\n",
       "      <td>13.74</td>\n",
       "      <td>[{'id': 800, 'main': 'Clear', 'description': '...</td>\n",
       "      <td>0.73</td>\n",
       "      <td>NaN</td>\n",
       "    </tr>\n",
       "    <tr>\n",
       "      <th>1</th>\n",
       "      <td>1633568400</td>\n",
       "      <td>29.68</td>\n",
       "      <td>34.05</td>\n",
       "      <td>1006</td>\n",
       "      <td>69</td>\n",
       "      <td>23.38</td>\n",
       "      <td>2.63</td>\n",
       "      <td>7</td>\n",
       "      <td>10000</td>\n",
       "      <td>9.09</td>\n",
       "      <td>59</td>\n",
       "      <td>13.81</td>\n",
       "      <td>[{'id': 800, 'main': 'Clear', 'description': '...</td>\n",
       "      <td>0.29</td>\n",
       "      <td>NaN</td>\n",
       "    </tr>\n",
       "    <tr>\n",
       "      <th>2</th>\n",
       "      <td>1633572000</td>\n",
       "      <td>29.58</td>\n",
       "      <td>33.82</td>\n",
       "      <td>1006</td>\n",
       "      <td>69</td>\n",
       "      <td>23.29</td>\n",
       "      <td>5.11</td>\n",
       "      <td>8</td>\n",
       "      <td>10000</td>\n",
       "      <td>9.47</td>\n",
       "      <td>60</td>\n",
       "      <td>13.83</td>\n",
       "      <td>[{'id': 800, 'main': 'Clear', 'description': '...</td>\n",
       "      <td>0.21</td>\n",
       "      <td>NaN</td>\n",
       "    </tr>\n",
       "    <tr>\n",
       "      <th>3</th>\n",
       "      <td>1633575600</td>\n",
       "      <td>29.76</td>\n",
       "      <td>33.79</td>\n",
       "      <td>1006</td>\n",
       "      <td>67</td>\n",
       "      <td>22.97</td>\n",
       "      <td>7.50</td>\n",
       "      <td>9</td>\n",
       "      <td>10000</td>\n",
       "      <td>9.90</td>\n",
       "      <td>62</td>\n",
       "      <td>13.45</td>\n",
       "      <td>[{'id': 800, 'main': 'Clear', 'description': '...</td>\n",
       "      <td>0.25</td>\n",
       "      <td>NaN</td>\n",
       "    </tr>\n",
       "    <tr>\n",
       "      <th>4</th>\n",
       "      <td>1633579200</td>\n",
       "      <td>30.12</td>\n",
       "      <td>34.37</td>\n",
       "      <td>1006</td>\n",
       "      <td>66</td>\n",
       "      <td>23.07</td>\n",
       "      <td>9.00</td>\n",
       "      <td>9</td>\n",
       "      <td>10000</td>\n",
       "      <td>9.79</td>\n",
       "      <td>70</td>\n",
       "      <td>13.28</td>\n",
       "      <td>[{'id': 800, 'main': 'Clear', 'description': '...</td>\n",
       "      <td>0.33</td>\n",
       "      <td>NaN</td>\n",
       "    </tr>\n",
       "  </tbody>\n",
       "</table>\n",
       "</div>"
      ],
      "text/plain": [
       "           dt   temp  feels_like  pressure  humidity  dew_point   uvi  clouds  \\\n",
       "0  1633564800  29.30       33.60      1006        71      23.49  0.88       8   \n",
       "1  1633568400  29.68       34.05      1006        69      23.38  2.63       7   \n",
       "2  1633572000  29.58       33.82      1006        69      23.29  5.11       8   \n",
       "3  1633575600  29.76       33.79      1006        67      22.97  7.50       9   \n",
       "4  1633579200  30.12       34.37      1006        66      23.07  9.00       9   \n",
       "\n",
       "   visibility  wind_speed  wind_deg  wind_gust  \\\n",
       "0       10000        8.92        58      13.74   \n",
       "1       10000        9.09        59      13.81   \n",
       "2       10000        9.47        60      13.83   \n",
       "3       10000        9.90        62      13.45   \n",
       "4       10000        9.79        70      13.28   \n",
       "\n",
       "                                             weather   pop rain  \n",
       "0  [{'id': 800, 'main': 'Clear', 'description': '...  0.73  NaN  \n",
       "1  [{'id': 800, 'main': 'Clear', 'description': '...  0.29  NaN  \n",
       "2  [{'id': 800, 'main': 'Clear', 'description': '...  0.21  NaN  \n",
       "3  [{'id': 800, 'main': 'Clear', 'description': '...  0.25  NaN  \n",
       "4  [{'id': 800, 'main': 'Clear', 'description': '...  0.33  NaN  "
      ]
     },
     "execution_count": 10,
     "metadata": {},
     "output_type": "execute_result"
    }
   ],
   "source": [
    "df_hourly.head()"
   ]
  },
  {
   "cell_type": "code",
   "execution_count": null,
   "metadata": {},
   "outputs": [],
   "source": []
  }
 ],
 "metadata": {
  "interpreter": {
   "hash": "c1b4cfe941b6d2466ad1fb5979e97da9cda8801728c8091b097ab734208fc00c"
  },
  "kernelspec": {
   "display_name": "Python 3.8.3 64-bit ('base': conda)",
   "name": "python3"
  },
  "language_info": {
   "codemirror_mode": {
    "name": "ipython",
    "version": 3
   },
   "file_extension": ".py",
   "mimetype": "text/x-python",
   "name": "python",
   "nbconvert_exporter": "python",
   "pygments_lexer": "ipython3",
   "version": "3.8.12"
  }
 },
 "nbformat": 4,
 "nbformat_minor": 2
}
