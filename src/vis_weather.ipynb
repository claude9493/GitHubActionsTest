{
 "cells": [
  {
   "cell_type": "code",
   "execution_count": 1,
   "metadata": {
    "execution": {
     "iopub.execute_input": "2021-09-30T02:02:22.871568Z",
     "iopub.status.busy": "2021-09-30T02:02:22.870995Z",
     "iopub.status.idle": "2021-09-30T02:02:25.304813Z",
     "shell.execute_reply": "2021-09-30T02:02:25.304240Z"
    }
   },
   "outputs": [],
   "source": [
    "import json, yaml, requests\r\n",
    "from datetime import datetime\r\n",
    "from dateutil import tz\r\n",
    "import pandas as pd\r\n",
    "from PIL import Image\r\n",
    "from io import BytesIO\r\n",
    "import matplotlib.pyplot as plt\r\n",
    "import seaborn\r\n",
    "\r\n",
    "CONFIG_PATH = \"../config/config.yaml\""
   ]
  },
  {
   "cell_type": "code",
   "execution_count": 2,
   "metadata": {
    "execution": {
     "iopub.execute_input": "2021-09-30T02:02:25.311887Z",
     "iopub.status.busy": "2021-09-30T02:02:25.309104Z",
     "iopub.status.idle": "2021-09-30T02:02:25.314390Z",
     "shell.execute_reply": "2021-09-30T02:02:25.314013Z"
    }
   },
   "outputs": [],
   "source": [
    "with open('../newest_ts', 'r') as f:\r\n",
    "    newest_ts = f.read()\r\n",
    "\r\n",
    "data_path = f\"../data/data_{newest_ts}.json\"\r\n",
    "with open(data_path, 'r') as f:\r\n",
    "    data = json.load(f)\r\n",
    "\r\n",
    "with open(CONFIG_PATH, \"r\") as stream:\r\n",
    "    config = yaml.safe_load(stream)\r\n",
    "\r\n",
    "TIME_ZONE = config['time_zone']\r\n",
    "DATETIME_FORMAT = config['dt_format']"
   ]
  },
  {
   "cell_type": "code",
   "execution_count": 3,
   "metadata": {
    "execution": {
     "iopub.execute_input": "2021-09-30T02:02:25.318595Z",
     "iopub.status.busy": "2021-09-30T02:02:25.318140Z",
     "iopub.status.idle": "2021-09-30T02:02:25.329052Z",
     "shell.execute_reply": "2021-09-30T02:02:25.329422Z"
    }
   },
   "outputs": [
    {
     "name": "stdout",
     "output_type": "stream",
     "text": [
      "Recent query happens at 2021-09-30 10:02:19 (CST).\n"
     ]
    }
   ],
   "source": [
    "def ts2dt(ts, format=DATETIME_FORMAT):\r\n",
    "    dt = (datetime.utcfromtimestamp(int(ts))\r\n",
    "                    .replace(tzinfo=tz.tzutc())\r\n",
    "                    # .astimezone(tz.tzlocal())\r\n",
    "                    .astimezone(tz.gettz(TIME_ZONE)))\r\n",
    "    return dt.strftime(format), dt\r\n",
    "\r\n",
    "_, newest_dt = ts2dt(newest_ts)\r\n",
    "print(f\"Recent query happens at {newest_dt.strftime(DATETIME_FORMAT)} ({newest_dt.tzname()}).\")"
   ]
  },
  {
   "cell_type": "code",
   "execution_count": 4,
   "metadata": {
    "execution": {
     "iopub.execute_input": "2021-09-30T02:02:25.334151Z",
     "iopub.status.busy": "2021-09-30T02:02:25.333154Z",
     "iopub.status.idle": "2021-09-30T02:02:25.334671Z",
     "shell.execute_reply": "2021-09-30T02:02:25.335053Z"
    }
   },
   "outputs": [],
   "source": [
    "def degrees_to_cardinal(d):\r\n",
    "  dirs = ['N', 'NNE', 'NE', 'ENE', 'E', 'ESE', 'SE', 'SSE', 'S', 'SSW', 'SW', 'WSW', 'W', 'WNW', 'NW', 'NNW']\r\n",
    "  ix = int(round(d / (360. / len(dirs))))\r\n",
    "  return dirs[ix % len(dirs)]"
   ]
  },
  {
   "cell_type": "code",
   "execution_count": 5,
   "metadata": {
    "execution": {
     "iopub.execute_input": "2021-09-30T02:02:25.338825Z",
     "iopub.status.busy": "2021-09-30T02:02:25.337814Z",
     "iopub.status.idle": "2021-09-30T02:02:25.339342Z",
     "shell.execute_reply": "2021-09-30T02:02:25.339700Z"
    }
   },
   "outputs": [],
   "source": [
    "# data.keys()"
   ]
  },
  {
   "cell_type": "code",
   "execution_count": 6,
   "metadata": {
    "execution": {
     "iopub.execute_input": "2021-09-30T02:02:25.343247Z",
     "iopub.status.busy": "2021-09-30T02:02:25.342215Z",
     "iopub.status.idle": "2021-09-30T02:02:25.343764Z",
     "shell.execute_reply": "2021-09-30T02:02:25.344126Z"
    }
   },
   "outputs": [],
   "source": [
    "# data['current']"
   ]
  },
  {
   "cell_type": "code",
   "execution_count": 7,
   "metadata": {
    "execution": {
     "iopub.execute_input": "2021-09-30T02:02:25.360439Z",
     "iopub.status.busy": "2021-09-30T02:02:25.359966Z",
     "iopub.status.idle": "2021-09-30T02:02:25.747793Z",
     "shell.execute_reply": "2021-09-30T02:02:25.748465Z"
    }
   },
   "outputs": [
    {
     "data": {
      "image/png": "[encoded data removed]",
      "text/plain": [
       "<Figure size 216x216 with 1 Axes>"
      ]
     },
     "metadata": {
      "needs_background": "light"
     },
     "output_type": "display_data"
    },
    {
     "name": "stdout",
     "output_type": "stream",
     "text": [
      "Today, sun rises at 06:13 and sets at 18:12.\n",
      "Currently, the weather is Clear (clear sky).\n",
      "The temperature is 32.13°C and it feels like 39.13°C.\n",
      "The UV index is 5.75, humidity is 80%.\n",
      "The pressure is 1008 hPa, percentage of cloud cover is 0%\n",
      "The wind comes from SW direction with a speed 1.34 m/s.\n"
     ]
    }
   ],
   "source": [
    "current = data['current']\r\n",
    "\r\n",
    "fig, ax = plt.subplots(figsize=(3, 3))\r\n",
    "icon = requests.get(f\"http://openweathermap.org/img/wn/{current['weather'][0]['icon']}@2x.png\")\r\n",
    "im = Image.open(BytesIO(icon.content))\r\n",
    "plt.imshow(im)\r\n",
    "ax.set_axis_off()\r\n",
    "plt.show()\r\n",
    "\r\n",
    "print(f\"Today, sun rises at {ts2dt(current['sunrise'], '%H:%M')[0]} \\\r\n",
    "and sets at {ts2dt(current['sunset'], '%H:%M')[0]}.\\n\\\r\n",
    "Currently, the weather is {current['weather'][0]['main']} ({current['weather'][0]['description']}).\\n\\\r\n",
    "The temperature is {current['temp']}°C and it feels like {current['feels_like']}°C.\\n\\\r\n",
    "The UV index is {current['uvi']}, humidity is {current['humidity']}%.\\n\\\r\n",
    "The pressure is {current['pressure']} hPa, percentage of cloud cover is {current['clouds']}%\\n\\\r\n",
    "The wind comes from {degrees_to_cardinal(current['wind_deg'])} direction with a speed {current['wind_speed']} m/s.\")"
   ]
  },
  {
   "cell_type": "code",
   "execution_count": 8,
   "metadata": {
    "execution": {
     "iopub.execute_input": "2021-09-30T02:02:25.751405Z",
     "iopub.status.busy": "2021-09-30T02:02:25.750937Z",
     "iopub.status.idle": "2021-09-30T02:02:25.757240Z",
     "shell.execute_reply": "2021-09-30T02:02:25.757877Z"
    }
   },
   "outputs": [],
   "source": [
    "df_hourly = pd.DataFrame(data['hourly'])\r\n",
    "df_daily = pd.DataFrame(data['daily'])"
   ]
  },
  {
   "cell_type": "code",
   "execution_count": 9,
   "metadata": {
    "execution": {
     "iopub.execute_input": "2021-09-30T02:02:25.760999Z",
     "iopub.status.busy": "2021-09-30T02:02:25.759960Z",
     "iopub.status.idle": "2021-09-30T02:02:26.000802Z",
     "shell.execute_reply": "2021-09-30T02:02:26.001223Z"
    }
   },
   "outputs": [
    {
     "data": {
      "image/png": "[encoded data removed]",
      "text/plain": [
       "<Figure size 864x432 with 1 Axes>"
      ]
     },
     "metadata": {
      "needs_background": "light"
     },
     "output_type": "display_data"
    }
   ],
   "source": [
    "fig, ax = plt.subplots(figsize=(12, 6))\r\n",
    "plt.plot(df_hourly.temp, '.-', label='Temperature')\r\n",
    "plt.plot(df_hourly.feels_like, '.-', label='Feels Like')\r\n",
    "ax.set(title='Temperature in future 48 hours', xlabel='Time', ylabel='Temperature')\r\n",
    "ax.set_xticks(list(range(0, len(df_hourly), 2)))\r\n",
    "ax.set_xticklabels([ts2dt(ts, '%m-%d %H:%M')[0] for i, ts in enumerate(df_hourly.dt) if i%2==0], \r\n",
    "                   rotation=45, ha=\"right\")\r\n",
    "ax.locator_params(nbins=15, axis='y')\r\n",
    "plt.legend()\r\n",
    "plt.show()"
   ]
  },
  {
   "cell_type": "code",
   "execution_count": 10,
   "metadata": {
    "execution": {
     "iopub.execute_input": "2021-09-30T02:02:26.018011Z",
     "iopub.status.busy": "2021-09-30T02:02:26.004552Z",
     "iopub.status.idle": "2021-09-30T02:02:26.020839Z",
     "shell.execute_reply": "2021-09-30T02:02:26.021215Z"
    }
   },
   "outputs": [
    {
     "data": {
      "text/html": [
       "<div>\n",
       "<style scoped>\n",
       "    .dataframe tbody tr th:only-of-type {\n",
       "        vertical-align: middle;\n",
       "    }\n",
       "\n",
       "    .dataframe tbody tr th {\n",
       "        vertical-align: top;\n",
       "    }\n",
       "\n",
       "    .dataframe thead th {\n",
       "        text-align: right;\n",
       "    }\n",
       "</style>\n",
       "<table border=\"1\" class=\"dataframe\">\n",
       "  <thead>\n",
       "    <tr style=\"text-align: right;\">\n",
       "      <th></th>\n",
       "      <th>dt</th>\n",
       "      <th>temp</th>\n",
       "      <th>feels_like</th>\n",
       "      <th>pressure</th>\n",
       "      <th>humidity</th>\n",
       "      <th>dew_point</th>\n",
       "      <th>uvi</th>\n",
       "      <th>clouds</th>\n",
       "      <th>visibility</th>\n",
       "      <th>wind_speed</th>\n",
       "      <th>wind_deg</th>\n",
       "      <th>wind_gust</th>\n",
       "      <th>weather</th>\n",
       "      <th>pop</th>\n",
       "      <th>rain</th>\n",
       "    </tr>\n",
       "  </thead>\n",
       "  <tbody>\n",
       "    <tr>\n",
       "      <th>0</th>\n",
       "      <td>1632967200</td>\n",
       "      <td>32.13</td>\n",
       "      <td>39.13</td>\n",
       "      <td>1008</td>\n",
       "      <td>80</td>\n",
       "      <td>28.24</td>\n",
       "      <td>5.75</td>\n",
       "      <td>0</td>\n",
       "      <td>10000</td>\n",
       "      <td>2.03</td>\n",
       "      <td>245</td>\n",
       "      <td>2.01</td>\n",
       "      <td>[{'id': 800, 'main': 'Clear', 'description': '...</td>\n",
       "      <td>0.34</td>\n",
       "      <td>NaN</td>\n",
       "    </tr>\n",
       "    <tr>\n",
       "      <th>1</th>\n",
       "      <td>1632970800</td>\n",
       "      <td>31.95</td>\n",
       "      <td>38.95</td>\n",
       "      <td>1008</td>\n",
       "      <td>77</td>\n",
       "      <td>27.41</td>\n",
       "      <td>8.38</td>\n",
       "      <td>0</td>\n",
       "      <td>10000</td>\n",
       "      <td>2.14</td>\n",
       "      <td>227</td>\n",
       "      <td>2.06</td>\n",
       "      <td>[{'id': 800, 'main': 'Clear', 'description': '...</td>\n",
       "      <td>0.30</td>\n",
       "      <td>NaN</td>\n",
       "    </tr>\n",
       "    <tr>\n",
       "      <th>2</th>\n",
       "      <td>1632974400</td>\n",
       "      <td>31.88</td>\n",
       "      <td>38.88</td>\n",
       "      <td>1008</td>\n",
       "      <td>74</td>\n",
       "      <td>26.66</td>\n",
       "      <td>9.86</td>\n",
       "      <td>2</td>\n",
       "      <td>10000</td>\n",
       "      <td>2.59</td>\n",
       "      <td>217</td>\n",
       "      <td>2.59</td>\n",
       "      <td>[{'id': 800, 'main': 'Clear', 'description': '...</td>\n",
       "      <td>0.15</td>\n",
       "      <td>NaN</td>\n",
       "    </tr>\n",
       "    <tr>\n",
       "      <th>3</th>\n",
       "      <td>1632978000</td>\n",
       "      <td>31.66</td>\n",
       "      <td>38.66</td>\n",
       "      <td>1008</td>\n",
       "      <td>71</td>\n",
       "      <td>25.75</td>\n",
       "      <td>9.69</td>\n",
       "      <td>7</td>\n",
       "      <td>10000</td>\n",
       "      <td>3.51</td>\n",
       "      <td>212</td>\n",
       "      <td>3.20</td>\n",
       "      <td>[{'id': 800, 'main': 'Clear', 'description': '...</td>\n",
       "      <td>0.11</td>\n",
       "      <td>NaN</td>\n",
       "    </tr>\n",
       "    <tr>\n",
       "      <th>4</th>\n",
       "      <td>1632981600</td>\n",
       "      <td>30.99</td>\n",
       "      <td>37.57</td>\n",
       "      <td>1007</td>\n",
       "      <td>70</td>\n",
       "      <td>24.87</td>\n",
       "      <td>7.90</td>\n",
       "      <td>12</td>\n",
       "      <td>10000</td>\n",
       "      <td>4.12</td>\n",
       "      <td>213</td>\n",
       "      <td>3.37</td>\n",
       "      <td>[{'id': 801, 'main': 'Clouds', 'description': ...</td>\n",
       "      <td>0.11</td>\n",
       "      <td>NaN</td>\n",
       "    </tr>\n",
       "  </tbody>\n",
       "</table>\n",
       "</div>"
      ],
      "text/plain": [
       "           dt   temp  feels_like  pressure  humidity  dew_point   uvi  clouds  \\\n",
       "0  1632967200  32.13       39.13      1008        80      28.24  5.75       0   \n",
       "1  1632970800  31.95       38.95      1008        77      27.41  8.38       0   \n",
       "2  1632974400  31.88       38.88      1008        74      26.66  9.86       2   \n",
       "3  1632978000  31.66       38.66      1008        71      25.75  9.69       7   \n",
       "4  1632981600  30.99       37.57      1007        70      24.87  7.90      12   \n",
       "\n",
       "   visibility  wind_speed  wind_deg  wind_gust  \\\n",
       "0       10000        2.03       245       2.01   \n",
       "1       10000        2.14       227       2.06   \n",
       "2       10000        2.59       217       2.59   \n",
       "3       10000        3.51       212       3.20   \n",
       "4       10000        4.12       213       3.37   \n",
       "\n",
       "                                             weather   pop rain  \n",
       "0  [{'id': 800, 'main': 'Clear', 'description': '...  0.34  NaN  \n",
       "1  [{'id': 800, 'main': 'Clear', 'description': '...  0.30  NaN  \n",
       "2  [{'id': 800, 'main': 'Clear', 'description': '...  0.15  NaN  \n",
       "3  [{'id': 800, 'main': 'Clear', 'description': '...  0.11  NaN  \n",
       "4  [{'id': 801, 'main': 'Clouds', 'description': ...  0.11  NaN  "
      ]
     },
     "execution_count": 10,
     "metadata": {},
     "output_type": "execute_result"
    }
   ],
   "source": [
    "df_hourly.head()"
   ]
  },
  {
   "cell_type": "code",
   "execution_count": null,
   "metadata": {},
   "outputs": [],
   "source": []
  }
 ],
 "metadata": {
  "interpreter": {
   "hash": "c1b4cfe941b6d2466ad1fb5979e97da9cda8801728c8091b097ab734208fc00c"
  },
  "kernelspec": {
   "display_name": "Python 3.8.3 64-bit ('base': conda)",
   "name": "python3"
  },
  "language_info": {
   "codemirror_mode": {
    "name": "ipython",
    "version": 3
   },
   "file_extension": ".py",
   "mimetype": "text/x-python",
   "name": "python",
   "nbconvert_exporter": "python",
   "pygments_lexer": "ipython3",
   "version": "3.8.12"
  }
 },
 "nbformat": 4,
 "nbformat_minor": 2
}
