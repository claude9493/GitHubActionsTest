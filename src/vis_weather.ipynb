{
 "cells": [
  {
   "cell_type": "code",
   "execution_count": 1,
   "metadata": {
    "execution": {
     "iopub.execute_input": "2021-09-10T23:38:04.247777Z",
     "iopub.status.busy": "2021-09-10T23:38:04.247017Z",
     "iopub.status.idle": "2021-09-10T23:38:05.691551Z",
     "shell.execute_reply": "2021-09-10T23:38:05.690880Z"
    }
   },
   "outputs": [],
   "source": [
    "import json, yaml, requests\r\n",
    "from datetime import datetime\r\n",
    "from dateutil import tz\r\n",
    "import pandas as pd\r\n",
    "from PIL import Image\r\n",
    "from io import BytesIO\r\n",
    "import matplotlib.pyplot as plt\r\n",
    "import seaborn\r\n",
    "\r\n",
    "CONFIG_PATH = \"../config/config.yaml\""
   ]
  },
  {
   "cell_type": "code",
   "execution_count": 2,
   "metadata": {
    "execution": {
     "iopub.execute_input": "2021-09-10T23:38:05.694945Z",
     "iopub.status.busy": "2021-09-10T23:38:05.694350Z",
     "iopub.status.idle": "2021-09-10T23:38:05.702582Z",
     "shell.execute_reply": "2021-09-10T23:38:05.702074Z"
    }
   },
   "outputs": [],
   "source": [
    "with open('../newest_ts', 'r') as f:\r\n",
    "    newest_ts = f.read()\r\n",
    "\r\n",
    "data_path = f\"../data/data_{newest_ts}.json\"\r\n",
    "with open(data_path, 'r') as f:\r\n",
    "    data = json.load(f)\r\n",
    "\r\n",
    "with open(CONFIG_PATH, \"r\") as stream:\r\n",
    "    config = yaml.safe_load(stream)\r\n",
    "\r\n",
    "TIME_ZONE = config['time_zone']\r\n",
    "DATETIME_FORMAT = config['dt_format']"
   ]
  },
  {
   "cell_type": "code",
   "execution_count": 3,
   "metadata": {
    "execution": {
     "iopub.execute_input": "2021-09-10T23:38:05.709035Z",
     "iopub.status.busy": "2021-09-10T23:38:05.707155Z",
     "iopub.status.idle": "2021-09-10T23:38:05.712346Z",
     "shell.execute_reply": "2021-09-10T23:38:05.712836Z"
    }
   },
   "outputs": [
    {
     "name": "stdout",
     "output_type": "stream",
     "text": [
      "Recent query happens at 2021-09-11 07:38:01 (CST).\n"
     ]
    }
   ],
   "source": [
    "def ts2dt(ts, format=DATETIME_FORMAT):\r\n",
    "    dt = (datetime.utcfromtimestamp(int(ts))\r\n",
    "                    .replace(tzinfo=tz.tzutc())\r\n",
    "                    # .astimezone(tz.tzlocal())\r\n",
    "                    .astimezone(tz.gettz(TIME_ZONE)))\r\n",
    "    return dt.strftime(format), dt\r\n",
    "\r\n",
    "_, newest_dt = ts2dt(newest_ts)\r\n",
    "print(f\"Recent query happens at {newest_dt.strftime(DATETIME_FORMAT)} ({newest_dt.tzname()}).\")"
   ]
  },
  {
   "cell_type": "code",
   "execution_count": 4,
   "metadata": {
    "execution": {
     "iopub.execute_input": "2021-09-10T23:38:05.719190Z",
     "iopub.status.busy": "2021-09-10T23:38:05.717967Z",
     "iopub.status.idle": "2021-09-10T23:38:05.719850Z",
     "shell.execute_reply": "2021-09-10T23:38:05.720306Z"
    }
   },
   "outputs": [],
   "source": [
    "def degrees_to_cardinal(d):\r\n",
    "  dirs = ['N', 'NNE', 'NE', 'ENE', 'E', 'ESE', 'SE', 'SSE', 'S', 'SSW', 'SW', 'WSW', 'W', 'WNW', 'NW', 'NNW']\r\n",
    "  ix = int(round(d / (360. / len(dirs))))\r\n",
    "  return dirs[ix % len(dirs)]"
   ]
  },
  {
   "cell_type": "code",
   "execution_count": 5,
   "metadata": {
    "execution": {
     "iopub.execute_input": "2021-09-10T23:38:05.725819Z",
     "iopub.status.busy": "2021-09-10T23:38:05.724408Z",
     "iopub.status.idle": "2021-09-10T23:38:05.726500Z",
     "shell.execute_reply": "2021-09-10T23:38:05.726956Z"
    }
   },
   "outputs": [],
   "source": [
    "# data.keys()"
   ]
  },
  {
   "cell_type": "code",
   "execution_count": 6,
   "metadata": {
    "execution": {
     "iopub.execute_input": "2021-09-10T23:38:05.730354Z",
     "iopub.status.busy": "2021-09-10T23:38:05.729782Z",
     "iopub.status.idle": "2021-09-10T23:38:05.732385Z",
     "shell.execute_reply": "2021-09-10T23:38:05.731851Z"
    }
   },
   "outputs": [],
   "source": [
    "# data['current']"
   ]
  },
  {
   "cell_type": "code",
   "execution_count": 7,
   "metadata": {
    "execution": {
     "iopub.execute_input": "2021-09-10T23:38:05.753503Z",
     "iopub.status.busy": "2021-09-10T23:38:05.752856Z",
     "iopub.status.idle": "2021-09-10T23:38:06.339795Z",
     "shell.execute_reply": "2021-09-10T23:38:06.340584Z"
    }
   },
   "outputs": [
    {
     "data": {
      "image/png": "[encoded data removed]",
      "text/plain": [
       "<Figure size 216x216 with 1 Axes>"
      ]
     },
     "metadata": {
      "needs_background": "light"
     },
     "output_type": "display_data"
    },
    {
     "name": "stdout",
     "output_type": "stream",
     "text": [
      "Today, sun rises at 06:08 and sets at 18:31.\n",
      "Currently, the weather is Clouds (few clouds).\n",
      "The temperature is 29.36°C and it feels like 36.36°C.\n",
      "The UV index is 1.35, humidity is 84%.\n",
      "The pressure is 1006 hPa, percentage of cloud cover is 24%\n",
      "The wind comes from N direction with a speed 0.9 m/s.\n"
     ]
    }
   ],
   "source": [
    "current = data['current']\r\n",
    "\r\n",
    "fig, ax = plt.subplots(figsize=(3, 3))\r\n",
    "icon = requests.get(f\"http://openweathermap.org/img/wn/{current['weather'][0]['icon']}@2x.png\")\r\n",
    "im = Image.open(BytesIO(icon.content))\r\n",
    "plt.imshow(im)\r\n",
    "ax.set_axis_off()\r\n",
    "plt.show()\r\n",
    "\r\n",
    "print(f\"Today, sun rises at {ts2dt(current['sunrise'], '%H:%M')[0]} \\\r\n",
    "and sets at {ts2dt(current['sunset'], '%H:%M')[0]}.\\n\\\r\n",
    "Currently, the weather is {current['weather'][0]['main']} ({current['weather'][0]['description']}).\\n\\\r\n",
    "The temperature is {current['temp']}°C and it feels like {current['feels_like']}°C.\\n\\\r\n",
    "The UV index is {current['uvi']}, humidity is {current['humidity']}%.\\n\\\r\n",
    "The pressure is {current['pressure']} hPa, percentage of cloud cover is {current['clouds']}%\\n\\\r\n",
    "The wind comes from {degrees_to_cardinal(current['wind_deg'])} direction with a speed {current['wind_speed']} m/s.\")"
   ]
  },
  {
   "cell_type": "code",
   "execution_count": 8,
   "metadata": {
    "execution": {
     "iopub.execute_input": "2021-09-10T23:38:06.350149Z",
     "iopub.status.busy": "2021-09-10T23:38:06.343376Z",
     "iopub.status.idle": "2021-09-10T23:38:06.353632Z",
     "shell.execute_reply": "2021-09-10T23:38:06.354432Z"
    }
   },
   "outputs": [],
   "source": [
    "df_hourly = pd.DataFrame(data['hourly'])\r\n",
    "df_daily = pd.DataFrame(data['daily'])"
   ]
  },
  {
   "cell_type": "code",
   "execution_count": 9,
   "metadata": {
    "execution": {
     "iopub.execute_input": "2021-09-10T23:38:06.363495Z",
     "iopub.status.busy": "2021-09-10T23:38:06.362881Z",
     "iopub.status.idle": "2021-09-10T23:38:06.682371Z",
     "shell.execute_reply": "2021-09-10T23:38:06.683354Z"
    }
   },
   "outputs": [
    {
     "data": {
      "image/png": "[encoded data removed]",
      "text/plain": [
       "<Figure size 864x432 with 1 Axes>"
      ]
     },
     "metadata": {
      "needs_background": "light"
     },
     "output_type": "display_data"
    }
   ],
   "source": [
    "fig, ax = plt.subplots(figsize=(12, 6))\r\n",
    "plt.plot(df_hourly.temp, '.-', label='Temperature')\r\n",
    "plt.plot(df_hourly.feels_like, '.-', label='Feels Like')\r\n",
    "ax.set(title='Temperature in future 48 hours', xlabel='Time', ylabel='Temperature')\r\n",
    "ax.set_xticks(list(range(0, len(df_hourly), 2)))\r\n",
    "ax.set_xticklabels([ts2dt(ts, '%m-%d %H:%M')[0] for i, ts in enumerate(df_hourly.dt) if i%2==0], \r\n",
    "                   rotation=45, ha=\"right\")\r\n",
    "ax.locator_params(nbins=15, axis='y')\r\n",
    "plt.legend()\r\n",
    "plt.show()"
   ]
  },
  {
   "cell_type": "code",
   "execution_count": 10,
   "metadata": {
    "execution": {
     "iopub.execute_input": "2021-09-10T23:38:06.691872Z",
     "iopub.status.busy": "2021-09-10T23:38:06.691093Z",
     "iopub.status.idle": "2021-09-10T23:38:06.713850Z",
     "shell.execute_reply": "2021-09-10T23:38:06.714360Z"
    }
   },
   "outputs": [
    {
     "data": {
      "text/html": [
       "<div>\n",
       "<style scoped>\n",
       "    .dataframe tbody tr th:only-of-type {\n",
       "        vertical-align: middle;\n",
       "    }\n",
       "\n",
       "    .dataframe tbody tr th {\n",
       "        vertical-align: top;\n",
       "    }\n",
       "\n",
       "    .dataframe thead th {\n",
       "        text-align: right;\n",
       "    }\n",
       "</style>\n",
       "<table border=\"1\" class=\"dataframe\">\n",
       "  <thead>\n",
       "    <tr style=\"text-align: right;\">\n",
       "      <th></th>\n",
       "      <th>dt</th>\n",
       "      <th>temp</th>\n",
       "      <th>feels_like</th>\n",
       "      <th>pressure</th>\n",
       "      <th>humidity</th>\n",
       "      <th>dew_point</th>\n",
       "      <th>uvi</th>\n",
       "      <th>clouds</th>\n",
       "      <th>visibility</th>\n",
       "      <th>wind_speed</th>\n",
       "      <th>wind_deg</th>\n",
       "      <th>wind_gust</th>\n",
       "      <th>weather</th>\n",
       "      <th>pop</th>\n",
       "      <th>rain</th>\n",
       "    </tr>\n",
       "  </thead>\n",
       "  <tbody>\n",
       "    <tr>\n",
       "      <th>0</th>\n",
       "      <td>1631314800</td>\n",
       "      <td>29.08</td>\n",
       "      <td>35.65</td>\n",
       "      <td>1006</td>\n",
       "      <td>83</td>\n",
       "      <td>25.89</td>\n",
       "      <td>0.26</td>\n",
       "      <td>24</td>\n",
       "      <td>10000</td>\n",
       "      <td>1.19</td>\n",
       "      <td>49</td>\n",
       "      <td>1.26</td>\n",
       "      <td>[{'id': 801, 'main': 'Clouds', 'description': ...</td>\n",
       "      <td>0.71</td>\n",
       "      <td>NaN</td>\n",
       "    </tr>\n",
       "    <tr>\n",
       "      <th>1</th>\n",
       "      <td>1631318400</td>\n",
       "      <td>29.36</td>\n",
       "      <td>36.36</td>\n",
       "      <td>1006</td>\n",
       "      <td>84</td>\n",
       "      <td>26.37</td>\n",
       "      <td>1.35</td>\n",
       "      <td>24</td>\n",
       "      <td>10000</td>\n",
       "      <td>0.90</td>\n",
       "      <td>7</td>\n",
       "      <td>1.17</td>\n",
       "      <td>[{'id': 801, 'main': 'Clouds', 'description': ...</td>\n",
       "      <td>0.68</td>\n",
       "      <td>NaN</td>\n",
       "    </tr>\n",
       "    <tr>\n",
       "      <th>2</th>\n",
       "      <td>1631322000</td>\n",
       "      <td>29.45</td>\n",
       "      <td>36.02</td>\n",
       "      <td>1006</td>\n",
       "      <td>80</td>\n",
       "      <td>25.63</td>\n",
       "      <td>3.56</td>\n",
       "      <td>36</td>\n",
       "      <td>10000</td>\n",
       "      <td>0.64</td>\n",
       "      <td>81</td>\n",
       "      <td>1.02</td>\n",
       "      <td>[{'id': 802, 'main': 'Clouds', 'description': ...</td>\n",
       "      <td>0.05</td>\n",
       "      <td>NaN</td>\n",
       "    </tr>\n",
       "    <tr>\n",
       "      <th>3</th>\n",
       "      <td>1631325600</td>\n",
       "      <td>29.79</td>\n",
       "      <td>35.98</td>\n",
       "      <td>1006</td>\n",
       "      <td>76</td>\n",
       "      <td>25.10</td>\n",
       "      <td>6.52</td>\n",
       "      <td>40</td>\n",
       "      <td>10000</td>\n",
       "      <td>1.17</td>\n",
       "      <td>147</td>\n",
       "      <td>1.12</td>\n",
       "      <td>[{'id': 802, 'main': 'Clouds', 'description': ...</td>\n",
       "      <td>0.14</td>\n",
       "      <td>NaN</td>\n",
       "    </tr>\n",
       "    <tr>\n",
       "      <th>4</th>\n",
       "      <td>1631329200</td>\n",
       "      <td>30.27</td>\n",
       "      <td>36.23</td>\n",
       "      <td>1006</td>\n",
       "      <td>72</td>\n",
       "      <td>24.66</td>\n",
       "      <td>9.29</td>\n",
       "      <td>48</td>\n",
       "      <td>10000</td>\n",
       "      <td>1.41</td>\n",
       "      <td>222</td>\n",
       "      <td>1.87</td>\n",
       "      <td>[{'id': 802, 'main': 'Clouds', 'description': ...</td>\n",
       "      <td>0.18</td>\n",
       "      <td>NaN</td>\n",
       "    </tr>\n",
       "  </tbody>\n",
       "</table>\n",
       "</div>"
      ],
      "text/plain": [
       "           dt   temp  feels_like  pressure  humidity  dew_point   uvi  clouds  \\\n",
       "0  1631314800  29.08       35.65      1006        83      25.89  0.26      24   \n",
       "1  1631318400  29.36       36.36      1006        84      26.37  1.35      24   \n",
       "2  1631322000  29.45       36.02      1006        80      25.63  3.56      36   \n",
       "3  1631325600  29.79       35.98      1006        76      25.10  6.52      40   \n",
       "4  1631329200  30.27       36.23      1006        72      24.66  9.29      48   \n",
       "\n",
       "   visibility  wind_speed  wind_deg  wind_gust  \\\n",
       "0       10000        1.19        49       1.26   \n",
       "1       10000        0.90         7       1.17   \n",
       "2       10000        0.64        81       1.02   \n",
       "3       10000        1.17       147       1.12   \n",
       "4       10000        1.41       222       1.87   \n",
       "\n",
       "                                             weather   pop rain  \n",
       "0  [{'id': 801, 'main': 'Clouds', 'description': ...  0.71  NaN  \n",
       "1  [{'id': 801, 'main': 'Clouds', 'description': ...  0.68  NaN  \n",
       "2  [{'id': 802, 'main': 'Clouds', 'description': ...  0.05  NaN  \n",
       "3  [{'id': 802, 'main': 'Clouds', 'description': ...  0.14  NaN  \n",
       "4  [{'id': 802, 'main': 'Clouds', 'description': ...  0.18  NaN  "
      ]
     },
     "execution_count": 10,
     "metadata": {},
     "output_type": "execute_result"
    }
   ],
   "source": [
    "df_hourly.head()"
   ]
  },
  {
   "cell_type": "code",
   "execution_count": null,
   "metadata": {},
   "outputs": [],
   "source": []
  }
 ],
 "metadata": {
  "interpreter": {
   "hash": "c1b4cfe941b6d2466ad1fb5979e97da9cda8801728c8091b097ab734208fc00c"
  },
  "kernelspec": {
   "display_name": "Python 3.8.3 64-bit ('base': conda)",
   "name": "python3"
  },
  "language_info": {
   "codemirror_mode": {
    "name": "ipython",
    "version": 3
   },
   "file_extension": ".py",
   "mimetype": "text/x-python",
   "name": "python",
   "nbconvert_exporter": "python",
   "pygments_lexer": "ipython3",
   "version": "3.8.11"
  }
 },
 "nbformat": 4,
 "nbformat_minor": 2
}
