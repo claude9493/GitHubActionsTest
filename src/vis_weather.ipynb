{
 "cells": [
  {
   "cell_type": "code",
   "execution_count": 1,
   "metadata": {
    "execution": {
     "iopub.execute_input": "2021-08-27T10:17:19.911712Z",
     "iopub.status.busy": "2021-08-27T10:17:19.911039Z",
     "iopub.status.idle": "2021-08-27T10:17:21.300832Z",
     "shell.execute_reply": "2021-08-27T10:17:21.299649Z"
    }
   },
   "outputs": [],
   "source": [
    "import json, yaml, requests\r\n",
    "from datetime import datetime\r\n",
    "from dateutil import tz\r\n",
    "import pandas as pd\r\n",
    "from PIL import Image\r\n",
    "from io import BytesIO\r\n",
    "import matplotlib.pyplot as plt\r\n",
    "import seaborn\r\n",
    "\r\n",
    "CONFIG_PATH = \"../config/config.yaml\""
   ]
  },
  {
   "cell_type": "code",
   "execution_count": 2,
   "metadata": {
    "execution": {
     "iopub.execute_input": "2021-08-27T10:17:21.305067Z",
     "iopub.status.busy": "2021-08-27T10:17:21.304581Z",
     "iopub.status.idle": "2021-08-27T10:17:21.310072Z",
     "shell.execute_reply": "2021-08-27T10:17:21.309302Z"
    }
   },
   "outputs": [],
   "source": [
    "with open('../newest_ts', 'r') as f:\r\n",
    "    newest_ts = f.read()\r\n",
    "\r\n",
    "data_path = f\"../data/data_{newest_ts}.json\"\r\n",
    "with open(data_path, 'r') as f:\r\n",
    "    data = json.load(f)\r\n",
    "\r\n",
    "with open(CONFIG_PATH, \"r\") as stream:\r\n",
    "    config = yaml.safe_load(stream)\r\n",
    "\r\n",
    "TIME_ZONE = config['time_zone']\r\n",
    "DATETIME_FORMAT = config['dt_format']"
   ]
  },
  {
   "cell_type": "code",
   "execution_count": 3,
   "metadata": {
    "execution": {
     "iopub.execute_input": "2021-08-27T10:17:21.314541Z",
     "iopub.status.busy": "2021-08-27T10:17:21.313940Z",
     "iopub.status.idle": "2021-08-27T10:17:21.318021Z",
     "shell.execute_reply": "2021-08-27T10:17:21.318377Z"
    }
   },
   "outputs": [
    {
     "name": "stdout",
     "output_type": "stream",
     "text": [
      "Recent query happens at 2021-08-27 18:17:17 (CST).\n"
     ]
    }
   ],
   "source": [
    "def ts2dt(ts, format=DATETIME_FORMAT):\r\n",
    "    dt = (datetime.utcfromtimestamp(int(ts))\r\n",
    "                    .replace(tzinfo=tz.tzutc())\r\n",
    "                    # .astimezone(tz.tzlocal())\r\n",
    "                    .astimezone(tz.gettz(TIME_ZONE)))\r\n",
    "    return dt.strftime(format), dt\r\n",
    "\r\n",
    "_, newest_dt = ts2dt(newest_ts)\r\n",
    "print(f\"Recent query happens at {newest_dt.strftime(DATETIME_FORMAT)} ({newest_dt.tzname()}).\")"
   ]
  },
  {
   "cell_type": "code",
   "execution_count": 4,
   "metadata": {
    "execution": {
     "iopub.execute_input": "2021-08-27T10:17:21.323674Z",
     "iopub.status.busy": "2021-08-27T10:17:21.322538Z",
     "iopub.status.idle": "2021-08-27T10:17:21.324289Z",
     "shell.execute_reply": "2021-08-27T10:17:21.324719Z"
    }
   },
   "outputs": [],
   "source": [
    "def degrees_to_cardinal(d):\r\n",
    "  dirs = ['N', 'NNE', 'NE', 'ENE', 'E', 'ESE', 'SE', 'SSE', 'S', 'SSW', 'SW', 'WSW', 'W', 'WNW', 'NW', 'NNW']\r\n",
    "  ix = int(round(d / (360. / len(dirs))))\r\n",
    "  return dirs[ix % len(dirs)]"
   ]
  },
  {
   "cell_type": "code",
   "execution_count": 5,
   "metadata": {
    "execution": {
     "iopub.execute_input": "2021-08-27T10:17:21.328882Z",
     "iopub.status.busy": "2021-08-27T10:17:21.327702Z",
     "iopub.status.idle": "2021-08-27T10:17:21.329384Z",
     "shell.execute_reply": "2021-08-27T10:17:21.329821Z"
    }
   },
   "outputs": [],
   "source": [
    "# data.keys()"
   ]
  },
  {
   "cell_type": "code",
   "execution_count": 6,
   "metadata": {
    "execution": {
     "iopub.execute_input": "2021-08-27T10:17:21.333856Z",
     "iopub.status.busy": "2021-08-27T10:17:21.332643Z",
     "iopub.status.idle": "2021-08-27T10:17:21.334415Z",
     "shell.execute_reply": "2021-08-27T10:17:21.334761Z"
    }
   },
   "outputs": [],
   "source": [
    "# data['current']"
   ]
  },
  {
   "cell_type": "code",
   "execution_count": 7,
   "metadata": {
    "execution": {
     "iopub.execute_input": "2021-08-27T10:17:21.346772Z",
     "iopub.status.busy": "2021-08-27T10:17:21.346259Z",
     "iopub.status.idle": "2021-08-27T10:17:21.928008Z",
     "shell.execute_reply": "2021-08-27T10:17:21.928610Z"
    }
   },
   "outputs": [
    {
     "data": {
      "image/png": "[encoded data removed]",
      "text/plain": [
       "<Figure size 216x216 with 1 Axes>"
      ]
     },
     "metadata": {
      "needs_background": "light"
     },
     "output_type": "display_data"
    },
    {
     "name": "stdout",
     "output_type": "stream",
     "text": [
      "Today, sun rises at 06:04 and sets at 18:45.\n",
      "Currently, the weather is Rain (moderate rain).\n",
      "The temperature is 24.75°C and it feels like 25.26°C.\n",
      "The UV index is 0.17, humidity is 76%.\n",
      "The pressure is 1010 hPa, percentage of cloud cover is 61%\n",
      "The wind comes from ESE direction with a speed 6 m/s.\n"
     ]
    }
   ],
   "source": [
    "current = data['current']\r\n",
    "\r\n",
    "fig, ax = plt.subplots(figsize=(3, 3))\r\n",
    "icon = requests.get(f\"http://openweathermap.org/img/wn/{current['weather'][0]['icon']}@2x.png\")\r\n",
    "im = Image.open(BytesIO(icon.content))\r\n",
    "plt.imshow(im)\r\n",
    "ax.set_axis_off()\r\n",
    "plt.show()\r\n",
    "\r\n",
    "print(f\"Today, sun rises at {ts2dt(current['sunrise'], '%H:%M')[0]} \\\r\n",
    "and sets at {ts2dt(current['sunset'], '%H:%M')[0]}.\\n\\\r\n",
    "Currently, the weather is {current['weather'][0]['main']} ({current['weather'][0]['description']}).\\n\\\r\n",
    "The temperature is {current['temp']}°C and it feels like {current['feels_like']}°C.\\n\\\r\n",
    "The UV index is {current['uvi']}, humidity is {current['humidity']}%.\\n\\\r\n",
    "The pressure is {current['pressure']} hPa, percentage of cloud cover is {current['clouds']}%\\n\\\r\n",
    "The wind comes from {degrees_to_cardinal(current['wind_deg'])} direction with a speed {current['wind_speed']} m/s.\")"
   ]
  },
  {
   "cell_type": "code",
   "execution_count": 8,
   "metadata": {
    "execution": {
     "iopub.execute_input": "2021-08-27T10:17:21.932008Z",
     "iopub.status.busy": "2021-08-27T10:17:21.930950Z",
     "iopub.status.idle": "2021-08-27T10:17:21.937437Z",
     "shell.execute_reply": "2021-08-27T10:17:21.938088Z"
    }
   },
   "outputs": [],
   "source": [
    "df_hourly = pd.DataFrame(data['hourly'])\r\n",
    "df_daily = pd.DataFrame(data['daily'])"
   ]
  },
  {
   "cell_type": "code",
   "execution_count": 9,
   "metadata": {
    "execution": {
     "iopub.execute_input": "2021-08-27T10:17:21.941174Z",
     "iopub.status.busy": "2021-08-27T10:17:21.940164Z",
     "iopub.status.idle": "2021-08-27T10:17:22.193492Z",
     "shell.execute_reply": "2021-08-27T10:17:22.193007Z"
    }
   },
   "outputs": [
    {
     "data": {
      "image/png": "[encoded data removed]",
      "text/plain": [
       "<Figure size 864x432 with 1 Axes>"
      ]
     },
     "metadata": {
      "needs_background": "light"
     },
     "output_type": "display_data"
    }
   ],
   "source": [
    "fig, ax = plt.subplots(figsize=(12, 6))\r\n",
    "plt.plot(df_hourly.temp, '.-', label='Temperature')\r\n",
    "plt.plot(df_hourly.feels_like, '.-', label='Feels Like')\r\n",
    "ax.set(title='Temperature in future 48 hours', xlabel='Time', ylabel='Temperature')\r\n",
    "ax.set_xticks(list(range(0, len(df_hourly), 2)))\r\n",
    "ax.set_xticklabels([ts2dt(ts, '%m-%d %H:%M')[0] for i, ts in enumerate(df_hourly.dt) if i%2==0], \r\n",
    "                   rotation=45, ha=\"right\")\r\n",
    "ax.locator_params(nbins=15, axis='y')\r\n",
    "plt.legend()\r\n",
    "plt.show()"
   ]
  },
  {
   "cell_type": "code",
   "execution_count": 10,
   "metadata": {
    "execution": {
     "iopub.execute_input": "2021-08-27T10:17:22.204710Z",
     "iopub.status.busy": "2021-08-27T10:17:22.197410Z",
     "iopub.status.idle": "2021-08-27T10:17:22.215577Z",
     "shell.execute_reply": "2021-08-27T10:17:22.215204Z"
    }
   },
   "outputs": [
    {
     "data": {
      "text/html": [
       "<div>\n",
       "<style scoped>\n",
       "    .dataframe tbody tr th:only-of-type {\n",
       "        vertical-align: middle;\n",
       "    }\n",
       "\n",
       "    .dataframe tbody tr th {\n",
       "        vertical-align: top;\n",
       "    }\n",
       "\n",
       "    .dataframe thead th {\n",
       "        text-align: right;\n",
       "    }\n",
       "</style>\n",
       "<table border=\"1\" class=\"dataframe\">\n",
       "  <thead>\n",
       "    <tr style=\"text-align: right;\">\n",
       "      <th></th>\n",
       "      <th>dt</th>\n",
       "      <th>temp</th>\n",
       "      <th>feels_like</th>\n",
       "      <th>pressure</th>\n",
       "      <th>humidity</th>\n",
       "      <th>dew_point</th>\n",
       "      <th>uvi</th>\n",
       "      <th>clouds</th>\n",
       "      <th>visibility</th>\n",
       "      <th>wind_speed</th>\n",
       "      <th>wind_deg</th>\n",
       "      <th>wind_gust</th>\n",
       "      <th>weather</th>\n",
       "      <th>pop</th>\n",
       "      <th>rain</th>\n",
       "    </tr>\n",
       "  </thead>\n",
       "  <tbody>\n",
       "    <tr>\n",
       "      <th>0</th>\n",
       "      <td>1630058400</td>\n",
       "      <td>24.75</td>\n",
       "      <td>25.26</td>\n",
       "      <td>1010</td>\n",
       "      <td>76</td>\n",
       "      <td>20.23</td>\n",
       "      <td>0.17</td>\n",
       "      <td>61</td>\n",
       "      <td>10000</td>\n",
       "      <td>6.00</td>\n",
       "      <td>105</td>\n",
       "      <td>7.86</td>\n",
       "      <td>[{'id': 500, 'main': 'Rain', 'description': 'l...</td>\n",
       "      <td>0.24</td>\n",
       "      <td>{'1h': 0.27}</td>\n",
       "    </tr>\n",
       "    <tr>\n",
       "      <th>1</th>\n",
       "      <td>1630062000</td>\n",
       "      <td>25.46</td>\n",
       "      <td>26.07</td>\n",
       "      <td>1010</td>\n",
       "      <td>77</td>\n",
       "      <td>21.13</td>\n",
       "      <td>0.00</td>\n",
       "      <td>59</td>\n",
       "      <td>10000</td>\n",
       "      <td>5.95</td>\n",
       "      <td>108</td>\n",
       "      <td>8.04</td>\n",
       "      <td>[{'id': 502, 'main': 'Rain', 'description': 'h...</td>\n",
       "      <td>0.36</td>\n",
       "      <td>{'1h': 7.49}</td>\n",
       "    </tr>\n",
       "    <tr>\n",
       "      <th>2</th>\n",
       "      <td>1630065600</td>\n",
       "      <td>26.11</td>\n",
       "      <td>26.11</td>\n",
       "      <td>1010</td>\n",
       "      <td>78</td>\n",
       "      <td>21.97</td>\n",
       "      <td>0.00</td>\n",
       "      <td>57</td>\n",
       "      <td>10000</td>\n",
       "      <td>5.97</td>\n",
       "      <td>110</td>\n",
       "      <td>8.17</td>\n",
       "      <td>[{'id': 502, 'main': 'Rain', 'description': 'h...</td>\n",
       "      <td>0.47</td>\n",
       "      <td>{'1h': 7.49}</td>\n",
       "    </tr>\n",
       "    <tr>\n",
       "      <th>3</th>\n",
       "      <td>1630069200</td>\n",
       "      <td>26.65</td>\n",
       "      <td>26.65</td>\n",
       "      <td>1011</td>\n",
       "      <td>79</td>\n",
       "      <td>22.71</td>\n",
       "      <td>0.00</td>\n",
       "      <td>45</td>\n",
       "      <td>10000</td>\n",
       "      <td>5.52</td>\n",
       "      <td>108</td>\n",
       "      <td>7.93</td>\n",
       "      <td>[{'id': 501, 'main': 'Rain', 'description': 'm...</td>\n",
       "      <td>0.73</td>\n",
       "      <td>{'1h': 1.25}</td>\n",
       "    </tr>\n",
       "    <tr>\n",
       "      <th>4</th>\n",
       "      <td>1630072800</td>\n",
       "      <td>27.19</td>\n",
       "      <td>30.17</td>\n",
       "      <td>1012</td>\n",
       "      <td>80</td>\n",
       "      <td>23.44</td>\n",
       "      <td>0.00</td>\n",
       "      <td>33</td>\n",
       "      <td>10000</td>\n",
       "      <td>5.07</td>\n",
       "      <td>108</td>\n",
       "      <td>7.48</td>\n",
       "      <td>[{'id': 501, 'main': 'Rain', 'description': 'm...</td>\n",
       "      <td>0.77</td>\n",
       "      <td>{'1h': 1.47}</td>\n",
       "    </tr>\n",
       "  </tbody>\n",
       "</table>\n",
       "</div>"
      ],
      "text/plain": [
       "           dt   temp  feels_like  pressure  humidity  dew_point   uvi  clouds  \\\n",
       "0  1630058400  24.75       25.26      1010        76      20.23  0.17      61   \n",
       "1  1630062000  25.46       26.07      1010        77      21.13  0.00      59   \n",
       "2  1630065600  26.11       26.11      1010        78      21.97  0.00      57   \n",
       "3  1630069200  26.65       26.65      1011        79      22.71  0.00      45   \n",
       "4  1630072800  27.19       30.17      1012        80      23.44  0.00      33   \n",
       "\n",
       "   visibility  wind_speed  wind_deg  wind_gust  \\\n",
       "0       10000        6.00       105       7.86   \n",
       "1       10000        5.95       108       8.04   \n",
       "2       10000        5.97       110       8.17   \n",
       "3       10000        5.52       108       7.93   \n",
       "4       10000        5.07       108       7.48   \n",
       "\n",
       "                                             weather   pop          rain  \n",
       "0  [{'id': 500, 'main': 'Rain', 'description': 'l...  0.24  {'1h': 0.27}  \n",
       "1  [{'id': 502, 'main': 'Rain', 'description': 'h...  0.36  {'1h': 7.49}  \n",
       "2  [{'id': 502, 'main': 'Rain', 'description': 'h...  0.47  {'1h': 7.49}  \n",
       "3  [{'id': 501, 'main': 'Rain', 'description': 'm...  0.73  {'1h': 1.25}  \n",
       "4  [{'id': 501, 'main': 'Rain', 'description': 'm...  0.77  {'1h': 1.47}  "
      ]
     },
     "execution_count": 10,
     "metadata": {},
     "output_type": "execute_result"
    }
   ],
   "source": [
    "df_hourly.head()"
   ]
  },
  {
   "cell_type": "code",
   "execution_count": null,
   "metadata": {},
   "outputs": [],
   "source": []
  }
 ],
 "metadata": {
  "interpreter": {
   "hash": "c1b4cfe941b6d2466ad1fb5979e97da9cda8801728c8091b097ab734208fc00c"
  },
  "kernelspec": {
   "display_name": "Python 3.8.3 64-bit ('base': conda)",
   "name": "python3"
  },
  "language_info": {
   "codemirror_mode": {
    "name": "ipython",
    "version": 3
   },
   "file_extension": ".py",
   "mimetype": "text/x-python",
   "name": "python",
   "nbconvert_exporter": "python",
   "pygments_lexer": "ipython3",
   "version": "3.8.11"
  }
 },
 "nbformat": 4,
 "nbformat_minor": 2
}
