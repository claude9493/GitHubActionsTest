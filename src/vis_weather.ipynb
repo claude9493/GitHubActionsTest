{
 "cells": [
  {
   "cell_type": "code",
   "execution_count": 1,
   "metadata": {
    "execution": {
     "iopub.execute_input": "2021-08-23T12:58:57.986247Z",
     "iopub.status.busy": "2021-08-23T12:58:57.985595Z",
     "iopub.status.idle": "2021-08-23T12:58:59.812359Z",
     "shell.execute_reply": "2021-08-23T12:58:59.811394Z"
    }
   },
   "outputs": [],
   "source": [
    "import json, yaml, requests\r\n",
    "from datetime import datetime\r\n",
    "from dateutil import tz\r\n",
    "import pandas as pd\r\n",
    "from PIL import Image\r\n",
    "from io import BytesIO\r\n",
    "import matplotlib.pyplot as plt\r\n",
    "import seaborn\r\n",
    "\r\n",
    "CONFIG_PATH = \"../config/config.yaml\""
   ]
  },
  {
   "cell_type": "code",
   "execution_count": 2,
   "metadata": {
    "execution": {
     "iopub.execute_input": "2021-08-23T12:58:59.817635Z",
     "iopub.status.busy": "2021-08-23T12:58:59.817046Z",
     "iopub.status.idle": "2021-08-23T12:58:59.822851Z",
     "shell.execute_reply": "2021-08-23T12:58:59.822290Z"
    }
   },
   "outputs": [],
   "source": [
    "with open('../newest_ts', 'r') as f:\r\n",
    "    newest_ts = f.read()\r\n",
    "\r\n",
    "data_path = f\"../data/data_{newest_ts}.json\"\r\n",
    "with open(data_path, 'r') as f:\r\n",
    "    data = json.load(f)\r\n",
    "\r\n",
    "with open(CONFIG_PATH, \"r\") as stream:\r\n",
    "    config = yaml.safe_load(stream)\r\n",
    "\r\n",
    "TIME_ZONE = config['time_zone']\r\n",
    "DATETIME_FORMAT = config['dt_format']"
   ]
  },
  {
   "cell_type": "code",
   "execution_count": 3,
   "metadata": {
    "execution": {
     "iopub.execute_input": "2021-08-23T12:58:59.827706Z",
     "iopub.status.busy": "2021-08-23T12:58:59.826859Z",
     "iopub.status.idle": "2021-08-23T12:58:59.831693Z",
     "shell.execute_reply": "2021-08-23T12:58:59.832542Z"
    }
   },
   "outputs": [
    {
     "name": "stdout",
     "output_type": "stream",
     "text": [
      "Recent query happens at 2021-08-23 20:58:55 (CST).\n"
     ]
    }
   ],
   "source": [
    "def ts2dt(ts, format=DATETIME_FORMAT):\r\n",
    "    dt = (datetime.utcfromtimestamp(int(ts))\r\n",
    "                    .replace(tzinfo=tz.tzutc())\r\n",
    "                    # .astimezone(tz.tzlocal())\r\n",
    "                    .astimezone(tz.gettz(TIME_ZONE)))\r\n",
    "    return dt.strftime(format), dt\r\n",
    "\r\n",
    "_, newest_dt = ts2dt(newest_ts)\r\n",
    "print(f\"Recent query happens at {newest_dt.strftime(DATETIME_FORMAT)} ({newest_dt.tzname()}).\")"
   ]
  },
  {
   "cell_type": "code",
   "execution_count": 4,
   "metadata": {
    "execution": {
     "iopub.execute_input": "2021-08-23T12:58:59.838116Z",
     "iopub.status.busy": "2021-08-23T12:58:59.836799Z",
     "iopub.status.idle": "2021-08-23T12:58:59.838747Z",
     "shell.execute_reply": "2021-08-23T12:58:59.839197Z"
    }
   },
   "outputs": [],
   "source": [
    "def degrees_to_cardinal(d):\r\n",
    "  dirs = ['N', 'NNE', 'NE', 'ENE', 'E', 'ESE', 'SE', 'SSE', 'S', 'SSW', 'SW', 'WSW', 'W', 'WNW', 'NW', 'NNW']\r\n",
    "  ix = int(round(d / (360. / len(dirs))))\r\n",
    "  return dirs[ix % len(dirs)]"
   ]
  },
  {
   "cell_type": "code",
   "execution_count": 5,
   "metadata": {
    "execution": {
     "iopub.execute_input": "2021-08-23T12:58:59.844073Z",
     "iopub.status.busy": "2021-08-23T12:58:59.842654Z",
     "iopub.status.idle": "2021-08-23T12:58:59.844683Z",
     "shell.execute_reply": "2021-08-23T12:58:59.845157Z"
    }
   },
   "outputs": [],
   "source": [
    "# data.keys()"
   ]
  },
  {
   "cell_type": "code",
   "execution_count": 6,
   "metadata": {
    "execution": {
     "iopub.execute_input": "2021-08-23T12:58:59.849395Z",
     "iopub.status.busy": "2021-08-23T12:58:59.848095Z",
     "iopub.status.idle": "2021-08-23T12:58:59.850019Z",
     "shell.execute_reply": "2021-08-23T12:58:59.850546Z"
    }
   },
   "outputs": [],
   "source": [
    "# data['current']"
   ]
  },
  {
   "cell_type": "code",
   "execution_count": 7,
   "metadata": {
    "execution": {
     "iopub.execute_input": "2021-08-23T12:58:59.870195Z",
     "iopub.status.busy": "2021-08-23T12:58:59.856781Z",
     "iopub.status.idle": "2021-08-23T12:59:00.182421Z",
     "shell.execute_reply": "2021-08-23T12:59:00.183198Z"
    }
   },
   "outputs": [
    {
     "data": {
      "image/png": "[encoded data removed]",
      "text/plain": [
       "<Figure size 216x216 with 1 Axes>"
      ]
     },
     "metadata": {
      "needs_background": "light"
     },
     "output_type": "display_data"
    },
    {
     "name": "stdout",
     "output_type": "stream",
     "text": [
      "Today, sun rises at 06:03 and sets at 18:48.\n",
      "Currently, the weather is Clouds (broken clouds).\n",
      "The temperature is 30.15°C and it feels like 37.15°C.\n",
      "The UV index is 0, humidity is 79%.\n",
      "The pressure is 1008 hPa, percentage of cloud cover is 71%\n",
      "The wind comes from SSE direction with a speed 3.03 m/s.\n"
     ]
    }
   ],
   "source": [
    "current = data['current']\r\n",
    "\r\n",
    "fig, ax = plt.subplots(figsize=(3, 3))\r\n",
    "icon = requests.get(f\"http://openweathermap.org/img/wn/{current['weather'][0]['icon']}@2x.png\")\r\n",
    "im = Image.open(BytesIO(icon.content))\r\n",
    "plt.imshow(im)\r\n",
    "ax.set_axis_off()\r\n",
    "plt.show()\r\n",
    "\r\n",
    "print(f\"Today, sun rises at {ts2dt(current['sunrise'], '%H:%M')[0]} \\\r\n",
    "and sets at {ts2dt(current['sunset'], '%H:%M')[0]}.\\n\\\r\n",
    "Currently, the weather is {current['weather'][0]['main']} ({current['weather'][0]['description']}).\\n\\\r\n",
    "The temperature is {current['temp']}°C and it feels like {current['feels_like']}°C.\\n\\\r\n",
    "The UV index is {current['uvi']}, humidity is {current['humidity']}%.\\n\\\r\n",
    "The pressure is {current['pressure']} hPa, percentage of cloud cover is {current['clouds']}%\\n\\\r\n",
    "The wind comes from {degrees_to_cardinal(current['wind_deg'])} direction with a speed {current['wind_speed']} m/s.\")"
   ]
  },
  {
   "cell_type": "code",
   "execution_count": 8,
   "metadata": {
    "execution": {
     "iopub.execute_input": "2021-08-23T12:59:00.186668Z",
     "iopub.status.busy": "2021-08-23T12:59:00.186079Z",
     "iopub.status.idle": "2021-08-23T12:59:00.193185Z",
     "shell.execute_reply": "2021-08-23T12:59:00.193860Z"
    }
   },
   "outputs": [],
   "source": [
    "df_hourly = pd.DataFrame(data['hourly'])\r\n",
    "df_daily = pd.DataFrame(data['daily'])"
   ]
  },
  {
   "cell_type": "code",
   "execution_count": 9,
   "metadata": {
    "execution": {
     "iopub.execute_input": "2021-08-23T12:59:00.197331Z",
     "iopub.status.busy": "2021-08-23T12:59:00.196263Z",
     "iopub.status.idle": "2021-08-23T12:59:00.502737Z",
     "shell.execute_reply": "2021-08-23T12:59:00.502262Z"
    }
   },
   "outputs": [
    {
     "data": {
      "image/png": "[encoded data removed]",
      "text/plain": [
       "<Figure size 864x432 with 1 Axes>"
      ]
     },
     "metadata": {
      "needs_background": "light"
     },
     "output_type": "display_data"
    }
   ],
   "source": [
    "fig, ax = plt.subplots(figsize=(12, 6))\r\n",
    "plt.plot(df_hourly.temp, '.-', label='Temperature')\r\n",
    "plt.plot(df_hourly.feels_like, '.-', label='Feels Like')\r\n",
    "ax.set(title='Temperature in future 48 hours', xlabel='Time', ylabel='Temperature')\r\n",
    "ax.set_xticks(list(range(0, len(df_hourly), 2)))\r\n",
    "ax.set_xticklabels([ts2dt(ts, '%m-%d %H:%M')[0] for i, ts in enumerate(df_hourly.dt) if i%2==0], \r\n",
    "                   rotation=45, ha=\"right\")\r\n",
    "ax.locator_params(nbins=15, axis='y')\r\n",
    "plt.legend()\r\n",
    "plt.show()"
   ]
  },
  {
   "cell_type": "code",
   "execution_count": 10,
   "metadata": {
    "execution": {
     "iopub.execute_input": "2021-08-23T12:59:00.507113Z",
     "iopub.status.busy": "2021-08-23T12:59:00.506604Z",
     "iopub.status.idle": "2021-08-23T12:59:00.525489Z",
     "shell.execute_reply": "2021-08-23T12:59:00.525999Z"
    }
   },
   "outputs": [
    {
     "data": {
      "text/html": [
       "<div>\n",
       "<style scoped>\n",
       "    .dataframe tbody tr th:only-of-type {\n",
       "        vertical-align: middle;\n",
       "    }\n",
       "\n",
       "    .dataframe tbody tr th {\n",
       "        vertical-align: top;\n",
       "    }\n",
       "\n",
       "    .dataframe thead th {\n",
       "        text-align: right;\n",
       "    }\n",
       "</style>\n",
       "<table border=\"1\" class=\"dataframe\">\n",
       "  <thead>\n",
       "    <tr style=\"text-align: right;\">\n",
       "      <th></th>\n",
       "      <th>dt</th>\n",
       "      <th>temp</th>\n",
       "      <th>feels_like</th>\n",
       "      <th>pressure</th>\n",
       "      <th>humidity</th>\n",
       "      <th>dew_point</th>\n",
       "      <th>uvi</th>\n",
       "      <th>clouds</th>\n",
       "      <th>visibility</th>\n",
       "      <th>wind_speed</th>\n",
       "      <th>wind_deg</th>\n",
       "      <th>wind_gust</th>\n",
       "      <th>weather</th>\n",
       "      <th>pop</th>\n",
       "      <th>rain</th>\n",
       "    </tr>\n",
       "  </thead>\n",
       "  <tbody>\n",
       "    <tr>\n",
       "      <th>0</th>\n",
       "      <td>1629720000</td>\n",
       "      <td>29.82</td>\n",
       "      <td>36.82</td>\n",
       "      <td>1008</td>\n",
       "      <td>80</td>\n",
       "      <td>25.99</td>\n",
       "      <td>0.0</td>\n",
       "      <td>76</td>\n",
       "      <td>10000</td>\n",
       "      <td>3.04</td>\n",
       "      <td>176</td>\n",
       "      <td>4.50</td>\n",
       "      <td>[{'id': 803, 'main': 'Clouds', 'description': ...</td>\n",
       "      <td>0.03</td>\n",
       "      <td>NaN</td>\n",
       "    </tr>\n",
       "    <tr>\n",
       "      <th>1</th>\n",
       "      <td>1629723600</td>\n",
       "      <td>30.15</td>\n",
       "      <td>37.15</td>\n",
       "      <td>1008</td>\n",
       "      <td>79</td>\n",
       "      <td>26.10</td>\n",
       "      <td>0.0</td>\n",
       "      <td>71</td>\n",
       "      <td>10000</td>\n",
       "      <td>3.03</td>\n",
       "      <td>160</td>\n",
       "      <td>4.77</td>\n",
       "      <td>[{'id': 803, 'main': 'Clouds', 'description': ...</td>\n",
       "      <td>0.05</td>\n",
       "      <td>NaN</td>\n",
       "    </tr>\n",
       "    <tr>\n",
       "      <th>2</th>\n",
       "      <td>1629727200</td>\n",
       "      <td>29.80</td>\n",
       "      <td>36.80</td>\n",
       "      <td>1008</td>\n",
       "      <td>80</td>\n",
       "      <td>25.97</td>\n",
       "      <td>0.0</td>\n",
       "      <td>70</td>\n",
       "      <td>10000</td>\n",
       "      <td>3.25</td>\n",
       "      <td>157</td>\n",
       "      <td>4.79</td>\n",
       "      <td>[{'id': 803, 'main': 'Clouds', 'description': ...</td>\n",
       "      <td>0.18</td>\n",
       "      <td>NaN</td>\n",
       "    </tr>\n",
       "    <tr>\n",
       "      <th>3</th>\n",
       "      <td>1629730800</td>\n",
       "      <td>29.41</td>\n",
       "      <td>36.15</td>\n",
       "      <td>1008</td>\n",
       "      <td>81</td>\n",
       "      <td>25.80</td>\n",
       "      <td>0.0</td>\n",
       "      <td>72</td>\n",
       "      <td>10000</td>\n",
       "      <td>3.53</td>\n",
       "      <td>158</td>\n",
       "      <td>4.61</td>\n",
       "      <td>[{'id': 803, 'main': 'Clouds', 'description': ...</td>\n",
       "      <td>0.22</td>\n",
       "      <td>NaN</td>\n",
       "    </tr>\n",
       "    <tr>\n",
       "      <th>4</th>\n",
       "      <td>1629734400</td>\n",
       "      <td>28.96</td>\n",
       "      <td>35.07</td>\n",
       "      <td>1008</td>\n",
       "      <td>82</td>\n",
       "      <td>25.57</td>\n",
       "      <td>0.0</td>\n",
       "      <td>76</td>\n",
       "      <td>10000</td>\n",
       "      <td>3.37</td>\n",
       "      <td>159</td>\n",
       "      <td>4.63</td>\n",
       "      <td>[{'id': 803, 'main': 'Clouds', 'description': ...</td>\n",
       "      <td>0.22</td>\n",
       "      <td>NaN</td>\n",
       "    </tr>\n",
       "  </tbody>\n",
       "</table>\n",
       "</div>"
      ],
      "text/plain": [
       "           dt   temp  feels_like  pressure  humidity  dew_point  uvi  clouds  \\\n",
       "0  1629720000  29.82       36.82      1008        80      25.99  0.0      76   \n",
       "1  1629723600  30.15       37.15      1008        79      26.10  0.0      71   \n",
       "2  1629727200  29.80       36.80      1008        80      25.97  0.0      70   \n",
       "3  1629730800  29.41       36.15      1008        81      25.80  0.0      72   \n",
       "4  1629734400  28.96       35.07      1008        82      25.57  0.0      76   \n",
       "\n",
       "   visibility  wind_speed  wind_deg  wind_gust  \\\n",
       "0       10000        3.04       176       4.50   \n",
       "1       10000        3.03       160       4.77   \n",
       "2       10000        3.25       157       4.79   \n",
       "3       10000        3.53       158       4.61   \n",
       "4       10000        3.37       159       4.63   \n",
       "\n",
       "                                             weather   pop rain  \n",
       "0  [{'id': 803, 'main': 'Clouds', 'description': ...  0.03  NaN  \n",
       "1  [{'id': 803, 'main': 'Clouds', 'description': ...  0.05  NaN  \n",
       "2  [{'id': 803, 'main': 'Clouds', 'description': ...  0.18  NaN  \n",
       "3  [{'id': 803, 'main': 'Clouds', 'description': ...  0.22  NaN  \n",
       "4  [{'id': 803, 'main': 'Clouds', 'description': ...  0.22  NaN  "
      ]
     },
     "execution_count": 10,
     "metadata": {},
     "output_type": "execute_result"
    }
   ],
   "source": [
    "df_hourly.head()"
   ]
  },
  {
   "cell_type": "code",
   "execution_count": null,
   "metadata": {},
   "outputs": [],
   "source": []
  }
 ],
 "metadata": {
  "interpreter": {
   "hash": "c1b4cfe941b6d2466ad1fb5979e97da9cda8801728c8091b097ab734208fc00c"
  },
  "kernelspec": {
   "display_name": "Python 3.8.3 64-bit ('base': conda)",
   "name": "python3"
  },
  "language_info": {
   "codemirror_mode": {
    "name": "ipython",
    "version": 3
   },
   "file_extension": ".py",
   "mimetype": "text/x-python",
   "name": "python",
   "nbconvert_exporter": "python",
   "pygments_lexer": "ipython3",
   "version": "3.8.11"
  }
 },
 "nbformat": 4,
 "nbformat_minor": 2
}
