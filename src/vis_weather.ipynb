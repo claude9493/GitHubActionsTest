{
 "cells": [
  {
   "cell_type": "code",
   "execution_count": 1,
   "metadata": {
    "execution": {
     "iopub.execute_input": "2021-09-10T10:41:00.557174Z",
     "iopub.status.busy": "2021-09-10T10:41:00.556415Z",
     "iopub.status.idle": "2021-09-10T10:41:04.452772Z",
     "shell.execute_reply": "2021-09-10T10:41:04.453238Z"
    }
   },
   "outputs": [],
   "source": [
    "import json, yaml, requests\r\n",
    "from datetime import datetime\r\n",
    "from dateutil import tz\r\n",
    "import pandas as pd\r\n",
    "from PIL import Image\r\n",
    "from io import BytesIO\r\n",
    "import matplotlib.pyplot as plt\r\n",
    "import seaborn\r\n",
    "\r\n",
    "CONFIG_PATH = \"../config/config.yaml\""
   ]
  },
  {
   "cell_type": "code",
   "execution_count": 2,
   "metadata": {
    "execution": {
     "iopub.execute_input": "2021-09-10T10:41:04.462072Z",
     "iopub.status.busy": "2021-09-10T10:41:04.459004Z",
     "iopub.status.idle": "2021-09-10T10:41:04.464965Z",
     "shell.execute_reply": "2021-09-10T10:41:04.464538Z"
    }
   },
   "outputs": [],
   "source": [
    "with open('../newest_ts', 'r') as f:\r\n",
    "    newest_ts = f.read()\r\n",
    "\r\n",
    "data_path = f\"../data/data_{newest_ts}.json\"\r\n",
    "with open(data_path, 'r') as f:\r\n",
    "    data = json.load(f)\r\n",
    "\r\n",
    "with open(CONFIG_PATH, \"r\") as stream:\r\n",
    "    config = yaml.safe_load(stream)\r\n",
    "\r\n",
    "TIME_ZONE = config['time_zone']\r\n",
    "DATETIME_FORMAT = config['dt_format']"
   ]
  },
  {
   "cell_type": "code",
   "execution_count": 3,
   "metadata": {
    "execution": {
     "iopub.execute_input": "2021-09-10T10:41:04.470094Z",
     "iopub.status.busy": "2021-09-10T10:41:04.469594Z",
     "iopub.status.idle": "2021-09-10T10:41:04.519182Z",
     "shell.execute_reply": "2021-09-10T10:41:04.518707Z"
    }
   },
   "outputs": [
    {
     "name": "stdout",
     "output_type": "stream",
     "text": [
      "Recent query happens at 2021-09-10 18:40:57 (CST).\n"
     ]
    }
   ],
   "source": [
    "def ts2dt(ts, format=DATETIME_FORMAT):\r\n",
    "    dt = (datetime.utcfromtimestamp(int(ts))\r\n",
    "                    .replace(tzinfo=tz.tzutc())\r\n",
    "                    # .astimezone(tz.tzlocal())\r\n",
    "                    .astimezone(tz.gettz(TIME_ZONE)))\r\n",
    "    return dt.strftime(format), dt\r\n",
    "\r\n",
    "_, newest_dt = ts2dt(newest_ts)\r\n",
    "print(f\"Recent query happens at {newest_dt.strftime(DATETIME_FORMAT)} ({newest_dt.tzname()}).\")"
   ]
  },
  {
   "cell_type": "code",
   "execution_count": 4,
   "metadata": {
    "execution": {
     "iopub.execute_input": "2021-09-10T10:41:04.524323Z",
     "iopub.status.busy": "2021-09-10T10:41:04.523824Z",
     "iopub.status.idle": "2021-09-10T10:41:04.526016Z",
     "shell.execute_reply": "2021-09-10T10:41:04.525601Z"
    }
   },
   "outputs": [],
   "source": [
    "def degrees_to_cardinal(d):\r\n",
    "  dirs = ['N', 'NNE', 'NE', 'ENE', 'E', 'ESE', 'SE', 'SSE', 'S', 'SSW', 'SW', 'WSW', 'W', 'WNW', 'NW', 'NNW']\r\n",
    "  ix = int(round(d / (360. / len(dirs))))\r\n",
    "  return dirs[ix % len(dirs)]"
   ]
  },
  {
   "cell_type": "code",
   "execution_count": 5,
   "metadata": {
    "execution": {
     "iopub.execute_input": "2021-09-10T10:41:04.530695Z",
     "iopub.status.busy": "2021-09-10T10:41:04.529634Z",
     "iopub.status.idle": "2021-09-10T10:41:04.531240Z",
     "shell.execute_reply": "2021-09-10T10:41:04.531614Z"
    }
   },
   "outputs": [],
   "source": [
    "# data.keys()"
   ]
  },
  {
   "cell_type": "code",
   "execution_count": 6,
   "metadata": {
    "execution": {
     "iopub.execute_input": "2021-09-10T10:41:04.535824Z",
     "iopub.status.busy": "2021-09-10T10:41:04.534781Z",
     "iopub.status.idle": "2021-09-10T10:41:04.536367Z",
     "shell.execute_reply": "2021-09-10T10:41:04.536740Z"
    }
   },
   "outputs": [],
   "source": [
    "# data['current']"
   ]
  },
  {
   "cell_type": "code",
   "execution_count": 7,
   "metadata": {
    "execution": {
     "iopub.execute_input": "2021-09-10T10:41:04.555552Z",
     "iopub.status.busy": "2021-09-10T10:41:04.555016Z",
     "iopub.status.idle": "2021-09-10T10:41:04.880986Z",
     "shell.execute_reply": "2021-09-10T10:41:04.881457Z"
    }
   },
   "outputs": [
    {
     "data": {
      "image/png": "[encoded data removed]",
      "text/plain": [
       "<Figure size 216x216 with 1 Axes>"
      ]
     },
     "metadata": {
      "needs_background": "light"
     },
     "output_type": "display_data"
    },
    {
     "name": "stdout",
     "output_type": "stream",
     "text": [
      "Today, sun rises at 06:08 and sets at 18:32.\n",
      "Currently, the weather is Clouds (scattered clouds).\n",
      "The temperature is 31.86°C and it feels like 38.86°C.\n",
      "The UV index is 0, humidity is 82%.\n",
      "The pressure is 1006 hPa, percentage of cloud cover is 35%\n",
      "The wind comes from ESE direction with a speed 2.67 m/s.\n"
     ]
    }
   ],
   "source": [
    "current = data['current']\r\n",
    "\r\n",
    "fig, ax = plt.subplots(figsize=(3, 3))\r\n",
    "icon = requests.get(f\"http://openweathermap.org/img/wn/{current['weather'][0]['icon']}@2x.png\")\r\n",
    "im = Image.open(BytesIO(icon.content))\r\n",
    "plt.imshow(im)\r\n",
    "ax.set_axis_off()\r\n",
    "plt.show()\r\n",
    "\r\n",
    "print(f\"Today, sun rises at {ts2dt(current['sunrise'], '%H:%M')[0]} \\\r\n",
    "and sets at {ts2dt(current['sunset'], '%H:%M')[0]}.\\n\\\r\n",
    "Currently, the weather is {current['weather'][0]['main']} ({current['weather'][0]['description']}).\\n\\\r\n",
    "The temperature is {current['temp']}°C and it feels like {current['feels_like']}°C.\\n\\\r\n",
    "The UV index is {current['uvi']}, humidity is {current['humidity']}%.\\n\\\r\n",
    "The pressure is {current['pressure']} hPa, percentage of cloud cover is {current['clouds']}%\\n\\\r\n",
    "The wind comes from {degrees_to_cardinal(current['wind_deg'])} direction with a speed {current['wind_speed']} m/s.\")"
   ]
  },
  {
   "cell_type": "code",
   "execution_count": 8,
   "metadata": {
    "execution": {
     "iopub.execute_input": "2021-09-10T10:41:04.884420Z",
     "iopub.status.busy": "2021-09-10T10:41:04.883917Z",
     "iopub.status.idle": "2021-09-10T10:41:04.889976Z",
     "shell.execute_reply": "2021-09-10T10:41:04.890438Z"
    }
   },
   "outputs": [],
   "source": [
    "df_hourly = pd.DataFrame(data['hourly'])\r\n",
    "df_daily = pd.DataFrame(data['daily'])"
   ]
  },
  {
   "cell_type": "code",
   "execution_count": 9,
   "metadata": {
    "execution": {
     "iopub.execute_input": "2021-09-10T10:41:04.893383Z",
     "iopub.status.busy": "2021-09-10T10:41:04.892903Z",
     "iopub.status.idle": "2021-09-10T10:41:05.157747Z",
     "shell.execute_reply": "2021-09-10T10:41:05.156754Z"
    }
   },
   "outputs": [
    {
     "data": {
      "image/png": "[encoded data removed]",
      "text/plain": [
       "<Figure size 864x432 with 1 Axes>"
      ]
     },
     "metadata": {
      "needs_background": "light"
     },
     "output_type": "display_data"
    }
   ],
   "source": [
    "fig, ax = plt.subplots(figsize=(12, 6))\r\n",
    "plt.plot(df_hourly.temp, '.-', label='Temperature')\r\n",
    "plt.plot(df_hourly.feels_like, '.-', label='Feels Like')\r\n",
    "ax.set(title='Temperature in future 48 hours', xlabel='Time', ylabel='Temperature')\r\n",
    "ax.set_xticks(list(range(0, len(df_hourly), 2)))\r\n",
    "ax.set_xticklabels([ts2dt(ts, '%m-%d %H:%M')[0] for i, ts in enumerate(df_hourly.dt) if i%2==0], \r\n",
    "                   rotation=45, ha=\"right\")\r\n",
    "ax.locator_params(nbins=15, axis='y')\r\n",
    "plt.legend()\r\n",
    "plt.show()"
   ]
  },
  {
   "cell_type": "code",
   "execution_count": 10,
   "metadata": {
    "execution": {
     "iopub.execute_input": "2021-09-10T10:41:05.171133Z",
     "iopub.status.busy": "2021-09-10T10:41:05.162223Z",
     "iopub.status.idle": "2021-09-10T10:41:05.182338Z",
     "shell.execute_reply": "2021-09-10T10:41:05.182734Z"
    }
   },
   "outputs": [
    {
     "data": {
      "text/html": [
       "<div>\n",
       "<style scoped>\n",
       "    .dataframe tbody tr th:only-of-type {\n",
       "        vertical-align: middle;\n",
       "    }\n",
       "\n",
       "    .dataframe tbody tr th {\n",
       "        vertical-align: top;\n",
       "    }\n",
       "\n",
       "    .dataframe thead th {\n",
       "        text-align: right;\n",
       "    }\n",
       "</style>\n",
       "<table border=\"1\" class=\"dataframe\">\n",
       "  <thead>\n",
       "    <tr style=\"text-align: right;\">\n",
       "      <th></th>\n",
       "      <th>dt</th>\n",
       "      <th>temp</th>\n",
       "      <th>feels_like</th>\n",
       "      <th>pressure</th>\n",
       "      <th>humidity</th>\n",
       "      <th>dew_point</th>\n",
       "      <th>uvi</th>\n",
       "      <th>clouds</th>\n",
       "      <th>visibility</th>\n",
       "      <th>wind_speed</th>\n",
       "      <th>wind_deg</th>\n",
       "      <th>wind_gust</th>\n",
       "      <th>weather</th>\n",
       "      <th>pop</th>\n",
       "      <th>rain</th>\n",
       "    </tr>\n",
       "  </thead>\n",
       "  <tbody>\n",
       "    <tr>\n",
       "      <th>0</th>\n",
       "      <td>1631268000</td>\n",
       "      <td>31.25</td>\n",
       "      <td>38.25</td>\n",
       "      <td>1006</td>\n",
       "      <td>81</td>\n",
       "      <td>27.60</td>\n",
       "      <td>0.17</td>\n",
       "      <td>36</td>\n",
       "      <td>10000</td>\n",
       "      <td>3.40</td>\n",
       "      <td>98</td>\n",
       "      <td>4.85</td>\n",
       "      <td>[{'id': 802, 'main': 'Clouds', 'description': ...</td>\n",
       "      <td>0.16</td>\n",
       "      <td>NaN</td>\n",
       "    </tr>\n",
       "    <tr>\n",
       "      <th>1</th>\n",
       "      <td>1631271600</td>\n",
       "      <td>31.86</td>\n",
       "      <td>38.86</td>\n",
       "      <td>1006</td>\n",
       "      <td>82</td>\n",
       "      <td>28.40</td>\n",
       "      <td>0.00</td>\n",
       "      <td>35</td>\n",
       "      <td>10000</td>\n",
       "      <td>2.67</td>\n",
       "      <td>104</td>\n",
       "      <td>3.99</td>\n",
       "      <td>[{'id': 802, 'main': 'Clouds', 'description': ...</td>\n",
       "      <td>0.18</td>\n",
       "      <td>NaN</td>\n",
       "    </tr>\n",
       "    <tr>\n",
       "      <th>2</th>\n",
       "      <td>1631275200</td>\n",
       "      <td>31.14</td>\n",
       "      <td>38.14</td>\n",
       "      <td>1006</td>\n",
       "      <td>83</td>\n",
       "      <td>27.91</td>\n",
       "      <td>0.00</td>\n",
       "      <td>34</td>\n",
       "      <td>10000</td>\n",
       "      <td>2.76</td>\n",
       "      <td>97</td>\n",
       "      <td>3.94</td>\n",
       "      <td>[{'id': 802, 'main': 'Clouds', 'description': ...</td>\n",
       "      <td>0.27</td>\n",
       "      <td>NaN</td>\n",
       "    </tr>\n",
       "    <tr>\n",
       "      <th>3</th>\n",
       "      <td>1631278800</td>\n",
       "      <td>30.42</td>\n",
       "      <td>37.42</td>\n",
       "      <td>1006</td>\n",
       "      <td>83</td>\n",
       "      <td>27.20</td>\n",
       "      <td>0.00</td>\n",
       "      <td>24</td>\n",
       "      <td>10000</td>\n",
       "      <td>2.88</td>\n",
       "      <td>91</td>\n",
       "      <td>4.04</td>\n",
       "      <td>[{'id': 801, 'main': 'Clouds', 'description': ...</td>\n",
       "      <td>0.14</td>\n",
       "      <td>NaN</td>\n",
       "    </tr>\n",
       "    <tr>\n",
       "      <th>4</th>\n",
       "      <td>1631282400</td>\n",
       "      <td>29.56</td>\n",
       "      <td>36.56</td>\n",
       "      <td>1007</td>\n",
       "      <td>83</td>\n",
       "      <td>26.36</td>\n",
       "      <td>0.00</td>\n",
       "      <td>18</td>\n",
       "      <td>10000</td>\n",
       "      <td>2.92</td>\n",
       "      <td>96</td>\n",
       "      <td>3.81</td>\n",
       "      <td>[{'id': 500, 'main': 'Rain', 'description': 'l...</td>\n",
       "      <td>0.55</td>\n",
       "      <td>{'1h': 0.28}</td>\n",
       "    </tr>\n",
       "  </tbody>\n",
       "</table>\n",
       "</div>"
      ],
      "text/plain": [
       "           dt   temp  feels_like  pressure  humidity  dew_point   uvi  clouds  \\\n",
       "0  1631268000  31.25       38.25      1006        81      27.60  0.17      36   \n",
       "1  1631271600  31.86       38.86      1006        82      28.40  0.00      35   \n",
       "2  1631275200  31.14       38.14      1006        83      27.91  0.00      34   \n",
       "3  1631278800  30.42       37.42      1006        83      27.20  0.00      24   \n",
       "4  1631282400  29.56       36.56      1007        83      26.36  0.00      18   \n",
       "\n",
       "   visibility  wind_speed  wind_deg  wind_gust  \\\n",
       "0       10000        3.40        98       4.85   \n",
       "1       10000        2.67       104       3.99   \n",
       "2       10000        2.76        97       3.94   \n",
       "3       10000        2.88        91       4.04   \n",
       "4       10000        2.92        96       3.81   \n",
       "\n",
       "                                             weather   pop          rain  \n",
       "0  [{'id': 802, 'main': 'Clouds', 'description': ...  0.16           NaN  \n",
       "1  [{'id': 802, 'main': 'Clouds', 'description': ...  0.18           NaN  \n",
       "2  [{'id': 802, 'main': 'Clouds', 'description': ...  0.27           NaN  \n",
       "3  [{'id': 801, 'main': 'Clouds', 'description': ...  0.14           NaN  \n",
       "4  [{'id': 500, 'main': 'Rain', 'description': 'l...  0.55  {'1h': 0.28}  "
      ]
     },
     "execution_count": 10,
     "metadata": {},
     "output_type": "execute_result"
    }
   ],
   "source": [
    "df_hourly.head()"
   ]
  },
  {
   "cell_type": "code",
   "execution_count": null,
   "metadata": {},
   "outputs": [],
   "source": []
  }
 ],
 "metadata": {
  "interpreter": {
   "hash": "c1b4cfe941b6d2466ad1fb5979e97da9cda8801728c8091b097ab734208fc00c"
  },
  "kernelspec": {
   "display_name": "Python 3.8.3 64-bit ('base': conda)",
   "name": "python3"
  },
  "language_info": {
   "codemirror_mode": {
    "name": "ipython",
    "version": 3
   },
   "file_extension": ".py",
   "mimetype": "text/x-python",
   "name": "python",
   "nbconvert_exporter": "python",
   "pygments_lexer": "ipython3",
   "version": "3.8.11"
  }
 },
 "nbformat": 4,
 "nbformat_minor": 2
}
