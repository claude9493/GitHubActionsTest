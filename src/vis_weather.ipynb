{
 "cells": [
  {
   "cell_type": "code",
   "execution_count": 1,
   "metadata": {
    "execution": {
     "iopub.execute_input": "2021-09-04T03:40:40.610722Z",
     "iopub.status.busy": "2021-09-04T03:40:40.610184Z",
     "iopub.status.idle": "2021-09-04T03:40:43.313255Z",
     "shell.execute_reply": "2021-09-04T03:40:43.313651Z"
    }
   },
   "outputs": [],
   "source": [
    "import json, yaml, requests\r\n",
    "from datetime import datetime\r\n",
    "from dateutil import tz\r\n",
    "import pandas as pd\r\n",
    "from PIL import Image\r\n",
    "from io import BytesIO\r\n",
    "import matplotlib.pyplot as plt\r\n",
    "import seaborn\r\n",
    "\r\n",
    "CONFIG_PATH = \"../config/config.yaml\""
   ]
  },
  {
   "cell_type": "code",
   "execution_count": 2,
   "metadata": {
    "execution": {
     "iopub.execute_input": "2021-09-04T03:40:43.318756Z",
     "iopub.status.busy": "2021-09-04T03:40:43.316185Z",
     "iopub.status.idle": "2021-09-04T03:40:43.324041Z",
     "shell.execute_reply": "2021-09-04T03:40:43.323632Z"
    }
   },
   "outputs": [],
   "source": [
    "with open('../newest_ts', 'r') as f:\r\n",
    "    newest_ts = f.read()\r\n",
    "\r\n",
    "data_path = f\"../data/data_{newest_ts}.json\"\r\n",
    "with open(data_path, 'r') as f:\r\n",
    "    data = json.load(f)\r\n",
    "\r\n",
    "with open(CONFIG_PATH, \"r\") as stream:\r\n",
    "    config = yaml.safe_load(stream)\r\n",
    "\r\n",
    "TIME_ZONE = config['time_zone']\r\n",
    "DATETIME_FORMAT = config['dt_format']"
   ]
  },
  {
   "cell_type": "code",
   "execution_count": 3,
   "metadata": {
    "execution": {
     "iopub.execute_input": "2021-09-04T03:40:43.328462Z",
     "iopub.status.busy": "2021-09-04T03:40:43.327739Z",
     "iopub.status.idle": "2021-09-04T03:40:43.338953Z",
     "shell.execute_reply": "2021-09-04T03:40:43.339340Z"
    }
   },
   "outputs": [
    {
     "name": "stdout",
     "output_type": "stream",
     "text": [
      "Recent query happens at 2021-09-04 11:40:37 (CST).\n"
     ]
    }
   ],
   "source": [
    "def ts2dt(ts, format=DATETIME_FORMAT):\r\n",
    "    dt = (datetime.utcfromtimestamp(int(ts))\r\n",
    "                    .replace(tzinfo=tz.tzutc())\r\n",
    "                    # .astimezone(tz.tzlocal())\r\n",
    "                    .astimezone(tz.gettz(TIME_ZONE)))\r\n",
    "    return dt.strftime(format), dt\r\n",
    "\r\n",
    "_, newest_dt = ts2dt(newest_ts)\r\n",
    "print(f\"Recent query happens at {newest_dt.strftime(DATETIME_FORMAT)} ({newest_dt.tzname()}).\")"
   ]
  },
  {
   "cell_type": "code",
   "execution_count": 4,
   "metadata": {
    "execution": {
     "iopub.execute_input": "2021-09-04T03:40:43.344752Z",
     "iopub.status.busy": "2021-09-04T03:40:43.343393Z",
     "iopub.status.idle": "2021-09-04T03:40:43.345305Z",
     "shell.execute_reply": "2021-09-04T03:40:43.345686Z"
    }
   },
   "outputs": [],
   "source": [
    "def degrees_to_cardinal(d):\r\n",
    "  dirs = ['N', 'NNE', 'NE', 'ENE', 'E', 'ESE', 'SE', 'SSE', 'S', 'SSW', 'SW', 'WSW', 'W', 'WNW', 'NW', 'NNW']\r\n",
    "  ix = int(round(d / (360. / len(dirs))))\r\n",
    "  return dirs[ix % len(dirs)]"
   ]
  },
  {
   "cell_type": "code",
   "execution_count": 5,
   "metadata": {
    "execution": {
     "iopub.execute_input": "2021-09-04T03:40:43.350214Z",
     "iopub.status.busy": "2021-09-04T03:40:43.348991Z",
     "iopub.status.idle": "2021-09-04T03:40:43.350815Z",
     "shell.execute_reply": "2021-09-04T03:40:43.351273Z"
    }
   },
   "outputs": [],
   "source": [
    "# data.keys()"
   ]
  },
  {
   "cell_type": "code",
   "execution_count": 6,
   "metadata": {
    "execution": {
     "iopub.execute_input": "2021-09-04T03:40:43.355404Z",
     "iopub.status.busy": "2021-09-04T03:40:43.354200Z",
     "iopub.status.idle": "2021-09-04T03:40:43.355915Z",
     "shell.execute_reply": "2021-09-04T03:40:43.356317Z"
    }
   },
   "outputs": [],
   "source": [
    "# data['current']"
   ]
  },
  {
   "cell_type": "code",
   "execution_count": 7,
   "metadata": {
    "execution": {
     "iopub.execute_input": "2021-09-04T03:40:43.374820Z",
     "iopub.status.busy": "2021-09-04T03:40:43.369423Z",
     "iopub.status.idle": "2021-09-04T03:40:43.948244Z",
     "shell.execute_reply": "2021-09-04T03:40:43.948995Z"
    }
   },
   "outputs": [
    {
     "data": {
      "image/png": "[encoded data removed]",
      "text/plain": [
       "<Figure size 216x216 with 1 Axes>"
      ]
     },
     "metadata": {
      "needs_background": "light"
     },
     "output_type": "display_data"
    },
    {
     "name": "stdout",
     "output_type": "stream",
     "text": [
      "Today, sun rises at 06:06 and sets at 18:37.\n",
      "Currently, the weather is Clouds (few clouds).\n",
      "The temperature is 30.29°C and it feels like 37.29°C.\n",
      "The UV index is 11.46, humidity is 80%.\n",
      "The pressure is 1008 hPa, percentage of cloud cover is 17%\n",
      "The wind comes from ESE direction with a speed 2.38 m/s.\n"
     ]
    }
   ],
   "source": [
    "current = data['current']\r\n",
    "\r\n",
    "fig, ax = plt.subplots(figsize=(3, 3))\r\n",
    "icon = requests.get(f\"http://openweathermap.org/img/wn/{current['weather'][0]['icon']}@2x.png\")\r\n",
    "im = Image.open(BytesIO(icon.content))\r\n",
    "plt.imshow(im)\r\n",
    "ax.set_axis_off()\r\n",
    "plt.show()\r\n",
    "\r\n",
    "print(f\"Today, sun rises at {ts2dt(current['sunrise'], '%H:%M')[0]} \\\r\n",
    "and sets at {ts2dt(current['sunset'], '%H:%M')[0]}.\\n\\\r\n",
    "Currently, the weather is {current['weather'][0]['main']} ({current['weather'][0]['description']}).\\n\\\r\n",
    "The temperature is {current['temp']}°C and it feels like {current['feels_like']}°C.\\n\\\r\n",
    "The UV index is {current['uvi']}, humidity is {current['humidity']}%.\\n\\\r\n",
    "The pressure is {current['pressure']} hPa, percentage of cloud cover is {current['clouds']}%\\n\\\r\n",
    "The wind comes from {degrees_to_cardinal(current['wind_deg'])} direction with a speed {current['wind_speed']} m/s.\")"
   ]
  },
  {
   "cell_type": "code",
   "execution_count": 8,
   "metadata": {
    "execution": {
     "iopub.execute_input": "2021-09-04T03:40:43.957486Z",
     "iopub.status.busy": "2021-09-04T03:40:43.954739Z",
     "iopub.status.idle": "2021-09-04T03:40:43.960073Z",
     "shell.execute_reply": "2021-09-04T03:40:43.960744Z"
    }
   },
   "outputs": [],
   "source": [
    "df_hourly = pd.DataFrame(data['hourly'])\r\n",
    "df_daily = pd.DataFrame(data['daily'])"
   ]
  },
  {
   "cell_type": "code",
   "execution_count": 9,
   "metadata": {
    "execution": {
     "iopub.execute_input": "2021-09-04T03:40:43.974102Z",
     "iopub.status.busy": "2021-09-04T03:40:43.973591Z",
     "iopub.status.idle": "2021-09-04T03:40:44.270675Z",
     "shell.execute_reply": "2021-09-04T03:40:44.270236Z"
    }
   },
   "outputs": [
    {
     "data": {
      "image/png": "[encoded data removed]",
      "text/plain": [
       "<Figure size 864x432 with 1 Axes>"
      ]
     },
     "metadata": {
      "needs_background": "light"
     },
     "output_type": "display_data"
    }
   ],
   "source": [
    "fig, ax = plt.subplots(figsize=(12, 6))\r\n",
    "plt.plot(df_hourly.temp, '.-', label='Temperature')\r\n",
    "plt.plot(df_hourly.feels_like, '.-', label='Feels Like')\r\n",
    "ax.set(title='Temperature in future 48 hours', xlabel='Time', ylabel='Temperature')\r\n",
    "ax.set_xticks(list(range(0, len(df_hourly), 2)))\r\n",
    "ax.set_xticklabels([ts2dt(ts, '%m-%d %H:%M')[0] for i, ts in enumerate(df_hourly.dt) if i%2==0], \r\n",
    "                   rotation=45, ha=\"right\")\r\n",
    "ax.locator_params(nbins=15, axis='y')\r\n",
    "plt.legend()\r\n",
    "plt.show()"
   ]
  },
  {
   "cell_type": "code",
   "execution_count": 10,
   "metadata": {
    "execution": {
     "iopub.execute_input": "2021-09-04T03:40:44.275088Z",
     "iopub.status.busy": "2021-09-04T03:40:44.274444Z",
     "iopub.status.idle": "2021-09-04T03:40:44.294700Z",
     "shell.execute_reply": "2021-09-04T03:40:44.294015Z"
    }
   },
   "outputs": [
    {
     "data": {
      "text/html": [
       "<div>\n",
       "<style scoped>\n",
       "    .dataframe tbody tr th:only-of-type {\n",
       "        vertical-align: middle;\n",
       "    }\n",
       "\n",
       "    .dataframe tbody tr th {\n",
       "        vertical-align: top;\n",
       "    }\n",
       "\n",
       "    .dataframe thead th {\n",
       "        text-align: right;\n",
       "    }\n",
       "</style>\n",
       "<table border=\"1\" class=\"dataframe\">\n",
       "  <thead>\n",
       "    <tr style=\"text-align: right;\">\n",
       "      <th></th>\n",
       "      <th>dt</th>\n",
       "      <th>temp</th>\n",
       "      <th>feels_like</th>\n",
       "      <th>pressure</th>\n",
       "      <th>humidity</th>\n",
       "      <th>dew_point</th>\n",
       "      <th>uvi</th>\n",
       "      <th>clouds</th>\n",
       "      <th>visibility</th>\n",
       "      <th>wind_speed</th>\n",
       "      <th>wind_deg</th>\n",
       "      <th>wind_gust</th>\n",
       "      <th>weather</th>\n",
       "      <th>pop</th>\n",
       "      <th>rain</th>\n",
       "    </tr>\n",
       "  </thead>\n",
       "  <tbody>\n",
       "    <tr>\n",
       "      <th>0</th>\n",
       "      <td>1630724400</td>\n",
       "      <td>30.14</td>\n",
       "      <td>37.14</td>\n",
       "      <td>1008</td>\n",
       "      <td>77</td>\n",
       "      <td>25.66</td>\n",
       "      <td>9.74</td>\n",
       "      <td>17</td>\n",
       "      <td>10000</td>\n",
       "      <td>1.79</td>\n",
       "      <td>115</td>\n",
       "      <td>1.80</td>\n",
       "      <td>[{'id': 500, 'main': 'Rain', 'description': 'l...</td>\n",
       "      <td>0.77</td>\n",
       "      <td>{'1h': 0.11}</td>\n",
       "    </tr>\n",
       "    <tr>\n",
       "      <th>1</th>\n",
       "      <td>1630728000</td>\n",
       "      <td>30.29</td>\n",
       "      <td>37.29</td>\n",
       "      <td>1008</td>\n",
       "      <td>80</td>\n",
       "      <td>26.45</td>\n",
       "      <td>11.46</td>\n",
       "      <td>17</td>\n",
       "      <td>10000</td>\n",
       "      <td>2.38</td>\n",
       "      <td>111</td>\n",
       "      <td>2.15</td>\n",
       "      <td>[{'id': 801, 'main': 'Clouds', 'description': ...</td>\n",
       "      <td>0.77</td>\n",
       "      <td>NaN</td>\n",
       "    </tr>\n",
       "    <tr>\n",
       "      <th>2</th>\n",
       "      <td>1630731600</td>\n",
       "      <td>30.26</td>\n",
       "      <td>37.26</td>\n",
       "      <td>1008</td>\n",
       "      <td>77</td>\n",
       "      <td>25.77</td>\n",
       "      <td>11.26</td>\n",
       "      <td>17</td>\n",
       "      <td>10000</td>\n",
       "      <td>3.05</td>\n",
       "      <td>107</td>\n",
       "      <td>2.58</td>\n",
       "      <td>[{'id': 801, 'main': 'Clouds', 'description': ...</td>\n",
       "      <td>0.73</td>\n",
       "      <td>NaN</td>\n",
       "    </tr>\n",
       "    <tr>\n",
       "      <th>3</th>\n",
       "      <td>1630735200</td>\n",
       "      <td>30.30</td>\n",
       "      <td>36.85</td>\n",
       "      <td>1008</td>\n",
       "      <td>74</td>\n",
       "      <td>25.14</td>\n",
       "      <td>9.32</td>\n",
       "      <td>17</td>\n",
       "      <td>10000</td>\n",
       "      <td>3.50</td>\n",
       "      <td>108</td>\n",
       "      <td>2.90</td>\n",
       "      <td>[{'id': 801, 'main': 'Clouds', 'description': ...</td>\n",
       "      <td>0.64</td>\n",
       "      <td>NaN</td>\n",
       "    </tr>\n",
       "    <tr>\n",
       "      <th>4</th>\n",
       "      <td>1630738800</td>\n",
       "      <td>30.24</td>\n",
       "      <td>35.89</td>\n",
       "      <td>1007</td>\n",
       "      <td>71</td>\n",
       "      <td>24.39</td>\n",
       "      <td>6.42</td>\n",
       "      <td>9</td>\n",
       "      <td>10000</td>\n",
       "      <td>3.89</td>\n",
       "      <td>112</td>\n",
       "      <td>3.45</td>\n",
       "      <td>[{'id': 800, 'main': 'Clear', 'description': '...</td>\n",
       "      <td>0.01</td>\n",
       "      <td>NaN</td>\n",
       "    </tr>\n",
       "  </tbody>\n",
       "</table>\n",
       "</div>"
      ],
      "text/plain": [
       "           dt   temp  feels_like  pressure  humidity  dew_point    uvi  \\\n",
       "0  1630724400  30.14       37.14      1008        77      25.66   9.74   \n",
       "1  1630728000  30.29       37.29      1008        80      26.45  11.46   \n",
       "2  1630731600  30.26       37.26      1008        77      25.77  11.26   \n",
       "3  1630735200  30.30       36.85      1008        74      25.14   9.32   \n",
       "4  1630738800  30.24       35.89      1007        71      24.39   6.42   \n",
       "\n",
       "   clouds  visibility  wind_speed  wind_deg  wind_gust  \\\n",
       "0      17       10000        1.79       115       1.80   \n",
       "1      17       10000        2.38       111       2.15   \n",
       "2      17       10000        3.05       107       2.58   \n",
       "3      17       10000        3.50       108       2.90   \n",
       "4       9       10000        3.89       112       3.45   \n",
       "\n",
       "                                             weather   pop          rain  \n",
       "0  [{'id': 500, 'main': 'Rain', 'description': 'l...  0.77  {'1h': 0.11}  \n",
       "1  [{'id': 801, 'main': 'Clouds', 'description': ...  0.77           NaN  \n",
       "2  [{'id': 801, 'main': 'Clouds', 'description': ...  0.73           NaN  \n",
       "3  [{'id': 801, 'main': 'Clouds', 'description': ...  0.64           NaN  \n",
       "4  [{'id': 800, 'main': 'Clear', 'description': '...  0.01           NaN  "
      ]
     },
     "execution_count": 10,
     "metadata": {},
     "output_type": "execute_result"
    }
   ],
   "source": [
    "df_hourly.head()"
   ]
  },
  {
   "cell_type": "code",
   "execution_count": null,
   "metadata": {},
   "outputs": [],
   "source": []
  }
 ],
 "metadata": {
  "interpreter": {
   "hash": "c1b4cfe941b6d2466ad1fb5979e97da9cda8801728c8091b097ab734208fc00c"
  },
  "kernelspec": {
   "display_name": "Python 3.8.3 64-bit ('base': conda)",
   "name": "python3"
  },
  "language_info": {
   "codemirror_mode": {
    "name": "ipython",
    "version": 3
   },
   "file_extension": ".py",
   "mimetype": "text/x-python",
   "name": "python",
   "nbconvert_exporter": "python",
   "pygments_lexer": "ipython3",
   "version": "3.8.11"
  }
 },
 "nbformat": 4,
 "nbformat_minor": 2
}
