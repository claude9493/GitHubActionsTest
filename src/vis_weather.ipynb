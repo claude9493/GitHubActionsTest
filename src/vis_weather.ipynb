{
 "cells": [
  {
   "cell_type": "code",
   "execution_count": 1,
   "metadata": {
    "execution": {
     "iopub.execute_input": "2021-09-05T21:37:22.281665Z",
     "iopub.status.busy": "2021-09-05T21:37:22.280901Z",
     "iopub.status.idle": "2021-09-05T21:37:24.729117Z",
     "shell.execute_reply": "2021-09-05T21:37:24.729614Z"
    }
   },
   "outputs": [],
   "source": [
    "import json, yaml, requests\r\n",
    "from datetime import datetime\r\n",
    "from dateutil import tz\r\n",
    "import pandas as pd\r\n",
    "from PIL import Image\r\n",
    "from io import BytesIO\r\n",
    "import matplotlib.pyplot as plt\r\n",
    "import seaborn\r\n",
    "\r\n",
    "CONFIG_PATH = \"../config/config.yaml\""
   ]
  },
  {
   "cell_type": "code",
   "execution_count": 2,
   "metadata": {
    "execution": {
     "iopub.execute_input": "2021-09-05T21:37:24.736306Z",
     "iopub.status.busy": "2021-09-05T21:37:24.735613Z",
     "iopub.status.idle": "2021-09-05T21:37:24.741881Z",
     "shell.execute_reply": "2021-09-05T21:37:24.741255Z"
    }
   },
   "outputs": [],
   "source": [
    "with open('../newest_ts', 'r') as f:\r\n",
    "    newest_ts = f.read()\r\n",
    "\r\n",
    "data_path = f\"../data/data_{newest_ts}.json\"\r\n",
    "with open(data_path, 'r') as f:\r\n",
    "    data = json.load(f)\r\n",
    "\r\n",
    "with open(CONFIG_PATH, \"r\") as stream:\r\n",
    "    config = yaml.safe_load(stream)\r\n",
    "\r\n",
    "TIME_ZONE = config['time_zone']\r\n",
    "DATETIME_FORMAT = config['dt_format']"
   ]
  },
  {
   "cell_type": "code",
   "execution_count": 3,
   "metadata": {
    "execution": {
     "iopub.execute_input": "2021-09-05T21:37:24.746924Z",
     "iopub.status.busy": "2021-09-05T21:37:24.746310Z",
     "iopub.status.idle": "2021-09-05T21:37:24.757463Z",
     "shell.execute_reply": "2021-09-05T21:37:24.757926Z"
    }
   },
   "outputs": [
    {
     "name": "stdout",
     "output_type": "stream",
     "text": [
      "Recent query happens at 2021-09-06 05:37:19 (CST).\n"
     ]
    }
   ],
   "source": [
    "def ts2dt(ts, format=DATETIME_FORMAT):\r\n",
    "    dt = (datetime.utcfromtimestamp(int(ts))\r\n",
    "                    .replace(tzinfo=tz.tzutc())\r\n",
    "                    # .astimezone(tz.tzlocal())\r\n",
    "                    .astimezone(tz.gettz(TIME_ZONE)))\r\n",
    "    return dt.strftime(format), dt\r\n",
    "\r\n",
    "_, newest_dt = ts2dt(newest_ts)\r\n",
    "print(f\"Recent query happens at {newest_dt.strftime(DATETIME_FORMAT)} ({newest_dt.tzname()}).\")"
   ]
  },
  {
   "cell_type": "code",
   "execution_count": 4,
   "metadata": {
    "execution": {
     "iopub.execute_input": "2021-09-05T21:37:24.763682Z",
     "iopub.status.busy": "2021-09-05T21:37:24.762293Z",
     "iopub.status.idle": "2021-09-05T21:37:24.764277Z",
     "shell.execute_reply": "2021-09-05T21:37:24.764712Z"
    }
   },
   "outputs": [],
   "source": [
    "def degrees_to_cardinal(d):\r\n",
    "  dirs = ['N', 'NNE', 'NE', 'ENE', 'E', 'ESE', 'SE', 'SSE', 'S', 'SSW', 'SW', 'WSW', 'W', 'WNW', 'NW', 'NNW']\r\n",
    "  ix = int(round(d / (360. / len(dirs))))\r\n",
    "  return dirs[ix % len(dirs)]"
   ]
  },
  {
   "cell_type": "code",
   "execution_count": 5,
   "metadata": {
    "execution": {
     "iopub.execute_input": "2021-09-05T21:37:24.769076Z",
     "iopub.status.busy": "2021-09-05T21:37:24.768082Z",
     "iopub.status.idle": "2021-09-05T21:37:24.769983Z",
     "shell.execute_reply": "2021-09-05T21:37:24.770459Z"
    }
   },
   "outputs": [],
   "source": [
    "# data.keys()"
   ]
  },
  {
   "cell_type": "code",
   "execution_count": 6,
   "metadata": {
    "execution": {
     "iopub.execute_input": "2021-09-05T21:37:24.773808Z",
     "iopub.status.busy": "2021-09-05T21:37:24.773221Z",
     "iopub.status.idle": "2021-09-05T21:37:24.775792Z",
     "shell.execute_reply": "2021-09-05T21:37:24.775328Z"
    }
   },
   "outputs": [],
   "source": [
    "# data['current']"
   ]
  },
  {
   "cell_type": "code",
   "execution_count": 7,
   "metadata": {
    "execution": {
     "iopub.execute_input": "2021-09-05T21:37:24.797089Z",
     "iopub.status.busy": "2021-09-05T21:37:24.796450Z",
     "iopub.status.idle": "2021-09-05T21:37:25.363615Z",
     "shell.execute_reply": "2021-09-05T21:37:25.364327Z"
    }
   },
   "outputs": [
    {
     "data": {
      "image/png": "[encoded data removed]",
      "text/plain": [
       "<Figure size 216x216 with 1 Axes>"
      ]
     },
     "metadata": {
      "needs_background": "light"
     },
     "output_type": "display_data"
    },
    {
     "name": "stdout",
     "output_type": "stream",
     "text": [
      "Today, sun rises at 06:07 and sets at 18:35.\n",
      "Currently, the weather is Clouds (few clouds).\n",
      "The temperature is 28.12°C and it feels like 33.24°C.\n",
      "The UV index is 0, humidity is 85%.\n",
      "The pressure is 1011 hPa, percentage of cloud cover is 16%\n",
      "The wind comes from ENE direction with a speed 1.93 m/s.\n"
     ]
    }
   ],
   "source": [
    "current = data['current']\r\n",
    "\r\n",
    "fig, ax = plt.subplots(figsize=(3, 3))\r\n",
    "icon = requests.get(f\"http://openweathermap.org/img/wn/{current['weather'][0]['icon']}@2x.png\")\r\n",
    "im = Image.open(BytesIO(icon.content))\r\n",
    "plt.imshow(im)\r\n",
    "ax.set_axis_off()\r\n",
    "plt.show()\r\n",
    "\r\n",
    "print(f\"Today, sun rises at {ts2dt(current['sunrise'], '%H:%M')[0]} \\\r\n",
    "and sets at {ts2dt(current['sunset'], '%H:%M')[0]}.\\n\\\r\n",
    "Currently, the weather is {current['weather'][0]['main']} ({current['weather'][0]['description']}).\\n\\\r\n",
    "The temperature is {current['temp']}°C and it feels like {current['feels_like']}°C.\\n\\\r\n",
    "The UV index is {current['uvi']}, humidity is {current['humidity']}%.\\n\\\r\n",
    "The pressure is {current['pressure']} hPa, percentage of cloud cover is {current['clouds']}%\\n\\\r\n",
    "The wind comes from {degrees_to_cardinal(current['wind_deg'])} direction with a speed {current['wind_speed']} m/s.\")"
   ]
  },
  {
   "cell_type": "code",
   "execution_count": 8,
   "metadata": {
    "execution": {
     "iopub.execute_input": "2021-09-05T21:37:25.367820Z",
     "iopub.status.busy": "2021-09-05T21:37:25.366823Z",
     "iopub.status.idle": "2021-09-05T21:37:25.374988Z",
     "shell.execute_reply": "2021-09-05T21:37:25.375677Z"
    }
   },
   "outputs": [],
   "source": [
    "df_hourly = pd.DataFrame(data['hourly'])\r\n",
    "df_daily = pd.DataFrame(data['daily'])"
   ]
  },
  {
   "cell_type": "code",
   "execution_count": 9,
   "metadata": {
    "execution": {
     "iopub.execute_input": "2021-09-05T21:37:25.378949Z",
     "iopub.status.busy": "2021-09-05T21:37:25.377936Z",
     "iopub.status.idle": "2021-09-05T21:37:25.682850Z",
     "shell.execute_reply": "2021-09-05T21:37:25.682382Z"
    }
   },
   "outputs": [
    {
     "data": {
      "image/png": "[encoded data removed]",
      "text/plain": [
       "<Figure size 864x432 with 1 Axes>"
      ]
     },
     "metadata": {
      "needs_background": "light"
     },
     "output_type": "display_data"
    }
   ],
   "source": [
    "fig, ax = plt.subplots(figsize=(12, 6))\r\n",
    "plt.plot(df_hourly.temp, '.-', label='Temperature')\r\n",
    "plt.plot(df_hourly.feels_like, '.-', label='Feels Like')\r\n",
    "ax.set(title='Temperature in future 48 hours', xlabel='Time', ylabel='Temperature')\r\n",
    "ax.set_xticks(list(range(0, len(df_hourly), 2)))\r\n",
    "ax.set_xticklabels([ts2dt(ts, '%m-%d %H:%M')[0] for i, ts in enumerate(df_hourly.dt) if i%2==0], \r\n",
    "                   rotation=45, ha=\"right\")\r\n",
    "ax.locator_params(nbins=15, axis='y')\r\n",
    "plt.legend()\r\n",
    "plt.show()"
   ]
  },
  {
   "cell_type": "code",
   "execution_count": 10,
   "metadata": {
    "execution": {
     "iopub.execute_input": "2021-09-05T21:37:25.694795Z",
     "iopub.status.busy": "2021-09-05T21:37:25.686701Z",
     "iopub.status.idle": "2021-09-05T21:37:25.707126Z",
     "shell.execute_reply": "2021-09-05T21:37:25.707765Z"
    }
   },
   "outputs": [
    {
     "data": {
      "text/html": [
       "<div>\n",
       "<style scoped>\n",
       "    .dataframe tbody tr th:only-of-type {\n",
       "        vertical-align: middle;\n",
       "    }\n",
       "\n",
       "    .dataframe tbody tr th {\n",
       "        vertical-align: top;\n",
       "    }\n",
       "\n",
       "    .dataframe thead th {\n",
       "        text-align: right;\n",
       "    }\n",
       "</style>\n",
       "<table border=\"1\" class=\"dataframe\">\n",
       "  <thead>\n",
       "    <tr style=\"text-align: right;\">\n",
       "      <th></th>\n",
       "      <th>dt</th>\n",
       "      <th>temp</th>\n",
       "      <th>feels_like</th>\n",
       "      <th>pressure</th>\n",
       "      <th>humidity</th>\n",
       "      <th>dew_point</th>\n",
       "      <th>uvi</th>\n",
       "      <th>clouds</th>\n",
       "      <th>visibility</th>\n",
       "      <th>wind_speed</th>\n",
       "      <th>wind_deg</th>\n",
       "      <th>wind_gust</th>\n",
       "      <th>weather</th>\n",
       "      <th>pop</th>\n",
       "      <th>rain</th>\n",
       "    </tr>\n",
       "  </thead>\n",
       "  <tbody>\n",
       "    <tr>\n",
       "      <th>0</th>\n",
       "      <td>1630875600</td>\n",
       "      <td>27.99</td>\n",
       "      <td>32.71</td>\n",
       "      <td>1011</td>\n",
       "      <td>84</td>\n",
       "      <td>25.03</td>\n",
       "      <td>0.00</td>\n",
       "      <td>16</td>\n",
       "      <td>10000</td>\n",
       "      <td>2.02</td>\n",
       "      <td>82</td>\n",
       "      <td>2.42</td>\n",
       "      <td>[{'id': 500, 'main': 'Rain', 'description': 'l...</td>\n",
       "      <td>0.38</td>\n",
       "      <td>{'1h': 0.12}</td>\n",
       "    </tr>\n",
       "    <tr>\n",
       "      <th>1</th>\n",
       "      <td>1630879200</td>\n",
       "      <td>28.12</td>\n",
       "      <td>33.24</td>\n",
       "      <td>1011</td>\n",
       "      <td>85</td>\n",
       "      <td>25.36</td>\n",
       "      <td>0.00</td>\n",
       "      <td>16</td>\n",
       "      <td>10000</td>\n",
       "      <td>1.93</td>\n",
       "      <td>76</td>\n",
       "      <td>2.37</td>\n",
       "      <td>[{'id': 801, 'main': 'Clouds', 'description': ...</td>\n",
       "      <td>0.48</td>\n",
       "      <td>NaN</td>\n",
       "    </tr>\n",
       "    <tr>\n",
       "      <th>2</th>\n",
       "      <td>1630882800</td>\n",
       "      <td>28.07</td>\n",
       "      <td>32.93</td>\n",
       "      <td>1011</td>\n",
       "      <td>84</td>\n",
       "      <td>25.11</td>\n",
       "      <td>0.29</td>\n",
       "      <td>16</td>\n",
       "      <td>10000</td>\n",
       "      <td>1.92</td>\n",
       "      <td>71</td>\n",
       "      <td>2.34</td>\n",
       "      <td>[{'id': 801, 'main': 'Clouds', 'description': ...</td>\n",
       "      <td>0.45</td>\n",
       "      <td>NaN</td>\n",
       "    </tr>\n",
       "    <tr>\n",
       "      <th>3</th>\n",
       "      <td>1630886400</td>\n",
       "      <td>28.24</td>\n",
       "      <td>33.05</td>\n",
       "      <td>1011</td>\n",
       "      <td>82</td>\n",
       "      <td>24.87</td>\n",
       "      <td>1.41</td>\n",
       "      <td>19</td>\n",
       "      <td>10000</td>\n",
       "      <td>2.31</td>\n",
       "      <td>74</td>\n",
       "      <td>2.91</td>\n",
       "      <td>[{'id': 801, 'main': 'Clouds', 'description': ...</td>\n",
       "      <td>0.51</td>\n",
       "      <td>NaN</td>\n",
       "    </tr>\n",
       "    <tr>\n",
       "      <th>4</th>\n",
       "      <td>1630890000</td>\n",
       "      <td>28.67</td>\n",
       "      <td>33.45</td>\n",
       "      <td>1012</td>\n",
       "      <td>78</td>\n",
       "      <td>24.45</td>\n",
       "      <td>3.76</td>\n",
       "      <td>12</td>\n",
       "      <td>10000</td>\n",
       "      <td>2.85</td>\n",
       "      <td>81</td>\n",
       "      <td>3.44</td>\n",
       "      <td>[{'id': 801, 'main': 'Clouds', 'description': ...</td>\n",
       "      <td>0.53</td>\n",
       "      <td>NaN</td>\n",
       "    </tr>\n",
       "  </tbody>\n",
       "</table>\n",
       "</div>"
      ],
      "text/plain": [
       "           dt   temp  feels_like  pressure  humidity  dew_point   uvi  clouds  \\\n",
       "0  1630875600  27.99       32.71      1011        84      25.03  0.00      16   \n",
       "1  1630879200  28.12       33.24      1011        85      25.36  0.00      16   \n",
       "2  1630882800  28.07       32.93      1011        84      25.11  0.29      16   \n",
       "3  1630886400  28.24       33.05      1011        82      24.87  1.41      19   \n",
       "4  1630890000  28.67       33.45      1012        78      24.45  3.76      12   \n",
       "\n",
       "   visibility  wind_speed  wind_deg  wind_gust  \\\n",
       "0       10000        2.02        82       2.42   \n",
       "1       10000        1.93        76       2.37   \n",
       "2       10000        1.92        71       2.34   \n",
       "3       10000        2.31        74       2.91   \n",
       "4       10000        2.85        81       3.44   \n",
       "\n",
       "                                             weather   pop          rain  \n",
       "0  [{'id': 500, 'main': 'Rain', 'description': 'l...  0.38  {'1h': 0.12}  \n",
       "1  [{'id': 801, 'main': 'Clouds', 'description': ...  0.48           NaN  \n",
       "2  [{'id': 801, 'main': 'Clouds', 'description': ...  0.45           NaN  \n",
       "3  [{'id': 801, 'main': 'Clouds', 'description': ...  0.51           NaN  \n",
       "4  [{'id': 801, 'main': 'Clouds', 'description': ...  0.53           NaN  "
      ]
     },
     "execution_count": 10,
     "metadata": {},
     "output_type": "execute_result"
    }
   ],
   "source": [
    "df_hourly.head()"
   ]
  },
  {
   "cell_type": "code",
   "execution_count": null,
   "metadata": {},
   "outputs": [],
   "source": []
  }
 ],
 "metadata": {
  "interpreter": {
   "hash": "c1b4cfe941b6d2466ad1fb5979e97da9cda8801728c8091b097ab734208fc00c"
  },
  "kernelspec": {
   "display_name": "Python 3.8.3 64-bit ('base': conda)",
   "name": "python3"
  },
  "language_info": {
   "codemirror_mode": {
    "name": "ipython",
    "version": 3
   },
   "file_extension": ".py",
   "mimetype": "text/x-python",
   "name": "python",
   "nbconvert_exporter": "python",
   "pygments_lexer": "ipython3",
   "version": "3.8.11"
  }
 },
 "nbformat": 4,
 "nbformat_minor": 2
}
