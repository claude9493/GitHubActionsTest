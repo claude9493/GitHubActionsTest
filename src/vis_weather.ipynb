{
 "cells": [
  {
   "cell_type": "code",
   "execution_count": 1,
   "metadata": {
    "execution": {
     "iopub.execute_input": "2021-09-07T11:36:47.712295Z",
     "iopub.status.busy": "2021-09-07T11:36:47.710556Z",
     "iopub.status.idle": "2021-09-07T11:36:51.435797Z",
     "shell.execute_reply": "2021-09-07T11:36:51.434965Z"
    }
   },
   "outputs": [],
   "source": [
    "import json, yaml, requests\r\n",
    "from datetime import datetime\r\n",
    "from dateutil import tz\r\n",
    "import pandas as pd\r\n",
    "from PIL import Image\r\n",
    "from io import BytesIO\r\n",
    "import matplotlib.pyplot as plt\r\n",
    "import seaborn\r\n",
    "\r\n",
    "CONFIG_PATH = \"../config/config.yaml\""
   ]
  },
  {
   "cell_type": "code",
   "execution_count": 2,
   "metadata": {
    "execution": {
     "iopub.execute_input": "2021-09-07T11:36:51.445291Z",
     "iopub.status.busy": "2021-09-07T11:36:51.441158Z",
     "iopub.status.idle": "2021-09-07T11:36:51.448066Z",
     "shell.execute_reply": "2021-09-07T11:36:51.448549Z"
    }
   },
   "outputs": [],
   "source": [
    "with open('../newest_ts', 'r') as f:\r\n",
    "    newest_ts = f.read()\r\n",
    "\r\n",
    "data_path = f\"../data/data_{newest_ts}.json\"\r\n",
    "with open(data_path, 'r') as f:\r\n",
    "    data = json.load(f)\r\n",
    "\r\n",
    "with open(CONFIG_PATH, \"r\") as stream:\r\n",
    "    config = yaml.safe_load(stream)\r\n",
    "\r\n",
    "TIME_ZONE = config['time_zone']\r\n",
    "DATETIME_FORMAT = config['dt_format']"
   ]
  },
  {
   "cell_type": "code",
   "execution_count": 3,
   "metadata": {
    "execution": {
     "iopub.execute_input": "2021-09-07T11:36:51.453762Z",
     "iopub.status.busy": "2021-09-07T11:36:51.453239Z",
     "iopub.status.idle": "2021-09-07T11:36:51.498274Z",
     "shell.execute_reply": "2021-09-07T11:36:51.498712Z"
    }
   },
   "outputs": [
    {
     "name": "stdout",
     "output_type": "stream",
     "text": [
      "Recent query happens at 2021-09-07 19:36:44 (CST).\n"
     ]
    }
   ],
   "source": [
    "def ts2dt(ts, format=DATETIME_FORMAT):\r\n",
    "    dt = (datetime.utcfromtimestamp(int(ts))\r\n",
    "                    .replace(tzinfo=tz.tzutc())\r\n",
    "                    # .astimezone(tz.tzlocal())\r\n",
    "                    .astimezone(tz.gettz(TIME_ZONE)))\r\n",
    "    return dt.strftime(format), dt\r\n",
    "\r\n",
    "_, newest_dt = ts2dt(newest_ts)\r\n",
    "print(f\"Recent query happens at {newest_dt.strftime(DATETIME_FORMAT)} ({newest_dt.tzname()}).\")"
   ]
  },
  {
   "cell_type": "code",
   "execution_count": 4,
   "metadata": {
    "execution": {
     "iopub.execute_input": "2021-09-07T11:36:51.503844Z",
     "iopub.status.busy": "2021-09-07T11:36:51.503246Z",
     "iopub.status.idle": "2021-09-07T11:36:51.506967Z",
     "shell.execute_reply": "2021-09-07T11:36:51.507382Z"
    }
   },
   "outputs": [],
   "source": [
    "def degrees_to_cardinal(d):\r\n",
    "  dirs = ['N', 'NNE', 'NE', 'ENE', 'E', 'ESE', 'SE', 'SSE', 'S', 'SSW', 'SW', 'WSW', 'W', 'WNW', 'NW', 'NNW']\r\n",
    "  ix = int(round(d / (360. / len(dirs))))\r\n",
    "  return dirs[ix % len(dirs)]"
   ]
  },
  {
   "cell_type": "code",
   "execution_count": 5,
   "metadata": {
    "execution": {
     "iopub.execute_input": "2021-09-07T11:36:51.511472Z",
     "iopub.status.busy": "2021-09-07T11:36:51.510929Z",
     "iopub.status.idle": "2021-09-07T11:36:51.512933Z",
     "shell.execute_reply": "2021-09-07T11:36:51.513361Z"
    }
   },
   "outputs": [],
   "source": [
    "# data.keys()"
   ]
  },
  {
   "cell_type": "code",
   "execution_count": 6,
   "metadata": {
    "execution": {
     "iopub.execute_input": "2021-09-07T11:36:51.516966Z",
     "iopub.status.busy": "2021-09-07T11:36:51.516422Z",
     "iopub.status.idle": "2021-09-07T11:36:51.518466Z",
     "shell.execute_reply": "2021-09-07T11:36:51.518889Z"
    }
   },
   "outputs": [],
   "source": [
    "# data['current']"
   ]
  },
  {
   "cell_type": "code",
   "execution_count": 7,
   "metadata": {
    "execution": {
     "iopub.execute_input": "2021-09-07T11:36:51.543134Z",
     "iopub.status.busy": "2021-09-07T11:36:51.542564Z",
     "iopub.status.idle": "2021-09-07T11:36:52.000354Z",
     "shell.execute_reply": "2021-09-07T11:36:52.001175Z"
    }
   },
   "outputs": [
    {
     "data": {
      "image/png": "[encoded data removed]",
      "text/plain": [
       "<Figure size 216x216 with 1 Axes>"
      ]
     },
     "metadata": {
      "needs_background": "light"
     },
     "output_type": "display_data"
    },
    {
     "name": "stdout",
     "output_type": "stream",
     "text": [
      "Today, sun rises at 06:07 and sets at 18:34.\n",
      "Currently, the weather is Clear (clear sky).\n",
      "The temperature is 30.15°C and it feels like 37.15°C.\n",
      "The UV index is 0, humidity is 81%.\n",
      "The pressure is 1010 hPa, percentage of cloud cover is 6%\n",
      "The wind comes from E direction with a speed 3.97 m/s.\n"
     ]
    }
   ],
   "source": [
    "current = data['current']\r\n",
    "\r\n",
    "fig, ax = plt.subplots(figsize=(3, 3))\r\n",
    "icon = requests.get(f\"http://openweathermap.org/img/wn/{current['weather'][0]['icon']}@2x.png\")\r\n",
    "im = Image.open(BytesIO(icon.content))\r\n",
    "plt.imshow(im)\r\n",
    "ax.set_axis_off()\r\n",
    "plt.show()\r\n",
    "\r\n",
    "print(f\"Today, sun rises at {ts2dt(current['sunrise'], '%H:%M')[0]} \\\r\n",
    "and sets at {ts2dt(current['sunset'], '%H:%M')[0]}.\\n\\\r\n",
    "Currently, the weather is {current['weather'][0]['main']} ({current['weather'][0]['description']}).\\n\\\r\n",
    "The temperature is {current['temp']}°C and it feels like {current['feels_like']}°C.\\n\\\r\n",
    "The UV index is {current['uvi']}, humidity is {current['humidity']}%.\\n\\\r\n",
    "The pressure is {current['pressure']} hPa, percentage of cloud cover is {current['clouds']}%\\n\\\r\n",
    "The wind comes from {degrees_to_cardinal(current['wind_deg'])} direction with a speed {current['wind_speed']} m/s.\")"
   ]
  },
  {
   "cell_type": "code",
   "execution_count": 8,
   "metadata": {
    "execution": {
     "iopub.execute_input": "2021-09-07T11:36:52.005194Z",
     "iopub.status.busy": "2021-09-07T11:36:52.004184Z",
     "iopub.status.idle": "2021-09-07T11:36:52.012258Z",
     "shell.execute_reply": "2021-09-07T11:36:52.013178Z"
    }
   },
   "outputs": [],
   "source": [
    "df_hourly = pd.DataFrame(data['hourly'])\r\n",
    "df_daily = pd.DataFrame(data['daily'])"
   ]
  },
  {
   "cell_type": "code",
   "execution_count": 9,
   "metadata": {
    "execution": {
     "iopub.execute_input": "2021-09-07T11:36:52.016706Z",
     "iopub.status.busy": "2021-09-07T11:36:52.015573Z",
     "iopub.status.idle": "2021-09-07T11:36:52.353558Z",
     "shell.execute_reply": "2021-09-07T11:36:52.353015Z"
    }
   },
   "outputs": [
    {
     "data": {
      "image/png": "[encoded data removed]",
      "text/plain": [
       "<Figure size 864x432 with 1 Axes>"
      ]
     },
     "metadata": {
      "needs_background": "light"
     },
     "output_type": "display_data"
    }
   ],
   "source": [
    "fig, ax = plt.subplots(figsize=(12, 6))\r\n",
    "plt.plot(df_hourly.temp, '.-', label='Temperature')\r\n",
    "plt.plot(df_hourly.feels_like, '.-', label='Feels Like')\r\n",
    "ax.set(title='Temperature in future 48 hours', xlabel='Time', ylabel='Temperature')\r\n",
    "ax.set_xticks(list(range(0, len(df_hourly), 2)))\r\n",
    "ax.set_xticklabels([ts2dt(ts, '%m-%d %H:%M')[0] for i, ts in enumerate(df_hourly.dt) if i%2==0], \r\n",
    "                   rotation=45, ha=\"right\")\r\n",
    "ax.locator_params(nbins=15, axis='y')\r\n",
    "plt.legend()\r\n",
    "plt.show()"
   ]
  },
  {
   "cell_type": "code",
   "execution_count": 10,
   "metadata": {
    "execution": {
     "iopub.execute_input": "2021-09-07T11:36:52.364595Z",
     "iopub.status.busy": "2021-09-07T11:36:52.358530Z",
     "iopub.status.idle": "2021-09-07T11:36:52.382540Z",
     "shell.execute_reply": "2021-09-07T11:36:52.382050Z"
    }
   },
   "outputs": [
    {
     "data": {
      "text/html": [
       "<div>\n",
       "<style scoped>\n",
       "    .dataframe tbody tr th:only-of-type {\n",
       "        vertical-align: middle;\n",
       "    }\n",
       "\n",
       "    .dataframe tbody tr th {\n",
       "        vertical-align: top;\n",
       "    }\n",
       "\n",
       "    .dataframe thead th {\n",
       "        text-align: right;\n",
       "    }\n",
       "</style>\n",
       "<table border=\"1\" class=\"dataframe\">\n",
       "  <thead>\n",
       "    <tr style=\"text-align: right;\">\n",
       "      <th></th>\n",
       "      <th>dt</th>\n",
       "      <th>temp</th>\n",
       "      <th>feels_like</th>\n",
       "      <th>pressure</th>\n",
       "      <th>humidity</th>\n",
       "      <th>dew_point</th>\n",
       "      <th>uvi</th>\n",
       "      <th>clouds</th>\n",
       "      <th>visibility</th>\n",
       "      <th>wind_speed</th>\n",
       "      <th>wind_deg</th>\n",
       "      <th>wind_gust</th>\n",
       "      <th>weather</th>\n",
       "      <th>pop</th>\n",
       "      <th>rain</th>\n",
       "    </tr>\n",
       "  </thead>\n",
       "  <tbody>\n",
       "    <tr>\n",
       "      <th>0</th>\n",
       "      <td>1631012400</td>\n",
       "      <td>29.72</td>\n",
       "      <td>36.72</td>\n",
       "      <td>1010</td>\n",
       "      <td>82</td>\n",
       "      <td>26.31</td>\n",
       "      <td>0.0</td>\n",
       "      <td>6</td>\n",
       "      <td>10000</td>\n",
       "      <td>4.14</td>\n",
       "      <td>98</td>\n",
       "      <td>6.19</td>\n",
       "      <td>[{'id': 500, 'main': 'Rain', 'description': 'l...</td>\n",
       "      <td>0.56</td>\n",
       "      <td>{'1h': 0.1}</td>\n",
       "    </tr>\n",
       "    <tr>\n",
       "      <th>1</th>\n",
       "      <td>1631016000</td>\n",
       "      <td>30.15</td>\n",
       "      <td>37.15</td>\n",
       "      <td>1010</td>\n",
       "      <td>81</td>\n",
       "      <td>26.52</td>\n",
       "      <td>0.0</td>\n",
       "      <td>6</td>\n",
       "      <td>10000</td>\n",
       "      <td>3.97</td>\n",
       "      <td>100</td>\n",
       "      <td>5.94</td>\n",
       "      <td>[{'id': 800, 'main': 'Clear', 'description': '...</td>\n",
       "      <td>0.56</td>\n",
       "      <td>NaN</td>\n",
       "    </tr>\n",
       "    <tr>\n",
       "      <th>2</th>\n",
       "      <td>1631019600</td>\n",
       "      <td>29.68</td>\n",
       "      <td>36.68</td>\n",
       "      <td>1010</td>\n",
       "      <td>82</td>\n",
       "      <td>26.28</td>\n",
       "      <td>0.0</td>\n",
       "      <td>7</td>\n",
       "      <td>10000</td>\n",
       "      <td>3.83</td>\n",
       "      <td>104</td>\n",
       "      <td>5.77</td>\n",
       "      <td>[{'id': 500, 'main': 'Rain', 'description': 'l...</td>\n",
       "      <td>0.48</td>\n",
       "      <td>{'1h': 0.12}</td>\n",
       "    </tr>\n",
       "    <tr>\n",
       "      <th>3</th>\n",
       "      <td>1631023200</td>\n",
       "      <td>29.21</td>\n",
       "      <td>36.04</td>\n",
       "      <td>1010</td>\n",
       "      <td>83</td>\n",
       "      <td>26.02</td>\n",
       "      <td>0.0</td>\n",
       "      <td>8</td>\n",
       "      <td>10000</td>\n",
       "      <td>3.81</td>\n",
       "      <td>109</td>\n",
       "      <td>5.81</td>\n",
       "      <td>[{'id': 500, 'main': 'Rain', 'description': 'l...</td>\n",
       "      <td>0.44</td>\n",
       "      <td>{'1h': 0.15}</td>\n",
       "    </tr>\n",
       "    <tr>\n",
       "      <th>4</th>\n",
       "      <td>1631026800</td>\n",
       "      <td>28.58</td>\n",
       "      <td>34.38</td>\n",
       "      <td>1011</td>\n",
       "      <td>84</td>\n",
       "      <td>25.61</td>\n",
       "      <td>0.0</td>\n",
       "      <td>13</td>\n",
       "      <td>10000</td>\n",
       "      <td>3.53</td>\n",
       "      <td>112</td>\n",
       "      <td>5.12</td>\n",
       "      <td>[{'id': 500, 'main': 'Rain', 'description': 'l...</td>\n",
       "      <td>0.52</td>\n",
       "      <td>{'1h': 0.26}</td>\n",
       "    </tr>\n",
       "  </tbody>\n",
       "</table>\n",
       "</div>"
      ],
      "text/plain": [
       "           dt   temp  feels_like  pressure  humidity  dew_point  uvi  clouds  \\\n",
       "0  1631012400  29.72       36.72      1010        82      26.31  0.0       6   \n",
       "1  1631016000  30.15       37.15      1010        81      26.52  0.0       6   \n",
       "2  1631019600  29.68       36.68      1010        82      26.28  0.0       7   \n",
       "3  1631023200  29.21       36.04      1010        83      26.02  0.0       8   \n",
       "4  1631026800  28.58       34.38      1011        84      25.61  0.0      13   \n",
       "\n",
       "   visibility  wind_speed  wind_deg  wind_gust  \\\n",
       "0       10000        4.14        98       6.19   \n",
       "1       10000        3.97       100       5.94   \n",
       "2       10000        3.83       104       5.77   \n",
       "3       10000        3.81       109       5.81   \n",
       "4       10000        3.53       112       5.12   \n",
       "\n",
       "                                             weather   pop          rain  \n",
       "0  [{'id': 500, 'main': 'Rain', 'description': 'l...  0.56   {'1h': 0.1}  \n",
       "1  [{'id': 800, 'main': 'Clear', 'description': '...  0.56           NaN  \n",
       "2  [{'id': 500, 'main': 'Rain', 'description': 'l...  0.48  {'1h': 0.12}  \n",
       "3  [{'id': 500, 'main': 'Rain', 'description': 'l...  0.44  {'1h': 0.15}  \n",
       "4  [{'id': 500, 'main': 'Rain', 'description': 'l...  0.52  {'1h': 0.26}  "
      ]
     },
     "execution_count": 10,
     "metadata": {},
     "output_type": "execute_result"
    }
   ],
   "source": [
    "df_hourly.head()"
   ]
  },
  {
   "cell_type": "code",
   "execution_count": null,
   "metadata": {},
   "outputs": [],
   "source": []
  }
 ],
 "metadata": {
  "interpreter": {
   "hash": "c1b4cfe941b6d2466ad1fb5979e97da9cda8801728c8091b097ab734208fc00c"
  },
  "kernelspec": {
   "display_name": "Python 3.8.3 64-bit ('base': conda)",
   "name": "python3"
  },
  "language_info": {
   "codemirror_mode": {
    "name": "ipython",
    "version": 3
   },
   "file_extension": ".py",
   "mimetype": "text/x-python",
   "name": "python",
   "nbconvert_exporter": "python",
   "pygments_lexer": "ipython3",
   "version": "3.8.11"
  }
 },
 "nbformat": 4,
 "nbformat_minor": 2
}
