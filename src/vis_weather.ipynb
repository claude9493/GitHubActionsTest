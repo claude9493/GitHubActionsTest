{
 "cells": [
  {
   "cell_type": "code",
   "execution_count": 1,
   "metadata": {
    "execution": {
     "iopub.execute_input": "2021-10-19T15:12:20.812130Z",
     "iopub.status.busy": "2021-10-19T15:12:20.811500Z",
     "iopub.status.idle": "2021-10-19T15:12:22.043279Z",
     "shell.execute_reply": "2021-10-19T15:12:22.042037Z"
    }
   },
   "outputs": [],
   "source": [
    "import json, yaml, requests\r\n",
    "from datetime import datetime\r\n",
    "from dateutil import tz\r\n",
    "import pandas as pd\r\n",
    "from PIL import Image\r\n",
    "from io import BytesIO\r\n",
    "import matplotlib.pyplot as plt\r\n",
    "import seaborn\r\n",
    "\r\n",
    "CONFIG_PATH = \"../config/config.yaml\""
   ]
  },
  {
   "cell_type": "code",
   "execution_count": 2,
   "metadata": {
    "execution": {
     "iopub.execute_input": "2021-10-19T15:12:22.048869Z",
     "iopub.status.busy": "2021-10-19T15:12:22.048043Z",
     "iopub.status.idle": "2021-10-19T15:12:22.054165Z",
     "shell.execute_reply": "2021-10-19T15:12:22.053730Z"
    }
   },
   "outputs": [],
   "source": [
    "with open('../newest_ts', 'r') as f:\r\n",
    "    newest_ts = f.read()\r\n",
    "\r\n",
    "data_path = f\"../data/data_{newest_ts}.json\"\r\n",
    "with open(data_path, 'r') as f:\r\n",
    "    data = json.load(f)\r\n",
    "\r\n",
    "with open(CONFIG_PATH, \"r\") as stream:\r\n",
    "    config = yaml.safe_load(stream)\r\n",
    "\r\n",
    "TIME_ZONE = config['time_zone']\r\n",
    "DATETIME_FORMAT = config['dt_format']"
   ]
  },
  {
   "cell_type": "code",
   "execution_count": 3,
   "metadata": {
    "execution": {
     "iopub.execute_input": "2021-10-19T15:12:22.058932Z",
     "iopub.status.busy": "2021-10-19T15:12:22.058407Z",
     "iopub.status.idle": "2021-10-19T15:12:22.064362Z",
     "shell.execute_reply": "2021-10-19T15:12:22.064726Z"
    }
   },
   "outputs": [
    {
     "name": "stdout",
     "output_type": "stream",
     "text": [
      "Recent query happens at 2021-10-19 23:12:18 (CST).\n"
     ]
    }
   ],
   "source": [
    "def ts2dt(ts, format=DATETIME_FORMAT):\r\n",
    "    dt = (datetime.utcfromtimestamp(int(ts))\r\n",
    "                    .replace(tzinfo=tz.tzutc())\r\n",
    "                    # .astimezone(tz.tzlocal())\r\n",
    "                    .astimezone(tz.gettz(TIME_ZONE)))\r\n",
    "    return dt.strftime(format), dt\r\n",
    "\r\n",
    "_, newest_dt = ts2dt(newest_ts)\r\n",
    "print(f\"Recent query happens at {newest_dt.strftime(DATETIME_FORMAT)} ({newest_dt.tzname()}).\")"
   ]
  },
  {
   "cell_type": "code",
   "execution_count": 4,
   "metadata": {
    "execution": {
     "iopub.execute_input": "2021-10-19T15:12:22.069435Z",
     "iopub.status.busy": "2021-10-19T15:12:22.068971Z",
     "iopub.status.idle": "2021-10-19T15:12:22.070844Z",
     "shell.execute_reply": "2021-10-19T15:12:22.071204Z"
    }
   },
   "outputs": [],
   "source": [
    "def degrees_to_cardinal(d):\r\n",
    "  dirs = ['N', 'NNE', 'NE', 'ENE', 'E', 'ESE', 'SE', 'SSE', 'S', 'SSW', 'SW', 'WSW', 'W', 'WNW', 'NW', 'NNW']\r\n",
    "  ix = int(round(d / (360. / len(dirs))))\r\n",
    "  return dirs[ix % len(dirs)]"
   ]
  },
  {
   "cell_type": "code",
   "execution_count": 5,
   "metadata": {
    "execution": {
     "iopub.execute_input": "2021-10-19T15:12:22.075932Z",
     "iopub.status.busy": "2021-10-19T15:12:22.074738Z",
     "iopub.status.idle": "2021-10-19T15:12:22.076461Z",
     "shell.execute_reply": "2021-10-19T15:12:22.076827Z"
    }
   },
   "outputs": [],
   "source": [
    "# data.keys()"
   ]
  },
  {
   "cell_type": "code",
   "execution_count": 6,
   "metadata": {
    "execution": {
     "iopub.execute_input": "2021-10-19T15:12:22.080992Z",
     "iopub.status.busy": "2021-10-19T15:12:22.079978Z",
     "iopub.status.idle": "2021-10-19T15:12:22.081516Z",
     "shell.execute_reply": "2021-10-19T15:12:22.081886Z"
    }
   },
   "outputs": [],
   "source": [
    "# data['current']"
   ]
  },
  {
   "cell_type": "code",
   "execution_count": 7,
   "metadata": {
    "execution": {
     "iopub.execute_input": "2021-10-19T15:12:22.088475Z",
     "iopub.status.busy": "2021-10-19T15:12:22.084001Z",
     "iopub.status.idle": "2021-10-19T15:12:22.362796Z",
     "shell.execute_reply": "2021-10-19T15:12:22.363189Z"
    }
   },
   "outputs": [
    {
     "data": {
      "image/png": "[encoded data removed]",
      "text/plain": [
       "<Figure size 216x216 with 1 Axes>"
      ]
     },
     "metadata": {
      "needs_background": "light"
     },
     "output_type": "display_data"
    },
    {
     "name": "stdout",
     "output_type": "stream",
     "text": [
      "Today, sun rises at 06:20 and sets at 17:54.\n",
      "Currently, the weather is Rain (light rain).\n",
      "The temperature is 25.47°C and it feels like 26.16°C.\n",
      "The UV index is 0, humidity is 80%.\n",
      "The pressure is 1017 hPa, percentage of cloud cover is 67%\n",
      "The wind comes from WSW direction with a speed 0.45 m/s.\n"
     ]
    }
   ],
   "source": [
    "current = data['current']\r\n",
    "\r\n",
    "fig, ax = plt.subplots(figsize=(3, 3))\r\n",
    "icon = requests.get(f\"http://openweathermap.org/img/wn/{current['weather'][0]['icon']}@2x.png\")\r\n",
    "im = Image.open(BytesIO(icon.content))\r\n",
    "plt.imshow(im)\r\n",
    "ax.set_axis_off()\r\n",
    "plt.show()\r\n",
    "\r\n",
    "print(f\"Today, sun rises at {ts2dt(current['sunrise'], '%H:%M')[0]} \\\r\n",
    "and sets at {ts2dt(current['sunset'], '%H:%M')[0]}.\\n\\\r\n",
    "Currently, the weather is {current['weather'][0]['main']} ({current['weather'][0]['description']}).\\n\\\r\n",
    "The temperature is {current['temp']}°C and it feels like {current['feels_like']}°C.\\n\\\r\n",
    "The UV index is {current['uvi']}, humidity is {current['humidity']}%.\\n\\\r\n",
    "The pressure is {current['pressure']} hPa, percentage of cloud cover is {current['clouds']}%\\n\\\r\n",
    "The wind comes from {degrees_to_cardinal(current['wind_deg'])} direction with a speed {current['wind_speed']} m/s.\")"
   ]
  },
  {
   "cell_type": "code",
   "execution_count": 8,
   "metadata": {
    "execution": {
     "iopub.execute_input": "2021-10-19T15:12:22.370797Z",
     "iopub.status.busy": "2021-10-19T15:12:22.370285Z",
     "iopub.status.idle": "2021-10-19T15:12:22.373034Z",
     "shell.execute_reply": "2021-10-19T15:12:22.373709Z"
    }
   },
   "outputs": [],
   "source": [
    "df_hourly = pd.DataFrame(data['hourly'])\r\n",
    "df_daily = pd.DataFrame(data['daily'])"
   ]
  },
  {
   "cell_type": "code",
   "execution_count": 9,
   "metadata": {
    "execution": {
     "iopub.execute_input": "2021-10-19T15:12:22.376993Z",
     "iopub.status.busy": "2021-10-19T15:12:22.376033Z",
     "iopub.status.idle": "2021-10-19T15:12:22.620377Z",
     "shell.execute_reply": "2021-10-19T15:12:22.619904Z"
    }
   },
   "outputs": [
    {
     "data": {
      "image/png": "[encoded data removed]",
      "text/plain": [
       "<Figure size 864x432 with 1 Axes>"
      ]
     },
     "metadata": {
      "needs_background": "light"
     },
     "output_type": "display_data"
    }
   ],
   "source": [
    "fig, ax = plt.subplots(figsize=(12, 6))\r\n",
    "plt.plot(df_hourly.temp, '.-', label='Temperature')\r\n",
    "plt.plot(df_hourly.feels_like, '.-', label='Feels Like')\r\n",
    "ax.set(title='Temperature in future 48 hours', xlabel='Time', ylabel='Temperature')\r\n",
    "ax.set_xticks(list(range(0, len(df_hourly), 2)))\r\n",
    "ax.set_xticklabels([ts2dt(ts, '%m-%d %H:%M')[0] for i, ts in enumerate(df_hourly.dt) if i%2==0], \r\n",
    "                   rotation=45, ha=\"right\")\r\n",
    "ax.locator_params(nbins=15, axis='y')\r\n",
    "plt.legend()\r\n",
    "plt.show()"
   ]
  },
  {
   "cell_type": "code",
   "execution_count": 10,
   "metadata": {
    "execution": {
     "iopub.execute_input": "2021-10-19T15:12:22.633734Z",
     "iopub.status.busy": "2021-10-19T15:12:22.625141Z",
     "iopub.status.idle": "2021-10-19T15:12:22.647152Z",
     "shell.execute_reply": "2021-10-19T15:12:22.646683Z"
    }
   },
   "outputs": [
    {
     "data": {
      "text/html": [
       "<div>\n",
       "<style scoped>\n",
       "    .dataframe tbody tr th:only-of-type {\n",
       "        vertical-align: middle;\n",
       "    }\n",
       "\n",
       "    .dataframe tbody tr th {\n",
       "        vertical-align: top;\n",
       "    }\n",
       "\n",
       "    .dataframe thead th {\n",
       "        text-align: right;\n",
       "    }\n",
       "</style>\n",
       "<table border=\"1\" class=\"dataframe\">\n",
       "  <thead>\n",
       "    <tr style=\"text-align: right;\">\n",
       "      <th></th>\n",
       "      <th>dt</th>\n",
       "      <th>temp</th>\n",
       "      <th>feels_like</th>\n",
       "      <th>pressure</th>\n",
       "      <th>humidity</th>\n",
       "      <th>dew_point</th>\n",
       "      <th>uvi</th>\n",
       "      <th>clouds</th>\n",
       "      <th>visibility</th>\n",
       "      <th>wind_speed</th>\n",
       "      <th>wind_deg</th>\n",
       "      <th>wind_gust</th>\n",
       "      <th>weather</th>\n",
       "      <th>pop</th>\n",
       "      <th>rain</th>\n",
       "    </tr>\n",
       "  </thead>\n",
       "  <tbody>\n",
       "    <tr>\n",
       "      <th>0</th>\n",
       "      <td>1634655600</td>\n",
       "      <td>25.47</td>\n",
       "      <td>26.16</td>\n",
       "      <td>1017</td>\n",
       "      <td>80</td>\n",
       "      <td>21.77</td>\n",
       "      <td>0.0</td>\n",
       "      <td>67</td>\n",
       "      <td>10000</td>\n",
       "      <td>5.33</td>\n",
       "      <td>98</td>\n",
       "      <td>6.74</td>\n",
       "      <td>[{'id': 803, 'main': 'Clouds', 'description': ...</td>\n",
       "      <td>0.00</td>\n",
       "      <td>NaN</td>\n",
       "    </tr>\n",
       "    <tr>\n",
       "      <th>1</th>\n",
       "      <td>1634659200</td>\n",
       "      <td>25.37</td>\n",
       "      <td>26.03</td>\n",
       "      <td>1017</td>\n",
       "      <td>79</td>\n",
       "      <td>21.46</td>\n",
       "      <td>0.0</td>\n",
       "      <td>67</td>\n",
       "      <td>10000</td>\n",
       "      <td>5.57</td>\n",
       "      <td>97</td>\n",
       "      <td>6.98</td>\n",
       "      <td>[{'id': 803, 'main': 'Clouds', 'description': ...</td>\n",
       "      <td>0.00</td>\n",
       "      <td>NaN</td>\n",
       "    </tr>\n",
       "    <tr>\n",
       "      <th>2</th>\n",
       "      <td>1634662800</td>\n",
       "      <td>25.31</td>\n",
       "      <td>25.93</td>\n",
       "      <td>1017</td>\n",
       "      <td>78</td>\n",
       "      <td>21.20</td>\n",
       "      <td>0.0</td>\n",
       "      <td>69</td>\n",
       "      <td>10000</td>\n",
       "      <td>5.75</td>\n",
       "      <td>99</td>\n",
       "      <td>7.05</td>\n",
       "      <td>[{'id': 803, 'main': 'Clouds', 'description': ...</td>\n",
       "      <td>0.00</td>\n",
       "      <td>NaN</td>\n",
       "    </tr>\n",
       "    <tr>\n",
       "      <th>3</th>\n",
       "      <td>1634666400</td>\n",
       "      <td>25.22</td>\n",
       "      <td>25.83</td>\n",
       "      <td>1016</td>\n",
       "      <td>78</td>\n",
       "      <td>21.11</td>\n",
       "      <td>0.0</td>\n",
       "      <td>73</td>\n",
       "      <td>10000</td>\n",
       "      <td>5.71</td>\n",
       "      <td>94</td>\n",
       "      <td>7.04</td>\n",
       "      <td>[{'id': 803, 'main': 'Clouds', 'description': ...</td>\n",
       "      <td>0.00</td>\n",
       "      <td>NaN</td>\n",
       "    </tr>\n",
       "    <tr>\n",
       "      <th>4</th>\n",
       "      <td>1634670000</td>\n",
       "      <td>24.94</td>\n",
       "      <td>25.55</td>\n",
       "      <td>1016</td>\n",
       "      <td>79</td>\n",
       "      <td>21.05</td>\n",
       "      <td>0.0</td>\n",
       "      <td>93</td>\n",
       "      <td>10000</td>\n",
       "      <td>5.42</td>\n",
       "      <td>88</td>\n",
       "      <td>6.82</td>\n",
       "      <td>[{'id': 804, 'main': 'Clouds', 'description': ...</td>\n",
       "      <td>0.04</td>\n",
       "      <td>NaN</td>\n",
       "    </tr>\n",
       "  </tbody>\n",
       "</table>\n",
       "</div>"
      ],
      "text/plain": [
       "           dt   temp  feels_like  pressure  humidity  dew_point  uvi  clouds  \\\n",
       "0  1634655600  25.47       26.16      1017        80      21.77  0.0      67   \n",
       "1  1634659200  25.37       26.03      1017        79      21.46  0.0      67   \n",
       "2  1634662800  25.31       25.93      1017        78      21.20  0.0      69   \n",
       "3  1634666400  25.22       25.83      1016        78      21.11  0.0      73   \n",
       "4  1634670000  24.94       25.55      1016        79      21.05  0.0      93   \n",
       "\n",
       "   visibility  wind_speed  wind_deg  wind_gust  \\\n",
       "0       10000        5.33        98       6.74   \n",
       "1       10000        5.57        97       6.98   \n",
       "2       10000        5.75        99       7.05   \n",
       "3       10000        5.71        94       7.04   \n",
       "4       10000        5.42        88       6.82   \n",
       "\n",
       "                                             weather   pop rain  \n",
       "0  [{'id': 803, 'main': 'Clouds', 'description': ...  0.00  NaN  \n",
       "1  [{'id': 803, 'main': 'Clouds', 'description': ...  0.00  NaN  \n",
       "2  [{'id': 803, 'main': 'Clouds', 'description': ...  0.00  NaN  \n",
       "3  [{'id': 803, 'main': 'Clouds', 'description': ...  0.00  NaN  \n",
       "4  [{'id': 804, 'main': 'Clouds', 'description': ...  0.04  NaN  "
      ]
     },
     "execution_count": 10,
     "metadata": {},
     "output_type": "execute_result"
    }
   ],
   "source": [
    "df_hourly.head()"
   ]
  },
  {
   "cell_type": "code",
   "execution_count": null,
   "metadata": {},
   "outputs": [],
   "source": []
  }
 ],
 "metadata": {
  "interpreter": {
   "hash": "c1b4cfe941b6d2466ad1fb5979e97da9cda8801728c8091b097ab734208fc00c"
  },
  "kernelspec": {
   "display_name": "Python 3.8.3 64-bit ('base': conda)",
   "name": "python3"
  },
  "language_info": {
   "codemirror_mode": {
    "name": "ipython",
    "version": 3
   },
   "file_extension": ".py",
   "mimetype": "text/x-python",
   "name": "python",
   "nbconvert_exporter": "python",
   "pygments_lexer": "ipython3",
   "version": "3.8.12"
  }
 },
 "nbformat": 4,
 "nbformat_minor": 2
}
