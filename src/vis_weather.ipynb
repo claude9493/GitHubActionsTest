{
 "cells": [
  {
   "cell_type": "code",
   "execution_count": 1,
   "metadata": {
    "execution": {
     "iopub.execute_input": "2021-08-29T18:17:23.244955Z",
     "iopub.status.busy": "2021-08-29T18:17:23.244273Z",
     "iopub.status.idle": "2021-08-29T18:17:24.711577Z",
     "shell.execute_reply": "2021-08-29T18:17:24.710447Z"
    }
   },
   "outputs": [],
   "source": [
    "import json, yaml, requests\r\n",
    "from datetime import datetime\r\n",
    "from dateutil import tz\r\n",
    "import pandas as pd\r\n",
    "from PIL import Image\r\n",
    "from io import BytesIO\r\n",
    "import matplotlib.pyplot as plt\r\n",
    "import seaborn\r\n",
    "\r\n",
    "CONFIG_PATH = \"../config/config.yaml\""
   ]
  },
  {
   "cell_type": "code",
   "execution_count": 2,
   "metadata": {
    "execution": {
     "iopub.execute_input": "2021-08-29T18:17:24.717712Z",
     "iopub.status.busy": "2021-08-29T18:17:24.717064Z",
     "iopub.status.idle": "2021-08-29T18:17:24.724223Z",
     "shell.execute_reply": "2021-08-29T18:17:24.724776Z"
    }
   },
   "outputs": [],
   "source": [
    "with open('../newest_ts', 'r') as f:\r\n",
    "    newest_ts = f.read()\r\n",
    "\r\n",
    "data_path = f\"../data/data_{newest_ts}.json\"\r\n",
    "with open(data_path, 'r') as f:\r\n",
    "    data = json.load(f)\r\n",
    "\r\n",
    "with open(CONFIG_PATH, \"r\") as stream:\r\n",
    "    config = yaml.safe_load(stream)\r\n",
    "\r\n",
    "TIME_ZONE = config['time_zone']\r\n",
    "DATETIME_FORMAT = config['dt_format']"
   ]
  },
  {
   "cell_type": "code",
   "execution_count": 3,
   "metadata": {
    "execution": {
     "iopub.execute_input": "2021-08-29T18:17:24.730881Z",
     "iopub.status.busy": "2021-08-29T18:17:24.729197Z",
     "iopub.status.idle": "2021-08-29T18:17:24.735648Z",
     "shell.execute_reply": "2021-08-29T18:17:24.736143Z"
    }
   },
   "outputs": [
    {
     "name": "stdout",
     "output_type": "stream",
     "text": [
      "Recent query happens at 2021-08-30 02:17:20 (CST).\n"
     ]
    }
   ],
   "source": [
    "def ts2dt(ts, format=DATETIME_FORMAT):\r\n",
    "    dt = (datetime.utcfromtimestamp(int(ts))\r\n",
    "                    .replace(tzinfo=tz.tzutc())\r\n",
    "                    # .astimezone(tz.tzlocal())\r\n",
    "                    .astimezone(tz.gettz(TIME_ZONE)))\r\n",
    "    return dt.strftime(format), dt\r\n",
    "\r\n",
    "_, newest_dt = ts2dt(newest_ts)\r\n",
    "print(f\"Recent query happens at {newest_dt.strftime(DATETIME_FORMAT)} ({newest_dt.tzname()}).\")"
   ]
  },
  {
   "cell_type": "code",
   "execution_count": 4,
   "metadata": {
    "execution": {
     "iopub.execute_input": "2021-08-29T18:17:24.741047Z",
     "iopub.status.busy": "2021-08-29T18:17:24.740468Z",
     "iopub.status.idle": "2021-08-29T18:17:24.743300Z",
     "shell.execute_reply": "2021-08-29T18:17:24.742667Z"
    }
   },
   "outputs": [],
   "source": [
    "def degrees_to_cardinal(d):\r\n",
    "  dirs = ['N', 'NNE', 'NE', 'ENE', 'E', 'ESE', 'SE', 'SSE', 'S', 'SSW', 'SW', 'WSW', 'W', 'WNW', 'NW', 'NNW']\r\n",
    "  ix = int(round(d / (360. / len(dirs))))\r\n",
    "  return dirs[ix % len(dirs)]"
   ]
  },
  {
   "cell_type": "code",
   "execution_count": 5,
   "metadata": {
    "execution": {
     "iopub.execute_input": "2021-08-29T18:17:24.748441Z",
     "iopub.status.busy": "2021-08-29T18:17:24.746909Z",
     "iopub.status.idle": "2021-08-29T18:17:24.749087Z",
     "shell.execute_reply": "2021-08-29T18:17:24.749566Z"
    }
   },
   "outputs": [],
   "source": [
    "# data.keys()"
   ]
  },
  {
   "cell_type": "code",
   "execution_count": 6,
   "metadata": {
    "execution": {
     "iopub.execute_input": "2021-08-29T18:17:24.754435Z",
     "iopub.status.busy": "2021-08-29T18:17:24.752891Z",
     "iopub.status.idle": "2021-08-29T18:17:24.755037Z",
     "shell.execute_reply": "2021-08-29T18:17:24.755541Z"
    }
   },
   "outputs": [],
   "source": [
    "# data['current']"
   ]
  },
  {
   "cell_type": "code",
   "execution_count": 7,
   "metadata": {
    "execution": {
     "iopub.execute_input": "2021-08-29T18:17:24.777345Z",
     "iopub.status.busy": "2021-08-29T18:17:24.776637Z",
     "iopub.status.idle": "2021-08-29T18:17:25.347016Z",
     "shell.execute_reply": "2021-08-29T18:17:25.347869Z"
    }
   },
   "outputs": [
    {
     "data": {
      "image/png": "[encoded data removed]",
      "text/plain": [
       "<Figure size 216x216 with 1 Axes>"
      ]
     },
     "metadata": {
      "needs_background": "light"
     },
     "output_type": "display_data"
    },
    {
     "name": "stdout",
     "output_type": "stream",
     "text": [
      "Today, sun rises at 06:05 and sets at 18:42.\n",
      "Currently, the weather is Clouds (broken clouds).\n",
      "The temperature is 28.59°C and it feels like 34.82°C.\n",
      "The UV index is 0, humidity is 86%.\n",
      "The pressure is 1011 hPa, percentage of cloud cover is 83%\n",
      "The wind comes from ESE direction with a speed 3.99 m/s.\n"
     ]
    }
   ],
   "source": [
    "current = data['current']\r\n",
    "\r\n",
    "fig, ax = plt.subplots(figsize=(3, 3))\r\n",
    "icon = requests.get(f\"http://openweathermap.org/img/wn/{current['weather'][0]['icon']}@2x.png\")\r\n",
    "im = Image.open(BytesIO(icon.content))\r\n",
    "plt.imshow(im)\r\n",
    "ax.set_axis_off()\r\n",
    "plt.show()\r\n",
    "\r\n",
    "print(f\"Today, sun rises at {ts2dt(current['sunrise'], '%H:%M')[0]} \\\r\n",
    "and sets at {ts2dt(current['sunset'], '%H:%M')[0]}.\\n\\\r\n",
    "Currently, the weather is {current['weather'][0]['main']} ({current['weather'][0]['description']}).\\n\\\r\n",
    "The temperature is {current['temp']}°C and it feels like {current['feels_like']}°C.\\n\\\r\n",
    "The UV index is {current['uvi']}, humidity is {current['humidity']}%.\\n\\\r\n",
    "The pressure is {current['pressure']} hPa, percentage of cloud cover is {current['clouds']}%\\n\\\r\n",
    "The wind comes from {degrees_to_cardinal(current['wind_deg'])} direction with a speed {current['wind_speed']} m/s.\")"
   ]
  },
  {
   "cell_type": "code",
   "execution_count": 8,
   "metadata": {
    "execution": {
     "iopub.execute_input": "2021-08-29T18:17:25.351784Z",
     "iopub.status.busy": "2021-08-29T18:17:25.350637Z",
     "iopub.status.idle": "2021-08-29T18:17:25.359266Z",
     "shell.execute_reply": "2021-08-29T18:17:25.360311Z"
    }
   },
   "outputs": [],
   "source": [
    "df_hourly = pd.DataFrame(data['hourly'])\r\n",
    "df_daily = pd.DataFrame(data['daily'])"
   ]
  },
  {
   "cell_type": "code",
   "execution_count": 9,
   "metadata": {
    "execution": {
     "iopub.execute_input": "2021-08-29T18:17:25.364176Z",
     "iopub.status.busy": "2021-08-29T18:17:25.363018Z",
     "iopub.status.idle": "2021-08-29T18:17:25.694398Z",
     "shell.execute_reply": "2021-08-29T18:17:25.693899Z"
    }
   },
   "outputs": [
    {
     "data": {
      "image/png": "[encoded data removed]",
      "text/plain": [
       "<Figure size 864x432 with 1 Axes>"
      ]
     },
     "metadata": {
      "needs_background": "light"
     },
     "output_type": "display_data"
    }
   ],
   "source": [
    "fig, ax = plt.subplots(figsize=(12, 6))\r\n",
    "plt.plot(df_hourly.temp, '.-', label='Temperature')\r\n",
    "plt.plot(df_hourly.feels_like, '.-', label='Feels Like')\r\n",
    "ax.set(title='Temperature in future 48 hours', xlabel='Time', ylabel='Temperature')\r\n",
    "ax.set_xticks(list(range(0, len(df_hourly), 2)))\r\n",
    "ax.set_xticklabels([ts2dt(ts, '%m-%d %H:%M')[0] for i, ts in enumerate(df_hourly.dt) if i%2==0], \r\n",
    "                   rotation=45, ha=\"right\")\r\n",
    "ax.locator_params(nbins=15, axis='y')\r\n",
    "plt.legend()\r\n",
    "plt.show()"
   ]
  },
  {
   "cell_type": "code",
   "execution_count": 10,
   "metadata": {
    "execution": {
     "iopub.execute_input": "2021-08-29T18:17:25.707631Z",
     "iopub.status.busy": "2021-08-29T18:17:25.698976Z",
     "iopub.status.idle": "2021-08-29T18:17:25.721398Z",
     "shell.execute_reply": "2021-08-29T18:17:25.720946Z"
    }
   },
   "outputs": [
    {
     "data": {
      "text/html": [
       "<div>\n",
       "<style scoped>\n",
       "    .dataframe tbody tr th:only-of-type {\n",
       "        vertical-align: middle;\n",
       "    }\n",
       "\n",
       "    .dataframe tbody tr th {\n",
       "        vertical-align: top;\n",
       "    }\n",
       "\n",
       "    .dataframe thead th {\n",
       "        text-align: right;\n",
       "    }\n",
       "</style>\n",
       "<table border=\"1\" class=\"dataframe\">\n",
       "  <thead>\n",
       "    <tr style=\"text-align: right;\">\n",
       "      <th></th>\n",
       "      <th>dt</th>\n",
       "      <th>temp</th>\n",
       "      <th>feels_like</th>\n",
       "      <th>pressure</th>\n",
       "      <th>humidity</th>\n",
       "      <th>dew_point</th>\n",
       "      <th>uvi</th>\n",
       "      <th>clouds</th>\n",
       "      <th>visibility</th>\n",
       "      <th>wind_speed</th>\n",
       "      <th>wind_deg</th>\n",
       "      <th>wind_gust</th>\n",
       "      <th>weather</th>\n",
       "      <th>pop</th>\n",
       "      <th>rain</th>\n",
       "    </tr>\n",
       "  </thead>\n",
       "  <tbody>\n",
       "    <tr>\n",
       "      <th>0</th>\n",
       "      <td>1630260000</td>\n",
       "      <td>28.59</td>\n",
       "      <td>34.82</td>\n",
       "      <td>1011</td>\n",
       "      <td>86</td>\n",
       "      <td>26.02</td>\n",
       "      <td>0.0</td>\n",
       "      <td>83</td>\n",
       "      <td>10000</td>\n",
       "      <td>3.99</td>\n",
       "      <td>111</td>\n",
       "      <td>5.90</td>\n",
       "      <td>[{'id': 803, 'main': 'Clouds', 'description': ...</td>\n",
       "      <td>0.40</td>\n",
       "      <td>NaN</td>\n",
       "    </tr>\n",
       "    <tr>\n",
       "      <th>1</th>\n",
       "      <td>1630263600</td>\n",
       "      <td>28.38</td>\n",
       "      <td>33.99</td>\n",
       "      <td>1011</td>\n",
       "      <td>85</td>\n",
       "      <td>25.61</td>\n",
       "      <td>0.0</td>\n",
       "      <td>72</td>\n",
       "      <td>10000</td>\n",
       "      <td>3.58</td>\n",
       "      <td>107</td>\n",
       "      <td>5.08</td>\n",
       "      <td>[{'id': 803, 'main': 'Clouds', 'description': ...</td>\n",
       "      <td>0.54</td>\n",
       "      <td>NaN</td>\n",
       "    </tr>\n",
       "    <tr>\n",
       "      <th>2</th>\n",
       "      <td>1630267200</td>\n",
       "      <td>28.06</td>\n",
       "      <td>33.07</td>\n",
       "      <td>1011</td>\n",
       "      <td>85</td>\n",
       "      <td>25.30</td>\n",
       "      <td>0.0</td>\n",
       "      <td>64</td>\n",
       "      <td>10000</td>\n",
       "      <td>3.52</td>\n",
       "      <td>96</td>\n",
       "      <td>5.06</td>\n",
       "      <td>[{'id': 803, 'main': 'Clouds', 'description': ...</td>\n",
       "      <td>0.50</td>\n",
       "      <td>NaN</td>\n",
       "    </tr>\n",
       "    <tr>\n",
       "      <th>3</th>\n",
       "      <td>1630270800</td>\n",
       "      <td>27.80</td>\n",
       "      <td>32.19</td>\n",
       "      <td>1011</td>\n",
       "      <td>84</td>\n",
       "      <td>24.85</td>\n",
       "      <td>0.0</td>\n",
       "      <td>50</td>\n",
       "      <td>10000</td>\n",
       "      <td>3.51</td>\n",
       "      <td>83</td>\n",
       "      <td>4.88</td>\n",
       "      <td>[{'id': 500, 'main': 'Rain', 'description': 'l...</td>\n",
       "      <td>0.54</td>\n",
       "      <td>{'1h': 0.23}</td>\n",
       "    </tr>\n",
       "    <tr>\n",
       "      <th>4</th>\n",
       "      <td>1630274400</td>\n",
       "      <td>27.53</td>\n",
       "      <td>31.47</td>\n",
       "      <td>1011</td>\n",
       "      <td>84</td>\n",
       "      <td>24.58</td>\n",
       "      <td>0.0</td>\n",
       "      <td>40</td>\n",
       "      <td>10000</td>\n",
       "      <td>3.62</td>\n",
       "      <td>73</td>\n",
       "      <td>4.81</td>\n",
       "      <td>[{'id': 500, 'main': 'Rain', 'description': 'l...</td>\n",
       "      <td>0.48</td>\n",
       "      <td>{'1h': 0.16}</td>\n",
       "    </tr>\n",
       "  </tbody>\n",
       "</table>\n",
       "</div>"
      ],
      "text/plain": [
       "           dt   temp  feels_like  pressure  humidity  dew_point  uvi  clouds  \\\n",
       "0  1630260000  28.59       34.82      1011        86      26.02  0.0      83   \n",
       "1  1630263600  28.38       33.99      1011        85      25.61  0.0      72   \n",
       "2  1630267200  28.06       33.07      1011        85      25.30  0.0      64   \n",
       "3  1630270800  27.80       32.19      1011        84      24.85  0.0      50   \n",
       "4  1630274400  27.53       31.47      1011        84      24.58  0.0      40   \n",
       "\n",
       "   visibility  wind_speed  wind_deg  wind_gust  \\\n",
       "0       10000        3.99       111       5.90   \n",
       "1       10000        3.58       107       5.08   \n",
       "2       10000        3.52        96       5.06   \n",
       "3       10000        3.51        83       4.88   \n",
       "4       10000        3.62        73       4.81   \n",
       "\n",
       "                                             weather   pop          rain  \n",
       "0  [{'id': 803, 'main': 'Clouds', 'description': ...  0.40           NaN  \n",
       "1  [{'id': 803, 'main': 'Clouds', 'description': ...  0.54           NaN  \n",
       "2  [{'id': 803, 'main': 'Clouds', 'description': ...  0.50           NaN  \n",
       "3  [{'id': 500, 'main': 'Rain', 'description': 'l...  0.54  {'1h': 0.23}  \n",
       "4  [{'id': 500, 'main': 'Rain', 'description': 'l...  0.48  {'1h': 0.16}  "
      ]
     },
     "execution_count": 10,
     "metadata": {},
     "output_type": "execute_result"
    }
   ],
   "source": [
    "df_hourly.head()"
   ]
  },
  {
   "cell_type": "code",
   "execution_count": null,
   "metadata": {},
   "outputs": [],
   "source": []
  }
 ],
 "metadata": {
  "interpreter": {
   "hash": "c1b4cfe941b6d2466ad1fb5979e97da9cda8801728c8091b097ab734208fc00c"
  },
  "kernelspec": {
   "display_name": "Python 3.8.3 64-bit ('base': conda)",
   "name": "python3"
  },
  "language_info": {
   "codemirror_mode": {
    "name": "ipython",
    "version": 3
   },
   "file_extension": ".py",
   "mimetype": "text/x-python",
   "name": "python",
   "nbconvert_exporter": "python",
   "pygments_lexer": "ipython3",
   "version": "3.8.11"
  }
 },
 "nbformat": 4,
 "nbformat_minor": 2
}
