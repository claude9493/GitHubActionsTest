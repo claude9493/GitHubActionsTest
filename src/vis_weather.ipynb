{
 "cells": [
  {
   "cell_type": "code",
   "execution_count": 1,
   "metadata": {
    "execution": {
     "iopub.execute_input": "2021-10-06T10:12:50.322627Z",
     "iopub.status.busy": "2021-10-06T10:12:50.321859Z",
     "iopub.status.idle": "2021-10-06T10:12:53.456694Z",
     "shell.execute_reply": "2021-10-06T10:12:53.457251Z"
    }
   },
   "outputs": [],
   "source": [
    "import json, yaml, requests\r\n",
    "from datetime import datetime\r\n",
    "from dateutil import tz\r\n",
    "import pandas as pd\r\n",
    "from PIL import Image\r\n",
    "from io import BytesIO\r\n",
    "import matplotlib.pyplot as plt\r\n",
    "import seaborn\r\n",
    "\r\n",
    "CONFIG_PATH = \"../config/config.yaml\""
   ]
  },
  {
   "cell_type": "code",
   "execution_count": 2,
   "metadata": {
    "execution": {
     "iopub.execute_input": "2021-10-06T10:12:53.462903Z",
     "iopub.status.busy": "2021-10-06T10:12:53.459996Z",
     "iopub.status.idle": "2021-10-06T10:12:53.469295Z",
     "shell.execute_reply": "2021-10-06T10:12:53.468685Z"
    }
   },
   "outputs": [],
   "source": [
    "with open('../newest_ts', 'r') as f:\r\n",
    "    newest_ts = f.read()\r\n",
    "\r\n",
    "data_path = f\"../data/data_{newest_ts}.json\"\r\n",
    "with open(data_path, 'r') as f:\r\n",
    "    data = json.load(f)\r\n",
    "\r\n",
    "with open(CONFIG_PATH, \"r\") as stream:\r\n",
    "    config = yaml.safe_load(stream)\r\n",
    "\r\n",
    "TIME_ZONE = config['time_zone']\r\n",
    "DATETIME_FORMAT = config['dt_format']"
   ]
  },
  {
   "cell_type": "code",
   "execution_count": 3,
   "metadata": {
    "execution": {
     "iopub.execute_input": "2021-10-06T10:12:53.475352Z",
     "iopub.status.busy": "2021-10-06T10:12:53.474699Z",
     "iopub.status.idle": "2021-10-06T10:12:53.509294Z",
     "shell.execute_reply": "2021-10-06T10:12:53.509873Z"
    }
   },
   "outputs": [
    {
     "name": "stdout",
     "output_type": "stream",
     "text": [
      "Recent query happens at 2021-10-06 18:12:45 (CST).\n"
     ]
    }
   ],
   "source": [
    "def ts2dt(ts, format=DATETIME_FORMAT):\r\n",
    "    dt = (datetime.utcfromtimestamp(int(ts))\r\n",
    "                    .replace(tzinfo=tz.tzutc())\r\n",
    "                    # .astimezone(tz.tzlocal())\r\n",
    "                    .astimezone(tz.gettz(TIME_ZONE)))\r\n",
    "    return dt.strftime(format), dt\r\n",
    "\r\n",
    "_, newest_dt = ts2dt(newest_ts)\r\n",
    "print(f\"Recent query happens at {newest_dt.strftime(DATETIME_FORMAT)} ({newest_dt.tzname()}).\")"
   ]
  },
  {
   "cell_type": "code",
   "execution_count": 4,
   "metadata": {
    "execution": {
     "iopub.execute_input": "2021-10-06T10:12:53.517576Z",
     "iopub.status.busy": "2021-10-06T10:12:53.515887Z",
     "iopub.status.idle": "2021-10-06T10:12:53.518294Z",
     "shell.execute_reply": "2021-10-06T10:12:53.518858Z"
    }
   },
   "outputs": [],
   "source": [
    "def degrees_to_cardinal(d):\r\n",
    "  dirs = ['N', 'NNE', 'NE', 'ENE', 'E', 'ESE', 'SE', 'SSE', 'S', 'SSW', 'SW', 'WSW', 'W', 'WNW', 'NW', 'NNW']\r\n",
    "  ix = int(round(d / (360. / len(dirs))))\r\n",
    "  return dirs[ix % len(dirs)]"
   ]
  },
  {
   "cell_type": "code",
   "execution_count": 5,
   "metadata": {
    "execution": {
     "iopub.execute_input": "2021-10-06T10:12:53.524616Z",
     "iopub.status.busy": "2021-10-06T10:12:53.523050Z",
     "iopub.status.idle": "2021-10-06T10:12:53.525353Z",
     "shell.execute_reply": "2021-10-06T10:12:53.525857Z"
    }
   },
   "outputs": [],
   "source": [
    "# data.keys()"
   ]
  },
  {
   "cell_type": "code",
   "execution_count": 6,
   "metadata": {
    "execution": {
     "iopub.execute_input": "2021-10-06T10:12:53.531238Z",
     "iopub.status.busy": "2021-10-06T10:12:53.529616Z",
     "iopub.status.idle": "2021-10-06T10:12:53.531907Z",
     "shell.execute_reply": "2021-10-06T10:12:53.532457Z"
    }
   },
   "outputs": [],
   "source": [
    "# data['current']"
   ]
  },
  {
   "cell_type": "code",
   "execution_count": 7,
   "metadata": {
    "execution": {
     "iopub.execute_input": "2021-10-06T10:12:53.566599Z",
     "iopub.status.busy": "2021-10-06T10:12:53.562685Z",
     "iopub.status.idle": "2021-10-06T10:12:53.964349Z",
     "shell.execute_reply": "2021-10-06T10:12:53.965225Z"
    }
   },
   "outputs": [
    {
     "data": {
      "image/png": "[encoded data removed]",
      "text/plain": [
       "<Figure size 216x216 with 1 Axes>"
      ]
     },
     "metadata": {
      "needs_background": "light"
     },
     "output_type": "display_data"
    },
    {
     "name": "stdout",
     "output_type": "stream",
     "text": [
      "Today, sun rises at 06:15 and sets at 18:06.\n",
      "Currently, the weather is Clouds (scattered clouds).\n",
      "The temperature is 30.1°C and it feels like 35.53°C.\n",
      "The UV index is 0, humidity is 71%.\n",
      "The pressure is 1005 hPa, percentage of cloud cover is 43%\n",
      "The wind comes from NE direction with a speed 1.34 m/s.\n"
     ]
    }
   ],
   "source": [
    "current = data['current']\r\n",
    "\r\n",
    "fig, ax = plt.subplots(figsize=(3, 3))\r\n",
    "icon = requests.get(f\"http://openweathermap.org/img/wn/{current['weather'][0]['icon']}@2x.png\")\r\n",
    "im = Image.open(BytesIO(icon.content))\r\n",
    "plt.imshow(im)\r\n",
    "ax.set_axis_off()\r\n",
    "plt.show()\r\n",
    "\r\n",
    "print(f\"Today, sun rises at {ts2dt(current['sunrise'], '%H:%M')[0]} \\\r\n",
    "and sets at {ts2dt(current['sunset'], '%H:%M')[0]}.\\n\\\r\n",
    "Currently, the weather is {current['weather'][0]['main']} ({current['weather'][0]['description']}).\\n\\\r\n",
    "The temperature is {current['temp']}°C and it feels like {current['feels_like']}°C.\\n\\\r\n",
    "The UV index is {current['uvi']}, humidity is {current['humidity']}%.\\n\\\r\n",
    "The pressure is {current['pressure']} hPa, percentage of cloud cover is {current['clouds']}%\\n\\\r\n",
    "The wind comes from {degrees_to_cardinal(current['wind_deg'])} direction with a speed {current['wind_speed']} m/s.\")"
   ]
  },
  {
   "cell_type": "code",
   "execution_count": 8,
   "metadata": {
    "execution": {
     "iopub.execute_input": "2021-10-06T10:12:53.970742Z",
     "iopub.status.busy": "2021-10-06T10:12:53.969542Z",
     "iopub.status.idle": "2021-10-06T10:12:53.981230Z",
     "shell.execute_reply": "2021-10-06T10:12:53.982553Z"
    }
   },
   "outputs": [],
   "source": [
    "df_hourly = pd.DataFrame(data['hourly'])\r\n",
    "df_daily = pd.DataFrame(data['daily'])"
   ]
  },
  {
   "cell_type": "code",
   "execution_count": 9,
   "metadata": {
    "execution": {
     "iopub.execute_input": "2021-10-06T10:12:53.990144Z",
     "iopub.status.busy": "2021-10-06T10:12:53.988157Z",
     "iopub.status.idle": "2021-10-06T10:12:54.353694Z",
     "shell.execute_reply": "2021-10-06T10:12:54.353155Z"
    }
   },
   "outputs": [
    {
     "data": {
      "image/png": "[encoded data removed]",
      "text/plain": [
       "<Figure size 864x432 with 1 Axes>"
      ]
     },
     "metadata": {
      "needs_background": "light"
     },
     "output_type": "display_data"
    }
   ],
   "source": [
    "fig, ax = plt.subplots(figsize=(12, 6))\r\n",
    "plt.plot(df_hourly.temp, '.-', label='Temperature')\r\n",
    "plt.plot(df_hourly.feels_like, '.-', label='Feels Like')\r\n",
    "ax.set(title='Temperature in future 48 hours', xlabel='Time', ylabel='Temperature')\r\n",
    "ax.set_xticks(list(range(0, len(df_hourly), 2)))\r\n",
    "ax.set_xticklabels([ts2dt(ts, '%m-%d %H:%M')[0] for i, ts in enumerate(df_hourly.dt) if i%2==0], \r\n",
    "                   rotation=45, ha=\"right\")\r\n",
    "ax.locator_params(nbins=15, axis='y')\r\n",
    "plt.legend()\r\n",
    "plt.show()"
   ]
  },
  {
   "cell_type": "code",
   "execution_count": 10,
   "metadata": {
    "execution": {
     "iopub.execute_input": "2021-10-06T10:12:54.359653Z",
     "iopub.status.busy": "2021-10-06T10:12:54.359066Z",
     "iopub.status.idle": "2021-10-06T10:12:54.383866Z",
     "shell.execute_reply": "2021-10-06T10:12:54.384358Z"
    }
   },
   "outputs": [
    {
     "data": {
      "text/html": [
       "<div>\n",
       "<style scoped>\n",
       "    .dataframe tbody tr th:only-of-type {\n",
       "        vertical-align: middle;\n",
       "    }\n",
       "\n",
       "    .dataframe tbody tr th {\n",
       "        vertical-align: top;\n",
       "    }\n",
       "\n",
       "    .dataframe thead th {\n",
       "        text-align: right;\n",
       "    }\n",
       "</style>\n",
       "<table border=\"1\" class=\"dataframe\">\n",
       "  <thead>\n",
       "    <tr style=\"text-align: right;\">\n",
       "      <th></th>\n",
       "      <th>dt</th>\n",
       "      <th>temp</th>\n",
       "      <th>feels_like</th>\n",
       "      <th>pressure</th>\n",
       "      <th>humidity</th>\n",
       "      <th>dew_point</th>\n",
       "      <th>uvi</th>\n",
       "      <th>clouds</th>\n",
       "      <th>visibility</th>\n",
       "      <th>wind_speed</th>\n",
       "      <th>wind_deg</th>\n",
       "      <th>wind_gust</th>\n",
       "      <th>weather</th>\n",
       "      <th>pop</th>\n",
       "      <th>rain</th>\n",
       "    </tr>\n",
       "  </thead>\n",
       "  <tbody>\n",
       "    <tr>\n",
       "      <th>0</th>\n",
       "      <td>1633514400</td>\n",
       "      <td>30.10</td>\n",
       "      <td>35.53</td>\n",
       "      <td>1005</td>\n",
       "      <td>71</td>\n",
       "      <td>24.26</td>\n",
       "      <td>0.0</td>\n",
       "      <td>43</td>\n",
       "      <td>10000</td>\n",
       "      <td>7.14</td>\n",
       "      <td>83</td>\n",
       "      <td>9.79</td>\n",
       "      <td>[{'id': 802, 'main': 'Clouds', 'description': ...</td>\n",
       "      <td>0.18</td>\n",
       "      <td>NaN</td>\n",
       "    </tr>\n",
       "    <tr>\n",
       "      <th>1</th>\n",
       "      <td>1633518000</td>\n",
       "      <td>29.75</td>\n",
       "      <td>35.14</td>\n",
       "      <td>1005</td>\n",
       "      <td>73</td>\n",
       "      <td>24.39</td>\n",
       "      <td>0.0</td>\n",
       "      <td>43</td>\n",
       "      <td>10000</td>\n",
       "      <td>7.35</td>\n",
       "      <td>88</td>\n",
       "      <td>10.46</td>\n",
       "      <td>[{'id': 802, 'main': 'Clouds', 'description': ...</td>\n",
       "      <td>0.22</td>\n",
       "      <td>NaN</td>\n",
       "    </tr>\n",
       "    <tr>\n",
       "      <th>2</th>\n",
       "      <td>1633521600</td>\n",
       "      <td>29.37</td>\n",
       "      <td>34.63</td>\n",
       "      <td>1006</td>\n",
       "      <td>75</td>\n",
       "      <td>24.47</td>\n",
       "      <td>0.0</td>\n",
       "      <td>42</td>\n",
       "      <td>10000</td>\n",
       "      <td>7.82</td>\n",
       "      <td>87</td>\n",
       "      <td>11.02</td>\n",
       "      <td>[{'id': 802, 'main': 'Clouds', 'description': ...</td>\n",
       "      <td>0.30</td>\n",
       "      <td>NaN</td>\n",
       "    </tr>\n",
       "    <tr>\n",
       "      <th>3</th>\n",
       "      <td>1633525200</td>\n",
       "      <td>28.86</td>\n",
       "      <td>33.55</td>\n",
       "      <td>1007</td>\n",
       "      <td>76</td>\n",
       "      <td>24.20</td>\n",
       "      <td>0.0</td>\n",
       "      <td>26</td>\n",
       "      <td>10000</td>\n",
       "      <td>8.51</td>\n",
       "      <td>87</td>\n",
       "      <td>12.07</td>\n",
       "      <td>[{'id': 500, 'main': 'Rain', 'description': 'l...</td>\n",
       "      <td>0.72</td>\n",
       "      <td>{'1h': 0.62}</td>\n",
       "    </tr>\n",
       "    <tr>\n",
       "      <th>4</th>\n",
       "      <td>1633528800</td>\n",
       "      <td>28.36</td>\n",
       "      <td>32.50</td>\n",
       "      <td>1007</td>\n",
       "      <td>77</td>\n",
       "      <td>23.94</td>\n",
       "      <td>0.0</td>\n",
       "      <td>17</td>\n",
       "      <td>10000</td>\n",
       "      <td>8.25</td>\n",
       "      <td>86</td>\n",
       "      <td>12.25</td>\n",
       "      <td>[{'id': 500, 'main': 'Rain', 'description': 'l...</td>\n",
       "      <td>0.75</td>\n",
       "      <td>{'1h': 0.91}</td>\n",
       "    </tr>\n",
       "  </tbody>\n",
       "</table>\n",
       "</div>"
      ],
      "text/plain": [
       "           dt   temp  feels_like  pressure  humidity  dew_point  uvi  clouds  \\\n",
       "0  1633514400  30.10       35.53      1005        71      24.26  0.0      43   \n",
       "1  1633518000  29.75       35.14      1005        73      24.39  0.0      43   \n",
       "2  1633521600  29.37       34.63      1006        75      24.47  0.0      42   \n",
       "3  1633525200  28.86       33.55      1007        76      24.20  0.0      26   \n",
       "4  1633528800  28.36       32.50      1007        77      23.94  0.0      17   \n",
       "\n",
       "   visibility  wind_speed  wind_deg  wind_gust  \\\n",
       "0       10000        7.14        83       9.79   \n",
       "1       10000        7.35        88      10.46   \n",
       "2       10000        7.82        87      11.02   \n",
       "3       10000        8.51        87      12.07   \n",
       "4       10000        8.25        86      12.25   \n",
       "\n",
       "                                             weather   pop          rain  \n",
       "0  [{'id': 802, 'main': 'Clouds', 'description': ...  0.18           NaN  \n",
       "1  [{'id': 802, 'main': 'Clouds', 'description': ...  0.22           NaN  \n",
       "2  [{'id': 802, 'main': 'Clouds', 'description': ...  0.30           NaN  \n",
       "3  [{'id': 500, 'main': 'Rain', 'description': 'l...  0.72  {'1h': 0.62}  \n",
       "4  [{'id': 500, 'main': 'Rain', 'description': 'l...  0.75  {'1h': 0.91}  "
      ]
     },
     "execution_count": 10,
     "metadata": {},
     "output_type": "execute_result"
    }
   ],
   "source": [
    "df_hourly.head()"
   ]
  },
  {
   "cell_type": "code",
   "execution_count": null,
   "metadata": {},
   "outputs": [],
   "source": []
  }
 ],
 "metadata": {
  "interpreter": {
   "hash": "c1b4cfe941b6d2466ad1fb5979e97da9cda8801728c8091b097ab734208fc00c"
  },
  "kernelspec": {
   "display_name": "Python 3.8.3 64-bit ('base': conda)",
   "name": "python3"
  },
  "language_info": {
   "codemirror_mode": {
    "name": "ipython",
    "version": 3
   },
   "file_extension": ".py",
   "mimetype": "text/x-python",
   "name": "python",
   "nbconvert_exporter": "python",
   "pygments_lexer": "ipython3",
   "version": "3.8.12"
  }
 },
 "nbformat": 4,
 "nbformat_minor": 2
}
