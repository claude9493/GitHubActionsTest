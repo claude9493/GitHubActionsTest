{
 "cells": [
  {
   "cell_type": "code",
   "execution_count": 1,
   "metadata": {
    "execution": {
     "iopub.execute_input": "2021-10-08T05:10:38.733369Z",
     "iopub.status.busy": "2021-10-08T05:10:38.732679Z",
     "iopub.status.idle": "2021-10-08T05:10:41.183254Z",
     "shell.execute_reply": "2021-10-08T05:10:41.182232Z"
    }
   },
   "outputs": [],
   "source": [
    "import json, yaml, requests\r\n",
    "from datetime import datetime\r\n",
    "from dateutil import tz\r\n",
    "import pandas as pd\r\n",
    "from PIL import Image\r\n",
    "from io import BytesIO\r\n",
    "import matplotlib.pyplot as plt\r\n",
    "import seaborn\r\n",
    "\r\n",
    "CONFIG_PATH = \"../config/config.yaml\""
   ]
  },
  {
   "cell_type": "code",
   "execution_count": 2,
   "metadata": {
    "execution": {
     "iopub.execute_input": "2021-10-08T05:10:41.191302Z",
     "iopub.status.busy": "2021-10-08T05:10:41.188720Z",
     "iopub.status.idle": "2021-10-08T05:10:41.193150Z",
     "shell.execute_reply": "2021-10-08T05:10:41.192710Z"
    }
   },
   "outputs": [],
   "source": [
    "with open('../newest_ts', 'r') as f:\r\n",
    "    newest_ts = f.read()\r\n",
    "\r\n",
    "data_path = f\"../data/data_{newest_ts}.json\"\r\n",
    "with open(data_path, 'r') as f:\r\n",
    "    data = json.load(f)\r\n",
    "\r\n",
    "with open(CONFIG_PATH, \"r\") as stream:\r\n",
    "    config = yaml.safe_load(stream)\r\n",
    "\r\n",
    "TIME_ZONE = config['time_zone']\r\n",
    "DATETIME_FORMAT = config['dt_format']"
   ]
  },
  {
   "cell_type": "code",
   "execution_count": 3,
   "metadata": {
    "execution": {
     "iopub.execute_input": "2021-10-08T05:10:41.197988Z",
     "iopub.status.busy": "2021-10-08T05:10:41.197412Z",
     "iopub.status.idle": "2021-10-08T05:10:41.220441Z",
     "shell.execute_reply": "2021-10-08T05:10:41.220826Z"
    }
   },
   "outputs": [
    {
     "name": "stdout",
     "output_type": "stream",
     "text": [
      "Recent query happens at 2021-10-08 13:10:35 (CST).\n"
     ]
    }
   ],
   "source": [
    "def ts2dt(ts, format=DATETIME_FORMAT):\r\n",
    "    dt = (datetime.utcfromtimestamp(int(ts))\r\n",
    "                    .replace(tzinfo=tz.tzutc())\r\n",
    "                    # .astimezone(tz.tzlocal())\r\n",
    "                    .astimezone(tz.gettz(TIME_ZONE)))\r\n",
    "    return dt.strftime(format), dt\r\n",
    "\r\n",
    "_, newest_dt = ts2dt(newest_ts)\r\n",
    "print(f\"Recent query happens at {newest_dt.strftime(DATETIME_FORMAT)} ({newest_dt.tzname()}).\")"
   ]
  },
  {
   "cell_type": "code",
   "execution_count": 4,
   "metadata": {
    "execution": {
     "iopub.execute_input": "2021-10-08T05:10:41.225259Z",
     "iopub.status.busy": "2021-10-08T05:10:41.224752Z",
     "iopub.status.idle": "2021-10-08T05:10:41.229107Z",
     "shell.execute_reply": "2021-10-08T05:10:41.228608Z"
    }
   },
   "outputs": [],
   "source": [
    "def degrees_to_cardinal(d):\r\n",
    "  dirs = ['N', 'NNE', 'NE', 'ENE', 'E', 'ESE', 'SE', 'SSE', 'S', 'SSW', 'SW', 'WSW', 'W', 'WNW', 'NW', 'NNW']\r\n",
    "  ix = int(round(d / (360. / len(dirs))))\r\n",
    "  return dirs[ix % len(dirs)]"
   ]
  },
  {
   "cell_type": "code",
   "execution_count": 5,
   "metadata": {
    "execution": {
     "iopub.execute_input": "2021-10-08T05:10:41.233307Z",
     "iopub.status.busy": "2021-10-08T05:10:41.232176Z",
     "iopub.status.idle": "2021-10-08T05:10:41.233945Z",
     "shell.execute_reply": "2021-10-08T05:10:41.234384Z"
    }
   },
   "outputs": [],
   "source": [
    "# data.keys()"
   ]
  },
  {
   "cell_type": "code",
   "execution_count": 6,
   "metadata": {
    "execution": {
     "iopub.execute_input": "2021-10-08T05:10:41.238553Z",
     "iopub.status.busy": "2021-10-08T05:10:41.237339Z",
     "iopub.status.idle": "2021-10-08T05:10:41.239044Z",
     "shell.execute_reply": "2021-10-08T05:10:41.239389Z"
    }
   },
   "outputs": [],
   "source": [
    "# data['current']"
   ]
  },
  {
   "cell_type": "code",
   "execution_count": 7,
   "metadata": {
    "execution": {
     "iopub.execute_input": "2021-10-08T05:10:41.255986Z",
     "iopub.status.busy": "2021-10-08T05:10:41.255540Z",
     "iopub.status.idle": "2021-10-08T05:10:41.528297Z",
     "shell.execute_reply": "2021-10-08T05:10:41.529014Z"
    }
   },
   "outputs": [
    {
     "data": {
      "image/png": "[encoded data removed]",
      "text/plain": [
       "<Figure size 216x216 with 1 Axes>"
      ]
     },
     "metadata": {
      "needs_background": "light"
     },
     "output_type": "display_data"
    },
    {
     "name": "stdout",
     "output_type": "stream",
     "text": [
      "Today, sun rises at 06:16 and sets at 18:04.\n",
      "Currently, the weather is Rain (heavy intensity rain).\n",
      "The temperature is 25.18°C and it feels like 26.26°C.\n",
      "The UV index is 0.42, humidity is 96%.\n",
      "The pressure is 1003 hPa, percentage of cloud cover is 100%\n",
      "The wind comes from NNE direction with a speed 1.79 m/s.\n"
     ]
    }
   ],
   "source": [
    "current = data['current']\r\n",
    "\r\n",
    "fig, ax = plt.subplots(figsize=(3, 3))\r\n",
    "icon = requests.get(f\"http://openweathermap.org/img/wn/{current['weather'][0]['icon']}@2x.png\")\r\n",
    "im = Image.open(BytesIO(icon.content))\r\n",
    "plt.imshow(im)\r\n",
    "ax.set_axis_off()\r\n",
    "plt.show()\r\n",
    "\r\n",
    "print(f\"Today, sun rises at {ts2dt(current['sunrise'], '%H:%M')[0]} \\\r\n",
    "and sets at {ts2dt(current['sunset'], '%H:%M')[0]}.\\n\\\r\n",
    "Currently, the weather is {current['weather'][0]['main']} ({current['weather'][0]['description']}).\\n\\\r\n",
    "The temperature is {current['temp']}°C and it feels like {current['feels_like']}°C.\\n\\\r\n",
    "The UV index is {current['uvi']}, humidity is {current['humidity']}%.\\n\\\r\n",
    "The pressure is {current['pressure']} hPa, percentage of cloud cover is {current['clouds']}%\\n\\\r\n",
    "The wind comes from {degrees_to_cardinal(current['wind_deg'])} direction with a speed {current['wind_speed']} m/s.\")"
   ]
  },
  {
   "cell_type": "code",
   "execution_count": 8,
   "metadata": {
    "execution": {
     "iopub.execute_input": "2021-10-08T05:10:41.532738Z",
     "iopub.status.busy": "2021-10-08T05:10:41.531540Z",
     "iopub.status.idle": "2021-10-08T05:10:41.539022Z",
     "shell.execute_reply": "2021-10-08T05:10:41.539717Z"
    }
   },
   "outputs": [],
   "source": [
    "df_hourly = pd.DataFrame(data['hourly'])\r\n",
    "df_daily = pd.DataFrame(data['daily'])"
   ]
  },
  {
   "cell_type": "code",
   "execution_count": 9,
   "metadata": {
    "execution": {
     "iopub.execute_input": "2021-10-08T05:10:41.544882Z",
     "iopub.status.busy": "2021-10-08T05:10:41.542008Z",
     "iopub.status.idle": "2021-10-08T05:10:41.842378Z",
     "shell.execute_reply": "2021-10-08T05:10:41.842813Z"
    }
   },
   "outputs": [
    {
     "data": {
      "image/png": "[encoded data removed]",
      "text/plain": [
       "<Figure size 864x432 with 1 Axes>"
      ]
     },
     "metadata": {
      "needs_background": "light"
     },
     "output_type": "display_data"
    }
   ],
   "source": [
    "fig, ax = plt.subplots(figsize=(12, 6))\r\n",
    "plt.plot(df_hourly.temp, '.-', label='Temperature')\r\n",
    "plt.plot(df_hourly.feels_like, '.-', label='Feels Like')\r\n",
    "ax.set(title='Temperature in future 48 hours', xlabel='Time', ylabel='Temperature')\r\n",
    "ax.set_xticks(list(range(0, len(df_hourly), 2)))\r\n",
    "ax.set_xticklabels([ts2dt(ts, '%m-%d %H:%M')[0] for i, ts in enumerate(df_hourly.dt) if i%2==0], \r\n",
    "                   rotation=45, ha=\"right\")\r\n",
    "ax.locator_params(nbins=15, axis='y')\r\n",
    "plt.legend()\r\n",
    "plt.show()"
   ]
  },
  {
   "cell_type": "code",
   "execution_count": 10,
   "metadata": {
    "execution": {
     "iopub.execute_input": "2021-10-08T05:10:41.847653Z",
     "iopub.status.busy": "2021-10-08T05:10:41.845380Z",
     "iopub.status.idle": "2021-10-08T05:10:41.869235Z",
     "shell.execute_reply": "2021-10-08T05:10:41.868742Z"
    }
   },
   "outputs": [
    {
     "data": {
      "text/html": [
       "<div>\n",
       "<style scoped>\n",
       "    .dataframe tbody tr th:only-of-type {\n",
       "        vertical-align: middle;\n",
       "    }\n",
       "\n",
       "    .dataframe tbody tr th {\n",
       "        vertical-align: top;\n",
       "    }\n",
       "\n",
       "    .dataframe thead th {\n",
       "        text-align: right;\n",
       "    }\n",
       "</style>\n",
       "<table border=\"1\" class=\"dataframe\">\n",
       "  <thead>\n",
       "    <tr style=\"text-align: right;\">\n",
       "      <th></th>\n",
       "      <th>dt</th>\n",
       "      <th>temp</th>\n",
       "      <th>feels_like</th>\n",
       "      <th>pressure</th>\n",
       "      <th>humidity</th>\n",
       "      <th>dew_point</th>\n",
       "      <th>uvi</th>\n",
       "      <th>clouds</th>\n",
       "      <th>visibility</th>\n",
       "      <th>wind_speed</th>\n",
       "      <th>wind_deg</th>\n",
       "      <th>wind_gust</th>\n",
       "      <th>weather</th>\n",
       "      <th>pop</th>\n",
       "      <th>rain</th>\n",
       "    </tr>\n",
       "  </thead>\n",
       "  <tbody>\n",
       "    <tr>\n",
       "      <th>0</th>\n",
       "      <td>1633669200</td>\n",
       "      <td>25.18</td>\n",
       "      <td>26.26</td>\n",
       "      <td>1003</td>\n",
       "      <td>96</td>\n",
       "      <td>24.50</td>\n",
       "      <td>0.42</td>\n",
       "      <td>100</td>\n",
       "      <td>3264</td>\n",
       "      <td>9.30</td>\n",
       "      <td>106</td>\n",
       "      <td>13.06</td>\n",
       "      <td>[{'id': 502, 'main': 'Rain', 'description': 'h...</td>\n",
       "      <td>1.0</td>\n",
       "      <td>{'1h': 5.5}</td>\n",
       "    </tr>\n",
       "    <tr>\n",
       "      <th>1</th>\n",
       "      <td>1633672800</td>\n",
       "      <td>25.28</td>\n",
       "      <td>26.34</td>\n",
       "      <td>1003</td>\n",
       "      <td>95</td>\n",
       "      <td>24.42</td>\n",
       "      <td>0.34</td>\n",
       "      <td>100</td>\n",
       "      <td>2762</td>\n",
       "      <td>9.59</td>\n",
       "      <td>109</td>\n",
       "      <td>12.87</td>\n",
       "      <td>[{'id': 502, 'main': 'Rain', 'description': 'h...</td>\n",
       "      <td>1.0</td>\n",
       "      <td>{'1h': 4.21}</td>\n",
       "    </tr>\n",
       "    <tr>\n",
       "      <th>2</th>\n",
       "      <td>1633676400</td>\n",
       "      <td>25.35</td>\n",
       "      <td>26.40</td>\n",
       "      <td>1003</td>\n",
       "      <td>94</td>\n",
       "      <td>24.31</td>\n",
       "      <td>0.19</td>\n",
       "      <td>100</td>\n",
       "      <td>3799</td>\n",
       "      <td>9.91</td>\n",
       "      <td>103</td>\n",
       "      <td>13.19</td>\n",
       "      <td>[{'id': 502, 'main': 'Rain', 'description': 'h...</td>\n",
       "      <td>1.0</td>\n",
       "      <td>{'1h': 6.48}</td>\n",
       "    </tr>\n",
       "    <tr>\n",
       "      <th>3</th>\n",
       "      <td>1633680000</td>\n",
       "      <td>25.44</td>\n",
       "      <td>26.49</td>\n",
       "      <td>1004</td>\n",
       "      <td>94</td>\n",
       "      <td>24.40</td>\n",
       "      <td>0.09</td>\n",
       "      <td>100</td>\n",
       "      <td>4475</td>\n",
       "      <td>10.32</td>\n",
       "      <td>99</td>\n",
       "      <td>14.20</td>\n",
       "      <td>[{'id': 502, 'main': 'Rain', 'description': 'h...</td>\n",
       "      <td>1.0</td>\n",
       "      <td>{'1h': 4.39}</td>\n",
       "    </tr>\n",
       "    <tr>\n",
       "      <th>4</th>\n",
       "      <td>1633683600</td>\n",
       "      <td>25.47</td>\n",
       "      <td>26.53</td>\n",
       "      <td>1004</td>\n",
       "      <td>94</td>\n",
       "      <td>24.43</td>\n",
       "      <td>0.02</td>\n",
       "      <td>100</td>\n",
       "      <td>3314</td>\n",
       "      <td>10.77</td>\n",
       "      <td>95</td>\n",
       "      <td>15.14</td>\n",
       "      <td>[{'id': 502, 'main': 'Rain', 'description': 'h...</td>\n",
       "      <td>1.0</td>\n",
       "      <td>{'1h': 4.21}</td>\n",
       "    </tr>\n",
       "  </tbody>\n",
       "</table>\n",
       "</div>"
      ],
      "text/plain": [
       "           dt   temp  feels_like  pressure  humidity  dew_point   uvi  clouds  \\\n",
       "0  1633669200  25.18       26.26      1003        96      24.50  0.42     100   \n",
       "1  1633672800  25.28       26.34      1003        95      24.42  0.34     100   \n",
       "2  1633676400  25.35       26.40      1003        94      24.31  0.19     100   \n",
       "3  1633680000  25.44       26.49      1004        94      24.40  0.09     100   \n",
       "4  1633683600  25.47       26.53      1004        94      24.43  0.02     100   \n",
       "\n",
       "   visibility  wind_speed  wind_deg  wind_gust  \\\n",
       "0        3264        9.30       106      13.06   \n",
       "1        2762        9.59       109      12.87   \n",
       "2        3799        9.91       103      13.19   \n",
       "3        4475       10.32        99      14.20   \n",
       "4        3314       10.77        95      15.14   \n",
       "\n",
       "                                             weather  pop          rain  \n",
       "0  [{'id': 502, 'main': 'Rain', 'description': 'h...  1.0   {'1h': 5.5}  \n",
       "1  [{'id': 502, 'main': 'Rain', 'description': 'h...  1.0  {'1h': 4.21}  \n",
       "2  [{'id': 502, 'main': 'Rain', 'description': 'h...  1.0  {'1h': 6.48}  \n",
       "3  [{'id': 502, 'main': 'Rain', 'description': 'h...  1.0  {'1h': 4.39}  \n",
       "4  [{'id': 502, 'main': 'Rain', 'description': 'h...  1.0  {'1h': 4.21}  "
      ]
     },
     "execution_count": 10,
     "metadata": {},
     "output_type": "execute_result"
    }
   ],
   "source": [
    "df_hourly.head()"
   ]
  },
  {
   "cell_type": "code",
   "execution_count": null,
   "metadata": {},
   "outputs": [],
   "source": []
  }
 ],
 "metadata": {
  "interpreter": {
   "hash": "c1b4cfe941b6d2466ad1fb5979e97da9cda8801728c8091b097ab734208fc00c"
  },
  "kernelspec": {
   "display_name": "Python 3.8.3 64-bit ('base': conda)",
   "name": "python3"
  },
  "language_info": {
   "codemirror_mode": {
    "name": "ipython",
    "version": 3
   },
   "file_extension": ".py",
   "mimetype": "text/x-python",
   "name": "python",
   "nbconvert_exporter": "python",
   "pygments_lexer": "ipython3",
   "version": "3.8.12"
  }
 },
 "nbformat": 4,
 "nbformat_minor": 2
}
