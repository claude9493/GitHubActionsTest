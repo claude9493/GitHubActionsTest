{
 "cells": [
  {
   "cell_type": "code",
   "execution_count": 1,
   "metadata": {
    "execution": {
     "iopub.execute_input": "2021-09-18T08:12:49.526285Z",
     "iopub.status.busy": "2021-09-18T08:12:49.525765Z",
     "iopub.status.idle": "2021-09-18T08:12:50.670428Z",
     "shell.execute_reply": "2021-09-18T08:12:50.670831Z"
    }
   },
   "outputs": [],
   "source": [
    "import json, yaml, requests\r\n",
    "from datetime import datetime\r\n",
    "from dateutil import tz\r\n",
    "import pandas as pd\r\n",
    "from PIL import Image\r\n",
    "from io import BytesIO\r\n",
    "import matplotlib.pyplot as plt\r\n",
    "import seaborn\r\n",
    "\r\n",
    "CONFIG_PATH = \"../config/config.yaml\""
   ]
  },
  {
   "cell_type": "code",
   "execution_count": 2,
   "metadata": {
    "execution": {
     "iopub.execute_input": "2021-09-18T08:12:50.678449Z",
     "iopub.status.busy": "2021-09-18T08:12:50.675387Z",
     "iopub.status.idle": "2021-09-18T08:12:50.680962Z",
     "shell.execute_reply": "2021-09-18T08:12:50.680581Z"
    }
   },
   "outputs": [],
   "source": [
    "with open('../newest_ts', 'r') as f:\r\n",
    "    newest_ts = f.read()\r\n",
    "\r\n",
    "data_path = f\"../data/data_{newest_ts}.json\"\r\n",
    "with open(data_path, 'r') as f:\r\n",
    "    data = json.load(f)\r\n",
    "\r\n",
    "with open(CONFIG_PATH, \"r\") as stream:\r\n",
    "    config = yaml.safe_load(stream)\r\n",
    "\r\n",
    "TIME_ZONE = config['time_zone']\r\n",
    "DATETIME_FORMAT = config['dt_format']"
   ]
  },
  {
   "cell_type": "code",
   "execution_count": 3,
   "metadata": {
    "execution": {
     "iopub.execute_input": "2021-09-18T08:12:50.685437Z",
     "iopub.status.busy": "2021-09-18T08:12:50.684960Z",
     "iopub.status.idle": "2021-09-18T08:12:50.699174Z",
     "shell.execute_reply": "2021-09-18T08:12:50.699560Z"
    }
   },
   "outputs": [
    {
     "name": "stdout",
     "output_type": "stream",
     "text": [
      "Recent query happens at 2021-09-18 16:12:46 (CST).\n"
     ]
    }
   ],
   "source": [
    "def ts2dt(ts, format=DATETIME_FORMAT):\r\n",
    "    dt = (datetime.utcfromtimestamp(int(ts))\r\n",
    "                    .replace(tzinfo=tz.tzutc())\r\n",
    "                    # .astimezone(tz.tzlocal())\r\n",
    "                    .astimezone(tz.gettz(TIME_ZONE)))\r\n",
    "    return dt.strftime(format), dt\r\n",
    "\r\n",
    "_, newest_dt = ts2dt(newest_ts)\r\n",
    "print(f\"Recent query happens at {newest_dt.strftime(DATETIME_FORMAT)} ({newest_dt.tzname()}).\")"
   ]
  },
  {
   "cell_type": "code",
   "execution_count": 4,
   "metadata": {
    "execution": {
     "iopub.execute_input": "2021-09-18T08:12:50.703971Z",
     "iopub.status.busy": "2021-09-18T08:12:50.703513Z",
     "iopub.status.idle": "2021-09-18T08:12:50.706522Z",
     "shell.execute_reply": "2021-09-18T08:12:50.706126Z"
    }
   },
   "outputs": [],
   "source": [
    "def degrees_to_cardinal(d):\r\n",
    "  dirs = ['N', 'NNE', 'NE', 'ENE', 'E', 'ESE', 'SE', 'SSE', 'S', 'SSW', 'SW', 'WSW', 'W', 'WNW', 'NW', 'NNW']\r\n",
    "  ix = int(round(d / (360. / len(dirs))))\r\n",
    "  return dirs[ix % len(dirs)]"
   ]
  },
  {
   "cell_type": "code",
   "execution_count": 5,
   "metadata": {
    "execution": {
     "iopub.execute_input": "2021-09-18T08:12:50.710510Z",
     "iopub.status.busy": "2021-09-18T08:12:50.709480Z",
     "iopub.status.idle": "2021-09-18T08:12:50.711060Z",
     "shell.execute_reply": "2021-09-18T08:12:50.711435Z"
    }
   },
   "outputs": [],
   "source": [
    "# data.keys()"
   ]
  },
  {
   "cell_type": "code",
   "execution_count": 6,
   "metadata": {
    "execution": {
     "iopub.execute_input": "2021-09-18T08:12:50.715064Z",
     "iopub.status.busy": "2021-09-18T08:12:50.714076Z",
     "iopub.status.idle": "2021-09-18T08:12:50.715583Z",
     "shell.execute_reply": "2021-09-18T08:12:50.715950Z"
    }
   },
   "outputs": [],
   "source": [
    "# data['current']"
   ]
  },
  {
   "cell_type": "code",
   "execution_count": 7,
   "metadata": {
    "execution": {
     "iopub.execute_input": "2021-09-18T08:12:50.733876Z",
     "iopub.status.busy": "2021-09-18T08:12:50.733349Z",
     "iopub.status.idle": "2021-09-18T08:12:51.298537Z",
     "shell.execute_reply": "2021-09-18T08:12:51.298130Z"
    }
   },
   "outputs": [
    {
     "data": {
      "image/png": "[encoded data removed]",
      "text/plain": [
       "<Figure size 216x216 with 1 Axes>"
      ]
     },
     "metadata": {
      "needs_background": "light"
     },
     "output_type": "display_data"
    },
    {
     "name": "stdout",
     "output_type": "stream",
     "text": [
      "Today, sun rises at 06:10 and sets at 18:24.\n",
      "Currently, the weather is Clouds (overcast clouds).\n",
      "The temperature is 32.75°C and it feels like 39.75°C.\n",
      "The UV index is 2.45, humidity is 75%.\n",
      "The pressure is 1009 hPa, percentage of cloud cover is 98%\n",
      "The wind comes from E direction with a speed 5.86 m/s.\n"
     ]
    }
   ],
   "source": [
    "current = data['current']\r\n",
    "\r\n",
    "fig, ax = plt.subplots(figsize=(3, 3))\r\n",
    "icon = requests.get(f\"http://openweathermap.org/img/wn/{current['weather'][0]['icon']}@2x.png\")\r\n",
    "im = Image.open(BytesIO(icon.content))\r\n",
    "plt.imshow(im)\r\n",
    "ax.set_axis_off()\r\n",
    "plt.show()\r\n",
    "\r\n",
    "print(f\"Today, sun rises at {ts2dt(current['sunrise'], '%H:%M')[0]} \\\r\n",
    "and sets at {ts2dt(current['sunset'], '%H:%M')[0]}.\\n\\\r\n",
    "Currently, the weather is {current['weather'][0]['main']} ({current['weather'][0]['description']}).\\n\\\r\n",
    "The temperature is {current['temp']}°C and it feels like {current['feels_like']}°C.\\n\\\r\n",
    "The UV index is {current['uvi']}, humidity is {current['humidity']}%.\\n\\\r\n",
    "The pressure is {current['pressure']} hPa, percentage of cloud cover is {current['clouds']}%\\n\\\r\n",
    "The wind comes from {degrees_to_cardinal(current['wind_deg'])} direction with a speed {current['wind_speed']} m/s.\")"
   ]
  },
  {
   "cell_type": "code",
   "execution_count": 8,
   "metadata": {
    "execution": {
     "iopub.execute_input": "2021-09-18T08:12:51.301624Z",
     "iopub.status.busy": "2021-09-18T08:12:51.301173Z",
     "iopub.status.idle": "2021-09-18T08:12:51.307884Z",
     "shell.execute_reply": "2021-09-18T08:12:51.308529Z"
    }
   },
   "outputs": [],
   "source": [
    "df_hourly = pd.DataFrame(data['hourly'])\r\n",
    "df_daily = pd.DataFrame(data['daily'])"
   ]
  },
  {
   "cell_type": "code",
   "execution_count": 9,
   "metadata": {
    "execution": {
     "iopub.execute_input": "2021-09-18T08:12:51.311808Z",
     "iopub.status.busy": "2021-09-18T08:12:51.310762Z",
     "iopub.status.idle": "2021-09-18T08:12:51.564664Z",
     "shell.execute_reply": "2021-09-18T08:12:51.564222Z"
    }
   },
   "outputs": [
    {
     "data": {
      "image/png": "[encoded data removed]",
      "text/plain": [
       "<Figure size 864x432 with 1 Axes>"
      ]
     },
     "metadata": {
      "needs_background": "light"
     },
     "output_type": "display_data"
    }
   ],
   "source": [
    "fig, ax = plt.subplots(figsize=(12, 6))\r\n",
    "plt.plot(df_hourly.temp, '.-', label='Temperature')\r\n",
    "plt.plot(df_hourly.feels_like, '.-', label='Feels Like')\r\n",
    "ax.set(title='Temperature in future 48 hours', xlabel='Time', ylabel='Temperature')\r\n",
    "ax.set_xticks(list(range(0, len(df_hourly), 2)))\r\n",
    "ax.set_xticklabels([ts2dt(ts, '%m-%d %H:%M')[0] for i, ts in enumerate(df_hourly.dt) if i%2==0], \r\n",
    "                   rotation=45, ha=\"right\")\r\n",
    "ax.locator_params(nbins=15, axis='y')\r\n",
    "plt.legend()\r\n",
    "plt.show()"
   ]
  },
  {
   "cell_type": "code",
   "execution_count": 10,
   "metadata": {
    "execution": {
     "iopub.execute_input": "2021-09-18T08:12:51.569303Z",
     "iopub.status.busy": "2021-09-18T08:12:51.566942Z",
     "iopub.status.idle": "2021-09-18T08:12:51.587767Z",
     "shell.execute_reply": "2021-09-18T08:12:51.587369Z"
    }
   },
   "outputs": [
    {
     "data": {
      "text/html": [
       "<div>\n",
       "<style scoped>\n",
       "    .dataframe tbody tr th:only-of-type {\n",
       "        vertical-align: middle;\n",
       "    }\n",
       "\n",
       "    .dataframe tbody tr th {\n",
       "        vertical-align: top;\n",
       "    }\n",
       "\n",
       "    .dataframe thead th {\n",
       "        text-align: right;\n",
       "    }\n",
       "</style>\n",
       "<table border=\"1\" class=\"dataframe\">\n",
       "  <thead>\n",
       "    <tr style=\"text-align: right;\">\n",
       "      <th></th>\n",
       "      <th>dt</th>\n",
       "      <th>temp</th>\n",
       "      <th>feels_like</th>\n",
       "      <th>pressure</th>\n",
       "      <th>humidity</th>\n",
       "      <th>dew_point</th>\n",
       "      <th>uvi</th>\n",
       "      <th>clouds</th>\n",
       "      <th>visibility</th>\n",
       "      <th>wind_speed</th>\n",
       "      <th>wind_deg</th>\n",
       "      <th>wind_gust</th>\n",
       "      <th>weather</th>\n",
       "      <th>pop</th>\n",
       "      <th>rain</th>\n",
       "    </tr>\n",
       "  </thead>\n",
       "  <tbody>\n",
       "    <tr>\n",
       "      <th>0</th>\n",
       "      <td>1631952000</td>\n",
       "      <td>32.75</td>\n",
       "      <td>39.75</td>\n",
       "      <td>1009</td>\n",
       "      <td>75</td>\n",
       "      <td>27.73</td>\n",
       "      <td>2.45</td>\n",
       "      <td>98</td>\n",
       "      <td>10000</td>\n",
       "      <td>5.86</td>\n",
       "      <td>97</td>\n",
       "      <td>6.69</td>\n",
       "      <td>[{'id': 804, 'main': 'Clouds', 'description': ...</td>\n",
       "      <td>0.12</td>\n",
       "      <td>NaN</td>\n",
       "    </tr>\n",
       "    <tr>\n",
       "      <th>1</th>\n",
       "      <td>1631955600</td>\n",
       "      <td>32.04</td>\n",
       "      <td>39.04</td>\n",
       "      <td>1009</td>\n",
       "      <td>76</td>\n",
       "      <td>27.27</td>\n",
       "      <td>0.79</td>\n",
       "      <td>97</td>\n",
       "      <td>10000</td>\n",
       "      <td>5.75</td>\n",
       "      <td>99</td>\n",
       "      <td>6.83</td>\n",
       "      <td>[{'id': 804, 'main': 'Clouds', 'description': ...</td>\n",
       "      <td>0.26</td>\n",
       "      <td>NaN</td>\n",
       "    </tr>\n",
       "    <tr>\n",
       "      <th>2</th>\n",
       "      <td>1631959200</td>\n",
       "      <td>31.13</td>\n",
       "      <td>38.13</td>\n",
       "      <td>1009</td>\n",
       "      <td>78</td>\n",
       "      <td>26.83</td>\n",
       "      <td>0.12</td>\n",
       "      <td>95</td>\n",
       "      <td>10000</td>\n",
       "      <td>5.45</td>\n",
       "      <td>100</td>\n",
       "      <td>6.97</td>\n",
       "      <td>[{'id': 500, 'main': 'Rain', 'description': 'l...</td>\n",
       "      <td>0.35</td>\n",
       "      <td>{'1h': 0.13}</td>\n",
       "    </tr>\n",
       "    <tr>\n",
       "      <th>3</th>\n",
       "      <td>1631962800</td>\n",
       "      <td>30.10</td>\n",
       "      <td>37.10</td>\n",
       "      <td>1010</td>\n",
       "      <td>80</td>\n",
       "      <td>26.27</td>\n",
       "      <td>0.00</td>\n",
       "      <td>91</td>\n",
       "      <td>10000</td>\n",
       "      <td>5.44</td>\n",
       "      <td>103</td>\n",
       "      <td>7.46</td>\n",
       "      <td>[{'id': 500, 'main': 'Rain', 'description': 'l...</td>\n",
       "      <td>0.41</td>\n",
       "      <td>{'1h': 0.11}</td>\n",
       "    </tr>\n",
       "    <tr>\n",
       "      <th>4</th>\n",
       "      <td>1631966400</td>\n",
       "      <td>29.17</td>\n",
       "      <td>35.68</td>\n",
       "      <td>1011</td>\n",
       "      <td>82</td>\n",
       "      <td>25.78</td>\n",
       "      <td>0.00</td>\n",
       "      <td>88</td>\n",
       "      <td>10000</td>\n",
       "      <td>5.36</td>\n",
       "      <td>104</td>\n",
       "      <td>7.43</td>\n",
       "      <td>[{'id': 500, 'main': 'Rain', 'description': 'l...</td>\n",
       "      <td>0.49</td>\n",
       "      <td>{'1h': 0.14}</td>\n",
       "    </tr>\n",
       "  </tbody>\n",
       "</table>\n",
       "</div>"
      ],
      "text/plain": [
       "           dt   temp  feels_like  pressure  humidity  dew_point   uvi  clouds  \\\n",
       "0  1631952000  32.75       39.75      1009        75      27.73  2.45      98   \n",
       "1  1631955600  32.04       39.04      1009        76      27.27  0.79      97   \n",
       "2  1631959200  31.13       38.13      1009        78      26.83  0.12      95   \n",
       "3  1631962800  30.10       37.10      1010        80      26.27  0.00      91   \n",
       "4  1631966400  29.17       35.68      1011        82      25.78  0.00      88   \n",
       "\n",
       "   visibility  wind_speed  wind_deg  wind_gust  \\\n",
       "0       10000        5.86        97       6.69   \n",
       "1       10000        5.75        99       6.83   \n",
       "2       10000        5.45       100       6.97   \n",
       "3       10000        5.44       103       7.46   \n",
       "4       10000        5.36       104       7.43   \n",
       "\n",
       "                                             weather   pop          rain  \n",
       "0  [{'id': 804, 'main': 'Clouds', 'description': ...  0.12           NaN  \n",
       "1  [{'id': 804, 'main': 'Clouds', 'description': ...  0.26           NaN  \n",
       "2  [{'id': 500, 'main': 'Rain', 'description': 'l...  0.35  {'1h': 0.13}  \n",
       "3  [{'id': 500, 'main': 'Rain', 'description': 'l...  0.41  {'1h': 0.11}  \n",
       "4  [{'id': 500, 'main': 'Rain', 'description': 'l...  0.49  {'1h': 0.14}  "
      ]
     },
     "execution_count": 10,
     "metadata": {},
     "output_type": "execute_result"
    }
   ],
   "source": [
    "df_hourly.head()"
   ]
  },
  {
   "cell_type": "code",
   "execution_count": null,
   "metadata": {},
   "outputs": [],
   "source": []
  }
 ],
 "metadata": {
  "interpreter": {
   "hash": "c1b4cfe941b6d2466ad1fb5979e97da9cda8801728c8091b097ab734208fc00c"
  },
  "kernelspec": {
   "display_name": "Python 3.8.3 64-bit ('base': conda)",
   "name": "python3"
  },
  "language_info": {
   "codemirror_mode": {
    "name": "ipython",
    "version": 3
   },
   "file_extension": ".py",
   "mimetype": "text/x-python",
   "name": "python",
   "nbconvert_exporter": "python",
   "pygments_lexer": "ipython3",
   "version": "3.8.11"
  }
 },
 "nbformat": 4,
 "nbformat_minor": 2
}
