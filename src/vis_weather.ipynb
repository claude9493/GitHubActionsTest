{
 "cells": [
  {
   "cell_type": "code",
   "execution_count": 1,
   "metadata": {
    "execution": {
     "iopub.execute_input": "2021-09-25T19:09:33.883130Z",
     "iopub.status.busy": "2021-09-25T19:09:33.882443Z",
     "iopub.status.idle": "2021-09-25T19:09:35.589398Z",
     "shell.execute_reply": "2021-09-25T19:09:35.589952Z"
    }
   },
   "outputs": [],
   "source": [
    "import json, yaml, requests\r\n",
    "from datetime import datetime\r\n",
    "from dateutil import tz\r\n",
    "import pandas as pd\r\n",
    "from PIL import Image\r\n",
    "from io import BytesIO\r\n",
    "import matplotlib.pyplot as plt\r\n",
    "import seaborn\r\n",
    "\r\n",
    "CONFIG_PATH = \"../config/config.yaml\""
   ]
  },
  {
   "cell_type": "code",
   "execution_count": 2,
   "metadata": {
    "execution": {
     "iopub.execute_input": "2021-09-25T19:09:35.600134Z",
     "iopub.status.busy": "2021-09-25T19:09:35.595741Z",
     "iopub.status.idle": "2021-09-25T19:09:35.602802Z",
     "shell.execute_reply": "2021-09-25T19:09:35.603401Z"
    }
   },
   "outputs": [],
   "source": [
    "with open('../newest_ts', 'r') as f:\r\n",
    "    newest_ts = f.read()\r\n",
    "\r\n",
    "data_path = f\"../data/data_{newest_ts}.json\"\r\n",
    "with open(data_path, 'r') as f:\r\n",
    "    data = json.load(f)\r\n",
    "\r\n",
    "with open(CONFIG_PATH, \"r\") as stream:\r\n",
    "    config = yaml.safe_load(stream)\r\n",
    "\r\n",
    "TIME_ZONE = config['time_zone']\r\n",
    "DATETIME_FORMAT = config['dt_format']"
   ]
  },
  {
   "cell_type": "code",
   "execution_count": 3,
   "metadata": {
    "execution": {
     "iopub.execute_input": "2021-09-25T19:09:35.609012Z",
     "iopub.status.busy": "2021-09-25T19:09:35.608385Z",
     "iopub.status.idle": "2021-09-25T19:09:35.621459Z",
     "shell.execute_reply": "2021-09-25T19:09:35.622003Z"
    }
   },
   "outputs": [
    {
     "name": "stdout",
     "output_type": "stream",
     "text": [
      "Recent query happens at 2021-09-26 03:09:29 (CST).\n"
     ]
    }
   ],
   "source": [
    "def ts2dt(ts, format=DATETIME_FORMAT):\r\n",
    "    dt = (datetime.utcfromtimestamp(int(ts))\r\n",
    "                    .replace(tzinfo=tz.tzutc())\r\n",
    "                    # .astimezone(tz.tzlocal())\r\n",
    "                    .astimezone(tz.gettz(TIME_ZONE)))\r\n",
    "    return dt.strftime(format), dt\r\n",
    "\r\n",
    "_, newest_dt = ts2dt(newest_ts)\r\n",
    "print(f\"Recent query happens at {newest_dt.strftime(DATETIME_FORMAT)} ({newest_dt.tzname()}).\")"
   ]
  },
  {
   "cell_type": "code",
   "execution_count": 4,
   "metadata": {
    "execution": {
     "iopub.execute_input": "2021-09-25T19:09:35.628606Z",
     "iopub.status.busy": "2021-09-25T19:09:35.626817Z",
     "iopub.status.idle": "2021-09-25T19:09:35.629352Z",
     "shell.execute_reply": "2021-09-25T19:09:35.629925Z"
    }
   },
   "outputs": [],
   "source": [
    "def degrees_to_cardinal(d):\r\n",
    "  dirs = ['N', 'NNE', 'NE', 'ENE', 'E', 'ESE', 'SE', 'SSE', 'S', 'SSW', 'SW', 'WSW', 'W', 'WNW', 'NW', 'NNW']\r\n",
    "  ix = int(round(d / (360. / len(dirs))))\r\n",
    "  return dirs[ix % len(dirs)]"
   ]
  },
  {
   "cell_type": "code",
   "execution_count": 5,
   "metadata": {
    "execution": {
     "iopub.execute_input": "2021-09-25T19:09:35.635247Z",
     "iopub.status.busy": "2021-09-25T19:09:35.633707Z",
     "iopub.status.idle": "2021-09-25T19:09:35.635947Z",
     "shell.execute_reply": "2021-09-25T19:09:35.636453Z"
    }
   },
   "outputs": [],
   "source": [
    "# data.keys()"
   ]
  },
  {
   "cell_type": "code",
   "execution_count": 6,
   "metadata": {
    "execution": {
     "iopub.execute_input": "2021-09-25T19:09:35.641502Z",
     "iopub.status.busy": "2021-09-25T19:09:35.640070Z",
     "iopub.status.idle": "2021-09-25T19:09:35.642171Z",
     "shell.execute_reply": "2021-09-25T19:09:35.642666Z"
    }
   },
   "outputs": [],
   "source": [
    "# data['current']"
   ]
  },
  {
   "cell_type": "code",
   "execution_count": 7,
   "metadata": {
    "execution": {
     "iopub.execute_input": "2021-09-25T19:09:35.666304Z",
     "iopub.status.busy": "2021-09-25T19:09:35.665530Z",
     "iopub.status.idle": "2021-09-25T19:09:36.100435Z",
     "shell.execute_reply": "2021-09-25T19:09:36.101221Z"
    }
   },
   "outputs": [
    {
     "data": {
      "image/png": "[encoded data removed]",
      "text/plain": [
       "<Figure size 216x216 with 1 Axes>"
      ]
     },
     "metadata": {
      "needs_background": "light"
     },
     "output_type": "display_data"
    },
    {
     "name": "stdout",
     "output_type": "stream",
     "text": [
      "Today, sun rises at 06:12 and sets at 18:15.\n",
      "Currently, the weather is Clouds (few clouds).\n",
      "The temperature is 28.61°C and it feels like 33.11°C.\n",
      "The UV index is 0, humidity is 77%.\n",
      "The pressure is 1010 hPa, percentage of cloud cover is 23%\n",
      "The wind comes from W direction with a speed 0.45 m/s.\n"
     ]
    }
   ],
   "source": [
    "current = data['current']\r\n",
    "\r\n",
    "fig, ax = plt.subplots(figsize=(3, 3))\r\n",
    "icon = requests.get(f\"http://openweathermap.org/img/wn/{current['weather'][0]['icon']}@2x.png\")\r\n",
    "im = Image.open(BytesIO(icon.content))\r\n",
    "plt.imshow(im)\r\n",
    "ax.set_axis_off()\r\n",
    "plt.show()\r\n",
    "\r\n",
    "print(f\"Today, sun rises at {ts2dt(current['sunrise'], '%H:%M')[0]} \\\r\n",
    "and sets at {ts2dt(current['sunset'], '%H:%M')[0]}.\\n\\\r\n",
    "Currently, the weather is {current['weather'][0]['main']} ({current['weather'][0]['description']}).\\n\\\r\n",
    "The temperature is {current['temp']}°C and it feels like {current['feels_like']}°C.\\n\\\r\n",
    "The UV index is {current['uvi']}, humidity is {current['humidity']}%.\\n\\\r\n",
    "The pressure is {current['pressure']} hPa, percentage of cloud cover is {current['clouds']}%\\n\\\r\n",
    "The wind comes from {degrees_to_cardinal(current['wind_deg'])} direction with a speed {current['wind_speed']} m/s.\")"
   ]
  },
  {
   "cell_type": "code",
   "execution_count": 8,
   "metadata": {
    "execution": {
     "iopub.execute_input": "2021-09-25T19:09:36.112390Z",
     "iopub.status.busy": "2021-09-25T19:09:36.111727Z",
     "iopub.status.idle": "2021-09-25T19:09:36.117861Z",
     "shell.execute_reply": "2021-09-25T19:09:36.118699Z"
    }
   },
   "outputs": [],
   "source": [
    "df_hourly = pd.DataFrame(data['hourly'])\r\n",
    "df_daily = pd.DataFrame(data['daily'])"
   ]
  },
  {
   "cell_type": "code",
   "execution_count": 9,
   "metadata": {
    "execution": {
     "iopub.execute_input": "2021-09-25T19:09:36.122502Z",
     "iopub.status.busy": "2021-09-25T19:09:36.121883Z",
     "iopub.status.idle": "2021-09-25T19:09:36.516108Z",
     "shell.execute_reply": "2021-09-25T19:09:36.514971Z"
    }
   },
   "outputs": [
    {
     "data": {
      "image/png": "[encoded data removed]",
      "text/plain": [
       "<Figure size 864x432 with 1 Axes>"
      ]
     },
     "metadata": {
      "needs_background": "light"
     },
     "output_type": "display_data"
    }
   ],
   "source": [
    "fig, ax = plt.subplots(figsize=(12, 6))\r\n",
    "plt.plot(df_hourly.temp, '.-', label='Temperature')\r\n",
    "plt.plot(df_hourly.feels_like, '.-', label='Feels Like')\r\n",
    "ax.set(title='Temperature in future 48 hours', xlabel='Time', ylabel='Temperature')\r\n",
    "ax.set_xticks(list(range(0, len(df_hourly), 2)))\r\n",
    "ax.set_xticklabels([ts2dt(ts, '%m-%d %H:%M')[0] for i, ts in enumerate(df_hourly.dt) if i%2==0], \r\n",
    "                   rotation=45, ha=\"right\")\r\n",
    "ax.locator_params(nbins=15, axis='y')\r\n",
    "plt.legend()\r\n",
    "plt.show()"
   ]
  },
  {
   "cell_type": "code",
   "execution_count": 10,
   "metadata": {
    "execution": {
     "iopub.execute_input": "2021-09-25T19:09:36.531521Z",
     "iopub.status.busy": "2021-09-25T19:09:36.522114Z",
     "iopub.status.idle": "2021-09-25T19:09:36.544080Z",
     "shell.execute_reply": "2021-09-25T19:09:36.544647Z"
    }
   },
   "outputs": [
    {
     "data": {
      "text/html": [
       "<div>\n",
       "<style scoped>\n",
       "    .dataframe tbody tr th:only-of-type {\n",
       "        vertical-align: middle;\n",
       "    }\n",
       "\n",
       "    .dataframe tbody tr th {\n",
       "        vertical-align: top;\n",
       "    }\n",
       "\n",
       "    .dataframe thead th {\n",
       "        text-align: right;\n",
       "    }\n",
       "</style>\n",
       "<table border=\"1\" class=\"dataframe\">\n",
       "  <thead>\n",
       "    <tr style=\"text-align: right;\">\n",
       "      <th></th>\n",
       "      <th>dt</th>\n",
       "      <th>temp</th>\n",
       "      <th>feels_like</th>\n",
       "      <th>pressure</th>\n",
       "      <th>humidity</th>\n",
       "      <th>dew_point</th>\n",
       "      <th>uvi</th>\n",
       "      <th>clouds</th>\n",
       "      <th>visibility</th>\n",
       "      <th>wind_speed</th>\n",
       "      <th>wind_deg</th>\n",
       "      <th>wind_gust</th>\n",
       "      <th>weather</th>\n",
       "      <th>pop</th>\n",
       "    </tr>\n",
       "  </thead>\n",
       "  <tbody>\n",
       "    <tr>\n",
       "      <th>0</th>\n",
       "      <td>1632596400</td>\n",
       "      <td>28.61</td>\n",
       "      <td>33.11</td>\n",
       "      <td>1010</td>\n",
       "      <td>77</td>\n",
       "      <td>24.18</td>\n",
       "      <td>0.00</td>\n",
       "      <td>23</td>\n",
       "      <td>10000</td>\n",
       "      <td>6.88</td>\n",
       "      <td>82</td>\n",
       "      <td>8.83</td>\n",
       "      <td>[{'id': 801, 'main': 'Clouds', 'description': ...</td>\n",
       "      <td>0.11</td>\n",
       "    </tr>\n",
       "    <tr>\n",
       "      <th>1</th>\n",
       "      <td>1632600000</td>\n",
       "      <td>28.41</td>\n",
       "      <td>32.62</td>\n",
       "      <td>1010</td>\n",
       "      <td>77</td>\n",
       "      <td>23.99</td>\n",
       "      <td>0.00</td>\n",
       "      <td>23</td>\n",
       "      <td>10000</td>\n",
       "      <td>6.96</td>\n",
       "      <td>80</td>\n",
       "      <td>8.98</td>\n",
       "      <td>[{'id': 801, 'main': 'Clouds', 'description': ...</td>\n",
       "      <td>0.11</td>\n",
       "    </tr>\n",
       "    <tr>\n",
       "      <th>2</th>\n",
       "      <td>1632603600</td>\n",
       "      <td>28.15</td>\n",
       "      <td>31.84</td>\n",
       "      <td>1011</td>\n",
       "      <td>76</td>\n",
       "      <td>23.52</td>\n",
       "      <td>0.00</td>\n",
       "      <td>28</td>\n",
       "      <td>10000</td>\n",
       "      <td>6.99</td>\n",
       "      <td>77</td>\n",
       "      <td>8.50</td>\n",
       "      <td>[{'id': 802, 'main': 'Clouds', 'description': ...</td>\n",
       "      <td>0.11</td>\n",
       "    </tr>\n",
       "    <tr>\n",
       "      <th>3</th>\n",
       "      <td>1632607200</td>\n",
       "      <td>27.71</td>\n",
       "      <td>31.25</td>\n",
       "      <td>1011</td>\n",
       "      <td>79</td>\n",
       "      <td>23.73</td>\n",
       "      <td>0.00</td>\n",
       "      <td>29</td>\n",
       "      <td>10000</td>\n",
       "      <td>6.99</td>\n",
       "      <td>73</td>\n",
       "      <td>8.49</td>\n",
       "      <td>[{'id': 802, 'main': 'Clouds', 'description': ...</td>\n",
       "      <td>0.11</td>\n",
       "    </tr>\n",
       "    <tr>\n",
       "      <th>4</th>\n",
       "      <td>1632610800</td>\n",
       "      <td>27.45</td>\n",
       "      <td>30.53</td>\n",
       "      <td>1012</td>\n",
       "      <td>78</td>\n",
       "      <td>23.27</td>\n",
       "      <td>0.19</td>\n",
       "      <td>28</td>\n",
       "      <td>10000</td>\n",
       "      <td>7.10</td>\n",
       "      <td>69</td>\n",
       "      <td>8.66</td>\n",
       "      <td>[{'id': 802, 'main': 'Clouds', 'description': ...</td>\n",
       "      <td>0.11</td>\n",
       "    </tr>\n",
       "  </tbody>\n",
       "</table>\n",
       "</div>"
      ],
      "text/plain": [
       "           dt   temp  feels_like  pressure  humidity  dew_point   uvi  clouds  \\\n",
       "0  1632596400  28.61       33.11      1010        77      24.18  0.00      23   \n",
       "1  1632600000  28.41       32.62      1010        77      23.99  0.00      23   \n",
       "2  1632603600  28.15       31.84      1011        76      23.52  0.00      28   \n",
       "3  1632607200  27.71       31.25      1011        79      23.73  0.00      29   \n",
       "4  1632610800  27.45       30.53      1012        78      23.27  0.19      28   \n",
       "\n",
       "   visibility  wind_speed  wind_deg  wind_gust  \\\n",
       "0       10000        6.88        82       8.83   \n",
       "1       10000        6.96        80       8.98   \n",
       "2       10000        6.99        77       8.50   \n",
       "3       10000        6.99        73       8.49   \n",
       "4       10000        7.10        69       8.66   \n",
       "\n",
       "                                             weather   pop  \n",
       "0  [{'id': 801, 'main': 'Clouds', 'description': ...  0.11  \n",
       "1  [{'id': 801, 'main': 'Clouds', 'description': ...  0.11  \n",
       "2  [{'id': 802, 'main': 'Clouds', 'description': ...  0.11  \n",
       "3  [{'id': 802, 'main': 'Clouds', 'description': ...  0.11  \n",
       "4  [{'id': 802, 'main': 'Clouds', 'description': ...  0.11  "
      ]
     },
     "execution_count": 10,
     "metadata": {},
     "output_type": "execute_result"
    }
   ],
   "source": [
    "df_hourly.head()"
   ]
  },
  {
   "cell_type": "code",
   "execution_count": null,
   "metadata": {},
   "outputs": [],
   "source": []
  }
 ],
 "metadata": {
  "interpreter": {
   "hash": "c1b4cfe941b6d2466ad1fb5979e97da9cda8801728c8091b097ab734208fc00c"
  },
  "kernelspec": {
   "display_name": "Python 3.8.3 64-bit ('base': conda)",
   "name": "python3"
  },
  "language_info": {
   "codemirror_mode": {
    "name": "ipython",
    "version": 3
   },
   "file_extension": ".py",
   "mimetype": "text/x-python",
   "name": "python",
   "nbconvert_exporter": "python",
   "pygments_lexer": "ipython3",
   "version": "3.8.12"
  }
 },
 "nbformat": 4,
 "nbformat_minor": 2
}
