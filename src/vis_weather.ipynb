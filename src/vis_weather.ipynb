{
 "cells": [
  {
   "cell_type": "code",
   "execution_count": 1,
   "metadata": {
    "execution": {
     "iopub.execute_input": "2021-08-29T12:23:01.038760Z",
     "iopub.status.busy": "2021-08-29T12:23:01.038173Z",
     "iopub.status.idle": "2021-08-29T12:23:04.112463Z",
     "shell.execute_reply": "2021-08-29T12:23:04.111830Z"
    }
   },
   "outputs": [],
   "source": [
    "import json, yaml, requests\r\n",
    "from datetime import datetime\r\n",
    "from dateutil import tz\r\n",
    "import pandas as pd\r\n",
    "from PIL import Image\r\n",
    "from io import BytesIO\r\n",
    "import matplotlib.pyplot as plt\r\n",
    "import seaborn\r\n",
    "\r\n",
    "CONFIG_PATH = \"../config/config.yaml\""
   ]
  },
  {
   "cell_type": "code",
   "execution_count": 2,
   "metadata": {
    "execution": {
     "iopub.execute_input": "2021-08-29T12:23:04.120669Z",
     "iopub.status.busy": "2021-08-29T12:23:04.117320Z",
     "iopub.status.idle": "2021-08-29T12:23:04.123932Z",
     "shell.execute_reply": "2021-08-29T12:23:04.123189Z"
    }
   },
   "outputs": [],
   "source": [
    "with open('../newest_ts', 'r') as f:\r\n",
    "    newest_ts = f.read()\r\n",
    "\r\n",
    "data_path = f\"../data/data_{newest_ts}.json\"\r\n",
    "with open(data_path, 'r') as f:\r\n",
    "    data = json.load(f)\r\n",
    "\r\n",
    "with open(CONFIG_PATH, \"r\") as stream:\r\n",
    "    config = yaml.safe_load(stream)\r\n",
    "\r\n",
    "TIME_ZONE = config['time_zone']\r\n",
    "DATETIME_FORMAT = config['dt_format']"
   ]
  },
  {
   "cell_type": "code",
   "execution_count": 3,
   "metadata": {
    "execution": {
     "iopub.execute_input": "2021-08-29T12:23:04.129344Z",
     "iopub.status.busy": "2021-08-29T12:23:04.128634Z",
     "iopub.status.idle": "2021-08-29T12:23:04.139798Z",
     "shell.execute_reply": "2021-08-29T12:23:04.140394Z"
    }
   },
   "outputs": [
    {
     "name": "stdout",
     "output_type": "stream",
     "text": [
      "Recent query happens at 2021-08-29 20:22:58 (CST).\n"
     ]
    }
   ],
   "source": [
    "def ts2dt(ts, format=DATETIME_FORMAT):\r\n",
    "    dt = (datetime.utcfromtimestamp(int(ts))\r\n",
    "                    .replace(tzinfo=tz.tzutc())\r\n",
    "                    # .astimezone(tz.tzlocal())\r\n",
    "                    .astimezone(tz.gettz(TIME_ZONE)))\r\n",
    "    return dt.strftime(format), dt\r\n",
    "\r\n",
    "_, newest_dt = ts2dt(newest_ts)\r\n",
    "print(f\"Recent query happens at {newest_dt.strftime(DATETIME_FORMAT)} ({newest_dt.tzname()}).\")"
   ]
  },
  {
   "cell_type": "code",
   "execution_count": 4,
   "metadata": {
    "execution": {
     "iopub.execute_input": "2021-08-29T12:23:04.146108Z",
     "iopub.status.busy": "2021-08-29T12:23:04.144957Z",
     "iopub.status.idle": "2021-08-29T12:23:04.146710Z",
     "shell.execute_reply": "2021-08-29T12:23:04.147139Z"
    }
   },
   "outputs": [],
   "source": [
    "def degrees_to_cardinal(d):\r\n",
    "  dirs = ['N', 'NNE', 'NE', 'ENE', 'E', 'ESE', 'SE', 'SSE', 'S', 'SSW', 'SW', 'WSW', 'W', 'WNW', 'NW', 'NNW']\r\n",
    "  ix = int(round(d / (360. / len(dirs))))\r\n",
    "  return dirs[ix % len(dirs)]"
   ]
  },
  {
   "cell_type": "code",
   "execution_count": 5,
   "metadata": {
    "execution": {
     "iopub.execute_input": "2021-08-29T12:23:04.151922Z",
     "iopub.status.busy": "2021-08-29T12:23:04.150780Z",
     "iopub.status.idle": "2021-08-29T12:23:04.152548Z",
     "shell.execute_reply": "2021-08-29T12:23:04.152977Z"
    }
   },
   "outputs": [],
   "source": [
    "# data.keys()"
   ]
  },
  {
   "cell_type": "code",
   "execution_count": 6,
   "metadata": {
    "execution": {
     "iopub.execute_input": "2021-08-29T12:23:04.157086Z",
     "iopub.status.busy": "2021-08-29T12:23:04.155849Z",
     "iopub.status.idle": "2021-08-29T12:23:04.157691Z",
     "shell.execute_reply": "2021-08-29T12:23:04.158120Z"
    }
   },
   "outputs": [],
   "source": [
    "# data['current']"
   ]
  },
  {
   "cell_type": "code",
   "execution_count": 7,
   "metadata": {
    "execution": {
     "iopub.execute_input": "2021-08-29T12:23:04.178753Z",
     "iopub.status.busy": "2021-08-29T12:23:04.164655Z",
     "iopub.status.idle": "2021-08-29T12:23:04.757245Z",
     "shell.execute_reply": "2021-08-29T12:23:04.757928Z"
    }
   },
   "outputs": [
    {
     "data": {
      "image/png": "[encoded data removed]",
      "text/plain": [
       "<Figure size 216x216 with 1 Axes>"
      ]
     },
     "metadata": {
      "needs_background": "light"
     },
     "output_type": "display_data"
    },
    {
     "name": "stdout",
     "output_type": "stream",
     "text": [
      "Today, sun rises at 06:04 and sets at 18:43.\n",
      "Currently, the weather is Clouds (broken clouds).\n",
      "The temperature is 29.22°C and it feels like 36.07°C.\n",
      "The UV index is 0, humidity is 83%.\n",
      "The pressure is 1011 hPa, percentage of cloud cover is 84%\n",
      "The wind comes from E direction with a speed 4.81 m/s.\n"
     ]
    }
   ],
   "source": [
    "current = data['current']\r\n",
    "\r\n",
    "fig, ax = plt.subplots(figsize=(3, 3))\r\n",
    "icon = requests.get(f\"http://openweathermap.org/img/wn/{current['weather'][0]['icon']}@2x.png\")\r\n",
    "im = Image.open(BytesIO(icon.content))\r\n",
    "plt.imshow(im)\r\n",
    "ax.set_axis_off()\r\n",
    "plt.show()\r\n",
    "\r\n",
    "print(f\"Today, sun rises at {ts2dt(current['sunrise'], '%H:%M')[0]} \\\r\n",
    "and sets at {ts2dt(current['sunset'], '%H:%M')[0]}.\\n\\\r\n",
    "Currently, the weather is {current['weather'][0]['main']} ({current['weather'][0]['description']}).\\n\\\r\n",
    "The temperature is {current['temp']}°C and it feels like {current['feels_like']}°C.\\n\\\r\n",
    "The UV index is {current['uvi']}, humidity is {current['humidity']}%.\\n\\\r\n",
    "The pressure is {current['pressure']} hPa, percentage of cloud cover is {current['clouds']}%\\n\\\r\n",
    "The wind comes from {degrees_to_cardinal(current['wind_deg'])} direction with a speed {current['wind_speed']} m/s.\")"
   ]
  },
  {
   "cell_type": "code",
   "execution_count": 8,
   "metadata": {
    "execution": {
     "iopub.execute_input": "2021-08-29T12:23:04.761270Z",
     "iopub.status.busy": "2021-08-29T12:23:04.760738Z",
     "iopub.status.idle": "2021-08-29T12:23:04.768272Z",
     "shell.execute_reply": "2021-08-29T12:23:04.768984Z"
    }
   },
   "outputs": [],
   "source": [
    "df_hourly = pd.DataFrame(data['hourly'])\r\n",
    "df_daily = pd.DataFrame(data['daily'])"
   ]
  },
  {
   "cell_type": "code",
   "execution_count": 9,
   "metadata": {
    "execution": {
     "iopub.execute_input": "2021-08-29T12:23:04.772428Z",
     "iopub.status.busy": "2021-08-29T12:23:04.771377Z",
     "iopub.status.idle": "2021-08-29T12:23:05.046612Z",
     "shell.execute_reply": "2021-08-29T12:23:05.047064Z"
    }
   },
   "outputs": [
    {
     "data": {
      "image/png": "[encoded data removed]",
      "text/plain": [
       "<Figure size 864x432 with 1 Axes>"
      ]
     },
     "metadata": {
      "needs_background": "light"
     },
     "output_type": "display_data"
    }
   ],
   "source": [
    "fig, ax = plt.subplots(figsize=(12, 6))\r\n",
    "plt.plot(df_hourly.temp, '.-', label='Temperature')\r\n",
    "plt.plot(df_hourly.feels_like, '.-', label='Feels Like')\r\n",
    "ax.set(title='Temperature in future 48 hours', xlabel='Time', ylabel='Temperature')\r\n",
    "ax.set_xticks(list(range(0, len(df_hourly), 2)))\r\n",
    "ax.set_xticklabels([ts2dt(ts, '%m-%d %H:%M')[0] for i, ts in enumerate(df_hourly.dt) if i%2==0], \r\n",
    "                   rotation=45, ha=\"right\")\r\n",
    "ax.locator_params(nbins=15, axis='y')\r\n",
    "plt.legend()\r\n",
    "plt.show()"
   ]
  },
  {
   "cell_type": "code",
   "execution_count": 10,
   "metadata": {
    "execution": {
     "iopub.execute_input": "2021-08-29T12:23:05.060043Z",
     "iopub.status.busy": "2021-08-29T12:23:05.051401Z",
     "iopub.status.idle": "2021-08-29T12:23:05.073000Z",
     "shell.execute_reply": "2021-08-29T12:23:05.072469Z"
    }
   },
   "outputs": [
    {
     "data": {
      "text/html": [
       "<div>\n",
       "<style scoped>\n",
       "    .dataframe tbody tr th:only-of-type {\n",
       "        vertical-align: middle;\n",
       "    }\n",
       "\n",
       "    .dataframe tbody tr th {\n",
       "        vertical-align: top;\n",
       "    }\n",
       "\n",
       "    .dataframe thead th {\n",
       "        text-align: right;\n",
       "    }\n",
       "</style>\n",
       "<table border=\"1\" class=\"dataframe\">\n",
       "  <thead>\n",
       "    <tr style=\"text-align: right;\">\n",
       "      <th></th>\n",
       "      <th>dt</th>\n",
       "      <th>temp</th>\n",
       "      <th>feels_like</th>\n",
       "      <th>pressure</th>\n",
       "      <th>humidity</th>\n",
       "      <th>dew_point</th>\n",
       "      <th>uvi</th>\n",
       "      <th>clouds</th>\n",
       "      <th>visibility</th>\n",
       "      <th>wind_speed</th>\n",
       "      <th>wind_deg</th>\n",
       "      <th>wind_gust</th>\n",
       "      <th>weather</th>\n",
       "      <th>pop</th>\n",
       "      <th>rain</th>\n",
       "    </tr>\n",
       "  </thead>\n",
       "  <tbody>\n",
       "    <tr>\n",
       "      <th>0</th>\n",
       "      <td>1630238400</td>\n",
       "      <td>29.22</td>\n",
       "      <td>36.07</td>\n",
       "      <td>1011</td>\n",
       "      <td>83</td>\n",
       "      <td>26.03</td>\n",
       "      <td>0.0</td>\n",
       "      <td>84</td>\n",
       "      <td>10000</td>\n",
       "      <td>4.81</td>\n",
       "      <td>95</td>\n",
       "      <td>7.32</td>\n",
       "      <td>[{'id': 803, 'main': 'Clouds', 'description': ...</td>\n",
       "      <td>0.44</td>\n",
       "      <td>NaN</td>\n",
       "    </tr>\n",
       "    <tr>\n",
       "      <th>1</th>\n",
       "      <td>1630242000</td>\n",
       "      <td>29.00</td>\n",
       "      <td>35.18</td>\n",
       "      <td>1011</td>\n",
       "      <td>82</td>\n",
       "      <td>25.61</td>\n",
       "      <td>0.0</td>\n",
       "      <td>85</td>\n",
       "      <td>10000</td>\n",
       "      <td>5.44</td>\n",
       "      <td>94</td>\n",
       "      <td>8.02</td>\n",
       "      <td>[{'id': 804, 'main': 'Clouds', 'description': ...</td>\n",
       "      <td>0.38</td>\n",
       "      <td>NaN</td>\n",
       "    </tr>\n",
       "    <tr>\n",
       "      <th>2</th>\n",
       "      <td>1630245600</td>\n",
       "      <td>28.74</td>\n",
       "      <td>34.43</td>\n",
       "      <td>1011</td>\n",
       "      <td>82</td>\n",
       "      <td>25.36</td>\n",
       "      <td>0.0</td>\n",
       "      <td>82</td>\n",
       "      <td>10000</td>\n",
       "      <td>5.49</td>\n",
       "      <td>95</td>\n",
       "      <td>8.22</td>\n",
       "      <td>[{'id': 803, 'main': 'Clouds', 'description': ...</td>\n",
       "      <td>0.34</td>\n",
       "      <td>NaN</td>\n",
       "    </tr>\n",
       "    <tr>\n",
       "      <th>3</th>\n",
       "      <td>1630249200</td>\n",
       "      <td>28.50</td>\n",
       "      <td>34.15</td>\n",
       "      <td>1012</td>\n",
       "      <td>84</td>\n",
       "      <td>25.53</td>\n",
       "      <td>0.0</td>\n",
       "      <td>81</td>\n",
       "      <td>10000</td>\n",
       "      <td>5.50</td>\n",
       "      <td>94</td>\n",
       "      <td>8.32</td>\n",
       "      <td>[{'id': 803, 'main': 'Clouds', 'description': ...</td>\n",
       "      <td>0.20</td>\n",
       "      <td>NaN</td>\n",
       "    </tr>\n",
       "    <tr>\n",
       "      <th>4</th>\n",
       "      <td>1630252800</td>\n",
       "      <td>28.15</td>\n",
       "      <td>33.15</td>\n",
       "      <td>1012</td>\n",
       "      <td>84</td>\n",
       "      <td>25.19</td>\n",
       "      <td>0.0</td>\n",
       "      <td>80</td>\n",
       "      <td>10000</td>\n",
       "      <td>5.65</td>\n",
       "      <td>94</td>\n",
       "      <td>8.38</td>\n",
       "      <td>[{'id': 803, 'main': 'Clouds', 'description': ...</td>\n",
       "      <td>0.17</td>\n",
       "      <td>NaN</td>\n",
       "    </tr>\n",
       "  </tbody>\n",
       "</table>\n",
       "</div>"
      ],
      "text/plain": [
       "           dt   temp  feels_like  pressure  humidity  dew_point  uvi  clouds  \\\n",
       "0  1630238400  29.22       36.07      1011        83      26.03  0.0      84   \n",
       "1  1630242000  29.00       35.18      1011        82      25.61  0.0      85   \n",
       "2  1630245600  28.74       34.43      1011        82      25.36  0.0      82   \n",
       "3  1630249200  28.50       34.15      1012        84      25.53  0.0      81   \n",
       "4  1630252800  28.15       33.15      1012        84      25.19  0.0      80   \n",
       "\n",
       "   visibility  wind_speed  wind_deg  wind_gust  \\\n",
       "0       10000        4.81        95       7.32   \n",
       "1       10000        5.44        94       8.02   \n",
       "2       10000        5.49        95       8.22   \n",
       "3       10000        5.50        94       8.32   \n",
       "4       10000        5.65        94       8.38   \n",
       "\n",
       "                                             weather   pop rain  \n",
       "0  [{'id': 803, 'main': 'Clouds', 'description': ...  0.44  NaN  \n",
       "1  [{'id': 804, 'main': 'Clouds', 'description': ...  0.38  NaN  \n",
       "2  [{'id': 803, 'main': 'Clouds', 'description': ...  0.34  NaN  \n",
       "3  [{'id': 803, 'main': 'Clouds', 'description': ...  0.20  NaN  \n",
       "4  [{'id': 803, 'main': 'Clouds', 'description': ...  0.17  NaN  "
      ]
     },
     "execution_count": 10,
     "metadata": {},
     "output_type": "execute_result"
    }
   ],
   "source": [
    "df_hourly.head()"
   ]
  },
  {
   "cell_type": "code",
   "execution_count": null,
   "metadata": {},
   "outputs": [],
   "source": []
  }
 ],
 "metadata": {
  "interpreter": {
   "hash": "c1b4cfe941b6d2466ad1fb5979e97da9cda8801728c8091b097ab734208fc00c"
  },
  "kernelspec": {
   "display_name": "Python 3.8.3 64-bit ('base': conda)",
   "name": "python3"
  },
  "language_info": {
   "codemirror_mode": {
    "name": "ipython",
    "version": 3
   },
   "file_extension": ".py",
   "mimetype": "text/x-python",
   "name": "python",
   "nbconvert_exporter": "python",
   "pygments_lexer": "ipython3",
   "version": "3.8.11"
  }
 },
 "nbformat": 4,
 "nbformat_minor": 2
}
