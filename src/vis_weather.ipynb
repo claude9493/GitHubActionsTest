{
 "cells": [
  {
   "cell_type": "code",
   "execution_count": 1,
   "metadata": {
    "execution": {
     "iopub.execute_input": "2021-10-04T22:11:44.759089Z",
     "iopub.status.busy": "2021-10-04T22:11:44.758464Z",
     "iopub.status.idle": "2021-10-04T22:11:46.033255Z",
     "shell.execute_reply": "2021-10-04T22:11:46.032655Z"
    }
   },
   "outputs": [],
   "source": [
    "import json, yaml, requests\r\n",
    "from datetime import datetime\r\n",
    "from dateutil import tz\r\n",
    "import pandas as pd\r\n",
    "from PIL import Image\r\n",
    "from io import BytesIO\r\n",
    "import matplotlib.pyplot as plt\r\n",
    "import seaborn\r\n",
    "\r\n",
    "CONFIG_PATH = \"../config/config.yaml\""
   ]
  },
  {
   "cell_type": "code",
   "execution_count": 2,
   "metadata": {
    "execution": {
     "iopub.execute_input": "2021-10-04T22:11:46.039562Z",
     "iopub.status.busy": "2021-10-04T22:11:46.038314Z",
     "iopub.status.idle": "2021-10-04T22:11:46.044961Z",
     "shell.execute_reply": "2021-10-04T22:11:46.044283Z"
    }
   },
   "outputs": [],
   "source": [
    "with open('../newest_ts', 'r') as f:\r\n",
    "    newest_ts = f.read()\r\n",
    "\r\n",
    "data_path = f\"../data/data_{newest_ts}.json\"\r\n",
    "with open(data_path, 'r') as f:\r\n",
    "    data = json.load(f)\r\n",
    "\r\n",
    "with open(CONFIG_PATH, \"r\") as stream:\r\n",
    "    config = yaml.safe_load(stream)\r\n",
    "\r\n",
    "TIME_ZONE = config['time_zone']\r\n",
    "DATETIME_FORMAT = config['dt_format']"
   ]
  },
  {
   "cell_type": "code",
   "execution_count": 3,
   "metadata": {
    "execution": {
     "iopub.execute_input": "2021-10-04T22:11:46.050096Z",
     "iopub.status.busy": "2021-10-04T22:11:46.049466Z",
     "iopub.status.idle": "2021-10-04T22:11:46.072083Z",
     "shell.execute_reply": "2021-10-04T22:11:46.072538Z"
    }
   },
   "outputs": [
    {
     "name": "stdout",
     "output_type": "stream",
     "text": [
      "Recent query happens at 2021-10-05 06:11:41 (CST).\n"
     ]
    }
   ],
   "source": [
    "def ts2dt(ts, format=DATETIME_FORMAT):\r\n",
    "    dt = (datetime.utcfromtimestamp(int(ts))\r\n",
    "                    .replace(tzinfo=tz.tzutc())\r\n",
    "                    # .astimezone(tz.tzlocal())\r\n",
    "                    .astimezone(tz.gettz(TIME_ZONE)))\r\n",
    "    return dt.strftime(format), dt\r\n",
    "\r\n",
    "_, newest_dt = ts2dt(newest_ts)\r\n",
    "print(f\"Recent query happens at {newest_dt.strftime(DATETIME_FORMAT)} ({newest_dt.tzname()}).\")"
   ]
  },
  {
   "cell_type": "code",
   "execution_count": 4,
   "metadata": {
    "execution": {
     "iopub.execute_input": "2021-10-04T22:11:46.078958Z",
     "iopub.status.busy": "2021-10-04T22:11:46.077583Z",
     "iopub.status.idle": "2021-10-04T22:11:46.079547Z",
     "shell.execute_reply": "2021-10-04T22:11:46.079982Z"
    }
   },
   "outputs": [],
   "source": [
    "def degrees_to_cardinal(d):\r\n",
    "  dirs = ['N', 'NNE', 'NE', 'ENE', 'E', 'ESE', 'SE', 'SSE', 'S', 'SSW', 'SW', 'WSW', 'W', 'WNW', 'NW', 'NNW']\r\n",
    "  ix = int(round(d / (360. / len(dirs))))\r\n",
    "  return dirs[ix % len(dirs)]"
   ]
  },
  {
   "cell_type": "code",
   "execution_count": 5,
   "metadata": {
    "execution": {
     "iopub.execute_input": "2021-10-04T22:11:46.084515Z",
     "iopub.status.busy": "2021-10-04T22:11:46.083145Z",
     "iopub.status.idle": "2021-10-04T22:11:46.085072Z",
     "shell.execute_reply": "2021-10-04T22:11:46.085520Z"
    }
   },
   "outputs": [],
   "source": [
    "# data.keys()"
   ]
  },
  {
   "cell_type": "code",
   "execution_count": 6,
   "metadata": {
    "execution": {
     "iopub.execute_input": "2021-10-04T22:11:46.088894Z",
     "iopub.status.busy": "2021-10-04T22:11:46.088355Z",
     "iopub.status.idle": "2021-10-04T22:11:46.090204Z",
     "shell.execute_reply": "2021-10-04T22:11:46.090600Z"
    }
   },
   "outputs": [],
   "source": [
    "# data['current']"
   ]
  },
  {
   "cell_type": "code",
   "execution_count": 7,
   "metadata": {
    "execution": {
     "iopub.execute_input": "2021-10-04T22:11:46.114359Z",
     "iopub.status.busy": "2021-10-04T22:11:46.106277Z",
     "iopub.status.idle": "2021-10-04T22:11:46.532867Z",
     "shell.execute_reply": "2021-10-04T22:11:46.533658Z"
    }
   },
   "outputs": [
    {
     "data": {
      "image/png": "[encoded data removed]",
      "text/plain": [
       "<Figure size 216x216 with 1 Axes>"
      ]
     },
     "metadata": {
      "needs_background": "light"
     },
     "output_type": "display_data"
    },
    {
     "name": "stdout",
     "output_type": "stream",
     "text": [
      "Today, sun rises at 06:15 and sets at 18:07.\n",
      "Currently, the weather is Clouds (scattered clouds).\n",
      "The temperature is 28.62°C and it feels like 33.51°C.\n",
      "The UV index is 0, humidity is 79%.\n",
      "The pressure is 1010 hPa, percentage of cloud cover is 41%\n",
      "The wind comes from W direction with a speed 0.89 m/s.\n"
     ]
    }
   ],
   "source": [
    "current = data['current']\r\n",
    "\r\n",
    "fig, ax = plt.subplots(figsize=(3, 3))\r\n",
    "icon = requests.get(f\"http://openweathermap.org/img/wn/{current['weather'][0]['icon']}@2x.png\")\r\n",
    "im = Image.open(BytesIO(icon.content))\r\n",
    "plt.imshow(im)\r\n",
    "ax.set_axis_off()\r\n",
    "plt.show()\r\n",
    "\r\n",
    "print(f\"Today, sun rises at {ts2dt(current['sunrise'], '%H:%M')[0]} \\\r\n",
    "and sets at {ts2dt(current['sunset'], '%H:%M')[0]}.\\n\\\r\n",
    "Currently, the weather is {current['weather'][0]['main']} ({current['weather'][0]['description']}).\\n\\\r\n",
    "The temperature is {current['temp']}°C and it feels like {current['feels_like']}°C.\\n\\\r\n",
    "The UV index is {current['uvi']}, humidity is {current['humidity']}%.\\n\\\r\n",
    "The pressure is {current['pressure']} hPa, percentage of cloud cover is {current['clouds']}%\\n\\\r\n",
    "The wind comes from {degrees_to_cardinal(current['wind_deg'])} direction with a speed {current['wind_speed']} m/s.\")"
   ]
  },
  {
   "cell_type": "code",
   "execution_count": 8,
   "metadata": {
    "execution": {
     "iopub.execute_input": "2021-10-04T22:11:46.537457Z",
     "iopub.status.busy": "2021-10-04T22:11:46.536346Z",
     "iopub.status.idle": "2021-10-04T22:11:46.545216Z",
     "shell.execute_reply": "2021-10-04T22:11:46.546176Z"
    }
   },
   "outputs": [],
   "source": [
    "df_hourly = pd.DataFrame(data['hourly'])\r\n",
    "df_daily = pd.DataFrame(data['daily'])"
   ]
  },
  {
   "cell_type": "code",
   "execution_count": 9,
   "metadata": {
    "execution": {
     "iopub.execute_input": "2021-10-04T22:11:46.549932Z",
     "iopub.status.busy": "2021-10-04T22:11:46.548715Z",
     "iopub.status.idle": "2021-10-04T22:11:46.850955Z",
     "shell.execute_reply": "2021-10-04T22:11:46.850118Z"
    }
   },
   "outputs": [
    {
     "data": {
      "image/png": "[encoded data removed]",
      "text/plain": [
       "<Figure size 864x432 with 1 Axes>"
      ]
     },
     "metadata": {
      "needs_background": "light"
     },
     "output_type": "display_data"
    }
   ],
   "source": [
    "fig, ax = plt.subplots(figsize=(12, 6))\r\n",
    "plt.plot(df_hourly.temp, '.-', label='Temperature')\r\n",
    "plt.plot(df_hourly.feels_like, '.-', label='Feels Like')\r\n",
    "ax.set(title='Temperature in future 48 hours', xlabel='Time', ylabel='Temperature')\r\n",
    "ax.set_xticks(list(range(0, len(df_hourly), 2)))\r\n",
    "ax.set_xticklabels([ts2dt(ts, '%m-%d %H:%M')[0] for i, ts in enumerate(df_hourly.dt) if i%2==0], \r\n",
    "                   rotation=45, ha=\"right\")\r\n",
    "ax.locator_params(nbins=15, axis='y')\r\n",
    "plt.legend()\r\n",
    "plt.show()"
   ]
  },
  {
   "cell_type": "code",
   "execution_count": 10,
   "metadata": {
    "execution": {
     "iopub.execute_input": "2021-10-04T22:11:46.862710Z",
     "iopub.status.busy": "2021-10-04T22:11:46.855506Z",
     "iopub.status.idle": "2021-10-04T22:11:46.874801Z",
     "shell.execute_reply": "2021-10-04T22:11:46.875300Z"
    }
   },
   "outputs": [
    {
     "data": {
      "text/html": [
       "<div>\n",
       "<style scoped>\n",
       "    .dataframe tbody tr th:only-of-type {\n",
       "        vertical-align: middle;\n",
       "    }\n",
       "\n",
       "    .dataframe tbody tr th {\n",
       "        vertical-align: top;\n",
       "    }\n",
       "\n",
       "    .dataframe thead th {\n",
       "        text-align: right;\n",
       "    }\n",
       "</style>\n",
       "<table border=\"1\" class=\"dataframe\">\n",
       "  <thead>\n",
       "    <tr style=\"text-align: right;\">\n",
       "      <th></th>\n",
       "      <th>dt</th>\n",
       "      <th>temp</th>\n",
       "      <th>feels_like</th>\n",
       "      <th>pressure</th>\n",
       "      <th>humidity</th>\n",
       "      <th>dew_point</th>\n",
       "      <th>uvi</th>\n",
       "      <th>clouds</th>\n",
       "      <th>visibility</th>\n",
       "      <th>wind_speed</th>\n",
       "      <th>wind_deg</th>\n",
       "      <th>wind_gust</th>\n",
       "      <th>weather</th>\n",
       "      <th>pop</th>\n",
       "      <th>rain</th>\n",
       "    </tr>\n",
       "  </thead>\n",
       "  <tbody>\n",
       "    <tr>\n",
       "      <th>0</th>\n",
       "      <td>1633384800</td>\n",
       "      <td>28.62</td>\n",
       "      <td>33.51</td>\n",
       "      <td>1010</td>\n",
       "      <td>79</td>\n",
       "      <td>24.62</td>\n",
       "      <td>0.00</td>\n",
       "      <td>41</td>\n",
       "      <td>10000</td>\n",
       "      <td>8.04</td>\n",
       "      <td>76</td>\n",
       "      <td>9.91</td>\n",
       "      <td>[{'id': 802, 'main': 'Clouds', 'description': ...</td>\n",
       "      <td>0.13</td>\n",
       "      <td>NaN</td>\n",
       "    </tr>\n",
       "    <tr>\n",
       "      <th>1</th>\n",
       "      <td>1633388400</td>\n",
       "      <td>28.42</td>\n",
       "      <td>32.82</td>\n",
       "      <td>1010</td>\n",
       "      <td>78</td>\n",
       "      <td>24.21</td>\n",
       "      <td>0.14</td>\n",
       "      <td>41</td>\n",
       "      <td>10000</td>\n",
       "      <td>8.03</td>\n",
       "      <td>71</td>\n",
       "      <td>10.29</td>\n",
       "      <td>[{'id': 802, 'main': 'Clouds', 'description': ...</td>\n",
       "      <td>0.08</td>\n",
       "      <td>NaN</td>\n",
       "    </tr>\n",
       "    <tr>\n",
       "      <th>2</th>\n",
       "      <td>1633392000</td>\n",
       "      <td>28.45</td>\n",
       "      <td>32.55</td>\n",
       "      <td>1011</td>\n",
       "      <td>76</td>\n",
       "      <td>23.81</td>\n",
       "      <td>0.92</td>\n",
       "      <td>38</td>\n",
       "      <td>10000</td>\n",
       "      <td>8.47</td>\n",
       "      <td>67</td>\n",
       "      <td>11.04</td>\n",
       "      <td>[{'id': 802, 'main': 'Clouds', 'description': ...</td>\n",
       "      <td>0.08</td>\n",
       "      <td>NaN</td>\n",
       "    </tr>\n",
       "    <tr>\n",
       "      <th>3</th>\n",
       "      <td>1633395600</td>\n",
       "      <td>28.62</td>\n",
       "      <td>32.42</td>\n",
       "      <td>1012</td>\n",
       "      <td>73</td>\n",
       "      <td>23.30</td>\n",
       "      <td>2.70</td>\n",
       "      <td>18</td>\n",
       "      <td>10000</td>\n",
       "      <td>8.68</td>\n",
       "      <td>67</td>\n",
       "      <td>10.93</td>\n",
       "      <td>[{'id': 801, 'main': 'Clouds', 'description': ...</td>\n",
       "      <td>0.00</td>\n",
       "      <td>NaN</td>\n",
       "    </tr>\n",
       "    <tr>\n",
       "      <th>4</th>\n",
       "      <td>1633399200</td>\n",
       "      <td>28.82</td>\n",
       "      <td>32.52</td>\n",
       "      <td>1012</td>\n",
       "      <td>71</td>\n",
       "      <td>23.03</td>\n",
       "      <td>5.21</td>\n",
       "      <td>11</td>\n",
       "      <td>10000</td>\n",
       "      <td>8.85</td>\n",
       "      <td>71</td>\n",
       "      <td>10.32</td>\n",
       "      <td>[{'id': 801, 'main': 'Clouds', 'description': ...</td>\n",
       "      <td>0.03</td>\n",
       "      <td>NaN</td>\n",
       "    </tr>\n",
       "  </tbody>\n",
       "</table>\n",
       "</div>"
      ],
      "text/plain": [
       "           dt   temp  feels_like  pressure  humidity  dew_point   uvi  clouds  \\\n",
       "0  1633384800  28.62       33.51      1010        79      24.62  0.00      41   \n",
       "1  1633388400  28.42       32.82      1010        78      24.21  0.14      41   \n",
       "2  1633392000  28.45       32.55      1011        76      23.81  0.92      38   \n",
       "3  1633395600  28.62       32.42      1012        73      23.30  2.70      18   \n",
       "4  1633399200  28.82       32.52      1012        71      23.03  5.21      11   \n",
       "\n",
       "   visibility  wind_speed  wind_deg  wind_gust  \\\n",
       "0       10000        8.04        76       9.91   \n",
       "1       10000        8.03        71      10.29   \n",
       "2       10000        8.47        67      11.04   \n",
       "3       10000        8.68        67      10.93   \n",
       "4       10000        8.85        71      10.32   \n",
       "\n",
       "                                             weather   pop rain  \n",
       "0  [{'id': 802, 'main': 'Clouds', 'description': ...  0.13  NaN  \n",
       "1  [{'id': 802, 'main': 'Clouds', 'description': ...  0.08  NaN  \n",
       "2  [{'id': 802, 'main': 'Clouds', 'description': ...  0.08  NaN  \n",
       "3  [{'id': 801, 'main': 'Clouds', 'description': ...  0.00  NaN  \n",
       "4  [{'id': 801, 'main': 'Clouds', 'description': ...  0.03  NaN  "
      ]
     },
     "execution_count": 10,
     "metadata": {},
     "output_type": "execute_result"
    }
   ],
   "source": [
    "df_hourly.head()"
   ]
  },
  {
   "cell_type": "code",
   "execution_count": null,
   "metadata": {},
   "outputs": [],
   "source": []
  }
 ],
 "metadata": {
  "interpreter": {
   "hash": "c1b4cfe941b6d2466ad1fb5979e97da9cda8801728c8091b097ab734208fc00c"
  },
  "kernelspec": {
   "display_name": "Python 3.8.3 64-bit ('base': conda)",
   "name": "python3"
  },
  "language_info": {
   "codemirror_mode": {
    "name": "ipython",
    "version": 3
   },
   "file_extension": ".py",
   "mimetype": "text/x-python",
   "name": "python",
   "nbconvert_exporter": "python",
   "pygments_lexer": "ipython3",
   "version": "3.8.12"
  }
 },
 "nbformat": 4,
 "nbformat_minor": 2
}
