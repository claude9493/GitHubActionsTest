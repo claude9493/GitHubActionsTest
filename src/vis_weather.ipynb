{
 "cells": [
  {
   "cell_type": "code",
   "execution_count": 1,
   "metadata": {
    "execution": {
     "iopub.execute_input": "2021-08-29T06:18:00.566010Z",
     "iopub.status.busy": "2021-08-29T06:18:00.565332Z",
     "iopub.status.idle": "2021-08-29T06:18:04.419750Z",
     "shell.execute_reply": "2021-08-29T06:18:04.419175Z"
    }
   },
   "outputs": [],
   "source": [
    "import json, yaml, requests\r\n",
    "from datetime import datetime\r\n",
    "from dateutil import tz\r\n",
    "import pandas as pd\r\n",
    "from PIL import Image\r\n",
    "from io import BytesIO\r\n",
    "import matplotlib.pyplot as plt\r\n",
    "import seaborn\r\n",
    "\r\n",
    "CONFIG_PATH = \"../config/config.yaml\""
   ]
  },
  {
   "cell_type": "code",
   "execution_count": 2,
   "metadata": {
    "execution": {
     "iopub.execute_input": "2021-08-29T06:18:04.426331Z",
     "iopub.status.busy": "2021-08-29T06:18:04.425121Z",
     "iopub.status.idle": "2021-08-29T06:18:04.431839Z",
     "shell.execute_reply": "2021-08-29T06:18:04.430768Z"
    }
   },
   "outputs": [],
   "source": [
    "with open('../newest_ts', 'r') as f:\r\n",
    "    newest_ts = f.read()\r\n",
    "\r\n",
    "data_path = f\"../data/data_{newest_ts}.json\"\r\n",
    "with open(data_path, 'r') as f:\r\n",
    "    data = json.load(f)\r\n",
    "\r\n",
    "with open(CONFIG_PATH, \"r\") as stream:\r\n",
    "    config = yaml.safe_load(stream)\r\n",
    "\r\n",
    "TIME_ZONE = config['time_zone']\r\n",
    "DATETIME_FORMAT = config['dt_format']"
   ]
  },
  {
   "cell_type": "code",
   "execution_count": 3,
   "metadata": {
    "execution": {
     "iopub.execute_input": "2021-08-29T06:18:04.437385Z",
     "iopub.status.busy": "2021-08-29T06:18:04.436809Z",
     "iopub.status.idle": "2021-08-29T06:18:04.448345Z",
     "shell.execute_reply": "2021-08-29T06:18:04.447836Z"
    }
   },
   "outputs": [
    {
     "name": "stdout",
     "output_type": "stream",
     "text": [
      "Recent query happens at 2021-08-29 14:17:57 (CST).\n"
     ]
    }
   ],
   "source": [
    "def ts2dt(ts, format=DATETIME_FORMAT):\r\n",
    "    dt = (datetime.utcfromtimestamp(int(ts))\r\n",
    "                    .replace(tzinfo=tz.tzutc())\r\n",
    "                    # .astimezone(tz.tzlocal())\r\n",
    "                    .astimezone(tz.gettz(TIME_ZONE)))\r\n",
    "    return dt.strftime(format), dt\r\n",
    "\r\n",
    "_, newest_dt = ts2dt(newest_ts)\r\n",
    "print(f\"Recent query happens at {newest_dt.strftime(DATETIME_FORMAT)} ({newest_dt.tzname()}).\")"
   ]
  },
  {
   "cell_type": "code",
   "execution_count": 4,
   "metadata": {
    "execution": {
     "iopub.execute_input": "2021-08-29T06:18:04.453215Z",
     "iopub.status.busy": "2021-08-29T06:18:04.452652Z",
     "iopub.status.idle": "2021-08-29T06:18:04.456890Z",
     "shell.execute_reply": "2021-08-29T06:18:04.456321Z"
    }
   },
   "outputs": [],
   "source": [
    "def degrees_to_cardinal(d):\r\n",
    "  dirs = ['N', 'NNE', 'NE', 'ENE', 'E', 'ESE', 'SE', 'SSE', 'S', 'SSW', 'SW', 'WSW', 'W', 'WNW', 'NW', 'NNW']\r\n",
    "  ix = int(round(d / (360. / len(dirs))))\r\n",
    "  return dirs[ix % len(dirs)]"
   ]
  },
  {
   "cell_type": "code",
   "execution_count": 5,
   "metadata": {
    "execution": {
     "iopub.execute_input": "2021-08-29T06:18:04.460912Z",
     "iopub.status.busy": "2021-08-29T06:18:04.460330Z",
     "iopub.status.idle": "2021-08-29T06:18:04.463609Z",
     "shell.execute_reply": "2021-08-29T06:18:04.464049Z"
    }
   },
   "outputs": [],
   "source": [
    "# data.keys()"
   ]
  },
  {
   "cell_type": "code",
   "execution_count": 6,
   "metadata": {
    "execution": {
     "iopub.execute_input": "2021-08-29T06:18:04.467833Z",
     "iopub.status.busy": "2021-08-29T06:18:04.467159Z",
     "iopub.status.idle": "2021-08-29T06:18:04.470613Z",
     "shell.execute_reply": "2021-08-29T06:18:04.471060Z"
    }
   },
   "outputs": [],
   "source": [
    "# data['current']"
   ]
  },
  {
   "cell_type": "code",
   "execution_count": 7,
   "metadata": {
    "execution": {
     "iopub.execute_input": "2021-08-29T06:18:04.492599Z",
     "iopub.status.busy": "2021-08-29T06:18:04.475027Z",
     "iopub.status.idle": "2021-08-29T06:18:04.935041Z",
     "shell.execute_reply": "2021-08-29T06:18:04.935836Z"
    }
   },
   "outputs": [
    {
     "data": {
      "image/png": "[encoded data removed]",
      "text/plain": [
       "<Figure size 216x216 with 1 Axes>"
      ]
     },
     "metadata": {
      "needs_background": "light"
     },
     "output_type": "display_data"
    },
    {
     "name": "stdout",
     "output_type": "stream",
     "text": [
      "Today, sun rises at 06:04 and sets at 18:43.\n",
      "Currently, the weather is Clouds (overcast clouds).\n",
      "The temperature is 30.31°C and it feels like 37.31°C.\n",
      "The UV index is 6.97, humidity is 77%.\n",
      "The pressure is 1011 hPa, percentage of cloud cover is 99%\n",
      "The wind comes from ESE direction with a speed 4.26 m/s.\n"
     ]
    }
   ],
   "source": [
    "current = data['current']\r\n",
    "\r\n",
    "fig, ax = plt.subplots(figsize=(3, 3))\r\n",
    "icon = requests.get(f\"http://openweathermap.org/img/wn/{current['weather'][0]['icon']}@2x.png\")\r\n",
    "im = Image.open(BytesIO(icon.content))\r\n",
    "plt.imshow(im)\r\n",
    "ax.set_axis_off()\r\n",
    "plt.show()\r\n",
    "\r\n",
    "print(f\"Today, sun rises at {ts2dt(current['sunrise'], '%H:%M')[0]} \\\r\n",
    "and sets at {ts2dt(current['sunset'], '%H:%M')[0]}.\\n\\\r\n",
    "Currently, the weather is {current['weather'][0]['main']} ({current['weather'][0]['description']}).\\n\\\r\n",
    "The temperature is {current['temp']}°C and it feels like {current['feels_like']}°C.\\n\\\r\n",
    "The UV index is {current['uvi']}, humidity is {current['humidity']}%.\\n\\\r\n",
    "The pressure is {current['pressure']} hPa, percentage of cloud cover is {current['clouds']}%\\n\\\r\n",
    "The wind comes from {degrees_to_cardinal(current['wind_deg'])} direction with a speed {current['wind_speed']} m/s.\")"
   ]
  },
  {
   "cell_type": "code",
   "execution_count": 8,
   "metadata": {
    "execution": {
     "iopub.execute_input": "2021-08-29T06:18:04.939848Z",
     "iopub.status.busy": "2021-08-29T06:18:04.938690Z",
     "iopub.status.idle": "2021-08-29T06:18:04.947592Z",
     "shell.execute_reply": "2021-08-29T06:18:04.948382Z"
    }
   },
   "outputs": [],
   "source": [
    "df_hourly = pd.DataFrame(data['hourly'])\r\n",
    "df_daily = pd.DataFrame(data['daily'])"
   ]
  },
  {
   "cell_type": "code",
   "execution_count": 9,
   "metadata": {
    "execution": {
     "iopub.execute_input": "2021-08-29T06:18:04.952043Z",
     "iopub.status.busy": "2021-08-29T06:18:04.950918Z",
     "iopub.status.idle": "2021-08-29T06:18:05.305304Z",
     "shell.execute_reply": "2021-08-29T06:18:05.304773Z"
    }
   },
   "outputs": [
    {
     "data": {
      "image/png": "[encoded data removed]",
      "text/plain": [
       "<Figure size 864x432 with 1 Axes>"
      ]
     },
     "metadata": {
      "needs_background": "light"
     },
     "output_type": "display_data"
    }
   ],
   "source": [
    "fig, ax = plt.subplots(figsize=(12, 6))\r\n",
    "plt.plot(df_hourly.temp, '.-', label='Temperature')\r\n",
    "plt.plot(df_hourly.feels_like, '.-', label='Feels Like')\r\n",
    "ax.set(title='Temperature in future 48 hours', xlabel='Time', ylabel='Temperature')\r\n",
    "ax.set_xticks(list(range(0, len(df_hourly), 2)))\r\n",
    "ax.set_xticklabels([ts2dt(ts, '%m-%d %H:%M')[0] for i, ts in enumerate(df_hourly.dt) if i%2==0], \r\n",
    "                   rotation=45, ha=\"right\")\r\n",
    "ax.locator_params(nbins=15, axis='y')\r\n",
    "plt.legend()\r\n",
    "plt.show()"
   ]
  },
  {
   "cell_type": "code",
   "execution_count": 10,
   "metadata": {
    "execution": {
     "iopub.execute_input": "2021-08-29T06:18:05.320088Z",
     "iopub.status.busy": "2021-08-29T06:18:05.310201Z",
     "iopub.status.idle": "2021-08-29T06:18:05.333285Z",
     "shell.execute_reply": "2021-08-29T06:18:05.333711Z"
    }
   },
   "outputs": [
    {
     "data": {
      "text/html": [
       "<div>\n",
       "<style scoped>\n",
       "    .dataframe tbody tr th:only-of-type {\n",
       "        vertical-align: middle;\n",
       "    }\n",
       "\n",
       "    .dataframe tbody tr th {\n",
       "        vertical-align: top;\n",
       "    }\n",
       "\n",
       "    .dataframe thead th {\n",
       "        text-align: right;\n",
       "    }\n",
       "</style>\n",
       "<table border=\"1\" class=\"dataframe\">\n",
       "  <thead>\n",
       "    <tr style=\"text-align: right;\">\n",
       "      <th></th>\n",
       "      <th>dt</th>\n",
       "      <th>temp</th>\n",
       "      <th>feels_like</th>\n",
       "      <th>pressure</th>\n",
       "      <th>humidity</th>\n",
       "      <th>dew_point</th>\n",
       "      <th>uvi</th>\n",
       "      <th>clouds</th>\n",
       "      <th>visibility</th>\n",
       "      <th>wind_speed</th>\n",
       "      <th>wind_deg</th>\n",
       "      <th>wind_gust</th>\n",
       "      <th>weather</th>\n",
       "      <th>pop</th>\n",
       "      <th>rain</th>\n",
       "    </tr>\n",
       "  </thead>\n",
       "  <tbody>\n",
       "    <tr>\n",
       "      <th>0</th>\n",
       "      <td>1630216800</td>\n",
       "      <td>30.31</td>\n",
       "      <td>37.31</td>\n",
       "      <td>1011</td>\n",
       "      <td>77</td>\n",
       "      <td>25.82</td>\n",
       "      <td>6.97</td>\n",
       "      <td>99</td>\n",
       "      <td>10000</td>\n",
       "      <td>4.26</td>\n",
       "      <td>112</td>\n",
       "      <td>5.61</td>\n",
       "      <td>[{'id': 501, 'main': 'Rain', 'description': 'm...</td>\n",
       "      <td>0.92</td>\n",
       "      <td>{'1h': 1.22}</td>\n",
       "    </tr>\n",
       "    <tr>\n",
       "      <th>1</th>\n",
       "      <td>1630220400</td>\n",
       "      <td>30.15</td>\n",
       "      <td>36.71</td>\n",
       "      <td>1011</td>\n",
       "      <td>75</td>\n",
       "      <td>25.23</td>\n",
       "      <td>6.35</td>\n",
       "      <td>99</td>\n",
       "      <td>10000</td>\n",
       "      <td>3.89</td>\n",
       "      <td>111</td>\n",
       "      <td>5.30</td>\n",
       "      <td>[{'id': 501, 'main': 'Rain', 'description': 'm...</td>\n",
       "      <td>0.74</td>\n",
       "      <td>{'1h': 1.15}</td>\n",
       "    </tr>\n",
       "    <tr>\n",
       "      <th>2</th>\n",
       "      <td>1630224000</td>\n",
       "      <td>30.05</td>\n",
       "      <td>35.91</td>\n",
       "      <td>1011</td>\n",
       "      <td>73</td>\n",
       "      <td>24.68</td>\n",
       "      <td>3.35</td>\n",
       "      <td>99</td>\n",
       "      <td>10000</td>\n",
       "      <td>3.93</td>\n",
       "      <td>102</td>\n",
       "      <td>5.23</td>\n",
       "      <td>[{'id': 501, 'main': 'Rain', 'description': 'm...</td>\n",
       "      <td>0.70</td>\n",
       "      <td>{'1h': 1.54}</td>\n",
       "    </tr>\n",
       "    <tr>\n",
       "      <th>3</th>\n",
       "      <td>1630227600</td>\n",
       "      <td>29.79</td>\n",
       "      <td>35.24</td>\n",
       "      <td>1010</td>\n",
       "      <td>73</td>\n",
       "      <td>24.43</td>\n",
       "      <td>1.21</td>\n",
       "      <td>99</td>\n",
       "      <td>10000</td>\n",
       "      <td>4.37</td>\n",
       "      <td>96</td>\n",
       "      <td>5.72</td>\n",
       "      <td>[{'id': 804, 'main': 'Clouds', 'description': ...</td>\n",
       "      <td>0.58</td>\n",
       "      <td>NaN</td>\n",
       "    </tr>\n",
       "    <tr>\n",
       "      <th>4</th>\n",
       "      <td>1630231200</td>\n",
       "      <td>29.17</td>\n",
       "      <td>34.12</td>\n",
       "      <td>1010</td>\n",
       "      <td>75</td>\n",
       "      <td>24.28</td>\n",
       "      <td>0.22</td>\n",
       "      <td>97</td>\n",
       "      <td>10000</td>\n",
       "      <td>4.07</td>\n",
       "      <td>95</td>\n",
       "      <td>6.08</td>\n",
       "      <td>[{'id': 804, 'main': 'Clouds', 'description': ...</td>\n",
       "      <td>0.58</td>\n",
       "      <td>NaN</td>\n",
       "    </tr>\n",
       "  </tbody>\n",
       "</table>\n",
       "</div>"
      ],
      "text/plain": [
       "           dt   temp  feels_like  pressure  humidity  dew_point   uvi  clouds  \\\n",
       "0  1630216800  30.31       37.31      1011        77      25.82  6.97      99   \n",
       "1  1630220400  30.15       36.71      1011        75      25.23  6.35      99   \n",
       "2  1630224000  30.05       35.91      1011        73      24.68  3.35      99   \n",
       "3  1630227600  29.79       35.24      1010        73      24.43  1.21      99   \n",
       "4  1630231200  29.17       34.12      1010        75      24.28  0.22      97   \n",
       "\n",
       "   visibility  wind_speed  wind_deg  wind_gust  \\\n",
       "0       10000        4.26       112       5.61   \n",
       "1       10000        3.89       111       5.30   \n",
       "2       10000        3.93       102       5.23   \n",
       "3       10000        4.37        96       5.72   \n",
       "4       10000        4.07        95       6.08   \n",
       "\n",
       "                                             weather   pop          rain  \n",
       "0  [{'id': 501, 'main': 'Rain', 'description': 'm...  0.92  {'1h': 1.22}  \n",
       "1  [{'id': 501, 'main': 'Rain', 'description': 'm...  0.74  {'1h': 1.15}  \n",
       "2  [{'id': 501, 'main': 'Rain', 'description': 'm...  0.70  {'1h': 1.54}  \n",
       "3  [{'id': 804, 'main': 'Clouds', 'description': ...  0.58           NaN  \n",
       "4  [{'id': 804, 'main': 'Clouds', 'description': ...  0.58           NaN  "
      ]
     },
     "execution_count": 10,
     "metadata": {},
     "output_type": "execute_result"
    }
   ],
   "source": [
    "df_hourly.head()"
   ]
  },
  {
   "cell_type": "code",
   "execution_count": null,
   "metadata": {},
   "outputs": [],
   "source": []
  }
 ],
 "metadata": {
  "interpreter": {
   "hash": "c1b4cfe941b6d2466ad1fb5979e97da9cda8801728c8091b097ab734208fc00c"
  },
  "kernelspec": {
   "display_name": "Python 3.8.3 64-bit ('base': conda)",
   "name": "python3"
  },
  "language_info": {
   "codemirror_mode": {
    "name": "ipython",
    "version": 3
   },
   "file_extension": ".py",
   "mimetype": "text/x-python",
   "name": "python",
   "nbconvert_exporter": "python",
   "pygments_lexer": "ipython3",
   "version": "3.8.11"
  }
 },
 "nbformat": 4,
 "nbformat_minor": 2
}
