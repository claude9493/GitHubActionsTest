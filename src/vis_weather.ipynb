{
 "cells": [
  {
   "cell_type": "code",
   "execution_count": 1,
   "metadata": {
    "execution": {
     "iopub.execute_input": "2021-09-12T19:36:33.959382Z",
     "iopub.status.busy": "2021-09-12T19:36:33.958588Z",
     "iopub.status.idle": "2021-09-12T19:36:36.644568Z",
     "shell.execute_reply": "2021-09-12T19:36:36.643471Z"
    }
   },
   "outputs": [],
   "source": [
    "import json, yaml, requests\r\n",
    "from datetime import datetime\r\n",
    "from dateutil import tz\r\n",
    "import pandas as pd\r\n",
    "from PIL import Image\r\n",
    "from io import BytesIO\r\n",
    "import matplotlib.pyplot as plt\r\n",
    "import seaborn\r\n",
    "\r\n",
    "CONFIG_PATH = \"../config/config.yaml\""
   ]
  },
  {
   "cell_type": "code",
   "execution_count": 2,
   "metadata": {
    "execution": {
     "iopub.execute_input": "2021-09-12T19:36:36.650073Z",
     "iopub.status.busy": "2021-09-12T19:36:36.649322Z",
     "iopub.status.idle": "2021-09-12T19:36:36.656004Z",
     "shell.execute_reply": "2021-09-12T19:36:36.656473Z"
    }
   },
   "outputs": [],
   "source": [
    "with open('../newest_ts', 'r') as f:\r\n",
    "    newest_ts = f.read()\r\n",
    "\r\n",
    "data_path = f\"../data/data_{newest_ts}.json\"\r\n",
    "with open(data_path, 'r') as f:\r\n",
    "    data = json.load(f)\r\n",
    "\r\n",
    "with open(CONFIG_PATH, \"r\") as stream:\r\n",
    "    config = yaml.safe_load(stream)\r\n",
    "\r\n",
    "TIME_ZONE = config['time_zone']\r\n",
    "DATETIME_FORMAT = config['dt_format']"
   ]
  },
  {
   "cell_type": "code",
   "execution_count": 3,
   "metadata": {
    "execution": {
     "iopub.execute_input": "2021-09-12T19:36:36.661684Z",
     "iopub.status.busy": "2021-09-12T19:36:36.661028Z",
     "iopub.status.idle": "2021-09-12T19:36:36.751131Z",
     "shell.execute_reply": "2021-09-12T19:36:36.751648Z"
    }
   },
   "outputs": [
    {
     "name": "stdout",
     "output_type": "stream",
     "text": [
      "Recent query happens at 2021-09-13 03:36:30 (CST).\n"
     ]
    }
   ],
   "source": [
    "def ts2dt(ts, format=DATETIME_FORMAT):\r\n",
    "    dt = (datetime.utcfromtimestamp(int(ts))\r\n",
    "                    .replace(tzinfo=tz.tzutc())\r\n",
    "                    # .astimezone(tz.tzlocal())\r\n",
    "                    .astimezone(tz.gettz(TIME_ZONE)))\r\n",
    "    return dt.strftime(format), dt\r\n",
    "\r\n",
    "_, newest_dt = ts2dt(newest_ts)\r\n",
    "print(f\"Recent query happens at {newest_dt.strftime(DATETIME_FORMAT)} ({newest_dt.tzname()}).\")"
   ]
  },
  {
   "cell_type": "code",
   "execution_count": 4,
   "metadata": {
    "execution": {
     "iopub.execute_input": "2021-09-12T19:36:36.757472Z",
     "iopub.status.busy": "2021-09-12T19:36:36.756762Z",
     "iopub.status.idle": "2021-09-12T19:36:36.759851Z",
     "shell.execute_reply": "2021-09-12T19:36:36.759215Z"
    }
   },
   "outputs": [],
   "source": [
    "def degrees_to_cardinal(d):\r\n",
    "  dirs = ['N', 'NNE', 'NE', 'ENE', 'E', 'ESE', 'SE', 'SSE', 'S', 'SSW', 'SW', 'WSW', 'W', 'WNW', 'NW', 'NNW']\r\n",
    "  ix = int(round(d / (360. / len(dirs))))\r\n",
    "  return dirs[ix % len(dirs)]"
   ]
  },
  {
   "cell_type": "code",
   "execution_count": 5,
   "metadata": {
    "execution": {
     "iopub.execute_input": "2021-09-12T19:36:36.765113Z",
     "iopub.status.busy": "2021-09-12T19:36:36.763720Z",
     "iopub.status.idle": "2021-09-12T19:36:36.765713Z",
     "shell.execute_reply": "2021-09-12T19:36:36.766177Z"
    }
   },
   "outputs": [],
   "source": [
    "# data.keys()"
   ]
  },
  {
   "cell_type": "code",
   "execution_count": 6,
   "metadata": {
    "execution": {
     "iopub.execute_input": "2021-09-12T19:36:36.771235Z",
     "iopub.status.busy": "2021-09-12T19:36:36.769704Z",
     "iopub.status.idle": "2021-09-12T19:36:36.771881Z",
     "shell.execute_reply": "2021-09-12T19:36:36.772372Z"
    }
   },
   "outputs": [],
   "source": [
    "# data['current']"
   ]
  },
  {
   "cell_type": "code",
   "execution_count": 7,
   "metadata": {
    "execution": {
     "iopub.execute_input": "2021-09-12T19:36:36.783378Z",
     "iopub.status.busy": "2021-09-12T19:36:36.782658Z",
     "iopub.status.idle": "2021-09-12T19:36:37.454564Z",
     "shell.execute_reply": "2021-09-12T19:36:37.455286Z"
    }
   },
   "outputs": [
    {
     "data": {
      "image/png": "[encoded data removed]",
      "text/plain": [
       "<Figure size 216x216 with 1 Axes>"
      ]
     },
     "metadata": {
      "needs_background": "light"
     },
     "output_type": "display_data"
    },
    {
     "name": "stdout",
     "output_type": "stream",
     "text": [
      "Today, sun rises at 06:09 and sets at 18:29.\n",
      "Currently, the weather is Clouds (overcast clouds).\n",
      "The temperature is 30.3°C and it feels like 37.3°C.\n",
      "The UV index is 0, humidity is 86%.\n",
      "The pressure is 1003 hPa, percentage of cloud cover is 96%\n",
      "The wind comes from SW direction with a speed 2.83 m/s.\n"
     ]
    }
   ],
   "source": [
    "current = data['current']\r\n",
    "\r\n",
    "fig, ax = plt.subplots(figsize=(3, 3))\r\n",
    "icon = requests.get(f\"http://openweathermap.org/img/wn/{current['weather'][0]['icon']}@2x.png\")\r\n",
    "im = Image.open(BytesIO(icon.content))\r\n",
    "plt.imshow(im)\r\n",
    "ax.set_axis_off()\r\n",
    "plt.show()\r\n",
    "\r\n",
    "print(f\"Today, sun rises at {ts2dt(current['sunrise'], '%H:%M')[0]} \\\r\n",
    "and sets at {ts2dt(current['sunset'], '%H:%M')[0]}.\\n\\\r\n",
    "Currently, the weather is {current['weather'][0]['main']} ({current['weather'][0]['description']}).\\n\\\r\n",
    "The temperature is {current['temp']}°C and it feels like {current['feels_like']}°C.\\n\\\r\n",
    "The UV index is {current['uvi']}, humidity is {current['humidity']}%.\\n\\\r\n",
    "The pressure is {current['pressure']} hPa, percentage of cloud cover is {current['clouds']}%\\n\\\r\n",
    "The wind comes from {degrees_to_cardinal(current['wind_deg'])} direction with a speed {current['wind_speed']} m/s.\")"
   ]
  },
  {
   "cell_type": "code",
   "execution_count": 8,
   "metadata": {
    "execution": {
     "iopub.execute_input": "2021-09-12T19:36:37.459142Z",
     "iopub.status.busy": "2021-09-12T19:36:37.458369Z",
     "iopub.status.idle": "2021-09-12T19:36:37.466104Z",
     "shell.execute_reply": "2021-09-12T19:36:37.467007Z"
    }
   },
   "outputs": [],
   "source": [
    "df_hourly = pd.DataFrame(data['hourly'])\r\n",
    "df_daily = pd.DataFrame(data['daily'])"
   ]
  },
  {
   "cell_type": "code",
   "execution_count": 9,
   "metadata": {
    "execution": {
     "iopub.execute_input": "2021-09-12T19:36:37.470633Z",
     "iopub.status.busy": "2021-09-12T19:36:37.469657Z",
     "iopub.status.idle": "2021-09-12T19:36:37.810595Z",
     "shell.execute_reply": "2021-09-12T19:36:37.810088Z"
    }
   },
   "outputs": [
    {
     "data": {
      "image/png": "[encoded data removed]",
      "text/plain": [
       "<Figure size 864x432 with 1 Axes>"
      ]
     },
     "metadata": {
      "needs_background": "light"
     },
     "output_type": "display_data"
    }
   ],
   "source": [
    "fig, ax = plt.subplots(figsize=(12, 6))\r\n",
    "plt.plot(df_hourly.temp, '.-', label='Temperature')\r\n",
    "plt.plot(df_hourly.feels_like, '.-', label='Feels Like')\r\n",
    "ax.set(title='Temperature in future 48 hours', xlabel='Time', ylabel='Temperature')\r\n",
    "ax.set_xticks(list(range(0, len(df_hourly), 2)))\r\n",
    "ax.set_xticklabels([ts2dt(ts, '%m-%d %H:%M')[0] for i, ts in enumerate(df_hourly.dt) if i%2==0], \r\n",
    "                   rotation=45, ha=\"right\")\r\n",
    "ax.locator_params(nbins=15, axis='y')\r\n",
    "plt.legend()\r\n",
    "plt.show()"
   ]
  },
  {
   "cell_type": "code",
   "execution_count": 10,
   "metadata": {
    "execution": {
     "iopub.execute_input": "2021-09-12T19:36:37.822000Z",
     "iopub.status.busy": "2021-09-12T19:36:37.821330Z",
     "iopub.status.idle": "2021-09-12T19:36:37.841458Z",
     "shell.execute_reply": "2021-09-12T19:36:37.841874Z"
    }
   },
   "outputs": [
    {
     "data": {
      "text/html": [
       "<div>\n",
       "<style scoped>\n",
       "    .dataframe tbody tr th:only-of-type {\n",
       "        vertical-align: middle;\n",
       "    }\n",
       "\n",
       "    .dataframe tbody tr th {\n",
       "        vertical-align: top;\n",
       "    }\n",
       "\n",
       "    .dataframe thead th {\n",
       "        text-align: right;\n",
       "    }\n",
       "</style>\n",
       "<table border=\"1\" class=\"dataframe\">\n",
       "  <thead>\n",
       "    <tr style=\"text-align: right;\">\n",
       "      <th></th>\n",
       "      <th>dt</th>\n",
       "      <th>temp</th>\n",
       "      <th>feels_like</th>\n",
       "      <th>pressure</th>\n",
       "      <th>humidity</th>\n",
       "      <th>dew_point</th>\n",
       "      <th>uvi</th>\n",
       "      <th>clouds</th>\n",
       "      <th>visibility</th>\n",
       "      <th>wind_speed</th>\n",
       "      <th>wind_deg</th>\n",
       "      <th>wind_gust</th>\n",
       "      <th>weather</th>\n",
       "      <th>pop</th>\n",
       "      <th>rain</th>\n",
       "    </tr>\n",
       "  </thead>\n",
       "  <tbody>\n",
       "    <tr>\n",
       "      <th>0</th>\n",
       "      <td>1631473200</td>\n",
       "      <td>29.99</td>\n",
       "      <td>36.99</td>\n",
       "      <td>1003</td>\n",
       "      <td>84</td>\n",
       "      <td>26.99</td>\n",
       "      <td>0.00</td>\n",
       "      <td>97</td>\n",
       "      <td>10000</td>\n",
       "      <td>3.17</td>\n",
       "      <td>230</td>\n",
       "      <td>4.44</td>\n",
       "      <td>[{'id': 500, 'main': 'Rain', 'description': 'l...</td>\n",
       "      <td>0.70</td>\n",
       "      <td>{'1h': 0.21}</td>\n",
       "    </tr>\n",
       "    <tr>\n",
       "      <th>1</th>\n",
       "      <td>1631476800</td>\n",
       "      <td>30.30</td>\n",
       "      <td>37.30</td>\n",
       "      <td>1003</td>\n",
       "      <td>86</td>\n",
       "      <td>27.69</td>\n",
       "      <td>0.00</td>\n",
       "      <td>96</td>\n",
       "      <td>10000</td>\n",
       "      <td>2.83</td>\n",
       "      <td>235</td>\n",
       "      <td>3.76</td>\n",
       "      <td>[{'id': 500, 'main': 'Rain', 'description': 'l...</td>\n",
       "      <td>0.76</td>\n",
       "      <td>{'1h': 0.1}</td>\n",
       "    </tr>\n",
       "    <tr>\n",
       "      <th>2</th>\n",
       "      <td>1631480400</td>\n",
       "      <td>29.98</td>\n",
       "      <td>36.98</td>\n",
       "      <td>1003</td>\n",
       "      <td>84</td>\n",
       "      <td>26.98</td>\n",
       "      <td>0.00</td>\n",
       "      <td>94</td>\n",
       "      <td>10000</td>\n",
       "      <td>2.47</td>\n",
       "      <td>247</td>\n",
       "      <td>3.10</td>\n",
       "      <td>[{'id': 804, 'main': 'Clouds', 'description': ...</td>\n",
       "      <td>0.90</td>\n",
       "      <td>NaN</td>\n",
       "    </tr>\n",
       "    <tr>\n",
       "      <th>3</th>\n",
       "      <td>1631484000</td>\n",
       "      <td>29.64</td>\n",
       "      <td>36.64</td>\n",
       "      <td>1003</td>\n",
       "      <td>83</td>\n",
       "      <td>26.44</td>\n",
       "      <td>0.00</td>\n",
       "      <td>85</td>\n",
       "      <td>10000</td>\n",
       "      <td>2.19</td>\n",
       "      <td>249</td>\n",
       "      <td>2.72</td>\n",
       "      <td>[{'id': 804, 'main': 'Clouds', 'description': ...</td>\n",
       "      <td>0.90</td>\n",
       "      <td>NaN</td>\n",
       "    </tr>\n",
       "    <tr>\n",
       "      <th>4</th>\n",
       "      <td>1631487600</td>\n",
       "      <td>29.56</td>\n",
       "      <td>36.56</td>\n",
       "      <td>1004</td>\n",
       "      <td>81</td>\n",
       "      <td>25.95</td>\n",
       "      <td>0.25</td>\n",
       "      <td>73</td>\n",
       "      <td>10000</td>\n",
       "      <td>2.20</td>\n",
       "      <td>241</td>\n",
       "      <td>2.75</td>\n",
       "      <td>[{'id': 500, 'main': 'Rain', 'description': 'l...</td>\n",
       "      <td>0.86</td>\n",
       "      <td>{'1h': 0.15}</td>\n",
       "    </tr>\n",
       "  </tbody>\n",
       "</table>\n",
       "</div>"
      ],
      "text/plain": [
       "           dt   temp  feels_like  pressure  humidity  dew_point   uvi  clouds  \\\n",
       "0  1631473200  29.99       36.99      1003        84      26.99  0.00      97   \n",
       "1  1631476800  30.30       37.30      1003        86      27.69  0.00      96   \n",
       "2  1631480400  29.98       36.98      1003        84      26.98  0.00      94   \n",
       "3  1631484000  29.64       36.64      1003        83      26.44  0.00      85   \n",
       "4  1631487600  29.56       36.56      1004        81      25.95  0.25      73   \n",
       "\n",
       "   visibility  wind_speed  wind_deg  wind_gust  \\\n",
       "0       10000        3.17       230       4.44   \n",
       "1       10000        2.83       235       3.76   \n",
       "2       10000        2.47       247       3.10   \n",
       "3       10000        2.19       249       2.72   \n",
       "4       10000        2.20       241       2.75   \n",
       "\n",
       "                                             weather   pop          rain  \n",
       "0  [{'id': 500, 'main': 'Rain', 'description': 'l...  0.70  {'1h': 0.21}  \n",
       "1  [{'id': 500, 'main': 'Rain', 'description': 'l...  0.76   {'1h': 0.1}  \n",
       "2  [{'id': 804, 'main': 'Clouds', 'description': ...  0.90           NaN  \n",
       "3  [{'id': 804, 'main': 'Clouds', 'description': ...  0.90           NaN  \n",
       "4  [{'id': 500, 'main': 'Rain', 'description': 'l...  0.86  {'1h': 0.15}  "
      ]
     },
     "execution_count": 10,
     "metadata": {},
     "output_type": "execute_result"
    }
   ],
   "source": [
    "df_hourly.head()"
   ]
  },
  {
   "cell_type": "code",
   "execution_count": null,
   "metadata": {},
   "outputs": [],
   "source": []
  }
 ],
 "metadata": {
  "interpreter": {
   "hash": "c1b4cfe941b6d2466ad1fb5979e97da9cda8801728c8091b097ab734208fc00c"
  },
  "kernelspec": {
   "display_name": "Python 3.8.3 64-bit ('base': conda)",
   "name": "python3"
  },
  "language_info": {
   "codemirror_mode": {
    "name": "ipython",
    "version": 3
   },
   "file_extension": ".py",
   "mimetype": "text/x-python",
   "name": "python",
   "nbconvert_exporter": "python",
   "pygments_lexer": "ipython3",
   "version": "3.8.11"
  }
 },
 "nbformat": 4,
 "nbformat_minor": 2
}
