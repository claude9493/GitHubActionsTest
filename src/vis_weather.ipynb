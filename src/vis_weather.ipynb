{
 "cells": [
  {
   "cell_type": "code",
   "execution_count": 1,
   "metadata": {
    "execution": {
     "iopub.execute_input": "2021-09-04T22:15:17.728320Z",
     "iopub.status.busy": "2021-09-04T22:15:17.727702Z",
     "iopub.status.idle": "2021-09-04T22:15:20.750320Z",
     "shell.execute_reply": "2021-09-04T22:15:20.750746Z"
    }
   },
   "outputs": [],
   "source": [
    "import json, yaml, requests\r\n",
    "from datetime import datetime\r\n",
    "from dateutil import tz\r\n",
    "import pandas as pd\r\n",
    "from PIL import Image\r\n",
    "from io import BytesIO\r\n",
    "import matplotlib.pyplot as plt\r\n",
    "import seaborn\r\n",
    "\r\n",
    "CONFIG_PATH = \"../config/config.yaml\""
   ]
  },
  {
   "cell_type": "code",
   "execution_count": 2,
   "metadata": {
    "execution": {
     "iopub.execute_input": "2021-09-04T22:15:20.756207Z",
     "iopub.status.busy": "2021-09-04T22:15:20.755654Z",
     "iopub.status.idle": "2021-09-04T22:15:20.761321Z",
     "shell.execute_reply": "2021-09-04T22:15:20.760357Z"
    }
   },
   "outputs": [],
   "source": [
    "with open('../newest_ts', 'r') as f:\r\n",
    "    newest_ts = f.read()\r\n",
    "\r\n",
    "data_path = f\"../data/data_{newest_ts}.json\"\r\n",
    "with open(data_path, 'r') as f:\r\n",
    "    data = json.load(f)\r\n",
    "\r\n",
    "with open(CONFIG_PATH, \"r\") as stream:\r\n",
    "    config = yaml.safe_load(stream)\r\n",
    "\r\n",
    "TIME_ZONE = config['time_zone']\r\n",
    "DATETIME_FORMAT = config['dt_format']"
   ]
  },
  {
   "cell_type": "code",
   "execution_count": 3,
   "metadata": {
    "execution": {
     "iopub.execute_input": "2021-09-04T22:15:20.766801Z",
     "iopub.status.busy": "2021-09-04T22:15:20.766189Z",
     "iopub.status.idle": "2021-09-04T22:15:20.777720Z",
     "shell.execute_reply": "2021-09-04T22:15:20.778111Z"
    }
   },
   "outputs": [
    {
     "name": "stdout",
     "output_type": "stream",
     "text": [
      "Recent query happens at 2021-09-05 06:15:14 (CST).\n"
     ]
    }
   ],
   "source": [
    "def ts2dt(ts, format=DATETIME_FORMAT):\r\n",
    "    dt = (datetime.utcfromtimestamp(int(ts))\r\n",
    "                    .replace(tzinfo=tz.tzutc())\r\n",
    "                    # .astimezone(tz.tzlocal())\r\n",
    "                    .astimezone(tz.gettz(TIME_ZONE)))\r\n",
    "    return dt.strftime(format), dt\r\n",
    "\r\n",
    "_, newest_dt = ts2dt(newest_ts)\r\n",
    "print(f\"Recent query happens at {newest_dt.strftime(DATETIME_FORMAT)} ({newest_dt.tzname()}).\")"
   ]
  },
  {
   "cell_type": "code",
   "execution_count": 4,
   "metadata": {
    "execution": {
     "iopub.execute_input": "2021-09-04T22:15:20.783972Z",
     "iopub.status.busy": "2021-09-04T22:15:20.782626Z",
     "iopub.status.idle": "2021-09-04T22:15:20.784563Z",
     "shell.execute_reply": "2021-09-04T22:15:20.785028Z"
    }
   },
   "outputs": [],
   "source": [
    "def degrees_to_cardinal(d):\r\n",
    "  dirs = ['N', 'NNE', 'NE', 'ENE', 'E', 'ESE', 'SE', 'SSE', 'S', 'SSW', 'SW', 'WSW', 'W', 'WNW', 'NW', 'NNW']\r\n",
    "  ix = int(round(d / (360. / len(dirs))))\r\n",
    "  return dirs[ix % len(dirs)]"
   ]
  },
  {
   "cell_type": "code",
   "execution_count": 5,
   "metadata": {
    "execution": {
     "iopub.execute_input": "2021-09-04T22:15:20.790345Z",
     "iopub.status.busy": "2021-09-04T22:15:20.788861Z",
     "iopub.status.idle": "2021-09-04T22:15:20.790998Z",
     "shell.execute_reply": "2021-09-04T22:15:20.791500Z"
    }
   },
   "outputs": [],
   "source": [
    "# data.keys()"
   ]
  },
  {
   "cell_type": "code",
   "execution_count": 6,
   "metadata": {
    "execution": {
     "iopub.execute_input": "2021-09-04T22:15:20.796583Z",
     "iopub.status.busy": "2021-09-04T22:15:20.795138Z",
     "iopub.status.idle": "2021-09-04T22:15:20.797372Z",
     "shell.execute_reply": "2021-09-04T22:15:20.797925Z"
    }
   },
   "outputs": [],
   "source": [
    "# data['current']"
   ]
  },
  {
   "cell_type": "code",
   "execution_count": 7,
   "metadata": {
    "execution": {
     "iopub.execute_input": "2021-09-04T22:15:20.820090Z",
     "iopub.status.busy": "2021-09-04T22:15:20.819394Z",
     "iopub.status.idle": "2021-09-04T22:15:21.406021Z",
     "shell.execute_reply": "2021-09-04T22:15:21.406883Z"
    }
   },
   "outputs": [
    {
     "data": {
      "image/png": "[encoded data removed]",
      "text/plain": [
       "<Figure size 216x216 with 1 Axes>"
      ]
     },
     "metadata": {
      "needs_background": "light"
     },
     "output_type": "display_data"
    },
    {
     "name": "stdout",
     "output_type": "stream",
     "text": [
      "Today, sun rises at 06:06 and sets at 18:36.\n",
      "Currently, the weather is Clouds (few clouds).\n",
      "The temperature is 28.52°C and it feels like 34.4°C.\n",
      "The UV index is 0, humidity is 85%.\n",
      "The pressure is 1009 hPa, percentage of cloud cover is 15%\n",
      "The wind comes from ESE direction with a speed 2.22 m/s.\n"
     ]
    }
   ],
   "source": [
    "current = data['current']\r\n",
    "\r\n",
    "fig, ax = plt.subplots(figsize=(3, 3))\r\n",
    "icon = requests.get(f\"http://openweathermap.org/img/wn/{current['weather'][0]['icon']}@2x.png\")\r\n",
    "im = Image.open(BytesIO(icon.content))\r\n",
    "plt.imshow(im)\r\n",
    "ax.set_axis_off()\r\n",
    "plt.show()\r\n",
    "\r\n",
    "print(f\"Today, sun rises at {ts2dt(current['sunrise'], '%H:%M')[0]} \\\r\n",
    "and sets at {ts2dt(current['sunset'], '%H:%M')[0]}.\\n\\\r\n",
    "Currently, the weather is {current['weather'][0]['main']} ({current['weather'][0]['description']}).\\n\\\r\n",
    "The temperature is {current['temp']}°C and it feels like {current['feels_like']}°C.\\n\\\r\n",
    "The UV index is {current['uvi']}, humidity is {current['humidity']}%.\\n\\\r\n",
    "The pressure is {current['pressure']} hPa, percentage of cloud cover is {current['clouds']}%\\n\\\r\n",
    "The wind comes from {degrees_to_cardinal(current['wind_deg'])} direction with a speed {current['wind_speed']} m/s.\")"
   ]
  },
  {
   "cell_type": "code",
   "execution_count": 8,
   "metadata": {
    "execution": {
     "iopub.execute_input": "2021-09-04T22:15:21.411746Z",
     "iopub.status.busy": "2021-09-04T22:15:21.410293Z",
     "iopub.status.idle": "2021-09-04T22:15:21.420176Z",
     "shell.execute_reply": "2021-09-04T22:15:21.421025Z"
    }
   },
   "outputs": [],
   "source": [
    "df_hourly = pd.DataFrame(data['hourly'])\r\n",
    "df_daily = pd.DataFrame(data['daily'])"
   ]
  },
  {
   "cell_type": "code",
   "execution_count": 9,
   "metadata": {
    "execution": {
     "iopub.execute_input": "2021-09-04T22:15:21.424885Z",
     "iopub.status.busy": "2021-09-04T22:15:21.423703Z",
     "iopub.status.idle": "2021-09-04T22:15:21.762897Z",
     "shell.execute_reply": "2021-09-04T22:15:21.762314Z"
    }
   },
   "outputs": [
    {
     "data": {
      "image/png": "[encoded data removed]",
      "text/plain": [
       "<Figure size 864x432 with 1 Axes>"
      ]
     },
     "metadata": {
      "needs_background": "light"
     },
     "output_type": "display_data"
    }
   ],
   "source": [
    "fig, ax = plt.subplots(figsize=(12, 6))\r\n",
    "plt.plot(df_hourly.temp, '.-', label='Temperature')\r\n",
    "plt.plot(df_hourly.feels_like, '.-', label='Feels Like')\r\n",
    "ax.set(title='Temperature in future 48 hours', xlabel='Time', ylabel='Temperature')\r\n",
    "ax.set_xticks(list(range(0, len(df_hourly), 2)))\r\n",
    "ax.set_xticklabels([ts2dt(ts, '%m-%d %H:%M')[0] for i, ts in enumerate(df_hourly.dt) if i%2==0], \r\n",
    "                   rotation=45, ha=\"right\")\r\n",
    "ax.locator_params(nbins=15, axis='y')\r\n",
    "plt.legend()\r\n",
    "plt.show()"
   ]
  },
  {
   "cell_type": "code",
   "execution_count": 10,
   "metadata": {
    "execution": {
     "iopub.execute_input": "2021-09-04T22:15:21.775941Z",
     "iopub.status.busy": "2021-09-04T22:15:21.767325Z",
     "iopub.status.idle": "2021-09-04T22:15:21.788801Z",
     "shell.execute_reply": "2021-09-04T22:15:21.788301Z"
    }
   },
   "outputs": [
    {
     "data": {
      "text/html": [
       "<div>\n",
       "<style scoped>\n",
       "    .dataframe tbody tr th:only-of-type {\n",
       "        vertical-align: middle;\n",
       "    }\n",
       "\n",
       "    .dataframe tbody tr th {\n",
       "        vertical-align: top;\n",
       "    }\n",
       "\n",
       "    .dataframe thead th {\n",
       "        text-align: right;\n",
       "    }\n",
       "</style>\n",
       "<table border=\"1\" class=\"dataframe\">\n",
       "  <thead>\n",
       "    <tr style=\"text-align: right;\">\n",
       "      <th></th>\n",
       "      <th>dt</th>\n",
       "      <th>temp</th>\n",
       "      <th>feels_like</th>\n",
       "      <th>pressure</th>\n",
       "      <th>humidity</th>\n",
       "      <th>dew_point</th>\n",
       "      <th>uvi</th>\n",
       "      <th>clouds</th>\n",
       "      <th>visibility</th>\n",
       "      <th>wind_speed</th>\n",
       "      <th>wind_deg</th>\n",
       "      <th>wind_gust</th>\n",
       "      <th>weather</th>\n",
       "      <th>pop</th>\n",
       "      <th>rain</th>\n",
       "    </tr>\n",
       "  </thead>\n",
       "  <tbody>\n",
       "    <tr>\n",
       "      <th>0</th>\n",
       "      <td>1630792800</td>\n",
       "      <td>28.52</td>\n",
       "      <td>34.40</td>\n",
       "      <td>1009</td>\n",
       "      <td>85</td>\n",
       "      <td>25.75</td>\n",
       "      <td>0.00</td>\n",
       "      <td>15</td>\n",
       "      <td>10000</td>\n",
       "      <td>2.22</td>\n",
       "      <td>108</td>\n",
       "      <td>2.61</td>\n",
       "      <td>[{'id': 501, 'main': 'Rain', 'description': 'm...</td>\n",
       "      <td>0.90</td>\n",
       "      <td>{'1h': 1.34}</td>\n",
       "    </tr>\n",
       "    <tr>\n",
       "      <th>1</th>\n",
       "      <td>1630796400</td>\n",
       "      <td>28.28</td>\n",
       "      <td>33.52</td>\n",
       "      <td>1009</td>\n",
       "      <td>84</td>\n",
       "      <td>25.32</td>\n",
       "      <td>0.30</td>\n",
       "      <td>15</td>\n",
       "      <td>10000</td>\n",
       "      <td>1.83</td>\n",
       "      <td>101</td>\n",
       "      <td>2.32</td>\n",
       "      <td>[{'id': 801, 'main': 'Clouds', 'description': ...</td>\n",
       "      <td>0.76</td>\n",
       "      <td>NaN</td>\n",
       "    </tr>\n",
       "    <tr>\n",
       "      <th>2</th>\n",
       "      <td>1630800000</td>\n",
       "      <td>28.38</td>\n",
       "      <td>33.25</td>\n",
       "      <td>1009</td>\n",
       "      <td>81</td>\n",
       "      <td>24.80</td>\n",
       "      <td>1.47</td>\n",
       "      <td>15</td>\n",
       "      <td>10000</td>\n",
       "      <td>1.87</td>\n",
       "      <td>89</td>\n",
       "      <td>2.67</td>\n",
       "      <td>[{'id': 801, 'main': 'Clouds', 'description': ...</td>\n",
       "      <td>0.77</td>\n",
       "      <td>NaN</td>\n",
       "    </tr>\n",
       "    <tr>\n",
       "      <th>3</th>\n",
       "      <td>1630803600</td>\n",
       "      <td>28.66</td>\n",
       "      <td>33.43</td>\n",
       "      <td>1010</td>\n",
       "      <td>78</td>\n",
       "      <td>24.44</td>\n",
       "      <td>3.80</td>\n",
       "      <td>40</td>\n",
       "      <td>10000</td>\n",
       "      <td>2.17</td>\n",
       "      <td>80</td>\n",
       "      <td>2.64</td>\n",
       "      <td>[{'id': 802, 'main': 'Clouds', 'description': ...</td>\n",
       "      <td>0.63</td>\n",
       "      <td>NaN</td>\n",
       "    </tr>\n",
       "    <tr>\n",
       "      <th>4</th>\n",
       "      <td>1630807200</td>\n",
       "      <td>29.22</td>\n",
       "      <td>33.82</td>\n",
       "      <td>1011</td>\n",
       "      <td>73</td>\n",
       "      <td>23.88</td>\n",
       "      <td>6.88</td>\n",
       "      <td>55</td>\n",
       "      <td>10000</td>\n",
       "      <td>2.35</td>\n",
       "      <td>84</td>\n",
       "      <td>2.58</td>\n",
       "      <td>[{'id': 803, 'main': 'Clouds', 'description': ...</td>\n",
       "      <td>0.57</td>\n",
       "      <td>NaN</td>\n",
       "    </tr>\n",
       "  </tbody>\n",
       "</table>\n",
       "</div>"
      ],
      "text/plain": [
       "           dt   temp  feels_like  pressure  humidity  dew_point   uvi  clouds  \\\n",
       "0  1630792800  28.52       34.40      1009        85      25.75  0.00      15   \n",
       "1  1630796400  28.28       33.52      1009        84      25.32  0.30      15   \n",
       "2  1630800000  28.38       33.25      1009        81      24.80  1.47      15   \n",
       "3  1630803600  28.66       33.43      1010        78      24.44  3.80      40   \n",
       "4  1630807200  29.22       33.82      1011        73      23.88  6.88      55   \n",
       "\n",
       "   visibility  wind_speed  wind_deg  wind_gust  \\\n",
       "0       10000        2.22       108       2.61   \n",
       "1       10000        1.83       101       2.32   \n",
       "2       10000        1.87        89       2.67   \n",
       "3       10000        2.17        80       2.64   \n",
       "4       10000        2.35        84       2.58   \n",
       "\n",
       "                                             weather   pop          rain  \n",
       "0  [{'id': 501, 'main': 'Rain', 'description': 'm...  0.90  {'1h': 1.34}  \n",
       "1  [{'id': 801, 'main': 'Clouds', 'description': ...  0.76           NaN  \n",
       "2  [{'id': 801, 'main': 'Clouds', 'description': ...  0.77           NaN  \n",
       "3  [{'id': 802, 'main': 'Clouds', 'description': ...  0.63           NaN  \n",
       "4  [{'id': 803, 'main': 'Clouds', 'description': ...  0.57           NaN  "
      ]
     },
     "execution_count": 10,
     "metadata": {},
     "output_type": "execute_result"
    }
   ],
   "source": [
    "df_hourly.head()"
   ]
  },
  {
   "cell_type": "code",
   "execution_count": null,
   "metadata": {},
   "outputs": [],
   "source": []
  }
 ],
 "metadata": {
  "interpreter": {
   "hash": "c1b4cfe941b6d2466ad1fb5979e97da9cda8801728c8091b097ab734208fc00c"
  },
  "kernelspec": {
   "display_name": "Python 3.8.3 64-bit ('base': conda)",
   "name": "python3"
  },
  "language_info": {
   "codemirror_mode": {
    "name": "ipython",
    "version": 3
   },
   "file_extension": ".py",
   "mimetype": "text/x-python",
   "name": "python",
   "nbconvert_exporter": "python",
   "pygments_lexer": "ipython3",
   "version": "3.8.11"
  }
 },
 "nbformat": 4,
 "nbformat_minor": 2
}
