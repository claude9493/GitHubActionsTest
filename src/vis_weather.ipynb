{
 "cells": [
  {
   "cell_type": "code",
   "execution_count": 1,
   "metadata": {
    "execution": {
     "iopub.execute_input": "2021-09-13T02:32:25.340461Z",
     "iopub.status.busy": "2021-09-13T02:32:25.339714Z",
     "iopub.status.idle": "2021-09-13T02:32:28.049985Z",
     "shell.execute_reply": "2021-09-13T02:32:28.049022Z"
    }
   },
   "outputs": [],
   "source": [
    "import json, yaml, requests\r\n",
    "from datetime import datetime\r\n",
    "from dateutil import tz\r\n",
    "import pandas as pd\r\n",
    "from PIL import Image\r\n",
    "from io import BytesIO\r\n",
    "import matplotlib.pyplot as plt\r\n",
    "import seaborn\r\n",
    "\r\n",
    "CONFIG_PATH = \"../config/config.yaml\""
   ]
  },
  {
   "cell_type": "code",
   "execution_count": 2,
   "metadata": {
    "execution": {
     "iopub.execute_input": "2021-09-13T02:32:28.058381Z",
     "iopub.status.busy": "2021-09-13T02:32:28.055128Z",
     "iopub.status.idle": "2021-09-13T02:32:28.061903Z",
     "shell.execute_reply": "2021-09-13T02:32:28.061018Z"
    }
   },
   "outputs": [],
   "source": [
    "with open('../newest_ts', 'r') as f:\r\n",
    "    newest_ts = f.read()\r\n",
    "\r\n",
    "data_path = f\"../data/data_{newest_ts}.json\"\r\n",
    "with open(data_path, 'r') as f:\r\n",
    "    data = json.load(f)\r\n",
    "\r\n",
    "with open(CONFIG_PATH, \"r\") as stream:\r\n",
    "    config = yaml.safe_load(stream)\r\n",
    "\r\n",
    "TIME_ZONE = config['time_zone']\r\n",
    "DATETIME_FORMAT = config['dt_format']"
   ]
  },
  {
   "cell_type": "code",
   "execution_count": 3,
   "metadata": {
    "execution": {
     "iopub.execute_input": "2021-09-13T02:32:28.067139Z",
     "iopub.status.busy": "2021-09-13T02:32:28.066498Z",
     "iopub.status.idle": "2021-09-13T02:32:28.071306Z",
     "shell.execute_reply": "2021-09-13T02:32:28.071824Z"
    }
   },
   "outputs": [
    {
     "name": "stdout",
     "output_type": "stream",
     "text": [
      "Recent query happens at 2021-09-13 10:32:22 (CST).\n"
     ]
    }
   ],
   "source": [
    "def ts2dt(ts, format=DATETIME_FORMAT):\r\n",
    "    dt = (datetime.utcfromtimestamp(int(ts))\r\n",
    "                    .replace(tzinfo=tz.tzutc())\r\n",
    "                    # .astimezone(tz.tzlocal())\r\n",
    "                    .astimezone(tz.gettz(TIME_ZONE)))\r\n",
    "    return dt.strftime(format), dt\r\n",
    "\r\n",
    "_, newest_dt = ts2dt(newest_ts)\r\n",
    "print(f\"Recent query happens at {newest_dt.strftime(DATETIME_FORMAT)} ({newest_dt.tzname()}).\")"
   ]
  },
  {
   "cell_type": "code",
   "execution_count": 4,
   "metadata": {
    "execution": {
     "iopub.execute_input": "2021-09-13T02:32:28.077411Z",
     "iopub.status.busy": "2021-09-13T02:32:28.076032Z",
     "iopub.status.idle": "2021-09-13T02:32:28.078045Z",
     "shell.execute_reply": "2021-09-13T02:32:28.078510Z"
    }
   },
   "outputs": [],
   "source": [
    "def degrees_to_cardinal(d):\r\n",
    "  dirs = ['N', 'NNE', 'NE', 'ENE', 'E', 'ESE', 'SE', 'SSE', 'S', 'SSW', 'SW', 'WSW', 'W', 'WNW', 'NW', 'NNW']\r\n",
    "  ix = int(round(d / (360. / len(dirs))))\r\n",
    "  return dirs[ix % len(dirs)]"
   ]
  },
  {
   "cell_type": "code",
   "execution_count": 5,
   "metadata": {
    "execution": {
     "iopub.execute_input": "2021-09-13T02:32:28.083485Z",
     "iopub.status.busy": "2021-09-13T02:32:28.082003Z",
     "iopub.status.idle": "2021-09-13T02:32:28.084047Z",
     "shell.execute_reply": "2021-09-13T02:32:28.084476Z"
    }
   },
   "outputs": [],
   "source": [
    "# data.keys()"
   ]
  },
  {
   "cell_type": "code",
   "execution_count": 6,
   "metadata": {
    "execution": {
     "iopub.execute_input": "2021-09-13T02:32:28.088612Z",
     "iopub.status.busy": "2021-09-13T02:32:28.087387Z",
     "iopub.status.idle": "2021-09-13T02:32:28.089215Z",
     "shell.execute_reply": "2021-09-13T02:32:28.089644Z"
    }
   },
   "outputs": [],
   "source": [
    "# data['current']"
   ]
  },
  {
   "cell_type": "code",
   "execution_count": 7,
   "metadata": {
    "execution": {
     "iopub.execute_input": "2021-09-13T02:32:28.094947Z",
     "iopub.status.busy": "2021-09-13T02:32:28.091741Z",
     "iopub.status.idle": "2021-09-13T02:32:28.548206Z",
     "shell.execute_reply": "2021-09-13T02:32:28.549005Z"
    }
   },
   "outputs": [
    {
     "data": {
      "image/png": "[encoded data removed]",
      "text/plain": [
       "<Figure size 216x216 with 1 Axes>"
      ]
     },
     "metadata": {
      "needs_background": "light"
     },
     "output_type": "display_data"
    },
    {
     "name": "stdout",
     "output_type": "stream",
     "text": [
      "Today, sun rises at 06:09 and sets at 18:29.\n",
      "Currently, the weather is Clear (clear sky).\n",
      "The temperature is 32.81°C and it feels like 39.81°C.\n",
      "The UV index is 9.18, humidity is 75%.\n",
      "The pressure is 1007 hPa, percentage of cloud cover is 5%\n",
      "The wind comes from SW direction with a speed 3.82 m/s.\n"
     ]
    }
   ],
   "source": [
    "current = data['current']\r\n",
    "\r\n",
    "fig, ax = plt.subplots(figsize=(3, 3))\r\n",
    "icon = requests.get(f\"http://openweathermap.org/img/wn/{current['weather'][0]['icon']}@2x.png\")\r\n",
    "im = Image.open(BytesIO(icon.content))\r\n",
    "plt.imshow(im)\r\n",
    "ax.set_axis_off()\r\n",
    "plt.show()\r\n",
    "\r\n",
    "print(f\"Today, sun rises at {ts2dt(current['sunrise'], '%H:%M')[0]} \\\r\n",
    "and sets at {ts2dt(current['sunset'], '%H:%M')[0]}.\\n\\\r\n",
    "Currently, the weather is {current['weather'][0]['main']} ({current['weather'][0]['description']}).\\n\\\r\n",
    "The temperature is {current['temp']}°C and it feels like {current['feels_like']}°C.\\n\\\r\n",
    "The UV index is {current['uvi']}, humidity is {current['humidity']}%.\\n\\\r\n",
    "The pressure is {current['pressure']} hPa, percentage of cloud cover is {current['clouds']}%\\n\\\r\n",
    "The wind comes from {degrees_to_cardinal(current['wind_deg'])} direction with a speed {current['wind_speed']} m/s.\")"
   ]
  },
  {
   "cell_type": "code",
   "execution_count": 8,
   "metadata": {
    "execution": {
     "iopub.execute_input": "2021-09-13T02:32:28.552616Z",
     "iopub.status.busy": "2021-09-13T02:32:28.552023Z",
     "iopub.status.idle": "2021-09-13T02:32:28.560052Z",
     "shell.execute_reply": "2021-09-13T02:32:28.560810Z"
    }
   },
   "outputs": [],
   "source": [
    "df_hourly = pd.DataFrame(data['hourly'])\r\n",
    "df_daily = pd.DataFrame(data['daily'])"
   ]
  },
  {
   "cell_type": "code",
   "execution_count": 9,
   "metadata": {
    "execution": {
     "iopub.execute_input": "2021-09-13T02:32:28.564434Z",
     "iopub.status.busy": "2021-09-13T02:32:28.563378Z",
     "iopub.status.idle": "2021-09-13T02:32:28.907284Z",
     "shell.execute_reply": "2021-09-13T02:32:28.906784Z"
    }
   },
   "outputs": [
    {
     "data": {
      "image/png": "[encoded data removed]",
      "text/plain": [
       "<Figure size 864x432 with 1 Axes>"
      ]
     },
     "metadata": {
      "needs_background": "light"
     },
     "output_type": "display_data"
    }
   ],
   "source": [
    "fig, ax = plt.subplots(figsize=(12, 6))\r\n",
    "plt.plot(df_hourly.temp, '.-', label='Temperature')\r\n",
    "plt.plot(df_hourly.feels_like, '.-', label='Feels Like')\r\n",
    "ax.set(title='Temperature in future 48 hours', xlabel='Time', ylabel='Temperature')\r\n",
    "ax.set_xticks(list(range(0, len(df_hourly), 2)))\r\n",
    "ax.set_xticklabels([ts2dt(ts, '%m-%d %H:%M')[0] for i, ts in enumerate(df_hourly.dt) if i%2==0], \r\n",
    "                   rotation=45, ha=\"right\")\r\n",
    "ax.locator_params(nbins=15, axis='y')\r\n",
    "plt.legend()\r\n",
    "plt.show()"
   ]
  },
  {
   "cell_type": "code",
   "execution_count": 10,
   "metadata": {
    "execution": {
     "iopub.execute_input": "2021-09-13T02:32:28.917695Z",
     "iopub.status.busy": "2021-09-13T02:32:28.911744Z",
     "iopub.status.idle": "2021-09-13T02:32:28.933917Z",
     "shell.execute_reply": "2021-09-13T02:32:28.933016Z"
    }
   },
   "outputs": [
    {
     "data": {
      "text/html": [
       "<div>\n",
       "<style scoped>\n",
       "    .dataframe tbody tr th:only-of-type {\n",
       "        vertical-align: middle;\n",
       "    }\n",
       "\n",
       "    .dataframe tbody tr th {\n",
       "        vertical-align: top;\n",
       "    }\n",
       "\n",
       "    .dataframe thead th {\n",
       "        text-align: right;\n",
       "    }\n",
       "</style>\n",
       "<table border=\"1\" class=\"dataframe\">\n",
       "  <thead>\n",
       "    <tr style=\"text-align: right;\">\n",
       "      <th></th>\n",
       "      <th>dt</th>\n",
       "      <th>temp</th>\n",
       "      <th>feels_like</th>\n",
       "      <th>pressure</th>\n",
       "      <th>humidity</th>\n",
       "      <th>dew_point</th>\n",
       "      <th>uvi</th>\n",
       "      <th>clouds</th>\n",
       "      <th>visibility</th>\n",
       "      <th>wind_speed</th>\n",
       "      <th>wind_deg</th>\n",
       "      <th>wind_gust</th>\n",
       "      <th>weather</th>\n",
       "      <th>pop</th>\n",
       "      <th>rain</th>\n",
       "    </tr>\n",
       "  </thead>\n",
       "  <tbody>\n",
       "    <tr>\n",
       "      <th>0</th>\n",
       "      <td>1631498400</td>\n",
       "      <td>32.36</td>\n",
       "      <td>39.36</td>\n",
       "      <td>1007</td>\n",
       "      <td>74</td>\n",
       "      <td>27.13</td>\n",
       "      <td>6.44</td>\n",
       "      <td>5</td>\n",
       "      <td>10000</td>\n",
       "      <td>3.92</td>\n",
       "      <td>227</td>\n",
       "      <td>3.95</td>\n",
       "      <td>[{'id': 500, 'main': 'Rain', 'description': 'l...</td>\n",
       "      <td>0.96</td>\n",
       "      <td>{'1h': 0.24}</td>\n",
       "    </tr>\n",
       "    <tr>\n",
       "      <th>1</th>\n",
       "      <td>1631502000</td>\n",
       "      <td>32.81</td>\n",
       "      <td>39.81</td>\n",
       "      <td>1007</td>\n",
       "      <td>75</td>\n",
       "      <td>27.79</td>\n",
       "      <td>9.18</td>\n",
       "      <td>5</td>\n",
       "      <td>10000</td>\n",
       "      <td>3.82</td>\n",
       "      <td>226</td>\n",
       "      <td>3.72</td>\n",
       "      <td>[{'id': 800, 'main': 'Clear', 'description': '...</td>\n",
       "      <td>0.76</td>\n",
       "      <td>NaN</td>\n",
       "    </tr>\n",
       "    <tr>\n",
       "      <th>2</th>\n",
       "      <td>1631505600</td>\n",
       "      <td>32.47</td>\n",
       "      <td>39.47</td>\n",
       "      <td>1007</td>\n",
       "      <td>73</td>\n",
       "      <td>27.00</td>\n",
       "      <td>10.97</td>\n",
       "      <td>5</td>\n",
       "      <td>10000</td>\n",
       "      <td>3.60</td>\n",
       "      <td>225</td>\n",
       "      <td>3.43</td>\n",
       "      <td>[{'id': 800, 'main': 'Clear', 'description': '...</td>\n",
       "      <td>0.76</td>\n",
       "      <td>NaN</td>\n",
       "    </tr>\n",
       "    <tr>\n",
       "      <th>3</th>\n",
       "      <td>1631509200</td>\n",
       "      <td>32.21</td>\n",
       "      <td>39.21</td>\n",
       "      <td>1007</td>\n",
       "      <td>72</td>\n",
       "      <td>26.52</td>\n",
       "      <td>10.77</td>\n",
       "      <td>6</td>\n",
       "      <td>10000</td>\n",
       "      <td>3.52</td>\n",
       "      <td>216</td>\n",
       "      <td>3.10</td>\n",
       "      <td>[{'id': 500, 'main': 'Rain', 'description': 'l...</td>\n",
       "      <td>0.96</td>\n",
       "      <td>{'1h': 0.4}</td>\n",
       "    </tr>\n",
       "    <tr>\n",
       "      <th>4</th>\n",
       "      <td>1631512800</td>\n",
       "      <td>31.90</td>\n",
       "      <td>38.90</td>\n",
       "      <td>1006</td>\n",
       "      <td>70</td>\n",
       "      <td>25.74</td>\n",
       "      <td>8.87</td>\n",
       "      <td>7</td>\n",
       "      <td>10000</td>\n",
       "      <td>3.92</td>\n",
       "      <td>207</td>\n",
       "      <td>3.20</td>\n",
       "      <td>[{'id': 800, 'main': 'Clear', 'description': '...</td>\n",
       "      <td>0.76</td>\n",
       "      <td>NaN</td>\n",
       "    </tr>\n",
       "  </tbody>\n",
       "</table>\n",
       "</div>"
      ],
      "text/plain": [
       "           dt   temp  feels_like  pressure  humidity  dew_point    uvi  \\\n",
       "0  1631498400  32.36       39.36      1007        74      27.13   6.44   \n",
       "1  1631502000  32.81       39.81      1007        75      27.79   9.18   \n",
       "2  1631505600  32.47       39.47      1007        73      27.00  10.97   \n",
       "3  1631509200  32.21       39.21      1007        72      26.52  10.77   \n",
       "4  1631512800  31.90       38.90      1006        70      25.74   8.87   \n",
       "\n",
       "   clouds  visibility  wind_speed  wind_deg  wind_gust  \\\n",
       "0       5       10000        3.92       227       3.95   \n",
       "1       5       10000        3.82       226       3.72   \n",
       "2       5       10000        3.60       225       3.43   \n",
       "3       6       10000        3.52       216       3.10   \n",
       "4       7       10000        3.92       207       3.20   \n",
       "\n",
       "                                             weather   pop          rain  \n",
       "0  [{'id': 500, 'main': 'Rain', 'description': 'l...  0.96  {'1h': 0.24}  \n",
       "1  [{'id': 800, 'main': 'Clear', 'description': '...  0.76           NaN  \n",
       "2  [{'id': 800, 'main': 'Clear', 'description': '...  0.76           NaN  \n",
       "3  [{'id': 500, 'main': 'Rain', 'description': 'l...  0.96   {'1h': 0.4}  \n",
       "4  [{'id': 800, 'main': 'Clear', 'description': '...  0.76           NaN  "
      ]
     },
     "execution_count": 10,
     "metadata": {},
     "output_type": "execute_result"
    }
   ],
   "source": [
    "df_hourly.head()"
   ]
  },
  {
   "cell_type": "code",
   "execution_count": null,
   "metadata": {},
   "outputs": [],
   "source": []
  }
 ],
 "metadata": {
  "interpreter": {
   "hash": "c1b4cfe941b6d2466ad1fb5979e97da9cda8801728c8091b097ab734208fc00c"
  },
  "kernelspec": {
   "display_name": "Python 3.8.3 64-bit ('base': conda)",
   "name": "python3"
  },
  "language_info": {
   "codemirror_mode": {
    "name": "ipython",
    "version": 3
   },
   "file_extension": ".py",
   "mimetype": "text/x-python",
   "name": "python",
   "nbconvert_exporter": "python",
   "pygments_lexer": "ipython3",
   "version": "3.8.11"
  }
 },
 "nbformat": 4,
 "nbformat_minor": 2
}
