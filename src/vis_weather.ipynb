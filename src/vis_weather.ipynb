{
 "cells": [
  {
   "cell_type": "code",
   "execution_count": 1,
   "metadata": {
    "execution": {
     "iopub.execute_input": "2021-09-23T08:13:38.826362Z",
     "iopub.status.busy": "2021-09-23T08:13:38.825234Z",
     "iopub.status.idle": "2021-09-23T08:13:40.165768Z",
     "shell.execute_reply": "2021-09-23T08:13:40.164700Z"
    }
   },
   "outputs": [],
   "source": [
    "import json, yaml, requests\r\n",
    "from datetime import datetime\r\n",
    "from dateutil import tz\r\n",
    "import pandas as pd\r\n",
    "from PIL import Image\r\n",
    "from io import BytesIO\r\n",
    "import matplotlib.pyplot as plt\r\n",
    "import seaborn\r\n",
    "\r\n",
    "CONFIG_PATH = \"../config/config.yaml\""
   ]
  },
  {
   "cell_type": "code",
   "execution_count": 2,
   "metadata": {
    "execution": {
     "iopub.execute_input": "2021-09-23T08:13:40.171406Z",
     "iopub.status.busy": "2021-09-23T08:13:40.168545Z",
     "iopub.status.idle": "2021-09-23T08:13:40.177444Z",
     "shell.execute_reply": "2021-09-23T08:13:40.177966Z"
    }
   },
   "outputs": [],
   "source": [
    "with open('../newest_ts', 'r') as f:\r\n",
    "    newest_ts = f.read()\r\n",
    "\r\n",
    "data_path = f\"../data/data_{newest_ts}.json\"\r\n",
    "with open(data_path, 'r') as f:\r\n",
    "    data = json.load(f)\r\n",
    "\r\n",
    "with open(CONFIG_PATH, \"r\") as stream:\r\n",
    "    config = yaml.safe_load(stream)\r\n",
    "\r\n",
    "TIME_ZONE = config['time_zone']\r\n",
    "DATETIME_FORMAT = config['dt_format']"
   ]
  },
  {
   "cell_type": "code",
   "execution_count": 3,
   "metadata": {
    "execution": {
     "iopub.execute_input": "2021-09-23T08:13:40.183489Z",
     "iopub.status.busy": "2021-09-23T08:13:40.182878Z",
     "iopub.status.idle": "2021-09-23T08:13:40.195873Z",
     "shell.execute_reply": "2021-09-23T08:13:40.196489Z"
    }
   },
   "outputs": [
    {
     "name": "stdout",
     "output_type": "stream",
     "text": [
      "Recent query happens at 2021-09-23 16:13:35 (CST).\n"
     ]
    }
   ],
   "source": [
    "def ts2dt(ts, format=DATETIME_FORMAT):\r\n",
    "    dt = (datetime.utcfromtimestamp(int(ts))\r\n",
    "                    .replace(tzinfo=tz.tzutc())\r\n",
    "                    # .astimezone(tz.tzlocal())\r\n",
    "                    .astimezone(tz.gettz(TIME_ZONE)))\r\n",
    "    return dt.strftime(format), dt\r\n",
    "\r\n",
    "_, newest_dt = ts2dt(newest_ts)\r\n",
    "print(f\"Recent query happens at {newest_dt.strftime(DATETIME_FORMAT)} ({newest_dt.tzname()}).\")"
   ]
  },
  {
   "cell_type": "code",
   "execution_count": 4,
   "metadata": {
    "execution": {
     "iopub.execute_input": "2021-09-23T08:13:40.201892Z",
     "iopub.status.busy": "2021-09-23T08:13:40.201290Z",
     "iopub.status.idle": "2021-09-23T08:13:40.203468Z",
     "shell.execute_reply": "2021-09-23T08:13:40.203972Z"
    }
   },
   "outputs": [],
   "source": [
    "def degrees_to_cardinal(d):\r\n",
    "  dirs = ['N', 'NNE', 'NE', 'ENE', 'E', 'ESE', 'SE', 'SSE', 'S', 'SSW', 'SW', 'WSW', 'W', 'WNW', 'NW', 'NNW']\r\n",
    "  ix = int(round(d / (360. / len(dirs))))\r\n",
    "  return dirs[ix % len(dirs)]"
   ]
  },
  {
   "cell_type": "code",
   "execution_count": 5,
   "metadata": {
    "execution": {
     "iopub.execute_input": "2021-09-23T08:13:40.209516Z",
     "iopub.status.busy": "2021-09-23T08:13:40.207967Z",
     "iopub.status.idle": "2021-09-23T08:13:40.210256Z",
     "shell.execute_reply": "2021-09-23T08:13:40.210820Z"
    }
   },
   "outputs": [],
   "source": [
    "# data.keys()"
   ]
  },
  {
   "cell_type": "code",
   "execution_count": 6,
   "metadata": {
    "execution": {
     "iopub.execute_input": "2021-09-23T08:13:40.215710Z",
     "iopub.status.busy": "2021-09-23T08:13:40.214266Z",
     "iopub.status.idle": "2021-09-23T08:13:40.216544Z",
     "shell.execute_reply": "2021-09-23T08:13:40.217052Z"
    }
   },
   "outputs": [],
   "source": [
    "# data['current']"
   ]
  },
  {
   "cell_type": "code",
   "execution_count": 7,
   "metadata": {
    "execution": {
     "iopub.execute_input": "2021-09-23T08:13:40.250367Z",
     "iopub.status.busy": "2021-09-23T08:13:40.245857Z",
     "iopub.status.idle": "2021-09-23T08:13:40.721509Z",
     "shell.execute_reply": "2021-09-23T08:13:40.722396Z"
    }
   },
   "outputs": [
    {
     "data": {
      "image/png": "[encoded data removed]",
      "text/plain": [
       "<Figure size 216x216 with 1 Axes>"
      ]
     },
     "metadata": {
      "needs_background": "light"
     },
     "output_type": "display_data"
    },
    {
     "name": "stdout",
     "output_type": "stream",
     "text": [
      "Today, sun rises at 06:11 and sets at 18:18.\n",
      "Currently, the weather is Clouds (overcast clouds).\n",
      "The temperature is 30.03°C and it feels like 37.03°C.\n",
      "The UV index is 2.45, humidity is 83%.\n",
      "The pressure is 1012 hPa, percentage of cloud cover is 100%\n",
      "The wind comes from E direction with a speed 6.79 m/s.\n"
     ]
    }
   ],
   "source": [
    "current = data['current']\r\n",
    "\r\n",
    "fig, ax = plt.subplots(figsize=(3, 3))\r\n",
    "icon = requests.get(f\"http://openweathermap.org/img/wn/{current['weather'][0]['icon']}@2x.png\")\r\n",
    "im = Image.open(BytesIO(icon.content))\r\n",
    "plt.imshow(im)\r\n",
    "ax.set_axis_off()\r\n",
    "plt.show()\r\n",
    "\r\n",
    "print(f\"Today, sun rises at {ts2dt(current['sunrise'], '%H:%M')[0]} \\\r\n",
    "and sets at {ts2dt(current['sunset'], '%H:%M')[0]}.\\n\\\r\n",
    "Currently, the weather is {current['weather'][0]['main']} ({current['weather'][0]['description']}).\\n\\\r\n",
    "The temperature is {current['temp']}°C and it feels like {current['feels_like']}°C.\\n\\\r\n",
    "The UV index is {current['uvi']}, humidity is {current['humidity']}%.\\n\\\r\n",
    "The pressure is {current['pressure']} hPa, percentage of cloud cover is {current['clouds']}%\\n\\\r\n",
    "The wind comes from {degrees_to_cardinal(current['wind_deg'])} direction with a speed {current['wind_speed']} m/s.\")"
   ]
  },
  {
   "cell_type": "code",
   "execution_count": 8,
   "metadata": {
    "execution": {
     "iopub.execute_input": "2021-09-23T08:13:40.731055Z",
     "iopub.status.busy": "2021-09-23T08:13:40.730455Z",
     "iopub.status.idle": "2021-09-23T08:13:40.735108Z",
     "shell.execute_reply": "2021-09-23T08:13:40.735901Z"
    }
   },
   "outputs": [],
   "source": [
    "df_hourly = pd.DataFrame(data['hourly'])\r\n",
    "df_daily = pd.DataFrame(data['daily'])"
   ]
  },
  {
   "cell_type": "code",
   "execution_count": 9,
   "metadata": {
    "execution": {
     "iopub.execute_input": "2021-09-23T08:13:40.752648Z",
     "iopub.status.busy": "2021-09-23T08:13:40.749486Z",
     "iopub.status.idle": "2021-09-23T08:13:41.091427Z",
     "shell.execute_reply": "2021-09-23T08:13:41.090867Z"
    }
   },
   "outputs": [
    {
     "data": {
      "image/png": "[encoded data removed]",
      "text/plain": [
       "<Figure size 864x432 with 1 Axes>"
      ]
     },
     "metadata": {
      "needs_background": "light"
     },
     "output_type": "display_data"
    }
   ],
   "source": [
    "fig, ax = plt.subplots(figsize=(12, 6))\r\n",
    "plt.plot(df_hourly.temp, '.-', label='Temperature')\r\n",
    "plt.plot(df_hourly.feels_like, '.-', label='Feels Like')\r\n",
    "ax.set(title='Temperature in future 48 hours', xlabel='Time', ylabel='Temperature')\r\n",
    "ax.set_xticks(list(range(0, len(df_hourly), 2)))\r\n",
    "ax.set_xticklabels([ts2dt(ts, '%m-%d %H:%M')[0] for i, ts in enumerate(df_hourly.dt) if i%2==0], \r\n",
    "                   rotation=45, ha=\"right\")\r\n",
    "ax.locator_params(nbins=15, axis='y')\r\n",
    "plt.legend()\r\n",
    "plt.show()"
   ]
  },
  {
   "cell_type": "code",
   "execution_count": 10,
   "metadata": {
    "execution": {
     "iopub.execute_input": "2021-09-23T08:13:41.096724Z",
     "iopub.status.busy": "2021-09-23T08:13:41.096052Z",
     "iopub.status.idle": "2021-09-23T08:13:41.118472Z",
     "shell.execute_reply": "2021-09-23T08:13:41.117890Z"
    }
   },
   "outputs": [
    {
     "data": {
      "text/html": [
       "<div>\n",
       "<style scoped>\n",
       "    .dataframe tbody tr th:only-of-type {\n",
       "        vertical-align: middle;\n",
       "    }\n",
       "\n",
       "    .dataframe tbody tr th {\n",
       "        vertical-align: top;\n",
       "    }\n",
       "\n",
       "    .dataframe thead th {\n",
       "        text-align: right;\n",
       "    }\n",
       "</style>\n",
       "<table border=\"1\" class=\"dataframe\">\n",
       "  <thead>\n",
       "    <tr style=\"text-align: right;\">\n",
       "      <th></th>\n",
       "      <th>dt</th>\n",
       "      <th>temp</th>\n",
       "      <th>feels_like</th>\n",
       "      <th>pressure</th>\n",
       "      <th>humidity</th>\n",
       "      <th>dew_point</th>\n",
       "      <th>uvi</th>\n",
       "      <th>clouds</th>\n",
       "      <th>visibility</th>\n",
       "      <th>wind_speed</th>\n",
       "      <th>wind_deg</th>\n",
       "      <th>wind_gust</th>\n",
       "      <th>weather</th>\n",
       "      <th>pop</th>\n",
       "      <th>rain</th>\n",
       "    </tr>\n",
       "  </thead>\n",
       "  <tbody>\n",
       "    <tr>\n",
       "      <th>0</th>\n",
       "      <td>1632384000</td>\n",
       "      <td>30.03</td>\n",
       "      <td>37.03</td>\n",
       "      <td>1012</td>\n",
       "      <td>83</td>\n",
       "      <td>26.82</td>\n",
       "      <td>2.45</td>\n",
       "      <td>100</td>\n",
       "      <td>10000</td>\n",
       "      <td>6.79</td>\n",
       "      <td>93</td>\n",
       "      <td>8.41</td>\n",
       "      <td>[{'id': 500, 'main': 'Rain', 'description': 'l...</td>\n",
       "      <td>0.69</td>\n",
       "      <td>{'1h': 0.35}</td>\n",
       "    </tr>\n",
       "    <tr>\n",
       "      <th>1</th>\n",
       "      <td>1632387600</td>\n",
       "      <td>29.80</td>\n",
       "      <td>36.80</td>\n",
       "      <td>1012</td>\n",
       "      <td>81</td>\n",
       "      <td>26.18</td>\n",
       "      <td>0.78</td>\n",
       "      <td>100</td>\n",
       "      <td>10000</td>\n",
       "      <td>6.59</td>\n",
       "      <td>92</td>\n",
       "      <td>8.52</td>\n",
       "      <td>[{'id': 804, 'main': 'Clouds', 'description': ...</td>\n",
       "      <td>0.69</td>\n",
       "      <td>NaN</td>\n",
       "    </tr>\n",
       "    <tr>\n",
       "      <th>2</th>\n",
       "      <td>1632391200</td>\n",
       "      <td>29.35</td>\n",
       "      <td>35.98</td>\n",
       "      <td>1012</td>\n",
       "      <td>81</td>\n",
       "      <td>25.75</td>\n",
       "      <td>0.00</td>\n",
       "      <td>100</td>\n",
       "      <td>10000</td>\n",
       "      <td>6.28</td>\n",
       "      <td>93</td>\n",
       "      <td>8.74</td>\n",
       "      <td>[{'id': 804, 'main': 'Clouds', 'description': ...</td>\n",
       "      <td>0.69</td>\n",
       "      <td>NaN</td>\n",
       "    </tr>\n",
       "    <tr>\n",
       "      <th>3</th>\n",
       "      <td>1632394800</td>\n",
       "      <td>28.96</td>\n",
       "      <td>34.85</td>\n",
       "      <td>1013</td>\n",
       "      <td>81</td>\n",
       "      <td>25.37</td>\n",
       "      <td>0.00</td>\n",
       "      <td>99</td>\n",
       "      <td>10000</td>\n",
       "      <td>6.37</td>\n",
       "      <td>95</td>\n",
       "      <td>8.76</td>\n",
       "      <td>[{'id': 500, 'main': 'Rain', 'description': 'l...</td>\n",
       "      <td>0.69</td>\n",
       "      <td>{'1h': 0.32}</td>\n",
       "    </tr>\n",
       "    <tr>\n",
       "      <th>4</th>\n",
       "      <td>1632398400</td>\n",
       "      <td>28.61</td>\n",
       "      <td>33.87</td>\n",
       "      <td>1013</td>\n",
       "      <td>81</td>\n",
       "      <td>25.03</td>\n",
       "      <td>0.00</td>\n",
       "      <td>98</td>\n",
       "      <td>10000</td>\n",
       "      <td>6.70</td>\n",
       "      <td>97</td>\n",
       "      <td>9.05</td>\n",
       "      <td>[{'id': 804, 'main': 'Clouds', 'description': ...</td>\n",
       "      <td>0.65</td>\n",
       "      <td>NaN</td>\n",
       "    </tr>\n",
       "  </tbody>\n",
       "</table>\n",
       "</div>"
      ],
      "text/plain": [
       "           dt   temp  feels_like  pressure  humidity  dew_point   uvi  clouds  \\\n",
       "0  1632384000  30.03       37.03      1012        83      26.82  2.45     100   \n",
       "1  1632387600  29.80       36.80      1012        81      26.18  0.78     100   \n",
       "2  1632391200  29.35       35.98      1012        81      25.75  0.00     100   \n",
       "3  1632394800  28.96       34.85      1013        81      25.37  0.00      99   \n",
       "4  1632398400  28.61       33.87      1013        81      25.03  0.00      98   \n",
       "\n",
       "   visibility  wind_speed  wind_deg  wind_gust  \\\n",
       "0       10000        6.79        93       8.41   \n",
       "1       10000        6.59        92       8.52   \n",
       "2       10000        6.28        93       8.74   \n",
       "3       10000        6.37        95       8.76   \n",
       "4       10000        6.70        97       9.05   \n",
       "\n",
       "                                             weather   pop          rain  \n",
       "0  [{'id': 500, 'main': 'Rain', 'description': 'l...  0.69  {'1h': 0.35}  \n",
       "1  [{'id': 804, 'main': 'Clouds', 'description': ...  0.69           NaN  \n",
       "2  [{'id': 804, 'main': 'Clouds', 'description': ...  0.69           NaN  \n",
       "3  [{'id': 500, 'main': 'Rain', 'description': 'l...  0.69  {'1h': 0.32}  \n",
       "4  [{'id': 804, 'main': 'Clouds', 'description': ...  0.65           NaN  "
      ]
     },
     "execution_count": 10,
     "metadata": {},
     "output_type": "execute_result"
    }
   ],
   "source": [
    "df_hourly.head()"
   ]
  },
  {
   "cell_type": "code",
   "execution_count": null,
   "metadata": {},
   "outputs": [],
   "source": []
  }
 ],
 "metadata": {
  "interpreter": {
   "hash": "c1b4cfe941b6d2466ad1fb5979e97da9cda8801728c8091b097ab734208fc00c"
  },
  "kernelspec": {
   "display_name": "Python 3.8.3 64-bit ('base': conda)",
   "name": "python3"
  },
  "language_info": {
   "codemirror_mode": {
    "name": "ipython",
    "version": 3
   },
   "file_extension": ".py",
   "mimetype": "text/x-python",
   "name": "python",
   "nbconvert_exporter": "python",
   "pygments_lexer": "ipython3",
   "version": "3.8.11"
  }
 },
 "nbformat": 4,
 "nbformat_minor": 2
}
