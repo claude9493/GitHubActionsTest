{
 "cells": [
  {
   "cell_type": "code",
   "execution_count": 1,
   "metadata": {
    "execution": {
     "iopub.execute_input": "2021-10-14T04:16:28.142829Z",
     "iopub.status.busy": "2021-10-14T04:16:28.140778Z",
     "iopub.status.idle": "2021-10-14T04:16:33.002179Z",
     "shell.execute_reply": "2021-10-14T04:16:33.003606Z"
    }
   },
   "outputs": [],
   "source": [
    "import json, yaml, requests\r\n",
    "from datetime import datetime\r\n",
    "from dateutil import tz\r\n",
    "import pandas as pd\r\n",
    "from PIL import Image\r\n",
    "from io import BytesIO\r\n",
    "import matplotlib.pyplot as plt\r\n",
    "import seaborn\r\n",
    "\r\n",
    "CONFIG_PATH = \"../config/config.yaml\""
   ]
  },
  {
   "cell_type": "code",
   "execution_count": 2,
   "metadata": {
    "execution": {
     "iopub.execute_input": "2021-10-14T04:16:33.013371Z",
     "iopub.status.busy": "2021-10-14T04:16:33.011525Z",
     "iopub.status.idle": "2021-10-14T04:16:33.034484Z",
     "shell.execute_reply": "2021-10-14T04:16:33.033051Z"
    }
   },
   "outputs": [],
   "source": [
    "with open('../newest_ts', 'r') as f:\r\n",
    "    newest_ts = f.read()\r\n",
    "\r\n",
    "data_path = f\"../data/data_{newest_ts}.json\"\r\n",
    "with open(data_path, 'r') as f:\r\n",
    "    data = json.load(f)\r\n",
    "\r\n",
    "with open(CONFIG_PATH, \"r\") as stream:\r\n",
    "    config = yaml.safe_load(stream)\r\n",
    "\r\n",
    "TIME_ZONE = config['time_zone']\r\n",
    "DATETIME_FORMAT = config['dt_format']"
   ]
  },
  {
   "cell_type": "code",
   "execution_count": 3,
   "metadata": {
    "execution": {
     "iopub.execute_input": "2021-10-14T04:16:33.049573Z",
     "iopub.status.busy": "2021-10-14T04:16:33.047828Z",
     "iopub.status.idle": "2021-10-14T04:16:33.068251Z",
     "shell.execute_reply": "2021-10-14T04:16:33.069696Z"
    }
   },
   "outputs": [
    {
     "name": "stdout",
     "output_type": "stream",
     "text": [
      "Recent query happens at 2021-10-14 12:16:20 (CST).\n"
     ]
    }
   ],
   "source": [
    "def ts2dt(ts, format=DATETIME_FORMAT):\r\n",
    "    dt = (datetime.utcfromtimestamp(int(ts))\r\n",
    "                    .replace(tzinfo=tz.tzutc())\r\n",
    "                    # .astimezone(tz.tzlocal())\r\n",
    "                    .astimezone(tz.gettz(TIME_ZONE)))\r\n",
    "    return dt.strftime(format), dt\r\n",
    "\r\n",
    "_, newest_dt = ts2dt(newest_ts)\r\n",
    "print(f\"Recent query happens at {newest_dt.strftime(DATETIME_FORMAT)} ({newest_dt.tzname()}).\")"
   ]
  },
  {
   "cell_type": "code",
   "execution_count": 4,
   "metadata": {
    "execution": {
     "iopub.execute_input": "2021-10-14T04:16:33.087346Z",
     "iopub.status.busy": "2021-10-14T04:16:33.083614Z",
     "iopub.status.idle": "2021-10-14T04:16:33.089284Z",
     "shell.execute_reply": "2021-10-14T04:16:33.090662Z"
    }
   },
   "outputs": [],
   "source": [
    "def degrees_to_cardinal(d):\r\n",
    "  dirs = ['N', 'NNE', 'NE', 'ENE', 'E', 'ESE', 'SE', 'SSE', 'S', 'SSW', 'SW', 'WSW', 'W', 'WNW', 'NW', 'NNW']\r\n",
    "  ix = int(round(d / (360. / len(dirs))))\r\n",
    "  return dirs[ix % len(dirs)]"
   ]
  },
  {
   "cell_type": "code",
   "execution_count": 5,
   "metadata": {
    "execution": {
     "iopub.execute_input": "2021-10-14T04:16:33.100738Z",
     "iopub.status.busy": "2021-10-14T04:16:33.097143Z",
     "iopub.status.idle": "2021-10-14T04:16:33.107459Z",
     "shell.execute_reply": "2021-10-14T04:16:33.106327Z"
    }
   },
   "outputs": [],
   "source": [
    "# data.keys()"
   ]
  },
  {
   "cell_type": "code",
   "execution_count": 6,
   "metadata": {
    "execution": {
     "iopub.execute_input": "2021-10-14T04:16:33.117810Z",
     "iopub.status.busy": "2021-10-14T04:16:33.115875Z",
     "iopub.status.idle": "2021-10-14T04:16:33.119596Z",
     "shell.execute_reply": "2021-10-14T04:16:33.120993Z"
    }
   },
   "outputs": [],
   "source": [
    "# data['current']"
   ]
  },
  {
   "cell_type": "code",
   "execution_count": 7,
   "metadata": {
    "execution": {
     "iopub.execute_input": "2021-10-14T04:16:33.129231Z",
     "iopub.status.busy": "2021-10-14T04:16:33.127437Z",
     "iopub.status.idle": "2021-10-14T04:16:33.658329Z",
     "shell.execute_reply": "2021-10-14T04:16:33.657187Z"
    }
   },
   "outputs": [
    {
     "data": {
      "image/png": "[encoded data removed]",
      "text/plain": [
       "<Figure size 216x216 with 1 Axes>"
      ]
     },
     "metadata": {
      "needs_background": "light"
     },
     "output_type": "display_data"
    },
    {
     "name": "stdout",
     "output_type": "stream",
     "text": [
      "Today, sun rises at 06:18 and sets at 17:59.\n",
      "Currently, the weather is Clouds (overcast clouds).\n",
      "The temperature is 29.36°C and it feels like 36.36°C.\n",
      "The UV index is 8.61, humidity is 84%.\n",
      "The pressure is 1008 hPa, percentage of cloud cover is 89%\n",
      "The wind comes from NE direction with a speed 1.34 m/s.\n"
     ]
    }
   ],
   "source": [
    "current = data['current']\r\n",
    "\r\n",
    "fig, ax = plt.subplots(figsize=(3, 3))\r\n",
    "icon = requests.get(f\"http://openweathermap.org/img/wn/{current['weather'][0]['icon']}@2x.png\")\r\n",
    "im = Image.open(BytesIO(icon.content))\r\n",
    "plt.imshow(im)\r\n",
    "ax.set_axis_off()\r\n",
    "plt.show()\r\n",
    "\r\n",
    "print(f\"Today, sun rises at {ts2dt(current['sunrise'], '%H:%M')[0]} \\\r\n",
    "and sets at {ts2dt(current['sunset'], '%H:%M')[0]}.\\n\\\r\n",
    "Currently, the weather is {current['weather'][0]['main']} ({current['weather'][0]['description']}).\\n\\\r\n",
    "The temperature is {current['temp']}°C and it feels like {current['feels_like']}°C.\\n\\\r\n",
    "The UV index is {current['uvi']}, humidity is {current['humidity']}%.\\n\\\r\n",
    "The pressure is {current['pressure']} hPa, percentage of cloud cover is {current['clouds']}%\\n\\\r\n",
    "The wind comes from {degrees_to_cardinal(current['wind_deg'])} direction with a speed {current['wind_speed']} m/s.\")"
   ]
  },
  {
   "cell_type": "code",
   "execution_count": 8,
   "metadata": {
    "execution": {
     "iopub.execute_input": "2021-10-14T04:16:33.671611Z",
     "iopub.status.busy": "2021-10-14T04:16:33.663379Z",
     "iopub.status.idle": "2021-10-14T04:16:33.680957Z",
     "shell.execute_reply": "2021-10-14T04:16:33.679859Z"
    }
   },
   "outputs": [],
   "source": [
    "df_hourly = pd.DataFrame(data['hourly'])\r\n",
    "df_daily = pd.DataFrame(data['daily'])"
   ]
  },
  {
   "cell_type": "code",
   "execution_count": 9,
   "metadata": {
    "execution": {
     "iopub.execute_input": "2021-10-14T04:16:33.822576Z",
     "iopub.status.busy": "2021-10-14T04:16:33.812712Z",
     "iopub.status.idle": "2021-10-14T04:16:34.619795Z",
     "shell.execute_reply": "2021-10-14T04:16:34.618224Z"
    }
   },
   "outputs": [
    {
     "data": {
      "image/png": "[encoded data removed]",
      "text/plain": [
       "<Figure size 864x432 with 1 Axes>"
      ]
     },
     "metadata": {
      "needs_background": "light"
     },
     "output_type": "display_data"
    }
   ],
   "source": [
    "fig, ax = plt.subplots(figsize=(12, 6))\r\n",
    "plt.plot(df_hourly.temp, '.-', label='Temperature')\r\n",
    "plt.plot(df_hourly.feels_like, '.-', label='Feels Like')\r\n",
    "ax.set(title='Temperature in future 48 hours', xlabel='Time', ylabel='Temperature')\r\n",
    "ax.set_xticks(list(range(0, len(df_hourly), 2)))\r\n",
    "ax.set_xticklabels([ts2dt(ts, '%m-%d %H:%M')[0] for i, ts in enumerate(df_hourly.dt) if i%2==0], \r\n",
    "                   rotation=45, ha=\"right\")\r\n",
    "ax.locator_params(nbins=15, axis='y')\r\n",
    "plt.legend()\r\n",
    "plt.show()"
   ]
  },
  {
   "cell_type": "code",
   "execution_count": 10,
   "metadata": {
    "execution": {
     "iopub.execute_input": "2021-10-14T04:16:34.646329Z",
     "iopub.status.busy": "2021-10-14T04:16:34.631416Z",
     "iopub.status.idle": "2021-10-14T04:16:34.692532Z",
     "shell.execute_reply": "2021-10-14T04:16:34.693903Z"
    }
   },
   "outputs": [
    {
     "data": {
      "text/html": [
       "<div>\n",
       "<style scoped>\n",
       "    .dataframe tbody tr th:only-of-type {\n",
       "        vertical-align: middle;\n",
       "    }\n",
       "\n",
       "    .dataframe tbody tr th {\n",
       "        vertical-align: top;\n",
       "    }\n",
       "\n",
       "    .dataframe thead th {\n",
       "        text-align: right;\n",
       "    }\n",
       "</style>\n",
       "<table border=\"1\" class=\"dataframe\">\n",
       "  <thead>\n",
       "    <tr style=\"text-align: right;\">\n",
       "      <th></th>\n",
       "      <th>dt</th>\n",
       "      <th>temp</th>\n",
       "      <th>feels_like</th>\n",
       "      <th>pressure</th>\n",
       "      <th>humidity</th>\n",
       "      <th>dew_point</th>\n",
       "      <th>uvi</th>\n",
       "      <th>clouds</th>\n",
       "      <th>visibility</th>\n",
       "      <th>wind_speed</th>\n",
       "      <th>wind_deg</th>\n",
       "      <th>wind_gust</th>\n",
       "      <th>weather</th>\n",
       "      <th>pop</th>\n",
       "      <th>rain</th>\n",
       "    </tr>\n",
       "  </thead>\n",
       "  <tbody>\n",
       "    <tr>\n",
       "      <th>0</th>\n",
       "      <td>1634184000</td>\n",
       "      <td>29.36</td>\n",
       "      <td>36.36</td>\n",
       "      <td>1008</td>\n",
       "      <td>84</td>\n",
       "      <td>26.37</td>\n",
       "      <td>8.61</td>\n",
       "      <td>89</td>\n",
       "      <td>10000</td>\n",
       "      <td>4.44</td>\n",
       "      <td>56</td>\n",
       "      <td>5.99</td>\n",
       "      <td>[{'id': 804, 'main': 'Clouds', 'description': ...</td>\n",
       "      <td>0.39</td>\n",
       "      <td>NaN</td>\n",
       "    </tr>\n",
       "    <tr>\n",
       "      <th>1</th>\n",
       "      <td>1634187600</td>\n",
       "      <td>29.18</td>\n",
       "      <td>35.71</td>\n",
       "      <td>1008</td>\n",
       "      <td>82</td>\n",
       "      <td>25.79</td>\n",
       "      <td>8.46</td>\n",
       "      <td>87</td>\n",
       "      <td>10000</td>\n",
       "      <td>3.93</td>\n",
       "      <td>66</td>\n",
       "      <td>5.10</td>\n",
       "      <td>[{'id': 804, 'main': 'Clouds', 'description': ...</td>\n",
       "      <td>0.31</td>\n",
       "      <td>NaN</td>\n",
       "    </tr>\n",
       "    <tr>\n",
       "      <th>2</th>\n",
       "      <td>1634191200</td>\n",
       "      <td>29.01</td>\n",
       "      <td>34.77</td>\n",
       "      <td>1008</td>\n",
       "      <td>80</td>\n",
       "      <td>25.21</td>\n",
       "      <td>6.83</td>\n",
       "      <td>86</td>\n",
       "      <td>10000</td>\n",
       "      <td>4.34</td>\n",
       "      <td>70</td>\n",
       "      <td>5.49</td>\n",
       "      <td>[{'id': 804, 'main': 'Clouds', 'description': ...</td>\n",
       "      <td>0.31</td>\n",
       "      <td>NaN</td>\n",
       "    </tr>\n",
       "    <tr>\n",
       "      <th>3</th>\n",
       "      <td>1634194800</td>\n",
       "      <td>28.72</td>\n",
       "      <td>33.78</td>\n",
       "      <td>1008</td>\n",
       "      <td>79</td>\n",
       "      <td>24.71</td>\n",
       "      <td>3.70</td>\n",
       "      <td>89</td>\n",
       "      <td>10000</td>\n",
       "      <td>4.61</td>\n",
       "      <td>69</td>\n",
       "      <td>5.54</td>\n",
       "      <td>[{'id': 804, 'main': 'Clouds', 'description': ...</td>\n",
       "      <td>0.50</td>\n",
       "      <td>NaN</td>\n",
       "    </tr>\n",
       "    <tr>\n",
       "      <th>4</th>\n",
       "      <td>1634198400</td>\n",
       "      <td>28.36</td>\n",
       "      <td>32.67</td>\n",
       "      <td>1008</td>\n",
       "      <td>78</td>\n",
       "      <td>24.15</td>\n",
       "      <td>1.74</td>\n",
       "      <td>94</td>\n",
       "      <td>10000</td>\n",
       "      <td>4.83</td>\n",
       "      <td>65</td>\n",
       "      <td>5.60</td>\n",
       "      <td>[{'id': 804, 'main': 'Clouds', 'description': ...</td>\n",
       "      <td>0.54</td>\n",
       "      <td>NaN</td>\n",
       "    </tr>\n",
       "  </tbody>\n",
       "</table>\n",
       "</div>"
      ],
      "text/plain": [
       "           dt   temp  feels_like  pressure  humidity  dew_point   uvi  clouds  \\\n",
       "0  1634184000  29.36       36.36      1008        84      26.37  8.61      89   \n",
       "1  1634187600  29.18       35.71      1008        82      25.79  8.46      87   \n",
       "2  1634191200  29.01       34.77      1008        80      25.21  6.83      86   \n",
       "3  1634194800  28.72       33.78      1008        79      24.71  3.70      89   \n",
       "4  1634198400  28.36       32.67      1008        78      24.15  1.74      94   \n",
       "\n",
       "   visibility  wind_speed  wind_deg  wind_gust  \\\n",
       "0       10000        4.44        56       5.99   \n",
       "1       10000        3.93        66       5.10   \n",
       "2       10000        4.34        70       5.49   \n",
       "3       10000        4.61        69       5.54   \n",
       "4       10000        4.83        65       5.60   \n",
       "\n",
       "                                             weather   pop rain  \n",
       "0  [{'id': 804, 'main': 'Clouds', 'description': ...  0.39  NaN  \n",
       "1  [{'id': 804, 'main': 'Clouds', 'description': ...  0.31  NaN  \n",
       "2  [{'id': 804, 'main': 'Clouds', 'description': ...  0.31  NaN  \n",
       "3  [{'id': 804, 'main': 'Clouds', 'description': ...  0.50  NaN  \n",
       "4  [{'id': 804, 'main': 'Clouds', 'description': ...  0.54  NaN  "
      ]
     },
     "execution_count": 10,
     "metadata": {},
     "output_type": "execute_result"
    }
   ],
   "source": [
    "df_hourly.head()"
   ]
  },
  {
   "cell_type": "code",
   "execution_count": null,
   "metadata": {},
   "outputs": [],
   "source": []
  }
 ],
 "metadata": {
  "interpreter": {
   "hash": "c1b4cfe941b6d2466ad1fb5979e97da9cda8801728c8091b097ab734208fc00c"
  },
  "kernelspec": {
   "display_name": "Python 3.8.3 64-bit ('base': conda)",
   "name": "python3"
  },
  "language_info": {
   "codemirror_mode": {
    "name": "ipython",
    "version": 3
   },
   "file_extension": ".py",
   "mimetype": "text/x-python",
   "name": "python",
   "nbconvert_exporter": "python",
   "pygments_lexer": "ipython3",
   "version": "3.8.12"
  }
 },
 "nbformat": 4,
 "nbformat_minor": 2
}
