{
 "cells": [
  {
   "cell_type": "code",
   "execution_count": 1,
   "metadata": {},
   "outputs": [],
   "source": [
    "import json\r\n",
    "from datetime import datetime\r\n",
    "from dateutil import tz\r\n",
    "import pandas as pd\r\n",
    "import matplotlib.pyplot as plt\r\n",
    "import seaborn\r\n"
   ]
  },
  {
   "cell_type": "code",
   "execution_count": 2,
   "metadata": {},
   "outputs": [],
   "source": [
    "with open('../newest_ts', 'r') as f:\r\n",
    "    ts = f.read()\r\n",
    "\r\n",
    "data_path = f\"../data/data_{ts}.json\"\r\n",
    "with open(data_path, 'r') as f:\r\n",
    "    data = json.load(f)"
   ]
  },
  {
   "cell_type": "code",
   "execution_count": 3,
   "metadata": {},
   "outputs": [],
   "source": [
    "def ts2dt(ts, format='%Y-%m-%d %H:%M:%S'):\r\n",
    "    return (datetime.utcfromtimestamp(int(ts))\r\n",
    "                    .replace(tzinfo=tz.tzutc())\r\n",
    "                    .astimezone(tz.tzlocal())\r\n",
    "                    .strftime(format))"
   ]
  },
  {
   "cell_type": "code",
   "execution_count": 4,
   "metadata": {},
   "outputs": [
    {
     "data": {
      "text/plain": [
       "dict_keys(['lat', 'lon', 'timezone', 'timezone_offset', 'current', 'hourly', 'daily'])"
      ]
     },
     "execution_count": 4,
     "metadata": {},
     "output_type": "execute_result"
    }
   ],
   "source": [
    "data.keys()"
   ]
  },
  {
   "cell_type": "code",
   "execution_count": 5,
   "metadata": {},
   "outputs": [
    {
     "data": {
      "text/plain": [
       "{'dt': 1629628449,\n",
       " 'sunrise': 1629583360,\n",
       " 'sunset': 1629629370,\n",
       " 'temp': 31.05,\n",
       " 'feels_like': 38.05,\n",
       " 'pressure': 1006,\n",
       " 'humidity': 76,\n",
       " 'dew_point': 26.32,\n",
       " 'uvi': 0,\n",
       " 'clouds': 30,\n",
       " 'visibility': 10000,\n",
       " 'wind_speed': 3.64,\n",
       " 'wind_deg': 199,\n",
       " 'wind_gust': 5.05,\n",
       " 'weather': [{'id': 802,\n",
       "   'main': 'Clouds',\n",
       "   'description': 'scattered clouds',\n",
       "   'icon': '03d'}]}"
      ]
     },
     "execution_count": 5,
     "metadata": {},
     "output_type": "execute_result"
    }
   ],
   "source": [
    "data['current']"
   ]
  },
  {
   "cell_type": "code",
   "execution_count": 6,
   "metadata": {},
   "outputs": [
    {
     "data": {
      "text/plain": [
       "['08-22 18:00',\n",
       " '08-22 19:00',\n",
       " '08-22 20:00',\n",
       " '08-22 21:00',\n",
       " '08-22 22:00',\n",
       " '08-22 23:00',\n",
       " '08-23 00:00',\n",
       " '08-23 01:00',\n",
       " '08-23 02:00',\n",
       " '08-23 03:00',\n",
       " '08-23 04:00',\n",
       " '08-23 05:00',\n",
       " '08-23 06:00',\n",
       " '08-23 07:00',\n",
       " '08-23 08:00',\n",
       " '08-23 09:00',\n",
       " '08-23 10:00',\n",
       " '08-23 11:00',\n",
       " '08-23 12:00',\n",
       " '08-23 13:00',\n",
       " '08-23 14:00',\n",
       " '08-23 15:00',\n",
       " '08-23 16:00',\n",
       " '08-23 17:00',\n",
       " '08-23 18:00',\n",
       " '08-23 19:00',\n",
       " '08-23 20:00',\n",
       " '08-23 21:00',\n",
       " '08-23 22:00',\n",
       " '08-23 23:00',\n",
       " '08-24 00:00',\n",
       " '08-24 01:00',\n",
       " '08-24 02:00',\n",
       " '08-24 03:00',\n",
       " '08-24 04:00',\n",
       " '08-24 05:00',\n",
       " '08-24 06:00',\n",
       " '08-24 07:00',\n",
       " '08-24 08:00',\n",
       " '08-24 09:00',\n",
       " '08-24 10:00',\n",
       " '08-24 11:00',\n",
       " '08-24 12:00',\n",
       " '08-24 13:00',\n",
       " '08-24 14:00',\n",
       " '08-24 15:00',\n",
       " '08-24 16:00',\n",
       " '08-24 17:00']"
      ]
     },
     "execution_count": 6,
     "metadata": {},
     "output_type": "execute_result"
    }
   ],
   "source": [
    "[ts2dt(hrdt['dt'], format='%m-%d %H:%M') for hrdt in data['hourly']]"
   ]
  },
  {
   "cell_type": "code",
   "execution_count": 7,
   "metadata": {},
   "outputs": [
    {
     "data": {
      "text/plain": [
       "{'dt': 1629626400,\n",
       " 'temp': 30.73,\n",
       " 'feels_like': 37.73,\n",
       " 'pressure': 1006,\n",
       " 'humidity': 75,\n",
       " 'dew_point': 25.78,\n",
       " 'uvi': 0.25,\n",
       " 'clouds': 31,\n",
       " 'visibility': 10000,\n",
       " 'wind_speed': 4.16,\n",
       " 'wind_deg': 204,\n",
       " 'wind_gust': 5.09,\n",
       " 'weather': [{'id': 802,\n",
       "   'main': 'Clouds',\n",
       "   'description': 'scattered clouds',\n",
       "   'icon': '03d'}],\n",
       " 'pop': 0}"
      ]
     },
     "execution_count": 7,
     "metadata": {},
     "output_type": "execute_result"
    }
   ],
   "source": [
    "data['hourly'][0]"
   ]
  },
  {
   "cell_type": "code",
   "execution_count": 8,
   "metadata": {},
   "outputs": [],
   "source": [
    "df_hourly = pd.DataFrame(data['hourly'])\r\n",
    "df_daily = pd.DataFrame(data['daily'])"
   ]
  },
  {
   "cell_type": "code",
   "execution_count": 9,
   "metadata": {},
   "outputs": [
    {
     "data": {
      "text/html": [
       "<div>\n",
       "<style scoped>\n",
       "    .dataframe tbody tr th:only-of-type {\n",
       "        vertical-align: middle;\n",
       "    }\n",
       "\n",
       "    .dataframe tbody tr th {\n",
       "        vertical-align: top;\n",
       "    }\n",
       "\n",
       "    .dataframe thead th {\n",
       "        text-align: right;\n",
       "    }\n",
       "</style>\n",
       "<table border=\"1\" class=\"dataframe\">\n",
       "  <thead>\n",
       "    <tr style=\"text-align: right;\">\n",
       "      <th></th>\n",
       "      <th>dt</th>\n",
       "      <th>temp</th>\n",
       "      <th>feels_like</th>\n",
       "      <th>pressure</th>\n",
       "      <th>humidity</th>\n",
       "      <th>dew_point</th>\n",
       "      <th>uvi</th>\n",
       "      <th>clouds</th>\n",
       "      <th>visibility</th>\n",
       "      <th>wind_speed</th>\n",
       "      <th>wind_deg</th>\n",
       "      <th>wind_gust</th>\n",
       "      <th>weather</th>\n",
       "      <th>pop</th>\n",
       "      <th>rain</th>\n",
       "    </tr>\n",
       "  </thead>\n",
       "  <tbody>\n",
       "    <tr>\n",
       "      <th>0</th>\n",
       "      <td>1629626400</td>\n",
       "      <td>30.73</td>\n",
       "      <td>37.73</td>\n",
       "      <td>1006</td>\n",
       "      <td>75</td>\n",
       "      <td>25.78</td>\n",
       "      <td>0.25</td>\n",
       "      <td>31</td>\n",
       "      <td>10000</td>\n",
       "      <td>4.16</td>\n",
       "      <td>204</td>\n",
       "      <td>5.09</td>\n",
       "      <td>[{'id': 802, 'main': 'Clouds', 'description': ...</td>\n",
       "      <td>0.00</td>\n",
       "      <td>NaN</td>\n",
       "    </tr>\n",
       "    <tr>\n",
       "      <th>1</th>\n",
       "      <td>1629630000</td>\n",
       "      <td>31.05</td>\n",
       "      <td>38.05</td>\n",
       "      <td>1006</td>\n",
       "      <td>76</td>\n",
       "      <td>26.32</td>\n",
       "      <td>0.00</td>\n",
       "      <td>30</td>\n",
       "      <td>10000</td>\n",
       "      <td>3.64</td>\n",
       "      <td>199</td>\n",
       "      <td>5.05</td>\n",
       "      <td>[{'id': 802, 'main': 'Clouds', 'description': ...</td>\n",
       "      <td>0.00</td>\n",
       "      <td>NaN</td>\n",
       "    </tr>\n",
       "    <tr>\n",
       "      <th>2</th>\n",
       "      <td>1629633600</td>\n",
       "      <td>30.53</td>\n",
       "      <td>37.53</td>\n",
       "      <td>1006</td>\n",
       "      <td>77</td>\n",
       "      <td>26.04</td>\n",
       "      <td>0.00</td>\n",
       "      <td>29</td>\n",
       "      <td>10000</td>\n",
       "      <td>3.50</td>\n",
       "      <td>197</td>\n",
       "      <td>4.87</td>\n",
       "      <td>[{'id': 802, 'main': 'Clouds', 'description': ...</td>\n",
       "      <td>0.00</td>\n",
       "      <td>NaN</td>\n",
       "    </tr>\n",
       "    <tr>\n",
       "      <th>3</th>\n",
       "      <td>1629637200</td>\n",
       "      <td>29.97</td>\n",
       "      <td>36.97</td>\n",
       "      <td>1006</td>\n",
       "      <td>79</td>\n",
       "      <td>25.93</td>\n",
       "      <td>0.00</td>\n",
       "      <td>22</td>\n",
       "      <td>10000</td>\n",
       "      <td>3.39</td>\n",
       "      <td>191</td>\n",
       "      <td>4.88</td>\n",
       "      <td>[{'id': 801, 'main': 'Clouds', 'description': ...</td>\n",
       "      <td>0.08</td>\n",
       "      <td>NaN</td>\n",
       "    </tr>\n",
       "    <tr>\n",
       "      <th>4</th>\n",
       "      <td>1629640800</td>\n",
       "      <td>29.37</td>\n",
       "      <td>36.03</td>\n",
       "      <td>1007</td>\n",
       "      <td>81</td>\n",
       "      <td>25.77</td>\n",
       "      <td>0.00</td>\n",
       "      <td>22</td>\n",
       "      <td>10000</td>\n",
       "      <td>3.55</td>\n",
       "      <td>198</td>\n",
       "      <td>5.09</td>\n",
       "      <td>[{'id': 801, 'main': 'Clouds', 'description': ...</td>\n",
       "      <td>0.04</td>\n",
       "      <td>NaN</td>\n",
       "    </tr>\n",
       "  </tbody>\n",
       "</table>\n",
       "</div>"
      ],
      "text/plain": [
       "           dt   temp  feels_like  pressure  humidity  dew_point   uvi  clouds  \\\n",
       "0  1629626400  30.73       37.73      1006        75      25.78  0.25      31   \n",
       "1  1629630000  31.05       38.05      1006        76      26.32  0.00      30   \n",
       "2  1629633600  30.53       37.53      1006        77      26.04  0.00      29   \n",
       "3  1629637200  29.97       36.97      1006        79      25.93  0.00      22   \n",
       "4  1629640800  29.37       36.03      1007        81      25.77  0.00      22   \n",
       "\n",
       "   visibility  wind_speed  wind_deg  wind_gust  \\\n",
       "0       10000        4.16       204       5.09   \n",
       "1       10000        3.64       199       5.05   \n",
       "2       10000        3.50       197       4.87   \n",
       "3       10000        3.39       191       4.88   \n",
       "4       10000        3.55       198       5.09   \n",
       "\n",
       "                                             weather   pop rain  \n",
       "0  [{'id': 802, 'main': 'Clouds', 'description': ...  0.00  NaN  \n",
       "1  [{'id': 802, 'main': 'Clouds', 'description': ...  0.00  NaN  \n",
       "2  [{'id': 802, 'main': 'Clouds', 'description': ...  0.00  NaN  \n",
       "3  [{'id': 801, 'main': 'Clouds', 'description': ...  0.08  NaN  \n",
       "4  [{'id': 801, 'main': 'Clouds', 'description': ...  0.04  NaN  "
      ]
     },
     "execution_count": 9,
     "metadata": {},
     "output_type": "execute_result"
    }
   ],
   "source": [
    "df_hourly.head()"
   ]
  },
  {
   "cell_type": "code",
   "execution_count": null,
   "metadata": {},
   "outputs": [],
   "source": []
  }
 ],
 "metadata": {
  "interpreter": {
   "hash": "c1b4cfe941b6d2466ad1fb5979e97da9cda8801728c8091b097ab734208fc00c"
  },
  "kernelspec": {
   "display_name": "Python 3.8.3 64-bit ('base': conda)",
   "name": "python3"
  },
  "language_info": {
   "codemirror_mode": {
    "name": "ipython",
    "version": 3
   },
   "file_extension": ".py",
   "mimetype": "text/x-python",
   "name": "python",
   "nbconvert_exporter": "python",
   "pygments_lexer": "ipython3",
   "version": "3.8.3"
  }
 },
 "nbformat": 4,
 "nbformat_minor": 2
}
