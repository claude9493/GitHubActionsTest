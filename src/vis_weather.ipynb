{
 "cells": [
  {
   "cell_type": "code",
   "execution_count": 1,
   "metadata": {
    "execution": {
     "iopub.execute_input": "2021-10-17T07:11:26.125232Z",
     "iopub.status.busy": "2021-10-17T07:11:26.124457Z",
     "iopub.status.idle": "2021-10-17T07:11:29.106825Z",
     "shell.execute_reply": "2021-10-17T07:11:29.106183Z"
    }
   },
   "outputs": [],
   "source": [
    "import json, yaml, requests\r\n",
    "from datetime import datetime\r\n",
    "from dateutil import tz\r\n",
    "import pandas as pd\r\n",
    "from PIL import Image\r\n",
    "from io import BytesIO\r\n",
    "import matplotlib.pyplot as plt\r\n",
    "import seaborn\r\n",
    "\r\n",
    "CONFIG_PATH = \"../config/config.yaml\""
   ]
  },
  {
   "cell_type": "code",
   "execution_count": 2,
   "metadata": {
    "execution": {
     "iopub.execute_input": "2021-10-17T07:11:29.114736Z",
     "iopub.status.busy": "2021-10-17T07:11:29.111908Z",
     "iopub.status.idle": "2021-10-17T07:11:29.117324Z",
     "shell.execute_reply": "2021-10-17T07:11:29.117828Z"
    }
   },
   "outputs": [],
   "source": [
    "with open('../newest_ts', 'r') as f:\r\n",
    "    newest_ts = f.read()\r\n",
    "\r\n",
    "data_path = f\"../data/data_{newest_ts}.json\"\r\n",
    "with open(data_path, 'r') as f:\r\n",
    "    data = json.load(f)\r\n",
    "\r\n",
    "with open(CONFIG_PATH, \"r\") as stream:\r\n",
    "    config = yaml.safe_load(stream)\r\n",
    "\r\n",
    "TIME_ZONE = config['time_zone']\r\n",
    "DATETIME_FORMAT = config['dt_format']"
   ]
  },
  {
   "cell_type": "code",
   "execution_count": 3,
   "metadata": {
    "execution": {
     "iopub.execute_input": "2021-10-17T07:11:29.122850Z",
     "iopub.status.busy": "2021-10-17T07:11:29.122167Z",
     "iopub.status.idle": "2021-10-17T07:11:29.128335Z",
     "shell.execute_reply": "2021-10-17T07:11:29.127919Z"
    }
   },
   "outputs": [
    {
     "name": "stdout",
     "output_type": "stream",
     "text": [
      "Recent query happens at 2021-10-17 15:11:22 (CST).\n"
     ]
    }
   ],
   "source": [
    "def ts2dt(ts, format=DATETIME_FORMAT):\r\n",
    "    dt = (datetime.utcfromtimestamp(int(ts))\r\n",
    "                    .replace(tzinfo=tz.tzutc())\r\n",
    "                    # .astimezone(tz.tzlocal())\r\n",
    "                    .astimezone(tz.gettz(TIME_ZONE)))\r\n",
    "    return dt.strftime(format), dt\r\n",
    "\r\n",
    "_, newest_dt = ts2dt(newest_ts)\r\n",
    "print(f\"Recent query happens at {newest_dt.strftime(DATETIME_FORMAT)} ({newest_dt.tzname()}).\")"
   ]
  },
  {
   "cell_type": "code",
   "execution_count": 4,
   "metadata": {
    "execution": {
     "iopub.execute_input": "2021-10-17T07:11:29.133049Z",
     "iopub.status.busy": "2021-10-17T07:11:29.132436Z",
     "iopub.status.idle": "2021-10-17T07:11:29.134739Z",
     "shell.execute_reply": "2021-10-17T07:11:29.135167Z"
    }
   },
   "outputs": [],
   "source": [
    "def degrees_to_cardinal(d):\r\n",
    "  dirs = ['N', 'NNE', 'NE', 'ENE', 'E', 'ESE', 'SE', 'SSE', 'S', 'SSW', 'SW', 'WSW', 'W', 'WNW', 'NW', 'NNW']\r\n",
    "  ix = int(round(d / (360. / len(dirs))))\r\n",
    "  return dirs[ix % len(dirs)]"
   ]
  },
  {
   "cell_type": "code",
   "execution_count": 5,
   "metadata": {
    "execution": {
     "iopub.execute_input": "2021-10-17T07:11:29.138904Z",
     "iopub.status.busy": "2021-10-17T07:11:29.137534Z",
     "iopub.status.idle": "2021-10-17T07:11:29.141147Z",
     "shell.execute_reply": "2021-10-17T07:11:29.140681Z"
    }
   },
   "outputs": [],
   "source": [
    "# data.keys()"
   ]
  },
  {
   "cell_type": "code",
   "execution_count": 6,
   "metadata": {
    "execution": {
     "iopub.execute_input": "2021-10-17T07:11:29.145717Z",
     "iopub.status.busy": "2021-10-17T07:11:29.144322Z",
     "iopub.status.idle": "2021-10-17T07:11:29.146396Z",
     "shell.execute_reply": "2021-10-17T07:11:29.146892Z"
    }
   },
   "outputs": [],
   "source": [
    "# data['current']"
   ]
  },
  {
   "cell_type": "code",
   "execution_count": 7,
   "metadata": {
    "execution": {
     "iopub.execute_input": "2021-10-17T07:11:29.167689Z",
     "iopub.status.busy": "2021-10-17T07:11:29.166982Z",
     "iopub.status.idle": "2021-10-17T07:11:29.574069Z",
     "shell.execute_reply": "2021-10-17T07:11:29.574924Z"
    }
   },
   "outputs": [
    {
     "data": {
      "image/png": "[encoded data removed]",
      "text/plain": [
       "<Figure size 216x216 with 1 Axes>"
      ]
     },
     "metadata": {
      "needs_background": "light"
     },
     "output_type": "display_data"
    },
    {
     "name": "stdout",
     "output_type": "stream",
     "text": [
      "Today, sun rises at 06:19 and sets at 17:56.\n",
      "Currently, the weather is Clouds (overcast clouds).\n",
      "The temperature is 25.89°C and it feels like 26.23°C.\n",
      "The UV index is 4.08, humidity is 65%.\n",
      "The pressure is 1015 hPa, percentage of cloud cover is 85%\n",
      "The wind comes from NW direction with a speed 0.89 m/s.\n"
     ]
    }
   ],
   "source": [
    "current = data['current']\r\n",
    "\r\n",
    "fig, ax = plt.subplots(figsize=(3, 3))\r\n",
    "icon = requests.get(f\"http://openweathermap.org/img/wn/{current['weather'][0]['icon']}@2x.png\")\r\n",
    "im = Image.open(BytesIO(icon.content))\r\n",
    "plt.imshow(im)\r\n",
    "ax.set_axis_off()\r\n",
    "plt.show()\r\n",
    "\r\n",
    "print(f\"Today, sun rises at {ts2dt(current['sunrise'], '%H:%M')[0]} \\\r\n",
    "and sets at {ts2dt(current['sunset'], '%H:%M')[0]}.\\n\\\r\n",
    "Currently, the weather is {current['weather'][0]['main']} ({current['weather'][0]['description']}).\\n\\\r\n",
    "The temperature is {current['temp']}°C and it feels like {current['feels_like']}°C.\\n\\\r\n",
    "The UV index is {current['uvi']}, humidity is {current['humidity']}%.\\n\\\r\n",
    "The pressure is {current['pressure']} hPa, percentage of cloud cover is {current['clouds']}%\\n\\\r\n",
    "The wind comes from {degrees_to_cardinal(current['wind_deg'])} direction with a speed {current['wind_speed']} m/s.\")"
   ]
  },
  {
   "cell_type": "code",
   "execution_count": 8,
   "metadata": {
    "execution": {
     "iopub.execute_input": "2021-10-17T07:11:29.578675Z",
     "iopub.status.busy": "2021-10-17T07:11:29.577498Z",
     "iopub.status.idle": "2021-10-17T07:11:29.591130Z",
     "shell.execute_reply": "2021-10-17T07:11:29.593282Z"
    }
   },
   "outputs": [],
   "source": [
    "df_hourly = pd.DataFrame(data['hourly'])\r\n",
    "df_daily = pd.DataFrame(data['daily'])"
   ]
  },
  {
   "cell_type": "code",
   "execution_count": 9,
   "metadata": {
    "execution": {
     "iopub.execute_input": "2021-10-17T07:11:29.597210Z",
     "iopub.status.busy": "2021-10-17T07:11:29.596117Z",
     "iopub.status.idle": "2021-10-17T07:11:29.949524Z",
     "shell.execute_reply": "2021-10-17T07:11:29.950045Z"
    }
   },
   "outputs": [
    {
     "data": {
      "image/png": "[encoded data removed]",
      "text/plain": [
       "<Figure size 864x432 with 1 Axes>"
      ]
     },
     "metadata": {
      "needs_background": "light"
     },
     "output_type": "display_data"
    }
   ],
   "source": [
    "fig, ax = plt.subplots(figsize=(12, 6))\r\n",
    "plt.plot(df_hourly.temp, '.-', label='Temperature')\r\n",
    "plt.plot(df_hourly.feels_like, '.-', label='Feels Like')\r\n",
    "ax.set(title='Temperature in future 48 hours', xlabel='Time', ylabel='Temperature')\r\n",
    "ax.set_xticks(list(range(0, len(df_hourly), 2)))\r\n",
    "ax.set_xticklabels([ts2dt(ts, '%m-%d %H:%M')[0] for i, ts in enumerate(df_hourly.dt) if i%2==0], \r\n",
    "                   rotation=45, ha=\"right\")\r\n",
    "ax.locator_params(nbins=15, axis='y')\r\n",
    "plt.legend()\r\n",
    "plt.show()"
   ]
  },
  {
   "cell_type": "code",
   "execution_count": 10,
   "metadata": {
    "execution": {
     "iopub.execute_input": "2021-10-17T07:11:29.961925Z",
     "iopub.status.busy": "2021-10-17T07:11:29.954251Z",
     "iopub.status.idle": "2021-10-17T07:11:29.973255Z",
     "shell.execute_reply": "2021-10-17T07:11:29.973670Z"
    }
   },
   "outputs": [
    {
     "data": {
      "text/html": [
       "<div>\n",
       "<style scoped>\n",
       "    .dataframe tbody tr th:only-of-type {\n",
       "        vertical-align: middle;\n",
       "    }\n",
       "\n",
       "    .dataframe tbody tr th {\n",
       "        vertical-align: top;\n",
       "    }\n",
       "\n",
       "    .dataframe thead th {\n",
       "        text-align: right;\n",
       "    }\n",
       "</style>\n",
       "<table border=\"1\" class=\"dataframe\">\n",
       "  <thead>\n",
       "    <tr style=\"text-align: right;\">\n",
       "      <th></th>\n",
       "      <th>dt</th>\n",
       "      <th>temp</th>\n",
       "      <th>feels_like</th>\n",
       "      <th>pressure</th>\n",
       "      <th>humidity</th>\n",
       "      <th>dew_point</th>\n",
       "      <th>uvi</th>\n",
       "      <th>clouds</th>\n",
       "      <th>visibility</th>\n",
       "      <th>wind_speed</th>\n",
       "      <th>wind_deg</th>\n",
       "      <th>wind_gust</th>\n",
       "      <th>weather</th>\n",
       "      <th>pop</th>\n",
       "    </tr>\n",
       "  </thead>\n",
       "  <tbody>\n",
       "    <tr>\n",
       "      <th>0</th>\n",
       "      <td>1634454000</td>\n",
       "      <td>25.89</td>\n",
       "      <td>26.23</td>\n",
       "      <td>1015</td>\n",
       "      <td>65</td>\n",
       "      <td>18.81</td>\n",
       "      <td>4.08</td>\n",
       "      <td>85</td>\n",
       "      <td>10000</td>\n",
       "      <td>6.80</td>\n",
       "      <td>27</td>\n",
       "      <td>7.42</td>\n",
       "      <td>[{'id': 804, 'main': 'Clouds', 'description': ...</td>\n",
       "      <td>0.16</td>\n",
       "    </tr>\n",
       "    <tr>\n",
       "      <th>1</th>\n",
       "      <td>1634457600</td>\n",
       "      <td>25.52</td>\n",
       "      <td>25.85</td>\n",
       "      <td>1015</td>\n",
       "      <td>66</td>\n",
       "      <td>18.70</td>\n",
       "      <td>1.91</td>\n",
       "      <td>86</td>\n",
       "      <td>10000</td>\n",
       "      <td>6.58</td>\n",
       "      <td>30</td>\n",
       "      <td>7.39</td>\n",
       "      <td>[{'id': 804, 'main': 'Clouds', 'description': ...</td>\n",
       "      <td>0.13</td>\n",
       "    </tr>\n",
       "    <tr>\n",
       "      <th>2</th>\n",
       "      <td>1634461200</td>\n",
       "      <td>25.01</td>\n",
       "      <td>25.32</td>\n",
       "      <td>1016</td>\n",
       "      <td>67</td>\n",
       "      <td>18.46</td>\n",
       "      <td>0.53</td>\n",
       "      <td>87</td>\n",
       "      <td>10000</td>\n",
       "      <td>6.56</td>\n",
       "      <td>28</td>\n",
       "      <td>7.81</td>\n",
       "      <td>[{'id': 804, 'main': 'Clouds', 'description': ...</td>\n",
       "      <td>0.05</td>\n",
       "    </tr>\n",
       "    <tr>\n",
       "      <th>3</th>\n",
       "      <td>1634464800</td>\n",
       "      <td>24.22</td>\n",
       "      <td>24.53</td>\n",
       "      <td>1017</td>\n",
       "      <td>70</td>\n",
       "      <td>18.40</td>\n",
       "      <td>0.00</td>\n",
       "      <td>84</td>\n",
       "      <td>10000</td>\n",
       "      <td>5.96</td>\n",
       "      <td>26</td>\n",
       "      <td>7.69</td>\n",
       "      <td>[{'id': 803, 'main': 'Clouds', 'description': ...</td>\n",
       "      <td>0.03</td>\n",
       "    </tr>\n",
       "    <tr>\n",
       "      <th>4</th>\n",
       "      <td>1634468400</td>\n",
       "      <td>23.22</td>\n",
       "      <td>23.48</td>\n",
       "      <td>1017</td>\n",
       "      <td>72</td>\n",
       "      <td>17.89</td>\n",
       "      <td>0.00</td>\n",
       "      <td>78</td>\n",
       "      <td>10000</td>\n",
       "      <td>5.27</td>\n",
       "      <td>30</td>\n",
       "      <td>7.08</td>\n",
       "      <td>[{'id': 803, 'main': 'Clouds', 'description': ...</td>\n",
       "      <td>0.03</td>\n",
       "    </tr>\n",
       "  </tbody>\n",
       "</table>\n",
       "</div>"
      ],
      "text/plain": [
       "           dt   temp  feels_like  pressure  humidity  dew_point   uvi  clouds  \\\n",
       "0  1634454000  25.89       26.23      1015        65      18.81  4.08      85   \n",
       "1  1634457600  25.52       25.85      1015        66      18.70  1.91      86   \n",
       "2  1634461200  25.01       25.32      1016        67      18.46  0.53      87   \n",
       "3  1634464800  24.22       24.53      1017        70      18.40  0.00      84   \n",
       "4  1634468400  23.22       23.48      1017        72      17.89  0.00      78   \n",
       "\n",
       "   visibility  wind_speed  wind_deg  wind_gust  \\\n",
       "0       10000        6.80        27       7.42   \n",
       "1       10000        6.58        30       7.39   \n",
       "2       10000        6.56        28       7.81   \n",
       "3       10000        5.96        26       7.69   \n",
       "4       10000        5.27        30       7.08   \n",
       "\n",
       "                                             weather   pop  \n",
       "0  [{'id': 804, 'main': 'Clouds', 'description': ...  0.16  \n",
       "1  [{'id': 804, 'main': 'Clouds', 'description': ...  0.13  \n",
       "2  [{'id': 804, 'main': 'Clouds', 'description': ...  0.05  \n",
       "3  [{'id': 803, 'main': 'Clouds', 'description': ...  0.03  \n",
       "4  [{'id': 803, 'main': 'Clouds', 'description': ...  0.03  "
      ]
     },
     "execution_count": 10,
     "metadata": {},
     "output_type": "execute_result"
    }
   ],
   "source": [
    "df_hourly.head()"
   ]
  },
  {
   "cell_type": "code",
   "execution_count": null,
   "metadata": {},
   "outputs": [],
   "source": []
  }
 ],
 "metadata": {
  "interpreter": {
   "hash": "c1b4cfe941b6d2466ad1fb5979e97da9cda8801728c8091b097ab734208fc00c"
  },
  "kernelspec": {
   "display_name": "Python 3.8.3 64-bit ('base': conda)",
   "name": "python3"
  },
  "language_info": {
   "codemirror_mode": {
    "name": "ipython",
    "version": 3
   },
   "file_extension": ".py",
   "mimetype": "text/x-python",
   "name": "python",
   "nbconvert_exporter": "python",
   "pygments_lexer": "ipython3",
   "version": "3.8.12"
  }
 },
 "nbformat": 4,
 "nbformat_minor": 2
}
