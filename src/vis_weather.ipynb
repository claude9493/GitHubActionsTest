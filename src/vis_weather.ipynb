{
 "cells": [
  {
   "cell_type": "code",
   "execution_count": 1,
   "metadata": {
    "execution": {
     "iopub.execute_input": "2021-10-05T03:12:18.113224Z",
     "iopub.status.busy": "2021-10-05T03:12:18.112648Z",
     "iopub.status.idle": "2021-10-05T03:12:20.435452Z",
     "shell.execute_reply": "2021-10-05T03:12:20.434834Z"
    }
   },
   "outputs": [],
   "source": [
    "import json, yaml, requests\r\n",
    "from datetime import datetime\r\n",
    "from dateutil import tz\r\n",
    "import pandas as pd\r\n",
    "from PIL import Image\r\n",
    "from io import BytesIO\r\n",
    "import matplotlib.pyplot as plt\r\n",
    "import seaborn\r\n",
    "\r\n",
    "CONFIG_PATH = \"../config/config.yaml\""
   ]
  },
  {
   "cell_type": "code",
   "execution_count": 2,
   "metadata": {
    "execution": {
     "iopub.execute_input": "2021-10-05T03:12:20.442575Z",
     "iopub.status.busy": "2021-10-05T03:12:20.439756Z",
     "iopub.status.idle": "2021-10-05T03:12:20.445415Z",
     "shell.execute_reply": "2021-10-05T03:12:20.445050Z"
    }
   },
   "outputs": [],
   "source": [
    "with open('../newest_ts', 'r') as f:\r\n",
    "    newest_ts = f.read()\r\n",
    "\r\n",
    "data_path = f\"../data/data_{newest_ts}.json\"\r\n",
    "with open(data_path, 'r') as f:\r\n",
    "    data = json.load(f)\r\n",
    "\r\n",
    "with open(CONFIG_PATH, \"r\") as stream:\r\n",
    "    config = yaml.safe_load(stream)\r\n",
    "\r\n",
    "TIME_ZONE = config['time_zone']\r\n",
    "DATETIME_FORMAT = config['dt_format']"
   ]
  },
  {
   "cell_type": "code",
   "execution_count": 3,
   "metadata": {
    "execution": {
     "iopub.execute_input": "2021-10-05T03:12:20.449475Z",
     "iopub.status.busy": "2021-10-05T03:12:20.449067Z",
     "iopub.status.idle": "2021-10-05T03:12:20.488438Z",
     "shell.execute_reply": "2021-10-05T03:12:20.488769Z"
    }
   },
   "outputs": [
    {
     "name": "stdout",
     "output_type": "stream",
     "text": [
      "Recent query happens at 2021-10-05 11:12:15 (CST).\n"
     ]
    }
   ],
   "source": [
    "def ts2dt(ts, format=DATETIME_FORMAT):\r\n",
    "    dt = (datetime.utcfromtimestamp(int(ts))\r\n",
    "                    .replace(tzinfo=tz.tzutc())\r\n",
    "                    # .astimezone(tz.tzlocal())\r\n",
    "                    .astimezone(tz.gettz(TIME_ZONE)))\r\n",
    "    return dt.strftime(format), dt\r\n",
    "\r\n",
    "_, newest_dt = ts2dt(newest_ts)\r\n",
    "print(f\"Recent query happens at {newest_dt.strftime(DATETIME_FORMAT)} ({newest_dt.tzname()}).\")"
   ]
  },
  {
   "cell_type": "code",
   "execution_count": 4,
   "metadata": {
    "execution": {
     "iopub.execute_input": "2021-10-05T03:12:20.492931Z",
     "iopub.status.busy": "2021-10-05T03:12:20.492519Z",
     "iopub.status.idle": "2021-10-05T03:12:20.494489Z",
     "shell.execute_reply": "2021-10-05T03:12:20.494146Z"
    }
   },
   "outputs": [],
   "source": [
    "def degrees_to_cardinal(d):\r\n",
    "  dirs = ['N', 'NNE', 'NE', 'ENE', 'E', 'ESE', 'SE', 'SSE', 'S', 'SSW', 'SW', 'WSW', 'W', 'WNW', 'NW', 'NNW']\r\n",
    "  ix = int(round(d / (360. / len(dirs))))\r\n",
    "  return dirs[ix % len(dirs)]"
   ]
  },
  {
   "cell_type": "code",
   "execution_count": 5,
   "metadata": {
    "execution": {
     "iopub.execute_input": "2021-10-05T03:12:20.497915Z",
     "iopub.status.busy": "2021-10-05T03:12:20.497190Z",
     "iopub.status.idle": "2021-10-05T03:12:20.498591Z",
     "shell.execute_reply": "2021-10-05T03:12:20.498906Z"
    }
   },
   "outputs": [],
   "source": [
    "# data.keys()"
   ]
  },
  {
   "cell_type": "code",
   "execution_count": 6,
   "metadata": {
    "execution": {
     "iopub.execute_input": "2021-10-05T03:12:20.502095Z",
     "iopub.status.busy": "2021-10-05T03:12:20.501320Z",
     "iopub.status.idle": "2021-10-05T03:12:20.502865Z",
     "shell.execute_reply": "2021-10-05T03:12:20.503180Z"
    }
   },
   "outputs": [],
   "source": [
    "# data['current']"
   ]
  },
  {
   "cell_type": "code",
   "execution_count": 7,
   "metadata": {
    "execution": {
     "iopub.execute_input": "2021-10-05T03:12:20.521582Z",
     "iopub.status.busy": "2021-10-05T03:12:20.519924Z",
     "iopub.status.idle": "2021-10-05T03:12:20.903598Z",
     "shell.execute_reply": "2021-10-05T03:12:20.904283Z"
    }
   },
   "outputs": [
    {
     "data": {
      "image/png": "[encoded data removed]",
      "text/plain": [
       "<Figure size 216x216 with 1 Axes>"
      ]
     },
     "metadata": {
      "needs_background": "light"
     },
     "output_type": "display_data"
    },
    {
     "name": "stdout",
     "output_type": "stream",
     "text": [
      "Today, sun rises at 06:15 and sets at 18:07.\n",
      "Currently, the weather is Clouds (few clouds).\n",
      "The temperature is 31.57°C and it feels like 37.56°C.\n",
      "The UV index is 7.64, humidity is 65%.\n",
      "The pressure is 1012 hPa, percentage of cloud cover is 15%\n",
      "The wind comes from NW direction with a speed 0.45 m/s.\n"
     ]
    }
   ],
   "source": [
    "current = data['current']\r\n",
    "\r\n",
    "fig, ax = plt.subplots(figsize=(3, 3))\r\n",
    "icon = requests.get(f\"http://openweathermap.org/img/wn/{current['weather'][0]['icon']}@2x.png\")\r\n",
    "im = Image.open(BytesIO(icon.content))\r\n",
    "plt.imshow(im)\r\n",
    "ax.set_axis_off()\r\n",
    "plt.show()\r\n",
    "\r\n",
    "print(f\"Today, sun rises at {ts2dt(current['sunrise'], '%H:%M')[0]} \\\r\n",
    "and sets at {ts2dt(current['sunset'], '%H:%M')[0]}.\\n\\\r\n",
    "Currently, the weather is {current['weather'][0]['main']} ({current['weather'][0]['description']}).\\n\\\r\n",
    "The temperature is {current['temp']}°C and it feels like {current['feels_like']}°C.\\n\\\r\n",
    "The UV index is {current['uvi']}, humidity is {current['humidity']}%.\\n\\\r\n",
    "The pressure is {current['pressure']} hPa, percentage of cloud cover is {current['clouds']}%\\n\\\r\n",
    "The wind comes from {degrees_to_cardinal(current['wind_deg'])} direction with a speed {current['wind_speed']} m/s.\")"
   ]
  },
  {
   "cell_type": "code",
   "execution_count": 8,
   "metadata": {
    "execution": {
     "iopub.execute_input": "2021-10-05T03:12:20.907299Z",
     "iopub.status.busy": "2021-10-05T03:12:20.906852Z",
     "iopub.status.idle": "2021-10-05T03:12:20.913317Z",
     "shell.execute_reply": "2021-10-05T03:12:20.913965Z"
    }
   },
   "outputs": [],
   "source": [
    "df_hourly = pd.DataFrame(data['hourly'])\r\n",
    "df_daily = pd.DataFrame(data['daily'])"
   ]
  },
  {
   "cell_type": "code",
   "execution_count": 9,
   "metadata": {
    "execution": {
     "iopub.execute_input": "2021-10-05T03:12:20.916770Z",
     "iopub.status.busy": "2021-10-05T03:12:20.916312Z",
     "iopub.status.idle": "2021-10-05T03:12:21.162662Z",
     "shell.execute_reply": "2021-10-05T03:12:21.161782Z"
    }
   },
   "outputs": [
    {
     "data": {
      "image/png": "[encoded data removed]",
      "text/plain": [
       "<Figure size 864x432 with 1 Axes>"
      ]
     },
     "metadata": {
      "needs_background": "light"
     },
     "output_type": "display_data"
    }
   ],
   "source": [
    "fig, ax = plt.subplots(figsize=(12, 6))\r\n",
    "plt.plot(df_hourly.temp, '.-', label='Temperature')\r\n",
    "plt.plot(df_hourly.feels_like, '.-', label='Feels Like')\r\n",
    "ax.set(title='Temperature in future 48 hours', xlabel='Time', ylabel='Temperature')\r\n",
    "ax.set_xticks(list(range(0, len(df_hourly), 2)))\r\n",
    "ax.set_xticklabels([ts2dt(ts, '%m-%d %H:%M')[0] for i, ts in enumerate(df_hourly.dt) if i%2==0], \r\n",
    "                   rotation=45, ha=\"right\")\r\n",
    "ax.locator_params(nbins=15, axis='y')\r\n",
    "plt.legend()\r\n",
    "plt.show()"
   ]
  },
  {
   "cell_type": "code",
   "execution_count": 10,
   "metadata": {
    "execution": {
     "iopub.execute_input": "2021-10-05T03:12:21.174323Z",
     "iopub.status.busy": "2021-10-05T03:12:21.166642Z",
     "iopub.status.idle": "2021-10-05T03:12:21.184052Z",
     "shell.execute_reply": "2021-10-05T03:12:21.184401Z"
    }
   },
   "outputs": [
    {
     "data": {
      "text/html": [
       "<div>\n",
       "<style scoped>\n",
       "    .dataframe tbody tr th:only-of-type {\n",
       "        vertical-align: middle;\n",
       "    }\n",
       "\n",
       "    .dataframe tbody tr th {\n",
       "        vertical-align: top;\n",
       "    }\n",
       "\n",
       "    .dataframe thead th {\n",
       "        text-align: right;\n",
       "    }\n",
       "</style>\n",
       "<table border=\"1\" class=\"dataframe\">\n",
       "  <thead>\n",
       "    <tr style=\"text-align: right;\">\n",
       "      <th></th>\n",
       "      <th>dt</th>\n",
       "      <th>temp</th>\n",
       "      <th>feels_like</th>\n",
       "      <th>pressure</th>\n",
       "      <th>humidity</th>\n",
       "      <th>dew_point</th>\n",
       "      <th>uvi</th>\n",
       "      <th>clouds</th>\n",
       "      <th>visibility</th>\n",
       "      <th>wind_speed</th>\n",
       "      <th>wind_deg</th>\n",
       "      <th>wind_gust</th>\n",
       "      <th>weather</th>\n",
       "      <th>pop</th>\n",
       "      <th>rain</th>\n",
       "    </tr>\n",
       "  </thead>\n",
       "  <tbody>\n",
       "    <tr>\n",
       "      <th>0</th>\n",
       "      <td>1633402800</td>\n",
       "      <td>31.57</td>\n",
       "      <td>37.56</td>\n",
       "      <td>1012</td>\n",
       "      <td>65</td>\n",
       "      <td>24.19</td>\n",
       "      <td>7.64</td>\n",
       "      <td>15</td>\n",
       "      <td>10000</td>\n",
       "      <td>9.07</td>\n",
       "      <td>73</td>\n",
       "      <td>10.41</td>\n",
       "      <td>[{'id': 801, 'main': 'Clouds', 'description': ...</td>\n",
       "      <td>0.17</td>\n",
       "      <td>NaN</td>\n",
       "    </tr>\n",
       "    <tr>\n",
       "      <th>1</th>\n",
       "      <td>1633406400</td>\n",
       "      <td>31.10</td>\n",
       "      <td>36.68</td>\n",
       "      <td>1012</td>\n",
       "      <td>66</td>\n",
       "      <td>23.99</td>\n",
       "      <td>9.11</td>\n",
       "      <td>17</td>\n",
       "      <td>10000</td>\n",
       "      <td>8.88</td>\n",
       "      <td>74</td>\n",
       "      <td>10.08</td>\n",
       "      <td>[{'id': 801, 'main': 'Clouds', 'description': ...</td>\n",
       "      <td>0.13</td>\n",
       "      <td>NaN</td>\n",
       "    </tr>\n",
       "    <tr>\n",
       "      <th>2</th>\n",
       "      <td>1633410000</td>\n",
       "      <td>30.71</td>\n",
       "      <td>36.00</td>\n",
       "      <td>1012</td>\n",
       "      <td>67</td>\n",
       "      <td>23.88</td>\n",
       "      <td>8.95</td>\n",
       "      <td>20</td>\n",
       "      <td>10000</td>\n",
       "      <td>8.82</td>\n",
       "      <td>80</td>\n",
       "      <td>9.41</td>\n",
       "      <td>[{'id': 801, 'main': 'Clouds', 'description': ...</td>\n",
       "      <td>0.13</td>\n",
       "      <td>NaN</td>\n",
       "    </tr>\n",
       "    <tr>\n",
       "      <th>3</th>\n",
       "      <td>1633413600</td>\n",
       "      <td>30.24</td>\n",
       "      <td>34.88</td>\n",
       "      <td>1011</td>\n",
       "      <td>67</td>\n",
       "      <td>23.43</td>\n",
       "      <td>7.26</td>\n",
       "      <td>24</td>\n",
       "      <td>10000</td>\n",
       "      <td>8.48</td>\n",
       "      <td>82</td>\n",
       "      <td>9.17</td>\n",
       "      <td>[{'id': 801, 'main': 'Clouds', 'description': ...</td>\n",
       "      <td>0.11</td>\n",
       "      <td>NaN</td>\n",
       "    </tr>\n",
       "    <tr>\n",
       "      <th>4</th>\n",
       "      <td>1633417200</td>\n",
       "      <td>29.74</td>\n",
       "      <td>33.75</td>\n",
       "      <td>1010</td>\n",
       "      <td>67</td>\n",
       "      <td>22.95</td>\n",
       "      <td>4.75</td>\n",
       "      <td>7</td>\n",
       "      <td>10000</td>\n",
       "      <td>8.02</td>\n",
       "      <td>86</td>\n",
       "      <td>8.84</td>\n",
       "      <td>[{'id': 800, 'main': 'Clear', 'description': '...</td>\n",
       "      <td>0.00</td>\n",
       "      <td>NaN</td>\n",
       "    </tr>\n",
       "  </tbody>\n",
       "</table>\n",
       "</div>"
      ],
      "text/plain": [
       "           dt   temp  feels_like  pressure  humidity  dew_point   uvi  clouds  \\\n",
       "0  1633402800  31.57       37.56      1012        65      24.19  7.64      15   \n",
       "1  1633406400  31.10       36.68      1012        66      23.99  9.11      17   \n",
       "2  1633410000  30.71       36.00      1012        67      23.88  8.95      20   \n",
       "3  1633413600  30.24       34.88      1011        67      23.43  7.26      24   \n",
       "4  1633417200  29.74       33.75      1010        67      22.95  4.75       7   \n",
       "\n",
       "   visibility  wind_speed  wind_deg  wind_gust  \\\n",
       "0       10000        9.07        73      10.41   \n",
       "1       10000        8.88        74      10.08   \n",
       "2       10000        8.82        80       9.41   \n",
       "3       10000        8.48        82       9.17   \n",
       "4       10000        8.02        86       8.84   \n",
       "\n",
       "                                             weather   pop rain  \n",
       "0  [{'id': 801, 'main': 'Clouds', 'description': ...  0.17  NaN  \n",
       "1  [{'id': 801, 'main': 'Clouds', 'description': ...  0.13  NaN  \n",
       "2  [{'id': 801, 'main': 'Clouds', 'description': ...  0.13  NaN  \n",
       "3  [{'id': 801, 'main': 'Clouds', 'description': ...  0.11  NaN  \n",
       "4  [{'id': 800, 'main': 'Clear', 'description': '...  0.00  NaN  "
      ]
     },
     "execution_count": 10,
     "metadata": {},
     "output_type": "execute_result"
    }
   ],
   "source": [
    "df_hourly.head()"
   ]
  },
  {
   "cell_type": "code",
   "execution_count": null,
   "metadata": {},
   "outputs": [],
   "source": []
  }
 ],
 "metadata": {
  "interpreter": {
   "hash": "c1b4cfe941b6d2466ad1fb5979e97da9cda8801728c8091b097ab734208fc00c"
  },
  "kernelspec": {
   "display_name": "Python 3.8.3 64-bit ('base': conda)",
   "name": "python3"
  },
  "language_info": {
   "codemirror_mode": {
    "name": "ipython",
    "version": 3
   },
   "file_extension": ".py",
   "mimetype": "text/x-python",
   "name": "python",
   "nbconvert_exporter": "python",
   "pygments_lexer": "ipython3",
   "version": "3.8.12"
  }
 },
 "nbformat": 4,
 "nbformat_minor": 2
}
