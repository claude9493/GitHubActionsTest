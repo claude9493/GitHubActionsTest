{
 "cells": [
  {
   "cell_type": "code",
   "execution_count": 1,
   "metadata": {
    "execution": {
     "iopub.execute_input": "2021-09-06T06:47:05.282832Z",
     "iopub.status.busy": "2021-09-06T06:47:05.282173Z",
     "iopub.status.idle": "2021-09-06T06:47:06.644214Z",
     "shell.execute_reply": "2021-09-06T06:47:06.643503Z"
    }
   },
   "outputs": [],
   "source": [
    "import json, yaml, requests\r\n",
    "from datetime import datetime\r\n",
    "from dateutil import tz\r\n",
    "import pandas as pd\r\n",
    "from PIL import Image\r\n",
    "from io import BytesIO\r\n",
    "import matplotlib.pyplot as plt\r\n",
    "import seaborn\r\n",
    "\r\n",
    "CONFIG_PATH = \"../config/config.yaml\""
   ]
  },
  {
   "cell_type": "code",
   "execution_count": 2,
   "metadata": {
    "execution": {
     "iopub.execute_input": "2021-09-06T06:47:06.651277Z",
     "iopub.status.busy": "2021-09-06T06:47:06.648397Z",
     "iopub.status.idle": "2021-09-06T06:47:06.654569Z",
     "shell.execute_reply": "2021-09-06T06:47:06.654192Z"
    }
   },
   "outputs": [],
   "source": [
    "with open('../newest_ts', 'r') as f:\r\n",
    "    newest_ts = f.read()\r\n",
    "\r\n",
    "data_path = f\"../data/data_{newest_ts}.json\"\r\n",
    "with open(data_path, 'r') as f:\r\n",
    "    data = json.load(f)\r\n",
    "\r\n",
    "with open(CONFIG_PATH, \"r\") as stream:\r\n",
    "    config = yaml.safe_load(stream)\r\n",
    "\r\n",
    "TIME_ZONE = config['time_zone']\r\n",
    "DATETIME_FORMAT = config['dt_format']"
   ]
  },
  {
   "cell_type": "code",
   "execution_count": 3,
   "metadata": {
    "execution": {
     "iopub.execute_input": "2021-09-06T06:47:06.659121Z",
     "iopub.status.busy": "2021-09-06T06:47:06.658577Z",
     "iopub.status.idle": "2021-09-06T06:47:06.663120Z",
     "shell.execute_reply": "2021-09-06T06:47:06.662679Z"
    }
   },
   "outputs": [
    {
     "name": "stdout",
     "output_type": "stream",
     "text": [
      "Recent query happens at 2021-09-06 14:47:02 (CST).\n"
     ]
    }
   ],
   "source": [
    "def ts2dt(ts, format=DATETIME_FORMAT):\r\n",
    "    dt = (datetime.utcfromtimestamp(int(ts))\r\n",
    "                    .replace(tzinfo=tz.tzutc())\r\n",
    "                    # .astimezone(tz.tzlocal())\r\n",
    "                    .astimezone(tz.gettz(TIME_ZONE)))\r\n",
    "    return dt.strftime(format), dt\r\n",
    "\r\n",
    "_, newest_dt = ts2dt(newest_ts)\r\n",
    "print(f\"Recent query happens at {newest_dt.strftime(DATETIME_FORMAT)} ({newest_dt.tzname()}).\")"
   ]
  },
  {
   "cell_type": "code",
   "execution_count": 4,
   "metadata": {
    "execution": {
     "iopub.execute_input": "2021-09-06T06:47:06.668085Z",
     "iopub.status.busy": "2021-09-06T06:47:06.667028Z",
     "iopub.status.idle": "2021-09-06T06:47:06.668727Z",
     "shell.execute_reply": "2021-09-06T06:47:06.669156Z"
    }
   },
   "outputs": [],
   "source": [
    "def degrees_to_cardinal(d):\r\n",
    "  dirs = ['N', 'NNE', 'NE', 'ENE', 'E', 'ESE', 'SE', 'SSE', 'S', 'SSW', 'SW', 'WSW', 'W', 'WNW', 'NW', 'NNW']\r\n",
    "  ix = int(round(d / (360. / len(dirs))))\r\n",
    "  return dirs[ix % len(dirs)]"
   ]
  },
  {
   "cell_type": "code",
   "execution_count": 5,
   "metadata": {
    "execution": {
     "iopub.execute_input": "2021-09-06T06:47:06.673055Z",
     "iopub.status.busy": "2021-09-06T06:47:06.671987Z",
     "iopub.status.idle": "2021-09-06T06:47:06.673615Z",
     "shell.execute_reply": "2021-09-06T06:47:06.673989Z"
    }
   },
   "outputs": [],
   "source": [
    "# data.keys()"
   ]
  },
  {
   "cell_type": "code",
   "execution_count": 6,
   "metadata": {
    "execution": {
     "iopub.execute_input": "2021-09-06T06:47:06.676959Z",
     "iopub.status.busy": "2021-09-06T06:47:06.676421Z",
     "iopub.status.idle": "2021-09-06T06:47:06.678673Z",
     "shell.execute_reply": "2021-09-06T06:47:06.678241Z"
    }
   },
   "outputs": [],
   "source": [
    "# data['current']"
   ]
  },
  {
   "cell_type": "code",
   "execution_count": 7,
   "metadata": {
    "execution": {
     "iopub.execute_input": "2021-09-06T06:47:06.694976Z",
     "iopub.status.busy": "2021-09-06T06:47:06.680686Z",
     "iopub.status.idle": "2021-09-06T06:47:07.115468Z",
     "shell.execute_reply": "2021-09-06T06:47:07.116163Z"
    }
   },
   "outputs": [
    {
     "data": {
      "image/png": "[encoded data removed]",
      "text/plain": [
       "<Figure size 216x216 with 1 Axes>"
      ]
     },
     "metadata": {
      "needs_background": "light"
     },
     "output_type": "display_data"
    },
    {
     "name": "stdout",
     "output_type": "stream",
     "text": [
      "Today, sun rises at 06:07 and sets at 18:35.\n",
      "Currently, the weather is Rain (heavy intensity rain).\n",
      "The temperature is 31.05°C and it feels like 38.05°C.\n",
      "The UV index is 6.16, humidity is 77%.\n",
      "The pressure is 1009 hPa, percentage of cloud cover is 38%\n",
      "The wind comes from E direction with a speed 4.28 m/s.\n"
     ]
    }
   ],
   "source": [
    "current = data['current']\r\n",
    "\r\n",
    "fig, ax = plt.subplots(figsize=(3, 3))\r\n",
    "icon = requests.get(f\"http://openweathermap.org/img/wn/{current['weather'][0]['icon']}@2x.png\")\r\n",
    "im = Image.open(BytesIO(icon.content))\r\n",
    "plt.imshow(im)\r\n",
    "ax.set_axis_off()\r\n",
    "plt.show()\r\n",
    "\r\n",
    "print(f\"Today, sun rises at {ts2dt(current['sunrise'], '%H:%M')[0]} \\\r\n",
    "and sets at {ts2dt(current['sunset'], '%H:%M')[0]}.\\n\\\r\n",
    "Currently, the weather is {current['weather'][0]['main']} ({current['weather'][0]['description']}).\\n\\\r\n",
    "The temperature is {current['temp']}°C and it feels like {current['feels_like']}°C.\\n\\\r\n",
    "The UV index is {current['uvi']}, humidity is {current['humidity']}%.\\n\\\r\n",
    "The pressure is {current['pressure']} hPa, percentage of cloud cover is {current['clouds']}%\\n\\\r\n",
    "The wind comes from {degrees_to_cardinal(current['wind_deg'])} direction with a speed {current['wind_speed']} m/s.\")"
   ]
  },
  {
   "cell_type": "code",
   "execution_count": 8,
   "metadata": {
    "execution": {
     "iopub.execute_input": "2021-09-06T06:47:07.119496Z",
     "iopub.status.busy": "2021-09-06T06:47:07.118496Z",
     "iopub.status.idle": "2021-09-06T06:47:07.125302Z",
     "shell.execute_reply": "2021-09-06T06:47:07.125896Z"
    }
   },
   "outputs": [],
   "source": [
    "df_hourly = pd.DataFrame(data['hourly'])\r\n",
    "df_daily = pd.DataFrame(data['daily'])"
   ]
  },
  {
   "cell_type": "code",
   "execution_count": 9,
   "metadata": {
    "execution": {
     "iopub.execute_input": "2021-09-06T06:47:07.129088Z",
     "iopub.status.busy": "2021-09-06T06:47:07.128041Z",
     "iopub.status.idle": "2021-09-06T06:47:07.374017Z",
     "shell.execute_reply": "2021-09-06T06:47:07.373619Z"
    }
   },
   "outputs": [
    {
     "data": {
      "image/png": "[encoded data removed]",
      "text/plain": [
       "<Figure size 864x432 with 1 Axes>"
      ]
     },
     "metadata": {
      "needs_background": "light"
     },
     "output_type": "display_data"
    }
   ],
   "source": [
    "fig, ax = plt.subplots(figsize=(12, 6))\r\n",
    "plt.plot(df_hourly.temp, '.-', label='Temperature')\r\n",
    "plt.plot(df_hourly.feels_like, '.-', label='Feels Like')\r\n",
    "ax.set(title='Temperature in future 48 hours', xlabel='Time', ylabel='Temperature')\r\n",
    "ax.set_xticks(list(range(0, len(df_hourly), 2)))\r\n",
    "ax.set_xticklabels([ts2dt(ts, '%m-%d %H:%M')[0] for i, ts in enumerate(df_hourly.dt) if i%2==0], \r\n",
    "                   rotation=45, ha=\"right\")\r\n",
    "ax.locator_params(nbins=15, axis='y')\r\n",
    "plt.legend()\r\n",
    "plt.show()"
   ]
  },
  {
   "cell_type": "code",
   "execution_count": 10,
   "metadata": {
    "execution": {
     "iopub.execute_input": "2021-09-06T06:47:07.384759Z",
     "iopub.status.busy": "2021-09-06T06:47:07.377665Z",
     "iopub.status.idle": "2021-09-06T06:47:07.395137Z",
     "shell.execute_reply": "2021-09-06T06:47:07.395518Z"
    }
   },
   "outputs": [
    {
     "data": {
      "text/html": [
       "<div>\n",
       "<style scoped>\n",
       "    .dataframe tbody tr th:only-of-type {\n",
       "        vertical-align: middle;\n",
       "    }\n",
       "\n",
       "    .dataframe tbody tr th {\n",
       "        vertical-align: top;\n",
       "    }\n",
       "\n",
       "    .dataframe thead th {\n",
       "        text-align: right;\n",
       "    }\n",
       "</style>\n",
       "<table border=\"1\" class=\"dataframe\">\n",
       "  <thead>\n",
       "    <tr style=\"text-align: right;\">\n",
       "      <th></th>\n",
       "      <th>dt</th>\n",
       "      <th>temp</th>\n",
       "      <th>feels_like</th>\n",
       "      <th>pressure</th>\n",
       "      <th>humidity</th>\n",
       "      <th>dew_point</th>\n",
       "      <th>uvi</th>\n",
       "      <th>clouds</th>\n",
       "      <th>visibility</th>\n",
       "      <th>wind_speed</th>\n",
       "      <th>wind_deg</th>\n",
       "      <th>wind_gust</th>\n",
       "      <th>weather</th>\n",
       "      <th>pop</th>\n",
       "      <th>rain</th>\n",
       "    </tr>\n",
       "  </thead>\n",
       "  <tbody>\n",
       "    <tr>\n",
       "      <th>0</th>\n",
       "      <td>1630908000</td>\n",
       "      <td>30.90</td>\n",
       "      <td>37.90</td>\n",
       "      <td>1009</td>\n",
       "      <td>75</td>\n",
       "      <td>25.95</td>\n",
       "      <td>8.53</td>\n",
       "      <td>36</td>\n",
       "      <td>10000</td>\n",
       "      <td>4.32</td>\n",
       "      <td>97</td>\n",
       "      <td>4.97</td>\n",
       "      <td>[{'id': 500, 'main': 'Rain', 'description': 'l...</td>\n",
       "      <td>0.88</td>\n",
       "      <td>{'1h': 0.11}</td>\n",
       "    </tr>\n",
       "    <tr>\n",
       "      <th>1</th>\n",
       "      <td>1630911600</td>\n",
       "      <td>31.05</td>\n",
       "      <td>38.05</td>\n",
       "      <td>1009</td>\n",
       "      <td>77</td>\n",
       "      <td>26.54</td>\n",
       "      <td>6.16</td>\n",
       "      <td>38</td>\n",
       "      <td>10000</td>\n",
       "      <td>4.28</td>\n",
       "      <td>100</td>\n",
       "      <td>4.97</td>\n",
       "      <td>[{'id': 501, 'main': 'Rain', 'description': 'm...</td>\n",
       "      <td>0.61</td>\n",
       "      <td>{'1h': 3.16}</td>\n",
       "    </tr>\n",
       "    <tr>\n",
       "      <th>2</th>\n",
       "      <td>1630915200</td>\n",
       "      <td>30.78</td>\n",
       "      <td>37.78</td>\n",
       "      <td>1009</td>\n",
       "      <td>76</td>\n",
       "      <td>26.06</td>\n",
       "      <td>3.18</td>\n",
       "      <td>39</td>\n",
       "      <td>10000</td>\n",
       "      <td>4.28</td>\n",
       "      <td>95</td>\n",
       "      <td>5.38</td>\n",
       "      <td>[{'id': 501, 'main': 'Rain', 'description': 'm...</td>\n",
       "      <td>0.53</td>\n",
       "      <td>{'1h': 2.37}</td>\n",
       "    </tr>\n",
       "    <tr>\n",
       "      <th>3</th>\n",
       "      <td>1630918800</td>\n",
       "      <td>30.39</td>\n",
       "      <td>37.39</td>\n",
       "      <td>1009</td>\n",
       "      <td>76</td>\n",
       "      <td>25.68</td>\n",
       "      <td>1.11</td>\n",
       "      <td>39</td>\n",
       "      <td>10000</td>\n",
       "      <td>4.24</td>\n",
       "      <td>90</td>\n",
       "      <td>5.59</td>\n",
       "      <td>[{'id': 802, 'main': 'Clouds', 'description': ...</td>\n",
       "      <td>0.46</td>\n",
       "      <td>NaN</td>\n",
       "    </tr>\n",
       "    <tr>\n",
       "      <th>4</th>\n",
       "      <td>1630922400</td>\n",
       "      <td>29.69</td>\n",
       "      <td>36.47</td>\n",
       "      <td>1009</td>\n",
       "      <td>79</td>\n",
       "      <td>25.66</td>\n",
       "      <td>0.19</td>\n",
       "      <td>37</td>\n",
       "      <td>10000</td>\n",
       "      <td>4.28</td>\n",
       "      <td>88</td>\n",
       "      <td>6.05</td>\n",
       "      <td>[{'id': 500, 'main': 'Rain', 'description': 'l...</td>\n",
       "      <td>0.50</td>\n",
       "      <td>{'1h': 0.44}</td>\n",
       "    </tr>\n",
       "  </tbody>\n",
       "</table>\n",
       "</div>"
      ],
      "text/plain": [
       "           dt   temp  feels_like  pressure  humidity  dew_point   uvi  clouds  \\\n",
       "0  1630908000  30.90       37.90      1009        75      25.95  8.53      36   \n",
       "1  1630911600  31.05       38.05      1009        77      26.54  6.16      38   \n",
       "2  1630915200  30.78       37.78      1009        76      26.06  3.18      39   \n",
       "3  1630918800  30.39       37.39      1009        76      25.68  1.11      39   \n",
       "4  1630922400  29.69       36.47      1009        79      25.66  0.19      37   \n",
       "\n",
       "   visibility  wind_speed  wind_deg  wind_gust  \\\n",
       "0       10000        4.32        97       4.97   \n",
       "1       10000        4.28       100       4.97   \n",
       "2       10000        4.28        95       5.38   \n",
       "3       10000        4.24        90       5.59   \n",
       "4       10000        4.28        88       6.05   \n",
       "\n",
       "                                             weather   pop          rain  \n",
       "0  [{'id': 500, 'main': 'Rain', 'description': 'l...  0.88  {'1h': 0.11}  \n",
       "1  [{'id': 501, 'main': 'Rain', 'description': 'm...  0.61  {'1h': 3.16}  \n",
       "2  [{'id': 501, 'main': 'Rain', 'description': 'm...  0.53  {'1h': 2.37}  \n",
       "3  [{'id': 802, 'main': 'Clouds', 'description': ...  0.46           NaN  \n",
       "4  [{'id': 500, 'main': 'Rain', 'description': 'l...  0.50  {'1h': 0.44}  "
      ]
     },
     "execution_count": 10,
     "metadata": {},
     "output_type": "execute_result"
    }
   ],
   "source": [
    "df_hourly.head()"
   ]
  },
  {
   "cell_type": "code",
   "execution_count": null,
   "metadata": {},
   "outputs": [],
   "source": []
  }
 ],
 "metadata": {
  "interpreter": {
   "hash": "c1b4cfe941b6d2466ad1fb5979e97da9cda8801728c8091b097ab734208fc00c"
  },
  "kernelspec": {
   "display_name": "Python 3.8.3 64-bit ('base': conda)",
   "name": "python3"
  },
  "language_info": {
   "codemirror_mode": {
    "name": "ipython",
    "version": 3
   },
   "file_extension": ".py",
   "mimetype": "text/x-python",
   "name": "python",
   "nbconvert_exporter": "python",
   "pygments_lexer": "ipython3",
   "version": "3.8.11"
  }
 },
 "nbformat": 4,
 "nbformat_minor": 2
}
