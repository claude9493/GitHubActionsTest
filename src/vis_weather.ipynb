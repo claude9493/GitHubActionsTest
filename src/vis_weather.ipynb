{
 "cells": [
  {
   "cell_type": "code",
   "execution_count": 1,
   "metadata": {
    "execution": {
     "iopub.execute_input": "2021-09-29T01:50:54.277552Z",
     "iopub.status.busy": "2021-09-29T01:50:54.276954Z",
     "iopub.status.idle": "2021-09-29T01:50:57.373611Z",
     "shell.execute_reply": "2021-09-29T01:50:57.372625Z"
    }
   },
   "outputs": [],
   "source": [
    "import json, yaml, requests\r\n",
    "from datetime import datetime\r\n",
    "from dateutil import tz\r\n",
    "import pandas as pd\r\n",
    "from PIL import Image\r\n",
    "from io import BytesIO\r\n",
    "import matplotlib.pyplot as plt\r\n",
    "import seaborn\r\n",
    "\r\n",
    "CONFIG_PATH = \"../config/config.yaml\""
   ]
  },
  {
   "cell_type": "code",
   "execution_count": 2,
   "metadata": {
    "execution": {
     "iopub.execute_input": "2021-09-29T01:50:57.380892Z",
     "iopub.status.busy": "2021-09-29T01:50:57.379348Z",
     "iopub.status.idle": "2021-09-29T01:50:57.385635Z",
     "shell.execute_reply": "2021-09-29T01:50:57.386044Z"
    }
   },
   "outputs": [],
   "source": [
    "with open('../newest_ts', 'r') as f:\r\n",
    "    newest_ts = f.read()\r\n",
    "\r\n",
    "data_path = f\"../data/data_{newest_ts}.json\"\r\n",
    "with open(data_path, 'r') as f:\r\n",
    "    data = json.load(f)\r\n",
    "\r\n",
    "with open(CONFIG_PATH, \"r\") as stream:\r\n",
    "    config = yaml.safe_load(stream)\r\n",
    "\r\n",
    "TIME_ZONE = config['time_zone']\r\n",
    "DATETIME_FORMAT = config['dt_format']"
   ]
  },
  {
   "cell_type": "code",
   "execution_count": 3,
   "metadata": {
    "execution": {
     "iopub.execute_input": "2021-09-29T01:50:57.391150Z",
     "iopub.status.busy": "2021-09-29T01:50:57.390518Z",
     "iopub.status.idle": "2021-09-29T01:50:57.467771Z",
     "shell.execute_reply": "2021-09-29T01:50:57.466850Z"
    }
   },
   "outputs": [
    {
     "name": "stdout",
     "output_type": "stream",
     "text": [
      "Recent query happens at 2021-09-29 09:50:45 (CST).\n"
     ]
    }
   ],
   "source": [
    "def ts2dt(ts, format=DATETIME_FORMAT):\r\n",
    "    dt = (datetime.utcfromtimestamp(int(ts))\r\n",
    "                    .replace(tzinfo=tz.tzutc())\r\n",
    "                    # .astimezone(tz.tzlocal())\r\n",
    "                    .astimezone(tz.gettz(TIME_ZONE)))\r\n",
    "    return dt.strftime(format), dt\r\n",
    "\r\n",
    "_, newest_dt = ts2dt(newest_ts)\r\n",
    "print(f\"Recent query happens at {newest_dt.strftime(DATETIME_FORMAT)} ({newest_dt.tzname()}).\")"
   ]
  },
  {
   "cell_type": "code",
   "execution_count": 4,
   "metadata": {
    "execution": {
     "iopub.execute_input": "2021-09-29T01:50:57.472905Z",
     "iopub.status.busy": "2021-09-29T01:50:57.472323Z",
     "iopub.status.idle": "2021-09-29T01:50:57.475229Z",
     "shell.execute_reply": "2021-09-29T01:50:57.475731Z"
    }
   },
   "outputs": [],
   "source": [
    "def degrees_to_cardinal(d):\r\n",
    "  dirs = ['N', 'NNE', 'NE', 'ENE', 'E', 'ESE', 'SE', 'SSE', 'S', 'SSW', 'SW', 'WSW', 'W', 'WNW', 'NW', 'NNW']\r\n",
    "  ix = int(round(d / (360. / len(dirs))))\r\n",
    "  return dirs[ix % len(dirs)]"
   ]
  },
  {
   "cell_type": "code",
   "execution_count": 5,
   "metadata": {
    "execution": {
     "iopub.execute_input": "2021-09-29T01:50:57.480854Z",
     "iopub.status.busy": "2021-09-29T01:50:57.479448Z",
     "iopub.status.idle": "2021-09-29T01:50:57.481493Z",
     "shell.execute_reply": "2021-09-29T01:50:57.481941Z"
    }
   },
   "outputs": [],
   "source": [
    "# data.keys()"
   ]
  },
  {
   "cell_type": "code",
   "execution_count": 6,
   "metadata": {
    "execution": {
     "iopub.execute_input": "2021-09-29T01:50:57.486802Z",
     "iopub.status.busy": "2021-09-29T01:50:57.485424Z",
     "iopub.status.idle": "2021-09-29T01:50:57.487508Z",
     "shell.execute_reply": "2021-09-29T01:50:57.487981Z"
    }
   },
   "outputs": [],
   "source": [
    "# data['current']"
   ]
  },
  {
   "cell_type": "code",
   "execution_count": 7,
   "metadata": {
    "execution": {
     "iopub.execute_input": "2021-09-29T01:50:57.517295Z",
     "iopub.status.busy": "2021-09-29T01:50:57.516710Z",
     "iopub.status.idle": "2021-09-29T01:50:58.146121Z",
     "shell.execute_reply": "2021-09-29T01:50:58.146842Z"
    }
   },
   "outputs": [
    {
     "data": {
      "image/png": "[encoded data removed]",
      "text/plain": [
       "<Figure size 216x216 with 1 Axes>"
      ]
     },
     "metadata": {
      "needs_background": "light"
     },
     "output_type": "display_data"
    },
    {
     "name": "stdout",
     "output_type": "stream",
     "text": [
      "Today, sun rises at 06:13 and sets at 18:12.\n",
      "Currently, the weather is Clear (clear sky).\n",
      "The temperature is 30.54°C and it feels like 37.54°C.\n",
      "The UV index is 5.57, humidity is 80%.\n",
      "The pressure is 1008 hPa, percentage of cloud cover is 1%\n",
      "The wind comes from SW direction with a speed 1.34 m/s.\n"
     ]
    }
   ],
   "source": [
    "current = data['current']\r\n",
    "\r\n",
    "fig, ax = plt.subplots(figsize=(3, 3))\r\n",
    "icon = requests.get(f\"http://openweathermap.org/img/wn/{current['weather'][0]['icon']}@2x.png\")\r\n",
    "im = Image.open(BytesIO(icon.content))\r\n",
    "plt.imshow(im)\r\n",
    "ax.set_axis_off()\r\n",
    "plt.show()\r\n",
    "\r\n",
    "print(f\"Today, sun rises at {ts2dt(current['sunrise'], '%H:%M')[0]} \\\r\n",
    "and sets at {ts2dt(current['sunset'], '%H:%M')[0]}.\\n\\\r\n",
    "Currently, the weather is {current['weather'][0]['main']} ({current['weather'][0]['description']}).\\n\\\r\n",
    "The temperature is {current['temp']}°C and it feels like {current['feels_like']}°C.\\n\\\r\n",
    "The UV index is {current['uvi']}, humidity is {current['humidity']}%.\\n\\\r\n",
    "The pressure is {current['pressure']} hPa, percentage of cloud cover is {current['clouds']}%\\n\\\r\n",
    "The wind comes from {degrees_to_cardinal(current['wind_deg'])} direction with a speed {current['wind_speed']} m/s.\")"
   ]
  },
  {
   "cell_type": "code",
   "execution_count": 8,
   "metadata": {
    "execution": {
     "iopub.execute_input": "2021-09-29T01:50:58.150270Z",
     "iopub.status.busy": "2021-09-29T01:50:58.149592Z",
     "iopub.status.idle": "2021-09-29T01:50:58.157042Z",
     "shell.execute_reply": "2021-09-29T01:50:58.157749Z"
    }
   },
   "outputs": [],
   "source": [
    "df_hourly = pd.DataFrame(data['hourly'])\r\n",
    "df_daily = pd.DataFrame(data['daily'])"
   ]
  },
  {
   "cell_type": "code",
   "execution_count": 9,
   "metadata": {
    "execution": {
     "iopub.execute_input": "2021-09-29T01:50:58.161208Z",
     "iopub.status.busy": "2021-09-29T01:50:58.159979Z",
     "iopub.status.idle": "2021-09-29T01:50:58.477487Z",
     "shell.execute_reply": "2021-09-29T01:50:58.477896Z"
    }
   },
   "outputs": [
    {
     "data": {
      "image/png": "[encoded data removed]",
      "text/plain": [
       "<Figure size 864x432 with 1 Axes>"
      ]
     },
     "metadata": {
      "needs_background": "light"
     },
     "output_type": "display_data"
    }
   ],
   "source": [
    "fig, ax = plt.subplots(figsize=(12, 6))\r\n",
    "plt.plot(df_hourly.temp, '.-', label='Temperature')\r\n",
    "plt.plot(df_hourly.feels_like, '.-', label='Feels Like')\r\n",
    "ax.set(title='Temperature in future 48 hours', xlabel='Time', ylabel='Temperature')\r\n",
    "ax.set_xticks(list(range(0, len(df_hourly), 2)))\r\n",
    "ax.set_xticklabels([ts2dt(ts, '%m-%d %H:%M')[0] for i, ts in enumerate(df_hourly.dt) if i%2==0], \r\n",
    "                   rotation=45, ha=\"right\")\r\n",
    "ax.locator_params(nbins=15, axis='y')\r\n",
    "plt.legend()\r\n",
    "plt.show()"
   ]
  },
  {
   "cell_type": "code",
   "execution_count": 10,
   "metadata": {
    "execution": {
     "iopub.execute_input": "2021-09-29T01:50:58.482586Z",
     "iopub.status.busy": "2021-09-29T01:50:58.481639Z",
     "iopub.status.idle": "2021-09-29T01:50:58.503745Z",
     "shell.execute_reply": "2021-09-29T01:50:58.504505Z"
    }
   },
   "outputs": [
    {
     "data": {
      "text/html": [
       "<div>\n",
       "<style scoped>\n",
       "    .dataframe tbody tr th:only-of-type {\n",
       "        vertical-align: middle;\n",
       "    }\n",
       "\n",
       "    .dataframe tbody tr th {\n",
       "        vertical-align: top;\n",
       "    }\n",
       "\n",
       "    .dataframe thead th {\n",
       "        text-align: right;\n",
       "    }\n",
       "</style>\n",
       "<table border=\"1\" class=\"dataframe\">\n",
       "  <thead>\n",
       "    <tr style=\"text-align: right;\">\n",
       "      <th></th>\n",
       "      <th>dt</th>\n",
       "      <th>temp</th>\n",
       "      <th>feels_like</th>\n",
       "      <th>pressure</th>\n",
       "      <th>humidity</th>\n",
       "      <th>dew_point</th>\n",
       "      <th>uvi</th>\n",
       "      <th>clouds</th>\n",
       "      <th>visibility</th>\n",
       "      <th>wind_speed</th>\n",
       "      <th>wind_deg</th>\n",
       "      <th>wind_gust</th>\n",
       "      <th>weather</th>\n",
       "      <th>pop</th>\n",
       "      <th>rain</th>\n",
       "    </tr>\n",
       "  </thead>\n",
       "  <tbody>\n",
       "    <tr>\n",
       "      <th>0</th>\n",
       "      <td>1632877200</td>\n",
       "      <td>30.20</td>\n",
       "      <td>37.20</td>\n",
       "      <td>1008</td>\n",
       "      <td>78</td>\n",
       "      <td>25.93</td>\n",
       "      <td>2.92</td>\n",
       "      <td>1</td>\n",
       "      <td>10000</td>\n",
       "      <td>1.43</td>\n",
       "      <td>216</td>\n",
       "      <td>1.51</td>\n",
       "      <td>[{'id': 800, 'main': 'Clear', 'description': '...</td>\n",
       "      <td>0.0</td>\n",
       "      <td>NaN</td>\n",
       "    </tr>\n",
       "    <tr>\n",
       "      <th>1</th>\n",
       "      <td>1632880800</td>\n",
       "      <td>30.54</td>\n",
       "      <td>37.54</td>\n",
       "      <td>1008</td>\n",
       "      <td>80</td>\n",
       "      <td>26.69</td>\n",
       "      <td>5.57</td>\n",
       "      <td>1</td>\n",
       "      <td>10000</td>\n",
       "      <td>1.90</td>\n",
       "      <td>213</td>\n",
       "      <td>1.93</td>\n",
       "      <td>[{'id': 800, 'main': 'Clear', 'description': '...</td>\n",
       "      <td>0.0</td>\n",
       "      <td>NaN</td>\n",
       "    </tr>\n",
       "    <tr>\n",
       "      <th>2</th>\n",
       "      <td>1632884400</td>\n",
       "      <td>30.47</td>\n",
       "      <td>37.47</td>\n",
       "      <td>1008</td>\n",
       "      <td>77</td>\n",
       "      <td>25.98</td>\n",
       "      <td>8.10</td>\n",
       "      <td>2</td>\n",
       "      <td>10000</td>\n",
       "      <td>2.29</td>\n",
       "      <td>215</td>\n",
       "      <td>2.30</td>\n",
       "      <td>[{'id': 500, 'main': 'Rain', 'description': 'l...</td>\n",
       "      <td>0.2</td>\n",
       "      <td>{'1h': 0.1}</td>\n",
       "    </tr>\n",
       "    <tr>\n",
       "      <th>3</th>\n",
       "      <td>1632888000</td>\n",
       "      <td>30.52</td>\n",
       "      <td>37.52</td>\n",
       "      <td>1008</td>\n",
       "      <td>75</td>\n",
       "      <td>25.58</td>\n",
       "      <td>9.51</td>\n",
       "      <td>4</td>\n",
       "      <td>10000</td>\n",
       "      <td>3.11</td>\n",
       "      <td>215</td>\n",
       "      <td>3.03</td>\n",
       "      <td>[{'id': 500, 'main': 'Rain', 'description': 'l...</td>\n",
       "      <td>0.2</td>\n",
       "      <td>{'1h': 0.12}</td>\n",
       "    </tr>\n",
       "    <tr>\n",
       "      <th>4</th>\n",
       "      <td>1632891600</td>\n",
       "      <td>30.47</td>\n",
       "      <td>36.76</td>\n",
       "      <td>1008</td>\n",
       "      <td>72</td>\n",
       "      <td>24.85</td>\n",
       "      <td>9.34</td>\n",
       "      <td>9</td>\n",
       "      <td>10000</td>\n",
       "      <td>3.92</td>\n",
       "      <td>212</td>\n",
       "      <td>3.54</td>\n",
       "      <td>[{'id': 800, 'main': 'Clear', 'description': '...</td>\n",
       "      <td>0.0</td>\n",
       "      <td>NaN</td>\n",
       "    </tr>\n",
       "  </tbody>\n",
       "</table>\n",
       "</div>"
      ],
      "text/plain": [
       "           dt   temp  feels_like  pressure  humidity  dew_point   uvi  clouds  \\\n",
       "0  1632877200  30.20       37.20      1008        78      25.93  2.92       1   \n",
       "1  1632880800  30.54       37.54      1008        80      26.69  5.57       1   \n",
       "2  1632884400  30.47       37.47      1008        77      25.98  8.10       2   \n",
       "3  1632888000  30.52       37.52      1008        75      25.58  9.51       4   \n",
       "4  1632891600  30.47       36.76      1008        72      24.85  9.34       9   \n",
       "\n",
       "   visibility  wind_speed  wind_deg  wind_gust  \\\n",
       "0       10000        1.43       216       1.51   \n",
       "1       10000        1.90       213       1.93   \n",
       "2       10000        2.29       215       2.30   \n",
       "3       10000        3.11       215       3.03   \n",
       "4       10000        3.92       212       3.54   \n",
       "\n",
       "                                             weather  pop          rain  \n",
       "0  [{'id': 800, 'main': 'Clear', 'description': '...  0.0           NaN  \n",
       "1  [{'id': 800, 'main': 'Clear', 'description': '...  0.0           NaN  \n",
       "2  [{'id': 500, 'main': 'Rain', 'description': 'l...  0.2   {'1h': 0.1}  \n",
       "3  [{'id': 500, 'main': 'Rain', 'description': 'l...  0.2  {'1h': 0.12}  \n",
       "4  [{'id': 800, 'main': 'Clear', 'description': '...  0.0           NaN  "
      ]
     },
     "execution_count": 10,
     "metadata": {},
     "output_type": "execute_result"
    }
   ],
   "source": [
    "df_hourly.head()"
   ]
  },
  {
   "cell_type": "code",
   "execution_count": null,
   "metadata": {},
   "outputs": [],
   "source": []
  }
 ],
 "metadata": {
  "interpreter": {
   "hash": "c1b4cfe941b6d2466ad1fb5979e97da9cda8801728c8091b097ab734208fc00c"
  },
  "kernelspec": {
   "display_name": "Python 3.8.3 64-bit ('base': conda)",
   "name": "python3"
  },
  "language_info": {
   "codemirror_mode": {
    "name": "ipython",
    "version": 3
   },
   "file_extension": ".py",
   "mimetype": "text/x-python",
   "name": "python",
   "nbconvert_exporter": "python",
   "pygments_lexer": "ipython3",
   "version": "3.8.12"
  }
 },
 "nbformat": 4,
 "nbformat_minor": 2
}
