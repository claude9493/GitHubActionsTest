{
 "cells": [
  {
   "cell_type": "code",
   "execution_count": 1,
   "metadata": {
    "execution": {
     "iopub.execute_input": "2021-09-01T21:13:37.204850Z",
     "iopub.status.busy": "2021-09-01T21:13:37.204220Z",
     "iopub.status.idle": "2021-09-01T21:13:40.862546Z",
     "shell.execute_reply": "2021-09-01T21:13:40.861382Z"
    }
   },
   "outputs": [],
   "source": [
    "import json, yaml, requests\r\n",
    "from datetime import datetime\r\n",
    "from dateutil import tz\r\n",
    "import pandas as pd\r\n",
    "from PIL import Image\r\n",
    "from io import BytesIO\r\n",
    "import matplotlib.pyplot as plt\r\n",
    "import seaborn\r\n",
    "\r\n",
    "CONFIG_PATH = \"../config/config.yaml\""
   ]
  },
  {
   "cell_type": "code",
   "execution_count": 2,
   "metadata": {
    "execution": {
     "iopub.execute_input": "2021-09-01T21:13:40.868529Z",
     "iopub.status.busy": "2021-09-01T21:13:40.867930Z",
     "iopub.status.idle": "2021-09-01T21:13:40.873547Z",
     "shell.execute_reply": "2021-09-01T21:13:40.872824Z"
    }
   },
   "outputs": [],
   "source": [
    "with open('../newest_ts', 'r') as f:\r\n",
    "    newest_ts = f.read()\r\n",
    "\r\n",
    "data_path = f\"../data/data_{newest_ts}.json\"\r\n",
    "with open(data_path, 'r') as f:\r\n",
    "    data = json.load(f)\r\n",
    "\r\n",
    "with open(CONFIG_PATH, \"r\") as stream:\r\n",
    "    config = yaml.safe_load(stream)\r\n",
    "\r\n",
    "TIME_ZONE = config['time_zone']\r\n",
    "DATETIME_FORMAT = config['dt_format']"
   ]
  },
  {
   "cell_type": "code",
   "execution_count": 3,
   "metadata": {
    "execution": {
     "iopub.execute_input": "2021-09-01T21:13:40.878699Z",
     "iopub.status.busy": "2021-09-01T21:13:40.877977Z",
     "iopub.status.idle": "2021-09-01T21:13:40.888163Z",
     "shell.execute_reply": "2021-09-01T21:13:40.888651Z"
    }
   },
   "outputs": [
    {
     "name": "stdout",
     "output_type": "stream",
     "text": [
      "Recent query happens at 2021-09-02 05:13:33 (CST).\n"
     ]
    }
   ],
   "source": [
    "def ts2dt(ts, format=DATETIME_FORMAT):\r\n",
    "    dt = (datetime.utcfromtimestamp(int(ts))\r\n",
    "                    .replace(tzinfo=tz.tzutc())\r\n",
    "                    # .astimezone(tz.tzlocal())\r\n",
    "                    .astimezone(tz.gettz(TIME_ZONE)))\r\n",
    "    return dt.strftime(format), dt\r\n",
    "\r\n",
    "_, newest_dt = ts2dt(newest_ts)\r\n",
    "print(f\"Recent query happens at {newest_dt.strftime(DATETIME_FORMAT)} ({newest_dt.tzname()}).\")"
   ]
  },
  {
   "cell_type": "code",
   "execution_count": 4,
   "metadata": {
    "execution": {
     "iopub.execute_input": "2021-09-01T21:13:40.893686Z",
     "iopub.status.busy": "2021-09-01T21:13:40.893079Z",
     "iopub.status.idle": "2021-09-01T21:13:40.895678Z",
     "shell.execute_reply": "2021-09-01T21:13:40.895143Z"
    }
   },
   "outputs": [],
   "source": [
    "def degrees_to_cardinal(d):\r\n",
    "  dirs = ['N', 'NNE', 'NE', 'ENE', 'E', 'ESE', 'SE', 'SSE', 'S', 'SSW', 'SW', 'WSW', 'W', 'WNW', 'NW', 'NNW']\r\n",
    "  ix = int(round(d / (360. / len(dirs))))\r\n",
    "  return dirs[ix % len(dirs)]"
   ]
  },
  {
   "cell_type": "code",
   "execution_count": 5,
   "metadata": {
    "execution": {
     "iopub.execute_input": "2021-09-01T21:13:40.900615Z",
     "iopub.status.busy": "2021-09-01T21:13:40.899160Z",
     "iopub.status.idle": "2021-09-01T21:13:40.901276Z",
     "shell.execute_reply": "2021-09-01T21:13:40.901773Z"
    }
   },
   "outputs": [],
   "source": [
    "# data.keys()"
   ]
  },
  {
   "cell_type": "code",
   "execution_count": 6,
   "metadata": {
    "execution": {
     "iopub.execute_input": "2021-09-01T21:13:40.906514Z",
     "iopub.status.busy": "2021-09-01T21:13:40.905132Z",
     "iopub.status.idle": "2021-09-01T21:13:40.907147Z",
     "shell.execute_reply": "2021-09-01T21:13:40.907672Z"
    }
   },
   "outputs": [],
   "source": [
    "# data['current']"
   ]
  },
  {
   "cell_type": "code",
   "execution_count": 7,
   "metadata": {
    "execution": {
     "iopub.execute_input": "2021-09-01T21:13:40.929094Z",
     "iopub.status.busy": "2021-09-01T21:13:40.928484Z",
     "iopub.status.idle": "2021-09-01T21:13:41.380148Z",
     "shell.execute_reply": "2021-09-01T21:13:41.380785Z"
    }
   },
   "outputs": [
    {
     "data": {
      "image/png": "[encoded data removed]",
      "text/plain": [
       "<Figure size 216x216 with 1 Axes>"
      ]
     },
     "metadata": {
      "needs_background": "light"
     },
     "output_type": "display_data"
    },
    {
     "name": "stdout",
     "output_type": "stream",
     "text": [
      "Today, sun rises at 06:06 and sets at 18:39.\n",
      "Currently, the weather is Clouds (scattered clouds).\n",
      "The temperature is 28.6°C and it feels like 34.64°C.\n",
      "The UV index is 0, humidity is 85%.\n",
      "The pressure is 1008 hPa, percentage of cloud cover is 29%\n",
      "The wind comes from E direction with a speed 4.3 m/s.\n"
     ]
    }
   ],
   "source": [
    "current = data['current']\r\n",
    "\r\n",
    "fig, ax = plt.subplots(figsize=(3, 3))\r\n",
    "icon = requests.get(f\"http://openweathermap.org/img/wn/{current['weather'][0]['icon']}@2x.png\")\r\n",
    "im = Image.open(BytesIO(icon.content))\r\n",
    "plt.imshow(im)\r\n",
    "ax.set_axis_off()\r\n",
    "plt.show()\r\n",
    "\r\n",
    "print(f\"Today, sun rises at {ts2dt(current['sunrise'], '%H:%M')[0]} \\\r\n",
    "and sets at {ts2dt(current['sunset'], '%H:%M')[0]}.\\n\\\r\n",
    "Currently, the weather is {current['weather'][0]['main']} ({current['weather'][0]['description']}).\\n\\\r\n",
    "The temperature is {current['temp']}°C and it feels like {current['feels_like']}°C.\\n\\\r\n",
    "The UV index is {current['uvi']}, humidity is {current['humidity']}%.\\n\\\r\n",
    "The pressure is {current['pressure']} hPa, percentage of cloud cover is {current['clouds']}%\\n\\\r\n",
    "The wind comes from {degrees_to_cardinal(current['wind_deg'])} direction with a speed {current['wind_speed']} m/s.\")"
   ]
  },
  {
   "cell_type": "code",
   "execution_count": 8,
   "metadata": {
    "execution": {
     "iopub.execute_input": "2021-09-01T21:13:41.383710Z",
     "iopub.status.busy": "2021-09-01T21:13:41.383059Z",
     "iopub.status.idle": "2021-09-01T21:13:41.390481Z",
     "shell.execute_reply": "2021-09-01T21:13:41.391367Z"
    }
   },
   "outputs": [],
   "source": [
    "df_hourly = pd.DataFrame(data['hourly'])\r\n",
    "df_daily = pd.DataFrame(data['daily'])"
   ]
  },
  {
   "cell_type": "code",
   "execution_count": 9,
   "metadata": {
    "execution": {
     "iopub.execute_input": "2021-09-01T21:13:41.394679Z",
     "iopub.status.busy": "2021-09-01T21:13:41.393605Z",
     "iopub.status.idle": "2021-09-01T21:13:41.714342Z",
     "shell.execute_reply": "2021-09-01T21:13:41.713829Z"
    }
   },
   "outputs": [
    {
     "data": {
      "image/png": "[encoded data removed]",
      "text/plain": [
       "<Figure size 864x432 with 1 Axes>"
      ]
     },
     "metadata": {
      "needs_background": "light"
     },
     "output_type": "display_data"
    }
   ],
   "source": [
    "fig, ax = plt.subplots(figsize=(12, 6))\r\n",
    "plt.plot(df_hourly.temp, '.-', label='Temperature')\r\n",
    "plt.plot(df_hourly.feels_like, '.-', label='Feels Like')\r\n",
    "ax.set(title='Temperature in future 48 hours', xlabel='Time', ylabel='Temperature')\r\n",
    "ax.set_xticks(list(range(0, len(df_hourly), 2)))\r\n",
    "ax.set_xticklabels([ts2dt(ts, '%m-%d %H:%M')[0] for i, ts in enumerate(df_hourly.dt) if i%2==0], \r\n",
    "                   rotation=45, ha=\"right\")\r\n",
    "ax.locator_params(nbins=15, axis='y')\r\n",
    "plt.legend()\r\n",
    "plt.show()"
   ]
  },
  {
   "cell_type": "code",
   "execution_count": 10,
   "metadata": {
    "execution": {
     "iopub.execute_input": "2021-09-01T21:13:41.727193Z",
     "iopub.status.busy": "2021-09-01T21:13:41.718406Z",
     "iopub.status.idle": "2021-09-01T21:13:41.739425Z",
     "shell.execute_reply": "2021-09-01T21:13:41.739910Z"
    }
   },
   "outputs": [
    {
     "data": {
      "text/html": [
       "<div>\n",
       "<style scoped>\n",
       "    .dataframe tbody tr th:only-of-type {\n",
       "        vertical-align: middle;\n",
       "    }\n",
       "\n",
       "    .dataframe tbody tr th {\n",
       "        vertical-align: top;\n",
       "    }\n",
       "\n",
       "    .dataframe thead th {\n",
       "        text-align: right;\n",
       "    }\n",
       "</style>\n",
       "<table border=\"1\" class=\"dataframe\">\n",
       "  <thead>\n",
       "    <tr style=\"text-align: right;\">\n",
       "      <th></th>\n",
       "      <th>dt</th>\n",
       "      <th>temp</th>\n",
       "      <th>feels_like</th>\n",
       "      <th>pressure</th>\n",
       "      <th>humidity</th>\n",
       "      <th>dew_point</th>\n",
       "      <th>uvi</th>\n",
       "      <th>clouds</th>\n",
       "      <th>visibility</th>\n",
       "      <th>wind_speed</th>\n",
       "      <th>wind_deg</th>\n",
       "      <th>wind_gust</th>\n",
       "      <th>weather</th>\n",
       "      <th>pop</th>\n",
       "      <th>rain</th>\n",
       "    </tr>\n",
       "  </thead>\n",
       "  <tbody>\n",
       "    <tr>\n",
       "      <th>0</th>\n",
       "      <td>1630530000</td>\n",
       "      <td>28.60</td>\n",
       "      <td>34.64</td>\n",
       "      <td>1008</td>\n",
       "      <td>85</td>\n",
       "      <td>25.83</td>\n",
       "      <td>0.00</td>\n",
       "      <td>29</td>\n",
       "      <td>10000</td>\n",
       "      <td>4.30</td>\n",
       "      <td>91</td>\n",
       "      <td>6.13</td>\n",
       "      <td>[{'id': 802, 'main': 'Clouds', 'description': ...</td>\n",
       "      <td>0.00</td>\n",
       "      <td>NaN</td>\n",
       "    </tr>\n",
       "    <tr>\n",
       "      <th>1</th>\n",
       "      <td>1630533600</td>\n",
       "      <td>28.37</td>\n",
       "      <td>33.96</td>\n",
       "      <td>1008</td>\n",
       "      <td>85</td>\n",
       "      <td>25.60</td>\n",
       "      <td>0.00</td>\n",
       "      <td>29</td>\n",
       "      <td>10000</td>\n",
       "      <td>4.25</td>\n",
       "      <td>93</td>\n",
       "      <td>5.91</td>\n",
       "      <td>[{'id': 802, 'main': 'Clouds', 'description': ...</td>\n",
       "      <td>0.08</td>\n",
       "      <td>NaN</td>\n",
       "    </tr>\n",
       "    <tr>\n",
       "      <th>2</th>\n",
       "      <td>1630537200</td>\n",
       "      <td>28.28</td>\n",
       "      <td>33.52</td>\n",
       "      <td>1008</td>\n",
       "      <td>84</td>\n",
       "      <td>25.32</td>\n",
       "      <td>0.32</td>\n",
       "      <td>30</td>\n",
       "      <td>10000</td>\n",
       "      <td>4.07</td>\n",
       "      <td>95</td>\n",
       "      <td>5.72</td>\n",
       "      <td>[{'id': 802, 'main': 'Clouds', 'description': ...</td>\n",
       "      <td>0.10</td>\n",
       "      <td>NaN</td>\n",
       "    </tr>\n",
       "    <tr>\n",
       "      <th>3</th>\n",
       "      <td>1630540800</td>\n",
       "      <td>28.46</td>\n",
       "      <td>33.65</td>\n",
       "      <td>1009</td>\n",
       "      <td>82</td>\n",
       "      <td>25.09</td>\n",
       "      <td>1.46</td>\n",
       "      <td>31</td>\n",
       "      <td>10000</td>\n",
       "      <td>4.08</td>\n",
       "      <td>99</td>\n",
       "      <td>5.62</td>\n",
       "      <td>[{'id': 500, 'main': 'Rain', 'description': 'l...</td>\n",
       "      <td>0.39</td>\n",
       "      <td>{'1h': 0.18}</td>\n",
       "    </tr>\n",
       "    <tr>\n",
       "      <th>4</th>\n",
       "      <td>1630544400</td>\n",
       "      <td>28.62</td>\n",
       "      <td>33.70</td>\n",
       "      <td>1010</td>\n",
       "      <td>80</td>\n",
       "      <td>24.83</td>\n",
       "      <td>3.61</td>\n",
       "      <td>31</td>\n",
       "      <td>10000</td>\n",
       "      <td>4.38</td>\n",
       "      <td>104</td>\n",
       "      <td>5.50</td>\n",
       "      <td>[{'id': 500, 'main': 'Rain', 'description': 'l...</td>\n",
       "      <td>0.66</td>\n",
       "      <td>{'1h': 0.54}</td>\n",
       "    </tr>\n",
       "  </tbody>\n",
       "</table>\n",
       "</div>"
      ],
      "text/plain": [
       "           dt   temp  feels_like  pressure  humidity  dew_point   uvi  clouds  \\\n",
       "0  1630530000  28.60       34.64      1008        85      25.83  0.00      29   \n",
       "1  1630533600  28.37       33.96      1008        85      25.60  0.00      29   \n",
       "2  1630537200  28.28       33.52      1008        84      25.32  0.32      30   \n",
       "3  1630540800  28.46       33.65      1009        82      25.09  1.46      31   \n",
       "4  1630544400  28.62       33.70      1010        80      24.83  3.61      31   \n",
       "\n",
       "   visibility  wind_speed  wind_deg  wind_gust  \\\n",
       "0       10000        4.30        91       6.13   \n",
       "1       10000        4.25        93       5.91   \n",
       "2       10000        4.07        95       5.72   \n",
       "3       10000        4.08        99       5.62   \n",
       "4       10000        4.38       104       5.50   \n",
       "\n",
       "                                             weather   pop          rain  \n",
       "0  [{'id': 802, 'main': 'Clouds', 'description': ...  0.00           NaN  \n",
       "1  [{'id': 802, 'main': 'Clouds', 'description': ...  0.08           NaN  \n",
       "2  [{'id': 802, 'main': 'Clouds', 'description': ...  0.10           NaN  \n",
       "3  [{'id': 500, 'main': 'Rain', 'description': 'l...  0.39  {'1h': 0.18}  \n",
       "4  [{'id': 500, 'main': 'Rain', 'description': 'l...  0.66  {'1h': 0.54}  "
      ]
     },
     "execution_count": 10,
     "metadata": {},
     "output_type": "execute_result"
    }
   ],
   "source": [
    "df_hourly.head()"
   ]
  },
  {
   "cell_type": "code",
   "execution_count": null,
   "metadata": {},
   "outputs": [],
   "source": []
  }
 ],
 "metadata": {
  "interpreter": {
   "hash": "c1b4cfe941b6d2466ad1fb5979e97da9cda8801728c8091b097ab734208fc00c"
  },
  "kernelspec": {
   "display_name": "Python 3.8.3 64-bit ('base': conda)",
   "name": "python3"
  },
  "language_info": {
   "codemirror_mode": {
    "name": "ipython",
    "version": 3
   },
   "file_extension": ".py",
   "mimetype": "text/x-python",
   "name": "python",
   "nbconvert_exporter": "python",
   "pygments_lexer": "ipython3",
   "version": "3.8.11"
  }
 },
 "nbformat": 4,
 "nbformat_minor": 2
}
