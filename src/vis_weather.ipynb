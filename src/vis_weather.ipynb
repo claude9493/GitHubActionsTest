{
 "cells": [
  {
   "cell_type": "code",
   "execution_count": 1,
   "metadata": {
    "execution": {
     "iopub.execute_input": "2021-08-29T00:51:38.640144Z",
     "iopub.status.busy": "2021-08-29T00:51:38.639574Z",
     "iopub.status.idle": "2021-08-29T00:51:39.765659Z",
     "shell.execute_reply": "2021-08-29T00:51:39.765056Z"
    }
   },
   "outputs": [],
   "source": [
    "import json, yaml, requests\r\n",
    "from datetime import datetime\r\n",
    "from dateutil import tz\r\n",
    "import pandas as pd\r\n",
    "from PIL import Image\r\n",
    "from io import BytesIO\r\n",
    "import matplotlib.pyplot as plt\r\n",
    "import seaborn\r\n",
    "\r\n",
    "CONFIG_PATH = \"../config/config.yaml\""
   ]
  },
  {
   "cell_type": "code",
   "execution_count": 2,
   "metadata": {
    "execution": {
     "iopub.execute_input": "2021-08-29T00:51:39.772714Z",
     "iopub.status.busy": "2021-08-29T00:51:39.770021Z",
     "iopub.status.idle": "2021-08-29T00:51:39.775609Z",
     "shell.execute_reply": "2021-08-29T00:51:39.775961Z"
    }
   },
   "outputs": [],
   "source": [
    "with open('../newest_ts', 'r') as f:\r\n",
    "    newest_ts = f.read()\r\n",
    "\r\n",
    "data_path = f\"../data/data_{newest_ts}.json\"\r\n",
    "with open(data_path, 'r') as f:\r\n",
    "    data = json.load(f)\r\n",
    "\r\n",
    "with open(CONFIG_PATH, \"r\") as stream:\r\n",
    "    config = yaml.safe_load(stream)\r\n",
    "\r\n",
    "TIME_ZONE = config['time_zone']\r\n",
    "DATETIME_FORMAT = config['dt_format']"
   ]
  },
  {
   "cell_type": "code",
   "execution_count": 3,
   "metadata": {
    "execution": {
     "iopub.execute_input": "2021-08-29T00:51:39.781076Z",
     "iopub.status.busy": "2021-08-29T00:51:39.779635Z",
     "iopub.status.idle": "2021-08-29T00:51:39.783722Z",
     "shell.execute_reply": "2021-08-29T00:51:39.784094Z"
    }
   },
   "outputs": [
    {
     "name": "stdout",
     "output_type": "stream",
     "text": [
      "Recent query happens at 2021-08-29 08:51:36 (CST).\n"
     ]
    }
   ],
   "source": [
    "def ts2dt(ts, format=DATETIME_FORMAT):\r\n",
    "    dt = (datetime.utcfromtimestamp(int(ts))\r\n",
    "                    .replace(tzinfo=tz.tzutc())\r\n",
    "                    # .astimezone(tz.tzlocal())\r\n",
    "                    .astimezone(tz.gettz(TIME_ZONE)))\r\n",
    "    return dt.strftime(format), dt\r\n",
    "\r\n",
    "_, newest_dt = ts2dt(newest_ts)\r\n",
    "print(f\"Recent query happens at {newest_dt.strftime(DATETIME_FORMAT)} ({newest_dt.tzname()}).\")"
   ]
  },
  {
   "cell_type": "code",
   "execution_count": 4,
   "metadata": {
    "execution": {
     "iopub.execute_input": "2021-08-29T00:51:39.788863Z",
     "iopub.status.busy": "2021-08-29T00:51:39.787805Z",
     "iopub.status.idle": "2021-08-29T00:51:39.789383Z",
     "shell.execute_reply": "2021-08-29T00:51:39.789748Z"
    }
   },
   "outputs": [],
   "source": [
    "def degrees_to_cardinal(d):\r\n",
    "  dirs = ['N', 'NNE', 'NE', 'ENE', 'E', 'ESE', 'SE', 'SSE', 'S', 'SSW', 'SW', 'WSW', 'W', 'WNW', 'NW', 'NNW']\r\n",
    "  ix = int(round(d / (360. / len(dirs))))\r\n",
    "  return dirs[ix % len(dirs)]"
   ]
  },
  {
   "cell_type": "code",
   "execution_count": 5,
   "metadata": {
    "execution": {
     "iopub.execute_input": "2021-08-29T00:51:39.793428Z",
     "iopub.status.busy": "2021-08-29T00:51:39.792452Z",
     "iopub.status.idle": "2021-08-29T00:51:39.793949Z",
     "shell.execute_reply": "2021-08-29T00:51:39.794315Z"
    }
   },
   "outputs": [],
   "source": [
    "# data.keys()"
   ]
  },
  {
   "cell_type": "code",
   "execution_count": 6,
   "metadata": {
    "execution": {
     "iopub.execute_input": "2021-08-29T00:51:39.797814Z",
     "iopub.status.busy": "2021-08-29T00:51:39.796771Z",
     "iopub.status.idle": "2021-08-29T00:51:39.798337Z",
     "shell.execute_reply": "2021-08-29T00:51:39.798723Z"
    }
   },
   "outputs": [],
   "source": [
    "# data['current']"
   ]
  },
  {
   "cell_type": "code",
   "execution_count": 7,
   "metadata": {
    "execution": {
     "iopub.execute_input": "2021-08-29T00:51:39.815075Z",
     "iopub.status.busy": "2021-08-29T00:51:39.814567Z",
     "iopub.status.idle": "2021-08-29T00:51:40.098652Z",
     "shell.execute_reply": "2021-08-29T00:51:40.099326Z"
    }
   },
   "outputs": [
    {
     "data": {
      "image/png": "[encoded data removed]",
      "text/plain": [
       "<Figure size 216x216 with 1 Axes>"
      ]
     },
     "metadata": {
      "needs_background": "light"
     },
     "output_type": "display_data"
    },
    {
     "name": "stdout",
     "output_type": "stream",
     "text": [
      "Today, sun rises at 06:04 and sets at 18:43.\n",
      "Currently, the weather is Rain (moderate rain).\n",
      "The temperature is 28.21°C and it feels like 34.23°C.\n",
      "The UV index is 4.03, humidity is 89%.\n",
      "The pressure is 1011 hPa, percentage of cloud cover is 99%\n",
      "The wind comes from E direction with a speed 6.07 m/s.\n"
     ]
    }
   ],
   "source": [
    "current = data['current']\r\n",
    "\r\n",
    "fig, ax = plt.subplots(figsize=(3, 3))\r\n",
    "icon = requests.get(f\"http://openweathermap.org/img/wn/{current['weather'][0]['icon']}@2x.png\")\r\n",
    "im = Image.open(BytesIO(icon.content))\r\n",
    "plt.imshow(im)\r\n",
    "ax.set_axis_off()\r\n",
    "plt.show()\r\n",
    "\r\n",
    "print(f\"Today, sun rises at {ts2dt(current['sunrise'], '%H:%M')[0]} \\\r\n",
    "and sets at {ts2dt(current['sunset'], '%H:%M')[0]}.\\n\\\r\n",
    "Currently, the weather is {current['weather'][0]['main']} ({current['weather'][0]['description']}).\\n\\\r\n",
    "The temperature is {current['temp']}°C and it feels like {current['feels_like']}°C.\\n\\\r\n",
    "The UV index is {current['uvi']}, humidity is {current['humidity']}%.\\n\\\r\n",
    "The pressure is {current['pressure']} hPa, percentage of cloud cover is {current['clouds']}%\\n\\\r\n",
    "The wind comes from {degrees_to_cardinal(current['wind_deg'])} direction with a speed {current['wind_speed']} m/s.\")"
   ]
  },
  {
   "cell_type": "code",
   "execution_count": 8,
   "metadata": {
    "execution": {
     "iopub.execute_input": "2021-08-29T00:51:40.102346Z",
     "iopub.status.busy": "2021-08-29T00:51:40.101456Z",
     "iopub.status.idle": "2021-08-29T00:51:40.108218Z",
     "shell.execute_reply": "2021-08-29T00:51:40.108835Z"
    }
   },
   "outputs": [],
   "source": [
    "df_hourly = pd.DataFrame(data['hourly'])\r\n",
    "df_daily = pd.DataFrame(data['daily'])"
   ]
  },
  {
   "cell_type": "code",
   "execution_count": 9,
   "metadata": {
    "execution": {
     "iopub.execute_input": "2021-08-29T00:51:40.111696Z",
     "iopub.status.busy": "2021-08-29T00:51:40.110799Z",
     "iopub.status.idle": "2021-08-29T00:51:40.346941Z",
     "shell.execute_reply": "2021-08-29T00:51:40.347334Z"
    }
   },
   "outputs": [
    {
     "data": {
      "image/png": "[encoded data removed]",
      "text/plain": [
       "<Figure size 864x432 with 1 Axes>"
      ]
     },
     "metadata": {
      "needs_background": "light"
     },
     "output_type": "display_data"
    }
   ],
   "source": [
    "fig, ax = plt.subplots(figsize=(12, 6))\r\n",
    "plt.plot(df_hourly.temp, '.-', label='Temperature')\r\n",
    "plt.plot(df_hourly.feels_like, '.-', label='Feels Like')\r\n",
    "ax.set(title='Temperature in future 48 hours', xlabel='Time', ylabel='Temperature')\r\n",
    "ax.set_xticks(list(range(0, len(df_hourly), 2)))\r\n",
    "ax.set_xticklabels([ts2dt(ts, '%m-%d %H:%M')[0] for i, ts in enumerate(df_hourly.dt) if i%2==0], \r\n",
    "                   rotation=45, ha=\"right\")\r\n",
    "ax.locator_params(nbins=15, axis='y')\r\n",
    "plt.legend()\r\n",
    "plt.show()"
   ]
  },
  {
   "cell_type": "code",
   "execution_count": 10,
   "metadata": {
    "execution": {
     "iopub.execute_input": "2021-08-29T00:51:40.351671Z",
     "iopub.status.busy": "2021-08-29T00:51:40.351225Z",
     "iopub.status.idle": "2021-08-29T00:51:40.369178Z",
     "shell.execute_reply": "2021-08-29T00:51:40.368795Z"
    }
   },
   "outputs": [
    {
     "data": {
      "text/html": [
       "<div>\n",
       "<style scoped>\n",
       "    .dataframe tbody tr th:only-of-type {\n",
       "        vertical-align: middle;\n",
       "    }\n",
       "\n",
       "    .dataframe tbody tr th {\n",
       "        vertical-align: top;\n",
       "    }\n",
       "\n",
       "    .dataframe thead th {\n",
       "        text-align: right;\n",
       "    }\n",
       "</style>\n",
       "<table border=\"1\" class=\"dataframe\">\n",
       "  <thead>\n",
       "    <tr style=\"text-align: right;\">\n",
       "      <th></th>\n",
       "      <th>dt</th>\n",
       "      <th>temp</th>\n",
       "      <th>feels_like</th>\n",
       "      <th>pressure</th>\n",
       "      <th>humidity</th>\n",
       "      <th>dew_point</th>\n",
       "      <th>uvi</th>\n",
       "      <th>clouds</th>\n",
       "      <th>visibility</th>\n",
       "      <th>wind_speed</th>\n",
       "      <th>wind_deg</th>\n",
       "      <th>wind_gust</th>\n",
       "      <th>weather</th>\n",
       "      <th>pop</th>\n",
       "      <th>rain</th>\n",
       "    </tr>\n",
       "  </thead>\n",
       "  <tbody>\n",
       "    <tr>\n",
       "      <th>0</th>\n",
       "      <td>1630195200</td>\n",
       "      <td>28.22</td>\n",
       "      <td>33.71</td>\n",
       "      <td>1011</td>\n",
       "      <td>86</td>\n",
       "      <td>25.65</td>\n",
       "      <td>1.55</td>\n",
       "      <td>99</td>\n",
       "      <td>10000</td>\n",
       "      <td>6.03</td>\n",
       "      <td>76</td>\n",
       "      <td>7.63</td>\n",
       "      <td>[{'id': 804, 'main': 'Clouds', 'description': ...</td>\n",
       "      <td>0.57</td>\n",
       "      <td>NaN</td>\n",
       "    </tr>\n",
       "    <tr>\n",
       "      <th>1</th>\n",
       "      <td>1630198800</td>\n",
       "      <td>28.21</td>\n",
       "      <td>34.23</td>\n",
       "      <td>1011</td>\n",
       "      <td>89</td>\n",
       "      <td>26.22</td>\n",
       "      <td>4.03</td>\n",
       "      <td>99</td>\n",
       "      <td>10000</td>\n",
       "      <td>6.07</td>\n",
       "      <td>79</td>\n",
       "      <td>7.63</td>\n",
       "      <td>[{'id': 500, 'main': 'Rain', 'description': 'l...</td>\n",
       "      <td>0.65</td>\n",
       "      <td>{'1h': 1}</td>\n",
       "    </tr>\n",
       "    <tr>\n",
       "      <th>2</th>\n",
       "      <td>1630202400</td>\n",
       "      <td>28.39</td>\n",
       "      <td>34.21</td>\n",
       "      <td>1011</td>\n",
       "      <td>86</td>\n",
       "      <td>25.82</td>\n",
       "      <td>7.21</td>\n",
       "      <td>98</td>\n",
       "      <td>10000</td>\n",
       "      <td>6.19</td>\n",
       "      <td>88</td>\n",
       "      <td>7.60</td>\n",
       "      <td>[{'id': 501, 'main': 'Rain', 'description': 'm...</td>\n",
       "      <td>0.65</td>\n",
       "      <td>{'1h': 2.73}</td>\n",
       "    </tr>\n",
       "    <tr>\n",
       "      <th>3</th>\n",
       "      <td>1630206000</td>\n",
       "      <td>28.40</td>\n",
       "      <td>33.67</td>\n",
       "      <td>1011</td>\n",
       "      <td>83</td>\n",
       "      <td>25.23</td>\n",
       "      <td>10.13</td>\n",
       "      <td>98</td>\n",
       "      <td>10000</td>\n",
       "      <td>5.76</td>\n",
       "      <td>97</td>\n",
       "      <td>7.32</td>\n",
       "      <td>[{'id': 804, 'main': 'Clouds', 'description': ...</td>\n",
       "      <td>0.69</td>\n",
       "      <td>NaN</td>\n",
       "    </tr>\n",
       "    <tr>\n",
       "      <th>4</th>\n",
       "      <td>1630209600</td>\n",
       "      <td>28.32</td>\n",
       "      <td>33.27</td>\n",
       "      <td>1012</td>\n",
       "      <td>82</td>\n",
       "      <td>24.95</td>\n",
       "      <td>8.55</td>\n",
       "      <td>98</td>\n",
       "      <td>10000</td>\n",
       "      <td>5.26</td>\n",
       "      <td>99</td>\n",
       "      <td>7.21</td>\n",
       "      <td>[{'id': 501, 'main': 'Rain', 'description': 'm...</td>\n",
       "      <td>0.69</td>\n",
       "      <td>{'1h': 1.19}</td>\n",
       "    </tr>\n",
       "  </tbody>\n",
       "</table>\n",
       "</div>"
      ],
      "text/plain": [
       "           dt   temp  feels_like  pressure  humidity  dew_point    uvi  \\\n",
       "0  1630195200  28.22       33.71      1011        86      25.65   1.55   \n",
       "1  1630198800  28.21       34.23      1011        89      26.22   4.03   \n",
       "2  1630202400  28.39       34.21      1011        86      25.82   7.21   \n",
       "3  1630206000  28.40       33.67      1011        83      25.23  10.13   \n",
       "4  1630209600  28.32       33.27      1012        82      24.95   8.55   \n",
       "\n",
       "   clouds  visibility  wind_speed  wind_deg  wind_gust  \\\n",
       "0      99       10000        6.03        76       7.63   \n",
       "1      99       10000        6.07        79       7.63   \n",
       "2      98       10000        6.19        88       7.60   \n",
       "3      98       10000        5.76        97       7.32   \n",
       "4      98       10000        5.26        99       7.21   \n",
       "\n",
       "                                             weather   pop          rain  \n",
       "0  [{'id': 804, 'main': 'Clouds', 'description': ...  0.57           NaN  \n",
       "1  [{'id': 500, 'main': 'Rain', 'description': 'l...  0.65     {'1h': 1}  \n",
       "2  [{'id': 501, 'main': 'Rain', 'description': 'm...  0.65  {'1h': 2.73}  \n",
       "3  [{'id': 804, 'main': 'Clouds', 'description': ...  0.69           NaN  \n",
       "4  [{'id': 501, 'main': 'Rain', 'description': 'm...  0.69  {'1h': 1.19}  "
      ]
     },
     "execution_count": 10,
     "metadata": {},
     "output_type": "execute_result"
    }
   ],
   "source": [
    "df_hourly.head()"
   ]
  },
  {
   "cell_type": "code",
   "execution_count": null,
   "metadata": {},
   "outputs": [],
   "source": []
  }
 ],
 "metadata": {
  "interpreter": {
   "hash": "c1b4cfe941b6d2466ad1fb5979e97da9cda8801728c8091b097ab734208fc00c"
  },
  "kernelspec": {
   "display_name": "Python 3.8.3 64-bit ('base': conda)",
   "name": "python3"
  },
  "language_info": {
   "codemirror_mode": {
    "name": "ipython",
    "version": 3
   },
   "file_extension": ".py",
   "mimetype": "text/x-python",
   "name": "python",
   "nbconvert_exporter": "python",
   "pygments_lexer": "ipython3",
   "version": "3.8.11"
  }
 },
 "nbformat": 4,
 "nbformat_minor": 2
}
