{
 "cells": [
  {
   "cell_type": "code",
   "execution_count": 1,
   "metadata": {
    "execution": {
     "iopub.execute_input": "2021-09-21T10:12:20.043866Z",
     "iopub.status.busy": "2021-09-21T10:12:20.043188Z",
     "iopub.status.idle": "2021-09-21T10:12:21.387187Z",
     "shell.execute_reply": "2021-09-21T10:12:21.386243Z"
    }
   },
   "outputs": [],
   "source": [
    "import json, yaml, requests\r\n",
    "from datetime import datetime\r\n",
    "from dateutil import tz\r\n",
    "import pandas as pd\r\n",
    "from PIL import Image\r\n",
    "from io import BytesIO\r\n",
    "import matplotlib.pyplot as plt\r\n",
    "import seaborn\r\n",
    "\r\n",
    "CONFIG_PATH = \"../config/config.yaml\""
   ]
  },
  {
   "cell_type": "code",
   "execution_count": 2,
   "metadata": {
    "execution": {
     "iopub.execute_input": "2021-09-21T10:12:21.395998Z",
     "iopub.status.busy": "2021-09-21T10:12:21.392622Z",
     "iopub.status.idle": "2021-09-21T10:12:21.399502Z",
     "shell.execute_reply": "2021-09-21T10:12:21.398811Z"
    }
   },
   "outputs": [],
   "source": [
    "with open('../newest_ts', 'r') as f:\r\n",
    "    newest_ts = f.read()\r\n",
    "\r\n",
    "data_path = f\"../data/data_{newest_ts}.json\"\r\n",
    "with open(data_path, 'r') as f:\r\n",
    "    data = json.load(f)\r\n",
    "\r\n",
    "with open(CONFIG_PATH, \"r\") as stream:\r\n",
    "    config = yaml.safe_load(stream)\r\n",
    "\r\n",
    "TIME_ZONE = config['time_zone']\r\n",
    "DATETIME_FORMAT = config['dt_format']"
   ]
  },
  {
   "cell_type": "code",
   "execution_count": 3,
   "metadata": {
    "execution": {
     "iopub.execute_input": "2021-09-21T10:12:21.405071Z",
     "iopub.status.busy": "2021-09-21T10:12:21.404445Z",
     "iopub.status.idle": "2021-09-21T10:12:21.417088Z",
     "shell.execute_reply": "2021-09-21T10:12:21.416522Z"
    }
   },
   "outputs": [
    {
     "name": "stdout",
     "output_type": "stream",
     "text": [
      "Recent query happens at 2021-09-21 18:12:17 (CST).\n"
     ]
    }
   ],
   "source": [
    "def ts2dt(ts, format=DATETIME_FORMAT):\r\n",
    "    dt = (datetime.utcfromtimestamp(int(ts))\r\n",
    "                    .replace(tzinfo=tz.tzutc())\r\n",
    "                    # .astimezone(tz.tzlocal())\r\n",
    "                    .astimezone(tz.gettz(TIME_ZONE)))\r\n",
    "    return dt.strftime(format), dt\r\n",
    "\r\n",
    "_, newest_dt = ts2dt(newest_ts)\r\n",
    "print(f\"Recent query happens at {newest_dt.strftime(DATETIME_FORMAT)} ({newest_dt.tzname()}).\")"
   ]
  },
  {
   "cell_type": "code",
   "execution_count": 4,
   "metadata": {
    "execution": {
     "iopub.execute_input": "2021-09-21T10:12:21.423391Z",
     "iopub.status.busy": "2021-09-21T10:12:21.422813Z",
     "iopub.status.idle": "2021-09-21T10:12:21.425337Z",
     "shell.execute_reply": "2021-09-21T10:12:21.424710Z"
    }
   },
   "outputs": [],
   "source": [
    "def degrees_to_cardinal(d):\r\n",
    "  dirs = ['N', 'NNE', 'NE', 'ENE', 'E', 'ESE', 'SE', 'SSE', 'S', 'SSW', 'SW', 'WSW', 'W', 'WNW', 'NW', 'NNW']\r\n",
    "  ix = int(round(d / (360. / len(dirs))))\r\n",
    "  return dirs[ix % len(dirs)]"
   ]
  },
  {
   "cell_type": "code",
   "execution_count": 5,
   "metadata": {
    "execution": {
     "iopub.execute_input": "2021-09-21T10:12:21.431042Z",
     "iopub.status.busy": "2021-09-21T10:12:21.429445Z",
     "iopub.status.idle": "2021-09-21T10:12:21.431781Z",
     "shell.execute_reply": "2021-09-21T10:12:21.432295Z"
    }
   },
   "outputs": [],
   "source": [
    "# data.keys()"
   ]
  },
  {
   "cell_type": "code",
   "execution_count": 6,
   "metadata": {
    "execution": {
     "iopub.execute_input": "2021-09-21T10:12:21.437663Z",
     "iopub.status.busy": "2021-09-21T10:12:21.435834Z",
     "iopub.status.idle": "2021-09-21T10:12:21.438424Z",
     "shell.execute_reply": "2021-09-21T10:12:21.438969Z"
    }
   },
   "outputs": [],
   "source": [
    "# data['current']"
   ]
  },
  {
   "cell_type": "code",
   "execution_count": 7,
   "metadata": {
    "execution": {
     "iopub.execute_input": "2021-09-21T10:12:21.461641Z",
     "iopub.status.busy": "2021-09-21T10:12:21.460909Z",
     "iopub.status.idle": "2021-09-21T10:12:21.853135Z",
     "shell.execute_reply": "2021-09-21T10:12:21.853773Z"
    }
   },
   "outputs": [
    {
     "data": {
      "image/png": "[encoded data removed]",
      "text/plain": [
       "<Figure size 216x216 with 1 Axes>"
      ]
     },
     "metadata": {
      "needs_background": "light"
     },
     "output_type": "display_data"
    },
    {
     "name": "stdout",
     "output_type": "stream",
     "text": [
      "Today, sun rises at 06:11 and sets at 18:20.\n",
      "Currently, the weather is Clouds (overcast clouds).\n",
      "The temperature is 29.87°C and it feels like 36.87°C.\n",
      "The UV index is 0.12, humidity is 79%.\n",
      "The pressure is 1008 hPa, percentage of cloud cover is 100%\n",
      "The wind comes from SE direction with a speed 2.3 m/s.\n"
     ]
    }
   ],
   "source": [
    "current = data['current']\r\n",
    "\r\n",
    "fig, ax = plt.subplots(figsize=(3, 3))\r\n",
    "icon = requests.get(f\"http://openweathermap.org/img/wn/{current['weather'][0]['icon']}@2x.png\")\r\n",
    "im = Image.open(BytesIO(icon.content))\r\n",
    "plt.imshow(im)\r\n",
    "ax.set_axis_off()\r\n",
    "plt.show()\r\n",
    "\r\n",
    "print(f\"Today, sun rises at {ts2dt(current['sunrise'], '%H:%M')[0]} \\\r\n",
    "and sets at {ts2dt(current['sunset'], '%H:%M')[0]}.\\n\\\r\n",
    "Currently, the weather is {current['weather'][0]['main']} ({current['weather'][0]['description']}).\\n\\\r\n",
    "The temperature is {current['temp']}°C and it feels like {current['feels_like']}°C.\\n\\\r\n",
    "The UV index is {current['uvi']}, humidity is {current['humidity']}%.\\n\\\r\n",
    "The pressure is {current['pressure']} hPa, percentage of cloud cover is {current['clouds']}%\\n\\\r\n",
    "The wind comes from {degrees_to_cardinal(current['wind_deg'])} direction with a speed {current['wind_speed']} m/s.\")"
   ]
  },
  {
   "cell_type": "code",
   "execution_count": 8,
   "metadata": {
    "execution": {
     "iopub.execute_input": "2021-09-21T10:12:21.859034Z",
     "iopub.status.busy": "2021-09-21T10:12:21.858533Z",
     "iopub.status.idle": "2021-09-21T10:12:21.864391Z",
     "shell.execute_reply": "2021-09-21T10:12:21.863977Z"
    }
   },
   "outputs": [],
   "source": [
    "df_hourly = pd.DataFrame(data['hourly'])\r\n",
    "df_daily = pd.DataFrame(data['daily'])"
   ]
  },
  {
   "cell_type": "code",
   "execution_count": 9,
   "metadata": {
    "execution": {
     "iopub.execute_input": "2021-09-21T10:12:21.879940Z",
     "iopub.status.busy": "2021-09-21T10:12:21.876237Z",
     "iopub.status.idle": "2021-09-21T10:12:22.182922Z",
     "shell.execute_reply": "2021-09-21T10:12:22.182449Z"
    }
   },
   "outputs": [
    {
     "data": {
      "image/png": "[encoded data removed]",
      "text/plain": [
       "<Figure size 864x432 with 1 Axes>"
      ]
     },
     "metadata": {
      "needs_background": "light"
     },
     "output_type": "display_data"
    }
   ],
   "source": [
    "fig, ax = plt.subplots(figsize=(12, 6))\r\n",
    "plt.plot(df_hourly.temp, '.-', label='Temperature')\r\n",
    "plt.plot(df_hourly.feels_like, '.-', label='Feels Like')\r\n",
    "ax.set(title='Temperature in future 48 hours', xlabel='Time', ylabel='Temperature')\r\n",
    "ax.set_xticks(list(range(0, len(df_hourly), 2)))\r\n",
    "ax.set_xticklabels([ts2dt(ts, '%m-%d %H:%M')[0] for i, ts in enumerate(df_hourly.dt) if i%2==0], \r\n",
    "                   rotation=45, ha=\"right\")\r\n",
    "ax.locator_params(nbins=15, axis='y')\r\n",
    "plt.legend()\r\n",
    "plt.show()"
   ]
  },
  {
   "cell_type": "code",
   "execution_count": 10,
   "metadata": {
    "execution": {
     "iopub.execute_input": "2021-09-21T10:12:22.194993Z",
     "iopub.status.busy": "2021-09-21T10:12:22.187064Z",
     "iopub.status.idle": "2021-09-21T10:12:22.207266Z",
     "shell.execute_reply": "2021-09-21T10:12:22.206691Z"
    }
   },
   "outputs": [
    {
     "data": {
      "text/html": [
       "<div>\n",
       "<style scoped>\n",
       "    .dataframe tbody tr th:only-of-type {\n",
       "        vertical-align: middle;\n",
       "    }\n",
       "\n",
       "    .dataframe tbody tr th {\n",
       "        vertical-align: top;\n",
       "    }\n",
       "\n",
       "    .dataframe thead th {\n",
       "        text-align: right;\n",
       "    }\n",
       "</style>\n",
       "<table border=\"1\" class=\"dataframe\">\n",
       "  <thead>\n",
       "    <tr style=\"text-align: right;\">\n",
       "      <th></th>\n",
       "      <th>dt</th>\n",
       "      <th>temp</th>\n",
       "      <th>feels_like</th>\n",
       "      <th>pressure</th>\n",
       "      <th>humidity</th>\n",
       "      <th>dew_point</th>\n",
       "      <th>uvi</th>\n",
       "      <th>clouds</th>\n",
       "      <th>visibility</th>\n",
       "      <th>wind_speed</th>\n",
       "      <th>wind_deg</th>\n",
       "      <th>wind_gust</th>\n",
       "      <th>weather</th>\n",
       "      <th>pop</th>\n",
       "      <th>rain</th>\n",
       "    </tr>\n",
       "  </thead>\n",
       "  <tbody>\n",
       "    <tr>\n",
       "      <th>0</th>\n",
       "      <td>1632218400</td>\n",
       "      <td>29.87</td>\n",
       "      <td>36.87</td>\n",
       "      <td>1008</td>\n",
       "      <td>79</td>\n",
       "      <td>25.83</td>\n",
       "      <td>0.12</td>\n",
       "      <td>100</td>\n",
       "      <td>10000</td>\n",
       "      <td>2.30</td>\n",
       "      <td>144</td>\n",
       "      <td>2.38</td>\n",
       "      <td>[{'id': 804, 'main': 'Clouds', 'description': ...</td>\n",
       "      <td>0.0</td>\n",
       "      <td>NaN</td>\n",
       "    </tr>\n",
       "    <tr>\n",
       "      <th>1</th>\n",
       "      <td>1632222000</td>\n",
       "      <td>29.68</td>\n",
       "      <td>36.18</td>\n",
       "      <td>1008</td>\n",
       "      <td>78</td>\n",
       "      <td>25.43</td>\n",
       "      <td>0.00</td>\n",
       "      <td>100</td>\n",
       "      <td>10000</td>\n",
       "      <td>2.25</td>\n",
       "      <td>144</td>\n",
       "      <td>2.53</td>\n",
       "      <td>[{'id': 804, 'main': 'Clouds', 'description': ...</td>\n",
       "      <td>0.0</td>\n",
       "      <td>NaN</td>\n",
       "    </tr>\n",
       "    <tr>\n",
       "      <th>2</th>\n",
       "      <td>1632225600</td>\n",
       "      <td>29.44</td>\n",
       "      <td>35.51</td>\n",
       "      <td>1008</td>\n",
       "      <td>78</td>\n",
       "      <td>25.20</td>\n",
       "      <td>0.00</td>\n",
       "      <td>100</td>\n",
       "      <td>10000</td>\n",
       "      <td>2.31</td>\n",
       "      <td>142</td>\n",
       "      <td>2.55</td>\n",
       "      <td>[{'id': 804, 'main': 'Clouds', 'description': ...</td>\n",
       "      <td>0.0</td>\n",
       "      <td>NaN</td>\n",
       "    </tr>\n",
       "    <tr>\n",
       "      <th>3</th>\n",
       "      <td>1632229200</td>\n",
       "      <td>29.10</td>\n",
       "      <td>34.80</td>\n",
       "      <td>1009</td>\n",
       "      <td>79</td>\n",
       "      <td>25.08</td>\n",
       "      <td>0.00</td>\n",
       "      <td>96</td>\n",
       "      <td>10000</td>\n",
       "      <td>2.66</td>\n",
       "      <td>138</td>\n",
       "      <td>3.01</td>\n",
       "      <td>[{'id': 804, 'main': 'Clouds', 'description': ...</td>\n",
       "      <td>0.0</td>\n",
       "      <td>NaN</td>\n",
       "    </tr>\n",
       "    <tr>\n",
       "      <th>4</th>\n",
       "      <td>1632232800</td>\n",
       "      <td>28.74</td>\n",
       "      <td>34.03</td>\n",
       "      <td>1009</td>\n",
       "      <td>80</td>\n",
       "      <td>24.94</td>\n",
       "      <td>0.00</td>\n",
       "      <td>96</td>\n",
       "      <td>10000</td>\n",
       "      <td>2.85</td>\n",
       "      <td>134</td>\n",
       "      <td>3.39</td>\n",
       "      <td>[{'id': 804, 'main': 'Clouds', 'description': ...</td>\n",
       "      <td>0.0</td>\n",
       "      <td>NaN</td>\n",
       "    </tr>\n",
       "  </tbody>\n",
       "</table>\n",
       "</div>"
      ],
      "text/plain": [
       "           dt   temp  feels_like  pressure  humidity  dew_point   uvi  clouds  \\\n",
       "0  1632218400  29.87       36.87      1008        79      25.83  0.12     100   \n",
       "1  1632222000  29.68       36.18      1008        78      25.43  0.00     100   \n",
       "2  1632225600  29.44       35.51      1008        78      25.20  0.00     100   \n",
       "3  1632229200  29.10       34.80      1009        79      25.08  0.00      96   \n",
       "4  1632232800  28.74       34.03      1009        80      24.94  0.00      96   \n",
       "\n",
       "   visibility  wind_speed  wind_deg  wind_gust  \\\n",
       "0       10000        2.30       144       2.38   \n",
       "1       10000        2.25       144       2.53   \n",
       "2       10000        2.31       142       2.55   \n",
       "3       10000        2.66       138       3.01   \n",
       "4       10000        2.85       134       3.39   \n",
       "\n",
       "                                             weather  pop rain  \n",
       "0  [{'id': 804, 'main': 'Clouds', 'description': ...  0.0  NaN  \n",
       "1  [{'id': 804, 'main': 'Clouds', 'description': ...  0.0  NaN  \n",
       "2  [{'id': 804, 'main': 'Clouds', 'description': ...  0.0  NaN  \n",
       "3  [{'id': 804, 'main': 'Clouds', 'description': ...  0.0  NaN  \n",
       "4  [{'id': 804, 'main': 'Clouds', 'description': ...  0.0  NaN  "
      ]
     },
     "execution_count": 10,
     "metadata": {},
     "output_type": "execute_result"
    }
   ],
   "source": [
    "df_hourly.head()"
   ]
  },
  {
   "cell_type": "code",
   "execution_count": null,
   "metadata": {},
   "outputs": [],
   "source": []
  }
 ],
 "metadata": {
  "interpreter": {
   "hash": "c1b4cfe941b6d2466ad1fb5979e97da9cda8801728c8091b097ab734208fc00c"
  },
  "kernelspec": {
   "display_name": "Python 3.8.3 64-bit ('base': conda)",
   "name": "python3"
  },
  "language_info": {
   "codemirror_mode": {
    "name": "ipython",
    "version": 3
   },
   "file_extension": ".py",
   "mimetype": "text/x-python",
   "name": "python",
   "nbconvert_exporter": "python",
   "pygments_lexer": "ipython3",
   "version": "3.8.11"
  }
 },
 "nbformat": 4,
 "nbformat_minor": 2
}
