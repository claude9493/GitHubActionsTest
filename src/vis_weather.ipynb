{
 "cells": [
  {
   "cell_type": "code",
   "execution_count": 1,
   "metadata": {
    "execution": {
     "iopub.execute_input": "2021-09-26T01:56:01.872190Z",
     "iopub.status.busy": "2021-09-26T01:56:01.871622Z",
     "iopub.status.idle": "2021-09-26T01:56:04.775669Z",
     "shell.execute_reply": "2021-09-26T01:56:04.774458Z"
    }
   },
   "outputs": [],
   "source": [
    "import json, yaml, requests\r\n",
    "from datetime import datetime\r\n",
    "from dateutil import tz\r\n",
    "import pandas as pd\r\n",
    "from PIL import Image\r\n",
    "from io import BytesIO\r\n",
    "import matplotlib.pyplot as plt\r\n",
    "import seaborn\r\n",
    "\r\n",
    "CONFIG_PATH = \"../config/config.yaml\""
   ]
  },
  {
   "cell_type": "code",
   "execution_count": 2,
   "metadata": {
    "execution": {
     "iopub.execute_input": "2021-09-26T01:56:04.781110Z",
     "iopub.status.busy": "2021-09-26T01:56:04.780586Z",
     "iopub.status.idle": "2021-09-26T01:56:04.785844Z",
     "shell.execute_reply": "2021-09-26T01:56:04.785308Z"
    }
   },
   "outputs": [],
   "source": [
    "with open('../newest_ts', 'r') as f:\r\n",
    "    newest_ts = f.read()\r\n",
    "\r\n",
    "data_path = f\"../data/data_{newest_ts}.json\"\r\n",
    "with open(data_path, 'r') as f:\r\n",
    "    data = json.load(f)\r\n",
    "\r\n",
    "with open(CONFIG_PATH, \"r\") as stream:\r\n",
    "    config = yaml.safe_load(stream)\r\n",
    "\r\n",
    "TIME_ZONE = config['time_zone']\r\n",
    "DATETIME_FORMAT = config['dt_format']"
   ]
  },
  {
   "cell_type": "code",
   "execution_count": 3,
   "metadata": {
    "execution": {
     "iopub.execute_input": "2021-09-26T01:56:04.790333Z",
     "iopub.status.busy": "2021-09-26T01:56:04.789820Z",
     "iopub.status.idle": "2021-09-26T01:56:04.801042Z",
     "shell.execute_reply": "2021-09-26T01:56:04.801381Z"
    }
   },
   "outputs": [
    {
     "name": "stdout",
     "output_type": "stream",
     "text": [
      "Recent query happens at 2021-09-26 09:55:58 (CST).\n"
     ]
    }
   ],
   "source": [
    "def ts2dt(ts, format=DATETIME_FORMAT):\r\n",
    "    dt = (datetime.utcfromtimestamp(int(ts))\r\n",
    "                    .replace(tzinfo=tz.tzutc())\r\n",
    "                    # .astimezone(tz.tzlocal())\r\n",
    "                    .astimezone(tz.gettz(TIME_ZONE)))\r\n",
    "    return dt.strftime(format), dt\r\n",
    "\r\n",
    "_, newest_dt = ts2dt(newest_ts)\r\n",
    "print(f\"Recent query happens at {newest_dt.strftime(DATETIME_FORMAT)} ({newest_dt.tzname()}).\")"
   ]
  },
  {
   "cell_type": "code",
   "execution_count": 4,
   "metadata": {
    "execution": {
     "iopub.execute_input": "2021-09-26T01:56:04.806134Z",
     "iopub.status.busy": "2021-09-26T01:56:04.804906Z",
     "iopub.status.idle": "2021-09-26T01:56:04.806753Z",
     "shell.execute_reply": "2021-09-26T01:56:04.807199Z"
    }
   },
   "outputs": [],
   "source": [
    "def degrees_to_cardinal(d):\r\n",
    "  dirs = ['N', 'NNE', 'NE', 'ENE', 'E', 'ESE', 'SE', 'SSE', 'S', 'SSW', 'SW', 'WSW', 'W', 'WNW', 'NW', 'NNW']\r\n",
    "  ix = int(round(d / (360. / len(dirs))))\r\n",
    "  return dirs[ix % len(dirs)]"
   ]
  },
  {
   "cell_type": "code",
   "execution_count": 5,
   "metadata": {
    "execution": {
     "iopub.execute_input": "2021-09-26T01:56:04.811276Z",
     "iopub.status.busy": "2021-09-26T01:56:04.810142Z",
     "iopub.status.idle": "2021-09-26T01:56:04.811860Z",
     "shell.execute_reply": "2021-09-26T01:56:04.812293Z"
    }
   },
   "outputs": [],
   "source": [
    "# data.keys()"
   ]
  },
  {
   "cell_type": "code",
   "execution_count": 6,
   "metadata": {
    "execution": {
     "iopub.execute_input": "2021-09-26T01:56:04.815178Z",
     "iopub.status.busy": "2021-09-26T01:56:04.814661Z",
     "iopub.status.idle": "2021-09-26T01:56:04.817610Z",
     "shell.execute_reply": "2021-09-26T01:56:04.817986Z"
    }
   },
   "outputs": [],
   "source": [
    "# data['current']"
   ]
  },
  {
   "cell_type": "code",
   "execution_count": 7,
   "metadata": {
    "execution": {
     "iopub.execute_input": "2021-09-26T01:56:04.833714Z",
     "iopub.status.busy": "2021-09-26T01:56:04.833207Z",
     "iopub.status.idle": "2021-09-26T01:56:05.165092Z",
     "shell.execute_reply": "2021-09-26T01:56:05.165462Z"
    }
   },
   "outputs": [
    {
     "data": {
      "image/png": "[encoded data removed]",
      "text/plain": [
       "<Figure size 216x216 with 1 Axes>"
      ]
     },
     "metadata": {
      "needs_background": "light"
     },
     "output_type": "display_data"
    },
    {
     "name": "stdout",
     "output_type": "stream",
     "text": [
      "Today, sun rises at 06:12 and sets at 18:15.\n",
      "Currently, the weather is Rain (light rain).\n",
      "The temperature is 29.17°C and it feels like 34.55°C.\n",
      "The UV index is 5.82, humidity is 77%.\n",
      "The pressure is 1013 hPa, percentage of cloud cover is 5%\n",
      "The wind comes from W direction with a speed 0.45 m/s.\n"
     ]
    }
   ],
   "source": [
    "current = data['current']\r\n",
    "\r\n",
    "fig, ax = plt.subplots(figsize=(3, 3))\r\n",
    "icon = requests.get(f\"http://openweathermap.org/img/wn/{current['weather'][0]['icon']}@2x.png\")\r\n",
    "im = Image.open(BytesIO(icon.content))\r\n",
    "plt.imshow(im)\r\n",
    "ax.set_axis_off()\r\n",
    "plt.show()\r\n",
    "\r\n",
    "print(f\"Today, sun rises at {ts2dt(current['sunrise'], '%H:%M')[0]} \\\r\n",
    "and sets at {ts2dt(current['sunset'], '%H:%M')[0]}.\\n\\\r\n",
    "Currently, the weather is {current['weather'][0]['main']} ({current['weather'][0]['description']}).\\n\\\r\n",
    "The temperature is {current['temp']}°C and it feels like {current['feels_like']}°C.\\n\\\r\n",
    "The UV index is {current['uvi']}, humidity is {current['humidity']}%.\\n\\\r\n",
    "The pressure is {current['pressure']} hPa, percentage of cloud cover is {current['clouds']}%\\n\\\r\n",
    "The wind comes from {degrees_to_cardinal(current['wind_deg'])} direction with a speed {current['wind_speed']} m/s.\")"
   ]
  },
  {
   "cell_type": "code",
   "execution_count": 8,
   "metadata": {
    "execution": {
     "iopub.execute_input": "2021-09-26T01:56:05.170026Z",
     "iopub.status.busy": "2021-09-26T01:56:05.169651Z",
     "iopub.status.idle": "2021-09-26T01:56:05.172939Z",
     "shell.execute_reply": "2021-09-26T01:56:05.173372Z"
    }
   },
   "outputs": [],
   "source": [
    "df_hourly = pd.DataFrame(data['hourly'])\r\n",
    "df_daily = pd.DataFrame(data['daily'])"
   ]
  },
  {
   "cell_type": "code",
   "execution_count": 9,
   "metadata": {
    "execution": {
     "iopub.execute_input": "2021-09-26T01:56:05.184472Z",
     "iopub.status.busy": "2021-09-26T01:56:05.180251Z",
     "iopub.status.idle": "2021-09-26T01:56:05.396230Z",
     "shell.execute_reply": "2021-09-26T01:56:05.395405Z"
    }
   },
   "outputs": [
    {
     "data": {
      "image/png": "[encoded data removed]",
      "text/plain": [
       "<Figure size 864x432 with 1 Axes>"
      ]
     },
     "metadata": {
      "needs_background": "light"
     },
     "output_type": "display_data"
    }
   ],
   "source": [
    "fig, ax = plt.subplots(figsize=(12, 6))\r\n",
    "plt.plot(df_hourly.temp, '.-', label='Temperature')\r\n",
    "plt.plot(df_hourly.feels_like, '.-', label='Feels Like')\r\n",
    "ax.set(title='Temperature in future 48 hours', xlabel='Time', ylabel='Temperature')\r\n",
    "ax.set_xticks(list(range(0, len(df_hourly), 2)))\r\n",
    "ax.set_xticklabels([ts2dt(ts, '%m-%d %H:%M')[0] for i, ts in enumerate(df_hourly.dt) if i%2==0], \r\n",
    "                   rotation=45, ha=\"right\")\r\n",
    "ax.locator_params(nbins=15, axis='y')\r\n",
    "plt.legend()\r\n",
    "plt.show()"
   ]
  },
  {
   "cell_type": "code",
   "execution_count": 10,
   "metadata": {
    "execution": {
     "iopub.execute_input": "2021-09-26T01:56:05.400334Z",
     "iopub.status.busy": "2021-09-26T01:56:05.399850Z",
     "iopub.status.idle": "2021-09-26T01:56:05.413906Z",
     "shell.execute_reply": "2021-09-26T01:56:05.414216Z"
    }
   },
   "outputs": [
    {
     "data": {
      "text/html": [
       "<div>\n",
       "<style scoped>\n",
       "    .dataframe tbody tr th:only-of-type {\n",
       "        vertical-align: middle;\n",
       "    }\n",
       "\n",
       "    .dataframe tbody tr th {\n",
       "        vertical-align: top;\n",
       "    }\n",
       "\n",
       "    .dataframe thead th {\n",
       "        text-align: right;\n",
       "    }\n",
       "</style>\n",
       "<table border=\"1\" class=\"dataframe\">\n",
       "  <thead>\n",
       "    <tr style=\"text-align: right;\">\n",
       "      <th></th>\n",
       "      <th>dt</th>\n",
       "      <th>temp</th>\n",
       "      <th>feels_like</th>\n",
       "      <th>pressure</th>\n",
       "      <th>humidity</th>\n",
       "      <th>dew_point</th>\n",
       "      <th>uvi</th>\n",
       "      <th>clouds</th>\n",
       "      <th>visibility</th>\n",
       "      <th>wind_speed</th>\n",
       "      <th>wind_deg</th>\n",
       "      <th>wind_gust</th>\n",
       "      <th>weather</th>\n",
       "      <th>pop</th>\n",
       "      <th>rain</th>\n",
       "    </tr>\n",
       "  </thead>\n",
       "  <tbody>\n",
       "    <tr>\n",
       "      <th>0</th>\n",
       "      <td>1632618000</td>\n",
       "      <td>28.96</td>\n",
       "      <td>33.60</td>\n",
       "      <td>1013</td>\n",
       "      <td>75</td>\n",
       "      <td>24.08</td>\n",
       "      <td>3.06</td>\n",
       "      <td>4</td>\n",
       "      <td>10000</td>\n",
       "      <td>7.25</td>\n",
       "      <td>69</td>\n",
       "      <td>8.66</td>\n",
       "      <td>[{'id': 800, 'main': 'Clear', 'description': '...</td>\n",
       "      <td>0.0</td>\n",
       "      <td>NaN</td>\n",
       "    </tr>\n",
       "    <tr>\n",
       "      <th>1</th>\n",
       "      <td>1632621600</td>\n",
       "      <td>29.17</td>\n",
       "      <td>34.55</td>\n",
       "      <td>1013</td>\n",
       "      <td>77</td>\n",
       "      <td>24.72</td>\n",
       "      <td>5.82</td>\n",
       "      <td>5</td>\n",
       "      <td>10000</td>\n",
       "      <td>6.83</td>\n",
       "      <td>71</td>\n",
       "      <td>8.05</td>\n",
       "      <td>[{'id': 500, 'main': 'Rain', 'description': 'l...</td>\n",
       "      <td>0.2</td>\n",
       "      <td>{'1h': 0.27}</td>\n",
       "    </tr>\n",
       "    <tr>\n",
       "      <th>2</th>\n",
       "      <td>1632625200</td>\n",
       "      <td>29.13</td>\n",
       "      <td>33.81</td>\n",
       "      <td>1013</td>\n",
       "      <td>74</td>\n",
       "      <td>24.02</td>\n",
       "      <td>8.42</td>\n",
       "      <td>6</td>\n",
       "      <td>10000</td>\n",
       "      <td>6.61</td>\n",
       "      <td>74</td>\n",
       "      <td>7.62</td>\n",
       "      <td>[{'id': 800, 'main': 'Clear', 'description': '...</td>\n",
       "      <td>0.0</td>\n",
       "      <td>NaN</td>\n",
       "    </tr>\n",
       "    <tr>\n",
       "      <th>3</th>\n",
       "      <td>1632628800</td>\n",
       "      <td>29.18</td>\n",
       "      <td>33.32</td>\n",
       "      <td>1013</td>\n",
       "      <td>71</td>\n",
       "      <td>23.38</td>\n",
       "      <td>9.97</td>\n",
       "      <td>7</td>\n",
       "      <td>10000</td>\n",
       "      <td>6.44</td>\n",
       "      <td>79</td>\n",
       "      <td>7.31</td>\n",
       "      <td>[{'id': 800, 'main': 'Clear', 'description': '...</td>\n",
       "      <td>0.0</td>\n",
       "      <td>NaN</td>\n",
       "    </tr>\n",
       "    <tr>\n",
       "      <th>4</th>\n",
       "      <td>1632632400</td>\n",
       "      <td>29.28</td>\n",
       "      <td>32.95</td>\n",
       "      <td>1012</td>\n",
       "      <td>68</td>\n",
       "      <td>22.76</td>\n",
       "      <td>9.79</td>\n",
       "      <td>9</td>\n",
       "      <td>10000</td>\n",
       "      <td>6.04</td>\n",
       "      <td>83</td>\n",
       "      <td>6.82</td>\n",
       "      <td>[{'id': 800, 'main': 'Clear', 'description': '...</td>\n",
       "      <td>0.0</td>\n",
       "      <td>NaN</td>\n",
       "    </tr>\n",
       "  </tbody>\n",
       "</table>\n",
       "</div>"
      ],
      "text/plain": [
       "           dt   temp  feels_like  pressure  humidity  dew_point   uvi  clouds  \\\n",
       "0  1632618000  28.96       33.60      1013        75      24.08  3.06       4   \n",
       "1  1632621600  29.17       34.55      1013        77      24.72  5.82       5   \n",
       "2  1632625200  29.13       33.81      1013        74      24.02  8.42       6   \n",
       "3  1632628800  29.18       33.32      1013        71      23.38  9.97       7   \n",
       "4  1632632400  29.28       32.95      1012        68      22.76  9.79       9   \n",
       "\n",
       "   visibility  wind_speed  wind_deg  wind_gust  \\\n",
       "0       10000        7.25        69       8.66   \n",
       "1       10000        6.83        71       8.05   \n",
       "2       10000        6.61        74       7.62   \n",
       "3       10000        6.44        79       7.31   \n",
       "4       10000        6.04        83       6.82   \n",
       "\n",
       "                                             weather  pop          rain  \n",
       "0  [{'id': 800, 'main': 'Clear', 'description': '...  0.0           NaN  \n",
       "1  [{'id': 500, 'main': 'Rain', 'description': 'l...  0.2  {'1h': 0.27}  \n",
       "2  [{'id': 800, 'main': 'Clear', 'description': '...  0.0           NaN  \n",
       "3  [{'id': 800, 'main': 'Clear', 'description': '...  0.0           NaN  \n",
       "4  [{'id': 800, 'main': 'Clear', 'description': '...  0.0           NaN  "
      ]
     },
     "execution_count": 10,
     "metadata": {},
     "output_type": "execute_result"
    }
   ],
   "source": [
    "df_hourly.head()"
   ]
  },
  {
   "cell_type": "code",
   "execution_count": null,
   "metadata": {},
   "outputs": [],
   "source": []
  }
 ],
 "metadata": {
  "interpreter": {
   "hash": "c1b4cfe941b6d2466ad1fb5979e97da9cda8801728c8091b097ab734208fc00c"
  },
  "kernelspec": {
   "display_name": "Python 3.8.3 64-bit ('base': conda)",
   "name": "python3"
  },
  "language_info": {
   "codemirror_mode": {
    "name": "ipython",
    "version": 3
   },
   "file_extension": ".py",
   "mimetype": "text/x-python",
   "name": "python",
   "nbconvert_exporter": "python",
   "pygments_lexer": "ipython3",
   "version": "3.8.12"
  }
 },
 "nbformat": 4,
 "nbformat_minor": 2
}
