{
 "cells": [
  {
   "cell_type": "code",
   "execution_count": 1,
   "metadata": {
    "execution": {
     "iopub.execute_input": "2021-10-06T04:14:27.282359Z",
     "iopub.status.busy": "2021-10-06T04:14:27.281696Z",
     "iopub.status.idle": "2021-10-06T04:14:30.365982Z",
     "shell.execute_reply": "2021-10-06T04:14:30.365271Z"
    }
   },
   "outputs": [],
   "source": [
    "import json, yaml, requests\r\n",
    "from datetime import datetime\r\n",
    "from dateutil import tz\r\n",
    "import pandas as pd\r\n",
    "from PIL import Image\r\n",
    "from io import BytesIO\r\n",
    "import matplotlib.pyplot as plt\r\n",
    "import seaborn\r\n",
    "\r\n",
    "CONFIG_PATH = \"../config/config.yaml\""
   ]
  },
  {
   "cell_type": "code",
   "execution_count": 2,
   "metadata": {
    "execution": {
     "iopub.execute_input": "2021-10-06T04:14:30.374435Z",
     "iopub.status.busy": "2021-10-06T04:14:30.370687Z",
     "iopub.status.idle": "2021-10-06T04:14:30.378500Z",
     "shell.execute_reply": "2021-10-06T04:14:30.377979Z"
    }
   },
   "outputs": [],
   "source": [
    "with open('../newest_ts', 'r') as f:\r\n",
    "    newest_ts = f.read()\r\n",
    "\r\n",
    "data_path = f\"../data/data_{newest_ts}.json\"\r\n",
    "with open(data_path, 'r') as f:\r\n",
    "    data = json.load(f)\r\n",
    "\r\n",
    "with open(CONFIG_PATH, \"r\") as stream:\r\n",
    "    config = yaml.safe_load(stream)\r\n",
    "\r\n",
    "TIME_ZONE = config['time_zone']\r\n",
    "DATETIME_FORMAT = config['dt_format']"
   ]
  },
  {
   "cell_type": "code",
   "execution_count": 3,
   "metadata": {
    "execution": {
     "iopub.execute_input": "2021-10-06T04:14:30.383586Z",
     "iopub.status.busy": "2021-10-06T04:14:30.383037Z",
     "iopub.status.idle": "2021-10-06T04:14:30.402973Z",
     "shell.execute_reply": "2021-10-06T04:14:30.403392Z"
    }
   },
   "outputs": [
    {
     "name": "stdout",
     "output_type": "stream",
     "text": [
      "Recent query happens at 2021-10-06 12:14:24 (CST).\n"
     ]
    }
   ],
   "source": [
    "def ts2dt(ts, format=DATETIME_FORMAT):\r\n",
    "    dt = (datetime.utcfromtimestamp(int(ts))\r\n",
    "                    .replace(tzinfo=tz.tzutc())\r\n",
    "                    # .astimezone(tz.tzlocal())\r\n",
    "                    .astimezone(tz.gettz(TIME_ZONE)))\r\n",
    "    return dt.strftime(format), dt\r\n",
    "\r\n",
    "_, newest_dt = ts2dt(newest_ts)\r\n",
    "print(f\"Recent query happens at {newest_dt.strftime(DATETIME_FORMAT)} ({newest_dt.tzname()}).\")"
   ]
  },
  {
   "cell_type": "code",
   "execution_count": 4,
   "metadata": {
    "execution": {
     "iopub.execute_input": "2021-10-06T04:14:30.409582Z",
     "iopub.status.busy": "2021-10-06T04:14:30.408010Z",
     "iopub.status.idle": "2021-10-06T04:14:30.410294Z",
     "shell.execute_reply": "2021-10-06T04:14:30.410732Z"
    }
   },
   "outputs": [],
   "source": [
    "def degrees_to_cardinal(d):\r\n",
    "  dirs = ['N', 'NNE', 'NE', 'ENE', 'E', 'ESE', 'SE', 'SSE', 'S', 'SSW', 'SW', 'WSW', 'W', 'WNW', 'NW', 'NNW']\r\n",
    "  ix = int(round(d / (360. / len(dirs))))\r\n",
    "  return dirs[ix % len(dirs)]"
   ]
  },
  {
   "cell_type": "code",
   "execution_count": 5,
   "metadata": {
    "execution": {
     "iopub.execute_input": "2021-10-06T04:14:30.415657Z",
     "iopub.status.busy": "2021-10-06T04:14:30.414193Z",
     "iopub.status.idle": "2021-10-06T04:14:30.416278Z",
     "shell.execute_reply": "2021-10-06T04:14:30.416985Z"
    }
   },
   "outputs": [],
   "source": [
    "# data.keys()"
   ]
  },
  {
   "cell_type": "code",
   "execution_count": 6,
   "metadata": {
    "execution": {
     "iopub.execute_input": "2021-10-06T04:14:30.421469Z",
     "iopub.status.busy": "2021-10-06T04:14:30.420114Z",
     "iopub.status.idle": "2021-10-06T04:14:30.422226Z",
     "shell.execute_reply": "2021-10-06T04:14:30.422708Z"
    }
   },
   "outputs": [],
   "source": [
    "# data['current']"
   ]
  },
  {
   "cell_type": "code",
   "execution_count": 7,
   "metadata": {
    "execution": {
     "iopub.execute_input": "2021-10-06T04:14:30.443958Z",
     "iopub.status.busy": "2021-10-06T04:14:30.443367Z",
     "iopub.status.idle": "2021-10-06T04:14:30.869834Z",
     "shell.execute_reply": "2021-10-06T04:14:30.870606Z"
    }
   },
   "outputs": [
    {
     "data": {
      "image/png": "[encoded data removed]",
      "text/plain": [
       "<Figure size 216x216 with 1 Axes>"
      ]
     },
     "metadata": {
      "needs_background": "light"
     },
     "output_type": "display_data"
    },
    {
     "name": "stdout",
     "output_type": "stream",
     "text": [
      "Today, sun rises at 06:15 and sets at 18:06.\n",
      "Currently, the weather is Clear (clear sky).\n",
      "The temperature is 31.46°C and it feels like 38.46°C.\n",
      "The UV index is 8.8, humidity is 70%.\n",
      "The pressure is 1008 hPa, percentage of cloud cover is 4%\n",
      "The wind comes from W direction with a speed 0.45 m/s.\n"
     ]
    }
   ],
   "source": [
    "current = data['current']\r\n",
    "\r\n",
    "fig, ax = plt.subplots(figsize=(3, 3))\r\n",
    "icon = requests.get(f\"http://openweathermap.org/img/wn/{current['weather'][0]['icon']}@2x.png\")\r\n",
    "im = Image.open(BytesIO(icon.content))\r\n",
    "plt.imshow(im)\r\n",
    "ax.set_axis_off()\r\n",
    "plt.show()\r\n",
    "\r\n",
    "print(f\"Today, sun rises at {ts2dt(current['sunrise'], '%H:%M')[0]} \\\r\n",
    "and sets at {ts2dt(current['sunset'], '%H:%M')[0]}.\\n\\\r\n",
    "Currently, the weather is {current['weather'][0]['main']} ({current['weather'][0]['description']}).\\n\\\r\n",
    "The temperature is {current['temp']}°C and it feels like {current['feels_like']}°C.\\n\\\r\n",
    "The UV index is {current['uvi']}, humidity is {current['humidity']}%.\\n\\\r\n",
    "The pressure is {current['pressure']} hPa, percentage of cloud cover is {current['clouds']}%\\n\\\r\n",
    "The wind comes from {degrees_to_cardinal(current['wind_deg'])} direction with a speed {current['wind_speed']} m/s.\")"
   ]
  },
  {
   "cell_type": "code",
   "execution_count": 8,
   "metadata": {
    "execution": {
     "iopub.execute_input": "2021-10-06T04:14:30.874649Z",
     "iopub.status.busy": "2021-10-06T04:14:30.873541Z",
     "iopub.status.idle": "2021-10-06T04:14:30.881849Z",
     "shell.execute_reply": "2021-10-06T04:14:30.882899Z"
    }
   },
   "outputs": [],
   "source": [
    "df_hourly = pd.DataFrame(data['hourly'])\r\n",
    "df_daily = pd.DataFrame(data['daily'])"
   ]
  },
  {
   "cell_type": "code",
   "execution_count": 9,
   "metadata": {
    "execution": {
     "iopub.execute_input": "2021-10-06T04:14:30.886450Z",
     "iopub.status.busy": "2021-10-06T04:14:30.885369Z",
     "iopub.status.idle": "2021-10-06T04:14:31.232563Z",
     "shell.execute_reply": "2021-10-06T04:14:31.233094Z"
    }
   },
   "outputs": [
    {
     "data": {
      "image/png": "[encoded data removed]",
      "text/plain": [
       "<Figure size 864x432 with 1 Axes>"
      ]
     },
     "metadata": {
      "needs_background": "light"
     },
     "output_type": "display_data"
    }
   ],
   "source": [
    "fig, ax = plt.subplots(figsize=(12, 6))\r\n",
    "plt.plot(df_hourly.temp, '.-', label='Temperature')\r\n",
    "plt.plot(df_hourly.feels_like, '.-', label='Feels Like')\r\n",
    "ax.set(title='Temperature in future 48 hours', xlabel='Time', ylabel='Temperature')\r\n",
    "ax.set_xticks(list(range(0, len(df_hourly), 2)))\r\n",
    "ax.set_xticklabels([ts2dt(ts, '%m-%d %H:%M')[0] for i, ts in enumerate(df_hourly.dt) if i%2==0], \r\n",
    "                   rotation=45, ha=\"right\")\r\n",
    "ax.locator_params(nbins=15, axis='y')\r\n",
    "plt.legend()\r\n",
    "plt.show()"
   ]
  },
  {
   "cell_type": "code",
   "execution_count": 10,
   "metadata": {
    "execution": {
     "iopub.execute_input": "2021-10-06T04:14:31.238292Z",
     "iopub.status.busy": "2021-10-06T04:14:31.237688Z",
     "iopub.status.idle": "2021-10-06T04:14:31.257369Z",
     "shell.execute_reply": "2021-10-06T04:14:31.257869Z"
    }
   },
   "outputs": [
    {
     "data": {
      "text/html": [
       "<div>\n",
       "<style scoped>\n",
       "    .dataframe tbody tr th:only-of-type {\n",
       "        vertical-align: middle;\n",
       "    }\n",
       "\n",
       "    .dataframe tbody tr th {\n",
       "        vertical-align: top;\n",
       "    }\n",
       "\n",
       "    .dataframe thead th {\n",
       "        text-align: right;\n",
       "    }\n",
       "</style>\n",
       "<table border=\"1\" class=\"dataframe\">\n",
       "  <thead>\n",
       "    <tr style=\"text-align: right;\">\n",
       "      <th></th>\n",
       "      <th>dt</th>\n",
       "      <th>temp</th>\n",
       "      <th>feels_like</th>\n",
       "      <th>pressure</th>\n",
       "      <th>humidity</th>\n",
       "      <th>dew_point</th>\n",
       "      <th>uvi</th>\n",
       "      <th>clouds</th>\n",
       "      <th>visibility</th>\n",
       "      <th>wind_speed</th>\n",
       "      <th>wind_deg</th>\n",
       "      <th>wind_gust</th>\n",
       "      <th>weather</th>\n",
       "      <th>pop</th>\n",
       "      <th>rain</th>\n",
       "    </tr>\n",
       "  </thead>\n",
       "  <tbody>\n",
       "    <tr>\n",
       "      <th>0</th>\n",
       "      <td>1633492800</td>\n",
       "      <td>31.46</td>\n",
       "      <td>38.46</td>\n",
       "      <td>1008</td>\n",
       "      <td>70</td>\n",
       "      <td>25.32</td>\n",
       "      <td>8.80</td>\n",
       "      <td>4</td>\n",
       "      <td>10000</td>\n",
       "      <td>7.05</td>\n",
       "      <td>73</td>\n",
       "      <td>8.57</td>\n",
       "      <td>[{'id': 800, 'main': 'Clear', 'description': '...</td>\n",
       "      <td>0.00</td>\n",
       "      <td>NaN</td>\n",
       "    </tr>\n",
       "    <tr>\n",
       "      <th>1</th>\n",
       "      <td>1633496400</td>\n",
       "      <td>31.08</td>\n",
       "      <td>37.21</td>\n",
       "      <td>1008</td>\n",
       "      <td>68</td>\n",
       "      <td>24.47</td>\n",
       "      <td>8.64</td>\n",
       "      <td>4</td>\n",
       "      <td>10000</td>\n",
       "      <td>6.68</td>\n",
       "      <td>78</td>\n",
       "      <td>8.17</td>\n",
       "      <td>[{'id': 800, 'main': 'Clear', 'description': '...</td>\n",
       "      <td>0.00</td>\n",
       "      <td>NaN</td>\n",
       "    </tr>\n",
       "    <tr>\n",
       "      <th>2</th>\n",
       "      <td>1633500000</td>\n",
       "      <td>30.74</td>\n",
       "      <td>35.81</td>\n",
       "      <td>1008</td>\n",
       "      <td>66</td>\n",
       "      <td>23.65</td>\n",
       "      <td>7.01</td>\n",
       "      <td>4</td>\n",
       "      <td>10000</td>\n",
       "      <td>6.38</td>\n",
       "      <td>83</td>\n",
       "      <td>7.92</td>\n",
       "      <td>[{'id': 800, 'main': 'Clear', 'description': '...</td>\n",
       "      <td>0.00</td>\n",
       "      <td>NaN</td>\n",
       "    </tr>\n",
       "    <tr>\n",
       "      <th>3</th>\n",
       "      <td>1633503600</td>\n",
       "      <td>30.36</td>\n",
       "      <td>34.67</td>\n",
       "      <td>1007</td>\n",
       "      <td>65</td>\n",
       "      <td>23.04</td>\n",
       "      <td>3.95</td>\n",
       "      <td>3</td>\n",
       "      <td>10000</td>\n",
       "      <td>6.72</td>\n",
       "      <td>88</td>\n",
       "      <td>7.93</td>\n",
       "      <td>[{'id': 800, 'main': 'Clear', 'description': '...</td>\n",
       "      <td>0.03</td>\n",
       "      <td>NaN</td>\n",
       "    </tr>\n",
       "    <tr>\n",
       "      <th>4</th>\n",
       "      <td>1633507200</td>\n",
       "      <td>29.68</td>\n",
       "      <td>33.62</td>\n",
       "      <td>1006</td>\n",
       "      <td>67</td>\n",
       "      <td>22.90</td>\n",
       "      <td>1.89</td>\n",
       "      <td>2</td>\n",
       "      <td>10000</td>\n",
       "      <td>6.97</td>\n",
       "      <td>87</td>\n",
       "      <td>7.89</td>\n",
       "      <td>[{'id': 800, 'main': 'Clear', 'description': '...</td>\n",
       "      <td>0.03</td>\n",
       "      <td>NaN</td>\n",
       "    </tr>\n",
       "  </tbody>\n",
       "</table>\n",
       "</div>"
      ],
      "text/plain": [
       "           dt   temp  feels_like  pressure  humidity  dew_point   uvi  clouds  \\\n",
       "0  1633492800  31.46       38.46      1008        70      25.32  8.80       4   \n",
       "1  1633496400  31.08       37.21      1008        68      24.47  8.64       4   \n",
       "2  1633500000  30.74       35.81      1008        66      23.65  7.01       4   \n",
       "3  1633503600  30.36       34.67      1007        65      23.04  3.95       3   \n",
       "4  1633507200  29.68       33.62      1006        67      22.90  1.89       2   \n",
       "\n",
       "   visibility  wind_speed  wind_deg  wind_gust  \\\n",
       "0       10000        7.05        73       8.57   \n",
       "1       10000        6.68        78       8.17   \n",
       "2       10000        6.38        83       7.92   \n",
       "3       10000        6.72        88       7.93   \n",
       "4       10000        6.97        87       7.89   \n",
       "\n",
       "                                             weather   pop rain  \n",
       "0  [{'id': 800, 'main': 'Clear', 'description': '...  0.00  NaN  \n",
       "1  [{'id': 800, 'main': 'Clear', 'description': '...  0.00  NaN  \n",
       "2  [{'id': 800, 'main': 'Clear', 'description': '...  0.00  NaN  \n",
       "3  [{'id': 800, 'main': 'Clear', 'description': '...  0.03  NaN  \n",
       "4  [{'id': 800, 'main': 'Clear', 'description': '...  0.03  NaN  "
      ]
     },
     "execution_count": 10,
     "metadata": {},
     "output_type": "execute_result"
    }
   ],
   "source": [
    "df_hourly.head()"
   ]
  },
  {
   "cell_type": "code",
   "execution_count": null,
   "metadata": {},
   "outputs": [],
   "source": []
  }
 ],
 "metadata": {
  "interpreter": {
   "hash": "c1b4cfe941b6d2466ad1fb5979e97da9cda8801728c8091b097ab734208fc00c"
  },
  "kernelspec": {
   "display_name": "Python 3.8.3 64-bit ('base': conda)",
   "name": "python3"
  },
  "language_info": {
   "codemirror_mode": {
    "name": "ipython",
    "version": 3
   },
   "file_extension": ".py",
   "mimetype": "text/x-python",
   "name": "python",
   "nbconvert_exporter": "python",
   "pygments_lexer": "ipython3",
   "version": "3.8.12"
  }
 },
 "nbformat": 4,
 "nbformat_minor": 2
}
