{
 "cells": [
  {
   "cell_type": "code",
   "execution_count": 1,
   "metadata": {
    "execution": {
     "iopub.execute_input": "2021-08-30T00:48:25.354433Z",
     "iopub.status.busy": "2021-08-30T00:48:25.353226Z",
     "iopub.status.idle": "2021-08-30T00:48:28.297889Z",
     "shell.execute_reply": "2021-08-30T00:48:28.298367Z"
    }
   },
   "outputs": [],
   "source": [
    "import json, yaml, requests\r\n",
    "from datetime import datetime\r\n",
    "from dateutil import tz\r\n",
    "import pandas as pd\r\n",
    "from PIL import Image\r\n",
    "from io import BytesIO\r\n",
    "import matplotlib.pyplot as plt\r\n",
    "import seaborn\r\n",
    "\r\n",
    "CONFIG_PATH = \"../config/config.yaml\""
   ]
  },
  {
   "cell_type": "code",
   "execution_count": 2,
   "metadata": {
    "execution": {
     "iopub.execute_input": "2021-08-30T00:48:28.304151Z",
     "iopub.status.busy": "2021-08-30T00:48:28.303255Z",
     "iopub.status.idle": "2021-08-30T00:48:28.309133Z",
     "shell.execute_reply": "2021-08-30T00:48:28.309548Z"
    }
   },
   "outputs": [],
   "source": [
    "with open('../newest_ts', 'r') as f:\r\n",
    "    newest_ts = f.read()\r\n",
    "\r\n",
    "data_path = f\"../data/data_{newest_ts}.json\"\r\n",
    "with open(data_path, 'r') as f:\r\n",
    "    data = json.load(f)\r\n",
    "\r\n",
    "with open(CONFIG_PATH, \"r\") as stream:\r\n",
    "    config = yaml.safe_load(stream)\r\n",
    "\r\n",
    "TIME_ZONE = config['time_zone']\r\n",
    "DATETIME_FORMAT = config['dt_format']"
   ]
  },
  {
   "cell_type": "code",
   "execution_count": 3,
   "metadata": {
    "execution": {
     "iopub.execute_input": "2021-08-30T00:48:28.314657Z",
     "iopub.status.busy": "2021-08-30T00:48:28.313896Z",
     "iopub.status.idle": "2021-08-30T00:48:28.324442Z",
     "shell.execute_reply": "2021-08-30T00:48:28.324892Z"
    }
   },
   "outputs": [
    {
     "name": "stdout",
     "output_type": "stream",
     "text": [
      "Recent query happens at 2021-08-30 08:48:22 (CST).\n"
     ]
    }
   ],
   "source": [
    "def ts2dt(ts, format=DATETIME_FORMAT):\r\n",
    "    dt = (datetime.utcfromtimestamp(int(ts))\r\n",
    "                    .replace(tzinfo=tz.tzutc())\r\n",
    "                    # .astimezone(tz.tzlocal())\r\n",
    "                    .astimezone(tz.gettz(TIME_ZONE)))\r\n",
    "    return dt.strftime(format), dt\r\n",
    "\r\n",
    "_, newest_dt = ts2dt(newest_ts)\r\n",
    "print(f\"Recent query happens at {newest_dt.strftime(DATETIME_FORMAT)} ({newest_dt.tzname()}).\")"
   ]
  },
  {
   "cell_type": "code",
   "execution_count": 4,
   "metadata": {
    "execution": {
     "iopub.execute_input": "2021-08-30T00:48:28.332466Z",
     "iopub.status.busy": "2021-08-30T00:48:28.330955Z",
     "iopub.status.idle": "2021-08-30T00:48:28.333158Z",
     "shell.execute_reply": "2021-08-30T00:48:28.333597Z"
    }
   },
   "outputs": [],
   "source": [
    "def degrees_to_cardinal(d):\r\n",
    "  dirs = ['N', 'NNE', 'NE', 'ENE', 'E', 'ESE', 'SE', 'SSE', 'S', 'SSW', 'SW', 'WSW', 'W', 'WNW', 'NW', 'NNW']\r\n",
    "  ix = int(round(d / (360. / len(dirs))))\r\n",
    "  return dirs[ix % len(dirs)]"
   ]
  },
  {
   "cell_type": "code",
   "execution_count": 5,
   "metadata": {
    "execution": {
     "iopub.execute_input": "2021-08-30T00:48:28.338644Z",
     "iopub.status.busy": "2021-08-30T00:48:28.337289Z",
     "iopub.status.idle": "2021-08-30T00:48:28.339315Z",
     "shell.execute_reply": "2021-08-30T00:48:28.339803Z"
    }
   },
   "outputs": [],
   "source": [
    "# data.keys()"
   ]
  },
  {
   "cell_type": "code",
   "execution_count": 6,
   "metadata": {
    "execution": {
     "iopub.execute_input": "2021-08-30T00:48:28.347040Z",
     "iopub.status.busy": "2021-08-30T00:48:28.344695Z",
     "iopub.status.idle": "2021-08-30T00:48:28.347756Z",
     "shell.execute_reply": "2021-08-30T00:48:28.348228Z"
    }
   },
   "outputs": [],
   "source": [
    "# data['current']"
   ]
  },
  {
   "cell_type": "code",
   "execution_count": 7,
   "metadata": {
    "execution": {
     "iopub.execute_input": "2021-08-30T00:48:28.369072Z",
     "iopub.status.busy": "2021-08-30T00:48:28.368462Z",
     "iopub.status.idle": "2021-08-30T00:48:28.802379Z",
     "shell.execute_reply": "2021-08-30T00:48:28.803154Z"
    }
   },
   "outputs": [
    {
     "data": {
      "image/png": "[encoded data removed]",
      "text/plain": [
       "<Figure size 216x216 with 1 Axes>"
      ]
     },
     "metadata": {
      "needs_background": "light"
     },
     "output_type": "display_data"
    },
    {
     "name": "stdout",
     "output_type": "stream",
     "text": [
      "Today, sun rises at 06:05 and sets at 18:42.\n",
      "Currently, the weather is Clear (clear sky).\n",
      "The temperature is 29.65°C and it feels like 36.65°C.\n",
      "The UV index is 3.98, humidity is 82%.\n",
      "The pressure is 1012 hPa, percentage of cloud cover is 7%\n",
      "The wind comes from ENE direction with a speed 4.32 m/s.\n"
     ]
    }
   ],
   "source": [
    "current = data['current']\r\n",
    "\r\n",
    "fig, ax = plt.subplots(figsize=(3, 3))\r\n",
    "icon = requests.get(f\"http://openweathermap.org/img/wn/{current['weather'][0]['icon']}@2x.png\")\r\n",
    "im = Image.open(BytesIO(icon.content))\r\n",
    "plt.imshow(im)\r\n",
    "ax.set_axis_off()\r\n",
    "plt.show()\r\n",
    "\r\n",
    "print(f\"Today, sun rises at {ts2dt(current['sunrise'], '%H:%M')[0]} \\\r\n",
    "and sets at {ts2dt(current['sunset'], '%H:%M')[0]}.\\n\\\r\n",
    "Currently, the weather is {current['weather'][0]['main']} ({current['weather'][0]['description']}).\\n\\\r\n",
    "The temperature is {current['temp']}°C and it feels like {current['feels_like']}°C.\\n\\\r\n",
    "The UV index is {current['uvi']}, humidity is {current['humidity']}%.\\n\\\r\n",
    "The pressure is {current['pressure']} hPa, percentage of cloud cover is {current['clouds']}%\\n\\\r\n",
    "The wind comes from {degrees_to_cardinal(current['wind_deg'])} direction with a speed {current['wind_speed']} m/s.\")"
   ]
  },
  {
   "cell_type": "code",
   "execution_count": 8,
   "metadata": {
    "execution": {
     "iopub.execute_input": "2021-08-30T00:48:28.806900Z",
     "iopub.status.busy": "2021-08-30T00:48:28.806217Z",
     "iopub.status.idle": "2021-08-30T00:48:28.814324Z",
     "shell.execute_reply": "2021-08-30T00:48:28.815070Z"
    }
   },
   "outputs": [],
   "source": [
    "df_hourly = pd.DataFrame(data['hourly'])\r\n",
    "df_daily = pd.DataFrame(data['daily'])"
   ]
  },
  {
   "cell_type": "code",
   "execution_count": 9,
   "metadata": {
    "execution": {
     "iopub.execute_input": "2021-08-30T00:48:28.818561Z",
     "iopub.status.busy": "2021-08-30T00:48:28.817541Z",
     "iopub.status.idle": "2021-08-30T00:48:29.145349Z",
     "shell.execute_reply": "2021-08-30T00:48:29.145824Z"
    }
   },
   "outputs": [
    {
     "data": {
      "image/png": "[encoded data removed]",
      "text/plain": [
       "<Figure size 864x432 with 1 Axes>"
      ]
     },
     "metadata": {
      "needs_background": "light"
     },
     "output_type": "display_data"
    }
   ],
   "source": [
    "fig, ax = plt.subplots(figsize=(12, 6))\r\n",
    "plt.plot(df_hourly.temp, '.-', label='Temperature')\r\n",
    "plt.plot(df_hourly.feels_like, '.-', label='Feels Like')\r\n",
    "ax.set(title='Temperature in future 48 hours', xlabel='Time', ylabel='Temperature')\r\n",
    "ax.set_xticks(list(range(0, len(df_hourly), 2)))\r\n",
    "ax.set_xticklabels([ts2dt(ts, '%m-%d %H:%M')[0] for i, ts in enumerate(df_hourly.dt) if i%2==0], \r\n",
    "                   rotation=45, ha=\"right\")\r\n",
    "ax.locator_params(nbins=15, axis='y')\r\n",
    "plt.legend()\r\n",
    "plt.show()"
   ]
  },
  {
   "cell_type": "code",
   "execution_count": 10,
   "metadata": {
    "execution": {
     "iopub.execute_input": "2021-08-30T00:48:29.159614Z",
     "iopub.status.busy": "2021-08-30T00:48:29.150599Z",
     "iopub.status.idle": "2021-08-30T00:48:29.172410Z",
     "shell.execute_reply": "2021-08-30T00:48:29.171886Z"
    }
   },
   "outputs": [
    {
     "data": {
      "text/html": [
       "<div>\n",
       "<style scoped>\n",
       "    .dataframe tbody tr th:only-of-type {\n",
       "        vertical-align: middle;\n",
       "    }\n",
       "\n",
       "    .dataframe tbody tr th {\n",
       "        vertical-align: top;\n",
       "    }\n",
       "\n",
       "    .dataframe thead th {\n",
       "        text-align: right;\n",
       "    }\n",
       "</style>\n",
       "<table border=\"1\" class=\"dataframe\">\n",
       "  <thead>\n",
       "    <tr style=\"text-align: right;\">\n",
       "      <th></th>\n",
       "      <th>dt</th>\n",
       "      <th>temp</th>\n",
       "      <th>feels_like</th>\n",
       "      <th>pressure</th>\n",
       "      <th>humidity</th>\n",
       "      <th>dew_point</th>\n",
       "      <th>uvi</th>\n",
       "      <th>clouds</th>\n",
       "      <th>visibility</th>\n",
       "      <th>wind_speed</th>\n",
       "      <th>wind_deg</th>\n",
       "      <th>wind_gust</th>\n",
       "      <th>weather</th>\n",
       "      <th>pop</th>\n",
       "      <th>rain</th>\n",
       "    </tr>\n",
       "  </thead>\n",
       "  <tbody>\n",
       "    <tr>\n",
       "      <th>0</th>\n",
       "      <td>1630281600</td>\n",
       "      <td>29.34</td>\n",
       "      <td>35.95</td>\n",
       "      <td>1012</td>\n",
       "      <td>81</td>\n",
       "      <td>25.74</td>\n",
       "      <td>1.55</td>\n",
       "      <td>10</td>\n",
       "      <td>10000</td>\n",
       "      <td>3.75</td>\n",
       "      <td>65</td>\n",
       "      <td>4.77</td>\n",
       "      <td>[{'id': 800, 'main': 'Clear', 'description': '...</td>\n",
       "      <td>0.58</td>\n",
       "      <td>NaN</td>\n",
       "    </tr>\n",
       "    <tr>\n",
       "      <th>1</th>\n",
       "      <td>1630285200</td>\n",
       "      <td>29.65</td>\n",
       "      <td>36.65</td>\n",
       "      <td>1012</td>\n",
       "      <td>82</td>\n",
       "      <td>26.25</td>\n",
       "      <td>3.98</td>\n",
       "      <td>7</td>\n",
       "      <td>10000</td>\n",
       "      <td>4.32</td>\n",
       "      <td>72</td>\n",
       "      <td>5.32</td>\n",
       "      <td>[{'id': 800, 'main': 'Clear', 'description': '...</td>\n",
       "      <td>0.00</td>\n",
       "      <td>NaN</td>\n",
       "    </tr>\n",
       "    <tr>\n",
       "      <th>2</th>\n",
       "      <td>1630288800</td>\n",
       "      <td>29.54</td>\n",
       "      <td>36.29</td>\n",
       "      <td>1012</td>\n",
       "      <td>80</td>\n",
       "      <td>25.72</td>\n",
       "      <td>7.12</td>\n",
       "      <td>9</td>\n",
       "      <td>10000</td>\n",
       "      <td>4.83</td>\n",
       "      <td>75</td>\n",
       "      <td>5.76</td>\n",
       "      <td>[{'id': 800, 'main': 'Clear', 'description': '...</td>\n",
       "      <td>0.05</td>\n",
       "      <td>NaN</td>\n",
       "    </tr>\n",
       "    <tr>\n",
       "      <th>3</th>\n",
       "      <td>1630292400</td>\n",
       "      <td>29.61</td>\n",
       "      <td>35.74</td>\n",
       "      <td>1012</td>\n",
       "      <td>77</td>\n",
       "      <td>25.15</td>\n",
       "      <td>10.02</td>\n",
       "      <td>10</td>\n",
       "      <td>10000</td>\n",
       "      <td>5.20</td>\n",
       "      <td>76</td>\n",
       "      <td>5.89</td>\n",
       "      <td>[{'id': 800, 'main': 'Clear', 'description': '...</td>\n",
       "      <td>0.10</td>\n",
       "      <td>NaN</td>\n",
       "    </tr>\n",
       "    <tr>\n",
       "      <th>4</th>\n",
       "      <td>1630296000</td>\n",
       "      <td>29.82</td>\n",
       "      <td>35.32</td>\n",
       "      <td>1012</td>\n",
       "      <td>73</td>\n",
       "      <td>24.46</td>\n",
       "      <td>11.84</td>\n",
       "      <td>11</td>\n",
       "      <td>10000</td>\n",
       "      <td>5.39</td>\n",
       "      <td>77</td>\n",
       "      <td>6.05</td>\n",
       "      <td>[{'id': 801, 'main': 'Clouds', 'description': ...</td>\n",
       "      <td>0.07</td>\n",
       "      <td>NaN</td>\n",
       "    </tr>\n",
       "  </tbody>\n",
       "</table>\n",
       "</div>"
      ],
      "text/plain": [
       "           dt   temp  feels_like  pressure  humidity  dew_point    uvi  \\\n",
       "0  1630281600  29.34       35.95      1012        81      25.74   1.55   \n",
       "1  1630285200  29.65       36.65      1012        82      26.25   3.98   \n",
       "2  1630288800  29.54       36.29      1012        80      25.72   7.12   \n",
       "3  1630292400  29.61       35.74      1012        77      25.15  10.02   \n",
       "4  1630296000  29.82       35.32      1012        73      24.46  11.84   \n",
       "\n",
       "   clouds  visibility  wind_speed  wind_deg  wind_gust  \\\n",
       "0      10       10000        3.75        65       4.77   \n",
       "1       7       10000        4.32        72       5.32   \n",
       "2       9       10000        4.83        75       5.76   \n",
       "3      10       10000        5.20        76       5.89   \n",
       "4      11       10000        5.39        77       6.05   \n",
       "\n",
       "                                             weather   pop rain  \n",
       "0  [{'id': 800, 'main': 'Clear', 'description': '...  0.58  NaN  \n",
       "1  [{'id': 800, 'main': 'Clear', 'description': '...  0.00  NaN  \n",
       "2  [{'id': 800, 'main': 'Clear', 'description': '...  0.05  NaN  \n",
       "3  [{'id': 800, 'main': 'Clear', 'description': '...  0.10  NaN  \n",
       "4  [{'id': 801, 'main': 'Clouds', 'description': ...  0.07  NaN  "
      ]
     },
     "execution_count": 10,
     "metadata": {},
     "output_type": "execute_result"
    }
   ],
   "source": [
    "df_hourly.head()"
   ]
  },
  {
   "cell_type": "code",
   "execution_count": null,
   "metadata": {},
   "outputs": [],
   "source": []
  }
 ],
 "metadata": {
  "interpreter": {
   "hash": "c1b4cfe941b6d2466ad1fb5979e97da9cda8801728c8091b097ab734208fc00c"
  },
  "kernelspec": {
   "display_name": "Python 3.8.3 64-bit ('base': conda)",
   "name": "python3"
  },
  "language_info": {
   "codemirror_mode": {
    "name": "ipython",
    "version": 3
   },
   "file_extension": ".py",
   "mimetype": "text/x-python",
   "name": "python",
   "nbconvert_exporter": "python",
   "pygments_lexer": "ipython3",
   "version": "3.8.11"
  }
 },
 "nbformat": 4,
 "nbformat_minor": 2
}
