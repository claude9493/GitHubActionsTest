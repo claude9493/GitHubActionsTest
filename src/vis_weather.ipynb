{
 "cells": [
  {
   "cell_type": "code",
   "execution_count": 1,
   "metadata": {
    "execution": {
     "iopub.execute_input": "2021-10-25T03:12:44.438841Z",
     "iopub.status.busy": "2021-10-25T03:12:44.438071Z",
     "iopub.status.idle": "2021-10-25T03:12:45.922845Z",
     "shell.execute_reply": "2021-10-25T03:12:45.923356Z"
    }
   },
   "outputs": [],
   "source": [
    "import json, yaml, requests\r\n",
    "from datetime import datetime\r\n",
    "from dateutil import tz\r\n",
    "import pandas as pd\r\n",
    "from PIL import Image\r\n",
    "from io import BytesIO\r\n",
    "import matplotlib.pyplot as plt\r\n",
    "import seaborn\r\n",
    "\r\n",
    "CONFIG_PATH = \"../config/config.yaml\""
   ]
  },
  {
   "cell_type": "code",
   "execution_count": 2,
   "metadata": {
    "execution": {
     "iopub.execute_input": "2021-10-25T03:12:45.928679Z",
     "iopub.status.busy": "2021-10-25T03:12:45.928064Z",
     "iopub.status.idle": "2021-10-25T03:12:45.933714Z",
     "shell.execute_reply": "2021-10-25T03:12:45.933287Z"
    }
   },
   "outputs": [],
   "source": [
    "with open('../newest_ts', 'r') as f:\r\n",
    "    newest_ts = f.read()\r\n",
    "\r\n",
    "data_path = f\"../data/data_{newest_ts}.json\"\r\n",
    "with open(data_path, 'r') as f:\r\n",
    "    data = json.load(f)\r\n",
    "\r\n",
    "with open(CONFIG_PATH, \"r\") as stream:\r\n",
    "    config = yaml.safe_load(stream)\r\n",
    "\r\n",
    "TIME_ZONE = config['time_zone']\r\n",
    "DATETIME_FORMAT = config['dt_format']"
   ]
  },
  {
   "cell_type": "code",
   "execution_count": 3,
   "metadata": {
    "execution": {
     "iopub.execute_input": "2021-10-25T03:12:45.938618Z",
     "iopub.status.busy": "2021-10-25T03:12:45.937959Z",
     "iopub.status.idle": "2021-10-25T03:12:45.944276Z",
     "shell.execute_reply": "2021-10-25T03:12:45.944755Z"
    }
   },
   "outputs": [
    {
     "name": "stdout",
     "output_type": "stream",
     "text": [
      "Recent query happens at 2021-10-25 11:12:41 (CST).\n"
     ]
    }
   ],
   "source": [
    "def ts2dt(ts, format=DATETIME_FORMAT):\r\n",
    "    dt = (datetime.utcfromtimestamp(int(ts))\r\n",
    "                    .replace(tzinfo=tz.tzutc())\r\n",
    "                    # .astimezone(tz.tzlocal())\r\n",
    "                    .astimezone(tz.gettz(TIME_ZONE)))\r\n",
    "    return dt.strftime(format), dt\r\n",
    "\r\n",
    "_, newest_dt = ts2dt(newest_ts)\r\n",
    "print(f\"Recent query happens at {newest_dt.strftime(DATETIME_FORMAT)} ({newest_dt.tzname()}).\")"
   ]
  },
  {
   "cell_type": "code",
   "execution_count": 4,
   "metadata": {
    "execution": {
     "iopub.execute_input": "2021-10-25T03:12:45.950884Z",
     "iopub.status.busy": "2021-10-25T03:12:45.949295Z",
     "iopub.status.idle": "2021-10-25T03:12:45.951574Z",
     "shell.execute_reply": "2021-10-25T03:12:45.951993Z"
    }
   },
   "outputs": [],
   "source": [
    "def degrees_to_cardinal(d):\r\n",
    "  dirs = ['N', 'NNE', 'NE', 'ENE', 'E', 'ESE', 'SE', 'SSE', 'S', 'SSW', 'SW', 'WSW', 'W', 'WNW', 'NW', 'NNW']\r\n",
    "  ix = int(round(d / (360. / len(dirs))))\r\n",
    "  return dirs[ix % len(dirs)]"
   ]
  },
  {
   "cell_type": "code",
   "execution_count": 5,
   "metadata": {
    "execution": {
     "iopub.execute_input": "2021-10-25T03:12:45.957175Z",
     "iopub.status.busy": "2021-10-25T03:12:45.955778Z",
     "iopub.status.idle": "2021-10-25T03:12:45.957939Z",
     "shell.execute_reply": "2021-10-25T03:12:45.958490Z"
    }
   },
   "outputs": [],
   "source": [
    "# data.keys()"
   ]
  },
  {
   "cell_type": "code",
   "execution_count": 6,
   "metadata": {
    "execution": {
     "iopub.execute_input": "2021-10-25T03:12:45.961989Z",
     "iopub.status.busy": "2021-10-25T03:12:45.961172Z",
     "iopub.status.idle": "2021-10-25T03:12:45.963505Z",
     "shell.execute_reply": "2021-10-25T03:12:45.963979Z"
    }
   },
   "outputs": [],
   "source": [
    "# data['current']"
   ]
  },
  {
   "cell_type": "code",
   "execution_count": 7,
   "metadata": {
    "execution": {
     "iopub.execute_input": "2021-10-25T03:12:45.984141Z",
     "iopub.status.busy": "2021-10-25T03:12:45.983642Z",
     "iopub.status.idle": "2021-10-25T03:12:46.398495Z",
     "shell.execute_reply": "2021-10-25T03:12:46.398989Z"
    }
   },
   "outputs": [
    {
     "data": {
      "image/png": "[encoded data removed]",
      "text/plain": [
       "<Figure size 216x216 with 1 Axes>"
      ]
     },
     "metadata": {
      "needs_background": "light"
     },
     "output_type": "display_data"
    },
    {
     "name": "stdout",
     "output_type": "stream",
     "text": [
      "Today, sun rises at 06:23 and sets at 17:50.\n",
      "Currently, the weather is Clouds (overcast clouds).\n",
      "The temperature is 23.16°C and it feels like 23.39°C.\n",
      "The UV index is 5.94, humidity is 71%.\n",
      "The pressure is 1017 hPa, percentage of cloud cover is 95%\n",
      "The wind comes from NNW direction with a speed 2.68 m/s.\n"
     ]
    }
   ],
   "source": [
    "current = data['current']\r\n",
    "\r\n",
    "fig, ax = plt.subplots(figsize=(3, 3))\r\n",
    "icon = requests.get(f\"http://openweathermap.org/img/wn/{current['weather'][0]['icon']}@2x.png\")\r\n",
    "im = Image.open(BytesIO(icon.content))\r\n",
    "plt.imshow(im)\r\n",
    "ax.set_axis_off()\r\n",
    "plt.show()\r\n",
    "\r\n",
    "print(f\"Today, sun rises at {ts2dt(current['sunrise'], '%H:%M')[0]} \\\r\n",
    "and sets at {ts2dt(current['sunset'], '%H:%M')[0]}.\\n\\\r\n",
    "Currently, the weather is {current['weather'][0]['main']} ({current['weather'][0]['description']}).\\n\\\r\n",
    "The temperature is {current['temp']}°C and it feels like {current['feels_like']}°C.\\n\\\r\n",
    "The UV index is {current['uvi']}, humidity is {current['humidity']}%.\\n\\\r\n",
    "The pressure is {current['pressure']} hPa, percentage of cloud cover is {current['clouds']}%\\n\\\r\n",
    "The wind comes from {degrees_to_cardinal(current['wind_deg'])} direction with a speed {current['wind_speed']} m/s.\")"
   ]
  },
  {
   "cell_type": "code",
   "execution_count": 8,
   "metadata": {
    "execution": {
     "iopub.execute_input": "2021-10-25T03:12:46.403943Z",
     "iopub.status.busy": "2021-10-25T03:12:46.403337Z",
     "iopub.status.idle": "2021-10-25T03:12:46.408561Z",
     "shell.execute_reply": "2021-10-25T03:12:46.409112Z"
    }
   },
   "outputs": [],
   "source": [
    "df_hourly = pd.DataFrame(data['hourly'])\r\n",
    "df_daily = pd.DataFrame(data['daily'])"
   ]
  },
  {
   "cell_type": "code",
   "execution_count": 9,
   "metadata": {
    "execution": {
     "iopub.execute_input": "2021-10-25T03:12:46.411809Z",
     "iopub.status.busy": "2021-10-25T03:12:46.411301Z",
     "iopub.status.idle": "2021-10-25T03:12:46.790988Z",
     "shell.execute_reply": "2021-10-25T03:12:46.791593Z"
    }
   },
   "outputs": [
    {
     "data": {
      "image/png": "[encoded data removed]",
      "text/plain": [
       "<Figure size 864x432 with 1 Axes>"
      ]
     },
     "metadata": {
      "needs_background": "light"
     },
     "output_type": "display_data"
    }
   ],
   "source": [
    "fig, ax = plt.subplots(figsize=(12, 6))\r\n",
    "plt.plot(df_hourly.temp, '.-', label='Temperature')\r\n",
    "plt.plot(df_hourly.feels_like, '.-', label='Feels Like')\r\n",
    "ax.set(title='Temperature in future 48 hours', xlabel='Time', ylabel='Temperature')\r\n",
    "ax.set_xticks(list(range(0, len(df_hourly), 2)))\r\n",
    "ax.set_xticklabels([ts2dt(ts, '%m-%d %H:%M')[0] for i, ts in enumerate(df_hourly.dt) if i%2==0], \r\n",
    "                   rotation=45, ha=\"right\")\r\n",
    "ax.locator_params(nbins=15, axis='y')\r\n",
    "plt.legend()\r\n",
    "plt.show()"
   ]
  },
  {
   "cell_type": "code",
   "execution_count": 10,
   "metadata": {
    "execution": {
     "iopub.execute_input": "2021-10-25T03:12:46.795952Z",
     "iopub.status.busy": "2021-10-25T03:12:46.795485Z",
     "iopub.status.idle": "2021-10-25T03:12:46.813449Z",
     "shell.execute_reply": "2021-10-25T03:12:46.813890Z"
    }
   },
   "outputs": [
    {
     "data": {
      "text/html": [
       "<div>\n",
       "<style scoped>\n",
       "    .dataframe tbody tr th:only-of-type {\n",
       "        vertical-align: middle;\n",
       "    }\n",
       "\n",
       "    .dataframe tbody tr th {\n",
       "        vertical-align: top;\n",
       "    }\n",
       "\n",
       "    .dataframe thead th {\n",
       "        text-align: right;\n",
       "    }\n",
       "</style>\n",
       "<table border=\"1\" class=\"dataframe\">\n",
       "  <thead>\n",
       "    <tr style=\"text-align: right;\">\n",
       "      <th></th>\n",
       "      <th>dt</th>\n",
       "      <th>temp</th>\n",
       "      <th>feels_like</th>\n",
       "      <th>pressure</th>\n",
       "      <th>humidity</th>\n",
       "      <th>dew_point</th>\n",
       "      <th>uvi</th>\n",
       "      <th>clouds</th>\n",
       "      <th>visibility</th>\n",
       "      <th>wind_speed</th>\n",
       "      <th>wind_deg</th>\n",
       "      <th>wind_gust</th>\n",
       "      <th>weather</th>\n",
       "      <th>pop</th>\n",
       "    </tr>\n",
       "  </thead>\n",
       "  <tbody>\n",
       "    <tr>\n",
       "      <th>0</th>\n",
       "      <td>1635130800</td>\n",
       "      <td>23.16</td>\n",
       "      <td>23.39</td>\n",
       "      <td>1017</td>\n",
       "      <td>71</td>\n",
       "      <td>17.62</td>\n",
       "      <td>5.94</td>\n",
       "      <td>95</td>\n",
       "      <td>10000</td>\n",
       "      <td>3.05</td>\n",
       "      <td>24</td>\n",
       "      <td>4.17</td>\n",
       "      <td>[{'id': 804, 'main': 'Clouds', 'description': ...</td>\n",
       "      <td>0.0</td>\n",
       "    </tr>\n",
       "    <tr>\n",
       "      <th>1</th>\n",
       "      <td>1635134400</td>\n",
       "      <td>23.20</td>\n",
       "      <td>23.35</td>\n",
       "      <td>1017</td>\n",
       "      <td>68</td>\n",
       "      <td>16.97</td>\n",
       "      <td>7.34</td>\n",
       "      <td>93</td>\n",
       "      <td>10000</td>\n",
       "      <td>2.91</td>\n",
       "      <td>38</td>\n",
       "      <td>3.83</td>\n",
       "      <td>[{'id': 804, 'main': 'Clouds', 'description': ...</td>\n",
       "      <td>0.0</td>\n",
       "    </tr>\n",
       "    <tr>\n",
       "      <th>2</th>\n",
       "      <td>1635138000</td>\n",
       "      <td>23.46</td>\n",
       "      <td>23.58</td>\n",
       "      <td>1017</td>\n",
       "      <td>66</td>\n",
       "      <td>16.75</td>\n",
       "      <td>7.20</td>\n",
       "      <td>85</td>\n",
       "      <td>10000</td>\n",
       "      <td>3.28</td>\n",
       "      <td>58</td>\n",
       "      <td>4.05</td>\n",
       "      <td>[{'id': 804, 'main': 'Clouds', 'description': ...</td>\n",
       "      <td>0.0</td>\n",
       "    </tr>\n",
       "    <tr>\n",
       "      <th>3</th>\n",
       "      <td>1635141600</td>\n",
       "      <td>23.74</td>\n",
       "      <td>23.81</td>\n",
       "      <td>1016</td>\n",
       "      <td>63</td>\n",
       "      <td>16.28</td>\n",
       "      <td>5.78</td>\n",
       "      <td>75</td>\n",
       "      <td>10000</td>\n",
       "      <td>3.34</td>\n",
       "      <td>64</td>\n",
       "      <td>3.96</td>\n",
       "      <td>[{'id': 803, 'main': 'Clouds', 'description': ...</td>\n",
       "      <td>0.0</td>\n",
       "    </tr>\n",
       "    <tr>\n",
       "      <th>4</th>\n",
       "      <td>1635145200</td>\n",
       "      <td>23.99</td>\n",
       "      <td>24.04</td>\n",
       "      <td>1015</td>\n",
       "      <td>61</td>\n",
       "      <td>16.01</td>\n",
       "      <td>3.60</td>\n",
       "      <td>38</td>\n",
       "      <td>10000</td>\n",
       "      <td>3.41</td>\n",
       "      <td>64</td>\n",
       "      <td>3.99</td>\n",
       "      <td>[{'id': 802, 'main': 'Clouds', 'description': ...</td>\n",
       "      <td>0.0</td>\n",
       "    </tr>\n",
       "  </tbody>\n",
       "</table>\n",
       "</div>"
      ],
      "text/plain": [
       "           dt   temp  feels_like  pressure  humidity  dew_point   uvi  clouds  \\\n",
       "0  1635130800  23.16       23.39      1017        71      17.62  5.94      95   \n",
       "1  1635134400  23.20       23.35      1017        68      16.97  7.34      93   \n",
       "2  1635138000  23.46       23.58      1017        66      16.75  7.20      85   \n",
       "3  1635141600  23.74       23.81      1016        63      16.28  5.78      75   \n",
       "4  1635145200  23.99       24.04      1015        61      16.01  3.60      38   \n",
       "\n",
       "   visibility  wind_speed  wind_deg  wind_gust  \\\n",
       "0       10000        3.05        24       4.17   \n",
       "1       10000        2.91        38       3.83   \n",
       "2       10000        3.28        58       4.05   \n",
       "3       10000        3.34        64       3.96   \n",
       "4       10000        3.41        64       3.99   \n",
       "\n",
       "                                             weather  pop  \n",
       "0  [{'id': 804, 'main': 'Clouds', 'description': ...  0.0  \n",
       "1  [{'id': 804, 'main': 'Clouds', 'description': ...  0.0  \n",
       "2  [{'id': 804, 'main': 'Clouds', 'description': ...  0.0  \n",
       "3  [{'id': 803, 'main': 'Clouds', 'description': ...  0.0  \n",
       "4  [{'id': 802, 'main': 'Clouds', 'description': ...  0.0  "
      ]
     },
     "execution_count": 10,
     "metadata": {},
     "output_type": "execute_result"
    }
   ],
   "source": [
    "df_hourly.head()"
   ]
  },
  {
   "cell_type": "code",
   "execution_count": null,
   "metadata": {},
   "outputs": [],
   "source": []
  }
 ],
 "metadata": {
  "interpreter": {
   "hash": "c1b4cfe941b6d2466ad1fb5979e97da9cda8801728c8091b097ab734208fc00c"
  },
  "kernelspec": {
   "display_name": "Python 3.8.3 64-bit ('base': conda)",
   "name": "python3"
  },
  "language_info": {
   "codemirror_mode": {
    "name": "ipython",
    "version": 3
   },
   "file_extension": ".py",
   "mimetype": "text/x-python",
   "name": "python",
   "nbconvert_exporter": "python",
   "pygments_lexer": "ipython3",
   "version": "3.8.12"
  }
 },
 "nbformat": 4,
 "nbformat_minor": 2
}
