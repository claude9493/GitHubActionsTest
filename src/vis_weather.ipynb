{
 "cells": [
  {
   "cell_type": "code",
   "execution_count": 1,
   "metadata": {
    "execution": {
     "iopub.execute_input": "2021-08-29T05:13:20.539899Z",
     "iopub.status.busy": "2021-08-29T05:13:20.539277Z",
     "iopub.status.idle": "2021-08-29T05:13:23.339371Z",
     "shell.execute_reply": "2021-08-29T05:13:23.338765Z"
    }
   },
   "outputs": [],
   "source": [
    "import json, yaml, requests\r\n",
    "from datetime import datetime\r\n",
    "from dateutil import tz\r\n",
    "import pandas as pd\r\n",
    "from PIL import Image\r\n",
    "from io import BytesIO\r\n",
    "import matplotlib.pyplot as plt\r\n",
    "import seaborn\r\n",
    "\r\n",
    "CONFIG_PATH = \"../config/config.yaml\""
   ]
  },
  {
   "cell_type": "code",
   "execution_count": 2,
   "metadata": {
    "execution": {
     "iopub.execute_input": "2021-08-29T05:13:23.347636Z",
     "iopub.status.busy": "2021-08-29T05:13:23.344553Z",
     "iopub.status.idle": "2021-08-29T05:13:23.350403Z",
     "shell.execute_reply": "2021-08-29T05:13:23.349967Z"
    }
   },
   "outputs": [],
   "source": [
    "with open('../newest_ts', 'r') as f:\r\n",
    "    newest_ts = f.read()\r\n",
    "\r\n",
    "data_path = f\"../data/data_{newest_ts}.json\"\r\n",
    "with open(data_path, 'r') as f:\r\n",
    "    data = json.load(f)\r\n",
    "\r\n",
    "with open(CONFIG_PATH, \"r\") as stream:\r\n",
    "    config = yaml.safe_load(stream)\r\n",
    "\r\n",
    "TIME_ZONE = config['time_zone']\r\n",
    "DATETIME_FORMAT = config['dt_format']"
   ]
  },
  {
   "cell_type": "code",
   "execution_count": 3,
   "metadata": {
    "execution": {
     "iopub.execute_input": "2021-08-29T05:13:23.355718Z",
     "iopub.status.busy": "2021-08-29T05:13:23.355009Z",
     "iopub.status.idle": "2021-08-29T05:13:23.366118Z",
     "shell.execute_reply": "2021-08-29T05:13:23.366498Z"
    }
   },
   "outputs": [
    {
     "name": "stdout",
     "output_type": "stream",
     "text": [
      "Recent query happens at 2021-08-29 13:13:17 (CST).\n"
     ]
    }
   ],
   "source": [
    "def ts2dt(ts, format=DATETIME_FORMAT):\r\n",
    "    dt = (datetime.utcfromtimestamp(int(ts))\r\n",
    "                    .replace(tzinfo=tz.tzutc())\r\n",
    "                    # .astimezone(tz.tzlocal())\r\n",
    "                    .astimezone(tz.gettz(TIME_ZONE)))\r\n",
    "    return dt.strftime(format), dt\r\n",
    "\r\n",
    "_, newest_dt = ts2dt(newest_ts)\r\n",
    "print(f\"Recent query happens at {newest_dt.strftime(DATETIME_FORMAT)} ({newest_dt.tzname()}).\")"
   ]
  },
  {
   "cell_type": "code",
   "execution_count": 4,
   "metadata": {
    "execution": {
     "iopub.execute_input": "2021-08-29T05:13:23.372279Z",
     "iopub.status.busy": "2021-08-29T05:13:23.371018Z",
     "iopub.status.idle": "2021-08-29T05:13:23.372873Z",
     "shell.execute_reply": "2021-08-29T05:13:23.373295Z"
    }
   },
   "outputs": [],
   "source": [
    "def degrees_to_cardinal(d):\r\n",
    "  dirs = ['N', 'NNE', 'NE', 'ENE', 'E', 'ESE', 'SE', 'SSE', 'S', 'SSW', 'SW', 'WSW', 'W', 'WNW', 'NW', 'NNW']\r\n",
    "  ix = int(round(d / (360. / len(dirs))))\r\n",
    "  return dirs[ix % len(dirs)]"
   ]
  },
  {
   "cell_type": "code",
   "execution_count": 5,
   "metadata": {
    "execution": {
     "iopub.execute_input": "2021-08-29T05:13:23.377543Z",
     "iopub.status.busy": "2021-08-29T05:13:23.376594Z",
     "iopub.status.idle": "2021-08-29T05:13:23.378879Z",
     "shell.execute_reply": "2021-08-29T05:13:23.378421Z"
    }
   },
   "outputs": [],
   "source": [
    "# data.keys()"
   ]
  },
  {
   "cell_type": "code",
   "execution_count": 6,
   "metadata": {
    "execution": {
     "iopub.execute_input": "2021-08-29T05:13:23.383024Z",
     "iopub.status.busy": "2021-08-29T05:13:23.381776Z",
     "iopub.status.idle": "2021-08-29T05:13:23.383625Z",
     "shell.execute_reply": "2021-08-29T05:13:23.384069Z"
    }
   },
   "outputs": [],
   "source": [
    "# data['current']"
   ]
  },
  {
   "cell_type": "code",
   "execution_count": 7,
   "metadata": {
    "execution": {
     "iopub.execute_input": "2021-08-29T05:13:23.407013Z",
     "iopub.status.busy": "2021-08-29T05:13:23.404849Z",
     "iopub.status.idle": "2021-08-29T05:13:23.704139Z",
     "shell.execute_reply": "2021-08-29T05:13:23.704889Z"
    }
   },
   "outputs": [
    {
     "data": {
      "image/png": "[encoded data removed]",
      "text/plain": [
       "<Figure size 216x216 with 1 Axes>"
      ]
     },
     "metadata": {
      "needs_background": "light"
     },
     "output_type": "display_data"
    },
    {
     "name": "stdout",
     "output_type": "stream",
     "text": [
      "Today, sun rises at 06:04 and sets at 18:43.\n",
      "Currently, the weather is Clouds (overcast clouds).\n",
      "The temperature is 28.05°C and it feels like 33.04°C.\n",
      "The UV index is 8.39, humidity is 85%.\n",
      "The pressure is 1011 hPa, percentage of cloud cover is 97%\n",
      "The wind comes from ESE direction with a speed 5.3 m/s.\n"
     ]
    }
   ],
   "source": [
    "current = data['current']\r\n",
    "\r\n",
    "fig, ax = plt.subplots(figsize=(3, 3))\r\n",
    "icon = requests.get(f\"http://openweathermap.org/img/wn/{current['weather'][0]['icon']}@2x.png\")\r\n",
    "im = Image.open(BytesIO(icon.content))\r\n",
    "plt.imshow(im)\r\n",
    "ax.set_axis_off()\r\n",
    "plt.show()\r\n",
    "\r\n",
    "print(f\"Today, sun rises at {ts2dt(current['sunrise'], '%H:%M')[0]} \\\r\n",
    "and sets at {ts2dt(current['sunset'], '%H:%M')[0]}.\\n\\\r\n",
    "Currently, the weather is {current['weather'][0]['main']} ({current['weather'][0]['description']}).\\n\\\r\n",
    "The temperature is {current['temp']}°C and it feels like {current['feels_like']}°C.\\n\\\r\n",
    "The UV index is {current['uvi']}, humidity is {current['humidity']}%.\\n\\\r\n",
    "The pressure is {current['pressure']} hPa, percentage of cloud cover is {current['clouds']}%\\n\\\r\n",
    "The wind comes from {degrees_to_cardinal(current['wind_deg'])} direction with a speed {current['wind_speed']} m/s.\")"
   ]
  },
  {
   "cell_type": "code",
   "execution_count": 8,
   "metadata": {
    "execution": {
     "iopub.execute_input": "2021-08-29T05:13:23.708254Z",
     "iopub.status.busy": "2021-08-29T05:13:23.707735Z",
     "iopub.status.idle": "2021-08-29T05:13:23.714563Z",
     "shell.execute_reply": "2021-08-29T05:13:23.715468Z"
    }
   },
   "outputs": [],
   "source": [
    "df_hourly = pd.DataFrame(data['hourly'])\r\n",
    "df_daily = pd.DataFrame(data['daily'])"
   ]
  },
  {
   "cell_type": "code",
   "execution_count": 9,
   "metadata": {
    "execution": {
     "iopub.execute_input": "2021-08-29T05:13:23.718895Z",
     "iopub.status.busy": "2021-08-29T05:13:23.717863Z",
     "iopub.status.idle": "2021-08-29T05:13:23.986674Z",
     "shell.execute_reply": "2021-08-29T05:13:23.986208Z"
    }
   },
   "outputs": [
    {
     "data": {
      "image/png": "[encoded data removed]",
      "text/plain": [
       "<Figure size 864x432 with 1 Axes>"
      ]
     },
     "metadata": {
      "needs_background": "light"
     },
     "output_type": "display_data"
    }
   ],
   "source": [
    "fig, ax = plt.subplots(figsize=(12, 6))\r\n",
    "plt.plot(df_hourly.temp, '.-', label='Temperature')\r\n",
    "plt.plot(df_hourly.feels_like, '.-', label='Feels Like')\r\n",
    "ax.set(title='Temperature in future 48 hours', xlabel='Time', ylabel='Temperature')\r\n",
    "ax.set_xticks(list(range(0, len(df_hourly), 2)))\r\n",
    "ax.set_xticklabels([ts2dt(ts, '%m-%d %H:%M')[0] for i, ts in enumerate(df_hourly.dt) if i%2==0], \r\n",
    "                   rotation=45, ha=\"right\")\r\n",
    "ax.locator_params(nbins=15, axis='y')\r\n",
    "plt.legend()\r\n",
    "plt.show()"
   ]
  },
  {
   "cell_type": "code",
   "execution_count": 10,
   "metadata": {
    "execution": {
     "iopub.execute_input": "2021-08-29T05:13:23.998620Z",
     "iopub.status.busy": "2021-08-29T05:13:23.991215Z",
     "iopub.status.idle": "2021-08-29T05:13:24.009863Z",
     "shell.execute_reply": "2021-08-29T05:13:24.009413Z"
    }
   },
   "outputs": [
    {
     "data": {
      "text/html": [
       "<div>\n",
       "<style scoped>\n",
       "    .dataframe tbody tr th:only-of-type {\n",
       "        vertical-align: middle;\n",
       "    }\n",
       "\n",
       "    .dataframe tbody tr th {\n",
       "        vertical-align: top;\n",
       "    }\n",
       "\n",
       "    .dataframe thead th {\n",
       "        text-align: right;\n",
       "    }\n",
       "</style>\n",
       "<table border=\"1\" class=\"dataframe\">\n",
       "  <thead>\n",
       "    <tr style=\"text-align: right;\">\n",
       "      <th></th>\n",
       "      <th>dt</th>\n",
       "      <th>temp</th>\n",
       "      <th>feels_like</th>\n",
       "      <th>pressure</th>\n",
       "      <th>humidity</th>\n",
       "      <th>dew_point</th>\n",
       "      <th>uvi</th>\n",
       "      <th>clouds</th>\n",
       "      <th>visibility</th>\n",
       "      <th>wind_speed</th>\n",
       "      <th>wind_deg</th>\n",
       "      <th>wind_gust</th>\n",
       "      <th>weather</th>\n",
       "      <th>pop</th>\n",
       "      <th>rain</th>\n",
       "    </tr>\n",
       "  </thead>\n",
       "  <tbody>\n",
       "    <tr>\n",
       "      <th>0</th>\n",
       "      <td>1630213200</td>\n",
       "      <td>28.05</td>\n",
       "      <td>33.04</td>\n",
       "      <td>1011</td>\n",
       "      <td>85</td>\n",
       "      <td>25.29</td>\n",
       "      <td>8.39</td>\n",
       "      <td>97</td>\n",
       "      <td>10000</td>\n",
       "      <td>5.30</td>\n",
       "      <td>105</td>\n",
       "      <td>7.38</td>\n",
       "      <td>[{'id': 500, 'main': 'Rain', 'description': 'l...</td>\n",
       "      <td>0.77</td>\n",
       "      <td>{'1h': 0.81}</td>\n",
       "    </tr>\n",
       "    <tr>\n",
       "      <th>1</th>\n",
       "      <td>1630216800</td>\n",
       "      <td>28.39</td>\n",
       "      <td>33.46</td>\n",
       "      <td>1011</td>\n",
       "      <td>82</td>\n",
       "      <td>25.02</td>\n",
       "      <td>6.97</td>\n",
       "      <td>97</td>\n",
       "      <td>10000</td>\n",
       "      <td>4.93</td>\n",
       "      <td>110</td>\n",
       "      <td>6.81</td>\n",
       "      <td>[{'id': 804, 'main': 'Clouds', 'description': ...</td>\n",
       "      <td>0.77</td>\n",
       "      <td>NaN</td>\n",
       "    </tr>\n",
       "    <tr>\n",
       "      <th>2</th>\n",
       "      <td>1630220400</td>\n",
       "      <td>28.78</td>\n",
       "      <td>33.93</td>\n",
       "      <td>1011</td>\n",
       "      <td>79</td>\n",
       "      <td>24.77</td>\n",
       "      <td>6.35</td>\n",
       "      <td>96</td>\n",
       "      <td>10000</td>\n",
       "      <td>4.21</td>\n",
       "      <td>107</td>\n",
       "      <td>6.00</td>\n",
       "      <td>[{'id': 804, 'main': 'Clouds', 'description': ...</td>\n",
       "      <td>0.68</td>\n",
       "      <td>NaN</td>\n",
       "    </tr>\n",
       "    <tr>\n",
       "      <th>3</th>\n",
       "      <td>1630224000</td>\n",
       "      <td>29.05</td>\n",
       "      <td>34.02</td>\n",
       "      <td>1010</td>\n",
       "      <td>76</td>\n",
       "      <td>24.39</td>\n",
       "      <td>3.35</td>\n",
       "      <td>96</td>\n",
       "      <td>10000</td>\n",
       "      <td>4.44</td>\n",
       "      <td>100</td>\n",
       "      <td>5.79</td>\n",
       "      <td>[{'id': 804, 'main': 'Clouds', 'description': ...</td>\n",
       "      <td>0.60</td>\n",
       "      <td>NaN</td>\n",
       "    </tr>\n",
       "    <tr>\n",
       "      <th>4</th>\n",
       "      <td>1630227600</td>\n",
       "      <td>29.07</td>\n",
       "      <td>33.87</td>\n",
       "      <td>1010</td>\n",
       "      <td>75</td>\n",
       "      <td>24.18</td>\n",
       "      <td>1.21</td>\n",
       "      <td>95</td>\n",
       "      <td>10000</td>\n",
       "      <td>4.36</td>\n",
       "      <td>97</td>\n",
       "      <td>5.74</td>\n",
       "      <td>[{'id': 804, 'main': 'Clouds', 'description': ...</td>\n",
       "      <td>0.53</td>\n",
       "      <td>NaN</td>\n",
       "    </tr>\n",
       "  </tbody>\n",
       "</table>\n",
       "</div>"
      ],
      "text/plain": [
       "           dt   temp  feels_like  pressure  humidity  dew_point   uvi  clouds  \\\n",
       "0  1630213200  28.05       33.04      1011        85      25.29  8.39      97   \n",
       "1  1630216800  28.39       33.46      1011        82      25.02  6.97      97   \n",
       "2  1630220400  28.78       33.93      1011        79      24.77  6.35      96   \n",
       "3  1630224000  29.05       34.02      1010        76      24.39  3.35      96   \n",
       "4  1630227600  29.07       33.87      1010        75      24.18  1.21      95   \n",
       "\n",
       "   visibility  wind_speed  wind_deg  wind_gust  \\\n",
       "0       10000        5.30       105       7.38   \n",
       "1       10000        4.93       110       6.81   \n",
       "2       10000        4.21       107       6.00   \n",
       "3       10000        4.44       100       5.79   \n",
       "4       10000        4.36        97       5.74   \n",
       "\n",
       "                                             weather   pop          rain  \n",
       "0  [{'id': 500, 'main': 'Rain', 'description': 'l...  0.77  {'1h': 0.81}  \n",
       "1  [{'id': 804, 'main': 'Clouds', 'description': ...  0.77           NaN  \n",
       "2  [{'id': 804, 'main': 'Clouds', 'description': ...  0.68           NaN  \n",
       "3  [{'id': 804, 'main': 'Clouds', 'description': ...  0.60           NaN  \n",
       "4  [{'id': 804, 'main': 'Clouds', 'description': ...  0.53           NaN  "
      ]
     },
     "execution_count": 10,
     "metadata": {},
     "output_type": "execute_result"
    }
   ],
   "source": [
    "df_hourly.head()"
   ]
  },
  {
   "cell_type": "code",
   "execution_count": null,
   "metadata": {},
   "outputs": [],
   "source": []
  }
 ],
 "metadata": {
  "interpreter": {
   "hash": "c1b4cfe941b6d2466ad1fb5979e97da9cda8801728c8091b097ab734208fc00c"
  },
  "kernelspec": {
   "display_name": "Python 3.8.3 64-bit ('base': conda)",
   "name": "python3"
  },
  "language_info": {
   "codemirror_mode": {
    "name": "ipython",
    "version": 3
   },
   "file_extension": ".py",
   "mimetype": "text/x-python",
   "name": "python",
   "nbconvert_exporter": "python",
   "pygments_lexer": "ipython3",
   "version": "3.8.11"
  }
 },
 "nbformat": 4,
 "nbformat_minor": 2
}
