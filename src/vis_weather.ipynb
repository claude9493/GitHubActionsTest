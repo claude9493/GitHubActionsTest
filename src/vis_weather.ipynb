{
 "cells": [
  {
   "cell_type": "code",
   "execution_count": 1,
   "metadata": {
    "execution": {
     "iopub.execute_input": "2021-10-03T02:30:10.842029Z",
     "iopub.status.busy": "2021-10-03T02:30:10.841447Z",
     "iopub.status.idle": "2021-10-03T02:30:11.978299Z",
     "shell.execute_reply": "2021-10-03T02:30:11.978750Z"
    }
   },
   "outputs": [],
   "source": [
    "import json, yaml, requests\r\n",
    "from datetime import datetime\r\n",
    "from dateutil import tz\r\n",
    "import pandas as pd\r\n",
    "from PIL import Image\r\n",
    "from io import BytesIO\r\n",
    "import matplotlib.pyplot as plt\r\n",
    "import seaborn\r\n",
    "\r\n",
    "CONFIG_PATH = \"../config/config.yaml\""
   ]
  },
  {
   "cell_type": "code",
   "execution_count": 2,
   "metadata": {
    "execution": {
     "iopub.execute_input": "2021-10-03T02:30:11.985774Z",
     "iopub.status.busy": "2021-10-03T02:30:11.983122Z",
     "iopub.status.idle": "2021-10-03T02:30:11.988380Z",
     "shell.execute_reply": "2021-10-03T02:30:11.987940Z"
    }
   },
   "outputs": [],
   "source": [
    "with open('../newest_ts', 'r') as f:\r\n",
    "    newest_ts = f.read()\r\n",
    "\r\n",
    "data_path = f\"../data/data_{newest_ts}.json\"\r\n",
    "with open(data_path, 'r') as f:\r\n",
    "    data = json.load(f)\r\n",
    "\r\n",
    "with open(CONFIG_PATH, \"r\") as stream:\r\n",
    "    config = yaml.safe_load(stream)\r\n",
    "\r\n",
    "TIME_ZONE = config['time_zone']\r\n",
    "DATETIME_FORMAT = config['dt_format']"
   ]
  },
  {
   "cell_type": "code",
   "execution_count": 3,
   "metadata": {
    "execution": {
     "iopub.execute_input": "2021-10-03T02:30:11.992751Z",
     "iopub.status.busy": "2021-10-03T02:30:11.992300Z",
     "iopub.status.idle": "2021-10-03T02:30:11.997368Z",
     "shell.execute_reply": "2021-10-03T02:30:11.997718Z"
    }
   },
   "outputs": [
    {
     "name": "stdout",
     "output_type": "stream",
     "text": [
      "Recent query happens at 2021-10-03 10:30:07 (CST).\n"
     ]
    }
   ],
   "source": [
    "def ts2dt(ts, format=DATETIME_FORMAT):\r\n",
    "    dt = (datetime.utcfromtimestamp(int(ts))\r\n",
    "                    .replace(tzinfo=tz.tzutc())\r\n",
    "                    # .astimezone(tz.tzlocal())\r\n",
    "                    .astimezone(tz.gettz(TIME_ZONE)))\r\n",
    "    return dt.strftime(format), dt\r\n",
    "\r\n",
    "_, newest_dt = ts2dt(newest_ts)\r\n",
    "print(f\"Recent query happens at {newest_dt.strftime(DATETIME_FORMAT)} ({newest_dt.tzname()}).\")"
   ]
  },
  {
   "cell_type": "code",
   "execution_count": 4,
   "metadata": {
    "execution": {
     "iopub.execute_input": "2021-10-03T02:30:12.002364Z",
     "iopub.status.busy": "2021-10-03T02:30:12.001348Z",
     "iopub.status.idle": "2021-10-03T02:30:12.002878Z",
     "shell.execute_reply": "2021-10-03T02:30:12.003237Z"
    }
   },
   "outputs": [],
   "source": [
    "def degrees_to_cardinal(d):\r\n",
    "  dirs = ['N', 'NNE', 'NE', 'ENE', 'E', 'ESE', 'SE', 'SSE', 'S', 'SSW', 'SW', 'WSW', 'W', 'WNW', 'NW', 'NNW']\r\n",
    "  ix = int(round(d / (360. / len(dirs))))\r\n",
    "  return dirs[ix % len(dirs)]"
   ]
  },
  {
   "cell_type": "code",
   "execution_count": 5,
   "metadata": {
    "execution": {
     "iopub.execute_input": "2021-10-03T02:30:12.007114Z",
     "iopub.status.busy": "2021-10-03T02:30:12.005971Z",
     "iopub.status.idle": "2021-10-03T02:30:12.007632Z",
     "shell.execute_reply": "2021-10-03T02:30:12.007990Z"
    }
   },
   "outputs": [],
   "source": [
    "# data.keys()"
   ]
  },
  {
   "cell_type": "code",
   "execution_count": 6,
   "metadata": {
    "execution": {
     "iopub.execute_input": "2021-10-03T02:30:12.011596Z",
     "iopub.status.busy": "2021-10-03T02:30:12.010656Z",
     "iopub.status.idle": "2021-10-03T02:30:12.012672Z",
     "shell.execute_reply": "2021-10-03T02:30:12.012306Z"
    }
   },
   "outputs": [],
   "source": [
    "# data['current']"
   ]
  },
  {
   "cell_type": "code",
   "execution_count": 7,
   "metadata": {
    "execution": {
     "iopub.execute_input": "2021-10-03T02:30:12.029776Z",
     "iopub.status.busy": "2021-10-03T02:30:12.029312Z",
     "iopub.status.idle": "2021-10-03T02:30:12.407060Z",
     "shell.execute_reply": "2021-10-03T02:30:12.407456Z"
    }
   },
   "outputs": [
    {
     "data": {
      "image/png": "[encoded data removed]",
      "text/plain": [
       "<Figure size 216x216 with 1 Axes>"
      ]
     },
     "metadata": {
      "needs_background": "light"
     },
     "output_type": "display_data"
    },
    {
     "name": "stdout",
     "output_type": "stream",
     "text": [
      "Today, sun rises at 06:14 and sets at 18:09.\n",
      "Currently, the weather is Rain (light rain).\n",
      "The temperature is 28.92°C and it feels like 35.62°C.\n",
      "The UV index is 7.91, humidity is 85%.\n",
      "The pressure is 1017 hPa, percentage of cloud cover is 78%\n",
      "The wind comes from ENE direction with a speed 5.81 m/s.\n"
     ]
    }
   ],
   "source": [
    "current = data['current']\r\n",
    "\r\n",
    "fig, ax = plt.subplots(figsize=(3, 3))\r\n",
    "icon = requests.get(f\"http://openweathermap.org/img/wn/{current['weather'][0]['icon']}@2x.png\")\r\n",
    "im = Image.open(BytesIO(icon.content))\r\n",
    "plt.imshow(im)\r\n",
    "ax.set_axis_off()\r\n",
    "plt.show()\r\n",
    "\r\n",
    "print(f\"Today, sun rises at {ts2dt(current['sunrise'], '%H:%M')[0]} \\\r\n",
    "and sets at {ts2dt(current['sunset'], '%H:%M')[0]}.\\n\\\r\n",
    "Currently, the weather is {current['weather'][0]['main']} ({current['weather'][0]['description']}).\\n\\\r\n",
    "The temperature is {current['temp']}°C and it feels like {current['feels_like']}°C.\\n\\\r\n",
    "The UV index is {current['uvi']}, humidity is {current['humidity']}%.\\n\\\r\n",
    "The pressure is {current['pressure']} hPa, percentage of cloud cover is {current['clouds']}%\\n\\\r\n",
    "The wind comes from {degrees_to_cardinal(current['wind_deg'])} direction with a speed {current['wind_speed']} m/s.\")"
   ]
  },
  {
   "cell_type": "code",
   "execution_count": 8,
   "metadata": {
    "execution": {
     "iopub.execute_input": "2021-10-03T02:30:12.414326Z",
     "iopub.status.busy": "2021-10-03T02:30:12.413563Z",
     "iopub.status.idle": "2021-10-03T02:30:12.416309Z",
     "shell.execute_reply": "2021-10-03T02:30:12.416943Z"
    }
   },
   "outputs": [],
   "source": [
    "df_hourly = pd.DataFrame(data['hourly'])\r\n",
    "df_daily = pd.DataFrame(data['daily'])"
   ]
  },
  {
   "cell_type": "code",
   "execution_count": 9,
   "metadata": {
    "execution": {
     "iopub.execute_input": "2021-10-03T02:30:12.420036Z",
     "iopub.status.busy": "2021-10-03T02:30:12.419008Z",
     "iopub.status.idle": "2021-10-03T02:30:12.654337Z",
     "shell.execute_reply": "2021-10-03T02:30:12.653882Z"
    }
   },
   "outputs": [
    {
     "data": {
      "image/png": "[encoded data removed]",
      "text/plain": [
       "<Figure size 864x432 with 1 Axes>"
      ]
     },
     "metadata": {
      "needs_background": "light"
     },
     "output_type": "display_data"
    }
   ],
   "source": [
    "fig, ax = plt.subplots(figsize=(12, 6))\r\n",
    "plt.plot(df_hourly.temp, '.-', label='Temperature')\r\n",
    "plt.plot(df_hourly.feels_like, '.-', label='Feels Like')\r\n",
    "ax.set(title='Temperature in future 48 hours', xlabel='Time', ylabel='Temperature')\r\n",
    "ax.set_xticks(list(range(0, len(df_hourly), 2)))\r\n",
    "ax.set_xticklabels([ts2dt(ts, '%m-%d %H:%M')[0] for i, ts in enumerate(df_hourly.dt) if i%2==0], \r\n",
    "                   rotation=45, ha=\"right\")\r\n",
    "ax.locator_params(nbins=15, axis='y')\r\n",
    "plt.legend()\r\n",
    "plt.show()"
   ]
  },
  {
   "cell_type": "code",
   "execution_count": 10,
   "metadata": {
    "execution": {
     "iopub.execute_input": "2021-10-03T02:30:12.666041Z",
     "iopub.status.busy": "2021-10-03T02:30:12.658230Z",
     "iopub.status.idle": "2021-10-03T02:30:12.675824Z",
     "shell.execute_reply": "2021-10-03T02:30:12.676396Z"
    }
   },
   "outputs": [
    {
     "data": {
      "text/html": [
       "<div>\n",
       "<style scoped>\n",
       "    .dataframe tbody tr th:only-of-type {\n",
       "        vertical-align: middle;\n",
       "    }\n",
       "\n",
       "    .dataframe tbody tr th {\n",
       "        vertical-align: top;\n",
       "    }\n",
       "\n",
       "    .dataframe thead th {\n",
       "        text-align: right;\n",
       "    }\n",
       "</style>\n",
       "<table border=\"1\" class=\"dataframe\">\n",
       "  <thead>\n",
       "    <tr style=\"text-align: right;\">\n",
       "      <th></th>\n",
       "      <th>dt</th>\n",
       "      <th>temp</th>\n",
       "      <th>feels_like</th>\n",
       "      <th>pressure</th>\n",
       "      <th>humidity</th>\n",
       "      <th>dew_point</th>\n",
       "      <th>uvi</th>\n",
       "      <th>clouds</th>\n",
       "      <th>visibility</th>\n",
       "      <th>wind_speed</th>\n",
       "      <th>wind_deg</th>\n",
       "      <th>wind_gust</th>\n",
       "      <th>weather</th>\n",
       "      <th>pop</th>\n",
       "      <th>rain</th>\n",
       "    </tr>\n",
       "  </thead>\n",
       "  <tbody>\n",
       "    <tr>\n",
       "      <th>0</th>\n",
       "      <td>1633226400</td>\n",
       "      <td>28.86</td>\n",
       "      <td>34.78</td>\n",
       "      <td>1016</td>\n",
       "      <td>82</td>\n",
       "      <td>25.48</td>\n",
       "      <td>5.41</td>\n",
       "      <td>79</td>\n",
       "      <td>10000</td>\n",
       "      <td>6.63</td>\n",
       "      <td>93</td>\n",
       "      <td>7.76</td>\n",
       "      <td>[{'id': 500, 'main': 'Rain', 'description': 'l...</td>\n",
       "      <td>0.75</td>\n",
       "      <td>{'1h': 0.14}</td>\n",
       "    </tr>\n",
       "    <tr>\n",
       "      <th>1</th>\n",
       "      <td>1633230000</td>\n",
       "      <td>28.92</td>\n",
       "      <td>35.62</td>\n",
       "      <td>1017</td>\n",
       "      <td>85</td>\n",
       "      <td>26.14</td>\n",
       "      <td>7.91</td>\n",
       "      <td>78</td>\n",
       "      <td>10000</td>\n",
       "      <td>6.78</td>\n",
       "      <td>97</td>\n",
       "      <td>7.65</td>\n",
       "      <td>[{'id': 500, 'main': 'Rain', 'description': 'l...</td>\n",
       "      <td>0.71</td>\n",
       "      <td>{'1h': 0.36}</td>\n",
       "    </tr>\n",
       "    <tr>\n",
       "      <th>2</th>\n",
       "      <td>1633233600</td>\n",
       "      <td>28.96</td>\n",
       "      <td>35.07</td>\n",
       "      <td>1016</td>\n",
       "      <td>82</td>\n",
       "      <td>25.57</td>\n",
       "      <td>9.21</td>\n",
       "      <td>78</td>\n",
       "      <td>10000</td>\n",
       "      <td>6.65</td>\n",
       "      <td>102</td>\n",
       "      <td>7.56</td>\n",
       "      <td>[{'id': 500, 'main': 'Rain', 'description': 'l...</td>\n",
       "      <td>0.67</td>\n",
       "      <td>{'1h': 0.27}</td>\n",
       "    </tr>\n",
       "    <tr>\n",
       "      <th>3</th>\n",
       "      <td>1633237200</td>\n",
       "      <td>29.02</td>\n",
       "      <td>34.58</td>\n",
       "      <td>1015</td>\n",
       "      <td>79</td>\n",
       "      <td>25.01</td>\n",
       "      <td>9.05</td>\n",
       "      <td>78</td>\n",
       "      <td>10000</td>\n",
       "      <td>5.96</td>\n",
       "      <td>97</td>\n",
       "      <td>7.06</td>\n",
       "      <td>[{'id': 803, 'main': 'Clouds', 'description': ...</td>\n",
       "      <td>0.67</td>\n",
       "      <td>NaN</td>\n",
       "    </tr>\n",
       "    <tr>\n",
       "      <th>4</th>\n",
       "      <td>1633240800</td>\n",
       "      <td>29.05</td>\n",
       "      <td>34.23</td>\n",
       "      <td>1013</td>\n",
       "      <td>77</td>\n",
       "      <td>24.60</td>\n",
       "      <td>7.35</td>\n",
       "      <td>80</td>\n",
       "      <td>10000</td>\n",
       "      <td>6.53</td>\n",
       "      <td>93</td>\n",
       "      <td>7.21</td>\n",
       "      <td>[{'id': 803, 'main': 'Clouds', 'description': ...</td>\n",
       "      <td>0.67</td>\n",
       "      <td>NaN</td>\n",
       "    </tr>\n",
       "  </tbody>\n",
       "</table>\n",
       "</div>"
      ],
      "text/plain": [
       "           dt   temp  feels_like  pressure  humidity  dew_point   uvi  clouds  \\\n",
       "0  1633226400  28.86       34.78      1016        82      25.48  5.41      79   \n",
       "1  1633230000  28.92       35.62      1017        85      26.14  7.91      78   \n",
       "2  1633233600  28.96       35.07      1016        82      25.57  9.21      78   \n",
       "3  1633237200  29.02       34.58      1015        79      25.01  9.05      78   \n",
       "4  1633240800  29.05       34.23      1013        77      24.60  7.35      80   \n",
       "\n",
       "   visibility  wind_speed  wind_deg  wind_gust  \\\n",
       "0       10000        6.63        93       7.76   \n",
       "1       10000        6.78        97       7.65   \n",
       "2       10000        6.65       102       7.56   \n",
       "3       10000        5.96        97       7.06   \n",
       "4       10000        6.53        93       7.21   \n",
       "\n",
       "                                             weather   pop          rain  \n",
       "0  [{'id': 500, 'main': 'Rain', 'description': 'l...  0.75  {'1h': 0.14}  \n",
       "1  [{'id': 500, 'main': 'Rain', 'description': 'l...  0.71  {'1h': 0.36}  \n",
       "2  [{'id': 500, 'main': 'Rain', 'description': 'l...  0.67  {'1h': 0.27}  \n",
       "3  [{'id': 803, 'main': 'Clouds', 'description': ...  0.67           NaN  \n",
       "4  [{'id': 803, 'main': 'Clouds', 'description': ...  0.67           NaN  "
      ]
     },
     "execution_count": 10,
     "metadata": {},
     "output_type": "execute_result"
    }
   ],
   "source": [
    "df_hourly.head()"
   ]
  },
  {
   "cell_type": "code",
   "execution_count": null,
   "metadata": {},
   "outputs": [],
   "source": []
  }
 ],
 "metadata": {
  "interpreter": {
   "hash": "c1b4cfe941b6d2466ad1fb5979e97da9cda8801728c8091b097ab734208fc00c"
  },
  "kernelspec": {
   "display_name": "Python 3.8.3 64-bit ('base': conda)",
   "name": "python3"
  },
  "language_info": {
   "codemirror_mode": {
    "name": "ipython",
    "version": 3
   },
   "file_extension": ".py",
   "mimetype": "text/x-python",
   "name": "python",
   "nbconvert_exporter": "python",
   "pygments_lexer": "ipython3",
   "version": "3.8.12"
  }
 },
 "nbformat": 4,
 "nbformat_minor": 2
}
