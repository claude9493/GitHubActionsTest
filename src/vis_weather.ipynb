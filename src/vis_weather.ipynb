{
 "cells": [
  {
   "cell_type": "code",
   "execution_count": 1,
   "metadata": {
    "execution": {
     "iopub.execute_input": "2021-10-06T23:11:47.114421Z",
     "iopub.status.busy": "2021-10-06T23:11:47.113784Z",
     "iopub.status.idle": "2021-10-06T23:11:49.141878Z",
     "shell.execute_reply": "2021-10-06T23:11:49.141246Z"
    }
   },
   "outputs": [],
   "source": [
    "import json, yaml, requests\r\n",
    "from datetime import datetime\r\n",
    "from dateutil import tz\r\n",
    "import pandas as pd\r\n",
    "from PIL import Image\r\n",
    "from io import BytesIO\r\n",
    "import matplotlib.pyplot as plt\r\n",
    "import seaborn\r\n",
    "\r\n",
    "CONFIG_PATH = \"../config/config.yaml\""
   ]
  },
  {
   "cell_type": "code",
   "execution_count": 2,
   "metadata": {
    "execution": {
     "iopub.execute_input": "2021-10-06T23:11:49.147154Z",
     "iopub.status.busy": "2021-10-06T23:11:49.146646Z",
     "iopub.status.idle": "2021-10-06T23:11:49.151590Z",
     "shell.execute_reply": "2021-10-06T23:11:49.151168Z"
    }
   },
   "outputs": [],
   "source": [
    "with open('../newest_ts', 'r') as f:\r\n",
    "    newest_ts = f.read()\r\n",
    "\r\n",
    "data_path = f\"../data/data_{newest_ts}.json\"\r\n",
    "with open(data_path, 'r') as f:\r\n",
    "    data = json.load(f)\r\n",
    "\r\n",
    "with open(CONFIG_PATH, \"r\") as stream:\r\n",
    "    config = yaml.safe_load(stream)\r\n",
    "\r\n",
    "TIME_ZONE = config['time_zone']\r\n",
    "DATETIME_FORMAT = config['dt_format']"
   ]
  },
  {
   "cell_type": "code",
   "execution_count": 3,
   "metadata": {
    "execution": {
     "iopub.execute_input": "2021-10-06T23:11:49.156317Z",
     "iopub.status.busy": "2021-10-06T23:11:49.155829Z",
     "iopub.status.idle": "2021-10-06T23:11:49.182835Z",
     "shell.execute_reply": "2021-10-06T23:11:49.183284Z"
    }
   },
   "outputs": [
    {
     "name": "stdout",
     "output_type": "stream",
     "text": [
      "Recent query happens at 2021-10-07 07:11:44 (CST).\n"
     ]
    }
   ],
   "source": [
    "def ts2dt(ts, format=DATETIME_FORMAT):\r\n",
    "    dt = (datetime.utcfromtimestamp(int(ts))\r\n",
    "                    .replace(tzinfo=tz.tzutc())\r\n",
    "                    # .astimezone(tz.tzlocal())\r\n",
    "                    .astimezone(tz.gettz(TIME_ZONE)))\r\n",
    "    return dt.strftime(format), dt\r\n",
    "\r\n",
    "_, newest_dt = ts2dt(newest_ts)\r\n",
    "print(f\"Recent query happens at {newest_dt.strftime(DATETIME_FORMAT)} ({newest_dt.tzname()}).\")"
   ]
  },
  {
   "cell_type": "code",
   "execution_count": 4,
   "metadata": {
    "execution": {
     "iopub.execute_input": "2021-10-06T23:11:49.189300Z",
     "iopub.status.busy": "2021-10-06T23:11:49.188091Z",
     "iopub.status.idle": "2021-10-06T23:11:49.189846Z",
     "shell.execute_reply": "2021-10-06T23:11:49.190234Z"
    }
   },
   "outputs": [],
   "source": [
    "def degrees_to_cardinal(d):\r\n",
    "  dirs = ['N', 'NNE', 'NE', 'ENE', 'E', 'ESE', 'SE', 'SSE', 'S', 'SSW', 'SW', 'WSW', 'W', 'WNW', 'NW', 'NNW']\r\n",
    "  ix = int(round(d / (360. / len(dirs))))\r\n",
    "  return dirs[ix % len(dirs)]"
   ]
  },
  {
   "cell_type": "code",
   "execution_count": 5,
   "metadata": {
    "execution": {
     "iopub.execute_input": "2021-10-06T23:11:49.194841Z",
     "iopub.status.busy": "2021-10-06T23:11:49.193652Z",
     "iopub.status.idle": "2021-10-06T23:11:49.195384Z",
     "shell.execute_reply": "2021-10-06T23:11:49.195768Z"
    }
   },
   "outputs": [],
   "source": [
    "# data.keys()"
   ]
  },
  {
   "cell_type": "code",
   "execution_count": 6,
   "metadata": {
    "execution": {
     "iopub.execute_input": "2021-10-06T23:11:49.199870Z",
     "iopub.status.busy": "2021-10-06T23:11:49.198808Z",
     "iopub.status.idle": "2021-10-06T23:11:49.200462Z",
     "shell.execute_reply": "2021-10-06T23:11:49.200860Z"
    }
   },
   "outputs": [],
   "source": [
    "# data['current']"
   ]
  },
  {
   "cell_type": "code",
   "execution_count": 7,
   "metadata": {
    "execution": {
     "iopub.execute_input": "2021-10-06T23:11:49.218319Z",
     "iopub.status.busy": "2021-10-06T23:11:49.217783Z",
     "iopub.status.idle": "2021-10-06T23:11:49.575143Z",
     "shell.execute_reply": "2021-10-06T23:11:49.575846Z"
    }
   },
   "outputs": [
    {
     "data": {
      "image/png": "[encoded data removed]",
      "text/plain": [
       "<Figure size 216x216 with 1 Axes>"
      ]
     },
     "metadata": {
      "needs_background": "light"
     },
     "output_type": "display_data"
    },
    {
     "name": "stdout",
     "output_type": "stream",
     "text": [
      "Today, sun rises at 06:16 and sets at 18:05.\n",
      "Currently, the weather is Clear (clear sky).\n",
      "The temperature is 28.82°C and it feels like 32.88°C.\n",
      "The UV index is 0.13, humidity is 73%.\n",
      "The pressure is 1005 hPa, percentage of cloud cover is 5%\n",
      "The wind comes from W direction with a speed 0.89 m/s.\n"
     ]
    }
   ],
   "source": [
    "current = data['current']\r\n",
    "\r\n",
    "fig, ax = plt.subplots(figsize=(3, 3))\r\n",
    "icon = requests.get(f\"http://openweathermap.org/img/wn/{current['weather'][0]['icon']}@2x.png\")\r\n",
    "im = Image.open(BytesIO(icon.content))\r\n",
    "plt.imshow(im)\r\n",
    "ax.set_axis_off()\r\n",
    "plt.show()\r\n",
    "\r\n",
    "print(f\"Today, sun rises at {ts2dt(current['sunrise'], '%H:%M')[0]} \\\r\n",
    "and sets at {ts2dt(current['sunset'], '%H:%M')[0]}.\\n\\\r\n",
    "Currently, the weather is {current['weather'][0]['main']} ({current['weather'][0]['description']}).\\n\\\r\n",
    "The temperature is {current['temp']}°C and it feels like {current['feels_like']}°C.\\n\\\r\n",
    "The UV index is {current['uvi']}, humidity is {current['humidity']}%.\\n\\\r\n",
    "The pressure is {current['pressure']} hPa, percentage of cloud cover is {current['clouds']}%\\n\\\r\n",
    "The wind comes from {degrees_to_cardinal(current['wind_deg'])} direction with a speed {current['wind_speed']} m/s.\")"
   ]
  },
  {
   "cell_type": "code",
   "execution_count": 8,
   "metadata": {
    "execution": {
     "iopub.execute_input": "2021-10-06T23:11:49.579194Z",
     "iopub.status.busy": "2021-10-06T23:11:49.578237Z",
     "iopub.status.idle": "2021-10-06T23:11:49.585517Z",
     "shell.execute_reply": "2021-10-06T23:11:49.586219Z"
    }
   },
   "outputs": [],
   "source": [
    "df_hourly = pd.DataFrame(data['hourly'])\r\n",
    "df_daily = pd.DataFrame(data['daily'])"
   ]
  },
  {
   "cell_type": "code",
   "execution_count": 9,
   "metadata": {
    "execution": {
     "iopub.execute_input": "2021-10-06T23:11:49.589454Z",
     "iopub.status.busy": "2021-10-06T23:11:49.588488Z",
     "iopub.status.idle": "2021-10-06T23:11:49.838283Z",
     "shell.execute_reply": "2021-10-06T23:11:49.838723Z"
    }
   },
   "outputs": [
    {
     "data": {
      "image/png": "[encoded data removed]",
      "text/plain": [
       "<Figure size 864x432 with 1 Axes>"
      ]
     },
     "metadata": {
      "needs_background": "light"
     },
     "output_type": "display_data"
    }
   ],
   "source": [
    "fig, ax = plt.subplots(figsize=(12, 6))\r\n",
    "plt.plot(df_hourly.temp, '.-', label='Temperature')\r\n",
    "plt.plot(df_hourly.feels_like, '.-', label='Feels Like')\r\n",
    "ax.set(title='Temperature in future 48 hours', xlabel='Time', ylabel='Temperature')\r\n",
    "ax.set_xticks(list(range(0, len(df_hourly), 2)))\r\n",
    "ax.set_xticklabels([ts2dt(ts, '%m-%d %H:%M')[0] for i, ts in enumerate(df_hourly.dt) if i%2==0], \r\n",
    "                   rotation=45, ha=\"right\")\r\n",
    "ax.locator_params(nbins=15, axis='y')\r\n",
    "plt.legend()\r\n",
    "plt.show()"
   ]
  },
  {
   "cell_type": "code",
   "execution_count": 10,
   "metadata": {
    "execution": {
     "iopub.execute_input": "2021-10-06T23:11:49.850510Z",
     "iopub.status.busy": "2021-10-06T23:11:49.843172Z",
     "iopub.status.idle": "2021-10-06T23:11:49.862663Z",
     "shell.execute_reply": "2021-10-06T23:11:49.862218Z"
    }
   },
   "outputs": [
    {
     "data": {
      "text/html": [
       "<div>\n",
       "<style scoped>\n",
       "    .dataframe tbody tr th:only-of-type {\n",
       "        vertical-align: middle;\n",
       "    }\n",
       "\n",
       "    .dataframe tbody tr th {\n",
       "        vertical-align: top;\n",
       "    }\n",
       "\n",
       "    .dataframe thead th {\n",
       "        text-align: right;\n",
       "    }\n",
       "</style>\n",
       "<table border=\"1\" class=\"dataframe\">\n",
       "  <thead>\n",
       "    <tr style=\"text-align: right;\">\n",
       "      <th></th>\n",
       "      <th>dt</th>\n",
       "      <th>temp</th>\n",
       "      <th>feels_like</th>\n",
       "      <th>pressure</th>\n",
       "      <th>humidity</th>\n",
       "      <th>dew_point</th>\n",
       "      <th>uvi</th>\n",
       "      <th>clouds</th>\n",
       "      <th>visibility</th>\n",
       "      <th>wind_speed</th>\n",
       "      <th>wind_deg</th>\n",
       "      <th>wind_gust</th>\n",
       "      <th>weather</th>\n",
       "      <th>pop</th>\n",
       "      <th>rain</th>\n",
       "    </tr>\n",
       "  </thead>\n",
       "  <tbody>\n",
       "    <tr>\n",
       "      <th>0</th>\n",
       "      <td>1633561200</td>\n",
       "      <td>28.82</td>\n",
       "      <td>32.88</td>\n",
       "      <td>1005</td>\n",
       "      <td>73</td>\n",
       "      <td>23.49</td>\n",
       "      <td>0.13</td>\n",
       "      <td>5</td>\n",
       "      <td>10000</td>\n",
       "      <td>9.02</td>\n",
       "      <td>64</td>\n",
       "      <td>13.20</td>\n",
       "      <td>[{'id': 800, 'main': 'Clear', 'description': '...</td>\n",
       "      <td>0.81</td>\n",
       "      <td>NaN</td>\n",
       "    </tr>\n",
       "    <tr>\n",
       "      <th>1</th>\n",
       "      <td>1633564800</td>\n",
       "      <td>28.63</td>\n",
       "      <td>32.62</td>\n",
       "      <td>1006</td>\n",
       "      <td>74</td>\n",
       "      <td>23.54</td>\n",
       "      <td>0.88</td>\n",
       "      <td>5</td>\n",
       "      <td>10000</td>\n",
       "      <td>8.77</td>\n",
       "      <td>62</td>\n",
       "      <td>13.18</td>\n",
       "      <td>[{'id': 800, 'main': 'Clear', 'description': '...</td>\n",
       "      <td>0.77</td>\n",
       "      <td>NaN</td>\n",
       "    </tr>\n",
       "    <tr>\n",
       "      <th>2</th>\n",
       "      <td>1633568400</td>\n",
       "      <td>28.71</td>\n",
       "      <td>32.81</td>\n",
       "      <td>1006</td>\n",
       "      <td>74</td>\n",
       "      <td>23.61</td>\n",
       "      <td>2.63</td>\n",
       "      <td>6</td>\n",
       "      <td>10000</td>\n",
       "      <td>8.76</td>\n",
       "      <td>64</td>\n",
       "      <td>13.19</td>\n",
       "      <td>[{'id': 500, 'main': 'Rain', 'description': 'l...</td>\n",
       "      <td>0.23</td>\n",
       "      <td>{'1h': 0.24}</td>\n",
       "    </tr>\n",
       "    <tr>\n",
       "      <th>3</th>\n",
       "      <td>1633572000</td>\n",
       "      <td>29.06</td>\n",
       "      <td>33.05</td>\n",
       "      <td>1007</td>\n",
       "      <td>71</td>\n",
       "      <td>23.26</td>\n",
       "      <td>5.11</td>\n",
       "      <td>13</td>\n",
       "      <td>10000</td>\n",
       "      <td>9.11</td>\n",
       "      <td>64</td>\n",
       "      <td>13.25</td>\n",
       "      <td>[{'id': 801, 'main': 'Clouds', 'description': ...</td>\n",
       "      <td>0.21</td>\n",
       "      <td>NaN</td>\n",
       "    </tr>\n",
       "    <tr>\n",
       "      <th>4</th>\n",
       "      <td>1633575600</td>\n",
       "      <td>29.67</td>\n",
       "      <td>33.60</td>\n",
       "      <td>1007</td>\n",
       "      <td>67</td>\n",
       "      <td>22.89</td>\n",
       "      <td>7.50</td>\n",
       "      <td>14</td>\n",
       "      <td>10000</td>\n",
       "      <td>9.37</td>\n",
       "      <td>64</td>\n",
       "      <td>12.88</td>\n",
       "      <td>[{'id': 801, 'main': 'Clouds', 'description': ...</td>\n",
       "      <td>0.17</td>\n",
       "      <td>NaN</td>\n",
       "    </tr>\n",
       "  </tbody>\n",
       "</table>\n",
       "</div>"
      ],
      "text/plain": [
       "           dt   temp  feels_like  pressure  humidity  dew_point   uvi  clouds  \\\n",
       "0  1633561200  28.82       32.88      1005        73      23.49  0.13       5   \n",
       "1  1633564800  28.63       32.62      1006        74      23.54  0.88       5   \n",
       "2  1633568400  28.71       32.81      1006        74      23.61  2.63       6   \n",
       "3  1633572000  29.06       33.05      1007        71      23.26  5.11      13   \n",
       "4  1633575600  29.67       33.60      1007        67      22.89  7.50      14   \n",
       "\n",
       "   visibility  wind_speed  wind_deg  wind_gust  \\\n",
       "0       10000        9.02        64      13.20   \n",
       "1       10000        8.77        62      13.18   \n",
       "2       10000        8.76        64      13.19   \n",
       "3       10000        9.11        64      13.25   \n",
       "4       10000        9.37        64      12.88   \n",
       "\n",
       "                                             weather   pop          rain  \n",
       "0  [{'id': 800, 'main': 'Clear', 'description': '...  0.81           NaN  \n",
       "1  [{'id': 800, 'main': 'Clear', 'description': '...  0.77           NaN  \n",
       "2  [{'id': 500, 'main': 'Rain', 'description': 'l...  0.23  {'1h': 0.24}  \n",
       "3  [{'id': 801, 'main': 'Clouds', 'description': ...  0.21           NaN  \n",
       "4  [{'id': 801, 'main': 'Clouds', 'description': ...  0.17           NaN  "
      ]
     },
     "execution_count": 10,
     "metadata": {},
     "output_type": "execute_result"
    }
   ],
   "source": [
    "df_hourly.head()"
   ]
  },
  {
   "cell_type": "code",
   "execution_count": null,
   "metadata": {},
   "outputs": [],
   "source": []
  }
 ],
 "metadata": {
  "interpreter": {
   "hash": "c1b4cfe941b6d2466ad1fb5979e97da9cda8801728c8091b097ab734208fc00c"
  },
  "kernelspec": {
   "display_name": "Python 3.8.3 64-bit ('base': conda)",
   "name": "python3"
  },
  "language_info": {
   "codemirror_mode": {
    "name": "ipython",
    "version": 3
   },
   "file_extension": ".py",
   "mimetype": "text/x-python",
   "name": "python",
   "nbconvert_exporter": "python",
   "pygments_lexer": "ipython3",
   "version": "3.8.12"
  }
 },
 "nbformat": 4,
 "nbformat_minor": 2
}
