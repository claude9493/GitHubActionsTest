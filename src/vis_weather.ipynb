{
 "cells": [
  {
   "cell_type": "code",
   "execution_count": 1,
   "metadata": {
    "execution": {
     "iopub.execute_input": "2021-10-01T22:11:18.053900Z",
     "iopub.status.busy": "2021-10-01T22:11:18.053229Z",
     "iopub.status.idle": "2021-10-01T22:11:19.460658Z",
     "shell.execute_reply": "2021-10-01T22:11:19.461125Z"
    }
   },
   "outputs": [],
   "source": [
    "import json, yaml, requests\r\n",
    "from datetime import datetime\r\n",
    "from dateutil import tz\r\n",
    "import pandas as pd\r\n",
    "from PIL import Image\r\n",
    "from io import BytesIO\r\n",
    "import matplotlib.pyplot as plt\r\n",
    "import seaborn\r\n",
    "\r\n",
    "CONFIG_PATH = \"../config/config.yaml\""
   ]
  },
  {
   "cell_type": "code",
   "execution_count": 2,
   "metadata": {
    "execution": {
     "iopub.execute_input": "2021-10-01T22:11:19.466632Z",
     "iopub.status.busy": "2021-10-01T22:11:19.465983Z",
     "iopub.status.idle": "2021-10-01T22:11:19.472695Z",
     "shell.execute_reply": "2021-10-01T22:11:19.473114Z"
    }
   },
   "outputs": [],
   "source": [
    "with open('../newest_ts', 'r') as f:\r\n",
    "    newest_ts = f.read()\r\n",
    "\r\n",
    "data_path = f\"../data/data_{newest_ts}.json\"\r\n",
    "with open(data_path, 'r') as f:\r\n",
    "    data = json.load(f)\r\n",
    "\r\n",
    "with open(CONFIG_PATH, \"r\") as stream:\r\n",
    "    config = yaml.safe_load(stream)\r\n",
    "\r\n",
    "TIME_ZONE = config['time_zone']\r\n",
    "DATETIME_FORMAT = config['dt_format']"
   ]
  },
  {
   "cell_type": "code",
   "execution_count": 3,
   "metadata": {
    "execution": {
     "iopub.execute_input": "2021-10-01T22:11:19.477843Z",
     "iopub.status.busy": "2021-10-01T22:11:19.477246Z",
     "iopub.status.idle": "2021-10-01T22:11:19.482292Z",
     "shell.execute_reply": "2021-10-01T22:11:19.482736Z"
    }
   },
   "outputs": [
    {
     "name": "stdout",
     "output_type": "stream",
     "text": [
      "Recent query happens at 2021-10-02 06:11:15 (CST).\n"
     ]
    }
   ],
   "source": [
    "def ts2dt(ts, format=DATETIME_FORMAT):\r\n",
    "    dt = (datetime.utcfromtimestamp(int(ts))\r\n",
    "                    .replace(tzinfo=tz.tzutc())\r\n",
    "                    # .astimezone(tz.tzlocal())\r\n",
    "                    .astimezone(tz.gettz(TIME_ZONE)))\r\n",
    "    return dt.strftime(format), dt\r\n",
    "\r\n",
    "_, newest_dt = ts2dt(newest_ts)\r\n",
    "print(f\"Recent query happens at {newest_dt.strftime(DATETIME_FORMAT)} ({newest_dt.tzname()}).\")"
   ]
  },
  {
   "cell_type": "code",
   "execution_count": 4,
   "metadata": {
    "execution": {
     "iopub.execute_input": "2021-10-01T22:11:19.488761Z",
     "iopub.status.busy": "2021-10-01T22:11:19.487106Z",
     "iopub.status.idle": "2021-10-01T22:11:19.489375Z",
     "shell.execute_reply": "2021-10-01T22:11:19.489816Z"
    }
   },
   "outputs": [],
   "source": [
    "def degrees_to_cardinal(d):\r\n",
    "  dirs = ['N', 'NNE', 'NE', 'ENE', 'E', 'ESE', 'SE', 'SSE', 'S', 'SSW', 'SW', 'WSW', 'W', 'WNW', 'NW', 'NNW']\r\n",
    "  ix = int(round(d / (360. / len(dirs))))\r\n",
    "  return dirs[ix % len(dirs)]"
   ]
  },
  {
   "cell_type": "code",
   "execution_count": 5,
   "metadata": {
    "execution": {
     "iopub.execute_input": "2021-10-01T22:11:19.494577Z",
     "iopub.status.busy": "2021-10-01T22:11:19.493189Z",
     "iopub.status.idle": "2021-10-01T22:11:19.495181Z",
     "shell.execute_reply": "2021-10-01T22:11:19.495642Z"
    }
   },
   "outputs": [],
   "source": [
    "# data.keys()"
   ]
  },
  {
   "cell_type": "code",
   "execution_count": 6,
   "metadata": {
    "execution": {
     "iopub.execute_input": "2021-10-01T22:11:19.500193Z",
     "iopub.status.busy": "2021-10-01T22:11:19.498903Z",
     "iopub.status.idle": "2021-10-01T22:11:19.500771Z",
     "shell.execute_reply": "2021-10-01T22:11:19.501207Z"
    }
   },
   "outputs": [],
   "source": [
    "# data['current']"
   ]
  },
  {
   "cell_type": "code",
   "execution_count": 7,
   "metadata": {
    "execution": {
     "iopub.execute_input": "2021-10-01T22:11:19.522156Z",
     "iopub.status.busy": "2021-10-01T22:11:19.521543Z",
     "iopub.status.idle": "2021-10-01T22:11:19.798238Z",
     "shell.execute_reply": "2021-10-01T22:11:19.799052Z"
    }
   },
   "outputs": [
    {
     "data": {
      "image/png": "[encoded data removed]",
      "text/plain": [
       "<Figure size 216x216 with 1 Axes>"
      ]
     },
     "metadata": {
      "needs_background": "light"
     },
     "output_type": "display_data"
    },
    {
     "name": "stdout",
     "output_type": "stream",
     "text": [
      "Today, sun rises at 06:14 and sets at 18:10.\n",
      "Currently, the weather is Clouds (scattered clouds).\n",
      "The temperature is 27.73°C and it feels like 32.15°C.\n",
      "The UV index is 0, humidity is 85%.\n",
      "The pressure is 1010 hPa, percentage of cloud cover is 41%\n",
      "The wind comes from SSE direction with a speed 1.34 m/s.\n"
     ]
    }
   ],
   "source": [
    "current = data['current']\r\n",
    "\r\n",
    "fig, ax = plt.subplots(figsize=(3, 3))\r\n",
    "icon = requests.get(f\"http://openweathermap.org/img/wn/{current['weather'][0]['icon']}@2x.png\")\r\n",
    "im = Image.open(BytesIO(icon.content))\r\n",
    "plt.imshow(im)\r\n",
    "ax.set_axis_off()\r\n",
    "plt.show()\r\n",
    "\r\n",
    "print(f\"Today, sun rises at {ts2dt(current['sunrise'], '%H:%M')[0]} \\\r\n",
    "and sets at {ts2dt(current['sunset'], '%H:%M')[0]}.\\n\\\r\n",
    "Currently, the weather is {current['weather'][0]['main']} ({current['weather'][0]['description']}).\\n\\\r\n",
    "The temperature is {current['temp']}°C and it feels like {current['feels_like']}°C.\\n\\\r\n",
    "The UV index is {current['uvi']}, humidity is {current['humidity']}%.\\n\\\r\n",
    "The pressure is {current['pressure']} hPa, percentage of cloud cover is {current['clouds']}%\\n\\\r\n",
    "The wind comes from {degrees_to_cardinal(current['wind_deg'])} direction with a speed {current['wind_speed']} m/s.\")"
   ]
  },
  {
   "cell_type": "code",
   "execution_count": 8,
   "metadata": {
    "execution": {
     "iopub.execute_input": "2021-10-01T22:11:19.803202Z",
     "iopub.status.busy": "2021-10-01T22:11:19.802142Z",
     "iopub.status.idle": "2021-10-01T22:11:19.810757Z",
     "shell.execute_reply": "2021-10-01T22:11:19.811573Z"
    }
   },
   "outputs": [],
   "source": [
    "df_hourly = pd.DataFrame(data['hourly'])\r\n",
    "df_daily = pd.DataFrame(data['daily'])"
   ]
  },
  {
   "cell_type": "code",
   "execution_count": 9,
   "metadata": {
    "execution": {
     "iopub.execute_input": "2021-10-01T22:11:19.815624Z",
     "iopub.status.busy": "2021-10-01T22:11:19.814311Z",
     "iopub.status.idle": "2021-10-01T22:11:20.108654Z",
     "shell.execute_reply": "2021-10-01T22:11:20.109860Z"
    }
   },
   "outputs": [
    {
     "data": {
      "image/png": "[encoded data removed]",
      "text/plain": [
       "<Figure size 864x432 with 1 Axes>"
      ]
     },
     "metadata": {
      "needs_background": "light"
     },
     "output_type": "display_data"
    }
   ],
   "source": [
    "fig, ax = plt.subplots(figsize=(12, 6))\r\n",
    "plt.plot(df_hourly.temp, '.-', label='Temperature')\r\n",
    "plt.plot(df_hourly.feels_like, '.-', label='Feels Like')\r\n",
    "ax.set(title='Temperature in future 48 hours', xlabel='Time', ylabel='Temperature')\r\n",
    "ax.set_xticks(list(range(0, len(df_hourly), 2)))\r\n",
    "ax.set_xticklabels([ts2dt(ts, '%m-%d %H:%M')[0] for i, ts in enumerate(df_hourly.dt) if i%2==0], \r\n",
    "                   rotation=45, ha=\"right\")\r\n",
    "ax.locator_params(nbins=15, axis='y')\r\n",
    "plt.legend()\r\n",
    "plt.show()"
   ]
  },
  {
   "cell_type": "code",
   "execution_count": 10,
   "metadata": {
    "execution": {
     "iopub.execute_input": "2021-10-01T22:11:20.133717Z",
     "iopub.status.busy": "2021-10-01T22:11:20.126109Z",
     "iopub.status.idle": "2021-10-01T22:11:20.139414Z",
     "shell.execute_reply": "2021-10-01T22:11:20.139931Z"
    }
   },
   "outputs": [
    {
     "data": {
      "text/html": [
       "<div>\n",
       "<style scoped>\n",
       "    .dataframe tbody tr th:only-of-type {\n",
       "        vertical-align: middle;\n",
       "    }\n",
       "\n",
       "    .dataframe tbody tr th {\n",
       "        vertical-align: top;\n",
       "    }\n",
       "\n",
       "    .dataframe thead th {\n",
       "        text-align: right;\n",
       "    }\n",
       "</style>\n",
       "<table border=\"1\" class=\"dataframe\">\n",
       "  <thead>\n",
       "    <tr style=\"text-align: right;\">\n",
       "      <th></th>\n",
       "      <th>dt</th>\n",
       "      <th>temp</th>\n",
       "      <th>feels_like</th>\n",
       "      <th>pressure</th>\n",
       "      <th>humidity</th>\n",
       "      <th>dew_point</th>\n",
       "      <th>uvi</th>\n",
       "      <th>clouds</th>\n",
       "      <th>visibility</th>\n",
       "      <th>wind_speed</th>\n",
       "      <th>wind_deg</th>\n",
       "      <th>wind_gust</th>\n",
       "      <th>weather</th>\n",
       "      <th>pop</th>\n",
       "      <th>rain</th>\n",
       "    </tr>\n",
       "  </thead>\n",
       "  <tbody>\n",
       "    <tr>\n",
       "      <th>0</th>\n",
       "      <td>1633125600</td>\n",
       "      <td>27.73</td>\n",
       "      <td>32.15</td>\n",
       "      <td>1010</td>\n",
       "      <td>85</td>\n",
       "      <td>24.98</td>\n",
       "      <td>0.00</td>\n",
       "      <td>41</td>\n",
       "      <td>10000</td>\n",
       "      <td>1.70</td>\n",
       "      <td>198</td>\n",
       "      <td>2.00</td>\n",
       "      <td>[{'id': 802, 'main': 'Clouds', 'description': ...</td>\n",
       "      <td>0.26</td>\n",
       "      <td>NaN</td>\n",
       "    </tr>\n",
       "    <tr>\n",
       "      <th>1</th>\n",
       "      <td>1633129200</td>\n",
       "      <td>27.68</td>\n",
       "      <td>31.73</td>\n",
       "      <td>1010</td>\n",
       "      <td>83</td>\n",
       "      <td>24.53</td>\n",
       "      <td>0.15</td>\n",
       "      <td>42</td>\n",
       "      <td>10000</td>\n",
       "      <td>1.54</td>\n",
       "      <td>196</td>\n",
       "      <td>1.83</td>\n",
       "      <td>[{'id': 802, 'main': 'Clouds', 'description': ...</td>\n",
       "      <td>0.27</td>\n",
       "      <td>NaN</td>\n",
       "    </tr>\n",
       "    <tr>\n",
       "      <th>2</th>\n",
       "      <td>1633132800</td>\n",
       "      <td>27.87</td>\n",
       "      <td>31.92</td>\n",
       "      <td>1011</td>\n",
       "      <td>81</td>\n",
       "      <td>24.31</td>\n",
       "      <td>0.96</td>\n",
       "      <td>47</td>\n",
       "      <td>10000</td>\n",
       "      <td>1.81</td>\n",
       "      <td>182</td>\n",
       "      <td>2.07</td>\n",
       "      <td>[{'id': 802, 'main': 'Clouds', 'description': ...</td>\n",
       "      <td>0.27</td>\n",
       "      <td>NaN</td>\n",
       "    </tr>\n",
       "    <tr>\n",
       "      <th>3</th>\n",
       "      <td>1633136400</td>\n",
       "      <td>28.33</td>\n",
       "      <td>32.26</td>\n",
       "      <td>1012</td>\n",
       "      <td>76</td>\n",
       "      <td>23.69</td>\n",
       "      <td>2.73</td>\n",
       "      <td>42</td>\n",
       "      <td>10000</td>\n",
       "      <td>1.61</td>\n",
       "      <td>186</td>\n",
       "      <td>1.74</td>\n",
       "      <td>[{'id': 802, 'main': 'Clouds', 'description': ...</td>\n",
       "      <td>0.27</td>\n",
       "      <td>NaN</td>\n",
       "    </tr>\n",
       "    <tr>\n",
       "      <th>4</th>\n",
       "      <td>1633140000</td>\n",
       "      <td>29.01</td>\n",
       "      <td>32.75</td>\n",
       "      <td>1012</td>\n",
       "      <td>70</td>\n",
       "      <td>22.98</td>\n",
       "      <td>5.25</td>\n",
       "      <td>60</td>\n",
       "      <td>10000</td>\n",
       "      <td>2.32</td>\n",
       "      <td>173</td>\n",
       "      <td>2.27</td>\n",
       "      <td>[{'id': 803, 'main': 'Clouds', 'description': ...</td>\n",
       "      <td>0.27</td>\n",
       "      <td>NaN</td>\n",
       "    </tr>\n",
       "  </tbody>\n",
       "</table>\n",
       "</div>"
      ],
      "text/plain": [
       "           dt   temp  feels_like  pressure  humidity  dew_point   uvi  clouds  \\\n",
       "0  1633125600  27.73       32.15      1010        85      24.98  0.00      41   \n",
       "1  1633129200  27.68       31.73      1010        83      24.53  0.15      42   \n",
       "2  1633132800  27.87       31.92      1011        81      24.31  0.96      47   \n",
       "3  1633136400  28.33       32.26      1012        76      23.69  2.73      42   \n",
       "4  1633140000  29.01       32.75      1012        70      22.98  5.25      60   \n",
       "\n",
       "   visibility  wind_speed  wind_deg  wind_gust  \\\n",
       "0       10000        1.70       198       2.00   \n",
       "1       10000        1.54       196       1.83   \n",
       "2       10000        1.81       182       2.07   \n",
       "3       10000        1.61       186       1.74   \n",
       "4       10000        2.32       173       2.27   \n",
       "\n",
       "                                             weather   pop rain  \n",
       "0  [{'id': 802, 'main': 'Clouds', 'description': ...  0.26  NaN  \n",
       "1  [{'id': 802, 'main': 'Clouds', 'description': ...  0.27  NaN  \n",
       "2  [{'id': 802, 'main': 'Clouds', 'description': ...  0.27  NaN  \n",
       "3  [{'id': 802, 'main': 'Clouds', 'description': ...  0.27  NaN  \n",
       "4  [{'id': 803, 'main': 'Clouds', 'description': ...  0.27  NaN  "
      ]
     },
     "execution_count": 10,
     "metadata": {},
     "output_type": "execute_result"
    }
   ],
   "source": [
    "df_hourly.head()"
   ]
  },
  {
   "cell_type": "code",
   "execution_count": null,
   "metadata": {},
   "outputs": [],
   "source": []
  }
 ],
 "metadata": {
  "interpreter": {
   "hash": "c1b4cfe941b6d2466ad1fb5979e97da9cda8801728c8091b097ab734208fc00c"
  },
  "kernelspec": {
   "display_name": "Python 3.8.3 64-bit ('base': conda)",
   "name": "python3"
  },
  "language_info": {
   "codemirror_mode": {
    "name": "ipython",
    "version": 3
   },
   "file_extension": ".py",
   "mimetype": "text/x-python",
   "name": "python",
   "nbconvert_exporter": "python",
   "pygments_lexer": "ipython3",
   "version": "3.8.12"
  }
 },
 "nbformat": 4,
 "nbformat_minor": 2
}
