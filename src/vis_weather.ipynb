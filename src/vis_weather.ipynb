{
 "cells": [
  {
   "cell_type": "code",
   "execution_count": 1,
   "metadata": {
    "execution": {
     "iopub.execute_input": "2021-09-16T05:10:35.907379Z",
     "iopub.status.busy": "2021-09-16T05:10:35.905597Z",
     "iopub.status.idle": "2021-09-16T05:10:37.233363Z",
     "shell.execute_reply": "2021-09-16T05:10:37.232775Z"
    }
   },
   "outputs": [],
   "source": [
    "import json, yaml, requests\r\n",
    "from datetime import datetime\r\n",
    "from dateutil import tz\r\n",
    "import pandas as pd\r\n",
    "from PIL import Image\r\n",
    "from io import BytesIO\r\n",
    "import matplotlib.pyplot as plt\r\n",
    "import seaborn\r\n",
    "\r\n",
    "CONFIG_PATH = \"../config/config.yaml\""
   ]
  },
  {
   "cell_type": "code",
   "execution_count": 2,
   "metadata": {
    "execution": {
     "iopub.execute_input": "2021-09-16T05:10:37.239065Z",
     "iopub.status.busy": "2021-09-16T05:10:37.235875Z",
     "iopub.status.idle": "2021-09-16T05:10:37.243564Z",
     "shell.execute_reply": "2021-09-16T05:10:37.243144Z"
    }
   },
   "outputs": [],
   "source": [
    "with open('../newest_ts', 'r') as f:\r\n",
    "    newest_ts = f.read()\r\n",
    "\r\n",
    "data_path = f\"../data/data_{newest_ts}.json\"\r\n",
    "with open(data_path, 'r') as f:\r\n",
    "    data = json.load(f)\r\n",
    "\r\n",
    "with open(CONFIG_PATH, \"r\") as stream:\r\n",
    "    config = yaml.safe_load(stream)\r\n",
    "\r\n",
    "TIME_ZONE = config['time_zone']\r\n",
    "DATETIME_FORMAT = config['dt_format']"
   ]
  },
  {
   "cell_type": "code",
   "execution_count": 3,
   "metadata": {
    "execution": {
     "iopub.execute_input": "2021-09-16T05:10:37.247719Z",
     "iopub.status.busy": "2021-09-16T05:10:37.245526Z",
     "iopub.status.idle": "2021-09-16T05:10:37.252131Z",
     "shell.execute_reply": "2021-09-16T05:10:37.252477Z"
    }
   },
   "outputs": [
    {
     "name": "stdout",
     "output_type": "stream",
     "text": [
      "Recent query happens at 2021-09-16 13:10:32 (CST).\n"
     ]
    }
   ],
   "source": [
    "def ts2dt(ts, format=DATETIME_FORMAT):\r\n",
    "    dt = (datetime.utcfromtimestamp(int(ts))\r\n",
    "                    .replace(tzinfo=tz.tzutc())\r\n",
    "                    # .astimezone(tz.tzlocal())\r\n",
    "                    .astimezone(tz.gettz(TIME_ZONE)))\r\n",
    "    return dt.strftime(format), dt\r\n",
    "\r\n",
    "_, newest_dt = ts2dt(newest_ts)\r\n",
    "print(f\"Recent query happens at {newest_dt.strftime(DATETIME_FORMAT)} ({newest_dt.tzname()}).\")"
   ]
  },
  {
   "cell_type": "code",
   "execution_count": 4,
   "metadata": {
    "execution": {
     "iopub.execute_input": "2021-09-16T05:10:37.258008Z",
     "iopub.status.busy": "2021-09-16T05:10:37.256691Z",
     "iopub.status.idle": "2021-09-16T05:10:37.258608Z",
     "shell.execute_reply": "2021-09-16T05:10:37.259029Z"
    }
   },
   "outputs": [],
   "source": [
    "def degrees_to_cardinal(d):\r\n",
    "  dirs = ['N', 'NNE', 'NE', 'ENE', 'E', 'ESE', 'SE', 'SSE', 'S', 'SSW', 'SW', 'WSW', 'W', 'WNW', 'NW', 'NNW']\r\n",
    "  ix = int(round(d / (360. / len(dirs))))\r\n",
    "  return dirs[ix % len(dirs)]"
   ]
  },
  {
   "cell_type": "code",
   "execution_count": 5,
   "metadata": {
    "execution": {
     "iopub.execute_input": "2021-09-16T05:10:37.263108Z",
     "iopub.status.busy": "2021-09-16T05:10:37.262042Z",
     "iopub.status.idle": "2021-09-16T05:10:37.263683Z",
     "shell.execute_reply": "2021-09-16T05:10:37.264072Z"
    }
   },
   "outputs": [],
   "source": [
    "# data.keys()"
   ]
  },
  {
   "cell_type": "code",
   "execution_count": 6,
   "metadata": {
    "execution": {
     "iopub.execute_input": "2021-09-16T05:10:37.267985Z",
     "iopub.status.busy": "2021-09-16T05:10:37.266760Z",
     "iopub.status.idle": "2021-09-16T05:10:37.268585Z",
     "shell.execute_reply": "2021-09-16T05:10:37.269004Z"
    }
   },
   "outputs": [],
   "source": [
    "# data['current']"
   ]
  },
  {
   "cell_type": "code",
   "execution_count": 7,
   "metadata": {
    "execution": {
     "iopub.execute_input": "2021-09-16T05:10:37.287112Z",
     "iopub.status.busy": "2021-09-16T05:10:37.286564Z",
     "iopub.status.idle": "2021-09-16T05:10:37.582464Z",
     "shell.execute_reply": "2021-09-16T05:10:37.583295Z"
    }
   },
   "outputs": [
    {
     "data": {
      "image/png": "[encoded data removed]",
      "text/plain": [
       "<Figure size 216x216 with 1 Axes>"
      ]
     },
     "metadata": {
      "needs_background": "light"
     },
     "output_type": "display_data"
    },
    {
     "name": "stdout",
     "output_type": "stream",
     "text": [
      "Today, sun rises at 06:09 and sets at 18:26.\n",
      "Currently, the weather is Rain (moderate rain).\n",
      "The temperature is 32.41°C and it feels like 39.41°C.\n",
      "The UV index is 9.82, humidity is 72%.\n",
      "The pressure is 1009 hPa, percentage of cloud cover is 100%\n",
      "The wind comes from WSW direction with a speed 2.97 m/s.\n"
     ]
    }
   ],
   "source": [
    "current = data['current']\r\n",
    "\r\n",
    "fig, ax = plt.subplots(figsize=(3, 3))\r\n",
    "icon = requests.get(f\"http://openweathermap.org/img/wn/{current['weather'][0]['icon']}@2x.png\")\r\n",
    "im = Image.open(BytesIO(icon.content))\r\n",
    "plt.imshow(im)\r\n",
    "ax.set_axis_off()\r\n",
    "plt.show()\r\n",
    "\r\n",
    "print(f\"Today, sun rises at {ts2dt(current['sunrise'], '%H:%M')[0]} \\\r\n",
    "and sets at {ts2dt(current['sunset'], '%H:%M')[0]}.\\n\\\r\n",
    "Currently, the weather is {current['weather'][0]['main']} ({current['weather'][0]['description']}).\\n\\\r\n",
    "The temperature is {current['temp']}°C and it feels like {current['feels_like']}°C.\\n\\\r\n",
    "The UV index is {current['uvi']}, humidity is {current['humidity']}%.\\n\\\r\n",
    "The pressure is {current['pressure']} hPa, percentage of cloud cover is {current['clouds']}%\\n\\\r\n",
    "The wind comes from {degrees_to_cardinal(current['wind_deg'])} direction with a speed {current['wind_speed']} m/s.\")"
   ]
  },
  {
   "cell_type": "code",
   "execution_count": 8,
   "metadata": {
    "execution": {
     "iopub.execute_input": "2021-09-16T05:10:37.590883Z",
     "iopub.status.busy": "2021-09-16T05:10:37.585651Z",
     "iopub.status.idle": "2021-09-16T05:10:37.596375Z",
     "shell.execute_reply": "2021-09-16T05:10:37.597282Z"
    }
   },
   "outputs": [],
   "source": [
    "df_hourly = pd.DataFrame(data['hourly'])\r\n",
    "df_daily = pd.DataFrame(data['daily'])"
   ]
  },
  {
   "cell_type": "code",
   "execution_count": 9,
   "metadata": {
    "execution": {
     "iopub.execute_input": "2021-09-16T05:10:37.600975Z",
     "iopub.status.busy": "2021-09-16T05:10:37.600161Z",
     "iopub.status.idle": "2021-09-16T05:10:37.882131Z",
     "shell.execute_reply": "2021-09-16T05:10:37.882570Z"
    }
   },
   "outputs": [
    {
     "data": {
      "image/png": "[encoded data removed]",
      "text/plain": [
       "<Figure size 864x432 with 1 Axes>"
      ]
     },
     "metadata": {
      "needs_background": "light"
     },
     "output_type": "display_data"
    }
   ],
   "source": [
    "fig, ax = plt.subplots(figsize=(12, 6))\r\n",
    "plt.plot(df_hourly.temp, '.-', label='Temperature')\r\n",
    "plt.plot(df_hourly.feels_like, '.-', label='Feels Like')\r\n",
    "ax.set(title='Temperature in future 48 hours', xlabel='Time', ylabel='Temperature')\r\n",
    "ax.set_xticks(list(range(0, len(df_hourly), 2)))\r\n",
    "ax.set_xticklabels([ts2dt(ts, '%m-%d %H:%M')[0] for i, ts in enumerate(df_hourly.dt) if i%2==0], \r\n",
    "                   rotation=45, ha=\"right\")\r\n",
    "ax.locator_params(nbins=15, axis='y')\r\n",
    "plt.legend()\r\n",
    "plt.show()"
   ]
  },
  {
   "cell_type": "code",
   "execution_count": 10,
   "metadata": {
    "execution": {
     "iopub.execute_input": "2021-09-16T05:10:37.894543Z",
     "iopub.status.busy": "2021-09-16T05:10:37.886764Z",
     "iopub.status.idle": "2021-09-16T05:10:37.905384Z",
     "shell.execute_reply": "2021-09-16T05:10:37.905771Z"
    }
   },
   "outputs": [
    {
     "data": {
      "text/html": [
       "<div>\n",
       "<style scoped>\n",
       "    .dataframe tbody tr th:only-of-type {\n",
       "        vertical-align: middle;\n",
       "    }\n",
       "\n",
       "    .dataframe tbody tr th {\n",
       "        vertical-align: top;\n",
       "    }\n",
       "\n",
       "    .dataframe thead th {\n",
       "        text-align: right;\n",
       "    }\n",
       "</style>\n",
       "<table border=\"1\" class=\"dataframe\">\n",
       "  <thead>\n",
       "    <tr style=\"text-align: right;\">\n",
       "      <th></th>\n",
       "      <th>dt</th>\n",
       "      <th>temp</th>\n",
       "      <th>feels_like</th>\n",
       "      <th>pressure</th>\n",
       "      <th>humidity</th>\n",
       "      <th>dew_point</th>\n",
       "      <th>uvi</th>\n",
       "      <th>clouds</th>\n",
       "      <th>visibility</th>\n",
       "      <th>wind_speed</th>\n",
       "      <th>wind_deg</th>\n",
       "      <th>wind_gust</th>\n",
       "      <th>weather</th>\n",
       "      <th>pop</th>\n",
       "      <th>rain</th>\n",
       "    </tr>\n",
       "  </thead>\n",
       "  <tbody>\n",
       "    <tr>\n",
       "      <th>0</th>\n",
       "      <td>1631768400</td>\n",
       "      <td>32.41</td>\n",
       "      <td>39.41</td>\n",
       "      <td>1009</td>\n",
       "      <td>72</td>\n",
       "      <td>26.71</td>\n",
       "      <td>9.82</td>\n",
       "      <td>100</td>\n",
       "      <td>10000</td>\n",
       "      <td>2.97</td>\n",
       "      <td>258</td>\n",
       "      <td>3.13</td>\n",
       "      <td>[{'id': 500, 'main': 'Rain', 'description': 'l...</td>\n",
       "      <td>0.78</td>\n",
       "      <td>{'1h': 0.6}</td>\n",
       "    </tr>\n",
       "    <tr>\n",
       "      <th>1</th>\n",
       "      <td>1631772000</td>\n",
       "      <td>32.13</td>\n",
       "      <td>39.13</td>\n",
       "      <td>1009</td>\n",
       "      <td>70</td>\n",
       "      <td>25.96</td>\n",
       "      <td>8.07</td>\n",
       "      <td>100</td>\n",
       "      <td>10000</td>\n",
       "      <td>3.06</td>\n",
       "      <td>249</td>\n",
       "      <td>3.22</td>\n",
       "      <td>[{'id': 804, 'main': 'Clouds', 'description': ...</td>\n",
       "      <td>0.74</td>\n",
       "      <td>NaN</td>\n",
       "    </tr>\n",
       "    <tr>\n",
       "      <th>2</th>\n",
       "      <td>1631775600</td>\n",
       "      <td>31.86</td>\n",
       "      <td>38.86</td>\n",
       "      <td>1008</td>\n",
       "      <td>69</td>\n",
       "      <td>25.46</td>\n",
       "      <td>5.57</td>\n",
       "      <td>92</td>\n",
       "      <td>10000</td>\n",
       "      <td>3.09</td>\n",
       "      <td>241</td>\n",
       "      <td>3.26</td>\n",
       "      <td>[{'id': 804, 'main': 'Clouds', 'description': ...</td>\n",
       "      <td>0.08</td>\n",
       "      <td>NaN</td>\n",
       "    </tr>\n",
       "    <tr>\n",
       "      <th>3</th>\n",
       "      <td>1631779200</td>\n",
       "      <td>31.56</td>\n",
       "      <td>38.48</td>\n",
       "      <td>1008</td>\n",
       "      <td>68</td>\n",
       "      <td>24.93</td>\n",
       "      <td>2.82</td>\n",
       "      <td>81</td>\n",
       "      <td>10000</td>\n",
       "      <td>3.17</td>\n",
       "      <td>232</td>\n",
       "      <td>3.18</td>\n",
       "      <td>[{'id': 803, 'main': 'Clouds', 'description': ...</td>\n",
       "      <td>0.12</td>\n",
       "      <td>NaN</td>\n",
       "    </tr>\n",
       "    <tr>\n",
       "      <th>4</th>\n",
       "      <td>1631782800</td>\n",
       "      <td>30.86</td>\n",
       "      <td>37.52</td>\n",
       "      <td>1007</td>\n",
       "      <td>71</td>\n",
       "      <td>24.99</td>\n",
       "      <td>0.92</td>\n",
       "      <td>67</td>\n",
       "      <td>10000</td>\n",
       "      <td>4.00</td>\n",
       "      <td>229</td>\n",
       "      <td>4.00</td>\n",
       "      <td>[{'id': 803, 'main': 'Clouds', 'description': ...</td>\n",
       "      <td>0.04</td>\n",
       "      <td>NaN</td>\n",
       "    </tr>\n",
       "  </tbody>\n",
       "</table>\n",
       "</div>"
      ],
      "text/plain": [
       "           dt   temp  feels_like  pressure  humidity  dew_point   uvi  clouds  \\\n",
       "0  1631768400  32.41       39.41      1009        72      26.71  9.82     100   \n",
       "1  1631772000  32.13       39.13      1009        70      25.96  8.07     100   \n",
       "2  1631775600  31.86       38.86      1008        69      25.46  5.57      92   \n",
       "3  1631779200  31.56       38.48      1008        68      24.93  2.82      81   \n",
       "4  1631782800  30.86       37.52      1007        71      24.99  0.92      67   \n",
       "\n",
       "   visibility  wind_speed  wind_deg  wind_gust  \\\n",
       "0       10000        2.97       258       3.13   \n",
       "1       10000        3.06       249       3.22   \n",
       "2       10000        3.09       241       3.26   \n",
       "3       10000        3.17       232       3.18   \n",
       "4       10000        4.00       229       4.00   \n",
       "\n",
       "                                             weather   pop         rain  \n",
       "0  [{'id': 500, 'main': 'Rain', 'description': 'l...  0.78  {'1h': 0.6}  \n",
       "1  [{'id': 804, 'main': 'Clouds', 'description': ...  0.74          NaN  \n",
       "2  [{'id': 804, 'main': 'Clouds', 'description': ...  0.08          NaN  \n",
       "3  [{'id': 803, 'main': 'Clouds', 'description': ...  0.12          NaN  \n",
       "4  [{'id': 803, 'main': 'Clouds', 'description': ...  0.04          NaN  "
      ]
     },
     "execution_count": 10,
     "metadata": {},
     "output_type": "execute_result"
    }
   ],
   "source": [
    "df_hourly.head()"
   ]
  },
  {
   "cell_type": "code",
   "execution_count": null,
   "metadata": {},
   "outputs": [],
   "source": []
  }
 ],
 "metadata": {
  "interpreter": {
   "hash": "c1b4cfe941b6d2466ad1fb5979e97da9cda8801728c8091b097ab734208fc00c"
  },
  "kernelspec": {
   "display_name": "Python 3.8.3 64-bit ('base': conda)",
   "name": "python3"
  },
  "language_info": {
   "codemirror_mode": {
    "name": "ipython",
    "version": 3
   },
   "file_extension": ".py",
   "mimetype": "text/x-python",
   "name": "python",
   "nbconvert_exporter": "python",
   "pygments_lexer": "ipython3",
   "version": "3.8.11"
  }
 },
 "nbformat": 4,
 "nbformat_minor": 2
}
