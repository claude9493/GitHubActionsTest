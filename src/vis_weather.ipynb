{
 "cells": [
  {
   "cell_type": "code",
   "execution_count": 1,
   "metadata": {
    "execution": {
     "iopub.execute_input": "2021-08-23T17:39:37.509697Z",
     "iopub.status.busy": "2021-08-23T17:39:37.508191Z",
     "iopub.status.idle": "2021-08-23T17:39:40.577084Z",
     "shell.execute_reply": "2021-08-23T17:39:40.576443Z"
    }
   },
   "outputs": [],
   "source": [
    "import json, yaml, requests\r\n",
    "from datetime import datetime\r\n",
    "from dateutil import tz\r\n",
    "import pandas as pd\r\n",
    "from PIL import Image\r\n",
    "from io import BytesIO\r\n",
    "import matplotlib.pyplot as plt\r\n",
    "import seaborn\r\n",
    "\r\n",
    "CONFIG_PATH = \"../config/config.yaml\""
   ]
  },
  {
   "cell_type": "code",
   "execution_count": 2,
   "metadata": {
    "execution": {
     "iopub.execute_input": "2021-08-23T17:39:40.582998Z",
     "iopub.status.busy": "2021-08-23T17:39:40.581921Z",
     "iopub.status.idle": "2021-08-23T17:39:40.588038Z",
     "shell.execute_reply": "2021-08-23T17:39:40.588517Z"
    }
   },
   "outputs": [],
   "source": [
    "with open('../newest_ts', 'r') as f:\r\n",
    "    newest_ts = f.read()\r\n",
    "\r\n",
    "data_path = f\"../data/data_{newest_ts}.json\"\r\n",
    "with open(data_path, 'r') as f:\r\n",
    "    data = json.load(f)\r\n",
    "\r\n",
    "with open(CONFIG_PATH, \"r\") as stream:\r\n",
    "    config = yaml.safe_load(stream)\r\n",
    "\r\n",
    "TIME_ZONE = config['time_zone']\r\n",
    "DATETIME_FORMAT = config['dt_format']"
   ]
  },
  {
   "cell_type": "code",
   "execution_count": 3,
   "metadata": {
    "execution": {
     "iopub.execute_input": "2021-08-23T17:39:40.594034Z",
     "iopub.status.busy": "2021-08-23T17:39:40.593311Z",
     "iopub.status.idle": "2021-08-23T17:39:40.621803Z",
     "shell.execute_reply": "2021-08-23T17:39:40.622288Z"
    }
   },
   "outputs": [
    {
     "name": "stdout",
     "output_type": "stream",
     "text": [
      "Recent query happens at 2021-08-24 01:39:34 (CST).\n"
     ]
    }
   ],
   "source": [
    "def ts2dt(ts, format=DATETIME_FORMAT):\r\n",
    "    dt = (datetime.utcfromtimestamp(int(ts))\r\n",
    "                    .replace(tzinfo=tz.tzutc())\r\n",
    "                    # .astimezone(tz.tzlocal())\r\n",
    "                    .astimezone(tz.gettz(TIME_ZONE)))\r\n",
    "    return dt.strftime(format), dt\r\n",
    "\r\n",
    "_, newest_dt = ts2dt(newest_ts)\r\n",
    "print(f\"Recent query happens at {newest_dt.strftime(DATETIME_FORMAT)} ({newest_dt.tzname()}).\")"
   ]
  },
  {
   "cell_type": "code",
   "execution_count": 4,
   "metadata": {
    "execution": {
     "iopub.execute_input": "2021-08-23T17:39:40.628603Z",
     "iopub.status.busy": "2021-08-23T17:39:40.627760Z",
     "iopub.status.idle": "2021-08-23T17:39:40.633517Z",
     "shell.execute_reply": "2021-08-23T17:39:40.631044Z"
    }
   },
   "outputs": [],
   "source": [
    "def degrees_to_cardinal(d):\r\n",
    "  dirs = ['N', 'NNE', 'NE', 'ENE', 'E', 'ESE', 'SE', 'SSE', 'S', 'SSW', 'SW', 'WSW', 'W', 'WNW', 'NW', 'NNW']\r\n",
    "  ix = int(round(d / (360. / len(dirs))))\r\n",
    "  return dirs[ix % len(dirs)]"
   ]
  },
  {
   "cell_type": "code",
   "execution_count": 5,
   "metadata": {
    "execution": {
     "iopub.execute_input": "2021-08-23T17:39:40.640336Z",
     "iopub.status.busy": "2021-08-23T17:39:40.638084Z",
     "iopub.status.idle": "2021-08-23T17:39:40.641767Z",
     "shell.execute_reply": "2021-08-23T17:39:40.642256Z"
    }
   },
   "outputs": [],
   "source": [
    "# data.keys()"
   ]
  },
  {
   "cell_type": "code",
   "execution_count": 6,
   "metadata": {
    "execution": {
     "iopub.execute_input": "2021-08-23T17:39:40.647032Z",
     "iopub.status.busy": "2021-08-23T17:39:40.645668Z",
     "iopub.status.idle": "2021-08-23T17:39:40.647668Z",
     "shell.execute_reply": "2021-08-23T17:39:40.648150Z"
    }
   },
   "outputs": [],
   "source": [
    "# data['current']"
   ]
  },
  {
   "cell_type": "code",
   "execution_count": 7,
   "metadata": {
    "execution": {
     "iopub.execute_input": "2021-08-23T17:39:40.668557Z",
     "iopub.status.busy": "2021-08-23T17:39:40.667930Z",
     "iopub.status.idle": "2021-08-23T17:39:41.149135Z",
     "shell.execute_reply": "2021-08-23T17:39:41.150469Z"
    }
   },
   "outputs": [
    {
     "data": {
      "image/png": "[encoded data removed]",
      "text/plain": [
       "<Figure size 216x216 with 1 Axes>"
      ]
     },
     "metadata": {
      "needs_background": "light"
     },
     "output_type": "display_data"
    },
    {
     "name": "stdout",
     "output_type": "stream",
     "text": [
      "Today, sun rises at 06:03 and sets at 18:47.\n",
      "Currently, the weather is Clouds (overcast clouds).\n",
      "The temperature is 29.53°C and it feels like 36.53°C.\n",
      "The UV index is 0, humidity is 82%.\n",
      "The pressure is 1007 hPa, percentage of cloud cover is 87%\n",
      "The wind comes from S direction with a speed 2.95 m/s.\n"
     ]
    }
   ],
   "source": [
    "current = data['current']\r\n",
    "\r\n",
    "fig, ax = plt.subplots(figsize=(3, 3))\r\n",
    "icon = requests.get(f\"http://openweathermap.org/img/wn/{current['weather'][0]['icon']}@2x.png\")\r\n",
    "im = Image.open(BytesIO(icon.content))\r\n",
    "plt.imshow(im)\r\n",
    "ax.set_axis_off()\r\n",
    "plt.show()\r\n",
    "\r\n",
    "print(f\"Today, sun rises at {ts2dt(current['sunrise'], '%H:%M')[0]} \\\r\n",
    "and sets at {ts2dt(current['sunset'], '%H:%M')[0]}.\\n\\\r\n",
    "Currently, the weather is {current['weather'][0]['main']} ({current['weather'][0]['description']}).\\n\\\r\n",
    "The temperature is {current['temp']}°C and it feels like {current['feels_like']}°C.\\n\\\r\n",
    "The UV index is {current['uvi']}, humidity is {current['humidity']}%.\\n\\\r\n",
    "The pressure is {current['pressure']} hPa, percentage of cloud cover is {current['clouds']}%\\n\\\r\n",
    "The wind comes from {degrees_to_cardinal(current['wind_deg'])} direction with a speed {current['wind_speed']} m/s.\")"
   ]
  },
  {
   "cell_type": "code",
   "execution_count": 8,
   "metadata": {
    "execution": {
     "iopub.execute_input": "2021-08-23T17:39:41.154179Z",
     "iopub.status.busy": "2021-08-23T17:39:41.153100Z",
     "iopub.status.idle": "2021-08-23T17:39:41.161169Z",
     "shell.execute_reply": "2021-08-23T17:39:41.161916Z"
    }
   },
   "outputs": [],
   "source": [
    "df_hourly = pd.DataFrame(data['hourly'])\r\n",
    "df_daily = pd.DataFrame(data['daily'])"
   ]
  },
  {
   "cell_type": "code",
   "execution_count": 9,
   "metadata": {
    "execution": {
     "iopub.execute_input": "2021-08-23T17:39:41.165413Z",
     "iopub.status.busy": "2021-08-23T17:39:41.164255Z",
     "iopub.status.idle": "2021-08-23T17:39:41.495106Z",
     "shell.execute_reply": "2021-08-23T17:39:41.494608Z"
    }
   },
   "outputs": [
    {
     "data": {
      "image/png": "[encoded data removed]",
      "text/plain": [
       "<Figure size 864x432 with 1 Axes>"
      ]
     },
     "metadata": {
      "needs_background": "light"
     },
     "output_type": "display_data"
    }
   ],
   "source": [
    "fig, ax = plt.subplots(figsize=(12, 6))\r\n",
    "plt.plot(df_hourly.temp, '.-', label='Temperature')\r\n",
    "plt.plot(df_hourly.feels_like, '.-', label='Feels Like')\r\n",
    "ax.set(title='Temperature in future 48 hours', xlabel='Time', ylabel='Temperature')\r\n",
    "ax.set_xticks(list(range(0, len(df_hourly), 2)))\r\n",
    "ax.set_xticklabels([ts2dt(ts, '%m-%d %H:%M')[0] for i, ts in enumerate(df_hourly.dt) if i%2==0], \r\n",
    "                   rotation=45, ha=\"right\")\r\n",
    "ax.locator_params(nbins=15, axis='y')\r\n",
    "plt.legend()\r\n",
    "plt.show()"
   ]
  },
  {
   "cell_type": "code",
   "execution_count": 10,
   "metadata": {
    "execution": {
     "iopub.execute_input": "2021-08-23T17:39:41.515990Z",
     "iopub.status.busy": "2021-08-23T17:39:41.499438Z",
     "iopub.status.idle": "2021-08-23T17:39:41.523894Z",
     "shell.execute_reply": "2021-08-23T17:39:41.523372Z"
    }
   },
   "outputs": [
    {
     "data": {
      "text/html": [
       "<div>\n",
       "<style scoped>\n",
       "    .dataframe tbody tr th:only-of-type {\n",
       "        vertical-align: middle;\n",
       "    }\n",
       "\n",
       "    .dataframe tbody tr th {\n",
       "        vertical-align: top;\n",
       "    }\n",
       "\n",
       "    .dataframe thead th {\n",
       "        text-align: right;\n",
       "    }\n",
       "</style>\n",
       "<table border=\"1\" class=\"dataframe\">\n",
       "  <thead>\n",
       "    <tr style=\"text-align: right;\">\n",
       "      <th></th>\n",
       "      <th>dt</th>\n",
       "      <th>temp</th>\n",
       "      <th>feels_like</th>\n",
       "      <th>pressure</th>\n",
       "      <th>humidity</th>\n",
       "      <th>dew_point</th>\n",
       "      <th>uvi</th>\n",
       "      <th>clouds</th>\n",
       "      <th>visibility</th>\n",
       "      <th>wind_speed</th>\n",
       "      <th>wind_deg</th>\n",
       "      <th>wind_gust</th>\n",
       "      <th>weather</th>\n",
       "      <th>pop</th>\n",
       "      <th>rain</th>\n",
       "    </tr>\n",
       "  </thead>\n",
       "  <tbody>\n",
       "    <tr>\n",
       "      <th>0</th>\n",
       "      <td>1629738000</td>\n",
       "      <td>29.23</td>\n",
       "      <td>36.10</td>\n",
       "      <td>1007</td>\n",
       "      <td>83</td>\n",
       "      <td>26.04</td>\n",
       "      <td>0.0</td>\n",
       "      <td>86</td>\n",
       "      <td>10000</td>\n",
       "      <td>3.09</td>\n",
       "      <td>171</td>\n",
       "      <td>4.35</td>\n",
       "      <td>[{'id': 804, 'main': 'Clouds', 'description': ...</td>\n",
       "      <td>0.26</td>\n",
       "      <td>NaN</td>\n",
       "    </tr>\n",
       "    <tr>\n",
       "      <th>1</th>\n",
       "      <td>1629741600</td>\n",
       "      <td>29.53</td>\n",
       "      <td>36.53</td>\n",
       "      <td>1007</td>\n",
       "      <td>82</td>\n",
       "      <td>26.13</td>\n",
       "      <td>0.0</td>\n",
       "      <td>87</td>\n",
       "      <td>10000</td>\n",
       "      <td>2.95</td>\n",
       "      <td>190</td>\n",
       "      <td>4.02</td>\n",
       "      <td>[{'id': 804, 'main': 'Clouds', 'description': ...</td>\n",
       "      <td>0.34</td>\n",
       "      <td>NaN</td>\n",
       "    </tr>\n",
       "    <tr>\n",
       "      <th>2</th>\n",
       "      <td>1629745200</td>\n",
       "      <td>29.10</td>\n",
       "      <td>35.71</td>\n",
       "      <td>1007</td>\n",
       "      <td>83</td>\n",
       "      <td>25.91</td>\n",
       "      <td>0.0</td>\n",
       "      <td>90</td>\n",
       "      <td>10000</td>\n",
       "      <td>3.02</td>\n",
       "      <td>187</td>\n",
       "      <td>4.22</td>\n",
       "      <td>[{'id': 804, 'main': 'Clouds', 'description': ...</td>\n",
       "      <td>0.84</td>\n",
       "      <td>NaN</td>\n",
       "    </tr>\n",
       "    <tr>\n",
       "      <th>3</th>\n",
       "      <td>1629748800</td>\n",
       "      <td>28.58</td>\n",
       "      <td>34.38</td>\n",
       "      <td>1007</td>\n",
       "      <td>84</td>\n",
       "      <td>25.61</td>\n",
       "      <td>0.0</td>\n",
       "      <td>92</td>\n",
       "      <td>10000</td>\n",
       "      <td>2.86</td>\n",
       "      <td>194</td>\n",
       "      <td>3.97</td>\n",
       "      <td>[{'id': 804, 'main': 'Clouds', 'description': ...</td>\n",
       "      <td>0.88</td>\n",
       "      <td>NaN</td>\n",
       "    </tr>\n",
       "    <tr>\n",
       "      <th>4</th>\n",
       "      <td>1629752400</td>\n",
       "      <td>28.08</td>\n",
       "      <td>32.95</td>\n",
       "      <td>1007</td>\n",
       "      <td>84</td>\n",
       "      <td>25.12</td>\n",
       "      <td>0.0</td>\n",
       "      <td>95</td>\n",
       "      <td>10000</td>\n",
       "      <td>2.68</td>\n",
       "      <td>199</td>\n",
       "      <td>3.70</td>\n",
       "      <td>[{'id': 500, 'main': 'Rain', 'description': 'l...</td>\n",
       "      <td>0.97</td>\n",
       "      <td>{'1h': 1}</td>\n",
       "    </tr>\n",
       "  </tbody>\n",
       "</table>\n",
       "</div>"
      ],
      "text/plain": [
       "           dt   temp  feels_like  pressure  humidity  dew_point  uvi  clouds  \\\n",
       "0  1629738000  29.23       36.10      1007        83      26.04  0.0      86   \n",
       "1  1629741600  29.53       36.53      1007        82      26.13  0.0      87   \n",
       "2  1629745200  29.10       35.71      1007        83      25.91  0.0      90   \n",
       "3  1629748800  28.58       34.38      1007        84      25.61  0.0      92   \n",
       "4  1629752400  28.08       32.95      1007        84      25.12  0.0      95   \n",
       "\n",
       "   visibility  wind_speed  wind_deg  wind_gust  \\\n",
       "0       10000        3.09       171       4.35   \n",
       "1       10000        2.95       190       4.02   \n",
       "2       10000        3.02       187       4.22   \n",
       "3       10000        2.86       194       3.97   \n",
       "4       10000        2.68       199       3.70   \n",
       "\n",
       "                                             weather   pop       rain  \n",
       "0  [{'id': 804, 'main': 'Clouds', 'description': ...  0.26        NaN  \n",
       "1  [{'id': 804, 'main': 'Clouds', 'description': ...  0.34        NaN  \n",
       "2  [{'id': 804, 'main': 'Clouds', 'description': ...  0.84        NaN  \n",
       "3  [{'id': 804, 'main': 'Clouds', 'description': ...  0.88        NaN  \n",
       "4  [{'id': 500, 'main': 'Rain', 'description': 'l...  0.97  {'1h': 1}  "
      ]
     },
     "execution_count": 10,
     "metadata": {},
     "output_type": "execute_result"
    }
   ],
   "source": [
    "df_hourly.head()"
   ]
  },
  {
   "cell_type": "code",
   "execution_count": null,
   "metadata": {},
   "outputs": [],
   "source": []
  }
 ],
 "metadata": {
  "interpreter": {
   "hash": "c1b4cfe941b6d2466ad1fb5979e97da9cda8801728c8091b097ab734208fc00c"
  },
  "kernelspec": {
   "display_name": "Python 3.8.3 64-bit ('base': conda)",
   "name": "python3"
  },
  "language_info": {
   "codemirror_mode": {
    "name": "ipython",
    "version": 3
   },
   "file_extension": ".py",
   "mimetype": "text/x-python",
   "name": "python",
   "nbconvert_exporter": "python",
   "pygments_lexer": "ipython3",
   "version": "3.8.11"
  }
 },
 "nbformat": 4,
 "nbformat_minor": 2
}
