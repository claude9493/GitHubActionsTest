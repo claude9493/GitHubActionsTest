{
 "cells": [
  {
   "cell_type": "code",
   "execution_count": 1,
   "metadata": {
    "execution": {
     "iopub.execute_input": "2021-10-04T06:14:15.766036Z",
     "iopub.status.busy": "2021-10-04T06:14:15.765230Z",
     "iopub.status.idle": "2021-10-04T06:14:18.969476Z",
     "shell.execute_reply": "2021-10-04T06:14:18.969971Z"
    }
   },
   "outputs": [],
   "source": [
    "import json, yaml, requests\r\n",
    "from datetime import datetime\r\n",
    "from dateutil import tz\r\n",
    "import pandas as pd\r\n",
    "from PIL import Image\r\n",
    "from io import BytesIO\r\n",
    "import matplotlib.pyplot as plt\r\n",
    "import seaborn\r\n",
    "\r\n",
    "CONFIG_PATH = \"../config/config.yaml\""
   ]
  },
  {
   "cell_type": "code",
   "execution_count": 2,
   "metadata": {
    "execution": {
     "iopub.execute_input": "2021-10-04T06:14:18.976564Z",
     "iopub.status.busy": "2021-10-04T06:14:18.975681Z",
     "iopub.status.idle": "2021-10-04T06:14:18.982289Z",
     "shell.execute_reply": "2021-10-04T06:14:18.981682Z"
    }
   },
   "outputs": [],
   "source": [
    "with open('../newest_ts', 'r') as f:\r\n",
    "    newest_ts = f.read()\r\n",
    "\r\n",
    "data_path = f\"../data/data_{newest_ts}.json\"\r\n",
    "with open(data_path, 'r') as f:\r\n",
    "    data = json.load(f)\r\n",
    "\r\n",
    "with open(CONFIG_PATH, \"r\") as stream:\r\n",
    "    config = yaml.safe_load(stream)\r\n",
    "\r\n",
    "TIME_ZONE = config['time_zone']\r\n",
    "DATETIME_FORMAT = config['dt_format']"
   ]
  },
  {
   "cell_type": "code",
   "execution_count": 3,
   "metadata": {
    "execution": {
     "iopub.execute_input": "2021-10-04T06:14:18.987909Z",
     "iopub.status.busy": "2021-10-04T06:14:18.987272Z",
     "iopub.status.idle": "2021-10-04T06:14:19.001146Z",
     "shell.execute_reply": "2021-10-04T06:14:19.001647Z"
    }
   },
   "outputs": [
    {
     "name": "stdout",
     "output_type": "stream",
     "text": [
      "Recent query happens at 2021-10-04 14:14:12 (CST).\n"
     ]
    }
   ],
   "source": [
    "def ts2dt(ts, format=DATETIME_FORMAT):\r\n",
    "    dt = (datetime.utcfromtimestamp(int(ts))\r\n",
    "                    .replace(tzinfo=tz.tzutc())\r\n",
    "                    # .astimezone(tz.tzlocal())\r\n",
    "                    .astimezone(tz.gettz(TIME_ZONE)))\r\n",
    "    return dt.strftime(format), dt\r\n",
    "\r\n",
    "_, newest_dt = ts2dt(newest_ts)\r\n",
    "print(f\"Recent query happens at {newest_dt.strftime(DATETIME_FORMAT)} ({newest_dt.tzname()}).\")"
   ]
  },
  {
   "cell_type": "code",
   "execution_count": 4,
   "metadata": {
    "execution": {
     "iopub.execute_input": "2021-10-04T06:14:19.006568Z",
     "iopub.status.busy": "2021-10-04T06:14:19.005951Z",
     "iopub.status.idle": "2021-10-04T06:14:19.009922Z",
     "shell.execute_reply": "2021-10-04T06:14:19.009359Z"
    }
   },
   "outputs": [],
   "source": [
    "def degrees_to_cardinal(d):\r\n",
    "  dirs = ['N', 'NNE', 'NE', 'ENE', 'E', 'ESE', 'SE', 'SSE', 'S', 'SSW', 'SW', 'WSW', 'W', 'WNW', 'NW', 'NNW']\r\n",
    "  ix = int(round(d / (360. / len(dirs))))\r\n",
    "  return dirs[ix % len(dirs)]"
   ]
  },
  {
   "cell_type": "code",
   "execution_count": 5,
   "metadata": {
    "execution": {
     "iopub.execute_input": "2021-10-04T06:14:19.018371Z",
     "iopub.status.busy": "2021-10-04T06:14:19.017174Z",
     "iopub.status.idle": "2021-10-04T06:14:19.019014Z",
     "shell.execute_reply": "2021-10-04T06:14:19.019495Z"
    }
   },
   "outputs": [],
   "source": [
    "# data.keys()"
   ]
  },
  {
   "cell_type": "code",
   "execution_count": 6,
   "metadata": {
    "execution": {
     "iopub.execute_input": "2021-10-04T06:14:19.024678Z",
     "iopub.status.busy": "2021-10-04T06:14:19.022971Z",
     "iopub.status.idle": "2021-10-04T06:14:19.025355Z",
     "shell.execute_reply": "2021-10-04T06:14:19.025842Z"
    }
   },
   "outputs": [],
   "source": [
    "# data['current']"
   ]
  },
  {
   "cell_type": "code",
   "execution_count": 7,
   "metadata": {
    "execution": {
     "iopub.execute_input": "2021-10-04T06:14:19.048222Z",
     "iopub.status.busy": "2021-10-04T06:14:19.047324Z",
     "iopub.status.idle": "2021-10-04T06:14:19.470984Z",
     "shell.execute_reply": "2021-10-04T06:14:19.471839Z"
    }
   },
   "outputs": [
    {
     "data": {
      "image/png": "[encoded data removed]",
      "text/plain": [
       "<Figure size 216x216 with 1 Axes>"
      ]
     },
     "metadata": {
      "needs_background": "light"
     },
     "output_type": "display_data"
    },
    {
     "name": "stdout",
     "output_type": "stream",
     "text": [
      "Today, sun rises at 06:15 and sets at 18:08.\n",
      "Currently, the weather is Clouds (scattered clouds).\n",
      "The temperature is 31.99°C and it feels like 38.64°C.\n",
      "The UV index is 7.38, humidity is 65%.\n",
      "The pressure is 1010 hPa, percentage of cloud cover is 26%\n",
      "The wind comes from ENE direction with a speed 1.34 m/s.\n"
     ]
    }
   ],
   "source": [
    "current = data['current']\r\n",
    "\r\n",
    "fig, ax = plt.subplots(figsize=(3, 3))\r\n",
    "icon = requests.get(f\"http://openweathermap.org/img/wn/{current['weather'][0]['icon']}@2x.png\")\r\n",
    "im = Image.open(BytesIO(icon.content))\r\n",
    "plt.imshow(im)\r\n",
    "ax.set_axis_off()\r\n",
    "plt.show()\r\n",
    "\r\n",
    "print(f\"Today, sun rises at {ts2dt(current['sunrise'], '%H:%M')[0]} \\\r\n",
    "and sets at {ts2dt(current['sunset'], '%H:%M')[0]}.\\n\\\r\n",
    "Currently, the weather is {current['weather'][0]['main']} ({current['weather'][0]['description']}).\\n\\\r\n",
    "The temperature is {current['temp']}°C and it feels like {current['feels_like']}°C.\\n\\\r\n",
    "The UV index is {current['uvi']}, humidity is {current['humidity']}%.\\n\\\r\n",
    "The pressure is {current['pressure']} hPa, percentage of cloud cover is {current['clouds']}%\\n\\\r\n",
    "The wind comes from {degrees_to_cardinal(current['wind_deg'])} direction with a speed {current['wind_speed']} m/s.\")"
   ]
  },
  {
   "cell_type": "code",
   "execution_count": 8,
   "metadata": {
    "execution": {
     "iopub.execute_input": "2021-10-04T06:14:19.475738Z",
     "iopub.status.busy": "2021-10-04T06:14:19.474594Z",
     "iopub.status.idle": "2021-10-04T06:14:19.483408Z",
     "shell.execute_reply": "2021-10-04T06:14:19.484182Z"
    }
   },
   "outputs": [],
   "source": [
    "df_hourly = pd.DataFrame(data['hourly'])\r\n",
    "df_daily = pd.DataFrame(data['daily'])"
   ]
  },
  {
   "cell_type": "code",
   "execution_count": 9,
   "metadata": {
    "execution": {
     "iopub.execute_input": "2021-10-04T06:14:19.487845Z",
     "iopub.status.busy": "2021-10-04T06:14:19.486609Z",
     "iopub.status.idle": "2021-10-04T06:14:19.819615Z",
     "shell.execute_reply": "2021-10-04T06:14:19.820130Z"
    }
   },
   "outputs": [
    {
     "data": {
      "image/png": "[encoded data removed]",
      "text/plain": [
       "<Figure size 864x432 with 1 Axes>"
      ]
     },
     "metadata": {
      "needs_background": "light"
     },
     "output_type": "display_data"
    }
   ],
   "source": [
    "fig, ax = plt.subplots(figsize=(12, 6))\r\n",
    "plt.plot(df_hourly.temp, '.-', label='Temperature')\r\n",
    "plt.plot(df_hourly.feels_like, '.-', label='Feels Like')\r\n",
    "ax.set(title='Temperature in future 48 hours', xlabel='Time', ylabel='Temperature')\r\n",
    "ax.set_xticks(list(range(0, len(df_hourly), 2)))\r\n",
    "ax.set_xticklabels([ts2dt(ts, '%m-%d %H:%M')[0] for i, ts in enumerate(df_hourly.dt) if i%2==0], \r\n",
    "                   rotation=45, ha=\"right\")\r\n",
    "ax.locator_params(nbins=15, axis='y')\r\n",
    "plt.legend()\r\n",
    "plt.show()"
   ]
  },
  {
   "cell_type": "code",
   "execution_count": 10,
   "metadata": {
    "execution": {
     "iopub.execute_input": "2021-10-04T06:14:19.824065Z",
     "iopub.status.busy": "2021-10-04T06:14:19.822960Z",
     "iopub.status.idle": "2021-10-04T06:14:19.846415Z",
     "shell.execute_reply": "2021-10-04T06:14:19.846868Z"
    }
   },
   "outputs": [
    {
     "data": {
      "text/html": [
       "<div>\n",
       "<style scoped>\n",
       "    .dataframe tbody tr th:only-of-type {\n",
       "        vertical-align: middle;\n",
       "    }\n",
       "\n",
       "    .dataframe tbody tr th {\n",
       "        vertical-align: top;\n",
       "    }\n",
       "\n",
       "    .dataframe thead th {\n",
       "        text-align: right;\n",
       "    }\n",
       "</style>\n",
       "<table border=\"1\" class=\"dataframe\">\n",
       "  <thead>\n",
       "    <tr style=\"text-align: right;\">\n",
       "      <th></th>\n",
       "      <th>dt</th>\n",
       "      <th>temp</th>\n",
       "      <th>feels_like</th>\n",
       "      <th>pressure</th>\n",
       "      <th>humidity</th>\n",
       "      <th>dew_point</th>\n",
       "      <th>uvi</th>\n",
       "      <th>clouds</th>\n",
       "      <th>visibility</th>\n",
       "      <th>wind_speed</th>\n",
       "      <th>wind_deg</th>\n",
       "      <th>wind_gust</th>\n",
       "      <th>weather</th>\n",
       "      <th>pop</th>\n",
       "      <th>rain</th>\n",
       "    </tr>\n",
       "  </thead>\n",
       "  <tbody>\n",
       "    <tr>\n",
       "      <th>0</th>\n",
       "      <td>1633327200</td>\n",
       "      <td>31.99</td>\n",
       "      <td>38.64</td>\n",
       "      <td>1010</td>\n",
       "      <td>65</td>\n",
       "      <td>24.58</td>\n",
       "      <td>7.38</td>\n",
       "      <td>26</td>\n",
       "      <td>10000</td>\n",
       "      <td>6.69</td>\n",
       "      <td>79</td>\n",
       "      <td>7.83</td>\n",
       "      <td>[{'id': 802, 'main': 'Clouds', 'description': ...</td>\n",
       "      <td>0.0</td>\n",
       "      <td>NaN</td>\n",
       "    </tr>\n",
       "    <tr>\n",
       "      <th>1</th>\n",
       "      <td>1633330800</td>\n",
       "      <td>31.43</td>\n",
       "      <td>36.91</td>\n",
       "      <td>1010</td>\n",
       "      <td>64</td>\n",
       "      <td>23.80</td>\n",
       "      <td>4.85</td>\n",
       "      <td>21</td>\n",
       "      <td>10000</td>\n",
       "      <td>6.40</td>\n",
       "      <td>86</td>\n",
       "      <td>7.80</td>\n",
       "      <td>[{'id': 500, 'main': 'Rain', 'description': 'l...</td>\n",
       "      <td>0.2</td>\n",
       "      <td>{'1h': 0.13}</td>\n",
       "    </tr>\n",
       "    <tr>\n",
       "      <th>2</th>\n",
       "      <td>1633334400</td>\n",
       "      <td>30.76</td>\n",
       "      <td>35.85</td>\n",
       "      <td>1010</td>\n",
       "      <td>66</td>\n",
       "      <td>23.67</td>\n",
       "      <td>2.33</td>\n",
       "      <td>16</td>\n",
       "      <td>10000</td>\n",
       "      <td>5.96</td>\n",
       "      <td>94</td>\n",
       "      <td>7.49</td>\n",
       "      <td>[{'id': 801, 'main': 'Clouds', 'description': ...</td>\n",
       "      <td>0.0</td>\n",
       "      <td>NaN</td>\n",
       "    </tr>\n",
       "    <tr>\n",
       "      <th>3</th>\n",
       "      <td>1633338000</td>\n",
       "      <td>29.90</td>\n",
       "      <td>34.11</td>\n",
       "      <td>1011</td>\n",
       "      <td>67</td>\n",
       "      <td>23.11</td>\n",
       "      <td>0.71</td>\n",
       "      <td>11</td>\n",
       "      <td>10000</td>\n",
       "      <td>5.54</td>\n",
       "      <td>97</td>\n",
       "      <td>7.07</td>\n",
       "      <td>[{'id': 801, 'main': 'Clouds', 'description': ...</td>\n",
       "      <td>0.0</td>\n",
       "      <td>NaN</td>\n",
       "    </tr>\n",
       "    <tr>\n",
       "      <th>4</th>\n",
       "      <td>1633341600</td>\n",
       "      <td>28.77</td>\n",
       "      <td>32.06</td>\n",
       "      <td>1011</td>\n",
       "      <td>69</td>\n",
       "      <td>22.52</td>\n",
       "      <td>0.00</td>\n",
       "      <td>6</td>\n",
       "      <td>10000</td>\n",
       "      <td>5.21</td>\n",
       "      <td>97</td>\n",
       "      <td>6.84</td>\n",
       "      <td>[{'id': 800, 'main': 'Clear', 'description': '...</td>\n",
       "      <td>0.0</td>\n",
       "      <td>NaN</td>\n",
       "    </tr>\n",
       "  </tbody>\n",
       "</table>\n",
       "</div>"
      ],
      "text/plain": [
       "           dt   temp  feels_like  pressure  humidity  dew_point   uvi  clouds  \\\n",
       "0  1633327200  31.99       38.64      1010        65      24.58  7.38      26   \n",
       "1  1633330800  31.43       36.91      1010        64      23.80  4.85      21   \n",
       "2  1633334400  30.76       35.85      1010        66      23.67  2.33      16   \n",
       "3  1633338000  29.90       34.11      1011        67      23.11  0.71      11   \n",
       "4  1633341600  28.77       32.06      1011        69      22.52  0.00       6   \n",
       "\n",
       "   visibility  wind_speed  wind_deg  wind_gust  \\\n",
       "0       10000        6.69        79       7.83   \n",
       "1       10000        6.40        86       7.80   \n",
       "2       10000        5.96        94       7.49   \n",
       "3       10000        5.54        97       7.07   \n",
       "4       10000        5.21        97       6.84   \n",
       "\n",
       "                                             weather  pop          rain  \n",
       "0  [{'id': 802, 'main': 'Clouds', 'description': ...  0.0           NaN  \n",
       "1  [{'id': 500, 'main': 'Rain', 'description': 'l...  0.2  {'1h': 0.13}  \n",
       "2  [{'id': 801, 'main': 'Clouds', 'description': ...  0.0           NaN  \n",
       "3  [{'id': 801, 'main': 'Clouds', 'description': ...  0.0           NaN  \n",
       "4  [{'id': 800, 'main': 'Clear', 'description': '...  0.0           NaN  "
      ]
     },
     "execution_count": 10,
     "metadata": {},
     "output_type": "execute_result"
    }
   ],
   "source": [
    "df_hourly.head()"
   ]
  },
  {
   "cell_type": "code",
   "execution_count": null,
   "metadata": {},
   "outputs": [],
   "source": []
  }
 ],
 "metadata": {
  "interpreter": {
   "hash": "c1b4cfe941b6d2466ad1fb5979e97da9cda8801728c8091b097ab734208fc00c"
  },
  "kernelspec": {
   "display_name": "Python 3.8.3 64-bit ('base': conda)",
   "name": "python3"
  },
  "language_info": {
   "codemirror_mode": {
    "name": "ipython",
    "version": 3
   },
   "file_extension": ".py",
   "mimetype": "text/x-python",
   "name": "python",
   "nbconvert_exporter": "python",
   "pygments_lexer": "ipython3",
   "version": "3.8.12"
  }
 },
 "nbformat": 4,
 "nbformat_minor": 2
}
