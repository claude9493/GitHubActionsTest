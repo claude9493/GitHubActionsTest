{
 "cells": [
  {
   "cell_type": "code",
   "execution_count": 1,
   "metadata": {
    "execution": {
     "iopub.execute_input": "2021-09-21T12:17:59.751382Z",
     "iopub.status.busy": "2021-09-21T12:17:59.750678Z",
     "iopub.status.idle": "2021-09-21T12:18:01.158033Z",
     "shell.execute_reply": "2021-09-21T12:18:01.158504Z"
    }
   },
   "outputs": [],
   "source": [
    "import json, yaml, requests\r\n",
    "from datetime import datetime\r\n",
    "from dateutil import tz\r\n",
    "import pandas as pd\r\n",
    "from PIL import Image\r\n",
    "from io import BytesIO\r\n",
    "import matplotlib.pyplot as plt\r\n",
    "import seaborn\r\n",
    "\r\n",
    "CONFIG_PATH = \"../config/config.yaml\""
   ]
  },
  {
   "cell_type": "code",
   "execution_count": 2,
   "metadata": {
    "execution": {
     "iopub.execute_input": "2021-09-21T12:18:01.164361Z",
     "iopub.status.busy": "2021-09-21T12:18:01.163304Z",
     "iopub.status.idle": "2021-09-21T12:18:01.168653Z",
     "shell.execute_reply": "2021-09-21T12:18:01.169141Z"
    }
   },
   "outputs": [],
   "source": [
    "with open('../newest_ts', 'r') as f:\r\n",
    "    newest_ts = f.read()\r\n",
    "\r\n",
    "data_path = f\"../data/data_{newest_ts}.json\"\r\n",
    "with open(data_path, 'r') as f:\r\n",
    "    data = json.load(f)\r\n",
    "\r\n",
    "with open(CONFIG_PATH, \"r\") as stream:\r\n",
    "    config = yaml.safe_load(stream)\r\n",
    "\r\n",
    "TIME_ZONE = config['time_zone']\r\n",
    "DATETIME_FORMAT = config['dt_format']"
   ]
  },
  {
   "cell_type": "code",
   "execution_count": 3,
   "metadata": {
    "execution": {
     "iopub.execute_input": "2021-09-21T12:18:01.174322Z",
     "iopub.status.busy": "2021-09-21T12:18:01.173569Z",
     "iopub.status.idle": "2021-09-21T12:18:01.179990Z",
     "shell.execute_reply": "2021-09-21T12:18:01.179505Z"
    }
   },
   "outputs": [
    {
     "name": "stdout",
     "output_type": "stream",
     "text": [
      "Recent query happens at 2021-09-21 20:17:56 (CST).\n"
     ]
    }
   ],
   "source": [
    "def ts2dt(ts, format=DATETIME_FORMAT):\r\n",
    "    dt = (datetime.utcfromtimestamp(int(ts))\r\n",
    "                    .replace(tzinfo=tz.tzutc())\r\n",
    "                    # .astimezone(tz.tzlocal())\r\n",
    "                    .astimezone(tz.gettz(TIME_ZONE)))\r\n",
    "    return dt.strftime(format), dt\r\n",
    "\r\n",
    "_, newest_dt = ts2dt(newest_ts)\r\n",
    "print(f\"Recent query happens at {newest_dt.strftime(DATETIME_FORMAT)} ({newest_dt.tzname()}).\")"
   ]
  },
  {
   "cell_type": "code",
   "execution_count": 4,
   "metadata": {
    "execution": {
     "iopub.execute_input": "2021-09-21T12:18:01.184517Z",
     "iopub.status.busy": "2021-09-21T12:18:01.183945Z",
     "iopub.status.idle": "2021-09-21T12:18:01.187139Z",
     "shell.execute_reply": "2021-09-21T12:18:01.187589Z"
    }
   },
   "outputs": [],
   "source": [
    "def degrees_to_cardinal(d):\r\n",
    "  dirs = ['N', 'NNE', 'NE', 'ENE', 'E', 'ESE', 'SE', 'SSE', 'S', 'SSW', 'SW', 'WSW', 'W', 'WNW', 'NW', 'NNW']\r\n",
    "  ix = int(round(d / (360. / len(dirs))))\r\n",
    "  return dirs[ix % len(dirs)]"
   ]
  },
  {
   "cell_type": "code",
   "execution_count": 5,
   "metadata": {
    "execution": {
     "iopub.execute_input": "2021-09-21T12:18:01.191271Z",
     "iopub.status.busy": "2021-09-21T12:18:01.190702Z",
     "iopub.status.idle": "2021-09-21T12:18:01.194207Z",
     "shell.execute_reply": "2021-09-21T12:18:01.193676Z"
    }
   },
   "outputs": [],
   "source": [
    "# data.keys()"
   ]
  },
  {
   "cell_type": "code",
   "execution_count": 6,
   "metadata": {
    "execution": {
     "iopub.execute_input": "2021-09-21T12:18:01.198059Z",
     "iopub.status.busy": "2021-09-21T12:18:01.197487Z",
     "iopub.status.idle": "2021-09-21T12:18:01.199636Z",
     "shell.execute_reply": "2021-09-21T12:18:01.200086Z"
    }
   },
   "outputs": [],
   "source": [
    "# data['current']"
   ]
  },
  {
   "cell_type": "code",
   "execution_count": 7,
   "metadata": {
    "execution": {
     "iopub.execute_input": "2021-09-21T12:18:01.221062Z",
     "iopub.status.busy": "2021-09-21T12:18:01.220451Z",
     "iopub.status.idle": "2021-09-21T12:18:01.551010Z",
     "shell.execute_reply": "2021-09-21T12:18:01.551576Z"
    }
   },
   "outputs": [
    {
     "data": {
      "image/png": "[encoded data removed]",
      "text/plain": [
       "<Figure size 216x216 with 1 Axes>"
      ]
     },
     "metadata": {
      "needs_background": "light"
     },
     "output_type": "display_data"
    },
    {
     "name": "stdout",
     "output_type": "stream",
     "text": [
      "Today, sun rises at 06:11 and sets at 18:20.\n",
      "Currently, the weather is Rain (light rain).\n",
      "The temperature is 29.53°C and it feels like 36.51°C.\n",
      "The UV index is 0, humidity is 81%.\n",
      "The pressure is 1009 hPa, percentage of cloud cover is 94%\n",
      "The wind comes from SE direction with a speed 2.36 m/s.\n"
     ]
    }
   ],
   "source": [
    "current = data['current']\r\n",
    "\r\n",
    "fig, ax = plt.subplots(figsize=(3, 3))\r\n",
    "icon = requests.get(f\"http://openweathermap.org/img/wn/{current['weather'][0]['icon']}@2x.png\")\r\n",
    "im = Image.open(BytesIO(icon.content))\r\n",
    "plt.imshow(im)\r\n",
    "ax.set_axis_off()\r\n",
    "plt.show()\r\n",
    "\r\n",
    "print(f\"Today, sun rises at {ts2dt(current['sunrise'], '%H:%M')[0]} \\\r\n",
    "and sets at {ts2dt(current['sunset'], '%H:%M')[0]}.\\n\\\r\n",
    "Currently, the weather is {current['weather'][0]['main']} ({current['weather'][0]['description']}).\\n\\\r\n",
    "The temperature is {current['temp']}°C and it feels like {current['feels_like']}°C.\\n\\\r\n",
    "The UV index is {current['uvi']}, humidity is {current['humidity']}%.\\n\\\r\n",
    "The pressure is {current['pressure']} hPa, percentage of cloud cover is {current['clouds']}%\\n\\\r\n",
    "The wind comes from {degrees_to_cardinal(current['wind_deg'])} direction with a speed {current['wind_speed']} m/s.\")"
   ]
  },
  {
   "cell_type": "code",
   "execution_count": 8,
   "metadata": {
    "execution": {
     "iopub.execute_input": "2021-09-21T12:18:01.554623Z",
     "iopub.status.busy": "2021-09-21T12:18:01.554045Z",
     "iopub.status.idle": "2021-09-21T12:18:01.560524Z",
     "shell.execute_reply": "2021-09-21T12:18:01.561078Z"
    }
   },
   "outputs": [],
   "source": [
    "df_hourly = pd.DataFrame(data['hourly'])\r\n",
    "df_daily = pd.DataFrame(data['daily'])"
   ]
  },
  {
   "cell_type": "code",
   "execution_count": 9,
   "metadata": {
    "execution": {
     "iopub.execute_input": "2021-09-21T12:18:01.580316Z",
     "iopub.status.busy": "2021-09-21T12:18:01.572488Z",
     "iopub.status.idle": "2021-09-21T12:18:01.873059Z",
     "shell.execute_reply": "2021-09-21T12:18:01.873576Z"
    }
   },
   "outputs": [
    {
     "data": {
      "image/png": "[encoded data removed]",
      "text/plain": [
       "<Figure size 864x432 with 1 Axes>"
      ]
     },
     "metadata": {
      "needs_background": "light"
     },
     "output_type": "display_data"
    }
   ],
   "source": [
    "fig, ax = plt.subplots(figsize=(12, 6))\r\n",
    "plt.plot(df_hourly.temp, '.-', label='Temperature')\r\n",
    "plt.plot(df_hourly.feels_like, '.-', label='Feels Like')\r\n",
    "ax.set(title='Temperature in future 48 hours', xlabel='Time', ylabel='Temperature')\r\n",
    "ax.set_xticks(list(range(0, len(df_hourly), 2)))\r\n",
    "ax.set_xticklabels([ts2dt(ts, '%m-%d %H:%M')[0] for i, ts in enumerate(df_hourly.dt) if i%2==0], \r\n",
    "                   rotation=45, ha=\"right\")\r\n",
    "ax.locator_params(nbins=15, axis='y')\r\n",
    "plt.legend()\r\n",
    "plt.show()"
   ]
  },
  {
   "cell_type": "code",
   "execution_count": 10,
   "metadata": {
    "execution": {
     "iopub.execute_input": "2021-09-21T12:18:01.878683Z",
     "iopub.status.busy": "2021-09-21T12:18:01.877732Z",
     "iopub.status.idle": "2021-09-21T12:18:01.900417Z",
     "shell.execute_reply": "2021-09-21T12:18:01.899708Z"
    }
   },
   "outputs": [
    {
     "data": {
      "text/html": [
       "<div>\n",
       "<style scoped>\n",
       "    .dataframe tbody tr th:only-of-type {\n",
       "        vertical-align: middle;\n",
       "    }\n",
       "\n",
       "    .dataframe tbody tr th {\n",
       "        vertical-align: top;\n",
       "    }\n",
       "\n",
       "    .dataframe thead th {\n",
       "        text-align: right;\n",
       "    }\n",
       "</style>\n",
       "<table border=\"1\" class=\"dataframe\">\n",
       "  <thead>\n",
       "    <tr style=\"text-align: right;\">\n",
       "      <th></th>\n",
       "      <th>dt</th>\n",
       "      <th>temp</th>\n",
       "      <th>feels_like</th>\n",
       "      <th>pressure</th>\n",
       "      <th>humidity</th>\n",
       "      <th>dew_point</th>\n",
       "      <th>uvi</th>\n",
       "      <th>clouds</th>\n",
       "      <th>visibility</th>\n",
       "      <th>wind_speed</th>\n",
       "      <th>wind_deg</th>\n",
       "      <th>wind_gust</th>\n",
       "      <th>weather</th>\n",
       "      <th>pop</th>\n",
       "      <th>rain</th>\n",
       "    </tr>\n",
       "  </thead>\n",
       "  <tbody>\n",
       "    <tr>\n",
       "      <th>0</th>\n",
       "      <td>1632225600</td>\n",
       "      <td>29.53</td>\n",
       "      <td>36.51</td>\n",
       "      <td>1009</td>\n",
       "      <td>81</td>\n",
       "      <td>25.92</td>\n",
       "      <td>0.0</td>\n",
       "      <td>94</td>\n",
       "      <td>10000</td>\n",
       "      <td>2.36</td>\n",
       "      <td>140</td>\n",
       "      <td>2.63</td>\n",
       "      <td>[{'id': 804, 'main': 'Clouds', 'description': ...</td>\n",
       "      <td>0.00</td>\n",
       "      <td>NaN</td>\n",
       "    </tr>\n",
       "    <tr>\n",
       "      <th>1</th>\n",
       "      <td>1632229200</td>\n",
       "      <td>29.34</td>\n",
       "      <td>35.70</td>\n",
       "      <td>1009</td>\n",
       "      <td>80</td>\n",
       "      <td>25.53</td>\n",
       "      <td>0.0</td>\n",
       "      <td>85</td>\n",
       "      <td>10000</td>\n",
       "      <td>2.69</td>\n",
       "      <td>138</td>\n",
       "      <td>3.07</td>\n",
       "      <td>[{'id': 500, 'main': 'Rain', 'description': 'l...</td>\n",
       "      <td>0.20</td>\n",
       "      <td>{'1h': 0.18}</td>\n",
       "    </tr>\n",
       "    <tr>\n",
       "      <th>2</th>\n",
       "      <td>1632232800</td>\n",
       "      <td>29.08</td>\n",
       "      <td>34.96</td>\n",
       "      <td>1009</td>\n",
       "      <td>80</td>\n",
       "      <td>25.27</td>\n",
       "      <td>0.0</td>\n",
       "      <td>82</td>\n",
       "      <td>10000</td>\n",
       "      <td>2.82</td>\n",
       "      <td>137</td>\n",
       "      <td>3.34</td>\n",
       "      <td>[{'id': 500, 'main': 'Rain', 'description': 'l...</td>\n",
       "      <td>0.20</td>\n",
       "      <td>{'1h': 0.15}</td>\n",
       "    </tr>\n",
       "    <tr>\n",
       "      <th>3</th>\n",
       "      <td>1632236400</td>\n",
       "      <td>28.79</td>\n",
       "      <td>34.16</td>\n",
       "      <td>1010</td>\n",
       "      <td>80</td>\n",
       "      <td>24.99</td>\n",
       "      <td>0.0</td>\n",
       "      <td>75</td>\n",
       "      <td>10000</td>\n",
       "      <td>2.60</td>\n",
       "      <td>135</td>\n",
       "      <td>3.23</td>\n",
       "      <td>[{'id': 803, 'main': 'Clouds', 'description': ...</td>\n",
       "      <td>0.09</td>\n",
       "      <td>NaN</td>\n",
       "    </tr>\n",
       "    <tr>\n",
       "      <th>4</th>\n",
       "      <td>1632240000</td>\n",
       "      <td>28.55</td>\n",
       "      <td>33.52</td>\n",
       "      <td>1010</td>\n",
       "      <td>80</td>\n",
       "      <td>24.76</td>\n",
       "      <td>0.0</td>\n",
       "      <td>64</td>\n",
       "      <td>10000</td>\n",
       "      <td>2.29</td>\n",
       "      <td>137</td>\n",
       "      <td>2.98</td>\n",
       "      <td>[{'id': 803, 'main': 'Clouds', 'description': ...</td>\n",
       "      <td>0.13</td>\n",
       "      <td>NaN</td>\n",
       "    </tr>\n",
       "  </tbody>\n",
       "</table>\n",
       "</div>"
      ],
      "text/plain": [
       "           dt   temp  feels_like  pressure  humidity  dew_point  uvi  clouds  \\\n",
       "0  1632225600  29.53       36.51      1009        81      25.92  0.0      94   \n",
       "1  1632229200  29.34       35.70      1009        80      25.53  0.0      85   \n",
       "2  1632232800  29.08       34.96      1009        80      25.27  0.0      82   \n",
       "3  1632236400  28.79       34.16      1010        80      24.99  0.0      75   \n",
       "4  1632240000  28.55       33.52      1010        80      24.76  0.0      64   \n",
       "\n",
       "   visibility  wind_speed  wind_deg  wind_gust  \\\n",
       "0       10000        2.36       140       2.63   \n",
       "1       10000        2.69       138       3.07   \n",
       "2       10000        2.82       137       3.34   \n",
       "3       10000        2.60       135       3.23   \n",
       "4       10000        2.29       137       2.98   \n",
       "\n",
       "                                             weather   pop          rain  \n",
       "0  [{'id': 804, 'main': 'Clouds', 'description': ...  0.00           NaN  \n",
       "1  [{'id': 500, 'main': 'Rain', 'description': 'l...  0.20  {'1h': 0.18}  \n",
       "2  [{'id': 500, 'main': 'Rain', 'description': 'l...  0.20  {'1h': 0.15}  \n",
       "3  [{'id': 803, 'main': 'Clouds', 'description': ...  0.09           NaN  \n",
       "4  [{'id': 803, 'main': 'Clouds', 'description': ...  0.13           NaN  "
      ]
     },
     "execution_count": 10,
     "metadata": {},
     "output_type": "execute_result"
    }
   ],
   "source": [
    "df_hourly.head()"
   ]
  },
  {
   "cell_type": "code",
   "execution_count": null,
   "metadata": {},
   "outputs": [],
   "source": []
  }
 ],
 "metadata": {
  "interpreter": {
   "hash": "c1b4cfe941b6d2466ad1fb5979e97da9cda8801728c8091b097ab734208fc00c"
  },
  "kernelspec": {
   "display_name": "Python 3.8.3 64-bit ('base': conda)",
   "name": "python3"
  },
  "language_info": {
   "codemirror_mode": {
    "name": "ipython",
    "version": 3
   },
   "file_extension": ".py",
   "mimetype": "text/x-python",
   "name": "python",
   "nbconvert_exporter": "python",
   "pygments_lexer": "ipython3",
   "version": "3.8.11"
  }
 },
 "nbformat": 4,
 "nbformat_minor": 2
}
