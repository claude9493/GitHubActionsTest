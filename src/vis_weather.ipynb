{
 "cells": [
  {
   "cell_type": "code",
   "execution_count": 1,
   "metadata": {
    "execution": {
     "iopub.execute_input": "2021-08-28T12:23:04.099210Z",
     "iopub.status.busy": "2021-08-28T12:23:04.097894Z",
     "iopub.status.idle": "2021-08-28T12:23:07.617045Z",
     "shell.execute_reply": "2021-08-28T12:23:07.617535Z"
    }
   },
   "outputs": [],
   "source": [
    "import json, yaml, requests\r\n",
    "from datetime import datetime\r\n",
    "from dateutil import tz\r\n",
    "import pandas as pd\r\n",
    "from PIL import Image\r\n",
    "from io import BytesIO\r\n",
    "import matplotlib.pyplot as plt\r\n",
    "import seaborn\r\n",
    "\r\n",
    "CONFIG_PATH = \"../config/config.yaml\""
   ]
  },
  {
   "cell_type": "code",
   "execution_count": 2,
   "metadata": {
    "execution": {
     "iopub.execute_input": "2021-08-28T12:23:07.626618Z",
     "iopub.status.busy": "2021-08-28T12:23:07.622823Z",
     "iopub.status.idle": "2021-08-28T12:23:07.629585Z",
     "shell.execute_reply": "2021-08-28T12:23:07.629134Z"
    }
   },
   "outputs": [],
   "source": [
    "with open('../newest_ts', 'r') as f:\r\n",
    "    newest_ts = f.read()\r\n",
    "\r\n",
    "data_path = f\"../data/data_{newest_ts}.json\"\r\n",
    "with open(data_path, 'r') as f:\r\n",
    "    data = json.load(f)\r\n",
    "\r\n",
    "with open(CONFIG_PATH, \"r\") as stream:\r\n",
    "    config = yaml.safe_load(stream)\r\n",
    "\r\n",
    "TIME_ZONE = config['time_zone']\r\n",
    "DATETIME_FORMAT = config['dt_format']"
   ]
  },
  {
   "cell_type": "code",
   "execution_count": 3,
   "metadata": {
    "execution": {
     "iopub.execute_input": "2021-08-28T12:23:07.635331Z",
     "iopub.status.busy": "2021-08-28T12:23:07.634587Z",
     "iopub.status.idle": "2021-08-28T12:23:07.647804Z",
     "shell.execute_reply": "2021-08-28T12:23:07.647264Z"
    }
   },
   "outputs": [
    {
     "name": "stdout",
     "output_type": "stream",
     "text": [
      "Recent query happens at 2021-08-28 20:23:00 (CST).\n"
     ]
    }
   ],
   "source": [
    "def ts2dt(ts, format=DATETIME_FORMAT):\r\n",
    "    dt = (datetime.utcfromtimestamp(int(ts))\r\n",
    "                    .replace(tzinfo=tz.tzutc())\r\n",
    "                    # .astimezone(tz.tzlocal())\r\n",
    "                    .astimezone(tz.gettz(TIME_ZONE)))\r\n",
    "    return dt.strftime(format), dt\r\n",
    "\r\n",
    "_, newest_dt = ts2dt(newest_ts)\r\n",
    "print(f\"Recent query happens at {newest_dt.strftime(DATETIME_FORMAT)} ({newest_dt.tzname()}).\")"
   ]
  },
  {
   "cell_type": "code",
   "execution_count": 4,
   "metadata": {
    "execution": {
     "iopub.execute_input": "2021-08-28T12:23:07.654900Z",
     "iopub.status.busy": "2021-08-28T12:23:07.653625Z",
     "iopub.status.idle": "2021-08-28T12:23:07.656207Z",
     "shell.execute_reply": "2021-08-28T12:23:07.655598Z"
    }
   },
   "outputs": [],
   "source": [
    "def degrees_to_cardinal(d):\r\n",
    "  dirs = ['N', 'NNE', 'NE', 'ENE', 'E', 'ESE', 'SE', 'SSE', 'S', 'SSW', 'SW', 'WSW', 'W', 'WNW', 'NW', 'NNW']\r\n",
    "  ix = int(round(d / (360. / len(dirs))))\r\n",
    "  return dirs[ix % len(dirs)]"
   ]
  },
  {
   "cell_type": "code",
   "execution_count": 5,
   "metadata": {
    "execution": {
     "iopub.execute_input": "2021-08-28T12:23:07.661447Z",
     "iopub.status.busy": "2021-08-28T12:23:07.659987Z",
     "iopub.status.idle": "2021-08-28T12:23:07.662028Z",
     "shell.execute_reply": "2021-08-28T12:23:07.662449Z"
    }
   },
   "outputs": [],
   "source": [
    "# data.keys()"
   ]
  },
  {
   "cell_type": "code",
   "execution_count": 6,
   "metadata": {
    "execution": {
     "iopub.execute_input": "2021-08-28T12:23:07.667040Z",
     "iopub.status.busy": "2021-08-28T12:23:07.665532Z",
     "iopub.status.idle": "2021-08-28T12:23:07.667655Z",
     "shell.execute_reply": "2021-08-28T12:23:07.668084Z"
    }
   },
   "outputs": [],
   "source": [
    "# data['current']"
   ]
  },
  {
   "cell_type": "code",
   "execution_count": 7,
   "metadata": {
    "execution": {
     "iopub.execute_input": "2021-08-28T12:23:07.688954Z",
     "iopub.status.busy": "2021-08-28T12:23:07.671057Z",
     "iopub.status.idle": "2021-08-28T12:23:08.123500Z",
     "shell.execute_reply": "2021-08-28T12:23:08.124259Z"
    }
   },
   "outputs": [
    {
     "data": {
      "image/png": "[encoded data removed]",
      "text/plain": [
       "<Figure size 216x216 with 1 Axes>"
      ]
     },
     "metadata": {
      "needs_background": "light"
     },
     "output_type": "display_data"
    },
    {
     "name": "stdout",
     "output_type": "stream",
     "text": [
      "Today, sun rises at 06:04 and sets at 18:44.\n",
      "Currently, the weather is Clouds (few clouds).\n",
      "The temperature is 28.28°C and it feels like 31.98°C.\n",
      "The UV index is 0, humidity is 75%.\n",
      "The pressure is 1011 hPa, percentage of cloud cover is 16%\n",
      "The wind comes from E direction with a speed 4 m/s.\n"
     ]
    }
   ],
   "source": [
    "current = data['current']\r\n",
    "\r\n",
    "fig, ax = plt.subplots(figsize=(3, 3))\r\n",
    "icon = requests.get(f\"http://openweathermap.org/img/wn/{current['weather'][0]['icon']}@2x.png\")\r\n",
    "im = Image.open(BytesIO(icon.content))\r\n",
    "plt.imshow(im)\r\n",
    "ax.set_axis_off()\r\n",
    "plt.show()\r\n",
    "\r\n",
    "print(f\"Today, sun rises at {ts2dt(current['sunrise'], '%H:%M')[0]} \\\r\n",
    "and sets at {ts2dt(current['sunset'], '%H:%M')[0]}.\\n\\\r\n",
    "Currently, the weather is {current['weather'][0]['main']} ({current['weather'][0]['description']}).\\n\\\r\n",
    "The temperature is {current['temp']}°C and it feels like {current['feels_like']}°C.\\n\\\r\n",
    "The UV index is {current['uvi']}, humidity is {current['humidity']}%.\\n\\\r\n",
    "The pressure is {current['pressure']} hPa, percentage of cloud cover is {current['clouds']}%\\n\\\r\n",
    "The wind comes from {degrees_to_cardinal(current['wind_deg'])} direction with a speed {current['wind_speed']} m/s.\")"
   ]
  },
  {
   "cell_type": "code",
   "execution_count": 8,
   "metadata": {
    "execution": {
     "iopub.execute_input": "2021-08-28T12:23:08.127790Z",
     "iopub.status.busy": "2021-08-28T12:23:08.126735Z",
     "iopub.status.idle": "2021-08-28T12:23:08.134769Z",
     "shell.execute_reply": "2021-08-28T12:23:08.135530Z"
    }
   },
   "outputs": [],
   "source": [
    "df_hourly = pd.DataFrame(data['hourly'])\r\n",
    "df_daily = pd.DataFrame(data['daily'])"
   ]
  },
  {
   "cell_type": "code",
   "execution_count": 9,
   "metadata": {
    "execution": {
     "iopub.execute_input": "2021-08-28T12:23:08.139026Z",
     "iopub.status.busy": "2021-08-28T12:23:08.137960Z",
     "iopub.status.idle": "2021-08-28T12:23:08.415122Z",
     "shell.execute_reply": "2021-08-28T12:23:08.415541Z"
    }
   },
   "outputs": [
    {
     "data": {
      "image/png": "[encoded data removed]",
      "text/plain": [
       "<Figure size 864x432 with 1 Axes>"
      ]
     },
     "metadata": {
      "needs_background": "light"
     },
     "output_type": "display_data"
    }
   ],
   "source": [
    "fig, ax = plt.subplots(figsize=(12, 6))\r\n",
    "plt.plot(df_hourly.temp, '.-', label='Temperature')\r\n",
    "plt.plot(df_hourly.feels_like, '.-', label='Feels Like')\r\n",
    "ax.set(title='Temperature in future 48 hours', xlabel='Time', ylabel='Temperature')\r\n",
    "ax.set_xticks(list(range(0, len(df_hourly), 2)))\r\n",
    "ax.set_xticklabels([ts2dt(ts, '%m-%d %H:%M')[0] for i, ts in enumerate(df_hourly.dt) if i%2==0], \r\n",
    "                   rotation=45, ha=\"right\")\r\n",
    "ax.locator_params(nbins=15, axis='y')\r\n",
    "plt.legend()\r\n",
    "plt.show()"
   ]
  },
  {
   "cell_type": "code",
   "execution_count": 10,
   "metadata": {
    "execution": {
     "iopub.execute_input": "2021-08-28T12:23:08.428009Z",
     "iopub.status.busy": "2021-08-28T12:23:08.419783Z",
     "iopub.status.idle": "2021-08-28T12:23:08.440892Z",
     "shell.execute_reply": "2021-08-28T12:23:08.440410Z"
    }
   },
   "outputs": [
    {
     "data": {
      "text/html": [
       "<div>\n",
       "<style scoped>\n",
       "    .dataframe tbody tr th:only-of-type {\n",
       "        vertical-align: middle;\n",
       "    }\n",
       "\n",
       "    .dataframe tbody tr th {\n",
       "        vertical-align: top;\n",
       "    }\n",
       "\n",
       "    .dataframe thead th {\n",
       "        text-align: right;\n",
       "    }\n",
       "</style>\n",
       "<table border=\"1\" class=\"dataframe\">\n",
       "  <thead>\n",
       "    <tr style=\"text-align: right;\">\n",
       "      <th></th>\n",
       "      <th>dt</th>\n",
       "      <th>temp</th>\n",
       "      <th>feels_like</th>\n",
       "      <th>pressure</th>\n",
       "      <th>humidity</th>\n",
       "      <th>dew_point</th>\n",
       "      <th>uvi</th>\n",
       "      <th>clouds</th>\n",
       "      <th>visibility</th>\n",
       "      <th>wind_speed</th>\n",
       "      <th>wind_deg</th>\n",
       "      <th>wind_gust</th>\n",
       "      <th>weather</th>\n",
       "      <th>pop</th>\n",
       "      <th>rain</th>\n",
       "    </tr>\n",
       "  </thead>\n",
       "  <tbody>\n",
       "    <tr>\n",
       "      <th>0</th>\n",
       "      <td>1630152000</td>\n",
       "      <td>28.28</td>\n",
       "      <td>31.98</td>\n",
       "      <td>1011</td>\n",
       "      <td>75</td>\n",
       "      <td>23.42</td>\n",
       "      <td>0.0</td>\n",
       "      <td>16</td>\n",
       "      <td>10000</td>\n",
       "      <td>4.00</td>\n",
       "      <td>91</td>\n",
       "      <td>5.54</td>\n",
       "      <td>[{'id': 801, 'main': 'Clouds', 'description': ...</td>\n",
       "      <td>0.27</td>\n",
       "      <td>NaN</td>\n",
       "    </tr>\n",
       "    <tr>\n",
       "      <th>1</th>\n",
       "      <td>1630155600</td>\n",
       "      <td>28.20</td>\n",
       "      <td>31.80</td>\n",
       "      <td>1011</td>\n",
       "      <td>75</td>\n",
       "      <td>23.35</td>\n",
       "      <td>0.0</td>\n",
       "      <td>16</td>\n",
       "      <td>10000</td>\n",
       "      <td>4.20</td>\n",
       "      <td>93</td>\n",
       "      <td>5.76</td>\n",
       "      <td>[{'id': 801, 'main': 'Clouds', 'description': ...</td>\n",
       "      <td>0.53</td>\n",
       "      <td>NaN</td>\n",
       "    </tr>\n",
       "    <tr>\n",
       "      <th>2</th>\n",
       "      <td>1630159200</td>\n",
       "      <td>27.96</td>\n",
       "      <td>31.55</td>\n",
       "      <td>1011</td>\n",
       "      <td>77</td>\n",
       "      <td>23.55</td>\n",
       "      <td>0.0</td>\n",
       "      <td>19</td>\n",
       "      <td>10000</td>\n",
       "      <td>3.89</td>\n",
       "      <td>93</td>\n",
       "      <td>5.56</td>\n",
       "      <td>[{'id': 801, 'main': 'Clouds', 'description': ...</td>\n",
       "      <td>0.65</td>\n",
       "      <td>NaN</td>\n",
       "    </tr>\n",
       "    <tr>\n",
       "      <th>3</th>\n",
       "      <td>1630162800</td>\n",
       "      <td>27.93</td>\n",
       "      <td>31.63</td>\n",
       "      <td>1012</td>\n",
       "      <td>78</td>\n",
       "      <td>23.74</td>\n",
       "      <td>0.0</td>\n",
       "      <td>31</td>\n",
       "      <td>10000</td>\n",
       "      <td>4.07</td>\n",
       "      <td>85</td>\n",
       "      <td>5.99</td>\n",
       "      <td>[{'id': 500, 'main': 'Rain', 'description': 'l...</td>\n",
       "      <td>0.69</td>\n",
       "      <td>{'1h': 0.8}</td>\n",
       "    </tr>\n",
       "    <tr>\n",
       "      <th>4</th>\n",
       "      <td>1630166400</td>\n",
       "      <td>27.84</td>\n",
       "      <td>31.42</td>\n",
       "      <td>1012</td>\n",
       "      <td>78</td>\n",
       "      <td>23.65</td>\n",
       "      <td>0.0</td>\n",
       "      <td>48</td>\n",
       "      <td>10000</td>\n",
       "      <td>4.16</td>\n",
       "      <td>77</td>\n",
       "      <td>6.09</td>\n",
       "      <td>[{'id': 500, 'main': 'Rain', 'description': 'l...</td>\n",
       "      <td>0.65</td>\n",
       "      <td>{'1h': 0.58}</td>\n",
       "    </tr>\n",
       "  </tbody>\n",
       "</table>\n",
       "</div>"
      ],
      "text/plain": [
       "           dt   temp  feels_like  pressure  humidity  dew_point  uvi  clouds  \\\n",
       "0  1630152000  28.28       31.98      1011        75      23.42  0.0      16   \n",
       "1  1630155600  28.20       31.80      1011        75      23.35  0.0      16   \n",
       "2  1630159200  27.96       31.55      1011        77      23.55  0.0      19   \n",
       "3  1630162800  27.93       31.63      1012        78      23.74  0.0      31   \n",
       "4  1630166400  27.84       31.42      1012        78      23.65  0.0      48   \n",
       "\n",
       "   visibility  wind_speed  wind_deg  wind_gust  \\\n",
       "0       10000        4.00        91       5.54   \n",
       "1       10000        4.20        93       5.76   \n",
       "2       10000        3.89        93       5.56   \n",
       "3       10000        4.07        85       5.99   \n",
       "4       10000        4.16        77       6.09   \n",
       "\n",
       "                                             weather   pop          rain  \n",
       "0  [{'id': 801, 'main': 'Clouds', 'description': ...  0.27           NaN  \n",
       "1  [{'id': 801, 'main': 'Clouds', 'description': ...  0.53           NaN  \n",
       "2  [{'id': 801, 'main': 'Clouds', 'description': ...  0.65           NaN  \n",
       "3  [{'id': 500, 'main': 'Rain', 'description': 'l...  0.69   {'1h': 0.8}  \n",
       "4  [{'id': 500, 'main': 'Rain', 'description': 'l...  0.65  {'1h': 0.58}  "
      ]
     },
     "execution_count": 10,
     "metadata": {},
     "output_type": "execute_result"
    }
   ],
   "source": [
    "df_hourly.head()"
   ]
  },
  {
   "cell_type": "code",
   "execution_count": null,
   "metadata": {},
   "outputs": [],
   "source": []
  }
 ],
 "metadata": {
  "interpreter": {
   "hash": "c1b4cfe941b6d2466ad1fb5979e97da9cda8801728c8091b097ab734208fc00c"
  },
  "kernelspec": {
   "display_name": "Python 3.8.3 64-bit ('base': conda)",
   "name": "python3"
  },
  "language_info": {
   "codemirror_mode": {
    "name": "ipython",
    "version": 3
   },
   "file_extension": ".py",
   "mimetype": "text/x-python",
   "name": "python",
   "nbconvert_exporter": "python",
   "pygments_lexer": "ipython3",
   "version": "3.8.11"
  }
 },
 "nbformat": 4,
 "nbformat_minor": 2
}
