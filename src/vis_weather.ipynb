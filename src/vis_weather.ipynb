{
 "cells": [
  {
   "cell_type": "code",
   "execution_count": 1,
   "metadata": {
    "execution": {
     "iopub.execute_input": "2021-09-18T19:08:55.418093Z",
     "iopub.status.busy": "2021-09-18T19:08:55.417521Z",
     "iopub.status.idle": "2021-09-18T19:08:56.488994Z",
     "shell.execute_reply": "2021-09-18T19:08:56.488395Z"
    }
   },
   "outputs": [],
   "source": [
    "import json, yaml, requests\r\n",
    "from datetime import datetime\r\n",
    "from dateutil import tz\r\n",
    "import pandas as pd\r\n",
    "from PIL import Image\r\n",
    "from io import BytesIO\r\n",
    "import matplotlib.pyplot as plt\r\n",
    "import seaborn\r\n",
    "\r\n",
    "CONFIG_PATH = \"../config/config.yaml\""
   ]
  },
  {
   "cell_type": "code",
   "execution_count": 2,
   "metadata": {
    "execution": {
     "iopub.execute_input": "2021-09-18T19:08:56.496079Z",
     "iopub.status.busy": "2021-09-18T19:08:56.493221Z",
     "iopub.status.idle": "2021-09-18T19:08:56.498525Z",
     "shell.execute_reply": "2021-09-18T19:08:56.498157Z"
    }
   },
   "outputs": [],
   "source": [
    "with open('../newest_ts', 'r') as f:\r\n",
    "    newest_ts = f.read()\r\n",
    "\r\n",
    "data_path = f\"../data/data_{newest_ts}.json\"\r\n",
    "with open(data_path, 'r') as f:\r\n",
    "    data = json.load(f)\r\n",
    "\r\n",
    "with open(CONFIG_PATH, \"r\") as stream:\r\n",
    "    config = yaml.safe_load(stream)\r\n",
    "\r\n",
    "TIME_ZONE = config['time_zone']\r\n",
    "DATETIME_FORMAT = config['dt_format']"
   ]
  },
  {
   "cell_type": "code",
   "execution_count": 3,
   "metadata": {
    "execution": {
     "iopub.execute_input": "2021-09-18T19:08:56.503629Z",
     "iopub.status.busy": "2021-09-18T19:08:56.502171Z",
     "iopub.status.idle": "2021-09-18T19:08:56.506278Z",
     "shell.execute_reply": "2021-09-18T19:08:56.506645Z"
    }
   },
   "outputs": [
    {
     "name": "stdout",
     "output_type": "stream",
     "text": [
      "Recent query happens at 2021-09-19 03:08:52 (CST).\n"
     ]
    }
   ],
   "source": [
    "def ts2dt(ts, format=DATETIME_FORMAT):\r\n",
    "    dt = (datetime.utcfromtimestamp(int(ts))\r\n",
    "                    .replace(tzinfo=tz.tzutc())\r\n",
    "                    # .astimezone(tz.tzlocal())\r\n",
    "                    .astimezone(tz.gettz(TIME_ZONE)))\r\n",
    "    return dt.strftime(format), dt\r\n",
    "\r\n",
    "_, newest_dt = ts2dt(newest_ts)\r\n",
    "print(f\"Recent query happens at {newest_dt.strftime(DATETIME_FORMAT)} ({newest_dt.tzname()}).\")"
   ]
  },
  {
   "cell_type": "code",
   "execution_count": 4,
   "metadata": {
    "execution": {
     "iopub.execute_input": "2021-09-18T19:08:56.511165Z",
     "iopub.status.busy": "2021-09-18T19:08:56.510198Z",
     "iopub.status.idle": "2021-09-18T19:08:56.511677Z",
     "shell.execute_reply": "2021-09-18T19:08:56.512035Z"
    }
   },
   "outputs": [],
   "source": [
    "def degrees_to_cardinal(d):\r\n",
    "  dirs = ['N', 'NNE', 'NE', 'ENE', 'E', 'ESE', 'SE', 'SSE', 'S', 'SSW', 'SW', 'WSW', 'W', 'WNW', 'NW', 'NNW']\r\n",
    "  ix = int(round(d / (360. / len(dirs))))\r\n",
    "  return dirs[ix % len(dirs)]"
   ]
  },
  {
   "cell_type": "code",
   "execution_count": 5,
   "metadata": {
    "execution": {
     "iopub.execute_input": "2021-09-18T19:08:56.515707Z",
     "iopub.status.busy": "2021-09-18T19:08:56.514736Z",
     "iopub.status.idle": "2021-09-18T19:08:56.516218Z",
     "shell.execute_reply": "2021-09-18T19:08:56.516584Z"
    }
   },
   "outputs": [],
   "source": [
    "# data.keys()"
   ]
  },
  {
   "cell_type": "code",
   "execution_count": 6,
   "metadata": {
    "execution": {
     "iopub.execute_input": "2021-09-18T19:08:56.519999Z",
     "iopub.status.busy": "2021-09-18T19:08:56.519023Z",
     "iopub.status.idle": "2021-09-18T19:08:56.520505Z",
     "shell.execute_reply": "2021-09-18T19:08:56.520861Z"
    }
   },
   "outputs": [],
   "source": [
    "# data['current']"
   ]
  },
  {
   "cell_type": "code",
   "execution_count": 7,
   "metadata": {
    "execution": {
     "iopub.execute_input": "2021-09-18T19:08:56.536794Z",
     "iopub.status.busy": "2021-09-18T19:08:56.536335Z",
     "iopub.status.idle": "2021-09-18T19:08:56.917785Z",
     "shell.execute_reply": "2021-09-18T19:08:56.918219Z"
    }
   },
   "outputs": [
    {
     "data": {
      "image/png": "[encoded data removed]",
      "text/plain": [
       "<Figure size 216x216 with 1 Axes>"
      ]
     },
     "metadata": {
      "needs_background": "light"
     },
     "output_type": "display_data"
    },
    {
     "name": "stdout",
     "output_type": "stream",
     "text": [
      "Today, sun rises at 06:10 and sets at 18:22.\n",
      "Currently, the weather is Rain (light rain).\n",
      "The temperature is 29.31°C and it feels like 36.31°C.\n",
      "The UV index is 0, humidity is 84%.\n",
      "The pressure is 1011 hPa, percentage of cloud cover is 77%\n",
      "The wind comes from E direction with a speed 3.64 m/s.\n"
     ]
    }
   ],
   "source": [
    "current = data['current']\r\n",
    "\r\n",
    "fig, ax = plt.subplots(figsize=(3, 3))\r\n",
    "icon = requests.get(f\"http://openweathermap.org/img/wn/{current['weather'][0]['icon']}@2x.png\")\r\n",
    "im = Image.open(BytesIO(icon.content))\r\n",
    "plt.imshow(im)\r\n",
    "ax.set_axis_off()\r\n",
    "plt.show()\r\n",
    "\r\n",
    "print(f\"Today, sun rises at {ts2dt(current['sunrise'], '%H:%M')[0]} \\\r\n",
    "and sets at {ts2dt(current['sunset'], '%H:%M')[0]}.\\n\\\r\n",
    "Currently, the weather is {current['weather'][0]['main']} ({current['weather'][0]['description']}).\\n\\\r\n",
    "The temperature is {current['temp']}°C and it feels like {current['feels_like']}°C.\\n\\\r\n",
    "The UV index is {current['uvi']}, humidity is {current['humidity']}%.\\n\\\r\n",
    "The pressure is {current['pressure']} hPa, percentage of cloud cover is {current['clouds']}%\\n\\\r\n",
    "The wind comes from {degrees_to_cardinal(current['wind_deg'])} direction with a speed {current['wind_speed']} m/s.\")"
   ]
  },
  {
   "cell_type": "code",
   "execution_count": 8,
   "metadata": {
    "execution": {
     "iopub.execute_input": "2021-09-18T19:08:56.920334Z",
     "iopub.status.busy": "2021-09-18T19:08:56.919892Z",
     "iopub.status.idle": "2021-09-18T19:08:56.925222Z",
     "shell.execute_reply": "2021-09-18T19:08:56.925650Z"
    }
   },
   "outputs": [],
   "source": [
    "df_hourly = pd.DataFrame(data['hourly'])\r\n",
    "df_daily = pd.DataFrame(data['daily'])"
   ]
  },
  {
   "cell_type": "code",
   "execution_count": 9,
   "metadata": {
    "execution": {
     "iopub.execute_input": "2021-09-18T19:08:56.927740Z",
     "iopub.status.busy": "2021-09-18T19:08:56.927203Z",
     "iopub.status.idle": "2021-09-18T19:08:57.157234Z",
     "shell.execute_reply": "2021-09-18T19:08:57.156778Z"
    }
   },
   "outputs": [
    {
     "data": {
      "image/png": "[encoded data removed]",
      "text/plain": [
       "<Figure size 864x432 with 1 Axes>"
      ]
     },
     "metadata": {
      "needs_background": "light"
     },
     "output_type": "display_data"
    }
   ],
   "source": [
    "fig, ax = plt.subplots(figsize=(12, 6))\r\n",
    "plt.plot(df_hourly.temp, '.-', label='Temperature')\r\n",
    "plt.plot(df_hourly.feels_like, '.-', label='Feels Like')\r\n",
    "ax.set(title='Temperature in future 48 hours', xlabel='Time', ylabel='Temperature')\r\n",
    "ax.set_xticks(list(range(0, len(df_hourly), 2)))\r\n",
    "ax.set_xticklabels([ts2dt(ts, '%m-%d %H:%M')[0] for i, ts in enumerate(df_hourly.dt) if i%2==0], \r\n",
    "                   rotation=45, ha=\"right\")\r\n",
    "ax.locator_params(nbins=15, axis='y')\r\n",
    "plt.legend()\r\n",
    "plt.show()"
   ]
  },
  {
   "cell_type": "code",
   "execution_count": 10,
   "metadata": {
    "execution": {
     "iopub.execute_input": "2021-09-18T19:08:57.161423Z",
     "iopub.status.busy": "2021-09-18T19:08:57.160965Z",
     "iopub.status.idle": "2021-09-18T19:08:57.178346Z",
     "shell.execute_reply": "2021-09-18T19:08:57.177972Z"
    }
   },
   "outputs": [
    {
     "data": {
      "text/html": [
       "<div>\n",
       "<style scoped>\n",
       "    .dataframe tbody tr th:only-of-type {\n",
       "        vertical-align: middle;\n",
       "    }\n",
       "\n",
       "    .dataframe tbody tr th {\n",
       "        vertical-align: top;\n",
       "    }\n",
       "\n",
       "    .dataframe thead th {\n",
       "        text-align: right;\n",
       "    }\n",
       "</style>\n",
       "<table border=\"1\" class=\"dataframe\">\n",
       "  <thead>\n",
       "    <tr style=\"text-align: right;\">\n",
       "      <th></th>\n",
       "      <th>dt</th>\n",
       "      <th>temp</th>\n",
       "      <th>feels_like</th>\n",
       "      <th>pressure</th>\n",
       "      <th>humidity</th>\n",
       "      <th>dew_point</th>\n",
       "      <th>uvi</th>\n",
       "      <th>clouds</th>\n",
       "      <th>visibility</th>\n",
       "      <th>wind_speed</th>\n",
       "      <th>wind_deg</th>\n",
       "      <th>wind_gust</th>\n",
       "      <th>weather</th>\n",
       "      <th>pop</th>\n",
       "      <th>rain</th>\n",
       "    </tr>\n",
       "  </thead>\n",
       "  <tbody>\n",
       "    <tr>\n",
       "      <th>0</th>\n",
       "      <td>1631991600</td>\n",
       "      <td>29.31</td>\n",
       "      <td>36.31</td>\n",
       "      <td>1011</td>\n",
       "      <td>84</td>\n",
       "      <td>26.32</td>\n",
       "      <td>0.00</td>\n",
       "      <td>77</td>\n",
       "      <td>10000</td>\n",
       "      <td>3.64</td>\n",
       "      <td>101</td>\n",
       "      <td>5.46</td>\n",
       "      <td>[{'id': 500, 'main': 'Rain', 'description': 'l...</td>\n",
       "      <td>0.63</td>\n",
       "      <td>{'1h': 0.83}</td>\n",
       "    </tr>\n",
       "    <tr>\n",
       "      <th>1</th>\n",
       "      <td>1631995200</td>\n",
       "      <td>29.00</td>\n",
       "      <td>35.41</td>\n",
       "      <td>1011</td>\n",
       "      <td>83</td>\n",
       "      <td>25.82</td>\n",
       "      <td>0.00</td>\n",
       "      <td>77</td>\n",
       "      <td>10000</td>\n",
       "      <td>3.80</td>\n",
       "      <td>92</td>\n",
       "      <td>5.65</td>\n",
       "      <td>[{'id': 803, 'main': 'Clouds', 'description': ...</td>\n",
       "      <td>0.63</td>\n",
       "      <td>NaN</td>\n",
       "    </tr>\n",
       "    <tr>\n",
       "      <th>2</th>\n",
       "      <td>1631998800</td>\n",
       "      <td>28.78</td>\n",
       "      <td>34.55</td>\n",
       "      <td>1011</td>\n",
       "      <td>82</td>\n",
       "      <td>25.40</td>\n",
       "      <td>0.00</td>\n",
       "      <td>78</td>\n",
       "      <td>10000</td>\n",
       "      <td>4.10</td>\n",
       "      <td>87</td>\n",
       "      <td>5.72</td>\n",
       "      <td>[{'id': 501, 'main': 'Rain', 'description': 'm...</td>\n",
       "      <td>0.63</td>\n",
       "      <td>{'1h': 1.15}</td>\n",
       "    </tr>\n",
       "    <tr>\n",
       "      <th>3</th>\n",
       "      <td>1632002400</td>\n",
       "      <td>28.48</td>\n",
       "      <td>33.52</td>\n",
       "      <td>1011</td>\n",
       "      <td>81</td>\n",
       "      <td>24.90</td>\n",
       "      <td>0.00</td>\n",
       "      <td>81</td>\n",
       "      <td>10000</td>\n",
       "      <td>4.35</td>\n",
       "      <td>86</td>\n",
       "      <td>5.63</td>\n",
       "      <td>[{'id': 803, 'main': 'Clouds', 'description': ...</td>\n",
       "      <td>0.63</td>\n",
       "      <td>NaN</td>\n",
       "    </tr>\n",
       "    <tr>\n",
       "      <th>4</th>\n",
       "      <td>1632006000</td>\n",
       "      <td>28.35</td>\n",
       "      <td>32.99</td>\n",
       "      <td>1011</td>\n",
       "      <td>80</td>\n",
       "      <td>24.57</td>\n",
       "      <td>0.21</td>\n",
       "      <td>85</td>\n",
       "      <td>10000</td>\n",
       "      <td>4.48</td>\n",
       "      <td>82</td>\n",
       "      <td>5.70</td>\n",
       "      <td>[{'id': 804, 'main': 'Clouds', 'description': ...</td>\n",
       "      <td>0.63</td>\n",
       "      <td>NaN</td>\n",
       "    </tr>\n",
       "  </tbody>\n",
       "</table>\n",
       "</div>"
      ],
      "text/plain": [
       "           dt   temp  feels_like  pressure  humidity  dew_point   uvi  clouds  \\\n",
       "0  1631991600  29.31       36.31      1011        84      26.32  0.00      77   \n",
       "1  1631995200  29.00       35.41      1011        83      25.82  0.00      77   \n",
       "2  1631998800  28.78       34.55      1011        82      25.40  0.00      78   \n",
       "3  1632002400  28.48       33.52      1011        81      24.90  0.00      81   \n",
       "4  1632006000  28.35       32.99      1011        80      24.57  0.21      85   \n",
       "\n",
       "   visibility  wind_speed  wind_deg  wind_gust  \\\n",
       "0       10000        3.64       101       5.46   \n",
       "1       10000        3.80        92       5.65   \n",
       "2       10000        4.10        87       5.72   \n",
       "3       10000        4.35        86       5.63   \n",
       "4       10000        4.48        82       5.70   \n",
       "\n",
       "                                             weather   pop          rain  \n",
       "0  [{'id': 500, 'main': 'Rain', 'description': 'l...  0.63  {'1h': 0.83}  \n",
       "1  [{'id': 803, 'main': 'Clouds', 'description': ...  0.63           NaN  \n",
       "2  [{'id': 501, 'main': 'Rain', 'description': 'm...  0.63  {'1h': 1.15}  \n",
       "3  [{'id': 803, 'main': 'Clouds', 'description': ...  0.63           NaN  \n",
       "4  [{'id': 804, 'main': 'Clouds', 'description': ...  0.63           NaN  "
      ]
     },
     "execution_count": 10,
     "metadata": {},
     "output_type": "execute_result"
    }
   ],
   "source": [
    "df_hourly.head()"
   ]
  },
  {
   "cell_type": "code",
   "execution_count": null,
   "metadata": {},
   "outputs": [],
   "source": []
  }
 ],
 "metadata": {
  "interpreter": {
   "hash": "c1b4cfe941b6d2466ad1fb5979e97da9cda8801728c8091b097ab734208fc00c"
  },
  "kernelspec": {
   "display_name": "Python 3.8.3 64-bit ('base': conda)",
   "name": "python3"
  },
  "language_info": {
   "codemirror_mode": {
    "name": "ipython",
    "version": 3
   },
   "file_extension": ".py",
   "mimetype": "text/x-python",
   "name": "python",
   "nbconvert_exporter": "python",
   "pygments_lexer": "ipython3",
   "version": "3.8.11"
  }
 },
 "nbformat": 4,
 "nbformat_minor": 2
}
