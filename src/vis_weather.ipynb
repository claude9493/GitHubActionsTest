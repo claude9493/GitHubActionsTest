{
 "cells": [
  {
   "cell_type": "code",
   "execution_count": 1,
   "metadata": {
    "execution": {
     "iopub.execute_input": "2021-09-16T09:11:36.694257Z",
     "iopub.status.busy": "2021-09-16T09:11:36.693646Z",
     "iopub.status.idle": "2021-09-16T09:11:38.761928Z",
     "shell.execute_reply": "2021-09-16T09:11:38.760989Z"
    }
   },
   "outputs": [],
   "source": [
    "import json, yaml, requests\r\n",
    "from datetime import datetime\r\n",
    "from dateutil import tz\r\n",
    "import pandas as pd\r\n",
    "from PIL import Image\r\n",
    "from io import BytesIO\r\n",
    "import matplotlib.pyplot as plt\r\n",
    "import seaborn\r\n",
    "\r\n",
    "CONFIG_PATH = \"../config/config.yaml\""
   ]
  },
  {
   "cell_type": "code",
   "execution_count": 2,
   "metadata": {
    "execution": {
     "iopub.execute_input": "2021-09-16T09:11:38.764911Z",
     "iopub.status.busy": "2021-09-16T09:11:38.764426Z",
     "iopub.status.idle": "2021-09-16T09:11:38.771938Z",
     "shell.execute_reply": "2021-09-16T09:11:38.771480Z"
    }
   },
   "outputs": [],
   "source": [
    "with open('../newest_ts', 'r') as f:\r\n",
    "    newest_ts = f.read()\r\n",
    "\r\n",
    "data_path = f\"../data/data_{newest_ts}.json\"\r\n",
    "with open(data_path, 'r') as f:\r\n",
    "    data = json.load(f)\r\n",
    "\r\n",
    "with open(CONFIG_PATH, \"r\") as stream:\r\n",
    "    config = yaml.safe_load(stream)\r\n",
    "\r\n",
    "TIME_ZONE = config['time_zone']\r\n",
    "DATETIME_FORMAT = config['dt_format']"
   ]
  },
  {
   "cell_type": "code",
   "execution_count": 3,
   "metadata": {
    "execution": {
     "iopub.execute_input": "2021-09-16T09:11:38.776319Z",
     "iopub.status.busy": "2021-09-16T09:11:38.775800Z",
     "iopub.status.idle": "2021-09-16T09:11:38.811890Z",
     "shell.execute_reply": "2021-09-16T09:11:38.811415Z"
    }
   },
   "outputs": [
    {
     "name": "stdout",
     "output_type": "stream",
     "text": [
      "Recent query happens at 2021-09-16 17:11:31 (CST).\n"
     ]
    }
   ],
   "source": [
    "def ts2dt(ts, format=DATETIME_FORMAT):\r\n",
    "    dt = (datetime.utcfromtimestamp(int(ts))\r\n",
    "                    .replace(tzinfo=tz.tzutc())\r\n",
    "                    # .astimezone(tz.tzlocal())\r\n",
    "                    .astimezone(tz.gettz(TIME_ZONE)))\r\n",
    "    return dt.strftime(format), dt\r\n",
    "\r\n",
    "_, newest_dt = ts2dt(newest_ts)\r\n",
    "print(f\"Recent query happens at {newest_dt.strftime(DATETIME_FORMAT)} ({newest_dt.tzname()}).\")"
   ]
  },
  {
   "cell_type": "code",
   "execution_count": 4,
   "metadata": {
    "execution": {
     "iopub.execute_input": "2021-09-16T09:11:38.817000Z",
     "iopub.status.busy": "2021-09-16T09:11:38.815923Z",
     "iopub.status.idle": "2021-09-16T09:11:38.817514Z",
     "shell.execute_reply": "2021-09-16T09:11:38.817873Z"
    }
   },
   "outputs": [],
   "source": [
    "def degrees_to_cardinal(d):\r\n",
    "  dirs = ['N', 'NNE', 'NE', 'ENE', 'E', 'ESE', 'SE', 'SSE', 'S', 'SSW', 'SW', 'WSW', 'W', 'WNW', 'NW', 'NNW']\r\n",
    "  ix = int(round(d / (360. / len(dirs))))\r\n",
    "  return dirs[ix % len(dirs)]"
   ]
  },
  {
   "cell_type": "code",
   "execution_count": 5,
   "metadata": {
    "execution": {
     "iopub.execute_input": "2021-09-16T09:11:38.821737Z",
     "iopub.status.busy": "2021-09-16T09:11:38.820704Z",
     "iopub.status.idle": "2021-09-16T09:11:38.822845Z",
     "shell.execute_reply": "2021-09-16T09:11:38.823230Z"
    }
   },
   "outputs": [],
   "source": [
    "# data.keys()"
   ]
  },
  {
   "cell_type": "code",
   "execution_count": 6,
   "metadata": {
    "execution": {
     "iopub.execute_input": "2021-09-16T09:11:38.826553Z",
     "iopub.status.busy": "2021-09-16T09:11:38.825732Z",
     "iopub.status.idle": "2021-09-16T09:11:38.827781Z",
     "shell.execute_reply": "2021-09-16T09:11:38.827389Z"
    }
   },
   "outputs": [],
   "source": [
    "# data['current']"
   ]
  },
  {
   "cell_type": "code",
   "execution_count": 7,
   "metadata": {
    "execution": {
     "iopub.execute_input": "2021-09-16T09:11:38.844389Z",
     "iopub.status.busy": "2021-09-16T09:11:38.843914Z",
     "iopub.status.idle": "2021-09-16T09:11:39.169965Z",
     "shell.execute_reply": "2021-09-16T09:11:39.170627Z"
    }
   },
   "outputs": [
    {
     "data": {
      "image/png": "[encoded data removed]",
      "text/plain": [
       "<Figure size 216x216 with 1 Axes>"
      ]
     },
     "metadata": {
      "needs_background": "light"
     },
     "output_type": "display_data"
    },
    {
     "name": "stdout",
     "output_type": "stream",
     "text": [
      "Today, sun rises at 06:09 and sets at 18:26.\n",
      "Currently, the weather is Rain (light rain).\n",
      "The temperature is 30.98°C and it feels like 37.98°C.\n",
      "The UV index is 0.92, humidity is 74%.\n",
      "The pressure is 1007 hPa, percentage of cloud cover is 34%\n",
      "The wind comes from SW direction with a speed 4.06 m/s.\n"
     ]
    }
   ],
   "source": [
    "current = data['current']\r\n",
    "\r\n",
    "fig, ax = plt.subplots(figsize=(3, 3))\r\n",
    "icon = requests.get(f\"http://openweathermap.org/img/wn/{current['weather'][0]['icon']}@2x.png\")\r\n",
    "im = Image.open(BytesIO(icon.content))\r\n",
    "plt.imshow(im)\r\n",
    "ax.set_axis_off()\r\n",
    "plt.show()\r\n",
    "\r\n",
    "print(f\"Today, sun rises at {ts2dt(current['sunrise'], '%H:%M')[0]} \\\r\n",
    "and sets at {ts2dt(current['sunset'], '%H:%M')[0]}.\\n\\\r\n",
    "Currently, the weather is {current['weather'][0]['main']} ({current['weather'][0]['description']}).\\n\\\r\n",
    "The temperature is {current['temp']}°C and it feels like {current['feels_like']}°C.\\n\\\r\n",
    "The UV index is {current['uvi']}, humidity is {current['humidity']}%.\\n\\\r\n",
    "The pressure is {current['pressure']} hPa, percentage of cloud cover is {current['clouds']}%\\n\\\r\n",
    "The wind comes from {degrees_to_cardinal(current['wind_deg'])} direction with a speed {current['wind_speed']} m/s.\")"
   ]
  },
  {
   "cell_type": "code",
   "execution_count": 8,
   "metadata": {
    "execution": {
     "iopub.execute_input": "2021-09-16T09:11:39.173661Z",
     "iopub.status.busy": "2021-09-16T09:11:39.172773Z",
     "iopub.status.idle": "2021-09-16T09:11:39.179314Z",
     "shell.execute_reply": "2021-09-16T09:11:39.179929Z"
    }
   },
   "outputs": [],
   "source": [
    "df_hourly = pd.DataFrame(data['hourly'])\r\n",
    "df_daily = pd.DataFrame(data['daily'])"
   ]
  },
  {
   "cell_type": "code",
   "execution_count": 9,
   "metadata": {
    "execution": {
     "iopub.execute_input": "2021-09-16T09:11:39.182814Z",
     "iopub.status.busy": "2021-09-16T09:11:39.181894Z",
     "iopub.status.idle": "2021-09-16T09:11:39.420047Z",
     "shell.execute_reply": "2021-09-16T09:11:39.420471Z"
    }
   },
   "outputs": [
    {
     "data": {
      "image/png": "[encoded data removed]",
      "text/plain": [
       "<Figure size 864x432 with 1 Axes>"
      ]
     },
     "metadata": {
      "needs_background": "light"
     },
     "output_type": "display_data"
    }
   ],
   "source": [
    "fig, ax = plt.subplots(figsize=(12, 6))\r\n",
    "plt.plot(df_hourly.temp, '.-', label='Temperature')\r\n",
    "plt.plot(df_hourly.feels_like, '.-', label='Feels Like')\r\n",
    "ax.set(title='Temperature in future 48 hours', xlabel='Time', ylabel='Temperature')\r\n",
    "ax.set_xticks(list(range(0, len(df_hourly), 2)))\r\n",
    "ax.set_xticklabels([ts2dt(ts, '%m-%d %H:%M')[0] for i, ts in enumerate(df_hourly.dt) if i%2==0], \r\n",
    "                   rotation=45, ha=\"right\")\r\n",
    "ax.locator_params(nbins=15, axis='y')\r\n",
    "plt.legend()\r\n",
    "plt.show()"
   ]
  },
  {
   "cell_type": "code",
   "execution_count": 10,
   "metadata": {
    "execution": {
     "iopub.execute_input": "2021-09-16T09:11:39.431175Z",
     "iopub.status.busy": "2021-09-16T09:11:39.424187Z",
     "iopub.status.idle": "2021-09-16T09:11:39.440548Z",
     "shell.execute_reply": "2021-09-16T09:11:39.440160Z"
    }
   },
   "outputs": [
    {
     "data": {
      "text/html": [
       "<div>\n",
       "<style scoped>\n",
       "    .dataframe tbody tr th:only-of-type {\n",
       "        vertical-align: middle;\n",
       "    }\n",
       "\n",
       "    .dataframe tbody tr th {\n",
       "        vertical-align: top;\n",
       "    }\n",
       "\n",
       "    .dataframe thead th {\n",
       "        text-align: right;\n",
       "    }\n",
       "</style>\n",
       "<table border=\"1\" class=\"dataframe\">\n",
       "  <thead>\n",
       "    <tr style=\"text-align: right;\">\n",
       "      <th></th>\n",
       "      <th>dt</th>\n",
       "      <th>temp</th>\n",
       "      <th>feels_like</th>\n",
       "      <th>pressure</th>\n",
       "      <th>humidity</th>\n",
       "      <th>dew_point</th>\n",
       "      <th>uvi</th>\n",
       "      <th>clouds</th>\n",
       "      <th>visibility</th>\n",
       "      <th>wind_speed</th>\n",
       "      <th>wind_deg</th>\n",
       "      <th>wind_gust</th>\n",
       "      <th>weather</th>\n",
       "      <th>pop</th>\n",
       "      <th>rain</th>\n",
       "    </tr>\n",
       "  </thead>\n",
       "  <tbody>\n",
       "    <tr>\n",
       "      <th>0</th>\n",
       "      <td>1631782800</td>\n",
       "      <td>30.98</td>\n",
       "      <td>37.98</td>\n",
       "      <td>1007</td>\n",
       "      <td>74</td>\n",
       "      <td>25.80</td>\n",
       "      <td>0.92</td>\n",
       "      <td>34</td>\n",
       "      <td>10000</td>\n",
       "      <td>4.06</td>\n",
       "      <td>222</td>\n",
       "      <td>4.07</td>\n",
       "      <td>[{'id': 802, 'main': 'Clouds', 'description': ...</td>\n",
       "      <td>0.00</td>\n",
       "      <td>NaN</td>\n",
       "    </tr>\n",
       "    <tr>\n",
       "      <th>1</th>\n",
       "      <td>1631786400</td>\n",
       "      <td>30.73</td>\n",
       "      <td>37.73</td>\n",
       "      <td>1007</td>\n",
       "      <td>75</td>\n",
       "      <td>25.78</td>\n",
       "      <td>0.12</td>\n",
       "      <td>34</td>\n",
       "      <td>10000</td>\n",
       "      <td>3.81</td>\n",
       "      <td>225</td>\n",
       "      <td>4.44</td>\n",
       "      <td>[{'id': 802, 'main': 'Clouds', 'description': ...</td>\n",
       "      <td>0.12</td>\n",
       "      <td>NaN</td>\n",
       "    </tr>\n",
       "    <tr>\n",
       "      <th>2</th>\n",
       "      <td>1631790000</td>\n",
       "      <td>30.28</td>\n",
       "      <td>37.28</td>\n",
       "      <td>1007</td>\n",
       "      <td>76</td>\n",
       "      <td>25.57</td>\n",
       "      <td>0.00</td>\n",
       "      <td>36</td>\n",
       "      <td>10000</td>\n",
       "      <td>3.20</td>\n",
       "      <td>231</td>\n",
       "      <td>3.53</td>\n",
       "      <td>[{'id': 802, 'main': 'Clouds', 'description': ...</td>\n",
       "      <td>0.16</td>\n",
       "      <td>NaN</td>\n",
       "    </tr>\n",
       "    <tr>\n",
       "      <th>3</th>\n",
       "      <td>1631793600</td>\n",
       "      <td>29.83</td>\n",
       "      <td>36.09</td>\n",
       "      <td>1008</td>\n",
       "      <td>76</td>\n",
       "      <td>25.14</td>\n",
       "      <td>0.00</td>\n",
       "      <td>40</td>\n",
       "      <td>10000</td>\n",
       "      <td>2.87</td>\n",
       "      <td>242</td>\n",
       "      <td>3.22</td>\n",
       "      <td>[{'id': 802, 'main': 'Clouds', 'description': ...</td>\n",
       "      <td>0.12</td>\n",
       "      <td>NaN</td>\n",
       "    </tr>\n",
       "    <tr>\n",
       "      <th>4</th>\n",
       "      <td>1631797200</td>\n",
       "      <td>29.36</td>\n",
       "      <td>35.29</td>\n",
       "      <td>1008</td>\n",
       "      <td>78</td>\n",
       "      <td>25.12</td>\n",
       "      <td>0.00</td>\n",
       "      <td>44</td>\n",
       "      <td>10000</td>\n",
       "      <td>3.34</td>\n",
       "      <td>251</td>\n",
       "      <td>3.89</td>\n",
       "      <td>[{'id': 500, 'main': 'Rain', 'description': 'l...</td>\n",
       "      <td>0.54</td>\n",
       "      <td>{'1h': 0.1}</td>\n",
       "    </tr>\n",
       "  </tbody>\n",
       "</table>\n",
       "</div>"
      ],
      "text/plain": [
       "           dt   temp  feels_like  pressure  humidity  dew_point   uvi  clouds  \\\n",
       "0  1631782800  30.98       37.98      1007        74      25.80  0.92      34   \n",
       "1  1631786400  30.73       37.73      1007        75      25.78  0.12      34   \n",
       "2  1631790000  30.28       37.28      1007        76      25.57  0.00      36   \n",
       "3  1631793600  29.83       36.09      1008        76      25.14  0.00      40   \n",
       "4  1631797200  29.36       35.29      1008        78      25.12  0.00      44   \n",
       "\n",
       "   visibility  wind_speed  wind_deg  wind_gust  \\\n",
       "0       10000        4.06       222       4.07   \n",
       "1       10000        3.81       225       4.44   \n",
       "2       10000        3.20       231       3.53   \n",
       "3       10000        2.87       242       3.22   \n",
       "4       10000        3.34       251       3.89   \n",
       "\n",
       "                                             weather   pop         rain  \n",
       "0  [{'id': 802, 'main': 'Clouds', 'description': ...  0.00          NaN  \n",
       "1  [{'id': 802, 'main': 'Clouds', 'description': ...  0.12          NaN  \n",
       "2  [{'id': 802, 'main': 'Clouds', 'description': ...  0.16          NaN  \n",
       "3  [{'id': 802, 'main': 'Clouds', 'description': ...  0.12          NaN  \n",
       "4  [{'id': 500, 'main': 'Rain', 'description': 'l...  0.54  {'1h': 0.1}  "
      ]
     },
     "execution_count": 10,
     "metadata": {},
     "output_type": "execute_result"
    }
   ],
   "source": [
    "df_hourly.head()"
   ]
  },
  {
   "cell_type": "code",
   "execution_count": null,
   "metadata": {},
   "outputs": [],
   "source": []
  }
 ],
 "metadata": {
  "interpreter": {
   "hash": "c1b4cfe941b6d2466ad1fb5979e97da9cda8801728c8091b097ab734208fc00c"
  },
  "kernelspec": {
   "display_name": "Python 3.8.3 64-bit ('base': conda)",
   "name": "python3"
  },
  "language_info": {
   "codemirror_mode": {
    "name": "ipython",
    "version": 3
   },
   "file_extension": ".py",
   "mimetype": "text/x-python",
   "name": "python",
   "nbconvert_exporter": "python",
   "pygments_lexer": "ipython3",
   "version": "3.8.11"
  }
 },
 "nbformat": 4,
 "nbformat_minor": 2
}
