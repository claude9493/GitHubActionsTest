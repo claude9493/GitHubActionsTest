{
 "cells": [
  {
   "cell_type": "code",
   "execution_count": 1,
   "metadata": {
    "execution": {
     "iopub.execute_input": "2021-09-17T18:13:20.750782Z",
     "iopub.status.busy": "2021-09-17T18:13:20.749939Z",
     "iopub.status.idle": "2021-09-17T18:13:24.293260Z",
     "shell.execute_reply": "2021-09-17T18:13:24.292639Z"
    }
   },
   "outputs": [],
   "source": [
    "import json, yaml, requests\r\n",
    "from datetime import datetime\r\n",
    "from dateutil import tz\r\n",
    "import pandas as pd\r\n",
    "from PIL import Image\r\n",
    "from io import BytesIO\r\n",
    "import matplotlib.pyplot as plt\r\n",
    "import seaborn\r\n",
    "\r\n",
    "CONFIG_PATH = \"../config/config.yaml\""
   ]
  },
  {
   "cell_type": "code",
   "execution_count": 2,
   "metadata": {
    "execution": {
     "iopub.execute_input": "2021-09-17T18:13:24.299519Z",
     "iopub.status.busy": "2021-09-17T18:13:24.298208Z",
     "iopub.status.idle": "2021-09-17T18:13:24.305521Z",
     "shell.execute_reply": "2021-09-17T18:13:24.304299Z"
    }
   },
   "outputs": [],
   "source": [
    "with open('../newest_ts', 'r') as f:\r\n",
    "    newest_ts = f.read()\r\n",
    "\r\n",
    "data_path = f\"../data/data_{newest_ts}.json\"\r\n",
    "with open(data_path, 'r') as f:\r\n",
    "    data = json.load(f)\r\n",
    "\r\n",
    "with open(CONFIG_PATH, \"r\") as stream:\r\n",
    "    config = yaml.safe_load(stream)\r\n",
    "\r\n",
    "TIME_ZONE = config['time_zone']\r\n",
    "DATETIME_FORMAT = config['dt_format']"
   ]
  },
  {
   "cell_type": "code",
   "execution_count": 3,
   "metadata": {
    "execution": {
     "iopub.execute_input": "2021-09-17T18:13:24.311029Z",
     "iopub.status.busy": "2021-09-17T18:13:24.310453Z",
     "iopub.status.idle": "2021-09-17T18:13:24.321729Z",
     "shell.execute_reply": "2021-09-17T18:13:24.322215Z"
    }
   },
   "outputs": [
    {
     "name": "stdout",
     "output_type": "stream",
     "text": [
      "Recent query happens at 2021-09-18 02:13:16 (CST).\n"
     ]
    }
   ],
   "source": [
    "def ts2dt(ts, format=DATETIME_FORMAT):\r\n",
    "    dt = (datetime.utcfromtimestamp(int(ts))\r\n",
    "                    .replace(tzinfo=tz.tzutc())\r\n",
    "                    # .astimezone(tz.tzlocal())\r\n",
    "                    .astimezone(tz.gettz(TIME_ZONE)))\r\n",
    "    return dt.strftime(format), dt\r\n",
    "\r\n",
    "_, newest_dt = ts2dt(newest_ts)\r\n",
    "print(f\"Recent query happens at {newest_dt.strftime(DATETIME_FORMAT)} ({newest_dt.tzname()}).\")"
   ]
  },
  {
   "cell_type": "code",
   "execution_count": 4,
   "metadata": {
    "execution": {
     "iopub.execute_input": "2021-09-17T18:13:24.328394Z",
     "iopub.status.busy": "2021-09-17T18:13:24.326799Z",
     "iopub.status.idle": "2021-09-17T18:13:24.329070Z",
     "shell.execute_reply": "2021-09-17T18:13:24.329551Z"
    }
   },
   "outputs": [],
   "source": [
    "def degrees_to_cardinal(d):\r\n",
    "  dirs = ['N', 'NNE', 'NE', 'ENE', 'E', 'ESE', 'SE', 'SSE', 'S', 'SSW', 'SW', 'WSW', 'W', 'WNW', 'NW', 'NNW']\r\n",
    "  ix = int(round(d / (360. / len(dirs))))\r\n",
    "  return dirs[ix % len(dirs)]"
   ]
  },
  {
   "cell_type": "code",
   "execution_count": 5,
   "metadata": {
    "execution": {
     "iopub.execute_input": "2021-09-17T18:13:24.335318Z",
     "iopub.status.busy": "2021-09-17T18:13:24.333066Z",
     "iopub.status.idle": "2021-09-17T18:13:24.336068Z",
     "shell.execute_reply": "2021-09-17T18:13:24.336554Z"
    }
   },
   "outputs": [],
   "source": [
    "# data.keys()"
   ]
  },
  {
   "cell_type": "code",
   "execution_count": 6,
   "metadata": {
    "execution": {
     "iopub.execute_input": "2021-09-17T18:13:24.341907Z",
     "iopub.status.busy": "2021-09-17T18:13:24.340447Z",
     "iopub.status.idle": "2021-09-17T18:13:24.342561Z",
     "shell.execute_reply": "2021-09-17T18:13:24.343049Z"
    }
   },
   "outputs": [],
   "source": [
    "# data['current']"
   ]
  },
  {
   "cell_type": "code",
   "execution_count": 7,
   "metadata": {
    "execution": {
     "iopub.execute_input": "2021-09-17T18:13:24.376974Z",
     "iopub.status.busy": "2021-09-17T18:13:24.376282Z",
     "iopub.status.idle": "2021-09-17T18:13:24.820326Z",
     "shell.execute_reply": "2021-09-17T18:13:24.821174Z"
    }
   },
   "outputs": [
    {
     "data": {
      "image/png": "[encoded data removed]",
      "text/plain": [
       "<Figure size 216x216 with 1 Axes>"
      ]
     },
     "metadata": {
      "needs_background": "light"
     },
     "output_type": "display_data"
    },
    {
     "name": "stdout",
     "output_type": "stream",
     "text": [
      "Today, sun rises at 06:10 and sets at 18:24.\n",
      "Currently, the weather is Rain (light rain).\n",
      "The temperature is 29.15°C and it feels like 36.15°C.\n",
      "The UV index is 0, humidity is 85%.\n",
      "The pressure is 1010 hPa, percentage of cloud cover is 1%\n",
      "The wind comes from E direction with a speed 3.22 m/s.\n"
     ]
    }
   ],
   "source": [
    "current = data['current']\r\n",
    "\r\n",
    "fig, ax = plt.subplots(figsize=(3, 3))\r\n",
    "icon = requests.get(f\"http://openweathermap.org/img/wn/{current['weather'][0]['icon']}@2x.png\")\r\n",
    "im = Image.open(BytesIO(icon.content))\r\n",
    "plt.imshow(im)\r\n",
    "ax.set_axis_off()\r\n",
    "plt.show()\r\n",
    "\r\n",
    "print(f\"Today, sun rises at {ts2dt(current['sunrise'], '%H:%M')[0]} \\\r\n",
    "and sets at {ts2dt(current['sunset'], '%H:%M')[0]}.\\n\\\r\n",
    "Currently, the weather is {current['weather'][0]['main']} ({current['weather'][0]['description']}).\\n\\\r\n",
    "The temperature is {current['temp']}°C and it feels like {current['feels_like']}°C.\\n\\\r\n",
    "The UV index is {current['uvi']}, humidity is {current['humidity']}%.\\n\\\r\n",
    "The pressure is {current['pressure']} hPa, percentage of cloud cover is {current['clouds']}%\\n\\\r\n",
    "The wind comes from {degrees_to_cardinal(current['wind_deg'])} direction with a speed {current['wind_speed']} m/s.\")"
   ]
  },
  {
   "cell_type": "code",
   "execution_count": 8,
   "metadata": {
    "execution": {
     "iopub.execute_input": "2021-09-17T18:13:24.829414Z",
     "iopub.status.busy": "2021-09-17T18:13:24.828806Z",
     "iopub.status.idle": "2021-09-17T18:13:24.833373Z",
     "shell.execute_reply": "2021-09-17T18:13:24.834086Z"
    }
   },
   "outputs": [],
   "source": [
    "df_hourly = pd.DataFrame(data['hourly'])\r\n",
    "df_daily = pd.DataFrame(data['daily'])"
   ]
  },
  {
   "cell_type": "code",
   "execution_count": 9,
   "metadata": {
    "execution": {
     "iopub.execute_input": "2021-09-17T18:13:24.862259Z",
     "iopub.status.busy": "2021-09-17T18:13:24.857899Z",
     "iopub.status.idle": "2021-09-17T18:13:25.208531Z",
     "shell.execute_reply": "2021-09-17T18:13:25.207892Z"
    }
   },
   "outputs": [
    {
     "data": {
      "image/png": "[encoded data removed]",
      "text/plain": [
       "<Figure size 864x432 with 1 Axes>"
      ]
     },
     "metadata": {
      "needs_background": "light"
     },
     "output_type": "display_data"
    }
   ],
   "source": [
    "fig, ax = plt.subplots(figsize=(12, 6))\r\n",
    "plt.plot(df_hourly.temp, '.-', label='Temperature')\r\n",
    "plt.plot(df_hourly.feels_like, '.-', label='Feels Like')\r\n",
    "ax.set(title='Temperature in future 48 hours', xlabel='Time', ylabel='Temperature')\r\n",
    "ax.set_xticks(list(range(0, len(df_hourly), 2)))\r\n",
    "ax.set_xticklabels([ts2dt(ts, '%m-%d %H:%M')[0] for i, ts in enumerate(df_hourly.dt) if i%2==0], \r\n",
    "                   rotation=45, ha=\"right\")\r\n",
    "ax.locator_params(nbins=15, axis='y')\r\n",
    "plt.legend()\r\n",
    "plt.show()"
   ]
  },
  {
   "cell_type": "code",
   "execution_count": 10,
   "metadata": {
    "execution": {
     "iopub.execute_input": "2021-09-17T18:13:25.213690Z",
     "iopub.status.busy": "2021-09-17T18:13:25.212945Z",
     "iopub.status.idle": "2021-09-17T18:13:25.235239Z",
     "shell.execute_reply": "2021-09-17T18:13:25.235840Z"
    }
   },
   "outputs": [
    {
     "data": {
      "text/html": [
       "<div>\n",
       "<style scoped>\n",
       "    .dataframe tbody tr th:only-of-type {\n",
       "        vertical-align: middle;\n",
       "    }\n",
       "\n",
       "    .dataframe tbody tr th {\n",
       "        vertical-align: top;\n",
       "    }\n",
       "\n",
       "    .dataframe thead th {\n",
       "        text-align: right;\n",
       "    }\n",
       "</style>\n",
       "<table border=\"1\" class=\"dataframe\">\n",
       "  <thead>\n",
       "    <tr style=\"text-align: right;\">\n",
       "      <th></th>\n",
       "      <th>dt</th>\n",
       "      <th>temp</th>\n",
       "      <th>feels_like</th>\n",
       "      <th>pressure</th>\n",
       "      <th>humidity</th>\n",
       "      <th>dew_point</th>\n",
       "      <th>uvi</th>\n",
       "      <th>clouds</th>\n",
       "      <th>visibility</th>\n",
       "      <th>wind_speed</th>\n",
       "      <th>wind_deg</th>\n",
       "      <th>wind_gust</th>\n",
       "      <th>weather</th>\n",
       "      <th>pop</th>\n",
       "      <th>rain</th>\n",
       "    </tr>\n",
       "  </thead>\n",
       "  <tbody>\n",
       "    <tr>\n",
       "      <th>0</th>\n",
       "      <td>1631901600</td>\n",
       "      <td>29.15</td>\n",
       "      <td>36.15</td>\n",
       "      <td>1010</td>\n",
       "      <td>85</td>\n",
       "      <td>26.37</td>\n",
       "      <td>0.0</td>\n",
       "      <td>1</td>\n",
       "      <td>10000</td>\n",
       "      <td>3.22</td>\n",
       "      <td>101</td>\n",
       "      <td>4.28</td>\n",
       "      <td>[{'id': 800, 'main': 'Clear', 'description': '...</td>\n",
       "      <td>0.69</td>\n",
       "      <td>NaN</td>\n",
       "    </tr>\n",
       "    <tr>\n",
       "      <th>1</th>\n",
       "      <td>1631905200</td>\n",
       "      <td>28.91</td>\n",
       "      <td>35.36</td>\n",
       "      <td>1010</td>\n",
       "      <td>84</td>\n",
       "      <td>25.93</td>\n",
       "      <td>0.0</td>\n",
       "      <td>1</td>\n",
       "      <td>10000</td>\n",
       "      <td>3.52</td>\n",
       "      <td>96</td>\n",
       "      <td>4.76</td>\n",
       "      <td>[{'id': 500, 'main': 'Rain', 'description': 'l...</td>\n",
       "      <td>0.34</td>\n",
       "      <td>{'1h': 0.18}</td>\n",
       "    </tr>\n",
       "    <tr>\n",
       "      <th>2</th>\n",
       "      <td>1631908800</td>\n",
       "      <td>28.61</td>\n",
       "      <td>34.27</td>\n",
       "      <td>1010</td>\n",
       "      <td>83</td>\n",
       "      <td>25.44</td>\n",
       "      <td>0.0</td>\n",
       "      <td>1</td>\n",
       "      <td>10000</td>\n",
       "      <td>3.67</td>\n",
       "      <td>98</td>\n",
       "      <td>5.05</td>\n",
       "      <td>[{'id': 500, 'main': 'Rain', 'description': 'l...</td>\n",
       "      <td>0.55</td>\n",
       "      <td>{'1h': 0.18}</td>\n",
       "    </tr>\n",
       "    <tr>\n",
       "      <th>3</th>\n",
       "      <td>1631912400</td>\n",
       "      <td>28.31</td>\n",
       "      <td>33.42</td>\n",
       "      <td>1010</td>\n",
       "      <td>83</td>\n",
       "      <td>25.14</td>\n",
       "      <td>0.0</td>\n",
       "      <td>8</td>\n",
       "      <td>10000</td>\n",
       "      <td>3.52</td>\n",
       "      <td>100</td>\n",
       "      <td>5.01</td>\n",
       "      <td>[{'id': 500, 'main': 'Rain', 'description': 'l...</td>\n",
       "      <td>0.64</td>\n",
       "      <td>{'1h': 0.87}</td>\n",
       "    </tr>\n",
       "    <tr>\n",
       "      <th>4</th>\n",
       "      <td>1631916000</td>\n",
       "      <td>27.77</td>\n",
       "      <td>32.11</td>\n",
       "      <td>1010</td>\n",
       "      <td>84</td>\n",
       "      <td>24.82</td>\n",
       "      <td>0.0</td>\n",
       "      <td>17</td>\n",
       "      <td>10000</td>\n",
       "      <td>3.11</td>\n",
       "      <td>93</td>\n",
       "      <td>4.41</td>\n",
       "      <td>[{'id': 501, 'main': 'Rain', 'description': 'm...</td>\n",
       "      <td>0.68</td>\n",
       "      <td>{'1h': 1.16}</td>\n",
       "    </tr>\n",
       "  </tbody>\n",
       "</table>\n",
       "</div>"
      ],
      "text/plain": [
       "           dt   temp  feels_like  pressure  humidity  dew_point  uvi  clouds  \\\n",
       "0  1631901600  29.15       36.15      1010        85      26.37  0.0       1   \n",
       "1  1631905200  28.91       35.36      1010        84      25.93  0.0       1   \n",
       "2  1631908800  28.61       34.27      1010        83      25.44  0.0       1   \n",
       "3  1631912400  28.31       33.42      1010        83      25.14  0.0       8   \n",
       "4  1631916000  27.77       32.11      1010        84      24.82  0.0      17   \n",
       "\n",
       "   visibility  wind_speed  wind_deg  wind_gust  \\\n",
       "0       10000        3.22       101       4.28   \n",
       "1       10000        3.52        96       4.76   \n",
       "2       10000        3.67        98       5.05   \n",
       "3       10000        3.52       100       5.01   \n",
       "4       10000        3.11        93       4.41   \n",
       "\n",
       "                                             weather   pop          rain  \n",
       "0  [{'id': 800, 'main': 'Clear', 'description': '...  0.69           NaN  \n",
       "1  [{'id': 500, 'main': 'Rain', 'description': 'l...  0.34  {'1h': 0.18}  \n",
       "2  [{'id': 500, 'main': 'Rain', 'description': 'l...  0.55  {'1h': 0.18}  \n",
       "3  [{'id': 500, 'main': 'Rain', 'description': 'l...  0.64  {'1h': 0.87}  \n",
       "4  [{'id': 501, 'main': 'Rain', 'description': 'm...  0.68  {'1h': 1.16}  "
      ]
     },
     "execution_count": 10,
     "metadata": {},
     "output_type": "execute_result"
    }
   ],
   "source": [
    "df_hourly.head()"
   ]
  },
  {
   "cell_type": "code",
   "execution_count": null,
   "metadata": {},
   "outputs": [],
   "source": []
  }
 ],
 "metadata": {
  "interpreter": {
   "hash": "c1b4cfe941b6d2466ad1fb5979e97da9cda8801728c8091b097ab734208fc00c"
  },
  "kernelspec": {
   "display_name": "Python 3.8.3 64-bit ('base': conda)",
   "name": "python3"
  },
  "language_info": {
   "codemirror_mode": {
    "name": "ipython",
    "version": 3
   },
   "file_extension": ".py",
   "mimetype": "text/x-python",
   "name": "python",
   "nbconvert_exporter": "python",
   "pygments_lexer": "ipython3",
   "version": "3.8.11"
  }
 },
 "nbformat": 4,
 "nbformat_minor": 2
}
