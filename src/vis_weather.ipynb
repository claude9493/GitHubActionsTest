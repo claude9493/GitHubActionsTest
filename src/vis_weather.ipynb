{
 "cells": [
  {
   "cell_type": "code",
   "execution_count": 1,
   "metadata": {
    "execution": {
     "iopub.execute_input": "2021-10-16T04:14:34.140162Z",
     "iopub.status.busy": "2021-10-16T04:14:34.139656Z",
     "iopub.status.idle": "2021-10-16T04:14:36.901475Z",
     "shell.execute_reply": "2021-10-16T04:14:36.900421Z"
    }
   },
   "outputs": [],
   "source": [
    "import json, yaml, requests\r\n",
    "from datetime import datetime\r\n",
    "from dateutil import tz\r\n",
    "import pandas as pd\r\n",
    "from PIL import Image\r\n",
    "from io import BytesIO\r\n",
    "import matplotlib.pyplot as plt\r\n",
    "import seaborn\r\n",
    "\r\n",
    "CONFIG_PATH = \"../config/config.yaml\""
   ]
  },
  {
   "cell_type": "code",
   "execution_count": 2,
   "metadata": {
    "execution": {
     "iopub.execute_input": "2021-10-16T04:14:36.907280Z",
     "iopub.status.busy": "2021-10-16T04:14:36.906236Z",
     "iopub.status.idle": "2021-10-16T04:14:36.911248Z",
     "shell.execute_reply": "2021-10-16T04:14:36.911608Z"
    }
   },
   "outputs": [],
   "source": [
    "with open('../newest_ts', 'r') as f:\r\n",
    "    newest_ts = f.read()\r\n",
    "\r\n",
    "data_path = f\"../data/data_{newest_ts}.json\"\r\n",
    "with open(data_path, 'r') as f:\r\n",
    "    data = json.load(f)\r\n",
    "\r\n",
    "with open(CONFIG_PATH, \"r\") as stream:\r\n",
    "    config = yaml.safe_load(stream)\r\n",
    "\r\n",
    "TIME_ZONE = config['time_zone']\r\n",
    "DATETIME_FORMAT = config['dt_format']"
   ]
  },
  {
   "cell_type": "code",
   "execution_count": 3,
   "metadata": {
    "execution": {
     "iopub.execute_input": "2021-10-16T04:14:36.916708Z",
     "iopub.status.busy": "2021-10-16T04:14:36.916215Z",
     "iopub.status.idle": "2021-10-16T04:14:36.922260Z",
     "shell.execute_reply": "2021-10-16T04:14:36.922665Z"
    }
   },
   "outputs": [
    {
     "name": "stdout",
     "output_type": "stream",
     "text": [
      "Recent query happens at 2021-10-16 12:14:31 (CST).\n"
     ]
    }
   ],
   "source": [
    "def ts2dt(ts, format=DATETIME_FORMAT):\r\n",
    "    dt = (datetime.utcfromtimestamp(int(ts))\r\n",
    "                    .replace(tzinfo=tz.tzutc())\r\n",
    "                    # .astimezone(tz.tzlocal())\r\n",
    "                    .astimezone(tz.gettz(TIME_ZONE)))\r\n",
    "    return dt.strftime(format), dt\r\n",
    "\r\n",
    "_, newest_dt = ts2dt(newest_ts)\r\n",
    "print(f\"Recent query happens at {newest_dt.strftime(DATETIME_FORMAT)} ({newest_dt.tzname()}).\")"
   ]
  },
  {
   "cell_type": "code",
   "execution_count": 4,
   "metadata": {
    "execution": {
     "iopub.execute_input": "2021-10-16T04:14:36.927949Z",
     "iopub.status.busy": "2021-10-16T04:14:36.926774Z",
     "iopub.status.idle": "2021-10-16T04:14:36.928475Z",
     "shell.execute_reply": "2021-10-16T04:14:36.928838Z"
    }
   },
   "outputs": [],
   "source": [
    "def degrees_to_cardinal(d):\r\n",
    "  dirs = ['N', 'NNE', 'NE', 'ENE', 'E', 'ESE', 'SE', 'SSE', 'S', 'SSW', 'SW', 'WSW', 'W', 'WNW', 'NW', 'NNW']\r\n",
    "  ix = int(round(d / (360. / len(dirs))))\r\n",
    "  return dirs[ix % len(dirs)]"
   ]
  },
  {
   "cell_type": "code",
   "execution_count": 5,
   "metadata": {
    "execution": {
     "iopub.execute_input": "2021-10-16T04:14:36.932963Z",
     "iopub.status.busy": "2021-10-16T04:14:36.931908Z",
     "iopub.status.idle": "2021-10-16T04:14:36.933489Z",
     "shell.execute_reply": "2021-10-16T04:14:36.933850Z"
    }
   },
   "outputs": [],
   "source": [
    "# data.keys()"
   ]
  },
  {
   "cell_type": "code",
   "execution_count": 6,
   "metadata": {
    "execution": {
     "iopub.execute_input": "2021-10-16T04:14:36.937677Z",
     "iopub.status.busy": "2021-10-16T04:14:36.936618Z",
     "iopub.status.idle": "2021-10-16T04:14:36.938294Z",
     "shell.execute_reply": "2021-10-16T04:14:36.938683Z"
    }
   },
   "outputs": [],
   "source": [
    "# data['current']"
   ]
  },
  {
   "cell_type": "code",
   "execution_count": 7,
   "metadata": {
    "execution": {
     "iopub.execute_input": "2021-10-16T04:14:36.956768Z",
     "iopub.status.busy": "2021-10-16T04:14:36.956258Z",
     "iopub.status.idle": "2021-10-16T04:14:37.231754Z",
     "shell.execute_reply": "2021-10-16T04:14:37.232467Z"
    }
   },
   "outputs": [
    {
     "data": {
      "image/png": "[encoded data removed]",
      "text/plain": [
       "<Figure size 216x216 with 1 Axes>"
      ]
     },
     "metadata": {
      "needs_background": "light"
     },
     "output_type": "display_data"
    },
    {
     "name": "stdout",
     "output_type": "stream",
     "text": [
      "Today, sun rises at 06:19 and sets at 17:57.\n",
      "Currently, the weather is Clouds (scattered clouds).\n",
      "The temperature is 28.3°C and it feels like 31.71°C.\n",
      "The UV index is 8.15, humidity is 73%.\n",
      "The pressure is 1014 hPa, percentage of cloud cover is 48%\n",
      "The wind comes from NNE direction with a speed 4.02 m/s.\n"
     ]
    }
   ],
   "source": [
    "current = data['current']\r\n",
    "\r\n",
    "fig, ax = plt.subplots(figsize=(3, 3))\r\n",
    "icon = requests.get(f\"http://openweathermap.org/img/wn/{current['weather'][0]['icon']}@2x.png\")\r\n",
    "im = Image.open(BytesIO(icon.content))\r\n",
    "plt.imshow(im)\r\n",
    "ax.set_axis_off()\r\n",
    "plt.show()\r\n",
    "\r\n",
    "print(f\"Today, sun rises at {ts2dt(current['sunrise'], '%H:%M')[0]} \\\r\n",
    "and sets at {ts2dt(current['sunset'], '%H:%M')[0]}.\\n\\\r\n",
    "Currently, the weather is {current['weather'][0]['main']} ({current['weather'][0]['description']}).\\n\\\r\n",
    "The temperature is {current['temp']}°C and it feels like {current['feels_like']}°C.\\n\\\r\n",
    "The UV index is {current['uvi']}, humidity is {current['humidity']}%.\\n\\\r\n",
    "The pressure is {current['pressure']} hPa, percentage of cloud cover is {current['clouds']}%\\n\\\r\n",
    "The wind comes from {degrees_to_cardinal(current['wind_deg'])} direction with a speed {current['wind_speed']} m/s.\")"
   ]
  },
  {
   "cell_type": "code",
   "execution_count": 8,
   "metadata": {
    "execution": {
     "iopub.execute_input": "2021-10-16T04:14:37.235965Z",
     "iopub.status.busy": "2021-10-16T04:14:37.234977Z",
     "iopub.status.idle": "2021-10-16T04:14:37.242537Z",
     "shell.execute_reply": "2021-10-16T04:14:37.243248Z"
    }
   },
   "outputs": [],
   "source": [
    "df_hourly = pd.DataFrame(data['hourly'])\r\n",
    "df_daily = pd.DataFrame(data['daily'])"
   ]
  },
  {
   "cell_type": "code",
   "execution_count": 9,
   "metadata": {
    "execution": {
     "iopub.execute_input": "2021-10-16T04:14:37.246549Z",
     "iopub.status.busy": "2021-10-16T04:14:37.245571Z",
     "iopub.status.idle": "2021-10-16T04:14:37.522737Z",
     "shell.execute_reply": "2021-10-16T04:14:37.522302Z"
    }
   },
   "outputs": [
    {
     "data": {
      "image/png": "[encoded data removed]",
      "text/plain": [
       "<Figure size 864x432 with 1 Axes>"
      ]
     },
     "metadata": {
      "needs_background": "light"
     },
     "output_type": "display_data"
    }
   ],
   "source": [
    "fig, ax = plt.subplots(figsize=(12, 6))\r\n",
    "plt.plot(df_hourly.temp, '.-', label='Temperature')\r\n",
    "plt.plot(df_hourly.feels_like, '.-', label='Feels Like')\r\n",
    "ax.set(title='Temperature in future 48 hours', xlabel='Time', ylabel='Temperature')\r\n",
    "ax.set_xticks(list(range(0, len(df_hourly), 2)))\r\n",
    "ax.set_xticklabels([ts2dt(ts, '%m-%d %H:%M')[0] for i, ts in enumerate(df_hourly.dt) if i%2==0], \r\n",
    "                   rotation=45, ha=\"right\")\r\n",
    "ax.locator_params(nbins=15, axis='y')\r\n",
    "plt.legend()\r\n",
    "plt.show()"
   ]
  },
  {
   "cell_type": "code",
   "execution_count": 10,
   "metadata": {
    "execution": {
     "iopub.execute_input": "2021-10-16T04:14:37.534449Z",
     "iopub.status.busy": "2021-10-16T04:14:37.527280Z",
     "iopub.status.idle": "2021-10-16T04:14:37.544138Z",
     "shell.execute_reply": "2021-10-16T04:14:37.544515Z"
    }
   },
   "outputs": [
    {
     "data": {
      "text/html": [
       "<div>\n",
       "<style scoped>\n",
       "    .dataframe tbody tr th:only-of-type {\n",
       "        vertical-align: middle;\n",
       "    }\n",
       "\n",
       "    .dataframe tbody tr th {\n",
       "        vertical-align: top;\n",
       "    }\n",
       "\n",
       "    .dataframe thead th {\n",
       "        text-align: right;\n",
       "    }\n",
       "</style>\n",
       "<table border=\"1\" class=\"dataframe\">\n",
       "  <thead>\n",
       "    <tr style=\"text-align: right;\">\n",
       "      <th></th>\n",
       "      <th>dt</th>\n",
       "      <th>temp</th>\n",
       "      <th>feels_like</th>\n",
       "      <th>pressure</th>\n",
       "      <th>humidity</th>\n",
       "      <th>dew_point</th>\n",
       "      <th>uvi</th>\n",
       "      <th>clouds</th>\n",
       "      <th>visibility</th>\n",
       "      <th>wind_speed</th>\n",
       "      <th>wind_deg</th>\n",
       "      <th>wind_gust</th>\n",
       "      <th>weather</th>\n",
       "      <th>pop</th>\n",
       "    </tr>\n",
       "  </thead>\n",
       "  <tbody>\n",
       "    <tr>\n",
       "      <th>0</th>\n",
       "      <td>1634356800</td>\n",
       "      <td>28.30</td>\n",
       "      <td>31.71</td>\n",
       "      <td>1014</td>\n",
       "      <td>73</td>\n",
       "      <td>23.00</td>\n",
       "      <td>8.15</td>\n",
       "      <td>48</td>\n",
       "      <td>10000</td>\n",
       "      <td>7.72</td>\n",
       "      <td>20</td>\n",
       "      <td>8.51</td>\n",
       "      <td>[{'id': 802, 'main': 'Clouds', 'description': ...</td>\n",
       "      <td>0.00</td>\n",
       "    </tr>\n",
       "    <tr>\n",
       "      <th>1</th>\n",
       "      <td>1634360400</td>\n",
       "      <td>28.11</td>\n",
       "      <td>31.02</td>\n",
       "      <td>1014</td>\n",
       "      <td>71</td>\n",
       "      <td>22.36</td>\n",
       "      <td>7.99</td>\n",
       "      <td>48</td>\n",
       "      <td>10000</td>\n",
       "      <td>7.47</td>\n",
       "      <td>23</td>\n",
       "      <td>8.12</td>\n",
       "      <td>[{'id': 802, 'main': 'Clouds', 'description': ...</td>\n",
       "      <td>0.00</td>\n",
       "    </tr>\n",
       "    <tr>\n",
       "      <th>2</th>\n",
       "      <td>1634364000</td>\n",
       "      <td>28.00</td>\n",
       "      <td>30.67</td>\n",
       "      <td>1014</td>\n",
       "      <td>70</td>\n",
       "      <td>22.02</td>\n",
       "      <td>6.45</td>\n",
       "      <td>47</td>\n",
       "      <td>10000</td>\n",
       "      <td>7.51</td>\n",
       "      <td>23</td>\n",
       "      <td>8.17</td>\n",
       "      <td>[{'id': 802, 'main': 'Clouds', 'description': ...</td>\n",
       "      <td>0.04</td>\n",
       "    </tr>\n",
       "    <tr>\n",
       "      <th>3</th>\n",
       "      <td>1634367600</td>\n",
       "      <td>27.84</td>\n",
       "      <td>30.24</td>\n",
       "      <td>1013</td>\n",
       "      <td>69</td>\n",
       "      <td>21.63</td>\n",
       "      <td>3.69</td>\n",
       "      <td>46</td>\n",
       "      <td>10000</td>\n",
       "      <td>7.58</td>\n",
       "      <td>20</td>\n",
       "      <td>8.16</td>\n",
       "      <td>[{'id': 802, 'main': 'Clouds', 'description': ...</td>\n",
       "      <td>0.16</td>\n",
       "    </tr>\n",
       "    <tr>\n",
       "      <th>4</th>\n",
       "      <td>1634371200</td>\n",
       "      <td>27.16</td>\n",
       "      <td>29.04</td>\n",
       "      <td>1013</td>\n",
       "      <td>69</td>\n",
       "      <td>20.98</td>\n",
       "      <td>1.73</td>\n",
       "      <td>48</td>\n",
       "      <td>10000</td>\n",
       "      <td>8.21</td>\n",
       "      <td>16</td>\n",
       "      <td>9.11</td>\n",
       "      <td>[{'id': 802, 'main': 'Clouds', 'description': ...</td>\n",
       "      <td>0.26</td>\n",
       "    </tr>\n",
       "  </tbody>\n",
       "</table>\n",
       "</div>"
      ],
      "text/plain": [
       "           dt   temp  feels_like  pressure  humidity  dew_point   uvi  clouds  \\\n",
       "0  1634356800  28.30       31.71      1014        73      23.00  8.15      48   \n",
       "1  1634360400  28.11       31.02      1014        71      22.36  7.99      48   \n",
       "2  1634364000  28.00       30.67      1014        70      22.02  6.45      47   \n",
       "3  1634367600  27.84       30.24      1013        69      21.63  3.69      46   \n",
       "4  1634371200  27.16       29.04      1013        69      20.98  1.73      48   \n",
       "\n",
       "   visibility  wind_speed  wind_deg  wind_gust  \\\n",
       "0       10000        7.72        20       8.51   \n",
       "1       10000        7.47        23       8.12   \n",
       "2       10000        7.51        23       8.17   \n",
       "3       10000        7.58        20       8.16   \n",
       "4       10000        8.21        16       9.11   \n",
       "\n",
       "                                             weather   pop  \n",
       "0  [{'id': 802, 'main': 'Clouds', 'description': ...  0.00  \n",
       "1  [{'id': 802, 'main': 'Clouds', 'description': ...  0.00  \n",
       "2  [{'id': 802, 'main': 'Clouds', 'description': ...  0.04  \n",
       "3  [{'id': 802, 'main': 'Clouds', 'description': ...  0.16  \n",
       "4  [{'id': 802, 'main': 'Clouds', 'description': ...  0.26  "
      ]
     },
     "execution_count": 10,
     "metadata": {},
     "output_type": "execute_result"
    }
   ],
   "source": [
    "df_hourly.head()"
   ]
  },
  {
   "cell_type": "code",
   "execution_count": null,
   "metadata": {},
   "outputs": [],
   "source": []
  }
 ],
 "metadata": {
  "interpreter": {
   "hash": "c1b4cfe941b6d2466ad1fb5979e97da9cda8801728c8091b097ab734208fc00c"
  },
  "kernelspec": {
   "display_name": "Python 3.8.3 64-bit ('base': conda)",
   "name": "python3"
  },
  "language_info": {
   "codemirror_mode": {
    "name": "ipython",
    "version": 3
   },
   "file_extension": ".py",
   "mimetype": "text/x-python",
   "name": "python",
   "nbconvert_exporter": "python",
   "pygments_lexer": "ipython3",
   "version": "3.8.12"
  }
 },
 "nbformat": 4,
 "nbformat_minor": 2
}
