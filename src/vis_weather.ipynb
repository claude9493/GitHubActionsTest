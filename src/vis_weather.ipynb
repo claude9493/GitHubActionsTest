{
 "cells": [
  {
   "cell_type": "code",
   "execution_count": 1,
   "metadata": {
    "execution": {
     "iopub.execute_input": "2021-09-16T23:11:44.405185Z",
     "iopub.status.busy": "2021-09-16T23:11:44.404464Z",
     "iopub.status.idle": "2021-09-16T23:11:45.695290Z",
     "shell.execute_reply": "2021-09-16T23:11:45.694370Z"
    }
   },
   "outputs": [],
   "source": [
    "import json, yaml, requests\r\n",
    "from datetime import datetime\r\n",
    "from dateutil import tz\r\n",
    "import pandas as pd\r\n",
    "from PIL import Image\r\n",
    "from io import BytesIO\r\n",
    "import matplotlib.pyplot as plt\r\n",
    "import seaborn\r\n",
    "\r\n",
    "CONFIG_PATH = \"../config/config.yaml\""
   ]
  },
  {
   "cell_type": "code",
   "execution_count": 2,
   "metadata": {
    "execution": {
     "iopub.execute_input": "2021-09-16T23:11:45.700426Z",
     "iopub.status.busy": "2021-09-16T23:11:45.699619Z",
     "iopub.status.idle": "2021-09-16T23:11:45.704959Z",
     "shell.execute_reply": "2021-09-16T23:11:45.704258Z"
    }
   },
   "outputs": [],
   "source": [
    "with open('../newest_ts', 'r') as f:\r\n",
    "    newest_ts = f.read()\r\n",
    "\r\n",
    "data_path = f\"../data/data_{newest_ts}.json\"\r\n",
    "with open(data_path, 'r') as f:\r\n",
    "    data = json.load(f)\r\n",
    "\r\n",
    "with open(CONFIG_PATH, \"r\") as stream:\r\n",
    "    config = yaml.safe_load(stream)\r\n",
    "\r\n",
    "TIME_ZONE = config['time_zone']\r\n",
    "DATETIME_FORMAT = config['dt_format']"
   ]
  },
  {
   "cell_type": "code",
   "execution_count": 3,
   "metadata": {
    "execution": {
     "iopub.execute_input": "2021-09-16T23:11:45.709694Z",
     "iopub.status.busy": "2021-09-16T23:11:45.709149Z",
     "iopub.status.idle": "2021-09-16T23:11:45.717989Z",
     "shell.execute_reply": "2021-09-16T23:11:45.718418Z"
    }
   },
   "outputs": [
    {
     "name": "stdout",
     "output_type": "stream",
     "text": [
      "Recent query happens at 2021-09-17 07:11:41 (CST).\n"
     ]
    }
   ],
   "source": [
    "def ts2dt(ts, format=DATETIME_FORMAT):\r\n",
    "    dt = (datetime.utcfromtimestamp(int(ts))\r\n",
    "                    .replace(tzinfo=tz.tzutc())\r\n",
    "                    # .astimezone(tz.tzlocal())\r\n",
    "                    .astimezone(tz.gettz(TIME_ZONE)))\r\n",
    "    return dt.strftime(format), dt\r\n",
    "\r\n",
    "_, newest_dt = ts2dt(newest_ts)\r\n",
    "print(f\"Recent query happens at {newest_dt.strftime(DATETIME_FORMAT)} ({newest_dt.tzname()}).\")"
   ]
  },
  {
   "cell_type": "code",
   "execution_count": 4,
   "metadata": {
    "execution": {
     "iopub.execute_input": "2021-09-16T23:11:45.723606Z",
     "iopub.status.busy": "2021-09-16T23:11:45.722354Z",
     "iopub.status.idle": "2021-09-16T23:11:45.724170Z",
     "shell.execute_reply": "2021-09-16T23:11:45.724595Z"
    }
   },
   "outputs": [],
   "source": [
    "def degrees_to_cardinal(d):\r\n",
    "  dirs = ['N', 'NNE', 'NE', 'ENE', 'E', 'ESE', 'SE', 'SSE', 'S', 'SSW', 'SW', 'WSW', 'W', 'WNW', 'NW', 'NNW']\r\n",
    "  ix = int(round(d / (360. / len(dirs))))\r\n",
    "  return dirs[ix % len(dirs)]"
   ]
  },
  {
   "cell_type": "code",
   "execution_count": 5,
   "metadata": {
    "execution": {
     "iopub.execute_input": "2021-09-16T23:11:45.729145Z",
     "iopub.status.busy": "2021-09-16T23:11:45.727962Z",
     "iopub.status.idle": "2021-09-16T23:11:45.729709Z",
     "shell.execute_reply": "2021-09-16T23:11:45.730131Z"
    }
   },
   "outputs": [],
   "source": [
    "# data.keys()"
   ]
  },
  {
   "cell_type": "code",
   "execution_count": 6,
   "metadata": {
    "execution": {
     "iopub.execute_input": "2021-09-16T23:11:45.733756Z",
     "iopub.status.busy": "2021-09-16T23:11:45.732711Z",
     "iopub.status.idle": "2021-09-16T23:11:45.734411Z",
     "shell.execute_reply": "2021-09-16T23:11:45.734840Z"
    }
   },
   "outputs": [],
   "source": [
    "# data['current']"
   ]
  },
  {
   "cell_type": "code",
   "execution_count": 7,
   "metadata": {
    "execution": {
     "iopub.execute_input": "2021-09-16T23:11:45.754072Z",
     "iopub.status.busy": "2021-09-16T23:11:45.739520Z",
     "iopub.status.idle": "2021-09-16T23:11:46.185945Z",
     "shell.execute_reply": "2021-09-16T23:11:46.186681Z"
    }
   },
   "outputs": [
    {
     "data": {
      "image/png": "[encoded data removed]",
      "text/plain": [
       "<Figure size 216x216 with 1 Axes>"
      ]
     },
     "metadata": {
      "needs_background": "light"
     },
     "output_type": "display_data"
    },
    {
     "name": "stdout",
     "output_type": "stream",
     "text": [
      "Today, sun rises at 06:10 and sets at 18:25.\n",
      "Currently, the weather is Rain (light rain).\n",
      "The temperature is 28.6°C and it feels like 34.44°C.\n",
      "The UV index is 0.23, humidity is 84%.\n",
      "The pressure is 1009 hPa, percentage of cloud cover is 61%\n",
      "The wind comes from NW direction with a speed 1.18 m/s.\n"
     ]
    }
   ],
   "source": [
    "current = data['current']\r\n",
    "\r\n",
    "fig, ax = plt.subplots(figsize=(3, 3))\r\n",
    "icon = requests.get(f\"http://openweathermap.org/img/wn/{current['weather'][0]['icon']}@2x.png\")\r\n",
    "im = Image.open(BytesIO(icon.content))\r\n",
    "plt.imshow(im)\r\n",
    "ax.set_axis_off()\r\n",
    "plt.show()\r\n",
    "\r\n",
    "print(f\"Today, sun rises at {ts2dt(current['sunrise'], '%H:%M')[0]} \\\r\n",
    "and sets at {ts2dt(current['sunset'], '%H:%M')[0]}.\\n\\\r\n",
    "Currently, the weather is {current['weather'][0]['main']} ({current['weather'][0]['description']}).\\n\\\r\n",
    "The temperature is {current['temp']}°C and it feels like {current['feels_like']}°C.\\n\\\r\n",
    "The UV index is {current['uvi']}, humidity is {current['humidity']}%.\\n\\\r\n",
    "The pressure is {current['pressure']} hPa, percentage of cloud cover is {current['clouds']}%\\n\\\r\n",
    "The wind comes from {degrees_to_cardinal(current['wind_deg'])} direction with a speed {current['wind_speed']} m/s.\")"
   ]
  },
  {
   "cell_type": "code",
   "execution_count": 8,
   "metadata": {
    "execution": {
     "iopub.execute_input": "2021-09-16T23:11:46.189848Z",
     "iopub.status.busy": "2021-09-16T23:11:46.189327Z",
     "iopub.status.idle": "2021-09-16T23:11:46.196424Z",
     "shell.execute_reply": "2021-09-16T23:11:46.197124Z"
    }
   },
   "outputs": [],
   "source": [
    "df_hourly = pd.DataFrame(data['hourly'])\r\n",
    "df_daily = pd.DataFrame(data['daily'])"
   ]
  },
  {
   "cell_type": "code",
   "execution_count": 9,
   "metadata": {
    "execution": {
     "iopub.execute_input": "2021-09-16T23:11:46.200101Z",
     "iopub.status.busy": "2021-09-16T23:11:46.199474Z",
     "iopub.status.idle": "2021-09-16T23:11:46.481854Z",
     "shell.execute_reply": "2021-09-16T23:11:46.482289Z"
    }
   },
   "outputs": [
    {
     "data": {
      "image/png": "[encoded data removed]",
      "text/plain": [
       "<Figure size 864x432 with 1 Axes>"
      ]
     },
     "metadata": {
      "needs_background": "light"
     },
     "output_type": "display_data"
    }
   ],
   "source": [
    "fig, ax = plt.subplots(figsize=(12, 6))\r\n",
    "plt.plot(df_hourly.temp, '.-', label='Temperature')\r\n",
    "plt.plot(df_hourly.feels_like, '.-', label='Feels Like')\r\n",
    "ax.set(title='Temperature in future 48 hours', xlabel='Time', ylabel='Temperature')\r\n",
    "ax.set_xticks(list(range(0, len(df_hourly), 2)))\r\n",
    "ax.set_xticklabels([ts2dt(ts, '%m-%d %H:%M')[0] for i, ts in enumerate(df_hourly.dt) if i%2==0], \r\n",
    "                   rotation=45, ha=\"right\")\r\n",
    "ax.locator_params(nbins=15, axis='y')\r\n",
    "plt.legend()\r\n",
    "plt.show()"
   ]
  },
  {
   "cell_type": "code",
   "execution_count": 10,
   "metadata": {
    "execution": {
     "iopub.execute_input": "2021-09-16T23:11:46.486927Z",
     "iopub.status.busy": "2021-09-16T23:11:46.486383Z",
     "iopub.status.idle": "2021-09-16T23:11:46.505474Z",
     "shell.execute_reply": "2021-09-16T23:11:46.505928Z"
    }
   },
   "outputs": [
    {
     "data": {
      "text/html": [
       "<div>\n",
       "<style scoped>\n",
       "    .dataframe tbody tr th:only-of-type {\n",
       "        vertical-align: middle;\n",
       "    }\n",
       "\n",
       "    .dataframe tbody tr th {\n",
       "        vertical-align: top;\n",
       "    }\n",
       "\n",
       "    .dataframe thead th {\n",
       "        text-align: right;\n",
       "    }\n",
       "</style>\n",
       "<table border=\"1\" class=\"dataframe\">\n",
       "  <thead>\n",
       "    <tr style=\"text-align: right;\">\n",
       "      <th></th>\n",
       "      <th>dt</th>\n",
       "      <th>temp</th>\n",
       "      <th>feels_like</th>\n",
       "      <th>pressure</th>\n",
       "      <th>humidity</th>\n",
       "      <th>dew_point</th>\n",
       "      <th>uvi</th>\n",
       "      <th>clouds</th>\n",
       "      <th>visibility</th>\n",
       "      <th>wind_speed</th>\n",
       "      <th>wind_deg</th>\n",
       "      <th>wind_gust</th>\n",
       "      <th>weather</th>\n",
       "      <th>pop</th>\n",
       "      <th>rain</th>\n",
       "    </tr>\n",
       "  </thead>\n",
       "  <tbody>\n",
       "    <tr>\n",
       "      <th>0</th>\n",
       "      <td>1631833200</td>\n",
       "      <td>28.60</td>\n",
       "      <td>34.44</td>\n",
       "      <td>1009</td>\n",
       "      <td>84</td>\n",
       "      <td>25.63</td>\n",
       "      <td>0.23</td>\n",
       "      <td>61</td>\n",
       "      <td>10000</td>\n",
       "      <td>1.18</td>\n",
       "      <td>319</td>\n",
       "      <td>1.37</td>\n",
       "      <td>[{'id': 500, 'main': 'Rain', 'description': 'l...</td>\n",
       "      <td>0.70</td>\n",
       "      <td>{'1h': 0.21}</td>\n",
       "    </tr>\n",
       "    <tr>\n",
       "      <th>1</th>\n",
       "      <td>1631836800</td>\n",
       "      <td>28.66</td>\n",
       "      <td>34.21</td>\n",
       "      <td>1009</td>\n",
       "      <td>82</td>\n",
       "      <td>25.28</td>\n",
       "      <td>1.26</td>\n",
       "      <td>59</td>\n",
       "      <td>10000</td>\n",
       "      <td>1.18</td>\n",
       "      <td>345</td>\n",
       "      <td>1.36</td>\n",
       "      <td>[{'id': 500, 'main': 'Rain', 'description': 'l...</td>\n",
       "      <td>0.68</td>\n",
       "      <td>{'1h': 0.13}</td>\n",
       "    </tr>\n",
       "    <tr>\n",
       "      <th>2</th>\n",
       "      <td>1631840400</td>\n",
       "      <td>28.99</td>\n",
       "      <td>34.50</td>\n",
       "      <td>1009</td>\n",
       "      <td>79</td>\n",
       "      <td>24.98</td>\n",
       "      <td>3.36</td>\n",
       "      <td>46</td>\n",
       "      <td>10000</td>\n",
       "      <td>0.73</td>\n",
       "      <td>36</td>\n",
       "      <td>1.03</td>\n",
       "      <td>[{'id': 802, 'main': 'Clouds', 'description': ...</td>\n",
       "      <td>0.71</td>\n",
       "      <td>NaN</td>\n",
       "    </tr>\n",
       "    <tr>\n",
       "      <th>3</th>\n",
       "      <td>1631844000</td>\n",
       "      <td>29.16</td>\n",
       "      <td>34.31</td>\n",
       "      <td>1010</td>\n",
       "      <td>76</td>\n",
       "      <td>24.49</td>\n",
       "      <td>6.26</td>\n",
       "      <td>48</td>\n",
       "      <td>10000</td>\n",
       "      <td>0.92</td>\n",
       "      <td>122</td>\n",
       "      <td>1.17</td>\n",
       "      <td>[{'id': 501, 'main': 'Rain', 'description': 'm...</td>\n",
       "      <td>0.79</td>\n",
       "      <td>{'1h': 1.51}</td>\n",
       "    </tr>\n",
       "    <tr>\n",
       "      <th>4</th>\n",
       "      <td>1631847600</td>\n",
       "      <td>29.41</td>\n",
       "      <td>34.07</td>\n",
       "      <td>1010</td>\n",
       "      <td>72</td>\n",
       "      <td>23.83</td>\n",
       "      <td>8.98</td>\n",
       "      <td>46</td>\n",
       "      <td>10000</td>\n",
       "      <td>0.96</td>\n",
       "      <td>125</td>\n",
       "      <td>1.14</td>\n",
       "      <td>[{'id': 501, 'main': 'Rain', 'description': 'm...</td>\n",
       "      <td>0.88</td>\n",
       "      <td>{'1h': 2.37}</td>\n",
       "    </tr>\n",
       "  </tbody>\n",
       "</table>\n",
       "</div>"
      ],
      "text/plain": [
       "           dt   temp  feels_like  pressure  humidity  dew_point   uvi  clouds  \\\n",
       "0  1631833200  28.60       34.44      1009        84      25.63  0.23      61   \n",
       "1  1631836800  28.66       34.21      1009        82      25.28  1.26      59   \n",
       "2  1631840400  28.99       34.50      1009        79      24.98  3.36      46   \n",
       "3  1631844000  29.16       34.31      1010        76      24.49  6.26      48   \n",
       "4  1631847600  29.41       34.07      1010        72      23.83  8.98      46   \n",
       "\n",
       "   visibility  wind_speed  wind_deg  wind_gust  \\\n",
       "0       10000        1.18       319       1.37   \n",
       "1       10000        1.18       345       1.36   \n",
       "2       10000        0.73        36       1.03   \n",
       "3       10000        0.92       122       1.17   \n",
       "4       10000        0.96       125       1.14   \n",
       "\n",
       "                                             weather   pop          rain  \n",
       "0  [{'id': 500, 'main': 'Rain', 'description': 'l...  0.70  {'1h': 0.21}  \n",
       "1  [{'id': 500, 'main': 'Rain', 'description': 'l...  0.68  {'1h': 0.13}  \n",
       "2  [{'id': 802, 'main': 'Clouds', 'description': ...  0.71           NaN  \n",
       "3  [{'id': 501, 'main': 'Rain', 'description': 'm...  0.79  {'1h': 1.51}  \n",
       "4  [{'id': 501, 'main': 'Rain', 'description': 'm...  0.88  {'1h': 2.37}  "
      ]
     },
     "execution_count": 10,
     "metadata": {},
     "output_type": "execute_result"
    }
   ],
   "source": [
    "df_hourly.head()"
   ]
  },
  {
   "cell_type": "code",
   "execution_count": null,
   "metadata": {},
   "outputs": [],
   "source": []
  }
 ],
 "metadata": {
  "interpreter": {
   "hash": "c1b4cfe941b6d2466ad1fb5979e97da9cda8801728c8091b097ab734208fc00c"
  },
  "kernelspec": {
   "display_name": "Python 3.8.3 64-bit ('base': conda)",
   "name": "python3"
  },
  "language_info": {
   "codemirror_mode": {
    "name": "ipython",
    "version": 3
   },
   "file_extension": ".py",
   "mimetype": "text/x-python",
   "name": "python",
   "nbconvert_exporter": "python",
   "pygments_lexer": "ipython3",
   "version": "3.8.11"
  }
 },
 "nbformat": 4,
 "nbformat_minor": 2
}
