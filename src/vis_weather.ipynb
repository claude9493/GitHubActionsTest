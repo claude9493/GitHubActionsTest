{
 "cells": [
  {
   "cell_type": "code",
   "execution_count": 1,
   "metadata": {
    "execution": {
     "iopub.execute_input": "2021-10-02T07:11:36.480129Z",
     "iopub.status.busy": "2021-10-02T07:11:36.476691Z",
     "iopub.status.idle": "2021-10-02T07:11:39.950034Z",
     "shell.execute_reply": "2021-10-02T07:11:39.948920Z"
    }
   },
   "outputs": [],
   "source": [
    "import json, yaml, requests\r\n",
    "from datetime import datetime\r\n",
    "from dateutil import tz\r\n",
    "import pandas as pd\r\n",
    "from PIL import Image\r\n",
    "from io import BytesIO\r\n",
    "import matplotlib.pyplot as plt\r\n",
    "import seaborn\r\n",
    "\r\n",
    "CONFIG_PATH = \"../config/config.yaml\""
   ]
  },
  {
   "cell_type": "code",
   "execution_count": 2,
   "metadata": {
    "execution": {
     "iopub.execute_input": "2021-10-02T07:11:39.955743Z",
     "iopub.status.busy": "2021-10-02T07:11:39.953118Z",
     "iopub.status.idle": "2021-10-02T07:11:39.962256Z",
     "shell.execute_reply": "2021-10-02T07:11:39.961671Z"
    }
   },
   "outputs": [],
   "source": [
    "with open('../newest_ts', 'r') as f:\r\n",
    "    newest_ts = f.read()\r\n",
    "\r\n",
    "data_path = f\"../data/data_{newest_ts}.json\"\r\n",
    "with open(data_path, 'r') as f:\r\n",
    "    data = json.load(f)\r\n",
    "\r\n",
    "with open(CONFIG_PATH, \"r\") as stream:\r\n",
    "    config = yaml.safe_load(stream)\r\n",
    "\r\n",
    "TIME_ZONE = config['time_zone']\r\n",
    "DATETIME_FORMAT = config['dt_format']"
   ]
  },
  {
   "cell_type": "code",
   "execution_count": 3,
   "metadata": {
    "execution": {
     "iopub.execute_input": "2021-10-02T07:11:39.968147Z",
     "iopub.status.busy": "2021-10-02T07:11:39.967536Z",
     "iopub.status.idle": "2021-10-02T07:11:39.994205Z",
     "shell.execute_reply": "2021-10-02T07:11:39.994718Z"
    }
   },
   "outputs": [
    {
     "name": "stdout",
     "output_type": "stream",
     "text": [
      "Recent query happens at 2021-10-02 15:11:32 (CST).\n"
     ]
    }
   ],
   "source": [
    "def ts2dt(ts, format=DATETIME_FORMAT):\r\n",
    "    dt = (datetime.utcfromtimestamp(int(ts))\r\n",
    "                    .replace(tzinfo=tz.tzutc())\r\n",
    "                    # .astimezone(tz.tzlocal())\r\n",
    "                    .astimezone(tz.gettz(TIME_ZONE)))\r\n",
    "    return dt.strftime(format), dt\r\n",
    "\r\n",
    "_, newest_dt = ts2dt(newest_ts)\r\n",
    "print(f\"Recent query happens at {newest_dt.strftime(DATETIME_FORMAT)} ({newest_dt.tzname()}).\")"
   ]
  },
  {
   "cell_type": "code",
   "execution_count": 4,
   "metadata": {
    "execution": {
     "iopub.execute_input": "2021-10-02T07:11:40.000744Z",
     "iopub.status.busy": "2021-10-02T07:11:39.997136Z",
     "iopub.status.idle": "2021-10-02T07:11:40.004434Z",
     "shell.execute_reply": "2021-10-02T07:11:40.003852Z"
    }
   },
   "outputs": [],
   "source": [
    "def degrees_to_cardinal(d):\r\n",
    "  dirs = ['N', 'NNE', 'NE', 'ENE', 'E', 'ESE', 'SE', 'SSE', 'S', 'SSW', 'SW', 'WSW', 'W', 'WNW', 'NW', 'NNW']\r\n",
    "  ix = int(round(d / (360. / len(dirs))))\r\n",
    "  return dirs[ix % len(dirs)]"
   ]
  },
  {
   "cell_type": "code",
   "execution_count": 5,
   "metadata": {
    "execution": {
     "iopub.execute_input": "2021-10-02T07:11:40.012887Z",
     "iopub.status.busy": "2021-10-02T07:11:40.012080Z",
     "iopub.status.idle": "2021-10-02T07:11:40.014278Z",
     "shell.execute_reply": "2021-10-02T07:11:40.013631Z"
    }
   },
   "outputs": [],
   "source": [
    "# data.keys()"
   ]
  },
  {
   "cell_type": "code",
   "execution_count": 6,
   "metadata": {
    "execution": {
     "iopub.execute_input": "2021-10-02T07:11:40.020168Z",
     "iopub.status.busy": "2021-10-02T07:11:40.018219Z",
     "iopub.status.idle": "2021-10-02T07:11:40.022234Z",
     "shell.execute_reply": "2021-10-02T07:11:40.022821Z"
    }
   },
   "outputs": [],
   "source": [
    "# data['current']"
   ]
  },
  {
   "cell_type": "code",
   "execution_count": 7,
   "metadata": {
    "execution": {
     "iopub.execute_input": "2021-10-02T07:11:40.045729Z",
     "iopub.status.busy": "2021-10-02T07:11:40.044899Z",
     "iopub.status.idle": "2021-10-02T07:11:40.333035Z",
     "shell.execute_reply": "2021-10-02T07:11:40.333591Z"
    }
   },
   "outputs": [
    {
     "data": {
      "image/png": "[encoded data removed]",
      "text/plain": [
       "<Figure size 216x216 with 1 Axes>"
      ]
     },
     "metadata": {
      "needs_background": "light"
     },
     "output_type": "display_data"
    },
    {
     "name": "stdout",
     "output_type": "stream",
     "text": [
      "Today, sun rises at 06:14 and sets at 18:10.\n",
      "Currently, the weather is Clouds (few clouds).\n",
      "The temperature is 31.78°C and it feels like 38.42°C.\n",
      "The UV index is 4.8, humidity is 66%.\n",
      "The pressure is 1009 hPa, percentage of cloud cover is 20%\n",
      "The wind comes from SE direction with a speed 2.97 m/s.\n"
     ]
    }
   ],
   "source": [
    "current = data['current']\r\n",
    "\r\n",
    "fig, ax = plt.subplots(figsize=(3, 3))\r\n",
    "icon = requests.get(f\"http://openweathermap.org/img/wn/{current['weather'][0]['icon']}@2x.png\")\r\n",
    "im = Image.open(BytesIO(icon.content))\r\n",
    "plt.imshow(im)\r\n",
    "ax.set_axis_off()\r\n",
    "plt.show()\r\n",
    "\r\n",
    "print(f\"Today, sun rises at {ts2dt(current['sunrise'], '%H:%M')[0]} \\\r\n",
    "and sets at {ts2dt(current['sunset'], '%H:%M')[0]}.\\n\\\r\n",
    "Currently, the weather is {current['weather'][0]['main']} ({current['weather'][0]['description']}).\\n\\\r\n",
    "The temperature is {current['temp']}°C and it feels like {current['feels_like']}°C.\\n\\\r\n",
    "The UV index is {current['uvi']}, humidity is {current['humidity']}%.\\n\\\r\n",
    "The pressure is {current['pressure']} hPa, percentage of cloud cover is {current['clouds']}%\\n\\\r\n",
    "The wind comes from {degrees_to_cardinal(current['wind_deg'])} direction with a speed {current['wind_speed']} m/s.\")"
   ]
  },
  {
   "cell_type": "code",
   "execution_count": 8,
   "metadata": {
    "execution": {
     "iopub.execute_input": "2021-10-02T07:11:40.337021Z",
     "iopub.status.busy": "2021-10-02T07:11:40.336401Z",
     "iopub.status.idle": "2021-10-02T07:11:40.344426Z",
     "shell.execute_reply": "2021-10-02T07:11:40.345325Z"
    }
   },
   "outputs": [],
   "source": [
    "df_hourly = pd.DataFrame(data['hourly'])\r\n",
    "df_daily = pd.DataFrame(data['daily'])"
   ]
  },
  {
   "cell_type": "code",
   "execution_count": 9,
   "metadata": {
    "execution": {
     "iopub.execute_input": "2021-10-02T07:11:40.350021Z",
     "iopub.status.busy": "2021-10-02T07:11:40.348433Z",
     "iopub.status.idle": "2021-10-02T07:11:40.720971Z",
     "shell.execute_reply": "2021-10-02T07:11:40.720405Z"
    }
   },
   "outputs": [
    {
     "data": {
      "image/png": "[encoded data removed]",
      "text/plain": [
       "<Figure size 864x432 with 1 Axes>"
      ]
     },
     "metadata": {
      "needs_background": "light"
     },
     "output_type": "display_data"
    }
   ],
   "source": [
    "fig, ax = plt.subplots(figsize=(12, 6))\r\n",
    "plt.plot(df_hourly.temp, '.-', label='Temperature')\r\n",
    "plt.plot(df_hourly.feels_like, '.-', label='Feels Like')\r\n",
    "ax.set(title='Temperature in future 48 hours', xlabel='Time', ylabel='Temperature')\r\n",
    "ax.set_xticks(list(range(0, len(df_hourly), 2)))\r\n",
    "ax.set_xticklabels([ts2dt(ts, '%m-%d %H:%M')[0] for i, ts in enumerate(df_hourly.dt) if i%2==0], \r\n",
    "                   rotation=45, ha=\"right\")\r\n",
    "ax.locator_params(nbins=15, axis='y')\r\n",
    "plt.legend()\r\n",
    "plt.show()"
   ]
  },
  {
   "cell_type": "code",
   "execution_count": 10,
   "metadata": {
    "execution": {
     "iopub.execute_input": "2021-10-02T07:11:40.726378Z",
     "iopub.status.busy": "2021-10-02T07:11:40.725767Z",
     "iopub.status.idle": "2021-10-02T07:11:40.747863Z",
     "shell.execute_reply": "2021-10-02T07:11:40.748377Z"
    }
   },
   "outputs": [
    {
     "data": {
      "text/html": [
       "<div>\n",
       "<style scoped>\n",
       "    .dataframe tbody tr th:only-of-type {\n",
       "        vertical-align: middle;\n",
       "    }\n",
       "\n",
       "    .dataframe tbody tr th {\n",
       "        vertical-align: top;\n",
       "    }\n",
       "\n",
       "    .dataframe thead th {\n",
       "        text-align: right;\n",
       "    }\n",
       "</style>\n",
       "<table border=\"1\" class=\"dataframe\">\n",
       "  <thead>\n",
       "    <tr style=\"text-align: right;\">\n",
       "      <th></th>\n",
       "      <th>dt</th>\n",
       "      <th>temp</th>\n",
       "      <th>feels_like</th>\n",
       "      <th>pressure</th>\n",
       "      <th>humidity</th>\n",
       "      <th>dew_point</th>\n",
       "      <th>uvi</th>\n",
       "      <th>clouds</th>\n",
       "      <th>visibility</th>\n",
       "      <th>wind_speed</th>\n",
       "      <th>wind_deg</th>\n",
       "      <th>wind_gust</th>\n",
       "      <th>weather</th>\n",
       "      <th>pop</th>\n",
       "      <th>rain</th>\n",
       "    </tr>\n",
       "  </thead>\n",
       "  <tbody>\n",
       "    <tr>\n",
       "      <th>0</th>\n",
       "      <td>1633158000</td>\n",
       "      <td>31.78</td>\n",
       "      <td>38.42</td>\n",
       "      <td>1009</td>\n",
       "      <td>66</td>\n",
       "      <td>24.64</td>\n",
       "      <td>4.80</td>\n",
       "      <td>20</td>\n",
       "      <td>10000</td>\n",
       "      <td>2.97</td>\n",
       "      <td>129</td>\n",
       "      <td>2.75</td>\n",
       "      <td>[{'id': 801, 'main': 'Clouds', 'description': ...</td>\n",
       "      <td>0.14</td>\n",
       "      <td>NaN</td>\n",
       "    </tr>\n",
       "    <tr>\n",
       "      <th>1</th>\n",
       "      <td>1633161600</td>\n",
       "      <td>31.40</td>\n",
       "      <td>37.13</td>\n",
       "      <td>1009</td>\n",
       "      <td>65</td>\n",
       "      <td>24.02</td>\n",
       "      <td>2.32</td>\n",
       "      <td>19</td>\n",
       "      <td>10000</td>\n",
       "      <td>3.65</td>\n",
       "      <td>120</td>\n",
       "      <td>3.57</td>\n",
       "      <td>[{'id': 801, 'main': 'Clouds', 'description': ...</td>\n",
       "      <td>0.08</td>\n",
       "      <td>NaN</td>\n",
       "    </tr>\n",
       "    <tr>\n",
       "      <th>2</th>\n",
       "      <td>1633165200</td>\n",
       "      <td>30.78</td>\n",
       "      <td>36.17</td>\n",
       "      <td>1009</td>\n",
       "      <td>67</td>\n",
       "      <td>23.94</td>\n",
       "      <td>0.71</td>\n",
       "      <td>18</td>\n",
       "      <td>10000</td>\n",
       "      <td>4.16</td>\n",
       "      <td>118</td>\n",
       "      <td>4.37</td>\n",
       "      <td>[{'id': 801, 'main': 'Clouds', 'description': ...</td>\n",
       "      <td>0.04</td>\n",
       "      <td>NaN</td>\n",
       "    </tr>\n",
       "    <tr>\n",
       "      <th>3</th>\n",
       "      <td>1633168800</td>\n",
       "      <td>29.94</td>\n",
       "      <td>34.66</td>\n",
       "      <td>1010</td>\n",
       "      <td>69</td>\n",
       "      <td>23.63</td>\n",
       "      <td>0.00</td>\n",
       "      <td>16</td>\n",
       "      <td>10000</td>\n",
       "      <td>3.51</td>\n",
       "      <td>113</td>\n",
       "      <td>4.34</td>\n",
       "      <td>[{'id': 801, 'main': 'Clouds', 'description': ...</td>\n",
       "      <td>0.04</td>\n",
       "      <td>NaN</td>\n",
       "    </tr>\n",
       "    <tr>\n",
       "      <th>4</th>\n",
       "      <td>1633172400</td>\n",
       "      <td>29.10</td>\n",
       "      <td>33.14</td>\n",
       "      <td>1010</td>\n",
       "      <td>71</td>\n",
       "      <td>23.30</td>\n",
       "      <td>0.00</td>\n",
       "      <td>14</td>\n",
       "      <td>10000</td>\n",
       "      <td>3.76</td>\n",
       "      <td>111</td>\n",
       "      <td>4.71</td>\n",
       "      <td>[{'id': 801, 'main': 'Clouds', 'description': ...</td>\n",
       "      <td>0.04</td>\n",
       "      <td>NaN</td>\n",
       "    </tr>\n",
       "  </tbody>\n",
       "</table>\n",
       "</div>"
      ],
      "text/plain": [
       "           dt   temp  feels_like  pressure  humidity  dew_point   uvi  clouds  \\\n",
       "0  1633158000  31.78       38.42      1009        66      24.64  4.80      20   \n",
       "1  1633161600  31.40       37.13      1009        65      24.02  2.32      19   \n",
       "2  1633165200  30.78       36.17      1009        67      23.94  0.71      18   \n",
       "3  1633168800  29.94       34.66      1010        69      23.63  0.00      16   \n",
       "4  1633172400  29.10       33.14      1010        71      23.30  0.00      14   \n",
       "\n",
       "   visibility  wind_speed  wind_deg  wind_gust  \\\n",
       "0       10000        2.97       129       2.75   \n",
       "1       10000        3.65       120       3.57   \n",
       "2       10000        4.16       118       4.37   \n",
       "3       10000        3.51       113       4.34   \n",
       "4       10000        3.76       111       4.71   \n",
       "\n",
       "                                             weather   pop rain  \n",
       "0  [{'id': 801, 'main': 'Clouds', 'description': ...  0.14  NaN  \n",
       "1  [{'id': 801, 'main': 'Clouds', 'description': ...  0.08  NaN  \n",
       "2  [{'id': 801, 'main': 'Clouds', 'description': ...  0.04  NaN  \n",
       "3  [{'id': 801, 'main': 'Clouds', 'description': ...  0.04  NaN  \n",
       "4  [{'id': 801, 'main': 'Clouds', 'description': ...  0.04  NaN  "
      ]
     },
     "execution_count": 10,
     "metadata": {},
     "output_type": "execute_result"
    }
   ],
   "source": [
    "df_hourly.head()"
   ]
  },
  {
   "cell_type": "code",
   "execution_count": null,
   "metadata": {},
   "outputs": [],
   "source": []
  }
 ],
 "metadata": {
  "interpreter": {
   "hash": "c1b4cfe941b6d2466ad1fb5979e97da9cda8801728c8091b097ab734208fc00c"
  },
  "kernelspec": {
   "display_name": "Python 3.8.3 64-bit ('base': conda)",
   "name": "python3"
  },
  "language_info": {
   "codemirror_mode": {
    "name": "ipython",
    "version": 3
   },
   "file_extension": ".py",
   "mimetype": "text/x-python",
   "name": "python",
   "nbconvert_exporter": "python",
   "pygments_lexer": "ipython3",
   "version": "3.8.12"
  }
 },
 "nbformat": 4,
 "nbformat_minor": 2
}
