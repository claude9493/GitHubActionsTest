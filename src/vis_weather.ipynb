{
 "cells": [
  {
   "cell_type": "code",
   "execution_count": 1,
   "metadata": {
    "execution": {
     "iopub.execute_input": "2021-10-07T22:11:49.308317Z",
     "iopub.status.busy": "2021-10-07T22:11:49.307315Z",
     "iopub.status.idle": "2021-10-07T22:11:51.517242Z",
     "shell.execute_reply": "2021-10-07T22:11:51.517902Z"
    }
   },
   "outputs": [],
   "source": [
    "import json, yaml, requests\r\n",
    "from datetime import datetime\r\n",
    "from dateutil import tz\r\n",
    "import pandas as pd\r\n",
    "from PIL import Image\r\n",
    "from io import BytesIO\r\n",
    "import matplotlib.pyplot as plt\r\n",
    "import seaborn\r\n",
    "\r\n",
    "CONFIG_PATH = \"../config/config.yaml\""
   ]
  },
  {
   "cell_type": "code",
   "execution_count": 2,
   "metadata": {
    "execution": {
     "iopub.execute_input": "2021-10-07T22:11:51.527107Z",
     "iopub.status.busy": "2021-10-07T22:11:51.524520Z",
     "iopub.status.idle": "2021-10-07T22:11:51.531178Z",
     "shell.execute_reply": "2021-10-07T22:11:51.530508Z"
    }
   },
   "outputs": [],
   "source": [
    "with open('../newest_ts', 'r') as f:\r\n",
    "    newest_ts = f.read()\r\n",
    "\r\n",
    "data_path = f\"../data/data_{newest_ts}.json\"\r\n",
    "with open(data_path, 'r') as f:\r\n",
    "    data = json.load(f)\r\n",
    "\r\n",
    "with open(CONFIG_PATH, \"r\") as stream:\r\n",
    "    config = yaml.safe_load(stream)\r\n",
    "\r\n",
    "TIME_ZONE = config['time_zone']\r\n",
    "DATETIME_FORMAT = config['dt_format']"
   ]
  },
  {
   "cell_type": "code",
   "execution_count": 3,
   "metadata": {
    "execution": {
     "iopub.execute_input": "2021-10-07T22:11:51.537467Z",
     "iopub.status.busy": "2021-10-07T22:11:51.536776Z",
     "iopub.status.idle": "2021-10-07T22:11:51.548533Z",
     "shell.execute_reply": "2021-10-07T22:11:51.549047Z"
    }
   },
   "outputs": [
    {
     "name": "stdout",
     "output_type": "stream",
     "text": [
      "Recent query happens at 2021-10-08 06:11:44 (CST).\n"
     ]
    }
   ],
   "source": [
    "def ts2dt(ts, format=DATETIME_FORMAT):\r\n",
    "    dt = (datetime.utcfromtimestamp(int(ts))\r\n",
    "                    .replace(tzinfo=tz.tzutc())\r\n",
    "                    # .astimezone(tz.tzlocal())\r\n",
    "                    .astimezone(tz.gettz(TIME_ZONE)))\r\n",
    "    return dt.strftime(format), dt\r\n",
    "\r\n",
    "_, newest_dt = ts2dt(newest_ts)\r\n",
    "print(f\"Recent query happens at {newest_dt.strftime(DATETIME_FORMAT)} ({newest_dt.tzname()}).\")"
   ]
  },
  {
   "cell_type": "code",
   "execution_count": 4,
   "metadata": {
    "execution": {
     "iopub.execute_input": "2021-10-07T22:11:51.554309Z",
     "iopub.status.busy": "2021-10-07T22:11:51.551898Z",
     "iopub.status.idle": "2021-10-07T22:11:51.556539Z",
     "shell.execute_reply": "2021-10-07T22:11:51.557018Z"
    }
   },
   "outputs": [],
   "source": [
    "def degrees_to_cardinal(d):\r\n",
    "  dirs = ['N', 'NNE', 'NE', 'ENE', 'E', 'ESE', 'SE', 'SSE', 'S', 'SSW', 'SW', 'WSW', 'W', 'WNW', 'NW', 'NNW']\r\n",
    "  ix = int(round(d / (360. / len(dirs))))\r\n",
    "  return dirs[ix % len(dirs)]"
   ]
  },
  {
   "cell_type": "code",
   "execution_count": 5,
   "metadata": {
    "execution": {
     "iopub.execute_input": "2021-10-07T22:11:51.560491Z",
     "iopub.status.busy": "2021-10-07T22:11:51.559871Z",
     "iopub.status.idle": "2021-10-07T22:11:51.565152Z",
     "shell.execute_reply": "2021-10-07T22:11:51.565701Z"
    }
   },
   "outputs": [],
   "source": [
    "# data.keys()"
   ]
  },
  {
   "cell_type": "code",
   "execution_count": 6,
   "metadata": {
    "execution": {
     "iopub.execute_input": "2021-10-07T22:11:51.570125Z",
     "iopub.status.busy": "2021-10-07T22:11:51.568112Z",
     "iopub.status.idle": "2021-10-07T22:11:51.572641Z",
     "shell.execute_reply": "2021-10-07T22:11:51.573122Z"
    }
   },
   "outputs": [],
   "source": [
    "# data['current']"
   ]
  },
  {
   "cell_type": "code",
   "execution_count": 7,
   "metadata": {
    "execution": {
     "iopub.execute_input": "2021-10-07T22:11:51.605802Z",
     "iopub.status.busy": "2021-10-07T22:11:51.605117Z",
     "iopub.status.idle": "2021-10-07T22:11:52.051626Z",
     "shell.execute_reply": "2021-10-07T22:11:52.052752Z"
    }
   },
   "outputs": [
    {
     "data": {
      "image/png": "[encoded data removed]",
      "text/plain": [
       "<Figure size 216x216 with 1 Axes>"
      ]
     },
     "metadata": {
      "needs_background": "light"
     },
     "output_type": "display_data"
    },
    {
     "name": "stdout",
     "output_type": "stream",
     "text": [
      "Today, sun rises at 06:16 and sets at 18:04.\n",
      "Currently, the weather is Rain (heavy intensity rain).\n",
      "The temperature is 25.14°C and it feels like 26.19°C.\n",
      "The UV index is 0, humidity is 95%.\n",
      "The pressure is 1009 hPa, percentage of cloud cover is 100%\n",
      "The wind comes from W direction with a speed 1.34 m/s.\n"
     ]
    }
   ],
   "source": [
    "current = data['current']\r\n",
    "\r\n",
    "fig, ax = plt.subplots(figsize=(3, 3))\r\n",
    "icon = requests.get(f\"http://openweathermap.org/img/wn/{current['weather'][0]['icon']}@2x.png\")\r\n",
    "im = Image.open(BytesIO(icon.content))\r\n",
    "plt.imshow(im)\r\n",
    "ax.set_axis_off()\r\n",
    "plt.show()\r\n",
    "\r\n",
    "print(f\"Today, sun rises at {ts2dt(current['sunrise'], '%H:%M')[0]} \\\r\n",
    "and sets at {ts2dt(current['sunset'], '%H:%M')[0]}.\\n\\\r\n",
    "Currently, the weather is {current['weather'][0]['main']} ({current['weather'][0]['description']}).\\n\\\r\n",
    "The temperature is {current['temp']}°C and it feels like {current['feels_like']}°C.\\n\\\r\n",
    "The UV index is {current['uvi']}, humidity is {current['humidity']}%.\\n\\\r\n",
    "The pressure is {current['pressure']} hPa, percentage of cloud cover is {current['clouds']}%\\n\\\r\n",
    "The wind comes from {degrees_to_cardinal(current['wind_deg'])} direction with a speed {current['wind_speed']} m/s.\")"
   ]
  },
  {
   "cell_type": "code",
   "execution_count": 8,
   "metadata": {
    "execution": {
     "iopub.execute_input": "2021-10-07T22:11:52.065417Z",
     "iopub.status.busy": "2021-10-07T22:11:52.057186Z",
     "iopub.status.idle": "2021-10-07T22:11:52.068252Z",
     "shell.execute_reply": "2021-10-07T22:11:52.069066Z"
    }
   },
   "outputs": [],
   "source": [
    "df_hourly = pd.DataFrame(data['hourly'])\r\n",
    "df_daily = pd.DataFrame(data['daily'])"
   ]
  },
  {
   "cell_type": "code",
   "execution_count": 9,
   "metadata": {
    "execution": {
     "iopub.execute_input": "2021-10-07T22:11:52.074579Z",
     "iopub.status.busy": "2021-10-07T22:11:52.072578Z",
     "iopub.status.idle": "2021-10-07T22:11:52.508474Z",
     "shell.execute_reply": "2021-10-07T22:11:52.509455Z"
    }
   },
   "outputs": [
    {
     "data": {
      "image/png": "[encoded data removed]",
      "text/plain": [
       "<Figure size 864x432 with 1 Axes>"
      ]
     },
     "metadata": {
      "needs_background": "light"
     },
     "output_type": "display_data"
    }
   ],
   "source": [
    "fig, ax = plt.subplots(figsize=(12, 6))\r\n",
    "plt.plot(df_hourly.temp, '.-', label='Temperature')\r\n",
    "plt.plot(df_hourly.feels_like, '.-', label='Feels Like')\r\n",
    "ax.set(title='Temperature in future 48 hours', xlabel='Time', ylabel='Temperature')\r\n",
    "ax.set_xticks(list(range(0, len(df_hourly), 2)))\r\n",
    "ax.set_xticklabels([ts2dt(ts, '%m-%d %H:%M')[0] for i, ts in enumerate(df_hourly.dt) if i%2==0], \r\n",
    "                   rotation=45, ha=\"right\")\r\n",
    "ax.locator_params(nbins=15, axis='y')\r\n",
    "plt.legend()\r\n",
    "plt.show()"
   ]
  },
  {
   "cell_type": "code",
   "execution_count": 10,
   "metadata": {
    "execution": {
     "iopub.execute_input": "2021-10-07T22:11:52.517945Z",
     "iopub.status.busy": "2021-10-07T22:11:52.517050Z",
     "iopub.status.idle": "2021-10-07T22:11:52.548541Z",
     "shell.execute_reply": "2021-10-07T22:11:52.549123Z"
    }
   },
   "outputs": [
    {
     "data": {
      "text/html": [
       "<div>\n",
       "<style scoped>\n",
       "    .dataframe tbody tr th:only-of-type {\n",
       "        vertical-align: middle;\n",
       "    }\n",
       "\n",
       "    .dataframe tbody tr th {\n",
       "        vertical-align: top;\n",
       "    }\n",
       "\n",
       "    .dataframe thead th {\n",
       "        text-align: right;\n",
       "    }\n",
       "</style>\n",
       "<table border=\"1\" class=\"dataframe\">\n",
       "  <thead>\n",
       "    <tr style=\"text-align: right;\">\n",
       "      <th></th>\n",
       "      <th>dt</th>\n",
       "      <th>temp</th>\n",
       "      <th>feels_like</th>\n",
       "      <th>pressure</th>\n",
       "      <th>humidity</th>\n",
       "      <th>dew_point</th>\n",
       "      <th>uvi</th>\n",
       "      <th>clouds</th>\n",
       "      <th>visibility</th>\n",
       "      <th>wind_speed</th>\n",
       "      <th>wind_deg</th>\n",
       "      <th>wind_gust</th>\n",
       "      <th>weather</th>\n",
       "      <th>pop</th>\n",
       "      <th>rain</th>\n",
       "    </tr>\n",
       "  </thead>\n",
       "  <tbody>\n",
       "    <tr>\n",
       "      <th>0</th>\n",
       "      <td>1633644000</td>\n",
       "      <td>25.14</td>\n",
       "      <td>26.19</td>\n",
       "      <td>1009</td>\n",
       "      <td>95</td>\n",
       "      <td>24.28</td>\n",
       "      <td>0.00</td>\n",
       "      <td>100</td>\n",
       "      <td>467</td>\n",
       "      <td>8.06</td>\n",
       "      <td>84</td>\n",
       "      <td>12.76</td>\n",
       "      <td>[{'id': 502, 'main': 'Rain', 'description': 'h...</td>\n",
       "      <td>1.0</td>\n",
       "      <td>{'1h': 15.03}</td>\n",
       "    </tr>\n",
       "    <tr>\n",
       "      <th>1</th>\n",
       "      <td>1633647600</td>\n",
       "      <td>25.21</td>\n",
       "      <td>26.29</td>\n",
       "      <td>1008</td>\n",
       "      <td>96</td>\n",
       "      <td>24.53</td>\n",
       "      <td>0.00</td>\n",
       "      <td>100</td>\n",
       "      <td>671</td>\n",
       "      <td>10.98</td>\n",
       "      <td>76</td>\n",
       "      <td>16.15</td>\n",
       "      <td>[{'id': 804, 'main': 'Clouds', 'description': ...</td>\n",
       "      <td>0.8</td>\n",
       "      <td>NaN</td>\n",
       "    </tr>\n",
       "    <tr>\n",
       "      <th>2</th>\n",
       "      <td>1633651200</td>\n",
       "      <td>25.26</td>\n",
       "      <td>26.35</td>\n",
       "      <td>1007</td>\n",
       "      <td>96</td>\n",
       "      <td>24.58</td>\n",
       "      <td>0.05</td>\n",
       "      <td>100</td>\n",
       "      <td>2311</td>\n",
       "      <td>9.94</td>\n",
       "      <td>111</td>\n",
       "      <td>15.70</td>\n",
       "      <td>[{'id': 500, 'main': 'Rain', 'description': 'l...</td>\n",
       "      <td>1.0</td>\n",
       "      <td>{'1h': 0.21}</td>\n",
       "    </tr>\n",
       "    <tr>\n",
       "      <th>3</th>\n",
       "      <td>1633654800</td>\n",
       "      <td>25.55</td>\n",
       "      <td>26.59</td>\n",
       "      <td>1006</td>\n",
       "      <td>93</td>\n",
       "      <td>24.33</td>\n",
       "      <td>0.07</td>\n",
       "      <td>100</td>\n",
       "      <td>2581</td>\n",
       "      <td>8.76</td>\n",
       "      <td>123</td>\n",
       "      <td>12.58</td>\n",
       "      <td>[{'id': 502, 'main': 'Rain', 'description': 'h...</td>\n",
       "      <td>1.0</td>\n",
       "      <td>{'1h': 11.83}</td>\n",
       "    </tr>\n",
       "    <tr>\n",
       "      <th>4</th>\n",
       "      <td>1633658400</td>\n",
       "      <td>25.91</td>\n",
       "      <td>26.93</td>\n",
       "      <td>1007</td>\n",
       "      <td>91</td>\n",
       "      <td>24.33</td>\n",
       "      <td>0.13</td>\n",
       "      <td>100</td>\n",
       "      <td>3606</td>\n",
       "      <td>10.49</td>\n",
       "      <td>117</td>\n",
       "      <td>14.35</td>\n",
       "      <td>[{'id': 502, 'main': 'Rain', 'description': 'h...</td>\n",
       "      <td>1.0</td>\n",
       "      <td>{'1h': 8.72}</td>\n",
       "    </tr>\n",
       "  </tbody>\n",
       "</table>\n",
       "</div>"
      ],
      "text/plain": [
       "           dt   temp  feels_like  pressure  humidity  dew_point   uvi  clouds  \\\n",
       "0  1633644000  25.14       26.19      1009        95      24.28  0.00     100   \n",
       "1  1633647600  25.21       26.29      1008        96      24.53  0.00     100   \n",
       "2  1633651200  25.26       26.35      1007        96      24.58  0.05     100   \n",
       "3  1633654800  25.55       26.59      1006        93      24.33  0.07     100   \n",
       "4  1633658400  25.91       26.93      1007        91      24.33  0.13     100   \n",
       "\n",
       "   visibility  wind_speed  wind_deg  wind_gust  \\\n",
       "0         467        8.06        84      12.76   \n",
       "1         671       10.98        76      16.15   \n",
       "2        2311        9.94       111      15.70   \n",
       "3        2581        8.76       123      12.58   \n",
       "4        3606       10.49       117      14.35   \n",
       "\n",
       "                                             weather  pop           rain  \n",
       "0  [{'id': 502, 'main': 'Rain', 'description': 'h...  1.0  {'1h': 15.03}  \n",
       "1  [{'id': 804, 'main': 'Clouds', 'description': ...  0.8            NaN  \n",
       "2  [{'id': 500, 'main': 'Rain', 'description': 'l...  1.0   {'1h': 0.21}  \n",
       "3  [{'id': 502, 'main': 'Rain', 'description': 'h...  1.0  {'1h': 11.83}  \n",
       "4  [{'id': 502, 'main': 'Rain', 'description': 'h...  1.0   {'1h': 8.72}  "
      ]
     },
     "execution_count": 10,
     "metadata": {},
     "output_type": "execute_result"
    }
   ],
   "source": [
    "df_hourly.head()"
   ]
  },
  {
   "cell_type": "code",
   "execution_count": null,
   "metadata": {},
   "outputs": [],
   "source": []
  }
 ],
 "metadata": {
  "interpreter": {
   "hash": "c1b4cfe941b6d2466ad1fb5979e97da9cda8801728c8091b097ab734208fc00c"
  },
  "kernelspec": {
   "display_name": "Python 3.8.3 64-bit ('base': conda)",
   "name": "python3"
  },
  "language_info": {
   "codemirror_mode": {
    "name": "ipython",
    "version": 3
   },
   "file_extension": ".py",
   "mimetype": "text/x-python",
   "name": "python",
   "nbconvert_exporter": "python",
   "pygments_lexer": "ipython3",
   "version": "3.8.12"
  }
 },
 "nbformat": 4,
 "nbformat_minor": 2
}
