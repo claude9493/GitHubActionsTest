{
 "cells": [
  {
   "cell_type": "code",
   "execution_count": 1,
   "metadata": {
    "execution": {
     "iopub.execute_input": "2021-09-28T08:13:55.263531Z",
     "iopub.status.busy": "2021-09-28T08:13:55.262994Z",
     "iopub.status.idle": "2021-09-28T08:13:57.462770Z",
     "shell.execute_reply": "2021-09-28T08:13:57.461758Z"
    }
   },
   "outputs": [],
   "source": [
    "import json, yaml, requests\r\n",
    "from datetime import datetime\r\n",
    "from dateutil import tz\r\n",
    "import pandas as pd\r\n",
    "from PIL import Image\r\n",
    "from io import BytesIO\r\n",
    "import matplotlib.pyplot as plt\r\n",
    "import seaborn\r\n",
    "\r\n",
    "CONFIG_PATH = \"../config/config.yaml\""
   ]
  },
  {
   "cell_type": "code",
   "execution_count": 2,
   "metadata": {
    "execution": {
     "iopub.execute_input": "2021-09-28T08:13:57.470159Z",
     "iopub.status.busy": "2021-09-28T08:13:57.467365Z",
     "iopub.status.idle": "2021-09-28T08:13:57.473541Z",
     "shell.execute_reply": "2021-09-28T08:13:57.473124Z"
    }
   },
   "outputs": [],
   "source": [
    "with open('../newest_ts', 'r') as f:\r\n",
    "    newest_ts = f.read()\r\n",
    "\r\n",
    "data_path = f\"../data/data_{newest_ts}.json\"\r\n",
    "with open(data_path, 'r') as f:\r\n",
    "    data = json.load(f)\r\n",
    "\r\n",
    "with open(CONFIG_PATH, \"r\") as stream:\r\n",
    "    config = yaml.safe_load(stream)\r\n",
    "\r\n",
    "TIME_ZONE = config['time_zone']\r\n",
    "DATETIME_FORMAT = config['dt_format']"
   ]
  },
  {
   "cell_type": "code",
   "execution_count": 3,
   "metadata": {
    "execution": {
     "iopub.execute_input": "2021-09-28T08:13:57.478011Z",
     "iopub.status.busy": "2021-09-28T08:13:57.477533Z",
     "iopub.status.idle": "2021-09-28T08:13:57.489260Z",
     "shell.execute_reply": "2021-09-28T08:13:57.488843Z"
    }
   },
   "outputs": [
    {
     "name": "stdout",
     "output_type": "stream",
     "text": [
      "Recent query happens at 2021-09-28 16:13:52 (CST).\n"
     ]
    }
   ],
   "source": [
    "def ts2dt(ts, format=DATETIME_FORMAT):\r\n",
    "    dt = (datetime.utcfromtimestamp(int(ts))\r\n",
    "                    .replace(tzinfo=tz.tzutc())\r\n",
    "                    # .astimezone(tz.tzlocal())\r\n",
    "                    .astimezone(tz.gettz(TIME_ZONE)))\r\n",
    "    return dt.strftime(format), dt\r\n",
    "\r\n",
    "_, newest_dt = ts2dt(newest_ts)\r\n",
    "print(f\"Recent query happens at {newest_dt.strftime(DATETIME_FORMAT)} ({newest_dt.tzname()}).\")"
   ]
  },
  {
   "cell_type": "code",
   "execution_count": 4,
   "metadata": {
    "execution": {
     "iopub.execute_input": "2021-09-28T08:13:57.493255Z",
     "iopub.status.busy": "2021-09-28T08:13:57.492752Z",
     "iopub.status.idle": "2021-09-28T08:13:57.495236Z",
     "shell.execute_reply": "2021-09-28T08:13:57.494834Z"
    }
   },
   "outputs": [],
   "source": [
    "def degrees_to_cardinal(d):\r\n",
    "  dirs = ['N', 'NNE', 'NE', 'ENE', 'E', 'ESE', 'SE', 'SSE', 'S', 'SSW', 'SW', 'WSW', 'W', 'WNW', 'NW', 'NNW']\r\n",
    "  ix = int(round(d / (360. / len(dirs))))\r\n",
    "  return dirs[ix % len(dirs)]"
   ]
  },
  {
   "cell_type": "code",
   "execution_count": 5,
   "metadata": {
    "execution": {
     "iopub.execute_input": "2021-09-28T08:13:57.498283Z",
     "iopub.status.busy": "2021-09-28T08:13:57.497813Z",
     "iopub.status.idle": "2021-09-28T08:13:57.500961Z",
     "shell.execute_reply": "2021-09-28T08:13:57.500539Z"
    }
   },
   "outputs": [],
   "source": [
    "# data.keys()"
   ]
  },
  {
   "cell_type": "code",
   "execution_count": 6,
   "metadata": {
    "execution": {
     "iopub.execute_input": "2021-09-28T08:13:57.504685Z",
     "iopub.status.busy": "2021-09-28T08:13:57.503550Z",
     "iopub.status.idle": "2021-09-28T08:13:57.505232Z",
     "shell.execute_reply": "2021-09-28T08:13:57.505604Z"
    }
   },
   "outputs": [],
   "source": [
    "# data['current']"
   ]
  },
  {
   "cell_type": "code",
   "execution_count": 7,
   "metadata": {
    "execution": {
     "iopub.execute_input": "2021-09-28T08:13:57.510260Z",
     "iopub.status.busy": "2021-09-28T08:13:57.507433Z",
     "iopub.status.idle": "2021-09-28T08:13:57.914860Z",
     "shell.execute_reply": "2021-09-28T08:13:57.915534Z"
    }
   },
   "outputs": [
    {
     "data": {
      "image/png": "[encoded data removed]",
      "text/plain": [
       "<Figure size 216x216 with 1 Axes>"
      ]
     },
     "metadata": {
      "needs_background": "light"
     },
     "output_type": "display_data"
    },
    {
     "name": "stdout",
     "output_type": "stream",
     "text": [
      "Today, sun rises at 06:13 and sets at 18:13.\n",
      "Currently, the weather is Clouds (few clouds).\n",
      "The temperature is 31.3°C and it feels like 38.3°C.\n",
      "The UV index is 2.45, humidity is 77%.\n",
      "The pressure is 1004 hPa, percentage of cloud cover is 16%\n",
      "The wind comes from S direction with a speed 0.89 m/s.\n"
     ]
    }
   ],
   "source": [
    "current = data['current']\r\n",
    "\r\n",
    "fig, ax = plt.subplots(figsize=(3, 3))\r\n",
    "icon = requests.get(f\"http://openweathermap.org/img/wn/{current['weather'][0]['icon']}@2x.png\")\r\n",
    "im = Image.open(BytesIO(icon.content))\r\n",
    "plt.imshow(im)\r\n",
    "ax.set_axis_off()\r\n",
    "plt.show()\r\n",
    "\r\n",
    "print(f\"Today, sun rises at {ts2dt(current['sunrise'], '%H:%M')[0]} \\\r\n",
    "and sets at {ts2dt(current['sunset'], '%H:%M')[0]}.\\n\\\r\n",
    "Currently, the weather is {current['weather'][0]['main']} ({current['weather'][0]['description']}).\\n\\\r\n",
    "The temperature is {current['temp']}°C and it feels like {current['feels_like']}°C.\\n\\\r\n",
    "The UV index is {current['uvi']}, humidity is {current['humidity']}%.\\n\\\r\n",
    "The pressure is {current['pressure']} hPa, percentage of cloud cover is {current['clouds']}%\\n\\\r\n",
    "The wind comes from {degrees_to_cardinal(current['wind_deg'])} direction with a speed {current['wind_speed']} m/s.\")"
   ]
  },
  {
   "cell_type": "code",
   "execution_count": 8,
   "metadata": {
    "execution": {
     "iopub.execute_input": "2021-09-28T08:13:57.918616Z",
     "iopub.status.busy": "2021-09-28T08:13:57.918153Z",
     "iopub.status.idle": "2021-09-28T08:13:57.924533Z",
     "shell.execute_reply": "2021-09-28T08:13:57.925193Z"
    }
   },
   "outputs": [],
   "source": [
    "df_hourly = pd.DataFrame(data['hourly'])\r\n",
    "df_daily = pd.DataFrame(data['daily'])"
   ]
  },
  {
   "cell_type": "code",
   "execution_count": 9,
   "metadata": {
    "execution": {
     "iopub.execute_input": "2021-09-28T08:13:57.928136Z",
     "iopub.status.busy": "2021-09-28T08:13:57.927206Z",
     "iopub.status.idle": "2021-09-28T08:13:58.171182Z",
     "shell.execute_reply": "2021-09-28T08:13:58.171563Z"
    }
   },
   "outputs": [
    {
     "data": {
      "image/png": "[encoded data removed]",
      "text/plain": [
       "<Figure size 864x432 with 1 Axes>"
      ]
     },
     "metadata": {
      "needs_background": "light"
     },
     "output_type": "display_data"
    }
   ],
   "source": [
    "fig, ax = plt.subplots(figsize=(12, 6))\r\n",
    "plt.plot(df_hourly.temp, '.-', label='Temperature')\r\n",
    "plt.plot(df_hourly.feels_like, '.-', label='Feels Like')\r\n",
    "ax.set(title='Temperature in future 48 hours', xlabel='Time', ylabel='Temperature')\r\n",
    "ax.set_xticks(list(range(0, len(df_hourly), 2)))\r\n",
    "ax.set_xticklabels([ts2dt(ts, '%m-%d %H:%M')[0] for i, ts in enumerate(df_hourly.dt) if i%2==0], \r\n",
    "                   rotation=45, ha=\"right\")\r\n",
    "ax.locator_params(nbins=15, axis='y')\r\n",
    "plt.legend()\r\n",
    "plt.show()"
   ]
  },
  {
   "cell_type": "code",
   "execution_count": 10,
   "metadata": {
    "execution": {
     "iopub.execute_input": "2021-09-28T08:13:58.182541Z",
     "iopub.status.busy": "2021-09-28T08:13:58.175531Z",
     "iopub.status.idle": "2021-09-28T08:13:58.191432Z",
     "shell.execute_reply": "2021-09-28T08:13:58.191813Z"
    }
   },
   "outputs": [
    {
     "data": {
      "text/html": [
       "<div>\n",
       "<style scoped>\n",
       "    .dataframe tbody tr th:only-of-type {\n",
       "        vertical-align: middle;\n",
       "    }\n",
       "\n",
       "    .dataframe tbody tr th {\n",
       "        vertical-align: top;\n",
       "    }\n",
       "\n",
       "    .dataframe thead th {\n",
       "        text-align: right;\n",
       "    }\n",
       "</style>\n",
       "<table border=\"1\" class=\"dataframe\">\n",
       "  <thead>\n",
       "    <tr style=\"text-align: right;\">\n",
       "      <th></th>\n",
       "      <th>dt</th>\n",
       "      <th>temp</th>\n",
       "      <th>feels_like</th>\n",
       "      <th>pressure</th>\n",
       "      <th>humidity</th>\n",
       "      <th>dew_point</th>\n",
       "      <th>uvi</th>\n",
       "      <th>clouds</th>\n",
       "      <th>visibility</th>\n",
       "      <th>wind_speed</th>\n",
       "      <th>wind_deg</th>\n",
       "      <th>wind_gust</th>\n",
       "      <th>weather</th>\n",
       "      <th>pop</th>\n",
       "      <th>rain</th>\n",
       "    </tr>\n",
       "  </thead>\n",
       "  <tbody>\n",
       "    <tr>\n",
       "      <th>0</th>\n",
       "      <td>1632816000</td>\n",
       "      <td>31.30</td>\n",
       "      <td>38.30</td>\n",
       "      <td>1004</td>\n",
       "      <td>77</td>\n",
       "      <td>26.78</td>\n",
       "      <td>2.45</td>\n",
       "      <td>16</td>\n",
       "      <td>10000</td>\n",
       "      <td>2.71</td>\n",
       "      <td>148</td>\n",
       "      <td>1.98</td>\n",
       "      <td>[{'id': 801, 'main': 'Clouds', 'description': ...</td>\n",
       "      <td>0.0</td>\n",
       "      <td>NaN</td>\n",
       "    </tr>\n",
       "    <tr>\n",
       "      <th>1</th>\n",
       "      <td>1632819600</td>\n",
       "      <td>30.84</td>\n",
       "      <td>37.84</td>\n",
       "      <td>1005</td>\n",
       "      <td>76</td>\n",
       "      <td>26.11</td>\n",
       "      <td>0.77</td>\n",
       "      <td>17</td>\n",
       "      <td>10000</td>\n",
       "      <td>2.95</td>\n",
       "      <td>148</td>\n",
       "      <td>2.37</td>\n",
       "      <td>[{'id': 801, 'main': 'Clouds', 'description': ...</td>\n",
       "      <td>0.0</td>\n",
       "      <td>NaN</td>\n",
       "    </tr>\n",
       "    <tr>\n",
       "      <th>2</th>\n",
       "      <td>1632823200</td>\n",
       "      <td>30.10</td>\n",
       "      <td>36.85</td>\n",
       "      <td>1006</td>\n",
       "      <td>76</td>\n",
       "      <td>25.40</td>\n",
       "      <td>0.00</td>\n",
       "      <td>17</td>\n",
       "      <td>10000</td>\n",
       "      <td>3.28</td>\n",
       "      <td>152</td>\n",
       "      <td>3.19</td>\n",
       "      <td>[{'id': 801, 'main': 'Clouds', 'description': ...</td>\n",
       "      <td>0.0</td>\n",
       "      <td>NaN</td>\n",
       "    </tr>\n",
       "    <tr>\n",
       "      <th>3</th>\n",
       "      <td>1632826800</td>\n",
       "      <td>29.24</td>\n",
       "      <td>34.73</td>\n",
       "      <td>1006</td>\n",
       "      <td>77</td>\n",
       "      <td>24.79</td>\n",
       "      <td>0.00</td>\n",
       "      <td>15</td>\n",
       "      <td>10000</td>\n",
       "      <td>3.02</td>\n",
       "      <td>159</td>\n",
       "      <td>3.05</td>\n",
       "      <td>[{'id': 801, 'main': 'Clouds', 'description': ...</td>\n",
       "      <td>0.0</td>\n",
       "      <td>NaN</td>\n",
       "    </tr>\n",
       "    <tr>\n",
       "      <th>4</th>\n",
       "      <td>1632830400</td>\n",
       "      <td>28.44</td>\n",
       "      <td>32.69</td>\n",
       "      <td>1007</td>\n",
       "      <td>77</td>\n",
       "      <td>24.01</td>\n",
       "      <td>0.00</td>\n",
       "      <td>13</td>\n",
       "      <td>10000</td>\n",
       "      <td>2.80</td>\n",
       "      <td>155</td>\n",
       "      <td>2.90</td>\n",
       "      <td>[{'id': 801, 'main': 'Clouds', 'description': ...</td>\n",
       "      <td>0.0</td>\n",
       "      <td>NaN</td>\n",
       "    </tr>\n",
       "  </tbody>\n",
       "</table>\n",
       "</div>"
      ],
      "text/plain": [
       "           dt   temp  feels_like  pressure  humidity  dew_point   uvi  clouds  \\\n",
       "0  1632816000  31.30       38.30      1004        77      26.78  2.45      16   \n",
       "1  1632819600  30.84       37.84      1005        76      26.11  0.77      17   \n",
       "2  1632823200  30.10       36.85      1006        76      25.40  0.00      17   \n",
       "3  1632826800  29.24       34.73      1006        77      24.79  0.00      15   \n",
       "4  1632830400  28.44       32.69      1007        77      24.01  0.00      13   \n",
       "\n",
       "   visibility  wind_speed  wind_deg  wind_gust  \\\n",
       "0       10000        2.71       148       1.98   \n",
       "1       10000        2.95       148       2.37   \n",
       "2       10000        3.28       152       3.19   \n",
       "3       10000        3.02       159       3.05   \n",
       "4       10000        2.80       155       2.90   \n",
       "\n",
       "                                             weather  pop rain  \n",
       "0  [{'id': 801, 'main': 'Clouds', 'description': ...  0.0  NaN  \n",
       "1  [{'id': 801, 'main': 'Clouds', 'description': ...  0.0  NaN  \n",
       "2  [{'id': 801, 'main': 'Clouds', 'description': ...  0.0  NaN  \n",
       "3  [{'id': 801, 'main': 'Clouds', 'description': ...  0.0  NaN  \n",
       "4  [{'id': 801, 'main': 'Clouds', 'description': ...  0.0  NaN  "
      ]
     },
     "execution_count": 10,
     "metadata": {},
     "output_type": "execute_result"
    }
   ],
   "source": [
    "df_hourly.head()"
   ]
  },
  {
   "cell_type": "code",
   "execution_count": null,
   "metadata": {},
   "outputs": [],
   "source": []
  }
 ],
 "metadata": {
  "interpreter": {
   "hash": "c1b4cfe941b6d2466ad1fb5979e97da9cda8801728c8091b097ab734208fc00c"
  },
  "kernelspec": {
   "display_name": "Python 3.8.3 64-bit ('base': conda)",
   "name": "python3"
  },
  "language_info": {
   "codemirror_mode": {
    "name": "ipython",
    "version": 3
   },
   "file_extension": ".py",
   "mimetype": "text/x-python",
   "name": "python",
   "nbconvert_exporter": "python",
   "pygments_lexer": "ipython3",
   "version": "3.8.12"
  }
 },
 "nbformat": 4,
 "nbformat_minor": 2
}
