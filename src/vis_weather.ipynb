{
 "cells": [
  {
   "cell_type": "code",
   "execution_count": 1,
   "metadata": {
    "execution": {
     "iopub.execute_input": "2021-09-17T22:11:27.399491Z",
     "iopub.status.busy": "2021-09-17T22:11:27.398732Z",
     "iopub.status.idle": "2021-09-17T22:11:29.437694Z",
     "shell.execute_reply": "2021-09-17T22:11:29.437072Z"
    }
   },
   "outputs": [],
   "source": [
    "import json, yaml, requests\r\n",
    "from datetime import datetime\r\n",
    "from dateutil import tz\r\n",
    "import pandas as pd\r\n",
    "from PIL import Image\r\n",
    "from io import BytesIO\r\n",
    "import matplotlib.pyplot as plt\r\n",
    "import seaborn\r\n",
    "\r\n",
    "CONFIG_PATH = \"../config/config.yaml\""
   ]
  },
  {
   "cell_type": "code",
   "execution_count": 2,
   "metadata": {
    "execution": {
     "iopub.execute_input": "2021-09-17T22:11:29.443623Z",
     "iopub.status.busy": "2021-09-17T22:11:29.442390Z",
     "iopub.status.idle": "2021-09-17T22:11:29.450354Z",
     "shell.execute_reply": "2021-09-17T22:11:29.449669Z"
    }
   },
   "outputs": [],
   "source": [
    "with open('../newest_ts', 'r') as f:\r\n",
    "    newest_ts = f.read()\r\n",
    "\r\n",
    "data_path = f\"../data/data_{newest_ts}.json\"\r\n",
    "with open(data_path, 'r') as f:\r\n",
    "    data = json.load(f)\r\n",
    "\r\n",
    "with open(CONFIG_PATH, \"r\") as stream:\r\n",
    "    config = yaml.safe_load(stream)\r\n",
    "\r\n",
    "TIME_ZONE = config['time_zone']\r\n",
    "DATETIME_FORMAT = config['dt_format']"
   ]
  },
  {
   "cell_type": "code",
   "execution_count": 3,
   "metadata": {
    "execution": {
     "iopub.execute_input": "2021-09-17T22:11:29.457325Z",
     "iopub.status.busy": "2021-09-17T22:11:29.455027Z",
     "iopub.status.idle": "2021-09-17T22:11:29.460752Z",
     "shell.execute_reply": "2021-09-17T22:11:29.461218Z"
    }
   },
   "outputs": [
    {
     "name": "stdout",
     "output_type": "stream",
     "text": [
      "Recent query happens at 2021-09-18 06:11:23 (CST).\n"
     ]
    }
   ],
   "source": [
    "def ts2dt(ts, format=DATETIME_FORMAT):\r\n",
    "    dt = (datetime.utcfromtimestamp(int(ts))\r\n",
    "                    .replace(tzinfo=tz.tzutc())\r\n",
    "                    # .astimezone(tz.tzlocal())\r\n",
    "                    .astimezone(tz.gettz(TIME_ZONE)))\r\n",
    "    return dt.strftime(format), dt\r\n",
    "\r\n",
    "_, newest_dt = ts2dt(newest_ts)\r\n",
    "print(f\"Recent query happens at {newest_dt.strftime(DATETIME_FORMAT)} ({newest_dt.tzname()}).\")"
   ]
  },
  {
   "cell_type": "code",
   "execution_count": 4,
   "metadata": {
    "execution": {
     "iopub.execute_input": "2021-09-17T22:11:29.467306Z",
     "iopub.status.busy": "2021-09-17T22:11:29.465922Z",
     "iopub.status.idle": "2021-09-17T22:11:29.467926Z",
     "shell.execute_reply": "2021-09-17T22:11:29.468431Z"
    }
   },
   "outputs": [],
   "source": [
    "def degrees_to_cardinal(d):\r\n",
    "  dirs = ['N', 'NNE', 'NE', 'ENE', 'E', 'ESE', 'SE', 'SSE', 'S', 'SSW', 'SW', 'WSW', 'W', 'WNW', 'NW', 'NNW']\r\n",
    "  ix = int(round(d / (360. / len(dirs))))\r\n",
    "  return dirs[ix % len(dirs)]"
   ]
  },
  {
   "cell_type": "code",
   "execution_count": 5,
   "metadata": {
    "execution": {
     "iopub.execute_input": "2021-09-17T22:11:29.473232Z",
     "iopub.status.busy": "2021-09-17T22:11:29.471882Z",
     "iopub.status.idle": "2021-09-17T22:11:29.473840Z",
     "shell.execute_reply": "2021-09-17T22:11:29.474310Z"
    }
   },
   "outputs": [],
   "source": [
    "# data.keys()"
   ]
  },
  {
   "cell_type": "code",
   "execution_count": 6,
   "metadata": {
    "execution": {
     "iopub.execute_input": "2021-09-17T22:11:29.479522Z",
     "iopub.status.busy": "2021-09-17T22:11:29.477845Z",
     "iopub.status.idle": "2021-09-17T22:11:29.480132Z",
     "shell.execute_reply": "2021-09-17T22:11:29.480639Z"
    }
   },
   "outputs": [],
   "source": [
    "# data['current']"
   ]
  },
  {
   "cell_type": "code",
   "execution_count": 7,
   "metadata": {
    "execution": {
     "iopub.execute_input": "2021-09-17T22:11:29.501627Z",
     "iopub.status.busy": "2021-09-17T22:11:29.501064Z",
     "iopub.status.idle": "2021-09-17T22:11:30.137914Z",
     "shell.execute_reply": "2021-09-17T22:11:30.138781Z"
    }
   },
   "outputs": [
    {
     "data": {
      "image/png": "[encoded data removed]",
      "text/plain": [
       "<Figure size 216x216 with 1 Axes>"
      ]
     },
     "metadata": {
      "needs_background": "light"
     },
     "output_type": "display_data"
    },
    {
     "name": "stdout",
     "output_type": "stream",
     "text": [
      "Today, sun rises at 06:10 and sets at 18:24.\n",
      "Currently, the weather is Clouds (few clouds).\n",
      "The temperature is 29.34°C and it feels like 36.34°C.\n",
      "The UV index is 0, humidity is 85%.\n",
      "The pressure is 1010 hPa, percentage of cloud cover is 21%\n",
      "The wind comes from E direction with a speed 3.11 m/s.\n"
     ]
    }
   ],
   "source": [
    "current = data['current']\r\n",
    "\r\n",
    "fig, ax = plt.subplots(figsize=(3, 3))\r\n",
    "icon = requests.get(f\"http://openweathermap.org/img/wn/{current['weather'][0]['icon']}@2x.png\")\r\n",
    "im = Image.open(BytesIO(icon.content))\r\n",
    "plt.imshow(im)\r\n",
    "ax.set_axis_off()\r\n",
    "plt.show()\r\n",
    "\r\n",
    "print(f\"Today, sun rises at {ts2dt(current['sunrise'], '%H:%M')[0]} \\\r\n",
    "and sets at {ts2dt(current['sunset'], '%H:%M')[0]}.\\n\\\r\n",
    "Currently, the weather is {current['weather'][0]['main']} ({current['weather'][0]['description']}).\\n\\\r\n",
    "The temperature is {current['temp']}°C and it feels like {current['feels_like']}°C.\\n\\\r\n",
    "The UV index is {current['uvi']}, humidity is {current['humidity']}%.\\n\\\r\n",
    "The pressure is {current['pressure']} hPa, percentage of cloud cover is {current['clouds']}%\\n\\\r\n",
    "The wind comes from {degrees_to_cardinal(current['wind_deg'])} direction with a speed {current['wind_speed']} m/s.\")"
   ]
  },
  {
   "cell_type": "code",
   "execution_count": 8,
   "metadata": {
    "execution": {
     "iopub.execute_input": "2021-09-17T22:11:30.142799Z",
     "iopub.status.busy": "2021-09-17T22:11:30.141785Z",
     "iopub.status.idle": "2021-09-17T22:11:30.149658Z",
     "shell.execute_reply": "2021-09-17T22:11:30.150346Z"
    }
   },
   "outputs": [],
   "source": [
    "df_hourly = pd.DataFrame(data['hourly'])\r\n",
    "df_daily = pd.DataFrame(data['daily'])"
   ]
  },
  {
   "cell_type": "code",
   "execution_count": 9,
   "metadata": {
    "execution": {
     "iopub.execute_input": "2021-09-17T22:11:30.154338Z",
     "iopub.status.busy": "2021-09-17T22:11:30.153121Z",
     "iopub.status.idle": "2021-09-17T22:11:30.502647Z",
     "shell.execute_reply": "2021-09-17T22:11:30.502106Z"
    }
   },
   "outputs": [
    {
     "data": {
      "image/png": "[encoded data removed]",
      "text/plain": [
       "<Figure size 864x432 with 1 Axes>"
      ]
     },
     "metadata": {
      "needs_background": "light"
     },
     "output_type": "display_data"
    }
   ],
   "source": [
    "fig, ax = plt.subplots(figsize=(12, 6))\r\n",
    "plt.plot(df_hourly.temp, '.-', label='Temperature')\r\n",
    "plt.plot(df_hourly.feels_like, '.-', label='Feels Like')\r\n",
    "ax.set(title='Temperature in future 48 hours', xlabel='Time', ylabel='Temperature')\r\n",
    "ax.set_xticks(list(range(0, len(df_hourly), 2)))\r\n",
    "ax.set_xticklabels([ts2dt(ts, '%m-%d %H:%M')[0] for i, ts in enumerate(df_hourly.dt) if i%2==0], \r\n",
    "                   rotation=45, ha=\"right\")\r\n",
    "ax.locator_params(nbins=15, axis='y')\r\n",
    "plt.legend()\r\n",
    "plt.show()"
   ]
  },
  {
   "cell_type": "code",
   "execution_count": 10,
   "metadata": {
    "execution": {
     "iopub.execute_input": "2021-09-17T22:11:30.516011Z",
     "iopub.status.busy": "2021-09-17T22:11:30.507299Z",
     "iopub.status.idle": "2021-09-17T22:11:30.529549Z",
     "shell.execute_reply": "2021-09-17T22:11:30.529976Z"
    }
   },
   "outputs": [
    {
     "data": {
      "text/html": [
       "<div>\n",
       "<style scoped>\n",
       "    .dataframe tbody tr th:only-of-type {\n",
       "        vertical-align: middle;\n",
       "    }\n",
       "\n",
       "    .dataframe tbody tr th {\n",
       "        vertical-align: top;\n",
       "    }\n",
       "\n",
       "    .dataframe thead th {\n",
       "        text-align: right;\n",
       "    }\n",
       "</style>\n",
       "<table border=\"1\" class=\"dataframe\">\n",
       "  <thead>\n",
       "    <tr style=\"text-align: right;\">\n",
       "      <th></th>\n",
       "      <th>dt</th>\n",
       "      <th>temp</th>\n",
       "      <th>feels_like</th>\n",
       "      <th>pressure</th>\n",
       "      <th>humidity</th>\n",
       "      <th>dew_point</th>\n",
       "      <th>uvi</th>\n",
       "      <th>clouds</th>\n",
       "      <th>visibility</th>\n",
       "      <th>wind_speed</th>\n",
       "      <th>wind_deg</th>\n",
       "      <th>wind_gust</th>\n",
       "      <th>weather</th>\n",
       "      <th>pop</th>\n",
       "      <th>rain</th>\n",
       "    </tr>\n",
       "  </thead>\n",
       "  <tbody>\n",
       "    <tr>\n",
       "      <th>0</th>\n",
       "      <td>1631916000</td>\n",
       "      <td>29.34</td>\n",
       "      <td>36.34</td>\n",
       "      <td>1010</td>\n",
       "      <td>85</td>\n",
       "      <td>26.55</td>\n",
       "      <td>0.00</td>\n",
       "      <td>21</td>\n",
       "      <td>10000</td>\n",
       "      <td>3.11</td>\n",
       "      <td>93</td>\n",
       "      <td>4.41</td>\n",
       "      <td>[{'id': 501, 'main': 'Rain', 'description': 'm...</td>\n",
       "      <td>0.68</td>\n",
       "      <td>{'1h': 1.16}</td>\n",
       "    </tr>\n",
       "    <tr>\n",
       "      <th>1</th>\n",
       "      <td>1631919600</td>\n",
       "      <td>28.98</td>\n",
       "      <td>35.58</td>\n",
       "      <td>1010</td>\n",
       "      <td>84</td>\n",
       "      <td>26.00</td>\n",
       "      <td>0.22</td>\n",
       "      <td>22</td>\n",
       "      <td>10000</td>\n",
       "      <td>3.45</td>\n",
       "      <td>83</td>\n",
       "      <td>4.83</td>\n",
       "      <td>[{'id': 500, 'main': 'Rain', 'description': 'l...</td>\n",
       "      <td>0.80</td>\n",
       "      <td>{'1h': 0.13}</td>\n",
       "    </tr>\n",
       "    <tr>\n",
       "      <th>2</th>\n",
       "      <td>1631923200</td>\n",
       "      <td>28.93</td>\n",
       "      <td>34.98</td>\n",
       "      <td>1010</td>\n",
       "      <td>82</td>\n",
       "      <td>25.54</td>\n",
       "      <td>1.19</td>\n",
       "      <td>24</td>\n",
       "      <td>10000</td>\n",
       "      <td>4.30</td>\n",
       "      <td>83</td>\n",
       "      <td>5.28</td>\n",
       "      <td>[{'id': 801, 'main': 'Clouds', 'description': ...</td>\n",
       "      <td>0.72</td>\n",
       "      <td>NaN</td>\n",
       "    </tr>\n",
       "    <tr>\n",
       "      <th>3</th>\n",
       "      <td>1631926800</td>\n",
       "      <td>28.99</td>\n",
       "      <td>34.50</td>\n",
       "      <td>1011</td>\n",
       "      <td>79</td>\n",
       "      <td>24.98</td>\n",
       "      <td>3.17</td>\n",
       "      <td>43</td>\n",
       "      <td>10000</td>\n",
       "      <td>4.39</td>\n",
       "      <td>88</td>\n",
       "      <td>5.46</td>\n",
       "      <td>[{'id': 500, 'main': 'Rain', 'description': 'l...</td>\n",
       "      <td>0.86</td>\n",
       "      <td>{'1h': 0.23}</td>\n",
       "    </tr>\n",
       "    <tr>\n",
       "      <th>4</th>\n",
       "      <td>1631930400</td>\n",
       "      <td>29.18</td>\n",
       "      <td>34.57</td>\n",
       "      <td>1012</td>\n",
       "      <td>77</td>\n",
       "      <td>24.73</td>\n",
       "      <td>5.92</td>\n",
       "      <td>55</td>\n",
       "      <td>10000</td>\n",
       "      <td>4.69</td>\n",
       "      <td>90</td>\n",
       "      <td>5.62</td>\n",
       "      <td>[{'id': 803, 'main': 'Clouds', 'description': ...</td>\n",
       "      <td>0.89</td>\n",
       "      <td>NaN</td>\n",
       "    </tr>\n",
       "  </tbody>\n",
       "</table>\n",
       "</div>"
      ],
      "text/plain": [
       "           dt   temp  feels_like  pressure  humidity  dew_point   uvi  clouds  \\\n",
       "0  1631916000  29.34       36.34      1010        85      26.55  0.00      21   \n",
       "1  1631919600  28.98       35.58      1010        84      26.00  0.22      22   \n",
       "2  1631923200  28.93       34.98      1010        82      25.54  1.19      24   \n",
       "3  1631926800  28.99       34.50      1011        79      24.98  3.17      43   \n",
       "4  1631930400  29.18       34.57      1012        77      24.73  5.92      55   \n",
       "\n",
       "   visibility  wind_speed  wind_deg  wind_gust  \\\n",
       "0       10000        3.11        93       4.41   \n",
       "1       10000        3.45        83       4.83   \n",
       "2       10000        4.30        83       5.28   \n",
       "3       10000        4.39        88       5.46   \n",
       "4       10000        4.69        90       5.62   \n",
       "\n",
       "                                             weather   pop          rain  \n",
       "0  [{'id': 501, 'main': 'Rain', 'description': 'm...  0.68  {'1h': 1.16}  \n",
       "1  [{'id': 500, 'main': 'Rain', 'description': 'l...  0.80  {'1h': 0.13}  \n",
       "2  [{'id': 801, 'main': 'Clouds', 'description': ...  0.72           NaN  \n",
       "3  [{'id': 500, 'main': 'Rain', 'description': 'l...  0.86  {'1h': 0.23}  \n",
       "4  [{'id': 803, 'main': 'Clouds', 'description': ...  0.89           NaN  "
      ]
     },
     "execution_count": 10,
     "metadata": {},
     "output_type": "execute_result"
    }
   ],
   "source": [
    "df_hourly.head()"
   ]
  },
  {
   "cell_type": "code",
   "execution_count": null,
   "metadata": {},
   "outputs": [],
   "source": []
  }
 ],
 "metadata": {
  "interpreter": {
   "hash": "c1b4cfe941b6d2466ad1fb5979e97da9cda8801728c8091b097ab734208fc00c"
  },
  "kernelspec": {
   "display_name": "Python 3.8.3 64-bit ('base': conda)",
   "name": "python3"
  },
  "language_info": {
   "codemirror_mode": {
    "name": "ipython",
    "version": 3
   },
   "file_extension": ".py",
   "mimetype": "text/x-python",
   "name": "python",
   "nbconvert_exporter": "python",
   "pygments_lexer": "ipython3",
   "version": "3.8.11"
  }
 },
 "nbformat": 4,
 "nbformat_minor": 2
}
