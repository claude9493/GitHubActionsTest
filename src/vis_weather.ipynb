{
 "cells": [
  {
   "cell_type": "code",
   "execution_count": 1,
   "metadata": {
    "execution": {
     "iopub.execute_input": "2021-10-17T03:12:13.422327Z",
     "iopub.status.busy": "2021-10-17T03:12:13.421736Z",
     "iopub.status.idle": "2021-10-17T03:12:15.472121Z",
     "shell.execute_reply": "2021-10-17T03:12:15.472579Z"
    }
   },
   "outputs": [],
   "source": [
    "import json, yaml, requests\r\n",
    "from datetime import datetime\r\n",
    "from dateutil import tz\r\n",
    "import pandas as pd\r\n",
    "from PIL import Image\r\n",
    "from io import BytesIO\r\n",
    "import matplotlib.pyplot as plt\r\n",
    "import seaborn\r\n",
    "\r\n",
    "CONFIG_PATH = \"../config/config.yaml\""
   ]
  },
  {
   "cell_type": "code",
   "execution_count": 2,
   "metadata": {
    "execution": {
     "iopub.execute_input": "2021-10-17T03:12:15.477224Z",
     "iopub.status.busy": "2021-10-17T03:12:15.475057Z",
     "iopub.status.idle": "2021-10-17T03:12:15.482126Z",
     "shell.execute_reply": "2021-10-17T03:12:15.481726Z"
    }
   },
   "outputs": [],
   "source": [
    "with open('../newest_ts', 'r') as f:\r\n",
    "    newest_ts = f.read()\r\n",
    "\r\n",
    "data_path = f\"../data/data_{newest_ts}.json\"\r\n",
    "with open(data_path, 'r') as f:\r\n",
    "    data = json.load(f)\r\n",
    "\r\n",
    "with open(CONFIG_PATH, \"r\") as stream:\r\n",
    "    config = yaml.safe_load(stream)\r\n",
    "\r\n",
    "TIME_ZONE = config['time_zone']\r\n",
    "DATETIME_FORMAT = config['dt_format']"
   ]
  },
  {
   "cell_type": "code",
   "execution_count": 3,
   "metadata": {
    "execution": {
     "iopub.execute_input": "2021-10-17T03:12:15.486291Z",
     "iopub.status.busy": "2021-10-17T03:12:15.485831Z",
     "iopub.status.idle": "2021-10-17T03:12:15.491321Z",
     "shell.execute_reply": "2021-10-17T03:12:15.491691Z"
    }
   },
   "outputs": [
    {
     "name": "stdout",
     "output_type": "stream",
     "text": [
      "Recent query happens at 2021-10-17 11:12:10 (CST).\n"
     ]
    }
   ],
   "source": [
    "def ts2dt(ts, format=DATETIME_FORMAT):\r\n",
    "    dt = (datetime.utcfromtimestamp(int(ts))\r\n",
    "                    .replace(tzinfo=tz.tzutc())\r\n",
    "                    # .astimezone(tz.tzlocal())\r\n",
    "                    .astimezone(tz.gettz(TIME_ZONE)))\r\n",
    "    return dt.strftime(format), dt\r\n",
    "\r\n",
    "_, newest_dt = ts2dt(newest_ts)\r\n",
    "print(f\"Recent query happens at {newest_dt.strftime(DATETIME_FORMAT)} ({newest_dt.tzname()}).\")"
   ]
  },
  {
   "cell_type": "code",
   "execution_count": 4,
   "metadata": {
    "execution": {
     "iopub.execute_input": "2021-10-17T03:12:15.496732Z",
     "iopub.status.busy": "2021-10-17T03:12:15.495569Z",
     "iopub.status.idle": "2021-10-17T03:12:15.497284Z",
     "shell.execute_reply": "2021-10-17T03:12:15.497658Z"
    }
   },
   "outputs": [],
   "source": [
    "def degrees_to_cardinal(d):\r\n",
    "  dirs = ['N', 'NNE', 'NE', 'ENE', 'E', 'ESE', 'SE', 'SSE', 'S', 'SSW', 'SW', 'WSW', 'W', 'WNW', 'NW', 'NNW']\r\n",
    "  ix = int(round(d / (360. / len(dirs))))\r\n",
    "  return dirs[ix % len(dirs)]"
   ]
  },
  {
   "cell_type": "code",
   "execution_count": 5,
   "metadata": {
    "execution": {
     "iopub.execute_input": "2021-10-17T03:12:15.501430Z",
     "iopub.status.busy": "2021-10-17T03:12:15.500481Z",
     "iopub.status.idle": "2021-10-17T03:12:15.502477Z",
     "shell.execute_reply": "2021-10-17T03:12:15.502101Z"
    }
   },
   "outputs": [],
   "source": [
    "# data.keys()"
   ]
  },
  {
   "cell_type": "code",
   "execution_count": 6,
   "metadata": {
    "execution": {
     "iopub.execute_input": "2021-10-17T03:12:15.505220Z",
     "iopub.status.busy": "2021-10-17T03:12:15.504746Z",
     "iopub.status.idle": "2021-10-17T03:12:15.506457Z",
     "shell.execute_reply": "2021-10-17T03:12:15.506803Z"
    }
   },
   "outputs": [],
   "source": [
    "# data['current']"
   ]
  },
  {
   "cell_type": "code",
   "execution_count": 7,
   "metadata": {
    "execution": {
     "iopub.execute_input": "2021-10-17T03:12:15.523410Z",
     "iopub.status.busy": "2021-10-17T03:12:15.522940Z",
     "iopub.status.idle": "2021-10-17T03:12:15.800117Z",
     "shell.execute_reply": "2021-10-17T03:12:15.800497Z"
    }
   },
   "outputs": [
    {
     "data": {
      "image/png": "[encoded data removed]",
      "text/plain": [
       "<Figure size 216x216 with 1 Axes>"
      ]
     },
     "metadata": {
      "needs_background": "light"
     },
     "output_type": "display_data"
    },
    {
     "name": "stdout",
     "output_type": "stream",
     "text": [
      "Today, sun rises at 06:19 and sets at 17:56.\n",
      "Currently, the weather is Clouds (few clouds).\n",
      "The temperature is 25.44°C and it feels like 25.89°C.\n",
      "The UV index is 6.97, humidity is 71%.\n",
      "The pressure is 1027 hPa, percentage of cloud cover is 12%\n",
      "The wind comes from NE direction with a speed 5.36 m/s.\n"
     ]
    }
   ],
   "source": [
    "current = data['current']\r\n",
    "\r\n",
    "fig, ax = plt.subplots(figsize=(3, 3))\r\n",
    "icon = requests.get(f\"http://openweathermap.org/img/wn/{current['weather'][0]['icon']}@2x.png\")\r\n",
    "im = Image.open(BytesIO(icon.content))\r\n",
    "plt.imshow(im)\r\n",
    "ax.set_axis_off()\r\n",
    "plt.show()\r\n",
    "\r\n",
    "print(f\"Today, sun rises at {ts2dt(current['sunrise'], '%H:%M')[0]} \\\r\n",
    "and sets at {ts2dt(current['sunset'], '%H:%M')[0]}.\\n\\\r\n",
    "Currently, the weather is {current['weather'][0]['main']} ({current['weather'][0]['description']}).\\n\\\r\n",
    "The temperature is {current['temp']}°C and it feels like {current['feels_like']}°C.\\n\\\r\n",
    "The UV index is {current['uvi']}, humidity is {current['humidity']}%.\\n\\\r\n",
    "The pressure is {current['pressure']} hPa, percentage of cloud cover is {current['clouds']}%\\n\\\r\n",
    "The wind comes from {degrees_to_cardinal(current['wind_deg'])} direction with a speed {current['wind_speed']} m/s.\")"
   ]
  },
  {
   "cell_type": "code",
   "execution_count": 8,
   "metadata": {
    "execution": {
     "iopub.execute_input": "2021-10-17T03:12:15.807964Z",
     "iopub.status.busy": "2021-10-17T03:12:15.806923Z",
     "iopub.status.idle": "2021-10-17T03:12:15.808567Z",
     "shell.execute_reply": "2021-10-17T03:12:15.808935Z"
    }
   },
   "outputs": [],
   "source": [
    "df_hourly = pd.DataFrame(data['hourly'])\r\n",
    "df_daily = pd.DataFrame(data['daily'])"
   ]
  },
  {
   "cell_type": "code",
   "execution_count": 9,
   "metadata": {
    "execution": {
     "iopub.execute_input": "2021-10-17T03:12:15.825395Z",
     "iopub.status.busy": "2021-10-17T03:12:15.820691Z",
     "iopub.status.idle": "2021-10-17T03:12:16.062460Z",
     "shell.execute_reply": "2021-10-17T03:12:16.062894Z"
    }
   },
   "outputs": [
    {
     "data": {
      "image/png": "[encoded data removed]",
      "text/plain": [
       "<Figure size 864x432 with 1 Axes>"
      ]
     },
     "metadata": {
      "needs_background": "light"
     },
     "output_type": "display_data"
    }
   ],
   "source": [
    "fig, ax = plt.subplots(figsize=(12, 6))\r\n",
    "plt.plot(df_hourly.temp, '.-', label='Temperature')\r\n",
    "plt.plot(df_hourly.feels_like, '.-', label='Feels Like')\r\n",
    "ax.set(title='Temperature in future 48 hours', xlabel='Time', ylabel='Temperature')\r\n",
    "ax.set_xticks(list(range(0, len(df_hourly), 2)))\r\n",
    "ax.set_xticklabels([ts2dt(ts, '%m-%d %H:%M')[0] for i, ts in enumerate(df_hourly.dt) if i%2==0], \r\n",
    "                   rotation=45, ha=\"right\")\r\n",
    "ax.locator_params(nbins=15, axis='y')\r\n",
    "plt.legend()\r\n",
    "plt.show()"
   ]
  },
  {
   "cell_type": "code",
   "execution_count": 10,
   "metadata": {
    "execution": {
     "iopub.execute_input": "2021-10-17T03:12:16.073714Z",
     "iopub.status.busy": "2021-10-17T03:12:16.066831Z",
     "iopub.status.idle": "2021-10-17T03:12:16.083639Z",
     "shell.execute_reply": "2021-10-17T03:12:16.083205Z"
    }
   },
   "outputs": [
    {
     "data": {
      "text/html": [
       "<div>\n",
       "<style scoped>\n",
       "    .dataframe tbody tr th:only-of-type {\n",
       "        vertical-align: middle;\n",
       "    }\n",
       "\n",
       "    .dataframe tbody tr th {\n",
       "        vertical-align: top;\n",
       "    }\n",
       "\n",
       "    .dataframe thead th {\n",
       "        text-align: right;\n",
       "    }\n",
       "</style>\n",
       "<table border=\"1\" class=\"dataframe\">\n",
       "  <thead>\n",
       "    <tr style=\"text-align: right;\">\n",
       "      <th></th>\n",
       "      <th>dt</th>\n",
       "      <th>temp</th>\n",
       "      <th>feels_like</th>\n",
       "      <th>pressure</th>\n",
       "      <th>humidity</th>\n",
       "      <th>dew_point</th>\n",
       "      <th>uvi</th>\n",
       "      <th>clouds</th>\n",
       "      <th>visibility</th>\n",
       "      <th>wind_speed</th>\n",
       "      <th>wind_deg</th>\n",
       "      <th>wind_gust</th>\n",
       "      <th>weather</th>\n",
       "      <th>pop</th>\n",
       "    </tr>\n",
       "  </thead>\n",
       "  <tbody>\n",
       "    <tr>\n",
       "      <th>0</th>\n",
       "      <td>1634439600</td>\n",
       "      <td>25.44</td>\n",
       "      <td>25.89</td>\n",
       "      <td>1027</td>\n",
       "      <td>71</td>\n",
       "      <td>19.80</td>\n",
       "      <td>6.97</td>\n",
       "      <td>12</td>\n",
       "      <td>10000</td>\n",
       "      <td>5.85</td>\n",
       "      <td>38</td>\n",
       "      <td>9.50</td>\n",
       "      <td>[{'id': 801, 'main': 'Clouds', 'description': ...</td>\n",
       "      <td>0.03</td>\n",
       "    </tr>\n",
       "    <tr>\n",
       "      <th>1</th>\n",
       "      <td>1634443200</td>\n",
       "      <td>25.13</td>\n",
       "      <td>25.53</td>\n",
       "      <td>1025</td>\n",
       "      <td>70</td>\n",
       "      <td>19.27</td>\n",
       "      <td>8.23</td>\n",
       "      <td>12</td>\n",
       "      <td>10000</td>\n",
       "      <td>6.52</td>\n",
       "      <td>36</td>\n",
       "      <td>8.70</td>\n",
       "      <td>[{'id': 801, 'main': 'Clouds', 'description': ...</td>\n",
       "      <td>0.03</td>\n",
       "    </tr>\n",
       "    <tr>\n",
       "      <th>2</th>\n",
       "      <td>1634446800</td>\n",
       "      <td>24.95</td>\n",
       "      <td>25.30</td>\n",
       "      <td>1023</td>\n",
       "      <td>69</td>\n",
       "      <td>18.87</td>\n",
       "      <td>8.08</td>\n",
       "      <td>14</td>\n",
       "      <td>10000</td>\n",
       "      <td>6.78</td>\n",
       "      <td>34</td>\n",
       "      <td>8.55</td>\n",
       "      <td>[{'id': 801, 'main': 'Clouds', 'description': ...</td>\n",
       "      <td>0.03</td>\n",
       "    </tr>\n",
       "    <tr>\n",
       "      <th>3</th>\n",
       "      <td>1634450400</td>\n",
       "      <td>24.71</td>\n",
       "      <td>25.01</td>\n",
       "      <td>1021</td>\n",
       "      <td>68</td>\n",
       "      <td>18.41</td>\n",
       "      <td>6.51</td>\n",
       "      <td>20</td>\n",
       "      <td>10000</td>\n",
       "      <td>6.80</td>\n",
       "      <td>30</td>\n",
       "      <td>7.81</td>\n",
       "      <td>[{'id': 801, 'main': 'Clouds', 'description': ...</td>\n",
       "      <td>0.03</td>\n",
       "    </tr>\n",
       "    <tr>\n",
       "      <th>4</th>\n",
       "      <td>1634454000</td>\n",
       "      <td>24.47</td>\n",
       "      <td>24.72</td>\n",
       "      <td>1019</td>\n",
       "      <td>67</td>\n",
       "      <td>17.95</td>\n",
       "      <td>4.08</td>\n",
       "      <td>70</td>\n",
       "      <td>10000</td>\n",
       "      <td>6.47</td>\n",
       "      <td>32</td>\n",
       "      <td>7.21</td>\n",
       "      <td>[{'id': 803, 'main': 'Clouds', 'description': ...</td>\n",
       "      <td>0.16</td>\n",
       "    </tr>\n",
       "  </tbody>\n",
       "</table>\n",
       "</div>"
      ],
      "text/plain": [
       "           dt   temp  feels_like  pressure  humidity  dew_point   uvi  clouds  \\\n",
       "0  1634439600  25.44       25.89      1027        71      19.80  6.97      12   \n",
       "1  1634443200  25.13       25.53      1025        70      19.27  8.23      12   \n",
       "2  1634446800  24.95       25.30      1023        69      18.87  8.08      14   \n",
       "3  1634450400  24.71       25.01      1021        68      18.41  6.51      20   \n",
       "4  1634454000  24.47       24.72      1019        67      17.95  4.08      70   \n",
       "\n",
       "   visibility  wind_speed  wind_deg  wind_gust  \\\n",
       "0       10000        5.85        38       9.50   \n",
       "1       10000        6.52        36       8.70   \n",
       "2       10000        6.78        34       8.55   \n",
       "3       10000        6.80        30       7.81   \n",
       "4       10000        6.47        32       7.21   \n",
       "\n",
       "                                             weather   pop  \n",
       "0  [{'id': 801, 'main': 'Clouds', 'description': ...  0.03  \n",
       "1  [{'id': 801, 'main': 'Clouds', 'description': ...  0.03  \n",
       "2  [{'id': 801, 'main': 'Clouds', 'description': ...  0.03  \n",
       "3  [{'id': 801, 'main': 'Clouds', 'description': ...  0.03  \n",
       "4  [{'id': 803, 'main': 'Clouds', 'description': ...  0.16  "
      ]
     },
     "execution_count": 10,
     "metadata": {},
     "output_type": "execute_result"
    }
   ],
   "source": [
    "df_hourly.head()"
   ]
  },
  {
   "cell_type": "code",
   "execution_count": null,
   "metadata": {},
   "outputs": [],
   "source": []
  }
 ],
 "metadata": {
  "interpreter": {
   "hash": "c1b4cfe941b6d2466ad1fb5979e97da9cda8801728c8091b097ab734208fc00c"
  },
  "kernelspec": {
   "display_name": "Python 3.8.3 64-bit ('base': conda)",
   "name": "python3"
  },
  "language_info": {
   "codemirror_mode": {
    "name": "ipython",
    "version": 3
   },
   "file_extension": ".py",
   "mimetype": "text/x-python",
   "name": "python",
   "nbconvert_exporter": "python",
   "pygments_lexer": "ipython3",
   "version": "3.8.12"
  }
 },
 "nbformat": 4,
 "nbformat_minor": 2
}
