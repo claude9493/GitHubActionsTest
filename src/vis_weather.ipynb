{
 "cells": [
  {
   "cell_type": "code",
   "execution_count": 1,
   "metadata": {
    "execution": {
     "iopub.execute_input": "2021-08-27T22:39:16.194194Z",
     "iopub.status.busy": "2021-08-27T22:39:16.193494Z",
     "iopub.status.idle": "2021-08-27T22:39:17.341619Z",
     "shell.execute_reply": "2021-08-27T22:39:17.342040Z"
    }
   },
   "outputs": [],
   "source": [
    "import json, yaml, requests\r\n",
    "from datetime import datetime\r\n",
    "from dateutil import tz\r\n",
    "import pandas as pd\r\n",
    "from PIL import Image\r\n",
    "from io import BytesIO\r\n",
    "import matplotlib.pyplot as plt\r\n",
    "import seaborn\r\n",
    "\r\n",
    "CONFIG_PATH = \"../config/config.yaml\""
   ]
  },
  {
   "cell_type": "code",
   "execution_count": 2,
   "metadata": {
    "execution": {
     "iopub.execute_input": "2021-08-27T22:39:17.349578Z",
     "iopub.status.busy": "2021-08-27T22:39:17.346709Z",
     "iopub.status.idle": "2021-08-27T22:39:17.352447Z",
     "shell.execute_reply": "2021-08-27T22:39:17.352052Z"
    }
   },
   "outputs": [],
   "source": [
    "with open('../newest_ts', 'r') as f:\r\n",
    "    newest_ts = f.read()\r\n",
    "\r\n",
    "data_path = f\"../data/data_{newest_ts}.json\"\r\n",
    "with open(data_path, 'r') as f:\r\n",
    "    data = json.load(f)\r\n",
    "\r\n",
    "with open(CONFIG_PATH, \"r\") as stream:\r\n",
    "    config = yaml.safe_load(stream)\r\n",
    "\r\n",
    "TIME_ZONE = config['time_zone']\r\n",
    "DATETIME_FORMAT = config['dt_format']"
   ]
  },
  {
   "cell_type": "code",
   "execution_count": 3,
   "metadata": {
    "execution": {
     "iopub.execute_input": "2021-08-27T22:39:17.358147Z",
     "iopub.status.busy": "2021-08-27T22:39:17.356573Z",
     "iopub.status.idle": "2021-08-27T22:39:17.360923Z",
     "shell.execute_reply": "2021-08-27T22:39:17.361392Z"
    }
   },
   "outputs": [
    {
     "name": "stdout",
     "output_type": "stream",
     "text": [
      "Recent query happens at 2021-08-28 06:39:13 (CST).\n"
     ]
    }
   ],
   "source": [
    "def ts2dt(ts, format=DATETIME_FORMAT):\r\n",
    "    dt = (datetime.utcfromtimestamp(int(ts))\r\n",
    "                    .replace(tzinfo=tz.tzutc())\r\n",
    "                    # .astimezone(tz.tzlocal())\r\n",
    "                    .astimezone(tz.gettz(TIME_ZONE)))\r\n",
    "    return dt.strftime(format), dt\r\n",
    "\r\n",
    "_, newest_dt = ts2dt(newest_ts)\r\n",
    "print(f\"Recent query happens at {newest_dt.strftime(DATETIME_FORMAT)} ({newest_dt.tzname()}).\")"
   ]
  },
  {
   "cell_type": "code",
   "execution_count": 4,
   "metadata": {
    "execution": {
     "iopub.execute_input": "2021-08-27T22:39:17.367163Z",
     "iopub.status.busy": "2021-08-27T22:39:17.366432Z",
     "iopub.status.idle": "2021-08-27T22:39:17.368940Z",
     "shell.execute_reply": "2021-08-27T22:39:17.368458Z"
    }
   },
   "outputs": [],
   "source": [
    "def degrees_to_cardinal(d):\r\n",
    "  dirs = ['N', 'NNE', 'NE', 'ENE', 'E', 'ESE', 'SE', 'SSE', 'S', 'SSW', 'SW', 'WSW', 'W', 'WNW', 'NW', 'NNW']\r\n",
    "  ix = int(round(d / (360. / len(dirs))))\r\n",
    "  return dirs[ix % len(dirs)]"
   ]
  },
  {
   "cell_type": "code",
   "execution_count": 5,
   "metadata": {
    "execution": {
     "iopub.execute_input": "2021-08-27T22:39:17.372760Z",
     "iopub.status.busy": "2021-08-27T22:39:17.371898Z",
     "iopub.status.idle": "2021-08-27T22:39:17.373544Z",
     "shell.execute_reply": "2021-08-27T22:39:17.373972Z"
    }
   },
   "outputs": [],
   "source": [
    "# data.keys()"
   ]
  },
  {
   "cell_type": "code",
   "execution_count": 6,
   "metadata": {
    "execution": {
     "iopub.execute_input": "2021-08-27T22:39:17.377743Z",
     "iopub.status.busy": "2021-08-27T22:39:17.376865Z",
     "iopub.status.idle": "2021-08-27T22:39:17.378604Z",
     "shell.execute_reply": "2021-08-27T22:39:17.378986Z"
    }
   },
   "outputs": [],
   "source": [
    "# data['current']"
   ]
  },
  {
   "cell_type": "code",
   "execution_count": 7,
   "metadata": {
    "execution": {
     "iopub.execute_input": "2021-08-27T22:39:17.404394Z",
     "iopub.status.busy": "2021-08-27T22:39:17.390492Z",
     "iopub.status.idle": "2021-08-27T22:39:17.818011Z",
     "shell.execute_reply": "2021-08-27T22:39:17.818448Z"
    }
   },
   "outputs": [
    {
     "data": {
      "image/png": "[encoded data removed]",
      "text/plain": [
       "<Figure size 216x216 with 1 Axes>"
      ]
     },
     "metadata": {
      "needs_background": "light"
     },
     "output_type": "display_data"
    },
    {
     "name": "stdout",
     "output_type": "stream",
     "text": [
      "Today, sun rises at 06:04 and sets at 18:44.\n",
      "Currently, the weather is Clouds (scattered clouds).\n",
      "The temperature is 26.86°C and it feels like 29.35°C.\n",
      "The UV index is 0.35, humidity is 79%.\n",
      "The pressure is 1011 hPa, percentage of cloud cover is 40%\n",
      "The wind comes from E direction with a speed 5.35 m/s.\n"
     ]
    }
   ],
   "source": [
    "current = data['current']\r\n",
    "\r\n",
    "fig, ax = plt.subplots(figsize=(3, 3))\r\n",
    "icon = requests.get(f\"http://openweathermap.org/img/wn/{current['weather'][0]['icon']}@2x.png\")\r\n",
    "im = Image.open(BytesIO(icon.content))\r\n",
    "plt.imshow(im)\r\n",
    "ax.set_axis_off()\r\n",
    "plt.show()\r\n",
    "\r\n",
    "print(f\"Today, sun rises at {ts2dt(current['sunrise'], '%H:%M')[0]} \\\r\n",
    "and sets at {ts2dt(current['sunset'], '%H:%M')[0]}.\\n\\\r\n",
    "Currently, the weather is {current['weather'][0]['main']} ({current['weather'][0]['description']}).\\n\\\r\n",
    "The temperature is {current['temp']}°C and it feels like {current['feels_like']}°C.\\n\\\r\n",
    "The UV index is {current['uvi']}, humidity is {current['humidity']}%.\\n\\\r\n",
    "The pressure is {current['pressure']} hPa, percentage of cloud cover is {current['clouds']}%\\n\\\r\n",
    "The wind comes from {degrees_to_cardinal(current['wind_deg'])} direction with a speed {current['wind_speed']} m/s.\")"
   ]
  },
  {
   "cell_type": "code",
   "execution_count": 8,
   "metadata": {
    "execution": {
     "iopub.execute_input": "2021-08-27T22:39:17.825980Z",
     "iopub.status.busy": "2021-08-27T22:39:17.824975Z",
     "iopub.status.idle": "2021-08-27T22:39:17.828054Z",
     "shell.execute_reply": "2021-08-27T22:39:17.827414Z"
    }
   },
   "outputs": [],
   "source": [
    "df_hourly = pd.DataFrame(data['hourly'])\r\n",
    "df_daily = pd.DataFrame(data['daily'])"
   ]
  },
  {
   "cell_type": "code",
   "execution_count": 9,
   "metadata": {
    "execution": {
     "iopub.execute_input": "2021-08-27T22:39:17.835606Z",
     "iopub.status.busy": "2021-08-27T22:39:17.834413Z",
     "iopub.status.idle": "2021-08-27T22:39:18.123279Z",
     "shell.execute_reply": "2021-08-27T22:39:18.122826Z"
    }
   },
   "outputs": [
    {
     "data": {
      "image/png": "[encoded data removed]",
      "text/plain": [
       "<Figure size 864x432 with 1 Axes>"
      ]
     },
     "metadata": {
      "needs_background": "light"
     },
     "output_type": "display_data"
    }
   ],
   "source": [
    "fig, ax = plt.subplots(figsize=(12, 6))\r\n",
    "plt.plot(df_hourly.temp, '.-', label='Temperature')\r\n",
    "plt.plot(df_hourly.feels_like, '.-', label='Feels Like')\r\n",
    "ax.set(title='Temperature in future 48 hours', xlabel='Time', ylabel='Temperature')\r\n",
    "ax.set_xticks(list(range(0, len(df_hourly), 2)))\r\n",
    "ax.set_xticklabels([ts2dt(ts, '%m-%d %H:%M')[0] for i, ts in enumerate(df_hourly.dt) if i%2==0], \r\n",
    "                   rotation=45, ha=\"right\")\r\n",
    "ax.locator_params(nbins=15, axis='y')\r\n",
    "plt.legend()\r\n",
    "plt.show()"
   ]
  },
  {
   "cell_type": "code",
   "execution_count": 10,
   "metadata": {
    "execution": {
     "iopub.execute_input": "2021-08-27T22:39:18.128433Z",
     "iopub.status.busy": "2021-08-27T22:39:18.127948Z",
     "iopub.status.idle": "2021-08-27T22:39:18.146786Z",
     "shell.execute_reply": "2021-08-27T22:39:18.147182Z"
    }
   },
   "outputs": [
    {
     "data": {
      "text/html": [
       "<div>\n",
       "<style scoped>\n",
       "    .dataframe tbody tr th:only-of-type {\n",
       "        vertical-align: middle;\n",
       "    }\n",
       "\n",
       "    .dataframe tbody tr th {\n",
       "        vertical-align: top;\n",
       "    }\n",
       "\n",
       "    .dataframe thead th {\n",
       "        text-align: right;\n",
       "    }\n",
       "</style>\n",
       "<table border=\"1\" class=\"dataframe\">\n",
       "  <thead>\n",
       "    <tr style=\"text-align: right;\">\n",
       "      <th></th>\n",
       "      <th>dt</th>\n",
       "      <th>temp</th>\n",
       "      <th>feels_like</th>\n",
       "      <th>pressure</th>\n",
       "      <th>humidity</th>\n",
       "      <th>dew_point</th>\n",
       "      <th>uvi</th>\n",
       "      <th>clouds</th>\n",
       "      <th>visibility</th>\n",
       "      <th>wind_speed</th>\n",
       "      <th>wind_deg</th>\n",
       "      <th>wind_gust</th>\n",
       "      <th>weather</th>\n",
       "      <th>pop</th>\n",
       "      <th>rain</th>\n",
       "    </tr>\n",
       "  </thead>\n",
       "  <tbody>\n",
       "    <tr>\n",
       "      <th>0</th>\n",
       "      <td>1630101600</td>\n",
       "      <td>26.99</td>\n",
       "      <td>29.72</td>\n",
       "      <td>1011</td>\n",
       "      <td>80</td>\n",
       "      <td>23.24</td>\n",
       "      <td>0.00</td>\n",
       "      <td>40</td>\n",
       "      <td>10000</td>\n",
       "      <td>5.05</td>\n",
       "      <td>89</td>\n",
       "      <td>6.74</td>\n",
       "      <td>[{'id': 500, 'main': 'Rain', 'description': 'l...</td>\n",
       "      <td>0.85</td>\n",
       "      <td>{'1h': 0.53}</td>\n",
       "    </tr>\n",
       "    <tr>\n",
       "      <th>1</th>\n",
       "      <td>1630105200</td>\n",
       "      <td>26.86</td>\n",
       "      <td>29.35</td>\n",
       "      <td>1011</td>\n",
       "      <td>79</td>\n",
       "      <td>22.91</td>\n",
       "      <td>0.35</td>\n",
       "      <td>40</td>\n",
       "      <td>10000</td>\n",
       "      <td>5.35</td>\n",
       "      <td>89</td>\n",
       "      <td>7.22</td>\n",
       "      <td>[{'id': 802, 'main': 'Clouds', 'description': ...</td>\n",
       "      <td>0.85</td>\n",
       "      <td>NaN</td>\n",
       "    </tr>\n",
       "    <tr>\n",
       "      <th>2</th>\n",
       "      <td>1630108800</td>\n",
       "      <td>27.07</td>\n",
       "      <td>29.90</td>\n",
       "      <td>1011</td>\n",
       "      <td>80</td>\n",
       "      <td>23.32</td>\n",
       "      <td>1.55</td>\n",
       "      <td>42</td>\n",
       "      <td>10000</td>\n",
       "      <td>5.63</td>\n",
       "      <td>91</td>\n",
       "      <td>7.30</td>\n",
       "      <td>[{'id': 500, 'main': 'Rain', 'description': 'l...</td>\n",
       "      <td>0.85</td>\n",
       "      <td>{'1h': 0.1}</td>\n",
       "    </tr>\n",
       "    <tr>\n",
       "      <th>3</th>\n",
       "      <td>1630112400</td>\n",
       "      <td>27.32</td>\n",
       "      <td>30.46</td>\n",
       "      <td>1011</td>\n",
       "      <td>80</td>\n",
       "      <td>23.56</td>\n",
       "      <td>3.83</td>\n",
       "      <td>55</td>\n",
       "      <td>10000</td>\n",
       "      <td>5.47</td>\n",
       "      <td>89</td>\n",
       "      <td>7.16</td>\n",
       "      <td>[{'id': 803, 'main': 'Clouds', 'description': ...</td>\n",
       "      <td>0.86</td>\n",
       "      <td>NaN</td>\n",
       "    </tr>\n",
       "    <tr>\n",
       "      <th>4</th>\n",
       "      <td>1630116000</td>\n",
       "      <td>28.05</td>\n",
       "      <td>31.76</td>\n",
       "      <td>1012</td>\n",
       "      <td>77</td>\n",
       "      <td>23.64</td>\n",
       "      <td>6.83</td>\n",
       "      <td>69</td>\n",
       "      <td>10000</td>\n",
       "      <td>5.61</td>\n",
       "      <td>89</td>\n",
       "      <td>7.43</td>\n",
       "      <td>[{'id': 500, 'main': 'Rain', 'description': 'l...</td>\n",
       "      <td>0.85</td>\n",
       "      <td>{'1h': 0.53}</td>\n",
       "    </tr>\n",
       "  </tbody>\n",
       "</table>\n",
       "</div>"
      ],
      "text/plain": [
       "           dt   temp  feels_like  pressure  humidity  dew_point   uvi  clouds  \\\n",
       "0  1630101600  26.99       29.72      1011        80      23.24  0.00      40   \n",
       "1  1630105200  26.86       29.35      1011        79      22.91  0.35      40   \n",
       "2  1630108800  27.07       29.90      1011        80      23.32  1.55      42   \n",
       "3  1630112400  27.32       30.46      1011        80      23.56  3.83      55   \n",
       "4  1630116000  28.05       31.76      1012        77      23.64  6.83      69   \n",
       "\n",
       "   visibility  wind_speed  wind_deg  wind_gust  \\\n",
       "0       10000        5.05        89       6.74   \n",
       "1       10000        5.35        89       7.22   \n",
       "2       10000        5.63        91       7.30   \n",
       "3       10000        5.47        89       7.16   \n",
       "4       10000        5.61        89       7.43   \n",
       "\n",
       "                                             weather   pop          rain  \n",
       "0  [{'id': 500, 'main': 'Rain', 'description': 'l...  0.85  {'1h': 0.53}  \n",
       "1  [{'id': 802, 'main': 'Clouds', 'description': ...  0.85           NaN  \n",
       "2  [{'id': 500, 'main': 'Rain', 'description': 'l...  0.85   {'1h': 0.1}  \n",
       "3  [{'id': 803, 'main': 'Clouds', 'description': ...  0.86           NaN  \n",
       "4  [{'id': 500, 'main': 'Rain', 'description': 'l...  0.85  {'1h': 0.53}  "
      ]
     },
     "execution_count": 10,
     "metadata": {},
     "output_type": "execute_result"
    }
   ],
   "source": [
    "df_hourly.head()"
   ]
  },
  {
   "cell_type": "code",
   "execution_count": null,
   "metadata": {},
   "outputs": [],
   "source": []
  }
 ],
 "metadata": {
  "interpreter": {
   "hash": "c1b4cfe941b6d2466ad1fb5979e97da9cda8801728c8091b097ab734208fc00c"
  },
  "kernelspec": {
   "display_name": "Python 3.8.3 64-bit ('base': conda)",
   "name": "python3"
  },
  "language_info": {
   "codemirror_mode": {
    "name": "ipython",
    "version": 3
   },
   "file_extension": ".py",
   "mimetype": "text/x-python",
   "name": "python",
   "nbconvert_exporter": "python",
   "pygments_lexer": "ipython3",
   "version": "3.8.11"
  }
 },
 "nbformat": 4,
 "nbformat_minor": 2
}
