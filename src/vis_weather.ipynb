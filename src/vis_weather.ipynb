{
 "cells": [
  {
   "cell_type": "code",
   "execution_count": 1,
   "metadata": {
    "execution": {
     "iopub.execute_input": "2021-08-24T22:36:33.819658Z",
     "iopub.status.busy": "2021-08-24T22:36:33.819077Z",
     "iopub.status.idle": "2021-08-24T22:36:38.539336Z",
     "shell.execute_reply": "2021-08-24T22:36:38.538737Z"
    }
   },
   "outputs": [],
   "source": [
    "import json, yaml, requests\r\n",
    "from datetime import datetime\r\n",
    "from dateutil import tz\r\n",
    "import pandas as pd\r\n",
    "from PIL import Image\r\n",
    "from io import BytesIO\r\n",
    "import matplotlib.pyplot as plt\r\n",
    "import seaborn\r\n",
    "\r\n",
    "CONFIG_PATH = \"../config/config.yaml\""
   ]
  },
  {
   "cell_type": "code",
   "execution_count": 2,
   "metadata": {
    "execution": {
     "iopub.execute_input": "2021-08-24T22:36:38.546757Z",
     "iopub.status.busy": "2021-08-24T22:36:38.543991Z",
     "iopub.status.idle": "2021-08-24T22:36:38.549668Z",
     "shell.execute_reply": "2021-08-24T22:36:38.549299Z"
    }
   },
   "outputs": [],
   "source": [
    "with open('../newest_ts', 'r') as f:\r\n",
    "    newest_ts = f.read()\r\n",
    "\r\n",
    "data_path = f\"../data/data_{newest_ts}.json\"\r\n",
    "with open(data_path, 'r') as f:\r\n",
    "    data = json.load(f)\r\n",
    "\r\n",
    "with open(CONFIG_PATH, \"r\") as stream:\r\n",
    "    config = yaml.safe_load(stream)\r\n",
    "\r\n",
    "TIME_ZONE = config['time_zone']\r\n",
    "DATETIME_FORMAT = config['dt_format']"
   ]
  },
  {
   "cell_type": "code",
   "execution_count": 3,
   "metadata": {
    "execution": {
     "iopub.execute_input": "2021-08-24T22:36:38.553792Z",
     "iopub.status.busy": "2021-08-24T22:36:38.553319Z",
     "iopub.status.idle": "2021-08-24T22:36:38.597875Z",
     "shell.execute_reply": "2021-08-24T22:36:38.598260Z"
    }
   },
   "outputs": [
    {
     "name": "stdout",
     "output_type": "stream",
     "text": [
      "Recent query happens at 2021-08-25 06:36:30 (CST).\n"
     ]
    }
   ],
   "source": [
    "def ts2dt(ts, format=DATETIME_FORMAT):\r\n",
    "    dt = (datetime.utcfromtimestamp(int(ts))\r\n",
    "                    .replace(tzinfo=tz.tzutc())\r\n",
    "                    # .astimezone(tz.tzlocal())\r\n",
    "                    .astimezone(tz.gettz(TIME_ZONE)))\r\n",
    "    return dt.strftime(format), dt\r\n",
    "\r\n",
    "_, newest_dt = ts2dt(newest_ts)\r\n",
    "print(f\"Recent query happens at {newest_dt.strftime(DATETIME_FORMAT)} ({newest_dt.tzname()}).\")"
   ]
  },
  {
   "cell_type": "code",
   "execution_count": 4,
   "metadata": {
    "execution": {
     "iopub.execute_input": "2021-08-24T22:36:38.602405Z",
     "iopub.status.busy": "2021-08-24T22:36:38.602013Z",
     "iopub.status.idle": "2021-08-24T22:36:38.605574Z",
     "shell.execute_reply": "2021-08-24T22:36:38.605219Z"
    }
   },
   "outputs": [],
   "source": [
    "def degrees_to_cardinal(d):\r\n",
    "  dirs = ['N', 'NNE', 'NE', 'ENE', 'E', 'ESE', 'SE', 'SSE', 'S', 'SSW', 'SW', 'WSW', 'W', 'WNW', 'NW', 'NNW']\r\n",
    "  ix = int(round(d / (360. / len(dirs))))\r\n",
    "  return dirs[ix % len(dirs)]"
   ]
  },
  {
   "cell_type": "code",
   "execution_count": 5,
   "metadata": {
    "execution": {
     "iopub.execute_input": "2021-08-24T22:36:38.608521Z",
     "iopub.status.busy": "2021-08-24T22:36:38.608136Z",
     "iopub.status.idle": "2021-08-24T22:36:38.609977Z",
     "shell.execute_reply": "2021-08-24T22:36:38.609620Z"
    }
   },
   "outputs": [],
   "source": [
    "# data.keys()"
   ]
  },
  {
   "cell_type": "code",
   "execution_count": 6,
   "metadata": {
    "execution": {
     "iopub.execute_input": "2021-08-24T22:36:38.612928Z",
     "iopub.status.busy": "2021-08-24T22:36:38.612383Z",
     "iopub.status.idle": "2021-08-24T22:36:38.614245Z",
     "shell.execute_reply": "2021-08-24T22:36:38.613926Z"
    }
   },
   "outputs": [],
   "source": [
    "# data['current']"
   ]
  },
  {
   "cell_type": "code",
   "execution_count": 7,
   "metadata": {
    "execution": {
     "iopub.execute_input": "2021-08-24T22:36:38.630243Z",
     "iopub.status.busy": "2021-08-24T22:36:38.629804Z",
     "iopub.status.idle": "2021-08-24T22:36:39.064469Z",
     "shell.execute_reply": "2021-08-24T22:36:39.065135Z"
    }
   },
   "outputs": [
    {
     "data": {
      "image/png": "[encoded data removed]",
      "text/plain": [
       "<Figure size 216x216 with 1 Axes>"
      ]
     },
     "metadata": {
      "needs_background": "light"
     },
     "output_type": "display_data"
    },
    {
     "name": "stdout",
     "output_type": "stream",
     "text": [
      "Today, sun rises at 06:03 and sets at 18:46.\n",
      "Currently, the weather is Clouds (overcast clouds).\n",
      "The temperature is 28.75°C and it feels like 34.46°C.\n",
      "The UV index is 0.37, humidity is 82%.\n",
      "The pressure is 1008 hPa, percentage of cloud cover is 99%\n",
      "The wind comes from SE direction with a speed 2.01 m/s.\n"
     ]
    }
   ],
   "source": [
    "current = data['current']\r\n",
    "\r\n",
    "fig, ax = plt.subplots(figsize=(3, 3))\r\n",
    "icon = requests.get(f\"http://openweathermap.org/img/wn/{current['weather'][0]['icon']}@2x.png\")\r\n",
    "im = Image.open(BytesIO(icon.content))\r\n",
    "plt.imshow(im)\r\n",
    "ax.set_axis_off()\r\n",
    "plt.show()\r\n",
    "\r\n",
    "print(f\"Today, sun rises at {ts2dt(current['sunrise'], '%H:%M')[0]} \\\r\n",
    "and sets at {ts2dt(current['sunset'], '%H:%M')[0]}.\\n\\\r\n",
    "Currently, the weather is {current['weather'][0]['main']} ({current['weather'][0]['description']}).\\n\\\r\n",
    "The temperature is {current['temp']}°C and it feels like {current['feels_like']}°C.\\n\\\r\n",
    "The UV index is {current['uvi']}, humidity is {current['humidity']}%.\\n\\\r\n",
    "The pressure is {current['pressure']} hPa, percentage of cloud cover is {current['clouds']}%\\n\\\r\n",
    "The wind comes from {degrees_to_cardinal(current['wind_deg'])} direction with a speed {current['wind_speed']} m/s.\")"
   ]
  },
  {
   "cell_type": "code",
   "execution_count": 8,
   "metadata": {
    "execution": {
     "iopub.execute_input": "2021-08-24T22:36:39.068462Z",
     "iopub.status.busy": "2021-08-24T22:36:39.067558Z",
     "iopub.status.idle": "2021-08-24T22:36:39.074255Z",
     "shell.execute_reply": "2021-08-24T22:36:39.074873Z"
    }
   },
   "outputs": [],
   "source": [
    "df_hourly = pd.DataFrame(data['hourly'])\r\n",
    "df_daily = pd.DataFrame(data['daily'])"
   ]
  },
  {
   "cell_type": "code",
   "execution_count": 9,
   "metadata": {
    "execution": {
     "iopub.execute_input": "2021-08-24T22:36:39.077805Z",
     "iopub.status.busy": "2021-08-24T22:36:39.076883Z",
     "iopub.status.idle": "2021-08-24T22:36:39.311264Z",
     "shell.execute_reply": "2021-08-24T22:36:39.311697Z"
    }
   },
   "outputs": [
    {
     "data": {
      "image/png": "[encoded data removed]",
      "text/plain": [
       "<Figure size 864x432 with 1 Axes>"
      ]
     },
     "metadata": {
      "needs_background": "light"
     },
     "output_type": "display_data"
    }
   ],
   "source": [
    "fig, ax = plt.subplots(figsize=(12, 6))\r\n",
    "plt.plot(df_hourly.temp, '.-', label='Temperature')\r\n",
    "plt.plot(df_hourly.feels_like, '.-', label='Feels Like')\r\n",
    "ax.set(title='Temperature in future 48 hours', xlabel='Time', ylabel='Temperature')\r\n",
    "ax.set_xticks(list(range(0, len(df_hourly), 2)))\r\n",
    "ax.set_xticklabels([ts2dt(ts, '%m-%d %H:%M')[0] for i, ts in enumerate(df_hourly.dt) if i%2==0], \r\n",
    "                   rotation=45, ha=\"right\")\r\n",
    "ax.locator_params(nbins=15, axis='y')\r\n",
    "plt.legend()\r\n",
    "plt.show()"
   ]
  },
  {
   "cell_type": "code",
   "execution_count": 10,
   "metadata": {
    "execution": {
     "iopub.execute_input": "2021-08-24T22:36:39.322654Z",
     "iopub.status.busy": "2021-08-24T22:36:39.315587Z",
     "iopub.status.idle": "2021-08-24T22:36:39.333000Z",
     "shell.execute_reply": "2021-08-24T22:36:39.332664Z"
    }
   },
   "outputs": [
    {
     "data": {
      "text/html": [
       "<div>\n",
       "<style scoped>\n",
       "    .dataframe tbody tr th:only-of-type {\n",
       "        vertical-align: middle;\n",
       "    }\n",
       "\n",
       "    .dataframe tbody tr th {\n",
       "        vertical-align: top;\n",
       "    }\n",
       "\n",
       "    .dataframe thead th {\n",
       "        text-align: right;\n",
       "    }\n",
       "</style>\n",
       "<table border=\"1\" class=\"dataframe\">\n",
       "  <thead>\n",
       "    <tr style=\"text-align: right;\">\n",
       "      <th></th>\n",
       "      <th>dt</th>\n",
       "      <th>temp</th>\n",
       "      <th>feels_like</th>\n",
       "      <th>pressure</th>\n",
       "      <th>humidity</th>\n",
       "      <th>dew_point</th>\n",
       "      <th>uvi</th>\n",
       "      <th>clouds</th>\n",
       "      <th>visibility</th>\n",
       "      <th>wind_speed</th>\n",
       "      <th>wind_deg</th>\n",
       "      <th>wind_gust</th>\n",
       "      <th>weather</th>\n",
       "      <th>pop</th>\n",
       "      <th>rain</th>\n",
       "    </tr>\n",
       "  </thead>\n",
       "  <tbody>\n",
       "    <tr>\n",
       "      <th>0</th>\n",
       "      <td>1629842400</td>\n",
       "      <td>28.51</td>\n",
       "      <td>33.98</td>\n",
       "      <td>1008</td>\n",
       "      <td>83</td>\n",
       "      <td>25.34</td>\n",
       "      <td>0.00</td>\n",
       "      <td>99</td>\n",
       "      <td>10000</td>\n",
       "      <td>2.19</td>\n",
       "      <td>132</td>\n",
       "      <td>2.86</td>\n",
       "      <td>[{'id': 500, 'main': 'Rain', 'description': 'l...</td>\n",
       "      <td>0.53</td>\n",
       "      <td>{'1h': 0.14}</td>\n",
       "    </tr>\n",
       "    <tr>\n",
       "      <th>1</th>\n",
       "      <td>1629846000</td>\n",
       "      <td>28.75</td>\n",
       "      <td>34.46</td>\n",
       "      <td>1008</td>\n",
       "      <td>82</td>\n",
       "      <td>25.37</td>\n",
       "      <td>0.37</td>\n",
       "      <td>99</td>\n",
       "      <td>10000</td>\n",
       "      <td>2.01</td>\n",
       "      <td>131</td>\n",
       "      <td>2.68</td>\n",
       "      <td>[{'id': 804, 'main': 'Clouds', 'description': ...</td>\n",
       "      <td>0.53</td>\n",
       "      <td>NaN</td>\n",
       "    </tr>\n",
       "    <tr>\n",
       "      <th>2</th>\n",
       "      <td>1629849600</td>\n",
       "      <td>28.63</td>\n",
       "      <td>33.93</td>\n",
       "      <td>1008</td>\n",
       "      <td>81</td>\n",
       "      <td>25.05</td>\n",
       "      <td>1.58</td>\n",
       "      <td>99</td>\n",
       "      <td>10000</td>\n",
       "      <td>2.51</td>\n",
       "      <td>137</td>\n",
       "      <td>3.20</td>\n",
       "      <td>[{'id': 804, 'main': 'Clouds', 'description': ...</td>\n",
       "      <td>0.65</td>\n",
       "      <td>NaN</td>\n",
       "    </tr>\n",
       "    <tr>\n",
       "      <th>3</th>\n",
       "      <td>1629853200</td>\n",
       "      <td>28.74</td>\n",
       "      <td>33.83</td>\n",
       "      <td>1008</td>\n",
       "      <td>79</td>\n",
       "      <td>24.73</td>\n",
       "      <td>3.89</td>\n",
       "      <td>99</td>\n",
       "      <td>10000</td>\n",
       "      <td>2.50</td>\n",
       "      <td>130</td>\n",
       "      <td>3.24</td>\n",
       "      <td>[{'id': 500, 'main': 'Rain', 'description': 'l...</td>\n",
       "      <td>0.80</td>\n",
       "      <td>{'1h': 0.32}</td>\n",
       "    </tr>\n",
       "    <tr>\n",
       "      <th>4</th>\n",
       "      <td>1629856800</td>\n",
       "      <td>29.09</td>\n",
       "      <td>34.13</td>\n",
       "      <td>1009</td>\n",
       "      <td>76</td>\n",
       "      <td>24.42</td>\n",
       "      <td>6.91</td>\n",
       "      <td>100</td>\n",
       "      <td>10000</td>\n",
       "      <td>2.32</td>\n",
       "      <td>128</td>\n",
       "      <td>2.82</td>\n",
       "      <td>[{'id': 500, 'main': 'Rain', 'description': 'l...</td>\n",
       "      <td>0.74</td>\n",
       "      <td>{'1h': 0.14}</td>\n",
       "    </tr>\n",
       "  </tbody>\n",
       "</table>\n",
       "</div>"
      ],
      "text/plain": [
       "           dt   temp  feels_like  pressure  humidity  dew_point   uvi  clouds  \\\n",
       "0  1629842400  28.51       33.98      1008        83      25.34  0.00      99   \n",
       "1  1629846000  28.75       34.46      1008        82      25.37  0.37      99   \n",
       "2  1629849600  28.63       33.93      1008        81      25.05  1.58      99   \n",
       "3  1629853200  28.74       33.83      1008        79      24.73  3.89      99   \n",
       "4  1629856800  29.09       34.13      1009        76      24.42  6.91     100   \n",
       "\n",
       "   visibility  wind_speed  wind_deg  wind_gust  \\\n",
       "0       10000        2.19       132       2.86   \n",
       "1       10000        2.01       131       2.68   \n",
       "2       10000        2.51       137       3.20   \n",
       "3       10000        2.50       130       3.24   \n",
       "4       10000        2.32       128       2.82   \n",
       "\n",
       "                                             weather   pop          rain  \n",
       "0  [{'id': 500, 'main': 'Rain', 'description': 'l...  0.53  {'1h': 0.14}  \n",
       "1  [{'id': 804, 'main': 'Clouds', 'description': ...  0.53           NaN  \n",
       "2  [{'id': 804, 'main': 'Clouds', 'description': ...  0.65           NaN  \n",
       "3  [{'id': 500, 'main': 'Rain', 'description': 'l...  0.80  {'1h': 0.32}  \n",
       "4  [{'id': 500, 'main': 'Rain', 'description': 'l...  0.74  {'1h': 0.14}  "
      ]
     },
     "execution_count": 10,
     "metadata": {},
     "output_type": "execute_result"
    }
   ],
   "source": [
    "df_hourly.head()"
   ]
  },
  {
   "cell_type": "code",
   "execution_count": null,
   "metadata": {},
   "outputs": [],
   "source": []
  }
 ],
 "metadata": {
  "interpreter": {
   "hash": "c1b4cfe941b6d2466ad1fb5979e97da9cda8801728c8091b097ab734208fc00c"
  },
  "kernelspec": {
   "display_name": "Python 3.8.3 64-bit ('base': conda)",
   "name": "python3"
  },
  "language_info": {
   "codemirror_mode": {
    "name": "ipython",
    "version": 3
   },
   "file_extension": ".py",
   "mimetype": "text/x-python",
   "name": "python",
   "nbconvert_exporter": "python",
   "pygments_lexer": "ipython3",
   "version": "3.8.11"
  }
 },
 "nbformat": 4,
 "nbformat_minor": 2
}
