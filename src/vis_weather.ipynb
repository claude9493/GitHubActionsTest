{
 "cells": [
  {
   "cell_type": "code",
   "execution_count": 1,
   "metadata": {
    "execution": {
     "iopub.execute_input": "2021-10-02T01:54:26.761935Z",
     "iopub.status.busy": "2021-10-02T01:54:26.760879Z",
     "iopub.status.idle": "2021-10-02T01:54:28.184310Z",
     "shell.execute_reply": "2021-10-02T01:54:28.183460Z"
    }
   },
   "outputs": [],
   "source": [
    "import json, yaml, requests\r\n",
    "from datetime import datetime\r\n",
    "from dateutil import tz\r\n",
    "import pandas as pd\r\n",
    "from PIL import Image\r\n",
    "from io import BytesIO\r\n",
    "import matplotlib.pyplot as plt\r\n",
    "import seaborn\r\n",
    "\r\n",
    "CONFIG_PATH = \"../config/config.yaml\""
   ]
  },
  {
   "cell_type": "code",
   "execution_count": 2,
   "metadata": {
    "execution": {
     "iopub.execute_input": "2021-10-02T01:54:28.192490Z",
     "iopub.status.busy": "2021-10-02T01:54:28.189524Z",
     "iopub.status.idle": "2021-10-02T01:54:28.194987Z",
     "shell.execute_reply": "2021-10-02T01:54:28.195407Z"
    }
   },
   "outputs": [],
   "source": [
    "with open('../newest_ts', 'r') as f:\r\n",
    "    newest_ts = f.read()\r\n",
    "\r\n",
    "data_path = f\"../data/data_{newest_ts}.json\"\r\n",
    "with open(data_path, 'r') as f:\r\n",
    "    data = json.load(f)\r\n",
    "\r\n",
    "with open(CONFIG_PATH, \"r\") as stream:\r\n",
    "    config = yaml.safe_load(stream)\r\n",
    "\r\n",
    "TIME_ZONE = config['time_zone']\r\n",
    "DATETIME_FORMAT = config['dt_format']"
   ]
  },
  {
   "cell_type": "code",
   "execution_count": 3,
   "metadata": {
    "execution": {
     "iopub.execute_input": "2021-10-02T01:54:28.201238Z",
     "iopub.status.busy": "2021-10-02T01:54:28.199684Z",
     "iopub.status.idle": "2021-10-02T01:54:28.205415Z",
     "shell.execute_reply": "2021-10-02T01:54:28.205848Z"
    }
   },
   "outputs": [
    {
     "name": "stdout",
     "output_type": "stream",
     "text": [
      "Recent query happens at 2021-10-02 09:54:23 (CST).\n"
     ]
    }
   ],
   "source": [
    "def ts2dt(ts, format=DATETIME_FORMAT):\r\n",
    "    dt = (datetime.utcfromtimestamp(int(ts))\r\n",
    "                    .replace(tzinfo=tz.tzutc())\r\n",
    "                    # .astimezone(tz.tzlocal())\r\n",
    "                    .astimezone(tz.gettz(TIME_ZONE)))\r\n",
    "    return dt.strftime(format), dt\r\n",
    "\r\n",
    "_, newest_dt = ts2dt(newest_ts)\r\n",
    "print(f\"Recent query happens at {newest_dt.strftime(DATETIME_FORMAT)} ({newest_dt.tzname()}).\")"
   ]
  },
  {
   "cell_type": "code",
   "execution_count": 4,
   "metadata": {
    "execution": {
     "iopub.execute_input": "2021-10-02T01:54:28.210331Z",
     "iopub.status.busy": "2021-10-02T01:54:28.209794Z",
     "iopub.status.idle": "2021-10-02T01:54:28.212130Z",
     "shell.execute_reply": "2021-10-02T01:54:28.211697Z"
    }
   },
   "outputs": [],
   "source": [
    "def degrees_to_cardinal(d):\r\n",
    "  dirs = ['N', 'NNE', 'NE', 'ENE', 'E', 'ESE', 'SE', 'SSE', 'S', 'SSW', 'SW', 'WSW', 'W', 'WNW', 'NW', 'NNW']\r\n",
    "  ix = int(round(d / (360. / len(dirs))))\r\n",
    "  return dirs[ix % len(dirs)]"
   ]
  },
  {
   "cell_type": "code",
   "execution_count": 5,
   "metadata": {
    "execution": {
     "iopub.execute_input": "2021-10-02T01:54:28.216739Z",
     "iopub.status.busy": "2021-10-02T01:54:28.215579Z",
     "iopub.status.idle": "2021-10-02T01:54:28.217336Z",
     "shell.execute_reply": "2021-10-02T01:54:28.217758Z"
    }
   },
   "outputs": [],
   "source": [
    "# data.keys()"
   ]
  },
  {
   "cell_type": "code",
   "execution_count": 6,
   "metadata": {
    "execution": {
     "iopub.execute_input": "2021-10-02T01:54:28.222035Z",
     "iopub.status.busy": "2021-10-02T01:54:28.220874Z",
     "iopub.status.idle": "2021-10-02T01:54:28.222625Z",
     "shell.execute_reply": "2021-10-02T01:54:28.223082Z"
    }
   },
   "outputs": [],
   "source": [
    "# data['current']"
   ]
  },
  {
   "cell_type": "code",
   "execution_count": 7,
   "metadata": {
    "execution": {
     "iopub.execute_input": "2021-10-02T01:54:28.241758Z",
     "iopub.status.busy": "2021-10-02T01:54:28.241199Z",
     "iopub.status.idle": "2021-10-02T01:54:28.655065Z",
     "shell.execute_reply": "2021-10-02T01:54:28.655519Z"
    }
   },
   "outputs": [
    {
     "data": {
      "image/png": "[encoded data removed]",
      "text/plain": [
       "<Figure size 216x216 with 1 Axes>"
      ]
     },
     "metadata": {
      "needs_background": "light"
     },
     "output_type": "display_data"
    },
    {
     "name": "stdout",
     "output_type": "stream",
     "text": [
      "Today, sun rises at 06:14 and sets at 18:10.\n",
      "Currently, the weather is Clouds (broken clouds).\n",
      "The temperature is 30.76°C and it feels like 37.76°C.\n",
      "The UV index is 5.25, humidity is 79%.\n",
      "The pressure is 1012 hPa, percentage of cloud cover is 61%\n",
      "The wind comes from WSW direction with a speed 0.89 m/s.\n"
     ]
    }
   ],
   "source": [
    "current = data['current']\r\n",
    "\r\n",
    "fig, ax = plt.subplots(figsize=(3, 3))\r\n",
    "icon = requests.get(f\"http://openweathermap.org/img/wn/{current['weather'][0]['icon']}@2x.png\")\r\n",
    "im = Image.open(BytesIO(icon.content))\r\n",
    "plt.imshow(im)\r\n",
    "ax.set_axis_off()\r\n",
    "plt.show()\r\n",
    "\r\n",
    "print(f\"Today, sun rises at {ts2dt(current['sunrise'], '%H:%M')[0]} \\\r\n",
    "and sets at {ts2dt(current['sunset'], '%H:%M')[0]}.\\n\\\r\n",
    "Currently, the weather is {current['weather'][0]['main']} ({current['weather'][0]['description']}).\\n\\\r\n",
    "The temperature is {current['temp']}°C and it feels like {current['feels_like']}°C.\\n\\\r\n",
    "The UV index is {current['uvi']}, humidity is {current['humidity']}%.\\n\\\r\n",
    "The pressure is {current['pressure']} hPa, percentage of cloud cover is {current['clouds']}%\\n\\\r\n",
    "The wind comes from {degrees_to_cardinal(current['wind_deg'])} direction with a speed {current['wind_speed']} m/s.\")"
   ]
  },
  {
   "cell_type": "code",
   "execution_count": 8,
   "metadata": {
    "execution": {
     "iopub.execute_input": "2021-10-02T01:54:28.660954Z",
     "iopub.status.busy": "2021-10-02T01:54:28.660362Z",
     "iopub.status.idle": "2021-10-02T01:54:28.664469Z",
     "shell.execute_reply": "2021-10-02T01:54:28.664875Z"
    }
   },
   "outputs": [],
   "source": [
    "df_hourly = pd.DataFrame(data['hourly'])\r\n",
    "df_daily = pd.DataFrame(data['daily'])"
   ]
  },
  {
   "cell_type": "code",
   "execution_count": 9,
   "metadata": {
    "execution": {
     "iopub.execute_input": "2021-10-02T01:54:28.676115Z",
     "iopub.status.busy": "2021-10-02T01:54:28.667132Z",
     "iopub.status.idle": "2021-10-02T01:54:28.953031Z",
     "shell.execute_reply": "2021-10-02T01:54:28.953505Z"
    }
   },
   "outputs": [
    {
     "data": {
      "image/png": "[encoded data removed]",
      "text/plain": [
       "<Figure size 864x432 with 1 Axes>"
      ]
     },
     "metadata": {
      "needs_background": "light"
     },
     "output_type": "display_data"
    }
   ],
   "source": [
    "fig, ax = plt.subplots(figsize=(12, 6))\r\n",
    "plt.plot(df_hourly.temp, '.-', label='Temperature')\r\n",
    "plt.plot(df_hourly.feels_like, '.-', label='Feels Like')\r\n",
    "ax.set(title='Temperature in future 48 hours', xlabel='Time', ylabel='Temperature')\r\n",
    "ax.set_xticks(list(range(0, len(df_hourly), 2)))\r\n",
    "ax.set_xticklabels([ts2dt(ts, '%m-%d %H:%M')[0] for i, ts in enumerate(df_hourly.dt) if i%2==0], \r\n",
    "                   rotation=45, ha=\"right\")\r\n",
    "ax.locator_params(nbins=15, axis='y')\r\n",
    "plt.legend()\r\n",
    "plt.show()"
   ]
  },
  {
   "cell_type": "code",
   "execution_count": 10,
   "metadata": {
    "execution": {
     "iopub.execute_input": "2021-10-02T01:54:28.958479Z",
     "iopub.status.busy": "2021-10-02T01:54:28.957930Z",
     "iopub.status.idle": "2021-10-02T01:54:28.977159Z",
     "shell.execute_reply": "2021-10-02T01:54:28.977562Z"
    }
   },
   "outputs": [
    {
     "data": {
      "text/html": [
       "<div>\n",
       "<style scoped>\n",
       "    .dataframe tbody tr th:only-of-type {\n",
       "        vertical-align: middle;\n",
       "    }\n",
       "\n",
       "    .dataframe tbody tr th {\n",
       "        vertical-align: top;\n",
       "    }\n",
       "\n",
       "    .dataframe thead th {\n",
       "        text-align: right;\n",
       "    }\n",
       "</style>\n",
       "<table border=\"1\" class=\"dataframe\">\n",
       "  <thead>\n",
       "    <tr style=\"text-align: right;\">\n",
       "      <th></th>\n",
       "      <th>dt</th>\n",
       "      <th>temp</th>\n",
       "      <th>feels_like</th>\n",
       "      <th>pressure</th>\n",
       "      <th>humidity</th>\n",
       "      <th>dew_point</th>\n",
       "      <th>uvi</th>\n",
       "      <th>clouds</th>\n",
       "      <th>visibility</th>\n",
       "      <th>wind_speed</th>\n",
       "      <th>wind_deg</th>\n",
       "      <th>wind_gust</th>\n",
       "      <th>weather</th>\n",
       "      <th>pop</th>\n",
       "      <th>rain</th>\n",
       "    </tr>\n",
       "  </thead>\n",
       "  <tbody>\n",
       "    <tr>\n",
       "      <th>0</th>\n",
       "      <td>1633136400</td>\n",
       "      <td>30.39</td>\n",
       "      <td>37.39</td>\n",
       "      <td>1012</td>\n",
       "      <td>77</td>\n",
       "      <td>25.90</td>\n",
       "      <td>2.73</td>\n",
       "      <td>59</td>\n",
       "      <td>10000</td>\n",
       "      <td>1.64</td>\n",
       "      <td>197</td>\n",
       "      <td>1.64</td>\n",
       "      <td>[{'id': 500, 'main': 'Rain', 'description': 'l...</td>\n",
       "      <td>0.35</td>\n",
       "      <td>{'1h': 0.14}</td>\n",
       "    </tr>\n",
       "    <tr>\n",
       "      <th>1</th>\n",
       "      <td>1633140000</td>\n",
       "      <td>30.76</td>\n",
       "      <td>37.76</td>\n",
       "      <td>1012</td>\n",
       "      <td>79</td>\n",
       "      <td>26.69</td>\n",
       "      <td>5.25</td>\n",
       "      <td>61</td>\n",
       "      <td>10000</td>\n",
       "      <td>1.79</td>\n",
       "      <td>184</td>\n",
       "      <td>1.73</td>\n",
       "      <td>[{'id': 803, 'main': 'Clouds', 'description': ...</td>\n",
       "      <td>0.35</td>\n",
       "      <td>NaN</td>\n",
       "    </tr>\n",
       "    <tr>\n",
       "      <th>2</th>\n",
       "      <td>1633143600</td>\n",
       "      <td>30.62</td>\n",
       "      <td>37.62</td>\n",
       "      <td>1012</td>\n",
       "      <td>76</td>\n",
       "      <td>25.90</td>\n",
       "      <td>7.67</td>\n",
       "      <td>60</td>\n",
       "      <td>10000</td>\n",
       "      <td>2.40</td>\n",
       "      <td>166</td>\n",
       "      <td>2.33</td>\n",
       "      <td>[{'id': 803, 'main': 'Clouds', 'description': ...</td>\n",
       "      <td>0.35</td>\n",
       "      <td>NaN</td>\n",
       "    </tr>\n",
       "    <tr>\n",
       "      <th>3</th>\n",
       "      <td>1633147200</td>\n",
       "      <td>30.48</td>\n",
       "      <td>36.79</td>\n",
       "      <td>1012</td>\n",
       "      <td>72</td>\n",
       "      <td>24.86</td>\n",
       "      <td>9.61</td>\n",
       "      <td>59</td>\n",
       "      <td>10000</td>\n",
       "      <td>2.18</td>\n",
       "      <td>151</td>\n",
       "      <td>2.06</td>\n",
       "      <td>[{'id': 803, 'main': 'Clouds', 'description': ...</td>\n",
       "      <td>0.31</td>\n",
       "      <td>NaN</td>\n",
       "    </tr>\n",
       "    <tr>\n",
       "      <th>4</th>\n",
       "      <td>1633150800</td>\n",
       "      <td>30.41</td>\n",
       "      <td>35.79</td>\n",
       "      <td>1011</td>\n",
       "      <td>69</td>\n",
       "      <td>24.08</td>\n",
       "      <td>9.44</td>\n",
       "      <td>54</td>\n",
       "      <td>10000</td>\n",
       "      <td>2.66</td>\n",
       "      <td>143</td>\n",
       "      <td>2.49</td>\n",
       "      <td>[{'id': 803, 'main': 'Clouds', 'description': ...</td>\n",
       "      <td>0.31</td>\n",
       "      <td>NaN</td>\n",
       "    </tr>\n",
       "  </tbody>\n",
       "</table>\n",
       "</div>"
      ],
      "text/plain": [
       "           dt   temp  feels_like  pressure  humidity  dew_point   uvi  clouds  \\\n",
       "0  1633136400  30.39       37.39      1012        77      25.90  2.73      59   \n",
       "1  1633140000  30.76       37.76      1012        79      26.69  5.25      61   \n",
       "2  1633143600  30.62       37.62      1012        76      25.90  7.67      60   \n",
       "3  1633147200  30.48       36.79      1012        72      24.86  9.61      59   \n",
       "4  1633150800  30.41       35.79      1011        69      24.08  9.44      54   \n",
       "\n",
       "   visibility  wind_speed  wind_deg  wind_gust  \\\n",
       "0       10000        1.64       197       1.64   \n",
       "1       10000        1.79       184       1.73   \n",
       "2       10000        2.40       166       2.33   \n",
       "3       10000        2.18       151       2.06   \n",
       "4       10000        2.66       143       2.49   \n",
       "\n",
       "                                             weather   pop          rain  \n",
       "0  [{'id': 500, 'main': 'Rain', 'description': 'l...  0.35  {'1h': 0.14}  \n",
       "1  [{'id': 803, 'main': 'Clouds', 'description': ...  0.35           NaN  \n",
       "2  [{'id': 803, 'main': 'Clouds', 'description': ...  0.35           NaN  \n",
       "3  [{'id': 803, 'main': 'Clouds', 'description': ...  0.31           NaN  \n",
       "4  [{'id': 803, 'main': 'Clouds', 'description': ...  0.31           NaN  "
      ]
     },
     "execution_count": 10,
     "metadata": {},
     "output_type": "execute_result"
    }
   ],
   "source": [
    "df_hourly.head()"
   ]
  },
  {
   "cell_type": "code",
   "execution_count": null,
   "metadata": {},
   "outputs": [],
   "source": []
  }
 ],
 "metadata": {
  "interpreter": {
   "hash": "c1b4cfe941b6d2466ad1fb5979e97da9cda8801728c8091b097ab734208fc00c"
  },
  "kernelspec": {
   "display_name": "Python 3.8.3 64-bit ('base': conda)",
   "name": "python3"
  },
  "language_info": {
   "codemirror_mode": {
    "name": "ipython",
    "version": 3
   },
   "file_extension": ".py",
   "mimetype": "text/x-python",
   "name": "python",
   "nbconvert_exporter": "python",
   "pygments_lexer": "ipython3",
   "version": "3.8.12"
  }
 },
 "nbformat": 4,
 "nbformat_minor": 2
}
