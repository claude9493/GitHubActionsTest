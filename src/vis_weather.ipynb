{
 "cells": [
  {
   "cell_type": "code",
   "execution_count": 1,
   "metadata": {
    "execution": {
     "iopub.execute_input": "2021-09-09T00:53:13.610886Z",
     "iopub.status.busy": "2021-09-09T00:53:13.610146Z",
     "iopub.status.idle": "2021-09-09T00:53:18.178272Z",
     "shell.execute_reply": "2021-09-09T00:53:18.177704Z"
    }
   },
   "outputs": [],
   "source": [
    "import json, yaml, requests\r\n",
    "from datetime import datetime\r\n",
    "from dateutil import tz\r\n",
    "import pandas as pd\r\n",
    "from PIL import Image\r\n",
    "from io import BytesIO\r\n",
    "import matplotlib.pyplot as plt\r\n",
    "import seaborn\r\n",
    "\r\n",
    "CONFIG_PATH = \"../config/config.yaml\""
   ]
  },
  {
   "cell_type": "code",
   "execution_count": 2,
   "metadata": {
    "execution": {
     "iopub.execute_input": "2021-09-09T00:53:18.185261Z",
     "iopub.status.busy": "2021-09-09T00:53:18.184583Z",
     "iopub.status.idle": "2021-09-09T00:53:18.190626Z",
     "shell.execute_reply": "2021-09-09T00:53:18.190030Z"
    }
   },
   "outputs": [],
   "source": [
    "with open('../newest_ts', 'r') as f:\r\n",
    "    newest_ts = f.read()\r\n",
    "\r\n",
    "data_path = f\"../data/data_{newest_ts}.json\"\r\n",
    "with open(data_path, 'r') as f:\r\n",
    "    data = json.load(f)\r\n",
    "\r\n",
    "with open(CONFIG_PATH, \"r\") as stream:\r\n",
    "    config = yaml.safe_load(stream)\r\n",
    "\r\n",
    "TIME_ZONE = config['time_zone']\r\n",
    "DATETIME_FORMAT = config['dt_format']"
   ]
  },
  {
   "cell_type": "code",
   "execution_count": 3,
   "metadata": {
    "execution": {
     "iopub.execute_input": "2021-09-09T00:53:18.196921Z",
     "iopub.status.busy": "2021-09-09T00:53:18.194977Z",
     "iopub.status.idle": "2021-09-09T00:53:18.199812Z",
     "shell.execute_reply": "2021-09-09T00:53:18.200241Z"
    }
   },
   "outputs": [
    {
     "name": "stdout",
     "output_type": "stream",
     "text": [
      "Recent query happens at 2021-09-09 08:53:09 (CST).\n"
     ]
    }
   ],
   "source": [
    "def ts2dt(ts, format=DATETIME_FORMAT):\r\n",
    "    dt = (datetime.utcfromtimestamp(int(ts))\r\n",
    "                    .replace(tzinfo=tz.tzutc())\r\n",
    "                    # .astimezone(tz.tzlocal())\r\n",
    "                    .astimezone(tz.gettz(TIME_ZONE)))\r\n",
    "    return dt.strftime(format), dt\r\n",
    "\r\n",
    "_, newest_dt = ts2dt(newest_ts)\r\n",
    "print(f\"Recent query happens at {newest_dt.strftime(DATETIME_FORMAT)} ({newest_dt.tzname()}).\")"
   ]
  },
  {
   "cell_type": "code",
   "execution_count": 4,
   "metadata": {
    "execution": {
     "iopub.execute_input": "2021-09-09T00:53:18.209634Z",
     "iopub.status.busy": "2021-09-09T00:53:18.208064Z",
     "iopub.status.idle": "2021-09-09T00:53:18.213015Z",
     "shell.execute_reply": "2021-09-09T00:53:18.212551Z"
    }
   },
   "outputs": [],
   "source": [
    "def degrees_to_cardinal(d):\r\n",
    "  dirs = ['N', 'NNE', 'NE', 'ENE', 'E', 'ESE', 'SE', 'SSE', 'S', 'SSW', 'SW', 'WSW', 'W', 'WNW', 'NW', 'NNW']\r\n",
    "  ix = int(round(d / (360. / len(dirs))))\r\n",
    "  return dirs[ix % len(dirs)]"
   ]
  },
  {
   "cell_type": "code",
   "execution_count": 5,
   "metadata": {
    "execution": {
     "iopub.execute_input": "2021-09-09T00:53:18.218169Z",
     "iopub.status.busy": "2021-09-09T00:53:18.216737Z",
     "iopub.status.idle": "2021-09-09T00:53:18.218818Z",
     "shell.execute_reply": "2021-09-09T00:53:18.219339Z"
    }
   },
   "outputs": [],
   "source": [
    "# data.keys()"
   ]
  },
  {
   "cell_type": "code",
   "execution_count": 6,
   "metadata": {
    "execution": {
     "iopub.execute_input": "2021-09-09T00:53:18.223457Z",
     "iopub.status.busy": "2021-09-09T00:53:18.222111Z",
     "iopub.status.idle": "2021-09-09T00:53:18.226184Z",
     "shell.execute_reply": "2021-09-09T00:53:18.226717Z"
    }
   },
   "outputs": [],
   "source": [
    "# data['current']"
   ]
  },
  {
   "cell_type": "code",
   "execution_count": 7,
   "metadata": {
    "execution": {
     "iopub.execute_input": "2021-09-09T00:53:18.253341Z",
     "iopub.status.busy": "2021-09-09T00:53:18.252733Z",
     "iopub.status.idle": "2021-09-09T00:53:18.766829Z",
     "shell.execute_reply": "2021-09-09T00:53:18.767834Z"
    }
   },
   "outputs": [
    {
     "data": {
      "image/png": "[encoded data removed]",
      "text/plain": [
       "<Figure size 216x216 with 1 Axes>"
      ]
     },
     "metadata": {
      "needs_background": "light"
     },
     "output_type": "display_data"
    },
    {
     "name": "stdout",
     "output_type": "stream",
     "text": [
      "Today, sun rises at 06:08 and sets at 18:32.\n",
      "Currently, the weather is Clear (clear sky).\n",
      "The temperature is 30.92°C and it feels like 37.38°C.\n",
      "The UV index is 3.57, humidity is 70%.\n",
      "The pressure is 1011 hPa, percentage of cloud cover is 3%\n",
      "The wind comes from ENE direction with a speed 2.34 m/s.\n"
     ]
    }
   ],
   "source": [
    "current = data['current']\r\n",
    "\r\n",
    "fig, ax = plt.subplots(figsize=(3, 3))\r\n",
    "icon = requests.get(f\"http://openweathermap.org/img/wn/{current['weather'][0]['icon']}@2x.png\")\r\n",
    "im = Image.open(BytesIO(icon.content))\r\n",
    "plt.imshow(im)\r\n",
    "ax.set_axis_off()\r\n",
    "plt.show()\r\n",
    "\r\n",
    "print(f\"Today, sun rises at {ts2dt(current['sunrise'], '%H:%M')[0]} \\\r\n",
    "and sets at {ts2dt(current['sunset'], '%H:%M')[0]}.\\n\\\r\n",
    "Currently, the weather is {current['weather'][0]['main']} ({current['weather'][0]['description']}).\\n\\\r\n",
    "The temperature is {current['temp']}°C and it feels like {current['feels_like']}°C.\\n\\\r\n",
    "The UV index is {current['uvi']}, humidity is {current['humidity']}%.\\n\\\r\n",
    "The pressure is {current['pressure']} hPa, percentage of cloud cover is {current['clouds']}%\\n\\\r\n",
    "The wind comes from {degrees_to_cardinal(current['wind_deg'])} direction with a speed {current['wind_speed']} m/s.\")"
   ]
  },
  {
   "cell_type": "code",
   "execution_count": 8,
   "metadata": {
    "execution": {
     "iopub.execute_input": "2021-09-09T00:53:18.776834Z",
     "iopub.status.busy": "2021-09-09T00:53:18.774985Z",
     "iopub.status.idle": "2021-09-09T00:53:18.780013Z",
     "shell.execute_reply": "2021-09-09T00:53:18.780784Z"
    }
   },
   "outputs": [],
   "source": [
    "df_hourly = pd.DataFrame(data['hourly'])\r\n",
    "df_daily = pd.DataFrame(data['daily'])"
   ]
  },
  {
   "cell_type": "code",
   "execution_count": 9,
   "metadata": {
    "execution": {
     "iopub.execute_input": "2021-09-09T00:53:18.790423Z",
     "iopub.status.busy": "2021-09-09T00:53:18.789775Z",
     "iopub.status.idle": "2021-09-09T00:53:19.117427Z",
     "shell.execute_reply": "2021-09-09T00:53:19.118222Z"
    }
   },
   "outputs": [
    {
     "data": {
      "image/png": "[encoded data removed]",
      "text/plain": [
       "<Figure size 864x432 with 1 Axes>"
      ]
     },
     "metadata": {
      "needs_background": "light"
     },
     "output_type": "display_data"
    }
   ],
   "source": [
    "fig, ax = plt.subplots(figsize=(12, 6))\r\n",
    "plt.plot(df_hourly.temp, '.-', label='Temperature')\r\n",
    "plt.plot(df_hourly.feels_like, '.-', label='Feels Like')\r\n",
    "ax.set(title='Temperature in future 48 hours', xlabel='Time', ylabel='Temperature')\r\n",
    "ax.set_xticks(list(range(0, len(df_hourly), 2)))\r\n",
    "ax.set_xticklabels([ts2dt(ts, '%m-%d %H:%M')[0] for i, ts in enumerate(df_hourly.dt) if i%2==0], \r\n",
    "                   rotation=45, ha=\"right\")\r\n",
    "ax.locator_params(nbins=15, axis='y')\r\n",
    "plt.legend()\r\n",
    "plt.show()"
   ]
  },
  {
   "cell_type": "code",
   "execution_count": 10,
   "metadata": {
    "execution": {
     "iopub.execute_input": "2021-09-09T00:53:19.131331Z",
     "iopub.status.busy": "2021-09-09T00:53:19.122468Z",
     "iopub.status.idle": "2021-09-09T00:53:19.143683Z",
     "shell.execute_reply": "2021-09-09T00:53:19.143221Z"
    }
   },
   "outputs": [
    {
     "data": {
      "text/html": [
       "<div>\n",
       "<style scoped>\n",
       "    .dataframe tbody tr th:only-of-type {\n",
       "        vertical-align: middle;\n",
       "    }\n",
       "\n",
       "    .dataframe tbody tr th {\n",
       "        vertical-align: top;\n",
       "    }\n",
       "\n",
       "    .dataframe thead th {\n",
       "        text-align: right;\n",
       "    }\n",
       "</style>\n",
       "<table border=\"1\" class=\"dataframe\">\n",
       "  <thead>\n",
       "    <tr style=\"text-align: right;\">\n",
       "      <th></th>\n",
       "      <th>dt</th>\n",
       "      <th>temp</th>\n",
       "      <th>feels_like</th>\n",
       "      <th>pressure</th>\n",
       "      <th>humidity</th>\n",
       "      <th>dew_point</th>\n",
       "      <th>uvi</th>\n",
       "      <th>clouds</th>\n",
       "      <th>visibility</th>\n",
       "      <th>wind_speed</th>\n",
       "      <th>wind_deg</th>\n",
       "      <th>wind_gust</th>\n",
       "      <th>weather</th>\n",
       "      <th>pop</th>\n",
       "      <th>rain</th>\n",
       "    </tr>\n",
       "  </thead>\n",
       "  <tbody>\n",
       "    <tr>\n",
       "      <th>0</th>\n",
       "      <td>1631145600</td>\n",
       "      <td>30.47</td>\n",
       "      <td>36.48</td>\n",
       "      <td>1011</td>\n",
       "      <td>71</td>\n",
       "      <td>24.61</td>\n",
       "      <td>1.37</td>\n",
       "      <td>5</td>\n",
       "      <td>10000</td>\n",
       "      <td>2.18</td>\n",
       "      <td>67</td>\n",
       "      <td>2.62</td>\n",
       "      <td>[{'id': 800, 'main': 'Clear', 'description': '...</td>\n",
       "      <td>0.59</td>\n",
       "      <td>NaN</td>\n",
       "    </tr>\n",
       "    <tr>\n",
       "      <th>1</th>\n",
       "      <td>1631149200</td>\n",
       "      <td>30.92</td>\n",
       "      <td>37.38</td>\n",
       "      <td>1011</td>\n",
       "      <td>70</td>\n",
       "      <td>24.81</td>\n",
       "      <td>3.57</td>\n",
       "      <td>3</td>\n",
       "      <td>10000</td>\n",
       "      <td>2.34</td>\n",
       "      <td>68</td>\n",
       "      <td>2.70</td>\n",
       "      <td>[{'id': 800, 'main': 'Clear', 'description': '...</td>\n",
       "      <td>0.03</td>\n",
       "      <td>NaN</td>\n",
       "    </tr>\n",
       "    <tr>\n",
       "      <th>2</th>\n",
       "      <td>1631152800</td>\n",
       "      <td>30.74</td>\n",
       "      <td>36.63</td>\n",
       "      <td>1011</td>\n",
       "      <td>69</td>\n",
       "      <td>24.39</td>\n",
       "      <td>6.51</td>\n",
       "      <td>3</td>\n",
       "      <td>10000</td>\n",
       "      <td>2.48</td>\n",
       "      <td>72</td>\n",
       "      <td>2.63</td>\n",
       "      <td>[{'id': 800, 'main': 'Clear', 'description': '...</td>\n",
       "      <td>0.00</td>\n",
       "      <td>NaN</td>\n",
       "    </tr>\n",
       "    <tr>\n",
       "      <th>3</th>\n",
       "      <td>1631156400</td>\n",
       "      <td>30.65</td>\n",
       "      <td>36.12</td>\n",
       "      <td>1011</td>\n",
       "      <td>68</td>\n",
       "      <td>24.06</td>\n",
       "      <td>9.25</td>\n",
       "      <td>3</td>\n",
       "      <td>10000</td>\n",
       "      <td>3.34</td>\n",
       "      <td>88</td>\n",
       "      <td>3.31</td>\n",
       "      <td>[{'id': 800, 'main': 'Clear', 'description': '...</td>\n",
       "      <td>0.00</td>\n",
       "      <td>NaN</td>\n",
       "    </tr>\n",
       "    <tr>\n",
       "      <th>4</th>\n",
       "      <td>1631160000</td>\n",
       "      <td>30.65</td>\n",
       "      <td>35.86</td>\n",
       "      <td>1010</td>\n",
       "      <td>67</td>\n",
       "      <td>23.82</td>\n",
       "      <td>8.94</td>\n",
       "      <td>7</td>\n",
       "      <td>10000</td>\n",
       "      <td>3.18</td>\n",
       "      <td>86</td>\n",
       "      <td>3.34</td>\n",
       "      <td>[{'id': 800, 'main': 'Clear', 'description': '...</td>\n",
       "      <td>0.00</td>\n",
       "      <td>NaN</td>\n",
       "    </tr>\n",
       "  </tbody>\n",
       "</table>\n",
       "</div>"
      ],
      "text/plain": [
       "           dt   temp  feels_like  pressure  humidity  dew_point   uvi  clouds  \\\n",
       "0  1631145600  30.47       36.48      1011        71      24.61  1.37       5   \n",
       "1  1631149200  30.92       37.38      1011        70      24.81  3.57       3   \n",
       "2  1631152800  30.74       36.63      1011        69      24.39  6.51       3   \n",
       "3  1631156400  30.65       36.12      1011        68      24.06  9.25       3   \n",
       "4  1631160000  30.65       35.86      1010        67      23.82  8.94       7   \n",
       "\n",
       "   visibility  wind_speed  wind_deg  wind_gust  \\\n",
       "0       10000        2.18        67       2.62   \n",
       "1       10000        2.34        68       2.70   \n",
       "2       10000        2.48        72       2.63   \n",
       "3       10000        3.34        88       3.31   \n",
       "4       10000        3.18        86       3.34   \n",
       "\n",
       "                                             weather   pop rain  \n",
       "0  [{'id': 800, 'main': 'Clear', 'description': '...  0.59  NaN  \n",
       "1  [{'id': 800, 'main': 'Clear', 'description': '...  0.03  NaN  \n",
       "2  [{'id': 800, 'main': 'Clear', 'description': '...  0.00  NaN  \n",
       "3  [{'id': 800, 'main': 'Clear', 'description': '...  0.00  NaN  \n",
       "4  [{'id': 800, 'main': 'Clear', 'description': '...  0.00  NaN  "
      ]
     },
     "execution_count": 10,
     "metadata": {},
     "output_type": "execute_result"
    }
   ],
   "source": [
    "df_hourly.head()"
   ]
  },
  {
   "cell_type": "code",
   "execution_count": null,
   "metadata": {},
   "outputs": [],
   "source": []
  }
 ],
 "metadata": {
  "interpreter": {
   "hash": "c1b4cfe941b6d2466ad1fb5979e97da9cda8801728c8091b097ab734208fc00c"
  },
  "kernelspec": {
   "display_name": "Python 3.8.3 64-bit ('base': conda)",
   "name": "python3"
  },
  "language_info": {
   "codemirror_mode": {
    "name": "ipython",
    "version": 3
   },
   "file_extension": ".py",
   "mimetype": "text/x-python",
   "name": "python",
   "nbconvert_exporter": "python",
   "pygments_lexer": "ipython3",
   "version": "3.8.11"
  }
 },
 "nbformat": 4,
 "nbformat_minor": 2
}
