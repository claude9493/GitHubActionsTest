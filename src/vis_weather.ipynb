{
 "cells": [
  {
   "cell_type": "code",
   "execution_count": 1,
   "metadata": {
    "execution": {
     "iopub.execute_input": "2021-10-18T03:12:34.505096Z",
     "iopub.status.busy": "2021-10-18T03:12:34.504556Z",
     "iopub.status.idle": "2021-10-18T03:12:35.910120Z",
     "shell.execute_reply": "2021-10-18T03:12:35.909495Z"
    }
   },
   "outputs": [],
   "source": [
    "import json, yaml, requests\r\n",
    "from datetime import datetime\r\n",
    "from dateutil import tz\r\n",
    "import pandas as pd\r\n",
    "from PIL import Image\r\n",
    "from io import BytesIO\r\n",
    "import matplotlib.pyplot as plt\r\n",
    "import seaborn\r\n",
    "\r\n",
    "CONFIG_PATH = \"../config/config.yaml\""
   ]
  },
  {
   "cell_type": "code",
   "execution_count": 2,
   "metadata": {
    "execution": {
     "iopub.execute_input": "2021-10-18T03:12:35.915629Z",
     "iopub.status.busy": "2021-10-18T03:12:35.914739Z",
     "iopub.status.idle": "2021-10-18T03:12:35.919929Z",
     "shell.execute_reply": "2021-10-18T03:12:35.919299Z"
    }
   },
   "outputs": [],
   "source": [
    "with open('../newest_ts', 'r') as f:\r\n",
    "    newest_ts = f.read()\r\n",
    "\r\n",
    "data_path = f\"../data/data_{newest_ts}.json\"\r\n",
    "with open(data_path, 'r') as f:\r\n",
    "    data = json.load(f)\r\n",
    "\r\n",
    "with open(CONFIG_PATH, \"r\") as stream:\r\n",
    "    config = yaml.safe_load(stream)\r\n",
    "\r\n",
    "TIME_ZONE = config['time_zone']\r\n",
    "DATETIME_FORMAT = config['dt_format']"
   ]
  },
  {
   "cell_type": "code",
   "execution_count": 3,
   "metadata": {
    "execution": {
     "iopub.execute_input": "2021-10-18T03:12:35.924059Z",
     "iopub.status.busy": "2021-10-18T03:12:35.923598Z",
     "iopub.status.idle": "2021-10-18T03:12:35.928445Z",
     "shell.execute_reply": "2021-10-18T03:12:35.928814Z"
    }
   },
   "outputs": [
    {
     "name": "stdout",
     "output_type": "stream",
     "text": [
      "Recent query happens at 2021-10-18 11:12:31 (CST).\n"
     ]
    }
   ],
   "source": [
    "def ts2dt(ts, format=DATETIME_FORMAT):\r\n",
    "    dt = (datetime.utcfromtimestamp(int(ts))\r\n",
    "                    .replace(tzinfo=tz.tzutc())\r\n",
    "                    # .astimezone(tz.tzlocal())\r\n",
    "                    .astimezone(tz.gettz(TIME_ZONE)))\r\n",
    "    return dt.strftime(format), dt\r\n",
    "\r\n",
    "_, newest_dt = ts2dt(newest_ts)\r\n",
    "print(f\"Recent query happens at {newest_dt.strftime(DATETIME_FORMAT)} ({newest_dt.tzname()}).\")"
   ]
  },
  {
   "cell_type": "code",
   "execution_count": 4,
   "metadata": {
    "execution": {
     "iopub.execute_input": "2021-10-18T03:12:35.933855Z",
     "iopub.status.busy": "2021-10-18T03:12:35.932715Z",
     "iopub.status.idle": "2021-10-18T03:12:35.934391Z",
     "shell.execute_reply": "2021-10-18T03:12:35.934806Z"
    }
   },
   "outputs": [],
   "source": [
    "def degrees_to_cardinal(d):\r\n",
    "  dirs = ['N', 'NNE', 'NE', 'ENE', 'E', 'ESE', 'SE', 'SSE', 'S', 'SSW', 'SW', 'WSW', 'W', 'WNW', 'NW', 'NNW']\r\n",
    "  ix = int(round(d / (360. / len(dirs))))\r\n",
    "  return dirs[ix % len(dirs)]"
   ]
  },
  {
   "cell_type": "code",
   "execution_count": 5,
   "metadata": {
    "execution": {
     "iopub.execute_input": "2021-10-18T03:12:35.938598Z",
     "iopub.status.busy": "2021-10-18T03:12:35.937604Z",
     "iopub.status.idle": "2021-10-18T03:12:35.939115Z",
     "shell.execute_reply": "2021-10-18T03:12:35.939478Z"
    }
   },
   "outputs": [],
   "source": [
    "# data.keys()"
   ]
  },
  {
   "cell_type": "code",
   "execution_count": 6,
   "metadata": {
    "execution": {
     "iopub.execute_input": "2021-10-18T03:12:35.943123Z",
     "iopub.status.busy": "2021-10-18T03:12:35.941987Z",
     "iopub.status.idle": "2021-10-18T03:12:35.943644Z",
     "shell.execute_reply": "2021-10-18T03:12:35.944005Z"
    }
   },
   "outputs": [],
   "source": [
    "# data['current']"
   ]
  },
  {
   "cell_type": "code",
   "execution_count": 7,
   "metadata": {
    "execution": {
     "iopub.execute_input": "2021-10-18T03:12:35.960636Z",
     "iopub.status.busy": "2021-10-18T03:12:35.960153Z",
     "iopub.status.idle": "2021-10-18T03:12:36.339336Z",
     "shell.execute_reply": "2021-10-18T03:12:36.340020Z"
    }
   },
   "outputs": [
    {
     "data": {
      "image/png": "[encoded data removed]",
      "text/plain": [
       "<Figure size 216x216 with 1 Axes>"
      ]
     },
     "metadata": {
      "needs_background": "light"
     },
     "output_type": "display_data"
    },
    {
     "name": "stdout",
     "output_type": "stream",
     "text": [
      "Today, sun rises at 06:20 and sets at 17:55.\n",
      "Currently, the weather is Clouds (broken clouds).\n",
      "The temperature is 23.76°C and it feels like 23.99°C.\n",
      "The UV index is 7.09, humidity is 69%.\n",
      "The pressure is 1018 hPa, percentage of cloud cover is 77%\n",
      "The wind comes from WSW direction with a speed 1.34 m/s.\n"
     ]
    }
   ],
   "source": [
    "current = data['current']\r\n",
    "\r\n",
    "fig, ax = plt.subplots(figsize=(3, 3))\r\n",
    "icon = requests.get(f\"http://openweathermap.org/img/wn/{current['weather'][0]['icon']}@2x.png\")\r\n",
    "im = Image.open(BytesIO(icon.content))\r\n",
    "plt.imshow(im)\r\n",
    "ax.set_axis_off()\r\n",
    "plt.show()\r\n",
    "\r\n",
    "print(f\"Today, sun rises at {ts2dt(current['sunrise'], '%H:%M')[0]} \\\r\n",
    "and sets at {ts2dt(current['sunset'], '%H:%M')[0]}.\\n\\\r\n",
    "Currently, the weather is {current['weather'][0]['main']} ({current['weather'][0]['description']}).\\n\\\r\n",
    "The temperature is {current['temp']}°C and it feels like {current['feels_like']}°C.\\n\\\r\n",
    "The UV index is {current['uvi']}, humidity is {current['humidity']}%.\\n\\\r\n",
    "The pressure is {current['pressure']} hPa, percentage of cloud cover is {current['clouds']}%\\n\\\r\n",
    "The wind comes from {degrees_to_cardinal(current['wind_deg'])} direction with a speed {current['wind_speed']} m/s.\")"
   ]
  },
  {
   "cell_type": "code",
   "execution_count": 8,
   "metadata": {
    "execution": {
     "iopub.execute_input": "2021-10-18T03:12:36.343390Z",
     "iopub.status.busy": "2021-10-18T03:12:36.342442Z",
     "iopub.status.idle": "2021-10-18T03:12:36.349324Z",
     "shell.execute_reply": "2021-10-18T03:12:36.349961Z"
    }
   },
   "outputs": [],
   "source": [
    "df_hourly = pd.DataFrame(data['hourly'])\r\n",
    "df_daily = pd.DataFrame(data['daily'])"
   ]
  },
  {
   "cell_type": "code",
   "execution_count": 9,
   "metadata": {
    "execution": {
     "iopub.execute_input": "2021-10-18T03:12:36.352956Z",
     "iopub.status.busy": "2021-10-18T03:12:36.352038Z",
     "iopub.status.idle": "2021-10-18T03:12:36.610952Z",
     "shell.execute_reply": "2021-10-18T03:12:36.610435Z"
    }
   },
   "outputs": [
    {
     "data": {
      "image/png": "[encoded data removed]",
      "text/plain": [
       "<Figure size 864x432 with 1 Axes>"
      ]
     },
     "metadata": {
      "needs_background": "light"
     },
     "output_type": "display_data"
    }
   ],
   "source": [
    "fig, ax = plt.subplots(figsize=(12, 6))\r\n",
    "plt.plot(df_hourly.temp, '.-', label='Temperature')\r\n",
    "plt.plot(df_hourly.feels_like, '.-', label='Feels Like')\r\n",
    "ax.set(title='Temperature in future 48 hours', xlabel='Time', ylabel='Temperature')\r\n",
    "ax.set_xticks(list(range(0, len(df_hourly), 2)))\r\n",
    "ax.set_xticklabels([ts2dt(ts, '%m-%d %H:%M')[0] for i, ts in enumerate(df_hourly.dt) if i%2==0], \r\n",
    "                   rotation=45, ha=\"right\")\r\n",
    "ax.locator_params(nbins=15, axis='y')\r\n",
    "plt.legend()\r\n",
    "plt.show()"
   ]
  },
  {
   "cell_type": "code",
   "execution_count": 10,
   "metadata": {
    "execution": {
     "iopub.execute_input": "2021-10-18T03:12:36.622099Z",
     "iopub.status.busy": "2021-10-18T03:12:36.614999Z",
     "iopub.status.idle": "2021-10-18T03:12:36.633178Z",
     "shell.execute_reply": "2021-10-18T03:12:36.632779Z"
    }
   },
   "outputs": [
    {
     "data": {
      "text/html": [
       "<div>\n",
       "<style scoped>\n",
       "    .dataframe tbody tr th:only-of-type {\n",
       "        vertical-align: middle;\n",
       "    }\n",
       "\n",
       "    .dataframe tbody tr th {\n",
       "        vertical-align: top;\n",
       "    }\n",
       "\n",
       "    .dataframe thead th {\n",
       "        text-align: right;\n",
       "    }\n",
       "</style>\n",
       "<table border=\"1\" class=\"dataframe\">\n",
       "  <thead>\n",
       "    <tr style=\"text-align: right;\">\n",
       "      <th></th>\n",
       "      <th>dt</th>\n",
       "      <th>temp</th>\n",
       "      <th>feels_like</th>\n",
       "      <th>pressure</th>\n",
       "      <th>humidity</th>\n",
       "      <th>dew_point</th>\n",
       "      <th>uvi</th>\n",
       "      <th>clouds</th>\n",
       "      <th>visibility</th>\n",
       "      <th>wind_speed</th>\n",
       "      <th>wind_deg</th>\n",
       "      <th>wind_gust</th>\n",
       "      <th>weather</th>\n",
       "      <th>pop</th>\n",
       "      <th>rain</th>\n",
       "    </tr>\n",
       "  </thead>\n",
       "  <tbody>\n",
       "    <tr>\n",
       "      <th>0</th>\n",
       "      <td>1634526000</td>\n",
       "      <td>23.76</td>\n",
       "      <td>23.99</td>\n",
       "      <td>1018</td>\n",
       "      <td>69</td>\n",
       "      <td>17.74</td>\n",
       "      <td>7.09</td>\n",
       "      <td>77</td>\n",
       "      <td>10000</td>\n",
       "      <td>2.67</td>\n",
       "      <td>52</td>\n",
       "      <td>3.41</td>\n",
       "      <td>[{'id': 803, 'main': 'Clouds', 'description': ...</td>\n",
       "      <td>0.0</td>\n",
       "      <td>NaN</td>\n",
       "    </tr>\n",
       "    <tr>\n",
       "      <th>1</th>\n",
       "      <td>1634529600</td>\n",
       "      <td>23.72</td>\n",
       "      <td>23.92</td>\n",
       "      <td>1018</td>\n",
       "      <td>68</td>\n",
       "      <td>17.47</td>\n",
       "      <td>8.49</td>\n",
       "      <td>76</td>\n",
       "      <td>10000</td>\n",
       "      <td>2.26</td>\n",
       "      <td>60</td>\n",
       "      <td>2.88</td>\n",
       "      <td>[{'id': 803, 'main': 'Clouds', 'description': ...</td>\n",
       "      <td>0.0</td>\n",
       "      <td>NaN</td>\n",
       "    </tr>\n",
       "    <tr>\n",
       "      <th>2</th>\n",
       "      <td>1634533200</td>\n",
       "      <td>23.84</td>\n",
       "      <td>24.03</td>\n",
       "      <td>1018</td>\n",
       "      <td>67</td>\n",
       "      <td>17.35</td>\n",
       "      <td>8.33</td>\n",
       "      <td>72</td>\n",
       "      <td>10000</td>\n",
       "      <td>2.45</td>\n",
       "      <td>73</td>\n",
       "      <td>2.78</td>\n",
       "      <td>[{'id': 803, 'main': 'Clouds', 'description': ...</td>\n",
       "      <td>0.0</td>\n",
       "      <td>NaN</td>\n",
       "    </tr>\n",
       "    <tr>\n",
       "      <th>3</th>\n",
       "      <td>1634536800</td>\n",
       "      <td>23.92</td>\n",
       "      <td>24.09</td>\n",
       "      <td>1017</td>\n",
       "      <td>66</td>\n",
       "      <td>17.18</td>\n",
       "      <td>6.71</td>\n",
       "      <td>63</td>\n",
       "      <td>10000</td>\n",
       "      <td>2.99</td>\n",
       "      <td>84</td>\n",
       "      <td>3.05</td>\n",
       "      <td>[{'id': 803, 'main': 'Clouds', 'description': ...</td>\n",
       "      <td>0.0</td>\n",
       "      <td>NaN</td>\n",
       "    </tr>\n",
       "    <tr>\n",
       "      <th>4</th>\n",
       "      <td>1634540400</td>\n",
       "      <td>24.02</td>\n",
       "      <td>24.20</td>\n",
       "      <td>1016</td>\n",
       "      <td>66</td>\n",
       "      <td>17.28</td>\n",
       "      <td>4.29</td>\n",
       "      <td>34</td>\n",
       "      <td>10000</td>\n",
       "      <td>3.50</td>\n",
       "      <td>90</td>\n",
       "      <td>3.50</td>\n",
       "      <td>[{'id': 802, 'main': 'Clouds', 'description': ...</td>\n",
       "      <td>0.0</td>\n",
       "      <td>NaN</td>\n",
       "    </tr>\n",
       "  </tbody>\n",
       "</table>\n",
       "</div>"
      ],
      "text/plain": [
       "           dt   temp  feels_like  pressure  humidity  dew_point   uvi  clouds  \\\n",
       "0  1634526000  23.76       23.99      1018        69      17.74  7.09      77   \n",
       "1  1634529600  23.72       23.92      1018        68      17.47  8.49      76   \n",
       "2  1634533200  23.84       24.03      1018        67      17.35  8.33      72   \n",
       "3  1634536800  23.92       24.09      1017        66      17.18  6.71      63   \n",
       "4  1634540400  24.02       24.20      1016        66      17.28  4.29      34   \n",
       "\n",
       "   visibility  wind_speed  wind_deg  wind_gust  \\\n",
       "0       10000        2.67        52       3.41   \n",
       "1       10000        2.26        60       2.88   \n",
       "2       10000        2.45        73       2.78   \n",
       "3       10000        2.99        84       3.05   \n",
       "4       10000        3.50        90       3.50   \n",
       "\n",
       "                                             weather  pop rain  \n",
       "0  [{'id': 803, 'main': 'Clouds', 'description': ...  0.0  NaN  \n",
       "1  [{'id': 803, 'main': 'Clouds', 'description': ...  0.0  NaN  \n",
       "2  [{'id': 803, 'main': 'Clouds', 'description': ...  0.0  NaN  \n",
       "3  [{'id': 803, 'main': 'Clouds', 'description': ...  0.0  NaN  \n",
       "4  [{'id': 802, 'main': 'Clouds', 'description': ...  0.0  NaN  "
      ]
     },
     "execution_count": 10,
     "metadata": {},
     "output_type": "execute_result"
    }
   ],
   "source": [
    "df_hourly.head()"
   ]
  },
  {
   "cell_type": "code",
   "execution_count": null,
   "metadata": {},
   "outputs": [],
   "source": []
  }
 ],
 "metadata": {
  "interpreter": {
   "hash": "c1b4cfe941b6d2466ad1fb5979e97da9cda8801728c8091b097ab734208fc00c"
  },
  "kernelspec": {
   "display_name": "Python 3.8.3 64-bit ('base': conda)",
   "name": "python3"
  },
  "language_info": {
   "codemirror_mode": {
    "name": "ipython",
    "version": 3
   },
   "file_extension": ".py",
   "mimetype": "text/x-python",
   "name": "python",
   "nbconvert_exporter": "python",
   "pygments_lexer": "ipython3",
   "version": "3.8.12"
  }
 },
 "nbformat": 4,
 "nbformat_minor": 2
}
