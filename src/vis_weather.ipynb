{
 "cells": [
  {
   "cell_type": "code",
   "execution_count": 1,
   "metadata": {
    "execution": {
     "iopub.execute_input": "2021-09-04T03:16:26.236939Z",
     "iopub.status.busy": "2021-09-04T03:16:26.236189Z",
     "iopub.status.idle": "2021-09-04T03:16:30.709813Z",
     "shell.execute_reply": "2021-09-04T03:16:30.710280Z"
    }
   },
   "outputs": [],
   "source": [
    "import json, yaml, requests\r\n",
    "from datetime import datetime\r\n",
    "from dateutil import tz\r\n",
    "import pandas as pd\r\n",
    "from PIL import Image\r\n",
    "from io import BytesIO\r\n",
    "import matplotlib.pyplot as plt\r\n",
    "import seaborn\r\n",
    "\r\n",
    "CONFIG_PATH = \"../config/config.yaml\""
   ]
  },
  {
   "cell_type": "code",
   "execution_count": 2,
   "metadata": {
    "execution": {
     "iopub.execute_input": "2021-09-04T03:16:30.719673Z",
     "iopub.status.busy": "2021-09-04T03:16:30.715913Z",
     "iopub.status.idle": "2021-09-04T03:16:30.722628Z",
     "shell.execute_reply": "2021-09-04T03:16:30.722167Z"
    }
   },
   "outputs": [],
   "source": [
    "with open('../newest_ts', 'r') as f:\r\n",
    "    newest_ts = f.read()\r\n",
    "\r\n",
    "data_path = f\"../data/data_{newest_ts}.json\"\r\n",
    "with open(data_path, 'r') as f:\r\n",
    "    data = json.load(f)\r\n",
    "\r\n",
    "with open(CONFIG_PATH, \"r\") as stream:\r\n",
    "    config = yaml.safe_load(stream)\r\n",
    "\r\n",
    "TIME_ZONE = config['time_zone']\r\n",
    "DATETIME_FORMAT = config['dt_format']"
   ]
  },
  {
   "cell_type": "code",
   "execution_count": 3,
   "metadata": {
    "execution": {
     "iopub.execute_input": "2021-09-04T03:16:30.727830Z",
     "iopub.status.busy": "2021-09-04T03:16:30.727199Z",
     "iopub.status.idle": "2021-09-04T03:16:30.822880Z",
     "shell.execute_reply": "2021-09-04T03:16:30.823315Z"
    }
   },
   "outputs": [
    {
     "name": "stdout",
     "output_type": "stream",
     "text": [
      "Recent query happens at 2021-09-04 11:16:22 (CST).\n"
     ]
    }
   ],
   "source": [
    "def ts2dt(ts, format=DATETIME_FORMAT):\r\n",
    "    dt = (datetime.utcfromtimestamp(int(ts))\r\n",
    "                    .replace(tzinfo=tz.tzutc())\r\n",
    "                    # .astimezone(tz.tzlocal())\r\n",
    "                    .astimezone(tz.gettz(TIME_ZONE)))\r\n",
    "    return dt.strftime(format), dt\r\n",
    "\r\n",
    "_, newest_dt = ts2dt(newest_ts)\r\n",
    "print(f\"Recent query happens at {newest_dt.strftime(DATETIME_FORMAT)} ({newest_dt.tzname()}).\")"
   ]
  },
  {
   "cell_type": "code",
   "execution_count": 4,
   "metadata": {
    "execution": {
     "iopub.execute_input": "2021-09-04T03:16:30.829572Z",
     "iopub.status.busy": "2021-09-04T03:16:30.828358Z",
     "iopub.status.idle": "2021-09-04T03:16:30.830173Z",
     "shell.execute_reply": "2021-09-04T03:16:30.830598Z"
    }
   },
   "outputs": [],
   "source": [
    "def degrees_to_cardinal(d):\r\n",
    "  dirs = ['N', 'NNE', 'NE', 'ENE', 'E', 'ESE', 'SE', 'SSE', 'S', 'SSW', 'SW', 'WSW', 'W', 'WNW', 'NW', 'NNW']\r\n",
    "  ix = int(round(d / (360. / len(dirs))))\r\n",
    "  return dirs[ix % len(dirs)]"
   ]
  },
  {
   "cell_type": "code",
   "execution_count": 5,
   "metadata": {
    "execution": {
     "iopub.execute_input": "2021-09-04T03:16:30.835470Z",
     "iopub.status.busy": "2021-09-04T03:16:30.834186Z",
     "iopub.status.idle": "2021-09-04T03:16:30.836074Z",
     "shell.execute_reply": "2021-09-04T03:16:30.836496Z"
    }
   },
   "outputs": [],
   "source": [
    "# data.keys()"
   ]
  },
  {
   "cell_type": "code",
   "execution_count": 6,
   "metadata": {
    "execution": {
     "iopub.execute_input": "2021-09-04T03:16:30.841000Z",
     "iopub.status.busy": "2021-09-04T03:16:30.839718Z",
     "iopub.status.idle": "2021-09-04T03:16:30.841636Z",
     "shell.execute_reply": "2021-09-04T03:16:30.842069Z"
    }
   },
   "outputs": [],
   "source": [
    "# data['current']"
   ]
  },
  {
   "cell_type": "code",
   "execution_count": 7,
   "metadata": {
    "execution": {
     "iopub.execute_input": "2021-09-04T03:16:30.861491Z",
     "iopub.status.busy": "2021-09-04T03:16:30.860881Z",
     "iopub.status.idle": "2021-09-04T03:16:31.291538Z",
     "shell.execute_reply": "2021-09-04T03:16:31.292288Z"
    }
   },
   "outputs": [
    {
     "data": {
      "image/png": "[encoded data removed]",
      "text/plain": [
       "<Figure size 216x216 with 1 Axes>"
      ]
     },
     "metadata": {
      "needs_background": "light"
     },
     "output_type": "display_data"
    },
    {
     "name": "stdout",
     "output_type": "stream",
     "text": [
      "Today, sun rises at 06:06 and sets at 18:37.\n",
      "Currently, the weather is Rain (light rain).\n",
      "The temperature is 29.5°C and it feels like 36.17°C.\n",
      "The UV index is 9.74, humidity is 80%.\n",
      "The pressure is 1009 hPa, percentage of cloud cover is 16%\n",
      "The wind comes from ESE direction with a speed 1.79 m/s.\n"
     ]
    }
   ],
   "source": [
    "current = data['current']\r\n",
    "\r\n",
    "fig, ax = plt.subplots(figsize=(3, 3))\r\n",
    "icon = requests.get(f\"http://openweathermap.org/img/wn/{current['weather'][0]['icon']}@2x.png\")\r\n",
    "im = Image.open(BytesIO(icon.content))\r\n",
    "plt.imshow(im)\r\n",
    "ax.set_axis_off()\r\n",
    "plt.show()\r\n",
    "\r\n",
    "print(f\"Today, sun rises at {ts2dt(current['sunrise'], '%H:%M')[0]} \\\r\n",
    "and sets at {ts2dt(current['sunset'], '%H:%M')[0]}.\\n\\\r\n",
    "Currently, the weather is {current['weather'][0]['main']} ({current['weather'][0]['description']}).\\n\\\r\n",
    "The temperature is {current['temp']}°C and it feels like {current['feels_like']}°C.\\n\\\r\n",
    "The UV index is {current['uvi']}, humidity is {current['humidity']}%.\\n\\\r\n",
    "The pressure is {current['pressure']} hPa, percentage of cloud cover is {current['clouds']}%\\n\\\r\n",
    "The wind comes from {degrees_to_cardinal(current['wind_deg'])} direction with a speed {current['wind_speed']} m/s.\")"
   ]
  },
  {
   "cell_type": "code",
   "execution_count": 8,
   "metadata": {
    "execution": {
     "iopub.execute_input": "2021-09-04T03:16:31.296090Z",
     "iopub.status.busy": "2021-09-04T03:16:31.295026Z",
     "iopub.status.idle": "2021-09-04T03:16:31.302795Z",
     "shell.execute_reply": "2021-09-04T03:16:31.303525Z"
    }
   },
   "outputs": [],
   "source": [
    "df_hourly = pd.DataFrame(data['hourly'])\r\n",
    "df_daily = pd.DataFrame(data['daily'])"
   ]
  },
  {
   "cell_type": "code",
   "execution_count": 9,
   "metadata": {
    "execution": {
     "iopub.execute_input": "2021-09-04T03:16:31.306969Z",
     "iopub.status.busy": "2021-09-04T03:16:31.305923Z",
     "iopub.status.idle": "2021-09-04T03:16:31.583215Z",
     "shell.execute_reply": "2021-09-04T03:16:31.582722Z"
    }
   },
   "outputs": [
    {
     "data": {
      "image/png": "[encoded data removed]",
      "text/plain": [
       "<Figure size 864x432 with 1 Axes>"
      ]
     },
     "metadata": {
      "needs_background": "light"
     },
     "output_type": "display_data"
    }
   ],
   "source": [
    "fig, ax = plt.subplots(figsize=(12, 6))\r\n",
    "plt.plot(df_hourly.temp, '.-', label='Temperature')\r\n",
    "plt.plot(df_hourly.feels_like, '.-', label='Feels Like')\r\n",
    "ax.set(title='Temperature in future 48 hours', xlabel='Time', ylabel='Temperature')\r\n",
    "ax.set_xticks(list(range(0, len(df_hourly), 2)))\r\n",
    "ax.set_xticklabels([ts2dt(ts, '%m-%d %H:%M')[0] for i, ts in enumerate(df_hourly.dt) if i%2==0], \r\n",
    "                   rotation=45, ha=\"right\")\r\n",
    "ax.locator_params(nbins=15, axis='y')\r\n",
    "plt.legend()\r\n",
    "plt.show()"
   ]
  },
  {
   "cell_type": "code",
   "execution_count": 10,
   "metadata": {
    "execution": {
     "iopub.execute_input": "2021-09-04T03:16:31.593547Z",
     "iopub.status.busy": "2021-09-04T03:16:31.587451Z",
     "iopub.status.idle": "2021-09-04T03:16:31.608093Z",
     "shell.execute_reply": "2021-09-04T03:16:31.607414Z"
    }
   },
   "outputs": [
    {
     "data": {
      "text/html": [
       "<div>\n",
       "<style scoped>\n",
       "    .dataframe tbody tr th:only-of-type {\n",
       "        vertical-align: middle;\n",
       "    }\n",
       "\n",
       "    .dataframe tbody tr th {\n",
       "        vertical-align: top;\n",
       "    }\n",
       "\n",
       "    .dataframe thead th {\n",
       "        text-align: right;\n",
       "    }\n",
       "</style>\n",
       "<table border=\"1\" class=\"dataframe\">\n",
       "  <thead>\n",
       "    <tr style=\"text-align: right;\">\n",
       "      <th></th>\n",
       "      <th>dt</th>\n",
       "      <th>temp</th>\n",
       "      <th>feels_like</th>\n",
       "      <th>pressure</th>\n",
       "      <th>humidity</th>\n",
       "      <th>dew_point</th>\n",
       "      <th>uvi</th>\n",
       "      <th>clouds</th>\n",
       "      <th>visibility</th>\n",
       "      <th>wind_speed</th>\n",
       "      <th>wind_deg</th>\n",
       "      <th>wind_gust</th>\n",
       "      <th>weather</th>\n",
       "      <th>pop</th>\n",
       "      <th>rain</th>\n",
       "    </tr>\n",
       "  </thead>\n",
       "  <tbody>\n",
       "    <tr>\n",
       "      <th>0</th>\n",
       "      <td>1630724400</td>\n",
       "      <td>29.50</td>\n",
       "      <td>36.17</td>\n",
       "      <td>1009</td>\n",
       "      <td>80</td>\n",
       "      <td>25.68</td>\n",
       "      <td>9.74</td>\n",
       "      <td>16</td>\n",
       "      <td>10000</td>\n",
       "      <td>1.79</td>\n",
       "      <td>115</td>\n",
       "      <td>1.80</td>\n",
       "      <td>[{'id': 500, 'main': 'Rain', 'description': 'l...</td>\n",
       "      <td>0.77</td>\n",
       "      <td>{'1h': 0.11}</td>\n",
       "    </tr>\n",
       "    <tr>\n",
       "      <th>1</th>\n",
       "      <td>1630728000</td>\n",
       "      <td>29.58</td>\n",
       "      <td>35.65</td>\n",
       "      <td>1009</td>\n",
       "      <td>77</td>\n",
       "      <td>25.12</td>\n",
       "      <td>11.46</td>\n",
       "      <td>16</td>\n",
       "      <td>10000</td>\n",
       "      <td>2.38</td>\n",
       "      <td>111</td>\n",
       "      <td>2.15</td>\n",
       "      <td>[{'id': 801, 'main': 'Clouds', 'description': ...</td>\n",
       "      <td>0.77</td>\n",
       "      <td>NaN</td>\n",
       "    </tr>\n",
       "    <tr>\n",
       "      <th>2</th>\n",
       "      <td>1630731600</td>\n",
       "      <td>29.75</td>\n",
       "      <td>35.38</td>\n",
       "      <td>1009</td>\n",
       "      <td>74</td>\n",
       "      <td>24.62</td>\n",
       "      <td>11.26</td>\n",
       "      <td>16</td>\n",
       "      <td>10000</td>\n",
       "      <td>3.05</td>\n",
       "      <td>107</td>\n",
       "      <td>2.58</td>\n",
       "      <td>[{'id': 801, 'main': 'Clouds', 'description': ...</td>\n",
       "      <td>0.73</td>\n",
       "      <td>NaN</td>\n",
       "    </tr>\n",
       "    <tr>\n",
       "      <th>3</th>\n",
       "      <td>1630735200</td>\n",
       "      <td>29.99</td>\n",
       "      <td>35.26</td>\n",
       "      <td>1008</td>\n",
       "      <td>71</td>\n",
       "      <td>24.15</td>\n",
       "      <td>9.32</td>\n",
       "      <td>17</td>\n",
       "      <td>10000</td>\n",
       "      <td>3.50</td>\n",
       "      <td>108</td>\n",
       "      <td>2.90</td>\n",
       "      <td>[{'id': 801, 'main': 'Clouds', 'description': ...</td>\n",
       "      <td>0.64</td>\n",
       "      <td>NaN</td>\n",
       "    </tr>\n",
       "    <tr>\n",
       "      <th>4</th>\n",
       "      <td>1630738800</td>\n",
       "      <td>30.07</td>\n",
       "      <td>34.73</td>\n",
       "      <td>1007</td>\n",
       "      <td>68</td>\n",
       "      <td>23.51</td>\n",
       "      <td>6.42</td>\n",
       "      <td>6</td>\n",
       "      <td>10000</td>\n",
       "      <td>3.89</td>\n",
       "      <td>112</td>\n",
       "      <td>3.45</td>\n",
       "      <td>[{'id': 800, 'main': 'Clear', 'description': '...</td>\n",
       "      <td>0.01</td>\n",
       "      <td>NaN</td>\n",
       "    </tr>\n",
       "  </tbody>\n",
       "</table>\n",
       "</div>"
      ],
      "text/plain": [
       "           dt   temp  feels_like  pressure  humidity  dew_point    uvi  \\\n",
       "0  1630724400  29.50       36.17      1009        80      25.68   9.74   \n",
       "1  1630728000  29.58       35.65      1009        77      25.12  11.46   \n",
       "2  1630731600  29.75       35.38      1009        74      24.62  11.26   \n",
       "3  1630735200  29.99       35.26      1008        71      24.15   9.32   \n",
       "4  1630738800  30.07       34.73      1007        68      23.51   6.42   \n",
       "\n",
       "   clouds  visibility  wind_speed  wind_deg  wind_gust  \\\n",
       "0      16       10000        1.79       115       1.80   \n",
       "1      16       10000        2.38       111       2.15   \n",
       "2      16       10000        3.05       107       2.58   \n",
       "3      17       10000        3.50       108       2.90   \n",
       "4       6       10000        3.89       112       3.45   \n",
       "\n",
       "                                             weather   pop          rain  \n",
       "0  [{'id': 500, 'main': 'Rain', 'description': 'l...  0.77  {'1h': 0.11}  \n",
       "1  [{'id': 801, 'main': 'Clouds', 'description': ...  0.77           NaN  \n",
       "2  [{'id': 801, 'main': 'Clouds', 'description': ...  0.73           NaN  \n",
       "3  [{'id': 801, 'main': 'Clouds', 'description': ...  0.64           NaN  \n",
       "4  [{'id': 800, 'main': 'Clear', 'description': '...  0.01           NaN  "
      ]
     },
     "execution_count": 10,
     "metadata": {},
     "output_type": "execute_result"
    }
   ],
   "source": [
    "df_hourly.head()"
   ]
  },
  {
   "cell_type": "code",
   "execution_count": null,
   "metadata": {},
   "outputs": [],
   "source": []
  }
 ],
 "metadata": {
  "interpreter": {
   "hash": "c1b4cfe941b6d2466ad1fb5979e97da9cda8801728c8091b097ab734208fc00c"
  },
  "kernelspec": {
   "display_name": "Python 3.8.3 64-bit ('base': conda)",
   "name": "python3"
  },
  "language_info": {
   "codemirror_mode": {
    "name": "ipython",
    "version": 3
   },
   "file_extension": ".py",
   "mimetype": "text/x-python",
   "name": "python",
   "nbconvert_exporter": "python",
   "pygments_lexer": "ipython3",
   "version": "3.8.11"
  }
 },
 "nbformat": 4,
 "nbformat_minor": 2
}
