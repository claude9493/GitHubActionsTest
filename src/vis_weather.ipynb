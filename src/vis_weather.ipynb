{
 "cells": [
  {
   "cell_type": "code",
   "execution_count": 1,
   "metadata": {
    "execution": {
     "iopub.execute_input": "2021-09-11T08:17:20.590421Z",
     "iopub.status.busy": "2021-09-11T08:17:20.589798Z",
     "iopub.status.idle": "2021-09-11T08:17:23.082971Z",
     "shell.execute_reply": "2021-09-11T08:17:23.082426Z"
    }
   },
   "outputs": [],
   "source": [
    "import json, yaml, requests\r\n",
    "from datetime import datetime\r\n",
    "from dateutil import tz\r\n",
    "import pandas as pd\r\n",
    "from PIL import Image\r\n",
    "from io import BytesIO\r\n",
    "import matplotlib.pyplot as plt\r\n",
    "import seaborn\r\n",
    "\r\n",
    "CONFIG_PATH = \"../config/config.yaml\""
   ]
  },
  {
   "cell_type": "code",
   "execution_count": 2,
   "metadata": {
    "execution": {
     "iopub.execute_input": "2021-09-11T08:17:23.088171Z",
     "iopub.status.busy": "2021-09-11T08:17:23.087617Z",
     "iopub.status.idle": "2021-09-11T08:17:23.092262Z",
     "shell.execute_reply": "2021-09-11T08:17:23.092629Z"
    }
   },
   "outputs": [],
   "source": [
    "with open('../newest_ts', 'r') as f:\r\n",
    "    newest_ts = f.read()\r\n",
    "\r\n",
    "data_path = f\"../data/data_{newest_ts}.json\"\r\n",
    "with open(data_path, 'r') as f:\r\n",
    "    data = json.load(f)\r\n",
    "\r\n",
    "with open(CONFIG_PATH, \"r\") as stream:\r\n",
    "    config = yaml.safe_load(stream)\r\n",
    "\r\n",
    "TIME_ZONE = config['time_zone']\r\n",
    "DATETIME_FORMAT = config['dt_format']"
   ]
  },
  {
   "cell_type": "code",
   "execution_count": 3,
   "metadata": {
    "execution": {
     "iopub.execute_input": "2021-09-11T08:17:23.097402Z",
     "iopub.status.busy": "2021-09-11T08:17:23.096632Z",
     "iopub.status.idle": "2021-09-11T08:17:23.103178Z",
     "shell.execute_reply": "2021-09-11T08:17:23.103750Z"
    }
   },
   "outputs": [
    {
     "name": "stdout",
     "output_type": "stream",
     "text": [
      "Recent query happens at 2021-09-11 16:17:17 (CST).\n"
     ]
    }
   ],
   "source": [
    "def ts2dt(ts, format=DATETIME_FORMAT):\r\n",
    "    dt = (datetime.utcfromtimestamp(int(ts))\r\n",
    "                    .replace(tzinfo=tz.tzutc())\r\n",
    "                    # .astimezone(tz.tzlocal())\r\n",
    "                    .astimezone(tz.gettz(TIME_ZONE)))\r\n",
    "    return dt.strftime(format), dt\r\n",
    "\r\n",
    "_, newest_dt = ts2dt(newest_ts)\r\n",
    "print(f\"Recent query happens at {newest_dt.strftime(DATETIME_FORMAT)} ({newest_dt.tzname()}).\")"
   ]
  },
  {
   "cell_type": "code",
   "execution_count": 4,
   "metadata": {
    "execution": {
     "iopub.execute_input": "2021-09-11T08:17:23.110576Z",
     "iopub.status.busy": "2021-09-11T08:17:23.109106Z",
     "iopub.status.idle": "2021-09-11T08:17:23.111343Z",
     "shell.execute_reply": "2021-09-11T08:17:23.111917Z"
    }
   },
   "outputs": [],
   "source": [
    "def degrees_to_cardinal(d):\r\n",
    "  dirs = ['N', 'NNE', 'NE', 'ENE', 'E', 'ESE', 'SE', 'SSE', 'S', 'SSW', 'SW', 'WSW', 'W', 'WNW', 'NW', 'NNW']\r\n",
    "  ix = int(round(d / (360. / len(dirs))))\r\n",
    "  return dirs[ix % len(dirs)]"
   ]
  },
  {
   "cell_type": "code",
   "execution_count": 5,
   "metadata": {
    "execution": {
     "iopub.execute_input": "2021-09-11T08:17:23.117600Z",
     "iopub.status.busy": "2021-09-11T08:17:23.116022Z",
     "iopub.status.idle": "2021-09-11T08:17:23.118308Z",
     "shell.execute_reply": "2021-09-11T08:17:23.118780Z"
    }
   },
   "outputs": [],
   "source": [
    "# data.keys()"
   ]
  },
  {
   "cell_type": "code",
   "execution_count": 6,
   "metadata": {
    "execution": {
     "iopub.execute_input": "2021-09-11T08:17:23.123286Z",
     "iopub.status.busy": "2021-09-11T08:17:23.121958Z",
     "iopub.status.idle": "2021-09-11T08:17:23.123870Z",
     "shell.execute_reply": "2021-09-11T08:17:23.124309Z"
    }
   },
   "outputs": [],
   "source": [
    "# data['current']"
   ]
  },
  {
   "cell_type": "code",
   "execution_count": 7,
   "metadata": {
    "execution": {
     "iopub.execute_input": "2021-09-11T08:17:23.145257Z",
     "iopub.status.busy": "2021-09-11T08:17:23.130125Z",
     "iopub.status.idle": "2021-09-11T08:17:23.716543Z",
     "shell.execute_reply": "2021-09-11T08:17:23.717239Z"
    }
   },
   "outputs": [
    {
     "data": {
      "image/png": "[encoded data removed]",
      "text/plain": [
       "<Figure size 216x216 with 1 Axes>"
      ]
     },
     "metadata": {
      "needs_background": "light"
     },
     "output_type": "display_data"
    },
    {
     "name": "stdout",
     "output_type": "stream",
     "text": [
      "Today, sun rises at 06:08 and sets at 18:31.\n",
      "Currently, the weather is Clouds (broken clouds).\n",
      "The temperature is 34.75°C and it feels like 41.75°C.\n",
      "The UV index is 2.23, humidity is 72%.\n",
      "The pressure is 1002 hPa, percentage of cloud cover is 77%\n",
      "The wind comes from WSW direction with a speed 3.96 m/s.\n"
     ]
    }
   ],
   "source": [
    "current = data['current']\r\n",
    "\r\n",
    "fig, ax = plt.subplots(figsize=(3, 3))\r\n",
    "icon = requests.get(f\"http://openweathermap.org/img/wn/{current['weather'][0]['icon']}@2x.png\")\r\n",
    "im = Image.open(BytesIO(icon.content))\r\n",
    "plt.imshow(im)\r\n",
    "ax.set_axis_off()\r\n",
    "plt.show()\r\n",
    "\r\n",
    "print(f\"Today, sun rises at {ts2dt(current['sunrise'], '%H:%M')[0]} \\\r\n",
    "and sets at {ts2dt(current['sunset'], '%H:%M')[0]}.\\n\\\r\n",
    "Currently, the weather is {current['weather'][0]['main']} ({current['weather'][0]['description']}).\\n\\\r\n",
    "The temperature is {current['temp']}°C and it feels like {current['feels_like']}°C.\\n\\\r\n",
    "The UV index is {current['uvi']}, humidity is {current['humidity']}%.\\n\\\r\n",
    "The pressure is {current['pressure']} hPa, percentage of cloud cover is {current['clouds']}%\\n\\\r\n",
    "The wind comes from {degrees_to_cardinal(current['wind_deg'])} direction with a speed {current['wind_speed']} m/s.\")"
   ]
  },
  {
   "cell_type": "code",
   "execution_count": 8,
   "metadata": {
    "execution": {
     "iopub.execute_input": "2021-09-11T08:17:23.726321Z",
     "iopub.status.busy": "2021-09-11T08:17:23.724708Z",
     "iopub.status.idle": "2021-09-11T08:17:23.729020Z",
     "shell.execute_reply": "2021-09-11T08:17:23.729710Z"
    }
   },
   "outputs": [],
   "source": [
    "df_hourly = pd.DataFrame(data['hourly'])\r\n",
    "df_daily = pd.DataFrame(data['daily'])"
   ]
  },
  {
   "cell_type": "code",
   "execution_count": 9,
   "metadata": {
    "execution": {
     "iopub.execute_input": "2021-09-11T08:17:23.748947Z",
     "iopub.status.busy": "2021-09-11T08:17:23.746659Z",
     "iopub.status.idle": "2021-09-11T08:17:24.052350Z",
     "shell.execute_reply": "2021-09-11T08:17:24.052873Z"
    }
   },
   "outputs": [
    {
     "data": {
      "image/png": "[encoded data removed]",
      "text/plain": [
       "<Figure size 864x432 with 1 Axes>"
      ]
     },
     "metadata": {
      "needs_background": "light"
     },
     "output_type": "display_data"
    }
   ],
   "source": [
    "fig, ax = plt.subplots(figsize=(12, 6))\r\n",
    "plt.plot(df_hourly.temp, '.-', label='Temperature')\r\n",
    "plt.plot(df_hourly.feels_like, '.-', label='Feels Like')\r\n",
    "ax.set(title='Temperature in future 48 hours', xlabel='Time', ylabel='Temperature')\r\n",
    "ax.set_xticks(list(range(0, len(df_hourly), 2)))\r\n",
    "ax.set_xticklabels([ts2dt(ts, '%m-%d %H:%M')[0] for i, ts in enumerate(df_hourly.dt) if i%2==0], \r\n",
    "                   rotation=45, ha=\"right\")\r\n",
    "ax.locator_params(nbins=15, axis='y')\r\n",
    "plt.legend()\r\n",
    "plt.show()"
   ]
  },
  {
   "cell_type": "code",
   "execution_count": 10,
   "metadata": {
    "execution": {
     "iopub.execute_input": "2021-09-11T08:17:24.060302Z",
     "iopub.status.busy": "2021-09-11T08:17:24.059703Z",
     "iopub.status.idle": "2021-09-11T08:17:24.083040Z",
     "shell.execute_reply": "2021-09-11T08:17:24.082552Z"
    }
   },
   "outputs": [
    {
     "data": {
      "text/html": [
       "<div>\n",
       "<style scoped>\n",
       "    .dataframe tbody tr th:only-of-type {\n",
       "        vertical-align: middle;\n",
       "    }\n",
       "\n",
       "    .dataframe tbody tr th {\n",
       "        vertical-align: top;\n",
       "    }\n",
       "\n",
       "    .dataframe thead th {\n",
       "        text-align: right;\n",
       "    }\n",
       "</style>\n",
       "<table border=\"1\" class=\"dataframe\">\n",
       "  <thead>\n",
       "    <tr style=\"text-align: right;\">\n",
       "      <th></th>\n",
       "      <th>dt</th>\n",
       "      <th>temp</th>\n",
       "      <th>feels_like</th>\n",
       "      <th>pressure</th>\n",
       "      <th>humidity</th>\n",
       "      <th>dew_point</th>\n",
       "      <th>uvi</th>\n",
       "      <th>clouds</th>\n",
       "      <th>visibility</th>\n",
       "      <th>wind_speed</th>\n",
       "      <th>wind_deg</th>\n",
       "      <th>wind_gust</th>\n",
       "      <th>weather</th>\n",
       "      <th>pop</th>\n",
       "      <th>rain</th>\n",
       "    </tr>\n",
       "  </thead>\n",
       "  <tbody>\n",
       "    <tr>\n",
       "      <th>0</th>\n",
       "      <td>1631347200</td>\n",
       "      <td>34.75</td>\n",
       "      <td>41.75</td>\n",
       "      <td>1002</td>\n",
       "      <td>72</td>\n",
       "      <td>28.95</td>\n",
       "      <td>2.23</td>\n",
       "      <td>77</td>\n",
       "      <td>10000</td>\n",
       "      <td>3.96</td>\n",
       "      <td>255</td>\n",
       "      <td>4.51</td>\n",
       "      <td>[{'id': 803, 'main': 'Clouds', 'description': ...</td>\n",
       "      <td>0.12</td>\n",
       "      <td>NaN</td>\n",
       "    </tr>\n",
       "    <tr>\n",
       "      <th>1</th>\n",
       "      <td>1631350800</td>\n",
       "      <td>33.87</td>\n",
       "      <td>40.87</td>\n",
       "      <td>1002</td>\n",
       "      <td>72</td>\n",
       "      <td>28.11</td>\n",
       "      <td>0.76</td>\n",
       "      <td>74</td>\n",
       "      <td>10000</td>\n",
       "      <td>3.82</td>\n",
       "      <td>253</td>\n",
       "      <td>4.51</td>\n",
       "      <td>[{'id': 803, 'main': 'Clouds', 'description': ...</td>\n",
       "      <td>0.05</td>\n",
       "      <td>NaN</td>\n",
       "    </tr>\n",
       "    <tr>\n",
       "      <th>2</th>\n",
       "      <td>1631354400</td>\n",
       "      <td>32.85</td>\n",
       "      <td>39.85</td>\n",
       "      <td>1002</td>\n",
       "      <td>73</td>\n",
       "      <td>27.36</td>\n",
       "      <td>0.12</td>\n",
       "      <td>65</td>\n",
       "      <td>10000</td>\n",
       "      <td>3.60</td>\n",
       "      <td>235</td>\n",
       "      <td>4.14</td>\n",
       "      <td>[{'id': 500, 'main': 'Rain', 'description': 'l...</td>\n",
       "      <td>0.30</td>\n",
       "      <td>{'1h': 0.1}</td>\n",
       "    </tr>\n",
       "    <tr>\n",
       "      <th>3</th>\n",
       "      <td>1631358000</td>\n",
       "      <td>31.50</td>\n",
       "      <td>38.50</td>\n",
       "      <td>1002</td>\n",
       "      <td>75</td>\n",
       "      <td>26.53</td>\n",
       "      <td>0.00</td>\n",
       "      <td>55</td>\n",
       "      <td>10000</td>\n",
       "      <td>3.67</td>\n",
       "      <td>244</td>\n",
       "      <td>4.54</td>\n",
       "      <td>[{'id': 803, 'main': 'Clouds', 'description': ...</td>\n",
       "      <td>0.14</td>\n",
       "      <td>NaN</td>\n",
       "    </tr>\n",
       "    <tr>\n",
       "      <th>4</th>\n",
       "      <td>1631361600</td>\n",
       "      <td>30.33</td>\n",
       "      <td>37.33</td>\n",
       "      <td>1002</td>\n",
       "      <td>77</td>\n",
       "      <td>25.84</td>\n",
       "      <td>0.00</td>\n",
       "      <td>55</td>\n",
       "      <td>10000</td>\n",
       "      <td>2.87</td>\n",
       "      <td>241</td>\n",
       "      <td>3.43</td>\n",
       "      <td>[{'id': 803, 'main': 'Clouds', 'description': ...</td>\n",
       "      <td>0.14</td>\n",
       "      <td>NaN</td>\n",
       "    </tr>\n",
       "  </tbody>\n",
       "</table>\n",
       "</div>"
      ],
      "text/plain": [
       "           dt   temp  feels_like  pressure  humidity  dew_point   uvi  clouds  \\\n",
       "0  1631347200  34.75       41.75      1002        72      28.95  2.23      77   \n",
       "1  1631350800  33.87       40.87      1002        72      28.11  0.76      74   \n",
       "2  1631354400  32.85       39.85      1002        73      27.36  0.12      65   \n",
       "3  1631358000  31.50       38.50      1002        75      26.53  0.00      55   \n",
       "4  1631361600  30.33       37.33      1002        77      25.84  0.00      55   \n",
       "\n",
       "   visibility  wind_speed  wind_deg  wind_gust  \\\n",
       "0       10000        3.96       255       4.51   \n",
       "1       10000        3.82       253       4.51   \n",
       "2       10000        3.60       235       4.14   \n",
       "3       10000        3.67       244       4.54   \n",
       "4       10000        2.87       241       3.43   \n",
       "\n",
       "                                             weather   pop         rain  \n",
       "0  [{'id': 803, 'main': 'Clouds', 'description': ...  0.12          NaN  \n",
       "1  [{'id': 803, 'main': 'Clouds', 'description': ...  0.05          NaN  \n",
       "2  [{'id': 500, 'main': 'Rain', 'description': 'l...  0.30  {'1h': 0.1}  \n",
       "3  [{'id': 803, 'main': 'Clouds', 'description': ...  0.14          NaN  \n",
       "4  [{'id': 803, 'main': 'Clouds', 'description': ...  0.14          NaN  "
      ]
     },
     "execution_count": 10,
     "metadata": {},
     "output_type": "execute_result"
    }
   ],
   "source": [
    "df_hourly.head()"
   ]
  },
  {
   "cell_type": "code",
   "execution_count": null,
   "metadata": {},
   "outputs": [],
   "source": []
  }
 ],
 "metadata": {
  "interpreter": {
   "hash": "c1b4cfe941b6d2466ad1fb5979e97da9cda8801728c8091b097ab734208fc00c"
  },
  "kernelspec": {
   "display_name": "Python 3.8.3 64-bit ('base': conda)",
   "name": "python3"
  },
  "language_info": {
   "codemirror_mode": {
    "name": "ipython",
    "version": 3
   },
   "file_extension": ".py",
   "mimetype": "text/x-python",
   "name": "python",
   "nbconvert_exporter": "python",
   "pygments_lexer": "ipython3",
   "version": "3.8.11"
  }
 },
 "nbformat": 4,
 "nbformat_minor": 2
}
