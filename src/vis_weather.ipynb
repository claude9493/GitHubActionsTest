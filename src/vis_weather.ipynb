{
 "cells": [
  {
   "cell_type": "code",
   "execution_count": 1,
   "metadata": {
    "execution": {
     "iopub.execute_input": "2021-08-27T15:16:43.419359Z",
     "iopub.status.busy": "2021-08-27T15:16:43.418696Z",
     "iopub.status.idle": "2021-08-27T15:16:44.916222Z",
     "shell.execute_reply": "2021-08-27T15:16:44.916638Z"
    }
   },
   "outputs": [],
   "source": [
    "import json, yaml, requests\r\n",
    "from datetime import datetime\r\n",
    "from dateutil import tz\r\n",
    "import pandas as pd\r\n",
    "from PIL import Image\r\n",
    "from io import BytesIO\r\n",
    "import matplotlib.pyplot as plt\r\n",
    "import seaborn\r\n",
    "\r\n",
    "CONFIG_PATH = \"../config/config.yaml\""
   ]
  },
  {
   "cell_type": "code",
   "execution_count": 2,
   "metadata": {
    "execution": {
     "iopub.execute_input": "2021-08-27T15:16:44.922312Z",
     "iopub.status.busy": "2021-08-27T15:16:44.921280Z",
     "iopub.status.idle": "2021-08-27T15:16:44.927730Z",
     "shell.execute_reply": "2021-08-27T15:16:44.927266Z"
    }
   },
   "outputs": [],
   "source": [
    "with open('../newest_ts', 'r') as f:\r\n",
    "    newest_ts = f.read()\r\n",
    "\r\n",
    "data_path = f\"../data/data_{newest_ts}.json\"\r\n",
    "with open(data_path, 'r') as f:\r\n",
    "    data = json.load(f)\r\n",
    "\r\n",
    "with open(CONFIG_PATH, \"r\") as stream:\r\n",
    "    config = yaml.safe_load(stream)\r\n",
    "\r\n",
    "TIME_ZONE = config['time_zone']\r\n",
    "DATETIME_FORMAT = config['dt_format']"
   ]
  },
  {
   "cell_type": "code",
   "execution_count": 3,
   "metadata": {
    "execution": {
     "iopub.execute_input": "2021-08-27T15:16:44.933348Z",
     "iopub.status.busy": "2021-08-27T15:16:44.932820Z",
     "iopub.status.idle": "2021-08-27T15:16:44.940212Z",
     "shell.execute_reply": "2021-08-27T15:16:44.939781Z"
    }
   },
   "outputs": [
    {
     "name": "stdout",
     "output_type": "stream",
     "text": [
      "Recent query happens at 2021-08-27 23:16:40 (CST).\n"
     ]
    }
   ],
   "source": [
    "def ts2dt(ts, format=DATETIME_FORMAT):\r\n",
    "    dt = (datetime.utcfromtimestamp(int(ts))\r\n",
    "                    .replace(tzinfo=tz.tzutc())\r\n",
    "                    # .astimezone(tz.tzlocal())\r\n",
    "                    .astimezone(tz.gettz(TIME_ZONE)))\r\n",
    "    return dt.strftime(format), dt\r\n",
    "\r\n",
    "_, newest_dt = ts2dt(newest_ts)\r\n",
    "print(f\"Recent query happens at {newest_dt.strftime(DATETIME_FORMAT)} ({newest_dt.tzname()}).\")"
   ]
  },
  {
   "cell_type": "code",
   "execution_count": 4,
   "metadata": {
    "execution": {
     "iopub.execute_input": "2021-08-27T15:16:44.947242Z",
     "iopub.status.busy": "2021-08-27T15:16:44.945554Z",
     "iopub.status.idle": "2021-08-27T15:16:44.947880Z",
     "shell.execute_reply": "2021-08-27T15:16:44.948693Z"
    }
   },
   "outputs": [],
   "source": [
    "def degrees_to_cardinal(d):\r\n",
    "  dirs = ['N', 'NNE', 'NE', 'ENE', 'E', 'ESE', 'SE', 'SSE', 'S', 'SSW', 'SW', 'WSW', 'W', 'WNW', 'NW', 'NNW']\r\n",
    "  ix = int(round(d / (360. / len(dirs))))\r\n",
    "  return dirs[ix % len(dirs)]"
   ]
  },
  {
   "cell_type": "code",
   "execution_count": 5,
   "metadata": {
    "execution": {
     "iopub.execute_input": "2021-08-27T15:16:44.953441Z",
     "iopub.status.busy": "2021-08-27T15:16:44.952139Z",
     "iopub.status.idle": "2021-08-27T15:16:44.954070Z",
     "shell.execute_reply": "2021-08-27T15:16:44.954544Z"
    }
   },
   "outputs": [],
   "source": [
    "# data.keys()"
   ]
  },
  {
   "cell_type": "code",
   "execution_count": 6,
   "metadata": {
    "execution": {
     "iopub.execute_input": "2021-08-27T15:16:44.958900Z",
     "iopub.status.busy": "2021-08-27T15:16:44.957417Z",
     "iopub.status.idle": "2021-08-27T15:16:44.959513Z",
     "shell.execute_reply": "2021-08-27T15:16:44.959960Z"
    }
   },
   "outputs": [],
   "source": [
    "# data['current']"
   ]
  },
  {
   "cell_type": "code",
   "execution_count": 7,
   "metadata": {
    "execution": {
     "iopub.execute_input": "2021-08-27T15:16:44.980900Z",
     "iopub.status.busy": "2021-08-27T15:16:44.980199Z",
     "iopub.status.idle": "2021-08-27T15:16:45.400443Z",
     "shell.execute_reply": "2021-08-27T15:16:45.401207Z"
    }
   },
   "outputs": [
    {
     "data": {
      "image/png": "[encoded data removed]",
      "text/plain": [
       "<Figure size 216x216 with 1 Axes>"
      ]
     },
     "metadata": {
      "needs_background": "light"
     },
     "output_type": "display_data"
    },
    {
     "name": "stdout",
     "output_type": "stream",
     "text": [
      "Today, sun rises at 06:04 and sets at 18:45.\n",
      "Currently, the weather is Rain (light rain).\n",
      "The temperature is 25.77°C and it feels like 26.52°C.\n",
      "The UV index is 0, humidity is 81%.\n",
      "The pressure is 1012 hPa, percentage of cloud cover is 16%\n",
      "The wind comes from ESE direction with a speed 5.69 m/s.\n"
     ]
    }
   ],
   "source": [
    "current = data['current']\r\n",
    "\r\n",
    "fig, ax = plt.subplots(figsize=(3, 3))\r\n",
    "icon = requests.get(f\"http://openweathermap.org/img/wn/{current['weather'][0]['icon']}@2x.png\")\r\n",
    "im = Image.open(BytesIO(icon.content))\r\n",
    "plt.imshow(im)\r\n",
    "ax.set_axis_off()\r\n",
    "plt.show()\r\n",
    "\r\n",
    "print(f\"Today, sun rises at {ts2dt(current['sunrise'], '%H:%M')[0]} \\\r\n",
    "and sets at {ts2dt(current['sunset'], '%H:%M')[0]}.\\n\\\r\n",
    "Currently, the weather is {current['weather'][0]['main']} ({current['weather'][0]['description']}).\\n\\\r\n",
    "The temperature is {current['temp']}°C and it feels like {current['feels_like']}°C.\\n\\\r\n",
    "The UV index is {current['uvi']}, humidity is {current['humidity']}%.\\n\\\r\n",
    "The pressure is {current['pressure']} hPa, percentage of cloud cover is {current['clouds']}%\\n\\\r\n",
    "The wind comes from {degrees_to_cardinal(current['wind_deg'])} direction with a speed {current['wind_speed']} m/s.\")"
   ]
  },
  {
   "cell_type": "code",
   "execution_count": 8,
   "metadata": {
    "execution": {
     "iopub.execute_input": "2021-08-27T15:16:45.405010Z",
     "iopub.status.busy": "2021-08-27T15:16:45.403946Z",
     "iopub.status.idle": "2021-08-27T15:16:45.412160Z",
     "shell.execute_reply": "2021-08-27T15:16:45.412781Z"
    }
   },
   "outputs": [],
   "source": [
    "df_hourly = pd.DataFrame(data['hourly'])\r\n",
    "df_daily = pd.DataFrame(data['daily'])"
   ]
  },
  {
   "cell_type": "code",
   "execution_count": 9,
   "metadata": {
    "execution": {
     "iopub.execute_input": "2021-08-27T15:16:45.416247Z",
     "iopub.status.busy": "2021-08-27T15:16:45.415686Z",
     "iopub.status.idle": "2021-08-27T15:16:45.751736Z",
     "shell.execute_reply": "2021-08-27T15:16:45.751277Z"
    }
   },
   "outputs": [
    {
     "data": {
      "image/png": "[encoded data removed]",
      "text/plain": [
       "<Figure size 864x432 with 1 Axes>"
      ]
     },
     "metadata": {
      "needs_background": "light"
     },
     "output_type": "display_data"
    }
   ],
   "source": [
    "fig, ax = plt.subplots(figsize=(12, 6))\r\n",
    "plt.plot(df_hourly.temp, '.-', label='Temperature')\r\n",
    "plt.plot(df_hourly.feels_like, '.-', label='Feels Like')\r\n",
    "ax.set(title='Temperature in future 48 hours', xlabel='Time', ylabel='Temperature')\r\n",
    "ax.set_xticks(list(range(0, len(df_hourly), 2)))\r\n",
    "ax.set_xticklabels([ts2dt(ts, '%m-%d %H:%M')[0] for i, ts in enumerate(df_hourly.dt) if i%2==0], \r\n",
    "                   rotation=45, ha=\"right\")\r\n",
    "ax.locator_params(nbins=15, axis='y')\r\n",
    "plt.legend()\r\n",
    "plt.show()"
   ]
  },
  {
   "cell_type": "code",
   "execution_count": 10,
   "metadata": {
    "execution": {
     "iopub.execute_input": "2021-08-27T15:16:45.766784Z",
     "iopub.status.busy": "2021-08-27T15:16:45.756013Z",
     "iopub.status.idle": "2021-08-27T15:16:45.782782Z",
     "shell.execute_reply": "2021-08-27T15:16:45.782292Z"
    }
   },
   "outputs": [
    {
     "data": {
      "text/html": [
       "<div>\n",
       "<style scoped>\n",
       "    .dataframe tbody tr th:only-of-type {\n",
       "        vertical-align: middle;\n",
       "    }\n",
       "\n",
       "    .dataframe tbody tr th {\n",
       "        vertical-align: top;\n",
       "    }\n",
       "\n",
       "    .dataframe thead th {\n",
       "        text-align: right;\n",
       "    }\n",
       "</style>\n",
       "<table border=\"1\" class=\"dataframe\">\n",
       "  <thead>\n",
       "    <tr style=\"text-align: right;\">\n",
       "      <th></th>\n",
       "      <th>dt</th>\n",
       "      <th>temp</th>\n",
       "      <th>feels_like</th>\n",
       "      <th>pressure</th>\n",
       "      <th>humidity</th>\n",
       "      <th>dew_point</th>\n",
       "      <th>uvi</th>\n",
       "      <th>clouds</th>\n",
       "      <th>visibility</th>\n",
       "      <th>wind_speed</th>\n",
       "      <th>wind_deg</th>\n",
       "      <th>wind_gust</th>\n",
       "      <th>weather</th>\n",
       "      <th>pop</th>\n",
       "      <th>rain</th>\n",
       "    </tr>\n",
       "  </thead>\n",
       "  <tbody>\n",
       "    <tr>\n",
       "      <th>0</th>\n",
       "      <td>1630076400</td>\n",
       "      <td>25.77</td>\n",
       "      <td>26.52</td>\n",
       "      <td>1012</td>\n",
       "      <td>81</td>\n",
       "      <td>22.26</td>\n",
       "      <td>0.0</td>\n",
       "      <td>16</td>\n",
       "      <td>10000</td>\n",
       "      <td>5.69</td>\n",
       "      <td>106</td>\n",
       "      <td>7.87</td>\n",
       "      <td>[{'id': 500, 'main': 'Rain', 'description': 'l...</td>\n",
       "      <td>0.63</td>\n",
       "      <td>{'1h': 0.4}</td>\n",
       "    </tr>\n",
       "    <tr>\n",
       "      <th>1</th>\n",
       "      <td>1630080000</td>\n",
       "      <td>26.19</td>\n",
       "      <td>26.19</td>\n",
       "      <td>1012</td>\n",
       "      <td>82</td>\n",
       "      <td>22.87</td>\n",
       "      <td>0.0</td>\n",
       "      <td>16</td>\n",
       "      <td>10000</td>\n",
       "      <td>5.28</td>\n",
       "      <td>100</td>\n",
       "      <td>7.39</td>\n",
       "      <td>[{'id': 500, 'main': 'Rain', 'description': 'l...</td>\n",
       "      <td>0.59</td>\n",
       "      <td>{'1h': 0.27}</td>\n",
       "    </tr>\n",
       "    <tr>\n",
       "      <th>2</th>\n",
       "      <td>1630083600</td>\n",
       "      <td>26.55</td>\n",
       "      <td>26.55</td>\n",
       "      <td>1012</td>\n",
       "      <td>82</td>\n",
       "      <td>23.22</td>\n",
       "      <td>0.0</td>\n",
       "      <td>17</td>\n",
       "      <td>10000</td>\n",
       "      <td>5.04</td>\n",
       "      <td>95</td>\n",
       "      <td>6.95</td>\n",
       "      <td>[{'id': 500, 'main': 'Rain', 'description': 'l...</td>\n",
       "      <td>0.63</td>\n",
       "      <td>{'1h': 0.12}</td>\n",
       "    </tr>\n",
       "    <tr>\n",
       "      <th>3</th>\n",
       "      <td>1630087200</td>\n",
       "      <td>26.85</td>\n",
       "      <td>29.58</td>\n",
       "      <td>1011</td>\n",
       "      <td>82</td>\n",
       "      <td>23.52</td>\n",
       "      <td>0.0</td>\n",
       "      <td>18</td>\n",
       "      <td>10000</td>\n",
       "      <td>5.09</td>\n",
       "      <td>94</td>\n",
       "      <td>6.87</td>\n",
       "      <td>[{'id': 500, 'main': 'Rain', 'description': 'l...</td>\n",
       "      <td>0.63</td>\n",
       "      <td>{'1h': 0.5}</td>\n",
       "    </tr>\n",
       "    <tr>\n",
       "      <th>4</th>\n",
       "      <td>1630090800</td>\n",
       "      <td>27.07</td>\n",
       "      <td>30.09</td>\n",
       "      <td>1010</td>\n",
       "      <td>82</td>\n",
       "      <td>23.73</td>\n",
       "      <td>0.0</td>\n",
       "      <td>30</td>\n",
       "      <td>10000</td>\n",
       "      <td>4.97</td>\n",
       "      <td>93</td>\n",
       "      <td>6.61</td>\n",
       "      <td>[{'id': 500, 'main': 'Rain', 'description': 'l...</td>\n",
       "      <td>0.57</td>\n",
       "      <td>{'1h': 0.46}</td>\n",
       "    </tr>\n",
       "  </tbody>\n",
       "</table>\n",
       "</div>"
      ],
      "text/plain": [
       "           dt   temp  feels_like  pressure  humidity  dew_point  uvi  clouds  \\\n",
       "0  1630076400  25.77       26.52      1012        81      22.26  0.0      16   \n",
       "1  1630080000  26.19       26.19      1012        82      22.87  0.0      16   \n",
       "2  1630083600  26.55       26.55      1012        82      23.22  0.0      17   \n",
       "3  1630087200  26.85       29.58      1011        82      23.52  0.0      18   \n",
       "4  1630090800  27.07       30.09      1010        82      23.73  0.0      30   \n",
       "\n",
       "   visibility  wind_speed  wind_deg  wind_gust  \\\n",
       "0       10000        5.69       106       7.87   \n",
       "1       10000        5.28       100       7.39   \n",
       "2       10000        5.04        95       6.95   \n",
       "3       10000        5.09        94       6.87   \n",
       "4       10000        4.97        93       6.61   \n",
       "\n",
       "                                             weather   pop          rain  \n",
       "0  [{'id': 500, 'main': 'Rain', 'description': 'l...  0.63   {'1h': 0.4}  \n",
       "1  [{'id': 500, 'main': 'Rain', 'description': 'l...  0.59  {'1h': 0.27}  \n",
       "2  [{'id': 500, 'main': 'Rain', 'description': 'l...  0.63  {'1h': 0.12}  \n",
       "3  [{'id': 500, 'main': 'Rain', 'description': 'l...  0.63   {'1h': 0.5}  \n",
       "4  [{'id': 500, 'main': 'Rain', 'description': 'l...  0.57  {'1h': 0.46}  "
      ]
     },
     "execution_count": 10,
     "metadata": {},
     "output_type": "execute_result"
    }
   ],
   "source": [
    "df_hourly.head()"
   ]
  },
  {
   "cell_type": "code",
   "execution_count": null,
   "metadata": {},
   "outputs": [],
   "source": []
  }
 ],
 "metadata": {
  "interpreter": {
   "hash": "c1b4cfe941b6d2466ad1fb5979e97da9cda8801728c8091b097ab734208fc00c"
  },
  "kernelspec": {
   "display_name": "Python 3.8.3 64-bit ('base': conda)",
   "name": "python3"
  },
  "language_info": {
   "codemirror_mode": {
    "name": "ipython",
    "version": 3
   },
   "file_extension": ".py",
   "mimetype": "text/x-python",
   "name": "python",
   "nbconvert_exporter": "python",
   "pygments_lexer": "ipython3",
   "version": "3.8.11"
  }
 },
 "nbformat": 4,
 "nbformat_minor": 2
}
