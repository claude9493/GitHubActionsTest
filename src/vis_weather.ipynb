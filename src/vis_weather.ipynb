{
 "cells": [
  {
   "cell_type": "code",
   "execution_count": 1,
   "metadata": {
    "execution": {
     "iopub.execute_input": "2021-08-26T21:37:56.924773Z",
     "iopub.status.busy": "2021-08-26T21:37:56.924100Z",
     "iopub.status.idle": "2021-08-26T21:37:59.049464Z",
     "shell.execute_reply": "2021-08-26T21:37:59.048391Z"
    }
   },
   "outputs": [],
   "source": [
    "import json, yaml, requests\r\n",
    "from datetime import datetime\r\n",
    "from dateutil import tz\r\n",
    "import pandas as pd\r\n",
    "from PIL import Image\r\n",
    "from io import BytesIO\r\n",
    "import matplotlib.pyplot as plt\r\n",
    "import seaborn\r\n",
    "\r\n",
    "CONFIG_PATH = \"../config/config.yaml\""
   ]
  },
  {
   "cell_type": "code",
   "execution_count": 2,
   "metadata": {
    "execution": {
     "iopub.execute_input": "2021-08-26T21:37:59.056424Z",
     "iopub.status.busy": "2021-08-26T21:37:59.054699Z",
     "iopub.status.idle": "2021-08-26T21:37:59.061368Z",
     "shell.execute_reply": "2021-08-26T21:37:59.061858Z"
    }
   },
   "outputs": [],
   "source": [
    "with open('../newest_ts', 'r') as f:\r\n",
    "    newest_ts = f.read()\r\n",
    "\r\n",
    "data_path = f\"../data/data_{newest_ts}.json\"\r\n",
    "with open(data_path, 'r') as f:\r\n",
    "    data = json.load(f)\r\n",
    "\r\n",
    "with open(CONFIG_PATH, \"r\") as stream:\r\n",
    "    config = yaml.safe_load(stream)\r\n",
    "\r\n",
    "TIME_ZONE = config['time_zone']\r\n",
    "DATETIME_FORMAT = config['dt_format']"
   ]
  },
  {
   "cell_type": "code",
   "execution_count": 3,
   "metadata": {
    "execution": {
     "iopub.execute_input": "2021-08-26T21:37:59.069085Z",
     "iopub.status.busy": "2021-08-26T21:37:59.066898Z",
     "iopub.status.idle": "2021-08-26T21:37:59.072326Z",
     "shell.execute_reply": "2021-08-26T21:37:59.072807Z"
    }
   },
   "outputs": [
    {
     "name": "stdout",
     "output_type": "stream",
     "text": [
      "Recent query happens at 2021-08-27 05:37:46 (CST).\n"
     ]
    }
   ],
   "source": [
    "def ts2dt(ts, format=DATETIME_FORMAT):\r\n",
    "    dt = (datetime.utcfromtimestamp(int(ts))\r\n",
    "                    .replace(tzinfo=tz.tzutc())\r\n",
    "                    # .astimezone(tz.tzlocal())\r\n",
    "                    .astimezone(tz.gettz(TIME_ZONE)))\r\n",
    "    return dt.strftime(format), dt\r\n",
    "\r\n",
    "_, newest_dt = ts2dt(newest_ts)\r\n",
    "print(f\"Recent query happens at {newest_dt.strftime(DATETIME_FORMAT)} ({newest_dt.tzname()}).\")"
   ]
  },
  {
   "cell_type": "code",
   "execution_count": 4,
   "metadata": {
    "execution": {
     "iopub.execute_input": "2021-08-26T21:37:59.078111Z",
     "iopub.status.busy": "2021-08-26T21:37:59.077547Z",
     "iopub.status.idle": "2021-08-26T21:37:59.080209Z",
     "shell.execute_reply": "2021-08-26T21:37:59.079650Z"
    }
   },
   "outputs": [],
   "source": [
    "def degrees_to_cardinal(d):\r\n",
    "  dirs = ['N', 'NNE', 'NE', 'ENE', 'E', 'ESE', 'SE', 'SSE', 'S', 'SSW', 'SW', 'WSW', 'W', 'WNW', 'NW', 'NNW']\r\n",
    "  ix = int(round(d / (360. / len(dirs))))\r\n",
    "  return dirs[ix % len(dirs)]"
   ]
  },
  {
   "cell_type": "code",
   "execution_count": 5,
   "metadata": {
    "execution": {
     "iopub.execute_input": "2021-08-26T21:37:59.085643Z",
     "iopub.status.busy": "2021-08-26T21:37:59.084030Z",
     "iopub.status.idle": "2021-08-26T21:37:59.086329Z",
     "shell.execute_reply": "2021-08-26T21:37:59.086810Z"
    }
   },
   "outputs": [],
   "source": [
    "# data.keys()"
   ]
  },
  {
   "cell_type": "code",
   "execution_count": 6,
   "metadata": {
    "execution": {
     "iopub.execute_input": "2021-08-26T21:37:59.091965Z",
     "iopub.status.busy": "2021-08-26T21:37:59.090488Z",
     "iopub.status.idle": "2021-08-26T21:37:59.092706Z",
     "shell.execute_reply": "2021-08-26T21:37:59.093197Z"
    }
   },
   "outputs": [],
   "source": [
    "# data['current']"
   ]
  },
  {
   "cell_type": "code",
   "execution_count": 7,
   "metadata": {
    "execution": {
     "iopub.execute_input": "2021-08-26T21:37:59.114935Z",
     "iopub.status.busy": "2021-08-26T21:37:59.100195Z",
     "iopub.status.idle": "2021-08-26T21:37:59.553377Z",
     "shell.execute_reply": "2021-08-26T21:37:59.553950Z"
    }
   },
   "outputs": [
    {
     "data": {
      "image/png": "[encoded data removed]",
      "text/plain": [
       "<Figure size 216x216 with 1 Axes>"
      ]
     },
     "metadata": {
      "needs_background": "light"
     },
     "output_type": "display_data"
    },
    {
     "name": "stdout",
     "output_type": "stream",
     "text": [
      "Today, sun rises at 06:04 and sets at 18:45.\n",
      "Currently, the weather is Rain (light rain).\n",
      "The temperature is 28.91°C and it feels like 35.14°C.\n",
      "The UV index is 0, humidity is 83%.\n",
      "The pressure is 1011 hPa, percentage of cloud cover is 8%\n",
      "The wind comes from ENE direction with a speed 4.53 m/s.\n"
     ]
    }
   ],
   "source": [
    "current = data['current']\r\n",
    "\r\n",
    "fig, ax = plt.subplots(figsize=(3, 3))\r\n",
    "icon = requests.get(f\"http://openweathermap.org/img/wn/{current['weather'][0]['icon']}@2x.png\")\r\n",
    "im = Image.open(BytesIO(icon.content))\r\n",
    "plt.imshow(im)\r\n",
    "ax.set_axis_off()\r\n",
    "plt.show()\r\n",
    "\r\n",
    "print(f\"Today, sun rises at {ts2dt(current['sunrise'], '%H:%M')[0]} \\\r\n",
    "and sets at {ts2dt(current['sunset'], '%H:%M')[0]}.\\n\\\r\n",
    "Currently, the weather is {current['weather'][0]['main']} ({current['weather'][0]['description']}).\\n\\\r\n",
    "The temperature is {current['temp']}°C and it feels like {current['feels_like']}°C.\\n\\\r\n",
    "The UV index is {current['uvi']}, humidity is {current['humidity']}%.\\n\\\r\n",
    "The pressure is {current['pressure']} hPa, percentage of cloud cover is {current['clouds']}%\\n\\\r\n",
    "The wind comes from {degrees_to_cardinal(current['wind_deg'])} direction with a speed {current['wind_speed']} m/s.\")"
   ]
  },
  {
   "cell_type": "code",
   "execution_count": 8,
   "metadata": {
    "execution": {
     "iopub.execute_input": "2021-08-26T21:37:59.557765Z",
     "iopub.status.busy": "2021-08-26T21:37:59.556430Z",
     "iopub.status.idle": "2021-08-26T21:37:59.565691Z",
     "shell.execute_reply": "2021-08-26T21:37:59.566458Z"
    }
   },
   "outputs": [],
   "source": [
    "df_hourly = pd.DataFrame(data['hourly'])\r\n",
    "df_daily = pd.DataFrame(data['daily'])"
   ]
  },
  {
   "cell_type": "code",
   "execution_count": 9,
   "metadata": {
    "execution": {
     "iopub.execute_input": "2021-08-26T21:37:59.570427Z",
     "iopub.status.busy": "2021-08-26T21:37:59.569191Z",
     "iopub.status.idle": "2021-08-26T21:37:59.945353Z",
     "shell.execute_reply": "2021-08-26T21:37:59.945987Z"
    }
   },
   "outputs": [
    {
     "data": {
      "image/png": "[encoded data removed]",
      "text/plain": [
       "<Figure size 864x432 with 1 Axes>"
      ]
     },
     "metadata": {
      "needs_background": "light"
     },
     "output_type": "display_data"
    }
   ],
   "source": [
    "fig, ax = plt.subplots(figsize=(12, 6))\r\n",
    "plt.plot(df_hourly.temp, '.-', label='Temperature')\r\n",
    "plt.plot(df_hourly.feels_like, '.-', label='Feels Like')\r\n",
    "ax.set(title='Temperature in future 48 hours', xlabel='Time', ylabel='Temperature')\r\n",
    "ax.set_xticks(list(range(0, len(df_hourly), 2)))\r\n",
    "ax.set_xticklabels([ts2dt(ts, '%m-%d %H:%M')[0] for i, ts in enumerate(df_hourly.dt) if i%2==0], \r\n",
    "                   rotation=45, ha=\"right\")\r\n",
    "ax.locator_params(nbins=15, axis='y')\r\n",
    "plt.legend()\r\n",
    "plt.show()"
   ]
  },
  {
   "cell_type": "code",
   "execution_count": 10,
   "metadata": {
    "execution": {
     "iopub.execute_input": "2021-08-26T21:37:59.952490Z",
     "iopub.status.busy": "2021-08-26T21:37:59.951890Z",
     "iopub.status.idle": "2021-08-26T21:37:59.975640Z",
     "shell.execute_reply": "2021-08-26T21:37:59.974917Z"
    }
   },
   "outputs": [
    {
     "data": {
      "text/html": [
       "<div>\n",
       "<style scoped>\n",
       "    .dataframe tbody tr th:only-of-type {\n",
       "        vertical-align: middle;\n",
       "    }\n",
       "\n",
       "    .dataframe tbody tr th {\n",
       "        vertical-align: top;\n",
       "    }\n",
       "\n",
       "    .dataframe thead th {\n",
       "        text-align: right;\n",
       "    }\n",
       "</style>\n",
       "<table border=\"1\" class=\"dataframe\">\n",
       "  <thead>\n",
       "    <tr style=\"text-align: right;\">\n",
       "      <th></th>\n",
       "      <th>dt</th>\n",
       "      <th>temp</th>\n",
       "      <th>feels_like</th>\n",
       "      <th>pressure</th>\n",
       "      <th>humidity</th>\n",
       "      <th>dew_point</th>\n",
       "      <th>uvi</th>\n",
       "      <th>clouds</th>\n",
       "      <th>visibility</th>\n",
       "      <th>wind_speed</th>\n",
       "      <th>wind_deg</th>\n",
       "      <th>wind_gust</th>\n",
       "      <th>weather</th>\n",
       "      <th>pop</th>\n",
       "      <th>rain</th>\n",
       "    </tr>\n",
       "  </thead>\n",
       "  <tbody>\n",
       "    <tr>\n",
       "      <th>0</th>\n",
       "      <td>1630011600</td>\n",
       "      <td>28.59</td>\n",
       "      <td>34.01</td>\n",
       "      <td>1011</td>\n",
       "      <td>82</td>\n",
       "      <td>25.21</td>\n",
       "      <td>0.00</td>\n",
       "      <td>8</td>\n",
       "      <td>10000</td>\n",
       "      <td>4.28</td>\n",
       "      <td>77</td>\n",
       "      <td>5.39</td>\n",
       "      <td>[{'id': 500, 'main': 'Rain', 'description': 'l...</td>\n",
       "      <td>0.61</td>\n",
       "      <td>{'1h': 0.17}</td>\n",
       "    </tr>\n",
       "    <tr>\n",
       "      <th>1</th>\n",
       "      <td>1630015200</td>\n",
       "      <td>28.91</td>\n",
       "      <td>35.14</td>\n",
       "      <td>1011</td>\n",
       "      <td>83</td>\n",
       "      <td>25.73</td>\n",
       "      <td>0.00</td>\n",
       "      <td>8</td>\n",
       "      <td>10000</td>\n",
       "      <td>4.53</td>\n",
       "      <td>75</td>\n",
       "      <td>5.66</td>\n",
       "      <td>[{'id': 800, 'main': 'Clear', 'description': '...</td>\n",
       "      <td>0.65</td>\n",
       "      <td>NaN</td>\n",
       "    </tr>\n",
       "    <tr>\n",
       "      <th>2</th>\n",
       "      <td>1630018800</td>\n",
       "      <td>28.63</td>\n",
       "      <td>34.12</td>\n",
       "      <td>1011</td>\n",
       "      <td>82</td>\n",
       "      <td>25.25</td>\n",
       "      <td>0.36</td>\n",
       "      <td>8</td>\n",
       "      <td>10000</td>\n",
       "      <td>5.05</td>\n",
       "      <td>76</td>\n",
       "      <td>6.20</td>\n",
       "      <td>[{'id': 800, 'main': 'Clear', 'description': '...</td>\n",
       "      <td>0.77</td>\n",
       "      <td>NaN</td>\n",
       "    </tr>\n",
       "    <tr>\n",
       "      <th>3</th>\n",
       "      <td>1630022400</td>\n",
       "      <td>28.50</td>\n",
       "      <td>33.57</td>\n",
       "      <td>1011</td>\n",
       "      <td>81</td>\n",
       "      <td>24.92</td>\n",
       "      <td>1.58</td>\n",
       "      <td>8</td>\n",
       "      <td>10000</td>\n",
       "      <td>5.48</td>\n",
       "      <td>73</td>\n",
       "      <td>6.65</td>\n",
       "      <td>[{'id': 800, 'main': 'Clear', 'description': '...</td>\n",
       "      <td>0.81</td>\n",
       "      <td>NaN</td>\n",
       "    </tr>\n",
       "    <tr>\n",
       "      <th>4</th>\n",
       "      <td>1630026000</td>\n",
       "      <td>28.72</td>\n",
       "      <td>33.58</td>\n",
       "      <td>1012</td>\n",
       "      <td>78</td>\n",
       "      <td>24.50</td>\n",
       "      <td>3.94</td>\n",
       "      <td>12</td>\n",
       "      <td>10000</td>\n",
       "      <td>5.70</td>\n",
       "      <td>74</td>\n",
       "      <td>6.83</td>\n",
       "      <td>[{'id': 801, 'main': 'Clouds', 'description': ...</td>\n",
       "      <td>0.69</td>\n",
       "      <td>NaN</td>\n",
       "    </tr>\n",
       "  </tbody>\n",
       "</table>\n",
       "</div>"
      ],
      "text/plain": [
       "           dt   temp  feels_like  pressure  humidity  dew_point   uvi  clouds  \\\n",
       "0  1630011600  28.59       34.01      1011        82      25.21  0.00       8   \n",
       "1  1630015200  28.91       35.14      1011        83      25.73  0.00       8   \n",
       "2  1630018800  28.63       34.12      1011        82      25.25  0.36       8   \n",
       "3  1630022400  28.50       33.57      1011        81      24.92  1.58       8   \n",
       "4  1630026000  28.72       33.58      1012        78      24.50  3.94      12   \n",
       "\n",
       "   visibility  wind_speed  wind_deg  wind_gust  \\\n",
       "0       10000        4.28        77       5.39   \n",
       "1       10000        4.53        75       5.66   \n",
       "2       10000        5.05        76       6.20   \n",
       "3       10000        5.48        73       6.65   \n",
       "4       10000        5.70        74       6.83   \n",
       "\n",
       "                                             weather   pop          rain  \n",
       "0  [{'id': 500, 'main': 'Rain', 'description': 'l...  0.61  {'1h': 0.17}  \n",
       "1  [{'id': 800, 'main': 'Clear', 'description': '...  0.65           NaN  \n",
       "2  [{'id': 800, 'main': 'Clear', 'description': '...  0.77           NaN  \n",
       "3  [{'id': 800, 'main': 'Clear', 'description': '...  0.81           NaN  \n",
       "4  [{'id': 801, 'main': 'Clouds', 'description': ...  0.69           NaN  "
      ]
     },
     "execution_count": 10,
     "metadata": {},
     "output_type": "execute_result"
    }
   ],
   "source": [
    "df_hourly.head()"
   ]
  },
  {
   "cell_type": "code",
   "execution_count": null,
   "metadata": {},
   "outputs": [],
   "source": []
  }
 ],
 "metadata": {
  "interpreter": {
   "hash": "c1b4cfe941b6d2466ad1fb5979e97da9cda8801728c8091b097ab734208fc00c"
  },
  "kernelspec": {
   "display_name": "Python 3.8.3 64-bit ('base': conda)",
   "name": "python3"
  },
  "language_info": {
   "codemirror_mode": {
    "name": "ipython",
    "version": 3
   },
   "file_extension": ".py",
   "mimetype": "text/x-python",
   "name": "python",
   "nbconvert_exporter": "python",
   "pygments_lexer": "ipython3",
   "version": "3.8.11"
  }
 },
 "nbformat": 4,
 "nbformat_minor": 2
}
