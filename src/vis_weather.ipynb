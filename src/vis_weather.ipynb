{
 "cells": [
  {
   "cell_type": "code",
   "execution_count": 1,
   "metadata": {
    "execution": {
     "iopub.execute_input": "2021-09-21T01:56:32.162120Z",
     "iopub.status.busy": "2021-09-21T01:56:32.161413Z",
     "iopub.status.idle": "2021-09-21T01:56:38.715842Z",
     "shell.execute_reply": "2021-09-21T01:56:38.714864Z"
    }
   },
   "outputs": [
    {
     "name": "stderr",
     "output_type": "stream",
     "text": [
      "Matplotlib is building the font cache; this may take a moment.\n"
     ]
    }
   ],
   "source": [
    "import json, yaml, requests\r\n",
    "from datetime import datetime\r\n",
    "from dateutil import tz\r\n",
    "import pandas as pd\r\n",
    "from PIL import Image\r\n",
    "from io import BytesIO\r\n",
    "import matplotlib.pyplot as plt\r\n",
    "import seaborn\r\n",
    "\r\n",
    "CONFIG_PATH = \"../config/config.yaml\""
   ]
  },
  {
   "cell_type": "code",
   "execution_count": 2,
   "metadata": {
    "execution": {
     "iopub.execute_input": "2021-09-21T01:56:38.723371Z",
     "iopub.status.busy": "2021-09-21T01:56:38.722816Z",
     "iopub.status.idle": "2021-09-21T01:56:38.727630Z",
     "shell.execute_reply": "2021-09-21T01:56:38.727143Z"
    }
   },
   "outputs": [],
   "source": [
    "with open('../newest_ts', 'r') as f:\r\n",
    "    newest_ts = f.read()\r\n",
    "\r\n",
    "data_path = f\"../data/data_{newest_ts}.json\"\r\n",
    "with open(data_path, 'r') as f:\r\n",
    "    data = json.load(f)\r\n",
    "\r\n",
    "with open(CONFIG_PATH, \"r\") as stream:\r\n",
    "    config = yaml.safe_load(stream)\r\n",
    "\r\n",
    "TIME_ZONE = config['time_zone']\r\n",
    "DATETIME_FORMAT = config['dt_format']"
   ]
  },
  {
   "cell_type": "code",
   "execution_count": 3,
   "metadata": {
    "execution": {
     "iopub.execute_input": "2021-09-21T01:56:38.732618Z",
     "iopub.status.busy": "2021-09-21T01:56:38.732113Z",
     "iopub.status.idle": "2021-09-21T01:56:38.769882Z",
     "shell.execute_reply": "2021-09-21T01:56:38.769065Z"
    }
   },
   "outputs": [
    {
     "name": "stdout",
     "output_type": "stream",
     "text": [
      "Recent query happens at 2021-09-21 09:56:28 (CST).\n"
     ]
    }
   ],
   "source": [
    "def ts2dt(ts, format=DATETIME_FORMAT):\r\n",
    "    dt = (datetime.utcfromtimestamp(int(ts))\r\n",
    "                    .replace(tzinfo=tz.tzutc())\r\n",
    "                    # .astimezone(tz.tzlocal())\r\n",
    "                    .astimezone(tz.gettz(TIME_ZONE)))\r\n",
    "    return dt.strftime(format), dt\r\n",
    "\r\n",
    "_, newest_dt = ts2dt(newest_ts)\r\n",
    "print(f\"Recent query happens at {newest_dt.strftime(DATETIME_FORMAT)} ({newest_dt.tzname()}).\")"
   ]
  },
  {
   "cell_type": "code",
   "execution_count": 4,
   "metadata": {
    "execution": {
     "iopub.execute_input": "2021-09-21T01:56:38.774813Z",
     "iopub.status.busy": "2021-09-21T01:56:38.772571Z",
     "iopub.status.idle": "2021-09-21T01:56:38.776782Z",
     "shell.execute_reply": "2021-09-21T01:56:38.776337Z"
    }
   },
   "outputs": [],
   "source": [
    "def degrees_to_cardinal(d):\r\n",
    "  dirs = ['N', 'NNE', 'NE', 'ENE', 'E', 'ESE', 'SE', 'SSE', 'S', 'SSW', 'SW', 'WSW', 'W', 'WNW', 'NW', 'NNW']\r\n",
    "  ix = int(round(d / (360. / len(dirs))))\r\n",
    "  return dirs[ix % len(dirs)]"
   ]
  },
  {
   "cell_type": "code",
   "execution_count": 5,
   "metadata": {
    "execution": {
     "iopub.execute_input": "2021-09-21T01:56:38.781455Z",
     "iopub.status.busy": "2021-09-21T01:56:38.780137Z",
     "iopub.status.idle": "2021-09-21T01:56:38.782189Z",
     "shell.execute_reply": "2021-09-21T01:56:38.782627Z"
    }
   },
   "outputs": [],
   "source": [
    "# data.keys()"
   ]
  },
  {
   "cell_type": "code",
   "execution_count": 6,
   "metadata": {
    "execution": {
     "iopub.execute_input": "2021-09-21T01:56:38.787131Z",
     "iopub.status.busy": "2021-09-21T01:56:38.785963Z",
     "iopub.status.idle": "2021-09-21T01:56:38.787729Z",
     "shell.execute_reply": "2021-09-21T01:56:38.788151Z"
    }
   },
   "outputs": [],
   "source": [
    "# data['current']"
   ]
  },
  {
   "cell_type": "code",
   "execution_count": 7,
   "metadata": {
    "execution": {
     "iopub.execute_input": "2021-09-21T01:56:38.810192Z",
     "iopub.status.busy": "2021-09-21T01:56:38.809577Z",
     "iopub.status.idle": "2021-09-21T01:56:39.240264Z",
     "shell.execute_reply": "2021-09-21T01:56:39.241014Z"
    }
   },
   "outputs": [
    {
     "data": {
      "image/png": "[encoded data removed]",
      "text/plain": [
       "<Figure size 216x216 with 1 Axes>"
      ]
     },
     "metadata": {
      "needs_background": "light"
     },
     "output_type": "display_data"
    },
    {
     "name": "stdout",
     "output_type": "stream",
     "text": [
      "Today, sun rises at 06:11 and sets at 18:20.\n",
      "Currently, the weather is Clouds (broken clouds).\n",
      "The temperature is 29.75°C and it feels like 34.44°C.\n",
      "The UV index is 6.06, humidity is 70%.\n",
      "The pressure is 1011 hPa, percentage of cloud cover is 65%\n",
      "The wind comes from E direction with a speed 0.49 m/s.\n"
     ]
    }
   ],
   "source": [
    "current = data['current']\r\n",
    "\r\n",
    "fig, ax = plt.subplots(figsize=(3, 3))\r\n",
    "icon = requests.get(f\"http://openweathermap.org/img/wn/{current['weather'][0]['icon']}@2x.png\")\r\n",
    "im = Image.open(BytesIO(icon.content))\r\n",
    "plt.imshow(im)\r\n",
    "ax.set_axis_off()\r\n",
    "plt.show()\r\n",
    "\r\n",
    "print(f\"Today, sun rises at {ts2dt(current['sunrise'], '%H:%M')[0]} \\\r\n",
    "and sets at {ts2dt(current['sunset'], '%H:%M')[0]}.\\n\\\r\n",
    "Currently, the weather is {current['weather'][0]['main']} ({current['weather'][0]['description']}).\\n\\\r\n",
    "The temperature is {current['temp']}°C and it feels like {current['feels_like']}°C.\\n\\\r\n",
    "The UV index is {current['uvi']}, humidity is {current['humidity']}%.\\n\\\r\n",
    "The pressure is {current['pressure']} hPa, percentage of cloud cover is {current['clouds']}%\\n\\\r\n",
    "The wind comes from {degrees_to_cardinal(current['wind_deg'])} direction with a speed {current['wind_speed']} m/s.\")"
   ]
  },
  {
   "cell_type": "code",
   "execution_count": 8,
   "metadata": {
    "execution": {
     "iopub.execute_input": "2021-09-21T01:56:39.244581Z",
     "iopub.status.busy": "2021-09-21T01:56:39.243535Z",
     "iopub.status.idle": "2021-09-21T01:56:39.251065Z",
     "shell.execute_reply": "2021-09-21T01:56:39.251788Z"
    }
   },
   "outputs": [],
   "source": [
    "df_hourly = pd.DataFrame(data['hourly'])\r\n",
    "df_daily = pd.DataFrame(data['daily'])"
   ]
  },
  {
   "cell_type": "code",
   "execution_count": 9,
   "metadata": {
    "execution": {
     "iopub.execute_input": "2021-09-21T01:56:39.255037Z",
     "iopub.status.busy": "2021-09-21T01:56:39.254009Z",
     "iopub.status.idle": "2021-09-21T01:56:39.514781Z",
     "shell.execute_reply": "2021-09-21T01:56:39.514292Z"
    }
   },
   "outputs": [
    {
     "data": {
      "image/png": "[encoded data removed]",
      "text/plain": [
       "<Figure size 864x432 with 1 Axes>"
      ]
     },
     "metadata": {
      "needs_background": "light"
     },
     "output_type": "display_data"
    }
   ],
   "source": [
    "fig, ax = plt.subplots(figsize=(12, 6))\r\n",
    "plt.plot(df_hourly.temp, '.-', label='Temperature')\r\n",
    "plt.plot(df_hourly.feels_like, '.-', label='Feels Like')\r\n",
    "ax.set(title='Temperature in future 48 hours', xlabel='Time', ylabel='Temperature')\r\n",
    "ax.set_xticks(list(range(0, len(df_hourly), 2)))\r\n",
    "ax.set_xticklabels([ts2dt(ts, '%m-%d %H:%M')[0] for i, ts in enumerate(df_hourly.dt) if i%2==0], \r\n",
    "                   rotation=45, ha=\"right\")\r\n",
    "ax.locator_params(nbins=15, axis='y')\r\n",
    "plt.legend()\r\n",
    "plt.show()"
   ]
  },
  {
   "cell_type": "code",
   "execution_count": 10,
   "metadata": {
    "execution": {
     "iopub.execute_input": "2021-09-21T01:56:39.527043Z",
     "iopub.status.busy": "2021-09-21T01:56:39.518951Z",
     "iopub.status.idle": "2021-09-21T01:56:39.538359Z",
     "shell.execute_reply": "2021-09-21T01:56:39.537936Z"
    }
   },
   "outputs": [
    {
     "data": {
      "text/html": [
       "<div>\n",
       "<style scoped>\n",
       "    .dataframe tbody tr th:only-of-type {\n",
       "        vertical-align: middle;\n",
       "    }\n",
       "\n",
       "    .dataframe tbody tr th {\n",
       "        vertical-align: top;\n",
       "    }\n",
       "\n",
       "    .dataframe thead th {\n",
       "        text-align: right;\n",
       "    }\n",
       "</style>\n",
       "<table border=\"1\" class=\"dataframe\">\n",
       "  <thead>\n",
       "    <tr style=\"text-align: right;\">\n",
       "      <th></th>\n",
       "      <th>dt</th>\n",
       "      <th>temp</th>\n",
       "      <th>feels_like</th>\n",
       "      <th>pressure</th>\n",
       "      <th>humidity</th>\n",
       "      <th>dew_point</th>\n",
       "      <th>uvi</th>\n",
       "      <th>clouds</th>\n",
       "      <th>visibility</th>\n",
       "      <th>wind_speed</th>\n",
       "      <th>wind_deg</th>\n",
       "      <th>wind_gust</th>\n",
       "      <th>weather</th>\n",
       "      <th>pop</th>\n",
       "      <th>rain</th>\n",
       "    </tr>\n",
       "  </thead>\n",
       "  <tbody>\n",
       "    <tr>\n",
       "      <th>0</th>\n",
       "      <td>1632186000</td>\n",
       "      <td>29.59</td>\n",
       "      <td>34.28</td>\n",
       "      <td>1011</td>\n",
       "      <td>71</td>\n",
       "      <td>23.77</td>\n",
       "      <td>3.22</td>\n",
       "      <td>69</td>\n",
       "      <td>10000</td>\n",
       "      <td>0.70</td>\n",
       "      <td>53</td>\n",
       "      <td>0.89</td>\n",
       "      <td>[{'id': 500, 'main': 'Rain', 'description': 'l...</td>\n",
       "      <td>0.58</td>\n",
       "      <td>{'1h': 0.12}</td>\n",
       "    </tr>\n",
       "    <tr>\n",
       "      <th>1</th>\n",
       "      <td>1632189600</td>\n",
       "      <td>29.75</td>\n",
       "      <td>34.44</td>\n",
       "      <td>1011</td>\n",
       "      <td>70</td>\n",
       "      <td>23.69</td>\n",
       "      <td>6.06</td>\n",
       "      <td>65</td>\n",
       "      <td>10000</td>\n",
       "      <td>0.49</td>\n",
       "      <td>90</td>\n",
       "      <td>0.66</td>\n",
       "      <td>[{'id': 803, 'main': 'Clouds', 'description': ...</td>\n",
       "      <td>0.50</td>\n",
       "      <td>NaN</td>\n",
       "    </tr>\n",
       "    <tr>\n",
       "      <th>2</th>\n",
       "      <td>1632193200</td>\n",
       "      <td>29.89</td>\n",
       "      <td>34.54</td>\n",
       "      <td>1011</td>\n",
       "      <td>69</td>\n",
       "      <td>23.58</td>\n",
       "      <td>8.74</td>\n",
       "      <td>63</td>\n",
       "      <td>10000</td>\n",
       "      <td>0.83</td>\n",
       "      <td>119</td>\n",
       "      <td>0.78</td>\n",
       "      <td>[{'id': 803, 'main': 'Clouds', 'description': ...</td>\n",
       "      <td>0.44</td>\n",
       "      <td>NaN</td>\n",
       "    </tr>\n",
       "    <tr>\n",
       "      <th>3</th>\n",
       "      <td>1632196800</td>\n",
       "      <td>30.20</td>\n",
       "      <td>35.03</td>\n",
       "      <td>1011</td>\n",
       "      <td>68</td>\n",
       "      <td>23.64</td>\n",
       "      <td>10.23</td>\n",
       "      <td>58</td>\n",
       "      <td>10000</td>\n",
       "      <td>1.67</td>\n",
       "      <td>136</td>\n",
       "      <td>1.41</td>\n",
       "      <td>[{'id': 500, 'main': 'Rain', 'description': 'l...</td>\n",
       "      <td>0.37</td>\n",
       "      <td>{'1h': 0.32}</td>\n",
       "    </tr>\n",
       "    <tr>\n",
       "      <th>4</th>\n",
       "      <td>1632200400</td>\n",
       "      <td>30.49</td>\n",
       "      <td>35.22</td>\n",
       "      <td>1010</td>\n",
       "      <td>66</td>\n",
       "      <td>23.42</td>\n",
       "      <td>10.06</td>\n",
       "      <td>57</td>\n",
       "      <td>10000</td>\n",
       "      <td>1.91</td>\n",
       "      <td>147</td>\n",
       "      <td>1.47</td>\n",
       "      <td>[{'id': 803, 'main': 'Clouds', 'description': ...</td>\n",
       "      <td>0.33</td>\n",
       "      <td>NaN</td>\n",
       "    </tr>\n",
       "  </tbody>\n",
       "</table>\n",
       "</div>"
      ],
      "text/plain": [
       "           dt   temp  feels_like  pressure  humidity  dew_point    uvi  \\\n",
       "0  1632186000  29.59       34.28      1011        71      23.77   3.22   \n",
       "1  1632189600  29.75       34.44      1011        70      23.69   6.06   \n",
       "2  1632193200  29.89       34.54      1011        69      23.58   8.74   \n",
       "3  1632196800  30.20       35.03      1011        68      23.64  10.23   \n",
       "4  1632200400  30.49       35.22      1010        66      23.42  10.06   \n",
       "\n",
       "   clouds  visibility  wind_speed  wind_deg  wind_gust  \\\n",
       "0      69       10000        0.70        53       0.89   \n",
       "1      65       10000        0.49        90       0.66   \n",
       "2      63       10000        0.83       119       0.78   \n",
       "3      58       10000        1.67       136       1.41   \n",
       "4      57       10000        1.91       147       1.47   \n",
       "\n",
       "                                             weather   pop          rain  \n",
       "0  [{'id': 500, 'main': 'Rain', 'description': 'l...  0.58  {'1h': 0.12}  \n",
       "1  [{'id': 803, 'main': 'Clouds', 'description': ...  0.50           NaN  \n",
       "2  [{'id': 803, 'main': 'Clouds', 'description': ...  0.44           NaN  \n",
       "3  [{'id': 500, 'main': 'Rain', 'description': 'l...  0.37  {'1h': 0.32}  \n",
       "4  [{'id': 803, 'main': 'Clouds', 'description': ...  0.33           NaN  "
      ]
     },
     "execution_count": 10,
     "metadata": {},
     "output_type": "execute_result"
    }
   ],
   "source": [
    "df_hourly.head()"
   ]
  },
  {
   "cell_type": "code",
   "execution_count": null,
   "metadata": {},
   "outputs": [],
   "source": []
  }
 ],
 "metadata": {
  "interpreter": {
   "hash": "c1b4cfe941b6d2466ad1fb5979e97da9cda8801728c8091b097ab734208fc00c"
  },
  "kernelspec": {
   "display_name": "Python 3.8.3 64-bit ('base': conda)",
   "name": "python3"
  },
  "language_info": {
   "codemirror_mode": {
    "name": "ipython",
    "version": 3
   },
   "file_extension": ".py",
   "mimetype": "text/x-python",
   "name": "python",
   "nbconvert_exporter": "python",
   "pygments_lexer": "ipython3",
   "version": "3.8.11"
  }
 },
 "nbformat": 4,
 "nbformat_minor": 2
}
