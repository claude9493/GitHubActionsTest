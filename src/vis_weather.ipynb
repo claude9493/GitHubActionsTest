{
 "cells": [
  {
   "cell_type": "code",
   "execution_count": 1,
   "metadata": {
    "execution": {
     "iopub.execute_input": "2021-10-03T11:10:19.376629Z",
     "iopub.status.busy": "2021-10-03T11:10:19.375563Z",
     "iopub.status.idle": "2021-10-03T11:10:22.732213Z",
     "shell.execute_reply": "2021-10-03T11:10:22.730998Z"
    }
   },
   "outputs": [],
   "source": [
    "import json, yaml, requests\r\n",
    "from datetime import datetime\r\n",
    "from dateutil import tz\r\n",
    "import pandas as pd\r\n",
    "from PIL import Image\r\n",
    "from io import BytesIO\r\n",
    "import matplotlib.pyplot as plt\r\n",
    "import seaborn\r\n",
    "\r\n",
    "CONFIG_PATH = \"../config/config.yaml\""
   ]
  },
  {
   "cell_type": "code",
   "execution_count": 2,
   "metadata": {
    "execution": {
     "iopub.execute_input": "2021-10-03T11:10:22.738595Z",
     "iopub.status.busy": "2021-10-03T11:10:22.735714Z",
     "iopub.status.idle": "2021-10-03T11:10:22.744573Z",
     "shell.execute_reply": "2021-10-03T11:10:22.745024Z"
    }
   },
   "outputs": [],
   "source": [
    "with open('../newest_ts', 'r') as f:\r\n",
    "    newest_ts = f.read()\r\n",
    "\r\n",
    "data_path = f\"../data/data_{newest_ts}.json\"\r\n",
    "with open(data_path, 'r') as f:\r\n",
    "    data = json.load(f)\r\n",
    "\r\n",
    "with open(CONFIG_PATH, \"r\") as stream:\r\n",
    "    config = yaml.safe_load(stream)\r\n",
    "\r\n",
    "TIME_ZONE = config['time_zone']\r\n",
    "DATETIME_FORMAT = config['dt_format']"
   ]
  },
  {
   "cell_type": "code",
   "execution_count": 3,
   "metadata": {
    "execution": {
     "iopub.execute_input": "2021-10-03T11:10:22.752453Z",
     "iopub.status.busy": "2021-10-03T11:10:22.750276Z",
     "iopub.status.idle": "2021-10-03T11:10:22.757244Z",
     "shell.execute_reply": "2021-10-03T11:10:22.757764Z"
    }
   },
   "outputs": [
    {
     "name": "stdout",
     "output_type": "stream",
     "text": [
      "Recent query happens at 2021-10-03 19:10:15 (CST).\n"
     ]
    }
   ],
   "source": [
    "def ts2dt(ts, format=DATETIME_FORMAT):\r\n",
    "    dt = (datetime.utcfromtimestamp(int(ts))\r\n",
    "                    .replace(tzinfo=tz.tzutc())\r\n",
    "                    # .astimezone(tz.tzlocal())\r\n",
    "                    .astimezone(tz.gettz(TIME_ZONE)))\r\n",
    "    return dt.strftime(format), dt\r\n",
    "\r\n",
    "_, newest_dt = ts2dt(newest_ts)\r\n",
    "print(f\"Recent query happens at {newest_dt.strftime(DATETIME_FORMAT)} ({newest_dt.tzname()}).\")"
   ]
  },
  {
   "cell_type": "code",
   "execution_count": 4,
   "metadata": {
    "execution": {
     "iopub.execute_input": "2021-10-03T11:10:22.764656Z",
     "iopub.status.busy": "2021-10-03T11:10:22.763133Z",
     "iopub.status.idle": "2021-10-03T11:10:22.765384Z",
     "shell.execute_reply": "2021-10-03T11:10:22.765899Z"
    }
   },
   "outputs": [],
   "source": [
    "def degrees_to_cardinal(d):\r\n",
    "  dirs = ['N', 'NNE', 'NE', 'ENE', 'E', 'ESE', 'SE', 'SSE', 'S', 'SSW', 'SW', 'WSW', 'W', 'WNW', 'NW', 'NNW']\r\n",
    "  ix = int(round(d / (360. / len(dirs))))\r\n",
    "  return dirs[ix % len(dirs)]"
   ]
  },
  {
   "cell_type": "code",
   "execution_count": 5,
   "metadata": {
    "execution": {
     "iopub.execute_input": "2021-10-03T11:10:22.771408Z",
     "iopub.status.busy": "2021-10-03T11:10:22.769873Z",
     "iopub.status.idle": "2021-10-03T11:10:22.772302Z",
     "shell.execute_reply": "2021-10-03T11:10:22.772832Z"
    }
   },
   "outputs": [],
   "source": [
    "# data.keys()"
   ]
  },
  {
   "cell_type": "code",
   "execution_count": 6,
   "metadata": {
    "execution": {
     "iopub.execute_input": "2021-10-03T11:10:22.778423Z",
     "iopub.status.busy": "2021-10-03T11:10:22.776847Z",
     "iopub.status.idle": "2021-10-03T11:10:22.779164Z",
     "shell.execute_reply": "2021-10-03T11:10:22.779683Z"
    }
   },
   "outputs": [],
   "source": [
    "# data['current']"
   ]
  },
  {
   "cell_type": "code",
   "execution_count": 7,
   "metadata": {
    "execution": {
     "iopub.execute_input": "2021-10-03T11:10:22.803552Z",
     "iopub.status.busy": "2021-10-03T11:10:22.802771Z",
     "iopub.status.idle": "2021-10-03T11:10:23.103594Z",
     "shell.execute_reply": "2021-10-03T11:10:23.104118Z"
    }
   },
   "outputs": [
    {
     "data": {
      "image/png": "[encoded data removed]",
      "text/plain": [
       "<Figure size 216x216 with 1 Axes>"
      ]
     },
     "metadata": {
      "needs_background": "light"
     },
     "output_type": "display_data"
    },
    {
     "name": "stdout",
     "output_type": "stream",
     "text": [
      "Today, sun rises at 06:14 and sets at 18:09.\n",
      "Currently, the weather is Clouds (broken clouds).\n",
      "The temperature is 28.86°C and it feels like 34.15°C.\n",
      "The UV index is 0, humidity is 79%.\n",
      "The pressure is 1011 hPa, percentage of cloud cover is 55%\n",
      "The wind comes from NW direction with a speed 0.89 m/s.\n"
     ]
    }
   ],
   "source": [
    "current = data['current']\r\n",
    "\r\n",
    "fig, ax = plt.subplots(figsize=(3, 3))\r\n",
    "icon = requests.get(f\"http://openweathermap.org/img/wn/{current['weather'][0]['icon']}@2x.png\")\r\n",
    "im = Image.open(BytesIO(icon.content))\r\n",
    "plt.imshow(im)\r\n",
    "ax.set_axis_off()\r\n",
    "plt.show()\r\n",
    "\r\n",
    "print(f\"Today, sun rises at {ts2dt(current['sunrise'], '%H:%M')[0]} \\\r\n",
    "and sets at {ts2dt(current['sunset'], '%H:%M')[0]}.\\n\\\r\n",
    "Currently, the weather is {current['weather'][0]['main']} ({current['weather'][0]['description']}).\\n\\\r\n",
    "The temperature is {current['temp']}°C and it feels like {current['feels_like']}°C.\\n\\\r\n",
    "The UV index is {current['uvi']}, humidity is {current['humidity']}%.\\n\\\r\n",
    "The pressure is {current['pressure']} hPa, percentage of cloud cover is {current['clouds']}%\\n\\\r\n",
    "The wind comes from {degrees_to_cardinal(current['wind_deg'])} direction with a speed {current['wind_speed']} m/s.\")"
   ]
  },
  {
   "cell_type": "code",
   "execution_count": 8,
   "metadata": {
    "execution": {
     "iopub.execute_input": "2021-10-03T11:10:23.107441Z",
     "iopub.status.busy": "2021-10-03T11:10:23.106742Z",
     "iopub.status.idle": "2021-10-03T11:10:23.113869Z",
     "shell.execute_reply": "2021-10-03T11:10:23.114702Z"
    }
   },
   "outputs": [],
   "source": [
    "df_hourly = pd.DataFrame(data['hourly'])\r\n",
    "df_daily = pd.DataFrame(data['daily'])"
   ]
  },
  {
   "cell_type": "code",
   "execution_count": 9,
   "metadata": {
    "execution": {
     "iopub.execute_input": "2021-10-03T11:10:23.118598Z",
     "iopub.status.busy": "2021-10-03T11:10:23.117972Z",
     "iopub.status.idle": "2021-10-03T11:10:23.442569Z",
     "shell.execute_reply": "2021-10-03T11:10:23.442020Z"
    }
   },
   "outputs": [
    {
     "data": {
      "image/png": "[encoded data removed]",
      "text/plain": [
       "<Figure size 864x432 with 1 Axes>"
      ]
     },
     "metadata": {
      "needs_background": "light"
     },
     "output_type": "display_data"
    }
   ],
   "source": [
    "fig, ax = plt.subplots(figsize=(12, 6))\r\n",
    "plt.plot(df_hourly.temp, '.-', label='Temperature')\r\n",
    "plt.plot(df_hourly.feels_like, '.-', label='Feels Like')\r\n",
    "ax.set(title='Temperature in future 48 hours', xlabel='Time', ylabel='Temperature')\r\n",
    "ax.set_xticks(list(range(0, len(df_hourly), 2)))\r\n",
    "ax.set_xticklabels([ts2dt(ts, '%m-%d %H:%M')[0] for i, ts in enumerate(df_hourly.dt) if i%2==0], \r\n",
    "                   rotation=45, ha=\"right\")\r\n",
    "ax.locator_params(nbins=15, axis='y')\r\n",
    "plt.legend()\r\n",
    "plt.show()"
   ]
  },
  {
   "cell_type": "code",
   "execution_count": 10,
   "metadata": {
    "execution": {
     "iopub.execute_input": "2021-10-03T11:10:23.453877Z",
     "iopub.status.busy": "2021-10-03T11:10:23.447864Z",
     "iopub.status.idle": "2021-10-03T11:10:23.474465Z",
     "shell.execute_reply": "2021-10-03T11:10:23.473858Z"
    }
   },
   "outputs": [
    {
     "data": {
      "text/html": [
       "<div>\n",
       "<style scoped>\n",
       "    .dataframe tbody tr th:only-of-type {\n",
       "        vertical-align: middle;\n",
       "    }\n",
       "\n",
       "    .dataframe tbody tr th {\n",
       "        vertical-align: top;\n",
       "    }\n",
       "\n",
       "    .dataframe thead th {\n",
       "        text-align: right;\n",
       "    }\n",
       "</style>\n",
       "<table border=\"1\" class=\"dataframe\">\n",
       "  <thead>\n",
       "    <tr style=\"text-align: right;\">\n",
       "      <th></th>\n",
       "      <th>dt</th>\n",
       "      <th>temp</th>\n",
       "      <th>feels_like</th>\n",
       "      <th>pressure</th>\n",
       "      <th>humidity</th>\n",
       "      <th>dew_point</th>\n",
       "      <th>uvi</th>\n",
       "      <th>clouds</th>\n",
       "      <th>visibility</th>\n",
       "      <th>wind_speed</th>\n",
       "      <th>wind_deg</th>\n",
       "      <th>wind_gust</th>\n",
       "      <th>weather</th>\n",
       "      <th>pop</th>\n",
       "      <th>rain</th>\n",
       "    </tr>\n",
       "  </thead>\n",
       "  <tbody>\n",
       "    <tr>\n",
       "      <th>0</th>\n",
       "      <td>1633258800</td>\n",
       "      <td>28.86</td>\n",
       "      <td>34.15</td>\n",
       "      <td>1011</td>\n",
       "      <td>79</td>\n",
       "      <td>24.85</td>\n",
       "      <td>0.0</td>\n",
       "      <td>55</td>\n",
       "      <td>10000</td>\n",
       "      <td>5.91</td>\n",
       "      <td>96</td>\n",
       "      <td>8.01</td>\n",
       "      <td>[{'id': 803, 'main': 'Clouds', 'description': ...</td>\n",
       "      <td>0.78</td>\n",
       "      <td>NaN</td>\n",
       "    </tr>\n",
       "    <tr>\n",
       "      <th>1</th>\n",
       "      <td>1633262400</td>\n",
       "      <td>28.66</td>\n",
       "      <td>33.81</td>\n",
       "      <td>1011</td>\n",
       "      <td>80</td>\n",
       "      <td>24.87</td>\n",
       "      <td>0.0</td>\n",
       "      <td>55</td>\n",
       "      <td>10000</td>\n",
       "      <td>6.28</td>\n",
       "      <td>94</td>\n",
       "      <td>7.92</td>\n",
       "      <td>[{'id': 803, 'main': 'Clouds', 'description': ...</td>\n",
       "      <td>0.67</td>\n",
       "      <td>NaN</td>\n",
       "    </tr>\n",
       "    <tr>\n",
       "      <th>2</th>\n",
       "      <td>1633266000</td>\n",
       "      <td>28.38</td>\n",
       "      <td>33.07</td>\n",
       "      <td>1012</td>\n",
       "      <td>80</td>\n",
       "      <td>24.59</td>\n",
       "      <td>0.0</td>\n",
       "      <td>54</td>\n",
       "      <td>10000</td>\n",
       "      <td>7.12</td>\n",
       "      <td>90</td>\n",
       "      <td>8.74</td>\n",
       "      <td>[{'id': 803, 'main': 'Clouds', 'description': ...</td>\n",
       "      <td>0.16</td>\n",
       "      <td>NaN</td>\n",
       "    </tr>\n",
       "    <tr>\n",
       "      <th>3</th>\n",
       "      <td>1633269600</td>\n",
       "      <td>28.21</td>\n",
       "      <td>32.63</td>\n",
       "      <td>1012</td>\n",
       "      <td>80</td>\n",
       "      <td>24.43</td>\n",
       "      <td>0.0</td>\n",
       "      <td>52</td>\n",
       "      <td>10000</td>\n",
       "      <td>7.35</td>\n",
       "      <td>91</td>\n",
       "      <td>9.42</td>\n",
       "      <td>[{'id': 803, 'main': 'Clouds', 'description': ...</td>\n",
       "      <td>0.26</td>\n",
       "      <td>NaN</td>\n",
       "    </tr>\n",
       "    <tr>\n",
       "      <th>4</th>\n",
       "      <td>1633273200</td>\n",
       "      <td>28.04</td>\n",
       "      <td>31.89</td>\n",
       "      <td>1013</td>\n",
       "      <td>78</td>\n",
       "      <td>23.84</td>\n",
       "      <td>0.0</td>\n",
       "      <td>57</td>\n",
       "      <td>10000</td>\n",
       "      <td>7.56</td>\n",
       "      <td>95</td>\n",
       "      <td>9.46</td>\n",
       "      <td>[{'id': 803, 'main': 'Clouds', 'description': ...</td>\n",
       "      <td>0.33</td>\n",
       "      <td>NaN</td>\n",
       "    </tr>\n",
       "  </tbody>\n",
       "</table>\n",
       "</div>"
      ],
      "text/plain": [
       "           dt   temp  feels_like  pressure  humidity  dew_point  uvi  clouds  \\\n",
       "0  1633258800  28.86       34.15      1011        79      24.85  0.0      55   \n",
       "1  1633262400  28.66       33.81      1011        80      24.87  0.0      55   \n",
       "2  1633266000  28.38       33.07      1012        80      24.59  0.0      54   \n",
       "3  1633269600  28.21       32.63      1012        80      24.43  0.0      52   \n",
       "4  1633273200  28.04       31.89      1013        78      23.84  0.0      57   \n",
       "\n",
       "   visibility  wind_speed  wind_deg  wind_gust  \\\n",
       "0       10000        5.91        96       8.01   \n",
       "1       10000        6.28        94       7.92   \n",
       "2       10000        7.12        90       8.74   \n",
       "3       10000        7.35        91       9.42   \n",
       "4       10000        7.56        95       9.46   \n",
       "\n",
       "                                             weather   pop rain  \n",
       "0  [{'id': 803, 'main': 'Clouds', 'description': ...  0.78  NaN  \n",
       "1  [{'id': 803, 'main': 'Clouds', 'description': ...  0.67  NaN  \n",
       "2  [{'id': 803, 'main': 'Clouds', 'description': ...  0.16  NaN  \n",
       "3  [{'id': 803, 'main': 'Clouds', 'description': ...  0.26  NaN  \n",
       "4  [{'id': 803, 'main': 'Clouds', 'description': ...  0.33  NaN  "
      ]
     },
     "execution_count": 10,
     "metadata": {},
     "output_type": "execute_result"
    }
   ],
   "source": [
    "df_hourly.head()"
   ]
  },
  {
   "cell_type": "code",
   "execution_count": null,
   "metadata": {},
   "outputs": [],
   "source": []
  }
 ],
 "metadata": {
  "interpreter": {
   "hash": "c1b4cfe941b6d2466ad1fb5979e97da9cda8801728c8091b097ab734208fc00c"
  },
  "kernelspec": {
   "display_name": "Python 3.8.3 64-bit ('base': conda)",
   "name": "python3"
  },
  "language_info": {
   "codemirror_mode": {
    "name": "ipython",
    "version": 3
   },
   "file_extension": ".py",
   "mimetype": "text/x-python",
   "name": "python",
   "nbconvert_exporter": "python",
   "pygments_lexer": "ipython3",
   "version": "3.8.12"
  }
 },
 "nbformat": 4,
 "nbformat_minor": 2
}
