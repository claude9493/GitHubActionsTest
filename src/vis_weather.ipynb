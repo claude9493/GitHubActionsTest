{
 "cells": [
  {
   "cell_type": "code",
   "execution_count": 1,
   "metadata": {
    "execution": {
     "iopub.execute_input": "2021-08-29T20:37:46.013321Z",
     "iopub.status.busy": "2021-08-29T20:37:46.012344Z",
     "iopub.status.idle": "2021-08-29T20:37:48.311096Z",
     "shell.execute_reply": "2021-08-29T20:37:48.310533Z"
    }
   },
   "outputs": [],
   "source": [
    "import json, yaml, requests\r\n",
    "from datetime import datetime\r\n",
    "from dateutil import tz\r\n",
    "import pandas as pd\r\n",
    "from PIL import Image\r\n",
    "from io import BytesIO\r\n",
    "import matplotlib.pyplot as plt\r\n",
    "import seaborn\r\n",
    "\r\n",
    "CONFIG_PATH = \"../config/config.yaml\""
   ]
  },
  {
   "cell_type": "code",
   "execution_count": 2,
   "metadata": {
    "execution": {
     "iopub.execute_input": "2021-08-29T20:37:48.319008Z",
     "iopub.status.busy": "2021-08-29T20:37:48.315881Z",
     "iopub.status.idle": "2021-08-29T20:37:48.321771Z",
     "shell.execute_reply": "2021-08-29T20:37:48.321069Z"
    }
   },
   "outputs": [],
   "source": [
    "with open('../newest_ts', 'r') as f:\r\n",
    "    newest_ts = f.read()\r\n",
    "\r\n",
    "data_path = f\"../data/data_{newest_ts}.json\"\r\n",
    "with open(data_path, 'r') as f:\r\n",
    "    data = json.load(f)\r\n",
    "\r\n",
    "with open(CONFIG_PATH, \"r\") as stream:\r\n",
    "    config = yaml.safe_load(stream)\r\n",
    "\r\n",
    "TIME_ZONE = config['time_zone']\r\n",
    "DATETIME_FORMAT = config['dt_format']"
   ]
  },
  {
   "cell_type": "code",
   "execution_count": 3,
   "metadata": {
    "execution": {
     "iopub.execute_input": "2021-08-29T20:37:48.326667Z",
     "iopub.status.busy": "2021-08-29T20:37:48.325825Z",
     "iopub.status.idle": "2021-08-29T20:37:48.331500Z",
     "shell.execute_reply": "2021-08-29T20:37:48.331037Z"
    }
   },
   "outputs": [
    {
     "name": "stdout",
     "output_type": "stream",
     "text": [
      "Recent query happens at 2021-08-30 04:37:43 (CST).\n"
     ]
    }
   ],
   "source": [
    "def ts2dt(ts, format=DATETIME_FORMAT):\r\n",
    "    dt = (datetime.utcfromtimestamp(int(ts))\r\n",
    "                    .replace(tzinfo=tz.tzutc())\r\n",
    "                    # .astimezone(tz.tzlocal())\r\n",
    "                    .astimezone(tz.gettz(TIME_ZONE)))\r\n",
    "    return dt.strftime(format), dt\r\n",
    "\r\n",
    "_, newest_dt = ts2dt(newest_ts)\r\n",
    "print(f\"Recent query happens at {newest_dt.strftime(DATETIME_FORMAT)} ({newest_dt.tzname()}).\")"
   ]
  },
  {
   "cell_type": "code",
   "execution_count": 4,
   "metadata": {
    "execution": {
     "iopub.execute_input": "2021-08-29T20:37:48.336769Z",
     "iopub.status.busy": "2021-08-29T20:37:48.335588Z",
     "iopub.status.idle": "2021-08-29T20:37:48.337413Z",
     "shell.execute_reply": "2021-08-29T20:37:48.337853Z"
    }
   },
   "outputs": [],
   "source": [
    "def degrees_to_cardinal(d):\r\n",
    "  dirs = ['N', 'NNE', 'NE', 'ENE', 'E', 'ESE', 'SE', 'SSE', 'S', 'SSW', 'SW', 'WSW', 'W', 'WNW', 'NW', 'NNW']\r\n",
    "  ix = int(round(d / (360. / len(dirs))))\r\n",
    "  return dirs[ix % len(dirs)]"
   ]
  },
  {
   "cell_type": "code",
   "execution_count": 5,
   "metadata": {
    "execution": {
     "iopub.execute_input": "2021-08-29T20:37:48.341938Z",
     "iopub.status.busy": "2021-08-29T20:37:48.340929Z",
     "iopub.status.idle": "2021-08-29T20:37:48.342475Z",
     "shell.execute_reply": "2021-08-29T20:37:48.342865Z"
    }
   },
   "outputs": [],
   "source": [
    "# data.keys()"
   ]
  },
  {
   "cell_type": "code",
   "execution_count": 6,
   "metadata": {
    "execution": {
     "iopub.execute_input": "2021-08-29T20:37:48.346856Z",
     "iopub.status.busy": "2021-08-29T20:37:48.345796Z",
     "iopub.status.idle": "2021-08-29T20:37:48.347619Z",
     "shell.execute_reply": "2021-08-29T20:37:48.348065Z"
    }
   },
   "outputs": [],
   "source": [
    "# data['current']"
   ]
  },
  {
   "cell_type": "code",
   "execution_count": 7,
   "metadata": {
    "execution": {
     "iopub.execute_input": "2021-08-29T20:37:48.366271Z",
     "iopub.status.busy": "2021-08-29T20:37:48.365767Z",
     "iopub.status.idle": "2021-08-29T20:37:48.667835Z",
     "shell.execute_reply": "2021-08-29T20:37:48.668544Z"
    }
   },
   "outputs": [
    {
     "data": {
      "image/png": "[encoded data removed]",
      "text/plain": [
       "<Figure size 216x216 with 1 Axes>"
      ]
     },
     "metadata": {
      "needs_background": "light"
     },
     "output_type": "display_data"
    },
    {
     "name": "stdout",
     "output_type": "stream",
     "text": [
      "Today, sun rises at 06:05 and sets at 18:42.\n",
      "Currently, the weather is Clouds (scattered clouds).\n",
      "The temperature is 27.79°C and it feels like 32.46°C.\n",
      "The UV index is 0, humidity is 86%.\n",
      "The pressure is 1011 hPa, percentage of cloud cover is 28%\n",
      "The wind comes from E direction with a speed 3.51 m/s.\n"
     ]
    }
   ],
   "source": [
    "current = data['current']\r\n",
    "\r\n",
    "fig, ax = plt.subplots(figsize=(3, 3))\r\n",
    "icon = requests.get(f\"http://openweathermap.org/img/wn/{current['weather'][0]['icon']}@2x.png\")\r\n",
    "im = Image.open(BytesIO(icon.content))\r\n",
    "plt.imshow(im)\r\n",
    "ax.set_axis_off()\r\n",
    "plt.show()\r\n",
    "\r\n",
    "print(f\"Today, sun rises at {ts2dt(current['sunrise'], '%H:%M')[0]} \\\r\n",
    "and sets at {ts2dt(current['sunset'], '%H:%M')[0]}.\\n\\\r\n",
    "Currently, the weather is {current['weather'][0]['main']} ({current['weather'][0]['description']}).\\n\\\r\n",
    "The temperature is {current['temp']}°C and it feels like {current['feels_like']}°C.\\n\\\r\n",
    "The UV index is {current['uvi']}, humidity is {current['humidity']}%.\\n\\\r\n",
    "The pressure is {current['pressure']} hPa, percentage of cloud cover is {current['clouds']}%\\n\\\r\n",
    "The wind comes from {degrees_to_cardinal(current['wind_deg'])} direction with a speed {current['wind_speed']} m/s.\")"
   ]
  },
  {
   "cell_type": "code",
   "execution_count": 8,
   "metadata": {
    "execution": {
     "iopub.execute_input": "2021-08-29T20:37:48.671511Z",
     "iopub.status.busy": "2021-08-29T20:37:48.670679Z",
     "iopub.status.idle": "2021-08-29T20:37:48.677769Z",
     "shell.execute_reply": "2021-08-29T20:37:48.678354Z"
    }
   },
   "outputs": [],
   "source": [
    "df_hourly = pd.DataFrame(data['hourly'])\r\n",
    "df_daily = pd.DataFrame(data['daily'])"
   ]
  },
  {
   "cell_type": "code",
   "execution_count": 9,
   "metadata": {
    "execution": {
     "iopub.execute_input": "2021-08-29T20:37:48.681526Z",
     "iopub.status.busy": "2021-08-29T20:37:48.680561Z",
     "iopub.status.idle": "2021-08-29T20:37:48.943814Z",
     "shell.execute_reply": "2021-08-29T20:37:48.943329Z"
    }
   },
   "outputs": [
    {
     "data": {
      "image/png": "[encoded data removed]",
      "text/plain": [
       "<Figure size 864x432 with 1 Axes>"
      ]
     },
     "metadata": {
      "needs_background": "light"
     },
     "output_type": "display_data"
    }
   ],
   "source": [
    "fig, ax = plt.subplots(figsize=(12, 6))\r\n",
    "plt.plot(df_hourly.temp, '.-', label='Temperature')\r\n",
    "plt.plot(df_hourly.feels_like, '.-', label='Feels Like')\r\n",
    "ax.set(title='Temperature in future 48 hours', xlabel='Time', ylabel='Temperature')\r\n",
    "ax.set_xticks(list(range(0, len(df_hourly), 2)))\r\n",
    "ax.set_xticklabels([ts2dt(ts, '%m-%d %H:%M')[0] for i, ts in enumerate(df_hourly.dt) if i%2==0], \r\n",
    "                   rotation=45, ha=\"right\")\r\n",
    "ax.locator_params(nbins=15, axis='y')\r\n",
    "plt.legend()\r\n",
    "plt.show()"
   ]
  },
  {
   "cell_type": "code",
   "execution_count": 10,
   "metadata": {
    "execution": {
     "iopub.execute_input": "2021-08-29T20:37:48.955382Z",
     "iopub.status.busy": "2021-08-29T20:37:48.947835Z",
     "iopub.status.idle": "2021-08-29T20:37:48.966616Z",
     "shell.execute_reply": "2021-08-29T20:37:48.966199Z"
    }
   },
   "outputs": [
    {
     "data": {
      "text/html": [
       "<div>\n",
       "<style scoped>\n",
       "    .dataframe tbody tr th:only-of-type {\n",
       "        vertical-align: middle;\n",
       "    }\n",
       "\n",
       "    .dataframe tbody tr th {\n",
       "        vertical-align: top;\n",
       "    }\n",
       "\n",
       "    .dataframe thead th {\n",
       "        text-align: right;\n",
       "    }\n",
       "</style>\n",
       "<table border=\"1\" class=\"dataframe\">\n",
       "  <thead>\n",
       "    <tr style=\"text-align: right;\">\n",
       "      <th></th>\n",
       "      <th>dt</th>\n",
       "      <th>temp</th>\n",
       "      <th>feels_like</th>\n",
       "      <th>pressure</th>\n",
       "      <th>humidity</th>\n",
       "      <th>dew_point</th>\n",
       "      <th>uvi</th>\n",
       "      <th>clouds</th>\n",
       "      <th>visibility</th>\n",
       "      <th>wind_speed</th>\n",
       "      <th>wind_deg</th>\n",
       "      <th>wind_gust</th>\n",
       "      <th>weather</th>\n",
       "      <th>pop</th>\n",
       "      <th>rain</th>\n",
       "    </tr>\n",
       "  </thead>\n",
       "  <tbody>\n",
       "    <tr>\n",
       "      <th>0</th>\n",
       "      <td>1630267200</td>\n",
       "      <td>27.68</td>\n",
       "      <td>32.01</td>\n",
       "      <td>1011</td>\n",
       "      <td>85</td>\n",
       "      <td>24.93</td>\n",
       "      <td>0.00</td>\n",
       "      <td>30</td>\n",
       "      <td>10000</td>\n",
       "      <td>3.52</td>\n",
       "      <td>96</td>\n",
       "      <td>5.06</td>\n",
       "      <td>[{'id': 500, 'main': 'Rain', 'description': 'l...</td>\n",
       "      <td>0.50</td>\n",
       "      <td>{'1h': 0.27}</td>\n",
       "    </tr>\n",
       "    <tr>\n",
       "      <th>1</th>\n",
       "      <td>1630270800</td>\n",
       "      <td>27.79</td>\n",
       "      <td>32.46</td>\n",
       "      <td>1011</td>\n",
       "      <td>86</td>\n",
       "      <td>25.23</td>\n",
       "      <td>0.00</td>\n",
       "      <td>28</td>\n",
       "      <td>10000</td>\n",
       "      <td>3.51</td>\n",
       "      <td>83</td>\n",
       "      <td>4.88</td>\n",
       "      <td>[{'id': 802, 'main': 'Clouds', 'description': ...</td>\n",
       "      <td>0.54</td>\n",
       "      <td>NaN</td>\n",
       "    </tr>\n",
       "    <tr>\n",
       "      <th>2</th>\n",
       "      <td>1630274400</td>\n",
       "      <td>27.68</td>\n",
       "      <td>32.01</td>\n",
       "      <td>1011</td>\n",
       "      <td>85</td>\n",
       "      <td>24.93</td>\n",
       "      <td>0.00</td>\n",
       "      <td>28</td>\n",
       "      <td>10000</td>\n",
       "      <td>3.62</td>\n",
       "      <td>73</td>\n",
       "      <td>4.81</td>\n",
       "      <td>[{'id': 802, 'main': 'Clouds', 'description': ...</td>\n",
       "      <td>0.48</td>\n",
       "      <td>NaN</td>\n",
       "    </tr>\n",
       "    <tr>\n",
       "      <th>3</th>\n",
       "      <td>1630278000</td>\n",
       "      <td>27.68</td>\n",
       "      <td>31.87</td>\n",
       "      <td>1011</td>\n",
       "      <td>84</td>\n",
       "      <td>24.73</td>\n",
       "      <td>0.35</td>\n",
       "      <td>28</td>\n",
       "      <td>10000</td>\n",
       "      <td>3.82</td>\n",
       "      <td>69</td>\n",
       "      <td>4.87</td>\n",
       "      <td>[{'id': 802, 'main': 'Clouds', 'description': ...</td>\n",
       "      <td>0.44</td>\n",
       "      <td>NaN</td>\n",
       "    </tr>\n",
       "    <tr>\n",
       "      <th>4</th>\n",
       "      <td>1630281600</td>\n",
       "      <td>27.99</td>\n",
       "      <td>32.23</td>\n",
       "      <td>1012</td>\n",
       "      <td>81</td>\n",
       "      <td>24.42</td>\n",
       "      <td>1.55</td>\n",
       "      <td>26</td>\n",
       "      <td>10000</td>\n",
       "      <td>4.28</td>\n",
       "      <td>68</td>\n",
       "      <td>5.23</td>\n",
       "      <td>[{'id': 802, 'main': 'Clouds', 'description': ...</td>\n",
       "      <td>0.44</td>\n",
       "      <td>NaN</td>\n",
       "    </tr>\n",
       "  </tbody>\n",
       "</table>\n",
       "</div>"
      ],
      "text/plain": [
       "           dt   temp  feels_like  pressure  humidity  dew_point   uvi  clouds  \\\n",
       "0  1630267200  27.68       32.01      1011        85      24.93  0.00      30   \n",
       "1  1630270800  27.79       32.46      1011        86      25.23  0.00      28   \n",
       "2  1630274400  27.68       32.01      1011        85      24.93  0.00      28   \n",
       "3  1630278000  27.68       31.87      1011        84      24.73  0.35      28   \n",
       "4  1630281600  27.99       32.23      1012        81      24.42  1.55      26   \n",
       "\n",
       "   visibility  wind_speed  wind_deg  wind_gust  \\\n",
       "0       10000        3.52        96       5.06   \n",
       "1       10000        3.51        83       4.88   \n",
       "2       10000        3.62        73       4.81   \n",
       "3       10000        3.82        69       4.87   \n",
       "4       10000        4.28        68       5.23   \n",
       "\n",
       "                                             weather   pop          rain  \n",
       "0  [{'id': 500, 'main': 'Rain', 'description': 'l...  0.50  {'1h': 0.27}  \n",
       "1  [{'id': 802, 'main': 'Clouds', 'description': ...  0.54           NaN  \n",
       "2  [{'id': 802, 'main': 'Clouds', 'description': ...  0.48           NaN  \n",
       "3  [{'id': 802, 'main': 'Clouds', 'description': ...  0.44           NaN  \n",
       "4  [{'id': 802, 'main': 'Clouds', 'description': ...  0.44           NaN  "
      ]
     },
     "execution_count": 10,
     "metadata": {},
     "output_type": "execute_result"
    }
   ],
   "source": [
    "df_hourly.head()"
   ]
  },
  {
   "cell_type": "code",
   "execution_count": null,
   "metadata": {},
   "outputs": [],
   "source": []
  }
 ],
 "metadata": {
  "interpreter": {
   "hash": "c1b4cfe941b6d2466ad1fb5979e97da9cda8801728c8091b097ab734208fc00c"
  },
  "kernelspec": {
   "display_name": "Python 3.8.3 64-bit ('base': conda)",
   "name": "python3"
  },
  "language_info": {
   "codemirror_mode": {
    "name": "ipython",
    "version": 3
   },
   "file_extension": ".py",
   "mimetype": "text/x-python",
   "name": "python",
   "nbconvert_exporter": "python",
   "pygments_lexer": "ipython3",
   "version": "3.8.11"
  }
 },
 "nbformat": 4,
 "nbformat_minor": 2
}
