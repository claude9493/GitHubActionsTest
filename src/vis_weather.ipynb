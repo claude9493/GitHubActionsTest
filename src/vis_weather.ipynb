{
 "cells": [
  {
   "cell_type": "code",
   "execution_count": 1,
   "metadata": {
    "execution": {
     "iopub.execute_input": "2021-09-02T09:15:25.472775Z",
     "iopub.status.busy": "2021-09-02T09:15:25.472253Z",
     "iopub.status.idle": "2021-09-02T09:15:26.795201Z",
     "shell.execute_reply": "2021-09-02T09:15:26.795890Z"
    }
   },
   "outputs": [],
   "source": [
    "import json, yaml, requests\r\n",
    "from datetime import datetime\r\n",
    "from dateutil import tz\r\n",
    "import pandas as pd\r\n",
    "from PIL import Image\r\n",
    "from io import BytesIO\r\n",
    "import matplotlib.pyplot as plt\r\n",
    "import seaborn\r\n",
    "\r\n",
    "CONFIG_PATH = \"../config/config.yaml\""
   ]
  },
  {
   "cell_type": "code",
   "execution_count": 2,
   "metadata": {
    "execution": {
     "iopub.execute_input": "2021-09-02T09:15:26.801150Z",
     "iopub.status.busy": "2021-09-02T09:15:26.800630Z",
     "iopub.status.idle": "2021-09-02T09:15:26.806125Z",
     "shell.execute_reply": "2021-09-02T09:15:26.805612Z"
    }
   },
   "outputs": [],
   "source": [
    "with open('../newest_ts', 'r') as f:\r\n",
    "    newest_ts = f.read()\r\n",
    "\r\n",
    "data_path = f\"../data/data_{newest_ts}.json\"\r\n",
    "with open(data_path, 'r') as f:\r\n",
    "    data = json.load(f)\r\n",
    "\r\n",
    "with open(CONFIG_PATH, \"r\") as stream:\r\n",
    "    config = yaml.safe_load(stream)\r\n",
    "\r\n",
    "TIME_ZONE = config['time_zone']\r\n",
    "DATETIME_FORMAT = config['dt_format']"
   ]
  },
  {
   "cell_type": "code",
   "execution_count": 3,
   "metadata": {
    "execution": {
     "iopub.execute_input": "2021-09-02T09:15:26.810579Z",
     "iopub.status.busy": "2021-09-02T09:15:26.809970Z",
     "iopub.status.idle": "2021-09-02T09:15:26.847843Z",
     "shell.execute_reply": "2021-09-02T09:15:26.848328Z"
    }
   },
   "outputs": [
    {
     "name": "stdout",
     "output_type": "stream",
     "text": [
      "Recent query happens at 2021-09-02 17:15:22 (CST).\n"
     ]
    }
   ],
   "source": [
    "def ts2dt(ts, format=DATETIME_FORMAT):\r\n",
    "    dt = (datetime.utcfromtimestamp(int(ts))\r\n",
    "                    .replace(tzinfo=tz.tzutc())\r\n",
    "                    # .astimezone(tz.tzlocal())\r\n",
    "                    .astimezone(tz.gettz(TIME_ZONE)))\r\n",
    "    return dt.strftime(format), dt\r\n",
    "\r\n",
    "_, newest_dt = ts2dt(newest_ts)\r\n",
    "print(f\"Recent query happens at {newest_dt.strftime(DATETIME_FORMAT)} ({newest_dt.tzname()}).\")"
   ]
  },
  {
   "cell_type": "code",
   "execution_count": 4,
   "metadata": {
    "execution": {
     "iopub.execute_input": "2021-09-02T09:15:26.853650Z",
     "iopub.status.busy": "2021-09-02T09:15:26.852425Z",
     "iopub.status.idle": "2021-09-02T09:15:26.854187Z",
     "shell.execute_reply": "2021-09-02T09:15:26.854810Z"
    }
   },
   "outputs": [],
   "source": [
    "def degrees_to_cardinal(d):\r\n",
    "  dirs = ['N', 'NNE', 'NE', 'ENE', 'E', 'ESE', 'SE', 'SSE', 'S', 'SSW', 'SW', 'WSW', 'W', 'WNW', 'NW', 'NNW']\r\n",
    "  ix = int(round(d / (360. / len(dirs))))\r\n",
    "  return dirs[ix % len(dirs)]"
   ]
  },
  {
   "cell_type": "code",
   "execution_count": 5,
   "metadata": {
    "execution": {
     "iopub.execute_input": "2021-09-02T09:15:26.858923Z",
     "iopub.status.busy": "2021-09-02T09:15:26.857822Z",
     "iopub.status.idle": "2021-09-02T09:15:26.859518Z",
     "shell.execute_reply": "2021-09-02T09:15:26.859920Z"
    }
   },
   "outputs": [],
   "source": [
    "# data.keys()"
   ]
  },
  {
   "cell_type": "code",
   "execution_count": 6,
   "metadata": {
    "execution": {
     "iopub.execute_input": "2021-09-02T09:15:26.863638Z",
     "iopub.status.busy": "2021-09-02T09:15:26.862517Z",
     "iopub.status.idle": "2021-09-02T09:15:26.864273Z",
     "shell.execute_reply": "2021-09-02T09:15:26.864925Z"
    }
   },
   "outputs": [],
   "source": [
    "# data['current']"
   ]
  },
  {
   "cell_type": "code",
   "execution_count": 7,
   "metadata": {
    "execution": {
     "iopub.execute_input": "2021-09-02T09:15:26.893869Z",
     "iopub.status.busy": "2021-09-02T09:15:26.890728Z",
     "iopub.status.idle": "2021-09-02T09:15:27.415373Z",
     "shell.execute_reply": "2021-09-02T09:15:27.415884Z"
    }
   },
   "outputs": [
    {
     "data": {
      "image/png": "[encoded data removed]",
      "text/plain": [
       "<Figure size 216x216 with 1 Axes>"
      ]
     },
     "metadata": {
      "needs_background": "light"
     },
     "output_type": "display_data"
    },
    {
     "name": "stdout",
     "output_type": "stream",
     "text": [
      "Today, sun rises at 06:06 and sets at 18:39.\n",
      "Currently, the weather is Clear (clear sky).\n",
      "The temperature is 32.25°C and it feels like 39.25°C.\n",
      "The UV index is 1.07, humidity is 71%.\n",
      "The pressure is 1007 hPa, percentage of cloud cover is 7%\n",
      "The wind comes from ESE direction with a speed 3.43 m/s.\n"
     ]
    }
   ],
   "source": [
    "current = data['current']\r\n",
    "\r\n",
    "fig, ax = plt.subplots(figsize=(3, 3))\r\n",
    "icon = requests.get(f\"http://openweathermap.org/img/wn/{current['weather'][0]['icon']}@2x.png\")\r\n",
    "im = Image.open(BytesIO(icon.content))\r\n",
    "plt.imshow(im)\r\n",
    "ax.set_axis_off()\r\n",
    "plt.show()\r\n",
    "\r\n",
    "print(f\"Today, sun rises at {ts2dt(current['sunrise'], '%H:%M')[0]} \\\r\n",
    "and sets at {ts2dt(current['sunset'], '%H:%M')[0]}.\\n\\\r\n",
    "Currently, the weather is {current['weather'][0]['main']} ({current['weather'][0]['description']}).\\n\\\r\n",
    "The temperature is {current['temp']}°C and it feels like {current['feels_like']}°C.\\n\\\r\n",
    "The UV index is {current['uvi']}, humidity is {current['humidity']}%.\\n\\\r\n",
    "The pressure is {current['pressure']} hPa, percentage of cloud cover is {current['clouds']}%\\n\\\r\n",
    "The wind comes from {degrees_to_cardinal(current['wind_deg'])} direction with a speed {current['wind_speed']} m/s.\")"
   ]
  },
  {
   "cell_type": "code",
   "execution_count": 8,
   "metadata": {
    "execution": {
     "iopub.execute_input": "2021-09-02T09:15:27.419381Z",
     "iopub.status.busy": "2021-09-02T09:15:27.418442Z",
     "iopub.status.idle": "2021-09-02T09:15:27.425613Z",
     "shell.execute_reply": "2021-09-02T09:15:27.426392Z"
    }
   },
   "outputs": [],
   "source": [
    "df_hourly = pd.DataFrame(data['hourly'])\r\n",
    "df_daily = pd.DataFrame(data['daily'])"
   ]
  },
  {
   "cell_type": "code",
   "execution_count": 9,
   "metadata": {
    "execution": {
     "iopub.execute_input": "2021-09-02T09:15:27.429480Z",
     "iopub.status.busy": "2021-09-02T09:15:27.428548Z",
     "iopub.status.idle": "2021-09-02T09:15:27.729517Z",
     "shell.execute_reply": "2021-09-02T09:15:27.730148Z"
    }
   },
   "outputs": [
    {
     "data": {
      "image/png": "[encoded data removed]",
      "text/plain": [
       "<Figure size 864x432 with 1 Axes>"
      ]
     },
     "metadata": {
      "needs_background": "light"
     },
     "output_type": "display_data"
    }
   ],
   "source": [
    "fig, ax = plt.subplots(figsize=(12, 6))\r\n",
    "plt.plot(df_hourly.temp, '.-', label='Temperature')\r\n",
    "plt.plot(df_hourly.feels_like, '.-', label='Feels Like')\r\n",
    "ax.set(title='Temperature in future 48 hours', xlabel='Time', ylabel='Temperature')\r\n",
    "ax.set_xticks(list(range(0, len(df_hourly), 2)))\r\n",
    "ax.set_xticklabels([ts2dt(ts, '%m-%d %H:%M')[0] for i, ts in enumerate(df_hourly.dt) if i%2==0], \r\n",
    "                   rotation=45, ha=\"right\")\r\n",
    "ax.locator_params(nbins=15, axis='y')\r\n",
    "plt.legend()\r\n",
    "plt.show()"
   ]
  },
  {
   "cell_type": "code",
   "execution_count": 10,
   "metadata": {
    "execution": {
     "iopub.execute_input": "2021-09-02T09:15:27.734601Z",
     "iopub.status.busy": "2021-09-02T09:15:27.734097Z",
     "iopub.status.idle": "2021-09-02T09:15:27.751432Z",
     "shell.execute_reply": "2021-09-02T09:15:27.751831Z"
    }
   },
   "outputs": [
    {
     "data": {
      "text/html": [
       "<div>\n",
       "<style scoped>\n",
       "    .dataframe tbody tr th:only-of-type {\n",
       "        vertical-align: middle;\n",
       "    }\n",
       "\n",
       "    .dataframe tbody tr th {\n",
       "        vertical-align: top;\n",
       "    }\n",
       "\n",
       "    .dataframe thead th {\n",
       "        text-align: right;\n",
       "    }\n",
       "</style>\n",
       "<table border=\"1\" class=\"dataframe\">\n",
       "  <thead>\n",
       "    <tr style=\"text-align: right;\">\n",
       "      <th></th>\n",
       "      <th>dt</th>\n",
       "      <th>temp</th>\n",
       "      <th>feels_like</th>\n",
       "      <th>pressure</th>\n",
       "      <th>humidity</th>\n",
       "      <th>dew_point</th>\n",
       "      <th>uvi</th>\n",
       "      <th>clouds</th>\n",
       "      <th>visibility</th>\n",
       "      <th>wind_speed</th>\n",
       "      <th>wind_deg</th>\n",
       "      <th>wind_gust</th>\n",
       "      <th>weather</th>\n",
       "      <th>pop</th>\n",
       "      <th>rain</th>\n",
       "    </tr>\n",
       "  </thead>\n",
       "  <tbody>\n",
       "    <tr>\n",
       "      <th>0</th>\n",
       "      <td>1630573200</td>\n",
       "      <td>32.25</td>\n",
       "      <td>39.25</td>\n",
       "      <td>1007</td>\n",
       "      <td>71</td>\n",
       "      <td>26.32</td>\n",
       "      <td>1.07</td>\n",
       "      <td>7</td>\n",
       "      <td>10000</td>\n",
       "      <td>3.43</td>\n",
       "      <td>120</td>\n",
       "      <td>4.01</td>\n",
       "      <td>[{'id': 800, 'main': 'Clear', 'description': '...</td>\n",
       "      <td>0.68</td>\n",
       "      <td>NaN</td>\n",
       "    </tr>\n",
       "    <tr>\n",
       "      <th>1</th>\n",
       "      <td>1630576800</td>\n",
       "      <td>31.59</td>\n",
       "      <td>38.59</td>\n",
       "      <td>1007</td>\n",
       "      <td>72</td>\n",
       "      <td>25.92</td>\n",
       "      <td>0.21</td>\n",
       "      <td>7</td>\n",
       "      <td>10000</td>\n",
       "      <td>3.16</td>\n",
       "      <td>116</td>\n",
       "      <td>3.95</td>\n",
       "      <td>[{'id': 800, 'main': 'Clear', 'description': '...</td>\n",
       "      <td>0.68</td>\n",
       "      <td>NaN</td>\n",
       "    </tr>\n",
       "    <tr>\n",
       "      <th>2</th>\n",
       "      <td>1630580400</td>\n",
       "      <td>30.67</td>\n",
       "      <td>37.67</td>\n",
       "      <td>1007</td>\n",
       "      <td>74</td>\n",
       "      <td>25.50</td>\n",
       "      <td>0.00</td>\n",
       "      <td>7</td>\n",
       "      <td>10000</td>\n",
       "      <td>3.09</td>\n",
       "      <td>120</td>\n",
       "      <td>3.81</td>\n",
       "      <td>[{'id': 800, 'main': 'Clear', 'description': '...</td>\n",
       "      <td>0.61</td>\n",
       "      <td>NaN</td>\n",
       "    </tr>\n",
       "    <tr>\n",
       "      <th>3</th>\n",
       "      <td>1630584000</td>\n",
       "      <td>29.80</td>\n",
       "      <td>36.01</td>\n",
       "      <td>1008</td>\n",
       "      <td>76</td>\n",
       "      <td>25.11</td>\n",
       "      <td>0.00</td>\n",
       "      <td>10</td>\n",
       "      <td>10000</td>\n",
       "      <td>3.19</td>\n",
       "      <td>123</td>\n",
       "      <td>3.97</td>\n",
       "      <td>[{'id': 800, 'main': 'Clear', 'description': '...</td>\n",
       "      <td>0.54</td>\n",
       "      <td>NaN</td>\n",
       "    </tr>\n",
       "    <tr>\n",
       "      <th>4</th>\n",
       "      <td>1630587600</td>\n",
       "      <td>28.91</td>\n",
       "      <td>34.28</td>\n",
       "      <td>1009</td>\n",
       "      <td>79</td>\n",
       "      <td>24.90</td>\n",
       "      <td>0.00</td>\n",
       "      <td>37</td>\n",
       "      <td>10000</td>\n",
       "      <td>3.23</td>\n",
       "      <td>128</td>\n",
       "      <td>3.97</td>\n",
       "      <td>[{'id': 802, 'main': 'Clouds', 'description': ...</td>\n",
       "      <td>0.00</td>\n",
       "      <td>NaN</td>\n",
       "    </tr>\n",
       "  </tbody>\n",
       "</table>\n",
       "</div>"
      ],
      "text/plain": [
       "           dt   temp  feels_like  pressure  humidity  dew_point   uvi  clouds  \\\n",
       "0  1630573200  32.25       39.25      1007        71      26.32  1.07       7   \n",
       "1  1630576800  31.59       38.59      1007        72      25.92  0.21       7   \n",
       "2  1630580400  30.67       37.67      1007        74      25.50  0.00       7   \n",
       "3  1630584000  29.80       36.01      1008        76      25.11  0.00      10   \n",
       "4  1630587600  28.91       34.28      1009        79      24.90  0.00      37   \n",
       "\n",
       "   visibility  wind_speed  wind_deg  wind_gust  \\\n",
       "0       10000        3.43       120       4.01   \n",
       "1       10000        3.16       116       3.95   \n",
       "2       10000        3.09       120       3.81   \n",
       "3       10000        3.19       123       3.97   \n",
       "4       10000        3.23       128       3.97   \n",
       "\n",
       "                                             weather   pop rain  \n",
       "0  [{'id': 800, 'main': 'Clear', 'description': '...  0.68  NaN  \n",
       "1  [{'id': 800, 'main': 'Clear', 'description': '...  0.68  NaN  \n",
       "2  [{'id': 800, 'main': 'Clear', 'description': '...  0.61  NaN  \n",
       "3  [{'id': 800, 'main': 'Clear', 'description': '...  0.54  NaN  \n",
       "4  [{'id': 802, 'main': 'Clouds', 'description': ...  0.00  NaN  "
      ]
     },
     "execution_count": 10,
     "metadata": {},
     "output_type": "execute_result"
    }
   ],
   "source": [
    "df_hourly.head()"
   ]
  },
  {
   "cell_type": "code",
   "execution_count": null,
   "metadata": {},
   "outputs": [],
   "source": []
  }
 ],
 "metadata": {
  "interpreter": {
   "hash": "c1b4cfe941b6d2466ad1fb5979e97da9cda8801728c8091b097ab734208fc00c"
  },
  "kernelspec": {
   "display_name": "Python 3.8.3 64-bit ('base': conda)",
   "name": "python3"
  },
  "language_info": {
   "codemirror_mode": {
    "name": "ipython",
    "version": 3
   },
   "file_extension": ".py",
   "mimetype": "text/x-python",
   "name": "python",
   "nbconvert_exporter": "python",
   "pygments_lexer": "ipython3",
   "version": "3.8.11"
  }
 },
 "nbformat": 4,
 "nbformat_minor": 2
}
