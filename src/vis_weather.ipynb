{
 "cells": [
  {
   "cell_type": "code",
   "execution_count": 1,
   "metadata": {
    "execution": {
     "iopub.execute_input": "2021-10-04T05:10:34.894058Z",
     "iopub.status.busy": "2021-10-04T05:10:34.893437Z",
     "iopub.status.idle": "2021-10-04T05:10:37.169245Z",
     "shell.execute_reply": "2021-10-04T05:10:37.168672Z"
    }
   },
   "outputs": [],
   "source": [
    "import json, yaml, requests\r\n",
    "from datetime import datetime\r\n",
    "from dateutil import tz\r\n",
    "import pandas as pd\r\n",
    "from PIL import Image\r\n",
    "from io import BytesIO\r\n",
    "import matplotlib.pyplot as plt\r\n",
    "import seaborn\r\n",
    "\r\n",
    "CONFIG_PATH = \"../config/config.yaml\""
   ]
  },
  {
   "cell_type": "code",
   "execution_count": 2,
   "metadata": {
    "execution": {
     "iopub.execute_input": "2021-10-04T05:10:37.177524Z",
     "iopub.status.busy": "2021-10-04T05:10:37.174560Z",
     "iopub.status.idle": "2021-10-04T05:10:37.180478Z",
     "shell.execute_reply": "2021-10-04T05:10:37.179807Z"
    }
   },
   "outputs": [],
   "source": [
    "with open('../newest_ts', 'r') as f:\r\n",
    "    newest_ts = f.read()\r\n",
    "\r\n",
    "data_path = f\"../data/data_{newest_ts}.json\"\r\n",
    "with open(data_path, 'r') as f:\r\n",
    "    data = json.load(f)\r\n",
    "\r\n",
    "with open(CONFIG_PATH, \"r\") as stream:\r\n",
    "    config = yaml.safe_load(stream)\r\n",
    "\r\n",
    "TIME_ZONE = config['time_zone']\r\n",
    "DATETIME_FORMAT = config['dt_format']"
   ]
  },
  {
   "cell_type": "code",
   "execution_count": 3,
   "metadata": {
    "execution": {
     "iopub.execute_input": "2021-10-04T05:10:37.184961Z",
     "iopub.status.busy": "2021-10-04T05:10:37.184506Z",
     "iopub.status.idle": "2021-10-04T05:10:37.212054Z",
     "shell.execute_reply": "2021-10-04T05:10:37.211648Z"
    }
   },
   "outputs": [
    {
     "name": "stdout",
     "output_type": "stream",
     "text": [
      "Recent query happens at 2021-10-04 13:10:31 (CST).\n"
     ]
    }
   ],
   "source": [
    "def ts2dt(ts, format=DATETIME_FORMAT):\r\n",
    "    dt = (datetime.utcfromtimestamp(int(ts))\r\n",
    "                    .replace(tzinfo=tz.tzutc())\r\n",
    "                    # .astimezone(tz.tzlocal())\r\n",
    "                    .astimezone(tz.gettz(TIME_ZONE)))\r\n",
    "    return dt.strftime(format), dt\r\n",
    "\r\n",
    "_, newest_dt = ts2dt(newest_ts)\r\n",
    "print(f\"Recent query happens at {newest_dt.strftime(DATETIME_FORMAT)} ({newest_dt.tzname()}).\")"
   ]
  },
  {
   "cell_type": "code",
   "execution_count": 4,
   "metadata": {
    "execution": {
     "iopub.execute_input": "2021-10-04T05:10:37.217571Z",
     "iopub.status.busy": "2021-10-04T05:10:37.216455Z",
     "iopub.status.idle": "2021-10-04T05:10:37.218093Z",
     "shell.execute_reply": "2021-10-04T05:10:37.218457Z"
    }
   },
   "outputs": [],
   "source": [
    "def degrees_to_cardinal(d):\r\n",
    "  dirs = ['N', 'NNE', 'NE', 'ENE', 'E', 'ESE', 'SE', 'SSE', 'S', 'SSW', 'SW', 'WSW', 'W', 'WNW', 'NW', 'NNW']\r\n",
    "  ix = int(round(d / (360. / len(dirs))))\r\n",
    "  return dirs[ix % len(dirs)]"
   ]
  },
  {
   "cell_type": "code",
   "execution_count": 5,
   "metadata": {
    "execution": {
     "iopub.execute_input": "2021-10-04T05:10:37.222026Z",
     "iopub.status.busy": "2021-10-04T05:10:37.221574Z",
     "iopub.status.idle": "2021-10-04T05:10:37.223563Z",
     "shell.execute_reply": "2021-10-04T05:10:37.223176Z"
    }
   },
   "outputs": [],
   "source": [
    "# data.keys()"
   ]
  },
  {
   "cell_type": "code",
   "execution_count": 6,
   "metadata": {
    "execution": {
     "iopub.execute_input": "2021-10-04T05:10:37.226812Z",
     "iopub.status.busy": "2021-10-04T05:10:37.226330Z",
     "iopub.status.idle": "2021-10-04T05:10:37.228371Z",
     "shell.execute_reply": "2021-10-04T05:10:37.227994Z"
    }
   },
   "outputs": [],
   "source": [
    "# data['current']"
   ]
  },
  {
   "cell_type": "code",
   "execution_count": 7,
   "metadata": {
    "execution": {
     "iopub.execute_input": "2021-10-04T05:10:37.245526Z",
     "iopub.status.busy": "2021-10-04T05:10:37.230339Z",
     "iopub.status.idle": "2021-10-04T05:10:37.616776Z",
     "shell.execute_reply": "2021-10-04T05:10:37.617453Z"
    }
   },
   "outputs": [
    {
     "data": {
      "image/png": "[encoded data removed]",
      "text/plain": [
       "<Figure size 216x216 with 1 Axes>"
      ]
     },
     "metadata": {
      "needs_background": "light"
     },
     "output_type": "display_data"
    },
    {
     "name": "stdout",
     "output_type": "stream",
     "text": [
      "Today, sun rises at 06:15 and sets at 18:08.\n",
      "Currently, the weather is Clouds (scattered clouds).\n",
      "The temperature is 30°C and it feels like 37°C.\n",
      "The UV index is 9.09, humidity is 82%.\n",
      "The pressure is 1013 hPa, percentage of cloud cover is 31%\n",
      "The wind comes from ENE direction with a speed 6.88 m/s.\n"
     ]
    }
   ],
   "source": [
    "current = data['current']\r\n",
    "\r\n",
    "fig, ax = plt.subplots(figsize=(3, 3))\r\n",
    "icon = requests.get(f\"http://openweathermap.org/img/wn/{current['weather'][0]['icon']}@2x.png\")\r\n",
    "im = Image.open(BytesIO(icon.content))\r\n",
    "plt.imshow(im)\r\n",
    "ax.set_axis_off()\r\n",
    "plt.show()\r\n",
    "\r\n",
    "print(f\"Today, sun rises at {ts2dt(current['sunrise'], '%H:%M')[0]} \\\r\n",
    "and sets at {ts2dt(current['sunset'], '%H:%M')[0]}.\\n\\\r\n",
    "Currently, the weather is {current['weather'][0]['main']} ({current['weather'][0]['description']}).\\n\\\r\n",
    "The temperature is {current['temp']}°C and it feels like {current['feels_like']}°C.\\n\\\r\n",
    "The UV index is {current['uvi']}, humidity is {current['humidity']}%.\\n\\\r\n",
    "The pressure is {current['pressure']} hPa, percentage of cloud cover is {current['clouds']}%\\n\\\r\n",
    "The wind comes from {degrees_to_cardinal(current['wind_deg'])} direction with a speed {current['wind_speed']} m/s.\")"
   ]
  },
  {
   "cell_type": "code",
   "execution_count": 8,
   "metadata": {
    "execution": {
     "iopub.execute_input": "2021-10-04T05:10:37.620746Z",
     "iopub.status.busy": "2021-10-04T05:10:37.619809Z",
     "iopub.status.idle": "2021-10-04T05:10:37.626944Z",
     "shell.execute_reply": "2021-10-04T05:10:37.627600Z"
    }
   },
   "outputs": [],
   "source": [
    "df_hourly = pd.DataFrame(data['hourly'])\r\n",
    "df_daily = pd.DataFrame(data['daily'])"
   ]
  },
  {
   "cell_type": "code",
   "execution_count": 9,
   "metadata": {
    "execution": {
     "iopub.execute_input": "2021-10-04T05:10:37.630751Z",
     "iopub.status.busy": "2021-10-04T05:10:37.629827Z",
     "iopub.status.idle": "2021-10-04T05:10:37.896860Z",
     "shell.execute_reply": "2021-10-04T05:10:37.896056Z"
    }
   },
   "outputs": [
    {
     "data": {
      "image/png": "[encoded data removed]",
      "text/plain": [
       "<Figure size 864x432 with 1 Axes>"
      ]
     },
     "metadata": {
      "needs_background": "light"
     },
     "output_type": "display_data"
    }
   ],
   "source": [
    "fig, ax = plt.subplots(figsize=(12, 6))\r\n",
    "plt.plot(df_hourly.temp, '.-', label='Temperature')\r\n",
    "plt.plot(df_hourly.feels_like, '.-', label='Feels Like')\r\n",
    "ax.set(title='Temperature in future 48 hours', xlabel='Time', ylabel='Temperature')\r\n",
    "ax.set_xticks(list(range(0, len(df_hourly), 2)))\r\n",
    "ax.set_xticklabels([ts2dt(ts, '%m-%d %H:%M')[0] for i, ts in enumerate(df_hourly.dt) if i%2==0], \r\n",
    "                   rotation=45, ha=\"right\")\r\n",
    "ax.locator_params(nbins=15, axis='y')\r\n",
    "plt.legend()\r\n",
    "plt.show()"
   ]
  },
  {
   "cell_type": "code",
   "execution_count": 10,
   "metadata": {
    "execution": {
     "iopub.execute_input": "2021-10-04T05:10:37.912904Z",
     "iopub.status.busy": "2021-10-04T05:10:37.902584Z",
     "iopub.status.idle": "2021-10-04T05:10:37.928392Z",
     "shell.execute_reply": "2021-10-04T05:10:37.929040Z"
    }
   },
   "outputs": [
    {
     "data": {
      "text/html": [
       "<div>\n",
       "<style scoped>\n",
       "    .dataframe tbody tr th:only-of-type {\n",
       "        vertical-align: middle;\n",
       "    }\n",
       "\n",
       "    .dataframe tbody tr th {\n",
       "        vertical-align: top;\n",
       "    }\n",
       "\n",
       "    .dataframe thead th {\n",
       "        text-align: right;\n",
       "    }\n",
       "</style>\n",
       "<table border=\"1\" class=\"dataframe\">\n",
       "  <thead>\n",
       "    <tr style=\"text-align: right;\">\n",
       "      <th></th>\n",
       "      <th>dt</th>\n",
       "      <th>temp</th>\n",
       "      <th>feels_like</th>\n",
       "      <th>pressure</th>\n",
       "      <th>humidity</th>\n",
       "      <th>dew_point</th>\n",
       "      <th>uvi</th>\n",
       "      <th>clouds</th>\n",
       "      <th>visibility</th>\n",
       "      <th>wind_speed</th>\n",
       "      <th>wind_deg</th>\n",
       "      <th>wind_gust</th>\n",
       "      <th>weather</th>\n",
       "      <th>pop</th>\n",
       "    </tr>\n",
       "  </thead>\n",
       "  <tbody>\n",
       "    <tr>\n",
       "      <th>0</th>\n",
       "      <td>1633323600</td>\n",
       "      <td>30.00</td>\n",
       "      <td>37.00</td>\n",
       "      <td>1013</td>\n",
       "      <td>82</td>\n",
       "      <td>26.59</td>\n",
       "      <td>9.09</td>\n",
       "      <td>31</td>\n",
       "      <td>10000</td>\n",
       "      <td>6.88</td>\n",
       "      <td>77</td>\n",
       "      <td>7.96</td>\n",
       "      <td>[{'id': 802, 'main': 'Clouds', 'description': ...</td>\n",
       "      <td>0.0</td>\n",
       "    </tr>\n",
       "    <tr>\n",
       "      <th>1</th>\n",
       "      <td>1633327200</td>\n",
       "      <td>29.87</td>\n",
       "      <td>36.73</td>\n",
       "      <td>1013</td>\n",
       "      <td>78</td>\n",
       "      <td>25.61</td>\n",
       "      <td>7.38</td>\n",
       "      <td>30</td>\n",
       "      <td>10000</td>\n",
       "      <td>6.69</td>\n",
       "      <td>79</td>\n",
       "      <td>7.83</td>\n",
       "      <td>[{'id': 802, 'main': 'Clouds', 'description': ...</td>\n",
       "      <td>0.0</td>\n",
       "    </tr>\n",
       "    <tr>\n",
       "      <th>2</th>\n",
       "      <td>1633330800</td>\n",
       "      <td>29.68</td>\n",
       "      <td>35.20</td>\n",
       "      <td>1012</td>\n",
       "      <td>74</td>\n",
       "      <td>24.55</td>\n",
       "      <td>4.85</td>\n",
       "      <td>19</td>\n",
       "      <td>10000</td>\n",
       "      <td>6.40</td>\n",
       "      <td>86</td>\n",
       "      <td>7.80</td>\n",
       "      <td>[{'id': 801, 'main': 'Clouds', 'description': ...</td>\n",
       "      <td>0.0</td>\n",
       "    </tr>\n",
       "    <tr>\n",
       "      <th>3</th>\n",
       "      <td>1633334400</td>\n",
       "      <td>29.35</td>\n",
       "      <td>33.92</td>\n",
       "      <td>1012</td>\n",
       "      <td>72</td>\n",
       "      <td>23.77</td>\n",
       "      <td>2.33</td>\n",
       "      <td>14</td>\n",
       "      <td>10000</td>\n",
       "      <td>5.96</td>\n",
       "      <td>94</td>\n",
       "      <td>7.49</td>\n",
       "      <td>[{'id': 801, 'main': 'Clouds', 'description': ...</td>\n",
       "      <td>0.0</td>\n",
       "    </tr>\n",
       "    <tr>\n",
       "      <th>4</th>\n",
       "      <td>1633338000</td>\n",
       "      <td>28.80</td>\n",
       "      <td>32.30</td>\n",
       "      <td>1011</td>\n",
       "      <td>70</td>\n",
       "      <td>22.78</td>\n",
       "      <td>0.71</td>\n",
       "      <td>7</td>\n",
       "      <td>10000</td>\n",
       "      <td>5.54</td>\n",
       "      <td>97</td>\n",
       "      <td>7.07</td>\n",
       "      <td>[{'id': 800, 'main': 'Clear', 'description': '...</td>\n",
       "      <td>0.0</td>\n",
       "    </tr>\n",
       "  </tbody>\n",
       "</table>\n",
       "</div>"
      ],
      "text/plain": [
       "           dt   temp  feels_like  pressure  humidity  dew_point   uvi  clouds  \\\n",
       "0  1633323600  30.00       37.00      1013        82      26.59  9.09      31   \n",
       "1  1633327200  29.87       36.73      1013        78      25.61  7.38      30   \n",
       "2  1633330800  29.68       35.20      1012        74      24.55  4.85      19   \n",
       "3  1633334400  29.35       33.92      1012        72      23.77  2.33      14   \n",
       "4  1633338000  28.80       32.30      1011        70      22.78  0.71       7   \n",
       "\n",
       "   visibility  wind_speed  wind_deg  wind_gust  \\\n",
       "0       10000        6.88        77       7.96   \n",
       "1       10000        6.69        79       7.83   \n",
       "2       10000        6.40        86       7.80   \n",
       "3       10000        5.96        94       7.49   \n",
       "4       10000        5.54        97       7.07   \n",
       "\n",
       "                                             weather  pop  \n",
       "0  [{'id': 802, 'main': 'Clouds', 'description': ...  0.0  \n",
       "1  [{'id': 802, 'main': 'Clouds', 'description': ...  0.0  \n",
       "2  [{'id': 801, 'main': 'Clouds', 'description': ...  0.0  \n",
       "3  [{'id': 801, 'main': 'Clouds', 'description': ...  0.0  \n",
       "4  [{'id': 800, 'main': 'Clear', 'description': '...  0.0  "
      ]
     },
     "execution_count": 10,
     "metadata": {},
     "output_type": "execute_result"
    }
   ],
   "source": [
    "df_hourly.head()"
   ]
  },
  {
   "cell_type": "code",
   "execution_count": null,
   "metadata": {},
   "outputs": [],
   "source": []
  }
 ],
 "metadata": {
  "interpreter": {
   "hash": "c1b4cfe941b6d2466ad1fb5979e97da9cda8801728c8091b097ab734208fc00c"
  },
  "kernelspec": {
   "display_name": "Python 3.8.3 64-bit ('base': conda)",
   "name": "python3"
  },
  "language_info": {
   "codemirror_mode": {
    "name": "ipython",
    "version": 3
   },
   "file_extension": ".py",
   "mimetype": "text/x-python",
   "name": "python",
   "nbconvert_exporter": "python",
   "pygments_lexer": "ipython3",
   "version": "3.8.12"
  }
 },
 "nbformat": 4,
 "nbformat_minor": 2
}
