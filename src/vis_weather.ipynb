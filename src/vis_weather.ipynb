{
 "cells": [
  {
   "cell_type": "code",
   "execution_count": 1,
   "metadata": {
    "execution": {
     "iopub.execute_input": "2021-08-23T18:19:55.011266Z",
     "iopub.status.busy": "2021-08-23T18:19:55.010684Z",
     "iopub.status.idle": "2021-08-23T18:19:58.934468Z",
     "shell.execute_reply": "2021-08-23T18:19:58.933884Z"
    }
   },
   "outputs": [],
   "source": [
    "import json, yaml, requests\r\n",
    "from datetime import datetime\r\n",
    "from dateutil import tz\r\n",
    "import pandas as pd\r\n",
    "from PIL import Image\r\n",
    "from io import BytesIO\r\n",
    "import matplotlib.pyplot as plt\r\n",
    "import seaborn\r\n",
    "\r\n",
    "CONFIG_PATH = \"../config/config.yaml\""
   ]
  },
  {
   "cell_type": "code",
   "execution_count": 2,
   "metadata": {
    "execution": {
     "iopub.execute_input": "2021-08-23T18:19:58.937490Z",
     "iopub.status.busy": "2021-08-23T18:19:58.936954Z",
     "iopub.status.idle": "2021-08-23T18:19:58.943818Z",
     "shell.execute_reply": "2021-08-23T18:19:58.943370Z"
    }
   },
   "outputs": [],
   "source": [
    "with open('../newest_ts', 'r') as f:\r\n",
    "    newest_ts = f.read()\r\n",
    "\r\n",
    "data_path = f\"../data/data_{newest_ts}.json\"\r\n",
    "with open(data_path, 'r') as f:\r\n",
    "    data = json.load(f)\r\n",
    "\r\n",
    "with open(CONFIG_PATH, \"r\") as stream:\r\n",
    "    config = yaml.safe_load(stream)\r\n",
    "\r\n",
    "TIME_ZONE = config['time_zone']\r\n",
    "DATETIME_FORMAT = config['dt_format']"
   ]
  },
  {
   "cell_type": "code",
   "execution_count": 3,
   "metadata": {
    "execution": {
     "iopub.execute_input": "2021-08-23T18:19:58.947992Z",
     "iopub.status.busy": "2021-08-23T18:19:58.947399Z",
     "iopub.status.idle": "2021-08-23T18:19:58.957455Z",
     "shell.execute_reply": "2021-08-23T18:19:58.957824Z"
    }
   },
   "outputs": [
    {
     "name": "stdout",
     "output_type": "stream",
     "text": [
      "Recent query happens at 2021-08-24 02:19:52 (CST).\n"
     ]
    }
   ],
   "source": [
    "def ts2dt(ts, format=DATETIME_FORMAT):\r\n",
    "    dt = (datetime.utcfromtimestamp(int(ts))\r\n",
    "                    .replace(tzinfo=tz.tzutc())\r\n",
    "                    # .astimezone(tz.tzlocal())\r\n",
    "                    .astimezone(tz.gettz(TIME_ZONE)))\r\n",
    "    return dt.strftime(format), dt\r\n",
    "\r\n",
    "_, newest_dt = ts2dt(newest_ts)\r\n",
    "print(f\"Recent query happens at {newest_dt.strftime(DATETIME_FORMAT)} ({newest_dt.tzname()}).\")"
   ]
  },
  {
   "cell_type": "code",
   "execution_count": 4,
   "metadata": {
    "execution": {
     "iopub.execute_input": "2021-08-23T18:19:58.962520Z",
     "iopub.status.busy": "2021-08-23T18:19:58.961490Z",
     "iopub.status.idle": "2021-08-23T18:19:58.963059Z",
     "shell.execute_reply": "2021-08-23T18:19:58.963421Z"
    }
   },
   "outputs": [],
   "source": [
    "def degrees_to_cardinal(d):\r\n",
    "  dirs = ['N', 'NNE', 'NE', 'ENE', 'E', 'ESE', 'SE', 'SSE', 'S', 'SSW', 'SW', 'WSW', 'W', 'WNW', 'NW', 'NNW']\r\n",
    "  ix = int(round(d / (360. / len(dirs))))\r\n",
    "  return dirs[ix % len(dirs)]"
   ]
  },
  {
   "cell_type": "code",
   "execution_count": 5,
   "metadata": {
    "execution": {
     "iopub.execute_input": "2021-08-23T18:19:58.967015Z",
     "iopub.status.busy": "2021-08-23T18:19:58.966095Z",
     "iopub.status.idle": "2021-08-23T18:19:58.967587Z",
     "shell.execute_reply": "2021-08-23T18:19:58.967952Z"
    }
   },
   "outputs": [],
   "source": [
    "# data.keys()"
   ]
  },
  {
   "cell_type": "code",
   "execution_count": 6,
   "metadata": {
    "execution": {
     "iopub.execute_input": "2021-08-23T18:19:58.971561Z",
     "iopub.status.busy": "2021-08-23T18:19:58.970495Z",
     "iopub.status.idle": "2021-08-23T18:19:58.972076Z",
     "shell.execute_reply": "2021-08-23T18:19:58.972439Z"
    }
   },
   "outputs": [],
   "source": [
    "# data['current']"
   ]
  },
  {
   "cell_type": "code",
   "execution_count": 7,
   "metadata": {
    "execution": {
     "iopub.execute_input": "2021-08-23T18:19:58.989299Z",
     "iopub.status.busy": "2021-08-23T18:19:58.988831Z",
     "iopub.status.idle": "2021-08-23T18:19:59.358862Z",
     "shell.execute_reply": "2021-08-23T18:19:59.359304Z"
    }
   },
   "outputs": [
    {
     "data": {
      "image/png": "[encoded data removed]",
      "text/plain": [
       "<Figure size 216x216 with 1 Axes>"
      ]
     },
     "metadata": {
      "needs_background": "light"
     },
     "output_type": "display_data"
    },
    {
     "name": "stdout",
     "output_type": "stream",
     "text": [
      "Today, sun rises at 06:03 and sets at 18:47.\n",
      "Currently, the weather is Clouds (overcast clouds).\n",
      "The temperature is 29.2°C and it feels like 36.01°C.\n",
      "The UV index is 0, humidity is 83%.\n",
      "The pressure is 1007 hPa, percentage of cloud cover is 89%\n",
      "The wind comes from SSW direction with a speed 3.7 m/s.\n"
     ]
    }
   ],
   "source": [
    "current = data['current']\r\n",
    "\r\n",
    "fig, ax = plt.subplots(figsize=(3, 3))\r\n",
    "icon = requests.get(f\"http://openweathermap.org/img/wn/{current['weather'][0]['icon']}@2x.png\")\r\n",
    "im = Image.open(BytesIO(icon.content))\r\n",
    "plt.imshow(im)\r\n",
    "ax.set_axis_off()\r\n",
    "plt.show()\r\n",
    "\r\n",
    "print(f\"Today, sun rises at {ts2dt(current['sunrise'], '%H:%M')[0]} \\\r\n",
    "and sets at {ts2dt(current['sunset'], '%H:%M')[0]}.\\n\\\r\n",
    "Currently, the weather is {current['weather'][0]['main']} ({current['weather'][0]['description']}).\\n\\\r\n",
    "The temperature is {current['temp']}°C and it feels like {current['feels_like']}°C.\\n\\\r\n",
    "The UV index is {current['uvi']}, humidity is {current['humidity']}%.\\n\\\r\n",
    "The pressure is {current['pressure']} hPa, percentage of cloud cover is {current['clouds']}%\\n\\\r\n",
    "The wind comes from {degrees_to_cardinal(current['wind_deg'])} direction with a speed {current['wind_speed']} m/s.\")"
   ]
  },
  {
   "cell_type": "code",
   "execution_count": 8,
   "metadata": {
    "execution": {
     "iopub.execute_input": "2021-08-23T18:19:59.361872Z",
     "iopub.status.busy": "2021-08-23T18:19:59.361430Z",
     "iopub.status.idle": "2021-08-23T18:19:59.368251Z",
     "shell.execute_reply": "2021-08-23T18:19:59.368597Z"
    }
   },
   "outputs": [],
   "source": [
    "df_hourly = pd.DataFrame(data['hourly'])\r\n",
    "df_daily = pd.DataFrame(data['daily'])"
   ]
  },
  {
   "cell_type": "code",
   "execution_count": 9,
   "metadata": {
    "execution": {
     "iopub.execute_input": "2021-08-23T18:19:59.371362Z",
     "iopub.status.busy": "2021-08-23T18:19:59.370910Z",
     "iopub.status.idle": "2021-08-23T18:19:59.609231Z",
     "shell.execute_reply": "2021-08-23T18:19:59.608813Z"
    }
   },
   "outputs": [
    {
     "data": {
      "image/png": "[encoded data removed]",
      "text/plain": [
       "<Figure size 864x432 with 1 Axes>"
      ]
     },
     "metadata": {
      "needs_background": "light"
     },
     "output_type": "display_data"
    }
   ],
   "source": [
    "fig, ax = plt.subplots(figsize=(12, 6))\r\n",
    "plt.plot(df_hourly.temp, '.-', label='Temperature')\r\n",
    "plt.plot(df_hourly.feels_like, '.-', label='Feels Like')\r\n",
    "ax.set(title='Temperature in future 48 hours', xlabel='Time', ylabel='Temperature')\r\n",
    "ax.set_xticks(list(range(0, len(df_hourly), 2)))\r\n",
    "ax.set_xticklabels([ts2dt(ts, '%m-%d %H:%M')[0] for i, ts in enumerate(df_hourly.dt) if i%2==0], \r\n",
    "                   rotation=45, ha=\"right\")\r\n",
    "ax.locator_params(nbins=15, axis='y')\r\n",
    "plt.legend()\r\n",
    "plt.show()"
   ]
  },
  {
   "cell_type": "code",
   "execution_count": 10,
   "metadata": {
    "execution": {
     "iopub.execute_input": "2021-08-23T18:19:59.613790Z",
     "iopub.status.busy": "2021-08-23T18:19:59.613343Z",
     "iopub.status.idle": "2021-08-23T18:19:59.629861Z",
     "shell.execute_reply": "2021-08-23T18:19:59.629473Z"
    }
   },
   "outputs": [
    {
     "data": {
      "text/html": [
       "<div>\n",
       "<style scoped>\n",
       "    .dataframe tbody tr th:only-of-type {\n",
       "        vertical-align: middle;\n",
       "    }\n",
       "\n",
       "    .dataframe tbody tr th {\n",
       "        vertical-align: top;\n",
       "    }\n",
       "\n",
       "    .dataframe thead th {\n",
       "        text-align: right;\n",
       "    }\n",
       "</style>\n",
       "<table border=\"1\" class=\"dataframe\">\n",
       "  <thead>\n",
       "    <tr style=\"text-align: right;\">\n",
       "      <th></th>\n",
       "      <th>dt</th>\n",
       "      <th>temp</th>\n",
       "      <th>feels_like</th>\n",
       "      <th>pressure</th>\n",
       "      <th>humidity</th>\n",
       "      <th>dew_point</th>\n",
       "      <th>uvi</th>\n",
       "      <th>clouds</th>\n",
       "      <th>visibility</th>\n",
       "      <th>wind_speed</th>\n",
       "      <th>wind_deg</th>\n",
       "      <th>wind_gust</th>\n",
       "      <th>weather</th>\n",
       "      <th>pop</th>\n",
       "      <th>rain</th>\n",
       "    </tr>\n",
       "  </thead>\n",
       "  <tbody>\n",
       "    <tr>\n",
       "      <th>0</th>\n",
       "      <td>1629741600</td>\n",
       "      <td>29.20</td>\n",
       "      <td>36.01</td>\n",
       "      <td>1007</td>\n",
       "      <td>83</td>\n",
       "      <td>26.01</td>\n",
       "      <td>0.0</td>\n",
       "      <td>89</td>\n",
       "      <td>10000</td>\n",
       "      <td>3.70</td>\n",
       "      <td>195</td>\n",
       "      <td>5.07</td>\n",
       "      <td>[{'id': 500, 'main': 'Rain', 'description': 'l...</td>\n",
       "      <td>0.53</td>\n",
       "      <td>{'1h': 0.21}</td>\n",
       "    </tr>\n",
       "    <tr>\n",
       "      <th>1</th>\n",
       "      <td>1629745200</td>\n",
       "      <td>28.87</td>\n",
       "      <td>35.24</td>\n",
       "      <td>1007</td>\n",
       "      <td>84</td>\n",
       "      <td>25.89</td>\n",
       "      <td>0.0</td>\n",
       "      <td>91</td>\n",
       "      <td>10000</td>\n",
       "      <td>3.56</td>\n",
       "      <td>193</td>\n",
       "      <td>4.93</td>\n",
       "      <td>[{'id': 804, 'main': 'Clouds', 'description': ...</td>\n",
       "      <td>0.75</td>\n",
       "      <td>NaN</td>\n",
       "    </tr>\n",
       "    <tr>\n",
       "      <th>2</th>\n",
       "      <td>1629748800</td>\n",
       "      <td>28.39</td>\n",
       "      <td>33.83</td>\n",
       "      <td>1007</td>\n",
       "      <td>84</td>\n",
       "      <td>25.42</td>\n",
       "      <td>0.0</td>\n",
       "      <td>93</td>\n",
       "      <td>10000</td>\n",
       "      <td>3.77</td>\n",
       "      <td>198</td>\n",
       "      <td>5.24</td>\n",
       "      <td>[{'id': 804, 'main': 'Clouds', 'description': ...</td>\n",
       "      <td>0.75</td>\n",
       "      <td>NaN</td>\n",
       "    </tr>\n",
       "    <tr>\n",
       "      <th>3</th>\n",
       "      <td>1629752400</td>\n",
       "      <td>28.02</td>\n",
       "      <td>32.79</td>\n",
       "      <td>1007</td>\n",
       "      <td>84</td>\n",
       "      <td>25.06</td>\n",
       "      <td>0.0</td>\n",
       "      <td>96</td>\n",
       "      <td>10000</td>\n",
       "      <td>3.15</td>\n",
       "      <td>207</td>\n",
       "      <td>4.49</td>\n",
       "      <td>[{'id': 500, 'main': 'Rain', 'description': 'l...</td>\n",
       "      <td>0.99</td>\n",
       "      <td>{'1h': 0.66}</td>\n",
       "    </tr>\n",
       "    <tr>\n",
       "      <th>4</th>\n",
       "      <td>1629756000</td>\n",
       "      <td>27.57</td>\n",
       "      <td>31.57</td>\n",
       "      <td>1007</td>\n",
       "      <td>84</td>\n",
       "      <td>24.62</td>\n",
       "      <td>0.0</td>\n",
       "      <td>98</td>\n",
       "      <td>10000</td>\n",
       "      <td>2.61</td>\n",
       "      <td>207</td>\n",
       "      <td>3.68</td>\n",
       "      <td>[{'id': 500, 'main': 'Rain', 'description': 'l...</td>\n",
       "      <td>0.99</td>\n",
       "      <td>{'1h': 0.62}</td>\n",
       "    </tr>\n",
       "  </tbody>\n",
       "</table>\n",
       "</div>"
      ],
      "text/plain": [
       "           dt   temp  feels_like  pressure  humidity  dew_point  uvi  clouds  \\\n",
       "0  1629741600  29.20       36.01      1007        83      26.01  0.0      89   \n",
       "1  1629745200  28.87       35.24      1007        84      25.89  0.0      91   \n",
       "2  1629748800  28.39       33.83      1007        84      25.42  0.0      93   \n",
       "3  1629752400  28.02       32.79      1007        84      25.06  0.0      96   \n",
       "4  1629756000  27.57       31.57      1007        84      24.62  0.0      98   \n",
       "\n",
       "   visibility  wind_speed  wind_deg  wind_gust  \\\n",
       "0       10000        3.70       195       5.07   \n",
       "1       10000        3.56       193       4.93   \n",
       "2       10000        3.77       198       5.24   \n",
       "3       10000        3.15       207       4.49   \n",
       "4       10000        2.61       207       3.68   \n",
       "\n",
       "                                             weather   pop          rain  \n",
       "0  [{'id': 500, 'main': 'Rain', 'description': 'l...  0.53  {'1h': 0.21}  \n",
       "1  [{'id': 804, 'main': 'Clouds', 'description': ...  0.75           NaN  \n",
       "2  [{'id': 804, 'main': 'Clouds', 'description': ...  0.75           NaN  \n",
       "3  [{'id': 500, 'main': 'Rain', 'description': 'l...  0.99  {'1h': 0.66}  \n",
       "4  [{'id': 500, 'main': 'Rain', 'description': 'l...  0.99  {'1h': 0.62}  "
      ]
     },
     "execution_count": 10,
     "metadata": {},
     "output_type": "execute_result"
    }
   ],
   "source": [
    "df_hourly.head()"
   ]
  },
  {
   "cell_type": "code",
   "execution_count": null,
   "metadata": {},
   "outputs": [],
   "source": []
  }
 ],
 "metadata": {
  "interpreter": {
   "hash": "c1b4cfe941b6d2466ad1fb5979e97da9cda8801728c8091b097ab734208fc00c"
  },
  "kernelspec": {
   "display_name": "Python 3.8.3 64-bit ('base': conda)",
   "name": "python3"
  },
  "language_info": {
   "codemirror_mode": {
    "name": "ipython",
    "version": 3
   },
   "file_extension": ".py",
   "mimetype": "text/x-python",
   "name": "python",
   "nbconvert_exporter": "python",
   "pygments_lexer": "ipython3",
   "version": "3.8.11"
  }
 },
 "nbformat": 4,
 "nbformat_minor": 2
}
