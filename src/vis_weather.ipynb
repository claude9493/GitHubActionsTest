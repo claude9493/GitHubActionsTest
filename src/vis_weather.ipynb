{
 "cells": [
  {
   "cell_type": "code",
   "execution_count": 1,
   "metadata": {
    "execution": {
     "iopub.execute_input": "2021-10-09T22:11:07.901550Z",
     "iopub.status.busy": "2021-10-09T22:11:07.900045Z",
     "iopub.status.idle": "2021-10-09T22:11:09.439116Z",
     "shell.execute_reply": "2021-10-09T22:11:09.438106Z"
    }
   },
   "outputs": [],
   "source": [
    "import json, yaml, requests\r\n",
    "from datetime import datetime\r\n",
    "from dateutil import tz\r\n",
    "import pandas as pd\r\n",
    "from PIL import Image\r\n",
    "from io import BytesIO\r\n",
    "import matplotlib.pyplot as plt\r\n",
    "import seaborn\r\n",
    "\r\n",
    "CONFIG_PATH = \"../config/config.yaml\""
   ]
  },
  {
   "cell_type": "code",
   "execution_count": 2,
   "metadata": {
    "execution": {
     "iopub.execute_input": "2021-10-09T22:11:09.442412Z",
     "iopub.status.busy": "2021-10-09T22:11:09.441809Z",
     "iopub.status.idle": "2021-10-09T22:11:09.450022Z",
     "shell.execute_reply": "2021-10-09T22:11:09.450513Z"
    }
   },
   "outputs": [],
   "source": [
    "with open('../newest_ts', 'r') as f:\r\n",
    "    newest_ts = f.read()\r\n",
    "\r\n",
    "data_path = f\"../data/data_{newest_ts}.json\"\r\n",
    "with open(data_path, 'r') as f:\r\n",
    "    data = json.load(f)\r\n",
    "\r\n",
    "with open(CONFIG_PATH, \"r\") as stream:\r\n",
    "    config = yaml.safe_load(stream)\r\n",
    "\r\n",
    "TIME_ZONE = config['time_zone']\r\n",
    "DATETIME_FORMAT = config['dt_format']"
   ]
  },
  {
   "cell_type": "code",
   "execution_count": 3,
   "metadata": {
    "execution": {
     "iopub.execute_input": "2021-10-09T22:11:09.459823Z",
     "iopub.status.busy": "2021-10-09T22:11:09.459180Z",
     "iopub.status.idle": "2021-10-09T22:11:09.486362Z",
     "shell.execute_reply": "2021-10-09T22:11:09.486852Z"
    }
   },
   "outputs": [
    {
     "name": "stdout",
     "output_type": "stream",
     "text": [
      "Recent query happens at 2021-10-10 06:11:03 (CST).\n"
     ]
    }
   ],
   "source": [
    "def ts2dt(ts, format=DATETIME_FORMAT):\r\n",
    "    dt = (datetime.utcfromtimestamp(int(ts))\r\n",
    "                    .replace(tzinfo=tz.tzutc())\r\n",
    "                    # .astimezone(tz.tzlocal())\r\n",
    "                    .astimezone(tz.gettz(TIME_ZONE)))\r\n",
    "    return dt.strftime(format), dt\r\n",
    "\r\n",
    "_, newest_dt = ts2dt(newest_ts)\r\n",
    "print(f\"Recent query happens at {newest_dt.strftime(DATETIME_FORMAT)} ({newest_dt.tzname()}).\")"
   ]
  },
  {
   "cell_type": "code",
   "execution_count": 4,
   "metadata": {
    "execution": {
     "iopub.execute_input": "2021-10-09T22:11:09.492544Z",
     "iopub.status.busy": "2021-10-09T22:11:09.489048Z",
     "iopub.status.idle": "2021-10-09T22:11:09.495916Z",
     "shell.execute_reply": "2021-10-09T22:11:09.495272Z"
    }
   },
   "outputs": [],
   "source": [
    "def degrees_to_cardinal(d):\r\n",
    "  dirs = ['N', 'NNE', 'NE', 'ENE', 'E', 'ESE', 'SE', 'SSE', 'S', 'SSW', 'SW', 'WSW', 'W', 'WNW', 'NW', 'NNW']\r\n",
    "  ix = int(round(d / (360. / len(dirs))))\r\n",
    "  return dirs[ix % len(dirs)]"
   ]
  },
  {
   "cell_type": "code",
   "execution_count": 5,
   "metadata": {
    "execution": {
     "iopub.execute_input": "2021-10-09T22:11:09.499727Z",
     "iopub.status.busy": "2021-10-09T22:11:09.498102Z",
     "iopub.status.idle": "2021-10-09T22:11:09.501929Z",
     "shell.execute_reply": "2021-10-09T22:11:09.501422Z"
    }
   },
   "outputs": [],
   "source": [
    "# data.keys()"
   ]
  },
  {
   "cell_type": "code",
   "execution_count": 6,
   "metadata": {
    "execution": {
     "iopub.execute_input": "2021-10-09T22:11:09.505617Z",
     "iopub.status.busy": "2021-10-09T22:11:09.505034Z",
     "iopub.status.idle": "2021-10-09T22:11:09.507072Z",
     "shell.execute_reply": "2021-10-09T22:11:09.507553Z"
    }
   },
   "outputs": [],
   "source": [
    "# data['current']"
   ]
  },
  {
   "cell_type": "code",
   "execution_count": 7,
   "metadata": {
    "execution": {
     "iopub.execute_input": "2021-10-09T22:11:09.515946Z",
     "iopub.status.busy": "2021-10-09T22:11:09.515316Z",
     "iopub.status.idle": "2021-10-09T22:11:09.958703Z",
     "shell.execute_reply": "2021-10-09T22:11:09.959529Z"
    }
   },
   "outputs": [
    {
     "data": {
      "image/png": "[encoded data removed]",
      "text/plain": [
       "<Figure size 216x216 with 1 Axes>"
      ]
     },
     "metadata": {
      "needs_background": "light"
     },
     "output_type": "display_data"
    },
    {
     "name": "stdout",
     "output_type": "stream",
     "text": [
      "Today, sun rises at 06:17 and sets at 18:02.\n",
      "Currently, the weather is Rain (light rain).\n",
      "The temperature is 26.57°C and it feels like 26.57°C.\n",
      "The UV index is 0, humidity is 92%.\n",
      "The pressure is 1007 hPa, percentage of cloud cover is 100%\n",
      "The wind comes from NE direction with a speed 1.34 m/s.\n"
     ]
    }
   ],
   "source": [
    "current = data['current']\r\n",
    "\r\n",
    "fig, ax = plt.subplots(figsize=(3, 3))\r\n",
    "icon = requests.get(f\"http://openweathermap.org/img/wn/{current['weather'][0]['icon']}@2x.png\")\r\n",
    "im = Image.open(BytesIO(icon.content))\r\n",
    "plt.imshow(im)\r\n",
    "ax.set_axis_off()\r\n",
    "plt.show()\r\n",
    "\r\n",
    "print(f\"Today, sun rises at {ts2dt(current['sunrise'], '%H:%M')[0]} \\\r\n",
    "and sets at {ts2dt(current['sunset'], '%H:%M')[0]}.\\n\\\r\n",
    "Currently, the weather is {current['weather'][0]['main']} ({current['weather'][0]['description']}).\\n\\\r\n",
    "The temperature is {current['temp']}°C and it feels like {current['feels_like']}°C.\\n\\\r\n",
    "The UV index is {current['uvi']}, humidity is {current['humidity']}%.\\n\\\r\n",
    "The pressure is {current['pressure']} hPa, percentage of cloud cover is {current['clouds']}%\\n\\\r\n",
    "The wind comes from {degrees_to_cardinal(current['wind_deg'])} direction with a speed {current['wind_speed']} m/s.\")"
   ]
  },
  {
   "cell_type": "code",
   "execution_count": 8,
   "metadata": {
    "execution": {
     "iopub.execute_input": "2021-10-09T22:11:09.963593Z",
     "iopub.status.busy": "2021-10-09T22:11:09.962454Z",
     "iopub.status.idle": "2021-10-09T22:11:09.970975Z",
     "shell.execute_reply": "2021-10-09T22:11:09.971775Z"
    }
   },
   "outputs": [],
   "source": [
    "df_hourly = pd.DataFrame(data['hourly'])\r\n",
    "df_daily = pd.DataFrame(data['daily'])"
   ]
  },
  {
   "cell_type": "code",
   "execution_count": 9,
   "metadata": {
    "execution": {
     "iopub.execute_input": "2021-10-09T22:11:09.975366Z",
     "iopub.status.busy": "2021-10-09T22:11:09.974262Z",
     "iopub.status.idle": "2021-10-09T22:11:10.326317Z",
     "shell.execute_reply": "2021-10-09T22:11:10.327098Z"
    }
   },
   "outputs": [
    {
     "data": {
      "image/png": "[encoded data removed]",
      "text/plain": [
       "<Figure size 864x432 with 1 Axes>"
      ]
     },
     "metadata": {
      "needs_background": "light"
     },
     "output_type": "display_data"
    }
   ],
   "source": [
    "fig, ax = plt.subplots(figsize=(12, 6))\r\n",
    "plt.plot(df_hourly.temp, '.-', label='Temperature')\r\n",
    "plt.plot(df_hourly.feels_like, '.-', label='Feels Like')\r\n",
    "ax.set(title='Temperature in future 48 hours', xlabel='Time', ylabel='Temperature')\r\n",
    "ax.set_xticks(list(range(0, len(df_hourly), 2)))\r\n",
    "ax.set_xticklabels([ts2dt(ts, '%m-%d %H:%M')[0] for i, ts in enumerate(df_hourly.dt) if i%2==0], \r\n",
    "                   rotation=45, ha=\"right\")\r\n",
    "ax.locator_params(nbins=15, axis='y')\r\n",
    "plt.legend()\r\n",
    "plt.show()"
   ]
  },
  {
   "cell_type": "code",
   "execution_count": 10,
   "metadata": {
    "execution": {
     "iopub.execute_input": "2021-10-09T22:11:10.350293Z",
     "iopub.status.busy": "2021-10-09T22:11:10.349713Z",
     "iopub.status.idle": "2021-10-09T22:11:10.358600Z",
     "shell.execute_reply": "2021-10-09T22:11:10.358083Z"
    }
   },
   "outputs": [
    {
     "data": {
      "text/html": [
       "<div>\n",
       "<style scoped>\n",
       "    .dataframe tbody tr th:only-of-type {\n",
       "        vertical-align: middle;\n",
       "    }\n",
       "\n",
       "    .dataframe tbody tr th {\n",
       "        vertical-align: top;\n",
       "    }\n",
       "\n",
       "    .dataframe thead th {\n",
       "        text-align: right;\n",
       "    }\n",
       "</style>\n",
       "<table border=\"1\" class=\"dataframe\">\n",
       "  <thead>\n",
       "    <tr style=\"text-align: right;\">\n",
       "      <th></th>\n",
       "      <th>dt</th>\n",
       "      <th>temp</th>\n",
       "      <th>feels_like</th>\n",
       "      <th>pressure</th>\n",
       "      <th>humidity</th>\n",
       "      <th>dew_point</th>\n",
       "      <th>uvi</th>\n",
       "      <th>clouds</th>\n",
       "      <th>visibility</th>\n",
       "      <th>wind_speed</th>\n",
       "      <th>wind_deg</th>\n",
       "      <th>wind_gust</th>\n",
       "      <th>weather</th>\n",
       "      <th>pop</th>\n",
       "      <th>rain</th>\n",
       "    </tr>\n",
       "  </thead>\n",
       "  <tbody>\n",
       "    <tr>\n",
       "      <th>0</th>\n",
       "      <td>1633816800</td>\n",
       "      <td>26.57</td>\n",
       "      <td>26.57</td>\n",
       "      <td>1007</td>\n",
       "      <td>92</td>\n",
       "      <td>25.16</td>\n",
       "      <td>0.00</td>\n",
       "      <td>100</td>\n",
       "      <td>10000</td>\n",
       "      <td>10.97</td>\n",
       "      <td>88</td>\n",
       "      <td>14.78</td>\n",
       "      <td>[{'id': 500, 'main': 'Rain', 'description': 'l...</td>\n",
       "      <td>0.69</td>\n",
       "      <td>{'1h': 0.54}</td>\n",
       "    </tr>\n",
       "    <tr>\n",
       "      <th>1</th>\n",
       "      <td>1633820400</td>\n",
       "      <td>26.49</td>\n",
       "      <td>26.49</td>\n",
       "      <td>1007</td>\n",
       "      <td>90</td>\n",
       "      <td>24.71</td>\n",
       "      <td>0.01</td>\n",
       "      <td>100</td>\n",
       "      <td>10000</td>\n",
       "      <td>10.38</td>\n",
       "      <td>89</td>\n",
       "      <td>14.08</td>\n",
       "      <td>[{'id': 804, 'main': 'Clouds', 'description': ...</td>\n",
       "      <td>0.69</td>\n",
       "      <td>NaN</td>\n",
       "    </tr>\n",
       "    <tr>\n",
       "      <th>2</th>\n",
       "      <td>1633824000</td>\n",
       "      <td>26.41</td>\n",
       "      <td>26.41</td>\n",
       "      <td>1008</td>\n",
       "      <td>89</td>\n",
       "      <td>24.45</td>\n",
       "      <td>0.13</td>\n",
       "      <td>100</td>\n",
       "      <td>10000</td>\n",
       "      <td>9.73</td>\n",
       "      <td>90</td>\n",
       "      <td>13.24</td>\n",
       "      <td>[{'id': 500, 'main': 'Rain', 'description': 'l...</td>\n",
       "      <td>0.69</td>\n",
       "      <td>{'1h': 0.21}</td>\n",
       "    </tr>\n",
       "    <tr>\n",
       "      <th>3</th>\n",
       "      <td>1633827600</td>\n",
       "      <td>26.32</td>\n",
       "      <td>26.32</td>\n",
       "      <td>1009</td>\n",
       "      <td>87</td>\n",
       "      <td>23.98</td>\n",
       "      <td>0.22</td>\n",
       "      <td>100</td>\n",
       "      <td>10000</td>\n",
       "      <td>9.28</td>\n",
       "      <td>88</td>\n",
       "      <td>12.80</td>\n",
       "      <td>[{'id': 501, 'main': 'Rain', 'description': 'm...</td>\n",
       "      <td>0.69</td>\n",
       "      <td>{'1h': 1.08}</td>\n",
       "    </tr>\n",
       "    <tr>\n",
       "      <th>4</th>\n",
       "      <td>1633831200</td>\n",
       "      <td>26.42</td>\n",
       "      <td>26.42</td>\n",
       "      <td>1009</td>\n",
       "      <td>84</td>\n",
       "      <td>23.50</td>\n",
       "      <td>0.44</td>\n",
       "      <td>100</td>\n",
       "      <td>10000</td>\n",
       "      <td>9.16</td>\n",
       "      <td>86</td>\n",
       "      <td>12.54</td>\n",
       "      <td>[{'id': 500, 'main': 'Rain', 'description': 'l...</td>\n",
       "      <td>0.69</td>\n",
       "      <td>{'1h': 0.98}</td>\n",
       "    </tr>\n",
       "  </tbody>\n",
       "</table>\n",
       "</div>"
      ],
      "text/plain": [
       "           dt   temp  feels_like  pressure  humidity  dew_point   uvi  clouds  \\\n",
       "0  1633816800  26.57       26.57      1007        92      25.16  0.00     100   \n",
       "1  1633820400  26.49       26.49      1007        90      24.71  0.01     100   \n",
       "2  1633824000  26.41       26.41      1008        89      24.45  0.13     100   \n",
       "3  1633827600  26.32       26.32      1009        87      23.98  0.22     100   \n",
       "4  1633831200  26.42       26.42      1009        84      23.50  0.44     100   \n",
       "\n",
       "   visibility  wind_speed  wind_deg  wind_gust  \\\n",
       "0       10000       10.97        88      14.78   \n",
       "1       10000       10.38        89      14.08   \n",
       "2       10000        9.73        90      13.24   \n",
       "3       10000        9.28        88      12.80   \n",
       "4       10000        9.16        86      12.54   \n",
       "\n",
       "                                             weather   pop          rain  \n",
       "0  [{'id': 500, 'main': 'Rain', 'description': 'l...  0.69  {'1h': 0.54}  \n",
       "1  [{'id': 804, 'main': 'Clouds', 'description': ...  0.69           NaN  \n",
       "2  [{'id': 500, 'main': 'Rain', 'description': 'l...  0.69  {'1h': 0.21}  \n",
       "3  [{'id': 501, 'main': 'Rain', 'description': 'm...  0.69  {'1h': 1.08}  \n",
       "4  [{'id': 500, 'main': 'Rain', 'description': 'l...  0.69  {'1h': 0.98}  "
      ]
     },
     "execution_count": 10,
     "metadata": {},
     "output_type": "execute_result"
    }
   ],
   "source": [
    "df_hourly.head()"
   ]
  },
  {
   "cell_type": "code",
   "execution_count": null,
   "metadata": {},
   "outputs": [],
   "source": []
  }
 ],
 "metadata": {
  "interpreter": {
   "hash": "c1b4cfe941b6d2466ad1fb5979e97da9cda8801728c8091b097ab734208fc00c"
  },
  "kernelspec": {
   "display_name": "Python 3.8.3 64-bit ('base': conda)",
   "name": "python3"
  },
  "language_info": {
   "codemirror_mode": {
    "name": "ipython",
    "version": 3
   },
   "file_extension": ".py",
   "mimetype": "text/x-python",
   "name": "python",
   "nbconvert_exporter": "python",
   "pygments_lexer": "ipython3",
   "version": "3.8.12"
  }
 },
 "nbformat": 4,
 "nbformat_minor": 2
}
