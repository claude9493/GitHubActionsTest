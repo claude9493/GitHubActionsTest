{
 "cells": [
  {
   "cell_type": "code",
   "execution_count": 1,
   "metadata": {
    "execution": {
     "iopub.execute_input": "2021-10-05T22:11:40.969493Z",
     "iopub.status.busy": "2021-10-05T22:11:40.968506Z",
     "iopub.status.idle": "2021-10-05T22:11:42.545511Z",
     "shell.execute_reply": "2021-10-05T22:11:42.544811Z"
    }
   },
   "outputs": [],
   "source": [
    "import json, yaml, requests\r\n",
    "from datetime import datetime\r\n",
    "from dateutil import tz\r\n",
    "import pandas as pd\r\n",
    "from PIL import Image\r\n",
    "from io import BytesIO\r\n",
    "import matplotlib.pyplot as plt\r\n",
    "import seaborn\r\n",
    "\r\n",
    "CONFIG_PATH = \"../config/config.yaml\""
   ]
  },
  {
   "cell_type": "code",
   "execution_count": 2,
   "metadata": {
    "execution": {
     "iopub.execute_input": "2021-10-05T22:11:42.557598Z",
     "iopub.status.busy": "2021-10-05T22:11:42.554093Z",
     "iopub.status.idle": "2021-10-05T22:11:42.561386Z",
     "shell.execute_reply": "2021-10-05T22:11:42.560629Z"
    }
   },
   "outputs": [],
   "source": [
    "with open('../newest_ts', 'r') as f:\r\n",
    "    newest_ts = f.read()\r\n",
    "\r\n",
    "data_path = f\"../data/data_{newest_ts}.json\"\r\n",
    "with open(data_path, 'r') as f:\r\n",
    "    data = json.load(f)\r\n",
    "\r\n",
    "with open(CONFIG_PATH, \"r\") as stream:\r\n",
    "    config = yaml.safe_load(stream)\r\n",
    "\r\n",
    "TIME_ZONE = config['time_zone']\r\n",
    "DATETIME_FORMAT = config['dt_format']"
   ]
  },
  {
   "cell_type": "code",
   "execution_count": 3,
   "metadata": {
    "execution": {
     "iopub.execute_input": "2021-10-05T22:11:42.568145Z",
     "iopub.status.busy": "2021-10-05T22:11:42.567380Z",
     "iopub.status.idle": "2021-10-05T22:11:42.574554Z",
     "shell.execute_reply": "2021-10-05T22:11:42.575160Z"
    }
   },
   "outputs": [
    {
     "name": "stdout",
     "output_type": "stream",
     "text": [
      "Recent query happens at 2021-10-06 06:11:36 (CST).\n"
     ]
    }
   ],
   "source": [
    "def ts2dt(ts, format=DATETIME_FORMAT):\r\n",
    "    dt = (datetime.utcfromtimestamp(int(ts))\r\n",
    "                    .replace(tzinfo=tz.tzutc())\r\n",
    "                    # .astimezone(tz.tzlocal())\r\n",
    "                    .astimezone(tz.gettz(TIME_ZONE)))\r\n",
    "    return dt.strftime(format), dt\r\n",
    "\r\n",
    "_, newest_dt = ts2dt(newest_ts)\r\n",
    "print(f\"Recent query happens at {newest_dt.strftime(DATETIME_FORMAT)} ({newest_dt.tzname()}).\")"
   ]
  },
  {
   "cell_type": "code",
   "execution_count": 4,
   "metadata": {
    "execution": {
     "iopub.execute_input": "2021-10-05T22:11:42.581643Z",
     "iopub.status.busy": "2021-10-05T22:11:42.580185Z",
     "iopub.status.idle": "2021-10-05T22:11:42.582410Z",
     "shell.execute_reply": "2021-10-05T22:11:42.582902Z"
    }
   },
   "outputs": [],
   "source": [
    "def degrees_to_cardinal(d):\r\n",
    "  dirs = ['N', 'NNE', 'NE', 'ENE', 'E', 'ESE', 'SE', 'SSE', 'S', 'SSW', 'SW', 'WSW', 'W', 'WNW', 'NW', 'NNW']\r\n",
    "  ix = int(round(d / (360. / len(dirs))))\r\n",
    "  return dirs[ix % len(dirs)]"
   ]
  },
  {
   "cell_type": "code",
   "execution_count": 5,
   "metadata": {
    "execution": {
     "iopub.execute_input": "2021-10-05T22:11:42.588559Z",
     "iopub.status.busy": "2021-10-05T22:11:42.586890Z",
     "iopub.status.idle": "2021-10-05T22:11:42.589302Z",
     "shell.execute_reply": "2021-10-05T22:11:42.589831Z"
    }
   },
   "outputs": [],
   "source": [
    "# data.keys()"
   ]
  },
  {
   "cell_type": "code",
   "execution_count": 6,
   "metadata": {
    "execution": {
     "iopub.execute_input": "2021-10-05T22:11:42.595343Z",
     "iopub.status.busy": "2021-10-05T22:11:42.593562Z",
     "iopub.status.idle": "2021-10-05T22:11:42.596032Z",
     "shell.execute_reply": "2021-10-05T22:11:42.596599Z"
    }
   },
   "outputs": [],
   "source": [
    "# data['current']"
   ]
  },
  {
   "cell_type": "code",
   "execution_count": 7,
   "metadata": {
    "execution": {
     "iopub.execute_input": "2021-10-05T22:11:42.620970Z",
     "iopub.status.busy": "2021-10-05T22:11:42.620167Z",
     "iopub.status.idle": "2021-10-05T22:11:43.114194Z",
     "shell.execute_reply": "2021-10-05T22:11:43.115250Z"
    }
   },
   "outputs": [
    {
     "data": {
      "image/png": "[encoded data removed]",
      "text/plain": [
       "<Figure size 216x216 with 1 Axes>"
      ]
     },
     "metadata": {
      "needs_background": "light"
     },
     "output_type": "display_data"
    },
    {
     "name": "stdout",
     "output_type": "stream",
     "text": [
      "Today, sun rises at 06:15 and sets at 18:06.\n",
      "Currently, the weather is Clear (clear sky).\n",
      "The temperature is 27.51°C and it feels like 30.08°C.\n",
      "The UV index is 0, humidity is 73%.\n",
      "The pressure is 1008 hPa, percentage of cloud cover is 4%\n",
      "The wind comes from N direction with a speed 0.89 m/s.\n"
     ]
    }
   ],
   "source": [
    "current = data['current']\r\n",
    "\r\n",
    "fig, ax = plt.subplots(figsize=(3, 3))\r\n",
    "icon = requests.get(f\"http://openweathermap.org/img/wn/{current['weather'][0]['icon']}@2x.png\")\r\n",
    "im = Image.open(BytesIO(icon.content))\r\n",
    "plt.imshow(im)\r\n",
    "ax.set_axis_off()\r\n",
    "plt.show()\r\n",
    "\r\n",
    "print(f\"Today, sun rises at {ts2dt(current['sunrise'], '%H:%M')[0]} \\\r\n",
    "and sets at {ts2dt(current['sunset'], '%H:%M')[0]}.\\n\\\r\n",
    "Currently, the weather is {current['weather'][0]['main']} ({current['weather'][0]['description']}).\\n\\\r\n",
    "The temperature is {current['temp']}°C and it feels like {current['feels_like']}°C.\\n\\\r\n",
    "The UV index is {current['uvi']}, humidity is {current['humidity']}%.\\n\\\r\n",
    "The pressure is {current['pressure']} hPa, percentage of cloud cover is {current['clouds']}%\\n\\\r\n",
    "The wind comes from {degrees_to_cardinal(current['wind_deg'])} direction with a speed {current['wind_speed']} m/s.\")"
   ]
  },
  {
   "cell_type": "code",
   "execution_count": 8,
   "metadata": {
    "execution": {
     "iopub.execute_input": "2021-10-05T22:11:43.119386Z",
     "iopub.status.busy": "2021-10-05T22:11:43.118064Z",
     "iopub.status.idle": "2021-10-05T22:11:43.127379Z",
     "shell.execute_reply": "2021-10-05T22:11:43.128235Z"
    }
   },
   "outputs": [],
   "source": [
    "df_hourly = pd.DataFrame(data['hourly'])\r\n",
    "df_daily = pd.DataFrame(data['daily'])"
   ]
  },
  {
   "cell_type": "code",
   "execution_count": 9,
   "metadata": {
    "execution": {
     "iopub.execute_input": "2021-10-05T22:11:43.132128Z",
     "iopub.status.busy": "2021-10-05T22:11:43.130952Z",
     "iopub.status.idle": "2021-10-05T22:11:43.477832Z",
     "shell.execute_reply": "2021-10-05T22:11:43.477213Z"
    }
   },
   "outputs": [
    {
     "data": {
      "image/png": "[encoded data removed]",
      "text/plain": [
       "<Figure size 864x432 with 1 Axes>"
      ]
     },
     "metadata": {
      "needs_background": "light"
     },
     "output_type": "display_data"
    }
   ],
   "source": [
    "fig, ax = plt.subplots(figsize=(12, 6))\r\n",
    "plt.plot(df_hourly.temp, '.-', label='Temperature')\r\n",
    "plt.plot(df_hourly.feels_like, '.-', label='Feels Like')\r\n",
    "ax.set(title='Temperature in future 48 hours', xlabel='Time', ylabel='Temperature')\r\n",
    "ax.set_xticks(list(range(0, len(df_hourly), 2)))\r\n",
    "ax.set_xticklabels([ts2dt(ts, '%m-%d %H:%M')[0] for i, ts in enumerate(df_hourly.dt) if i%2==0], \r\n",
    "                   rotation=45, ha=\"right\")\r\n",
    "ax.locator_params(nbins=15, axis='y')\r\n",
    "plt.legend()\r\n",
    "plt.show()"
   ]
  },
  {
   "cell_type": "code",
   "execution_count": 10,
   "metadata": {
    "execution": {
     "iopub.execute_input": "2021-10-05T22:11:43.495455Z",
     "iopub.status.busy": "2021-10-05T22:11:43.483553Z",
     "iopub.status.idle": "2021-10-05T22:11:43.514642Z",
     "shell.execute_reply": "2021-10-05T22:11:43.515570Z"
    }
   },
   "outputs": [
    {
     "data": {
      "text/html": [
       "<div>\n",
       "<style scoped>\n",
       "    .dataframe tbody tr th:only-of-type {\n",
       "        vertical-align: middle;\n",
       "    }\n",
       "\n",
       "    .dataframe tbody tr th {\n",
       "        vertical-align: top;\n",
       "    }\n",
       "\n",
       "    .dataframe thead th {\n",
       "        text-align: right;\n",
       "    }\n",
       "</style>\n",
       "<table border=\"1\" class=\"dataframe\">\n",
       "  <thead>\n",
       "    <tr style=\"text-align: right;\">\n",
       "      <th></th>\n",
       "      <th>dt</th>\n",
       "      <th>temp</th>\n",
       "      <th>feels_like</th>\n",
       "      <th>pressure</th>\n",
       "      <th>humidity</th>\n",
       "      <th>dew_point</th>\n",
       "      <th>uvi</th>\n",
       "      <th>clouds</th>\n",
       "      <th>visibility</th>\n",
       "      <th>wind_speed</th>\n",
       "      <th>wind_deg</th>\n",
       "      <th>wind_gust</th>\n",
       "      <th>weather</th>\n",
       "      <th>pop</th>\n",
       "      <th>rain</th>\n",
       "    </tr>\n",
       "  </thead>\n",
       "  <tbody>\n",
       "    <tr>\n",
       "      <th>0</th>\n",
       "      <td>1633471200</td>\n",
       "      <td>27.51</td>\n",
       "      <td>30.08</td>\n",
       "      <td>1008</td>\n",
       "      <td>73</td>\n",
       "      <td>22.24</td>\n",
       "      <td>0.00</td>\n",
       "      <td>4</td>\n",
       "      <td>10000</td>\n",
       "      <td>7.98</td>\n",
       "      <td>69</td>\n",
       "      <td>10.15</td>\n",
       "      <td>[{'id': 800, 'main': 'Clear', 'description': '...</td>\n",
       "      <td>0.0</td>\n",
       "      <td>NaN</td>\n",
       "    </tr>\n",
       "    <tr>\n",
       "      <th>1</th>\n",
       "      <td>1633474800</td>\n",
       "      <td>27.33</td>\n",
       "      <td>29.83</td>\n",
       "      <td>1008</td>\n",
       "      <td>74</td>\n",
       "      <td>22.29</td>\n",
       "      <td>0.13</td>\n",
       "      <td>4</td>\n",
       "      <td>10000</td>\n",
       "      <td>7.75</td>\n",
       "      <td>69</td>\n",
       "      <td>9.96</td>\n",
       "      <td>[{'id': 800, 'main': 'Clear', 'description': '...</td>\n",
       "      <td>0.0</td>\n",
       "      <td>NaN</td>\n",
       "    </tr>\n",
       "    <tr>\n",
       "      <th>2</th>\n",
       "      <td>1633478400</td>\n",
       "      <td>27.41</td>\n",
       "      <td>29.78</td>\n",
       "      <td>1009</td>\n",
       "      <td>72</td>\n",
       "      <td>21.91</td>\n",
       "      <td>0.88</td>\n",
       "      <td>4</td>\n",
       "      <td>10000</td>\n",
       "      <td>7.78</td>\n",
       "      <td>71</td>\n",
       "      <td>9.91</td>\n",
       "      <td>[{'id': 800, 'main': 'Clear', 'description': '...</td>\n",
       "      <td>0.0</td>\n",
       "      <td>NaN</td>\n",
       "    </tr>\n",
       "    <tr>\n",
       "      <th>3</th>\n",
       "      <td>1633482000</td>\n",
       "      <td>27.65</td>\n",
       "      <td>30.00</td>\n",
       "      <td>1010</td>\n",
       "      <td>70</td>\n",
       "      <td>21.68</td>\n",
       "      <td>2.58</td>\n",
       "      <td>2</td>\n",
       "      <td>10000</td>\n",
       "      <td>7.68</td>\n",
       "      <td>71</td>\n",
       "      <td>9.52</td>\n",
       "      <td>[{'id': 800, 'main': 'Clear', 'description': '...</td>\n",
       "      <td>0.0</td>\n",
       "      <td>NaN</td>\n",
       "    </tr>\n",
       "    <tr>\n",
       "      <th>4</th>\n",
       "      <td>1633485600</td>\n",
       "      <td>28.19</td>\n",
       "      <td>30.76</td>\n",
       "      <td>1010</td>\n",
       "      <td>68</td>\n",
       "      <td>21.72</td>\n",
       "      <td>4.99</td>\n",
       "      <td>2</td>\n",
       "      <td>10000</td>\n",
       "      <td>7.33</td>\n",
       "      <td>70</td>\n",
       "      <td>9.01</td>\n",
       "      <td>[{'id': 800, 'main': 'Clear', 'description': '...</td>\n",
       "      <td>0.0</td>\n",
       "      <td>NaN</td>\n",
       "    </tr>\n",
       "  </tbody>\n",
       "</table>\n",
       "</div>"
      ],
      "text/plain": [
       "           dt   temp  feels_like  pressure  humidity  dew_point   uvi  clouds  \\\n",
       "0  1633471200  27.51       30.08      1008        73      22.24  0.00       4   \n",
       "1  1633474800  27.33       29.83      1008        74      22.29  0.13       4   \n",
       "2  1633478400  27.41       29.78      1009        72      21.91  0.88       4   \n",
       "3  1633482000  27.65       30.00      1010        70      21.68  2.58       2   \n",
       "4  1633485600  28.19       30.76      1010        68      21.72  4.99       2   \n",
       "\n",
       "   visibility  wind_speed  wind_deg  wind_gust  \\\n",
       "0       10000        7.98        69      10.15   \n",
       "1       10000        7.75        69       9.96   \n",
       "2       10000        7.78        71       9.91   \n",
       "3       10000        7.68        71       9.52   \n",
       "4       10000        7.33        70       9.01   \n",
       "\n",
       "                                             weather  pop rain  \n",
       "0  [{'id': 800, 'main': 'Clear', 'description': '...  0.0  NaN  \n",
       "1  [{'id': 800, 'main': 'Clear', 'description': '...  0.0  NaN  \n",
       "2  [{'id': 800, 'main': 'Clear', 'description': '...  0.0  NaN  \n",
       "3  [{'id': 800, 'main': 'Clear', 'description': '...  0.0  NaN  \n",
       "4  [{'id': 800, 'main': 'Clear', 'description': '...  0.0  NaN  "
      ]
     },
     "execution_count": 10,
     "metadata": {},
     "output_type": "execute_result"
    }
   ],
   "source": [
    "df_hourly.head()"
   ]
  },
  {
   "cell_type": "code",
   "execution_count": null,
   "metadata": {},
   "outputs": [],
   "source": []
  }
 ],
 "metadata": {
  "interpreter": {
   "hash": "c1b4cfe941b6d2466ad1fb5979e97da9cda8801728c8091b097ab734208fc00c"
  },
  "kernelspec": {
   "display_name": "Python 3.8.3 64-bit ('base': conda)",
   "name": "python3"
  },
  "language_info": {
   "codemirror_mode": {
    "name": "ipython",
    "version": 3
   },
   "file_extension": ".py",
   "mimetype": "text/x-python",
   "name": "python",
   "nbconvert_exporter": "python",
   "pygments_lexer": "ipython3",
   "version": "3.8.12"
  }
 },
 "nbformat": 4,
 "nbformat_minor": 2
}
