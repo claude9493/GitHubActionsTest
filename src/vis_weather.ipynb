{
 "cells": [
  {
   "cell_type": "code",
   "execution_count": 1,
   "metadata": {
    "execution": {
     "iopub.execute_input": "2021-10-19T05:10:47.991849Z",
     "iopub.status.busy": "2021-10-19T05:10:47.991253Z",
     "iopub.status.idle": "2021-10-19T05:10:49.189432Z",
     "shell.execute_reply": "2021-10-19T05:10:49.188816Z"
    }
   },
   "outputs": [],
   "source": [
    "import json, yaml, requests\r\n",
    "from datetime import datetime\r\n",
    "from dateutil import tz\r\n",
    "import pandas as pd\r\n",
    "from PIL import Image\r\n",
    "from io import BytesIO\r\n",
    "import matplotlib.pyplot as plt\r\n",
    "import seaborn\r\n",
    "\r\n",
    "CONFIG_PATH = \"../config/config.yaml\""
   ]
  },
  {
   "cell_type": "code",
   "execution_count": 2,
   "metadata": {
    "execution": {
     "iopub.execute_input": "2021-10-19T05:10:49.194283Z",
     "iopub.status.busy": "2021-10-19T05:10:49.193778Z",
     "iopub.status.idle": "2021-10-19T05:10:49.198736Z",
     "shell.execute_reply": "2021-10-19T05:10:49.198354Z"
    }
   },
   "outputs": [],
   "source": [
    "with open('../newest_ts', 'r') as f:\r\n",
    "    newest_ts = f.read()\r\n",
    "\r\n",
    "data_path = f\"../data/data_{newest_ts}.json\"\r\n",
    "with open(data_path, 'r') as f:\r\n",
    "    data = json.load(f)\r\n",
    "\r\n",
    "with open(CONFIG_PATH, \"r\") as stream:\r\n",
    "    config = yaml.safe_load(stream)\r\n",
    "\r\n",
    "TIME_ZONE = config['time_zone']\r\n",
    "DATETIME_FORMAT = config['dt_format']"
   ]
  },
  {
   "cell_type": "code",
   "execution_count": 3,
   "metadata": {
    "execution": {
     "iopub.execute_input": "2021-10-19T05:10:49.203136Z",
     "iopub.status.busy": "2021-10-19T05:10:49.202624Z",
     "iopub.status.idle": "2021-10-19T05:10:49.208224Z",
     "shell.execute_reply": "2021-10-19T05:10:49.208628Z"
    }
   },
   "outputs": [
    {
     "name": "stdout",
     "output_type": "stream",
     "text": [
      "Recent query happens at 2021-10-19 13:10:45 (CST).\n"
     ]
    }
   ],
   "source": [
    "def ts2dt(ts, format=DATETIME_FORMAT):\r\n",
    "    dt = (datetime.utcfromtimestamp(int(ts))\r\n",
    "                    .replace(tzinfo=tz.tzutc())\r\n",
    "                    # .astimezone(tz.tzlocal())\r\n",
    "                    .astimezone(tz.gettz(TIME_ZONE)))\r\n",
    "    return dt.strftime(format), dt\r\n",
    "\r\n",
    "_, newest_dt = ts2dt(newest_ts)\r\n",
    "print(f\"Recent query happens at {newest_dt.strftime(DATETIME_FORMAT)} ({newest_dt.tzname()}).\")"
   ]
  },
  {
   "cell_type": "code",
   "execution_count": 4,
   "metadata": {
    "execution": {
     "iopub.execute_input": "2021-10-19T05:10:49.213541Z",
     "iopub.status.busy": "2021-10-19T05:10:49.212361Z",
     "iopub.status.idle": "2021-10-19T05:10:49.214062Z",
     "shell.execute_reply": "2021-10-19T05:10:49.214425Z"
    }
   },
   "outputs": [],
   "source": [
    "def degrees_to_cardinal(d):\r\n",
    "  dirs = ['N', 'NNE', 'NE', 'ENE', 'E', 'ESE', 'SE', 'SSE', 'S', 'SSW', 'SW', 'WSW', 'W', 'WNW', 'NW', 'NNW']\r\n",
    "  ix = int(round(d / (360. / len(dirs))))\r\n",
    "  return dirs[ix % len(dirs)]"
   ]
  },
  {
   "cell_type": "code",
   "execution_count": 5,
   "metadata": {
    "execution": {
     "iopub.execute_input": "2021-10-19T05:10:49.218323Z",
     "iopub.status.busy": "2021-10-19T05:10:49.217310Z",
     "iopub.status.idle": "2021-10-19T05:10:49.218843Z",
     "shell.execute_reply": "2021-10-19T05:10:49.219203Z"
    }
   },
   "outputs": [],
   "source": [
    "# data.keys()"
   ]
  },
  {
   "cell_type": "code",
   "execution_count": 6,
   "metadata": {
    "execution": {
     "iopub.execute_input": "2021-10-19T05:10:49.223022Z",
     "iopub.status.busy": "2021-10-19T05:10:49.222002Z",
     "iopub.status.idle": "2021-10-19T05:10:49.223531Z",
     "shell.execute_reply": "2021-10-19T05:10:49.223896Z"
    }
   },
   "outputs": [],
   "source": [
    "# data['current']"
   ]
  },
  {
   "cell_type": "code",
   "execution_count": 7,
   "metadata": {
    "execution": {
     "iopub.execute_input": "2021-10-19T05:10:49.240136Z",
     "iopub.status.busy": "2021-10-19T05:10:49.239660Z",
     "iopub.status.idle": "2021-10-19T05:10:49.629260Z",
     "shell.execute_reply": "2021-10-19T05:10:49.629932Z"
    }
   },
   "outputs": [
    {
     "data": {
      "image/png": "[encoded data removed]",
      "text/plain": [
       "<Figure size 216x216 with 1 Axes>"
      ]
     },
     "metadata": {
      "needs_background": "light"
     },
     "output_type": "display_data"
    },
    {
     "name": "stdout",
     "output_type": "stream",
     "text": [
      "Today, sun rises at 06:20 and sets at 17:54.\n",
      "Currently, the weather is Clouds (broken clouds).\n",
      "The temperature is 27.2°C and it feels like 28.93°C.\n",
      "The UV index is 0, humidity is 67%.\n",
      "The pressure is 1024 hPa, percentage of cloud cover is 83%\n",
      "The wind comes from NW direction with a speed 3.58 m/s.\n"
     ]
    }
   ],
   "source": [
    "current = data['current']\r\n",
    "\r\n",
    "fig, ax = plt.subplots(figsize=(3, 3))\r\n",
    "icon = requests.get(f\"http://openweathermap.org/img/wn/{current['weather'][0]['icon']}@2x.png\")\r\n",
    "im = Image.open(BytesIO(icon.content))\r\n",
    "plt.imshow(im)\r\n",
    "ax.set_axis_off()\r\n",
    "plt.show()\r\n",
    "\r\n",
    "print(f\"Today, sun rises at {ts2dt(current['sunrise'], '%H:%M')[0]} \\\r\n",
    "and sets at {ts2dt(current['sunset'], '%H:%M')[0]}.\\n\\\r\n",
    "Currently, the weather is {current['weather'][0]['main']} ({current['weather'][0]['description']}).\\n\\\r\n",
    "The temperature is {current['temp']}°C and it feels like {current['feels_like']}°C.\\n\\\r\n",
    "The UV index is {current['uvi']}, humidity is {current['humidity']}%.\\n\\\r\n",
    "The pressure is {current['pressure']} hPa, percentage of cloud cover is {current['clouds']}%\\n\\\r\n",
    "The wind comes from {degrees_to_cardinal(current['wind_deg'])} direction with a speed {current['wind_speed']} m/s.\")"
   ]
  },
  {
   "cell_type": "code",
   "execution_count": 8,
   "metadata": {
    "execution": {
     "iopub.execute_input": "2021-10-19T05:10:49.633102Z",
     "iopub.status.busy": "2021-10-19T05:10:49.632155Z",
     "iopub.status.idle": "2021-10-19T05:10:49.638922Z",
     "shell.execute_reply": "2021-10-19T05:10:49.639568Z"
    }
   },
   "outputs": [],
   "source": [
    "df_hourly = pd.DataFrame(data['hourly'])\r\n",
    "df_daily = pd.DataFrame(data['daily'])"
   ]
  },
  {
   "cell_type": "code",
   "execution_count": 9,
   "metadata": {
    "execution": {
     "iopub.execute_input": "2021-10-19T05:10:49.642562Z",
     "iopub.status.busy": "2021-10-19T05:10:49.641631Z",
     "iopub.status.idle": "2021-10-19T05:10:49.881619Z",
     "shell.execute_reply": "2021-10-19T05:10:49.881221Z"
    }
   },
   "outputs": [
    {
     "data": {
      "image/png": "[encoded data removed]",
      "text/plain": [
       "<Figure size 864x432 with 1 Axes>"
      ]
     },
     "metadata": {
      "needs_background": "light"
     },
     "output_type": "display_data"
    }
   ],
   "source": [
    "fig, ax = plt.subplots(figsize=(12, 6))\r\n",
    "plt.plot(df_hourly.temp, '.-', label='Temperature')\r\n",
    "plt.plot(df_hourly.feels_like, '.-', label='Feels Like')\r\n",
    "ax.set(title='Temperature in future 48 hours', xlabel='Time', ylabel='Temperature')\r\n",
    "ax.set_xticks(list(range(0, len(df_hourly), 2)))\r\n",
    "ax.set_xticklabels([ts2dt(ts, '%m-%d %H:%M')[0] for i, ts in enumerate(df_hourly.dt) if i%2==0], \r\n",
    "                   rotation=45, ha=\"right\")\r\n",
    "ax.locator_params(nbins=15, axis='y')\r\n",
    "plt.legend()\r\n",
    "plt.show()"
   ]
  },
  {
   "cell_type": "code",
   "execution_count": 10,
   "metadata": {
    "execution": {
     "iopub.execute_input": "2021-10-19T05:10:49.891625Z",
     "iopub.status.busy": "2021-10-19T05:10:49.885257Z",
     "iopub.status.idle": "2021-10-19T05:10:49.903105Z",
     "shell.execute_reply": "2021-10-19T05:10:49.902699Z"
    }
   },
   "outputs": [
    {
     "data": {
      "text/html": [
       "<div>\n",
       "<style scoped>\n",
       "    .dataframe tbody tr th:only-of-type {\n",
       "        vertical-align: middle;\n",
       "    }\n",
       "\n",
       "    .dataframe tbody tr th {\n",
       "        vertical-align: top;\n",
       "    }\n",
       "\n",
       "    .dataframe thead th {\n",
       "        text-align: right;\n",
       "    }\n",
       "</style>\n",
       "<table border=\"1\" class=\"dataframe\">\n",
       "  <thead>\n",
       "    <tr style=\"text-align: right;\">\n",
       "      <th></th>\n",
       "      <th>dt</th>\n",
       "      <th>temp</th>\n",
       "      <th>feels_like</th>\n",
       "      <th>pressure</th>\n",
       "      <th>humidity</th>\n",
       "      <th>dew_point</th>\n",
       "      <th>uvi</th>\n",
       "      <th>clouds</th>\n",
       "      <th>visibility</th>\n",
       "      <th>wind_speed</th>\n",
       "      <th>wind_deg</th>\n",
       "      <th>wind_gust</th>\n",
       "      <th>weather</th>\n",
       "      <th>pop</th>\n",
       "      <th>rain</th>\n",
       "    </tr>\n",
       "  </thead>\n",
       "  <tbody>\n",
       "    <tr>\n",
       "      <th>0</th>\n",
       "      <td>1634619600</td>\n",
       "      <td>27.20</td>\n",
       "      <td>28.93</td>\n",
       "      <td>1024</td>\n",
       "      <td>67</td>\n",
       "      <td>20.54</td>\n",
       "      <td>0</td>\n",
       "      <td>83</td>\n",
       "      <td>10000</td>\n",
       "      <td>3.72</td>\n",
       "      <td>75</td>\n",
       "      <td>3.74</td>\n",
       "      <td>[{'id': 803, 'main': 'Clouds', 'description': ...</td>\n",
       "      <td>0.00</td>\n",
       "      <td>NaN</td>\n",
       "    </tr>\n",
       "    <tr>\n",
       "      <th>1</th>\n",
       "      <td>1634623200</td>\n",
       "      <td>26.86</td>\n",
       "      <td>28.47</td>\n",
       "      <td>1023</td>\n",
       "      <td>68</td>\n",
       "      <td>20.46</td>\n",
       "      <td>0</td>\n",
       "      <td>83</td>\n",
       "      <td>10000</td>\n",
       "      <td>3.31</td>\n",
       "      <td>76</td>\n",
       "      <td>3.27</td>\n",
       "      <td>[{'id': 803, 'main': 'Clouds', 'description': ...</td>\n",
       "      <td>0.00</td>\n",
       "      <td>NaN</td>\n",
       "    </tr>\n",
       "    <tr>\n",
       "      <th>2</th>\n",
       "      <td>1634626800</td>\n",
       "      <td>26.46</td>\n",
       "      <td>26.46</td>\n",
       "      <td>1021</td>\n",
       "      <td>70</td>\n",
       "      <td>20.55</td>\n",
       "      <td>0</td>\n",
       "      <td>87</td>\n",
       "      <td>10000</td>\n",
       "      <td>3.48</td>\n",
       "      <td>76</td>\n",
       "      <td>3.59</td>\n",
       "      <td>[{'id': 804, 'main': 'Clouds', 'description': ...</td>\n",
       "      <td>0.02</td>\n",
       "      <td>NaN</td>\n",
       "    </tr>\n",
       "    <tr>\n",
       "      <th>3</th>\n",
       "      <td>1634630400</td>\n",
       "      <td>26.05</td>\n",
       "      <td>26.05</td>\n",
       "      <td>1019</td>\n",
       "      <td>72</td>\n",
       "      <td>20.61</td>\n",
       "      <td>0</td>\n",
       "      <td>91</td>\n",
       "      <td>10000</td>\n",
       "      <td>3.57</td>\n",
       "      <td>79</td>\n",
       "      <td>3.70</td>\n",
       "      <td>[{'id': 804, 'main': 'Clouds', 'description': ...</td>\n",
       "      <td>0.04</td>\n",
       "      <td>NaN</td>\n",
       "    </tr>\n",
       "    <tr>\n",
       "      <th>4</th>\n",
       "      <td>1634634000</td>\n",
       "      <td>25.58</td>\n",
       "      <td>26.13</td>\n",
       "      <td>1018</td>\n",
       "      <td>74</td>\n",
       "      <td>20.60</td>\n",
       "      <td>0</td>\n",
       "      <td>95</td>\n",
       "      <td>10000</td>\n",
       "      <td>3.82</td>\n",
       "      <td>82</td>\n",
       "      <td>4.05</td>\n",
       "      <td>[{'id': 804, 'main': 'Clouds', 'description': ...</td>\n",
       "      <td>0.00</td>\n",
       "      <td>NaN</td>\n",
       "    </tr>\n",
       "  </tbody>\n",
       "</table>\n",
       "</div>"
      ],
      "text/plain": [
       "           dt   temp  feels_like  pressure  humidity  dew_point  uvi  clouds  \\\n",
       "0  1634619600  27.20       28.93      1024        67      20.54    0      83   \n",
       "1  1634623200  26.86       28.47      1023        68      20.46    0      83   \n",
       "2  1634626800  26.46       26.46      1021        70      20.55    0      87   \n",
       "3  1634630400  26.05       26.05      1019        72      20.61    0      91   \n",
       "4  1634634000  25.58       26.13      1018        74      20.60    0      95   \n",
       "\n",
       "   visibility  wind_speed  wind_deg  wind_gust  \\\n",
       "0       10000        3.72        75       3.74   \n",
       "1       10000        3.31        76       3.27   \n",
       "2       10000        3.48        76       3.59   \n",
       "3       10000        3.57        79       3.70   \n",
       "4       10000        3.82        82       4.05   \n",
       "\n",
       "                                             weather   pop rain  \n",
       "0  [{'id': 803, 'main': 'Clouds', 'description': ...  0.00  NaN  \n",
       "1  [{'id': 803, 'main': 'Clouds', 'description': ...  0.00  NaN  \n",
       "2  [{'id': 804, 'main': 'Clouds', 'description': ...  0.02  NaN  \n",
       "3  [{'id': 804, 'main': 'Clouds', 'description': ...  0.04  NaN  \n",
       "4  [{'id': 804, 'main': 'Clouds', 'description': ...  0.00  NaN  "
      ]
     },
     "execution_count": 10,
     "metadata": {},
     "output_type": "execute_result"
    }
   ],
   "source": [
    "df_hourly.head()"
   ]
  },
  {
   "cell_type": "code",
   "execution_count": null,
   "metadata": {},
   "outputs": [],
   "source": []
  }
 ],
 "metadata": {
  "interpreter": {
   "hash": "c1b4cfe941b6d2466ad1fb5979e97da9cda8801728c8091b097ab734208fc00c"
  },
  "kernelspec": {
   "display_name": "Python 3.8.3 64-bit ('base': conda)",
   "name": "python3"
  },
  "language_info": {
   "codemirror_mode": {
    "name": "ipython",
    "version": 3
   },
   "file_extension": ".py",
   "mimetype": "text/x-python",
   "name": "python",
   "nbconvert_exporter": "python",
   "pygments_lexer": "ipython3",
   "version": "3.8.12"
  }
 },
 "nbformat": 4,
 "nbformat_minor": 2
}
