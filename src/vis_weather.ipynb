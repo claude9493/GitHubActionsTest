{
 "cells": [
  {
   "cell_type": "code",
   "execution_count": 1,
   "metadata": {
    "execution": {
     "iopub.execute_input": "2021-09-27T01:56:03.740551Z",
     "iopub.status.busy": "2021-09-27T01:56:03.739921Z",
     "iopub.status.idle": "2021-09-27T01:56:05.077420Z",
     "shell.execute_reply": "2021-09-27T01:56:05.076841Z"
    }
   },
   "outputs": [],
   "source": [
    "import json, yaml, requests\r\n",
    "from datetime import datetime\r\n",
    "from dateutil import tz\r\n",
    "import pandas as pd\r\n",
    "from PIL import Image\r\n",
    "from io import BytesIO\r\n",
    "import matplotlib.pyplot as plt\r\n",
    "import seaborn\r\n",
    "\r\n",
    "CONFIG_PATH = \"../config/config.yaml\""
   ]
  },
  {
   "cell_type": "code",
   "execution_count": 2,
   "metadata": {
    "execution": {
     "iopub.execute_input": "2021-09-27T01:56:05.080468Z",
     "iopub.status.busy": "2021-09-27T01:56:05.079812Z",
     "iopub.status.idle": "2021-09-27T01:56:05.088333Z",
     "shell.execute_reply": "2021-09-27T01:56:05.087766Z"
    }
   },
   "outputs": [],
   "source": [
    "with open('../newest_ts', 'r') as f:\r\n",
    "    newest_ts = f.read()\r\n",
    "\r\n",
    "data_path = f\"../data/data_{newest_ts}.json\"\r\n",
    "with open(data_path, 'r') as f:\r\n",
    "    data = json.load(f)\r\n",
    "\r\n",
    "with open(CONFIG_PATH, \"r\") as stream:\r\n",
    "    config = yaml.safe_load(stream)\r\n",
    "\r\n",
    "TIME_ZONE = config['time_zone']\r\n",
    "DATETIME_FORMAT = config['dt_format']"
   ]
  },
  {
   "cell_type": "code",
   "execution_count": 3,
   "metadata": {
    "execution": {
     "iopub.execute_input": "2021-09-27T01:56:05.092965Z",
     "iopub.status.busy": "2021-09-27T01:56:05.092348Z",
     "iopub.status.idle": "2021-09-27T01:56:05.098176Z",
     "shell.execute_reply": "2021-09-27T01:56:05.098652Z"
    }
   },
   "outputs": [
    {
     "name": "stdout",
     "output_type": "stream",
     "text": [
      "Recent query happens at 2021-09-27 09:56:00 (CST).\n"
     ]
    }
   ],
   "source": [
    "def ts2dt(ts, format=DATETIME_FORMAT):\r\n",
    "    dt = (datetime.utcfromtimestamp(int(ts))\r\n",
    "                    .replace(tzinfo=tz.tzutc())\r\n",
    "                    # .astimezone(tz.tzlocal())\r\n",
    "                    .astimezone(tz.gettz(TIME_ZONE)))\r\n",
    "    return dt.strftime(format), dt\r\n",
    "\r\n",
    "_, newest_dt = ts2dt(newest_ts)\r\n",
    "print(f\"Recent query happens at {newest_dt.strftime(DATETIME_FORMAT)} ({newest_dt.tzname()}).\")"
   ]
  },
  {
   "cell_type": "code",
   "execution_count": 4,
   "metadata": {
    "execution": {
     "iopub.execute_input": "2021-09-27T01:56:05.104664Z",
     "iopub.status.busy": "2021-09-27T01:56:05.103224Z",
     "iopub.status.idle": "2021-09-27T01:56:05.105264Z",
     "shell.execute_reply": "2021-09-27T01:56:05.105826Z"
    }
   },
   "outputs": [],
   "source": [
    "def degrees_to_cardinal(d):\r\n",
    "  dirs = ['N', 'NNE', 'NE', 'ENE', 'E', 'ESE', 'SE', 'SSE', 'S', 'SSW', 'SW', 'WSW', 'W', 'WNW', 'NW', 'NNW']\r\n",
    "  ix = int(round(d / (360. / len(dirs))))\r\n",
    "  return dirs[ix % len(dirs)]"
   ]
  },
  {
   "cell_type": "code",
   "execution_count": 5,
   "metadata": {
    "execution": {
     "iopub.execute_input": "2021-09-27T01:56:05.111160Z",
     "iopub.status.busy": "2021-09-27T01:56:05.109681Z",
     "iopub.status.idle": "2021-09-27T01:56:05.111802Z",
     "shell.execute_reply": "2021-09-27T01:56:05.112331Z"
    }
   },
   "outputs": [],
   "source": [
    "# data.keys()"
   ]
  },
  {
   "cell_type": "code",
   "execution_count": 6,
   "metadata": {
    "execution": {
     "iopub.execute_input": "2021-09-27T01:56:05.117547Z",
     "iopub.status.busy": "2021-09-27T01:56:05.115549Z",
     "iopub.status.idle": "2021-09-27T01:56:05.118343Z",
     "shell.execute_reply": "2021-09-27T01:56:05.118807Z"
    }
   },
   "outputs": [],
   "source": [
    "# data['current']"
   ]
  },
  {
   "cell_type": "code",
   "execution_count": 7,
   "metadata": {
    "execution": {
     "iopub.execute_input": "2021-09-27T01:56:05.139843Z",
     "iopub.status.busy": "2021-09-27T01:56:05.125331Z",
     "iopub.status.idle": "2021-09-27T01:56:05.597957Z",
     "shell.execute_reply": "2021-09-27T01:56:05.598575Z"
    }
   },
   "outputs": [
    {
     "data": {
      "image/png": "[encoded data removed]",
      "text/plain": [
       "<Figure size 216x216 with 1 Axes>"
      ]
     },
     "metadata": {
      "needs_background": "light"
     },
     "output_type": "display_data"
    },
    {
     "name": "stdout",
     "output_type": "stream",
     "text": [
      "Today, sun rises at 06:13 and sets at 18:14.\n",
      "Currently, the weather is Clouds (scattered clouds).\n",
      "The temperature is 30.19°C and it feels like 36.82°C.\n",
      "The UV index is 5.9, humidity is 75%.\n",
      "The pressure is 1011 hPa, percentage of cloud cover is 40%\n",
      "The wind comes from NNE direction with a speed 0.45 m/s.\n"
     ]
    }
   ],
   "source": [
    "current = data['current']\r\n",
    "\r\n",
    "fig, ax = plt.subplots(figsize=(3, 3))\r\n",
    "icon = requests.get(f\"http://openweathermap.org/img/wn/{current['weather'][0]['icon']}@2x.png\")\r\n",
    "im = Image.open(BytesIO(icon.content))\r\n",
    "plt.imshow(im)\r\n",
    "ax.set_axis_off()\r\n",
    "plt.show()\r\n",
    "\r\n",
    "print(f\"Today, sun rises at {ts2dt(current['sunrise'], '%H:%M')[0]} \\\r\n",
    "and sets at {ts2dt(current['sunset'], '%H:%M')[0]}.\\n\\\r\n",
    "Currently, the weather is {current['weather'][0]['main']} ({current['weather'][0]['description']}).\\n\\\r\n",
    "The temperature is {current['temp']}°C and it feels like {current['feels_like']}°C.\\n\\\r\n",
    "The UV index is {current['uvi']}, humidity is {current['humidity']}%.\\n\\\r\n",
    "The pressure is {current['pressure']} hPa, percentage of cloud cover is {current['clouds']}%\\n\\\r\n",
    "The wind comes from {degrees_to_cardinal(current['wind_deg'])} direction with a speed {current['wind_speed']} m/s.\")"
   ]
  },
  {
   "cell_type": "code",
   "execution_count": 8,
   "metadata": {
    "execution": {
     "iopub.execute_input": "2021-09-27T01:56:05.601734Z",
     "iopub.status.busy": "2021-09-27T01:56:05.601172Z",
     "iopub.status.idle": "2021-09-27T01:56:05.607518Z",
     "shell.execute_reply": "2021-09-27T01:56:05.608177Z"
    }
   },
   "outputs": [],
   "source": [
    "df_hourly = pd.DataFrame(data['hourly'])\r\n",
    "df_daily = pd.DataFrame(data['daily'])"
   ]
  },
  {
   "cell_type": "code",
   "execution_count": 9,
   "metadata": {
    "execution": {
     "iopub.execute_input": "2021-09-27T01:56:05.611271Z",
     "iopub.status.busy": "2021-09-27T01:56:05.610549Z",
     "iopub.status.idle": "2021-09-27T01:56:05.915483Z",
     "shell.execute_reply": "2021-09-27T01:56:05.915059Z"
    }
   },
   "outputs": [
    {
     "data": {
      "image/png": "[encoded data removed]",
      "text/plain": [
       "<Figure size 864x432 with 1 Axes>"
      ]
     },
     "metadata": {
      "needs_background": "light"
     },
     "output_type": "display_data"
    }
   ],
   "source": [
    "fig, ax = plt.subplots(figsize=(12, 6))\r\n",
    "plt.plot(df_hourly.temp, '.-', label='Temperature')\r\n",
    "plt.plot(df_hourly.feels_like, '.-', label='Feels Like')\r\n",
    "ax.set(title='Temperature in future 48 hours', xlabel='Time', ylabel='Temperature')\r\n",
    "ax.set_xticks(list(range(0, len(df_hourly), 2)))\r\n",
    "ax.set_xticklabels([ts2dt(ts, '%m-%d %H:%M')[0] for i, ts in enumerate(df_hourly.dt) if i%2==0], \r\n",
    "                   rotation=45, ha=\"right\")\r\n",
    "ax.locator_params(nbins=15, axis='y')\r\n",
    "plt.legend()\r\n",
    "plt.show()"
   ]
  },
  {
   "cell_type": "code",
   "execution_count": 10,
   "metadata": {
    "execution": {
     "iopub.execute_input": "2021-09-27T01:56:05.919453Z",
     "iopub.status.busy": "2021-09-27T01:56:05.918982Z",
     "iopub.status.idle": "2021-09-27T01:56:05.934939Z",
     "shell.execute_reply": "2021-09-27T01:56:05.935336Z"
    }
   },
   "outputs": [
    {
     "data": {
      "text/html": [
       "<div>\n",
       "<style scoped>\n",
       "    .dataframe tbody tr th:only-of-type {\n",
       "        vertical-align: middle;\n",
       "    }\n",
       "\n",
       "    .dataframe tbody tr th {\n",
       "        vertical-align: top;\n",
       "    }\n",
       "\n",
       "    .dataframe thead th {\n",
       "        text-align: right;\n",
       "    }\n",
       "</style>\n",
       "<table border=\"1\" class=\"dataframe\">\n",
       "  <thead>\n",
       "    <tr style=\"text-align: right;\">\n",
       "      <th></th>\n",
       "      <th>dt</th>\n",
       "      <th>temp</th>\n",
       "      <th>feels_like</th>\n",
       "      <th>pressure</th>\n",
       "      <th>humidity</th>\n",
       "      <th>dew_point</th>\n",
       "      <th>uvi</th>\n",
       "      <th>clouds</th>\n",
       "      <th>visibility</th>\n",
       "      <th>wind_speed</th>\n",
       "      <th>wind_deg</th>\n",
       "      <th>wind_gust</th>\n",
       "      <th>weather</th>\n",
       "      <th>pop</th>\n",
       "    </tr>\n",
       "  </thead>\n",
       "  <tbody>\n",
       "    <tr>\n",
       "      <th>0</th>\n",
       "      <td>1632704400</td>\n",
       "      <td>29.85</td>\n",
       "      <td>35.64</td>\n",
       "      <td>1011</td>\n",
       "      <td>74</td>\n",
       "      <td>24.71</td>\n",
       "      <td>3.10</td>\n",
       "      <td>41</td>\n",
       "      <td>10000</td>\n",
       "      <td>4.14</td>\n",
       "      <td>76</td>\n",
       "      <td>4.15</td>\n",
       "      <td>[{'id': 802, 'main': 'Clouds', 'description': ...</td>\n",
       "      <td>0</td>\n",
       "    </tr>\n",
       "    <tr>\n",
       "      <th>1</th>\n",
       "      <td>1632708000</td>\n",
       "      <td>30.19</td>\n",
       "      <td>36.82</td>\n",
       "      <td>1011</td>\n",
       "      <td>75</td>\n",
       "      <td>25.26</td>\n",
       "      <td>5.90</td>\n",
       "      <td>40</td>\n",
       "      <td>10000</td>\n",
       "      <td>4.29</td>\n",
       "      <td>78</td>\n",
       "      <td>3.94</td>\n",
       "      <td>[{'id': 802, 'main': 'Clouds', 'description': ...</td>\n",
       "      <td>0</td>\n",
       "    </tr>\n",
       "    <tr>\n",
       "      <th>2</th>\n",
       "      <td>1632711600</td>\n",
       "      <td>29.98</td>\n",
       "      <td>35.99</td>\n",
       "      <td>1011</td>\n",
       "      <td>74</td>\n",
       "      <td>24.84</td>\n",
       "      <td>8.55</td>\n",
       "      <td>39</td>\n",
       "      <td>10000</td>\n",
       "      <td>4.20</td>\n",
       "      <td>85</td>\n",
       "      <td>3.74</td>\n",
       "      <td>[{'id': 802, 'main': 'Clouds', 'description': ...</td>\n",
       "      <td>0</td>\n",
       "    </tr>\n",
       "    <tr>\n",
       "      <th>3</th>\n",
       "      <td>1632715200</td>\n",
       "      <td>29.81</td>\n",
       "      <td>35.05</td>\n",
       "      <td>1011</td>\n",
       "      <td>72</td>\n",
       "      <td>24.22</td>\n",
       "      <td>9.36</td>\n",
       "      <td>37</td>\n",
       "      <td>10000</td>\n",
       "      <td>4.09</td>\n",
       "      <td>92</td>\n",
       "      <td>3.72</td>\n",
       "      <td>[{'id': 802, 'main': 'Clouds', 'description': ...</td>\n",
       "      <td>0</td>\n",
       "    </tr>\n",
       "    <tr>\n",
       "      <th>4</th>\n",
       "      <td>1632718800</td>\n",
       "      <td>29.58</td>\n",
       "      <td>34.26</td>\n",
       "      <td>1011</td>\n",
       "      <td>71</td>\n",
       "      <td>23.76</td>\n",
       "      <td>9.19</td>\n",
       "      <td>36</td>\n",
       "      <td>10000</td>\n",
       "      <td>4.04</td>\n",
       "      <td>98</td>\n",
       "      <td>3.77</td>\n",
       "      <td>[{'id': 802, 'main': 'Clouds', 'description': ...</td>\n",
       "      <td>0</td>\n",
       "    </tr>\n",
       "  </tbody>\n",
       "</table>\n",
       "</div>"
      ],
      "text/plain": [
       "           dt   temp  feels_like  pressure  humidity  dew_point   uvi  clouds  \\\n",
       "0  1632704400  29.85       35.64      1011        74      24.71  3.10      41   \n",
       "1  1632708000  30.19       36.82      1011        75      25.26  5.90      40   \n",
       "2  1632711600  29.98       35.99      1011        74      24.84  8.55      39   \n",
       "3  1632715200  29.81       35.05      1011        72      24.22  9.36      37   \n",
       "4  1632718800  29.58       34.26      1011        71      23.76  9.19      36   \n",
       "\n",
       "   visibility  wind_speed  wind_deg  wind_gust  \\\n",
       "0       10000        4.14        76       4.15   \n",
       "1       10000        4.29        78       3.94   \n",
       "2       10000        4.20        85       3.74   \n",
       "3       10000        4.09        92       3.72   \n",
       "4       10000        4.04        98       3.77   \n",
       "\n",
       "                                             weather  pop  \n",
       "0  [{'id': 802, 'main': 'Clouds', 'description': ...    0  \n",
       "1  [{'id': 802, 'main': 'Clouds', 'description': ...    0  \n",
       "2  [{'id': 802, 'main': 'Clouds', 'description': ...    0  \n",
       "3  [{'id': 802, 'main': 'Clouds', 'description': ...    0  \n",
       "4  [{'id': 802, 'main': 'Clouds', 'description': ...    0  "
      ]
     },
     "execution_count": 10,
     "metadata": {},
     "output_type": "execute_result"
    }
   ],
   "source": [
    "df_hourly.head()"
   ]
  },
  {
   "cell_type": "code",
   "execution_count": null,
   "metadata": {},
   "outputs": [],
   "source": []
  }
 ],
 "metadata": {
  "interpreter": {
   "hash": "c1b4cfe941b6d2466ad1fb5979e97da9cda8801728c8091b097ab734208fc00c"
  },
  "kernelspec": {
   "display_name": "Python 3.8.3 64-bit ('base': conda)",
   "name": "python3"
  },
  "language_info": {
   "codemirror_mode": {
    "name": "ipython",
    "version": 3
   },
   "file_extension": ".py",
   "mimetype": "text/x-python",
   "name": "python",
   "nbconvert_exporter": "python",
   "pygments_lexer": "ipython3",
   "version": "3.8.12"
  }
 },
 "nbformat": 4,
 "nbformat_minor": 2
}
