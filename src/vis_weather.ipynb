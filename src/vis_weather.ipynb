{
 "cells": [
  {
   "cell_type": "code",
   "execution_count": 1,
   "metadata": {
    "execution": {
     "iopub.execute_input": "2021-09-06T21:37:22.318888Z",
     "iopub.status.busy": "2021-09-06T21:37:22.318381Z",
     "iopub.status.idle": "2021-09-06T21:37:23.517972Z",
     "shell.execute_reply": "2021-09-06T21:37:23.517401Z"
    }
   },
   "outputs": [],
   "source": [
    "import json, yaml, requests\r\n",
    "from datetime import datetime\r\n",
    "from dateutil import tz\r\n",
    "import pandas as pd\r\n",
    "from PIL import Image\r\n",
    "from io import BytesIO\r\n",
    "import matplotlib.pyplot as plt\r\n",
    "import seaborn\r\n",
    "\r\n",
    "CONFIG_PATH = \"../config/config.yaml\""
   ]
  },
  {
   "cell_type": "code",
   "execution_count": 2,
   "metadata": {
    "execution": {
     "iopub.execute_input": "2021-09-06T21:37:23.525932Z",
     "iopub.status.busy": "2021-09-06T21:37:23.522948Z",
     "iopub.status.idle": "2021-09-06T21:37:23.528111Z",
     "shell.execute_reply": "2021-09-06T21:37:23.528467Z"
    }
   },
   "outputs": [],
   "source": [
    "with open('../newest_ts', 'r') as f:\r\n",
    "    newest_ts = f.read()\r\n",
    "\r\n",
    "data_path = f\"../data/data_{newest_ts}.json\"\r\n",
    "with open(data_path, 'r') as f:\r\n",
    "    data = json.load(f)\r\n",
    "\r\n",
    "with open(CONFIG_PATH, \"r\") as stream:\r\n",
    "    config = yaml.safe_load(stream)\r\n",
    "\r\n",
    "TIME_ZONE = config['time_zone']\r\n",
    "DATETIME_FORMAT = config['dt_format']"
   ]
  },
  {
   "cell_type": "code",
   "execution_count": 3,
   "metadata": {
    "execution": {
     "iopub.execute_input": "2021-09-06T21:37:23.532833Z",
     "iopub.status.busy": "2021-09-06T21:37:23.532352Z",
     "iopub.status.idle": "2021-09-06T21:37:23.536467Z",
     "shell.execute_reply": "2021-09-06T21:37:23.536063Z"
    }
   },
   "outputs": [
    {
     "name": "stdout",
     "output_type": "stream",
     "text": [
      "Recent query happens at 2021-09-07 05:37:19 (CST).\n"
     ]
    }
   ],
   "source": [
    "def ts2dt(ts, format=DATETIME_FORMAT):\r\n",
    "    dt = (datetime.utcfromtimestamp(int(ts))\r\n",
    "                    .replace(tzinfo=tz.tzutc())\r\n",
    "                    # .astimezone(tz.tzlocal())\r\n",
    "                    .astimezone(tz.gettz(TIME_ZONE)))\r\n",
    "    return dt.strftime(format), dt\r\n",
    "\r\n",
    "_, newest_dt = ts2dt(newest_ts)\r\n",
    "print(f\"Recent query happens at {newest_dt.strftime(DATETIME_FORMAT)} ({newest_dt.tzname()}).\")"
   ]
  },
  {
   "cell_type": "code",
   "execution_count": 4,
   "metadata": {
    "execution": {
     "iopub.execute_input": "2021-09-06T21:37:23.541088Z",
     "iopub.status.busy": "2021-09-06T21:37:23.540112Z",
     "iopub.status.idle": "2021-09-06T21:37:23.541617Z",
     "shell.execute_reply": "2021-09-06T21:37:23.541984Z"
    }
   },
   "outputs": [],
   "source": [
    "def degrees_to_cardinal(d):\r\n",
    "  dirs = ['N', 'NNE', 'NE', 'ENE', 'E', 'ESE', 'SE', 'SSE', 'S', 'SSW', 'SW', 'WSW', 'W', 'WNW', 'NW', 'NNW']\r\n",
    "  ix = int(round(d / (360. / len(dirs))))\r\n",
    "  return dirs[ix % len(dirs)]"
   ]
  },
  {
   "cell_type": "code",
   "execution_count": 5,
   "metadata": {
    "execution": {
     "iopub.execute_input": "2021-09-06T21:37:23.545148Z",
     "iopub.status.busy": "2021-09-06T21:37:23.544698Z",
     "iopub.status.idle": "2021-09-06T21:37:23.546694Z",
     "shell.execute_reply": "2021-09-06T21:37:23.546317Z"
    }
   },
   "outputs": [],
   "source": [
    "# data.keys()"
   ]
  },
  {
   "cell_type": "code",
   "execution_count": 6,
   "metadata": {
    "execution": {
     "iopub.execute_input": "2021-09-06T21:37:23.550176Z",
     "iopub.status.busy": "2021-09-06T21:37:23.549222Z",
     "iopub.status.idle": "2021-09-06T21:37:23.550700Z",
     "shell.execute_reply": "2021-09-06T21:37:23.551085Z"
    }
   },
   "outputs": [],
   "source": [
    "# data['current']"
   ]
  },
  {
   "cell_type": "code",
   "execution_count": 7,
   "metadata": {
    "execution": {
     "iopub.execute_input": "2021-09-06T21:37:23.566973Z",
     "iopub.status.busy": "2021-09-06T21:37:23.556474Z",
     "iopub.status.idle": "2021-09-06T21:37:24.065328Z",
     "shell.execute_reply": "2021-09-06T21:37:24.066022Z"
    }
   },
   "outputs": [
    {
     "data": {
      "image/png": "[encoded data removed]",
      "text/plain": [
       "<Figure size 216x216 with 1 Axes>"
      ]
     },
     "metadata": {
      "needs_background": "light"
     },
     "output_type": "display_data"
    },
    {
     "name": "stdout",
     "output_type": "stream",
     "text": [
      "Today, sun rises at 06:07 and sets at 18:34.\n",
      "Currently, the weather is Clouds (overcast clouds).\n",
      "The temperature is 28.41°C and it feels like 33.51°C.\n",
      "The UV index is 0, humidity is 82%.\n",
      "The pressure is 1010 hPa, percentage of cloud cover is 100%\n",
      "The wind comes from ENE direction with a speed 5.52 m/s.\n"
     ]
    }
   ],
   "source": [
    "current = data['current']\r\n",
    "\r\n",
    "fig, ax = plt.subplots(figsize=(3, 3))\r\n",
    "icon = requests.get(f\"http://openweathermap.org/img/wn/{current['weather'][0]['icon']}@2x.png\")\r\n",
    "im = Image.open(BytesIO(icon.content))\r\n",
    "plt.imshow(im)\r\n",
    "ax.set_axis_off()\r\n",
    "plt.show()\r\n",
    "\r\n",
    "print(f\"Today, sun rises at {ts2dt(current['sunrise'], '%H:%M')[0]} \\\r\n",
    "and sets at {ts2dt(current['sunset'], '%H:%M')[0]}.\\n\\\r\n",
    "Currently, the weather is {current['weather'][0]['main']} ({current['weather'][0]['description']}).\\n\\\r\n",
    "The temperature is {current['temp']}°C and it feels like {current['feels_like']}°C.\\n\\\r\n",
    "The UV index is {current['uvi']}, humidity is {current['humidity']}%.\\n\\\r\n",
    "The pressure is {current['pressure']} hPa, percentage of cloud cover is {current['clouds']}%\\n\\\r\n",
    "The wind comes from {degrees_to_cardinal(current['wind_deg'])} direction with a speed {current['wind_speed']} m/s.\")"
   ]
  },
  {
   "cell_type": "code",
   "execution_count": 8,
   "metadata": {
    "execution": {
     "iopub.execute_input": "2021-09-06T21:37:24.069318Z",
     "iopub.status.busy": "2021-09-06T21:37:24.068415Z",
     "iopub.status.idle": "2021-09-06T21:37:24.075187Z",
     "shell.execute_reply": "2021-09-06T21:37:24.075817Z"
    }
   },
   "outputs": [],
   "source": [
    "df_hourly = pd.DataFrame(data['hourly'])\r\n",
    "df_daily = pd.DataFrame(data['daily'])"
   ]
  },
  {
   "cell_type": "code",
   "execution_count": 9,
   "metadata": {
    "execution": {
     "iopub.execute_input": "2021-09-06T21:37:24.078725Z",
     "iopub.status.busy": "2021-09-06T21:37:24.077833Z",
     "iopub.status.idle": "2021-09-06T21:37:24.317853Z",
     "shell.execute_reply": "2021-09-06T21:37:24.317368Z"
    }
   },
   "outputs": [
    {
     "data": {
      "image/png": "[encoded data removed]",
      "text/plain": [
       "<Figure size 864x432 with 1 Axes>"
      ]
     },
     "metadata": {
      "needs_background": "light"
     },
     "output_type": "display_data"
    }
   ],
   "source": [
    "fig, ax = plt.subplots(figsize=(12, 6))\r\n",
    "plt.plot(df_hourly.temp, '.-', label='Temperature')\r\n",
    "plt.plot(df_hourly.feels_like, '.-', label='Feels Like')\r\n",
    "ax.set(title='Temperature in future 48 hours', xlabel='Time', ylabel='Temperature')\r\n",
    "ax.set_xticks(list(range(0, len(df_hourly), 2)))\r\n",
    "ax.set_xticklabels([ts2dt(ts, '%m-%d %H:%M')[0] for i, ts in enumerate(df_hourly.dt) if i%2==0], \r\n",
    "                   rotation=45, ha=\"right\")\r\n",
    "ax.locator_params(nbins=15, axis='y')\r\n",
    "plt.legend()\r\n",
    "plt.show()"
   ]
  },
  {
   "cell_type": "code",
   "execution_count": 10,
   "metadata": {
    "execution": {
     "iopub.execute_input": "2021-09-06T21:37:24.322371Z",
     "iopub.status.busy": "2021-09-06T21:37:24.321619Z",
     "iopub.status.idle": "2021-09-06T21:37:24.340424Z",
     "shell.execute_reply": "2021-09-06T21:37:24.341037Z"
    }
   },
   "outputs": [
    {
     "data": {
      "text/html": [
       "<div>\n",
       "<style scoped>\n",
       "    .dataframe tbody tr th:only-of-type {\n",
       "        vertical-align: middle;\n",
       "    }\n",
       "\n",
       "    .dataframe tbody tr th {\n",
       "        vertical-align: top;\n",
       "    }\n",
       "\n",
       "    .dataframe thead th {\n",
       "        text-align: right;\n",
       "    }\n",
       "</style>\n",
       "<table border=\"1\" class=\"dataframe\">\n",
       "  <thead>\n",
       "    <tr style=\"text-align: right;\">\n",
       "      <th></th>\n",
       "      <th>dt</th>\n",
       "      <th>temp</th>\n",
       "      <th>feels_like</th>\n",
       "      <th>pressure</th>\n",
       "      <th>humidity</th>\n",
       "      <th>dew_point</th>\n",
       "      <th>uvi</th>\n",
       "      <th>clouds</th>\n",
       "      <th>visibility</th>\n",
       "      <th>wind_speed</th>\n",
       "      <th>wind_deg</th>\n",
       "      <th>wind_gust</th>\n",
       "      <th>weather</th>\n",
       "      <th>pop</th>\n",
       "      <th>rain</th>\n",
       "    </tr>\n",
       "  </thead>\n",
       "  <tbody>\n",
       "    <tr>\n",
       "      <th>0</th>\n",
       "      <td>1630962000</td>\n",
       "      <td>28.20</td>\n",
       "      <td>33.11</td>\n",
       "      <td>1010</td>\n",
       "      <td>83</td>\n",
       "      <td>25.04</td>\n",
       "      <td>0.00</td>\n",
       "      <td>100</td>\n",
       "      <td>10000</td>\n",
       "      <td>5.30</td>\n",
       "      <td>72</td>\n",
       "      <td>6.87</td>\n",
       "      <td>[{'id': 500, 'main': 'Rain', 'description': 'l...</td>\n",
       "      <td>0.74</td>\n",
       "      <td>{'1h': 0.13}</td>\n",
       "    </tr>\n",
       "    <tr>\n",
       "      <th>1</th>\n",
       "      <td>1630965600</td>\n",
       "      <td>28.41</td>\n",
       "      <td>33.51</td>\n",
       "      <td>1010</td>\n",
       "      <td>82</td>\n",
       "      <td>25.04</td>\n",
       "      <td>0.00</td>\n",
       "      <td>100</td>\n",
       "      <td>10000</td>\n",
       "      <td>5.52</td>\n",
       "      <td>72</td>\n",
       "      <td>6.99</td>\n",
       "      <td>[{'id': 804, 'main': 'Clouds', 'description': ...</td>\n",
       "      <td>0.78</td>\n",
       "      <td>NaN</td>\n",
       "    </tr>\n",
       "    <tr>\n",
       "      <th>2</th>\n",
       "      <td>1630969200</td>\n",
       "      <td>28.22</td>\n",
       "      <td>33.17</td>\n",
       "      <td>1010</td>\n",
       "      <td>83</td>\n",
       "      <td>25.06</td>\n",
       "      <td>0.29</td>\n",
       "      <td>100</td>\n",
       "      <td>10000</td>\n",
       "      <td>5.51</td>\n",
       "      <td>70</td>\n",
       "      <td>7.08</td>\n",
       "      <td>[{'id': 804, 'main': 'Clouds', 'description': ...</td>\n",
       "      <td>0.74</td>\n",
       "      <td>NaN</td>\n",
       "    </tr>\n",
       "    <tr>\n",
       "      <th>3</th>\n",
       "      <td>1630972800</td>\n",
       "      <td>28.21</td>\n",
       "      <td>33.14</td>\n",
       "      <td>1010</td>\n",
       "      <td>83</td>\n",
       "      <td>25.05</td>\n",
       "      <td>1.45</td>\n",
       "      <td>98</td>\n",
       "      <td>10000</td>\n",
       "      <td>5.94</td>\n",
       "      <td>71</td>\n",
       "      <td>7.66</td>\n",
       "      <td>[{'id': 804, 'main': 'Clouds', 'description': ...</td>\n",
       "      <td>0.74</td>\n",
       "      <td>NaN</td>\n",
       "    </tr>\n",
       "    <tr>\n",
       "      <th>4</th>\n",
       "      <td>1630976400</td>\n",
       "      <td>28.52</td>\n",
       "      <td>33.44</td>\n",
       "      <td>1011</td>\n",
       "      <td>80</td>\n",
       "      <td>24.73</td>\n",
       "      <td>3.79</td>\n",
       "      <td>77</td>\n",
       "      <td>10000</td>\n",
       "      <td>6.11</td>\n",
       "      <td>72</td>\n",
       "      <td>7.46</td>\n",
       "      <td>[{'id': 500, 'main': 'Rain', 'description': 'l...</td>\n",
       "      <td>0.52</td>\n",
       "      <td>{'1h': 0.12}</td>\n",
       "    </tr>\n",
       "  </tbody>\n",
       "</table>\n",
       "</div>"
      ],
      "text/plain": [
       "           dt   temp  feels_like  pressure  humidity  dew_point   uvi  clouds  \\\n",
       "0  1630962000  28.20       33.11      1010        83      25.04  0.00     100   \n",
       "1  1630965600  28.41       33.51      1010        82      25.04  0.00     100   \n",
       "2  1630969200  28.22       33.17      1010        83      25.06  0.29     100   \n",
       "3  1630972800  28.21       33.14      1010        83      25.05  1.45      98   \n",
       "4  1630976400  28.52       33.44      1011        80      24.73  3.79      77   \n",
       "\n",
       "   visibility  wind_speed  wind_deg  wind_gust  \\\n",
       "0       10000        5.30        72       6.87   \n",
       "1       10000        5.52        72       6.99   \n",
       "2       10000        5.51        70       7.08   \n",
       "3       10000        5.94        71       7.66   \n",
       "4       10000        6.11        72       7.46   \n",
       "\n",
       "                                             weather   pop          rain  \n",
       "0  [{'id': 500, 'main': 'Rain', 'description': 'l...  0.74  {'1h': 0.13}  \n",
       "1  [{'id': 804, 'main': 'Clouds', 'description': ...  0.78           NaN  \n",
       "2  [{'id': 804, 'main': 'Clouds', 'description': ...  0.74           NaN  \n",
       "3  [{'id': 804, 'main': 'Clouds', 'description': ...  0.74           NaN  \n",
       "4  [{'id': 500, 'main': 'Rain', 'description': 'l...  0.52  {'1h': 0.12}  "
      ]
     },
     "execution_count": 10,
     "metadata": {},
     "output_type": "execute_result"
    }
   ],
   "source": [
    "df_hourly.head()"
   ]
  },
  {
   "cell_type": "code",
   "execution_count": null,
   "metadata": {},
   "outputs": [],
   "source": []
  }
 ],
 "metadata": {
  "interpreter": {
   "hash": "c1b4cfe941b6d2466ad1fb5979e97da9cda8801728c8091b097ab734208fc00c"
  },
  "kernelspec": {
   "display_name": "Python 3.8.3 64-bit ('base': conda)",
   "name": "python3"
  },
  "language_info": {
   "codemirror_mode": {
    "name": "ipython",
    "version": 3
   },
   "file_extension": ".py",
   "mimetype": "text/x-python",
   "name": "python",
   "nbconvert_exporter": "python",
   "pygments_lexer": "ipython3",
   "version": "3.8.11"
  }
 },
 "nbformat": 4,
 "nbformat_minor": 2
}
