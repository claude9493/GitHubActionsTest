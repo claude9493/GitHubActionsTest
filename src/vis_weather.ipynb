{
 "cells": [
  {
   "cell_type": "code",
   "execution_count": 1,
   "metadata": {
    "execution": {
     "iopub.execute_input": "2021-09-29T02:20:50.898336Z",
     "iopub.status.busy": "2021-09-29T02:20:50.897810Z",
     "iopub.status.idle": "2021-09-29T02:20:52.131814Z",
     "shell.execute_reply": "2021-09-29T02:20:52.132252Z"
    }
   },
   "outputs": [],
   "source": [
    "import json, yaml, requests\r\n",
    "from datetime import datetime\r\n",
    "from dateutil import tz\r\n",
    "import pandas as pd\r\n",
    "from PIL import Image\r\n",
    "from io import BytesIO\r\n",
    "import matplotlib.pyplot as plt\r\n",
    "import seaborn\r\n",
    "\r\n",
    "CONFIG_PATH = \"../config/config.yaml\""
   ]
  },
  {
   "cell_type": "code",
   "execution_count": 2,
   "metadata": {
    "execution": {
     "iopub.execute_input": "2021-09-29T02:20:52.139916Z",
     "iopub.status.busy": "2021-09-29T02:20:52.137036Z",
     "iopub.status.idle": "2021-09-29T02:20:52.142458Z",
     "shell.execute_reply": "2021-09-29T02:20:52.142071Z"
    }
   },
   "outputs": [],
   "source": [
    "with open('../newest_ts', 'r') as f:\r\n",
    "    newest_ts = f.read()\r\n",
    "\r\n",
    "data_path = f\"../data/data_{newest_ts}.json\"\r\n",
    "with open(data_path, 'r') as f:\r\n",
    "    data = json.load(f)\r\n",
    "\r\n",
    "with open(CONFIG_PATH, \"r\") as stream:\r\n",
    "    config = yaml.safe_load(stream)\r\n",
    "\r\n",
    "TIME_ZONE = config['time_zone']\r\n",
    "DATETIME_FORMAT = config['dt_format']"
   ]
  },
  {
   "cell_type": "code",
   "execution_count": 3,
   "metadata": {
    "execution": {
     "iopub.execute_input": "2021-09-29T02:20:52.146664Z",
     "iopub.status.busy": "2021-09-29T02:20:52.146206Z",
     "iopub.status.idle": "2021-09-29T02:20:52.150680Z",
     "shell.execute_reply": "2021-09-29T02:20:52.151050Z"
    }
   },
   "outputs": [
    {
     "name": "stdout",
     "output_type": "stream",
     "text": [
      "Recent query happens at 2021-09-29 10:20:48 (CST).\n"
     ]
    }
   ],
   "source": [
    "def ts2dt(ts, format=DATETIME_FORMAT):\r\n",
    "    dt = (datetime.utcfromtimestamp(int(ts))\r\n",
    "                    .replace(tzinfo=tz.tzutc())\r\n",
    "                    # .astimezone(tz.tzlocal())\r\n",
    "                    .astimezone(tz.gettz(TIME_ZONE)))\r\n",
    "    return dt.strftime(format), dt\r\n",
    "\r\n",
    "_, newest_dt = ts2dt(newest_ts)\r\n",
    "print(f\"Recent query happens at {newest_dt.strftime(DATETIME_FORMAT)} ({newest_dt.tzname()}).\")"
   ]
  },
  {
   "cell_type": "code",
   "execution_count": 4,
   "metadata": {
    "execution": {
     "iopub.execute_input": "2021-09-29T02:20:52.155886Z",
     "iopub.status.busy": "2021-09-29T02:20:52.154878Z",
     "iopub.status.idle": "2021-09-29T02:20:52.156407Z",
     "shell.execute_reply": "2021-09-29T02:20:52.156771Z"
    }
   },
   "outputs": [],
   "source": [
    "def degrees_to_cardinal(d):\r\n",
    "  dirs = ['N', 'NNE', 'NE', 'ENE', 'E', 'ESE', 'SE', 'SSE', 'S', 'SSW', 'SW', 'WSW', 'W', 'WNW', 'NW', 'NNW']\r\n",
    "  ix = int(round(d / (360. / len(dirs))))\r\n",
    "  return dirs[ix % len(dirs)]"
   ]
  },
  {
   "cell_type": "code",
   "execution_count": 5,
   "metadata": {
    "execution": {
     "iopub.execute_input": "2021-09-29T02:20:52.160562Z",
     "iopub.status.busy": "2021-09-29T02:20:52.159608Z",
     "iopub.status.idle": "2021-09-29T02:20:52.161637Z",
     "shell.execute_reply": "2021-09-29T02:20:52.161266Z"
    }
   },
   "outputs": [],
   "source": [
    "# data.keys()"
   ]
  },
  {
   "cell_type": "code",
   "execution_count": 6,
   "metadata": {
    "execution": {
     "iopub.execute_input": "2021-09-29T02:20:52.165320Z",
     "iopub.status.busy": "2021-09-29T02:20:52.164163Z",
     "iopub.status.idle": "2021-09-29T02:20:52.165844Z",
     "shell.execute_reply": "2021-09-29T02:20:52.166205Z"
    }
   },
   "outputs": [],
   "source": [
    "# data['current']"
   ]
  },
  {
   "cell_type": "code",
   "execution_count": 7,
   "metadata": {
    "execution": {
     "iopub.execute_input": "2021-09-29T02:20:52.187908Z",
     "iopub.status.busy": "2021-09-29T02:20:52.185493Z",
     "iopub.status.idle": "2021-09-29T02:20:52.569845Z",
     "shell.execute_reply": "2021-09-29T02:20:52.570290Z"
    }
   },
   "outputs": [
    {
     "data": {
      "image/png": "[encoded data removed]",
      "text/plain": [
       "<Figure size 216x216 with 1 Axes>"
      ]
     },
     "metadata": {
      "needs_background": "light"
     },
     "output_type": "display_data"
    },
    {
     "name": "stdout",
     "output_type": "stream",
     "text": [
      "Today, sun rises at 06:13 and sets at 18:12.\n",
      "Currently, the weather is Clear (clear sky).\n",
      "The temperature is 31.4°C and it feels like 38.4°C.\n",
      "The UV index is 5.57, humidity is 78%.\n",
      "The pressure is 1013 hPa, percentage of cloud cover is 1%\n",
      "The wind comes from SW direction with a speed 1.34 m/s.\n"
     ]
    }
   ],
   "source": [
    "current = data['current']\r\n",
    "\r\n",
    "fig, ax = plt.subplots(figsize=(3, 3))\r\n",
    "icon = requests.get(f\"http://openweathermap.org/img/wn/{current['weather'][0]['icon']}@2x.png\")\r\n",
    "im = Image.open(BytesIO(icon.content))\r\n",
    "plt.imshow(im)\r\n",
    "ax.set_axis_off()\r\n",
    "plt.show()\r\n",
    "\r\n",
    "print(f\"Today, sun rises at {ts2dt(current['sunrise'], '%H:%M')[0]} \\\r\n",
    "and sets at {ts2dt(current['sunset'], '%H:%M')[0]}.\\n\\\r\n",
    "Currently, the weather is {current['weather'][0]['main']} ({current['weather'][0]['description']}).\\n\\\r\n",
    "The temperature is {current['temp']}°C and it feels like {current['feels_like']}°C.\\n\\\r\n",
    "The UV index is {current['uvi']}, humidity is {current['humidity']}%.\\n\\\r\n",
    "The pressure is {current['pressure']} hPa, percentage of cloud cover is {current['clouds']}%\\n\\\r\n",
    "The wind comes from {degrees_to_cardinal(current['wind_deg'])} direction with a speed {current['wind_speed']} m/s.\")"
   ]
  },
  {
   "cell_type": "code",
   "execution_count": 8,
   "metadata": {
    "execution": {
     "iopub.execute_input": "2021-09-29T02:20:52.572979Z",
     "iopub.status.busy": "2021-09-29T02:20:52.572498Z",
     "iopub.status.idle": "2021-09-29T02:20:52.577888Z",
     "shell.execute_reply": "2021-09-29T02:20:52.578329Z"
    }
   },
   "outputs": [],
   "source": [
    "df_hourly = pd.DataFrame(data['hourly'])\r\n",
    "df_daily = pd.DataFrame(data['daily'])"
   ]
  },
  {
   "cell_type": "code",
   "execution_count": 9,
   "metadata": {
    "execution": {
     "iopub.execute_input": "2021-09-29T02:20:52.581038Z",
     "iopub.status.busy": "2021-09-29T02:20:52.580420Z",
     "iopub.status.idle": "2021-09-29T02:20:52.828081Z",
     "shell.execute_reply": "2021-09-29T02:20:52.827649Z"
    }
   },
   "outputs": [
    {
     "data": {
      "image/png": "[encoded data removed]",
      "text/plain": [
       "<Figure size 864x432 with 1 Axes>"
      ]
     },
     "metadata": {
      "needs_background": "light"
     },
     "output_type": "display_data"
    }
   ],
   "source": [
    "fig, ax = plt.subplots(figsize=(12, 6))\r\n",
    "plt.plot(df_hourly.temp, '.-', label='Temperature')\r\n",
    "plt.plot(df_hourly.feels_like, '.-', label='Feels Like')\r\n",
    "ax.set(title='Temperature in future 48 hours', xlabel='Time', ylabel='Temperature')\r\n",
    "ax.set_xticks(list(range(0, len(df_hourly), 2)))\r\n",
    "ax.set_xticklabels([ts2dt(ts, '%m-%d %H:%M')[0] for i, ts in enumerate(df_hourly.dt) if i%2==0], \r\n",
    "                   rotation=45, ha=\"right\")\r\n",
    "ax.locator_params(nbins=15, axis='y')\r\n",
    "plt.legend()\r\n",
    "plt.show()"
   ]
  },
  {
   "cell_type": "code",
   "execution_count": 10,
   "metadata": {
    "execution": {
     "iopub.execute_input": "2021-09-29T02:20:52.832776Z",
     "iopub.status.busy": "2021-09-29T02:20:52.832310Z",
     "iopub.status.idle": "2021-09-29T02:20:52.850591Z",
     "shell.execute_reply": "2021-09-29T02:20:52.850969Z"
    }
   },
   "outputs": [
    {
     "data": {
      "text/html": [
       "<div>\n",
       "<style scoped>\n",
       "    .dataframe tbody tr th:only-of-type {\n",
       "        vertical-align: middle;\n",
       "    }\n",
       "\n",
       "    .dataframe tbody tr th {\n",
       "        vertical-align: top;\n",
       "    }\n",
       "\n",
       "    .dataframe thead th {\n",
       "        text-align: right;\n",
       "    }\n",
       "</style>\n",
       "<table border=\"1\" class=\"dataframe\">\n",
       "  <thead>\n",
       "    <tr style=\"text-align: right;\">\n",
       "      <th></th>\n",
       "      <th>dt</th>\n",
       "      <th>temp</th>\n",
       "      <th>feels_like</th>\n",
       "      <th>pressure</th>\n",
       "      <th>humidity</th>\n",
       "      <th>dew_point</th>\n",
       "      <th>uvi</th>\n",
       "      <th>clouds</th>\n",
       "      <th>visibility</th>\n",
       "      <th>wind_speed</th>\n",
       "      <th>wind_deg</th>\n",
       "      <th>wind_gust</th>\n",
       "      <th>weather</th>\n",
       "      <th>pop</th>\n",
       "      <th>rain</th>\n",
       "    </tr>\n",
       "  </thead>\n",
       "  <tbody>\n",
       "    <tr>\n",
       "      <th>0</th>\n",
       "      <td>1632880800</td>\n",
       "      <td>31.40</td>\n",
       "      <td>38.40</td>\n",
       "      <td>1013</td>\n",
       "      <td>78</td>\n",
       "      <td>27.10</td>\n",
       "      <td>5.57</td>\n",
       "      <td>1</td>\n",
       "      <td>10000</td>\n",
       "      <td>1.90</td>\n",
       "      <td>213</td>\n",
       "      <td>1.93</td>\n",
       "      <td>[{'id': 800, 'main': 'Clear', 'description': '...</td>\n",
       "      <td>0.0</td>\n",
       "      <td>NaN</td>\n",
       "    </tr>\n",
       "    <tr>\n",
       "      <th>1</th>\n",
       "      <td>1632884400</td>\n",
       "      <td>31.16</td>\n",
       "      <td>38.16</td>\n",
       "      <td>1012</td>\n",
       "      <td>76</td>\n",
       "      <td>26.42</td>\n",
       "      <td>8.10</td>\n",
       "      <td>2</td>\n",
       "      <td>10000</td>\n",
       "      <td>2.29</td>\n",
       "      <td>215</td>\n",
       "      <td>2.30</td>\n",
       "      <td>[{'id': 500, 'main': 'Rain', 'description': 'l...</td>\n",
       "      <td>0.2</td>\n",
       "      <td>{'1h': 0.1}</td>\n",
       "    </tr>\n",
       "    <tr>\n",
       "      <th>2</th>\n",
       "      <td>1632888000</td>\n",
       "      <td>31.04</td>\n",
       "      <td>38.04</td>\n",
       "      <td>1011</td>\n",
       "      <td>74</td>\n",
       "      <td>25.86</td>\n",
       "      <td>9.51</td>\n",
       "      <td>4</td>\n",
       "      <td>10000</td>\n",
       "      <td>3.11</td>\n",
       "      <td>215</td>\n",
       "      <td>3.03</td>\n",
       "      <td>[{'id': 800, 'main': 'Clear', 'description': '...</td>\n",
       "      <td>0.0</td>\n",
       "      <td>NaN</td>\n",
       "    </tr>\n",
       "    <tr>\n",
       "      <th>3</th>\n",
       "      <td>1632891600</td>\n",
       "      <td>30.82</td>\n",
       "      <td>37.71</td>\n",
       "      <td>1010</td>\n",
       "      <td>72</td>\n",
       "      <td>25.18</td>\n",
       "      <td>9.34</td>\n",
       "      <td>9</td>\n",
       "      <td>10000</td>\n",
       "      <td>3.92</td>\n",
       "      <td>212</td>\n",
       "      <td>3.54</td>\n",
       "      <td>[{'id': 800, 'main': 'Clear', 'description': '...</td>\n",
       "      <td>0.0</td>\n",
       "      <td>NaN</td>\n",
       "    </tr>\n",
       "    <tr>\n",
       "      <th>4</th>\n",
       "      <td>1632895200</td>\n",
       "      <td>30.32</td>\n",
       "      <td>36.36</td>\n",
       "      <td>1008</td>\n",
       "      <td>72</td>\n",
       "      <td>24.70</td>\n",
       "      <td>7.62</td>\n",
       "      <td>15</td>\n",
       "      <td>10000</td>\n",
       "      <td>4.08</td>\n",
       "      <td>208</td>\n",
       "      <td>3.66</td>\n",
       "      <td>[{'id': 801, 'main': 'Clouds', 'description': ...</td>\n",
       "      <td>0.0</td>\n",
       "      <td>NaN</td>\n",
       "    </tr>\n",
       "  </tbody>\n",
       "</table>\n",
       "</div>"
      ],
      "text/plain": [
       "           dt   temp  feels_like  pressure  humidity  dew_point   uvi  clouds  \\\n",
       "0  1632880800  31.40       38.40      1013        78      27.10  5.57       1   \n",
       "1  1632884400  31.16       38.16      1012        76      26.42  8.10       2   \n",
       "2  1632888000  31.04       38.04      1011        74      25.86  9.51       4   \n",
       "3  1632891600  30.82       37.71      1010        72      25.18  9.34       9   \n",
       "4  1632895200  30.32       36.36      1008        72      24.70  7.62      15   \n",
       "\n",
       "   visibility  wind_speed  wind_deg  wind_gust  \\\n",
       "0       10000        1.90       213       1.93   \n",
       "1       10000        2.29       215       2.30   \n",
       "2       10000        3.11       215       3.03   \n",
       "3       10000        3.92       212       3.54   \n",
       "4       10000        4.08       208       3.66   \n",
       "\n",
       "                                             weather  pop         rain  \n",
       "0  [{'id': 800, 'main': 'Clear', 'description': '...  0.0          NaN  \n",
       "1  [{'id': 500, 'main': 'Rain', 'description': 'l...  0.2  {'1h': 0.1}  \n",
       "2  [{'id': 800, 'main': 'Clear', 'description': '...  0.0          NaN  \n",
       "3  [{'id': 800, 'main': 'Clear', 'description': '...  0.0          NaN  \n",
       "4  [{'id': 801, 'main': 'Clouds', 'description': ...  0.0          NaN  "
      ]
     },
     "execution_count": 10,
     "metadata": {},
     "output_type": "execute_result"
    }
   ],
   "source": [
    "df_hourly.head()"
   ]
  },
  {
   "cell_type": "code",
   "execution_count": null,
   "metadata": {},
   "outputs": [],
   "source": []
  }
 ],
 "metadata": {
  "interpreter": {
   "hash": "c1b4cfe941b6d2466ad1fb5979e97da9cda8801728c8091b097ab734208fc00c"
  },
  "kernelspec": {
   "display_name": "Python 3.8.3 64-bit ('base': conda)",
   "name": "python3"
  },
  "language_info": {
   "codemirror_mode": {
    "name": "ipython",
    "version": 3
   },
   "file_extension": ".py",
   "mimetype": "text/x-python",
   "name": "python",
   "nbconvert_exporter": "python",
   "pygments_lexer": "ipython3",
   "version": "3.8.12"
  }
 },
 "nbformat": 4,
 "nbformat_minor": 2
}
