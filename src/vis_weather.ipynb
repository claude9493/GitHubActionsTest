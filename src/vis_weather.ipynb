{
 "cells": [
  {
   "cell_type": "code",
   "execution_count": 1,
   "metadata": {
    "execution": {
     "iopub.execute_input": "2021-09-14T01:55:07.367267Z",
     "iopub.status.busy": "2021-09-14T01:55:07.366628Z",
     "iopub.status.idle": "2021-09-14T01:55:08.561472Z",
     "shell.execute_reply": "2021-09-14T01:55:08.560797Z"
    }
   },
   "outputs": [],
   "source": [
    "import json, yaml, requests\r\n",
    "from datetime import datetime\r\n",
    "from dateutil import tz\r\n",
    "import pandas as pd\r\n",
    "from PIL import Image\r\n",
    "from io import BytesIO\r\n",
    "import matplotlib.pyplot as plt\r\n",
    "import seaborn\r\n",
    "\r\n",
    "CONFIG_PATH = \"../config/config.yaml\""
   ]
  },
  {
   "cell_type": "code",
   "execution_count": 2,
   "metadata": {
    "execution": {
     "iopub.execute_input": "2021-09-14T01:55:08.566271Z",
     "iopub.status.busy": "2021-09-14T01:55:08.565643Z",
     "iopub.status.idle": "2021-09-14T01:55:08.571182Z",
     "shell.execute_reply": "2021-09-14T01:55:08.571507Z"
    }
   },
   "outputs": [],
   "source": [
    "with open('../newest_ts', 'r') as f:\r\n",
    "    newest_ts = f.read()\r\n",
    "\r\n",
    "data_path = f\"../data/data_{newest_ts}.json\"\r\n",
    "with open(data_path, 'r') as f:\r\n",
    "    data = json.load(f)\r\n",
    "\r\n",
    "with open(CONFIG_PATH, \"r\") as stream:\r\n",
    "    config = yaml.safe_load(stream)\r\n",
    "\r\n",
    "TIME_ZONE = config['time_zone']\r\n",
    "DATETIME_FORMAT = config['dt_format']"
   ]
  },
  {
   "cell_type": "code",
   "execution_count": 3,
   "metadata": {
    "execution": {
     "iopub.execute_input": "2021-09-14T01:55:08.575773Z",
     "iopub.status.busy": "2021-09-14T01:55:08.575351Z",
     "iopub.status.idle": "2021-09-14T01:55:08.579543Z",
     "shell.execute_reply": "2021-09-14T01:55:08.579884Z"
    }
   },
   "outputs": [
    {
     "name": "stdout",
     "output_type": "stream",
     "text": [
      "Recent query happens at 2021-09-14 09:55:04 (CST).\n"
     ]
    }
   ],
   "source": [
    "def ts2dt(ts, format=DATETIME_FORMAT):\r\n",
    "    dt = (datetime.utcfromtimestamp(int(ts))\r\n",
    "                    .replace(tzinfo=tz.tzutc())\r\n",
    "                    # .astimezone(tz.tzlocal())\r\n",
    "                    .astimezone(tz.gettz(TIME_ZONE)))\r\n",
    "    return dt.strftime(format), dt\r\n",
    "\r\n",
    "_, newest_dt = ts2dt(newest_ts)\r\n",
    "print(f\"Recent query happens at {newest_dt.strftime(DATETIME_FORMAT)} ({newest_dt.tzname()}).\")"
   ]
  },
  {
   "cell_type": "code",
   "execution_count": 4,
   "metadata": {
    "execution": {
     "iopub.execute_input": "2021-09-14T01:55:08.584403Z",
     "iopub.status.busy": "2021-09-14T01:55:08.583668Z",
     "iopub.status.idle": "2021-09-14T01:55:08.585175Z",
     "shell.execute_reply": "2021-09-14T01:55:08.585509Z"
    }
   },
   "outputs": [],
   "source": [
    "def degrees_to_cardinal(d):\r\n",
    "  dirs = ['N', 'NNE', 'NE', 'ENE', 'E', 'ESE', 'SE', 'SSE', 'S', 'SSW', 'SW', 'WSW', 'W', 'WNW', 'NW', 'NNW']\r\n",
    "  ix = int(round(d / (360. / len(dirs))))\r\n",
    "  return dirs[ix % len(dirs)]"
   ]
  },
  {
   "cell_type": "code",
   "execution_count": 5,
   "metadata": {
    "execution": {
     "iopub.execute_input": "2021-09-14T01:55:08.588975Z",
     "iopub.status.busy": "2021-09-14T01:55:08.588271Z",
     "iopub.status.idle": "2021-09-14T01:55:08.589771Z",
     "shell.execute_reply": "2021-09-14T01:55:08.590102Z"
    }
   },
   "outputs": [],
   "source": [
    "# data.keys()"
   ]
  },
  {
   "cell_type": "code",
   "execution_count": 6,
   "metadata": {
    "execution": {
     "iopub.execute_input": "2021-09-14T01:55:08.593284Z",
     "iopub.status.busy": "2021-09-14T01:55:08.592539Z",
     "iopub.status.idle": "2021-09-14T01:55:08.594014Z",
     "shell.execute_reply": "2021-09-14T01:55:08.594345Z"
    }
   },
   "outputs": [],
   "source": [
    "# data['current']"
   ]
  },
  {
   "cell_type": "code",
   "execution_count": 7,
   "metadata": {
    "execution": {
     "iopub.execute_input": "2021-09-14T01:55:08.609662Z",
     "iopub.status.busy": "2021-09-14T01:55:08.599466Z",
     "iopub.status.idle": "2021-09-14T01:55:08.885165Z",
     "shell.execute_reply": "2021-09-14T01:55:08.885799Z"
    }
   },
   "outputs": [
    {
     "data": {
      "image/png": "[encoded data removed]",
      "text/plain": [
       "<Figure size 216x216 with 1 Axes>"
      ]
     },
     "metadata": {
      "needs_background": "light"
     },
     "output_type": "display_data"
    },
    {
     "name": "stdout",
     "output_type": "stream",
     "text": [
      "Today, sun rises at 06:09 and sets at 18:28.\n",
      "Currently, the weather is Clouds (overcast clouds).\n",
      "The temperature is 30.51°C and it feels like 37.51°C.\n",
      "The UV index is 6.23, humidity is 80%.\n",
      "The pressure is 1012 hPa, percentage of cloud cover is 87%\n",
      "The wind comes from S direction with a speed 1.14 m/s.\n"
     ]
    }
   ],
   "source": [
    "current = data['current']\r\n",
    "\r\n",
    "fig, ax = plt.subplots(figsize=(3, 3))\r\n",
    "icon = requests.get(f\"http://openweathermap.org/img/wn/{current['weather'][0]['icon']}@2x.png\")\r\n",
    "im = Image.open(BytesIO(icon.content))\r\n",
    "plt.imshow(im)\r\n",
    "ax.set_axis_off()\r\n",
    "plt.show()\r\n",
    "\r\n",
    "print(f\"Today, sun rises at {ts2dt(current['sunrise'], '%H:%M')[0]} \\\r\n",
    "and sets at {ts2dt(current['sunset'], '%H:%M')[0]}.\\n\\\r\n",
    "Currently, the weather is {current['weather'][0]['main']} ({current['weather'][0]['description']}).\\n\\\r\n",
    "The temperature is {current['temp']}°C and it feels like {current['feels_like']}°C.\\n\\\r\n",
    "The UV index is {current['uvi']}, humidity is {current['humidity']}%.\\n\\\r\n",
    "The pressure is {current['pressure']} hPa, percentage of cloud cover is {current['clouds']}%\\n\\\r\n",
    "The wind comes from {degrees_to_cardinal(current['wind_deg'])} direction with a speed {current['wind_speed']} m/s.\")"
   ]
  },
  {
   "cell_type": "code",
   "execution_count": 8,
   "metadata": {
    "execution": {
     "iopub.execute_input": "2021-09-14T01:55:08.888708Z",
     "iopub.status.busy": "2021-09-14T01:55:08.887870Z",
     "iopub.status.idle": "2021-09-14T01:55:08.894425Z",
     "shell.execute_reply": "2021-09-14T01:55:08.895052Z"
    }
   },
   "outputs": [],
   "source": [
    "df_hourly = pd.DataFrame(data['hourly'])\r\n",
    "df_daily = pd.DataFrame(data['daily'])"
   ]
  },
  {
   "cell_type": "code",
   "execution_count": 9,
   "metadata": {
    "execution": {
     "iopub.execute_input": "2021-09-14T01:55:08.898034Z",
     "iopub.status.busy": "2021-09-14T01:55:08.897169Z",
     "iopub.status.idle": "2021-09-14T01:55:09.125322Z",
     "shell.execute_reply": "2021-09-14T01:55:09.124804Z"
    }
   },
   "outputs": [
    {
     "data": {
      "image/png": "[encoded data removed]",
      "text/plain": [
       "<Figure size 864x432 with 1 Axes>"
      ]
     },
     "metadata": {
      "needs_background": "light"
     },
     "output_type": "display_data"
    }
   ],
   "source": [
    "fig, ax = plt.subplots(figsize=(12, 6))\r\n",
    "plt.plot(df_hourly.temp, '.-', label='Temperature')\r\n",
    "plt.plot(df_hourly.feels_like, '.-', label='Feels Like')\r\n",
    "ax.set(title='Temperature in future 48 hours', xlabel='Time', ylabel='Temperature')\r\n",
    "ax.set_xticks(list(range(0, len(df_hourly), 2)))\r\n",
    "ax.set_xticklabels([ts2dt(ts, '%m-%d %H:%M')[0] for i, ts in enumerate(df_hourly.dt) if i%2==0], \r\n",
    "                   rotation=45, ha=\"right\")\r\n",
    "ax.locator_params(nbins=15, axis='y')\r\n",
    "plt.legend()\r\n",
    "plt.show()"
   ]
  },
  {
   "cell_type": "code",
   "execution_count": 10,
   "metadata": {
    "execution": {
     "iopub.execute_input": "2021-09-14T01:55:09.136033Z",
     "iopub.status.busy": "2021-09-14T01:55:09.129239Z",
     "iopub.status.idle": "2021-09-14T01:55:09.146333Z",
     "shell.execute_reply": "2021-09-14T01:55:09.145949Z"
    }
   },
   "outputs": [
    {
     "data": {
      "text/html": [
       "<div>\n",
       "<style scoped>\n",
       "    .dataframe tbody tr th:only-of-type {\n",
       "        vertical-align: middle;\n",
       "    }\n",
       "\n",
       "    .dataframe tbody tr th {\n",
       "        vertical-align: top;\n",
       "    }\n",
       "\n",
       "    .dataframe thead th {\n",
       "        text-align: right;\n",
       "    }\n",
       "</style>\n",
       "<table border=\"1\" class=\"dataframe\">\n",
       "  <thead>\n",
       "    <tr style=\"text-align: right;\">\n",
       "      <th></th>\n",
       "      <th>dt</th>\n",
       "      <th>temp</th>\n",
       "      <th>feels_like</th>\n",
       "      <th>pressure</th>\n",
       "      <th>humidity</th>\n",
       "      <th>dew_point</th>\n",
       "      <th>uvi</th>\n",
       "      <th>clouds</th>\n",
       "      <th>visibility</th>\n",
       "      <th>wind_speed</th>\n",
       "      <th>wind_deg</th>\n",
       "      <th>wind_gust</th>\n",
       "      <th>weather</th>\n",
       "      <th>pop</th>\n",
       "      <th>rain</th>\n",
       "    </tr>\n",
       "  </thead>\n",
       "  <tbody>\n",
       "    <tr>\n",
       "      <th>0</th>\n",
       "      <td>1631581200</td>\n",
       "      <td>30.41</td>\n",
       "      <td>37.41</td>\n",
       "      <td>1012</td>\n",
       "      <td>78</td>\n",
       "      <td>26.14</td>\n",
       "      <td>3.37</td>\n",
       "      <td>87</td>\n",
       "      <td>10000</td>\n",
       "      <td>1.03</td>\n",
       "      <td>174</td>\n",
       "      <td>1.17</td>\n",
       "      <td>[{'id': 804, 'main': 'Clouds', 'description': ...</td>\n",
       "      <td>0.39</td>\n",
       "      <td>NaN</td>\n",
       "    </tr>\n",
       "    <tr>\n",
       "      <th>1</th>\n",
       "      <td>1631584800</td>\n",
       "      <td>30.51</td>\n",
       "      <td>37.51</td>\n",
       "      <td>1012</td>\n",
       "      <td>80</td>\n",
       "      <td>26.66</td>\n",
       "      <td>6.23</td>\n",
       "      <td>87</td>\n",
       "      <td>10000</td>\n",
       "      <td>1.14</td>\n",
       "      <td>174</td>\n",
       "      <td>1.09</td>\n",
       "      <td>[{'id': 804, 'main': 'Clouds', 'description': ...</td>\n",
       "      <td>0.46</td>\n",
       "      <td>NaN</td>\n",
       "    </tr>\n",
       "    <tr>\n",
       "      <th>2</th>\n",
       "      <td>1631588400</td>\n",
       "      <td>30.66</td>\n",
       "      <td>37.66</td>\n",
       "      <td>1012</td>\n",
       "      <td>77</td>\n",
       "      <td>26.16</td>\n",
       "      <td>8.90</td>\n",
       "      <td>88</td>\n",
       "      <td>10000</td>\n",
       "      <td>1.39</td>\n",
       "      <td>174</td>\n",
       "      <td>1.34</td>\n",
       "      <td>[{'id': 804, 'main': 'Clouds', 'description': ...</td>\n",
       "      <td>0.48</td>\n",
       "      <td>NaN</td>\n",
       "    </tr>\n",
       "    <tr>\n",
       "      <th>3</th>\n",
       "      <td>1631592000</td>\n",
       "      <td>30.97</td>\n",
       "      <td>37.97</td>\n",
       "      <td>1012</td>\n",
       "      <td>73</td>\n",
       "      <td>25.56</td>\n",
       "      <td>9.86</td>\n",
       "      <td>89</td>\n",
       "      <td>10000</td>\n",
       "      <td>1.52</td>\n",
       "      <td>188</td>\n",
       "      <td>1.49</td>\n",
       "      <td>[{'id': 804, 'main': 'Clouds', 'description': ...</td>\n",
       "      <td>0.40</td>\n",
       "      <td>NaN</td>\n",
       "    </tr>\n",
       "    <tr>\n",
       "      <th>4</th>\n",
       "      <td>1631595600</td>\n",
       "      <td>31.24</td>\n",
       "      <td>37.94</td>\n",
       "      <td>1011</td>\n",
       "      <td>69</td>\n",
       "      <td>24.87</td>\n",
       "      <td>9.69</td>\n",
       "      <td>92</td>\n",
       "      <td>10000</td>\n",
       "      <td>2.29</td>\n",
       "      <td>193</td>\n",
       "      <td>1.98</td>\n",
       "      <td>[{'id': 804, 'main': 'Clouds', 'description': ...</td>\n",
       "      <td>0.41</td>\n",
       "      <td>NaN</td>\n",
       "    </tr>\n",
       "  </tbody>\n",
       "</table>\n",
       "</div>"
      ],
      "text/plain": [
       "           dt   temp  feels_like  pressure  humidity  dew_point   uvi  clouds  \\\n",
       "0  1631581200  30.41       37.41      1012        78      26.14  3.37      87   \n",
       "1  1631584800  30.51       37.51      1012        80      26.66  6.23      87   \n",
       "2  1631588400  30.66       37.66      1012        77      26.16  8.90      88   \n",
       "3  1631592000  30.97       37.97      1012        73      25.56  9.86      89   \n",
       "4  1631595600  31.24       37.94      1011        69      24.87  9.69      92   \n",
       "\n",
       "   visibility  wind_speed  wind_deg  wind_gust  \\\n",
       "0       10000        1.03       174       1.17   \n",
       "1       10000        1.14       174       1.09   \n",
       "2       10000        1.39       174       1.34   \n",
       "3       10000        1.52       188       1.49   \n",
       "4       10000        2.29       193       1.98   \n",
       "\n",
       "                                             weather   pop rain  \n",
       "0  [{'id': 804, 'main': 'Clouds', 'description': ...  0.39  NaN  \n",
       "1  [{'id': 804, 'main': 'Clouds', 'description': ...  0.46  NaN  \n",
       "2  [{'id': 804, 'main': 'Clouds', 'description': ...  0.48  NaN  \n",
       "3  [{'id': 804, 'main': 'Clouds', 'description': ...  0.40  NaN  \n",
       "4  [{'id': 804, 'main': 'Clouds', 'description': ...  0.41  NaN  "
      ]
     },
     "execution_count": 10,
     "metadata": {},
     "output_type": "execute_result"
    }
   ],
   "source": [
    "df_hourly.head()"
   ]
  },
  {
   "cell_type": "code",
   "execution_count": null,
   "metadata": {},
   "outputs": [],
   "source": []
  }
 ],
 "metadata": {
  "interpreter": {
   "hash": "c1b4cfe941b6d2466ad1fb5979e97da9cda8801728c8091b097ab734208fc00c"
  },
  "kernelspec": {
   "display_name": "Python 3.8.3 64-bit ('base': conda)",
   "name": "python3"
  },
  "language_info": {
   "codemirror_mode": {
    "name": "ipython",
    "version": 3
   },
   "file_extension": ".py",
   "mimetype": "text/x-python",
   "name": "python",
   "nbconvert_exporter": "python",
   "pygments_lexer": "ipython3",
   "version": "3.8.11"
  }
 },
 "nbformat": 4,
 "nbformat_minor": 2
}
