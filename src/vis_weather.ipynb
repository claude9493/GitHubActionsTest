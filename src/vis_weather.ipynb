{
 "cells": [
  {
   "cell_type": "code",
   "execution_count": 1,
   "metadata": {
    "execution": {
     "iopub.execute_input": "2021-09-12T08:40:26.680372Z",
     "iopub.status.busy": "2021-09-12T08:40:26.679648Z",
     "iopub.status.idle": "2021-09-12T08:40:31.261578Z",
     "shell.execute_reply": "2021-09-12T08:40:31.262044Z"
    }
   },
   "outputs": [],
   "source": [
    "import json, yaml, requests\r\n",
    "from datetime import datetime\r\n",
    "from dateutil import tz\r\n",
    "import pandas as pd\r\n",
    "from PIL import Image\r\n",
    "from io import BytesIO\r\n",
    "import matplotlib.pyplot as plt\r\n",
    "import seaborn\r\n",
    "\r\n",
    "CONFIG_PATH = \"../config/config.yaml\""
   ]
  },
  {
   "cell_type": "code",
   "execution_count": 2,
   "metadata": {
    "execution": {
     "iopub.execute_input": "2021-09-12T08:40:31.268189Z",
     "iopub.status.busy": "2021-09-12T08:40:31.267092Z",
     "iopub.status.idle": "2021-09-12T08:40:31.272936Z",
     "shell.execute_reply": "2021-09-12T08:40:31.272434Z"
    }
   },
   "outputs": [],
   "source": [
    "with open('../newest_ts', 'r') as f:\r\n",
    "    newest_ts = f.read()\r\n",
    "\r\n",
    "data_path = f\"../data/data_{newest_ts}.json\"\r\n",
    "with open(data_path, 'r') as f:\r\n",
    "    data = json.load(f)\r\n",
    "\r\n",
    "with open(CONFIG_PATH, \"r\") as stream:\r\n",
    "    config = yaml.safe_load(stream)\r\n",
    "\r\n",
    "TIME_ZONE = config['time_zone']\r\n",
    "DATETIME_FORMAT = config['dt_format']"
   ]
  },
  {
   "cell_type": "code",
   "execution_count": 3,
   "metadata": {
    "execution": {
     "iopub.execute_input": "2021-09-12T08:40:31.277845Z",
     "iopub.status.busy": "2021-09-12T08:40:31.277324Z",
     "iopub.status.idle": "2021-09-12T08:40:31.313796Z",
     "shell.execute_reply": "2021-09-12T08:40:31.314240Z"
    }
   },
   "outputs": [
    {
     "name": "stdout",
     "output_type": "stream",
     "text": [
      "Recent query happens at 2021-09-12 16:40:23 (CST).\n"
     ]
    }
   ],
   "source": [
    "def ts2dt(ts, format=DATETIME_FORMAT):\r\n",
    "    dt = (datetime.utcfromtimestamp(int(ts))\r\n",
    "                    .replace(tzinfo=tz.tzutc())\r\n",
    "                    # .astimezone(tz.tzlocal())\r\n",
    "                    .astimezone(tz.gettz(TIME_ZONE)))\r\n",
    "    return dt.strftime(format), dt\r\n",
    "\r\n",
    "_, newest_dt = ts2dt(newest_ts)\r\n",
    "print(f\"Recent query happens at {newest_dt.strftime(DATETIME_FORMAT)} ({newest_dt.tzname()}).\")"
   ]
  },
  {
   "cell_type": "code",
   "execution_count": 4,
   "metadata": {
    "execution": {
     "iopub.execute_input": "2021-09-12T08:40:31.320795Z",
     "iopub.status.busy": "2021-09-12T08:40:31.316974Z",
     "iopub.status.idle": "2021-09-12T08:40:31.322812Z",
     "shell.execute_reply": "2021-09-12T08:40:31.323242Z"
    }
   },
   "outputs": [],
   "source": [
    "def degrees_to_cardinal(d):\r\n",
    "  dirs = ['N', 'NNE', 'NE', 'ENE', 'E', 'ESE', 'SE', 'SSE', 'S', 'SSW', 'SW', 'WSW', 'W', 'WNW', 'NW', 'NNW']\r\n",
    "  ix = int(round(d / (360. / len(dirs))))\r\n",
    "  return dirs[ix % len(dirs)]"
   ]
  },
  {
   "cell_type": "code",
   "execution_count": 5,
   "metadata": {
    "execution": {
     "iopub.execute_input": "2021-09-12T08:40:31.328007Z",
     "iopub.status.busy": "2021-09-12T08:40:31.326722Z",
     "iopub.status.idle": "2021-09-12T08:40:31.328592Z",
     "shell.execute_reply": "2021-09-12T08:40:31.329017Z"
    }
   },
   "outputs": [],
   "source": [
    "# data.keys()"
   ]
  },
  {
   "cell_type": "code",
   "execution_count": 6,
   "metadata": {
    "execution": {
     "iopub.execute_input": "2021-09-12T08:40:31.333283Z",
     "iopub.status.busy": "2021-09-12T08:40:31.332045Z",
     "iopub.status.idle": "2021-09-12T08:40:31.333970Z",
     "shell.execute_reply": "2021-09-12T08:40:31.334424Z"
    }
   },
   "outputs": [],
   "source": [
    "# data['current']"
   ]
  },
  {
   "cell_type": "code",
   "execution_count": 7,
   "metadata": {
    "execution": {
     "iopub.execute_input": "2021-09-12T08:40:31.353286Z",
     "iopub.status.busy": "2021-09-12T08:40:31.352783Z",
     "iopub.status.idle": "2021-09-12T08:40:31.673929Z",
     "shell.execute_reply": "2021-09-12T08:40:31.674705Z"
    }
   },
   "outputs": [
    {
     "data": {
      "image/png": "[encoded data removed]",
      "text/plain": [
       "<Figure size 216x216 with 1 Axes>"
      ]
     },
     "metadata": {
      "needs_background": "light"
     },
     "output_type": "display_data"
    },
    {
     "name": "stdout",
     "output_type": "stream",
     "text": [
      "Today, sun rises at 06:08 and sets at 18:30.\n",
      "Currently, the weather is Clouds (overcast clouds).\n",
      "The temperature is 35.75°C and it feels like 42.75°C.\n",
      "The UV index is 0.69, humidity is 72%.\n",
      "The pressure is 1000 hPa, percentage of cloud cover is 99%\n",
      "The wind comes from SW direction with a speed 2.67 m/s.\n"
     ]
    }
   ],
   "source": [
    "current = data['current']\r\n",
    "\r\n",
    "fig, ax = plt.subplots(figsize=(3, 3))\r\n",
    "icon = requests.get(f\"http://openweathermap.org/img/wn/{current['weather'][0]['icon']}@2x.png\")\r\n",
    "im = Image.open(BytesIO(icon.content))\r\n",
    "plt.imshow(im)\r\n",
    "ax.set_axis_off()\r\n",
    "plt.show()\r\n",
    "\r\n",
    "print(f\"Today, sun rises at {ts2dt(current['sunrise'], '%H:%M')[0]} \\\r\n",
    "and sets at {ts2dt(current['sunset'], '%H:%M')[0]}.\\n\\\r\n",
    "Currently, the weather is {current['weather'][0]['main']} ({current['weather'][0]['description']}).\\n\\\r\n",
    "The temperature is {current['temp']}°C and it feels like {current['feels_like']}°C.\\n\\\r\n",
    "The UV index is {current['uvi']}, humidity is {current['humidity']}%.\\n\\\r\n",
    "The pressure is {current['pressure']} hPa, percentage of cloud cover is {current['clouds']}%\\n\\\r\n",
    "The wind comes from {degrees_to_cardinal(current['wind_deg'])} direction with a speed {current['wind_speed']} m/s.\")"
   ]
  },
  {
   "cell_type": "code",
   "execution_count": 8,
   "metadata": {
    "execution": {
     "iopub.execute_input": "2021-09-12T08:40:31.678173Z",
     "iopub.status.busy": "2021-09-12T08:40:31.677141Z",
     "iopub.status.idle": "2021-09-12T08:40:31.684522Z",
     "shell.execute_reply": "2021-09-12T08:40:31.685218Z"
    }
   },
   "outputs": [],
   "source": [
    "df_hourly = pd.DataFrame(data['hourly'])\r\n",
    "df_daily = pd.DataFrame(data['daily'])"
   ]
  },
  {
   "cell_type": "code",
   "execution_count": 9,
   "metadata": {
    "execution": {
     "iopub.execute_input": "2021-09-12T08:40:31.688425Z",
     "iopub.status.busy": "2021-09-12T08:40:31.687453Z",
     "iopub.status.idle": "2021-09-12T08:40:31.952922Z",
     "shell.execute_reply": "2021-09-12T08:40:31.953364Z"
    }
   },
   "outputs": [
    {
     "data": {
      "image/png": "[encoded data removed]",
      "text/plain": [
       "<Figure size 864x432 with 1 Axes>"
      ]
     },
     "metadata": {
      "needs_background": "light"
     },
     "output_type": "display_data"
    }
   ],
   "source": [
    "fig, ax = plt.subplots(figsize=(12, 6))\r\n",
    "plt.plot(df_hourly.temp, '.-', label='Temperature')\r\n",
    "plt.plot(df_hourly.feels_like, '.-', label='Feels Like')\r\n",
    "ax.set(title='Temperature in future 48 hours', xlabel='Time', ylabel='Temperature')\r\n",
    "ax.set_xticks(list(range(0, len(df_hourly), 2)))\r\n",
    "ax.set_xticklabels([ts2dt(ts, '%m-%d %H:%M')[0] for i, ts in enumerate(df_hourly.dt) if i%2==0], \r\n",
    "                   rotation=45, ha=\"right\")\r\n",
    "ax.locator_params(nbins=15, axis='y')\r\n",
    "plt.legend()\r\n",
    "plt.show()"
   ]
  },
  {
   "cell_type": "code",
   "execution_count": 10,
   "metadata": {
    "execution": {
     "iopub.execute_input": "2021-09-12T08:40:31.972826Z",
     "iopub.status.busy": "2021-09-12T08:40:31.965815Z",
     "iopub.status.idle": "2021-09-12T08:40:31.976883Z",
     "shell.execute_reply": "2021-09-12T08:40:31.977315Z"
    }
   },
   "outputs": [
    {
     "data": {
      "text/html": [
       "<div>\n",
       "<style scoped>\n",
       "    .dataframe tbody tr th:only-of-type {\n",
       "        vertical-align: middle;\n",
       "    }\n",
       "\n",
       "    .dataframe tbody tr th {\n",
       "        vertical-align: top;\n",
       "    }\n",
       "\n",
       "    .dataframe thead th {\n",
       "        text-align: right;\n",
       "    }\n",
       "</style>\n",
       "<table border=\"1\" class=\"dataframe\">\n",
       "  <thead>\n",
       "    <tr style=\"text-align: right;\">\n",
       "      <th></th>\n",
       "      <th>dt</th>\n",
       "      <th>temp</th>\n",
       "      <th>feels_like</th>\n",
       "      <th>pressure</th>\n",
       "      <th>humidity</th>\n",
       "      <th>dew_point</th>\n",
       "      <th>uvi</th>\n",
       "      <th>clouds</th>\n",
       "      <th>visibility</th>\n",
       "      <th>wind_speed</th>\n",
       "      <th>wind_deg</th>\n",
       "      <th>wind_gust</th>\n",
       "      <th>weather</th>\n",
       "      <th>pop</th>\n",
       "      <th>rain</th>\n",
       "    </tr>\n",
       "  </thead>\n",
       "  <tbody>\n",
       "    <tr>\n",
       "      <th>0</th>\n",
       "      <td>1631433600</td>\n",
       "      <td>34.88</td>\n",
       "      <td>41.88</td>\n",
       "      <td>1000</td>\n",
       "      <td>71</td>\n",
       "      <td>28.83</td>\n",
       "      <td>2.06</td>\n",
       "      <td>99</td>\n",
       "      <td>10000</td>\n",
       "      <td>3.31</td>\n",
       "      <td>213</td>\n",
       "      <td>3.71</td>\n",
       "      <td>[{'id': 804, 'main': 'Clouds', 'description': ...</td>\n",
       "      <td>0.04</td>\n",
       "      <td>NaN</td>\n",
       "    </tr>\n",
       "    <tr>\n",
       "      <th>1</th>\n",
       "      <td>1631437200</td>\n",
       "      <td>35.75</td>\n",
       "      <td>42.75</td>\n",
       "      <td>1000</td>\n",
       "      <td>72</td>\n",
       "      <td>29.91</td>\n",
       "      <td>0.69</td>\n",
       "      <td>99</td>\n",
       "      <td>10000</td>\n",
       "      <td>2.67</td>\n",
       "      <td>216</td>\n",
       "      <td>3.03</td>\n",
       "      <td>[{'id': 804, 'main': 'Clouds', 'description': ...</td>\n",
       "      <td>0.04</td>\n",
       "      <td>NaN</td>\n",
       "    </tr>\n",
       "    <tr>\n",
       "      <th>2</th>\n",
       "      <td>1631440800</td>\n",
       "      <td>34.70</td>\n",
       "      <td>41.70</td>\n",
       "      <td>1000</td>\n",
       "      <td>73</td>\n",
       "      <td>29.14</td>\n",
       "      <td>0.07</td>\n",
       "      <td>99</td>\n",
       "      <td>10000</td>\n",
       "      <td>2.93</td>\n",
       "      <td>225</td>\n",
       "      <td>3.12</td>\n",
       "      <td>[{'id': 804, 'main': 'Clouds', 'description': ...</td>\n",
       "      <td>0.00</td>\n",
       "      <td>NaN</td>\n",
       "    </tr>\n",
       "    <tr>\n",
       "      <th>3</th>\n",
       "      <td>1631444400</td>\n",
       "      <td>33.53</td>\n",
       "      <td>40.53</td>\n",
       "      <td>1000</td>\n",
       "      <td>73</td>\n",
       "      <td>28.02</td>\n",
       "      <td>0.00</td>\n",
       "      <td>99</td>\n",
       "      <td>10000</td>\n",
       "      <td>3.11</td>\n",
       "      <td>232</td>\n",
       "      <td>3.54</td>\n",
       "      <td>[{'id': 804, 'main': 'Clouds', 'description': ...</td>\n",
       "      <td>0.00</td>\n",
       "      <td>NaN</td>\n",
       "    </tr>\n",
       "    <tr>\n",
       "      <th>4</th>\n",
       "      <td>1631448000</td>\n",
       "      <td>32.35</td>\n",
       "      <td>39.35</td>\n",
       "      <td>1001</td>\n",
       "      <td>73</td>\n",
       "      <td>26.88</td>\n",
       "      <td>0.00</td>\n",
       "      <td>99</td>\n",
       "      <td>10000</td>\n",
       "      <td>2.84</td>\n",
       "      <td>236</td>\n",
       "      <td>3.34</td>\n",
       "      <td>[{'id': 804, 'main': 'Clouds', 'description': ...</td>\n",
       "      <td>0.00</td>\n",
       "      <td>NaN</td>\n",
       "    </tr>\n",
       "  </tbody>\n",
       "</table>\n",
       "</div>"
      ],
      "text/plain": [
       "           dt   temp  feels_like  pressure  humidity  dew_point   uvi  clouds  \\\n",
       "0  1631433600  34.88       41.88      1000        71      28.83  2.06      99   \n",
       "1  1631437200  35.75       42.75      1000        72      29.91  0.69      99   \n",
       "2  1631440800  34.70       41.70      1000        73      29.14  0.07      99   \n",
       "3  1631444400  33.53       40.53      1000        73      28.02  0.00      99   \n",
       "4  1631448000  32.35       39.35      1001        73      26.88  0.00      99   \n",
       "\n",
       "   visibility  wind_speed  wind_deg  wind_gust  \\\n",
       "0       10000        3.31       213       3.71   \n",
       "1       10000        2.67       216       3.03   \n",
       "2       10000        2.93       225       3.12   \n",
       "3       10000        3.11       232       3.54   \n",
       "4       10000        2.84       236       3.34   \n",
       "\n",
       "                                             weather   pop rain  \n",
       "0  [{'id': 804, 'main': 'Clouds', 'description': ...  0.04  NaN  \n",
       "1  [{'id': 804, 'main': 'Clouds', 'description': ...  0.04  NaN  \n",
       "2  [{'id': 804, 'main': 'Clouds', 'description': ...  0.00  NaN  \n",
       "3  [{'id': 804, 'main': 'Clouds', 'description': ...  0.00  NaN  \n",
       "4  [{'id': 804, 'main': 'Clouds', 'description': ...  0.00  NaN  "
      ]
     },
     "execution_count": 10,
     "metadata": {},
     "output_type": "execute_result"
    }
   ],
   "source": [
    "df_hourly.head()"
   ]
  },
  {
   "cell_type": "code",
   "execution_count": null,
   "metadata": {},
   "outputs": [],
   "source": []
  }
 ],
 "metadata": {
  "interpreter": {
   "hash": "c1b4cfe941b6d2466ad1fb5979e97da9cda8801728c8091b097ab734208fc00c"
  },
  "kernelspec": {
   "display_name": "Python 3.8.3 64-bit ('base': conda)",
   "name": "python3"
  },
  "language_info": {
   "codemirror_mode": {
    "name": "ipython",
    "version": 3
   },
   "file_extension": ".py",
   "mimetype": "text/x-python",
   "name": "python",
   "nbconvert_exporter": "python",
   "pygments_lexer": "ipython3",
   "version": "3.8.11"
  }
 },
 "nbformat": 4,
 "nbformat_minor": 2
}
