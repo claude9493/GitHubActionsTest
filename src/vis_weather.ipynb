{
 "cells": [
  {
   "cell_type": "code",
   "execution_count": 1,
   "metadata": {
    "execution": {
     "iopub.execute_input": "2021-09-20T22:11:27.572854Z",
     "iopub.status.busy": "2021-09-20T22:11:27.572286Z",
     "iopub.status.idle": "2021-09-20T22:11:31.311437Z",
     "shell.execute_reply": "2021-09-20T22:11:31.310469Z"
    }
   },
   "outputs": [],
   "source": [
    "import json, yaml, requests\r\n",
    "from datetime import datetime\r\n",
    "from dateutil import tz\r\n",
    "import pandas as pd\r\n",
    "from PIL import Image\r\n",
    "from io import BytesIO\r\n",
    "import matplotlib.pyplot as plt\r\n",
    "import seaborn\r\n",
    "\r\n",
    "CONFIG_PATH = \"../config/config.yaml\""
   ]
  },
  {
   "cell_type": "code",
   "execution_count": 2,
   "metadata": {
    "execution": {
     "iopub.execute_input": "2021-09-20T22:11:31.317152Z",
     "iopub.status.busy": "2021-09-20T22:11:31.316105Z",
     "iopub.status.idle": "2021-09-20T22:11:31.322917Z",
     "shell.execute_reply": "2021-09-20T22:11:31.322066Z"
    }
   },
   "outputs": [],
   "source": [
    "with open('../newest_ts', 'r') as f:\r\n",
    "    newest_ts = f.read()\r\n",
    "\r\n",
    "data_path = f\"../data/data_{newest_ts}.json\"\r\n",
    "with open(data_path, 'r') as f:\r\n",
    "    data = json.load(f)\r\n",
    "\r\n",
    "with open(CONFIG_PATH, \"r\") as stream:\r\n",
    "    config = yaml.safe_load(stream)\r\n",
    "\r\n",
    "TIME_ZONE = config['time_zone']\r\n",
    "DATETIME_FORMAT = config['dt_format']"
   ]
  },
  {
   "cell_type": "code",
   "execution_count": 3,
   "metadata": {
    "execution": {
     "iopub.execute_input": "2021-09-20T22:11:31.328603Z",
     "iopub.status.busy": "2021-09-20T22:11:31.328012Z",
     "iopub.status.idle": "2021-09-20T22:11:31.385659Z",
     "shell.execute_reply": "2021-09-20T22:11:31.386139Z"
    }
   },
   "outputs": [
    {
     "name": "stdout",
     "output_type": "stream",
     "text": [
      "Recent query happens at 2021-09-21 06:11:24 (CST).\n"
     ]
    }
   ],
   "source": [
    "def ts2dt(ts, format=DATETIME_FORMAT):\r\n",
    "    dt = (datetime.utcfromtimestamp(int(ts))\r\n",
    "                    .replace(tzinfo=tz.tzutc())\r\n",
    "                    # .astimezone(tz.tzlocal())\r\n",
    "                    .astimezone(tz.gettz(TIME_ZONE)))\r\n",
    "    return dt.strftime(format), dt\r\n",
    "\r\n",
    "_, newest_dt = ts2dt(newest_ts)\r\n",
    "print(f\"Recent query happens at {newest_dt.strftime(DATETIME_FORMAT)} ({newest_dt.tzname()}).\")"
   ]
  },
  {
   "cell_type": "code",
   "execution_count": 4,
   "metadata": {
    "execution": {
     "iopub.execute_input": "2021-09-20T22:11:31.390801Z",
     "iopub.status.busy": "2021-09-20T22:11:31.390264Z",
     "iopub.status.idle": "2021-09-20T22:11:31.393948Z",
     "shell.execute_reply": "2021-09-20T22:11:31.393333Z"
    }
   },
   "outputs": [],
   "source": [
    "def degrees_to_cardinal(d):\r\n",
    "  dirs = ['N', 'NNE', 'NE', 'ENE', 'E', 'ESE', 'SE', 'SSE', 'S', 'SSW', 'SW', 'WSW', 'W', 'WNW', 'NW', 'NNW']\r\n",
    "  ix = int(round(d / (360. / len(dirs))))\r\n",
    "  return dirs[ix % len(dirs)]"
   ]
  },
  {
   "cell_type": "code",
   "execution_count": 5,
   "metadata": {
    "execution": {
     "iopub.execute_input": "2021-09-20T22:11:31.398768Z",
     "iopub.status.busy": "2021-09-20T22:11:31.397433Z",
     "iopub.status.idle": "2021-09-20T22:11:31.399418Z",
     "shell.execute_reply": "2021-09-20T22:11:31.399854Z"
    }
   },
   "outputs": [],
   "source": [
    "# data.keys()"
   ]
  },
  {
   "cell_type": "code",
   "execution_count": 6,
   "metadata": {
    "execution": {
     "iopub.execute_input": "2021-09-20T22:11:31.404767Z",
     "iopub.status.busy": "2021-09-20T22:11:31.403026Z",
     "iopub.status.idle": "2021-09-20T22:11:31.405412Z",
     "shell.execute_reply": "2021-09-20T22:11:31.405855Z"
    }
   },
   "outputs": [],
   "source": [
    "# data['current']"
   ]
  },
  {
   "cell_type": "code",
   "execution_count": 7,
   "metadata": {
    "execution": {
     "iopub.execute_input": "2021-09-20T22:11:31.438198Z",
     "iopub.status.busy": "2021-09-20T22:11:31.435144Z",
     "iopub.status.idle": "2021-09-20T22:11:31.991525Z",
     "shell.execute_reply": "2021-09-20T22:11:31.992233Z"
    }
   },
   "outputs": [
    {
     "data": {
      "image/png": "[encoded data removed]",
      "text/plain": [
       "<Figure size 216x216 with 1 Axes>"
      ]
     },
     "metadata": {
      "needs_background": "light"
     },
     "output_type": "display_data"
    },
    {
     "name": "stdout",
     "output_type": "stream",
     "text": [
      "Today, sun rises at 06:11 and sets at 18:20.\n",
      "Currently, the weather is Clouds (scattered clouds).\n",
      "The temperature is 27.75°C and it feels like 31.91°C.\n",
      "The UV index is 0, humidity is 83%.\n",
      "The pressure is 1010 hPa, percentage of cloud cover is 33%\n",
      "The wind comes from NNE direction with a speed 0.91 m/s.\n"
     ]
    }
   ],
   "source": [
    "current = data['current']\r\n",
    "\r\n",
    "fig, ax = plt.subplots(figsize=(3, 3))\r\n",
    "icon = requests.get(f\"http://openweathermap.org/img/wn/{current['weather'][0]['icon']}@2x.png\")\r\n",
    "im = Image.open(BytesIO(icon.content))\r\n",
    "plt.imshow(im)\r\n",
    "ax.set_axis_off()\r\n",
    "plt.show()\r\n",
    "\r\n",
    "print(f\"Today, sun rises at {ts2dt(current['sunrise'], '%H:%M')[0]} \\\r\n",
    "and sets at {ts2dt(current['sunset'], '%H:%M')[0]}.\\n\\\r\n",
    "Currently, the weather is {current['weather'][0]['main']} ({current['weather'][0]['description']}).\\n\\\r\n",
    "The temperature is {current['temp']}°C and it feels like {current['feels_like']}°C.\\n\\\r\n",
    "The UV index is {current['uvi']}, humidity is {current['humidity']}%.\\n\\\r\n",
    "The pressure is {current['pressure']} hPa, percentage of cloud cover is {current['clouds']}%\\n\\\r\n",
    "The wind comes from {degrees_to_cardinal(current['wind_deg'])} direction with a speed {current['wind_speed']} m/s.\")"
   ]
  },
  {
   "cell_type": "code",
   "execution_count": 8,
   "metadata": {
    "execution": {
     "iopub.execute_input": "2021-09-20T22:11:31.995995Z",
     "iopub.status.busy": "2021-09-20T22:11:31.994919Z",
     "iopub.status.idle": "2021-09-20T22:11:32.002489Z",
     "shell.execute_reply": "2021-09-20T22:11:32.003215Z"
    }
   },
   "outputs": [],
   "source": [
    "df_hourly = pd.DataFrame(data['hourly'])\r\n",
    "df_daily = pd.DataFrame(data['daily'])"
   ]
  },
  {
   "cell_type": "code",
   "execution_count": 9,
   "metadata": {
    "execution": {
     "iopub.execute_input": "2021-09-20T22:11:32.006514Z",
     "iopub.status.busy": "2021-09-20T22:11:32.005481Z",
     "iopub.status.idle": "2021-09-20T22:11:32.326005Z",
     "shell.execute_reply": "2021-09-20T22:11:32.325476Z"
    }
   },
   "outputs": [
    {
     "data": {
      "image/png": "[encoded data removed]",
      "text/plain": [
       "<Figure size 864x432 with 1 Axes>"
      ]
     },
     "metadata": {
      "needs_background": "light"
     },
     "output_type": "display_data"
    }
   ],
   "source": [
    "fig, ax = plt.subplots(figsize=(12, 6))\r\n",
    "plt.plot(df_hourly.temp, '.-', label='Temperature')\r\n",
    "plt.plot(df_hourly.feels_like, '.-', label='Feels Like')\r\n",
    "ax.set(title='Temperature in future 48 hours', xlabel='Time', ylabel='Temperature')\r\n",
    "ax.set_xticks(list(range(0, len(df_hourly), 2)))\r\n",
    "ax.set_xticklabels([ts2dt(ts, '%m-%d %H:%M')[0] for i, ts in enumerate(df_hourly.dt) if i%2==0], \r\n",
    "                   rotation=45, ha=\"right\")\r\n",
    "ax.locator_params(nbins=15, axis='y')\r\n",
    "plt.legend()\r\n",
    "plt.show()"
   ]
  },
  {
   "cell_type": "code",
   "execution_count": 10,
   "metadata": {
    "execution": {
     "iopub.execute_input": "2021-09-20T22:11:32.330804Z",
     "iopub.status.busy": "2021-09-20T22:11:32.330220Z",
     "iopub.status.idle": "2021-09-20T22:11:32.349313Z",
     "shell.execute_reply": "2021-09-20T22:11:32.349913Z"
    }
   },
   "outputs": [
    {
     "data": {
      "text/html": [
       "<div>\n",
       "<style scoped>\n",
       "    .dataframe tbody tr th:only-of-type {\n",
       "        vertical-align: middle;\n",
       "    }\n",
       "\n",
       "    .dataframe tbody tr th {\n",
       "        vertical-align: top;\n",
       "    }\n",
       "\n",
       "    .dataframe thead th {\n",
       "        text-align: right;\n",
       "    }\n",
       "</style>\n",
       "<table border=\"1\" class=\"dataframe\">\n",
       "  <thead>\n",
       "    <tr style=\"text-align: right;\">\n",
       "      <th></th>\n",
       "      <th>dt</th>\n",
       "      <th>temp</th>\n",
       "      <th>feels_like</th>\n",
       "      <th>pressure</th>\n",
       "      <th>humidity</th>\n",
       "      <th>dew_point</th>\n",
       "      <th>uvi</th>\n",
       "      <th>clouds</th>\n",
       "      <th>visibility</th>\n",
       "      <th>wind_speed</th>\n",
       "      <th>wind_deg</th>\n",
       "      <th>wind_gust</th>\n",
       "      <th>weather</th>\n",
       "      <th>pop</th>\n",
       "      <th>rain</th>\n",
       "    </tr>\n",
       "  </thead>\n",
       "  <tbody>\n",
       "    <tr>\n",
       "      <th>0</th>\n",
       "      <td>1632175200</td>\n",
       "      <td>27.75</td>\n",
       "      <td>31.91</td>\n",
       "      <td>1010</td>\n",
       "      <td>83</td>\n",
       "      <td>24.60</td>\n",
       "      <td>0.00</td>\n",
       "      <td>33</td>\n",
       "      <td>10000</td>\n",
       "      <td>0.91</td>\n",
       "      <td>32</td>\n",
       "      <td>1.08</td>\n",
       "      <td>[{'id': 802, 'main': 'Clouds', 'description': ...</td>\n",
       "      <td>0.18</td>\n",
       "      <td>NaN</td>\n",
       "    </tr>\n",
       "    <tr>\n",
       "      <th>1</th>\n",
       "      <td>1632178800</td>\n",
       "      <td>27.71</td>\n",
       "      <td>31.80</td>\n",
       "      <td>1010</td>\n",
       "      <td>83</td>\n",
       "      <td>24.56</td>\n",
       "      <td>0.21</td>\n",
       "      <td>32</td>\n",
       "      <td>10000</td>\n",
       "      <td>1.16</td>\n",
       "      <td>8</td>\n",
       "      <td>1.15</td>\n",
       "      <td>[{'id': 802, 'main': 'Clouds', 'description': ...</td>\n",
       "      <td>0.43</td>\n",
       "      <td>NaN</td>\n",
       "    </tr>\n",
       "    <tr>\n",
       "      <th>2</th>\n",
       "      <td>1632182400</td>\n",
       "      <td>27.95</td>\n",
       "      <td>32.13</td>\n",
       "      <td>1010</td>\n",
       "      <td>81</td>\n",
       "      <td>24.38</td>\n",
       "      <td>1.19</td>\n",
       "      <td>31</td>\n",
       "      <td>10000</td>\n",
       "      <td>1.02</td>\n",
       "      <td>4</td>\n",
       "      <td>0.93</td>\n",
       "      <td>[{'id': 500, 'main': 'Rain', 'description': 'l...</td>\n",
       "      <td>0.64</td>\n",
       "      <td>{'1h': 0.1}</td>\n",
       "    </tr>\n",
       "    <tr>\n",
       "      <th>3</th>\n",
       "      <td>1632186000</td>\n",
       "      <td>28.63</td>\n",
       "      <td>33.16</td>\n",
       "      <td>1011</td>\n",
       "      <td>77</td>\n",
       "      <td>24.20</td>\n",
       "      <td>3.22</td>\n",
       "      <td>21</td>\n",
       "      <td>10000</td>\n",
       "      <td>0.51</td>\n",
       "      <td>43</td>\n",
       "      <td>0.69</td>\n",
       "      <td>[{'id': 500, 'main': 'Rain', 'description': 'l...</td>\n",
       "      <td>0.42</td>\n",
       "      <td>{'1h': 0.26}</td>\n",
       "    </tr>\n",
       "    <tr>\n",
       "      <th>4</th>\n",
       "      <td>1632189600</td>\n",
       "      <td>29.56</td>\n",
       "      <td>34.21</td>\n",
       "      <td>1011</td>\n",
       "      <td>71</td>\n",
       "      <td>23.74</td>\n",
       "      <td>6.06</td>\n",
       "      <td>15</td>\n",
       "      <td>10000</td>\n",
       "      <td>0.88</td>\n",
       "      <td>96</td>\n",
       "      <td>1.01</td>\n",
       "      <td>[{'id': 801, 'main': 'Clouds', 'description': ...</td>\n",
       "      <td>0.34</td>\n",
       "      <td>NaN</td>\n",
       "    </tr>\n",
       "  </tbody>\n",
       "</table>\n",
       "</div>"
      ],
      "text/plain": [
       "           dt   temp  feels_like  pressure  humidity  dew_point   uvi  clouds  \\\n",
       "0  1632175200  27.75       31.91      1010        83      24.60  0.00      33   \n",
       "1  1632178800  27.71       31.80      1010        83      24.56  0.21      32   \n",
       "2  1632182400  27.95       32.13      1010        81      24.38  1.19      31   \n",
       "3  1632186000  28.63       33.16      1011        77      24.20  3.22      21   \n",
       "4  1632189600  29.56       34.21      1011        71      23.74  6.06      15   \n",
       "\n",
       "   visibility  wind_speed  wind_deg  wind_gust  \\\n",
       "0       10000        0.91        32       1.08   \n",
       "1       10000        1.16         8       1.15   \n",
       "2       10000        1.02         4       0.93   \n",
       "3       10000        0.51        43       0.69   \n",
       "4       10000        0.88        96       1.01   \n",
       "\n",
       "                                             weather   pop          rain  \n",
       "0  [{'id': 802, 'main': 'Clouds', 'description': ...  0.18           NaN  \n",
       "1  [{'id': 802, 'main': 'Clouds', 'description': ...  0.43           NaN  \n",
       "2  [{'id': 500, 'main': 'Rain', 'description': 'l...  0.64   {'1h': 0.1}  \n",
       "3  [{'id': 500, 'main': 'Rain', 'description': 'l...  0.42  {'1h': 0.26}  \n",
       "4  [{'id': 801, 'main': 'Clouds', 'description': ...  0.34           NaN  "
      ]
     },
     "execution_count": 10,
     "metadata": {},
     "output_type": "execute_result"
    }
   ],
   "source": [
    "df_hourly.head()"
   ]
  },
  {
   "cell_type": "code",
   "execution_count": null,
   "metadata": {},
   "outputs": [],
   "source": []
  }
 ],
 "metadata": {
  "interpreter": {
   "hash": "c1b4cfe941b6d2466ad1fb5979e97da9cda8801728c8091b097ab734208fc00c"
  },
  "kernelspec": {
   "display_name": "Python 3.8.3 64-bit ('base': conda)",
   "name": "python3"
  },
  "language_info": {
   "codemirror_mode": {
    "name": "ipython",
    "version": 3
   },
   "file_extension": ".py",
   "mimetype": "text/x-python",
   "name": "python",
   "nbconvert_exporter": "python",
   "pygments_lexer": "ipython3",
   "version": "3.8.11"
  }
 },
 "nbformat": 4,
 "nbformat_minor": 2
}
