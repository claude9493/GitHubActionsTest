{
 "cells": [
  {
   "cell_type": "code",
   "execution_count": 1,
   "metadata": {
    "execution": {
     "iopub.execute_input": "2021-10-11T03:12:24.694647Z",
     "iopub.status.busy": "2021-10-11T03:12:24.693967Z",
     "iopub.status.idle": "2021-10-11T03:12:26.207330Z",
     "shell.execute_reply": "2021-10-11T03:12:26.206185Z"
    }
   },
   "outputs": [],
   "source": [
    "import json, yaml, requests\r\n",
    "from datetime import datetime\r\n",
    "from dateutil import tz\r\n",
    "import pandas as pd\r\n",
    "from PIL import Image\r\n",
    "from io import BytesIO\r\n",
    "import matplotlib.pyplot as plt\r\n",
    "import seaborn\r\n",
    "\r\n",
    "CONFIG_PATH = \"../config/config.yaml\""
   ]
  },
  {
   "cell_type": "code",
   "execution_count": 2,
   "metadata": {
    "execution": {
     "iopub.execute_input": "2021-10-11T03:12:26.213388Z",
     "iopub.status.busy": "2021-10-11T03:12:26.212797Z",
     "iopub.status.idle": "2021-10-11T03:12:26.217863Z",
     "shell.execute_reply": "2021-10-11T03:12:26.218625Z"
    }
   },
   "outputs": [],
   "source": [
    "with open('../newest_ts', 'r') as f:\r\n",
    "    newest_ts = f.read()\r\n",
    "\r\n",
    "data_path = f\"../data/data_{newest_ts}.json\"\r\n",
    "with open(data_path, 'r') as f:\r\n",
    "    data = json.load(f)\r\n",
    "\r\n",
    "with open(CONFIG_PATH, \"r\") as stream:\r\n",
    "    config = yaml.safe_load(stream)\r\n",
    "\r\n",
    "TIME_ZONE = config['time_zone']\r\n",
    "DATETIME_FORMAT = config['dt_format']"
   ]
  },
  {
   "cell_type": "code",
   "execution_count": 3,
   "metadata": {
    "execution": {
     "iopub.execute_input": "2021-10-11T03:12:26.225015Z",
     "iopub.status.busy": "2021-10-11T03:12:26.224032Z",
     "iopub.status.idle": "2021-10-11T03:12:26.237454Z",
     "shell.execute_reply": "2021-10-11T03:12:26.236963Z"
    }
   },
   "outputs": [
    {
     "name": "stdout",
     "output_type": "stream",
     "text": [
      "Recent query happens at 2021-10-11 11:12:20 (CST).\n"
     ]
    }
   ],
   "source": [
    "def ts2dt(ts, format=DATETIME_FORMAT):\r\n",
    "    dt = (datetime.utcfromtimestamp(int(ts))\r\n",
    "                    .replace(tzinfo=tz.tzutc())\r\n",
    "                    # .astimezone(tz.tzlocal())\r\n",
    "                    .astimezone(tz.gettz(TIME_ZONE)))\r\n",
    "    return dt.strftime(format), dt\r\n",
    "\r\n",
    "_, newest_dt = ts2dt(newest_ts)\r\n",
    "print(f\"Recent query happens at {newest_dt.strftime(DATETIME_FORMAT)} ({newest_dt.tzname()}).\")"
   ]
  },
  {
   "cell_type": "code",
   "execution_count": 4,
   "metadata": {
    "execution": {
     "iopub.execute_input": "2021-10-11T03:12:26.243990Z",
     "iopub.status.busy": "2021-10-11T03:12:26.242485Z",
     "iopub.status.idle": "2021-10-11T03:12:26.244534Z",
     "shell.execute_reply": "2021-10-11T03:12:26.244979Z"
    }
   },
   "outputs": [],
   "source": [
    "def degrees_to_cardinal(d):\r\n",
    "  dirs = ['N', 'NNE', 'NE', 'ENE', 'E', 'ESE', 'SE', 'SSE', 'S', 'SSW', 'SW', 'WSW', 'W', 'WNW', 'NW', 'NNW']\r\n",
    "  ix = int(round(d / (360. / len(dirs))))\r\n",
    "  return dirs[ix % len(dirs)]"
   ]
  },
  {
   "cell_type": "code",
   "execution_count": 5,
   "metadata": {
    "execution": {
     "iopub.execute_input": "2021-10-11T03:12:26.249898Z",
     "iopub.status.busy": "2021-10-11T03:12:26.248517Z",
     "iopub.status.idle": "2021-10-11T03:12:26.250727Z",
     "shell.execute_reply": "2021-10-11T03:12:26.251251Z"
    }
   },
   "outputs": [],
   "source": [
    "# data.keys()"
   ]
  },
  {
   "cell_type": "code",
   "execution_count": 6,
   "metadata": {
    "execution": {
     "iopub.execute_input": "2021-10-11T03:12:26.256500Z",
     "iopub.status.busy": "2021-10-11T03:12:26.255027Z",
     "iopub.status.idle": "2021-10-11T03:12:26.257073Z",
     "shell.execute_reply": "2021-10-11T03:12:26.257719Z"
    }
   },
   "outputs": [],
   "source": [
    "# data['current']"
   ]
  },
  {
   "cell_type": "code",
   "execution_count": 7,
   "metadata": {
    "execution": {
     "iopub.execute_input": "2021-10-11T03:12:26.279139Z",
     "iopub.status.busy": "2021-10-11T03:12:26.278521Z",
     "iopub.status.idle": "2021-10-11T03:12:26.704250Z",
     "shell.execute_reply": "2021-10-11T03:12:26.705140Z"
    }
   },
   "outputs": [
    {
     "data": {
      "image/png": "[encoded data removed]",
      "text/plain": [
       "<Figure size 216x216 with 1 Axes>"
      ]
     },
     "metadata": {
      "needs_background": "light"
     },
     "output_type": "display_data"
    },
    {
     "name": "stdout",
     "output_type": "stream",
     "text": [
      "Today, sun rises at 06:17 and sets at 18:01.\n",
      "Currently, the weather is Clouds (scattered clouds).\n",
      "The temperature is 30.63°C and it feels like 34.31°C.\n",
      "The UV index is 7.47, humidity is 61%.\n",
      "The pressure is 1009 hPa, percentage of cloud cover is 43%\n",
      "The wind comes from N direction with a speed 4.92 m/s.\n"
     ]
    }
   ],
   "source": [
    "current = data['current']\r\n",
    "\r\n",
    "fig, ax = plt.subplots(figsize=(3, 3))\r\n",
    "icon = requests.get(f\"http://openweathermap.org/img/wn/{current['weather'][0]['icon']}@2x.png\")\r\n",
    "im = Image.open(BytesIO(icon.content))\r\n",
    "plt.imshow(im)\r\n",
    "ax.set_axis_off()\r\n",
    "plt.show()\r\n",
    "\r\n",
    "print(f\"Today, sun rises at {ts2dt(current['sunrise'], '%H:%M')[0]} \\\r\n",
    "and sets at {ts2dt(current['sunset'], '%H:%M')[0]}.\\n\\\r\n",
    "Currently, the weather is {current['weather'][0]['main']} ({current['weather'][0]['description']}).\\n\\\r\n",
    "The temperature is {current['temp']}°C and it feels like {current['feels_like']}°C.\\n\\\r\n",
    "The UV index is {current['uvi']}, humidity is {current['humidity']}%.\\n\\\r\n",
    "The pressure is {current['pressure']} hPa, percentage of cloud cover is {current['clouds']}%\\n\\\r\n",
    "The wind comes from {degrees_to_cardinal(current['wind_deg'])} direction with a speed {current['wind_speed']} m/s.\")"
   ]
  },
  {
   "cell_type": "code",
   "execution_count": 8,
   "metadata": {
    "execution": {
     "iopub.execute_input": "2021-10-11T03:12:26.708736Z",
     "iopub.status.busy": "2021-10-11T03:12:26.707669Z",
     "iopub.status.idle": "2021-10-11T03:12:26.716021Z",
     "shell.execute_reply": "2021-10-11T03:12:26.716795Z"
    }
   },
   "outputs": [],
   "source": [
    "df_hourly = pd.DataFrame(data['hourly'])\r\n",
    "df_daily = pd.DataFrame(data['daily'])"
   ]
  },
  {
   "cell_type": "code",
   "execution_count": 9,
   "metadata": {
    "execution": {
     "iopub.execute_input": "2021-10-11T03:12:26.720608Z",
     "iopub.status.busy": "2021-10-11T03:12:26.719394Z",
     "iopub.status.idle": "2021-10-11T03:12:27.067521Z",
     "shell.execute_reply": "2021-10-11T03:12:27.068066Z"
    }
   },
   "outputs": [
    {
     "data": {
      "image/png": "[encoded data removed]",
      "text/plain": [
       "<Figure size 864x432 with 1 Axes>"
      ]
     },
     "metadata": {
      "needs_background": "light"
     },
     "output_type": "display_data"
    }
   ],
   "source": [
    "fig, ax = plt.subplots(figsize=(12, 6))\r\n",
    "plt.plot(df_hourly.temp, '.-', label='Temperature')\r\n",
    "plt.plot(df_hourly.feels_like, '.-', label='Feels Like')\r\n",
    "ax.set(title='Temperature in future 48 hours', xlabel='Time', ylabel='Temperature')\r\n",
    "ax.set_xticks(list(range(0, len(df_hourly), 2)))\r\n",
    "ax.set_xticklabels([ts2dt(ts, '%m-%d %H:%M')[0] for i, ts in enumerate(df_hourly.dt) if i%2==0], \r\n",
    "                   rotation=45, ha=\"right\")\r\n",
    "ax.locator_params(nbins=15, axis='y')\r\n",
    "plt.legend()\r\n",
    "plt.show()"
   ]
  },
  {
   "cell_type": "code",
   "execution_count": 10,
   "metadata": {
    "execution": {
     "iopub.execute_input": "2021-10-11T03:12:27.073528Z",
     "iopub.status.busy": "2021-10-11T03:12:27.072977Z",
     "iopub.status.idle": "2021-10-11T03:12:27.092937Z",
     "shell.execute_reply": "2021-10-11T03:12:27.093417Z"
    }
   },
   "outputs": [
    {
     "data": {
      "text/html": [
       "<div>\n",
       "<style scoped>\n",
       "    .dataframe tbody tr th:only-of-type {\n",
       "        vertical-align: middle;\n",
       "    }\n",
       "\n",
       "    .dataframe tbody tr th {\n",
       "        vertical-align: top;\n",
       "    }\n",
       "\n",
       "    .dataframe thead th {\n",
       "        text-align: right;\n",
       "    }\n",
       "</style>\n",
       "<table border=\"1\" class=\"dataframe\">\n",
       "  <thead>\n",
       "    <tr style=\"text-align: right;\">\n",
       "      <th></th>\n",
       "      <th>dt</th>\n",
       "      <th>temp</th>\n",
       "      <th>feels_like</th>\n",
       "      <th>pressure</th>\n",
       "      <th>humidity</th>\n",
       "      <th>dew_point</th>\n",
       "      <th>uvi</th>\n",
       "      <th>clouds</th>\n",
       "      <th>visibility</th>\n",
       "      <th>wind_speed</th>\n",
       "      <th>wind_deg</th>\n",
       "      <th>wind_gust</th>\n",
       "      <th>weather</th>\n",
       "      <th>pop</th>\n",
       "      <th>rain</th>\n",
       "    </tr>\n",
       "  </thead>\n",
       "  <tbody>\n",
       "    <tr>\n",
       "      <th>0</th>\n",
       "      <td>1633921200</td>\n",
       "      <td>30.63</td>\n",
       "      <td>34.31</td>\n",
       "      <td>1009</td>\n",
       "      <td>61</td>\n",
       "      <td>22.25</td>\n",
       "      <td>7.47</td>\n",
       "      <td>43</td>\n",
       "      <td>10000</td>\n",
       "      <td>8.43</td>\n",
       "      <td>6</td>\n",
       "      <td>10.83</td>\n",
       "      <td>[{'id': 802, 'main': 'Clouds', 'description': ...</td>\n",
       "      <td>0.0</td>\n",
       "      <td>NaN</td>\n",
       "    </tr>\n",
       "    <tr>\n",
       "      <th>1</th>\n",
       "      <td>1633924800</td>\n",
       "      <td>30.22</td>\n",
       "      <td>33.69</td>\n",
       "      <td>1009</td>\n",
       "      <td>62</td>\n",
       "      <td>22.13</td>\n",
       "      <td>8.69</td>\n",
       "      <td>46</td>\n",
       "      <td>10000</td>\n",
       "      <td>8.14</td>\n",
       "      <td>6</td>\n",
       "      <td>10.60</td>\n",
       "      <td>[{'id': 802, 'main': 'Clouds', 'description': ...</td>\n",
       "      <td>0.0</td>\n",
       "      <td>NaN</td>\n",
       "    </tr>\n",
       "    <tr>\n",
       "      <th>2</th>\n",
       "      <td>1633928400</td>\n",
       "      <td>29.91</td>\n",
       "      <td>33.06</td>\n",
       "      <td>1008</td>\n",
       "      <td>62</td>\n",
       "      <td>21.84</td>\n",
       "      <td>8.53</td>\n",
       "      <td>52</td>\n",
       "      <td>10000</td>\n",
       "      <td>8.68</td>\n",
       "      <td>4</td>\n",
       "      <td>10.94</td>\n",
       "      <td>[{'id': 803, 'main': 'Clouds', 'description': ...</td>\n",
       "      <td>0.0</td>\n",
       "      <td>NaN</td>\n",
       "    </tr>\n",
       "    <tr>\n",
       "      <th>3</th>\n",
       "      <td>1633932000</td>\n",
       "      <td>29.62</td>\n",
       "      <td>32.49</td>\n",
       "      <td>1007</td>\n",
       "      <td>62</td>\n",
       "      <td>21.57</td>\n",
       "      <td>6.89</td>\n",
       "      <td>56</td>\n",
       "      <td>10000</td>\n",
       "      <td>8.71</td>\n",
       "      <td>10</td>\n",
       "      <td>10.97</td>\n",
       "      <td>[{'id': 803, 'main': 'Clouds', 'description': ...</td>\n",
       "      <td>0.0</td>\n",
       "      <td>NaN</td>\n",
       "    </tr>\n",
       "    <tr>\n",
       "      <th>4</th>\n",
       "      <td>1633935600</td>\n",
       "      <td>29.00</td>\n",
       "      <td>31.51</td>\n",
       "      <td>1005</td>\n",
       "      <td>63</td>\n",
       "      <td>21.24</td>\n",
       "      <td>4.74</td>\n",
       "      <td>64</td>\n",
       "      <td>10000</td>\n",
       "      <td>9.21</td>\n",
       "      <td>6</td>\n",
       "      <td>11.59</td>\n",
       "      <td>[{'id': 803, 'main': 'Clouds', 'description': ...</td>\n",
       "      <td>0.0</td>\n",
       "      <td>NaN</td>\n",
       "    </tr>\n",
       "  </tbody>\n",
       "</table>\n",
       "</div>"
      ],
      "text/plain": [
       "           dt   temp  feels_like  pressure  humidity  dew_point   uvi  clouds  \\\n",
       "0  1633921200  30.63       34.31      1009        61      22.25  7.47      43   \n",
       "1  1633924800  30.22       33.69      1009        62      22.13  8.69      46   \n",
       "2  1633928400  29.91       33.06      1008        62      21.84  8.53      52   \n",
       "3  1633932000  29.62       32.49      1007        62      21.57  6.89      56   \n",
       "4  1633935600  29.00       31.51      1005        63      21.24  4.74      64   \n",
       "\n",
       "   visibility  wind_speed  wind_deg  wind_gust  \\\n",
       "0       10000        8.43         6      10.83   \n",
       "1       10000        8.14         6      10.60   \n",
       "2       10000        8.68         4      10.94   \n",
       "3       10000        8.71        10      10.97   \n",
       "4       10000        9.21         6      11.59   \n",
       "\n",
       "                                             weather  pop rain  \n",
       "0  [{'id': 802, 'main': 'Clouds', 'description': ...  0.0  NaN  \n",
       "1  [{'id': 802, 'main': 'Clouds', 'description': ...  0.0  NaN  \n",
       "2  [{'id': 803, 'main': 'Clouds', 'description': ...  0.0  NaN  \n",
       "3  [{'id': 803, 'main': 'Clouds', 'description': ...  0.0  NaN  \n",
       "4  [{'id': 803, 'main': 'Clouds', 'description': ...  0.0  NaN  "
      ]
     },
     "execution_count": 10,
     "metadata": {},
     "output_type": "execute_result"
    }
   ],
   "source": [
    "df_hourly.head()"
   ]
  },
  {
   "cell_type": "code",
   "execution_count": null,
   "metadata": {},
   "outputs": [],
   "source": []
  }
 ],
 "metadata": {
  "interpreter": {
   "hash": "c1b4cfe941b6d2466ad1fb5979e97da9cda8801728c8091b097ab734208fc00c"
  },
  "kernelspec": {
   "display_name": "Python 3.8.3 64-bit ('base': conda)",
   "name": "python3"
  },
  "language_info": {
   "codemirror_mode": {
    "name": "ipython",
    "version": 3
   },
   "file_extension": ".py",
   "mimetype": "text/x-python",
   "name": "python",
   "nbconvert_exporter": "python",
   "pygments_lexer": "ipython3",
   "version": "3.8.12"
  }
 },
 "nbformat": 4,
 "nbformat_minor": 2
}
