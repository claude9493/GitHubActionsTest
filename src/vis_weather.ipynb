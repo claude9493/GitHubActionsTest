{
 "cells": [
  {
   "cell_type": "code",
   "execution_count": 1,
   "metadata": {
    "execution": {
     "iopub.execute_input": "2021-08-22T19:36:37.824512Z",
     "iopub.status.busy": "2021-08-22T19:36:37.823768Z",
     "iopub.status.idle": "2021-08-22T19:36:40.274390Z",
     "shell.execute_reply": "2021-08-22T19:36:40.273695Z"
    }
   },
   "outputs": [],
   "source": [
    "import json\r\n",
    "from datetime import datetime\r\n",
    "from dateutil import tz\r\n",
    "import pandas as pd\r\n",
    "import matplotlib.pyplot as plt\r\n",
    "import seaborn\r\n"
   ]
  },
  {
   "cell_type": "code",
   "execution_count": 2,
   "metadata": {
    "execution": {
     "iopub.execute_input": "2021-08-22T19:36:40.279888Z",
     "iopub.status.busy": "2021-08-22T19:36:40.278427Z",
     "iopub.status.idle": "2021-08-22T19:36:40.283102Z",
     "shell.execute_reply": "2021-08-22T19:36:40.282567Z"
    }
   },
   "outputs": [],
   "source": [
    "with open('../newest_ts', 'r') as f:\r\n",
    "    ts = f.read()\r\n",
    "\r\n",
    "data_path = f\"../data/data_{ts}.json\"\r\n",
    "with open(data_path, 'r') as f:\r\n",
    "    data = json.load(f)"
   ]
  },
  {
   "cell_type": "code",
   "execution_count": 3,
   "metadata": {
    "execution": {
     "iopub.execute_input": "2021-08-22T19:36:40.287974Z",
     "iopub.status.busy": "2021-08-22T19:36:40.287240Z",
     "iopub.status.idle": "2021-08-22T19:36:40.290408Z",
     "shell.execute_reply": "2021-08-22T19:36:40.290894Z"
    }
   },
   "outputs": [
    {
     "name": "stdout",
     "output_type": "stream",
     "text": [
      "Recent query happens at 2021-08-22 19:36:34\n"
     ]
    }
   ],
   "source": [
    "def ts2dt(ts, format='%Y-%m-%d %H:%M:%S'):\r\n",
    "    return (datetime.utcfromtimestamp(int(ts))\r\n",
    "                    .replace(tzinfo=tz.tzutc())\r\n",
    "                    .astimezone(tz.tzlocal())\r\n",
    "                    .strftime(format))\r\n",
    "\r\n",
    "print(f\"Recent query happens at {ts2dt(ts)}\")"
   ]
  },
  {
   "cell_type": "code",
   "execution_count": 4,
   "metadata": {
    "execution": {
     "iopub.execute_input": "2021-08-22T19:36:40.298394Z",
     "iopub.status.busy": "2021-08-22T19:36:40.297289Z",
     "iopub.status.idle": "2021-08-22T19:36:40.300922Z",
     "shell.execute_reply": "2021-08-22T19:36:40.300429Z"
    }
   },
   "outputs": [
    {
     "data": {
      "text/plain": [
       "dict_keys(['lat', 'lon', 'timezone', 'timezone_offset', 'current', 'hourly', 'daily'])"
      ]
     },
     "execution_count": 4,
     "metadata": {},
     "output_type": "execute_result"
    }
   ],
   "source": [
    "data.keys()"
   ]
  },
  {
   "cell_type": "code",
   "execution_count": 5,
   "metadata": {
    "execution": {
     "iopub.execute_input": "2021-08-22T19:36:40.306805Z",
     "iopub.status.busy": "2021-08-22T19:36:40.305786Z",
     "iopub.status.idle": "2021-08-22T19:36:40.309167Z",
     "shell.execute_reply": "2021-08-22T19:36:40.308655Z"
    }
   },
   "outputs": [
    {
     "data": {
      "text/plain": [
       "{'dt': 1629660994,\n",
       " 'sunrise': 1629669780,\n",
       " 'sunset': 1629715720,\n",
       " 'temp': 29.05,\n",
       " 'feels_like': 35.79,\n",
       " 'pressure': 1006,\n",
       " 'humidity': 84,\n",
       " 'dew_point': 26.07,\n",
       " 'uvi': 0,\n",
       " 'clouds': 89,\n",
       " 'visibility': 10000,\n",
       " 'wind_speed': 3.49,\n",
       " 'wind_deg': 221,\n",
       " 'wind_gust': 4.79,\n",
       " 'weather': [{'id': 804,\n",
       "   'main': 'Clouds',\n",
       "   'description': 'overcast clouds',\n",
       "   'icon': '04n'}]}"
      ]
     },
     "execution_count": 5,
     "metadata": {},
     "output_type": "execute_result"
    }
   ],
   "source": [
    "data['current']"
   ]
  },
  {
   "cell_type": "code",
   "execution_count": 6,
   "metadata": {
    "execution": {
     "iopub.execute_input": "2021-08-22T19:36:40.314989Z",
     "iopub.status.busy": "2021-08-22T19:36:40.313972Z",
     "iopub.status.idle": "2021-08-22T19:36:40.317201Z",
     "shell.execute_reply": "2021-08-22T19:36:40.316713Z"
    }
   },
   "outputs": [
    {
     "data": {
      "text/plain": [
       "{'dt': 1629658800,\n",
       " 'temp': 28.76,\n",
       " 'feels_like': 35.13,\n",
       " 'pressure': 1006,\n",
       " 'humidity': 85,\n",
       " 'dew_point': 25.98,\n",
       " 'uvi': 0,\n",
       " 'clouds': 91,\n",
       " 'visibility': 10000,\n",
       " 'wind_speed': 3.47,\n",
       " 'wind_deg': 217,\n",
       " 'wind_gust': 4.77,\n",
       " 'weather': [{'id': 500,\n",
       "   'main': 'Rain',\n",
       "   'description': 'light rain',\n",
       "   'icon': '10n'}],\n",
       " 'pop': 0.61,\n",
       " 'rain': {'1h': 0.45}}"
      ]
     },
     "execution_count": 6,
     "metadata": {},
     "output_type": "execute_result"
    }
   ],
   "source": [
    "data['hourly'][0]"
   ]
  },
  {
   "cell_type": "code",
   "execution_count": 7,
   "metadata": {
    "execution": {
     "iopub.execute_input": "2021-08-22T19:36:40.326086Z",
     "iopub.status.busy": "2021-08-22T19:36:40.324806Z",
     "iopub.status.idle": "2021-08-22T19:36:40.326721Z",
     "shell.execute_reply": "2021-08-22T19:36:40.327241Z"
    }
   },
   "outputs": [],
   "source": [
    "df_hourly = pd.DataFrame(data['hourly'])\r\n",
    "df_daily = pd.DataFrame(data['daily'])"
   ]
  },
  {
   "cell_type": "code",
   "execution_count": 8,
   "metadata": {
    "execution": {
     "iopub.execute_input": "2021-08-22T19:36:40.339691Z",
     "iopub.status.busy": "2021-08-22T19:36:40.330961Z",
     "iopub.status.idle": "2021-08-22T19:36:40.350505Z",
     "shell.execute_reply": "2021-08-22T19:36:40.350989Z"
    }
   },
   "outputs": [
    {
     "data": {
      "text/html": [
       "<div>\n",
       "<style scoped>\n",
       "    .dataframe tbody tr th:only-of-type {\n",
       "        vertical-align: middle;\n",
       "    }\n",
       "\n",
       "    .dataframe tbody tr th {\n",
       "        vertical-align: top;\n",
       "    }\n",
       "\n",
       "    .dataframe thead th {\n",
       "        text-align: right;\n",
       "    }\n",
       "</style>\n",
       "<table border=\"1\" class=\"dataframe\">\n",
       "  <thead>\n",
       "    <tr style=\"text-align: right;\">\n",
       "      <th></th>\n",
       "      <th>dt</th>\n",
       "      <th>temp</th>\n",
       "      <th>feels_like</th>\n",
       "      <th>pressure</th>\n",
       "      <th>humidity</th>\n",
       "      <th>dew_point</th>\n",
       "      <th>uvi</th>\n",
       "      <th>clouds</th>\n",
       "      <th>visibility</th>\n",
       "      <th>wind_speed</th>\n",
       "      <th>wind_deg</th>\n",
       "      <th>wind_gust</th>\n",
       "      <th>weather</th>\n",
       "      <th>pop</th>\n",
       "      <th>rain</th>\n",
       "    </tr>\n",
       "  </thead>\n",
       "  <tbody>\n",
       "    <tr>\n",
       "      <th>0</th>\n",
       "      <td>1629658800</td>\n",
       "      <td>28.76</td>\n",
       "      <td>35.13</td>\n",
       "      <td>1006</td>\n",
       "      <td>85</td>\n",
       "      <td>25.98</td>\n",
       "      <td>0.0</td>\n",
       "      <td>91</td>\n",
       "      <td>10000</td>\n",
       "      <td>3.47</td>\n",
       "      <td>217</td>\n",
       "      <td>4.77</td>\n",
       "      <td>[{'id': 500, 'main': 'Rain', 'description': 'l...</td>\n",
       "      <td>0.61</td>\n",
       "      <td>{'1h': 0.45}</td>\n",
       "    </tr>\n",
       "    <tr>\n",
       "      <th>1</th>\n",
       "      <td>1629662400</td>\n",
       "      <td>29.05</td>\n",
       "      <td>35.79</td>\n",
       "      <td>1006</td>\n",
       "      <td>84</td>\n",
       "      <td>26.07</td>\n",
       "      <td>0.0</td>\n",
       "      <td>89</td>\n",
       "      <td>10000</td>\n",
       "      <td>3.49</td>\n",
       "      <td>221</td>\n",
       "      <td>4.79</td>\n",
       "      <td>[{'id': 804, 'main': 'Clouds', 'description': ...</td>\n",
       "      <td>0.65</td>\n",
       "      <td>NaN</td>\n",
       "    </tr>\n",
       "    <tr>\n",
       "      <th>2</th>\n",
       "      <td>1629666000</td>\n",
       "      <td>28.75</td>\n",
       "      <td>34.88</td>\n",
       "      <td>1006</td>\n",
       "      <td>84</td>\n",
       "      <td>25.77</td>\n",
       "      <td>0.0</td>\n",
       "      <td>89</td>\n",
       "      <td>10000</td>\n",
       "      <td>2.77</td>\n",
       "      <td>220</td>\n",
       "      <td>3.90</td>\n",
       "      <td>[{'id': 804, 'main': 'Clouds', 'description': ...</td>\n",
       "      <td>0.72</td>\n",
       "      <td>NaN</td>\n",
       "    </tr>\n",
       "    <tr>\n",
       "      <th>3</th>\n",
       "      <td>1629669600</td>\n",
       "      <td>28.49</td>\n",
       "      <td>34.12</td>\n",
       "      <td>1006</td>\n",
       "      <td>84</td>\n",
       "      <td>25.52</td>\n",
       "      <td>0.0</td>\n",
       "      <td>85</td>\n",
       "      <td>10000</td>\n",
       "      <td>3.63</td>\n",
       "      <td>218</td>\n",
       "      <td>4.70</td>\n",
       "      <td>[{'id': 500, 'main': 'Rain', 'description': 'l...</td>\n",
       "      <td>0.67</td>\n",
       "      <td>{'1h': 0.12}</td>\n",
       "    </tr>\n",
       "    <tr>\n",
       "      <th>4</th>\n",
       "      <td>1629673200</td>\n",
       "      <td>28.45</td>\n",
       "      <td>33.62</td>\n",
       "      <td>1007</td>\n",
       "      <td>82</td>\n",
       "      <td>25.08</td>\n",
       "      <td>0.4</td>\n",
       "      <td>84</td>\n",
       "      <td>10000</td>\n",
       "      <td>3.73</td>\n",
       "      <td>224</td>\n",
       "      <td>5.11</td>\n",
       "      <td>[{'id': 500, 'main': 'Rain', 'description': 'l...</td>\n",
       "      <td>0.70</td>\n",
       "      <td>{'1h': 0.11}</td>\n",
       "    </tr>\n",
       "  </tbody>\n",
       "</table>\n",
       "</div>"
      ],
      "text/plain": [
       "           dt   temp  feels_like  pressure  humidity  dew_point  uvi  clouds  \\\n",
       "0  1629658800  28.76       35.13      1006        85      25.98  0.0      91   \n",
       "1  1629662400  29.05       35.79      1006        84      26.07  0.0      89   \n",
       "2  1629666000  28.75       34.88      1006        84      25.77  0.0      89   \n",
       "3  1629669600  28.49       34.12      1006        84      25.52  0.0      85   \n",
       "4  1629673200  28.45       33.62      1007        82      25.08  0.4      84   \n",
       "\n",
       "   visibility  wind_speed  wind_deg  wind_gust  \\\n",
       "0       10000        3.47       217       4.77   \n",
       "1       10000        3.49       221       4.79   \n",
       "2       10000        2.77       220       3.90   \n",
       "3       10000        3.63       218       4.70   \n",
       "4       10000        3.73       224       5.11   \n",
       "\n",
       "                                             weather   pop          rain  \n",
       "0  [{'id': 500, 'main': 'Rain', 'description': 'l...  0.61  {'1h': 0.45}  \n",
       "1  [{'id': 804, 'main': 'Clouds', 'description': ...  0.65           NaN  \n",
       "2  [{'id': 804, 'main': 'Clouds', 'description': ...  0.72           NaN  \n",
       "3  [{'id': 500, 'main': 'Rain', 'description': 'l...  0.67  {'1h': 0.12}  \n",
       "4  [{'id': 500, 'main': 'Rain', 'description': 'l...  0.70  {'1h': 0.11}  "
      ]
     },
     "execution_count": 8,
     "metadata": {},
     "output_type": "execute_result"
    }
   ],
   "source": [
    "df_hourly.head()"
   ]
  },
  {
   "cell_type": "code",
   "execution_count": 9,
   "metadata": {
    "execution": {
     "iopub.execute_input": "2021-08-22T19:36:40.381035Z",
     "iopub.status.busy": "2021-08-22T19:36:40.369903Z",
     "iopub.status.idle": "2021-08-22T19:36:40.680611Z",
     "shell.execute_reply": "2021-08-22T19:36:40.679525Z"
    }
   },
   "outputs": [
    {
     "data": {
      "image/png": "[encoded data removed]",
      "text/plain": [
       "<Figure size 864x432 with 1 Axes>"
      ]
     },
     "metadata": {
      "needs_background": "light"
     },
     "output_type": "display_data"
    }
   ],
   "source": [
    "fig, ax = plt.subplots(figsize=(12, 6))\r\n",
    "plt.plot(df_hourly.temp, '.-')\r\n",
    "ax.set(title='Temperature in future 48 hours', xlabel='Time', ylabel='Temperature')\r\n",
    "ax.set_xticks(list(range(0, len(df_hourly), 2)))\r\n",
    "ax.set_xticklabels([ts2dt(ts, '%m-%d %H:%M') for i, ts in enumerate(df_hourly.dt) if i%2==0], \r\n",
    "                   rotation=45, ha=\"right\")\r\n",
    "plt.show()"
   ]
  },
  {
   "cell_type": "code",
   "execution_count": null,
   "metadata": {},
   "outputs": [],
   "source": []
  }
 ],
 "metadata": {
  "interpreter": {
   "hash": "c1b4cfe941b6d2466ad1fb5979e97da9cda8801728c8091b097ab734208fc00c"
  },
  "kernelspec": {
   "display_name": "Python 3.8.3 64-bit ('base': conda)",
   "name": "python3"
  },
  "language_info": {
   "codemirror_mode": {
    "name": "ipython",
    "version": 3
   },
   "file_extension": ".py",
   "mimetype": "text/x-python",
   "name": "python",
   "nbconvert_exporter": "python",
   "pygments_lexer": "ipython3",
   "version": "3.8.11"
  }
 },
 "nbformat": 4,
 "nbformat_minor": 2
}
