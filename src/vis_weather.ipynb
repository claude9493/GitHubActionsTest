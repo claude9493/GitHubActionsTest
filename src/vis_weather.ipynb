{
 "cells": [
  {
   "cell_type": "code",
   "execution_count": 1,
   "metadata": {
    "execution": {
     "iopub.execute_input": "2021-08-26T09:15:16.757973Z",
     "iopub.status.busy": "2021-08-26T09:15:16.757424Z",
     "iopub.status.idle": "2021-08-26T09:15:19.887140Z",
     "shell.execute_reply": "2021-08-26T09:15:19.886598Z"
    }
   },
   "outputs": [],
   "source": [
    "import json, yaml, requests\r\n",
    "from datetime import datetime\r\n",
    "from dateutil import tz\r\n",
    "import pandas as pd\r\n",
    "from PIL import Image\r\n",
    "from io import BytesIO\r\n",
    "import matplotlib.pyplot as plt\r\n",
    "import seaborn\r\n",
    "\r\n",
    "CONFIG_PATH = \"../config/config.yaml\""
   ]
  },
  {
   "cell_type": "code",
   "execution_count": 2,
   "metadata": {
    "execution": {
     "iopub.execute_input": "2021-08-26T09:15:19.895068Z",
     "iopub.status.busy": "2021-08-26T09:15:19.891870Z",
     "iopub.status.idle": "2021-08-26T09:15:19.897423Z",
     "shell.execute_reply": "2021-08-26T09:15:19.897896Z"
    }
   },
   "outputs": [],
   "source": [
    "with open('../newest_ts', 'r') as f:\r\n",
    "    newest_ts = f.read()\r\n",
    "\r\n",
    "data_path = f\"../data/data_{newest_ts}.json\"\r\n",
    "with open(data_path, 'r') as f:\r\n",
    "    data = json.load(f)\r\n",
    "\r\n",
    "with open(CONFIG_PATH, \"r\") as stream:\r\n",
    "    config = yaml.safe_load(stream)\r\n",
    "\r\n",
    "TIME_ZONE = config['time_zone']\r\n",
    "DATETIME_FORMAT = config['dt_format']"
   ]
  },
  {
   "cell_type": "code",
   "execution_count": 3,
   "metadata": {
    "execution": {
     "iopub.execute_input": "2021-08-26T09:15:19.903653Z",
     "iopub.status.busy": "2021-08-26T09:15:19.901769Z",
     "iopub.status.idle": "2021-08-26T09:15:19.906379Z",
     "shell.execute_reply": "2021-08-26T09:15:19.906856Z"
    }
   },
   "outputs": [
    {
     "name": "stdout",
     "output_type": "stream",
     "text": [
      "Recent query happens at 2021-08-26 17:15:14 (CST).\n"
     ]
    }
   ],
   "source": [
    "def ts2dt(ts, format=DATETIME_FORMAT):\r\n",
    "    dt = (datetime.utcfromtimestamp(int(ts))\r\n",
    "                    .replace(tzinfo=tz.tzutc())\r\n",
    "                    # .astimezone(tz.tzlocal())\r\n",
    "                    .astimezone(tz.gettz(TIME_ZONE)))\r\n",
    "    return dt.strftime(format), dt\r\n",
    "\r\n",
    "_, newest_dt = ts2dt(newest_ts)\r\n",
    "print(f\"Recent query happens at {newest_dt.strftime(DATETIME_FORMAT)} ({newest_dt.tzname()}).\")"
   ]
  },
  {
   "cell_type": "code",
   "execution_count": 4,
   "metadata": {
    "execution": {
     "iopub.execute_input": "2021-08-26T09:15:19.913972Z",
     "iopub.status.busy": "2021-08-26T09:15:19.912056Z",
     "iopub.status.idle": "2021-08-26T09:15:19.914546Z",
     "shell.execute_reply": "2021-08-26T09:15:19.915023Z"
    }
   },
   "outputs": [],
   "source": [
    "def degrees_to_cardinal(d):\r\n",
    "  dirs = ['N', 'NNE', 'NE', 'ENE', 'E', 'ESE', 'SE', 'SSE', 'S', 'SSW', 'SW', 'WSW', 'W', 'WNW', 'NW', 'NNW']\r\n",
    "  ix = int(round(d / (360. / len(dirs))))\r\n",
    "  return dirs[ix % len(dirs)]"
   ]
  },
  {
   "cell_type": "code",
   "execution_count": 5,
   "metadata": {
    "execution": {
     "iopub.execute_input": "2021-08-26T09:15:19.919944Z",
     "iopub.status.busy": "2021-08-26T09:15:19.918330Z",
     "iopub.status.idle": "2021-08-26T09:15:19.920541Z",
     "shell.execute_reply": "2021-08-26T09:15:19.921028Z"
    }
   },
   "outputs": [],
   "source": [
    "# data.keys()"
   ]
  },
  {
   "cell_type": "code",
   "execution_count": 6,
   "metadata": {
    "execution": {
     "iopub.execute_input": "2021-08-26T09:15:19.925202Z",
     "iopub.status.busy": "2021-08-26T09:15:19.924049Z",
     "iopub.status.idle": "2021-08-26T09:15:19.925809Z",
     "shell.execute_reply": "2021-08-26T09:15:19.926280Z"
    }
   },
   "outputs": [],
   "source": [
    "# data['current']"
   ]
  },
  {
   "cell_type": "code",
   "execution_count": 7,
   "metadata": {
    "execution": {
     "iopub.execute_input": "2021-08-26T09:15:19.945519Z",
     "iopub.status.busy": "2021-08-26T09:15:19.945015Z",
     "iopub.status.idle": "2021-08-26T09:15:20.217540Z",
     "shell.execute_reply": "2021-08-26T09:15:20.218266Z"
    }
   },
   "outputs": [
    {
     "data": {
      "image/png": "[encoded data removed]",
      "text/plain": [
       "<Figure size 216x216 with 1 Axes>"
      ]
     },
     "metadata": {
      "needs_background": "light"
     },
     "output_type": "display_data"
    },
    {
     "name": "stdout",
     "output_type": "stream",
     "text": [
      "Today, sun rises at 06:03 and sets at 18:46.\n",
      "Currently, the weather is Clouds (overcast clouds).\n",
      "The temperature is 31.75°C and it feels like 38.75°C.\n",
      "The UV index is 1.16, humidity is 71%.\n",
      "The pressure is 1010 hPa, percentage of cloud cover is 100%\n",
      "The wind comes from ESE direction with a speed 3.91 m/s.\n"
     ]
    }
   ],
   "source": [
    "current = data['current']\r\n",
    "\r\n",
    "fig, ax = plt.subplots(figsize=(3, 3))\r\n",
    "icon = requests.get(f\"http://openweathermap.org/img/wn/{current['weather'][0]['icon']}@2x.png\")\r\n",
    "im = Image.open(BytesIO(icon.content))\r\n",
    "plt.imshow(im)\r\n",
    "ax.set_axis_off()\r\n",
    "plt.show()\r\n",
    "\r\n",
    "print(f\"Today, sun rises at {ts2dt(current['sunrise'], '%H:%M')[0]} \\\r\n",
    "and sets at {ts2dt(current['sunset'], '%H:%M')[0]}.\\n\\\r\n",
    "Currently, the weather is {current['weather'][0]['main']} ({current['weather'][0]['description']}).\\n\\\r\n",
    "The temperature is {current['temp']}°C and it feels like {current['feels_like']}°C.\\n\\\r\n",
    "The UV index is {current['uvi']}, humidity is {current['humidity']}%.\\n\\\r\n",
    "The pressure is {current['pressure']} hPa, percentage of cloud cover is {current['clouds']}%\\n\\\r\n",
    "The wind comes from {degrees_to_cardinal(current['wind_deg'])} direction with a speed {current['wind_speed']} m/s.\")"
   ]
  },
  {
   "cell_type": "code",
   "execution_count": 8,
   "metadata": {
    "execution": {
     "iopub.execute_input": "2021-08-26T09:15:20.224458Z",
     "iopub.status.busy": "2021-08-26T09:15:20.223780Z",
     "iopub.status.idle": "2021-08-26T09:15:20.228589Z",
     "shell.execute_reply": "2021-08-26T09:15:20.229224Z"
    }
   },
   "outputs": [],
   "source": [
    "df_hourly = pd.DataFrame(data['hourly'])\r\n",
    "df_daily = pd.DataFrame(data['daily'])"
   ]
  },
  {
   "cell_type": "code",
   "execution_count": 9,
   "metadata": {
    "execution": {
     "iopub.execute_input": "2021-08-26T09:15:20.236985Z",
     "iopub.status.busy": "2021-08-26T09:15:20.236276Z",
     "iopub.status.idle": "2021-08-26T09:15:20.540247Z",
     "shell.execute_reply": "2021-08-26T09:15:20.539758Z"
    }
   },
   "outputs": [
    {
     "data": {
      "image/png": "[encoded data removed]",
      "text/plain": [
       "<Figure size 864x432 with 1 Axes>"
      ]
     },
     "metadata": {
      "needs_background": "light"
     },
     "output_type": "display_data"
    }
   ],
   "source": [
    "fig, ax = plt.subplots(figsize=(12, 6))\r\n",
    "plt.plot(df_hourly.temp, '.-', label='Temperature')\r\n",
    "plt.plot(df_hourly.feels_like, '.-', label='Feels Like')\r\n",
    "ax.set(title='Temperature in future 48 hours', xlabel='Time', ylabel='Temperature')\r\n",
    "ax.set_xticks(list(range(0, len(df_hourly), 2)))\r\n",
    "ax.set_xticklabels([ts2dt(ts, '%m-%d %H:%M')[0] for i, ts in enumerate(df_hourly.dt) if i%2==0], \r\n",
    "                   rotation=45, ha=\"right\")\r\n",
    "ax.locator_params(nbins=15, axis='y')\r\n",
    "plt.legend()\r\n",
    "plt.show()"
   ]
  },
  {
   "cell_type": "code",
   "execution_count": 10,
   "metadata": {
    "execution": {
     "iopub.execute_input": "2021-08-26T09:15:20.544719Z",
     "iopub.status.busy": "2021-08-26T09:15:20.544142Z",
     "iopub.status.idle": "2021-08-26T09:15:20.563347Z",
     "shell.execute_reply": "2021-08-26T09:15:20.562867Z"
    }
   },
   "outputs": [
    {
     "data": {
      "text/html": [
       "<div>\n",
       "<style scoped>\n",
       "    .dataframe tbody tr th:only-of-type {\n",
       "        vertical-align: middle;\n",
       "    }\n",
       "\n",
       "    .dataframe tbody tr th {\n",
       "        vertical-align: top;\n",
       "    }\n",
       "\n",
       "    .dataframe thead th {\n",
       "        text-align: right;\n",
       "    }\n",
       "</style>\n",
       "<table border=\"1\" class=\"dataframe\">\n",
       "  <thead>\n",
       "    <tr style=\"text-align: right;\">\n",
       "      <th></th>\n",
       "      <th>dt</th>\n",
       "      <th>temp</th>\n",
       "      <th>feels_like</th>\n",
       "      <th>pressure</th>\n",
       "      <th>humidity</th>\n",
       "      <th>dew_point</th>\n",
       "      <th>uvi</th>\n",
       "      <th>clouds</th>\n",
       "      <th>visibility</th>\n",
       "      <th>wind_speed</th>\n",
       "      <th>wind_deg</th>\n",
       "      <th>wind_gust</th>\n",
       "      <th>weather</th>\n",
       "      <th>pop</th>\n",
       "      <th>rain</th>\n",
       "    </tr>\n",
       "  </thead>\n",
       "  <tbody>\n",
       "    <tr>\n",
       "      <th>0</th>\n",
       "      <td>1629968400</td>\n",
       "      <td>31.75</td>\n",
       "      <td>38.75</td>\n",
       "      <td>1010</td>\n",
       "      <td>71</td>\n",
       "      <td>25.84</td>\n",
       "      <td>1.16</td>\n",
       "      <td>100</td>\n",
       "      <td>10000</td>\n",
       "      <td>3.91</td>\n",
       "      <td>112</td>\n",
       "      <td>4.62</td>\n",
       "      <td>[{'id': 804, 'main': 'Clouds', 'description': ...</td>\n",
       "      <td>0.01</td>\n",
       "      <td>NaN</td>\n",
       "    </tr>\n",
       "    <tr>\n",
       "      <th>1</th>\n",
       "      <td>1629972000</td>\n",
       "      <td>31.18</td>\n",
       "      <td>38.18</td>\n",
       "      <td>1010</td>\n",
       "      <td>72</td>\n",
       "      <td>25.53</td>\n",
       "      <td>0.23</td>\n",
       "      <td>100</td>\n",
       "      <td>10000</td>\n",
       "      <td>3.60</td>\n",
       "      <td>109</td>\n",
       "      <td>4.89</td>\n",
       "      <td>[{'id': 804, 'main': 'Clouds', 'description': ...</td>\n",
       "      <td>0.01</td>\n",
       "      <td>NaN</td>\n",
       "    </tr>\n",
       "    <tr>\n",
       "      <th>2</th>\n",
       "      <td>1629975600</td>\n",
       "      <td>30.41</td>\n",
       "      <td>37.16</td>\n",
       "      <td>1010</td>\n",
       "      <td>74</td>\n",
       "      <td>25.25</td>\n",
       "      <td>0.00</td>\n",
       "      <td>100</td>\n",
       "      <td>10000</td>\n",
       "      <td>2.95</td>\n",
       "      <td>103</td>\n",
       "      <td>4.26</td>\n",
       "      <td>[{'id': 804, 'main': 'Clouds', 'description': ...</td>\n",
       "      <td>0.01</td>\n",
       "      <td>NaN</td>\n",
       "    </tr>\n",
       "    <tr>\n",
       "      <th>3</th>\n",
       "      <td>1629979200</td>\n",
       "      <td>29.67</td>\n",
       "      <td>35.65</td>\n",
       "      <td>1011</td>\n",
       "      <td>76</td>\n",
       "      <td>24.98</td>\n",
       "      <td>0.00</td>\n",
       "      <td>95</td>\n",
       "      <td>10000</td>\n",
       "      <td>3.55</td>\n",
       "      <td>101</td>\n",
       "      <td>5.08</td>\n",
       "      <td>[{'id': 804, 'main': 'Clouds', 'description': ...</td>\n",
       "      <td>0.00</td>\n",
       "      <td>NaN</td>\n",
       "    </tr>\n",
       "    <tr>\n",
       "      <th>4</th>\n",
       "      <td>1629982800</td>\n",
       "      <td>28.88</td>\n",
       "      <td>34.20</td>\n",
       "      <td>1011</td>\n",
       "      <td>79</td>\n",
       "      <td>24.87</td>\n",
       "      <td>0.00</td>\n",
       "      <td>44</td>\n",
       "      <td>10000</td>\n",
       "      <td>3.98</td>\n",
       "      <td>102</td>\n",
       "      <td>5.61</td>\n",
       "      <td>[{'id': 802, 'main': 'Clouds', 'description': ...</td>\n",
       "      <td>0.00</td>\n",
       "      <td>NaN</td>\n",
       "    </tr>\n",
       "  </tbody>\n",
       "</table>\n",
       "</div>"
      ],
      "text/plain": [
       "           dt   temp  feels_like  pressure  humidity  dew_point   uvi  clouds  \\\n",
       "0  1629968400  31.75       38.75      1010        71      25.84  1.16     100   \n",
       "1  1629972000  31.18       38.18      1010        72      25.53  0.23     100   \n",
       "2  1629975600  30.41       37.16      1010        74      25.25  0.00     100   \n",
       "3  1629979200  29.67       35.65      1011        76      24.98  0.00      95   \n",
       "4  1629982800  28.88       34.20      1011        79      24.87  0.00      44   \n",
       "\n",
       "   visibility  wind_speed  wind_deg  wind_gust  \\\n",
       "0       10000        3.91       112       4.62   \n",
       "1       10000        3.60       109       4.89   \n",
       "2       10000        2.95       103       4.26   \n",
       "3       10000        3.55       101       5.08   \n",
       "4       10000        3.98       102       5.61   \n",
       "\n",
       "                                             weather   pop rain  \n",
       "0  [{'id': 804, 'main': 'Clouds', 'description': ...  0.01  NaN  \n",
       "1  [{'id': 804, 'main': 'Clouds', 'description': ...  0.01  NaN  \n",
       "2  [{'id': 804, 'main': 'Clouds', 'description': ...  0.01  NaN  \n",
       "3  [{'id': 804, 'main': 'Clouds', 'description': ...  0.00  NaN  \n",
       "4  [{'id': 802, 'main': 'Clouds', 'description': ...  0.00  NaN  "
      ]
     },
     "execution_count": 10,
     "metadata": {},
     "output_type": "execute_result"
    }
   ],
   "source": [
    "df_hourly.head()"
   ]
  },
  {
   "cell_type": "code",
   "execution_count": null,
   "metadata": {},
   "outputs": [],
   "source": []
  }
 ],
 "metadata": {
  "interpreter": {
   "hash": "c1b4cfe941b6d2466ad1fb5979e97da9cda8801728c8091b097ab734208fc00c"
  },
  "kernelspec": {
   "display_name": "Python 3.8.3 64-bit ('base': conda)",
   "name": "python3"
  },
  "language_info": {
   "codemirror_mode": {
    "name": "ipython",
    "version": 3
   },
   "file_extension": ".py",
   "mimetype": "text/x-python",
   "name": "python",
   "nbconvert_exporter": "python",
   "pygments_lexer": "ipython3",
   "version": "3.8.11"
  }
 },
 "nbformat": 4,
 "nbformat_minor": 2
}
