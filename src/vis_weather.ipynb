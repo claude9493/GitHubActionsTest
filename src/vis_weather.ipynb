{
 "cells": [
  {
   "cell_type": "code",
   "execution_count": 1,
   "metadata": {
    "execution": {
     "iopub.execute_input": "2021-10-06T08:13:55.668432Z",
     "iopub.status.busy": "2021-10-06T08:13:55.667580Z",
     "iopub.status.idle": "2021-10-06T08:13:56.984290Z",
     "shell.execute_reply": "2021-10-06T08:13:56.983252Z"
    }
   },
   "outputs": [],
   "source": [
    "import json, yaml, requests\r\n",
    "from datetime import datetime\r\n",
    "from dateutil import tz\r\n",
    "import pandas as pd\r\n",
    "from PIL import Image\r\n",
    "from io import BytesIO\r\n",
    "import matplotlib.pyplot as plt\r\n",
    "import seaborn\r\n",
    "\r\n",
    "CONFIG_PATH = \"../config/config.yaml\""
   ]
  },
  {
   "cell_type": "code",
   "execution_count": 2,
   "metadata": {
    "execution": {
     "iopub.execute_input": "2021-10-06T08:13:56.987699Z",
     "iopub.status.busy": "2021-10-06T08:13:56.987105Z",
     "iopub.status.idle": "2021-10-06T08:13:56.994915Z",
     "shell.execute_reply": "2021-10-06T08:13:56.994467Z"
    }
   },
   "outputs": [],
   "source": [
    "with open('../newest_ts', 'r') as f:\r\n",
    "    newest_ts = f.read()\r\n",
    "\r\n",
    "data_path = f\"../data/data_{newest_ts}.json\"\r\n",
    "with open(data_path, 'r') as f:\r\n",
    "    data = json.load(f)\r\n",
    "\r\n",
    "with open(CONFIG_PATH, \"r\") as stream:\r\n",
    "    config = yaml.safe_load(stream)\r\n",
    "\r\n",
    "TIME_ZONE = config['time_zone']\r\n",
    "DATETIME_FORMAT = config['dt_format']"
   ]
  },
  {
   "cell_type": "code",
   "execution_count": 3,
   "metadata": {
    "execution": {
     "iopub.execute_input": "2021-10-06T08:13:57.000181Z",
     "iopub.status.busy": "2021-10-06T08:13:56.999605Z",
     "iopub.status.idle": "2021-10-06T08:13:57.004823Z",
     "shell.execute_reply": "2021-10-06T08:13:57.005259Z"
    }
   },
   "outputs": [
    {
     "name": "stdout",
     "output_type": "stream",
     "text": [
      "Recent query happens at 2021-10-06 16:13:52 (CST).\n"
     ]
    }
   ],
   "source": [
    "def ts2dt(ts, format=DATETIME_FORMAT):\r\n",
    "    dt = (datetime.utcfromtimestamp(int(ts))\r\n",
    "                    .replace(tzinfo=tz.tzutc())\r\n",
    "                    # .astimezone(tz.tzlocal())\r\n",
    "                    .astimezone(tz.gettz(TIME_ZONE)))\r\n",
    "    return dt.strftime(format), dt\r\n",
    "\r\n",
    "_, newest_dt = ts2dt(newest_ts)\r\n",
    "print(f\"Recent query happens at {newest_dt.strftime(DATETIME_FORMAT)} ({newest_dt.tzname()}).\")"
   ]
  },
  {
   "cell_type": "code",
   "execution_count": 4,
   "metadata": {
    "execution": {
     "iopub.execute_input": "2021-10-06T08:13:57.010695Z",
     "iopub.status.busy": "2021-10-06T08:13:57.007847Z",
     "iopub.status.idle": "2021-10-06T08:13:57.015543Z",
     "shell.execute_reply": "2021-10-06T08:13:57.015955Z"
    }
   },
   "outputs": [],
   "source": [
    "def degrees_to_cardinal(d):\r\n",
    "  dirs = ['N', 'NNE', 'NE', 'ENE', 'E', 'ESE', 'SE', 'SSE', 'S', 'SSW', 'SW', 'WSW', 'W', 'WNW', 'NW', 'NNW']\r\n",
    "  ix = int(round(d / (360. / len(dirs))))\r\n",
    "  return dirs[ix % len(dirs)]"
   ]
  },
  {
   "cell_type": "code",
   "execution_count": 5,
   "metadata": {
    "execution": {
     "iopub.execute_input": "2021-10-06T08:13:57.020986Z",
     "iopub.status.busy": "2021-10-06T08:13:57.019618Z",
     "iopub.status.idle": "2021-10-06T08:13:57.021602Z",
     "shell.execute_reply": "2021-10-06T08:13:57.022003Z"
    }
   },
   "outputs": [],
   "source": [
    "# data.keys()"
   ]
  },
  {
   "cell_type": "code",
   "execution_count": 6,
   "metadata": {
    "execution": {
     "iopub.execute_input": "2021-10-06T08:13:57.026942Z",
     "iopub.status.busy": "2021-10-06T08:13:57.025688Z",
     "iopub.status.idle": "2021-10-06T08:13:57.027764Z",
     "shell.execute_reply": "2021-10-06T08:13:57.028179Z"
    }
   },
   "outputs": [],
   "source": [
    "# data['current']"
   ]
  },
  {
   "cell_type": "code",
   "execution_count": 7,
   "metadata": {
    "execution": {
     "iopub.execute_input": "2021-10-06T08:13:57.037248Z",
     "iopub.status.busy": "2021-10-06T08:13:57.036652Z",
     "iopub.status.idle": "2021-10-06T08:13:57.613379Z",
     "shell.execute_reply": "2021-10-06T08:13:57.614306Z"
    }
   },
   "outputs": [
    {
     "data": {
      "image/png": "[encoded data removed]",
      "text/plain": [
       "<Figure size 216x216 with 1 Axes>"
      ]
     },
     "metadata": {
      "needs_background": "light"
     },
     "output_type": "display_data"
    },
    {
     "name": "stdout",
     "output_type": "stream",
     "text": [
      "Today, sun rises at 06:15 and sets at 18:06.\n",
      "Currently, the weather is Clouds (scattered clouds).\n",
      "The temperature is 30.83°C and it feels like 36.86°C.\n",
      "The UV index is 1.89, humidity is 69%.\n",
      "The pressure is 1005 hPa, percentage of cloud cover is 37%\n",
      "The wind comes from SSW direction with a speed 0.89 m/s.\n"
     ]
    }
   ],
   "source": [
    "current = data['current']\r\n",
    "\r\n",
    "fig, ax = plt.subplots(figsize=(3, 3))\r\n",
    "icon = requests.get(f\"http://openweathermap.org/img/wn/{current['weather'][0]['icon']}@2x.png\")\r\n",
    "im = Image.open(BytesIO(icon.content))\r\n",
    "plt.imshow(im)\r\n",
    "ax.set_axis_off()\r\n",
    "plt.show()\r\n",
    "\r\n",
    "print(f\"Today, sun rises at {ts2dt(current['sunrise'], '%H:%M')[0]} \\\r\n",
    "and sets at {ts2dt(current['sunset'], '%H:%M')[0]}.\\n\\\r\n",
    "Currently, the weather is {current['weather'][0]['main']} ({current['weather'][0]['description']}).\\n\\\r\n",
    "The temperature is {current['temp']}°C and it feels like {current['feels_like']}°C.\\n\\\r\n",
    "The UV index is {current['uvi']}, humidity is {current['humidity']}%.\\n\\\r\n",
    "The pressure is {current['pressure']} hPa, percentage of cloud cover is {current['clouds']}%\\n\\\r\n",
    "The wind comes from {degrees_to_cardinal(current['wind_deg'])} direction with a speed {current['wind_speed']} m/s.\")"
   ]
  },
  {
   "cell_type": "code",
   "execution_count": 8,
   "metadata": {
    "execution": {
     "iopub.execute_input": "2021-10-06T08:13:57.617811Z",
     "iopub.status.busy": "2021-10-06T08:13:57.616801Z",
     "iopub.status.idle": "2021-10-06T08:13:57.624582Z",
     "shell.execute_reply": "2021-10-06T08:13:57.625276Z"
    }
   },
   "outputs": [],
   "source": [
    "df_hourly = pd.DataFrame(data['hourly'])\r\n",
    "df_daily = pd.DataFrame(data['daily'])"
   ]
  },
  {
   "cell_type": "code",
   "execution_count": 9,
   "metadata": {
    "execution": {
     "iopub.execute_input": "2021-10-06T08:13:57.628503Z",
     "iopub.status.busy": "2021-10-06T08:13:57.627467Z",
     "iopub.status.idle": "2021-10-06T08:13:57.930964Z",
     "shell.execute_reply": "2021-10-06T08:13:57.931431Z"
    }
   },
   "outputs": [
    {
     "data": {
      "image/png": "[encoded data removed]",
      "text/plain": [
       "<Figure size 864x432 with 1 Axes>"
      ]
     },
     "metadata": {
      "needs_background": "light"
     },
     "output_type": "display_data"
    }
   ],
   "source": [
    "fig, ax = plt.subplots(figsize=(12, 6))\r\n",
    "plt.plot(df_hourly.temp, '.-', label='Temperature')\r\n",
    "plt.plot(df_hourly.feels_like, '.-', label='Feels Like')\r\n",
    "ax.set(title='Temperature in future 48 hours', xlabel='Time', ylabel='Temperature')\r\n",
    "ax.set_xticks(list(range(0, len(df_hourly), 2)))\r\n",
    "ax.set_xticklabels([ts2dt(ts, '%m-%d %H:%M')[0] for i, ts in enumerate(df_hourly.dt) if i%2==0], \r\n",
    "                   rotation=45, ha=\"right\")\r\n",
    "ax.locator_params(nbins=15, axis='y')\r\n",
    "plt.legend()\r\n",
    "plt.show()"
   ]
  },
  {
   "cell_type": "code",
   "execution_count": 10,
   "metadata": {
    "execution": {
     "iopub.execute_input": "2021-10-06T08:13:57.943278Z",
     "iopub.status.busy": "2021-10-06T08:13:57.935492Z",
     "iopub.status.idle": "2021-10-06T08:13:57.953903Z",
     "shell.execute_reply": "2021-10-06T08:13:57.954294Z"
    }
   },
   "outputs": [
    {
     "data": {
      "text/html": [
       "<div>\n",
       "<style scoped>\n",
       "    .dataframe tbody tr th:only-of-type {\n",
       "        vertical-align: middle;\n",
       "    }\n",
       "\n",
       "    .dataframe tbody tr th {\n",
       "        vertical-align: top;\n",
       "    }\n",
       "\n",
       "    .dataframe thead th {\n",
       "        text-align: right;\n",
       "    }\n",
       "</style>\n",
       "<table border=\"1\" class=\"dataframe\">\n",
       "  <thead>\n",
       "    <tr style=\"text-align: right;\">\n",
       "      <th></th>\n",
       "      <th>dt</th>\n",
       "      <th>temp</th>\n",
       "      <th>feels_like</th>\n",
       "      <th>pressure</th>\n",
       "      <th>humidity</th>\n",
       "      <th>dew_point</th>\n",
       "      <th>uvi</th>\n",
       "      <th>clouds</th>\n",
       "      <th>visibility</th>\n",
       "      <th>wind_speed</th>\n",
       "      <th>wind_deg</th>\n",
       "      <th>wind_gust</th>\n",
       "      <th>weather</th>\n",
       "      <th>pop</th>\n",
       "      <th>rain</th>\n",
       "    </tr>\n",
       "  </thead>\n",
       "  <tbody>\n",
       "    <tr>\n",
       "      <th>0</th>\n",
       "      <td>1633507200</td>\n",
       "      <td>30.83</td>\n",
       "      <td>36.86</td>\n",
       "      <td>1005</td>\n",
       "      <td>69</td>\n",
       "      <td>24.48</td>\n",
       "      <td>1.89</td>\n",
       "      <td>37</td>\n",
       "      <td>10000</td>\n",
       "      <td>7.70</td>\n",
       "      <td>85</td>\n",
       "      <td>8.69</td>\n",
       "      <td>[{'id': 802, 'main': 'Clouds', 'description': ...</td>\n",
       "      <td>0.13</td>\n",
       "      <td>NaN</td>\n",
       "    </tr>\n",
       "    <tr>\n",
       "      <th>1</th>\n",
       "      <td>1633510800</td>\n",
       "      <td>30.42</td>\n",
       "      <td>36.35</td>\n",
       "      <td>1005</td>\n",
       "      <td>71</td>\n",
       "      <td>24.57</td>\n",
       "      <td>0.57</td>\n",
       "      <td>38</td>\n",
       "      <td>10000</td>\n",
       "      <td>7.49</td>\n",
       "      <td>82</td>\n",
       "      <td>9.25</td>\n",
       "      <td>[{'id': 802, 'main': 'Clouds', 'description': ...</td>\n",
       "      <td>0.18</td>\n",
       "      <td>NaN</td>\n",
       "    </tr>\n",
       "    <tr>\n",
       "      <th>2</th>\n",
       "      <td>1633514400</td>\n",
       "      <td>29.90</td>\n",
       "      <td>35.52</td>\n",
       "      <td>1005</td>\n",
       "      <td>73</td>\n",
       "      <td>24.53</td>\n",
       "      <td>0.00</td>\n",
       "      <td>39</td>\n",
       "      <td>10000</td>\n",
       "      <td>7.14</td>\n",
       "      <td>83</td>\n",
       "      <td>9.79</td>\n",
       "      <td>[{'id': 802, 'main': 'Clouds', 'description': ...</td>\n",
       "      <td>0.18</td>\n",
       "      <td>NaN</td>\n",
       "    </tr>\n",
       "    <tr>\n",
       "      <th>3</th>\n",
       "      <td>1633518000</td>\n",
       "      <td>29.35</td>\n",
       "      <td>34.58</td>\n",
       "      <td>1006</td>\n",
       "      <td>75</td>\n",
       "      <td>24.45</td>\n",
       "      <td>0.00</td>\n",
       "      <td>40</td>\n",
       "      <td>10000</td>\n",
       "      <td>7.35</td>\n",
       "      <td>88</td>\n",
       "      <td>10.46</td>\n",
       "      <td>[{'id': 802, 'main': 'Clouds', 'description': ...</td>\n",
       "      <td>0.22</td>\n",
       "      <td>NaN</td>\n",
       "    </tr>\n",
       "    <tr>\n",
       "      <th>4</th>\n",
       "      <td>1633521600</td>\n",
       "      <td>28.79</td>\n",
       "      <td>33.56</td>\n",
       "      <td>1007</td>\n",
       "      <td>77</td>\n",
       "      <td>24.35</td>\n",
       "      <td>0.00</td>\n",
       "      <td>39</td>\n",
       "      <td>10000</td>\n",
       "      <td>7.82</td>\n",
       "      <td>87</td>\n",
       "      <td>11.02</td>\n",
       "      <td>[{'id': 500, 'main': 'Rain', 'description': 'l...</td>\n",
       "      <td>0.30</td>\n",
       "      <td>{'1h': 0.13}</td>\n",
       "    </tr>\n",
       "  </tbody>\n",
       "</table>\n",
       "</div>"
      ],
      "text/plain": [
       "           dt   temp  feels_like  pressure  humidity  dew_point   uvi  clouds  \\\n",
       "0  1633507200  30.83       36.86      1005        69      24.48  1.89      37   \n",
       "1  1633510800  30.42       36.35      1005        71      24.57  0.57      38   \n",
       "2  1633514400  29.90       35.52      1005        73      24.53  0.00      39   \n",
       "3  1633518000  29.35       34.58      1006        75      24.45  0.00      40   \n",
       "4  1633521600  28.79       33.56      1007        77      24.35  0.00      39   \n",
       "\n",
       "   visibility  wind_speed  wind_deg  wind_gust  \\\n",
       "0       10000        7.70        85       8.69   \n",
       "1       10000        7.49        82       9.25   \n",
       "2       10000        7.14        83       9.79   \n",
       "3       10000        7.35        88      10.46   \n",
       "4       10000        7.82        87      11.02   \n",
       "\n",
       "                                             weather   pop          rain  \n",
       "0  [{'id': 802, 'main': 'Clouds', 'description': ...  0.13           NaN  \n",
       "1  [{'id': 802, 'main': 'Clouds', 'description': ...  0.18           NaN  \n",
       "2  [{'id': 802, 'main': 'Clouds', 'description': ...  0.18           NaN  \n",
       "3  [{'id': 802, 'main': 'Clouds', 'description': ...  0.22           NaN  \n",
       "4  [{'id': 500, 'main': 'Rain', 'description': 'l...  0.30  {'1h': 0.13}  "
      ]
     },
     "execution_count": 10,
     "metadata": {},
     "output_type": "execute_result"
    }
   ],
   "source": [
    "df_hourly.head()"
   ]
  },
  {
   "cell_type": "code",
   "execution_count": null,
   "metadata": {},
   "outputs": [],
   "source": []
  }
 ],
 "metadata": {
  "interpreter": {
   "hash": "c1b4cfe941b6d2466ad1fb5979e97da9cda8801728c8091b097ab734208fc00c"
  },
  "kernelspec": {
   "display_name": "Python 3.8.3 64-bit ('base': conda)",
   "name": "python3"
  },
  "language_info": {
   "codemirror_mode": {
    "name": "ipython",
    "version": 3
   },
   "file_extension": ".py",
   "mimetype": "text/x-python",
   "name": "python",
   "nbconvert_exporter": "python",
   "pygments_lexer": "ipython3",
   "version": "3.8.12"
  }
 },
 "nbformat": 4,
 "nbformat_minor": 2
}
