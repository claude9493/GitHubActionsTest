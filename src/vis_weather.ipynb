{
 "cells": [
  {
   "cell_type": "code",
   "execution_count": 1,
   "metadata": {
    "execution": {
     "iopub.execute_input": "2021-09-12T14:13:40.281316Z",
     "iopub.status.busy": "2021-09-12T14:13:40.280462Z",
     "iopub.status.idle": "2021-09-12T14:13:43.563228Z",
     "shell.execute_reply": "2021-09-12T14:13:43.562611Z"
    }
   },
   "outputs": [],
   "source": [
    "import json, yaml, requests\r\n",
    "from datetime import datetime\r\n",
    "from dateutil import tz\r\n",
    "import pandas as pd\r\n",
    "from PIL import Image\r\n",
    "from io import BytesIO\r\n",
    "import matplotlib.pyplot as plt\r\n",
    "import seaborn\r\n",
    "\r\n",
    "CONFIG_PATH = \"../config/config.yaml\""
   ]
  },
  {
   "cell_type": "code",
   "execution_count": 2,
   "metadata": {
    "execution": {
     "iopub.execute_input": "2021-09-12T14:13:43.571521Z",
     "iopub.status.busy": "2021-09-12T14:13:43.568078Z",
     "iopub.status.idle": "2021-09-12T14:13:43.574102Z",
     "shell.execute_reply": "2021-09-12T14:13:43.574521Z"
    }
   },
   "outputs": [],
   "source": [
    "with open('../newest_ts', 'r') as f:\r\n",
    "    newest_ts = f.read()\r\n",
    "\r\n",
    "data_path = f\"../data/data_{newest_ts}.json\"\r\n",
    "with open(data_path, 'r') as f:\r\n",
    "    data = json.load(f)\r\n",
    "\r\n",
    "with open(CONFIG_PATH, \"r\") as stream:\r\n",
    "    config = yaml.safe_load(stream)\r\n",
    "\r\n",
    "TIME_ZONE = config['time_zone']\r\n",
    "DATETIME_FORMAT = config['dt_format']"
   ]
  },
  {
   "cell_type": "code",
   "execution_count": 3,
   "metadata": {
    "execution": {
     "iopub.execute_input": "2021-09-12T14:13:43.579655Z",
     "iopub.status.busy": "2021-09-12T14:13:43.578976Z",
     "iopub.status.idle": "2021-09-12T14:13:43.586672Z",
     "shell.execute_reply": "2021-09-12T14:13:43.586120Z"
    }
   },
   "outputs": [
    {
     "name": "stdout",
     "output_type": "stream",
     "text": [
      "Recent query happens at 2021-09-12 22:13:36 (CST).\n"
     ]
    }
   ],
   "source": [
    "def ts2dt(ts, format=DATETIME_FORMAT):\r\n",
    "    dt = (datetime.utcfromtimestamp(int(ts))\r\n",
    "                    .replace(tzinfo=tz.tzutc())\r\n",
    "                    # .astimezone(tz.tzlocal())\r\n",
    "                    .astimezone(tz.gettz(TIME_ZONE)))\r\n",
    "    return dt.strftime(format), dt\r\n",
    "\r\n",
    "_, newest_dt = ts2dt(newest_ts)\r\n",
    "print(f\"Recent query happens at {newest_dt.strftime(DATETIME_FORMAT)} ({newest_dt.tzname()}).\")"
   ]
  },
  {
   "cell_type": "code",
   "execution_count": 4,
   "metadata": {
    "execution": {
     "iopub.execute_input": "2021-09-12T14:13:43.592047Z",
     "iopub.status.busy": "2021-09-12T14:13:43.591489Z",
     "iopub.status.idle": "2021-09-12T14:13:43.593841Z",
     "shell.execute_reply": "2021-09-12T14:13:43.593369Z"
    }
   },
   "outputs": [],
   "source": [
    "def degrees_to_cardinal(d):\r\n",
    "  dirs = ['N', 'NNE', 'NE', 'ENE', 'E', 'ESE', 'SE', 'SSE', 'S', 'SSW', 'SW', 'WSW', 'W', 'WNW', 'NW', 'NNW']\r\n",
    "  ix = int(round(d / (360. / len(dirs))))\r\n",
    "  return dirs[ix % len(dirs)]"
   ]
  },
  {
   "cell_type": "code",
   "execution_count": 5,
   "metadata": {
    "execution": {
     "iopub.execute_input": "2021-09-12T14:13:43.598500Z",
     "iopub.status.busy": "2021-09-12T14:13:43.597082Z",
     "iopub.status.idle": "2021-09-12T14:13:43.599106Z",
     "shell.execute_reply": "2021-09-12T14:13:43.599565Z"
    }
   },
   "outputs": [],
   "source": [
    "# data.keys()"
   ]
  },
  {
   "cell_type": "code",
   "execution_count": 6,
   "metadata": {
    "execution": {
     "iopub.execute_input": "2021-09-12T14:13:43.603606Z",
     "iopub.status.busy": "2021-09-12T14:13:43.602959Z",
     "iopub.status.idle": "2021-09-12T14:13:43.606141Z",
     "shell.execute_reply": "2021-09-12T14:13:43.606615Z"
    }
   },
   "outputs": [],
   "source": [
    "# data['current']"
   ]
  },
  {
   "cell_type": "code",
   "execution_count": 7,
   "metadata": {
    "execution": {
     "iopub.execute_input": "2021-09-12T14:13:43.636158Z",
     "iopub.status.busy": "2021-09-12T14:13:43.627324Z",
     "iopub.status.idle": "2021-09-12T14:13:44.089502Z",
     "shell.execute_reply": "2021-09-12T14:13:44.090442Z"
    }
   },
   "outputs": [
    {
     "data": {
      "image/png": "[encoded data removed]",
      "text/plain": [
       "<Figure size 216x216 with 1 Axes>"
      ]
     },
     "metadata": {
      "needs_background": "light"
     },
     "output_type": "display_data"
    },
    {
     "name": "stdout",
     "output_type": "stream",
     "text": [
      "Today, sun rises at 06:08 and sets at 18:30.\n",
      "Currently, the weather is Rain (light rain).\n",
      "The temperature is 30.98°C and it feels like 37.98°C.\n",
      "The UV index is 0, humidity is 85%.\n",
      "The pressure is 1004 hPa, percentage of cloud cover is 100%\n",
      "The wind comes from SW direction with a speed 3.39 m/s.\n"
     ]
    }
   ],
   "source": [
    "current = data['current']\r\n",
    "\r\n",
    "fig, ax = plt.subplots(figsize=(3, 3))\r\n",
    "icon = requests.get(f\"http://openweathermap.org/img/wn/{current['weather'][0]['icon']}@2x.png\")\r\n",
    "im = Image.open(BytesIO(icon.content))\r\n",
    "plt.imshow(im)\r\n",
    "ax.set_axis_off()\r\n",
    "plt.show()\r\n",
    "\r\n",
    "print(f\"Today, sun rises at {ts2dt(current['sunrise'], '%H:%M')[0]} \\\r\n",
    "and sets at {ts2dt(current['sunset'], '%H:%M')[0]}.\\n\\\r\n",
    "Currently, the weather is {current['weather'][0]['main']} ({current['weather'][0]['description']}).\\n\\\r\n",
    "The temperature is {current['temp']}°C and it feels like {current['feels_like']}°C.\\n\\\r\n",
    "The UV index is {current['uvi']}, humidity is {current['humidity']}%.\\n\\\r\n",
    "The pressure is {current['pressure']} hPa, percentage of cloud cover is {current['clouds']}%\\n\\\r\n",
    "The wind comes from {degrees_to_cardinal(current['wind_deg'])} direction with a speed {current['wind_speed']} m/s.\")"
   ]
  },
  {
   "cell_type": "code",
   "execution_count": 8,
   "metadata": {
    "execution": {
     "iopub.execute_input": "2021-09-12T14:13:44.093964Z",
     "iopub.status.busy": "2021-09-12T14:13:44.092829Z",
     "iopub.status.idle": "2021-09-12T14:13:44.100970Z",
     "shell.execute_reply": "2021-09-12T14:13:44.101658Z"
    }
   },
   "outputs": [],
   "source": [
    "df_hourly = pd.DataFrame(data['hourly'])\r\n",
    "df_daily = pd.DataFrame(data['daily'])"
   ]
  },
  {
   "cell_type": "code",
   "execution_count": 9,
   "metadata": {
    "execution": {
     "iopub.execute_input": "2021-09-12T14:13:44.105502Z",
     "iopub.status.busy": "2021-09-12T14:13:44.104172Z",
     "iopub.status.idle": "2021-09-12T14:13:44.449339Z",
     "shell.execute_reply": "2021-09-12T14:13:44.448836Z"
    }
   },
   "outputs": [
    {
     "data": {
      "image/png": "[encoded data removed]",
      "text/plain": [
       "<Figure size 864x432 with 1 Axes>"
      ]
     },
     "metadata": {
      "needs_background": "light"
     },
     "output_type": "display_data"
    }
   ],
   "source": [
    "fig, ax = plt.subplots(figsize=(12, 6))\r\n",
    "plt.plot(df_hourly.temp, '.-', label='Temperature')\r\n",
    "plt.plot(df_hourly.feels_like, '.-', label='Feels Like')\r\n",
    "ax.set(title='Temperature in future 48 hours', xlabel='Time', ylabel='Temperature')\r\n",
    "ax.set_xticks(list(range(0, len(df_hourly), 2)))\r\n",
    "ax.set_xticklabels([ts2dt(ts, '%m-%d %H:%M')[0] for i, ts in enumerate(df_hourly.dt) if i%2==0], \r\n",
    "                   rotation=45, ha=\"right\")\r\n",
    "ax.locator_params(nbins=15, axis='y')\r\n",
    "plt.legend()\r\n",
    "plt.show()"
   ]
  },
  {
   "cell_type": "code",
   "execution_count": 10,
   "metadata": {
    "execution": {
     "iopub.execute_input": "2021-09-12T14:13:44.454423Z",
     "iopub.status.busy": "2021-09-12T14:13:44.453878Z",
     "iopub.status.idle": "2021-09-12T14:13:44.479202Z",
     "shell.execute_reply": "2021-09-12T14:13:44.478691Z"
    }
   },
   "outputs": [
    {
     "data": {
      "text/html": [
       "<div>\n",
       "<style scoped>\n",
       "    .dataframe tbody tr th:only-of-type {\n",
       "        vertical-align: middle;\n",
       "    }\n",
       "\n",
       "    .dataframe tbody tr th {\n",
       "        vertical-align: top;\n",
       "    }\n",
       "\n",
       "    .dataframe thead th {\n",
       "        text-align: right;\n",
       "    }\n",
       "</style>\n",
       "<table border=\"1\" class=\"dataframe\">\n",
       "  <thead>\n",
       "    <tr style=\"text-align: right;\">\n",
       "      <th></th>\n",
       "      <th>dt</th>\n",
       "      <th>temp</th>\n",
       "      <th>feels_like</th>\n",
       "      <th>pressure</th>\n",
       "      <th>humidity</th>\n",
       "      <th>dew_point</th>\n",
       "      <th>uvi</th>\n",
       "      <th>clouds</th>\n",
       "      <th>visibility</th>\n",
       "      <th>wind_speed</th>\n",
       "      <th>wind_deg</th>\n",
       "      <th>wind_gust</th>\n",
       "      <th>weather</th>\n",
       "      <th>pop</th>\n",
       "      <th>rain</th>\n",
       "    </tr>\n",
       "  </thead>\n",
       "  <tbody>\n",
       "    <tr>\n",
       "      <th>0</th>\n",
       "      <td>1631455200</td>\n",
       "      <td>30.98</td>\n",
       "      <td>37.98</td>\n",
       "      <td>1004</td>\n",
       "      <td>85</td>\n",
       "      <td>28.16</td>\n",
       "      <td>0.0</td>\n",
       "      <td>100</td>\n",
       "      <td>10000</td>\n",
       "      <td>3.39</td>\n",
       "      <td>218</td>\n",
       "      <td>4.01</td>\n",
       "      <td>[{'id': 500, 'main': 'Rain', 'description': 'l...</td>\n",
       "      <td>0.77</td>\n",
       "      <td>{'1h': 0.2}</td>\n",
       "    </tr>\n",
       "    <tr>\n",
       "      <th>1</th>\n",
       "      <td>1631458800</td>\n",
       "      <td>30.66</td>\n",
       "      <td>37.66</td>\n",
       "      <td>1004</td>\n",
       "      <td>83</td>\n",
       "      <td>27.44</td>\n",
       "      <td>0.0</td>\n",
       "      <td>100</td>\n",
       "      <td>10000</td>\n",
       "      <td>3.18</td>\n",
       "      <td>222</td>\n",
       "      <td>3.96</td>\n",
       "      <td>[{'id': 500, 'main': 'Rain', 'description': 'l...</td>\n",
       "      <td>0.74</td>\n",
       "      <td>{'1h': 0.32}</td>\n",
       "    </tr>\n",
       "    <tr>\n",
       "      <th>2</th>\n",
       "      <td>1631462400</td>\n",
       "      <td>30.30</td>\n",
       "      <td>37.30</td>\n",
       "      <td>1004</td>\n",
       "      <td>82</td>\n",
       "      <td>26.88</td>\n",
       "      <td>0.0</td>\n",
       "      <td>100</td>\n",
       "      <td>10000</td>\n",
       "      <td>3.17</td>\n",
       "      <td>223</td>\n",
       "      <td>4.09</td>\n",
       "      <td>[{'id': 500, 'main': 'Rain', 'description': 'l...</td>\n",
       "      <td>0.75</td>\n",
       "      <td>{'1h': 0.21}</td>\n",
       "    </tr>\n",
       "    <tr>\n",
       "      <th>3</th>\n",
       "      <td>1631466000</td>\n",
       "      <td>29.73</td>\n",
       "      <td>36.73</td>\n",
       "      <td>1004</td>\n",
       "      <td>81</td>\n",
       "      <td>26.12</td>\n",
       "      <td>0.0</td>\n",
       "      <td>100</td>\n",
       "      <td>10000</td>\n",
       "      <td>2.98</td>\n",
       "      <td>229</td>\n",
       "      <td>3.89</td>\n",
       "      <td>[{'id': 500, 'main': 'Rain', 'description': 'l...</td>\n",
       "      <td>0.79</td>\n",
       "      <td>{'1h': 0.22}</td>\n",
       "    </tr>\n",
       "    <tr>\n",
       "      <th>4</th>\n",
       "      <td>1631469600</td>\n",
       "      <td>29.21</td>\n",
       "      <td>35.33</td>\n",
       "      <td>1004</td>\n",
       "      <td>80</td>\n",
       "      <td>25.40</td>\n",
       "      <td>0.0</td>\n",
       "      <td>100</td>\n",
       "      <td>10000</td>\n",
       "      <td>2.99</td>\n",
       "      <td>224</td>\n",
       "      <td>3.80</td>\n",
       "      <td>[{'id': 500, 'main': 'Rain', 'description': 'l...</td>\n",
       "      <td>0.87</td>\n",
       "      <td>{'1h': 0.44}</td>\n",
       "    </tr>\n",
       "  </tbody>\n",
       "</table>\n",
       "</div>"
      ],
      "text/plain": [
       "           dt   temp  feels_like  pressure  humidity  dew_point  uvi  clouds  \\\n",
       "0  1631455200  30.98       37.98      1004        85      28.16  0.0     100   \n",
       "1  1631458800  30.66       37.66      1004        83      27.44  0.0     100   \n",
       "2  1631462400  30.30       37.30      1004        82      26.88  0.0     100   \n",
       "3  1631466000  29.73       36.73      1004        81      26.12  0.0     100   \n",
       "4  1631469600  29.21       35.33      1004        80      25.40  0.0     100   \n",
       "\n",
       "   visibility  wind_speed  wind_deg  wind_gust  \\\n",
       "0       10000        3.39       218       4.01   \n",
       "1       10000        3.18       222       3.96   \n",
       "2       10000        3.17       223       4.09   \n",
       "3       10000        2.98       229       3.89   \n",
       "4       10000        2.99       224       3.80   \n",
       "\n",
       "                                             weather   pop          rain  \n",
       "0  [{'id': 500, 'main': 'Rain', 'description': 'l...  0.77   {'1h': 0.2}  \n",
       "1  [{'id': 500, 'main': 'Rain', 'description': 'l...  0.74  {'1h': 0.32}  \n",
       "2  [{'id': 500, 'main': 'Rain', 'description': 'l...  0.75  {'1h': 0.21}  \n",
       "3  [{'id': 500, 'main': 'Rain', 'description': 'l...  0.79  {'1h': 0.22}  \n",
       "4  [{'id': 500, 'main': 'Rain', 'description': 'l...  0.87  {'1h': 0.44}  "
      ]
     },
     "execution_count": 10,
     "metadata": {},
     "output_type": "execute_result"
    }
   ],
   "source": [
    "df_hourly.head()"
   ]
  },
  {
   "cell_type": "code",
   "execution_count": null,
   "metadata": {},
   "outputs": [],
   "source": []
  }
 ],
 "metadata": {
  "interpreter": {
   "hash": "c1b4cfe941b6d2466ad1fb5979e97da9cda8801728c8091b097ab734208fc00c"
  },
  "kernelspec": {
   "display_name": "Python 3.8.3 64-bit ('base': conda)",
   "name": "python3"
  },
  "language_info": {
   "codemirror_mode": {
    "name": "ipython",
    "version": 3
   },
   "file_extension": ".py",
   "mimetype": "text/x-python",
   "name": "python",
   "nbconvert_exporter": "python",
   "pygments_lexer": "ipython3",
   "version": "3.8.11"
  }
 },
 "nbformat": 4,
 "nbformat_minor": 2
}
