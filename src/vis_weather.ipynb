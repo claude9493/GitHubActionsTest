{
 "cells": [
  {
   "cell_type": "code",
   "execution_count": 1,
   "metadata": {
    "execution": {
     "iopub.execute_input": "2021-09-14T12:19:55.439509Z",
     "iopub.status.busy": "2021-09-14T12:19:55.438884Z",
     "iopub.status.idle": "2021-09-14T12:19:57.579848Z",
     "shell.execute_reply": "2021-09-14T12:19:57.579176Z"
    }
   },
   "outputs": [],
   "source": [
    "import json, yaml, requests\r\n",
    "from datetime import datetime\r\n",
    "from dateutil import tz\r\n",
    "import pandas as pd\r\n",
    "from PIL import Image\r\n",
    "from io import BytesIO\r\n",
    "import matplotlib.pyplot as plt\r\n",
    "import seaborn\r\n",
    "\r\n",
    "CONFIG_PATH = \"../config/config.yaml\""
   ]
  },
  {
   "cell_type": "code",
   "execution_count": 2,
   "metadata": {
    "execution": {
     "iopub.execute_input": "2021-09-14T12:19:57.588854Z",
     "iopub.status.busy": "2021-09-14T12:19:57.588289Z",
     "iopub.status.idle": "2021-09-14T12:19:57.591953Z",
     "shell.execute_reply": "2021-09-14T12:19:57.591496Z"
    }
   },
   "outputs": [],
   "source": [
    "with open('../newest_ts', 'r') as f:\r\n",
    "    newest_ts = f.read()\r\n",
    "\r\n",
    "data_path = f\"../data/data_{newest_ts}.json\"\r\n",
    "with open(data_path, 'r') as f:\r\n",
    "    data = json.load(f)\r\n",
    "\r\n",
    "with open(CONFIG_PATH, \"r\") as stream:\r\n",
    "    config = yaml.safe_load(stream)\r\n",
    "\r\n",
    "TIME_ZONE = config['time_zone']\r\n",
    "DATETIME_FORMAT = config['dt_format']"
   ]
  },
  {
   "cell_type": "code",
   "execution_count": 3,
   "metadata": {
    "execution": {
     "iopub.execute_input": "2021-09-14T12:19:57.597258Z",
     "iopub.status.busy": "2021-09-14T12:19:57.596731Z",
     "iopub.status.idle": "2021-09-14T12:19:57.650398Z",
     "shell.execute_reply": "2021-09-14T12:19:57.650885Z"
    }
   },
   "outputs": [
    {
     "name": "stdout",
     "output_type": "stream",
     "text": [
      "Recent query happens at 2021-09-14 20:19:52 (CST).\n"
     ]
    }
   ],
   "source": [
    "def ts2dt(ts, format=DATETIME_FORMAT):\r\n",
    "    dt = (datetime.utcfromtimestamp(int(ts))\r\n",
    "                    .replace(tzinfo=tz.tzutc())\r\n",
    "                    # .astimezone(tz.tzlocal())\r\n",
    "                    .astimezone(tz.gettz(TIME_ZONE)))\r\n",
    "    return dt.strftime(format), dt\r\n",
    "\r\n",
    "_, newest_dt = ts2dt(newest_ts)\r\n",
    "print(f\"Recent query happens at {newest_dt.strftime(DATETIME_FORMAT)} ({newest_dt.tzname()}).\")"
   ]
  },
  {
   "cell_type": "code",
   "execution_count": 4,
   "metadata": {
    "execution": {
     "iopub.execute_input": "2021-09-14T12:19:57.657166Z",
     "iopub.status.busy": "2021-09-14T12:19:57.655957Z",
     "iopub.status.idle": "2021-09-14T12:19:57.657793Z",
     "shell.execute_reply": "2021-09-14T12:19:57.658288Z"
    }
   },
   "outputs": [],
   "source": [
    "def degrees_to_cardinal(d):\r\n",
    "  dirs = ['N', 'NNE', 'NE', 'ENE', 'E', 'ESE', 'SE', 'SSE', 'S', 'SSW', 'SW', 'WSW', 'W', 'WNW', 'NW', 'NNW']\r\n",
    "  ix = int(round(d / (360. / len(dirs))))\r\n",
    "  return dirs[ix % len(dirs)]"
   ]
  },
  {
   "cell_type": "code",
   "execution_count": 5,
   "metadata": {
    "execution": {
     "iopub.execute_input": "2021-09-14T12:19:57.666477Z",
     "iopub.status.busy": "2021-09-14T12:19:57.664834Z",
     "iopub.status.idle": "2021-09-14T12:19:57.667099Z",
     "shell.execute_reply": "2021-09-14T12:19:57.667524Z"
    }
   },
   "outputs": [],
   "source": [
    "# data.keys()"
   ]
  },
  {
   "cell_type": "code",
   "execution_count": 6,
   "metadata": {
    "execution": {
     "iopub.execute_input": "2021-09-14T12:19:57.672377Z",
     "iopub.status.busy": "2021-09-14T12:19:57.671141Z",
     "iopub.status.idle": "2021-09-14T12:19:57.672969Z",
     "shell.execute_reply": "2021-09-14T12:19:57.673392Z"
    }
   },
   "outputs": [],
   "source": [
    "# data['current']"
   ]
  },
  {
   "cell_type": "code",
   "execution_count": 7,
   "metadata": {
    "execution": {
     "iopub.execute_input": "2021-09-14T12:19:57.700750Z",
     "iopub.status.busy": "2021-09-14T12:19:57.700160Z",
     "iopub.status.idle": "2021-09-14T12:19:57.991352Z",
     "shell.execute_reply": "2021-09-14T12:19:57.990223Z"
    }
   },
   "outputs": [
    {
     "data": {
      "image/png": "[encoded data removed]",
      "text/plain": [
       "<Figure size 216x216 with 1 Axes>"
      ]
     },
     "metadata": {
      "needs_background": "light"
     },
     "output_type": "display_data"
    },
    {
     "name": "stdout",
     "output_type": "stream",
     "text": [
      "Today, sun rises at 06:09 and sets at 18:28.\n",
      "Currently, the weather is Rain (light rain).\n",
      "The temperature is 29.21°C and it feels like 35.33°C.\n",
      "The UV index is 0, humidity is 80%.\n",
      "The pressure is 1011 hPa, percentage of cloud cover is 99%\n",
      "The wind comes from SW direction with a speed 2.36 m/s.\n"
     ]
    }
   ],
   "source": [
    "current = data['current']\r\n",
    "\r\n",
    "fig, ax = plt.subplots(figsize=(3, 3))\r\n",
    "icon = requests.get(f\"http://openweathermap.org/img/wn/{current['weather'][0]['icon']}@2x.png\")\r\n",
    "im = Image.open(BytesIO(icon.content))\r\n",
    "plt.imshow(im)\r\n",
    "ax.set_axis_off()\r\n",
    "plt.show()\r\n",
    "\r\n",
    "print(f\"Today, sun rises at {ts2dt(current['sunrise'], '%H:%M')[0]} \\\r\n",
    "and sets at {ts2dt(current['sunset'], '%H:%M')[0]}.\\n\\\r\n",
    "Currently, the weather is {current['weather'][0]['main']} ({current['weather'][0]['description']}).\\n\\\r\n",
    "The temperature is {current['temp']}°C and it feels like {current['feels_like']}°C.\\n\\\r\n",
    "The UV index is {current['uvi']}, humidity is {current['humidity']}%.\\n\\\r\n",
    "The pressure is {current['pressure']} hPa, percentage of cloud cover is {current['clouds']}%\\n\\\r\n",
    "The wind comes from {degrees_to_cardinal(current['wind_deg'])} direction with a speed {current['wind_speed']} m/s.\")"
   ]
  },
  {
   "cell_type": "code",
   "execution_count": 8,
   "metadata": {
    "execution": {
     "iopub.execute_input": "2021-09-14T12:19:57.999234Z",
     "iopub.status.busy": "2021-09-14T12:19:57.998665Z",
     "iopub.status.idle": "2021-09-14T12:19:58.000766Z",
     "shell.execute_reply": "2021-09-14T12:19:58.001172Z"
    }
   },
   "outputs": [],
   "source": [
    "df_hourly = pd.DataFrame(data['hourly'])\r\n",
    "df_daily = pd.DataFrame(data['daily'])"
   ]
  },
  {
   "cell_type": "code",
   "execution_count": 9,
   "metadata": {
    "execution": {
     "iopub.execute_input": "2021-09-14T12:19:58.018565Z",
     "iopub.status.busy": "2021-09-14T12:19:58.014364Z",
     "iopub.status.idle": "2021-09-14T12:19:58.307769Z",
     "shell.execute_reply": "2021-09-14T12:19:58.308269Z"
    }
   },
   "outputs": [
    {
     "data": {
      "image/png": "[encoded data removed]",
      "text/plain": [
       "<Figure size 864x432 with 1 Axes>"
      ]
     },
     "metadata": {
      "needs_background": "light"
     },
     "output_type": "display_data"
    }
   ],
   "source": [
    "fig, ax = plt.subplots(figsize=(12, 6))\r\n",
    "plt.plot(df_hourly.temp, '.-', label='Temperature')\r\n",
    "plt.plot(df_hourly.feels_like, '.-', label='Feels Like')\r\n",
    "ax.set(title='Temperature in future 48 hours', xlabel='Time', ylabel='Temperature')\r\n",
    "ax.set_xticks(list(range(0, len(df_hourly), 2)))\r\n",
    "ax.set_xticklabels([ts2dt(ts, '%m-%d %H:%M')[0] for i, ts in enumerate(df_hourly.dt) if i%2==0], \r\n",
    "                   rotation=45, ha=\"right\")\r\n",
    "ax.locator_params(nbins=15, axis='y')\r\n",
    "plt.legend()\r\n",
    "plt.show()"
   ]
  },
  {
   "cell_type": "code",
   "execution_count": 10,
   "metadata": {
    "execution": {
     "iopub.execute_input": "2021-09-14T12:19:58.312989Z",
     "iopub.status.busy": "2021-09-14T12:19:58.312456Z",
     "iopub.status.idle": "2021-09-14T12:19:58.334529Z",
     "shell.execute_reply": "2021-09-14T12:19:58.333925Z"
    }
   },
   "outputs": [
    {
     "data": {
      "text/html": [
       "<div>\n",
       "<style scoped>\n",
       "    .dataframe tbody tr th:only-of-type {\n",
       "        vertical-align: middle;\n",
       "    }\n",
       "\n",
       "    .dataframe tbody tr th {\n",
       "        vertical-align: top;\n",
       "    }\n",
       "\n",
       "    .dataframe thead th {\n",
       "        text-align: right;\n",
       "    }\n",
       "</style>\n",
       "<table border=\"1\" class=\"dataframe\">\n",
       "  <thead>\n",
       "    <tr style=\"text-align: right;\">\n",
       "      <th></th>\n",
       "      <th>dt</th>\n",
       "      <th>temp</th>\n",
       "      <th>feels_like</th>\n",
       "      <th>pressure</th>\n",
       "      <th>humidity</th>\n",
       "      <th>dew_point</th>\n",
       "      <th>uvi</th>\n",
       "      <th>clouds</th>\n",
       "      <th>visibility</th>\n",
       "      <th>wind_speed</th>\n",
       "      <th>wind_deg</th>\n",
       "      <th>wind_gust</th>\n",
       "      <th>weather</th>\n",
       "      <th>pop</th>\n",
       "      <th>rain</th>\n",
       "    </tr>\n",
       "  </thead>\n",
       "  <tbody>\n",
       "    <tr>\n",
       "      <th>0</th>\n",
       "      <td>1631620800</td>\n",
       "      <td>29.21</td>\n",
       "      <td>35.33</td>\n",
       "      <td>1011</td>\n",
       "      <td>80</td>\n",
       "      <td>25.40</td>\n",
       "      <td>0.0</td>\n",
       "      <td>99</td>\n",
       "      <td>10000</td>\n",
       "      <td>2.36</td>\n",
       "      <td>219</td>\n",
       "      <td>2.64</td>\n",
       "      <td>[{'id': 500, 'main': 'Rain', 'description': 'l...</td>\n",
       "      <td>0.59</td>\n",
       "      <td>{'1h': 0.24}</td>\n",
       "    </tr>\n",
       "    <tr>\n",
       "      <th>1</th>\n",
       "      <td>1631624400</td>\n",
       "      <td>29.09</td>\n",
       "      <td>34.99</td>\n",
       "      <td>1011</td>\n",
       "      <td>80</td>\n",
       "      <td>25.28</td>\n",
       "      <td>0.0</td>\n",
       "      <td>98</td>\n",
       "      <td>10000</td>\n",
       "      <td>2.59</td>\n",
       "      <td>213</td>\n",
       "      <td>2.99</td>\n",
       "      <td>[{'id': 500, 'main': 'Rain', 'description': 'l...</td>\n",
       "      <td>0.86</td>\n",
       "      <td>{'1h': 0.15}</td>\n",
       "    </tr>\n",
       "    <tr>\n",
       "      <th>2</th>\n",
       "      <td>1631628000</td>\n",
       "      <td>28.95</td>\n",
       "      <td>34.60</td>\n",
       "      <td>1012</td>\n",
       "      <td>80</td>\n",
       "      <td>25.15</td>\n",
       "      <td>0.0</td>\n",
       "      <td>98</td>\n",
       "      <td>10000</td>\n",
       "      <td>2.79</td>\n",
       "      <td>218</td>\n",
       "      <td>3.38</td>\n",
       "      <td>[{'id': 500, 'main': 'Rain', 'description': 'l...</td>\n",
       "      <td>0.92</td>\n",
       "      <td>{'1h': 0.24}</td>\n",
       "    </tr>\n",
       "    <tr>\n",
       "      <th>3</th>\n",
       "      <td>1631631600</td>\n",
       "      <td>28.81</td>\n",
       "      <td>34.22</td>\n",
       "      <td>1012</td>\n",
       "      <td>80</td>\n",
       "      <td>25.01</td>\n",
       "      <td>0.0</td>\n",
       "      <td>98</td>\n",
       "      <td>10000</td>\n",
       "      <td>2.73</td>\n",
       "      <td>231</td>\n",
       "      <td>3.37</td>\n",
       "      <td>[{'id': 500, 'main': 'Rain', 'description': 'l...</td>\n",
       "      <td>1.00</td>\n",
       "      <td>{'1h': 0.44}</td>\n",
       "    </tr>\n",
       "    <tr>\n",
       "      <th>4</th>\n",
       "      <td>1631635200</td>\n",
       "      <td>28.66</td>\n",
       "      <td>34.01</td>\n",
       "      <td>1012</td>\n",
       "      <td>81</td>\n",
       "      <td>25.07</td>\n",
       "      <td>0.0</td>\n",
       "      <td>98</td>\n",
       "      <td>10000</td>\n",
       "      <td>2.52</td>\n",
       "      <td>243</td>\n",
       "      <td>3.19</td>\n",
       "      <td>[{'id': 500, 'main': 'Rain', 'description': 'l...</td>\n",
       "      <td>1.00</td>\n",
       "      <td>{'1h': 0.14}</td>\n",
       "    </tr>\n",
       "  </tbody>\n",
       "</table>\n",
       "</div>"
      ],
      "text/plain": [
       "           dt   temp  feels_like  pressure  humidity  dew_point  uvi  clouds  \\\n",
       "0  1631620800  29.21       35.33      1011        80      25.40  0.0      99   \n",
       "1  1631624400  29.09       34.99      1011        80      25.28  0.0      98   \n",
       "2  1631628000  28.95       34.60      1012        80      25.15  0.0      98   \n",
       "3  1631631600  28.81       34.22      1012        80      25.01  0.0      98   \n",
       "4  1631635200  28.66       34.01      1012        81      25.07  0.0      98   \n",
       "\n",
       "   visibility  wind_speed  wind_deg  wind_gust  \\\n",
       "0       10000        2.36       219       2.64   \n",
       "1       10000        2.59       213       2.99   \n",
       "2       10000        2.79       218       3.38   \n",
       "3       10000        2.73       231       3.37   \n",
       "4       10000        2.52       243       3.19   \n",
       "\n",
       "                                             weather   pop          rain  \n",
       "0  [{'id': 500, 'main': 'Rain', 'description': 'l...  0.59  {'1h': 0.24}  \n",
       "1  [{'id': 500, 'main': 'Rain', 'description': 'l...  0.86  {'1h': 0.15}  \n",
       "2  [{'id': 500, 'main': 'Rain', 'description': 'l...  0.92  {'1h': 0.24}  \n",
       "3  [{'id': 500, 'main': 'Rain', 'description': 'l...  1.00  {'1h': 0.44}  \n",
       "4  [{'id': 500, 'main': 'Rain', 'description': 'l...  1.00  {'1h': 0.14}  "
      ]
     },
     "execution_count": 10,
     "metadata": {},
     "output_type": "execute_result"
    }
   ],
   "source": [
    "df_hourly.head()"
   ]
  },
  {
   "cell_type": "code",
   "execution_count": null,
   "metadata": {},
   "outputs": [],
   "source": []
  }
 ],
 "metadata": {
  "interpreter": {
   "hash": "c1b4cfe941b6d2466ad1fb5979e97da9cda8801728c8091b097ab734208fc00c"
  },
  "kernelspec": {
   "display_name": "Python 3.8.3 64-bit ('base': conda)",
   "name": "python3"
  },
  "language_info": {
   "codemirror_mode": {
    "name": "ipython",
    "version": 3
   },
   "file_extension": ".py",
   "mimetype": "text/x-python",
   "name": "python",
   "nbconvert_exporter": "python",
   "pygments_lexer": "ipython3",
   "version": "3.8.11"
  }
 },
 "nbformat": 4,
 "nbformat_minor": 2
}
