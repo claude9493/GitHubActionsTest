{
 "cells": [
  {
   "cell_type": "code",
   "execution_count": 1,
   "metadata": {
    "execution": {
     "iopub.execute_input": "2021-09-15T08:13:26.019154Z",
     "iopub.status.busy": "2021-09-15T08:13:26.018414Z",
     "iopub.status.idle": "2021-09-15T08:13:27.705808Z",
     "shell.execute_reply": "2021-09-15T08:13:27.704189Z"
    }
   },
   "outputs": [],
   "source": [
    "import json, yaml, requests\r\n",
    "from datetime import datetime\r\n",
    "from dateutil import tz\r\n",
    "import pandas as pd\r\n",
    "from PIL import Image\r\n",
    "from io import BytesIO\r\n",
    "import matplotlib.pyplot as plt\r\n",
    "import seaborn\r\n",
    "\r\n",
    "CONFIG_PATH = \"../config/config.yaml\""
   ]
  },
  {
   "cell_type": "code",
   "execution_count": 2,
   "metadata": {
    "execution": {
     "iopub.execute_input": "2021-09-15T08:13:27.714760Z",
     "iopub.status.busy": "2021-09-15T08:13:27.711536Z",
     "iopub.status.idle": "2021-09-15T08:13:27.717725Z",
     "shell.execute_reply": "2021-09-15T08:13:27.717192Z"
    }
   },
   "outputs": [],
   "source": [
    "with open('../newest_ts', 'r') as f:\r\n",
    "    newest_ts = f.read()\r\n",
    "\r\n",
    "data_path = f\"../data/data_{newest_ts}.json\"\r\n",
    "with open(data_path, 'r') as f:\r\n",
    "    data = json.load(f)\r\n",
    "\r\n",
    "with open(CONFIG_PATH, \"r\") as stream:\r\n",
    "    config = yaml.safe_load(stream)\r\n",
    "\r\n",
    "TIME_ZONE = config['time_zone']\r\n",
    "DATETIME_FORMAT = config['dt_format']"
   ]
  },
  {
   "cell_type": "code",
   "execution_count": 3,
   "metadata": {
    "execution": {
     "iopub.execute_input": "2021-09-15T08:13:27.722745Z",
     "iopub.status.busy": "2021-09-15T08:13:27.722175Z",
     "iopub.status.idle": "2021-09-15T08:13:27.750949Z",
     "shell.execute_reply": "2021-09-15T08:13:27.751555Z"
    }
   },
   "outputs": [
    {
     "name": "stdout",
     "output_type": "stream",
     "text": [
      "Recent query happens at 2021-09-15 16:13:22 (CST).\n"
     ]
    }
   ],
   "source": [
    "def ts2dt(ts, format=DATETIME_FORMAT):\r\n",
    "    dt = (datetime.utcfromtimestamp(int(ts))\r\n",
    "                    .replace(tzinfo=tz.tzutc())\r\n",
    "                    # .astimezone(tz.tzlocal())\r\n",
    "                    .astimezone(tz.gettz(TIME_ZONE)))\r\n",
    "    return dt.strftime(format), dt\r\n",
    "\r\n",
    "_, newest_dt = ts2dt(newest_ts)\r\n",
    "print(f\"Recent query happens at {newest_dt.strftime(DATETIME_FORMAT)} ({newest_dt.tzname()}).\")"
   ]
  },
  {
   "cell_type": "code",
   "execution_count": 4,
   "metadata": {
    "execution": {
     "iopub.execute_input": "2021-09-15T08:13:27.757517Z",
     "iopub.status.busy": "2021-09-15T08:13:27.756311Z",
     "iopub.status.idle": "2021-09-15T08:13:27.758117Z",
     "shell.execute_reply": "2021-09-15T08:13:27.758656Z"
    }
   },
   "outputs": [],
   "source": [
    "def degrees_to_cardinal(d):\r\n",
    "  dirs = ['N', 'NNE', 'NE', 'ENE', 'E', 'ESE', 'SE', 'SSE', 'S', 'SSW', 'SW', 'WSW', 'W', 'WNW', 'NW', 'NNW']\r\n",
    "  ix = int(round(d / (360. / len(dirs))))\r\n",
    "  return dirs[ix % len(dirs)]"
   ]
  },
  {
   "cell_type": "code",
   "execution_count": 5,
   "metadata": {
    "execution": {
     "iopub.execute_input": "2021-09-15T08:13:27.763376Z",
     "iopub.status.busy": "2021-09-15T08:13:27.762030Z",
     "iopub.status.idle": "2021-09-15T08:13:27.763971Z",
     "shell.execute_reply": "2021-09-15T08:13:27.764400Z"
    }
   },
   "outputs": [],
   "source": [
    "# data.keys()"
   ]
  },
  {
   "cell_type": "code",
   "execution_count": 6,
   "metadata": {
    "execution": {
     "iopub.execute_input": "2021-09-15T08:13:27.769027Z",
     "iopub.status.busy": "2021-09-15T08:13:27.767570Z",
     "iopub.status.idle": "2021-09-15T08:13:27.769629Z",
     "shell.execute_reply": "2021-09-15T08:13:27.770058Z"
    }
   },
   "outputs": [],
   "source": [
    "# data['current']"
   ]
  },
  {
   "cell_type": "code",
   "execution_count": 7,
   "metadata": {
    "execution": {
     "iopub.execute_input": "2021-09-15T08:13:27.795939Z",
     "iopub.status.busy": "2021-09-15T08:13:27.791099Z",
     "iopub.status.idle": "2021-09-15T08:13:28.277125Z",
     "shell.execute_reply": "2021-09-15T08:13:28.277899Z"
    }
   },
   "outputs": [
    {
     "data": {
      "image/png": "[encoded data removed]",
      "text/plain": [
       "<Figure size 216x216 with 1 Axes>"
      ]
     },
     "metadata": {
      "needs_background": "light"
     },
     "output_type": "display_data"
    },
    {
     "name": "stdout",
     "output_type": "stream",
     "text": [
      "Today, sun rises at 06:09 and sets at 18:27.\n",
      "Currently, the weather is Clouds (broken clouds).\n",
      "The temperature is 33.75°C and it feels like 40.75°C.\n",
      "The UV index is 2.88, humidity is 70%.\n",
      "The pressure is 1009 hPa, percentage of cloud cover is 59%\n",
      "The wind comes from WSW direction with a speed 4.97 m/s.\n"
     ]
    }
   ],
   "source": [
    "current = data['current']\r\n",
    "\r\n",
    "fig, ax = plt.subplots(figsize=(3, 3))\r\n",
    "icon = requests.get(f\"http://openweathermap.org/img/wn/{current['weather'][0]['icon']}@2x.png\")\r\n",
    "im = Image.open(BytesIO(icon.content))\r\n",
    "plt.imshow(im)\r\n",
    "ax.set_axis_off()\r\n",
    "plt.show()\r\n",
    "\r\n",
    "print(f\"Today, sun rises at {ts2dt(current['sunrise'], '%H:%M')[0]} \\\r\n",
    "and sets at {ts2dt(current['sunset'], '%H:%M')[0]}.\\n\\\r\n",
    "Currently, the weather is {current['weather'][0]['main']} ({current['weather'][0]['description']}).\\n\\\r\n",
    "The temperature is {current['temp']}°C and it feels like {current['feels_like']}°C.\\n\\\r\n",
    "The UV index is {current['uvi']}, humidity is {current['humidity']}%.\\n\\\r\n",
    "The pressure is {current['pressure']} hPa, percentage of cloud cover is {current['clouds']}%\\n\\\r\n",
    "The wind comes from {degrees_to_cardinal(current['wind_deg'])} direction with a speed {current['wind_speed']} m/s.\")"
   ]
  },
  {
   "cell_type": "code",
   "execution_count": 8,
   "metadata": {
    "execution": {
     "iopub.execute_input": "2021-09-15T08:13:28.281410Z",
     "iopub.status.busy": "2021-09-15T08:13:28.280876Z",
     "iopub.status.idle": "2021-09-15T08:13:28.288275Z",
     "shell.execute_reply": "2021-09-15T08:13:28.289022Z"
    }
   },
   "outputs": [],
   "source": [
    "df_hourly = pd.DataFrame(data['hourly'])\r\n",
    "df_daily = pd.DataFrame(data['daily'])"
   ]
  },
  {
   "cell_type": "code",
   "execution_count": 9,
   "metadata": {
    "execution": {
     "iopub.execute_input": "2021-09-15T08:13:28.292570Z",
     "iopub.status.busy": "2021-09-15T08:13:28.291478Z",
     "iopub.status.idle": "2021-09-15T08:13:28.592909Z",
     "shell.execute_reply": "2021-09-15T08:13:28.593349Z"
    }
   },
   "outputs": [
    {
     "data": {
      "image/png": "[encoded data removed]",
      "text/plain": [
       "<Figure size 864x432 with 1 Axes>"
      ]
     },
     "metadata": {
      "needs_background": "light"
     },
     "output_type": "display_data"
    }
   ],
   "source": [
    "fig, ax = plt.subplots(figsize=(12, 6))\r\n",
    "plt.plot(df_hourly.temp, '.-', label='Temperature')\r\n",
    "plt.plot(df_hourly.feels_like, '.-', label='Feels Like')\r\n",
    "ax.set(title='Temperature in future 48 hours', xlabel='Time', ylabel='Temperature')\r\n",
    "ax.set_xticks(list(range(0, len(df_hourly), 2)))\r\n",
    "ax.set_xticklabels([ts2dt(ts, '%m-%d %H:%M')[0] for i, ts in enumerate(df_hourly.dt) if i%2==0], \r\n",
    "                   rotation=45, ha=\"right\")\r\n",
    "ax.locator_params(nbins=15, axis='y')\r\n",
    "plt.legend()\r\n",
    "plt.show()"
   ]
  },
  {
   "cell_type": "code",
   "execution_count": 10,
   "metadata": {
    "execution": {
     "iopub.execute_input": "2021-09-15T08:13:28.598410Z",
     "iopub.status.busy": "2021-09-15T08:13:28.597838Z",
     "iopub.status.idle": "2021-09-15T08:13:28.618459Z",
     "shell.execute_reply": "2021-09-15T08:13:28.617941Z"
    }
   },
   "outputs": [
    {
     "data": {
      "text/html": [
       "<div>\n",
       "<style scoped>\n",
       "    .dataframe tbody tr th:only-of-type {\n",
       "        vertical-align: middle;\n",
       "    }\n",
       "\n",
       "    .dataframe tbody tr th {\n",
       "        vertical-align: top;\n",
       "    }\n",
       "\n",
       "    .dataframe thead th {\n",
       "        text-align: right;\n",
       "    }\n",
       "</style>\n",
       "<table border=\"1\" class=\"dataframe\">\n",
       "  <thead>\n",
       "    <tr style=\"text-align: right;\">\n",
       "      <th></th>\n",
       "      <th>dt</th>\n",
       "      <th>temp</th>\n",
       "      <th>feels_like</th>\n",
       "      <th>pressure</th>\n",
       "      <th>humidity</th>\n",
       "      <th>dew_point</th>\n",
       "      <th>uvi</th>\n",
       "      <th>clouds</th>\n",
       "      <th>visibility</th>\n",
       "      <th>wind_speed</th>\n",
       "      <th>wind_deg</th>\n",
       "      <th>wind_gust</th>\n",
       "      <th>weather</th>\n",
       "      <th>pop</th>\n",
       "      <th>rain</th>\n",
       "    </tr>\n",
       "  </thead>\n",
       "  <tbody>\n",
       "    <tr>\n",
       "      <th>0</th>\n",
       "      <td>1631692800</td>\n",
       "      <td>33.75</td>\n",
       "      <td>40.75</td>\n",
       "      <td>1009</td>\n",
       "      <td>70</td>\n",
       "      <td>27.51</td>\n",
       "      <td>2.88</td>\n",
       "      <td>59</td>\n",
       "      <td>10000</td>\n",
       "      <td>4.97</td>\n",
       "      <td>242</td>\n",
       "      <td>5.13</td>\n",
       "      <td>[{'id': 803, 'main': 'Clouds', 'description': ...</td>\n",
       "      <td>0.16</td>\n",
       "      <td>NaN</td>\n",
       "    </tr>\n",
       "    <tr>\n",
       "      <th>1</th>\n",
       "      <td>1631696400</td>\n",
       "      <td>33.03</td>\n",
       "      <td>40.03</td>\n",
       "      <td>1009</td>\n",
       "      <td>71</td>\n",
       "      <td>27.06</td>\n",
       "      <td>0.94</td>\n",
       "      <td>57</td>\n",
       "      <td>10000</td>\n",
       "      <td>5.27</td>\n",
       "      <td>244</td>\n",
       "      <td>5.79</td>\n",
       "      <td>[{'id': 803, 'main': 'Clouds', 'description': ...</td>\n",
       "      <td>0.36</td>\n",
       "      <td>NaN</td>\n",
       "    </tr>\n",
       "    <tr>\n",
       "      <th>2</th>\n",
       "      <td>1631700000</td>\n",
       "      <td>32.04</td>\n",
       "      <td>39.04</td>\n",
       "      <td>1009</td>\n",
       "      <td>73</td>\n",
       "      <td>26.59</td>\n",
       "      <td>0.15</td>\n",
       "      <td>59</td>\n",
       "      <td>10000</td>\n",
       "      <td>5.02</td>\n",
       "      <td>246</td>\n",
       "      <td>6.54</td>\n",
       "      <td>[{'id': 803, 'main': 'Clouds', 'description': ...</td>\n",
       "      <td>0.64</td>\n",
       "      <td>NaN</td>\n",
       "    </tr>\n",
       "    <tr>\n",
       "      <th>3</th>\n",
       "      <td>1631703600</td>\n",
       "      <td>30.83</td>\n",
       "      <td>37.83</td>\n",
       "      <td>1009</td>\n",
       "      <td>76</td>\n",
       "      <td>26.10</td>\n",
       "      <td>0.00</td>\n",
       "      <td>64</td>\n",
       "      <td>10000</td>\n",
       "      <td>4.16</td>\n",
       "      <td>242</td>\n",
       "      <td>5.39</td>\n",
       "      <td>[{'id': 500, 'main': 'Rain', 'description': 'l...</td>\n",
       "      <td>0.67</td>\n",
       "      <td>{'1h': 0.39}</td>\n",
       "    </tr>\n",
       "    <tr>\n",
       "      <th>4</th>\n",
       "      <td>1631707200</td>\n",
       "      <td>29.62</td>\n",
       "      <td>36.27</td>\n",
       "      <td>1010</td>\n",
       "      <td>79</td>\n",
       "      <td>25.59</td>\n",
       "      <td>0.00</td>\n",
       "      <td>68</td>\n",
       "      <td>9036</td>\n",
       "      <td>3.97</td>\n",
       "      <td>240</td>\n",
       "      <td>5.03</td>\n",
       "      <td>[{'id': 501, 'main': 'Rain', 'description': 'm...</td>\n",
       "      <td>0.73</td>\n",
       "      <td>{'1h': 1.3}</td>\n",
       "    </tr>\n",
       "  </tbody>\n",
       "</table>\n",
       "</div>"
      ],
      "text/plain": [
       "           dt   temp  feels_like  pressure  humidity  dew_point   uvi  clouds  \\\n",
       "0  1631692800  33.75       40.75      1009        70      27.51  2.88      59   \n",
       "1  1631696400  33.03       40.03      1009        71      27.06  0.94      57   \n",
       "2  1631700000  32.04       39.04      1009        73      26.59  0.15      59   \n",
       "3  1631703600  30.83       37.83      1009        76      26.10  0.00      64   \n",
       "4  1631707200  29.62       36.27      1010        79      25.59  0.00      68   \n",
       "\n",
       "   visibility  wind_speed  wind_deg  wind_gust  \\\n",
       "0       10000        4.97       242       5.13   \n",
       "1       10000        5.27       244       5.79   \n",
       "2       10000        5.02       246       6.54   \n",
       "3       10000        4.16       242       5.39   \n",
       "4        9036        3.97       240       5.03   \n",
       "\n",
       "                                             weather   pop          rain  \n",
       "0  [{'id': 803, 'main': 'Clouds', 'description': ...  0.16           NaN  \n",
       "1  [{'id': 803, 'main': 'Clouds', 'description': ...  0.36           NaN  \n",
       "2  [{'id': 803, 'main': 'Clouds', 'description': ...  0.64           NaN  \n",
       "3  [{'id': 500, 'main': 'Rain', 'description': 'l...  0.67  {'1h': 0.39}  \n",
       "4  [{'id': 501, 'main': 'Rain', 'description': 'm...  0.73   {'1h': 1.3}  "
      ]
     },
     "execution_count": 10,
     "metadata": {},
     "output_type": "execute_result"
    }
   ],
   "source": [
    "df_hourly.head()"
   ]
  },
  {
   "cell_type": "code",
   "execution_count": null,
   "metadata": {},
   "outputs": [],
   "source": []
  }
 ],
 "metadata": {
  "interpreter": {
   "hash": "c1b4cfe941b6d2466ad1fb5979e97da9cda8801728c8091b097ab734208fc00c"
  },
  "kernelspec": {
   "display_name": "Python 3.8.3 64-bit ('base': conda)",
   "name": "python3"
  },
  "language_info": {
   "codemirror_mode": {
    "name": "ipython",
    "version": 3
   },
   "file_extension": ".py",
   "mimetype": "text/x-python",
   "name": "python",
   "nbconvert_exporter": "python",
   "pygments_lexer": "ipython3",
   "version": "3.8.11"
  }
 },
 "nbformat": 4,
 "nbformat_minor": 2
}
