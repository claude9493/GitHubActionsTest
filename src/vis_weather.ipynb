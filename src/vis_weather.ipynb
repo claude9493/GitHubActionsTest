{
 "cells": [
  {
   "cell_type": "code",
   "execution_count": 1,
   "metadata": {
    "execution": {
     "iopub.execute_input": "2021-10-01T18:13:28.564586Z",
     "iopub.status.busy": "2021-10-01T18:13:28.560781Z",
     "iopub.status.idle": "2021-10-01T18:13:30.200949Z",
     "shell.execute_reply": "2021-10-01T18:13:30.199691Z"
    }
   },
   "outputs": [],
   "source": [
    "import json, yaml, requests\r\n",
    "from datetime import datetime\r\n",
    "from dateutil import tz\r\n",
    "import pandas as pd\r\n",
    "from PIL import Image\r\n",
    "from io import BytesIO\r\n",
    "import matplotlib.pyplot as plt\r\n",
    "import seaborn\r\n",
    "\r\n",
    "CONFIG_PATH = \"../config/config.yaml\""
   ]
  },
  {
   "cell_type": "code",
   "execution_count": 2,
   "metadata": {
    "execution": {
     "iopub.execute_input": "2021-10-01T18:13:30.207257Z",
     "iopub.status.busy": "2021-10-01T18:13:30.206605Z",
     "iopub.status.idle": "2021-10-01T18:13:30.213482Z",
     "shell.execute_reply": "2021-10-01T18:13:30.212845Z"
    }
   },
   "outputs": [],
   "source": [
    "with open('../newest_ts', 'r') as f:\r\n",
    "    newest_ts = f.read()\r\n",
    "\r\n",
    "data_path = f\"../data/data_{newest_ts}.json\"\r\n",
    "with open(data_path, 'r') as f:\r\n",
    "    data = json.load(f)\r\n",
    "\r\n",
    "with open(CONFIG_PATH, \"r\") as stream:\r\n",
    "    config = yaml.safe_load(stream)\r\n",
    "\r\n",
    "TIME_ZONE = config['time_zone']\r\n",
    "DATETIME_FORMAT = config['dt_format']"
   ]
  },
  {
   "cell_type": "code",
   "execution_count": 3,
   "metadata": {
    "execution": {
     "iopub.execute_input": "2021-10-01T18:13:30.219938Z",
     "iopub.status.busy": "2021-10-01T18:13:30.218832Z",
     "iopub.status.idle": "2021-10-01T18:13:30.253407Z",
     "shell.execute_reply": "2021-10-01T18:13:30.253980Z"
    }
   },
   "outputs": [
    {
     "name": "stdout",
     "output_type": "stream",
     "text": [
      "Recent query happens at 2021-10-02 02:13:24 (CST).\n"
     ]
    }
   ],
   "source": [
    "def ts2dt(ts, format=DATETIME_FORMAT):\r\n",
    "    dt = (datetime.utcfromtimestamp(int(ts))\r\n",
    "                    .replace(tzinfo=tz.tzutc())\r\n",
    "                    # .astimezone(tz.tzlocal())\r\n",
    "                    .astimezone(tz.gettz(TIME_ZONE)))\r\n",
    "    return dt.strftime(format), dt\r\n",
    "\r\n",
    "_, newest_dt = ts2dt(newest_ts)\r\n",
    "print(f\"Recent query happens at {newest_dt.strftime(DATETIME_FORMAT)} ({newest_dt.tzname()}).\")"
   ]
  },
  {
   "cell_type": "code",
   "execution_count": 4,
   "metadata": {
    "execution": {
     "iopub.execute_input": "2021-10-01T18:13:30.261915Z",
     "iopub.status.busy": "2021-10-01T18:13:30.260143Z",
     "iopub.status.idle": "2021-10-01T18:13:30.262999Z",
     "shell.execute_reply": "2021-10-01T18:13:30.263570Z"
    }
   },
   "outputs": [],
   "source": [
    "def degrees_to_cardinal(d):\r\n",
    "  dirs = ['N', 'NNE', 'NE', 'ENE', 'E', 'ESE', 'SE', 'SSE', 'S', 'SSW', 'SW', 'WSW', 'W', 'WNW', 'NW', 'NNW']\r\n",
    "  ix = int(round(d / (360. / len(dirs))))\r\n",
    "  return dirs[ix % len(dirs)]"
   ]
  },
  {
   "cell_type": "code",
   "execution_count": 5,
   "metadata": {
    "execution": {
     "iopub.execute_input": "2021-10-01T18:13:30.270879Z",
     "iopub.status.busy": "2021-10-01T18:13:30.268540Z",
     "iopub.status.idle": "2021-10-01T18:13:30.271946Z",
     "shell.execute_reply": "2021-10-01T18:13:30.272643Z"
    }
   },
   "outputs": [],
   "source": [
    "# data.keys()"
   ]
  },
  {
   "cell_type": "code",
   "execution_count": 6,
   "metadata": {
    "execution": {
     "iopub.execute_input": "2021-10-01T18:13:30.277099Z",
     "iopub.status.busy": "2021-10-01T18:13:30.276126Z",
     "iopub.status.idle": "2021-10-01T18:13:30.279607Z",
     "shell.execute_reply": "2021-10-01T18:13:30.278794Z"
    }
   },
   "outputs": [],
   "source": [
    "# data['current']"
   ]
  },
  {
   "cell_type": "code",
   "execution_count": 7,
   "metadata": {
    "execution": {
     "iopub.execute_input": "2021-10-01T18:13:30.303260Z",
     "iopub.status.busy": "2021-10-01T18:13:30.302544Z",
     "iopub.status.idle": "2021-10-01T18:13:30.732238Z",
     "shell.execute_reply": "2021-10-01T18:13:30.732983Z"
    }
   },
   "outputs": [
    {
     "data": {
      "image/png": "[encoded data removed]",
      "text/plain": [
       "<Figure size 216x216 with 1 Axes>"
      ]
     },
     "metadata": {
      "needs_background": "light"
     },
     "output_type": "display_data"
    },
    {
     "name": "stdout",
     "output_type": "stream",
     "text": [
      "Today, sun rises at 06:14 and sets at 18:10.\n",
      "Currently, the weather is Rain (light rain).\n",
      "The temperature is 28.84°C and it feels like 34.72°C.\n",
      "The UV index is 0, humidity is 82%.\n",
      "The pressure is 1009 hPa, percentage of cloud cover is 2%\n",
      "The wind comes from SSE direction with a speed 2.24 m/s.\n"
     ]
    }
   ],
   "source": [
    "current = data['current']\r\n",
    "\r\n",
    "fig, ax = plt.subplots(figsize=(3, 3))\r\n",
    "icon = requests.get(f\"http://openweathermap.org/img/wn/{current['weather'][0]['icon']}@2x.png\")\r\n",
    "im = Image.open(BytesIO(icon.content))\r\n",
    "plt.imshow(im)\r\n",
    "ax.set_axis_off()\r\n",
    "plt.show()\r\n",
    "\r\n",
    "print(f\"Today, sun rises at {ts2dt(current['sunrise'], '%H:%M')[0]} \\\r\n",
    "and sets at {ts2dt(current['sunset'], '%H:%M')[0]}.\\n\\\r\n",
    "Currently, the weather is {current['weather'][0]['main']} ({current['weather'][0]['description']}).\\n\\\r\n",
    "The temperature is {current['temp']}°C and it feels like {current['feels_like']}°C.\\n\\\r\n",
    "The UV index is {current['uvi']}, humidity is {current['humidity']}%.\\n\\\r\n",
    "The pressure is {current['pressure']} hPa, percentage of cloud cover is {current['clouds']}%\\n\\\r\n",
    "The wind comes from {degrees_to_cardinal(current['wind_deg'])} direction with a speed {current['wind_speed']} m/s.\")"
   ]
  },
  {
   "cell_type": "code",
   "execution_count": 8,
   "metadata": {
    "execution": {
     "iopub.execute_input": "2021-10-01T18:13:30.738479Z",
     "iopub.status.busy": "2021-10-01T18:13:30.736815Z",
     "iopub.status.idle": "2021-10-01T18:13:30.747716Z",
     "shell.execute_reply": "2021-10-01T18:13:30.748630Z"
    }
   },
   "outputs": [],
   "source": [
    "df_hourly = pd.DataFrame(data['hourly'])\r\n",
    "df_daily = pd.DataFrame(data['daily'])"
   ]
  },
  {
   "cell_type": "code",
   "execution_count": 9,
   "metadata": {
    "execution": {
     "iopub.execute_input": "2021-10-01T18:13:30.753858Z",
     "iopub.status.busy": "2021-10-01T18:13:30.751929Z",
     "iopub.status.idle": "2021-10-01T18:13:31.157697Z",
     "shell.execute_reply": "2021-10-01T18:13:31.157095Z"
    }
   },
   "outputs": [
    {
     "data": {
      "image/png": "[encoded data removed]",
      "text/plain": [
       "<Figure size 864x432 with 1 Axes>"
      ]
     },
     "metadata": {
      "needs_background": "light"
     },
     "output_type": "display_data"
    }
   ],
   "source": [
    "fig, ax = plt.subplots(figsize=(12, 6))\r\n",
    "plt.plot(df_hourly.temp, '.-', label='Temperature')\r\n",
    "plt.plot(df_hourly.feels_like, '.-', label='Feels Like')\r\n",
    "ax.set(title='Temperature in future 48 hours', xlabel='Time', ylabel='Temperature')\r\n",
    "ax.set_xticks(list(range(0, len(df_hourly), 2)))\r\n",
    "ax.set_xticklabels([ts2dt(ts, '%m-%d %H:%M')[0] for i, ts in enumerate(df_hourly.dt) if i%2==0], \r\n",
    "                   rotation=45, ha=\"right\")\r\n",
    "ax.locator_params(nbins=15, axis='y')\r\n",
    "plt.legend()\r\n",
    "plt.show()"
   ]
  },
  {
   "cell_type": "code",
   "execution_count": 10,
   "metadata": {
    "execution": {
     "iopub.execute_input": "2021-10-01T18:13:31.168771Z",
     "iopub.status.busy": "2021-10-01T18:13:31.162271Z",
     "iopub.status.idle": "2021-10-01T18:13:31.186668Z",
     "shell.execute_reply": "2021-10-01T18:13:31.185788Z"
    }
   },
   "outputs": [
    {
     "data": {
      "text/html": [
       "<div>\n",
       "<style scoped>\n",
       "    .dataframe tbody tr th:only-of-type {\n",
       "        vertical-align: middle;\n",
       "    }\n",
       "\n",
       "    .dataframe tbody tr th {\n",
       "        vertical-align: top;\n",
       "    }\n",
       "\n",
       "    .dataframe thead th {\n",
       "        text-align: right;\n",
       "    }\n",
       "</style>\n",
       "<table border=\"1\" class=\"dataframe\">\n",
       "  <thead>\n",
       "    <tr style=\"text-align: right;\">\n",
       "      <th></th>\n",
       "      <th>dt</th>\n",
       "      <th>temp</th>\n",
       "      <th>feels_like</th>\n",
       "      <th>pressure</th>\n",
       "      <th>humidity</th>\n",
       "      <th>dew_point</th>\n",
       "      <th>uvi</th>\n",
       "      <th>clouds</th>\n",
       "      <th>visibility</th>\n",
       "      <th>wind_speed</th>\n",
       "      <th>wind_deg</th>\n",
       "      <th>wind_gust</th>\n",
       "      <th>weather</th>\n",
       "      <th>pop</th>\n",
       "      <th>rain</th>\n",
       "    </tr>\n",
       "  </thead>\n",
       "  <tbody>\n",
       "    <tr>\n",
       "      <th>0</th>\n",
       "      <td>1633111200</td>\n",
       "      <td>28.84</td>\n",
       "      <td>34.72</td>\n",
       "      <td>1009</td>\n",
       "      <td>82</td>\n",
       "      <td>25.46</td>\n",
       "      <td>0.0</td>\n",
       "      <td>2</td>\n",
       "      <td>10000</td>\n",
       "      <td>2.09</td>\n",
       "      <td>197</td>\n",
       "      <td>2.17</td>\n",
       "      <td>[{'id': 500, 'main': 'Rain', 'description': 'l...</td>\n",
       "      <td>0.43</td>\n",
       "      <td>{'1h': 0.12}</td>\n",
       "    </tr>\n",
       "    <tr>\n",
       "      <th>1</th>\n",
       "      <td>1633114800</td>\n",
       "      <td>28.57</td>\n",
       "      <td>33.76</td>\n",
       "      <td>1009</td>\n",
       "      <td>81</td>\n",
       "      <td>24.99</td>\n",
       "      <td>0.0</td>\n",
       "      <td>4</td>\n",
       "      <td>10000</td>\n",
       "      <td>1.86</td>\n",
       "      <td>195</td>\n",
       "      <td>2.00</td>\n",
       "      <td>[{'id': 500, 'main': 'Rain', 'description': 'l...</td>\n",
       "      <td>0.47</td>\n",
       "      <td>{'1h': 0.18}</td>\n",
       "    </tr>\n",
       "    <tr>\n",
       "      <th>2</th>\n",
       "      <td>1633118400</td>\n",
       "      <td>28.18</td>\n",
       "      <td>32.89</td>\n",
       "      <td>1009</td>\n",
       "      <td>82</td>\n",
       "      <td>24.81</td>\n",
       "      <td>0.0</td>\n",
       "      <td>12</td>\n",
       "      <td>10000</td>\n",
       "      <td>2.25</td>\n",
       "      <td>191</td>\n",
       "      <td>2.31</td>\n",
       "      <td>[{'id': 500, 'main': 'Rain', 'description': 'l...</td>\n",
       "      <td>0.46</td>\n",
       "      <td>{'1h': 0.15}</td>\n",
       "    </tr>\n",
       "    <tr>\n",
       "      <th>3</th>\n",
       "      <td>1633122000</td>\n",
       "      <td>27.90</td>\n",
       "      <td>32.00</td>\n",
       "      <td>1010</td>\n",
       "      <td>81</td>\n",
       "      <td>24.34</td>\n",
       "      <td>0.0</td>\n",
       "      <td>27</td>\n",
       "      <td>10000</td>\n",
       "      <td>2.43</td>\n",
       "      <td>196</td>\n",
       "      <td>2.55</td>\n",
       "      <td>[{'id': 500, 'main': 'Rain', 'description': 'l...</td>\n",
       "      <td>0.47</td>\n",
       "      <td>{'1h': 0.2}</td>\n",
       "    </tr>\n",
       "    <tr>\n",
       "      <th>4</th>\n",
       "      <td>1633125600</td>\n",
       "      <td>27.53</td>\n",
       "      <td>31.08</td>\n",
       "      <td>1011</td>\n",
       "      <td>81</td>\n",
       "      <td>23.98</td>\n",
       "      <td>0.0</td>\n",
       "      <td>29</td>\n",
       "      <td>10000</td>\n",
       "      <td>2.10</td>\n",
       "      <td>196</td>\n",
       "      <td>2.43</td>\n",
       "      <td>[{'id': 802, 'main': 'Clouds', 'description': ...</td>\n",
       "      <td>0.47</td>\n",
       "      <td>NaN</td>\n",
       "    </tr>\n",
       "  </tbody>\n",
       "</table>\n",
       "</div>"
      ],
      "text/plain": [
       "           dt   temp  feels_like  pressure  humidity  dew_point  uvi  clouds  \\\n",
       "0  1633111200  28.84       34.72      1009        82      25.46  0.0       2   \n",
       "1  1633114800  28.57       33.76      1009        81      24.99  0.0       4   \n",
       "2  1633118400  28.18       32.89      1009        82      24.81  0.0      12   \n",
       "3  1633122000  27.90       32.00      1010        81      24.34  0.0      27   \n",
       "4  1633125600  27.53       31.08      1011        81      23.98  0.0      29   \n",
       "\n",
       "   visibility  wind_speed  wind_deg  wind_gust  \\\n",
       "0       10000        2.09       197       2.17   \n",
       "1       10000        1.86       195       2.00   \n",
       "2       10000        2.25       191       2.31   \n",
       "3       10000        2.43       196       2.55   \n",
       "4       10000        2.10       196       2.43   \n",
       "\n",
       "                                             weather   pop          rain  \n",
       "0  [{'id': 500, 'main': 'Rain', 'description': 'l...  0.43  {'1h': 0.12}  \n",
       "1  [{'id': 500, 'main': 'Rain', 'description': 'l...  0.47  {'1h': 0.18}  \n",
       "2  [{'id': 500, 'main': 'Rain', 'description': 'l...  0.46  {'1h': 0.15}  \n",
       "3  [{'id': 500, 'main': 'Rain', 'description': 'l...  0.47   {'1h': 0.2}  \n",
       "4  [{'id': 802, 'main': 'Clouds', 'description': ...  0.47           NaN  "
      ]
     },
     "execution_count": 10,
     "metadata": {},
     "output_type": "execute_result"
    }
   ],
   "source": [
    "df_hourly.head()"
   ]
  },
  {
   "cell_type": "code",
   "execution_count": null,
   "metadata": {},
   "outputs": [],
   "source": []
  }
 ],
 "metadata": {
  "interpreter": {
   "hash": "c1b4cfe941b6d2466ad1fb5979e97da9cda8801728c8091b097ab734208fc00c"
  },
  "kernelspec": {
   "display_name": "Python 3.8.3 64-bit ('base': conda)",
   "name": "python3"
  },
  "language_info": {
   "codemirror_mode": {
    "name": "ipython",
    "version": 3
   },
   "file_extension": ".py",
   "mimetype": "text/x-python",
   "name": "python",
   "nbconvert_exporter": "python",
   "pygments_lexer": "ipython3",
   "version": "3.8.12"
  }
 },
 "nbformat": 4,
 "nbformat_minor": 2
}
