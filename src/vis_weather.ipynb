{
 "cells": [
  {
   "cell_type": "code",
   "execution_count": 1,
   "metadata": {
    "execution": {
     "iopub.execute_input": "2021-10-09T16:16:24.870595Z",
     "iopub.status.busy": "2021-10-09T16:16:24.869798Z",
     "iopub.status.idle": "2021-10-09T16:16:26.479266Z",
     "shell.execute_reply": "2021-10-09T16:16:26.479757Z"
    }
   },
   "outputs": [],
   "source": [
    "import json, yaml, requests\r\n",
    "from datetime import datetime\r\n",
    "from dateutil import tz\r\n",
    "import pandas as pd\r\n",
    "from PIL import Image\r\n",
    "from io import BytesIO\r\n",
    "import matplotlib.pyplot as plt\r\n",
    "import seaborn\r\n",
    "\r\n",
    "CONFIG_PATH = \"../config/config.yaml\""
   ]
  },
  {
   "cell_type": "code",
   "execution_count": 2,
   "metadata": {
    "execution": {
     "iopub.execute_input": "2021-10-09T16:16:26.485462Z",
     "iopub.status.busy": "2021-10-09T16:16:26.484900Z",
     "iopub.status.idle": "2021-10-09T16:16:26.491472Z",
     "shell.execute_reply": "2021-10-09T16:16:26.491045Z"
    }
   },
   "outputs": [],
   "source": [
    "with open('../newest_ts', 'r') as f:\r\n",
    "    newest_ts = f.read()\r\n",
    "\r\n",
    "data_path = f\"../data/data_{newest_ts}.json\"\r\n",
    "with open(data_path, 'r') as f:\r\n",
    "    data = json.load(f)\r\n",
    "\r\n",
    "with open(CONFIG_PATH, \"r\") as stream:\r\n",
    "    config = yaml.safe_load(stream)\r\n",
    "\r\n",
    "TIME_ZONE = config['time_zone']\r\n",
    "DATETIME_FORMAT = config['dt_format']"
   ]
  },
  {
   "cell_type": "code",
   "execution_count": 3,
   "metadata": {
    "execution": {
     "iopub.execute_input": "2021-10-09T16:16:26.496690Z",
     "iopub.status.busy": "2021-10-09T16:16:26.496163Z",
     "iopub.status.idle": "2021-10-09T16:16:26.510598Z",
     "shell.execute_reply": "2021-10-09T16:16:26.510138Z"
    }
   },
   "outputs": [
    {
     "name": "stdout",
     "output_type": "stream",
     "text": [
      "Recent query happens at 2021-10-10 00:16:20 (CST).\n"
     ]
    }
   ],
   "source": [
    "def ts2dt(ts, format=DATETIME_FORMAT):\r\n",
    "    dt = (datetime.utcfromtimestamp(int(ts))\r\n",
    "                    .replace(tzinfo=tz.tzutc())\r\n",
    "                    # .astimezone(tz.tzlocal())\r\n",
    "                    .astimezone(tz.gettz(TIME_ZONE)))\r\n",
    "    return dt.strftime(format), dt\r\n",
    "\r\n",
    "_, newest_dt = ts2dt(newest_ts)\r\n",
    "print(f\"Recent query happens at {newest_dt.strftime(DATETIME_FORMAT)} ({newest_dt.tzname()}).\")"
   ]
  },
  {
   "cell_type": "code",
   "execution_count": 4,
   "metadata": {
    "execution": {
     "iopub.execute_input": "2021-10-09T16:16:26.515734Z",
     "iopub.status.busy": "2021-10-09T16:16:26.514870Z",
     "iopub.status.idle": "2021-10-09T16:16:26.518377Z",
     "shell.execute_reply": "2021-10-09T16:16:26.518882Z"
    }
   },
   "outputs": [],
   "source": [
    "def degrees_to_cardinal(d):\r\n",
    "  dirs = ['N', 'NNE', 'NE', 'ENE', 'E', 'ESE', 'SE', 'SSE', 'S', 'SSW', 'SW', 'WSW', 'W', 'WNW', 'NW', 'NNW']\r\n",
    "  ix = int(round(d / (360. / len(dirs))))\r\n",
    "  return dirs[ix % len(dirs)]"
   ]
  },
  {
   "cell_type": "code",
   "execution_count": 5,
   "metadata": {
    "execution": {
     "iopub.execute_input": "2021-10-09T16:16:26.523135Z",
     "iopub.status.busy": "2021-10-09T16:16:26.522488Z",
     "iopub.status.idle": "2021-10-09T16:16:26.524511Z",
     "shell.execute_reply": "2021-10-09T16:16:26.524968Z"
    }
   },
   "outputs": [],
   "source": [
    "# data.keys()"
   ]
  },
  {
   "cell_type": "code",
   "execution_count": 6,
   "metadata": {
    "execution": {
     "iopub.execute_input": "2021-10-09T16:16:26.528291Z",
     "iopub.status.busy": "2021-10-09T16:16:26.527786Z",
     "iopub.status.idle": "2021-10-09T16:16:26.530165Z",
     "shell.execute_reply": "2021-10-09T16:16:26.529714Z"
    }
   },
   "outputs": [],
   "source": [
    "# data['current']"
   ]
  },
  {
   "cell_type": "code",
   "execution_count": 7,
   "metadata": {
    "execution": {
     "iopub.execute_input": "2021-10-09T16:16:26.550025Z",
     "iopub.status.busy": "2021-10-09T16:16:26.549271Z",
     "iopub.status.idle": "2021-10-09T16:16:26.960285Z",
     "shell.execute_reply": "2021-10-09T16:16:26.959545Z"
    }
   },
   "outputs": [
    {
     "data": {
      "image/png": "[encoded data removed]",
      "text/plain": [
       "<Figure size 216x216 with 1 Axes>"
      ]
     },
     "metadata": {
      "needs_background": "light"
     },
     "output_type": "display_data"
    },
    {
     "name": "stdout",
     "output_type": "stream",
     "text": [
      "Today, sun rises at 06:17 and sets at 18:02.\n",
      "Currently, the weather is Rain (moderate rain).\n",
      "The temperature is 25.52°C and it feels like 26.61°C.\n",
      "The UV index is 0, humidity is 95%.\n",
      "The pressure is 1006 hPa, percentage of cloud cover is 100%\n",
      "The wind comes from ESE direction with a speed 1.34 m/s.\n"
     ]
    }
   ],
   "source": [
    "current = data['current']\r\n",
    "\r\n",
    "fig, ax = plt.subplots(figsize=(3, 3))\r\n",
    "icon = requests.get(f\"http://openweathermap.org/img/wn/{current['weather'][0]['icon']}@2x.png\")\r\n",
    "im = Image.open(BytesIO(icon.content))\r\n",
    "plt.imshow(im)\r\n",
    "ax.set_axis_off()\r\n",
    "plt.show()\r\n",
    "\r\n",
    "print(f\"Today, sun rises at {ts2dt(current['sunrise'], '%H:%M')[0]} \\\r\n",
    "and sets at {ts2dt(current['sunset'], '%H:%M')[0]}.\\n\\\r\n",
    "Currently, the weather is {current['weather'][0]['main']} ({current['weather'][0]['description']}).\\n\\\r\n",
    "The temperature is {current['temp']}°C and it feels like {current['feels_like']}°C.\\n\\\r\n",
    "The UV index is {current['uvi']}, humidity is {current['humidity']}%.\\n\\\r\n",
    "The pressure is {current['pressure']} hPa, percentage of cloud cover is {current['clouds']}%\\n\\\r\n",
    "The wind comes from {degrees_to_cardinal(current['wind_deg'])} direction with a speed {current['wind_speed']} m/s.\")"
   ]
  },
  {
   "cell_type": "code",
   "execution_count": 8,
   "metadata": {
    "execution": {
     "iopub.execute_input": "2021-10-09T16:16:26.963653Z",
     "iopub.status.busy": "2021-10-09T16:16:26.963083Z",
     "iopub.status.idle": "2021-10-09T16:16:26.969741Z",
     "shell.execute_reply": "2021-10-09T16:16:26.970352Z"
    }
   },
   "outputs": [],
   "source": [
    "df_hourly = pd.DataFrame(data['hourly'])\r\n",
    "df_daily = pd.DataFrame(data['daily'])"
   ]
  },
  {
   "cell_type": "code",
   "execution_count": 9,
   "metadata": {
    "execution": {
     "iopub.execute_input": "2021-10-09T16:16:26.973461Z",
     "iopub.status.busy": "2021-10-09T16:16:26.972777Z",
     "iopub.status.idle": "2021-10-09T16:16:27.308389Z",
     "shell.execute_reply": "2021-10-09T16:16:27.307329Z"
    }
   },
   "outputs": [
    {
     "data": {
      "image/png": "[encoded data removed]",
      "text/plain": [
       "<Figure size 864x432 with 1 Axes>"
      ]
     },
     "metadata": {
      "needs_background": "light"
     },
     "output_type": "display_data"
    }
   ],
   "source": [
    "fig, ax = plt.subplots(figsize=(12, 6))\r\n",
    "plt.plot(df_hourly.temp, '.-', label='Temperature')\r\n",
    "plt.plot(df_hourly.feels_like, '.-', label='Feels Like')\r\n",
    "ax.set(title='Temperature in future 48 hours', xlabel='Time', ylabel='Temperature')\r\n",
    "ax.set_xticks(list(range(0, len(df_hourly), 2)))\r\n",
    "ax.set_xticklabels([ts2dt(ts, '%m-%d %H:%M')[0] for i, ts in enumerate(df_hourly.dt) if i%2==0], \r\n",
    "                   rotation=45, ha=\"right\")\r\n",
    "ax.locator_params(nbins=15, axis='y')\r\n",
    "plt.legend()\r\n",
    "plt.show()"
   ]
  },
  {
   "cell_type": "code",
   "execution_count": 10,
   "metadata": {
    "execution": {
     "iopub.execute_input": "2021-10-09T16:16:27.313446Z",
     "iopub.status.busy": "2021-10-09T16:16:27.312838Z",
     "iopub.status.idle": "2021-10-09T16:16:27.337070Z",
     "shell.execute_reply": "2021-10-09T16:16:27.337624Z"
    }
   },
   "outputs": [
    {
     "data": {
      "text/html": [
       "<div>\n",
       "<style scoped>\n",
       "    .dataframe tbody tr th:only-of-type {\n",
       "        vertical-align: middle;\n",
       "    }\n",
       "\n",
       "    .dataframe tbody tr th {\n",
       "        vertical-align: top;\n",
       "    }\n",
       "\n",
       "    .dataframe thead th {\n",
       "        text-align: right;\n",
       "    }\n",
       "</style>\n",
       "<table border=\"1\" class=\"dataframe\">\n",
       "  <thead>\n",
       "    <tr style=\"text-align: right;\">\n",
       "      <th></th>\n",
       "      <th>dt</th>\n",
       "      <th>temp</th>\n",
       "      <th>feels_like</th>\n",
       "      <th>pressure</th>\n",
       "      <th>humidity</th>\n",
       "      <th>dew_point</th>\n",
       "      <th>uvi</th>\n",
       "      <th>clouds</th>\n",
       "      <th>visibility</th>\n",
       "      <th>wind_speed</th>\n",
       "      <th>wind_deg</th>\n",
       "      <th>wind_gust</th>\n",
       "      <th>weather</th>\n",
       "      <th>pop</th>\n",
       "      <th>rain</th>\n",
       "    </tr>\n",
       "  </thead>\n",
       "  <tbody>\n",
       "    <tr>\n",
       "      <th>0</th>\n",
       "      <td>1633795200</td>\n",
       "      <td>25.52</td>\n",
       "      <td>26.61</td>\n",
       "      <td>1006</td>\n",
       "      <td>95</td>\n",
       "      <td>24.66</td>\n",
       "      <td>0.0</td>\n",
       "      <td>100</td>\n",
       "      <td>5316</td>\n",
       "      <td>12.10</td>\n",
       "      <td>91</td>\n",
       "      <td>17.63</td>\n",
       "      <td>[{'id': 501, 'main': 'Rain', 'description': 'm...</td>\n",
       "      <td>1.0</td>\n",
       "      <td>{'1h': 2.25}</td>\n",
       "    </tr>\n",
       "    <tr>\n",
       "      <th>1</th>\n",
       "      <td>1633798800</td>\n",
       "      <td>25.57</td>\n",
       "      <td>26.64</td>\n",
       "      <td>1006</td>\n",
       "      <td>94</td>\n",
       "      <td>24.53</td>\n",
       "      <td>0.0</td>\n",
       "      <td>100</td>\n",
       "      <td>5565</td>\n",
       "      <td>12.50</td>\n",
       "      <td>89</td>\n",
       "      <td>17.57</td>\n",
       "      <td>[{'id': 501, 'main': 'Rain', 'description': 'm...</td>\n",
       "      <td>1.0</td>\n",
       "      <td>{'1h': 1.78}</td>\n",
       "    </tr>\n",
       "    <tr>\n",
       "      <th>2</th>\n",
       "      <td>1633802400</td>\n",
       "      <td>25.52</td>\n",
       "      <td>26.56</td>\n",
       "      <td>1006</td>\n",
       "      <td>93</td>\n",
       "      <td>24.30</td>\n",
       "      <td>0.0</td>\n",
       "      <td>100</td>\n",
       "      <td>4723</td>\n",
       "      <td>12.04</td>\n",
       "      <td>88</td>\n",
       "      <td>16.33</td>\n",
       "      <td>[{'id': 500, 'main': 'Rain', 'description': 'l...</td>\n",
       "      <td>1.0</td>\n",
       "      <td>{'1h': 0.49}</td>\n",
       "    </tr>\n",
       "    <tr>\n",
       "      <th>3</th>\n",
       "      <td>1633806000</td>\n",
       "      <td>25.47</td>\n",
       "      <td>26.50</td>\n",
       "      <td>1007</td>\n",
       "      <td>93</td>\n",
       "      <td>24.25</td>\n",
       "      <td>0.0</td>\n",
       "      <td>100</td>\n",
       "      <td>6116</td>\n",
       "      <td>11.83</td>\n",
       "      <td>86</td>\n",
       "      <td>15.84</td>\n",
       "      <td>[{'id': 501, 'main': 'Rain', 'description': 'm...</td>\n",
       "      <td>1.0</td>\n",
       "      <td>{'1h': 2.58}</td>\n",
       "    </tr>\n",
       "    <tr>\n",
       "      <th>4</th>\n",
       "      <td>1633809600</td>\n",
       "      <td>25.43</td>\n",
       "      <td>26.40</td>\n",
       "      <td>1007</td>\n",
       "      <td>91</td>\n",
       "      <td>23.85</td>\n",
       "      <td>0.0</td>\n",
       "      <td>100</td>\n",
       "      <td>6018</td>\n",
       "      <td>11.61</td>\n",
       "      <td>85</td>\n",
       "      <td>15.53</td>\n",
       "      <td>[{'id': 501, 'main': 'Rain', 'description': 'm...</td>\n",
       "      <td>1.0</td>\n",
       "      <td>{'1h': 2.2}</td>\n",
       "    </tr>\n",
       "  </tbody>\n",
       "</table>\n",
       "</div>"
      ],
      "text/plain": [
       "           dt   temp  feels_like  pressure  humidity  dew_point  uvi  clouds  \\\n",
       "0  1633795200  25.52       26.61      1006        95      24.66  0.0     100   \n",
       "1  1633798800  25.57       26.64      1006        94      24.53  0.0     100   \n",
       "2  1633802400  25.52       26.56      1006        93      24.30  0.0     100   \n",
       "3  1633806000  25.47       26.50      1007        93      24.25  0.0     100   \n",
       "4  1633809600  25.43       26.40      1007        91      23.85  0.0     100   \n",
       "\n",
       "   visibility  wind_speed  wind_deg  wind_gust  \\\n",
       "0        5316       12.10        91      17.63   \n",
       "1        5565       12.50        89      17.57   \n",
       "2        4723       12.04        88      16.33   \n",
       "3        6116       11.83        86      15.84   \n",
       "4        6018       11.61        85      15.53   \n",
       "\n",
       "                                             weather  pop          rain  \n",
       "0  [{'id': 501, 'main': 'Rain', 'description': 'm...  1.0  {'1h': 2.25}  \n",
       "1  [{'id': 501, 'main': 'Rain', 'description': 'm...  1.0  {'1h': 1.78}  \n",
       "2  [{'id': 500, 'main': 'Rain', 'description': 'l...  1.0  {'1h': 0.49}  \n",
       "3  [{'id': 501, 'main': 'Rain', 'description': 'm...  1.0  {'1h': 2.58}  \n",
       "4  [{'id': 501, 'main': 'Rain', 'description': 'm...  1.0   {'1h': 2.2}  "
      ]
     },
     "execution_count": 10,
     "metadata": {},
     "output_type": "execute_result"
    }
   ],
   "source": [
    "df_hourly.head()"
   ]
  },
  {
   "cell_type": "code",
   "execution_count": null,
   "metadata": {},
   "outputs": [],
   "source": []
  }
 ],
 "metadata": {
  "interpreter": {
   "hash": "c1b4cfe941b6d2466ad1fb5979e97da9cda8801728c8091b097ab734208fc00c"
  },
  "kernelspec": {
   "display_name": "Python 3.8.3 64-bit ('base': conda)",
   "name": "python3"
  },
  "language_info": {
   "codemirror_mode": {
    "name": "ipython",
    "version": 3
   },
   "file_extension": ".py",
   "mimetype": "text/x-python",
   "name": "python",
   "nbconvert_exporter": "python",
   "pygments_lexer": "ipython3",
   "version": "3.8.12"
  }
 },
 "nbformat": 4,
 "nbformat_minor": 2
}
