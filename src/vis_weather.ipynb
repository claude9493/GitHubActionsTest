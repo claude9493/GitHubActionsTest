{
 "cells": [
  {
   "cell_type": "code",
   "execution_count": 1,
   "metadata": {
    "execution": {
     "iopub.execute_input": "2021-08-22T23:15:33.041657Z",
     "iopub.status.busy": "2021-08-22T23:15:33.040970Z",
     "iopub.status.idle": "2021-08-22T23:15:35.347909Z",
     "shell.execute_reply": "2021-08-22T23:15:35.347347Z"
    }
   },
   "outputs": [],
   "source": [
    "import json\r\n",
    "from datetime import datetime\r\n",
    "from dateutil import tz\r\n",
    "import pandas as pd\r\n",
    "import matplotlib.pyplot as plt\r\n",
    "import seaborn\r\n"
   ]
  },
  {
   "cell_type": "code",
   "execution_count": 2,
   "metadata": {
    "execution": {
     "iopub.execute_input": "2021-08-22T23:15:35.351860Z",
     "iopub.status.busy": "2021-08-22T23:15:35.350421Z",
     "iopub.status.idle": "2021-08-22T23:15:35.357059Z",
     "shell.execute_reply": "2021-08-22T23:15:35.356098Z"
    }
   },
   "outputs": [],
   "source": [
    "with open('../newest_ts', 'r') as f:\r\n",
    "    ts = f.read()\r\n",
    "\r\n",
    "data_path = f\"../data/data_{ts}.json\"\r\n",
    "with open(data_path, 'r') as f:\r\n",
    "    data = json.load(f)"
   ]
  },
  {
   "cell_type": "code",
   "execution_count": 3,
   "metadata": {
    "execution": {
     "iopub.execute_input": "2021-08-22T23:15:35.361767Z",
     "iopub.status.busy": "2021-08-22T23:15:35.361116Z",
     "iopub.status.idle": "2021-08-22T23:15:35.367183Z",
     "shell.execute_reply": "2021-08-22T23:15:35.366614Z"
    }
   },
   "outputs": [
    {
     "name": "stdout",
     "output_type": "stream",
     "text": [
      "Recent query happens at 2021-08-22 23:15:29\n"
     ]
    }
   ],
   "source": [
    "def ts2dt(ts, format='%Y-%m-%d %H:%M:%S'):\r\n",
    "    return (datetime.utcfromtimestamp(int(ts))\r\n",
    "                    .replace(tzinfo=tz.tzutc())\r\n",
    "                    .astimezone(tz.tzlocal())\r\n",
    "                    .strftime(format))\r\n",
    "\r\n",
    "print(f\"Recent query happens at {ts2dt(ts)}\")"
   ]
  },
  {
   "cell_type": "code",
   "execution_count": 4,
   "metadata": {
    "execution": {
     "iopub.execute_input": "2021-08-22T23:15:35.373604Z",
     "iopub.status.busy": "2021-08-22T23:15:35.372838Z",
     "iopub.status.idle": "2021-08-22T23:15:35.375739Z",
     "shell.execute_reply": "2021-08-22T23:15:35.376115Z"
    }
   },
   "outputs": [
    {
     "data": {
      "text/plain": [
       "dict_keys(['lat', 'lon', 'timezone', 'timezone_offset', 'current', 'hourly', 'daily'])"
      ]
     },
     "execution_count": 4,
     "metadata": {},
     "output_type": "execute_result"
    }
   ],
   "source": [
    "data.keys()"
   ]
  },
  {
   "cell_type": "code",
   "execution_count": 5,
   "metadata": {
    "execution": {
     "iopub.execute_input": "2021-08-22T23:15:35.380734Z",
     "iopub.status.busy": "2021-08-22T23:15:35.380154Z",
     "iopub.status.idle": "2021-08-22T23:15:35.384847Z",
     "shell.execute_reply": "2021-08-22T23:15:35.385272Z"
    }
   },
   "outputs": [
    {
     "data": {
      "text/plain": [
       "{'dt': 1629674129,\n",
       " 'sunrise': 1629669780,\n",
       " 'sunset': 1629715720,\n",
       " 'temp': 29.52,\n",
       " 'feels_like': 36.52,\n",
       " 'pressure': 1007,\n",
       " 'humidity': 84,\n",
       " 'dew_point': 26.53,\n",
       " 'uvi': 0.4,\n",
       " 'clouds': 81,\n",
       " 'visibility': 10000,\n",
       " 'wind_speed': 3.73,\n",
       " 'wind_deg': 224,\n",
       " 'wind_gust': 5.11,\n",
       " 'weather': [{'id': 803,\n",
       "   'main': 'Clouds',\n",
       "   'description': 'broken clouds',\n",
       "   'icon': '04d'}]}"
      ]
     },
     "execution_count": 5,
     "metadata": {},
     "output_type": "execute_result"
    }
   ],
   "source": [
    "data['current']"
   ]
  },
  {
   "cell_type": "code",
   "execution_count": 6,
   "metadata": {
    "execution": {
     "iopub.execute_input": "2021-08-22T23:15:35.390389Z",
     "iopub.status.busy": "2021-08-22T23:15:35.389856Z",
     "iopub.status.idle": "2021-08-22T23:15:35.394148Z",
     "shell.execute_reply": "2021-08-22T23:15:35.394556Z"
    }
   },
   "outputs": [
    {
     "data": {
      "text/plain": [
       "{'dt': 1629673200,\n",
       " 'temp': 29.52,\n",
       " 'feels_like': 36.52,\n",
       " 'pressure': 1007,\n",
       " 'humidity': 84,\n",
       " 'dew_point': 26.53,\n",
       " 'uvi': 0.4,\n",
       " 'clouds': 81,\n",
       " 'visibility': 10000,\n",
       " 'wind_speed': 3.73,\n",
       " 'wind_deg': 224,\n",
       " 'wind_gust': 5.11,\n",
       " 'weather': [{'id': 500,\n",
       "   'main': 'Rain',\n",
       "   'description': 'light rain',\n",
       "   'icon': '10d'}],\n",
       " 'pop': 0.7,\n",
       " 'rain': {'1h': 0.11}}"
      ]
     },
     "execution_count": 6,
     "metadata": {},
     "output_type": "execute_result"
    }
   ],
   "source": [
    "data['hourly'][0]"
   ]
  },
  {
   "cell_type": "code",
   "execution_count": 7,
   "metadata": {
    "execution": {
     "iopub.execute_input": "2021-08-22T23:15:35.402248Z",
     "iopub.status.busy": "2021-08-22T23:15:35.401755Z",
     "iopub.status.idle": "2021-08-22T23:15:35.404124Z",
     "shell.execute_reply": "2021-08-22T23:15:35.404750Z"
    }
   },
   "outputs": [],
   "source": [
    "df_hourly = pd.DataFrame(data['hourly'])\r\n",
    "df_daily = pd.DataFrame(data['daily'])"
   ]
  },
  {
   "cell_type": "code",
   "execution_count": 8,
   "metadata": {
    "execution": {
     "iopub.execute_input": "2021-08-22T23:15:35.417659Z",
     "iopub.status.busy": "2021-08-22T23:15:35.408815Z",
     "iopub.status.idle": "2021-08-22T23:15:35.429862Z",
     "shell.execute_reply": "2021-08-22T23:15:35.430262Z"
    }
   },
   "outputs": [
    {
     "data": {
      "text/html": [
       "<div>\n",
       "<style scoped>\n",
       "    .dataframe tbody tr th:only-of-type {\n",
       "        vertical-align: middle;\n",
       "    }\n",
       "\n",
       "    .dataframe tbody tr th {\n",
       "        vertical-align: top;\n",
       "    }\n",
       "\n",
       "    .dataframe thead th {\n",
       "        text-align: right;\n",
       "    }\n",
       "</style>\n",
       "<table border=\"1\" class=\"dataframe\">\n",
       "  <thead>\n",
       "    <tr style=\"text-align: right;\">\n",
       "      <th></th>\n",
       "      <th>dt</th>\n",
       "      <th>temp</th>\n",
       "      <th>feels_like</th>\n",
       "      <th>pressure</th>\n",
       "      <th>humidity</th>\n",
       "      <th>dew_point</th>\n",
       "      <th>uvi</th>\n",
       "      <th>clouds</th>\n",
       "      <th>visibility</th>\n",
       "      <th>wind_speed</th>\n",
       "      <th>wind_deg</th>\n",
       "      <th>wind_gust</th>\n",
       "      <th>weather</th>\n",
       "      <th>pop</th>\n",
       "      <th>rain</th>\n",
       "    </tr>\n",
       "  </thead>\n",
       "  <tbody>\n",
       "    <tr>\n",
       "      <th>0</th>\n",
       "      <td>1629673200</td>\n",
       "      <td>29.52</td>\n",
       "      <td>36.52</td>\n",
       "      <td>1007</td>\n",
       "      <td>84</td>\n",
       "      <td>26.53</td>\n",
       "      <td>0.40</td>\n",
       "      <td>81</td>\n",
       "      <td>10000</td>\n",
       "      <td>3.73</td>\n",
       "      <td>224</td>\n",
       "      <td>5.11</td>\n",
       "      <td>[{'id': 500, 'main': 'Rain', 'description': 'l...</td>\n",
       "      <td>0.70</td>\n",
       "      <td>{'1h': 0.11}</td>\n",
       "    </tr>\n",
       "    <tr>\n",
       "      <th>1</th>\n",
       "      <td>1629676800</td>\n",
       "      <td>29.37</td>\n",
       "      <td>36.28</td>\n",
       "      <td>1007</td>\n",
       "      <td>82</td>\n",
       "      <td>25.97</td>\n",
       "      <td>1.70</td>\n",
       "      <td>81</td>\n",
       "      <td>10000</td>\n",
       "      <td>3.48</td>\n",
       "      <td>222</td>\n",
       "      <td>4.91</td>\n",
       "      <td>[{'id': 803, 'main': 'Clouds', 'description': ...</td>\n",
       "      <td>0.66</td>\n",
       "      <td>NaN</td>\n",
       "    </tr>\n",
       "    <tr>\n",
       "      <th>2</th>\n",
       "      <td>1629680400</td>\n",
       "      <td>29.45</td>\n",
       "      <td>36.02</td>\n",
       "      <td>1007</td>\n",
       "      <td>80</td>\n",
       "      <td>25.63</td>\n",
       "      <td>4.24</td>\n",
       "      <td>59</td>\n",
       "      <td>10000</td>\n",
       "      <td>3.55</td>\n",
       "      <td>228</td>\n",
       "      <td>4.73</td>\n",
       "      <td>[{'id': 803, 'main': 'Clouds', 'description': ...</td>\n",
       "      <td>0.58</td>\n",
       "      <td>NaN</td>\n",
       "    </tr>\n",
       "    <tr>\n",
       "      <th>3</th>\n",
       "      <td>1629684000</td>\n",
       "      <td>29.69</td>\n",
       "      <td>35.71</td>\n",
       "      <td>1008</td>\n",
       "      <td>76</td>\n",
       "      <td>25.00</td>\n",
       "      <td>7.50</td>\n",
       "      <td>46</td>\n",
       "      <td>10000</td>\n",
       "      <td>3.46</td>\n",
       "      <td>223</td>\n",
       "      <td>4.33</td>\n",
       "      <td>[{'id': 500, 'main': 'Rain', 'description': 'l...</td>\n",
       "      <td>0.63</td>\n",
       "      <td>{'1h': 0.12}</td>\n",
       "    </tr>\n",
       "    <tr>\n",
       "      <th>4</th>\n",
       "      <td>1629687600</td>\n",
       "      <td>30.05</td>\n",
       "      <td>35.66</td>\n",
       "      <td>1008</td>\n",
       "      <td>72</td>\n",
       "      <td>24.45</td>\n",
       "      <td>10.47</td>\n",
       "      <td>31</td>\n",
       "      <td>10000</td>\n",
       "      <td>4.07</td>\n",
       "      <td>223</td>\n",
       "      <td>4.59</td>\n",
       "      <td>[{'id': 500, 'main': 'Rain', 'description': 'l...</td>\n",
       "      <td>0.64</td>\n",
       "      <td>{'1h': 0.23}</td>\n",
       "    </tr>\n",
       "  </tbody>\n",
       "</table>\n",
       "</div>"
      ],
      "text/plain": [
       "           dt   temp  feels_like  pressure  humidity  dew_point    uvi  \\\n",
       "0  1629673200  29.52       36.52      1007        84      26.53   0.40   \n",
       "1  1629676800  29.37       36.28      1007        82      25.97   1.70   \n",
       "2  1629680400  29.45       36.02      1007        80      25.63   4.24   \n",
       "3  1629684000  29.69       35.71      1008        76      25.00   7.50   \n",
       "4  1629687600  30.05       35.66      1008        72      24.45  10.47   \n",
       "\n",
       "   clouds  visibility  wind_speed  wind_deg  wind_gust  \\\n",
       "0      81       10000        3.73       224       5.11   \n",
       "1      81       10000        3.48       222       4.91   \n",
       "2      59       10000        3.55       228       4.73   \n",
       "3      46       10000        3.46       223       4.33   \n",
       "4      31       10000        4.07       223       4.59   \n",
       "\n",
       "                                             weather   pop          rain  \n",
       "0  [{'id': 500, 'main': 'Rain', 'description': 'l...  0.70  {'1h': 0.11}  \n",
       "1  [{'id': 803, 'main': 'Clouds', 'description': ...  0.66           NaN  \n",
       "2  [{'id': 803, 'main': 'Clouds', 'description': ...  0.58           NaN  \n",
       "3  [{'id': 500, 'main': 'Rain', 'description': 'l...  0.63  {'1h': 0.12}  \n",
       "4  [{'id': 500, 'main': 'Rain', 'description': 'l...  0.64  {'1h': 0.23}  "
      ]
     },
     "execution_count": 8,
     "metadata": {},
     "output_type": "execute_result"
    }
   ],
   "source": [
    "df_hourly.head()"
   ]
  },
  {
   "cell_type": "code",
   "execution_count": 9,
   "metadata": {
    "execution": {
     "iopub.execute_input": "2021-08-22T23:15:35.462088Z",
     "iopub.status.busy": "2021-08-22T23:15:35.451775Z",
     "iopub.status.idle": "2021-08-22T23:15:35.759744Z",
     "shell.execute_reply": "2021-08-22T23:15:35.760714Z"
    }
   },
   "outputs": [
    {
     "data": {
      "image/png": "[encoded data removed]",
      "text/plain": [
       "<Figure size 864x432 with 1 Axes>"
      ]
     },
     "metadata": {
      "needs_background": "light"
     },
     "output_type": "display_data"
    }
   ],
   "source": [
    "fig, ax = plt.subplots(figsize=(12, 6))\r\n",
    "plt.plot(df_hourly.temp, '.-')\r\n",
    "ax.set(title='Temperature in future 48 hours', xlabel='Time', ylabel='Temperature')\r\n",
    "ax.set_xticks(list(range(0, len(df_hourly), 2)))\r\n",
    "ax.set_xticklabels([ts2dt(ts, '%m-%d %H:%M') for i, ts in enumerate(df_hourly.dt) if i%2==0], \r\n",
    "                   rotation=45, ha=\"right\")\r\n",
    "plt.show()"
   ]
  },
  {
   "cell_type": "code",
   "execution_count": null,
   "metadata": {},
   "outputs": [],
   "source": []
  }
 ],
 "metadata": {
  "interpreter": {
   "hash": "c1b4cfe941b6d2466ad1fb5979e97da9cda8801728c8091b097ab734208fc00c"
  },
  "kernelspec": {
   "display_name": "Python 3.8.3 64-bit ('base': conda)",
   "name": "python3"
  },
  "language_info": {
   "codemirror_mode": {
    "name": "ipython",
    "version": 3
   },
   "file_extension": ".py",
   "mimetype": "text/x-python",
   "name": "python",
   "nbconvert_exporter": "python",
   "pygments_lexer": "ipython3",
   "version": "3.8.11"
  }
 },
 "nbformat": 4,
 "nbformat_minor": 2
}
