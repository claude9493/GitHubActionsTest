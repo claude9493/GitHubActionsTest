{
 "cells": [
  {
   "cell_type": "code",
   "execution_count": 1,
   "metadata": {
    "execution": {
     "iopub.execute_input": "2021-09-08T06:47:11.667138Z",
     "iopub.status.busy": "2021-09-08T06:47:11.666632Z",
     "iopub.status.idle": "2021-09-08T06:47:14.737258Z",
     "shell.execute_reply": "2021-09-08T06:47:14.736666Z"
    }
   },
   "outputs": [],
   "source": [
    "import json, yaml, requests\r\n",
    "from datetime import datetime\r\n",
    "from dateutil import tz\r\n",
    "import pandas as pd\r\n",
    "from PIL import Image\r\n",
    "from io import BytesIO\r\n",
    "import matplotlib.pyplot as plt\r\n",
    "import seaborn\r\n",
    "\r\n",
    "CONFIG_PATH = \"../config/config.yaml\""
   ]
  },
  {
   "cell_type": "code",
   "execution_count": 2,
   "metadata": {
    "execution": {
     "iopub.execute_input": "2021-09-08T06:47:14.742381Z",
     "iopub.status.busy": "2021-09-08T06:47:14.741889Z",
     "iopub.status.idle": "2021-09-08T06:47:14.746106Z",
     "shell.execute_reply": "2021-09-08T06:47:14.746454Z"
    }
   },
   "outputs": [],
   "source": [
    "with open('../newest_ts', 'r') as f:\r\n",
    "    newest_ts = f.read()\r\n",
    "\r\n",
    "data_path = f\"../data/data_{newest_ts}.json\"\r\n",
    "with open(data_path, 'r') as f:\r\n",
    "    data = json.load(f)\r\n",
    "\r\n",
    "with open(CONFIG_PATH, \"r\") as stream:\r\n",
    "    config = yaml.safe_load(stream)\r\n",
    "\r\n",
    "TIME_ZONE = config['time_zone']\r\n",
    "DATETIME_FORMAT = config['dt_format']"
   ]
  },
  {
   "cell_type": "code",
   "execution_count": 3,
   "metadata": {
    "execution": {
     "iopub.execute_input": "2021-09-08T06:47:14.750695Z",
     "iopub.status.busy": "2021-09-08T06:47:14.750243Z",
     "iopub.status.idle": "2021-09-08T06:47:14.761479Z",
     "shell.execute_reply": "2021-09-08T06:47:14.761852Z"
    }
   },
   "outputs": [
    {
     "name": "stdout",
     "output_type": "stream",
     "text": [
      "Recent query happens at 2021-09-08 14:47:08 (CST).\n"
     ]
    }
   ],
   "source": [
    "def ts2dt(ts, format=DATETIME_FORMAT):\r\n",
    "    dt = (datetime.utcfromtimestamp(int(ts))\r\n",
    "                    .replace(tzinfo=tz.tzutc())\r\n",
    "                    # .astimezone(tz.tzlocal())\r\n",
    "                    .astimezone(tz.gettz(TIME_ZONE)))\r\n",
    "    return dt.strftime(format), dt\r\n",
    "\r\n",
    "_, newest_dt = ts2dt(newest_ts)\r\n",
    "print(f\"Recent query happens at {newest_dt.strftime(DATETIME_FORMAT)} ({newest_dt.tzname()}).\")"
   ]
  },
  {
   "cell_type": "code",
   "execution_count": 4,
   "metadata": {
    "execution": {
     "iopub.execute_input": "2021-09-08T06:47:14.766510Z",
     "iopub.status.busy": "2021-09-08T06:47:14.765523Z",
     "iopub.status.idle": "2021-09-08T06:47:14.767031Z",
     "shell.execute_reply": "2021-09-08T06:47:14.767414Z"
    }
   },
   "outputs": [],
   "source": [
    "def degrees_to_cardinal(d):\r\n",
    "  dirs = ['N', 'NNE', 'NE', 'ENE', 'E', 'ESE', 'SE', 'SSE', 'S', 'SSW', 'SW', 'WSW', 'W', 'WNW', 'NW', 'NNW']\r\n",
    "  ix = int(round(d / (360. / len(dirs))))\r\n",
    "  return dirs[ix % len(dirs)]"
   ]
  },
  {
   "cell_type": "code",
   "execution_count": 5,
   "metadata": {
    "execution": {
     "iopub.execute_input": "2021-09-08T06:47:14.771021Z",
     "iopub.status.busy": "2021-09-08T06:47:14.770101Z",
     "iopub.status.idle": "2021-09-08T06:47:14.772092Z",
     "shell.execute_reply": "2021-09-08T06:47:14.771709Z"
    }
   },
   "outputs": [],
   "source": [
    "# data.keys()"
   ]
  },
  {
   "cell_type": "code",
   "execution_count": 6,
   "metadata": {
    "execution": {
     "iopub.execute_input": "2021-09-08T06:47:14.775503Z",
     "iopub.status.busy": "2021-09-08T06:47:14.774538Z",
     "iopub.status.idle": "2021-09-08T06:47:14.776027Z",
     "shell.execute_reply": "2021-09-08T06:47:14.776391Z"
    }
   },
   "outputs": [],
   "source": [
    "# data['current']"
   ]
  },
  {
   "cell_type": "code",
   "execution_count": 7,
   "metadata": {
    "execution": {
     "iopub.execute_input": "2021-09-08T06:47:14.792522Z",
     "iopub.status.busy": "2021-09-08T06:47:14.792050Z",
     "iopub.status.idle": "2021-09-08T06:47:15.131572Z",
     "shell.execute_reply": "2021-09-08T06:47:15.132219Z"
    }
   },
   "outputs": [
    {
     "data": {
      "image/png": "[encoded data removed]",
      "text/plain": [
       "<Figure size 216x216 with 1 Axes>"
      ]
     },
     "metadata": {
      "needs_background": "light"
     },
     "output_type": "display_data"
    },
    {
     "name": "stdout",
     "output_type": "stream",
     "text": [
      "Today, sun rises at 06:07 and sets at 18:33.\n",
      "Currently, the weather is Clouds (few clouds).\n",
      "The temperature is 32.61°C and it feels like 39.61°C.\n",
      "The UV index is 5.71, humidity is 68%.\n",
      "The pressure is 1008 hPa, percentage of cloud cover is 20%\n",
      "The wind comes from ESE direction with a speed 3.87 m/s.\n"
     ]
    }
   ],
   "source": [
    "current = data['current']\r\n",
    "\r\n",
    "fig, ax = plt.subplots(figsize=(3, 3))\r\n",
    "icon = requests.get(f\"http://openweathermap.org/img/wn/{current['weather'][0]['icon']}@2x.png\")\r\n",
    "im = Image.open(BytesIO(icon.content))\r\n",
    "plt.imshow(im)\r\n",
    "ax.set_axis_off()\r\n",
    "plt.show()\r\n",
    "\r\n",
    "print(f\"Today, sun rises at {ts2dt(current['sunrise'], '%H:%M')[0]} \\\r\n",
    "and sets at {ts2dt(current['sunset'], '%H:%M')[0]}.\\n\\\r\n",
    "Currently, the weather is {current['weather'][0]['main']} ({current['weather'][0]['description']}).\\n\\\r\n",
    "The temperature is {current['temp']}°C and it feels like {current['feels_like']}°C.\\n\\\r\n",
    "The UV index is {current['uvi']}, humidity is {current['humidity']}%.\\n\\\r\n",
    "The pressure is {current['pressure']} hPa, percentage of cloud cover is {current['clouds']}%\\n\\\r\n",
    "The wind comes from {degrees_to_cardinal(current['wind_deg'])} direction with a speed {current['wind_speed']} m/s.\")"
   ]
  },
  {
   "cell_type": "code",
   "execution_count": 8,
   "metadata": {
    "execution": {
     "iopub.execute_input": "2021-09-08T06:47:15.135421Z",
     "iopub.status.busy": "2021-09-08T06:47:15.134518Z",
     "iopub.status.idle": "2021-09-08T06:47:15.141338Z",
     "shell.execute_reply": "2021-09-08T06:47:15.141951Z"
    }
   },
   "outputs": [],
   "source": [
    "df_hourly = pd.DataFrame(data['hourly'])\r\n",
    "df_daily = pd.DataFrame(data['daily'])"
   ]
  },
  {
   "cell_type": "code",
   "execution_count": 9,
   "metadata": {
    "execution": {
     "iopub.execute_input": "2021-09-08T06:47:15.144794Z",
     "iopub.status.busy": "2021-09-08T06:47:15.143918Z",
     "iopub.status.idle": "2021-09-08T06:47:15.390245Z",
     "shell.execute_reply": "2021-09-08T06:47:15.389838Z"
    }
   },
   "outputs": [
    {
     "data": {
      "image/png": "[encoded data removed]",
      "text/plain": [
       "<Figure size 864x432 with 1 Axes>"
      ]
     },
     "metadata": {
      "needs_background": "light"
     },
     "output_type": "display_data"
    }
   ],
   "source": [
    "fig, ax = plt.subplots(figsize=(12, 6))\r\n",
    "plt.plot(df_hourly.temp, '.-', label='Temperature')\r\n",
    "plt.plot(df_hourly.feels_like, '.-', label='Feels Like')\r\n",
    "ax.set(title='Temperature in future 48 hours', xlabel='Time', ylabel='Temperature')\r\n",
    "ax.set_xticks(list(range(0, len(df_hourly), 2)))\r\n",
    "ax.set_xticklabels([ts2dt(ts, '%m-%d %H:%M')[0] for i, ts in enumerate(df_hourly.dt) if i%2==0], \r\n",
    "                   rotation=45, ha=\"right\")\r\n",
    "ax.locator_params(nbins=15, axis='y')\r\n",
    "plt.legend()\r\n",
    "plt.show()"
   ]
  },
  {
   "cell_type": "code",
   "execution_count": 10,
   "metadata": {
    "execution": {
     "iopub.execute_input": "2021-09-08T06:47:15.400946Z",
     "iopub.status.busy": "2021-09-08T06:47:15.393707Z",
     "iopub.status.idle": "2021-09-08T06:47:15.411133Z",
     "shell.execute_reply": "2021-09-08T06:47:15.410753Z"
    }
   },
   "outputs": [
    {
     "data": {
      "text/html": [
       "<div>\n",
       "<style scoped>\n",
       "    .dataframe tbody tr th:only-of-type {\n",
       "        vertical-align: middle;\n",
       "    }\n",
       "\n",
       "    .dataframe tbody tr th {\n",
       "        vertical-align: top;\n",
       "    }\n",
       "\n",
       "    .dataframe thead th {\n",
       "        text-align: right;\n",
       "    }\n",
       "</style>\n",
       "<table border=\"1\" class=\"dataframe\">\n",
       "  <thead>\n",
       "    <tr style=\"text-align: right;\">\n",
       "      <th></th>\n",
       "      <th>dt</th>\n",
       "      <th>temp</th>\n",
       "      <th>feels_like</th>\n",
       "      <th>pressure</th>\n",
       "      <th>humidity</th>\n",
       "      <th>dew_point</th>\n",
       "      <th>uvi</th>\n",
       "      <th>clouds</th>\n",
       "      <th>visibility</th>\n",
       "      <th>wind_speed</th>\n",
       "      <th>wind_deg</th>\n",
       "      <th>wind_gust</th>\n",
       "      <th>weather</th>\n",
       "      <th>pop</th>\n",
       "      <th>rain</th>\n",
       "    </tr>\n",
       "  </thead>\n",
       "  <tbody>\n",
       "    <tr>\n",
       "      <th>0</th>\n",
       "      <td>1631080800</td>\n",
       "      <td>32.16</td>\n",
       "      <td>39.16</td>\n",
       "      <td>1008</td>\n",
       "      <td>68</td>\n",
       "      <td>25.50</td>\n",
       "      <td>8.62</td>\n",
       "      <td>23</td>\n",
       "      <td>10000</td>\n",
       "      <td>3.71</td>\n",
       "      <td>109</td>\n",
       "      <td>3.45</td>\n",
       "      <td>[{'id': 801, 'main': 'Clouds', 'description': ...</td>\n",
       "      <td>0.04</td>\n",
       "      <td>NaN</td>\n",
       "    </tr>\n",
       "    <tr>\n",
       "      <th>1</th>\n",
       "      <td>1631084400</td>\n",
       "      <td>32.61</td>\n",
       "      <td>39.61</td>\n",
       "      <td>1008</td>\n",
       "      <td>68</td>\n",
       "      <td>25.93</td>\n",
       "      <td>5.71</td>\n",
       "      <td>20</td>\n",
       "      <td>10000</td>\n",
       "      <td>3.87</td>\n",
       "      <td>119</td>\n",
       "      <td>3.32</td>\n",
       "      <td>[{'id': 500, 'main': 'Rain', 'description': 'l...</td>\n",
       "      <td>0.22</td>\n",
       "      <td>{'1h': 0.13}</td>\n",
       "    </tr>\n",
       "    <tr>\n",
       "      <th>2</th>\n",
       "      <td>1631088000</td>\n",
       "      <td>32.12</td>\n",
       "      <td>39.12</td>\n",
       "      <td>1008</td>\n",
       "      <td>68</td>\n",
       "      <td>25.46</td>\n",
       "      <td>2.94</td>\n",
       "      <td>24</td>\n",
       "      <td>10000</td>\n",
       "      <td>3.58</td>\n",
       "      <td>126</td>\n",
       "      <td>3.17</td>\n",
       "      <td>[{'id': 500, 'main': 'Rain', 'description': 'l...</td>\n",
       "      <td>0.22</td>\n",
       "      <td>{'1h': 0.27}</td>\n",
       "    </tr>\n",
       "    <tr>\n",
       "      <th>3</th>\n",
       "      <td>1631091600</td>\n",
       "      <td>31.47</td>\n",
       "      <td>38.47</td>\n",
       "      <td>1008</td>\n",
       "      <td>69</td>\n",
       "      <td>25.09</td>\n",
       "      <td>1.02</td>\n",
       "      <td>35</td>\n",
       "      <td>10000</td>\n",
       "      <td>3.36</td>\n",
       "      <td>132</td>\n",
       "      <td>3.01</td>\n",
       "      <td>[{'id': 500, 'main': 'Rain', 'description': 'l...</td>\n",
       "      <td>0.22</td>\n",
       "      <td>{'1h': 0.21}</td>\n",
       "    </tr>\n",
       "    <tr>\n",
       "      <th>4</th>\n",
       "      <td>1631095200</td>\n",
       "      <td>30.52</td>\n",
       "      <td>36.89</td>\n",
       "      <td>1008</td>\n",
       "      <td>72</td>\n",
       "      <td>24.90</td>\n",
       "      <td>0.18</td>\n",
       "      <td>49</td>\n",
       "      <td>10000</td>\n",
       "      <td>3.42</td>\n",
       "      <td>138</td>\n",
       "      <td>3.52</td>\n",
       "      <td>[{'id': 802, 'main': 'Clouds', 'description': ...</td>\n",
       "      <td>0.02</td>\n",
       "      <td>NaN</td>\n",
       "    </tr>\n",
       "  </tbody>\n",
       "</table>\n",
       "</div>"
      ],
      "text/plain": [
       "           dt   temp  feels_like  pressure  humidity  dew_point   uvi  clouds  \\\n",
       "0  1631080800  32.16       39.16      1008        68      25.50  8.62      23   \n",
       "1  1631084400  32.61       39.61      1008        68      25.93  5.71      20   \n",
       "2  1631088000  32.12       39.12      1008        68      25.46  2.94      24   \n",
       "3  1631091600  31.47       38.47      1008        69      25.09  1.02      35   \n",
       "4  1631095200  30.52       36.89      1008        72      24.90  0.18      49   \n",
       "\n",
       "   visibility  wind_speed  wind_deg  wind_gust  \\\n",
       "0       10000        3.71       109       3.45   \n",
       "1       10000        3.87       119       3.32   \n",
       "2       10000        3.58       126       3.17   \n",
       "3       10000        3.36       132       3.01   \n",
       "4       10000        3.42       138       3.52   \n",
       "\n",
       "                                             weather   pop          rain  \n",
       "0  [{'id': 801, 'main': 'Clouds', 'description': ...  0.04           NaN  \n",
       "1  [{'id': 500, 'main': 'Rain', 'description': 'l...  0.22  {'1h': 0.13}  \n",
       "2  [{'id': 500, 'main': 'Rain', 'description': 'l...  0.22  {'1h': 0.27}  \n",
       "3  [{'id': 500, 'main': 'Rain', 'description': 'l...  0.22  {'1h': 0.21}  \n",
       "4  [{'id': 802, 'main': 'Clouds', 'description': ...  0.02           NaN  "
      ]
     },
     "execution_count": 10,
     "metadata": {},
     "output_type": "execute_result"
    }
   ],
   "source": [
    "df_hourly.head()"
   ]
  },
  {
   "cell_type": "code",
   "execution_count": null,
   "metadata": {},
   "outputs": [],
   "source": []
  }
 ],
 "metadata": {
  "interpreter": {
   "hash": "c1b4cfe941b6d2466ad1fb5979e97da9cda8801728c8091b097ab734208fc00c"
  },
  "kernelspec": {
   "display_name": "Python 3.8.3 64-bit ('base': conda)",
   "name": "python3"
  },
  "language_info": {
   "codemirror_mode": {
    "name": "ipython",
    "version": 3
   },
   "file_extension": ".py",
   "mimetype": "text/x-python",
   "name": "python",
   "nbconvert_exporter": "python",
   "pygments_lexer": "ipython3",
   "version": "3.8.11"
  }
 },
 "nbformat": 4,
 "nbformat_minor": 2
}
