{
 "cells": [
  {
   "cell_type": "code",
   "execution_count": 1,
   "metadata": {
    "execution": {
     "iopub.execute_input": "2021-10-03T01:59:09.025913Z",
     "iopub.status.busy": "2021-10-03T01:59:09.025250Z",
     "iopub.status.idle": "2021-10-03T01:59:12.229005Z",
     "shell.execute_reply": "2021-10-03T01:59:12.228318Z"
    }
   },
   "outputs": [],
   "source": [
    "import json, yaml, requests\r\n",
    "from datetime import datetime\r\n",
    "from dateutil import tz\r\n",
    "import pandas as pd\r\n",
    "from PIL import Image\r\n",
    "from io import BytesIO\r\n",
    "import matplotlib.pyplot as plt\r\n",
    "import seaborn\r\n",
    "\r\n",
    "CONFIG_PATH = \"../config/config.yaml\""
   ]
  },
  {
   "cell_type": "code",
   "execution_count": 2,
   "metadata": {
    "execution": {
     "iopub.execute_input": "2021-10-03T01:59:12.237705Z",
     "iopub.status.busy": "2021-10-03T01:59:12.234426Z",
     "iopub.status.idle": "2021-10-03T01:59:12.240701Z",
     "shell.execute_reply": "2021-10-03T01:59:12.240231Z"
    }
   },
   "outputs": [],
   "source": [
    "with open('../newest_ts', 'r') as f:\r\n",
    "    newest_ts = f.read()\r\n",
    "\r\n",
    "data_path = f\"../data/data_{newest_ts}.json\"\r\n",
    "with open(data_path, 'r') as f:\r\n",
    "    data = json.load(f)\r\n",
    "\r\n",
    "with open(CONFIG_PATH, \"r\") as stream:\r\n",
    "    config = yaml.safe_load(stream)\r\n",
    "\r\n",
    "TIME_ZONE = config['time_zone']\r\n",
    "DATETIME_FORMAT = config['dt_format']"
   ]
  },
  {
   "cell_type": "code",
   "execution_count": 3,
   "metadata": {
    "execution": {
     "iopub.execute_input": "2021-10-03T01:59:12.245848Z",
     "iopub.status.busy": "2021-10-03T01:59:12.245306Z",
     "iopub.status.idle": "2021-10-03T01:59:12.251933Z",
     "shell.execute_reply": "2021-10-03T01:59:12.252391Z"
    }
   },
   "outputs": [
    {
     "name": "stdout",
     "output_type": "stream",
     "text": [
      "Recent query happens at 2021-10-03 09:59:04 (CST).\n"
     ]
    }
   ],
   "source": [
    "def ts2dt(ts, format=DATETIME_FORMAT):\r\n",
    "    dt = (datetime.utcfromtimestamp(int(ts))\r\n",
    "                    .replace(tzinfo=tz.tzutc())\r\n",
    "                    # .astimezone(tz.tzlocal())\r\n",
    "                    .astimezone(tz.gettz(TIME_ZONE)))\r\n",
    "    return dt.strftime(format), dt\r\n",
    "\r\n",
    "_, newest_dt = ts2dt(newest_ts)\r\n",
    "print(f\"Recent query happens at {newest_dt.strftime(DATETIME_FORMAT)} ({newest_dt.tzname()}).\")"
   ]
  },
  {
   "cell_type": "code",
   "execution_count": 4,
   "metadata": {
    "execution": {
     "iopub.execute_input": "2021-10-03T01:59:12.258223Z",
     "iopub.status.busy": "2021-10-03T01:59:12.257676Z",
     "iopub.status.idle": "2021-10-03T01:59:12.259708Z",
     "shell.execute_reply": "2021-10-03T01:59:12.260172Z"
    }
   },
   "outputs": [],
   "source": [
    "def degrees_to_cardinal(d):\r\n",
    "  dirs = ['N', 'NNE', 'NE', 'ENE', 'E', 'ESE', 'SE', 'SSE', 'S', 'SSW', 'SW', 'WSW', 'W', 'WNW', 'NW', 'NNW']\r\n",
    "  ix = int(round(d / (360. / len(dirs))))\r\n",
    "  return dirs[ix % len(dirs)]"
   ]
  },
  {
   "cell_type": "code",
   "execution_count": 5,
   "metadata": {
    "execution": {
     "iopub.execute_input": "2021-10-03T01:59:12.264977Z",
     "iopub.status.busy": "2021-10-03T01:59:12.263630Z",
     "iopub.status.idle": "2021-10-03T01:59:12.265589Z",
     "shell.execute_reply": "2021-10-03T01:59:12.266020Z"
    }
   },
   "outputs": [],
   "source": [
    "# data.keys()"
   ]
  },
  {
   "cell_type": "code",
   "execution_count": 6,
   "metadata": {
    "execution": {
     "iopub.execute_input": "2021-10-03T01:59:12.270489Z",
     "iopub.status.busy": "2021-10-03T01:59:12.269177Z",
     "iopub.status.idle": "2021-10-03T01:59:12.271090Z",
     "shell.execute_reply": "2021-10-03T01:59:12.271680Z"
    }
   },
   "outputs": [],
   "source": [
    "# data['current']"
   ]
  },
  {
   "cell_type": "code",
   "execution_count": 7,
   "metadata": {
    "execution": {
     "iopub.execute_input": "2021-10-03T01:59:12.291676Z",
     "iopub.status.busy": "2021-10-03T01:59:12.290972Z",
     "iopub.status.idle": "2021-10-03T01:59:12.578996Z",
     "shell.execute_reply": "2021-10-03T01:59:12.579808Z"
    }
   },
   "outputs": [
    {
     "data": {
      "image/png": "[encoded data removed]",
      "text/plain": [
       "<Figure size 216x216 with 1 Axes>"
      ]
     },
     "metadata": {
      "needs_background": "light"
     },
     "output_type": "display_data"
    },
    {
     "name": "stdout",
     "output_type": "stream",
     "text": [
      "Today, sun rises at 06:14 and sets at 18:09.\n",
      "Currently, the weather is Rain (light rain).\n",
      "The temperature is 29.48°C and it feels like 35.86°C.\n",
      "The UV index is 5.41, humidity is 79%.\n",
      "The pressure is 1017 hPa, percentage of cloud cover is 81%\n",
      "The wind comes from N direction with a speed 0.45 m/s.\n"
     ]
    }
   ],
   "source": [
    "current = data['current']\r\n",
    "\r\n",
    "fig, ax = plt.subplots(figsize=(3, 3))\r\n",
    "icon = requests.get(f\"http://openweathermap.org/img/wn/{current['weather'][0]['icon']}@2x.png\")\r\n",
    "im = Image.open(BytesIO(icon.content))\r\n",
    "plt.imshow(im)\r\n",
    "ax.set_axis_off()\r\n",
    "plt.show()\r\n",
    "\r\n",
    "print(f\"Today, sun rises at {ts2dt(current['sunrise'], '%H:%M')[0]} \\\r\n",
    "and sets at {ts2dt(current['sunset'], '%H:%M')[0]}.\\n\\\r\n",
    "Currently, the weather is {current['weather'][0]['main']} ({current['weather'][0]['description']}).\\n\\\r\n",
    "The temperature is {current['temp']}°C and it feels like {current['feels_like']}°C.\\n\\\r\n",
    "The UV index is {current['uvi']}, humidity is {current['humidity']}%.\\n\\\r\n",
    "The pressure is {current['pressure']} hPa, percentage of cloud cover is {current['clouds']}%\\n\\\r\n",
    "The wind comes from {degrees_to_cardinal(current['wind_deg'])} direction with a speed {current['wind_speed']} m/s.\")"
   ]
  },
  {
   "cell_type": "code",
   "execution_count": 8,
   "metadata": {
    "execution": {
     "iopub.execute_input": "2021-10-03T01:59:12.583412Z",
     "iopub.status.busy": "2021-10-03T01:59:12.582869Z",
     "iopub.status.idle": "2021-10-03T01:59:12.590447Z",
     "shell.execute_reply": "2021-10-03T01:59:12.591218Z"
    }
   },
   "outputs": [],
   "source": [
    "df_hourly = pd.DataFrame(data['hourly'])\r\n",
    "df_daily = pd.DataFrame(data['daily'])"
   ]
  },
  {
   "cell_type": "code",
   "execution_count": 9,
   "metadata": {
    "execution": {
     "iopub.execute_input": "2021-10-03T01:59:12.594918Z",
     "iopub.status.busy": "2021-10-03T01:59:12.593788Z",
     "iopub.status.idle": "2021-10-03T01:59:12.870135Z",
     "shell.execute_reply": "2021-10-03T01:59:12.870737Z"
    }
   },
   "outputs": [
    {
     "data": {
      "image/png": "[encoded data removed]",
      "text/plain": [
       "<Figure size 864x432 with 1 Axes>"
      ]
     },
     "metadata": {
      "needs_background": "light"
     },
     "output_type": "display_data"
    }
   ],
   "source": [
    "fig, ax = plt.subplots(figsize=(12, 6))\r\n",
    "plt.plot(df_hourly.temp, '.-', label='Temperature')\r\n",
    "plt.plot(df_hourly.feels_like, '.-', label='Feels Like')\r\n",
    "ax.set(title='Temperature in future 48 hours', xlabel='Time', ylabel='Temperature')\r\n",
    "ax.set_xticks(list(range(0, len(df_hourly), 2)))\r\n",
    "ax.set_xticklabels([ts2dt(ts, '%m-%d %H:%M')[0] for i, ts in enumerate(df_hourly.dt) if i%2==0], \r\n",
    "                   rotation=45, ha=\"right\")\r\n",
    "ax.locator_params(nbins=15, axis='y')\r\n",
    "plt.legend()\r\n",
    "plt.show()"
   ]
  },
  {
   "cell_type": "code",
   "execution_count": 10,
   "metadata": {
    "execution": {
     "iopub.execute_input": "2021-10-03T01:59:12.875892Z",
     "iopub.status.busy": "2021-10-03T01:59:12.875320Z",
     "iopub.status.idle": "2021-10-03T01:59:12.896983Z",
     "shell.execute_reply": "2021-10-03T01:59:12.896503Z"
    }
   },
   "outputs": [
    {
     "data": {
      "text/html": [
       "<div>\n",
       "<style scoped>\n",
       "    .dataframe tbody tr th:only-of-type {\n",
       "        vertical-align: middle;\n",
       "    }\n",
       "\n",
       "    .dataframe tbody tr th {\n",
       "        vertical-align: top;\n",
       "    }\n",
       "\n",
       "    .dataframe thead th {\n",
       "        text-align: right;\n",
       "    }\n",
       "</style>\n",
       "<table border=\"1\" class=\"dataframe\">\n",
       "  <thead>\n",
       "    <tr style=\"text-align: right;\">\n",
       "      <th></th>\n",
       "      <th>dt</th>\n",
       "      <th>temp</th>\n",
       "      <th>feels_like</th>\n",
       "      <th>pressure</th>\n",
       "      <th>humidity</th>\n",
       "      <th>dew_point</th>\n",
       "      <th>uvi</th>\n",
       "      <th>clouds</th>\n",
       "      <th>visibility</th>\n",
       "      <th>wind_speed</th>\n",
       "      <th>wind_deg</th>\n",
       "      <th>wind_gust</th>\n",
       "      <th>weather</th>\n",
       "      <th>pop</th>\n",
       "      <th>rain</th>\n",
       "    </tr>\n",
       "  </thead>\n",
       "  <tbody>\n",
       "    <tr>\n",
       "      <th>0</th>\n",
       "      <td>1633222800</td>\n",
       "      <td>29.18</td>\n",
       "      <td>34.80</td>\n",
       "      <td>1016</td>\n",
       "      <td>78</td>\n",
       "      <td>24.95</td>\n",
       "      <td>2.81</td>\n",
       "      <td>78</td>\n",
       "      <td>10000</td>\n",
       "      <td>6.38</td>\n",
       "      <td>90</td>\n",
       "      <td>7.68</td>\n",
       "      <td>[{'id': 500, 'main': 'Rain', 'description': 'l...</td>\n",
       "      <td>0.70</td>\n",
       "      <td>{'1h': 0.49}</td>\n",
       "    </tr>\n",
       "    <tr>\n",
       "      <th>1</th>\n",
       "      <td>1633226400</td>\n",
       "      <td>29.48</td>\n",
       "      <td>35.86</td>\n",
       "      <td>1017</td>\n",
       "      <td>79</td>\n",
       "      <td>25.45</td>\n",
       "      <td>5.41</td>\n",
       "      <td>81</td>\n",
       "      <td>10000</td>\n",
       "      <td>6.63</td>\n",
       "      <td>93</td>\n",
       "      <td>7.76</td>\n",
       "      <td>[{'id': 500, 'main': 'Rain', 'description': 'l...</td>\n",
       "      <td>0.75</td>\n",
       "      <td>{'1h': 0.24}</td>\n",
       "    </tr>\n",
       "    <tr>\n",
       "      <th>2</th>\n",
       "      <td>1633230000</td>\n",
       "      <td>29.38</td>\n",
       "      <td>35.11</td>\n",
       "      <td>1016</td>\n",
       "      <td>77</td>\n",
       "      <td>24.92</td>\n",
       "      <td>7.91</td>\n",
       "      <td>80</td>\n",
       "      <td>10000</td>\n",
       "      <td>6.78</td>\n",
       "      <td>97</td>\n",
       "      <td>7.65</td>\n",
       "      <td>[{'id': 501, 'main': 'Rain', 'description': 'm...</td>\n",
       "      <td>0.71</td>\n",
       "      <td>{'1h': 1.54}</td>\n",
       "    </tr>\n",
       "    <tr>\n",
       "      <th>3</th>\n",
       "      <td>1633233600</td>\n",
       "      <td>29.34</td>\n",
       "      <td>34.55</td>\n",
       "      <td>1015</td>\n",
       "      <td>75</td>\n",
       "      <td>24.44</td>\n",
       "      <td>9.21</td>\n",
       "      <td>79</td>\n",
       "      <td>10000</td>\n",
       "      <td>6.65</td>\n",
       "      <td>102</td>\n",
       "      <td>7.56</td>\n",
       "      <td>[{'id': 500, 'main': 'Rain', 'description': 'l...</td>\n",
       "      <td>0.67</td>\n",
       "      <td>{'1h': 0.24}</td>\n",
       "    </tr>\n",
       "    <tr>\n",
       "      <th>4</th>\n",
       "      <td>1633237200</td>\n",
       "      <td>29.29</td>\n",
       "      <td>34.21</td>\n",
       "      <td>1014</td>\n",
       "      <td>74</td>\n",
       "      <td>24.17</td>\n",
       "      <td>9.05</td>\n",
       "      <td>80</td>\n",
       "      <td>10000</td>\n",
       "      <td>5.96</td>\n",
       "      <td>97</td>\n",
       "      <td>7.06</td>\n",
       "      <td>[{'id': 803, 'main': 'Clouds', 'description': ...</td>\n",
       "      <td>0.67</td>\n",
       "      <td>NaN</td>\n",
       "    </tr>\n",
       "  </tbody>\n",
       "</table>\n",
       "</div>"
      ],
      "text/plain": [
       "           dt   temp  feels_like  pressure  humidity  dew_point   uvi  clouds  \\\n",
       "0  1633222800  29.18       34.80      1016        78      24.95  2.81      78   \n",
       "1  1633226400  29.48       35.86      1017        79      25.45  5.41      81   \n",
       "2  1633230000  29.38       35.11      1016        77      24.92  7.91      80   \n",
       "3  1633233600  29.34       34.55      1015        75      24.44  9.21      79   \n",
       "4  1633237200  29.29       34.21      1014        74      24.17  9.05      80   \n",
       "\n",
       "   visibility  wind_speed  wind_deg  wind_gust  \\\n",
       "0       10000        6.38        90       7.68   \n",
       "1       10000        6.63        93       7.76   \n",
       "2       10000        6.78        97       7.65   \n",
       "3       10000        6.65       102       7.56   \n",
       "4       10000        5.96        97       7.06   \n",
       "\n",
       "                                             weather   pop          rain  \n",
       "0  [{'id': 500, 'main': 'Rain', 'description': 'l...  0.70  {'1h': 0.49}  \n",
       "1  [{'id': 500, 'main': 'Rain', 'description': 'l...  0.75  {'1h': 0.24}  \n",
       "2  [{'id': 501, 'main': 'Rain', 'description': 'm...  0.71  {'1h': 1.54}  \n",
       "3  [{'id': 500, 'main': 'Rain', 'description': 'l...  0.67  {'1h': 0.24}  \n",
       "4  [{'id': 803, 'main': 'Clouds', 'description': ...  0.67           NaN  "
      ]
     },
     "execution_count": 10,
     "metadata": {},
     "output_type": "execute_result"
    }
   ],
   "source": [
    "df_hourly.head()"
   ]
  },
  {
   "cell_type": "code",
   "execution_count": null,
   "metadata": {},
   "outputs": [],
   "source": []
  }
 ],
 "metadata": {
  "interpreter": {
   "hash": "c1b4cfe941b6d2466ad1fb5979e97da9cda8801728c8091b097ab734208fc00c"
  },
  "kernelspec": {
   "display_name": "Python 3.8.3 64-bit ('base': conda)",
   "name": "python3"
  },
  "language_info": {
   "codemirror_mode": {
    "name": "ipython",
    "version": 3
   },
   "file_extension": ".py",
   "mimetype": "text/x-python",
   "name": "python",
   "nbconvert_exporter": "python",
   "pygments_lexer": "ipython3",
   "version": "3.8.12"
  }
 },
 "nbformat": 4,
 "nbformat_minor": 2
}
