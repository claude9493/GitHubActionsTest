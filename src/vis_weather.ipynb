{
 "cells": [
  {
   "cell_type": "code",
   "execution_count": 1,
   "metadata": {
    "execution": {
     "iopub.execute_input": "2021-09-02T22:15:38.950013Z",
     "iopub.status.busy": "2021-09-02T22:15:38.949232Z",
     "iopub.status.idle": "2021-09-02T22:15:41.476581Z",
     "shell.execute_reply": "2021-09-02T22:15:41.475451Z"
    }
   },
   "outputs": [],
   "source": [
    "import json, yaml, requests\r\n",
    "from datetime import datetime\r\n",
    "from dateutil import tz\r\n",
    "import pandas as pd\r\n",
    "from PIL import Image\r\n",
    "from io import BytesIO\r\n",
    "import matplotlib.pyplot as plt\r\n",
    "import seaborn\r\n",
    "\r\n",
    "CONFIG_PATH = \"../config/config.yaml\""
   ]
  },
  {
   "cell_type": "code",
   "execution_count": 2,
   "metadata": {
    "execution": {
     "iopub.execute_input": "2021-09-02T22:15:41.482415Z",
     "iopub.status.busy": "2021-09-02T22:15:41.479559Z",
     "iopub.status.idle": "2021-09-02T22:15:41.488889Z",
     "shell.execute_reply": "2021-09-02T22:15:41.488340Z"
    }
   },
   "outputs": [],
   "source": [
    "with open('../newest_ts', 'r') as f:\r\n",
    "    newest_ts = f.read()\r\n",
    "\r\n",
    "data_path = f\"../data/data_{newest_ts}.json\"\r\n",
    "with open(data_path, 'r') as f:\r\n",
    "    data = json.load(f)\r\n",
    "\r\n",
    "with open(CONFIG_PATH, \"r\") as stream:\r\n",
    "    config = yaml.safe_load(stream)\r\n",
    "\r\n",
    "TIME_ZONE = config['time_zone']\r\n",
    "DATETIME_FORMAT = config['dt_format']"
   ]
  },
  {
   "cell_type": "code",
   "execution_count": 3,
   "metadata": {
    "execution": {
     "iopub.execute_input": "2021-09-02T22:15:41.494225Z",
     "iopub.status.busy": "2021-09-02T22:15:41.493648Z",
     "iopub.status.idle": "2021-09-02T22:15:41.502561Z",
     "shell.execute_reply": "2021-09-02T22:15:41.503091Z"
    }
   },
   "outputs": [
    {
     "name": "stdout",
     "output_type": "stream",
     "text": [
      "Recent query happens at 2021-09-03 06:15:36 (CST).\n"
     ]
    }
   ],
   "source": [
    "def ts2dt(ts, format=DATETIME_FORMAT):\r\n",
    "    dt = (datetime.utcfromtimestamp(int(ts))\r\n",
    "                    .replace(tzinfo=tz.tzutc())\r\n",
    "                    # .astimezone(tz.tzlocal())\r\n",
    "                    .astimezone(tz.gettz(TIME_ZONE)))\r\n",
    "    return dt.strftime(format), dt\r\n",
    "\r\n",
    "_, newest_dt = ts2dt(newest_ts)\r\n",
    "print(f\"Recent query happens at {newest_dt.strftime(DATETIME_FORMAT)} ({newest_dt.tzname()}).\")"
   ]
  },
  {
   "cell_type": "code",
   "execution_count": 4,
   "metadata": {
    "execution": {
     "iopub.execute_input": "2021-09-02T22:15:41.509362Z",
     "iopub.status.busy": "2021-09-02T22:15:41.507482Z",
     "iopub.status.idle": "2021-09-02T22:15:41.510053Z",
     "shell.execute_reply": "2021-09-02T22:15:41.510736Z"
    }
   },
   "outputs": [],
   "source": [
    "def degrees_to_cardinal(d):\r\n",
    "  dirs = ['N', 'NNE', 'NE', 'ENE', 'E', 'ESE', 'SE', 'SSE', 'S', 'SSW', 'SW', 'WSW', 'W', 'WNW', 'NW', 'NNW']\r\n",
    "  ix = int(round(d / (360. / len(dirs))))\r\n",
    "  return dirs[ix % len(dirs)]"
   ]
  },
  {
   "cell_type": "code",
   "execution_count": 5,
   "metadata": {
    "execution": {
     "iopub.execute_input": "2021-09-02T22:15:41.516082Z",
     "iopub.status.busy": "2021-09-02T22:15:41.514562Z",
     "iopub.status.idle": "2021-09-02T22:15:41.516723Z",
     "shell.execute_reply": "2021-09-02T22:15:41.517212Z"
    }
   },
   "outputs": [],
   "source": [
    "# data.keys()"
   ]
  },
  {
   "cell_type": "code",
   "execution_count": 6,
   "metadata": {
    "execution": {
     "iopub.execute_input": "2021-09-02T22:15:41.521217Z",
     "iopub.status.busy": "2021-09-02T22:15:41.520498Z",
     "iopub.status.idle": "2021-09-02T22:15:41.522162Z",
     "shell.execute_reply": "2021-09-02T22:15:41.522648Z"
    }
   },
   "outputs": [],
   "source": [
    "# data['current']"
   ]
  },
  {
   "cell_type": "code",
   "execution_count": 7,
   "metadata": {
    "execution": {
     "iopub.execute_input": "2021-09-02T22:15:41.555485Z",
     "iopub.status.busy": "2021-09-02T22:15:41.525053Z",
     "iopub.status.idle": "2021-09-02T22:15:42.018128Z",
     "shell.execute_reply": "2021-09-02T22:15:42.018903Z"
    }
   },
   "outputs": [
    {
     "data": {
      "image/png": "[encoded data removed]",
      "text/plain": [
       "<Figure size 216x216 with 1 Axes>"
      ]
     },
     "metadata": {
      "needs_background": "light"
     },
     "output_type": "display_data"
    },
    {
     "name": "stdout",
     "output_type": "stream",
     "text": [
      "Today, sun rises at 06:06 and sets at 18:38.\n",
      "Currently, the weather is Clouds (broken clouds).\n",
      "The temperature is 27.79°C and it feels like 32.46°C.\n",
      "The UV index is 0, humidity is 86%.\n",
      "The pressure is 1007 hPa, percentage of cloud cover is 62%\n",
      "The wind comes from ESE direction with a speed 0.43 m/s.\n"
     ]
    }
   ],
   "source": [
    "current = data['current']\r\n",
    "\r\n",
    "fig, ax = plt.subplots(figsize=(3, 3))\r\n",
    "icon = requests.get(f\"http://openweathermap.org/img/wn/{current['weather'][0]['icon']}@2x.png\")\r\n",
    "im = Image.open(BytesIO(icon.content))\r\n",
    "plt.imshow(im)\r\n",
    "ax.set_axis_off()\r\n",
    "plt.show()\r\n",
    "\r\n",
    "print(f\"Today, sun rises at {ts2dt(current['sunrise'], '%H:%M')[0]} \\\r\n",
    "and sets at {ts2dt(current['sunset'], '%H:%M')[0]}.\\n\\\r\n",
    "Currently, the weather is {current['weather'][0]['main']} ({current['weather'][0]['description']}).\\n\\\r\n",
    "The temperature is {current['temp']}°C and it feels like {current['feels_like']}°C.\\n\\\r\n",
    "The UV index is {current['uvi']}, humidity is {current['humidity']}%.\\n\\\r\n",
    "The pressure is {current['pressure']} hPa, percentage of cloud cover is {current['clouds']}%\\n\\\r\n",
    "The wind comes from {degrees_to_cardinal(current['wind_deg'])} direction with a speed {current['wind_speed']} m/s.\")"
   ]
  },
  {
   "cell_type": "code",
   "execution_count": 8,
   "metadata": {
    "execution": {
     "iopub.execute_input": "2021-09-02T22:15:42.022554Z",
     "iopub.status.busy": "2021-09-02T22:15:42.021573Z",
     "iopub.status.idle": "2021-09-02T22:15:42.030022Z",
     "shell.execute_reply": "2021-09-02T22:15:42.030890Z"
    }
   },
   "outputs": [],
   "source": [
    "df_hourly = pd.DataFrame(data['hourly'])\r\n",
    "df_daily = pd.DataFrame(data['daily'])"
   ]
  },
  {
   "cell_type": "code",
   "execution_count": 9,
   "metadata": {
    "execution": {
     "iopub.execute_input": "2021-09-02T22:15:42.034837Z",
     "iopub.status.busy": "2021-09-02T22:15:42.033630Z",
     "iopub.status.idle": "2021-09-02T22:15:42.359181Z",
     "shell.execute_reply": "2021-09-02T22:15:42.357808Z"
    }
   },
   "outputs": [
    {
     "data": {
      "image/png": "[encoded data removed]",
      "text/plain": [
       "<Figure size 864x432 with 1 Axes>"
      ]
     },
     "metadata": {
      "needs_background": "light"
     },
     "output_type": "display_data"
    }
   ],
   "source": [
    "fig, ax = plt.subplots(figsize=(12, 6))\r\n",
    "plt.plot(df_hourly.temp, '.-', label='Temperature')\r\n",
    "plt.plot(df_hourly.feels_like, '.-', label='Feels Like')\r\n",
    "ax.set(title='Temperature in future 48 hours', xlabel='Time', ylabel='Temperature')\r\n",
    "ax.set_xticks(list(range(0, len(df_hourly), 2)))\r\n",
    "ax.set_xticklabels([ts2dt(ts, '%m-%d %H:%M')[0] for i, ts in enumerate(df_hourly.dt) if i%2==0], \r\n",
    "                   rotation=45, ha=\"right\")\r\n",
    "ax.locator_params(nbins=15, axis='y')\r\n",
    "plt.legend()\r\n",
    "plt.show()"
   ]
  },
  {
   "cell_type": "code",
   "execution_count": 10,
   "metadata": {
    "execution": {
     "iopub.execute_input": "2021-09-02T22:15:42.365149Z",
     "iopub.status.busy": "2021-09-02T22:15:42.364461Z",
     "iopub.status.idle": "2021-09-02T22:15:42.385037Z",
     "shell.execute_reply": "2021-09-02T22:15:42.385502Z"
    }
   },
   "outputs": [
    {
     "data": {
      "text/html": [
       "<div>\n",
       "<style scoped>\n",
       "    .dataframe tbody tr th:only-of-type {\n",
       "        vertical-align: middle;\n",
       "    }\n",
       "\n",
       "    .dataframe tbody tr th {\n",
       "        vertical-align: top;\n",
       "    }\n",
       "\n",
       "    .dataframe thead th {\n",
       "        text-align: right;\n",
       "    }\n",
       "</style>\n",
       "<table border=\"1\" class=\"dataframe\">\n",
       "  <thead>\n",
       "    <tr style=\"text-align: right;\">\n",
       "      <th></th>\n",
       "      <th>dt</th>\n",
       "      <th>temp</th>\n",
       "      <th>feels_like</th>\n",
       "      <th>pressure</th>\n",
       "      <th>humidity</th>\n",
       "      <th>dew_point</th>\n",
       "      <th>uvi</th>\n",
       "      <th>clouds</th>\n",
       "      <th>visibility</th>\n",
       "      <th>wind_speed</th>\n",
       "      <th>wind_deg</th>\n",
       "      <th>wind_gust</th>\n",
       "      <th>weather</th>\n",
       "      <th>pop</th>\n",
       "      <th>rain</th>\n",
       "    </tr>\n",
       "  </thead>\n",
       "  <tbody>\n",
       "    <tr>\n",
       "      <th>0</th>\n",
       "      <td>1630620000</td>\n",
       "      <td>27.79</td>\n",
       "      <td>32.46</td>\n",
       "      <td>1007</td>\n",
       "      <td>86</td>\n",
       "      <td>25.23</td>\n",
       "      <td>0.00</td>\n",
       "      <td>62</td>\n",
       "      <td>10000</td>\n",
       "      <td>0.43</td>\n",
       "      <td>122</td>\n",
       "      <td>0.71</td>\n",
       "      <td>[{'id': 803, 'main': 'Clouds', 'description': ...</td>\n",
       "      <td>0.00</td>\n",
       "      <td>NaN</td>\n",
       "    </tr>\n",
       "    <tr>\n",
       "      <th>1</th>\n",
       "      <td>1630623600</td>\n",
       "      <td>27.73</td>\n",
       "      <td>32.00</td>\n",
       "      <td>1007</td>\n",
       "      <td>84</td>\n",
       "      <td>24.78</td>\n",
       "      <td>0.32</td>\n",
       "      <td>61</td>\n",
       "      <td>10000</td>\n",
       "      <td>0.35</td>\n",
       "      <td>84</td>\n",
       "      <td>0.60</td>\n",
       "      <td>[{'id': 803, 'main': 'Clouds', 'description': ...</td>\n",
       "      <td>0.00</td>\n",
       "      <td>NaN</td>\n",
       "    </tr>\n",
       "    <tr>\n",
       "      <th>2</th>\n",
       "      <td>1630627200</td>\n",
       "      <td>27.99</td>\n",
       "      <td>32.39</td>\n",
       "      <td>1007</td>\n",
       "      <td>82</td>\n",
       "      <td>24.63</td>\n",
       "      <td>1.48</td>\n",
       "      <td>61</td>\n",
       "      <td>10000</td>\n",
       "      <td>0.67</td>\n",
       "      <td>54</td>\n",
       "      <td>0.74</td>\n",
       "      <td>[{'id': 803, 'main': 'Clouds', 'description': ...</td>\n",
       "      <td>0.00</td>\n",
       "      <td>NaN</td>\n",
       "    </tr>\n",
       "    <tr>\n",
       "      <th>3</th>\n",
       "      <td>1630630800</td>\n",
       "      <td>28.59</td>\n",
       "      <td>33.25</td>\n",
       "      <td>1008</td>\n",
       "      <td>78</td>\n",
       "      <td>24.38</td>\n",
       "      <td>3.77</td>\n",
       "      <td>67</td>\n",
       "      <td>10000</td>\n",
       "      <td>1.05</td>\n",
       "      <td>64</td>\n",
       "      <td>1.03</td>\n",
       "      <td>[{'id': 803, 'main': 'Clouds', 'description': ...</td>\n",
       "      <td>0.39</td>\n",
       "      <td>NaN</td>\n",
       "    </tr>\n",
       "    <tr>\n",
       "      <th>4</th>\n",
       "      <td>1630634400</td>\n",
       "      <td>29.34</td>\n",
       "      <td>34.11</td>\n",
       "      <td>1008</td>\n",
       "      <td>73</td>\n",
       "      <td>23.99</td>\n",
       "      <td>6.80</td>\n",
       "      <td>76</td>\n",
       "      <td>10000</td>\n",
       "      <td>1.48</td>\n",
       "      <td>91</td>\n",
       "      <td>1.38</td>\n",
       "      <td>[{'id': 500, 'main': 'Rain', 'description': 'l...</td>\n",
       "      <td>0.55</td>\n",
       "      <td>{'1h': 0.1}</td>\n",
       "    </tr>\n",
       "  </tbody>\n",
       "</table>\n",
       "</div>"
      ],
      "text/plain": [
       "           dt   temp  feels_like  pressure  humidity  dew_point   uvi  clouds  \\\n",
       "0  1630620000  27.79       32.46      1007        86      25.23  0.00      62   \n",
       "1  1630623600  27.73       32.00      1007        84      24.78  0.32      61   \n",
       "2  1630627200  27.99       32.39      1007        82      24.63  1.48      61   \n",
       "3  1630630800  28.59       33.25      1008        78      24.38  3.77      67   \n",
       "4  1630634400  29.34       34.11      1008        73      23.99  6.80      76   \n",
       "\n",
       "   visibility  wind_speed  wind_deg  wind_gust  \\\n",
       "0       10000        0.43       122       0.71   \n",
       "1       10000        0.35        84       0.60   \n",
       "2       10000        0.67        54       0.74   \n",
       "3       10000        1.05        64       1.03   \n",
       "4       10000        1.48        91       1.38   \n",
       "\n",
       "                                             weather   pop         rain  \n",
       "0  [{'id': 803, 'main': 'Clouds', 'description': ...  0.00          NaN  \n",
       "1  [{'id': 803, 'main': 'Clouds', 'description': ...  0.00          NaN  \n",
       "2  [{'id': 803, 'main': 'Clouds', 'description': ...  0.00          NaN  \n",
       "3  [{'id': 803, 'main': 'Clouds', 'description': ...  0.39          NaN  \n",
       "4  [{'id': 500, 'main': 'Rain', 'description': 'l...  0.55  {'1h': 0.1}  "
      ]
     },
     "execution_count": 10,
     "metadata": {},
     "output_type": "execute_result"
    }
   ],
   "source": [
    "df_hourly.head()"
   ]
  },
  {
   "cell_type": "code",
   "execution_count": null,
   "metadata": {},
   "outputs": [],
   "source": []
  }
 ],
 "metadata": {
  "interpreter": {
   "hash": "c1b4cfe941b6d2466ad1fb5979e97da9cda8801728c8091b097ab734208fc00c"
  },
  "kernelspec": {
   "display_name": "Python 3.8.3 64-bit ('base': conda)",
   "name": "python3"
  },
  "language_info": {
   "codemirror_mode": {
    "name": "ipython",
    "version": 3
   },
   "file_extension": ".py",
   "mimetype": "text/x-python",
   "name": "python",
   "nbconvert_exporter": "python",
   "pygments_lexer": "ipython3",
   "version": "3.8.11"
  }
 },
 "nbformat": 4,
 "nbformat_minor": 2
}
