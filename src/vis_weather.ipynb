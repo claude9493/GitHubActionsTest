{
 "cells": [
  {
   "cell_type": "code",
   "execution_count": 1,
   "metadata": {
    "execution": {
     "iopub.execute_input": "2021-08-22T21:13:06.444932Z",
     "iopub.status.busy": "2021-08-22T21:13:06.444359Z",
     "iopub.status.idle": "2021-08-22T21:13:09.650892Z",
     "shell.execute_reply": "2021-08-22T21:13:09.649694Z"
    }
   },
   "outputs": [],
   "source": [
    "import json\r\n",
    "from datetime import datetime\r\n",
    "from dateutil import tz\r\n",
    "import pandas as pd\r\n",
    "import matplotlib.pyplot as plt\r\n",
    "import seaborn\r\n"
   ]
  },
  {
   "cell_type": "code",
   "execution_count": 2,
   "metadata": {
    "execution": {
     "iopub.execute_input": "2021-08-22T21:13:09.654756Z",
     "iopub.status.busy": "2021-08-22T21:13:09.653028Z",
     "iopub.status.idle": "2021-08-22T21:13:09.658035Z",
     "shell.execute_reply": "2021-08-22T21:13:09.657600Z"
    }
   },
   "outputs": [],
   "source": [
    "with open('../newest_ts', 'r') as f:\r\n",
    "    ts = f.read()\r\n",
    "\r\n",
    "data_path = f\"../data/data_{ts}.json\"\r\n",
    "with open(data_path, 'r') as f:\r\n",
    "    data = json.load(f)"
   ]
  },
  {
   "cell_type": "code",
   "execution_count": 3,
   "metadata": {
    "execution": {
     "iopub.execute_input": "2021-08-22T21:13:09.664184Z",
     "iopub.status.busy": "2021-08-22T21:13:09.662852Z",
     "iopub.status.idle": "2021-08-22T21:13:09.666600Z",
     "shell.execute_reply": "2021-08-22T21:13:09.666130Z"
    }
   },
   "outputs": [
    {
     "name": "stdout",
     "output_type": "stream",
     "text": [
      "Recent query happens at 2021-08-22 21:13:03\n"
     ]
    }
   ],
   "source": [
    "def ts2dt(ts, format='%Y-%m-%d %H:%M:%S'):\r\n",
    "    return (datetime.utcfromtimestamp(int(ts))\r\n",
    "                    .replace(tzinfo=tz.tzutc())\r\n",
    "                    .astimezone(tz.tzlocal())\r\n",
    "                    .strftime(format))\r\n",
    "\r\n",
    "print(f\"Recent query happens at {ts2dt(ts)}\")"
   ]
  },
  {
   "cell_type": "code",
   "execution_count": 4,
   "metadata": {
    "execution": {
     "iopub.execute_input": "2021-08-22T21:13:09.673330Z",
     "iopub.status.busy": "2021-08-22T21:13:09.672778Z",
     "iopub.status.idle": "2021-08-22T21:13:09.675397Z",
     "shell.execute_reply": "2021-08-22T21:13:09.675797Z"
    }
   },
   "outputs": [
    {
     "data": {
      "text/plain": [
       "dict_keys(['lat', 'lon', 'timezone', 'timezone_offset', 'current', 'hourly', 'daily'])"
      ]
     },
     "execution_count": 4,
     "metadata": {},
     "output_type": "execute_result"
    }
   ],
   "source": [
    "data.keys()"
   ]
  },
  {
   "cell_type": "code",
   "execution_count": 5,
   "metadata": {
    "execution": {
     "iopub.execute_input": "2021-08-22T21:13:09.681150Z",
     "iopub.status.busy": "2021-08-22T21:13:09.678170Z",
     "iopub.status.idle": "2021-08-22T21:13:09.683189Z",
     "shell.execute_reply": "2021-08-22T21:13:09.683575Z"
    }
   },
   "outputs": [
    {
     "data": {
      "text/plain": [
       "{'dt': 1629666783,\n",
       " 'sunrise': 1629669780,\n",
       " 'sunset': 1629715720,\n",
       " 'temp': 29.15,\n",
       " 'feels_like': 36.15,\n",
       " 'pressure': 1007,\n",
       " 'humidity': 85,\n",
       " 'dew_point': 26.37,\n",
       " 'uvi': 0,\n",
       " 'clouds': 91,\n",
       " 'visibility': 10000,\n",
       " 'wind_speed': 2.77,\n",
       " 'wind_deg': 220,\n",
       " 'wind_gust': 3.9,\n",
       " 'weather': [{'id': 804,\n",
       "   'main': 'Clouds',\n",
       "   'description': 'overcast clouds',\n",
       "   'icon': '04n'}]}"
      ]
     },
     "execution_count": 5,
     "metadata": {},
     "output_type": "execute_result"
    }
   ],
   "source": [
    "data['current']"
   ]
  },
  {
   "cell_type": "code",
   "execution_count": 6,
   "metadata": {
    "execution": {
     "iopub.execute_input": "2021-08-22T21:13:09.689261Z",
     "iopub.status.busy": "2021-08-22T21:13:09.688246Z",
     "iopub.status.idle": "2021-08-22T21:13:09.691043Z",
     "shell.execute_reply": "2021-08-22T21:13:09.691448Z"
    }
   },
   "outputs": [
    {
     "data": {
      "text/plain": [
       "{'dt': 1629666000,\n",
       " 'temp': 29.15,\n",
       " 'feels_like': 36.15,\n",
       " 'pressure': 1007,\n",
       " 'humidity': 85,\n",
       " 'dew_point': 26.37,\n",
       " 'uvi': 0,\n",
       " 'clouds': 91,\n",
       " 'visibility': 10000,\n",
       " 'wind_speed': 2.77,\n",
       " 'wind_deg': 220,\n",
       " 'wind_gust': 3.9,\n",
       " 'weather': [{'id': 500,\n",
       "   'main': 'Rain',\n",
       "   'description': 'light rain',\n",
       "   'icon': '10n'}],\n",
       " 'pop': 0.72,\n",
       " 'rain': {'1h': 0.4}}"
      ]
     },
     "execution_count": 6,
     "metadata": {},
     "output_type": "execute_result"
    }
   ],
   "source": [
    "data['hourly'][0]"
   ]
  },
  {
   "cell_type": "code",
   "execution_count": 7,
   "metadata": {
    "execution": {
     "iopub.execute_input": "2021-08-22T21:13:09.699535Z",
     "iopub.status.busy": "2021-08-22T21:13:09.698356Z",
     "iopub.status.idle": "2021-08-22T21:13:09.700185Z",
     "shell.execute_reply": "2021-08-22T21:13:09.700607Z"
    }
   },
   "outputs": [],
   "source": [
    "df_hourly = pd.DataFrame(data['hourly'])\r\n",
    "df_daily = pd.DataFrame(data['daily'])"
   ]
  },
  {
   "cell_type": "code",
   "execution_count": 8,
   "metadata": {
    "execution": {
     "iopub.execute_input": "2021-08-22T21:13:09.712636Z",
     "iopub.status.busy": "2021-08-22T21:13:09.704263Z",
     "iopub.status.idle": "2021-08-22T21:13:09.723090Z",
     "shell.execute_reply": "2021-08-22T21:13:09.722539Z"
    }
   },
   "outputs": [
    {
     "data": {
      "text/html": [
       "<div>\n",
       "<style scoped>\n",
       "    .dataframe tbody tr th:only-of-type {\n",
       "        vertical-align: middle;\n",
       "    }\n",
       "\n",
       "    .dataframe tbody tr th {\n",
       "        vertical-align: top;\n",
       "    }\n",
       "\n",
       "    .dataframe thead th {\n",
       "        text-align: right;\n",
       "    }\n",
       "</style>\n",
       "<table border=\"1\" class=\"dataframe\">\n",
       "  <thead>\n",
       "    <tr style=\"text-align: right;\">\n",
       "      <th></th>\n",
       "      <th>dt</th>\n",
       "      <th>temp</th>\n",
       "      <th>feels_like</th>\n",
       "      <th>pressure</th>\n",
       "      <th>humidity</th>\n",
       "      <th>dew_point</th>\n",
       "      <th>uvi</th>\n",
       "      <th>clouds</th>\n",
       "      <th>visibility</th>\n",
       "      <th>wind_speed</th>\n",
       "      <th>wind_deg</th>\n",
       "      <th>wind_gust</th>\n",
       "      <th>weather</th>\n",
       "      <th>pop</th>\n",
       "      <th>rain</th>\n",
       "    </tr>\n",
       "  </thead>\n",
       "  <tbody>\n",
       "    <tr>\n",
       "      <th>0</th>\n",
       "      <td>1629666000</td>\n",
       "      <td>29.15</td>\n",
       "      <td>36.15</td>\n",
       "      <td>1007</td>\n",
       "      <td>85</td>\n",
       "      <td>26.37</td>\n",
       "      <td>0.00</td>\n",
       "      <td>91</td>\n",
       "      <td>10000</td>\n",
       "      <td>2.77</td>\n",
       "      <td>220</td>\n",
       "      <td>3.90</td>\n",
       "      <td>[{'id': 500, 'main': 'Rain', 'description': 'l...</td>\n",
       "      <td>0.72</td>\n",
       "      <td>{'1h': 0.4}</td>\n",
       "    </tr>\n",
       "    <tr>\n",
       "      <th>1</th>\n",
       "      <td>1629669600</td>\n",
       "      <td>28.85</td>\n",
       "      <td>35.18</td>\n",
       "      <td>1007</td>\n",
       "      <td>84</td>\n",
       "      <td>25.87</td>\n",
       "      <td>0.00</td>\n",
       "      <td>88</td>\n",
       "      <td>10000</td>\n",
       "      <td>3.63</td>\n",
       "      <td>218</td>\n",
       "      <td>4.70</td>\n",
       "      <td>[{'id': 804, 'main': 'Clouds', 'description': ...</td>\n",
       "      <td>0.67</td>\n",
       "      <td>NaN</td>\n",
       "    </tr>\n",
       "    <tr>\n",
       "      <th>2</th>\n",
       "      <td>1629673200</td>\n",
       "      <td>28.71</td>\n",
       "      <td>34.56</td>\n",
       "      <td>1007</td>\n",
       "      <td>83</td>\n",
       "      <td>25.53</td>\n",
       "      <td>0.40</td>\n",
       "      <td>87</td>\n",
       "      <td>10000</td>\n",
       "      <td>3.73</td>\n",
       "      <td>224</td>\n",
       "      <td>5.11</td>\n",
       "      <td>[{'id': 804, 'main': 'Clouds', 'description': ...</td>\n",
       "      <td>0.70</td>\n",
       "      <td>NaN</td>\n",
       "    </tr>\n",
       "    <tr>\n",
       "      <th>3</th>\n",
       "      <td>1629676800</td>\n",
       "      <td>28.91</td>\n",
       "      <td>34.49</td>\n",
       "      <td>1008</td>\n",
       "      <td>80</td>\n",
       "      <td>25.11</td>\n",
       "      <td>1.70</td>\n",
       "      <td>86</td>\n",
       "      <td>10000</td>\n",
       "      <td>3.48</td>\n",
       "      <td>222</td>\n",
       "      <td>4.91</td>\n",
       "      <td>[{'id': 500, 'main': 'Rain', 'description': 'l...</td>\n",
       "      <td>0.66</td>\n",
       "      <td>{'1h': 0.17}</td>\n",
       "    </tr>\n",
       "    <tr>\n",
       "      <th>4</th>\n",
       "      <td>1629680400</td>\n",
       "      <td>29.30</td>\n",
       "      <td>34.67</td>\n",
       "      <td>1008</td>\n",
       "      <td>76</td>\n",
       "      <td>24.63</td>\n",
       "      <td>4.24</td>\n",
       "      <td>40</td>\n",
       "      <td>10000</td>\n",
       "      <td>3.55</td>\n",
       "      <td>228</td>\n",
       "      <td>4.73</td>\n",
       "      <td>[{'id': 500, 'main': 'Rain', 'description': 'l...</td>\n",
       "      <td>0.58</td>\n",
       "      <td>{'1h': 0.25}</td>\n",
       "    </tr>\n",
       "  </tbody>\n",
       "</table>\n",
       "</div>"
      ],
      "text/plain": [
       "           dt   temp  feels_like  pressure  humidity  dew_point   uvi  clouds  \\\n",
       "0  1629666000  29.15       36.15      1007        85      26.37  0.00      91   \n",
       "1  1629669600  28.85       35.18      1007        84      25.87  0.00      88   \n",
       "2  1629673200  28.71       34.56      1007        83      25.53  0.40      87   \n",
       "3  1629676800  28.91       34.49      1008        80      25.11  1.70      86   \n",
       "4  1629680400  29.30       34.67      1008        76      24.63  4.24      40   \n",
       "\n",
       "   visibility  wind_speed  wind_deg  wind_gust  \\\n",
       "0       10000        2.77       220       3.90   \n",
       "1       10000        3.63       218       4.70   \n",
       "2       10000        3.73       224       5.11   \n",
       "3       10000        3.48       222       4.91   \n",
       "4       10000        3.55       228       4.73   \n",
       "\n",
       "                                             weather   pop          rain  \n",
       "0  [{'id': 500, 'main': 'Rain', 'description': 'l...  0.72   {'1h': 0.4}  \n",
       "1  [{'id': 804, 'main': 'Clouds', 'description': ...  0.67           NaN  \n",
       "2  [{'id': 804, 'main': 'Clouds', 'description': ...  0.70           NaN  \n",
       "3  [{'id': 500, 'main': 'Rain', 'description': 'l...  0.66  {'1h': 0.17}  \n",
       "4  [{'id': 500, 'main': 'Rain', 'description': 'l...  0.58  {'1h': 0.25}  "
      ]
     },
     "execution_count": 8,
     "metadata": {},
     "output_type": "execute_result"
    }
   ],
   "source": [
    "df_hourly.head()"
   ]
  },
  {
   "cell_type": "code",
   "execution_count": 9,
   "metadata": {
    "execution": {
     "iopub.execute_input": "2021-08-22T21:13:09.743078Z",
     "iopub.status.busy": "2021-08-22T21:13:09.742562Z",
     "iopub.status.idle": "2021-08-22T21:13:10.066441Z",
     "shell.execute_reply": "2021-08-22T21:13:10.067132Z"
    }
   },
   "outputs": [
    {
     "data": {
      "image/png": "[encoded data removed]",
      "text/plain": [
       "<Figure size 864x432 with 1 Axes>"
      ]
     },
     "metadata": {
      "needs_background": "light"
     },
     "output_type": "display_data"
    }
   ],
   "source": [
    "fig, ax = plt.subplots(figsize=(12, 6))\r\n",
    "plt.plot(df_hourly.temp, '.-')\r\n",
    "ax.set(title='Temperature in future 48 hours', xlabel='Time', ylabel='Temperature')\r\n",
    "ax.set_xticks(list(range(0, len(df_hourly), 2)))\r\n",
    "ax.set_xticklabels([ts2dt(ts, '%m-%d %H:%M') for i, ts in enumerate(df_hourly.dt) if i%2==0], \r\n",
    "                   rotation=45, ha=\"right\")\r\n",
    "plt.show()"
   ]
  },
  {
   "cell_type": "code",
   "execution_count": null,
   "metadata": {},
   "outputs": [],
   "source": []
  }
 ],
 "metadata": {
  "interpreter": {
   "hash": "c1b4cfe941b6d2466ad1fb5979e97da9cda8801728c8091b097ab734208fc00c"
  },
  "kernelspec": {
   "display_name": "Python 3.8.3 64-bit ('base': conda)",
   "name": "python3"
  },
  "language_info": {
   "codemirror_mode": {
    "name": "ipython",
    "version": 3
   },
   "file_extension": ".py",
   "mimetype": "text/x-python",
   "name": "python",
   "nbconvert_exporter": "python",
   "pygments_lexer": "ipython3",
   "version": "3.8.11"
  }
 },
 "nbformat": 4,
 "nbformat_minor": 2
}
