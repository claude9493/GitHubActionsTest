{
 "cells": [
  {
   "cell_type": "code",
   "execution_count": 1,
   "metadata": {
    "execution": {
     "iopub.execute_input": "2021-09-20T02:27:11.221802Z",
     "iopub.status.busy": "2021-09-20T02:27:11.221210Z",
     "iopub.status.idle": "2021-09-20T02:27:12.417356Z",
     "shell.execute_reply": "2021-09-20T02:27:12.416390Z"
    }
   },
   "outputs": [],
   "source": [
    "import json, yaml, requests\r\n",
    "from datetime import datetime\r\n",
    "from dateutil import tz\r\n",
    "import pandas as pd\r\n",
    "from PIL import Image\r\n",
    "from io import BytesIO\r\n",
    "import matplotlib.pyplot as plt\r\n",
    "import seaborn\r\n",
    "\r\n",
    "CONFIG_PATH = \"../config/config.yaml\""
   ]
  },
  {
   "cell_type": "code",
   "execution_count": 2,
   "metadata": {
    "execution": {
     "iopub.execute_input": "2021-09-20T02:27:12.422214Z",
     "iopub.status.busy": "2021-09-20T02:27:12.421738Z",
     "iopub.status.idle": "2021-09-20T02:27:12.426750Z",
     "shell.execute_reply": "2021-09-20T02:27:12.426095Z"
    }
   },
   "outputs": [],
   "source": [
    "with open('../newest_ts', 'r') as f:\r\n",
    "    newest_ts = f.read()\r\n",
    "\r\n",
    "data_path = f\"../data/data_{newest_ts}.json\"\r\n",
    "with open(data_path, 'r') as f:\r\n",
    "    data = json.load(f)\r\n",
    "\r\n",
    "with open(CONFIG_PATH, \"r\") as stream:\r\n",
    "    config = yaml.safe_load(stream)\r\n",
    "\r\n",
    "TIME_ZONE = config['time_zone']\r\n",
    "DATETIME_FORMAT = config['dt_format']"
   ]
  },
  {
   "cell_type": "code",
   "execution_count": 3,
   "metadata": {
    "execution": {
     "iopub.execute_input": "2021-09-20T02:27:12.430814Z",
     "iopub.status.busy": "2021-09-20T02:27:12.430351Z",
     "iopub.status.idle": "2021-09-20T02:27:12.439805Z",
     "shell.execute_reply": "2021-09-20T02:27:12.440176Z"
    }
   },
   "outputs": [
    {
     "name": "stdout",
     "output_type": "stream",
     "text": [
      "Recent query happens at 2021-09-20 10:27:08 (CST).\n"
     ]
    }
   ],
   "source": [
    "def ts2dt(ts, format=DATETIME_FORMAT):\r\n",
    "    dt = (datetime.utcfromtimestamp(int(ts))\r\n",
    "                    .replace(tzinfo=tz.tzutc())\r\n",
    "                    # .astimezone(tz.tzlocal())\r\n",
    "                    .astimezone(tz.gettz(TIME_ZONE)))\r\n",
    "    return dt.strftime(format), dt\r\n",
    "\r\n",
    "_, newest_dt = ts2dt(newest_ts)\r\n",
    "print(f\"Recent query happens at {newest_dt.strftime(DATETIME_FORMAT)} ({newest_dt.tzname()}).\")"
   ]
  },
  {
   "cell_type": "code",
   "execution_count": 4,
   "metadata": {
    "execution": {
     "iopub.execute_input": "2021-09-20T02:27:12.444911Z",
     "iopub.status.busy": "2021-09-20T02:27:12.443942Z",
     "iopub.status.idle": "2021-09-20T02:27:12.445430Z",
     "shell.execute_reply": "2021-09-20T02:27:12.445793Z"
    }
   },
   "outputs": [],
   "source": [
    "def degrees_to_cardinal(d):\r\n",
    "  dirs = ['N', 'NNE', 'NE', 'ENE', 'E', 'ESE', 'SE', 'SSE', 'S', 'SSW', 'SW', 'WSW', 'W', 'WNW', 'NW', 'NNW']\r\n",
    "  ix = int(round(d / (360. / len(dirs))))\r\n",
    "  return dirs[ix % len(dirs)]"
   ]
  },
  {
   "cell_type": "code",
   "execution_count": 5,
   "metadata": {
    "execution": {
     "iopub.execute_input": "2021-09-20T02:27:12.449503Z",
     "iopub.status.busy": "2021-09-20T02:27:12.448518Z",
     "iopub.status.idle": "2021-09-20T02:27:12.450026Z",
     "shell.execute_reply": "2021-09-20T02:27:12.450390Z"
    }
   },
   "outputs": [],
   "source": [
    "# data.keys()"
   ]
  },
  {
   "cell_type": "code",
   "execution_count": 6,
   "metadata": {
    "execution": {
     "iopub.execute_input": "2021-09-20T02:27:12.454059Z",
     "iopub.status.busy": "2021-09-20T02:27:12.452953Z",
     "iopub.status.idle": "2021-09-20T02:27:12.454575Z",
     "shell.execute_reply": "2021-09-20T02:27:12.454954Z"
    }
   },
   "outputs": [],
   "source": [
    "# data['current']"
   ]
  },
  {
   "cell_type": "code",
   "execution_count": 7,
   "metadata": {
    "execution": {
     "iopub.execute_input": "2021-09-20T02:27:12.473745Z",
     "iopub.status.busy": "2021-09-20T02:27:12.470359Z",
     "iopub.status.idle": "2021-09-20T02:27:12.866755Z",
     "shell.execute_reply": "2021-09-20T02:27:12.867151Z"
    }
   },
   "outputs": [
    {
     "data": {
      "image/png": "[encoded data removed]",
      "text/plain": [
       "<Figure size 216x216 with 1 Axes>"
      ]
     },
     "metadata": {
      "needs_background": "light"
     },
     "output_type": "display_data"
    },
    {
     "name": "stdout",
     "output_type": "stream",
     "text": [
      "Today, sun rises at 06:11 and sets at 18:21.\n",
      "Currently, the weather is Rain (light rain).\n",
      "The temperature is 29.82°C and it feels like 36.82°C.\n",
      "The UV index is 6.33, humidity is 84%.\n",
      "The pressure is 1012 hPa, percentage of cloud cover is 14%\n",
      "The wind comes from E direction with a speed 2.79 m/s.\n"
     ]
    }
   ],
   "source": [
    "current = data['current']\r\n",
    "\r\n",
    "fig, ax = plt.subplots(figsize=(3, 3))\r\n",
    "icon = requests.get(f\"http://openweathermap.org/img/wn/{current['weather'][0]['icon']}@2x.png\")\r\n",
    "im = Image.open(BytesIO(icon.content))\r\n",
    "plt.imshow(im)\r\n",
    "ax.set_axis_off()\r\n",
    "plt.show()\r\n",
    "\r\n",
    "print(f\"Today, sun rises at {ts2dt(current['sunrise'], '%H:%M')[0]} \\\r\n",
    "and sets at {ts2dt(current['sunset'], '%H:%M')[0]}.\\n\\\r\n",
    "Currently, the weather is {current['weather'][0]['main']} ({current['weather'][0]['description']}).\\n\\\r\n",
    "The temperature is {current['temp']}°C and it feels like {current['feels_like']}°C.\\n\\\r\n",
    "The UV index is {current['uvi']}, humidity is {current['humidity']}%.\\n\\\r\n",
    "The pressure is {current['pressure']} hPa, percentage of cloud cover is {current['clouds']}%\\n\\\r\n",
    "The wind comes from {degrees_to_cardinal(current['wind_deg'])} direction with a speed {current['wind_speed']} m/s.\")"
   ]
  },
  {
   "cell_type": "code",
   "execution_count": 8,
   "metadata": {
    "execution": {
     "iopub.execute_input": "2021-09-20T02:27:12.871641Z",
     "iopub.status.busy": "2021-09-20T02:27:12.871180Z",
     "iopub.status.idle": "2021-09-20T02:27:12.874593Z",
     "shell.execute_reply": "2021-09-20T02:27:12.875051Z"
    }
   },
   "outputs": [],
   "source": [
    "df_hourly = pd.DataFrame(data['hourly'])\r\n",
    "df_daily = pd.DataFrame(data['daily'])"
   ]
  },
  {
   "cell_type": "code",
   "execution_count": 9,
   "metadata": {
    "execution": {
     "iopub.execute_input": "2021-09-20T02:27:12.880320Z",
     "iopub.status.busy": "2021-09-20T02:27:12.879758Z",
     "iopub.status.idle": "2021-09-20T02:27:13.112344Z",
     "shell.execute_reply": "2021-09-20T02:27:13.111449Z"
    }
   },
   "outputs": [
    {
     "data": {
      "image/png": "[encoded data removed]",
      "text/plain": [
       "<Figure size 864x432 with 1 Axes>"
      ]
     },
     "metadata": {
      "needs_background": "light"
     },
     "output_type": "display_data"
    }
   ],
   "source": [
    "fig, ax = plt.subplots(figsize=(12, 6))\r\n",
    "plt.plot(df_hourly.temp, '.-', label='Temperature')\r\n",
    "plt.plot(df_hourly.feels_like, '.-', label='Feels Like')\r\n",
    "ax.set(title='Temperature in future 48 hours', xlabel='Time', ylabel='Temperature')\r\n",
    "ax.set_xticks(list(range(0, len(df_hourly), 2)))\r\n",
    "ax.set_xticklabels([ts2dt(ts, '%m-%d %H:%M')[0] for i, ts in enumerate(df_hourly.dt) if i%2==0], \r\n",
    "                   rotation=45, ha=\"right\")\r\n",
    "ax.locator_params(nbins=15, axis='y')\r\n",
    "plt.legend()\r\n",
    "plt.show()"
   ]
  },
  {
   "cell_type": "code",
   "execution_count": 10,
   "metadata": {
    "execution": {
     "iopub.execute_input": "2021-09-20T02:27:13.116671Z",
     "iopub.status.busy": "2021-09-20T02:27:13.116216Z",
     "iopub.status.idle": "2021-09-20T02:27:13.135165Z",
     "shell.execute_reply": "2021-09-20T02:27:13.134735Z"
    }
   },
   "outputs": [
    {
     "data": {
      "text/html": [
       "<div>\n",
       "<style scoped>\n",
       "    .dataframe tbody tr th:only-of-type {\n",
       "        vertical-align: middle;\n",
       "    }\n",
       "\n",
       "    .dataframe tbody tr th {\n",
       "        vertical-align: top;\n",
       "    }\n",
       "\n",
       "    .dataframe thead th {\n",
       "        text-align: right;\n",
       "    }\n",
       "</style>\n",
       "<table border=\"1\" class=\"dataframe\">\n",
       "  <thead>\n",
       "    <tr style=\"text-align: right;\">\n",
       "      <th></th>\n",
       "      <th>dt</th>\n",
       "      <th>temp</th>\n",
       "      <th>feels_like</th>\n",
       "      <th>pressure</th>\n",
       "      <th>humidity</th>\n",
       "      <th>dew_point</th>\n",
       "      <th>uvi</th>\n",
       "      <th>clouds</th>\n",
       "      <th>visibility</th>\n",
       "      <th>wind_speed</th>\n",
       "      <th>wind_deg</th>\n",
       "      <th>wind_gust</th>\n",
       "      <th>weather</th>\n",
       "      <th>pop</th>\n",
       "      <th>rain</th>\n",
       "    </tr>\n",
       "  </thead>\n",
       "  <tbody>\n",
       "    <tr>\n",
       "      <th>0</th>\n",
       "      <td>1632103200</td>\n",
       "      <td>29.82</td>\n",
       "      <td>36.82</td>\n",
       "      <td>1012</td>\n",
       "      <td>84</td>\n",
       "      <td>26.82</td>\n",
       "      <td>6.33</td>\n",
       "      <td>14</td>\n",
       "      <td>10000</td>\n",
       "      <td>2.79</td>\n",
       "      <td>91</td>\n",
       "      <td>2.61</td>\n",
       "      <td>[{'id': 801, 'main': 'Clouds', 'description': ...</td>\n",
       "      <td>0.04</td>\n",
       "      <td>NaN</td>\n",
       "    </tr>\n",
       "    <tr>\n",
       "      <th>1</th>\n",
       "      <td>1632106800</td>\n",
       "      <td>29.84</td>\n",
       "      <td>36.84</td>\n",
       "      <td>1012</td>\n",
       "      <td>81</td>\n",
       "      <td>26.22</td>\n",
       "      <td>9.12</td>\n",
       "      <td>15</td>\n",
       "      <td>10000</td>\n",
       "      <td>3.12</td>\n",
       "      <td>97</td>\n",
       "      <td>2.67</td>\n",
       "      <td>[{'id': 500, 'main': 'Rain', 'description': 'l...</td>\n",
       "      <td>0.28</td>\n",
       "      <td>{'1h': 0.27}</td>\n",
       "    </tr>\n",
       "    <tr>\n",
       "      <th>2</th>\n",
       "      <td>1632110400</td>\n",
       "      <td>29.84</td>\n",
       "      <td>36.84</td>\n",
       "      <td>1012</td>\n",
       "      <td>79</td>\n",
       "      <td>25.80</td>\n",
       "      <td>8.32</td>\n",
       "      <td>19</td>\n",
       "      <td>10000</td>\n",
       "      <td>3.23</td>\n",
       "      <td>103</td>\n",
       "      <td>2.60</td>\n",
       "      <td>[{'id': 500, 'main': 'Rain', 'description': 'l...</td>\n",
       "      <td>0.39</td>\n",
       "      <td>{'1h': 1}</td>\n",
       "    </tr>\n",
       "    <tr>\n",
       "      <th>3</th>\n",
       "      <td>1632114000</td>\n",
       "      <td>29.80</td>\n",
       "      <td>36.27</td>\n",
       "      <td>1011</td>\n",
       "      <td>77</td>\n",
       "      <td>25.33</td>\n",
       "      <td>8.18</td>\n",
       "      <td>25</td>\n",
       "      <td>10000</td>\n",
       "      <td>2.85</td>\n",
       "      <td>110</td>\n",
       "      <td>2.48</td>\n",
       "      <td>[{'id': 500, 'main': 'Rain', 'description': 'l...</td>\n",
       "      <td>0.41</td>\n",
       "      <td>{'1h': 0.56}</td>\n",
       "    </tr>\n",
       "    <tr>\n",
       "      <th>4</th>\n",
       "      <td>1632117600</td>\n",
       "      <td>30.01</td>\n",
       "      <td>35.81</td>\n",
       "      <td>1010</td>\n",
       "      <td>73</td>\n",
       "      <td>24.64</td>\n",
       "      <td>6.69</td>\n",
       "      <td>31</td>\n",
       "      <td>10000</td>\n",
       "      <td>2.51</td>\n",
       "      <td>118</td>\n",
       "      <td>2.03</td>\n",
       "      <td>[{'id': 500, 'main': 'Rain', 'description': 'l...</td>\n",
       "      <td>0.48</td>\n",
       "      <td>{'1h': 0.26}</td>\n",
       "    </tr>\n",
       "  </tbody>\n",
       "</table>\n",
       "</div>"
      ],
      "text/plain": [
       "           dt   temp  feels_like  pressure  humidity  dew_point   uvi  clouds  \\\n",
       "0  1632103200  29.82       36.82      1012        84      26.82  6.33      14   \n",
       "1  1632106800  29.84       36.84      1012        81      26.22  9.12      15   \n",
       "2  1632110400  29.84       36.84      1012        79      25.80  8.32      19   \n",
       "3  1632114000  29.80       36.27      1011        77      25.33  8.18      25   \n",
       "4  1632117600  30.01       35.81      1010        73      24.64  6.69      31   \n",
       "\n",
       "   visibility  wind_speed  wind_deg  wind_gust  \\\n",
       "0       10000        2.79        91       2.61   \n",
       "1       10000        3.12        97       2.67   \n",
       "2       10000        3.23       103       2.60   \n",
       "3       10000        2.85       110       2.48   \n",
       "4       10000        2.51       118       2.03   \n",
       "\n",
       "                                             weather   pop          rain  \n",
       "0  [{'id': 801, 'main': 'Clouds', 'description': ...  0.04           NaN  \n",
       "1  [{'id': 500, 'main': 'Rain', 'description': 'l...  0.28  {'1h': 0.27}  \n",
       "2  [{'id': 500, 'main': 'Rain', 'description': 'l...  0.39     {'1h': 1}  \n",
       "3  [{'id': 500, 'main': 'Rain', 'description': 'l...  0.41  {'1h': 0.56}  \n",
       "4  [{'id': 500, 'main': 'Rain', 'description': 'l...  0.48  {'1h': 0.26}  "
      ]
     },
     "execution_count": 10,
     "metadata": {},
     "output_type": "execute_result"
    }
   ],
   "source": [
    "df_hourly.head()"
   ]
  },
  {
   "cell_type": "code",
   "execution_count": null,
   "metadata": {},
   "outputs": [],
   "source": []
  }
 ],
 "metadata": {
  "interpreter": {
   "hash": "c1b4cfe941b6d2466ad1fb5979e97da9cda8801728c8091b097ab734208fc00c"
  },
  "kernelspec": {
   "display_name": "Python 3.8.3 64-bit ('base': conda)",
   "name": "python3"
  },
  "language_info": {
   "codemirror_mode": {
    "name": "ipython",
    "version": 3
   },
   "file_extension": ".py",
   "mimetype": "text/x-python",
   "name": "python",
   "nbconvert_exporter": "python",
   "pygments_lexer": "ipython3",
   "version": "3.8.11"
  }
 },
 "nbformat": 4,
 "nbformat_minor": 2
}
