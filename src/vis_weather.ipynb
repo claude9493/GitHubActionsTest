{
 "cells": [
  {
   "cell_type": "code",
   "execution_count": 1,
   "metadata": {
    "execution": {
     "iopub.execute_input": "2021-09-12T04:50:20.303242Z",
     "iopub.status.busy": "2021-09-12T04:50:20.302613Z",
     "iopub.status.idle": "2021-09-12T04:50:21.966383Z",
     "shell.execute_reply": "2021-09-12T04:50:21.965839Z"
    }
   },
   "outputs": [],
   "source": [
    "import json, yaml, requests\r\n",
    "from datetime import datetime\r\n",
    "from dateutil import tz\r\n",
    "import pandas as pd\r\n",
    "from PIL import Image\r\n",
    "from io import BytesIO\r\n",
    "import matplotlib.pyplot as plt\r\n",
    "import seaborn\r\n",
    "\r\n",
    "CONFIG_PATH = \"../config/config.yaml\""
   ]
  },
  {
   "cell_type": "code",
   "execution_count": 2,
   "metadata": {
    "execution": {
     "iopub.execute_input": "2021-09-12T04:50:21.971298Z",
     "iopub.status.busy": "2021-09-12T04:50:21.970833Z",
     "iopub.status.idle": "2021-09-12T04:50:21.977186Z",
     "shell.execute_reply": "2021-09-12T04:50:21.976500Z"
    }
   },
   "outputs": [],
   "source": [
    "with open('../newest_ts', 'r') as f:\r\n",
    "    newest_ts = f.read()\r\n",
    "\r\n",
    "data_path = f\"../data/data_{newest_ts}.json\"\r\n",
    "with open(data_path, 'r') as f:\r\n",
    "    data = json.load(f)\r\n",
    "\r\n",
    "with open(CONFIG_PATH, \"r\") as stream:\r\n",
    "    config = yaml.safe_load(stream)\r\n",
    "\r\n",
    "TIME_ZONE = config['time_zone']\r\n",
    "DATETIME_FORMAT = config['dt_format']"
   ]
  },
  {
   "cell_type": "code",
   "execution_count": 3,
   "metadata": {
    "execution": {
     "iopub.execute_input": "2021-09-12T04:50:21.981993Z",
     "iopub.status.busy": "2021-09-12T04:50:21.981528Z",
     "iopub.status.idle": "2021-09-12T04:50:21.986061Z",
     "shell.execute_reply": "2021-09-12T04:50:21.985642Z"
    }
   },
   "outputs": [
    {
     "name": "stdout",
     "output_type": "stream",
     "text": [
      "Recent query happens at 2021-09-12 12:50:17 (CST).\n"
     ]
    }
   ],
   "source": [
    "def ts2dt(ts, format=DATETIME_FORMAT):\r\n",
    "    dt = (datetime.utcfromtimestamp(int(ts))\r\n",
    "                    .replace(tzinfo=tz.tzutc())\r\n",
    "                    # .astimezone(tz.tzlocal())\r\n",
    "                    .astimezone(tz.gettz(TIME_ZONE)))\r\n",
    "    return dt.strftime(format), dt\r\n",
    "\r\n",
    "_, newest_dt = ts2dt(newest_ts)\r\n",
    "print(f\"Recent query happens at {newest_dt.strftime(DATETIME_FORMAT)} ({newest_dt.tzname()}).\")"
   ]
  },
  {
   "cell_type": "code",
   "execution_count": 4,
   "metadata": {
    "execution": {
     "iopub.execute_input": "2021-09-12T04:50:21.990249Z",
     "iopub.status.busy": "2021-09-12T04:50:21.989804Z",
     "iopub.status.idle": "2021-09-12T04:50:21.992767Z",
     "shell.execute_reply": "2021-09-12T04:50:21.992362Z"
    }
   },
   "outputs": [],
   "source": [
    "def degrees_to_cardinal(d):\r\n",
    "  dirs = ['N', 'NNE', 'NE', 'ENE', 'E', 'ESE', 'SE', 'SSE', 'S', 'SSW', 'SW', 'WSW', 'W', 'WNW', 'NW', 'NNW']\r\n",
    "  ix = int(round(d / (360. / len(dirs))))\r\n",
    "  return dirs[ix % len(dirs)]"
   ]
  },
  {
   "cell_type": "code",
   "execution_count": 5,
   "metadata": {
    "execution": {
     "iopub.execute_input": "2021-09-12T04:50:21.996773Z",
     "iopub.status.busy": "2021-09-12T04:50:21.995768Z",
     "iopub.status.idle": "2021-09-12T04:50:21.997407Z",
     "shell.execute_reply": "2021-09-12T04:50:21.997777Z"
    }
   },
   "outputs": [],
   "source": [
    "# data.keys()"
   ]
  },
  {
   "cell_type": "code",
   "execution_count": 6,
   "metadata": {
    "execution": {
     "iopub.execute_input": "2021-09-12T04:50:22.001572Z",
     "iopub.status.busy": "2021-09-12T04:50:22.000518Z",
     "iopub.status.idle": "2021-09-12T04:50:22.002090Z",
     "shell.execute_reply": "2021-09-12T04:50:22.002449Z"
    }
   },
   "outputs": [],
   "source": [
    "# data['current']"
   ]
  },
  {
   "cell_type": "code",
   "execution_count": 7,
   "metadata": {
    "execution": {
     "iopub.execute_input": "2021-09-12T04:50:22.027040Z",
     "iopub.status.busy": "2021-09-12T04:50:22.026528Z",
     "iopub.status.idle": "2021-09-12T04:50:22.347821Z",
     "shell.execute_reply": "2021-09-12T04:50:22.348434Z"
    }
   },
   "outputs": [
    {
     "data": {
      "image/png": "[encoded data removed]",
      "text/plain": [
       "<Figure size 216x216 with 1 Axes>"
      ]
     },
     "metadata": {
      "needs_background": "light"
     },
     "output_type": "display_data"
    },
    {
     "name": "stdout",
     "output_type": "stream",
     "text": [
      "Today, sun rises at 06:08 and sets at 18:30.\n",
      "Currently, the weather is Rain (light rain).\n",
      "The temperature is 34.35°C and it feels like 41.35°C.\n",
      "The UV index is 10.95, humidity is 71%.\n",
      "The pressure is 1001 hPa, percentage of cloud cover is 98%\n",
      "The wind comes from WSW direction with a speed 4.32 m/s.\n"
     ]
    }
   ],
   "source": [
    "current = data['current']\r\n",
    "\r\n",
    "fig, ax = plt.subplots(figsize=(3, 3))\r\n",
    "icon = requests.get(f\"http://openweathermap.org/img/wn/{current['weather'][0]['icon']}@2x.png\")\r\n",
    "im = Image.open(BytesIO(icon.content))\r\n",
    "plt.imshow(im)\r\n",
    "ax.set_axis_off()\r\n",
    "plt.show()\r\n",
    "\r\n",
    "print(f\"Today, sun rises at {ts2dt(current['sunrise'], '%H:%M')[0]} \\\r\n",
    "and sets at {ts2dt(current['sunset'], '%H:%M')[0]}.\\n\\\r\n",
    "Currently, the weather is {current['weather'][0]['main']} ({current['weather'][0]['description']}).\\n\\\r\n",
    "The temperature is {current['temp']}°C and it feels like {current['feels_like']}°C.\\n\\\r\n",
    "The UV index is {current['uvi']}, humidity is {current['humidity']}%.\\n\\\r\n",
    "The pressure is {current['pressure']} hPa, percentage of cloud cover is {current['clouds']}%\\n\\\r\n",
    "The wind comes from {degrees_to_cardinal(current['wind_deg'])} direction with a speed {current['wind_speed']} m/s.\")"
   ]
  },
  {
   "cell_type": "code",
   "execution_count": 8,
   "metadata": {
    "execution": {
     "iopub.execute_input": "2021-09-12T04:50:22.355714Z",
     "iopub.status.busy": "2021-09-12T04:50:22.355235Z",
     "iopub.status.idle": "2021-09-12T04:50:22.358050Z",
     "shell.execute_reply": "2021-09-12T04:50:22.358707Z"
    }
   },
   "outputs": [],
   "source": [
    "df_hourly = pd.DataFrame(data['hourly'])\r\n",
    "df_daily = pd.DataFrame(data['daily'])"
   ]
  },
  {
   "cell_type": "code",
   "execution_count": 9,
   "metadata": {
    "execution": {
     "iopub.execute_input": "2021-09-12T04:50:22.376037Z",
     "iopub.status.busy": "2021-09-12T04:50:22.372720Z",
     "iopub.status.idle": "2021-09-12T04:50:22.599305Z",
     "shell.execute_reply": "2021-09-12T04:50:22.598885Z"
    }
   },
   "outputs": [
    {
     "data": {
      "image/png": "[encoded data removed]",
      "text/plain": [
       "<Figure size 864x432 with 1 Axes>"
      ]
     },
     "metadata": {
      "needs_background": "light"
     },
     "output_type": "display_data"
    }
   ],
   "source": [
    "fig, ax = plt.subplots(figsize=(12, 6))\r\n",
    "plt.plot(df_hourly.temp, '.-', label='Temperature')\r\n",
    "plt.plot(df_hourly.feels_like, '.-', label='Feels Like')\r\n",
    "ax.set(title='Temperature in future 48 hours', xlabel='Time', ylabel='Temperature')\r\n",
    "ax.set_xticks(list(range(0, len(df_hourly), 2)))\r\n",
    "ax.set_xticklabels([ts2dt(ts, '%m-%d %H:%M')[0] for i, ts in enumerate(df_hourly.dt) if i%2==0], \r\n",
    "                   rotation=45, ha=\"right\")\r\n",
    "ax.locator_params(nbins=15, axis='y')\r\n",
    "plt.legend()\r\n",
    "plt.show()"
   ]
  },
  {
   "cell_type": "code",
   "execution_count": 10,
   "metadata": {
    "execution": {
     "iopub.execute_input": "2021-09-12T04:50:22.603931Z",
     "iopub.status.busy": "2021-09-12T04:50:22.603479Z",
     "iopub.status.idle": "2021-09-12T04:50:22.622714Z",
     "shell.execute_reply": "2021-09-12T04:50:22.622302Z"
    }
   },
   "outputs": [
    {
     "data": {
      "text/html": [
       "<div>\n",
       "<style scoped>\n",
       "    .dataframe tbody tr th:only-of-type {\n",
       "        vertical-align: middle;\n",
       "    }\n",
       "\n",
       "    .dataframe tbody tr th {\n",
       "        vertical-align: top;\n",
       "    }\n",
       "\n",
       "    .dataframe thead th {\n",
       "        text-align: right;\n",
       "    }\n",
       "</style>\n",
       "<table border=\"1\" class=\"dataframe\">\n",
       "  <thead>\n",
       "    <tr style=\"text-align: right;\">\n",
       "      <th></th>\n",
       "      <th>dt</th>\n",
       "      <th>temp</th>\n",
       "      <th>feels_like</th>\n",
       "      <th>pressure</th>\n",
       "      <th>humidity</th>\n",
       "      <th>dew_point</th>\n",
       "      <th>uvi</th>\n",
       "      <th>clouds</th>\n",
       "      <th>visibility</th>\n",
       "      <th>wind_speed</th>\n",
       "      <th>wind_deg</th>\n",
       "      <th>wind_gust</th>\n",
       "      <th>weather</th>\n",
       "      <th>pop</th>\n",
       "      <th>rain</th>\n",
       "    </tr>\n",
       "  </thead>\n",
       "  <tbody>\n",
       "    <tr>\n",
       "      <th>0</th>\n",
       "      <td>1631419200</td>\n",
       "      <td>33.95</td>\n",
       "      <td>40.95</td>\n",
       "      <td>1001</td>\n",
       "      <td>69</td>\n",
       "      <td>27.45</td>\n",
       "      <td>11.16</td>\n",
       "      <td>98</td>\n",
       "      <td>10000</td>\n",
       "      <td>3.78</td>\n",
       "      <td>261</td>\n",
       "      <td>4.55</td>\n",
       "      <td>[{'id': 804, 'main': 'Clouds', 'description': ...</td>\n",
       "      <td>0.79</td>\n",
       "      <td>NaN</td>\n",
       "    </tr>\n",
       "    <tr>\n",
       "      <th>1</th>\n",
       "      <td>1631422800</td>\n",
       "      <td>34.35</td>\n",
       "      <td>41.35</td>\n",
       "      <td>1001</td>\n",
       "      <td>71</td>\n",
       "      <td>28.32</td>\n",
       "      <td>10.95</td>\n",
       "      <td>98</td>\n",
       "      <td>10000</td>\n",
       "      <td>4.32</td>\n",
       "      <td>248</td>\n",
       "      <td>5.06</td>\n",
       "      <td>[{'id': 500, 'main': 'Rain', 'description': 'l...</td>\n",
       "      <td>0.75</td>\n",
       "      <td>{'1h': 0.12}</td>\n",
       "    </tr>\n",
       "    <tr>\n",
       "      <th>2</th>\n",
       "      <td>1631426400</td>\n",
       "      <td>33.92</td>\n",
       "      <td>40.92</td>\n",
       "      <td>1001</td>\n",
       "      <td>70</td>\n",
       "      <td>27.67</td>\n",
       "      <td>9.02</td>\n",
       "      <td>98</td>\n",
       "      <td>10000</td>\n",
       "      <td>4.97</td>\n",
       "      <td>241</td>\n",
       "      <td>5.23</td>\n",
       "      <td>[{'id': 500, 'main': 'Rain', 'description': 'l...</td>\n",
       "      <td>0.67</td>\n",
       "      <td>{'1h': 0.12}</td>\n",
       "    </tr>\n",
       "    <tr>\n",
       "      <th>3</th>\n",
       "      <td>1631430000</td>\n",
       "      <td>33.45</td>\n",
       "      <td>40.45</td>\n",
       "      <td>1001</td>\n",
       "      <td>69</td>\n",
       "      <td>26.98</td>\n",
       "      <td>4.04</td>\n",
       "      <td>97</td>\n",
       "      <td>10000</td>\n",
       "      <td>4.66</td>\n",
       "      <td>234</td>\n",
       "      <td>5.17</td>\n",
       "      <td>[{'id': 500, 'main': 'Rain', 'description': 'l...</td>\n",
       "      <td>0.35</td>\n",
       "      <td>{'1h': 0.24}</td>\n",
       "    </tr>\n",
       "    <tr>\n",
       "      <th>4</th>\n",
       "      <td>1631433600</td>\n",
       "      <td>32.49</td>\n",
       "      <td>39.49</td>\n",
       "      <td>1000</td>\n",
       "      <td>70</td>\n",
       "      <td>26.31</td>\n",
       "      <td>2.06</td>\n",
       "      <td>98</td>\n",
       "      <td>10000</td>\n",
       "      <td>3.98</td>\n",
       "      <td>237</td>\n",
       "      <td>4.91</td>\n",
       "      <td>[{'id': 804, 'main': 'Clouds', 'description': ...</td>\n",
       "      <td>0.12</td>\n",
       "      <td>NaN</td>\n",
       "    </tr>\n",
       "  </tbody>\n",
       "</table>\n",
       "</div>"
      ],
      "text/plain": [
       "           dt   temp  feels_like  pressure  humidity  dew_point    uvi  \\\n",
       "0  1631419200  33.95       40.95      1001        69      27.45  11.16   \n",
       "1  1631422800  34.35       41.35      1001        71      28.32  10.95   \n",
       "2  1631426400  33.92       40.92      1001        70      27.67   9.02   \n",
       "3  1631430000  33.45       40.45      1001        69      26.98   4.04   \n",
       "4  1631433600  32.49       39.49      1000        70      26.31   2.06   \n",
       "\n",
       "   clouds  visibility  wind_speed  wind_deg  wind_gust  \\\n",
       "0      98       10000        3.78       261       4.55   \n",
       "1      98       10000        4.32       248       5.06   \n",
       "2      98       10000        4.97       241       5.23   \n",
       "3      97       10000        4.66       234       5.17   \n",
       "4      98       10000        3.98       237       4.91   \n",
       "\n",
       "                                             weather   pop          rain  \n",
       "0  [{'id': 804, 'main': 'Clouds', 'description': ...  0.79           NaN  \n",
       "1  [{'id': 500, 'main': 'Rain', 'description': 'l...  0.75  {'1h': 0.12}  \n",
       "2  [{'id': 500, 'main': 'Rain', 'description': 'l...  0.67  {'1h': 0.12}  \n",
       "3  [{'id': 500, 'main': 'Rain', 'description': 'l...  0.35  {'1h': 0.24}  \n",
       "4  [{'id': 804, 'main': 'Clouds', 'description': ...  0.12           NaN  "
      ]
     },
     "execution_count": 10,
     "metadata": {},
     "output_type": "execute_result"
    }
   ],
   "source": [
    "df_hourly.head()"
   ]
  },
  {
   "cell_type": "code",
   "execution_count": null,
   "metadata": {},
   "outputs": [],
   "source": []
  }
 ],
 "metadata": {
  "interpreter": {
   "hash": "c1b4cfe941b6d2466ad1fb5979e97da9cda8801728c8091b097ab734208fc00c"
  },
  "kernelspec": {
   "display_name": "Python 3.8.3 64-bit ('base': conda)",
   "name": "python3"
  },
  "language_info": {
   "codemirror_mode": {
    "name": "ipython",
    "version": 3
   },
   "file_extension": ".py",
   "mimetype": "text/x-python",
   "name": "python",
   "nbconvert_exporter": "python",
   "pygments_lexer": "ipython3",
   "version": "3.8.11"
  }
 },
 "nbformat": 4,
 "nbformat_minor": 2
}
