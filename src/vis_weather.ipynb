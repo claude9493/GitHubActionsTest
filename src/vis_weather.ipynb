{
 "cells": [
  {
   "cell_type": "code",
   "execution_count": 1,
   "metadata": {
    "execution": {
     "iopub.execute_input": "2021-09-03T00:49:45.408017Z",
     "iopub.status.busy": "2021-09-03T00:49:45.407405Z",
     "iopub.status.idle": "2021-09-03T00:49:46.954704Z",
     "shell.execute_reply": "2021-09-03T00:49:46.953878Z"
    }
   },
   "outputs": [],
   "source": [
    "import json, yaml, requests\r\n",
    "from datetime import datetime\r\n",
    "from dateutil import tz\r\n",
    "import pandas as pd\r\n",
    "from PIL import Image\r\n",
    "from io import BytesIO\r\n",
    "import matplotlib.pyplot as plt\r\n",
    "import seaborn\r\n",
    "\r\n",
    "CONFIG_PATH = \"../config/config.yaml\""
   ]
  },
  {
   "cell_type": "code",
   "execution_count": 2,
   "metadata": {
    "execution": {
     "iopub.execute_input": "2021-09-03T00:49:46.960615Z",
     "iopub.status.busy": "2021-09-03T00:49:46.959607Z",
     "iopub.status.idle": "2021-09-03T00:49:46.964821Z",
     "shell.execute_reply": "2021-09-03T00:49:46.965811Z"
    }
   },
   "outputs": [],
   "source": [
    "with open('../newest_ts', 'r') as f:\r\n",
    "    newest_ts = f.read()\r\n",
    "\r\n",
    "data_path = f\"../data/data_{newest_ts}.json\"\r\n",
    "with open(data_path, 'r') as f:\r\n",
    "    data = json.load(f)\r\n",
    "\r\n",
    "with open(CONFIG_PATH, \"r\") as stream:\r\n",
    "    config = yaml.safe_load(stream)\r\n",
    "\r\n",
    "TIME_ZONE = config['time_zone']\r\n",
    "DATETIME_FORMAT = config['dt_format']"
   ]
  },
  {
   "cell_type": "code",
   "execution_count": 3,
   "metadata": {
    "execution": {
     "iopub.execute_input": "2021-09-03T00:49:46.970876Z",
     "iopub.status.busy": "2021-09-03T00:49:46.970360Z",
     "iopub.status.idle": "2021-09-03T00:49:47.040520Z",
     "shell.execute_reply": "2021-09-03T00:49:47.041137Z"
    }
   },
   "outputs": [
    {
     "name": "stdout",
     "output_type": "stream",
     "text": [
      "Recent query happens at 2021-09-03 08:49:42 (CST).\n"
     ]
    }
   ],
   "source": [
    "def ts2dt(ts, format=DATETIME_FORMAT):\r\n",
    "    dt = (datetime.utcfromtimestamp(int(ts))\r\n",
    "                    .replace(tzinfo=tz.tzutc())\r\n",
    "                    # .astimezone(tz.tzlocal())\r\n",
    "                    .astimezone(tz.gettz(TIME_ZONE)))\r\n",
    "    return dt.strftime(format), dt\r\n",
    "\r\n",
    "_, newest_dt = ts2dt(newest_ts)\r\n",
    "print(f\"Recent query happens at {newest_dt.strftime(DATETIME_FORMAT)} ({newest_dt.tzname()}).\")"
   ]
  },
  {
   "cell_type": "code",
   "execution_count": 4,
   "metadata": {
    "execution": {
     "iopub.execute_input": "2021-09-03T00:49:47.043966Z",
     "iopub.status.busy": "2021-09-03T00:49:47.043438Z",
     "iopub.status.idle": "2021-09-03T00:49:47.047738Z",
     "shell.execute_reply": "2021-09-03T00:49:47.048139Z"
    }
   },
   "outputs": [],
   "source": [
    "def degrees_to_cardinal(d):\r\n",
    "  dirs = ['N', 'NNE', 'NE', 'ENE', 'E', 'ESE', 'SE', 'SSE', 'S', 'SSW', 'SW', 'WSW', 'W', 'WNW', 'NW', 'NNW']\r\n",
    "  ix = int(round(d / (360. / len(dirs))))\r\n",
    "  return dirs[ix % len(dirs)]"
   ]
  },
  {
   "cell_type": "code",
   "execution_count": 5,
   "metadata": {
    "execution": {
     "iopub.execute_input": "2021-09-03T00:49:47.052234Z",
     "iopub.status.busy": "2021-09-03T00:49:47.051247Z",
     "iopub.status.idle": "2021-09-03T00:49:47.052899Z",
     "shell.execute_reply": "2021-09-03T00:49:47.053363Z"
    }
   },
   "outputs": [],
   "source": [
    "# data.keys()"
   ]
  },
  {
   "cell_type": "code",
   "execution_count": 6,
   "metadata": {
    "execution": {
     "iopub.execute_input": "2021-09-03T00:49:47.056425Z",
     "iopub.status.busy": "2021-09-03T00:49:47.055726Z",
     "iopub.status.idle": "2021-09-03T00:49:47.059595Z",
     "shell.execute_reply": "2021-09-03T00:49:47.058752Z"
    }
   },
   "outputs": [],
   "source": [
    "# data['current']"
   ]
  },
  {
   "cell_type": "code",
   "execution_count": 7,
   "metadata": {
    "execution": {
     "iopub.execute_input": "2021-09-03T00:49:47.082449Z",
     "iopub.status.busy": "2021-09-03T00:49:47.081889Z",
     "iopub.status.idle": "2021-09-03T00:49:47.489655Z",
     "shell.execute_reply": "2021-09-03T00:49:47.490661Z"
    }
   },
   "outputs": [
    {
     "data": {
      "image/png": "[encoded data removed]",
      "text/plain": [
       "<Figure size 216x216 with 1 Axes>"
      ]
     },
     "metadata": {
      "needs_background": "light"
     },
     "output_type": "display_data"
    },
    {
     "name": "stdout",
     "output_type": "stream",
     "text": [
      "Today, sun rises at 06:06 and sets at 18:38.\n",
      "Currently, the weather is Clouds (scattered clouds).\n",
      "The temperature is 29.36°C and it feels like 36.25°C.\n",
      "The UV index is 3.77, humidity is 82%.\n",
      "The pressure is 1008 hPa, percentage of cloud cover is 40%\n",
      "The wind comes from E direction with a speed 1.1 m/s.\n"
     ]
    }
   ],
   "source": [
    "current = data['current']\r\n",
    "\r\n",
    "fig, ax = plt.subplots(figsize=(3, 3))\r\n",
    "icon = requests.get(f\"http://openweathermap.org/img/wn/{current['weather'][0]['icon']}@2x.png\")\r\n",
    "im = Image.open(BytesIO(icon.content))\r\n",
    "plt.imshow(im)\r\n",
    "ax.set_axis_off()\r\n",
    "plt.show()\r\n",
    "\r\n",
    "print(f\"Today, sun rises at {ts2dt(current['sunrise'], '%H:%M')[0]} \\\r\n",
    "and sets at {ts2dt(current['sunset'], '%H:%M')[0]}.\\n\\\r\n",
    "Currently, the weather is {current['weather'][0]['main']} ({current['weather'][0]['description']}).\\n\\\r\n",
    "The temperature is {current['temp']}°C and it feels like {current['feels_like']}°C.\\n\\\r\n",
    "The UV index is {current['uvi']}, humidity is {current['humidity']}%.\\n\\\r\n",
    "The pressure is {current['pressure']} hPa, percentage of cloud cover is {current['clouds']}%\\n\\\r\n",
    "The wind comes from {degrees_to_cardinal(current['wind_deg'])} direction with a speed {current['wind_speed']} m/s.\")"
   ]
  },
  {
   "cell_type": "code",
   "execution_count": 8,
   "metadata": {
    "execution": {
     "iopub.execute_input": "2021-09-03T00:49:47.494259Z",
     "iopub.status.busy": "2021-09-03T00:49:47.493176Z",
     "iopub.status.idle": "2021-09-03T00:49:47.501563Z",
     "shell.execute_reply": "2021-09-03T00:49:47.502242Z"
    }
   },
   "outputs": [],
   "source": [
    "df_hourly = pd.DataFrame(data['hourly'])\r\n",
    "df_daily = pd.DataFrame(data['daily'])"
   ]
  },
  {
   "cell_type": "code",
   "execution_count": 9,
   "metadata": {
    "execution": {
     "iopub.execute_input": "2021-09-03T00:49:47.505655Z",
     "iopub.status.busy": "2021-09-03T00:49:47.504648Z",
     "iopub.status.idle": "2021-09-03T00:49:47.815599Z",
     "shell.execute_reply": "2021-09-03T00:49:47.816399Z"
    }
   },
   "outputs": [
    {
     "data": {
      "image/png": "[encoded data removed]",
      "text/plain": [
       "<Figure size 864x432 with 1 Axes>"
      ]
     },
     "metadata": {
      "needs_background": "light"
     },
     "output_type": "display_data"
    }
   ],
   "source": [
    "fig, ax = plt.subplots(figsize=(12, 6))\r\n",
    "plt.plot(df_hourly.temp, '.-', label='Temperature')\r\n",
    "plt.plot(df_hourly.feels_like, '.-', label='Feels Like')\r\n",
    "ax.set(title='Temperature in future 48 hours', xlabel='Time', ylabel='Temperature')\r\n",
    "ax.set_xticks(list(range(0, len(df_hourly), 2)))\r\n",
    "ax.set_xticklabels([ts2dt(ts, '%m-%d %H:%M')[0] for i, ts in enumerate(df_hourly.dt) if i%2==0], \r\n",
    "                   rotation=45, ha=\"right\")\r\n",
    "ax.locator_params(nbins=15, axis='y')\r\n",
    "plt.legend()\r\n",
    "plt.show()"
   ]
  },
  {
   "cell_type": "code",
   "execution_count": 10,
   "metadata": {
    "execution": {
     "iopub.execute_input": "2021-09-03T00:49:47.821428Z",
     "iopub.status.busy": "2021-09-03T00:49:47.820909Z",
     "iopub.status.idle": "2021-09-03T00:49:47.840494Z",
     "shell.execute_reply": "2021-09-03T00:49:47.839609Z"
    }
   },
   "outputs": [
    {
     "data": {
      "text/html": [
       "<div>\n",
       "<style scoped>\n",
       "    .dataframe tbody tr th:only-of-type {\n",
       "        vertical-align: middle;\n",
       "    }\n",
       "\n",
       "    .dataframe tbody tr th {\n",
       "        vertical-align: top;\n",
       "    }\n",
       "\n",
       "    .dataframe thead th {\n",
       "        text-align: right;\n",
       "    }\n",
       "</style>\n",
       "<table border=\"1\" class=\"dataframe\">\n",
       "  <thead>\n",
       "    <tr style=\"text-align: right;\">\n",
       "      <th></th>\n",
       "      <th>dt</th>\n",
       "      <th>temp</th>\n",
       "      <th>feels_like</th>\n",
       "      <th>pressure</th>\n",
       "      <th>humidity</th>\n",
       "      <th>dew_point</th>\n",
       "      <th>uvi</th>\n",
       "      <th>clouds</th>\n",
       "      <th>visibility</th>\n",
       "      <th>wind_speed</th>\n",
       "      <th>wind_deg</th>\n",
       "      <th>wind_gust</th>\n",
       "      <th>weather</th>\n",
       "      <th>pop</th>\n",
       "      <th>rain</th>\n",
       "    </tr>\n",
       "  </thead>\n",
       "  <tbody>\n",
       "    <tr>\n",
       "      <th>0</th>\n",
       "      <td>1630627200</td>\n",
       "      <td>29.15</td>\n",
       "      <td>35.39</td>\n",
       "      <td>1008</td>\n",
       "      <td>81</td>\n",
       "      <td>25.55</td>\n",
       "      <td>1.48</td>\n",
       "      <td>42</td>\n",
       "      <td>10000</td>\n",
       "      <td>0.91</td>\n",
       "      <td>106</td>\n",
       "      <td>1.09</td>\n",
       "      <td>[{'id': 802, 'main': 'Clouds', 'description': ...</td>\n",
       "      <td>0.00</td>\n",
       "      <td>NaN</td>\n",
       "    </tr>\n",
       "    <tr>\n",
       "      <th>1</th>\n",
       "      <td>1630630800</td>\n",
       "      <td>29.36</td>\n",
       "      <td>36.25</td>\n",
       "      <td>1008</td>\n",
       "      <td>82</td>\n",
       "      <td>25.96</td>\n",
       "      <td>3.77</td>\n",
       "      <td>40</td>\n",
       "      <td>10000</td>\n",
       "      <td>1.10</td>\n",
       "      <td>95</td>\n",
       "      <td>1.24</td>\n",
       "      <td>[{'id': 802, 'main': 'Clouds', 'description': ...</td>\n",
       "      <td>0.48</td>\n",
       "      <td>NaN</td>\n",
       "    </tr>\n",
       "    <tr>\n",
       "      <th>2</th>\n",
       "      <td>1630634400</td>\n",
       "      <td>29.46</td>\n",
       "      <td>35.81</td>\n",
       "      <td>1008</td>\n",
       "      <td>79</td>\n",
       "      <td>25.43</td>\n",
       "      <td>6.80</td>\n",
       "      <td>41</td>\n",
       "      <td>10000</td>\n",
       "      <td>1.61</td>\n",
       "      <td>109</td>\n",
       "      <td>1.60</td>\n",
       "      <td>[{'id': 802, 'main': 'Clouds', 'description': ...</td>\n",
       "      <td>0.52</td>\n",
       "      <td>NaN</td>\n",
       "    </tr>\n",
       "    <tr>\n",
       "      <th>3</th>\n",
       "      <td>1630638000</td>\n",
       "      <td>29.66</td>\n",
       "      <td>35.63</td>\n",
       "      <td>1008</td>\n",
       "      <td>76</td>\n",
       "      <td>24.98</td>\n",
       "      <td>9.60</td>\n",
       "      <td>49</td>\n",
       "      <td>10000</td>\n",
       "      <td>2.41</td>\n",
       "      <td>119</td>\n",
       "      <td>2.07</td>\n",
       "      <td>[{'id': 802, 'main': 'Clouds', 'description': ...</td>\n",
       "      <td>0.56</td>\n",
       "      <td>NaN</td>\n",
       "    </tr>\n",
       "    <tr>\n",
       "      <th>4</th>\n",
       "      <td>1630641600</td>\n",
       "      <td>29.88</td>\n",
       "      <td>35.47</td>\n",
       "      <td>1008</td>\n",
       "      <td>73</td>\n",
       "      <td>24.51</td>\n",
       "      <td>9.51</td>\n",
       "      <td>59</td>\n",
       "      <td>10000</td>\n",
       "      <td>3.22</td>\n",
       "      <td>122</td>\n",
       "      <td>2.55</td>\n",
       "      <td>[{'id': 803, 'main': 'Clouds', 'description': ...</td>\n",
       "      <td>0.48</td>\n",
       "      <td>NaN</td>\n",
       "    </tr>\n",
       "  </tbody>\n",
       "</table>\n",
       "</div>"
      ],
      "text/plain": [
       "           dt   temp  feels_like  pressure  humidity  dew_point   uvi  clouds  \\\n",
       "0  1630627200  29.15       35.39      1008        81      25.55  1.48      42   \n",
       "1  1630630800  29.36       36.25      1008        82      25.96  3.77      40   \n",
       "2  1630634400  29.46       35.81      1008        79      25.43  6.80      41   \n",
       "3  1630638000  29.66       35.63      1008        76      24.98  9.60      49   \n",
       "4  1630641600  29.88       35.47      1008        73      24.51  9.51      59   \n",
       "\n",
       "   visibility  wind_speed  wind_deg  wind_gust  \\\n",
       "0       10000        0.91       106       1.09   \n",
       "1       10000        1.10        95       1.24   \n",
       "2       10000        1.61       109       1.60   \n",
       "3       10000        2.41       119       2.07   \n",
       "4       10000        3.22       122       2.55   \n",
       "\n",
       "                                             weather   pop rain  \n",
       "0  [{'id': 802, 'main': 'Clouds', 'description': ...  0.00  NaN  \n",
       "1  [{'id': 802, 'main': 'Clouds', 'description': ...  0.48  NaN  \n",
       "2  [{'id': 802, 'main': 'Clouds', 'description': ...  0.52  NaN  \n",
       "3  [{'id': 802, 'main': 'Clouds', 'description': ...  0.56  NaN  \n",
       "4  [{'id': 803, 'main': 'Clouds', 'description': ...  0.48  NaN  "
      ]
     },
     "execution_count": 10,
     "metadata": {},
     "output_type": "execute_result"
    }
   ],
   "source": [
    "df_hourly.head()"
   ]
  },
  {
   "cell_type": "code",
   "execution_count": null,
   "metadata": {},
   "outputs": [],
   "source": []
  }
 ],
 "metadata": {
  "interpreter": {
   "hash": "c1b4cfe941b6d2466ad1fb5979e97da9cda8801728c8091b097ab734208fc00c"
  },
  "kernelspec": {
   "display_name": "Python 3.8.3 64-bit ('base': conda)",
   "name": "python3"
  },
  "language_info": {
   "codemirror_mode": {
    "name": "ipython",
    "version": 3
   },
   "file_extension": ".py",
   "mimetype": "text/x-python",
   "name": "python",
   "nbconvert_exporter": "python",
   "pygments_lexer": "ipython3",
   "version": "3.8.11"
  }
 },
 "nbformat": 4,
 "nbformat_minor": 2
}
