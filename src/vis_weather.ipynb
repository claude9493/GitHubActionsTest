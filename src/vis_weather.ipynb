{
 "cells": [
  {
   "cell_type": "code",
   "execution_count": 1,
   "metadata": {
    "execution": {
     "iopub.execute_input": "2021-09-06T04:50:58.151399Z",
     "iopub.status.busy": "2021-09-06T04:50:58.150698Z",
     "iopub.status.idle": "2021-09-06T04:50:59.610682Z",
     "shell.execute_reply": "2021-09-06T04:50:59.611169Z"
    }
   },
   "outputs": [],
   "source": [
    "import json, yaml, requests\r\n",
    "from datetime import datetime\r\n",
    "from dateutil import tz\r\n",
    "import pandas as pd\r\n",
    "from PIL import Image\r\n",
    "from io import BytesIO\r\n",
    "import matplotlib.pyplot as plt\r\n",
    "import seaborn\r\n",
    "\r\n",
    "CONFIG_PATH = \"../config/config.yaml\""
   ]
  },
  {
   "cell_type": "code",
   "execution_count": 2,
   "metadata": {
    "execution": {
     "iopub.execute_input": "2021-09-06T04:50:59.617937Z",
     "iopub.status.busy": "2021-09-06T04:50:59.616892Z",
     "iopub.status.idle": "2021-09-06T04:50:59.622516Z",
     "shell.execute_reply": "2021-09-06T04:50:59.622981Z"
    }
   },
   "outputs": [],
   "source": [
    "with open('../newest_ts', 'r') as f:\r\n",
    "    newest_ts = f.read()\r\n",
    "\r\n",
    "data_path = f\"../data/data_{newest_ts}.json\"\r\n",
    "with open(data_path, 'r') as f:\r\n",
    "    data = json.load(f)\r\n",
    "\r\n",
    "with open(CONFIG_PATH, \"r\") as stream:\r\n",
    "    config = yaml.safe_load(stream)\r\n",
    "\r\n",
    "TIME_ZONE = config['time_zone']\r\n",
    "DATETIME_FORMAT = config['dt_format']"
   ]
  },
  {
   "cell_type": "code",
   "execution_count": 3,
   "metadata": {
    "execution": {
     "iopub.execute_input": "2021-09-06T04:50:59.628479Z",
     "iopub.status.busy": "2021-09-06T04:50:59.627893Z",
     "iopub.status.idle": "2021-09-06T04:50:59.767852Z",
     "shell.execute_reply": "2021-09-06T04:50:59.768519Z"
    }
   },
   "outputs": [
    {
     "name": "stdout",
     "output_type": "stream",
     "text": [
      "Recent query happens at 2021-09-06 12:50:55 (CST).\n"
     ]
    }
   ],
   "source": [
    "def ts2dt(ts, format=DATETIME_FORMAT):\r\n",
    "    dt = (datetime.utcfromtimestamp(int(ts))\r\n",
    "                    .replace(tzinfo=tz.tzutc())\r\n",
    "                    # .astimezone(tz.tzlocal())\r\n",
    "                    .astimezone(tz.gettz(TIME_ZONE)))\r\n",
    "    return dt.strftime(format), dt\r\n",
    "\r\n",
    "_, newest_dt = ts2dt(newest_ts)\r\n",
    "print(f\"Recent query happens at {newest_dt.strftime(DATETIME_FORMAT)} ({newest_dt.tzname()}).\")"
   ]
  },
  {
   "cell_type": "code",
   "execution_count": 4,
   "metadata": {
    "execution": {
     "iopub.execute_input": "2021-09-06T04:50:59.774027Z",
     "iopub.status.busy": "2021-09-06T04:50:59.773429Z",
     "iopub.status.idle": "2021-09-06T04:50:59.778165Z",
     "shell.execute_reply": "2021-09-06T04:50:59.777550Z"
    }
   },
   "outputs": [],
   "source": [
    "def degrees_to_cardinal(d):\r\n",
    "  dirs = ['N', 'NNE', 'NE', 'ENE', 'E', 'ESE', 'SE', 'SSE', 'S', 'SSW', 'SW', 'WSW', 'W', 'WNW', 'NW', 'NNW']\r\n",
    "  ix = int(round(d / (360. / len(dirs))))\r\n",
    "  return dirs[ix % len(dirs)]"
   ]
  },
  {
   "cell_type": "code",
   "execution_count": 5,
   "metadata": {
    "execution": {
     "iopub.execute_input": "2021-09-06T04:50:59.782375Z",
     "iopub.status.busy": "2021-09-06T04:50:59.781764Z",
     "iopub.status.idle": "2021-09-06T04:50:59.789570Z",
     "shell.execute_reply": "2021-09-06T04:50:59.789039Z"
    }
   },
   "outputs": [],
   "source": [
    "# data.keys()"
   ]
  },
  {
   "cell_type": "code",
   "execution_count": 6,
   "metadata": {
    "execution": {
     "iopub.execute_input": "2021-09-06T04:50:59.793120Z",
     "iopub.status.busy": "2021-09-06T04:50:59.792508Z",
     "iopub.status.idle": "2021-09-06T04:50:59.797704Z",
     "shell.execute_reply": "2021-09-06T04:50:59.797206Z"
    }
   },
   "outputs": [],
   "source": [
    "# data['current']"
   ]
  },
  {
   "cell_type": "code",
   "execution_count": 7,
   "metadata": {
    "execution": {
     "iopub.execute_input": "2021-09-06T04:50:59.817940Z",
     "iopub.status.busy": "2021-09-06T04:50:59.804223Z",
     "iopub.status.idle": "2021-09-06T04:51:00.238995Z",
     "shell.execute_reply": "2021-09-06T04:51:00.239809Z"
    }
   },
   "outputs": [
    {
     "data": {
      "image/png": "[encoded data removed]",
      "text/plain": [
       "<Figure size 216x216 with 1 Axes>"
      ]
     },
     "metadata": {
      "needs_background": "light"
     },
     "output_type": "display_data"
    },
    {
     "name": "stdout",
     "output_type": "stream",
     "text": [
      "Today, sun rises at 06:07 and sets at 18:35.\n",
      "Currently, the weather is Clouds (few clouds).\n",
      "The temperature is 32°C and it feels like 39°C.\n",
      "The UV index is 10.32, humidity is 75%.\n",
      "The pressure is 1010 hPa, percentage of cloud cover is 22%\n",
      "The wind comes from E direction with a speed 4.59 m/s.\n"
     ]
    }
   ],
   "source": [
    "current = data['current']\r\n",
    "\r\n",
    "fig, ax = plt.subplots(figsize=(3, 3))\r\n",
    "icon = requests.get(f\"http://openweathermap.org/img/wn/{current['weather'][0]['icon']}@2x.png\")\r\n",
    "im = Image.open(BytesIO(icon.content))\r\n",
    "plt.imshow(im)\r\n",
    "ax.set_axis_off()\r\n",
    "plt.show()\r\n",
    "\r\n",
    "print(f\"Today, sun rises at {ts2dt(current['sunrise'], '%H:%M')[0]} \\\r\n",
    "and sets at {ts2dt(current['sunset'], '%H:%M')[0]}.\\n\\\r\n",
    "Currently, the weather is {current['weather'][0]['main']} ({current['weather'][0]['description']}).\\n\\\r\n",
    "The temperature is {current['temp']}°C and it feels like {current['feels_like']}°C.\\n\\\r\n",
    "The UV index is {current['uvi']}, humidity is {current['humidity']}%.\\n\\\r\n",
    "The pressure is {current['pressure']} hPa, percentage of cloud cover is {current['clouds']}%\\n\\\r\n",
    "The wind comes from {degrees_to_cardinal(current['wind_deg'])} direction with a speed {current['wind_speed']} m/s.\")"
   ]
  },
  {
   "cell_type": "code",
   "execution_count": 8,
   "metadata": {
    "execution": {
     "iopub.execute_input": "2021-09-06T04:51:00.243587Z",
     "iopub.status.busy": "2021-09-06T04:51:00.242434Z",
     "iopub.status.idle": "2021-09-06T04:51:00.251740Z",
     "shell.execute_reply": "2021-09-06T04:51:00.252535Z"
    }
   },
   "outputs": [],
   "source": [
    "df_hourly = pd.DataFrame(data['hourly'])\r\n",
    "df_daily = pd.DataFrame(data['daily'])"
   ]
  },
  {
   "cell_type": "code",
   "execution_count": 9,
   "metadata": {
    "execution": {
     "iopub.execute_input": "2021-09-06T04:51:00.256317Z",
     "iopub.status.busy": "2021-09-06T04:51:00.255197Z",
     "iopub.status.idle": "2021-09-06T04:51:00.595807Z",
     "shell.execute_reply": "2021-09-06T04:51:00.596282Z"
    }
   },
   "outputs": [
    {
     "data": {
      "image/png": "[encoded data removed]",
      "text/plain": [
       "<Figure size 864x432 with 1 Axes>"
      ]
     },
     "metadata": {
      "needs_background": "light"
     },
     "output_type": "display_data"
    }
   ],
   "source": [
    "fig, ax = plt.subplots(figsize=(12, 6))\r\n",
    "plt.plot(df_hourly.temp, '.-', label='Temperature')\r\n",
    "plt.plot(df_hourly.feels_like, '.-', label='Feels Like')\r\n",
    "ax.set(title='Temperature in future 48 hours', xlabel='Time', ylabel='Temperature')\r\n",
    "ax.set_xticks(list(range(0, len(df_hourly), 2)))\r\n",
    "ax.set_xticklabels([ts2dt(ts, '%m-%d %H:%M')[0] for i, ts in enumerate(df_hourly.dt) if i%2==0], \r\n",
    "                   rotation=45, ha=\"right\")\r\n",
    "ax.locator_params(nbins=15, axis='y')\r\n",
    "plt.legend()\r\n",
    "plt.show()"
   ]
  },
  {
   "cell_type": "code",
   "execution_count": 10,
   "metadata": {
    "execution": {
     "iopub.execute_input": "2021-09-06T04:51:00.601792Z",
     "iopub.status.busy": "2021-09-06T04:51:00.601210Z",
     "iopub.status.idle": "2021-09-06T04:51:00.621178Z",
     "shell.execute_reply": "2021-09-06T04:51:00.621660Z"
    }
   },
   "outputs": [
    {
     "data": {
      "text/html": [
       "<div>\n",
       "<style scoped>\n",
       "    .dataframe tbody tr th:only-of-type {\n",
       "        vertical-align: middle;\n",
       "    }\n",
       "\n",
       "    .dataframe tbody tr th {\n",
       "        vertical-align: top;\n",
       "    }\n",
       "\n",
       "    .dataframe thead th {\n",
       "        text-align: right;\n",
       "    }\n",
       "</style>\n",
       "<table border=\"1\" class=\"dataframe\">\n",
       "  <thead>\n",
       "    <tr style=\"text-align: right;\">\n",
       "      <th></th>\n",
       "      <th>dt</th>\n",
       "      <th>temp</th>\n",
       "      <th>feels_like</th>\n",
       "      <th>pressure</th>\n",
       "      <th>humidity</th>\n",
       "      <th>dew_point</th>\n",
       "      <th>uvi</th>\n",
       "      <th>clouds</th>\n",
       "      <th>visibility</th>\n",
       "      <th>wind_speed</th>\n",
       "      <th>wind_deg</th>\n",
       "      <th>wind_gust</th>\n",
       "      <th>weather</th>\n",
       "      <th>pop</th>\n",
       "      <th>rain</th>\n",
       "    </tr>\n",
       "  </thead>\n",
       "  <tbody>\n",
       "    <tr>\n",
       "      <th>0</th>\n",
       "      <td>1630900800</td>\n",
       "      <td>31.65</td>\n",
       "      <td>38.65</td>\n",
       "      <td>1010</td>\n",
       "      <td>73</td>\n",
       "      <td>26.21</td>\n",
       "      <td>10.49</td>\n",
       "      <td>21</td>\n",
       "      <td>10000</td>\n",
       "      <td>4.22</td>\n",
       "      <td>86</td>\n",
       "      <td>5.00</td>\n",
       "      <td>[{'id': 801, 'main': 'Clouds', 'description': ...</td>\n",
       "      <td>0.73</td>\n",
       "      <td>NaN</td>\n",
       "    </tr>\n",
       "    <tr>\n",
       "      <th>1</th>\n",
       "      <td>1630904400</td>\n",
       "      <td>32.00</td>\n",
       "      <td>39.00</td>\n",
       "      <td>1010</td>\n",
       "      <td>75</td>\n",
       "      <td>27.01</td>\n",
       "      <td>10.32</td>\n",
       "      <td>22</td>\n",
       "      <td>10000</td>\n",
       "      <td>4.59</td>\n",
       "      <td>93</td>\n",
       "      <td>5.22</td>\n",
       "      <td>[{'id': 801, 'main': 'Clouds', 'description': ...</td>\n",
       "      <td>0.73</td>\n",
       "      <td>NaN</td>\n",
       "    </tr>\n",
       "    <tr>\n",
       "      <th>2</th>\n",
       "      <td>1630908000</td>\n",
       "      <td>31.64</td>\n",
       "      <td>38.64</td>\n",
       "      <td>1010</td>\n",
       "      <td>73</td>\n",
       "      <td>26.20</td>\n",
       "      <td>8.53</td>\n",
       "      <td>24</td>\n",
       "      <td>10000</td>\n",
       "      <td>4.51</td>\n",
       "      <td>94</td>\n",
       "      <td>5.34</td>\n",
       "      <td>[{'id': 801, 'main': 'Clouds', 'description': ...</td>\n",
       "      <td>0.66</td>\n",
       "      <td>NaN</td>\n",
       "    </tr>\n",
       "    <tr>\n",
       "      <th>3</th>\n",
       "      <td>1630911600</td>\n",
       "      <td>31.21</td>\n",
       "      <td>38.21</td>\n",
       "      <td>1010</td>\n",
       "      <td>73</td>\n",
       "      <td>25.79</td>\n",
       "      <td>6.16</td>\n",
       "      <td>46</td>\n",
       "      <td>10000</td>\n",
       "      <td>4.35</td>\n",
       "      <td>95</td>\n",
       "      <td>5.45</td>\n",
       "      <td>[{'id': 802, 'main': 'Clouds', 'description': ...</td>\n",
       "      <td>0.70</td>\n",
       "      <td>NaN</td>\n",
       "    </tr>\n",
       "    <tr>\n",
       "      <th>4</th>\n",
       "      <td>1630915200</td>\n",
       "      <td>30.71</td>\n",
       "      <td>37.70</td>\n",
       "      <td>1009</td>\n",
       "      <td>73</td>\n",
       "      <td>25.31</td>\n",
       "      <td>3.18</td>\n",
       "      <td>39</td>\n",
       "      <td>10000</td>\n",
       "      <td>4.43</td>\n",
       "      <td>92</td>\n",
       "      <td>5.90</td>\n",
       "      <td>[{'id': 500, 'main': 'Rain', 'description': 'l...</td>\n",
       "      <td>0.63</td>\n",
       "      <td>{'1h': 0.1}</td>\n",
       "    </tr>\n",
       "  </tbody>\n",
       "</table>\n",
       "</div>"
      ],
      "text/plain": [
       "           dt   temp  feels_like  pressure  humidity  dew_point    uvi  \\\n",
       "0  1630900800  31.65       38.65      1010        73      26.21  10.49   \n",
       "1  1630904400  32.00       39.00      1010        75      27.01  10.32   \n",
       "2  1630908000  31.64       38.64      1010        73      26.20   8.53   \n",
       "3  1630911600  31.21       38.21      1010        73      25.79   6.16   \n",
       "4  1630915200  30.71       37.70      1009        73      25.31   3.18   \n",
       "\n",
       "   clouds  visibility  wind_speed  wind_deg  wind_gust  \\\n",
       "0      21       10000        4.22        86       5.00   \n",
       "1      22       10000        4.59        93       5.22   \n",
       "2      24       10000        4.51        94       5.34   \n",
       "3      46       10000        4.35        95       5.45   \n",
       "4      39       10000        4.43        92       5.90   \n",
       "\n",
       "                                             weather   pop         rain  \n",
       "0  [{'id': 801, 'main': 'Clouds', 'description': ...  0.73          NaN  \n",
       "1  [{'id': 801, 'main': 'Clouds', 'description': ...  0.73          NaN  \n",
       "2  [{'id': 801, 'main': 'Clouds', 'description': ...  0.66          NaN  \n",
       "3  [{'id': 802, 'main': 'Clouds', 'description': ...  0.70          NaN  \n",
       "4  [{'id': 500, 'main': 'Rain', 'description': 'l...  0.63  {'1h': 0.1}  "
      ]
     },
     "execution_count": 10,
     "metadata": {},
     "output_type": "execute_result"
    }
   ],
   "source": [
    "df_hourly.head()"
   ]
  },
  {
   "cell_type": "code",
   "execution_count": null,
   "metadata": {},
   "outputs": [],
   "source": []
  }
 ],
 "metadata": {
  "interpreter": {
   "hash": "c1b4cfe941b6d2466ad1fb5979e97da9cda8801728c8091b097ab734208fc00c"
  },
  "kernelspec": {
   "display_name": "Python 3.8.3 64-bit ('base': conda)",
   "name": "python3"
  },
  "language_info": {
   "codemirror_mode": {
    "name": "ipython",
    "version": 3
   },
   "file_extension": ".py",
   "mimetype": "text/x-python",
   "name": "python",
   "nbconvert_exporter": "python",
   "pygments_lexer": "ipython3",
   "version": "3.8.11"
  }
 },
 "nbformat": 4,
 "nbformat_minor": 2
}
