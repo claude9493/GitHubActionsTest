{
 "cells": [
  {
   "cell_type": "code",
   "execution_count": 1,
   "metadata": {
    "execution": {
     "iopub.execute_input": "2021-09-08T09:39:48.766951Z",
     "iopub.status.busy": "2021-09-08T09:39:48.766382Z",
     "iopub.status.idle": "2021-09-08T09:39:51.765201Z",
     "shell.execute_reply": "2021-09-08T09:39:51.764632Z"
    }
   },
   "outputs": [],
   "source": [
    "import json, yaml, requests\r\n",
    "from datetime import datetime\r\n",
    "from dateutil import tz\r\n",
    "import pandas as pd\r\n",
    "from PIL import Image\r\n",
    "from io import BytesIO\r\n",
    "import matplotlib.pyplot as plt\r\n",
    "import seaborn\r\n",
    "\r\n",
    "CONFIG_PATH = \"../config/config.yaml\""
   ]
  },
  {
   "cell_type": "code",
   "execution_count": 2,
   "metadata": {
    "execution": {
     "iopub.execute_input": "2021-09-08T09:39:51.770618Z",
     "iopub.status.busy": "2021-09-08T09:39:51.769855Z",
     "iopub.status.idle": "2021-09-08T09:39:51.775555Z",
     "shell.execute_reply": "2021-09-08T09:39:51.775148Z"
    }
   },
   "outputs": [],
   "source": [
    "with open('../newest_ts', 'r') as f:\r\n",
    "    newest_ts = f.read()\r\n",
    "\r\n",
    "data_path = f\"../data/data_{newest_ts}.json\"\r\n",
    "with open(data_path, 'r') as f:\r\n",
    "    data = json.load(f)\r\n",
    "\r\n",
    "with open(CONFIG_PATH, \"r\") as stream:\r\n",
    "    config = yaml.safe_load(stream)\r\n",
    "\r\n",
    "TIME_ZONE = config['time_zone']\r\n",
    "DATETIME_FORMAT = config['dt_format']"
   ]
  },
  {
   "cell_type": "code",
   "execution_count": 3,
   "metadata": {
    "execution": {
     "iopub.execute_input": "2021-09-08T09:39:51.779753Z",
     "iopub.status.busy": "2021-09-08T09:39:51.779285Z",
     "iopub.status.idle": "2021-09-08T09:39:51.796062Z",
     "shell.execute_reply": "2021-09-08T09:39:51.795619Z"
    }
   },
   "outputs": [
    {
     "name": "stdout",
     "output_type": "stream",
     "text": [
      "Recent query happens at 2021-09-08 17:39:45 (CST).\n"
     ]
    }
   ],
   "source": [
    "def ts2dt(ts, format=DATETIME_FORMAT):\r\n",
    "    dt = (datetime.utcfromtimestamp(int(ts))\r\n",
    "                    .replace(tzinfo=tz.tzutc())\r\n",
    "                    # .astimezone(tz.tzlocal())\r\n",
    "                    .astimezone(tz.gettz(TIME_ZONE)))\r\n",
    "    return dt.strftime(format), dt\r\n",
    "\r\n",
    "_, newest_dt = ts2dt(newest_ts)\r\n",
    "print(f\"Recent query happens at {newest_dt.strftime(DATETIME_FORMAT)} ({newest_dt.tzname()}).\")"
   ]
  },
  {
   "cell_type": "code",
   "execution_count": 4,
   "metadata": {
    "execution": {
     "iopub.execute_input": "2021-09-08T09:39:51.800228Z",
     "iopub.status.busy": "2021-09-08T09:39:51.799774Z",
     "iopub.status.idle": "2021-09-08T09:39:51.803356Z",
     "shell.execute_reply": "2021-09-08T09:39:51.802938Z"
    }
   },
   "outputs": [],
   "source": [
    "def degrees_to_cardinal(d):\r\n",
    "  dirs = ['N', 'NNE', 'NE', 'ENE', 'E', 'ESE', 'SE', 'SSE', 'S', 'SSW', 'SW', 'WSW', 'W', 'WNW', 'NW', 'NNW']\r\n",
    "  ix = int(round(d / (360. / len(dirs))))\r\n",
    "  return dirs[ix % len(dirs)]"
   ]
  },
  {
   "cell_type": "code",
   "execution_count": 5,
   "metadata": {
    "execution": {
     "iopub.execute_input": "2021-09-08T09:39:51.806526Z",
     "iopub.status.busy": "2021-09-08T09:39:51.806072Z",
     "iopub.status.idle": "2021-09-08T09:39:51.809833Z",
     "shell.execute_reply": "2021-09-08T09:39:51.809410Z"
    }
   },
   "outputs": [],
   "source": [
    "# data.keys()"
   ]
  },
  {
   "cell_type": "code",
   "execution_count": 6,
   "metadata": {
    "execution": {
     "iopub.execute_input": "2021-09-08T09:39:51.812592Z",
     "iopub.status.busy": "2021-09-08T09:39:51.812147Z",
     "iopub.status.idle": "2021-09-08T09:39:51.814773Z",
     "shell.execute_reply": "2021-09-08T09:39:51.815123Z"
    }
   },
   "outputs": [],
   "source": [
    "# data['current']"
   ]
  },
  {
   "cell_type": "code",
   "execution_count": 7,
   "metadata": {
    "execution": {
     "iopub.execute_input": "2021-09-08T09:39:51.831030Z",
     "iopub.status.busy": "2021-09-08T09:39:51.820608Z",
     "iopub.status.idle": "2021-09-08T09:39:52.104881Z",
     "shell.execute_reply": "2021-09-08T09:39:52.105554Z"
    }
   },
   "outputs": [
    {
     "data": {
      "image/png": "[encoded data removed]",
      "text/plain": [
       "<Figure size 216x216 with 1 Axes>"
      ]
     },
     "metadata": {
      "needs_background": "light"
     },
     "output_type": "display_data"
    },
    {
     "name": "stdout",
     "output_type": "stream",
     "text": [
      "Today, sun rises at 06:07 and sets at 18:33.\n",
      "Currently, the weather is Clouds (broken clouds).\n",
      "The temperature is 31.6°C and it feels like 38.6°C.\n",
      "The UV index is 0.18, humidity is 70%.\n",
      "The pressure is 1008 hPa, percentage of cloud cover is 68%\n",
      "The wind comes from SE direction with a speed 3.42 m/s.\n"
     ]
    }
   ],
   "source": [
    "current = data['current']\r\n",
    "\r\n",
    "fig, ax = plt.subplots(figsize=(3, 3))\r\n",
    "icon = requests.get(f\"http://openweathermap.org/img/wn/{current['weather'][0]['icon']}@2x.png\")\r\n",
    "im = Image.open(BytesIO(icon.content))\r\n",
    "plt.imshow(im)\r\n",
    "ax.set_axis_off()\r\n",
    "plt.show()\r\n",
    "\r\n",
    "print(f\"Today, sun rises at {ts2dt(current['sunrise'], '%H:%M')[0]} \\\r\n",
    "and sets at {ts2dt(current['sunset'], '%H:%M')[0]}.\\n\\\r\n",
    "Currently, the weather is {current['weather'][0]['main']} ({current['weather'][0]['description']}).\\n\\\r\n",
    "The temperature is {current['temp']}°C and it feels like {current['feels_like']}°C.\\n\\\r\n",
    "The UV index is {current['uvi']}, humidity is {current['humidity']}%.\\n\\\r\n",
    "The pressure is {current['pressure']} hPa, percentage of cloud cover is {current['clouds']}%\\n\\\r\n",
    "The wind comes from {degrees_to_cardinal(current['wind_deg'])} direction with a speed {current['wind_speed']} m/s.\")"
   ]
  },
  {
   "cell_type": "code",
   "execution_count": 8,
   "metadata": {
    "execution": {
     "iopub.execute_input": "2021-09-08T09:39:52.108406Z",
     "iopub.status.busy": "2021-09-08T09:39:52.107951Z",
     "iopub.status.idle": "2021-09-08T09:39:52.114195Z",
     "shell.execute_reply": "2021-09-08T09:39:52.114817Z"
    }
   },
   "outputs": [],
   "source": [
    "df_hourly = pd.DataFrame(data['hourly'])\r\n",
    "df_daily = pd.DataFrame(data['daily'])"
   ]
  },
  {
   "cell_type": "code",
   "execution_count": 9,
   "metadata": {
    "execution": {
     "iopub.execute_input": "2021-09-08T09:39:52.117719Z",
     "iopub.status.busy": "2021-09-08T09:39:52.116797Z",
     "iopub.status.idle": "2021-09-08T09:39:52.360160Z",
     "shell.execute_reply": "2021-09-08T09:39:52.359738Z"
    }
   },
   "outputs": [
    {
     "data": {
      "image/png": "[encoded data removed]",
      "text/plain": [
       "<Figure size 864x432 with 1 Axes>"
      ]
     },
     "metadata": {
      "needs_background": "light"
     },
     "output_type": "display_data"
    }
   ],
   "source": [
    "fig, ax = plt.subplots(figsize=(12, 6))\r\n",
    "plt.plot(df_hourly.temp, '.-', label='Temperature')\r\n",
    "plt.plot(df_hourly.feels_like, '.-', label='Feels Like')\r\n",
    "ax.set(title='Temperature in future 48 hours', xlabel='Time', ylabel='Temperature')\r\n",
    "ax.set_xticks(list(range(0, len(df_hourly), 2)))\r\n",
    "ax.set_xticklabels([ts2dt(ts, '%m-%d %H:%M')[0] for i, ts in enumerate(df_hourly.dt) if i%2==0], \r\n",
    "                   rotation=45, ha=\"right\")\r\n",
    "ax.locator_params(nbins=15, axis='y')\r\n",
    "plt.legend()\r\n",
    "plt.show()"
   ]
  },
  {
   "cell_type": "code",
   "execution_count": 10,
   "metadata": {
    "execution": {
     "iopub.execute_input": "2021-09-08T09:39:52.364663Z",
     "iopub.status.busy": "2021-09-08T09:39:52.364209Z",
     "iopub.status.idle": "2021-09-08T09:39:52.380627Z",
     "shell.execute_reply": "2021-09-08T09:39:52.380977Z"
    }
   },
   "outputs": [
    {
     "data": {
      "text/html": [
       "<div>\n",
       "<style scoped>\n",
       "    .dataframe tbody tr th:only-of-type {\n",
       "        vertical-align: middle;\n",
       "    }\n",
       "\n",
       "    .dataframe tbody tr th {\n",
       "        vertical-align: top;\n",
       "    }\n",
       "\n",
       "    .dataframe thead th {\n",
       "        text-align: right;\n",
       "    }\n",
       "</style>\n",
       "<table border=\"1\" class=\"dataframe\">\n",
       "  <thead>\n",
       "    <tr style=\"text-align: right;\">\n",
       "      <th></th>\n",
       "      <th>dt</th>\n",
       "      <th>temp</th>\n",
       "      <th>feels_like</th>\n",
       "      <th>pressure</th>\n",
       "      <th>humidity</th>\n",
       "      <th>dew_point</th>\n",
       "      <th>uvi</th>\n",
       "      <th>clouds</th>\n",
       "      <th>visibility</th>\n",
       "      <th>wind_speed</th>\n",
       "      <th>wind_deg</th>\n",
       "      <th>wind_gust</th>\n",
       "      <th>weather</th>\n",
       "      <th>pop</th>\n",
       "      <th>rain</th>\n",
       "    </tr>\n",
       "  </thead>\n",
       "  <tbody>\n",
       "    <tr>\n",
       "      <th>0</th>\n",
       "      <td>1631091600</td>\n",
       "      <td>31.23</td>\n",
       "      <td>37.91</td>\n",
       "      <td>1008</td>\n",
       "      <td>69</td>\n",
       "      <td>24.86</td>\n",
       "      <td>1.02</td>\n",
       "      <td>66</td>\n",
       "      <td>10000</td>\n",
       "      <td>3.36</td>\n",
       "      <td>132</td>\n",
       "      <td>3.01</td>\n",
       "      <td>[{'id': 803, 'main': 'Clouds', 'description': ...</td>\n",
       "      <td>0.02</td>\n",
       "      <td>NaN</td>\n",
       "    </tr>\n",
       "    <tr>\n",
       "      <th>1</th>\n",
       "      <td>1631095200</td>\n",
       "      <td>31.60</td>\n",
       "      <td>38.60</td>\n",
       "      <td>1008</td>\n",
       "      <td>70</td>\n",
       "      <td>25.46</td>\n",
       "      <td>0.18</td>\n",
       "      <td>68</td>\n",
       "      <td>10000</td>\n",
       "      <td>3.42</td>\n",
       "      <td>138</td>\n",
       "      <td>3.52</td>\n",
       "      <td>[{'id': 803, 'main': 'Clouds', 'description': ...</td>\n",
       "      <td>0.02</td>\n",
       "      <td>NaN</td>\n",
       "    </tr>\n",
       "    <tr>\n",
       "      <th>2</th>\n",
       "      <td>1631098800</td>\n",
       "      <td>30.97</td>\n",
       "      <td>37.97</td>\n",
       "      <td>1008</td>\n",
       "      <td>72</td>\n",
       "      <td>25.33</td>\n",
       "      <td>0.00</td>\n",
       "      <td>68</td>\n",
       "      <td>10000</td>\n",
       "      <td>3.22</td>\n",
       "      <td>137</td>\n",
       "      <td>3.75</td>\n",
       "      <td>[{'id': 803, 'main': 'Clouds', 'description': ...</td>\n",
       "      <td>0.06</td>\n",
       "      <td>NaN</td>\n",
       "    </tr>\n",
       "    <tr>\n",
       "      <th>3</th>\n",
       "      <td>1631102400</td>\n",
       "      <td>30.24</td>\n",
       "      <td>36.69</td>\n",
       "      <td>1008</td>\n",
       "      <td>74</td>\n",
       "      <td>25.09</td>\n",
       "      <td>0.00</td>\n",
       "      <td>70</td>\n",
       "      <td>10000</td>\n",
       "      <td>2.90</td>\n",
       "      <td>138</td>\n",
       "      <td>3.55</td>\n",
       "      <td>[{'id': 803, 'main': 'Clouds', 'description': ...</td>\n",
       "      <td>0.15</td>\n",
       "      <td>NaN</td>\n",
       "    </tr>\n",
       "    <tr>\n",
       "      <th>4</th>\n",
       "      <td>1631106000</td>\n",
       "      <td>29.47</td>\n",
       "      <td>35.35</td>\n",
       "      <td>1009</td>\n",
       "      <td>77</td>\n",
       "      <td>25.01</td>\n",
       "      <td>0.00</td>\n",
       "      <td>87</td>\n",
       "      <td>10000</td>\n",
       "      <td>2.91</td>\n",
       "      <td>139</td>\n",
       "      <td>3.74</td>\n",
       "      <td>[{'id': 804, 'main': 'Clouds', 'description': ...</td>\n",
       "      <td>0.32</td>\n",
       "      <td>NaN</td>\n",
       "    </tr>\n",
       "  </tbody>\n",
       "</table>\n",
       "</div>"
      ],
      "text/plain": [
       "           dt   temp  feels_like  pressure  humidity  dew_point   uvi  clouds  \\\n",
       "0  1631091600  31.23       37.91      1008        69      24.86  1.02      66   \n",
       "1  1631095200  31.60       38.60      1008        70      25.46  0.18      68   \n",
       "2  1631098800  30.97       37.97      1008        72      25.33  0.00      68   \n",
       "3  1631102400  30.24       36.69      1008        74      25.09  0.00      70   \n",
       "4  1631106000  29.47       35.35      1009        77      25.01  0.00      87   \n",
       "\n",
       "   visibility  wind_speed  wind_deg  wind_gust  \\\n",
       "0       10000        3.36       132       3.01   \n",
       "1       10000        3.42       138       3.52   \n",
       "2       10000        3.22       137       3.75   \n",
       "3       10000        2.90       138       3.55   \n",
       "4       10000        2.91       139       3.74   \n",
       "\n",
       "                                             weather   pop rain  \n",
       "0  [{'id': 803, 'main': 'Clouds', 'description': ...  0.02  NaN  \n",
       "1  [{'id': 803, 'main': 'Clouds', 'description': ...  0.02  NaN  \n",
       "2  [{'id': 803, 'main': 'Clouds', 'description': ...  0.06  NaN  \n",
       "3  [{'id': 803, 'main': 'Clouds', 'description': ...  0.15  NaN  \n",
       "4  [{'id': 804, 'main': 'Clouds', 'description': ...  0.32  NaN  "
      ]
     },
     "execution_count": 10,
     "metadata": {},
     "output_type": "execute_result"
    }
   ],
   "source": [
    "df_hourly.head()"
   ]
  },
  {
   "cell_type": "code",
   "execution_count": null,
   "metadata": {},
   "outputs": [],
   "source": []
  }
 ],
 "metadata": {
  "interpreter": {
   "hash": "c1b4cfe941b6d2466ad1fb5979e97da9cda8801728c8091b097ab734208fc00c"
  },
  "kernelspec": {
   "display_name": "Python 3.8.3 64-bit ('base': conda)",
   "name": "python3"
  },
  "language_info": {
   "codemirror_mode": {
    "name": "ipython",
    "version": 3
   },
   "file_extension": ".py",
   "mimetype": "text/x-python",
   "name": "python",
   "nbconvert_exporter": "python",
   "pygments_lexer": "ipython3",
   "version": "3.8.11"
  }
 },
 "nbformat": 4,
 "nbformat_minor": 2
}
