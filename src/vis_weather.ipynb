{
 "cells": [
  {
   "cell_type": "code",
   "execution_count": 1,
   "metadata": {
    "execution": {
     "iopub.execute_input": "2021-10-23T01:59:56.389450Z",
     "iopub.status.busy": "2021-10-23T01:59:56.383858Z",
     "iopub.status.idle": "2021-10-23T01:59:57.873147Z",
     "shell.execute_reply": "2021-10-23T01:59:57.872400Z"
    }
   },
   "outputs": [],
   "source": [
    "import json, yaml, requests\r\n",
    "from datetime import datetime\r\n",
    "from dateutil import tz\r\n",
    "import pandas as pd\r\n",
    "from PIL import Image\r\n",
    "from io import BytesIO\r\n",
    "import matplotlib.pyplot as plt\r\n",
    "import seaborn\r\n",
    "\r\n",
    "CONFIG_PATH = \"../config/config.yaml\""
   ]
  },
  {
   "cell_type": "code",
   "execution_count": 2,
   "metadata": {
    "execution": {
     "iopub.execute_input": "2021-10-23T01:59:57.878943Z",
     "iopub.status.busy": "2021-10-23T01:59:57.878218Z",
     "iopub.status.idle": "2021-10-23T01:59:57.891987Z",
     "shell.execute_reply": "2021-10-23T01:59:57.884736Z"
    }
   },
   "outputs": [],
   "source": [
    "with open('../newest_ts', 'r') as f:\r\n",
    "    newest_ts = f.read()\r\n",
    "\r\n",
    "data_path = f\"../data/data_{newest_ts}.json\"\r\n",
    "with open(data_path, 'r') as f:\r\n",
    "    data = json.load(f)\r\n",
    "\r\n",
    "with open(CONFIG_PATH, \"r\") as stream:\r\n",
    "    config = yaml.safe_load(stream)\r\n",
    "\r\n",
    "TIME_ZONE = config['time_zone']\r\n",
    "DATETIME_FORMAT = config['dt_format']"
   ]
  },
  {
   "cell_type": "code",
   "execution_count": 3,
   "metadata": {
    "execution": {
     "iopub.execute_input": "2021-10-23T01:59:57.897533Z",
     "iopub.status.busy": "2021-10-23T01:59:57.896872Z",
     "iopub.status.idle": "2021-10-23T01:59:57.903506Z",
     "shell.execute_reply": "2021-10-23T01:59:57.904018Z"
    }
   },
   "outputs": [
    {
     "name": "stdout",
     "output_type": "stream",
     "text": [
      "Recent query happens at 2021-10-23 09:59:52 (CST).\n"
     ]
    }
   ],
   "source": [
    "def ts2dt(ts, format=DATETIME_FORMAT):\r\n",
    "    dt = (datetime.utcfromtimestamp(int(ts))\r\n",
    "                    .replace(tzinfo=tz.tzutc())\r\n",
    "                    # .astimezone(tz.tzlocal())\r\n",
    "                    .astimezone(tz.gettz(TIME_ZONE)))\r\n",
    "    return dt.strftime(format), dt\r\n",
    "\r\n",
    "_, newest_dt = ts2dt(newest_ts)\r\n",
    "print(f\"Recent query happens at {newest_dt.strftime(DATETIME_FORMAT)} ({newest_dt.tzname()}).\")"
   ]
  },
  {
   "cell_type": "code",
   "execution_count": 4,
   "metadata": {
    "execution": {
     "iopub.execute_input": "2021-10-23T01:59:57.910912Z",
     "iopub.status.busy": "2021-10-23T01:59:57.909376Z",
     "iopub.status.idle": "2021-10-23T01:59:57.911587Z",
     "shell.execute_reply": "2021-10-23T01:59:57.912118Z"
    }
   },
   "outputs": [],
   "source": [
    "def degrees_to_cardinal(d):\r\n",
    "  dirs = ['N', 'NNE', 'NE', 'ENE', 'E', 'ESE', 'SE', 'SSE', 'S', 'SSW', 'SW', 'WSW', 'W', 'WNW', 'NW', 'NNW']\r\n",
    "  ix = int(round(d / (360. / len(dirs))))\r\n",
    "  return dirs[ix % len(dirs)]"
   ]
  },
  {
   "cell_type": "code",
   "execution_count": 5,
   "metadata": {
    "execution": {
     "iopub.execute_input": "2021-10-23T01:59:57.917182Z",
     "iopub.status.busy": "2021-10-23T01:59:57.915691Z",
     "iopub.status.idle": "2021-10-23T01:59:57.917833Z",
     "shell.execute_reply": "2021-10-23T01:59:57.918323Z"
    }
   },
   "outputs": [],
   "source": [
    "# data.keys()"
   ]
  },
  {
   "cell_type": "code",
   "execution_count": 6,
   "metadata": {
    "execution": {
     "iopub.execute_input": "2021-10-23T01:59:57.923082Z",
     "iopub.status.busy": "2021-10-23T01:59:57.921559Z",
     "iopub.status.idle": "2021-10-23T01:59:57.923732Z",
     "shell.execute_reply": "2021-10-23T01:59:57.924242Z"
    }
   },
   "outputs": [],
   "source": [
    "# data['current']"
   ]
  },
  {
   "cell_type": "code",
   "execution_count": 7,
   "metadata": {
    "execution": {
     "iopub.execute_input": "2021-10-23T01:59:57.944633Z",
     "iopub.status.busy": "2021-10-23T01:59:57.930822Z",
     "iopub.status.idle": "2021-10-23T01:59:58.375370Z",
     "shell.execute_reply": "2021-10-23T01:59:58.376144Z"
    }
   },
   "outputs": [
    {
     "data": {
      "image/png": "[encoded data removed]",
      "text/plain": [
       "<Figure size 216x216 with 1 Axes>"
      ]
     },
     "metadata": {
      "needs_background": "light"
     },
     "output_type": "display_data"
    },
    {
     "name": "stdout",
     "output_type": "stream",
     "text": [
      "Today, sun rises at 06:22 and sets at 17:51.\n",
      "Currently, the weather is Clouds (broken clouds).\n",
      "The temperature is 19.35°C and it feels like 19.38°C.\n",
      "The UV index is 3.17, humidity is 78%.\n",
      "The pressure is 1020 hPa, percentage of cloud cover is 79%\n",
      "The wind comes from NNE direction with a speed 3.58 m/s.\n"
     ]
    }
   ],
   "source": [
    "current = data['current']\r\n",
    "\r\n",
    "fig, ax = plt.subplots(figsize=(3, 3))\r\n",
    "icon = requests.get(f\"http://openweathermap.org/img/wn/{current['weather'][0]['icon']}@2x.png\")\r\n",
    "im = Image.open(BytesIO(icon.content))\r\n",
    "plt.imshow(im)\r\n",
    "ax.set_axis_off()\r\n",
    "plt.show()\r\n",
    "\r\n",
    "print(f\"Today, sun rises at {ts2dt(current['sunrise'], '%H:%M')[0]} \\\r\n",
    "and sets at {ts2dt(current['sunset'], '%H:%M')[0]}.\\n\\\r\n",
    "Currently, the weather is {current['weather'][0]['main']} ({current['weather'][0]['description']}).\\n\\\r\n",
    "The temperature is {current['temp']}°C and it feels like {current['feels_like']}°C.\\n\\\r\n",
    "The UV index is {current['uvi']}, humidity is {current['humidity']}%.\\n\\\r\n",
    "The pressure is {current['pressure']} hPa, percentage of cloud cover is {current['clouds']}%\\n\\\r\n",
    "The wind comes from {degrees_to_cardinal(current['wind_deg'])} direction with a speed {current['wind_speed']} m/s.\")"
   ]
  },
  {
   "cell_type": "code",
   "execution_count": 8,
   "metadata": {
    "execution": {
     "iopub.execute_input": "2021-10-23T01:59:58.379956Z",
     "iopub.status.busy": "2021-10-23T01:59:58.378784Z",
     "iopub.status.idle": "2021-10-23T01:59:58.386760Z",
     "shell.execute_reply": "2021-10-23T01:59:58.387512Z"
    }
   },
   "outputs": [],
   "source": [
    "df_hourly = pd.DataFrame(data['hourly'])\r\n",
    "df_daily = pd.DataFrame(data['daily'])"
   ]
  },
  {
   "cell_type": "code",
   "execution_count": 9,
   "metadata": {
    "execution": {
     "iopub.execute_input": "2021-10-23T01:59:58.391077Z",
     "iopub.status.busy": "2021-10-23T01:59:58.389912Z",
     "iopub.status.idle": "2021-10-23T01:59:58.719118Z",
     "shell.execute_reply": "2021-10-23T01:59:58.719644Z"
    }
   },
   "outputs": [
    {
     "data": {
      "image/png": "[encoded data removed]",
      "text/plain": [
       "<Figure size 864x432 with 1 Axes>"
      ]
     },
     "metadata": {
      "needs_background": "light"
     },
     "output_type": "display_data"
    }
   ],
   "source": [
    "fig, ax = plt.subplots(figsize=(12, 6))\r\n",
    "plt.plot(df_hourly.temp, '.-', label='Temperature')\r\n",
    "plt.plot(df_hourly.feels_like, '.-', label='Feels Like')\r\n",
    "ax.set(title='Temperature in future 48 hours', xlabel='Time', ylabel='Temperature')\r\n",
    "ax.set_xticks(list(range(0, len(df_hourly), 2)))\r\n",
    "ax.set_xticklabels([ts2dt(ts, '%m-%d %H:%M')[0] for i, ts in enumerate(df_hourly.dt) if i%2==0], \r\n",
    "                   rotation=45, ha=\"right\")\r\n",
    "ax.locator_params(nbins=15, axis='y')\r\n",
    "plt.legend()\r\n",
    "plt.show()"
   ]
  },
  {
   "cell_type": "code",
   "execution_count": 10,
   "metadata": {
    "execution": {
     "iopub.execute_input": "2021-10-23T01:59:58.732211Z",
     "iopub.status.busy": "2021-10-23T01:59:58.723794Z",
     "iopub.status.idle": "2021-10-23T01:59:58.744508Z",
     "shell.execute_reply": "2021-10-23T01:59:58.744981Z"
    }
   },
   "outputs": [
    {
     "data": {
      "text/html": [
       "<div>\n",
       "<style scoped>\n",
       "    .dataframe tbody tr th:only-of-type {\n",
       "        vertical-align: middle;\n",
       "    }\n",
       "\n",
       "    .dataframe tbody tr th {\n",
       "        vertical-align: top;\n",
       "    }\n",
       "\n",
       "    .dataframe thead th {\n",
       "        text-align: right;\n",
       "    }\n",
       "</style>\n",
       "<table border=\"1\" class=\"dataframe\">\n",
       "  <thead>\n",
       "    <tr style=\"text-align: right;\">\n",
       "      <th></th>\n",
       "      <th>dt</th>\n",
       "      <th>temp</th>\n",
       "      <th>feels_like</th>\n",
       "      <th>pressure</th>\n",
       "      <th>humidity</th>\n",
       "      <th>dew_point</th>\n",
       "      <th>uvi</th>\n",
       "      <th>clouds</th>\n",
       "      <th>visibility</th>\n",
       "      <th>wind_speed</th>\n",
       "      <th>wind_deg</th>\n",
       "      <th>wind_gust</th>\n",
       "      <th>weather</th>\n",
       "      <th>pop</th>\n",
       "    </tr>\n",
       "  </thead>\n",
       "  <tbody>\n",
       "    <tr>\n",
       "      <th>0</th>\n",
       "      <td>1634950800</td>\n",
       "      <td>19.32</td>\n",
       "      <td>19.27</td>\n",
       "      <td>1020</td>\n",
       "      <td>75</td>\n",
       "      <td>14.78</td>\n",
       "      <td>1.58</td>\n",
       "      <td>81</td>\n",
       "      <td>10000</td>\n",
       "      <td>3.07</td>\n",
       "      <td>13</td>\n",
       "      <td>4.05</td>\n",
       "      <td>[{'id': 803, 'main': 'Clouds', 'description': ...</td>\n",
       "      <td>0.0</td>\n",
       "    </tr>\n",
       "    <tr>\n",
       "      <th>1</th>\n",
       "      <td>1634954400</td>\n",
       "      <td>19.35</td>\n",
       "      <td>19.38</td>\n",
       "      <td>1020</td>\n",
       "      <td>78</td>\n",
       "      <td>15.42</td>\n",
       "      <td>3.17</td>\n",
       "      <td>79</td>\n",
       "      <td>10000</td>\n",
       "      <td>3.01</td>\n",
       "      <td>13</td>\n",
       "      <td>4.08</td>\n",
       "      <td>[{'id': 803, 'main': 'Clouds', 'description': ...</td>\n",
       "      <td>0.0</td>\n",
       "    </tr>\n",
       "    <tr>\n",
       "      <th>2</th>\n",
       "      <td>1634958000</td>\n",
       "      <td>19.77</td>\n",
       "      <td>19.73</td>\n",
       "      <td>1020</td>\n",
       "      <td>74</td>\n",
       "      <td>15.01</td>\n",
       "      <td>4.76</td>\n",
       "      <td>77</td>\n",
       "      <td>10000</td>\n",
       "      <td>3.04</td>\n",
       "      <td>26</td>\n",
       "      <td>4.16</td>\n",
       "      <td>[{'id': 803, 'main': 'Clouds', 'description': ...</td>\n",
       "      <td>0.0</td>\n",
       "    </tr>\n",
       "    <tr>\n",
       "      <th>3</th>\n",
       "      <td>1634961600</td>\n",
       "      <td>20.56</td>\n",
       "      <td>20.53</td>\n",
       "      <td>1020</td>\n",
       "      <td>71</td>\n",
       "      <td>15.12</td>\n",
       "      <td>7.64</td>\n",
       "      <td>71</td>\n",
       "      <td>10000</td>\n",
       "      <td>3.03</td>\n",
       "      <td>41</td>\n",
       "      <td>3.95</td>\n",
       "      <td>[{'id': 803, 'main': 'Clouds', 'description': ...</td>\n",
       "      <td>0.0</td>\n",
       "    </tr>\n",
       "    <tr>\n",
       "      <th>4</th>\n",
       "      <td>1634965200</td>\n",
       "      <td>21.48</td>\n",
       "      <td>21.43</td>\n",
       "      <td>1019</td>\n",
       "      <td>67</td>\n",
       "      <td>15.10</td>\n",
       "      <td>7.49</td>\n",
       "      <td>65</td>\n",
       "      <td>10000</td>\n",
       "      <td>3.15</td>\n",
       "      <td>46</td>\n",
       "      <td>3.52</td>\n",
       "      <td>[{'id': 803, 'main': 'Clouds', 'description': ...</td>\n",
       "      <td>0.0</td>\n",
       "    </tr>\n",
       "  </tbody>\n",
       "</table>\n",
       "</div>"
      ],
      "text/plain": [
       "           dt   temp  feels_like  pressure  humidity  dew_point   uvi  clouds  \\\n",
       "0  1634950800  19.32       19.27      1020        75      14.78  1.58      81   \n",
       "1  1634954400  19.35       19.38      1020        78      15.42  3.17      79   \n",
       "2  1634958000  19.77       19.73      1020        74      15.01  4.76      77   \n",
       "3  1634961600  20.56       20.53      1020        71      15.12  7.64      71   \n",
       "4  1634965200  21.48       21.43      1019        67      15.10  7.49      65   \n",
       "\n",
       "   visibility  wind_speed  wind_deg  wind_gust  \\\n",
       "0       10000        3.07        13       4.05   \n",
       "1       10000        3.01        13       4.08   \n",
       "2       10000        3.04        26       4.16   \n",
       "3       10000        3.03        41       3.95   \n",
       "4       10000        3.15        46       3.52   \n",
       "\n",
       "                                             weather  pop  \n",
       "0  [{'id': 803, 'main': 'Clouds', 'description': ...  0.0  \n",
       "1  [{'id': 803, 'main': 'Clouds', 'description': ...  0.0  \n",
       "2  [{'id': 803, 'main': 'Clouds', 'description': ...  0.0  \n",
       "3  [{'id': 803, 'main': 'Clouds', 'description': ...  0.0  \n",
       "4  [{'id': 803, 'main': 'Clouds', 'description': ...  0.0  "
      ]
     },
     "execution_count": 10,
     "metadata": {},
     "output_type": "execute_result"
    }
   ],
   "source": [
    "df_hourly.head()"
   ]
  },
  {
   "cell_type": "code",
   "execution_count": null,
   "metadata": {},
   "outputs": [],
   "source": []
  }
 ],
 "metadata": {
  "interpreter": {
   "hash": "c1b4cfe941b6d2466ad1fb5979e97da9cda8801728c8091b097ab734208fc00c"
  },
  "kernelspec": {
   "display_name": "Python 3.8.3 64-bit ('base': conda)",
   "name": "python3"
  },
  "language_info": {
   "codemirror_mode": {
    "name": "ipython",
    "version": 3
   },
   "file_extension": ".py",
   "mimetype": "text/x-python",
   "name": "python",
   "nbconvert_exporter": "python",
   "pygments_lexer": "ipython3",
   "version": "3.8.12"
  }
 },
 "nbformat": 4,
 "nbformat_minor": 2
}
