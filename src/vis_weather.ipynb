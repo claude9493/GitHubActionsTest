{
 "cells": [
  {
   "cell_type": "code",
   "execution_count": 1,
   "metadata": {
    "execution": {
     "iopub.execute_input": "2021-09-22T23:11:58.372232Z",
     "iopub.status.busy": "2021-09-22T23:11:58.371351Z",
     "iopub.status.idle": "2021-09-22T23:11:59.561775Z",
     "shell.execute_reply": "2021-09-22T23:11:59.562220Z"
    }
   },
   "outputs": [],
   "source": [
    "import json, yaml, requests\r\n",
    "from datetime import datetime\r\n",
    "from dateutil import tz\r\n",
    "import pandas as pd\r\n",
    "from PIL import Image\r\n",
    "from io import BytesIO\r\n",
    "import matplotlib.pyplot as plt\r\n",
    "import seaborn\r\n",
    "\r\n",
    "CONFIG_PATH = \"../config/config.yaml\""
   ]
  },
  {
   "cell_type": "code",
   "execution_count": 2,
   "metadata": {
    "execution": {
     "iopub.execute_input": "2021-09-22T23:11:59.567181Z",
     "iopub.status.busy": "2021-09-22T23:11:59.566624Z",
     "iopub.status.idle": "2021-09-22T23:11:59.573379Z",
     "shell.execute_reply": "2021-09-22T23:11:59.572911Z"
    }
   },
   "outputs": [],
   "source": [
    "with open('../newest_ts', 'r') as f:\r\n",
    "    newest_ts = f.read()\r\n",
    "\r\n",
    "data_path = f\"../data/data_{newest_ts}.json\"\r\n",
    "with open(data_path, 'r') as f:\r\n",
    "    data = json.load(f)\r\n",
    "\r\n",
    "with open(CONFIG_PATH, \"r\") as stream:\r\n",
    "    config = yaml.safe_load(stream)\r\n",
    "\r\n",
    "TIME_ZONE = config['time_zone']\r\n",
    "DATETIME_FORMAT = config['dt_format']"
   ]
  },
  {
   "cell_type": "code",
   "execution_count": 3,
   "metadata": {
    "execution": {
     "iopub.execute_input": "2021-09-22T23:11:59.578263Z",
     "iopub.status.busy": "2021-09-22T23:11:59.577721Z",
     "iopub.status.idle": "2021-09-22T23:11:59.584313Z",
     "shell.execute_reply": "2021-09-22T23:11:59.584837Z"
    }
   },
   "outputs": [
    {
     "name": "stdout",
     "output_type": "stream",
     "text": [
      "Recent query happens at 2021-09-23 07:11:55 (CST).\n"
     ]
    }
   ],
   "source": [
    "def ts2dt(ts, format=DATETIME_FORMAT):\r\n",
    "    dt = (datetime.utcfromtimestamp(int(ts))\r\n",
    "                    .replace(tzinfo=tz.tzutc())\r\n",
    "                    # .astimezone(tz.tzlocal())\r\n",
    "                    .astimezone(tz.gettz(TIME_ZONE)))\r\n",
    "    return dt.strftime(format), dt\r\n",
    "\r\n",
    "_, newest_dt = ts2dt(newest_ts)\r\n",
    "print(f\"Recent query happens at {newest_dt.strftime(DATETIME_FORMAT)} ({newest_dt.tzname()}).\")"
   ]
  },
  {
   "cell_type": "code",
   "execution_count": 4,
   "metadata": {
    "execution": {
     "iopub.execute_input": "2021-09-22T23:11:59.589646Z",
     "iopub.status.busy": "2021-09-22T23:11:59.588974Z",
     "iopub.status.idle": "2021-09-22T23:11:59.592304Z",
     "shell.execute_reply": "2021-09-22T23:11:59.592816Z"
    }
   },
   "outputs": [],
   "source": [
    "def degrees_to_cardinal(d):\r\n",
    "  dirs = ['N', 'NNE', 'NE', 'ENE', 'E', 'ESE', 'SE', 'SSE', 'S', 'SSW', 'SW', 'WSW', 'W', 'WNW', 'NW', 'NNW']\r\n",
    "  ix = int(round(d / (360. / len(dirs))))\r\n",
    "  return dirs[ix % len(dirs)]"
   ]
  },
  {
   "cell_type": "code",
   "execution_count": 5,
   "metadata": {
    "execution": {
     "iopub.execute_input": "2021-09-22T23:11:59.598661Z",
     "iopub.status.busy": "2021-09-22T23:11:59.597454Z",
     "iopub.status.idle": "2021-09-22T23:11:59.599250Z",
     "shell.execute_reply": "2021-09-22T23:11:59.599887Z"
    }
   },
   "outputs": [],
   "source": [
    "# data.keys()"
   ]
  },
  {
   "cell_type": "code",
   "execution_count": 6,
   "metadata": {
    "execution": {
     "iopub.execute_input": "2021-09-22T23:11:59.604393Z",
     "iopub.status.busy": "2021-09-22T23:11:59.603037Z",
     "iopub.status.idle": "2021-09-22T23:11:59.604977Z",
     "shell.execute_reply": "2021-09-22T23:11:59.605423Z"
    }
   },
   "outputs": [],
   "source": [
    "# data['current']"
   ]
  },
  {
   "cell_type": "code",
   "execution_count": 7,
   "metadata": {
    "execution": {
     "iopub.execute_input": "2021-09-22T23:11:59.627037Z",
     "iopub.status.busy": "2021-09-22T23:11:59.611964Z",
     "iopub.status.idle": "2021-09-22T23:12:00.055984Z",
     "shell.execute_reply": "2021-09-22T23:12:00.056778Z"
    }
   },
   "outputs": [
    {
     "data": {
      "image/png": "[encoded data removed]",
      "text/plain": [
       "<Figure size 216x216 with 1 Axes>"
      ]
     },
     "metadata": {
      "needs_background": "light"
     },
     "output_type": "display_data"
    },
    {
     "name": "stdout",
     "output_type": "stream",
     "text": [
      "Today, sun rises at 06:11 and sets at 18:18.\n",
      "Currently, the weather is Clouds (broken clouds).\n",
      "The temperature is 28.6°C and it feels like 35.27°C.\n",
      "The UV index is 0.19, humidity is 88%.\n",
      "The pressure is 1012 hPa, percentage of cloud cover is 59%\n",
      "The wind comes from E direction with a speed 5.32 m/s.\n"
     ]
    }
   ],
   "source": [
    "current = data['current']\r\n",
    "\r\n",
    "fig, ax = plt.subplots(figsize=(3, 3))\r\n",
    "icon = requests.get(f\"http://openweathermap.org/img/wn/{current['weather'][0]['icon']}@2x.png\")\r\n",
    "im = Image.open(BytesIO(icon.content))\r\n",
    "plt.imshow(im)\r\n",
    "ax.set_axis_off()\r\n",
    "plt.show()\r\n",
    "\r\n",
    "print(f\"Today, sun rises at {ts2dt(current['sunrise'], '%H:%M')[0]} \\\r\n",
    "and sets at {ts2dt(current['sunset'], '%H:%M')[0]}.\\n\\\r\n",
    "Currently, the weather is {current['weather'][0]['main']} ({current['weather'][0]['description']}).\\n\\\r\n",
    "The temperature is {current['temp']}°C and it feels like {current['feels_like']}°C.\\n\\\r\n",
    "The UV index is {current['uvi']}, humidity is {current['humidity']}%.\\n\\\r\n",
    "The pressure is {current['pressure']} hPa, percentage of cloud cover is {current['clouds']}%\\n\\\r\n",
    "The wind comes from {degrees_to_cardinal(current['wind_deg'])} direction with a speed {current['wind_speed']} m/s.\")"
   ]
  },
  {
   "cell_type": "code",
   "execution_count": 8,
   "metadata": {
    "execution": {
     "iopub.execute_input": "2021-09-22T23:12:00.059985Z",
     "iopub.status.busy": "2021-09-22T23:12:00.059324Z",
     "iopub.status.idle": "2021-09-22T23:12:00.067071Z",
     "shell.execute_reply": "2021-09-22T23:12:00.067659Z"
    }
   },
   "outputs": [],
   "source": [
    "df_hourly = pd.DataFrame(data['hourly'])\r\n",
    "df_daily = pd.DataFrame(data['daily'])"
   ]
  },
  {
   "cell_type": "code",
   "execution_count": 9,
   "metadata": {
    "execution": {
     "iopub.execute_input": "2021-09-22T23:12:00.070527Z",
     "iopub.status.busy": "2021-09-22T23:12:00.069769Z",
     "iopub.status.idle": "2021-09-22T23:12:00.374224Z",
     "shell.execute_reply": "2021-09-22T23:12:00.373705Z"
    }
   },
   "outputs": [
    {
     "data": {
      "image/png": "[encoded data removed]",
      "text/plain": [
       "<Figure size 864x432 with 1 Axes>"
      ]
     },
     "metadata": {
      "needs_background": "light"
     },
     "output_type": "display_data"
    }
   ],
   "source": [
    "fig, ax = plt.subplots(figsize=(12, 6))\r\n",
    "plt.plot(df_hourly.temp, '.-', label='Temperature')\r\n",
    "plt.plot(df_hourly.feels_like, '.-', label='Feels Like')\r\n",
    "ax.set(title='Temperature in future 48 hours', xlabel='Time', ylabel='Temperature')\r\n",
    "ax.set_xticks(list(range(0, len(df_hourly), 2)))\r\n",
    "ax.set_xticklabels([ts2dt(ts, '%m-%d %H:%M')[0] for i, ts in enumerate(df_hourly.dt) if i%2==0], \r\n",
    "                   rotation=45, ha=\"right\")\r\n",
    "ax.locator_params(nbins=15, axis='y')\r\n",
    "plt.legend()\r\n",
    "plt.show()"
   ]
  },
  {
   "cell_type": "code",
   "execution_count": 10,
   "metadata": {
    "execution": {
     "iopub.execute_input": "2021-09-22T23:12:00.386531Z",
     "iopub.status.busy": "2021-09-22T23:12:00.378324Z",
     "iopub.status.idle": "2021-09-22T23:12:00.398672Z",
     "shell.execute_reply": "2021-09-22T23:12:00.398198Z"
    }
   },
   "outputs": [
    {
     "data": {
      "text/html": [
       "<div>\n",
       "<style scoped>\n",
       "    .dataframe tbody tr th:only-of-type {\n",
       "        vertical-align: middle;\n",
       "    }\n",
       "\n",
       "    .dataframe tbody tr th {\n",
       "        vertical-align: top;\n",
       "    }\n",
       "\n",
       "    .dataframe thead th {\n",
       "        text-align: right;\n",
       "    }\n",
       "</style>\n",
       "<table border=\"1\" class=\"dataframe\">\n",
       "  <thead>\n",
       "    <tr style=\"text-align: right;\">\n",
       "      <th></th>\n",
       "      <th>dt</th>\n",
       "      <th>temp</th>\n",
       "      <th>feels_like</th>\n",
       "      <th>pressure</th>\n",
       "      <th>humidity</th>\n",
       "      <th>dew_point</th>\n",
       "      <th>uvi</th>\n",
       "      <th>clouds</th>\n",
       "      <th>visibility</th>\n",
       "      <th>wind_speed</th>\n",
       "      <th>wind_deg</th>\n",
       "      <th>wind_gust</th>\n",
       "      <th>weather</th>\n",
       "      <th>pop</th>\n",
       "      <th>rain</th>\n",
       "    </tr>\n",
       "  </thead>\n",
       "  <tbody>\n",
       "    <tr>\n",
       "      <th>0</th>\n",
       "      <td>1632351600</td>\n",
       "      <td>28.60</td>\n",
       "      <td>35.27</td>\n",
       "      <td>1012</td>\n",
       "      <td>88</td>\n",
       "      <td>26.41</td>\n",
       "      <td>0.19</td>\n",
       "      <td>59</td>\n",
       "      <td>10000</td>\n",
       "      <td>5.32</td>\n",
       "      <td>87</td>\n",
       "      <td>6.88</td>\n",
       "      <td>[{'id': 500, 'main': 'Rain', 'description': 'l...</td>\n",
       "      <td>0.77</td>\n",
       "      <td>{'1h': 0.4}</td>\n",
       "    </tr>\n",
       "    <tr>\n",
       "      <th>1</th>\n",
       "      <td>1632355200</td>\n",
       "      <td>28.56</td>\n",
       "      <td>34.73</td>\n",
       "      <td>1012</td>\n",
       "      <td>86</td>\n",
       "      <td>25.99</td>\n",
       "      <td>1.06</td>\n",
       "      <td>60</td>\n",
       "      <td>10000</td>\n",
       "      <td>5.46</td>\n",
       "      <td>86</td>\n",
       "      <td>7.00</td>\n",
       "      <td>[{'id': 803, 'main': 'Clouds', 'description': ...</td>\n",
       "      <td>0.73</td>\n",
       "      <td>NaN</td>\n",
       "    </tr>\n",
       "    <tr>\n",
       "      <th>2</th>\n",
       "      <td>1632358800</td>\n",
       "      <td>28.74</td>\n",
       "      <td>34.64</td>\n",
       "      <td>1013</td>\n",
       "      <td>83</td>\n",
       "      <td>25.56</td>\n",
       "      <td>3.02</td>\n",
       "      <td>74</td>\n",
       "      <td>10000</td>\n",
       "      <td>5.93</td>\n",
       "      <td>84</td>\n",
       "      <td>7.30</td>\n",
       "      <td>[{'id': 803, 'main': 'Clouds', 'description': ...</td>\n",
       "      <td>0.65</td>\n",
       "      <td>NaN</td>\n",
       "    </tr>\n",
       "    <tr>\n",
       "      <th>3</th>\n",
       "      <td>1632362400</td>\n",
       "      <td>29.04</td>\n",
       "      <td>34.85</td>\n",
       "      <td>1013</td>\n",
       "      <td>80</td>\n",
       "      <td>25.24</td>\n",
       "      <td>5.71</td>\n",
       "      <td>82</td>\n",
       "      <td>10000</td>\n",
       "      <td>6.45</td>\n",
       "      <td>83</td>\n",
       "      <td>7.62</td>\n",
       "      <td>[{'id': 500, 'main': 'Rain', 'description': 'l...</td>\n",
       "      <td>0.65</td>\n",
       "      <td>{'1h': 0.26}</td>\n",
       "    </tr>\n",
       "    <tr>\n",
       "      <th>4</th>\n",
       "      <td>1632366000</td>\n",
       "      <td>29.32</td>\n",
       "      <td>34.72</td>\n",
       "      <td>1014</td>\n",
       "      <td>76</td>\n",
       "      <td>24.65</td>\n",
       "      <td>8.24</td>\n",
       "      <td>89</td>\n",
       "      <td>10000</td>\n",
       "      <td>6.59</td>\n",
       "      <td>86</td>\n",
       "      <td>7.78</td>\n",
       "      <td>[{'id': 500, 'main': 'Rain', 'description': 'l...</td>\n",
       "      <td>0.74</td>\n",
       "      <td>{'1h': 0.25}</td>\n",
       "    </tr>\n",
       "  </tbody>\n",
       "</table>\n",
       "</div>"
      ],
      "text/plain": [
       "           dt   temp  feels_like  pressure  humidity  dew_point   uvi  clouds  \\\n",
       "0  1632351600  28.60       35.27      1012        88      26.41  0.19      59   \n",
       "1  1632355200  28.56       34.73      1012        86      25.99  1.06      60   \n",
       "2  1632358800  28.74       34.64      1013        83      25.56  3.02      74   \n",
       "3  1632362400  29.04       34.85      1013        80      25.24  5.71      82   \n",
       "4  1632366000  29.32       34.72      1014        76      24.65  8.24      89   \n",
       "\n",
       "   visibility  wind_speed  wind_deg  wind_gust  \\\n",
       "0       10000        5.32        87       6.88   \n",
       "1       10000        5.46        86       7.00   \n",
       "2       10000        5.93        84       7.30   \n",
       "3       10000        6.45        83       7.62   \n",
       "4       10000        6.59        86       7.78   \n",
       "\n",
       "                                             weather   pop          rain  \n",
       "0  [{'id': 500, 'main': 'Rain', 'description': 'l...  0.77   {'1h': 0.4}  \n",
       "1  [{'id': 803, 'main': 'Clouds', 'description': ...  0.73           NaN  \n",
       "2  [{'id': 803, 'main': 'Clouds', 'description': ...  0.65           NaN  \n",
       "3  [{'id': 500, 'main': 'Rain', 'description': 'l...  0.65  {'1h': 0.26}  \n",
       "4  [{'id': 500, 'main': 'Rain', 'description': 'l...  0.74  {'1h': 0.25}  "
      ]
     },
     "execution_count": 10,
     "metadata": {},
     "output_type": "execute_result"
    }
   ],
   "source": [
    "df_hourly.head()"
   ]
  },
  {
   "cell_type": "code",
   "execution_count": null,
   "metadata": {},
   "outputs": [],
   "source": []
  }
 ],
 "metadata": {
  "interpreter": {
   "hash": "c1b4cfe941b6d2466ad1fb5979e97da9cda8801728c8091b097ab734208fc00c"
  },
  "kernelspec": {
   "display_name": "Python 3.8.3 64-bit ('base': conda)",
   "name": "python3"
  },
  "language_info": {
   "codemirror_mode": {
    "name": "ipython",
    "version": 3
   },
   "file_extension": ".py",
   "mimetype": "text/x-python",
   "name": "python",
   "nbconvert_exporter": "python",
   "pygments_lexer": "ipython3",
   "version": "3.8.11"
  }
 },
 "nbformat": 4,
 "nbformat_minor": 2
}
