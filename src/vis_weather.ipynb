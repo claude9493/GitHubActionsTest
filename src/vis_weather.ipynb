{
 "cells": [
  {
   "cell_type": "code",
   "execution_count": 1,
   "metadata": {
    "execution": {
     "iopub.execute_input": "2021-09-02T05:36:23.401743Z",
     "iopub.status.busy": "2021-09-02T05:36:23.401225Z",
     "iopub.status.idle": "2021-09-02T05:36:29.101038Z",
     "shell.execute_reply": "2021-09-02T05:36:29.101494Z"
    }
   },
   "outputs": [],
   "source": [
    "import json, yaml, requests\r\n",
    "from datetime import datetime\r\n",
    "from dateutil import tz\r\n",
    "import pandas as pd\r\n",
    "from PIL import Image\r\n",
    "from io import BytesIO\r\n",
    "import matplotlib.pyplot as plt\r\n",
    "import seaborn\r\n",
    "\r\n",
    "CONFIG_PATH = \"../config/config.yaml\""
   ]
  },
  {
   "cell_type": "code",
   "execution_count": 2,
   "metadata": {
    "execution": {
     "iopub.execute_input": "2021-09-02T05:36:29.106482Z",
     "iopub.status.busy": "2021-09-02T05:36:29.103991Z",
     "iopub.status.idle": "2021-09-02T05:36:29.111574Z",
     "shell.execute_reply": "2021-09-02T05:36:29.111162Z"
    }
   },
   "outputs": [],
   "source": [
    "with open('../newest_ts', 'r') as f:\r\n",
    "    newest_ts = f.read()\r\n",
    "\r\n",
    "data_path = f\"../data/data_{newest_ts}.json\"\r\n",
    "with open(data_path, 'r') as f:\r\n",
    "    data = json.load(f)\r\n",
    "\r\n",
    "with open(CONFIG_PATH, \"r\") as stream:\r\n",
    "    config = yaml.safe_load(stream)\r\n",
    "\r\n",
    "TIME_ZONE = config['time_zone']\r\n",
    "DATETIME_FORMAT = config['dt_format']"
   ]
  },
  {
   "cell_type": "code",
   "execution_count": 3,
   "metadata": {
    "execution": {
     "iopub.execute_input": "2021-09-02T05:36:29.116059Z",
     "iopub.status.busy": "2021-09-02T05:36:29.115562Z",
     "iopub.status.idle": "2021-09-02T05:36:29.119445Z",
     "shell.execute_reply": "2021-09-02T05:36:29.119814Z"
    }
   },
   "outputs": [
    {
     "name": "stdout",
     "output_type": "stream",
     "text": [
      "Recent query happens at 2021-09-02 13:36:19 (CST).\n"
     ]
    }
   ],
   "source": [
    "def ts2dt(ts, format=DATETIME_FORMAT):\r\n",
    "    dt = (datetime.utcfromtimestamp(int(ts))\r\n",
    "                    .replace(tzinfo=tz.tzutc())\r\n",
    "                    # .astimezone(tz.tzlocal())\r\n",
    "                    .astimezone(tz.gettz(TIME_ZONE)))\r\n",
    "    return dt.strftime(format), dt\r\n",
    "\r\n",
    "_, newest_dt = ts2dt(newest_ts)\r\n",
    "print(f\"Recent query happens at {newest_dt.strftime(DATETIME_FORMAT)} ({newest_dt.tzname()}).\")"
   ]
  },
  {
   "cell_type": "code",
   "execution_count": 4,
   "metadata": {
    "execution": {
     "iopub.execute_input": "2021-09-02T05:36:29.124616Z",
     "iopub.status.busy": "2021-09-02T05:36:29.123610Z",
     "iopub.status.idle": "2021-09-02T05:36:29.125265Z",
     "shell.execute_reply": "2021-09-02T05:36:29.125632Z"
    }
   },
   "outputs": [],
   "source": [
    "def degrees_to_cardinal(d):\r\n",
    "  dirs = ['N', 'NNE', 'NE', 'ENE', 'E', 'ESE', 'SE', 'SSE', 'S', 'SSW', 'SW', 'WSW', 'W', 'WNW', 'NW', 'NNW']\r\n",
    "  ix = int(round(d / (360. / len(dirs))))\r\n",
    "  return dirs[ix % len(dirs)]"
   ]
  },
  {
   "cell_type": "code",
   "execution_count": 5,
   "metadata": {
    "execution": {
     "iopub.execute_input": "2021-09-02T05:36:29.129518Z",
     "iopub.status.busy": "2021-09-02T05:36:29.128447Z",
     "iopub.status.idle": "2021-09-02T05:36:29.130039Z",
     "shell.execute_reply": "2021-09-02T05:36:29.130400Z"
    }
   },
   "outputs": [],
   "source": [
    "# data.keys()"
   ]
  },
  {
   "cell_type": "code",
   "execution_count": 6,
   "metadata": {
    "execution": {
     "iopub.execute_input": "2021-09-02T05:36:29.134131Z",
     "iopub.status.busy": "2021-09-02T05:36:29.133068Z",
     "iopub.status.idle": "2021-09-02T05:36:29.134648Z",
     "shell.execute_reply": "2021-09-02T05:36:29.135016Z"
    }
   },
   "outputs": [],
   "source": [
    "# data['current']"
   ]
  },
  {
   "cell_type": "code",
   "execution_count": 7,
   "metadata": {
    "execution": {
     "iopub.execute_input": "2021-09-02T05:36:29.150757Z",
     "iopub.status.busy": "2021-09-02T05:36:29.140378Z",
     "iopub.status.idle": "2021-09-02T05:36:29.580562Z",
     "shell.execute_reply": "2021-09-02T05:36:29.581267Z"
    }
   },
   "outputs": [
    {
     "data": {
      "image/png": "[encoded data removed]",
      "text/plain": [
       "<Figure size 216x216 with 1 Axes>"
      ]
     },
     "metadata": {
      "needs_background": "light"
     },
     "output_type": "display_data"
    },
    {
     "name": "stdout",
     "output_type": "stream",
     "text": [
      "Today, sun rises at 06:06 and sets at 18:39.\n",
      "Currently, the weather is Clouds (few clouds).\n",
      "The temperature is 31.39°C and it feels like 38.39°C.\n",
      "The UV index is 9.2, humidity is 74%.\n",
      "The pressure is 1008 hPa, percentage of cloud cover is 18%\n",
      "The wind comes from ESE direction with a speed 3.67 m/s.\n"
     ]
    }
   ],
   "source": [
    "current = data['current']\r\n",
    "\r\n",
    "fig, ax = plt.subplots(figsize=(3, 3))\r\n",
    "icon = requests.get(f\"http://openweathermap.org/img/wn/{current['weather'][0]['icon']}@2x.png\")\r\n",
    "im = Image.open(BytesIO(icon.content))\r\n",
    "plt.imshow(im)\r\n",
    "ax.set_axis_off()\r\n",
    "plt.show()\r\n",
    "\r\n",
    "print(f\"Today, sun rises at {ts2dt(current['sunrise'], '%H:%M')[0]} \\\r\n",
    "and sets at {ts2dt(current['sunset'], '%H:%M')[0]}.\\n\\\r\n",
    "Currently, the weather is {current['weather'][0]['main']} ({current['weather'][0]['description']}).\\n\\\r\n",
    "The temperature is {current['temp']}°C and it feels like {current['feels_like']}°C.\\n\\\r\n",
    "The UV index is {current['uvi']}, humidity is {current['humidity']}%.\\n\\\r\n",
    "The pressure is {current['pressure']} hPa, percentage of cloud cover is {current['clouds']}%\\n\\\r\n",
    "The wind comes from {degrees_to_cardinal(current['wind_deg'])} direction with a speed {current['wind_speed']} m/s.\")"
   ]
  },
  {
   "cell_type": "code",
   "execution_count": 8,
   "metadata": {
    "execution": {
     "iopub.execute_input": "2021-09-02T05:36:29.584369Z",
     "iopub.status.busy": "2021-09-02T05:36:29.583470Z",
     "iopub.status.idle": "2021-09-02T05:36:29.590088Z",
     "shell.execute_reply": "2021-09-02T05:36:29.590705Z"
    }
   },
   "outputs": [],
   "source": [
    "df_hourly = pd.DataFrame(data['hourly'])\r\n",
    "df_daily = pd.DataFrame(data['daily'])"
   ]
  },
  {
   "cell_type": "code",
   "execution_count": 9,
   "metadata": {
    "execution": {
     "iopub.execute_input": "2021-09-02T05:36:29.593644Z",
     "iopub.status.busy": "2021-09-02T05:36:29.592738Z",
     "iopub.status.idle": "2021-09-02T05:36:29.837406Z",
     "shell.execute_reply": "2021-09-02T05:36:29.836739Z"
    }
   },
   "outputs": [
    {
     "data": {
      "image/png": "[encoded data removed]",
      "text/plain": [
       "<Figure size 864x432 with 1 Axes>"
      ]
     },
     "metadata": {
      "needs_background": "light"
     },
     "output_type": "display_data"
    }
   ],
   "source": [
    "fig, ax = plt.subplots(figsize=(12, 6))\r\n",
    "plt.plot(df_hourly.temp, '.-', label='Temperature')\r\n",
    "plt.plot(df_hourly.feels_like, '.-', label='Feels Like')\r\n",
    "ax.set(title='Temperature in future 48 hours', xlabel='Time', ylabel='Temperature')\r\n",
    "ax.set_xticks(list(range(0, len(df_hourly), 2)))\r\n",
    "ax.set_xticklabels([ts2dt(ts, '%m-%d %H:%M')[0] for i, ts in enumerate(df_hourly.dt) if i%2==0], \r\n",
    "                   rotation=45, ha=\"right\")\r\n",
    "ax.locator_params(nbins=15, axis='y')\r\n",
    "plt.legend()\r\n",
    "plt.show()"
   ]
  },
  {
   "cell_type": "code",
   "execution_count": 10,
   "metadata": {
    "execution": {
     "iopub.execute_input": "2021-09-02T05:36:29.848889Z",
     "iopub.status.busy": "2021-09-02T05:36:29.841186Z",
     "iopub.status.idle": "2021-09-02T05:36:29.859336Z",
     "shell.execute_reply": "2021-09-02T05:36:29.858724Z"
    }
   },
   "outputs": [
    {
     "data": {
      "text/html": [
       "<div>\n",
       "<style scoped>\n",
       "    .dataframe tbody tr th:only-of-type {\n",
       "        vertical-align: middle;\n",
       "    }\n",
       "\n",
       "    .dataframe tbody tr th {\n",
       "        vertical-align: top;\n",
       "    }\n",
       "\n",
       "    .dataframe thead th {\n",
       "        text-align: right;\n",
       "    }\n",
       "</style>\n",
       "<table border=\"1\" class=\"dataframe\">\n",
       "  <thead>\n",
       "    <tr style=\"text-align: right;\">\n",
       "      <th></th>\n",
       "      <th>dt</th>\n",
       "      <th>temp</th>\n",
       "      <th>feels_like</th>\n",
       "      <th>pressure</th>\n",
       "      <th>humidity</th>\n",
       "      <th>dew_point</th>\n",
       "      <th>uvi</th>\n",
       "      <th>clouds</th>\n",
       "      <th>visibility</th>\n",
       "      <th>wind_speed</th>\n",
       "      <th>wind_deg</th>\n",
       "      <th>wind_gust</th>\n",
       "      <th>weather</th>\n",
       "      <th>pop</th>\n",
       "      <th>rain</th>\n",
       "    </tr>\n",
       "  </thead>\n",
       "  <tbody>\n",
       "    <tr>\n",
       "      <th>0</th>\n",
       "      <td>1630558800</td>\n",
       "      <td>31.05</td>\n",
       "      <td>38.05</td>\n",
       "      <td>1008</td>\n",
       "      <td>73</td>\n",
       "      <td>25.64</td>\n",
       "      <td>11.11</td>\n",
       "      <td>18</td>\n",
       "      <td>10000</td>\n",
       "      <td>3.80</td>\n",
       "      <td>109</td>\n",
       "      <td>3.92</td>\n",
       "      <td>[{'id': 500, 'main': 'Rain', 'description': 'l...</td>\n",
       "      <td>0.97</td>\n",
       "      <td>{'1h': 0.12}</td>\n",
       "    </tr>\n",
       "    <tr>\n",
       "      <th>1</th>\n",
       "      <td>1630562400</td>\n",
       "      <td>31.39</td>\n",
       "      <td>38.39</td>\n",
       "      <td>1008</td>\n",
       "      <td>74</td>\n",
       "      <td>26.19</td>\n",
       "      <td>9.20</td>\n",
       "      <td>18</td>\n",
       "      <td>10000</td>\n",
       "      <td>3.67</td>\n",
       "      <td>111</td>\n",
       "      <td>3.73</td>\n",
       "      <td>[{'id': 801, 'main': 'Clouds', 'description': ...</td>\n",
       "      <td>0.79</td>\n",
       "      <td>NaN</td>\n",
       "    </tr>\n",
       "    <tr>\n",
       "      <th>2</th>\n",
       "      <td>1630566000</td>\n",
       "      <td>31.07</td>\n",
       "      <td>38.07</td>\n",
       "      <td>1008</td>\n",
       "      <td>73</td>\n",
       "      <td>25.66</td>\n",
       "      <td>5.77</td>\n",
       "      <td>17</td>\n",
       "      <td>10000</td>\n",
       "      <td>3.70</td>\n",
       "      <td>117</td>\n",
       "      <td>3.67</td>\n",
       "      <td>[{'id': 801, 'main': 'Clouds', 'description': ...</td>\n",
       "      <td>0.52</td>\n",
       "      <td>NaN</td>\n",
       "    </tr>\n",
       "    <tr>\n",
       "      <th>3</th>\n",
       "      <td>1630569600</td>\n",
       "      <td>30.69</td>\n",
       "      <td>37.35</td>\n",
       "      <td>1008</td>\n",
       "      <td>72</td>\n",
       "      <td>25.06</td>\n",
       "      <td>3.02</td>\n",
       "      <td>16</td>\n",
       "      <td>10000</td>\n",
       "      <td>3.71</td>\n",
       "      <td>118</td>\n",
       "      <td>3.80</td>\n",
       "      <td>[{'id': 801, 'main': 'Clouds', 'description': ...</td>\n",
       "      <td>0.47</td>\n",
       "      <td>NaN</td>\n",
       "    </tr>\n",
       "    <tr>\n",
       "      <th>4</th>\n",
       "      <td>1630573200</td>\n",
       "      <td>30.17</td>\n",
       "      <td>35.97</td>\n",
       "      <td>1007</td>\n",
       "      <td>72</td>\n",
       "      <td>24.56</td>\n",
       "      <td>1.07</td>\n",
       "      <td>14</td>\n",
       "      <td>10000</td>\n",
       "      <td>3.51</td>\n",
       "      <td>120</td>\n",
       "      <td>3.93</td>\n",
       "      <td>[{'id': 801, 'main': 'Clouds', 'description': ...</td>\n",
       "      <td>0.44</td>\n",
       "      <td>NaN</td>\n",
       "    </tr>\n",
       "  </tbody>\n",
       "</table>\n",
       "</div>"
      ],
      "text/plain": [
       "           dt   temp  feels_like  pressure  humidity  dew_point    uvi  \\\n",
       "0  1630558800  31.05       38.05      1008        73      25.64  11.11   \n",
       "1  1630562400  31.39       38.39      1008        74      26.19   9.20   \n",
       "2  1630566000  31.07       38.07      1008        73      25.66   5.77   \n",
       "3  1630569600  30.69       37.35      1008        72      25.06   3.02   \n",
       "4  1630573200  30.17       35.97      1007        72      24.56   1.07   \n",
       "\n",
       "   clouds  visibility  wind_speed  wind_deg  wind_gust  \\\n",
       "0      18       10000        3.80       109       3.92   \n",
       "1      18       10000        3.67       111       3.73   \n",
       "2      17       10000        3.70       117       3.67   \n",
       "3      16       10000        3.71       118       3.80   \n",
       "4      14       10000        3.51       120       3.93   \n",
       "\n",
       "                                             weather   pop          rain  \n",
       "0  [{'id': 500, 'main': 'Rain', 'description': 'l...  0.97  {'1h': 0.12}  \n",
       "1  [{'id': 801, 'main': 'Clouds', 'description': ...  0.79           NaN  \n",
       "2  [{'id': 801, 'main': 'Clouds', 'description': ...  0.52           NaN  \n",
       "3  [{'id': 801, 'main': 'Clouds', 'description': ...  0.47           NaN  \n",
       "4  [{'id': 801, 'main': 'Clouds', 'description': ...  0.44           NaN  "
      ]
     },
     "execution_count": 10,
     "metadata": {},
     "output_type": "execute_result"
    }
   ],
   "source": [
    "df_hourly.head()"
   ]
  },
  {
   "cell_type": "code",
   "execution_count": null,
   "metadata": {},
   "outputs": [],
   "source": []
  }
 ],
 "metadata": {
  "interpreter": {
   "hash": "c1b4cfe941b6d2466ad1fb5979e97da9cda8801728c8091b097ab734208fc00c"
  },
  "kernelspec": {
   "display_name": "Python 3.8.3 64-bit ('base': conda)",
   "name": "python3"
  },
  "language_info": {
   "codemirror_mode": {
    "name": "ipython",
    "version": 3
   },
   "file_extension": ".py",
   "mimetype": "text/x-python",
   "name": "python",
   "nbconvert_exporter": "python",
   "pygments_lexer": "ipython3",
   "version": "3.8.11"
  }
 },
 "nbformat": 4,
 "nbformat_minor": 2
}
