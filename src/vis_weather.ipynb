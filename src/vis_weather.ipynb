{
 "cells": [
  {
   "cell_type": "code",
   "execution_count": 1,
   "metadata": {
    "execution": {
     "iopub.execute_input": "2021-10-24T22:11:21.628690Z",
     "iopub.status.busy": "2021-10-24T22:11:21.628112Z",
     "iopub.status.idle": "2021-10-24T22:11:24.014703Z",
     "shell.execute_reply": "2021-10-24T22:11:24.014033Z"
    }
   },
   "outputs": [],
   "source": [
    "import json, yaml, requests\r\n",
    "from datetime import datetime\r\n",
    "from dateutil import tz\r\n",
    "import pandas as pd\r\n",
    "from PIL import Image\r\n",
    "from io import BytesIO\r\n",
    "import matplotlib.pyplot as plt\r\n",
    "import seaborn\r\n",
    "\r\n",
    "CONFIG_PATH = \"../config/config.yaml\""
   ]
  },
  {
   "cell_type": "code",
   "execution_count": 2,
   "metadata": {
    "execution": {
     "iopub.execute_input": "2021-10-24T22:11:24.019457Z",
     "iopub.status.busy": "2021-10-24T22:11:24.018974Z",
     "iopub.status.idle": "2021-10-24T22:11:24.024403Z",
     "shell.execute_reply": "2021-10-24T22:11:24.023679Z"
    }
   },
   "outputs": [],
   "source": [
    "with open('../newest_ts', 'r') as f:\r\n",
    "    newest_ts = f.read()\r\n",
    "\r\n",
    "data_path = f\"../data/data_{newest_ts}.json\"\r\n",
    "with open(data_path, 'r') as f:\r\n",
    "    data = json.load(f)\r\n",
    "\r\n",
    "with open(CONFIG_PATH, \"r\") as stream:\r\n",
    "    config = yaml.safe_load(stream)\r\n",
    "\r\n",
    "TIME_ZONE = config['time_zone']\r\n",
    "DATETIME_FORMAT = config['dt_format']"
   ]
  },
  {
   "cell_type": "code",
   "execution_count": 3,
   "metadata": {
    "execution": {
     "iopub.execute_input": "2021-10-24T22:11:24.028524Z",
     "iopub.status.busy": "2021-10-24T22:11:24.028067Z",
     "iopub.status.idle": "2021-10-24T22:11:24.039223Z",
     "shell.execute_reply": "2021-10-24T22:11:24.039594Z"
    }
   },
   "outputs": [
    {
     "name": "stdout",
     "output_type": "stream",
     "text": [
      "Recent query happens at 2021-10-25 06:11:18 (CST).\n"
     ]
    }
   ],
   "source": [
    "def ts2dt(ts, format=DATETIME_FORMAT):\r\n",
    "    dt = (datetime.utcfromtimestamp(int(ts))\r\n",
    "                    .replace(tzinfo=tz.tzutc())\r\n",
    "                    # .astimezone(tz.tzlocal())\r\n",
    "                    .astimezone(tz.gettz(TIME_ZONE)))\r\n",
    "    return dt.strftime(format), dt\r\n",
    "\r\n",
    "_, newest_dt = ts2dt(newest_ts)\r\n",
    "print(f\"Recent query happens at {newest_dt.strftime(DATETIME_FORMAT)} ({newest_dt.tzname()}).\")"
   ]
  },
  {
   "cell_type": "code",
   "execution_count": 4,
   "metadata": {
    "execution": {
     "iopub.execute_input": "2021-10-24T22:11:24.044303Z",
     "iopub.status.busy": "2021-10-24T22:11:24.043222Z",
     "iopub.status.idle": "2021-10-24T22:11:24.044915Z",
     "shell.execute_reply": "2021-10-24T22:11:24.045280Z"
    }
   },
   "outputs": [],
   "source": [
    "def degrees_to_cardinal(d):\r\n",
    "  dirs = ['N', 'NNE', 'NE', 'ENE', 'E', 'ESE', 'SE', 'SSE', 'S', 'SSW', 'SW', 'WSW', 'W', 'WNW', 'NW', 'NNW']\r\n",
    "  ix = int(round(d / (360. / len(dirs))))\r\n",
    "  return dirs[ix % len(dirs)]"
   ]
  },
  {
   "cell_type": "code",
   "execution_count": 5,
   "metadata": {
    "execution": {
     "iopub.execute_input": "2021-10-24T22:11:24.048808Z",
     "iopub.status.busy": "2021-10-24T22:11:24.047999Z",
     "iopub.status.idle": "2021-10-24T22:11:24.049956Z",
     "shell.execute_reply": "2021-10-24T22:11:24.049553Z"
    }
   },
   "outputs": [],
   "source": [
    "# data.keys()"
   ]
  },
  {
   "cell_type": "code",
   "execution_count": 6,
   "metadata": {
    "execution": {
     "iopub.execute_input": "2021-10-24T22:11:24.053588Z",
     "iopub.status.busy": "2021-10-24T22:11:24.052466Z",
     "iopub.status.idle": "2021-10-24T22:11:24.054131Z",
     "shell.execute_reply": "2021-10-24T22:11:24.054493Z"
    }
   },
   "outputs": [],
   "source": [
    "# data['current']"
   ]
  },
  {
   "cell_type": "code",
   "execution_count": 7,
   "metadata": {
    "execution": {
     "iopub.execute_input": "2021-10-24T22:11:24.070784Z",
     "iopub.status.busy": "2021-10-24T22:11:24.070318Z",
     "iopub.status.idle": "2021-10-24T22:11:24.594108Z",
     "shell.execute_reply": "2021-10-24T22:11:24.594789Z"
    }
   },
   "outputs": [
    {
     "data": {
      "image/png": "[encoded data removed]",
      "text/plain": [
       "<Figure size 216x216 with 1 Axes>"
      ]
     },
     "metadata": {
      "needs_background": "light"
     },
     "output_type": "display_data"
    },
    {
     "name": "stdout",
     "output_type": "stream",
     "text": [
      "Today, sun rises at 06:23 and sets at 17:50.\n",
      "Currently, the weather is Clouds (scattered clouds).\n",
      "The temperature is 20.2°C and it feels like 20.21°C.\n",
      "The UV index is 0, humidity is 74%.\n",
      "The pressure is 1015 hPa, percentage of cloud cover is 40%\n",
      "The wind comes from E direction with a speed 0.45 m/s.\n"
     ]
    }
   ],
   "source": [
    "current = data['current']\r\n",
    "\r\n",
    "fig, ax = plt.subplots(figsize=(3, 3))\r\n",
    "icon = requests.get(f\"http://openweathermap.org/img/wn/{current['weather'][0]['icon']}@2x.png\")\r\n",
    "im = Image.open(BytesIO(icon.content))\r\n",
    "plt.imshow(im)\r\n",
    "ax.set_axis_off()\r\n",
    "plt.show()\r\n",
    "\r\n",
    "print(f\"Today, sun rises at {ts2dt(current['sunrise'], '%H:%M')[0]} \\\r\n",
    "and sets at {ts2dt(current['sunset'], '%H:%M')[0]}.\\n\\\r\n",
    "Currently, the weather is {current['weather'][0]['main']} ({current['weather'][0]['description']}).\\n\\\r\n",
    "The temperature is {current['temp']}°C and it feels like {current['feels_like']}°C.\\n\\\r\n",
    "The UV index is {current['uvi']}, humidity is {current['humidity']}%.\\n\\\r\n",
    "The pressure is {current['pressure']} hPa, percentage of cloud cover is {current['clouds']}%\\n\\\r\n",
    "The wind comes from {degrees_to_cardinal(current['wind_deg'])} direction with a speed {current['wind_speed']} m/s.\")"
   ]
  },
  {
   "cell_type": "code",
   "execution_count": 8,
   "metadata": {
    "execution": {
     "iopub.execute_input": "2021-10-24T22:11:24.598003Z",
     "iopub.status.busy": "2021-10-24T22:11:24.597045Z",
     "iopub.status.idle": "2021-10-24T22:11:24.603803Z",
     "shell.execute_reply": "2021-10-24T22:11:24.604458Z"
    }
   },
   "outputs": [],
   "source": [
    "df_hourly = pd.DataFrame(data['hourly'])\r\n",
    "df_daily = pd.DataFrame(data['daily'])"
   ]
  },
  {
   "cell_type": "code",
   "execution_count": 9,
   "metadata": {
    "execution": {
     "iopub.execute_input": "2021-10-24T22:11:24.607487Z",
     "iopub.status.busy": "2021-10-24T22:11:24.606555Z",
     "iopub.status.idle": "2021-10-24T22:11:24.914235Z",
     "shell.execute_reply": "2021-10-24T22:11:24.913456Z"
    }
   },
   "outputs": [
    {
     "data": {
      "image/png": "[encoded data removed]",
      "text/plain": [
       "<Figure size 864x432 with 1 Axes>"
      ]
     },
     "metadata": {
      "needs_background": "light"
     },
     "output_type": "display_data"
    }
   ],
   "source": [
    "fig, ax = plt.subplots(figsize=(12, 6))\r\n",
    "plt.plot(df_hourly.temp, '.-', label='Temperature')\r\n",
    "plt.plot(df_hourly.feels_like, '.-', label='Feels Like')\r\n",
    "ax.set(title='Temperature in future 48 hours', xlabel='Time', ylabel='Temperature')\r\n",
    "ax.set_xticks(list(range(0, len(df_hourly), 2)))\r\n",
    "ax.set_xticklabels([ts2dt(ts, '%m-%d %H:%M')[0] for i, ts in enumerate(df_hourly.dt) if i%2==0], \r\n",
    "                   rotation=45, ha=\"right\")\r\n",
    "ax.locator_params(nbins=15, axis='y')\r\n",
    "plt.legend()\r\n",
    "plt.show()"
   ]
  },
  {
   "cell_type": "code",
   "execution_count": 10,
   "metadata": {
    "execution": {
     "iopub.execute_input": "2021-10-24T22:11:24.926097Z",
     "iopub.status.busy": "2021-10-24T22:11:24.918203Z",
     "iopub.status.idle": "2021-10-24T22:11:24.937328Z",
     "shell.execute_reply": "2021-10-24T22:11:24.937710Z"
    }
   },
   "outputs": [
    {
     "data": {
      "text/html": [
       "<div>\n",
       "<style scoped>\n",
       "    .dataframe tbody tr th:only-of-type {\n",
       "        vertical-align: middle;\n",
       "    }\n",
       "\n",
       "    .dataframe tbody tr th {\n",
       "        vertical-align: top;\n",
       "    }\n",
       "\n",
       "    .dataframe thead th {\n",
       "        text-align: right;\n",
       "    }\n",
       "</style>\n",
       "<table border=\"1\" class=\"dataframe\">\n",
       "  <thead>\n",
       "    <tr style=\"text-align: right;\">\n",
       "      <th></th>\n",
       "      <th>dt</th>\n",
       "      <th>temp</th>\n",
       "      <th>feels_like</th>\n",
       "      <th>pressure</th>\n",
       "      <th>humidity</th>\n",
       "      <th>dew_point</th>\n",
       "      <th>uvi</th>\n",
       "      <th>clouds</th>\n",
       "      <th>visibility</th>\n",
       "      <th>wind_speed</th>\n",
       "      <th>wind_deg</th>\n",
       "      <th>wind_gust</th>\n",
       "      <th>weather</th>\n",
       "      <th>pop</th>\n",
       "      <th>rain</th>\n",
       "    </tr>\n",
       "  </thead>\n",
       "  <tbody>\n",
       "    <tr>\n",
       "      <th>0</th>\n",
       "      <td>1635112800</td>\n",
       "      <td>20.20</td>\n",
       "      <td>20.21</td>\n",
       "      <td>1015</td>\n",
       "      <td>74</td>\n",
       "      <td>15.42</td>\n",
       "      <td>0.00</td>\n",
       "      <td>40</td>\n",
       "      <td>10000</td>\n",
       "      <td>3.30</td>\n",
       "      <td>10</td>\n",
       "      <td>4.00</td>\n",
       "      <td>[{'id': 802, 'main': 'Clouds', 'description': ...</td>\n",
       "      <td>0.0</td>\n",
       "      <td>NaN</td>\n",
       "    </tr>\n",
       "    <tr>\n",
       "      <th>1</th>\n",
       "      <td>1635116400</td>\n",
       "      <td>20.01</td>\n",
       "      <td>19.97</td>\n",
       "      <td>1016</td>\n",
       "      <td>73</td>\n",
       "      <td>15.03</td>\n",
       "      <td>0.00</td>\n",
       "      <td>42</td>\n",
       "      <td>10000</td>\n",
       "      <td>3.18</td>\n",
       "      <td>11</td>\n",
       "      <td>3.92</td>\n",
       "      <td>[{'id': 500, 'main': 'Rain', 'description': 'l...</td>\n",
       "      <td>0.2</td>\n",
       "      <td>{'1h': 0.15}</td>\n",
       "    </tr>\n",
       "    <tr>\n",
       "      <th>2</th>\n",
       "      <td>1635120000</td>\n",
       "      <td>20.04</td>\n",
       "      <td>19.98</td>\n",
       "      <td>1016</td>\n",
       "      <td>72</td>\n",
       "      <td>14.84</td>\n",
       "      <td>0.62</td>\n",
       "      <td>46</td>\n",
       "      <td>10000</td>\n",
       "      <td>3.07</td>\n",
       "      <td>8</td>\n",
       "      <td>3.75</td>\n",
       "      <td>[{'id': 500, 'main': 'Rain', 'description': 'l...</td>\n",
       "      <td>0.2</td>\n",
       "      <td>{'1h': 0.18}</td>\n",
       "    </tr>\n",
       "    <tr>\n",
       "      <th>3</th>\n",
       "      <td>1635123600</td>\n",
       "      <td>20.49</td>\n",
       "      <td>20.40</td>\n",
       "      <td>1017</td>\n",
       "      <td>69</td>\n",
       "      <td>14.61</td>\n",
       "      <td>1.96</td>\n",
       "      <td>71</td>\n",
       "      <td>10000</td>\n",
       "      <td>2.83</td>\n",
       "      <td>12</td>\n",
       "      <td>3.38</td>\n",
       "      <td>[{'id': 803, 'main': 'Clouds', 'description': ...</td>\n",
       "      <td>0.0</td>\n",
       "      <td>NaN</td>\n",
       "    </tr>\n",
       "    <tr>\n",
       "      <th>4</th>\n",
       "      <td>1635127200</td>\n",
       "      <td>21.35</td>\n",
       "      <td>21.26</td>\n",
       "      <td>1018</td>\n",
       "      <td>66</td>\n",
       "      <td>14.74</td>\n",
       "      <td>3.96</td>\n",
       "      <td>82</td>\n",
       "      <td>10000</td>\n",
       "      <td>2.68</td>\n",
       "      <td>20</td>\n",
       "      <td>3.37</td>\n",
       "      <td>[{'id': 803, 'main': 'Clouds', 'description': ...</td>\n",
       "      <td>0.0</td>\n",
       "      <td>NaN</td>\n",
       "    </tr>\n",
       "  </tbody>\n",
       "</table>\n",
       "</div>"
      ],
      "text/plain": [
       "           dt   temp  feels_like  pressure  humidity  dew_point   uvi  clouds  \\\n",
       "0  1635112800  20.20       20.21      1015        74      15.42  0.00      40   \n",
       "1  1635116400  20.01       19.97      1016        73      15.03  0.00      42   \n",
       "2  1635120000  20.04       19.98      1016        72      14.84  0.62      46   \n",
       "3  1635123600  20.49       20.40      1017        69      14.61  1.96      71   \n",
       "4  1635127200  21.35       21.26      1018        66      14.74  3.96      82   \n",
       "\n",
       "   visibility  wind_speed  wind_deg  wind_gust  \\\n",
       "0       10000        3.30        10       4.00   \n",
       "1       10000        3.18        11       3.92   \n",
       "2       10000        3.07         8       3.75   \n",
       "3       10000        2.83        12       3.38   \n",
       "4       10000        2.68        20       3.37   \n",
       "\n",
       "                                             weather  pop          rain  \n",
       "0  [{'id': 802, 'main': 'Clouds', 'description': ...  0.0           NaN  \n",
       "1  [{'id': 500, 'main': 'Rain', 'description': 'l...  0.2  {'1h': 0.15}  \n",
       "2  [{'id': 500, 'main': 'Rain', 'description': 'l...  0.2  {'1h': 0.18}  \n",
       "3  [{'id': 803, 'main': 'Clouds', 'description': ...  0.0           NaN  \n",
       "4  [{'id': 803, 'main': 'Clouds', 'description': ...  0.0           NaN  "
      ]
     },
     "execution_count": 10,
     "metadata": {},
     "output_type": "execute_result"
    }
   ],
   "source": [
    "df_hourly.head()"
   ]
  },
  {
   "cell_type": "code",
   "execution_count": null,
   "metadata": {},
   "outputs": [],
   "source": []
  }
 ],
 "metadata": {
  "interpreter": {
   "hash": "c1b4cfe941b6d2466ad1fb5979e97da9cda8801728c8091b097ab734208fc00c"
  },
  "kernelspec": {
   "display_name": "Python 3.8.3 64-bit ('base': conda)",
   "name": "python3"
  },
  "language_info": {
   "codemirror_mode": {
    "name": "ipython",
    "version": 3
   },
   "file_extension": ".py",
   "mimetype": "text/x-python",
   "name": "python",
   "nbconvert_exporter": "python",
   "pygments_lexer": "ipython3",
   "version": "3.8.12"
  }
 },
 "nbformat": 4,
 "nbformat_minor": 2
}
