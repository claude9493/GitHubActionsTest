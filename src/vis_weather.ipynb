{
 "cells": [
  {
   "cell_type": "code",
   "execution_count": 1,
   "metadata": {
    "execution": {
     "iopub.execute_input": "2021-10-02T23:12:09.309004Z",
     "iopub.status.busy": "2021-10-02T23:12:09.308061Z",
     "iopub.status.idle": "2021-10-02T23:12:10.857928Z",
     "shell.execute_reply": "2021-10-02T23:12:10.858630Z"
    }
   },
   "outputs": [],
   "source": [
    "import json, yaml, requests\r\n",
    "from datetime import datetime\r\n",
    "from dateutil import tz\r\n",
    "import pandas as pd\r\n",
    "from PIL import Image\r\n",
    "from io import BytesIO\r\n",
    "import matplotlib.pyplot as plt\r\n",
    "import seaborn\r\n",
    "\r\n",
    "CONFIG_PATH = \"../config/config.yaml\""
   ]
  },
  {
   "cell_type": "code",
   "execution_count": 2,
   "metadata": {
    "execution": {
     "iopub.execute_input": "2021-10-02T23:12:10.867987Z",
     "iopub.status.busy": "2021-10-02T23:12:10.864172Z",
     "iopub.status.idle": "2021-10-02T23:12:10.870778Z",
     "shell.execute_reply": "2021-10-02T23:12:10.871246Z"
    }
   },
   "outputs": [],
   "source": [
    "with open('../newest_ts', 'r') as f:\r\n",
    "    newest_ts = f.read()\r\n",
    "\r\n",
    "data_path = f\"../data/data_{newest_ts}.json\"\r\n",
    "with open(data_path, 'r') as f:\r\n",
    "    data = json.load(f)\r\n",
    "\r\n",
    "with open(CONFIG_PATH, \"r\") as stream:\r\n",
    "    config = yaml.safe_load(stream)\r\n",
    "\r\n",
    "TIME_ZONE = config['time_zone']\r\n",
    "DATETIME_FORMAT = config['dt_format']"
   ]
  },
  {
   "cell_type": "code",
   "execution_count": 3,
   "metadata": {
    "execution": {
     "iopub.execute_input": "2021-10-02T23:12:10.874274Z",
     "iopub.status.busy": "2021-10-02T23:12:10.873638Z",
     "iopub.status.idle": "2021-10-02T23:12:10.882958Z",
     "shell.execute_reply": "2021-10-02T23:12:10.883459Z"
    }
   },
   "outputs": [
    {
     "name": "stdout",
     "output_type": "stream",
     "text": [
      "Recent query happens at 2021-10-03 07:12:05 (CST).\n"
     ]
    }
   ],
   "source": [
    "def ts2dt(ts, format=DATETIME_FORMAT):\r\n",
    "    dt = (datetime.utcfromtimestamp(int(ts))\r\n",
    "                    .replace(tzinfo=tz.tzutc())\r\n",
    "                    # .astimezone(tz.tzlocal())\r\n",
    "                    .astimezone(tz.gettz(TIME_ZONE)))\r\n",
    "    return dt.strftime(format), dt\r\n",
    "\r\n",
    "_, newest_dt = ts2dt(newest_ts)\r\n",
    "print(f\"Recent query happens at {newest_dt.strftime(DATETIME_FORMAT)} ({newest_dt.tzname()}).\")"
   ]
  },
  {
   "cell_type": "code",
   "execution_count": 4,
   "metadata": {
    "execution": {
     "iopub.execute_input": "2021-10-02T23:12:10.888710Z",
     "iopub.status.busy": "2021-10-02T23:12:10.888088Z",
     "iopub.status.idle": "2021-10-02T23:12:10.890652Z",
     "shell.execute_reply": "2021-10-02T23:12:10.890056Z"
    }
   },
   "outputs": [],
   "source": [
    "def degrees_to_cardinal(d):\r\n",
    "  dirs = ['N', 'NNE', 'NE', 'ENE', 'E', 'ESE', 'SE', 'SSE', 'S', 'SSW', 'SW', 'WSW', 'W', 'WNW', 'NW', 'NNW']\r\n",
    "  ix = int(round(d / (360. / len(dirs))))\r\n",
    "  return dirs[ix % len(dirs)]"
   ]
  },
  {
   "cell_type": "code",
   "execution_count": 5,
   "metadata": {
    "execution": {
     "iopub.execute_input": "2021-10-02T23:12:10.896118Z",
     "iopub.status.busy": "2021-10-02T23:12:10.894229Z",
     "iopub.status.idle": "2021-10-02T23:12:10.896791Z",
     "shell.execute_reply": "2021-10-02T23:12:10.897284Z"
    }
   },
   "outputs": [],
   "source": [
    "# data.keys()"
   ]
  },
  {
   "cell_type": "code",
   "execution_count": 6,
   "metadata": {
    "execution": {
     "iopub.execute_input": "2021-10-02T23:12:10.902115Z",
     "iopub.status.busy": "2021-10-02T23:12:10.900718Z",
     "iopub.status.idle": "2021-10-02T23:12:10.902835Z",
     "shell.execute_reply": "2021-10-02T23:12:10.903340Z"
    }
   },
   "outputs": [],
   "source": [
    "# data['current']"
   ]
  },
  {
   "cell_type": "code",
   "execution_count": 7,
   "metadata": {
    "execution": {
     "iopub.execute_input": "2021-10-02T23:12:10.926510Z",
     "iopub.status.busy": "2021-10-02T23:12:10.925885Z",
     "iopub.status.idle": "2021-10-02T23:12:11.357824Z",
     "shell.execute_reply": "2021-10-02T23:12:11.358739Z"
    }
   },
   "outputs": [
    {
     "data": {
      "image/png": "[encoded data removed]",
      "text/plain": [
       "<Figure size 216x216 with 1 Axes>"
      ]
     },
     "metadata": {
      "needs_background": "light"
     },
     "output_type": "display_data"
    },
    {
     "name": "stdout",
     "output_type": "stream",
     "text": [
      "Today, sun rises at 06:14 and sets at 18:09.\n",
      "Currently, the weather is Clouds (scattered clouds).\n",
      "The temperature is 27.35°C and it feels like 31.62°C.\n",
      "The UV index is 0.15, humidity is 89%.\n",
      "The pressure is 1011 hPa, percentage of cloud cover is 29%\n",
      "The wind comes from N direction with a speed 0.45 m/s.\n"
     ]
    }
   ],
   "source": [
    "current = data['current']\r\n",
    "\r\n",
    "fig, ax = plt.subplots(figsize=(3, 3))\r\n",
    "icon = requests.get(f\"http://openweathermap.org/img/wn/{current['weather'][0]['icon']}@2x.png\")\r\n",
    "im = Image.open(BytesIO(icon.content))\r\n",
    "plt.imshow(im)\r\n",
    "ax.set_axis_off()\r\n",
    "plt.show()\r\n",
    "\r\n",
    "print(f\"Today, sun rises at {ts2dt(current['sunrise'], '%H:%M')[0]} \\\r\n",
    "and sets at {ts2dt(current['sunset'], '%H:%M')[0]}.\\n\\\r\n",
    "Currently, the weather is {current['weather'][0]['main']} ({current['weather'][0]['description']}).\\n\\\r\n",
    "The temperature is {current['temp']}°C and it feels like {current['feels_like']}°C.\\n\\\r\n",
    "The UV index is {current['uvi']}, humidity is {current['humidity']}%.\\n\\\r\n",
    "The pressure is {current['pressure']} hPa, percentage of cloud cover is {current['clouds']}%\\n\\\r\n",
    "The wind comes from {degrees_to_cardinal(current['wind_deg'])} direction with a speed {current['wind_speed']} m/s.\")"
   ]
  },
  {
   "cell_type": "code",
   "execution_count": 8,
   "metadata": {
    "execution": {
     "iopub.execute_input": "2021-10-02T23:12:11.368773Z",
     "iopub.status.busy": "2021-10-02T23:12:11.367759Z",
     "iopub.status.idle": "2021-10-02T23:12:11.371496Z",
     "shell.execute_reply": "2021-10-02T23:12:11.372280Z"
    }
   },
   "outputs": [],
   "source": [
    "df_hourly = pd.DataFrame(data['hourly'])\r\n",
    "df_daily = pd.DataFrame(data['daily'])"
   ]
  },
  {
   "cell_type": "code",
   "execution_count": 9,
   "metadata": {
    "execution": {
     "iopub.execute_input": "2021-10-02T23:12:11.393320Z",
     "iopub.status.busy": "2021-10-02T23:12:11.392588Z",
     "iopub.status.idle": "2021-10-02T23:12:11.747537Z",
     "shell.execute_reply": "2021-10-02T23:12:11.748008Z"
    }
   },
   "outputs": [
    {
     "data": {
      "image/png": "[encoded data removed]",
      "text/plain": [
       "<Figure size 864x432 with 1 Axes>"
      ]
     },
     "metadata": {
      "needs_background": "light"
     },
     "output_type": "display_data"
    }
   ],
   "source": [
    "fig, ax = plt.subplots(figsize=(12, 6))\r\n",
    "plt.plot(df_hourly.temp, '.-', label='Temperature')\r\n",
    "plt.plot(df_hourly.feels_like, '.-', label='Feels Like')\r\n",
    "ax.set(title='Temperature in future 48 hours', xlabel='Time', ylabel='Temperature')\r\n",
    "ax.set_xticks(list(range(0, len(df_hourly), 2)))\r\n",
    "ax.set_xticklabels([ts2dt(ts, '%m-%d %H:%M')[0] for i, ts in enumerate(df_hourly.dt) if i%2==0], \r\n",
    "                   rotation=45, ha=\"right\")\r\n",
    "ax.locator_params(nbins=15, axis='y')\r\n",
    "plt.legend()\r\n",
    "plt.show()"
   ]
  },
  {
   "cell_type": "code",
   "execution_count": 10,
   "metadata": {
    "execution": {
     "iopub.execute_input": "2021-10-02T23:12:11.762254Z",
     "iopub.status.busy": "2021-10-02T23:12:11.752729Z",
     "iopub.status.idle": "2021-10-02T23:12:11.777612Z",
     "shell.execute_reply": "2021-10-02T23:12:11.778097Z"
    }
   },
   "outputs": [
    {
     "data": {
      "text/html": [
       "<div>\n",
       "<style scoped>\n",
       "    .dataframe tbody tr th:only-of-type {\n",
       "        vertical-align: middle;\n",
       "    }\n",
       "\n",
       "    .dataframe tbody tr th {\n",
       "        vertical-align: top;\n",
       "    }\n",
       "\n",
       "    .dataframe thead th {\n",
       "        text-align: right;\n",
       "    }\n",
       "</style>\n",
       "<table border=\"1\" class=\"dataframe\">\n",
       "  <thead>\n",
       "    <tr style=\"text-align: right;\">\n",
       "      <th></th>\n",
       "      <th>dt</th>\n",
       "      <th>temp</th>\n",
       "      <th>feels_like</th>\n",
       "      <th>pressure</th>\n",
       "      <th>humidity</th>\n",
       "      <th>dew_point</th>\n",
       "      <th>uvi</th>\n",
       "      <th>clouds</th>\n",
       "      <th>visibility</th>\n",
       "      <th>wind_speed</th>\n",
       "      <th>wind_deg</th>\n",
       "      <th>wind_gust</th>\n",
       "      <th>weather</th>\n",
       "      <th>pop</th>\n",
       "      <th>rain</th>\n",
       "    </tr>\n",
       "  </thead>\n",
       "  <tbody>\n",
       "    <tr>\n",
       "      <th>0</th>\n",
       "      <td>1633215600</td>\n",
       "      <td>27.35</td>\n",
       "      <td>31.62</td>\n",
       "      <td>1011</td>\n",
       "      <td>89</td>\n",
       "      <td>25.37</td>\n",
       "      <td>0.15</td>\n",
       "      <td>29</td>\n",
       "      <td>10000</td>\n",
       "      <td>5.15</td>\n",
       "      <td>91</td>\n",
       "      <td>6.61</td>\n",
       "      <td>[{'id': 500, 'main': 'Rain', 'description': 'l...</td>\n",
       "      <td>0.97</td>\n",
       "      <td>{'1h': 0.65}</td>\n",
       "    </tr>\n",
       "    <tr>\n",
       "      <th>1</th>\n",
       "      <td>1633219200</td>\n",
       "      <td>27.41</td>\n",
       "      <td>31.41</td>\n",
       "      <td>1011</td>\n",
       "      <td>86</td>\n",
       "      <td>24.86</td>\n",
       "      <td>0.94</td>\n",
       "      <td>29</td>\n",
       "      <td>10000</td>\n",
       "      <td>5.67</td>\n",
       "      <td>89</td>\n",
       "      <td>7.16</td>\n",
       "      <td>[{'id': 802, 'main': 'Clouds', 'description': ...</td>\n",
       "      <td>0.77</td>\n",
       "      <td>NaN</td>\n",
       "    </tr>\n",
       "    <tr>\n",
       "      <th>2</th>\n",
       "      <td>1633222800</td>\n",
       "      <td>27.61</td>\n",
       "      <td>31.54</td>\n",
       "      <td>1012</td>\n",
       "      <td>83</td>\n",
       "      <td>24.46</td>\n",
       "      <td>2.81</td>\n",
       "      <td>36</td>\n",
       "      <td>10000</td>\n",
       "      <td>6.25</td>\n",
       "      <td>91</td>\n",
       "      <td>7.57</td>\n",
       "      <td>[{'id': 802, 'main': 'Clouds', 'description': ...</td>\n",
       "      <td>0.83</td>\n",
       "      <td>NaN</td>\n",
       "    </tr>\n",
       "    <tr>\n",
       "      <th>3</th>\n",
       "      <td>1633226400</td>\n",
       "      <td>28.08</td>\n",
       "      <td>32.30</td>\n",
       "      <td>1013</td>\n",
       "      <td>80</td>\n",
       "      <td>24.30</td>\n",
       "      <td>5.41</td>\n",
       "      <td>38</td>\n",
       "      <td>10000</td>\n",
       "      <td>6.33</td>\n",
       "      <td>94</td>\n",
       "      <td>7.50</td>\n",
       "      <td>[{'id': 500, 'main': 'Rain', 'description': 'l...</td>\n",
       "      <td>0.86</td>\n",
       "      <td>{'1h': 0.41}</td>\n",
       "    </tr>\n",
       "    <tr>\n",
       "      <th>4</th>\n",
       "      <td>1633230000</td>\n",
       "      <td>28.70</td>\n",
       "      <td>32.96</td>\n",
       "      <td>1013</td>\n",
       "      <td>75</td>\n",
       "      <td>23.83</td>\n",
       "      <td>7.91</td>\n",
       "      <td>47</td>\n",
       "      <td>10000</td>\n",
       "      <td>6.39</td>\n",
       "      <td>98</td>\n",
       "      <td>7.36</td>\n",
       "      <td>[{'id': 500, 'main': 'Rain', 'description': 'l...</td>\n",
       "      <td>0.83</td>\n",
       "      <td>{'1h': 0.16}</td>\n",
       "    </tr>\n",
       "  </tbody>\n",
       "</table>\n",
       "</div>"
      ],
      "text/plain": [
       "           dt   temp  feels_like  pressure  humidity  dew_point   uvi  clouds  \\\n",
       "0  1633215600  27.35       31.62      1011        89      25.37  0.15      29   \n",
       "1  1633219200  27.41       31.41      1011        86      24.86  0.94      29   \n",
       "2  1633222800  27.61       31.54      1012        83      24.46  2.81      36   \n",
       "3  1633226400  28.08       32.30      1013        80      24.30  5.41      38   \n",
       "4  1633230000  28.70       32.96      1013        75      23.83  7.91      47   \n",
       "\n",
       "   visibility  wind_speed  wind_deg  wind_gust  \\\n",
       "0       10000        5.15        91       6.61   \n",
       "1       10000        5.67        89       7.16   \n",
       "2       10000        6.25        91       7.57   \n",
       "3       10000        6.33        94       7.50   \n",
       "4       10000        6.39        98       7.36   \n",
       "\n",
       "                                             weather   pop          rain  \n",
       "0  [{'id': 500, 'main': 'Rain', 'description': 'l...  0.97  {'1h': 0.65}  \n",
       "1  [{'id': 802, 'main': 'Clouds', 'description': ...  0.77           NaN  \n",
       "2  [{'id': 802, 'main': 'Clouds', 'description': ...  0.83           NaN  \n",
       "3  [{'id': 500, 'main': 'Rain', 'description': 'l...  0.86  {'1h': 0.41}  \n",
       "4  [{'id': 500, 'main': 'Rain', 'description': 'l...  0.83  {'1h': 0.16}  "
      ]
     },
     "execution_count": 10,
     "metadata": {},
     "output_type": "execute_result"
    }
   ],
   "source": [
    "df_hourly.head()"
   ]
  },
  {
   "cell_type": "code",
   "execution_count": null,
   "metadata": {},
   "outputs": [],
   "source": []
  }
 ],
 "metadata": {
  "interpreter": {
   "hash": "c1b4cfe941b6d2466ad1fb5979e97da9cda8801728c8091b097ab734208fc00c"
  },
  "kernelspec": {
   "display_name": "Python 3.8.3 64-bit ('base': conda)",
   "name": "python3"
  },
  "language_info": {
   "codemirror_mode": {
    "name": "ipython",
    "version": 3
   },
   "file_extension": ".py",
   "mimetype": "text/x-python",
   "name": "python",
   "nbconvert_exporter": "python",
   "pygments_lexer": "ipython3",
   "version": "3.8.12"
  }
 },
 "nbformat": 4,
 "nbformat_minor": 2
}
