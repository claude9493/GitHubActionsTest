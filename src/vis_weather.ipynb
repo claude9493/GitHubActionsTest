{
 "cells": [
  {
   "cell_type": "code",
   "execution_count": 1,
   "metadata": {
    "execution": {
     "iopub.execute_input": "2021-09-13T09:11:42.115919Z",
     "iopub.status.busy": "2021-09-13T09:11:42.115271Z",
     "iopub.status.idle": "2021-09-13T09:11:45.120797Z",
     "shell.execute_reply": "2021-09-13T09:11:45.121213Z"
    }
   },
   "outputs": [],
   "source": [
    "import json, yaml, requests\r\n",
    "from datetime import datetime\r\n",
    "from dateutil import tz\r\n",
    "import pandas as pd\r\n",
    "from PIL import Image\r\n",
    "from io import BytesIO\r\n",
    "import matplotlib.pyplot as plt\r\n",
    "import seaborn\r\n",
    "\r\n",
    "CONFIG_PATH = \"../config/config.yaml\""
   ]
  },
  {
   "cell_type": "code",
   "execution_count": 2,
   "metadata": {
    "execution": {
     "iopub.execute_input": "2021-09-13T09:11:45.126685Z",
     "iopub.status.busy": "2021-09-13T09:11:45.126137Z",
     "iopub.status.idle": "2021-09-13T09:11:45.132363Z",
     "shell.execute_reply": "2021-09-13T09:11:45.131044Z"
    }
   },
   "outputs": [],
   "source": [
    "with open('../newest_ts', 'r') as f:\r\n",
    "    newest_ts = f.read()\r\n",
    "\r\n",
    "data_path = f\"../data/data_{newest_ts}.json\"\r\n",
    "with open(data_path, 'r') as f:\r\n",
    "    data = json.load(f)\r\n",
    "\r\n",
    "with open(CONFIG_PATH, \"r\") as stream:\r\n",
    "    config = yaml.safe_load(stream)\r\n",
    "\r\n",
    "TIME_ZONE = config['time_zone']\r\n",
    "DATETIME_FORMAT = config['dt_format']"
   ]
  },
  {
   "cell_type": "code",
   "execution_count": 3,
   "metadata": {
    "execution": {
     "iopub.execute_input": "2021-09-13T09:11:45.137660Z",
     "iopub.status.busy": "2021-09-13T09:11:45.137140Z",
     "iopub.status.idle": "2021-09-13T09:11:45.148536Z",
     "shell.execute_reply": "2021-09-13T09:11:45.148944Z"
    }
   },
   "outputs": [
    {
     "name": "stdout",
     "output_type": "stream",
     "text": [
      "Recent query happens at 2021-09-13 17:11:38 (CST).\n"
     ]
    }
   ],
   "source": [
    "def ts2dt(ts, format=DATETIME_FORMAT):\r\n",
    "    dt = (datetime.utcfromtimestamp(int(ts))\r\n",
    "                    .replace(tzinfo=tz.tzutc())\r\n",
    "                    # .astimezone(tz.tzlocal())\r\n",
    "                    .astimezone(tz.gettz(TIME_ZONE)))\r\n",
    "    return dt.strftime(format), dt\r\n",
    "\r\n",
    "_, newest_dt = ts2dt(newest_ts)\r\n",
    "print(f\"Recent query happens at {newest_dt.strftime(DATETIME_FORMAT)} ({newest_dt.tzname()}).\")"
   ]
  },
  {
   "cell_type": "code",
   "execution_count": 4,
   "metadata": {
    "execution": {
     "iopub.execute_input": "2021-09-13T09:11:45.154565Z",
     "iopub.status.busy": "2021-09-13T09:11:45.153258Z",
     "iopub.status.idle": "2021-09-13T09:11:45.155180Z",
     "shell.execute_reply": "2021-09-13T09:11:45.155625Z"
    }
   },
   "outputs": [],
   "source": [
    "def degrees_to_cardinal(d):\r\n",
    "  dirs = ['N', 'NNE', 'NE', 'ENE', 'E', 'ESE', 'SE', 'SSE', 'S', 'SSW', 'SW', 'WSW', 'W', 'WNW', 'NW', 'NNW']\r\n",
    "  ix = int(round(d / (360. / len(dirs))))\r\n",
    "  return dirs[ix % len(dirs)]"
   ]
  },
  {
   "cell_type": "code",
   "execution_count": 5,
   "metadata": {
    "execution": {
     "iopub.execute_input": "2021-09-13T09:11:45.160394Z",
     "iopub.status.busy": "2021-09-13T09:11:45.159051Z",
     "iopub.status.idle": "2021-09-13T09:11:45.161003Z",
     "shell.execute_reply": "2021-09-13T09:11:45.161437Z"
    }
   },
   "outputs": [],
   "source": [
    "# data.keys()"
   ]
  },
  {
   "cell_type": "code",
   "execution_count": 6,
   "metadata": {
    "execution": {
     "iopub.execute_input": "2021-09-13T09:11:45.166031Z",
     "iopub.status.busy": "2021-09-13T09:11:45.164655Z",
     "iopub.status.idle": "2021-09-13T09:11:45.166663Z",
     "shell.execute_reply": "2021-09-13T09:11:45.167134Z"
    }
   },
   "outputs": [],
   "source": [
    "# data['current']"
   ]
  },
  {
   "cell_type": "code",
   "execution_count": 7,
   "metadata": {
    "execution": {
     "iopub.execute_input": "2021-09-13T09:11:45.186429Z",
     "iopub.status.busy": "2021-09-13T09:11:45.185832Z",
     "iopub.status.idle": "2021-09-13T09:11:45.788467Z",
     "shell.execute_reply": "2021-09-13T09:11:45.789144Z"
    }
   },
   "outputs": [
    {
     "data": {
      "image/png": "[encoded data removed]",
      "text/plain": [
       "<Figure size 216x216 with 1 Axes>"
      ]
     },
     "metadata": {
      "needs_background": "light"
     },
     "output_type": "display_data"
    },
    {
     "name": "stdout",
     "output_type": "stream",
     "text": [
      "Today, sun rises at 06:09 and sets at 18:29.\n",
      "Currently, the weather is Clouds (broken clouds).\n",
      "The temperature is 32.75°C and it feels like 39.75°C.\n",
      "The UV index is 1.02, humidity is 71%.\n",
      "The pressure is 1006 hPa, percentage of cloud cover is 70%\n",
      "The wind comes from SSW direction with a speed 4.05 m/s.\n"
     ]
    }
   ],
   "source": [
    "current = data['current']\r\n",
    "\r\n",
    "fig, ax = plt.subplots(figsize=(3, 3))\r\n",
    "icon = requests.get(f\"http://openweathermap.org/img/wn/{current['weather'][0]['icon']}@2x.png\")\r\n",
    "im = Image.open(BytesIO(icon.content))\r\n",
    "plt.imshow(im)\r\n",
    "ax.set_axis_off()\r\n",
    "plt.show()\r\n",
    "\r\n",
    "print(f\"Today, sun rises at {ts2dt(current['sunrise'], '%H:%M')[0]} \\\r\n",
    "and sets at {ts2dt(current['sunset'], '%H:%M')[0]}.\\n\\\r\n",
    "Currently, the weather is {current['weather'][0]['main']} ({current['weather'][0]['description']}).\\n\\\r\n",
    "The temperature is {current['temp']}°C and it feels like {current['feels_like']}°C.\\n\\\r\n",
    "The UV index is {current['uvi']}, humidity is {current['humidity']}%.\\n\\\r\n",
    "The pressure is {current['pressure']} hPa, percentage of cloud cover is {current['clouds']}%\\n\\\r\n",
    "The wind comes from {degrees_to_cardinal(current['wind_deg'])} direction with a speed {current['wind_speed']} m/s.\")"
   ]
  },
  {
   "cell_type": "code",
   "execution_count": 8,
   "metadata": {
    "execution": {
     "iopub.execute_input": "2021-09-13T09:11:45.792775Z",
     "iopub.status.busy": "2021-09-13T09:11:45.791841Z",
     "iopub.status.idle": "2021-09-13T09:11:45.799254Z",
     "shell.execute_reply": "2021-09-13T09:11:45.800079Z"
    }
   },
   "outputs": [],
   "source": [
    "df_hourly = pd.DataFrame(data['hourly'])\r\n",
    "df_daily = pd.DataFrame(data['daily'])"
   ]
  },
  {
   "cell_type": "code",
   "execution_count": 9,
   "metadata": {
    "execution": {
     "iopub.execute_input": "2021-09-13T09:11:45.803529Z",
     "iopub.status.busy": "2021-09-13T09:11:45.802529Z",
     "iopub.status.idle": "2021-09-13T09:11:46.132463Z",
     "shell.execute_reply": "2021-09-13T09:11:46.132860Z"
    }
   },
   "outputs": [
    {
     "data": {
      "image/png": "[encoded data removed]",
      "text/plain": [
       "<Figure size 864x432 with 1 Axes>"
      ]
     },
     "metadata": {
      "needs_background": "light"
     },
     "output_type": "display_data"
    }
   ],
   "source": [
    "fig, ax = plt.subplots(figsize=(12, 6))\r\n",
    "plt.plot(df_hourly.temp, '.-', label='Temperature')\r\n",
    "plt.plot(df_hourly.feels_like, '.-', label='Feels Like')\r\n",
    "ax.set(title='Temperature in future 48 hours', xlabel='Time', ylabel='Temperature')\r\n",
    "ax.set_xticks(list(range(0, len(df_hourly), 2)))\r\n",
    "ax.set_xticklabels([ts2dt(ts, '%m-%d %H:%M')[0] for i, ts in enumerate(df_hourly.dt) if i%2==0], \r\n",
    "                   rotation=45, ha=\"right\")\r\n",
    "ax.locator_params(nbins=15, axis='y')\r\n",
    "plt.legend()\r\n",
    "plt.show()"
   ]
  },
  {
   "cell_type": "code",
   "execution_count": 10,
   "metadata": {
    "execution": {
     "iopub.execute_input": "2021-09-13T09:11:46.137254Z",
     "iopub.status.busy": "2021-09-13T09:11:46.135456Z",
     "iopub.status.idle": "2021-09-13T09:11:46.156775Z",
     "shell.execute_reply": "2021-09-13T09:11:46.157179Z"
    }
   },
   "outputs": [
    {
     "data": {
      "text/html": [
       "<div>\n",
       "<style scoped>\n",
       "    .dataframe tbody tr th:only-of-type {\n",
       "        vertical-align: middle;\n",
       "    }\n",
       "\n",
       "    .dataframe tbody tr th {\n",
       "        vertical-align: top;\n",
       "    }\n",
       "\n",
       "    .dataframe thead th {\n",
       "        text-align: right;\n",
       "    }\n",
       "</style>\n",
       "<table border=\"1\" class=\"dataframe\">\n",
       "  <thead>\n",
       "    <tr style=\"text-align: right;\">\n",
       "      <th></th>\n",
       "      <th>dt</th>\n",
       "      <th>temp</th>\n",
       "      <th>feels_like</th>\n",
       "      <th>pressure</th>\n",
       "      <th>humidity</th>\n",
       "      <th>dew_point</th>\n",
       "      <th>uvi</th>\n",
       "      <th>clouds</th>\n",
       "      <th>visibility</th>\n",
       "      <th>wind_speed</th>\n",
       "      <th>wind_deg</th>\n",
       "      <th>wind_gust</th>\n",
       "      <th>weather</th>\n",
       "      <th>pop</th>\n",
       "      <th>rain</th>\n",
       "    </tr>\n",
       "  </thead>\n",
       "  <tbody>\n",
       "    <tr>\n",
       "      <th>0</th>\n",
       "      <td>1631523600</td>\n",
       "      <td>32.75</td>\n",
       "      <td>39.75</td>\n",
       "      <td>1006</td>\n",
       "      <td>71</td>\n",
       "      <td>26.79</td>\n",
       "      <td>1.02</td>\n",
       "      <td>70</td>\n",
       "      <td>10000</td>\n",
       "      <td>4.05</td>\n",
       "      <td>200</td>\n",
       "      <td>3.64</td>\n",
       "      <td>[{'id': 803, 'main': 'Clouds', 'description': ...</td>\n",
       "      <td>0.00</td>\n",
       "      <td>NaN</td>\n",
       "    </tr>\n",
       "    <tr>\n",
       "      <th>1</th>\n",
       "      <td>1631527200</td>\n",
       "      <td>32.12</td>\n",
       "      <td>39.12</td>\n",
       "      <td>1006</td>\n",
       "      <td>72</td>\n",
       "      <td>26.43</td>\n",
       "      <td>0.16</td>\n",
       "      <td>71</td>\n",
       "      <td>10000</td>\n",
       "      <td>3.72</td>\n",
       "      <td>203</td>\n",
       "      <td>4.14</td>\n",
       "      <td>[{'id': 803, 'main': 'Clouds', 'description': ...</td>\n",
       "      <td>0.00</td>\n",
       "      <td>NaN</td>\n",
       "    </tr>\n",
       "    <tr>\n",
       "      <th>2</th>\n",
       "      <td>1631530800</td>\n",
       "      <td>31.21</td>\n",
       "      <td>38.21</td>\n",
       "      <td>1006</td>\n",
       "      <td>75</td>\n",
       "      <td>26.25</td>\n",
       "      <td>0.00</td>\n",
       "      <td>74</td>\n",
       "      <td>10000</td>\n",
       "      <td>3.04</td>\n",
       "      <td>202</td>\n",
       "      <td>3.56</td>\n",
       "      <td>[{'id': 803, 'main': 'Clouds', 'description': ...</td>\n",
       "      <td>0.00</td>\n",
       "      <td>NaN</td>\n",
       "    </tr>\n",
       "    <tr>\n",
       "      <th>3</th>\n",
       "      <td>1631534400</td>\n",
       "      <td>30.30</td>\n",
       "      <td>37.30</td>\n",
       "      <td>1007</td>\n",
       "      <td>77</td>\n",
       "      <td>25.81</td>\n",
       "      <td>0.00</td>\n",
       "      <td>75</td>\n",
       "      <td>10000</td>\n",
       "      <td>3.01</td>\n",
       "      <td>203</td>\n",
       "      <td>3.73</td>\n",
       "      <td>[{'id': 500, 'main': 'Rain', 'description': 'l...</td>\n",
       "      <td>0.20</td>\n",
       "      <td>{'1h': 0.1}</td>\n",
       "    </tr>\n",
       "    <tr>\n",
       "      <th>4</th>\n",
       "      <td>1631538000</td>\n",
       "      <td>29.36</td>\n",
       "      <td>35.76</td>\n",
       "      <td>1008</td>\n",
       "      <td>80</td>\n",
       "      <td>25.55</td>\n",
       "      <td>0.00</td>\n",
       "      <td>38</td>\n",
       "      <td>10000</td>\n",
       "      <td>2.90</td>\n",
       "      <td>201</td>\n",
       "      <td>3.77</td>\n",
       "      <td>[{'id': 802, 'main': 'Clouds', 'description': ...</td>\n",
       "      <td>0.38</td>\n",
       "      <td>NaN</td>\n",
       "    </tr>\n",
       "  </tbody>\n",
       "</table>\n",
       "</div>"
      ],
      "text/plain": [
       "           dt   temp  feels_like  pressure  humidity  dew_point   uvi  clouds  \\\n",
       "0  1631523600  32.75       39.75      1006        71      26.79  1.02      70   \n",
       "1  1631527200  32.12       39.12      1006        72      26.43  0.16      71   \n",
       "2  1631530800  31.21       38.21      1006        75      26.25  0.00      74   \n",
       "3  1631534400  30.30       37.30      1007        77      25.81  0.00      75   \n",
       "4  1631538000  29.36       35.76      1008        80      25.55  0.00      38   \n",
       "\n",
       "   visibility  wind_speed  wind_deg  wind_gust  \\\n",
       "0       10000        4.05       200       3.64   \n",
       "1       10000        3.72       203       4.14   \n",
       "2       10000        3.04       202       3.56   \n",
       "3       10000        3.01       203       3.73   \n",
       "4       10000        2.90       201       3.77   \n",
       "\n",
       "                                             weather   pop         rain  \n",
       "0  [{'id': 803, 'main': 'Clouds', 'description': ...  0.00          NaN  \n",
       "1  [{'id': 803, 'main': 'Clouds', 'description': ...  0.00          NaN  \n",
       "2  [{'id': 803, 'main': 'Clouds', 'description': ...  0.00          NaN  \n",
       "3  [{'id': 500, 'main': 'Rain', 'description': 'l...  0.20  {'1h': 0.1}  \n",
       "4  [{'id': 802, 'main': 'Clouds', 'description': ...  0.38          NaN  "
      ]
     },
     "execution_count": 10,
     "metadata": {},
     "output_type": "execute_result"
    }
   ],
   "source": [
    "df_hourly.head()"
   ]
  },
  {
   "cell_type": "code",
   "execution_count": null,
   "metadata": {},
   "outputs": [],
   "source": []
  }
 ],
 "metadata": {
  "interpreter": {
   "hash": "c1b4cfe941b6d2466ad1fb5979e97da9cda8801728c8091b097ab734208fc00c"
  },
  "kernelspec": {
   "display_name": "Python 3.8.3 64-bit ('base': conda)",
   "name": "python3"
  },
  "language_info": {
   "codemirror_mode": {
    "name": "ipython",
    "version": 3
   },
   "file_extension": ".py",
   "mimetype": "text/x-python",
   "name": "python",
   "nbconvert_exporter": "python",
   "pygments_lexer": "ipython3",
   "version": "3.8.11"
  }
 },
 "nbformat": 4,
 "nbformat_minor": 2
}
