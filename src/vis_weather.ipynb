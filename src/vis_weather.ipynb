{
 "cells": [
  {
   "cell_type": "code",
   "execution_count": 1,
   "metadata": {
    "execution": {
     "iopub.execute_input": "2021-10-20T23:12:22.483739Z",
     "iopub.status.busy": "2021-10-20T23:12:22.483196Z",
     "iopub.status.idle": "2021-10-20T23:12:25.735287Z",
     "shell.execute_reply": "2021-10-20T23:12:25.735724Z"
    }
   },
   "outputs": [],
   "source": [
    "import json, yaml, requests\r\n",
    "from datetime import datetime\r\n",
    "from dateutil import tz\r\n",
    "import pandas as pd\r\n",
    "from PIL import Image\r\n",
    "from io import BytesIO\r\n",
    "import matplotlib.pyplot as plt\r\n",
    "import seaborn\r\n",
    "\r\n",
    "CONFIG_PATH = \"../config/config.yaml\""
   ]
  },
  {
   "cell_type": "code",
   "execution_count": 2,
   "metadata": {
    "execution": {
     "iopub.execute_input": "2021-10-20T23:12:25.740825Z",
     "iopub.status.busy": "2021-10-20T23:12:25.740295Z",
     "iopub.status.idle": "2021-10-20T23:12:25.745311Z",
     "shell.execute_reply": "2021-10-20T23:12:25.744896Z"
    }
   },
   "outputs": [],
   "source": [
    "with open('../newest_ts', 'r') as f:\r\n",
    "    newest_ts = f.read()\r\n",
    "\r\n",
    "data_path = f\"../data/data_{newest_ts}.json\"\r\n",
    "with open(data_path, 'r') as f:\r\n",
    "    data = json.load(f)\r\n",
    "\r\n",
    "with open(CONFIG_PATH, \"r\") as stream:\r\n",
    "    config = yaml.safe_load(stream)\r\n",
    "\r\n",
    "TIME_ZONE = config['time_zone']\r\n",
    "DATETIME_FORMAT = config['dt_format']"
   ]
  },
  {
   "cell_type": "code",
   "execution_count": 3,
   "metadata": {
    "execution": {
     "iopub.execute_input": "2021-10-20T23:12:25.750270Z",
     "iopub.status.busy": "2021-10-20T23:12:25.749671Z",
     "iopub.status.idle": "2021-10-20T23:12:25.755387Z",
     "shell.execute_reply": "2021-10-20T23:12:25.755774Z"
    }
   },
   "outputs": [
    {
     "name": "stdout",
     "output_type": "stream",
     "text": [
      "Recent query happens at 2021-10-21 07:12:19 (CST).\n"
     ]
    }
   ],
   "source": [
    "def ts2dt(ts, format=DATETIME_FORMAT):\r\n",
    "    dt = (datetime.utcfromtimestamp(int(ts))\r\n",
    "                    .replace(tzinfo=tz.tzutc())\r\n",
    "                    # .astimezone(tz.tzlocal())\r\n",
    "                    .astimezone(tz.gettz(TIME_ZONE)))\r\n",
    "    return dt.strftime(format), dt\r\n",
    "\r\n",
    "_, newest_dt = ts2dt(newest_ts)\r\n",
    "print(f\"Recent query happens at {newest_dt.strftime(DATETIME_FORMAT)} ({newest_dt.tzname()}).\")"
   ]
  },
  {
   "cell_type": "code",
   "execution_count": 4,
   "metadata": {
    "execution": {
     "iopub.execute_input": "2021-10-20T23:12:25.760000Z",
     "iopub.status.busy": "2021-10-20T23:12:25.759531Z",
     "iopub.status.idle": "2021-10-20T23:12:25.761471Z",
     "shell.execute_reply": "2021-10-20T23:12:25.761832Z"
    }
   },
   "outputs": [],
   "source": [
    "def degrees_to_cardinal(d):\r\n",
    "  dirs = ['N', 'NNE', 'NE', 'ENE', 'E', 'ESE', 'SE', 'SSE', 'S', 'SSW', 'SW', 'WSW', 'W', 'WNW', 'NW', 'NNW']\r\n",
    "  ix = int(round(d / (360. / len(dirs))))\r\n",
    "  return dirs[ix % len(dirs)]"
   ]
  },
  {
   "cell_type": "code",
   "execution_count": 5,
   "metadata": {
    "execution": {
     "iopub.execute_input": "2021-10-20T23:12:25.766164Z",
     "iopub.status.busy": "2021-10-20T23:12:25.764996Z",
     "iopub.status.idle": "2021-10-20T23:12:25.766674Z",
     "shell.execute_reply": "2021-10-20T23:12:25.767055Z"
    }
   },
   "outputs": [],
   "source": [
    "# data.keys()"
   ]
  },
  {
   "cell_type": "code",
   "execution_count": 6,
   "metadata": {
    "execution": {
     "iopub.execute_input": "2021-10-20T23:12:25.771663Z",
     "iopub.status.busy": "2021-10-20T23:12:25.770420Z",
     "iopub.status.idle": "2021-10-20T23:12:25.772209Z",
     "shell.execute_reply": "2021-10-20T23:12:25.772636Z"
    }
   },
   "outputs": [],
   "source": [
    "# data['current']"
   ]
  },
  {
   "cell_type": "code",
   "execution_count": 7,
   "metadata": {
    "execution": {
     "iopub.execute_input": "2021-10-20T23:12:25.791202Z",
     "iopub.status.busy": "2021-10-20T23:12:25.781800Z",
     "iopub.status.idle": "2021-10-20T23:12:26.253774Z",
     "shell.execute_reply": "2021-10-20T23:12:26.254453Z"
    }
   },
   "outputs": [
    {
     "data": {
      "image/png": "[encoded data removed]",
      "text/plain": [
       "<Figure size 216x216 with 1 Axes>"
      ]
     },
     "metadata": {
      "needs_background": "light"
     },
     "output_type": "display_data"
    },
    {
     "name": "stdout",
     "output_type": "stream",
     "text": [
      "Today, sun rises at 06:21 and sets at 17:53.\n",
      "Currently, the weather is Clouds (overcast clouds).\n",
      "The temperature is 25.58°C and it feels like 26.47°C.\n",
      "The UV index is 0, humidity is 87%.\n",
      "The pressure is 1018 hPa, percentage of cloud cover is 89%\n",
      "The wind comes from E direction with a speed 1.79 m/s.\n"
     ]
    }
   ],
   "source": [
    "current = data['current']\r\n",
    "\r\n",
    "fig, ax = plt.subplots(figsize=(3, 3))\r\n",
    "icon = requests.get(f\"http://openweathermap.org/img/wn/{current['weather'][0]['icon']}@2x.png\")\r\n",
    "im = Image.open(BytesIO(icon.content))\r\n",
    "plt.imshow(im)\r\n",
    "ax.set_axis_off()\r\n",
    "plt.show()\r\n",
    "\r\n",
    "print(f\"Today, sun rises at {ts2dt(current['sunrise'], '%H:%M')[0]} \\\r\n",
    "and sets at {ts2dt(current['sunset'], '%H:%M')[0]}.\\n\\\r\n",
    "Currently, the weather is {current['weather'][0]['main']} ({current['weather'][0]['description']}).\\n\\\r\n",
    "The temperature is {current['temp']}°C and it feels like {current['feels_like']}°C.\\n\\\r\n",
    "The UV index is {current['uvi']}, humidity is {current['humidity']}%.\\n\\\r\n",
    "The pressure is {current['pressure']} hPa, percentage of cloud cover is {current['clouds']}%\\n\\\r\n",
    "The wind comes from {degrees_to_cardinal(current['wind_deg'])} direction with a speed {current['wind_speed']} m/s.\")"
   ]
  },
  {
   "cell_type": "code",
   "execution_count": 8,
   "metadata": {
    "execution": {
     "iopub.execute_input": "2021-10-20T23:12:26.257539Z",
     "iopub.status.busy": "2021-10-20T23:12:26.257055Z",
     "iopub.status.idle": "2021-10-20T23:12:26.263804Z",
     "shell.execute_reply": "2021-10-20T23:12:26.264453Z"
    }
   },
   "outputs": [],
   "source": [
    "df_hourly = pd.DataFrame(data['hourly'])\r\n",
    "df_daily = pd.DataFrame(data['daily'])"
   ]
  },
  {
   "cell_type": "code",
   "execution_count": 9,
   "metadata": {
    "execution": {
     "iopub.execute_input": "2021-10-20T23:12:26.267488Z",
     "iopub.status.busy": "2021-10-20T23:12:26.266533Z",
     "iopub.status.idle": "2021-10-20T23:12:26.569500Z",
     "shell.execute_reply": "2021-10-20T23:12:26.569093Z"
    }
   },
   "outputs": [
    {
     "data": {
      "image/png": "[encoded data removed]",
      "text/plain": [
       "<Figure size 864x432 with 1 Axes>"
      ]
     },
     "metadata": {
      "needs_background": "light"
     },
     "output_type": "display_data"
    }
   ],
   "source": [
    "fig, ax = plt.subplots(figsize=(12, 6))\r\n",
    "plt.plot(df_hourly.temp, '.-', label='Temperature')\r\n",
    "plt.plot(df_hourly.feels_like, '.-', label='Feels Like')\r\n",
    "ax.set(title='Temperature in future 48 hours', xlabel='Time', ylabel='Temperature')\r\n",
    "ax.set_xticks(list(range(0, len(df_hourly), 2)))\r\n",
    "ax.set_xticklabels([ts2dt(ts, '%m-%d %H:%M')[0] for i, ts in enumerate(df_hourly.dt) if i%2==0], \r\n",
    "                   rotation=45, ha=\"right\")\r\n",
    "ax.locator_params(nbins=15, axis='y')\r\n",
    "plt.legend()\r\n",
    "plt.show()"
   ]
  },
  {
   "cell_type": "code",
   "execution_count": 10,
   "metadata": {
    "execution": {
     "iopub.execute_input": "2021-10-20T23:12:26.580521Z",
     "iopub.status.busy": "2021-10-20T23:12:26.572848Z",
     "iopub.status.idle": "2021-10-20T23:12:26.590878Z",
     "shell.execute_reply": "2021-10-20T23:12:26.591241Z"
    }
   },
   "outputs": [
    {
     "data": {
      "text/html": [
       "<div>\n",
       "<style scoped>\n",
       "    .dataframe tbody tr th:only-of-type {\n",
       "        vertical-align: middle;\n",
       "    }\n",
       "\n",
       "    .dataframe tbody tr th {\n",
       "        vertical-align: top;\n",
       "    }\n",
       "\n",
       "    .dataframe thead th {\n",
       "        text-align: right;\n",
       "    }\n",
       "</style>\n",
       "<table border=\"1\" class=\"dataframe\">\n",
       "  <thead>\n",
       "    <tr style=\"text-align: right;\">\n",
       "      <th></th>\n",
       "      <th>dt</th>\n",
       "      <th>temp</th>\n",
       "      <th>feels_like</th>\n",
       "      <th>pressure</th>\n",
       "      <th>humidity</th>\n",
       "      <th>dew_point</th>\n",
       "      <th>uvi</th>\n",
       "      <th>clouds</th>\n",
       "      <th>visibility</th>\n",
       "      <th>wind_speed</th>\n",
       "      <th>wind_deg</th>\n",
       "      <th>wind_gust</th>\n",
       "      <th>weather</th>\n",
       "      <th>pop</th>\n",
       "      <th>rain</th>\n",
       "    </tr>\n",
       "  </thead>\n",
       "  <tbody>\n",
       "    <tr>\n",
       "      <th>0</th>\n",
       "      <td>1634770800</td>\n",
       "      <td>25.58</td>\n",
       "      <td>26.47</td>\n",
       "      <td>1018</td>\n",
       "      <td>87</td>\n",
       "      <td>23.25</td>\n",
       "      <td>0.00</td>\n",
       "      <td>89</td>\n",
       "      <td>10000</td>\n",
       "      <td>2.42</td>\n",
       "      <td>28</td>\n",
       "      <td>2.50</td>\n",
       "      <td>[{'id': 804, 'main': 'Clouds', 'description': ...</td>\n",
       "      <td>0.41</td>\n",
       "      <td>NaN</td>\n",
       "    </tr>\n",
       "    <tr>\n",
       "      <th>1</th>\n",
       "      <td>1634774400</td>\n",
       "      <td>25.56</td>\n",
       "      <td>26.42</td>\n",
       "      <td>1017</td>\n",
       "      <td>86</td>\n",
       "      <td>23.04</td>\n",
       "      <td>0.69</td>\n",
       "      <td>89</td>\n",
       "      <td>10000</td>\n",
       "      <td>2.43</td>\n",
       "      <td>36</td>\n",
       "      <td>2.54</td>\n",
       "      <td>[{'id': 804, 'main': 'Clouds', 'description': ...</td>\n",
       "      <td>0.40</td>\n",
       "      <td>NaN</td>\n",
       "    </tr>\n",
       "    <tr>\n",
       "      <th>2</th>\n",
       "      <td>1634778000</td>\n",
       "      <td>25.83</td>\n",
       "      <td>26.66</td>\n",
       "      <td>1017</td>\n",
       "      <td>84</td>\n",
       "      <td>22.92</td>\n",
       "      <td>2.20</td>\n",
       "      <td>93</td>\n",
       "      <td>10000</td>\n",
       "      <td>2.19</td>\n",
       "      <td>39</td>\n",
       "      <td>2.33</td>\n",
       "      <td>[{'id': 804, 'main': 'Clouds', 'description': ...</td>\n",
       "      <td>0.48</td>\n",
       "      <td>NaN</td>\n",
       "    </tr>\n",
       "    <tr>\n",
       "      <th>3</th>\n",
       "      <td>1634781600</td>\n",
       "      <td>26.32</td>\n",
       "      <td>26.32</td>\n",
       "      <td>1017</td>\n",
       "      <td>80</td>\n",
       "      <td>22.59</td>\n",
       "      <td>4.43</td>\n",
       "      <td>96</td>\n",
       "      <td>10000</td>\n",
       "      <td>2.16</td>\n",
       "      <td>50</td>\n",
       "      <td>2.31</td>\n",
       "      <td>[{'id': 500, 'main': 'Rain', 'description': 'l...</td>\n",
       "      <td>0.52</td>\n",
       "      <td>{'1h': 0.23}</td>\n",
       "    </tr>\n",
       "    <tr>\n",
       "      <th>4</th>\n",
       "      <td>1634785200</td>\n",
       "      <td>26.89</td>\n",
       "      <td>29.16</td>\n",
       "      <td>1016</td>\n",
       "      <td>76</td>\n",
       "      <td>22.30</td>\n",
       "      <td>6.62</td>\n",
       "      <td>95</td>\n",
       "      <td>10000</td>\n",
       "      <td>2.38</td>\n",
       "      <td>61</td>\n",
       "      <td>2.41</td>\n",
       "      <td>[{'id': 500, 'main': 'Rain', 'description': 'l...</td>\n",
       "      <td>0.56</td>\n",
       "      <td>{'1h': 0.31}</td>\n",
       "    </tr>\n",
       "  </tbody>\n",
       "</table>\n",
       "</div>"
      ],
      "text/plain": [
       "           dt   temp  feels_like  pressure  humidity  dew_point   uvi  clouds  \\\n",
       "0  1634770800  25.58       26.47      1018        87      23.25  0.00      89   \n",
       "1  1634774400  25.56       26.42      1017        86      23.04  0.69      89   \n",
       "2  1634778000  25.83       26.66      1017        84      22.92  2.20      93   \n",
       "3  1634781600  26.32       26.32      1017        80      22.59  4.43      96   \n",
       "4  1634785200  26.89       29.16      1016        76      22.30  6.62      95   \n",
       "\n",
       "   visibility  wind_speed  wind_deg  wind_gust  \\\n",
       "0       10000        2.42        28       2.50   \n",
       "1       10000        2.43        36       2.54   \n",
       "2       10000        2.19        39       2.33   \n",
       "3       10000        2.16        50       2.31   \n",
       "4       10000        2.38        61       2.41   \n",
       "\n",
       "                                             weather   pop          rain  \n",
       "0  [{'id': 804, 'main': 'Clouds', 'description': ...  0.41           NaN  \n",
       "1  [{'id': 804, 'main': 'Clouds', 'description': ...  0.40           NaN  \n",
       "2  [{'id': 804, 'main': 'Clouds', 'description': ...  0.48           NaN  \n",
       "3  [{'id': 500, 'main': 'Rain', 'description': 'l...  0.52  {'1h': 0.23}  \n",
       "4  [{'id': 500, 'main': 'Rain', 'description': 'l...  0.56  {'1h': 0.31}  "
      ]
     },
     "execution_count": 10,
     "metadata": {},
     "output_type": "execute_result"
    }
   ],
   "source": [
    "df_hourly.head()"
   ]
  },
  {
   "cell_type": "code",
   "execution_count": null,
   "metadata": {},
   "outputs": [],
   "source": []
  }
 ],
 "metadata": {
  "interpreter": {
   "hash": "c1b4cfe941b6d2466ad1fb5979e97da9cda8801728c8091b097ab734208fc00c"
  },
  "kernelspec": {
   "display_name": "Python 3.8.3 64-bit ('base': conda)",
   "name": "python3"
  },
  "language_info": {
   "codemirror_mode": {
    "name": "ipython",
    "version": 3
   },
   "file_extension": ".py",
   "mimetype": "text/x-python",
   "name": "python",
   "nbconvert_exporter": "python",
   "pygments_lexer": "ipython3",
   "version": "3.8.12"
  }
 },
 "nbformat": 4,
 "nbformat_minor": 2
}
