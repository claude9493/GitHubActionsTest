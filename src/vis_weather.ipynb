{
 "cells": [
  {
   "cell_type": "code",
   "execution_count": 1,
   "metadata": {
    "execution": {
     "iopub.execute_input": "2021-08-28T16:59:45.848272Z",
     "iopub.status.busy": "2021-08-28T16:59:45.847190Z",
     "iopub.status.idle": "2021-08-28T16:59:48.300155Z",
     "shell.execute_reply": "2021-08-28T16:59:48.299181Z"
    }
   },
   "outputs": [],
   "source": [
    "import json, yaml, requests\r\n",
    "from datetime import datetime\r\n",
    "from dateutil import tz\r\n",
    "import pandas as pd\r\n",
    "from PIL import Image\r\n",
    "from io import BytesIO\r\n",
    "import matplotlib.pyplot as plt\r\n",
    "import seaborn\r\n",
    "\r\n",
    "CONFIG_PATH = \"../config/config.yaml\""
   ]
  },
  {
   "cell_type": "code",
   "execution_count": 2,
   "metadata": {
    "execution": {
     "iopub.execute_input": "2021-08-28T16:59:48.306437Z",
     "iopub.status.busy": "2021-08-28T16:59:48.303790Z",
     "iopub.status.idle": "2021-08-28T16:59:48.311820Z",
     "shell.execute_reply": "2021-08-28T16:59:48.311327Z"
    }
   },
   "outputs": [],
   "source": [
    "with open('../newest_ts', 'r') as f:\r\n",
    "    newest_ts = f.read()\r\n",
    "\r\n",
    "data_path = f\"../data/data_{newest_ts}.json\"\r\n",
    "with open(data_path, 'r') as f:\r\n",
    "    data = json.load(f)\r\n",
    "\r\n",
    "with open(CONFIG_PATH, \"r\") as stream:\r\n",
    "    config = yaml.safe_load(stream)\r\n",
    "\r\n",
    "TIME_ZONE = config['time_zone']\r\n",
    "DATETIME_FORMAT = config['dt_format']"
   ]
  },
  {
   "cell_type": "code",
   "execution_count": 3,
   "metadata": {
    "execution": {
     "iopub.execute_input": "2021-08-28T16:59:48.316843Z",
     "iopub.status.busy": "2021-08-28T16:59:48.316139Z",
     "iopub.status.idle": "2021-08-28T16:59:48.324646Z",
     "shell.execute_reply": "2021-08-28T16:59:48.325077Z"
    }
   },
   "outputs": [
    {
     "name": "stdout",
     "output_type": "stream",
     "text": [
      "Recent query happens at 2021-08-29 00:59:42 (CST).\n"
     ]
    }
   ],
   "source": [
    "def ts2dt(ts, format=DATETIME_FORMAT):\r\n",
    "    dt = (datetime.utcfromtimestamp(int(ts))\r\n",
    "                    .replace(tzinfo=tz.tzutc())\r\n",
    "                    # .astimezone(tz.tzlocal())\r\n",
    "                    .astimezone(tz.gettz(TIME_ZONE)))\r\n",
    "    return dt.strftime(format), dt\r\n",
    "\r\n",
    "_, newest_dt = ts2dt(newest_ts)\r\n",
    "print(f\"Recent query happens at {newest_dt.strftime(DATETIME_FORMAT)} ({newest_dt.tzname()}).\")"
   ]
  },
  {
   "cell_type": "code",
   "execution_count": 4,
   "metadata": {
    "execution": {
     "iopub.execute_input": "2021-08-28T16:59:48.331178Z",
     "iopub.status.busy": "2021-08-28T16:59:48.329975Z",
     "iopub.status.idle": "2021-08-28T16:59:48.331945Z",
     "shell.execute_reply": "2021-08-28T16:59:48.332543Z"
    }
   },
   "outputs": [],
   "source": [
    "def degrees_to_cardinal(d):\r\n",
    "  dirs = ['N', 'NNE', 'NE', 'ENE', 'E', 'ESE', 'SE', 'SSE', 'S', 'SSW', 'SW', 'WSW', 'W', 'WNW', 'NW', 'NNW']\r\n",
    "  ix = int(round(d / (360. / len(dirs))))\r\n",
    "  return dirs[ix % len(dirs)]"
   ]
  },
  {
   "cell_type": "code",
   "execution_count": 5,
   "metadata": {
    "execution": {
     "iopub.execute_input": "2021-08-28T16:59:48.337288Z",
     "iopub.status.busy": "2021-08-28T16:59:48.335997Z",
     "iopub.status.idle": "2021-08-28T16:59:48.337952Z",
     "shell.execute_reply": "2021-08-28T16:59:48.338398Z"
    }
   },
   "outputs": [],
   "source": [
    "# data.keys()"
   ]
  },
  {
   "cell_type": "code",
   "execution_count": 6,
   "metadata": {
    "execution": {
     "iopub.execute_input": "2021-08-28T16:59:48.343031Z",
     "iopub.status.busy": "2021-08-28T16:59:48.341483Z",
     "iopub.status.idle": "2021-08-28T16:59:48.343982Z",
     "shell.execute_reply": "2021-08-28T16:59:48.344458Z"
    }
   },
   "outputs": [],
   "source": [
    "# data['current']"
   ]
  },
  {
   "cell_type": "code",
   "execution_count": 7,
   "metadata": {
    "execution": {
     "iopub.execute_input": "2021-08-28T16:59:48.364763Z",
     "iopub.status.busy": "2021-08-28T16:59:48.364141Z",
     "iopub.status.idle": "2021-08-28T16:59:48.807025Z",
     "shell.execute_reply": "2021-08-28T16:59:48.807853Z"
    }
   },
   "outputs": [
    {
     "data": {
      "image/png": "[encoded data removed]",
      "text/plain": [
       "<Figure size 216x216 with 1 Axes>"
      ]
     },
     "metadata": {
      "needs_background": "light"
     },
     "output_type": "display_data"
    },
    {
     "name": "stdout",
     "output_type": "stream",
     "text": [
      "Today, sun rises at 06:04 and sets at 18:43.\n",
      "Currently, the weather is Clouds (broken clouds).\n",
      "The temperature is 28.41°C and it feels like 31.64°C.\n",
      "The UV index is 0, humidity is 71%.\n",
      "The pressure is 1011 hPa, percentage of cloud cover is 65%\n",
      "The wind comes from ENE direction with a speed 3.86 m/s.\n"
     ]
    }
   ],
   "source": [
    "current = data['current']\r\n",
    "\r\n",
    "fig, ax = plt.subplots(figsize=(3, 3))\r\n",
    "icon = requests.get(f\"http://openweathermap.org/img/wn/{current['weather'][0]['icon']}@2x.png\")\r\n",
    "im = Image.open(BytesIO(icon.content))\r\n",
    "plt.imshow(im)\r\n",
    "ax.set_axis_off()\r\n",
    "plt.show()\r\n",
    "\r\n",
    "print(f\"Today, sun rises at {ts2dt(current['sunrise'], '%H:%M')[0]} \\\r\n",
    "and sets at {ts2dt(current['sunset'], '%H:%M')[0]}.\\n\\\r\n",
    "Currently, the weather is {current['weather'][0]['main']} ({current['weather'][0]['description']}).\\n\\\r\n",
    "The temperature is {current['temp']}°C and it feels like {current['feels_like']}°C.\\n\\\r\n",
    "The UV index is {current['uvi']}, humidity is {current['humidity']}%.\\n\\\r\n",
    "The pressure is {current['pressure']} hPa, percentage of cloud cover is {current['clouds']}%\\n\\\r\n",
    "The wind comes from {degrees_to_cardinal(current['wind_deg'])} direction with a speed {current['wind_speed']} m/s.\")"
   ]
  },
  {
   "cell_type": "code",
   "execution_count": 8,
   "metadata": {
    "execution": {
     "iopub.execute_input": "2021-08-28T16:59:48.811638Z",
     "iopub.status.busy": "2021-08-28T16:59:48.810542Z",
     "iopub.status.idle": "2021-08-28T16:59:48.818633Z",
     "shell.execute_reply": "2021-08-28T16:59:48.819484Z"
    }
   },
   "outputs": [],
   "source": [
    "df_hourly = pd.DataFrame(data['hourly'])\r\n",
    "df_daily = pd.DataFrame(data['daily'])"
   ]
  },
  {
   "cell_type": "code",
   "execution_count": 9,
   "metadata": {
    "execution": {
     "iopub.execute_input": "2021-08-28T16:59:48.823173Z",
     "iopub.status.busy": "2021-08-28T16:59:48.822074Z",
     "iopub.status.idle": "2021-08-28T16:59:49.139477Z",
     "shell.execute_reply": "2021-08-28T16:59:49.139928Z"
    }
   },
   "outputs": [
    {
     "data": {
      "image/png": "[encoded data removed]",
      "text/plain": [
       "<Figure size 864x432 with 1 Axes>"
      ]
     },
     "metadata": {
      "needs_background": "light"
     },
     "output_type": "display_data"
    }
   ],
   "source": [
    "fig, ax = plt.subplots(figsize=(12, 6))\r\n",
    "plt.plot(df_hourly.temp, '.-', label='Temperature')\r\n",
    "plt.plot(df_hourly.feels_like, '.-', label='Feels Like')\r\n",
    "ax.set(title='Temperature in future 48 hours', xlabel='Time', ylabel='Temperature')\r\n",
    "ax.set_xticks(list(range(0, len(df_hourly), 2)))\r\n",
    "ax.set_xticklabels([ts2dt(ts, '%m-%d %H:%M')[0] for i, ts in enumerate(df_hourly.dt) if i%2==0], \r\n",
    "                   rotation=45, ha=\"right\")\r\n",
    "ax.locator_params(nbins=15, axis='y')\r\n",
    "plt.legend()\r\n",
    "plt.show()"
   ]
  },
  {
   "cell_type": "code",
   "execution_count": 10,
   "metadata": {
    "execution": {
     "iopub.execute_input": "2021-08-28T16:59:49.153759Z",
     "iopub.status.busy": "2021-08-28T16:59:49.144461Z",
     "iopub.status.idle": "2021-08-28T16:59:49.165274Z",
     "shell.execute_reply": "2021-08-28T16:59:49.165771Z"
    }
   },
   "outputs": [
    {
     "data": {
      "text/html": [
       "<div>\n",
       "<style scoped>\n",
       "    .dataframe tbody tr th:only-of-type {\n",
       "        vertical-align: middle;\n",
       "    }\n",
       "\n",
       "    .dataframe tbody tr th {\n",
       "        vertical-align: top;\n",
       "    }\n",
       "\n",
       "    .dataframe thead th {\n",
       "        text-align: right;\n",
       "    }\n",
       "</style>\n",
       "<table border=\"1\" class=\"dataframe\">\n",
       "  <thead>\n",
       "    <tr style=\"text-align: right;\">\n",
       "      <th></th>\n",
       "      <th>dt</th>\n",
       "      <th>temp</th>\n",
       "      <th>feels_like</th>\n",
       "      <th>pressure</th>\n",
       "      <th>humidity</th>\n",
       "      <th>dew_point</th>\n",
       "      <th>uvi</th>\n",
       "      <th>clouds</th>\n",
       "      <th>visibility</th>\n",
       "      <th>wind_speed</th>\n",
       "      <th>wind_deg</th>\n",
       "      <th>wind_gust</th>\n",
       "      <th>weather</th>\n",
       "      <th>pop</th>\n",
       "      <th>rain</th>\n",
       "    </tr>\n",
       "  </thead>\n",
       "  <tbody>\n",
       "    <tr>\n",
       "      <th>0</th>\n",
       "      <td>1630166400</td>\n",
       "      <td>28.27</td>\n",
       "      <td>31.65</td>\n",
       "      <td>1011</td>\n",
       "      <td>73</td>\n",
       "      <td>22.97</td>\n",
       "      <td>0.0</td>\n",
       "      <td>63</td>\n",
       "      <td>10000</td>\n",
       "      <td>4.16</td>\n",
       "      <td>77</td>\n",
       "      <td>6.09</td>\n",
       "      <td>[{'id': 500, 'main': 'Rain', 'description': 'l...</td>\n",
       "      <td>0.65</td>\n",
       "      <td>{'1h': 0.58}</td>\n",
       "    </tr>\n",
       "    <tr>\n",
       "      <th>1</th>\n",
       "      <td>1630170000</td>\n",
       "      <td>28.41</td>\n",
       "      <td>31.64</td>\n",
       "      <td>1011</td>\n",
       "      <td>71</td>\n",
       "      <td>22.64</td>\n",
       "      <td>0.0</td>\n",
       "      <td>65</td>\n",
       "      <td>10000</td>\n",
       "      <td>3.86</td>\n",
       "      <td>74</td>\n",
       "      <td>5.40</td>\n",
       "      <td>[{'id': 803, 'main': 'Clouds', 'description': ...</td>\n",
       "      <td>0.73</td>\n",
       "      <td>NaN</td>\n",
       "    </tr>\n",
       "    <tr>\n",
       "      <th>2</th>\n",
       "      <td>1630173600</td>\n",
       "      <td>28.25</td>\n",
       "      <td>31.61</td>\n",
       "      <td>1011</td>\n",
       "      <td>73</td>\n",
       "      <td>22.95</td>\n",
       "      <td>0.0</td>\n",
       "      <td>66</td>\n",
       "      <td>10000</td>\n",
       "      <td>3.70</td>\n",
       "      <td>69</td>\n",
       "      <td>4.97</td>\n",
       "      <td>[{'id': 803, 'main': 'Clouds', 'description': ...</td>\n",
       "      <td>0.73</td>\n",
       "      <td>NaN</td>\n",
       "    </tr>\n",
       "    <tr>\n",
       "      <th>3</th>\n",
       "      <td>1630177200</td>\n",
       "      <td>28.07</td>\n",
       "      <td>31.36</td>\n",
       "      <td>1011</td>\n",
       "      <td>74</td>\n",
       "      <td>23.00</td>\n",
       "      <td>0.0</td>\n",
       "      <td>79</td>\n",
       "      <td>10000</td>\n",
       "      <td>3.99</td>\n",
       "      <td>60</td>\n",
       "      <td>5.09</td>\n",
       "      <td>[{'id': 803, 'main': 'Clouds', 'description': ...</td>\n",
       "      <td>0.65</td>\n",
       "      <td>NaN</td>\n",
       "    </tr>\n",
       "    <tr>\n",
       "      <th>4</th>\n",
       "      <td>1630180800</td>\n",
       "      <td>27.94</td>\n",
       "      <td>31.36</td>\n",
       "      <td>1010</td>\n",
       "      <td>76</td>\n",
       "      <td>23.31</td>\n",
       "      <td>0.0</td>\n",
       "      <td>86</td>\n",
       "      <td>10000</td>\n",
       "      <td>4.59</td>\n",
       "      <td>63</td>\n",
       "      <td>5.76</td>\n",
       "      <td>[{'id': 804, 'main': 'Clouds', 'description': ...</td>\n",
       "      <td>0.59</td>\n",
       "      <td>NaN</td>\n",
       "    </tr>\n",
       "  </tbody>\n",
       "</table>\n",
       "</div>"
      ],
      "text/plain": [
       "           dt   temp  feels_like  pressure  humidity  dew_point  uvi  clouds  \\\n",
       "0  1630166400  28.27       31.65      1011        73      22.97  0.0      63   \n",
       "1  1630170000  28.41       31.64      1011        71      22.64  0.0      65   \n",
       "2  1630173600  28.25       31.61      1011        73      22.95  0.0      66   \n",
       "3  1630177200  28.07       31.36      1011        74      23.00  0.0      79   \n",
       "4  1630180800  27.94       31.36      1010        76      23.31  0.0      86   \n",
       "\n",
       "   visibility  wind_speed  wind_deg  wind_gust  \\\n",
       "0       10000        4.16        77       6.09   \n",
       "1       10000        3.86        74       5.40   \n",
       "2       10000        3.70        69       4.97   \n",
       "3       10000        3.99        60       5.09   \n",
       "4       10000        4.59        63       5.76   \n",
       "\n",
       "                                             weather   pop          rain  \n",
       "0  [{'id': 500, 'main': 'Rain', 'description': 'l...  0.65  {'1h': 0.58}  \n",
       "1  [{'id': 803, 'main': 'Clouds', 'description': ...  0.73           NaN  \n",
       "2  [{'id': 803, 'main': 'Clouds', 'description': ...  0.73           NaN  \n",
       "3  [{'id': 803, 'main': 'Clouds', 'description': ...  0.65           NaN  \n",
       "4  [{'id': 804, 'main': 'Clouds', 'description': ...  0.59           NaN  "
      ]
     },
     "execution_count": 10,
     "metadata": {},
     "output_type": "execute_result"
    }
   ],
   "source": [
    "df_hourly.head()"
   ]
  },
  {
   "cell_type": "code",
   "execution_count": null,
   "metadata": {},
   "outputs": [],
   "source": []
  }
 ],
 "metadata": {
  "interpreter": {
   "hash": "c1b4cfe941b6d2466ad1fb5979e97da9cda8801728c8091b097ab734208fc00c"
  },
  "kernelspec": {
   "display_name": "Python 3.8.3 64-bit ('base': conda)",
   "name": "python3"
  },
  "language_info": {
   "codemirror_mode": {
    "name": "ipython",
    "version": 3
   },
   "file_extension": ".py",
   "mimetype": "text/x-python",
   "name": "python",
   "nbconvert_exporter": "python",
   "pygments_lexer": "ipython3",
   "version": "3.8.11"
  }
 },
 "nbformat": 4,
 "nbformat_minor": 2
}
