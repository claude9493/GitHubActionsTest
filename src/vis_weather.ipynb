{
 "cells": [
  {
   "cell_type": "code",
   "execution_count": 1,
   "metadata": {
    "execution": {
     "iopub.execute_input": "2021-09-04T01:57:36.514777Z",
     "iopub.status.busy": "2021-09-04T01:57:36.514083Z",
     "iopub.status.idle": "2021-09-04T01:57:38.180278Z",
     "shell.execute_reply": "2021-09-04T01:57:38.179515Z"
    }
   },
   "outputs": [],
   "source": [
    "import json, yaml, requests\r\n",
    "from datetime import datetime\r\n",
    "from dateutil import tz\r\n",
    "import pandas as pd\r\n",
    "from PIL import Image\r\n",
    "from io import BytesIO\r\n",
    "import matplotlib.pyplot as plt\r\n",
    "import seaborn\r\n",
    "\r\n",
    "CONFIG_PATH = \"../config/config.yaml\""
   ]
  },
  {
   "cell_type": "code",
   "execution_count": 2,
   "metadata": {
    "execution": {
     "iopub.execute_input": "2021-09-04T01:57:38.186603Z",
     "iopub.status.busy": "2021-09-04T01:57:38.185284Z",
     "iopub.status.idle": "2021-09-04T01:57:38.191698Z",
     "shell.execute_reply": "2021-09-04T01:57:38.190885Z"
    }
   },
   "outputs": [],
   "source": [
    "with open('../newest_ts', 'r') as f:\r\n",
    "    newest_ts = f.read()\r\n",
    "\r\n",
    "data_path = f\"../data/data_{newest_ts}.json\"\r\n",
    "with open(data_path, 'r') as f:\r\n",
    "    data = json.load(f)\r\n",
    "\r\n",
    "with open(CONFIG_PATH, \"r\") as stream:\r\n",
    "    config = yaml.safe_load(stream)\r\n",
    "\r\n",
    "TIME_ZONE = config['time_zone']\r\n",
    "DATETIME_FORMAT = config['dt_format']"
   ]
  },
  {
   "cell_type": "code",
   "execution_count": 3,
   "metadata": {
    "execution": {
     "iopub.execute_input": "2021-09-04T01:57:38.198070Z",
     "iopub.status.busy": "2021-09-04T01:57:38.196059Z",
     "iopub.status.idle": "2021-09-04T01:57:38.201421Z",
     "shell.execute_reply": "2021-09-04T01:57:38.201946Z"
    }
   },
   "outputs": [
    {
     "name": "stdout",
     "output_type": "stream",
     "text": [
      "Recent query happens at 2021-09-04 09:57:33 (CST).\n"
     ]
    }
   ],
   "source": [
    "def ts2dt(ts, format=DATETIME_FORMAT):\r\n",
    "    dt = (datetime.utcfromtimestamp(int(ts))\r\n",
    "                    .replace(tzinfo=tz.tzutc())\r\n",
    "                    # .astimezone(tz.tzlocal())\r\n",
    "                    .astimezone(tz.gettz(TIME_ZONE)))\r\n",
    "    return dt.strftime(format), dt\r\n",
    "\r\n",
    "_, newest_dt = ts2dt(newest_ts)\r\n",
    "print(f\"Recent query happens at {newest_dt.strftime(DATETIME_FORMAT)} ({newest_dt.tzname()}).\")"
   ]
  },
  {
   "cell_type": "code",
   "execution_count": 4,
   "metadata": {
    "execution": {
     "iopub.execute_input": "2021-09-04T01:57:38.207843Z",
     "iopub.status.busy": "2021-09-04T01:57:38.206503Z",
     "iopub.status.idle": "2021-09-04T01:57:38.208511Z",
     "shell.execute_reply": "2021-09-04T01:57:38.209012Z"
    }
   },
   "outputs": [],
   "source": [
    "def degrees_to_cardinal(d):\r\n",
    "  dirs = ['N', 'NNE', 'NE', 'ENE', 'E', 'ESE', 'SE', 'SSE', 'S', 'SSW', 'SW', 'WSW', 'W', 'WNW', 'NW', 'NNW']\r\n",
    "  ix = int(round(d / (360. / len(dirs))))\r\n",
    "  return dirs[ix % len(dirs)]"
   ]
  },
  {
   "cell_type": "code",
   "execution_count": 5,
   "metadata": {
    "execution": {
     "iopub.execute_input": "2021-09-04T01:57:38.213741Z",
     "iopub.status.busy": "2021-09-04T01:57:38.212294Z",
     "iopub.status.idle": "2021-09-04T01:57:38.214397Z",
     "shell.execute_reply": "2021-09-04T01:57:38.214859Z"
    }
   },
   "outputs": [],
   "source": [
    "# data.keys()"
   ]
  },
  {
   "cell_type": "code",
   "execution_count": 6,
   "metadata": {
    "execution": {
     "iopub.execute_input": "2021-09-04T01:57:38.219716Z",
     "iopub.status.busy": "2021-09-04T01:57:38.218186Z",
     "iopub.status.idle": "2021-09-04T01:57:38.220417Z",
     "shell.execute_reply": "2021-09-04T01:57:38.220908Z"
    }
   },
   "outputs": [],
   "source": [
    "# data['current']"
   ]
  },
  {
   "cell_type": "code",
   "execution_count": 7,
   "metadata": {
    "execution": {
     "iopub.execute_input": "2021-09-04T01:57:38.242716Z",
     "iopub.status.busy": "2021-09-04T01:57:38.226794Z",
     "iopub.status.idle": "2021-09-04T01:57:38.656562Z",
     "shell.execute_reply": "2021-09-04T01:57:38.657604Z"
    }
   },
   "outputs": [
    {
     "data": {
      "image/png": "[encoded data removed]",
      "text/plain": [
       "<Figure size 216x216 with 1 Axes>"
      ]
     },
     "metadata": {
      "needs_background": "light"
     },
     "output_type": "display_data"
    },
    {
     "name": "stdout",
     "output_type": "stream",
     "text": [
      "Today, sun rises at 06:06 and sets at 18:37.\n",
      "Currently, the weather is Rain (light rain).\n",
      "The temperature is 29.06°C and it feels like 35.59°C.\n",
      "The UV index is 6.89, humidity is 83%.\n",
      "The pressure is 1009 hPa, percentage of cloud cover is 14%\n",
      "The wind comes from SE direction with a speed 1.26 m/s.\n"
     ]
    }
   ],
   "source": [
    "current = data['current']\r\n",
    "\r\n",
    "fig, ax = plt.subplots(figsize=(3, 3))\r\n",
    "icon = requests.get(f\"http://openweathermap.org/img/wn/{current['weather'][0]['icon']}@2x.png\")\r\n",
    "im = Image.open(BytesIO(icon.content))\r\n",
    "plt.imshow(im)\r\n",
    "ax.set_axis_off()\r\n",
    "plt.show()\r\n",
    "\r\n",
    "print(f\"Today, sun rises at {ts2dt(current['sunrise'], '%H:%M')[0]} \\\r\n",
    "and sets at {ts2dt(current['sunset'], '%H:%M')[0]}.\\n\\\r\n",
    "Currently, the weather is {current['weather'][0]['main']} ({current['weather'][0]['description']}).\\n\\\r\n",
    "The temperature is {current['temp']}°C and it feels like {current['feels_like']}°C.\\n\\\r\n",
    "The UV index is {current['uvi']}, humidity is {current['humidity']}%.\\n\\\r\n",
    "The pressure is {current['pressure']} hPa, percentage of cloud cover is {current['clouds']}%\\n\\\r\n",
    "The wind comes from {degrees_to_cardinal(current['wind_deg'])} direction with a speed {current['wind_speed']} m/s.\")"
   ]
  },
  {
   "cell_type": "code",
   "execution_count": 8,
   "metadata": {
    "execution": {
     "iopub.execute_input": "2021-09-04T01:57:38.661402Z",
     "iopub.status.busy": "2021-09-04T01:57:38.660716Z",
     "iopub.status.idle": "2021-09-04T01:57:38.668138Z",
     "shell.execute_reply": "2021-09-04T01:57:38.668927Z"
    }
   },
   "outputs": [],
   "source": [
    "df_hourly = pd.DataFrame(data['hourly'])\r\n",
    "df_daily = pd.DataFrame(data['daily'])"
   ]
  },
  {
   "cell_type": "code",
   "execution_count": 9,
   "metadata": {
    "execution": {
     "iopub.execute_input": "2021-09-04T01:57:38.672338Z",
     "iopub.status.busy": "2021-09-04T01:57:38.671718Z",
     "iopub.status.idle": "2021-09-04T01:57:39.002473Z",
     "shell.execute_reply": "2021-09-04T01:57:39.001646Z"
    }
   },
   "outputs": [
    {
     "data": {
      "image/png": "[encoded data removed]",
      "text/plain": [
       "<Figure size 864x432 with 1 Axes>"
      ]
     },
     "metadata": {
      "needs_background": "light"
     },
     "output_type": "display_data"
    }
   ],
   "source": [
    "fig, ax = plt.subplots(figsize=(12, 6))\r\n",
    "plt.plot(df_hourly.temp, '.-', label='Temperature')\r\n",
    "plt.plot(df_hourly.feels_like, '.-', label='Feels Like')\r\n",
    "ax.set(title='Temperature in future 48 hours', xlabel='Time', ylabel='Temperature')\r\n",
    "ax.set_xticks(list(range(0, len(df_hourly), 2)))\r\n",
    "ax.set_xticklabels([ts2dt(ts, '%m-%d %H:%M')[0] for i, ts in enumerate(df_hourly.dt) if i%2==0], \r\n",
    "                   rotation=45, ha=\"right\")\r\n",
    "ax.locator_params(nbins=15, axis='y')\r\n",
    "plt.legend()\r\n",
    "plt.show()"
   ]
  },
  {
   "cell_type": "code",
   "execution_count": 10,
   "metadata": {
    "execution": {
     "iopub.execute_input": "2021-09-04T01:57:39.015807Z",
     "iopub.status.busy": "2021-09-04T01:57:39.006812Z",
     "iopub.status.idle": "2021-09-04T01:57:39.028595Z",
     "shell.execute_reply": "2021-09-04T01:57:39.028135Z"
    }
   },
   "outputs": [
    {
     "data": {
      "text/html": [
       "<div>\n",
       "<style scoped>\n",
       "    .dataframe tbody tr th:only-of-type {\n",
       "        vertical-align: middle;\n",
       "    }\n",
       "\n",
       "    .dataframe tbody tr th {\n",
       "        vertical-align: top;\n",
       "    }\n",
       "\n",
       "    .dataframe thead th {\n",
       "        text-align: right;\n",
       "    }\n",
       "</style>\n",
       "<table border=\"1\" class=\"dataframe\">\n",
       "  <thead>\n",
       "    <tr style=\"text-align: right;\">\n",
       "      <th></th>\n",
       "      <th>dt</th>\n",
       "      <th>temp</th>\n",
       "      <th>feels_like</th>\n",
       "      <th>pressure</th>\n",
       "      <th>humidity</th>\n",
       "      <th>dew_point</th>\n",
       "      <th>uvi</th>\n",
       "      <th>clouds</th>\n",
       "      <th>visibility</th>\n",
       "      <th>wind_speed</th>\n",
       "      <th>wind_deg</th>\n",
       "      <th>wind_gust</th>\n",
       "      <th>weather</th>\n",
       "      <th>pop</th>\n",
       "      <th>rain</th>\n",
       "    </tr>\n",
       "  </thead>\n",
       "  <tbody>\n",
       "    <tr>\n",
       "      <th>0</th>\n",
       "      <td>1630717200</td>\n",
       "      <td>28.98</td>\n",
       "      <td>34.90</td>\n",
       "      <td>1009</td>\n",
       "      <td>81</td>\n",
       "      <td>25.39</td>\n",
       "      <td>3.81</td>\n",
       "      <td>13</td>\n",
       "      <td>10000</td>\n",
       "      <td>1.04</td>\n",
       "      <td>143</td>\n",
       "      <td>1.29</td>\n",
       "      <td>[{'id': 500, 'main': 'Rain', 'description': 'l...</td>\n",
       "      <td>0.82</td>\n",
       "      <td>{'1h': 0.49}</td>\n",
       "    </tr>\n",
       "    <tr>\n",
       "      <th>1</th>\n",
       "      <td>1630720800</td>\n",
       "      <td>29.06</td>\n",
       "      <td>35.59</td>\n",
       "      <td>1009</td>\n",
       "      <td>83</td>\n",
       "      <td>25.88</td>\n",
       "      <td>6.89</td>\n",
       "      <td>14</td>\n",
       "      <td>10000</td>\n",
       "      <td>1.26</td>\n",
       "      <td>128</td>\n",
       "      <td>1.44</td>\n",
       "      <td>[{'id': 500, 'main': 'Rain', 'description': 'l...</td>\n",
       "      <td>0.73</td>\n",
       "      <td>{'1h': 0.12}</td>\n",
       "    </tr>\n",
       "    <tr>\n",
       "      <th>2</th>\n",
       "      <td>1630724400</td>\n",
       "      <td>29.16</td>\n",
       "      <td>35.19</td>\n",
       "      <td>1009</td>\n",
       "      <td>80</td>\n",
       "      <td>25.35</td>\n",
       "      <td>9.74</td>\n",
       "      <td>14</td>\n",
       "      <td>10000</td>\n",
       "      <td>1.79</td>\n",
       "      <td>115</td>\n",
       "      <td>1.80</td>\n",
       "      <td>[{'id': 801, 'main': 'Clouds', 'description': ...</td>\n",
       "      <td>0.77</td>\n",
       "      <td>NaN</td>\n",
       "    </tr>\n",
       "    <tr>\n",
       "      <th>3</th>\n",
       "      <td>1630728000</td>\n",
       "      <td>29.40</td>\n",
       "      <td>35.16</td>\n",
       "      <td>1009</td>\n",
       "      <td>77</td>\n",
       "      <td>24.94</td>\n",
       "      <td>11.46</td>\n",
       "      <td>15</td>\n",
       "      <td>10000</td>\n",
       "      <td>2.38</td>\n",
       "      <td>111</td>\n",
       "      <td>2.15</td>\n",
       "      <td>[{'id': 801, 'main': 'Clouds', 'description': ...</td>\n",
       "      <td>0.77</td>\n",
       "      <td>NaN</td>\n",
       "    </tr>\n",
       "    <tr>\n",
       "      <th>4</th>\n",
       "      <td>1630731600</td>\n",
       "      <td>29.70</td>\n",
       "      <td>34.78</td>\n",
       "      <td>1008</td>\n",
       "      <td>72</td>\n",
       "      <td>24.11</td>\n",
       "      <td>11.26</td>\n",
       "      <td>16</td>\n",
       "      <td>10000</td>\n",
       "      <td>3.05</td>\n",
       "      <td>107</td>\n",
       "      <td>2.58</td>\n",
       "      <td>[{'id': 801, 'main': 'Clouds', 'description': ...</td>\n",
       "      <td>0.73</td>\n",
       "      <td>NaN</td>\n",
       "    </tr>\n",
       "  </tbody>\n",
       "</table>\n",
       "</div>"
      ],
      "text/plain": [
       "           dt   temp  feels_like  pressure  humidity  dew_point    uvi  \\\n",
       "0  1630717200  28.98       34.90      1009        81      25.39   3.81   \n",
       "1  1630720800  29.06       35.59      1009        83      25.88   6.89   \n",
       "2  1630724400  29.16       35.19      1009        80      25.35   9.74   \n",
       "3  1630728000  29.40       35.16      1009        77      24.94  11.46   \n",
       "4  1630731600  29.70       34.78      1008        72      24.11  11.26   \n",
       "\n",
       "   clouds  visibility  wind_speed  wind_deg  wind_gust  \\\n",
       "0      13       10000        1.04       143       1.29   \n",
       "1      14       10000        1.26       128       1.44   \n",
       "2      14       10000        1.79       115       1.80   \n",
       "3      15       10000        2.38       111       2.15   \n",
       "4      16       10000        3.05       107       2.58   \n",
       "\n",
       "                                             weather   pop          rain  \n",
       "0  [{'id': 500, 'main': 'Rain', 'description': 'l...  0.82  {'1h': 0.49}  \n",
       "1  [{'id': 500, 'main': 'Rain', 'description': 'l...  0.73  {'1h': 0.12}  \n",
       "2  [{'id': 801, 'main': 'Clouds', 'description': ...  0.77           NaN  \n",
       "3  [{'id': 801, 'main': 'Clouds', 'description': ...  0.77           NaN  \n",
       "4  [{'id': 801, 'main': 'Clouds', 'description': ...  0.73           NaN  "
      ]
     },
     "execution_count": 10,
     "metadata": {},
     "output_type": "execute_result"
    }
   ],
   "source": [
    "df_hourly.head()"
   ]
  },
  {
   "cell_type": "code",
   "execution_count": null,
   "metadata": {},
   "outputs": [],
   "source": []
  }
 ],
 "metadata": {
  "interpreter": {
   "hash": "c1b4cfe941b6d2466ad1fb5979e97da9cda8801728c8091b097ab734208fc00c"
  },
  "kernelspec": {
   "display_name": "Python 3.8.3 64-bit ('base': conda)",
   "name": "python3"
  },
  "language_info": {
   "codemirror_mode": {
    "name": "ipython",
    "version": 3
   },
   "file_extension": ".py",
   "mimetype": "text/x-python",
   "name": "python",
   "nbconvert_exporter": "python",
   "pygments_lexer": "ipython3",
   "version": "3.8.11"
  }
 },
 "nbformat": 4,
 "nbformat_minor": 2
}
