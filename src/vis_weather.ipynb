{
 "cells": [
  {
   "cell_type": "code",
   "execution_count": 1,
   "metadata": {
    "execution": {
     "iopub.execute_input": "2021-10-02T16:16:17.542975Z",
     "iopub.status.busy": "2021-10-02T16:16:17.542441Z",
     "iopub.status.idle": "2021-10-02T16:16:19.569070Z",
     "shell.execute_reply": "2021-10-02T16:16:19.568538Z"
    }
   },
   "outputs": [],
   "source": [
    "import json, yaml, requests\r\n",
    "from datetime import datetime\r\n",
    "from dateutil import tz\r\n",
    "import pandas as pd\r\n",
    "from PIL import Image\r\n",
    "from io import BytesIO\r\n",
    "import matplotlib.pyplot as plt\r\n",
    "import seaborn\r\n",
    "\r\n",
    "CONFIG_PATH = \"../config/config.yaml\""
   ]
  },
  {
   "cell_type": "code",
   "execution_count": 2,
   "metadata": {
    "execution": {
     "iopub.execute_input": "2021-10-02T16:16:19.574408Z",
     "iopub.status.busy": "2021-10-02T16:16:19.573596Z",
     "iopub.status.idle": "2021-10-02T16:16:19.579935Z",
     "shell.execute_reply": "2021-10-02T16:16:19.579180Z"
    }
   },
   "outputs": [],
   "source": [
    "with open('../newest_ts', 'r') as f:\r\n",
    "    newest_ts = f.read()\r\n",
    "\r\n",
    "data_path = f\"../data/data_{newest_ts}.json\"\r\n",
    "with open(data_path, 'r') as f:\r\n",
    "    data = json.load(f)\r\n",
    "\r\n",
    "with open(CONFIG_PATH, \"r\") as stream:\r\n",
    "    config = yaml.safe_load(stream)\r\n",
    "\r\n",
    "TIME_ZONE = config['time_zone']\r\n",
    "DATETIME_FORMAT = config['dt_format']"
   ]
  },
  {
   "cell_type": "code",
   "execution_count": 3,
   "metadata": {
    "execution": {
     "iopub.execute_input": "2021-10-02T16:16:19.584153Z",
     "iopub.status.busy": "2021-10-02T16:16:19.583667Z",
     "iopub.status.idle": "2021-10-02T16:16:19.588879Z",
     "shell.execute_reply": "2021-10-02T16:16:19.589245Z"
    }
   },
   "outputs": [
    {
     "name": "stdout",
     "output_type": "stream",
     "text": [
      "Recent query happens at 2021-10-03 00:16:14 (CST).\n"
     ]
    }
   ],
   "source": [
    "def ts2dt(ts, format=DATETIME_FORMAT):\r\n",
    "    dt = (datetime.utcfromtimestamp(int(ts))\r\n",
    "                    .replace(tzinfo=tz.tzutc())\r\n",
    "                    # .astimezone(tz.tzlocal())\r\n",
    "                    .astimezone(tz.gettz(TIME_ZONE)))\r\n",
    "    return dt.strftime(format), dt\r\n",
    "\r\n",
    "_, newest_dt = ts2dt(newest_ts)\r\n",
    "print(f\"Recent query happens at {newest_dt.strftime(DATETIME_FORMAT)} ({newest_dt.tzname()}).\")"
   ]
  },
  {
   "cell_type": "code",
   "execution_count": 4,
   "metadata": {
    "execution": {
     "iopub.execute_input": "2021-10-02T16:16:19.593994Z",
     "iopub.status.busy": "2021-10-02T16:16:19.592982Z",
     "iopub.status.idle": "2021-10-02T16:16:19.594508Z",
     "shell.execute_reply": "2021-10-02T16:16:19.594867Z"
    }
   },
   "outputs": [],
   "source": [
    "def degrees_to_cardinal(d):\r\n",
    "  dirs = ['N', 'NNE', 'NE', 'ENE', 'E', 'ESE', 'SE', 'SSE', 'S', 'SSW', 'SW', 'WSW', 'W', 'WNW', 'NW', 'NNW']\r\n",
    "  ix = int(round(d / (360. / len(dirs))))\r\n",
    "  return dirs[ix % len(dirs)]"
   ]
  },
  {
   "cell_type": "code",
   "execution_count": 5,
   "metadata": {
    "execution": {
     "iopub.execute_input": "2021-10-02T16:16:19.598900Z",
     "iopub.status.busy": "2021-10-02T16:16:19.597663Z",
     "iopub.status.idle": "2021-10-02T16:16:19.599420Z",
     "shell.execute_reply": "2021-10-02T16:16:19.599825Z"
    }
   },
   "outputs": [],
   "source": [
    "# data.keys()"
   ]
  },
  {
   "cell_type": "code",
   "execution_count": 6,
   "metadata": {
    "execution": {
     "iopub.execute_input": "2021-10-02T16:16:19.603370Z",
     "iopub.status.busy": "2021-10-02T16:16:19.602384Z",
     "iopub.status.idle": "2021-10-02T16:16:19.603930Z",
     "shell.execute_reply": "2021-10-02T16:16:19.604308Z"
    }
   },
   "outputs": [],
   "source": [
    "# data['current']"
   ]
  },
  {
   "cell_type": "code",
   "execution_count": 7,
   "metadata": {
    "execution": {
     "iopub.execute_input": "2021-10-02T16:16:19.620927Z",
     "iopub.status.busy": "2021-10-02T16:16:19.620447Z",
     "iopub.status.idle": "2021-10-02T16:16:20.009394Z",
     "shell.execute_reply": "2021-10-02T16:16:20.010091Z"
    }
   },
   "outputs": [
    {
     "data": {
      "image/png": "[encoded data removed]",
      "text/plain": [
       "<Figure size 216x216 with 1 Axes>"
      ]
     },
     "metadata": {
      "needs_background": "light"
     },
     "output_type": "display_data"
    },
    {
     "name": "stdout",
     "output_type": "stream",
     "text": [
      "Today, sun rises at 06:14 and sets at 18:09.\n",
      "Currently, the weather is Rain (light rain).\n",
      "The temperature is 29.17°C and it feels like 34.99°C.\n",
      "The UV index is 0, humidity is 79%.\n",
      "The pressure is 1013 hPa, percentage of cloud cover is 13%\n",
      "The wind comes from SSW direction with a speed 0.45 m/s.\n"
     ]
    }
   ],
   "source": [
    "current = data['current']\r\n",
    "\r\n",
    "fig, ax = plt.subplots(figsize=(3, 3))\r\n",
    "icon = requests.get(f\"http://openweathermap.org/img/wn/{current['weather'][0]['icon']}@2x.png\")\r\n",
    "im = Image.open(BytesIO(icon.content))\r\n",
    "plt.imshow(im)\r\n",
    "ax.set_axis_off()\r\n",
    "plt.show()\r\n",
    "\r\n",
    "print(f\"Today, sun rises at {ts2dt(current['sunrise'], '%H:%M')[0]} \\\r\n",
    "and sets at {ts2dt(current['sunset'], '%H:%M')[0]}.\\n\\\r\n",
    "Currently, the weather is {current['weather'][0]['main']} ({current['weather'][0]['description']}).\\n\\\r\n",
    "The temperature is {current['temp']}°C and it feels like {current['feels_like']}°C.\\n\\\r\n",
    "The UV index is {current['uvi']}, humidity is {current['humidity']}%.\\n\\\r\n",
    "The pressure is {current['pressure']} hPa, percentage of cloud cover is {current['clouds']}%\\n\\\r\n",
    "The wind comes from {degrees_to_cardinal(current['wind_deg'])} direction with a speed {current['wind_speed']} m/s.\")"
   ]
  },
  {
   "cell_type": "code",
   "execution_count": 8,
   "metadata": {
    "execution": {
     "iopub.execute_input": "2021-10-02T16:16:20.013346Z",
     "iopub.status.busy": "2021-10-02T16:16:20.012405Z",
     "iopub.status.idle": "2021-10-02T16:16:20.019368Z",
     "shell.execute_reply": "2021-10-02T16:16:20.020035Z"
    }
   },
   "outputs": [],
   "source": [
    "df_hourly = pd.DataFrame(data['hourly'])\r\n",
    "df_daily = pd.DataFrame(data['daily'])"
   ]
  },
  {
   "cell_type": "code",
   "execution_count": 9,
   "metadata": {
    "execution": {
     "iopub.execute_input": "2021-10-02T16:16:20.023431Z",
     "iopub.status.busy": "2021-10-02T16:16:20.022386Z",
     "iopub.status.idle": "2021-10-02T16:16:20.258034Z",
     "shell.execute_reply": "2021-10-02T16:16:20.258426Z"
    }
   },
   "outputs": [
    {
     "data": {
      "image/png": "[encoded data removed]",
      "text/plain": [
       "<Figure size 864x432 with 1 Axes>"
      ]
     },
     "metadata": {
      "needs_background": "light"
     },
     "output_type": "display_data"
    }
   ],
   "source": [
    "fig, ax = plt.subplots(figsize=(12, 6))\r\n",
    "plt.plot(df_hourly.temp, '.-', label='Temperature')\r\n",
    "plt.plot(df_hourly.feels_like, '.-', label='Feels Like')\r\n",
    "ax.set(title='Temperature in future 48 hours', xlabel='Time', ylabel='Temperature')\r\n",
    "ax.set_xticks(list(range(0, len(df_hourly), 2)))\r\n",
    "ax.set_xticklabels([ts2dt(ts, '%m-%d %H:%M')[0] for i, ts in enumerate(df_hourly.dt) if i%2==0], \r\n",
    "                   rotation=45, ha=\"right\")\r\n",
    "ax.locator_params(nbins=15, axis='y')\r\n",
    "plt.legend()\r\n",
    "plt.show()"
   ]
  },
  {
   "cell_type": "code",
   "execution_count": 10,
   "metadata": {
    "execution": {
     "iopub.execute_input": "2021-10-02T16:16:20.277342Z",
     "iopub.status.busy": "2021-10-02T16:16:20.270031Z",
     "iopub.status.idle": "2021-10-02T16:16:20.280452Z",
     "shell.execute_reply": "2021-10-02T16:16:20.280895Z"
    }
   },
   "outputs": [
    {
     "data": {
      "text/html": [
       "<div>\n",
       "<style scoped>\n",
       "    .dataframe tbody tr th:only-of-type {\n",
       "        vertical-align: middle;\n",
       "    }\n",
       "\n",
       "    .dataframe tbody tr th {\n",
       "        vertical-align: top;\n",
       "    }\n",
       "\n",
       "    .dataframe thead th {\n",
       "        text-align: right;\n",
       "    }\n",
       "</style>\n",
       "<table border=\"1\" class=\"dataframe\">\n",
       "  <thead>\n",
       "    <tr style=\"text-align: right;\">\n",
       "      <th></th>\n",
       "      <th>dt</th>\n",
       "      <th>temp</th>\n",
       "      <th>feels_like</th>\n",
       "      <th>pressure</th>\n",
       "      <th>humidity</th>\n",
       "      <th>dew_point</th>\n",
       "      <th>uvi</th>\n",
       "      <th>clouds</th>\n",
       "      <th>visibility</th>\n",
       "      <th>wind_speed</th>\n",
       "      <th>wind_deg</th>\n",
       "      <th>wind_gust</th>\n",
       "      <th>weather</th>\n",
       "      <th>pop</th>\n",
       "      <th>rain</th>\n",
       "    </tr>\n",
       "  </thead>\n",
       "  <tbody>\n",
       "    <tr>\n",
       "      <th>0</th>\n",
       "      <td>1633190400</td>\n",
       "      <td>29.17</td>\n",
       "      <td>34.99</td>\n",
       "      <td>1013</td>\n",
       "      <td>79</td>\n",
       "      <td>25.15</td>\n",
       "      <td>0.0</td>\n",
       "      <td>13</td>\n",
       "      <td>10000</td>\n",
       "      <td>4.71</td>\n",
       "      <td>110</td>\n",
       "      <td>6.46</td>\n",
       "      <td>[{'id': 801, 'main': 'Clouds', 'description': ...</td>\n",
       "      <td>0.08</td>\n",
       "      <td>NaN</td>\n",
       "    </tr>\n",
       "    <tr>\n",
       "      <th>1</th>\n",
       "      <td>1633194000</td>\n",
       "      <td>28.96</td>\n",
       "      <td>34.21</td>\n",
       "      <td>1013</td>\n",
       "      <td>78</td>\n",
       "      <td>24.73</td>\n",
       "      <td>0.0</td>\n",
       "      <td>14</td>\n",
       "      <td>10000</td>\n",
       "      <td>4.43</td>\n",
       "      <td>104</td>\n",
       "      <td>5.91</td>\n",
       "      <td>[{'id': 801, 'main': 'Clouds', 'description': ...</td>\n",
       "      <td>0.10</td>\n",
       "      <td>NaN</td>\n",
       "    </tr>\n",
       "    <tr>\n",
       "      <th>2</th>\n",
       "      <td>1633197600</td>\n",
       "      <td>28.67</td>\n",
       "      <td>33.45</td>\n",
       "      <td>1012</td>\n",
       "      <td>78</td>\n",
       "      <td>24.45</td>\n",
       "      <td>0.0</td>\n",
       "      <td>17</td>\n",
       "      <td>10000</td>\n",
       "      <td>4.40</td>\n",
       "      <td>98</td>\n",
       "      <td>5.76</td>\n",
       "      <td>[{'id': 500, 'main': 'Rain', 'description': 'l...</td>\n",
       "      <td>0.36</td>\n",
       "      <td>{'1h': 0.12}</td>\n",
       "    </tr>\n",
       "    <tr>\n",
       "      <th>3</th>\n",
       "      <td>1633201200</td>\n",
       "      <td>28.27</td>\n",
       "      <td>32.45</td>\n",
       "      <td>1012</td>\n",
       "      <td>78</td>\n",
       "      <td>24.07</td>\n",
       "      <td>0.0</td>\n",
       "      <td>32</td>\n",
       "      <td>10000</td>\n",
       "      <td>4.44</td>\n",
       "      <td>92</td>\n",
       "      <td>5.77</td>\n",
       "      <td>[{'id': 500, 'main': 'Rain', 'description': 'l...</td>\n",
       "      <td>0.58</td>\n",
       "      <td>{'1h': 0.15}</td>\n",
       "    </tr>\n",
       "    <tr>\n",
       "      <th>4</th>\n",
       "      <td>1633204800</td>\n",
       "      <td>27.81</td>\n",
       "      <td>31.35</td>\n",
       "      <td>1011</td>\n",
       "      <td>78</td>\n",
       "      <td>23.62</td>\n",
       "      <td>0.0</td>\n",
       "      <td>36</td>\n",
       "      <td>10000</td>\n",
       "      <td>4.63</td>\n",
       "      <td>88</td>\n",
       "      <td>6.03</td>\n",
       "      <td>[{'id': 500, 'main': 'Rain', 'description': 'l...</td>\n",
       "      <td>0.69</td>\n",
       "      <td>{'1h': 0.39}</td>\n",
       "    </tr>\n",
       "  </tbody>\n",
       "</table>\n",
       "</div>"
      ],
      "text/plain": [
       "           dt   temp  feels_like  pressure  humidity  dew_point  uvi  clouds  \\\n",
       "0  1633190400  29.17       34.99      1013        79      25.15  0.0      13   \n",
       "1  1633194000  28.96       34.21      1013        78      24.73  0.0      14   \n",
       "2  1633197600  28.67       33.45      1012        78      24.45  0.0      17   \n",
       "3  1633201200  28.27       32.45      1012        78      24.07  0.0      32   \n",
       "4  1633204800  27.81       31.35      1011        78      23.62  0.0      36   \n",
       "\n",
       "   visibility  wind_speed  wind_deg  wind_gust  \\\n",
       "0       10000        4.71       110       6.46   \n",
       "1       10000        4.43       104       5.91   \n",
       "2       10000        4.40        98       5.76   \n",
       "3       10000        4.44        92       5.77   \n",
       "4       10000        4.63        88       6.03   \n",
       "\n",
       "                                             weather   pop          rain  \n",
       "0  [{'id': 801, 'main': 'Clouds', 'description': ...  0.08           NaN  \n",
       "1  [{'id': 801, 'main': 'Clouds', 'description': ...  0.10           NaN  \n",
       "2  [{'id': 500, 'main': 'Rain', 'description': 'l...  0.36  {'1h': 0.12}  \n",
       "3  [{'id': 500, 'main': 'Rain', 'description': 'l...  0.58  {'1h': 0.15}  \n",
       "4  [{'id': 500, 'main': 'Rain', 'description': 'l...  0.69  {'1h': 0.39}  "
      ]
     },
     "execution_count": 10,
     "metadata": {},
     "output_type": "execute_result"
    }
   ],
   "source": [
    "df_hourly.head()"
   ]
  },
  {
   "cell_type": "code",
   "execution_count": null,
   "metadata": {},
   "outputs": [],
   "source": []
  }
 ],
 "metadata": {
  "interpreter": {
   "hash": "c1b4cfe941b6d2466ad1fb5979e97da9cda8801728c8091b097ab734208fc00c"
  },
  "kernelspec": {
   "display_name": "Python 3.8.3 64-bit ('base': conda)",
   "name": "python3"
  },
  "language_info": {
   "codemirror_mode": {
    "name": "ipython",
    "version": 3
   },
   "file_extension": ".py",
   "mimetype": "text/x-python",
   "name": "python",
   "nbconvert_exporter": "python",
   "pygments_lexer": "ipython3",
   "version": "3.8.12"
  }
 },
 "nbformat": 4,
 "nbformat_minor": 2
}
