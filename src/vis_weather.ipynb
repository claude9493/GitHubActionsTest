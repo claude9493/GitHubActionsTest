{
 "cells": [
  {
   "cell_type": "code",
   "execution_count": 1,
   "metadata": {
    "execution": {
     "iopub.execute_input": "2021-10-02T02:25:51.715898Z",
     "iopub.status.busy": "2021-10-02T02:25:51.715261Z",
     "iopub.status.idle": "2021-10-02T02:25:54.614482Z",
     "shell.execute_reply": "2021-10-02T02:25:54.613973Z"
    }
   },
   "outputs": [],
   "source": [
    "import json, yaml, requests\r\n",
    "from datetime import datetime\r\n",
    "from dateutil import tz\r\n",
    "import pandas as pd\r\n",
    "from PIL import Image\r\n",
    "from io import BytesIO\r\n",
    "import matplotlib.pyplot as plt\r\n",
    "import seaborn\r\n",
    "\r\n",
    "CONFIG_PATH = \"../config/config.yaml\""
   ]
  },
  {
   "cell_type": "code",
   "execution_count": 2,
   "metadata": {
    "execution": {
     "iopub.execute_input": "2021-10-02T02:25:54.619583Z",
     "iopub.status.busy": "2021-10-02T02:25:54.618721Z",
     "iopub.status.idle": "2021-10-02T02:25:54.624166Z",
     "shell.execute_reply": "2021-10-02T02:25:54.623454Z"
    }
   },
   "outputs": [],
   "source": [
    "with open('../newest_ts', 'r') as f:\r\n",
    "    newest_ts = f.read()\r\n",
    "\r\n",
    "data_path = f\"../data/data_{newest_ts}.json\"\r\n",
    "with open(data_path, 'r') as f:\r\n",
    "    data = json.load(f)\r\n",
    "\r\n",
    "with open(CONFIG_PATH, \"r\") as stream:\r\n",
    "    config = yaml.safe_load(stream)\r\n",
    "\r\n",
    "TIME_ZONE = config['time_zone']\r\n",
    "DATETIME_FORMAT = config['dt_format']"
   ]
  },
  {
   "cell_type": "code",
   "execution_count": 3,
   "metadata": {
    "execution": {
     "iopub.execute_input": "2021-10-02T02:25:54.628478Z",
     "iopub.status.busy": "2021-10-02T02:25:54.627939Z",
     "iopub.status.idle": "2021-10-02T02:25:54.669870Z",
     "shell.execute_reply": "2021-10-02T02:25:54.669297Z"
    }
   },
   "outputs": [
    {
     "name": "stdout",
     "output_type": "stream",
     "text": [
      "Recent query happens at 2021-10-02 10:25:47 (CST).\n"
     ]
    }
   ],
   "source": [
    "def ts2dt(ts, format=DATETIME_FORMAT):\r\n",
    "    dt = (datetime.utcfromtimestamp(int(ts))\r\n",
    "                    .replace(tzinfo=tz.tzutc())\r\n",
    "                    # .astimezone(tz.tzlocal())\r\n",
    "                    .astimezone(tz.gettz(TIME_ZONE)))\r\n",
    "    return dt.strftime(format), dt\r\n",
    "\r\n",
    "_, newest_dt = ts2dt(newest_ts)\r\n",
    "print(f\"Recent query happens at {newest_dt.strftime(DATETIME_FORMAT)} ({newest_dt.tzname()}).\")"
   ]
  },
  {
   "cell_type": "code",
   "execution_count": 4,
   "metadata": {
    "execution": {
     "iopub.execute_input": "2021-10-02T02:25:54.675655Z",
     "iopub.status.busy": "2021-10-02T02:25:54.674510Z",
     "iopub.status.idle": "2021-10-02T02:25:54.676171Z",
     "shell.execute_reply": "2021-10-02T02:25:54.676520Z"
    }
   },
   "outputs": [],
   "source": [
    "def degrees_to_cardinal(d):\r\n",
    "  dirs = ['N', 'NNE', 'NE', 'ENE', 'E', 'ESE', 'SE', 'SSE', 'S', 'SSW', 'SW', 'WSW', 'W', 'WNW', 'NW', 'NNW']\r\n",
    "  ix = int(round(d / (360. / len(dirs))))\r\n",
    "  return dirs[ix % len(dirs)]"
   ]
  },
  {
   "cell_type": "code",
   "execution_count": 5,
   "metadata": {
    "execution": {
     "iopub.execute_input": "2021-10-02T02:25:54.680452Z",
     "iopub.status.busy": "2021-10-02T02:25:54.679572Z",
     "iopub.status.idle": "2021-10-02T02:25:54.681477Z",
     "shell.execute_reply": "2021-10-02T02:25:54.681875Z"
    }
   },
   "outputs": [],
   "source": [
    "# data.keys()"
   ]
  },
  {
   "cell_type": "code",
   "execution_count": 6,
   "metadata": {
    "execution": {
     "iopub.execute_input": "2021-10-02T02:25:54.685715Z",
     "iopub.status.busy": "2021-10-02T02:25:54.684625Z",
     "iopub.status.idle": "2021-10-02T02:25:54.686202Z",
     "shell.execute_reply": "2021-10-02T02:25:54.686545Z"
    }
   },
   "outputs": [],
   "source": [
    "# data['current']"
   ]
  },
  {
   "cell_type": "code",
   "execution_count": 7,
   "metadata": {
    "execution": {
     "iopub.execute_input": "2021-10-02T02:25:54.704208Z",
     "iopub.status.busy": "2021-10-02T02:25:54.703724Z",
     "iopub.status.idle": "2021-10-02T02:25:54.977601Z",
     "shell.execute_reply": "2021-10-02T02:25:54.978404Z"
    }
   },
   "outputs": [
    {
     "data": {
      "image/png": "[encoded data removed]",
      "text/plain": [
       "<Figure size 216x216 with 1 Axes>"
      ]
     },
     "metadata": {
      "needs_background": "light"
     },
     "output_type": "display_data"
    },
    {
     "name": "stdout",
     "output_type": "stream",
     "text": [
      "Today, sun rises at 06:14 and sets at 18:10.\n",
      "Currently, the weather is Clouds (broken clouds).\n",
      "The temperature is 30.45°C and it feels like 37.45°C.\n",
      "The UV index is 5.25, humidity is 79%.\n",
      "The pressure is 1021 hPa, percentage of cloud cover is 61%\n",
      "The wind comes from W direction with a speed 1.79 m/s.\n"
     ]
    }
   ],
   "source": [
    "current = data['current']\r\n",
    "\r\n",
    "fig, ax = plt.subplots(figsize=(3, 3))\r\n",
    "icon = requests.get(f\"http://openweathermap.org/img/wn/{current['weather'][0]['icon']}@2x.png\")\r\n",
    "im = Image.open(BytesIO(icon.content))\r\n",
    "plt.imshow(im)\r\n",
    "ax.set_axis_off()\r\n",
    "plt.show()\r\n",
    "\r\n",
    "print(f\"Today, sun rises at {ts2dt(current['sunrise'], '%H:%M')[0]} \\\r\n",
    "and sets at {ts2dt(current['sunset'], '%H:%M')[0]}.\\n\\\r\n",
    "Currently, the weather is {current['weather'][0]['main']} ({current['weather'][0]['description']}).\\n\\\r\n",
    "The temperature is {current['temp']}°C and it feels like {current['feels_like']}°C.\\n\\\r\n",
    "The UV index is {current['uvi']}, humidity is {current['humidity']}%.\\n\\\r\n",
    "The pressure is {current['pressure']} hPa, percentage of cloud cover is {current['clouds']}%\\n\\\r\n",
    "The wind comes from {degrees_to_cardinal(current['wind_deg'])} direction with a speed {current['wind_speed']} m/s.\")"
   ]
  },
  {
   "cell_type": "code",
   "execution_count": 8,
   "metadata": {
    "execution": {
     "iopub.execute_input": "2021-10-02T02:25:54.986388Z",
     "iopub.status.busy": "2021-10-02T02:25:54.985370Z",
     "iopub.status.idle": "2021-10-02T02:25:54.988428Z",
     "shell.execute_reply": "2021-10-02T02:25:54.989196Z"
    }
   },
   "outputs": [],
   "source": [
    "df_hourly = pd.DataFrame(data['hourly'])\r\n",
    "df_daily = pd.DataFrame(data['daily'])"
   ]
  },
  {
   "cell_type": "code",
   "execution_count": 9,
   "metadata": {
    "execution": {
     "iopub.execute_input": "2021-10-02T02:25:54.997055Z",
     "iopub.status.busy": "2021-10-02T02:25:54.996553Z",
     "iopub.status.idle": "2021-10-02T02:25:55.252136Z",
     "shell.execute_reply": "2021-10-02T02:25:55.251606Z"
    }
   },
   "outputs": [
    {
     "data": {
      "image/png": "[encoded data removed]",
      "text/plain": [
       "<Figure size 864x432 with 1 Axes>"
      ]
     },
     "metadata": {
      "needs_background": "light"
     },
     "output_type": "display_data"
    }
   ],
   "source": [
    "fig, ax = plt.subplots(figsize=(12, 6))\r\n",
    "plt.plot(df_hourly.temp, '.-', label='Temperature')\r\n",
    "plt.plot(df_hourly.feels_like, '.-', label='Feels Like')\r\n",
    "ax.set(title='Temperature in future 48 hours', xlabel='Time', ylabel='Temperature')\r\n",
    "ax.set_xticks(list(range(0, len(df_hourly), 2)))\r\n",
    "ax.set_xticklabels([ts2dt(ts, '%m-%d %H:%M')[0] for i, ts in enumerate(df_hourly.dt) if i%2==0], \r\n",
    "                   rotation=45, ha=\"right\")\r\n",
    "ax.locator_params(nbins=15, axis='y')\r\n",
    "plt.legend()\r\n",
    "plt.show()"
   ]
  },
  {
   "cell_type": "code",
   "execution_count": 10,
   "metadata": {
    "execution": {
     "iopub.execute_input": "2021-10-02T02:25:55.265276Z",
     "iopub.status.busy": "2021-10-02T02:25:55.264412Z",
     "iopub.status.idle": "2021-10-02T02:25:55.278739Z",
     "shell.execute_reply": "2021-10-02T02:25:55.278253Z"
    }
   },
   "outputs": [
    {
     "data": {
      "text/html": [
       "<div>\n",
       "<style scoped>\n",
       "    .dataframe tbody tr th:only-of-type {\n",
       "        vertical-align: middle;\n",
       "    }\n",
       "\n",
       "    .dataframe tbody tr th {\n",
       "        vertical-align: top;\n",
       "    }\n",
       "\n",
       "    .dataframe thead th {\n",
       "        text-align: right;\n",
       "    }\n",
       "</style>\n",
       "<table border=\"1\" class=\"dataframe\">\n",
       "  <thead>\n",
       "    <tr style=\"text-align: right;\">\n",
       "      <th></th>\n",
       "      <th>dt</th>\n",
       "      <th>temp</th>\n",
       "      <th>feels_like</th>\n",
       "      <th>pressure</th>\n",
       "      <th>humidity</th>\n",
       "      <th>dew_point</th>\n",
       "      <th>uvi</th>\n",
       "      <th>clouds</th>\n",
       "      <th>visibility</th>\n",
       "      <th>wind_speed</th>\n",
       "      <th>wind_deg</th>\n",
       "      <th>wind_gust</th>\n",
       "      <th>weather</th>\n",
       "      <th>pop</th>\n",
       "      <th>rain</th>\n",
       "    </tr>\n",
       "  </thead>\n",
       "  <tbody>\n",
       "    <tr>\n",
       "      <th>0</th>\n",
       "      <td>1633140000</td>\n",
       "      <td>30.45</td>\n",
       "      <td>37.45</td>\n",
       "      <td>1021</td>\n",
       "      <td>79</td>\n",
       "      <td>26.39</td>\n",
       "      <td>5.25</td>\n",
       "      <td>61</td>\n",
       "      <td>10000</td>\n",
       "      <td>1.79</td>\n",
       "      <td>184</td>\n",
       "      <td>1.73</td>\n",
       "      <td>[{'id': 803, 'main': 'Clouds', 'description': ...</td>\n",
       "      <td>0.35</td>\n",
       "      <td>NaN</td>\n",
       "    </tr>\n",
       "    <tr>\n",
       "      <th>1</th>\n",
       "      <td>1633143600</td>\n",
       "      <td>30.37</td>\n",
       "      <td>37.37</td>\n",
       "      <td>1019</td>\n",
       "      <td>76</td>\n",
       "      <td>25.66</td>\n",
       "      <td>7.67</td>\n",
       "      <td>60</td>\n",
       "      <td>10000</td>\n",
       "      <td>2.40</td>\n",
       "      <td>166</td>\n",
       "      <td>2.33</td>\n",
       "      <td>[{'id': 803, 'main': 'Clouds', 'description': ...</td>\n",
       "      <td>0.35</td>\n",
       "      <td>NaN</td>\n",
       "    </tr>\n",
       "    <tr>\n",
       "      <th>2</th>\n",
       "      <td>1633147200</td>\n",
       "      <td>30.29</td>\n",
       "      <td>36.28</td>\n",
       "      <td>1017</td>\n",
       "      <td>72</td>\n",
       "      <td>24.68</td>\n",
       "      <td>9.61</td>\n",
       "      <td>59</td>\n",
       "      <td>10000</td>\n",
       "      <td>2.18</td>\n",
       "      <td>151</td>\n",
       "      <td>2.06</td>\n",
       "      <td>[{'id': 803, 'main': 'Clouds', 'description': ...</td>\n",
       "      <td>0.31</td>\n",
       "      <td>NaN</td>\n",
       "    </tr>\n",
       "    <tr>\n",
       "      <th>3</th>\n",
       "      <td>1633150800</td>\n",
       "      <td>30.29</td>\n",
       "      <td>35.50</td>\n",
       "      <td>1015</td>\n",
       "      <td>69</td>\n",
       "      <td>23.96</td>\n",
       "      <td>9.44</td>\n",
       "      <td>54</td>\n",
       "      <td>10000</td>\n",
       "      <td>2.66</td>\n",
       "      <td>143</td>\n",
       "      <td>2.49</td>\n",
       "      <td>[{'id': 803, 'main': 'Clouds', 'description': ...</td>\n",
       "      <td>0.31</td>\n",
       "      <td>NaN</td>\n",
       "    </tr>\n",
       "    <tr>\n",
       "      <th>4</th>\n",
       "      <td>1633154400</td>\n",
       "      <td>30.11</td>\n",
       "      <td>34.35</td>\n",
       "      <td>1012</td>\n",
       "      <td>66</td>\n",
       "      <td>23.06</td>\n",
       "      <td>7.69</td>\n",
       "      <td>47</td>\n",
       "      <td>10000</td>\n",
       "      <td>2.87</td>\n",
       "      <td>142</td>\n",
       "      <td>2.55</td>\n",
       "      <td>[{'id': 802, 'main': 'Clouds', 'description': ...</td>\n",
       "      <td>0.31</td>\n",
       "      <td>NaN</td>\n",
       "    </tr>\n",
       "  </tbody>\n",
       "</table>\n",
       "</div>"
      ],
      "text/plain": [
       "           dt   temp  feels_like  pressure  humidity  dew_point   uvi  clouds  \\\n",
       "0  1633140000  30.45       37.45      1021        79      26.39  5.25      61   \n",
       "1  1633143600  30.37       37.37      1019        76      25.66  7.67      60   \n",
       "2  1633147200  30.29       36.28      1017        72      24.68  9.61      59   \n",
       "3  1633150800  30.29       35.50      1015        69      23.96  9.44      54   \n",
       "4  1633154400  30.11       34.35      1012        66      23.06  7.69      47   \n",
       "\n",
       "   visibility  wind_speed  wind_deg  wind_gust  \\\n",
       "0       10000        1.79       184       1.73   \n",
       "1       10000        2.40       166       2.33   \n",
       "2       10000        2.18       151       2.06   \n",
       "3       10000        2.66       143       2.49   \n",
       "4       10000        2.87       142       2.55   \n",
       "\n",
       "                                             weather   pop rain  \n",
       "0  [{'id': 803, 'main': 'Clouds', 'description': ...  0.35  NaN  \n",
       "1  [{'id': 803, 'main': 'Clouds', 'description': ...  0.35  NaN  \n",
       "2  [{'id': 803, 'main': 'Clouds', 'description': ...  0.31  NaN  \n",
       "3  [{'id': 803, 'main': 'Clouds', 'description': ...  0.31  NaN  \n",
       "4  [{'id': 802, 'main': 'Clouds', 'description': ...  0.31  NaN  "
      ]
     },
     "execution_count": 10,
     "metadata": {},
     "output_type": "execute_result"
    }
   ],
   "source": [
    "df_hourly.head()"
   ]
  },
  {
   "cell_type": "code",
   "execution_count": null,
   "metadata": {},
   "outputs": [],
   "source": []
  }
 ],
 "metadata": {
  "interpreter": {
   "hash": "c1b4cfe941b6d2466ad1fb5979e97da9cda8801728c8091b097ab734208fc00c"
  },
  "kernelspec": {
   "display_name": "Python 3.8.3 64-bit ('base': conda)",
   "name": "python3"
  },
  "language_info": {
   "codemirror_mode": {
    "name": "ipython",
    "version": 3
   },
   "file_extension": ".py",
   "mimetype": "text/x-python",
   "name": "python",
   "nbconvert_exporter": "python",
   "pygments_lexer": "ipython3",
   "version": "3.8.12"
  }
 },
 "nbformat": 4,
 "nbformat_minor": 2
}
