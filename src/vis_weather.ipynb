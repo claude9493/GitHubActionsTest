{
 "cells": [
  {
   "cell_type": "code",
   "execution_count": 1,
   "metadata": {
    "execution": {
     "iopub.execute_input": "2021-09-19T06:13:11.345387Z",
     "iopub.status.busy": "2021-09-19T06:13:11.344855Z",
     "iopub.status.idle": "2021-09-19T06:13:12.636054Z",
     "shell.execute_reply": "2021-09-19T06:13:12.635444Z"
    }
   },
   "outputs": [],
   "source": [
    "import json, yaml, requests\r\n",
    "from datetime import datetime\r\n",
    "from dateutil import tz\r\n",
    "import pandas as pd\r\n",
    "from PIL import Image\r\n",
    "from io import BytesIO\r\n",
    "import matplotlib.pyplot as plt\r\n",
    "import seaborn\r\n",
    "\r\n",
    "CONFIG_PATH = \"../config/config.yaml\""
   ]
  },
  {
   "cell_type": "code",
   "execution_count": 2,
   "metadata": {
    "execution": {
     "iopub.execute_input": "2021-09-19T06:13:12.643495Z",
     "iopub.status.busy": "2021-09-19T06:13:12.640523Z",
     "iopub.status.idle": "2021-09-19T06:13:12.646283Z",
     "shell.execute_reply": "2021-09-19T06:13:12.645587Z"
    }
   },
   "outputs": [],
   "source": [
    "with open('../newest_ts', 'r') as f:\r\n",
    "    newest_ts = f.read()\r\n",
    "\r\n",
    "data_path = f\"../data/data_{newest_ts}.json\"\r\n",
    "with open(data_path, 'r') as f:\r\n",
    "    data = json.load(f)\r\n",
    "\r\n",
    "with open(CONFIG_PATH, \"r\") as stream:\r\n",
    "    config = yaml.safe_load(stream)\r\n",
    "\r\n",
    "TIME_ZONE = config['time_zone']\r\n",
    "DATETIME_FORMAT = config['dt_format']"
   ]
  },
  {
   "cell_type": "code",
   "execution_count": 3,
   "metadata": {
    "execution": {
     "iopub.execute_input": "2021-09-19T06:13:12.650590Z",
     "iopub.status.busy": "2021-09-19T06:13:12.650141Z",
     "iopub.status.idle": "2021-09-19T06:13:12.661118Z",
     "shell.execute_reply": "2021-09-19T06:13:12.660741Z"
    }
   },
   "outputs": [
    {
     "name": "stdout",
     "output_type": "stream",
     "text": [
      "Recent query happens at 2021-09-19 14:13:08 (CST).\n"
     ]
    }
   ],
   "source": [
    "def ts2dt(ts, format=DATETIME_FORMAT):\r\n",
    "    dt = (datetime.utcfromtimestamp(int(ts))\r\n",
    "                    .replace(tzinfo=tz.tzutc())\r\n",
    "                    # .astimezone(tz.tzlocal())\r\n",
    "                    .astimezone(tz.gettz(TIME_ZONE)))\r\n",
    "    return dt.strftime(format), dt\r\n",
    "\r\n",
    "_, newest_dt = ts2dt(newest_ts)\r\n",
    "print(f\"Recent query happens at {newest_dt.strftime(DATETIME_FORMAT)} ({newest_dt.tzname()}).\")"
   ]
  },
  {
   "cell_type": "code",
   "execution_count": 4,
   "metadata": {
    "execution": {
     "iopub.execute_input": "2021-09-19T06:13:12.665919Z",
     "iopub.status.busy": "2021-09-19T06:13:12.664815Z",
     "iopub.status.idle": "2021-09-19T06:13:12.666436Z",
     "shell.execute_reply": "2021-09-19T06:13:12.666795Z"
    }
   },
   "outputs": [],
   "source": [
    "def degrees_to_cardinal(d):\r\n",
    "  dirs = ['N', 'NNE', 'NE', 'ENE', 'E', 'ESE', 'SE', 'SSE', 'S', 'SSW', 'SW', 'WSW', 'W', 'WNW', 'NW', 'NNW']\r\n",
    "  ix = int(round(d / (360. / len(dirs))))\r\n",
    "  return dirs[ix % len(dirs)]"
   ]
  },
  {
   "cell_type": "code",
   "execution_count": 5,
   "metadata": {
    "execution": {
     "iopub.execute_input": "2021-09-19T06:13:12.670651Z",
     "iopub.status.busy": "2021-09-19T06:13:12.669686Z",
     "iopub.status.idle": "2021-09-19T06:13:12.671168Z",
     "shell.execute_reply": "2021-09-19T06:13:12.671526Z"
    }
   },
   "outputs": [],
   "source": [
    "# data.keys()"
   ]
  },
  {
   "cell_type": "code",
   "execution_count": 6,
   "metadata": {
    "execution": {
     "iopub.execute_input": "2021-09-19T06:13:12.675119Z",
     "iopub.status.busy": "2021-09-19T06:13:12.674072Z",
     "iopub.status.idle": "2021-09-19T06:13:12.675623Z",
     "shell.execute_reply": "2021-09-19T06:13:12.675980Z"
    }
   },
   "outputs": [],
   "source": [
    "# data['current']"
   ]
  },
  {
   "cell_type": "code",
   "execution_count": 7,
   "metadata": {
    "execution": {
     "iopub.execute_input": "2021-09-19T06:13:12.692710Z",
     "iopub.status.busy": "2021-09-19T06:13:12.692228Z",
     "iopub.status.idle": "2021-09-19T06:13:13.222702Z",
     "shell.execute_reply": "2021-09-19T06:13:13.223351Z"
    }
   },
   "outputs": [
    {
     "data": {
      "image/png": "[encoded data removed]",
      "text/plain": [
       "<Figure size 216x216 with 1 Axes>"
      ]
     },
     "metadata": {
      "needs_background": "light"
     },
     "output_type": "display_data"
    },
    {
     "name": "stdout",
     "output_type": "stream",
     "text": [
      "Today, sun rises at 06:10 and sets at 18:22.\n",
      "Currently, the weather is Rain (light rain).\n",
      "The temperature is 31.86°C and it feels like 38.86°C.\n",
      "The UV index is 8.18, humidity is 76%.\n",
      "The pressure is 1010 hPa, percentage of cloud cover is 69%\n",
      "The wind comes from E direction with a speed 5.55 m/s.\n"
     ]
    }
   ],
   "source": [
    "current = data['current']\r\n",
    "\r\n",
    "fig, ax = plt.subplots(figsize=(3, 3))\r\n",
    "icon = requests.get(f\"http://openweathermap.org/img/wn/{current['weather'][0]['icon']}@2x.png\")\r\n",
    "im = Image.open(BytesIO(icon.content))\r\n",
    "plt.imshow(im)\r\n",
    "ax.set_axis_off()\r\n",
    "plt.show()\r\n",
    "\r\n",
    "print(f\"Today, sun rises at {ts2dt(current['sunrise'], '%H:%M')[0]} \\\r\n",
    "and sets at {ts2dt(current['sunset'], '%H:%M')[0]}.\\n\\\r\n",
    "Currently, the weather is {current['weather'][0]['main']} ({current['weather'][0]['description']}).\\n\\\r\n",
    "The temperature is {current['temp']}°C and it feels like {current['feels_like']}°C.\\n\\\r\n",
    "The UV index is {current['uvi']}, humidity is {current['humidity']}%.\\n\\\r\n",
    "The pressure is {current['pressure']} hPa, percentage of cloud cover is {current['clouds']}%\\n\\\r\n",
    "The wind comes from {degrees_to_cardinal(current['wind_deg'])} direction with a speed {current['wind_speed']} m/s.\")"
   ]
  },
  {
   "cell_type": "code",
   "execution_count": 8,
   "metadata": {
    "execution": {
     "iopub.execute_input": "2021-09-19T06:13:13.226471Z",
     "iopub.status.busy": "2021-09-19T06:13:13.225573Z",
     "iopub.status.idle": "2021-09-19T06:13:13.232173Z",
     "shell.execute_reply": "2021-09-19T06:13:13.232810Z"
    }
   },
   "outputs": [],
   "source": [
    "df_hourly = pd.DataFrame(data['hourly'])\r\n",
    "df_daily = pd.DataFrame(data['daily'])"
   ]
  },
  {
   "cell_type": "code",
   "execution_count": 9,
   "metadata": {
    "execution": {
     "iopub.execute_input": "2021-09-19T06:13:13.235683Z",
     "iopub.status.busy": "2021-09-19T06:13:13.234792Z",
     "iopub.status.idle": "2021-09-19T06:13:13.479302Z",
     "shell.execute_reply": "2021-09-19T06:13:13.478412Z"
    }
   },
   "outputs": [
    {
     "data": {
      "image/png": "[encoded data removed]",
      "text/plain": [
       "<Figure size 864x432 with 1 Axes>"
      ]
     },
     "metadata": {
      "needs_background": "light"
     },
     "output_type": "display_data"
    }
   ],
   "source": [
    "fig, ax = plt.subplots(figsize=(12, 6))\r\n",
    "plt.plot(df_hourly.temp, '.-', label='Temperature')\r\n",
    "plt.plot(df_hourly.feels_like, '.-', label='Feels Like')\r\n",
    "ax.set(title='Temperature in future 48 hours', xlabel='Time', ylabel='Temperature')\r\n",
    "ax.set_xticks(list(range(0, len(df_hourly), 2)))\r\n",
    "ax.set_xticklabels([ts2dt(ts, '%m-%d %H:%M')[0] for i, ts in enumerate(df_hourly.dt) if i%2==0], \r\n",
    "                   rotation=45, ha=\"right\")\r\n",
    "ax.locator_params(nbins=15, axis='y')\r\n",
    "plt.legend()\r\n",
    "plt.show()"
   ]
  },
  {
   "cell_type": "code",
   "execution_count": 10,
   "metadata": {
    "execution": {
     "iopub.execute_input": "2021-09-19T06:13:13.483751Z",
     "iopub.status.busy": "2021-09-19T06:13:13.481376Z",
     "iopub.status.idle": "2021-09-19T06:13:13.501883Z",
     "shell.execute_reply": "2021-09-19T06:13:13.501476Z"
    }
   },
   "outputs": [
    {
     "data": {
      "text/html": [
       "<div>\n",
       "<style scoped>\n",
       "    .dataframe tbody tr th:only-of-type {\n",
       "        vertical-align: middle;\n",
       "    }\n",
       "\n",
       "    .dataframe tbody tr th {\n",
       "        vertical-align: top;\n",
       "    }\n",
       "\n",
       "    .dataframe thead th {\n",
       "        text-align: right;\n",
       "    }\n",
       "</style>\n",
       "<table border=\"1\" class=\"dataframe\">\n",
       "  <thead>\n",
       "    <tr style=\"text-align: right;\">\n",
       "      <th></th>\n",
       "      <th>dt</th>\n",
       "      <th>temp</th>\n",
       "      <th>feels_like</th>\n",
       "      <th>pressure</th>\n",
       "      <th>humidity</th>\n",
       "      <th>dew_point</th>\n",
       "      <th>uvi</th>\n",
       "      <th>clouds</th>\n",
       "      <th>visibility</th>\n",
       "      <th>wind_speed</th>\n",
       "      <th>wind_deg</th>\n",
       "      <th>wind_gust</th>\n",
       "      <th>weather</th>\n",
       "      <th>pop</th>\n",
       "      <th>rain</th>\n",
       "    </tr>\n",
       "  </thead>\n",
       "  <tbody>\n",
       "    <tr>\n",
       "      <th>0</th>\n",
       "      <td>1632031200</td>\n",
       "      <td>31.86</td>\n",
       "      <td>38.86</td>\n",
       "      <td>1010</td>\n",
       "      <td>76</td>\n",
       "      <td>27.10</td>\n",
       "      <td>8.18</td>\n",
       "      <td>69</td>\n",
       "      <td>10000</td>\n",
       "      <td>5.55</td>\n",
       "      <td>100</td>\n",
       "      <td>6.39</td>\n",
       "      <td>[{'id': 500, 'main': 'Rain', 'description': 'l...</td>\n",
       "      <td>0.61</td>\n",
       "      <td>{'1h': 0.15}</td>\n",
       "    </tr>\n",
       "    <tr>\n",
       "      <th>1</th>\n",
       "      <td>1632034800</td>\n",
       "      <td>31.39</td>\n",
       "      <td>38.39</td>\n",
       "      <td>1010</td>\n",
       "      <td>75</td>\n",
       "      <td>26.42</td>\n",
       "      <td>5.55</td>\n",
       "      <td>75</td>\n",
       "      <td>10000</td>\n",
       "      <td>5.02</td>\n",
       "      <td>106</td>\n",
       "      <td>5.99</td>\n",
       "      <td>[{'id': 500, 'main': 'Rain', 'description': 'l...</td>\n",
       "      <td>0.60</td>\n",
       "      <td>{'1h': 0.22}</td>\n",
       "    </tr>\n",
       "    <tr>\n",
       "      <th>2</th>\n",
       "      <td>1632038400</td>\n",
       "      <td>30.83</td>\n",
       "      <td>37.83</td>\n",
       "      <td>1010</td>\n",
       "      <td>77</td>\n",
       "      <td>26.33</td>\n",
       "      <td>2.79</td>\n",
       "      <td>80</td>\n",
       "      <td>10000</td>\n",
       "      <td>4.75</td>\n",
       "      <td>108</td>\n",
       "      <td>5.77</td>\n",
       "      <td>[{'id': 500, 'main': 'Rain', 'description': 'l...</td>\n",
       "      <td>0.60</td>\n",
       "      <td>{'1h': 0.21}</td>\n",
       "    </tr>\n",
       "    <tr>\n",
       "      <th>3</th>\n",
       "      <td>1632042000</td>\n",
       "      <td>30.17</td>\n",
       "      <td>37.17</td>\n",
       "      <td>1010</td>\n",
       "      <td>78</td>\n",
       "      <td>25.91</td>\n",
       "      <td>0.90</td>\n",
       "      <td>83</td>\n",
       "      <td>10000</td>\n",
       "      <td>4.70</td>\n",
       "      <td>108</td>\n",
       "      <td>5.74</td>\n",
       "      <td>[{'id': 803, 'main': 'Clouds', 'description': ...</td>\n",
       "      <td>0.61</td>\n",
       "      <td>NaN</td>\n",
       "    </tr>\n",
       "    <tr>\n",
       "      <th>4</th>\n",
       "      <td>1632045600</td>\n",
       "      <td>29.36</td>\n",
       "      <td>35.76</td>\n",
       "      <td>1010</td>\n",
       "      <td>80</td>\n",
       "      <td>25.55</td>\n",
       "      <td>0.12</td>\n",
       "      <td>77</td>\n",
       "      <td>10000</td>\n",
       "      <td>4.34</td>\n",
       "      <td>113</td>\n",
       "      <td>5.94</td>\n",
       "      <td>[{'id': 803, 'main': 'Clouds', 'description': ...</td>\n",
       "      <td>0.63</td>\n",
       "      <td>NaN</td>\n",
       "    </tr>\n",
       "  </tbody>\n",
       "</table>\n",
       "</div>"
      ],
      "text/plain": [
       "           dt   temp  feels_like  pressure  humidity  dew_point   uvi  clouds  \\\n",
       "0  1632031200  31.86       38.86      1010        76      27.10  8.18      69   \n",
       "1  1632034800  31.39       38.39      1010        75      26.42  5.55      75   \n",
       "2  1632038400  30.83       37.83      1010        77      26.33  2.79      80   \n",
       "3  1632042000  30.17       37.17      1010        78      25.91  0.90      83   \n",
       "4  1632045600  29.36       35.76      1010        80      25.55  0.12      77   \n",
       "\n",
       "   visibility  wind_speed  wind_deg  wind_gust  \\\n",
       "0       10000        5.55       100       6.39   \n",
       "1       10000        5.02       106       5.99   \n",
       "2       10000        4.75       108       5.77   \n",
       "3       10000        4.70       108       5.74   \n",
       "4       10000        4.34       113       5.94   \n",
       "\n",
       "                                             weather   pop          rain  \n",
       "0  [{'id': 500, 'main': 'Rain', 'description': 'l...  0.61  {'1h': 0.15}  \n",
       "1  [{'id': 500, 'main': 'Rain', 'description': 'l...  0.60  {'1h': 0.22}  \n",
       "2  [{'id': 500, 'main': 'Rain', 'description': 'l...  0.60  {'1h': 0.21}  \n",
       "3  [{'id': 803, 'main': 'Clouds', 'description': ...  0.61           NaN  \n",
       "4  [{'id': 803, 'main': 'Clouds', 'description': ...  0.63           NaN  "
      ]
     },
     "execution_count": 10,
     "metadata": {},
     "output_type": "execute_result"
    }
   ],
   "source": [
    "df_hourly.head()"
   ]
  },
  {
   "cell_type": "code",
   "execution_count": null,
   "metadata": {},
   "outputs": [],
   "source": []
  }
 ],
 "metadata": {
  "interpreter": {
   "hash": "c1b4cfe941b6d2466ad1fb5979e97da9cda8801728c8091b097ab734208fc00c"
  },
  "kernelspec": {
   "display_name": "Python 3.8.3 64-bit ('base': conda)",
   "name": "python3"
  },
  "language_info": {
   "codemirror_mode": {
    "name": "ipython",
    "version": 3
   },
   "file_extension": ".py",
   "mimetype": "text/x-python",
   "name": "python",
   "nbconvert_exporter": "python",
   "pygments_lexer": "ipython3",
   "version": "3.8.11"
  }
 },
 "nbformat": 4,
 "nbformat_minor": 2
}
