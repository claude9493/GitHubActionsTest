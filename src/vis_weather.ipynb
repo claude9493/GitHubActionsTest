{
 "cells": [
  {
   "cell_type": "code",
   "execution_count": 1,
   "metadata": {
    "execution": {
     "iopub.execute_input": "2021-09-23T02:00:58.280413Z",
     "iopub.status.busy": "2021-09-23T02:00:58.279765Z",
     "iopub.status.idle": "2021-09-23T02:00:59.583809Z",
     "shell.execute_reply": "2021-09-23T02:00:59.582696Z"
    }
   },
   "outputs": [],
   "source": [
    "import json, yaml, requests\r\n",
    "from datetime import datetime\r\n",
    "from dateutil import tz\r\n",
    "import pandas as pd\r\n",
    "from PIL import Image\r\n",
    "from io import BytesIO\r\n",
    "import matplotlib.pyplot as plt\r\n",
    "import seaborn\r\n",
    "\r\n",
    "CONFIG_PATH = \"../config/config.yaml\""
   ]
  },
  {
   "cell_type": "code",
   "execution_count": 2,
   "metadata": {
    "execution": {
     "iopub.execute_input": "2021-09-23T02:00:59.591902Z",
     "iopub.status.busy": "2021-09-23T02:00:59.588900Z",
     "iopub.status.idle": "2021-09-23T02:00:59.594687Z",
     "shell.execute_reply": "2021-09-23T02:00:59.594223Z"
    }
   },
   "outputs": [],
   "source": [
    "with open('../newest_ts', 'r') as f:\r\n",
    "    newest_ts = f.read()\r\n",
    "\r\n",
    "data_path = f\"../data/data_{newest_ts}.json\"\r\n",
    "with open(data_path, 'r') as f:\r\n",
    "    data = json.load(f)\r\n",
    "\r\n",
    "with open(CONFIG_PATH, \"r\") as stream:\r\n",
    "    config = yaml.safe_load(stream)\r\n",
    "\r\n",
    "TIME_ZONE = config['time_zone']\r\n",
    "DATETIME_FORMAT = config['dt_format']"
   ]
  },
  {
   "cell_type": "code",
   "execution_count": 3,
   "metadata": {
    "execution": {
     "iopub.execute_input": "2021-09-23T02:00:59.599603Z",
     "iopub.status.busy": "2021-09-23T02:00:59.598966Z",
     "iopub.status.idle": "2021-09-23T02:00:59.604279Z",
     "shell.execute_reply": "2021-09-23T02:00:59.603857Z"
    }
   },
   "outputs": [
    {
     "name": "stdout",
     "output_type": "stream",
     "text": [
      "Recent query happens at 2021-09-23 10:00:55 (CST).\n"
     ]
    }
   ],
   "source": [
    "def ts2dt(ts, format=DATETIME_FORMAT):\r\n",
    "    dt = (datetime.utcfromtimestamp(int(ts))\r\n",
    "                    .replace(tzinfo=tz.tzutc())\r\n",
    "                    # .astimezone(tz.tzlocal())\r\n",
    "                    .astimezone(tz.gettz(TIME_ZONE)))\r\n",
    "    return dt.strftime(format), dt\r\n",
    "\r\n",
    "_, newest_dt = ts2dt(newest_ts)\r\n",
    "print(f\"Recent query happens at {newest_dt.strftime(DATETIME_FORMAT)} ({newest_dt.tzname()}).\")"
   ]
  },
  {
   "cell_type": "code",
   "execution_count": 4,
   "metadata": {
    "execution": {
     "iopub.execute_input": "2021-09-23T02:00:59.609963Z",
     "iopub.status.busy": "2021-09-23T02:00:59.608758Z",
     "iopub.status.idle": "2021-09-23T02:00:59.610462Z",
     "shell.execute_reply": "2021-09-23T02:00:59.610870Z"
    }
   },
   "outputs": [],
   "source": [
    "def degrees_to_cardinal(d):\r\n",
    "  dirs = ['N', 'NNE', 'NE', 'ENE', 'E', 'ESE', 'SE', 'SSE', 'S', 'SSW', 'SW', 'WSW', 'W', 'WNW', 'NW', 'NNW']\r\n",
    "  ix = int(round(d / (360. / len(dirs))))\r\n",
    "  return dirs[ix % len(dirs)]"
   ]
  },
  {
   "cell_type": "code",
   "execution_count": 5,
   "metadata": {
    "execution": {
     "iopub.execute_input": "2021-09-23T02:00:59.614962Z",
     "iopub.status.busy": "2021-09-23T02:00:59.613856Z",
     "iopub.status.idle": "2021-09-23T02:00:59.615551Z",
     "shell.execute_reply": "2021-09-23T02:00:59.616068Z"
    }
   },
   "outputs": [],
   "source": [
    "# data.keys()"
   ]
  },
  {
   "cell_type": "code",
   "execution_count": 6,
   "metadata": {
    "execution": {
     "iopub.execute_input": "2021-09-23T02:00:59.620262Z",
     "iopub.status.busy": "2021-09-23T02:00:59.619012Z",
     "iopub.status.idle": "2021-09-23T02:00:59.620784Z",
     "shell.execute_reply": "2021-09-23T02:00:59.621129Z"
    }
   },
   "outputs": [],
   "source": [
    "# data['current']"
   ]
  },
  {
   "cell_type": "code",
   "execution_count": 7,
   "metadata": {
    "execution": {
     "iopub.execute_input": "2021-09-23T02:00:59.638536Z",
     "iopub.status.busy": "2021-09-23T02:00:59.626945Z",
     "iopub.status.idle": "2021-09-23T02:00:59.909967Z",
     "shell.execute_reply": "2021-09-23T02:00:59.910735Z"
    }
   },
   "outputs": [
    {
     "data": {
      "image/png": "[encoded data removed]",
      "text/plain": [
       "<Figure size 216x216 with 1 Axes>"
      ]
     },
     "metadata": {
      "needs_background": "light"
     },
     "output_type": "display_data"
    },
    {
     "name": "stdout",
     "output_type": "stream",
     "text": [
      "Today, sun rises at 06:11 and sets at 18:18.\n",
      "Currently, the weather is Rain (light rain).\n",
      "The temperature is 27.89°C and it feels like 32.91°C.\n",
      "The UV index is 5.71, humidity is 87%.\n",
      "The pressure is 1014 hPa, percentage of cloud cover is 97%\n",
      "The wind comes from E direction with a speed 6.24 m/s.\n"
     ]
    }
   ],
   "source": [
    "current = data['current']\r\n",
    "\r\n",
    "fig, ax = plt.subplots(figsize=(3, 3))\r\n",
    "icon = requests.get(f\"http://openweathermap.org/img/wn/{current['weather'][0]['icon']}@2x.png\")\r\n",
    "im = Image.open(BytesIO(icon.content))\r\n",
    "plt.imshow(im)\r\n",
    "ax.set_axis_off()\r\n",
    "plt.show()\r\n",
    "\r\n",
    "print(f\"Today, sun rises at {ts2dt(current['sunrise'], '%H:%M')[0]} \\\r\n",
    "and sets at {ts2dt(current['sunset'], '%H:%M')[0]}.\\n\\\r\n",
    "Currently, the weather is {current['weather'][0]['main']} ({current['weather'][0]['description']}).\\n\\\r\n",
    "The temperature is {current['temp']}°C and it feels like {current['feels_like']}°C.\\n\\\r\n",
    "The UV index is {current['uvi']}, humidity is {current['humidity']}%.\\n\\\r\n",
    "The pressure is {current['pressure']} hPa, percentage of cloud cover is {current['clouds']}%\\n\\\r\n",
    "The wind comes from {degrees_to_cardinal(current['wind_deg'])} direction with a speed {current['wind_speed']} m/s.\")"
   ]
  },
  {
   "cell_type": "code",
   "execution_count": 8,
   "metadata": {
    "execution": {
     "iopub.execute_input": "2021-09-23T02:00:59.914345Z",
     "iopub.status.busy": "2021-09-23T02:00:59.913244Z",
     "iopub.status.idle": "2021-09-23T02:00:59.920870Z",
     "shell.execute_reply": "2021-09-23T02:00:59.921636Z"
    }
   },
   "outputs": [],
   "source": [
    "df_hourly = pd.DataFrame(data['hourly'])\r\n",
    "df_daily = pd.DataFrame(data['daily'])"
   ]
  },
  {
   "cell_type": "code",
   "execution_count": 9,
   "metadata": {
    "execution": {
     "iopub.execute_input": "2021-09-23T02:00:59.924996Z",
     "iopub.status.busy": "2021-09-23T02:00:59.923969Z",
     "iopub.status.idle": "2021-09-23T02:01:00.201270Z",
     "shell.execute_reply": "2021-09-23T02:01:00.200764Z"
    }
   },
   "outputs": [
    {
     "data": {
      "image/png": "[encoded data removed]",
      "text/plain": [
       "<Figure size 864x432 with 1 Axes>"
      ]
     },
     "metadata": {
      "needs_background": "light"
     },
     "output_type": "display_data"
    }
   ],
   "source": [
    "fig, ax = plt.subplots(figsize=(12, 6))\r\n",
    "plt.plot(df_hourly.temp, '.-', label='Temperature')\r\n",
    "plt.plot(df_hourly.feels_like, '.-', label='Feels Like')\r\n",
    "ax.set(title='Temperature in future 48 hours', xlabel='Time', ylabel='Temperature')\r\n",
    "ax.set_xticks(list(range(0, len(df_hourly), 2)))\r\n",
    "ax.set_xticklabels([ts2dt(ts, '%m-%d %H:%M')[0] for i, ts in enumerate(df_hourly.dt) if i%2==0], \r\n",
    "                   rotation=45, ha=\"right\")\r\n",
    "ax.locator_params(nbins=15, axis='y')\r\n",
    "plt.legend()\r\n",
    "plt.show()"
   ]
  },
  {
   "cell_type": "code",
   "execution_count": 10,
   "metadata": {
    "execution": {
     "iopub.execute_input": "2021-09-23T02:01:00.214368Z",
     "iopub.status.busy": "2021-09-23T02:01:00.205768Z",
     "iopub.status.idle": "2021-09-23T02:01:00.226444Z",
     "shell.execute_reply": "2021-09-23T02:01:00.225612Z"
    }
   },
   "outputs": [
    {
     "data": {
      "text/html": [
       "<div>\n",
       "<style scoped>\n",
       "    .dataframe tbody tr th:only-of-type {\n",
       "        vertical-align: middle;\n",
       "    }\n",
       "\n",
       "    .dataframe tbody tr th {\n",
       "        vertical-align: top;\n",
       "    }\n",
       "\n",
       "    .dataframe thead th {\n",
       "        text-align: right;\n",
       "    }\n",
       "</style>\n",
       "<table border=\"1\" class=\"dataframe\">\n",
       "  <thead>\n",
       "    <tr style=\"text-align: right;\">\n",
       "      <th></th>\n",
       "      <th>dt</th>\n",
       "      <th>temp</th>\n",
       "      <th>feels_like</th>\n",
       "      <th>pressure</th>\n",
       "      <th>humidity</th>\n",
       "      <th>dew_point</th>\n",
       "      <th>uvi</th>\n",
       "      <th>clouds</th>\n",
       "      <th>visibility</th>\n",
       "      <th>wind_speed</th>\n",
       "      <th>wind_deg</th>\n",
       "      <th>wind_gust</th>\n",
       "      <th>weather</th>\n",
       "      <th>pop</th>\n",
       "      <th>rain</th>\n",
       "    </tr>\n",
       "  </thead>\n",
       "  <tbody>\n",
       "    <tr>\n",
       "      <th>0</th>\n",
       "      <td>1632362400</td>\n",
       "      <td>27.89</td>\n",
       "      <td>32.91</td>\n",
       "      <td>1014</td>\n",
       "      <td>87</td>\n",
       "      <td>25.52</td>\n",
       "      <td>5.71</td>\n",
       "      <td>97</td>\n",
       "      <td>10000</td>\n",
       "      <td>6.24</td>\n",
       "      <td>86</td>\n",
       "      <td>7.35</td>\n",
       "      <td>[{'id': 500, 'main': 'Rain', 'description': 'l...</td>\n",
       "      <td>0.69</td>\n",
       "      <td>{'1h': 0.27}</td>\n",
       "    </tr>\n",
       "    <tr>\n",
       "      <th>1</th>\n",
       "      <td>1632366000</td>\n",
       "      <td>28.18</td>\n",
       "      <td>33.23</td>\n",
       "      <td>1014</td>\n",
       "      <td>84</td>\n",
       "      <td>25.22</td>\n",
       "      <td>8.24</td>\n",
       "      <td>97</td>\n",
       "      <td>10000</td>\n",
       "      <td>6.44</td>\n",
       "      <td>85</td>\n",
       "      <td>7.47</td>\n",
       "      <td>[{'id': 804, 'main': 'Clouds', 'description': ...</td>\n",
       "      <td>0.73</td>\n",
       "      <td>NaN</td>\n",
       "    </tr>\n",
       "    <tr>\n",
       "      <th>2</th>\n",
       "      <td>1632369600</td>\n",
       "      <td>28.55</td>\n",
       "      <td>33.71</td>\n",
       "      <td>1014</td>\n",
       "      <td>81</td>\n",
       "      <td>24.97</td>\n",
       "      <td>9.61</td>\n",
       "      <td>96</td>\n",
       "      <td>10000</td>\n",
       "      <td>6.53</td>\n",
       "      <td>89</td>\n",
       "      <td>7.71</td>\n",
       "      <td>[{'id': 804, 'main': 'Clouds', 'description': ...</td>\n",
       "      <td>0.85</td>\n",
       "      <td>NaN</td>\n",
       "    </tr>\n",
       "    <tr>\n",
       "      <th>3</th>\n",
       "      <td>1632373200</td>\n",
       "      <td>29.05</td>\n",
       "      <td>34.23</td>\n",
       "      <td>1013</td>\n",
       "      <td>77</td>\n",
       "      <td>24.60</td>\n",
       "      <td>9.44</td>\n",
       "      <td>89</td>\n",
       "      <td>10000</td>\n",
       "      <td>6.26</td>\n",
       "      <td>88</td>\n",
       "      <td>7.62</td>\n",
       "      <td>[{'id': 804, 'main': 'Clouds', 'description': ...</td>\n",
       "      <td>0.73</td>\n",
       "      <td>NaN</td>\n",
       "    </tr>\n",
       "    <tr>\n",
       "      <th>4</th>\n",
       "      <td>1632376800</td>\n",
       "      <td>29.55</td>\n",
       "      <td>34.63</td>\n",
       "      <td>1012</td>\n",
       "      <td>73</td>\n",
       "      <td>24.20</td>\n",
       "      <td>7.72</td>\n",
       "      <td>87</td>\n",
       "      <td>10000</td>\n",
       "      <td>6.60</td>\n",
       "      <td>86</td>\n",
       "      <td>7.82</td>\n",
       "      <td>[{'id': 804, 'main': 'Clouds', 'description': ...</td>\n",
       "      <td>0.89</td>\n",
       "      <td>NaN</td>\n",
       "    </tr>\n",
       "  </tbody>\n",
       "</table>\n",
       "</div>"
      ],
      "text/plain": [
       "           dt   temp  feels_like  pressure  humidity  dew_point   uvi  clouds  \\\n",
       "0  1632362400  27.89       32.91      1014        87      25.52  5.71      97   \n",
       "1  1632366000  28.18       33.23      1014        84      25.22  8.24      97   \n",
       "2  1632369600  28.55       33.71      1014        81      24.97  9.61      96   \n",
       "3  1632373200  29.05       34.23      1013        77      24.60  9.44      89   \n",
       "4  1632376800  29.55       34.63      1012        73      24.20  7.72      87   \n",
       "\n",
       "   visibility  wind_speed  wind_deg  wind_gust  \\\n",
       "0       10000        6.24        86       7.35   \n",
       "1       10000        6.44        85       7.47   \n",
       "2       10000        6.53        89       7.71   \n",
       "3       10000        6.26        88       7.62   \n",
       "4       10000        6.60        86       7.82   \n",
       "\n",
       "                                             weather   pop          rain  \n",
       "0  [{'id': 500, 'main': 'Rain', 'description': 'l...  0.69  {'1h': 0.27}  \n",
       "1  [{'id': 804, 'main': 'Clouds', 'description': ...  0.73           NaN  \n",
       "2  [{'id': 804, 'main': 'Clouds', 'description': ...  0.85           NaN  \n",
       "3  [{'id': 804, 'main': 'Clouds', 'description': ...  0.73           NaN  \n",
       "4  [{'id': 804, 'main': 'Clouds', 'description': ...  0.89           NaN  "
      ]
     },
     "execution_count": 10,
     "metadata": {},
     "output_type": "execute_result"
    }
   ],
   "source": [
    "df_hourly.head()"
   ]
  },
  {
   "cell_type": "code",
   "execution_count": null,
   "metadata": {},
   "outputs": [],
   "source": []
  }
 ],
 "metadata": {
  "interpreter": {
   "hash": "c1b4cfe941b6d2466ad1fb5979e97da9cda8801728c8091b097ab734208fc00c"
  },
  "kernelspec": {
   "display_name": "Python 3.8.3 64-bit ('base': conda)",
   "name": "python3"
  },
  "language_info": {
   "codemirror_mode": {
    "name": "ipython",
    "version": 3
   },
   "file_extension": ".py",
   "mimetype": "text/x-python",
   "name": "python",
   "nbconvert_exporter": "python",
   "pygments_lexer": "ipython3",
   "version": "3.8.11"
  }
 },
 "nbformat": 4,
 "nbformat_minor": 2
}
