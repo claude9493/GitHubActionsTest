{
 "cells": [
  {
   "cell_type": "code",
   "execution_count": 1,
   "metadata": {
    "execution": {
     "iopub.execute_input": "2021-09-11T13:21:27.861064Z",
     "iopub.status.busy": "2021-09-11T13:21:27.859573Z",
     "iopub.status.idle": "2021-09-11T13:21:31.352446Z",
     "shell.execute_reply": "2021-09-11T13:21:31.350669Z"
    }
   },
   "outputs": [],
   "source": [
    "import json, yaml, requests\r\n",
    "from datetime import datetime\r\n",
    "from dateutil import tz\r\n",
    "import pandas as pd\r\n",
    "from PIL import Image\r\n",
    "from io import BytesIO\r\n",
    "import matplotlib.pyplot as plt\r\n",
    "import seaborn\r\n",
    "\r\n",
    "CONFIG_PATH = \"../config/config.yaml\""
   ]
  },
  {
   "cell_type": "code",
   "execution_count": 2,
   "metadata": {
    "execution": {
     "iopub.execute_input": "2021-09-11T13:21:31.357710Z",
     "iopub.status.busy": "2021-09-11T13:21:31.357155Z",
     "iopub.status.idle": "2021-09-11T13:21:31.363306Z",
     "shell.execute_reply": "2021-09-11T13:21:31.362459Z"
    }
   },
   "outputs": [],
   "source": [
    "with open('../newest_ts', 'r') as f:\r\n",
    "    newest_ts = f.read()\r\n",
    "\r\n",
    "data_path = f\"../data/data_{newest_ts}.json\"\r\n",
    "with open(data_path, 'r') as f:\r\n",
    "    data = json.load(f)\r\n",
    "\r\n",
    "with open(CONFIG_PATH, \"r\") as stream:\r\n",
    "    config = yaml.safe_load(stream)\r\n",
    "\r\n",
    "TIME_ZONE = config['time_zone']\r\n",
    "DATETIME_FORMAT = config['dt_format']"
   ]
  },
  {
   "cell_type": "code",
   "execution_count": 3,
   "metadata": {
    "execution": {
     "iopub.execute_input": "2021-09-11T13:21:31.367767Z",
     "iopub.status.busy": "2021-09-11T13:21:31.367218Z",
     "iopub.status.idle": "2021-09-11T13:21:31.377435Z",
     "shell.execute_reply": "2021-09-11T13:21:31.377885Z"
    }
   },
   "outputs": [
    {
     "name": "stdout",
     "output_type": "stream",
     "text": [
      "Recent query happens at 2021-09-11 21:21:24 (CST).\n"
     ]
    }
   ],
   "source": [
    "def ts2dt(ts, format=DATETIME_FORMAT):\r\n",
    "    dt = (datetime.utcfromtimestamp(int(ts))\r\n",
    "                    .replace(tzinfo=tz.tzutc())\r\n",
    "                    # .astimezone(tz.tzlocal())\r\n",
    "                    .astimezone(tz.gettz(TIME_ZONE)))\r\n",
    "    return dt.strftime(format), dt\r\n",
    "\r\n",
    "_, newest_dt = ts2dt(newest_ts)\r\n",
    "print(f\"Recent query happens at {newest_dt.strftime(DATETIME_FORMAT)} ({newest_dt.tzname()}).\")"
   ]
  },
  {
   "cell_type": "code",
   "execution_count": 4,
   "metadata": {
    "execution": {
     "iopub.execute_input": "2021-09-11T13:21:31.382668Z",
     "iopub.status.busy": "2021-09-11T13:21:31.381700Z",
     "iopub.status.idle": "2021-09-11T13:21:31.383347Z",
     "shell.execute_reply": "2021-09-11T13:21:31.383750Z"
    }
   },
   "outputs": [],
   "source": [
    "def degrees_to_cardinal(d):\r\n",
    "  dirs = ['N', 'NNE', 'NE', 'ENE', 'E', 'ESE', 'SE', 'SSE', 'S', 'SSW', 'SW', 'WSW', 'W', 'WNW', 'NW', 'NNW']\r\n",
    "  ix = int(round(d / (360. / len(dirs))))\r\n",
    "  return dirs[ix % len(dirs)]"
   ]
  },
  {
   "cell_type": "code",
   "execution_count": 5,
   "metadata": {
    "execution": {
     "iopub.execute_input": "2021-09-11T13:21:31.388579Z",
     "iopub.status.busy": "2021-09-11T13:21:31.386836Z",
     "iopub.status.idle": "2021-09-11T13:21:31.389093Z",
     "shell.execute_reply": "2021-09-11T13:21:31.389464Z"
    }
   },
   "outputs": [],
   "source": [
    "# data.keys()"
   ]
  },
  {
   "cell_type": "code",
   "execution_count": 6,
   "metadata": {
    "execution": {
     "iopub.execute_input": "2021-09-11T13:21:31.393525Z",
     "iopub.status.busy": "2021-09-11T13:21:31.392316Z",
     "iopub.status.idle": "2021-09-11T13:21:31.394127Z",
     "shell.execute_reply": "2021-09-11T13:21:31.394589Z"
    }
   },
   "outputs": [],
   "source": [
    "# data['current']"
   ]
  },
  {
   "cell_type": "code",
   "execution_count": 7,
   "metadata": {
    "execution": {
     "iopub.execute_input": "2021-09-11T13:21:31.411995Z",
     "iopub.status.busy": "2021-09-11T13:21:31.411608Z",
     "iopub.status.idle": "2021-09-11T13:21:31.840976Z",
     "shell.execute_reply": "2021-09-11T13:21:31.840540Z"
    }
   },
   "outputs": [
    {
     "data": {
      "image/png": "[encoded data removed]",
      "text/plain": [
       "<Figure size 216x216 with 1 Axes>"
      ]
     },
     "metadata": {
      "needs_background": "light"
     },
     "output_type": "display_data"
    },
    {
     "name": "stdout",
     "output_type": "stream",
     "text": [
      "Today, sun rises at 06:08 and sets at 18:31.\n",
      "Currently, the weather is Rain (light rain).\n",
      "The temperature is 30.91°C and it feels like 37.91°C.\n",
      "The UV index is 0, humidity is 84%.\n",
      "The pressure is 1003 hPa, percentage of cloud cover is 91%\n",
      "The wind comes from SW direction with a speed 3.14 m/s.\n"
     ]
    }
   ],
   "source": [
    "current = data['current']\r\n",
    "\r\n",
    "fig, ax = plt.subplots(figsize=(3, 3))\r\n",
    "icon = requests.get(f\"http://openweathermap.org/img/wn/{current['weather'][0]['icon']}@2x.png\")\r\n",
    "im = Image.open(BytesIO(icon.content))\r\n",
    "plt.imshow(im)\r\n",
    "ax.set_axis_off()\r\n",
    "plt.show()\r\n",
    "\r\n",
    "print(f\"Today, sun rises at {ts2dt(current['sunrise'], '%H:%M')[0]} \\\r\n",
    "and sets at {ts2dt(current['sunset'], '%H:%M')[0]}.\\n\\\r\n",
    "Currently, the weather is {current['weather'][0]['main']} ({current['weather'][0]['description']}).\\n\\\r\n",
    "The temperature is {current['temp']}°C and it feels like {current['feels_like']}°C.\\n\\\r\n",
    "The UV index is {current['uvi']}, humidity is {current['humidity']}%.\\n\\\r\n",
    "The pressure is {current['pressure']} hPa, percentage of cloud cover is {current['clouds']}%\\n\\\r\n",
    "The wind comes from {degrees_to_cardinal(current['wind_deg'])} direction with a speed {current['wind_speed']} m/s.\")"
   ]
  },
  {
   "cell_type": "code",
   "execution_count": 8,
   "metadata": {
    "execution": {
     "iopub.execute_input": "2021-09-11T13:21:31.847772Z",
     "iopub.status.busy": "2021-09-11T13:21:31.846272Z",
     "iopub.status.idle": "2021-09-11T13:21:31.851202Z",
     "shell.execute_reply": "2021-09-11T13:21:31.851532Z"
    }
   },
   "outputs": [],
   "source": [
    "df_hourly = pd.DataFrame(data['hourly'])\r\n",
    "df_daily = pd.DataFrame(data['daily'])"
   ]
  },
  {
   "cell_type": "code",
   "execution_count": 9,
   "metadata": {
    "execution": {
     "iopub.execute_input": "2021-09-11T13:21:31.860534Z",
     "iopub.status.busy": "2021-09-11T13:21:31.859215Z",
     "iopub.status.idle": "2021-09-11T13:21:32.119943Z",
     "shell.execute_reply": "2021-09-11T13:21:32.120292Z"
    }
   },
   "outputs": [
    {
     "data": {
      "image/png": "[encoded data removed]",
      "text/plain": [
       "<Figure size 864x432 with 1 Axes>"
      ]
     },
     "metadata": {
      "needs_background": "light"
     },
     "output_type": "display_data"
    }
   ],
   "source": [
    "fig, ax = plt.subplots(figsize=(12, 6))\r\n",
    "plt.plot(df_hourly.temp, '.-', label='Temperature')\r\n",
    "plt.plot(df_hourly.feels_like, '.-', label='Feels Like')\r\n",
    "ax.set(title='Temperature in future 48 hours', xlabel='Time', ylabel='Temperature')\r\n",
    "ax.set_xticks(list(range(0, len(df_hourly), 2)))\r\n",
    "ax.set_xticklabels([ts2dt(ts, '%m-%d %H:%M')[0] for i, ts in enumerate(df_hourly.dt) if i%2==0], \r\n",
    "                   rotation=45, ha=\"right\")\r\n",
    "ax.locator_params(nbins=15, axis='y')\r\n",
    "plt.legend()\r\n",
    "plt.show()"
   ]
  },
  {
   "cell_type": "code",
   "execution_count": 10,
   "metadata": {
    "execution": {
     "iopub.execute_input": "2021-09-11T13:21:32.132923Z",
     "iopub.status.busy": "2021-09-11T13:21:32.124497Z",
     "iopub.status.idle": "2021-09-11T13:21:32.145466Z",
     "shell.execute_reply": "2021-09-11T13:21:32.145022Z"
    }
   },
   "outputs": [
    {
     "data": {
      "text/html": [
       "<div>\n",
       "<style scoped>\n",
       "    .dataframe tbody tr th:only-of-type {\n",
       "        vertical-align: middle;\n",
       "    }\n",
       "\n",
       "    .dataframe tbody tr th {\n",
       "        vertical-align: top;\n",
       "    }\n",
       "\n",
       "    .dataframe thead th {\n",
       "        text-align: right;\n",
       "    }\n",
       "</style>\n",
       "<table border=\"1\" class=\"dataframe\">\n",
       "  <thead>\n",
       "    <tr style=\"text-align: right;\">\n",
       "      <th></th>\n",
       "      <th>dt</th>\n",
       "      <th>temp</th>\n",
       "      <th>feels_like</th>\n",
       "      <th>pressure</th>\n",
       "      <th>humidity</th>\n",
       "      <th>dew_point</th>\n",
       "      <th>uvi</th>\n",
       "      <th>clouds</th>\n",
       "      <th>visibility</th>\n",
       "      <th>wind_speed</th>\n",
       "      <th>wind_deg</th>\n",
       "      <th>wind_gust</th>\n",
       "      <th>weather</th>\n",
       "      <th>pop</th>\n",
       "      <th>rain</th>\n",
       "    </tr>\n",
       "  </thead>\n",
       "  <tbody>\n",
       "    <tr>\n",
       "      <th>0</th>\n",
       "      <td>1631365200</td>\n",
       "      <td>30.91</td>\n",
       "      <td>37.91</td>\n",
       "      <td>1003</td>\n",
       "      <td>84</td>\n",
       "      <td>27.89</td>\n",
       "      <td>0.0</td>\n",
       "      <td>91</td>\n",
       "      <td>10000</td>\n",
       "      <td>3.14</td>\n",
       "      <td>226</td>\n",
       "      <td>3.63</td>\n",
       "      <td>[{'id': 500, 'main': 'Rain', 'description': 'l...</td>\n",
       "      <td>0.48</td>\n",
       "      <td>{'1h': 0.19}</td>\n",
       "    </tr>\n",
       "    <tr>\n",
       "      <th>1</th>\n",
       "      <td>1631368800</td>\n",
       "      <td>30.54</td>\n",
       "      <td>37.54</td>\n",
       "      <td>1003</td>\n",
       "      <td>83</td>\n",
       "      <td>27.32</td>\n",
       "      <td>0.0</td>\n",
       "      <td>84</td>\n",
       "      <td>10000</td>\n",
       "      <td>3.55</td>\n",
       "      <td>244</td>\n",
       "      <td>4.15</td>\n",
       "      <td>[{'id': 500, 'main': 'Rain', 'description': 'l...</td>\n",
       "      <td>0.32</td>\n",
       "      <td>{'1h': 0.18}</td>\n",
       "    </tr>\n",
       "    <tr>\n",
       "      <th>2</th>\n",
       "      <td>1631372400</td>\n",
       "      <td>30.14</td>\n",
       "      <td>37.14</td>\n",
       "      <td>1003</td>\n",
       "      <td>82</td>\n",
       "      <td>26.72</td>\n",
       "      <td>0.0</td>\n",
       "      <td>75</td>\n",
       "      <td>10000</td>\n",
       "      <td>4.38</td>\n",
       "      <td>245</td>\n",
       "      <td>5.68</td>\n",
       "      <td>[{'id': 500, 'main': 'Rain', 'description': 'l...</td>\n",
       "      <td>0.24</td>\n",
       "      <td>{'1h': 0.1}</td>\n",
       "    </tr>\n",
       "    <tr>\n",
       "      <th>3</th>\n",
       "      <td>1631376000</td>\n",
       "      <td>29.51</td>\n",
       "      <td>36.51</td>\n",
       "      <td>1002</td>\n",
       "      <td>84</td>\n",
       "      <td>26.52</td>\n",
       "      <td>0.0</td>\n",
       "      <td>70</td>\n",
       "      <td>10000</td>\n",
       "      <td>4.72</td>\n",
       "      <td>251</td>\n",
       "      <td>5.99</td>\n",
       "      <td>[{'id': 803, 'main': 'Clouds', 'description': ...</td>\n",
       "      <td>0.08</td>\n",
       "      <td>NaN</td>\n",
       "    </tr>\n",
       "    <tr>\n",
       "      <th>4</th>\n",
       "      <td>1631379600</td>\n",
       "      <td>28.72</td>\n",
       "      <td>35.22</td>\n",
       "      <td>1002</td>\n",
       "      <td>86</td>\n",
       "      <td>26.14</td>\n",
       "      <td>0.0</td>\n",
       "      <td>64</td>\n",
       "      <td>10000</td>\n",
       "      <td>4.62</td>\n",
       "      <td>255</td>\n",
       "      <td>5.97</td>\n",
       "      <td>[{'id': 803, 'main': 'Clouds', 'description': ...</td>\n",
       "      <td>0.01</td>\n",
       "      <td>NaN</td>\n",
       "    </tr>\n",
       "  </tbody>\n",
       "</table>\n",
       "</div>"
      ],
      "text/plain": [
       "           dt   temp  feels_like  pressure  humidity  dew_point  uvi  clouds  \\\n",
       "0  1631365200  30.91       37.91      1003        84      27.89  0.0      91   \n",
       "1  1631368800  30.54       37.54      1003        83      27.32  0.0      84   \n",
       "2  1631372400  30.14       37.14      1003        82      26.72  0.0      75   \n",
       "3  1631376000  29.51       36.51      1002        84      26.52  0.0      70   \n",
       "4  1631379600  28.72       35.22      1002        86      26.14  0.0      64   \n",
       "\n",
       "   visibility  wind_speed  wind_deg  wind_gust  \\\n",
       "0       10000        3.14       226       3.63   \n",
       "1       10000        3.55       244       4.15   \n",
       "2       10000        4.38       245       5.68   \n",
       "3       10000        4.72       251       5.99   \n",
       "4       10000        4.62       255       5.97   \n",
       "\n",
       "                                             weather   pop          rain  \n",
       "0  [{'id': 500, 'main': 'Rain', 'description': 'l...  0.48  {'1h': 0.19}  \n",
       "1  [{'id': 500, 'main': 'Rain', 'description': 'l...  0.32  {'1h': 0.18}  \n",
       "2  [{'id': 500, 'main': 'Rain', 'description': 'l...  0.24   {'1h': 0.1}  \n",
       "3  [{'id': 803, 'main': 'Clouds', 'description': ...  0.08           NaN  \n",
       "4  [{'id': 803, 'main': 'Clouds', 'description': ...  0.01           NaN  "
      ]
     },
     "execution_count": 10,
     "metadata": {},
     "output_type": "execute_result"
    }
   ],
   "source": [
    "df_hourly.head()"
   ]
  },
  {
   "cell_type": "code",
   "execution_count": null,
   "metadata": {},
   "outputs": [],
   "source": []
  }
 ],
 "metadata": {
  "interpreter": {
   "hash": "c1b4cfe941b6d2466ad1fb5979e97da9cda8801728c8091b097ab734208fc00c"
  },
  "kernelspec": {
   "display_name": "Python 3.8.3 64-bit ('base': conda)",
   "name": "python3"
  },
  "language_info": {
   "codemirror_mode": {
    "name": "ipython",
    "version": 3
   },
   "file_extension": ".py",
   "mimetype": "text/x-python",
   "name": "python",
   "nbconvert_exporter": "python",
   "pygments_lexer": "ipython3",
   "version": "3.8.11"
  }
 },
 "nbformat": 4,
 "nbformat_minor": 2
}
