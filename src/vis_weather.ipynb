{
 "cells": [
  {
   "cell_type": "code",
   "execution_count": 1,
   "metadata": {
    "execution": {
     "iopub.execute_input": "2021-09-18T00:36:48.257364Z",
     "iopub.status.busy": "2021-09-18T00:36:48.256812Z",
     "iopub.status.idle": "2021-09-18T00:36:49.397826Z",
     "shell.execute_reply": "2021-09-18T00:36:49.396883Z"
    }
   },
   "outputs": [],
   "source": [
    "import json, yaml, requests\r\n",
    "from datetime import datetime\r\n",
    "from dateutil import tz\r\n",
    "import pandas as pd\r\n",
    "from PIL import Image\r\n",
    "from io import BytesIO\r\n",
    "import matplotlib.pyplot as plt\r\n",
    "import seaborn\r\n",
    "\r\n",
    "CONFIG_PATH = \"../config/config.yaml\""
   ]
  },
  {
   "cell_type": "code",
   "execution_count": 2,
   "metadata": {
    "execution": {
     "iopub.execute_input": "2021-09-18T00:36:49.405221Z",
     "iopub.status.busy": "2021-09-18T00:36:49.402370Z",
     "iopub.status.idle": "2021-09-18T00:36:49.407667Z",
     "shell.execute_reply": "2021-09-18T00:36:49.407284Z"
    }
   },
   "outputs": [],
   "source": [
    "with open('../newest_ts', 'r') as f:\r\n",
    "    newest_ts = f.read()\r\n",
    "\r\n",
    "data_path = f\"../data/data_{newest_ts}.json\"\r\n",
    "with open(data_path, 'r') as f:\r\n",
    "    data = json.load(f)\r\n",
    "\r\n",
    "with open(CONFIG_PATH, \"r\") as stream:\r\n",
    "    config = yaml.safe_load(stream)\r\n",
    "\r\n",
    "TIME_ZONE = config['time_zone']\r\n",
    "DATETIME_FORMAT = config['dt_format']"
   ]
  },
  {
   "cell_type": "code",
   "execution_count": 3,
   "metadata": {
    "execution": {
     "iopub.execute_input": "2021-09-18T00:36:49.411873Z",
     "iopub.status.busy": "2021-09-18T00:36:49.411384Z",
     "iopub.status.idle": "2021-09-18T00:36:49.415737Z",
     "shell.execute_reply": "2021-09-18T00:36:49.416093Z"
    }
   },
   "outputs": [
    {
     "name": "stdout",
     "output_type": "stream",
     "text": [
      "Recent query happens at 2021-09-18 08:36:45 (CST).\n"
     ]
    }
   ],
   "source": [
    "def ts2dt(ts, format=DATETIME_FORMAT):\r\n",
    "    dt = (datetime.utcfromtimestamp(int(ts))\r\n",
    "                    .replace(tzinfo=tz.tzutc())\r\n",
    "                    # .astimezone(tz.tzlocal())\r\n",
    "                    .astimezone(tz.gettz(TIME_ZONE)))\r\n",
    "    return dt.strftime(format), dt\r\n",
    "\r\n",
    "_, newest_dt = ts2dt(newest_ts)\r\n",
    "print(f\"Recent query happens at {newest_dt.strftime(DATETIME_FORMAT)} ({newest_dt.tzname()}).\")"
   ]
  },
  {
   "cell_type": "code",
   "execution_count": 4,
   "metadata": {
    "execution": {
     "iopub.execute_input": "2021-09-18T00:36:49.420968Z",
     "iopub.status.busy": "2021-09-18T00:36:49.419921Z",
     "iopub.status.idle": "2021-09-18T00:36:49.421481Z",
     "shell.execute_reply": "2021-09-18T00:36:49.421847Z"
    }
   },
   "outputs": [],
   "source": [
    "def degrees_to_cardinal(d):\r\n",
    "  dirs = ['N', 'NNE', 'NE', 'ENE', 'E', 'ESE', 'SE', 'SSE', 'S', 'SSW', 'SW', 'WSW', 'W', 'WNW', 'NW', 'NNW']\r\n",
    "  ix = int(round(d / (360. / len(dirs))))\r\n",
    "  return dirs[ix % len(dirs)]"
   ]
  },
  {
   "cell_type": "code",
   "execution_count": 5,
   "metadata": {
    "execution": {
     "iopub.execute_input": "2021-09-18T00:36:49.425674Z",
     "iopub.status.busy": "2021-09-18T00:36:49.424570Z",
     "iopub.status.idle": "2021-09-18T00:36:49.426194Z",
     "shell.execute_reply": "2021-09-18T00:36:49.426561Z"
    }
   },
   "outputs": [],
   "source": [
    "# data.keys()"
   ]
  },
  {
   "cell_type": "code",
   "execution_count": 6,
   "metadata": {
    "execution": {
     "iopub.execute_input": "2021-09-18T00:36:49.430210Z",
     "iopub.status.busy": "2021-09-18T00:36:49.429121Z",
     "iopub.status.idle": "2021-09-18T00:36:49.430731Z",
     "shell.execute_reply": "2021-09-18T00:36:49.431096Z"
    }
   },
   "outputs": [],
   "source": [
    "# data['current']"
   ]
  },
  {
   "cell_type": "code",
   "execution_count": 7,
   "metadata": {
    "execution": {
     "iopub.execute_input": "2021-09-18T00:36:49.447887Z",
     "iopub.status.busy": "2021-09-18T00:36:49.447397Z",
     "iopub.status.idle": "2021-09-18T00:36:49.723689Z",
     "shell.execute_reply": "2021-09-18T00:36:49.724283Z"
    }
   },
   "outputs": [
    {
     "data": {
      "image/png": "[encoded data removed]",
      "text/plain": [
       "<Figure size 216x216 with 1 Axes>"
      ]
     },
     "metadata": {
      "needs_background": "light"
     },
     "output_type": "display_data"
    },
    {
     "name": "stdout",
     "output_type": "stream",
     "text": [
      "Today, sun rises at 06:10 and sets at 18:24.\n",
      "Currently, the weather is Clouds (broken clouds).\n",
      "The temperature is 29.34°C and it feels like 36.34°C.\n",
      "The UV index is 3.17, humidity is 87%.\n",
      "The pressure is 1012 hPa, percentage of cloud cover is 67%\n",
      "The wind comes from E direction with a speed 4.4 m/s.\n"
     ]
    }
   ],
   "source": [
    "current = data['current']\r\n",
    "\r\n",
    "fig, ax = plt.subplots(figsize=(3, 3))\r\n",
    "icon = requests.get(f\"http://openweathermap.org/img/wn/{current['weather'][0]['icon']}@2x.png\")\r\n",
    "im = Image.open(BytesIO(icon.content))\r\n",
    "plt.imshow(im)\r\n",
    "ax.set_axis_off()\r\n",
    "plt.show()\r\n",
    "\r\n",
    "print(f\"Today, sun rises at {ts2dt(current['sunrise'], '%H:%M')[0]} \\\r\n",
    "and sets at {ts2dt(current['sunset'], '%H:%M')[0]}.\\n\\\r\n",
    "Currently, the weather is {current['weather'][0]['main']} ({current['weather'][0]['description']}).\\n\\\r\n",
    "The temperature is {current['temp']}°C and it feels like {current['feels_like']}°C.\\n\\\r\n",
    "The UV index is {current['uvi']}, humidity is {current['humidity']}%.\\n\\\r\n",
    "The pressure is {current['pressure']} hPa, percentage of cloud cover is {current['clouds']}%\\n\\\r\n",
    "The wind comes from {degrees_to_cardinal(current['wind_deg'])} direction with a speed {current['wind_speed']} m/s.\")"
   ]
  },
  {
   "cell_type": "code",
   "execution_count": 8,
   "metadata": {
    "execution": {
     "iopub.execute_input": "2021-09-18T00:36:49.729975Z",
     "iopub.status.busy": "2021-09-18T00:36:49.728594Z",
     "iopub.status.idle": "2021-09-18T00:36:49.733877Z",
     "shell.execute_reply": "2021-09-18T00:36:49.734456Z"
    }
   },
   "outputs": [],
   "source": [
    "df_hourly = pd.DataFrame(data['hourly'])\r\n",
    "df_daily = pd.DataFrame(data['daily'])"
   ]
  },
  {
   "cell_type": "code",
   "execution_count": 9,
   "metadata": {
    "execution": {
     "iopub.execute_input": "2021-09-18T00:36:49.745724Z",
     "iopub.status.busy": "2021-09-18T00:36:49.741065Z",
     "iopub.status.idle": "2021-09-18T00:36:49.973899Z",
     "shell.execute_reply": "2021-09-18T00:36:49.973413Z"
    }
   },
   "outputs": [
    {
     "data": {
      "image/png": "[encoded data removed]",
      "text/plain": [
       "<Figure size 864x432 with 1 Axes>"
      ]
     },
     "metadata": {
      "needs_background": "light"
     },
     "output_type": "display_data"
    }
   ],
   "source": [
    "fig, ax = plt.subplots(figsize=(12, 6))\r\n",
    "plt.plot(df_hourly.temp, '.-', label='Temperature')\r\n",
    "plt.plot(df_hourly.feels_like, '.-', label='Feels Like')\r\n",
    "ax.set(title='Temperature in future 48 hours', xlabel='Time', ylabel='Temperature')\r\n",
    "ax.set_xticks(list(range(0, len(df_hourly), 2)))\r\n",
    "ax.set_xticklabels([ts2dt(ts, '%m-%d %H:%M')[0] for i, ts in enumerate(df_hourly.dt) if i%2==0], \r\n",
    "                   rotation=45, ha=\"right\")\r\n",
    "ax.locator_params(nbins=15, axis='y')\r\n",
    "plt.legend()\r\n",
    "plt.show()"
   ]
  },
  {
   "cell_type": "code",
   "execution_count": 10,
   "metadata": {
    "execution": {
     "iopub.execute_input": "2021-09-18T00:36:49.985008Z",
     "iopub.status.busy": "2021-09-18T00:36:49.977680Z",
     "iopub.status.idle": "2021-09-18T00:36:49.996155Z",
     "shell.execute_reply": "2021-09-18T00:36:49.995759Z"
    }
   },
   "outputs": [
    {
     "data": {
      "text/html": [
       "<div>\n",
       "<style scoped>\n",
       "    .dataframe tbody tr th:only-of-type {\n",
       "        vertical-align: middle;\n",
       "    }\n",
       "\n",
       "    .dataframe tbody tr th {\n",
       "        vertical-align: top;\n",
       "    }\n",
       "\n",
       "    .dataframe thead th {\n",
       "        text-align: right;\n",
       "    }\n",
       "</style>\n",
       "<table border=\"1\" class=\"dataframe\">\n",
       "  <thead>\n",
       "    <tr style=\"text-align: right;\">\n",
       "      <th></th>\n",
       "      <th>dt</th>\n",
       "      <th>temp</th>\n",
       "      <th>feels_like</th>\n",
       "      <th>pressure</th>\n",
       "      <th>humidity</th>\n",
       "      <th>dew_point</th>\n",
       "      <th>uvi</th>\n",
       "      <th>clouds</th>\n",
       "      <th>visibility</th>\n",
       "      <th>wind_speed</th>\n",
       "      <th>wind_deg</th>\n",
       "      <th>wind_gust</th>\n",
       "      <th>weather</th>\n",
       "      <th>pop</th>\n",
       "      <th>rain</th>\n",
       "    </tr>\n",
       "  </thead>\n",
       "  <tbody>\n",
       "    <tr>\n",
       "      <th>0</th>\n",
       "      <td>1631923200</td>\n",
       "      <td>29.12</td>\n",
       "      <td>36.12</td>\n",
       "      <td>1012</td>\n",
       "      <td>85</td>\n",
       "      <td>26.34</td>\n",
       "      <td>1.19</td>\n",
       "      <td>59</td>\n",
       "      <td>10000</td>\n",
       "      <td>4.00</td>\n",
       "      <td>81</td>\n",
       "      <td>5.11</td>\n",
       "      <td>[{'id': 500, 'main': 'Rain', 'description': 'l...</td>\n",
       "      <td>0.78</td>\n",
       "      <td>{'1h': 0.86}</td>\n",
       "    </tr>\n",
       "    <tr>\n",
       "      <th>1</th>\n",
       "      <td>1631926800</td>\n",
       "      <td>29.34</td>\n",
       "      <td>36.34</td>\n",
       "      <td>1012</td>\n",
       "      <td>87</td>\n",
       "      <td>26.95</td>\n",
       "      <td>3.17</td>\n",
       "      <td>67</td>\n",
       "      <td>10000</td>\n",
       "      <td>4.40</td>\n",
       "      <td>86</td>\n",
       "      <td>5.59</td>\n",
       "      <td>[{'id': 803, 'main': 'Clouds', 'description': ...</td>\n",
       "      <td>0.68</td>\n",
       "      <td>NaN</td>\n",
       "    </tr>\n",
       "    <tr>\n",
       "      <th>2</th>\n",
       "      <td>1631930400</td>\n",
       "      <td>29.33</td>\n",
       "      <td>36.33</td>\n",
       "      <td>1012</td>\n",
       "      <td>84</td>\n",
       "      <td>26.34</td>\n",
       "      <td>5.92</td>\n",
       "      <td>70</td>\n",
       "      <td>10000</td>\n",
       "      <td>4.68</td>\n",
       "      <td>87</td>\n",
       "      <td>5.64</td>\n",
       "      <td>[{'id': 500, 'main': 'Rain', 'description': 'l...</td>\n",
       "      <td>0.63</td>\n",
       "      <td>{'1h': 0.1}</td>\n",
       "    </tr>\n",
       "    <tr>\n",
       "      <th>3</th>\n",
       "      <td>1631934000</td>\n",
       "      <td>29.44</td>\n",
       "      <td>36.24</td>\n",
       "      <td>1012</td>\n",
       "      <td>81</td>\n",
       "      <td>25.83</td>\n",
       "      <td>8.50</td>\n",
       "      <td>75</td>\n",
       "      <td>10000</td>\n",
       "      <td>4.83</td>\n",
       "      <td>85</td>\n",
       "      <td>5.59</td>\n",
       "      <td>[{'id': 803, 'main': 'Clouds', 'description': ...</td>\n",
       "      <td>0.60</td>\n",
       "      <td>NaN</td>\n",
       "    </tr>\n",
       "    <tr>\n",
       "      <th>4</th>\n",
       "      <td>1631937600</td>\n",
       "      <td>29.62</td>\n",
       "      <td>36.01</td>\n",
       "      <td>1012</td>\n",
       "      <td>78</td>\n",
       "      <td>25.37</td>\n",
       "      <td>8.98</td>\n",
       "      <td>80</td>\n",
       "      <td>10000</td>\n",
       "      <td>5.27</td>\n",
       "      <td>88</td>\n",
       "      <td>5.78</td>\n",
       "      <td>[{'id': 803, 'main': 'Clouds', 'description': ...</td>\n",
       "      <td>0.64</td>\n",
       "      <td>NaN</td>\n",
       "    </tr>\n",
       "  </tbody>\n",
       "</table>\n",
       "</div>"
      ],
      "text/plain": [
       "           dt   temp  feels_like  pressure  humidity  dew_point   uvi  clouds  \\\n",
       "0  1631923200  29.12       36.12      1012        85      26.34  1.19      59   \n",
       "1  1631926800  29.34       36.34      1012        87      26.95  3.17      67   \n",
       "2  1631930400  29.33       36.33      1012        84      26.34  5.92      70   \n",
       "3  1631934000  29.44       36.24      1012        81      25.83  8.50      75   \n",
       "4  1631937600  29.62       36.01      1012        78      25.37  8.98      80   \n",
       "\n",
       "   visibility  wind_speed  wind_deg  wind_gust  \\\n",
       "0       10000        4.00        81       5.11   \n",
       "1       10000        4.40        86       5.59   \n",
       "2       10000        4.68        87       5.64   \n",
       "3       10000        4.83        85       5.59   \n",
       "4       10000        5.27        88       5.78   \n",
       "\n",
       "                                             weather   pop          rain  \n",
       "0  [{'id': 500, 'main': 'Rain', 'description': 'l...  0.78  {'1h': 0.86}  \n",
       "1  [{'id': 803, 'main': 'Clouds', 'description': ...  0.68           NaN  \n",
       "2  [{'id': 500, 'main': 'Rain', 'description': 'l...  0.63   {'1h': 0.1}  \n",
       "3  [{'id': 803, 'main': 'Clouds', 'description': ...  0.60           NaN  \n",
       "4  [{'id': 803, 'main': 'Clouds', 'description': ...  0.64           NaN  "
      ]
     },
     "execution_count": 10,
     "metadata": {},
     "output_type": "execute_result"
    }
   ],
   "source": [
    "df_hourly.head()"
   ]
  },
  {
   "cell_type": "code",
   "execution_count": null,
   "metadata": {},
   "outputs": [],
   "source": []
  }
 ],
 "metadata": {
  "interpreter": {
   "hash": "c1b4cfe941b6d2466ad1fb5979e97da9cda8801728c8091b097ab734208fc00c"
  },
  "kernelspec": {
   "display_name": "Python 3.8.3 64-bit ('base': conda)",
   "name": "python3"
  },
  "language_info": {
   "codemirror_mode": {
    "name": "ipython",
    "version": 3
   },
   "file_extension": ".py",
   "mimetype": "text/x-python",
   "name": "python",
   "nbconvert_exporter": "python",
   "pygments_lexer": "ipython3",
   "version": "3.8.11"
  }
 },
 "nbformat": 4,
 "nbformat_minor": 2
}
