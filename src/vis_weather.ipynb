{
 "cells": [
  {
   "cell_type": "code",
   "execution_count": 1,
   "metadata": {
    "execution": {
     "iopub.execute_input": "2021-09-19T01:56:55.426423Z",
     "iopub.status.busy": "2021-09-19T01:56:55.425884Z",
     "iopub.status.idle": "2021-09-19T01:56:57.839219Z",
     "shell.execute_reply": "2021-09-19T01:56:57.838647Z"
    }
   },
   "outputs": [],
   "source": [
    "import json, yaml, requests\r\n",
    "from datetime import datetime\r\n",
    "from dateutil import tz\r\n",
    "import pandas as pd\r\n",
    "from PIL import Image\r\n",
    "from io import BytesIO\r\n",
    "import matplotlib.pyplot as plt\r\n",
    "import seaborn\r\n",
    "\r\n",
    "CONFIG_PATH = \"../config/config.yaml\""
   ]
  },
  {
   "cell_type": "code",
   "execution_count": 2,
   "metadata": {
    "execution": {
     "iopub.execute_input": "2021-09-19T01:56:57.845082Z",
     "iopub.status.busy": "2021-09-19T01:56:57.844542Z",
     "iopub.status.idle": "2021-09-19T01:56:57.848989Z",
     "shell.execute_reply": "2021-09-19T01:56:57.849368Z"
    }
   },
   "outputs": [],
   "source": [
    "with open('../newest_ts', 'r') as f:\r\n",
    "    newest_ts = f.read()\r\n",
    "\r\n",
    "data_path = f\"../data/data_{newest_ts}.json\"\r\n",
    "with open(data_path, 'r') as f:\r\n",
    "    data = json.load(f)\r\n",
    "\r\n",
    "with open(CONFIG_PATH, \"r\") as stream:\r\n",
    "    config = yaml.safe_load(stream)\r\n",
    "\r\n",
    "TIME_ZONE = config['time_zone']\r\n",
    "DATETIME_FORMAT = config['dt_format']"
   ]
  },
  {
   "cell_type": "code",
   "execution_count": 3,
   "metadata": {
    "execution": {
     "iopub.execute_input": "2021-09-19T01:56:57.854111Z",
     "iopub.status.busy": "2021-09-19T01:56:57.853605Z",
     "iopub.status.idle": "2021-09-19T01:56:57.865096Z",
     "shell.execute_reply": "2021-09-19T01:56:57.864612Z"
    }
   },
   "outputs": [
    {
     "name": "stdout",
     "output_type": "stream",
     "text": [
      "Recent query happens at 2021-09-19 09:56:52 (CST).\n"
     ]
    }
   ],
   "source": [
    "def ts2dt(ts, format=DATETIME_FORMAT):\r\n",
    "    dt = (datetime.utcfromtimestamp(int(ts))\r\n",
    "                    .replace(tzinfo=tz.tzutc())\r\n",
    "                    # .astimezone(tz.tzlocal())\r\n",
    "                    .astimezone(tz.gettz(TIME_ZONE)))\r\n",
    "    return dt.strftime(format), dt\r\n",
    "\r\n",
    "_, newest_dt = ts2dt(newest_ts)\r\n",
    "print(f\"Recent query happens at {newest_dt.strftime(DATETIME_FORMAT)} ({newest_dt.tzname()}).\")"
   ]
  },
  {
   "cell_type": "code",
   "execution_count": 4,
   "metadata": {
    "execution": {
     "iopub.execute_input": "2021-09-19T01:56:57.870416Z",
     "iopub.status.busy": "2021-09-19T01:56:57.869124Z",
     "iopub.status.idle": "2021-09-19T01:56:57.870979Z",
     "shell.execute_reply": "2021-09-19T01:56:57.871411Z"
    }
   },
   "outputs": [],
   "source": [
    "def degrees_to_cardinal(d):\r\n",
    "  dirs = ['N', 'NNE', 'NE', 'ENE', 'E', 'ESE', 'SE', 'SSE', 'S', 'SSW', 'SW', 'WSW', 'W', 'WNW', 'NW', 'NNW']\r\n",
    "  ix = int(round(d / (360. / len(dirs))))\r\n",
    "  return dirs[ix % len(dirs)]"
   ]
  },
  {
   "cell_type": "code",
   "execution_count": 5,
   "metadata": {
    "execution": {
     "iopub.execute_input": "2021-09-19T01:56:57.874955Z",
     "iopub.status.busy": "2021-09-19T01:56:57.874441Z",
     "iopub.status.idle": "2021-09-19T01:56:57.877156Z",
     "shell.execute_reply": "2021-09-19T01:56:57.876685Z"
    }
   },
   "outputs": [],
   "source": [
    "# data.keys()"
   ]
  },
  {
   "cell_type": "code",
   "execution_count": 6,
   "metadata": {
    "execution": {
     "iopub.execute_input": "2021-09-19T01:56:57.881278Z",
     "iopub.status.busy": "2021-09-19T01:56:57.880067Z",
     "iopub.status.idle": "2021-09-19T01:56:57.881939Z",
     "shell.execute_reply": "2021-09-19T01:56:57.882356Z"
    }
   },
   "outputs": [],
   "source": [
    "# data['current']"
   ]
  },
  {
   "cell_type": "code",
   "execution_count": 7,
   "metadata": {
    "execution": {
     "iopub.execute_input": "2021-09-19T01:56:57.892791Z",
     "iopub.status.busy": "2021-09-19T01:56:57.887240Z",
     "iopub.status.idle": "2021-09-19T01:56:58.330848Z",
     "shell.execute_reply": "2021-09-19T01:56:58.331446Z"
    }
   },
   "outputs": [
    {
     "data": {
      "image/png": "[encoded data removed]",
      "text/plain": [
       "<Figure size 216x216 with 1 Axes>"
      ]
     },
     "metadata": {
      "needs_background": "light"
     },
     "output_type": "display_data"
    },
    {
     "name": "stdout",
     "output_type": "stream",
     "text": [
      "Today, sun rises at 06:10 and sets at 18:22.\n",
      "Currently, the weather is Clouds (broken clouds).\n",
      "The temperature is 30.72°C and it feels like 37.72°C.\n",
      "The UV index is 6.09, humidity is 84%.\n",
      "The pressure is 1012 hPa, percentage of cloud cover is 79%\n",
      "The wind comes from E direction with a speed 5.83 m/s.\n"
     ]
    }
   ],
   "source": [
    "current = data['current']\r\n",
    "\r\n",
    "fig, ax = plt.subplots(figsize=(3, 3))\r\n",
    "icon = requests.get(f\"http://openweathermap.org/img/wn/{current['weather'][0]['icon']}@2x.png\")\r\n",
    "im = Image.open(BytesIO(icon.content))\r\n",
    "plt.imshow(im)\r\n",
    "ax.set_axis_off()\r\n",
    "plt.show()\r\n",
    "\r\n",
    "print(f\"Today, sun rises at {ts2dt(current['sunrise'], '%H:%M')[0]} \\\r\n",
    "and sets at {ts2dt(current['sunset'], '%H:%M')[0]}.\\n\\\r\n",
    "Currently, the weather is {current['weather'][0]['main']} ({current['weather'][0]['description']}).\\n\\\r\n",
    "The temperature is {current['temp']}°C and it feels like {current['feels_like']}°C.\\n\\\r\n",
    "The UV index is {current['uvi']}, humidity is {current['humidity']}%.\\n\\\r\n",
    "The pressure is {current['pressure']} hPa, percentage of cloud cover is {current['clouds']}%\\n\\\r\n",
    "The wind comes from {degrees_to_cardinal(current['wind_deg'])} direction with a speed {current['wind_speed']} m/s.\")"
   ]
  },
  {
   "cell_type": "code",
   "execution_count": 8,
   "metadata": {
    "execution": {
     "iopub.execute_input": "2021-09-19T01:56:58.336971Z",
     "iopub.status.busy": "2021-09-19T01:56:58.336370Z",
     "iopub.status.idle": "2021-09-19T01:56:58.341111Z",
     "shell.execute_reply": "2021-09-19T01:56:58.341786Z"
    }
   },
   "outputs": [],
   "source": [
    "df_hourly = pd.DataFrame(data['hourly'])\r\n",
    "df_daily = pd.DataFrame(data['daily'])"
   ]
  },
  {
   "cell_type": "code",
   "execution_count": 9,
   "metadata": {
    "execution": {
     "iopub.execute_input": "2021-09-19T01:56:58.344943Z",
     "iopub.status.busy": "2021-09-19T01:56:58.343980Z",
     "iopub.status.idle": "2021-09-19T01:56:58.637827Z",
     "shell.execute_reply": "2021-09-19T01:56:58.637405Z"
    }
   },
   "outputs": [
    {
     "data": {
      "image/png": "[encoded data removed]",
      "text/plain": [
       "<Figure size 864x432 with 1 Axes>"
      ]
     },
     "metadata": {
      "needs_background": "light"
     },
     "output_type": "display_data"
    }
   ],
   "source": [
    "fig, ax = plt.subplots(figsize=(12, 6))\r\n",
    "plt.plot(df_hourly.temp, '.-', label='Temperature')\r\n",
    "plt.plot(df_hourly.feels_like, '.-', label='Feels Like')\r\n",
    "ax.set(title='Temperature in future 48 hours', xlabel='Time', ylabel='Temperature')\r\n",
    "ax.set_xticks(list(range(0, len(df_hourly), 2)))\r\n",
    "ax.set_xticklabels([ts2dt(ts, '%m-%d %H:%M')[0] for i, ts in enumerate(df_hourly.dt) if i%2==0], \r\n",
    "                   rotation=45, ha=\"right\")\r\n",
    "ax.locator_params(nbins=15, axis='y')\r\n",
    "plt.legend()\r\n",
    "plt.show()"
   ]
  },
  {
   "cell_type": "code",
   "execution_count": 10,
   "metadata": {
    "execution": {
     "iopub.execute_input": "2021-09-19T01:56:58.648145Z",
     "iopub.status.busy": "2021-09-19T01:56:58.641555Z",
     "iopub.status.idle": "2021-09-19T01:56:58.659451Z",
     "shell.execute_reply": "2021-09-19T01:56:58.659024Z"
    }
   },
   "outputs": [
    {
     "data": {
      "text/html": [
       "<div>\n",
       "<style scoped>\n",
       "    .dataframe tbody tr th:only-of-type {\n",
       "        vertical-align: middle;\n",
       "    }\n",
       "\n",
       "    .dataframe tbody tr th {\n",
       "        vertical-align: top;\n",
       "    }\n",
       "\n",
       "    .dataframe thead th {\n",
       "        text-align: right;\n",
       "    }\n",
       "</style>\n",
       "<table border=\"1\" class=\"dataframe\">\n",
       "  <thead>\n",
       "    <tr style=\"text-align: right;\">\n",
       "      <th></th>\n",
       "      <th>dt</th>\n",
       "      <th>temp</th>\n",
       "      <th>feels_like</th>\n",
       "      <th>pressure</th>\n",
       "      <th>humidity</th>\n",
       "      <th>dew_point</th>\n",
       "      <th>uvi</th>\n",
       "      <th>clouds</th>\n",
       "      <th>visibility</th>\n",
       "      <th>wind_speed</th>\n",
       "      <th>wind_deg</th>\n",
       "      <th>wind_gust</th>\n",
       "      <th>weather</th>\n",
       "      <th>pop</th>\n",
       "      <th>rain</th>\n",
       "    </tr>\n",
       "  </thead>\n",
       "  <tbody>\n",
       "    <tr>\n",
       "      <th>0</th>\n",
       "      <td>1632013200</td>\n",
       "      <td>30.36</td>\n",
       "      <td>37.36</td>\n",
       "      <td>1012</td>\n",
       "      <td>82</td>\n",
       "      <td>26.94</td>\n",
       "      <td>3.26</td>\n",
       "      <td>79</td>\n",
       "      <td>10000</td>\n",
       "      <td>5.57</td>\n",
       "      <td>86</td>\n",
       "      <td>6.40</td>\n",
       "      <td>[{'id': 803, 'main': 'Clouds', 'description': ...</td>\n",
       "      <td>0.41</td>\n",
       "      <td>NaN</td>\n",
       "    </tr>\n",
       "    <tr>\n",
       "      <th>1</th>\n",
       "      <td>1632016800</td>\n",
       "      <td>30.72</td>\n",
       "      <td>37.72</td>\n",
       "      <td>1012</td>\n",
       "      <td>84</td>\n",
       "      <td>27.70</td>\n",
       "      <td>6.09</td>\n",
       "      <td>79</td>\n",
       "      <td>10000</td>\n",
       "      <td>5.83</td>\n",
       "      <td>90</td>\n",
       "      <td>6.55</td>\n",
       "      <td>[{'id': 803, 'main': 'Clouds', 'description': ...</td>\n",
       "      <td>0.45</td>\n",
       "      <td>NaN</td>\n",
       "    </tr>\n",
       "    <tr>\n",
       "      <th>2</th>\n",
       "      <td>1632020400</td>\n",
       "      <td>30.47</td>\n",
       "      <td>37.47</td>\n",
       "      <td>1012</td>\n",
       "      <td>82</td>\n",
       "      <td>27.05</td>\n",
       "      <td>8.76</td>\n",
       "      <td>78</td>\n",
       "      <td>10000</td>\n",
       "      <td>5.86</td>\n",
       "      <td>92</td>\n",
       "      <td>6.46</td>\n",
       "      <td>[{'id': 803, 'main': 'Clouds', 'description': ...</td>\n",
       "      <td>0.45</td>\n",
       "      <td>NaN</td>\n",
       "    </tr>\n",
       "    <tr>\n",
       "      <th>3</th>\n",
       "      <td>1632024000</td>\n",
       "      <td>30.32</td>\n",
       "      <td>37.32</td>\n",
       "      <td>1012</td>\n",
       "      <td>80</td>\n",
       "      <td>26.48</td>\n",
       "      <td>10.15</td>\n",
       "      <td>77</td>\n",
       "      <td>10000</td>\n",
       "      <td>6.04</td>\n",
       "      <td>93</td>\n",
       "      <td>6.65</td>\n",
       "      <td>[{'id': 803, 'main': 'Clouds', 'description': ...</td>\n",
       "      <td>0.49</td>\n",
       "      <td>NaN</td>\n",
       "    </tr>\n",
       "    <tr>\n",
       "      <th>4</th>\n",
       "      <td>1632027600</td>\n",
       "      <td>30.04</td>\n",
       "      <td>37.04</td>\n",
       "      <td>1011</td>\n",
       "      <td>78</td>\n",
       "      <td>25.78</td>\n",
       "      <td>9.98</td>\n",
       "      <td>71</td>\n",
       "      <td>10000</td>\n",
       "      <td>5.88</td>\n",
       "      <td>96</td>\n",
       "      <td>6.60</td>\n",
       "      <td>[{'id': 500, 'main': 'Rain', 'description': 'l...</td>\n",
       "      <td>0.57</td>\n",
       "      <td>{'1h': 0.21}</td>\n",
       "    </tr>\n",
       "  </tbody>\n",
       "</table>\n",
       "</div>"
      ],
      "text/plain": [
       "           dt   temp  feels_like  pressure  humidity  dew_point    uvi  \\\n",
       "0  1632013200  30.36       37.36      1012        82      26.94   3.26   \n",
       "1  1632016800  30.72       37.72      1012        84      27.70   6.09   \n",
       "2  1632020400  30.47       37.47      1012        82      27.05   8.76   \n",
       "3  1632024000  30.32       37.32      1012        80      26.48  10.15   \n",
       "4  1632027600  30.04       37.04      1011        78      25.78   9.98   \n",
       "\n",
       "   clouds  visibility  wind_speed  wind_deg  wind_gust  \\\n",
       "0      79       10000        5.57        86       6.40   \n",
       "1      79       10000        5.83        90       6.55   \n",
       "2      78       10000        5.86        92       6.46   \n",
       "3      77       10000        6.04        93       6.65   \n",
       "4      71       10000        5.88        96       6.60   \n",
       "\n",
       "                                             weather   pop          rain  \n",
       "0  [{'id': 803, 'main': 'Clouds', 'description': ...  0.41           NaN  \n",
       "1  [{'id': 803, 'main': 'Clouds', 'description': ...  0.45           NaN  \n",
       "2  [{'id': 803, 'main': 'Clouds', 'description': ...  0.45           NaN  \n",
       "3  [{'id': 803, 'main': 'Clouds', 'description': ...  0.49           NaN  \n",
       "4  [{'id': 500, 'main': 'Rain', 'description': 'l...  0.57  {'1h': 0.21}  "
      ]
     },
     "execution_count": 10,
     "metadata": {},
     "output_type": "execute_result"
    }
   ],
   "source": [
    "df_hourly.head()"
   ]
  },
  {
   "cell_type": "code",
   "execution_count": null,
   "metadata": {},
   "outputs": [],
   "source": []
  }
 ],
 "metadata": {
  "interpreter": {
   "hash": "c1b4cfe941b6d2466ad1fb5979e97da9cda8801728c8091b097ab734208fc00c"
  },
  "kernelspec": {
   "display_name": "Python 3.8.3 64-bit ('base': conda)",
   "name": "python3"
  },
  "language_info": {
   "codemirror_mode": {
    "name": "ipython",
    "version": 3
   },
   "file_extension": ".py",
   "mimetype": "text/x-python",
   "name": "python",
   "nbconvert_exporter": "python",
   "pygments_lexer": "ipython3",
   "version": "3.8.11"
  }
 },
 "nbformat": 4,
 "nbformat_minor": 2
}
