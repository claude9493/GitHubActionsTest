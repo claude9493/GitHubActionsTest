{
 "cells": [
  {
   "cell_type": "code",
   "execution_count": 1,
   "metadata": {
    "execution": {
     "iopub.execute_input": "2021-09-21T16:16:50.679736Z",
     "iopub.status.busy": "2021-09-21T16:16:50.679182Z",
     "iopub.status.idle": "2021-09-21T16:16:51.989712Z",
     "shell.execute_reply": "2021-09-21T16:16:51.990171Z"
    }
   },
   "outputs": [],
   "source": [
    "import json, yaml, requests\r\n",
    "from datetime import datetime\r\n",
    "from dateutil import tz\r\n",
    "import pandas as pd\r\n",
    "from PIL import Image\r\n",
    "from io import BytesIO\r\n",
    "import matplotlib.pyplot as plt\r\n",
    "import seaborn\r\n",
    "\r\n",
    "CONFIG_PATH = \"../config/config.yaml\""
   ]
  },
  {
   "cell_type": "code",
   "execution_count": 2,
   "metadata": {
    "execution": {
     "iopub.execute_input": "2021-09-21T16:16:51.995755Z",
     "iopub.status.busy": "2021-09-21T16:16:51.995201Z",
     "iopub.status.idle": "2021-09-21T16:16:51.999930Z",
     "shell.execute_reply": "2021-09-21T16:16:52.000338Z"
    }
   },
   "outputs": [],
   "source": [
    "with open('../newest_ts', 'r') as f:\r\n",
    "    newest_ts = f.read()\r\n",
    "\r\n",
    "data_path = f\"../data/data_{newest_ts}.json\"\r\n",
    "with open(data_path, 'r') as f:\r\n",
    "    data = json.load(f)\r\n",
    "\r\n",
    "with open(CONFIG_PATH, \"r\") as stream:\r\n",
    "    config = yaml.safe_load(stream)\r\n",
    "\r\n",
    "TIME_ZONE = config['time_zone']\r\n",
    "DATETIME_FORMAT = config['dt_format']"
   ]
  },
  {
   "cell_type": "code",
   "execution_count": 3,
   "metadata": {
    "execution": {
     "iopub.execute_input": "2021-09-21T16:16:52.005019Z",
     "iopub.status.busy": "2021-09-21T16:16:52.004511Z",
     "iopub.status.idle": "2021-09-21T16:16:52.014282Z",
     "shell.execute_reply": "2021-09-21T16:16:52.014692Z"
    }
   },
   "outputs": [
    {
     "name": "stdout",
     "output_type": "stream",
     "text": [
      "Recent query happens at 2021-09-22 00:16:47 (CST).\n"
     ]
    }
   ],
   "source": [
    "def ts2dt(ts, format=DATETIME_FORMAT):\r\n",
    "    dt = (datetime.utcfromtimestamp(int(ts))\r\n",
    "                    .replace(tzinfo=tz.tzutc())\r\n",
    "                    # .astimezone(tz.tzlocal())\r\n",
    "                    .astimezone(tz.gettz(TIME_ZONE)))\r\n",
    "    return dt.strftime(format), dt\r\n",
    "\r\n",
    "_, newest_dt = ts2dt(newest_ts)\r\n",
    "print(f\"Recent query happens at {newest_dt.strftime(DATETIME_FORMAT)} ({newest_dt.tzname()}).\")"
   ]
  },
  {
   "cell_type": "code",
   "execution_count": 4,
   "metadata": {
    "execution": {
     "iopub.execute_input": "2021-09-21T16:16:52.020221Z",
     "iopub.status.busy": "2021-09-21T16:16:52.018949Z",
     "iopub.status.idle": "2021-09-21T16:16:52.020779Z",
     "shell.execute_reply": "2021-09-21T16:16:52.021177Z"
    }
   },
   "outputs": [],
   "source": [
    "def degrees_to_cardinal(d):\r\n",
    "  dirs = ['N', 'NNE', 'NE', 'ENE', 'E', 'ESE', 'SE', 'SSE', 'S', 'SSW', 'SW', 'WSW', 'W', 'WNW', 'NW', 'NNW']\r\n",
    "  ix = int(round(d / (360. / len(dirs))))\r\n",
    "  return dirs[ix % len(dirs)]"
   ]
  },
  {
   "cell_type": "code",
   "execution_count": 5,
   "metadata": {
    "execution": {
     "iopub.execute_input": "2021-09-21T16:16:52.025813Z",
     "iopub.status.busy": "2021-09-21T16:16:52.024456Z",
     "iopub.status.idle": "2021-09-21T16:16:52.026376Z",
     "shell.execute_reply": "2021-09-21T16:16:52.026780Z"
    }
   },
   "outputs": [],
   "source": [
    "# data.keys()"
   ]
  },
  {
   "cell_type": "code",
   "execution_count": 6,
   "metadata": {
    "execution": {
     "iopub.execute_input": "2021-09-21T16:16:52.030242Z",
     "iopub.status.busy": "2021-09-21T16:16:52.029657Z",
     "iopub.status.idle": "2021-09-21T16:16:52.032030Z",
     "shell.execute_reply": "2021-09-21T16:16:52.031584Z"
    }
   },
   "outputs": [],
   "source": [
    "# data['current']"
   ]
  },
  {
   "cell_type": "code",
   "execution_count": 7,
   "metadata": {
    "execution": {
     "iopub.execute_input": "2021-09-21T16:16:52.052558Z",
     "iopub.status.busy": "2021-09-21T16:16:52.043592Z",
     "iopub.status.idle": "2021-09-21T16:16:52.631627Z",
     "shell.execute_reply": "2021-09-21T16:16:52.632428Z"
    }
   },
   "outputs": [
    {
     "data": {
      "image/png": "[encoded data removed]",
      "text/plain": [
       "<Figure size 216x216 with 1 Axes>"
      ]
     },
     "metadata": {
      "needs_background": "light"
     },
     "output_type": "display_data"
    },
    {
     "name": "stdout",
     "output_type": "stream",
     "text": [
      "Today, sun rises at 06:11 and sets at 18:19.\n",
      "Currently, the weather is Rain (light rain).\n",
      "The temperature is 28.89°C and it feels like 35.08°C.\n",
      "The UV index is 0, humidity is 83%.\n",
      "The pressure is 1010 hPa, percentage of cloud cover is 56%\n",
      "The wind comes from SE direction with a speed 2.29 m/s.\n"
     ]
    }
   ],
   "source": [
    "current = data['current']\r\n",
    "\r\n",
    "fig, ax = plt.subplots(figsize=(3, 3))\r\n",
    "icon = requests.get(f\"http://openweathermap.org/img/wn/{current['weather'][0]['icon']}@2x.png\")\r\n",
    "im = Image.open(BytesIO(icon.content))\r\n",
    "plt.imshow(im)\r\n",
    "ax.set_axis_off()\r\n",
    "plt.show()\r\n",
    "\r\n",
    "print(f\"Today, sun rises at {ts2dt(current['sunrise'], '%H:%M')[0]} \\\r\n",
    "and sets at {ts2dt(current['sunset'], '%H:%M')[0]}.\\n\\\r\n",
    "Currently, the weather is {current['weather'][0]['main']} ({current['weather'][0]['description']}).\\n\\\r\n",
    "The temperature is {current['temp']}°C and it feels like {current['feels_like']}°C.\\n\\\r\n",
    "The UV index is {current['uvi']}, humidity is {current['humidity']}%.\\n\\\r\n",
    "The pressure is {current['pressure']} hPa, percentage of cloud cover is {current['clouds']}%\\n\\\r\n",
    "The wind comes from {degrees_to_cardinal(current['wind_deg'])} direction with a speed {current['wind_speed']} m/s.\")"
   ]
  },
  {
   "cell_type": "code",
   "execution_count": 8,
   "metadata": {
    "execution": {
     "iopub.execute_input": "2021-09-21T16:16:52.636142Z",
     "iopub.status.busy": "2021-09-21T16:16:52.635124Z",
     "iopub.status.idle": "2021-09-21T16:16:52.642265Z",
     "shell.execute_reply": "2021-09-21T16:16:52.642925Z"
    }
   },
   "outputs": [],
   "source": [
    "df_hourly = pd.DataFrame(data['hourly'])\r\n",
    "df_daily = pd.DataFrame(data['daily'])"
   ]
  },
  {
   "cell_type": "code",
   "execution_count": 9,
   "metadata": {
    "execution": {
     "iopub.execute_input": "2021-09-21T16:16:52.646343Z",
     "iopub.status.busy": "2021-09-21T16:16:52.645072Z",
     "iopub.status.idle": "2021-09-21T16:16:52.953462Z",
     "shell.execute_reply": "2021-09-21T16:16:52.953015Z"
    }
   },
   "outputs": [
    {
     "data": {
      "image/png": "[encoded data removed]",
      "text/plain": [
       "<Figure size 864x432 with 1 Axes>"
      ]
     },
     "metadata": {
      "needs_background": "light"
     },
     "output_type": "display_data"
    }
   ],
   "source": [
    "fig, ax = plt.subplots(figsize=(12, 6))\r\n",
    "plt.plot(df_hourly.temp, '.-', label='Temperature')\r\n",
    "plt.plot(df_hourly.feels_like, '.-', label='Feels Like')\r\n",
    "ax.set(title='Temperature in future 48 hours', xlabel='Time', ylabel='Temperature')\r\n",
    "ax.set_xticks(list(range(0, len(df_hourly), 2)))\r\n",
    "ax.set_xticklabels([ts2dt(ts, '%m-%d %H:%M')[0] for i, ts in enumerate(df_hourly.dt) if i%2==0], \r\n",
    "                   rotation=45, ha=\"right\")\r\n",
    "ax.locator_params(nbins=15, axis='y')\r\n",
    "plt.legend()\r\n",
    "plt.show()"
   ]
  },
  {
   "cell_type": "code",
   "execution_count": 10,
   "metadata": {
    "execution": {
     "iopub.execute_input": "2021-09-21T16:16:52.957984Z",
     "iopub.status.busy": "2021-09-21T16:16:52.957427Z",
     "iopub.status.idle": "2021-09-21T16:16:52.978558Z",
     "shell.execute_reply": "2021-09-21T16:16:52.979347Z"
    }
   },
   "outputs": [
    {
     "data": {
      "text/html": [
       "<div>\n",
       "<style scoped>\n",
       "    .dataframe tbody tr th:only-of-type {\n",
       "        vertical-align: middle;\n",
       "    }\n",
       "\n",
       "    .dataframe tbody tr th {\n",
       "        vertical-align: top;\n",
       "    }\n",
       "\n",
       "    .dataframe thead th {\n",
       "        text-align: right;\n",
       "    }\n",
       "</style>\n",
       "<table border=\"1\" class=\"dataframe\">\n",
       "  <thead>\n",
       "    <tr style=\"text-align: right;\">\n",
       "      <th></th>\n",
       "      <th>dt</th>\n",
       "      <th>temp</th>\n",
       "      <th>feels_like</th>\n",
       "      <th>pressure</th>\n",
       "      <th>humidity</th>\n",
       "      <th>dew_point</th>\n",
       "      <th>uvi</th>\n",
       "      <th>clouds</th>\n",
       "      <th>visibility</th>\n",
       "      <th>wind_speed</th>\n",
       "      <th>wind_deg</th>\n",
       "      <th>wind_gust</th>\n",
       "      <th>weather</th>\n",
       "      <th>pop</th>\n",
       "      <th>rain</th>\n",
       "    </tr>\n",
       "  </thead>\n",
       "  <tbody>\n",
       "    <tr>\n",
       "      <th>0</th>\n",
       "      <td>1632240000</td>\n",
       "      <td>28.89</td>\n",
       "      <td>35.08</td>\n",
       "      <td>1010</td>\n",
       "      <td>83</td>\n",
       "      <td>25.71</td>\n",
       "      <td>0.0</td>\n",
       "      <td>56</td>\n",
       "      <td>10000</td>\n",
       "      <td>2.29</td>\n",
       "      <td>137</td>\n",
       "      <td>2.98</td>\n",
       "      <td>[{'id': 803, 'main': 'Clouds', 'description': ...</td>\n",
       "      <td>0.13</td>\n",
       "      <td>NaN</td>\n",
       "    </tr>\n",
       "    <tr>\n",
       "      <th>1</th>\n",
       "      <td>1632243600</td>\n",
       "      <td>28.75</td>\n",
       "      <td>34.46</td>\n",
       "      <td>1010</td>\n",
       "      <td>82</td>\n",
       "      <td>25.37</td>\n",
       "      <td>0.0</td>\n",
       "      <td>56</td>\n",
       "      <td>10000</td>\n",
       "      <td>2.12</td>\n",
       "      <td>137</td>\n",
       "      <td>2.84</td>\n",
       "      <td>[{'id': 500, 'main': 'Rain', 'description': 'l...</td>\n",
       "      <td>0.33</td>\n",
       "      <td>{'1h': 0.15}</td>\n",
       "    </tr>\n",
       "    <tr>\n",
       "      <th>2</th>\n",
       "      <td>1632247200</td>\n",
       "      <td>28.56</td>\n",
       "      <td>33.73</td>\n",
       "      <td>1010</td>\n",
       "      <td>81</td>\n",
       "      <td>24.98</td>\n",
       "      <td>0.0</td>\n",
       "      <td>55</td>\n",
       "      <td>10000</td>\n",
       "      <td>1.96</td>\n",
       "      <td>134</td>\n",
       "      <td>2.61</td>\n",
       "      <td>[{'id': 500, 'main': 'Rain', 'description': 'l...</td>\n",
       "      <td>0.39</td>\n",
       "      <td>{'1h': 0.13}</td>\n",
       "    </tr>\n",
       "    <tr>\n",
       "      <th>3</th>\n",
       "      <td>1632250800</td>\n",
       "      <td>28.27</td>\n",
       "      <td>32.96</td>\n",
       "      <td>1009</td>\n",
       "      <td>81</td>\n",
       "      <td>24.70</td>\n",
       "      <td>0.0</td>\n",
       "      <td>33</td>\n",
       "      <td>10000</td>\n",
       "      <td>1.68</td>\n",
       "      <td>129</td>\n",
       "      <td>2.19</td>\n",
       "      <td>[{'id': 500, 'main': 'Rain', 'description': 'l...</td>\n",
       "      <td>0.50</td>\n",
       "      <td>{'1h': 0.18}</td>\n",
       "    </tr>\n",
       "    <tr>\n",
       "      <th>4</th>\n",
       "      <td>1632254400</td>\n",
       "      <td>28.06</td>\n",
       "      <td>32.41</td>\n",
       "      <td>1009</td>\n",
       "      <td>81</td>\n",
       "      <td>24.49</td>\n",
       "      <td>0.0</td>\n",
       "      <td>28</td>\n",
       "      <td>10000</td>\n",
       "      <td>1.61</td>\n",
       "      <td>115</td>\n",
       "      <td>2.19</td>\n",
       "      <td>[{'id': 802, 'main': 'Clouds', 'description': ...</td>\n",
       "      <td>0.46</td>\n",
       "      <td>NaN</td>\n",
       "    </tr>\n",
       "  </tbody>\n",
       "</table>\n",
       "</div>"
      ],
      "text/plain": [
       "           dt   temp  feels_like  pressure  humidity  dew_point  uvi  clouds  \\\n",
       "0  1632240000  28.89       35.08      1010        83      25.71  0.0      56   \n",
       "1  1632243600  28.75       34.46      1010        82      25.37  0.0      56   \n",
       "2  1632247200  28.56       33.73      1010        81      24.98  0.0      55   \n",
       "3  1632250800  28.27       32.96      1009        81      24.70  0.0      33   \n",
       "4  1632254400  28.06       32.41      1009        81      24.49  0.0      28   \n",
       "\n",
       "   visibility  wind_speed  wind_deg  wind_gust  \\\n",
       "0       10000        2.29       137       2.98   \n",
       "1       10000        2.12       137       2.84   \n",
       "2       10000        1.96       134       2.61   \n",
       "3       10000        1.68       129       2.19   \n",
       "4       10000        1.61       115       2.19   \n",
       "\n",
       "                                             weather   pop          rain  \n",
       "0  [{'id': 803, 'main': 'Clouds', 'description': ...  0.13           NaN  \n",
       "1  [{'id': 500, 'main': 'Rain', 'description': 'l...  0.33  {'1h': 0.15}  \n",
       "2  [{'id': 500, 'main': 'Rain', 'description': 'l...  0.39  {'1h': 0.13}  \n",
       "3  [{'id': 500, 'main': 'Rain', 'description': 'l...  0.50  {'1h': 0.18}  \n",
       "4  [{'id': 802, 'main': 'Clouds', 'description': ...  0.46           NaN  "
      ]
     },
     "execution_count": 10,
     "metadata": {},
     "output_type": "execute_result"
    }
   ],
   "source": [
    "df_hourly.head()"
   ]
  },
  {
   "cell_type": "code",
   "execution_count": null,
   "metadata": {},
   "outputs": [],
   "source": []
  }
 ],
 "metadata": {
  "interpreter": {
   "hash": "c1b4cfe941b6d2466ad1fb5979e97da9cda8801728c8091b097ab734208fc00c"
  },
  "kernelspec": {
   "display_name": "Python 3.8.3 64-bit ('base': conda)",
   "name": "python3"
  },
  "language_info": {
   "codemirror_mode": {
    "name": "ipython",
    "version": 3
   },
   "file_extension": ".py",
   "mimetype": "text/x-python",
   "name": "python",
   "nbconvert_exporter": "python",
   "pygments_lexer": "ipython3",
   "version": "3.8.11"
  }
 },
 "nbformat": 4,
 "nbformat_minor": 2
}
