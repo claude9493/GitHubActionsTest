{
 "cells": [
  {
   "cell_type": "code",
   "execution_count": 1,
   "metadata": {
    "execution": {
     "iopub.execute_input": "2021-09-27T10:12:54.245910Z",
     "iopub.status.busy": "2021-09-27T10:12:54.245375Z",
     "iopub.status.idle": "2021-09-27T10:12:55.518482Z",
     "shell.execute_reply": "2021-09-27T10:12:55.517820Z"
    }
   },
   "outputs": [],
   "source": [
    "import json, yaml, requests\r\n",
    "from datetime import datetime\r\n",
    "from dateutil import tz\r\n",
    "import pandas as pd\r\n",
    "from PIL import Image\r\n",
    "from io import BytesIO\r\n",
    "import matplotlib.pyplot as plt\r\n",
    "import seaborn\r\n",
    "\r\n",
    "CONFIG_PATH = \"../config/config.yaml\""
   ]
  },
  {
   "cell_type": "code",
   "execution_count": 2,
   "metadata": {
    "execution": {
     "iopub.execute_input": "2021-09-27T10:12:55.523453Z",
     "iopub.status.busy": "2021-09-27T10:12:55.522973Z",
     "iopub.status.idle": "2021-09-27T10:12:55.528214Z",
     "shell.execute_reply": "2021-09-27T10:12:55.527478Z"
    }
   },
   "outputs": [],
   "source": [
    "with open('../newest_ts', 'r') as f:\r\n",
    "    newest_ts = f.read()\r\n",
    "\r\n",
    "data_path = f\"../data/data_{newest_ts}.json\"\r\n",
    "with open(data_path, 'r') as f:\r\n",
    "    data = json.load(f)\r\n",
    "\r\n",
    "with open(CONFIG_PATH, \"r\") as stream:\r\n",
    "    config = yaml.safe_load(stream)\r\n",
    "\r\n",
    "TIME_ZONE = config['time_zone']\r\n",
    "DATETIME_FORMAT = config['dt_format']"
   ]
  },
  {
   "cell_type": "code",
   "execution_count": 3,
   "metadata": {
    "execution": {
     "iopub.execute_input": "2021-09-27T10:12:55.532882Z",
     "iopub.status.busy": "2021-09-27T10:12:55.532407Z",
     "iopub.status.idle": "2021-09-27T10:12:55.543182Z",
     "shell.execute_reply": "2021-09-27T10:12:55.543535Z"
    }
   },
   "outputs": [
    {
     "name": "stdout",
     "output_type": "stream",
     "text": [
      "Recent query happens at 2021-09-27 18:12:51 (CST).\n"
     ]
    }
   ],
   "source": [
    "def ts2dt(ts, format=DATETIME_FORMAT):\r\n",
    "    dt = (datetime.utcfromtimestamp(int(ts))\r\n",
    "                    .replace(tzinfo=tz.tzutc())\r\n",
    "                    # .astimezone(tz.tzlocal())\r\n",
    "                    .astimezone(tz.gettz(TIME_ZONE)))\r\n",
    "    return dt.strftime(format), dt\r\n",
    "\r\n",
    "_, newest_dt = ts2dt(newest_ts)\r\n",
    "print(f\"Recent query happens at {newest_dt.strftime(DATETIME_FORMAT)} ({newest_dt.tzname()}).\")"
   ]
  },
  {
   "cell_type": "code",
   "execution_count": 4,
   "metadata": {
    "execution": {
     "iopub.execute_input": "2021-09-27T10:12:55.548835Z",
     "iopub.status.busy": "2021-09-27T10:12:55.547798Z",
     "iopub.status.idle": "2021-09-27T10:12:55.549356Z",
     "shell.execute_reply": "2021-09-27T10:12:55.549715Z"
    }
   },
   "outputs": [],
   "source": [
    "def degrees_to_cardinal(d):\r\n",
    "  dirs = ['N', 'NNE', 'NE', 'ENE', 'E', 'ESE', 'SE', 'SSE', 'S', 'SSW', 'SW', 'WSW', 'W', 'WNW', 'NW', 'NNW']\r\n",
    "  ix = int(round(d / (360. / len(dirs))))\r\n",
    "  return dirs[ix % len(dirs)]"
   ]
  },
  {
   "cell_type": "code",
   "execution_count": 5,
   "metadata": {
    "execution": {
     "iopub.execute_input": "2021-09-27T10:12:55.553321Z",
     "iopub.status.busy": "2021-09-27T10:12:55.552856Z",
     "iopub.status.idle": "2021-09-27T10:12:55.555582Z",
     "shell.execute_reply": "2021-09-27T10:12:55.555928Z"
    }
   },
   "outputs": [],
   "source": [
    "# data.keys()"
   ]
  },
  {
   "cell_type": "code",
   "execution_count": 6,
   "metadata": {
    "execution": {
     "iopub.execute_input": "2021-09-27T10:12:55.559042Z",
     "iopub.status.busy": "2021-09-27T10:12:55.558584Z",
     "iopub.status.idle": "2021-09-27T10:12:55.561626Z",
     "shell.execute_reply": "2021-09-27T10:12:55.561171Z"
    }
   },
   "outputs": [],
   "source": [
    "# data['current']"
   ]
  },
  {
   "cell_type": "code",
   "execution_count": 7,
   "metadata": {
    "execution": {
     "iopub.execute_input": "2021-09-27T10:12:55.579435Z",
     "iopub.status.busy": "2021-09-27T10:12:55.578922Z",
     "iopub.status.idle": "2021-09-27T10:12:56.121655Z",
     "shell.execute_reply": "2021-09-27T10:12:56.122335Z"
    }
   },
   "outputs": [
    {
     "data": {
      "image/png": "[encoded data removed]",
      "text/plain": [
       "<Figure size 216x216 with 1 Axes>"
      ]
     },
     "metadata": {
      "needs_background": "light"
     },
     "output_type": "display_data"
    },
    {
     "name": "stdout",
     "output_type": "stream",
     "text": [
      "Today, sun rises at 06:13 and sets at 18:14.\n",
      "Currently, the weather is Clouds (few clouds).\n",
      "The temperature is 29.55°C and it feels like 36.32°C.\n",
      "The UV index is 0, humidity is 80%.\n",
      "The pressure is 1010 hPa, percentage of cloud cover is 12%\n",
      "The wind comes from E direction with a speed 2.24 m/s.\n"
     ]
    }
   ],
   "source": [
    "current = data['current']\r\n",
    "\r\n",
    "fig, ax = plt.subplots(figsize=(3, 3))\r\n",
    "icon = requests.get(f\"http://openweathermap.org/img/wn/{current['weather'][0]['icon']}@2x.png\")\r\n",
    "im = Image.open(BytesIO(icon.content))\r\n",
    "plt.imshow(im)\r\n",
    "ax.set_axis_off()\r\n",
    "plt.show()\r\n",
    "\r\n",
    "print(f\"Today, sun rises at {ts2dt(current['sunrise'], '%H:%M')[0]} \\\r\n",
    "and sets at {ts2dt(current['sunset'], '%H:%M')[0]}.\\n\\\r\n",
    "Currently, the weather is {current['weather'][0]['main']} ({current['weather'][0]['description']}).\\n\\\r\n",
    "The temperature is {current['temp']}°C and it feels like {current['feels_like']}°C.\\n\\\r\n",
    "The UV index is {current['uvi']}, humidity is {current['humidity']}%.\\n\\\r\n",
    "The pressure is {current['pressure']} hPa, percentage of cloud cover is {current['clouds']}%\\n\\\r\n",
    "The wind comes from {degrees_to_cardinal(current['wind_deg'])} direction with a speed {current['wind_speed']} m/s.\")"
   ]
  },
  {
   "cell_type": "code",
   "execution_count": 8,
   "metadata": {
    "execution": {
     "iopub.execute_input": "2021-09-27T10:12:56.129618Z",
     "iopub.status.busy": "2021-09-27T10:12:56.128604Z",
     "iopub.status.idle": "2021-09-27T10:12:56.132337Z",
     "shell.execute_reply": "2021-09-27T10:12:56.132998Z"
    }
   },
   "outputs": [],
   "source": [
    "df_hourly = pd.DataFrame(data['hourly'])\r\n",
    "df_daily = pd.DataFrame(data['daily'])"
   ]
  },
  {
   "cell_type": "code",
   "execution_count": 9,
   "metadata": {
    "execution": {
     "iopub.execute_input": "2021-09-27T10:12:56.136362Z",
     "iopub.status.busy": "2021-09-27T10:12:56.135304Z",
     "iopub.status.idle": "2021-09-27T10:12:56.380766Z",
     "shell.execute_reply": "2021-09-27T10:12:56.381365Z"
    }
   },
   "outputs": [
    {
     "data": {
      "image/png": "[encoded data removed]",
      "text/plain": [
       "<Figure size 864x432 with 1 Axes>"
      ]
     },
     "metadata": {
      "needs_background": "light"
     },
     "output_type": "display_data"
    }
   ],
   "source": [
    "fig, ax = plt.subplots(figsize=(12, 6))\r\n",
    "plt.plot(df_hourly.temp, '.-', label='Temperature')\r\n",
    "plt.plot(df_hourly.feels_like, '.-', label='Feels Like')\r\n",
    "ax.set(title='Temperature in future 48 hours', xlabel='Time', ylabel='Temperature')\r\n",
    "ax.set_xticks(list(range(0, len(df_hourly), 2)))\r\n",
    "ax.set_xticklabels([ts2dt(ts, '%m-%d %H:%M')[0] for i, ts in enumerate(df_hourly.dt) if i%2==0], \r\n",
    "                   rotation=45, ha=\"right\")\r\n",
    "ax.locator_params(nbins=15, axis='y')\r\n",
    "plt.legend()\r\n",
    "plt.show()"
   ]
  },
  {
   "cell_type": "code",
   "execution_count": 10,
   "metadata": {
    "execution": {
     "iopub.execute_input": "2021-09-27T10:12:56.393137Z",
     "iopub.status.busy": "2021-09-27T10:12:56.385579Z",
     "iopub.status.idle": "2021-09-27T10:12:56.403283Z",
     "shell.execute_reply": "2021-09-27T10:12:56.402863Z"
    }
   },
   "outputs": [
    {
     "data": {
      "text/html": [
       "<div>\n",
       "<style scoped>\n",
       "    .dataframe tbody tr th:only-of-type {\n",
       "        vertical-align: middle;\n",
       "    }\n",
       "\n",
       "    .dataframe tbody tr th {\n",
       "        vertical-align: top;\n",
       "    }\n",
       "\n",
       "    .dataframe thead th {\n",
       "        text-align: right;\n",
       "    }\n",
       "</style>\n",
       "<table border=\"1\" class=\"dataframe\">\n",
       "  <thead>\n",
       "    <tr style=\"text-align: right;\">\n",
       "      <th></th>\n",
       "      <th>dt</th>\n",
       "      <th>temp</th>\n",
       "      <th>feels_like</th>\n",
       "      <th>pressure</th>\n",
       "      <th>humidity</th>\n",
       "      <th>dew_point</th>\n",
       "      <th>uvi</th>\n",
       "      <th>clouds</th>\n",
       "      <th>visibility</th>\n",
       "      <th>wind_speed</th>\n",
       "      <th>wind_deg</th>\n",
       "      <th>wind_gust</th>\n",
       "      <th>weather</th>\n",
       "      <th>pop</th>\n",
       "    </tr>\n",
       "  </thead>\n",
       "  <tbody>\n",
       "    <tr>\n",
       "      <th>0</th>\n",
       "      <td>1632736800</td>\n",
       "      <td>29.55</td>\n",
       "      <td>36.32</td>\n",
       "      <td>1010</td>\n",
       "      <td>80</td>\n",
       "      <td>25.73</td>\n",
       "      <td>0.0</td>\n",
       "      <td>12</td>\n",
       "      <td>10000</td>\n",
       "      <td>3.05</td>\n",
       "      <td>121</td>\n",
       "      <td>3.08</td>\n",
       "      <td>[{'id': 801, 'main': 'Clouds', 'description': ...</td>\n",
       "      <td>0</td>\n",
       "    </tr>\n",
       "    <tr>\n",
       "      <th>1</th>\n",
       "      <td>1632740400</td>\n",
       "      <td>29.10</td>\n",
       "      <td>34.80</td>\n",
       "      <td>1010</td>\n",
       "      <td>79</td>\n",
       "      <td>25.08</td>\n",
       "      <td>0.0</td>\n",
       "      <td>12</td>\n",
       "      <td>10000</td>\n",
       "      <td>3.07</td>\n",
       "      <td>120</td>\n",
       "      <td>3.30</td>\n",
       "      <td>[{'id': 801, 'main': 'Clouds', 'description': ...</td>\n",
       "      <td>0</td>\n",
       "    </tr>\n",
       "    <tr>\n",
       "      <th>2</th>\n",
       "      <td>1632744000</td>\n",
       "      <td>28.63</td>\n",
       "      <td>33.35</td>\n",
       "      <td>1010</td>\n",
       "      <td>78</td>\n",
       "      <td>24.41</td>\n",
       "      <td>0.0</td>\n",
       "      <td>10</td>\n",
       "      <td>10000</td>\n",
       "      <td>3.24</td>\n",
       "      <td>118</td>\n",
       "      <td>3.64</td>\n",
       "      <td>[{'id': 800, 'main': 'Clear', 'description': '...</td>\n",
       "      <td>0</td>\n",
       "    </tr>\n",
       "    <tr>\n",
       "      <th>3</th>\n",
       "      <td>1632747600</td>\n",
       "      <td>28.19</td>\n",
       "      <td>32.25</td>\n",
       "      <td>1010</td>\n",
       "      <td>78</td>\n",
       "      <td>23.99</td>\n",
       "      <td>0.0</td>\n",
       "      <td>5</td>\n",
       "      <td>10000</td>\n",
       "      <td>3.24</td>\n",
       "      <td>108</td>\n",
       "      <td>3.85</td>\n",
       "      <td>[{'id': 800, 'main': 'Clear', 'description': '...</td>\n",
       "      <td>0</td>\n",
       "    </tr>\n",
       "    <tr>\n",
       "      <th>4</th>\n",
       "      <td>1632751200</td>\n",
       "      <td>27.78</td>\n",
       "      <td>31.14</td>\n",
       "      <td>1011</td>\n",
       "      <td>77</td>\n",
       "      <td>23.38</td>\n",
       "      <td>0.0</td>\n",
       "      <td>2</td>\n",
       "      <td>10000</td>\n",
       "      <td>3.35</td>\n",
       "      <td>103</td>\n",
       "      <td>4.10</td>\n",
       "      <td>[{'id': 800, 'main': 'Clear', 'description': '...</td>\n",
       "      <td>0</td>\n",
       "    </tr>\n",
       "  </tbody>\n",
       "</table>\n",
       "</div>"
      ],
      "text/plain": [
       "           dt   temp  feels_like  pressure  humidity  dew_point  uvi  clouds  \\\n",
       "0  1632736800  29.55       36.32      1010        80      25.73  0.0      12   \n",
       "1  1632740400  29.10       34.80      1010        79      25.08  0.0      12   \n",
       "2  1632744000  28.63       33.35      1010        78      24.41  0.0      10   \n",
       "3  1632747600  28.19       32.25      1010        78      23.99  0.0       5   \n",
       "4  1632751200  27.78       31.14      1011        77      23.38  0.0       2   \n",
       "\n",
       "   visibility  wind_speed  wind_deg  wind_gust  \\\n",
       "0       10000        3.05       121       3.08   \n",
       "1       10000        3.07       120       3.30   \n",
       "2       10000        3.24       118       3.64   \n",
       "3       10000        3.24       108       3.85   \n",
       "4       10000        3.35       103       4.10   \n",
       "\n",
       "                                             weather  pop  \n",
       "0  [{'id': 801, 'main': 'Clouds', 'description': ...    0  \n",
       "1  [{'id': 801, 'main': 'Clouds', 'description': ...    0  \n",
       "2  [{'id': 800, 'main': 'Clear', 'description': '...    0  \n",
       "3  [{'id': 800, 'main': 'Clear', 'description': '...    0  \n",
       "4  [{'id': 800, 'main': 'Clear', 'description': '...    0  "
      ]
     },
     "execution_count": 10,
     "metadata": {},
     "output_type": "execute_result"
    }
   ],
   "source": [
    "df_hourly.head()"
   ]
  },
  {
   "cell_type": "code",
   "execution_count": null,
   "metadata": {},
   "outputs": [],
   "source": []
  }
 ],
 "metadata": {
  "interpreter": {
   "hash": "c1b4cfe941b6d2466ad1fb5979e97da9cda8801728c8091b097ab734208fc00c"
  },
  "kernelspec": {
   "display_name": "Python 3.8.3 64-bit ('base': conda)",
   "name": "python3"
  },
  "language_info": {
   "codemirror_mode": {
    "name": "ipython",
    "version": 3
   },
   "file_extension": ".py",
   "mimetype": "text/x-python",
   "name": "python",
   "nbconvert_exporter": "python",
   "pygments_lexer": "ipython3",
   "version": "3.8.12"
  }
 },
 "nbformat": 4,
 "nbformat_minor": 2
}
