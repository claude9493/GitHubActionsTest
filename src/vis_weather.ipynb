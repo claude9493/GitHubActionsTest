{
 "cells": [
  {
   "cell_type": "code",
   "execution_count": 1,
   "metadata": {
    "execution": {
     "iopub.execute_input": "2021-10-17T00:39:59.304207Z",
     "iopub.status.busy": "2021-10-17T00:39:59.303377Z",
     "iopub.status.idle": "2021-10-17T00:40:02.727570Z",
     "shell.execute_reply": "2021-10-17T00:40:02.726573Z"
    }
   },
   "outputs": [],
   "source": [
    "import json, yaml, requests\r\n",
    "from datetime import datetime\r\n",
    "from dateutil import tz\r\n",
    "import pandas as pd\r\n",
    "from PIL import Image\r\n",
    "from io import BytesIO\r\n",
    "import matplotlib.pyplot as plt\r\n",
    "import seaborn\r\n",
    "\r\n",
    "CONFIG_PATH = \"../config/config.yaml\""
   ]
  },
  {
   "cell_type": "code",
   "execution_count": 2,
   "metadata": {
    "execution": {
     "iopub.execute_input": "2021-10-17T00:40:02.734770Z",
     "iopub.status.busy": "2021-10-17T00:40:02.733868Z",
     "iopub.status.idle": "2021-10-17T00:40:02.740116Z",
     "shell.execute_reply": "2021-10-17T00:40:02.739444Z"
    }
   },
   "outputs": [],
   "source": [
    "with open('../newest_ts', 'r') as f:\r\n",
    "    newest_ts = f.read()\r\n",
    "\r\n",
    "data_path = f\"../data/data_{newest_ts}.json\"\r\n",
    "with open(data_path, 'r') as f:\r\n",
    "    data = json.load(f)\r\n",
    "\r\n",
    "with open(CONFIG_PATH, \"r\") as stream:\r\n",
    "    config = yaml.safe_load(stream)\r\n",
    "\r\n",
    "TIME_ZONE = config['time_zone']\r\n",
    "DATETIME_FORMAT = config['dt_format']"
   ]
  },
  {
   "cell_type": "code",
   "execution_count": 3,
   "metadata": {
    "execution": {
     "iopub.execute_input": "2021-10-17T00:40:02.747334Z",
     "iopub.status.busy": "2021-10-17T00:40:02.745176Z",
     "iopub.status.idle": "2021-10-17T00:40:02.751766Z",
     "shell.execute_reply": "2021-10-17T00:40:02.752236Z"
    }
   },
   "outputs": [
    {
     "name": "stdout",
     "output_type": "stream",
     "text": [
      "Recent query happens at 2021-10-17 08:39:55 (CST).\n"
     ]
    }
   ],
   "source": [
    "def ts2dt(ts, format=DATETIME_FORMAT):\r\n",
    "    dt = (datetime.utcfromtimestamp(int(ts))\r\n",
    "                    .replace(tzinfo=tz.tzutc())\r\n",
    "                    # .astimezone(tz.tzlocal())\r\n",
    "                    .astimezone(tz.gettz(TIME_ZONE)))\r\n",
    "    return dt.strftime(format), dt\r\n",
    "\r\n",
    "_, newest_dt = ts2dt(newest_ts)\r\n",
    "print(f\"Recent query happens at {newest_dt.strftime(DATETIME_FORMAT)} ({newest_dt.tzname()}).\")"
   ]
  },
  {
   "cell_type": "code",
   "execution_count": 4,
   "metadata": {
    "execution": {
     "iopub.execute_input": "2021-10-17T00:40:02.757571Z",
     "iopub.status.busy": "2021-10-17T00:40:02.756747Z",
     "iopub.status.idle": "2021-10-17T00:40:02.760416Z",
     "shell.execute_reply": "2021-10-17T00:40:02.759782Z"
    }
   },
   "outputs": [],
   "source": [
    "def degrees_to_cardinal(d):\r\n",
    "  dirs = ['N', 'NNE', 'NE', 'ENE', 'E', 'ESE', 'SE', 'SSE', 'S', 'SSW', 'SW', 'WSW', 'W', 'WNW', 'NW', 'NNW']\r\n",
    "  ix = int(round(d / (360. / len(dirs))))\r\n",
    "  return dirs[ix % len(dirs)]"
   ]
  },
  {
   "cell_type": "code",
   "execution_count": 5,
   "metadata": {
    "execution": {
     "iopub.execute_input": "2021-10-17T00:40:02.764507Z",
     "iopub.status.busy": "2021-10-17T00:40:02.763088Z",
     "iopub.status.idle": "2021-10-17T00:40:02.766275Z",
     "shell.execute_reply": "2021-10-17T00:40:02.766815Z"
    }
   },
   "outputs": [],
   "source": [
    "# data.keys()"
   ]
  },
  {
   "cell_type": "code",
   "execution_count": 6,
   "metadata": {
    "execution": {
     "iopub.execute_input": "2021-10-17T00:40:02.772115Z",
     "iopub.status.busy": "2021-10-17T00:40:02.770615Z",
     "iopub.status.idle": "2021-10-17T00:40:02.772776Z",
     "shell.execute_reply": "2021-10-17T00:40:02.773218Z"
    }
   },
   "outputs": [],
   "source": [
    "# data['current']"
   ]
  },
  {
   "cell_type": "code",
   "execution_count": 7,
   "metadata": {
    "execution": {
     "iopub.execute_input": "2021-10-17T00:40:02.804700Z",
     "iopub.status.busy": "2021-10-17T00:40:02.794901Z",
     "iopub.status.idle": "2021-10-17T00:40:03.211029Z",
     "shell.execute_reply": "2021-10-17T00:40:03.210311Z"
    }
   },
   "outputs": [
    {
     "data": {
      "image/png": "[encoded data removed]",
      "text/plain": [
       "<Figure size 216x216 with 1 Axes>"
      ]
     },
     "metadata": {
      "needs_background": "light"
     },
     "output_type": "display_data"
    },
    {
     "name": "stdout",
     "output_type": "stream",
     "text": [
      "Today, sun rises at 06:19 and sets at 17:56.\n",
      "Currently, the weather is Clouds (few clouds).\n",
      "The temperature is 23.31°C and it feels like 23.71°C.\n",
      "The UV index is 2.34, humidity is 77%.\n",
      "The pressure is 1018 hPa, percentage of cloud cover is 20%\n",
      "The wind comes from NE direction with a speed 0.45 m/s.\n"
     ]
    }
   ],
   "source": [
    "current = data['current']\r\n",
    "\r\n",
    "fig, ax = plt.subplots(figsize=(3, 3))\r\n",
    "icon = requests.get(f\"http://openweathermap.org/img/wn/{current['weather'][0]['icon']}@2x.png\")\r\n",
    "im = Image.open(BytesIO(icon.content))\r\n",
    "plt.imshow(im)\r\n",
    "ax.set_axis_off()\r\n",
    "plt.show()\r\n",
    "\r\n",
    "print(f\"Today, sun rises at {ts2dt(current['sunrise'], '%H:%M')[0]} \\\r\n",
    "and sets at {ts2dt(current['sunset'], '%H:%M')[0]}.\\n\\\r\n",
    "Currently, the weather is {current['weather'][0]['main']} ({current['weather'][0]['description']}).\\n\\\r\n",
    "The temperature is {current['temp']}°C and it feels like {current['feels_like']}°C.\\n\\\r\n",
    "The UV index is {current['uvi']}, humidity is {current['humidity']}%.\\n\\\r\n",
    "The pressure is {current['pressure']} hPa, percentage of cloud cover is {current['clouds']}%\\n\\\r\n",
    "The wind comes from {degrees_to_cardinal(current['wind_deg'])} direction with a speed {current['wind_speed']} m/s.\")"
   ]
  },
  {
   "cell_type": "code",
   "execution_count": 8,
   "metadata": {
    "execution": {
     "iopub.execute_input": "2021-10-17T00:40:03.217385Z",
     "iopub.status.busy": "2021-10-17T00:40:03.216690Z",
     "iopub.status.idle": "2021-10-17T00:40:03.220411Z",
     "shell.execute_reply": "2021-10-17T00:40:03.221004Z"
    }
   },
   "outputs": [],
   "source": [
    "df_hourly = pd.DataFrame(data['hourly'])\r\n",
    "df_daily = pd.DataFrame(data['daily'])"
   ]
  },
  {
   "cell_type": "code",
   "execution_count": 9,
   "metadata": {
    "execution": {
     "iopub.execute_input": "2021-10-17T00:40:03.224327Z",
     "iopub.status.busy": "2021-10-17T00:40:03.223168Z",
     "iopub.status.idle": "2021-10-17T00:40:03.565246Z",
     "shell.execute_reply": "2021-10-17T00:40:03.565824Z"
    }
   },
   "outputs": [
    {
     "data": {
      "image/png": "[encoded data removed]",
      "text/plain": [
       "<Figure size 864x432 with 1 Axes>"
      ]
     },
     "metadata": {
      "needs_background": "light"
     },
     "output_type": "display_data"
    }
   ],
   "source": [
    "fig, ax = plt.subplots(figsize=(12, 6))\r\n",
    "plt.plot(df_hourly.temp, '.-', label='Temperature')\r\n",
    "plt.plot(df_hourly.feels_like, '.-', label='Feels Like')\r\n",
    "ax.set(title='Temperature in future 48 hours', xlabel='Time', ylabel='Temperature')\r\n",
    "ax.set_xticks(list(range(0, len(df_hourly), 2)))\r\n",
    "ax.set_xticklabels([ts2dt(ts, '%m-%d %H:%M')[0] for i, ts in enumerate(df_hourly.dt) if i%2==0], \r\n",
    "                   rotation=45, ha=\"right\")\r\n",
    "ax.locator_params(nbins=15, axis='y')\r\n",
    "plt.legend()\r\n",
    "plt.show()"
   ]
  },
  {
   "cell_type": "code",
   "execution_count": 10,
   "metadata": {
    "execution": {
     "iopub.execute_input": "2021-10-17T00:40:03.577955Z",
     "iopub.status.busy": "2021-10-17T00:40:03.570147Z",
     "iopub.status.idle": "2021-10-17T00:40:03.589177Z",
     "shell.execute_reply": "2021-10-17T00:40:03.589608Z"
    }
   },
   "outputs": [
    {
     "data": {
      "text/html": [
       "<div>\n",
       "<style scoped>\n",
       "    .dataframe tbody tr th:only-of-type {\n",
       "        vertical-align: middle;\n",
       "    }\n",
       "\n",
       "    .dataframe tbody tr th {\n",
       "        vertical-align: top;\n",
       "    }\n",
       "\n",
       "    .dataframe thead th {\n",
       "        text-align: right;\n",
       "    }\n",
       "</style>\n",
       "<table border=\"1\" class=\"dataframe\">\n",
       "  <thead>\n",
       "    <tr style=\"text-align: right;\">\n",
       "      <th></th>\n",
       "      <th>dt</th>\n",
       "      <th>temp</th>\n",
       "      <th>feels_like</th>\n",
       "      <th>pressure</th>\n",
       "      <th>humidity</th>\n",
       "      <th>dew_point</th>\n",
       "      <th>uvi</th>\n",
       "      <th>clouds</th>\n",
       "      <th>visibility</th>\n",
       "      <th>wind_speed</th>\n",
       "      <th>wind_deg</th>\n",
       "      <th>wind_gust</th>\n",
       "      <th>weather</th>\n",
       "      <th>pop</th>\n",
       "    </tr>\n",
       "  </thead>\n",
       "  <tbody>\n",
       "    <tr>\n",
       "      <th>0</th>\n",
       "      <td>1634428800</td>\n",
       "      <td>22.88</td>\n",
       "      <td>23.21</td>\n",
       "      <td>1018</td>\n",
       "      <td>76</td>\n",
       "      <td>18.43</td>\n",
       "      <td>0.72</td>\n",
       "      <td>28</td>\n",
       "      <td>10000</td>\n",
       "      <td>4.87</td>\n",
       "      <td>24</td>\n",
       "      <td>8.17</td>\n",
       "      <td>[{'id': 802, 'main': 'Clouds', 'description': ...</td>\n",
       "      <td>0.06</td>\n",
       "    </tr>\n",
       "    <tr>\n",
       "      <th>1</th>\n",
       "      <td>1634432400</td>\n",
       "      <td>23.31</td>\n",
       "      <td>23.71</td>\n",
       "      <td>1018</td>\n",
       "      <td>77</td>\n",
       "      <td>19.05</td>\n",
       "      <td>2.34</td>\n",
       "      <td>20</td>\n",
       "      <td>10000</td>\n",
       "      <td>5.22</td>\n",
       "      <td>26</td>\n",
       "      <td>9.90</td>\n",
       "      <td>[{'id': 801, 'main': 'Clouds', 'description': ...</td>\n",
       "      <td>0.03</td>\n",
       "    </tr>\n",
       "    <tr>\n",
       "      <th>2</th>\n",
       "      <td>1634436000</td>\n",
       "      <td>23.26</td>\n",
       "      <td>23.60</td>\n",
       "      <td>1018</td>\n",
       "      <td>75</td>\n",
       "      <td>18.58</td>\n",
       "      <td>4.69</td>\n",
       "      <td>19</td>\n",
       "      <td>10000</td>\n",
       "      <td>5.86</td>\n",
       "      <td>38</td>\n",
       "      <td>10.26</td>\n",
       "      <td>[{'id': 801, 'main': 'Clouds', 'description': ...</td>\n",
       "      <td>0.03</td>\n",
       "    </tr>\n",
       "    <tr>\n",
       "      <th>3</th>\n",
       "      <td>1634439600</td>\n",
       "      <td>23.41</td>\n",
       "      <td>23.71</td>\n",
       "      <td>1019</td>\n",
       "      <td>73</td>\n",
       "      <td>18.30</td>\n",
       "      <td>6.97</td>\n",
       "      <td>17</td>\n",
       "      <td>10000</td>\n",
       "      <td>5.85</td>\n",
       "      <td>38</td>\n",
       "      <td>9.50</td>\n",
       "      <td>[{'id': 801, 'main': 'Clouds', 'description': ...</td>\n",
       "      <td>0.03</td>\n",
       "    </tr>\n",
       "    <tr>\n",
       "      <th>4</th>\n",
       "      <td>1634443200</td>\n",
       "      <td>23.66</td>\n",
       "      <td>23.94</td>\n",
       "      <td>1019</td>\n",
       "      <td>71</td>\n",
       "      <td>18.09</td>\n",
       "      <td>8.23</td>\n",
       "      <td>15</td>\n",
       "      <td>10000</td>\n",
       "      <td>6.52</td>\n",
       "      <td>36</td>\n",
       "      <td>8.70</td>\n",
       "      <td>[{'id': 801, 'main': 'Clouds', 'description': ...</td>\n",
       "      <td>0.03</td>\n",
       "    </tr>\n",
       "  </tbody>\n",
       "</table>\n",
       "</div>"
      ],
      "text/plain": [
       "           dt   temp  feels_like  pressure  humidity  dew_point   uvi  clouds  \\\n",
       "0  1634428800  22.88       23.21      1018        76      18.43  0.72      28   \n",
       "1  1634432400  23.31       23.71      1018        77      19.05  2.34      20   \n",
       "2  1634436000  23.26       23.60      1018        75      18.58  4.69      19   \n",
       "3  1634439600  23.41       23.71      1019        73      18.30  6.97      17   \n",
       "4  1634443200  23.66       23.94      1019        71      18.09  8.23      15   \n",
       "\n",
       "   visibility  wind_speed  wind_deg  wind_gust  \\\n",
       "0       10000        4.87        24       8.17   \n",
       "1       10000        5.22        26       9.90   \n",
       "2       10000        5.86        38      10.26   \n",
       "3       10000        5.85        38       9.50   \n",
       "4       10000        6.52        36       8.70   \n",
       "\n",
       "                                             weather   pop  \n",
       "0  [{'id': 802, 'main': 'Clouds', 'description': ...  0.06  \n",
       "1  [{'id': 801, 'main': 'Clouds', 'description': ...  0.03  \n",
       "2  [{'id': 801, 'main': 'Clouds', 'description': ...  0.03  \n",
       "3  [{'id': 801, 'main': 'Clouds', 'description': ...  0.03  \n",
       "4  [{'id': 801, 'main': 'Clouds', 'description': ...  0.03  "
      ]
     },
     "execution_count": 10,
     "metadata": {},
     "output_type": "execute_result"
    }
   ],
   "source": [
    "df_hourly.head()"
   ]
  },
  {
   "cell_type": "code",
   "execution_count": null,
   "metadata": {},
   "outputs": [],
   "source": []
  }
 ],
 "metadata": {
  "interpreter": {
   "hash": "c1b4cfe941b6d2466ad1fb5979e97da9cda8801728c8091b097ab734208fc00c"
  },
  "kernelspec": {
   "display_name": "Python 3.8.3 64-bit ('base': conda)",
   "name": "python3"
  },
  "language_info": {
   "codemirror_mode": {
    "name": "ipython",
    "version": 3
   },
   "file_extension": ".py",
   "mimetype": "text/x-python",
   "name": "python",
   "nbconvert_exporter": "python",
   "pygments_lexer": "ipython3",
   "version": "3.8.12"
  }
 },
 "nbformat": 4,
 "nbformat_minor": 2
}
