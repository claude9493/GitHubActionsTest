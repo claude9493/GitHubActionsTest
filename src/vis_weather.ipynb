{
 "cells": [
  {
   "cell_type": "code",
   "execution_count": 1,
   "metadata": {
    "execution": {
     "iopub.execute_input": "2021-10-14T02:28:36.756613Z",
     "iopub.status.busy": "2021-10-14T02:28:36.756099Z",
     "iopub.status.idle": "2021-10-14T02:28:38.057912Z",
     "shell.execute_reply": "2021-10-14T02:28:38.056950Z"
    }
   },
   "outputs": [],
   "source": [
    "import json, yaml, requests\r\n",
    "from datetime import datetime\r\n",
    "from dateutil import tz\r\n",
    "import pandas as pd\r\n",
    "from PIL import Image\r\n",
    "from io import BytesIO\r\n",
    "import matplotlib.pyplot as plt\r\n",
    "import seaborn\r\n",
    "\r\n",
    "CONFIG_PATH = \"../config/config.yaml\""
   ]
  },
  {
   "cell_type": "code",
   "execution_count": 2,
   "metadata": {
    "execution": {
     "iopub.execute_input": "2021-10-14T02:28:38.062937Z",
     "iopub.status.busy": "2021-10-14T02:28:38.062444Z",
     "iopub.status.idle": "2021-10-14T02:28:38.067665Z",
     "shell.execute_reply": "2021-10-14T02:28:38.066955Z"
    }
   },
   "outputs": [],
   "source": [
    "with open('../newest_ts', 'r') as f:\r\n",
    "    newest_ts = f.read()\r\n",
    "\r\n",
    "data_path = f\"../data/data_{newest_ts}.json\"\r\n",
    "with open(data_path, 'r') as f:\r\n",
    "    data = json.load(f)\r\n",
    "\r\n",
    "with open(CONFIG_PATH, \"r\") as stream:\r\n",
    "    config = yaml.safe_load(stream)\r\n",
    "\r\n",
    "TIME_ZONE = config['time_zone']\r\n",
    "DATETIME_FORMAT = config['dt_format']"
   ]
  },
  {
   "cell_type": "code",
   "execution_count": 3,
   "metadata": {
    "execution": {
     "iopub.execute_input": "2021-10-14T02:28:38.072039Z",
     "iopub.status.busy": "2021-10-14T02:28:38.071552Z",
     "iopub.status.idle": "2021-10-14T02:28:38.076799Z",
     "shell.execute_reply": "2021-10-14T02:28:38.077151Z"
    }
   },
   "outputs": [
    {
     "name": "stdout",
     "output_type": "stream",
     "text": [
      "Recent query happens at 2021-10-14 10:28:34 (CST).\n"
     ]
    }
   ],
   "source": [
    "def ts2dt(ts, format=DATETIME_FORMAT):\r\n",
    "    dt = (datetime.utcfromtimestamp(int(ts))\r\n",
    "                    .replace(tzinfo=tz.tzutc())\r\n",
    "                    # .astimezone(tz.tzlocal())\r\n",
    "                    .astimezone(tz.gettz(TIME_ZONE)))\r\n",
    "    return dt.strftime(format), dt\r\n",
    "\r\n",
    "_, newest_dt = ts2dt(newest_ts)\r\n",
    "print(f\"Recent query happens at {newest_dt.strftime(DATETIME_FORMAT)} ({newest_dt.tzname()}).\")"
   ]
  },
  {
   "cell_type": "code",
   "execution_count": 4,
   "metadata": {
    "execution": {
     "iopub.execute_input": "2021-10-14T02:28:38.081353Z",
     "iopub.status.busy": "2021-10-14T02:28:38.080893Z",
     "iopub.status.idle": "2021-10-14T02:28:38.083533Z",
     "shell.execute_reply": "2021-10-14T02:28:38.083903Z"
    }
   },
   "outputs": [],
   "source": [
    "def degrees_to_cardinal(d):\r\n",
    "  dirs = ['N', 'NNE', 'NE', 'ENE', 'E', 'ESE', 'SE', 'SSE', 'S', 'SSW', 'SW', 'WSW', 'W', 'WNW', 'NW', 'NNW']\r\n",
    "  ix = int(round(d / (360. / len(dirs))))\r\n",
    "  return dirs[ix % len(dirs)]"
   ]
  },
  {
   "cell_type": "code",
   "execution_count": 5,
   "metadata": {
    "execution": {
     "iopub.execute_input": "2021-10-14T02:28:38.087187Z",
     "iopub.status.busy": "2021-10-14T02:28:38.086745Z",
     "iopub.status.idle": "2021-10-14T02:28:38.089733Z",
     "shell.execute_reply": "2021-10-14T02:28:38.089333Z"
    }
   },
   "outputs": [],
   "source": [
    "# data.keys()"
   ]
  },
  {
   "cell_type": "code",
   "execution_count": 6,
   "metadata": {
    "execution": {
     "iopub.execute_input": "2021-10-14T02:28:38.092730Z",
     "iopub.status.busy": "2021-10-14T02:28:38.092280Z",
     "iopub.status.idle": "2021-10-14T02:28:38.095184Z",
     "shell.execute_reply": "2021-10-14T02:28:38.094767Z"
    }
   },
   "outputs": [],
   "source": [
    "# data['current']"
   ]
  },
  {
   "cell_type": "code",
   "execution_count": 7,
   "metadata": {
    "execution": {
     "iopub.execute_input": "2021-10-14T02:28:38.112094Z",
     "iopub.status.busy": "2021-10-14T02:28:38.111634Z",
     "iopub.status.idle": "2021-10-14T02:28:38.489090Z",
     "shell.execute_reply": "2021-10-14T02:28:38.489753Z"
    }
   },
   "outputs": [
    {
     "data": {
      "image/png": "[encoded data removed]",
      "text/plain": [
       "<Figure size 216x216 with 1 Axes>"
      ]
     },
     "metadata": {
      "needs_background": "light"
     },
     "output_type": "display_data"
    },
    {
     "name": "stdout",
     "output_type": "stream",
     "text": [
      "Today, sun rises at 06:18 and sets at 17:59.\n",
      "Currently, the weather is Clouds (overcast clouds).\n",
      "The temperature is 28.03°C and it feels like 33.67°C.\n",
      "The UV index is 5.07, humidity is 89%.\n",
      "The pressure is 1010 hPa, percentage of cloud cover is 96%\n",
      "The wind comes from NE direction with a speed 1.34 m/s.\n"
     ]
    }
   ],
   "source": [
    "current = data['current']\r\n",
    "\r\n",
    "fig, ax = plt.subplots(figsize=(3, 3))\r\n",
    "icon = requests.get(f\"http://openweathermap.org/img/wn/{current['weather'][0]['icon']}@2x.png\")\r\n",
    "im = Image.open(BytesIO(icon.content))\r\n",
    "plt.imshow(im)\r\n",
    "ax.set_axis_off()\r\n",
    "plt.show()\r\n",
    "\r\n",
    "print(f\"Today, sun rises at {ts2dt(current['sunrise'], '%H:%M')[0]} \\\r\n",
    "and sets at {ts2dt(current['sunset'], '%H:%M')[0]}.\\n\\\r\n",
    "Currently, the weather is {current['weather'][0]['main']} ({current['weather'][0]['description']}).\\n\\\r\n",
    "The temperature is {current['temp']}°C and it feels like {current['feels_like']}°C.\\n\\\r\n",
    "The UV index is {current['uvi']}, humidity is {current['humidity']}%.\\n\\\r\n",
    "The pressure is {current['pressure']} hPa, percentage of cloud cover is {current['clouds']}%\\n\\\r\n",
    "The wind comes from {degrees_to_cardinal(current['wind_deg'])} direction with a speed {current['wind_speed']} m/s.\")"
   ]
  },
  {
   "cell_type": "code",
   "execution_count": 8,
   "metadata": {
    "execution": {
     "iopub.execute_input": "2021-10-14T02:28:38.492711Z",
     "iopub.status.busy": "2021-10-14T02:28:38.492261Z",
     "iopub.status.idle": "2021-10-14T02:28:38.498676Z",
     "shell.execute_reply": "2021-10-14T02:28:38.499316Z"
    }
   },
   "outputs": [],
   "source": [
    "df_hourly = pd.DataFrame(data['hourly'])\r\n",
    "df_daily = pd.DataFrame(data['daily'])"
   ]
  },
  {
   "cell_type": "code",
   "execution_count": 9,
   "metadata": {
    "execution": {
     "iopub.execute_input": "2021-10-14T02:28:38.502360Z",
     "iopub.status.busy": "2021-10-14T02:28:38.501417Z",
     "iopub.status.idle": "2021-10-14T02:28:38.745471Z",
     "shell.execute_reply": "2021-10-14T02:28:38.745055Z"
    }
   },
   "outputs": [
    {
     "data": {
      "image/png": "[encoded data removed]",
      "text/plain": [
       "<Figure size 864x432 with 1 Axes>"
      ]
     },
     "metadata": {
      "needs_background": "light"
     },
     "output_type": "display_data"
    }
   ],
   "source": [
    "fig, ax = plt.subplots(figsize=(12, 6))\r\n",
    "plt.plot(df_hourly.temp, '.-', label='Temperature')\r\n",
    "plt.plot(df_hourly.feels_like, '.-', label='Feels Like')\r\n",
    "ax.set(title='Temperature in future 48 hours', xlabel='Time', ylabel='Temperature')\r\n",
    "ax.set_xticks(list(range(0, len(df_hourly), 2)))\r\n",
    "ax.set_xticklabels([ts2dt(ts, '%m-%d %H:%M')[0] for i, ts in enumerate(df_hourly.dt) if i%2==0], \r\n",
    "                   rotation=45, ha=\"right\")\r\n",
    "ax.locator_params(nbins=15, axis='y')\r\n",
    "plt.legend()\r\n",
    "plt.show()"
   ]
  },
  {
   "cell_type": "code",
   "execution_count": 10,
   "metadata": {
    "execution": {
     "iopub.execute_input": "2021-10-14T02:28:38.757237Z",
     "iopub.status.busy": "2021-10-14T02:28:38.749514Z",
     "iopub.status.idle": "2021-10-14T02:28:38.768871Z",
     "shell.execute_reply": "2021-10-14T02:28:38.768459Z"
    }
   },
   "outputs": [
    {
     "data": {
      "text/html": [
       "<div>\n",
       "<style scoped>\n",
       "    .dataframe tbody tr th:only-of-type {\n",
       "        vertical-align: middle;\n",
       "    }\n",
       "\n",
       "    .dataframe tbody tr th {\n",
       "        vertical-align: top;\n",
       "    }\n",
       "\n",
       "    .dataframe thead th {\n",
       "        text-align: right;\n",
       "    }\n",
       "</style>\n",
       "<table border=\"1\" class=\"dataframe\">\n",
       "  <thead>\n",
       "    <tr style=\"text-align: right;\">\n",
       "      <th></th>\n",
       "      <th>dt</th>\n",
       "      <th>temp</th>\n",
       "      <th>feels_like</th>\n",
       "      <th>pressure</th>\n",
       "      <th>humidity</th>\n",
       "      <th>dew_point</th>\n",
       "      <th>uvi</th>\n",
       "      <th>clouds</th>\n",
       "      <th>visibility</th>\n",
       "      <th>wind_speed</th>\n",
       "      <th>wind_deg</th>\n",
       "      <th>wind_gust</th>\n",
       "      <th>weather</th>\n",
       "      <th>pop</th>\n",
       "      <th>rain</th>\n",
       "    </tr>\n",
       "  </thead>\n",
       "  <tbody>\n",
       "    <tr>\n",
       "      <th>0</th>\n",
       "      <td>1634176800</td>\n",
       "      <td>28.03</td>\n",
       "      <td>33.67</td>\n",
       "      <td>1010</td>\n",
       "      <td>89</td>\n",
       "      <td>26.04</td>\n",
       "      <td>5.07</td>\n",
       "      <td>96</td>\n",
       "      <td>10000</td>\n",
       "      <td>4.68</td>\n",
       "      <td>50</td>\n",
       "      <td>6.31</td>\n",
       "      <td>[{'id': 804, 'main': 'Clouds', 'description': ...</td>\n",
       "      <td>0.41</td>\n",
       "      <td>NaN</td>\n",
       "    </tr>\n",
       "    <tr>\n",
       "      <th>1</th>\n",
       "      <td>1634180400</td>\n",
       "      <td>27.91</td>\n",
       "      <td>32.97</td>\n",
       "      <td>1010</td>\n",
       "      <td>87</td>\n",
       "      <td>25.54</td>\n",
       "      <td>7.50</td>\n",
       "      <td>95</td>\n",
       "      <td>10000</td>\n",
       "      <td>4.86</td>\n",
       "      <td>53</td>\n",
       "      <td>6.44</td>\n",
       "      <td>[{'id': 804, 'main': 'Clouds', 'description': ...</td>\n",
       "      <td>0.43</td>\n",
       "      <td>NaN</td>\n",
       "    </tr>\n",
       "    <tr>\n",
       "      <th>2</th>\n",
       "      <td>1634184000</td>\n",
       "      <td>28.01</td>\n",
       "      <td>32.60</td>\n",
       "      <td>1010</td>\n",
       "      <td>83</td>\n",
       "      <td>24.85</td>\n",
       "      <td>8.61</td>\n",
       "      <td>93</td>\n",
       "      <td>10000</td>\n",
       "      <td>4.44</td>\n",
       "      <td>56</td>\n",
       "      <td>5.99</td>\n",
       "      <td>[{'id': 804, 'main': 'Clouds', 'description': ...</td>\n",
       "      <td>0.39</td>\n",
       "      <td>NaN</td>\n",
       "    </tr>\n",
       "    <tr>\n",
       "      <th>3</th>\n",
       "      <td>1634187600</td>\n",
       "      <td>28.28</td>\n",
       "      <td>32.81</td>\n",
       "      <td>1009</td>\n",
       "      <td>80</td>\n",
       "      <td>24.50</td>\n",
       "      <td>8.46</td>\n",
       "      <td>86</td>\n",
       "      <td>10000</td>\n",
       "      <td>3.93</td>\n",
       "      <td>66</td>\n",
       "      <td>5.10</td>\n",
       "      <td>[{'id': 804, 'main': 'Clouds', 'description': ...</td>\n",
       "      <td>0.31</td>\n",
       "      <td>NaN</td>\n",
       "    </tr>\n",
       "    <tr>\n",
       "      <th>4</th>\n",
       "      <td>1634191200</td>\n",
       "      <td>28.40</td>\n",
       "      <td>32.60</td>\n",
       "      <td>1008</td>\n",
       "      <td>77</td>\n",
       "      <td>23.98</td>\n",
       "      <td>6.83</td>\n",
       "      <td>85</td>\n",
       "      <td>10000</td>\n",
       "      <td>4.34</td>\n",
       "      <td>70</td>\n",
       "      <td>5.49</td>\n",
       "      <td>[{'id': 804, 'main': 'Clouds', 'description': ...</td>\n",
       "      <td>0.31</td>\n",
       "      <td>NaN</td>\n",
       "    </tr>\n",
       "  </tbody>\n",
       "</table>\n",
       "</div>"
      ],
      "text/plain": [
       "           dt   temp  feels_like  pressure  humidity  dew_point   uvi  clouds  \\\n",
       "0  1634176800  28.03       33.67      1010        89      26.04  5.07      96   \n",
       "1  1634180400  27.91       32.97      1010        87      25.54  7.50      95   \n",
       "2  1634184000  28.01       32.60      1010        83      24.85  8.61      93   \n",
       "3  1634187600  28.28       32.81      1009        80      24.50  8.46      86   \n",
       "4  1634191200  28.40       32.60      1008        77      23.98  6.83      85   \n",
       "\n",
       "   visibility  wind_speed  wind_deg  wind_gust  \\\n",
       "0       10000        4.68        50       6.31   \n",
       "1       10000        4.86        53       6.44   \n",
       "2       10000        4.44        56       5.99   \n",
       "3       10000        3.93        66       5.10   \n",
       "4       10000        4.34        70       5.49   \n",
       "\n",
       "                                             weather   pop rain  \n",
       "0  [{'id': 804, 'main': 'Clouds', 'description': ...  0.41  NaN  \n",
       "1  [{'id': 804, 'main': 'Clouds', 'description': ...  0.43  NaN  \n",
       "2  [{'id': 804, 'main': 'Clouds', 'description': ...  0.39  NaN  \n",
       "3  [{'id': 804, 'main': 'Clouds', 'description': ...  0.31  NaN  \n",
       "4  [{'id': 804, 'main': 'Clouds', 'description': ...  0.31  NaN  "
      ]
     },
     "execution_count": 10,
     "metadata": {},
     "output_type": "execute_result"
    }
   ],
   "source": [
    "df_hourly.head()"
   ]
  },
  {
   "cell_type": "code",
   "execution_count": null,
   "metadata": {},
   "outputs": [],
   "source": []
  }
 ],
 "metadata": {
  "interpreter": {
   "hash": "c1b4cfe941b6d2466ad1fb5979e97da9cda8801728c8091b097ab734208fc00c"
  },
  "kernelspec": {
   "display_name": "Python 3.8.3 64-bit ('base': conda)",
   "name": "python3"
  },
  "language_info": {
   "codemirror_mode": {
    "name": "ipython",
    "version": 3
   },
   "file_extension": ".py",
   "mimetype": "text/x-python",
   "name": "python",
   "nbconvert_exporter": "python",
   "pygments_lexer": "ipython3",
   "version": "3.8.12"
  }
 },
 "nbformat": 4,
 "nbformat_minor": 2
}
