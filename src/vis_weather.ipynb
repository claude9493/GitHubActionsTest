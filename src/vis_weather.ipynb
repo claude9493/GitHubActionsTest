{
 "cells": [
  {
   "cell_type": "code",
   "execution_count": 1,
   "metadata": {
    "execution": {
     "iopub.execute_input": "2021-08-26T23:15:56.017418Z",
     "iopub.status.busy": "2021-08-26T23:15:56.016777Z",
     "iopub.status.idle": "2021-08-26T23:15:57.372256Z",
     "shell.execute_reply": "2021-08-26T23:15:57.371345Z"
    }
   },
   "outputs": [],
   "source": [
    "import json, yaml, requests\r\n",
    "from datetime import datetime\r\n",
    "from dateutil import tz\r\n",
    "import pandas as pd\r\n",
    "from PIL import Image\r\n",
    "from io import BytesIO\r\n",
    "import matplotlib.pyplot as plt\r\n",
    "import seaborn\r\n",
    "\r\n",
    "CONFIG_PATH = \"../config/config.yaml\""
   ]
  },
  {
   "cell_type": "code",
   "execution_count": 2,
   "metadata": {
    "execution": {
     "iopub.execute_input": "2021-08-26T23:15:57.380824Z",
     "iopub.status.busy": "2021-08-26T23:15:57.377342Z",
     "iopub.status.idle": "2021-08-26T23:15:57.383509Z",
     "shell.execute_reply": "2021-08-26T23:15:57.382599Z"
    }
   },
   "outputs": [],
   "source": [
    "with open('../newest_ts', 'r') as f:\r\n",
    "    newest_ts = f.read()\r\n",
    "\r\n",
    "data_path = f\"../data/data_{newest_ts}.json\"\r\n",
    "with open(data_path, 'r') as f:\r\n",
    "    data = json.load(f)\r\n",
    "\r\n",
    "with open(CONFIG_PATH, \"r\") as stream:\r\n",
    "    config = yaml.safe_load(stream)\r\n",
    "\r\n",
    "TIME_ZONE = config['time_zone']\r\n",
    "DATETIME_FORMAT = config['dt_format']"
   ]
  },
  {
   "cell_type": "code",
   "execution_count": 3,
   "metadata": {
    "execution": {
     "iopub.execute_input": "2021-08-26T23:15:57.388584Z",
     "iopub.status.busy": "2021-08-26T23:15:57.388058Z",
     "iopub.status.idle": "2021-08-26T23:15:57.395294Z",
     "shell.execute_reply": "2021-08-26T23:15:57.394838Z"
    }
   },
   "outputs": [
    {
     "name": "stdout",
     "output_type": "stream",
     "text": [
      "Recent query happens at 2021-08-27 07:15:53 (CST).\n"
     ]
    }
   ],
   "source": [
    "def ts2dt(ts, format=DATETIME_FORMAT):\r\n",
    "    dt = (datetime.utcfromtimestamp(int(ts))\r\n",
    "                    .replace(tzinfo=tz.tzutc())\r\n",
    "                    # .astimezone(tz.tzlocal())\r\n",
    "                    .astimezone(tz.gettz(TIME_ZONE)))\r\n",
    "    return dt.strftime(format), dt\r\n",
    "\r\n",
    "_, newest_dt = ts2dt(newest_ts)\r\n",
    "print(f\"Recent query happens at {newest_dt.strftime(DATETIME_FORMAT)} ({newest_dt.tzname()}).\")"
   ]
  },
  {
   "cell_type": "code",
   "execution_count": 4,
   "metadata": {
    "execution": {
     "iopub.execute_input": "2021-08-26T23:15:57.401022Z",
     "iopub.status.busy": "2021-08-26T23:15:57.399484Z",
     "iopub.status.idle": "2021-08-26T23:15:57.401716Z",
     "shell.execute_reply": "2021-08-26T23:15:57.402334Z"
    }
   },
   "outputs": [],
   "source": [
    "def degrees_to_cardinal(d):\r\n",
    "  dirs = ['N', 'NNE', 'NE', 'ENE', 'E', 'ESE', 'SE', 'SSE', 'S', 'SSW', 'SW', 'WSW', 'W', 'WNW', 'NW', 'NNW']\r\n",
    "  ix = int(round(d / (360. / len(dirs))))\r\n",
    "  return dirs[ix % len(dirs)]"
   ]
  },
  {
   "cell_type": "code",
   "execution_count": 5,
   "metadata": {
    "execution": {
     "iopub.execute_input": "2021-08-26T23:15:57.408221Z",
     "iopub.status.busy": "2021-08-26T23:15:57.407639Z",
     "iopub.status.idle": "2021-08-26T23:15:57.410576Z",
     "shell.execute_reply": "2021-08-26T23:15:57.410015Z"
    }
   },
   "outputs": [],
   "source": [
    "# data.keys()"
   ]
  },
  {
   "cell_type": "code",
   "execution_count": 6,
   "metadata": {
    "execution": {
     "iopub.execute_input": "2021-08-26T23:15:57.415174Z",
     "iopub.status.busy": "2021-08-26T23:15:57.413857Z",
     "iopub.status.idle": "2021-08-26T23:15:57.415879Z",
     "shell.execute_reply": "2021-08-26T23:15:57.416295Z"
    }
   },
   "outputs": [],
   "source": [
    "# data['current']"
   ]
  },
  {
   "cell_type": "code",
   "execution_count": 7,
   "metadata": {
    "execution": {
     "iopub.execute_input": "2021-08-26T23:15:57.437806Z",
     "iopub.status.busy": "2021-08-26T23:15:57.437244Z",
     "iopub.status.idle": "2021-08-26T23:15:57.870341Z",
     "shell.execute_reply": "2021-08-26T23:15:57.871263Z"
    }
   },
   "outputs": [
    {
     "data": {
      "image/png": "[encoded data removed]",
      "text/plain": [
       "<Figure size 216x216 with 1 Axes>"
      ]
     },
     "metadata": {
      "needs_background": "light"
     },
     "output_type": "display_data"
    },
    {
     "name": "stdout",
     "output_type": "stream",
     "text": [
      "Today, sun rises at 06:04 and sets at 18:45.\n",
      "Currently, the weather is Rain (light rain).\n",
      "The temperature is 28.4°C and it feels like 33.86°C.\n",
      "The UV index is 0.36, humidity is 84%.\n",
      "The pressure is 1011 hPa, percentage of cloud cover is 8%\n",
      "The wind comes from ENE direction with a speed 5.05 m/s.\n"
     ]
    }
   ],
   "source": [
    "current = data['current']\r\n",
    "\r\n",
    "fig, ax = plt.subplots(figsize=(3, 3))\r\n",
    "icon = requests.get(f\"http://openweathermap.org/img/wn/{current['weather'][0]['icon']}@2x.png\")\r\n",
    "im = Image.open(BytesIO(icon.content))\r\n",
    "plt.imshow(im)\r\n",
    "ax.set_axis_off()\r\n",
    "plt.show()\r\n",
    "\r\n",
    "print(f\"Today, sun rises at {ts2dt(current['sunrise'], '%H:%M')[0]} \\\r\n",
    "and sets at {ts2dt(current['sunset'], '%H:%M')[0]}.\\n\\\r\n",
    "Currently, the weather is {current['weather'][0]['main']} ({current['weather'][0]['description']}).\\n\\\r\n",
    "The temperature is {current['temp']}°C and it feels like {current['feels_like']}°C.\\n\\\r\n",
    "The UV index is {current['uvi']}, humidity is {current['humidity']}%.\\n\\\r\n",
    "The pressure is {current['pressure']} hPa, percentage of cloud cover is {current['clouds']}%\\n\\\r\n",
    "The wind comes from {degrees_to_cardinal(current['wind_deg'])} direction with a speed {current['wind_speed']} m/s.\")"
   ]
  },
  {
   "cell_type": "code",
   "execution_count": 8,
   "metadata": {
    "execution": {
     "iopub.execute_input": "2021-08-26T23:15:57.879819Z",
     "iopub.status.busy": "2021-08-26T23:15:57.879171Z",
     "iopub.status.idle": "2021-08-26T23:15:57.882377Z",
     "shell.execute_reply": "2021-08-26T23:15:57.883232Z"
    }
   },
   "outputs": [],
   "source": [
    "df_hourly = pd.DataFrame(data['hourly'])\r\n",
    "df_daily = pd.DataFrame(data['daily'])"
   ]
  },
  {
   "cell_type": "code",
   "execution_count": 9,
   "metadata": {
    "execution": {
     "iopub.execute_input": "2021-08-26T23:15:57.892570Z",
     "iopub.status.busy": "2021-08-26T23:15:57.891335Z",
     "iopub.status.idle": "2021-08-26T23:15:58.222863Z",
     "shell.execute_reply": "2021-08-26T23:15:58.223387Z"
    }
   },
   "outputs": [
    {
     "data": {
      "image/png": "[encoded data removed]",
      "text/plain": [
       "<Figure size 864x432 with 1 Axes>"
      ]
     },
     "metadata": {
      "needs_background": "light"
     },
     "output_type": "display_data"
    }
   ],
   "source": [
    "fig, ax = plt.subplots(figsize=(12, 6))\r\n",
    "plt.plot(df_hourly.temp, '.-', label='Temperature')\r\n",
    "plt.plot(df_hourly.feels_like, '.-', label='Feels Like')\r\n",
    "ax.set(title='Temperature in future 48 hours', xlabel='Time', ylabel='Temperature')\r\n",
    "ax.set_xticks(list(range(0, len(df_hourly), 2)))\r\n",
    "ax.set_xticklabels([ts2dt(ts, '%m-%d %H:%M')[0] for i, ts in enumerate(df_hourly.dt) if i%2==0], \r\n",
    "                   rotation=45, ha=\"right\")\r\n",
    "ax.locator_params(nbins=15, axis='y')\r\n",
    "plt.legend()\r\n",
    "plt.show()"
   ]
  },
  {
   "cell_type": "code",
   "execution_count": 10,
   "metadata": {
    "execution": {
     "iopub.execute_input": "2021-08-26T23:15:58.236243Z",
     "iopub.status.busy": "2021-08-26T23:15:58.227949Z",
     "iopub.status.idle": "2021-08-26T23:15:58.247960Z",
     "shell.execute_reply": "2021-08-26T23:15:58.248470Z"
    }
   },
   "outputs": [
    {
     "data": {
      "text/html": [
       "<div>\n",
       "<style scoped>\n",
       "    .dataframe tbody tr th:only-of-type {\n",
       "        vertical-align: middle;\n",
       "    }\n",
       "\n",
       "    .dataframe tbody tr th {\n",
       "        vertical-align: top;\n",
       "    }\n",
       "\n",
       "    .dataframe thead th {\n",
       "        text-align: right;\n",
       "    }\n",
       "</style>\n",
       "<table border=\"1\" class=\"dataframe\">\n",
       "  <thead>\n",
       "    <tr style=\"text-align: right;\">\n",
       "      <th></th>\n",
       "      <th>dt</th>\n",
       "      <th>temp</th>\n",
       "      <th>feels_like</th>\n",
       "      <th>pressure</th>\n",
       "      <th>humidity</th>\n",
       "      <th>dew_point</th>\n",
       "      <th>uvi</th>\n",
       "      <th>clouds</th>\n",
       "      <th>visibility</th>\n",
       "      <th>wind_speed</th>\n",
       "      <th>wind_deg</th>\n",
       "      <th>wind_gust</th>\n",
       "      <th>weather</th>\n",
       "      <th>pop</th>\n",
       "      <th>rain</th>\n",
       "    </tr>\n",
       "  </thead>\n",
       "  <tbody>\n",
       "    <tr>\n",
       "      <th>0</th>\n",
       "      <td>1630018800</td>\n",
       "      <td>28.40</td>\n",
       "      <td>33.86</td>\n",
       "      <td>1011</td>\n",
       "      <td>84</td>\n",
       "      <td>25.43</td>\n",
       "      <td>0.36</td>\n",
       "      <td>8</td>\n",
       "      <td>10000</td>\n",
       "      <td>5.05</td>\n",
       "      <td>76</td>\n",
       "      <td>6.20</td>\n",
       "      <td>[{'id': 500, 'main': 'Rain', 'description': 'l...</td>\n",
       "      <td>0.77</td>\n",
       "      <td>{'1h': 0.29}</td>\n",
       "    </tr>\n",
       "    <tr>\n",
       "      <th>1</th>\n",
       "      <td>1630022400</td>\n",
       "      <td>28.30</td>\n",
       "      <td>33.39</td>\n",
       "      <td>1011</td>\n",
       "      <td>83</td>\n",
       "      <td>25.13</td>\n",
       "      <td>1.58</td>\n",
       "      <td>8</td>\n",
       "      <td>10000</td>\n",
       "      <td>5.48</td>\n",
       "      <td>73</td>\n",
       "      <td>6.65</td>\n",
       "      <td>[{'id': 501, 'main': 'Rain', 'description': 'm...</td>\n",
       "      <td>0.81</td>\n",
       "      <td>{'1h': 1.78}</td>\n",
       "    </tr>\n",
       "    <tr>\n",
       "      <th>2</th>\n",
       "      <td>1630026000</td>\n",
       "      <td>28.48</td>\n",
       "      <td>33.33</td>\n",
       "      <td>1011</td>\n",
       "      <td>80</td>\n",
       "      <td>24.69</td>\n",
       "      <td>3.94</td>\n",
       "      <td>10</td>\n",
       "      <td>10000</td>\n",
       "      <td>5.70</td>\n",
       "      <td>74</td>\n",
       "      <td>6.83</td>\n",
       "      <td>[{'id': 501, 'main': 'Rain', 'description': 'm...</td>\n",
       "      <td>0.69</td>\n",
       "      <td>{'1h': 2.73}</td>\n",
       "    </tr>\n",
       "    <tr>\n",
       "      <th>3</th>\n",
       "      <td>1630029600</td>\n",
       "      <td>28.83</td>\n",
       "      <td>33.47</td>\n",
       "      <td>1012</td>\n",
       "      <td>76</td>\n",
       "      <td>24.17</td>\n",
       "      <td>7.01</td>\n",
       "      <td>12</td>\n",
       "      <td>10000</td>\n",
       "      <td>6.09</td>\n",
       "      <td>79</td>\n",
       "      <td>7.04</td>\n",
       "      <td>[{'id': 801, 'main': 'Clouds', 'description': ...</td>\n",
       "      <td>0.65</td>\n",
       "      <td>NaN</td>\n",
       "    </tr>\n",
       "    <tr>\n",
       "      <th>4</th>\n",
       "      <td>1630033200</td>\n",
       "      <td>29.40</td>\n",
       "      <td>34.04</td>\n",
       "      <td>1012</td>\n",
       "      <td>72</td>\n",
       "      <td>23.82</td>\n",
       "      <td>9.83</td>\n",
       "      <td>14</td>\n",
       "      <td>10000</td>\n",
       "      <td>6.34</td>\n",
       "      <td>80</td>\n",
       "      <td>7.31</td>\n",
       "      <td>[{'id': 801, 'main': 'Clouds', 'description': ...</td>\n",
       "      <td>0.57</td>\n",
       "      <td>NaN</td>\n",
       "    </tr>\n",
       "  </tbody>\n",
       "</table>\n",
       "</div>"
      ],
      "text/plain": [
       "           dt   temp  feels_like  pressure  humidity  dew_point   uvi  clouds  \\\n",
       "0  1630018800  28.40       33.86      1011        84      25.43  0.36       8   \n",
       "1  1630022400  28.30       33.39      1011        83      25.13  1.58       8   \n",
       "2  1630026000  28.48       33.33      1011        80      24.69  3.94      10   \n",
       "3  1630029600  28.83       33.47      1012        76      24.17  7.01      12   \n",
       "4  1630033200  29.40       34.04      1012        72      23.82  9.83      14   \n",
       "\n",
       "   visibility  wind_speed  wind_deg  wind_gust  \\\n",
       "0       10000        5.05        76       6.20   \n",
       "1       10000        5.48        73       6.65   \n",
       "2       10000        5.70        74       6.83   \n",
       "3       10000        6.09        79       7.04   \n",
       "4       10000        6.34        80       7.31   \n",
       "\n",
       "                                             weather   pop          rain  \n",
       "0  [{'id': 500, 'main': 'Rain', 'description': 'l...  0.77  {'1h': 0.29}  \n",
       "1  [{'id': 501, 'main': 'Rain', 'description': 'm...  0.81  {'1h': 1.78}  \n",
       "2  [{'id': 501, 'main': 'Rain', 'description': 'm...  0.69  {'1h': 2.73}  \n",
       "3  [{'id': 801, 'main': 'Clouds', 'description': ...  0.65           NaN  \n",
       "4  [{'id': 801, 'main': 'Clouds', 'description': ...  0.57           NaN  "
      ]
     },
     "execution_count": 10,
     "metadata": {},
     "output_type": "execute_result"
    }
   ],
   "source": [
    "df_hourly.head()"
   ]
  },
  {
   "cell_type": "code",
   "execution_count": null,
   "metadata": {},
   "outputs": [],
   "source": []
  }
 ],
 "metadata": {
  "interpreter": {
   "hash": "c1b4cfe941b6d2466ad1fb5979e97da9cda8801728c8091b097ab734208fc00c"
  },
  "kernelspec": {
   "display_name": "Python 3.8.3 64-bit ('base': conda)",
   "name": "python3"
  },
  "language_info": {
   "codemirror_mode": {
    "name": "ipython",
    "version": 3
   },
   "file_extension": ".py",
   "mimetype": "text/x-python",
   "name": "python",
   "nbconvert_exporter": "python",
   "pygments_lexer": "ipython3",
   "version": "3.8.11"
  }
 },
 "nbformat": 4,
 "nbformat_minor": 2
}
