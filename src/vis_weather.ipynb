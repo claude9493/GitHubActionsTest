{
 "cells": [
  {
   "cell_type": "code",
   "execution_count": 1,
   "metadata": {
    "execution": {
     "iopub.execute_input": "2021-09-03T02:46:23.665068Z",
     "iopub.status.busy": "2021-09-03T02:46:23.664139Z",
     "iopub.status.idle": "2021-09-03T02:46:25.034672Z",
     "shell.execute_reply": "2021-09-03T02:46:25.033942Z"
    }
   },
   "outputs": [],
   "source": [
    "import json, yaml, requests\r\n",
    "from datetime import datetime\r\n",
    "from dateutil import tz\r\n",
    "import pandas as pd\r\n",
    "from PIL import Image\r\n",
    "from io import BytesIO\r\n",
    "import matplotlib.pyplot as plt\r\n",
    "import seaborn\r\n",
    "\r\n",
    "CONFIG_PATH = \"../config/config.yaml\""
   ]
  },
  {
   "cell_type": "code",
   "execution_count": 2,
   "metadata": {
    "execution": {
     "iopub.execute_input": "2021-09-03T02:46:25.040540Z",
     "iopub.status.busy": "2021-09-03T02:46:25.039989Z",
     "iopub.status.idle": "2021-09-03T02:46:25.045276Z",
     "shell.execute_reply": "2021-09-03T02:46:25.044409Z"
    }
   },
   "outputs": [],
   "source": [
    "with open('../newest_ts', 'r') as f:\r\n",
    "    newest_ts = f.read()\r\n",
    "\r\n",
    "data_path = f\"../data/data_{newest_ts}.json\"\r\n",
    "with open(data_path, 'r') as f:\r\n",
    "    data = json.load(f)\r\n",
    "\r\n",
    "with open(CONFIG_PATH, \"r\") as stream:\r\n",
    "    config = yaml.safe_load(stream)\r\n",
    "\r\n",
    "TIME_ZONE = config['time_zone']\r\n",
    "DATETIME_FORMAT = config['dt_format']"
   ]
  },
  {
   "cell_type": "code",
   "execution_count": 3,
   "metadata": {
    "execution": {
     "iopub.execute_input": "2021-09-03T02:46:25.050809Z",
     "iopub.status.busy": "2021-09-03T02:46:25.049495Z",
     "iopub.status.idle": "2021-09-03T02:46:25.059532Z",
     "shell.execute_reply": "2021-09-03T02:46:25.058966Z"
    }
   },
   "outputs": [
    {
     "name": "stdout",
     "output_type": "stream",
     "text": [
      "Recent query happens at 2021-09-03 10:46:21 (CST).\n"
     ]
    }
   ],
   "source": [
    "def ts2dt(ts, format=DATETIME_FORMAT):\r\n",
    "    dt = (datetime.utcfromtimestamp(int(ts))\r\n",
    "                    .replace(tzinfo=tz.tzutc())\r\n",
    "                    # .astimezone(tz.tzlocal())\r\n",
    "                    .astimezone(tz.gettz(TIME_ZONE)))\r\n",
    "    return dt.strftime(format), dt\r\n",
    "\r\n",
    "_, newest_dt = ts2dt(newest_ts)\r\n",
    "print(f\"Recent query happens at {newest_dt.strftime(DATETIME_FORMAT)} ({newest_dt.tzname()}).\")"
   ]
  },
  {
   "cell_type": "code",
   "execution_count": 4,
   "metadata": {
    "execution": {
     "iopub.execute_input": "2021-09-03T02:46:25.064583Z",
     "iopub.status.busy": "2021-09-03T02:46:25.062016Z",
     "iopub.status.idle": "2021-09-03T02:46:25.067301Z",
     "shell.execute_reply": "2021-09-03T02:46:25.067711Z"
    }
   },
   "outputs": [],
   "source": [
    "def degrees_to_cardinal(d):\r\n",
    "  dirs = ['N', 'NNE', 'NE', 'ENE', 'E', 'ESE', 'SE', 'SSE', 'S', 'SSW', 'SW', 'WSW', 'W', 'WNW', 'NW', 'NNW']\r\n",
    "  ix = int(round(d / (360. / len(dirs))))\r\n",
    "  return dirs[ix % len(dirs)]"
   ]
  },
  {
   "cell_type": "code",
   "execution_count": 5,
   "metadata": {
    "execution": {
     "iopub.execute_input": "2021-09-03T02:46:25.072367Z",
     "iopub.status.busy": "2021-09-03T02:46:25.070908Z",
     "iopub.status.idle": "2021-09-03T02:46:25.073109Z",
     "shell.execute_reply": "2021-09-03T02:46:25.073611Z"
    }
   },
   "outputs": [],
   "source": [
    "# data.keys()"
   ]
  },
  {
   "cell_type": "code",
   "execution_count": 6,
   "metadata": {
    "execution": {
     "iopub.execute_input": "2021-09-03T02:46:25.078023Z",
     "iopub.status.busy": "2021-09-03T02:46:25.076616Z",
     "iopub.status.idle": "2021-09-03T02:46:25.078750Z",
     "shell.execute_reply": "2021-09-03T02:46:25.079148Z"
    }
   },
   "outputs": [],
   "source": [
    "# data['current']"
   ]
  },
  {
   "cell_type": "code",
   "execution_count": 7,
   "metadata": {
    "execution": {
     "iopub.execute_input": "2021-09-03T02:46:25.097503Z",
     "iopub.status.busy": "2021-09-03T02:46:25.096990Z",
     "iopub.status.idle": "2021-09-03T02:46:25.519127Z",
     "shell.execute_reply": "2021-09-03T02:46:25.520177Z"
    }
   },
   "outputs": [
    {
     "data": {
      "image/png": "[encoded data removed]",
      "text/plain": [
       "<Figure size 216x216 with 1 Axes>"
      ]
     },
     "metadata": {
      "needs_background": "light"
     },
     "output_type": "display_data"
    },
    {
     "name": "stdout",
     "output_type": "stream",
     "text": [
      "Today, sun rises at 06:06 and sets at 18:38.\n",
      "Currently, the weather is Clouds (broken clouds).\n",
      "The temperature is 31.41°C and it feels like 38.41°C.\n",
      "The UV index is 9.6, humidity is 78%.\n",
      "The pressure is 1008 hPa, percentage of cloud cover is 63%\n",
      "The wind comes from ESE direction with a speed 2.41 m/s.\n"
     ]
    }
   ],
   "source": [
    "current = data['current']\r\n",
    "\r\n",
    "fig, ax = plt.subplots(figsize=(3, 3))\r\n",
    "icon = requests.get(f\"http://openweathermap.org/img/wn/{current['weather'][0]['icon']}@2x.png\")\r\n",
    "im = Image.open(BytesIO(icon.content))\r\n",
    "plt.imshow(im)\r\n",
    "ax.set_axis_off()\r\n",
    "plt.show()\r\n",
    "\r\n",
    "print(f\"Today, sun rises at {ts2dt(current['sunrise'], '%H:%M')[0]} \\\r\n",
    "and sets at {ts2dt(current['sunset'], '%H:%M')[0]}.\\n\\\r\n",
    "Currently, the weather is {current['weather'][0]['main']} ({current['weather'][0]['description']}).\\n\\\r\n",
    "The temperature is {current['temp']}°C and it feels like {current['feels_like']}°C.\\n\\\r\n",
    "The UV index is {current['uvi']}, humidity is {current['humidity']}%.\\n\\\r\n",
    "The pressure is {current['pressure']} hPa, percentage of cloud cover is {current['clouds']}%\\n\\\r\n",
    "The wind comes from {degrees_to_cardinal(current['wind_deg'])} direction with a speed {current['wind_speed']} m/s.\")"
   ]
  },
  {
   "cell_type": "code",
   "execution_count": 8,
   "metadata": {
    "execution": {
     "iopub.execute_input": "2021-09-03T02:46:25.523521Z",
     "iopub.status.busy": "2021-09-03T02:46:25.522611Z",
     "iopub.status.idle": "2021-09-03T02:46:25.529476Z",
     "shell.execute_reply": "2021-09-03T02:46:25.530315Z"
    }
   },
   "outputs": [],
   "source": [
    "df_hourly = pd.DataFrame(data['hourly'])\r\n",
    "df_daily = pd.DataFrame(data['daily'])"
   ]
  },
  {
   "cell_type": "code",
   "execution_count": 9,
   "metadata": {
    "execution": {
     "iopub.execute_input": "2021-09-03T02:46:25.533102Z",
     "iopub.status.busy": "2021-09-03T02:46:25.532181Z",
     "iopub.status.idle": "2021-09-03T02:46:25.833279Z",
     "shell.execute_reply": "2021-09-03T02:46:25.832741Z"
    }
   },
   "outputs": [
    {
     "data": {
      "image/png": "[encoded data removed]",
      "text/plain": [
       "<Figure size 864x432 with 1 Axes>"
      ]
     },
     "metadata": {
      "needs_background": "light"
     },
     "output_type": "display_data"
    }
   ],
   "source": [
    "fig, ax = plt.subplots(figsize=(12, 6))\r\n",
    "plt.plot(df_hourly.temp, '.-', label='Temperature')\r\n",
    "plt.plot(df_hourly.feels_like, '.-', label='Feels Like')\r\n",
    "ax.set(title='Temperature in future 48 hours', xlabel='Time', ylabel='Temperature')\r\n",
    "ax.set_xticks(list(range(0, len(df_hourly), 2)))\r\n",
    "ax.set_xticklabels([ts2dt(ts, '%m-%d %H:%M')[0] for i, ts in enumerate(df_hourly.dt) if i%2==0], \r\n",
    "                   rotation=45, ha=\"right\")\r\n",
    "ax.locator_params(nbins=15, axis='y')\r\n",
    "plt.legend()\r\n",
    "plt.show()"
   ]
  },
  {
   "cell_type": "code",
   "execution_count": 10,
   "metadata": {
    "execution": {
     "iopub.execute_input": "2021-09-03T02:46:25.844936Z",
     "iopub.status.busy": "2021-09-03T02:46:25.837074Z",
     "iopub.status.idle": "2021-09-03T02:46:25.858764Z",
     "shell.execute_reply": "2021-09-03T02:46:25.859155Z"
    }
   },
   "outputs": [
    {
     "data": {
      "text/html": [
       "<div>\n",
       "<style scoped>\n",
       "    .dataframe tbody tr th:only-of-type {\n",
       "        vertical-align: middle;\n",
       "    }\n",
       "\n",
       "    .dataframe tbody tr th {\n",
       "        vertical-align: top;\n",
       "    }\n",
       "\n",
       "    .dataframe thead th {\n",
       "        text-align: right;\n",
       "    }\n",
       "</style>\n",
       "<table border=\"1\" class=\"dataframe\">\n",
       "  <thead>\n",
       "    <tr style=\"text-align: right;\">\n",
       "      <th></th>\n",
       "      <th>dt</th>\n",
       "      <th>temp</th>\n",
       "      <th>feels_like</th>\n",
       "      <th>pressure</th>\n",
       "      <th>humidity</th>\n",
       "      <th>dew_point</th>\n",
       "      <th>uvi</th>\n",
       "      <th>clouds</th>\n",
       "      <th>visibility</th>\n",
       "      <th>wind_speed</th>\n",
       "      <th>wind_deg</th>\n",
       "      <th>wind_gust</th>\n",
       "      <th>weather</th>\n",
       "      <th>pop</th>\n",
       "      <th>rain</th>\n",
       "    </tr>\n",
       "  </thead>\n",
       "  <tbody>\n",
       "    <tr>\n",
       "      <th>0</th>\n",
       "      <td>1630634400</td>\n",
       "      <td>31.10</td>\n",
       "      <td>38.10</td>\n",
       "      <td>1008</td>\n",
       "      <td>76</td>\n",
       "      <td>26.36</td>\n",
       "      <td>6.80</td>\n",
       "      <td>60</td>\n",
       "      <td>10000</td>\n",
       "      <td>1.61</td>\n",
       "      <td>109</td>\n",
       "      <td>1.60</td>\n",
       "      <td>[{'id': 500, 'main': 'Rain', 'description': 'l...</td>\n",
       "      <td>0.52</td>\n",
       "      <td>{'1h': 0.11}</td>\n",
       "    </tr>\n",
       "    <tr>\n",
       "      <th>1</th>\n",
       "      <td>1630638000</td>\n",
       "      <td>31.41</td>\n",
       "      <td>38.41</td>\n",
       "      <td>1008</td>\n",
       "      <td>78</td>\n",
       "      <td>27.11</td>\n",
       "      <td>9.60</td>\n",
       "      <td>63</td>\n",
       "      <td>10000</td>\n",
       "      <td>2.41</td>\n",
       "      <td>119</td>\n",
       "      <td>2.07</td>\n",
       "      <td>[{'id': 803, 'main': 'Clouds', 'description': ...</td>\n",
       "      <td>0.56</td>\n",
       "      <td>NaN</td>\n",
       "    </tr>\n",
       "    <tr>\n",
       "      <th>2</th>\n",
       "      <td>1630641600</td>\n",
       "      <td>31.17</td>\n",
       "      <td>38.17</td>\n",
       "      <td>1008</td>\n",
       "      <td>76</td>\n",
       "      <td>26.43</td>\n",
       "      <td>9.51</td>\n",
       "      <td>65</td>\n",
       "      <td>10000</td>\n",
       "      <td>3.22</td>\n",
       "      <td>122</td>\n",
       "      <td>2.55</td>\n",
       "      <td>[{'id': 803, 'main': 'Clouds', 'description': ...</td>\n",
       "      <td>0.48</td>\n",
       "      <td>NaN</td>\n",
       "    </tr>\n",
       "    <tr>\n",
       "      <th>3</th>\n",
       "      <td>1630645200</td>\n",
       "      <td>30.92</td>\n",
       "      <td>37.92</td>\n",
       "      <td>1008</td>\n",
       "      <td>74</td>\n",
       "      <td>25.74</td>\n",
       "      <td>9.36</td>\n",
       "      <td>69</td>\n",
       "      <td>10000</td>\n",
       "      <td>3.25</td>\n",
       "      <td>126</td>\n",
       "      <td>2.64</td>\n",
       "      <td>[{'id': 803, 'main': 'Clouds', 'description': ...</td>\n",
       "      <td>0.43</td>\n",
       "      <td>NaN</td>\n",
       "    </tr>\n",
       "    <tr>\n",
       "      <th>4</th>\n",
       "      <td>1630648800</td>\n",
       "      <td>30.81</td>\n",
       "      <td>37.39</td>\n",
       "      <td>1007</td>\n",
       "      <td>71</td>\n",
       "      <td>24.94</td>\n",
       "      <td>7.74</td>\n",
       "      <td>66</td>\n",
       "      <td>10000</td>\n",
       "      <td>3.29</td>\n",
       "      <td>124</td>\n",
       "      <td>2.75</td>\n",
       "      <td>[{'id': 803, 'main': 'Clouds', 'description': ...</td>\n",
       "      <td>0.35</td>\n",
       "      <td>NaN</td>\n",
       "    </tr>\n",
       "  </tbody>\n",
       "</table>\n",
       "</div>"
      ],
      "text/plain": [
       "           dt   temp  feels_like  pressure  humidity  dew_point   uvi  clouds  \\\n",
       "0  1630634400  31.10       38.10      1008        76      26.36  6.80      60   \n",
       "1  1630638000  31.41       38.41      1008        78      27.11  9.60      63   \n",
       "2  1630641600  31.17       38.17      1008        76      26.43  9.51      65   \n",
       "3  1630645200  30.92       37.92      1008        74      25.74  9.36      69   \n",
       "4  1630648800  30.81       37.39      1007        71      24.94  7.74      66   \n",
       "\n",
       "   visibility  wind_speed  wind_deg  wind_gust  \\\n",
       "0       10000        1.61       109       1.60   \n",
       "1       10000        2.41       119       2.07   \n",
       "2       10000        3.22       122       2.55   \n",
       "3       10000        3.25       126       2.64   \n",
       "4       10000        3.29       124       2.75   \n",
       "\n",
       "                                             weather   pop          rain  \n",
       "0  [{'id': 500, 'main': 'Rain', 'description': 'l...  0.52  {'1h': 0.11}  \n",
       "1  [{'id': 803, 'main': 'Clouds', 'description': ...  0.56           NaN  \n",
       "2  [{'id': 803, 'main': 'Clouds', 'description': ...  0.48           NaN  \n",
       "3  [{'id': 803, 'main': 'Clouds', 'description': ...  0.43           NaN  \n",
       "4  [{'id': 803, 'main': 'Clouds', 'description': ...  0.35           NaN  "
      ]
     },
     "execution_count": 10,
     "metadata": {},
     "output_type": "execute_result"
    }
   ],
   "source": [
    "df_hourly.head()"
   ]
  },
  {
   "cell_type": "code",
   "execution_count": null,
   "metadata": {},
   "outputs": [],
   "source": []
  }
 ],
 "metadata": {
  "interpreter": {
   "hash": "c1b4cfe941b6d2466ad1fb5979e97da9cda8801728c8091b097ab734208fc00c"
  },
  "kernelspec": {
   "display_name": "Python 3.8.3 64-bit ('base': conda)",
   "name": "python3"
  },
  "language_info": {
   "codemirror_mode": {
    "name": "ipython",
    "version": 3
   },
   "file_extension": ".py",
   "mimetype": "text/x-python",
   "name": "python",
   "nbconvert_exporter": "python",
   "pygments_lexer": "ipython3",
   "version": "3.8.11"
  }
 },
 "nbformat": 4,
 "nbformat_minor": 2
}
