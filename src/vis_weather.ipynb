{
 "cells": [
  {
   "cell_type": "code",
   "execution_count": 1,
   "metadata": {
    "execution": {
     "iopub.execute_input": "2021-10-05T00:39:42.337491Z",
     "iopub.status.busy": "2021-10-05T00:39:42.336958Z",
     "iopub.status.idle": "2021-10-05T00:39:44.716387Z",
     "shell.execute_reply": "2021-10-05T00:39:44.715769Z"
    }
   },
   "outputs": [],
   "source": [
    "import json, yaml, requests\r\n",
    "from datetime import datetime\r\n",
    "from dateutil import tz\r\n",
    "import pandas as pd\r\n",
    "from PIL import Image\r\n",
    "from io import BytesIO\r\n",
    "import matplotlib.pyplot as plt\r\n",
    "import seaborn\r\n",
    "\r\n",
    "CONFIG_PATH = \"../config/config.yaml\""
   ]
  },
  {
   "cell_type": "code",
   "execution_count": 2,
   "metadata": {
    "execution": {
     "iopub.execute_input": "2021-10-05T00:39:44.721755Z",
     "iopub.status.busy": "2021-10-05T00:39:44.721043Z",
     "iopub.status.idle": "2021-10-05T00:39:44.725944Z",
     "shell.execute_reply": "2021-10-05T00:39:44.725307Z"
    }
   },
   "outputs": [],
   "source": [
    "with open('../newest_ts', 'r') as f:\r\n",
    "    newest_ts = f.read()\r\n",
    "\r\n",
    "data_path = f\"../data/data_{newest_ts}.json\"\r\n",
    "with open(data_path, 'r') as f:\r\n",
    "    data = json.load(f)\r\n",
    "\r\n",
    "with open(CONFIG_PATH, \"r\") as stream:\r\n",
    "    config = yaml.safe_load(stream)\r\n",
    "\r\n",
    "TIME_ZONE = config['time_zone']\r\n",
    "DATETIME_FORMAT = config['dt_format']"
   ]
  },
  {
   "cell_type": "code",
   "execution_count": 3,
   "metadata": {
    "execution": {
     "iopub.execute_input": "2021-10-05T00:39:44.730105Z",
     "iopub.status.busy": "2021-10-05T00:39:44.729649Z",
     "iopub.status.idle": "2021-10-05T00:39:44.740677Z",
     "shell.execute_reply": "2021-10-05T00:39:44.741046Z"
    }
   },
   "outputs": [
    {
     "name": "stdout",
     "output_type": "stream",
     "text": [
      "Recent query happens at 2021-10-05 08:39:39 (CST).\n"
     ]
    }
   ],
   "source": [
    "def ts2dt(ts, format=DATETIME_FORMAT):\r\n",
    "    dt = (datetime.utcfromtimestamp(int(ts))\r\n",
    "                    .replace(tzinfo=tz.tzutc())\r\n",
    "                    # .astimezone(tz.tzlocal())\r\n",
    "                    .astimezone(tz.gettz(TIME_ZONE)))\r\n",
    "    return dt.strftime(format), dt\r\n",
    "\r\n",
    "_, newest_dt = ts2dt(newest_ts)\r\n",
    "print(f\"Recent query happens at {newest_dt.strftime(DATETIME_FORMAT)} ({newest_dt.tzname()}).\")"
   ]
  },
  {
   "cell_type": "code",
   "execution_count": 4,
   "metadata": {
    "execution": {
     "iopub.execute_input": "2021-10-05T00:39:44.745826Z",
     "iopub.status.busy": "2021-10-05T00:39:44.744820Z",
     "iopub.status.idle": "2021-10-05T00:39:44.746345Z",
     "shell.execute_reply": "2021-10-05T00:39:44.746738Z"
    }
   },
   "outputs": [],
   "source": [
    "def degrees_to_cardinal(d):\r\n",
    "  dirs = ['N', 'NNE', 'NE', 'ENE', 'E', 'ESE', 'SE', 'SSE', 'S', 'SSW', 'SW', 'WSW', 'W', 'WNW', 'NW', 'NNW']\r\n",
    "  ix = int(round(d / (360. / len(dirs))))\r\n",
    "  return dirs[ix % len(dirs)]"
   ]
  },
  {
   "cell_type": "code",
   "execution_count": 5,
   "metadata": {
    "execution": {
     "iopub.execute_input": "2021-10-05T00:39:44.750584Z",
     "iopub.status.busy": "2021-10-05T00:39:44.749484Z",
     "iopub.status.idle": "2021-10-05T00:39:44.751103Z",
     "shell.execute_reply": "2021-10-05T00:39:44.751464Z"
    }
   },
   "outputs": [],
   "source": [
    "# data.keys()"
   ]
  },
  {
   "cell_type": "code",
   "execution_count": 6,
   "metadata": {
    "execution": {
     "iopub.execute_input": "2021-10-05T00:39:44.755159Z",
     "iopub.status.busy": "2021-10-05T00:39:44.754029Z",
     "iopub.status.idle": "2021-10-05T00:39:44.755682Z",
     "shell.execute_reply": "2021-10-05T00:39:44.756043Z"
    }
   },
   "outputs": [],
   "source": [
    "# data['current']"
   ]
  },
  {
   "cell_type": "code",
   "execution_count": 7,
   "metadata": {
    "execution": {
     "iopub.execute_input": "2021-10-05T00:39:44.772250Z",
     "iopub.status.busy": "2021-10-05T00:39:44.768973Z",
     "iopub.status.idle": "2021-10-05T00:39:45.155150Z",
     "shell.execute_reply": "2021-10-05T00:39:45.154733Z"
    }
   },
   "outputs": [
    {
     "data": {
      "image/png": "[encoded data removed]",
      "text/plain": [
       "<Figure size 216x216 with 1 Axes>"
      ]
     },
     "metadata": {
      "needs_background": "light"
     },
     "output_type": "display_data"
    },
    {
     "name": "stdout",
     "output_type": "stream",
     "text": [
      "Today, sun rises at 06:15 and sets at 18:07.\n",
      "Currently, the weather is Clear (clear sky).\n",
      "The temperature is 29.6°C and it feels like 34.08°C.\n",
      "The UV index is 2.7, humidity is 70%.\n",
      "The pressure is 1012 hPa, percentage of cloud cover is 3%\n",
      "The wind comes from ENE direction with a speed 6.71 m/s.\n"
     ]
    }
   ],
   "source": [
    "current = data['current']\r\n",
    "\r\n",
    "fig, ax = plt.subplots(figsize=(3, 3))\r\n",
    "icon = requests.get(f\"http://openweathermap.org/img/wn/{current['weather'][0]['icon']}@2x.png\")\r\n",
    "im = Image.open(BytesIO(icon.content))\r\n",
    "plt.imshow(im)\r\n",
    "ax.set_axis_off()\r\n",
    "plt.show()\r\n",
    "\r\n",
    "print(f\"Today, sun rises at {ts2dt(current['sunrise'], '%H:%M')[0]} \\\r\n",
    "and sets at {ts2dt(current['sunset'], '%H:%M')[0]}.\\n\\\r\n",
    "Currently, the weather is {current['weather'][0]['main']} ({current['weather'][0]['description']}).\\n\\\r\n",
    "The temperature is {current['temp']}°C and it feels like {current['feels_like']}°C.\\n\\\r\n",
    "The UV index is {current['uvi']}, humidity is {current['humidity']}%.\\n\\\r\n",
    "The pressure is {current['pressure']} hPa, percentage of cloud cover is {current['clouds']}%\\n\\\r\n",
    "The wind comes from {degrees_to_cardinal(current['wind_deg'])} direction with a speed {current['wind_speed']} m/s.\")"
   ]
  },
  {
   "cell_type": "code",
   "execution_count": 8,
   "metadata": {
    "execution": {
     "iopub.execute_input": "2021-10-05T00:39:45.160214Z",
     "iopub.status.busy": "2021-10-05T00:39:45.159755Z",
     "iopub.status.idle": "2021-10-05T00:39:45.164520Z",
     "shell.execute_reply": "2021-10-05T00:39:45.165198Z"
    }
   },
   "outputs": [],
   "source": [
    "df_hourly = pd.DataFrame(data['hourly'])\r\n",
    "df_daily = pd.DataFrame(data['daily'])"
   ]
  },
  {
   "cell_type": "code",
   "execution_count": 9,
   "metadata": {
    "execution": {
     "iopub.execute_input": "2021-10-05T00:39:45.181667Z",
     "iopub.status.busy": "2021-10-05T00:39:45.170484Z",
     "iopub.status.idle": "2021-10-05T00:39:45.404760Z",
     "shell.execute_reply": "2021-10-05T00:39:45.404269Z"
    }
   },
   "outputs": [
    {
     "data": {
      "image/png": "[encoded data removed]",
      "text/plain": [
       "<Figure size 864x432 with 1 Axes>"
      ]
     },
     "metadata": {
      "needs_background": "light"
     },
     "output_type": "display_data"
    }
   ],
   "source": [
    "fig, ax = plt.subplots(figsize=(12, 6))\r\n",
    "plt.plot(df_hourly.temp, '.-', label='Temperature')\r\n",
    "plt.plot(df_hourly.feels_like, '.-', label='Feels Like')\r\n",
    "ax.set(title='Temperature in future 48 hours', xlabel='Time', ylabel='Temperature')\r\n",
    "ax.set_xticks(list(range(0, len(df_hourly), 2)))\r\n",
    "ax.set_xticklabels([ts2dt(ts, '%m-%d %H:%M')[0] for i, ts in enumerate(df_hourly.dt) if i%2==0], \r\n",
    "                   rotation=45, ha=\"right\")\r\n",
    "ax.locator_params(nbins=15, axis='y')\r\n",
    "plt.legend()\r\n",
    "plt.show()"
   ]
  },
  {
   "cell_type": "code",
   "execution_count": 10,
   "metadata": {
    "execution": {
     "iopub.execute_input": "2021-10-05T00:39:45.415490Z",
     "iopub.status.busy": "2021-10-05T00:39:45.408709Z",
     "iopub.status.idle": "2021-10-05T00:39:45.424506Z",
     "shell.execute_reply": "2021-10-05T00:39:45.424882Z"
    }
   },
   "outputs": [
    {
     "data": {
      "text/html": [
       "<div>\n",
       "<style scoped>\n",
       "    .dataframe tbody tr th:only-of-type {\n",
       "        vertical-align: middle;\n",
       "    }\n",
       "\n",
       "    .dataframe tbody tr th {\n",
       "        vertical-align: top;\n",
       "    }\n",
       "\n",
       "    .dataframe thead th {\n",
       "        text-align: right;\n",
       "    }\n",
       "</style>\n",
       "<table border=\"1\" class=\"dataframe\">\n",
       "  <thead>\n",
       "    <tr style=\"text-align: right;\">\n",
       "      <th></th>\n",
       "      <th>dt</th>\n",
       "      <th>temp</th>\n",
       "      <th>feels_like</th>\n",
       "      <th>pressure</th>\n",
       "      <th>humidity</th>\n",
       "      <th>dew_point</th>\n",
       "      <th>uvi</th>\n",
       "      <th>clouds</th>\n",
       "      <th>visibility</th>\n",
       "      <th>wind_speed</th>\n",
       "      <th>wind_deg</th>\n",
       "      <th>wind_gust</th>\n",
       "      <th>weather</th>\n",
       "      <th>pop</th>\n",
       "      <th>rain</th>\n",
       "    </tr>\n",
       "  </thead>\n",
       "  <tbody>\n",
       "    <tr>\n",
       "      <th>0</th>\n",
       "      <td>1633392000</td>\n",
       "      <td>29.32</td>\n",
       "      <td>33.64</td>\n",
       "      <td>1012</td>\n",
       "      <td>71</td>\n",
       "      <td>23.51</td>\n",
       "      <td>0.92</td>\n",
       "      <td>9</td>\n",
       "      <td>10000</td>\n",
       "      <td>8.47</td>\n",
       "      <td>67</td>\n",
       "      <td>11.04</td>\n",
       "      <td>[{'id': 800, 'main': 'Clear', 'description': '...</td>\n",
       "      <td>0.08</td>\n",
       "      <td>NaN</td>\n",
       "    </tr>\n",
       "    <tr>\n",
       "      <th>1</th>\n",
       "      <td>1633395600</td>\n",
       "      <td>29.60</td>\n",
       "      <td>34.08</td>\n",
       "      <td>1012</td>\n",
       "      <td>70</td>\n",
       "      <td>23.55</td>\n",
       "      <td>2.70</td>\n",
       "      <td>3</td>\n",
       "      <td>10000</td>\n",
       "      <td>8.68</td>\n",
       "      <td>67</td>\n",
       "      <td>10.93</td>\n",
       "      <td>[{'id': 800, 'main': 'Clear', 'description': '...</td>\n",
       "      <td>0.00</td>\n",
       "      <td>NaN</td>\n",
       "    </tr>\n",
       "    <tr>\n",
       "      <th>2</th>\n",
       "      <td>1633399200</td>\n",
       "      <td>29.45</td>\n",
       "      <td>33.53</td>\n",
       "      <td>1012</td>\n",
       "      <td>69</td>\n",
       "      <td>23.16</td>\n",
       "      <td>5.21</td>\n",
       "      <td>3</td>\n",
       "      <td>10000</td>\n",
       "      <td>8.85</td>\n",
       "      <td>71</td>\n",
       "      <td>10.32</td>\n",
       "      <td>[{'id': 800, 'main': 'Clear', 'description': '...</td>\n",
       "      <td>0.03</td>\n",
       "      <td>NaN</td>\n",
       "    </tr>\n",
       "    <tr>\n",
       "      <th>3</th>\n",
       "      <td>1633402800</td>\n",
       "      <td>29.38</td>\n",
       "      <td>33.37</td>\n",
       "      <td>1012</td>\n",
       "      <td>69</td>\n",
       "      <td>23.10</td>\n",
       "      <td>7.64</td>\n",
       "      <td>5</td>\n",
       "      <td>10000</td>\n",
       "      <td>8.78</td>\n",
       "      <td>73</td>\n",
       "      <td>10.13</td>\n",
       "      <td>[{'id': 800, 'main': 'Clear', 'description': '...</td>\n",
       "      <td>0.05</td>\n",
       "      <td>NaN</td>\n",
       "    </tr>\n",
       "    <tr>\n",
       "      <th>4</th>\n",
       "      <td>1633406400</td>\n",
       "      <td>29.37</td>\n",
       "      <td>33.15</td>\n",
       "      <td>1013</td>\n",
       "      <td>68</td>\n",
       "      <td>22.85</td>\n",
       "      <td>9.11</td>\n",
       "      <td>11</td>\n",
       "      <td>10000</td>\n",
       "      <td>8.39</td>\n",
       "      <td>75</td>\n",
       "      <td>9.75</td>\n",
       "      <td>[{'id': 801, 'main': 'Clouds', 'description': ...</td>\n",
       "      <td>0.05</td>\n",
       "      <td>NaN</td>\n",
       "    </tr>\n",
       "  </tbody>\n",
       "</table>\n",
       "</div>"
      ],
      "text/plain": [
       "           dt   temp  feels_like  pressure  humidity  dew_point   uvi  clouds  \\\n",
       "0  1633392000  29.32       33.64      1012        71      23.51  0.92       9   \n",
       "1  1633395600  29.60       34.08      1012        70      23.55  2.70       3   \n",
       "2  1633399200  29.45       33.53      1012        69      23.16  5.21       3   \n",
       "3  1633402800  29.38       33.37      1012        69      23.10  7.64       5   \n",
       "4  1633406400  29.37       33.15      1013        68      22.85  9.11      11   \n",
       "\n",
       "   visibility  wind_speed  wind_deg  wind_gust  \\\n",
       "0       10000        8.47        67      11.04   \n",
       "1       10000        8.68        67      10.93   \n",
       "2       10000        8.85        71      10.32   \n",
       "3       10000        8.78        73      10.13   \n",
       "4       10000        8.39        75       9.75   \n",
       "\n",
       "                                             weather   pop rain  \n",
       "0  [{'id': 800, 'main': 'Clear', 'description': '...  0.08  NaN  \n",
       "1  [{'id': 800, 'main': 'Clear', 'description': '...  0.00  NaN  \n",
       "2  [{'id': 800, 'main': 'Clear', 'description': '...  0.03  NaN  \n",
       "3  [{'id': 800, 'main': 'Clear', 'description': '...  0.05  NaN  \n",
       "4  [{'id': 801, 'main': 'Clouds', 'description': ...  0.05  NaN  "
      ]
     },
     "execution_count": 10,
     "metadata": {},
     "output_type": "execute_result"
    }
   ],
   "source": [
    "df_hourly.head()"
   ]
  },
  {
   "cell_type": "code",
   "execution_count": null,
   "metadata": {},
   "outputs": [],
   "source": []
  }
 ],
 "metadata": {
  "interpreter": {
   "hash": "c1b4cfe941b6d2466ad1fb5979e97da9cda8801728c8091b097ab734208fc00c"
  },
  "kernelspec": {
   "display_name": "Python 3.8.3 64-bit ('base': conda)",
   "name": "python3"
  },
  "language_info": {
   "codemirror_mode": {
    "name": "ipython",
    "version": 3
   },
   "file_extension": ".py",
   "mimetype": "text/x-python",
   "name": "python",
   "nbconvert_exporter": "python",
   "pygments_lexer": "ipython3",
   "version": "3.8.12"
  }
 },
 "nbformat": 4,
 "nbformat_minor": 2
}
