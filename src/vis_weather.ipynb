{
 "cells": [
  {
   "cell_type": "code",
   "execution_count": 1,
   "metadata": {
    "execution": {
     "iopub.execute_input": "2021-10-15T20:12:33.442000Z",
     "iopub.status.busy": "2021-10-15T20:12:33.441439Z",
     "iopub.status.idle": "2021-10-15T20:12:36.801616Z",
     "shell.execute_reply": "2021-10-15T20:12:36.801025Z"
    }
   },
   "outputs": [],
   "source": [
    "import json, yaml, requests\r\n",
    "from datetime import datetime\r\n",
    "from dateutil import tz\r\n",
    "import pandas as pd\r\n",
    "from PIL import Image\r\n",
    "from io import BytesIO\r\n",
    "import matplotlib.pyplot as plt\r\n",
    "import seaborn\r\n",
    "\r\n",
    "CONFIG_PATH = \"../config/config.yaml\""
   ]
  },
  {
   "cell_type": "code",
   "execution_count": 2,
   "metadata": {
    "execution": {
     "iopub.execute_input": "2021-10-15T20:12:36.809157Z",
     "iopub.status.busy": "2021-10-15T20:12:36.806352Z",
     "iopub.status.idle": "2021-10-15T20:12:36.811256Z",
     "shell.execute_reply": "2021-10-15T20:12:36.811576Z"
    }
   },
   "outputs": [],
   "source": [
    "with open('../newest_ts', 'r') as f:\r\n",
    "    newest_ts = f.read()\r\n",
    "\r\n",
    "data_path = f\"../data/data_{newest_ts}.json\"\r\n",
    "with open(data_path, 'r') as f:\r\n",
    "    data = json.load(f)\r\n",
    "\r\n",
    "with open(CONFIG_PATH, \"r\") as stream:\r\n",
    "    config = yaml.safe_load(stream)\r\n",
    "\r\n",
    "TIME_ZONE = config['time_zone']\r\n",
    "DATETIME_FORMAT = config['dt_format']"
   ]
  },
  {
   "cell_type": "code",
   "execution_count": 3,
   "metadata": {
    "execution": {
     "iopub.execute_input": "2021-10-15T20:12:36.815748Z",
     "iopub.status.busy": "2021-10-15T20:12:36.815310Z",
     "iopub.status.idle": "2021-10-15T20:12:36.820074Z",
     "shell.execute_reply": "2021-10-15T20:12:36.820472Z"
    }
   },
   "outputs": [
    {
     "name": "stdout",
     "output_type": "stream",
     "text": [
      "Recent query happens at 2021-10-16 04:12:30 (CST).\n"
     ]
    }
   ],
   "source": [
    "def ts2dt(ts, format=DATETIME_FORMAT):\r\n",
    "    dt = (datetime.utcfromtimestamp(int(ts))\r\n",
    "                    .replace(tzinfo=tz.tzutc())\r\n",
    "                    # .astimezone(tz.tzlocal())\r\n",
    "                    .astimezone(tz.gettz(TIME_ZONE)))\r\n",
    "    return dt.strftime(format), dt\r\n",
    "\r\n",
    "_, newest_dt = ts2dt(newest_ts)\r\n",
    "print(f\"Recent query happens at {newest_dt.strftime(DATETIME_FORMAT)} ({newest_dt.tzname()}).\")"
   ]
  },
  {
   "cell_type": "code",
   "execution_count": 4,
   "metadata": {
    "execution": {
     "iopub.execute_input": "2021-10-15T20:12:36.824264Z",
     "iopub.status.busy": "2021-10-15T20:12:36.822328Z",
     "iopub.status.idle": "2021-10-15T20:12:36.825804Z",
     "shell.execute_reply": "2021-10-15T20:12:36.826157Z"
    }
   },
   "outputs": [],
   "source": [
    "def degrees_to_cardinal(d):\r\n",
    "  dirs = ['N', 'NNE', 'NE', 'ENE', 'E', 'ESE', 'SE', 'SSE', 'S', 'SSW', 'SW', 'WSW', 'W', 'WNW', 'NW', 'NNW']\r\n",
    "  ix = int(round(d / (360. / len(dirs))))\r\n",
    "  return dirs[ix % len(dirs)]"
   ]
  },
  {
   "cell_type": "code",
   "execution_count": 5,
   "metadata": {
    "execution": {
     "iopub.execute_input": "2021-10-15T20:12:36.830281Z",
     "iopub.status.busy": "2021-10-15T20:12:36.829169Z",
     "iopub.status.idle": "2021-10-15T20:12:36.830825Z",
     "shell.execute_reply": "2021-10-15T20:12:36.831221Z"
    }
   },
   "outputs": [],
   "source": [
    "# data.keys()"
   ]
  },
  {
   "cell_type": "code",
   "execution_count": 6,
   "metadata": {
    "execution": {
     "iopub.execute_input": "2021-10-15T20:12:36.834818Z",
     "iopub.status.busy": "2021-10-15T20:12:36.833809Z",
     "iopub.status.idle": "2021-10-15T20:12:36.835363Z",
     "shell.execute_reply": "2021-10-15T20:12:36.835735Z"
    }
   },
   "outputs": [],
   "source": [
    "# data['current']"
   ]
  },
  {
   "cell_type": "code",
   "execution_count": 7,
   "metadata": {
    "execution": {
     "iopub.execute_input": "2021-10-15T20:12:36.851507Z",
     "iopub.status.busy": "2021-10-15T20:12:36.850989Z",
     "iopub.status.idle": "2021-10-15T20:12:37.112771Z",
     "shell.execute_reply": "2021-10-15T20:12:37.113405Z"
    }
   },
   "outputs": [
    {
     "data": {
      "image/png": "[encoded data removed]",
      "text/plain": [
       "<Figure size 216x216 with 1 Axes>"
      ]
     },
     "metadata": {
      "needs_background": "light"
     },
     "output_type": "display_data"
    },
    {
     "name": "stdout",
     "output_type": "stream",
     "text": [
      "Today, sun rises at 06:19 and sets at 17:57.\n",
      "Currently, the weather is Clouds (broken clouds).\n",
      "The temperature is 25.83°C and it feels like 26.71°C.\n",
      "The UV index is 0, humidity is 86%.\n",
      "The pressure is 1014 hPa, percentage of cloud cover is 75%\n",
      "The wind comes from NE direction with a speed 2.68 m/s.\n"
     ]
    }
   ],
   "source": [
    "current = data['current']\r\n",
    "\r\n",
    "fig, ax = plt.subplots(figsize=(3, 3))\r\n",
    "icon = requests.get(f\"http://openweathermap.org/img/wn/{current['weather'][0]['icon']}@2x.png\")\r\n",
    "im = Image.open(BytesIO(icon.content))\r\n",
    "plt.imshow(im)\r\n",
    "ax.set_axis_off()\r\n",
    "plt.show()\r\n",
    "\r\n",
    "print(f\"Today, sun rises at {ts2dt(current['sunrise'], '%H:%M')[0]} \\\r\n",
    "and sets at {ts2dt(current['sunset'], '%H:%M')[0]}.\\n\\\r\n",
    "Currently, the weather is {current['weather'][0]['main']} ({current['weather'][0]['description']}).\\n\\\r\n",
    "The temperature is {current['temp']}°C and it feels like {current['feels_like']}°C.\\n\\\r\n",
    "The UV index is {current['uvi']}, humidity is {current['humidity']}%.\\n\\\r\n",
    "The pressure is {current['pressure']} hPa, percentage of cloud cover is {current['clouds']}%\\n\\\r\n",
    "The wind comes from {degrees_to_cardinal(current['wind_deg'])} direction with a speed {current['wind_speed']} m/s.\")"
   ]
  },
  {
   "cell_type": "code",
   "execution_count": 8,
   "metadata": {
    "execution": {
     "iopub.execute_input": "2021-10-15T20:12:37.119806Z",
     "iopub.status.busy": "2021-10-15T20:12:37.117640Z",
     "iopub.status.idle": "2021-10-15T20:12:37.122395Z",
     "shell.execute_reply": "2021-10-15T20:12:37.123027Z"
    }
   },
   "outputs": [],
   "source": [
    "df_hourly = pd.DataFrame(data['hourly'])\r\n",
    "df_daily = pd.DataFrame(data['daily'])"
   ]
  },
  {
   "cell_type": "code",
   "execution_count": 9,
   "metadata": {
    "execution": {
     "iopub.execute_input": "2021-10-15T20:12:37.140584Z",
     "iopub.status.busy": "2021-10-15T20:12:37.137561Z",
     "iopub.status.idle": "2021-10-15T20:12:37.349333Z",
     "shell.execute_reply": "2021-10-15T20:12:37.349963Z"
    }
   },
   "outputs": [
    {
     "data": {
      "image/png": "[encoded data removed]",
      "text/plain": [
       "<Figure size 864x432 with 1 Axes>"
      ]
     },
     "metadata": {
      "needs_background": "light"
     },
     "output_type": "display_data"
    }
   ],
   "source": [
    "fig, ax = plt.subplots(figsize=(12, 6))\r\n",
    "plt.plot(df_hourly.temp, '.-', label='Temperature')\r\n",
    "plt.plot(df_hourly.feels_like, '.-', label='Feels Like')\r\n",
    "ax.set(title='Temperature in future 48 hours', xlabel='Time', ylabel='Temperature')\r\n",
    "ax.set_xticks(list(range(0, len(df_hourly), 2)))\r\n",
    "ax.set_xticklabels([ts2dt(ts, '%m-%d %H:%M')[0] for i, ts in enumerate(df_hourly.dt) if i%2==0], \r\n",
    "                   rotation=45, ha=\"right\")\r\n",
    "ax.locator_params(nbins=15, axis='y')\r\n",
    "plt.legend()\r\n",
    "plt.show()"
   ]
  },
  {
   "cell_type": "code",
   "execution_count": 10,
   "metadata": {
    "execution": {
     "iopub.execute_input": "2021-10-15T20:12:37.354289Z",
     "iopub.status.busy": "2021-10-15T20:12:37.353727Z",
     "iopub.status.idle": "2021-10-15T20:12:37.373372Z",
     "shell.execute_reply": "2021-10-15T20:12:37.373765Z"
    }
   },
   "outputs": [
    {
     "data": {
      "text/html": [
       "<div>\n",
       "<style scoped>\n",
       "    .dataframe tbody tr th:only-of-type {\n",
       "        vertical-align: middle;\n",
       "    }\n",
       "\n",
       "    .dataframe tbody tr th {\n",
       "        vertical-align: top;\n",
       "    }\n",
       "\n",
       "    .dataframe thead th {\n",
       "        text-align: right;\n",
       "    }\n",
       "</style>\n",
       "<table border=\"1\" class=\"dataframe\">\n",
       "  <thead>\n",
       "    <tr style=\"text-align: right;\">\n",
       "      <th></th>\n",
       "      <th>dt</th>\n",
       "      <th>temp</th>\n",
       "      <th>feels_like</th>\n",
       "      <th>pressure</th>\n",
       "      <th>humidity</th>\n",
       "      <th>dew_point</th>\n",
       "      <th>uvi</th>\n",
       "      <th>clouds</th>\n",
       "      <th>visibility</th>\n",
       "      <th>wind_speed</th>\n",
       "      <th>wind_deg</th>\n",
       "      <th>wind_gust</th>\n",
       "      <th>weather</th>\n",
       "      <th>pop</th>\n",
       "      <th>rain</th>\n",
       "    </tr>\n",
       "  </thead>\n",
       "  <tbody>\n",
       "    <tr>\n",
       "      <th>0</th>\n",
       "      <td>1634328000</td>\n",
       "      <td>25.83</td>\n",
       "      <td>26.71</td>\n",
       "      <td>1014</td>\n",
       "      <td>86</td>\n",
       "      <td>23.31</td>\n",
       "      <td>0.00</td>\n",
       "      <td>75</td>\n",
       "      <td>10000</td>\n",
       "      <td>3.06</td>\n",
       "      <td>12</td>\n",
       "      <td>4.07</td>\n",
       "      <td>[{'id': 803, 'main': 'Clouds', 'description': ...</td>\n",
       "      <td>0.44</td>\n",
       "      <td>NaN</td>\n",
       "    </tr>\n",
       "    <tr>\n",
       "      <th>1</th>\n",
       "      <td>1634331600</td>\n",
       "      <td>25.41</td>\n",
       "      <td>26.28</td>\n",
       "      <td>1014</td>\n",
       "      <td>87</td>\n",
       "      <td>23.09</td>\n",
       "      <td>0.00</td>\n",
       "      <td>77</td>\n",
       "      <td>10000</td>\n",
       "      <td>3.36</td>\n",
       "      <td>2</td>\n",
       "      <td>4.60</td>\n",
       "      <td>[{'id': 803, 'main': 'Clouds', 'description': ...</td>\n",
       "      <td>0.44</td>\n",
       "      <td>NaN</td>\n",
       "    </tr>\n",
       "    <tr>\n",
       "      <th>2</th>\n",
       "      <td>1634335200</td>\n",
       "      <td>24.93</td>\n",
       "      <td>25.75</td>\n",
       "      <td>1013</td>\n",
       "      <td>87</td>\n",
       "      <td>22.62</td>\n",
       "      <td>0.00</td>\n",
       "      <td>79</td>\n",
       "      <td>10000</td>\n",
       "      <td>3.73</td>\n",
       "      <td>359</td>\n",
       "      <td>5.35</td>\n",
       "      <td>[{'id': 501, 'main': 'Rain', 'description': 'm...</td>\n",
       "      <td>0.40</td>\n",
       "      <td>{'1h': 1.78}</td>\n",
       "    </tr>\n",
       "    <tr>\n",
       "      <th>3</th>\n",
       "      <td>1634338800</td>\n",
       "      <td>24.47</td>\n",
       "      <td>25.22</td>\n",
       "      <td>1013</td>\n",
       "      <td>86</td>\n",
       "      <td>21.97</td>\n",
       "      <td>0.00</td>\n",
       "      <td>77</td>\n",
       "      <td>10000</td>\n",
       "      <td>4.02</td>\n",
       "      <td>5</td>\n",
       "      <td>6.63</td>\n",
       "      <td>[{'id': 803, 'main': 'Clouds', 'description': ...</td>\n",
       "      <td>0.40</td>\n",
       "      <td>NaN</td>\n",
       "    </tr>\n",
       "    <tr>\n",
       "      <th>4</th>\n",
       "      <td>1634342400</td>\n",
       "      <td>24.47</td>\n",
       "      <td>25.11</td>\n",
       "      <td>1014</td>\n",
       "      <td>82</td>\n",
       "      <td>21.20</td>\n",
       "      <td>0.78</td>\n",
       "      <td>72</td>\n",
       "      <td>10000</td>\n",
       "      <td>4.74</td>\n",
       "      <td>11</td>\n",
       "      <td>7.54</td>\n",
       "      <td>[{'id': 803, 'main': 'Clouds', 'description': ...</td>\n",
       "      <td>0.32</td>\n",
       "      <td>NaN</td>\n",
       "    </tr>\n",
       "  </tbody>\n",
       "</table>\n",
       "</div>"
      ],
      "text/plain": [
       "           dt   temp  feels_like  pressure  humidity  dew_point   uvi  clouds  \\\n",
       "0  1634328000  25.83       26.71      1014        86      23.31  0.00      75   \n",
       "1  1634331600  25.41       26.28      1014        87      23.09  0.00      77   \n",
       "2  1634335200  24.93       25.75      1013        87      22.62  0.00      79   \n",
       "3  1634338800  24.47       25.22      1013        86      21.97  0.00      77   \n",
       "4  1634342400  24.47       25.11      1014        82      21.20  0.78      72   \n",
       "\n",
       "   visibility  wind_speed  wind_deg  wind_gust  \\\n",
       "0       10000        3.06        12       4.07   \n",
       "1       10000        3.36         2       4.60   \n",
       "2       10000        3.73       359       5.35   \n",
       "3       10000        4.02         5       6.63   \n",
       "4       10000        4.74        11       7.54   \n",
       "\n",
       "                                             weather   pop          rain  \n",
       "0  [{'id': 803, 'main': 'Clouds', 'description': ...  0.44           NaN  \n",
       "1  [{'id': 803, 'main': 'Clouds', 'description': ...  0.44           NaN  \n",
       "2  [{'id': 501, 'main': 'Rain', 'description': 'm...  0.40  {'1h': 1.78}  \n",
       "3  [{'id': 803, 'main': 'Clouds', 'description': ...  0.40           NaN  \n",
       "4  [{'id': 803, 'main': 'Clouds', 'description': ...  0.32           NaN  "
      ]
     },
     "execution_count": 10,
     "metadata": {},
     "output_type": "execute_result"
    }
   ],
   "source": [
    "df_hourly.head()"
   ]
  },
  {
   "cell_type": "code",
   "execution_count": null,
   "metadata": {},
   "outputs": [],
   "source": []
  }
 ],
 "metadata": {
  "interpreter": {
   "hash": "c1b4cfe941b6d2466ad1fb5979e97da9cda8801728c8091b097ab734208fc00c"
  },
  "kernelspec": {
   "display_name": "Python 3.8.3 64-bit ('base': conda)",
   "name": "python3"
  },
  "language_info": {
   "codemirror_mode": {
    "name": "ipython",
    "version": 3
   },
   "file_extension": ".py",
   "mimetype": "text/x-python",
   "name": "python",
   "nbconvert_exporter": "python",
   "pygments_lexer": "ipython3",
   "version": "3.8.12"
  }
 },
 "nbformat": 4,
 "nbformat_minor": 2
}
