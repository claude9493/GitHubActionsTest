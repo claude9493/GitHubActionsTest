{
 "cells": [
  {
   "cell_type": "code",
   "execution_count": 1,
   "metadata": {
    "execution": {
     "iopub.execute_input": "2021-08-23T02:24:34.728995Z",
     "iopub.status.busy": "2021-08-23T02:24:34.723869Z",
     "iopub.status.idle": "2021-08-23T02:24:35.849412Z",
     "shell.execute_reply": "2021-08-23T02:24:35.849842Z"
    }
   },
   "outputs": [],
   "source": [
    "import json\r\n",
    "from datetime import datetime\r\n",
    "from dateutil import tz\r\n",
    "import pandas as pd\r\n",
    "import matplotlib.pyplot as plt\r\n",
    "import seaborn\r\n"
   ]
  },
  {
   "cell_type": "code",
   "execution_count": 2,
   "metadata": {
    "execution": {
     "iopub.execute_input": "2021-08-23T02:24:35.854533Z",
     "iopub.status.busy": "2021-08-23T02:24:35.853687Z",
     "iopub.status.idle": "2021-08-23T02:24:35.857224Z",
     "shell.execute_reply": "2021-08-23T02:24:35.856731Z"
    }
   },
   "outputs": [],
   "source": [
    "with open('../newest_ts', 'r') as f:\r\n",
    "    ts = f.read()\r\n",
    "\r\n",
    "data_path = f\"../data/data_{ts}.json\"\r\n",
    "with open(data_path, 'r') as f:\r\n",
    "    data = json.load(f)"
   ]
  },
  {
   "cell_type": "code",
   "execution_count": 3,
   "metadata": {
    "execution": {
     "iopub.execute_input": "2021-08-23T02:24:35.861647Z",
     "iopub.status.busy": "2021-08-23T02:24:35.861104Z",
     "iopub.status.idle": "2021-08-23T02:24:35.865772Z",
     "shell.execute_reply": "2021-08-23T02:24:35.866261Z"
    }
   },
   "outputs": [
    {
     "name": "stdout",
     "output_type": "stream",
     "text": [
      "Recent query happens at 2021-08-23 02:24:32\n"
     ]
    }
   ],
   "source": [
    "def ts2dt(ts, format='%Y-%m-%d %H:%M:%S'):\r\n",
    "    return (datetime.utcfromtimestamp(int(ts))\r\n",
    "                    .replace(tzinfo=tz.tzutc())\r\n",
    "                    .astimezone(tz.tzlocal())\r\n",
    "                    .strftime(format))\r\n",
    "\r\n",
    "print(f\"Recent query happens at {ts2dt(ts)}\")"
   ]
  },
  {
   "cell_type": "code",
   "execution_count": 4,
   "metadata": {
    "execution": {
     "iopub.execute_input": "2021-08-23T02:24:35.871993Z",
     "iopub.status.busy": "2021-08-23T02:24:35.871525Z",
     "iopub.status.idle": "2021-08-23T02:24:35.876479Z",
     "shell.execute_reply": "2021-08-23T02:24:35.876014Z"
    }
   },
   "outputs": [
    {
     "data": {
      "text/plain": [
       "dict_keys(['lat', 'lon', 'timezone', 'timezone_offset', 'current', 'hourly', 'daily'])"
      ]
     },
     "execution_count": 4,
     "metadata": {},
     "output_type": "execute_result"
    }
   ],
   "source": [
    "data.keys()"
   ]
  },
  {
   "cell_type": "code",
   "execution_count": 5,
   "metadata": {
    "execution": {
     "iopub.execute_input": "2021-08-23T02:24:35.881322Z",
     "iopub.status.busy": "2021-08-23T02:24:35.880854Z",
     "iopub.status.idle": "2021-08-23T02:24:35.885788Z",
     "shell.execute_reply": "2021-08-23T02:24:35.885354Z"
    }
   },
   "outputs": [
    {
     "data": {
      "text/plain": [
       "{'dt': 1629685472,\n",
       " 'sunrise': 1629669780,\n",
       " 'sunset': 1629715720,\n",
       " 'temp': 31.22,\n",
       " 'feels_like': 38.22,\n",
       " 'pressure': 1008,\n",
       " 'humidity': 77,\n",
       " 'dew_point': 26.7,\n",
       " 'uvi': 7.5,\n",
       " 'clouds': 27,\n",
       " 'visibility': 10000,\n",
       " 'wind_speed': 3.2,\n",
       " 'wind_deg': 222,\n",
       " 'wind_gust': 4.15,\n",
       " 'weather': [{'id': 802,\n",
       "   'main': 'Clouds',\n",
       "   'description': 'scattered clouds',\n",
       "   'icon': '03d'}]}"
      ]
     },
     "execution_count": 5,
     "metadata": {},
     "output_type": "execute_result"
    }
   ],
   "source": [
    "data['current']"
   ]
  },
  {
   "cell_type": "code",
   "execution_count": 6,
   "metadata": {
    "execution": {
     "iopub.execute_input": "2021-08-23T02:24:35.890367Z",
     "iopub.status.busy": "2021-08-23T02:24:35.889781Z",
     "iopub.status.idle": "2021-08-23T02:24:35.893128Z",
     "shell.execute_reply": "2021-08-23T02:24:35.892743Z"
    }
   },
   "outputs": [
    {
     "data": {
      "text/plain": [
       "{'dt': 1629684000,\n",
       " 'temp': 31.22,\n",
       " 'feels_like': 38.22,\n",
       " 'pressure': 1008,\n",
       " 'humidity': 77,\n",
       " 'dew_point': 26.7,\n",
       " 'uvi': 7.5,\n",
       " 'clouds': 27,\n",
       " 'visibility': 10000,\n",
       " 'wind_speed': 3.2,\n",
       " 'wind_deg': 222,\n",
       " 'wind_gust': 4.15,\n",
       " 'weather': [{'id': 802,\n",
       "   'main': 'Clouds',\n",
       "   'description': 'scattered clouds',\n",
       "   'icon': '03d'}],\n",
       " 'pop': 0.54}"
      ]
     },
     "execution_count": 6,
     "metadata": {},
     "output_type": "execute_result"
    }
   ],
   "source": [
    "data['hourly'][0]"
   ]
  },
  {
   "cell_type": "code",
   "execution_count": 7,
   "metadata": {
    "execution": {
     "iopub.execute_input": "2021-08-23T02:24:35.899604Z",
     "iopub.status.busy": "2021-08-23T02:24:35.897526Z",
     "iopub.status.idle": "2021-08-23T02:24:35.902218Z",
     "shell.execute_reply": "2021-08-23T02:24:35.902607Z"
    }
   },
   "outputs": [],
   "source": [
    "df_hourly = pd.DataFrame(data['hourly'])\r\n",
    "df_daily = pd.DataFrame(data['daily'])"
   ]
  },
  {
   "cell_type": "code",
   "execution_count": 8,
   "metadata": {
    "execution": {
     "iopub.execute_input": "2021-08-23T02:24:35.913502Z",
     "iopub.status.busy": "2021-08-23T02:24:35.906118Z",
     "iopub.status.idle": "2021-08-23T02:24:35.924181Z",
     "shell.execute_reply": "2021-08-23T02:24:35.924635Z"
    }
   },
   "outputs": [
    {
     "data": {
      "text/html": [
       "<div>\n",
       "<style scoped>\n",
       "    .dataframe tbody tr th:only-of-type {\n",
       "        vertical-align: middle;\n",
       "    }\n",
       "\n",
       "    .dataframe tbody tr th {\n",
       "        vertical-align: top;\n",
       "    }\n",
       "\n",
       "    .dataframe thead th {\n",
       "        text-align: right;\n",
       "    }\n",
       "</style>\n",
       "<table border=\"1\" class=\"dataframe\">\n",
       "  <thead>\n",
       "    <tr style=\"text-align: right;\">\n",
       "      <th></th>\n",
       "      <th>dt</th>\n",
       "      <th>temp</th>\n",
       "      <th>feels_like</th>\n",
       "      <th>pressure</th>\n",
       "      <th>humidity</th>\n",
       "      <th>dew_point</th>\n",
       "      <th>uvi</th>\n",
       "      <th>clouds</th>\n",
       "      <th>visibility</th>\n",
       "      <th>wind_speed</th>\n",
       "      <th>wind_deg</th>\n",
       "      <th>wind_gust</th>\n",
       "      <th>weather</th>\n",
       "      <th>pop</th>\n",
       "      <th>rain</th>\n",
       "    </tr>\n",
       "  </thead>\n",
       "  <tbody>\n",
       "    <tr>\n",
       "      <th>0</th>\n",
       "      <td>1629684000</td>\n",
       "      <td>31.22</td>\n",
       "      <td>38.22</td>\n",
       "      <td>1008</td>\n",
       "      <td>77</td>\n",
       "      <td>26.70</td>\n",
       "      <td>7.50</td>\n",
       "      <td>27</td>\n",
       "      <td>10000</td>\n",
       "      <td>3.20</td>\n",
       "      <td>222</td>\n",
       "      <td>4.15</td>\n",
       "      <td>[{'id': 802, 'main': 'Clouds', 'description': ...</td>\n",
       "      <td>0.54</td>\n",
       "      <td>NaN</td>\n",
       "    </tr>\n",
       "    <tr>\n",
       "      <th>1</th>\n",
       "      <td>1629687600</td>\n",
       "      <td>31.03</td>\n",
       "      <td>38.03</td>\n",
       "      <td>1008</td>\n",
       "      <td>75</td>\n",
       "      <td>26.07</td>\n",
       "      <td>10.47</td>\n",
       "      <td>27</td>\n",
       "      <td>10000</td>\n",
       "      <td>3.79</td>\n",
       "      <td>218</td>\n",
       "      <td>4.50</td>\n",
       "      <td>[{'id': 802, 'main': 'Clouds', 'description': ...</td>\n",
       "      <td>0.50</td>\n",
       "      <td>NaN</td>\n",
       "    </tr>\n",
       "    <tr>\n",
       "      <th>2</th>\n",
       "      <td>1629691200</td>\n",
       "      <td>30.94</td>\n",
       "      <td>37.94</td>\n",
       "      <td>1008</td>\n",
       "      <td>73</td>\n",
       "      <td>25.53</td>\n",
       "      <td>12.06</td>\n",
       "      <td>27</td>\n",
       "      <td>10000</td>\n",
       "      <td>4.66</td>\n",
       "      <td>219</td>\n",
       "      <td>4.81</td>\n",
       "      <td>[{'id': 802, 'main': 'Clouds', 'description': ...</td>\n",
       "      <td>0.49</td>\n",
       "      <td>NaN</td>\n",
       "    </tr>\n",
       "    <tr>\n",
       "      <th>3</th>\n",
       "      <td>1629694800</td>\n",
       "      <td>30.79</td>\n",
       "      <td>37.63</td>\n",
       "      <td>1007</td>\n",
       "      <td>72</td>\n",
       "      <td>25.15</td>\n",
       "      <td>11.88</td>\n",
       "      <td>35</td>\n",
       "      <td>10000</td>\n",
       "      <td>4.48</td>\n",
       "      <td>219</td>\n",
       "      <td>4.48</td>\n",
       "      <td>[{'id': 500, 'main': 'Rain', 'description': 'l...</td>\n",
       "      <td>0.41</td>\n",
       "      <td>{'1h': 0.21}</td>\n",
       "    </tr>\n",
       "    <tr>\n",
       "      <th>4</th>\n",
       "      <td>1629698400</td>\n",
       "      <td>30.61</td>\n",
       "      <td>36.29</td>\n",
       "      <td>1007</td>\n",
       "      <td>69</td>\n",
       "      <td>24.27</td>\n",
       "      <td>9.88</td>\n",
       "      <td>46</td>\n",
       "      <td>10000</td>\n",
       "      <td>4.33</td>\n",
       "      <td>207</td>\n",
       "      <td>4.33</td>\n",
       "      <td>[{'id': 500, 'main': 'Rain', 'description': 'l...</td>\n",
       "      <td>0.46</td>\n",
       "      <td>{'1h': 0.27}</td>\n",
       "    </tr>\n",
       "  </tbody>\n",
       "</table>\n",
       "</div>"
      ],
      "text/plain": [
       "           dt   temp  feels_like  pressure  humidity  dew_point    uvi  \\\n",
       "0  1629684000  31.22       38.22      1008        77      26.70   7.50   \n",
       "1  1629687600  31.03       38.03      1008        75      26.07  10.47   \n",
       "2  1629691200  30.94       37.94      1008        73      25.53  12.06   \n",
       "3  1629694800  30.79       37.63      1007        72      25.15  11.88   \n",
       "4  1629698400  30.61       36.29      1007        69      24.27   9.88   \n",
       "\n",
       "   clouds  visibility  wind_speed  wind_deg  wind_gust  \\\n",
       "0      27       10000        3.20       222       4.15   \n",
       "1      27       10000        3.79       218       4.50   \n",
       "2      27       10000        4.66       219       4.81   \n",
       "3      35       10000        4.48       219       4.48   \n",
       "4      46       10000        4.33       207       4.33   \n",
       "\n",
       "                                             weather   pop          rain  \n",
       "0  [{'id': 802, 'main': 'Clouds', 'description': ...  0.54           NaN  \n",
       "1  [{'id': 802, 'main': 'Clouds', 'description': ...  0.50           NaN  \n",
       "2  [{'id': 802, 'main': 'Clouds', 'description': ...  0.49           NaN  \n",
       "3  [{'id': 500, 'main': 'Rain', 'description': 'l...  0.41  {'1h': 0.21}  \n",
       "4  [{'id': 500, 'main': 'Rain', 'description': 'l...  0.46  {'1h': 0.27}  "
      ]
     },
     "execution_count": 8,
     "metadata": {},
     "output_type": "execute_result"
    }
   ],
   "source": [
    "df_hourly.head()"
   ]
  },
  {
   "cell_type": "code",
   "execution_count": 9,
   "metadata": {
    "execution": {
     "iopub.execute_input": "2021-08-23T02:24:35.944179Z",
     "iopub.status.busy": "2021-08-23T02:24:35.943653Z",
     "iopub.status.idle": "2021-08-23T02:24:36.217683Z",
     "shell.execute_reply": "2021-08-23T02:24:36.217204Z"
    }
   },
   "outputs": [
    {
     "data": {
      "image/png": "[encoded data removed]",
      "text/plain": [
       "<Figure size 864x432 with 1 Axes>"
      ]
     },
     "metadata": {
      "needs_background": "light"
     },
     "output_type": "display_data"
    }
   ],
   "source": [
    "fig, ax = plt.subplots(figsize=(12, 6))\r\n",
    "plt.plot(df_hourly.temp, '.-')\r\n",
    "ax.set(title='Temperature in future 48 hours', xlabel='Time', ylabel='Temperature')\r\n",
    "ax.set_xticks(list(range(0, len(df_hourly), 2)))\r\n",
    "ax.set_xticklabels([ts2dt(ts, '%m-%d %H:%M') for i, ts in enumerate(df_hourly.dt) if i%2==0], \r\n",
    "                   rotation=45, ha=\"right\")\r\n",
    "plt.show()"
   ]
  },
  {
   "cell_type": "code",
   "execution_count": null,
   "metadata": {},
   "outputs": [],
   "source": []
  }
 ],
 "metadata": {
  "interpreter": {
   "hash": "c1b4cfe941b6d2466ad1fb5979e97da9cda8801728c8091b097ab734208fc00c"
  },
  "kernelspec": {
   "display_name": "Python 3.8.3 64-bit ('base': conda)",
   "name": "python3"
  },
  "language_info": {
   "codemirror_mode": {
    "name": "ipython",
    "version": 3
   },
   "file_extension": ".py",
   "mimetype": "text/x-python",
   "name": "python",
   "nbconvert_exporter": "python",
   "pygments_lexer": "ipython3",
   "version": "3.8.11"
  }
 },
 "nbformat": 4,
 "nbformat_minor": 2
}
