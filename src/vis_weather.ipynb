{
 "cells": [
  {
   "cell_type": "code",
   "execution_count": 1,
   "metadata": {
    "execution": {
     "iopub.execute_input": "2021-09-28T06:13:54.140774Z",
     "iopub.status.busy": "2021-09-28T06:13:54.140054Z",
     "iopub.status.idle": "2021-09-28T06:13:55.534835Z",
     "shell.execute_reply": "2021-09-28T06:13:55.534124Z"
    }
   },
   "outputs": [],
   "source": [
    "import json, yaml, requests\r\n",
    "from datetime import datetime\r\n",
    "from dateutil import tz\r\n",
    "import pandas as pd\r\n",
    "from PIL import Image\r\n",
    "from io import BytesIO\r\n",
    "import matplotlib.pyplot as plt\r\n",
    "import seaborn\r\n",
    "\r\n",
    "CONFIG_PATH = \"../config/config.yaml\""
   ]
  },
  {
   "cell_type": "code",
   "execution_count": 2,
   "metadata": {
    "execution": {
     "iopub.execute_input": "2021-09-28T06:13:55.540181Z",
     "iopub.status.busy": "2021-09-28T06:13:55.539649Z",
     "iopub.status.idle": "2021-09-28T06:13:55.547050Z",
     "shell.execute_reply": "2021-09-28T06:13:55.546511Z"
    }
   },
   "outputs": [],
   "source": [
    "with open('../newest_ts', 'r') as f:\r\n",
    "    newest_ts = f.read()\r\n",
    "\r\n",
    "data_path = f\"../data/data_{newest_ts}.json\"\r\n",
    "with open(data_path, 'r') as f:\r\n",
    "    data = json.load(f)\r\n",
    "\r\n",
    "with open(CONFIG_PATH, \"r\") as stream:\r\n",
    "    config = yaml.safe_load(stream)\r\n",
    "\r\n",
    "TIME_ZONE = config['time_zone']\r\n",
    "DATETIME_FORMAT = config['dt_format']"
   ]
  },
  {
   "cell_type": "code",
   "execution_count": 3,
   "metadata": {
    "execution": {
     "iopub.execute_input": "2021-09-28T06:13:55.553446Z",
     "iopub.status.busy": "2021-09-28T06:13:55.551776Z",
     "iopub.status.idle": "2021-09-28T06:13:55.558262Z",
     "shell.execute_reply": "2021-09-28T06:13:55.558975Z"
    }
   },
   "outputs": [
    {
     "name": "stdout",
     "output_type": "stream",
     "text": [
      "Recent query happens at 2021-09-28 14:13:51 (CST).\n"
     ]
    }
   ],
   "source": [
    "def ts2dt(ts, format=DATETIME_FORMAT):\r\n",
    "    dt = (datetime.utcfromtimestamp(int(ts))\r\n",
    "                    .replace(tzinfo=tz.tzutc())\r\n",
    "                    # .astimezone(tz.tzlocal())\r\n",
    "                    .astimezone(tz.gettz(TIME_ZONE)))\r\n",
    "    return dt.strftime(format), dt\r\n",
    "\r\n",
    "_, newest_dt = ts2dt(newest_ts)\r\n",
    "print(f\"Recent query happens at {newest_dt.strftime(DATETIME_FORMAT)} ({newest_dt.tzname()}).\")"
   ]
  },
  {
   "cell_type": "code",
   "execution_count": 4,
   "metadata": {
    "execution": {
     "iopub.execute_input": "2021-09-28T06:13:55.563911Z",
     "iopub.status.busy": "2021-09-28T06:13:55.563355Z",
     "iopub.status.idle": "2021-09-28T06:13:55.566914Z",
     "shell.execute_reply": "2021-09-28T06:13:55.567809Z"
    }
   },
   "outputs": [],
   "source": [
    "def degrees_to_cardinal(d):\r\n",
    "  dirs = ['N', 'NNE', 'NE', 'ENE', 'E', 'ESE', 'SE', 'SSE', 'S', 'SSW', 'SW', 'WSW', 'W', 'WNW', 'NW', 'NNW']\r\n",
    "  ix = int(round(d / (360. / len(dirs))))\r\n",
    "  return dirs[ix % len(dirs)]"
   ]
  },
  {
   "cell_type": "code",
   "execution_count": 5,
   "metadata": {
    "execution": {
     "iopub.execute_input": "2021-09-28T06:13:55.571707Z",
     "iopub.status.busy": "2021-09-28T06:13:55.571159Z",
     "iopub.status.idle": "2021-09-28T06:13:55.575022Z",
     "shell.execute_reply": "2021-09-28T06:13:55.574541Z"
    }
   },
   "outputs": [],
   "source": [
    "# data.keys()"
   ]
  },
  {
   "cell_type": "code",
   "execution_count": 6,
   "metadata": {
    "execution": {
     "iopub.execute_input": "2021-09-28T06:13:55.578673Z",
     "iopub.status.busy": "2021-09-28T06:13:55.578152Z",
     "iopub.status.idle": "2021-09-28T06:13:55.581285Z",
     "shell.execute_reply": "2021-09-28T06:13:55.581740Z"
    }
   },
   "outputs": [],
   "source": [
    "# data['current']"
   ]
  },
  {
   "cell_type": "code",
   "execution_count": 7,
   "metadata": {
    "execution": {
     "iopub.execute_input": "2021-09-28T06:13:55.589854Z",
     "iopub.status.busy": "2021-09-28T06:13:55.588987Z",
     "iopub.status.idle": "2021-09-28T06:13:56.170935Z",
     "shell.execute_reply": "2021-09-28T06:13:56.172392Z"
    }
   },
   "outputs": [
    {
     "data": {
      "image/png": "[encoded data removed]",
      "text/plain": [
       "<Figure size 216x216 with 1 Axes>"
      ]
     },
     "metadata": {
      "needs_background": "light"
     },
     "output_type": "display_data"
    },
    {
     "name": "stdout",
     "output_type": "stream",
     "text": [
      "Today, sun rises at 06:13 and sets at 18:13.\n",
      "Currently, the weather is Clouds (few clouds).\n",
      "The temperature is 32.33°C and it feels like 39.33°C.\n",
      "The UV index is 7.59, humidity is 71%.\n",
      "The pressure is 1007 hPa, percentage of cloud cover is 22%\n",
      "The wind comes from W direction with a speed 0.89 m/s.\n"
     ]
    }
   ],
   "source": [
    "current = data['current']\r\n",
    "\r\n",
    "fig, ax = plt.subplots(figsize=(3, 3))\r\n",
    "icon = requests.get(f\"http://openweathermap.org/img/wn/{current['weather'][0]['icon']}@2x.png\")\r\n",
    "im = Image.open(BytesIO(icon.content))\r\n",
    "plt.imshow(im)\r\n",
    "ax.set_axis_off()\r\n",
    "plt.show()\r\n",
    "\r\n",
    "print(f\"Today, sun rises at {ts2dt(current['sunrise'], '%H:%M')[0]} \\\r\n",
    "and sets at {ts2dt(current['sunset'], '%H:%M')[0]}.\\n\\\r\n",
    "Currently, the weather is {current['weather'][0]['main']} ({current['weather'][0]['description']}).\\n\\\r\n",
    "The temperature is {current['temp']}°C and it feels like {current['feels_like']}°C.\\n\\\r\n",
    "The UV index is {current['uvi']}, humidity is {current['humidity']}%.\\n\\\r\n",
    "The pressure is {current['pressure']} hPa, percentage of cloud cover is {current['clouds']}%\\n\\\r\n",
    "The wind comes from {degrees_to_cardinal(current['wind_deg'])} direction with a speed {current['wind_speed']} m/s.\")"
   ]
  },
  {
   "cell_type": "code",
   "execution_count": 8,
   "metadata": {
    "execution": {
     "iopub.execute_input": "2021-09-28T06:13:56.180442Z",
     "iopub.status.busy": "2021-09-28T06:13:56.179785Z",
     "iopub.status.idle": "2021-09-28T06:13:56.183913Z",
     "shell.execute_reply": "2021-09-28T06:13:56.184646Z"
    }
   },
   "outputs": [],
   "source": [
    "df_hourly = pd.DataFrame(data['hourly'])\r\n",
    "df_daily = pd.DataFrame(data['daily'])"
   ]
  },
  {
   "cell_type": "code",
   "execution_count": 9,
   "metadata": {
    "execution": {
     "iopub.execute_input": "2021-09-28T06:13:56.216661Z",
     "iopub.status.busy": "2021-09-28T06:13:56.209511Z",
     "iopub.status.idle": "2021-09-28T06:13:56.535978Z",
     "shell.execute_reply": "2021-09-28T06:13:56.536634Z"
    }
   },
   "outputs": [
    {
     "data": {
      "image/png": "[encoded data removed]",
      "text/plain": [
       "<Figure size 864x432 with 1 Axes>"
      ]
     },
     "metadata": {
      "needs_background": "light"
     },
     "output_type": "display_data"
    }
   ],
   "source": [
    "fig, ax = plt.subplots(figsize=(12, 6))\r\n",
    "plt.plot(df_hourly.temp, '.-', label='Temperature')\r\n",
    "plt.plot(df_hourly.feels_like, '.-', label='Feels Like')\r\n",
    "ax.set(title='Temperature in future 48 hours', xlabel='Time', ylabel='Temperature')\r\n",
    "ax.set_xticks(list(range(0, len(df_hourly), 2)))\r\n",
    "ax.set_xticklabels([ts2dt(ts, '%m-%d %H:%M')[0] for i, ts in enumerate(df_hourly.dt) if i%2==0], \r\n",
    "                   rotation=45, ha=\"right\")\r\n",
    "ax.locator_params(nbins=15, axis='y')\r\n",
    "plt.legend()\r\n",
    "plt.show()"
   ]
  },
  {
   "cell_type": "code",
   "execution_count": 10,
   "metadata": {
    "execution": {
     "iopub.execute_input": "2021-09-28T06:13:56.541752Z",
     "iopub.status.busy": "2021-09-28T06:13:56.541203Z",
     "iopub.status.idle": "2021-09-28T06:13:56.562967Z",
     "shell.execute_reply": "2021-09-28T06:13:56.563386Z"
    }
   },
   "outputs": [
    {
     "data": {
      "text/html": [
       "<div>\n",
       "<style scoped>\n",
       "    .dataframe tbody tr th:only-of-type {\n",
       "        vertical-align: middle;\n",
       "    }\n",
       "\n",
       "    .dataframe tbody tr th {\n",
       "        vertical-align: top;\n",
       "    }\n",
       "\n",
       "    .dataframe thead th {\n",
       "        text-align: right;\n",
       "    }\n",
       "</style>\n",
       "<table border=\"1\" class=\"dataframe\">\n",
       "  <thead>\n",
       "    <tr style=\"text-align: right;\">\n",
       "      <th></th>\n",
       "      <th>dt</th>\n",
       "      <th>temp</th>\n",
       "      <th>feels_like</th>\n",
       "      <th>pressure</th>\n",
       "      <th>humidity</th>\n",
       "      <th>dew_point</th>\n",
       "      <th>uvi</th>\n",
       "      <th>clouds</th>\n",
       "      <th>visibility</th>\n",
       "      <th>wind_speed</th>\n",
       "      <th>wind_deg</th>\n",
       "      <th>wind_gust</th>\n",
       "      <th>weather</th>\n",
       "      <th>pop</th>\n",
       "      <th>rain</th>\n",
       "    </tr>\n",
       "  </thead>\n",
       "  <tbody>\n",
       "    <tr>\n",
       "      <th>0</th>\n",
       "      <td>1632808800</td>\n",
       "      <td>32.33</td>\n",
       "      <td>39.33</td>\n",
       "      <td>1007</td>\n",
       "      <td>71</td>\n",
       "      <td>26.39</td>\n",
       "      <td>7.59</td>\n",
       "      <td>22</td>\n",
       "      <td>10000</td>\n",
       "      <td>2.74</td>\n",
       "      <td>142</td>\n",
       "      <td>2.46</td>\n",
       "      <td>[{'id': 801, 'main': 'Clouds', 'description': ...</td>\n",
       "      <td>0.03</td>\n",
       "      <td>NaN</td>\n",
       "    </tr>\n",
       "    <tr>\n",
       "      <th>1</th>\n",
       "      <td>1632812400</td>\n",
       "      <td>31.84</td>\n",
       "      <td>38.84</td>\n",
       "      <td>1007</td>\n",
       "      <td>70</td>\n",
       "      <td>25.68</td>\n",
       "      <td>4.98</td>\n",
       "      <td>20</td>\n",
       "      <td>10000</td>\n",
       "      <td>2.71</td>\n",
       "      <td>151</td>\n",
       "      <td>2.16</td>\n",
       "      <td>[{'id': 801, 'main': 'Clouds', 'description': ...</td>\n",
       "      <td>0.00</td>\n",
       "      <td>NaN</td>\n",
       "    </tr>\n",
       "    <tr>\n",
       "      <th>2</th>\n",
       "      <td>1632816000</td>\n",
       "      <td>31.17</td>\n",
       "      <td>38.06</td>\n",
       "      <td>1007</td>\n",
       "      <td>70</td>\n",
       "      <td>25.05</td>\n",
       "      <td>2.45</td>\n",
       "      <td>20</td>\n",
       "      <td>10000</td>\n",
       "      <td>2.71</td>\n",
       "      <td>148</td>\n",
       "      <td>1.98</td>\n",
       "      <td>[{'id': 801, 'main': 'Clouds', 'description': ...</td>\n",
       "      <td>0.00</td>\n",
       "      <td>NaN</td>\n",
       "    </tr>\n",
       "    <tr>\n",
       "      <th>3</th>\n",
       "      <td>1632819600</td>\n",
       "      <td>30.33</td>\n",
       "      <td>36.39</td>\n",
       "      <td>1007</td>\n",
       "      <td>72</td>\n",
       "      <td>24.71</td>\n",
       "      <td>0.77</td>\n",
       "      <td>21</td>\n",
       "      <td>10000</td>\n",
       "      <td>2.95</td>\n",
       "      <td>148</td>\n",
       "      <td>2.37</td>\n",
       "      <td>[{'id': 801, 'main': 'Clouds', 'description': ...</td>\n",
       "      <td>0.00</td>\n",
       "      <td>NaN</td>\n",
       "    </tr>\n",
       "    <tr>\n",
       "      <th>4</th>\n",
       "      <td>1632823200</td>\n",
       "      <td>29.11</td>\n",
       "      <td>33.97</td>\n",
       "      <td>1008</td>\n",
       "      <td>75</td>\n",
       "      <td>24.22</td>\n",
       "      <td>0.00</td>\n",
       "      <td>19</td>\n",
       "      <td>10000</td>\n",
       "      <td>3.28</td>\n",
       "      <td>152</td>\n",
       "      <td>3.19</td>\n",
       "      <td>[{'id': 801, 'main': 'Clouds', 'description': ...</td>\n",
       "      <td>0.00</td>\n",
       "      <td>NaN</td>\n",
       "    </tr>\n",
       "  </tbody>\n",
       "</table>\n",
       "</div>"
      ],
      "text/plain": [
       "           dt   temp  feels_like  pressure  humidity  dew_point   uvi  clouds  \\\n",
       "0  1632808800  32.33       39.33      1007        71      26.39  7.59      22   \n",
       "1  1632812400  31.84       38.84      1007        70      25.68  4.98      20   \n",
       "2  1632816000  31.17       38.06      1007        70      25.05  2.45      20   \n",
       "3  1632819600  30.33       36.39      1007        72      24.71  0.77      21   \n",
       "4  1632823200  29.11       33.97      1008        75      24.22  0.00      19   \n",
       "\n",
       "   visibility  wind_speed  wind_deg  wind_gust  \\\n",
       "0       10000        2.74       142       2.46   \n",
       "1       10000        2.71       151       2.16   \n",
       "2       10000        2.71       148       1.98   \n",
       "3       10000        2.95       148       2.37   \n",
       "4       10000        3.28       152       3.19   \n",
       "\n",
       "                                             weather   pop rain  \n",
       "0  [{'id': 801, 'main': 'Clouds', 'description': ...  0.03  NaN  \n",
       "1  [{'id': 801, 'main': 'Clouds', 'description': ...  0.00  NaN  \n",
       "2  [{'id': 801, 'main': 'Clouds', 'description': ...  0.00  NaN  \n",
       "3  [{'id': 801, 'main': 'Clouds', 'description': ...  0.00  NaN  \n",
       "4  [{'id': 801, 'main': 'Clouds', 'description': ...  0.00  NaN  "
      ]
     },
     "execution_count": 10,
     "metadata": {},
     "output_type": "execute_result"
    }
   ],
   "source": [
    "df_hourly.head()"
   ]
  },
  {
   "cell_type": "code",
   "execution_count": null,
   "metadata": {},
   "outputs": [],
   "source": []
  }
 ],
 "metadata": {
  "interpreter": {
   "hash": "c1b4cfe941b6d2466ad1fb5979e97da9cda8801728c8091b097ab734208fc00c"
  },
  "kernelspec": {
   "display_name": "Python 3.8.3 64-bit ('base': conda)",
   "name": "python3"
  },
  "language_info": {
   "codemirror_mode": {
    "name": "ipython",
    "version": 3
   },
   "file_extension": ".py",
   "mimetype": "text/x-python",
   "name": "python",
   "nbconvert_exporter": "python",
   "pygments_lexer": "ipython3",
   "version": "3.8.12"
  }
 },
 "nbformat": 4,
 "nbformat_minor": 2
}
