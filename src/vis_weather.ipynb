{
 "cells": [
  {
   "cell_type": "code",
   "execution_count": 1,
   "metadata": {
    "execution": {
     "iopub.execute_input": "2021-08-22T20:15:45.699990Z",
     "iopub.status.busy": "2021-08-22T20:15:45.699295Z",
     "iopub.status.idle": "2021-08-22T20:15:47.094301Z",
     "shell.execute_reply": "2021-08-22T20:15:47.093752Z"
    }
   },
   "outputs": [],
   "source": [
    "import json\r\n",
    "from datetime import datetime\r\n",
    "from dateutil import tz\r\n",
    "import pandas as pd\r\n",
    "import matplotlib.pyplot as plt\r\n",
    "import seaborn\r\n"
   ]
  },
  {
   "cell_type": "code",
   "execution_count": 2,
   "metadata": {
    "execution": {
     "iopub.execute_input": "2021-08-22T20:15:47.099312Z",
     "iopub.status.busy": "2021-08-22T20:15:47.098673Z",
     "iopub.status.idle": "2021-08-22T20:15:47.101654Z",
     "shell.execute_reply": "2021-08-22T20:15:47.102098Z"
    }
   },
   "outputs": [],
   "source": [
    "with open('../newest_ts', 'r') as f:\r\n",
    "    ts = f.read()\r\n",
    "\r\n",
    "data_path = f\"../data/data_{ts}.json\"\r\n",
    "with open(data_path, 'r') as f:\r\n",
    "    data = json.load(f)"
   ]
  },
  {
   "cell_type": "code",
   "execution_count": 3,
   "metadata": {
    "execution": {
     "iopub.execute_input": "2021-08-22T20:15:47.107806Z",
     "iopub.status.busy": "2021-08-22T20:15:47.107153Z",
     "iopub.status.idle": "2021-08-22T20:15:47.110187Z",
     "shell.execute_reply": "2021-08-22T20:15:47.110699Z"
    }
   },
   "outputs": [
    {
     "name": "stdout",
     "output_type": "stream",
     "text": [
      "Recent query happens at 2021-08-22 20:15:42\n"
     ]
    }
   ],
   "source": [
    "def ts2dt(ts, format='%Y-%m-%d %H:%M:%S'):\r\n",
    "    return (datetime.utcfromtimestamp(int(ts))\r\n",
    "                    .replace(tzinfo=tz.tzutc())\r\n",
    "                    .astimezone(tz.tzlocal())\r\n",
    "                    .strftime(format))\r\n",
    "\r\n",
    "print(f\"Recent query happens at {ts2dt(ts)}\")"
   ]
  },
  {
   "cell_type": "code",
   "execution_count": 4,
   "metadata": {
    "execution": {
     "iopub.execute_input": "2021-08-22T20:15:47.118239Z",
     "iopub.status.busy": "2021-08-22T20:15:47.113963Z",
     "iopub.status.idle": "2021-08-22T20:15:47.120706Z",
     "shell.execute_reply": "2021-08-22T20:15:47.121175Z"
    }
   },
   "outputs": [
    {
     "data": {
      "text/plain": [
       "dict_keys(['lat', 'lon', 'timezone', 'timezone_offset', 'current', 'hourly', 'daily'])"
      ]
     },
     "execution_count": 4,
     "metadata": {},
     "output_type": "execute_result"
    }
   ],
   "source": [
    "data.keys()"
   ]
  },
  {
   "cell_type": "code",
   "execution_count": 5,
   "metadata": {
    "execution": {
     "iopub.execute_input": "2021-08-22T20:15:47.127573Z",
     "iopub.status.busy": "2021-08-22T20:15:47.127015Z",
     "iopub.status.idle": "2021-08-22T20:15:47.129735Z",
     "shell.execute_reply": "2021-08-22T20:15:47.130196Z"
    }
   },
   "outputs": [
    {
     "data": {
      "text/plain": [
       "{'dt': 1629663342,\n",
       " 'sunrise': 1629669780,\n",
       " 'sunset': 1629715720,\n",
       " 'temp': 28.4,\n",
       " 'feels_like': 34.64,\n",
       " 'pressure': 1006,\n",
       " 'humidity': 88,\n",
       " 'dew_point': 26.22,\n",
       " 'uvi': 0,\n",
       " 'clouds': 89,\n",
       " 'visibility': 10000,\n",
       " 'wind_speed': 3.49,\n",
       " 'wind_deg': 221,\n",
       " 'wind_gust': 4.79,\n",
       " 'weather': [{'id': 804,\n",
       "   'main': 'Clouds',\n",
       "   'description': 'overcast clouds',\n",
       "   'icon': '04n'}]}"
      ]
     },
     "execution_count": 5,
     "metadata": {},
     "output_type": "execute_result"
    }
   ],
   "source": [
    "data['current']"
   ]
  },
  {
   "cell_type": "code",
   "execution_count": 6,
   "metadata": {
    "execution": {
     "iopub.execute_input": "2021-08-22T20:15:47.135647Z",
     "iopub.status.busy": "2021-08-22T20:15:47.135082Z",
     "iopub.status.idle": "2021-08-22T20:15:47.137682Z",
     "shell.execute_reply": "2021-08-22T20:15:47.138092Z"
    }
   },
   "outputs": [
    {
     "data": {
      "text/plain": [
       "{'dt': 1629662400,\n",
       " 'temp': 28.4,\n",
       " 'feels_like': 34.64,\n",
       " 'pressure': 1006,\n",
       " 'humidity': 88,\n",
       " 'dew_point': 26.22,\n",
       " 'uvi': 0,\n",
       " 'clouds': 89,\n",
       " 'visibility': 10000,\n",
       " 'wind_speed': 3.49,\n",
       " 'wind_deg': 221,\n",
       " 'wind_gust': 4.79,\n",
       " 'weather': [{'id': 500,\n",
       "   'main': 'Rain',\n",
       "   'description': 'light rain',\n",
       "   'icon': '10n'}],\n",
       " 'pop': 0.65,\n",
       " 'rain': {'1h': 0.32}}"
      ]
     },
     "execution_count": 6,
     "metadata": {},
     "output_type": "execute_result"
    }
   ],
   "source": [
    "data['hourly'][0]"
   ]
  },
  {
   "cell_type": "code",
   "execution_count": 7,
   "metadata": {
    "execution": {
     "iopub.execute_input": "2021-08-22T20:15:47.148069Z",
     "iopub.status.busy": "2021-08-22T20:15:47.146646Z",
     "iopub.status.idle": "2021-08-22T20:15:47.148755Z",
     "shell.execute_reply": "2021-08-22T20:15:47.149221Z"
    }
   },
   "outputs": [],
   "source": [
    "df_hourly = pd.DataFrame(data['hourly'])\r\n",
    "df_daily = pd.DataFrame(data['daily'])"
   ]
  },
  {
   "cell_type": "code",
   "execution_count": 8,
   "metadata": {
    "execution": {
     "iopub.execute_input": "2021-08-22T20:15:47.153698Z",
     "iopub.status.busy": "2021-08-22T20:15:47.153040Z",
     "iopub.status.idle": "2021-08-22T20:15:47.173348Z",
     "shell.execute_reply": "2021-08-22T20:15:47.173890Z"
    }
   },
   "outputs": [
    {
     "data": {
      "text/html": [
       "<div>\n",
       "<style scoped>\n",
       "    .dataframe tbody tr th:only-of-type {\n",
       "        vertical-align: middle;\n",
       "    }\n",
       "\n",
       "    .dataframe tbody tr th {\n",
       "        vertical-align: top;\n",
       "    }\n",
       "\n",
       "    .dataframe thead th {\n",
       "        text-align: right;\n",
       "    }\n",
       "</style>\n",
       "<table border=\"1\" class=\"dataframe\">\n",
       "  <thead>\n",
       "    <tr style=\"text-align: right;\">\n",
       "      <th></th>\n",
       "      <th>dt</th>\n",
       "      <th>temp</th>\n",
       "      <th>feels_like</th>\n",
       "      <th>pressure</th>\n",
       "      <th>humidity</th>\n",
       "      <th>dew_point</th>\n",
       "      <th>uvi</th>\n",
       "      <th>clouds</th>\n",
       "      <th>visibility</th>\n",
       "      <th>wind_speed</th>\n",
       "      <th>wind_deg</th>\n",
       "      <th>wind_gust</th>\n",
       "      <th>weather</th>\n",
       "      <th>pop</th>\n",
       "      <th>rain</th>\n",
       "    </tr>\n",
       "  </thead>\n",
       "  <tbody>\n",
       "    <tr>\n",
       "      <th>0</th>\n",
       "      <td>1629662400</td>\n",
       "      <td>28.40</td>\n",
       "      <td>34.64</td>\n",
       "      <td>1006</td>\n",
       "      <td>88</td>\n",
       "      <td>26.22</td>\n",
       "      <td>0.0</td>\n",
       "      <td>89</td>\n",
       "      <td>10000</td>\n",
       "      <td>3.49</td>\n",
       "      <td>221</td>\n",
       "      <td>4.79</td>\n",
       "      <td>[{'id': 500, 'main': 'Rain', 'description': 'l...</td>\n",
       "      <td>0.65</td>\n",
       "      <td>{'1h': 0.32}</td>\n",
       "    </tr>\n",
       "    <tr>\n",
       "      <th>1</th>\n",
       "      <td>1629666000</td>\n",
       "      <td>28.23</td>\n",
       "      <td>33.92</td>\n",
       "      <td>1006</td>\n",
       "      <td>87</td>\n",
       "      <td>25.86</td>\n",
       "      <td>0.0</td>\n",
       "      <td>89</td>\n",
       "      <td>10000</td>\n",
       "      <td>2.77</td>\n",
       "      <td>220</td>\n",
       "      <td>3.90</td>\n",
       "      <td>[{'id': 804, 'main': 'Clouds', 'description': ...</td>\n",
       "      <td>0.72</td>\n",
       "      <td>NaN</td>\n",
       "    </tr>\n",
       "    <tr>\n",
       "      <th>2</th>\n",
       "      <td>1629669600</td>\n",
       "      <td>28.10</td>\n",
       "      <td>33.35</td>\n",
       "      <td>1006</td>\n",
       "      <td>86</td>\n",
       "      <td>25.53</td>\n",
       "      <td>0.0</td>\n",
       "      <td>85</td>\n",
       "      <td>10000</td>\n",
       "      <td>3.63</td>\n",
       "      <td>218</td>\n",
       "      <td>4.70</td>\n",
       "      <td>[{'id': 804, 'main': 'Clouds', 'description': ...</td>\n",
       "      <td>0.67</td>\n",
       "      <td>NaN</td>\n",
       "    </tr>\n",
       "    <tr>\n",
       "      <th>3</th>\n",
       "      <td>1629673200</td>\n",
       "      <td>28.19</td>\n",
       "      <td>33.26</td>\n",
       "      <td>1007</td>\n",
       "      <td>84</td>\n",
       "      <td>25.23</td>\n",
       "      <td>0.4</td>\n",
       "      <td>84</td>\n",
       "      <td>10000</td>\n",
       "      <td>3.73</td>\n",
       "      <td>224</td>\n",
       "      <td>5.11</td>\n",
       "      <td>[{'id': 500, 'main': 'Rain', 'description': 'l...</td>\n",
       "      <td>0.70</td>\n",
       "      <td>{'1h': 0.11}</td>\n",
       "    </tr>\n",
       "    <tr>\n",
       "      <th>4</th>\n",
       "      <td>1629676800</td>\n",
       "      <td>28.68</td>\n",
       "      <td>33.86</td>\n",
       "      <td>1008</td>\n",
       "      <td>80</td>\n",
       "      <td>24.89</td>\n",
       "      <td>1.7</td>\n",
       "      <td>84</td>\n",
       "      <td>10000</td>\n",
       "      <td>3.48</td>\n",
       "      <td>222</td>\n",
       "      <td>4.91</td>\n",
       "      <td>[{'id': 500, 'main': 'Rain', 'description': 'l...</td>\n",
       "      <td>0.66</td>\n",
       "      <td>{'1h': 0.17}</td>\n",
       "    </tr>\n",
       "  </tbody>\n",
       "</table>\n",
       "</div>"
      ],
      "text/plain": [
       "           dt   temp  feels_like  pressure  humidity  dew_point  uvi  clouds  \\\n",
       "0  1629662400  28.40       34.64      1006        88      26.22  0.0      89   \n",
       "1  1629666000  28.23       33.92      1006        87      25.86  0.0      89   \n",
       "2  1629669600  28.10       33.35      1006        86      25.53  0.0      85   \n",
       "3  1629673200  28.19       33.26      1007        84      25.23  0.4      84   \n",
       "4  1629676800  28.68       33.86      1008        80      24.89  1.7      84   \n",
       "\n",
       "   visibility  wind_speed  wind_deg  wind_gust  \\\n",
       "0       10000        3.49       221       4.79   \n",
       "1       10000        2.77       220       3.90   \n",
       "2       10000        3.63       218       4.70   \n",
       "3       10000        3.73       224       5.11   \n",
       "4       10000        3.48       222       4.91   \n",
       "\n",
       "                                             weather   pop          rain  \n",
       "0  [{'id': 500, 'main': 'Rain', 'description': 'l...  0.65  {'1h': 0.32}  \n",
       "1  [{'id': 804, 'main': 'Clouds', 'description': ...  0.72           NaN  \n",
       "2  [{'id': 804, 'main': 'Clouds', 'description': ...  0.67           NaN  \n",
       "3  [{'id': 500, 'main': 'Rain', 'description': 'l...  0.70  {'1h': 0.11}  \n",
       "4  [{'id': 500, 'main': 'Rain', 'description': 'l...  0.66  {'1h': 0.17}  "
      ]
     },
     "execution_count": 8,
     "metadata": {},
     "output_type": "execute_result"
    }
   ],
   "source": [
    "df_hourly.head()"
   ]
  },
  {
   "cell_type": "code",
   "execution_count": 9,
   "metadata": {
    "execution": {
     "iopub.execute_input": "2021-08-22T20:15:47.195719Z",
     "iopub.status.busy": "2021-08-22T20:15:47.195051Z",
     "iopub.status.idle": "2021-08-22T20:15:47.483700Z",
     "shell.execute_reply": "2021-08-22T20:15:47.484340Z"
    }
   },
   "outputs": [
    {
     "data": {
      "image/png": "[encoded data removed]",
      "text/plain": [
       "<Figure size 864x432 with 1 Axes>"
      ]
     },
     "metadata": {
      "needs_background": "light"
     },
     "output_type": "display_data"
    }
   ],
   "source": [
    "fig, ax = plt.subplots(figsize=(12, 6))\r\n",
    "plt.plot(df_hourly.temp, '.-')\r\n",
    "ax.set(title='Temperature in future 48 hours', xlabel='Time', ylabel='Temperature')\r\n",
    "ax.set_xticks(list(range(0, len(df_hourly), 2)))\r\n",
    "ax.set_xticklabels([ts2dt(ts, '%m-%d %H:%M') for i, ts in enumerate(df_hourly.dt) if i%2==0], \r\n",
    "                   rotation=45, ha=\"right\")\r\n",
    "plt.show()"
   ]
  },
  {
   "cell_type": "code",
   "execution_count": null,
   "metadata": {},
   "outputs": [],
   "source": []
  }
 ],
 "metadata": {
  "interpreter": {
   "hash": "c1b4cfe941b6d2466ad1fb5979e97da9cda8801728c8091b097ab734208fc00c"
  },
  "kernelspec": {
   "display_name": "Python 3.8.3 64-bit ('base': conda)",
   "name": "python3"
  },
  "language_info": {
   "codemirror_mode": {
    "name": "ipython",
    "version": 3
   },
   "file_extension": ".py",
   "mimetype": "text/x-python",
   "name": "python",
   "nbconvert_exporter": "python",
   "pygments_lexer": "ipython3",
   "version": "3.8.11"
  }
 },
 "nbformat": 4,
 "nbformat_minor": 2
}
