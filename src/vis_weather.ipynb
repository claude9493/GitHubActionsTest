{
 "cells": [
  {
   "cell_type": "code",
   "execution_count": 1,
   "metadata": {
    "execution": {
     "iopub.execute_input": "2021-10-16T02:01:38.100383Z",
     "iopub.status.busy": "2021-10-16T02:01:38.099776Z",
     "iopub.status.idle": "2021-10-16T02:01:40.534872Z",
     "shell.execute_reply": "2021-10-16T02:01:40.533870Z"
    }
   },
   "outputs": [],
   "source": [
    "import json, yaml, requests\r\n",
    "from datetime import datetime\r\n",
    "from dateutil import tz\r\n",
    "import pandas as pd\r\n",
    "from PIL import Image\r\n",
    "from io import BytesIO\r\n",
    "import matplotlib.pyplot as plt\r\n",
    "import seaborn\r\n",
    "\r\n",
    "CONFIG_PATH = \"../config/config.yaml\""
   ]
  },
  {
   "cell_type": "code",
   "execution_count": 2,
   "metadata": {
    "execution": {
     "iopub.execute_input": "2021-10-16T02:01:40.541885Z",
     "iopub.status.busy": "2021-10-16T02:01:40.538968Z",
     "iopub.status.idle": "2021-10-16T02:01:40.544598Z",
     "shell.execute_reply": "2021-10-16T02:01:40.544213Z"
    }
   },
   "outputs": [],
   "source": [
    "with open('../newest_ts', 'r') as f:\r\n",
    "    newest_ts = f.read()\r\n",
    "\r\n",
    "data_path = f\"../data/data_{newest_ts}.json\"\r\n",
    "with open(data_path, 'r') as f:\r\n",
    "    data = json.load(f)\r\n",
    "\r\n",
    "with open(CONFIG_PATH, \"r\") as stream:\r\n",
    "    config = yaml.safe_load(stream)\r\n",
    "\r\n",
    "TIME_ZONE = config['time_zone']\r\n",
    "DATETIME_FORMAT = config['dt_format']"
   ]
  },
  {
   "cell_type": "code",
   "execution_count": 3,
   "metadata": {
    "execution": {
     "iopub.execute_input": "2021-10-16T02:01:40.548880Z",
     "iopub.status.busy": "2021-10-16T02:01:40.548384Z",
     "iopub.status.idle": "2021-10-16T02:01:40.553530Z",
     "shell.execute_reply": "2021-10-16T02:01:40.553905Z"
    }
   },
   "outputs": [
    {
     "name": "stdout",
     "output_type": "stream",
     "text": [
      "Recent query happens at 2021-10-16 10:01:35 (CST).\n"
     ]
    }
   ],
   "source": [
    "def ts2dt(ts, format=DATETIME_FORMAT):\r\n",
    "    dt = (datetime.utcfromtimestamp(int(ts))\r\n",
    "                    .replace(tzinfo=tz.tzutc())\r\n",
    "                    # .astimezone(tz.tzlocal())\r\n",
    "                    .astimezone(tz.gettz(TIME_ZONE)))\r\n",
    "    return dt.strftime(format), dt\r\n",
    "\r\n",
    "_, newest_dt = ts2dt(newest_ts)\r\n",
    "print(f\"Recent query happens at {newest_dt.strftime(DATETIME_FORMAT)} ({newest_dt.tzname()}).\")"
   ]
  },
  {
   "cell_type": "code",
   "execution_count": 4,
   "metadata": {
    "execution": {
     "iopub.execute_input": "2021-10-16T02:01:40.558748Z",
     "iopub.status.busy": "2021-10-16T02:01:40.557613Z",
     "iopub.status.idle": "2021-10-16T02:01:40.559274Z",
     "shell.execute_reply": "2021-10-16T02:01:40.559640Z"
    }
   },
   "outputs": [],
   "source": [
    "def degrees_to_cardinal(d):\r\n",
    "  dirs = ['N', 'NNE', 'NE', 'ENE', 'E', 'ESE', 'SE', 'SSE', 'S', 'SSW', 'SW', 'WSW', 'W', 'WNW', 'NW', 'NNW']\r\n",
    "  ix = int(round(d / (360. / len(dirs))))\r\n",
    "  return dirs[ix % len(dirs)]"
   ]
  },
  {
   "cell_type": "code",
   "execution_count": 5,
   "metadata": {
    "execution": {
     "iopub.execute_input": "2021-10-16T02:01:40.563384Z",
     "iopub.status.busy": "2021-10-16T02:01:40.562378Z",
     "iopub.status.idle": "2021-10-16T02:01:40.563900Z",
     "shell.execute_reply": "2021-10-16T02:01:40.564263Z"
    }
   },
   "outputs": [],
   "source": [
    "# data.keys()"
   ]
  },
  {
   "cell_type": "code",
   "execution_count": 6,
   "metadata": {
    "execution": {
     "iopub.execute_input": "2021-10-16T02:01:40.567839Z",
     "iopub.status.busy": "2021-10-16T02:01:40.566763Z",
     "iopub.status.idle": "2021-10-16T02:01:40.568356Z",
     "shell.execute_reply": "2021-10-16T02:01:40.568718Z"
    }
   },
   "outputs": [],
   "source": [
    "# data['current']"
   ]
  },
  {
   "cell_type": "code",
   "execution_count": 7,
   "metadata": {
    "execution": {
     "iopub.execute_input": "2021-10-16T02:01:40.584836Z",
     "iopub.status.busy": "2021-10-16T02:01:40.584357Z",
     "iopub.status.idle": "2021-10-16T02:01:40.963303Z",
     "shell.execute_reply": "2021-10-16T02:01:40.963970Z"
    }
   },
   "outputs": [
    {
     "data": {
      "image/png": "[encoded data removed]",
      "text/plain": [
       "<Figure size 216x216 with 1 Axes>"
      ]
     },
     "metadata": {
      "needs_background": "light"
     },
     "output_type": "display_data"
    },
    {
     "name": "stdout",
     "output_type": "stream",
     "text": [
      "Today, sun rises at 06:19 and sets at 17:57.\n",
      "Currently, the weather is Clouds (broken clouds).\n",
      "The temperature is 27.01°C and it feels like 29.22°C.\n",
      "The UV index is 4.75, humidity is 74%.\n",
      "The pressure is 1015 hPa, percentage of cloud cover is 53%\n",
      "The wind comes from N direction with a speed 2.24 m/s.\n"
     ]
    }
   ],
   "source": [
    "current = data['current']\r\n",
    "\r\n",
    "fig, ax = plt.subplots(figsize=(3, 3))\r\n",
    "icon = requests.get(f\"http://openweathermap.org/img/wn/{current['weather'][0]['icon']}@2x.png\")\r\n",
    "im = Image.open(BytesIO(icon.content))\r\n",
    "plt.imshow(im)\r\n",
    "ax.set_axis_off()\r\n",
    "plt.show()\r\n",
    "\r\n",
    "print(f\"Today, sun rises at {ts2dt(current['sunrise'], '%H:%M')[0]} \\\r\n",
    "and sets at {ts2dt(current['sunset'], '%H:%M')[0]}.\\n\\\r\n",
    "Currently, the weather is {current['weather'][0]['main']} ({current['weather'][0]['description']}).\\n\\\r\n",
    "The temperature is {current['temp']}°C and it feels like {current['feels_like']}°C.\\n\\\r\n",
    "The UV index is {current['uvi']}, humidity is {current['humidity']}%.\\n\\\r\n",
    "The pressure is {current['pressure']} hPa, percentage of cloud cover is {current['clouds']}%\\n\\\r\n",
    "The wind comes from {degrees_to_cardinal(current['wind_deg'])} direction with a speed {current['wind_speed']} m/s.\")"
   ]
  },
  {
   "cell_type": "code",
   "execution_count": 8,
   "metadata": {
    "execution": {
     "iopub.execute_input": "2021-10-16T02:01:40.967125Z",
     "iopub.status.busy": "2021-10-16T02:01:40.966213Z",
     "iopub.status.idle": "2021-10-16T02:01:40.972885Z",
     "shell.execute_reply": "2021-10-16T02:01:40.973538Z"
    }
   },
   "outputs": [],
   "source": [
    "df_hourly = pd.DataFrame(data['hourly'])\r\n",
    "df_daily = pd.DataFrame(data['daily'])"
   ]
  },
  {
   "cell_type": "code",
   "execution_count": 9,
   "metadata": {
    "execution": {
     "iopub.execute_input": "2021-10-16T02:01:40.976445Z",
     "iopub.status.busy": "2021-10-16T02:01:40.975531Z",
     "iopub.status.idle": "2021-10-16T02:01:41.214370Z",
     "shell.execute_reply": "2021-10-16T02:01:41.213948Z"
    }
   },
   "outputs": [
    {
     "data": {
      "image/png": "[encoded data removed]",
      "text/plain": [
       "<Figure size 864x432 with 1 Axes>"
      ]
     },
     "metadata": {
      "needs_background": "light"
     },
     "output_type": "display_data"
    }
   ],
   "source": [
    "fig, ax = plt.subplots(figsize=(12, 6))\r\n",
    "plt.plot(df_hourly.temp, '.-', label='Temperature')\r\n",
    "plt.plot(df_hourly.feels_like, '.-', label='Feels Like')\r\n",
    "ax.set(title='Temperature in future 48 hours', xlabel='Time', ylabel='Temperature')\r\n",
    "ax.set_xticks(list(range(0, len(df_hourly), 2)))\r\n",
    "ax.set_xticklabels([ts2dt(ts, '%m-%d %H:%M')[0] for i, ts in enumerate(df_hourly.dt) if i%2==0], \r\n",
    "                   rotation=45, ha=\"right\")\r\n",
    "ax.locator_params(nbins=15, axis='y')\r\n",
    "plt.legend()\r\n",
    "plt.show()"
   ]
  },
  {
   "cell_type": "code",
   "execution_count": 10,
   "metadata": {
    "execution": {
     "iopub.execute_input": "2021-10-16T02:01:41.218655Z",
     "iopub.status.busy": "2021-10-16T02:01:41.218193Z",
     "iopub.status.idle": "2021-10-16T02:01:41.234342Z",
     "shell.execute_reply": "2021-10-16T02:01:41.234717Z"
    }
   },
   "outputs": [
    {
     "data": {
      "text/html": [
       "<div>\n",
       "<style scoped>\n",
       "    .dataframe tbody tr th:only-of-type {\n",
       "        vertical-align: middle;\n",
       "    }\n",
       "\n",
       "    .dataframe tbody tr th {\n",
       "        vertical-align: top;\n",
       "    }\n",
       "\n",
       "    .dataframe thead th {\n",
       "        text-align: right;\n",
       "    }\n",
       "</style>\n",
       "<table border=\"1\" class=\"dataframe\">\n",
       "  <thead>\n",
       "    <tr style=\"text-align: right;\">\n",
       "      <th></th>\n",
       "      <th>dt</th>\n",
       "      <th>temp</th>\n",
       "      <th>feels_like</th>\n",
       "      <th>pressure</th>\n",
       "      <th>humidity</th>\n",
       "      <th>dew_point</th>\n",
       "      <th>uvi</th>\n",
       "      <th>clouds</th>\n",
       "      <th>visibility</th>\n",
       "      <th>wind_speed</th>\n",
       "      <th>wind_deg</th>\n",
       "      <th>wind_gust</th>\n",
       "      <th>weather</th>\n",
       "      <th>pop</th>\n",
       "    </tr>\n",
       "  </thead>\n",
       "  <tbody>\n",
       "    <tr>\n",
       "      <th>0</th>\n",
       "      <td>1634349600</td>\n",
       "      <td>27.01</td>\n",
       "      <td>29.22</td>\n",
       "      <td>1015</td>\n",
       "      <td>74</td>\n",
       "      <td>21.98</td>\n",
       "      <td>4.75</td>\n",
       "      <td>53</td>\n",
       "      <td>10000</td>\n",
       "      <td>6.43</td>\n",
       "      <td>8</td>\n",
       "      <td>8.14</td>\n",
       "      <td>[{'id': 803, 'main': 'Clouds', 'description': ...</td>\n",
       "      <td>0.00</td>\n",
       "    </tr>\n",
       "    <tr>\n",
       "      <th>1</th>\n",
       "      <td>1634353200</td>\n",
       "      <td>26.86</td>\n",
       "      <td>28.86</td>\n",
       "      <td>1015</td>\n",
       "      <td>73</td>\n",
       "      <td>21.61</td>\n",
       "      <td>7.05</td>\n",
       "      <td>54</td>\n",
       "      <td>10000</td>\n",
       "      <td>7.67</td>\n",
       "      <td>13</td>\n",
       "      <td>8.77</td>\n",
       "      <td>[{'id': 803, 'main': 'Clouds', 'description': ...</td>\n",
       "      <td>0.00</td>\n",
       "    </tr>\n",
       "    <tr>\n",
       "      <th>2</th>\n",
       "      <td>1634356800</td>\n",
       "      <td>26.97</td>\n",
       "      <td>28.89</td>\n",
       "      <td>1015</td>\n",
       "      <td>71</td>\n",
       "      <td>21.26</td>\n",
       "      <td>8.15</td>\n",
       "      <td>51</td>\n",
       "      <td>10000</td>\n",
       "      <td>7.72</td>\n",
       "      <td>20</td>\n",
       "      <td>8.51</td>\n",
       "      <td>[{'id': 803, 'main': 'Clouds', 'description': ...</td>\n",
       "      <td>0.00</td>\n",
       "    </tr>\n",
       "    <tr>\n",
       "      <th>3</th>\n",
       "      <td>1634360400</td>\n",
       "      <td>27.23</td>\n",
       "      <td>29.16</td>\n",
       "      <td>1014</td>\n",
       "      <td>69</td>\n",
       "      <td>21.05</td>\n",
       "      <td>7.99</td>\n",
       "      <td>51</td>\n",
       "      <td>10000</td>\n",
       "      <td>7.47</td>\n",
       "      <td>23</td>\n",
       "      <td>8.12</td>\n",
       "      <td>[{'id': 803, 'main': 'Clouds', 'description': ...</td>\n",
       "      <td>0.00</td>\n",
       "    </tr>\n",
       "    <tr>\n",
       "      <th>4</th>\n",
       "      <td>1634364000</td>\n",
       "      <td>27.43</td>\n",
       "      <td>29.30</td>\n",
       "      <td>1013</td>\n",
       "      <td>67</td>\n",
       "      <td>20.76</td>\n",
       "      <td>6.45</td>\n",
       "      <td>47</td>\n",
       "      <td>10000</td>\n",
       "      <td>7.51</td>\n",
       "      <td>23</td>\n",
       "      <td>8.17</td>\n",
       "      <td>[{'id': 802, 'main': 'Clouds', 'description': ...</td>\n",
       "      <td>0.04</td>\n",
       "    </tr>\n",
       "  </tbody>\n",
       "</table>\n",
       "</div>"
      ],
      "text/plain": [
       "           dt   temp  feels_like  pressure  humidity  dew_point   uvi  clouds  \\\n",
       "0  1634349600  27.01       29.22      1015        74      21.98  4.75      53   \n",
       "1  1634353200  26.86       28.86      1015        73      21.61  7.05      54   \n",
       "2  1634356800  26.97       28.89      1015        71      21.26  8.15      51   \n",
       "3  1634360400  27.23       29.16      1014        69      21.05  7.99      51   \n",
       "4  1634364000  27.43       29.30      1013        67      20.76  6.45      47   \n",
       "\n",
       "   visibility  wind_speed  wind_deg  wind_gust  \\\n",
       "0       10000        6.43         8       8.14   \n",
       "1       10000        7.67        13       8.77   \n",
       "2       10000        7.72        20       8.51   \n",
       "3       10000        7.47        23       8.12   \n",
       "4       10000        7.51        23       8.17   \n",
       "\n",
       "                                             weather   pop  \n",
       "0  [{'id': 803, 'main': 'Clouds', 'description': ...  0.00  \n",
       "1  [{'id': 803, 'main': 'Clouds', 'description': ...  0.00  \n",
       "2  [{'id': 803, 'main': 'Clouds', 'description': ...  0.00  \n",
       "3  [{'id': 803, 'main': 'Clouds', 'description': ...  0.00  \n",
       "4  [{'id': 802, 'main': 'Clouds', 'description': ...  0.04  "
      ]
     },
     "execution_count": 10,
     "metadata": {},
     "output_type": "execute_result"
    }
   ],
   "source": [
    "df_hourly.head()"
   ]
  },
  {
   "cell_type": "code",
   "execution_count": null,
   "metadata": {},
   "outputs": [],
   "source": []
  }
 ],
 "metadata": {
  "interpreter": {
   "hash": "c1b4cfe941b6d2466ad1fb5979e97da9cda8801728c8091b097ab734208fc00c"
  },
  "kernelspec": {
   "display_name": "Python 3.8.3 64-bit ('base': conda)",
   "name": "python3"
  },
  "language_info": {
   "codemirror_mode": {
    "name": "ipython",
    "version": 3
   },
   "file_extension": ".py",
   "mimetype": "text/x-python",
   "name": "python",
   "nbconvert_exporter": "python",
   "pygments_lexer": "ipython3",
   "version": "3.8.12"
  }
 },
 "nbformat": 4,
 "nbformat_minor": 2
}
