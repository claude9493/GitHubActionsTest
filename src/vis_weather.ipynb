{
 "cells": [
  {
   "cell_type": "code",
   "execution_count": 1,
   "metadata": {
    "execution": {
     "iopub.execute_input": "2021-09-01T15:16:43.144862Z",
     "iopub.status.busy": "2021-09-01T15:16:43.144290Z",
     "iopub.status.idle": "2021-09-01T15:16:45.512422Z",
     "shell.execute_reply": "2021-09-01T15:16:45.511692Z"
    }
   },
   "outputs": [],
   "source": [
    "import json, yaml, requests\r\n",
    "from datetime import datetime\r\n",
    "from dateutil import tz\r\n",
    "import pandas as pd\r\n",
    "from PIL import Image\r\n",
    "from io import BytesIO\r\n",
    "import matplotlib.pyplot as plt\r\n",
    "import seaborn\r\n",
    "\r\n",
    "CONFIG_PATH = \"../config/config.yaml\""
   ]
  },
  {
   "cell_type": "code",
   "execution_count": 2,
   "metadata": {
    "execution": {
     "iopub.execute_input": "2021-09-01T15:16:45.520455Z",
     "iopub.status.busy": "2021-09-01T15:16:45.517344Z",
     "iopub.status.idle": "2021-09-01T15:16:45.523346Z",
     "shell.execute_reply": "2021-09-01T15:16:45.522921Z"
    }
   },
   "outputs": [],
   "source": [
    "with open('../newest_ts', 'r') as f:\r\n",
    "    newest_ts = f.read()\r\n",
    "\r\n",
    "data_path = f\"../data/data_{newest_ts}.json\"\r\n",
    "with open(data_path, 'r') as f:\r\n",
    "    data = json.load(f)\r\n",
    "\r\n",
    "with open(CONFIG_PATH, \"r\") as stream:\r\n",
    "    config = yaml.safe_load(stream)\r\n",
    "\r\n",
    "TIME_ZONE = config['time_zone']\r\n",
    "DATETIME_FORMAT = config['dt_format']"
   ]
  },
  {
   "cell_type": "code",
   "execution_count": 3,
   "metadata": {
    "execution": {
     "iopub.execute_input": "2021-09-01T15:16:45.528105Z",
     "iopub.status.busy": "2021-09-01T15:16:45.527571Z",
     "iopub.status.idle": "2021-09-01T15:16:45.538142Z",
     "shell.execute_reply": "2021-09-01T15:16:45.538585Z"
    }
   },
   "outputs": [
    {
     "name": "stdout",
     "output_type": "stream",
     "text": [
      "Recent query happens at 2021-09-01 23:16:40 (CST).\n"
     ]
    }
   ],
   "source": [
    "def ts2dt(ts, format=DATETIME_FORMAT):\r\n",
    "    dt = (datetime.utcfromtimestamp(int(ts))\r\n",
    "                    .replace(tzinfo=tz.tzutc())\r\n",
    "                    # .astimezone(tz.tzlocal())\r\n",
    "                    .astimezone(tz.gettz(TIME_ZONE)))\r\n",
    "    return dt.strftime(format), dt\r\n",
    "\r\n",
    "_, newest_dt = ts2dt(newest_ts)\r\n",
    "print(f\"Recent query happens at {newest_dt.strftime(DATETIME_FORMAT)} ({newest_dt.tzname()}).\")"
   ]
  },
  {
   "cell_type": "code",
   "execution_count": 4,
   "metadata": {
    "execution": {
     "iopub.execute_input": "2021-09-01T15:16:45.543913Z",
     "iopub.status.busy": "2021-09-01T15:16:45.542748Z",
     "iopub.status.idle": "2021-09-01T15:16:45.544462Z",
     "shell.execute_reply": "2021-09-01T15:16:45.544872Z"
    }
   },
   "outputs": [],
   "source": [
    "def degrees_to_cardinal(d):\r\n",
    "  dirs = ['N', 'NNE', 'NE', 'ENE', 'E', 'ESE', 'SE', 'SSE', 'S', 'SSW', 'SW', 'WSW', 'W', 'WNW', 'NW', 'NNW']\r\n",
    "  ix = int(round(d / (360. / len(dirs))))\r\n",
    "  return dirs[ix % len(dirs)]"
   ]
  },
  {
   "cell_type": "code",
   "execution_count": 5,
   "metadata": {
    "execution": {
     "iopub.execute_input": "2021-09-01T15:16:45.549099Z",
     "iopub.status.busy": "2021-09-01T15:16:45.547985Z",
     "iopub.status.idle": "2021-09-01T15:16:45.549722Z",
     "shell.execute_reply": "2021-09-01T15:16:45.550146Z"
    }
   },
   "outputs": [],
   "source": [
    "# data.keys()"
   ]
  },
  {
   "cell_type": "code",
   "execution_count": 6,
   "metadata": {
    "execution": {
     "iopub.execute_input": "2021-09-01T15:16:45.554160Z",
     "iopub.status.busy": "2021-09-01T15:16:45.553010Z",
     "iopub.status.idle": "2021-09-01T15:16:45.554712Z",
     "shell.execute_reply": "2021-09-01T15:16:45.555101Z"
    }
   },
   "outputs": [],
   "source": [
    "# data['current']"
   ]
  },
  {
   "cell_type": "code",
   "execution_count": 7,
   "metadata": {
    "execution": {
     "iopub.execute_input": "2021-09-01T15:16:45.573773Z",
     "iopub.status.busy": "2021-09-01T15:16:45.573219Z",
     "iopub.status.idle": "2021-09-01T15:16:45.995050Z",
     "shell.execute_reply": "2021-09-01T15:16:45.995788Z"
    }
   },
   "outputs": [
    {
     "data": {
      "image/png": "[encoded data removed]",
      "text/plain": [
       "<Figure size 216x216 with 1 Axes>"
      ]
     },
     "metadata": {
      "needs_background": "light"
     },
     "output_type": "display_data"
    },
    {
     "name": "stdout",
     "output_type": "stream",
     "text": [
      "Today, sun rises at 06:05 and sets at 18:40.\n",
      "Currently, the weather is Clouds (overcast clouds).\n",
      "The temperature is 28.43°C and it feels like 34.53°C.\n",
      "The UV index is 0, humidity is 87%.\n",
      "The pressure is 1011 hPa, percentage of cloud cover is 94%\n",
      "The wind comes from E direction with a speed 4.15 m/s.\n"
     ]
    }
   ],
   "source": [
    "current = data['current']\r\n",
    "\r\n",
    "fig, ax = plt.subplots(figsize=(3, 3))\r\n",
    "icon = requests.get(f\"http://openweathermap.org/img/wn/{current['weather'][0]['icon']}@2x.png\")\r\n",
    "im = Image.open(BytesIO(icon.content))\r\n",
    "plt.imshow(im)\r\n",
    "ax.set_axis_off()\r\n",
    "plt.show()\r\n",
    "\r\n",
    "print(f\"Today, sun rises at {ts2dt(current['sunrise'], '%H:%M')[0]} \\\r\n",
    "and sets at {ts2dt(current['sunset'], '%H:%M')[0]}.\\n\\\r\n",
    "Currently, the weather is {current['weather'][0]['main']} ({current['weather'][0]['description']}).\\n\\\r\n",
    "The temperature is {current['temp']}°C and it feels like {current['feels_like']}°C.\\n\\\r\n",
    "The UV index is {current['uvi']}, humidity is {current['humidity']}%.\\n\\\r\n",
    "The pressure is {current['pressure']} hPa, percentage of cloud cover is {current['clouds']}%\\n\\\r\n",
    "The wind comes from {degrees_to_cardinal(current['wind_deg'])} direction with a speed {current['wind_speed']} m/s.\")"
   ]
  },
  {
   "cell_type": "code",
   "execution_count": 8,
   "metadata": {
    "execution": {
     "iopub.execute_input": "2021-09-01T15:16:46.001261Z",
     "iopub.status.busy": "2021-09-01T15:16:46.000707Z",
     "iopub.status.idle": "2021-09-01T15:16:46.005814Z",
     "shell.execute_reply": "2021-09-01T15:16:46.006544Z"
    }
   },
   "outputs": [],
   "source": [
    "df_hourly = pd.DataFrame(data['hourly'])\r\n",
    "df_daily = pd.DataFrame(data['daily'])"
   ]
  },
  {
   "cell_type": "code",
   "execution_count": 9,
   "metadata": {
    "execution": {
     "iopub.execute_input": "2021-09-01T15:16:46.010055Z",
     "iopub.status.busy": "2021-09-01T15:16:46.008962Z",
     "iopub.status.idle": "2021-09-01T15:16:46.283553Z",
     "shell.execute_reply": "2021-09-01T15:16:46.283978Z"
    }
   },
   "outputs": [
    {
     "data": {
      "image/png": "[encoded data removed]",
      "text/plain": [
       "<Figure size 864x432 with 1 Axes>"
      ]
     },
     "metadata": {
      "needs_background": "light"
     },
     "output_type": "display_data"
    }
   ],
   "source": [
    "fig, ax = plt.subplots(figsize=(12, 6))\r\n",
    "plt.plot(df_hourly.temp, '.-', label='Temperature')\r\n",
    "plt.plot(df_hourly.feels_like, '.-', label='Feels Like')\r\n",
    "ax.set(title='Temperature in future 48 hours', xlabel='Time', ylabel='Temperature')\r\n",
    "ax.set_xticks(list(range(0, len(df_hourly), 2)))\r\n",
    "ax.set_xticklabels([ts2dt(ts, '%m-%d %H:%M')[0] for i, ts in enumerate(df_hourly.dt) if i%2==0], \r\n",
    "                   rotation=45, ha=\"right\")\r\n",
    "ax.locator_params(nbins=15, axis='y')\r\n",
    "plt.legend()\r\n",
    "plt.show()"
   ]
  },
  {
   "cell_type": "code",
   "execution_count": 10,
   "metadata": {
    "execution": {
     "iopub.execute_input": "2021-09-01T15:16:46.304428Z",
     "iopub.status.busy": "2021-09-01T15:16:46.288125Z",
     "iopub.status.idle": "2021-09-01T15:16:46.310089Z",
     "shell.execute_reply": "2021-09-01T15:16:46.309563Z"
    }
   },
   "outputs": [
    {
     "data": {
      "text/html": [
       "<div>\n",
       "<style scoped>\n",
       "    .dataframe tbody tr th:only-of-type {\n",
       "        vertical-align: middle;\n",
       "    }\n",
       "\n",
       "    .dataframe tbody tr th {\n",
       "        vertical-align: top;\n",
       "    }\n",
       "\n",
       "    .dataframe thead th {\n",
       "        text-align: right;\n",
       "    }\n",
       "</style>\n",
       "<table border=\"1\" class=\"dataframe\">\n",
       "  <thead>\n",
       "    <tr style=\"text-align: right;\">\n",
       "      <th></th>\n",
       "      <th>dt</th>\n",
       "      <th>temp</th>\n",
       "      <th>feels_like</th>\n",
       "      <th>pressure</th>\n",
       "      <th>humidity</th>\n",
       "      <th>dew_point</th>\n",
       "      <th>uvi</th>\n",
       "      <th>clouds</th>\n",
       "      <th>visibility</th>\n",
       "      <th>wind_speed</th>\n",
       "      <th>wind_deg</th>\n",
       "      <th>wind_gust</th>\n",
       "      <th>weather</th>\n",
       "      <th>pop</th>\n",
       "      <th>rain</th>\n",
       "    </tr>\n",
       "  </thead>\n",
       "  <tbody>\n",
       "    <tr>\n",
       "      <th>0</th>\n",
       "      <td>1630508400</td>\n",
       "      <td>28.43</td>\n",
       "      <td>34.53</td>\n",
       "      <td>1011</td>\n",
       "      <td>87</td>\n",
       "      <td>26.05</td>\n",
       "      <td>0.0</td>\n",
       "      <td>94</td>\n",
       "      <td>10000</td>\n",
       "      <td>4.15</td>\n",
       "      <td>100</td>\n",
       "      <td>6.53</td>\n",
       "      <td>[{'id': 500, 'main': 'Rain', 'description': 'l...</td>\n",
       "      <td>0.66</td>\n",
       "      <td>{'1h': 0.49}</td>\n",
       "    </tr>\n",
       "    <tr>\n",
       "      <th>1</th>\n",
       "      <td>1630512000</td>\n",
       "      <td>28.24</td>\n",
       "      <td>33.76</td>\n",
       "      <td>1011</td>\n",
       "      <td>86</td>\n",
       "      <td>25.67</td>\n",
       "      <td>0.0</td>\n",
       "      <td>94</td>\n",
       "      <td>10000</td>\n",
       "      <td>4.07</td>\n",
       "      <td>93</td>\n",
       "      <td>6.01</td>\n",
       "      <td>[{'id': 804, 'main': 'Clouds', 'description': ...</td>\n",
       "      <td>0.66</td>\n",
       "      <td>NaN</td>\n",
       "    </tr>\n",
       "    <tr>\n",
       "      <th>2</th>\n",
       "      <td>1630515600</td>\n",
       "      <td>28.06</td>\n",
       "      <td>33.07</td>\n",
       "      <td>1011</td>\n",
       "      <td>85</td>\n",
       "      <td>25.30</td>\n",
       "      <td>0.0</td>\n",
       "      <td>95</td>\n",
       "      <td>10000</td>\n",
       "      <td>4.17</td>\n",
       "      <td>90</td>\n",
       "      <td>6.02</td>\n",
       "      <td>[{'id': 804, 'main': 'Clouds', 'description': ...</td>\n",
       "      <td>0.58</td>\n",
       "      <td>NaN</td>\n",
       "    </tr>\n",
       "    <tr>\n",
       "      <th>3</th>\n",
       "      <td>1630519200</td>\n",
       "      <td>27.83</td>\n",
       "      <td>32.27</td>\n",
       "      <td>1010</td>\n",
       "      <td>84</td>\n",
       "      <td>24.88</td>\n",
       "      <td>0.0</td>\n",
       "      <td>96</td>\n",
       "      <td>10000</td>\n",
       "      <td>4.20</td>\n",
       "      <td>91</td>\n",
       "      <td>5.82</td>\n",
       "      <td>[{'id': 804, 'main': 'Clouds', 'description': ...</td>\n",
       "      <td>0.54</td>\n",
       "      <td>NaN</td>\n",
       "    </tr>\n",
       "    <tr>\n",
       "      <th>4</th>\n",
       "      <td>1630522800</td>\n",
       "      <td>27.57</td>\n",
       "      <td>31.57</td>\n",
       "      <td>1009</td>\n",
       "      <td>84</td>\n",
       "      <td>24.62</td>\n",
       "      <td>0.0</td>\n",
       "      <td>98</td>\n",
       "      <td>10000</td>\n",
       "      <td>3.94</td>\n",
       "      <td>92</td>\n",
       "      <td>5.53</td>\n",
       "      <td>[{'id': 804, 'main': 'Clouds', 'description': ...</td>\n",
       "      <td>0.29</td>\n",
       "      <td>NaN</td>\n",
       "    </tr>\n",
       "  </tbody>\n",
       "</table>\n",
       "</div>"
      ],
      "text/plain": [
       "           dt   temp  feels_like  pressure  humidity  dew_point  uvi  clouds  \\\n",
       "0  1630508400  28.43       34.53      1011        87      26.05  0.0      94   \n",
       "1  1630512000  28.24       33.76      1011        86      25.67  0.0      94   \n",
       "2  1630515600  28.06       33.07      1011        85      25.30  0.0      95   \n",
       "3  1630519200  27.83       32.27      1010        84      24.88  0.0      96   \n",
       "4  1630522800  27.57       31.57      1009        84      24.62  0.0      98   \n",
       "\n",
       "   visibility  wind_speed  wind_deg  wind_gust  \\\n",
       "0       10000        4.15       100       6.53   \n",
       "1       10000        4.07        93       6.01   \n",
       "2       10000        4.17        90       6.02   \n",
       "3       10000        4.20        91       5.82   \n",
       "4       10000        3.94        92       5.53   \n",
       "\n",
       "                                             weather   pop          rain  \n",
       "0  [{'id': 500, 'main': 'Rain', 'description': 'l...  0.66  {'1h': 0.49}  \n",
       "1  [{'id': 804, 'main': 'Clouds', 'description': ...  0.66           NaN  \n",
       "2  [{'id': 804, 'main': 'Clouds', 'description': ...  0.58           NaN  \n",
       "3  [{'id': 804, 'main': 'Clouds', 'description': ...  0.54           NaN  \n",
       "4  [{'id': 804, 'main': 'Clouds', 'description': ...  0.29           NaN  "
      ]
     },
     "execution_count": 10,
     "metadata": {},
     "output_type": "execute_result"
    }
   ],
   "source": [
    "df_hourly.head()"
   ]
  },
  {
   "cell_type": "code",
   "execution_count": null,
   "metadata": {},
   "outputs": [],
   "source": []
  }
 ],
 "metadata": {
  "interpreter": {
   "hash": "c1b4cfe941b6d2466ad1fb5979e97da9cda8801728c8091b097ab734208fc00c"
  },
  "kernelspec": {
   "display_name": "Python 3.8.3 64-bit ('base': conda)",
   "name": "python3"
  },
  "language_info": {
   "codemirror_mode": {
    "name": "ipython",
    "version": 3
   },
   "file_extension": ".py",
   "mimetype": "text/x-python",
   "name": "python",
   "nbconvert_exporter": "python",
   "pygments_lexer": "ipython3",
   "version": "3.8.11"
  }
 },
 "nbformat": 4,
 "nbformat_minor": 2
}
