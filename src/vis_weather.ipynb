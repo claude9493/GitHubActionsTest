{
 "cells": [
  {
   "cell_type": "code",
   "execution_count": 1,
   "metadata": {
    "execution": {
     "iopub.execute_input": "2021-09-15T03:12:14.902012Z",
     "iopub.status.busy": "2021-09-15T03:12:14.901465Z",
     "iopub.status.idle": "2021-09-15T03:12:16.084854Z",
     "shell.execute_reply": "2021-09-15T03:12:16.085310Z"
    }
   },
   "outputs": [],
   "source": [
    "import json, yaml, requests\r\n",
    "from datetime import datetime\r\n",
    "from dateutil import tz\r\n",
    "import pandas as pd\r\n",
    "from PIL import Image\r\n",
    "from io import BytesIO\r\n",
    "import matplotlib.pyplot as plt\r\n",
    "import seaborn\r\n",
    "\r\n",
    "CONFIG_PATH = \"../config/config.yaml\""
   ]
  },
  {
   "cell_type": "code",
   "execution_count": 2,
   "metadata": {
    "execution": {
     "iopub.execute_input": "2021-09-15T03:12:16.092605Z",
     "iopub.status.busy": "2021-09-15T03:12:16.089796Z",
     "iopub.status.idle": "2021-09-15T03:12:16.095128Z",
     "shell.execute_reply": "2021-09-15T03:12:16.094749Z"
    }
   },
   "outputs": [],
   "source": [
    "with open('../newest_ts', 'r') as f:\r\n",
    "    newest_ts = f.read()\r\n",
    "\r\n",
    "data_path = f\"../data/data_{newest_ts}.json\"\r\n",
    "with open(data_path, 'r') as f:\r\n",
    "    data = json.load(f)\r\n",
    "\r\n",
    "with open(CONFIG_PATH, \"r\") as stream:\r\n",
    "    config = yaml.safe_load(stream)\r\n",
    "\r\n",
    "TIME_ZONE = config['time_zone']\r\n",
    "DATETIME_FORMAT = config['dt_format']"
   ]
  },
  {
   "cell_type": "code",
   "execution_count": 3,
   "metadata": {
    "execution": {
     "iopub.execute_input": "2021-09-15T03:12:16.099251Z",
     "iopub.status.busy": "2021-09-15T03:12:16.098796Z",
     "iopub.status.idle": "2021-09-15T03:12:16.102887Z",
     "shell.execute_reply": "2021-09-15T03:12:16.103260Z"
    }
   },
   "outputs": [
    {
     "name": "stdout",
     "output_type": "stream",
     "text": [
      "Recent query happens at 2021-09-15 11:12:11 (CST).\n"
     ]
    }
   ],
   "source": [
    "def ts2dt(ts, format=DATETIME_FORMAT):\r\n",
    "    dt = (datetime.utcfromtimestamp(int(ts))\r\n",
    "                    .replace(tzinfo=tz.tzutc())\r\n",
    "                    # .astimezone(tz.tzlocal())\r\n",
    "                    .astimezone(tz.gettz(TIME_ZONE)))\r\n",
    "    return dt.strftime(format), dt\r\n",
    "\r\n",
    "_, newest_dt = ts2dt(newest_ts)\r\n",
    "print(f\"Recent query happens at {newest_dt.strftime(DATETIME_FORMAT)} ({newest_dt.tzname()}).\")"
   ]
  },
  {
   "cell_type": "code",
   "execution_count": 4,
   "metadata": {
    "execution": {
     "iopub.execute_input": "2021-09-15T03:12:16.108050Z",
     "iopub.status.busy": "2021-09-15T03:12:16.106955Z",
     "iopub.status.idle": "2021-09-15T03:12:16.108565Z",
     "shell.execute_reply": "2021-09-15T03:12:16.108928Z"
    }
   },
   "outputs": [],
   "source": [
    "def degrees_to_cardinal(d):\r\n",
    "  dirs = ['N', 'NNE', 'NE', 'ENE', 'E', 'ESE', 'SE', 'SSE', 'S', 'SSW', 'SW', 'WSW', 'W', 'WNW', 'NW', 'NNW']\r\n",
    "  ix = int(round(d / (360. / len(dirs))))\r\n",
    "  return dirs[ix % len(dirs)]"
   ]
  },
  {
   "cell_type": "code",
   "execution_count": 5,
   "metadata": {
    "execution": {
     "iopub.execute_input": "2021-09-15T03:12:16.112740Z",
     "iopub.status.busy": "2021-09-15T03:12:16.111708Z",
     "iopub.status.idle": "2021-09-15T03:12:16.113248Z",
     "shell.execute_reply": "2021-09-15T03:12:16.113608Z"
    }
   },
   "outputs": [],
   "source": [
    "# data.keys()"
   ]
  },
  {
   "cell_type": "code",
   "execution_count": 6,
   "metadata": {
    "execution": {
     "iopub.execute_input": "2021-09-15T03:12:16.117125Z",
     "iopub.status.busy": "2021-09-15T03:12:16.116145Z",
     "iopub.status.idle": "2021-09-15T03:12:16.117635Z",
     "shell.execute_reply": "2021-09-15T03:12:16.117995Z"
    }
   },
   "outputs": [],
   "source": [
    "# data['current']"
   ]
  },
  {
   "cell_type": "code",
   "execution_count": 7,
   "metadata": {
    "execution": {
     "iopub.execute_input": "2021-09-15T03:12:16.134415Z",
     "iopub.status.busy": "2021-09-15T03:12:16.133946Z",
     "iopub.status.idle": "2021-09-15T03:12:16.534695Z",
     "shell.execute_reply": "2021-09-15T03:12:16.534294Z"
    }
   },
   "outputs": [
    {
     "data": {
      "image/png": "[encoded data removed]",
      "text/plain": [
       "<Figure size 216x216 with 1 Axes>"
      ]
     },
     "metadata": {
      "needs_background": "light"
     },
     "output_type": "display_data"
    },
    {
     "name": "stdout",
     "output_type": "stream",
     "text": [
      "Today, sun rises at 06:09 and sets at 18:27.\n",
      "Currently, the weather is Clouds (scattered clouds).\n",
      "The temperature is 33.03°C and it feels like 40.03°C.\n",
      "The UV index is 9.11, humidity is 66%.\n",
      "The pressure is 1012 hPa, percentage of cloud cover is 37%\n",
      "The wind comes from W direction with a speed 2.45 m/s.\n"
     ]
    }
   ],
   "source": [
    "current = data['current']\r\n",
    "\r\n",
    "fig, ax = plt.subplots(figsize=(3, 3))\r\n",
    "icon = requests.get(f\"http://openweathermap.org/img/wn/{current['weather'][0]['icon']}@2x.png\")\r\n",
    "im = Image.open(BytesIO(icon.content))\r\n",
    "plt.imshow(im)\r\n",
    "ax.set_axis_off()\r\n",
    "plt.show()\r\n",
    "\r\n",
    "print(f\"Today, sun rises at {ts2dt(current['sunrise'], '%H:%M')[0]} \\\r\n",
    "and sets at {ts2dt(current['sunset'], '%H:%M')[0]}.\\n\\\r\n",
    "Currently, the weather is {current['weather'][0]['main']} ({current['weather'][0]['description']}).\\n\\\r\n",
    "The temperature is {current['temp']}°C and it feels like {current['feels_like']}°C.\\n\\\r\n",
    "The UV index is {current['uvi']}, humidity is {current['humidity']}%.\\n\\\r\n",
    "The pressure is {current['pressure']} hPa, percentage of cloud cover is {current['clouds']}%\\n\\\r\n",
    "The wind comes from {degrees_to_cardinal(current['wind_deg'])} direction with a speed {current['wind_speed']} m/s.\")"
   ]
  },
  {
   "cell_type": "code",
   "execution_count": 8,
   "metadata": {
    "execution": {
     "iopub.execute_input": "2021-09-15T03:12:16.542020Z",
     "iopub.status.busy": "2021-09-15T03:12:16.541231Z",
     "iopub.status.idle": "2021-09-15T03:12:16.542857Z",
     "shell.execute_reply": "2021-09-15T03:12:16.543224Z"
    }
   },
   "outputs": [],
   "source": [
    "df_hourly = pd.DataFrame(data['hourly'])\r\n",
    "df_daily = pd.DataFrame(data['daily'])"
   ]
  },
  {
   "cell_type": "code",
   "execution_count": 9,
   "metadata": {
    "execution": {
     "iopub.execute_input": "2021-09-15T03:12:16.556409Z",
     "iopub.status.busy": "2021-09-15T03:12:16.551191Z",
     "iopub.status.idle": "2021-09-15T03:12:16.792754Z",
     "shell.execute_reply": "2021-09-15T03:12:16.791906Z"
    }
   },
   "outputs": [
    {
     "data": {
      "image/png": "[encoded data removed]",
      "text/plain": [
       "<Figure size 864x432 with 1 Axes>"
      ]
     },
     "metadata": {
      "needs_background": "light"
     },
     "output_type": "display_data"
    }
   ],
   "source": [
    "fig, ax = plt.subplots(figsize=(12, 6))\r\n",
    "plt.plot(df_hourly.temp, '.-', label='Temperature')\r\n",
    "plt.plot(df_hourly.feels_like, '.-', label='Feels Like')\r\n",
    "ax.set(title='Temperature in future 48 hours', xlabel='Time', ylabel='Temperature')\r\n",
    "ax.set_xticks(list(range(0, len(df_hourly), 2)))\r\n",
    "ax.set_xticklabels([ts2dt(ts, '%m-%d %H:%M')[0] for i, ts in enumerate(df_hourly.dt) if i%2==0], \r\n",
    "                   rotation=45, ha=\"right\")\r\n",
    "ax.locator_params(nbins=15, axis='y')\r\n",
    "plt.legend()\r\n",
    "plt.show()"
   ]
  },
  {
   "cell_type": "code",
   "execution_count": 10,
   "metadata": {
    "execution": {
     "iopub.execute_input": "2021-09-15T03:12:16.797248Z",
     "iopub.status.busy": "2021-09-15T03:12:16.794785Z",
     "iopub.status.idle": "2021-09-15T03:12:16.814866Z",
     "shell.execute_reply": "2021-09-15T03:12:16.814457Z"
    }
   },
   "outputs": [
    {
     "data": {
      "text/html": [
       "<div>\n",
       "<style scoped>\n",
       "    .dataframe tbody tr th:only-of-type {\n",
       "        vertical-align: middle;\n",
       "    }\n",
       "\n",
       "    .dataframe tbody tr th {\n",
       "        vertical-align: top;\n",
       "    }\n",
       "\n",
       "    .dataframe thead th {\n",
       "        text-align: right;\n",
       "    }\n",
       "</style>\n",
       "<table border=\"1\" class=\"dataframe\">\n",
       "  <thead>\n",
       "    <tr style=\"text-align: right;\">\n",
       "      <th></th>\n",
       "      <th>dt</th>\n",
       "      <th>temp</th>\n",
       "      <th>feels_like</th>\n",
       "      <th>pressure</th>\n",
       "      <th>humidity</th>\n",
       "      <th>dew_point</th>\n",
       "      <th>uvi</th>\n",
       "      <th>clouds</th>\n",
       "      <th>visibility</th>\n",
       "      <th>wind_speed</th>\n",
       "      <th>wind_deg</th>\n",
       "      <th>wind_gust</th>\n",
       "      <th>weather</th>\n",
       "      <th>pop</th>\n",
       "      <th>rain</th>\n",
       "    </tr>\n",
       "  </thead>\n",
       "  <tbody>\n",
       "    <tr>\n",
       "      <th>0</th>\n",
       "      <td>1631674800</td>\n",
       "      <td>33.03</td>\n",
       "      <td>40.03</td>\n",
       "      <td>1012</td>\n",
       "      <td>66</td>\n",
       "      <td>25.82</td>\n",
       "      <td>9.11</td>\n",
       "      <td>37</td>\n",
       "      <td>10000</td>\n",
       "      <td>2.45</td>\n",
       "      <td>268</td>\n",
       "      <td>2.65</td>\n",
       "      <td>[{'id': 500, 'main': 'Rain', 'description': 'l...</td>\n",
       "      <td>0.37</td>\n",
       "      <td>{'1h': 0.21}</td>\n",
       "    </tr>\n",
       "    <tr>\n",
       "      <th>1</th>\n",
       "      <td>1631678400</td>\n",
       "      <td>32.72</td>\n",
       "      <td>39.72</td>\n",
       "      <td>1012</td>\n",
       "      <td>65</td>\n",
       "      <td>25.27</td>\n",
       "      <td>10.65</td>\n",
       "      <td>38</td>\n",
       "      <td>10000</td>\n",
       "      <td>2.93</td>\n",
       "      <td>253</td>\n",
       "      <td>3.02</td>\n",
       "      <td>[{'id': 802, 'main': 'Clouds', 'description': ...</td>\n",
       "      <td>0.29</td>\n",
       "      <td>NaN</td>\n",
       "    </tr>\n",
       "    <tr>\n",
       "      <th>2</th>\n",
       "      <td>1631682000</td>\n",
       "      <td>32.41</td>\n",
       "      <td>39.41</td>\n",
       "      <td>1012</td>\n",
       "      <td>65</td>\n",
       "      <td>24.98</td>\n",
       "      <td>10.47</td>\n",
       "      <td>44</td>\n",
       "      <td>10000</td>\n",
       "      <td>3.80</td>\n",
       "      <td>246</td>\n",
       "      <td>3.76</td>\n",
       "      <td>[{'id': 802, 'main': 'Clouds', 'description': ...</td>\n",
       "      <td>0.33</td>\n",
       "      <td>NaN</td>\n",
       "    </tr>\n",
       "    <tr>\n",
       "      <th>3</th>\n",
       "      <td>1631685600</td>\n",
       "      <td>32.05</td>\n",
       "      <td>38.80</td>\n",
       "      <td>1011</td>\n",
       "      <td>65</td>\n",
       "      <td>24.64</td>\n",
       "      <td>8.61</td>\n",
       "      <td>52</td>\n",
       "      <td>10000</td>\n",
       "      <td>4.59</td>\n",
       "      <td>249</td>\n",
       "      <td>4.55</td>\n",
       "      <td>[{'id': 803, 'main': 'Clouds', 'description': ...</td>\n",
       "      <td>0.33</td>\n",
       "      <td>NaN</td>\n",
       "    </tr>\n",
       "    <tr>\n",
       "      <th>4</th>\n",
       "      <td>1631689200</td>\n",
       "      <td>31.46</td>\n",
       "      <td>37.90</td>\n",
       "      <td>1010</td>\n",
       "      <td>67</td>\n",
       "      <td>24.59</td>\n",
       "      <td>5.67</td>\n",
       "      <td>87</td>\n",
       "      <td>10000</td>\n",
       "      <td>4.94</td>\n",
       "      <td>252</td>\n",
       "      <td>5.16</td>\n",
       "      <td>[{'id': 804, 'main': 'Clouds', 'description': ...</td>\n",
       "      <td>0.12</td>\n",
       "      <td>NaN</td>\n",
       "    </tr>\n",
       "  </tbody>\n",
       "</table>\n",
       "</div>"
      ],
      "text/plain": [
       "           dt   temp  feels_like  pressure  humidity  dew_point    uvi  \\\n",
       "0  1631674800  33.03       40.03      1012        66      25.82   9.11   \n",
       "1  1631678400  32.72       39.72      1012        65      25.27  10.65   \n",
       "2  1631682000  32.41       39.41      1012        65      24.98  10.47   \n",
       "3  1631685600  32.05       38.80      1011        65      24.64   8.61   \n",
       "4  1631689200  31.46       37.90      1010        67      24.59   5.67   \n",
       "\n",
       "   clouds  visibility  wind_speed  wind_deg  wind_gust  \\\n",
       "0      37       10000        2.45       268       2.65   \n",
       "1      38       10000        2.93       253       3.02   \n",
       "2      44       10000        3.80       246       3.76   \n",
       "3      52       10000        4.59       249       4.55   \n",
       "4      87       10000        4.94       252       5.16   \n",
       "\n",
       "                                             weather   pop          rain  \n",
       "0  [{'id': 500, 'main': 'Rain', 'description': 'l...  0.37  {'1h': 0.21}  \n",
       "1  [{'id': 802, 'main': 'Clouds', 'description': ...  0.29           NaN  \n",
       "2  [{'id': 802, 'main': 'Clouds', 'description': ...  0.33           NaN  \n",
       "3  [{'id': 803, 'main': 'Clouds', 'description': ...  0.33           NaN  \n",
       "4  [{'id': 804, 'main': 'Clouds', 'description': ...  0.12           NaN  "
      ]
     },
     "execution_count": 10,
     "metadata": {},
     "output_type": "execute_result"
    }
   ],
   "source": [
    "df_hourly.head()"
   ]
  },
  {
   "cell_type": "code",
   "execution_count": null,
   "metadata": {},
   "outputs": [],
   "source": []
  }
 ],
 "metadata": {
  "interpreter": {
   "hash": "c1b4cfe941b6d2466ad1fb5979e97da9cda8801728c8091b097ab734208fc00c"
  },
  "kernelspec": {
   "display_name": "Python 3.8.3 64-bit ('base': conda)",
   "name": "python3"
  },
  "language_info": {
   "codemirror_mode": {
    "name": "ipython",
    "version": 3
   },
   "file_extension": ".py",
   "mimetype": "text/x-python",
   "name": "python",
   "nbconvert_exporter": "python",
   "pygments_lexer": "ipython3",
   "version": "3.8.11"
  }
 },
 "nbformat": 4,
 "nbformat_minor": 2
}
