{
 "cells": [
  {
   "cell_type": "code",
   "execution_count": 1,
   "metadata": {
    "execution": {
     "iopub.execute_input": "2021-09-28T00:39:20.040752Z",
     "iopub.status.busy": "2021-09-28T00:39:20.040096Z",
     "iopub.status.idle": "2021-09-28T00:39:22.002972Z",
     "shell.execute_reply": "2021-09-28T00:39:22.003492Z"
    }
   },
   "outputs": [],
   "source": [
    "import json, yaml, requests\r\n",
    "from datetime import datetime\r\n",
    "from dateutil import tz\r\n",
    "import pandas as pd\r\n",
    "from PIL import Image\r\n",
    "from io import BytesIO\r\n",
    "import matplotlib.pyplot as plt\r\n",
    "import seaborn\r\n",
    "\r\n",
    "CONFIG_PATH = \"../config/config.yaml\""
   ]
  },
  {
   "cell_type": "code",
   "execution_count": 2,
   "metadata": {
    "execution": {
     "iopub.execute_input": "2021-09-28T00:39:22.009647Z",
     "iopub.status.busy": "2021-09-28T00:39:22.008877Z",
     "iopub.status.idle": "2021-09-28T00:39:22.015227Z",
     "shell.execute_reply": "2021-09-28T00:39:22.014632Z"
    }
   },
   "outputs": [],
   "source": [
    "with open('../newest_ts', 'r') as f:\r\n",
    "    newest_ts = f.read()\r\n",
    "\r\n",
    "data_path = f\"../data/data_{newest_ts}.json\"\r\n",
    "with open(data_path, 'r') as f:\r\n",
    "    data = json.load(f)\r\n",
    "\r\n",
    "with open(CONFIG_PATH, \"r\") as stream:\r\n",
    "    config = yaml.safe_load(stream)\r\n",
    "\r\n",
    "TIME_ZONE = config['time_zone']\r\n",
    "DATETIME_FORMAT = config['dt_format']"
   ]
  },
  {
   "cell_type": "code",
   "execution_count": 3,
   "metadata": {
    "execution": {
     "iopub.execute_input": "2021-09-28T00:39:22.022799Z",
     "iopub.status.busy": "2021-09-28T00:39:22.020151Z",
     "iopub.status.idle": "2021-09-28T00:39:22.027043Z",
     "shell.execute_reply": "2021-09-28T00:39:22.027597Z"
    }
   },
   "outputs": [
    {
     "name": "stdout",
     "output_type": "stream",
     "text": [
      "Recent query happens at 2021-09-28 08:39:15 (CST).\n"
     ]
    }
   ],
   "source": [
    "def ts2dt(ts, format=DATETIME_FORMAT):\r\n",
    "    dt = (datetime.utcfromtimestamp(int(ts))\r\n",
    "                    .replace(tzinfo=tz.tzutc())\r\n",
    "                    # .astimezone(tz.tzlocal())\r\n",
    "                    .astimezone(tz.gettz(TIME_ZONE)))\r\n",
    "    return dt.strftime(format), dt\r\n",
    "\r\n",
    "_, newest_dt = ts2dt(newest_ts)\r\n",
    "print(f\"Recent query happens at {newest_dt.strftime(DATETIME_FORMAT)} ({newest_dt.tzname()}).\")"
   ]
  },
  {
   "cell_type": "code",
   "execution_count": 4,
   "metadata": {
    "execution": {
     "iopub.execute_input": "2021-09-28T00:39:22.033363Z",
     "iopub.status.busy": "2021-09-28T00:39:22.032573Z",
     "iopub.status.idle": "2021-09-28T00:39:22.039948Z",
     "shell.execute_reply": "2021-09-28T00:39:22.040392Z"
    }
   },
   "outputs": [],
   "source": [
    "def degrees_to_cardinal(d):\r\n",
    "  dirs = ['N', 'NNE', 'NE', 'ENE', 'E', 'ESE', 'SE', 'SSE', 'S', 'SSW', 'SW', 'WSW', 'W', 'WNW', 'NW', 'NNW']\r\n",
    "  ix = int(round(d / (360. / len(dirs))))\r\n",
    "  return dirs[ix % len(dirs)]"
   ]
  },
  {
   "cell_type": "code",
   "execution_count": 5,
   "metadata": {
    "execution": {
     "iopub.execute_input": "2021-09-28T00:39:22.045428Z",
     "iopub.status.busy": "2021-09-28T00:39:22.044336Z",
     "iopub.status.idle": "2021-09-28T00:39:22.049938Z",
     "shell.execute_reply": "2021-09-28T00:39:22.049475Z"
    }
   },
   "outputs": [],
   "source": [
    "# data.keys()"
   ]
  },
  {
   "cell_type": "code",
   "execution_count": 6,
   "metadata": {
    "execution": {
     "iopub.execute_input": "2021-09-28T00:39:22.054536Z",
     "iopub.status.busy": "2021-09-28T00:39:22.053165Z",
     "iopub.status.idle": "2021-09-28T00:39:22.055138Z",
     "shell.execute_reply": "2021-09-28T00:39:22.055563Z"
    }
   },
   "outputs": [],
   "source": [
    "# data['current']"
   ]
  },
  {
   "cell_type": "code",
   "execution_count": 7,
   "metadata": {
    "execution": {
     "iopub.execute_input": "2021-09-28T00:39:22.078274Z",
     "iopub.status.busy": "2021-09-28T00:39:22.077675Z",
     "iopub.status.idle": "2021-09-28T00:39:22.366504Z",
     "shell.execute_reply": "2021-09-28T00:39:22.367348Z"
    }
   },
   "outputs": [
    {
     "data": {
      "image/png": "[encoded data removed]",
      "text/plain": [
       "<Figure size 216x216 with 1 Axes>"
      ]
     },
     "metadata": {
      "needs_background": "light"
     },
     "output_type": "display_data"
    },
    {
     "name": "stdout",
     "output_type": "stream",
     "text": [
      "Today, sun rises at 06:13 and sets at 18:13.\n",
      "Currently, the weather is Clear (clear sky).\n",
      "The temperature is 29.28°C and it feels like 35.77°C.\n",
      "The UV index is 2.99, humidity is 81%.\n",
      "The pressure is 1007 hPa, percentage of cloud cover is 5%\n",
      "The wind comes from SW direction with a speed 1.34 m/s.\n"
     ]
    }
   ],
   "source": [
    "current = data['current']\r\n",
    "\r\n",
    "fig, ax = plt.subplots(figsize=(3, 3))\r\n",
    "icon = requests.get(f\"http://openweathermap.org/img/wn/{current['weather'][0]['icon']}@2x.png\")\r\n",
    "im = Image.open(BytesIO(icon.content))\r\n",
    "plt.imshow(im)\r\n",
    "ax.set_axis_off()\r\n",
    "plt.show()\r\n",
    "\r\n",
    "print(f\"Today, sun rises at {ts2dt(current['sunrise'], '%H:%M')[0]} \\\r\n",
    "and sets at {ts2dt(current['sunset'], '%H:%M')[0]}.\\n\\\r\n",
    "Currently, the weather is {current['weather'][0]['main']} ({current['weather'][0]['description']}).\\n\\\r\n",
    "The temperature is {current['temp']}°C and it feels like {current['feels_like']}°C.\\n\\\r\n",
    "The UV index is {current['uvi']}, humidity is {current['humidity']}%.\\n\\\r\n",
    "The pressure is {current['pressure']} hPa, percentage of cloud cover is {current['clouds']}%\\n\\\r\n",
    "The wind comes from {degrees_to_cardinal(current['wind_deg'])} direction with a speed {current['wind_speed']} m/s.\")"
   ]
  },
  {
   "cell_type": "code",
   "execution_count": 8,
   "metadata": {
    "execution": {
     "iopub.execute_input": "2021-09-28T00:39:22.371223Z",
     "iopub.status.busy": "2021-09-28T00:39:22.370069Z",
     "iopub.status.idle": "2021-09-28T00:39:22.378268Z",
     "shell.execute_reply": "2021-09-28T00:39:22.379091Z"
    }
   },
   "outputs": [],
   "source": [
    "df_hourly = pd.DataFrame(data['hourly'])\r\n",
    "df_daily = pd.DataFrame(data['daily'])"
   ]
  },
  {
   "cell_type": "code",
   "execution_count": 9,
   "metadata": {
    "execution": {
     "iopub.execute_input": "2021-09-28T00:39:22.383112Z",
     "iopub.status.busy": "2021-09-28T00:39:22.381673Z",
     "iopub.status.idle": "2021-09-28T00:39:22.676919Z",
     "shell.execute_reply": "2021-09-28T00:39:22.677366Z"
    }
   },
   "outputs": [
    {
     "data": {
      "image/png": "[encoded data removed]",
      "text/plain": [
       "<Figure size 864x432 with 1 Axes>"
      ]
     },
     "metadata": {
      "needs_background": "light"
     },
     "output_type": "display_data"
    }
   ],
   "source": [
    "fig, ax = plt.subplots(figsize=(12, 6))\r\n",
    "plt.plot(df_hourly.temp, '.-', label='Temperature')\r\n",
    "plt.plot(df_hourly.feels_like, '.-', label='Feels Like')\r\n",
    "ax.set(title='Temperature in future 48 hours', xlabel='Time', ylabel='Temperature')\r\n",
    "ax.set_xticks(list(range(0, len(df_hourly), 2)))\r\n",
    "ax.set_xticklabels([ts2dt(ts, '%m-%d %H:%M')[0] for i, ts in enumerate(df_hourly.dt) if i%2==0], \r\n",
    "                   rotation=45, ha=\"right\")\r\n",
    "ax.locator_params(nbins=15, axis='y')\r\n",
    "plt.legend()\r\n",
    "plt.show()"
   ]
  },
  {
   "cell_type": "code",
   "execution_count": 10,
   "metadata": {
    "execution": {
     "iopub.execute_input": "2021-09-28T00:39:22.682916Z",
     "iopub.status.busy": "2021-09-28T00:39:22.682290Z",
     "iopub.status.idle": "2021-09-28T00:39:22.703057Z",
     "shell.execute_reply": "2021-09-28T00:39:22.702574Z"
    }
   },
   "outputs": [
    {
     "data": {
      "text/html": [
       "<div>\n",
       "<style scoped>\n",
       "    .dataframe tbody tr th:only-of-type {\n",
       "        vertical-align: middle;\n",
       "    }\n",
       "\n",
       "    .dataframe tbody tr th {\n",
       "        vertical-align: top;\n",
       "    }\n",
       "\n",
       "    .dataframe thead th {\n",
       "        text-align: right;\n",
       "    }\n",
       "</style>\n",
       "<table border=\"1\" class=\"dataframe\">\n",
       "  <thead>\n",
       "    <tr style=\"text-align: right;\">\n",
       "      <th></th>\n",
       "      <th>dt</th>\n",
       "      <th>temp</th>\n",
       "      <th>feels_like</th>\n",
       "      <th>pressure</th>\n",
       "      <th>humidity</th>\n",
       "      <th>dew_point</th>\n",
       "      <th>uvi</th>\n",
       "      <th>clouds</th>\n",
       "      <th>visibility</th>\n",
       "      <th>wind_speed</th>\n",
       "      <th>wind_deg</th>\n",
       "      <th>wind_gust</th>\n",
       "      <th>weather</th>\n",
       "      <th>pop</th>\n",
       "      <th>rain</th>\n",
       "    </tr>\n",
       "  </thead>\n",
       "  <tbody>\n",
       "    <tr>\n",
       "      <th>0</th>\n",
       "      <td>1632787200</td>\n",
       "      <td>29.03</td>\n",
       "      <td>34.61</td>\n",
       "      <td>1008</td>\n",
       "      <td>79</td>\n",
       "      <td>25.01</td>\n",
       "      <td>1.04</td>\n",
       "      <td>4</td>\n",
       "      <td>10000</td>\n",
       "      <td>2.00</td>\n",
       "      <td>73</td>\n",
       "      <td>2.16</td>\n",
       "      <td>[{'id': 800, 'main': 'Clear', 'description': '...</td>\n",
       "      <td>0.0</td>\n",
       "      <td>NaN</td>\n",
       "    </tr>\n",
       "    <tr>\n",
       "      <th>1</th>\n",
       "      <td>1632790800</td>\n",
       "      <td>29.28</td>\n",
       "      <td>35.77</td>\n",
       "      <td>1007</td>\n",
       "      <td>81</td>\n",
       "      <td>25.68</td>\n",
       "      <td>2.99</td>\n",
       "      <td>5</td>\n",
       "      <td>10000</td>\n",
       "      <td>2.32</td>\n",
       "      <td>87</td>\n",
       "      <td>2.21</td>\n",
       "      <td>[{'id': 800, 'main': 'Clear', 'description': '...</td>\n",
       "      <td>0.0</td>\n",
       "      <td>NaN</td>\n",
       "    </tr>\n",
       "    <tr>\n",
       "      <th>2</th>\n",
       "      <td>1632794400</td>\n",
       "      <td>29.28</td>\n",
       "      <td>35.07</td>\n",
       "      <td>1008</td>\n",
       "      <td>78</td>\n",
       "      <td>25.04</td>\n",
       "      <td>5.70</td>\n",
       "      <td>5</td>\n",
       "      <td>10000</td>\n",
       "      <td>2.64</td>\n",
       "      <td>96</td>\n",
       "      <td>2.28</td>\n",
       "      <td>[{'id': 800, 'main': 'Clear', 'description': '...</td>\n",
       "      <td>0.0</td>\n",
       "      <td>NaN</td>\n",
       "    </tr>\n",
       "    <tr>\n",
       "      <th>3</th>\n",
       "      <td>1632798000</td>\n",
       "      <td>29.45</td>\n",
       "      <td>34.83</td>\n",
       "      <td>1009</td>\n",
       "      <td>75</td>\n",
       "      <td>24.55</td>\n",
       "      <td>8.28</td>\n",
       "      <td>6</td>\n",
       "      <td>10000</td>\n",
       "      <td>2.95</td>\n",
       "      <td>105</td>\n",
       "      <td>2.47</td>\n",
       "      <td>[{'id': 800, 'main': 'Clear', 'description': '...</td>\n",
       "      <td>0.0</td>\n",
       "      <td>NaN</td>\n",
       "    </tr>\n",
       "    <tr>\n",
       "      <th>4</th>\n",
       "      <td>1632801600</td>\n",
       "      <td>29.66</td>\n",
       "      <td>34.68</td>\n",
       "      <td>1009</td>\n",
       "      <td>72</td>\n",
       "      <td>24.07</td>\n",
       "      <td>9.47</td>\n",
       "      <td>10</td>\n",
       "      <td>10000</td>\n",
       "      <td>3.07</td>\n",
       "      <td>113</td>\n",
       "      <td>2.69</td>\n",
       "      <td>[{'id': 800, 'main': 'Clear', 'description': '...</td>\n",
       "      <td>0.0</td>\n",
       "      <td>NaN</td>\n",
       "    </tr>\n",
       "  </tbody>\n",
       "</table>\n",
       "</div>"
      ],
      "text/plain": [
       "           dt   temp  feels_like  pressure  humidity  dew_point   uvi  clouds  \\\n",
       "0  1632787200  29.03       34.61      1008        79      25.01  1.04       4   \n",
       "1  1632790800  29.28       35.77      1007        81      25.68  2.99       5   \n",
       "2  1632794400  29.28       35.07      1008        78      25.04  5.70       5   \n",
       "3  1632798000  29.45       34.83      1009        75      24.55  8.28       6   \n",
       "4  1632801600  29.66       34.68      1009        72      24.07  9.47      10   \n",
       "\n",
       "   visibility  wind_speed  wind_deg  wind_gust  \\\n",
       "0       10000        2.00        73       2.16   \n",
       "1       10000        2.32        87       2.21   \n",
       "2       10000        2.64        96       2.28   \n",
       "3       10000        2.95       105       2.47   \n",
       "4       10000        3.07       113       2.69   \n",
       "\n",
       "                                             weather  pop rain  \n",
       "0  [{'id': 800, 'main': 'Clear', 'description': '...  0.0  NaN  \n",
       "1  [{'id': 800, 'main': 'Clear', 'description': '...  0.0  NaN  \n",
       "2  [{'id': 800, 'main': 'Clear', 'description': '...  0.0  NaN  \n",
       "3  [{'id': 800, 'main': 'Clear', 'description': '...  0.0  NaN  \n",
       "4  [{'id': 800, 'main': 'Clear', 'description': '...  0.0  NaN  "
      ]
     },
     "execution_count": 10,
     "metadata": {},
     "output_type": "execute_result"
    }
   ],
   "source": [
    "df_hourly.head()"
   ]
  },
  {
   "cell_type": "code",
   "execution_count": null,
   "metadata": {},
   "outputs": [],
   "source": []
  }
 ],
 "metadata": {
  "interpreter": {
   "hash": "c1b4cfe941b6d2466ad1fb5979e97da9cda8801728c8091b097ab734208fc00c"
  },
  "kernelspec": {
   "display_name": "Python 3.8.3 64-bit ('base': conda)",
   "name": "python3"
  },
  "language_info": {
   "codemirror_mode": {
    "name": "ipython",
    "version": 3
   },
   "file_extension": ".py",
   "mimetype": "text/x-python",
   "name": "python",
   "nbconvert_exporter": "python",
   "pygments_lexer": "ipython3",
   "version": "3.8.12"
  }
 },
 "nbformat": 4,
 "nbformat_minor": 2
}
