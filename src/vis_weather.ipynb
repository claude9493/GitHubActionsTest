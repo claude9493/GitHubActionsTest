{
 "cells": [
  {
   "cell_type": "code",
   "execution_count": 1,
   "metadata": {
    "execution": {
     "iopub.execute_input": "2021-08-23T00:45:22.109129Z",
     "iopub.status.busy": "2021-08-23T00:45:22.108512Z",
     "iopub.status.idle": "2021-08-23T00:45:24.556032Z",
     "shell.execute_reply": "2021-08-23T00:45:24.555513Z"
    }
   },
   "outputs": [],
   "source": [
    "import json\r\n",
    "from datetime import datetime\r\n",
    "from dateutil import tz\r\n",
    "import pandas as pd\r\n",
    "import matplotlib.pyplot as plt\r\n",
    "import seaborn\r\n"
   ]
  },
  {
   "cell_type": "code",
   "execution_count": 2,
   "metadata": {
    "execution": {
     "iopub.execute_input": "2021-08-23T00:45:24.561118Z",
     "iopub.status.busy": "2021-08-23T00:45:24.560086Z",
     "iopub.status.idle": "2021-08-23T00:45:24.564072Z",
     "shell.execute_reply": "2021-08-23T00:45:24.563354Z"
    }
   },
   "outputs": [],
   "source": [
    "with open('../newest_ts', 'r') as f:\r\n",
    "    ts = f.read()\r\n",
    "\r\n",
    "data_path = f\"../data/data_{ts}.json\"\r\n",
    "with open(data_path, 'r') as f:\r\n",
    "    data = json.load(f)"
   ]
  },
  {
   "cell_type": "code",
   "execution_count": 3,
   "metadata": {
    "execution": {
     "iopub.execute_input": "2021-08-23T00:45:24.568882Z",
     "iopub.status.busy": "2021-08-23T00:45:24.568162Z",
     "iopub.status.idle": "2021-08-23T00:45:24.570961Z",
     "shell.execute_reply": "2021-08-23T00:45:24.571373Z"
    }
   },
   "outputs": [
    {
     "name": "stdout",
     "output_type": "stream",
     "text": [
      "Recent query happens at 2021-08-23 00:45:19\n"
     ]
    }
   ],
   "source": [
    "def ts2dt(ts, format='%Y-%m-%d %H:%M:%S'):\r\n",
    "    return (datetime.utcfromtimestamp(int(ts))\r\n",
    "                    .replace(tzinfo=tz.tzutc())\r\n",
    "                    .astimezone(tz.tzlocal())\r\n",
    "                    .strftime(format))\r\n",
    "\r\n",
    "print(f\"Recent query happens at {ts2dt(ts)}\")"
   ]
  },
  {
   "cell_type": "code",
   "execution_count": 4,
   "metadata": {
    "execution": {
     "iopub.execute_input": "2021-08-23T00:45:24.577217Z",
     "iopub.status.busy": "2021-08-23T00:45:24.576737Z",
     "iopub.status.idle": "2021-08-23T00:45:24.579786Z",
     "shell.execute_reply": "2021-08-23T00:45:24.580185Z"
    }
   },
   "outputs": [
    {
     "data": {
      "text/plain": [
       "dict_keys(['lat', 'lon', 'timezone', 'timezone_offset', 'current', 'hourly', 'daily'])"
      ]
     },
     "execution_count": 4,
     "metadata": {},
     "output_type": "execute_result"
    }
   ],
   "source": [
    "data.keys()"
   ]
  },
  {
   "cell_type": "code",
   "execution_count": 5,
   "metadata": {
    "execution": {
     "iopub.execute_input": "2021-08-23T00:45:24.584852Z",
     "iopub.status.busy": "2021-08-23T00:45:24.584371Z",
     "iopub.status.idle": "2021-08-23T00:45:24.586779Z",
     "shell.execute_reply": "2021-08-23T00:45:24.587171Z"
    }
   },
   "outputs": [
    {
     "data": {
      "text/plain": [
       "{'dt': 1629679519,\n",
       " 'sunrise': 1629669780,\n",
       " 'sunset': 1629715720,\n",
       " 'temp': 30.06,\n",
       " 'feels_like': 37.06,\n",
       " 'pressure': 1008,\n",
       " 'humidity': 82,\n",
       " 'dew_point': 26.65,\n",
       " 'uvi': 4.24,\n",
       " 'clouds': 35,\n",
       " 'visibility': 10000,\n",
       " 'wind_speed': 3.32,\n",
       " 'wind_deg': 222,\n",
       " 'wind_gust': 4.54,\n",
       " 'weather': [{'id': 802,\n",
       "   'main': 'Clouds',\n",
       "   'description': 'scattered clouds',\n",
       "   'icon': '03d'}]}"
      ]
     },
     "execution_count": 5,
     "metadata": {},
     "output_type": "execute_result"
    }
   ],
   "source": [
    "data['current']"
   ]
  },
  {
   "cell_type": "code",
   "execution_count": 6,
   "metadata": {
    "execution": {
     "iopub.execute_input": "2021-08-23T00:45:24.593159Z",
     "iopub.status.busy": "2021-08-23T00:45:24.592562Z",
     "iopub.status.idle": "2021-08-23T00:45:24.594866Z",
     "shell.execute_reply": "2021-08-23T00:45:24.595277Z"
    }
   },
   "outputs": [
    {
     "data": {
      "text/plain": [
       "{'dt': 1629676800,\n",
       " 'temp': 29.8,\n",
       " 'feels_like': 36.8,\n",
       " 'pressure': 1008,\n",
       " 'humidity': 81,\n",
       " 'dew_point': 26.18,\n",
       " 'uvi': 1.7,\n",
       " 'clouds': 41,\n",
       " 'visibility': 10000,\n",
       " 'wind_speed': 3.84,\n",
       " 'wind_deg': 224,\n",
       " 'wind_gust': 5.27,\n",
       " 'weather': [{'id': 500,\n",
       "   'main': 'Rain',\n",
       "   'description': 'light rain',\n",
       "   'icon': '10d'}],\n",
       " 'pop': 0.67,\n",
       " 'rain': {'1h': 0.2}}"
      ]
     },
     "execution_count": 6,
     "metadata": {},
     "output_type": "execute_result"
    }
   ],
   "source": [
    "data['hourly'][0]"
   ]
  },
  {
   "cell_type": "code",
   "execution_count": 7,
   "metadata": {
    "execution": {
     "iopub.execute_input": "2021-08-23T00:45:24.600677Z",
     "iopub.status.busy": "2021-08-23T00:45:24.600104Z",
     "iopub.status.idle": "2021-08-23T00:45:24.604064Z",
     "shell.execute_reply": "2021-08-23T00:45:24.603647Z"
    }
   },
   "outputs": [],
   "source": [
    "df_hourly = pd.DataFrame(data['hourly'])\r\n",
    "df_daily = pd.DataFrame(data['daily'])"
   ]
  },
  {
   "cell_type": "code",
   "execution_count": 8,
   "metadata": {
    "execution": {
     "iopub.execute_input": "2021-08-23T00:45:24.607765Z",
     "iopub.status.busy": "2021-08-23T00:45:24.607285Z",
     "iopub.status.idle": "2021-08-23T00:45:24.623427Z",
     "shell.execute_reply": "2021-08-23T00:45:24.622991Z"
    }
   },
   "outputs": [
    {
     "data": {
      "text/html": [
       "<div>\n",
       "<style scoped>\n",
       "    .dataframe tbody tr th:only-of-type {\n",
       "        vertical-align: middle;\n",
       "    }\n",
       "\n",
       "    .dataframe tbody tr th {\n",
       "        vertical-align: top;\n",
       "    }\n",
       "\n",
       "    .dataframe thead th {\n",
       "        text-align: right;\n",
       "    }\n",
       "</style>\n",
       "<table border=\"1\" class=\"dataframe\">\n",
       "  <thead>\n",
       "    <tr style=\"text-align: right;\">\n",
       "      <th></th>\n",
       "      <th>dt</th>\n",
       "      <th>temp</th>\n",
       "      <th>feels_like</th>\n",
       "      <th>pressure</th>\n",
       "      <th>humidity</th>\n",
       "      <th>dew_point</th>\n",
       "      <th>uvi</th>\n",
       "      <th>clouds</th>\n",
       "      <th>visibility</th>\n",
       "      <th>wind_speed</th>\n",
       "      <th>wind_deg</th>\n",
       "      <th>wind_gust</th>\n",
       "      <th>weather</th>\n",
       "      <th>pop</th>\n",
       "      <th>rain</th>\n",
       "    </tr>\n",
       "  </thead>\n",
       "  <tbody>\n",
       "    <tr>\n",
       "      <th>0</th>\n",
       "      <td>1629676800</td>\n",
       "      <td>29.80</td>\n",
       "      <td>36.80</td>\n",
       "      <td>1008</td>\n",
       "      <td>81</td>\n",
       "      <td>26.18</td>\n",
       "      <td>1.70</td>\n",
       "      <td>41</td>\n",
       "      <td>10000</td>\n",
       "      <td>3.84</td>\n",
       "      <td>224</td>\n",
       "      <td>5.27</td>\n",
       "      <td>[{'id': 500, 'main': 'Rain', 'description': 'l...</td>\n",
       "      <td>0.67</td>\n",
       "      <td>{'1h': 0.2}</td>\n",
       "    </tr>\n",
       "    <tr>\n",
       "      <th>1</th>\n",
       "      <td>1629680400</td>\n",
       "      <td>30.06</td>\n",
       "      <td>37.06</td>\n",
       "      <td>1008</td>\n",
       "      <td>82</td>\n",
       "      <td>26.65</td>\n",
       "      <td>4.24</td>\n",
       "      <td>35</td>\n",
       "      <td>10000</td>\n",
       "      <td>3.32</td>\n",
       "      <td>222</td>\n",
       "      <td>4.54</td>\n",
       "      <td>[{'id': 802, 'main': 'Clouds', 'description': ...</td>\n",
       "      <td>0.61</td>\n",
       "      <td>NaN</td>\n",
       "    </tr>\n",
       "    <tr>\n",
       "      <th>2</th>\n",
       "      <td>1629684000</td>\n",
       "      <td>30.00</td>\n",
       "      <td>37.00</td>\n",
       "      <td>1008</td>\n",
       "      <td>79</td>\n",
       "      <td>25.96</td>\n",
       "      <td>7.50</td>\n",
       "      <td>33</td>\n",
       "      <td>10000</td>\n",
       "      <td>3.20</td>\n",
       "      <td>222</td>\n",
       "      <td>4.15</td>\n",
       "      <td>[{'id': 802, 'main': 'Clouds', 'description': ...</td>\n",
       "      <td>0.54</td>\n",
       "      <td>NaN</td>\n",
       "    </tr>\n",
       "    <tr>\n",
       "      <th>3</th>\n",
       "      <td>1629687600</td>\n",
       "      <td>30.14</td>\n",
       "      <td>36.96</td>\n",
       "      <td>1008</td>\n",
       "      <td>76</td>\n",
       "      <td>25.44</td>\n",
       "      <td>10.47</td>\n",
       "      <td>31</td>\n",
       "      <td>10000</td>\n",
       "      <td>3.79</td>\n",
       "      <td>218</td>\n",
       "      <td>4.50</td>\n",
       "      <td>[{'id': 802, 'main': 'Clouds', 'description': ...</td>\n",
       "      <td>0.50</td>\n",
       "      <td>NaN</td>\n",
       "    </tr>\n",
       "    <tr>\n",
       "      <th>4</th>\n",
       "      <td>1629691200</td>\n",
       "      <td>30.34</td>\n",
       "      <td>36.96</td>\n",
       "      <td>1008</td>\n",
       "      <td>74</td>\n",
       "      <td>25.18</td>\n",
       "      <td>12.06</td>\n",
       "      <td>30</td>\n",
       "      <td>10000</td>\n",
       "      <td>4.66</td>\n",
       "      <td>219</td>\n",
       "      <td>4.81</td>\n",
       "      <td>[{'id': 500, 'main': 'Rain', 'description': 'l...</td>\n",
       "      <td>0.49</td>\n",
       "      <td>{'1h': 0.18}</td>\n",
       "    </tr>\n",
       "  </tbody>\n",
       "</table>\n",
       "</div>"
      ],
      "text/plain": [
       "           dt   temp  feels_like  pressure  humidity  dew_point    uvi  \\\n",
       "0  1629676800  29.80       36.80      1008        81      26.18   1.70   \n",
       "1  1629680400  30.06       37.06      1008        82      26.65   4.24   \n",
       "2  1629684000  30.00       37.00      1008        79      25.96   7.50   \n",
       "3  1629687600  30.14       36.96      1008        76      25.44  10.47   \n",
       "4  1629691200  30.34       36.96      1008        74      25.18  12.06   \n",
       "\n",
       "   clouds  visibility  wind_speed  wind_deg  wind_gust  \\\n",
       "0      41       10000        3.84       224       5.27   \n",
       "1      35       10000        3.32       222       4.54   \n",
       "2      33       10000        3.20       222       4.15   \n",
       "3      31       10000        3.79       218       4.50   \n",
       "4      30       10000        4.66       219       4.81   \n",
       "\n",
       "                                             weather   pop          rain  \n",
       "0  [{'id': 500, 'main': 'Rain', 'description': 'l...  0.67   {'1h': 0.2}  \n",
       "1  [{'id': 802, 'main': 'Clouds', 'description': ...  0.61           NaN  \n",
       "2  [{'id': 802, 'main': 'Clouds', 'description': ...  0.54           NaN  \n",
       "3  [{'id': 802, 'main': 'Clouds', 'description': ...  0.50           NaN  \n",
       "4  [{'id': 500, 'main': 'Rain', 'description': 'l...  0.49  {'1h': 0.18}  "
      ]
     },
     "execution_count": 8,
     "metadata": {},
     "output_type": "execute_result"
    }
   ],
   "source": [
    "df_hourly.head()"
   ]
  },
  {
   "cell_type": "code",
   "execution_count": 9,
   "metadata": {
    "execution": {
     "iopub.execute_input": "2021-08-23T00:45:24.642998Z",
     "iopub.status.busy": "2021-08-23T00:45:24.642380Z",
     "iopub.status.idle": "2021-08-23T00:45:24.920965Z",
     "shell.execute_reply": "2021-08-23T00:45:24.920419Z"
    }
   },
   "outputs": [
    {
     "data": {
      "image/png": "[encoded data removed]",
      "text/plain": [
       "<Figure size 864x432 with 1 Axes>"
      ]
     },
     "metadata": {
      "needs_background": "light"
     },
     "output_type": "display_data"
    }
   ],
   "source": [
    "fig, ax = plt.subplots(figsize=(12, 6))\r\n",
    "plt.plot(df_hourly.temp, '.-')\r\n",
    "ax.set(title='Temperature in future 48 hours', xlabel='Time', ylabel='Temperature')\r\n",
    "ax.set_xticks(list(range(0, len(df_hourly), 2)))\r\n",
    "ax.set_xticklabels([ts2dt(ts, '%m-%d %H:%M') for i, ts in enumerate(df_hourly.dt) if i%2==0], \r\n",
    "                   rotation=45, ha=\"right\")\r\n",
    "plt.show()"
   ]
  },
  {
   "cell_type": "code",
   "execution_count": null,
   "metadata": {},
   "outputs": [],
   "source": []
  }
 ],
 "metadata": {
  "interpreter": {
   "hash": "c1b4cfe941b6d2466ad1fb5979e97da9cda8801728c8091b097ab734208fc00c"
  },
  "kernelspec": {
   "display_name": "Python 3.8.3 64-bit ('base': conda)",
   "name": "python3"
  },
  "language_info": {
   "codemirror_mode": {
    "name": "ipython",
    "version": 3
   },
   "file_extension": ".py",
   "mimetype": "text/x-python",
   "name": "python",
   "nbconvert_exporter": "python",
   "pygments_lexer": "ipython3",
   "version": "3.8.11"
  }
 },
 "nbformat": 4,
 "nbformat_minor": 2
}
