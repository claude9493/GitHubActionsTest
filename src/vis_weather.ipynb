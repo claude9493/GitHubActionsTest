{
 "cells": [
  {
   "cell_type": "code",
   "execution_count": 1,
   "metadata": {
    "execution": {
     "iopub.execute_input": "2021-10-19T00:41:06.228509Z",
     "iopub.status.busy": "2021-10-19T00:41:06.226992Z",
     "iopub.status.idle": "2021-10-19T00:41:08.820175Z",
     "shell.execute_reply": "2021-10-19T00:41:08.819478Z"
    }
   },
   "outputs": [],
   "source": [
    "import json, yaml, requests\r\n",
    "from datetime import datetime\r\n",
    "from dateutil import tz\r\n",
    "import pandas as pd\r\n",
    "from PIL import Image\r\n",
    "from io import BytesIO\r\n",
    "import matplotlib.pyplot as plt\r\n",
    "import seaborn\r\n",
    "\r\n",
    "CONFIG_PATH = \"../config/config.yaml\""
   ]
  },
  {
   "cell_type": "code",
   "execution_count": 2,
   "metadata": {
    "execution": {
     "iopub.execute_input": "2021-10-19T00:41:08.829195Z",
     "iopub.status.busy": "2021-10-19T00:41:08.828193Z",
     "iopub.status.idle": "2021-10-19T00:41:08.834783Z",
     "shell.execute_reply": "2021-10-19T00:41:08.835308Z"
    }
   },
   "outputs": [],
   "source": [
    "with open('../newest_ts', 'r') as f:\r\n",
    "    newest_ts = f.read()\r\n",
    "\r\n",
    "data_path = f\"../data/data_{newest_ts}.json\"\r\n",
    "with open(data_path, 'r') as f:\r\n",
    "    data = json.load(f)\r\n",
    "\r\n",
    "with open(CONFIG_PATH, \"r\") as stream:\r\n",
    "    config = yaml.safe_load(stream)\r\n",
    "\r\n",
    "TIME_ZONE = config['time_zone']\r\n",
    "DATETIME_FORMAT = config['dt_format']"
   ]
  },
  {
   "cell_type": "code",
   "execution_count": 3,
   "metadata": {
    "execution": {
     "iopub.execute_input": "2021-10-19T00:41:08.844951Z",
     "iopub.status.busy": "2021-10-19T00:41:08.844289Z",
     "iopub.status.idle": "2021-10-19T00:41:08.856372Z",
     "shell.execute_reply": "2021-10-19T00:41:08.856881Z"
    }
   },
   "outputs": [
    {
     "name": "stdout",
     "output_type": "stream",
     "text": [
      "Recent query happens at 2021-10-19 08:41:01 (CST).\n"
     ]
    }
   ],
   "source": [
    "def ts2dt(ts, format=DATETIME_FORMAT):\r\n",
    "    dt = (datetime.utcfromtimestamp(int(ts))\r\n",
    "                    .replace(tzinfo=tz.tzutc())\r\n",
    "                    # .astimezone(tz.tzlocal())\r\n",
    "                    .astimezone(tz.gettz(TIME_ZONE)))\r\n",
    "    return dt.strftime(format), dt\r\n",
    "\r\n",
    "_, newest_dt = ts2dt(newest_ts)\r\n",
    "print(f\"Recent query happens at {newest_dt.strftime(DATETIME_FORMAT)} ({newest_dt.tzname()}).\")"
   ]
  },
  {
   "cell_type": "code",
   "execution_count": 4,
   "metadata": {
    "execution": {
     "iopub.execute_input": "2021-10-19T00:41:08.863750Z",
     "iopub.status.busy": "2021-10-19T00:41:08.862917Z",
     "iopub.status.idle": "2021-10-19T00:41:08.864485Z",
     "shell.execute_reply": "2021-10-19T00:41:08.865011Z"
    }
   },
   "outputs": [],
   "source": [
    "def degrees_to_cardinal(d):\r\n",
    "  dirs = ['N', 'NNE', 'NE', 'ENE', 'E', 'ESE', 'SE', 'SSE', 'S', 'SSW', 'SW', 'WSW', 'W', 'WNW', 'NW', 'NNW']\r\n",
    "  ix = int(round(d / (360. / len(dirs))))\r\n",
    "  return dirs[ix % len(dirs)]"
   ]
  },
  {
   "cell_type": "code",
   "execution_count": 5,
   "metadata": {
    "execution": {
     "iopub.execute_input": "2021-10-19T00:41:08.868951Z",
     "iopub.status.busy": "2021-10-19T00:41:08.868136Z",
     "iopub.status.idle": "2021-10-19T00:41:08.873473Z",
     "shell.execute_reply": "2021-10-19T00:41:08.872773Z"
    }
   },
   "outputs": [],
   "source": [
    "# data.keys()"
   ]
  },
  {
   "cell_type": "code",
   "execution_count": 6,
   "metadata": {
    "execution": {
     "iopub.execute_input": "2021-10-19T00:41:08.881774Z",
     "iopub.status.busy": "2021-10-19T00:41:08.880454Z",
     "iopub.status.idle": "2021-10-19T00:41:08.882804Z",
     "shell.execute_reply": "2021-10-19T00:41:08.883345Z"
    }
   },
   "outputs": [],
   "source": [
    "# data['current']"
   ]
  },
  {
   "cell_type": "code",
   "execution_count": 7,
   "metadata": {
    "execution": {
     "iopub.execute_input": "2021-10-19T00:41:08.909656Z",
     "iopub.status.busy": "2021-10-19T00:41:08.908935Z",
     "iopub.status.idle": "2021-10-19T00:41:09.188963Z",
     "shell.execute_reply": "2021-10-19T00:41:09.189569Z"
    }
   },
   "outputs": [
    {
     "data": {
      "image/png": "[encoded data removed]",
      "text/plain": [
       "<Figure size 216x216 with 1 Axes>"
      ]
     },
     "metadata": {
      "needs_background": "light"
     },
     "output_type": "display_data"
    },
    {
     "name": "stdout",
     "output_type": "stream",
     "text": [
      "Today, sun rises at 06:20 and sets at 17:54.\n",
      "Currently, the weather is Clouds (scattered clouds).\n",
      "The temperature is 24.58°C and it feels like 25.1°C.\n",
      "The UV index is 0, humidity is 77%.\n",
      "The pressure is 1018 hPa, percentage of cloud cover is 38%\n",
      "The wind comes from ENE direction with a speed 1.79 m/s.\n"
     ]
    }
   ],
   "source": [
    "current = data['current']\r\n",
    "\r\n",
    "fig, ax = plt.subplots(figsize=(3, 3))\r\n",
    "icon = requests.get(f\"http://openweathermap.org/img/wn/{current['weather'][0]['icon']}@2x.png\")\r\n",
    "im = Image.open(BytesIO(icon.content))\r\n",
    "plt.imshow(im)\r\n",
    "ax.set_axis_off()\r\n",
    "plt.show()\r\n",
    "\r\n",
    "print(f\"Today, sun rises at {ts2dt(current['sunrise'], '%H:%M')[0]} \\\r\n",
    "and sets at {ts2dt(current['sunset'], '%H:%M')[0]}.\\n\\\r\n",
    "Currently, the weather is {current['weather'][0]['main']} ({current['weather'][0]['description']}).\\n\\\r\n",
    "The temperature is {current['temp']}°C and it feels like {current['feels_like']}°C.\\n\\\r\n",
    "The UV index is {current['uvi']}, humidity is {current['humidity']}%.\\n\\\r\n",
    "The pressure is {current['pressure']} hPa, percentage of cloud cover is {current['clouds']}%\\n\\\r\n",
    "The wind comes from {degrees_to_cardinal(current['wind_deg'])} direction with a speed {current['wind_speed']} m/s.\")"
   ]
  },
  {
   "cell_type": "code",
   "execution_count": 8,
   "metadata": {
    "execution": {
     "iopub.execute_input": "2021-10-19T00:41:09.199526Z",
     "iopub.status.busy": "2021-10-19T00:41:09.198820Z",
     "iopub.status.idle": "2021-10-19T00:41:09.202653Z",
     "shell.execute_reply": "2021-10-19T00:41:09.203174Z"
    }
   },
   "outputs": [],
   "source": [
    "df_hourly = pd.DataFrame(data['hourly'])\r\n",
    "df_daily = pd.DataFrame(data['daily'])"
   ]
  },
  {
   "cell_type": "code",
   "execution_count": 9,
   "metadata": {
    "execution": {
     "iopub.execute_input": "2021-10-19T00:41:09.214824Z",
     "iopub.status.busy": "2021-10-19T00:41:09.213937Z",
     "iopub.status.idle": "2021-10-19T00:41:09.614706Z",
     "shell.execute_reply": "2021-10-19T00:41:09.614143Z"
    }
   },
   "outputs": [
    {
     "data": {
      "image/png": "[encoded data removed]",
      "text/plain": [
       "<Figure size 864x432 with 1 Axes>"
      ]
     },
     "metadata": {
      "needs_background": "light"
     },
     "output_type": "display_data"
    }
   ],
   "source": [
    "fig, ax = plt.subplots(figsize=(12, 6))\r\n",
    "plt.plot(df_hourly.temp, '.-', label='Temperature')\r\n",
    "plt.plot(df_hourly.feels_like, '.-', label='Feels Like')\r\n",
    "ax.set(title='Temperature in future 48 hours', xlabel='Time', ylabel='Temperature')\r\n",
    "ax.set_xticks(list(range(0, len(df_hourly), 2)))\r\n",
    "ax.set_xticklabels([ts2dt(ts, '%m-%d %H:%M')[0] for i, ts in enumerate(df_hourly.dt) if i%2==0], \r\n",
    "                   rotation=45, ha=\"right\")\r\n",
    "ax.locator_params(nbins=15, axis='y')\r\n",
    "plt.legend()\r\n",
    "plt.show()"
   ]
  },
  {
   "cell_type": "code",
   "execution_count": 10,
   "metadata": {
    "execution": {
     "iopub.execute_input": "2021-10-19T00:41:09.622694Z",
     "iopub.status.busy": "2021-10-19T00:41:09.622101Z",
     "iopub.status.idle": "2021-10-19T00:41:09.646959Z",
     "shell.execute_reply": "2021-10-19T00:41:09.646381Z"
    }
   },
   "outputs": [
    {
     "data": {
      "text/html": [
       "<div>\n",
       "<style scoped>\n",
       "    .dataframe tbody tr th:only-of-type {\n",
       "        vertical-align: middle;\n",
       "    }\n",
       "\n",
       "    .dataframe tbody tr th {\n",
       "        vertical-align: top;\n",
       "    }\n",
       "\n",
       "    .dataframe thead th {\n",
       "        text-align: right;\n",
       "    }\n",
       "</style>\n",
       "<table border=\"1\" class=\"dataframe\">\n",
       "  <thead>\n",
       "    <tr style=\"text-align: right;\">\n",
       "      <th></th>\n",
       "      <th>dt</th>\n",
       "      <th>temp</th>\n",
       "      <th>feels_like</th>\n",
       "      <th>pressure</th>\n",
       "      <th>humidity</th>\n",
       "      <th>dew_point</th>\n",
       "      <th>uvi</th>\n",
       "      <th>clouds</th>\n",
       "      <th>visibility</th>\n",
       "      <th>wind_speed</th>\n",
       "      <th>wind_deg</th>\n",
       "      <th>wind_gust</th>\n",
       "      <th>weather</th>\n",
       "      <th>pop</th>\n",
       "      <th>rain</th>\n",
       "    </tr>\n",
       "  </thead>\n",
       "  <tbody>\n",
       "    <tr>\n",
       "      <th>0</th>\n",
       "      <td>1634601600</td>\n",
       "      <td>24.50</td>\n",
       "      <td>25.02</td>\n",
       "      <td>1018</td>\n",
       "      <td>77</td>\n",
       "      <td>20.20</td>\n",
       "      <td>0</td>\n",
       "      <td>48</td>\n",
       "      <td>10000</td>\n",
       "      <td>3.93</td>\n",
       "      <td>68</td>\n",
       "      <td>4.24</td>\n",
       "      <td>[{'id': 802, 'main': 'Clouds', 'description': ...</td>\n",
       "      <td>0.0</td>\n",
       "      <td>NaN</td>\n",
       "    </tr>\n",
       "    <tr>\n",
       "      <th>1</th>\n",
       "      <td>1634605200</td>\n",
       "      <td>24.58</td>\n",
       "      <td>25.10</td>\n",
       "      <td>1018</td>\n",
       "      <td>77</td>\n",
       "      <td>20.28</td>\n",
       "      <td>0</td>\n",
       "      <td>38</td>\n",
       "      <td>10000</td>\n",
       "      <td>4.44</td>\n",
       "      <td>76</td>\n",
       "      <td>4.50</td>\n",
       "      <td>[{'id': 802, 'main': 'Clouds', 'description': ...</td>\n",
       "      <td>0.0</td>\n",
       "      <td>NaN</td>\n",
       "    </tr>\n",
       "    <tr>\n",
       "      <th>2</th>\n",
       "      <td>1634608800</td>\n",
       "      <td>24.69</td>\n",
       "      <td>25.20</td>\n",
       "      <td>1018</td>\n",
       "      <td>76</td>\n",
       "      <td>20.18</td>\n",
       "      <td>0</td>\n",
       "      <td>42</td>\n",
       "      <td>10000</td>\n",
       "      <td>4.66</td>\n",
       "      <td>80</td>\n",
       "      <td>4.68</td>\n",
       "      <td>[{'id': 802, 'main': 'Clouds', 'description': ...</td>\n",
       "      <td>0.0</td>\n",
       "      <td>NaN</td>\n",
       "    </tr>\n",
       "    <tr>\n",
       "      <th>3</th>\n",
       "      <td>1634612400</td>\n",
       "      <td>24.95</td>\n",
       "      <td>25.46</td>\n",
       "      <td>1018</td>\n",
       "      <td>75</td>\n",
       "      <td>20.21</td>\n",
       "      <td>0</td>\n",
       "      <td>52</td>\n",
       "      <td>10000</td>\n",
       "      <td>4.44</td>\n",
       "      <td>82</td>\n",
       "      <td>4.44</td>\n",
       "      <td>[{'id': 803, 'main': 'Clouds', 'description': ...</td>\n",
       "      <td>0.0</td>\n",
       "      <td>NaN</td>\n",
       "    </tr>\n",
       "    <tr>\n",
       "      <th>4</th>\n",
       "      <td>1634616000</td>\n",
       "      <td>25.26</td>\n",
       "      <td>25.75</td>\n",
       "      <td>1018</td>\n",
       "      <td>73</td>\n",
       "      <td>20.07</td>\n",
       "      <td>0</td>\n",
       "      <td>63</td>\n",
       "      <td>10000</td>\n",
       "      <td>3.89</td>\n",
       "      <td>80</td>\n",
       "      <td>3.87</td>\n",
       "      <td>[{'id': 803, 'main': 'Clouds', 'description': ...</td>\n",
       "      <td>0.0</td>\n",
       "      <td>NaN</td>\n",
       "    </tr>\n",
       "  </tbody>\n",
       "</table>\n",
       "</div>"
      ],
      "text/plain": [
       "           dt   temp  feels_like  pressure  humidity  dew_point  uvi  clouds  \\\n",
       "0  1634601600  24.50       25.02      1018        77      20.20    0      48   \n",
       "1  1634605200  24.58       25.10      1018        77      20.28    0      38   \n",
       "2  1634608800  24.69       25.20      1018        76      20.18    0      42   \n",
       "3  1634612400  24.95       25.46      1018        75      20.21    0      52   \n",
       "4  1634616000  25.26       25.75      1018        73      20.07    0      63   \n",
       "\n",
       "   visibility  wind_speed  wind_deg  wind_gust  \\\n",
       "0       10000        3.93        68       4.24   \n",
       "1       10000        4.44        76       4.50   \n",
       "2       10000        4.66        80       4.68   \n",
       "3       10000        4.44        82       4.44   \n",
       "4       10000        3.89        80       3.87   \n",
       "\n",
       "                                             weather  pop rain  \n",
       "0  [{'id': 802, 'main': 'Clouds', 'description': ...  0.0  NaN  \n",
       "1  [{'id': 802, 'main': 'Clouds', 'description': ...  0.0  NaN  \n",
       "2  [{'id': 802, 'main': 'Clouds', 'description': ...  0.0  NaN  \n",
       "3  [{'id': 803, 'main': 'Clouds', 'description': ...  0.0  NaN  \n",
       "4  [{'id': 803, 'main': 'Clouds', 'description': ...  0.0  NaN  "
      ]
     },
     "execution_count": 10,
     "metadata": {},
     "output_type": "execute_result"
    }
   ],
   "source": [
    "df_hourly.head()"
   ]
  },
  {
   "cell_type": "code",
   "execution_count": null,
   "metadata": {},
   "outputs": [],
   "source": []
  }
 ],
 "metadata": {
  "interpreter": {
   "hash": "c1b4cfe941b6d2466ad1fb5979e97da9cda8801728c8091b097ab734208fc00c"
  },
  "kernelspec": {
   "display_name": "Python 3.8.3 64-bit ('base': conda)",
   "name": "python3"
  },
  "language_info": {
   "codemirror_mode": {
    "name": "ipython",
    "version": 3
   },
   "file_extension": ".py",
   "mimetype": "text/x-python",
   "name": "python",
   "nbconvert_exporter": "python",
   "pygments_lexer": "ipython3",
   "version": "3.8.12"
  }
 },
 "nbformat": 4,
 "nbformat_minor": 2
}
