{
 "cells": [
  {
   "cell_type": "code",
   "execution_count": 1,
   "metadata": {
    "execution": {
     "iopub.execute_input": "2021-09-30T07:11:59.070910Z",
     "iopub.status.busy": "2021-09-30T07:11:59.060117Z",
     "iopub.status.idle": "2021-09-30T07:12:01.201632Z",
     "shell.execute_reply": "2021-09-30T07:12:01.200868Z"
    }
   },
   "outputs": [],
   "source": [
    "import json, yaml, requests\r\n",
    "from datetime import datetime\r\n",
    "from dateutil import tz\r\n",
    "import pandas as pd\r\n",
    "from PIL import Image\r\n",
    "from io import BytesIO\r\n",
    "import matplotlib.pyplot as plt\r\n",
    "import seaborn\r\n",
    "\r\n",
    "CONFIG_PATH = \"../config/config.yaml\""
   ]
  },
  {
   "cell_type": "code",
   "execution_count": 2,
   "metadata": {
    "execution": {
     "iopub.execute_input": "2021-09-30T07:12:01.207470Z",
     "iopub.status.busy": "2021-09-30T07:12:01.206849Z",
     "iopub.status.idle": "2021-09-30T07:12:01.212305Z",
     "shell.execute_reply": "2021-09-30T07:12:01.212890Z"
    }
   },
   "outputs": [],
   "source": [
    "with open('../newest_ts', 'r') as f:\r\n",
    "    newest_ts = f.read()\r\n",
    "\r\n",
    "data_path = f\"../data/data_{newest_ts}.json\"\r\n",
    "with open(data_path, 'r') as f:\r\n",
    "    data = json.load(f)\r\n",
    "\r\n",
    "with open(CONFIG_PATH, \"r\") as stream:\r\n",
    "    config = yaml.safe_load(stream)\r\n",
    "\r\n",
    "TIME_ZONE = config['time_zone']\r\n",
    "DATETIME_FORMAT = config['dt_format']"
   ]
  },
  {
   "cell_type": "code",
   "execution_count": 3,
   "metadata": {
    "execution": {
     "iopub.execute_input": "2021-09-30T07:12:01.218022Z",
     "iopub.status.busy": "2021-09-30T07:12:01.217402Z",
     "iopub.status.idle": "2021-09-30T07:12:01.254406Z",
     "shell.execute_reply": "2021-09-30T07:12:01.254979Z"
    }
   },
   "outputs": [
    {
     "name": "stdout",
     "output_type": "stream",
     "text": [
      "Recent query happens at 2021-09-30 15:11:51 (CST).\n"
     ]
    }
   ],
   "source": [
    "def ts2dt(ts, format=DATETIME_FORMAT):\r\n",
    "    dt = (datetime.utcfromtimestamp(int(ts))\r\n",
    "                    .replace(tzinfo=tz.tzutc())\r\n",
    "                    # .astimezone(tz.tzlocal())\r\n",
    "                    .astimezone(tz.gettz(TIME_ZONE)))\r\n",
    "    return dt.strftime(format), dt\r\n",
    "\r\n",
    "_, newest_dt = ts2dt(newest_ts)\r\n",
    "print(f\"Recent query happens at {newest_dt.strftime(DATETIME_FORMAT)} ({newest_dt.tzname()}).\")"
   ]
  },
  {
   "cell_type": "code",
   "execution_count": 4,
   "metadata": {
    "execution": {
     "iopub.execute_input": "2021-09-30T07:12:01.260726Z",
     "iopub.status.busy": "2021-09-30T07:12:01.259984Z",
     "iopub.status.idle": "2021-09-30T07:12:01.262688Z",
     "shell.execute_reply": "2021-09-30T07:12:01.262141Z"
    }
   },
   "outputs": [],
   "source": [
    "def degrees_to_cardinal(d):\r\n",
    "  dirs = ['N', 'NNE', 'NE', 'ENE', 'E', 'ESE', 'SE', 'SSE', 'S', 'SSW', 'SW', 'WSW', 'W', 'WNW', 'NW', 'NNW']\r\n",
    "  ix = int(round(d / (360. / len(dirs))))\r\n",
    "  return dirs[ix % len(dirs)]"
   ]
  },
  {
   "cell_type": "code",
   "execution_count": 5,
   "metadata": {
    "execution": {
     "iopub.execute_input": "2021-09-30T07:12:01.266775Z",
     "iopub.status.busy": "2021-09-30T07:12:01.266119Z",
     "iopub.status.idle": "2021-09-30T07:12:01.268990Z",
     "shell.execute_reply": "2021-09-30T07:12:01.268410Z"
    }
   },
   "outputs": [],
   "source": [
    "# data.keys()"
   ]
  },
  {
   "cell_type": "code",
   "execution_count": 6,
   "metadata": {
    "execution": {
     "iopub.execute_input": "2021-09-30T07:12:01.274449Z",
     "iopub.status.busy": "2021-09-30T07:12:01.272861Z",
     "iopub.status.idle": "2021-09-30T07:12:01.275171Z",
     "shell.execute_reply": "2021-09-30T07:12:01.275682Z"
    }
   },
   "outputs": [],
   "source": [
    "# data['current']"
   ]
  },
  {
   "cell_type": "code",
   "execution_count": 7,
   "metadata": {
    "execution": {
     "iopub.execute_input": "2021-09-30T07:12:01.282536Z",
     "iopub.status.busy": "2021-09-30T07:12:01.281895Z",
     "iopub.status.idle": "2021-09-30T07:12:01.720861Z",
     "shell.execute_reply": "2021-09-30T07:12:01.720287Z"
    }
   },
   "outputs": [
    {
     "data": {
      "image/png": "[encoded data removed]",
      "text/plain": [
       "<Figure size 216x216 with 1 Axes>"
      ]
     },
     "metadata": {
      "needs_background": "light"
     },
     "output_type": "display_data"
    },
    {
     "name": "stdout",
     "output_type": "stream",
     "text": [
      "Today, sun rises at 06:13 and sets at 18:12.\n",
      "Currently, the weather is Clouds (scattered clouds).\n",
      "The temperature is 31.28°C and it feels like 38.28°C.\n",
      "The UV index is 5.19, humidity is 79%.\n",
      "The pressure is 1006 hPa, percentage of cloud cover is 46%\n",
      "The wind comes from S direction with a speed 2.24 m/s.\n"
     ]
    }
   ],
   "source": [
    "current = data['current']\r\n",
    "\r\n",
    "fig, ax = plt.subplots(figsize=(3, 3))\r\n",
    "icon = requests.get(f\"http://openweathermap.org/img/wn/{current['weather'][0]['icon']}@2x.png\")\r\n",
    "im = Image.open(BytesIO(icon.content))\r\n",
    "plt.imshow(im)\r\n",
    "ax.set_axis_off()\r\n",
    "plt.show()\r\n",
    "\r\n",
    "print(f\"Today, sun rises at {ts2dt(current['sunrise'], '%H:%M')[0]} \\\r\n",
    "and sets at {ts2dt(current['sunset'], '%H:%M')[0]}.\\n\\\r\n",
    "Currently, the weather is {current['weather'][0]['main']} ({current['weather'][0]['description']}).\\n\\\r\n",
    "The temperature is {current['temp']}°C and it feels like {current['feels_like']}°C.\\n\\\r\n",
    "The UV index is {current['uvi']}, humidity is {current['humidity']}%.\\n\\\r\n",
    "The pressure is {current['pressure']} hPa, percentage of cloud cover is {current['clouds']}%\\n\\\r\n",
    "The wind comes from {degrees_to_cardinal(current['wind_deg'])} direction with a speed {current['wind_speed']} m/s.\")"
   ]
  },
  {
   "cell_type": "code",
   "execution_count": 8,
   "metadata": {
    "execution": {
     "iopub.execute_input": "2021-09-30T07:12:01.724292Z",
     "iopub.status.busy": "2021-09-30T07:12:01.723573Z",
     "iopub.status.idle": "2021-09-30T07:12:01.730560Z",
     "shell.execute_reply": "2021-09-30T07:12:01.731361Z"
    }
   },
   "outputs": [],
   "source": [
    "df_hourly = pd.DataFrame(data['hourly'])\r\n",
    "df_daily = pd.DataFrame(data['daily'])"
   ]
  },
  {
   "cell_type": "code",
   "execution_count": 9,
   "metadata": {
    "execution": {
     "iopub.execute_input": "2021-09-30T07:12:01.734906Z",
     "iopub.status.busy": "2021-09-30T07:12:01.734183Z",
     "iopub.status.idle": "2021-09-30T07:12:02.106552Z",
     "shell.execute_reply": "2021-09-30T07:12:02.105882Z"
    }
   },
   "outputs": [
    {
     "data": {
      "image/png": "[encoded data removed]",
      "text/plain": [
       "<Figure size 864x432 with 1 Axes>"
      ]
     },
     "metadata": {
      "needs_background": "light"
     },
     "output_type": "display_data"
    }
   ],
   "source": [
    "fig, ax = plt.subplots(figsize=(12, 6))\r\n",
    "plt.plot(df_hourly.temp, '.-', label='Temperature')\r\n",
    "plt.plot(df_hourly.feels_like, '.-', label='Feels Like')\r\n",
    "ax.set(title='Temperature in future 48 hours', xlabel='Time', ylabel='Temperature')\r\n",
    "ax.set_xticks(list(range(0, len(df_hourly), 2)))\r\n",
    "ax.set_xticklabels([ts2dt(ts, '%m-%d %H:%M')[0] for i, ts in enumerate(df_hourly.dt) if i%2==0], \r\n",
    "                   rotation=45, ha=\"right\")\r\n",
    "ax.locator_params(nbins=15, axis='y')\r\n",
    "plt.legend()\r\n",
    "plt.show()"
   ]
  },
  {
   "cell_type": "code",
   "execution_count": 10,
   "metadata": {
    "execution": {
     "iopub.execute_input": "2021-09-30T07:12:02.120846Z",
     "iopub.status.busy": "2021-09-30T07:12:02.111626Z",
     "iopub.status.idle": "2021-09-30T07:12:02.134954Z",
     "shell.execute_reply": "2021-09-30T07:12:02.135728Z"
    }
   },
   "outputs": [
    {
     "data": {
      "text/html": [
       "<div>\n",
       "<style scoped>\n",
       "    .dataframe tbody tr th:only-of-type {\n",
       "        vertical-align: middle;\n",
       "    }\n",
       "\n",
       "    .dataframe tbody tr th {\n",
       "        vertical-align: top;\n",
       "    }\n",
       "\n",
       "    .dataframe thead th {\n",
       "        text-align: right;\n",
       "    }\n",
       "</style>\n",
       "<table border=\"1\" class=\"dataframe\">\n",
       "  <thead>\n",
       "    <tr style=\"text-align: right;\">\n",
       "      <th></th>\n",
       "      <th>dt</th>\n",
       "      <th>temp</th>\n",
       "      <th>feels_like</th>\n",
       "      <th>pressure</th>\n",
       "      <th>humidity</th>\n",
       "      <th>dew_point</th>\n",
       "      <th>uvi</th>\n",
       "      <th>clouds</th>\n",
       "      <th>visibility</th>\n",
       "      <th>wind_speed</th>\n",
       "      <th>wind_deg</th>\n",
       "      <th>wind_gust</th>\n",
       "      <th>weather</th>\n",
       "      <th>pop</th>\n",
       "      <th>rain</th>\n",
       "    </tr>\n",
       "  </thead>\n",
       "  <tbody>\n",
       "    <tr>\n",
       "      <th>0</th>\n",
       "      <td>1632985200</td>\n",
       "      <td>31.28</td>\n",
       "      <td>38.28</td>\n",
       "      <td>1006</td>\n",
       "      <td>79</td>\n",
       "      <td>27.20</td>\n",
       "      <td>5.19</td>\n",
       "      <td>46</td>\n",
       "      <td>10000</td>\n",
       "      <td>4.55</td>\n",
       "      <td>204</td>\n",
       "      <td>3.94</td>\n",
       "      <td>[{'id': 802, 'main': 'Clouds', 'description': ...</td>\n",
       "      <td>0.08</td>\n",
       "      <td>NaN</td>\n",
       "    </tr>\n",
       "    <tr>\n",
       "      <th>1</th>\n",
       "      <td>1632988800</td>\n",
       "      <td>31.15</td>\n",
       "      <td>38.15</td>\n",
       "      <td>1006</td>\n",
       "      <td>77</td>\n",
       "      <td>26.63</td>\n",
       "      <td>2.53</td>\n",
       "      <td>44</td>\n",
       "      <td>10000</td>\n",
       "      <td>4.64</td>\n",
       "      <td>200</td>\n",
       "      <td>4.41</td>\n",
       "      <td>[{'id': 802, 'main': 'Clouds', 'description': ...</td>\n",
       "      <td>0.00</td>\n",
       "      <td>NaN</td>\n",
       "    </tr>\n",
       "    <tr>\n",
       "      <th>2</th>\n",
       "      <td>1632992400</td>\n",
       "      <td>30.87</td>\n",
       "      <td>37.87</td>\n",
       "      <td>1006</td>\n",
       "      <td>76</td>\n",
       "      <td>26.14</td>\n",
       "      <td>0.78</td>\n",
       "      <td>37</td>\n",
       "      <td>10000</td>\n",
       "      <td>4.27</td>\n",
       "      <td>205</td>\n",
       "      <td>4.36</td>\n",
       "      <td>[{'id': 802, 'main': 'Clouds', 'description': ...</td>\n",
       "      <td>0.00</td>\n",
       "      <td>NaN</td>\n",
       "    </tr>\n",
       "    <tr>\n",
       "      <th>3</th>\n",
       "      <td>1632996000</td>\n",
       "      <td>30.16</td>\n",
       "      <td>37.16</td>\n",
       "      <td>1006</td>\n",
       "      <td>77</td>\n",
       "      <td>25.68</td>\n",
       "      <td>0.00</td>\n",
       "      <td>30</td>\n",
       "      <td>10000</td>\n",
       "      <td>3.60</td>\n",
       "      <td>213</td>\n",
       "      <td>4.07</td>\n",
       "      <td>[{'id': 802, 'main': 'Clouds', 'description': ...</td>\n",
       "      <td>0.01</td>\n",
       "      <td>NaN</td>\n",
       "    </tr>\n",
       "    <tr>\n",
       "      <th>4</th>\n",
       "      <td>1632999600</td>\n",
       "      <td>29.42</td>\n",
       "      <td>35.69</td>\n",
       "      <td>1007</td>\n",
       "      <td>79</td>\n",
       "      <td>25.39</td>\n",
       "      <td>0.00</td>\n",
       "      <td>24</td>\n",
       "      <td>10000</td>\n",
       "      <td>3.63</td>\n",
       "      <td>214</td>\n",
       "      <td>4.03</td>\n",
       "      <td>[{'id': 801, 'main': 'Clouds', 'description': ...</td>\n",
       "      <td>0.03</td>\n",
       "      <td>NaN</td>\n",
       "    </tr>\n",
       "  </tbody>\n",
       "</table>\n",
       "</div>"
      ],
      "text/plain": [
       "           dt   temp  feels_like  pressure  humidity  dew_point   uvi  clouds  \\\n",
       "0  1632985200  31.28       38.28      1006        79      27.20  5.19      46   \n",
       "1  1632988800  31.15       38.15      1006        77      26.63  2.53      44   \n",
       "2  1632992400  30.87       37.87      1006        76      26.14  0.78      37   \n",
       "3  1632996000  30.16       37.16      1006        77      25.68  0.00      30   \n",
       "4  1632999600  29.42       35.69      1007        79      25.39  0.00      24   \n",
       "\n",
       "   visibility  wind_speed  wind_deg  wind_gust  \\\n",
       "0       10000        4.55       204       3.94   \n",
       "1       10000        4.64       200       4.41   \n",
       "2       10000        4.27       205       4.36   \n",
       "3       10000        3.60       213       4.07   \n",
       "4       10000        3.63       214       4.03   \n",
       "\n",
       "                                             weather   pop rain  \n",
       "0  [{'id': 802, 'main': 'Clouds', 'description': ...  0.08  NaN  \n",
       "1  [{'id': 802, 'main': 'Clouds', 'description': ...  0.00  NaN  \n",
       "2  [{'id': 802, 'main': 'Clouds', 'description': ...  0.00  NaN  \n",
       "3  [{'id': 802, 'main': 'Clouds', 'description': ...  0.01  NaN  \n",
       "4  [{'id': 801, 'main': 'Clouds', 'description': ...  0.03  NaN  "
      ]
     },
     "execution_count": 10,
     "metadata": {},
     "output_type": "execute_result"
    }
   ],
   "source": [
    "df_hourly.head()"
   ]
  },
  {
   "cell_type": "code",
   "execution_count": null,
   "metadata": {},
   "outputs": [],
   "source": []
  }
 ],
 "metadata": {
  "interpreter": {
   "hash": "c1b4cfe941b6d2466ad1fb5979e97da9cda8801728c8091b097ab734208fc00c"
  },
  "kernelspec": {
   "display_name": "Python 3.8.3 64-bit ('base': conda)",
   "name": "python3"
  },
  "language_info": {
   "codemirror_mode": {
    "name": "ipython",
    "version": 3
   },
   "file_extension": ".py",
   "mimetype": "text/x-python",
   "name": "python",
   "nbconvert_exporter": "python",
   "pygments_lexer": "ipython3",
   "version": "3.8.12"
  }
 },
 "nbformat": 4,
 "nbformat_minor": 2
}
