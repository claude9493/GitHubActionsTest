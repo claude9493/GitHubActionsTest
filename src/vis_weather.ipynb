{
 "cells": [
  {
   "cell_type": "code",
   "execution_count": 1,
   "metadata": {
    "execution": {
     "iopub.execute_input": "2021-09-20T03:12:02.688272Z",
     "iopub.status.busy": "2021-09-20T03:12:02.687743Z",
     "iopub.status.idle": "2021-09-20T03:12:03.750458Z",
     "shell.execute_reply": "2021-09-20T03:12:03.750908Z"
    }
   },
   "outputs": [],
   "source": [
    "import json, yaml, requests\r\n",
    "from datetime import datetime\r\n",
    "from dateutil import tz\r\n",
    "import pandas as pd\r\n",
    "from PIL import Image\r\n",
    "from io import BytesIO\r\n",
    "import matplotlib.pyplot as plt\r\n",
    "import seaborn\r\n",
    "\r\n",
    "CONFIG_PATH = \"../config/config.yaml\""
   ]
  },
  {
   "cell_type": "code",
   "execution_count": 2,
   "metadata": {
    "execution": {
     "iopub.execute_input": "2021-09-20T03:12:03.756094Z",
     "iopub.status.busy": "2021-09-20T03:12:03.755556Z",
     "iopub.status.idle": "2021-09-20T03:12:03.762304Z",
     "shell.execute_reply": "2021-09-20T03:12:03.761499Z"
    }
   },
   "outputs": [],
   "source": [
    "with open('../newest_ts', 'r') as f:\r\n",
    "    newest_ts = f.read()\r\n",
    "\r\n",
    "data_path = f\"../data/data_{newest_ts}.json\"\r\n",
    "with open(data_path, 'r') as f:\r\n",
    "    data = json.load(f)\r\n",
    "\r\n",
    "with open(CONFIG_PATH, \"r\") as stream:\r\n",
    "    config = yaml.safe_load(stream)\r\n",
    "\r\n",
    "TIME_ZONE = config['time_zone']\r\n",
    "DATETIME_FORMAT = config['dt_format']"
   ]
  },
  {
   "cell_type": "code",
   "execution_count": 3,
   "metadata": {
    "execution": {
     "iopub.execute_input": "2021-09-20T03:12:03.766759Z",
     "iopub.status.busy": "2021-09-20T03:12:03.766285Z",
     "iopub.status.idle": "2021-09-20T03:12:03.770612Z",
     "shell.execute_reply": "2021-09-20T03:12:03.770979Z"
    }
   },
   "outputs": [
    {
     "name": "stdout",
     "output_type": "stream",
     "text": [
      "Recent query happens at 2021-09-20 11:12:00 (CST).\n"
     ]
    }
   ],
   "source": [
    "def ts2dt(ts, format=DATETIME_FORMAT):\r\n",
    "    dt = (datetime.utcfromtimestamp(int(ts))\r\n",
    "                    .replace(tzinfo=tz.tzutc())\r\n",
    "                    # .astimezone(tz.tzlocal())\r\n",
    "                    .astimezone(tz.gettz(TIME_ZONE)))\r\n",
    "    return dt.strftime(format), dt\r\n",
    "\r\n",
    "_, newest_dt = ts2dt(newest_ts)\r\n",
    "print(f\"Recent query happens at {newest_dt.strftime(DATETIME_FORMAT)} ({newest_dt.tzname()}).\")"
   ]
  },
  {
   "cell_type": "code",
   "execution_count": 4,
   "metadata": {
    "execution": {
     "iopub.execute_input": "2021-09-20T03:12:03.775910Z",
     "iopub.status.busy": "2021-09-20T03:12:03.774818Z",
     "iopub.status.idle": "2021-09-20T03:12:03.776427Z",
     "shell.execute_reply": "2021-09-20T03:12:03.776788Z"
    }
   },
   "outputs": [],
   "source": [
    "def degrees_to_cardinal(d):\r\n",
    "  dirs = ['N', 'NNE', 'NE', 'ENE', 'E', 'ESE', 'SE', 'SSE', 'S', 'SSW', 'SW', 'WSW', 'W', 'WNW', 'NW', 'NNW']\r\n",
    "  ix = int(round(d / (360. / len(dirs))))\r\n",
    "  return dirs[ix % len(dirs)]"
   ]
  },
  {
   "cell_type": "code",
   "execution_count": 5,
   "metadata": {
    "execution": {
     "iopub.execute_input": "2021-09-20T03:12:03.780624Z",
     "iopub.status.busy": "2021-09-20T03:12:03.779647Z",
     "iopub.status.idle": "2021-09-20T03:12:03.781134Z",
     "shell.execute_reply": "2021-09-20T03:12:03.781517Z"
    }
   },
   "outputs": [],
   "source": [
    "# data.keys()"
   ]
  },
  {
   "cell_type": "code",
   "execution_count": 6,
   "metadata": {
    "execution": {
     "iopub.execute_input": "2021-09-20T03:12:03.785031Z",
     "iopub.status.busy": "2021-09-20T03:12:03.784045Z",
     "iopub.status.idle": "2021-09-20T03:12:03.785571Z",
     "shell.execute_reply": "2021-09-20T03:12:03.785939Z"
    }
   },
   "outputs": [],
   "source": [
    "# data['current']"
   ]
  },
  {
   "cell_type": "code",
   "execution_count": 7,
   "metadata": {
    "execution": {
     "iopub.execute_input": "2021-09-20T03:12:03.802261Z",
     "iopub.status.busy": "2021-09-20T03:12:03.801800Z",
     "iopub.status.idle": "2021-09-20T03:12:04.148793Z",
     "shell.execute_reply": "2021-09-20T03:12:04.148389Z"
    }
   },
   "outputs": [
    {
     "data": {
      "image/png": "[encoded data removed]",
      "text/plain": [
       "<Figure size 216x216 with 1 Axes>"
      ]
     },
     "metadata": {
      "needs_background": "light"
     },
     "output_type": "display_data"
    },
    {
     "name": "stdout",
     "output_type": "stream",
     "text": [
      "Today, sun rises at 06:11 and sets at 18:21.\n",
      "Currently, the weather is Clouds (few clouds).\n",
      "The temperature is 29.47°C and it feels like 36.47°C.\n",
      "The UV index is 9.12, humidity is 84%.\n",
      "The pressure is 1012 hPa, percentage of cloud cover is 19%\n",
      "The wind comes from E direction with a speed 3.12 m/s.\n"
     ]
    }
   ],
   "source": [
    "current = data['current']\r\n",
    "\r\n",
    "fig, ax = plt.subplots(figsize=(3, 3))\r\n",
    "icon = requests.get(f\"http://openweathermap.org/img/wn/{current['weather'][0]['icon']}@2x.png\")\r\n",
    "im = Image.open(BytesIO(icon.content))\r\n",
    "plt.imshow(im)\r\n",
    "ax.set_axis_off()\r\n",
    "plt.show()\r\n",
    "\r\n",
    "print(f\"Today, sun rises at {ts2dt(current['sunrise'], '%H:%M')[0]} \\\r\n",
    "and sets at {ts2dt(current['sunset'], '%H:%M')[0]}.\\n\\\r\n",
    "Currently, the weather is {current['weather'][0]['main']} ({current['weather'][0]['description']}).\\n\\\r\n",
    "The temperature is {current['temp']}°C and it feels like {current['feels_like']}°C.\\n\\\r\n",
    "The UV index is {current['uvi']}, humidity is {current['humidity']}%.\\n\\\r\n",
    "The pressure is {current['pressure']} hPa, percentage of cloud cover is {current['clouds']}%\\n\\\r\n",
    "The wind comes from {degrees_to_cardinal(current['wind_deg'])} direction with a speed {current['wind_speed']} m/s.\")"
   ]
  },
  {
   "cell_type": "code",
   "execution_count": 8,
   "metadata": {
    "execution": {
     "iopub.execute_input": "2021-09-20T03:12:04.153631Z",
     "iopub.status.busy": "2021-09-20T03:12:04.153148Z",
     "iopub.status.idle": "2021-09-20T03:12:04.156682Z",
     "shell.execute_reply": "2021-09-20T03:12:04.157028Z"
    }
   },
   "outputs": [],
   "source": [
    "df_hourly = pd.DataFrame(data['hourly'])\r\n",
    "df_daily = pd.DataFrame(data['daily'])"
   ]
  },
  {
   "cell_type": "code",
   "execution_count": 9,
   "metadata": {
    "execution": {
     "iopub.execute_input": "2021-09-20T03:12:04.164852Z",
     "iopub.status.busy": "2021-09-20T03:12:04.163716Z",
     "iopub.status.idle": "2021-09-20T03:12:04.396903Z",
     "shell.execute_reply": "2021-09-20T03:12:04.396470Z"
    }
   },
   "outputs": [
    {
     "data": {
      "image/png": "[encoded data removed]",
      "text/plain": [
       "<Figure size 864x432 with 1 Axes>"
      ]
     },
     "metadata": {
      "needs_background": "light"
     },
     "output_type": "display_data"
    }
   ],
   "source": [
    "fig, ax = plt.subplots(figsize=(12, 6))\r\n",
    "plt.plot(df_hourly.temp, '.-', label='Temperature')\r\n",
    "plt.plot(df_hourly.feels_like, '.-', label='Feels Like')\r\n",
    "ax.set(title='Temperature in future 48 hours', xlabel='Time', ylabel='Temperature')\r\n",
    "ax.set_xticks(list(range(0, len(df_hourly), 2)))\r\n",
    "ax.set_xticklabels([ts2dt(ts, '%m-%d %H:%M')[0] for i, ts in enumerate(df_hourly.dt) if i%2==0], \r\n",
    "                   rotation=45, ha=\"right\")\r\n",
    "ax.locator_params(nbins=15, axis='y')\r\n",
    "plt.legend()\r\n",
    "plt.show()"
   ]
  },
  {
   "cell_type": "code",
   "execution_count": 10,
   "metadata": {
    "execution": {
     "iopub.execute_input": "2021-09-20T03:12:04.408688Z",
     "iopub.status.busy": "2021-09-20T03:12:04.400881Z",
     "iopub.status.idle": "2021-09-20T03:12:04.419700Z",
     "shell.execute_reply": "2021-09-20T03:12:04.419325Z"
    }
   },
   "outputs": [
    {
     "data": {
      "text/html": [
       "<div>\n",
       "<style scoped>\n",
       "    .dataframe tbody tr th:only-of-type {\n",
       "        vertical-align: middle;\n",
       "    }\n",
       "\n",
       "    .dataframe tbody tr th {\n",
       "        vertical-align: top;\n",
       "    }\n",
       "\n",
       "    .dataframe thead th {\n",
       "        text-align: right;\n",
       "    }\n",
       "</style>\n",
       "<table border=\"1\" class=\"dataframe\">\n",
       "  <thead>\n",
       "    <tr style=\"text-align: right;\">\n",
       "      <th></th>\n",
       "      <th>dt</th>\n",
       "      <th>temp</th>\n",
       "      <th>feels_like</th>\n",
       "      <th>pressure</th>\n",
       "      <th>humidity</th>\n",
       "      <th>dew_point</th>\n",
       "      <th>uvi</th>\n",
       "      <th>clouds</th>\n",
       "      <th>visibility</th>\n",
       "      <th>wind_speed</th>\n",
       "      <th>wind_deg</th>\n",
       "      <th>wind_gust</th>\n",
       "      <th>weather</th>\n",
       "      <th>pop</th>\n",
       "      <th>rain</th>\n",
       "    </tr>\n",
       "  </thead>\n",
       "  <tbody>\n",
       "    <tr>\n",
       "      <th>0</th>\n",
       "      <td>1632106800</td>\n",
       "      <td>29.47</td>\n",
       "      <td>36.47</td>\n",
       "      <td>1012</td>\n",
       "      <td>84</td>\n",
       "      <td>26.48</td>\n",
       "      <td>9.12</td>\n",
       "      <td>19</td>\n",
       "      <td>10000</td>\n",
       "      <td>3.12</td>\n",
       "      <td>97</td>\n",
       "      <td>2.67</td>\n",
       "      <td>[{'id': 500, 'main': 'Rain', 'description': 'l...</td>\n",
       "      <td>0.28</td>\n",
       "      <td>{'1h': 0.1}</td>\n",
       "    </tr>\n",
       "    <tr>\n",
       "      <th>1</th>\n",
       "      <td>1632110400</td>\n",
       "      <td>29.55</td>\n",
       "      <td>36.55</td>\n",
       "      <td>1012</td>\n",
       "      <td>81</td>\n",
       "      <td>25.94</td>\n",
       "      <td>8.32</td>\n",
       "      <td>20</td>\n",
       "      <td>10000</td>\n",
       "      <td>3.23</td>\n",
       "      <td>103</td>\n",
       "      <td>2.60</td>\n",
       "      <td>[{'id': 801, 'main': 'Clouds', 'description': ...</td>\n",
       "      <td>0.19</td>\n",
       "      <td>NaN</td>\n",
       "    </tr>\n",
       "    <tr>\n",
       "      <th>2</th>\n",
       "      <td>1632114000</td>\n",
       "      <td>29.60</td>\n",
       "      <td>36.21</td>\n",
       "      <td>1012</td>\n",
       "      <td>79</td>\n",
       "      <td>25.57</td>\n",
       "      <td>8.18</td>\n",
       "      <td>24</td>\n",
       "      <td>10000</td>\n",
       "      <td>2.85</td>\n",
       "      <td>110</td>\n",
       "      <td>2.48</td>\n",
       "      <td>[{'id': 801, 'main': 'Clouds', 'description': ...</td>\n",
       "      <td>0.41</td>\n",
       "      <td>NaN</td>\n",
       "    </tr>\n",
       "    <tr>\n",
       "      <th>3</th>\n",
       "      <td>1632117600</td>\n",
       "      <td>29.82</td>\n",
       "      <td>36.06</td>\n",
       "      <td>1011</td>\n",
       "      <td>76</td>\n",
       "      <td>25.13</td>\n",
       "      <td>6.69</td>\n",
       "      <td>29</td>\n",
       "      <td>10000</td>\n",
       "      <td>2.51</td>\n",
       "      <td>118</td>\n",
       "      <td>2.03</td>\n",
       "      <td>[{'id': 500, 'main': 'Rain', 'description': 'l...</td>\n",
       "      <td>0.48</td>\n",
       "      <td>{'1h': 0.26}</td>\n",
       "    </tr>\n",
       "    <tr>\n",
       "      <th>4</th>\n",
       "      <td>1632121200</td>\n",
       "      <td>29.94</td>\n",
       "      <td>35.63</td>\n",
       "      <td>1010</td>\n",
       "      <td>73</td>\n",
       "      <td>24.57</td>\n",
       "      <td>5.35</td>\n",
       "      <td>69</td>\n",
       "      <td>10000</td>\n",
       "      <td>2.47</td>\n",
       "      <td>118</td>\n",
       "      <td>1.89</td>\n",
       "      <td>[{'id': 500, 'main': 'Rain', 'description': 'l...</td>\n",
       "      <td>0.39</td>\n",
       "      <td>{'1h': 0.12}</td>\n",
       "    </tr>\n",
       "  </tbody>\n",
       "</table>\n",
       "</div>"
      ],
      "text/plain": [
       "           dt   temp  feels_like  pressure  humidity  dew_point   uvi  clouds  \\\n",
       "0  1632106800  29.47       36.47      1012        84      26.48  9.12      19   \n",
       "1  1632110400  29.55       36.55      1012        81      25.94  8.32      20   \n",
       "2  1632114000  29.60       36.21      1012        79      25.57  8.18      24   \n",
       "3  1632117600  29.82       36.06      1011        76      25.13  6.69      29   \n",
       "4  1632121200  29.94       35.63      1010        73      24.57  5.35      69   \n",
       "\n",
       "   visibility  wind_speed  wind_deg  wind_gust  \\\n",
       "0       10000        3.12        97       2.67   \n",
       "1       10000        3.23       103       2.60   \n",
       "2       10000        2.85       110       2.48   \n",
       "3       10000        2.51       118       2.03   \n",
       "4       10000        2.47       118       1.89   \n",
       "\n",
       "                                             weather   pop          rain  \n",
       "0  [{'id': 500, 'main': 'Rain', 'description': 'l...  0.28   {'1h': 0.1}  \n",
       "1  [{'id': 801, 'main': 'Clouds', 'description': ...  0.19           NaN  \n",
       "2  [{'id': 801, 'main': 'Clouds', 'description': ...  0.41           NaN  \n",
       "3  [{'id': 500, 'main': 'Rain', 'description': 'l...  0.48  {'1h': 0.26}  \n",
       "4  [{'id': 500, 'main': 'Rain', 'description': 'l...  0.39  {'1h': 0.12}  "
      ]
     },
     "execution_count": 10,
     "metadata": {},
     "output_type": "execute_result"
    }
   ],
   "source": [
    "df_hourly.head()"
   ]
  },
  {
   "cell_type": "code",
   "execution_count": null,
   "metadata": {},
   "outputs": [],
   "source": []
  }
 ],
 "metadata": {
  "interpreter": {
   "hash": "c1b4cfe941b6d2466ad1fb5979e97da9cda8801728c8091b097ab734208fc00c"
  },
  "kernelspec": {
   "display_name": "Python 3.8.3 64-bit ('base': conda)",
   "name": "python3"
  },
  "language_info": {
   "codemirror_mode": {
    "name": "ipython",
    "version": 3
   },
   "file_extension": ".py",
   "mimetype": "text/x-python",
   "name": "python",
   "nbconvert_exporter": "python",
   "pygments_lexer": "ipython3",
   "version": "3.8.11"
  }
 },
 "nbformat": 4,
 "nbformat_minor": 2
}
