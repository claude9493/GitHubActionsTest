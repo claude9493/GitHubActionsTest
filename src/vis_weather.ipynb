{
 "cells": [
  {
   "cell_type": "code",
   "execution_count": 1,
   "metadata": {
    "execution": {
     "iopub.execute_input": "2021-10-20T03:12:37.353428Z",
     "iopub.status.busy": "2021-10-20T03:12:37.352765Z",
     "iopub.status.idle": "2021-10-20T03:12:40.487017Z",
     "shell.execute_reply": "2021-10-20T03:12:40.487654Z"
    }
   },
   "outputs": [],
   "source": [
    "import json, yaml, requests\r\n",
    "from datetime import datetime\r\n",
    "from dateutil import tz\r\n",
    "import pandas as pd\r\n",
    "from PIL import Image\r\n",
    "from io import BytesIO\r\n",
    "import matplotlib.pyplot as plt\r\n",
    "import seaborn\r\n",
    "\r\n",
    "CONFIG_PATH = \"../config/config.yaml\""
   ]
  },
  {
   "cell_type": "code",
   "execution_count": 2,
   "metadata": {
    "execution": {
     "iopub.execute_input": "2021-10-20T03:12:40.496572Z",
     "iopub.status.busy": "2021-10-20T03:12:40.494681Z",
     "iopub.status.idle": "2021-10-20T03:12:40.499363Z",
     "shell.execute_reply": "2021-10-20T03:12:40.499884Z"
    }
   },
   "outputs": [],
   "source": [
    "with open('../newest_ts', 'r') as f:\r\n",
    "    newest_ts = f.read()\r\n",
    "\r\n",
    "data_path = f\"../data/data_{newest_ts}.json\"\r\n",
    "with open(data_path, 'r') as f:\r\n",
    "    data = json.load(f)\r\n",
    "\r\n",
    "with open(CONFIG_PATH, \"r\") as stream:\r\n",
    "    config = yaml.safe_load(stream)\r\n",
    "\r\n",
    "TIME_ZONE = config['time_zone']\r\n",
    "DATETIME_FORMAT = config['dt_format']"
   ]
  },
  {
   "cell_type": "code",
   "execution_count": 3,
   "metadata": {
    "execution": {
     "iopub.execute_input": "2021-10-20T03:12:40.506520Z",
     "iopub.status.busy": "2021-10-20T03:12:40.503075Z",
     "iopub.status.idle": "2021-10-20T03:12:40.514087Z",
     "shell.execute_reply": "2021-10-20T03:12:40.514669Z"
    }
   },
   "outputs": [
    {
     "name": "stdout",
     "output_type": "stream",
     "text": [
      "Recent query happens at 2021-10-20 11:12:33 (CST).\n"
     ]
    }
   ],
   "source": [
    "def ts2dt(ts, format=DATETIME_FORMAT):\r\n",
    "    dt = (datetime.utcfromtimestamp(int(ts))\r\n",
    "                    .replace(tzinfo=tz.tzutc())\r\n",
    "                    # .astimezone(tz.tzlocal())\r\n",
    "                    .astimezone(tz.gettz(TIME_ZONE)))\r\n",
    "    return dt.strftime(format), dt\r\n",
    "\r\n",
    "_, newest_dt = ts2dt(newest_ts)\r\n",
    "print(f\"Recent query happens at {newest_dt.strftime(DATETIME_FORMAT)} ({newest_dt.tzname()}).\")"
   ]
  },
  {
   "cell_type": "code",
   "execution_count": 4,
   "metadata": {
    "execution": {
     "iopub.execute_input": "2021-10-20T03:12:40.522047Z",
     "iopub.status.busy": "2021-10-20T03:12:40.519998Z",
     "iopub.status.idle": "2021-10-20T03:12:40.522825Z",
     "shell.execute_reply": "2021-10-20T03:12:40.523427Z"
    }
   },
   "outputs": [],
   "source": [
    "def degrees_to_cardinal(d):\r\n",
    "  dirs = ['N', 'NNE', 'NE', 'ENE', 'E', 'ESE', 'SE', 'SSE', 'S', 'SSW', 'SW', 'WSW', 'W', 'WNW', 'NW', 'NNW']\r\n",
    "  ix = int(round(d / (360. / len(dirs))))\r\n",
    "  return dirs[ix % len(dirs)]"
   ]
  },
  {
   "cell_type": "code",
   "execution_count": 5,
   "metadata": {
    "execution": {
     "iopub.execute_input": "2021-10-20T03:12:40.531266Z",
     "iopub.status.busy": "2021-10-20T03:12:40.529300Z",
     "iopub.status.idle": "2021-10-20T03:12:40.532571Z",
     "shell.execute_reply": "2021-10-20T03:12:40.531937Z"
    }
   },
   "outputs": [],
   "source": [
    "# data.keys()"
   ]
  },
  {
   "cell_type": "code",
   "execution_count": 6,
   "metadata": {
    "execution": {
     "iopub.execute_input": "2021-10-20T03:12:40.536726Z",
     "iopub.status.busy": "2021-10-20T03:12:40.535998Z",
     "iopub.status.idle": "2021-10-20T03:12:40.539647Z",
     "shell.execute_reply": "2021-10-20T03:12:40.540292Z"
    }
   },
   "outputs": [],
   "source": [
    "# data['current']"
   ]
  },
  {
   "cell_type": "code",
   "execution_count": 7,
   "metadata": {
    "execution": {
     "iopub.execute_input": "2021-10-20T03:12:40.544146Z",
     "iopub.status.busy": "2021-10-20T03:12:40.543203Z",
     "iopub.status.idle": "2021-10-20T03:12:41.138068Z",
     "shell.execute_reply": "2021-10-20T03:12:41.138975Z"
    }
   },
   "outputs": [
    {
     "data": {
      "image/png": "[encoded data removed]",
      "text/plain": [
       "<Figure size 216x216 with 1 Axes>"
      ]
     },
     "metadata": {
      "needs_background": "light"
     },
     "output_type": "display_data"
    },
    {
     "name": "stdout",
     "output_type": "stream",
     "text": [
      "Today, sun rises at 06:21 and sets at 17:54.\n",
      "Currently, the weather is Clouds (overcast clouds).\n",
      "The temperature is 28.77°C and it feels like 32.06°C.\n",
      "The UV index is 5.44, humidity is 69%.\n",
      "The pressure is 1017 hPa, percentage of cloud cover is 90%\n",
      "The wind comes from E direction with a speed 5.36 m/s.\n"
     ]
    }
   ],
   "source": [
    "current = data['current']\r\n",
    "\r\n",
    "fig, ax = plt.subplots(figsize=(3, 3))\r\n",
    "icon = requests.get(f\"http://openweathermap.org/img/wn/{current['weather'][0]['icon']}@2x.png\")\r\n",
    "im = Image.open(BytesIO(icon.content))\r\n",
    "plt.imshow(im)\r\n",
    "ax.set_axis_off()\r\n",
    "plt.show()\r\n",
    "\r\n",
    "print(f\"Today, sun rises at {ts2dt(current['sunrise'], '%H:%M')[0]} \\\r\n",
    "and sets at {ts2dt(current['sunset'], '%H:%M')[0]}.\\n\\\r\n",
    "Currently, the weather is {current['weather'][0]['main']} ({current['weather'][0]['description']}).\\n\\\r\n",
    "The temperature is {current['temp']}°C and it feels like {current['feels_like']}°C.\\n\\\r\n",
    "The UV index is {current['uvi']}, humidity is {current['humidity']}%.\\n\\\r\n",
    "The pressure is {current['pressure']} hPa, percentage of cloud cover is {current['clouds']}%\\n\\\r\n",
    "The wind comes from {degrees_to_cardinal(current['wind_deg'])} direction with a speed {current['wind_speed']} m/s.\")"
   ]
  },
  {
   "cell_type": "code",
   "execution_count": 8,
   "metadata": {
    "execution": {
     "iopub.execute_input": "2021-10-20T03:12:41.142933Z",
     "iopub.status.busy": "2021-10-20T03:12:41.142317Z",
     "iopub.status.idle": "2021-10-20T03:12:41.150201Z",
     "shell.execute_reply": "2021-10-20T03:12:41.150921Z"
    }
   },
   "outputs": [],
   "source": [
    "df_hourly = pd.DataFrame(data['hourly'])\r\n",
    "df_daily = pd.DataFrame(data['daily'])"
   ]
  },
  {
   "cell_type": "code",
   "execution_count": 9,
   "metadata": {
    "execution": {
     "iopub.execute_input": "2021-10-20T03:12:41.154594Z",
     "iopub.status.busy": "2021-10-20T03:12:41.153950Z",
     "iopub.status.idle": "2021-10-20T03:12:41.499858Z",
     "shell.execute_reply": "2021-10-20T03:12:41.500332Z"
    }
   },
   "outputs": [
    {
     "data": {
      "image/png": "[encoded data removed]",
      "text/plain": [
       "<Figure size 864x432 with 1 Axes>"
      ]
     },
     "metadata": {
      "needs_background": "light"
     },
     "output_type": "display_data"
    }
   ],
   "source": [
    "fig, ax = plt.subplots(figsize=(12, 6))\r\n",
    "plt.plot(df_hourly.temp, '.-', label='Temperature')\r\n",
    "plt.plot(df_hourly.feels_like, '.-', label='Feels Like')\r\n",
    "ax.set(title='Temperature in future 48 hours', xlabel='Time', ylabel='Temperature')\r\n",
    "ax.set_xticks(list(range(0, len(df_hourly), 2)))\r\n",
    "ax.set_xticklabels([ts2dt(ts, '%m-%d %H:%M')[0] for i, ts in enumerate(df_hourly.dt) if i%2==0], \r\n",
    "                   rotation=45, ha=\"right\")\r\n",
    "ax.locator_params(nbins=15, axis='y')\r\n",
    "plt.legend()\r\n",
    "plt.show()"
   ]
  },
  {
   "cell_type": "code",
   "execution_count": 10,
   "metadata": {
    "execution": {
     "iopub.execute_input": "2021-10-20T03:12:41.512721Z",
     "iopub.status.busy": "2021-10-20T03:12:41.504511Z",
     "iopub.status.idle": "2021-10-20T03:12:41.526640Z",
     "shell.execute_reply": "2021-10-20T03:12:41.527314Z"
    }
   },
   "outputs": [
    {
     "data": {
      "text/html": [
       "<div>\n",
       "<style scoped>\n",
       "    .dataframe tbody tr th:only-of-type {\n",
       "        vertical-align: middle;\n",
       "    }\n",
       "\n",
       "    .dataframe tbody tr th {\n",
       "        vertical-align: top;\n",
       "    }\n",
       "\n",
       "    .dataframe thead th {\n",
       "        text-align: right;\n",
       "    }\n",
       "</style>\n",
       "<table border=\"1\" class=\"dataframe\">\n",
       "  <thead>\n",
       "    <tr style=\"text-align: right;\">\n",
       "      <th></th>\n",
       "      <th>dt</th>\n",
       "      <th>temp</th>\n",
       "      <th>feels_like</th>\n",
       "      <th>pressure</th>\n",
       "      <th>humidity</th>\n",
       "      <th>dew_point</th>\n",
       "      <th>uvi</th>\n",
       "      <th>clouds</th>\n",
       "      <th>visibility</th>\n",
       "      <th>wind_speed</th>\n",
       "      <th>wind_deg</th>\n",
       "      <th>wind_gust</th>\n",
       "      <th>weather</th>\n",
       "      <th>pop</th>\n",
       "      <th>rain</th>\n",
       "    </tr>\n",
       "  </thead>\n",
       "  <tbody>\n",
       "    <tr>\n",
       "      <th>0</th>\n",
       "      <td>1634698800</td>\n",
       "      <td>28.77</td>\n",
       "      <td>32.06</td>\n",
       "      <td>1017</td>\n",
       "      <td>69</td>\n",
       "      <td>22.52</td>\n",
       "      <td>5.44</td>\n",
       "      <td>90</td>\n",
       "      <td>10000</td>\n",
       "      <td>5.68</td>\n",
       "      <td>91</td>\n",
       "      <td>6.92</td>\n",
       "      <td>[{'id': 804, 'main': 'Clouds', 'description': ...</td>\n",
       "      <td>0.34</td>\n",
       "      <td>NaN</td>\n",
       "    </tr>\n",
       "    <tr>\n",
       "      <th>1</th>\n",
       "      <td>1634702400</td>\n",
       "      <td>28.34</td>\n",
       "      <td>31.34</td>\n",
       "      <td>1017</td>\n",
       "      <td>70</td>\n",
       "      <td>22.34</td>\n",
       "      <td>7.77</td>\n",
       "      <td>89</td>\n",
       "      <td>10000</td>\n",
       "      <td>5.69</td>\n",
       "      <td>92</td>\n",
       "      <td>6.63</td>\n",
       "      <td>[{'id': 804, 'main': 'Clouds', 'description': ...</td>\n",
       "      <td>0.23</td>\n",
       "      <td>NaN</td>\n",
       "    </tr>\n",
       "    <tr>\n",
       "      <th>2</th>\n",
       "      <td>1634706000</td>\n",
       "      <td>27.91</td>\n",
       "      <td>30.62</td>\n",
       "      <td>1017</td>\n",
       "      <td>71</td>\n",
       "      <td>22.16</td>\n",
       "      <td>7.62</td>\n",
       "      <td>87</td>\n",
       "      <td>10000</td>\n",
       "      <td>5.67</td>\n",
       "      <td>91</td>\n",
       "      <td>6.32</td>\n",
       "      <td>[{'id': 804, 'main': 'Clouds', 'description': ...</td>\n",
       "      <td>0.19</td>\n",
       "      <td>NaN</td>\n",
       "    </tr>\n",
       "    <tr>\n",
       "      <th>3</th>\n",
       "      <td>1634709600</td>\n",
       "      <td>27.55</td>\n",
       "      <td>30.04</td>\n",
       "      <td>1016</td>\n",
       "      <td>72</td>\n",
       "      <td>22.05</td>\n",
       "      <td>6.13</td>\n",
       "      <td>86</td>\n",
       "      <td>10000</td>\n",
       "      <td>5.43</td>\n",
       "      <td>94</td>\n",
       "      <td>6.03</td>\n",
       "      <td>[{'id': 804, 'main': 'Clouds', 'description': ...</td>\n",
       "      <td>0.16</td>\n",
       "      <td>NaN</td>\n",
       "    </tr>\n",
       "    <tr>\n",
       "      <th>4</th>\n",
       "      <td>1634713200</td>\n",
       "      <td>27.15</td>\n",
       "      <td>29.39</td>\n",
       "      <td>1015</td>\n",
       "      <td>73</td>\n",
       "      <td>21.89</td>\n",
       "      <td>4.19</td>\n",
       "      <td>77</td>\n",
       "      <td>10000</td>\n",
       "      <td>5.50</td>\n",
       "      <td>93</td>\n",
       "      <td>5.97</td>\n",
       "      <td>[{'id': 803, 'main': 'Clouds', 'description': ...</td>\n",
       "      <td>0.00</td>\n",
       "      <td>NaN</td>\n",
       "    </tr>\n",
       "  </tbody>\n",
       "</table>\n",
       "</div>"
      ],
      "text/plain": [
       "           dt   temp  feels_like  pressure  humidity  dew_point   uvi  clouds  \\\n",
       "0  1634698800  28.77       32.06      1017        69      22.52  5.44      90   \n",
       "1  1634702400  28.34       31.34      1017        70      22.34  7.77      89   \n",
       "2  1634706000  27.91       30.62      1017        71      22.16  7.62      87   \n",
       "3  1634709600  27.55       30.04      1016        72      22.05  6.13      86   \n",
       "4  1634713200  27.15       29.39      1015        73      21.89  4.19      77   \n",
       "\n",
       "   visibility  wind_speed  wind_deg  wind_gust  \\\n",
       "0       10000        5.68        91       6.92   \n",
       "1       10000        5.69        92       6.63   \n",
       "2       10000        5.67        91       6.32   \n",
       "3       10000        5.43        94       6.03   \n",
       "4       10000        5.50        93       5.97   \n",
       "\n",
       "                                             weather   pop rain  \n",
       "0  [{'id': 804, 'main': 'Clouds', 'description': ...  0.34  NaN  \n",
       "1  [{'id': 804, 'main': 'Clouds', 'description': ...  0.23  NaN  \n",
       "2  [{'id': 804, 'main': 'Clouds', 'description': ...  0.19  NaN  \n",
       "3  [{'id': 804, 'main': 'Clouds', 'description': ...  0.16  NaN  \n",
       "4  [{'id': 803, 'main': 'Clouds', 'description': ...  0.00  NaN  "
      ]
     },
     "execution_count": 10,
     "metadata": {},
     "output_type": "execute_result"
    }
   ],
   "source": [
    "df_hourly.head()"
   ]
  },
  {
   "cell_type": "code",
   "execution_count": null,
   "metadata": {},
   "outputs": [],
   "source": []
  }
 ],
 "metadata": {
  "interpreter": {
   "hash": "c1b4cfe941b6d2466ad1fb5979e97da9cda8801728c8091b097ab734208fc00c"
  },
  "kernelspec": {
   "display_name": "Python 3.8.3 64-bit ('base': conda)",
   "name": "python3"
  },
  "language_info": {
   "codemirror_mode": {
    "name": "ipython",
    "version": 3
   },
   "file_extension": ".py",
   "mimetype": "text/x-python",
   "name": "python",
   "nbconvert_exporter": "python",
   "pygments_lexer": "ipython3",
   "version": "3.8.12"
  }
 },
 "nbformat": 4,
 "nbformat_minor": 2
}
