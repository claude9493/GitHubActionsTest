{
 "cells": [
  {
   "cell_type": "code",
   "execution_count": 1,
   "metadata": {
    "execution": {
     "iopub.execute_input": "2021-09-25T22:11:09.545256Z",
     "iopub.status.busy": "2021-09-25T22:11:09.544729Z",
     "iopub.status.idle": "2021-09-25T22:11:10.655984Z",
     "shell.execute_reply": "2021-09-25T22:11:10.655408Z"
    }
   },
   "outputs": [],
   "source": [
    "import json, yaml, requests\r\n",
    "from datetime import datetime\r\n",
    "from dateutil import tz\r\n",
    "import pandas as pd\r\n",
    "from PIL import Image\r\n",
    "from io import BytesIO\r\n",
    "import matplotlib.pyplot as plt\r\n",
    "import seaborn\r\n",
    "\r\n",
    "CONFIG_PATH = \"../config/config.yaml\""
   ]
  },
  {
   "cell_type": "code",
   "execution_count": 2,
   "metadata": {
    "execution": {
     "iopub.execute_input": "2021-09-25T22:11:10.663108Z",
     "iopub.status.busy": "2021-09-25T22:11:10.660141Z",
     "iopub.status.idle": "2021-09-25T22:11:10.665271Z",
     "shell.execute_reply": "2021-09-25T22:11:10.665623Z"
    }
   },
   "outputs": [],
   "source": [
    "with open('../newest_ts', 'r') as f:\r\n",
    "    newest_ts = f.read()\r\n",
    "\r\n",
    "data_path = f\"../data/data_{newest_ts}.json\"\r\n",
    "with open(data_path, 'r') as f:\r\n",
    "    data = json.load(f)\r\n",
    "\r\n",
    "with open(CONFIG_PATH, \"r\") as stream:\r\n",
    "    config = yaml.safe_load(stream)\r\n",
    "\r\n",
    "TIME_ZONE = config['time_zone']\r\n",
    "DATETIME_FORMAT = config['dt_format']"
   ]
  },
  {
   "cell_type": "code",
   "execution_count": 3,
   "metadata": {
    "execution": {
     "iopub.execute_input": "2021-09-25T22:11:10.669822Z",
     "iopub.status.busy": "2021-09-25T22:11:10.669310Z",
     "iopub.status.idle": "2021-09-25T22:11:10.673436Z",
     "shell.execute_reply": "2021-09-25T22:11:10.673799Z"
    }
   },
   "outputs": [
    {
     "name": "stdout",
     "output_type": "stream",
     "text": [
      "Recent query happens at 2021-09-26 06:11:06 (CST).\n"
     ]
    }
   ],
   "source": [
    "def ts2dt(ts, format=DATETIME_FORMAT):\r\n",
    "    dt = (datetime.utcfromtimestamp(int(ts))\r\n",
    "                    .replace(tzinfo=tz.tzutc())\r\n",
    "                    # .astimezone(tz.tzlocal())\r\n",
    "                    .astimezone(tz.gettz(TIME_ZONE)))\r\n",
    "    return dt.strftime(format), dt\r\n",
    "\r\n",
    "_, newest_dt = ts2dt(newest_ts)\r\n",
    "print(f\"Recent query happens at {newest_dt.strftime(DATETIME_FORMAT)} ({newest_dt.tzname()}).\")"
   ]
  },
  {
   "cell_type": "code",
   "execution_count": 4,
   "metadata": {
    "execution": {
     "iopub.execute_input": "2021-09-25T22:11:10.678711Z",
     "iopub.status.busy": "2021-09-25T22:11:10.677582Z",
     "iopub.status.idle": "2021-09-25T22:11:10.679252Z",
     "shell.execute_reply": "2021-09-25T22:11:10.679611Z"
    }
   },
   "outputs": [],
   "source": [
    "def degrees_to_cardinal(d):\r\n",
    "  dirs = ['N', 'NNE', 'NE', 'ENE', 'E', 'ESE', 'SE', 'SSE', 'S', 'SSW', 'SW', 'WSW', 'W', 'WNW', 'NW', 'NNW']\r\n",
    "  ix = int(round(d / (360. / len(dirs))))\r\n",
    "  return dirs[ix % len(dirs)]"
   ]
  },
  {
   "cell_type": "code",
   "execution_count": 5,
   "metadata": {
    "execution": {
     "iopub.execute_input": "2021-09-25T22:11:10.683387Z",
     "iopub.status.busy": "2021-09-25T22:11:10.682341Z",
     "iopub.status.idle": "2021-09-25T22:11:10.683904Z",
     "shell.execute_reply": "2021-09-25T22:11:10.684260Z"
    }
   },
   "outputs": [],
   "source": [
    "# data.keys()"
   ]
  },
  {
   "cell_type": "code",
   "execution_count": 6,
   "metadata": {
    "execution": {
     "iopub.execute_input": "2021-09-25T22:11:10.687914Z",
     "iopub.status.busy": "2021-09-25T22:11:10.686791Z",
     "iopub.status.idle": "2021-09-25T22:11:10.688424Z",
     "shell.execute_reply": "2021-09-25T22:11:10.688782Z"
    }
   },
   "outputs": [],
   "source": [
    "# data['current']"
   ]
  },
  {
   "cell_type": "code",
   "execution_count": 7,
   "metadata": {
    "execution": {
     "iopub.execute_input": "2021-09-25T22:11:10.706643Z",
     "iopub.status.busy": "2021-09-25T22:11:10.706187Z",
     "iopub.status.idle": "2021-09-25T22:11:11.113132Z",
     "shell.execute_reply": "2021-09-25T22:11:11.113800Z"
    }
   },
   "outputs": [
    {
     "data": {
      "image/png": "[encoded data removed]",
      "text/plain": [
       "<Figure size 216x216 with 1 Axes>"
      ]
     },
     "metadata": {
      "needs_background": "light"
     },
     "output_type": "display_data"
    },
    {
     "name": "stdout",
     "output_type": "stream",
     "text": [
      "Today, sun rises at 06:12 and sets at 18:15.\n",
      "Currently, the weather is Clouds (scattered clouds).\n",
      "The temperature is 27.63°C and it feels like 31.33°C.\n",
      "The UV index is 0, humidity is 81%.\n",
      "The pressure is 1011 hPa, percentage of cloud cover is 33%\n",
      "The wind comes from ENE direction with a speed 4.02 m/s.\n"
     ]
    }
   ],
   "source": [
    "current = data['current']\r\n",
    "\r\n",
    "fig, ax = plt.subplots(figsize=(3, 3))\r\n",
    "icon = requests.get(f\"http://openweathermap.org/img/wn/{current['weather'][0]['icon']}@2x.png\")\r\n",
    "im = Image.open(BytesIO(icon.content))\r\n",
    "plt.imshow(im)\r\n",
    "ax.set_axis_off()\r\n",
    "plt.show()\r\n",
    "\r\n",
    "print(f\"Today, sun rises at {ts2dt(current['sunrise'], '%H:%M')[0]} \\\r\n",
    "and sets at {ts2dt(current['sunset'], '%H:%M')[0]}.\\n\\\r\n",
    "Currently, the weather is {current['weather'][0]['main']} ({current['weather'][0]['description']}).\\n\\\r\n",
    "The temperature is {current['temp']}°C and it feels like {current['feels_like']}°C.\\n\\\r\n",
    "The UV index is {current['uvi']}, humidity is {current['humidity']}%.\\n\\\r\n",
    "The pressure is {current['pressure']} hPa, percentage of cloud cover is {current['clouds']}%\\n\\\r\n",
    "The wind comes from {degrees_to_cardinal(current['wind_deg'])} direction with a speed {current['wind_speed']} m/s.\")"
   ]
  },
  {
   "cell_type": "code",
   "execution_count": 8,
   "metadata": {
    "execution": {
     "iopub.execute_input": "2021-09-25T22:11:11.116930Z",
     "iopub.status.busy": "2021-09-25T22:11:11.116014Z",
     "iopub.status.idle": "2021-09-25T22:11:11.122594Z",
     "shell.execute_reply": "2021-09-25T22:11:11.123254Z"
    }
   },
   "outputs": [],
   "source": [
    "df_hourly = pd.DataFrame(data['hourly'])\r\n",
    "df_daily = pd.DataFrame(data['daily'])"
   ]
  },
  {
   "cell_type": "code",
   "execution_count": 9,
   "metadata": {
    "execution": {
     "iopub.execute_input": "2021-09-25T22:11:11.126301Z",
     "iopub.status.busy": "2021-09-25T22:11:11.125288Z",
     "iopub.status.idle": "2021-09-25T22:11:11.371927Z",
     "shell.execute_reply": "2021-09-25T22:11:11.372594Z"
    }
   },
   "outputs": [
    {
     "data": {
      "image/png": "[encoded data removed]",
      "text/plain": [
       "<Figure size 864x432 with 1 Axes>"
      ]
     },
     "metadata": {
      "needs_background": "light"
     },
     "output_type": "display_data"
    }
   ],
   "source": [
    "fig, ax = plt.subplots(figsize=(12, 6))\r\n",
    "plt.plot(df_hourly.temp, '.-', label='Temperature')\r\n",
    "plt.plot(df_hourly.feels_like, '.-', label='Feels Like')\r\n",
    "ax.set(title='Temperature in future 48 hours', xlabel='Time', ylabel='Temperature')\r\n",
    "ax.set_xticks(list(range(0, len(df_hourly), 2)))\r\n",
    "ax.set_xticklabels([ts2dt(ts, '%m-%d %H:%M')[0] for i, ts in enumerate(df_hourly.dt) if i%2==0], \r\n",
    "                   rotation=45, ha=\"right\")\r\n",
    "ax.locator_params(nbins=15, axis='y')\r\n",
    "plt.legend()\r\n",
    "plt.show()"
   ]
  },
  {
   "cell_type": "code",
   "execution_count": 10,
   "metadata": {
    "execution": {
     "iopub.execute_input": "2021-09-25T22:11:11.375698Z",
     "iopub.status.busy": "2021-09-25T22:11:11.374768Z",
     "iopub.status.idle": "2021-09-25T22:11:11.393075Z",
     "shell.execute_reply": "2021-09-25T22:11:11.393709Z"
    }
   },
   "outputs": [
    {
     "data": {
      "text/html": [
       "<div>\n",
       "<style scoped>\n",
       "    .dataframe tbody tr th:only-of-type {\n",
       "        vertical-align: middle;\n",
       "    }\n",
       "\n",
       "    .dataframe tbody tr th {\n",
       "        vertical-align: top;\n",
       "    }\n",
       "\n",
       "    .dataframe thead th {\n",
       "        text-align: right;\n",
       "    }\n",
       "</style>\n",
       "<table border=\"1\" class=\"dataframe\">\n",
       "  <thead>\n",
       "    <tr style=\"text-align: right;\">\n",
       "      <th></th>\n",
       "      <th>dt</th>\n",
       "      <th>temp</th>\n",
       "      <th>feels_like</th>\n",
       "      <th>pressure</th>\n",
       "      <th>humidity</th>\n",
       "      <th>dew_point</th>\n",
       "      <th>uvi</th>\n",
       "      <th>clouds</th>\n",
       "      <th>visibility</th>\n",
       "      <th>wind_speed</th>\n",
       "      <th>wind_deg</th>\n",
       "      <th>wind_gust</th>\n",
       "      <th>weather</th>\n",
       "      <th>pop</th>\n",
       "    </tr>\n",
       "  </thead>\n",
       "  <tbody>\n",
       "    <tr>\n",
       "      <th>0</th>\n",
       "      <td>1632607200</td>\n",
       "      <td>27.63</td>\n",
       "      <td>31.33</td>\n",
       "      <td>1011</td>\n",
       "      <td>81</td>\n",
       "      <td>24.07</td>\n",
       "      <td>0.00</td>\n",
       "      <td>33</td>\n",
       "      <td>10000</td>\n",
       "      <td>6.99</td>\n",
       "      <td>73</td>\n",
       "      <td>8.49</td>\n",
       "      <td>[{'id': 802, 'main': 'Clouds', 'description': ...</td>\n",
       "      <td>0.11</td>\n",
       "    </tr>\n",
       "    <tr>\n",
       "      <th>1</th>\n",
       "      <td>1632610800</td>\n",
       "      <td>27.54</td>\n",
       "      <td>30.98</td>\n",
       "      <td>1011</td>\n",
       "      <td>80</td>\n",
       "      <td>23.78</td>\n",
       "      <td>0.19</td>\n",
       "      <td>32</td>\n",
       "      <td>10000</td>\n",
       "      <td>7.10</td>\n",
       "      <td>69</td>\n",
       "      <td>8.66</td>\n",
       "      <td>[{'id': 802, 'main': 'Clouds', 'description': ...</td>\n",
       "      <td>0.11</td>\n",
       "    </tr>\n",
       "    <tr>\n",
       "      <th>2</th>\n",
       "      <td>1632614400</td>\n",
       "      <td>27.65</td>\n",
       "      <td>30.85</td>\n",
       "      <td>1012</td>\n",
       "      <td>77</td>\n",
       "      <td>23.25</td>\n",
       "      <td>1.06</td>\n",
       "      <td>31</td>\n",
       "      <td>10000</td>\n",
       "      <td>7.34</td>\n",
       "      <td>69</td>\n",
       "      <td>9.06</td>\n",
       "      <td>[{'id': 802, 'main': 'Clouds', 'description': ...</td>\n",
       "      <td>0.08</td>\n",
       "    </tr>\n",
       "    <tr>\n",
       "      <th>3</th>\n",
       "      <td>1632618000</td>\n",
       "      <td>27.93</td>\n",
       "      <td>31.06</td>\n",
       "      <td>1012</td>\n",
       "      <td>74</td>\n",
       "      <td>22.86</td>\n",
       "      <td>3.06</td>\n",
       "      <td>14</td>\n",
       "      <td>10000</td>\n",
       "      <td>7.25</td>\n",
       "      <td>69</td>\n",
       "      <td>8.66</td>\n",
       "      <td>[{'id': 801, 'main': 'Clouds', 'description': ...</td>\n",
       "      <td>0.00</td>\n",
       "    </tr>\n",
       "    <tr>\n",
       "      <th>4</th>\n",
       "      <td>1632621600</td>\n",
       "      <td>28.45</td>\n",
       "      <td>31.41</td>\n",
       "      <td>1013</td>\n",
       "      <td>69</td>\n",
       "      <td>22.21</td>\n",
       "      <td>5.82</td>\n",
       "      <td>11</td>\n",
       "      <td>10000</td>\n",
       "      <td>6.83</td>\n",
       "      <td>71</td>\n",
       "      <td>8.05</td>\n",
       "      <td>[{'id': 801, 'main': 'Clouds', 'description': ...</td>\n",
       "      <td>0.00</td>\n",
       "    </tr>\n",
       "  </tbody>\n",
       "</table>\n",
       "</div>"
      ],
      "text/plain": [
       "           dt   temp  feels_like  pressure  humidity  dew_point   uvi  clouds  \\\n",
       "0  1632607200  27.63       31.33      1011        81      24.07  0.00      33   \n",
       "1  1632610800  27.54       30.98      1011        80      23.78  0.19      32   \n",
       "2  1632614400  27.65       30.85      1012        77      23.25  1.06      31   \n",
       "3  1632618000  27.93       31.06      1012        74      22.86  3.06      14   \n",
       "4  1632621600  28.45       31.41      1013        69      22.21  5.82      11   \n",
       "\n",
       "   visibility  wind_speed  wind_deg  wind_gust  \\\n",
       "0       10000        6.99        73       8.49   \n",
       "1       10000        7.10        69       8.66   \n",
       "2       10000        7.34        69       9.06   \n",
       "3       10000        7.25        69       8.66   \n",
       "4       10000        6.83        71       8.05   \n",
       "\n",
       "                                             weather   pop  \n",
       "0  [{'id': 802, 'main': 'Clouds', 'description': ...  0.11  \n",
       "1  [{'id': 802, 'main': 'Clouds', 'description': ...  0.11  \n",
       "2  [{'id': 802, 'main': 'Clouds', 'description': ...  0.08  \n",
       "3  [{'id': 801, 'main': 'Clouds', 'description': ...  0.00  \n",
       "4  [{'id': 801, 'main': 'Clouds', 'description': ...  0.00  "
      ]
     },
     "execution_count": 10,
     "metadata": {},
     "output_type": "execute_result"
    }
   ],
   "source": [
    "df_hourly.head()"
   ]
  },
  {
   "cell_type": "code",
   "execution_count": null,
   "metadata": {},
   "outputs": [],
   "source": []
  }
 ],
 "metadata": {
  "interpreter": {
   "hash": "c1b4cfe941b6d2466ad1fb5979e97da9cda8801728c8091b097ab734208fc00c"
  },
  "kernelspec": {
   "display_name": "Python 3.8.3 64-bit ('base': conda)",
   "name": "python3"
  },
  "language_info": {
   "codemirror_mode": {
    "name": "ipython",
    "version": 3
   },
   "file_extension": ".py",
   "mimetype": "text/x-python",
   "name": "python",
   "nbconvert_exporter": "python",
   "pygments_lexer": "ipython3",
   "version": "3.8.12"
  }
 },
 "nbformat": 4,
 "nbformat_minor": 2
}
