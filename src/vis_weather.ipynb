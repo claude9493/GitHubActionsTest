{
 "cells": [
  {
   "cell_type": "code",
   "execution_count": 1,
   "metadata": {
    "execution": {
     "iopub.execute_input": "2021-09-24T06:13:57.981767Z",
     "iopub.status.busy": "2021-09-24T06:13:57.981193Z",
     "iopub.status.idle": "2021-09-24T06:13:59.264598Z",
     "shell.execute_reply": "2021-09-24T06:13:59.264059Z"
    }
   },
   "outputs": [],
   "source": [
    "import json, yaml, requests\r\n",
    "from datetime import datetime\r\n",
    "from dateutil import tz\r\n",
    "import pandas as pd\r\n",
    "from PIL import Image\r\n",
    "from io import BytesIO\r\n",
    "import matplotlib.pyplot as plt\r\n",
    "import seaborn\r\n",
    "\r\n",
    "CONFIG_PATH = \"../config/config.yaml\""
   ]
  },
  {
   "cell_type": "code",
   "execution_count": 2,
   "metadata": {
    "execution": {
     "iopub.execute_input": "2021-09-24T06:13:59.267275Z",
     "iopub.status.busy": "2021-09-24T06:13:59.266637Z",
     "iopub.status.idle": "2021-09-24T06:13:59.273577Z",
     "shell.execute_reply": "2021-09-24T06:13:59.273955Z"
    }
   },
   "outputs": [],
   "source": [
    "with open('../newest_ts', 'r') as f:\r\n",
    "    newest_ts = f.read()\r\n",
    "\r\n",
    "data_path = f\"../data/data_{newest_ts}.json\"\r\n",
    "with open(data_path, 'r') as f:\r\n",
    "    data = json.load(f)\r\n",
    "\r\n",
    "with open(CONFIG_PATH, \"r\") as stream:\r\n",
    "    config = yaml.safe_load(stream)\r\n",
    "\r\n",
    "TIME_ZONE = config['time_zone']\r\n",
    "DATETIME_FORMAT = config['dt_format']"
   ]
  },
  {
   "cell_type": "code",
   "execution_count": 3,
   "metadata": {
    "execution": {
     "iopub.execute_input": "2021-09-24T06:13:59.278417Z",
     "iopub.status.busy": "2021-09-24T06:13:59.277692Z",
     "iopub.status.idle": "2021-09-24T06:13:59.289022Z",
     "shell.execute_reply": "2021-09-24T06:13:59.289404Z"
    }
   },
   "outputs": [
    {
     "name": "stdout",
     "output_type": "stream",
     "text": [
      "Recent query happens at 2021-09-24 14:13:54 (CST).\n"
     ]
    }
   ],
   "source": [
    "def ts2dt(ts, format=DATETIME_FORMAT):\r\n",
    "    dt = (datetime.utcfromtimestamp(int(ts))\r\n",
    "                    .replace(tzinfo=tz.tzutc())\r\n",
    "                    # .astimezone(tz.tzlocal())\r\n",
    "                    .astimezone(tz.gettz(TIME_ZONE)))\r\n",
    "    return dt.strftime(format), dt\r\n",
    "\r\n",
    "_, newest_dt = ts2dt(newest_ts)\r\n",
    "print(f\"Recent query happens at {newest_dt.strftime(DATETIME_FORMAT)} ({newest_dt.tzname()}).\")"
   ]
  },
  {
   "cell_type": "code",
   "execution_count": 4,
   "metadata": {
    "execution": {
     "iopub.execute_input": "2021-09-24T06:13:59.294798Z",
     "iopub.status.busy": "2021-09-24T06:13:59.293580Z",
     "iopub.status.idle": "2021-09-24T06:13:59.295345Z",
     "shell.execute_reply": "2021-09-24T06:13:59.295742Z"
    }
   },
   "outputs": [],
   "source": [
    "def degrees_to_cardinal(d):\r\n",
    "  dirs = ['N', 'NNE', 'NE', 'ENE', 'E', 'ESE', 'SE', 'SSE', 'S', 'SSW', 'SW', 'WSW', 'W', 'WNW', 'NW', 'NNW']\r\n",
    "  ix = int(round(d / (360. / len(dirs))))\r\n",
    "  return dirs[ix % len(dirs)]"
   ]
  },
  {
   "cell_type": "code",
   "execution_count": 5,
   "metadata": {
    "execution": {
     "iopub.execute_input": "2021-09-24T06:13:59.300206Z",
     "iopub.status.busy": "2021-09-24T06:13:59.298857Z",
     "iopub.status.idle": "2021-09-24T06:13:59.300941Z",
     "shell.execute_reply": "2021-09-24T06:13:59.301499Z"
    }
   },
   "outputs": [],
   "source": [
    "# data.keys()"
   ]
  },
  {
   "cell_type": "code",
   "execution_count": 6,
   "metadata": {
    "execution": {
     "iopub.execute_input": "2021-09-24T06:13:59.304896Z",
     "iopub.status.busy": "2021-09-24T06:13:59.304416Z",
     "iopub.status.idle": "2021-09-24T06:13:59.307946Z",
     "shell.execute_reply": "2021-09-24T06:13:59.307517Z"
    }
   },
   "outputs": [],
   "source": [
    "# data['current']"
   ]
  },
  {
   "cell_type": "code",
   "execution_count": 7,
   "metadata": {
    "execution": {
     "iopub.execute_input": "2021-09-24T06:13:59.334562Z",
     "iopub.status.busy": "2021-09-24T06:13:59.326608Z",
     "iopub.status.idle": "2021-09-24T06:13:59.767324Z",
     "shell.execute_reply": "2021-09-24T06:13:59.768041Z"
    }
   },
   "outputs": [
    {
     "data": {
      "image/png": "[encoded data removed]",
      "text/plain": [
       "<Figure size 216x216 with 1 Axes>"
      ]
     },
     "metadata": {
      "needs_background": "light"
     },
     "output_type": "display_data"
    },
    {
     "name": "stdout",
     "output_type": "stream",
     "text": [
      "Today, sun rises at 06:12 and sets at 18:17.\n",
      "Currently, the weather is Clouds (scattered clouds).\n",
      "The temperature is 30.83°C and it feels like 37.83°C.\n",
      "The UV index is 8.1, humidity is 81%.\n",
      "The pressure is 1013 hPa, percentage of cloud cover is 47%\n",
      "The wind comes from E direction with a speed 6.5 m/s.\n"
     ]
    }
   ],
   "source": [
    "current = data['current']\r\n",
    "\r\n",
    "fig, ax = plt.subplots(figsize=(3, 3))\r\n",
    "icon = requests.get(f\"http://openweathermap.org/img/wn/{current['weather'][0]['icon']}@2x.png\")\r\n",
    "im = Image.open(BytesIO(icon.content))\r\n",
    "plt.imshow(im)\r\n",
    "ax.set_axis_off()\r\n",
    "plt.show()\r\n",
    "\r\n",
    "print(f\"Today, sun rises at {ts2dt(current['sunrise'], '%H:%M')[0]} \\\r\n",
    "and sets at {ts2dt(current['sunset'], '%H:%M')[0]}.\\n\\\r\n",
    "Currently, the weather is {current['weather'][0]['main']} ({current['weather'][0]['description']}).\\n\\\r\n",
    "The temperature is {current['temp']}°C and it feels like {current['feels_like']}°C.\\n\\\r\n",
    "The UV index is {current['uvi']}, humidity is {current['humidity']}%.\\n\\\r\n",
    "The pressure is {current['pressure']} hPa, percentage of cloud cover is {current['clouds']}%\\n\\\r\n",
    "The wind comes from {degrees_to_cardinal(current['wind_deg'])} direction with a speed {current['wind_speed']} m/s.\")"
   ]
  },
  {
   "cell_type": "code",
   "execution_count": 8,
   "metadata": {
    "execution": {
     "iopub.execute_input": "2021-09-24T06:13:59.771446Z",
     "iopub.status.busy": "2021-09-24T06:13:59.770492Z",
     "iopub.status.idle": "2021-09-24T06:13:59.777787Z",
     "shell.execute_reply": "2021-09-24T06:13:59.778463Z"
    }
   },
   "outputs": [],
   "source": [
    "df_hourly = pd.DataFrame(data['hourly'])\r\n",
    "df_daily = pd.DataFrame(data['daily'])"
   ]
  },
  {
   "cell_type": "code",
   "execution_count": 9,
   "metadata": {
    "execution": {
     "iopub.execute_input": "2021-09-24T06:13:59.781611Z",
     "iopub.status.busy": "2021-09-24T06:13:59.780523Z",
     "iopub.status.idle": "2021-09-24T06:14:00.075857Z",
     "shell.execute_reply": "2021-09-24T06:14:00.075427Z"
    }
   },
   "outputs": [
    {
     "data": {
      "image/png": "[encoded data removed]",
      "text/plain": [
       "<Figure size 864x432 with 1 Axes>"
      ]
     },
     "metadata": {
      "needs_background": "light"
     },
     "output_type": "display_data"
    }
   ],
   "source": [
    "fig, ax = plt.subplots(figsize=(12, 6))\r\n",
    "plt.plot(df_hourly.temp, '.-', label='Temperature')\r\n",
    "plt.plot(df_hourly.feels_like, '.-', label='Feels Like')\r\n",
    "ax.set(title='Temperature in future 48 hours', xlabel='Time', ylabel='Temperature')\r\n",
    "ax.set_xticks(list(range(0, len(df_hourly), 2)))\r\n",
    "ax.set_xticklabels([ts2dt(ts, '%m-%d %H:%M')[0] for i, ts in enumerate(df_hourly.dt) if i%2==0], \r\n",
    "                   rotation=45, ha=\"right\")\r\n",
    "ax.locator_params(nbins=15, axis='y')\r\n",
    "plt.legend()\r\n",
    "plt.show()"
   ]
  },
  {
   "cell_type": "code",
   "execution_count": 10,
   "metadata": {
    "execution": {
     "iopub.execute_input": "2021-09-24T06:14:00.087445Z",
     "iopub.status.busy": "2021-09-24T06:14:00.079741Z",
     "iopub.status.idle": "2021-09-24T06:14:00.099033Z",
     "shell.execute_reply": "2021-09-24T06:14:00.098613Z"
    }
   },
   "outputs": [
    {
     "data": {
      "text/html": [
       "<div>\n",
       "<style scoped>\n",
       "    .dataframe tbody tr th:only-of-type {\n",
       "        vertical-align: middle;\n",
       "    }\n",
       "\n",
       "    .dataframe tbody tr th {\n",
       "        vertical-align: top;\n",
       "    }\n",
       "\n",
       "    .dataframe thead th {\n",
       "        text-align: right;\n",
       "    }\n",
       "</style>\n",
       "<table border=\"1\" class=\"dataframe\">\n",
       "  <thead>\n",
       "    <tr style=\"text-align: right;\">\n",
       "      <th></th>\n",
       "      <th>dt</th>\n",
       "      <th>temp</th>\n",
       "      <th>feels_like</th>\n",
       "      <th>pressure</th>\n",
       "      <th>humidity</th>\n",
       "      <th>dew_point</th>\n",
       "      <th>uvi</th>\n",
       "      <th>clouds</th>\n",
       "      <th>visibility</th>\n",
       "      <th>wind_speed</th>\n",
       "      <th>wind_deg</th>\n",
       "      <th>wind_gust</th>\n",
       "      <th>weather</th>\n",
       "      <th>pop</th>\n",
       "      <th>rain</th>\n",
       "    </tr>\n",
       "  </thead>\n",
       "  <tbody>\n",
       "    <tr>\n",
       "      <th>0</th>\n",
       "      <td>1632463200</td>\n",
       "      <td>30.83</td>\n",
       "      <td>37.83</td>\n",
       "      <td>1013</td>\n",
       "      <td>81</td>\n",
       "      <td>27.19</td>\n",
       "      <td>8.10</td>\n",
       "      <td>47</td>\n",
       "      <td>10000</td>\n",
       "      <td>6.50</td>\n",
       "      <td>88</td>\n",
       "      <td>7.78</td>\n",
       "      <td>[{'id': 802, 'main': 'Clouds', 'description': ...</td>\n",
       "      <td>0.30</td>\n",
       "      <td>NaN</td>\n",
       "    </tr>\n",
       "    <tr>\n",
       "      <th>1</th>\n",
       "      <td>1632466800</td>\n",
       "      <td>30.64</td>\n",
       "      <td>37.64</td>\n",
       "      <td>1013</td>\n",
       "      <td>79</td>\n",
       "      <td>26.58</td>\n",
       "      <td>5.46</td>\n",
       "      <td>41</td>\n",
       "      <td>10000</td>\n",
       "      <td>6.62</td>\n",
       "      <td>93</td>\n",
       "      <td>7.95</td>\n",
       "      <td>[{'id': 802, 'main': 'Clouds', 'description': ...</td>\n",
       "      <td>0.30</td>\n",
       "      <td>NaN</td>\n",
       "    </tr>\n",
       "    <tr>\n",
       "      <th>2</th>\n",
       "      <td>1632470400</td>\n",
       "      <td>30.31</td>\n",
       "      <td>37.31</td>\n",
       "      <td>1013</td>\n",
       "      <td>78</td>\n",
       "      <td>26.04</td>\n",
       "      <td>2.71</td>\n",
       "      <td>32</td>\n",
       "      <td>10000</td>\n",
       "      <td>6.71</td>\n",
       "      <td>96</td>\n",
       "      <td>8.27</td>\n",
       "      <td>[{'id': 802, 'main': 'Clouds', 'description': ...</td>\n",
       "      <td>0.34</td>\n",
       "      <td>NaN</td>\n",
       "    </tr>\n",
       "    <tr>\n",
       "      <th>3</th>\n",
       "      <td>1632474000</td>\n",
       "      <td>29.77</td>\n",
       "      <td>36.44</td>\n",
       "      <td>1012</td>\n",
       "      <td>78</td>\n",
       "      <td>25.52</td>\n",
       "      <td>0.86</td>\n",
       "      <td>24</td>\n",
       "      <td>10000</td>\n",
       "      <td>6.73</td>\n",
       "      <td>96</td>\n",
       "      <td>8.45</td>\n",
       "      <td>[{'id': 801, 'main': 'Clouds', 'description': ...</td>\n",
       "      <td>0.38</td>\n",
       "      <td>NaN</td>\n",
       "    </tr>\n",
       "    <tr>\n",
       "      <th>4</th>\n",
       "      <td>1632477600</td>\n",
       "      <td>28.94</td>\n",
       "      <td>34.36</td>\n",
       "      <td>1012</td>\n",
       "      <td>79</td>\n",
       "      <td>24.93</td>\n",
       "      <td>0.00</td>\n",
       "      <td>14</td>\n",
       "      <td>10000</td>\n",
       "      <td>6.53</td>\n",
       "      <td>96</td>\n",
       "      <td>8.69</td>\n",
       "      <td>[{'id': 801, 'main': 'Clouds', 'description': ...</td>\n",
       "      <td>0.38</td>\n",
       "      <td>NaN</td>\n",
       "    </tr>\n",
       "  </tbody>\n",
       "</table>\n",
       "</div>"
      ],
      "text/plain": [
       "           dt   temp  feels_like  pressure  humidity  dew_point   uvi  clouds  \\\n",
       "0  1632463200  30.83       37.83      1013        81      27.19  8.10      47   \n",
       "1  1632466800  30.64       37.64      1013        79      26.58  5.46      41   \n",
       "2  1632470400  30.31       37.31      1013        78      26.04  2.71      32   \n",
       "3  1632474000  29.77       36.44      1012        78      25.52  0.86      24   \n",
       "4  1632477600  28.94       34.36      1012        79      24.93  0.00      14   \n",
       "\n",
       "   visibility  wind_speed  wind_deg  wind_gust  \\\n",
       "0       10000        6.50        88       7.78   \n",
       "1       10000        6.62        93       7.95   \n",
       "2       10000        6.71        96       8.27   \n",
       "3       10000        6.73        96       8.45   \n",
       "4       10000        6.53        96       8.69   \n",
       "\n",
       "                                             weather   pop rain  \n",
       "0  [{'id': 802, 'main': 'Clouds', 'description': ...  0.30  NaN  \n",
       "1  [{'id': 802, 'main': 'Clouds', 'description': ...  0.30  NaN  \n",
       "2  [{'id': 802, 'main': 'Clouds', 'description': ...  0.34  NaN  \n",
       "3  [{'id': 801, 'main': 'Clouds', 'description': ...  0.38  NaN  \n",
       "4  [{'id': 801, 'main': 'Clouds', 'description': ...  0.38  NaN  "
      ]
     },
     "execution_count": 10,
     "metadata": {},
     "output_type": "execute_result"
    }
   ],
   "source": [
    "df_hourly.head()"
   ]
  },
  {
   "cell_type": "code",
   "execution_count": null,
   "metadata": {},
   "outputs": [],
   "source": []
  }
 ],
 "metadata": {
  "interpreter": {
   "hash": "c1b4cfe941b6d2466ad1fb5979e97da9cda8801728c8091b097ab734208fc00c"
  },
  "kernelspec": {
   "display_name": "Python 3.8.3 64-bit ('base': conda)",
   "name": "python3"
  },
  "language_info": {
   "codemirror_mode": {
    "name": "ipython",
    "version": 3
   },
   "file_extension": ".py",
   "mimetype": "text/x-python",
   "name": "python",
   "nbconvert_exporter": "python",
   "pygments_lexer": "ipython3",
   "version": "3.8.12"
  }
 },
 "nbformat": 4,
 "nbformat_minor": 2
}
