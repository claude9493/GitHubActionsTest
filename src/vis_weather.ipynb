{
 "cells": [
  {
   "cell_type": "code",
   "execution_count": 1,
   "metadata": {
    "execution": {
     "iopub.execute_input": "2021-08-30T23:38:20.461016Z",
     "iopub.status.busy": "2021-08-30T23:38:20.460167Z",
     "iopub.status.idle": "2021-08-30T23:38:24.255264Z",
     "shell.execute_reply": "2021-08-30T23:38:24.255768Z"
    }
   },
   "outputs": [],
   "source": [
    "import json, yaml, requests\r\n",
    "from datetime import datetime\r\n",
    "from dateutil import tz\r\n",
    "import pandas as pd\r\n",
    "from PIL import Image\r\n",
    "from io import BytesIO\r\n",
    "import matplotlib.pyplot as plt\r\n",
    "import seaborn\r\n",
    "\r\n",
    "CONFIG_PATH = \"../config/config.yaml\""
   ]
  },
  {
   "cell_type": "code",
   "execution_count": 2,
   "metadata": {
    "execution": {
     "iopub.execute_input": "2021-08-30T23:38:24.261626Z",
     "iopub.status.busy": "2021-08-30T23:38:24.260530Z",
     "iopub.status.idle": "2021-08-30T23:38:24.266238Z",
     "shell.execute_reply": "2021-08-30T23:38:24.266703Z"
    }
   },
   "outputs": [],
   "source": [
    "with open('../newest_ts', 'r') as f:\r\n",
    "    newest_ts = f.read()\r\n",
    "\r\n",
    "data_path = f\"../data/data_{newest_ts}.json\"\r\n",
    "with open(data_path, 'r') as f:\r\n",
    "    data = json.load(f)\r\n",
    "\r\n",
    "with open(CONFIG_PATH, \"r\") as stream:\r\n",
    "    config = yaml.safe_load(stream)\r\n",
    "\r\n",
    "TIME_ZONE = config['time_zone']\r\n",
    "DATETIME_FORMAT = config['dt_format']"
   ]
  },
  {
   "cell_type": "code",
   "execution_count": 3,
   "metadata": {
    "execution": {
     "iopub.execute_input": "2021-08-30T23:38:24.281605Z",
     "iopub.status.busy": "2021-08-30T23:38:24.279579Z",
     "iopub.status.idle": "2021-08-30T23:38:24.284632Z",
     "shell.execute_reply": "2021-08-30T23:38:24.285155Z"
    }
   },
   "outputs": [
    {
     "name": "stdout",
     "output_type": "stream",
     "text": [
      "Recent query happens at 2021-08-31 07:38:16 (CST).\n"
     ]
    }
   ],
   "source": [
    "def ts2dt(ts, format=DATETIME_FORMAT):\r\n",
    "    dt = (datetime.utcfromtimestamp(int(ts))\r\n",
    "                    .replace(tzinfo=tz.tzutc())\r\n",
    "                    # .astimezone(tz.tzlocal())\r\n",
    "                    .astimezone(tz.gettz(TIME_ZONE)))\r\n",
    "    return dt.strftime(format), dt\r\n",
    "\r\n",
    "_, newest_dt = ts2dt(newest_ts)\r\n",
    "print(f\"Recent query happens at {newest_dt.strftime(DATETIME_FORMAT)} ({newest_dt.tzname()}).\")"
   ]
  },
  {
   "cell_type": "code",
   "execution_count": 4,
   "metadata": {
    "execution": {
     "iopub.execute_input": "2021-08-30T23:38:24.291422Z",
     "iopub.status.busy": "2021-08-30T23:38:24.290075Z",
     "iopub.status.idle": "2021-08-30T23:38:24.292008Z",
     "shell.execute_reply": "2021-08-30T23:38:24.292475Z"
    }
   },
   "outputs": [],
   "source": [
    "def degrees_to_cardinal(d):\r\n",
    "  dirs = ['N', 'NNE', 'NE', 'ENE', 'E', 'ESE', 'SE', 'SSE', 'S', 'SSW', 'SW', 'WSW', 'W', 'WNW', 'NW', 'NNW']\r\n",
    "  ix = int(round(d / (360. / len(dirs))))\r\n",
    "  return dirs[ix % len(dirs)]"
   ]
  },
  {
   "cell_type": "code",
   "execution_count": 5,
   "metadata": {
    "execution": {
     "iopub.execute_input": "2021-08-30T23:38:24.296406Z",
     "iopub.status.busy": "2021-08-30T23:38:24.295667Z",
     "iopub.status.idle": "2021-08-30T23:38:24.298357Z",
     "shell.execute_reply": "2021-08-30T23:38:24.297900Z"
    }
   },
   "outputs": [],
   "source": [
    "# data.keys()"
   ]
  },
  {
   "cell_type": "code",
   "execution_count": 6,
   "metadata": {
    "execution": {
     "iopub.execute_input": "2021-08-30T23:38:24.301719Z",
     "iopub.status.busy": "2021-08-30T23:38:24.301163Z",
     "iopub.status.idle": "2021-08-30T23:38:24.303611Z",
     "shell.execute_reply": "2021-08-30T23:38:24.303157Z"
    }
   },
   "outputs": [],
   "source": [
    "# data['current']"
   ]
  },
  {
   "cell_type": "code",
   "execution_count": 7,
   "metadata": {
    "execution": {
     "iopub.execute_input": "2021-08-30T23:38:24.324150Z",
     "iopub.status.busy": "2021-08-30T23:38:24.323541Z",
     "iopub.status.idle": "2021-08-30T23:38:24.945189Z",
     "shell.execute_reply": "2021-08-30T23:38:24.946048Z"
    }
   },
   "outputs": [
    {
     "data": {
      "image/png": "[encoded data removed]",
      "text/plain": [
       "<Figure size 216x216 with 1 Axes>"
      ]
     },
     "metadata": {
      "needs_background": "light"
     },
     "output_type": "display_data"
    },
    {
     "name": "stdout",
     "output_type": "stream",
     "text": [
      "Today, sun rises at 06:05 and sets at 18:41.\n",
      "Currently, the weather is Clouds (broken clouds).\n",
      "The temperature is 28.4°C and it feels like 34.05°C.\n",
      "The UV index is 0.8, humidity is 85%.\n",
      "The pressure is 1012 hPa, percentage of cloud cover is 72%\n",
      "The wind comes from E direction with a speed 2.67 m/s.\n"
     ]
    }
   ],
   "source": [
    "current = data['current']\r\n",
    "\r\n",
    "fig, ax = plt.subplots(figsize=(3, 3))\r\n",
    "icon = requests.get(f\"http://openweathermap.org/img/wn/{current['weather'][0]['icon']}@2x.png\")\r\n",
    "im = Image.open(BytesIO(icon.content))\r\n",
    "plt.imshow(im)\r\n",
    "ax.set_axis_off()\r\n",
    "plt.show()\r\n",
    "\r\n",
    "print(f\"Today, sun rises at {ts2dt(current['sunrise'], '%H:%M')[0]} \\\r\n",
    "and sets at {ts2dt(current['sunset'], '%H:%M')[0]}.\\n\\\r\n",
    "Currently, the weather is {current['weather'][0]['main']} ({current['weather'][0]['description']}).\\n\\\r\n",
    "The temperature is {current['temp']}°C and it feels like {current['feels_like']}°C.\\n\\\r\n",
    "The UV index is {current['uvi']}, humidity is {current['humidity']}%.\\n\\\r\n",
    "The pressure is {current['pressure']} hPa, percentage of cloud cover is {current['clouds']}%\\n\\\r\n",
    "The wind comes from {degrees_to_cardinal(current['wind_deg'])} direction with a speed {current['wind_speed']} m/s.\")"
   ]
  },
  {
   "cell_type": "code",
   "execution_count": 8,
   "metadata": {
    "execution": {
     "iopub.execute_input": "2021-08-30T23:38:24.950008Z",
     "iopub.status.busy": "2021-08-30T23:38:24.949389Z",
     "iopub.status.idle": "2021-08-30T23:38:24.958296Z",
     "shell.execute_reply": "2021-08-30T23:38:24.959127Z"
    }
   },
   "outputs": [],
   "source": [
    "df_hourly = pd.DataFrame(data['hourly'])\r\n",
    "df_daily = pd.DataFrame(data['daily'])"
   ]
  },
  {
   "cell_type": "code",
   "execution_count": 9,
   "metadata": {
    "execution": {
     "iopub.execute_input": "2021-08-30T23:38:24.963125Z",
     "iopub.status.busy": "2021-08-30T23:38:24.961892Z",
     "iopub.status.idle": "2021-08-30T23:38:25.259059Z",
     "shell.execute_reply": "2021-08-30T23:38:25.258529Z"
    }
   },
   "outputs": [
    {
     "data": {
      "image/png": "[encoded data removed]",
      "text/plain": [
       "<Figure size 864x432 with 1 Axes>"
      ]
     },
     "metadata": {
      "needs_background": "light"
     },
     "output_type": "display_data"
    }
   ],
   "source": [
    "fig, ax = plt.subplots(figsize=(12, 6))\r\n",
    "plt.plot(df_hourly.temp, '.-', label='Temperature')\r\n",
    "plt.plot(df_hourly.feels_like, '.-', label='Feels Like')\r\n",
    "ax.set(title='Temperature in future 48 hours', xlabel='Time', ylabel='Temperature')\r\n",
    "ax.set_xticks(list(range(0, len(df_hourly), 2)))\r\n",
    "ax.set_xticklabels([ts2dt(ts, '%m-%d %H:%M')[0] for i, ts in enumerate(df_hourly.dt) if i%2==0], \r\n",
    "                   rotation=45, ha=\"right\")\r\n",
    "ax.locator_params(nbins=15, axis='y')\r\n",
    "plt.legend()\r\n",
    "plt.show()"
   ]
  },
  {
   "cell_type": "code",
   "execution_count": 10,
   "metadata": {
    "execution": {
     "iopub.execute_input": "2021-08-30T23:38:25.263422Z",
     "iopub.status.busy": "2021-08-30T23:38:25.262815Z",
     "iopub.status.idle": "2021-08-30T23:38:25.285923Z",
     "shell.execute_reply": "2021-08-30T23:38:25.285447Z"
    }
   },
   "outputs": [
    {
     "data": {
      "text/html": [
       "<div>\n",
       "<style scoped>\n",
       "    .dataframe tbody tr th:only-of-type {\n",
       "        vertical-align: middle;\n",
       "    }\n",
       "\n",
       "    .dataframe tbody tr th {\n",
       "        vertical-align: top;\n",
       "    }\n",
       "\n",
       "    .dataframe thead th {\n",
       "        text-align: right;\n",
       "    }\n",
       "</style>\n",
       "<table border=\"1\" class=\"dataframe\">\n",
       "  <thead>\n",
       "    <tr style=\"text-align: right;\">\n",
       "      <th></th>\n",
       "      <th>dt</th>\n",
       "      <th>temp</th>\n",
       "      <th>feels_like</th>\n",
       "      <th>pressure</th>\n",
       "      <th>humidity</th>\n",
       "      <th>dew_point</th>\n",
       "      <th>uvi</th>\n",
       "      <th>clouds</th>\n",
       "      <th>visibility</th>\n",
       "      <th>wind_speed</th>\n",
       "      <th>wind_deg</th>\n",
       "      <th>wind_gust</th>\n",
       "      <th>weather</th>\n",
       "      <th>pop</th>\n",
       "      <th>rain</th>\n",
       "    </tr>\n",
       "  </thead>\n",
       "  <tbody>\n",
       "    <tr>\n",
       "      <th>0</th>\n",
       "      <td>1630364400</td>\n",
       "      <td>28.13</td>\n",
       "      <td>33.09</td>\n",
       "      <td>1012</td>\n",
       "      <td>84</td>\n",
       "      <td>25.17</td>\n",
       "      <td>0.18</td>\n",
       "      <td>73</td>\n",
       "      <td>10000</td>\n",
       "      <td>2.30</td>\n",
       "      <td>90</td>\n",
       "      <td>2.69</td>\n",
       "      <td>[{'id': 501, 'main': 'Rain', 'description': 'm...</td>\n",
       "      <td>1.00</td>\n",
       "      <td>{'1h': 1.38}</td>\n",
       "    </tr>\n",
       "    <tr>\n",
       "      <th>1</th>\n",
       "      <td>1630368000</td>\n",
       "      <td>28.40</td>\n",
       "      <td>34.05</td>\n",
       "      <td>1012</td>\n",
       "      <td>85</td>\n",
       "      <td>25.63</td>\n",
       "      <td>0.80</td>\n",
       "      <td>72</td>\n",
       "      <td>10000</td>\n",
       "      <td>2.67</td>\n",
       "      <td>82</td>\n",
       "      <td>3.25</td>\n",
       "      <td>[{'id': 803, 'main': 'Clouds', 'description': ...</td>\n",
       "      <td>0.80</td>\n",
       "      <td>NaN</td>\n",
       "    </tr>\n",
       "    <tr>\n",
       "      <th>2</th>\n",
       "      <td>1630371600</td>\n",
       "      <td>28.45</td>\n",
       "      <td>33.62</td>\n",
       "      <td>1012</td>\n",
       "      <td>82</td>\n",
       "      <td>25.08</td>\n",
       "      <td>3.83</td>\n",
       "      <td>62</td>\n",
       "      <td>10000</td>\n",
       "      <td>2.79</td>\n",
       "      <td>73</td>\n",
       "      <td>3.57</td>\n",
       "      <td>[{'id': 803, 'main': 'Clouds', 'description': ...</td>\n",
       "      <td>0.58</td>\n",
       "      <td>NaN</td>\n",
       "    </tr>\n",
       "    <tr>\n",
       "      <th>3</th>\n",
       "      <td>1630375200</td>\n",
       "      <td>28.70</td>\n",
       "      <td>33.53</td>\n",
       "      <td>1012</td>\n",
       "      <td>78</td>\n",
       "      <td>24.48</td>\n",
       "      <td>6.87</td>\n",
       "      <td>52</td>\n",
       "      <td>10000</td>\n",
       "      <td>3.60</td>\n",
       "      <td>72</td>\n",
       "      <td>4.27</td>\n",
       "      <td>[{'id': 500, 'main': 'Rain', 'description': 'l...</td>\n",
       "      <td>0.78</td>\n",
       "      <td>{'1h': 0.32}</td>\n",
       "    </tr>\n",
       "    <tr>\n",
       "      <th>4</th>\n",
       "      <td>1630378800</td>\n",
       "      <td>29.08</td>\n",
       "      <td>33.49</td>\n",
       "      <td>1012</td>\n",
       "      <td>73</td>\n",
       "      <td>23.74</td>\n",
       "      <td>9.67</td>\n",
       "      <td>40</td>\n",
       "      <td>10000</td>\n",
       "      <td>4.20</td>\n",
       "      <td>80</td>\n",
       "      <td>4.80</td>\n",
       "      <td>[{'id': 500, 'main': 'Rain', 'description': 'l...</td>\n",
       "      <td>0.88</td>\n",
       "      <td>{'1h': 0.22}</td>\n",
       "    </tr>\n",
       "  </tbody>\n",
       "</table>\n",
       "</div>"
      ],
      "text/plain": [
       "           dt   temp  feels_like  pressure  humidity  dew_point   uvi  clouds  \\\n",
       "0  1630364400  28.13       33.09      1012        84      25.17  0.18      73   \n",
       "1  1630368000  28.40       34.05      1012        85      25.63  0.80      72   \n",
       "2  1630371600  28.45       33.62      1012        82      25.08  3.83      62   \n",
       "3  1630375200  28.70       33.53      1012        78      24.48  6.87      52   \n",
       "4  1630378800  29.08       33.49      1012        73      23.74  9.67      40   \n",
       "\n",
       "   visibility  wind_speed  wind_deg  wind_gust  \\\n",
       "0       10000        2.30        90       2.69   \n",
       "1       10000        2.67        82       3.25   \n",
       "2       10000        2.79        73       3.57   \n",
       "3       10000        3.60        72       4.27   \n",
       "4       10000        4.20        80       4.80   \n",
       "\n",
       "                                             weather   pop          rain  \n",
       "0  [{'id': 501, 'main': 'Rain', 'description': 'm...  1.00  {'1h': 1.38}  \n",
       "1  [{'id': 803, 'main': 'Clouds', 'description': ...  0.80           NaN  \n",
       "2  [{'id': 803, 'main': 'Clouds', 'description': ...  0.58           NaN  \n",
       "3  [{'id': 500, 'main': 'Rain', 'description': 'l...  0.78  {'1h': 0.32}  \n",
       "4  [{'id': 500, 'main': 'Rain', 'description': 'l...  0.88  {'1h': 0.22}  "
      ]
     },
     "execution_count": 10,
     "metadata": {},
     "output_type": "execute_result"
    }
   ],
   "source": [
    "df_hourly.head()"
   ]
  },
  {
   "cell_type": "code",
   "execution_count": null,
   "metadata": {},
   "outputs": [],
   "source": []
  }
 ],
 "metadata": {
  "interpreter": {
   "hash": "c1b4cfe941b6d2466ad1fb5979e97da9cda8801728c8091b097ab734208fc00c"
  },
  "kernelspec": {
   "display_name": "Python 3.8.3 64-bit ('base': conda)",
   "name": "python3"
  },
  "language_info": {
   "codemirror_mode": {
    "name": "ipython",
    "version": 3
   },
   "file_extension": ".py",
   "mimetype": "text/x-python",
   "name": "python",
   "nbconvert_exporter": "python",
   "pygments_lexer": "ipython3",
   "version": "3.8.11"
  }
 },
 "nbformat": 4,
 "nbformat_minor": 2
}
