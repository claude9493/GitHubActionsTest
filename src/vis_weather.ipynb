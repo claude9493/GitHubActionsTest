{
 "cells": [
  {
   "cell_type": "code",
   "execution_count": 1,
   "metadata": {
    "execution": {
     "iopub.execute_input": "2021-09-11T21:12:53.922190Z",
     "iopub.status.busy": "2021-09-11T21:12:53.921246Z",
     "iopub.status.idle": "2021-09-11T21:12:55.358444Z",
     "shell.execute_reply": "2021-09-11T21:12:55.358954Z"
    }
   },
   "outputs": [],
   "source": [
    "import json, yaml, requests\r\n",
    "from datetime import datetime\r\n",
    "from dateutil import tz\r\n",
    "import pandas as pd\r\n",
    "from PIL import Image\r\n",
    "from io import BytesIO\r\n",
    "import matplotlib.pyplot as plt\r\n",
    "import seaborn\r\n",
    "\r\n",
    "CONFIG_PATH = \"../config/config.yaml\""
   ]
  },
  {
   "cell_type": "code",
   "execution_count": 2,
   "metadata": {
    "execution": {
     "iopub.execute_input": "2021-09-11T21:12:55.364248Z",
     "iopub.status.busy": "2021-09-11T21:12:55.363693Z",
     "iopub.status.idle": "2021-09-11T21:12:55.370349Z",
     "shell.execute_reply": "2021-09-11T21:12:55.369898Z"
    }
   },
   "outputs": [],
   "source": [
    "with open('../newest_ts', 'r') as f:\r\n",
    "    newest_ts = f.read()\r\n",
    "\r\n",
    "data_path = f\"../data/data_{newest_ts}.json\"\r\n",
    "with open(data_path, 'r') as f:\r\n",
    "    data = json.load(f)\r\n",
    "\r\n",
    "with open(CONFIG_PATH, \"r\") as stream:\r\n",
    "    config = yaml.safe_load(stream)\r\n",
    "\r\n",
    "TIME_ZONE = config['time_zone']\r\n",
    "DATETIME_FORMAT = config['dt_format']"
   ]
  },
  {
   "cell_type": "code",
   "execution_count": 3,
   "metadata": {
    "execution": {
     "iopub.execute_input": "2021-09-11T21:12:55.375332Z",
     "iopub.status.busy": "2021-09-11T21:12:55.374523Z",
     "iopub.status.idle": "2021-09-11T21:12:55.378467Z",
     "shell.execute_reply": "2021-09-11T21:12:55.378854Z"
    }
   },
   "outputs": [
    {
     "name": "stdout",
     "output_type": "stream",
     "text": [
      "Recent query happens at 2021-09-12 05:12:50 (CST).\n"
     ]
    }
   ],
   "source": [
    "def ts2dt(ts, format=DATETIME_FORMAT):\r\n",
    "    dt = (datetime.utcfromtimestamp(int(ts))\r\n",
    "                    .replace(tzinfo=tz.tzutc())\r\n",
    "                    # .astimezone(tz.tzlocal())\r\n",
    "                    .astimezone(tz.gettz(TIME_ZONE)))\r\n",
    "    return dt.strftime(format), dt\r\n",
    "\r\n",
    "_, newest_dt = ts2dt(newest_ts)\r\n",
    "print(f\"Recent query happens at {newest_dt.strftime(DATETIME_FORMAT)} ({newest_dt.tzname()}).\")"
   ]
  },
  {
   "cell_type": "code",
   "execution_count": 4,
   "metadata": {
    "execution": {
     "iopub.execute_input": "2021-09-11T21:12:55.382628Z",
     "iopub.status.busy": "2021-09-11T21:12:55.380689Z",
     "iopub.status.idle": "2021-09-11T21:12:55.385640Z",
     "shell.execute_reply": "2021-09-11T21:12:55.385066Z"
    }
   },
   "outputs": [],
   "source": [
    "def degrees_to_cardinal(d):\r\n",
    "  dirs = ['N', 'NNE', 'NE', 'ENE', 'E', 'ESE', 'SE', 'SSE', 'S', 'SSW', 'SW', 'WSW', 'W', 'WNW', 'NW', 'NNW']\r\n",
    "  ix = int(round(d / (360. / len(dirs))))\r\n",
    "  return dirs[ix % len(dirs)]"
   ]
  },
  {
   "cell_type": "code",
   "execution_count": 5,
   "metadata": {
    "execution": {
     "iopub.execute_input": "2021-09-11T21:12:55.389781Z",
     "iopub.status.busy": "2021-09-11T21:12:55.388630Z",
     "iopub.status.idle": "2021-09-11T21:12:55.390335Z",
     "shell.execute_reply": "2021-09-11T21:12:55.390716Z"
    }
   },
   "outputs": [],
   "source": [
    "# data.keys()"
   ]
  },
  {
   "cell_type": "code",
   "execution_count": 6,
   "metadata": {
    "execution": {
     "iopub.execute_input": "2021-09-11T21:12:55.394800Z",
     "iopub.status.busy": "2021-09-11T21:12:55.393520Z",
     "iopub.status.idle": "2021-09-11T21:12:55.395580Z",
     "shell.execute_reply": "2021-09-11T21:12:55.395984Z"
    }
   },
   "outputs": [],
   "source": [
    "# data['current']"
   ]
  },
  {
   "cell_type": "code",
   "execution_count": 7,
   "metadata": {
    "execution": {
     "iopub.execute_input": "2021-09-11T21:12:55.415373Z",
     "iopub.status.busy": "2021-09-11T21:12:55.414723Z",
     "iopub.status.idle": "2021-09-11T21:12:55.846585Z",
     "shell.execute_reply": "2021-09-11T21:12:55.847133Z"
    }
   },
   "outputs": [
    {
     "data": {
      "image/png": "[encoded data removed]",
      "text/plain": [
       "<Figure size 216x216 with 1 Axes>"
      ]
     },
     "metadata": {
      "needs_background": "light"
     },
     "output_type": "display_data"
    },
    {
     "name": "stdout",
     "output_type": "stream",
     "text": [
      "Today, sun rises at 06:08 and sets at 18:30.\n",
      "Currently, the weather is Rain (light rain).\n",
      "The temperature is 29.95°C and it feels like 36.95°C.\n",
      "The UV index is 0, humidity is 88%.\n",
      "The pressure is 1001 hPa, percentage of cloud cover is 44%\n",
      "The wind comes from W direction with a speed 4.29 m/s.\n"
     ]
    }
   ],
   "source": [
    "current = data['current']\r\n",
    "\r\n",
    "fig, ax = plt.subplots(figsize=(3, 3))\r\n",
    "icon = requests.get(f\"http://openweathermap.org/img/wn/{current['weather'][0]['icon']}@2x.png\")\r\n",
    "im = Image.open(BytesIO(icon.content))\r\n",
    "plt.imshow(im)\r\n",
    "ax.set_axis_off()\r\n",
    "plt.show()\r\n",
    "\r\n",
    "print(f\"Today, sun rises at {ts2dt(current['sunrise'], '%H:%M')[0]} \\\r\n",
    "and sets at {ts2dt(current['sunset'], '%H:%M')[0]}.\\n\\\r\n",
    "Currently, the weather is {current['weather'][0]['main']} ({current['weather'][0]['description']}).\\n\\\r\n",
    "The temperature is {current['temp']}°C and it feels like {current['feels_like']}°C.\\n\\\r\n",
    "The UV index is {current['uvi']}, humidity is {current['humidity']}%.\\n\\\r\n",
    "The pressure is {current['pressure']} hPa, percentage of cloud cover is {current['clouds']}%\\n\\\r\n",
    "The wind comes from {degrees_to_cardinal(current['wind_deg'])} direction with a speed {current['wind_speed']} m/s.\")"
   ]
  },
  {
   "cell_type": "code",
   "execution_count": 8,
   "metadata": {
    "execution": {
     "iopub.execute_input": "2021-09-11T21:12:55.851045Z",
     "iopub.status.busy": "2021-09-11T21:12:55.849614Z",
     "iopub.status.idle": "2021-09-11T21:12:55.856801Z",
     "shell.execute_reply": "2021-09-11T21:12:55.857322Z"
    }
   },
   "outputs": [],
   "source": [
    "df_hourly = pd.DataFrame(data['hourly'])\r\n",
    "df_daily = pd.DataFrame(data['daily'])"
   ]
  },
  {
   "cell_type": "code",
   "execution_count": 9,
   "metadata": {
    "execution": {
     "iopub.execute_input": "2021-09-11T21:12:55.860177Z",
     "iopub.status.busy": "2021-09-11T21:12:55.859556Z",
     "iopub.status.idle": "2021-09-11T21:12:56.172667Z",
     "shell.execute_reply": "2021-09-11T21:12:56.173077Z"
    }
   },
   "outputs": [
    {
     "data": {
      "image/png": "[encoded data removed]",
      "text/plain": [
       "<Figure size 864x432 with 1 Axes>"
      ]
     },
     "metadata": {
      "needs_background": "light"
     },
     "output_type": "display_data"
    }
   ],
   "source": [
    "fig, ax = plt.subplots(figsize=(12, 6))\r\n",
    "plt.plot(df_hourly.temp, '.-', label='Temperature')\r\n",
    "plt.plot(df_hourly.feels_like, '.-', label='Feels Like')\r\n",
    "ax.set(title='Temperature in future 48 hours', xlabel='Time', ylabel='Temperature')\r\n",
    "ax.set_xticks(list(range(0, len(df_hourly), 2)))\r\n",
    "ax.set_xticklabels([ts2dt(ts, '%m-%d %H:%M')[0] for i, ts in enumerate(df_hourly.dt) if i%2==0], \r\n",
    "                   rotation=45, ha=\"right\")\r\n",
    "ax.locator_params(nbins=15, axis='y')\r\n",
    "plt.legend()\r\n",
    "plt.show()"
   ]
  },
  {
   "cell_type": "code",
   "execution_count": 10,
   "metadata": {
    "execution": {
     "iopub.execute_input": "2021-09-11T21:12:56.177634Z",
     "iopub.status.busy": "2021-09-11T21:12:56.177119Z",
     "iopub.status.idle": "2021-09-11T21:12:56.196303Z",
     "shell.execute_reply": "2021-09-11T21:12:56.195851Z"
    }
   },
   "outputs": [
    {
     "data": {
      "text/html": [
       "<div>\n",
       "<style scoped>\n",
       "    .dataframe tbody tr th:only-of-type {\n",
       "        vertical-align: middle;\n",
       "    }\n",
       "\n",
       "    .dataframe tbody tr th {\n",
       "        vertical-align: top;\n",
       "    }\n",
       "\n",
       "    .dataframe thead th {\n",
       "        text-align: right;\n",
       "    }\n",
       "</style>\n",
       "<table border=\"1\" class=\"dataframe\">\n",
       "  <thead>\n",
       "    <tr style=\"text-align: right;\">\n",
       "      <th></th>\n",
       "      <th>dt</th>\n",
       "      <th>temp</th>\n",
       "      <th>feels_like</th>\n",
       "      <th>pressure</th>\n",
       "      <th>humidity</th>\n",
       "      <th>dew_point</th>\n",
       "      <th>uvi</th>\n",
       "      <th>clouds</th>\n",
       "      <th>visibility</th>\n",
       "      <th>wind_speed</th>\n",
       "      <th>wind_deg</th>\n",
       "      <th>wind_gust</th>\n",
       "      <th>weather</th>\n",
       "      <th>pop</th>\n",
       "      <th>rain</th>\n",
       "    </tr>\n",
       "  </thead>\n",
       "  <tbody>\n",
       "    <tr>\n",
       "      <th>0</th>\n",
       "      <td>1631394000</td>\n",
       "      <td>29.95</td>\n",
       "      <td>36.95</td>\n",
       "      <td>1001</td>\n",
       "      <td>88</td>\n",
       "      <td>27.74</td>\n",
       "      <td>0.00</td>\n",
       "      <td>44</td>\n",
       "      <td>10000</td>\n",
       "      <td>4.29</td>\n",
       "      <td>261</td>\n",
       "      <td>5.32</td>\n",
       "      <td>[{'id': 500, 'main': 'Rain', 'description': 'l...</td>\n",
       "      <td>0.83</td>\n",
       "      <td>{'1h': 0.77}</td>\n",
       "    </tr>\n",
       "    <tr>\n",
       "      <th>1</th>\n",
       "      <td>1631397600</td>\n",
       "      <td>29.65</td>\n",
       "      <td>36.65</td>\n",
       "      <td>1001</td>\n",
       "      <td>87</td>\n",
       "      <td>27.25</td>\n",
       "      <td>0.00</td>\n",
       "      <td>46</td>\n",
       "      <td>10000</td>\n",
       "      <td>3.84</td>\n",
       "      <td>269</td>\n",
       "      <td>4.82</td>\n",
       "      <td>[{'id': 802, 'main': 'Clouds', 'description': ...</td>\n",
       "      <td>0.84</td>\n",
       "      <td>NaN</td>\n",
       "    </tr>\n",
       "    <tr>\n",
       "      <th>2</th>\n",
       "      <td>1631401200</td>\n",
       "      <td>29.51</td>\n",
       "      <td>36.51</td>\n",
       "      <td>1001</td>\n",
       "      <td>85</td>\n",
       "      <td>26.72</td>\n",
       "      <td>0.25</td>\n",
       "      <td>45</td>\n",
       "      <td>10000</td>\n",
       "      <td>3.46</td>\n",
       "      <td>279</td>\n",
       "      <td>4.60</td>\n",
       "      <td>[{'id': 802, 'main': 'Clouds', 'description': ...</td>\n",
       "      <td>0.84</td>\n",
       "      <td>NaN</td>\n",
       "    </tr>\n",
       "    <tr>\n",
       "      <th>3</th>\n",
       "      <td>1631404800</td>\n",
       "      <td>29.72</td>\n",
       "      <td>36.72</td>\n",
       "      <td>1002</td>\n",
       "      <td>82</td>\n",
       "      <td>26.31</td>\n",
       "      <td>1.33</td>\n",
       "      <td>48</td>\n",
       "      <td>10000</td>\n",
       "      <td>3.27</td>\n",
       "      <td>288</td>\n",
       "      <td>4.16</td>\n",
       "      <td>[{'id': 500, 'main': 'Rain', 'description': 'l...</td>\n",
       "      <td>0.85</td>\n",
       "      <td>{'1h': 0.27}</td>\n",
       "    </tr>\n",
       "    <tr>\n",
       "      <th>4</th>\n",
       "      <td>1631408400</td>\n",
       "      <td>30.09</td>\n",
       "      <td>37.09</td>\n",
       "      <td>1002</td>\n",
       "      <td>78</td>\n",
       "      <td>25.83</td>\n",
       "      <td>3.60</td>\n",
       "      <td>67</td>\n",
       "      <td>10000</td>\n",
       "      <td>3.33</td>\n",
       "      <td>289</td>\n",
       "      <td>4.12</td>\n",
       "      <td>[{'id': 500, 'main': 'Rain', 'description': 'l...</td>\n",
       "      <td>0.57</td>\n",
       "      <td>{'1h': 0.49}</td>\n",
       "    </tr>\n",
       "  </tbody>\n",
       "</table>\n",
       "</div>"
      ],
      "text/plain": [
       "           dt   temp  feels_like  pressure  humidity  dew_point   uvi  clouds  \\\n",
       "0  1631394000  29.95       36.95      1001        88      27.74  0.00      44   \n",
       "1  1631397600  29.65       36.65      1001        87      27.25  0.00      46   \n",
       "2  1631401200  29.51       36.51      1001        85      26.72  0.25      45   \n",
       "3  1631404800  29.72       36.72      1002        82      26.31  1.33      48   \n",
       "4  1631408400  30.09       37.09      1002        78      25.83  3.60      67   \n",
       "\n",
       "   visibility  wind_speed  wind_deg  wind_gust  \\\n",
       "0       10000        4.29       261       5.32   \n",
       "1       10000        3.84       269       4.82   \n",
       "2       10000        3.46       279       4.60   \n",
       "3       10000        3.27       288       4.16   \n",
       "4       10000        3.33       289       4.12   \n",
       "\n",
       "                                             weather   pop          rain  \n",
       "0  [{'id': 500, 'main': 'Rain', 'description': 'l...  0.83  {'1h': 0.77}  \n",
       "1  [{'id': 802, 'main': 'Clouds', 'description': ...  0.84           NaN  \n",
       "2  [{'id': 802, 'main': 'Clouds', 'description': ...  0.84           NaN  \n",
       "3  [{'id': 500, 'main': 'Rain', 'description': 'l...  0.85  {'1h': 0.27}  \n",
       "4  [{'id': 500, 'main': 'Rain', 'description': 'l...  0.57  {'1h': 0.49}  "
      ]
     },
     "execution_count": 10,
     "metadata": {},
     "output_type": "execute_result"
    }
   ],
   "source": [
    "df_hourly.head()"
   ]
  },
  {
   "cell_type": "code",
   "execution_count": null,
   "metadata": {},
   "outputs": [],
   "source": []
  }
 ],
 "metadata": {
  "interpreter": {
   "hash": "c1b4cfe941b6d2466ad1fb5979e97da9cda8801728c8091b097ab734208fc00c"
  },
  "kernelspec": {
   "display_name": "Python 3.8.3 64-bit ('base': conda)",
   "name": "python3"
  },
  "language_info": {
   "codemirror_mode": {
    "name": "ipython",
    "version": 3
   },
   "file_extension": ".py",
   "mimetype": "text/x-python",
   "name": "python",
   "nbconvert_exporter": "python",
   "pygments_lexer": "ipython3",
   "version": "3.8.11"
  }
 },
 "nbformat": 4,
 "nbformat_minor": 2
}
