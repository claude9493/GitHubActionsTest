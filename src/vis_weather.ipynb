{
 "cells": [
  {
   "cell_type": "code",
   "execution_count": 1,
   "metadata": {
    "execution": {
     "iopub.execute_input": "2021-10-10T06:13:25.304578Z",
     "iopub.status.busy": "2021-10-10T06:13:25.303886Z",
     "iopub.status.idle": "2021-10-10T06:13:26.825552Z",
     "shell.execute_reply": "2021-10-10T06:13:26.824450Z"
    }
   },
   "outputs": [],
   "source": [
    "import json, yaml, requests\r\n",
    "from datetime import datetime\r\n",
    "from dateutil import tz\r\n",
    "import pandas as pd\r\n",
    "from PIL import Image\r\n",
    "from io import BytesIO\r\n",
    "import matplotlib.pyplot as plt\r\n",
    "import seaborn\r\n",
    "\r\n",
    "CONFIG_PATH = \"../config/config.yaml\""
   ]
  },
  {
   "cell_type": "code",
   "execution_count": 2,
   "metadata": {
    "execution": {
     "iopub.execute_input": "2021-10-10T06:13:26.830997Z",
     "iopub.status.busy": "2021-10-10T06:13:26.830074Z",
     "iopub.status.idle": "2021-10-10T06:13:26.835818Z",
     "shell.execute_reply": "2021-10-10T06:13:26.835106Z"
    }
   },
   "outputs": [],
   "source": [
    "with open('../newest_ts', 'r') as f:\r\n",
    "    newest_ts = f.read()\r\n",
    "\r\n",
    "data_path = f\"../data/data_{newest_ts}.json\"\r\n",
    "with open(data_path, 'r') as f:\r\n",
    "    data = json.load(f)\r\n",
    "\r\n",
    "with open(CONFIG_PATH, \"r\") as stream:\r\n",
    "    config = yaml.safe_load(stream)\r\n",
    "\r\n",
    "TIME_ZONE = config['time_zone']\r\n",
    "DATETIME_FORMAT = config['dt_format']"
   ]
  },
  {
   "cell_type": "code",
   "execution_count": 3,
   "metadata": {
    "execution": {
     "iopub.execute_input": "2021-10-10T06:13:26.840921Z",
     "iopub.status.busy": "2021-10-10T06:13:26.840366Z",
     "iopub.status.idle": "2021-10-10T06:13:26.846652Z",
     "shell.execute_reply": "2021-10-10T06:13:26.846209Z"
    }
   },
   "outputs": [
    {
     "name": "stdout",
     "output_type": "stream",
     "text": [
      "Recent query happens at 2021-10-10 14:13:21 (CST).\n"
     ]
    }
   ],
   "source": [
    "def ts2dt(ts, format=DATETIME_FORMAT):\r\n",
    "    dt = (datetime.utcfromtimestamp(int(ts))\r\n",
    "                    .replace(tzinfo=tz.tzutc())\r\n",
    "                    # .astimezone(tz.tzlocal())\r\n",
    "                    .astimezone(tz.gettz(TIME_ZONE)))\r\n",
    "    return dt.strftime(format), dt\r\n",
    "\r\n",
    "_, newest_dt = ts2dt(newest_ts)\r\n",
    "print(f\"Recent query happens at {newest_dt.strftime(DATETIME_FORMAT)} ({newest_dt.tzname()}).\")"
   ]
  },
  {
   "cell_type": "code",
   "execution_count": 4,
   "metadata": {
    "execution": {
     "iopub.execute_input": "2021-10-10T06:13:26.852582Z",
     "iopub.status.busy": "2021-10-10T06:13:26.851220Z",
     "iopub.status.idle": "2021-10-10T06:13:26.853173Z",
     "shell.execute_reply": "2021-10-10T06:13:26.853831Z"
    }
   },
   "outputs": [],
   "source": [
    "def degrees_to_cardinal(d):\r\n",
    "  dirs = ['N', 'NNE', 'NE', 'ENE', 'E', 'ESE', 'SE', 'SSE', 'S', 'SSW', 'SW', 'WSW', 'W', 'WNW', 'NW', 'NNW']\r\n",
    "  ix = int(round(d / (360. / len(dirs))))\r\n",
    "  return dirs[ix % len(dirs)]"
   ]
  },
  {
   "cell_type": "code",
   "execution_count": 5,
   "metadata": {
    "execution": {
     "iopub.execute_input": "2021-10-10T06:13:26.858564Z",
     "iopub.status.busy": "2021-10-10T06:13:26.857269Z",
     "iopub.status.idle": "2021-10-10T06:13:26.859223Z",
     "shell.execute_reply": "2021-10-10T06:13:26.859666Z"
    }
   },
   "outputs": [],
   "source": [
    "# data.keys()"
   ]
  },
  {
   "cell_type": "code",
   "execution_count": 6,
   "metadata": {
    "execution": {
     "iopub.execute_input": "2021-10-10T06:13:26.864091Z",
     "iopub.status.busy": "2021-10-10T06:13:26.862648Z",
     "iopub.status.idle": "2021-10-10T06:13:26.864690Z",
     "shell.execute_reply": "2021-10-10T06:13:26.865117Z"
    }
   },
   "outputs": [],
   "source": [
    "# data['current']"
   ]
  },
  {
   "cell_type": "code",
   "execution_count": 7,
   "metadata": {
    "execution": {
     "iopub.execute_input": "2021-10-10T06:13:26.877201Z",
     "iopub.status.busy": "2021-10-10T06:13:26.876666Z",
     "iopub.status.idle": "2021-10-10T06:13:27.300490Z",
     "shell.execute_reply": "2021-10-10T06:13:27.300995Z"
    }
   },
   "outputs": [
    {
     "data": {
      "image/png": "[encoded data removed]",
      "text/plain": [
       "<Figure size 216x216 with 1 Axes>"
      ]
     },
     "metadata": {
      "needs_background": "light"
     },
     "output_type": "display_data"
    },
    {
     "name": "stdout",
     "output_type": "stream",
     "text": [
      "Today, sun rises at 06:17 and sets at 18:02.\n",
      "Currently, the weather is Clouds (overcast clouds).\n",
      "The temperature is 27.35°C and it feels like 31.37°C.\n",
      "The UV index is 1.05, humidity is 87%.\n",
      "The pressure is 1010 hPa, percentage of cloud cover is 100%\n",
      "The wind comes from WNW direction with a speed 0.45 m/s.\n"
     ]
    }
   ],
   "source": [
    "current = data['current']\r\n",
    "\r\n",
    "fig, ax = plt.subplots(figsize=(3, 3))\r\n",
    "icon = requests.get(f\"http://openweathermap.org/img/wn/{current['weather'][0]['icon']}@2x.png\")\r\n",
    "im = Image.open(BytesIO(icon.content))\r\n",
    "plt.imshow(im)\r\n",
    "ax.set_axis_off()\r\n",
    "plt.show()\r\n",
    "\r\n",
    "print(f\"Today, sun rises at {ts2dt(current['sunrise'], '%H:%M')[0]} \\\r\n",
    "and sets at {ts2dt(current['sunset'], '%H:%M')[0]}.\\n\\\r\n",
    "Currently, the weather is {current['weather'][0]['main']} ({current['weather'][0]['description']}).\\n\\\r\n",
    "The temperature is {current['temp']}°C and it feels like {current['feels_like']}°C.\\n\\\r\n",
    "The UV index is {current['uvi']}, humidity is {current['humidity']}%.\\n\\\r\n",
    "The pressure is {current['pressure']} hPa, percentage of cloud cover is {current['clouds']}%\\n\\\r\n",
    "The wind comes from {degrees_to_cardinal(current['wind_deg'])} direction with a speed {current['wind_speed']} m/s.\")"
   ]
  },
  {
   "cell_type": "code",
   "execution_count": 8,
   "metadata": {
    "execution": {
     "iopub.execute_input": "2021-10-10T06:13:27.309649Z",
     "iopub.status.busy": "2021-10-10T06:13:27.309018Z",
     "iopub.status.idle": "2021-10-10T06:13:27.312264Z",
     "shell.execute_reply": "2021-10-10T06:13:27.313248Z"
    }
   },
   "outputs": [],
   "source": [
    "df_hourly = pd.DataFrame(data['hourly'])\r\n",
    "df_daily = pd.DataFrame(data['daily'])"
   ]
  },
  {
   "cell_type": "code",
   "execution_count": 9,
   "metadata": {
    "execution": {
     "iopub.execute_input": "2021-10-10T06:13:27.316971Z",
     "iopub.status.busy": "2021-10-10T06:13:27.315829Z",
     "iopub.status.idle": "2021-10-10T06:13:27.633504Z",
     "shell.execute_reply": "2021-10-10T06:13:27.633013Z"
    }
   },
   "outputs": [
    {
     "data": {
      "image/png": "[encoded data removed]",
      "text/plain": [
       "<Figure size 864x432 with 1 Axes>"
      ]
     },
     "metadata": {
      "needs_background": "light"
     },
     "output_type": "display_data"
    }
   ],
   "source": [
    "fig, ax = plt.subplots(figsize=(12, 6))\r\n",
    "plt.plot(df_hourly.temp, '.-', label='Temperature')\r\n",
    "plt.plot(df_hourly.feels_like, '.-', label='Feels Like')\r\n",
    "ax.set(title='Temperature in future 48 hours', xlabel='Time', ylabel='Temperature')\r\n",
    "ax.set_xticks(list(range(0, len(df_hourly), 2)))\r\n",
    "ax.set_xticklabels([ts2dt(ts, '%m-%d %H:%M')[0] for i, ts in enumerate(df_hourly.dt) if i%2==0], \r\n",
    "                   rotation=45, ha=\"right\")\r\n",
    "ax.locator_params(nbins=15, axis='y')\r\n",
    "plt.legend()\r\n",
    "plt.show()"
   ]
  },
  {
   "cell_type": "code",
   "execution_count": 10,
   "metadata": {
    "execution": {
     "iopub.execute_input": "2021-10-10T06:13:27.638249Z",
     "iopub.status.busy": "2021-10-10T06:13:27.637639Z",
     "iopub.status.idle": "2021-10-10T06:13:27.658572Z",
     "shell.execute_reply": "2021-10-10T06:13:27.659028Z"
    }
   },
   "outputs": [
    {
     "data": {
      "text/html": [
       "<div>\n",
       "<style scoped>\n",
       "    .dataframe tbody tr th:only-of-type {\n",
       "        vertical-align: middle;\n",
       "    }\n",
       "\n",
       "    .dataframe tbody tr th {\n",
       "        vertical-align: top;\n",
       "    }\n",
       "\n",
       "    .dataframe thead th {\n",
       "        text-align: right;\n",
       "    }\n",
       "</style>\n",
       "<table border=\"1\" class=\"dataframe\">\n",
       "  <thead>\n",
       "    <tr style=\"text-align: right;\">\n",
       "      <th></th>\n",
       "      <th>dt</th>\n",
       "      <th>temp</th>\n",
       "      <th>feels_like</th>\n",
       "      <th>pressure</th>\n",
       "      <th>humidity</th>\n",
       "      <th>dew_point</th>\n",
       "      <th>uvi</th>\n",
       "      <th>clouds</th>\n",
       "      <th>visibility</th>\n",
       "      <th>wind_speed</th>\n",
       "      <th>wind_deg</th>\n",
       "      <th>wind_gust</th>\n",
       "      <th>weather</th>\n",
       "      <th>pop</th>\n",
       "      <th>rain</th>\n",
       "    </tr>\n",
       "  </thead>\n",
       "  <tbody>\n",
       "    <tr>\n",
       "      <th>0</th>\n",
       "      <td>1633845600</td>\n",
       "      <td>27.35</td>\n",
       "      <td>31.37</td>\n",
       "      <td>1010</td>\n",
       "      <td>87</td>\n",
       "      <td>24.99</td>\n",
       "      <td>1.05</td>\n",
       "      <td>100</td>\n",
       "      <td>10000</td>\n",
       "      <td>8.67</td>\n",
       "      <td>92</td>\n",
       "      <td>11.07</td>\n",
       "      <td>[{'id': 500, 'main': 'Rain', 'description': 'l...</td>\n",
       "      <td>0.8</td>\n",
       "      <td>{'1h': 0.31}</td>\n",
       "    </tr>\n",
       "    <tr>\n",
       "      <th>1</th>\n",
       "      <td>1633849200</td>\n",
       "      <td>27.44</td>\n",
       "      <td>31.36</td>\n",
       "      <td>1010</td>\n",
       "      <td>85</td>\n",
       "      <td>24.69</td>\n",
       "      <td>2.98</td>\n",
       "      <td>100</td>\n",
       "      <td>10000</td>\n",
       "      <td>8.12</td>\n",
       "      <td>95</td>\n",
       "      <td>10.63</td>\n",
       "      <td>[{'id': 502, 'main': 'Rain', 'description': 'h...</td>\n",
       "      <td>1.0</td>\n",
       "      <td>{'1h': 5.62}</td>\n",
       "    </tr>\n",
       "    <tr>\n",
       "      <th>2</th>\n",
       "      <td>1633852800</td>\n",
       "      <td>27.39</td>\n",
       "      <td>31.11</td>\n",
       "      <td>1009</td>\n",
       "      <td>84</td>\n",
       "      <td>24.44</td>\n",
       "      <td>1.42</td>\n",
       "      <td>100</td>\n",
       "      <td>10000</td>\n",
       "      <td>7.14</td>\n",
       "      <td>96</td>\n",
       "      <td>10.30</td>\n",
       "      <td>[{'id': 501, 'main': 'Rain', 'description': 'm...</td>\n",
       "      <td>1.0</td>\n",
       "      <td>{'1h': 3.16}</td>\n",
       "    </tr>\n",
       "    <tr>\n",
       "      <th>3</th>\n",
       "      <td>1633856400</td>\n",
       "      <td>27.24</td>\n",
       "      <td>30.61</td>\n",
       "      <td>1009</td>\n",
       "      <td>83</td>\n",
       "      <td>24.10</td>\n",
       "      <td>0.41</td>\n",
       "      <td>100</td>\n",
       "      <td>10000</td>\n",
       "      <td>6.50</td>\n",
       "      <td>96</td>\n",
       "      <td>10.13</td>\n",
       "      <td>[{'id': 500, 'main': 'Rain', 'description': 'l...</td>\n",
       "      <td>1.0</td>\n",
       "      <td>{'1h': 0.66}</td>\n",
       "    </tr>\n",
       "    <tr>\n",
       "      <th>4</th>\n",
       "      <td>1633860000</td>\n",
       "      <td>27.29</td>\n",
       "      <td>30.73</td>\n",
       "      <td>1008</td>\n",
       "      <td>83</td>\n",
       "      <td>24.15</td>\n",
       "      <td>0.00</td>\n",
       "      <td>100</td>\n",
       "      <td>10000</td>\n",
       "      <td>5.98</td>\n",
       "      <td>96</td>\n",
       "      <td>9.34</td>\n",
       "      <td>[{'id': 500, 'main': 'Rain', 'description': 'l...</td>\n",
       "      <td>1.0</td>\n",
       "      <td>{'1h': 0.32}</td>\n",
       "    </tr>\n",
       "  </tbody>\n",
       "</table>\n",
       "</div>"
      ],
      "text/plain": [
       "           dt   temp  feels_like  pressure  humidity  dew_point   uvi  clouds  \\\n",
       "0  1633845600  27.35       31.37      1010        87      24.99  1.05     100   \n",
       "1  1633849200  27.44       31.36      1010        85      24.69  2.98     100   \n",
       "2  1633852800  27.39       31.11      1009        84      24.44  1.42     100   \n",
       "3  1633856400  27.24       30.61      1009        83      24.10  0.41     100   \n",
       "4  1633860000  27.29       30.73      1008        83      24.15  0.00     100   \n",
       "\n",
       "   visibility  wind_speed  wind_deg  wind_gust  \\\n",
       "0       10000        8.67        92      11.07   \n",
       "1       10000        8.12        95      10.63   \n",
       "2       10000        7.14        96      10.30   \n",
       "3       10000        6.50        96      10.13   \n",
       "4       10000        5.98        96       9.34   \n",
       "\n",
       "                                             weather  pop          rain  \n",
       "0  [{'id': 500, 'main': 'Rain', 'description': 'l...  0.8  {'1h': 0.31}  \n",
       "1  [{'id': 502, 'main': 'Rain', 'description': 'h...  1.0  {'1h': 5.62}  \n",
       "2  [{'id': 501, 'main': 'Rain', 'description': 'm...  1.0  {'1h': 3.16}  \n",
       "3  [{'id': 500, 'main': 'Rain', 'description': 'l...  1.0  {'1h': 0.66}  \n",
       "4  [{'id': 500, 'main': 'Rain', 'description': 'l...  1.0  {'1h': 0.32}  "
      ]
     },
     "execution_count": 10,
     "metadata": {},
     "output_type": "execute_result"
    }
   ],
   "source": [
    "df_hourly.head()"
   ]
  },
  {
   "cell_type": "code",
   "execution_count": null,
   "metadata": {},
   "outputs": [],
   "source": []
  }
 ],
 "metadata": {
  "interpreter": {
   "hash": "c1b4cfe941b6d2466ad1fb5979e97da9cda8801728c8091b097ab734208fc00c"
  },
  "kernelspec": {
   "display_name": "Python 3.8.3 64-bit ('base': conda)",
   "name": "python3"
  },
  "language_info": {
   "codemirror_mode": {
    "name": "ipython",
    "version": 3
   },
   "file_extension": ".py",
   "mimetype": "text/x-python",
   "name": "python",
   "nbconvert_exporter": "python",
   "pygments_lexer": "ipython3",
   "version": "3.8.12"
  }
 },
 "nbformat": 4,
 "nbformat_minor": 2
}
