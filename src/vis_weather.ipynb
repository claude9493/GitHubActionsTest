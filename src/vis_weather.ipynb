{
 "cells": [
  {
   "cell_type": "code",
   "execution_count": 1,
   "metadata": {
    "execution": {
     "iopub.execute_input": "2021-10-23T03:12:20.174763Z",
     "iopub.status.busy": "2021-10-23T03:12:20.173928Z",
     "iopub.status.idle": "2021-10-23T03:12:21.430159Z",
     "shell.execute_reply": "2021-10-23T03:12:21.429484Z"
    }
   },
   "outputs": [],
   "source": [
    "import json, yaml, requests\r\n",
    "from datetime import datetime\r\n",
    "from dateutil import tz\r\n",
    "import pandas as pd\r\n",
    "from PIL import Image\r\n",
    "from io import BytesIO\r\n",
    "import matplotlib.pyplot as plt\r\n",
    "import seaborn\r\n",
    "\r\n",
    "CONFIG_PATH = \"../config/config.yaml\""
   ]
  },
  {
   "cell_type": "code",
   "execution_count": 2,
   "metadata": {
    "execution": {
     "iopub.execute_input": "2021-10-23T03:12:21.437606Z",
     "iopub.status.busy": "2021-10-23T03:12:21.434606Z",
     "iopub.status.idle": "2021-10-23T03:12:21.440138Z",
     "shell.execute_reply": "2021-10-23T03:12:21.439745Z"
    }
   },
   "outputs": [],
   "source": [
    "with open('../newest_ts', 'r') as f:\r\n",
    "    newest_ts = f.read()\r\n",
    "\r\n",
    "data_path = f\"../data/data_{newest_ts}.json\"\r\n",
    "with open(data_path, 'r') as f:\r\n",
    "    data = json.load(f)\r\n",
    "\r\n",
    "with open(CONFIG_PATH, \"r\") as stream:\r\n",
    "    config = yaml.safe_load(stream)\r\n",
    "\r\n",
    "TIME_ZONE = config['time_zone']\r\n",
    "DATETIME_FORMAT = config['dt_format']"
   ]
  },
  {
   "cell_type": "code",
   "execution_count": 3,
   "metadata": {
    "execution": {
     "iopub.execute_input": "2021-10-23T03:12:21.444275Z",
     "iopub.status.busy": "2021-10-23T03:12:21.443817Z",
     "iopub.status.idle": "2021-10-23T03:12:21.449719Z",
     "shell.execute_reply": "2021-10-23T03:12:21.450109Z"
    }
   },
   "outputs": [
    {
     "name": "stdout",
     "output_type": "stream",
     "text": [
      "Recent query happens at 2021-10-23 11:12:17 (CST).\n"
     ]
    }
   ],
   "source": [
    "def ts2dt(ts, format=DATETIME_FORMAT):\r\n",
    "    dt = (datetime.utcfromtimestamp(int(ts))\r\n",
    "                    .replace(tzinfo=tz.tzutc())\r\n",
    "                    # .astimezone(tz.tzlocal())\r\n",
    "                    .astimezone(tz.gettz(TIME_ZONE)))\r\n",
    "    return dt.strftime(format), dt\r\n",
    "\r\n",
    "_, newest_dt = ts2dt(newest_ts)\r\n",
    "print(f\"Recent query happens at {newest_dt.strftime(DATETIME_FORMAT)} ({newest_dt.tzname()}).\")"
   ]
  },
  {
   "cell_type": "code",
   "execution_count": 4,
   "metadata": {
    "execution": {
     "iopub.execute_input": "2021-10-23T03:12:21.455418Z",
     "iopub.status.busy": "2021-10-23T03:12:21.454268Z",
     "iopub.status.idle": "2021-10-23T03:12:21.455947Z",
     "shell.execute_reply": "2021-10-23T03:12:21.456319Z"
    }
   },
   "outputs": [],
   "source": [
    "def degrees_to_cardinal(d):\r\n",
    "  dirs = ['N', 'NNE', 'NE', 'ENE', 'E', 'ESE', 'SE', 'SSE', 'S', 'SSW', 'SW', 'WSW', 'W', 'WNW', 'NW', 'NNW']\r\n",
    "  ix = int(round(d / (360. / len(dirs))))\r\n",
    "  return dirs[ix % len(dirs)]"
   ]
  },
  {
   "cell_type": "code",
   "execution_count": 5,
   "metadata": {
    "execution": {
     "iopub.execute_input": "2021-10-23T03:12:21.460222Z",
     "iopub.status.busy": "2021-10-23T03:12:21.459230Z",
     "iopub.status.idle": "2021-10-23T03:12:21.460738Z",
     "shell.execute_reply": "2021-10-23T03:12:21.461102Z"
    }
   },
   "outputs": [],
   "source": [
    "# data.keys()"
   ]
  },
  {
   "cell_type": "code",
   "execution_count": 6,
   "metadata": {
    "execution": {
     "iopub.execute_input": "2021-10-23T03:12:21.464895Z",
     "iopub.status.busy": "2021-10-23T03:12:21.463841Z",
     "iopub.status.idle": "2021-10-23T03:12:21.465413Z",
     "shell.execute_reply": "2021-10-23T03:12:21.465772Z"
    }
   },
   "outputs": [],
   "source": [
    "# data['current']"
   ]
  },
  {
   "cell_type": "code",
   "execution_count": 7,
   "metadata": {
    "execution": {
     "iopub.execute_input": "2021-10-23T03:12:21.483112Z",
     "iopub.status.busy": "2021-10-23T03:12:21.482622Z",
     "iopub.status.idle": "2021-10-23T03:12:21.863529Z",
     "shell.execute_reply": "2021-10-23T03:12:21.864126Z"
    }
   },
   "outputs": [
    {
     "data": {
      "image/png": "[encoded data removed]",
      "text/plain": [
       "<Figure size 216x216 with 1 Axes>"
      ]
     },
     "metadata": {
      "needs_background": "light"
     },
     "output_type": "display_data"
    },
    {
     "name": "stdout",
     "output_type": "stream",
     "text": [
      "Today, sun rises at 06:22 and sets at 17:51.\n",
      "Currently, the weather is Clouds (broken clouds).\n",
      "The temperature is 20.84°C and it feels like 20.94°C.\n",
      "The UV index is 4.76, humidity is 75%.\n",
      "The pressure is 1020 hPa, percentage of cloud cover is 68%\n",
      "The wind comes from E direction with a speed 0.45 m/s.\n"
     ]
    }
   ],
   "source": [
    "current = data['current']\r\n",
    "\r\n",
    "fig, ax = plt.subplots(figsize=(3, 3))\r\n",
    "icon = requests.get(f\"http://openweathermap.org/img/wn/{current['weather'][0]['icon']}@2x.png\")\r\n",
    "im = Image.open(BytesIO(icon.content))\r\n",
    "plt.imshow(im)\r\n",
    "ax.set_axis_off()\r\n",
    "plt.show()\r\n",
    "\r\n",
    "print(f\"Today, sun rises at {ts2dt(current['sunrise'], '%H:%M')[0]} \\\r\n",
    "and sets at {ts2dt(current['sunset'], '%H:%M')[0]}.\\n\\\r\n",
    "Currently, the weather is {current['weather'][0]['main']} ({current['weather'][0]['description']}).\\n\\\r\n",
    "The temperature is {current['temp']}°C and it feels like {current['feels_like']}°C.\\n\\\r\n",
    "The UV index is {current['uvi']}, humidity is {current['humidity']}%.\\n\\\r\n",
    "The pressure is {current['pressure']} hPa, percentage of cloud cover is {current['clouds']}%\\n\\\r\n",
    "The wind comes from {degrees_to_cardinal(current['wind_deg'])} direction with a speed {current['wind_speed']} m/s.\")"
   ]
  },
  {
   "cell_type": "code",
   "execution_count": 8,
   "metadata": {
    "execution": {
     "iopub.execute_input": "2021-10-23T03:12:21.869669Z",
     "iopub.status.busy": "2021-10-23T03:12:21.869213Z",
     "iopub.status.idle": "2021-10-23T03:12:21.873886Z",
     "shell.execute_reply": "2021-10-23T03:12:21.873492Z"
    }
   },
   "outputs": [],
   "source": [
    "df_hourly = pd.DataFrame(data['hourly'])\r\n",
    "df_daily = pd.DataFrame(data['daily'])"
   ]
  },
  {
   "cell_type": "code",
   "execution_count": 9,
   "metadata": {
    "execution": {
     "iopub.execute_input": "2021-10-23T03:12:21.891563Z",
     "iopub.status.busy": "2021-10-23T03:12:21.889395Z",
     "iopub.status.idle": "2021-10-23T03:12:22.127226Z",
     "shell.execute_reply": "2021-10-23T03:12:22.127605Z"
    }
   },
   "outputs": [
    {
     "data": {
      "image/png": "[encoded data removed]",
      "text/plain": [
       "<Figure size 864x432 with 1 Axes>"
      ]
     },
     "metadata": {
      "needs_background": "light"
     },
     "output_type": "display_data"
    }
   ],
   "source": [
    "fig, ax = plt.subplots(figsize=(12, 6))\r\n",
    "plt.plot(df_hourly.temp, '.-', label='Temperature')\r\n",
    "plt.plot(df_hourly.feels_like, '.-', label='Feels Like')\r\n",
    "ax.set(title='Temperature in future 48 hours', xlabel='Time', ylabel='Temperature')\r\n",
    "ax.set_xticks(list(range(0, len(df_hourly), 2)))\r\n",
    "ax.set_xticklabels([ts2dt(ts, '%m-%d %H:%M')[0] for i, ts in enumerate(df_hourly.dt) if i%2==0], \r\n",
    "                   rotation=45, ha=\"right\")\r\n",
    "ax.locator_params(nbins=15, axis='y')\r\n",
    "plt.legend()\r\n",
    "plt.show()"
   ]
  },
  {
   "cell_type": "code",
   "execution_count": 10,
   "metadata": {
    "execution": {
     "iopub.execute_input": "2021-10-23T03:12:22.138630Z",
     "iopub.status.busy": "2021-10-23T03:12:22.131682Z",
     "iopub.status.idle": "2021-10-23T03:12:22.148773Z",
     "shell.execute_reply": "2021-10-23T03:12:22.148379Z"
    }
   },
   "outputs": [
    {
     "data": {
      "text/html": [
       "<div>\n",
       "<style scoped>\n",
       "    .dataframe tbody tr th:only-of-type {\n",
       "        vertical-align: middle;\n",
       "    }\n",
       "\n",
       "    .dataframe tbody tr th {\n",
       "        vertical-align: top;\n",
       "    }\n",
       "\n",
       "    .dataframe thead th {\n",
       "        text-align: right;\n",
       "    }\n",
       "</style>\n",
       "<table border=\"1\" class=\"dataframe\">\n",
       "  <thead>\n",
       "    <tr style=\"text-align: right;\">\n",
       "      <th></th>\n",
       "      <th>dt</th>\n",
       "      <th>temp</th>\n",
       "      <th>feels_like</th>\n",
       "      <th>pressure</th>\n",
       "      <th>humidity</th>\n",
       "      <th>dew_point</th>\n",
       "      <th>uvi</th>\n",
       "      <th>clouds</th>\n",
       "      <th>visibility</th>\n",
       "      <th>wind_speed</th>\n",
       "      <th>wind_deg</th>\n",
       "      <th>wind_gust</th>\n",
       "      <th>weather</th>\n",
       "      <th>pop</th>\n",
       "    </tr>\n",
       "  </thead>\n",
       "  <tbody>\n",
       "    <tr>\n",
       "      <th>0</th>\n",
       "      <td>1634958000</td>\n",
       "      <td>20.84</td>\n",
       "      <td>20.94</td>\n",
       "      <td>1020</td>\n",
       "      <td>75</td>\n",
       "      <td>16.25</td>\n",
       "      <td>4.76</td>\n",
       "      <td>68</td>\n",
       "      <td>10000</td>\n",
       "      <td>3.04</td>\n",
       "      <td>26</td>\n",
       "      <td>4.16</td>\n",
       "      <td>[{'id': 803, 'main': 'Clouds', 'description': ...</td>\n",
       "      <td>0.0</td>\n",
       "    </tr>\n",
       "    <tr>\n",
       "      <th>1</th>\n",
       "      <td>1634961600</td>\n",
       "      <td>21.15</td>\n",
       "      <td>21.20</td>\n",
       "      <td>1020</td>\n",
       "      <td>72</td>\n",
       "      <td>15.91</td>\n",
       "      <td>7.64</td>\n",
       "      <td>66</td>\n",
       "      <td>10000</td>\n",
       "      <td>3.03</td>\n",
       "      <td>41</td>\n",
       "      <td>3.95</td>\n",
       "      <td>[{'id': 803, 'main': 'Clouds', 'description': ...</td>\n",
       "      <td>0.0</td>\n",
       "    </tr>\n",
       "    <tr>\n",
       "      <th>2</th>\n",
       "      <td>1634965200</td>\n",
       "      <td>21.66</td>\n",
       "      <td>21.68</td>\n",
       "      <td>1020</td>\n",
       "      <td>69</td>\n",
       "      <td>15.73</td>\n",
       "      <td>7.49</td>\n",
       "      <td>63</td>\n",
       "      <td>10000</td>\n",
       "      <td>3.15</td>\n",
       "      <td>46</td>\n",
       "      <td>3.52</td>\n",
       "      <td>[{'id': 803, 'main': 'Clouds', 'description': ...</td>\n",
       "      <td>0.0</td>\n",
       "    </tr>\n",
       "    <tr>\n",
       "      <th>3</th>\n",
       "      <td>1634968800</td>\n",
       "      <td>22.17</td>\n",
       "      <td>22.17</td>\n",
       "      <td>1019</td>\n",
       "      <td>66</td>\n",
       "      <td>15.52</td>\n",
       "      <td>6.02</td>\n",
       "      <td>58</td>\n",
       "      <td>10000</td>\n",
       "      <td>2.97</td>\n",
       "      <td>57</td>\n",
       "      <td>3.09</td>\n",
       "      <td>[{'id': 803, 'main': 'Clouds', 'description': ...</td>\n",
       "      <td>0.0</td>\n",
       "    </tr>\n",
       "    <tr>\n",
       "      <th>4</th>\n",
       "      <td>1634972400</td>\n",
       "      <td>22.56</td>\n",
       "      <td>22.54</td>\n",
       "      <td>1018</td>\n",
       "      <td>64</td>\n",
       "      <td>15.41</td>\n",
       "      <td>3.88</td>\n",
       "      <td>54</td>\n",
       "      <td>10000</td>\n",
       "      <td>2.62</td>\n",
       "      <td>62</td>\n",
       "      <td>2.98</td>\n",
       "      <td>[{'id': 803, 'main': 'Clouds', 'description': ...</td>\n",
       "      <td>0.0</td>\n",
       "    </tr>\n",
       "  </tbody>\n",
       "</table>\n",
       "</div>"
      ],
      "text/plain": [
       "           dt   temp  feels_like  pressure  humidity  dew_point   uvi  clouds  \\\n",
       "0  1634958000  20.84       20.94      1020        75      16.25  4.76      68   \n",
       "1  1634961600  21.15       21.20      1020        72      15.91  7.64      66   \n",
       "2  1634965200  21.66       21.68      1020        69      15.73  7.49      63   \n",
       "3  1634968800  22.17       22.17      1019        66      15.52  6.02      58   \n",
       "4  1634972400  22.56       22.54      1018        64      15.41  3.88      54   \n",
       "\n",
       "   visibility  wind_speed  wind_deg  wind_gust  \\\n",
       "0       10000        3.04        26       4.16   \n",
       "1       10000        3.03        41       3.95   \n",
       "2       10000        3.15        46       3.52   \n",
       "3       10000        2.97        57       3.09   \n",
       "4       10000        2.62        62       2.98   \n",
       "\n",
       "                                             weather  pop  \n",
       "0  [{'id': 803, 'main': 'Clouds', 'description': ...  0.0  \n",
       "1  [{'id': 803, 'main': 'Clouds', 'description': ...  0.0  \n",
       "2  [{'id': 803, 'main': 'Clouds', 'description': ...  0.0  \n",
       "3  [{'id': 803, 'main': 'Clouds', 'description': ...  0.0  \n",
       "4  [{'id': 803, 'main': 'Clouds', 'description': ...  0.0  "
      ]
     },
     "execution_count": 10,
     "metadata": {},
     "output_type": "execute_result"
    }
   ],
   "source": [
    "df_hourly.head()"
   ]
  },
  {
   "cell_type": "code",
   "execution_count": null,
   "metadata": {},
   "outputs": [],
   "source": []
  }
 ],
 "metadata": {
  "interpreter": {
   "hash": "c1b4cfe941b6d2466ad1fb5979e97da9cda8801728c8091b097ab734208fc00c"
  },
  "kernelspec": {
   "display_name": "Python 3.8.3 64-bit ('base': conda)",
   "name": "python3"
  },
  "language_info": {
   "codemirror_mode": {
    "name": "ipython",
    "version": 3
   },
   "file_extension": ".py",
   "mimetype": "text/x-python",
   "name": "python",
   "nbconvert_exporter": "python",
   "pygments_lexer": "ipython3",
   "version": "3.8.12"
  }
 },
 "nbformat": 4,
 "nbformat_minor": 2
}
