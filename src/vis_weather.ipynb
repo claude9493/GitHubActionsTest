{
 "cells": [
  {
   "cell_type": "code",
   "execution_count": 1,
   "metadata": {
    "execution": {
     "iopub.execute_input": "2021-09-05T05:13:40.429076Z",
     "iopub.status.busy": "2021-09-05T05:13:40.428410Z",
     "iopub.status.idle": "2021-09-05T05:13:43.841089Z",
     "shell.execute_reply": "2021-09-05T05:13:43.841647Z"
    }
   },
   "outputs": [],
   "source": [
    "import json, yaml, requests\r\n",
    "from datetime import datetime\r\n",
    "from dateutil import tz\r\n",
    "import pandas as pd\r\n",
    "from PIL import Image\r\n",
    "from io import BytesIO\r\n",
    "import matplotlib.pyplot as plt\r\n",
    "import seaborn\r\n",
    "\r\n",
    "CONFIG_PATH = \"../config/config.yaml\""
   ]
  },
  {
   "cell_type": "code",
   "execution_count": 2,
   "metadata": {
    "execution": {
     "iopub.execute_input": "2021-09-05T05:13:43.850415Z",
     "iopub.status.busy": "2021-09-05T05:13:43.847731Z",
     "iopub.status.idle": "2021-09-05T05:13:43.853255Z",
     "shell.execute_reply": "2021-09-05T05:13:43.852823Z"
    }
   },
   "outputs": [],
   "source": [
    "with open('../newest_ts', 'r') as f:\r\n",
    "    newest_ts = f.read()\r\n",
    "\r\n",
    "data_path = f\"../data/data_{newest_ts}.json\"\r\n",
    "with open(data_path, 'r') as f:\r\n",
    "    data = json.load(f)\r\n",
    "\r\n",
    "with open(CONFIG_PATH, \"r\") as stream:\r\n",
    "    config = yaml.safe_load(stream)\r\n",
    "\r\n",
    "TIME_ZONE = config['time_zone']\r\n",
    "DATETIME_FORMAT = config['dt_format']"
   ]
  },
  {
   "cell_type": "code",
   "execution_count": 3,
   "metadata": {
    "execution": {
     "iopub.execute_input": "2021-09-05T05:13:43.857994Z",
     "iopub.status.busy": "2021-09-05T05:13:43.857370Z",
     "iopub.status.idle": "2021-09-05T05:13:43.869769Z",
     "shell.execute_reply": "2021-09-05T05:13:43.870175Z"
    }
   },
   "outputs": [
    {
     "name": "stdout",
     "output_type": "stream",
     "text": [
      "Recent query happens at 2021-09-05 13:13:37 (CST).\n"
     ]
    }
   ],
   "source": [
    "def ts2dt(ts, format=DATETIME_FORMAT):\r\n",
    "    dt = (datetime.utcfromtimestamp(int(ts))\r\n",
    "                    .replace(tzinfo=tz.tzutc())\r\n",
    "                    # .astimezone(tz.tzlocal())\r\n",
    "                    .astimezone(tz.gettz(TIME_ZONE)))\r\n",
    "    return dt.strftime(format), dt\r\n",
    "\r\n",
    "_, newest_dt = ts2dt(newest_ts)\r\n",
    "print(f\"Recent query happens at {newest_dt.strftime(DATETIME_FORMAT)} ({newest_dt.tzname()}).\")"
   ]
  },
  {
   "cell_type": "code",
   "execution_count": 4,
   "metadata": {
    "execution": {
     "iopub.execute_input": "2021-09-05T05:13:43.875474Z",
     "iopub.status.busy": "2021-09-05T05:13:43.874744Z",
     "iopub.status.idle": "2021-09-05T05:13:43.878403Z",
     "shell.execute_reply": "2021-09-05T05:13:43.877951Z"
    }
   },
   "outputs": [],
   "source": [
    "def degrees_to_cardinal(d):\r\n",
    "  dirs = ['N', 'NNE', 'NE', 'ENE', 'E', 'ESE', 'SE', 'SSE', 'S', 'SSW', 'SW', 'WSW', 'W', 'WNW', 'NW', 'NNW']\r\n",
    "  ix = int(round(d / (360. / len(dirs))))\r\n",
    "  return dirs[ix % len(dirs)]"
   ]
  },
  {
   "cell_type": "code",
   "execution_count": 5,
   "metadata": {
    "execution": {
     "iopub.execute_input": "2021-09-05T05:13:43.881874Z",
     "iopub.status.busy": "2021-09-05T05:13:43.881365Z",
     "iopub.status.idle": "2021-09-05T05:13:43.884941Z",
     "shell.execute_reply": "2021-09-05T05:13:43.884479Z"
    }
   },
   "outputs": [],
   "source": [
    "# data.keys()"
   ]
  },
  {
   "cell_type": "code",
   "execution_count": 6,
   "metadata": {
    "execution": {
     "iopub.execute_input": "2021-09-05T05:13:43.889252Z",
     "iopub.status.busy": "2021-09-05T05:13:43.887969Z",
     "iopub.status.idle": "2021-09-05T05:13:43.889940Z",
     "shell.execute_reply": "2021-09-05T05:13:43.890411Z"
    }
   },
   "outputs": [],
   "source": [
    "# data['current']"
   ]
  },
  {
   "cell_type": "code",
   "execution_count": 7,
   "metadata": {
    "execution": {
     "iopub.execute_input": "2021-09-05T05:13:43.917637Z",
     "iopub.status.busy": "2021-09-05T05:13:43.910268Z",
     "iopub.status.idle": "2021-09-05T05:13:44.504648Z",
     "shell.execute_reply": "2021-09-05T05:13:44.505351Z"
    }
   },
   "outputs": [
    {
     "data": {
      "image/png": "[encoded data removed]",
      "text/plain": [
       "<Figure size 216x216 with 1 Axes>"
      ]
     },
     "metadata": {
      "needs_background": "light"
     },
     "output_type": "display_data"
    },
    {
     "name": "stdout",
     "output_type": "stream",
     "text": [
      "Today, sun rises at 06:06 and sets at 18:36.\n",
      "Currently, the weather is Clouds (overcast clouds).\n",
      "The temperature is 28.92°C and it feels like 35.92°C.\n",
      "The UV index is 11.26, humidity is 88%.\n",
      "The pressure is 1010 hPa, percentage of cloud cover is 93%\n",
      "The wind comes from E direction with a speed 3.65 m/s.\n"
     ]
    }
   ],
   "source": [
    "current = data['current']\r\n",
    "\r\n",
    "fig, ax = plt.subplots(figsize=(3, 3))\r\n",
    "icon = requests.get(f\"http://openweathermap.org/img/wn/{current['weather'][0]['icon']}@2x.png\")\r\n",
    "im = Image.open(BytesIO(icon.content))\r\n",
    "plt.imshow(im)\r\n",
    "ax.set_axis_off()\r\n",
    "plt.show()\r\n",
    "\r\n",
    "print(f\"Today, sun rises at {ts2dt(current['sunrise'], '%H:%M')[0]} \\\r\n",
    "and sets at {ts2dt(current['sunset'], '%H:%M')[0]}.\\n\\\r\n",
    "Currently, the weather is {current['weather'][0]['main']} ({current['weather'][0]['description']}).\\n\\\r\n",
    "The temperature is {current['temp']}°C and it feels like {current['feels_like']}°C.\\n\\\r\n",
    "The UV index is {current['uvi']}, humidity is {current['humidity']}%.\\n\\\r\n",
    "The pressure is {current['pressure']} hPa, percentage of cloud cover is {current['clouds']}%\\n\\\r\n",
    "The wind comes from {degrees_to_cardinal(current['wind_deg'])} direction with a speed {current['wind_speed']} m/s.\")"
   ]
  },
  {
   "cell_type": "code",
   "execution_count": 8,
   "metadata": {
    "execution": {
     "iopub.execute_input": "2021-09-05T05:13:44.508910Z",
     "iopub.status.busy": "2021-09-05T05:13:44.507879Z",
     "iopub.status.idle": "2021-09-05T05:13:44.515870Z",
     "shell.execute_reply": "2021-09-05T05:13:44.516656Z"
    }
   },
   "outputs": [],
   "source": [
    "df_hourly = pd.DataFrame(data['hourly'])\r\n",
    "df_daily = pd.DataFrame(data['daily'])"
   ]
  },
  {
   "cell_type": "code",
   "execution_count": 9,
   "metadata": {
    "execution": {
     "iopub.execute_input": "2021-09-05T05:13:44.519803Z",
     "iopub.status.busy": "2021-09-05T05:13:44.518779Z",
     "iopub.status.idle": "2021-09-05T05:13:44.820886Z",
     "shell.execute_reply": "2021-09-05T05:13:44.820426Z"
    }
   },
   "outputs": [
    {
     "data": {
      "image/png": "[encoded data removed]",
      "text/plain": [
       "<Figure size 864x432 with 1 Axes>"
      ]
     },
     "metadata": {
      "needs_background": "light"
     },
     "output_type": "display_data"
    }
   ],
   "source": [
    "fig, ax = plt.subplots(figsize=(12, 6))\r\n",
    "plt.plot(df_hourly.temp, '.-', label='Temperature')\r\n",
    "plt.plot(df_hourly.feels_like, '.-', label='Feels Like')\r\n",
    "ax.set(title='Temperature in future 48 hours', xlabel='Time', ylabel='Temperature')\r\n",
    "ax.set_xticks(list(range(0, len(df_hourly), 2)))\r\n",
    "ax.set_xticklabels([ts2dt(ts, '%m-%d %H:%M')[0] for i, ts in enumerate(df_hourly.dt) if i%2==0], \r\n",
    "                   rotation=45, ha=\"right\")\r\n",
    "ax.locator_params(nbins=15, axis='y')\r\n",
    "plt.legend()\r\n",
    "plt.show()"
   ]
  },
  {
   "cell_type": "code",
   "execution_count": 10,
   "metadata": {
    "execution": {
     "iopub.execute_input": "2021-09-05T05:13:44.832778Z",
     "iopub.status.busy": "2021-09-05T05:13:44.824900Z",
     "iopub.status.idle": "2021-09-05T05:13:44.845256Z",
     "shell.execute_reply": "2021-09-05T05:13:44.844397Z"
    }
   },
   "outputs": [
    {
     "data": {
      "text/html": [
       "<div>\n",
       "<style scoped>\n",
       "    .dataframe tbody tr th:only-of-type {\n",
       "        vertical-align: middle;\n",
       "    }\n",
       "\n",
       "    .dataframe tbody tr th {\n",
       "        vertical-align: top;\n",
       "    }\n",
       "\n",
       "    .dataframe thead th {\n",
       "        text-align: right;\n",
       "    }\n",
       "</style>\n",
       "<table border=\"1\" class=\"dataframe\">\n",
       "  <thead>\n",
       "    <tr style=\"text-align: right;\">\n",
       "      <th></th>\n",
       "      <th>dt</th>\n",
       "      <th>temp</th>\n",
       "      <th>feels_like</th>\n",
       "      <th>pressure</th>\n",
       "      <th>humidity</th>\n",
       "      <th>dew_point</th>\n",
       "      <th>uvi</th>\n",
       "      <th>clouds</th>\n",
       "      <th>visibility</th>\n",
       "      <th>wind_speed</th>\n",
       "      <th>wind_deg</th>\n",
       "      <th>wind_gust</th>\n",
       "      <th>weather</th>\n",
       "      <th>pop</th>\n",
       "      <th>rain</th>\n",
       "    </tr>\n",
       "  </thead>\n",
       "  <tbody>\n",
       "    <tr>\n",
       "      <th>0</th>\n",
       "      <td>1630818000</td>\n",
       "      <td>28.92</td>\n",
       "      <td>35.92</td>\n",
       "      <td>1010</td>\n",
       "      <td>88</td>\n",
       "      <td>26.73</td>\n",
       "      <td>11.26</td>\n",
       "      <td>93</td>\n",
       "      <td>10000</td>\n",
       "      <td>3.65</td>\n",
       "      <td>101</td>\n",
       "      <td>3.13</td>\n",
       "      <td>[{'id': 500, 'main': 'Rain', 'description': 'l...</td>\n",
       "      <td>0.74</td>\n",
       "      <td>{'1h': 0.18}</td>\n",
       "    </tr>\n",
       "    <tr>\n",
       "      <th>1</th>\n",
       "      <td>1630821600</td>\n",
       "      <td>29.14</td>\n",
       "      <td>36.07</td>\n",
       "      <td>1010</td>\n",
       "      <td>84</td>\n",
       "      <td>26.16</td>\n",
       "      <td>9.30</td>\n",
       "      <td>93</td>\n",
       "      <td>10000</td>\n",
       "      <td>4.02</td>\n",
       "      <td>102</td>\n",
       "      <td>3.85</td>\n",
       "      <td>[{'id': 804, 'main': 'Clouds', 'description': ...</td>\n",
       "      <td>0.86</td>\n",
       "      <td>NaN</td>\n",
       "    </tr>\n",
       "    <tr>\n",
       "      <th>2</th>\n",
       "      <td>1630825200</td>\n",
       "      <td>29.35</td>\n",
       "      <td>35.49</td>\n",
       "      <td>1010</td>\n",
       "      <td>79</td>\n",
       "      <td>25.33</td>\n",
       "      <td>5.93</td>\n",
       "      <td>93</td>\n",
       "      <td>10000</td>\n",
       "      <td>3.26</td>\n",
       "      <td>114</td>\n",
       "      <td>3.00</td>\n",
       "      <td>[{'id': 804, 'main': 'Clouds', 'description': ...</td>\n",
       "      <td>0.28</td>\n",
       "      <td>NaN</td>\n",
       "    </tr>\n",
       "    <tr>\n",
       "      <th>3</th>\n",
       "      <td>1630828800</td>\n",
       "      <td>29.53</td>\n",
       "      <td>35.04</td>\n",
       "      <td>1009</td>\n",
       "      <td>75</td>\n",
       "      <td>24.63</td>\n",
       "      <td>3.08</td>\n",
       "      <td>95</td>\n",
       "      <td>10000</td>\n",
       "      <td>3.21</td>\n",
       "      <td>112</td>\n",
       "      <td>3.00</td>\n",
       "      <td>[{'id': 804, 'main': 'Clouds', 'description': ...</td>\n",
       "      <td>0.14</td>\n",
       "      <td>NaN</td>\n",
       "    </tr>\n",
       "    <tr>\n",
       "      <th>4</th>\n",
       "      <td>1630832400</td>\n",
       "      <td>29.50</td>\n",
       "      <td>34.29</td>\n",
       "      <td>1009</td>\n",
       "      <td>72</td>\n",
       "      <td>23.92</td>\n",
       "      <td>1.08</td>\n",
       "      <td>88</td>\n",
       "      <td>10000</td>\n",
       "      <td>3.02</td>\n",
       "      <td>110</td>\n",
       "      <td>2.94</td>\n",
       "      <td>[{'id': 804, 'main': 'Clouds', 'description': ...</td>\n",
       "      <td>0.06</td>\n",
       "      <td>NaN</td>\n",
       "    </tr>\n",
       "  </tbody>\n",
       "</table>\n",
       "</div>"
      ],
      "text/plain": [
       "           dt   temp  feels_like  pressure  humidity  dew_point    uvi  \\\n",
       "0  1630818000  28.92       35.92      1010        88      26.73  11.26   \n",
       "1  1630821600  29.14       36.07      1010        84      26.16   9.30   \n",
       "2  1630825200  29.35       35.49      1010        79      25.33   5.93   \n",
       "3  1630828800  29.53       35.04      1009        75      24.63   3.08   \n",
       "4  1630832400  29.50       34.29      1009        72      23.92   1.08   \n",
       "\n",
       "   clouds  visibility  wind_speed  wind_deg  wind_gust  \\\n",
       "0      93       10000        3.65       101       3.13   \n",
       "1      93       10000        4.02       102       3.85   \n",
       "2      93       10000        3.26       114       3.00   \n",
       "3      95       10000        3.21       112       3.00   \n",
       "4      88       10000        3.02       110       2.94   \n",
       "\n",
       "                                             weather   pop          rain  \n",
       "0  [{'id': 500, 'main': 'Rain', 'description': 'l...  0.74  {'1h': 0.18}  \n",
       "1  [{'id': 804, 'main': 'Clouds', 'description': ...  0.86           NaN  \n",
       "2  [{'id': 804, 'main': 'Clouds', 'description': ...  0.28           NaN  \n",
       "3  [{'id': 804, 'main': 'Clouds', 'description': ...  0.14           NaN  \n",
       "4  [{'id': 804, 'main': 'Clouds', 'description': ...  0.06           NaN  "
      ]
     },
     "execution_count": 10,
     "metadata": {},
     "output_type": "execute_result"
    }
   ],
   "source": [
    "df_hourly.head()"
   ]
  },
  {
   "cell_type": "code",
   "execution_count": null,
   "metadata": {},
   "outputs": [],
   "source": []
  }
 ],
 "metadata": {
  "interpreter": {
   "hash": "c1b4cfe941b6d2466ad1fb5979e97da9cda8801728c8091b097ab734208fc00c"
  },
  "kernelspec": {
   "display_name": "Python 3.8.3 64-bit ('base': conda)",
   "name": "python3"
  },
  "language_info": {
   "codemirror_mode": {
    "name": "ipython",
    "version": 3
   },
   "file_extension": ".py",
   "mimetype": "text/x-python",
   "name": "python",
   "nbconvert_exporter": "python",
   "pygments_lexer": "ipython3",
   "version": "3.8.11"
  }
 },
 "nbformat": 4,
 "nbformat_minor": 2
}
