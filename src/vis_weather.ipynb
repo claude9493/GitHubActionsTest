{
 "cells": [
  {
   "cell_type": "code",
   "execution_count": 1,
   "metadata": {
    "execution": {
     "iopub.execute_input": "2021-09-14T09:11:13.816019Z",
     "iopub.status.busy": "2021-09-14T09:11:13.815420Z",
     "iopub.status.idle": "2021-09-14T09:11:18.178642Z",
     "shell.execute_reply": "2021-09-14T09:11:18.178056Z"
    }
   },
   "outputs": [],
   "source": [
    "import json, yaml, requests\r\n",
    "from datetime import datetime\r\n",
    "from dateutil import tz\r\n",
    "import pandas as pd\r\n",
    "from PIL import Image\r\n",
    "from io import BytesIO\r\n",
    "import matplotlib.pyplot as plt\r\n",
    "import seaborn\r\n",
    "\r\n",
    "CONFIG_PATH = \"../config/config.yaml\""
   ]
  },
  {
   "cell_type": "code",
   "execution_count": 2,
   "metadata": {
    "execution": {
     "iopub.execute_input": "2021-09-14T09:11:18.185817Z",
     "iopub.status.busy": "2021-09-14T09:11:18.182801Z",
     "iopub.status.idle": "2021-09-14T09:11:18.188234Z",
     "shell.execute_reply": "2021-09-14T09:11:18.187882Z"
    }
   },
   "outputs": [],
   "source": [
    "with open('../newest_ts', 'r') as f:\r\n",
    "    newest_ts = f.read()\r\n",
    "\r\n",
    "data_path = f\"../data/data_{newest_ts}.json\"\r\n",
    "with open(data_path, 'r') as f:\r\n",
    "    data = json.load(f)\r\n",
    "\r\n",
    "with open(CONFIG_PATH, \"r\") as stream:\r\n",
    "    config = yaml.safe_load(stream)\r\n",
    "\r\n",
    "TIME_ZONE = config['time_zone']\r\n",
    "DATETIME_FORMAT = config['dt_format']"
   ]
  },
  {
   "cell_type": "code",
   "execution_count": 3,
   "metadata": {
    "execution": {
     "iopub.execute_input": "2021-09-14T09:11:18.193181Z",
     "iopub.status.busy": "2021-09-14T09:11:18.191912Z",
     "iopub.status.idle": "2021-09-14T09:11:18.195569Z",
     "shell.execute_reply": "2021-09-14T09:11:18.195887Z"
    }
   },
   "outputs": [
    {
     "name": "stdout",
     "output_type": "stream",
     "text": [
      "Recent query happens at 2021-09-14 17:11:10 (CST).\n"
     ]
    }
   ],
   "source": [
    "def ts2dt(ts, format=DATETIME_FORMAT):\r\n",
    "    dt = (datetime.utcfromtimestamp(int(ts))\r\n",
    "                    .replace(tzinfo=tz.tzutc())\r\n",
    "                    # .astimezone(tz.tzlocal())\r\n",
    "                    .astimezone(tz.gettz(TIME_ZONE)))\r\n",
    "    return dt.strftime(format), dt\r\n",
    "\r\n",
    "_, newest_dt = ts2dt(newest_ts)\r\n",
    "print(f\"Recent query happens at {newest_dt.strftime(DATETIME_FORMAT)} ({newest_dt.tzname()}).\")"
   ]
  },
  {
   "cell_type": "code",
   "execution_count": 4,
   "metadata": {
    "execution": {
     "iopub.execute_input": "2021-09-14T09:11:18.200269Z",
     "iopub.status.busy": "2021-09-14T09:11:18.199551Z",
     "iopub.status.idle": "2021-09-14T09:11:18.201338Z",
     "shell.execute_reply": "2021-09-14T09:11:18.200971Z"
    }
   },
   "outputs": [],
   "source": [
    "def degrees_to_cardinal(d):\r\n",
    "  dirs = ['N', 'NNE', 'NE', 'ENE', 'E', 'ESE', 'SE', 'SSE', 'S', 'SSW', 'SW', 'WSW', 'W', 'WNW', 'NW', 'NNW']\r\n",
    "  ix = int(round(d / (360. / len(dirs))))\r\n",
    "  return dirs[ix % len(dirs)]"
   ]
  },
  {
   "cell_type": "code",
   "execution_count": 5,
   "metadata": {
    "execution": {
     "iopub.execute_input": "2021-09-14T09:11:18.204617Z",
     "iopub.status.busy": "2021-09-14T09:11:18.203917Z",
     "iopub.status.idle": "2021-09-14T09:11:18.205735Z",
     "shell.execute_reply": "2021-09-14T09:11:18.205381Z"
    }
   },
   "outputs": [],
   "source": [
    "# data.keys()"
   ]
  },
  {
   "cell_type": "code",
   "execution_count": 6,
   "metadata": {
    "execution": {
     "iopub.execute_input": "2021-09-14T09:11:18.208766Z",
     "iopub.status.busy": "2021-09-14T09:11:18.208057Z",
     "iopub.status.idle": "2021-09-14T09:11:18.209577Z",
     "shell.execute_reply": "2021-09-14T09:11:18.209898Z"
    }
   },
   "outputs": [],
   "source": [
    "# data['current']"
   ]
  },
  {
   "cell_type": "code",
   "execution_count": 7,
   "metadata": {
    "execution": {
     "iopub.execute_input": "2021-09-14T09:11:18.226628Z",
     "iopub.status.busy": "2021-09-14T09:11:18.226089Z",
     "iopub.status.idle": "2021-09-14T09:11:18.523868Z",
     "shell.execute_reply": "2021-09-14T09:11:18.524452Z"
    }
   },
   "outputs": [
    {
     "data": {
      "image/png": "[encoded data removed]",
      "text/plain": [
       "<Figure size 216x216 with 1 Axes>"
      ]
     },
     "metadata": {
      "needs_background": "light"
     },
     "output_type": "display_data"
    },
    {
     "name": "stdout",
     "output_type": "stream",
     "text": [
      "Today, sun rises at 06:09 and sets at 18:28.\n",
      "Currently, the weather is Clouds (overcast clouds).\n",
      "The temperature is 30.74°C and it feels like 37.74°C.\n",
      "The UV index is 0.87, humidity is 78%.\n",
      "The pressure is 1010 hPa, percentage of cloud cover is 100%\n",
      "The wind comes from SW direction with a speed 2.95 m/s.\n"
     ]
    }
   ],
   "source": [
    "current = data['current']\r\n",
    "\r\n",
    "fig, ax = plt.subplots(figsize=(3, 3))\r\n",
    "icon = requests.get(f\"http://openweathermap.org/img/wn/{current['weather'][0]['icon']}@2x.png\")\r\n",
    "im = Image.open(BytesIO(icon.content))\r\n",
    "plt.imshow(im)\r\n",
    "ax.set_axis_off()\r\n",
    "plt.show()\r\n",
    "\r\n",
    "print(f\"Today, sun rises at {ts2dt(current['sunrise'], '%H:%M')[0]} \\\r\n",
    "and sets at {ts2dt(current['sunset'], '%H:%M')[0]}.\\n\\\r\n",
    "Currently, the weather is {current['weather'][0]['main']} ({current['weather'][0]['description']}).\\n\\\r\n",
    "The temperature is {current['temp']}°C and it feels like {current['feels_like']}°C.\\n\\\r\n",
    "The UV index is {current['uvi']}, humidity is {current['humidity']}%.\\n\\\r\n",
    "The pressure is {current['pressure']} hPa, percentage of cloud cover is {current['clouds']}%\\n\\\r\n",
    "The wind comes from {degrees_to_cardinal(current['wind_deg'])} direction with a speed {current['wind_speed']} m/s.\")"
   ]
  },
  {
   "cell_type": "code",
   "execution_count": 8,
   "metadata": {
    "execution": {
     "iopub.execute_input": "2021-09-14T09:11:18.527265Z",
     "iopub.status.busy": "2021-09-14T09:11:18.526449Z",
     "iopub.status.idle": "2021-09-14T09:11:18.532489Z",
     "shell.execute_reply": "2021-09-14T09:11:18.533067Z"
    }
   },
   "outputs": [],
   "source": [
    "df_hourly = pd.DataFrame(data['hourly'])\r\n",
    "df_daily = pd.DataFrame(data['daily'])"
   ]
  },
  {
   "cell_type": "code",
   "execution_count": 9,
   "metadata": {
    "execution": {
     "iopub.execute_input": "2021-09-14T09:11:18.535720Z",
     "iopub.status.busy": "2021-09-14T09:11:18.534920Z",
     "iopub.status.idle": "2021-09-14T09:11:18.749228Z",
     "shell.execute_reply": "2021-09-14T09:11:18.748828Z"
    }
   },
   "outputs": [
    {
     "data": {
      "image/png": "[encoded data removed]",
      "text/plain": [
       "<Figure size 864x432 with 1 Axes>"
      ]
     },
     "metadata": {
      "needs_background": "light"
     },
     "output_type": "display_data"
    }
   ],
   "source": [
    "fig, ax = plt.subplots(figsize=(12, 6))\r\n",
    "plt.plot(df_hourly.temp, '.-', label='Temperature')\r\n",
    "plt.plot(df_hourly.feels_like, '.-', label='Feels Like')\r\n",
    "ax.set(title='Temperature in future 48 hours', xlabel='Time', ylabel='Temperature')\r\n",
    "ax.set_xticks(list(range(0, len(df_hourly), 2)))\r\n",
    "ax.set_xticklabels([ts2dt(ts, '%m-%d %H:%M')[0] for i, ts in enumerate(df_hourly.dt) if i%2==0], \r\n",
    "                   rotation=45, ha=\"right\")\r\n",
    "ax.locator_params(nbins=15, axis='y')\r\n",
    "plt.legend()\r\n",
    "plt.show()"
   ]
  },
  {
   "cell_type": "code",
   "execution_count": 10,
   "metadata": {
    "execution": {
     "iopub.execute_input": "2021-09-14T09:11:18.753546Z",
     "iopub.status.busy": "2021-09-14T09:11:18.752775Z",
     "iopub.status.idle": "2021-09-14T09:11:18.770008Z",
     "shell.execute_reply": "2021-09-14T09:11:18.769647Z"
    }
   },
   "outputs": [
    {
     "data": {
      "text/html": [
       "<div>\n",
       "<style scoped>\n",
       "    .dataframe tbody tr th:only-of-type {\n",
       "        vertical-align: middle;\n",
       "    }\n",
       "\n",
       "    .dataframe tbody tr th {\n",
       "        vertical-align: top;\n",
       "    }\n",
       "\n",
       "    .dataframe thead th {\n",
       "        text-align: right;\n",
       "    }\n",
       "</style>\n",
       "<table border=\"1\" class=\"dataframe\">\n",
       "  <thead>\n",
       "    <tr style=\"text-align: right;\">\n",
       "      <th></th>\n",
       "      <th>dt</th>\n",
       "      <th>temp</th>\n",
       "      <th>feels_like</th>\n",
       "      <th>pressure</th>\n",
       "      <th>humidity</th>\n",
       "      <th>dew_point</th>\n",
       "      <th>uvi</th>\n",
       "      <th>clouds</th>\n",
       "      <th>visibility</th>\n",
       "      <th>wind_speed</th>\n",
       "      <th>wind_deg</th>\n",
       "      <th>wind_gust</th>\n",
       "      <th>weather</th>\n",
       "      <th>pop</th>\n",
       "      <th>rain</th>\n",
       "    </tr>\n",
       "  </thead>\n",
       "  <tbody>\n",
       "    <tr>\n",
       "      <th>0</th>\n",
       "      <td>1631610000</td>\n",
       "      <td>30.74</td>\n",
       "      <td>37.74</td>\n",
       "      <td>1010</td>\n",
       "      <td>78</td>\n",
       "      <td>26.46</td>\n",
       "      <td>0.87</td>\n",
       "      <td>100</td>\n",
       "      <td>10000</td>\n",
       "      <td>2.95</td>\n",
       "      <td>218</td>\n",
       "      <td>3.21</td>\n",
       "      <td>[{'id': 500, 'main': 'Rain', 'description': 'l...</td>\n",
       "      <td>0.36</td>\n",
       "      <td>{'1h': 0.38}</td>\n",
       "    </tr>\n",
       "    <tr>\n",
       "      <th>1</th>\n",
       "      <td>1631613600</td>\n",
       "      <td>30.56</td>\n",
       "      <td>37.56</td>\n",
       "      <td>1010</td>\n",
       "      <td>77</td>\n",
       "      <td>26.06</td>\n",
       "      <td>0.14</td>\n",
       "      <td>100</td>\n",
       "      <td>10000</td>\n",
       "      <td>2.12</td>\n",
       "      <td>205</td>\n",
       "      <td>2.37</td>\n",
       "      <td>[{'id': 804, 'main': 'Clouds', 'description': ...</td>\n",
       "      <td>0.35</td>\n",
       "      <td>NaN</td>\n",
       "    </tr>\n",
       "    <tr>\n",
       "      <th>2</th>\n",
       "      <td>1631617200</td>\n",
       "      <td>30.14</td>\n",
       "      <td>37.14</td>\n",
       "      <td>1010</td>\n",
       "      <td>78</td>\n",
       "      <td>25.88</td>\n",
       "      <td>0.00</td>\n",
       "      <td>100</td>\n",
       "      <td>10000</td>\n",
       "      <td>2.63</td>\n",
       "      <td>208</td>\n",
       "      <td>2.93</td>\n",
       "      <td>[{'id': 804, 'main': 'Clouds', 'description': ...</td>\n",
       "      <td>0.35</td>\n",
       "      <td>NaN</td>\n",
       "    </tr>\n",
       "    <tr>\n",
       "      <th>3</th>\n",
       "      <td>1631620800</td>\n",
       "      <td>29.56</td>\n",
       "      <td>36.34</td>\n",
       "      <td>1011</td>\n",
       "      <td>80</td>\n",
       "      <td>25.74</td>\n",
       "      <td>0.00</td>\n",
       "      <td>100</td>\n",
       "      <td>10000</td>\n",
       "      <td>2.58</td>\n",
       "      <td>221</td>\n",
       "      <td>3.04</td>\n",
       "      <td>[{'id': 500, 'main': 'Rain', 'description': 'l...</td>\n",
       "      <td>0.57</td>\n",
       "      <td>{'1h': 0.37}</td>\n",
       "    </tr>\n",
       "    <tr>\n",
       "      <th>4</th>\n",
       "      <td>1631624400</td>\n",
       "      <td>29.06</td>\n",
       "      <td>35.13</td>\n",
       "      <td>1012</td>\n",
       "      <td>81</td>\n",
       "      <td>25.46</td>\n",
       "      <td>0.00</td>\n",
       "      <td>100</td>\n",
       "      <td>10000</td>\n",
       "      <td>2.86</td>\n",
       "      <td>216</td>\n",
       "      <td>3.46</td>\n",
       "      <td>[{'id': 500, 'main': 'Rain', 'description': 'l...</td>\n",
       "      <td>0.88</td>\n",
       "      <td>{'1h': 0.39}</td>\n",
       "    </tr>\n",
       "  </tbody>\n",
       "</table>\n",
       "</div>"
      ],
      "text/plain": [
       "           dt   temp  feels_like  pressure  humidity  dew_point   uvi  clouds  \\\n",
       "0  1631610000  30.74       37.74      1010        78      26.46  0.87     100   \n",
       "1  1631613600  30.56       37.56      1010        77      26.06  0.14     100   \n",
       "2  1631617200  30.14       37.14      1010        78      25.88  0.00     100   \n",
       "3  1631620800  29.56       36.34      1011        80      25.74  0.00     100   \n",
       "4  1631624400  29.06       35.13      1012        81      25.46  0.00     100   \n",
       "\n",
       "   visibility  wind_speed  wind_deg  wind_gust  \\\n",
       "0       10000        2.95       218       3.21   \n",
       "1       10000        2.12       205       2.37   \n",
       "2       10000        2.63       208       2.93   \n",
       "3       10000        2.58       221       3.04   \n",
       "4       10000        2.86       216       3.46   \n",
       "\n",
       "                                             weather   pop          rain  \n",
       "0  [{'id': 500, 'main': 'Rain', 'description': 'l...  0.36  {'1h': 0.38}  \n",
       "1  [{'id': 804, 'main': 'Clouds', 'description': ...  0.35           NaN  \n",
       "2  [{'id': 804, 'main': 'Clouds', 'description': ...  0.35           NaN  \n",
       "3  [{'id': 500, 'main': 'Rain', 'description': 'l...  0.57  {'1h': 0.37}  \n",
       "4  [{'id': 500, 'main': 'Rain', 'description': 'l...  0.88  {'1h': 0.39}  "
      ]
     },
     "execution_count": 10,
     "metadata": {},
     "output_type": "execute_result"
    }
   ],
   "source": [
    "df_hourly.head()"
   ]
  },
  {
   "cell_type": "code",
   "execution_count": null,
   "metadata": {},
   "outputs": [],
   "source": []
  }
 ],
 "metadata": {
  "interpreter": {
   "hash": "c1b4cfe941b6d2466ad1fb5979e97da9cda8801728c8091b097ab734208fc00c"
  },
  "kernelspec": {
   "display_name": "Python 3.8.3 64-bit ('base': conda)",
   "name": "python3"
  },
  "language_info": {
   "codemirror_mode": {
    "name": "ipython",
    "version": 3
   },
   "file_extension": ".py",
   "mimetype": "text/x-python",
   "name": "python",
   "nbconvert_exporter": "python",
   "pygments_lexer": "ipython3",
   "version": "3.8.11"
  }
 },
 "nbformat": 4,
 "nbformat_minor": 2
}
