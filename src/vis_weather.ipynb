{
 "cells": [
  {
   "cell_type": "code",
   "execution_count": 1,
   "metadata": {
    "execution": {
     "iopub.execute_input": "2021-09-05T06:18:28.545730Z",
     "iopub.status.busy": "2021-09-05T06:18:28.544900Z",
     "iopub.status.idle": "2021-09-05T06:18:33.153930Z",
     "shell.execute_reply": "2021-09-05T06:18:33.153268Z"
    }
   },
   "outputs": [],
   "source": [
    "import json, yaml, requests\r\n",
    "from datetime import datetime\r\n",
    "from dateutil import tz\r\n",
    "import pandas as pd\r\n",
    "from PIL import Image\r\n",
    "from io import BytesIO\r\n",
    "import matplotlib.pyplot as plt\r\n",
    "import seaborn\r\n",
    "\r\n",
    "CONFIG_PATH = \"../config/config.yaml\""
   ]
  },
  {
   "cell_type": "code",
   "execution_count": 2,
   "metadata": {
    "execution": {
     "iopub.execute_input": "2021-09-05T06:18:33.162765Z",
     "iopub.status.busy": "2021-09-05T06:18:33.159146Z",
     "iopub.status.idle": "2021-09-05T06:18:33.165803Z",
     "shell.execute_reply": "2021-09-05T06:18:33.165335Z"
    }
   },
   "outputs": [],
   "source": [
    "with open('../newest_ts', 'r') as f:\r\n",
    "    newest_ts = f.read()\r\n",
    "\r\n",
    "data_path = f\"../data/data_{newest_ts}.json\"\r\n",
    "with open(data_path, 'r') as f:\r\n",
    "    data = json.load(f)\r\n",
    "\r\n",
    "with open(CONFIG_PATH, \"r\") as stream:\r\n",
    "    config = yaml.safe_load(stream)\r\n",
    "\r\n",
    "TIME_ZONE = config['time_zone']\r\n",
    "DATETIME_FORMAT = config['dt_format']"
   ]
  },
  {
   "cell_type": "code",
   "execution_count": 3,
   "metadata": {
    "execution": {
     "iopub.execute_input": "2021-09-05T06:18:33.170387Z",
     "iopub.status.busy": "2021-09-05T06:18:33.169626Z",
     "iopub.status.idle": "2021-09-05T06:18:33.179767Z",
     "shell.execute_reply": "2021-09-05T06:18:33.180710Z"
    }
   },
   "outputs": [
    {
     "name": "stdout",
     "output_type": "stream",
     "text": [
      "Recent query happens at 2021-09-05 14:18:25 (CST).\n"
     ]
    }
   ],
   "source": [
    "def ts2dt(ts, format=DATETIME_FORMAT):\r\n",
    "    dt = (datetime.utcfromtimestamp(int(ts))\r\n",
    "                    .replace(tzinfo=tz.tzutc())\r\n",
    "                    # .astimezone(tz.tzlocal())\r\n",
    "                    .astimezone(tz.gettz(TIME_ZONE)))\r\n",
    "    return dt.strftime(format), dt\r\n",
    "\r\n",
    "_, newest_dt = ts2dt(newest_ts)\r\n",
    "print(f\"Recent query happens at {newest_dt.strftime(DATETIME_FORMAT)} ({newest_dt.tzname()}).\")"
   ]
  },
  {
   "cell_type": "code",
   "execution_count": 4,
   "metadata": {
    "execution": {
     "iopub.execute_input": "2021-09-05T06:18:33.186588Z",
     "iopub.status.busy": "2021-09-05T06:18:33.185134Z",
     "iopub.status.idle": "2021-09-05T06:18:33.187208Z",
     "shell.execute_reply": "2021-09-05T06:18:33.187656Z"
    }
   },
   "outputs": [],
   "source": [
    "def degrees_to_cardinal(d):\r\n",
    "  dirs = ['N', 'NNE', 'NE', 'ENE', 'E', 'ESE', 'SE', 'SSE', 'S', 'SSW', 'SW', 'WSW', 'W', 'WNW', 'NW', 'NNW']\r\n",
    "  ix = int(round(d / (360. / len(dirs))))\r\n",
    "  return dirs[ix % len(dirs)]"
   ]
  },
  {
   "cell_type": "code",
   "execution_count": 5,
   "metadata": {
    "execution": {
     "iopub.execute_input": "2021-09-05T06:18:33.192673Z",
     "iopub.status.busy": "2021-09-05T06:18:33.191289Z",
     "iopub.status.idle": "2021-09-05T06:18:33.193314Z",
     "shell.execute_reply": "2021-09-05T06:18:33.193793Z"
    }
   },
   "outputs": [],
   "source": [
    "# data.keys()"
   ]
  },
  {
   "cell_type": "code",
   "execution_count": 6,
   "metadata": {
    "execution": {
     "iopub.execute_input": "2021-09-05T06:18:33.198277Z",
     "iopub.status.busy": "2021-09-05T06:18:33.196883Z",
     "iopub.status.idle": "2021-09-05T06:18:33.198916Z",
     "shell.execute_reply": "2021-09-05T06:18:33.199415Z"
    }
   },
   "outputs": [],
   "source": [
    "# data['current']"
   ]
  },
  {
   "cell_type": "code",
   "execution_count": 7,
   "metadata": {
    "execution": {
     "iopub.execute_input": "2021-09-05T06:18:33.220431Z",
     "iopub.status.busy": "2021-09-05T06:18:33.219830Z",
     "iopub.status.idle": "2021-09-05T06:18:33.673721Z",
     "shell.execute_reply": "2021-09-05T06:18:33.674551Z"
    }
   },
   "outputs": [
    {
     "data": {
      "image/png": "[encoded data removed]",
      "text/plain": [
       "<Figure size 216x216 with 1 Axes>"
      ]
     },
     "metadata": {
      "needs_background": "light"
     },
     "output_type": "display_data"
    },
    {
     "name": "stdout",
     "output_type": "stream",
     "text": [
      "Today, sun rises at 06:06 and sets at 18:36.\n",
      "Currently, the weather is Clouds (broken clouds).\n",
      "The temperature is 30.58°C and it feels like 37.58°C.\n",
      "The UV index is 9.3, humidity is 80%.\n",
      "The pressure is 1009 hPa, percentage of cloud cover is 56%\n",
      "The wind comes from ESE direction with a speed 4 m/s.\n"
     ]
    }
   ],
   "source": [
    "current = data['current']\r\n",
    "\r\n",
    "fig, ax = plt.subplots(figsize=(3, 3))\r\n",
    "icon = requests.get(f\"http://openweathermap.org/img/wn/{current['weather'][0]['icon']}@2x.png\")\r\n",
    "im = Image.open(BytesIO(icon.content))\r\n",
    "plt.imshow(im)\r\n",
    "ax.set_axis_off()\r\n",
    "plt.show()\r\n",
    "\r\n",
    "print(f\"Today, sun rises at {ts2dt(current['sunrise'], '%H:%M')[0]} \\\r\n",
    "and sets at {ts2dt(current['sunset'], '%H:%M')[0]}.\\n\\\r\n",
    "Currently, the weather is {current['weather'][0]['main']} ({current['weather'][0]['description']}).\\n\\\r\n",
    "The temperature is {current['temp']}°C and it feels like {current['feels_like']}°C.\\n\\\r\n",
    "The UV index is {current['uvi']}, humidity is {current['humidity']}%.\\n\\\r\n",
    "The pressure is {current['pressure']} hPa, percentage of cloud cover is {current['clouds']}%\\n\\\r\n",
    "The wind comes from {degrees_to_cardinal(current['wind_deg'])} direction with a speed {current['wind_speed']} m/s.\")"
   ]
  },
  {
   "cell_type": "code",
   "execution_count": 8,
   "metadata": {
    "execution": {
     "iopub.execute_input": "2021-09-05T06:18:33.678633Z",
     "iopub.status.busy": "2021-09-05T06:18:33.677593Z",
     "iopub.status.idle": "2021-09-05T06:18:33.685743Z",
     "shell.execute_reply": "2021-09-05T06:18:33.686717Z"
    }
   },
   "outputs": [],
   "source": [
    "df_hourly = pd.DataFrame(data['hourly'])\r\n",
    "df_daily = pd.DataFrame(data['daily'])"
   ]
  },
  {
   "cell_type": "code",
   "execution_count": 9,
   "metadata": {
    "execution": {
     "iopub.execute_input": "2021-09-05T06:18:33.690375Z",
     "iopub.status.busy": "2021-09-05T06:18:33.689199Z",
     "iopub.status.idle": "2021-09-05T06:18:34.026426Z",
     "shell.execute_reply": "2021-09-05T06:18:34.025932Z"
    }
   },
   "outputs": [
    {
     "data": {
      "image/png": "[encoded data removed]",
      "text/plain": [
       "<Figure size 864x432 with 1 Axes>"
      ]
     },
     "metadata": {
      "needs_background": "light"
     },
     "output_type": "display_data"
    }
   ],
   "source": [
    "fig, ax = plt.subplots(figsize=(12, 6))\r\n",
    "plt.plot(df_hourly.temp, '.-', label='Temperature')\r\n",
    "plt.plot(df_hourly.feels_like, '.-', label='Feels Like')\r\n",
    "ax.set(title='Temperature in future 48 hours', xlabel='Time', ylabel='Temperature')\r\n",
    "ax.set_xticks(list(range(0, len(df_hourly), 2)))\r\n",
    "ax.set_xticklabels([ts2dt(ts, '%m-%d %H:%M')[0] for i, ts in enumerate(df_hourly.dt) if i%2==0], \r\n",
    "                   rotation=45, ha=\"right\")\r\n",
    "ax.locator_params(nbins=15, axis='y')\r\n",
    "plt.legend()\r\n",
    "plt.show()"
   ]
  },
  {
   "cell_type": "code",
   "execution_count": 10,
   "metadata": {
    "execution": {
     "iopub.execute_input": "2021-09-05T06:18:34.039296Z",
     "iopub.status.busy": "2021-09-05T06:18:34.030732Z",
     "iopub.status.idle": "2021-09-05T06:18:34.052007Z",
     "shell.execute_reply": "2021-09-05T06:18:34.051555Z"
    }
   },
   "outputs": [
    {
     "data": {
      "text/html": [
       "<div>\n",
       "<style scoped>\n",
       "    .dataframe tbody tr th:only-of-type {\n",
       "        vertical-align: middle;\n",
       "    }\n",
       "\n",
       "    .dataframe tbody tr th {\n",
       "        vertical-align: top;\n",
       "    }\n",
       "\n",
       "    .dataframe thead th {\n",
       "        text-align: right;\n",
       "    }\n",
       "</style>\n",
       "<table border=\"1\" class=\"dataframe\">\n",
       "  <thead>\n",
       "    <tr style=\"text-align: right;\">\n",
       "      <th></th>\n",
       "      <th>dt</th>\n",
       "      <th>temp</th>\n",
       "      <th>feels_like</th>\n",
       "      <th>pressure</th>\n",
       "      <th>humidity</th>\n",
       "      <th>dew_point</th>\n",
       "      <th>uvi</th>\n",
       "      <th>clouds</th>\n",
       "      <th>visibility</th>\n",
       "      <th>wind_speed</th>\n",
       "      <th>wind_deg</th>\n",
       "      <th>wind_gust</th>\n",
       "      <th>weather</th>\n",
       "      <th>pop</th>\n",
       "      <th>rain</th>\n",
       "    </tr>\n",
       "  </thead>\n",
       "  <tbody>\n",
       "    <tr>\n",
       "      <th>0</th>\n",
       "      <td>1630821600</td>\n",
       "      <td>30.58</td>\n",
       "      <td>37.58</td>\n",
       "      <td>1009</td>\n",
       "      <td>80</td>\n",
       "      <td>26.73</td>\n",
       "      <td>9.30</td>\n",
       "      <td>56</td>\n",
       "      <td>10000</td>\n",
       "      <td>4.00</td>\n",
       "      <td>102</td>\n",
       "      <td>3.85</td>\n",
       "      <td>[{'id': 500, 'main': 'Rain', 'description': 'l...</td>\n",
       "      <td>0.96</td>\n",
       "      <td>{'1h': 0.59}</td>\n",
       "    </tr>\n",
       "    <tr>\n",
       "      <th>1</th>\n",
       "      <td>1630825200</td>\n",
       "      <td>30.52</td>\n",
       "      <td>37.52</td>\n",
       "      <td>1009</td>\n",
       "      <td>77</td>\n",
       "      <td>26.03</td>\n",
       "      <td>5.93</td>\n",
       "      <td>51</td>\n",
       "      <td>10000</td>\n",
       "      <td>3.47</td>\n",
       "      <td>118</td>\n",
       "      <td>3.17</td>\n",
       "      <td>[{'id': 803, 'main': 'Clouds', 'description': ...</td>\n",
       "      <td>0.58</td>\n",
       "      <td>NaN</td>\n",
       "    </tr>\n",
       "    <tr>\n",
       "      <th>2</th>\n",
       "      <td>1630828800</td>\n",
       "      <td>30.39</td>\n",
       "      <td>37.10</td>\n",
       "      <td>1009</td>\n",
       "      <td>74</td>\n",
       "      <td>25.23</td>\n",
       "      <td>3.08</td>\n",
       "      <td>45</td>\n",
       "      <td>10000</td>\n",
       "      <td>3.45</td>\n",
       "      <td>111</td>\n",
       "      <td>3.16</td>\n",
       "      <td>[{'id': 802, 'main': 'Clouds', 'description': ...</td>\n",
       "      <td>0.62</td>\n",
       "      <td>NaN</td>\n",
       "    </tr>\n",
       "    <tr>\n",
       "      <th>3</th>\n",
       "      <td>1630832400</td>\n",
       "      <td>30.08</td>\n",
       "      <td>35.74</td>\n",
       "      <td>1009</td>\n",
       "      <td>72</td>\n",
       "      <td>24.47</td>\n",
       "      <td>1.08</td>\n",
       "      <td>50</td>\n",
       "      <td>10000</td>\n",
       "      <td>3.21</td>\n",
       "      <td>109</td>\n",
       "      <td>3.07</td>\n",
       "      <td>[{'id': 802, 'main': 'Clouds', 'description': ...</td>\n",
       "      <td>0.49</td>\n",
       "      <td>NaN</td>\n",
       "    </tr>\n",
       "    <tr>\n",
       "      <th>4</th>\n",
       "      <td>1630836000</td>\n",
       "      <td>29.46</td>\n",
       "      <td>34.41</td>\n",
       "      <td>1009</td>\n",
       "      <td>73</td>\n",
       "      <td>24.11</td>\n",
       "      <td>0.19</td>\n",
       "      <td>48</td>\n",
       "      <td>10000</td>\n",
       "      <td>3.04</td>\n",
       "      <td>104</td>\n",
       "      <td>3.37</td>\n",
       "      <td>[{'id': 802, 'main': 'Clouds', 'description': ...</td>\n",
       "      <td>0.41</td>\n",
       "      <td>NaN</td>\n",
       "    </tr>\n",
       "  </tbody>\n",
       "</table>\n",
       "</div>"
      ],
      "text/plain": [
       "           dt   temp  feels_like  pressure  humidity  dew_point   uvi  clouds  \\\n",
       "0  1630821600  30.58       37.58      1009        80      26.73  9.30      56   \n",
       "1  1630825200  30.52       37.52      1009        77      26.03  5.93      51   \n",
       "2  1630828800  30.39       37.10      1009        74      25.23  3.08      45   \n",
       "3  1630832400  30.08       35.74      1009        72      24.47  1.08      50   \n",
       "4  1630836000  29.46       34.41      1009        73      24.11  0.19      48   \n",
       "\n",
       "   visibility  wind_speed  wind_deg  wind_gust  \\\n",
       "0       10000        4.00       102       3.85   \n",
       "1       10000        3.47       118       3.17   \n",
       "2       10000        3.45       111       3.16   \n",
       "3       10000        3.21       109       3.07   \n",
       "4       10000        3.04       104       3.37   \n",
       "\n",
       "                                             weather   pop          rain  \n",
       "0  [{'id': 500, 'main': 'Rain', 'description': 'l...  0.96  {'1h': 0.59}  \n",
       "1  [{'id': 803, 'main': 'Clouds', 'description': ...  0.58           NaN  \n",
       "2  [{'id': 802, 'main': 'Clouds', 'description': ...  0.62           NaN  \n",
       "3  [{'id': 802, 'main': 'Clouds', 'description': ...  0.49           NaN  \n",
       "4  [{'id': 802, 'main': 'Clouds', 'description': ...  0.41           NaN  "
      ]
     },
     "execution_count": 10,
     "metadata": {},
     "output_type": "execute_result"
    }
   ],
   "source": [
    "df_hourly.head()"
   ]
  },
  {
   "cell_type": "code",
   "execution_count": null,
   "metadata": {},
   "outputs": [],
   "source": []
  }
 ],
 "metadata": {
  "interpreter": {
   "hash": "c1b4cfe941b6d2466ad1fb5979e97da9cda8801728c8091b097ab734208fc00c"
  },
  "kernelspec": {
   "display_name": "Python 3.8.3 64-bit ('base': conda)",
   "name": "python3"
  },
  "language_info": {
   "codemirror_mode": {
    "name": "ipython",
    "version": 3
   },
   "file_extension": ".py",
   "mimetype": "text/x-python",
   "name": "python",
   "nbconvert_exporter": "python",
   "pygments_lexer": "ipython3",
   "version": "3.8.11"
  }
 },
 "nbformat": 4,
 "nbformat_minor": 2
}
