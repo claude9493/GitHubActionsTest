{
 "cells": [
  {
   "cell_type": "code",
   "execution_count": 1,
   "metadata": {
    "execution": {
     "iopub.execute_input": "2021-08-28T04:19:53.323845Z",
     "iopub.status.busy": "2021-08-28T04:19:53.323199Z",
     "iopub.status.idle": "2021-08-28T04:19:55.398945Z",
     "shell.execute_reply": "2021-08-28T04:19:55.398323Z"
    }
   },
   "outputs": [],
   "source": [
    "import json, yaml, requests\r\n",
    "from datetime import datetime\r\n",
    "from dateutil import tz\r\n",
    "import pandas as pd\r\n",
    "from PIL import Image\r\n",
    "from io import BytesIO\r\n",
    "import matplotlib.pyplot as plt\r\n",
    "import seaborn\r\n",
    "\r\n",
    "CONFIG_PATH = \"../config/config.yaml\""
   ]
  },
  {
   "cell_type": "code",
   "execution_count": 2,
   "metadata": {
    "execution": {
     "iopub.execute_input": "2021-08-28T04:19:55.405672Z",
     "iopub.status.busy": "2021-08-28T04:19:55.404575Z",
     "iopub.status.idle": "2021-08-28T04:19:55.410998Z",
     "shell.execute_reply": "2021-08-28T04:19:55.410449Z"
    }
   },
   "outputs": [],
   "source": [
    "with open('../newest_ts', 'r') as f:\r\n",
    "    newest_ts = f.read()\r\n",
    "\r\n",
    "data_path = f\"../data/data_{newest_ts}.json\"\r\n",
    "with open(data_path, 'r') as f:\r\n",
    "    data = json.load(f)\r\n",
    "\r\n",
    "with open(CONFIG_PATH, \"r\") as stream:\r\n",
    "    config = yaml.safe_load(stream)\r\n",
    "\r\n",
    "TIME_ZONE = config['time_zone']\r\n",
    "DATETIME_FORMAT = config['dt_format']"
   ]
  },
  {
   "cell_type": "code",
   "execution_count": 3,
   "metadata": {
    "execution": {
     "iopub.execute_input": "2021-08-28T04:19:55.417100Z",
     "iopub.status.busy": "2021-08-28T04:19:55.415829Z",
     "iopub.status.idle": "2021-08-28T04:19:55.421428Z",
     "shell.execute_reply": "2021-08-28T04:19:55.421978Z"
    }
   },
   "outputs": [
    {
     "name": "stdout",
     "output_type": "stream",
     "text": [
      "Recent query happens at 2021-08-28 12:19:50 (CST).\n"
     ]
    }
   ],
   "source": [
    "def ts2dt(ts, format=DATETIME_FORMAT):\r\n",
    "    dt = (datetime.utcfromtimestamp(int(ts))\r\n",
    "                    .replace(tzinfo=tz.tzutc())\r\n",
    "                    # .astimezone(tz.tzlocal())\r\n",
    "                    .astimezone(tz.gettz(TIME_ZONE)))\r\n",
    "    return dt.strftime(format), dt\r\n",
    "\r\n",
    "_, newest_dt = ts2dt(newest_ts)\r\n",
    "print(f\"Recent query happens at {newest_dt.strftime(DATETIME_FORMAT)} ({newest_dt.tzname()}).\")"
   ]
  },
  {
   "cell_type": "code",
   "execution_count": 4,
   "metadata": {
    "execution": {
     "iopub.execute_input": "2021-08-28T04:19:55.428217Z",
     "iopub.status.busy": "2021-08-28T04:19:55.426703Z",
     "iopub.status.idle": "2021-08-28T04:19:55.428897Z",
     "shell.execute_reply": "2021-08-28T04:19:55.429408Z"
    }
   },
   "outputs": [],
   "source": [
    "def degrees_to_cardinal(d):\r\n",
    "  dirs = ['N', 'NNE', 'NE', 'ENE', 'E', 'ESE', 'SE', 'SSE', 'S', 'SSW', 'SW', 'WSW', 'W', 'WNW', 'NW', 'NNW']\r\n",
    "  ix = int(round(d / (360. / len(dirs))))\r\n",
    "  return dirs[ix % len(dirs)]"
   ]
  },
  {
   "cell_type": "code",
   "execution_count": 5,
   "metadata": {
    "execution": {
     "iopub.execute_input": "2021-08-28T04:19:55.434426Z",
     "iopub.status.busy": "2021-08-28T04:19:55.433091Z",
     "iopub.status.idle": "2021-08-28T04:19:55.435078Z",
     "shell.execute_reply": "2021-08-28T04:19:55.435748Z"
    }
   },
   "outputs": [],
   "source": [
    "# data.keys()"
   ]
  },
  {
   "cell_type": "code",
   "execution_count": 6,
   "metadata": {
    "execution": {
     "iopub.execute_input": "2021-08-28T04:19:55.440861Z",
     "iopub.status.busy": "2021-08-28T04:19:55.438995Z",
     "iopub.status.idle": "2021-08-28T04:19:55.441544Z",
     "shell.execute_reply": "2021-08-28T04:19:55.442065Z"
    }
   },
   "outputs": [],
   "source": [
    "# data['current']"
   ]
  },
  {
   "cell_type": "code",
   "execution_count": 7,
   "metadata": {
    "execution": {
     "iopub.execute_input": "2021-08-28T04:19:55.463105Z",
     "iopub.status.busy": "2021-08-28T04:19:55.462484Z",
     "iopub.status.idle": "2021-08-28T04:19:55.875876Z",
     "shell.execute_reply": "2021-08-28T04:19:55.876674Z"
    }
   },
   "outputs": [
    {
     "data": {
      "image/png": "[encoded data removed]",
      "text/plain": [
       "<Figure size 216x216 with 1 Axes>"
      ]
     },
     "metadata": {
      "needs_background": "light"
     },
     "output_type": "display_data"
    },
    {
     "name": "stdout",
     "output_type": "stream",
     "text": [
      "Today, sun rises at 06:04 and sets at 18:44.\n",
      "Currently, the weather is Rain (light rain).\n",
      "The temperature is 29.75°C and it feels like 36.75°C.\n",
      "The UV index is 11.73, humidity is 85%.\n",
      "The pressure is 1012 hPa, percentage of cloud cover is 52%\n",
      "The wind comes from E direction with a speed 5.47 m/s.\n"
     ]
    }
   ],
   "source": [
    "current = data['current']\r\n",
    "\r\n",
    "fig, ax = plt.subplots(figsize=(3, 3))\r\n",
    "icon = requests.get(f\"http://openweathermap.org/img/wn/{current['weather'][0]['icon']}@2x.png\")\r\n",
    "im = Image.open(BytesIO(icon.content))\r\n",
    "plt.imshow(im)\r\n",
    "ax.set_axis_off()\r\n",
    "plt.show()\r\n",
    "\r\n",
    "print(f\"Today, sun rises at {ts2dt(current['sunrise'], '%H:%M')[0]} \\\r\n",
    "and sets at {ts2dt(current['sunset'], '%H:%M')[0]}.\\n\\\r\n",
    "Currently, the weather is {current['weather'][0]['main']} ({current['weather'][0]['description']}).\\n\\\r\n",
    "The temperature is {current['temp']}°C and it feels like {current['feels_like']}°C.\\n\\\r\n",
    "The UV index is {current['uvi']}, humidity is {current['humidity']}%.\\n\\\r\n",
    "The pressure is {current['pressure']} hPa, percentage of cloud cover is {current['clouds']}%\\n\\\r\n",
    "The wind comes from {degrees_to_cardinal(current['wind_deg'])} direction with a speed {current['wind_speed']} m/s.\")"
   ]
  },
  {
   "cell_type": "code",
   "execution_count": 8,
   "metadata": {
    "execution": {
     "iopub.execute_input": "2021-08-28T04:19:55.880488Z",
     "iopub.status.busy": "2021-08-28T04:19:55.879337Z",
     "iopub.status.idle": "2021-08-28T04:19:55.887747Z",
     "shell.execute_reply": "2021-08-28T04:19:55.888518Z"
    }
   },
   "outputs": [],
   "source": [
    "df_hourly = pd.DataFrame(data['hourly'])\r\n",
    "df_daily = pd.DataFrame(data['daily'])"
   ]
  },
  {
   "cell_type": "code",
   "execution_count": 9,
   "metadata": {
    "execution": {
     "iopub.execute_input": "2021-08-28T04:19:55.892022Z",
     "iopub.status.busy": "2021-08-28T04:19:55.890896Z",
     "iopub.status.idle": "2021-08-28T04:19:56.227853Z",
     "shell.execute_reply": "2021-08-28T04:19:56.226955Z"
    }
   },
   "outputs": [
    {
     "data": {
      "image/png": "[encoded data removed]",
      "text/plain": [
       "<Figure size 864x432 with 1 Axes>"
      ]
     },
     "metadata": {
      "needs_background": "light"
     },
     "output_type": "display_data"
    }
   ],
   "source": [
    "fig, ax = plt.subplots(figsize=(12, 6))\r\n",
    "plt.plot(df_hourly.temp, '.-', label='Temperature')\r\n",
    "plt.plot(df_hourly.feels_like, '.-', label='Feels Like')\r\n",
    "ax.set(title='Temperature in future 48 hours', xlabel='Time', ylabel='Temperature')\r\n",
    "ax.set_xticks(list(range(0, len(df_hourly), 2)))\r\n",
    "ax.set_xticklabels([ts2dt(ts, '%m-%d %H:%M')[0] for i, ts in enumerate(df_hourly.dt) if i%2==0], \r\n",
    "                   rotation=45, ha=\"right\")\r\n",
    "ax.locator_params(nbins=15, axis='y')\r\n",
    "plt.legend()\r\n",
    "plt.show()"
   ]
  },
  {
   "cell_type": "code",
   "execution_count": 10,
   "metadata": {
    "execution": {
     "iopub.execute_input": "2021-08-28T04:19:56.241422Z",
     "iopub.status.busy": "2021-08-28T04:19:56.232213Z",
     "iopub.status.idle": "2021-08-28T04:19:56.254147Z",
     "shell.execute_reply": "2021-08-28T04:19:56.253518Z"
    }
   },
   "outputs": [
    {
     "data": {
      "text/html": [
       "<div>\n",
       "<style scoped>\n",
       "    .dataframe tbody tr th:only-of-type {\n",
       "        vertical-align: middle;\n",
       "    }\n",
       "\n",
       "    .dataframe tbody tr th {\n",
       "        vertical-align: top;\n",
       "    }\n",
       "\n",
       "    .dataframe thead th {\n",
       "        text-align: right;\n",
       "    }\n",
       "</style>\n",
       "<table border=\"1\" class=\"dataframe\">\n",
       "  <thead>\n",
       "    <tr style=\"text-align: right;\">\n",
       "      <th></th>\n",
       "      <th>dt</th>\n",
       "      <th>temp</th>\n",
       "      <th>feels_like</th>\n",
       "      <th>pressure</th>\n",
       "      <th>humidity</th>\n",
       "      <th>dew_point</th>\n",
       "      <th>uvi</th>\n",
       "      <th>clouds</th>\n",
       "      <th>visibility</th>\n",
       "      <th>wind_speed</th>\n",
       "      <th>wind_deg</th>\n",
       "      <th>wind_gust</th>\n",
       "      <th>weather</th>\n",
       "      <th>pop</th>\n",
       "      <th>rain</th>\n",
       "    </tr>\n",
       "  </thead>\n",
       "  <tbody>\n",
       "    <tr>\n",
       "      <th>0</th>\n",
       "      <td>1630123200</td>\n",
       "      <td>29.75</td>\n",
       "      <td>36.75</td>\n",
       "      <td>1012</td>\n",
       "      <td>85</td>\n",
       "      <td>26.95</td>\n",
       "      <td>11.73</td>\n",
       "      <td>52</td>\n",
       "      <td>10000</td>\n",
       "      <td>5.47</td>\n",
       "      <td>89</td>\n",
       "      <td>6.86</td>\n",
       "      <td>[{'id': 803, 'main': 'Clouds', 'description': ...</td>\n",
       "      <td>0.72</td>\n",
       "      <td>NaN</td>\n",
       "    </tr>\n",
       "    <tr>\n",
       "      <th>1</th>\n",
       "      <td>1630126800</td>\n",
       "      <td>29.81</td>\n",
       "      <td>36.81</td>\n",
       "      <td>1012</td>\n",
       "      <td>80</td>\n",
       "      <td>25.98</td>\n",
       "      <td>11.53</td>\n",
       "      <td>51</td>\n",
       "      <td>10000</td>\n",
       "      <td>5.46</td>\n",
       "      <td>91</td>\n",
       "      <td>6.84</td>\n",
       "      <td>[{'id': 500, 'main': 'Rain', 'description': 'l...</td>\n",
       "      <td>0.68</td>\n",
       "      <td>{'1h': 0.18}</td>\n",
       "    </tr>\n",
       "    <tr>\n",
       "      <th>2</th>\n",
       "      <td>1630130400</td>\n",
       "      <td>29.84</td>\n",
       "      <td>36.12</td>\n",
       "      <td>1011</td>\n",
       "      <td>76</td>\n",
       "      <td>25.15</td>\n",
       "      <td>9.57</td>\n",
       "      <td>50</td>\n",
       "      <td>10000</td>\n",
       "      <td>5.08</td>\n",
       "      <td>95</td>\n",
       "      <td>6.56</td>\n",
       "      <td>[{'id': 500, 'main': 'Rain', 'description': 'l...</td>\n",
       "      <td>0.68</td>\n",
       "      <td>{'1h': 0.15}</td>\n",
       "    </tr>\n",
       "    <tr>\n",
       "      <th>3</th>\n",
       "      <td>1630134000</td>\n",
       "      <td>29.83</td>\n",
       "      <td>35.10</td>\n",
       "      <td>1011</td>\n",
       "      <td>72</td>\n",
       "      <td>24.23</td>\n",
       "      <td>5.99</td>\n",
       "      <td>27</td>\n",
       "      <td>10000</td>\n",
       "      <td>4.93</td>\n",
       "      <td>96</td>\n",
       "      <td>6.22</td>\n",
       "      <td>[{'id': 802, 'main': 'Clouds', 'description': ...</td>\n",
       "      <td>0.00</td>\n",
       "      <td>NaN</td>\n",
       "    </tr>\n",
       "    <tr>\n",
       "      <th>4</th>\n",
       "      <td>1630137600</td>\n",
       "      <td>29.69</td>\n",
       "      <td>34.07</td>\n",
       "      <td>1010</td>\n",
       "      <td>69</td>\n",
       "      <td>23.39</td>\n",
       "      <td>3.17</td>\n",
       "      <td>18</td>\n",
       "      <td>10000</td>\n",
       "      <td>5.26</td>\n",
       "      <td>95</td>\n",
       "      <td>6.52</td>\n",
       "      <td>[{'id': 801, 'main': 'Clouds', 'description': ...</td>\n",
       "      <td>0.05</td>\n",
       "      <td>NaN</td>\n",
       "    </tr>\n",
       "  </tbody>\n",
       "</table>\n",
       "</div>"
      ],
      "text/plain": [
       "           dt   temp  feels_like  pressure  humidity  dew_point    uvi  \\\n",
       "0  1630123200  29.75       36.75      1012        85      26.95  11.73   \n",
       "1  1630126800  29.81       36.81      1012        80      25.98  11.53   \n",
       "2  1630130400  29.84       36.12      1011        76      25.15   9.57   \n",
       "3  1630134000  29.83       35.10      1011        72      24.23   5.99   \n",
       "4  1630137600  29.69       34.07      1010        69      23.39   3.17   \n",
       "\n",
       "   clouds  visibility  wind_speed  wind_deg  wind_gust  \\\n",
       "0      52       10000        5.47        89       6.86   \n",
       "1      51       10000        5.46        91       6.84   \n",
       "2      50       10000        5.08        95       6.56   \n",
       "3      27       10000        4.93        96       6.22   \n",
       "4      18       10000        5.26        95       6.52   \n",
       "\n",
       "                                             weather   pop          rain  \n",
       "0  [{'id': 803, 'main': 'Clouds', 'description': ...  0.72           NaN  \n",
       "1  [{'id': 500, 'main': 'Rain', 'description': 'l...  0.68  {'1h': 0.18}  \n",
       "2  [{'id': 500, 'main': 'Rain', 'description': 'l...  0.68  {'1h': 0.15}  \n",
       "3  [{'id': 802, 'main': 'Clouds', 'description': ...  0.00           NaN  \n",
       "4  [{'id': 801, 'main': 'Clouds', 'description': ...  0.05           NaN  "
      ]
     },
     "execution_count": 10,
     "metadata": {},
     "output_type": "execute_result"
    }
   ],
   "source": [
    "df_hourly.head()"
   ]
  },
  {
   "cell_type": "code",
   "execution_count": null,
   "metadata": {},
   "outputs": [],
   "source": []
  }
 ],
 "metadata": {
  "interpreter": {
   "hash": "c1b4cfe941b6d2466ad1fb5979e97da9cda8801728c8091b097ab734208fc00c"
  },
  "kernelspec": {
   "display_name": "Python 3.8.3 64-bit ('base': conda)",
   "name": "python3"
  },
  "language_info": {
   "codemirror_mode": {
    "name": "ipython",
    "version": 3
   },
   "file_extension": ".py",
   "mimetype": "text/x-python",
   "name": "python",
   "nbconvert_exporter": "python",
   "pygments_lexer": "ipython3",
   "version": "3.8.11"
  }
 },
 "nbformat": 4,
 "nbformat_minor": 2
}
