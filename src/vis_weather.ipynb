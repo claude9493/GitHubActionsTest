{
 "cells": [
  {
   "cell_type": "code",
   "execution_count": 1,
   "metadata": {
    "execution": {
     "iopub.execute_input": "2021-08-26T18:18:11.459555Z",
     "iopub.status.busy": "2021-08-26T18:18:11.458950Z",
     "iopub.status.idle": "2021-08-26T18:18:12.838332Z",
     "shell.execute_reply": "2021-08-26T18:18:12.837459Z"
    }
   },
   "outputs": [],
   "source": [
    "import json, yaml, requests\r\n",
    "from datetime import datetime\r\n",
    "from dateutil import tz\r\n",
    "import pandas as pd\r\n",
    "from PIL import Image\r\n",
    "from io import BytesIO\r\n",
    "import matplotlib.pyplot as plt\r\n",
    "import seaborn\r\n",
    "\r\n",
    "CONFIG_PATH = \"../config/config.yaml\""
   ]
  },
  {
   "cell_type": "code",
   "execution_count": 2,
   "metadata": {
    "execution": {
     "iopub.execute_input": "2021-08-26T18:18:12.841457Z",
     "iopub.status.busy": "2021-08-26T18:18:12.840861Z",
     "iopub.status.idle": "2021-08-26T18:18:12.848773Z",
     "shell.execute_reply": "2021-08-26T18:18:12.848259Z"
    }
   },
   "outputs": [],
   "source": [
    "with open('../newest_ts', 'r') as f:\r\n",
    "    newest_ts = f.read()\r\n",
    "\r\n",
    "data_path = f\"../data/data_{newest_ts}.json\"\r\n",
    "with open(data_path, 'r') as f:\r\n",
    "    data = json.load(f)\r\n",
    "\r\n",
    "with open(CONFIG_PATH, \"r\") as stream:\r\n",
    "    config = yaml.safe_load(stream)\r\n",
    "\r\n",
    "TIME_ZONE = config['time_zone']\r\n",
    "DATETIME_FORMAT = config['dt_format']"
   ]
  },
  {
   "cell_type": "code",
   "execution_count": 3,
   "metadata": {
    "execution": {
     "iopub.execute_input": "2021-08-26T18:18:12.854076Z",
     "iopub.status.busy": "2021-08-26T18:18:12.853249Z",
     "iopub.status.idle": "2021-08-26T18:18:12.863942Z",
     "shell.execute_reply": "2021-08-26T18:18:12.864376Z"
    }
   },
   "outputs": [
    {
     "name": "stdout",
     "output_type": "stream",
     "text": [
      "Recent query happens at 2021-08-27 02:18:08 (CST).\n"
     ]
    }
   ],
   "source": [
    "def ts2dt(ts, format=DATETIME_FORMAT):\r\n",
    "    dt = (datetime.utcfromtimestamp(int(ts))\r\n",
    "                    .replace(tzinfo=tz.tzutc())\r\n",
    "                    # .astimezone(tz.tzlocal())\r\n",
    "                    .astimezone(tz.gettz(TIME_ZONE)))\r\n",
    "    return dt.strftime(format), dt\r\n",
    "\r\n",
    "_, newest_dt = ts2dt(newest_ts)\r\n",
    "print(f\"Recent query happens at {newest_dt.strftime(DATETIME_FORMAT)} ({newest_dt.tzname()}).\")"
   ]
  },
  {
   "cell_type": "code",
   "execution_count": 4,
   "metadata": {
    "execution": {
     "iopub.execute_input": "2021-08-26T18:18:12.869469Z",
     "iopub.status.busy": "2021-08-26T18:18:12.868875Z",
     "iopub.status.idle": "2021-08-26T18:18:12.871565Z",
     "shell.execute_reply": "2021-08-26T18:18:12.870981Z"
    }
   },
   "outputs": [],
   "source": [
    "def degrees_to_cardinal(d):\r\n",
    "  dirs = ['N', 'NNE', 'NE', 'ENE', 'E', 'ESE', 'SE', 'SSE', 'S', 'SSW', 'SW', 'WSW', 'W', 'WNW', 'NW', 'NNW']\r\n",
    "  ix = int(round(d / (360. / len(dirs))))\r\n",
    "  return dirs[ix % len(dirs)]"
   ]
  },
  {
   "cell_type": "code",
   "execution_count": 5,
   "metadata": {
    "execution": {
     "iopub.execute_input": "2021-08-26T18:18:12.876225Z",
     "iopub.status.busy": "2021-08-26T18:18:12.874730Z",
     "iopub.status.idle": "2021-08-26T18:18:12.876803Z",
     "shell.execute_reply": "2021-08-26T18:18:12.877232Z"
    }
   },
   "outputs": [],
   "source": [
    "# data.keys()"
   ]
  },
  {
   "cell_type": "code",
   "execution_count": 6,
   "metadata": {
    "execution": {
     "iopub.execute_input": "2021-08-26T18:18:12.881317Z",
     "iopub.status.busy": "2021-08-26T18:18:12.880076Z",
     "iopub.status.idle": "2021-08-26T18:18:12.881914Z",
     "shell.execute_reply": "2021-08-26T18:18:12.882348Z"
    }
   },
   "outputs": [],
   "source": [
    "# data['current']"
   ]
  },
  {
   "cell_type": "code",
   "execution_count": 7,
   "metadata": {
    "execution": {
     "iopub.execute_input": "2021-08-26T18:18:12.902909Z",
     "iopub.status.busy": "2021-08-26T18:18:12.889946Z",
     "iopub.status.idle": "2021-08-26T18:18:13.542731Z",
     "shell.execute_reply": "2021-08-26T18:18:13.543398Z"
    }
   },
   "outputs": [
    {
     "data": {
      "image/png": "[encoded data removed]",
      "text/plain": [
       "<Figure size 216x216 with 1 Axes>"
      ]
     },
     "metadata": {
      "needs_background": "light"
     },
     "output_type": "display_data"
    },
    {
     "name": "stdout",
     "output_type": "stream",
     "text": [
      "Today, sun rises at 06:04 and sets at 18:45.\n",
      "Currently, the weather is Clouds (scattered clouds).\n",
      "The temperature is 29.05°C and it feels like 35.56°C.\n",
      "The UV index is 0, humidity is 83%.\n",
      "The pressure is 1011 hPa, percentage of cloud cover is 39%\n",
      "The wind comes from E direction with a speed 4.15 m/s.\n"
     ]
    }
   ],
   "source": [
    "current = data['current']\r\n",
    "\r\n",
    "fig, ax = plt.subplots(figsize=(3, 3))\r\n",
    "icon = requests.get(f\"http://openweathermap.org/img/wn/{current['weather'][0]['icon']}@2x.png\")\r\n",
    "im = Image.open(BytesIO(icon.content))\r\n",
    "plt.imshow(im)\r\n",
    "ax.set_axis_off()\r\n",
    "plt.show()\r\n",
    "\r\n",
    "print(f\"Today, sun rises at {ts2dt(current['sunrise'], '%H:%M')[0]} \\\r\n",
    "and sets at {ts2dt(current['sunset'], '%H:%M')[0]}.\\n\\\r\n",
    "Currently, the weather is {current['weather'][0]['main']} ({current['weather'][0]['description']}).\\n\\\r\n",
    "The temperature is {current['temp']}°C and it feels like {current['feels_like']}°C.\\n\\\r\n",
    "The UV index is {current['uvi']}, humidity is {current['humidity']}%.\\n\\\r\n",
    "The pressure is {current['pressure']} hPa, percentage of cloud cover is {current['clouds']}%\\n\\\r\n",
    "The wind comes from {degrees_to_cardinal(current['wind_deg'])} direction with a speed {current['wind_speed']} m/s.\")"
   ]
  },
  {
   "cell_type": "code",
   "execution_count": 8,
   "metadata": {
    "execution": {
     "iopub.execute_input": "2021-08-26T18:18:13.549039Z",
     "iopub.status.busy": "2021-08-26T18:18:13.548452Z",
     "iopub.status.idle": "2021-08-26T18:18:13.552987Z",
     "shell.execute_reply": "2021-08-26T18:18:13.553551Z"
    }
   },
   "outputs": [],
   "source": [
    "df_hourly = pd.DataFrame(data['hourly'])\r\n",
    "df_daily = pd.DataFrame(data['daily'])"
   ]
  },
  {
   "cell_type": "code",
   "execution_count": 9,
   "metadata": {
    "execution": {
     "iopub.execute_input": "2021-08-26T18:18:13.556212Z",
     "iopub.status.busy": "2021-08-26T18:18:13.555627Z",
     "iopub.status.idle": "2021-08-26T18:18:13.866309Z",
     "shell.execute_reply": "2021-08-26T18:18:13.865590Z"
    }
   },
   "outputs": [
    {
     "data": {
      "image/png": "[encoded data removed]",
      "text/plain": [
       "<Figure size 864x432 with 1 Axes>"
      ]
     },
     "metadata": {
      "needs_background": "light"
     },
     "output_type": "display_data"
    }
   ],
   "source": [
    "fig, ax = plt.subplots(figsize=(12, 6))\r\n",
    "plt.plot(df_hourly.temp, '.-', label='Temperature')\r\n",
    "plt.plot(df_hourly.feels_like, '.-', label='Feels Like')\r\n",
    "ax.set(title='Temperature in future 48 hours', xlabel='Time', ylabel='Temperature')\r\n",
    "ax.set_xticks(list(range(0, len(df_hourly), 2)))\r\n",
    "ax.set_xticklabels([ts2dt(ts, '%m-%d %H:%M')[0] for i, ts in enumerate(df_hourly.dt) if i%2==0], \r\n",
    "                   rotation=45, ha=\"right\")\r\n",
    "ax.locator_params(nbins=15, axis='y')\r\n",
    "plt.legend()\r\n",
    "plt.show()"
   ]
  },
  {
   "cell_type": "code",
   "execution_count": 10,
   "metadata": {
    "execution": {
     "iopub.execute_input": "2021-08-26T18:18:13.871039Z",
     "iopub.status.busy": "2021-08-26T18:18:13.870113Z",
     "iopub.status.idle": "2021-08-26T18:18:13.891334Z",
     "shell.execute_reply": "2021-08-26T18:18:13.891879Z"
    }
   },
   "outputs": [
    {
     "data": {
      "text/html": [
       "<div>\n",
       "<style scoped>\n",
       "    .dataframe tbody tr th:only-of-type {\n",
       "        vertical-align: middle;\n",
       "    }\n",
       "\n",
       "    .dataframe tbody tr th {\n",
       "        vertical-align: top;\n",
       "    }\n",
       "\n",
       "    .dataframe thead th {\n",
       "        text-align: right;\n",
       "    }\n",
       "</style>\n",
       "<table border=\"1\" class=\"dataframe\">\n",
       "  <thead>\n",
       "    <tr style=\"text-align: right;\">\n",
       "      <th></th>\n",
       "      <th>dt</th>\n",
       "      <th>temp</th>\n",
       "      <th>feels_like</th>\n",
       "      <th>pressure</th>\n",
       "      <th>humidity</th>\n",
       "      <th>dew_point</th>\n",
       "      <th>uvi</th>\n",
       "      <th>clouds</th>\n",
       "      <th>visibility</th>\n",
       "      <th>wind_speed</th>\n",
       "      <th>wind_deg</th>\n",
       "      <th>wind_gust</th>\n",
       "      <th>weather</th>\n",
       "      <th>pop</th>\n",
       "      <th>rain</th>\n",
       "    </tr>\n",
       "  </thead>\n",
       "  <tbody>\n",
       "    <tr>\n",
       "      <th>0</th>\n",
       "      <td>1630000800</td>\n",
       "      <td>29.05</td>\n",
       "      <td>35.56</td>\n",
       "      <td>1011</td>\n",
       "      <td>83</td>\n",
       "      <td>25.87</td>\n",
       "      <td>0.0</td>\n",
       "      <td>39</td>\n",
       "      <td>10000</td>\n",
       "      <td>4.15</td>\n",
       "      <td>84</td>\n",
       "      <td>5.26</td>\n",
       "      <td>[{'id': 500, 'main': 'Rain', 'description': 'l...</td>\n",
       "      <td>0.20</td>\n",
       "      <td>{'1h': 0.12}</td>\n",
       "    </tr>\n",
       "    <tr>\n",
       "      <th>1</th>\n",
       "      <td>1630004400</td>\n",
       "      <td>28.77</td>\n",
       "      <td>34.52</td>\n",
       "      <td>1011</td>\n",
       "      <td>82</td>\n",
       "      <td>25.39</td>\n",
       "      <td>0.0</td>\n",
       "      <td>32</td>\n",
       "      <td>10000</td>\n",
       "      <td>3.99</td>\n",
       "      <td>82</td>\n",
       "      <td>5.20</td>\n",
       "      <td>[{'id': 802, 'main': 'Clouds', 'description': ...</td>\n",
       "      <td>0.53</td>\n",
       "      <td>NaN</td>\n",
       "    </tr>\n",
       "    <tr>\n",
       "      <th>2</th>\n",
       "      <td>1630008000</td>\n",
       "      <td>28.41</td>\n",
       "      <td>33.51</td>\n",
       "      <td>1011</td>\n",
       "      <td>82</td>\n",
       "      <td>25.04</td>\n",
       "      <td>0.0</td>\n",
       "      <td>25</td>\n",
       "      <td>10000</td>\n",
       "      <td>4.06</td>\n",
       "      <td>76</td>\n",
       "      <td>5.14</td>\n",
       "      <td>[{'id': 802, 'main': 'Clouds', 'description': ...</td>\n",
       "      <td>0.61</td>\n",
       "      <td>NaN</td>\n",
       "    </tr>\n",
       "    <tr>\n",
       "      <th>3</th>\n",
       "      <td>1630011600</td>\n",
       "      <td>28.00</td>\n",
       "      <td>32.41</td>\n",
       "      <td>1010</td>\n",
       "      <td>82</td>\n",
       "      <td>24.64</td>\n",
       "      <td>0.0</td>\n",
       "      <td>19</td>\n",
       "      <td>10000</td>\n",
       "      <td>4.28</td>\n",
       "      <td>77</td>\n",
       "      <td>5.39</td>\n",
       "      <td>[{'id': 500, 'main': 'Rain', 'description': 'l...</td>\n",
       "      <td>0.61</td>\n",
       "      <td>{'1h': 0.17}</td>\n",
       "    </tr>\n",
       "    <tr>\n",
       "      <th>4</th>\n",
       "      <td>1630015200</td>\n",
       "      <td>27.62</td>\n",
       "      <td>31.43</td>\n",
       "      <td>1011</td>\n",
       "      <td>82</td>\n",
       "      <td>24.27</td>\n",
       "      <td>0.0</td>\n",
       "      <td>14</td>\n",
       "      <td>10000</td>\n",
       "      <td>4.53</td>\n",
       "      <td>75</td>\n",
       "      <td>5.66</td>\n",
       "      <td>[{'id': 500, 'main': 'Rain', 'description': 'l...</td>\n",
       "      <td>0.65</td>\n",
       "      <td>{'1h': 0.11}</td>\n",
       "    </tr>\n",
       "  </tbody>\n",
       "</table>\n",
       "</div>"
      ],
      "text/plain": [
       "           dt   temp  feels_like  pressure  humidity  dew_point  uvi  clouds  \\\n",
       "0  1630000800  29.05       35.56      1011        83      25.87  0.0      39   \n",
       "1  1630004400  28.77       34.52      1011        82      25.39  0.0      32   \n",
       "2  1630008000  28.41       33.51      1011        82      25.04  0.0      25   \n",
       "3  1630011600  28.00       32.41      1010        82      24.64  0.0      19   \n",
       "4  1630015200  27.62       31.43      1011        82      24.27  0.0      14   \n",
       "\n",
       "   visibility  wind_speed  wind_deg  wind_gust  \\\n",
       "0       10000        4.15        84       5.26   \n",
       "1       10000        3.99        82       5.20   \n",
       "2       10000        4.06        76       5.14   \n",
       "3       10000        4.28        77       5.39   \n",
       "4       10000        4.53        75       5.66   \n",
       "\n",
       "                                             weather   pop          rain  \n",
       "0  [{'id': 500, 'main': 'Rain', 'description': 'l...  0.20  {'1h': 0.12}  \n",
       "1  [{'id': 802, 'main': 'Clouds', 'description': ...  0.53           NaN  \n",
       "2  [{'id': 802, 'main': 'Clouds', 'description': ...  0.61           NaN  \n",
       "3  [{'id': 500, 'main': 'Rain', 'description': 'l...  0.61  {'1h': 0.17}  \n",
       "4  [{'id': 500, 'main': 'Rain', 'description': 'l...  0.65  {'1h': 0.11}  "
      ]
     },
     "execution_count": 10,
     "metadata": {},
     "output_type": "execute_result"
    }
   ],
   "source": [
    "df_hourly.head()"
   ]
  },
  {
   "cell_type": "code",
   "execution_count": null,
   "metadata": {},
   "outputs": [],
   "source": []
  }
 ],
 "metadata": {
  "interpreter": {
   "hash": "c1b4cfe941b6d2466ad1fb5979e97da9cda8801728c8091b097ab734208fc00c"
  },
  "kernelspec": {
   "display_name": "Python 3.8.3 64-bit ('base': conda)",
   "name": "python3"
  },
  "language_info": {
   "codemirror_mode": {
    "name": "ipython",
    "version": 3
   },
   "file_extension": ".py",
   "mimetype": "text/x-python",
   "name": "python",
   "nbconvert_exporter": "python",
   "pygments_lexer": "ipython3",
   "version": "3.8.11"
  }
 },
 "nbformat": 4,
 "nbformat_minor": 2
}
