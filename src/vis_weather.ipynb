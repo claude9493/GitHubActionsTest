{
 "cells": [
  {
   "cell_type": "code",
   "execution_count": 1,
   "metadata": {
    "execution": {
     "iopub.execute_input": "2021-09-24T16:16:59.050370Z",
     "iopub.status.busy": "2021-09-24T16:16:59.049777Z",
     "iopub.status.idle": "2021-09-24T16:17:01.913541Z",
     "shell.execute_reply": "2021-09-24T16:17:01.912822Z"
    }
   },
   "outputs": [],
   "source": [
    "import json, yaml, requests\r\n",
    "from datetime import datetime\r\n",
    "from dateutil import tz\r\n",
    "import pandas as pd\r\n",
    "from PIL import Image\r\n",
    "from io import BytesIO\r\n",
    "import matplotlib.pyplot as plt\r\n",
    "import seaborn\r\n",
    "\r\n",
    "CONFIG_PATH = \"../config/config.yaml\""
   ]
  },
  {
   "cell_type": "code",
   "execution_count": 2,
   "metadata": {
    "execution": {
     "iopub.execute_input": "2021-09-24T16:17:01.923216Z",
     "iopub.status.busy": "2021-09-24T16:17:01.919287Z",
     "iopub.status.idle": "2021-09-24T16:17:01.925871Z",
     "shell.execute_reply": "2021-09-24T16:17:01.926564Z"
    }
   },
   "outputs": [],
   "source": [
    "with open('../newest_ts', 'r') as f:\r\n",
    "    newest_ts = f.read()\r\n",
    "\r\n",
    "data_path = f\"../data/data_{newest_ts}.json\"\r\n",
    "with open(data_path, 'r') as f:\r\n",
    "    data = json.load(f)\r\n",
    "\r\n",
    "with open(CONFIG_PATH, \"r\") as stream:\r\n",
    "    config = yaml.safe_load(stream)\r\n",
    "\r\n",
    "TIME_ZONE = config['time_zone']\r\n",
    "DATETIME_FORMAT = config['dt_format']"
   ]
  },
  {
   "cell_type": "code",
   "execution_count": 3,
   "metadata": {
    "execution": {
     "iopub.execute_input": "2021-09-24T16:17:01.932063Z",
     "iopub.status.busy": "2021-09-24T16:17:01.931425Z",
     "iopub.status.idle": "2021-09-24T16:17:01.947378Z",
     "shell.execute_reply": "2021-09-24T16:17:01.946828Z"
    }
   },
   "outputs": [
    {
     "name": "stdout",
     "output_type": "stream",
     "text": [
      "Recent query happens at 2021-09-25 00:16:55 (CST).\n"
     ]
    }
   ],
   "source": [
    "def ts2dt(ts, format=DATETIME_FORMAT):\r\n",
    "    dt = (datetime.utcfromtimestamp(int(ts))\r\n",
    "                    .replace(tzinfo=tz.tzutc())\r\n",
    "                    # .astimezone(tz.tzlocal())\r\n",
    "                    .astimezone(tz.gettz(TIME_ZONE)))\r\n",
    "    return dt.strftime(format), dt\r\n",
    "\r\n",
    "_, newest_dt = ts2dt(newest_ts)\r\n",
    "print(f\"Recent query happens at {newest_dt.strftime(DATETIME_FORMAT)} ({newest_dt.tzname()}).\")"
   ]
  },
  {
   "cell_type": "code",
   "execution_count": 4,
   "metadata": {
    "execution": {
     "iopub.execute_input": "2021-09-24T16:17:01.954194Z",
     "iopub.status.busy": "2021-09-24T16:17:01.952536Z",
     "iopub.status.idle": "2021-09-24T16:17:01.954932Z",
     "shell.execute_reply": "2021-09-24T16:17:01.955426Z"
    }
   },
   "outputs": [],
   "source": [
    "def degrees_to_cardinal(d):\r\n",
    "  dirs = ['N', 'NNE', 'NE', 'ENE', 'E', 'ESE', 'SE', 'SSE', 'S', 'SSW', 'SW', 'WSW', 'W', 'WNW', 'NW', 'NNW']\r\n",
    "  ix = int(round(d / (360. / len(dirs))))\r\n",
    "  return dirs[ix % len(dirs)]"
   ]
  },
  {
   "cell_type": "code",
   "execution_count": 5,
   "metadata": {
    "execution": {
     "iopub.execute_input": "2021-09-24T16:17:01.959506Z",
     "iopub.status.busy": "2021-09-24T16:17:01.958923Z",
     "iopub.status.idle": "2021-09-24T16:17:01.963006Z",
     "shell.execute_reply": "2021-09-24T16:17:01.962486Z"
    }
   },
   "outputs": [],
   "source": [
    "# data.keys()"
   ]
  },
  {
   "cell_type": "code",
   "execution_count": 6,
   "metadata": {
    "execution": {
     "iopub.execute_input": "2021-09-24T16:17:01.968450Z",
     "iopub.status.busy": "2021-09-24T16:17:01.966803Z",
     "iopub.status.idle": "2021-09-24T16:17:01.969075Z",
     "shell.execute_reply": "2021-09-24T16:17:01.969579Z"
    }
   },
   "outputs": [],
   "source": [
    "# data['current']"
   ]
  },
  {
   "cell_type": "code",
   "execution_count": 7,
   "metadata": {
    "execution": {
     "iopub.execute_input": "2021-09-24T16:17:01.993754Z",
     "iopub.status.busy": "2021-09-24T16:17:01.993008Z",
     "iopub.status.idle": "2021-09-24T16:17:02.421130Z",
     "shell.execute_reply": "2021-09-24T16:17:02.421892Z"
    }
   },
   "outputs": [
    {
     "data": {
      "image/png": "[encoded data removed]",
      "text/plain": [
       "<Figure size 216x216 with 1 Axes>"
      ]
     },
     "metadata": {
      "needs_background": "light"
     },
     "output_type": "display_data"
    },
    {
     "name": "stdout",
     "output_type": "stream",
     "text": [
      "Today, sun rises at 06:12 and sets at 18:16.\n",
      "Currently, the weather is Rain (light rain).\n",
      "The temperature is 29.41°C and it feels like 35.66°C.\n",
      "The UV index is 0, humidity is 79%.\n",
      "The pressure is 1017 hPa, percentage of cloud cover is 7%\n",
      "The wind comes from NNW direction with a speed 0.89 m/s.\n"
     ]
    }
   ],
   "source": [
    "current = data['current']\r\n",
    "\r\n",
    "fig, ax = plt.subplots(figsize=(3, 3))\r\n",
    "icon = requests.get(f\"http://openweathermap.org/img/wn/{current['weather'][0]['icon']}@2x.png\")\r\n",
    "im = Image.open(BytesIO(icon.content))\r\n",
    "plt.imshow(im)\r\n",
    "ax.set_axis_off()\r\n",
    "plt.show()\r\n",
    "\r\n",
    "print(f\"Today, sun rises at {ts2dt(current['sunrise'], '%H:%M')[0]} \\\r\n",
    "and sets at {ts2dt(current['sunset'], '%H:%M')[0]}.\\n\\\r\n",
    "Currently, the weather is {current['weather'][0]['main']} ({current['weather'][0]['description']}).\\n\\\r\n",
    "The temperature is {current['temp']}°C and it feels like {current['feels_like']}°C.\\n\\\r\n",
    "The UV index is {current['uvi']}, humidity is {current['humidity']}%.\\n\\\r\n",
    "The pressure is {current['pressure']} hPa, percentage of cloud cover is {current['clouds']}%\\n\\\r\n",
    "The wind comes from {degrees_to_cardinal(current['wind_deg'])} direction with a speed {current['wind_speed']} m/s.\")"
   ]
  },
  {
   "cell_type": "code",
   "execution_count": 8,
   "metadata": {
    "execution": {
     "iopub.execute_input": "2021-09-24T16:17:02.431915Z",
     "iopub.status.busy": "2021-09-24T16:17:02.428757Z",
     "iopub.status.idle": "2021-09-24T16:17:02.435737Z",
     "shell.execute_reply": "2021-09-24T16:17:02.436846Z"
    }
   },
   "outputs": [],
   "source": [
    "df_hourly = pd.DataFrame(data['hourly'])\r\n",
    "df_daily = pd.DataFrame(data['daily'])"
   ]
  },
  {
   "cell_type": "code",
   "execution_count": 9,
   "metadata": {
    "execution": {
     "iopub.execute_input": "2021-09-24T16:17:02.458396Z",
     "iopub.status.busy": "2021-09-24T16:17:02.439464Z",
     "iopub.status.idle": "2021-09-24T16:17:02.760428Z",
     "shell.execute_reply": "2021-09-24T16:17:02.761036Z"
    }
   },
   "outputs": [
    {
     "data": {
      "image/png": "[encoded data removed]",
      "text/plain": [
       "<Figure size 864x432 with 1 Axes>"
      ]
     },
     "metadata": {
      "needs_background": "light"
     },
     "output_type": "display_data"
    }
   ],
   "source": [
    "fig, ax = plt.subplots(figsize=(12, 6))\r\n",
    "plt.plot(df_hourly.temp, '.-', label='Temperature')\r\n",
    "plt.plot(df_hourly.feels_like, '.-', label='Feels Like')\r\n",
    "ax.set(title='Temperature in future 48 hours', xlabel='Time', ylabel='Temperature')\r\n",
    "ax.set_xticks(list(range(0, len(df_hourly), 2)))\r\n",
    "ax.set_xticklabels([ts2dt(ts, '%m-%d %H:%M')[0] for i, ts in enumerate(df_hourly.dt) if i%2==0], \r\n",
    "                   rotation=45, ha=\"right\")\r\n",
    "ax.locator_params(nbins=15, axis='y')\r\n",
    "plt.legend()\r\n",
    "plt.show()"
   ]
  },
  {
   "cell_type": "code",
   "execution_count": 10,
   "metadata": {
    "execution": {
     "iopub.execute_input": "2021-09-24T16:17:02.766709Z",
     "iopub.status.busy": "2021-09-24T16:17:02.765790Z",
     "iopub.status.idle": "2021-09-24T16:17:02.787681Z",
     "shell.execute_reply": "2021-09-24T16:17:02.788222Z"
    }
   },
   "outputs": [
    {
     "data": {
      "text/html": [
       "<div>\n",
       "<style scoped>\n",
       "    .dataframe tbody tr th:only-of-type {\n",
       "        vertical-align: middle;\n",
       "    }\n",
       "\n",
       "    .dataframe tbody tr th {\n",
       "        vertical-align: top;\n",
       "    }\n",
       "\n",
       "    .dataframe thead th {\n",
       "        text-align: right;\n",
       "    }\n",
       "</style>\n",
       "<table border=\"1\" class=\"dataframe\">\n",
       "  <thead>\n",
       "    <tr style=\"text-align: right;\">\n",
       "      <th></th>\n",
       "      <th>dt</th>\n",
       "      <th>temp</th>\n",
       "      <th>feels_like</th>\n",
       "      <th>pressure</th>\n",
       "      <th>humidity</th>\n",
       "      <th>dew_point</th>\n",
       "      <th>uvi</th>\n",
       "      <th>clouds</th>\n",
       "      <th>visibility</th>\n",
       "      <th>wind_speed</th>\n",
       "      <th>wind_deg</th>\n",
       "      <th>wind_gust</th>\n",
       "      <th>weather</th>\n",
       "      <th>pop</th>\n",
       "      <th>rain</th>\n",
       "    </tr>\n",
       "  </thead>\n",
       "  <tbody>\n",
       "    <tr>\n",
       "      <th>0</th>\n",
       "      <td>1632499200</td>\n",
       "      <td>29.41</td>\n",
       "      <td>35.66</td>\n",
       "      <td>1017</td>\n",
       "      <td>79</td>\n",
       "      <td>25.38</td>\n",
       "      <td>0.0</td>\n",
       "      <td>7</td>\n",
       "      <td>10000</td>\n",
       "      <td>6.31</td>\n",
       "      <td>88</td>\n",
       "      <td>9.19</td>\n",
       "      <td>[{'id': 800, 'main': 'Clear', 'description': '...</td>\n",
       "      <td>0.54</td>\n",
       "      <td>NaN</td>\n",
       "    </tr>\n",
       "    <tr>\n",
       "      <th>1</th>\n",
       "      <td>1632502800</td>\n",
       "      <td>29.08</td>\n",
       "      <td>34.96</td>\n",
       "      <td>1016</td>\n",
       "      <td>80</td>\n",
       "      <td>25.27</td>\n",
       "      <td>0.0</td>\n",
       "      <td>7</td>\n",
       "      <td>10000</td>\n",
       "      <td>6.82</td>\n",
       "      <td>84</td>\n",
       "      <td>9.65</td>\n",
       "      <td>[{'id': 500, 'main': 'Rain', 'description': 'l...</td>\n",
       "      <td>0.56</td>\n",
       "      <td>{'1h': 0.18}</td>\n",
       "    </tr>\n",
       "    <tr>\n",
       "      <th>2</th>\n",
       "      <td>1632506400</td>\n",
       "      <td>28.71</td>\n",
       "      <td>34.15</td>\n",
       "      <td>1015</td>\n",
       "      <td>81</td>\n",
       "      <td>25.12</td>\n",
       "      <td>0.0</td>\n",
       "      <td>9</td>\n",
       "      <td>10000</td>\n",
       "      <td>7.02</td>\n",
       "      <td>79</td>\n",
       "      <td>9.76</td>\n",
       "      <td>[{'id': 500, 'main': 'Rain', 'description': 'l...</td>\n",
       "      <td>0.56</td>\n",
       "      <td>{'1h': 0.18}</td>\n",
       "    </tr>\n",
       "    <tr>\n",
       "      <th>3</th>\n",
       "      <td>1632510000</td>\n",
       "      <td>28.26</td>\n",
       "      <td>32.93</td>\n",
       "      <td>1015</td>\n",
       "      <td>81</td>\n",
       "      <td>24.69</td>\n",
       "      <td>0.0</td>\n",
       "      <td>20</td>\n",
       "      <td>10000</td>\n",
       "      <td>7.29</td>\n",
       "      <td>73</td>\n",
       "      <td>9.79</td>\n",
       "      <td>[{'id': 500, 'main': 'Rain', 'description': 'l...</td>\n",
       "      <td>0.39</td>\n",
       "      <td>{'1h': 0.17}</td>\n",
       "    </tr>\n",
       "    <tr>\n",
       "      <th>4</th>\n",
       "      <td>1632513600</td>\n",
       "      <td>27.79</td>\n",
       "      <td>32.01</td>\n",
       "      <td>1013</td>\n",
       "      <td>83</td>\n",
       "      <td>24.64</td>\n",
       "      <td>0.0</td>\n",
       "      <td>25</td>\n",
       "      <td>10000</td>\n",
       "      <td>7.11</td>\n",
       "      <td>73</td>\n",
       "      <td>9.39</td>\n",
       "      <td>[{'id': 500, 'main': 'Rain', 'description': 'l...</td>\n",
       "      <td>0.45</td>\n",
       "      <td>{'1h': 0.11}</td>\n",
       "    </tr>\n",
       "  </tbody>\n",
       "</table>\n",
       "</div>"
      ],
      "text/plain": [
       "           dt   temp  feels_like  pressure  humidity  dew_point  uvi  clouds  \\\n",
       "0  1632499200  29.41       35.66      1017        79      25.38  0.0       7   \n",
       "1  1632502800  29.08       34.96      1016        80      25.27  0.0       7   \n",
       "2  1632506400  28.71       34.15      1015        81      25.12  0.0       9   \n",
       "3  1632510000  28.26       32.93      1015        81      24.69  0.0      20   \n",
       "4  1632513600  27.79       32.01      1013        83      24.64  0.0      25   \n",
       "\n",
       "   visibility  wind_speed  wind_deg  wind_gust  \\\n",
       "0       10000        6.31        88       9.19   \n",
       "1       10000        6.82        84       9.65   \n",
       "2       10000        7.02        79       9.76   \n",
       "3       10000        7.29        73       9.79   \n",
       "4       10000        7.11        73       9.39   \n",
       "\n",
       "                                             weather   pop          rain  \n",
       "0  [{'id': 800, 'main': 'Clear', 'description': '...  0.54           NaN  \n",
       "1  [{'id': 500, 'main': 'Rain', 'description': 'l...  0.56  {'1h': 0.18}  \n",
       "2  [{'id': 500, 'main': 'Rain', 'description': 'l...  0.56  {'1h': 0.18}  \n",
       "3  [{'id': 500, 'main': 'Rain', 'description': 'l...  0.39  {'1h': 0.17}  \n",
       "4  [{'id': 500, 'main': 'Rain', 'description': 'l...  0.45  {'1h': 0.11}  "
      ]
     },
     "execution_count": 10,
     "metadata": {},
     "output_type": "execute_result"
    }
   ],
   "source": [
    "df_hourly.head()"
   ]
  },
  {
   "cell_type": "code",
   "execution_count": null,
   "metadata": {},
   "outputs": [],
   "source": []
  }
 ],
 "metadata": {
  "interpreter": {
   "hash": "c1b4cfe941b6d2466ad1fb5979e97da9cda8801728c8091b097ab734208fc00c"
  },
  "kernelspec": {
   "display_name": "Python 3.8.3 64-bit ('base': conda)",
   "name": "python3"
  },
  "language_info": {
   "codemirror_mode": {
    "name": "ipython",
    "version": 3
   },
   "file_extension": ".py",
   "mimetype": "text/x-python",
   "name": "python",
   "nbconvert_exporter": "python",
   "pygments_lexer": "ipython3",
   "version": "3.8.12"
  }
 },
 "nbformat": 4,
 "nbformat_minor": 2
}
