{
 "cells": [
  {
   "cell_type": "code",
   "execution_count": 1,
   "metadata": {
    "execution": {
     "iopub.execute_input": "2021-10-25T02:30:21.811136Z",
     "iopub.status.busy": "2021-10-25T02:30:21.805447Z",
     "iopub.status.idle": "2021-10-25T02:30:23.340476Z",
     "shell.execute_reply": "2021-10-25T02:30:23.340951Z"
    }
   },
   "outputs": [],
   "source": [
    "import json, yaml, requests\r\n",
    "from datetime import datetime\r\n",
    "from dateutil import tz\r\n",
    "import pandas as pd\r\n",
    "from PIL import Image\r\n",
    "from io import BytesIO\r\n",
    "import matplotlib.pyplot as plt\r\n",
    "import seaborn\r\n",
    "\r\n",
    "CONFIG_PATH = \"../config/config.yaml\""
   ]
  },
  {
   "cell_type": "code",
   "execution_count": 2,
   "metadata": {
    "execution": {
     "iopub.execute_input": "2021-10-25T02:30:23.346924Z",
     "iopub.status.busy": "2021-10-25T02:30:23.346248Z",
     "iopub.status.idle": "2021-10-25T02:30:23.352341Z",
     "shell.execute_reply": "2021-10-25T02:30:23.351877Z"
    }
   },
   "outputs": [],
   "source": [
    "with open('../newest_ts', 'r') as f:\r\n",
    "    newest_ts = f.read()\r\n",
    "\r\n",
    "data_path = f\"../data/data_{newest_ts}.json\"\r\n",
    "with open(data_path, 'r') as f:\r\n",
    "    data = json.load(f)\r\n",
    "\r\n",
    "with open(CONFIG_PATH, \"r\") as stream:\r\n",
    "    config = yaml.safe_load(stream)\r\n",
    "\r\n",
    "TIME_ZONE = config['time_zone']\r\n",
    "DATETIME_FORMAT = config['dt_format']"
   ]
  },
  {
   "cell_type": "code",
   "execution_count": 3,
   "metadata": {
    "execution": {
     "iopub.execute_input": "2021-10-25T02:30:23.357198Z",
     "iopub.status.busy": "2021-10-25T02:30:23.356622Z",
     "iopub.status.idle": "2021-10-25T02:30:23.382793Z",
     "shell.execute_reply": "2021-10-25T02:30:23.383243Z"
    }
   },
   "outputs": [
    {
     "name": "stdout",
     "output_type": "stream",
     "text": [
      "Recent query happens at 2021-10-25 10:30:18 (CST).\n"
     ]
    }
   ],
   "source": [
    "def ts2dt(ts, format=DATETIME_FORMAT):\r\n",
    "    dt = (datetime.utcfromtimestamp(int(ts))\r\n",
    "                    .replace(tzinfo=tz.tzutc())\r\n",
    "                    # .astimezone(tz.tzlocal())\r\n",
    "                    .astimezone(tz.gettz(TIME_ZONE)))\r\n",
    "    return dt.strftime(format), dt\r\n",
    "\r\n",
    "_, newest_dt = ts2dt(newest_ts)\r\n",
    "print(f\"Recent query happens at {newest_dt.strftime(DATETIME_FORMAT)} ({newest_dt.tzname()}).\")"
   ]
  },
  {
   "cell_type": "code",
   "execution_count": 4,
   "metadata": {
    "execution": {
     "iopub.execute_input": "2021-10-25T02:30:23.389350Z",
     "iopub.status.busy": "2021-10-25T02:30:23.387820Z",
     "iopub.status.idle": "2021-10-25T02:30:23.390242Z",
     "shell.execute_reply": "2021-10-25T02:30:23.391150Z"
    }
   },
   "outputs": [],
   "source": [
    "def degrees_to_cardinal(d):\r\n",
    "  dirs = ['N', 'NNE', 'NE', 'ENE', 'E', 'ESE', 'SE', 'SSE', 'S', 'SSW', 'SW', 'WSW', 'W', 'WNW', 'NW', 'NNW']\r\n",
    "  ix = int(round(d / (360. / len(dirs))))\r\n",
    "  return dirs[ix % len(dirs)]"
   ]
  },
  {
   "cell_type": "code",
   "execution_count": 5,
   "metadata": {
    "execution": {
     "iopub.execute_input": "2021-10-25T02:30:23.398628Z",
     "iopub.status.busy": "2021-10-25T02:30:23.396910Z",
     "iopub.status.idle": "2021-10-25T02:30:23.400388Z",
     "shell.execute_reply": "2021-10-25T02:30:23.399656Z"
    }
   },
   "outputs": [],
   "source": [
    "# data.keys()"
   ]
  },
  {
   "cell_type": "code",
   "execution_count": 6,
   "metadata": {
    "execution": {
     "iopub.execute_input": "2021-10-25T02:30:23.405093Z",
     "iopub.status.busy": "2021-10-25T02:30:23.403677Z",
     "iopub.status.idle": "2021-10-25T02:30:23.405689Z",
     "shell.execute_reply": "2021-10-25T02:30:23.406113Z"
    }
   },
   "outputs": [],
   "source": [
    "# data['current']"
   ]
  },
  {
   "cell_type": "code",
   "execution_count": 7,
   "metadata": {
    "execution": {
     "iopub.execute_input": "2021-10-25T02:30:23.425435Z",
     "iopub.status.busy": "2021-10-25T02:30:23.416192Z",
     "iopub.status.idle": "2021-10-25T02:30:23.713805Z",
     "shell.execute_reply": "2021-10-25T02:30:23.713361Z"
    }
   },
   "outputs": [
    {
     "data": {
      "image/png": "[encoded data removed]",
      "text/plain": [
       "<Figure size 216x216 with 1 Axes>"
      ]
     },
     "metadata": {
      "needs_background": "light"
     },
     "output_type": "display_data"
    },
    {
     "name": "stdout",
     "output_type": "stream",
     "text": [
      "Today, sun rises at 06:23 and sets at 17:50.\n",
      "Currently, the weather is Clouds (overcast clouds).\n",
      "The temperature is 22.89°C and it feels like 23.09°C.\n",
      "The UV index is 5.94, humidity is 71%.\n",
      "The pressure is 1017 hPa, percentage of cloud cover is 95%\n",
      "The wind comes from N direction with a speed 2.68 m/s.\n"
     ]
    }
   ],
   "source": [
    "current = data['current']\r\n",
    "\r\n",
    "fig, ax = plt.subplots(figsize=(3, 3))\r\n",
    "icon = requests.get(f\"http://openweathermap.org/img/wn/{current['weather'][0]['icon']}@2x.png\")\r\n",
    "im = Image.open(BytesIO(icon.content))\r\n",
    "plt.imshow(im)\r\n",
    "ax.set_axis_off()\r\n",
    "plt.show()\r\n",
    "\r\n",
    "print(f\"Today, sun rises at {ts2dt(current['sunrise'], '%H:%M')[0]} \\\r\n",
    "and sets at {ts2dt(current['sunset'], '%H:%M')[0]}.\\n\\\r\n",
    "Currently, the weather is {current['weather'][0]['main']} ({current['weather'][0]['description']}).\\n\\\r\n",
    "The temperature is {current['temp']}°C and it feels like {current['feels_like']}°C.\\n\\\r\n",
    "The UV index is {current['uvi']}, humidity is {current['humidity']}%.\\n\\\r\n",
    "The pressure is {current['pressure']} hPa, percentage of cloud cover is {current['clouds']}%\\n\\\r\n",
    "The wind comes from {degrees_to_cardinal(current['wind_deg'])} direction with a speed {current['wind_speed']} m/s.\")"
   ]
  },
  {
   "cell_type": "code",
   "execution_count": 8,
   "metadata": {
    "execution": {
     "iopub.execute_input": "2021-10-25T02:30:23.721672Z",
     "iopub.status.busy": "2021-10-25T02:30:23.721148Z",
     "iopub.status.idle": "2021-10-25T02:30:23.723954Z",
     "shell.execute_reply": "2021-10-25T02:30:23.724972Z"
    }
   },
   "outputs": [],
   "source": [
    "df_hourly = pd.DataFrame(data['hourly'])\r\n",
    "df_daily = pd.DataFrame(data['daily'])"
   ]
  },
  {
   "cell_type": "code",
   "execution_count": 9,
   "metadata": {
    "execution": {
     "iopub.execute_input": "2021-10-25T02:30:23.728168Z",
     "iopub.status.busy": "2021-10-25T02:30:23.727488Z",
     "iopub.status.idle": "2021-10-25T02:30:24.095833Z",
     "shell.execute_reply": "2021-10-25T02:30:24.096278Z"
    }
   },
   "outputs": [
    {
     "data": {
      "image/png": "[encoded data removed]",
      "text/plain": [
       "<Figure size 864x432 with 1 Axes>"
      ]
     },
     "metadata": {
      "needs_background": "light"
     },
     "output_type": "display_data"
    }
   ],
   "source": [
    "fig, ax = plt.subplots(figsize=(12, 6))\r\n",
    "plt.plot(df_hourly.temp, '.-', label='Temperature')\r\n",
    "plt.plot(df_hourly.feels_like, '.-', label='Feels Like')\r\n",
    "ax.set(title='Temperature in future 48 hours', xlabel='Time', ylabel='Temperature')\r\n",
    "ax.set_xticks(list(range(0, len(df_hourly), 2)))\r\n",
    "ax.set_xticklabels([ts2dt(ts, '%m-%d %H:%M')[0] for i, ts in enumerate(df_hourly.dt) if i%2==0], \r\n",
    "                   rotation=45, ha=\"right\")\r\n",
    "ax.locator_params(nbins=15, axis='y')\r\n",
    "plt.legend()\r\n",
    "plt.show()"
   ]
  },
  {
   "cell_type": "code",
   "execution_count": 10,
   "metadata": {
    "execution": {
     "iopub.execute_input": "2021-10-25T02:30:24.101572Z",
     "iopub.status.busy": "2021-10-25T02:30:24.101014Z",
     "iopub.status.idle": "2021-10-25T02:30:24.122018Z",
     "shell.execute_reply": "2021-10-25T02:30:24.122487Z"
    }
   },
   "outputs": [
    {
     "data": {
      "text/html": [
       "<div>\n",
       "<style scoped>\n",
       "    .dataframe tbody tr th:only-of-type {\n",
       "        vertical-align: middle;\n",
       "    }\n",
       "\n",
       "    .dataframe tbody tr th {\n",
       "        vertical-align: top;\n",
       "    }\n",
       "\n",
       "    .dataframe thead th {\n",
       "        text-align: right;\n",
       "    }\n",
       "</style>\n",
       "<table border=\"1\" class=\"dataframe\">\n",
       "  <thead>\n",
       "    <tr style=\"text-align: right;\">\n",
       "      <th></th>\n",
       "      <th>dt</th>\n",
       "      <th>temp</th>\n",
       "      <th>feels_like</th>\n",
       "      <th>pressure</th>\n",
       "      <th>humidity</th>\n",
       "      <th>dew_point</th>\n",
       "      <th>uvi</th>\n",
       "      <th>clouds</th>\n",
       "      <th>visibility</th>\n",
       "      <th>wind_speed</th>\n",
       "      <th>wind_deg</th>\n",
       "      <th>wind_gust</th>\n",
       "      <th>weather</th>\n",
       "      <th>pop</th>\n",
       "    </tr>\n",
       "  </thead>\n",
       "  <tbody>\n",
       "    <tr>\n",
       "      <th>0</th>\n",
       "      <td>1635127200</td>\n",
       "      <td>22.54</td>\n",
       "      <td>22.68</td>\n",
       "      <td>1017</td>\n",
       "      <td>70</td>\n",
       "      <td>16.80</td>\n",
       "      <td>3.96</td>\n",
       "      <td>96</td>\n",
       "      <td>10000</td>\n",
       "      <td>3.16</td>\n",
       "      <td>18</td>\n",
       "      <td>4.14</td>\n",
       "      <td>[{'id': 804, 'main': 'Clouds', 'description': ...</td>\n",
       "      <td>0.0</td>\n",
       "    </tr>\n",
       "    <tr>\n",
       "      <th>1</th>\n",
       "      <td>1635130800</td>\n",
       "      <td>22.89</td>\n",
       "      <td>23.09</td>\n",
       "      <td>1017</td>\n",
       "      <td>71</td>\n",
       "      <td>17.36</td>\n",
       "      <td>5.94</td>\n",
       "      <td>95</td>\n",
       "      <td>10000</td>\n",
       "      <td>3.05</td>\n",
       "      <td>24</td>\n",
       "      <td>4.17</td>\n",
       "      <td>[{'id': 804, 'main': 'Clouds', 'description': ...</td>\n",
       "      <td>0.0</td>\n",
       "    </tr>\n",
       "    <tr>\n",
       "      <th>2</th>\n",
       "      <td>1635134400</td>\n",
       "      <td>22.98</td>\n",
       "      <td>23.11</td>\n",
       "      <td>1017</td>\n",
       "      <td>68</td>\n",
       "      <td>16.76</td>\n",
       "      <td>7.34</td>\n",
       "      <td>93</td>\n",
       "      <td>10000</td>\n",
       "      <td>2.91</td>\n",
       "      <td>38</td>\n",
       "      <td>3.83</td>\n",
       "      <td>[{'id': 804, 'main': 'Clouds', 'description': ...</td>\n",
       "      <td>0.0</td>\n",
       "    </tr>\n",
       "    <tr>\n",
       "      <th>3</th>\n",
       "      <td>1635138000</td>\n",
       "      <td>23.30</td>\n",
       "      <td>23.41</td>\n",
       "      <td>1017</td>\n",
       "      <td>66</td>\n",
       "      <td>16.60</td>\n",
       "      <td>7.20</td>\n",
       "      <td>85</td>\n",
       "      <td>10000</td>\n",
       "      <td>3.28</td>\n",
       "      <td>58</td>\n",
       "      <td>4.05</td>\n",
       "      <td>[{'id': 804, 'main': 'Clouds', 'description': ...</td>\n",
       "      <td>0.0</td>\n",
       "    </tr>\n",
       "    <tr>\n",
       "      <th>4</th>\n",
       "      <td>1635141600</td>\n",
       "      <td>23.63</td>\n",
       "      <td>23.69</td>\n",
       "      <td>1016</td>\n",
       "      <td>63</td>\n",
       "      <td>16.18</td>\n",
       "      <td>5.78</td>\n",
       "      <td>75</td>\n",
       "      <td>10000</td>\n",
       "      <td>3.34</td>\n",
       "      <td>64</td>\n",
       "      <td>3.96</td>\n",
       "      <td>[{'id': 803, 'main': 'Clouds', 'description': ...</td>\n",
       "      <td>0.0</td>\n",
       "    </tr>\n",
       "  </tbody>\n",
       "</table>\n",
       "</div>"
      ],
      "text/plain": [
       "           dt   temp  feels_like  pressure  humidity  dew_point   uvi  clouds  \\\n",
       "0  1635127200  22.54       22.68      1017        70      16.80  3.96      96   \n",
       "1  1635130800  22.89       23.09      1017        71      17.36  5.94      95   \n",
       "2  1635134400  22.98       23.11      1017        68      16.76  7.34      93   \n",
       "3  1635138000  23.30       23.41      1017        66      16.60  7.20      85   \n",
       "4  1635141600  23.63       23.69      1016        63      16.18  5.78      75   \n",
       "\n",
       "   visibility  wind_speed  wind_deg  wind_gust  \\\n",
       "0       10000        3.16        18       4.14   \n",
       "1       10000        3.05        24       4.17   \n",
       "2       10000        2.91        38       3.83   \n",
       "3       10000        3.28        58       4.05   \n",
       "4       10000        3.34        64       3.96   \n",
       "\n",
       "                                             weather  pop  \n",
       "0  [{'id': 804, 'main': 'Clouds', 'description': ...  0.0  \n",
       "1  [{'id': 804, 'main': 'Clouds', 'description': ...  0.0  \n",
       "2  [{'id': 804, 'main': 'Clouds', 'description': ...  0.0  \n",
       "3  [{'id': 804, 'main': 'Clouds', 'description': ...  0.0  \n",
       "4  [{'id': 803, 'main': 'Clouds', 'description': ...  0.0  "
      ]
     },
     "execution_count": 10,
     "metadata": {},
     "output_type": "execute_result"
    }
   ],
   "source": [
    "df_hourly.head()"
   ]
  },
  {
   "cell_type": "code",
   "execution_count": null,
   "metadata": {},
   "outputs": [],
   "source": []
  }
 ],
 "metadata": {
  "interpreter": {
   "hash": "c1b4cfe941b6d2466ad1fb5979e97da9cda8801728c8091b097ab734208fc00c"
  },
  "kernelspec": {
   "display_name": "Python 3.8.3 64-bit ('base': conda)",
   "name": "python3"
  },
  "language_info": {
   "codemirror_mode": {
    "name": "ipython",
    "version": 3
   },
   "file_extension": ".py",
   "mimetype": "text/x-python",
   "name": "python",
   "nbconvert_exporter": "python",
   "pygments_lexer": "ipython3",
   "version": "3.8.12"
  }
 },
 "nbformat": 4,
 "nbformat_minor": 2
}
