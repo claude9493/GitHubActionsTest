{
 "cells": [
  {
   "cell_type": "code",
   "execution_count": 1,
   "metadata": {
    "execution": {
     "iopub.execute_input": "2021-09-05T20:38:37.143963Z",
     "iopub.status.busy": "2021-09-05T20:38:37.143059Z",
     "iopub.status.idle": "2021-09-05T20:38:40.545514Z",
     "shell.execute_reply": "2021-09-05T20:38:40.544957Z"
    }
   },
   "outputs": [],
   "source": [
    "import json, yaml, requests\r\n",
    "from datetime import datetime\r\n",
    "from dateutil import tz\r\n",
    "import pandas as pd\r\n",
    "from PIL import Image\r\n",
    "from io import BytesIO\r\n",
    "import matplotlib.pyplot as plt\r\n",
    "import seaborn\r\n",
    "\r\n",
    "CONFIG_PATH = \"../config/config.yaml\""
   ]
  },
  {
   "cell_type": "code",
   "execution_count": 2,
   "metadata": {
    "execution": {
     "iopub.execute_input": "2021-09-05T20:38:40.553571Z",
     "iopub.status.busy": "2021-09-05T20:38:40.550277Z",
     "iopub.status.idle": "2021-09-05T20:38:40.556252Z",
     "shell.execute_reply": "2021-09-05T20:38:40.555822Z"
    }
   },
   "outputs": [],
   "source": [
    "with open('../newest_ts', 'r') as f:\r\n",
    "    newest_ts = f.read()\r\n",
    "\r\n",
    "data_path = f\"../data/data_{newest_ts}.json\"\r\n",
    "with open(data_path, 'r') as f:\r\n",
    "    data = json.load(f)\r\n",
    "\r\n",
    "with open(CONFIG_PATH, \"r\") as stream:\r\n",
    "    config = yaml.safe_load(stream)\r\n",
    "\r\n",
    "TIME_ZONE = config['time_zone']\r\n",
    "DATETIME_FORMAT = config['dt_format']"
   ]
  },
  {
   "cell_type": "code",
   "execution_count": 3,
   "metadata": {
    "execution": {
     "iopub.execute_input": "2021-09-05T20:38:40.560773Z",
     "iopub.status.busy": "2021-09-05T20:38:40.560240Z",
     "iopub.status.idle": "2021-09-05T20:38:40.585075Z",
     "shell.execute_reply": "2021-09-05T20:38:40.584645Z"
    }
   },
   "outputs": [
    {
     "name": "stdout",
     "output_type": "stream",
     "text": [
      "Recent query happens at 2021-09-06 04:38:34 (CST).\n"
     ]
    }
   ],
   "source": [
    "def ts2dt(ts, format=DATETIME_FORMAT):\r\n",
    "    dt = (datetime.utcfromtimestamp(int(ts))\r\n",
    "                    .replace(tzinfo=tz.tzutc())\r\n",
    "                    # .astimezone(tz.tzlocal())\r\n",
    "                    .astimezone(tz.gettz(TIME_ZONE)))\r\n",
    "    return dt.strftime(format), dt\r\n",
    "\r\n",
    "_, newest_dt = ts2dt(newest_ts)\r\n",
    "print(f\"Recent query happens at {newest_dt.strftime(DATETIME_FORMAT)} ({newest_dt.tzname()}).\")"
   ]
  },
  {
   "cell_type": "code",
   "execution_count": 4,
   "metadata": {
    "execution": {
     "iopub.execute_input": "2021-09-05T20:38:40.590282Z",
     "iopub.status.busy": "2021-09-05T20:38:40.589165Z",
     "iopub.status.idle": "2021-09-05T20:38:40.591021Z",
     "shell.execute_reply": "2021-09-05T20:38:40.591467Z"
    }
   },
   "outputs": [],
   "source": [
    "def degrees_to_cardinal(d):\r\n",
    "  dirs = ['N', 'NNE', 'NE', 'ENE', 'E', 'ESE', 'SE', 'SSE', 'S', 'SSW', 'SW', 'WSW', 'W', 'WNW', 'NW', 'NNW']\r\n",
    "  ix = int(round(d / (360. / len(dirs))))\r\n",
    "  return dirs[ix % len(dirs)]"
   ]
  },
  {
   "cell_type": "code",
   "execution_count": 5,
   "metadata": {
    "execution": {
     "iopub.execute_input": "2021-09-05T20:38:40.596240Z",
     "iopub.status.busy": "2021-09-05T20:38:40.595716Z",
     "iopub.status.idle": "2021-09-05T20:38:40.598139Z",
     "shell.execute_reply": "2021-09-05T20:38:40.597685Z"
    }
   },
   "outputs": [],
   "source": [
    "# data.keys()"
   ]
  },
  {
   "cell_type": "code",
   "execution_count": 6,
   "metadata": {
    "execution": {
     "iopub.execute_input": "2021-09-05T20:38:40.602314Z",
     "iopub.status.busy": "2021-09-05T20:38:40.601020Z",
     "iopub.status.idle": "2021-09-05T20:38:40.602938Z",
     "shell.execute_reply": "2021-09-05T20:38:40.603341Z"
    }
   },
   "outputs": [],
   "source": [
    "# data['current']"
   ]
  },
  {
   "cell_type": "code",
   "execution_count": 7,
   "metadata": {
    "execution": {
     "iopub.execute_input": "2021-09-05T20:38:40.621401Z",
     "iopub.status.busy": "2021-09-05T20:38:40.609455Z",
     "iopub.status.idle": "2021-09-05T20:38:40.929681Z",
     "shell.execute_reply": "2021-09-05T20:38:40.930422Z"
    }
   },
   "outputs": [
    {
     "data": {
      "image/png": "[encoded data removed]",
      "text/plain": [
       "<Figure size 216x216 with 1 Axes>"
      ]
     },
     "metadata": {
      "needs_background": "light"
     },
     "output_type": "display_data"
    },
    {
     "name": "stdout",
     "output_type": "stream",
     "text": [
      "Today, sun rises at 06:07 and sets at 18:35.\n",
      "Currently, the weather is Clouds (few clouds).\n",
      "The temperature is 28.28°C and it feels like 33.34°C.\n",
      "The UV index is 0, humidity is 83%.\n",
      "The pressure is 1010 hPa, percentage of cloud cover is 14%\n",
      "The wind comes from E direction with a speed 2.02 m/s.\n"
     ]
    }
   ],
   "source": [
    "current = data['current']\r\n",
    "\r\n",
    "fig, ax = plt.subplots(figsize=(3, 3))\r\n",
    "icon = requests.get(f\"http://openweathermap.org/img/wn/{current['weather'][0]['icon']}@2x.png\")\r\n",
    "im = Image.open(BytesIO(icon.content))\r\n",
    "plt.imshow(im)\r\n",
    "ax.set_axis_off()\r\n",
    "plt.show()\r\n",
    "\r\n",
    "print(f\"Today, sun rises at {ts2dt(current['sunrise'], '%H:%M')[0]} \\\r\n",
    "and sets at {ts2dt(current['sunset'], '%H:%M')[0]}.\\n\\\r\n",
    "Currently, the weather is {current['weather'][0]['main']} ({current['weather'][0]['description']}).\\n\\\r\n",
    "The temperature is {current['temp']}°C and it feels like {current['feels_like']}°C.\\n\\\r\n",
    "The UV index is {current['uvi']}, humidity is {current['humidity']}%.\\n\\\r\n",
    "The pressure is {current['pressure']} hPa, percentage of cloud cover is {current['clouds']}%\\n\\\r\n",
    "The wind comes from {degrees_to_cardinal(current['wind_deg'])} direction with a speed {current['wind_speed']} m/s.\")"
   ]
  },
  {
   "cell_type": "code",
   "execution_count": 8,
   "metadata": {
    "execution": {
     "iopub.execute_input": "2021-09-05T20:38:40.933925Z",
     "iopub.status.busy": "2021-09-05T20:38:40.932886Z",
     "iopub.status.idle": "2021-09-05T20:38:40.940490Z",
     "shell.execute_reply": "2021-09-05T20:38:40.941210Z"
    }
   },
   "outputs": [],
   "source": [
    "df_hourly = pd.DataFrame(data['hourly'])\r\n",
    "df_daily = pd.DataFrame(data['daily'])"
   ]
  },
  {
   "cell_type": "code",
   "execution_count": 9,
   "metadata": {
    "execution": {
     "iopub.execute_input": "2021-09-05T20:38:40.944589Z",
     "iopub.status.busy": "2021-09-05T20:38:40.943549Z",
     "iopub.status.idle": "2021-09-05T20:38:41.209479Z",
     "shell.execute_reply": "2021-09-05T20:38:41.208936Z"
    }
   },
   "outputs": [
    {
     "data": {
      "image/png": "[encoded data removed]",
      "text/plain": [
       "<Figure size 864x432 with 1 Axes>"
      ]
     },
     "metadata": {
      "needs_background": "light"
     },
     "output_type": "display_data"
    }
   ],
   "source": [
    "fig, ax = plt.subplots(figsize=(12, 6))\r\n",
    "plt.plot(df_hourly.temp, '.-', label='Temperature')\r\n",
    "plt.plot(df_hourly.feels_like, '.-', label='Feels Like')\r\n",
    "ax.set(title='Temperature in future 48 hours', xlabel='Time', ylabel='Temperature')\r\n",
    "ax.set_xticks(list(range(0, len(df_hourly), 2)))\r\n",
    "ax.set_xticklabels([ts2dt(ts, '%m-%d %H:%M')[0] for i, ts in enumerate(df_hourly.dt) if i%2==0], \r\n",
    "                   rotation=45, ha=\"right\")\r\n",
    "ax.locator_params(nbins=15, axis='y')\r\n",
    "plt.legend()\r\n",
    "plt.show()"
   ]
  },
  {
   "cell_type": "code",
   "execution_count": 10,
   "metadata": {
    "execution": {
     "iopub.execute_input": "2021-09-05T20:38:41.222350Z",
     "iopub.status.busy": "2021-09-05T20:38:41.213868Z",
     "iopub.status.idle": "2021-09-05T20:38:41.234431Z",
     "shell.execute_reply": "2021-09-05T20:38:41.233998Z"
    }
   },
   "outputs": [
    {
     "data": {
      "text/html": [
       "<div>\n",
       "<style scoped>\n",
       "    .dataframe tbody tr th:only-of-type {\n",
       "        vertical-align: middle;\n",
       "    }\n",
       "\n",
       "    .dataframe tbody tr th {\n",
       "        vertical-align: top;\n",
       "    }\n",
       "\n",
       "    .dataframe thead th {\n",
       "        text-align: right;\n",
       "    }\n",
       "</style>\n",
       "<table border=\"1\" class=\"dataframe\">\n",
       "  <thead>\n",
       "    <tr style=\"text-align: right;\">\n",
       "      <th></th>\n",
       "      <th>dt</th>\n",
       "      <th>temp</th>\n",
       "      <th>feels_like</th>\n",
       "      <th>pressure</th>\n",
       "      <th>humidity</th>\n",
       "      <th>dew_point</th>\n",
       "      <th>uvi</th>\n",
       "      <th>clouds</th>\n",
       "      <th>visibility</th>\n",
       "      <th>wind_speed</th>\n",
       "      <th>wind_deg</th>\n",
       "      <th>wind_gust</th>\n",
       "      <th>weather</th>\n",
       "      <th>pop</th>\n",
       "      <th>rain</th>\n",
       "    </tr>\n",
       "  </thead>\n",
       "  <tbody>\n",
       "    <tr>\n",
       "      <th>0</th>\n",
       "      <td>1630872000</td>\n",
       "      <td>28.14</td>\n",
       "      <td>32.78</td>\n",
       "      <td>1010</td>\n",
       "      <td>82</td>\n",
       "      <td>24.77</td>\n",
       "      <td>0.00</td>\n",
       "      <td>12</td>\n",
       "      <td>10000</td>\n",
       "      <td>1.77</td>\n",
       "      <td>87</td>\n",
       "      <td>2.19</td>\n",
       "      <td>[{'id': 500, 'main': 'Rain', 'description': 'l...</td>\n",
       "      <td>0.34</td>\n",
       "      <td>{'1h': 0.36}</td>\n",
       "    </tr>\n",
       "    <tr>\n",
       "      <th>1</th>\n",
       "      <td>1630875600</td>\n",
       "      <td>28.28</td>\n",
       "      <td>33.34</td>\n",
       "      <td>1010</td>\n",
       "      <td>83</td>\n",
       "      <td>25.11</td>\n",
       "      <td>0.00</td>\n",
       "      <td>14</td>\n",
       "      <td>10000</td>\n",
       "      <td>2.02</td>\n",
       "      <td>82</td>\n",
       "      <td>2.42</td>\n",
       "      <td>[{'id': 801, 'main': 'Clouds', 'description': ...</td>\n",
       "      <td>0.38</td>\n",
       "      <td>NaN</td>\n",
       "    </tr>\n",
       "    <tr>\n",
       "      <th>2</th>\n",
       "      <td>1630879200</td>\n",
       "      <td>28.12</td>\n",
       "      <td>32.73</td>\n",
       "      <td>1010</td>\n",
       "      <td>82</td>\n",
       "      <td>24.75</td>\n",
       "      <td>0.00</td>\n",
       "      <td>14</td>\n",
       "      <td>10000</td>\n",
       "      <td>1.93</td>\n",
       "      <td>76</td>\n",
       "      <td>2.37</td>\n",
       "      <td>[{'id': 801, 'main': 'Clouds', 'description': ...</td>\n",
       "      <td>0.48</td>\n",
       "      <td>NaN</td>\n",
       "    </tr>\n",
       "    <tr>\n",
       "      <th>3</th>\n",
       "      <td>1630882800</td>\n",
       "      <td>28.12</td>\n",
       "      <td>32.73</td>\n",
       "      <td>1010</td>\n",
       "      <td>82</td>\n",
       "      <td>24.75</td>\n",
       "      <td>0.29</td>\n",
       "      <td>15</td>\n",
       "      <td>10000</td>\n",
       "      <td>1.92</td>\n",
       "      <td>71</td>\n",
       "      <td>2.34</td>\n",
       "      <td>[{'id': 500, 'main': 'Rain', 'description': 'l...</td>\n",
       "      <td>0.45</td>\n",
       "      <td>{'1h': 0.21}</td>\n",
       "    </tr>\n",
       "    <tr>\n",
       "      <th>4</th>\n",
       "      <td>1630886400</td>\n",
       "      <td>28.36</td>\n",
       "      <td>33.02</td>\n",
       "      <td>1011</td>\n",
       "      <td>80</td>\n",
       "      <td>24.58</td>\n",
       "      <td>1.41</td>\n",
       "      <td>20</td>\n",
       "      <td>10000</td>\n",
       "      <td>2.31</td>\n",
       "      <td>74</td>\n",
       "      <td>2.91</td>\n",
       "      <td>[{'id': 500, 'main': 'Rain', 'description': 'l...</td>\n",
       "      <td>0.51</td>\n",
       "      <td>{'1h': 0.1}</td>\n",
       "    </tr>\n",
       "  </tbody>\n",
       "</table>\n",
       "</div>"
      ],
      "text/plain": [
       "           dt   temp  feels_like  pressure  humidity  dew_point   uvi  clouds  \\\n",
       "0  1630872000  28.14       32.78      1010        82      24.77  0.00      12   \n",
       "1  1630875600  28.28       33.34      1010        83      25.11  0.00      14   \n",
       "2  1630879200  28.12       32.73      1010        82      24.75  0.00      14   \n",
       "3  1630882800  28.12       32.73      1010        82      24.75  0.29      15   \n",
       "4  1630886400  28.36       33.02      1011        80      24.58  1.41      20   \n",
       "\n",
       "   visibility  wind_speed  wind_deg  wind_gust  \\\n",
       "0       10000        1.77        87       2.19   \n",
       "1       10000        2.02        82       2.42   \n",
       "2       10000        1.93        76       2.37   \n",
       "3       10000        1.92        71       2.34   \n",
       "4       10000        2.31        74       2.91   \n",
       "\n",
       "                                             weather   pop          rain  \n",
       "0  [{'id': 500, 'main': 'Rain', 'description': 'l...  0.34  {'1h': 0.36}  \n",
       "1  [{'id': 801, 'main': 'Clouds', 'description': ...  0.38           NaN  \n",
       "2  [{'id': 801, 'main': 'Clouds', 'description': ...  0.48           NaN  \n",
       "3  [{'id': 500, 'main': 'Rain', 'description': 'l...  0.45  {'1h': 0.21}  \n",
       "4  [{'id': 500, 'main': 'Rain', 'description': 'l...  0.51   {'1h': 0.1}  "
      ]
     },
     "execution_count": 10,
     "metadata": {},
     "output_type": "execute_result"
    }
   ],
   "source": [
    "df_hourly.head()"
   ]
  },
  {
   "cell_type": "code",
   "execution_count": null,
   "metadata": {},
   "outputs": [],
   "source": []
  }
 ],
 "metadata": {
  "interpreter": {
   "hash": "c1b4cfe941b6d2466ad1fb5979e97da9cda8801728c8091b097ab734208fc00c"
  },
  "kernelspec": {
   "display_name": "Python 3.8.3 64-bit ('base': conda)",
   "name": "python3"
  },
  "language_info": {
   "codemirror_mode": {
    "name": "ipython",
    "version": 3
   },
   "file_extension": ".py",
   "mimetype": "text/x-python",
   "name": "python",
   "nbconvert_exporter": "python",
   "pygments_lexer": "ipython3",
   "version": "3.8.11"
  }
 },
 "nbformat": 4,
 "nbformat_minor": 2
}
