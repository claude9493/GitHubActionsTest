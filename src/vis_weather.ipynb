{
 "cells": [
  {
   "cell_type": "code",
   "execution_count": 1,
   "metadata": {
    "execution": {
     "iopub.execute_input": "2021-08-27T12:24:39.109352Z",
     "iopub.status.busy": "2021-08-27T12:24:39.108812Z",
     "iopub.status.idle": "2021-08-27T12:24:41.984298Z",
     "shell.execute_reply": "2021-08-27T12:24:41.983325Z"
    }
   },
   "outputs": [],
   "source": [
    "import json, yaml, requests\r\n",
    "from datetime import datetime\r\n",
    "from dateutil import tz\r\n",
    "import pandas as pd\r\n",
    "from PIL import Image\r\n",
    "from io import BytesIO\r\n",
    "import matplotlib.pyplot as plt\r\n",
    "import seaborn\r\n",
    "\r\n",
    "CONFIG_PATH = \"../config/config.yaml\""
   ]
  },
  {
   "cell_type": "code",
   "execution_count": 2,
   "metadata": {
    "execution": {
     "iopub.execute_input": "2021-08-27T12:24:41.991922Z",
     "iopub.status.busy": "2021-08-27T12:24:41.989470Z",
     "iopub.status.idle": "2021-08-27T12:24:41.995046Z",
     "shell.execute_reply": "2021-08-27T12:24:41.994628Z"
    }
   },
   "outputs": [],
   "source": [
    "with open('../newest_ts', 'r') as f:\r\n",
    "    newest_ts = f.read()\r\n",
    "\r\n",
    "data_path = f\"../data/data_{newest_ts}.json\"\r\n",
    "with open(data_path, 'r') as f:\r\n",
    "    data = json.load(f)\r\n",
    "\r\n",
    "with open(CONFIG_PATH, \"r\") as stream:\r\n",
    "    config = yaml.safe_load(stream)\r\n",
    "\r\n",
    "TIME_ZONE = config['time_zone']\r\n",
    "DATETIME_FORMAT = config['dt_format']"
   ]
  },
  {
   "cell_type": "code",
   "execution_count": 3,
   "metadata": {
    "execution": {
     "iopub.execute_input": "2021-08-27T12:24:41.999541Z",
     "iopub.status.busy": "2021-08-27T12:24:41.998895Z",
     "iopub.status.idle": "2021-08-27T12:24:42.014180Z",
     "shell.execute_reply": "2021-08-27T12:24:42.013728Z"
    }
   },
   "outputs": [
    {
     "name": "stdout",
     "output_type": "stream",
     "text": [
      "Recent query happens at 2021-08-27 20:24:36 (CST).\n"
     ]
    }
   ],
   "source": [
    "def ts2dt(ts, format=DATETIME_FORMAT):\r\n",
    "    dt = (datetime.utcfromtimestamp(int(ts))\r\n",
    "                    .replace(tzinfo=tz.tzutc())\r\n",
    "                    # .astimezone(tz.tzlocal())\r\n",
    "                    .astimezone(tz.gettz(TIME_ZONE)))\r\n",
    "    return dt.strftime(format), dt\r\n",
    "\r\n",
    "_, newest_dt = ts2dt(newest_ts)\r\n",
    "print(f\"Recent query happens at {newest_dt.strftime(DATETIME_FORMAT)} ({newest_dt.tzname()}).\")"
   ]
  },
  {
   "cell_type": "code",
   "execution_count": 4,
   "metadata": {
    "execution": {
     "iopub.execute_input": "2021-08-27T12:24:42.019471Z",
     "iopub.status.busy": "2021-08-27T12:24:42.018326Z",
     "iopub.status.idle": "2021-08-27T12:24:42.020051Z",
     "shell.execute_reply": "2021-08-27T12:24:42.020452Z"
    }
   },
   "outputs": [],
   "source": [
    "def degrees_to_cardinal(d):\r\n",
    "  dirs = ['N', 'NNE', 'NE', 'ENE', 'E', 'ESE', 'SE', 'SSE', 'S', 'SSW', 'SW', 'WSW', 'W', 'WNW', 'NW', 'NNW']\r\n",
    "  ix = int(round(d / (360. / len(dirs))))\r\n",
    "  return dirs[ix % len(dirs)]"
   ]
  },
  {
   "cell_type": "code",
   "execution_count": 5,
   "metadata": {
    "execution": {
     "iopub.execute_input": "2021-08-27T12:24:42.024474Z",
     "iopub.status.busy": "2021-08-27T12:24:42.023413Z",
     "iopub.status.idle": "2021-08-27T12:24:42.025030Z",
     "shell.execute_reply": "2021-08-27T12:24:42.025426Z"
    }
   },
   "outputs": [],
   "source": [
    "# data.keys()"
   ]
  },
  {
   "cell_type": "code",
   "execution_count": 6,
   "metadata": {
    "execution": {
     "iopub.execute_input": "2021-08-27T12:24:42.029195Z",
     "iopub.status.busy": "2021-08-27T12:24:42.028042Z",
     "iopub.status.idle": "2021-08-27T12:24:42.029813Z",
     "shell.execute_reply": "2021-08-27T12:24:42.030247Z"
    }
   },
   "outputs": [],
   "source": [
    "# data['current']"
   ]
  },
  {
   "cell_type": "code",
   "execution_count": 7,
   "metadata": {
    "execution": {
     "iopub.execute_input": "2021-08-27T12:24:42.047246Z",
     "iopub.status.busy": "2021-08-27T12:24:42.046817Z",
     "iopub.status.idle": "2021-08-27T12:24:42.649629Z",
     "shell.execute_reply": "2021-08-27T12:24:42.650330Z"
    }
   },
   "outputs": [
    {
     "data": {
      "image/png": "[encoded data removed]",
      "text/plain": [
       "<Figure size 216x216 with 1 Axes>"
      ]
     },
     "metadata": {
      "needs_background": "light"
     },
     "output_type": "display_data"
    },
    {
     "name": "stdout",
     "output_type": "stream",
     "text": [
      "Today, sun rises at 06:04 and sets at 18:45.\n",
      "Currently, the weather is Rain (light rain).\n",
      "The temperature is 25.77°C and it feels like 26.54°C.\n",
      "The UV index is 0, humidity is 82%.\n",
      "The pressure is 1011 hPa, percentage of cloud cover is 47%\n",
      "The wind comes from ESE direction with a speed 6.68 m/s.\n"
     ]
    }
   ],
   "source": [
    "current = data['current']\r\n",
    "\r\n",
    "fig, ax = plt.subplots(figsize=(3, 3))\r\n",
    "icon = requests.get(f\"http://openweathermap.org/img/wn/{current['weather'][0]['icon']}@2x.png\")\r\n",
    "im = Image.open(BytesIO(icon.content))\r\n",
    "plt.imshow(im)\r\n",
    "ax.set_axis_off()\r\n",
    "plt.show()\r\n",
    "\r\n",
    "print(f\"Today, sun rises at {ts2dt(current['sunrise'], '%H:%M')[0]} \\\r\n",
    "and sets at {ts2dt(current['sunset'], '%H:%M')[0]}.\\n\\\r\n",
    "Currently, the weather is {current['weather'][0]['main']} ({current['weather'][0]['description']}).\\n\\\r\n",
    "The temperature is {current['temp']}°C and it feels like {current['feels_like']}°C.\\n\\\r\n",
    "The UV index is {current['uvi']}, humidity is {current['humidity']}%.\\n\\\r\n",
    "The pressure is {current['pressure']} hPa, percentage of cloud cover is {current['clouds']}%\\n\\\r\n",
    "The wind comes from {degrees_to_cardinal(current['wind_deg'])} direction with a speed {current['wind_speed']} m/s.\")"
   ]
  },
  {
   "cell_type": "code",
   "execution_count": 8,
   "metadata": {
    "execution": {
     "iopub.execute_input": "2021-08-27T12:24:42.656113Z",
     "iopub.status.busy": "2021-08-27T12:24:42.655477Z",
     "iopub.status.idle": "2021-08-27T12:24:42.660048Z",
     "shell.execute_reply": "2021-08-27T12:24:42.660714Z"
    }
   },
   "outputs": [],
   "source": [
    "df_hourly = pd.DataFrame(data['hourly'])\r\n",
    "df_daily = pd.DataFrame(data['daily'])"
   ]
  },
  {
   "cell_type": "code",
   "execution_count": 9,
   "metadata": {
    "execution": {
     "iopub.execute_input": "2021-08-27T12:24:42.671900Z",
     "iopub.status.busy": "2021-08-27T12:24:42.669800Z",
     "iopub.status.idle": "2021-08-27T12:24:42.903834Z",
     "shell.execute_reply": "2021-08-27T12:24:42.903381Z"
    }
   },
   "outputs": [
    {
     "data": {
      "image/png": "[encoded data removed]",
      "text/plain": [
       "<Figure size 864x432 with 1 Axes>"
      ]
     },
     "metadata": {
      "needs_background": "light"
     },
     "output_type": "display_data"
    }
   ],
   "source": [
    "fig, ax = plt.subplots(figsize=(12, 6))\r\n",
    "plt.plot(df_hourly.temp, '.-', label='Temperature')\r\n",
    "plt.plot(df_hourly.feels_like, '.-', label='Feels Like')\r\n",
    "ax.set(title='Temperature in future 48 hours', xlabel='Time', ylabel='Temperature')\r\n",
    "ax.set_xticks(list(range(0, len(df_hourly), 2)))\r\n",
    "ax.set_xticklabels([ts2dt(ts, '%m-%d %H:%M')[0] for i, ts in enumerate(df_hourly.dt) if i%2==0], \r\n",
    "                   rotation=45, ha=\"right\")\r\n",
    "ax.locator_params(nbins=15, axis='y')\r\n",
    "plt.legend()\r\n",
    "plt.show()"
   ]
  },
  {
   "cell_type": "code",
   "execution_count": 10,
   "metadata": {
    "execution": {
     "iopub.execute_input": "2021-08-27T12:24:42.920949Z",
     "iopub.status.busy": "2021-08-27T12:24:42.907355Z",
     "iopub.status.idle": "2021-08-27T12:24:42.925658Z",
     "shell.execute_reply": "2021-08-27T12:24:42.925212Z"
    }
   },
   "outputs": [
    {
     "data": {
      "text/html": [
       "<div>\n",
       "<style scoped>\n",
       "    .dataframe tbody tr th:only-of-type {\n",
       "        vertical-align: middle;\n",
       "    }\n",
       "\n",
       "    .dataframe tbody tr th {\n",
       "        vertical-align: top;\n",
       "    }\n",
       "\n",
       "    .dataframe thead th {\n",
       "        text-align: right;\n",
       "    }\n",
       "</style>\n",
       "<table border=\"1\" class=\"dataframe\">\n",
       "  <thead>\n",
       "    <tr style=\"text-align: right;\">\n",
       "      <th></th>\n",
       "      <th>dt</th>\n",
       "      <th>temp</th>\n",
       "      <th>feels_like</th>\n",
       "      <th>pressure</th>\n",
       "      <th>humidity</th>\n",
       "      <th>dew_point</th>\n",
       "      <th>uvi</th>\n",
       "      <th>clouds</th>\n",
       "      <th>visibility</th>\n",
       "      <th>wind_speed</th>\n",
       "      <th>wind_deg</th>\n",
       "      <th>wind_gust</th>\n",
       "      <th>weather</th>\n",
       "      <th>pop</th>\n",
       "      <th>rain</th>\n",
       "    </tr>\n",
       "  </thead>\n",
       "  <tbody>\n",
       "    <tr>\n",
       "      <th>0</th>\n",
       "      <td>1630065600</td>\n",
       "      <td>25.77</td>\n",
       "      <td>26.54</td>\n",
       "      <td>1011</td>\n",
       "      <td>82</td>\n",
       "      <td>22.46</td>\n",
       "      <td>0.0</td>\n",
       "      <td>47</td>\n",
       "      <td>10000</td>\n",
       "      <td>6.68</td>\n",
       "      <td>110</td>\n",
       "      <td>8.81</td>\n",
       "      <td>[{'id': 500, 'main': 'Rain', 'description': 'l...</td>\n",
       "      <td>0.32</td>\n",
       "      <td>{'1h': 0.54}</td>\n",
       "    </tr>\n",
       "    <tr>\n",
       "      <th>1</th>\n",
       "      <td>1630069200</td>\n",
       "      <td>26.22</td>\n",
       "      <td>26.22</td>\n",
       "      <td>1011</td>\n",
       "      <td>81</td>\n",
       "      <td>22.70</td>\n",
       "      <td>0.0</td>\n",
       "      <td>42</td>\n",
       "      <td>10000</td>\n",
       "      <td>6.10</td>\n",
       "      <td>109</td>\n",
       "      <td>8.56</td>\n",
       "      <td>[{'id': 500, 'main': 'Rain', 'description': 'l...</td>\n",
       "      <td>0.68</td>\n",
       "      <td>{'1h': 0.42}</td>\n",
       "    </tr>\n",
       "    <tr>\n",
       "      <th>2</th>\n",
       "      <td>1630072800</td>\n",
       "      <td>26.71</td>\n",
       "      <td>29.19</td>\n",
       "      <td>1011</td>\n",
       "      <td>81</td>\n",
       "      <td>23.18</td>\n",
       "      <td>0.0</td>\n",
       "      <td>35</td>\n",
       "      <td>10000</td>\n",
       "      <td>5.66</td>\n",
       "      <td>108</td>\n",
       "      <td>8.06</td>\n",
       "      <td>[{'id': 802, 'main': 'Clouds', 'description': ...</td>\n",
       "      <td>0.67</td>\n",
       "      <td>NaN</td>\n",
       "    </tr>\n",
       "    <tr>\n",
       "      <th>3</th>\n",
       "      <td>1630076400</td>\n",
       "      <td>27.14</td>\n",
       "      <td>30.16</td>\n",
       "      <td>1012</td>\n",
       "      <td>81</td>\n",
       "      <td>23.60</td>\n",
       "      <td>0.0</td>\n",
       "      <td>28</td>\n",
       "      <td>10000</td>\n",
       "      <td>5.69</td>\n",
       "      <td>106</td>\n",
       "      <td>7.87</td>\n",
       "      <td>[{'id': 500, 'main': 'Rain', 'description': 'l...</td>\n",
       "      <td>0.63</td>\n",
       "      <td>{'1h': 0.4}</td>\n",
       "    </tr>\n",
       "    <tr>\n",
       "      <th>4</th>\n",
       "      <td>1630080000</td>\n",
       "      <td>27.47</td>\n",
       "      <td>31.06</td>\n",
       "      <td>1012</td>\n",
       "      <td>82</td>\n",
       "      <td>24.12</td>\n",
       "      <td>0.0</td>\n",
       "      <td>22</td>\n",
       "      <td>10000</td>\n",
       "      <td>5.28</td>\n",
       "      <td>100</td>\n",
       "      <td>7.39</td>\n",
       "      <td>[{'id': 500, 'main': 'Rain', 'description': 'l...</td>\n",
       "      <td>0.59</td>\n",
       "      <td>{'1h': 0.26}</td>\n",
       "    </tr>\n",
       "  </tbody>\n",
       "</table>\n",
       "</div>"
      ],
      "text/plain": [
       "           dt   temp  feels_like  pressure  humidity  dew_point  uvi  clouds  \\\n",
       "0  1630065600  25.77       26.54      1011        82      22.46  0.0      47   \n",
       "1  1630069200  26.22       26.22      1011        81      22.70  0.0      42   \n",
       "2  1630072800  26.71       29.19      1011        81      23.18  0.0      35   \n",
       "3  1630076400  27.14       30.16      1012        81      23.60  0.0      28   \n",
       "4  1630080000  27.47       31.06      1012        82      24.12  0.0      22   \n",
       "\n",
       "   visibility  wind_speed  wind_deg  wind_gust  \\\n",
       "0       10000        6.68       110       8.81   \n",
       "1       10000        6.10       109       8.56   \n",
       "2       10000        5.66       108       8.06   \n",
       "3       10000        5.69       106       7.87   \n",
       "4       10000        5.28       100       7.39   \n",
       "\n",
       "                                             weather   pop          rain  \n",
       "0  [{'id': 500, 'main': 'Rain', 'description': 'l...  0.32  {'1h': 0.54}  \n",
       "1  [{'id': 500, 'main': 'Rain', 'description': 'l...  0.68  {'1h': 0.42}  \n",
       "2  [{'id': 802, 'main': 'Clouds', 'description': ...  0.67           NaN  \n",
       "3  [{'id': 500, 'main': 'Rain', 'description': 'l...  0.63   {'1h': 0.4}  \n",
       "4  [{'id': 500, 'main': 'Rain', 'description': 'l...  0.59  {'1h': 0.26}  "
      ]
     },
     "execution_count": 10,
     "metadata": {},
     "output_type": "execute_result"
    }
   ],
   "source": [
    "df_hourly.head()"
   ]
  },
  {
   "cell_type": "code",
   "execution_count": null,
   "metadata": {},
   "outputs": [],
   "source": []
  }
 ],
 "metadata": {
  "interpreter": {
   "hash": "c1b4cfe941b6d2466ad1fb5979e97da9cda8801728c8091b097ab734208fc00c"
  },
  "kernelspec": {
   "display_name": "Python 3.8.3 64-bit ('base': conda)",
   "name": "python3"
  },
  "language_info": {
   "codemirror_mode": {
    "name": "ipython",
    "version": 3
   },
   "file_extension": ".py",
   "mimetype": "text/x-python",
   "name": "python",
   "nbconvert_exporter": "python",
   "pygments_lexer": "ipython3",
   "version": "3.8.11"
  }
 },
 "nbformat": 4,
 "nbformat_minor": 2
}
