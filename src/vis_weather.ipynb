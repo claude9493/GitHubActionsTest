{
 "cells": [
  {
   "cell_type": "code",
   "execution_count": 1,
   "metadata": {
    "execution": {
     "iopub.execute_input": "2021-08-24T02:23:46.905579Z",
     "iopub.status.busy": "2021-08-24T02:23:46.904991Z",
     "iopub.status.idle": "2021-08-24T02:23:49.521081Z",
     "shell.execute_reply": "2021-08-24T02:23:49.520135Z"
    }
   },
   "outputs": [],
   "source": [
    "import json, yaml, requests\r\n",
    "from datetime import datetime\r\n",
    "from dateutil import tz\r\n",
    "import pandas as pd\r\n",
    "from PIL import Image\r\n",
    "from io import BytesIO\r\n",
    "import matplotlib.pyplot as plt\r\n",
    "import seaborn\r\n",
    "\r\n",
    "CONFIG_PATH = \"../config/config.yaml\""
   ]
  },
  {
   "cell_type": "code",
   "execution_count": 2,
   "metadata": {
    "execution": {
     "iopub.execute_input": "2021-08-24T02:23:49.526189Z",
     "iopub.status.busy": "2021-08-24T02:23:49.525714Z",
     "iopub.status.idle": "2021-08-24T02:23:49.530695Z",
     "shell.execute_reply": "2021-08-24T02:23:49.530264Z"
    }
   },
   "outputs": [],
   "source": [
    "with open('../newest_ts', 'r') as f:\r\n",
    "    newest_ts = f.read()\r\n",
    "\r\n",
    "data_path = f\"../data/data_{newest_ts}.json\"\r\n",
    "with open(data_path, 'r') as f:\r\n",
    "    data = json.load(f)\r\n",
    "\r\n",
    "with open(CONFIG_PATH, \"r\") as stream:\r\n",
    "    config = yaml.safe_load(stream)\r\n",
    "\r\n",
    "TIME_ZONE = config['time_zone']\r\n",
    "DATETIME_FORMAT = config['dt_format']"
   ]
  },
  {
   "cell_type": "code",
   "execution_count": 3,
   "metadata": {
    "execution": {
     "iopub.execute_input": "2021-08-24T02:23:49.535046Z",
     "iopub.status.busy": "2021-08-24T02:23:49.534451Z",
     "iopub.status.idle": "2021-08-24T02:23:49.546057Z",
     "shell.execute_reply": "2021-08-24T02:23:49.546432Z"
    }
   },
   "outputs": [
    {
     "name": "stdout",
     "output_type": "stream",
     "text": [
      "Recent query happens at 2021-08-24 10:23:44 (CST).\n"
     ]
    }
   ],
   "source": [
    "def ts2dt(ts, format=DATETIME_FORMAT):\r\n",
    "    dt = (datetime.utcfromtimestamp(int(ts))\r\n",
    "                    .replace(tzinfo=tz.tzutc())\r\n",
    "                    # .astimezone(tz.tzlocal())\r\n",
    "                    .astimezone(tz.gettz(TIME_ZONE)))\r\n",
    "    return dt.strftime(format), dt\r\n",
    "\r\n",
    "_, newest_dt = ts2dt(newest_ts)\r\n",
    "print(f\"Recent query happens at {newest_dt.strftime(DATETIME_FORMAT)} ({newest_dt.tzname()}).\")"
   ]
  },
  {
   "cell_type": "code",
   "execution_count": 4,
   "metadata": {
    "execution": {
     "iopub.execute_input": "2021-08-24T02:23:49.550465Z",
     "iopub.status.busy": "2021-08-24T02:23:49.550011Z",
     "iopub.status.idle": "2021-08-24T02:23:49.552211Z",
     "shell.execute_reply": "2021-08-24T02:23:49.551819Z"
    }
   },
   "outputs": [],
   "source": [
    "def degrees_to_cardinal(d):\r\n",
    "  dirs = ['N', 'NNE', 'NE', 'ENE', 'E', 'ESE', 'SE', 'SSE', 'S', 'SSW', 'SW', 'WSW', 'W', 'WNW', 'NW', 'NNW']\r\n",
    "  ix = int(round(d / (360. / len(dirs))))\r\n",
    "  return dirs[ix % len(dirs)]"
   ]
  },
  {
   "cell_type": "code",
   "execution_count": 5,
   "metadata": {
    "execution": {
     "iopub.execute_input": "2021-08-24T02:23:49.556047Z",
     "iopub.status.busy": "2021-08-24T02:23:49.555017Z",
     "iopub.status.idle": "2021-08-24T02:23:49.556656Z",
     "shell.execute_reply": "2021-08-24T02:23:49.557029Z"
    }
   },
   "outputs": [],
   "source": [
    "# data.keys()"
   ]
  },
  {
   "cell_type": "code",
   "execution_count": 6,
   "metadata": {
    "execution": {
     "iopub.execute_input": "2021-08-24T02:23:49.560926Z",
     "iopub.status.busy": "2021-08-24T02:23:49.559746Z",
     "iopub.status.idle": "2021-08-24T02:23:49.561437Z",
     "shell.execute_reply": "2021-08-24T02:23:49.561801Z"
    }
   },
   "outputs": [],
   "source": [
    "# data['current']"
   ]
  },
  {
   "cell_type": "code",
   "execution_count": 7,
   "metadata": {
    "execution": {
     "iopub.execute_input": "2021-08-24T02:23:49.571605Z",
     "iopub.status.busy": "2021-08-24T02:23:49.567496Z",
     "iopub.status.idle": "2021-08-24T02:23:49.984460Z",
     "shell.execute_reply": "2021-08-24T02:23:49.985285Z"
    }
   },
   "outputs": [
    {
     "data": {
      "image/png": "[encoded data removed]",
      "text/plain": [
       "<Figure size 216x216 with 1 Axes>"
      ]
     },
     "metadata": {
      "needs_background": "light"
     },
     "output_type": "display_data"
    },
    {
     "name": "stdout",
     "output_type": "stream",
     "text": [
      "Today, sun rises at 06:03 and sets at 18:47.\n",
      "Currently, the weather is Rain (light rain).\n",
      "The temperature is 29.15°C and it feels like 36.15°C.\n",
      "The UV index is 7.28, humidity is 87%.\n",
      "The pressure is 1008 hPa, percentage of cloud cover is 100%\n",
      "The wind comes from SW direction with a speed 2.58 m/s.\n"
     ]
    }
   ],
   "source": [
    "current = data['current']\r\n",
    "\r\n",
    "fig, ax = plt.subplots(figsize=(3, 3))\r\n",
    "icon = requests.get(f\"http://openweathermap.org/img/wn/{current['weather'][0]['icon']}@2x.png\")\r\n",
    "im = Image.open(BytesIO(icon.content))\r\n",
    "plt.imshow(im)\r\n",
    "ax.set_axis_off()\r\n",
    "plt.show()\r\n",
    "\r\n",
    "print(f\"Today, sun rises at {ts2dt(current['sunrise'], '%H:%M')[0]} \\\r\n",
    "and sets at {ts2dt(current['sunset'], '%H:%M')[0]}.\\n\\\r\n",
    "Currently, the weather is {current['weather'][0]['main']} ({current['weather'][0]['description']}).\\n\\\r\n",
    "The temperature is {current['temp']}°C and it feels like {current['feels_like']}°C.\\n\\\r\n",
    "The UV index is {current['uvi']}, humidity is {current['humidity']}%.\\n\\\r\n",
    "The pressure is {current['pressure']} hPa, percentage of cloud cover is {current['clouds']}%\\n\\\r\n",
    "The wind comes from {degrees_to_cardinal(current['wind_deg'])} direction with a speed {current['wind_speed']} m/s.\")"
   ]
  },
  {
   "cell_type": "code",
   "execution_count": 8,
   "metadata": {
    "execution": {
     "iopub.execute_input": "2021-08-24T02:23:49.988332Z",
     "iopub.status.busy": "2021-08-24T02:23:49.987876Z",
     "iopub.status.idle": "2021-08-24T02:23:49.994314Z",
     "shell.execute_reply": "2021-08-24T02:23:49.994950Z"
    }
   },
   "outputs": [],
   "source": [
    "df_hourly = pd.DataFrame(data['hourly'])\r\n",
    "df_daily = pd.DataFrame(data['daily'])"
   ]
  },
  {
   "cell_type": "code",
   "execution_count": 9,
   "metadata": {
    "execution": {
     "iopub.execute_input": "2021-08-24T02:23:49.998048Z",
     "iopub.status.busy": "2021-08-24T02:23:49.997022Z",
     "iopub.status.idle": "2021-08-24T02:23:50.240895Z",
     "shell.execute_reply": "2021-08-24T02:23:50.241281Z"
    }
   },
   "outputs": [
    {
     "data": {
      "image/png": "[encoded data removed]",
      "text/plain": [
       "<Figure size 864x432 with 1 Axes>"
      ]
     },
     "metadata": {
      "needs_background": "light"
     },
     "output_type": "display_data"
    }
   ],
   "source": [
    "fig, ax = plt.subplots(figsize=(12, 6))\r\n",
    "plt.plot(df_hourly.temp, '.-', label='Temperature')\r\n",
    "plt.plot(df_hourly.feels_like, '.-', label='Feels Like')\r\n",
    "ax.set(title='Temperature in future 48 hours', xlabel='Time', ylabel='Temperature')\r\n",
    "ax.set_xticks(list(range(0, len(df_hourly), 2)))\r\n",
    "ax.set_xticklabels([ts2dt(ts, '%m-%d %H:%M')[0] for i, ts in enumerate(df_hourly.dt) if i%2==0], \r\n",
    "                   rotation=45, ha=\"right\")\r\n",
    "ax.locator_params(nbins=15, axis='y')\r\n",
    "plt.legend()\r\n",
    "plt.show()"
   ]
  },
  {
   "cell_type": "code",
   "execution_count": 10,
   "metadata": {
    "execution": {
     "iopub.execute_input": "2021-08-24T02:23:50.253129Z",
     "iopub.status.busy": "2021-08-24T02:23:50.245446Z",
     "iopub.status.idle": "2021-08-24T02:23:50.264139Z",
     "shell.execute_reply": "2021-08-24T02:23:50.264523Z"
    }
   },
   "outputs": [
    {
     "data": {
      "text/html": [
       "<div>\n",
       "<style scoped>\n",
       "    .dataframe tbody tr th:only-of-type {\n",
       "        vertical-align: middle;\n",
       "    }\n",
       "\n",
       "    .dataframe tbody tr th {\n",
       "        vertical-align: top;\n",
       "    }\n",
       "\n",
       "    .dataframe thead th {\n",
       "        text-align: right;\n",
       "    }\n",
       "</style>\n",
       "<table border=\"1\" class=\"dataframe\">\n",
       "  <thead>\n",
       "    <tr style=\"text-align: right;\">\n",
       "      <th></th>\n",
       "      <th>dt</th>\n",
       "      <th>temp</th>\n",
       "      <th>feels_like</th>\n",
       "      <th>pressure</th>\n",
       "      <th>humidity</th>\n",
       "      <th>dew_point</th>\n",
       "      <th>uvi</th>\n",
       "      <th>clouds</th>\n",
       "      <th>visibility</th>\n",
       "      <th>wind_speed</th>\n",
       "      <th>wind_deg</th>\n",
       "      <th>wind_gust</th>\n",
       "      <th>weather</th>\n",
       "      <th>pop</th>\n",
       "      <th>rain</th>\n",
       "    </tr>\n",
       "  </thead>\n",
       "  <tbody>\n",
       "    <tr>\n",
       "      <th>0</th>\n",
       "      <td>1629770400</td>\n",
       "      <td>29.15</td>\n",
       "      <td>36.15</td>\n",
       "      <td>1008</td>\n",
       "      <td>87</td>\n",
       "      <td>26.76</td>\n",
       "      <td>7.28</td>\n",
       "      <td>100</td>\n",
       "      <td>10000</td>\n",
       "      <td>2.58</td>\n",
       "      <td>214</td>\n",
       "      <td>3.41</td>\n",
       "      <td>[{'id': 804, 'main': 'Clouds', 'description': ...</td>\n",
       "      <td>0.35</td>\n",
       "      <td>NaN</td>\n",
       "    </tr>\n",
       "    <tr>\n",
       "      <th>1</th>\n",
       "      <td>1629774000</td>\n",
       "      <td>29.30</td>\n",
       "      <td>36.30</td>\n",
       "      <td>1008</td>\n",
       "      <td>83</td>\n",
       "      <td>26.11</td>\n",
       "      <td>10.17</td>\n",
       "      <td>100</td>\n",
       "      <td>10000</td>\n",
       "      <td>2.73</td>\n",
       "      <td>206</td>\n",
       "      <td>3.37</td>\n",
       "      <td>[{'id': 500, 'main': 'Rain', 'description': 'l...</td>\n",
       "      <td>0.23</td>\n",
       "      <td>{'1h': 0.1}</td>\n",
       "    </tr>\n",
       "    <tr>\n",
       "      <th>2</th>\n",
       "      <td>1629777600</td>\n",
       "      <td>29.54</td>\n",
       "      <td>36.03</td>\n",
       "      <td>1008</td>\n",
       "      <td>79</td>\n",
       "      <td>25.51</td>\n",
       "      <td>12.09</td>\n",
       "      <td>100</td>\n",
       "      <td>10000</td>\n",
       "      <td>3.17</td>\n",
       "      <td>206</td>\n",
       "      <td>3.60</td>\n",
       "      <td>[{'id': 804, 'main': 'Clouds', 'description': ...</td>\n",
       "      <td>0.32</td>\n",
       "      <td>NaN</td>\n",
       "    </tr>\n",
       "    <tr>\n",
       "      <th>3</th>\n",
       "      <td>1629781200</td>\n",
       "      <td>29.85</td>\n",
       "      <td>35.89</td>\n",
       "      <td>1007</td>\n",
       "      <td>75</td>\n",
       "      <td>24.94</td>\n",
       "      <td>11.91</td>\n",
       "      <td>100</td>\n",
       "      <td>10000</td>\n",
       "      <td>3.18</td>\n",
       "      <td>207</td>\n",
       "      <td>3.45</td>\n",
       "      <td>[{'id': 804, 'main': 'Clouds', 'description': ...</td>\n",
       "      <td>0.31</td>\n",
       "      <td>NaN</td>\n",
       "    </tr>\n",
       "    <tr>\n",
       "      <th>4</th>\n",
       "      <td>1629784800</td>\n",
       "      <td>30.17</td>\n",
       "      <td>35.71</td>\n",
       "      <td>1007</td>\n",
       "      <td>71</td>\n",
       "      <td>24.33</td>\n",
       "      <td>9.90</td>\n",
       "      <td>100</td>\n",
       "      <td>10000</td>\n",
       "      <td>3.35</td>\n",
       "      <td>197</td>\n",
       "      <td>3.35</td>\n",
       "      <td>[{'id': 804, 'main': 'Clouds', 'description': ...</td>\n",
       "      <td>0.31</td>\n",
       "      <td>NaN</td>\n",
       "    </tr>\n",
       "  </tbody>\n",
       "</table>\n",
       "</div>"
      ],
      "text/plain": [
       "           dt   temp  feels_like  pressure  humidity  dew_point    uvi  \\\n",
       "0  1629770400  29.15       36.15      1008        87      26.76   7.28   \n",
       "1  1629774000  29.30       36.30      1008        83      26.11  10.17   \n",
       "2  1629777600  29.54       36.03      1008        79      25.51  12.09   \n",
       "3  1629781200  29.85       35.89      1007        75      24.94  11.91   \n",
       "4  1629784800  30.17       35.71      1007        71      24.33   9.90   \n",
       "\n",
       "   clouds  visibility  wind_speed  wind_deg  wind_gust  \\\n",
       "0     100       10000        2.58       214       3.41   \n",
       "1     100       10000        2.73       206       3.37   \n",
       "2     100       10000        3.17       206       3.60   \n",
       "3     100       10000        3.18       207       3.45   \n",
       "4     100       10000        3.35       197       3.35   \n",
       "\n",
       "                                             weather   pop         rain  \n",
       "0  [{'id': 804, 'main': 'Clouds', 'description': ...  0.35          NaN  \n",
       "1  [{'id': 500, 'main': 'Rain', 'description': 'l...  0.23  {'1h': 0.1}  \n",
       "2  [{'id': 804, 'main': 'Clouds', 'description': ...  0.32          NaN  \n",
       "3  [{'id': 804, 'main': 'Clouds', 'description': ...  0.31          NaN  \n",
       "4  [{'id': 804, 'main': 'Clouds', 'description': ...  0.31          NaN  "
      ]
     },
     "execution_count": 10,
     "metadata": {},
     "output_type": "execute_result"
    }
   ],
   "source": [
    "df_hourly.head()"
   ]
  },
  {
   "cell_type": "code",
   "execution_count": null,
   "metadata": {},
   "outputs": [],
   "source": []
  }
 ],
 "metadata": {
  "interpreter": {
   "hash": "c1b4cfe941b6d2466ad1fb5979e97da9cda8801728c8091b097ab734208fc00c"
  },
  "kernelspec": {
   "display_name": "Python 3.8.3 64-bit ('base': conda)",
   "name": "python3"
  },
  "language_info": {
   "codemirror_mode": {
    "name": "ipython",
    "version": 3
   },
   "file_extension": ".py",
   "mimetype": "text/x-python",
   "name": "python",
   "nbconvert_exporter": "python",
   "pygments_lexer": "ipython3",
   "version": "3.8.11"
  }
 },
 "nbformat": 4,
 "nbformat_minor": 2
}
