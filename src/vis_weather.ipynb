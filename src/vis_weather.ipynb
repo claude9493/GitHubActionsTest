{
 "cells": [
  {
   "cell_type": "code",
   "execution_count": 1,
   "metadata": {
    "execution": {
     "iopub.execute_input": "2021-08-26T17:42:46.431521Z",
     "iopub.status.busy": "2021-08-26T17:42:46.430883Z",
     "iopub.status.idle": "2021-08-26T17:42:49.271108Z",
     "shell.execute_reply": "2021-08-26T17:42:49.270483Z"
    }
   },
   "outputs": [],
   "source": [
    "import json, yaml, requests\r\n",
    "from datetime import datetime\r\n",
    "from dateutil import tz\r\n",
    "import pandas as pd\r\n",
    "from PIL import Image\r\n",
    "from io import BytesIO\r\n",
    "import matplotlib.pyplot as plt\r\n",
    "import seaborn\r\n",
    "\r\n",
    "CONFIG_PATH = \"../config/config.yaml\""
   ]
  },
  {
   "cell_type": "code",
   "execution_count": 2,
   "metadata": {
    "execution": {
     "iopub.execute_input": "2021-08-26T17:42:49.277474Z",
     "iopub.status.busy": "2021-08-26T17:42:49.276548Z",
     "iopub.status.idle": "2021-08-26T17:42:49.282927Z",
     "shell.execute_reply": "2021-08-26T17:42:49.282369Z"
    }
   },
   "outputs": [],
   "source": [
    "with open('../newest_ts', 'r') as f:\r\n",
    "    newest_ts = f.read()\r\n",
    "\r\n",
    "data_path = f\"../data/data_{newest_ts}.json\"\r\n",
    "with open(data_path, 'r') as f:\r\n",
    "    data = json.load(f)\r\n",
    "\r\n",
    "with open(CONFIG_PATH, \"r\") as stream:\r\n",
    "    config = yaml.safe_load(stream)\r\n",
    "\r\n",
    "TIME_ZONE = config['time_zone']\r\n",
    "DATETIME_FORMAT = config['dt_format']"
   ]
  },
  {
   "cell_type": "code",
   "execution_count": 3,
   "metadata": {
    "execution": {
     "iopub.execute_input": "2021-08-26T17:42:49.291382Z",
     "iopub.status.busy": "2021-08-26T17:42:49.289404Z",
     "iopub.status.idle": "2021-08-26T17:42:49.294554Z",
     "shell.execute_reply": "2021-08-26T17:42:49.295042Z"
    }
   },
   "outputs": [
    {
     "name": "stdout",
     "output_type": "stream",
     "text": [
      "Recent query happens at 2021-08-27 01:42:43 (CST).\n"
     ]
    }
   ],
   "source": [
    "def ts2dt(ts, format=DATETIME_FORMAT):\r\n",
    "    dt = (datetime.utcfromtimestamp(int(ts))\r\n",
    "                    .replace(tzinfo=tz.tzutc())\r\n",
    "                    # .astimezone(tz.tzlocal())\r\n",
    "                    .astimezone(tz.gettz(TIME_ZONE)))\r\n",
    "    return dt.strftime(format), dt\r\n",
    "\r\n",
    "_, newest_dt = ts2dt(newest_ts)\r\n",
    "print(f\"Recent query happens at {newest_dt.strftime(DATETIME_FORMAT)} ({newest_dt.tzname()}).\")"
   ]
  },
  {
   "cell_type": "code",
   "execution_count": 4,
   "metadata": {
    "execution": {
     "iopub.execute_input": "2021-08-26T17:42:49.301058Z",
     "iopub.status.busy": "2021-08-26T17:42:49.299671Z",
     "iopub.status.idle": "2021-08-26T17:42:49.301726Z",
     "shell.execute_reply": "2021-08-26T17:42:49.302215Z"
    }
   },
   "outputs": [],
   "source": [
    "def degrees_to_cardinal(d):\r\n",
    "  dirs = ['N', 'NNE', 'NE', 'ENE', 'E', 'ESE', 'SE', 'SSE', 'S', 'SSW', 'SW', 'WSW', 'W', 'WNW', 'NW', 'NNW']\r\n",
    "  ix = int(round(d / (360. / len(dirs))))\r\n",
    "  return dirs[ix % len(dirs)]"
   ]
  },
  {
   "cell_type": "code",
   "execution_count": 5,
   "metadata": {
    "execution": {
     "iopub.execute_input": "2021-08-26T17:42:49.307191Z",
     "iopub.status.busy": "2021-08-26T17:42:49.305777Z",
     "iopub.status.idle": "2021-08-26T17:42:49.307830Z",
     "shell.execute_reply": "2021-08-26T17:42:49.308316Z"
    }
   },
   "outputs": [],
   "source": [
    "# data.keys()"
   ]
  },
  {
   "cell_type": "code",
   "execution_count": 6,
   "metadata": {
    "execution": {
     "iopub.execute_input": "2021-08-26T17:42:49.312921Z",
     "iopub.status.busy": "2021-08-26T17:42:49.311479Z",
     "iopub.status.idle": "2021-08-26T17:42:49.313663Z",
     "shell.execute_reply": "2021-08-26T17:42:49.314158Z"
    }
   },
   "outputs": [],
   "source": [
    "# data['current']"
   ]
  },
  {
   "cell_type": "code",
   "execution_count": 7,
   "metadata": {
    "execution": {
     "iopub.execute_input": "2021-08-26T17:42:49.335405Z",
     "iopub.status.busy": "2021-08-26T17:42:49.334763Z",
     "iopub.status.idle": "2021-08-26T17:42:49.758247Z",
     "shell.execute_reply": "2021-08-26T17:42:49.759015Z"
    }
   },
   "outputs": [
    {
     "data": {
      "image/png": "[encoded data removed]",
      "text/plain": [
       "<Figure size 216x216 with 1 Axes>"
      ]
     },
     "metadata": {
      "needs_background": "light"
     },
     "output_type": "display_data"
    },
    {
     "name": "stdout",
     "output_type": "stream",
     "text": [
      "Today, sun rises at 06:04 and sets at 18:45.\n",
      "Currently, the weather is Clouds (broken clouds).\n",
      "The temperature is 29.05°C and it feels like 35.33°C.\n",
      "The UV index is 0, humidity is 82%.\n",
      "The pressure is 1011 hPa, percentage of cloud cover is 51%\n",
      "The wind comes from E direction with a speed 4.18 m/s.\n"
     ]
    }
   ],
   "source": [
    "current = data['current']\r\n",
    "\r\n",
    "fig, ax = plt.subplots(figsize=(3, 3))\r\n",
    "icon = requests.get(f\"http://openweathermap.org/img/wn/{current['weather'][0]['icon']}@2x.png\")\r\n",
    "im = Image.open(BytesIO(icon.content))\r\n",
    "plt.imshow(im)\r\n",
    "ax.set_axis_off()\r\n",
    "plt.show()\r\n",
    "\r\n",
    "print(f\"Today, sun rises at {ts2dt(current['sunrise'], '%H:%M')[0]} \\\r\n",
    "and sets at {ts2dt(current['sunset'], '%H:%M')[0]}.\\n\\\r\n",
    "Currently, the weather is {current['weather'][0]['main']} ({current['weather'][0]['description']}).\\n\\\r\n",
    "The temperature is {current['temp']}°C and it feels like {current['feels_like']}°C.\\n\\\r\n",
    "The UV index is {current['uvi']}, humidity is {current['humidity']}%.\\n\\\r\n",
    "The pressure is {current['pressure']} hPa, percentage of cloud cover is {current['clouds']}%\\n\\\r\n",
    "The wind comes from {degrees_to_cardinal(current['wind_deg'])} direction with a speed {current['wind_speed']} m/s.\")"
   ]
  },
  {
   "cell_type": "code",
   "execution_count": 8,
   "metadata": {
    "execution": {
     "iopub.execute_input": "2021-08-26T17:42:49.762604Z",
     "iopub.status.busy": "2021-08-26T17:42:49.761523Z",
     "iopub.status.idle": "2021-08-26T17:42:49.769521Z",
     "shell.execute_reply": "2021-08-26T17:42:49.770292Z"
    }
   },
   "outputs": [],
   "source": [
    "df_hourly = pd.DataFrame(data['hourly'])\r\n",
    "df_daily = pd.DataFrame(data['daily'])"
   ]
  },
  {
   "cell_type": "code",
   "execution_count": 9,
   "metadata": {
    "execution": {
     "iopub.execute_input": "2021-08-26T17:42:49.773732Z",
     "iopub.status.busy": "2021-08-26T17:42:49.772635Z",
     "iopub.status.idle": "2021-08-26T17:42:50.087373Z",
     "shell.execute_reply": "2021-08-26T17:42:50.086863Z"
    }
   },
   "outputs": [
    {
     "data": {
      "image/png": "[encoded data removed]",
      "text/plain": [
       "<Figure size 864x432 with 1 Axes>"
      ]
     },
     "metadata": {
      "needs_background": "light"
     },
     "output_type": "display_data"
    }
   ],
   "source": [
    "fig, ax = plt.subplots(figsize=(12, 6))\r\n",
    "plt.plot(df_hourly.temp, '.-', label='Temperature')\r\n",
    "plt.plot(df_hourly.feels_like, '.-', label='Feels Like')\r\n",
    "ax.set(title='Temperature in future 48 hours', xlabel='Time', ylabel='Temperature')\r\n",
    "ax.set_xticks(list(range(0, len(df_hourly), 2)))\r\n",
    "ax.set_xticklabels([ts2dt(ts, '%m-%d %H:%M')[0] for i, ts in enumerate(df_hourly.dt) if i%2==0], \r\n",
    "                   rotation=45, ha=\"right\")\r\n",
    "ax.locator_params(nbins=15, axis='y')\r\n",
    "plt.legend()\r\n",
    "plt.show()"
   ]
  },
  {
   "cell_type": "code",
   "execution_count": 10,
   "metadata": {
    "execution": {
     "iopub.execute_input": "2021-08-26T17:42:50.093791Z",
     "iopub.status.busy": "2021-08-26T17:42:50.093152Z",
     "iopub.status.idle": "2021-08-26T17:42:50.116218Z",
     "shell.execute_reply": "2021-08-26T17:42:50.116658Z"
    }
   },
   "outputs": [
    {
     "data": {
      "text/html": [
       "<div>\n",
       "<style scoped>\n",
       "    .dataframe tbody tr th:only-of-type {\n",
       "        vertical-align: middle;\n",
       "    }\n",
       "\n",
       "    .dataframe tbody tr th {\n",
       "        vertical-align: top;\n",
       "    }\n",
       "\n",
       "    .dataframe thead th {\n",
       "        text-align: right;\n",
       "    }\n",
       "</style>\n",
       "<table border=\"1\" class=\"dataframe\">\n",
       "  <thead>\n",
       "    <tr style=\"text-align: right;\">\n",
       "      <th></th>\n",
       "      <th>dt</th>\n",
       "      <th>temp</th>\n",
       "      <th>feels_like</th>\n",
       "      <th>pressure</th>\n",
       "      <th>humidity</th>\n",
       "      <th>dew_point</th>\n",
       "      <th>uvi</th>\n",
       "      <th>clouds</th>\n",
       "      <th>visibility</th>\n",
       "      <th>wind_speed</th>\n",
       "      <th>wind_deg</th>\n",
       "      <th>wind_gust</th>\n",
       "      <th>weather</th>\n",
       "      <th>pop</th>\n",
       "      <th>rain</th>\n",
       "    </tr>\n",
       "  </thead>\n",
       "  <tbody>\n",
       "    <tr>\n",
       "      <th>0</th>\n",
       "      <td>1629997200</td>\n",
       "      <td>28.79</td>\n",
       "      <td>34.58</td>\n",
       "      <td>1011</td>\n",
       "      <td>82</td>\n",
       "      <td>25.41</td>\n",
       "      <td>0.0</td>\n",
       "      <td>51</td>\n",
       "      <td>10000</td>\n",
       "      <td>4.03</td>\n",
       "      <td>88</td>\n",
       "      <td>5.22</td>\n",
       "      <td>[{'id': 803, 'main': 'Clouds', 'description': ...</td>\n",
       "      <td>0.00</td>\n",
       "      <td>NaN</td>\n",
       "    </tr>\n",
       "    <tr>\n",
       "      <th>1</th>\n",
       "      <td>1630000800</td>\n",
       "      <td>29.05</td>\n",
       "      <td>35.33</td>\n",
       "      <td>1011</td>\n",
       "      <td>82</td>\n",
       "      <td>25.66</td>\n",
       "      <td>0.0</td>\n",
       "      <td>51</td>\n",
       "      <td>10000</td>\n",
       "      <td>4.18</td>\n",
       "      <td>85</td>\n",
       "      <td>5.39</td>\n",
       "      <td>[{'id': 803, 'main': 'Clouds', 'description': ...</td>\n",
       "      <td>0.08</td>\n",
       "      <td>NaN</td>\n",
       "    </tr>\n",
       "    <tr>\n",
       "      <th>2</th>\n",
       "      <td>1630004400</td>\n",
       "      <td>28.75</td>\n",
       "      <td>34.46</td>\n",
       "      <td>1011</td>\n",
       "      <td>82</td>\n",
       "      <td>25.37</td>\n",
       "      <td>0.0</td>\n",
       "      <td>43</td>\n",
       "      <td>10000</td>\n",
       "      <td>4.11</td>\n",
       "      <td>83</td>\n",
       "      <td>5.21</td>\n",
       "      <td>[{'id': 802, 'main': 'Clouds', 'description': ...</td>\n",
       "      <td>0.36</td>\n",
       "      <td>NaN</td>\n",
       "    </tr>\n",
       "    <tr>\n",
       "      <th>3</th>\n",
       "      <td>1630008000</td>\n",
       "      <td>28.37</td>\n",
       "      <td>33.59</td>\n",
       "      <td>1011</td>\n",
       "      <td>83</td>\n",
       "      <td>25.20</td>\n",
       "      <td>0.0</td>\n",
       "      <td>35</td>\n",
       "      <td>10000</td>\n",
       "      <td>3.88</td>\n",
       "      <td>77</td>\n",
       "      <td>4.90</td>\n",
       "      <td>[{'id': 802, 'main': 'Clouds', 'description': ...</td>\n",
       "      <td>0.47</td>\n",
       "      <td>NaN</td>\n",
       "    </tr>\n",
       "    <tr>\n",
       "      <th>4</th>\n",
       "      <td>1630011600</td>\n",
       "      <td>27.90</td>\n",
       "      <td>32.46</td>\n",
       "      <td>1010</td>\n",
       "      <td>84</td>\n",
       "      <td>24.94</td>\n",
       "      <td>0.0</td>\n",
       "      <td>26</td>\n",
       "      <td>10000</td>\n",
       "      <td>4.11</td>\n",
       "      <td>76</td>\n",
       "      <td>5.17</td>\n",
       "      <td>[{'id': 802, 'main': 'Clouds', 'description': ...</td>\n",
       "      <td>0.49</td>\n",
       "      <td>NaN</td>\n",
       "    </tr>\n",
       "  </tbody>\n",
       "</table>\n",
       "</div>"
      ],
      "text/plain": [
       "           dt   temp  feels_like  pressure  humidity  dew_point  uvi  clouds  \\\n",
       "0  1629997200  28.79       34.58      1011        82      25.41  0.0      51   \n",
       "1  1630000800  29.05       35.33      1011        82      25.66  0.0      51   \n",
       "2  1630004400  28.75       34.46      1011        82      25.37  0.0      43   \n",
       "3  1630008000  28.37       33.59      1011        83      25.20  0.0      35   \n",
       "4  1630011600  27.90       32.46      1010        84      24.94  0.0      26   \n",
       "\n",
       "   visibility  wind_speed  wind_deg  wind_gust  \\\n",
       "0       10000        4.03        88       5.22   \n",
       "1       10000        4.18        85       5.39   \n",
       "2       10000        4.11        83       5.21   \n",
       "3       10000        3.88        77       4.90   \n",
       "4       10000        4.11        76       5.17   \n",
       "\n",
       "                                             weather   pop rain  \n",
       "0  [{'id': 803, 'main': 'Clouds', 'description': ...  0.00  NaN  \n",
       "1  [{'id': 803, 'main': 'Clouds', 'description': ...  0.08  NaN  \n",
       "2  [{'id': 802, 'main': 'Clouds', 'description': ...  0.36  NaN  \n",
       "3  [{'id': 802, 'main': 'Clouds', 'description': ...  0.47  NaN  \n",
       "4  [{'id': 802, 'main': 'Clouds', 'description': ...  0.49  NaN  "
      ]
     },
     "execution_count": 10,
     "metadata": {},
     "output_type": "execute_result"
    }
   ],
   "source": [
    "df_hourly.head()"
   ]
  },
  {
   "cell_type": "code",
   "execution_count": null,
   "metadata": {},
   "outputs": [],
   "source": []
  }
 ],
 "metadata": {
  "interpreter": {
   "hash": "c1b4cfe941b6d2466ad1fb5979e97da9cda8801728c8091b097ab734208fc00c"
  },
  "kernelspec": {
   "display_name": "Python 3.8.3 64-bit ('base': conda)",
   "name": "python3"
  },
  "language_info": {
   "codemirror_mode": {
    "name": "ipython",
    "version": 3
   },
   "file_extension": ".py",
   "mimetype": "text/x-python",
   "name": "python",
   "nbconvert_exporter": "python",
   "pygments_lexer": "ipython3",
   "version": "3.8.11"
  }
 },
 "nbformat": 4,
 "nbformat_minor": 2
}
