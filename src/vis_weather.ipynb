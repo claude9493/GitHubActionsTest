{
 "cells": [
  {
   "cell_type": "code",
   "execution_count": 1,
   "metadata": {
    "execution": {
     "iopub.execute_input": "2021-08-25T22:15:47.095539Z",
     "iopub.status.busy": "2021-08-25T22:15:47.094823Z",
     "iopub.status.idle": "2021-08-25T22:15:49.047155Z",
     "shell.execute_reply": "2021-08-25T22:15:49.045818Z"
    }
   },
   "outputs": [],
   "source": [
    "import json, yaml, requests\r\n",
    "from datetime import datetime\r\n",
    "from dateutil import tz\r\n",
    "import pandas as pd\r\n",
    "from PIL import Image\r\n",
    "from io import BytesIO\r\n",
    "import matplotlib.pyplot as plt\r\n",
    "import seaborn\r\n",
    "\r\n",
    "CONFIG_PATH = \"../config/config.yaml\""
   ]
  },
  {
   "cell_type": "code",
   "execution_count": 2,
   "metadata": {
    "execution": {
     "iopub.execute_input": "2021-08-25T22:15:49.058702Z",
     "iopub.status.busy": "2021-08-25T22:15:49.053687Z",
     "iopub.status.idle": "2021-08-25T22:15:49.061441Z",
     "shell.execute_reply": "2021-08-25T22:15:49.060941Z"
    }
   },
   "outputs": [],
   "source": [
    "with open('../newest_ts', 'r') as f:\r\n",
    "    newest_ts = f.read()\r\n",
    "\r\n",
    "data_path = f\"../data/data_{newest_ts}.json\"\r\n",
    "with open(data_path, 'r') as f:\r\n",
    "    data = json.load(f)\r\n",
    "\r\n",
    "with open(CONFIG_PATH, \"r\") as stream:\r\n",
    "    config = yaml.safe_load(stream)\r\n",
    "\r\n",
    "TIME_ZONE = config['time_zone']\r\n",
    "DATETIME_FORMAT = config['dt_format']"
   ]
  },
  {
   "cell_type": "code",
   "execution_count": 3,
   "metadata": {
    "execution": {
     "iopub.execute_input": "2021-08-25T22:15:49.066307Z",
     "iopub.status.busy": "2021-08-25T22:15:49.065784Z",
     "iopub.status.idle": "2021-08-25T22:15:49.071789Z",
     "shell.execute_reply": "2021-08-25T22:15:49.072226Z"
    }
   },
   "outputs": [
    {
     "name": "stdout",
     "output_type": "stream",
     "text": [
      "Recent query happens at 2021-08-26 06:15:44 (CST).\n"
     ]
    }
   ],
   "source": [
    "def ts2dt(ts, format=DATETIME_FORMAT):\r\n",
    "    dt = (datetime.utcfromtimestamp(int(ts))\r\n",
    "                    .replace(tzinfo=tz.tzutc())\r\n",
    "                    # .astimezone(tz.tzlocal())\r\n",
    "                    .astimezone(tz.gettz(TIME_ZONE)))\r\n",
    "    return dt.strftime(format), dt\r\n",
    "\r\n",
    "_, newest_dt = ts2dt(newest_ts)\r\n",
    "print(f\"Recent query happens at {newest_dt.strftime(DATETIME_FORMAT)} ({newest_dt.tzname()}).\")"
   ]
  },
  {
   "cell_type": "code",
   "execution_count": 4,
   "metadata": {
    "execution": {
     "iopub.execute_input": "2021-08-25T22:15:49.076457Z",
     "iopub.status.busy": "2021-08-25T22:15:49.074250Z",
     "iopub.status.idle": "2021-08-25T22:15:49.079622Z",
     "shell.execute_reply": "2021-08-25T22:15:49.079193Z"
    }
   },
   "outputs": [],
   "source": [
    "def degrees_to_cardinal(d):\r\n",
    "  dirs = ['N', 'NNE', 'NE', 'ENE', 'E', 'ESE', 'SE', 'SSE', 'S', 'SSW', 'SW', 'WSW', 'W', 'WNW', 'NW', 'NNW']\r\n",
    "  ix = int(round(d / (360. / len(dirs))))\r\n",
    "  return dirs[ix % len(dirs)]"
   ]
  },
  {
   "cell_type": "code",
   "execution_count": 5,
   "metadata": {
    "execution": {
     "iopub.execute_input": "2021-08-25T22:15:49.084503Z",
     "iopub.status.busy": "2021-08-25T22:15:49.083171Z",
     "iopub.status.idle": "2021-08-25T22:15:49.085165Z",
     "shell.execute_reply": "2021-08-25T22:15:49.085605Z"
    }
   },
   "outputs": [],
   "source": [
    "# data.keys()"
   ]
  },
  {
   "cell_type": "code",
   "execution_count": 6,
   "metadata": {
    "execution": {
     "iopub.execute_input": "2021-08-25T22:15:49.089681Z",
     "iopub.status.busy": "2021-08-25T22:15:49.088028Z",
     "iopub.status.idle": "2021-08-25T22:15:49.091957Z",
     "shell.execute_reply": "2021-08-25T22:15:49.091514Z"
    }
   },
   "outputs": [],
   "source": [
    "# data['current']"
   ]
  },
  {
   "cell_type": "code",
   "execution_count": 7,
   "metadata": {
    "execution": {
     "iopub.execute_input": "2021-08-25T22:15:49.114602Z",
     "iopub.status.busy": "2021-08-25T22:15:49.114015Z",
     "iopub.status.idle": "2021-08-25T22:15:49.565615Z",
     "shell.execute_reply": "2021-08-25T22:15:49.566355Z"
    }
   },
   "outputs": [
    {
     "data": {
      "image/png": "[encoded data removed]",
      "text/plain": [
       "<Figure size 216x216 with 1 Axes>"
      ]
     },
     "metadata": {
      "needs_background": "light"
     },
     "output_type": "display_data"
    },
    {
     "name": "stdout",
     "output_type": "stream",
     "text": [
      "Today, sun rises at 06:03 and sets at 18:46.\n",
      "Currently, the weather is Clouds (broken clouds).\n",
      "The temperature is 28.75°C and it feels like 34.46°C.\n",
      "The UV index is 0, humidity is 82%.\n",
      "The pressure is 1010 hPa, percentage of cloud cover is 84%\n",
      "The wind comes from SE direction with a speed 1.91 m/s.\n"
     ]
    }
   ],
   "source": [
    "current = data['current']\r\n",
    "\r\n",
    "fig, ax = plt.subplots(figsize=(3, 3))\r\n",
    "icon = requests.get(f\"http://openweathermap.org/img/wn/{current['weather'][0]['icon']}@2x.png\")\r\n",
    "im = Image.open(BytesIO(icon.content))\r\n",
    "plt.imshow(im)\r\n",
    "ax.set_axis_off()\r\n",
    "plt.show()\r\n",
    "\r\n",
    "print(f\"Today, sun rises at {ts2dt(current['sunrise'], '%H:%M')[0]} \\\r\n",
    "and sets at {ts2dt(current['sunset'], '%H:%M')[0]}.\\n\\\r\n",
    "Currently, the weather is {current['weather'][0]['main']} ({current['weather'][0]['description']}).\\n\\\r\n",
    "The temperature is {current['temp']}°C and it feels like {current['feels_like']}°C.\\n\\\r\n",
    "The UV index is {current['uvi']}, humidity is {current['humidity']}%.\\n\\\r\n",
    "The pressure is {current['pressure']} hPa, percentage of cloud cover is {current['clouds']}%\\n\\\r\n",
    "The wind comes from {degrees_to_cardinal(current['wind_deg'])} direction with a speed {current['wind_speed']} m/s.\")"
   ]
  },
  {
   "cell_type": "code",
   "execution_count": 8,
   "metadata": {
    "execution": {
     "iopub.execute_input": "2021-08-25T22:15:49.569697Z",
     "iopub.status.busy": "2021-08-25T22:15:49.569205Z",
     "iopub.status.idle": "2021-08-25T22:15:49.577190Z",
     "shell.execute_reply": "2021-08-25T22:15:49.577893Z"
    }
   },
   "outputs": [],
   "source": [
    "df_hourly = pd.DataFrame(data['hourly'])\r\n",
    "df_daily = pd.DataFrame(data['daily'])"
   ]
  },
  {
   "cell_type": "code",
   "execution_count": 9,
   "metadata": {
    "execution": {
     "iopub.execute_input": "2021-08-25T22:15:49.581239Z",
     "iopub.status.busy": "2021-08-25T22:15:49.580175Z",
     "iopub.status.idle": "2021-08-25T22:15:49.900460Z",
     "shell.execute_reply": "2021-08-25T22:15:49.899670Z"
    }
   },
   "outputs": [
    {
     "data": {
      "image/png": "[encoded data removed]",
      "text/plain": [
       "<Figure size 864x432 with 1 Axes>"
      ]
     },
     "metadata": {
      "needs_background": "light"
     },
     "output_type": "display_data"
    }
   ],
   "source": [
    "fig, ax = plt.subplots(figsize=(12, 6))\r\n",
    "plt.plot(df_hourly.temp, '.-', label='Temperature')\r\n",
    "plt.plot(df_hourly.feels_like, '.-', label='Feels Like')\r\n",
    "ax.set(title='Temperature in future 48 hours', xlabel='Time', ylabel='Temperature')\r\n",
    "ax.set_xticks(list(range(0, len(df_hourly), 2)))\r\n",
    "ax.set_xticklabels([ts2dt(ts, '%m-%d %H:%M')[0] for i, ts in enumerate(df_hourly.dt) if i%2==0], \r\n",
    "                   rotation=45, ha=\"right\")\r\n",
    "ax.locator_params(nbins=15, axis='y')\r\n",
    "plt.legend()\r\n",
    "plt.show()"
   ]
  },
  {
   "cell_type": "code",
   "execution_count": 10,
   "metadata": {
    "execution": {
     "iopub.execute_input": "2021-08-25T22:15:49.905262Z",
     "iopub.status.busy": "2021-08-25T22:15:49.904734Z",
     "iopub.status.idle": "2021-08-25T22:15:49.936942Z",
     "shell.execute_reply": "2021-08-25T22:15:49.937749Z"
    }
   },
   "outputs": [
    {
     "data": {
      "text/html": [
       "<div>\n",
       "<style scoped>\n",
       "    .dataframe tbody tr th:only-of-type {\n",
       "        vertical-align: middle;\n",
       "    }\n",
       "\n",
       "    .dataframe tbody tr th {\n",
       "        vertical-align: top;\n",
       "    }\n",
       "\n",
       "    .dataframe thead th {\n",
       "        text-align: right;\n",
       "    }\n",
       "</style>\n",
       "<table border=\"1\" class=\"dataframe\">\n",
       "  <thead>\n",
       "    <tr style=\"text-align: right;\">\n",
       "      <th></th>\n",
       "      <th>dt</th>\n",
       "      <th>temp</th>\n",
       "      <th>feels_like</th>\n",
       "      <th>pressure</th>\n",
       "      <th>humidity</th>\n",
       "      <th>dew_point</th>\n",
       "      <th>uvi</th>\n",
       "      <th>clouds</th>\n",
       "      <th>visibility</th>\n",
       "      <th>wind_speed</th>\n",
       "      <th>wind_deg</th>\n",
       "      <th>wind_gust</th>\n",
       "      <th>weather</th>\n",
       "      <th>pop</th>\n",
       "      <th>rain</th>\n",
       "    </tr>\n",
       "  </thead>\n",
       "  <tbody>\n",
       "    <tr>\n",
       "      <th>0</th>\n",
       "      <td>1629928800</td>\n",
       "      <td>28.75</td>\n",
       "      <td>34.46</td>\n",
       "      <td>1010</td>\n",
       "      <td>82</td>\n",
       "      <td>25.37</td>\n",
       "      <td>0.00</td>\n",
       "      <td>84</td>\n",
       "      <td>10000</td>\n",
       "      <td>1.91</td>\n",
       "      <td>129</td>\n",
       "      <td>2.71</td>\n",
       "      <td>[{'id': 803, 'main': 'Clouds', 'description': ...</td>\n",
       "      <td>0.51</td>\n",
       "      <td>NaN</td>\n",
       "    </tr>\n",
       "    <tr>\n",
       "      <th>1</th>\n",
       "      <td>1629932400</td>\n",
       "      <td>28.61</td>\n",
       "      <td>33.87</td>\n",
       "      <td>1010</td>\n",
       "      <td>81</td>\n",
       "      <td>25.03</td>\n",
       "      <td>0.37</td>\n",
       "      <td>85</td>\n",
       "      <td>10000</td>\n",
       "      <td>2.14</td>\n",
       "      <td>130</td>\n",
       "      <td>2.87</td>\n",
       "      <td>[{'id': 500, 'main': 'Rain', 'description': 'l...</td>\n",
       "      <td>0.45</td>\n",
       "      <td>{'1h': 0.12}</td>\n",
       "    </tr>\n",
       "    <tr>\n",
       "      <th>2</th>\n",
       "      <td>1629936000</td>\n",
       "      <td>28.69</td>\n",
       "      <td>33.89</td>\n",
       "      <td>1010</td>\n",
       "      <td>80</td>\n",
       "      <td>24.90</td>\n",
       "      <td>1.59</td>\n",
       "      <td>86</td>\n",
       "      <td>10000</td>\n",
       "      <td>2.22</td>\n",
       "      <td>130</td>\n",
       "      <td>2.87</td>\n",
       "      <td>[{'id': 804, 'main': 'Clouds', 'description': ...</td>\n",
       "      <td>0.48</td>\n",
       "      <td>NaN</td>\n",
       "    </tr>\n",
       "    <tr>\n",
       "      <th>3</th>\n",
       "      <td>1629939600</td>\n",
       "      <td>28.89</td>\n",
       "      <td>33.82</td>\n",
       "      <td>1011</td>\n",
       "      <td>77</td>\n",
       "      <td>24.45</td>\n",
       "      <td>4.04</td>\n",
       "      <td>92</td>\n",
       "      <td>10000</td>\n",
       "      <td>2.70</td>\n",
       "      <td>127</td>\n",
       "      <td>3.11</td>\n",
       "      <td>[{'id': 500, 'main': 'Rain', 'description': 'l...</td>\n",
       "      <td>0.45</td>\n",
       "      <td>{'1h': 0.13}</td>\n",
       "    </tr>\n",
       "    <tr>\n",
       "      <th>4</th>\n",
       "      <td>1629943200</td>\n",
       "      <td>29.40</td>\n",
       "      <td>34.26</td>\n",
       "      <td>1011</td>\n",
       "      <td>73</td>\n",
       "      <td>24.05</td>\n",
       "      <td>7.18</td>\n",
       "      <td>75</td>\n",
       "      <td>10000</td>\n",
       "      <td>2.62</td>\n",
       "      <td>129</td>\n",
       "      <td>2.95</td>\n",
       "      <td>[{'id': 803, 'main': 'Clouds', 'description': ...</td>\n",
       "      <td>0.58</td>\n",
       "      <td>NaN</td>\n",
       "    </tr>\n",
       "  </tbody>\n",
       "</table>\n",
       "</div>"
      ],
      "text/plain": [
       "           dt   temp  feels_like  pressure  humidity  dew_point   uvi  clouds  \\\n",
       "0  1629928800  28.75       34.46      1010        82      25.37  0.00      84   \n",
       "1  1629932400  28.61       33.87      1010        81      25.03  0.37      85   \n",
       "2  1629936000  28.69       33.89      1010        80      24.90  1.59      86   \n",
       "3  1629939600  28.89       33.82      1011        77      24.45  4.04      92   \n",
       "4  1629943200  29.40       34.26      1011        73      24.05  7.18      75   \n",
       "\n",
       "   visibility  wind_speed  wind_deg  wind_gust  \\\n",
       "0       10000        1.91       129       2.71   \n",
       "1       10000        2.14       130       2.87   \n",
       "2       10000        2.22       130       2.87   \n",
       "3       10000        2.70       127       3.11   \n",
       "4       10000        2.62       129       2.95   \n",
       "\n",
       "                                             weather   pop          rain  \n",
       "0  [{'id': 803, 'main': 'Clouds', 'description': ...  0.51           NaN  \n",
       "1  [{'id': 500, 'main': 'Rain', 'description': 'l...  0.45  {'1h': 0.12}  \n",
       "2  [{'id': 804, 'main': 'Clouds', 'description': ...  0.48           NaN  \n",
       "3  [{'id': 500, 'main': 'Rain', 'description': 'l...  0.45  {'1h': 0.13}  \n",
       "4  [{'id': 803, 'main': 'Clouds', 'description': ...  0.58           NaN  "
      ]
     },
     "execution_count": 10,
     "metadata": {},
     "output_type": "execute_result"
    }
   ],
   "source": [
    "df_hourly.head()"
   ]
  },
  {
   "cell_type": "code",
   "execution_count": null,
   "metadata": {},
   "outputs": [],
   "source": []
  }
 ],
 "metadata": {
  "interpreter": {
   "hash": "c1b4cfe941b6d2466ad1fb5979e97da9cda8801728c8091b097ab734208fc00c"
  },
  "kernelspec": {
   "display_name": "Python 3.8.3 64-bit ('base': conda)",
   "name": "python3"
  },
  "language_info": {
   "codemirror_mode": {
    "name": "ipython",
    "version": 3
   },
   "file_extension": ".py",
   "mimetype": "text/x-python",
   "name": "python",
   "nbconvert_exporter": "python",
   "pygments_lexer": "ipython3",
   "version": "3.8.11"
  }
 },
 "nbformat": 4,
 "nbformat_minor": 2
}
