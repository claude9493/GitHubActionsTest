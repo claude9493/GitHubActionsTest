{
 "cells": [
  {
   "cell_type": "code",
   "execution_count": 1,
   "metadata": {
    "execution": {
     "iopub.execute_input": "2021-09-06T16:24:48.907364Z",
     "iopub.status.busy": "2021-09-06T16:24:48.906812Z",
     "iopub.status.idle": "2021-09-06T16:24:51.670038Z",
     "shell.execute_reply": "2021-09-06T16:24:51.669468Z"
    }
   },
   "outputs": [],
   "source": [
    "import json, yaml, requests\r\n",
    "from datetime import datetime\r\n",
    "from dateutil import tz\r\n",
    "import pandas as pd\r\n",
    "from PIL import Image\r\n",
    "from io import BytesIO\r\n",
    "import matplotlib.pyplot as plt\r\n",
    "import seaborn\r\n",
    "\r\n",
    "CONFIG_PATH = \"../config/config.yaml\""
   ]
  },
  {
   "cell_type": "code",
   "execution_count": 2,
   "metadata": {
    "execution": {
     "iopub.execute_input": "2021-09-06T16:24:51.677792Z",
     "iopub.status.busy": "2021-09-06T16:24:51.674722Z",
     "iopub.status.idle": "2021-09-06T16:24:51.680426Z",
     "shell.execute_reply": "2021-09-06T16:24:51.680810Z"
    }
   },
   "outputs": [],
   "source": [
    "with open('../newest_ts', 'r') as f:\r\n",
    "    newest_ts = f.read()\r\n",
    "\r\n",
    "data_path = f\"../data/data_{newest_ts}.json\"\r\n",
    "with open(data_path, 'r') as f:\r\n",
    "    data = json.load(f)\r\n",
    "\r\n",
    "with open(CONFIG_PATH, \"r\") as stream:\r\n",
    "    config = yaml.safe_load(stream)\r\n",
    "\r\n",
    "TIME_ZONE = config['time_zone']\r\n",
    "DATETIME_FORMAT = config['dt_format']"
   ]
  },
  {
   "cell_type": "code",
   "execution_count": 3,
   "metadata": {
    "execution": {
     "iopub.execute_input": "2021-09-06T16:24:51.685130Z",
     "iopub.status.busy": "2021-09-06T16:24:51.684541Z",
     "iopub.status.idle": "2021-09-06T16:24:51.695469Z",
     "shell.execute_reply": "2021-09-06T16:24:51.695887Z"
    }
   },
   "outputs": [
    {
     "name": "stdout",
     "output_type": "stream",
     "text": [
      "Recent query happens at 2021-09-07 00:24:45 (CST).\n"
     ]
    }
   ],
   "source": [
    "def ts2dt(ts, format=DATETIME_FORMAT):\r\n",
    "    dt = (datetime.utcfromtimestamp(int(ts))\r\n",
    "                    .replace(tzinfo=tz.tzutc())\r\n",
    "                    # .astimezone(tz.tzlocal())\r\n",
    "                    .astimezone(tz.gettz(TIME_ZONE)))\r\n",
    "    return dt.strftime(format), dt\r\n",
    "\r\n",
    "_, newest_dt = ts2dt(newest_ts)\r\n",
    "print(f\"Recent query happens at {newest_dt.strftime(DATETIME_FORMAT)} ({newest_dt.tzname()}).\")"
   ]
  },
  {
   "cell_type": "code",
   "execution_count": 4,
   "metadata": {
    "execution": {
     "iopub.execute_input": "2021-09-06T16:24:51.702078Z",
     "iopub.status.busy": "2021-09-06T16:24:51.700902Z",
     "iopub.status.idle": "2021-09-06T16:24:51.702741Z",
     "shell.execute_reply": "2021-09-06T16:24:51.703146Z"
    }
   },
   "outputs": [],
   "source": [
    "def degrees_to_cardinal(d):\r\n",
    "  dirs = ['N', 'NNE', 'NE', 'ENE', 'E', 'ESE', 'SE', 'SSE', 'S', 'SSW', 'SW', 'WSW', 'W', 'WNW', 'NW', 'NNW']\r\n",
    "  ix = int(round(d / (360. / len(dirs))))\r\n",
    "  return dirs[ix % len(dirs)]"
   ]
  },
  {
   "cell_type": "code",
   "execution_count": 5,
   "metadata": {
    "execution": {
     "iopub.execute_input": "2021-09-06T16:24:51.707743Z",
     "iopub.status.busy": "2021-09-06T16:24:51.706499Z",
     "iopub.status.idle": "2021-09-06T16:24:51.708307Z",
     "shell.execute_reply": "2021-09-06T16:24:51.709241Z"
    }
   },
   "outputs": [],
   "source": [
    "# data.keys()"
   ]
  },
  {
   "cell_type": "code",
   "execution_count": 6,
   "metadata": {
    "execution": {
     "iopub.execute_input": "2021-09-06T16:24:51.713176Z",
     "iopub.status.busy": "2021-09-06T16:24:51.712258Z",
     "iopub.status.idle": "2021-09-06T16:24:51.713975Z",
     "shell.execute_reply": "2021-09-06T16:24:51.714386Z"
    }
   },
   "outputs": [],
   "source": [
    "# data['current']"
   ]
  },
  {
   "cell_type": "code",
   "execution_count": 7,
   "metadata": {
    "execution": {
     "iopub.execute_input": "2021-09-06T16:24:51.746618Z",
     "iopub.status.busy": "2021-09-06T16:24:51.743083Z",
     "iopub.status.idle": "2021-09-06T16:24:52.191613Z",
     "shell.execute_reply": "2021-09-06T16:24:52.192284Z"
    }
   },
   "outputs": [
    {
     "data": {
      "image/png": "[encoded data removed]",
      "text/plain": [
       "<Figure size 216x216 with 1 Axes>"
      ]
     },
     "metadata": {
      "needs_background": "light"
     },
     "output_type": "display_data"
    },
    {
     "name": "stdout",
     "output_type": "stream",
     "text": [
      "Today, sun rises at 06:07 and sets at 18:34.\n",
      "Currently, the weather is Clouds (broken clouds).\n",
      "The temperature is 29.2°C and it feels like 36.01°C.\n",
      "The UV index is 0, humidity is 83%.\n",
      "The pressure is 1011 hPa, percentage of cloud cover is 78%\n",
      "The wind comes from ENE direction with a speed 4.79 m/s.\n"
     ]
    }
   ],
   "source": [
    "current = data['current']\r\n",
    "\r\n",
    "fig, ax = plt.subplots(figsize=(3, 3))\r\n",
    "icon = requests.get(f\"http://openweathermap.org/img/wn/{current['weather'][0]['icon']}@2x.png\")\r\n",
    "im = Image.open(BytesIO(icon.content))\r\n",
    "plt.imshow(im)\r\n",
    "ax.set_axis_off()\r\n",
    "plt.show()\r\n",
    "\r\n",
    "print(f\"Today, sun rises at {ts2dt(current['sunrise'], '%H:%M')[0]} \\\r\n",
    "and sets at {ts2dt(current['sunset'], '%H:%M')[0]}.\\n\\\r\n",
    "Currently, the weather is {current['weather'][0]['main']} ({current['weather'][0]['description']}).\\n\\\r\n",
    "The temperature is {current['temp']}°C and it feels like {current['feels_like']}°C.\\n\\\r\n",
    "The UV index is {current['uvi']}, humidity is {current['humidity']}%.\\n\\\r\n",
    "The pressure is {current['pressure']} hPa, percentage of cloud cover is {current['clouds']}%\\n\\\r\n",
    "The wind comes from {degrees_to_cardinal(current['wind_deg'])} direction with a speed {current['wind_speed']} m/s.\")"
   ]
  },
  {
   "cell_type": "code",
   "execution_count": 8,
   "metadata": {
    "execution": {
     "iopub.execute_input": "2021-09-06T16:24:52.195672Z",
     "iopub.status.busy": "2021-09-06T16:24:52.194733Z",
     "iopub.status.idle": "2021-09-06T16:24:52.201904Z",
     "shell.execute_reply": "2021-09-06T16:24:52.202632Z"
    }
   },
   "outputs": [],
   "source": [
    "df_hourly = pd.DataFrame(data['hourly'])\r\n",
    "df_daily = pd.DataFrame(data['daily'])"
   ]
  },
  {
   "cell_type": "code",
   "execution_count": 9,
   "metadata": {
    "execution": {
     "iopub.execute_input": "2021-09-06T16:24:52.206693Z",
     "iopub.status.busy": "2021-09-06T16:24:52.205644Z",
     "iopub.status.idle": "2021-09-06T16:24:52.505548Z",
     "shell.execute_reply": "2021-09-06T16:24:52.504229Z"
    }
   },
   "outputs": [
    {
     "data": {
      "image/png": "[encoded data removed]",
      "text/plain": [
       "<Figure size 864x432 with 1 Axes>"
      ]
     },
     "metadata": {
      "needs_background": "light"
     },
     "output_type": "display_data"
    }
   ],
   "source": [
    "fig, ax = plt.subplots(figsize=(12, 6))\r\n",
    "plt.plot(df_hourly.temp, '.-', label='Temperature')\r\n",
    "plt.plot(df_hourly.feels_like, '.-', label='Feels Like')\r\n",
    "ax.set(title='Temperature in future 48 hours', xlabel='Time', ylabel='Temperature')\r\n",
    "ax.set_xticks(list(range(0, len(df_hourly), 2)))\r\n",
    "ax.set_xticklabels([ts2dt(ts, '%m-%d %H:%M')[0] for i, ts in enumerate(df_hourly.dt) if i%2==0], \r\n",
    "                   rotation=45, ha=\"right\")\r\n",
    "ax.locator_params(nbins=15, axis='y')\r\n",
    "plt.legend()\r\n",
    "plt.show()"
   ]
  },
  {
   "cell_type": "code",
   "execution_count": 10,
   "metadata": {
    "execution": {
     "iopub.execute_input": "2021-09-06T16:24:52.513587Z",
     "iopub.status.busy": "2021-09-06T16:24:52.513030Z",
     "iopub.status.idle": "2021-09-06T16:24:52.539447Z",
     "shell.execute_reply": "2021-09-06T16:24:52.539915Z"
    }
   },
   "outputs": [
    {
     "data": {
      "text/html": [
       "<div>\n",
       "<style scoped>\n",
       "    .dataframe tbody tr th:only-of-type {\n",
       "        vertical-align: middle;\n",
       "    }\n",
       "\n",
       "    .dataframe tbody tr th {\n",
       "        vertical-align: top;\n",
       "    }\n",
       "\n",
       "    .dataframe thead th {\n",
       "        text-align: right;\n",
       "    }\n",
       "</style>\n",
       "<table border=\"1\" class=\"dataframe\">\n",
       "  <thead>\n",
       "    <tr style=\"text-align: right;\">\n",
       "      <th></th>\n",
       "      <th>dt</th>\n",
       "      <th>temp</th>\n",
       "      <th>feels_like</th>\n",
       "      <th>pressure</th>\n",
       "      <th>humidity</th>\n",
       "      <th>dew_point</th>\n",
       "      <th>uvi</th>\n",
       "      <th>clouds</th>\n",
       "      <th>visibility</th>\n",
       "      <th>wind_speed</th>\n",
       "      <th>wind_deg</th>\n",
       "      <th>wind_gust</th>\n",
       "      <th>weather</th>\n",
       "      <th>pop</th>\n",
       "      <th>rain</th>\n",
       "    </tr>\n",
       "  </thead>\n",
       "  <tbody>\n",
       "    <tr>\n",
       "      <th>0</th>\n",
       "      <td>1630944000</td>\n",
       "      <td>29.20</td>\n",
       "      <td>36.01</td>\n",
       "      <td>1011</td>\n",
       "      <td>83</td>\n",
       "      <td>26.01</td>\n",
       "      <td>0.0</td>\n",
       "      <td>78</td>\n",
       "      <td>10000</td>\n",
       "      <td>4.79</td>\n",
       "      <td>74</td>\n",
       "      <td>6.77</td>\n",
       "      <td>[{'id': 500, 'main': 'Rain', 'description': 'l...</td>\n",
       "      <td>0.60</td>\n",
       "      <td>{'1h': 0.15}</td>\n",
       "    </tr>\n",
       "    <tr>\n",
       "      <th>1</th>\n",
       "      <td>1630947600</td>\n",
       "      <td>28.87</td>\n",
       "      <td>35.24</td>\n",
       "      <td>1011</td>\n",
       "      <td>84</td>\n",
       "      <td>25.89</td>\n",
       "      <td>0.0</td>\n",
       "      <td>79</td>\n",
       "      <td>10000</td>\n",
       "      <td>5.21</td>\n",
       "      <td>81</td>\n",
       "      <td>7.45</td>\n",
       "      <td>[{'id': 803, 'main': 'Clouds', 'description': ...</td>\n",
       "      <td>0.64</td>\n",
       "      <td>NaN</td>\n",
       "    </tr>\n",
       "    <tr>\n",
       "      <th>2</th>\n",
       "      <td>1630951200</td>\n",
       "      <td>28.51</td>\n",
       "      <td>34.18</td>\n",
       "      <td>1011</td>\n",
       "      <td>84</td>\n",
       "      <td>25.54</td>\n",
       "      <td>0.0</td>\n",
       "      <td>81</td>\n",
       "      <td>10000</td>\n",
       "      <td>5.26</td>\n",
       "      <td>79</td>\n",
       "      <td>7.18</td>\n",
       "      <td>[{'id': 500, 'main': 'Rain', 'description': 'l...</td>\n",
       "      <td>0.69</td>\n",
       "      <td>{'1h': 0.1}</td>\n",
       "    </tr>\n",
       "    <tr>\n",
       "      <th>3</th>\n",
       "      <td>1630954800</td>\n",
       "      <td>28.10</td>\n",
       "      <td>33.18</td>\n",
       "      <td>1010</td>\n",
       "      <td>85</td>\n",
       "      <td>25.34</td>\n",
       "      <td>0.0</td>\n",
       "      <td>91</td>\n",
       "      <td>10000</td>\n",
       "      <td>4.85</td>\n",
       "      <td>79</td>\n",
       "      <td>6.43</td>\n",
       "      <td>[{'id': 804, 'main': 'Clouds', 'description': ...</td>\n",
       "      <td>0.39</td>\n",
       "      <td>NaN</td>\n",
       "    </tr>\n",
       "    <tr>\n",
       "      <th>4</th>\n",
       "      <td>1630958400</td>\n",
       "      <td>27.73</td>\n",
       "      <td>32.29</td>\n",
       "      <td>1009</td>\n",
       "      <td>86</td>\n",
       "      <td>25.17</td>\n",
       "      <td>0.0</td>\n",
       "      <td>96</td>\n",
       "      <td>10000</td>\n",
       "      <td>4.68</td>\n",
       "      <td>74</td>\n",
       "      <td>6.13</td>\n",
       "      <td>[{'id': 804, 'main': 'Clouds', 'description': ...</td>\n",
       "      <td>0.36</td>\n",
       "      <td>NaN</td>\n",
       "    </tr>\n",
       "  </tbody>\n",
       "</table>\n",
       "</div>"
      ],
      "text/plain": [
       "           dt   temp  feels_like  pressure  humidity  dew_point  uvi  clouds  \\\n",
       "0  1630944000  29.20       36.01      1011        83      26.01  0.0      78   \n",
       "1  1630947600  28.87       35.24      1011        84      25.89  0.0      79   \n",
       "2  1630951200  28.51       34.18      1011        84      25.54  0.0      81   \n",
       "3  1630954800  28.10       33.18      1010        85      25.34  0.0      91   \n",
       "4  1630958400  27.73       32.29      1009        86      25.17  0.0      96   \n",
       "\n",
       "   visibility  wind_speed  wind_deg  wind_gust  \\\n",
       "0       10000        4.79        74       6.77   \n",
       "1       10000        5.21        81       7.45   \n",
       "2       10000        5.26        79       7.18   \n",
       "3       10000        4.85        79       6.43   \n",
       "4       10000        4.68        74       6.13   \n",
       "\n",
       "                                             weather   pop          rain  \n",
       "0  [{'id': 500, 'main': 'Rain', 'description': 'l...  0.60  {'1h': 0.15}  \n",
       "1  [{'id': 803, 'main': 'Clouds', 'description': ...  0.64           NaN  \n",
       "2  [{'id': 500, 'main': 'Rain', 'description': 'l...  0.69   {'1h': 0.1}  \n",
       "3  [{'id': 804, 'main': 'Clouds', 'description': ...  0.39           NaN  \n",
       "4  [{'id': 804, 'main': 'Clouds', 'description': ...  0.36           NaN  "
      ]
     },
     "execution_count": 10,
     "metadata": {},
     "output_type": "execute_result"
    }
   ],
   "source": [
    "df_hourly.head()"
   ]
  },
  {
   "cell_type": "code",
   "execution_count": null,
   "metadata": {},
   "outputs": [],
   "source": []
  }
 ],
 "metadata": {
  "interpreter": {
   "hash": "c1b4cfe941b6d2466ad1fb5979e97da9cda8801728c8091b097ab734208fc00c"
  },
  "kernelspec": {
   "display_name": "Python 3.8.3 64-bit ('base': conda)",
   "name": "python3"
  },
  "language_info": {
   "codemirror_mode": {
    "name": "ipython",
    "version": 3
   },
   "file_extension": ".py",
   "mimetype": "text/x-python",
   "name": "python",
   "nbconvert_exporter": "python",
   "pygments_lexer": "ipython3",
   "version": "3.8.11"
  }
 },
 "nbformat": 4,
 "nbformat_minor": 2
}
