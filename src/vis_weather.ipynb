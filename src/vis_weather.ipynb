{
 "cells": [
  {
   "cell_type": "code",
   "execution_count": 1,
   "metadata": {
    "execution": {
     "iopub.execute_input": "2021-09-12T23:37:27.871723Z",
     "iopub.status.busy": "2021-09-12T23:37:27.871044Z",
     "iopub.status.idle": "2021-09-12T23:37:30.114137Z",
     "shell.execute_reply": "2021-09-12T23:37:30.114827Z"
    }
   },
   "outputs": [],
   "source": [
    "import json, yaml, requests\r\n",
    "from datetime import datetime\r\n",
    "from dateutil import tz\r\n",
    "import pandas as pd\r\n",
    "from PIL import Image\r\n",
    "from io import BytesIO\r\n",
    "import matplotlib.pyplot as plt\r\n",
    "import seaborn\r\n",
    "\r\n",
    "CONFIG_PATH = \"../config/config.yaml\""
   ]
  },
  {
   "cell_type": "code",
   "execution_count": 2,
   "metadata": {
    "execution": {
     "iopub.execute_input": "2021-09-12T23:37:30.120767Z",
     "iopub.status.busy": "2021-09-12T23:37:30.119985Z",
     "iopub.status.idle": "2021-09-12T23:37:30.125043Z",
     "shell.execute_reply": "2021-09-12T23:37:30.124684Z"
    }
   },
   "outputs": [],
   "source": [
    "with open('../newest_ts', 'r') as f:\r\n",
    "    newest_ts = f.read()\r\n",
    "\r\n",
    "data_path = f\"../data/data_{newest_ts}.json\"\r\n",
    "with open(data_path, 'r') as f:\r\n",
    "    data = json.load(f)\r\n",
    "\r\n",
    "with open(CONFIG_PATH, \"r\") as stream:\r\n",
    "    config = yaml.safe_load(stream)\r\n",
    "\r\n",
    "TIME_ZONE = config['time_zone']\r\n",
    "DATETIME_FORMAT = config['dt_format']"
   ]
  },
  {
   "cell_type": "code",
   "execution_count": 3,
   "metadata": {
    "execution": {
     "iopub.execute_input": "2021-09-12T23:37:30.129598Z",
     "iopub.status.busy": "2021-09-12T23:37:30.129046Z",
     "iopub.status.idle": "2021-09-12T23:37:30.133261Z",
     "shell.execute_reply": "2021-09-12T23:37:30.133648Z"
    }
   },
   "outputs": [
    {
     "name": "stdout",
     "output_type": "stream",
     "text": [
      "Recent query happens at 2021-09-13 07:37:25 (CST).\n"
     ]
    }
   ],
   "source": [
    "def ts2dt(ts, format=DATETIME_FORMAT):\r\n",
    "    dt = (datetime.utcfromtimestamp(int(ts))\r\n",
    "                    .replace(tzinfo=tz.tzutc())\r\n",
    "                    # .astimezone(tz.tzlocal())\r\n",
    "                    .astimezone(tz.gettz(TIME_ZONE)))\r\n",
    "    return dt.strftime(format), dt\r\n",
    "\r\n",
    "_, newest_dt = ts2dt(newest_ts)\r\n",
    "print(f\"Recent query happens at {newest_dt.strftime(DATETIME_FORMAT)} ({newest_dt.tzname()}).\")"
   ]
  },
  {
   "cell_type": "code",
   "execution_count": 4,
   "metadata": {
    "execution": {
     "iopub.execute_input": "2021-09-12T23:37:30.138469Z",
     "iopub.status.busy": "2021-09-12T23:37:30.137223Z",
     "iopub.status.idle": "2021-09-12T23:37:30.139026Z",
     "shell.execute_reply": "2021-09-12T23:37:30.139415Z"
    }
   },
   "outputs": [],
   "source": [
    "def degrees_to_cardinal(d):\r\n",
    "  dirs = ['N', 'NNE', 'NE', 'ENE', 'E', 'ESE', 'SE', 'SSE', 'S', 'SSW', 'SW', 'WSW', 'W', 'WNW', 'NW', 'NNW']\r\n",
    "  ix = int(round(d / (360. / len(dirs))))\r\n",
    "  return dirs[ix % len(dirs)]"
   ]
  },
  {
   "cell_type": "code",
   "execution_count": 5,
   "metadata": {
    "execution": {
     "iopub.execute_input": "2021-09-12T23:37:30.143081Z",
     "iopub.status.busy": "2021-09-12T23:37:30.142146Z",
     "iopub.status.idle": "2021-09-12T23:37:30.143589Z",
     "shell.execute_reply": "2021-09-12T23:37:30.143935Z"
    }
   },
   "outputs": [],
   "source": [
    "# data.keys()"
   ]
  },
  {
   "cell_type": "code",
   "execution_count": 6,
   "metadata": {
    "execution": {
     "iopub.execute_input": "2021-09-12T23:37:30.146793Z",
     "iopub.status.busy": "2021-09-12T23:37:30.146349Z",
     "iopub.status.idle": "2021-09-12T23:37:30.148558Z",
     "shell.execute_reply": "2021-09-12T23:37:30.148188Z"
    }
   },
   "outputs": [],
   "source": [
    "# data['current']"
   ]
  },
  {
   "cell_type": "code",
   "execution_count": 7,
   "metadata": {
    "execution": {
     "iopub.execute_input": "2021-09-12T23:37:30.164537Z",
     "iopub.status.busy": "2021-09-12T23:37:30.153660Z",
     "iopub.status.idle": "2021-09-12T23:37:30.435814Z",
     "shell.execute_reply": "2021-09-12T23:37:30.436469Z"
    }
   },
   "outputs": [
    {
     "data": {
      "image/png": "[encoded data removed]",
      "text/plain": [
       "<Figure size 216x216 with 1 Axes>"
      ]
     },
     "metadata": {
      "needs_background": "light"
     },
     "output_type": "display_data"
    },
    {
     "name": "stdout",
     "output_type": "stream",
     "text": [
      "Today, sun rises at 06:09 and sets at 18:29.\n",
      "Currently, the weather is Clouds (scattered clouds).\n",
      "The temperature is 30.6°C and it feels like 37.6°C.\n",
      "The UV index is 1.33, humidity is 84%.\n",
      "The pressure is 1006 hPa, percentage of cloud cover is 50%\n",
      "The wind comes from SW direction with a speed 2.36 m/s.\n"
     ]
    }
   ],
   "source": [
    "current = data['current']\r\n",
    "\r\n",
    "fig, ax = plt.subplots(figsize=(3, 3))\r\n",
    "icon = requests.get(f\"http://openweathermap.org/img/wn/{current['weather'][0]['icon']}@2x.png\")\r\n",
    "im = Image.open(BytesIO(icon.content))\r\n",
    "plt.imshow(im)\r\n",
    "ax.set_axis_off()\r\n",
    "plt.show()\r\n",
    "\r\n",
    "print(f\"Today, sun rises at {ts2dt(current['sunrise'], '%H:%M')[0]} \\\r\n",
    "and sets at {ts2dt(current['sunset'], '%H:%M')[0]}.\\n\\\r\n",
    "Currently, the weather is {current['weather'][0]['main']} ({current['weather'][0]['description']}).\\n\\\r\n",
    "The temperature is {current['temp']}°C and it feels like {current['feels_like']}°C.\\n\\\r\n",
    "The UV index is {current['uvi']}, humidity is {current['humidity']}%.\\n\\\r\n",
    "The pressure is {current['pressure']} hPa, percentage of cloud cover is {current['clouds']}%\\n\\\r\n",
    "The wind comes from {degrees_to_cardinal(current['wind_deg'])} direction with a speed {current['wind_speed']} m/s.\")"
   ]
  },
  {
   "cell_type": "code",
   "execution_count": 8,
   "metadata": {
    "execution": {
     "iopub.execute_input": "2021-09-12T23:37:30.439163Z",
     "iopub.status.busy": "2021-09-12T23:37:30.438393Z",
     "iopub.status.idle": "2021-09-12T23:37:30.444623Z",
     "shell.execute_reply": "2021-09-12T23:37:30.445295Z"
    }
   },
   "outputs": [],
   "source": [
    "df_hourly = pd.DataFrame(data['hourly'])\r\n",
    "df_daily = pd.DataFrame(data['daily'])"
   ]
  },
  {
   "cell_type": "code",
   "execution_count": 9,
   "metadata": {
    "execution": {
     "iopub.execute_input": "2021-09-12T23:37:30.448038Z",
     "iopub.status.busy": "2021-09-12T23:37:30.447277Z",
     "iopub.status.idle": "2021-09-12T23:37:30.684505Z",
     "shell.execute_reply": "2021-09-12T23:37:30.684089Z"
    }
   },
   "outputs": [
    {
     "data": {
      "image/png": "[encoded data removed]",
      "text/plain": [
       "<Figure size 864x432 with 1 Axes>"
      ]
     },
     "metadata": {
      "needs_background": "light"
     },
     "output_type": "display_data"
    }
   ],
   "source": [
    "fig, ax = plt.subplots(figsize=(12, 6))\r\n",
    "plt.plot(df_hourly.temp, '.-', label='Temperature')\r\n",
    "plt.plot(df_hourly.feels_like, '.-', label='Feels Like')\r\n",
    "ax.set(title='Temperature in future 48 hours', xlabel='Time', ylabel='Temperature')\r\n",
    "ax.set_xticks(list(range(0, len(df_hourly), 2)))\r\n",
    "ax.set_xticklabels([ts2dt(ts, '%m-%d %H:%M')[0] for i, ts in enumerate(df_hourly.dt) if i%2==0], \r\n",
    "                   rotation=45, ha=\"right\")\r\n",
    "ax.locator_params(nbins=15, axis='y')\r\n",
    "plt.legend()\r\n",
    "plt.show()"
   ]
  },
  {
   "cell_type": "code",
   "execution_count": 10,
   "metadata": {
    "execution": {
     "iopub.execute_input": "2021-09-12T23:37:30.701511Z",
     "iopub.status.busy": "2021-09-12T23:37:30.695977Z",
     "iopub.status.idle": "2021-09-12T23:37:30.705881Z",
     "shell.execute_reply": "2021-09-12T23:37:30.705424Z"
    }
   },
   "outputs": [
    {
     "data": {
      "text/html": [
       "<div>\n",
       "<style scoped>\n",
       "    .dataframe tbody tr th:only-of-type {\n",
       "        vertical-align: middle;\n",
       "    }\n",
       "\n",
       "    .dataframe tbody tr th {\n",
       "        vertical-align: top;\n",
       "    }\n",
       "\n",
       "    .dataframe thead th {\n",
       "        text-align: right;\n",
       "    }\n",
       "</style>\n",
       "<table border=\"1\" class=\"dataframe\">\n",
       "  <thead>\n",
       "    <tr style=\"text-align: right;\">\n",
       "      <th></th>\n",
       "      <th>dt</th>\n",
       "      <th>temp</th>\n",
       "      <th>feels_like</th>\n",
       "      <th>pressure</th>\n",
       "      <th>humidity</th>\n",
       "      <th>dew_point</th>\n",
       "      <th>uvi</th>\n",
       "      <th>clouds</th>\n",
       "      <th>visibility</th>\n",
       "      <th>wind_speed</th>\n",
       "      <th>wind_deg</th>\n",
       "      <th>wind_gust</th>\n",
       "      <th>weather</th>\n",
       "      <th>pop</th>\n",
       "      <th>rain</th>\n",
       "    </tr>\n",
       "  </thead>\n",
       "  <tbody>\n",
       "    <tr>\n",
       "      <th>0</th>\n",
       "      <td>1631487600</td>\n",
       "      <td>30.29</td>\n",
       "      <td>37.29</td>\n",
       "      <td>1006</td>\n",
       "      <td>82</td>\n",
       "      <td>26.87</td>\n",
       "      <td>0.25</td>\n",
       "      <td>51</td>\n",
       "      <td>10000</td>\n",
       "      <td>2.20</td>\n",
       "      <td>241</td>\n",
       "      <td>2.75</td>\n",
       "      <td>[{'id': 500, 'main': 'Rain', 'description': 'l...</td>\n",
       "      <td>0.86</td>\n",
       "      <td>{'1h': 0.15}</td>\n",
       "    </tr>\n",
       "    <tr>\n",
       "      <th>1</th>\n",
       "      <td>1631491200</td>\n",
       "      <td>30.60</td>\n",
       "      <td>37.60</td>\n",
       "      <td>1006</td>\n",
       "      <td>84</td>\n",
       "      <td>27.58</td>\n",
       "      <td>1.33</td>\n",
       "      <td>50</td>\n",
       "      <td>10000</td>\n",
       "      <td>2.36</td>\n",
       "      <td>233</td>\n",
       "      <td>3.06</td>\n",
       "      <td>[{'id': 802, 'main': 'Clouds', 'description': ...</td>\n",
       "      <td>0.71</td>\n",
       "      <td>NaN</td>\n",
       "    </tr>\n",
       "    <tr>\n",
       "      <th>2</th>\n",
       "      <td>1631494800</td>\n",
       "      <td>30.56</td>\n",
       "      <td>37.56</td>\n",
       "      <td>1006</td>\n",
       "      <td>81</td>\n",
       "      <td>26.92</td>\n",
       "      <td>3.50</td>\n",
       "      <td>42</td>\n",
       "      <td>10000</td>\n",
       "      <td>3.13</td>\n",
       "      <td>226</td>\n",
       "      <td>3.73</td>\n",
       "      <td>[{'id': 802, 'main': 'Clouds', 'description': ...</td>\n",
       "      <td>0.88</td>\n",
       "      <td>NaN</td>\n",
       "    </tr>\n",
       "    <tr>\n",
       "      <th>3</th>\n",
       "      <td>1631498400</td>\n",
       "      <td>30.65</td>\n",
       "      <td>37.65</td>\n",
       "      <td>1006</td>\n",
       "      <td>78</td>\n",
       "      <td>26.37</td>\n",
       "      <td>6.44</td>\n",
       "      <td>35</td>\n",
       "      <td>10000</td>\n",
       "      <td>3.26</td>\n",
       "      <td>226</td>\n",
       "      <td>3.72</td>\n",
       "      <td>[{'id': 802, 'main': 'Clouds', 'description': ...</td>\n",
       "      <td>0.76</td>\n",
       "      <td>NaN</td>\n",
       "    </tr>\n",
       "    <tr>\n",
       "      <th>4</th>\n",
       "      <td>1631502000</td>\n",
       "      <td>30.80</td>\n",
       "      <td>37.80</td>\n",
       "      <td>1007</td>\n",
       "      <td>75</td>\n",
       "      <td>25.85</td>\n",
       "      <td>9.18</td>\n",
       "      <td>25</td>\n",
       "      <td>10000</td>\n",
       "      <td>3.23</td>\n",
       "      <td>228</td>\n",
       "      <td>3.43</td>\n",
       "      <td>[{'id': 500, 'main': 'Rain', 'description': 'l...</td>\n",
       "      <td>0.92</td>\n",
       "      <td>{'1h': 0.73}</td>\n",
       "    </tr>\n",
       "  </tbody>\n",
       "</table>\n",
       "</div>"
      ],
      "text/plain": [
       "           dt   temp  feels_like  pressure  humidity  dew_point   uvi  clouds  \\\n",
       "0  1631487600  30.29       37.29      1006        82      26.87  0.25      51   \n",
       "1  1631491200  30.60       37.60      1006        84      27.58  1.33      50   \n",
       "2  1631494800  30.56       37.56      1006        81      26.92  3.50      42   \n",
       "3  1631498400  30.65       37.65      1006        78      26.37  6.44      35   \n",
       "4  1631502000  30.80       37.80      1007        75      25.85  9.18      25   \n",
       "\n",
       "   visibility  wind_speed  wind_deg  wind_gust  \\\n",
       "0       10000        2.20       241       2.75   \n",
       "1       10000        2.36       233       3.06   \n",
       "2       10000        3.13       226       3.73   \n",
       "3       10000        3.26       226       3.72   \n",
       "4       10000        3.23       228       3.43   \n",
       "\n",
       "                                             weather   pop          rain  \n",
       "0  [{'id': 500, 'main': 'Rain', 'description': 'l...  0.86  {'1h': 0.15}  \n",
       "1  [{'id': 802, 'main': 'Clouds', 'description': ...  0.71           NaN  \n",
       "2  [{'id': 802, 'main': 'Clouds', 'description': ...  0.88           NaN  \n",
       "3  [{'id': 802, 'main': 'Clouds', 'description': ...  0.76           NaN  \n",
       "4  [{'id': 500, 'main': 'Rain', 'description': 'l...  0.92  {'1h': 0.73}  "
      ]
     },
     "execution_count": 10,
     "metadata": {},
     "output_type": "execute_result"
    }
   ],
   "source": [
    "df_hourly.head()"
   ]
  },
  {
   "cell_type": "code",
   "execution_count": null,
   "metadata": {},
   "outputs": [],
   "source": []
  }
 ],
 "metadata": {
  "interpreter": {
   "hash": "c1b4cfe941b6d2466ad1fb5979e97da9cda8801728c8091b097ab734208fc00c"
  },
  "kernelspec": {
   "display_name": "Python 3.8.3 64-bit ('base': conda)",
   "name": "python3"
  },
  "language_info": {
   "codemirror_mode": {
    "name": "ipython",
    "version": 3
   },
   "file_extension": ".py",
   "mimetype": "text/x-python",
   "name": "python",
   "nbconvert_exporter": "python",
   "pygments_lexer": "ipython3",
   "version": "3.8.11"
  }
 },
 "nbformat": 4,
 "nbformat_minor": 2
}
