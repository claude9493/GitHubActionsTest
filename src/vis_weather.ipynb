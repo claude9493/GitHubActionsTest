{
 "cells": [
  {
   "cell_type": "code",
   "execution_count": 1,
   "metadata": {
    "execution": {
     "iopub.execute_input": "2021-09-02T08:40:04.400179Z",
     "iopub.status.busy": "2021-09-02T08:40:04.399506Z",
     "iopub.status.idle": "2021-09-02T08:40:09.179246Z",
     "shell.execute_reply": "2021-09-02T08:40:09.178681Z"
    }
   },
   "outputs": [],
   "source": [
    "import json, yaml, requests\r\n",
    "from datetime import datetime\r\n",
    "from dateutil import tz\r\n",
    "import pandas as pd\r\n",
    "from PIL import Image\r\n",
    "from io import BytesIO\r\n",
    "import matplotlib.pyplot as plt\r\n",
    "import seaborn\r\n",
    "\r\n",
    "CONFIG_PATH = \"../config/config.yaml\""
   ]
  },
  {
   "cell_type": "code",
   "execution_count": 2,
   "metadata": {
    "execution": {
     "iopub.execute_input": "2021-09-02T08:40:09.185247Z",
     "iopub.status.busy": "2021-09-02T08:40:09.184148Z",
     "iopub.status.idle": "2021-09-02T08:40:09.190361Z",
     "shell.execute_reply": "2021-09-02T08:40:09.189847Z"
    }
   },
   "outputs": [],
   "source": [
    "with open('../newest_ts', 'r') as f:\r\n",
    "    newest_ts = f.read()\r\n",
    "\r\n",
    "data_path = f\"../data/data_{newest_ts}.json\"\r\n",
    "with open(data_path, 'r') as f:\r\n",
    "    data = json.load(f)\r\n",
    "\r\n",
    "with open(CONFIG_PATH, \"r\") as stream:\r\n",
    "    config = yaml.safe_load(stream)\r\n",
    "\r\n",
    "TIME_ZONE = config['time_zone']\r\n",
    "DATETIME_FORMAT = config['dt_format']"
   ]
  },
  {
   "cell_type": "code",
   "execution_count": 3,
   "metadata": {
    "execution": {
     "iopub.execute_input": "2021-09-02T08:40:09.196032Z",
     "iopub.status.busy": "2021-09-02T08:40:09.195471Z",
     "iopub.status.idle": "2021-09-02T08:40:09.255170Z",
     "shell.execute_reply": "2021-09-02T08:40:09.254377Z"
    }
   },
   "outputs": [
    {
     "name": "stdout",
     "output_type": "stream",
     "text": [
      "Recent query happens at 2021-09-02 16:40:00 (CST).\n"
     ]
    }
   ],
   "source": [
    "def ts2dt(ts, format=DATETIME_FORMAT):\r\n",
    "    dt = (datetime.utcfromtimestamp(int(ts))\r\n",
    "                    .replace(tzinfo=tz.tzutc())\r\n",
    "                    # .astimezone(tz.tzlocal())\r\n",
    "                    .astimezone(tz.gettz(TIME_ZONE)))\r\n",
    "    return dt.strftime(format), dt\r\n",
    "\r\n",
    "_, newest_dt = ts2dt(newest_ts)\r\n",
    "print(f\"Recent query happens at {newest_dt.strftime(DATETIME_FORMAT)} ({newest_dt.tzname()}).\")"
   ]
  },
  {
   "cell_type": "code",
   "execution_count": 4,
   "metadata": {
    "execution": {
     "iopub.execute_input": "2021-09-02T08:40:09.260533Z",
     "iopub.status.busy": "2021-09-02T08:40:09.259318Z",
     "iopub.status.idle": "2021-09-02T08:40:09.261141Z",
     "shell.execute_reply": "2021-09-02T08:40:09.261539Z"
    }
   },
   "outputs": [],
   "source": [
    "def degrees_to_cardinal(d):\r\n",
    "  dirs = ['N', 'NNE', 'NE', 'ENE', 'E', 'ESE', 'SE', 'SSE', 'S', 'SSW', 'SW', 'WSW', 'W', 'WNW', 'NW', 'NNW']\r\n",
    "  ix = int(round(d / (360. / len(dirs))))\r\n",
    "  return dirs[ix % len(dirs)]"
   ]
  },
  {
   "cell_type": "code",
   "execution_count": 5,
   "metadata": {
    "execution": {
     "iopub.execute_input": "2021-09-02T08:40:09.265569Z",
     "iopub.status.busy": "2021-09-02T08:40:09.264937Z",
     "iopub.status.idle": "2021-09-02T08:40:09.266872Z",
     "shell.execute_reply": "2021-09-02T08:40:09.267296Z"
    }
   },
   "outputs": [],
   "source": [
    "# data.keys()"
   ]
  },
  {
   "cell_type": "code",
   "execution_count": 6,
   "metadata": {
    "execution": {
     "iopub.execute_input": "2021-09-02T08:40:09.270787Z",
     "iopub.status.busy": "2021-09-02T08:40:09.269430Z",
     "iopub.status.idle": "2021-09-02T08:40:09.273167Z",
     "shell.execute_reply": "2021-09-02T08:40:09.272571Z"
    }
   },
   "outputs": [],
   "source": [
    "# data['current']"
   ]
  },
  {
   "cell_type": "code",
   "execution_count": 7,
   "metadata": {
    "execution": {
     "iopub.execute_input": "2021-09-02T08:40:09.293196Z",
     "iopub.status.busy": "2021-09-02T08:40:09.292674Z",
     "iopub.status.idle": "2021-09-02T08:40:09.903747Z",
     "shell.execute_reply": "2021-09-02T08:40:09.904566Z"
    }
   },
   "outputs": [
    {
     "data": {
      "image/png": "[encoded data removed]",
      "text/plain": [
       "<Figure size 216x216 with 1 Axes>"
      ]
     },
     "metadata": {
      "needs_background": "light"
     },
     "output_type": "display_data"
    },
    {
     "name": "stdout",
     "output_type": "stream",
     "text": [
      "Today, sun rises at 06:06 and sets at 18:39.\n",
      "Currently, the weather is Clear (clear sky).\n",
      "The temperature is 32.05°C and it feels like 39.05°C.\n",
      "The UV index is 1.07, humidity is 72%.\n",
      "The pressure is 1007 hPa, percentage of cloud cover is 7%\n",
      "The wind comes from ESE direction with a speed 3.43 m/s.\n"
     ]
    }
   ],
   "source": [
    "current = data['current']\r\n",
    "\r\n",
    "fig, ax = plt.subplots(figsize=(3, 3))\r\n",
    "icon = requests.get(f\"http://openweathermap.org/img/wn/{current['weather'][0]['icon']}@2x.png\")\r\n",
    "im = Image.open(BytesIO(icon.content))\r\n",
    "plt.imshow(im)\r\n",
    "ax.set_axis_off()\r\n",
    "plt.show()\r\n",
    "\r\n",
    "print(f\"Today, sun rises at {ts2dt(current['sunrise'], '%H:%M')[0]} \\\r\n",
    "and sets at {ts2dt(current['sunset'], '%H:%M')[0]}.\\n\\\r\n",
    "Currently, the weather is {current['weather'][0]['main']} ({current['weather'][0]['description']}).\\n\\\r\n",
    "The temperature is {current['temp']}°C and it feels like {current['feels_like']}°C.\\n\\\r\n",
    "The UV index is {current['uvi']}, humidity is {current['humidity']}%.\\n\\\r\n",
    "The pressure is {current['pressure']} hPa, percentage of cloud cover is {current['clouds']}%\\n\\\r\n",
    "The wind comes from {degrees_to_cardinal(current['wind_deg'])} direction with a speed {current['wind_speed']} m/s.\")"
   ]
  },
  {
   "cell_type": "code",
   "execution_count": 8,
   "metadata": {
    "execution": {
     "iopub.execute_input": "2021-09-02T08:40:09.907862Z",
     "iopub.status.busy": "2021-09-02T08:40:09.906933Z",
     "iopub.status.idle": "2021-09-02T08:40:09.914372Z",
     "shell.execute_reply": "2021-09-02T08:40:09.915004Z"
    }
   },
   "outputs": [],
   "source": [
    "df_hourly = pd.DataFrame(data['hourly'])\r\n",
    "df_daily = pd.DataFrame(data['daily'])"
   ]
  },
  {
   "cell_type": "code",
   "execution_count": 9,
   "metadata": {
    "execution": {
     "iopub.execute_input": "2021-09-02T08:40:09.917876Z",
     "iopub.status.busy": "2021-09-02T08:40:09.916967Z",
     "iopub.status.idle": "2021-09-02T08:40:10.227452Z",
     "shell.execute_reply": "2021-09-02T08:40:10.227036Z"
    }
   },
   "outputs": [
    {
     "data": {
      "image/png": "[encoded data removed]",
      "text/plain": [
       "<Figure size 864x432 with 1 Axes>"
      ]
     },
     "metadata": {
      "needs_background": "light"
     },
     "output_type": "display_data"
    }
   ],
   "source": [
    "fig, ax = plt.subplots(figsize=(12, 6))\r\n",
    "plt.plot(df_hourly.temp, '.-', label='Temperature')\r\n",
    "plt.plot(df_hourly.feels_like, '.-', label='Feels Like')\r\n",
    "ax.set(title='Temperature in future 48 hours', xlabel='Time', ylabel='Temperature')\r\n",
    "ax.set_xticks(list(range(0, len(df_hourly), 2)))\r\n",
    "ax.set_xticklabels([ts2dt(ts, '%m-%d %H:%M')[0] for i, ts in enumerate(df_hourly.dt) if i%2==0], \r\n",
    "                   rotation=45, ha=\"right\")\r\n",
    "ax.locator_params(nbins=15, axis='y')\r\n",
    "plt.legend()\r\n",
    "plt.show()"
   ]
  },
  {
   "cell_type": "code",
   "execution_count": 10,
   "metadata": {
    "execution": {
     "iopub.execute_input": "2021-09-02T08:40:10.232252Z",
     "iopub.status.busy": "2021-09-02T08:40:10.230920Z",
     "iopub.status.idle": "2021-09-02T08:40:10.250293Z",
     "shell.execute_reply": "2021-09-02T08:40:10.250720Z"
    }
   },
   "outputs": [
    {
     "data": {
      "text/html": [
       "<div>\n",
       "<style scoped>\n",
       "    .dataframe tbody tr th:only-of-type {\n",
       "        vertical-align: middle;\n",
       "    }\n",
       "\n",
       "    .dataframe tbody tr th {\n",
       "        vertical-align: top;\n",
       "    }\n",
       "\n",
       "    .dataframe thead th {\n",
       "        text-align: right;\n",
       "    }\n",
       "</style>\n",
       "<table border=\"1\" class=\"dataframe\">\n",
       "  <thead>\n",
       "    <tr style=\"text-align: right;\">\n",
       "      <th></th>\n",
       "      <th>dt</th>\n",
       "      <th>temp</th>\n",
       "      <th>feels_like</th>\n",
       "      <th>pressure</th>\n",
       "      <th>humidity</th>\n",
       "      <th>dew_point</th>\n",
       "      <th>uvi</th>\n",
       "      <th>clouds</th>\n",
       "      <th>visibility</th>\n",
       "      <th>wind_speed</th>\n",
       "      <th>wind_deg</th>\n",
       "      <th>wind_gust</th>\n",
       "      <th>weather</th>\n",
       "      <th>pop</th>\n",
       "      <th>rain</th>\n",
       "    </tr>\n",
       "  </thead>\n",
       "  <tbody>\n",
       "    <tr>\n",
       "      <th>0</th>\n",
       "      <td>1630569600</td>\n",
       "      <td>31.58</td>\n",
       "      <td>38.58</td>\n",
       "      <td>1007</td>\n",
       "      <td>71</td>\n",
       "      <td>25.68</td>\n",
       "      <td>3.02</td>\n",
       "      <td>7</td>\n",
       "      <td>10000</td>\n",
       "      <td>3.82</td>\n",
       "      <td>116</td>\n",
       "      <td>4.26</td>\n",
       "      <td>[{'id': 800, 'main': 'Clear', 'description': '...</td>\n",
       "      <td>0.62</td>\n",
       "      <td>NaN</td>\n",
       "    </tr>\n",
       "    <tr>\n",
       "      <th>1</th>\n",
       "      <td>1630573200</td>\n",
       "      <td>32.05</td>\n",
       "      <td>39.05</td>\n",
       "      <td>1007</td>\n",
       "      <td>72</td>\n",
       "      <td>26.36</td>\n",
       "      <td>1.07</td>\n",
       "      <td>7</td>\n",
       "      <td>10000</td>\n",
       "      <td>3.43</td>\n",
       "      <td>120</td>\n",
       "      <td>4.01</td>\n",
       "      <td>[{'id': 800, 'main': 'Clear', 'description': '...</td>\n",
       "      <td>0.68</td>\n",
       "      <td>NaN</td>\n",
       "    </tr>\n",
       "    <tr>\n",
       "      <th>2</th>\n",
       "      <td>1630576800</td>\n",
       "      <td>31.43</td>\n",
       "      <td>38.43</td>\n",
       "      <td>1007</td>\n",
       "      <td>73</td>\n",
       "      <td>26.00</td>\n",
       "      <td>0.21</td>\n",
       "      <td>7</td>\n",
       "      <td>10000</td>\n",
       "      <td>3.16</td>\n",
       "      <td>116</td>\n",
       "      <td>3.95</td>\n",
       "      <td>[{'id': 800, 'main': 'Clear', 'description': '...</td>\n",
       "      <td>0.68</td>\n",
       "      <td>NaN</td>\n",
       "    </tr>\n",
       "    <tr>\n",
       "      <th>3</th>\n",
       "      <td>1630580400</td>\n",
       "      <td>30.55</td>\n",
       "      <td>37.55</td>\n",
       "      <td>1007</td>\n",
       "      <td>75</td>\n",
       "      <td>25.61</td>\n",
       "      <td>0.00</td>\n",
       "      <td>7</td>\n",
       "      <td>10000</td>\n",
       "      <td>3.09</td>\n",
       "      <td>120</td>\n",
       "      <td>3.81</td>\n",
       "      <td>[{'id': 800, 'main': 'Clear', 'description': '...</td>\n",
       "      <td>0.61</td>\n",
       "      <td>NaN</td>\n",
       "    </tr>\n",
       "    <tr>\n",
       "      <th>4</th>\n",
       "      <td>1630584000</td>\n",
       "      <td>29.72</td>\n",
       "      <td>36.04</td>\n",
       "      <td>1008</td>\n",
       "      <td>77</td>\n",
       "      <td>25.25</td>\n",
       "      <td>0.00</td>\n",
       "      <td>10</td>\n",
       "      <td>10000</td>\n",
       "      <td>3.19</td>\n",
       "      <td>123</td>\n",
       "      <td>3.97</td>\n",
       "      <td>[{'id': 800, 'main': 'Clear', 'description': '...</td>\n",
       "      <td>0.54</td>\n",
       "      <td>NaN</td>\n",
       "    </tr>\n",
       "  </tbody>\n",
       "</table>\n",
       "</div>"
      ],
      "text/plain": [
       "           dt   temp  feels_like  pressure  humidity  dew_point   uvi  clouds  \\\n",
       "0  1630569600  31.58       38.58      1007        71      25.68  3.02       7   \n",
       "1  1630573200  32.05       39.05      1007        72      26.36  1.07       7   \n",
       "2  1630576800  31.43       38.43      1007        73      26.00  0.21       7   \n",
       "3  1630580400  30.55       37.55      1007        75      25.61  0.00       7   \n",
       "4  1630584000  29.72       36.04      1008        77      25.25  0.00      10   \n",
       "\n",
       "   visibility  wind_speed  wind_deg  wind_gust  \\\n",
       "0       10000        3.82       116       4.26   \n",
       "1       10000        3.43       120       4.01   \n",
       "2       10000        3.16       116       3.95   \n",
       "3       10000        3.09       120       3.81   \n",
       "4       10000        3.19       123       3.97   \n",
       "\n",
       "                                             weather   pop rain  \n",
       "0  [{'id': 800, 'main': 'Clear', 'description': '...  0.62  NaN  \n",
       "1  [{'id': 800, 'main': 'Clear', 'description': '...  0.68  NaN  \n",
       "2  [{'id': 800, 'main': 'Clear', 'description': '...  0.68  NaN  \n",
       "3  [{'id': 800, 'main': 'Clear', 'description': '...  0.61  NaN  \n",
       "4  [{'id': 800, 'main': 'Clear', 'description': '...  0.54  NaN  "
      ]
     },
     "execution_count": 10,
     "metadata": {},
     "output_type": "execute_result"
    }
   ],
   "source": [
    "df_hourly.head()"
   ]
  },
  {
   "cell_type": "code",
   "execution_count": null,
   "metadata": {},
   "outputs": [],
   "source": []
  }
 ],
 "metadata": {
  "interpreter": {
   "hash": "c1b4cfe941b6d2466ad1fb5979e97da9cda8801728c8091b097ab734208fc00c"
  },
  "kernelspec": {
   "display_name": "Python 3.8.3 64-bit ('base': conda)",
   "name": "python3"
  },
  "language_info": {
   "codemirror_mode": {
    "name": "ipython",
    "version": 3
   },
   "file_extension": ".py",
   "mimetype": "text/x-python",
   "name": "python",
   "nbconvert_exporter": "python",
   "pygments_lexer": "ipython3",
   "version": "3.8.11"
  }
 },
 "nbformat": 4,
 "nbformat_minor": 2
}
