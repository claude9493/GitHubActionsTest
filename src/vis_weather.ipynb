{
 "cells": [
  {
   "cell_type": "code",
   "execution_count": 1,
   "metadata": {
    "execution": {
     "iopub.execute_input": "2021-09-26T20:11:33.277735Z",
     "iopub.status.busy": "2021-09-26T20:11:33.277142Z",
     "iopub.status.idle": "2021-09-26T20:11:36.801954Z",
     "shell.execute_reply": "2021-09-26T20:11:36.801385Z"
    }
   },
   "outputs": [],
   "source": [
    "import json, yaml, requests\r\n",
    "from datetime import datetime\r\n",
    "from dateutil import tz\r\n",
    "import pandas as pd\r\n",
    "from PIL import Image\r\n",
    "from io import BytesIO\r\n",
    "import matplotlib.pyplot as plt\r\n",
    "import seaborn\r\n",
    "\r\n",
    "CONFIG_PATH = \"../config/config.yaml\""
   ]
  },
  {
   "cell_type": "code",
   "execution_count": 2,
   "metadata": {
    "execution": {
     "iopub.execute_input": "2021-09-26T20:11:36.809991Z",
     "iopub.status.busy": "2021-09-26T20:11:36.807061Z",
     "iopub.status.idle": "2021-09-26T20:11:36.813022Z",
     "shell.execute_reply": "2021-09-26T20:11:36.812143Z"
    }
   },
   "outputs": [],
   "source": [
    "with open('../newest_ts', 'r') as f:\r\n",
    "    newest_ts = f.read()\r\n",
    "\r\n",
    "data_path = f\"../data/data_{newest_ts}.json\"\r\n",
    "with open(data_path, 'r') as f:\r\n",
    "    data = json.load(f)\r\n",
    "\r\n",
    "with open(CONFIG_PATH, \"r\") as stream:\r\n",
    "    config = yaml.safe_load(stream)\r\n",
    "\r\n",
    "TIME_ZONE = config['time_zone']\r\n",
    "DATETIME_FORMAT = config['dt_format']"
   ]
  },
  {
   "cell_type": "code",
   "execution_count": 3,
   "metadata": {
    "execution": {
     "iopub.execute_input": "2021-09-26T20:11:36.817477Z",
     "iopub.status.busy": "2021-09-26T20:11:36.816930Z",
     "iopub.status.idle": "2021-09-26T20:11:36.850639Z",
     "shell.execute_reply": "2021-09-26T20:11:36.850175Z"
    }
   },
   "outputs": [
    {
     "name": "stdout",
     "output_type": "stream",
     "text": [
      "Recent query happens at 2021-09-27 04:11:30 (CST).\n"
     ]
    }
   ],
   "source": [
    "def ts2dt(ts, format=DATETIME_FORMAT):\r\n",
    "    dt = (datetime.utcfromtimestamp(int(ts))\r\n",
    "                    .replace(tzinfo=tz.tzutc())\r\n",
    "                    # .astimezone(tz.tzlocal())\r\n",
    "                    .astimezone(tz.gettz(TIME_ZONE)))\r\n",
    "    return dt.strftime(format), dt\r\n",
    "\r\n",
    "_, newest_dt = ts2dt(newest_ts)\r\n",
    "print(f\"Recent query happens at {newest_dt.strftime(DATETIME_FORMAT)} ({newest_dt.tzname()}).\")"
   ]
  },
  {
   "cell_type": "code",
   "execution_count": 4,
   "metadata": {
    "execution": {
     "iopub.execute_input": "2021-09-26T20:11:36.855318Z",
     "iopub.status.busy": "2021-09-26T20:11:36.854637Z",
     "iopub.status.idle": "2021-09-26T20:11:36.856371Z",
     "shell.execute_reply": "2021-09-26T20:11:36.856013Z"
    }
   },
   "outputs": [],
   "source": [
    "def degrees_to_cardinal(d):\r\n",
    "  dirs = ['N', 'NNE', 'NE', 'ENE', 'E', 'ESE', 'SE', 'SSE', 'S', 'SSW', 'SW', 'WSW', 'W', 'WNW', 'NW', 'NNW']\r\n",
    "  ix = int(round(d / (360. / len(dirs))))\r\n",
    "  return dirs[ix % len(dirs)]"
   ]
  },
  {
   "cell_type": "code",
   "execution_count": 5,
   "metadata": {
    "execution": {
     "iopub.execute_input": "2021-09-26T20:11:36.860095Z",
     "iopub.status.busy": "2021-09-26T20:11:36.859174Z",
     "iopub.status.idle": "2021-09-26T20:11:36.860551Z",
     "shell.execute_reply": "2021-09-26T20:11:36.860856Z"
    }
   },
   "outputs": [],
   "source": [
    "# data.keys()"
   ]
  },
  {
   "cell_type": "code",
   "execution_count": 6,
   "metadata": {
    "execution": {
     "iopub.execute_input": "2021-09-26T20:11:36.864617Z",
     "iopub.status.busy": "2021-09-26T20:11:36.863532Z",
     "iopub.status.idle": "2021-09-26T20:11:36.865108Z",
     "shell.execute_reply": "2021-09-26T20:11:36.865461Z"
    }
   },
   "outputs": [],
   "source": [
    "# data['current']"
   ]
  },
  {
   "cell_type": "code",
   "execution_count": 7,
   "metadata": {
    "execution": {
     "iopub.execute_input": "2021-09-26T20:11:36.881531Z",
     "iopub.status.busy": "2021-09-26T20:11:36.871303Z",
     "iopub.status.idle": "2021-09-26T20:11:37.245212Z",
     "shell.execute_reply": "2021-09-26T20:11:37.245899Z"
    }
   },
   "outputs": [
    {
     "data": {
      "image/png": "[encoded data removed]",
      "text/plain": [
       "<Figure size 216x216 with 1 Axes>"
      ]
     },
     "metadata": {
      "needs_background": "light"
     },
     "output_type": "display_data"
    },
    {
     "name": "stdout",
     "output_type": "stream",
     "text": [
      "Today, sun rises at 06:13 and sets at 18:14.\n",
      "Currently, the weather is Clear (clear sky).\n",
      "The temperature is 27.56°C and it feels like 31.42°C.\n",
      "The UV index is 0, humidity is 83%.\n",
      "The pressure is 1009 hPa, percentage of cloud cover is 9%\n",
      "The wind comes from ENE direction with a speed 3.24 m/s.\n"
     ]
    }
   ],
   "source": [
    "current = data['current']\r\n",
    "\r\n",
    "fig, ax = plt.subplots(figsize=(3, 3))\r\n",
    "icon = requests.get(f\"http://openweathermap.org/img/wn/{current['weather'][0]['icon']}@2x.png\")\r\n",
    "im = Image.open(BytesIO(icon.content))\r\n",
    "plt.imshow(im)\r\n",
    "ax.set_axis_off()\r\n",
    "plt.show()\r\n",
    "\r\n",
    "print(f\"Today, sun rises at {ts2dt(current['sunrise'], '%H:%M')[0]} \\\r\n",
    "and sets at {ts2dt(current['sunset'], '%H:%M')[0]}.\\n\\\r\n",
    "Currently, the weather is {current['weather'][0]['main']} ({current['weather'][0]['description']}).\\n\\\r\n",
    "The temperature is {current['temp']}°C and it feels like {current['feels_like']}°C.\\n\\\r\n",
    "The UV index is {current['uvi']}, humidity is {current['humidity']}%.\\n\\\r\n",
    "The pressure is {current['pressure']} hPa, percentage of cloud cover is {current['clouds']}%\\n\\\r\n",
    "The wind comes from {degrees_to_cardinal(current['wind_deg'])} direction with a speed {current['wind_speed']} m/s.\")"
   ]
  },
  {
   "cell_type": "code",
   "execution_count": 8,
   "metadata": {
    "execution": {
     "iopub.execute_input": "2021-09-26T20:11:37.252210Z",
     "iopub.status.busy": "2021-09-26T20:11:37.250568Z",
     "iopub.status.idle": "2021-09-26T20:11:37.256718Z",
     "shell.execute_reply": "2021-09-26T20:11:37.256275Z"
    }
   },
   "outputs": [],
   "source": [
    "df_hourly = pd.DataFrame(data['hourly'])\r\n",
    "df_daily = pd.DataFrame(data['daily'])"
   ]
  },
  {
   "cell_type": "code",
   "execution_count": 9,
   "metadata": {
    "execution": {
     "iopub.execute_input": "2021-09-26T20:11:37.274854Z",
     "iopub.status.busy": "2021-09-26T20:11:37.268197Z",
     "iopub.status.idle": "2021-09-26T20:11:37.513517Z",
     "shell.execute_reply": "2021-09-26T20:11:37.513037Z"
    }
   },
   "outputs": [
    {
     "data": {
      "image/png": "[encoded data removed]",
      "text/plain": [
       "<Figure size 864x432 with 1 Axes>"
      ]
     },
     "metadata": {
      "needs_background": "light"
     },
     "output_type": "display_data"
    }
   ],
   "source": [
    "fig, ax = plt.subplots(figsize=(12, 6))\r\n",
    "plt.plot(df_hourly.temp, '.-', label='Temperature')\r\n",
    "plt.plot(df_hourly.feels_like, '.-', label='Feels Like')\r\n",
    "ax.set(title='Temperature in future 48 hours', xlabel='Time', ylabel='Temperature')\r\n",
    "ax.set_xticks(list(range(0, len(df_hourly), 2)))\r\n",
    "ax.set_xticklabels([ts2dt(ts, '%m-%d %H:%M')[0] for i, ts in enumerate(df_hourly.dt) if i%2==0], \r\n",
    "                   rotation=45, ha=\"right\")\r\n",
    "ax.locator_params(nbins=15, axis='y')\r\n",
    "plt.legend()\r\n",
    "plt.show()"
   ]
  },
  {
   "cell_type": "code",
   "execution_count": 10,
   "metadata": {
    "execution": {
     "iopub.execute_input": "2021-09-26T20:11:37.518057Z",
     "iopub.status.busy": "2021-09-26T20:11:37.517527Z",
     "iopub.status.idle": "2021-09-26T20:11:37.534672Z",
     "shell.execute_reply": "2021-09-26T20:11:37.534151Z"
    }
   },
   "outputs": [
    {
     "data": {
      "text/html": [
       "<div>\n",
       "<style scoped>\n",
       "    .dataframe tbody tr th:only-of-type {\n",
       "        vertical-align: middle;\n",
       "    }\n",
       "\n",
       "    .dataframe tbody tr th {\n",
       "        vertical-align: top;\n",
       "    }\n",
       "\n",
       "    .dataframe thead th {\n",
       "        text-align: right;\n",
       "    }\n",
       "</style>\n",
       "<table border=\"1\" class=\"dataframe\">\n",
       "  <thead>\n",
       "    <tr style=\"text-align: right;\">\n",
       "      <th></th>\n",
       "      <th>dt</th>\n",
       "      <th>temp</th>\n",
       "      <th>feels_like</th>\n",
       "      <th>pressure</th>\n",
       "      <th>humidity</th>\n",
       "      <th>dew_point</th>\n",
       "      <th>uvi</th>\n",
       "      <th>clouds</th>\n",
       "      <th>visibility</th>\n",
       "      <th>wind_speed</th>\n",
       "      <th>wind_deg</th>\n",
       "      <th>wind_gust</th>\n",
       "      <th>weather</th>\n",
       "      <th>pop</th>\n",
       "    </tr>\n",
       "  </thead>\n",
       "  <tbody>\n",
       "    <tr>\n",
       "      <th>0</th>\n",
       "      <td>1632686400</td>\n",
       "      <td>27.56</td>\n",
       "      <td>31.42</td>\n",
       "      <td>1009</td>\n",
       "      <td>83</td>\n",
       "      <td>24.41</td>\n",
       "      <td>0.00</td>\n",
       "      <td>9</td>\n",
       "      <td>10000</td>\n",
       "      <td>3.24</td>\n",
       "      <td>75</td>\n",
       "      <td>3.91</td>\n",
       "      <td>[{'id': 800, 'main': 'Clear', 'description': '...</td>\n",
       "      <td>0.0</td>\n",
       "    </tr>\n",
       "    <tr>\n",
       "      <th>1</th>\n",
       "      <td>1632690000</td>\n",
       "      <td>27.42</td>\n",
       "      <td>30.94</td>\n",
       "      <td>1009</td>\n",
       "      <td>82</td>\n",
       "      <td>24.07</td>\n",
       "      <td>0.00</td>\n",
       "      <td>10</td>\n",
       "      <td>10000</td>\n",
       "      <td>3.21</td>\n",
       "      <td>68</td>\n",
       "      <td>3.92</td>\n",
       "      <td>[{'id': 800, 'main': 'Clear', 'description': '...</td>\n",
       "      <td>0.0</td>\n",
       "    </tr>\n",
       "    <tr>\n",
       "      <th>2</th>\n",
       "      <td>1632693600</td>\n",
       "      <td>27.23</td>\n",
       "      <td>30.48</td>\n",
       "      <td>1010</td>\n",
       "      <td>82</td>\n",
       "      <td>23.89</td>\n",
       "      <td>0.00</td>\n",
       "      <td>15</td>\n",
       "      <td>10000</td>\n",
       "      <td>3.26</td>\n",
       "      <td>67</td>\n",
       "      <td>3.89</td>\n",
       "      <td>[{'id': 801, 'main': 'Clouds', 'description': ...</td>\n",
       "      <td>0.0</td>\n",
       "    </tr>\n",
       "    <tr>\n",
       "      <th>3</th>\n",
       "      <td>1632697200</td>\n",
       "      <td>27.31</td>\n",
       "      <td>30.55</td>\n",
       "      <td>1010</td>\n",
       "      <td>81</td>\n",
       "      <td>23.76</td>\n",
       "      <td>0.17</td>\n",
       "      <td>25</td>\n",
       "      <td>10000</td>\n",
       "      <td>3.23</td>\n",
       "      <td>68</td>\n",
       "      <td>3.82</td>\n",
       "      <td>[{'id': 802, 'main': 'Clouds', 'description': ...</td>\n",
       "      <td>0.0</td>\n",
       "    </tr>\n",
       "    <tr>\n",
       "      <th>4</th>\n",
       "      <td>1632700800</td>\n",
       "      <td>27.73</td>\n",
       "      <td>31.03</td>\n",
       "      <td>1011</td>\n",
       "      <td>77</td>\n",
       "      <td>23.33</td>\n",
       "      <td>1.00</td>\n",
       "      <td>35</td>\n",
       "      <td>10000</td>\n",
       "      <td>3.64</td>\n",
       "      <td>71</td>\n",
       "      <td>4.13</td>\n",
       "      <td>[{'id': 802, 'main': 'Clouds', 'description': ...</td>\n",
       "      <td>0.0</td>\n",
       "    </tr>\n",
       "  </tbody>\n",
       "</table>\n",
       "</div>"
      ],
      "text/plain": [
       "           dt   temp  feels_like  pressure  humidity  dew_point   uvi  clouds  \\\n",
       "0  1632686400  27.56       31.42      1009        83      24.41  0.00       9   \n",
       "1  1632690000  27.42       30.94      1009        82      24.07  0.00      10   \n",
       "2  1632693600  27.23       30.48      1010        82      23.89  0.00      15   \n",
       "3  1632697200  27.31       30.55      1010        81      23.76  0.17      25   \n",
       "4  1632700800  27.73       31.03      1011        77      23.33  1.00      35   \n",
       "\n",
       "   visibility  wind_speed  wind_deg  wind_gust  \\\n",
       "0       10000        3.24        75       3.91   \n",
       "1       10000        3.21        68       3.92   \n",
       "2       10000        3.26        67       3.89   \n",
       "3       10000        3.23        68       3.82   \n",
       "4       10000        3.64        71       4.13   \n",
       "\n",
       "                                             weather  pop  \n",
       "0  [{'id': 800, 'main': 'Clear', 'description': '...  0.0  \n",
       "1  [{'id': 800, 'main': 'Clear', 'description': '...  0.0  \n",
       "2  [{'id': 801, 'main': 'Clouds', 'description': ...  0.0  \n",
       "3  [{'id': 802, 'main': 'Clouds', 'description': ...  0.0  \n",
       "4  [{'id': 802, 'main': 'Clouds', 'description': ...  0.0  "
      ]
     },
     "execution_count": 10,
     "metadata": {},
     "output_type": "execute_result"
    }
   ],
   "source": [
    "df_hourly.head()"
   ]
  },
  {
   "cell_type": "code",
   "execution_count": null,
   "metadata": {},
   "outputs": [],
   "source": []
  }
 ],
 "metadata": {
  "interpreter": {
   "hash": "c1b4cfe941b6d2466ad1fb5979e97da9cda8801728c8091b097ab734208fc00c"
  },
  "kernelspec": {
   "display_name": "Python 3.8.3 64-bit ('base': conda)",
   "name": "python3"
  },
  "language_info": {
   "codemirror_mode": {
    "name": "ipython",
    "version": 3
   },
   "file_extension": ".py",
   "mimetype": "text/x-python",
   "name": "python",
   "nbconvert_exporter": "python",
   "pygments_lexer": "ipython3",
   "version": "3.8.12"
  }
 },
 "nbformat": 4,
 "nbformat_minor": 2
}
