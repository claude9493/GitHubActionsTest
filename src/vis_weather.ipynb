{
 "cells": [
  {
   "cell_type": "code",
   "execution_count": 1,
   "metadata": {
    "execution": {
     "iopub.execute_input": "2021-09-02T12:59:02.556203Z",
     "iopub.status.busy": "2021-09-02T12:59:02.555163Z",
     "iopub.status.idle": "2021-09-02T12:59:03.972307Z",
     "shell.execute_reply": "2021-09-02T12:59:03.971682Z"
    }
   },
   "outputs": [],
   "source": [
    "import json, yaml, requests\r\n",
    "from datetime import datetime\r\n",
    "from dateutil import tz\r\n",
    "import pandas as pd\r\n",
    "from PIL import Image\r\n",
    "from io import BytesIO\r\n",
    "import matplotlib.pyplot as plt\r\n",
    "import seaborn\r\n",
    "\r\n",
    "CONFIG_PATH = \"../config/config.yaml\""
   ]
  },
  {
   "cell_type": "code",
   "execution_count": 2,
   "metadata": {
    "execution": {
     "iopub.execute_input": "2021-09-02T12:59:03.979438Z",
     "iopub.status.busy": "2021-09-02T12:59:03.977590Z",
     "iopub.status.idle": "2021-09-02T12:59:03.984144Z",
     "shell.execute_reply": "2021-09-02T12:59:03.983201Z"
    }
   },
   "outputs": [],
   "source": [
    "with open('../newest_ts', 'r') as f:\r\n",
    "    newest_ts = f.read()\r\n",
    "\r\n",
    "data_path = f\"../data/data_{newest_ts}.json\"\r\n",
    "with open(data_path, 'r') as f:\r\n",
    "    data = json.load(f)\r\n",
    "\r\n",
    "with open(CONFIG_PATH, \"r\") as stream:\r\n",
    "    config = yaml.safe_load(stream)\r\n",
    "\r\n",
    "TIME_ZONE = config['time_zone']\r\n",
    "DATETIME_FORMAT = config['dt_format']"
   ]
  },
  {
   "cell_type": "code",
   "execution_count": 3,
   "metadata": {
    "execution": {
     "iopub.execute_input": "2021-09-02T12:59:03.990724Z",
     "iopub.status.busy": "2021-09-02T12:59:03.989448Z",
     "iopub.status.idle": "2021-09-02T12:59:03.996217Z",
     "shell.execute_reply": "2021-09-02T12:59:03.995401Z"
    }
   },
   "outputs": [
    {
     "name": "stdout",
     "output_type": "stream",
     "text": [
      "Recent query happens at 2021-09-02 20:58:59 (CST).\n"
     ]
    }
   ],
   "source": [
    "def ts2dt(ts, format=DATETIME_FORMAT):\r\n",
    "    dt = (datetime.utcfromtimestamp(int(ts))\r\n",
    "                    .replace(tzinfo=tz.tzutc())\r\n",
    "                    # .astimezone(tz.tzlocal())\r\n",
    "                    .astimezone(tz.gettz(TIME_ZONE)))\r\n",
    "    return dt.strftime(format), dt\r\n",
    "\r\n",
    "_, newest_dt = ts2dt(newest_ts)\r\n",
    "print(f\"Recent query happens at {newest_dt.strftime(DATETIME_FORMAT)} ({newest_dt.tzname()}).\")"
   ]
  },
  {
   "cell_type": "code",
   "execution_count": 4,
   "metadata": {
    "execution": {
     "iopub.execute_input": "2021-09-02T12:59:04.001185Z",
     "iopub.status.busy": "2021-09-02T12:59:04.000540Z",
     "iopub.status.idle": "2021-09-02T12:59:04.004294Z",
     "shell.execute_reply": "2021-09-02T12:59:04.003814Z"
    }
   },
   "outputs": [],
   "source": [
    "def degrees_to_cardinal(d):\r\n",
    "  dirs = ['N', 'NNE', 'NE', 'ENE', 'E', 'ESE', 'SE', 'SSE', 'S', 'SSW', 'SW', 'WSW', 'W', 'WNW', 'NW', 'NNW']\r\n",
    "  ix = int(round(d / (360. / len(dirs))))\r\n",
    "  return dirs[ix % len(dirs)]"
   ]
  },
  {
   "cell_type": "code",
   "execution_count": 5,
   "metadata": {
    "execution": {
     "iopub.execute_input": "2021-09-02T12:59:04.008777Z",
     "iopub.status.busy": "2021-09-02T12:59:04.007769Z",
     "iopub.status.idle": "2021-09-02T12:59:04.010411Z",
     "shell.execute_reply": "2021-09-02T12:59:04.010852Z"
    }
   },
   "outputs": [],
   "source": [
    "# data.keys()"
   ]
  },
  {
   "cell_type": "code",
   "execution_count": 6,
   "metadata": {
    "execution": {
     "iopub.execute_input": "2021-09-02T12:59:04.015324Z",
     "iopub.status.busy": "2021-09-02T12:59:04.014007Z",
     "iopub.status.idle": "2021-09-02T12:59:04.016030Z",
     "shell.execute_reply": "2021-09-02T12:59:04.016613Z"
    }
   },
   "outputs": [],
   "source": [
    "# data['current']"
   ]
  },
  {
   "cell_type": "code",
   "execution_count": 7,
   "metadata": {
    "execution": {
     "iopub.execute_input": "2021-09-02T12:59:04.026589Z",
     "iopub.status.busy": "2021-09-02T12:59:04.024909Z",
     "iopub.status.idle": "2021-09-02T12:59:04.517619Z",
     "shell.execute_reply": "2021-09-02T12:59:04.518401Z"
    }
   },
   "outputs": [
    {
     "data": {
      "image/png": "[encoded data removed]",
      "text/plain": [
       "<Figure size 216x216 with 1 Axes>"
      ]
     },
     "metadata": {
      "needs_background": "light"
     },
     "output_type": "display_data"
    },
    {
     "name": "stdout",
     "output_type": "stream",
     "text": [
      "Today, sun rises at 06:06 and sets at 18:39.\n",
      "Currently, the weather is Clouds (few clouds).\n",
      "The temperature is 29.53°C and it feels like 36.26°C.\n",
      "The UV index is 0, humidity is 80%.\n",
      "The pressure is 1009 hPa, percentage of cloud cover is 11%\n",
      "The wind comes from ESE direction with a speed 3.08 m/s.\n"
     ]
    }
   ],
   "source": [
    "current = data['current']\r\n",
    "\r\n",
    "fig, ax = plt.subplots(figsize=(3, 3))\r\n",
    "icon = requests.get(f\"http://openweathermap.org/img/wn/{current['weather'][0]['icon']}@2x.png\")\r\n",
    "im = Image.open(BytesIO(icon.content))\r\n",
    "plt.imshow(im)\r\n",
    "ax.set_axis_off()\r\n",
    "plt.show()\r\n",
    "\r\n",
    "print(f\"Today, sun rises at {ts2dt(current['sunrise'], '%H:%M')[0]} \\\r\n",
    "and sets at {ts2dt(current['sunset'], '%H:%M')[0]}.\\n\\\r\n",
    "Currently, the weather is {current['weather'][0]['main']} ({current['weather'][0]['description']}).\\n\\\r\n",
    "The temperature is {current['temp']}°C and it feels like {current['feels_like']}°C.\\n\\\r\n",
    "The UV index is {current['uvi']}, humidity is {current['humidity']}%.\\n\\\r\n",
    "The pressure is {current['pressure']} hPa, percentage of cloud cover is {current['clouds']}%\\n\\\r\n",
    "The wind comes from {degrees_to_cardinal(current['wind_deg'])} direction with a speed {current['wind_speed']} m/s.\")"
   ]
  },
  {
   "cell_type": "code",
   "execution_count": 8,
   "metadata": {
    "execution": {
     "iopub.execute_input": "2021-09-02T12:59:04.522182Z",
     "iopub.status.busy": "2021-09-02T12:59:04.521084Z",
     "iopub.status.idle": "2021-09-02T12:59:04.530733Z",
     "shell.execute_reply": "2021-09-02T12:59:04.531547Z"
    }
   },
   "outputs": [],
   "source": [
    "df_hourly = pd.DataFrame(data['hourly'])\r\n",
    "df_daily = pd.DataFrame(data['daily'])"
   ]
  },
  {
   "cell_type": "code",
   "execution_count": 9,
   "metadata": {
    "execution": {
     "iopub.execute_input": "2021-09-02T12:59:04.535758Z",
     "iopub.status.busy": "2021-09-02T12:59:04.534468Z",
     "iopub.status.idle": "2021-09-02T12:59:04.895653Z",
     "shell.execute_reply": "2021-09-02T12:59:04.895021Z"
    }
   },
   "outputs": [
    {
     "data": {
      "image/png": "[encoded data removed]",
      "text/plain": [
       "<Figure size 864x432 with 1 Axes>"
      ]
     },
     "metadata": {
      "needs_background": "light"
     },
     "output_type": "display_data"
    }
   ],
   "source": [
    "fig, ax = plt.subplots(figsize=(12, 6))\r\n",
    "plt.plot(df_hourly.temp, '.-', label='Temperature')\r\n",
    "plt.plot(df_hourly.feels_like, '.-', label='Feels Like')\r\n",
    "ax.set(title='Temperature in future 48 hours', xlabel='Time', ylabel='Temperature')\r\n",
    "ax.set_xticks(list(range(0, len(df_hourly), 2)))\r\n",
    "ax.set_xticklabels([ts2dt(ts, '%m-%d %H:%M')[0] for i, ts in enumerate(df_hourly.dt) if i%2==0], \r\n",
    "                   rotation=45, ha=\"right\")\r\n",
    "ax.locator_params(nbins=15, axis='y')\r\n",
    "plt.legend()\r\n",
    "plt.show()"
   ]
  },
  {
   "cell_type": "code",
   "execution_count": 10,
   "metadata": {
    "execution": {
     "iopub.execute_input": "2021-09-02T12:59:04.900654Z",
     "iopub.status.busy": "2021-09-02T12:59:04.897799Z",
     "iopub.status.idle": "2021-09-02T12:59:04.926187Z",
     "shell.execute_reply": "2021-09-02T12:59:04.926625Z"
    }
   },
   "outputs": [
    {
     "data": {
      "text/html": [
       "<div>\n",
       "<style scoped>\n",
       "    .dataframe tbody tr th:only-of-type {\n",
       "        vertical-align: middle;\n",
       "    }\n",
       "\n",
       "    .dataframe tbody tr th {\n",
       "        vertical-align: top;\n",
       "    }\n",
       "\n",
       "    .dataframe thead th {\n",
       "        text-align: right;\n",
       "    }\n",
       "</style>\n",
       "<table border=\"1\" class=\"dataframe\">\n",
       "  <thead>\n",
       "    <tr style=\"text-align: right;\">\n",
       "      <th></th>\n",
       "      <th>dt</th>\n",
       "      <th>temp</th>\n",
       "      <th>feels_like</th>\n",
       "      <th>pressure</th>\n",
       "      <th>humidity</th>\n",
       "      <th>dew_point</th>\n",
       "      <th>uvi</th>\n",
       "      <th>clouds</th>\n",
       "      <th>visibility</th>\n",
       "      <th>wind_speed</th>\n",
       "      <th>wind_deg</th>\n",
       "      <th>wind_gust</th>\n",
       "      <th>weather</th>\n",
       "      <th>pop</th>\n",
       "      <th>rain</th>\n",
       "    </tr>\n",
       "  </thead>\n",
       "  <tbody>\n",
       "    <tr>\n",
       "      <th>0</th>\n",
       "      <td>1630584000</td>\n",
       "      <td>29.25</td>\n",
       "      <td>35.68</td>\n",
       "      <td>1009</td>\n",
       "      <td>81</td>\n",
       "      <td>25.65</td>\n",
       "      <td>0.0</td>\n",
       "      <td>10</td>\n",
       "      <td>10000</td>\n",
       "      <td>3.08</td>\n",
       "      <td>113</td>\n",
       "      <td>4.00</td>\n",
       "      <td>[{'id': 800, 'main': 'Clear', 'description': '...</td>\n",
       "      <td>0.88</td>\n",
       "      <td>NaN</td>\n",
       "    </tr>\n",
       "    <tr>\n",
       "      <th>1</th>\n",
       "      <td>1630587600</td>\n",
       "      <td>29.53</td>\n",
       "      <td>36.26</td>\n",
       "      <td>1009</td>\n",
       "      <td>80</td>\n",
       "      <td>25.71</td>\n",
       "      <td>0.0</td>\n",
       "      <td>11</td>\n",
       "      <td>10000</td>\n",
       "      <td>3.08</td>\n",
       "      <td>122</td>\n",
       "      <td>3.98</td>\n",
       "      <td>[{'id': 801, 'main': 'Clouds', 'description': ...</td>\n",
       "      <td>0.12</td>\n",
       "      <td>NaN</td>\n",
       "    </tr>\n",
       "    <tr>\n",
       "      <th>2</th>\n",
       "      <td>1630591200</td>\n",
       "      <td>29.24</td>\n",
       "      <td>35.65</td>\n",
       "      <td>1009</td>\n",
       "      <td>81</td>\n",
       "      <td>25.64</td>\n",
       "      <td>0.0</td>\n",
       "      <td>11</td>\n",
       "      <td>10000</td>\n",
       "      <td>3.15</td>\n",
       "      <td>128</td>\n",
       "      <td>3.97</td>\n",
       "      <td>[{'id': 801, 'main': 'Clouds', 'description': ...</td>\n",
       "      <td>0.11</td>\n",
       "      <td>NaN</td>\n",
       "    </tr>\n",
       "    <tr>\n",
       "      <th>3</th>\n",
       "      <td>1630594800</td>\n",
       "      <td>28.91</td>\n",
       "      <td>34.71</td>\n",
       "      <td>1009</td>\n",
       "      <td>81</td>\n",
       "      <td>25.32</td>\n",
       "      <td>0.0</td>\n",
       "      <td>11</td>\n",
       "      <td>10000</td>\n",
       "      <td>2.99</td>\n",
       "      <td>135</td>\n",
       "      <td>3.63</td>\n",
       "      <td>[{'id': 801, 'main': 'Clouds', 'description': ...</td>\n",
       "      <td>0.08</td>\n",
       "      <td>NaN</td>\n",
       "    </tr>\n",
       "    <tr>\n",
       "      <th>4</th>\n",
       "      <td>1630598400</td>\n",
       "      <td>28.55</td>\n",
       "      <td>33.52</td>\n",
       "      <td>1009</td>\n",
       "      <td>80</td>\n",
       "      <td>24.76</td>\n",
       "      <td>0.0</td>\n",
       "      <td>12</td>\n",
       "      <td>10000</td>\n",
       "      <td>2.63</td>\n",
       "      <td>138</td>\n",
       "      <td>3.15</td>\n",
       "      <td>[{'id': 801, 'main': 'Clouds', 'description': ...</td>\n",
       "      <td>0.08</td>\n",
       "      <td>NaN</td>\n",
       "    </tr>\n",
       "  </tbody>\n",
       "</table>\n",
       "</div>"
      ],
      "text/plain": [
       "           dt   temp  feels_like  pressure  humidity  dew_point  uvi  clouds  \\\n",
       "0  1630584000  29.25       35.68      1009        81      25.65  0.0      10   \n",
       "1  1630587600  29.53       36.26      1009        80      25.71  0.0      11   \n",
       "2  1630591200  29.24       35.65      1009        81      25.64  0.0      11   \n",
       "3  1630594800  28.91       34.71      1009        81      25.32  0.0      11   \n",
       "4  1630598400  28.55       33.52      1009        80      24.76  0.0      12   \n",
       "\n",
       "   visibility  wind_speed  wind_deg  wind_gust  \\\n",
       "0       10000        3.08       113       4.00   \n",
       "1       10000        3.08       122       3.98   \n",
       "2       10000        3.15       128       3.97   \n",
       "3       10000        2.99       135       3.63   \n",
       "4       10000        2.63       138       3.15   \n",
       "\n",
       "                                             weather   pop rain  \n",
       "0  [{'id': 800, 'main': 'Clear', 'description': '...  0.88  NaN  \n",
       "1  [{'id': 801, 'main': 'Clouds', 'description': ...  0.12  NaN  \n",
       "2  [{'id': 801, 'main': 'Clouds', 'description': ...  0.11  NaN  \n",
       "3  [{'id': 801, 'main': 'Clouds', 'description': ...  0.08  NaN  \n",
       "4  [{'id': 801, 'main': 'Clouds', 'description': ...  0.08  NaN  "
      ]
     },
     "execution_count": 10,
     "metadata": {},
     "output_type": "execute_result"
    }
   ],
   "source": [
    "df_hourly.head()"
   ]
  },
  {
   "cell_type": "code",
   "execution_count": null,
   "metadata": {},
   "outputs": [],
   "source": []
  }
 ],
 "metadata": {
  "interpreter": {
   "hash": "c1b4cfe941b6d2466ad1fb5979e97da9cda8801728c8091b097ab734208fc00c"
  },
  "kernelspec": {
   "display_name": "Python 3.8.3 64-bit ('base': conda)",
   "name": "python3"
  },
  "language_info": {
   "codemirror_mode": {
    "name": "ipython",
    "version": 3
   },
   "file_extension": ".py",
   "mimetype": "text/x-python",
   "name": "python",
   "nbconvert_exporter": "python",
   "pygments_lexer": "ipython3",
   "version": "3.8.11"
  }
 },
 "nbformat": 4,
 "nbformat_minor": 2
}
