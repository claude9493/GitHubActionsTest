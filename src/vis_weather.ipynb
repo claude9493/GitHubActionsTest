{
 "cells": [
  {
   "cell_type": "code",
   "execution_count": 1,
   "metadata": {
    "execution": {
     "iopub.execute_input": "2021-10-20T02:35:55.938156Z",
     "iopub.status.busy": "2021-10-20T02:35:55.937466Z",
     "iopub.status.idle": "2021-10-20T02:35:57.416646Z",
     "shell.execute_reply": "2021-10-20T02:35:57.415935Z"
    }
   },
   "outputs": [],
   "source": [
    "import json, yaml, requests\r\n",
    "from datetime import datetime\r\n",
    "from dateutil import tz\r\n",
    "import pandas as pd\r\n",
    "from PIL import Image\r\n",
    "from io import BytesIO\r\n",
    "import matplotlib.pyplot as plt\r\n",
    "import seaborn\r\n",
    "\r\n",
    "CONFIG_PATH = \"../config/config.yaml\""
   ]
  },
  {
   "cell_type": "code",
   "execution_count": 2,
   "metadata": {
    "execution": {
     "iopub.execute_input": "2021-10-20T02:35:57.424940Z",
     "iopub.status.busy": "2021-10-20T02:35:57.421551Z",
     "iopub.status.idle": "2021-10-20T02:35:57.428002Z",
     "shell.execute_reply": "2021-10-20T02:35:57.427504Z"
    }
   },
   "outputs": [],
   "source": [
    "with open('../newest_ts', 'r') as f:\r\n",
    "    newest_ts = f.read()\r\n",
    "\r\n",
    "data_path = f\"../data/data_{newest_ts}.json\"\r\n",
    "with open(data_path, 'r') as f:\r\n",
    "    data = json.load(f)\r\n",
    "\r\n",
    "with open(CONFIG_PATH, \"r\") as stream:\r\n",
    "    config = yaml.safe_load(stream)\r\n",
    "\r\n",
    "TIME_ZONE = config['time_zone']\r\n",
    "DATETIME_FORMAT = config['dt_format']"
   ]
  },
  {
   "cell_type": "code",
   "execution_count": 3,
   "metadata": {
    "execution": {
     "iopub.execute_input": "2021-10-20T02:35:57.433394Z",
     "iopub.status.busy": "2021-10-20T02:35:57.432776Z",
     "iopub.status.idle": "2021-10-20T02:35:57.439057Z",
     "shell.execute_reply": "2021-10-20T02:35:57.439537Z"
    }
   },
   "outputs": [
    {
     "name": "stdout",
     "output_type": "stream",
     "text": [
      "Recent query happens at 2021-10-20 10:35:52 (CST).\n"
     ]
    }
   ],
   "source": [
    "def ts2dt(ts, format=DATETIME_FORMAT):\r\n",
    "    dt = (datetime.utcfromtimestamp(int(ts))\r\n",
    "                    .replace(tzinfo=tz.tzutc())\r\n",
    "                    # .astimezone(tz.tzlocal())\r\n",
    "                    .astimezone(tz.gettz(TIME_ZONE)))\r\n",
    "    return dt.strftime(format), dt\r\n",
    "\r\n",
    "_, newest_dt = ts2dt(newest_ts)\r\n",
    "print(f\"Recent query happens at {newest_dt.strftime(DATETIME_FORMAT)} ({newest_dt.tzname()}).\")"
   ]
  },
  {
   "cell_type": "code",
   "execution_count": 4,
   "metadata": {
    "execution": {
     "iopub.execute_input": "2021-10-20T02:35:57.445685Z",
     "iopub.status.busy": "2021-10-20T02:35:57.444127Z",
     "iopub.status.idle": "2021-10-20T02:35:57.446334Z",
     "shell.execute_reply": "2021-10-20T02:35:57.446796Z"
    }
   },
   "outputs": [],
   "source": [
    "def degrees_to_cardinal(d):\r\n",
    "  dirs = ['N', 'NNE', 'NE', 'ENE', 'E', 'ESE', 'SE', 'SSE', 'S', 'SSW', 'SW', 'WSW', 'W', 'WNW', 'NW', 'NNW']\r\n",
    "  ix = int(round(d / (360. / len(dirs))))\r\n",
    "  return dirs[ix % len(dirs)]"
   ]
  },
  {
   "cell_type": "code",
   "execution_count": 5,
   "metadata": {
    "execution": {
     "iopub.execute_input": "2021-10-20T02:35:57.451922Z",
     "iopub.status.busy": "2021-10-20T02:35:57.450466Z",
     "iopub.status.idle": "2021-10-20T02:35:57.453423Z",
     "shell.execute_reply": "2021-10-20T02:35:57.453910Z"
    }
   },
   "outputs": [],
   "source": [
    "# data.keys()"
   ]
  },
  {
   "cell_type": "code",
   "execution_count": 6,
   "metadata": {
    "execution": {
     "iopub.execute_input": "2021-10-20T02:35:57.458515Z",
     "iopub.status.busy": "2021-10-20T02:35:57.457111Z",
     "iopub.status.idle": "2021-10-20T02:35:57.459104Z",
     "shell.execute_reply": "2021-10-20T02:35:57.459539Z"
    }
   },
   "outputs": [],
   "source": [
    "# data['current']"
   ]
  },
  {
   "cell_type": "code",
   "execution_count": 7,
   "metadata": {
    "execution": {
     "iopub.execute_input": "2021-10-20T02:35:57.478382Z",
     "iopub.status.busy": "2021-10-20T02:35:57.477803Z",
     "iopub.status.idle": "2021-10-20T02:35:57.894055Z",
     "shell.execute_reply": "2021-10-20T02:35:57.894891Z"
    }
   },
   "outputs": [
    {
     "data": {
      "image/png": "[encoded data removed]",
      "text/plain": [
       "<Figure size 216x216 with 1 Axes>"
      ]
     },
     "metadata": {
      "needs_background": "light"
     },
     "output_type": "display_data"
    },
    {
     "name": "stdout",
     "output_type": "stream",
     "text": [
      "Today, sun rises at 06:21 and sets at 17:54.\n",
      "Currently, the weather is Clouds (overcast clouds).\n",
      "The temperature is 28.52°C and it feels like 31.71°C.\n",
      "The UV index is 5.44, humidity is 70%.\n",
      "The pressure is 1018 hPa, percentage of cloud cover is 90%\n",
      "The wind comes from E direction with a speed 5.36 m/s.\n"
     ]
    }
   ],
   "source": [
    "current = data['current']\r\n",
    "\r\n",
    "fig, ax = plt.subplots(figsize=(3, 3))\r\n",
    "icon = requests.get(f\"http://openweathermap.org/img/wn/{current['weather'][0]['icon']}@2x.png\")\r\n",
    "im = Image.open(BytesIO(icon.content))\r\n",
    "plt.imshow(im)\r\n",
    "ax.set_axis_off()\r\n",
    "plt.show()\r\n",
    "\r\n",
    "print(f\"Today, sun rises at {ts2dt(current['sunrise'], '%H:%M')[0]} \\\r\n",
    "and sets at {ts2dt(current['sunset'], '%H:%M')[0]}.\\n\\\r\n",
    "Currently, the weather is {current['weather'][0]['main']} ({current['weather'][0]['description']}).\\n\\\r\n",
    "The temperature is {current['temp']}°C and it feels like {current['feels_like']}°C.\\n\\\r\n",
    "The UV index is {current['uvi']}, humidity is {current['humidity']}%.\\n\\\r\n",
    "The pressure is {current['pressure']} hPa, percentage of cloud cover is {current['clouds']}%\\n\\\r\n",
    "The wind comes from {degrees_to_cardinal(current['wind_deg'])} direction with a speed {current['wind_speed']} m/s.\")"
   ]
  },
  {
   "cell_type": "code",
   "execution_count": 8,
   "metadata": {
    "execution": {
     "iopub.execute_input": "2021-10-20T02:35:57.899287Z",
     "iopub.status.busy": "2021-10-20T02:35:57.898140Z",
     "iopub.status.idle": "2021-10-20T02:35:57.907181Z",
     "shell.execute_reply": "2021-10-20T02:35:57.908065Z"
    }
   },
   "outputs": [],
   "source": [
    "df_hourly = pd.DataFrame(data['hourly'])\r\n",
    "df_daily = pd.DataFrame(data['daily'])"
   ]
  },
  {
   "cell_type": "code",
   "execution_count": 9,
   "metadata": {
    "execution": {
     "iopub.execute_input": "2021-10-20T02:35:57.911657Z",
     "iopub.status.busy": "2021-10-20T02:35:57.910534Z",
     "iopub.status.idle": "2021-10-20T02:35:58.229589Z",
     "shell.execute_reply": "2021-10-20T02:35:58.228921Z"
    }
   },
   "outputs": [
    {
     "data": {
      "image/png": "[encoded data removed]",
      "text/plain": [
       "<Figure size 864x432 with 1 Axes>"
      ]
     },
     "metadata": {
      "needs_background": "light"
     },
     "output_type": "display_data"
    }
   ],
   "source": [
    "fig, ax = plt.subplots(figsize=(12, 6))\r\n",
    "plt.plot(df_hourly.temp, '.-', label='Temperature')\r\n",
    "plt.plot(df_hourly.feels_like, '.-', label='Feels Like')\r\n",
    "ax.set(title='Temperature in future 48 hours', xlabel='Time', ylabel='Temperature')\r\n",
    "ax.set_xticks(list(range(0, len(df_hourly), 2)))\r\n",
    "ax.set_xticklabels([ts2dt(ts, '%m-%d %H:%M')[0] for i, ts in enumerate(df_hourly.dt) if i%2==0], \r\n",
    "                   rotation=45, ha=\"right\")\r\n",
    "ax.locator_params(nbins=15, axis='y')\r\n",
    "plt.legend()\r\n",
    "plt.show()"
   ]
  },
  {
   "cell_type": "code",
   "execution_count": 10,
   "metadata": {
    "execution": {
     "iopub.execute_input": "2021-10-20T02:35:58.234151Z",
     "iopub.status.busy": "2021-10-20T02:35:58.233615Z",
     "iopub.status.idle": "2021-10-20T02:35:58.252900Z",
     "shell.execute_reply": "2021-10-20T02:35:58.253421Z"
    }
   },
   "outputs": [
    {
     "data": {
      "text/html": [
       "<div>\n",
       "<style scoped>\n",
       "    .dataframe tbody tr th:only-of-type {\n",
       "        vertical-align: middle;\n",
       "    }\n",
       "\n",
       "    .dataframe tbody tr th {\n",
       "        vertical-align: top;\n",
       "    }\n",
       "\n",
       "    .dataframe thead th {\n",
       "        text-align: right;\n",
       "    }\n",
       "</style>\n",
       "<table border=\"1\" class=\"dataframe\">\n",
       "  <thead>\n",
       "    <tr style=\"text-align: right;\">\n",
       "      <th></th>\n",
       "      <th>dt</th>\n",
       "      <th>temp</th>\n",
       "      <th>feels_like</th>\n",
       "      <th>pressure</th>\n",
       "      <th>humidity</th>\n",
       "      <th>dew_point</th>\n",
       "      <th>uvi</th>\n",
       "      <th>clouds</th>\n",
       "      <th>visibility</th>\n",
       "      <th>wind_speed</th>\n",
       "      <th>wind_deg</th>\n",
       "      <th>wind_gust</th>\n",
       "      <th>weather</th>\n",
       "      <th>pop</th>\n",
       "      <th>rain</th>\n",
       "    </tr>\n",
       "  </thead>\n",
       "  <tbody>\n",
       "    <tr>\n",
       "      <th>0</th>\n",
       "      <td>1634695200</td>\n",
       "      <td>27.92</td>\n",
       "      <td>30.77</td>\n",
       "      <td>1018</td>\n",
       "      <td>72</td>\n",
       "      <td>22.40</td>\n",
       "      <td>3.65</td>\n",
       "      <td>92</td>\n",
       "      <td>10000</td>\n",
       "      <td>5.76</td>\n",
       "      <td>87</td>\n",
       "      <td>7.38</td>\n",
       "      <td>[{'id': 500, 'main': 'Rain', 'description': 'l...</td>\n",
       "      <td>0.46</td>\n",
       "      <td>{'1h': 0.12}</td>\n",
       "    </tr>\n",
       "    <tr>\n",
       "      <th>1</th>\n",
       "      <td>1634698800</td>\n",
       "      <td>28.52</td>\n",
       "      <td>31.71</td>\n",
       "      <td>1018</td>\n",
       "      <td>70</td>\n",
       "      <td>22.51</td>\n",
       "      <td>5.44</td>\n",
       "      <td>90</td>\n",
       "      <td>10000</td>\n",
       "      <td>5.68</td>\n",
       "      <td>91</td>\n",
       "      <td>6.92</td>\n",
       "      <td>[{'id': 804, 'main': 'Clouds', 'description': ...</td>\n",
       "      <td>0.34</td>\n",
       "      <td>NaN</td>\n",
       "    </tr>\n",
       "    <tr>\n",
       "      <th>2</th>\n",
       "      <td>1634702400</td>\n",
       "      <td>28.14</td>\n",
       "      <td>31.08</td>\n",
       "      <td>1018</td>\n",
       "      <td>71</td>\n",
       "      <td>22.38</td>\n",
       "      <td>7.77</td>\n",
       "      <td>89</td>\n",
       "      <td>10000</td>\n",
       "      <td>5.69</td>\n",
       "      <td>92</td>\n",
       "      <td>6.63</td>\n",
       "      <td>[{'id': 804, 'main': 'Clouds', 'description': ...</td>\n",
       "      <td>0.23</td>\n",
       "      <td>NaN</td>\n",
       "    </tr>\n",
       "    <tr>\n",
       "      <th>3</th>\n",
       "      <td>1634706000</td>\n",
       "      <td>27.76</td>\n",
       "      <td>30.45</td>\n",
       "      <td>1017</td>\n",
       "      <td>72</td>\n",
       "      <td>22.25</td>\n",
       "      <td>7.62</td>\n",
       "      <td>87</td>\n",
       "      <td>10000</td>\n",
       "      <td>5.67</td>\n",
       "      <td>91</td>\n",
       "      <td>6.32</td>\n",
       "      <td>[{'id': 804, 'main': 'Clouds', 'description': ...</td>\n",
       "      <td>0.19</td>\n",
       "      <td>NaN</td>\n",
       "    </tr>\n",
       "    <tr>\n",
       "      <th>4</th>\n",
       "      <td>1634709600</td>\n",
       "      <td>27.45</td>\n",
       "      <td>29.85</td>\n",
       "      <td>1016</td>\n",
       "      <td>72</td>\n",
       "      <td>21.95</td>\n",
       "      <td>6.13</td>\n",
       "      <td>86</td>\n",
       "      <td>10000</td>\n",
       "      <td>5.43</td>\n",
       "      <td>94</td>\n",
       "      <td>6.03</td>\n",
       "      <td>[{'id': 804, 'main': 'Clouds', 'description': ...</td>\n",
       "      <td>0.16</td>\n",
       "      <td>NaN</td>\n",
       "    </tr>\n",
       "  </tbody>\n",
       "</table>\n",
       "</div>"
      ],
      "text/plain": [
       "           dt   temp  feels_like  pressure  humidity  dew_point   uvi  clouds  \\\n",
       "0  1634695200  27.92       30.77      1018        72      22.40  3.65      92   \n",
       "1  1634698800  28.52       31.71      1018        70      22.51  5.44      90   \n",
       "2  1634702400  28.14       31.08      1018        71      22.38  7.77      89   \n",
       "3  1634706000  27.76       30.45      1017        72      22.25  7.62      87   \n",
       "4  1634709600  27.45       29.85      1016        72      21.95  6.13      86   \n",
       "\n",
       "   visibility  wind_speed  wind_deg  wind_gust  \\\n",
       "0       10000        5.76        87       7.38   \n",
       "1       10000        5.68        91       6.92   \n",
       "2       10000        5.69        92       6.63   \n",
       "3       10000        5.67        91       6.32   \n",
       "4       10000        5.43        94       6.03   \n",
       "\n",
       "                                             weather   pop          rain  \n",
       "0  [{'id': 500, 'main': 'Rain', 'description': 'l...  0.46  {'1h': 0.12}  \n",
       "1  [{'id': 804, 'main': 'Clouds', 'description': ...  0.34           NaN  \n",
       "2  [{'id': 804, 'main': 'Clouds', 'description': ...  0.23           NaN  \n",
       "3  [{'id': 804, 'main': 'Clouds', 'description': ...  0.19           NaN  \n",
       "4  [{'id': 804, 'main': 'Clouds', 'description': ...  0.16           NaN  "
      ]
     },
     "execution_count": 10,
     "metadata": {},
     "output_type": "execute_result"
    }
   ],
   "source": [
    "df_hourly.head()"
   ]
  },
  {
   "cell_type": "code",
   "execution_count": null,
   "metadata": {},
   "outputs": [],
   "source": []
  }
 ],
 "metadata": {
  "interpreter": {
   "hash": "c1b4cfe941b6d2466ad1fb5979e97da9cda8801728c8091b097ab734208fc00c"
  },
  "kernelspec": {
   "display_name": "Python 3.8.3 64-bit ('base': conda)",
   "name": "python3"
  },
  "language_info": {
   "codemirror_mode": {
    "name": "ipython",
    "version": 3
   },
   "file_extension": ".py",
   "mimetype": "text/x-python",
   "name": "python",
   "nbconvert_exporter": "python",
   "pygments_lexer": "ipython3",
   "version": "3.8.12"
  }
 },
 "nbformat": 4,
 "nbformat_minor": 2
}
