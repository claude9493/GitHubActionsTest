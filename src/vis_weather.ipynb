{
 "cells": [
  {
   "cell_type": "code",
   "execution_count": 1,
   "metadata": {
    "execution": {
     "iopub.execute_input": "2021-09-07T13:39:21.687911Z",
     "iopub.status.busy": "2021-09-07T13:39:21.687306Z",
     "iopub.status.idle": "2021-09-07T13:39:24.136094Z",
     "shell.execute_reply": "2021-09-07T13:39:24.135475Z"
    }
   },
   "outputs": [],
   "source": [
    "import json, yaml, requests\r\n",
    "from datetime import datetime\r\n",
    "from dateutil import tz\r\n",
    "import pandas as pd\r\n",
    "from PIL import Image\r\n",
    "from io import BytesIO\r\n",
    "import matplotlib.pyplot as plt\r\n",
    "import seaborn\r\n",
    "\r\n",
    "CONFIG_PATH = \"../config/config.yaml\""
   ]
  },
  {
   "cell_type": "code",
   "execution_count": 2,
   "metadata": {
    "execution": {
     "iopub.execute_input": "2021-09-07T13:39:24.141347Z",
     "iopub.status.busy": "2021-09-07T13:39:24.140871Z",
     "iopub.status.idle": "2021-09-07T13:39:24.145551Z",
     "shell.execute_reply": "2021-09-07T13:39:24.145172Z"
    }
   },
   "outputs": [],
   "source": [
    "with open('../newest_ts', 'r') as f:\r\n",
    "    newest_ts = f.read()\r\n",
    "\r\n",
    "data_path = f\"../data/data_{newest_ts}.json\"\r\n",
    "with open(data_path, 'r') as f:\r\n",
    "    data = json.load(f)\r\n",
    "\r\n",
    "with open(CONFIG_PATH, \"r\") as stream:\r\n",
    "    config = yaml.safe_load(stream)\r\n",
    "\r\n",
    "TIME_ZONE = config['time_zone']\r\n",
    "DATETIME_FORMAT = config['dt_format']"
   ]
  },
  {
   "cell_type": "code",
   "execution_count": 3,
   "metadata": {
    "execution": {
     "iopub.execute_input": "2021-09-07T13:39:24.149645Z",
     "iopub.status.busy": "2021-09-07T13:39:24.149191Z",
     "iopub.status.idle": "2021-09-07T13:39:24.158409Z",
     "shell.execute_reply": "2021-09-07T13:39:24.158779Z"
    }
   },
   "outputs": [
    {
     "name": "stdout",
     "output_type": "stream",
     "text": [
      "Recent query happens at 2021-09-07 21:39:18 (CST).\n"
     ]
    }
   ],
   "source": [
    "def ts2dt(ts, format=DATETIME_FORMAT):\r\n",
    "    dt = (datetime.utcfromtimestamp(int(ts))\r\n",
    "                    .replace(tzinfo=tz.tzutc())\r\n",
    "                    # .astimezone(tz.tzlocal())\r\n",
    "                    .astimezone(tz.gettz(TIME_ZONE)))\r\n",
    "    return dt.strftime(format), dt\r\n",
    "\r\n",
    "_, newest_dt = ts2dt(newest_ts)\r\n",
    "print(f\"Recent query happens at {newest_dt.strftime(DATETIME_FORMAT)} ({newest_dt.tzname()}).\")"
   ]
  },
  {
   "cell_type": "code",
   "execution_count": 4,
   "metadata": {
    "execution": {
     "iopub.execute_input": "2021-09-07T13:39:24.163396Z",
     "iopub.status.busy": "2021-09-07T13:39:24.162481Z",
     "iopub.status.idle": "2021-09-07T13:39:24.164489Z",
     "shell.execute_reply": "2021-09-07T13:39:24.164091Z"
    }
   },
   "outputs": [],
   "source": [
    "def degrees_to_cardinal(d):\r\n",
    "  dirs = ['N', 'NNE', 'NE', 'ENE', 'E', 'ESE', 'SE', 'SSE', 'S', 'SSW', 'SW', 'WSW', 'W', 'WNW', 'NW', 'NNW']\r\n",
    "  ix = int(round(d / (360. / len(dirs))))\r\n",
    "  return dirs[ix % len(dirs)]"
   ]
  },
  {
   "cell_type": "code",
   "execution_count": 5,
   "metadata": {
    "execution": {
     "iopub.execute_input": "2021-09-07T13:39:24.168118Z",
     "iopub.status.busy": "2021-09-07T13:39:24.167198Z",
     "iopub.status.idle": "2021-09-07T13:39:24.168693Z",
     "shell.execute_reply": "2021-09-07T13:39:24.169055Z"
    }
   },
   "outputs": [],
   "source": [
    "# data.keys()"
   ]
  },
  {
   "cell_type": "code",
   "execution_count": 6,
   "metadata": {
    "execution": {
     "iopub.execute_input": "2021-09-07T13:39:24.172577Z",
     "iopub.status.busy": "2021-09-07T13:39:24.171594Z",
     "iopub.status.idle": "2021-09-07T13:39:24.173090Z",
     "shell.execute_reply": "2021-09-07T13:39:24.173450Z"
    }
   },
   "outputs": [],
   "source": [
    "# data['current']"
   ]
  },
  {
   "cell_type": "code",
   "execution_count": 7,
   "metadata": {
    "execution": {
     "iopub.execute_input": "2021-09-07T13:39:24.189719Z",
     "iopub.status.busy": "2021-09-07T13:39:24.189248Z",
     "iopub.status.idle": "2021-09-07T13:39:24.459164Z",
     "shell.execute_reply": "2021-09-07T13:39:24.459761Z"
    }
   },
   "outputs": [
    {
     "data": {
      "image/png": "[encoded data removed]",
      "text/plain": [
       "<Figure size 216x216 with 1 Axes>"
      ]
     },
     "metadata": {
      "needs_background": "light"
     },
     "output_type": "display_data"
    },
    {
     "name": "stdout",
     "output_type": "stream",
     "text": [
      "Today, sun rises at 06:07 and sets at 18:34.\n",
      "Currently, the weather is Rain (light rain).\n",
      "The temperature is 30.15°C and it feels like 37.15°C.\n",
      "The UV index is 0, humidity is 83%.\n",
      "The pressure is 1011 hPa, percentage of cloud cover is 21%\n",
      "The wind comes from ESE direction with a speed 3.56 m/s.\n"
     ]
    }
   ],
   "source": [
    "current = data['current']\r\n",
    "\r\n",
    "fig, ax = plt.subplots(figsize=(3, 3))\r\n",
    "icon = requests.get(f\"http://openweathermap.org/img/wn/{current['weather'][0]['icon']}@2x.png\")\r\n",
    "im = Image.open(BytesIO(icon.content))\r\n",
    "plt.imshow(im)\r\n",
    "ax.set_axis_off()\r\n",
    "plt.show()\r\n",
    "\r\n",
    "print(f\"Today, sun rises at {ts2dt(current['sunrise'], '%H:%M')[0]} \\\r\n",
    "and sets at {ts2dt(current['sunset'], '%H:%M')[0]}.\\n\\\r\n",
    "Currently, the weather is {current['weather'][0]['main']} ({current['weather'][0]['description']}).\\n\\\r\n",
    "The temperature is {current['temp']}°C and it feels like {current['feels_like']}°C.\\n\\\r\n",
    "The UV index is {current['uvi']}, humidity is {current['humidity']}%.\\n\\\r\n",
    "The pressure is {current['pressure']} hPa, percentage of cloud cover is {current['clouds']}%\\n\\\r\n",
    "The wind comes from {degrees_to_cardinal(current['wind_deg'])} direction with a speed {current['wind_speed']} m/s.\")"
   ]
  },
  {
   "cell_type": "code",
   "execution_count": 8,
   "metadata": {
    "execution": {
     "iopub.execute_input": "2021-09-07T13:39:24.466412Z",
     "iopub.status.busy": "2021-09-07T13:39:24.464427Z",
     "iopub.status.idle": "2021-09-07T13:39:24.469202Z",
     "shell.execute_reply": "2021-09-07T13:39:24.469767Z"
    }
   },
   "outputs": [],
   "source": [
    "df_hourly = pd.DataFrame(data['hourly'])\r\n",
    "df_daily = pd.DataFrame(data['daily'])"
   ]
  },
  {
   "cell_type": "code",
   "execution_count": 9,
   "metadata": {
    "execution": {
     "iopub.execute_input": "2021-09-07T13:39:24.485639Z",
     "iopub.status.busy": "2021-09-07T13:39:24.476587Z",
     "iopub.status.idle": "2021-09-07T13:39:24.713394Z",
     "shell.execute_reply": "2021-09-07T13:39:24.712984Z"
    }
   },
   "outputs": [
    {
     "data": {
      "image/png": "[encoded data removed]",
      "text/plain": [
       "<Figure size 864x432 with 1 Axes>"
      ]
     },
     "metadata": {
      "needs_background": "light"
     },
     "output_type": "display_data"
    }
   ],
   "source": [
    "fig, ax = plt.subplots(figsize=(12, 6))\r\n",
    "plt.plot(df_hourly.temp, '.-', label='Temperature')\r\n",
    "plt.plot(df_hourly.feels_like, '.-', label='Feels Like')\r\n",
    "ax.set(title='Temperature in future 48 hours', xlabel='Time', ylabel='Temperature')\r\n",
    "ax.set_xticks(list(range(0, len(df_hourly), 2)))\r\n",
    "ax.set_xticklabels([ts2dt(ts, '%m-%d %H:%M')[0] for i, ts in enumerate(df_hourly.dt) if i%2==0], \r\n",
    "                   rotation=45, ha=\"right\")\r\n",
    "ax.locator_params(nbins=15, axis='y')\r\n",
    "plt.legend()\r\n",
    "plt.show()"
   ]
  },
  {
   "cell_type": "code",
   "execution_count": 10,
   "metadata": {
    "execution": {
     "iopub.execute_input": "2021-09-07T13:39:24.724106Z",
     "iopub.status.busy": "2021-09-07T13:39:24.716927Z",
     "iopub.status.idle": "2021-09-07T13:39:24.734203Z",
     "shell.execute_reply": "2021-09-07T13:39:24.733523Z"
    }
   },
   "outputs": [
    {
     "data": {
      "text/html": [
       "<div>\n",
       "<style scoped>\n",
       "    .dataframe tbody tr th:only-of-type {\n",
       "        vertical-align: middle;\n",
       "    }\n",
       "\n",
       "    .dataframe tbody tr th {\n",
       "        vertical-align: top;\n",
       "    }\n",
       "\n",
       "    .dataframe thead th {\n",
       "        text-align: right;\n",
       "    }\n",
       "</style>\n",
       "<table border=\"1\" class=\"dataframe\">\n",
       "  <thead>\n",
       "    <tr style=\"text-align: right;\">\n",
       "      <th></th>\n",
       "      <th>dt</th>\n",
       "      <th>temp</th>\n",
       "      <th>feels_like</th>\n",
       "      <th>pressure</th>\n",
       "      <th>humidity</th>\n",
       "      <th>dew_point</th>\n",
       "      <th>uvi</th>\n",
       "      <th>clouds</th>\n",
       "      <th>visibility</th>\n",
       "      <th>wind_speed</th>\n",
       "      <th>wind_deg</th>\n",
       "      <th>wind_gust</th>\n",
       "      <th>weather</th>\n",
       "      <th>pop</th>\n",
       "      <th>rain</th>\n",
       "    </tr>\n",
       "  </thead>\n",
       "  <tbody>\n",
       "    <tr>\n",
       "      <th>0</th>\n",
       "      <td>1631019600</td>\n",
       "      <td>29.70</td>\n",
       "      <td>36.70</td>\n",
       "      <td>1011</td>\n",
       "      <td>84</td>\n",
       "      <td>26.70</td>\n",
       "      <td>0.0</td>\n",
       "      <td>19</td>\n",
       "      <td>10000</td>\n",
       "      <td>3.70</td>\n",
       "      <td>102</td>\n",
       "      <td>5.65</td>\n",
       "      <td>[{'id': 801, 'main': 'Clouds', 'description': ...</td>\n",
       "      <td>0.37</td>\n",
       "      <td>NaN</td>\n",
       "    </tr>\n",
       "    <tr>\n",
       "      <th>1</th>\n",
       "      <td>1631023200</td>\n",
       "      <td>30.15</td>\n",
       "      <td>37.15</td>\n",
       "      <td>1011</td>\n",
       "      <td>83</td>\n",
       "      <td>26.94</td>\n",
       "      <td>0.0</td>\n",
       "      <td>21</td>\n",
       "      <td>10000</td>\n",
       "      <td>3.56</td>\n",
       "      <td>105</td>\n",
       "      <td>5.58</td>\n",
       "      <td>[{'id': 500, 'main': 'Rain', 'description': 'l...</td>\n",
       "      <td>0.41</td>\n",
       "      <td>{'1h': 0.13}</td>\n",
       "    </tr>\n",
       "    <tr>\n",
       "      <th>2</th>\n",
       "      <td>1631026800</td>\n",
       "      <td>29.64</td>\n",
       "      <td>36.64</td>\n",
       "      <td>1011</td>\n",
       "      <td>84</td>\n",
       "      <td>26.64</td>\n",
       "      <td>0.0</td>\n",
       "      <td>22</td>\n",
       "      <td>10000</td>\n",
       "      <td>3.46</td>\n",
       "      <td>107</td>\n",
       "      <td>5.21</td>\n",
       "      <td>[{'id': 500, 'main': 'Rain', 'description': 'l...</td>\n",
       "      <td>0.48</td>\n",
       "      <td>{'1h': 0.12}</td>\n",
       "    </tr>\n",
       "    <tr>\n",
       "      <th>3</th>\n",
       "      <td>1631030400</td>\n",
       "      <td>29.09</td>\n",
       "      <td>36.09</td>\n",
       "      <td>1011</td>\n",
       "      <td>85</td>\n",
       "      <td>26.31</td>\n",
       "      <td>0.0</td>\n",
       "      <td>26</td>\n",
       "      <td>10000</td>\n",
       "      <td>2.97</td>\n",
       "      <td>107</td>\n",
       "      <td>4.15</td>\n",
       "      <td>[{'id': 500, 'main': 'Rain', 'description': 'l...</td>\n",
       "      <td>0.59</td>\n",
       "      <td>{'1h': 0.13}</td>\n",
       "    </tr>\n",
       "    <tr>\n",
       "      <th>4</th>\n",
       "      <td>1631034000</td>\n",
       "      <td>28.51</td>\n",
       "      <td>34.37</td>\n",
       "      <td>1010</td>\n",
       "      <td>85</td>\n",
       "      <td>25.74</td>\n",
       "      <td>0.0</td>\n",
       "      <td>28</td>\n",
       "      <td>10000</td>\n",
       "      <td>2.66</td>\n",
       "      <td>106</td>\n",
       "      <td>3.49</td>\n",
       "      <td>[{'id': 500, 'main': 'Rain', 'description': 'l...</td>\n",
       "      <td>0.76</td>\n",
       "      <td>{'1h': 0.14}</td>\n",
       "    </tr>\n",
       "  </tbody>\n",
       "</table>\n",
       "</div>"
      ],
      "text/plain": [
       "           dt   temp  feels_like  pressure  humidity  dew_point  uvi  clouds  \\\n",
       "0  1631019600  29.70       36.70      1011        84      26.70  0.0      19   \n",
       "1  1631023200  30.15       37.15      1011        83      26.94  0.0      21   \n",
       "2  1631026800  29.64       36.64      1011        84      26.64  0.0      22   \n",
       "3  1631030400  29.09       36.09      1011        85      26.31  0.0      26   \n",
       "4  1631034000  28.51       34.37      1010        85      25.74  0.0      28   \n",
       "\n",
       "   visibility  wind_speed  wind_deg  wind_gust  \\\n",
       "0       10000        3.70       102       5.65   \n",
       "1       10000        3.56       105       5.58   \n",
       "2       10000        3.46       107       5.21   \n",
       "3       10000        2.97       107       4.15   \n",
       "4       10000        2.66       106       3.49   \n",
       "\n",
       "                                             weather   pop          rain  \n",
       "0  [{'id': 801, 'main': 'Clouds', 'description': ...  0.37           NaN  \n",
       "1  [{'id': 500, 'main': 'Rain', 'description': 'l...  0.41  {'1h': 0.13}  \n",
       "2  [{'id': 500, 'main': 'Rain', 'description': 'l...  0.48  {'1h': 0.12}  \n",
       "3  [{'id': 500, 'main': 'Rain', 'description': 'l...  0.59  {'1h': 0.13}  \n",
       "4  [{'id': 500, 'main': 'Rain', 'description': 'l...  0.76  {'1h': 0.14}  "
      ]
     },
     "execution_count": 10,
     "metadata": {},
     "output_type": "execute_result"
    }
   ],
   "source": [
    "df_hourly.head()"
   ]
  },
  {
   "cell_type": "code",
   "execution_count": null,
   "metadata": {},
   "outputs": [],
   "source": []
  }
 ],
 "metadata": {
  "interpreter": {
   "hash": "c1b4cfe941b6d2466ad1fb5979e97da9cda8801728c8091b097ab734208fc00c"
  },
  "kernelspec": {
   "display_name": "Python 3.8.3 64-bit ('base': conda)",
   "name": "python3"
  },
  "language_info": {
   "codemirror_mode": {
    "name": "ipython",
    "version": 3
   },
   "file_extension": ".py",
   "mimetype": "text/x-python",
   "name": "python",
   "nbconvert_exporter": "python",
   "pygments_lexer": "ipython3",
   "version": "3.8.11"
  }
 },
 "nbformat": 4,
 "nbformat_minor": 2
}
