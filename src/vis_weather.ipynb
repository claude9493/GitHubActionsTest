{
 "cells": [
  {
   "cell_type": "code",
   "execution_count": 1,
   "metadata": {
    "execution": {
     "iopub.execute_input": "2021-09-11T02:27:41.544453Z",
     "iopub.status.busy": "2021-09-11T02:27:41.543716Z",
     "iopub.status.idle": "2021-09-11T02:27:42.827152Z",
     "shell.execute_reply": "2021-09-11T02:27:42.826094Z"
    }
   },
   "outputs": [],
   "source": [
    "import json, yaml, requests\r\n",
    "from datetime import datetime\r\n",
    "from dateutil import tz\r\n",
    "import pandas as pd\r\n",
    "from PIL import Image\r\n",
    "from io import BytesIO\r\n",
    "import matplotlib.pyplot as plt\r\n",
    "import seaborn\r\n",
    "\r\n",
    "CONFIG_PATH = \"../config/config.yaml\""
   ]
  },
  {
   "cell_type": "code",
   "execution_count": 2,
   "metadata": {
    "execution": {
     "iopub.execute_input": "2021-09-11T02:27:42.830556Z",
     "iopub.status.busy": "2021-09-11T02:27:42.829952Z",
     "iopub.status.idle": "2021-09-11T02:27:42.838267Z",
     "shell.execute_reply": "2021-09-11T02:27:42.838807Z"
    }
   },
   "outputs": [],
   "source": [
    "with open('../newest_ts', 'r') as f:\r\n",
    "    newest_ts = f.read()\r\n",
    "\r\n",
    "data_path = f\"../data/data_{newest_ts}.json\"\r\n",
    "with open(data_path, 'r') as f:\r\n",
    "    data = json.load(f)\r\n",
    "\r\n",
    "with open(CONFIG_PATH, \"r\") as stream:\r\n",
    "    config = yaml.safe_load(stream)\r\n",
    "\r\n",
    "TIME_ZONE = config['time_zone']\r\n",
    "DATETIME_FORMAT = config['dt_format']"
   ]
  },
  {
   "cell_type": "code",
   "execution_count": 3,
   "metadata": {
    "execution": {
     "iopub.execute_input": "2021-09-11T02:27:42.846125Z",
     "iopub.status.busy": "2021-09-11T02:27:42.845459Z",
     "iopub.status.idle": "2021-09-11T02:27:42.848835Z",
     "shell.execute_reply": "2021-09-11T02:27:42.849354Z"
    }
   },
   "outputs": [
    {
     "name": "stdout",
     "output_type": "stream",
     "text": [
      "Recent query happens at 2021-09-11 10:27:39 (CST).\n"
     ]
    }
   ],
   "source": [
    "def ts2dt(ts, format=DATETIME_FORMAT):\r\n",
    "    dt = (datetime.utcfromtimestamp(int(ts))\r\n",
    "                    .replace(tzinfo=tz.tzutc())\r\n",
    "                    # .astimezone(tz.tzlocal())\r\n",
    "                    .astimezone(tz.gettz(TIME_ZONE)))\r\n",
    "    return dt.strftime(format), dt\r\n",
    "\r\n",
    "_, newest_dt = ts2dt(newest_ts)\r\n",
    "print(f\"Recent query happens at {newest_dt.strftime(DATETIME_FORMAT)} ({newest_dt.tzname()}).\")"
   ]
  },
  {
   "cell_type": "code",
   "execution_count": 4,
   "metadata": {
    "execution": {
     "iopub.execute_input": "2021-09-11T02:27:42.855102Z",
     "iopub.status.busy": "2021-09-11T02:27:42.853982Z",
     "iopub.status.idle": "2021-09-11T02:27:42.858058Z",
     "shell.execute_reply": "2021-09-11T02:27:42.857577Z"
    }
   },
   "outputs": [],
   "source": [
    "def degrees_to_cardinal(d):\r\n",
    "  dirs = ['N', 'NNE', 'NE', 'ENE', 'E', 'ESE', 'SE', 'SSE', 'S', 'SSW', 'SW', 'WSW', 'W', 'WNW', 'NW', 'NNW']\r\n",
    "  ix = int(round(d / (360. / len(dirs))))\r\n",
    "  return dirs[ix % len(dirs)]"
   ]
  },
  {
   "cell_type": "code",
   "execution_count": 5,
   "metadata": {
    "execution": {
     "iopub.execute_input": "2021-09-11T02:27:42.862991Z",
     "iopub.status.busy": "2021-09-11T02:27:42.861694Z",
     "iopub.status.idle": "2021-09-11T02:27:42.863574Z",
     "shell.execute_reply": "2021-09-11T02:27:42.863983Z"
    }
   },
   "outputs": [],
   "source": [
    "# data.keys()"
   ]
  },
  {
   "cell_type": "code",
   "execution_count": 6,
   "metadata": {
    "execution": {
     "iopub.execute_input": "2021-09-11T02:27:42.868673Z",
     "iopub.status.busy": "2021-09-11T02:27:42.867499Z",
     "iopub.status.idle": "2021-09-11T02:27:42.869281Z",
     "shell.execute_reply": "2021-09-11T02:27:42.869732Z"
    }
   },
   "outputs": [],
   "source": [
    "# data['current']"
   ]
  },
  {
   "cell_type": "code",
   "execution_count": 7,
   "metadata": {
    "execution": {
     "iopub.execute_input": "2021-09-11T02:27:42.891065Z",
     "iopub.status.busy": "2021-09-11T02:27:42.886102Z",
     "iopub.status.idle": "2021-09-11T02:27:43.321111Z",
     "shell.execute_reply": "2021-09-11T02:27:43.321836Z"
    }
   },
   "outputs": [
    {
     "data": {
      "image/png": "[encoded data removed]",
      "text/plain": [
       "<Figure size 216x216 with 1 Axes>"
      ]
     },
     "metadata": {
      "needs_background": "light"
     },
     "output_type": "display_data"
    },
    {
     "name": "stdout",
     "output_type": "stream",
     "text": [
      "Today, sun rises at 06:08 and sets at 18:31.\n",
      "Currently, the weather is Clouds (overcast clouds).\n",
      "The temperature is 31.72°C and it feels like 38.72°C.\n",
      "The UV index is 6.52, humidity is 72%.\n",
      "The pressure is 1007 hPa, percentage of cloud cover is 97%\n",
      "The wind comes from SSE direction with a speed 1.5 m/s.\n"
     ]
    }
   ],
   "source": [
    "current = data['current']\r\n",
    "\r\n",
    "fig, ax = plt.subplots(figsize=(3, 3))\r\n",
    "icon = requests.get(f\"http://openweathermap.org/img/wn/{current['weather'][0]['icon']}@2x.png\")\r\n",
    "im = Image.open(BytesIO(icon.content))\r\n",
    "plt.imshow(im)\r\n",
    "ax.set_axis_off()\r\n",
    "plt.show()\r\n",
    "\r\n",
    "print(f\"Today, sun rises at {ts2dt(current['sunrise'], '%H:%M')[0]} \\\r\n",
    "and sets at {ts2dt(current['sunset'], '%H:%M')[0]}.\\n\\\r\n",
    "Currently, the weather is {current['weather'][0]['main']} ({current['weather'][0]['description']}).\\n\\\r\n",
    "The temperature is {current['temp']}°C and it feels like {current['feels_like']}°C.\\n\\\r\n",
    "The UV index is {current['uvi']}, humidity is {current['humidity']}%.\\n\\\r\n",
    "The pressure is {current['pressure']} hPa, percentage of cloud cover is {current['clouds']}%\\n\\\r\n",
    "The wind comes from {degrees_to_cardinal(current['wind_deg'])} direction with a speed {current['wind_speed']} m/s.\")"
   ]
  },
  {
   "cell_type": "code",
   "execution_count": 8,
   "metadata": {
    "execution": {
     "iopub.execute_input": "2021-09-11T02:27:43.325085Z",
     "iopub.status.busy": "2021-09-11T02:27:43.324537Z",
     "iopub.status.idle": "2021-09-11T02:27:43.331857Z",
     "shell.execute_reply": "2021-09-11T02:27:43.332547Z"
    }
   },
   "outputs": [],
   "source": [
    "df_hourly = pd.DataFrame(data['hourly'])\r\n",
    "df_daily = pd.DataFrame(data['daily'])"
   ]
  },
  {
   "cell_type": "code",
   "execution_count": 9,
   "metadata": {
    "execution": {
     "iopub.execute_input": "2021-09-11T02:27:43.335937Z",
     "iopub.status.busy": "2021-09-11T02:27:43.334817Z",
     "iopub.status.idle": "2021-09-11T02:27:43.676640Z",
     "shell.execute_reply": "2021-09-11T02:27:43.676142Z"
    }
   },
   "outputs": [
    {
     "data": {
      "image/png": "[encoded data removed]",
      "text/plain": [
       "<Figure size 864x432 with 1 Axes>"
      ]
     },
     "metadata": {
      "needs_background": "light"
     },
     "output_type": "display_data"
    }
   ],
   "source": [
    "fig, ax = plt.subplots(figsize=(12, 6))\r\n",
    "plt.plot(df_hourly.temp, '.-', label='Temperature')\r\n",
    "plt.plot(df_hourly.feels_like, '.-', label='Feels Like')\r\n",
    "ax.set(title='Temperature in future 48 hours', xlabel='Time', ylabel='Temperature')\r\n",
    "ax.set_xticks(list(range(0, len(df_hourly), 2)))\r\n",
    "ax.set_xticklabels([ts2dt(ts, '%m-%d %H:%M')[0] for i, ts in enumerate(df_hourly.dt) if i%2==0], \r\n",
    "                   rotation=45, ha=\"right\")\r\n",
    "ax.locator_params(nbins=15, axis='y')\r\n",
    "plt.legend()\r\n",
    "plt.show()"
   ]
  },
  {
   "cell_type": "code",
   "execution_count": 10,
   "metadata": {
    "execution": {
     "iopub.execute_input": "2021-09-11T02:27:43.689711Z",
     "iopub.status.busy": "2021-09-11T02:27:43.681072Z",
     "iopub.status.idle": "2021-09-11T02:27:43.701900Z",
     "shell.execute_reply": "2021-09-11T02:27:43.702396Z"
    }
   },
   "outputs": [
    {
     "data": {
      "text/html": [
       "<div>\n",
       "<style scoped>\n",
       "    .dataframe tbody tr th:only-of-type {\n",
       "        vertical-align: middle;\n",
       "    }\n",
       "\n",
       "    .dataframe tbody tr th {\n",
       "        vertical-align: top;\n",
       "    }\n",
       "\n",
       "    .dataframe thead th {\n",
       "        text-align: right;\n",
       "    }\n",
       "</style>\n",
       "<table border=\"1\" class=\"dataframe\">\n",
       "  <thead>\n",
       "    <tr style=\"text-align: right;\">\n",
       "      <th></th>\n",
       "      <th>dt</th>\n",
       "      <th>temp</th>\n",
       "      <th>feels_like</th>\n",
       "      <th>pressure</th>\n",
       "      <th>humidity</th>\n",
       "      <th>dew_point</th>\n",
       "      <th>uvi</th>\n",
       "      <th>clouds</th>\n",
       "      <th>visibility</th>\n",
       "      <th>wind_speed</th>\n",
       "      <th>wind_deg</th>\n",
       "      <th>wind_gust</th>\n",
       "      <th>weather</th>\n",
       "      <th>pop</th>\n",
       "      <th>rain</th>\n",
       "    </tr>\n",
       "  </thead>\n",
       "  <tbody>\n",
       "    <tr>\n",
       "      <th>0</th>\n",
       "      <td>1631325600</td>\n",
       "      <td>31.72</td>\n",
       "      <td>38.72</td>\n",
       "      <td>1007</td>\n",
       "      <td>72</td>\n",
       "      <td>26.05</td>\n",
       "      <td>6.52</td>\n",
       "      <td>97</td>\n",
       "      <td>10000</td>\n",
       "      <td>1.50</td>\n",
       "      <td>155</td>\n",
       "      <td>1.12</td>\n",
       "      <td>[{'id': 804, 'main': 'Clouds', 'description': ...</td>\n",
       "      <td>0.34</td>\n",
       "      <td>NaN</td>\n",
       "    </tr>\n",
       "    <tr>\n",
       "      <th>1</th>\n",
       "      <td>1631329200</td>\n",
       "      <td>31.58</td>\n",
       "      <td>38.58</td>\n",
       "      <td>1007</td>\n",
       "      <td>70</td>\n",
       "      <td>25.44</td>\n",
       "      <td>9.29</td>\n",
       "      <td>96</td>\n",
       "      <td>10000</td>\n",
       "      <td>1.55</td>\n",
       "      <td>222</td>\n",
       "      <td>1.98</td>\n",
       "      <td>[{'id': 804, 'main': 'Clouds', 'description': ...</td>\n",
       "      <td>0.33</td>\n",
       "      <td>NaN</td>\n",
       "    </tr>\n",
       "    <tr>\n",
       "      <th>2</th>\n",
       "      <td>1631332800</td>\n",
       "      <td>31.68</td>\n",
       "      <td>38.68</td>\n",
       "      <td>1006</td>\n",
       "      <td>68</td>\n",
       "      <td>25.04</td>\n",
       "      <td>9.21</td>\n",
       "      <td>93</td>\n",
       "      <td>10000</td>\n",
       "      <td>2.92</td>\n",
       "      <td>254</td>\n",
       "      <td>3.62</td>\n",
       "      <td>[{'id': 804, 'main': 'Clouds', 'description': ...</td>\n",
       "      <td>0.29</td>\n",
       "      <td>NaN</td>\n",
       "    </tr>\n",
       "    <tr>\n",
       "      <th>3</th>\n",
       "      <td>1631336400</td>\n",
       "      <td>31.53</td>\n",
       "      <td>37.77</td>\n",
       "      <td>1005</td>\n",
       "      <td>66</td>\n",
       "      <td>24.40</td>\n",
       "      <td>9.04</td>\n",
       "      <td>85</td>\n",
       "      <td>10000</td>\n",
       "      <td>3.95</td>\n",
       "      <td>247</td>\n",
       "      <td>4.28</td>\n",
       "      <td>[{'id': 804, 'main': 'Clouds', 'description': ...</td>\n",
       "      <td>0.29</td>\n",
       "      <td>NaN</td>\n",
       "    </tr>\n",
       "    <tr>\n",
       "      <th>4</th>\n",
       "      <td>1631340000</td>\n",
       "      <td>30.63</td>\n",
       "      <td>36.07</td>\n",
       "      <td>1005</td>\n",
       "      <td>68</td>\n",
       "      <td>24.05</td>\n",
       "      <td>7.45</td>\n",
       "      <td>83</td>\n",
       "      <td>10000</td>\n",
       "      <td>4.23</td>\n",
       "      <td>237</td>\n",
       "      <td>4.42</td>\n",
       "      <td>[{'id': 500, 'main': 'Rain', 'description': 'l...</td>\n",
       "      <td>0.34</td>\n",
       "      <td>{'1h': 0.32}</td>\n",
       "    </tr>\n",
       "  </tbody>\n",
       "</table>\n",
       "</div>"
      ],
      "text/plain": [
       "           dt   temp  feels_like  pressure  humidity  dew_point   uvi  clouds  \\\n",
       "0  1631325600  31.72       38.72      1007        72      26.05  6.52      97   \n",
       "1  1631329200  31.58       38.58      1007        70      25.44  9.29      96   \n",
       "2  1631332800  31.68       38.68      1006        68      25.04  9.21      93   \n",
       "3  1631336400  31.53       37.77      1005        66      24.40  9.04      85   \n",
       "4  1631340000  30.63       36.07      1005        68      24.05  7.45      83   \n",
       "\n",
       "   visibility  wind_speed  wind_deg  wind_gust  \\\n",
       "0       10000        1.50       155       1.12   \n",
       "1       10000        1.55       222       1.98   \n",
       "2       10000        2.92       254       3.62   \n",
       "3       10000        3.95       247       4.28   \n",
       "4       10000        4.23       237       4.42   \n",
       "\n",
       "                                             weather   pop          rain  \n",
       "0  [{'id': 804, 'main': 'Clouds', 'description': ...  0.34           NaN  \n",
       "1  [{'id': 804, 'main': 'Clouds', 'description': ...  0.33           NaN  \n",
       "2  [{'id': 804, 'main': 'Clouds', 'description': ...  0.29           NaN  \n",
       "3  [{'id': 804, 'main': 'Clouds', 'description': ...  0.29           NaN  \n",
       "4  [{'id': 500, 'main': 'Rain', 'description': 'l...  0.34  {'1h': 0.32}  "
      ]
     },
     "execution_count": 10,
     "metadata": {},
     "output_type": "execute_result"
    }
   ],
   "source": [
    "df_hourly.head()"
   ]
  },
  {
   "cell_type": "code",
   "execution_count": null,
   "metadata": {},
   "outputs": [],
   "source": []
  }
 ],
 "metadata": {
  "interpreter": {
   "hash": "c1b4cfe941b6d2466ad1fb5979e97da9cda8801728c8091b097ab734208fc00c"
  },
  "kernelspec": {
   "display_name": "Python 3.8.3 64-bit ('base': conda)",
   "name": "python3"
  },
  "language_info": {
   "codemirror_mode": {
    "name": "ipython",
    "version": 3
   },
   "file_extension": ".py",
   "mimetype": "text/x-python",
   "name": "python",
   "nbconvert_exporter": "python",
   "pygments_lexer": "ipython3",
   "version": "3.8.11"
  }
 },
 "nbformat": 4,
 "nbformat_minor": 2
}
