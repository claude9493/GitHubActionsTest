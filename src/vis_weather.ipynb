{
 "cells": [
  {
   "cell_type": "code",
   "execution_count": 1,
   "metadata": {
    "execution": {
     "iopub.execute_input": "2021-09-29T05:10:26.620944Z",
     "iopub.status.busy": "2021-09-29T05:10:26.620349Z",
     "iopub.status.idle": "2021-09-29T05:10:28.761884Z",
     "shell.execute_reply": "2021-09-29T05:10:28.761254Z"
    }
   },
   "outputs": [],
   "source": [
    "import json, yaml, requests\r\n",
    "from datetime import datetime\r\n",
    "from dateutil import tz\r\n",
    "import pandas as pd\r\n",
    "from PIL import Image\r\n",
    "from io import BytesIO\r\n",
    "import matplotlib.pyplot as plt\r\n",
    "import seaborn\r\n",
    "\r\n",
    "CONFIG_PATH = \"../config/config.yaml\""
   ]
  },
  {
   "cell_type": "code",
   "execution_count": 2,
   "metadata": {
    "execution": {
     "iopub.execute_input": "2021-09-29T05:10:28.769313Z",
     "iopub.status.busy": "2021-09-29T05:10:28.766355Z",
     "iopub.status.idle": "2021-09-29T05:10:28.771887Z",
     "shell.execute_reply": "2021-09-29T05:10:28.771446Z"
    }
   },
   "outputs": [],
   "source": [
    "with open('../newest_ts', 'r') as f:\r\n",
    "    newest_ts = f.read()\r\n",
    "\r\n",
    "data_path = f\"../data/data_{newest_ts}.json\"\r\n",
    "with open(data_path, 'r') as f:\r\n",
    "    data = json.load(f)\r\n",
    "\r\n",
    "with open(CONFIG_PATH, \"r\") as stream:\r\n",
    "    config = yaml.safe_load(stream)\r\n",
    "\r\n",
    "TIME_ZONE = config['time_zone']\r\n",
    "DATETIME_FORMAT = config['dt_format']"
   ]
  },
  {
   "cell_type": "code",
   "execution_count": 3,
   "metadata": {
    "execution": {
     "iopub.execute_input": "2021-09-29T05:10:28.776053Z",
     "iopub.status.busy": "2021-09-29T05:10:28.775588Z",
     "iopub.status.idle": "2021-09-29T05:10:28.780090Z",
     "shell.execute_reply": "2021-09-29T05:10:28.780461Z"
    }
   },
   "outputs": [
    {
     "name": "stdout",
     "output_type": "stream",
     "text": [
      "Recent query happens at 2021-09-29 13:10:23 (CST).\n"
     ]
    }
   ],
   "source": [
    "def ts2dt(ts, format=DATETIME_FORMAT):\r\n",
    "    dt = (datetime.utcfromtimestamp(int(ts))\r\n",
    "                    .replace(tzinfo=tz.tzutc())\r\n",
    "                    # .astimezone(tz.tzlocal())\r\n",
    "                    .astimezone(tz.gettz(TIME_ZONE)))\r\n",
    "    return dt.strftime(format), dt\r\n",
    "\r\n",
    "_, newest_dt = ts2dt(newest_ts)\r\n",
    "print(f\"Recent query happens at {newest_dt.strftime(DATETIME_FORMAT)} ({newest_dt.tzname()}).\")"
   ]
  },
  {
   "cell_type": "code",
   "execution_count": 4,
   "metadata": {
    "execution": {
     "iopub.execute_input": "2021-09-29T05:10:28.785494Z",
     "iopub.status.busy": "2021-09-29T05:10:28.784371Z",
     "iopub.status.idle": "2021-09-29T05:10:28.786022Z",
     "shell.execute_reply": "2021-09-29T05:10:28.786386Z"
    }
   },
   "outputs": [],
   "source": [
    "def degrees_to_cardinal(d):\r\n",
    "  dirs = ['N', 'NNE', 'NE', 'ENE', 'E', 'ESE', 'SE', 'SSE', 'S', 'SSW', 'SW', 'WSW', 'W', 'WNW', 'NW', 'NNW']\r\n",
    "  ix = int(round(d / (360. / len(dirs))))\r\n",
    "  return dirs[ix % len(dirs)]"
   ]
  },
  {
   "cell_type": "code",
   "execution_count": 5,
   "metadata": {
    "execution": {
     "iopub.execute_input": "2021-09-29T05:10:28.790475Z",
     "iopub.status.busy": "2021-09-29T05:10:28.789371Z",
     "iopub.status.idle": "2021-09-29T05:10:28.791002Z",
     "shell.execute_reply": "2021-09-29T05:10:28.791369Z"
    }
   },
   "outputs": [],
   "source": [
    "# data.keys()"
   ]
  },
  {
   "cell_type": "code",
   "execution_count": 6,
   "metadata": {
    "execution": {
     "iopub.execute_input": "2021-09-29T05:10:28.794954Z",
     "iopub.status.busy": "2021-09-29T05:10:28.793955Z",
     "iopub.status.idle": "2021-09-29T05:10:28.795490Z",
     "shell.execute_reply": "2021-09-29T05:10:28.795858Z"
    }
   },
   "outputs": [],
   "source": [
    "# data['current']"
   ]
  },
  {
   "cell_type": "code",
   "execution_count": 7,
   "metadata": {
    "execution": {
     "iopub.execute_input": "2021-09-29T05:10:28.811884Z",
     "iopub.status.busy": "2021-09-29T05:10:28.801346Z",
     "iopub.status.idle": "2021-09-29T05:10:29.210490Z",
     "shell.execute_reply": "2021-09-29T05:10:29.211168Z"
    }
   },
   "outputs": [
    {
     "data": {
      "image/png": "[encoded data removed]",
      "text/plain": [
       "<Figure size 216x216 with 1 Axes>"
      ]
     },
     "metadata": {
      "needs_background": "light"
     },
     "output_type": "display_data"
    },
    {
     "name": "stdout",
     "output_type": "stream",
     "text": [
      "Today, sun rises at 06:13 and sets at 18:12.\n",
      "Currently, the weather is Clouds (few clouds).\n",
      "The temperature is 31.74°C and it feels like 38.74°C.\n",
      "The UV index is 9.34, humidity is 82%.\n",
      "The pressure is 1006 hPa, percentage of cloud cover is 14%\n",
      "The wind comes from WSW direction with a speed 1.34 m/s.\n"
     ]
    }
   ],
   "source": [
    "current = data['current']\r\n",
    "\r\n",
    "fig, ax = plt.subplots(figsize=(3, 3))\r\n",
    "icon = requests.get(f\"http://openweathermap.org/img/wn/{current['weather'][0]['icon']}@2x.png\")\r\n",
    "im = Image.open(BytesIO(icon.content))\r\n",
    "plt.imshow(im)\r\n",
    "ax.set_axis_off()\r\n",
    "plt.show()\r\n",
    "\r\n",
    "print(f\"Today, sun rises at {ts2dt(current['sunrise'], '%H:%M')[0]} \\\r\n",
    "and sets at {ts2dt(current['sunset'], '%H:%M')[0]}.\\n\\\r\n",
    "Currently, the weather is {current['weather'][0]['main']} ({current['weather'][0]['description']}).\\n\\\r\n",
    "The temperature is {current['temp']}°C and it feels like {current['feels_like']}°C.\\n\\\r\n",
    "The UV index is {current['uvi']}, humidity is {current['humidity']}%.\\n\\\r\n",
    "The pressure is {current['pressure']} hPa, percentage of cloud cover is {current['clouds']}%\\n\\\r\n",
    "The wind comes from {degrees_to_cardinal(current['wind_deg'])} direction with a speed {current['wind_speed']} m/s.\")"
   ]
  },
  {
   "cell_type": "code",
   "execution_count": 8,
   "metadata": {
    "execution": {
     "iopub.execute_input": "2021-09-29T05:10:29.214419Z",
     "iopub.status.busy": "2021-09-29T05:10:29.213493Z",
     "iopub.status.idle": "2021-09-29T05:10:29.220454Z",
     "shell.execute_reply": "2021-09-29T05:10:29.221093Z"
    }
   },
   "outputs": [],
   "source": [
    "df_hourly = pd.DataFrame(data['hourly'])\r\n",
    "df_daily = pd.DataFrame(data['daily'])"
   ]
  },
  {
   "cell_type": "code",
   "execution_count": 9,
   "metadata": {
    "execution": {
     "iopub.execute_input": "2021-09-29T05:10:29.224272Z",
     "iopub.status.busy": "2021-09-29T05:10:29.223225Z",
     "iopub.status.idle": "2021-09-29T05:10:29.474901Z",
     "shell.execute_reply": "2021-09-29T05:10:29.475293Z"
    }
   },
   "outputs": [
    {
     "data": {
      "image/png": "[encoded data removed]",
      "text/plain": [
       "<Figure size 864x432 with 1 Axes>"
      ]
     },
     "metadata": {
      "needs_background": "light"
     },
     "output_type": "display_data"
    }
   ],
   "source": [
    "fig, ax = plt.subplots(figsize=(12, 6))\r\n",
    "plt.plot(df_hourly.temp, '.-', label='Temperature')\r\n",
    "plt.plot(df_hourly.feels_like, '.-', label='Feels Like')\r\n",
    "ax.set(title='Temperature in future 48 hours', xlabel='Time', ylabel='Temperature')\r\n",
    "ax.set_xticks(list(range(0, len(df_hourly), 2)))\r\n",
    "ax.set_xticklabels([ts2dt(ts, '%m-%d %H:%M')[0] for i, ts in enumerate(df_hourly.dt) if i%2==0], \r\n",
    "                   rotation=45, ha=\"right\")\r\n",
    "ax.locator_params(nbins=15, axis='y')\r\n",
    "plt.legend()\r\n",
    "plt.show()"
   ]
  },
  {
   "cell_type": "code",
   "execution_count": 10,
   "metadata": {
    "execution": {
     "iopub.execute_input": "2021-09-29T05:10:29.487348Z",
     "iopub.status.busy": "2021-09-29T05:10:29.479544Z",
     "iopub.status.idle": "2021-09-29T05:10:29.498336Z",
     "shell.execute_reply": "2021-09-29T05:10:29.497933Z"
    }
   },
   "outputs": [
    {
     "data": {
      "text/html": [
       "<div>\n",
       "<style scoped>\n",
       "    .dataframe tbody tr th:only-of-type {\n",
       "        vertical-align: middle;\n",
       "    }\n",
       "\n",
       "    .dataframe tbody tr th {\n",
       "        vertical-align: top;\n",
       "    }\n",
       "\n",
       "    .dataframe thead th {\n",
       "        text-align: right;\n",
       "    }\n",
       "</style>\n",
       "<table border=\"1\" class=\"dataframe\">\n",
       "  <thead>\n",
       "    <tr style=\"text-align: right;\">\n",
       "      <th></th>\n",
       "      <th>dt</th>\n",
       "      <th>temp</th>\n",
       "      <th>feels_like</th>\n",
       "      <th>pressure</th>\n",
       "      <th>humidity</th>\n",
       "      <th>dew_point</th>\n",
       "      <th>uvi</th>\n",
       "      <th>clouds</th>\n",
       "      <th>visibility</th>\n",
       "      <th>wind_speed</th>\n",
       "      <th>wind_deg</th>\n",
       "      <th>wind_gust</th>\n",
       "      <th>weather</th>\n",
       "      <th>pop</th>\n",
       "      <th>rain</th>\n",
       "    </tr>\n",
       "  </thead>\n",
       "  <tbody>\n",
       "    <tr>\n",
       "      <th>0</th>\n",
       "      <td>1632891600</td>\n",
       "      <td>31.74</td>\n",
       "      <td>38.74</td>\n",
       "      <td>1006</td>\n",
       "      <td>82</td>\n",
       "      <td>28.28</td>\n",
       "      <td>9.34</td>\n",
       "      <td>14</td>\n",
       "      <td>10000</td>\n",
       "      <td>3.92</td>\n",
       "      <td>212</td>\n",
       "      <td>3.54</td>\n",
       "      <td>[{'id': 801, 'main': 'Clouds', 'description': ...</td>\n",
       "      <td>0.00</td>\n",
       "      <td>NaN</td>\n",
       "    </tr>\n",
       "    <tr>\n",
       "      <th>1</th>\n",
       "      <td>1632895200</td>\n",
       "      <td>31.40</td>\n",
       "      <td>38.40</td>\n",
       "      <td>1006</td>\n",
       "      <td>79</td>\n",
       "      <td>27.31</td>\n",
       "      <td>7.62</td>\n",
       "      <td>15</td>\n",
       "      <td>10000</td>\n",
       "      <td>4.08</td>\n",
       "      <td>208</td>\n",
       "      <td>3.66</td>\n",
       "      <td>[{'id': 801, 'main': 'Clouds', 'description': ...</td>\n",
       "      <td>0.00</td>\n",
       "      <td>NaN</td>\n",
       "    </tr>\n",
       "    <tr>\n",
       "      <th>2</th>\n",
       "      <td>1632898800</td>\n",
       "      <td>31.02</td>\n",
       "      <td>38.02</td>\n",
       "      <td>1006</td>\n",
       "      <td>77</td>\n",
       "      <td>26.51</td>\n",
       "      <td>5.14</td>\n",
       "      <td>19</td>\n",
       "      <td>10000</td>\n",
       "      <td>4.17</td>\n",
       "      <td>201</td>\n",
       "      <td>4.00</td>\n",
       "      <td>[{'id': 801, 'main': 'Clouds', 'description': ...</td>\n",
       "      <td>0.08</td>\n",
       "      <td>NaN</td>\n",
       "    </tr>\n",
       "    <tr>\n",
       "      <th>3</th>\n",
       "      <td>1632902400</td>\n",
       "      <td>30.62</td>\n",
       "      <td>37.62</td>\n",
       "      <td>1006</td>\n",
       "      <td>76</td>\n",
       "      <td>25.90</td>\n",
       "      <td>2.51</td>\n",
       "      <td>21</td>\n",
       "      <td>10000</td>\n",
       "      <td>4.24</td>\n",
       "      <td>201</td>\n",
       "      <td>3.95</td>\n",
       "      <td>[{'id': 801, 'main': 'Clouds', 'description': ...</td>\n",
       "      <td>0.08</td>\n",
       "      <td>NaN</td>\n",
       "    </tr>\n",
       "    <tr>\n",
       "      <th>4</th>\n",
       "      <td>1632906000</td>\n",
       "      <td>29.98</td>\n",
       "      <td>36.24</td>\n",
       "      <td>1006</td>\n",
       "      <td>75</td>\n",
       "      <td>25.06</td>\n",
       "      <td>0.78</td>\n",
       "      <td>22</td>\n",
       "      <td>10000</td>\n",
       "      <td>3.74</td>\n",
       "      <td>207</td>\n",
       "      <td>3.65</td>\n",
       "      <td>[{'id': 801, 'main': 'Clouds', 'description': ...</td>\n",
       "      <td>0.09</td>\n",
       "      <td>NaN</td>\n",
       "    </tr>\n",
       "  </tbody>\n",
       "</table>\n",
       "</div>"
      ],
      "text/plain": [
       "           dt   temp  feels_like  pressure  humidity  dew_point   uvi  clouds  \\\n",
       "0  1632891600  31.74       38.74      1006        82      28.28  9.34      14   \n",
       "1  1632895200  31.40       38.40      1006        79      27.31  7.62      15   \n",
       "2  1632898800  31.02       38.02      1006        77      26.51  5.14      19   \n",
       "3  1632902400  30.62       37.62      1006        76      25.90  2.51      21   \n",
       "4  1632906000  29.98       36.24      1006        75      25.06  0.78      22   \n",
       "\n",
       "   visibility  wind_speed  wind_deg  wind_gust  \\\n",
       "0       10000        3.92       212       3.54   \n",
       "1       10000        4.08       208       3.66   \n",
       "2       10000        4.17       201       4.00   \n",
       "3       10000        4.24       201       3.95   \n",
       "4       10000        3.74       207       3.65   \n",
       "\n",
       "                                             weather   pop rain  \n",
       "0  [{'id': 801, 'main': 'Clouds', 'description': ...  0.00  NaN  \n",
       "1  [{'id': 801, 'main': 'Clouds', 'description': ...  0.00  NaN  \n",
       "2  [{'id': 801, 'main': 'Clouds', 'description': ...  0.08  NaN  \n",
       "3  [{'id': 801, 'main': 'Clouds', 'description': ...  0.08  NaN  \n",
       "4  [{'id': 801, 'main': 'Clouds', 'description': ...  0.09  NaN  "
      ]
     },
     "execution_count": 10,
     "metadata": {},
     "output_type": "execute_result"
    }
   ],
   "source": [
    "df_hourly.head()"
   ]
  },
  {
   "cell_type": "code",
   "execution_count": null,
   "metadata": {},
   "outputs": [],
   "source": []
  }
 ],
 "metadata": {
  "interpreter": {
   "hash": "c1b4cfe941b6d2466ad1fb5979e97da9cda8801728c8091b097ab734208fc00c"
  },
  "kernelspec": {
   "display_name": "Python 3.8.3 64-bit ('base': conda)",
   "name": "python3"
  },
  "language_info": {
   "codemirror_mode": {
    "name": "ipython",
    "version": 3
   },
   "file_extension": ".py",
   "mimetype": "text/x-python",
   "name": "python",
   "nbconvert_exporter": "python",
   "pygments_lexer": "ipython3",
   "version": "3.8.12"
  }
 },
 "nbformat": 4,
 "nbformat_minor": 2
}
