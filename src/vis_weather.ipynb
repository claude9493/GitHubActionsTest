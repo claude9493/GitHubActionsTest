{
 "cells": [
  {
   "cell_type": "code",
   "execution_count": 1,
   "metadata": {
    "execution": {
     "iopub.execute_input": "2021-08-23T23:39:07.355468Z",
     "iopub.status.busy": "2021-08-23T23:39:07.354836Z",
     "iopub.status.idle": "2021-08-23T23:39:11.880560Z",
     "shell.execute_reply": "2021-08-23T23:39:11.881316Z"
    }
   },
   "outputs": [],
   "source": [
    "import json, yaml, requests\r\n",
    "from datetime import datetime\r\n",
    "from dateutil import tz\r\n",
    "import pandas as pd\r\n",
    "from PIL import Image\r\n",
    "from io import BytesIO\r\n",
    "import matplotlib.pyplot as plt\r\n",
    "import seaborn\r\n",
    "\r\n",
    "CONFIG_PATH = \"../config/config.yaml\""
   ]
  },
  {
   "cell_type": "code",
   "execution_count": 2,
   "metadata": {
    "execution": {
     "iopub.execute_input": "2021-08-23T23:39:11.886556Z",
     "iopub.status.busy": "2021-08-23T23:39:11.884039Z",
     "iopub.status.idle": "2021-08-23T23:39:11.892190Z",
     "shell.execute_reply": "2021-08-23T23:39:11.891714Z"
    }
   },
   "outputs": [],
   "source": [
    "with open('../newest_ts', 'r') as f:\r\n",
    "    newest_ts = f.read()\r\n",
    "\r\n",
    "data_path = f\"../data/data_{newest_ts}.json\"\r\n",
    "with open(data_path, 'r') as f:\r\n",
    "    data = json.load(f)\r\n",
    "\r\n",
    "with open(CONFIG_PATH, \"r\") as stream:\r\n",
    "    config = yaml.safe_load(stream)\r\n",
    "\r\n",
    "TIME_ZONE = config['time_zone']\r\n",
    "DATETIME_FORMAT = config['dt_format']"
   ]
  },
  {
   "cell_type": "code",
   "execution_count": 3,
   "metadata": {
    "execution": {
     "iopub.execute_input": "2021-08-23T23:39:11.899892Z",
     "iopub.status.busy": "2021-08-23T23:39:11.894397Z",
     "iopub.status.idle": "2021-08-23T23:39:11.903960Z",
     "shell.execute_reply": "2021-08-23T23:39:11.904449Z"
    }
   },
   "outputs": [
    {
     "name": "stdout",
     "output_type": "stream",
     "text": [
      "Recent query happens at 2021-08-24 07:39:03 (CST).\n"
     ]
    }
   ],
   "source": [
    "def ts2dt(ts, format=DATETIME_FORMAT):\r\n",
    "    dt = (datetime.utcfromtimestamp(int(ts))\r\n",
    "                    .replace(tzinfo=tz.tzutc())\r\n",
    "                    # .astimezone(tz.tzlocal())\r\n",
    "                    .astimezone(tz.gettz(TIME_ZONE)))\r\n",
    "    return dt.strftime(format), dt\r\n",
    "\r\n",
    "_, newest_dt = ts2dt(newest_ts)\r\n",
    "print(f\"Recent query happens at {newest_dt.strftime(DATETIME_FORMAT)} ({newest_dt.tzname()}).\")"
   ]
  },
  {
   "cell_type": "code",
   "execution_count": 4,
   "metadata": {
    "execution": {
     "iopub.execute_input": "2021-08-23T23:39:11.909449Z",
     "iopub.status.busy": "2021-08-23T23:39:11.908878Z",
     "iopub.status.idle": "2021-08-23T23:39:11.911332Z",
     "shell.execute_reply": "2021-08-23T23:39:11.910839Z"
    }
   },
   "outputs": [],
   "source": [
    "def degrees_to_cardinal(d):\r\n",
    "  dirs = ['N', 'NNE', 'NE', 'ENE', 'E', 'ESE', 'SE', 'SSE', 'S', 'SSW', 'SW', 'WSW', 'W', 'WNW', 'NW', 'NNW']\r\n",
    "  ix = int(round(d / (360. / len(dirs))))\r\n",
    "  return dirs[ix % len(dirs)]"
   ]
  },
  {
   "cell_type": "code",
   "execution_count": 5,
   "metadata": {
    "execution": {
     "iopub.execute_input": "2021-08-23T23:39:11.917062Z",
     "iopub.status.busy": "2021-08-23T23:39:11.915117Z",
     "iopub.status.idle": "2021-08-23T23:39:11.917713Z",
     "shell.execute_reply": "2021-08-23T23:39:11.918171Z"
    }
   },
   "outputs": [],
   "source": [
    "# data.keys()"
   ]
  },
  {
   "cell_type": "code",
   "execution_count": 6,
   "metadata": {
    "execution": {
     "iopub.execute_input": "2021-08-23T23:39:11.923102Z",
     "iopub.status.busy": "2021-08-23T23:39:11.921296Z",
     "iopub.status.idle": "2021-08-23T23:39:11.923778Z",
     "shell.execute_reply": "2021-08-23T23:39:11.924251Z"
    }
   },
   "outputs": [],
   "source": [
    "# data['current']"
   ]
  },
  {
   "cell_type": "code",
   "execution_count": 7,
   "metadata": {
    "execution": {
     "iopub.execute_input": "2021-08-23T23:39:11.946430Z",
     "iopub.status.busy": "2021-08-23T23:39:11.945624Z",
     "iopub.status.idle": "2021-08-23T23:39:12.400467Z",
     "shell.execute_reply": "2021-08-23T23:39:12.404507Z"
    }
   },
   "outputs": [
    {
     "data": {
      "image/png": "[encoded data removed]",
      "text/plain": [
       "<Figure size 216x216 with 1 Axes>"
      ]
     },
     "metadata": {
      "needs_background": "light"
     },
     "output_type": "display_data"
    },
    {
     "name": "stdout",
     "output_type": "stream",
     "text": [
      "Today, sun rises at 06:03 and sets at 18:47.\n",
      "Currently, the weather is Clouds (overcast clouds).\n",
      "The temperature is 29.33°C and it feels like 36.33°C.\n",
      "The UV index is 1.61, humidity is 87%.\n",
      "The pressure is 1008 hPa, percentage of cloud cover is 100%\n",
      "The wind comes from SW direction with a speed 2.61 m/s.\n"
     ]
    }
   ],
   "source": [
    "current = data['current']\r\n",
    "\r\n",
    "fig, ax = plt.subplots(figsize=(3, 3))\r\n",
    "icon = requests.get(f\"http://openweathermap.org/img/wn/{current['weather'][0]['icon']}@2x.png\")\r\n",
    "im = Image.open(BytesIO(icon.content))\r\n",
    "plt.imshow(im)\r\n",
    "ax.set_axis_off()\r\n",
    "plt.show()\r\n",
    "\r\n",
    "print(f\"Today, sun rises at {ts2dt(current['sunrise'], '%H:%M')[0]} \\\r\n",
    "and sets at {ts2dt(current['sunset'], '%H:%M')[0]}.\\n\\\r\n",
    "Currently, the weather is {current['weather'][0]['main']} ({current['weather'][0]['description']}).\\n\\\r\n",
    "The temperature is {current['temp']}°C and it feels like {current['feels_like']}°C.\\n\\\r\n",
    "The UV index is {current['uvi']}, humidity is {current['humidity']}%.\\n\\\r\n",
    "The pressure is {current['pressure']} hPa, percentage of cloud cover is {current['clouds']}%\\n\\\r\n",
    "The wind comes from {degrees_to_cardinal(current['wind_deg'])} direction with a speed {current['wind_speed']} m/s.\")"
   ]
  },
  {
   "cell_type": "code",
   "execution_count": 8,
   "metadata": {
    "execution": {
     "iopub.execute_input": "2021-08-23T23:39:12.408720Z",
     "iopub.status.busy": "2021-08-23T23:39:12.407600Z",
     "iopub.status.idle": "2021-08-23T23:39:12.416330Z",
     "shell.execute_reply": "2021-08-23T23:39:12.417108Z"
    }
   },
   "outputs": [],
   "source": [
    "df_hourly = pd.DataFrame(data['hourly'])\r\n",
    "df_daily = pd.DataFrame(data['daily'])"
   ]
  },
  {
   "cell_type": "code",
   "execution_count": 9,
   "metadata": {
    "execution": {
     "iopub.execute_input": "2021-08-23T23:39:12.420816Z",
     "iopub.status.busy": "2021-08-23T23:39:12.419753Z",
     "iopub.status.idle": "2021-08-23T23:39:12.761994Z",
     "shell.execute_reply": "2021-08-23T23:39:12.762505Z"
    }
   },
   "outputs": [
    {
     "data": {
      "image/png": "[encoded data removed]",
      "text/plain": [
       "<Figure size 864x432 with 1 Axes>"
      ]
     },
     "metadata": {
      "needs_background": "light"
     },
     "output_type": "display_data"
    }
   ],
   "source": [
    "fig, ax = plt.subplots(figsize=(12, 6))\r\n",
    "plt.plot(df_hourly.temp, '.-', label='Temperature')\r\n",
    "plt.plot(df_hourly.feels_like, '.-', label='Feels Like')\r\n",
    "ax.set(title='Temperature in future 48 hours', xlabel='Time', ylabel='Temperature')\r\n",
    "ax.set_xticks(list(range(0, len(df_hourly), 2)))\r\n",
    "ax.set_xticklabels([ts2dt(ts, '%m-%d %H:%M')[0] for i, ts in enumerate(df_hourly.dt) if i%2==0], \r\n",
    "                   rotation=45, ha=\"right\")\r\n",
    "ax.locator_params(nbins=15, axis='y')\r\n",
    "plt.legend()\r\n",
    "plt.show()"
   ]
  },
  {
   "cell_type": "code",
   "execution_count": 10,
   "metadata": {
    "execution": {
     "iopub.execute_input": "2021-08-23T23:39:12.767670Z",
     "iopub.status.busy": "2021-08-23T23:39:12.767052Z",
     "iopub.status.idle": "2021-08-23T23:39:12.787613Z",
     "shell.execute_reply": "2021-08-23T23:39:12.788102Z"
    }
   },
   "outputs": [
    {
     "data": {
      "text/html": [
       "<div>\n",
       "<style scoped>\n",
       "    .dataframe tbody tr th:only-of-type {\n",
       "        vertical-align: middle;\n",
       "    }\n",
       "\n",
       "    .dataframe tbody tr th {\n",
       "        vertical-align: top;\n",
       "    }\n",
       "\n",
       "    .dataframe thead th {\n",
       "        text-align: right;\n",
       "    }\n",
       "</style>\n",
       "<table border=\"1\" class=\"dataframe\">\n",
       "  <thead>\n",
       "    <tr style=\"text-align: right;\">\n",
       "      <th></th>\n",
       "      <th>dt</th>\n",
       "      <th>temp</th>\n",
       "      <th>feels_like</th>\n",
       "      <th>pressure</th>\n",
       "      <th>humidity</th>\n",
       "      <th>dew_point</th>\n",
       "      <th>uvi</th>\n",
       "      <th>clouds</th>\n",
       "      <th>visibility</th>\n",
       "      <th>wind_speed</th>\n",
       "      <th>wind_deg</th>\n",
       "      <th>wind_gust</th>\n",
       "      <th>weather</th>\n",
       "      <th>pop</th>\n",
       "      <th>rain</th>\n",
       "    </tr>\n",
       "  </thead>\n",
       "  <tbody>\n",
       "    <tr>\n",
       "      <th>0</th>\n",
       "      <td>1629759600</td>\n",
       "      <td>28.94</td>\n",
       "      <td>35.91</td>\n",
       "      <td>1008</td>\n",
       "      <td>86</td>\n",
       "      <td>26.36</td>\n",
       "      <td>0.38</td>\n",
       "      <td>100</td>\n",
       "      <td>10000</td>\n",
       "      <td>2.11</td>\n",
       "      <td>201</td>\n",
       "      <td>3.07</td>\n",
       "      <td>[{'id': 500, 'main': 'Rain', 'description': 'l...</td>\n",
       "      <td>0.99</td>\n",
       "      <td>{'1h': 0.67}</td>\n",
       "    </tr>\n",
       "    <tr>\n",
       "      <th>1</th>\n",
       "      <td>1629763200</td>\n",
       "      <td>29.33</td>\n",
       "      <td>36.33</td>\n",
       "      <td>1008</td>\n",
       "      <td>87</td>\n",
       "      <td>26.94</td>\n",
       "      <td>1.61</td>\n",
       "      <td>100</td>\n",
       "      <td>10000</td>\n",
       "      <td>2.61</td>\n",
       "      <td>217</td>\n",
       "      <td>4.02</td>\n",
       "      <td>[{'id': 804, 'main': 'Clouds', 'description': ...</td>\n",
       "      <td>0.79</td>\n",
       "      <td>NaN</td>\n",
       "    </tr>\n",
       "    <tr>\n",
       "      <th>2</th>\n",
       "      <td>1629766800</td>\n",
       "      <td>29.23</td>\n",
       "      <td>36.23</td>\n",
       "      <td>1008</td>\n",
       "      <td>84</td>\n",
       "      <td>26.24</td>\n",
       "      <td>4.11</td>\n",
       "      <td>100</td>\n",
       "      <td>10000</td>\n",
       "      <td>2.74</td>\n",
       "      <td>216</td>\n",
       "      <td>3.81</td>\n",
       "      <td>[{'id': 804, 'main': 'Clouds', 'description': ...</td>\n",
       "      <td>0.39</td>\n",
       "      <td>NaN</td>\n",
       "    </tr>\n",
       "    <tr>\n",
       "      <th>3</th>\n",
       "      <td>1629770400</td>\n",
       "      <td>29.36</td>\n",
       "      <td>35.76</td>\n",
       "      <td>1008</td>\n",
       "      <td>80</td>\n",
       "      <td>25.55</td>\n",
       "      <td>7.28</td>\n",
       "      <td>100</td>\n",
       "      <td>10000</td>\n",
       "      <td>3.15</td>\n",
       "      <td>212</td>\n",
       "      <td>4.25</td>\n",
       "      <td>[{'id': 501, 'main': 'Rain', 'description': 'm...</td>\n",
       "      <td>0.33</td>\n",
       "      <td>{'1h': 3.65}</td>\n",
       "    </tr>\n",
       "    <tr>\n",
       "      <th>4</th>\n",
       "      <td>1629774000</td>\n",
       "      <td>29.70</td>\n",
       "      <td>35.74</td>\n",
       "      <td>1008</td>\n",
       "      <td>76</td>\n",
       "      <td>25.01</td>\n",
       "      <td>10.17</td>\n",
       "      <td>100</td>\n",
       "      <td>10000</td>\n",
       "      <td>2.80</td>\n",
       "      <td>204</td>\n",
       "      <td>3.60</td>\n",
       "      <td>[{'id': 804, 'main': 'Clouds', 'description': ...</td>\n",
       "      <td>0.31</td>\n",
       "      <td>NaN</td>\n",
       "    </tr>\n",
       "  </tbody>\n",
       "</table>\n",
       "</div>"
      ],
      "text/plain": [
       "           dt   temp  feels_like  pressure  humidity  dew_point    uvi  \\\n",
       "0  1629759600  28.94       35.91      1008        86      26.36   0.38   \n",
       "1  1629763200  29.33       36.33      1008        87      26.94   1.61   \n",
       "2  1629766800  29.23       36.23      1008        84      26.24   4.11   \n",
       "3  1629770400  29.36       35.76      1008        80      25.55   7.28   \n",
       "4  1629774000  29.70       35.74      1008        76      25.01  10.17   \n",
       "\n",
       "   clouds  visibility  wind_speed  wind_deg  wind_gust  \\\n",
       "0     100       10000        2.11       201       3.07   \n",
       "1     100       10000        2.61       217       4.02   \n",
       "2     100       10000        2.74       216       3.81   \n",
       "3     100       10000        3.15       212       4.25   \n",
       "4     100       10000        2.80       204       3.60   \n",
       "\n",
       "                                             weather   pop          rain  \n",
       "0  [{'id': 500, 'main': 'Rain', 'description': 'l...  0.99  {'1h': 0.67}  \n",
       "1  [{'id': 804, 'main': 'Clouds', 'description': ...  0.79           NaN  \n",
       "2  [{'id': 804, 'main': 'Clouds', 'description': ...  0.39           NaN  \n",
       "3  [{'id': 501, 'main': 'Rain', 'description': 'm...  0.33  {'1h': 3.65}  \n",
       "4  [{'id': 804, 'main': 'Clouds', 'description': ...  0.31           NaN  "
      ]
     },
     "execution_count": 10,
     "metadata": {},
     "output_type": "execute_result"
    }
   ],
   "source": [
    "df_hourly.head()"
   ]
  },
  {
   "cell_type": "code",
   "execution_count": null,
   "metadata": {},
   "outputs": [],
   "source": []
  }
 ],
 "metadata": {
  "interpreter": {
   "hash": "c1b4cfe941b6d2466ad1fb5979e97da9cda8801728c8091b097ab734208fc00c"
  },
  "kernelspec": {
   "display_name": "Python 3.8.3 64-bit ('base': conda)",
   "name": "python3"
  },
  "language_info": {
   "codemirror_mode": {
    "name": "ipython",
    "version": 3
   },
   "file_extension": ".py",
   "mimetype": "text/x-python",
   "name": "python",
   "nbconvert_exporter": "python",
   "pygments_lexer": "ipython3",
   "version": "3.8.11"
  }
 },
 "nbformat": 4,
 "nbformat_minor": 2
}
