{
 "cells": [
  {
   "cell_type": "code",
   "execution_count": 1,
   "metadata": {
    "execution": {
     "iopub.execute_input": "2021-08-27T03:40:21.118023Z",
     "iopub.status.busy": "2021-08-27T03:40:21.117463Z",
     "iopub.status.idle": "2021-08-27T03:40:22.381884Z",
     "shell.execute_reply": "2021-08-27T03:40:22.381273Z"
    }
   },
   "outputs": [],
   "source": [
    "import json, yaml, requests\r\n",
    "from datetime import datetime\r\n",
    "from dateutil import tz\r\n",
    "import pandas as pd\r\n",
    "from PIL import Image\r\n",
    "from io import BytesIO\r\n",
    "import matplotlib.pyplot as plt\r\n",
    "import seaborn\r\n",
    "\r\n",
    "CONFIG_PATH = \"../config/config.yaml\""
   ]
  },
  {
   "cell_type": "code",
   "execution_count": 2,
   "metadata": {
    "execution": {
     "iopub.execute_input": "2021-08-27T03:40:22.387059Z",
     "iopub.status.busy": "2021-08-27T03:40:22.386470Z",
     "iopub.status.idle": "2021-08-27T03:40:22.394573Z",
     "shell.execute_reply": "2021-08-27T03:40:22.392913Z"
    }
   },
   "outputs": [],
   "source": [
    "with open('../newest_ts', 'r') as f:\r\n",
    "    newest_ts = f.read()\r\n",
    "\r\n",
    "data_path = f\"../data/data_{newest_ts}.json\"\r\n",
    "with open(data_path, 'r') as f:\r\n",
    "    data = json.load(f)\r\n",
    "\r\n",
    "with open(CONFIG_PATH, \"r\") as stream:\r\n",
    "    config = yaml.safe_load(stream)\r\n",
    "\r\n",
    "TIME_ZONE = config['time_zone']\r\n",
    "DATETIME_FORMAT = config['dt_format']"
   ]
  },
  {
   "cell_type": "code",
   "execution_count": 3,
   "metadata": {
    "execution": {
     "iopub.execute_input": "2021-08-27T03:40:22.405655Z",
     "iopub.status.busy": "2021-08-27T03:40:22.403844Z",
     "iopub.status.idle": "2021-08-27T03:40:22.409346Z",
     "shell.execute_reply": "2021-08-27T03:40:22.409802Z"
    }
   },
   "outputs": [
    {
     "name": "stdout",
     "output_type": "stream",
     "text": [
      "Recent query happens at 2021-08-27 11:40:18 (CST).\n"
     ]
    }
   ],
   "source": [
    "def ts2dt(ts, format=DATETIME_FORMAT):\r\n",
    "    dt = (datetime.utcfromtimestamp(int(ts))\r\n",
    "                    .replace(tzinfo=tz.tzutc())\r\n",
    "                    # .astimezone(tz.tzlocal())\r\n",
    "                    .astimezone(tz.gettz(TIME_ZONE)))\r\n",
    "    return dt.strftime(format), dt\r\n",
    "\r\n",
    "_, newest_dt = ts2dt(newest_ts)\r\n",
    "print(f\"Recent query happens at {newest_dt.strftime(DATETIME_FORMAT)} ({newest_dt.tzname()}).\")"
   ]
  },
  {
   "cell_type": "code",
   "execution_count": 4,
   "metadata": {
    "execution": {
     "iopub.execute_input": "2021-08-27T03:40:22.419274Z",
     "iopub.status.busy": "2021-08-27T03:40:22.416986Z",
     "iopub.status.idle": "2021-08-27T03:40:22.423732Z",
     "shell.execute_reply": "2021-08-27T03:40:22.422985Z"
    }
   },
   "outputs": [],
   "source": [
    "def degrees_to_cardinal(d):\r\n",
    "  dirs = ['N', 'NNE', 'NE', 'ENE', 'E', 'ESE', 'SE', 'SSE', 'S', 'SSW', 'SW', 'WSW', 'W', 'WNW', 'NW', 'NNW']\r\n",
    "  ix = int(round(d / (360. / len(dirs))))\r\n",
    "  return dirs[ix % len(dirs)]"
   ]
  },
  {
   "cell_type": "code",
   "execution_count": 5,
   "metadata": {
    "execution": {
     "iopub.execute_input": "2021-08-27T03:40:22.428068Z",
     "iopub.status.busy": "2021-08-27T03:40:22.427008Z",
     "iopub.status.idle": "2021-08-27T03:40:22.428886Z",
     "shell.execute_reply": "2021-08-27T03:40:22.429292Z"
    }
   },
   "outputs": [],
   "source": [
    "# data.keys()"
   ]
  },
  {
   "cell_type": "code",
   "execution_count": 6,
   "metadata": {
    "execution": {
     "iopub.execute_input": "2021-08-27T03:40:22.433607Z",
     "iopub.status.busy": "2021-08-27T03:40:22.432230Z",
     "iopub.status.idle": "2021-08-27T03:40:22.434530Z",
     "shell.execute_reply": "2021-08-27T03:40:22.435711Z"
    }
   },
   "outputs": [],
   "source": [
    "# data['current']"
   ]
  },
  {
   "cell_type": "code",
   "execution_count": 7,
   "metadata": {
    "execution": {
     "iopub.execute_input": "2021-08-27T03:40:22.457048Z",
     "iopub.status.busy": "2021-08-27T03:40:22.456528Z",
     "iopub.status.idle": "2021-08-27T03:40:22.873682Z",
     "shell.execute_reply": "2021-08-27T03:40:22.874343Z"
    }
   },
   "outputs": [
    {
     "data": {
      "image/png": "[encoded data removed]",
      "text/plain": [
       "<Figure size 216x216 with 1 Axes>"
      ]
     },
     "metadata": {
      "needs_background": "light"
     },
     "output_type": "display_data"
    },
    {
     "name": "stdout",
     "output_type": "stream",
     "text": [
      "Today, sun rises at 06:04 and sets at 18:45.\n",
      "Currently, the weather is Rain (light rain).\n",
      "The temperature is 25.75°C and it feels like 26.13°C.\n",
      "The UV index is 11.55, humidity is 67%.\n",
      "The pressure is 1012 hPa, percentage of cloud cover is 11%\n",
      "The wind comes from E direction with a speed 6.39 m/s.\n"
     ]
    }
   ],
   "source": [
    "current = data['current']\r\n",
    "\r\n",
    "fig, ax = plt.subplots(figsize=(3, 3))\r\n",
    "icon = requests.get(f\"http://openweathermap.org/img/wn/{current['weather'][0]['icon']}@2x.png\")\r\n",
    "im = Image.open(BytesIO(icon.content))\r\n",
    "plt.imshow(im)\r\n",
    "ax.set_axis_off()\r\n",
    "plt.show()\r\n",
    "\r\n",
    "print(f\"Today, sun rises at {ts2dt(current['sunrise'], '%H:%M')[0]} \\\r\n",
    "and sets at {ts2dt(current['sunset'], '%H:%M')[0]}.\\n\\\r\n",
    "Currently, the weather is {current['weather'][0]['main']} ({current['weather'][0]['description']}).\\n\\\r\n",
    "The temperature is {current['temp']}°C and it feels like {current['feels_like']}°C.\\n\\\r\n",
    "The UV index is {current['uvi']}, humidity is {current['humidity']}%.\\n\\\r\n",
    "The pressure is {current['pressure']} hPa, percentage of cloud cover is {current['clouds']}%\\n\\\r\n",
    "The wind comes from {degrees_to_cardinal(current['wind_deg'])} direction with a speed {current['wind_speed']} m/s.\")"
   ]
  },
  {
   "cell_type": "code",
   "execution_count": 8,
   "metadata": {
    "execution": {
     "iopub.execute_input": "2021-08-27T03:40:22.881426Z",
     "iopub.status.busy": "2021-08-27T03:40:22.880943Z",
     "iopub.status.idle": "2021-08-27T03:40:22.884682Z",
     "shell.execute_reply": "2021-08-27T03:40:22.885046Z"
    }
   },
   "outputs": [],
   "source": [
    "df_hourly = pd.DataFrame(data['hourly'])\r\n",
    "df_daily = pd.DataFrame(data['daily'])"
   ]
  },
  {
   "cell_type": "code",
   "execution_count": 9,
   "metadata": {
    "execution": {
     "iopub.execute_input": "2021-08-27T03:40:22.900056Z",
     "iopub.status.busy": "2021-08-27T03:40:22.899591Z",
     "iopub.status.idle": "2021-08-27T03:40:23.207071Z",
     "shell.execute_reply": "2021-08-27T03:40:23.205936Z"
    }
   },
   "outputs": [
    {
     "data": {
      "image/png": "[encoded data removed]",
      "text/plain": [
       "<Figure size 864x432 with 1 Axes>"
      ]
     },
     "metadata": {
      "needs_background": "light"
     },
     "output_type": "display_data"
    }
   ],
   "source": [
    "fig, ax = plt.subplots(figsize=(12, 6))\r\n",
    "plt.plot(df_hourly.temp, '.-', label='Temperature')\r\n",
    "plt.plot(df_hourly.feels_like, '.-', label='Feels Like')\r\n",
    "ax.set(title='Temperature in future 48 hours', xlabel='Time', ylabel='Temperature')\r\n",
    "ax.set_xticks(list(range(0, len(df_hourly), 2)))\r\n",
    "ax.set_xticklabels([ts2dt(ts, '%m-%d %H:%M')[0] for i, ts in enumerate(df_hourly.dt) if i%2==0], \r\n",
    "                   rotation=45, ha=\"right\")\r\n",
    "ax.locator_params(nbins=15, axis='y')\r\n",
    "plt.legend()\r\n",
    "plt.show()"
   ]
  },
  {
   "cell_type": "code",
   "execution_count": 10,
   "metadata": {
    "execution": {
     "iopub.execute_input": "2021-08-27T03:40:23.222005Z",
     "iopub.status.busy": "2021-08-27T03:40:23.212097Z",
     "iopub.status.idle": "2021-08-27T03:40:23.235491Z",
     "shell.execute_reply": "2021-08-27T03:40:23.235051Z"
    }
   },
   "outputs": [
    {
     "data": {
      "text/html": [
       "<div>\n",
       "<style scoped>\n",
       "    .dataframe tbody tr th:only-of-type {\n",
       "        vertical-align: middle;\n",
       "    }\n",
       "\n",
       "    .dataframe tbody tr th {\n",
       "        vertical-align: top;\n",
       "    }\n",
       "\n",
       "    .dataframe thead th {\n",
       "        text-align: right;\n",
       "    }\n",
       "</style>\n",
       "<table border=\"1\" class=\"dataframe\">\n",
       "  <thead>\n",
       "    <tr style=\"text-align: right;\">\n",
       "      <th></th>\n",
       "      <th>dt</th>\n",
       "      <th>temp</th>\n",
       "      <th>feels_like</th>\n",
       "      <th>pressure</th>\n",
       "      <th>humidity</th>\n",
       "      <th>dew_point</th>\n",
       "      <th>uvi</th>\n",
       "      <th>clouds</th>\n",
       "      <th>visibility</th>\n",
       "      <th>wind_speed</th>\n",
       "      <th>wind_deg</th>\n",
       "      <th>wind_gust</th>\n",
       "      <th>weather</th>\n",
       "      <th>pop</th>\n",
       "      <th>rain</th>\n",
       "    </tr>\n",
       "  </thead>\n",
       "  <tbody>\n",
       "    <tr>\n",
       "      <th>0</th>\n",
       "      <td>1630033200</td>\n",
       "      <td>26.52</td>\n",
       "      <td>26.52</td>\n",
       "      <td>1012</td>\n",
       "      <td>68</td>\n",
       "      <td>20.13</td>\n",
       "      <td>9.83</td>\n",
       "      <td>11</td>\n",
       "      <td>10000</td>\n",
       "      <td>6.15</td>\n",
       "      <td>76</td>\n",
       "      <td>7.08</td>\n",
       "      <td>[{'id': 801, 'main': 'Clouds', 'description': ...</td>\n",
       "      <td>0.63</td>\n",
       "      <td>NaN</td>\n",
       "    </tr>\n",
       "    <tr>\n",
       "      <th>1</th>\n",
       "      <td>1630036800</td>\n",
       "      <td>25.75</td>\n",
       "      <td>26.13</td>\n",
       "      <td>1012</td>\n",
       "      <td>67</td>\n",
       "      <td>19.16</td>\n",
       "      <td>11.55</td>\n",
       "      <td>11</td>\n",
       "      <td>10000</td>\n",
       "      <td>6.39</td>\n",
       "      <td>82</td>\n",
       "      <td>7.27</td>\n",
       "      <td>[{'id': 500, 'main': 'Rain', 'description': 'l...</td>\n",
       "      <td>0.60</td>\n",
       "      <td>{'1h': 0.65}</td>\n",
       "    </tr>\n",
       "    <tr>\n",
       "      <th>2</th>\n",
       "      <td>1630040400</td>\n",
       "      <td>26.62</td>\n",
       "      <td>26.62</td>\n",
       "      <td>1012</td>\n",
       "      <td>66</td>\n",
       "      <td>19.75</td>\n",
       "      <td>11.36</td>\n",
       "      <td>13</td>\n",
       "      <td>10000</td>\n",
       "      <td>6.74</td>\n",
       "      <td>89</td>\n",
       "      <td>7.45</td>\n",
       "      <td>[{'id': 500, 'main': 'Rain', 'description': 'l...</td>\n",
       "      <td>0.60</td>\n",
       "      <td>{'1h': 0.75}</td>\n",
       "    </tr>\n",
       "    <tr>\n",
       "      <th>3</th>\n",
       "      <td>1630044000</td>\n",
       "      <td>27.47</td>\n",
       "      <td>29.37</td>\n",
       "      <td>1012</td>\n",
       "      <td>67</td>\n",
       "      <td>20.80</td>\n",
       "      <td>9.43</td>\n",
       "      <td>20</td>\n",
       "      <td>10000</td>\n",
       "      <td>7.04</td>\n",
       "      <td>94</td>\n",
       "      <td>8.08</td>\n",
       "      <td>[{'id': 500, 'main': 'Rain', 'description': 'l...</td>\n",
       "      <td>0.65</td>\n",
       "      <td>{'1h': 0.42}</td>\n",
       "    </tr>\n",
       "    <tr>\n",
       "      <th>4</th>\n",
       "      <td>1630047600</td>\n",
       "      <td>28.20</td>\n",
       "      <td>30.92</td>\n",
       "      <td>1011</td>\n",
       "      <td>69</td>\n",
       "      <td>21.97</td>\n",
       "      <td>5.71</td>\n",
       "      <td>63</td>\n",
       "      <td>10000</td>\n",
       "      <td>6.99</td>\n",
       "      <td>98</td>\n",
       "      <td>8.15</td>\n",
       "      <td>[{'id': 803, 'main': 'Clouds', 'description': ...</td>\n",
       "      <td>0.23</td>\n",
       "      <td>NaN</td>\n",
       "    </tr>\n",
       "  </tbody>\n",
       "</table>\n",
       "</div>"
      ],
      "text/plain": [
       "           dt   temp  feels_like  pressure  humidity  dew_point    uvi  \\\n",
       "0  1630033200  26.52       26.52      1012        68      20.13   9.83   \n",
       "1  1630036800  25.75       26.13      1012        67      19.16  11.55   \n",
       "2  1630040400  26.62       26.62      1012        66      19.75  11.36   \n",
       "3  1630044000  27.47       29.37      1012        67      20.80   9.43   \n",
       "4  1630047600  28.20       30.92      1011        69      21.97   5.71   \n",
       "\n",
       "   clouds  visibility  wind_speed  wind_deg  wind_gust  \\\n",
       "0      11       10000        6.15        76       7.08   \n",
       "1      11       10000        6.39        82       7.27   \n",
       "2      13       10000        6.74        89       7.45   \n",
       "3      20       10000        7.04        94       8.08   \n",
       "4      63       10000        6.99        98       8.15   \n",
       "\n",
       "                                             weather   pop          rain  \n",
       "0  [{'id': 801, 'main': 'Clouds', 'description': ...  0.63           NaN  \n",
       "1  [{'id': 500, 'main': 'Rain', 'description': 'l...  0.60  {'1h': 0.65}  \n",
       "2  [{'id': 500, 'main': 'Rain', 'description': 'l...  0.60  {'1h': 0.75}  \n",
       "3  [{'id': 500, 'main': 'Rain', 'description': 'l...  0.65  {'1h': 0.42}  \n",
       "4  [{'id': 803, 'main': 'Clouds', 'description': ...  0.23           NaN  "
      ]
     },
     "execution_count": 10,
     "metadata": {},
     "output_type": "execute_result"
    }
   ],
   "source": [
    "df_hourly.head()"
   ]
  },
  {
   "cell_type": "code",
   "execution_count": null,
   "metadata": {},
   "outputs": [],
   "source": []
  }
 ],
 "metadata": {
  "interpreter": {
   "hash": "c1b4cfe941b6d2466ad1fb5979e97da9cda8801728c8091b097ab734208fc00c"
  },
  "kernelspec": {
   "display_name": "Python 3.8.3 64-bit ('base': conda)",
   "name": "python3"
  },
  "language_info": {
   "codemirror_mode": {
    "name": "ipython",
    "version": 3
   },
   "file_extension": ".py",
   "mimetype": "text/x-python",
   "name": "python",
   "nbconvert_exporter": "python",
   "pygments_lexer": "ipython3",
   "version": "3.8.11"
  }
 },
 "nbformat": 4,
 "nbformat_minor": 2
}
