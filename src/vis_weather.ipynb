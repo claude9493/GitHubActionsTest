{
 "cells": [
  {
   "cell_type": "code",
   "execution_count": 1,
   "metadata": {
    "execution": {
     "iopub.execute_input": "2021-10-21T11:10:31.789428Z",
     "iopub.status.busy": "2021-10-21T11:10:31.788742Z",
     "iopub.status.idle": "2021-10-21T11:10:38.697823Z",
     "shell.execute_reply": "2021-10-21T11:10:38.697260Z"
    }
   },
   "outputs": [
    {
     "name": "stderr",
     "output_type": "stream",
     "text": [
      "Matplotlib is building the font cache; this may take a moment.\n"
     ]
    }
   ],
   "source": [
    "import json, yaml, requests\r\n",
    "from datetime import datetime\r\n",
    "from dateutil import tz\r\n",
    "import pandas as pd\r\n",
    "from PIL import Image\r\n",
    "from io import BytesIO\r\n",
    "import matplotlib.pyplot as plt\r\n",
    "import seaborn\r\n",
    "\r\n",
    "CONFIG_PATH = \"../config/config.yaml\""
   ]
  },
  {
   "cell_type": "code",
   "execution_count": 2,
   "metadata": {
    "execution": {
     "iopub.execute_input": "2021-10-21T11:10:38.705381Z",
     "iopub.status.busy": "2021-10-21T11:10:38.702490Z",
     "iopub.status.idle": "2021-10-21T11:10:38.708831Z",
     "shell.execute_reply": "2021-10-21T11:10:38.708203Z"
    }
   },
   "outputs": [],
   "source": [
    "with open('../newest_ts', 'r') as f:\r\n",
    "    newest_ts = f.read()\r\n",
    "\r\n",
    "data_path = f\"../data/data_{newest_ts}.json\"\r\n",
    "with open(data_path, 'r') as f:\r\n",
    "    data = json.load(f)\r\n",
    "\r\n",
    "with open(CONFIG_PATH, \"r\") as stream:\r\n",
    "    config = yaml.safe_load(stream)\r\n",
    "\r\n",
    "TIME_ZONE = config['time_zone']\r\n",
    "DATETIME_FORMAT = config['dt_format']"
   ]
  },
  {
   "cell_type": "code",
   "execution_count": 3,
   "metadata": {
    "execution": {
     "iopub.execute_input": "2021-10-21T11:10:38.713405Z",
     "iopub.status.busy": "2021-10-21T11:10:38.711044Z",
     "iopub.status.idle": "2021-10-21T11:10:38.733931Z",
     "shell.execute_reply": "2021-10-21T11:10:38.733418Z"
    }
   },
   "outputs": [
    {
     "name": "stdout",
     "output_type": "stream",
     "text": [
      "Recent query happens at 2021-10-21 19:10:25 (CST).\n"
     ]
    }
   ],
   "source": [
    "def ts2dt(ts, format=DATETIME_FORMAT):\r\n",
    "    dt = (datetime.utcfromtimestamp(int(ts))\r\n",
    "                    .replace(tzinfo=tz.tzutc())\r\n",
    "                    # .astimezone(tz.tzlocal())\r\n",
    "                    .astimezone(tz.gettz(TIME_ZONE)))\r\n",
    "    return dt.strftime(format), dt\r\n",
    "\r\n",
    "_, newest_dt = ts2dt(newest_ts)\r\n",
    "print(f\"Recent query happens at {newest_dt.strftime(DATETIME_FORMAT)} ({newest_dt.tzname()}).\")"
   ]
  },
  {
   "cell_type": "code",
   "execution_count": 4,
   "metadata": {
    "execution": {
     "iopub.execute_input": "2021-10-21T11:10:38.739619Z",
     "iopub.status.busy": "2021-10-21T11:10:38.738997Z",
     "iopub.status.idle": "2021-10-21T11:10:38.742778Z",
     "shell.execute_reply": "2021-10-21T11:10:38.742313Z"
    }
   },
   "outputs": [],
   "source": [
    "def degrees_to_cardinal(d):\r\n",
    "  dirs = ['N', 'NNE', 'NE', 'ENE', 'E', 'ESE', 'SE', 'SSE', 'S', 'SSW', 'SW', 'WSW', 'W', 'WNW', 'NW', 'NNW']\r\n",
    "  ix = int(round(d / (360. / len(dirs))))\r\n",
    "  return dirs[ix % len(dirs)]"
   ]
  },
  {
   "cell_type": "code",
   "execution_count": 5,
   "metadata": {
    "execution": {
     "iopub.execute_input": "2021-10-21T11:10:38.745910Z",
     "iopub.status.busy": "2021-10-21T11:10:38.745313Z",
     "iopub.status.idle": "2021-10-21T11:10:38.748703Z",
     "shell.execute_reply": "2021-10-21T11:10:38.749182Z"
    }
   },
   "outputs": [],
   "source": [
    "# data.keys()"
   ]
  },
  {
   "cell_type": "code",
   "execution_count": 6,
   "metadata": {
    "execution": {
     "iopub.execute_input": "2021-10-21T11:10:38.753890Z",
     "iopub.status.busy": "2021-10-21T11:10:38.752517Z",
     "iopub.status.idle": "2021-10-21T11:10:38.754539Z",
     "shell.execute_reply": "2021-10-21T11:10:38.755015Z"
    }
   },
   "outputs": [],
   "source": [
    "# data['current']"
   ]
  },
  {
   "cell_type": "code",
   "execution_count": 7,
   "metadata": {
    "execution": {
     "iopub.execute_input": "2021-10-21T11:10:38.778251Z",
     "iopub.status.busy": "2021-10-21T11:10:38.777660Z",
     "iopub.status.idle": "2021-10-21T11:10:39.191041Z",
     "shell.execute_reply": "2021-10-21T11:10:39.191843Z"
    }
   },
   "outputs": [
    {
     "data": {
      "image/png": "[encoded data removed]",
      "text/plain": [
       "<Figure size 216x216 with 1 Axes>"
      ]
     },
     "metadata": {
      "needs_background": "light"
     },
     "output_type": "display_data"
    },
    {
     "name": "stdout",
     "output_type": "stream",
     "text": [
      "Today, sun rises at 06:21 and sets at 17:53.\n",
      "Currently, the weather is Clouds (overcast clouds).\n",
      "The temperature is 21.48°C and it feels like 21.64°C.\n",
      "The UV index is 0, humidity is 75%.\n",
      "The pressure is 1015 hPa, percentage of cloud cover is 94%\n",
      "The wind comes from NE direction with a speed 0.89 m/s.\n"
     ]
    }
   ],
   "source": [
    "current = data['current']\r\n",
    "\r\n",
    "fig, ax = plt.subplots(figsize=(3, 3))\r\n",
    "icon = requests.get(f\"http://openweathermap.org/img/wn/{current['weather'][0]['icon']}@2x.png\")\r\n",
    "im = Image.open(BytesIO(icon.content))\r\n",
    "plt.imshow(im)\r\n",
    "ax.set_axis_off()\r\n",
    "plt.show()\r\n",
    "\r\n",
    "print(f\"Today, sun rises at {ts2dt(current['sunrise'], '%H:%M')[0]} \\\r\n",
    "and sets at {ts2dt(current['sunset'], '%H:%M')[0]}.\\n\\\r\n",
    "Currently, the weather is {current['weather'][0]['main']} ({current['weather'][0]['description']}).\\n\\\r\n",
    "The temperature is {current['temp']}°C and it feels like {current['feels_like']}°C.\\n\\\r\n",
    "The UV index is {current['uvi']}, humidity is {current['humidity']}%.\\n\\\r\n",
    "The pressure is {current['pressure']} hPa, percentage of cloud cover is {current['clouds']}%\\n\\\r\n",
    "The wind comes from {degrees_to_cardinal(current['wind_deg'])} direction with a speed {current['wind_speed']} m/s.\")"
   ]
  },
  {
   "cell_type": "code",
   "execution_count": 8,
   "metadata": {
    "execution": {
     "iopub.execute_input": "2021-10-21T11:10:39.197621Z",
     "iopub.status.busy": "2021-10-21T11:10:39.197021Z",
     "iopub.status.idle": "2021-10-21T11:10:39.202706Z",
     "shell.execute_reply": "2021-10-21T11:10:39.203430Z"
    }
   },
   "outputs": [],
   "source": [
    "df_hourly = pd.DataFrame(data['hourly'])\r\n",
    "df_daily = pd.DataFrame(data['daily'])"
   ]
  },
  {
   "cell_type": "code",
   "execution_count": 9,
   "metadata": {
    "execution": {
     "iopub.execute_input": "2021-10-21T11:10:39.216070Z",
     "iopub.status.busy": "2021-10-21T11:10:39.215302Z",
     "iopub.status.idle": "2021-10-21T11:10:39.541162Z",
     "shell.execute_reply": "2021-10-21T11:10:39.541631Z"
    }
   },
   "outputs": [
    {
     "data": {
      "image/png": "[encoded data removed]",
      "text/plain": [
       "<Figure size 864x432 with 1 Axes>"
      ]
     },
     "metadata": {
      "needs_background": "light"
     },
     "output_type": "display_data"
    }
   ],
   "source": [
    "fig, ax = plt.subplots(figsize=(12, 6))\r\n",
    "plt.plot(df_hourly.temp, '.-', label='Temperature')\r\n",
    "plt.plot(df_hourly.feels_like, '.-', label='Feels Like')\r\n",
    "ax.set(title='Temperature in future 48 hours', xlabel='Time', ylabel='Temperature')\r\n",
    "ax.set_xticks(list(range(0, len(df_hourly), 2)))\r\n",
    "ax.set_xticklabels([ts2dt(ts, '%m-%d %H:%M')[0] for i, ts in enumerate(df_hourly.dt) if i%2==0], \r\n",
    "                   rotation=45, ha=\"right\")\r\n",
    "ax.locator_params(nbins=15, axis='y')\r\n",
    "plt.legend()\r\n",
    "plt.show()"
   ]
  },
  {
   "cell_type": "code",
   "execution_count": 10,
   "metadata": {
    "execution": {
     "iopub.execute_input": "2021-10-21T11:10:39.547100Z",
     "iopub.status.busy": "2021-10-21T11:10:39.546505Z",
     "iopub.status.idle": "2021-10-21T11:10:39.567374Z",
     "shell.execute_reply": "2021-10-21T11:10:39.567876Z"
    }
   },
   "outputs": [
    {
     "data": {
      "text/html": [
       "<div>\n",
       "<style scoped>\n",
       "    .dataframe tbody tr th:only-of-type {\n",
       "        vertical-align: middle;\n",
       "    }\n",
       "\n",
       "    .dataframe tbody tr th {\n",
       "        vertical-align: top;\n",
       "    }\n",
       "\n",
       "    .dataframe thead th {\n",
       "        text-align: right;\n",
       "    }\n",
       "</style>\n",
       "<table border=\"1\" class=\"dataframe\">\n",
       "  <thead>\n",
       "    <tr style=\"text-align: right;\">\n",
       "      <th></th>\n",
       "      <th>dt</th>\n",
       "      <th>temp</th>\n",
       "      <th>feels_like</th>\n",
       "      <th>pressure</th>\n",
       "      <th>humidity</th>\n",
       "      <th>dew_point</th>\n",
       "      <th>uvi</th>\n",
       "      <th>clouds</th>\n",
       "      <th>visibility</th>\n",
       "      <th>wind_speed</th>\n",
       "      <th>wind_deg</th>\n",
       "      <th>wind_gust</th>\n",
       "      <th>weather</th>\n",
       "      <th>pop</th>\n",
       "      <th>rain</th>\n",
       "    </tr>\n",
       "  </thead>\n",
       "  <tbody>\n",
       "    <tr>\n",
       "      <th>0</th>\n",
       "      <td>1634814000</td>\n",
       "      <td>21.48</td>\n",
       "      <td>21.64</td>\n",
       "      <td>1015</td>\n",
       "      <td>75</td>\n",
       "      <td>16.87</td>\n",
       "      <td>0.0</td>\n",
       "      <td>94</td>\n",
       "      <td>10000</td>\n",
       "      <td>5.00</td>\n",
       "      <td>8</td>\n",
       "      <td>6.62</td>\n",
       "      <td>[{'id': 804, 'main': 'Clouds', 'description': ...</td>\n",
       "      <td>0.09</td>\n",
       "      <td>NaN</td>\n",
       "    </tr>\n",
       "    <tr>\n",
       "      <th>1</th>\n",
       "      <td>1634817600</td>\n",
       "      <td>21.37</td>\n",
       "      <td>21.47</td>\n",
       "      <td>1015</td>\n",
       "      <td>73</td>\n",
       "      <td>16.33</td>\n",
       "      <td>0.0</td>\n",
       "      <td>94</td>\n",
       "      <td>10000</td>\n",
       "      <td>5.36</td>\n",
       "      <td>6</td>\n",
       "      <td>8.36</td>\n",
       "      <td>[{'id': 804, 'main': 'Clouds', 'description': ...</td>\n",
       "      <td>0.05</td>\n",
       "      <td>NaN</td>\n",
       "    </tr>\n",
       "    <tr>\n",
       "      <th>2</th>\n",
       "      <td>1634821200</td>\n",
       "      <td>21.08</td>\n",
       "      <td>21.10</td>\n",
       "      <td>1016</td>\n",
       "      <td>71</td>\n",
       "      <td>15.62</td>\n",
       "      <td>0.0</td>\n",
       "      <td>96</td>\n",
       "      <td>10000</td>\n",
       "      <td>5.16</td>\n",
       "      <td>7</td>\n",
       "      <td>7.49</td>\n",
       "      <td>[{'id': 500, 'main': 'Rain', 'description': 'l...</td>\n",
       "      <td>0.20</td>\n",
       "      <td>{'1h': 0.18}</td>\n",
       "    </tr>\n",
       "    <tr>\n",
       "      <th>3</th>\n",
       "      <td>1634824800</td>\n",
       "      <td>20.71</td>\n",
       "      <td>20.64</td>\n",
       "      <td>1017</td>\n",
       "      <td>69</td>\n",
       "      <td>14.82</td>\n",
       "      <td>0.0</td>\n",
       "      <td>98</td>\n",
       "      <td>10000</td>\n",
       "      <td>4.54</td>\n",
       "      <td>13</td>\n",
       "      <td>6.10</td>\n",
       "      <td>[{'id': 804, 'main': 'Clouds', 'description': ...</td>\n",
       "      <td>0.00</td>\n",
       "      <td>NaN</td>\n",
       "    </tr>\n",
       "    <tr>\n",
       "      <th>4</th>\n",
       "      <td>1634828400</td>\n",
       "      <td>20.08</td>\n",
       "      <td>19.92</td>\n",
       "      <td>1017</td>\n",
       "      <td>68</td>\n",
       "      <td>14.00</td>\n",
       "      <td>0.0</td>\n",
       "      <td>99</td>\n",
       "      <td>10000</td>\n",
       "      <td>4.28</td>\n",
       "      <td>17</td>\n",
       "      <td>5.40</td>\n",
       "      <td>[{'id': 804, 'main': 'Clouds', 'description': ...</td>\n",
       "      <td>0.00</td>\n",
       "      <td>NaN</td>\n",
       "    </tr>\n",
       "  </tbody>\n",
       "</table>\n",
       "</div>"
      ],
      "text/plain": [
       "           dt   temp  feels_like  pressure  humidity  dew_point  uvi  clouds  \\\n",
       "0  1634814000  21.48       21.64      1015        75      16.87  0.0      94   \n",
       "1  1634817600  21.37       21.47      1015        73      16.33  0.0      94   \n",
       "2  1634821200  21.08       21.10      1016        71      15.62  0.0      96   \n",
       "3  1634824800  20.71       20.64      1017        69      14.82  0.0      98   \n",
       "4  1634828400  20.08       19.92      1017        68      14.00  0.0      99   \n",
       "\n",
       "   visibility  wind_speed  wind_deg  wind_gust  \\\n",
       "0       10000        5.00         8       6.62   \n",
       "1       10000        5.36         6       8.36   \n",
       "2       10000        5.16         7       7.49   \n",
       "3       10000        4.54        13       6.10   \n",
       "4       10000        4.28        17       5.40   \n",
       "\n",
       "                                             weather   pop          rain  \n",
       "0  [{'id': 804, 'main': 'Clouds', 'description': ...  0.09           NaN  \n",
       "1  [{'id': 804, 'main': 'Clouds', 'description': ...  0.05           NaN  \n",
       "2  [{'id': 500, 'main': 'Rain', 'description': 'l...  0.20  {'1h': 0.18}  \n",
       "3  [{'id': 804, 'main': 'Clouds', 'description': ...  0.00           NaN  \n",
       "4  [{'id': 804, 'main': 'Clouds', 'description': ...  0.00           NaN  "
      ]
     },
     "execution_count": 10,
     "metadata": {},
     "output_type": "execute_result"
    }
   ],
   "source": [
    "df_hourly.head()"
   ]
  },
  {
   "cell_type": "code",
   "execution_count": null,
   "metadata": {},
   "outputs": [],
   "source": []
  }
 ],
 "metadata": {
  "interpreter": {
   "hash": "c1b4cfe941b6d2466ad1fb5979e97da9cda8801728c8091b097ab734208fc00c"
  },
  "kernelspec": {
   "display_name": "Python 3.8.3 64-bit ('base': conda)",
   "name": "python3"
  },
  "language_info": {
   "codemirror_mode": {
    "name": "ipython",
    "version": 3
   },
   "file_extension": ".py",
   "mimetype": "text/x-python",
   "name": "python",
   "nbconvert_exporter": "python",
   "pygments_lexer": "ipython3",
   "version": "3.8.12"
  }
 },
 "nbformat": 4,
 "nbformat_minor": 2
}
