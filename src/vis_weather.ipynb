{
 "cells": [
  {
   "cell_type": "code",
   "execution_count": 1,
   "metadata": {
    "execution": {
     "iopub.execute_input": "2021-09-30T00:44:13.186027Z",
     "iopub.status.busy": "2021-09-30T00:44:13.185293Z",
     "iopub.status.idle": "2021-09-30T00:44:14.501414Z",
     "shell.execute_reply": "2021-09-30T00:44:14.500397Z"
    }
   },
   "outputs": [],
   "source": [
    "import json, yaml, requests\r\n",
    "from datetime import datetime\r\n",
    "from dateutil import tz\r\n",
    "import pandas as pd\r\n",
    "from PIL import Image\r\n",
    "from io import BytesIO\r\n",
    "import matplotlib.pyplot as plt\r\n",
    "import seaborn\r\n",
    "\r\n",
    "CONFIG_PATH = \"../config/config.yaml\""
   ]
  },
  {
   "cell_type": "code",
   "execution_count": 2,
   "metadata": {
    "execution": {
     "iopub.execute_input": "2021-09-30T00:44:14.508603Z",
     "iopub.status.busy": "2021-09-30T00:44:14.505523Z",
     "iopub.status.idle": "2021-09-30T00:44:14.510756Z",
     "shell.execute_reply": "2021-09-30T00:44:14.511110Z"
    }
   },
   "outputs": [],
   "source": [
    "with open('../newest_ts', 'r') as f:\r\n",
    "    newest_ts = f.read()\r\n",
    "\r\n",
    "data_path = f\"../data/data_{newest_ts}.json\"\r\n",
    "with open(data_path, 'r') as f:\r\n",
    "    data = json.load(f)\r\n",
    "\r\n",
    "with open(CONFIG_PATH, \"r\") as stream:\r\n",
    "    config = yaml.safe_load(stream)\r\n",
    "\r\n",
    "TIME_ZONE = config['time_zone']\r\n",
    "DATETIME_FORMAT = config['dt_format']"
   ]
  },
  {
   "cell_type": "code",
   "execution_count": 3,
   "metadata": {
    "execution": {
     "iopub.execute_input": "2021-09-30T00:44:14.515804Z",
     "iopub.status.busy": "2021-09-30T00:44:14.515263Z",
     "iopub.status.idle": "2021-09-30T00:44:14.531430Z",
     "shell.execute_reply": "2021-09-30T00:44:14.530595Z"
    }
   },
   "outputs": [
    {
     "name": "stdout",
     "output_type": "stream",
     "text": [
      "Recent query happens at 2021-09-30 08:44:09 (CST).\n"
     ]
    }
   ],
   "source": [
    "def ts2dt(ts, format=DATETIME_FORMAT):\r\n",
    "    dt = (datetime.utcfromtimestamp(int(ts))\r\n",
    "                    .replace(tzinfo=tz.tzutc())\r\n",
    "                    # .astimezone(tz.tzlocal())\r\n",
    "                    .astimezone(tz.gettz(TIME_ZONE)))\r\n",
    "    return dt.strftime(format), dt\r\n",
    "\r\n",
    "_, newest_dt = ts2dt(newest_ts)\r\n",
    "print(f\"Recent query happens at {newest_dt.strftime(DATETIME_FORMAT)} ({newest_dt.tzname()}).\")"
   ]
  },
  {
   "cell_type": "code",
   "execution_count": 4,
   "metadata": {
    "execution": {
     "iopub.execute_input": "2021-09-30T00:44:14.535277Z",
     "iopub.status.busy": "2021-09-30T00:44:14.534841Z",
     "iopub.status.idle": "2021-09-30T00:44:14.538127Z",
     "shell.execute_reply": "2021-09-30T00:44:14.537752Z"
    }
   },
   "outputs": [],
   "source": [
    "def degrees_to_cardinal(d):\r\n",
    "  dirs = ['N', 'NNE', 'NE', 'ENE', 'E', 'ESE', 'SE', 'SSE', 'S', 'SSW', 'SW', 'WSW', 'W', 'WNW', 'NW', 'NNW']\r\n",
    "  ix = int(round(d / (360. / len(dirs))))\r\n",
    "  return dirs[ix % len(dirs)]"
   ]
  },
  {
   "cell_type": "code",
   "execution_count": 5,
   "metadata": {
    "execution": {
     "iopub.execute_input": "2021-09-30T00:44:14.541321Z",
     "iopub.status.busy": "2021-09-30T00:44:14.540896Z",
     "iopub.status.idle": "2021-09-30T00:44:14.544433Z",
     "shell.execute_reply": "2021-09-30T00:44:14.544095Z"
    }
   },
   "outputs": [],
   "source": [
    "# data.keys()"
   ]
  },
  {
   "cell_type": "code",
   "execution_count": 6,
   "metadata": {
    "execution": {
     "iopub.execute_input": "2021-09-30T00:44:14.547395Z",
     "iopub.status.busy": "2021-09-30T00:44:14.546864Z",
     "iopub.status.idle": "2021-09-30T00:44:14.550380Z",
     "shell.execute_reply": "2021-09-30T00:44:14.549951Z"
    }
   },
   "outputs": [],
   "source": [
    "# data['current']"
   ]
  },
  {
   "cell_type": "code",
   "execution_count": 7,
   "metadata": {
    "execution": {
     "iopub.execute_input": "2021-09-30T00:44:14.566630Z",
     "iopub.status.busy": "2021-09-30T00:44:14.566104Z",
     "iopub.status.idle": "2021-09-30T00:44:14.842748Z",
     "shell.execute_reply": "2021-09-30T00:44:14.843499Z"
    }
   },
   "outputs": [
    {
     "data": {
      "image/png": "[encoded data removed]",
      "text/plain": [
       "<Figure size 216x216 with 1 Axes>"
      ]
     },
     "metadata": {
      "needs_background": "light"
     },
     "output_type": "display_data"
    },
    {
     "name": "stdout",
     "output_type": "stream",
     "text": [
      "Today, sun rises at 06:13 and sets at 18:12.\n",
      "Currently, the weather is Clear (clear sky).\n",
      "The temperature is 30.44°C and it feels like 37.44°C.\n",
      "The UV index is 3.01, humidity is 85%.\n",
      "The pressure is 1008 hPa, percentage of cloud cover is 0%\n",
      "The wind comes from SW direction with a speed 0.89 m/s.\n"
     ]
    }
   ],
   "source": [
    "current = data['current']\r\n",
    "\r\n",
    "fig, ax = plt.subplots(figsize=(3, 3))\r\n",
    "icon = requests.get(f\"http://openweathermap.org/img/wn/{current['weather'][0]['icon']}@2x.png\")\r\n",
    "im = Image.open(BytesIO(icon.content))\r\n",
    "plt.imshow(im)\r\n",
    "ax.set_axis_off()\r\n",
    "plt.show()\r\n",
    "\r\n",
    "print(f\"Today, sun rises at {ts2dt(current['sunrise'], '%H:%M')[0]} \\\r\n",
    "and sets at {ts2dt(current['sunset'], '%H:%M')[0]}.\\n\\\r\n",
    "Currently, the weather is {current['weather'][0]['main']} ({current['weather'][0]['description']}).\\n\\\r\n",
    "The temperature is {current['temp']}°C and it feels like {current['feels_like']}°C.\\n\\\r\n",
    "The UV index is {current['uvi']}, humidity is {current['humidity']}%.\\n\\\r\n",
    "The pressure is {current['pressure']} hPa, percentage of cloud cover is {current['clouds']}%\\n\\\r\n",
    "The wind comes from {degrees_to_cardinal(current['wind_deg'])} direction with a speed {current['wind_speed']} m/s.\")"
   ]
  },
  {
   "cell_type": "code",
   "execution_count": 8,
   "metadata": {
    "execution": {
     "iopub.execute_input": "2021-09-30T00:44:14.850418Z",
     "iopub.status.busy": "2021-09-30T00:44:14.848350Z",
     "iopub.status.idle": "2021-09-30T00:44:14.854086Z",
     "shell.execute_reply": "2021-09-30T00:44:14.853618Z"
    }
   },
   "outputs": [],
   "source": [
    "df_hourly = pd.DataFrame(data['hourly'])\r\n",
    "df_daily = pd.DataFrame(data['daily'])"
   ]
  },
  {
   "cell_type": "code",
   "execution_count": 9,
   "metadata": {
    "execution": {
     "iopub.execute_input": "2021-09-30T00:44:14.865975Z",
     "iopub.status.busy": "2021-09-30T00:44:14.865352Z",
     "iopub.status.idle": "2021-09-30T00:44:15.100634Z",
     "shell.execute_reply": "2021-09-30T00:44:15.101024Z"
    }
   },
   "outputs": [
    {
     "data": {
      "image/png": "[encoded data removed]",
      "text/plain": [
       "<Figure size 864x432 with 1 Axes>"
      ]
     },
     "metadata": {
      "needs_background": "light"
     },
     "output_type": "display_data"
    }
   ],
   "source": [
    "fig, ax = plt.subplots(figsize=(12, 6))\r\n",
    "plt.plot(df_hourly.temp, '.-', label='Temperature')\r\n",
    "plt.plot(df_hourly.feels_like, '.-', label='Feels Like')\r\n",
    "ax.set(title='Temperature in future 48 hours', xlabel='Time', ylabel='Temperature')\r\n",
    "ax.set_xticks(list(range(0, len(df_hourly), 2)))\r\n",
    "ax.set_xticklabels([ts2dt(ts, '%m-%d %H:%M')[0] for i, ts in enumerate(df_hourly.dt) if i%2==0], \r\n",
    "                   rotation=45, ha=\"right\")\r\n",
    "ax.locator_params(nbins=15, axis='y')\r\n",
    "plt.legend()\r\n",
    "plt.show()"
   ]
  },
  {
   "cell_type": "code",
   "execution_count": 10,
   "metadata": {
    "execution": {
     "iopub.execute_input": "2021-09-30T00:44:15.106011Z",
     "iopub.status.busy": "2021-09-30T00:44:15.103481Z",
     "iopub.status.idle": "2021-09-30T00:44:15.122761Z",
     "shell.execute_reply": "2021-09-30T00:44:15.122377Z"
    }
   },
   "outputs": [
    {
     "data": {
      "text/html": [
       "<div>\n",
       "<style scoped>\n",
       "    .dataframe tbody tr th:only-of-type {\n",
       "        vertical-align: middle;\n",
       "    }\n",
       "\n",
       "    .dataframe tbody tr th {\n",
       "        vertical-align: top;\n",
       "    }\n",
       "\n",
       "    .dataframe thead th {\n",
       "        text-align: right;\n",
       "    }\n",
       "</style>\n",
       "<table border=\"1\" class=\"dataframe\">\n",
       "  <thead>\n",
       "    <tr style=\"text-align: right;\">\n",
       "      <th></th>\n",
       "      <th>dt</th>\n",
       "      <th>temp</th>\n",
       "      <th>feels_like</th>\n",
       "      <th>pressure</th>\n",
       "      <th>humidity</th>\n",
       "      <th>dew_point</th>\n",
       "      <th>uvi</th>\n",
       "      <th>clouds</th>\n",
       "      <th>visibility</th>\n",
       "      <th>wind_speed</th>\n",
       "      <th>wind_deg</th>\n",
       "      <th>wind_gust</th>\n",
       "      <th>weather</th>\n",
       "      <th>pop</th>\n",
       "    </tr>\n",
       "  </thead>\n",
       "  <tbody>\n",
       "    <tr>\n",
       "      <th>0</th>\n",
       "      <td>1632960000</td>\n",
       "      <td>30.10</td>\n",
       "      <td>37.10</td>\n",
       "      <td>1008</td>\n",
       "      <td>83</td>\n",
       "      <td>26.89</td>\n",
       "      <td>1.03</td>\n",
       "      <td>1</td>\n",
       "      <td>10000</td>\n",
       "      <td>2.13</td>\n",
       "      <td>264</td>\n",
       "      <td>2.50</td>\n",
       "      <td>[{'id': 800, 'main': 'Clear', 'description': '...</td>\n",
       "      <td>0.04</td>\n",
       "    </tr>\n",
       "    <tr>\n",
       "      <th>1</th>\n",
       "      <td>1632963600</td>\n",
       "      <td>30.44</td>\n",
       "      <td>37.44</td>\n",
       "      <td>1008</td>\n",
       "      <td>85</td>\n",
       "      <td>27.63</td>\n",
       "      <td>3.01</td>\n",
       "      <td>0</td>\n",
       "      <td>10000</td>\n",
       "      <td>2.15</td>\n",
       "      <td>251</td>\n",
       "      <td>2.31</td>\n",
       "      <td>[{'id': 800, 'main': 'Clear', 'description': '...</td>\n",
       "      <td>0.16</td>\n",
       "    </tr>\n",
       "    <tr>\n",
       "      <th>2</th>\n",
       "      <td>1632967200</td>\n",
       "      <td>30.40</td>\n",
       "      <td>37.40</td>\n",
       "      <td>1008</td>\n",
       "      <td>82</td>\n",
       "      <td>26.98</td>\n",
       "      <td>5.75</td>\n",
       "      <td>0</td>\n",
       "      <td>10000</td>\n",
       "      <td>2.55</td>\n",
       "      <td>241</td>\n",
       "      <td>2.54</td>\n",
       "      <td>[{'id': 800, 'main': 'Clear', 'description': '...</td>\n",
       "      <td>0.16</td>\n",
       "    </tr>\n",
       "    <tr>\n",
       "      <th>3</th>\n",
       "      <td>1632970800</td>\n",
       "      <td>30.58</td>\n",
       "      <td>37.58</td>\n",
       "      <td>1008</td>\n",
       "      <td>78</td>\n",
       "      <td>26.30</td>\n",
       "      <td>8.38</td>\n",
       "      <td>0</td>\n",
       "      <td>10000</td>\n",
       "      <td>3.08</td>\n",
       "      <td>235</td>\n",
       "      <td>2.75</td>\n",
       "      <td>[{'id': 800, 'main': 'Clear', 'description': '...</td>\n",
       "      <td>0.04</td>\n",
       "    </tr>\n",
       "    <tr>\n",
       "      <th>4</th>\n",
       "      <td>1632974400</td>\n",
       "      <td>30.86</td>\n",
       "      <td>37.86</td>\n",
       "      <td>1009</td>\n",
       "      <td>73</td>\n",
       "      <td>25.45</td>\n",
       "      <td>9.86</td>\n",
       "      <td>2</td>\n",
       "      <td>10000</td>\n",
       "      <td>3.37</td>\n",
       "      <td>228</td>\n",
       "      <td>3.03</td>\n",
       "      <td>[{'id': 800, 'main': 'Clear', 'description': '...</td>\n",
       "      <td>0.04</td>\n",
       "    </tr>\n",
       "  </tbody>\n",
       "</table>\n",
       "</div>"
      ],
      "text/plain": [
       "           dt   temp  feels_like  pressure  humidity  dew_point   uvi  clouds  \\\n",
       "0  1632960000  30.10       37.10      1008        83      26.89  1.03       1   \n",
       "1  1632963600  30.44       37.44      1008        85      27.63  3.01       0   \n",
       "2  1632967200  30.40       37.40      1008        82      26.98  5.75       0   \n",
       "3  1632970800  30.58       37.58      1008        78      26.30  8.38       0   \n",
       "4  1632974400  30.86       37.86      1009        73      25.45  9.86       2   \n",
       "\n",
       "   visibility  wind_speed  wind_deg  wind_gust  \\\n",
       "0       10000        2.13       264       2.50   \n",
       "1       10000        2.15       251       2.31   \n",
       "2       10000        2.55       241       2.54   \n",
       "3       10000        3.08       235       2.75   \n",
       "4       10000        3.37       228       3.03   \n",
       "\n",
       "                                             weather   pop  \n",
       "0  [{'id': 800, 'main': 'Clear', 'description': '...  0.04  \n",
       "1  [{'id': 800, 'main': 'Clear', 'description': '...  0.16  \n",
       "2  [{'id': 800, 'main': 'Clear', 'description': '...  0.16  \n",
       "3  [{'id': 800, 'main': 'Clear', 'description': '...  0.04  \n",
       "4  [{'id': 800, 'main': 'Clear', 'description': '...  0.04  "
      ]
     },
     "execution_count": 10,
     "metadata": {},
     "output_type": "execute_result"
    }
   ],
   "source": [
    "df_hourly.head()"
   ]
  },
  {
   "cell_type": "code",
   "execution_count": null,
   "metadata": {},
   "outputs": [],
   "source": []
  }
 ],
 "metadata": {
  "interpreter": {
   "hash": "c1b4cfe941b6d2466ad1fb5979e97da9cda8801728c8091b097ab734208fc00c"
  },
  "kernelspec": {
   "display_name": "Python 3.8.3 64-bit ('base': conda)",
   "name": "python3"
  },
  "language_info": {
   "codemirror_mode": {
    "name": "ipython",
    "version": 3
   },
   "file_extension": ".py",
   "mimetype": "text/x-python",
   "name": "python",
   "nbconvert_exporter": "python",
   "pygments_lexer": "ipython3",
   "version": "3.8.12"
  }
 },
 "nbformat": 4,
 "nbformat_minor": 2
}
