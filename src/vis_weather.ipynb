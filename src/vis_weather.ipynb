{
 "cells": [
  {
   "cell_type": "code",
   "execution_count": 1,
   "metadata": {
    "execution": {
     "iopub.execute_input": "2021-10-13T23:11:53.537077Z",
     "iopub.status.busy": "2021-10-13T23:11:53.525585Z",
     "iopub.status.idle": "2021-10-13T23:11:55.057667Z",
     "shell.execute_reply": "2021-10-13T23:11:55.056891Z"
    }
   },
   "outputs": [],
   "source": [
    "import json, yaml, requests\r\n",
    "from datetime import datetime\r\n",
    "from dateutil import tz\r\n",
    "import pandas as pd\r\n",
    "from PIL import Image\r\n",
    "from io import BytesIO\r\n",
    "import matplotlib.pyplot as plt\r\n",
    "import seaborn\r\n",
    "\r\n",
    "CONFIG_PATH = \"../config/config.yaml\""
   ]
  },
  {
   "cell_type": "code",
   "execution_count": 2,
   "metadata": {
    "execution": {
     "iopub.execute_input": "2021-10-13T23:11:55.061383Z",
     "iopub.status.busy": "2021-10-13T23:11:55.060748Z",
     "iopub.status.idle": "2021-10-13T23:11:55.070304Z",
     "shell.execute_reply": "2021-10-13T23:11:55.069741Z"
    }
   },
   "outputs": [],
   "source": [
    "with open('../newest_ts', 'r') as f:\r\n",
    "    newest_ts = f.read()\r\n",
    "\r\n",
    "data_path = f\"../data/data_{newest_ts}.json\"\r\n",
    "with open(data_path, 'r') as f:\r\n",
    "    data = json.load(f)\r\n",
    "\r\n",
    "with open(CONFIG_PATH, \"r\") as stream:\r\n",
    "    config = yaml.safe_load(stream)\r\n",
    "\r\n",
    "TIME_ZONE = config['time_zone']\r\n",
    "DATETIME_FORMAT = config['dt_format']"
   ]
  },
  {
   "cell_type": "code",
   "execution_count": 3,
   "metadata": {
    "execution": {
     "iopub.execute_input": "2021-10-13T23:11:55.075631Z",
     "iopub.status.busy": "2021-10-13T23:11:55.074969Z",
     "iopub.status.idle": "2021-10-13T23:11:55.086050Z",
     "shell.execute_reply": "2021-10-13T23:11:55.086538Z"
    }
   },
   "outputs": [
    {
     "name": "stdout",
     "output_type": "stream",
     "text": [
      "Recent query happens at 2021-10-14 07:11:49 (CST).\n"
     ]
    }
   ],
   "source": [
    "def ts2dt(ts, format=DATETIME_FORMAT):\r\n",
    "    dt = (datetime.utcfromtimestamp(int(ts))\r\n",
    "                    .replace(tzinfo=tz.tzutc())\r\n",
    "                    # .astimezone(tz.tzlocal())\r\n",
    "                    .astimezone(tz.gettz(TIME_ZONE)))\r\n",
    "    return dt.strftime(format), dt\r\n",
    "\r\n",
    "_, newest_dt = ts2dt(newest_ts)\r\n",
    "print(f\"Recent query happens at {newest_dt.strftime(DATETIME_FORMAT)} ({newest_dt.tzname()}).\")"
   ]
  },
  {
   "cell_type": "code",
   "execution_count": 4,
   "metadata": {
    "execution": {
     "iopub.execute_input": "2021-10-13T23:11:55.093230Z",
     "iopub.status.busy": "2021-10-13T23:11:55.091632Z",
     "iopub.status.idle": "2021-10-13T23:11:55.093922Z",
     "shell.execute_reply": "2021-10-13T23:11:55.094428Z"
    }
   },
   "outputs": [],
   "source": [
    "def degrees_to_cardinal(d):\r\n",
    "  dirs = ['N', 'NNE', 'NE', 'ENE', 'E', 'ESE', 'SE', 'SSE', 'S', 'SSW', 'SW', 'WSW', 'W', 'WNW', 'NW', 'NNW']\r\n",
    "  ix = int(round(d / (360. / len(dirs))))\r\n",
    "  return dirs[ix % len(dirs)]"
   ]
  },
  {
   "cell_type": "code",
   "execution_count": 5,
   "metadata": {
    "execution": {
     "iopub.execute_input": "2021-10-13T23:11:55.099775Z",
     "iopub.status.busy": "2021-10-13T23:11:55.098165Z",
     "iopub.status.idle": "2021-10-13T23:11:55.101022Z",
     "shell.execute_reply": "2021-10-13T23:11:55.101536Z"
    }
   },
   "outputs": [],
   "source": [
    "# data.keys()"
   ]
  },
  {
   "cell_type": "code",
   "execution_count": 6,
   "metadata": {
    "execution": {
     "iopub.execute_input": "2021-10-13T23:11:55.106561Z",
     "iopub.status.busy": "2021-10-13T23:11:55.105037Z",
     "iopub.status.idle": "2021-10-13T23:11:55.107234Z",
     "shell.execute_reply": "2021-10-13T23:11:55.107735Z"
    }
   },
   "outputs": [],
   "source": [
    "# data['current']"
   ]
  },
  {
   "cell_type": "code",
   "execution_count": 7,
   "metadata": {
    "execution": {
     "iopub.execute_input": "2021-10-13T23:11:55.130343Z",
     "iopub.status.busy": "2021-10-13T23:11:55.129572Z",
     "iopub.status.idle": "2021-10-13T23:11:55.568477Z",
     "shell.execute_reply": "2021-10-13T23:11:55.569005Z"
    }
   },
   "outputs": [
    {
     "data": {
      "image/png": "[encoded data removed]",
      "text/plain": [
       "<Figure size 216x216 with 1 Axes>"
      ]
     },
     "metadata": {
      "needs_background": "light"
     },
     "output_type": "display_data"
    },
    {
     "name": "stdout",
     "output_type": "stream",
     "text": [
      "Today, sun rises at 06:18 and sets at 17:59.\n",
      "Currently, the weather is Clouds (broken clouds).\n",
      "The temperature is 26.97°C and it feels like 30.75°C.\n",
      "The UV index is 0, humidity is 91%.\n",
      "The pressure is 1008 hPa, percentage of cloud cover is 66%\n",
      "The wind comes from NE direction with a speed 1.34 m/s.\n"
     ]
    }
   ],
   "source": [
    "current = data['current']\r\n",
    "\r\n",
    "fig, ax = plt.subplots(figsize=(3, 3))\r\n",
    "icon = requests.get(f\"http://openweathermap.org/img/wn/{current['weather'][0]['icon']}@2x.png\")\r\n",
    "im = Image.open(BytesIO(icon.content))\r\n",
    "plt.imshow(im)\r\n",
    "ax.set_axis_off()\r\n",
    "plt.show()\r\n",
    "\r\n",
    "print(f\"Today, sun rises at {ts2dt(current['sunrise'], '%H:%M')[0]} \\\r\n",
    "and sets at {ts2dt(current['sunset'], '%H:%M')[0]}.\\n\\\r\n",
    "Currently, the weather is {current['weather'][0]['main']} ({current['weather'][0]['description']}).\\n\\\r\n",
    "The temperature is {current['temp']}°C and it feels like {current['feels_like']}°C.\\n\\\r\n",
    "The UV index is {current['uvi']}, humidity is {current['humidity']}%.\\n\\\r\n",
    "The pressure is {current['pressure']} hPa, percentage of cloud cover is {current['clouds']}%\\n\\\r\n",
    "The wind comes from {degrees_to_cardinal(current['wind_deg'])} direction with a speed {current['wind_speed']} m/s.\")"
   ]
  },
  {
   "cell_type": "code",
   "execution_count": 8,
   "metadata": {
    "execution": {
     "iopub.execute_input": "2021-10-13T23:11:55.574662Z",
     "iopub.status.busy": "2021-10-13T23:11:55.574044Z",
     "iopub.status.idle": "2021-10-13T23:11:55.578854Z",
     "shell.execute_reply": "2021-10-13T23:11:55.579660Z"
    }
   },
   "outputs": [],
   "source": [
    "df_hourly = pd.DataFrame(data['hourly'])\r\n",
    "df_daily = pd.DataFrame(data['daily'])"
   ]
  },
  {
   "cell_type": "code",
   "execution_count": 9,
   "metadata": {
    "execution": {
     "iopub.execute_input": "2021-10-13T23:11:55.583524Z",
     "iopub.status.busy": "2021-10-13T23:11:55.582263Z",
     "iopub.status.idle": "2021-10-13T23:11:55.941351Z",
     "shell.execute_reply": "2021-10-13T23:11:55.940754Z"
    }
   },
   "outputs": [
    {
     "data": {
      "image/png": "[encoded data removed]",
      "text/plain": [
       "<Figure size 864x432 with 1 Axes>"
      ]
     },
     "metadata": {
      "needs_background": "light"
     },
     "output_type": "display_data"
    }
   ],
   "source": [
    "fig, ax = plt.subplots(figsize=(12, 6))\r\n",
    "plt.plot(df_hourly.temp, '.-', label='Temperature')\r\n",
    "plt.plot(df_hourly.feels_like, '.-', label='Feels Like')\r\n",
    "ax.set(title='Temperature in future 48 hours', xlabel='Time', ylabel='Temperature')\r\n",
    "ax.set_xticks(list(range(0, len(df_hourly), 2)))\r\n",
    "ax.set_xticklabels([ts2dt(ts, '%m-%d %H:%M')[0] for i, ts in enumerate(df_hourly.dt) if i%2==0], \r\n",
    "                   rotation=45, ha=\"right\")\r\n",
    "ax.locator_params(nbins=15, axis='y')\r\n",
    "plt.legend()\r\n",
    "plt.show()"
   ]
  },
  {
   "cell_type": "code",
   "execution_count": 10,
   "metadata": {
    "execution": {
     "iopub.execute_input": "2021-10-13T23:11:55.946662Z",
     "iopub.status.busy": "2021-10-13T23:11:55.944281Z",
     "iopub.status.idle": "2021-10-13T23:11:55.975271Z",
     "shell.execute_reply": "2021-10-13T23:11:55.975778Z"
    }
   },
   "outputs": [
    {
     "data": {
      "text/html": [
       "<div>\n",
       "<style scoped>\n",
       "    .dataframe tbody tr th:only-of-type {\n",
       "        vertical-align: middle;\n",
       "    }\n",
       "\n",
       "    .dataframe tbody tr th {\n",
       "        vertical-align: top;\n",
       "    }\n",
       "\n",
       "    .dataframe thead th {\n",
       "        text-align: right;\n",
       "    }\n",
       "</style>\n",
       "<table border=\"1\" class=\"dataframe\">\n",
       "  <thead>\n",
       "    <tr style=\"text-align: right;\">\n",
       "      <th></th>\n",
       "      <th>dt</th>\n",
       "      <th>temp</th>\n",
       "      <th>feels_like</th>\n",
       "      <th>pressure</th>\n",
       "      <th>humidity</th>\n",
       "      <th>dew_point</th>\n",
       "      <th>uvi</th>\n",
       "      <th>clouds</th>\n",
       "      <th>visibility</th>\n",
       "      <th>wind_speed</th>\n",
       "      <th>wind_deg</th>\n",
       "      <th>wind_gust</th>\n",
       "      <th>weather</th>\n",
       "      <th>pop</th>\n",
       "      <th>rain</th>\n",
       "    </tr>\n",
       "  </thead>\n",
       "  <tbody>\n",
       "    <tr>\n",
       "      <th>0</th>\n",
       "      <td>1634166000</td>\n",
       "      <td>26.97</td>\n",
       "      <td>30.75</td>\n",
       "      <td>1008</td>\n",
       "      <td>91</td>\n",
       "      <td>25.37</td>\n",
       "      <td>0.00</td>\n",
       "      <td>66</td>\n",
       "      <td>10000</td>\n",
       "      <td>4.81</td>\n",
       "      <td>51</td>\n",
       "      <td>7.01</td>\n",
       "      <td>[{'id': 803, 'main': 'Clouds', 'description': ...</td>\n",
       "      <td>0.62</td>\n",
       "      <td>NaN</td>\n",
       "    </tr>\n",
       "    <tr>\n",
       "      <th>1</th>\n",
       "      <td>1634169600</td>\n",
       "      <td>26.68</td>\n",
       "      <td>29.84</td>\n",
       "      <td>1009</td>\n",
       "      <td>90</td>\n",
       "      <td>24.90</td>\n",
       "      <td>0.81</td>\n",
       "      <td>67</td>\n",
       "      <td>10000</td>\n",
       "      <td>4.95</td>\n",
       "      <td>49</td>\n",
       "      <td>7.37</td>\n",
       "      <td>[{'id': 500, 'main': 'Rain', 'description': 'l...</td>\n",
       "      <td>0.62</td>\n",
       "      <td>{'1h': 0.18}</td>\n",
       "    </tr>\n",
       "    <tr>\n",
       "      <th>2</th>\n",
       "      <td>1634173200</td>\n",
       "      <td>26.66</td>\n",
       "      <td>26.66</td>\n",
       "      <td>1009</td>\n",
       "      <td>87</td>\n",
       "      <td>24.32</td>\n",
       "      <td>2.55</td>\n",
       "      <td>79</td>\n",
       "      <td>10000</td>\n",
       "      <td>5.22</td>\n",
       "      <td>50</td>\n",
       "      <td>7.50</td>\n",
       "      <td>[{'id': 803, 'main': 'Clouds', 'description': ...</td>\n",
       "      <td>0.38</td>\n",
       "      <td>NaN</td>\n",
       "    </tr>\n",
       "    <tr>\n",
       "      <th>3</th>\n",
       "      <td>1634176800</td>\n",
       "      <td>26.87</td>\n",
       "      <td>29.81</td>\n",
       "      <td>1010</td>\n",
       "      <td>84</td>\n",
       "      <td>23.94</td>\n",
       "      <td>5.07</td>\n",
       "      <td>74</td>\n",
       "      <td>10000</td>\n",
       "      <td>5.55</td>\n",
       "      <td>52</td>\n",
       "      <td>7.48</td>\n",
       "      <td>[{'id': 803, 'main': 'Clouds', 'description': ...</td>\n",
       "      <td>0.38</td>\n",
       "      <td>NaN</td>\n",
       "    </tr>\n",
       "    <tr>\n",
       "      <th>4</th>\n",
       "      <td>1634180400</td>\n",
       "      <td>27.26</td>\n",
       "      <td>30.33</td>\n",
       "      <td>1010</td>\n",
       "      <td>80</td>\n",
       "      <td>23.51</td>\n",
       "      <td>7.50</td>\n",
       "      <td>64</td>\n",
       "      <td>10000</td>\n",
       "      <td>5.50</td>\n",
       "      <td>58</td>\n",
       "      <td>7.16</td>\n",
       "      <td>[{'id': 803, 'main': 'Clouds', 'description': ...</td>\n",
       "      <td>0.39</td>\n",
       "      <td>NaN</td>\n",
       "    </tr>\n",
       "  </tbody>\n",
       "</table>\n",
       "</div>"
      ],
      "text/plain": [
       "           dt   temp  feels_like  pressure  humidity  dew_point   uvi  clouds  \\\n",
       "0  1634166000  26.97       30.75      1008        91      25.37  0.00      66   \n",
       "1  1634169600  26.68       29.84      1009        90      24.90  0.81      67   \n",
       "2  1634173200  26.66       26.66      1009        87      24.32  2.55      79   \n",
       "3  1634176800  26.87       29.81      1010        84      23.94  5.07      74   \n",
       "4  1634180400  27.26       30.33      1010        80      23.51  7.50      64   \n",
       "\n",
       "   visibility  wind_speed  wind_deg  wind_gust  \\\n",
       "0       10000        4.81        51       7.01   \n",
       "1       10000        4.95        49       7.37   \n",
       "2       10000        5.22        50       7.50   \n",
       "3       10000        5.55        52       7.48   \n",
       "4       10000        5.50        58       7.16   \n",
       "\n",
       "                                             weather   pop          rain  \n",
       "0  [{'id': 803, 'main': 'Clouds', 'description': ...  0.62           NaN  \n",
       "1  [{'id': 500, 'main': 'Rain', 'description': 'l...  0.62  {'1h': 0.18}  \n",
       "2  [{'id': 803, 'main': 'Clouds', 'description': ...  0.38           NaN  \n",
       "3  [{'id': 803, 'main': 'Clouds', 'description': ...  0.38           NaN  \n",
       "4  [{'id': 803, 'main': 'Clouds', 'description': ...  0.39           NaN  "
      ]
     },
     "execution_count": 10,
     "metadata": {},
     "output_type": "execute_result"
    }
   ],
   "source": [
    "df_hourly.head()"
   ]
  },
  {
   "cell_type": "code",
   "execution_count": null,
   "metadata": {},
   "outputs": [],
   "source": []
  }
 ],
 "metadata": {
  "interpreter": {
   "hash": "c1b4cfe941b6d2466ad1fb5979e97da9cda8801728c8091b097ab734208fc00c"
  },
  "kernelspec": {
   "display_name": "Python 3.8.3 64-bit ('base': conda)",
   "name": "python3"
  },
  "language_info": {
   "codemirror_mode": {
    "name": "ipython",
    "version": 3
   },
   "file_extension": ".py",
   "mimetype": "text/x-python",
   "name": "python",
   "nbconvert_exporter": "python",
   "pygments_lexer": "ipython3",
   "version": "3.8.12"
  }
 },
 "nbformat": 4,
 "nbformat_minor": 2
}
