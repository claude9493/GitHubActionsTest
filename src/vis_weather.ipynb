{
 "cells": [
  {
   "cell_type": "code",
   "execution_count": 1,
   "metadata": {
    "execution": {
     "iopub.execute_input": "2021-10-15T17:16:51.670694Z",
     "iopub.status.busy": "2021-10-15T17:16:51.669895Z",
     "iopub.status.idle": "2021-10-15T17:16:56.419028Z",
     "shell.execute_reply": "2021-10-15T17:16:56.417975Z"
    }
   },
   "outputs": [],
   "source": [
    "import json, yaml, requests\r\n",
    "from datetime import datetime\r\n",
    "from dateutil import tz\r\n",
    "import pandas as pd\r\n",
    "from PIL import Image\r\n",
    "from io import BytesIO\r\n",
    "import matplotlib.pyplot as plt\r\n",
    "import seaborn\r\n",
    "\r\n",
    "CONFIG_PATH = \"../config/config.yaml\""
   ]
  },
  {
   "cell_type": "code",
   "execution_count": 2,
   "metadata": {
    "execution": {
     "iopub.execute_input": "2021-10-15T17:16:56.424738Z",
     "iopub.status.busy": "2021-10-15T17:16:56.424118Z",
     "iopub.status.idle": "2021-10-15T17:16:56.430130Z",
     "shell.execute_reply": "2021-10-15T17:16:56.430589Z"
    }
   },
   "outputs": [],
   "source": [
    "with open('../newest_ts', 'r') as f:\r\n",
    "    newest_ts = f.read()\r\n",
    "\r\n",
    "data_path = f\"../data/data_{newest_ts}.json\"\r\n",
    "with open(data_path, 'r') as f:\r\n",
    "    data = json.load(f)\r\n",
    "\r\n",
    "with open(CONFIG_PATH, \"r\") as stream:\r\n",
    "    config = yaml.safe_load(stream)\r\n",
    "\r\n",
    "TIME_ZONE = config['time_zone']\r\n",
    "DATETIME_FORMAT = config['dt_format']"
   ]
  },
  {
   "cell_type": "code",
   "execution_count": 3,
   "metadata": {
    "execution": {
     "iopub.execute_input": "2021-10-15T17:16:56.435943Z",
     "iopub.status.busy": "2021-10-15T17:16:56.435263Z",
     "iopub.status.idle": "2021-10-15T17:16:56.442643Z",
     "shell.execute_reply": "2021-10-15T17:16:56.442135Z"
    }
   },
   "outputs": [
    {
     "name": "stdout",
     "output_type": "stream",
     "text": [
      "Recent query happens at 2021-10-16 01:16:43 (CST).\n"
     ]
    }
   ],
   "source": [
    "def ts2dt(ts, format=DATETIME_FORMAT):\r\n",
    "    dt = (datetime.utcfromtimestamp(int(ts))\r\n",
    "                    .replace(tzinfo=tz.tzutc())\r\n",
    "                    # .astimezone(tz.tzlocal())\r\n",
    "                    .astimezone(tz.gettz(TIME_ZONE)))\r\n",
    "    return dt.strftime(format), dt\r\n",
    "\r\n",
    "_, newest_dt = ts2dt(newest_ts)\r\n",
    "print(f\"Recent query happens at {newest_dt.strftime(DATETIME_FORMAT)} ({newest_dt.tzname()}).\")"
   ]
  },
  {
   "cell_type": "code",
   "execution_count": 4,
   "metadata": {
    "execution": {
     "iopub.execute_input": "2021-10-15T17:16:56.450197Z",
     "iopub.status.busy": "2021-10-15T17:16:56.447580Z",
     "iopub.status.idle": "2021-10-15T17:16:56.450906Z",
     "shell.execute_reply": "2021-10-15T17:16:56.451458Z"
    }
   },
   "outputs": [],
   "source": [
    "def degrees_to_cardinal(d):\r\n",
    "  dirs = ['N', 'NNE', 'NE', 'ENE', 'E', 'ESE', 'SE', 'SSE', 'S', 'SSW', 'SW', 'WSW', 'W', 'WNW', 'NW', 'NNW']\r\n",
    "  ix = int(round(d / (360. / len(dirs))))\r\n",
    "  return dirs[ix % len(dirs)]"
   ]
  },
  {
   "cell_type": "code",
   "execution_count": 5,
   "metadata": {
    "execution": {
     "iopub.execute_input": "2021-10-15T17:16:56.457121Z",
     "iopub.status.busy": "2021-10-15T17:16:56.455673Z",
     "iopub.status.idle": "2021-10-15T17:16:56.457794Z",
     "shell.execute_reply": "2021-10-15T17:16:56.458329Z"
    }
   },
   "outputs": [],
   "source": [
    "# data.keys()"
   ]
  },
  {
   "cell_type": "code",
   "execution_count": 6,
   "metadata": {
    "execution": {
     "iopub.execute_input": "2021-10-15T17:16:56.463158Z",
     "iopub.status.busy": "2021-10-15T17:16:56.461741Z",
     "iopub.status.idle": "2021-10-15T17:16:56.463933Z",
     "shell.execute_reply": "2021-10-15T17:16:56.464458Z"
    }
   },
   "outputs": [],
   "source": [
    "# data['current']"
   ]
  },
  {
   "cell_type": "code",
   "execution_count": 7,
   "metadata": {
    "execution": {
     "iopub.execute_input": "2021-10-15T17:16:56.494601Z",
     "iopub.status.busy": "2021-10-15T17:16:56.486617Z",
     "iopub.status.idle": "2021-10-15T17:16:56.910689Z",
     "shell.execute_reply": "2021-10-15T17:16:56.911599Z"
    }
   },
   "outputs": [
    {
     "data": {
      "image/png": "[encoded data removed]",
      "text/plain": [
       "<Figure size 216x216 with 1 Axes>"
      ]
     },
     "metadata": {
      "needs_background": "light"
     },
     "output_type": "display_data"
    },
    {
     "name": "stdout",
     "output_type": "stream",
     "text": [
      "Today, sun rises at 06:19 and sets at 17:57.\n",
      "Currently, the weather is Clouds (overcast clouds).\n",
      "The temperature is 25.88°C and it feels like 26.8°C.\n",
      "The UV index is 0, humidity is 87%.\n",
      "The pressure is 1011 hPa, percentage of cloud cover is 100%\n",
      "The wind comes from WNW direction with a speed 0.45 m/s.\n"
     ]
    }
   ],
   "source": [
    "current = data['current']\r\n",
    "\r\n",
    "fig, ax = plt.subplots(figsize=(3, 3))\r\n",
    "icon = requests.get(f\"http://openweathermap.org/img/wn/{current['weather'][0]['icon']}@2x.png\")\r\n",
    "im = Image.open(BytesIO(icon.content))\r\n",
    "plt.imshow(im)\r\n",
    "ax.set_axis_off()\r\n",
    "plt.show()\r\n",
    "\r\n",
    "print(f\"Today, sun rises at {ts2dt(current['sunrise'], '%H:%M')[0]} \\\r\n",
    "and sets at {ts2dt(current['sunset'], '%H:%M')[0]}.\\n\\\r\n",
    "Currently, the weather is {current['weather'][0]['main']} ({current['weather'][0]['description']}).\\n\\\r\n",
    "The temperature is {current['temp']}°C and it feels like {current['feels_like']}°C.\\n\\\r\n",
    "The UV index is {current['uvi']}, humidity is {current['humidity']}%.\\n\\\r\n",
    "The pressure is {current['pressure']} hPa, percentage of cloud cover is {current['clouds']}%\\n\\\r\n",
    "The wind comes from {degrees_to_cardinal(current['wind_deg'])} direction with a speed {current['wind_speed']} m/s.\")"
   ]
  },
  {
   "cell_type": "code",
   "execution_count": 8,
   "metadata": {
    "execution": {
     "iopub.execute_input": "2021-10-15T17:16:56.916312Z",
     "iopub.status.busy": "2021-10-15T17:16:56.915086Z",
     "iopub.status.idle": "2021-10-15T17:16:56.924375Z",
     "shell.execute_reply": "2021-10-15T17:16:56.925198Z"
    }
   },
   "outputs": [],
   "source": [
    "df_hourly = pd.DataFrame(data['hourly'])\r\n",
    "df_daily = pd.DataFrame(data['daily'])"
   ]
  },
  {
   "cell_type": "code",
   "execution_count": 9,
   "metadata": {
    "execution": {
     "iopub.execute_input": "2021-10-15T17:16:56.929104Z",
     "iopub.status.busy": "2021-10-15T17:16:56.927823Z",
     "iopub.status.idle": "2021-10-15T17:16:57.244987Z",
     "shell.execute_reply": "2021-10-15T17:16:57.245478Z"
    }
   },
   "outputs": [
    {
     "data": {
      "image/png": "[encoded data removed]",
      "text/plain": [
       "<Figure size 864x432 with 1 Axes>"
      ]
     },
     "metadata": {
      "needs_background": "light"
     },
     "output_type": "display_data"
    }
   ],
   "source": [
    "fig, ax = plt.subplots(figsize=(12, 6))\r\n",
    "plt.plot(df_hourly.temp, '.-', label='Temperature')\r\n",
    "plt.plot(df_hourly.feels_like, '.-', label='Feels Like')\r\n",
    "ax.set(title='Temperature in future 48 hours', xlabel='Time', ylabel='Temperature')\r\n",
    "ax.set_xticks(list(range(0, len(df_hourly), 2)))\r\n",
    "ax.set_xticklabels([ts2dt(ts, '%m-%d %H:%M')[0] for i, ts in enumerate(df_hourly.dt) if i%2==0], \r\n",
    "                   rotation=45, ha=\"right\")\r\n",
    "ax.locator_params(nbins=15, axis='y')\r\n",
    "plt.legend()\r\n",
    "plt.show()"
   ]
  },
  {
   "cell_type": "code",
   "execution_count": 10,
   "metadata": {
    "execution": {
     "iopub.execute_input": "2021-10-15T17:16:57.259129Z",
     "iopub.status.busy": "2021-10-15T17:16:57.258608Z",
     "iopub.status.idle": "2021-10-15T17:16:57.280997Z",
     "shell.execute_reply": "2021-10-15T17:16:57.281487Z"
    }
   },
   "outputs": [
    {
     "data": {
      "text/html": [
       "<div>\n",
       "<style scoped>\n",
       "    .dataframe tbody tr th:only-of-type {\n",
       "        vertical-align: middle;\n",
       "    }\n",
       "\n",
       "    .dataframe tbody tr th {\n",
       "        vertical-align: top;\n",
       "    }\n",
       "\n",
       "    .dataframe thead th {\n",
       "        text-align: right;\n",
       "    }\n",
       "</style>\n",
       "<table border=\"1\" class=\"dataframe\">\n",
       "  <thead>\n",
       "    <tr style=\"text-align: right;\">\n",
       "      <th></th>\n",
       "      <th>dt</th>\n",
       "      <th>temp</th>\n",
       "      <th>feels_like</th>\n",
       "      <th>pressure</th>\n",
       "      <th>humidity</th>\n",
       "      <th>dew_point</th>\n",
       "      <th>uvi</th>\n",
       "      <th>clouds</th>\n",
       "      <th>visibility</th>\n",
       "      <th>wind_speed</th>\n",
       "      <th>wind_deg</th>\n",
       "      <th>wind_gust</th>\n",
       "      <th>weather</th>\n",
       "      <th>pop</th>\n",
       "      <th>rain</th>\n",
       "    </tr>\n",
       "  </thead>\n",
       "  <tbody>\n",
       "    <tr>\n",
       "      <th>0</th>\n",
       "      <td>1634317200</td>\n",
       "      <td>25.88</td>\n",
       "      <td>26.80</td>\n",
       "      <td>1011</td>\n",
       "      <td>87</td>\n",
       "      <td>23.55</td>\n",
       "      <td>0.0</td>\n",
       "      <td>100</td>\n",
       "      <td>10000</td>\n",
       "      <td>3.16</td>\n",
       "      <td>3</td>\n",
       "      <td>4.30</td>\n",
       "      <td>[{'id': 804, 'main': 'Clouds', 'description': ...</td>\n",
       "      <td>0.57</td>\n",
       "      <td>NaN</td>\n",
       "    </tr>\n",
       "    <tr>\n",
       "      <th>1</th>\n",
       "      <td>1634320800</td>\n",
       "      <td>25.50</td>\n",
       "      <td>26.40</td>\n",
       "      <td>1011</td>\n",
       "      <td>88</td>\n",
       "      <td>23.36</td>\n",
       "      <td>0.0</td>\n",
       "      <td>100</td>\n",
       "      <td>10000</td>\n",
       "      <td>3.42</td>\n",
       "      <td>2</td>\n",
       "      <td>4.97</td>\n",
       "      <td>[{'id': 500, 'main': 'Rain', 'description': 'l...</td>\n",
       "      <td>0.53</td>\n",
       "      <td>{'1h': 0.24}</td>\n",
       "    </tr>\n",
       "    <tr>\n",
       "      <th>2</th>\n",
       "      <td>1634324400</td>\n",
       "      <td>25.09</td>\n",
       "      <td>25.93</td>\n",
       "      <td>1011</td>\n",
       "      <td>87</td>\n",
       "      <td>22.77</td>\n",
       "      <td>0.0</td>\n",
       "      <td>100</td>\n",
       "      <td>10000</td>\n",
       "      <td>3.69</td>\n",
       "      <td>7</td>\n",
       "      <td>5.81</td>\n",
       "      <td>[{'id': 804, 'main': 'Clouds', 'description': ...</td>\n",
       "      <td>0.35</td>\n",
       "      <td>NaN</td>\n",
       "    </tr>\n",
       "    <tr>\n",
       "      <th>3</th>\n",
       "      <td>1634328000</td>\n",
       "      <td>24.57</td>\n",
       "      <td>25.33</td>\n",
       "      <td>1012</td>\n",
       "      <td>86</td>\n",
       "      <td>22.07</td>\n",
       "      <td>0.0</td>\n",
       "      <td>98</td>\n",
       "      <td>10000</td>\n",
       "      <td>4.26</td>\n",
       "      <td>11</td>\n",
       "      <td>7.19</td>\n",
       "      <td>[{'id': 804, 'main': 'Clouds', 'description': ...</td>\n",
       "      <td>0.35</td>\n",
       "      <td>NaN</td>\n",
       "    </tr>\n",
       "    <tr>\n",
       "      <th>4</th>\n",
       "      <td>1634331600</td>\n",
       "      <td>23.88</td>\n",
       "      <td>24.54</td>\n",
       "      <td>1012</td>\n",
       "      <td>85</td>\n",
       "      <td>21.20</td>\n",
       "      <td>0.0</td>\n",
       "      <td>97</td>\n",
       "      <td>10000</td>\n",
       "      <td>4.70</td>\n",
       "      <td>9</td>\n",
       "      <td>7.69</td>\n",
       "      <td>[{'id': 804, 'main': 'Clouds', 'description': ...</td>\n",
       "      <td>0.35</td>\n",
       "      <td>NaN</td>\n",
       "    </tr>\n",
       "  </tbody>\n",
       "</table>\n",
       "</div>"
      ],
      "text/plain": [
       "           dt   temp  feels_like  pressure  humidity  dew_point  uvi  clouds  \\\n",
       "0  1634317200  25.88       26.80      1011        87      23.55  0.0     100   \n",
       "1  1634320800  25.50       26.40      1011        88      23.36  0.0     100   \n",
       "2  1634324400  25.09       25.93      1011        87      22.77  0.0     100   \n",
       "3  1634328000  24.57       25.33      1012        86      22.07  0.0      98   \n",
       "4  1634331600  23.88       24.54      1012        85      21.20  0.0      97   \n",
       "\n",
       "   visibility  wind_speed  wind_deg  wind_gust  \\\n",
       "0       10000        3.16         3       4.30   \n",
       "1       10000        3.42         2       4.97   \n",
       "2       10000        3.69         7       5.81   \n",
       "3       10000        4.26        11       7.19   \n",
       "4       10000        4.70         9       7.69   \n",
       "\n",
       "                                             weather   pop          rain  \n",
       "0  [{'id': 804, 'main': 'Clouds', 'description': ...  0.57           NaN  \n",
       "1  [{'id': 500, 'main': 'Rain', 'description': 'l...  0.53  {'1h': 0.24}  \n",
       "2  [{'id': 804, 'main': 'Clouds', 'description': ...  0.35           NaN  \n",
       "3  [{'id': 804, 'main': 'Clouds', 'description': ...  0.35           NaN  \n",
       "4  [{'id': 804, 'main': 'Clouds', 'description': ...  0.35           NaN  "
      ]
     },
     "execution_count": 10,
     "metadata": {},
     "output_type": "execute_result"
    }
   ],
   "source": [
    "df_hourly.head()"
   ]
  },
  {
   "cell_type": "code",
   "execution_count": null,
   "metadata": {},
   "outputs": [],
   "source": []
  }
 ],
 "metadata": {
  "interpreter": {
   "hash": "c1b4cfe941b6d2466ad1fb5979e97da9cda8801728c8091b097ab734208fc00c"
  },
  "kernelspec": {
   "display_name": "Python 3.8.3 64-bit ('base': conda)",
   "name": "python3"
  },
  "language_info": {
   "codemirror_mode": {
    "name": "ipython",
    "version": 3
   },
   "file_extension": ".py",
   "mimetype": "text/x-python",
   "name": "python",
   "nbconvert_exporter": "python",
   "pygments_lexer": "ipython3",
   "version": "3.8.12"
  }
 },
 "nbformat": 4,
 "nbformat_minor": 2
}
