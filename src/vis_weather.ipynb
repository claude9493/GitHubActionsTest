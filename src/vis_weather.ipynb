{
 "cells": [
  {
   "cell_type": "code",
   "execution_count": 1,
   "metadata": {
    "execution": {
     "iopub.execute_input": "2021-09-09T06:47:14.793344Z",
     "iopub.status.busy": "2021-09-09T06:47:14.792756Z",
     "iopub.status.idle": "2021-09-09T06:47:16.141082Z",
     "shell.execute_reply": "2021-09-09T06:47:16.140254Z"
    }
   },
   "outputs": [],
   "source": [
    "import json, yaml, requests\r\n",
    "from datetime import datetime\r\n",
    "from dateutil import tz\r\n",
    "import pandas as pd\r\n",
    "from PIL import Image\r\n",
    "from io import BytesIO\r\n",
    "import matplotlib.pyplot as plt\r\n",
    "import seaborn\r\n",
    "\r\n",
    "CONFIG_PATH = \"../config/config.yaml\""
   ]
  },
  {
   "cell_type": "code",
   "execution_count": 2,
   "metadata": {
    "execution": {
     "iopub.execute_input": "2021-09-09T06:47:16.148488Z",
     "iopub.status.busy": "2021-09-09T06:47:16.147674Z",
     "iopub.status.idle": "2021-09-09T06:47:16.153833Z",
     "shell.execute_reply": "2021-09-09T06:47:16.154220Z"
    }
   },
   "outputs": [],
   "source": [
    "with open('../newest_ts', 'r') as f:\r\n",
    "    newest_ts = f.read()\r\n",
    "\r\n",
    "data_path = f\"../data/data_{newest_ts}.json\"\r\n",
    "with open(data_path, 'r') as f:\r\n",
    "    data = json.load(f)\r\n",
    "\r\n",
    "with open(CONFIG_PATH, \"r\") as stream:\r\n",
    "    config = yaml.safe_load(stream)\r\n",
    "\r\n",
    "TIME_ZONE = config['time_zone']\r\n",
    "DATETIME_FORMAT = config['dt_format']"
   ]
  },
  {
   "cell_type": "code",
   "execution_count": 3,
   "metadata": {
    "execution": {
     "iopub.execute_input": "2021-09-09T06:47:16.158769Z",
     "iopub.status.busy": "2021-09-09T06:47:16.158269Z",
     "iopub.status.idle": "2021-09-09T06:47:16.163116Z",
     "shell.execute_reply": "2021-09-09T06:47:16.163516Z"
    }
   },
   "outputs": [
    {
     "name": "stdout",
     "output_type": "stream",
     "text": [
      "Recent query happens at 2021-09-09 14:47:12 (CST).\n"
     ]
    }
   ],
   "source": [
    "def ts2dt(ts, format=DATETIME_FORMAT):\r\n",
    "    dt = (datetime.utcfromtimestamp(int(ts))\r\n",
    "                    .replace(tzinfo=tz.tzutc())\r\n",
    "                    # .astimezone(tz.tzlocal())\r\n",
    "                    .astimezone(tz.gettz(TIME_ZONE)))\r\n",
    "    return dt.strftime(format), dt\r\n",
    "\r\n",
    "_, newest_dt = ts2dt(newest_ts)\r\n",
    "print(f\"Recent query happens at {newest_dt.strftime(DATETIME_FORMAT)} ({newest_dt.tzname()}).\")"
   ]
  },
  {
   "cell_type": "code",
   "execution_count": 4,
   "metadata": {
    "execution": {
     "iopub.execute_input": "2021-09-09T06:47:16.168701Z",
     "iopub.status.busy": "2021-09-09T06:47:16.167507Z",
     "iopub.status.idle": "2021-09-09T06:47:16.169315Z",
     "shell.execute_reply": "2021-09-09T06:47:16.169738Z"
    }
   },
   "outputs": [],
   "source": [
    "def degrees_to_cardinal(d):\r\n",
    "  dirs = ['N', 'NNE', 'NE', 'ENE', 'E', 'ESE', 'SE', 'SSE', 'S', 'SSW', 'SW', 'WSW', 'W', 'WNW', 'NW', 'NNW']\r\n",
    "  ix = int(round(d / (360. / len(dirs))))\r\n",
    "  return dirs[ix % len(dirs)]"
   ]
  },
  {
   "cell_type": "code",
   "execution_count": 5,
   "metadata": {
    "execution": {
     "iopub.execute_input": "2021-09-09T06:47:16.173944Z",
     "iopub.status.busy": "2021-09-09T06:47:16.172876Z",
     "iopub.status.idle": "2021-09-09T06:47:16.174506Z",
     "shell.execute_reply": "2021-09-09T06:47:16.174900Z"
    }
   },
   "outputs": [],
   "source": [
    "# data.keys()"
   ]
  },
  {
   "cell_type": "code",
   "execution_count": 6,
   "metadata": {
    "execution": {
     "iopub.execute_input": "2021-09-09T06:47:16.178920Z",
     "iopub.status.busy": "2021-09-09T06:47:16.177751Z",
     "iopub.status.idle": "2021-09-09T06:47:16.179477Z",
     "shell.execute_reply": "2021-09-09T06:47:16.180086Z"
    }
   },
   "outputs": [],
   "source": [
    "# data['current']"
   ]
  },
  {
   "cell_type": "code",
   "execution_count": 7,
   "metadata": {
    "execution": {
     "iopub.execute_input": "2021-09-09T06:47:16.197751Z",
     "iopub.status.busy": "2021-09-09T06:47:16.197233Z",
     "iopub.status.idle": "2021-09-09T06:47:16.616098Z",
     "shell.execute_reply": "2021-09-09T06:47:16.616845Z"
    }
   },
   "outputs": [
    {
     "data": {
      "image/png": "[encoded data removed]",
      "text/plain": [
       "<Figure size 216x216 with 1 Axes>"
      ]
     },
     "metadata": {
      "needs_background": "light"
     },
     "output_type": "display_data"
    },
    {
     "name": "stdout",
     "output_type": "stream",
     "text": [
      "Today, sun rises at 06:08 and sets at 18:32.\n",
      "Currently, the weather is Clouds (broken clouds).\n",
      "The temperature is 32.69°C and it feels like 39.69°C.\n",
      "The UV index is 4.6, humidity is 71%.\n",
      "The pressure is 1008 hPa, percentage of cloud cover is 71%\n",
      "The wind comes from ESE direction with a speed 4.28 m/s.\n"
     ]
    }
   ],
   "source": [
    "current = data['current']\r\n",
    "\r\n",
    "fig, ax = plt.subplots(figsize=(3, 3))\r\n",
    "icon = requests.get(f\"http://openweathermap.org/img/wn/{current['weather'][0]['icon']}@2x.png\")\r\n",
    "im = Image.open(BytesIO(icon.content))\r\n",
    "plt.imshow(im)\r\n",
    "ax.set_axis_off()\r\n",
    "plt.show()\r\n",
    "\r\n",
    "print(f\"Today, sun rises at {ts2dt(current['sunrise'], '%H:%M')[0]} \\\r\n",
    "and sets at {ts2dt(current['sunset'], '%H:%M')[0]}.\\n\\\r\n",
    "Currently, the weather is {current['weather'][0]['main']} ({current['weather'][0]['description']}).\\n\\\r\n",
    "The temperature is {current['temp']}°C and it feels like {current['feels_like']}°C.\\n\\\r\n",
    "The UV index is {current['uvi']}, humidity is {current['humidity']}%.\\n\\\r\n",
    "The pressure is {current['pressure']} hPa, percentage of cloud cover is {current['clouds']}%\\n\\\r\n",
    "The wind comes from {degrees_to_cardinal(current['wind_deg'])} direction with a speed {current['wind_speed']} m/s.\")"
   ]
  },
  {
   "cell_type": "code",
   "execution_count": 8,
   "metadata": {
    "execution": {
     "iopub.execute_input": "2021-09-09T06:47:16.620072Z",
     "iopub.status.busy": "2021-09-09T06:47:16.619554Z",
     "iopub.status.idle": "2021-09-09T06:47:16.626464Z",
     "shell.execute_reply": "2021-09-09T06:47:16.627181Z"
    }
   },
   "outputs": [],
   "source": [
    "df_hourly = pd.DataFrame(data['hourly'])\r\n",
    "df_daily = pd.DataFrame(data['daily'])"
   ]
  },
  {
   "cell_type": "code",
   "execution_count": 9,
   "metadata": {
    "execution": {
     "iopub.execute_input": "2021-09-09T06:47:16.630415Z",
     "iopub.status.busy": "2021-09-09T06:47:16.629358Z",
     "iopub.status.idle": "2021-09-09T06:47:16.909756Z",
     "shell.execute_reply": "2021-09-09T06:47:16.910226Z"
    }
   },
   "outputs": [
    {
     "data": {
      "image/png": "[encoded data removed]",
      "text/plain": [
       "<Figure size 864x432 with 1 Axes>"
      ]
     },
     "metadata": {
      "needs_background": "light"
     },
     "output_type": "display_data"
    }
   ],
   "source": [
    "fig, ax = plt.subplots(figsize=(12, 6))\r\n",
    "plt.plot(df_hourly.temp, '.-', label='Temperature')\r\n",
    "plt.plot(df_hourly.feels_like, '.-', label='Feels Like')\r\n",
    "ax.set(title='Temperature in future 48 hours', xlabel='Time', ylabel='Temperature')\r\n",
    "ax.set_xticks(list(range(0, len(df_hourly), 2)))\r\n",
    "ax.set_xticklabels([ts2dt(ts, '%m-%d %H:%M')[0] for i, ts in enumerate(df_hourly.dt) if i%2==0], \r\n",
    "                   rotation=45, ha=\"right\")\r\n",
    "ax.locator_params(nbins=15, axis='y')\r\n",
    "plt.legend()\r\n",
    "plt.show()"
   ]
  },
  {
   "cell_type": "code",
   "execution_count": 10,
   "metadata": {
    "execution": {
     "iopub.execute_input": "2021-09-09T06:47:16.921700Z",
     "iopub.status.busy": "2021-09-09T06:47:16.914261Z",
     "iopub.status.idle": "2021-09-09T06:47:16.932920Z",
     "shell.execute_reply": "2021-09-09T06:47:16.932503Z"
    }
   },
   "outputs": [
    {
     "data": {
      "text/html": [
       "<div>\n",
       "<style scoped>\n",
       "    .dataframe tbody tr th:only-of-type {\n",
       "        vertical-align: middle;\n",
       "    }\n",
       "\n",
       "    .dataframe tbody tr th {\n",
       "        vertical-align: top;\n",
       "    }\n",
       "\n",
       "    .dataframe thead th {\n",
       "        text-align: right;\n",
       "    }\n",
       "</style>\n",
       "<table border=\"1\" class=\"dataframe\">\n",
       "  <thead>\n",
       "    <tr style=\"text-align: right;\">\n",
       "      <th></th>\n",
       "      <th>dt</th>\n",
       "      <th>temp</th>\n",
       "      <th>feels_like</th>\n",
       "      <th>pressure</th>\n",
       "      <th>humidity</th>\n",
       "      <th>dew_point</th>\n",
       "      <th>uvi</th>\n",
       "      <th>clouds</th>\n",
       "      <th>visibility</th>\n",
       "      <th>wind_speed</th>\n",
       "      <th>wind_deg</th>\n",
       "      <th>wind_gust</th>\n",
       "      <th>weather</th>\n",
       "      <th>pop</th>\n",
       "      <th>rain</th>\n",
       "    </tr>\n",
       "  </thead>\n",
       "  <tbody>\n",
       "    <tr>\n",
       "      <th>0</th>\n",
       "      <td>1631167200</td>\n",
       "      <td>32.28</td>\n",
       "      <td>39.28</td>\n",
       "      <td>1008</td>\n",
       "      <td>70</td>\n",
       "      <td>26.10</td>\n",
       "      <td>7.26</td>\n",
       "      <td>61</td>\n",
       "      <td>10000</td>\n",
       "      <td>4.35</td>\n",
       "      <td>109</td>\n",
       "      <td>4.06</td>\n",
       "      <td>[{'id': 803, 'main': 'Clouds', 'description': ...</td>\n",
       "      <td>0.06</td>\n",
       "      <td>NaN</td>\n",
       "    </tr>\n",
       "    <tr>\n",
       "      <th>1</th>\n",
       "      <td>1631170800</td>\n",
       "      <td>32.69</td>\n",
       "      <td>39.69</td>\n",
       "      <td>1008</td>\n",
       "      <td>71</td>\n",
       "      <td>26.74</td>\n",
       "      <td>4.60</td>\n",
       "      <td>71</td>\n",
       "      <td>10000</td>\n",
       "      <td>4.28</td>\n",
       "      <td>115</td>\n",
       "      <td>4.05</td>\n",
       "      <td>[{'id': 803, 'main': 'Clouds', 'description': ...</td>\n",
       "      <td>0.11</td>\n",
       "      <td>NaN</td>\n",
       "    </tr>\n",
       "    <tr>\n",
       "      <th>2</th>\n",
       "      <td>1631174400</td>\n",
       "      <td>32.18</td>\n",
       "      <td>39.18</td>\n",
       "      <td>1008</td>\n",
       "      <td>70</td>\n",
       "      <td>26.01</td>\n",
       "      <td>2.36</td>\n",
       "      <td>72</td>\n",
       "      <td>10000</td>\n",
       "      <td>4.17</td>\n",
       "      <td>115</td>\n",
       "      <td>4.18</td>\n",
       "      <td>[{'id': 803, 'main': 'Clouds', 'description': ...</td>\n",
       "      <td>0.05</td>\n",
       "      <td>NaN</td>\n",
       "    </tr>\n",
       "    <tr>\n",
       "      <th>3</th>\n",
       "      <td>1631178000</td>\n",
       "      <td>31.51</td>\n",
       "      <td>38.51</td>\n",
       "      <td>1008</td>\n",
       "      <td>72</td>\n",
       "      <td>25.84</td>\n",
       "      <td>0.81</td>\n",
       "      <td>69</td>\n",
       "      <td>10000</td>\n",
       "      <td>3.44</td>\n",
       "      <td>108</td>\n",
       "      <td>3.79</td>\n",
       "      <td>[{'id': 803, 'main': 'Clouds', 'description': ...</td>\n",
       "      <td>0.05</td>\n",
       "      <td>NaN</td>\n",
       "    </tr>\n",
       "    <tr>\n",
       "      <th>4</th>\n",
       "      <td>1631181600</td>\n",
       "      <td>30.51</td>\n",
       "      <td>37.44</td>\n",
       "      <td>1008</td>\n",
       "      <td>74</td>\n",
       "      <td>25.35</td>\n",
       "      <td>0.16</td>\n",
       "      <td>60</td>\n",
       "      <td>10000</td>\n",
       "      <td>3.57</td>\n",
       "      <td>103</td>\n",
       "      <td>4.34</td>\n",
       "      <td>[{'id': 803, 'main': 'Clouds', 'description': ...</td>\n",
       "      <td>0.01</td>\n",
       "      <td>NaN</td>\n",
       "    </tr>\n",
       "  </tbody>\n",
       "</table>\n",
       "</div>"
      ],
      "text/plain": [
       "           dt   temp  feels_like  pressure  humidity  dew_point   uvi  clouds  \\\n",
       "0  1631167200  32.28       39.28      1008        70      26.10  7.26      61   \n",
       "1  1631170800  32.69       39.69      1008        71      26.74  4.60      71   \n",
       "2  1631174400  32.18       39.18      1008        70      26.01  2.36      72   \n",
       "3  1631178000  31.51       38.51      1008        72      25.84  0.81      69   \n",
       "4  1631181600  30.51       37.44      1008        74      25.35  0.16      60   \n",
       "\n",
       "   visibility  wind_speed  wind_deg  wind_gust  \\\n",
       "0       10000        4.35       109       4.06   \n",
       "1       10000        4.28       115       4.05   \n",
       "2       10000        4.17       115       4.18   \n",
       "3       10000        3.44       108       3.79   \n",
       "4       10000        3.57       103       4.34   \n",
       "\n",
       "                                             weather   pop rain  \n",
       "0  [{'id': 803, 'main': 'Clouds', 'description': ...  0.06  NaN  \n",
       "1  [{'id': 803, 'main': 'Clouds', 'description': ...  0.11  NaN  \n",
       "2  [{'id': 803, 'main': 'Clouds', 'description': ...  0.05  NaN  \n",
       "3  [{'id': 803, 'main': 'Clouds', 'description': ...  0.05  NaN  \n",
       "4  [{'id': 803, 'main': 'Clouds', 'description': ...  0.01  NaN  "
      ]
     },
     "execution_count": 10,
     "metadata": {},
     "output_type": "execute_result"
    }
   ],
   "source": [
    "df_hourly.head()"
   ]
  },
  {
   "cell_type": "code",
   "execution_count": null,
   "metadata": {},
   "outputs": [],
   "source": []
  }
 ],
 "metadata": {
  "interpreter": {
   "hash": "c1b4cfe941b6d2466ad1fb5979e97da9cda8801728c8091b097ab734208fc00c"
  },
  "kernelspec": {
   "display_name": "Python 3.8.3 64-bit ('base': conda)",
   "name": "python3"
  },
  "language_info": {
   "codemirror_mode": {
    "name": "ipython",
    "version": 3
   },
   "file_extension": ".py",
   "mimetype": "text/x-python",
   "name": "python",
   "nbconvert_exporter": "python",
   "pygments_lexer": "ipython3",
   "version": "3.8.11"
  }
 },
 "nbformat": 4,
 "nbformat_minor": 2
}
