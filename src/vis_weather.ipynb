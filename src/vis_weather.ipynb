{
 "cells": [
  {
   "cell_type": "code",
   "execution_count": 1,
   "metadata": {
    "execution": {
     "iopub.execute_input": "2021-09-03T15:16:42.773755Z",
     "iopub.status.busy": "2021-09-03T15:16:42.772405Z",
     "iopub.status.idle": "2021-09-03T15:16:47.869785Z",
     "shell.execute_reply": "2021-09-03T15:16:47.870352Z"
    }
   },
   "outputs": [],
   "source": [
    "import json, yaml, requests\r\n",
    "from datetime import datetime\r\n",
    "from dateutil import tz\r\n",
    "import pandas as pd\r\n",
    "from PIL import Image\r\n",
    "from io import BytesIO\r\n",
    "import matplotlib.pyplot as plt\r\n",
    "import seaborn\r\n",
    "\r\n",
    "CONFIG_PATH = \"../config/config.yaml\""
   ]
  },
  {
   "cell_type": "code",
   "execution_count": 2,
   "metadata": {
    "execution": {
     "iopub.execute_input": "2021-09-03T15:16:47.877304Z",
     "iopub.status.busy": "2021-09-03T15:16:47.876465Z",
     "iopub.status.idle": "2021-09-03T15:16:47.882977Z",
     "shell.execute_reply": "2021-09-03T15:16:47.882481Z"
    }
   },
   "outputs": [],
   "source": [
    "with open('../newest_ts', 'r') as f:\r\n",
    "    newest_ts = f.read()\r\n",
    "\r\n",
    "data_path = f\"../data/data_{newest_ts}.json\"\r\n",
    "with open(data_path, 'r') as f:\r\n",
    "    data = json.load(f)\r\n",
    "\r\n",
    "with open(CONFIG_PATH, \"r\") as stream:\r\n",
    "    config = yaml.safe_load(stream)\r\n",
    "\r\n",
    "TIME_ZONE = config['time_zone']\r\n",
    "DATETIME_FORMAT = config['dt_format']"
   ]
  },
  {
   "cell_type": "code",
   "execution_count": 3,
   "metadata": {
    "execution": {
     "iopub.execute_input": "2021-09-03T15:16:47.888292Z",
     "iopub.status.busy": "2021-09-03T15:16:47.887660Z",
     "iopub.status.idle": "2021-09-03T15:16:47.913585Z",
     "shell.execute_reply": "2021-09-03T15:16:47.914091Z"
    }
   },
   "outputs": [
    {
     "name": "stdout",
     "output_type": "stream",
     "text": [
      "Recent query happens at 2021-09-03 23:16:39 (CST).\n"
     ]
    }
   ],
   "source": [
    "def ts2dt(ts, format=DATETIME_FORMAT):\r\n",
    "    dt = (datetime.utcfromtimestamp(int(ts))\r\n",
    "                    .replace(tzinfo=tz.tzutc())\r\n",
    "                    # .astimezone(tz.tzlocal())\r\n",
    "                    .astimezone(tz.gettz(TIME_ZONE)))\r\n",
    "    return dt.strftime(format), dt\r\n",
    "\r\n",
    "_, newest_dt = ts2dt(newest_ts)\r\n",
    "print(f\"Recent query happens at {newest_dt.strftime(DATETIME_FORMAT)} ({newest_dt.tzname()}).\")"
   ]
  },
  {
   "cell_type": "code",
   "execution_count": 4,
   "metadata": {
    "execution": {
     "iopub.execute_input": "2021-09-03T15:16:47.920756Z",
     "iopub.status.busy": "2021-09-03T15:16:47.919565Z",
     "iopub.status.idle": "2021-09-03T15:16:47.921788Z",
     "shell.execute_reply": "2021-09-03T15:16:47.922417Z"
    }
   },
   "outputs": [],
   "source": [
    "def degrees_to_cardinal(d):\r\n",
    "  dirs = ['N', 'NNE', 'NE', 'ENE', 'E', 'ESE', 'SE', 'SSE', 'S', 'SSW', 'SW', 'WSW', 'W', 'WNW', 'NW', 'NNW']\r\n",
    "  ix = int(round(d / (360. / len(dirs))))\r\n",
    "  return dirs[ix % len(dirs)]"
   ]
  },
  {
   "cell_type": "code",
   "execution_count": 5,
   "metadata": {
    "execution": {
     "iopub.execute_input": "2021-09-03T15:16:47.927371Z",
     "iopub.status.busy": "2021-09-03T15:16:47.926010Z",
     "iopub.status.idle": "2021-09-03T15:16:47.928020Z",
     "shell.execute_reply": "2021-09-03T15:16:47.928585Z"
    }
   },
   "outputs": [],
   "source": [
    "# data.keys()"
   ]
  },
  {
   "cell_type": "code",
   "execution_count": 6,
   "metadata": {
    "execution": {
     "iopub.execute_input": "2021-09-03T15:16:47.933901Z",
     "iopub.status.busy": "2021-09-03T15:16:47.932423Z",
     "iopub.status.idle": "2021-09-03T15:16:47.934608Z",
     "shell.execute_reply": "2021-09-03T15:16:47.935090Z"
    }
   },
   "outputs": [],
   "source": [
    "# data['current']"
   ]
  },
  {
   "cell_type": "code",
   "execution_count": 7,
   "metadata": {
    "execution": {
     "iopub.execute_input": "2021-09-03T15:16:47.946272Z",
     "iopub.status.busy": "2021-09-03T15:16:47.945575Z",
     "iopub.status.idle": "2021-09-03T15:16:48.613932Z",
     "shell.execute_reply": "2021-09-03T15:16:48.614721Z"
    }
   },
   "outputs": [
    {
     "data": {
      "image/png": "[encoded data removed]",
      "text/plain": [
       "<Figure size 216x216 with 1 Axes>"
      ]
     },
     "metadata": {
      "needs_background": "light"
     },
     "output_type": "display_data"
    },
    {
     "name": "stdout",
     "output_type": "stream",
     "text": [
      "Today, sun rises at 06:06 and sets at 18:38.\n",
      "Currently, the weather is Clouds (scattered clouds).\n",
      "The temperature is 29.53°C and it feels like 36.26°C.\n",
      "The UV index is 0, humidity is 80%.\n",
      "The pressure is 1008 hPa, percentage of cloud cover is 33%\n",
      "The wind comes from SSE direction with a speed 2.78 m/s.\n"
     ]
    }
   ],
   "source": [
    "current = data['current']\r\n",
    "\r\n",
    "fig, ax = plt.subplots(figsize=(3, 3))\r\n",
    "icon = requests.get(f\"http://openweathermap.org/img/wn/{current['weather'][0]['icon']}@2x.png\")\r\n",
    "im = Image.open(BytesIO(icon.content))\r\n",
    "plt.imshow(im)\r\n",
    "ax.set_axis_off()\r\n",
    "plt.show()\r\n",
    "\r\n",
    "print(f\"Today, sun rises at {ts2dt(current['sunrise'], '%H:%M')[0]} \\\r\n",
    "and sets at {ts2dt(current['sunset'], '%H:%M')[0]}.\\n\\\r\n",
    "Currently, the weather is {current['weather'][0]['main']} ({current['weather'][0]['description']}).\\n\\\r\n",
    "The temperature is {current['temp']}°C and it feels like {current['feels_like']}°C.\\n\\\r\n",
    "The UV index is {current['uvi']}, humidity is {current['humidity']}%.\\n\\\r\n",
    "The pressure is {current['pressure']} hPa, percentage of cloud cover is {current['clouds']}%\\n\\\r\n",
    "The wind comes from {degrees_to_cardinal(current['wind_deg'])} direction with a speed {current['wind_speed']} m/s.\")"
   ]
  },
  {
   "cell_type": "code",
   "execution_count": 8,
   "metadata": {
    "execution": {
     "iopub.execute_input": "2021-09-03T15:16:48.619444Z",
     "iopub.status.busy": "2021-09-03T15:16:48.618104Z",
     "iopub.status.idle": "2021-09-03T15:16:48.627222Z",
     "shell.execute_reply": "2021-09-03T15:16:48.628074Z"
    }
   },
   "outputs": [],
   "source": [
    "df_hourly = pd.DataFrame(data['hourly'])\r\n",
    "df_daily = pd.DataFrame(data['daily'])"
   ]
  },
  {
   "cell_type": "code",
   "execution_count": 9,
   "metadata": {
    "execution": {
     "iopub.execute_input": "2021-09-03T15:16:48.632160Z",
     "iopub.status.busy": "2021-09-03T15:16:48.630953Z",
     "iopub.status.idle": "2021-09-03T15:16:48.985291Z",
     "shell.execute_reply": "2021-09-03T15:16:48.986124Z"
    }
   },
   "outputs": [
    {
     "data": {
      "image/png": "[encoded data removed]",
      "text/plain": [
       "<Figure size 864x432 with 1 Axes>"
      ]
     },
     "metadata": {
      "needs_background": "light"
     },
     "output_type": "display_data"
    }
   ],
   "source": [
    "fig, ax = plt.subplots(figsize=(12, 6))\r\n",
    "plt.plot(df_hourly.temp, '.-', label='Temperature')\r\n",
    "plt.plot(df_hourly.feels_like, '.-', label='Feels Like')\r\n",
    "ax.set(title='Temperature in future 48 hours', xlabel='Time', ylabel='Temperature')\r\n",
    "ax.set_xticks(list(range(0, len(df_hourly), 2)))\r\n",
    "ax.set_xticklabels([ts2dt(ts, '%m-%d %H:%M')[0] for i, ts in enumerate(df_hourly.dt) if i%2==0], \r\n",
    "                   rotation=45, ha=\"right\")\r\n",
    "ax.locator_params(nbins=15, axis='y')\r\n",
    "plt.legend()\r\n",
    "plt.show()"
   ]
  },
  {
   "cell_type": "code",
   "execution_count": 10,
   "metadata": {
    "execution": {
     "iopub.execute_input": "2021-09-03T15:16:48.992097Z",
     "iopub.status.busy": "2021-09-03T15:16:48.990994Z",
     "iopub.status.idle": "2021-09-03T15:16:49.012673Z",
     "shell.execute_reply": "2021-09-03T15:16:49.013213Z"
    }
   },
   "outputs": [
    {
     "data": {
      "text/html": [
       "<div>\n",
       "<style scoped>\n",
       "    .dataframe tbody tr th:only-of-type {\n",
       "        vertical-align: middle;\n",
       "    }\n",
       "\n",
       "    .dataframe tbody tr th {\n",
       "        vertical-align: top;\n",
       "    }\n",
       "\n",
       "    .dataframe thead th {\n",
       "        text-align: right;\n",
       "    }\n",
       "</style>\n",
       "<table border=\"1\" class=\"dataframe\">\n",
       "  <thead>\n",
       "    <tr style=\"text-align: right;\">\n",
       "      <th></th>\n",
       "      <th>dt</th>\n",
       "      <th>temp</th>\n",
       "      <th>feels_like</th>\n",
       "      <th>pressure</th>\n",
       "      <th>humidity</th>\n",
       "      <th>dew_point</th>\n",
       "      <th>uvi</th>\n",
       "      <th>clouds</th>\n",
       "      <th>visibility</th>\n",
       "      <th>wind_speed</th>\n",
       "      <th>wind_deg</th>\n",
       "      <th>wind_gust</th>\n",
       "      <th>weather</th>\n",
       "      <th>pop</th>\n",
       "      <th>rain</th>\n",
       "    </tr>\n",
       "  </thead>\n",
       "  <tbody>\n",
       "    <tr>\n",
       "      <th>0</th>\n",
       "      <td>1630681200</td>\n",
       "      <td>29.53</td>\n",
       "      <td>36.26</td>\n",
       "      <td>1008</td>\n",
       "      <td>80</td>\n",
       "      <td>25.71</td>\n",
       "      <td>0.0</td>\n",
       "      <td>33</td>\n",
       "      <td>10000</td>\n",
       "      <td>2.78</td>\n",
       "      <td>151</td>\n",
       "      <td>3.81</td>\n",
       "      <td>[{'id': 802, 'main': 'Clouds', 'description': ...</td>\n",
       "      <td>0.08</td>\n",
       "      <td>NaN</td>\n",
       "    </tr>\n",
       "    <tr>\n",
       "      <th>1</th>\n",
       "      <td>1630684800</td>\n",
       "      <td>29.20</td>\n",
       "      <td>35.54</td>\n",
       "      <td>1008</td>\n",
       "      <td>81</td>\n",
       "      <td>25.60</td>\n",
       "      <td>0.0</td>\n",
       "      <td>32</td>\n",
       "      <td>10000</td>\n",
       "      <td>2.55</td>\n",
       "      <td>152</td>\n",
       "      <td>3.55</td>\n",
       "      <td>[{'id': 802, 'main': 'Clouds', 'description': ...</td>\n",
       "      <td>0.08</td>\n",
       "      <td>NaN</td>\n",
       "    </tr>\n",
       "    <tr>\n",
       "      <th>2</th>\n",
       "      <td>1630688400</td>\n",
       "      <td>28.81</td>\n",
       "      <td>34.42</td>\n",
       "      <td>1008</td>\n",
       "      <td>81</td>\n",
       "      <td>25.22</td>\n",
       "      <td>0.0</td>\n",
       "      <td>29</td>\n",
       "      <td>10000</td>\n",
       "      <td>1.94</td>\n",
       "      <td>157</td>\n",
       "      <td>2.69</td>\n",
       "      <td>[{'id': 802, 'main': 'Clouds', 'description': ...</td>\n",
       "      <td>0.20</td>\n",
       "      <td>NaN</td>\n",
       "    </tr>\n",
       "    <tr>\n",
       "      <th>3</th>\n",
       "      <td>1630692000</td>\n",
       "      <td>28.40</td>\n",
       "      <td>33.49</td>\n",
       "      <td>1007</td>\n",
       "      <td>82</td>\n",
       "      <td>25.03</td>\n",
       "      <td>0.0</td>\n",
       "      <td>24</td>\n",
       "      <td>10000</td>\n",
       "      <td>1.76</td>\n",
       "      <td>161</td>\n",
       "      <td>2.38</td>\n",
       "      <td>[{'id': 801, 'main': 'Clouds', 'description': ...</td>\n",
       "      <td>0.36</td>\n",
       "      <td>NaN</td>\n",
       "    </tr>\n",
       "    <tr>\n",
       "      <th>4</th>\n",
       "      <td>1630695600</td>\n",
       "      <td>27.87</td>\n",
       "      <td>32.07</td>\n",
       "      <td>1007</td>\n",
       "      <td>82</td>\n",
       "      <td>24.51</td>\n",
       "      <td>0.0</td>\n",
       "      <td>7</td>\n",
       "      <td>10000</td>\n",
       "      <td>1.47</td>\n",
       "      <td>160</td>\n",
       "      <td>1.88</td>\n",
       "      <td>[{'id': 800, 'main': 'Clear', 'description': '...</td>\n",
       "      <td>0.61</td>\n",
       "      <td>NaN</td>\n",
       "    </tr>\n",
       "  </tbody>\n",
       "</table>\n",
       "</div>"
      ],
      "text/plain": [
       "           dt   temp  feels_like  pressure  humidity  dew_point  uvi  clouds  \\\n",
       "0  1630681200  29.53       36.26      1008        80      25.71  0.0      33   \n",
       "1  1630684800  29.20       35.54      1008        81      25.60  0.0      32   \n",
       "2  1630688400  28.81       34.42      1008        81      25.22  0.0      29   \n",
       "3  1630692000  28.40       33.49      1007        82      25.03  0.0      24   \n",
       "4  1630695600  27.87       32.07      1007        82      24.51  0.0       7   \n",
       "\n",
       "   visibility  wind_speed  wind_deg  wind_gust  \\\n",
       "0       10000        2.78       151       3.81   \n",
       "1       10000        2.55       152       3.55   \n",
       "2       10000        1.94       157       2.69   \n",
       "3       10000        1.76       161       2.38   \n",
       "4       10000        1.47       160       1.88   \n",
       "\n",
       "                                             weather   pop rain  \n",
       "0  [{'id': 802, 'main': 'Clouds', 'description': ...  0.08  NaN  \n",
       "1  [{'id': 802, 'main': 'Clouds', 'description': ...  0.08  NaN  \n",
       "2  [{'id': 802, 'main': 'Clouds', 'description': ...  0.20  NaN  \n",
       "3  [{'id': 801, 'main': 'Clouds', 'description': ...  0.36  NaN  \n",
       "4  [{'id': 800, 'main': 'Clear', 'description': '...  0.61  NaN  "
      ]
     },
     "execution_count": 10,
     "metadata": {},
     "output_type": "execute_result"
    }
   ],
   "source": [
    "df_hourly.head()"
   ]
  },
  {
   "cell_type": "code",
   "execution_count": null,
   "metadata": {},
   "outputs": [],
   "source": []
  }
 ],
 "metadata": {
  "interpreter": {
   "hash": "c1b4cfe941b6d2466ad1fb5979e97da9cda8801728c8091b097ab734208fc00c"
  },
  "kernelspec": {
   "display_name": "Python 3.8.3 64-bit ('base': conda)",
   "name": "python3"
  },
  "language_info": {
   "codemirror_mode": {
    "name": "ipython",
    "version": 3
   },
   "file_extension": ".py",
   "mimetype": "text/x-python",
   "name": "python",
   "nbconvert_exporter": "python",
   "pygments_lexer": "ipython3",
   "version": "3.8.11"
  }
 },
 "nbformat": 4,
 "nbformat_minor": 2
}
