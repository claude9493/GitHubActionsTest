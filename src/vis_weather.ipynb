{
 "cells": [
  {
   "cell_type": "code",
   "execution_count": 1,
   "metadata": {
    "execution": {
     "iopub.execute_input": "2021-09-21T03:12:08.369474Z",
     "iopub.status.busy": "2021-09-21T03:12:08.368819Z",
     "iopub.status.idle": "2021-09-21T03:12:10.957224Z",
     "shell.execute_reply": "2021-09-21T03:12:10.956248Z"
    }
   },
   "outputs": [],
   "source": [
    "import json, yaml, requests\r\n",
    "from datetime import datetime\r\n",
    "from dateutil import tz\r\n",
    "import pandas as pd\r\n",
    "from PIL import Image\r\n",
    "from io import BytesIO\r\n",
    "import matplotlib.pyplot as plt\r\n",
    "import seaborn\r\n",
    "\r\n",
    "CONFIG_PATH = \"../config/config.yaml\""
   ]
  },
  {
   "cell_type": "code",
   "execution_count": 2,
   "metadata": {
    "execution": {
     "iopub.execute_input": "2021-09-21T03:12:10.965504Z",
     "iopub.status.busy": "2021-09-21T03:12:10.962230Z",
     "iopub.status.idle": "2021-09-21T03:12:10.968281Z",
     "shell.execute_reply": "2021-09-21T03:12:10.967790Z"
    }
   },
   "outputs": [],
   "source": [
    "with open('../newest_ts', 'r') as f:\r\n",
    "    newest_ts = f.read()\r\n",
    "\r\n",
    "data_path = f\"../data/data_{newest_ts}.json\"\r\n",
    "with open(data_path, 'r') as f:\r\n",
    "    data = json.load(f)\r\n",
    "\r\n",
    "with open(CONFIG_PATH, \"r\") as stream:\r\n",
    "    config = yaml.safe_load(stream)\r\n",
    "\r\n",
    "TIME_ZONE = config['time_zone']\r\n",
    "DATETIME_FORMAT = config['dt_format']"
   ]
  },
  {
   "cell_type": "code",
   "execution_count": 3,
   "metadata": {
    "execution": {
     "iopub.execute_input": "2021-09-21T03:12:10.973136Z",
     "iopub.status.busy": "2021-09-21T03:12:10.972600Z",
     "iopub.status.idle": "2021-09-21T03:12:10.984298Z",
     "shell.execute_reply": "2021-09-21T03:12:10.984732Z"
    }
   },
   "outputs": [
    {
     "name": "stdout",
     "output_type": "stream",
     "text": [
      "Recent query happens at 2021-09-21 11:12:05 (CST).\n"
     ]
    }
   ],
   "source": [
    "def ts2dt(ts, format=DATETIME_FORMAT):\r\n",
    "    dt = (datetime.utcfromtimestamp(int(ts))\r\n",
    "                    .replace(tzinfo=tz.tzutc())\r\n",
    "                    # .astimezone(tz.tzlocal())\r\n",
    "                    .astimezone(tz.gettz(TIME_ZONE)))\r\n",
    "    return dt.strftime(format), dt\r\n",
    "\r\n",
    "_, newest_dt = ts2dt(newest_ts)\r\n",
    "print(f\"Recent query happens at {newest_dt.strftime(DATETIME_FORMAT)} ({newest_dt.tzname()}).\")"
   ]
  },
  {
   "cell_type": "code",
   "execution_count": 4,
   "metadata": {
    "execution": {
     "iopub.execute_input": "2021-09-21T03:12:10.990108Z",
     "iopub.status.busy": "2021-09-21T03:12:10.988969Z",
     "iopub.status.idle": "2021-09-21T03:12:10.990720Z",
     "shell.execute_reply": "2021-09-21T03:12:10.991149Z"
    }
   },
   "outputs": [],
   "source": [
    "def degrees_to_cardinal(d):\r\n",
    "  dirs = ['N', 'NNE', 'NE', 'ENE', 'E', 'ESE', 'SE', 'SSE', 'S', 'SSW', 'SW', 'WSW', 'W', 'WNW', 'NW', 'NNW']\r\n",
    "  ix = int(round(d / (360. / len(dirs))))\r\n",
    "  return dirs[ix % len(dirs)]"
   ]
  },
  {
   "cell_type": "code",
   "execution_count": 5,
   "metadata": {
    "execution": {
     "iopub.execute_input": "2021-09-21T03:12:10.995376Z",
     "iopub.status.busy": "2021-09-21T03:12:10.994261Z",
     "iopub.status.idle": "2021-09-21T03:12:10.995965Z",
     "shell.execute_reply": "2021-09-21T03:12:10.996388Z"
    }
   },
   "outputs": [],
   "source": [
    "# data.keys()"
   ]
  },
  {
   "cell_type": "code",
   "execution_count": 6,
   "metadata": {
    "execution": {
     "iopub.execute_input": "2021-09-21T03:12:10.999526Z",
     "iopub.status.busy": "2021-09-21T03:12:10.999037Z",
     "iopub.status.idle": "2021-09-21T03:12:11.000860Z",
     "shell.execute_reply": "2021-09-21T03:12:11.001264Z"
    }
   },
   "outputs": [],
   "source": [
    "# data['current']"
   ]
  },
  {
   "cell_type": "code",
   "execution_count": 7,
   "metadata": {
    "execution": {
     "iopub.execute_input": "2021-09-21T03:12:11.020090Z",
     "iopub.status.busy": "2021-09-21T03:12:11.019542Z",
     "iopub.status.idle": "2021-09-21T03:12:11.312464Z",
     "shell.execute_reply": "2021-09-21T03:12:11.313206Z"
    }
   },
   "outputs": [
    {
     "data": {
      "image/png": "[encoded data removed]",
      "text/plain": [
       "<Figure size 216x216 with 1 Axes>"
      ]
     },
     "metadata": {
      "needs_background": "light"
     },
     "output_type": "display_data"
    },
    {
     "name": "stdout",
     "output_type": "stream",
     "text": [
      "Today, sun rises at 06:11 and sets at 18:20.\n",
      "Currently, the weather is Clouds (broken clouds).\n",
      "The temperature is 31.75°C and it feels like 38.66°C.\n",
      "The UV index is 8.74, humidity is 67%.\n",
      "The pressure is 1011 hPa, percentage of cloud cover is 55%\n",
      "The wind comes from ESE direction with a speed 0.83 m/s.\n"
     ]
    }
   ],
   "source": [
    "current = data['current']\r\n",
    "\r\n",
    "fig, ax = plt.subplots(figsize=(3, 3))\r\n",
    "icon = requests.get(f\"http://openweathermap.org/img/wn/{current['weather'][0]['icon']}@2x.png\")\r\n",
    "im = Image.open(BytesIO(icon.content))\r\n",
    "plt.imshow(im)\r\n",
    "ax.set_axis_off()\r\n",
    "plt.show()\r\n",
    "\r\n",
    "print(f\"Today, sun rises at {ts2dt(current['sunrise'], '%H:%M')[0]} \\\r\n",
    "and sets at {ts2dt(current['sunset'], '%H:%M')[0]}.\\n\\\r\n",
    "Currently, the weather is {current['weather'][0]['main']} ({current['weather'][0]['description']}).\\n\\\r\n",
    "The temperature is {current['temp']}°C and it feels like {current['feels_like']}°C.\\n\\\r\n",
    "The UV index is {current['uvi']}, humidity is {current['humidity']}%.\\n\\\r\n",
    "The pressure is {current['pressure']} hPa, percentage of cloud cover is {current['clouds']}%\\n\\\r\n",
    "The wind comes from {degrees_to_cardinal(current['wind_deg'])} direction with a speed {current['wind_speed']} m/s.\")"
   ]
  },
  {
   "cell_type": "code",
   "execution_count": 8,
   "metadata": {
    "execution": {
     "iopub.execute_input": "2021-09-21T03:12:11.316626Z",
     "iopub.status.busy": "2021-09-21T03:12:11.316088Z",
     "iopub.status.idle": "2021-09-21T03:12:11.323328Z",
     "shell.execute_reply": "2021-09-21T03:12:11.324059Z"
    }
   },
   "outputs": [],
   "source": [
    "df_hourly = pd.DataFrame(data['hourly'])\r\n",
    "df_daily = pd.DataFrame(data['daily'])"
   ]
  },
  {
   "cell_type": "code",
   "execution_count": 9,
   "metadata": {
    "execution": {
     "iopub.execute_input": "2021-09-21T03:12:11.327599Z",
     "iopub.status.busy": "2021-09-21T03:12:11.326536Z",
     "iopub.status.idle": "2021-09-21T03:12:11.606213Z",
     "shell.execute_reply": "2021-09-21T03:12:11.605723Z"
    }
   },
   "outputs": [
    {
     "data": {
      "image/png": "[encoded data removed]",
      "text/plain": [
       "<Figure size 864x432 with 1 Axes>"
      ]
     },
     "metadata": {
      "needs_background": "light"
     },
     "output_type": "display_data"
    }
   ],
   "source": [
    "fig, ax = plt.subplots(figsize=(12, 6))\r\n",
    "plt.plot(df_hourly.temp, '.-', label='Temperature')\r\n",
    "plt.plot(df_hourly.feels_like, '.-', label='Feels Like')\r\n",
    "ax.set(title='Temperature in future 48 hours', xlabel='Time', ylabel='Temperature')\r\n",
    "ax.set_xticks(list(range(0, len(df_hourly), 2)))\r\n",
    "ax.set_xticklabels([ts2dt(ts, '%m-%d %H:%M')[0] for i, ts in enumerate(df_hourly.dt) if i%2==0], \r\n",
    "                   rotation=45, ha=\"right\")\r\n",
    "ax.locator_params(nbins=15, axis='y')\r\n",
    "plt.legend()\r\n",
    "plt.show()"
   ]
  },
  {
   "cell_type": "code",
   "execution_count": 10,
   "metadata": {
    "execution": {
     "iopub.execute_input": "2021-09-21T03:12:11.618099Z",
     "iopub.status.busy": "2021-09-21T03:12:11.610289Z",
     "iopub.status.idle": "2021-09-21T03:12:11.629086Z",
     "shell.execute_reply": "2021-09-21T03:12:11.628531Z"
    }
   },
   "outputs": [
    {
     "data": {
      "text/html": [
       "<div>\n",
       "<style scoped>\n",
       "    .dataframe tbody tr th:only-of-type {\n",
       "        vertical-align: middle;\n",
       "    }\n",
       "\n",
       "    .dataframe tbody tr th {\n",
       "        vertical-align: top;\n",
       "    }\n",
       "\n",
       "    .dataframe thead th {\n",
       "        text-align: right;\n",
       "    }\n",
       "</style>\n",
       "<table border=\"1\" class=\"dataframe\">\n",
       "  <thead>\n",
       "    <tr style=\"text-align: right;\">\n",
       "      <th></th>\n",
       "      <th>dt</th>\n",
       "      <th>temp</th>\n",
       "      <th>feels_like</th>\n",
       "      <th>pressure</th>\n",
       "      <th>humidity</th>\n",
       "      <th>dew_point</th>\n",
       "      <th>uvi</th>\n",
       "      <th>clouds</th>\n",
       "      <th>visibility</th>\n",
       "      <th>wind_speed</th>\n",
       "      <th>wind_deg</th>\n",
       "      <th>wind_gust</th>\n",
       "      <th>weather</th>\n",
       "      <th>pop</th>\n",
       "      <th>rain</th>\n",
       "    </tr>\n",
       "  </thead>\n",
       "  <tbody>\n",
       "    <tr>\n",
       "      <th>0</th>\n",
       "      <td>1632193200</td>\n",
       "      <td>31.75</td>\n",
       "      <td>38.66</td>\n",
       "      <td>1011</td>\n",
       "      <td>67</td>\n",
       "      <td>24.86</td>\n",
       "      <td>8.74</td>\n",
       "      <td>55</td>\n",
       "      <td>10000</td>\n",
       "      <td>0.83</td>\n",
       "      <td>119</td>\n",
       "      <td>0.78</td>\n",
       "      <td>[{'id': 803, 'main': 'Clouds', 'description': ...</td>\n",
       "      <td>0.44</td>\n",
       "      <td>NaN</td>\n",
       "    </tr>\n",
       "    <tr>\n",
       "      <th>1</th>\n",
       "      <td>1632196800</td>\n",
       "      <td>31.57</td>\n",
       "      <td>37.87</td>\n",
       "      <td>1011</td>\n",
       "      <td>66</td>\n",
       "      <td>24.44</td>\n",
       "      <td>10.23</td>\n",
       "      <td>54</td>\n",
       "      <td>10000</td>\n",
       "      <td>1.67</td>\n",
       "      <td>136</td>\n",
       "      <td>1.41</td>\n",
       "      <td>[{'id': 803, 'main': 'Clouds', 'description': ...</td>\n",
       "      <td>0.37</td>\n",
       "      <td>NaN</td>\n",
       "    </tr>\n",
       "    <tr>\n",
       "      <th>2</th>\n",
       "      <td>1632200400</td>\n",
       "      <td>31.45</td>\n",
       "      <td>37.26</td>\n",
       "      <td>1010</td>\n",
       "      <td>65</td>\n",
       "      <td>24.07</td>\n",
       "      <td>10.06</td>\n",
       "      <td>53</td>\n",
       "      <td>10000</td>\n",
       "      <td>1.91</td>\n",
       "      <td>147</td>\n",
       "      <td>1.47</td>\n",
       "      <td>[{'id': 803, 'main': 'Clouds', 'description': ...</td>\n",
       "      <td>0.33</td>\n",
       "      <td>NaN</td>\n",
       "    </tr>\n",
       "    <tr>\n",
       "      <th>3</th>\n",
       "      <td>1632204000</td>\n",
       "      <td>31.30</td>\n",
       "      <td>36.59</td>\n",
       "      <td>1009</td>\n",
       "      <td>64</td>\n",
       "      <td>23.67</td>\n",
       "      <td>8.23</td>\n",
       "      <td>56</td>\n",
       "      <td>10000</td>\n",
       "      <td>2.06</td>\n",
       "      <td>162</td>\n",
       "      <td>1.76</td>\n",
       "      <td>[{'id': 803, 'main': 'Clouds', 'description': ...</td>\n",
       "      <td>0.34</td>\n",
       "      <td>NaN</td>\n",
       "    </tr>\n",
       "    <tr>\n",
       "      <th>4</th>\n",
       "      <td>1632207600</td>\n",
       "      <td>30.89</td>\n",
       "      <td>35.90</td>\n",
       "      <td>1009</td>\n",
       "      <td>65</td>\n",
       "      <td>23.54</td>\n",
       "      <td>5.37</td>\n",
       "      <td>88</td>\n",
       "      <td>10000</td>\n",
       "      <td>2.50</td>\n",
       "      <td>169</td>\n",
       "      <td>1.73</td>\n",
       "      <td>[{'id': 804, 'main': 'Clouds', 'description': ...</td>\n",
       "      <td>0.07</td>\n",
       "      <td>NaN</td>\n",
       "    </tr>\n",
       "  </tbody>\n",
       "</table>\n",
       "</div>"
      ],
      "text/plain": [
       "           dt   temp  feels_like  pressure  humidity  dew_point    uvi  \\\n",
       "0  1632193200  31.75       38.66      1011        67      24.86   8.74   \n",
       "1  1632196800  31.57       37.87      1011        66      24.44  10.23   \n",
       "2  1632200400  31.45       37.26      1010        65      24.07  10.06   \n",
       "3  1632204000  31.30       36.59      1009        64      23.67   8.23   \n",
       "4  1632207600  30.89       35.90      1009        65      23.54   5.37   \n",
       "\n",
       "   clouds  visibility  wind_speed  wind_deg  wind_gust  \\\n",
       "0      55       10000        0.83       119       0.78   \n",
       "1      54       10000        1.67       136       1.41   \n",
       "2      53       10000        1.91       147       1.47   \n",
       "3      56       10000        2.06       162       1.76   \n",
       "4      88       10000        2.50       169       1.73   \n",
       "\n",
       "                                             weather   pop rain  \n",
       "0  [{'id': 803, 'main': 'Clouds', 'description': ...  0.44  NaN  \n",
       "1  [{'id': 803, 'main': 'Clouds', 'description': ...  0.37  NaN  \n",
       "2  [{'id': 803, 'main': 'Clouds', 'description': ...  0.33  NaN  \n",
       "3  [{'id': 803, 'main': 'Clouds', 'description': ...  0.34  NaN  \n",
       "4  [{'id': 804, 'main': 'Clouds', 'description': ...  0.07  NaN  "
      ]
     },
     "execution_count": 10,
     "metadata": {},
     "output_type": "execute_result"
    }
   ],
   "source": [
    "df_hourly.head()"
   ]
  },
  {
   "cell_type": "code",
   "execution_count": null,
   "metadata": {},
   "outputs": [],
   "source": []
  }
 ],
 "metadata": {
  "interpreter": {
   "hash": "c1b4cfe941b6d2466ad1fb5979e97da9cda8801728c8091b097ab734208fc00c"
  },
  "kernelspec": {
   "display_name": "Python 3.8.3 64-bit ('base': conda)",
   "name": "python3"
  },
  "language_info": {
   "codemirror_mode": {
    "name": "ipython",
    "version": 3
   },
   "file_extension": ".py",
   "mimetype": "text/x-python",
   "name": "python",
   "nbconvert_exporter": "python",
   "pygments_lexer": "ipython3",
   "version": "3.8.11"
  }
 },
 "nbformat": 4,
 "nbformat_minor": 2
}
