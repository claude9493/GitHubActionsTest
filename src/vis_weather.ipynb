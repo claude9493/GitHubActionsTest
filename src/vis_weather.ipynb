{
 "cells": [
  {
   "cell_type": "code",
   "execution_count": 1,
   "metadata": {
    "execution": {
     "iopub.execute_input": "2021-10-07T14:11:00.238694Z",
     "iopub.status.busy": "2021-10-07T14:11:00.237842Z",
     "iopub.status.idle": "2021-10-07T14:11:03.632782Z",
     "shell.execute_reply": "2021-10-07T14:11:03.633316Z"
    }
   },
   "outputs": [],
   "source": [
    "import json, yaml, requests\r\n",
    "from datetime import datetime\r\n",
    "from dateutil import tz\r\n",
    "import pandas as pd\r\n",
    "from PIL import Image\r\n",
    "from io import BytesIO\r\n",
    "import matplotlib.pyplot as plt\r\n",
    "import seaborn\r\n",
    "\r\n",
    "CONFIG_PATH = \"../config/config.yaml\""
   ]
  },
  {
   "cell_type": "code",
   "execution_count": 2,
   "metadata": {
    "execution": {
     "iopub.execute_input": "2021-10-07T14:11:03.639703Z",
     "iopub.status.busy": "2021-10-07T14:11:03.639088Z",
     "iopub.status.idle": "2021-10-07T14:11:03.644541Z",
     "shell.execute_reply": "2021-10-07T14:11:03.645049Z"
    }
   },
   "outputs": [],
   "source": [
    "with open('../newest_ts', 'r') as f:\r\n",
    "    newest_ts = f.read()\r\n",
    "\r\n",
    "data_path = f\"../data/data_{newest_ts}.json\"\r\n",
    "with open(data_path, 'r') as f:\r\n",
    "    data = json.load(f)\r\n",
    "\r\n",
    "with open(CONFIG_PATH, \"r\") as stream:\r\n",
    "    config = yaml.safe_load(stream)\r\n",
    "\r\n",
    "TIME_ZONE = config['time_zone']\r\n",
    "DATETIME_FORMAT = config['dt_format']"
   ]
  },
  {
   "cell_type": "code",
   "execution_count": 3,
   "metadata": {
    "execution": {
     "iopub.execute_input": "2021-10-07T14:11:03.650289Z",
     "iopub.status.busy": "2021-10-07T14:11:03.649754Z",
     "iopub.status.idle": "2021-10-07T14:11:03.662190Z",
     "shell.execute_reply": "2021-10-07T14:11:03.661648Z"
    }
   },
   "outputs": [
    {
     "name": "stdout",
     "output_type": "stream",
     "text": [
      "Recent query happens at 2021-10-07 22:10:56 (CST).\n"
     ]
    }
   ],
   "source": [
    "def ts2dt(ts, format=DATETIME_FORMAT):\r\n",
    "    dt = (datetime.utcfromtimestamp(int(ts))\r\n",
    "                    .replace(tzinfo=tz.tzutc())\r\n",
    "                    # .astimezone(tz.tzlocal())\r\n",
    "                    .astimezone(tz.gettz(TIME_ZONE)))\r\n",
    "    return dt.strftime(format), dt\r\n",
    "\r\n",
    "_, newest_dt = ts2dt(newest_ts)\r\n",
    "print(f\"Recent query happens at {newest_dt.strftime(DATETIME_FORMAT)} ({newest_dt.tzname()}).\")"
   ]
  },
  {
   "cell_type": "code",
   "execution_count": 4,
   "metadata": {
    "execution": {
     "iopub.execute_input": "2021-10-07T14:11:03.666664Z",
     "iopub.status.busy": "2021-10-07T14:11:03.664559Z",
     "iopub.status.idle": "2021-10-07T14:11:03.668774Z",
     "shell.execute_reply": "2021-10-07T14:11:03.669214Z"
    }
   },
   "outputs": [],
   "source": [
    "def degrees_to_cardinal(d):\r\n",
    "  dirs = ['N', 'NNE', 'NE', 'ENE', 'E', 'ESE', 'SE', 'SSE', 'S', 'SSW', 'SW', 'WSW', 'W', 'WNW', 'NW', 'NNW']\r\n",
    "  ix = int(round(d / (360. / len(dirs))))\r\n",
    "  return dirs[ix % len(dirs)]"
   ]
  },
  {
   "cell_type": "code",
   "execution_count": 5,
   "metadata": {
    "execution": {
     "iopub.execute_input": "2021-10-07T14:11:03.672862Z",
     "iopub.status.busy": "2021-10-07T14:11:03.672338Z",
     "iopub.status.idle": "2021-10-07T14:11:03.675722Z",
     "shell.execute_reply": "2021-10-07T14:11:03.676243Z"
    }
   },
   "outputs": [],
   "source": [
    "# data.keys()"
   ]
  },
  {
   "cell_type": "code",
   "execution_count": 6,
   "metadata": {
    "execution": {
     "iopub.execute_input": "2021-10-07T14:11:03.681428Z",
     "iopub.status.busy": "2021-10-07T14:11:03.680094Z",
     "iopub.status.idle": "2021-10-07T14:11:03.682042Z",
     "shell.execute_reply": "2021-10-07T14:11:03.682507Z"
    }
   },
   "outputs": [],
   "source": [
    "# data['current']"
   ]
  },
  {
   "cell_type": "code",
   "execution_count": 7,
   "metadata": {
    "execution": {
     "iopub.execute_input": "2021-10-07T14:11:03.713066Z",
     "iopub.status.busy": "2021-10-07T14:11:03.712393Z",
     "iopub.status.idle": "2021-10-07T14:11:03.997201Z",
     "shell.execute_reply": "2021-10-07T14:11:03.998133Z"
    }
   },
   "outputs": [
    {
     "data": {
      "image/png": "[encoded data removed]",
      "text/plain": [
       "<Figure size 216x216 with 1 Axes>"
      ]
     },
     "metadata": {
      "needs_background": "light"
     },
     "output_type": "display_data"
    },
    {
     "name": "stdout",
     "output_type": "stream",
     "text": [
      "Today, sun rises at 06:16 and sets at 18:05.\n",
      "Currently, the weather is Rain (light rain).\n",
      "The temperature is 26.44°C and it feels like 26.44°C.\n",
      "The UV index is 0, humidity is 90%.\n",
      "The pressure is 1010 hPa, percentage of cloud cover is 100%\n",
      "The wind comes from NE direction with a speed 0.45 m/s.\n"
     ]
    }
   ],
   "source": [
    "current = data['current']\r\n",
    "\r\n",
    "fig, ax = plt.subplots(figsize=(3, 3))\r\n",
    "icon = requests.get(f\"http://openweathermap.org/img/wn/{current['weather'][0]['icon']}@2x.png\")\r\n",
    "im = Image.open(BytesIO(icon.content))\r\n",
    "plt.imshow(im)\r\n",
    "ax.set_axis_off()\r\n",
    "plt.show()\r\n",
    "\r\n",
    "print(f\"Today, sun rises at {ts2dt(current['sunrise'], '%H:%M')[0]} \\\r\n",
    "and sets at {ts2dt(current['sunset'], '%H:%M')[0]}.\\n\\\r\n",
    "Currently, the weather is {current['weather'][0]['main']} ({current['weather'][0]['description']}).\\n\\\r\n",
    "The temperature is {current['temp']}°C and it feels like {current['feels_like']}°C.\\n\\\r\n",
    "The UV index is {current['uvi']}, humidity is {current['humidity']}%.\\n\\\r\n",
    "The pressure is {current['pressure']} hPa, percentage of cloud cover is {current['clouds']}%\\n\\\r\n",
    "The wind comes from {degrees_to_cardinal(current['wind_deg'])} direction with a speed {current['wind_speed']} m/s.\")"
   ]
  },
  {
   "cell_type": "code",
   "execution_count": 8,
   "metadata": {
    "execution": {
     "iopub.execute_input": "2021-10-07T14:11:04.001914Z",
     "iopub.status.busy": "2021-10-07T14:11:04.001353Z",
     "iopub.status.idle": "2021-10-07T14:11:04.008980Z",
     "shell.execute_reply": "2021-10-07T14:11:04.009890Z"
    }
   },
   "outputs": [],
   "source": [
    "df_hourly = pd.DataFrame(data['hourly'])\r\n",
    "df_daily = pd.DataFrame(data['daily'])"
   ]
  },
  {
   "cell_type": "code",
   "execution_count": 9,
   "metadata": {
    "execution": {
     "iopub.execute_input": "2021-10-07T14:11:04.013465Z",
     "iopub.status.busy": "2021-10-07T14:11:04.012409Z",
     "iopub.status.idle": "2021-10-07T14:11:04.369924Z",
     "shell.execute_reply": "2021-10-07T14:11:04.370387Z"
    }
   },
   "outputs": [
    {
     "data": {
      "image/png": "[encoded data removed]",
      "text/plain": [
       "<Figure size 864x432 with 1 Axes>"
      ]
     },
     "metadata": {
      "needs_background": "light"
     },
     "output_type": "display_data"
    }
   ],
   "source": [
    "fig, ax = plt.subplots(figsize=(12, 6))\r\n",
    "plt.plot(df_hourly.temp, '.-', label='Temperature')\r\n",
    "plt.plot(df_hourly.feels_like, '.-', label='Feels Like')\r\n",
    "ax.set(title='Temperature in future 48 hours', xlabel='Time', ylabel='Temperature')\r\n",
    "ax.set_xticks(list(range(0, len(df_hourly), 2)))\r\n",
    "ax.set_xticklabels([ts2dt(ts, '%m-%d %H:%M')[0] for i, ts in enumerate(df_hourly.dt) if i%2==0], \r\n",
    "                   rotation=45, ha=\"right\")\r\n",
    "ax.locator_params(nbins=15, axis='y')\r\n",
    "plt.legend()\r\n",
    "plt.show()"
   ]
  },
  {
   "cell_type": "code",
   "execution_count": 10,
   "metadata": {
    "execution": {
     "iopub.execute_input": "2021-10-07T14:11:04.376129Z",
     "iopub.status.busy": "2021-10-07T14:11:04.375053Z",
     "iopub.status.idle": "2021-10-07T14:11:04.398843Z",
     "shell.execute_reply": "2021-10-07T14:11:04.399332Z"
    }
   },
   "outputs": [
    {
     "data": {
      "text/html": [
       "<div>\n",
       "<style scoped>\n",
       "    .dataframe tbody tr th:only-of-type {\n",
       "        vertical-align: middle;\n",
       "    }\n",
       "\n",
       "    .dataframe tbody tr th {\n",
       "        vertical-align: top;\n",
       "    }\n",
       "\n",
       "    .dataframe thead th {\n",
       "        text-align: right;\n",
       "    }\n",
       "</style>\n",
       "<table border=\"1\" class=\"dataframe\">\n",
       "  <thead>\n",
       "    <tr style=\"text-align: right;\">\n",
       "      <th></th>\n",
       "      <th>dt</th>\n",
       "      <th>temp</th>\n",
       "      <th>feels_like</th>\n",
       "      <th>pressure</th>\n",
       "      <th>humidity</th>\n",
       "      <th>dew_point</th>\n",
       "      <th>uvi</th>\n",
       "      <th>clouds</th>\n",
       "      <th>visibility</th>\n",
       "      <th>wind_speed</th>\n",
       "      <th>wind_deg</th>\n",
       "      <th>wind_gust</th>\n",
       "      <th>weather</th>\n",
       "      <th>pop</th>\n",
       "      <th>rain</th>\n",
       "    </tr>\n",
       "  </thead>\n",
       "  <tbody>\n",
       "    <tr>\n",
       "      <th>0</th>\n",
       "      <td>1633615200</td>\n",
       "      <td>26.44</td>\n",
       "      <td>26.44</td>\n",
       "      <td>1010</td>\n",
       "      <td>90</td>\n",
       "      <td>24.67</td>\n",
       "      <td>0.0</td>\n",
       "      <td>100</td>\n",
       "      <td>10000</td>\n",
       "      <td>10.91</td>\n",
       "      <td>73</td>\n",
       "      <td>14.98</td>\n",
       "      <td>[{'id': 500, 'main': 'Rain', 'description': 'l...</td>\n",
       "      <td>0.83</td>\n",
       "      <td>{'1h': 0.56}</td>\n",
       "    </tr>\n",
       "    <tr>\n",
       "      <th>1</th>\n",
       "      <td>1633618800</td>\n",
       "      <td>26.47</td>\n",
       "      <td>26.47</td>\n",
       "      <td>1009</td>\n",
       "      <td>88</td>\n",
       "      <td>24.32</td>\n",
       "      <td>0.0</td>\n",
       "      <td>100</td>\n",
       "      <td>10000</td>\n",
       "      <td>10.99</td>\n",
       "      <td>72</td>\n",
       "      <td>14.61</td>\n",
       "      <td>[{'id': 500, 'main': 'Rain', 'description': 'l...</td>\n",
       "      <td>0.87</td>\n",
       "      <td>{'1h': 0.86}</td>\n",
       "    </tr>\n",
       "    <tr>\n",
       "      <th>2</th>\n",
       "      <td>1633622400</td>\n",
       "      <td>26.48</td>\n",
       "      <td>26.48</td>\n",
       "      <td>1008</td>\n",
       "      <td>88</td>\n",
       "      <td>24.33</td>\n",
       "      <td>0.0</td>\n",
       "      <td>100</td>\n",
       "      <td>10000</td>\n",
       "      <td>10.24</td>\n",
       "      <td>71</td>\n",
       "      <td>13.83</td>\n",
       "      <td>[{'id': 500, 'main': 'Rain', 'description': 'l...</td>\n",
       "      <td>0.87</td>\n",
       "      <td>{'1h': 0.42}</td>\n",
       "    </tr>\n",
       "    <tr>\n",
       "      <th>3</th>\n",
       "      <td>1633626000</td>\n",
       "      <td>26.53</td>\n",
       "      <td>26.53</td>\n",
       "      <td>1007</td>\n",
       "      <td>87</td>\n",
       "      <td>24.19</td>\n",
       "      <td>0.0</td>\n",
       "      <td>100</td>\n",
       "      <td>10000</td>\n",
       "      <td>10.12</td>\n",
       "      <td>75</td>\n",
       "      <td>13.53</td>\n",
       "      <td>[{'id': 500, 'main': 'Rain', 'description': 'l...</td>\n",
       "      <td>0.85</td>\n",
       "      <td>{'1h': 0.92}</td>\n",
       "    </tr>\n",
       "    <tr>\n",
       "      <th>4</th>\n",
       "      <td>1633629600</td>\n",
       "      <td>26.25</td>\n",
       "      <td>26.25</td>\n",
       "      <td>1006</td>\n",
       "      <td>88</td>\n",
       "      <td>24.10</td>\n",
       "      <td>0.0</td>\n",
       "      <td>100</td>\n",
       "      <td>6082</td>\n",
       "      <td>9.72</td>\n",
       "      <td>76</td>\n",
       "      <td>13.35</td>\n",
       "      <td>[{'id': 501, 'main': 'Rain', 'description': 'm...</td>\n",
       "      <td>0.81</td>\n",
       "      <td>{'1h': 1.36}</td>\n",
       "    </tr>\n",
       "  </tbody>\n",
       "</table>\n",
       "</div>"
      ],
      "text/plain": [
       "           dt   temp  feels_like  pressure  humidity  dew_point  uvi  clouds  \\\n",
       "0  1633615200  26.44       26.44      1010        90      24.67  0.0     100   \n",
       "1  1633618800  26.47       26.47      1009        88      24.32  0.0     100   \n",
       "2  1633622400  26.48       26.48      1008        88      24.33  0.0     100   \n",
       "3  1633626000  26.53       26.53      1007        87      24.19  0.0     100   \n",
       "4  1633629600  26.25       26.25      1006        88      24.10  0.0     100   \n",
       "\n",
       "   visibility  wind_speed  wind_deg  wind_gust  \\\n",
       "0       10000       10.91        73      14.98   \n",
       "1       10000       10.99        72      14.61   \n",
       "2       10000       10.24        71      13.83   \n",
       "3       10000       10.12        75      13.53   \n",
       "4        6082        9.72        76      13.35   \n",
       "\n",
       "                                             weather   pop          rain  \n",
       "0  [{'id': 500, 'main': 'Rain', 'description': 'l...  0.83  {'1h': 0.56}  \n",
       "1  [{'id': 500, 'main': 'Rain', 'description': 'l...  0.87  {'1h': 0.86}  \n",
       "2  [{'id': 500, 'main': 'Rain', 'description': 'l...  0.87  {'1h': 0.42}  \n",
       "3  [{'id': 500, 'main': 'Rain', 'description': 'l...  0.85  {'1h': 0.92}  \n",
       "4  [{'id': 501, 'main': 'Rain', 'description': 'm...  0.81  {'1h': 1.36}  "
      ]
     },
     "execution_count": 10,
     "metadata": {},
     "output_type": "execute_result"
    }
   ],
   "source": [
    "df_hourly.head()"
   ]
  },
  {
   "cell_type": "code",
   "execution_count": null,
   "metadata": {},
   "outputs": [],
   "source": []
  }
 ],
 "metadata": {
  "interpreter": {
   "hash": "c1b4cfe941b6d2466ad1fb5979e97da9cda8801728c8091b097ab734208fc00c"
  },
  "kernelspec": {
   "display_name": "Python 3.8.3 64-bit ('base': conda)",
   "name": "python3"
  },
  "language_info": {
   "codemirror_mode": {
    "name": "ipython",
    "version": 3
   },
   "file_extension": ".py",
   "mimetype": "text/x-python",
   "name": "python",
   "nbconvert_exporter": "python",
   "pygments_lexer": "ipython3",
   "version": "3.8.12"
  }
 },
 "nbformat": 4,
 "nbformat_minor": 2
}
