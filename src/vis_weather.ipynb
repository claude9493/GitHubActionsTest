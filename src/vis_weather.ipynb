{
 "cells": [
  {
   "cell_type": "code",
   "execution_count": 1,
   "metadata": {
    "execution": {
     "iopub.execute_input": "2021-08-27T06:46:57.943512Z",
     "iopub.status.busy": "2021-08-27T06:46:57.942234Z",
     "iopub.status.idle": "2021-08-27T06:46:59.484537Z",
     "shell.execute_reply": "2021-08-27T06:46:59.483879Z"
    }
   },
   "outputs": [],
   "source": [
    "import json, yaml, requests\r\n",
    "from datetime import datetime\r\n",
    "from dateutil import tz\r\n",
    "import pandas as pd\r\n",
    "from PIL import Image\r\n",
    "from io import BytesIO\r\n",
    "import matplotlib.pyplot as plt\r\n",
    "import seaborn\r\n",
    "\r\n",
    "CONFIG_PATH = \"../config/config.yaml\""
   ]
  },
  {
   "cell_type": "code",
   "execution_count": 2,
   "metadata": {
    "execution": {
     "iopub.execute_input": "2021-08-27T06:46:59.492667Z",
     "iopub.status.busy": "2021-08-27T06:46:59.489176Z",
     "iopub.status.idle": "2021-08-27T06:46:59.497253Z",
     "shell.execute_reply": "2021-08-27T06:46:59.495748Z"
    }
   },
   "outputs": [],
   "source": [
    "with open('../newest_ts', 'r') as f:\r\n",
    "    newest_ts = f.read()\r\n",
    "\r\n",
    "data_path = f\"../data/data_{newest_ts}.json\"\r\n",
    "with open(data_path, 'r') as f:\r\n",
    "    data = json.load(f)\r\n",
    "\r\n",
    "with open(CONFIG_PATH, \"r\") as stream:\r\n",
    "    config = yaml.safe_load(stream)\r\n",
    "\r\n",
    "TIME_ZONE = config['time_zone']\r\n",
    "DATETIME_FORMAT = config['dt_format']"
   ]
  },
  {
   "cell_type": "code",
   "execution_count": 3,
   "metadata": {
    "execution": {
     "iopub.execute_input": "2021-08-27T06:46:59.504733Z",
     "iopub.status.busy": "2021-08-27T06:46:59.502783Z",
     "iopub.status.idle": "2021-08-27T06:46:59.507978Z",
     "shell.execute_reply": "2021-08-27T06:46:59.508490Z"
    }
   },
   "outputs": [
    {
     "name": "stdout",
     "output_type": "stream",
     "text": [
      "Recent query happens at 2021-08-27 14:46:55 (CST).\n"
     ]
    }
   ],
   "source": [
    "def ts2dt(ts, format=DATETIME_FORMAT):\r\n",
    "    dt = (datetime.utcfromtimestamp(int(ts))\r\n",
    "                    .replace(tzinfo=tz.tzutc())\r\n",
    "                    # .astimezone(tz.tzlocal())\r\n",
    "                    .astimezone(tz.gettz(TIME_ZONE)))\r\n",
    "    return dt.strftime(format), dt\r\n",
    "\r\n",
    "_, newest_dt = ts2dt(newest_ts)\r\n",
    "print(f\"Recent query happens at {newest_dt.strftime(DATETIME_FORMAT)} ({newest_dt.tzname()}).\")"
   ]
  },
  {
   "cell_type": "code",
   "execution_count": 4,
   "metadata": {
    "execution": {
     "iopub.execute_input": "2021-08-27T06:46:59.514603Z",
     "iopub.status.busy": "2021-08-27T06:46:59.513149Z",
     "iopub.status.idle": "2021-08-27T06:46:59.515255Z",
     "shell.execute_reply": "2021-08-27T06:46:59.515764Z"
    }
   },
   "outputs": [],
   "source": [
    "def degrees_to_cardinal(d):\r\n",
    "  dirs = ['N', 'NNE', 'NE', 'ENE', 'E', 'ESE', 'SE', 'SSE', 'S', 'SSW', 'SW', 'WSW', 'W', 'WNW', 'NW', 'NNW']\r\n",
    "  ix = int(round(d / (360. / len(dirs))))\r\n",
    "  return dirs[ix % len(dirs)]"
   ]
  },
  {
   "cell_type": "code",
   "execution_count": 5,
   "metadata": {
    "execution": {
     "iopub.execute_input": "2021-08-27T06:46:59.520442Z",
     "iopub.status.busy": "2021-08-27T06:46:59.519864Z",
     "iopub.status.idle": "2021-08-27T06:46:59.523612Z",
     "shell.execute_reply": "2021-08-27T06:46:59.523041Z"
    }
   },
   "outputs": [],
   "source": [
    "# data.keys()"
   ]
  },
  {
   "cell_type": "code",
   "execution_count": 6,
   "metadata": {
    "execution": {
     "iopub.execute_input": "2021-08-27T06:46:59.528390Z",
     "iopub.status.busy": "2021-08-27T06:46:59.526740Z",
     "iopub.status.idle": "2021-08-27T06:46:59.529029Z",
     "shell.execute_reply": "2021-08-27T06:46:59.529491Z"
    }
   },
   "outputs": [],
   "source": [
    "# data['current']"
   ]
  },
  {
   "cell_type": "code",
   "execution_count": 7,
   "metadata": {
    "execution": {
     "iopub.execute_input": "2021-08-27T06:46:59.549478Z",
     "iopub.status.busy": "2021-08-27T06:46:59.543059Z",
     "iopub.status.idle": "2021-08-27T06:46:59.987791Z",
     "shell.execute_reply": "2021-08-27T06:46:59.988635Z"
    }
   },
   "outputs": [
    {
     "data": {
      "image/png": "[encoded data removed]",
      "text/plain": [
       "<Figure size 216x216 with 1 Axes>"
      ]
     },
     "metadata": {
      "needs_background": "light"
     },
     "output_type": "display_data"
    },
    {
     "name": "stdout",
     "output_type": "stream",
     "text": [
      "Today, sun rises at 06:04 and sets at 18:45.\n",
      "Currently, the weather is Rain (moderate rain).\n",
      "The temperature is 23.75°C and it feels like 23.96°C.\n",
      "The UV index is 5.71, humidity is 68%.\n",
      "The pressure is 1010 hPa, percentage of cloud cover is 48%\n",
      "The wind comes from E direction with a speed 6.88 m/s.\n"
     ]
    }
   ],
   "source": [
    "current = data['current']\r\n",
    "\r\n",
    "fig, ax = plt.subplots(figsize=(3, 3))\r\n",
    "icon = requests.get(f\"http://openweathermap.org/img/wn/{current['weather'][0]['icon']}@2x.png\")\r\n",
    "im = Image.open(BytesIO(icon.content))\r\n",
    "plt.imshow(im)\r\n",
    "ax.set_axis_off()\r\n",
    "plt.show()\r\n",
    "\r\n",
    "print(f\"Today, sun rises at {ts2dt(current['sunrise'], '%H:%M')[0]} \\\r\n",
    "and sets at {ts2dt(current['sunset'], '%H:%M')[0]}.\\n\\\r\n",
    "Currently, the weather is {current['weather'][0]['main']} ({current['weather'][0]['description']}).\\n\\\r\n",
    "The temperature is {current['temp']}°C and it feels like {current['feels_like']}°C.\\n\\\r\n",
    "The UV index is {current['uvi']}, humidity is {current['humidity']}%.\\n\\\r\n",
    "The pressure is {current['pressure']} hPa, percentage of cloud cover is {current['clouds']}%\\n\\\r\n",
    "The wind comes from {degrees_to_cardinal(current['wind_deg'])} direction with a speed {current['wind_speed']} m/s.\")"
   ]
  },
  {
   "cell_type": "code",
   "execution_count": 8,
   "metadata": {
    "execution": {
     "iopub.execute_input": "2021-08-27T06:46:59.993481Z",
     "iopub.status.busy": "2021-08-27T06:46:59.992726Z",
     "iopub.status.idle": "2021-08-27T06:47:00.008203Z",
     "shell.execute_reply": "2021-08-27T06:47:00.009488Z"
    }
   },
   "outputs": [],
   "source": [
    "df_hourly = pd.DataFrame(data['hourly'])\r\n",
    "df_daily = pd.DataFrame(data['daily'])"
   ]
  },
  {
   "cell_type": "code",
   "execution_count": 9,
   "metadata": {
    "execution": {
     "iopub.execute_input": "2021-08-27T06:47:00.014236Z",
     "iopub.status.busy": "2021-08-27T06:47:00.013066Z",
     "iopub.status.idle": "2021-08-27T06:47:00.371509Z",
     "shell.execute_reply": "2021-08-27T06:47:00.372147Z"
    }
   },
   "outputs": [
    {
     "data": {
      "image/png": "[encoded data removed]",
      "text/plain": [
       "<Figure size 864x432 with 1 Axes>"
      ]
     },
     "metadata": {
      "needs_background": "light"
     },
     "output_type": "display_data"
    }
   ],
   "source": [
    "fig, ax = plt.subplots(figsize=(12, 6))\r\n",
    "plt.plot(df_hourly.temp, '.-', label='Temperature')\r\n",
    "plt.plot(df_hourly.feels_like, '.-', label='Feels Like')\r\n",
    "ax.set(title='Temperature in future 48 hours', xlabel='Time', ylabel='Temperature')\r\n",
    "ax.set_xticks(list(range(0, len(df_hourly), 2)))\r\n",
    "ax.set_xticklabels([ts2dt(ts, '%m-%d %H:%M')[0] for i, ts in enumerate(df_hourly.dt) if i%2==0], \r\n",
    "                   rotation=45, ha=\"right\")\r\n",
    "ax.locator_params(nbins=15, axis='y')\r\n",
    "plt.legend()\r\n",
    "plt.show()"
   ]
  },
  {
   "cell_type": "code",
   "execution_count": 10,
   "metadata": {
    "execution": {
     "iopub.execute_input": "2021-08-27T06:47:00.385678Z",
     "iopub.status.busy": "2021-08-27T06:47:00.376572Z",
     "iopub.status.idle": "2021-08-27T06:47:00.398175Z",
     "shell.execute_reply": "2021-08-27T06:47:00.397751Z"
    }
   },
   "outputs": [
    {
     "data": {
      "text/html": [
       "<div>\n",
       "<style scoped>\n",
       "    .dataframe tbody tr th:only-of-type {\n",
       "        vertical-align: middle;\n",
       "    }\n",
       "\n",
       "    .dataframe tbody tr th {\n",
       "        vertical-align: top;\n",
       "    }\n",
       "\n",
       "    .dataframe thead th {\n",
       "        text-align: right;\n",
       "    }\n",
       "</style>\n",
       "<table border=\"1\" class=\"dataframe\">\n",
       "  <thead>\n",
       "    <tr style=\"text-align: right;\">\n",
       "      <th></th>\n",
       "      <th>dt</th>\n",
       "      <th>temp</th>\n",
       "      <th>feels_like</th>\n",
       "      <th>pressure</th>\n",
       "      <th>humidity</th>\n",
       "      <th>dew_point</th>\n",
       "      <th>uvi</th>\n",
       "      <th>clouds</th>\n",
       "      <th>visibility</th>\n",
       "      <th>wind_speed</th>\n",
       "      <th>wind_deg</th>\n",
       "      <th>wind_gust</th>\n",
       "      <th>weather</th>\n",
       "      <th>pop</th>\n",
       "      <th>rain</th>\n",
       "    </tr>\n",
       "  </thead>\n",
       "  <tbody>\n",
       "    <tr>\n",
       "      <th>0</th>\n",
       "      <td>1630044000</td>\n",
       "      <td>25.03</td>\n",
       "      <td>25.34</td>\n",
       "      <td>1010</td>\n",
       "      <td>67</td>\n",
       "      <td>18.48</td>\n",
       "      <td>9.43</td>\n",
       "      <td>42</td>\n",
       "      <td>10000</td>\n",
       "      <td>6.95</td>\n",
       "      <td>97</td>\n",
       "      <td>8.00</td>\n",
       "      <td>[{'id': 802, 'main': 'Clouds', 'description': ...</td>\n",
       "      <td>0.79</td>\n",
       "      <td>NaN</td>\n",
       "    </tr>\n",
       "    <tr>\n",
       "      <th>1</th>\n",
       "      <td>1630047600</td>\n",
       "      <td>23.75</td>\n",
       "      <td>23.96</td>\n",
       "      <td>1010</td>\n",
       "      <td>68</td>\n",
       "      <td>17.49</td>\n",
       "      <td>5.71</td>\n",
       "      <td>48</td>\n",
       "      <td>10000</td>\n",
       "      <td>6.88</td>\n",
       "      <td>99</td>\n",
       "      <td>7.90</td>\n",
       "      <td>[{'id': 501, 'main': 'Rain', 'description': 'm...</td>\n",
       "      <td>0.20</td>\n",
       "      <td>{'1h': 1.54}</td>\n",
       "    </tr>\n",
       "    <tr>\n",
       "      <th>2</th>\n",
       "      <td>1630051200</td>\n",
       "      <td>24.94</td>\n",
       "      <td>25.29</td>\n",
       "      <td>1010</td>\n",
       "      <td>69</td>\n",
       "      <td>18.86</td>\n",
       "      <td>3.03</td>\n",
       "      <td>49</td>\n",
       "      <td>10000</td>\n",
       "      <td>6.80</td>\n",
       "      <td>101</td>\n",
       "      <td>7.87</td>\n",
       "      <td>[{'id': 501, 'main': 'Rain', 'description': 'm...</td>\n",
       "      <td>0.25</td>\n",
       "      <td>{'1h': 1.33}</td>\n",
       "    </tr>\n",
       "    <tr>\n",
       "      <th>3</th>\n",
       "      <td>1630054800</td>\n",
       "      <td>25.97</td>\n",
       "      <td>25.97</td>\n",
       "      <td>1010</td>\n",
       "      <td>70</td>\n",
       "      <td>20.08</td>\n",
       "      <td>1.11</td>\n",
       "      <td>52</td>\n",
       "      <td>10000</td>\n",
       "      <td>6.99</td>\n",
       "      <td>102</td>\n",
       "      <td>8.19</td>\n",
       "      <td>[{'id': 500, 'main': 'Rain', 'description': 'l...</td>\n",
       "      <td>0.34</td>\n",
       "      <td>{'1h': 0.75}</td>\n",
       "    </tr>\n",
       "    <tr>\n",
       "      <th>4</th>\n",
       "      <td>1630058400</td>\n",
       "      <td>26.80</td>\n",
       "      <td>28.75</td>\n",
       "      <td>1010</td>\n",
       "      <td>73</td>\n",
       "      <td>21.55</td>\n",
       "      <td>0.17</td>\n",
       "      <td>56</td>\n",
       "      <td>10000</td>\n",
       "      <td>6.00</td>\n",
       "      <td>105</td>\n",
       "      <td>7.86</td>\n",
       "      <td>[{'id': 500, 'main': 'Rain', 'description': 'l...</td>\n",
       "      <td>0.24</td>\n",
       "      <td>{'1h': 0.27}</td>\n",
       "    </tr>\n",
       "  </tbody>\n",
       "</table>\n",
       "</div>"
      ],
      "text/plain": [
       "           dt   temp  feels_like  pressure  humidity  dew_point   uvi  clouds  \\\n",
       "0  1630044000  25.03       25.34      1010        67      18.48  9.43      42   \n",
       "1  1630047600  23.75       23.96      1010        68      17.49  5.71      48   \n",
       "2  1630051200  24.94       25.29      1010        69      18.86  3.03      49   \n",
       "3  1630054800  25.97       25.97      1010        70      20.08  1.11      52   \n",
       "4  1630058400  26.80       28.75      1010        73      21.55  0.17      56   \n",
       "\n",
       "   visibility  wind_speed  wind_deg  wind_gust  \\\n",
       "0       10000        6.95        97       8.00   \n",
       "1       10000        6.88        99       7.90   \n",
       "2       10000        6.80       101       7.87   \n",
       "3       10000        6.99       102       8.19   \n",
       "4       10000        6.00       105       7.86   \n",
       "\n",
       "                                             weather   pop          rain  \n",
       "0  [{'id': 802, 'main': 'Clouds', 'description': ...  0.79           NaN  \n",
       "1  [{'id': 501, 'main': 'Rain', 'description': 'm...  0.20  {'1h': 1.54}  \n",
       "2  [{'id': 501, 'main': 'Rain', 'description': 'm...  0.25  {'1h': 1.33}  \n",
       "3  [{'id': 500, 'main': 'Rain', 'description': 'l...  0.34  {'1h': 0.75}  \n",
       "4  [{'id': 500, 'main': 'Rain', 'description': 'l...  0.24  {'1h': 0.27}  "
      ]
     },
     "execution_count": 10,
     "metadata": {},
     "output_type": "execute_result"
    }
   ],
   "source": [
    "df_hourly.head()"
   ]
  },
  {
   "cell_type": "code",
   "execution_count": null,
   "metadata": {},
   "outputs": [],
   "source": []
  }
 ],
 "metadata": {
  "interpreter": {
   "hash": "c1b4cfe941b6d2466ad1fb5979e97da9cda8801728c8091b097ab734208fc00c"
  },
  "kernelspec": {
   "display_name": "Python 3.8.3 64-bit ('base': conda)",
   "name": "python3"
  },
  "language_info": {
   "codemirror_mode": {
    "name": "ipython",
    "version": 3
   },
   "file_extension": ".py",
   "mimetype": "text/x-python",
   "name": "python",
   "nbconvert_exporter": "python",
   "pygments_lexer": "ipython3",
   "version": "3.8.11"
  }
 },
 "nbformat": 4,
 "nbformat_minor": 2
}
