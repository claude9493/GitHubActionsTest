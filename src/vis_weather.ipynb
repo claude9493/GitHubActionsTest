{
 "cells": [
  {
   "cell_type": "code",
   "execution_count": 1,
   "metadata": {
    "execution": {
     "iopub.execute_input": "2021-10-01T05:10:34.611666Z",
     "iopub.status.busy": "2021-10-01T05:10:34.610938Z",
     "iopub.status.idle": "2021-10-01T05:10:37.501426Z",
     "shell.execute_reply": "2021-10-01T05:10:37.501911Z"
    }
   },
   "outputs": [],
   "source": [
    "import json, yaml, requests\r\n",
    "from datetime import datetime\r\n",
    "from dateutil import tz\r\n",
    "import pandas as pd\r\n",
    "from PIL import Image\r\n",
    "from io import BytesIO\r\n",
    "import matplotlib.pyplot as plt\r\n",
    "import seaborn\r\n",
    "\r\n",
    "CONFIG_PATH = \"../config/config.yaml\""
   ]
  },
  {
   "cell_type": "code",
   "execution_count": 2,
   "metadata": {
    "execution": {
     "iopub.execute_input": "2021-10-01T05:10:37.507911Z",
     "iopub.status.busy": "2021-10-01T05:10:37.507382Z",
     "iopub.status.idle": "2021-10-01T05:10:37.513515Z",
     "shell.execute_reply": "2021-10-01T05:10:37.512991Z"
    }
   },
   "outputs": [],
   "source": [
    "with open('../newest_ts', 'r') as f:\r\n",
    "    newest_ts = f.read()\r\n",
    "\r\n",
    "data_path = f\"../data/data_{newest_ts}.json\"\r\n",
    "with open(data_path, 'r') as f:\r\n",
    "    data = json.load(f)\r\n",
    "\r\n",
    "with open(CONFIG_PATH, \"r\") as stream:\r\n",
    "    config = yaml.safe_load(stream)\r\n",
    "\r\n",
    "TIME_ZONE = config['time_zone']\r\n",
    "DATETIME_FORMAT = config['dt_format']"
   ]
  },
  {
   "cell_type": "code",
   "execution_count": 3,
   "metadata": {
    "execution": {
     "iopub.execute_input": "2021-10-01T05:10:37.518497Z",
     "iopub.status.busy": "2021-10-01T05:10:37.517972Z",
     "iopub.status.idle": "2021-10-01T05:10:37.550368Z",
     "shell.execute_reply": "2021-10-01T05:10:37.550907Z"
    }
   },
   "outputs": [
    {
     "name": "stdout",
     "output_type": "stream",
     "text": [
      "Recent query happens at 2021-10-01 13:10:31 (CST).\n"
     ]
    }
   ],
   "source": [
    "def ts2dt(ts, format=DATETIME_FORMAT):\r\n",
    "    dt = (datetime.utcfromtimestamp(int(ts))\r\n",
    "                    .replace(tzinfo=tz.tzutc())\r\n",
    "                    # .astimezone(tz.tzlocal())\r\n",
    "                    .astimezone(tz.gettz(TIME_ZONE)))\r\n",
    "    return dt.strftime(format), dt\r\n",
    "\r\n",
    "_, newest_dt = ts2dt(newest_ts)\r\n",
    "print(f\"Recent query happens at {newest_dt.strftime(DATETIME_FORMAT)} ({newest_dt.tzname()}).\")"
   ]
  },
  {
   "cell_type": "code",
   "execution_count": 4,
   "metadata": {
    "execution": {
     "iopub.execute_input": "2021-10-01T05:10:37.554315Z",
     "iopub.status.busy": "2021-10-01T05:10:37.553677Z",
     "iopub.status.idle": "2021-10-01T05:10:37.558441Z",
     "shell.execute_reply": "2021-10-01T05:10:37.558910Z"
    }
   },
   "outputs": [],
   "source": [
    "def degrees_to_cardinal(d):\r\n",
    "  dirs = ['N', 'NNE', 'NE', 'ENE', 'E', 'ESE', 'SE', 'SSE', 'S', 'SSW', 'SW', 'WSW', 'W', 'WNW', 'NW', 'NNW']\r\n",
    "  ix = int(round(d / (360. / len(dirs))))\r\n",
    "  return dirs[ix % len(dirs)]"
   ]
  },
  {
   "cell_type": "code",
   "execution_count": 5,
   "metadata": {
    "execution": {
     "iopub.execute_input": "2021-10-01T05:10:37.564271Z",
     "iopub.status.busy": "2021-10-01T05:10:37.562879Z",
     "iopub.status.idle": "2021-10-01T05:10:37.564968Z",
     "shell.execute_reply": "2021-10-01T05:10:37.565477Z"
    }
   },
   "outputs": [],
   "source": [
    "# data.keys()"
   ]
  },
  {
   "cell_type": "code",
   "execution_count": 6,
   "metadata": {
    "execution": {
     "iopub.execute_input": "2021-10-01T05:10:37.570295Z",
     "iopub.status.busy": "2021-10-01T05:10:37.568821Z",
     "iopub.status.idle": "2021-10-01T05:10:37.571045Z",
     "shell.execute_reply": "2021-10-01T05:10:37.571517Z"
    }
   },
   "outputs": [],
   "source": [
    "# data['current']"
   ]
  },
  {
   "cell_type": "code",
   "execution_count": 7,
   "metadata": {
    "execution": {
     "iopub.execute_input": "2021-10-01T05:10:37.601951Z",
     "iopub.status.busy": "2021-10-01T05:10:37.591912Z",
     "iopub.status.idle": "2021-10-01T05:10:37.872707Z",
     "shell.execute_reply": "2021-10-01T05:10:37.873670Z"
    }
   },
   "outputs": [
    {
     "data": {
      "image/png": "[encoded data removed]",
      "text/plain": [
       "<Figure size 216x216 with 1 Axes>"
      ]
     },
     "metadata": {
      "needs_background": "light"
     },
     "output_type": "display_data"
    },
    {
     "name": "stdout",
     "output_type": "stream",
     "text": [
      "Today, sun rises at 06:14 and sets at 18:11.\n",
      "Currently, the weather is Rain (light rain).\n",
      "The temperature is 32°C and it feels like 39°C.\n",
      "The UV index is 9.4, humidity is 75%.\n",
      "The pressure is 1006 hPa, percentage of cloud cover is 18%\n",
      "The wind comes from S direction with a speed 1.34 m/s.\n"
     ]
    }
   ],
   "source": [
    "current = data['current']\r\n",
    "\r\n",
    "fig, ax = plt.subplots(figsize=(3, 3))\r\n",
    "icon = requests.get(f\"http://openweathermap.org/img/wn/{current['weather'][0]['icon']}@2x.png\")\r\n",
    "im = Image.open(BytesIO(icon.content))\r\n",
    "plt.imshow(im)\r\n",
    "ax.set_axis_off()\r\n",
    "plt.show()\r\n",
    "\r\n",
    "print(f\"Today, sun rises at {ts2dt(current['sunrise'], '%H:%M')[0]} \\\r\n",
    "and sets at {ts2dt(current['sunset'], '%H:%M')[0]}.\\n\\\r\n",
    "Currently, the weather is {current['weather'][0]['main']} ({current['weather'][0]['description']}).\\n\\\r\n",
    "The temperature is {current['temp']}°C and it feels like {current['feels_like']}°C.\\n\\\r\n",
    "The UV index is {current['uvi']}, humidity is {current['humidity']}%.\\n\\\r\n",
    "The pressure is {current['pressure']} hPa, percentage of cloud cover is {current['clouds']}%\\n\\\r\n",
    "The wind comes from {degrees_to_cardinal(current['wind_deg'])} direction with a speed {current['wind_speed']} m/s.\")"
   ]
  },
  {
   "cell_type": "code",
   "execution_count": 8,
   "metadata": {
    "execution": {
     "iopub.execute_input": "2021-10-01T05:10:37.881848Z",
     "iopub.status.busy": "2021-10-01T05:10:37.879513Z",
     "iopub.status.idle": "2021-10-01T05:10:37.885135Z",
     "shell.execute_reply": "2021-10-01T05:10:37.885842Z"
    }
   },
   "outputs": [],
   "source": [
    "df_hourly = pd.DataFrame(data['hourly'])\r\n",
    "df_daily = pd.DataFrame(data['daily'])"
   ]
  },
  {
   "cell_type": "code",
   "execution_count": 9,
   "metadata": {
    "execution": {
     "iopub.execute_input": "2021-10-01T05:10:37.899676Z",
     "iopub.status.busy": "2021-10-01T05:10:37.899084Z",
     "iopub.status.idle": "2021-10-01T05:10:38.227680Z",
     "shell.execute_reply": "2021-10-01T05:10:38.228301Z"
    }
   },
   "outputs": [
    {
     "data": {
      "image/png": "[encoded data removed]",
      "text/plain": [
       "<Figure size 864x432 with 1 Axes>"
      ]
     },
     "metadata": {
      "needs_background": "light"
     },
     "output_type": "display_data"
    }
   ],
   "source": [
    "fig, ax = plt.subplots(figsize=(12, 6))\r\n",
    "plt.plot(df_hourly.temp, '.-', label='Temperature')\r\n",
    "plt.plot(df_hourly.feels_like, '.-', label='Feels Like')\r\n",
    "ax.set(title='Temperature in future 48 hours', xlabel='Time', ylabel='Temperature')\r\n",
    "ax.set_xticks(list(range(0, len(df_hourly), 2)))\r\n",
    "ax.set_xticklabels([ts2dt(ts, '%m-%d %H:%M')[0] for i, ts in enumerate(df_hourly.dt) if i%2==0], \r\n",
    "                   rotation=45, ha=\"right\")\r\n",
    "ax.locator_params(nbins=15, axis='y')\r\n",
    "plt.legend()\r\n",
    "plt.show()"
   ]
  },
  {
   "cell_type": "code",
   "execution_count": 10,
   "metadata": {
    "execution": {
     "iopub.execute_input": "2021-10-01T05:10:38.233256Z",
     "iopub.status.busy": "2021-10-01T05:10:38.232713Z",
     "iopub.status.idle": "2021-10-01T05:10:38.254224Z",
     "shell.execute_reply": "2021-10-01T05:10:38.253678Z"
    }
   },
   "outputs": [
    {
     "data": {
      "text/html": [
       "<div>\n",
       "<style scoped>\n",
       "    .dataframe tbody tr th:only-of-type {\n",
       "        vertical-align: middle;\n",
       "    }\n",
       "\n",
       "    .dataframe tbody tr th {\n",
       "        vertical-align: top;\n",
       "    }\n",
       "\n",
       "    .dataframe thead th {\n",
       "        text-align: right;\n",
       "    }\n",
       "</style>\n",
       "<table border=\"1\" class=\"dataframe\">\n",
       "  <thead>\n",
       "    <tr style=\"text-align: right;\">\n",
       "      <th></th>\n",
       "      <th>dt</th>\n",
       "      <th>temp</th>\n",
       "      <th>feels_like</th>\n",
       "      <th>pressure</th>\n",
       "      <th>humidity</th>\n",
       "      <th>dew_point</th>\n",
       "      <th>uvi</th>\n",
       "      <th>clouds</th>\n",
       "      <th>visibility</th>\n",
       "      <th>wind_speed</th>\n",
       "      <th>wind_deg</th>\n",
       "      <th>wind_gust</th>\n",
       "      <th>weather</th>\n",
       "      <th>pop</th>\n",
       "      <th>rain</th>\n",
       "    </tr>\n",
       "  </thead>\n",
       "  <tbody>\n",
       "    <tr>\n",
       "      <th>0</th>\n",
       "      <td>1633064400</td>\n",
       "      <td>32.00</td>\n",
       "      <td>39.00</td>\n",
       "      <td>1006</td>\n",
       "      <td>75</td>\n",
       "      <td>27.01</td>\n",
       "      <td>9.40</td>\n",
       "      <td>18</td>\n",
       "      <td>10000</td>\n",
       "      <td>3.76</td>\n",
       "      <td>217</td>\n",
       "      <td>3.17</td>\n",
       "      <td>[{'id': 500, 'main': 'Rain', 'description': 'l...</td>\n",
       "      <td>0.37</td>\n",
       "      <td>{'1h': 0.33}</td>\n",
       "    </tr>\n",
       "    <tr>\n",
       "      <th>1</th>\n",
       "      <td>1633068000</td>\n",
       "      <td>31.70</td>\n",
       "      <td>38.70</td>\n",
       "      <td>1006</td>\n",
       "      <td>73</td>\n",
       "      <td>26.26</td>\n",
       "      <td>7.66</td>\n",
       "      <td>18</td>\n",
       "      <td>10000</td>\n",
       "      <td>3.73</td>\n",
       "      <td>218</td>\n",
       "      <td>3.17</td>\n",
       "      <td>[{'id': 801, 'main': 'Clouds', 'description': ...</td>\n",
       "      <td>0.29</td>\n",
       "      <td>NaN</td>\n",
       "    </tr>\n",
       "    <tr>\n",
       "      <th>2</th>\n",
       "      <td>1633071600</td>\n",
       "      <td>31.43</td>\n",
       "      <td>38.43</td>\n",
       "      <td>1006</td>\n",
       "      <td>72</td>\n",
       "      <td>25.77</td>\n",
       "      <td>5.26</td>\n",
       "      <td>22</td>\n",
       "      <td>10000</td>\n",
       "      <td>3.93</td>\n",
       "      <td>212</td>\n",
       "      <td>3.20</td>\n",
       "      <td>[{'id': 801, 'main': 'Clouds', 'description': ...</td>\n",
       "      <td>0.16</td>\n",
       "      <td>NaN</td>\n",
       "    </tr>\n",
       "    <tr>\n",
       "      <th>3</th>\n",
       "      <td>1633075200</td>\n",
       "      <td>31.09</td>\n",
       "      <td>38.09</td>\n",
       "      <td>1007</td>\n",
       "      <td>71</td>\n",
       "      <td>25.21</td>\n",
       "      <td>2.55</td>\n",
       "      <td>18</td>\n",
       "      <td>10000</td>\n",
       "      <td>3.89</td>\n",
       "      <td>206</td>\n",
       "      <td>3.38</td>\n",
       "      <td>[{'id': 801, 'main': 'Clouds', 'description': ...</td>\n",
       "      <td>0.16</td>\n",
       "      <td>NaN</td>\n",
       "    </tr>\n",
       "    <tr>\n",
       "      <th>4</th>\n",
       "      <td>1633078800</td>\n",
       "      <td>30.43</td>\n",
       "      <td>36.38</td>\n",
       "      <td>1007</td>\n",
       "      <td>71</td>\n",
       "      <td>24.58</td>\n",
       "      <td>0.79</td>\n",
       "      <td>13</td>\n",
       "      <td>10000</td>\n",
       "      <td>3.25</td>\n",
       "      <td>202</td>\n",
       "      <td>2.80</td>\n",
       "      <td>[{'id': 801, 'main': 'Clouds', 'description': ...</td>\n",
       "      <td>0.11</td>\n",
       "      <td>NaN</td>\n",
       "    </tr>\n",
       "  </tbody>\n",
       "</table>\n",
       "</div>"
      ],
      "text/plain": [
       "           dt   temp  feels_like  pressure  humidity  dew_point   uvi  clouds  \\\n",
       "0  1633064400  32.00       39.00      1006        75      27.01  9.40      18   \n",
       "1  1633068000  31.70       38.70      1006        73      26.26  7.66      18   \n",
       "2  1633071600  31.43       38.43      1006        72      25.77  5.26      22   \n",
       "3  1633075200  31.09       38.09      1007        71      25.21  2.55      18   \n",
       "4  1633078800  30.43       36.38      1007        71      24.58  0.79      13   \n",
       "\n",
       "   visibility  wind_speed  wind_deg  wind_gust  \\\n",
       "0       10000        3.76       217       3.17   \n",
       "1       10000        3.73       218       3.17   \n",
       "2       10000        3.93       212       3.20   \n",
       "3       10000        3.89       206       3.38   \n",
       "4       10000        3.25       202       2.80   \n",
       "\n",
       "                                             weather   pop          rain  \n",
       "0  [{'id': 500, 'main': 'Rain', 'description': 'l...  0.37  {'1h': 0.33}  \n",
       "1  [{'id': 801, 'main': 'Clouds', 'description': ...  0.29           NaN  \n",
       "2  [{'id': 801, 'main': 'Clouds', 'description': ...  0.16           NaN  \n",
       "3  [{'id': 801, 'main': 'Clouds', 'description': ...  0.16           NaN  \n",
       "4  [{'id': 801, 'main': 'Clouds', 'description': ...  0.11           NaN  "
      ]
     },
     "execution_count": 10,
     "metadata": {},
     "output_type": "execute_result"
    }
   ],
   "source": [
    "df_hourly.head()"
   ]
  },
  {
   "cell_type": "code",
   "execution_count": null,
   "metadata": {},
   "outputs": [],
   "source": []
  }
 ],
 "metadata": {
  "interpreter": {
   "hash": "c1b4cfe941b6d2466ad1fb5979e97da9cda8801728c8091b097ab734208fc00c"
  },
  "kernelspec": {
   "display_name": "Python 3.8.3 64-bit ('base': conda)",
   "name": "python3"
  },
  "language_info": {
   "codemirror_mode": {
    "name": "ipython",
    "version": 3
   },
   "file_extension": ".py",
   "mimetype": "text/x-python",
   "name": "python",
   "nbconvert_exporter": "python",
   "pygments_lexer": "ipython3",
   "version": "3.8.12"
  }
 },
 "nbformat": 4,
 "nbformat_minor": 2
}
