{
 "cells": [
  {
   "cell_type": "code",
   "execution_count": 1,
   "metadata": {
    "execution": {
     "iopub.execute_input": "2021-08-22T15:04:17.993605Z",
     "iopub.status.busy": "2021-08-22T15:04:17.992951Z",
     "iopub.status.idle": "2021-08-22T15:04:21.581617Z",
     "shell.execute_reply": "2021-08-22T15:04:21.582134Z"
    }
   },
   "outputs": [],
   "source": [
    "import json\r\n",
    "from datetime import datetime\r\n",
    "from dateutil import tz\r\n",
    "import pandas as pd\r\n",
    "import matplotlib.pyplot as plt\r\n",
    "import seaborn\r\n"
   ]
  },
  {
   "cell_type": "code",
   "execution_count": 2,
   "metadata": {
    "execution": {
     "iopub.execute_input": "2021-08-22T15:04:21.587245Z",
     "iopub.status.busy": "2021-08-22T15:04:21.586652Z",
     "iopub.status.idle": "2021-08-22T15:04:21.589842Z",
     "shell.execute_reply": "2021-08-22T15:04:21.590463Z"
    }
   },
   "outputs": [],
   "source": [
    "with open('../newest_ts', 'r') as f:\r\n",
    "    ts = f.read()\r\n",
    "\r\n",
    "data_path = f\"../data/data_{ts}.json\"\r\n",
    "with open(data_path, 'r') as f:\r\n",
    "    data = json.load(f)"
   ]
  },
  {
   "cell_type": "code",
   "execution_count": 3,
   "metadata": {
    "execution": {
     "iopub.execute_input": "2021-08-22T15:04:21.597094Z",
     "iopub.status.busy": "2021-08-22T15:04:21.595604Z",
     "iopub.status.idle": "2021-08-22T15:04:21.597727Z",
     "shell.execute_reply": "2021-08-22T15:04:21.598209Z"
    }
   },
   "outputs": [],
   "source": [
    "def ts2dt(ts, format='%Y-%m-%d %H:%M:%S'):\r\n",
    "    return (datetime.utcfromtimestamp(int(ts))\r\n",
    "                    .replace(tzinfo=tz.tzutc())\r\n",
    "                    .astimezone(tz.tzlocal())\r\n",
    "                    .strftime(format))"
   ]
  },
  {
   "cell_type": "code",
   "execution_count": 4,
   "metadata": {
    "execution": {
     "iopub.execute_input": "2021-08-22T15:04:21.605772Z",
     "iopub.status.busy": "2021-08-22T15:04:21.604747Z",
     "iopub.status.idle": "2021-08-22T15:04:21.608758Z",
     "shell.execute_reply": "2021-08-22T15:04:21.609219Z"
    }
   },
   "outputs": [
    {
     "data": {
      "text/plain": [
       "dict_keys(['lat', 'lon', 'timezone', 'timezone_offset', 'current', 'hourly', 'daily'])"
      ]
     },
     "execution_count": 4,
     "metadata": {},
     "output_type": "execute_result"
    }
   ],
   "source": [
    "data.keys()"
   ]
  },
  {
   "cell_type": "code",
   "execution_count": 5,
   "metadata": {
    "execution": {
     "iopub.execute_input": "2021-08-22T15:04:21.615810Z",
     "iopub.status.busy": "2021-08-22T15:04:21.614784Z",
     "iopub.status.idle": "2021-08-22T15:04:21.617777Z",
     "shell.execute_reply": "2021-08-22T15:04:21.618263Z"
    }
   },
   "outputs": [
    {
     "data": {
      "text/plain": [
       "{'dt': 1629644646,\n",
       " 'sunrise': 1629583360,\n",
       " 'sunset': 1629629370,\n",
       " 'temp': 29.79,\n",
       " 'feels_like': 36.79,\n",
       " 'pressure': 1008,\n",
       " 'humidity': 82,\n",
       " 'dew_point': 26.38,\n",
       " 'uvi': 0,\n",
       " 'clouds': 25,\n",
       " 'visibility': 10000,\n",
       " 'wind_speed': 3.19,\n",
       " 'wind_deg': 201,\n",
       " 'wind_gust': 4.6,\n",
       " 'weather': [{'id': 802,\n",
       "   'main': 'Clouds',\n",
       "   'description': 'scattered clouds',\n",
       "   'icon': '03n'}]}"
      ]
     },
     "execution_count": 5,
     "metadata": {},
     "output_type": "execute_result"
    }
   ],
   "source": [
    "data['current']"
   ]
  },
  {
   "cell_type": "code",
   "execution_count": 6,
   "metadata": {
    "execution": {
     "iopub.execute_input": "2021-08-22T15:04:21.626137Z",
     "iopub.status.busy": "2021-08-22T15:04:21.625117Z",
     "iopub.status.idle": "2021-08-22T15:04:21.627994Z",
     "shell.execute_reply": "2021-08-22T15:04:21.628483Z"
    }
   },
   "outputs": [
    {
     "data": {
      "text/plain": [
       "['08-22 15:00',\n",
       " '08-22 16:00',\n",
       " '08-22 17:00',\n",
       " '08-22 18:00',\n",
       " '08-22 19:00',\n",
       " '08-22 20:00',\n",
       " '08-22 21:00',\n",
       " '08-22 22:00',\n",
       " '08-22 23:00',\n",
       " '08-23 00:00',\n",
       " '08-23 01:00',\n",
       " '08-23 02:00',\n",
       " '08-23 03:00',\n",
       " '08-23 04:00',\n",
       " '08-23 05:00',\n",
       " '08-23 06:00',\n",
       " '08-23 07:00',\n",
       " '08-23 08:00',\n",
       " '08-23 09:00',\n",
       " '08-23 10:00',\n",
       " '08-23 11:00',\n",
       " '08-23 12:00',\n",
       " '08-23 13:00',\n",
       " '08-23 14:00',\n",
       " '08-23 15:00',\n",
       " '08-23 16:00',\n",
       " '08-23 17:00',\n",
       " '08-23 18:00',\n",
       " '08-23 19:00',\n",
       " '08-23 20:00',\n",
       " '08-23 21:00',\n",
       " '08-23 22:00',\n",
       " '08-23 23:00',\n",
       " '08-24 00:00',\n",
       " '08-24 01:00',\n",
       " '08-24 02:00',\n",
       " '08-24 03:00',\n",
       " '08-24 04:00',\n",
       " '08-24 05:00',\n",
       " '08-24 06:00',\n",
       " '08-24 07:00',\n",
       " '08-24 08:00',\n",
       " '08-24 09:00',\n",
       " '08-24 10:00',\n",
       " '08-24 11:00',\n",
       " '08-24 12:00',\n",
       " '08-24 13:00',\n",
       " '08-24 14:00']"
      ]
     },
     "execution_count": 6,
     "metadata": {},
     "output_type": "execute_result"
    }
   ],
   "source": [
    "[ts2dt(hrdt['dt'], format='%m-%d %H:%M') for hrdt in data['hourly']]"
   ]
  },
  {
   "cell_type": "code",
   "execution_count": 7,
   "metadata": {
    "execution": {
     "iopub.execute_input": "2021-08-22T15:04:21.633231Z",
     "iopub.status.busy": "2021-08-22T15:04:21.632650Z",
     "iopub.status.idle": "2021-08-22T15:04:21.638022Z",
     "shell.execute_reply": "2021-08-22T15:04:21.637514Z"
    }
   },
   "outputs": [
    {
     "data": {
      "text/plain": [
       "{'dt': 1629644400,\n",
       " 'temp': 29.79,\n",
       " 'feels_like': 36.79,\n",
       " 'pressure': 1008,\n",
       " 'humidity': 82,\n",
       " 'dew_point': 26.38,\n",
       " 'uvi': 0,\n",
       " 'clouds': 25,\n",
       " 'visibility': 10000,\n",
       " 'wind_speed': 3.19,\n",
       " 'wind_deg': 201,\n",
       " 'wind_gust': 4.6,\n",
       " 'weather': [{'id': 802,\n",
       "   'main': 'Clouds',\n",
       "   'description': 'scattered clouds',\n",
       "   'icon': '03n'}],\n",
       " 'pop': 0.08}"
      ]
     },
     "execution_count": 7,
     "metadata": {},
     "output_type": "execute_result"
    }
   ],
   "source": [
    "data['hourly'][0]"
   ]
  },
  {
   "cell_type": "code",
   "execution_count": 8,
   "metadata": {
    "execution": {
     "iopub.execute_input": "2021-08-22T15:04:21.647117Z",
     "iopub.status.busy": "2021-08-22T15:04:21.645663Z",
     "iopub.status.idle": "2021-08-22T15:04:21.647761Z",
     "shell.execute_reply": "2021-08-22T15:04:21.648340Z"
    }
   },
   "outputs": [],
   "source": [
    "df_hourly = pd.DataFrame(data['hourly'])\r\n",
    "df_daily = pd.DataFrame(data['daily'])"
   ]
  },
  {
   "cell_type": "code",
   "execution_count": 9,
   "metadata": {
    "execution": {
     "iopub.execute_input": "2021-08-22T15:04:21.652954Z",
     "iopub.status.busy": "2021-08-22T15:04:21.652375Z",
     "iopub.status.idle": "2021-08-22T15:04:21.671733Z",
     "shell.execute_reply": "2021-08-22T15:04:21.672247Z"
    }
   },
   "outputs": [
    {
     "data": {
      "text/html": [
       "<div>\n",
       "<style scoped>\n",
       "    .dataframe tbody tr th:only-of-type {\n",
       "        vertical-align: middle;\n",
       "    }\n",
       "\n",
       "    .dataframe tbody tr th {\n",
       "        vertical-align: top;\n",
       "    }\n",
       "\n",
       "    .dataframe thead th {\n",
       "        text-align: right;\n",
       "    }\n",
       "</style>\n",
       "<table border=\"1\" class=\"dataframe\">\n",
       "  <thead>\n",
       "    <tr style=\"text-align: right;\">\n",
       "      <th></th>\n",
       "      <th>dt</th>\n",
       "      <th>temp</th>\n",
       "      <th>feels_like</th>\n",
       "      <th>pressure</th>\n",
       "      <th>humidity</th>\n",
       "      <th>dew_point</th>\n",
       "      <th>uvi</th>\n",
       "      <th>clouds</th>\n",
       "      <th>visibility</th>\n",
       "      <th>wind_speed</th>\n",
       "      <th>wind_deg</th>\n",
       "      <th>wind_gust</th>\n",
       "      <th>weather</th>\n",
       "      <th>pop</th>\n",
       "      <th>rain</th>\n",
       "    </tr>\n",
       "  </thead>\n",
       "  <tbody>\n",
       "    <tr>\n",
       "      <th>0</th>\n",
       "      <td>1629644400</td>\n",
       "      <td>29.79</td>\n",
       "      <td>36.79</td>\n",
       "      <td>1008</td>\n",
       "      <td>82</td>\n",
       "      <td>26.38</td>\n",
       "      <td>0.0</td>\n",
       "      <td>25</td>\n",
       "      <td>10000</td>\n",
       "      <td>3.19</td>\n",
       "      <td>201</td>\n",
       "      <td>4.60</td>\n",
       "      <td>[{'id': 802, 'main': 'Clouds', 'description': ...</td>\n",
       "      <td>0.08</td>\n",
       "      <td>NaN</td>\n",
       "    </tr>\n",
       "    <tr>\n",
       "      <th>1</th>\n",
       "      <td>1629648000</td>\n",
       "      <td>29.43</td>\n",
       "      <td>36.43</td>\n",
       "      <td>1008</td>\n",
       "      <td>83</td>\n",
       "      <td>26.24</td>\n",
       "      <td>0.0</td>\n",
       "      <td>28</td>\n",
       "      <td>10000</td>\n",
       "      <td>3.97</td>\n",
       "      <td>211</td>\n",
       "      <td>5.63</td>\n",
       "      <td>[{'id': 802, 'main': 'Clouds', 'description': ...</td>\n",
       "      <td>0.00</td>\n",
       "      <td>NaN</td>\n",
       "    </tr>\n",
       "    <tr>\n",
       "      <th>2</th>\n",
       "      <td>1629651600</td>\n",
       "      <td>29.05</td>\n",
       "      <td>35.56</td>\n",
       "      <td>1008</td>\n",
       "      <td>83</td>\n",
       "      <td>25.87</td>\n",
       "      <td>0.0</td>\n",
       "      <td>35</td>\n",
       "      <td>10000</td>\n",
       "      <td>3.20</td>\n",
       "      <td>207</td>\n",
       "      <td>4.71</td>\n",
       "      <td>[{'id': 802, 'main': 'Clouds', 'description': ...</td>\n",
       "      <td>0.04</td>\n",
       "      <td>NaN</td>\n",
       "    </tr>\n",
       "    <tr>\n",
       "      <th>3</th>\n",
       "      <td>1629655200</td>\n",
       "      <td>28.58</td>\n",
       "      <td>34.38</td>\n",
       "      <td>1007</td>\n",
       "      <td>84</td>\n",
       "      <td>25.61</td>\n",
       "      <td>0.0</td>\n",
       "      <td>45</td>\n",
       "      <td>10000</td>\n",
       "      <td>3.74</td>\n",
       "      <td>205</td>\n",
       "      <td>5.23</td>\n",
       "      <td>[{'id': 500, 'main': 'Rain', 'description': 'l...</td>\n",
       "      <td>0.32</td>\n",
       "      <td>{'1h': 0.22}</td>\n",
       "    </tr>\n",
       "    <tr>\n",
       "      <th>4</th>\n",
       "      <td>1629658800</td>\n",
       "      <td>28.13</td>\n",
       "      <td>33.09</td>\n",
       "      <td>1007</td>\n",
       "      <td>84</td>\n",
       "      <td>25.17</td>\n",
       "      <td>0.0</td>\n",
       "      <td>85</td>\n",
       "      <td>10000</td>\n",
       "      <td>3.86</td>\n",
       "      <td>205</td>\n",
       "      <td>5.25</td>\n",
       "      <td>[{'id': 500, 'main': 'Rain', 'description': 'l...</td>\n",
       "      <td>0.73</td>\n",
       "      <td>{'1h': 0.41}</td>\n",
       "    </tr>\n",
       "  </tbody>\n",
       "</table>\n",
       "</div>"
      ],
      "text/plain": [
       "           dt   temp  feels_like  pressure  humidity  dew_point  uvi  clouds  \\\n",
       "0  1629644400  29.79       36.79      1008        82      26.38  0.0      25   \n",
       "1  1629648000  29.43       36.43      1008        83      26.24  0.0      28   \n",
       "2  1629651600  29.05       35.56      1008        83      25.87  0.0      35   \n",
       "3  1629655200  28.58       34.38      1007        84      25.61  0.0      45   \n",
       "4  1629658800  28.13       33.09      1007        84      25.17  0.0      85   \n",
       "\n",
       "   visibility  wind_speed  wind_deg  wind_gust  \\\n",
       "0       10000        3.19       201       4.60   \n",
       "1       10000        3.97       211       5.63   \n",
       "2       10000        3.20       207       4.71   \n",
       "3       10000        3.74       205       5.23   \n",
       "4       10000        3.86       205       5.25   \n",
       "\n",
       "                                             weather   pop          rain  \n",
       "0  [{'id': 802, 'main': 'Clouds', 'description': ...  0.08           NaN  \n",
       "1  [{'id': 802, 'main': 'Clouds', 'description': ...  0.00           NaN  \n",
       "2  [{'id': 802, 'main': 'Clouds', 'description': ...  0.04           NaN  \n",
       "3  [{'id': 500, 'main': 'Rain', 'description': 'l...  0.32  {'1h': 0.22}  \n",
       "4  [{'id': 500, 'main': 'Rain', 'description': 'l...  0.73  {'1h': 0.41}  "
      ]
     },
     "execution_count": 9,
     "metadata": {},
     "output_type": "execute_result"
    }
   ],
   "source": [
    "df_hourly.head()"
   ]
  },
  {
   "cell_type": "code",
   "execution_count": null,
   "metadata": {},
   "outputs": [],
   "source": []
  }
 ],
 "metadata": {
  "interpreter": {
   "hash": "c1b4cfe941b6d2466ad1fb5979e97da9cda8801728c8091b097ab734208fc00c"
  },
  "kernelspec": {
   "display_name": "Python 3.8.3 64-bit ('base': conda)",
   "name": "python3"
  },
  "language_info": {
   "codemirror_mode": {
    "name": "ipython",
    "version": 3
   },
   "file_extension": ".py",
   "mimetype": "text/x-python",
   "name": "python",
   "nbconvert_exporter": "python",
   "pygments_lexer": "ipython3",
   "version": "3.8.11"
  }
 },
 "nbformat": 4,
 "nbformat_minor": 2
}
