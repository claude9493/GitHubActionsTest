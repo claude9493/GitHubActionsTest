{
 "cells": [
  {
   "cell_type": "code",
   "execution_count": 1,
   "metadata": {
    "execution": {
     "iopub.execute_input": "2021-10-07T18:13:13.507753Z",
     "iopub.status.busy": "2021-10-07T18:13:13.507205Z",
     "iopub.status.idle": "2021-10-07T18:13:16.979403Z",
     "shell.execute_reply": "2021-10-07T18:13:16.978803Z"
    }
   },
   "outputs": [],
   "source": [
    "import json, yaml, requests\r\n",
    "from datetime import datetime\r\n",
    "from dateutil import tz\r\n",
    "import pandas as pd\r\n",
    "from PIL import Image\r\n",
    "from io import BytesIO\r\n",
    "import matplotlib.pyplot as plt\r\n",
    "import seaborn\r\n",
    "\r\n",
    "CONFIG_PATH = \"../config/config.yaml\""
   ]
  },
  {
   "cell_type": "code",
   "execution_count": 2,
   "metadata": {
    "execution": {
     "iopub.execute_input": "2021-10-07T18:13:16.984608Z",
     "iopub.status.busy": "2021-10-07T18:13:16.984062Z",
     "iopub.status.idle": "2021-10-07T18:13:16.988947Z",
     "shell.execute_reply": "2021-10-07T18:13:16.988312Z"
    }
   },
   "outputs": [],
   "source": [
    "with open('../newest_ts', 'r') as f:\r\n",
    "    newest_ts = f.read()\r\n",
    "\r\n",
    "data_path = f\"../data/data_{newest_ts}.json\"\r\n",
    "with open(data_path, 'r') as f:\r\n",
    "    data = json.load(f)\r\n",
    "\r\n",
    "with open(CONFIG_PATH, \"r\") as stream:\r\n",
    "    config = yaml.safe_load(stream)\r\n",
    "\r\n",
    "TIME_ZONE = config['time_zone']\r\n",
    "DATETIME_FORMAT = config['dt_format']"
   ]
  },
  {
   "cell_type": "code",
   "execution_count": 3,
   "metadata": {
    "execution": {
     "iopub.execute_input": "2021-10-07T18:13:16.993128Z",
     "iopub.status.busy": "2021-10-07T18:13:16.992666Z",
     "iopub.status.idle": "2021-10-07T18:13:17.054181Z",
     "shell.execute_reply": "2021-10-07T18:13:17.054609Z"
    }
   },
   "outputs": [
    {
     "name": "stdout",
     "output_type": "stream",
     "text": [
      "Recent query happens at 2021-10-08 02:13:10 (CST).\n"
     ]
    }
   ],
   "source": [
    "def ts2dt(ts, format=DATETIME_FORMAT):\r\n",
    "    dt = (datetime.utcfromtimestamp(int(ts))\r\n",
    "                    .replace(tzinfo=tz.tzutc())\r\n",
    "                    # .astimezone(tz.tzlocal())\r\n",
    "                    .astimezone(tz.gettz(TIME_ZONE)))\r\n",
    "    return dt.strftime(format), dt\r\n",
    "\r\n",
    "_, newest_dt = ts2dt(newest_ts)\r\n",
    "print(f\"Recent query happens at {newest_dt.strftime(DATETIME_FORMAT)} ({newest_dt.tzname()}).\")"
   ]
  },
  {
   "cell_type": "code",
   "execution_count": 4,
   "metadata": {
    "execution": {
     "iopub.execute_input": "2021-10-07T18:13:17.059963Z",
     "iopub.status.busy": "2021-10-07T18:13:17.058926Z",
     "iopub.status.idle": "2021-10-07T18:13:17.060501Z",
     "shell.execute_reply": "2021-10-07T18:13:17.060884Z"
    }
   },
   "outputs": [],
   "source": [
    "def degrees_to_cardinal(d):\r\n",
    "  dirs = ['N', 'NNE', 'NE', 'ENE', 'E', 'ESE', 'SE', 'SSE', 'S', 'SSW', 'SW', 'WSW', 'W', 'WNW', 'NW', 'NNW']\r\n",
    "  ix = int(round(d / (360. / len(dirs))))\r\n",
    "  return dirs[ix % len(dirs)]"
   ]
  },
  {
   "cell_type": "code",
   "execution_count": 5,
   "metadata": {
    "execution": {
     "iopub.execute_input": "2021-10-07T18:13:17.064781Z",
     "iopub.status.busy": "2021-10-07T18:13:17.063680Z",
     "iopub.status.idle": "2021-10-07T18:13:17.065306Z",
     "shell.execute_reply": "2021-10-07T18:13:17.065666Z"
    }
   },
   "outputs": [],
   "source": [
    "# data.keys()"
   ]
  },
  {
   "cell_type": "code",
   "execution_count": 6,
   "metadata": {
    "execution": {
     "iopub.execute_input": "2021-10-07T18:13:17.069480Z",
     "iopub.status.busy": "2021-10-07T18:13:17.068395Z",
     "iopub.status.idle": "2021-10-07T18:13:17.070092Z",
     "shell.execute_reply": "2021-10-07T18:13:17.070463Z"
    }
   },
   "outputs": [],
   "source": [
    "# data['current']"
   ]
  },
  {
   "cell_type": "code",
   "execution_count": 7,
   "metadata": {
    "execution": {
     "iopub.execute_input": "2021-10-07T18:13:17.086875Z",
     "iopub.status.busy": "2021-10-07T18:13:17.086410Z",
     "iopub.status.idle": "2021-10-07T18:13:17.380999Z",
     "shell.execute_reply": "2021-10-07T18:13:17.381655Z"
    }
   },
   "outputs": [
    {
     "data": {
      "image/png": "[encoded data removed]",
      "text/plain": [
       "<Figure size 216x216 with 1 Axes>"
      ]
     },
     "metadata": {
      "needs_background": "light"
     },
     "output_type": "display_data"
    },
    {
     "name": "stdout",
     "output_type": "stream",
     "text": [
      "Today, sun rises at 06:16 and sets at 18:04.\n",
      "Currently, the weather is Rain (moderate rain).\n",
      "The temperature is 25.62°C and it feels like 26.64°C.\n",
      "The UV index is 0, humidity is 92%.\n",
      "The pressure is 1010 hPa, percentage of cloud cover is 100%\n",
      "The wind comes from WSW direction with a speed 1.79 m/s.\n"
     ]
    }
   ],
   "source": [
    "current = data['current']\r\n",
    "\r\n",
    "fig, ax = plt.subplots(figsize=(3, 3))\r\n",
    "icon = requests.get(f\"http://openweathermap.org/img/wn/{current['weather'][0]['icon']}@2x.png\")\r\n",
    "im = Image.open(BytesIO(icon.content))\r\n",
    "plt.imshow(im)\r\n",
    "ax.set_axis_off()\r\n",
    "plt.show()\r\n",
    "\r\n",
    "print(f\"Today, sun rises at {ts2dt(current['sunrise'], '%H:%M')[0]} \\\r\n",
    "and sets at {ts2dt(current['sunset'], '%H:%M')[0]}.\\n\\\r\n",
    "Currently, the weather is {current['weather'][0]['main']} ({current['weather'][0]['description']}).\\n\\\r\n",
    "The temperature is {current['temp']}°C and it feels like {current['feels_like']}°C.\\n\\\r\n",
    "The UV index is {current['uvi']}, humidity is {current['humidity']}%.\\n\\\r\n",
    "The pressure is {current['pressure']} hPa, percentage of cloud cover is {current['clouds']}%\\n\\\r\n",
    "The wind comes from {degrees_to_cardinal(current['wind_deg'])} direction with a speed {current['wind_speed']} m/s.\")"
   ]
  },
  {
   "cell_type": "code",
   "execution_count": 8,
   "metadata": {
    "execution": {
     "iopub.execute_input": "2021-10-07T18:13:17.384778Z",
     "iopub.status.busy": "2021-10-07T18:13:17.383842Z",
     "iopub.status.idle": "2021-10-07T18:13:17.390525Z",
     "shell.execute_reply": "2021-10-07T18:13:17.391167Z"
    }
   },
   "outputs": [],
   "source": [
    "df_hourly = pd.DataFrame(data['hourly'])\r\n",
    "df_daily = pd.DataFrame(data['daily'])"
   ]
  },
  {
   "cell_type": "code",
   "execution_count": 9,
   "metadata": {
    "execution": {
     "iopub.execute_input": "2021-10-07T18:13:17.394129Z",
     "iopub.status.busy": "2021-10-07T18:13:17.393212Z",
     "iopub.status.idle": "2021-10-07T18:13:17.638442Z",
     "shell.execute_reply": "2021-10-07T18:13:17.637961Z"
    }
   },
   "outputs": [
    {
     "data": {
      "image/png": "[encoded data removed]",
      "text/plain": [
       "<Figure size 864x432 with 1 Axes>"
      ]
     },
     "metadata": {
      "needs_background": "light"
     },
     "output_type": "display_data"
    }
   ],
   "source": [
    "fig, ax = plt.subplots(figsize=(12, 6))\r\n",
    "plt.plot(df_hourly.temp, '.-', label='Temperature')\r\n",
    "plt.plot(df_hourly.feels_like, '.-', label='Feels Like')\r\n",
    "ax.set(title='Temperature in future 48 hours', xlabel='Time', ylabel='Temperature')\r\n",
    "ax.set_xticks(list(range(0, len(df_hourly), 2)))\r\n",
    "ax.set_xticklabels([ts2dt(ts, '%m-%d %H:%M')[0] for i, ts in enumerate(df_hourly.dt) if i%2==0], \r\n",
    "                   rotation=45, ha=\"right\")\r\n",
    "ax.locator_params(nbins=15, axis='y')\r\n",
    "plt.legend()\r\n",
    "plt.show()"
   ]
  },
  {
   "cell_type": "code",
   "execution_count": 10,
   "metadata": {
    "execution": {
     "iopub.execute_input": "2021-10-07T18:13:17.649374Z",
     "iopub.status.busy": "2021-10-07T18:13:17.642066Z",
     "iopub.status.idle": "2021-10-07T18:13:17.660415Z",
     "shell.execute_reply": "2021-10-07T18:13:17.660770Z"
    }
   },
   "outputs": [
    {
     "data": {
      "text/html": [
       "<div>\n",
       "<style scoped>\n",
       "    .dataframe tbody tr th:only-of-type {\n",
       "        vertical-align: middle;\n",
       "    }\n",
       "\n",
       "    .dataframe tbody tr th {\n",
       "        vertical-align: top;\n",
       "    }\n",
       "\n",
       "    .dataframe thead th {\n",
       "        text-align: right;\n",
       "    }\n",
       "</style>\n",
       "<table border=\"1\" class=\"dataframe\">\n",
       "  <thead>\n",
       "    <tr style=\"text-align: right;\">\n",
       "      <th></th>\n",
       "      <th>dt</th>\n",
       "      <th>temp</th>\n",
       "      <th>feels_like</th>\n",
       "      <th>pressure</th>\n",
       "      <th>humidity</th>\n",
       "      <th>dew_point</th>\n",
       "      <th>uvi</th>\n",
       "      <th>clouds</th>\n",
       "      <th>visibility</th>\n",
       "      <th>wind_speed</th>\n",
       "      <th>wind_deg</th>\n",
       "      <th>wind_gust</th>\n",
       "      <th>weather</th>\n",
       "      <th>pop</th>\n",
       "      <th>rain</th>\n",
       "    </tr>\n",
       "  </thead>\n",
       "  <tbody>\n",
       "    <tr>\n",
       "      <th>0</th>\n",
       "      <td>1633629600</td>\n",
       "      <td>25.62</td>\n",
       "      <td>26.64</td>\n",
       "      <td>1010</td>\n",
       "      <td>92</td>\n",
       "      <td>24.22</td>\n",
       "      <td>0.0</td>\n",
       "      <td>100</td>\n",
       "      <td>6082</td>\n",
       "      <td>9.72</td>\n",
       "      <td>76</td>\n",
       "      <td>13.35</td>\n",
       "      <td>[{'id': 501, 'main': 'Rain', 'description': 'm...</td>\n",
       "      <td>0.81</td>\n",
       "      <td>{'1h': 1.36}</td>\n",
       "    </tr>\n",
       "    <tr>\n",
       "      <th>1</th>\n",
       "      <td>1633633200</td>\n",
       "      <td>25.69</td>\n",
       "      <td>26.69</td>\n",
       "      <td>1009</td>\n",
       "      <td>91</td>\n",
       "      <td>24.11</td>\n",
       "      <td>0.0</td>\n",
       "      <td>100</td>\n",
       "      <td>5479</td>\n",
       "      <td>9.50</td>\n",
       "      <td>70</td>\n",
       "      <td>13.10</td>\n",
       "      <td>[{'id': 502, 'main': 'Rain', 'description': 'h...</td>\n",
       "      <td>0.81</td>\n",
       "      <td>{'1h': 9.99}</td>\n",
       "    </tr>\n",
       "    <tr>\n",
       "      <th>2</th>\n",
       "      <td>1633636800</td>\n",
       "      <td>25.67</td>\n",
       "      <td>26.67</td>\n",
       "      <td>1008</td>\n",
       "      <td>91</td>\n",
       "      <td>24.09</td>\n",
       "      <td>0.0</td>\n",
       "      <td>100</td>\n",
       "      <td>5745</td>\n",
       "      <td>9.31</td>\n",
       "      <td>65</td>\n",
       "      <td>12.86</td>\n",
       "      <td>[{'id': 501, 'main': 'Rain', 'description': 'm...</td>\n",
       "      <td>0.93</td>\n",
       "      <td>{'1h': 1.78}</td>\n",
       "    </tr>\n",
       "    <tr>\n",
       "      <th>3</th>\n",
       "      <td>1633640400</td>\n",
       "      <td>25.69</td>\n",
       "      <td>26.72</td>\n",
       "      <td>1006</td>\n",
       "      <td>92</td>\n",
       "      <td>24.29</td>\n",
       "      <td>0.0</td>\n",
       "      <td>100</td>\n",
       "      <td>4864</td>\n",
       "      <td>10.16</td>\n",
       "      <td>105</td>\n",
       "      <td>14.29</td>\n",
       "      <td>[{'id': 502, 'main': 'Rain', 'description': 'h...</td>\n",
       "      <td>0.99</td>\n",
       "      <td>{'1h': 5.06}</td>\n",
       "    </tr>\n",
       "    <tr>\n",
       "      <th>4</th>\n",
       "      <td>1633644000</td>\n",
       "      <td>25.37</td>\n",
       "      <td>26.44</td>\n",
       "      <td>1004</td>\n",
       "      <td>95</td>\n",
       "      <td>24.51</td>\n",
       "      <td>0.0</td>\n",
       "      <td>100</td>\n",
       "      <td>1378</td>\n",
       "      <td>10.14</td>\n",
       "      <td>95</td>\n",
       "      <td>13.88</td>\n",
       "      <td>[{'id': 502, 'main': 'Rain', 'description': 'h...</td>\n",
       "      <td>1.00</td>\n",
       "      <td>{'1h': 11.36}</td>\n",
       "    </tr>\n",
       "  </tbody>\n",
       "</table>\n",
       "</div>"
      ],
      "text/plain": [
       "           dt   temp  feels_like  pressure  humidity  dew_point  uvi  clouds  \\\n",
       "0  1633629600  25.62       26.64      1010        92      24.22  0.0     100   \n",
       "1  1633633200  25.69       26.69      1009        91      24.11  0.0     100   \n",
       "2  1633636800  25.67       26.67      1008        91      24.09  0.0     100   \n",
       "3  1633640400  25.69       26.72      1006        92      24.29  0.0     100   \n",
       "4  1633644000  25.37       26.44      1004        95      24.51  0.0     100   \n",
       "\n",
       "   visibility  wind_speed  wind_deg  wind_gust  \\\n",
       "0        6082        9.72        76      13.35   \n",
       "1        5479        9.50        70      13.10   \n",
       "2        5745        9.31        65      12.86   \n",
       "3        4864       10.16       105      14.29   \n",
       "4        1378       10.14        95      13.88   \n",
       "\n",
       "                                             weather   pop           rain  \n",
       "0  [{'id': 501, 'main': 'Rain', 'description': 'm...  0.81   {'1h': 1.36}  \n",
       "1  [{'id': 502, 'main': 'Rain', 'description': 'h...  0.81   {'1h': 9.99}  \n",
       "2  [{'id': 501, 'main': 'Rain', 'description': 'm...  0.93   {'1h': 1.78}  \n",
       "3  [{'id': 502, 'main': 'Rain', 'description': 'h...  0.99   {'1h': 5.06}  \n",
       "4  [{'id': 502, 'main': 'Rain', 'description': 'h...  1.00  {'1h': 11.36}  "
      ]
     },
     "execution_count": 10,
     "metadata": {},
     "output_type": "execute_result"
    }
   ],
   "source": [
    "df_hourly.head()"
   ]
  },
  {
   "cell_type": "code",
   "execution_count": null,
   "metadata": {},
   "outputs": [],
   "source": []
  }
 ],
 "metadata": {
  "interpreter": {
   "hash": "c1b4cfe941b6d2466ad1fb5979e97da9cda8801728c8091b097ab734208fc00c"
  },
  "kernelspec": {
   "display_name": "Python 3.8.3 64-bit ('base': conda)",
   "name": "python3"
  },
  "language_info": {
   "codemirror_mode": {
    "name": "ipython",
    "version": 3
   },
   "file_extension": ".py",
   "mimetype": "text/x-python",
   "name": "python",
   "nbconvert_exporter": "python",
   "pygments_lexer": "ipython3",
   "version": "3.8.12"
  }
 },
 "nbformat": 4,
 "nbformat_minor": 2
}
