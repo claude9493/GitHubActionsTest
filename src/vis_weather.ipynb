{
 "cells": [
  {
   "cell_type": "code",
   "execution_count": 1,
   "metadata": {
    "execution": {
     "iopub.execute_input": "2021-10-18T04:15:12.794136Z",
     "iopub.status.busy": "2021-10-18T04:15:12.793295Z",
     "iopub.status.idle": "2021-10-18T04:15:14.233827Z",
     "shell.execute_reply": "2021-10-18T04:15:14.232420Z"
    }
   },
   "outputs": [],
   "source": [
    "import json, yaml, requests\r\n",
    "from datetime import datetime\r\n",
    "from dateutil import tz\r\n",
    "import pandas as pd\r\n",
    "from PIL import Image\r\n",
    "from io import BytesIO\r\n",
    "import matplotlib.pyplot as plt\r\n",
    "import seaborn\r\n",
    "\r\n",
    "CONFIG_PATH = \"../config/config.yaml\""
   ]
  },
  {
   "cell_type": "code",
   "execution_count": 2,
   "metadata": {
    "execution": {
     "iopub.execute_input": "2021-10-18T04:15:14.239834Z",
     "iopub.status.busy": "2021-10-18T04:15:14.239222Z",
     "iopub.status.idle": "2021-10-18T04:15:14.244584Z",
     "shell.execute_reply": "2021-10-18T04:15:14.245171Z"
    }
   },
   "outputs": [],
   "source": [
    "with open('../newest_ts', 'r') as f:\r\n",
    "    newest_ts = f.read()\r\n",
    "\r\n",
    "data_path = f\"../data/data_{newest_ts}.json\"\r\n",
    "with open(data_path, 'r') as f:\r\n",
    "    data = json.load(f)\r\n",
    "\r\n",
    "with open(CONFIG_PATH, \"r\") as stream:\r\n",
    "    config = yaml.safe_load(stream)\r\n",
    "\r\n",
    "TIME_ZONE = config['time_zone']\r\n",
    "DATETIME_FORMAT = config['dt_format']"
   ]
  },
  {
   "cell_type": "code",
   "execution_count": 3,
   "metadata": {
    "execution": {
     "iopub.execute_input": "2021-10-18T04:15:14.251298Z",
     "iopub.status.busy": "2021-10-18T04:15:14.250627Z",
     "iopub.status.idle": "2021-10-18T04:15:14.257325Z",
     "shell.execute_reply": "2021-10-18T04:15:14.257780Z"
    }
   },
   "outputs": [
    {
     "name": "stdout",
     "output_type": "stream",
     "text": [
      "Recent query happens at 2021-10-18 12:15:09 (CST).\n"
     ]
    }
   ],
   "source": [
    "def ts2dt(ts, format=DATETIME_FORMAT):\r\n",
    "    dt = (datetime.utcfromtimestamp(int(ts))\r\n",
    "                    .replace(tzinfo=tz.tzutc())\r\n",
    "                    # .astimezone(tz.tzlocal())\r\n",
    "                    .astimezone(tz.gettz(TIME_ZONE)))\r\n",
    "    return dt.strftime(format), dt\r\n",
    "\r\n",
    "_, newest_dt = ts2dt(newest_ts)\r\n",
    "print(f\"Recent query happens at {newest_dt.strftime(DATETIME_FORMAT)} ({newest_dt.tzname()}).\")"
   ]
  },
  {
   "cell_type": "code",
   "execution_count": 4,
   "metadata": {
    "execution": {
     "iopub.execute_input": "2021-10-18T04:15:14.263678Z",
     "iopub.status.busy": "2021-10-18T04:15:14.261884Z",
     "iopub.status.idle": "2021-10-18T04:15:14.264449Z",
     "shell.execute_reply": "2021-10-18T04:15:14.265025Z"
    }
   },
   "outputs": [],
   "source": [
    "def degrees_to_cardinal(d):\r\n",
    "  dirs = ['N', 'NNE', 'NE', 'ENE', 'E', 'ESE', 'SE', 'SSE', 'S', 'SSW', 'SW', 'WSW', 'W', 'WNW', 'NW', 'NNW']\r\n",
    "  ix = int(round(d / (360. / len(dirs))))\r\n",
    "  return dirs[ix % len(dirs)]"
   ]
  },
  {
   "cell_type": "code",
   "execution_count": 5,
   "metadata": {
    "execution": {
     "iopub.execute_input": "2021-10-18T04:15:14.268795Z",
     "iopub.status.busy": "2021-10-18T04:15:14.267341Z",
     "iopub.status.idle": "2021-10-18T04:15:14.270991Z",
     "shell.execute_reply": "2021-10-18T04:15:14.270467Z"
    }
   },
   "outputs": [],
   "source": [
    "# data.keys()"
   ]
  },
  {
   "cell_type": "code",
   "execution_count": 6,
   "metadata": {
    "execution": {
     "iopub.execute_input": "2021-10-18T04:15:14.275706Z",
     "iopub.status.busy": "2021-10-18T04:15:14.274282Z",
     "iopub.status.idle": "2021-10-18T04:15:14.276277Z",
     "shell.execute_reply": "2021-10-18T04:15:14.276704Z"
    }
   },
   "outputs": [],
   "source": [
    "# data['current']"
   ]
  },
  {
   "cell_type": "code",
   "execution_count": 7,
   "metadata": {
    "execution": {
     "iopub.execute_input": "2021-10-18T04:15:14.298170Z",
     "iopub.status.busy": "2021-10-18T04:15:14.297623Z",
     "iopub.status.idle": "2021-10-18T04:15:14.769110Z",
     "shell.execute_reply": "2021-10-18T04:15:14.769966Z"
    }
   },
   "outputs": [
    {
     "data": {
      "image/png": "[encoded data removed]",
      "text/plain": [
       "<Figure size 216x216 with 1 Axes>"
      ]
     },
     "metadata": {
      "needs_background": "light"
     },
     "output_type": "display_data"
    },
    {
     "name": "stdout",
     "output_type": "stream",
     "text": [
      "Today, sun rises at 06:20 and sets at 17:55.\n",
      "Currently, the weather is Clouds (broken clouds).\n",
      "The temperature is 24.47°C and it feels like 24.75°C.\n",
      "The UV index is 8.49, humidity is 68%.\n",
      "The pressure is 1018 hPa, percentage of cloud cover is 73%\n",
      "The wind comes from WSW direction with a speed 0.45 m/s.\n"
     ]
    }
   ],
   "source": [
    "current = data['current']\r\n",
    "\r\n",
    "fig, ax = plt.subplots(figsize=(3, 3))\r\n",
    "icon = requests.get(f\"http://openweathermap.org/img/wn/{current['weather'][0]['icon']}@2x.png\")\r\n",
    "im = Image.open(BytesIO(icon.content))\r\n",
    "plt.imshow(im)\r\n",
    "ax.set_axis_off()\r\n",
    "plt.show()\r\n",
    "\r\n",
    "print(f\"Today, sun rises at {ts2dt(current['sunrise'], '%H:%M')[0]} \\\r\n",
    "and sets at {ts2dt(current['sunset'], '%H:%M')[0]}.\\n\\\r\n",
    "Currently, the weather is {current['weather'][0]['main']} ({current['weather'][0]['description']}).\\n\\\r\n",
    "The temperature is {current['temp']}°C and it feels like {current['feels_like']}°C.\\n\\\r\n",
    "The UV index is {current['uvi']}, humidity is {current['humidity']}%.\\n\\\r\n",
    "The pressure is {current['pressure']} hPa, percentage of cloud cover is {current['clouds']}%\\n\\\r\n",
    "The wind comes from {degrees_to_cardinal(current['wind_deg'])} direction with a speed {current['wind_speed']} m/s.\")"
   ]
  },
  {
   "cell_type": "code",
   "execution_count": 8,
   "metadata": {
    "execution": {
     "iopub.execute_input": "2021-10-18T04:15:14.773670Z",
     "iopub.status.busy": "2021-10-18T04:15:14.772640Z",
     "iopub.status.idle": "2021-10-18T04:15:14.780568Z",
     "shell.execute_reply": "2021-10-18T04:15:14.781324Z"
    }
   },
   "outputs": [],
   "source": [
    "df_hourly = pd.DataFrame(data['hourly'])\r\n",
    "df_daily = pd.DataFrame(data['daily'])"
   ]
  },
  {
   "cell_type": "code",
   "execution_count": 9,
   "metadata": {
    "execution": {
     "iopub.execute_input": "2021-10-18T04:15:14.785127Z",
     "iopub.status.busy": "2021-10-18T04:15:14.783850Z",
     "iopub.status.idle": "2021-10-18T04:15:15.141833Z",
     "shell.execute_reply": "2021-10-18T04:15:15.141276Z"
    }
   },
   "outputs": [
    {
     "data": {
      "image/png": "[encoded data removed]",
      "text/plain": [
       "<Figure size 864x432 with 1 Axes>"
      ]
     },
     "metadata": {
      "needs_background": "light"
     },
     "output_type": "display_data"
    }
   ],
   "source": [
    "fig, ax = plt.subplots(figsize=(12, 6))\r\n",
    "plt.plot(df_hourly.temp, '.-', label='Temperature')\r\n",
    "plt.plot(df_hourly.feels_like, '.-', label='Feels Like')\r\n",
    "ax.set(title='Temperature in future 48 hours', xlabel='Time', ylabel='Temperature')\r\n",
    "ax.set_xticks(list(range(0, len(df_hourly), 2)))\r\n",
    "ax.set_xticklabels([ts2dt(ts, '%m-%d %H:%M')[0] for i, ts in enumerate(df_hourly.dt) if i%2==0], \r\n",
    "                   rotation=45, ha=\"right\")\r\n",
    "ax.locator_params(nbins=15, axis='y')\r\n",
    "plt.legend()\r\n",
    "plt.show()"
   ]
  },
  {
   "cell_type": "code",
   "execution_count": 10,
   "metadata": {
    "execution": {
     "iopub.execute_input": "2021-10-18T04:15:15.147337Z",
     "iopub.status.busy": "2021-10-18T04:15:15.146698Z",
     "iopub.status.idle": "2021-10-18T04:15:15.168432Z",
     "shell.execute_reply": "2021-10-18T04:15:15.168908Z"
    }
   },
   "outputs": [
    {
     "data": {
      "text/html": [
       "<div>\n",
       "<style scoped>\n",
       "    .dataframe tbody tr th:only-of-type {\n",
       "        vertical-align: middle;\n",
       "    }\n",
       "\n",
       "    .dataframe tbody tr th {\n",
       "        vertical-align: top;\n",
       "    }\n",
       "\n",
       "    .dataframe thead th {\n",
       "        text-align: right;\n",
       "    }\n",
       "</style>\n",
       "<table border=\"1\" class=\"dataframe\">\n",
       "  <thead>\n",
       "    <tr style=\"text-align: right;\">\n",
       "      <th></th>\n",
       "      <th>dt</th>\n",
       "      <th>temp</th>\n",
       "      <th>feels_like</th>\n",
       "      <th>pressure</th>\n",
       "      <th>humidity</th>\n",
       "      <th>dew_point</th>\n",
       "      <th>uvi</th>\n",
       "      <th>clouds</th>\n",
       "      <th>visibility</th>\n",
       "      <th>wind_speed</th>\n",
       "      <th>wind_deg</th>\n",
       "      <th>wind_gust</th>\n",
       "      <th>weather</th>\n",
       "      <th>pop</th>\n",
       "      <th>rain</th>\n",
       "    </tr>\n",
       "  </thead>\n",
       "  <tbody>\n",
       "    <tr>\n",
       "      <th>0</th>\n",
       "      <td>1634529600</td>\n",
       "      <td>24.47</td>\n",
       "      <td>24.75</td>\n",
       "      <td>1018</td>\n",
       "      <td>68</td>\n",
       "      <td>18.18</td>\n",
       "      <td>8.49</td>\n",
       "      <td>73</td>\n",
       "      <td>10000</td>\n",
       "      <td>2.26</td>\n",
       "      <td>60</td>\n",
       "      <td>2.88</td>\n",
       "      <td>[{'id': 803, 'main': 'Clouds', 'description': ...</td>\n",
       "      <td>0.0</td>\n",
       "      <td>NaN</td>\n",
       "    </tr>\n",
       "    <tr>\n",
       "      <th>1</th>\n",
       "      <td>1634533200</td>\n",
       "      <td>24.37</td>\n",
       "      <td>24.61</td>\n",
       "      <td>1018</td>\n",
       "      <td>67</td>\n",
       "      <td>17.85</td>\n",
       "      <td>8.33</td>\n",
       "      <td>71</td>\n",
       "      <td>10000</td>\n",
       "      <td>2.45</td>\n",
       "      <td>73</td>\n",
       "      <td>2.78</td>\n",
       "      <td>[{'id': 803, 'main': 'Clouds', 'description': ...</td>\n",
       "      <td>0.0</td>\n",
       "      <td>NaN</td>\n",
       "    </tr>\n",
       "    <tr>\n",
       "      <th>2</th>\n",
       "      <td>1634536800</td>\n",
       "      <td>24.29</td>\n",
       "      <td>24.50</td>\n",
       "      <td>1018</td>\n",
       "      <td>66</td>\n",
       "      <td>17.54</td>\n",
       "      <td>6.71</td>\n",
       "      <td>65</td>\n",
       "      <td>10000</td>\n",
       "      <td>2.99</td>\n",
       "      <td>84</td>\n",
       "      <td>3.05</td>\n",
       "      <td>[{'id': 803, 'main': 'Clouds', 'description': ...</td>\n",
       "      <td>0.0</td>\n",
       "      <td>NaN</td>\n",
       "    </tr>\n",
       "    <tr>\n",
       "      <th>3</th>\n",
       "      <td>1634540400</td>\n",
       "      <td>24.24</td>\n",
       "      <td>24.44</td>\n",
       "      <td>1017</td>\n",
       "      <td>66</td>\n",
       "      <td>17.49</td>\n",
       "      <td>4.29</td>\n",
       "      <td>43</td>\n",
       "      <td>10000</td>\n",
       "      <td>3.50</td>\n",
       "      <td>90</td>\n",
       "      <td>3.50</td>\n",
       "      <td>[{'id': 802, 'main': 'Clouds', 'description': ...</td>\n",
       "      <td>0.0</td>\n",
       "      <td>NaN</td>\n",
       "    </tr>\n",
       "    <tr>\n",
       "      <th>4</th>\n",
       "      <td>1634544000</td>\n",
       "      <td>24.16</td>\n",
       "      <td>24.38</td>\n",
       "      <td>1016</td>\n",
       "      <td>67</td>\n",
       "      <td>17.65</td>\n",
       "      <td>2.00</td>\n",
       "      <td>27</td>\n",
       "      <td>10000</td>\n",
       "      <td>3.97</td>\n",
       "      <td>89</td>\n",
       "      <td>3.93</td>\n",
       "      <td>[{'id': 802, 'main': 'Clouds', 'description': ...</td>\n",
       "      <td>0.0</td>\n",
       "      <td>NaN</td>\n",
       "    </tr>\n",
       "  </tbody>\n",
       "</table>\n",
       "</div>"
      ],
      "text/plain": [
       "           dt   temp  feels_like  pressure  humidity  dew_point   uvi  clouds  \\\n",
       "0  1634529600  24.47       24.75      1018        68      18.18  8.49      73   \n",
       "1  1634533200  24.37       24.61      1018        67      17.85  8.33      71   \n",
       "2  1634536800  24.29       24.50      1018        66      17.54  6.71      65   \n",
       "3  1634540400  24.24       24.44      1017        66      17.49  4.29      43   \n",
       "4  1634544000  24.16       24.38      1016        67      17.65  2.00      27   \n",
       "\n",
       "   visibility  wind_speed  wind_deg  wind_gust  \\\n",
       "0       10000        2.26        60       2.88   \n",
       "1       10000        2.45        73       2.78   \n",
       "2       10000        2.99        84       3.05   \n",
       "3       10000        3.50        90       3.50   \n",
       "4       10000        3.97        89       3.93   \n",
       "\n",
       "                                             weather  pop rain  \n",
       "0  [{'id': 803, 'main': 'Clouds', 'description': ...  0.0  NaN  \n",
       "1  [{'id': 803, 'main': 'Clouds', 'description': ...  0.0  NaN  \n",
       "2  [{'id': 803, 'main': 'Clouds', 'description': ...  0.0  NaN  \n",
       "3  [{'id': 802, 'main': 'Clouds', 'description': ...  0.0  NaN  \n",
       "4  [{'id': 802, 'main': 'Clouds', 'description': ...  0.0  NaN  "
      ]
     },
     "execution_count": 10,
     "metadata": {},
     "output_type": "execute_result"
    }
   ],
   "source": [
    "df_hourly.head()"
   ]
  },
  {
   "cell_type": "code",
   "execution_count": null,
   "metadata": {},
   "outputs": [],
   "source": []
  }
 ],
 "metadata": {
  "interpreter": {
   "hash": "c1b4cfe941b6d2466ad1fb5979e97da9cda8801728c8091b097ab734208fc00c"
  },
  "kernelspec": {
   "display_name": "Python 3.8.3 64-bit ('base': conda)",
   "name": "python3"
  },
  "language_info": {
   "codemirror_mode": {
    "name": "ipython",
    "version": 3
   },
   "file_extension": ".py",
   "mimetype": "text/x-python",
   "name": "python",
   "nbconvert_exporter": "python",
   "pygments_lexer": "ipython3",
   "version": "3.8.12"
  }
 },
 "nbformat": 4,
 "nbformat_minor": 2
}
