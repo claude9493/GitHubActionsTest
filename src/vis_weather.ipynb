{
 "cells": [
  {
   "cell_type": "code",
   "execution_count": 1,
   "metadata": {
    "execution": {
     "iopub.execute_input": "2021-09-17T03:12:16.777693Z",
     "iopub.status.busy": "2021-09-17T03:12:16.776996Z",
     "iopub.status.idle": "2021-09-17T03:12:18.542754Z",
     "shell.execute_reply": "2021-09-17T03:12:18.543221Z"
    }
   },
   "outputs": [],
   "source": [
    "import json, yaml, requests\r\n",
    "from datetime import datetime\r\n",
    "from dateutil import tz\r\n",
    "import pandas as pd\r\n",
    "from PIL import Image\r\n",
    "from io import BytesIO\r\n",
    "import matplotlib.pyplot as plt\r\n",
    "import seaborn\r\n",
    "\r\n",
    "CONFIG_PATH = \"../config/config.yaml\""
   ]
  },
  {
   "cell_type": "code",
   "execution_count": 2,
   "metadata": {
    "execution": {
     "iopub.execute_input": "2021-09-17T03:12:18.549391Z",
     "iopub.status.busy": "2021-09-17T03:12:18.548681Z",
     "iopub.status.idle": "2021-09-17T03:12:18.554287Z",
     "shell.execute_reply": "2021-09-17T03:12:18.554934Z"
    }
   },
   "outputs": [],
   "source": [
    "with open('../newest_ts', 'r') as f:\r\n",
    "    newest_ts = f.read()\r\n",
    "\r\n",
    "data_path = f\"../data/data_{newest_ts}.json\"\r\n",
    "with open(data_path, 'r') as f:\r\n",
    "    data = json.load(f)\r\n",
    "\r\n",
    "with open(CONFIG_PATH, \"r\") as stream:\r\n",
    "    config = yaml.safe_load(stream)\r\n",
    "\r\n",
    "TIME_ZONE = config['time_zone']\r\n",
    "DATETIME_FORMAT = config['dt_format']"
   ]
  },
  {
   "cell_type": "code",
   "execution_count": 3,
   "metadata": {
    "execution": {
     "iopub.execute_input": "2021-09-17T03:12:18.560575Z",
     "iopub.status.busy": "2021-09-17T03:12:18.559972Z",
     "iopub.status.idle": "2021-09-17T03:12:18.584057Z",
     "shell.execute_reply": "2021-09-17T03:12:18.584666Z"
    }
   },
   "outputs": [
    {
     "name": "stdout",
     "output_type": "stream",
     "text": [
      "Recent query happens at 2021-09-17 11:12:12 (CST).\n"
     ]
    }
   ],
   "source": [
    "def ts2dt(ts, format=DATETIME_FORMAT):\r\n",
    "    dt = (datetime.utcfromtimestamp(int(ts))\r\n",
    "                    .replace(tzinfo=tz.tzutc())\r\n",
    "                    # .astimezone(tz.tzlocal())\r\n",
    "                    .astimezone(tz.gettz(TIME_ZONE)))\r\n",
    "    return dt.strftime(format), dt\r\n",
    "\r\n",
    "_, newest_dt = ts2dt(newest_ts)\r\n",
    "print(f\"Recent query happens at {newest_dt.strftime(DATETIME_FORMAT)} ({newest_dt.tzname()}).\")"
   ]
  },
  {
   "cell_type": "code",
   "execution_count": 4,
   "metadata": {
    "execution": {
     "iopub.execute_input": "2021-09-17T03:12:18.590850Z",
     "iopub.status.busy": "2021-09-17T03:12:18.589545Z",
     "iopub.status.idle": "2021-09-17T03:12:18.591421Z",
     "shell.execute_reply": "2021-09-17T03:12:18.591847Z"
    }
   },
   "outputs": [],
   "source": [
    "def degrees_to_cardinal(d):\r\n",
    "  dirs = ['N', 'NNE', 'NE', 'ENE', 'E', 'ESE', 'SE', 'SSE', 'S', 'SSW', 'SW', 'WSW', 'W', 'WNW', 'NW', 'NNW']\r\n",
    "  ix = int(round(d / (360. / len(dirs))))\r\n",
    "  return dirs[ix % len(dirs)]"
   ]
  },
  {
   "cell_type": "code",
   "execution_count": 5,
   "metadata": {
    "execution": {
     "iopub.execute_input": "2021-09-17T03:12:18.597897Z",
     "iopub.status.busy": "2021-09-17T03:12:18.597171Z",
     "iopub.status.idle": "2021-09-17T03:12:18.599032Z",
     "shell.execute_reply": "2021-09-17T03:12:18.598479Z"
    }
   },
   "outputs": [],
   "source": [
    "# data.keys()"
   ]
  },
  {
   "cell_type": "code",
   "execution_count": 6,
   "metadata": {
    "execution": {
     "iopub.execute_input": "2021-09-17T03:12:18.602188Z",
     "iopub.status.busy": "2021-09-17T03:12:18.601032Z",
     "iopub.status.idle": "2021-09-17T03:12:18.603958Z",
     "shell.execute_reply": "2021-09-17T03:12:18.604360Z"
    }
   },
   "outputs": [],
   "source": [
    "# data['current']"
   ]
  },
  {
   "cell_type": "code",
   "execution_count": 7,
   "metadata": {
    "execution": {
     "iopub.execute_input": "2021-09-17T03:12:18.633518Z",
     "iopub.status.busy": "2021-09-17T03:12:18.614427Z",
     "iopub.status.idle": "2021-09-17T03:12:19.275898Z",
     "shell.execute_reply": "2021-09-17T03:12:19.276810Z"
    }
   },
   "outputs": [
    {
     "data": {
      "image/png": "[encoded data removed]",
      "text/plain": [
       "<Figure size 216x216 with 1 Axes>"
      ]
     },
     "metadata": {
      "needs_background": "light"
     },
     "output_type": "display_data"
    },
    {
     "name": "stdout",
     "output_type": "stream",
     "text": [
      "Today, sun rises at 06:10 and sets at 18:25.\n",
      "Currently, the weather is Clouds (scattered clouds).\n",
      "The temperature is 32.25°C and it feels like 39.25°C.\n",
      "The UV index is 8.98, humidity is 71%.\n",
      "The pressure is 1010 hPa, percentage of cloud cover is 46%\n",
      "The wind comes from E direction with a speed 1.99 m/s.\n"
     ]
    }
   ],
   "source": [
    "current = data['current']\r\n",
    "\r\n",
    "fig, ax = plt.subplots(figsize=(3, 3))\r\n",
    "icon = requests.get(f\"http://openweathermap.org/img/wn/{current['weather'][0]['icon']}@2x.png\")\r\n",
    "im = Image.open(BytesIO(icon.content))\r\n",
    "plt.imshow(im)\r\n",
    "ax.set_axis_off()\r\n",
    "plt.show()\r\n",
    "\r\n",
    "print(f\"Today, sun rises at {ts2dt(current['sunrise'], '%H:%M')[0]} \\\r\n",
    "and sets at {ts2dt(current['sunset'], '%H:%M')[0]}.\\n\\\r\n",
    "Currently, the weather is {current['weather'][0]['main']} ({current['weather'][0]['description']}).\\n\\\r\n",
    "The temperature is {current['temp']}°C and it feels like {current['feels_like']}°C.\\n\\\r\n",
    "The UV index is {current['uvi']}, humidity is {current['humidity']}%.\\n\\\r\n",
    "The pressure is {current['pressure']} hPa, percentage of cloud cover is {current['clouds']}%\\n\\\r\n",
    "The wind comes from {degrees_to_cardinal(current['wind_deg'])} direction with a speed {current['wind_speed']} m/s.\")"
   ]
  },
  {
   "cell_type": "code",
   "execution_count": 8,
   "metadata": {
    "execution": {
     "iopub.execute_input": "2021-09-17T03:12:19.280900Z",
     "iopub.status.busy": "2021-09-17T03:12:19.279722Z",
     "iopub.status.idle": "2021-09-17T03:12:19.289154Z",
     "shell.execute_reply": "2021-09-17T03:12:19.290000Z"
    }
   },
   "outputs": [],
   "source": [
    "df_hourly = pd.DataFrame(data['hourly'])\r\n",
    "df_daily = pd.DataFrame(data['daily'])"
   ]
  },
  {
   "cell_type": "code",
   "execution_count": 9,
   "metadata": {
    "execution": {
     "iopub.execute_input": "2021-09-17T03:12:19.293977Z",
     "iopub.status.busy": "2021-09-17T03:12:19.292734Z",
     "iopub.status.idle": "2021-09-17T03:12:19.651482Z",
     "shell.execute_reply": "2021-09-17T03:12:19.650737Z"
    }
   },
   "outputs": [
    {
     "data": {
      "image/png": "[encoded data removed]",
      "text/plain": [
       "<Figure size 864x432 with 1 Axes>"
      ]
     },
     "metadata": {
      "needs_background": "light"
     },
     "output_type": "display_data"
    }
   ],
   "source": [
    "fig, ax = plt.subplots(figsize=(12, 6))\r\n",
    "plt.plot(df_hourly.temp, '.-', label='Temperature')\r\n",
    "plt.plot(df_hourly.feels_like, '.-', label='Feels Like')\r\n",
    "ax.set(title='Temperature in future 48 hours', xlabel='Time', ylabel='Temperature')\r\n",
    "ax.set_xticks(list(range(0, len(df_hourly), 2)))\r\n",
    "ax.set_xticklabels([ts2dt(ts, '%m-%d %H:%M')[0] for i, ts in enumerate(df_hourly.dt) if i%2==0], \r\n",
    "                   rotation=45, ha=\"right\")\r\n",
    "ax.locator_params(nbins=15, axis='y')\r\n",
    "plt.legend()\r\n",
    "plt.show()"
   ]
  },
  {
   "cell_type": "code",
   "execution_count": 10,
   "metadata": {
    "execution": {
     "iopub.execute_input": "2021-09-17T03:12:19.666942Z",
     "iopub.status.busy": "2021-09-17T03:12:19.656204Z",
     "iopub.status.idle": "2021-09-17T03:12:19.681448Z",
     "shell.execute_reply": "2021-09-17T03:12:19.680812Z"
    }
   },
   "outputs": [
    {
     "data": {
      "text/html": [
       "<div>\n",
       "<style scoped>\n",
       "    .dataframe tbody tr th:only-of-type {\n",
       "        vertical-align: middle;\n",
       "    }\n",
       "\n",
       "    .dataframe tbody tr th {\n",
       "        vertical-align: top;\n",
       "    }\n",
       "\n",
       "    .dataframe thead th {\n",
       "        text-align: right;\n",
       "    }\n",
       "</style>\n",
       "<table border=\"1\" class=\"dataframe\">\n",
       "  <thead>\n",
       "    <tr style=\"text-align: right;\">\n",
       "      <th></th>\n",
       "      <th>dt</th>\n",
       "      <th>temp</th>\n",
       "      <th>feels_like</th>\n",
       "      <th>pressure</th>\n",
       "      <th>humidity</th>\n",
       "      <th>dew_point</th>\n",
       "      <th>uvi</th>\n",
       "      <th>clouds</th>\n",
       "      <th>visibility</th>\n",
       "      <th>wind_speed</th>\n",
       "      <th>wind_deg</th>\n",
       "      <th>wind_gust</th>\n",
       "      <th>weather</th>\n",
       "      <th>pop</th>\n",
       "      <th>rain</th>\n",
       "    </tr>\n",
       "  </thead>\n",
       "  <tbody>\n",
       "    <tr>\n",
       "      <th>0</th>\n",
       "      <td>1631847600</td>\n",
       "      <td>32.25</td>\n",
       "      <td>39.25</td>\n",
       "      <td>1010</td>\n",
       "      <td>71</td>\n",
       "      <td>26.32</td>\n",
       "      <td>8.98</td>\n",
       "      <td>46</td>\n",
       "      <td>10000</td>\n",
       "      <td>1.99</td>\n",
       "      <td>86</td>\n",
       "      <td>2.11</td>\n",
       "      <td>[{'id': 501, 'main': 'Rain', 'description': 'm...</td>\n",
       "      <td>0.94</td>\n",
       "      <td>{'1h': 2.34}</td>\n",
       "    </tr>\n",
       "    <tr>\n",
       "      <th>1</th>\n",
       "      <td>1631851200</td>\n",
       "      <td>31.84</td>\n",
       "      <td>38.84</td>\n",
       "      <td>1010</td>\n",
       "      <td>70</td>\n",
       "      <td>25.68</td>\n",
       "      <td>10.55</td>\n",
       "      <td>48</td>\n",
       "      <td>10000</td>\n",
       "      <td>1.73</td>\n",
       "      <td>84</td>\n",
       "      <td>1.67</td>\n",
       "      <td>[{'id': 500, 'main': 'Rain', 'description': 'l...</td>\n",
       "      <td>0.94</td>\n",
       "      <td>{'1h': 0.18}</td>\n",
       "    </tr>\n",
       "    <tr>\n",
       "      <th>2</th>\n",
       "      <td>1631854800</td>\n",
       "      <td>31.39</td>\n",
       "      <td>38.34</td>\n",
       "      <td>1010</td>\n",
       "      <td>69</td>\n",
       "      <td>25.01</td>\n",
       "      <td>10.37</td>\n",
       "      <td>53</td>\n",
       "      <td>10000</td>\n",
       "      <td>1.80</td>\n",
       "      <td>92</td>\n",
       "      <td>1.71</td>\n",
       "      <td>[{'id': 500, 'main': 'Rain', 'description': 'l...</td>\n",
       "      <td>0.94</td>\n",
       "      <td>{'1h': 0.18}</td>\n",
       "    </tr>\n",
       "    <tr>\n",
       "      <th>3</th>\n",
       "      <td>1631858400</td>\n",
       "      <td>31.24</td>\n",
       "      <td>37.03</td>\n",
       "      <td>1009</td>\n",
       "      <td>66</td>\n",
       "      <td>24.13</td>\n",
       "      <td>8.51</td>\n",
       "      <td>53</td>\n",
       "      <td>10000</td>\n",
       "      <td>2.08</td>\n",
       "      <td>104</td>\n",
       "      <td>1.95</td>\n",
       "      <td>[{'id': 803, 'main': 'Clouds', 'description': ...</td>\n",
       "      <td>0.74</td>\n",
       "      <td>NaN</td>\n",
       "    </tr>\n",
       "    <tr>\n",
       "      <th>4</th>\n",
       "      <td>1631862000</td>\n",
       "      <td>30.94</td>\n",
       "      <td>35.74</td>\n",
       "      <td>1008</td>\n",
       "      <td>64</td>\n",
       "      <td>23.33</td>\n",
       "      <td>5.73</td>\n",
       "      <td>26</td>\n",
       "      <td>10000</td>\n",
       "      <td>2.33</td>\n",
       "      <td>113</td>\n",
       "      <td>2.09</td>\n",
       "      <td>[{'id': 802, 'main': 'Clouds', 'description': ...</td>\n",
       "      <td>0.01</td>\n",
       "      <td>NaN</td>\n",
       "    </tr>\n",
       "  </tbody>\n",
       "</table>\n",
       "</div>"
      ],
      "text/plain": [
       "           dt   temp  feels_like  pressure  humidity  dew_point    uvi  \\\n",
       "0  1631847600  32.25       39.25      1010        71      26.32   8.98   \n",
       "1  1631851200  31.84       38.84      1010        70      25.68  10.55   \n",
       "2  1631854800  31.39       38.34      1010        69      25.01  10.37   \n",
       "3  1631858400  31.24       37.03      1009        66      24.13   8.51   \n",
       "4  1631862000  30.94       35.74      1008        64      23.33   5.73   \n",
       "\n",
       "   clouds  visibility  wind_speed  wind_deg  wind_gust  \\\n",
       "0      46       10000        1.99        86       2.11   \n",
       "1      48       10000        1.73        84       1.67   \n",
       "2      53       10000        1.80        92       1.71   \n",
       "3      53       10000        2.08       104       1.95   \n",
       "4      26       10000        2.33       113       2.09   \n",
       "\n",
       "                                             weather   pop          rain  \n",
       "0  [{'id': 501, 'main': 'Rain', 'description': 'm...  0.94  {'1h': 2.34}  \n",
       "1  [{'id': 500, 'main': 'Rain', 'description': 'l...  0.94  {'1h': 0.18}  \n",
       "2  [{'id': 500, 'main': 'Rain', 'description': 'l...  0.94  {'1h': 0.18}  \n",
       "3  [{'id': 803, 'main': 'Clouds', 'description': ...  0.74           NaN  \n",
       "4  [{'id': 802, 'main': 'Clouds', 'description': ...  0.01           NaN  "
      ]
     },
     "execution_count": 10,
     "metadata": {},
     "output_type": "execute_result"
    }
   ],
   "source": [
    "df_hourly.head()"
   ]
  },
  {
   "cell_type": "code",
   "execution_count": null,
   "metadata": {},
   "outputs": [],
   "source": []
  }
 ],
 "metadata": {
  "interpreter": {
   "hash": "c1b4cfe941b6d2466ad1fb5979e97da9cda8801728c8091b097ab734208fc00c"
  },
  "kernelspec": {
   "display_name": "Python 3.8.3 64-bit ('base': conda)",
   "name": "python3"
  },
  "language_info": {
   "codemirror_mode": {
    "name": "ipython",
    "version": 3
   },
   "file_extension": ".py",
   "mimetype": "text/x-python",
   "name": "python",
   "nbconvert_exporter": "python",
   "pygments_lexer": "ipython3",
   "version": "3.8.11"
  }
 },
 "nbformat": 4,
 "nbformat_minor": 2
}
