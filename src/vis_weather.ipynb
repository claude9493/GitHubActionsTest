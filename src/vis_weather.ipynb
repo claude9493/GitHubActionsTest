{
 "cells": [
  {
   "cell_type": "code",
   "execution_count": 1,
   "metadata": {
    "execution": {
     "iopub.execute_input": "2021-09-11T19:36:43.220040Z",
     "iopub.status.busy": "2021-09-11T19:36:43.219293Z",
     "iopub.status.idle": "2021-09-11T19:36:44.678087Z",
     "shell.execute_reply": "2021-09-11T19:36:44.677422Z"
    }
   },
   "outputs": [],
   "source": [
    "import json, yaml, requests\r\n",
    "from datetime import datetime\r\n",
    "from dateutil import tz\r\n",
    "import pandas as pd\r\n",
    "from PIL import Image\r\n",
    "from io import BytesIO\r\n",
    "import matplotlib.pyplot as plt\r\n",
    "import seaborn\r\n",
    "\r\n",
    "CONFIG_PATH = \"../config/config.yaml\""
   ]
  },
  {
   "cell_type": "code",
   "execution_count": 2,
   "metadata": {
    "execution": {
     "iopub.execute_input": "2021-09-11T19:36:44.681269Z",
     "iopub.status.busy": "2021-09-11T19:36:44.680662Z",
     "iopub.status.idle": "2021-09-11T19:36:44.689840Z",
     "shell.execute_reply": "2021-09-11T19:36:44.689269Z"
    }
   },
   "outputs": [],
   "source": [
    "with open('../newest_ts', 'r') as f:\r\n",
    "    newest_ts = f.read()\r\n",
    "\r\n",
    "data_path = f\"../data/data_{newest_ts}.json\"\r\n",
    "with open(data_path, 'r') as f:\r\n",
    "    data = json.load(f)\r\n",
    "\r\n",
    "with open(CONFIG_PATH, \"r\") as stream:\r\n",
    "    config = yaml.safe_load(stream)\r\n",
    "\r\n",
    "TIME_ZONE = config['time_zone']\r\n",
    "DATETIME_FORMAT = config['dt_format']"
   ]
  },
  {
   "cell_type": "code",
   "execution_count": 3,
   "metadata": {
    "execution": {
     "iopub.execute_input": "2021-09-11T19:36:44.694919Z",
     "iopub.status.busy": "2021-09-11T19:36:44.694300Z",
     "iopub.status.idle": "2021-09-11T19:36:44.706909Z",
     "shell.execute_reply": "2021-09-11T19:36:44.707458Z"
    }
   },
   "outputs": [
    {
     "name": "stdout",
     "output_type": "stream",
     "text": [
      "Recent query happens at 2021-09-12 03:36:39 (CST).\n"
     ]
    }
   ],
   "source": [
    "def ts2dt(ts, format=DATETIME_FORMAT):\r\n",
    "    dt = (datetime.utcfromtimestamp(int(ts))\r\n",
    "                    .replace(tzinfo=tz.tzutc())\r\n",
    "                    # .astimezone(tz.tzlocal())\r\n",
    "                    .astimezone(tz.gettz(TIME_ZONE)))\r\n",
    "    return dt.strftime(format), dt\r\n",
    "\r\n",
    "_, newest_dt = ts2dt(newest_ts)\r\n",
    "print(f\"Recent query happens at {newest_dt.strftime(DATETIME_FORMAT)} ({newest_dt.tzname()}).\")"
   ]
  },
  {
   "cell_type": "code",
   "execution_count": 4,
   "metadata": {
    "execution": {
     "iopub.execute_input": "2021-09-11T19:36:44.713120Z",
     "iopub.status.busy": "2021-09-11T19:36:44.712274Z",
     "iopub.status.idle": "2021-09-11T19:36:44.714580Z",
     "shell.execute_reply": "2021-09-11T19:36:44.715076Z"
    }
   },
   "outputs": [],
   "source": [
    "def degrees_to_cardinal(d):\r\n",
    "  dirs = ['N', 'NNE', 'NE', 'ENE', 'E', 'ESE', 'SE', 'SSE', 'S', 'SSW', 'SW', 'WSW', 'W', 'WNW', 'NW', 'NNW']\r\n",
    "  ix = int(round(d / (360. / len(dirs))))\r\n",
    "  return dirs[ix % len(dirs)]"
   ]
  },
  {
   "cell_type": "code",
   "execution_count": 5,
   "metadata": {
    "execution": {
     "iopub.execute_input": "2021-09-11T19:36:44.719947Z",
     "iopub.status.busy": "2021-09-11T19:36:44.718467Z",
     "iopub.status.idle": "2021-09-11T19:36:44.720589Z",
     "shell.execute_reply": "2021-09-11T19:36:44.721190Z"
    }
   },
   "outputs": [],
   "source": [
    "# data.keys()"
   ]
  },
  {
   "cell_type": "code",
   "execution_count": 6,
   "metadata": {
    "execution": {
     "iopub.execute_input": "2021-09-11T19:36:44.725993Z",
     "iopub.status.busy": "2021-09-11T19:36:44.724593Z",
     "iopub.status.idle": "2021-09-11T19:36:44.726675Z",
     "shell.execute_reply": "2021-09-11T19:36:44.727170Z"
    }
   },
   "outputs": [],
   "source": [
    "# data['current']"
   ]
  },
  {
   "cell_type": "code",
   "execution_count": 7,
   "metadata": {
    "execution": {
     "iopub.execute_input": "2021-09-11T19:36:44.748581Z",
     "iopub.status.busy": "2021-09-11T19:36:44.747963Z",
     "iopub.status.idle": "2021-09-11T19:36:45.165836Z",
     "shell.execute_reply": "2021-09-11T19:36:45.166706Z"
    }
   },
   "outputs": [
    {
     "data": {
      "image/png": "[encoded data removed]",
      "text/plain": [
       "<Figure size 216x216 with 1 Axes>"
      ]
     },
     "metadata": {
      "needs_background": "light"
     },
     "output_type": "display_data"
    },
    {
     "name": "stdout",
     "output_type": "stream",
     "text": [
      "Today, sun rises at 06:08 and sets at 18:30.\n",
      "Currently, the weather is Clouds (few clouds).\n",
      "The temperature is 29.98°C and it feels like 36.98°C.\n",
      "The UV index is 0, humidity is 88%.\n",
      "The pressure is 1001 hPa, percentage of cloud cover is 20%\n",
      "The wind comes from WSW direction with a speed 4.65 m/s.\n"
     ]
    }
   ],
   "source": [
    "current = data['current']\r\n",
    "\r\n",
    "fig, ax = plt.subplots(figsize=(3, 3))\r\n",
    "icon = requests.get(f\"http://openweathermap.org/img/wn/{current['weather'][0]['icon']}@2x.png\")\r\n",
    "im = Image.open(BytesIO(icon.content))\r\n",
    "plt.imshow(im)\r\n",
    "ax.set_axis_off()\r\n",
    "plt.show()\r\n",
    "\r\n",
    "print(f\"Today, sun rises at {ts2dt(current['sunrise'], '%H:%M')[0]} \\\r\n",
    "and sets at {ts2dt(current['sunset'], '%H:%M')[0]}.\\n\\\r\n",
    "Currently, the weather is {current['weather'][0]['main']} ({current['weather'][0]['description']}).\\n\\\r\n",
    "The temperature is {current['temp']}°C and it feels like {current['feels_like']}°C.\\n\\\r\n",
    "The UV index is {current['uvi']}, humidity is {current['humidity']}%.\\n\\\r\n",
    "The pressure is {current['pressure']} hPa, percentage of cloud cover is {current['clouds']}%\\n\\\r\n",
    "The wind comes from {degrees_to_cardinal(current['wind_deg'])} direction with a speed {current['wind_speed']} m/s.\")"
   ]
  },
  {
   "cell_type": "code",
   "execution_count": 8,
   "metadata": {
    "execution": {
     "iopub.execute_input": "2021-09-11T19:36:45.170182Z",
     "iopub.status.busy": "2021-09-11T19:36:45.169584Z",
     "iopub.status.idle": "2021-09-11T19:36:45.177309Z",
     "shell.execute_reply": "2021-09-11T19:36:45.178064Z"
    }
   },
   "outputs": [],
   "source": [
    "df_hourly = pd.DataFrame(data['hourly'])\r\n",
    "df_daily = pd.DataFrame(data['daily'])"
   ]
  },
  {
   "cell_type": "code",
   "execution_count": 9,
   "metadata": {
    "execution": {
     "iopub.execute_input": "2021-09-11T19:36:45.181662Z",
     "iopub.status.busy": "2021-09-11T19:36:45.180580Z",
     "iopub.status.idle": "2021-09-11T19:36:45.512994Z",
     "shell.execute_reply": "2021-09-11T19:36:45.513464Z"
    }
   },
   "outputs": [
    {
     "data": {
      "image/png": "[encoded data removed]",
      "text/plain": [
       "<Figure size 864x432 with 1 Axes>"
      ]
     },
     "metadata": {
      "needs_background": "light"
     },
     "output_type": "display_data"
    }
   ],
   "source": [
    "fig, ax = plt.subplots(figsize=(12, 6))\r\n",
    "plt.plot(df_hourly.temp, '.-', label='Temperature')\r\n",
    "plt.plot(df_hourly.feels_like, '.-', label='Feels Like')\r\n",
    "ax.set(title='Temperature in future 48 hours', xlabel='Time', ylabel='Temperature')\r\n",
    "ax.set_xticks(list(range(0, len(df_hourly), 2)))\r\n",
    "ax.set_xticklabels([ts2dt(ts, '%m-%d %H:%M')[0] for i, ts in enumerate(df_hourly.dt) if i%2==0], \r\n",
    "                   rotation=45, ha=\"right\")\r\n",
    "ax.locator_params(nbins=15, axis='y')\r\n",
    "plt.legend()\r\n",
    "plt.show()"
   ]
  },
  {
   "cell_type": "code",
   "execution_count": 10,
   "metadata": {
    "execution": {
     "iopub.execute_input": "2021-09-11T19:36:45.526762Z",
     "iopub.status.busy": "2021-09-11T19:36:45.517926Z",
     "iopub.status.idle": "2021-09-11T19:36:45.545728Z",
     "shell.execute_reply": "2021-09-11T19:36:45.545215Z"
    }
   },
   "outputs": [
    {
     "data": {
      "text/html": [
       "<div>\n",
       "<style scoped>\n",
       "    .dataframe tbody tr th:only-of-type {\n",
       "        vertical-align: middle;\n",
       "    }\n",
       "\n",
       "    .dataframe tbody tr th {\n",
       "        vertical-align: top;\n",
       "    }\n",
       "\n",
       "    .dataframe thead th {\n",
       "        text-align: right;\n",
       "    }\n",
       "</style>\n",
       "<table border=\"1\" class=\"dataframe\">\n",
       "  <thead>\n",
       "    <tr style=\"text-align: right;\">\n",
       "      <th></th>\n",
       "      <th>dt</th>\n",
       "      <th>temp</th>\n",
       "      <th>feels_like</th>\n",
       "      <th>pressure</th>\n",
       "      <th>humidity</th>\n",
       "      <th>dew_point</th>\n",
       "      <th>uvi</th>\n",
       "      <th>clouds</th>\n",
       "      <th>visibility</th>\n",
       "      <th>wind_speed</th>\n",
       "      <th>wind_deg</th>\n",
       "      <th>wind_gust</th>\n",
       "      <th>weather</th>\n",
       "      <th>pop</th>\n",
       "      <th>rain</th>\n",
       "    </tr>\n",
       "  </thead>\n",
       "  <tbody>\n",
       "    <tr>\n",
       "      <th>0</th>\n",
       "      <td>1631386800</td>\n",
       "      <td>29.63</td>\n",
       "      <td>36.63</td>\n",
       "      <td>1001</td>\n",
       "      <td>88</td>\n",
       "      <td>27.43</td>\n",
       "      <td>0.00</td>\n",
       "      <td>19</td>\n",
       "      <td>10000</td>\n",
       "      <td>5.04</td>\n",
       "      <td>255</td>\n",
       "      <td>7.30</td>\n",
       "      <td>[{'id': 500, 'main': 'Rain', 'description': 'l...</td>\n",
       "      <td>0.55</td>\n",
       "      <td>{'1h': 0.17}</td>\n",
       "    </tr>\n",
       "    <tr>\n",
       "      <th>1</th>\n",
       "      <td>1631390400</td>\n",
       "      <td>29.98</td>\n",
       "      <td>36.98</td>\n",
       "      <td>1001</td>\n",
       "      <td>88</td>\n",
       "      <td>27.77</td>\n",
       "      <td>0.00</td>\n",
       "      <td>20</td>\n",
       "      <td>10000</td>\n",
       "      <td>4.65</td>\n",
       "      <td>252</td>\n",
       "      <td>6.33</td>\n",
       "      <td>[{'id': 801, 'main': 'Clouds', 'description': ...</td>\n",
       "      <td>0.72</td>\n",
       "      <td>NaN</td>\n",
       "    </tr>\n",
       "    <tr>\n",
       "      <th>2</th>\n",
       "      <td>1631394000</td>\n",
       "      <td>29.64</td>\n",
       "      <td>36.64</td>\n",
       "      <td>1001</td>\n",
       "      <td>87</td>\n",
       "      <td>27.24</td>\n",
       "      <td>0.00</td>\n",
       "      <td>25</td>\n",
       "      <td>10000</td>\n",
       "      <td>4.29</td>\n",
       "      <td>261</td>\n",
       "      <td>5.32</td>\n",
       "      <td>[{'id': 802, 'main': 'Clouds', 'description': ...</td>\n",
       "      <td>0.83</td>\n",
       "      <td>NaN</td>\n",
       "    </tr>\n",
       "    <tr>\n",
       "      <th>3</th>\n",
       "      <td>1631397600</td>\n",
       "      <td>29.37</td>\n",
       "      <td>36.37</td>\n",
       "      <td>1001</td>\n",
       "      <td>86</td>\n",
       "      <td>26.78</td>\n",
       "      <td>0.00</td>\n",
       "      <td>34</td>\n",
       "      <td>10000</td>\n",
       "      <td>3.84</td>\n",
       "      <td>269</td>\n",
       "      <td>4.82</td>\n",
       "      <td>[{'id': 500, 'main': 'Rain', 'description': 'l...</td>\n",
       "      <td>0.84</td>\n",
       "      <td>{'1h': 0.45}</td>\n",
       "    </tr>\n",
       "    <tr>\n",
       "      <th>4</th>\n",
       "      <td>1631401200</td>\n",
       "      <td>29.30</td>\n",
       "      <td>36.30</td>\n",
       "      <td>1002</td>\n",
       "      <td>84</td>\n",
       "      <td>26.31</td>\n",
       "      <td>0.25</td>\n",
       "      <td>36</td>\n",
       "      <td>10000</td>\n",
       "      <td>3.46</td>\n",
       "      <td>279</td>\n",
       "      <td>4.60</td>\n",
       "      <td>[{'id': 500, 'main': 'Rain', 'description': 'l...</td>\n",
       "      <td>0.84</td>\n",
       "      <td>{'1h': 0.17}</td>\n",
       "    </tr>\n",
       "  </tbody>\n",
       "</table>\n",
       "</div>"
      ],
      "text/plain": [
       "           dt   temp  feels_like  pressure  humidity  dew_point   uvi  clouds  \\\n",
       "0  1631386800  29.63       36.63      1001        88      27.43  0.00      19   \n",
       "1  1631390400  29.98       36.98      1001        88      27.77  0.00      20   \n",
       "2  1631394000  29.64       36.64      1001        87      27.24  0.00      25   \n",
       "3  1631397600  29.37       36.37      1001        86      26.78  0.00      34   \n",
       "4  1631401200  29.30       36.30      1002        84      26.31  0.25      36   \n",
       "\n",
       "   visibility  wind_speed  wind_deg  wind_gust  \\\n",
       "0       10000        5.04       255       7.30   \n",
       "1       10000        4.65       252       6.33   \n",
       "2       10000        4.29       261       5.32   \n",
       "3       10000        3.84       269       4.82   \n",
       "4       10000        3.46       279       4.60   \n",
       "\n",
       "                                             weather   pop          rain  \n",
       "0  [{'id': 500, 'main': 'Rain', 'description': 'l...  0.55  {'1h': 0.17}  \n",
       "1  [{'id': 801, 'main': 'Clouds', 'description': ...  0.72           NaN  \n",
       "2  [{'id': 802, 'main': 'Clouds', 'description': ...  0.83           NaN  \n",
       "3  [{'id': 500, 'main': 'Rain', 'description': 'l...  0.84  {'1h': 0.45}  \n",
       "4  [{'id': 500, 'main': 'Rain', 'description': 'l...  0.84  {'1h': 0.17}  "
      ]
     },
     "execution_count": 10,
     "metadata": {},
     "output_type": "execute_result"
    }
   ],
   "source": [
    "df_hourly.head()"
   ]
  },
  {
   "cell_type": "code",
   "execution_count": null,
   "metadata": {},
   "outputs": [],
   "source": []
  }
 ],
 "metadata": {
  "interpreter": {
   "hash": "c1b4cfe941b6d2466ad1fb5979e97da9cda8801728c8091b097ab734208fc00c"
  },
  "kernelspec": {
   "display_name": "Python 3.8.3 64-bit ('base': conda)",
   "name": "python3"
  },
  "language_info": {
   "codemirror_mode": {
    "name": "ipython",
    "version": 3
   },
   "file_extension": ".py",
   "mimetype": "text/x-python",
   "name": "python",
   "nbconvert_exporter": "python",
   "pygments_lexer": "ipython3",
   "version": "3.8.11"
  }
 },
 "nbformat": 4,
 "nbformat_minor": 2
}
