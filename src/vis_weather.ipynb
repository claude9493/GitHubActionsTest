{
 "cells": [
  {
   "cell_type": "code",
   "execution_count": 1,
   "metadata": {
    "execution": {
     "iopub.execute_input": "2021-10-24T02:28:23.716420Z",
     "iopub.status.busy": "2021-10-24T02:28:23.715782Z",
     "iopub.status.idle": "2021-10-24T02:28:26.507837Z",
     "shell.execute_reply": "2021-10-24T02:28:26.507221Z"
    }
   },
   "outputs": [],
   "source": [
    "import json, yaml, requests\r\n",
    "from datetime import datetime\r\n",
    "from dateutil import tz\r\n",
    "import pandas as pd\r\n",
    "from PIL import Image\r\n",
    "from io import BytesIO\r\n",
    "import matplotlib.pyplot as plt\r\n",
    "import seaborn\r\n",
    "\r\n",
    "CONFIG_PATH = \"../config/config.yaml\""
   ]
  },
  {
   "cell_type": "code",
   "execution_count": 2,
   "metadata": {
    "execution": {
     "iopub.execute_input": "2021-10-24T02:28:26.516409Z",
     "iopub.status.busy": "2021-10-24T02:28:26.512894Z",
     "iopub.status.idle": "2021-10-24T02:28:26.519210Z",
     "shell.execute_reply": "2021-10-24T02:28:26.519922Z"
    }
   },
   "outputs": [],
   "source": [
    "with open('../newest_ts', 'r') as f:\r\n",
    "    newest_ts = f.read()\r\n",
    "\r\n",
    "data_path = f\"../data/data_{newest_ts}.json\"\r\n",
    "with open(data_path, 'r') as f:\r\n",
    "    data = json.load(f)\r\n",
    "\r\n",
    "with open(CONFIG_PATH, \"r\") as stream:\r\n",
    "    config = yaml.safe_load(stream)\r\n",
    "\r\n",
    "TIME_ZONE = config['time_zone']\r\n",
    "DATETIME_FORMAT = config['dt_format']"
   ]
  },
  {
   "cell_type": "code",
   "execution_count": 3,
   "metadata": {
    "execution": {
     "iopub.execute_input": "2021-10-24T02:28:26.525068Z",
     "iopub.status.busy": "2021-10-24T02:28:26.524404Z",
     "iopub.status.idle": "2021-10-24T02:28:26.538362Z",
     "shell.execute_reply": "2021-10-24T02:28:26.537897Z"
    }
   },
   "outputs": [
    {
     "name": "stdout",
     "output_type": "stream",
     "text": [
      "Recent query happens at 2021-10-24 10:28:20 (CST).\n"
     ]
    }
   ],
   "source": [
    "def ts2dt(ts, format=DATETIME_FORMAT):\r\n",
    "    dt = (datetime.utcfromtimestamp(int(ts))\r\n",
    "                    .replace(tzinfo=tz.tzutc())\r\n",
    "                    # .astimezone(tz.tzlocal())\r\n",
    "                    .astimezone(tz.gettz(TIME_ZONE)))\r\n",
    "    return dt.strftime(format), dt\r\n",
    "\r\n",
    "_, newest_dt = ts2dt(newest_ts)\r\n",
    "print(f\"Recent query happens at {newest_dt.strftime(DATETIME_FORMAT)} ({newest_dt.tzname()}).\")"
   ]
  },
  {
   "cell_type": "code",
   "execution_count": 4,
   "metadata": {
    "execution": {
     "iopub.execute_input": "2021-10-24T02:28:26.542851Z",
     "iopub.status.busy": "2021-10-24T02:28:26.542283Z",
     "iopub.status.idle": "2021-10-24T02:28:26.545425Z",
     "shell.execute_reply": "2021-10-24T02:28:26.546050Z"
    }
   },
   "outputs": [],
   "source": [
    "def degrees_to_cardinal(d):\r\n",
    "  dirs = ['N', 'NNE', 'NE', 'ENE', 'E', 'ESE', 'SE', 'SSE', 'S', 'SSW', 'SW', 'WSW', 'W', 'WNW', 'NW', 'NNW']\r\n",
    "  ix = int(round(d / (360. / len(dirs))))\r\n",
    "  return dirs[ix % len(dirs)]"
   ]
  },
  {
   "cell_type": "code",
   "execution_count": 5,
   "metadata": {
    "execution": {
     "iopub.execute_input": "2021-10-24T02:28:26.550596Z",
     "iopub.status.busy": "2021-10-24T02:28:26.549309Z",
     "iopub.status.idle": "2021-10-24T02:28:26.551292Z",
     "shell.execute_reply": "2021-10-24T02:28:26.551821Z"
    }
   },
   "outputs": [],
   "source": [
    "# data.keys()"
   ]
  },
  {
   "cell_type": "code",
   "execution_count": 6,
   "metadata": {
    "execution": {
     "iopub.execute_input": "2021-10-24T02:28:26.556255Z",
     "iopub.status.busy": "2021-10-24T02:28:26.554928Z",
     "iopub.status.idle": "2021-10-24T02:28:26.556863Z",
     "shell.execute_reply": "2021-10-24T02:28:26.557342Z"
    }
   },
   "outputs": [],
   "source": [
    "# data['current']"
   ]
  },
  {
   "cell_type": "code",
   "execution_count": 7,
   "metadata": {
    "execution": {
     "iopub.execute_input": "2021-10-24T02:28:26.577694Z",
     "iopub.status.busy": "2021-10-24T02:28:26.577087Z",
     "iopub.status.idle": "2021-10-24T02:28:26.993579Z",
     "shell.execute_reply": "2021-10-24T02:28:26.994029Z"
    }
   },
   "outputs": [
    {
     "data": {
      "image/png": "[encoded data removed]",
      "text/plain": [
       "<Figure size 216x216 with 1 Axes>"
      ]
     },
     "metadata": {
      "needs_background": "light"
     },
     "output_type": "display_data"
    },
    {
     "name": "stdout",
     "output_type": "stream",
     "text": [
      "Today, sun rises at 06:22 and sets at 17:51.\n",
      "Currently, the weather is Clouds (few clouds).\n",
      "The temperature is 22.15°C and it feels like 22.25°C.\n",
      "The UV index is 4.25, humidity is 70%.\n",
      "The pressure is 1020 hPa, percentage of cloud cover is 16%\n",
      "The wind comes from NNE direction with a speed 3.09 m/s.\n"
     ]
    }
   ],
   "source": [
    "current = data['current']\r\n",
    "\r\n",
    "fig, ax = plt.subplots(figsize=(3, 3))\r\n",
    "icon = requests.get(f\"http://openweathermap.org/img/wn/{current['weather'][0]['icon']}@2x.png\")\r\n",
    "im = Image.open(BytesIO(icon.content))\r\n",
    "plt.imshow(im)\r\n",
    "ax.set_axis_off()\r\n",
    "plt.show()\r\n",
    "\r\n",
    "print(f\"Today, sun rises at {ts2dt(current['sunrise'], '%H:%M')[0]} \\\r\n",
    "and sets at {ts2dt(current['sunset'], '%H:%M')[0]}.\\n\\\r\n",
    "Currently, the weather is {current['weather'][0]['main']} ({current['weather'][0]['description']}).\\n\\\r\n",
    "The temperature is {current['temp']}°C and it feels like {current['feels_like']}°C.\\n\\\r\n",
    "The UV index is {current['uvi']}, humidity is {current['humidity']}%.\\n\\\r\n",
    "The pressure is {current['pressure']} hPa, percentage of cloud cover is {current['clouds']}%\\n\\\r\n",
    "The wind comes from {degrees_to_cardinal(current['wind_deg'])} direction with a speed {current['wind_speed']} m/s.\")"
   ]
  },
  {
   "cell_type": "code",
   "execution_count": 8,
   "metadata": {
    "execution": {
     "iopub.execute_input": "2021-10-24T02:28:26.996853Z",
     "iopub.status.busy": "2021-10-24T02:28:26.996250Z",
     "iopub.status.idle": "2021-10-24T02:28:27.002883Z",
     "shell.execute_reply": "2021-10-24T02:28:27.003397Z"
    }
   },
   "outputs": [],
   "source": [
    "df_hourly = pd.DataFrame(data['hourly'])\r\n",
    "df_daily = pd.DataFrame(data['daily'])"
   ]
  },
  {
   "cell_type": "code",
   "execution_count": 9,
   "metadata": {
    "execution": {
     "iopub.execute_input": "2021-10-24T02:28:27.005987Z",
     "iopub.status.busy": "2021-10-24T02:28:27.005330Z",
     "iopub.status.idle": "2021-10-24T02:28:27.379569Z",
     "shell.execute_reply": "2021-10-24T02:28:27.379084Z"
    }
   },
   "outputs": [
    {
     "data": {
      "image/png": "[encoded data removed]",
      "text/plain": [
       "<Figure size 864x432 with 1 Axes>"
      ]
     },
     "metadata": {
      "needs_background": "light"
     },
     "output_type": "display_data"
    }
   ],
   "source": [
    "fig, ax = plt.subplots(figsize=(12, 6))\r\n",
    "plt.plot(df_hourly.temp, '.-', label='Temperature')\r\n",
    "plt.plot(df_hourly.feels_like, '.-', label='Feels Like')\r\n",
    "ax.set(title='Temperature in future 48 hours', xlabel='Time', ylabel='Temperature')\r\n",
    "ax.set_xticks(list(range(0, len(df_hourly), 2)))\r\n",
    "ax.set_xticklabels([ts2dt(ts, '%m-%d %H:%M')[0] for i, ts in enumerate(df_hourly.dt) if i%2==0], \r\n",
    "                   rotation=45, ha=\"right\")\r\n",
    "ax.locator_params(nbins=15, axis='y')\r\n",
    "plt.legend()\r\n",
    "plt.show()"
   ]
  },
  {
   "cell_type": "code",
   "execution_count": 10,
   "metadata": {
    "execution": {
     "iopub.execute_input": "2021-10-24T02:28:27.385002Z",
     "iopub.status.busy": "2021-10-24T02:28:27.384430Z",
     "iopub.status.idle": "2021-10-24T02:28:27.405213Z",
     "shell.execute_reply": "2021-10-24T02:28:27.405691Z"
    }
   },
   "outputs": [
    {
     "data": {
      "text/html": [
       "<div>\n",
       "<style scoped>\n",
       "    .dataframe tbody tr th:only-of-type {\n",
       "        vertical-align: middle;\n",
       "    }\n",
       "\n",
       "    .dataframe tbody tr th {\n",
       "        vertical-align: top;\n",
       "    }\n",
       "\n",
       "    .dataframe thead th {\n",
       "        text-align: right;\n",
       "    }\n",
       "</style>\n",
       "<table border=\"1\" class=\"dataframe\">\n",
       "  <thead>\n",
       "    <tr style=\"text-align: right;\">\n",
       "      <th></th>\n",
       "      <th>dt</th>\n",
       "      <th>temp</th>\n",
       "      <th>feels_like</th>\n",
       "      <th>pressure</th>\n",
       "      <th>humidity</th>\n",
       "      <th>dew_point</th>\n",
       "      <th>uvi</th>\n",
       "      <th>clouds</th>\n",
       "      <th>visibility</th>\n",
       "      <th>wind_speed</th>\n",
       "      <th>wind_deg</th>\n",
       "      <th>wind_gust</th>\n",
       "      <th>weather</th>\n",
       "      <th>pop</th>\n",
       "      <th>rain</th>\n",
       "    </tr>\n",
       "  </thead>\n",
       "  <tbody>\n",
       "    <tr>\n",
       "      <th>0</th>\n",
       "      <td>1635040800</td>\n",
       "      <td>22.15</td>\n",
       "      <td>22.25</td>\n",
       "      <td>1020</td>\n",
       "      <td>70</td>\n",
       "      <td>16.42</td>\n",
       "      <td>4.25</td>\n",
       "      <td>16</td>\n",
       "      <td>10000</td>\n",
       "      <td>3.09</td>\n",
       "      <td>19</td>\n",
       "      <td>4.14</td>\n",
       "      <td>[{'id': 801, 'main': 'Clouds', 'description': ...</td>\n",
       "      <td>0.0</td>\n",
       "      <td>NaN</td>\n",
       "    </tr>\n",
       "    <tr>\n",
       "      <th>1</th>\n",
       "      <td>1635044400</td>\n",
       "      <td>22.20</td>\n",
       "      <td>22.25</td>\n",
       "      <td>1020</td>\n",
       "      <td>68</td>\n",
       "      <td>16.02</td>\n",
       "      <td>6.38</td>\n",
       "      <td>15</td>\n",
       "      <td>10000</td>\n",
       "      <td>2.86</td>\n",
       "      <td>23</td>\n",
       "      <td>3.70</td>\n",
       "      <td>[{'id': 801, 'main': 'Clouds', 'description': ...</td>\n",
       "      <td>0.0</td>\n",
       "      <td>NaN</td>\n",
       "    </tr>\n",
       "    <tr>\n",
       "      <th>2</th>\n",
       "      <td>1635048000</td>\n",
       "      <td>22.57</td>\n",
       "      <td>22.58</td>\n",
       "      <td>1020</td>\n",
       "      <td>65</td>\n",
       "      <td>15.66</td>\n",
       "      <td>7.62</td>\n",
       "      <td>14</td>\n",
       "      <td>10000</td>\n",
       "      <td>3.06</td>\n",
       "      <td>32</td>\n",
       "      <td>3.65</td>\n",
       "      <td>[{'id': 801, 'main': 'Clouds', 'description': ...</td>\n",
       "      <td>0.0</td>\n",
       "      <td>NaN</td>\n",
       "    </tr>\n",
       "    <tr>\n",
       "      <th>3</th>\n",
       "      <td>1635051600</td>\n",
       "      <td>23.10</td>\n",
       "      <td>23.11</td>\n",
       "      <td>1019</td>\n",
       "      <td>63</td>\n",
       "      <td>15.68</td>\n",
       "      <td>7.47</td>\n",
       "      <td>12</td>\n",
       "      <td>10000</td>\n",
       "      <td>3.84</td>\n",
       "      <td>38</td>\n",
       "      <td>4.20</td>\n",
       "      <td>[{'id': 801, 'main': 'Clouds', 'description': ...</td>\n",
       "      <td>0.0</td>\n",
       "      <td>NaN</td>\n",
       "    </tr>\n",
       "    <tr>\n",
       "      <th>4</th>\n",
       "      <td>1635055200</td>\n",
       "      <td>23.67</td>\n",
       "      <td>23.69</td>\n",
       "      <td>1018</td>\n",
       "      <td>61</td>\n",
       "      <td>15.71</td>\n",
       "      <td>6.00</td>\n",
       "      <td>10</td>\n",
       "      <td>10000</td>\n",
       "      <td>4.03</td>\n",
       "      <td>42</td>\n",
       "      <td>4.57</td>\n",
       "      <td>[{'id': 800, 'main': 'Clear', 'description': '...</td>\n",
       "      <td>0.0</td>\n",
       "      <td>NaN</td>\n",
       "    </tr>\n",
       "  </tbody>\n",
       "</table>\n",
       "</div>"
      ],
      "text/plain": [
       "           dt   temp  feels_like  pressure  humidity  dew_point   uvi  clouds  \\\n",
       "0  1635040800  22.15       22.25      1020        70      16.42  4.25      16   \n",
       "1  1635044400  22.20       22.25      1020        68      16.02  6.38      15   \n",
       "2  1635048000  22.57       22.58      1020        65      15.66  7.62      14   \n",
       "3  1635051600  23.10       23.11      1019        63      15.68  7.47      12   \n",
       "4  1635055200  23.67       23.69      1018        61      15.71  6.00      10   \n",
       "\n",
       "   visibility  wind_speed  wind_deg  wind_gust  \\\n",
       "0       10000        3.09        19       4.14   \n",
       "1       10000        2.86        23       3.70   \n",
       "2       10000        3.06        32       3.65   \n",
       "3       10000        3.84        38       4.20   \n",
       "4       10000        4.03        42       4.57   \n",
       "\n",
       "                                             weather  pop rain  \n",
       "0  [{'id': 801, 'main': 'Clouds', 'description': ...  0.0  NaN  \n",
       "1  [{'id': 801, 'main': 'Clouds', 'description': ...  0.0  NaN  \n",
       "2  [{'id': 801, 'main': 'Clouds', 'description': ...  0.0  NaN  \n",
       "3  [{'id': 801, 'main': 'Clouds', 'description': ...  0.0  NaN  \n",
       "4  [{'id': 800, 'main': 'Clear', 'description': '...  0.0  NaN  "
      ]
     },
     "execution_count": 10,
     "metadata": {},
     "output_type": "execute_result"
    }
   ],
   "source": [
    "df_hourly.head()"
   ]
  },
  {
   "cell_type": "code",
   "execution_count": null,
   "metadata": {},
   "outputs": [],
   "source": []
  }
 ],
 "metadata": {
  "interpreter": {
   "hash": "c1b4cfe941b6d2466ad1fb5979e97da9cda8801728c8091b097ab734208fc00c"
  },
  "kernelspec": {
   "display_name": "Python 3.8.3 64-bit ('base': conda)",
   "name": "python3"
  },
  "language_info": {
   "codemirror_mode": {
    "name": "ipython",
    "version": 3
   },
   "file_extension": ".py",
   "mimetype": "text/x-python",
   "name": "python",
   "nbconvert_exporter": "python",
   "pygments_lexer": "ipython3",
   "version": "3.8.12"
  }
 },
 "nbformat": 4,
 "nbformat_minor": 2
}
