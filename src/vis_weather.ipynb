{
 "cells": [
  {
   "cell_type": "code",
   "execution_count": 1,
   "metadata": {
    "execution": {
     "iopub.execute_input": "2021-10-16T22:11:12.393888Z",
     "iopub.status.busy": "2021-10-16T22:11:12.393359Z",
     "iopub.status.idle": "2021-10-16T22:11:14.706023Z",
     "shell.execute_reply": "2021-10-16T22:11:14.705454Z"
    }
   },
   "outputs": [],
   "source": [
    "import json, yaml, requests\r\n",
    "from datetime import datetime\r\n",
    "from dateutil import tz\r\n",
    "import pandas as pd\r\n",
    "from PIL import Image\r\n",
    "from io import BytesIO\r\n",
    "import matplotlib.pyplot as plt\r\n",
    "import seaborn\r\n",
    "\r\n",
    "CONFIG_PATH = \"../config/config.yaml\""
   ]
  },
  {
   "cell_type": "code",
   "execution_count": 2,
   "metadata": {
    "execution": {
     "iopub.execute_input": "2021-10-16T22:11:14.711334Z",
     "iopub.status.busy": "2021-10-16T22:11:14.710544Z",
     "iopub.status.idle": "2021-10-16T22:11:14.715602Z",
     "shell.execute_reply": "2021-10-16T22:11:14.714952Z"
    }
   },
   "outputs": [],
   "source": [
    "with open('../newest_ts', 'r') as f:\r\n",
    "    newest_ts = f.read()\r\n",
    "\r\n",
    "data_path = f\"../data/data_{newest_ts}.json\"\r\n",
    "with open(data_path, 'r') as f:\r\n",
    "    data = json.load(f)\r\n",
    "\r\n",
    "with open(CONFIG_PATH, \"r\") as stream:\r\n",
    "    config = yaml.safe_load(stream)\r\n",
    "\r\n",
    "TIME_ZONE = config['time_zone']\r\n",
    "DATETIME_FORMAT = config['dt_format']"
   ]
  },
  {
   "cell_type": "code",
   "execution_count": 3,
   "metadata": {
    "execution": {
     "iopub.execute_input": "2021-10-16T22:11:14.719917Z",
     "iopub.status.busy": "2021-10-16T22:11:14.719419Z",
     "iopub.status.idle": "2021-10-16T22:11:14.724362Z",
     "shell.execute_reply": "2021-10-16T22:11:14.724739Z"
    }
   },
   "outputs": [
    {
     "name": "stdout",
     "output_type": "stream",
     "text": [
      "Recent query happens at 2021-10-17 06:11:09 (CST).\n"
     ]
    }
   ],
   "source": [
    "def ts2dt(ts, format=DATETIME_FORMAT):\r\n",
    "    dt = (datetime.utcfromtimestamp(int(ts))\r\n",
    "                    .replace(tzinfo=tz.tzutc())\r\n",
    "                    # .astimezone(tz.tzlocal())\r\n",
    "                    .astimezone(tz.gettz(TIME_ZONE)))\r\n",
    "    return dt.strftime(format), dt\r\n",
    "\r\n",
    "_, newest_dt = ts2dt(newest_ts)\r\n",
    "print(f\"Recent query happens at {newest_dt.strftime(DATETIME_FORMAT)} ({newest_dt.tzname()}).\")"
   ]
  },
  {
   "cell_type": "code",
   "execution_count": 4,
   "metadata": {
    "execution": {
     "iopub.execute_input": "2021-10-16T22:11:14.729437Z",
     "iopub.status.busy": "2021-10-16T22:11:14.728413Z",
     "iopub.status.idle": "2021-10-16T22:11:14.729968Z",
     "shell.execute_reply": "2021-10-16T22:11:14.730335Z"
    }
   },
   "outputs": [],
   "source": [
    "def degrees_to_cardinal(d):\r\n",
    "  dirs = ['N', 'NNE', 'NE', 'ENE', 'E', 'ESE', 'SE', 'SSE', 'S', 'SSW', 'SW', 'WSW', 'W', 'WNW', 'NW', 'NNW']\r\n",
    "  ix = int(round(d / (360. / len(dirs))))\r\n",
    "  return dirs[ix % len(dirs)]"
   ]
  },
  {
   "cell_type": "code",
   "execution_count": 5,
   "metadata": {
    "execution": {
     "iopub.execute_input": "2021-10-16T22:11:14.734320Z",
     "iopub.status.busy": "2021-10-16T22:11:14.733164Z",
     "iopub.status.idle": "2021-10-16T22:11:14.734844Z",
     "shell.execute_reply": "2021-10-16T22:11:14.735238Z"
    }
   },
   "outputs": [],
   "source": [
    "# data.keys()"
   ]
  },
  {
   "cell_type": "code",
   "execution_count": 6,
   "metadata": {
    "execution": {
     "iopub.execute_input": "2021-10-16T22:11:14.738953Z",
     "iopub.status.busy": "2021-10-16T22:11:14.737849Z",
     "iopub.status.idle": "2021-10-16T22:11:14.739502Z",
     "shell.execute_reply": "2021-10-16T22:11:14.739870Z"
    }
   },
   "outputs": [],
   "source": [
    "# data['current']"
   ]
  },
  {
   "cell_type": "code",
   "execution_count": 7,
   "metadata": {
    "execution": {
     "iopub.execute_input": "2021-10-16T22:11:14.756449Z",
     "iopub.status.busy": "2021-10-16T22:11:14.755941Z",
     "iopub.status.idle": "2021-10-16T22:11:15.133057Z",
     "shell.execute_reply": "2021-10-16T22:11:15.133739Z"
    }
   },
   "outputs": [
    {
     "data": {
      "image/png": "[encoded data removed]",
      "text/plain": [
       "<Figure size 216x216 with 1 Axes>"
      ]
     },
     "metadata": {
      "needs_background": "light"
     },
     "output_type": "display_data"
    },
    {
     "name": "stdout",
     "output_type": "stream",
     "text": [
      "Today, sun rises at 06:19 and sets at 17:56.\n",
      "Currently, the weather is Clouds (scattered clouds).\n",
      "The temperature is 22.57°C and it feels like 22.92°C.\n",
      "The UV index is 0, humidity is 78%.\n",
      "The pressure is 1016 hPa, percentage of cloud cover is 45%\n",
      "The wind comes from NE direction with a speed 0.89 m/s.\n"
     ]
    }
   ],
   "source": [
    "current = data['current']\r\n",
    "\r\n",
    "fig, ax = plt.subplots(figsize=(3, 3))\r\n",
    "icon = requests.get(f\"http://openweathermap.org/img/wn/{current['weather'][0]['icon']}@2x.png\")\r\n",
    "im = Image.open(BytesIO(icon.content))\r\n",
    "plt.imshow(im)\r\n",
    "ax.set_axis_off()\r\n",
    "plt.show()\r\n",
    "\r\n",
    "print(f\"Today, sun rises at {ts2dt(current['sunrise'], '%H:%M')[0]} \\\r\n",
    "and sets at {ts2dt(current['sunset'], '%H:%M')[0]}.\\n\\\r\n",
    "Currently, the weather is {current['weather'][0]['main']} ({current['weather'][0]['description']}).\\n\\\r\n",
    "The temperature is {current['temp']}°C and it feels like {current['feels_like']}°C.\\n\\\r\n",
    "The UV index is {current['uvi']}, humidity is {current['humidity']}%.\\n\\\r\n",
    "The pressure is {current['pressure']} hPa, percentage of cloud cover is {current['clouds']}%\\n\\\r\n",
    "The wind comes from {degrees_to_cardinal(current['wind_deg'])} direction with a speed {current['wind_speed']} m/s.\")"
   ]
  },
  {
   "cell_type": "code",
   "execution_count": 8,
   "metadata": {
    "execution": {
     "iopub.execute_input": "2021-10-16T22:11:15.136950Z",
     "iopub.status.busy": "2021-10-16T22:11:15.136021Z",
     "iopub.status.idle": "2021-10-16T22:11:15.142820Z",
     "shell.execute_reply": "2021-10-16T22:11:15.143489Z"
    }
   },
   "outputs": [],
   "source": [
    "df_hourly = pd.DataFrame(data['hourly'])\r\n",
    "df_daily = pd.DataFrame(data['daily'])"
   ]
  },
  {
   "cell_type": "code",
   "execution_count": 9,
   "metadata": {
    "execution": {
     "iopub.execute_input": "2021-10-16T22:11:15.146471Z",
     "iopub.status.busy": "2021-10-16T22:11:15.145529Z",
     "iopub.status.idle": "2021-10-16T22:11:15.395790Z",
     "shell.execute_reply": "2021-10-16T22:11:15.395351Z"
    }
   },
   "outputs": [
    {
     "data": {
      "image/png": "[encoded data removed]",
      "text/plain": [
       "<Figure size 864x432 with 1 Axes>"
      ]
     },
     "metadata": {
      "needs_background": "light"
     },
     "output_type": "display_data"
    }
   ],
   "source": [
    "fig, ax = plt.subplots(figsize=(12, 6))\r\n",
    "plt.plot(df_hourly.temp, '.-', label='Temperature')\r\n",
    "plt.plot(df_hourly.feels_like, '.-', label='Feels Like')\r\n",
    "ax.set(title='Temperature in future 48 hours', xlabel='Time', ylabel='Temperature')\r\n",
    "ax.set_xticks(list(range(0, len(df_hourly), 2)))\r\n",
    "ax.set_xticklabels([ts2dt(ts, '%m-%d %H:%M')[0] for i, ts in enumerate(df_hourly.dt) if i%2==0], \r\n",
    "                   rotation=45, ha=\"right\")\r\n",
    "ax.locator_params(nbins=15, axis='y')\r\n",
    "plt.legend()\r\n",
    "plt.show()"
   ]
  },
  {
   "cell_type": "code",
   "execution_count": 10,
   "metadata": {
    "execution": {
     "iopub.execute_input": "2021-10-16T22:11:15.406377Z",
     "iopub.status.busy": "2021-10-16T22:11:15.399545Z",
     "iopub.status.idle": "2021-10-16T22:11:15.417096Z",
     "shell.execute_reply": "2021-10-16T22:11:15.416699Z"
    }
   },
   "outputs": [
    {
     "data": {
      "text/html": [
       "<div>\n",
       "<style scoped>\n",
       "    .dataframe tbody tr th:only-of-type {\n",
       "        vertical-align: middle;\n",
       "    }\n",
       "\n",
       "    .dataframe tbody tr th {\n",
       "        vertical-align: top;\n",
       "    }\n",
       "\n",
       "    .dataframe thead th {\n",
       "        text-align: right;\n",
       "    }\n",
       "</style>\n",
       "<table border=\"1\" class=\"dataframe\">\n",
       "  <thead>\n",
       "    <tr style=\"text-align: right;\">\n",
       "      <th></th>\n",
       "      <th>dt</th>\n",
       "      <th>temp</th>\n",
       "      <th>feels_like</th>\n",
       "      <th>pressure</th>\n",
       "      <th>humidity</th>\n",
       "      <th>dew_point</th>\n",
       "      <th>uvi</th>\n",
       "      <th>clouds</th>\n",
       "      <th>visibility</th>\n",
       "      <th>wind_speed</th>\n",
       "      <th>wind_deg</th>\n",
       "      <th>wind_gust</th>\n",
       "      <th>weather</th>\n",
       "      <th>pop</th>\n",
       "    </tr>\n",
       "  </thead>\n",
       "  <tbody>\n",
       "    <tr>\n",
       "      <th>0</th>\n",
       "      <td>1634421600</td>\n",
       "      <td>22.57</td>\n",
       "      <td>22.92</td>\n",
       "      <td>1016</td>\n",
       "      <td>78</td>\n",
       "      <td>18.54</td>\n",
       "      <td>0.00</td>\n",
       "      <td>45</td>\n",
       "      <td>10000</td>\n",
       "      <td>5.12</td>\n",
       "      <td>27</td>\n",
       "      <td>8.80</td>\n",
       "      <td>[{'id': 802, 'main': 'Clouds', 'description': ...</td>\n",
       "      <td>0.03</td>\n",
       "    </tr>\n",
       "    <tr>\n",
       "      <th>1</th>\n",
       "      <td>1634425200</td>\n",
       "      <td>22.20</td>\n",
       "      <td>22.51</td>\n",
       "      <td>1017</td>\n",
       "      <td>78</td>\n",
       "      <td>18.18</td>\n",
       "      <td>0.00</td>\n",
       "      <td>47</td>\n",
       "      <td>10000</td>\n",
       "      <td>5.02</td>\n",
       "      <td>24</td>\n",
       "      <td>8.57</td>\n",
       "      <td>[{'id': 802, 'main': 'Clouds', 'description': ...</td>\n",
       "      <td>0.05</td>\n",
       "    </tr>\n",
       "    <tr>\n",
       "      <th>2</th>\n",
       "      <td>1634428800</td>\n",
       "      <td>21.97</td>\n",
       "      <td>22.23</td>\n",
       "      <td>1017</td>\n",
       "      <td>77</td>\n",
       "      <td>17.76</td>\n",
       "      <td>0.72</td>\n",
       "      <td>50</td>\n",
       "      <td>10000</td>\n",
       "      <td>5.36</td>\n",
       "      <td>27</td>\n",
       "      <td>9.55</td>\n",
       "      <td>[{'id': 802, 'main': 'Clouds', 'description': ...</td>\n",
       "      <td>0.05</td>\n",
       "    </tr>\n",
       "    <tr>\n",
       "      <th>3</th>\n",
       "      <td>1634432400</td>\n",
       "      <td>22.37</td>\n",
       "      <td>22.62</td>\n",
       "      <td>1018</td>\n",
       "      <td>75</td>\n",
       "      <td>17.72</td>\n",
       "      <td>2.34</td>\n",
       "      <td>35</td>\n",
       "      <td>10000</td>\n",
       "      <td>6.09</td>\n",
       "      <td>36</td>\n",
       "      <td>10.76</td>\n",
       "      <td>[{'id': 802, 'main': 'Clouds', 'description': ...</td>\n",
       "      <td>0.03</td>\n",
       "    </tr>\n",
       "    <tr>\n",
       "      <th>4</th>\n",
       "      <td>1634436000</td>\n",
       "      <td>22.88</td>\n",
       "      <td>23.10</td>\n",
       "      <td>1019</td>\n",
       "      <td>72</td>\n",
       "      <td>17.57</td>\n",
       "      <td>4.69</td>\n",
       "      <td>26</td>\n",
       "      <td>10000</td>\n",
       "      <td>6.43</td>\n",
       "      <td>42</td>\n",
       "      <td>10.74</td>\n",
       "      <td>[{'id': 802, 'main': 'Clouds', 'description': ...</td>\n",
       "      <td>0.03</td>\n",
       "    </tr>\n",
       "  </tbody>\n",
       "</table>\n",
       "</div>"
      ],
      "text/plain": [
       "           dt   temp  feels_like  pressure  humidity  dew_point   uvi  clouds  \\\n",
       "0  1634421600  22.57       22.92      1016        78      18.54  0.00      45   \n",
       "1  1634425200  22.20       22.51      1017        78      18.18  0.00      47   \n",
       "2  1634428800  21.97       22.23      1017        77      17.76  0.72      50   \n",
       "3  1634432400  22.37       22.62      1018        75      17.72  2.34      35   \n",
       "4  1634436000  22.88       23.10      1019        72      17.57  4.69      26   \n",
       "\n",
       "   visibility  wind_speed  wind_deg  wind_gust  \\\n",
       "0       10000        5.12        27       8.80   \n",
       "1       10000        5.02        24       8.57   \n",
       "2       10000        5.36        27       9.55   \n",
       "3       10000        6.09        36      10.76   \n",
       "4       10000        6.43        42      10.74   \n",
       "\n",
       "                                             weather   pop  \n",
       "0  [{'id': 802, 'main': 'Clouds', 'description': ...  0.03  \n",
       "1  [{'id': 802, 'main': 'Clouds', 'description': ...  0.05  \n",
       "2  [{'id': 802, 'main': 'Clouds', 'description': ...  0.05  \n",
       "3  [{'id': 802, 'main': 'Clouds', 'description': ...  0.03  \n",
       "4  [{'id': 802, 'main': 'Clouds', 'description': ...  0.03  "
      ]
     },
     "execution_count": 10,
     "metadata": {},
     "output_type": "execute_result"
    }
   ],
   "source": [
    "df_hourly.head()"
   ]
  },
  {
   "cell_type": "code",
   "execution_count": null,
   "metadata": {},
   "outputs": [],
   "source": []
  }
 ],
 "metadata": {
  "interpreter": {
   "hash": "c1b4cfe941b6d2466ad1fb5979e97da9cda8801728c8091b097ab734208fc00c"
  },
  "kernelspec": {
   "display_name": "Python 3.8.3 64-bit ('base': conda)",
   "name": "python3"
  },
  "language_info": {
   "codemirror_mode": {
    "name": "ipython",
    "version": 3
   },
   "file_extension": ".py",
   "mimetype": "text/x-python",
   "name": "python",
   "nbconvert_exporter": "python",
   "pygments_lexer": "ipython3",
   "version": "3.8.12"
  }
 },
 "nbformat": 4,
 "nbformat_minor": 2
}
