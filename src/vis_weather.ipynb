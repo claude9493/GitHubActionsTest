{
 "cells": [
  {
   "cell_type": "code",
   "execution_count": 1,
   "metadata": {
    "execution": {
     "iopub.execute_input": "2021-08-29T15:15:54.988728Z",
     "iopub.status.busy": "2021-08-29T15:15:54.988106Z",
     "iopub.status.idle": "2021-08-29T15:15:56.524140Z",
     "shell.execute_reply": "2021-08-29T15:15:56.523175Z"
    }
   },
   "outputs": [],
   "source": [
    "import json, yaml, requests\r\n",
    "from datetime import datetime\r\n",
    "from dateutil import tz\r\n",
    "import pandas as pd\r\n",
    "from PIL import Image\r\n",
    "from io import BytesIO\r\n",
    "import matplotlib.pyplot as plt\r\n",
    "import seaborn\r\n",
    "\r\n",
    "CONFIG_PATH = \"../config/config.yaml\""
   ]
  },
  {
   "cell_type": "code",
   "execution_count": 2,
   "metadata": {
    "execution": {
     "iopub.execute_input": "2021-08-29T15:15:56.532211Z",
     "iopub.status.busy": "2021-08-29T15:15:56.529122Z",
     "iopub.status.idle": "2021-08-29T15:15:56.535091Z",
     "shell.execute_reply": "2021-08-29T15:15:56.534645Z"
    }
   },
   "outputs": [],
   "source": [
    "with open('../newest_ts', 'r') as f:\r\n",
    "    newest_ts = f.read()\r\n",
    "\r\n",
    "data_path = f\"../data/data_{newest_ts}.json\"\r\n",
    "with open(data_path, 'r') as f:\r\n",
    "    data = json.load(f)\r\n",
    "\r\n",
    "with open(CONFIG_PATH, \"r\") as stream:\r\n",
    "    config = yaml.safe_load(stream)\r\n",
    "\r\n",
    "TIME_ZONE = config['time_zone']\r\n",
    "DATETIME_FORMAT = config['dt_format']"
   ]
  },
  {
   "cell_type": "code",
   "execution_count": 3,
   "metadata": {
    "execution": {
     "iopub.execute_input": "2021-08-29T15:15:56.541233Z",
     "iopub.status.busy": "2021-08-29T15:15:56.539500Z",
     "iopub.status.idle": "2021-08-29T15:15:56.544056Z",
     "shell.execute_reply": "2021-08-29T15:15:56.544493Z"
    }
   },
   "outputs": [
    {
     "name": "stdout",
     "output_type": "stream",
     "text": [
      "Recent query happens at 2021-08-29 23:15:52 (CST).\n"
     ]
    }
   ],
   "source": [
    "def ts2dt(ts, format=DATETIME_FORMAT):\r\n",
    "    dt = (datetime.utcfromtimestamp(int(ts))\r\n",
    "                    .replace(tzinfo=tz.tzutc())\r\n",
    "                    # .astimezone(tz.tzlocal())\r\n",
    "                    .astimezone(tz.gettz(TIME_ZONE)))\r\n",
    "    return dt.strftime(format), dt\r\n",
    "\r\n",
    "_, newest_dt = ts2dt(newest_ts)\r\n",
    "print(f\"Recent query happens at {newest_dt.strftime(DATETIME_FORMAT)} ({newest_dt.tzname()}).\")"
   ]
  },
  {
   "cell_type": "code",
   "execution_count": 4,
   "metadata": {
    "execution": {
     "iopub.execute_input": "2021-08-29T15:15:56.550188Z",
     "iopub.status.busy": "2021-08-29T15:15:56.549004Z",
     "iopub.status.idle": "2021-08-29T15:15:56.550788Z",
     "shell.execute_reply": "2021-08-29T15:15:56.551214Z"
    }
   },
   "outputs": [],
   "source": [
    "def degrees_to_cardinal(d):\r\n",
    "  dirs = ['N', 'NNE', 'NE', 'ENE', 'E', 'ESE', 'SE', 'SSE', 'S', 'SSW', 'SW', 'WSW', 'W', 'WNW', 'NW', 'NNW']\r\n",
    "  ix = int(round(d / (360. / len(dirs))))\r\n",
    "  return dirs[ix % len(dirs)]"
   ]
  },
  {
   "cell_type": "code",
   "execution_count": 5,
   "metadata": {
    "execution": {
     "iopub.execute_input": "2021-08-29T15:15:56.556020Z",
     "iopub.status.busy": "2021-08-29T15:15:56.554728Z",
     "iopub.status.idle": "2021-08-29T15:15:56.556622Z",
     "shell.execute_reply": "2021-08-29T15:15:56.557084Z"
    }
   },
   "outputs": [],
   "source": [
    "# data.keys()"
   ]
  },
  {
   "cell_type": "code",
   "execution_count": 6,
   "metadata": {
    "execution": {
     "iopub.execute_input": "2021-08-29T15:15:56.561476Z",
     "iopub.status.busy": "2021-08-29T15:15:56.560149Z",
     "iopub.status.idle": "2021-08-29T15:15:56.562086Z",
     "shell.execute_reply": "2021-08-29T15:15:56.562514Z"
    }
   },
   "outputs": [],
   "source": [
    "# data['current']"
   ]
  },
  {
   "cell_type": "code",
   "execution_count": 7,
   "metadata": {
    "execution": {
     "iopub.execute_input": "2021-08-29T15:15:56.569671Z",
     "iopub.status.busy": "2021-08-29T15:15:56.569103Z",
     "iopub.status.idle": "2021-08-29T15:15:56.873437Z",
     "shell.execute_reply": "2021-08-29T15:15:56.874188Z"
    }
   },
   "outputs": [
    {
     "data": {
      "image/png": "[encoded data removed]",
      "text/plain": [
       "<Figure size 216x216 with 1 Axes>"
      ]
     },
     "metadata": {
      "needs_background": "light"
     },
     "output_type": "display_data"
    },
    {
     "name": "stdout",
     "output_type": "stream",
     "text": [
      "Today, sun rises at 06:04 and sets at 18:43.\n",
      "Currently, the weather is Clouds (broken clouds).\n",
      "The temperature is 29.22°C and it feels like 36.22°C.\n",
      "The UV index is 0, humidity is 85%.\n",
      "The pressure is 1012 hPa, percentage of cloud cover is 79%\n",
      "The wind comes from E direction with a speed 5.5 m/s.\n"
     ]
    }
   ],
   "source": [
    "current = data['current']\r\n",
    "\r\n",
    "fig, ax = plt.subplots(figsize=(3, 3))\r\n",
    "icon = requests.get(f\"http://openweathermap.org/img/wn/{current['weather'][0]['icon']}@2x.png\")\r\n",
    "im = Image.open(BytesIO(icon.content))\r\n",
    "plt.imshow(im)\r\n",
    "ax.set_axis_off()\r\n",
    "plt.show()\r\n",
    "\r\n",
    "print(f\"Today, sun rises at {ts2dt(current['sunrise'], '%H:%M')[0]} \\\r\n",
    "and sets at {ts2dt(current['sunset'], '%H:%M')[0]}.\\n\\\r\n",
    "Currently, the weather is {current['weather'][0]['main']} ({current['weather'][0]['description']}).\\n\\\r\n",
    "The temperature is {current['temp']}°C and it feels like {current['feels_like']}°C.\\n\\\r\n",
    "The UV index is {current['uvi']}, humidity is {current['humidity']}%.\\n\\\r\n",
    "The pressure is {current['pressure']} hPa, percentage of cloud cover is {current['clouds']}%\\n\\\r\n",
    "The wind comes from {degrees_to_cardinal(current['wind_deg'])} direction with a speed {current['wind_speed']} m/s.\")"
   ]
  },
  {
   "cell_type": "code",
   "execution_count": 8,
   "metadata": {
    "execution": {
     "iopub.execute_input": "2021-08-29T15:15:56.882642Z",
     "iopub.status.busy": "2021-08-29T15:15:56.881119Z",
     "iopub.status.idle": "2021-08-29T15:15:56.885188Z",
     "shell.execute_reply": "2021-08-29T15:15:56.885869Z"
    }
   },
   "outputs": [],
   "source": [
    "df_hourly = pd.DataFrame(data['hourly'])\r\n",
    "df_daily = pd.DataFrame(data['daily'])"
   ]
  },
  {
   "cell_type": "code",
   "execution_count": 9,
   "metadata": {
    "execution": {
     "iopub.execute_input": "2021-08-29T15:15:56.904501Z",
     "iopub.status.busy": "2021-08-29T15:15:56.900844Z",
     "iopub.status.idle": "2021-08-29T15:15:57.172336Z",
     "shell.execute_reply": "2021-08-29T15:15:57.171864Z"
    }
   },
   "outputs": [
    {
     "data": {
      "image/png": "[encoded data removed]",
      "text/plain": [
       "<Figure size 864x432 with 1 Axes>"
      ]
     },
     "metadata": {
      "needs_background": "light"
     },
     "output_type": "display_data"
    }
   ],
   "source": [
    "fig, ax = plt.subplots(figsize=(12, 6))\r\n",
    "plt.plot(df_hourly.temp, '.-', label='Temperature')\r\n",
    "plt.plot(df_hourly.feels_like, '.-', label='Feels Like')\r\n",
    "ax.set(title='Temperature in future 48 hours', xlabel='Time', ylabel='Temperature')\r\n",
    "ax.set_xticks(list(range(0, len(df_hourly), 2)))\r\n",
    "ax.set_xticklabels([ts2dt(ts, '%m-%d %H:%M')[0] for i, ts in enumerate(df_hourly.dt) if i%2==0], \r\n",
    "                   rotation=45, ha=\"right\")\r\n",
    "ax.locator_params(nbins=15, axis='y')\r\n",
    "plt.legend()\r\n",
    "plt.show()"
   ]
  },
  {
   "cell_type": "code",
   "execution_count": 10,
   "metadata": {
    "execution": {
     "iopub.execute_input": "2021-08-29T15:15:57.184743Z",
     "iopub.status.busy": "2021-08-29T15:15:57.176508Z",
     "iopub.status.idle": "2021-08-29T15:15:57.196403Z",
     "shell.execute_reply": "2021-08-29T15:15:57.195943Z"
    }
   },
   "outputs": [
    {
     "data": {
      "text/html": [
       "<div>\n",
       "<style scoped>\n",
       "    .dataframe tbody tr th:only-of-type {\n",
       "        vertical-align: middle;\n",
       "    }\n",
       "\n",
       "    .dataframe tbody tr th {\n",
       "        vertical-align: top;\n",
       "    }\n",
       "\n",
       "    .dataframe thead th {\n",
       "        text-align: right;\n",
       "    }\n",
       "</style>\n",
       "<table border=\"1\" class=\"dataframe\">\n",
       "  <thead>\n",
       "    <tr style=\"text-align: right;\">\n",
       "      <th></th>\n",
       "      <th>dt</th>\n",
       "      <th>temp</th>\n",
       "      <th>feels_like</th>\n",
       "      <th>pressure</th>\n",
       "      <th>humidity</th>\n",
       "      <th>dew_point</th>\n",
       "      <th>uvi</th>\n",
       "      <th>clouds</th>\n",
       "      <th>visibility</th>\n",
       "      <th>wind_speed</th>\n",
       "      <th>wind_deg</th>\n",
       "      <th>wind_gust</th>\n",
       "      <th>weather</th>\n",
       "      <th>pop</th>\n",
       "      <th>rain</th>\n",
       "    </tr>\n",
       "  </thead>\n",
       "  <tbody>\n",
       "    <tr>\n",
       "      <th>0</th>\n",
       "      <td>1630249200</td>\n",
       "      <td>29.22</td>\n",
       "      <td>36.22</td>\n",
       "      <td>1012</td>\n",
       "      <td>85</td>\n",
       "      <td>26.43</td>\n",
       "      <td>0.0</td>\n",
       "      <td>79</td>\n",
       "      <td>10000</td>\n",
       "      <td>5.50</td>\n",
       "      <td>94</td>\n",
       "      <td>8.32</td>\n",
       "      <td>[{'id': 803, 'main': 'Clouds', 'description': ...</td>\n",
       "      <td>0.20</td>\n",
       "      <td>NaN</td>\n",
       "    </tr>\n",
       "    <tr>\n",
       "      <th>1</th>\n",
       "      <td>1630252800</td>\n",
       "      <td>28.95</td>\n",
       "      <td>35.48</td>\n",
       "      <td>1012</td>\n",
       "      <td>84</td>\n",
       "      <td>25.97</td>\n",
       "      <td>0.0</td>\n",
       "      <td>79</td>\n",
       "      <td>10000</td>\n",
       "      <td>5.65</td>\n",
       "      <td>94</td>\n",
       "      <td>8.38</td>\n",
       "      <td>[{'id': 803, 'main': 'Clouds', 'description': ...</td>\n",
       "      <td>0.17</td>\n",
       "      <td>NaN</td>\n",
       "    </tr>\n",
       "    <tr>\n",
       "      <th>2</th>\n",
       "      <td>1630256400</td>\n",
       "      <td>28.69</td>\n",
       "      <td>34.92</td>\n",
       "      <td>1012</td>\n",
       "      <td>85</td>\n",
       "      <td>25.92</td>\n",
       "      <td>0.0</td>\n",
       "      <td>79</td>\n",
       "      <td>10000</td>\n",
       "      <td>5.09</td>\n",
       "      <td>97</td>\n",
       "      <td>7.64</td>\n",
       "      <td>[{'id': 803, 'main': 'Clouds', 'description': ...</td>\n",
       "      <td>0.17</td>\n",
       "      <td>NaN</td>\n",
       "    </tr>\n",
       "    <tr>\n",
       "      <th>3</th>\n",
       "      <td>1630260000</td>\n",
       "      <td>28.39</td>\n",
       "      <td>34.02</td>\n",
       "      <td>1011</td>\n",
       "      <td>85</td>\n",
       "      <td>25.62</td>\n",
       "      <td>0.0</td>\n",
       "      <td>78</td>\n",
       "      <td>10000</td>\n",
       "      <td>4.51</td>\n",
       "      <td>98</td>\n",
       "      <td>6.79</td>\n",
       "      <td>[{'id': 803, 'main': 'Clouds', 'description': ...</td>\n",
       "      <td>0.12</td>\n",
       "      <td>NaN</td>\n",
       "    </tr>\n",
       "    <tr>\n",
       "      <th>4</th>\n",
       "      <td>1630263600</td>\n",
       "      <td>27.94</td>\n",
       "      <td>32.73</td>\n",
       "      <td>1011</td>\n",
       "      <td>85</td>\n",
       "      <td>25.18</td>\n",
       "      <td>0.0</td>\n",
       "      <td>76</td>\n",
       "      <td>10000</td>\n",
       "      <td>4.08</td>\n",
       "      <td>95</td>\n",
       "      <td>6.08</td>\n",
       "      <td>[{'id': 803, 'main': 'Clouds', 'description': ...</td>\n",
       "      <td>0.10</td>\n",
       "      <td>NaN</td>\n",
       "    </tr>\n",
       "  </tbody>\n",
       "</table>\n",
       "</div>"
      ],
      "text/plain": [
       "           dt   temp  feels_like  pressure  humidity  dew_point  uvi  clouds  \\\n",
       "0  1630249200  29.22       36.22      1012        85      26.43  0.0      79   \n",
       "1  1630252800  28.95       35.48      1012        84      25.97  0.0      79   \n",
       "2  1630256400  28.69       34.92      1012        85      25.92  0.0      79   \n",
       "3  1630260000  28.39       34.02      1011        85      25.62  0.0      78   \n",
       "4  1630263600  27.94       32.73      1011        85      25.18  0.0      76   \n",
       "\n",
       "   visibility  wind_speed  wind_deg  wind_gust  \\\n",
       "0       10000        5.50        94       8.32   \n",
       "1       10000        5.65        94       8.38   \n",
       "2       10000        5.09        97       7.64   \n",
       "3       10000        4.51        98       6.79   \n",
       "4       10000        4.08        95       6.08   \n",
       "\n",
       "                                             weather   pop rain  \n",
       "0  [{'id': 803, 'main': 'Clouds', 'description': ...  0.20  NaN  \n",
       "1  [{'id': 803, 'main': 'Clouds', 'description': ...  0.17  NaN  \n",
       "2  [{'id': 803, 'main': 'Clouds', 'description': ...  0.17  NaN  \n",
       "3  [{'id': 803, 'main': 'Clouds', 'description': ...  0.12  NaN  \n",
       "4  [{'id': 803, 'main': 'Clouds', 'description': ...  0.10  NaN  "
      ]
     },
     "execution_count": 10,
     "metadata": {},
     "output_type": "execute_result"
    }
   ],
   "source": [
    "df_hourly.head()"
   ]
  },
  {
   "cell_type": "code",
   "execution_count": null,
   "metadata": {},
   "outputs": [],
   "source": []
  }
 ],
 "metadata": {
  "interpreter": {
   "hash": "c1b4cfe941b6d2466ad1fb5979e97da9cda8801728c8091b097ab734208fc00c"
  },
  "kernelspec": {
   "display_name": "Python 3.8.3 64-bit ('base': conda)",
   "name": "python3"
  },
  "language_info": {
   "codemirror_mode": {
    "name": "ipython",
    "version": 3
   },
   "file_extension": ".py",
   "mimetype": "text/x-python",
   "name": "python",
   "nbconvert_exporter": "python",
   "pygments_lexer": "ipython3",
   "version": "3.8.11"
  }
 },
 "nbformat": 4,
 "nbformat_minor": 2
}
