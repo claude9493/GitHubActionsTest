{
 "cells": [
  {
   "cell_type": "code",
   "execution_count": 1,
   "metadata": {
    "execution": {
     "iopub.execute_input": "2021-10-15T07:11:56.382959Z",
     "iopub.status.busy": "2021-10-15T07:11:56.382411Z",
     "iopub.status.idle": "2021-10-15T07:11:59.287088Z",
     "shell.execute_reply": "2021-10-15T07:11:59.286441Z"
    }
   },
   "outputs": [],
   "source": [
    "import json, yaml, requests\r\n",
    "from datetime import datetime\r\n",
    "from dateutil import tz\r\n",
    "import pandas as pd\r\n",
    "from PIL import Image\r\n",
    "from io import BytesIO\r\n",
    "import matplotlib.pyplot as plt\r\n",
    "import seaborn\r\n",
    "\r\n",
    "CONFIG_PATH = \"../config/config.yaml\""
   ]
  },
  {
   "cell_type": "code",
   "execution_count": 2,
   "metadata": {
    "execution": {
     "iopub.execute_input": "2021-10-15T07:11:59.294583Z",
     "iopub.status.busy": "2021-10-15T07:11:59.291596Z",
     "iopub.status.idle": "2021-10-15T07:11:59.297101Z",
     "shell.execute_reply": "2021-10-15T07:11:59.296707Z"
    }
   },
   "outputs": [],
   "source": [
    "with open('../newest_ts', 'r') as f:\r\n",
    "    newest_ts = f.read()\r\n",
    "\r\n",
    "data_path = f\"../data/data_{newest_ts}.json\"\r\n",
    "with open(data_path, 'r') as f:\r\n",
    "    data = json.load(f)\r\n",
    "\r\n",
    "with open(CONFIG_PATH, \"r\") as stream:\r\n",
    "    config = yaml.safe_load(stream)\r\n",
    "\r\n",
    "TIME_ZONE = config['time_zone']\r\n",
    "DATETIME_FORMAT = config['dt_format']"
   ]
  },
  {
   "cell_type": "code",
   "execution_count": 3,
   "metadata": {
    "execution": {
     "iopub.execute_input": "2021-10-15T07:11:59.301446Z",
     "iopub.status.busy": "2021-10-15T07:11:59.300920Z",
     "iopub.status.idle": "2021-10-15T07:11:59.306295Z",
     "shell.execute_reply": "2021-10-15T07:11:59.306668Z"
    }
   },
   "outputs": [
    {
     "name": "stdout",
     "output_type": "stream",
     "text": [
      "Recent query happens at 2021-10-15 15:11:53 (CST).\n"
     ]
    }
   ],
   "source": [
    "def ts2dt(ts, format=DATETIME_FORMAT):\r\n",
    "    dt = (datetime.utcfromtimestamp(int(ts))\r\n",
    "                    .replace(tzinfo=tz.tzutc())\r\n",
    "                    # .astimezone(tz.tzlocal())\r\n",
    "                    .astimezone(tz.gettz(TIME_ZONE)))\r\n",
    "    return dt.strftime(format), dt\r\n",
    "\r\n",
    "_, newest_dt = ts2dt(newest_ts)\r\n",
    "print(f\"Recent query happens at {newest_dt.strftime(DATETIME_FORMAT)} ({newest_dt.tzname()}).\")"
   ]
  },
  {
   "cell_type": "code",
   "execution_count": 4,
   "metadata": {
    "execution": {
     "iopub.execute_input": "2021-10-15T07:11:59.311554Z",
     "iopub.status.busy": "2021-10-15T07:11:59.310524Z",
     "iopub.status.idle": "2021-10-15T07:11:59.312075Z",
     "shell.execute_reply": "2021-10-15T07:11:59.312435Z"
    }
   },
   "outputs": [],
   "source": [
    "def degrees_to_cardinal(d):\r\n",
    "  dirs = ['N', 'NNE', 'NE', 'ENE', 'E', 'ESE', 'SE', 'SSE', 'S', 'SSW', 'SW', 'WSW', 'W', 'WNW', 'NW', 'NNW']\r\n",
    "  ix = int(round(d / (360. / len(dirs))))\r\n",
    "  return dirs[ix % len(dirs)]"
   ]
  },
  {
   "cell_type": "code",
   "execution_count": 5,
   "metadata": {
    "execution": {
     "iopub.execute_input": "2021-10-15T07:11:59.316386Z",
     "iopub.status.busy": "2021-10-15T07:11:59.315306Z",
     "iopub.status.idle": "2021-10-15T07:11:59.317000Z",
     "shell.execute_reply": "2021-10-15T07:11:59.317388Z"
    }
   },
   "outputs": [],
   "source": [
    "# data.keys()"
   ]
  },
  {
   "cell_type": "code",
   "execution_count": 6,
   "metadata": {
    "execution": {
     "iopub.execute_input": "2021-10-15T07:11:59.321082Z",
     "iopub.status.busy": "2021-10-15T07:11:59.319979Z",
     "iopub.status.idle": "2021-10-15T07:11:59.321627Z",
     "shell.execute_reply": "2021-10-15T07:11:59.321989Z"
    }
   },
   "outputs": [],
   "source": [
    "# data['current']"
   ]
  },
  {
   "cell_type": "code",
   "execution_count": 7,
   "metadata": {
    "execution": {
     "iopub.execute_input": "2021-10-15T07:11:59.337111Z",
     "iopub.status.busy": "2021-10-15T07:11:59.336640Z",
     "iopub.status.idle": "2021-10-15T07:11:59.613118Z",
     "shell.execute_reply": "2021-10-15T07:11:59.613818Z"
    }
   },
   "outputs": [
    {
     "data": {
      "image/png": "[encoded data removed]",
      "text/plain": [
       "<Figure size 216x216 with 1 Axes>"
      ]
     },
     "metadata": {
      "needs_background": "light"
     },
     "output_type": "display_data"
    },
    {
     "name": "stdout",
     "output_type": "stream",
     "text": [
      "Today, sun rises at 06:18 and sets at 17:58.\n",
      "Currently, the weather is Rain (light rain).\n",
      "The temperature is 25.95°C and it feels like 25.95°C.\n",
      "The UV index is 0.38, humidity is 91%.\n",
      "The pressure is 1008 hPa, percentage of cloud cover is 100%\n",
      "The wind comes from NNE direction with a speed 0.45 m/s.\n"
     ]
    }
   ],
   "source": [
    "current = data['current']\r\n",
    "\r\n",
    "fig, ax = plt.subplots(figsize=(3, 3))\r\n",
    "icon = requests.get(f\"http://openweathermap.org/img/wn/{current['weather'][0]['icon']}@2x.png\")\r\n",
    "im = Image.open(BytesIO(icon.content))\r\n",
    "plt.imshow(im)\r\n",
    "ax.set_axis_off()\r\n",
    "plt.show()\r\n",
    "\r\n",
    "print(f\"Today, sun rises at {ts2dt(current['sunrise'], '%H:%M')[0]} \\\r\n",
    "and sets at {ts2dt(current['sunset'], '%H:%M')[0]}.\\n\\\r\n",
    "Currently, the weather is {current['weather'][0]['main']} ({current['weather'][0]['description']}).\\n\\\r\n",
    "The temperature is {current['temp']}°C and it feels like {current['feels_like']}°C.\\n\\\r\n",
    "The UV index is {current['uvi']}, humidity is {current['humidity']}%.\\n\\\r\n",
    "The pressure is {current['pressure']} hPa, percentage of cloud cover is {current['clouds']}%\\n\\\r\n",
    "The wind comes from {degrees_to_cardinal(current['wind_deg'])} direction with a speed {current['wind_speed']} m/s.\")"
   ]
  },
  {
   "cell_type": "code",
   "execution_count": 8,
   "metadata": {
    "execution": {
     "iopub.execute_input": "2021-10-15T07:11:59.618541Z",
     "iopub.status.busy": "2021-10-15T07:11:59.618081Z",
     "iopub.status.idle": "2021-10-15T07:11:59.624684Z",
     "shell.execute_reply": "2021-10-15T07:11:59.625354Z"
    }
   },
   "outputs": [],
   "source": [
    "df_hourly = pd.DataFrame(data['hourly'])\r\n",
    "df_daily = pd.DataFrame(data['daily'])"
   ]
  },
  {
   "cell_type": "code",
   "execution_count": 9,
   "metadata": {
    "execution": {
     "iopub.execute_input": "2021-10-15T07:11:59.628526Z",
     "iopub.status.busy": "2021-10-15T07:11:59.627570Z",
     "iopub.status.idle": "2021-10-15T07:11:59.877008Z",
     "shell.execute_reply": "2021-10-15T07:11:59.876565Z"
    }
   },
   "outputs": [
    {
     "data": {
      "image/png": "[encoded data removed]",
      "text/plain": [
       "<Figure size 864x432 with 1 Axes>"
      ]
     },
     "metadata": {
      "needs_background": "light"
     },
     "output_type": "display_data"
    }
   ],
   "source": [
    "fig, ax = plt.subplots(figsize=(12, 6))\r\n",
    "plt.plot(df_hourly.temp, '.-', label='Temperature')\r\n",
    "plt.plot(df_hourly.feels_like, '.-', label='Feels Like')\r\n",
    "ax.set(title='Temperature in future 48 hours', xlabel='Time', ylabel='Temperature')\r\n",
    "ax.set_xticks(list(range(0, len(df_hourly), 2)))\r\n",
    "ax.set_xticklabels([ts2dt(ts, '%m-%d %H:%M')[0] for i, ts in enumerate(df_hourly.dt) if i%2==0], \r\n",
    "                   rotation=45, ha=\"right\")\r\n",
    "ax.locator_params(nbins=15, axis='y')\r\n",
    "plt.legend()\r\n",
    "plt.show()"
   ]
  },
  {
   "cell_type": "code",
   "execution_count": 10,
   "metadata": {
    "execution": {
     "iopub.execute_input": "2021-10-15T07:11:59.881385Z",
     "iopub.status.busy": "2021-10-15T07:11:59.880894Z",
     "iopub.status.idle": "2021-10-15T07:11:59.898527Z",
     "shell.execute_reply": "2021-10-15T07:11:59.898951Z"
    }
   },
   "outputs": [
    {
     "data": {
      "text/html": [
       "<div>\n",
       "<style scoped>\n",
       "    .dataframe tbody tr th:only-of-type {\n",
       "        vertical-align: middle;\n",
       "    }\n",
       "\n",
       "    .dataframe tbody tr th {\n",
       "        vertical-align: top;\n",
       "    }\n",
       "\n",
       "    .dataframe thead th {\n",
       "        text-align: right;\n",
       "    }\n",
       "</style>\n",
       "<table border=\"1\" class=\"dataframe\">\n",
       "  <thead>\n",
       "    <tr style=\"text-align: right;\">\n",
       "      <th></th>\n",
       "      <th>dt</th>\n",
       "      <th>temp</th>\n",
       "      <th>feels_like</th>\n",
       "      <th>pressure</th>\n",
       "      <th>humidity</th>\n",
       "      <th>dew_point</th>\n",
       "      <th>uvi</th>\n",
       "      <th>clouds</th>\n",
       "      <th>visibility</th>\n",
       "      <th>wind_speed</th>\n",
       "      <th>wind_deg</th>\n",
       "      <th>wind_gust</th>\n",
       "      <th>weather</th>\n",
       "      <th>pop</th>\n",
       "      <th>rain</th>\n",
       "    </tr>\n",
       "  </thead>\n",
       "  <tbody>\n",
       "    <tr>\n",
       "      <th>0</th>\n",
       "      <td>1634281200</td>\n",
       "      <td>25.95</td>\n",
       "      <td>25.95</td>\n",
       "      <td>1008</td>\n",
       "      <td>91</td>\n",
       "      <td>24.37</td>\n",
       "      <td>0.38</td>\n",
       "      <td>100</td>\n",
       "      <td>8806</td>\n",
       "      <td>5.17</td>\n",
       "      <td>23</td>\n",
       "      <td>9.45</td>\n",
       "      <td>[{'id': 501, 'main': 'Rain', 'description': 'm...</td>\n",
       "      <td>1.0</td>\n",
       "      <td>{'1h': 1.96}</td>\n",
       "    </tr>\n",
       "    <tr>\n",
       "      <th>1</th>\n",
       "      <td>1634284800</td>\n",
       "      <td>25.51</td>\n",
       "      <td>26.52</td>\n",
       "      <td>1008</td>\n",
       "      <td>92</td>\n",
       "      <td>24.11</td>\n",
       "      <td>0.18</td>\n",
       "      <td>100</td>\n",
       "      <td>6271</td>\n",
       "      <td>5.02</td>\n",
       "      <td>22</td>\n",
       "      <td>9.32</td>\n",
       "      <td>[{'id': 500, 'main': 'Rain', 'description': 'l...</td>\n",
       "      <td>1.0</td>\n",
       "      <td>{'1h': 0.32}</td>\n",
       "    </tr>\n",
       "    <tr>\n",
       "      <th>2</th>\n",
       "      <td>1634288400</td>\n",
       "      <td>25.05</td>\n",
       "      <td>26.04</td>\n",
       "      <td>1008</td>\n",
       "      <td>93</td>\n",
       "      <td>23.84</td>\n",
       "      <td>0.05</td>\n",
       "      <td>100</td>\n",
       "      <td>8665</td>\n",
       "      <td>5.08</td>\n",
       "      <td>24</td>\n",
       "      <td>9.35</td>\n",
       "      <td>[{'id': 804, 'main': 'Clouds', 'description': ...</td>\n",
       "      <td>0.8</td>\n",
       "      <td>NaN</td>\n",
       "    </tr>\n",
       "    <tr>\n",
       "      <th>3</th>\n",
       "      <td>1634292000</td>\n",
       "      <td>24.65</td>\n",
       "      <td>25.60</td>\n",
       "      <td>1009</td>\n",
       "      <td>93</td>\n",
       "      <td>23.44</td>\n",
       "      <td>0.00</td>\n",
       "      <td>100</td>\n",
       "      <td>10000</td>\n",
       "      <td>3.74</td>\n",
       "      <td>26</td>\n",
       "      <td>6.68</td>\n",
       "      <td>[{'id': 501, 'main': 'Rain', 'description': 'm...</td>\n",
       "      <td>1.0</td>\n",
       "      <td>{'1h': 2.24}</td>\n",
       "    </tr>\n",
       "    <tr>\n",
       "      <th>4</th>\n",
       "      <td>1634295600</td>\n",
       "      <td>24.18</td>\n",
       "      <td>25.08</td>\n",
       "      <td>1010</td>\n",
       "      <td>93</td>\n",
       "      <td>22.98</td>\n",
       "      <td>0.00</td>\n",
       "      <td>100</td>\n",
       "      <td>10000</td>\n",
       "      <td>3.14</td>\n",
       "      <td>21</td>\n",
       "      <td>4.93</td>\n",
       "      <td>[{'id': 501, 'main': 'Rain', 'description': 'm...</td>\n",
       "      <td>1.0</td>\n",
       "      <td>{'1h': 1.35}</td>\n",
       "    </tr>\n",
       "  </tbody>\n",
       "</table>\n",
       "</div>"
      ],
      "text/plain": [
       "           dt   temp  feels_like  pressure  humidity  dew_point   uvi  clouds  \\\n",
       "0  1634281200  25.95       25.95      1008        91      24.37  0.38     100   \n",
       "1  1634284800  25.51       26.52      1008        92      24.11  0.18     100   \n",
       "2  1634288400  25.05       26.04      1008        93      23.84  0.05     100   \n",
       "3  1634292000  24.65       25.60      1009        93      23.44  0.00     100   \n",
       "4  1634295600  24.18       25.08      1010        93      22.98  0.00     100   \n",
       "\n",
       "   visibility  wind_speed  wind_deg  wind_gust  \\\n",
       "0        8806        5.17        23       9.45   \n",
       "1        6271        5.02        22       9.32   \n",
       "2        8665        5.08        24       9.35   \n",
       "3       10000        3.74        26       6.68   \n",
       "4       10000        3.14        21       4.93   \n",
       "\n",
       "                                             weather  pop          rain  \n",
       "0  [{'id': 501, 'main': 'Rain', 'description': 'm...  1.0  {'1h': 1.96}  \n",
       "1  [{'id': 500, 'main': 'Rain', 'description': 'l...  1.0  {'1h': 0.32}  \n",
       "2  [{'id': 804, 'main': 'Clouds', 'description': ...  0.8           NaN  \n",
       "3  [{'id': 501, 'main': 'Rain', 'description': 'm...  1.0  {'1h': 2.24}  \n",
       "4  [{'id': 501, 'main': 'Rain', 'description': 'm...  1.0  {'1h': 1.35}  "
      ]
     },
     "execution_count": 10,
     "metadata": {},
     "output_type": "execute_result"
    }
   ],
   "source": [
    "df_hourly.head()"
   ]
  },
  {
   "cell_type": "code",
   "execution_count": null,
   "metadata": {},
   "outputs": [],
   "source": []
  }
 ],
 "metadata": {
  "interpreter": {
   "hash": "c1b4cfe941b6d2466ad1fb5979e97da9cda8801728c8091b097ab734208fc00c"
  },
  "kernelspec": {
   "display_name": "Python 3.8.3 64-bit ('base': conda)",
   "name": "python3"
  },
  "language_info": {
   "codemirror_mode": {
    "name": "ipython",
    "version": 3
   },
   "file_extension": ".py",
   "mimetype": "text/x-python",
   "name": "python",
   "nbconvert_exporter": "python",
   "pygments_lexer": "ipython3",
   "version": "3.8.12"
  }
 },
 "nbformat": 4,
 "nbformat_minor": 2
}
