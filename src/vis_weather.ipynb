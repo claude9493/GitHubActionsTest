{
 "cells": [
  {
   "cell_type": "code",
   "execution_count": 1,
   "metadata": {
    "execution": {
     "iopub.execute_input": "2021-10-13T22:11:37.161962Z",
     "iopub.status.busy": "2021-10-13T22:11:37.161372Z",
     "iopub.status.idle": "2021-10-13T22:11:38.583041Z",
     "shell.execute_reply": "2021-10-13T22:11:38.583492Z"
    }
   },
   "outputs": [],
   "source": [
    "import json, yaml, requests\r\n",
    "from datetime import datetime\r\n",
    "from dateutil import tz\r\n",
    "import pandas as pd\r\n",
    "from PIL import Image\r\n",
    "from io import BytesIO\r\n",
    "import matplotlib.pyplot as plt\r\n",
    "import seaborn\r\n",
    "\r\n",
    "CONFIG_PATH = \"../config/config.yaml\""
   ]
  },
  {
   "cell_type": "code",
   "execution_count": 2,
   "metadata": {
    "execution": {
     "iopub.execute_input": "2021-10-13T22:11:38.589685Z",
     "iopub.status.busy": "2021-10-13T22:11:38.588610Z",
     "iopub.status.idle": "2021-10-13T22:11:38.594213Z",
     "shell.execute_reply": "2021-10-13T22:11:38.593528Z"
    }
   },
   "outputs": [],
   "source": [
    "with open('../newest_ts', 'r') as f:\r\n",
    "    newest_ts = f.read()\r\n",
    "\r\n",
    "data_path = f\"../data/data_{newest_ts}.json\"\r\n",
    "with open(data_path, 'r') as f:\r\n",
    "    data = json.load(f)\r\n",
    "\r\n",
    "with open(CONFIG_PATH, \"r\") as stream:\r\n",
    "    config = yaml.safe_load(stream)\r\n",
    "\r\n",
    "TIME_ZONE = config['time_zone']\r\n",
    "DATETIME_FORMAT = config['dt_format']"
   ]
  },
  {
   "cell_type": "code",
   "execution_count": 3,
   "metadata": {
    "execution": {
     "iopub.execute_input": "2021-10-13T22:11:38.599358Z",
     "iopub.status.busy": "2021-10-13T22:11:38.598807Z",
     "iopub.status.idle": "2021-10-13T22:11:38.651380Z",
     "shell.execute_reply": "2021-10-13T22:11:38.650910Z"
    }
   },
   "outputs": [
    {
     "name": "stdout",
     "output_type": "stream",
     "text": [
      "Recent query happens at 2021-10-14 06:11:33 (CST).\n"
     ]
    }
   ],
   "source": [
    "def ts2dt(ts, format=DATETIME_FORMAT):\r\n",
    "    dt = (datetime.utcfromtimestamp(int(ts))\r\n",
    "                    .replace(tzinfo=tz.tzutc())\r\n",
    "                    # .astimezone(tz.tzlocal())\r\n",
    "                    .astimezone(tz.gettz(TIME_ZONE)))\r\n",
    "    return dt.strftime(format), dt\r\n",
    "\r\n",
    "_, newest_dt = ts2dt(newest_ts)\r\n",
    "print(f\"Recent query happens at {newest_dt.strftime(DATETIME_FORMAT)} ({newest_dt.tzname()}).\")"
   ]
  },
  {
   "cell_type": "code",
   "execution_count": 4,
   "metadata": {
    "execution": {
     "iopub.execute_input": "2021-10-13T22:11:38.657356Z",
     "iopub.status.busy": "2021-10-13T22:11:38.655987Z",
     "iopub.status.idle": "2021-10-13T22:11:38.658505Z",
     "shell.execute_reply": "2021-10-13T22:11:38.659026Z"
    }
   },
   "outputs": [],
   "source": [
    "def degrees_to_cardinal(d):\r\n",
    "  dirs = ['N', 'NNE', 'NE', 'ENE', 'E', 'ESE', 'SE', 'SSE', 'S', 'SSW', 'SW', 'WSW', 'W', 'WNW', 'NW', 'NNW']\r\n",
    "  ix = int(round(d / (360. / len(dirs))))\r\n",
    "  return dirs[ix % len(dirs)]"
   ]
  },
  {
   "cell_type": "code",
   "execution_count": 5,
   "metadata": {
    "execution": {
     "iopub.execute_input": "2021-10-13T22:11:38.664007Z",
     "iopub.status.busy": "2021-10-13T22:11:38.662511Z",
     "iopub.status.idle": "2021-10-13T22:11:38.664706Z",
     "shell.execute_reply": "2021-10-13T22:11:38.665128Z"
    }
   },
   "outputs": [],
   "source": [
    "# data.keys()"
   ]
  },
  {
   "cell_type": "code",
   "execution_count": 6,
   "metadata": {
    "execution": {
     "iopub.execute_input": "2021-10-13T22:11:38.669160Z",
     "iopub.status.busy": "2021-10-13T22:11:38.668368Z",
     "iopub.status.idle": "2021-10-13T22:11:38.670318Z",
     "shell.execute_reply": "2021-10-13T22:11:38.670728Z"
    }
   },
   "outputs": [],
   "source": [
    "# data['current']"
   ]
  },
  {
   "cell_type": "code",
   "execution_count": 7,
   "metadata": {
    "execution": {
     "iopub.execute_input": "2021-10-13T22:11:38.682431Z",
     "iopub.status.busy": "2021-10-13T22:11:38.681828Z",
     "iopub.status.idle": "2021-10-13T22:11:39.115180Z",
     "shell.execute_reply": "2021-10-13T22:11:39.114539Z"
    }
   },
   "outputs": [
    {
     "data": {
      "image/png": "[encoded data removed]",
      "text/plain": [
       "<Figure size 216x216 with 1 Axes>"
      ]
     },
     "metadata": {
      "needs_background": "light"
     },
     "output_type": "display_data"
    },
    {
     "name": "stdout",
     "output_type": "stream",
     "text": [
      "Today, sun rises at 06:18 and sets at 17:59.\n",
      "Currently, the weather is Clouds (broken clouds).\n",
      "The temperature is 26.3°C and it feels like 26.3°C.\n",
      "The UV index is 0, humidity is 94%.\n",
      "The pressure is 1020 hPa, percentage of cloud cover is 58%\n",
      "The wind comes from NNE direction with a speed 0.45 m/s.\n"
     ]
    }
   ],
   "source": [
    "current = data['current']\r\n",
    "\r\n",
    "fig, ax = plt.subplots(figsize=(3, 3))\r\n",
    "icon = requests.get(f\"http://openweathermap.org/img/wn/{current['weather'][0]['icon']}@2x.png\")\r\n",
    "im = Image.open(BytesIO(icon.content))\r\n",
    "plt.imshow(im)\r\n",
    "ax.set_axis_off()\r\n",
    "plt.show()\r\n",
    "\r\n",
    "print(f\"Today, sun rises at {ts2dt(current['sunrise'], '%H:%M')[0]} \\\r\n",
    "and sets at {ts2dt(current['sunset'], '%H:%M')[0]}.\\n\\\r\n",
    "Currently, the weather is {current['weather'][0]['main']} ({current['weather'][0]['description']}).\\n\\\r\n",
    "The temperature is {current['temp']}°C and it feels like {current['feels_like']}°C.\\n\\\r\n",
    "The UV index is {current['uvi']}, humidity is {current['humidity']}%.\\n\\\r\n",
    "The pressure is {current['pressure']} hPa, percentage of cloud cover is {current['clouds']}%\\n\\\r\n",
    "The wind comes from {degrees_to_cardinal(current['wind_deg'])} direction with a speed {current['wind_speed']} m/s.\")"
   ]
  },
  {
   "cell_type": "code",
   "execution_count": 8,
   "metadata": {
    "execution": {
     "iopub.execute_input": "2021-10-13T22:11:39.118399Z",
     "iopub.status.busy": "2021-10-13T22:11:39.117696Z",
     "iopub.status.idle": "2021-10-13T22:11:39.126025Z",
     "shell.execute_reply": "2021-10-13T22:11:39.126491Z"
    }
   },
   "outputs": [],
   "source": [
    "df_hourly = pd.DataFrame(data['hourly'])\r\n",
    "df_daily = pd.DataFrame(data['daily'])"
   ]
  },
  {
   "cell_type": "code",
   "execution_count": 9,
   "metadata": {
    "execution": {
     "iopub.execute_input": "2021-10-13T22:11:39.129395Z",
     "iopub.status.busy": "2021-10-13T22:11:39.128853Z",
     "iopub.status.idle": "2021-10-13T22:11:39.467972Z",
     "shell.execute_reply": "2021-10-13T22:11:39.466993Z"
    }
   },
   "outputs": [
    {
     "data": {
      "image/png": "[encoded data removed]",
      "text/plain": [
       "<Figure size 864x432 with 1 Axes>"
      ]
     },
     "metadata": {
      "needs_background": "light"
     },
     "output_type": "display_data"
    }
   ],
   "source": [
    "fig, ax = plt.subplots(figsize=(12, 6))\r\n",
    "plt.plot(df_hourly.temp, '.-', label='Temperature')\r\n",
    "plt.plot(df_hourly.feels_like, '.-', label='Feels Like')\r\n",
    "ax.set(title='Temperature in future 48 hours', xlabel='Time', ylabel='Temperature')\r\n",
    "ax.set_xticks(list(range(0, len(df_hourly), 2)))\r\n",
    "ax.set_xticklabels([ts2dt(ts, '%m-%d %H:%M')[0] for i, ts in enumerate(df_hourly.dt) if i%2==0], \r\n",
    "                   rotation=45, ha=\"right\")\r\n",
    "ax.locator_params(nbins=15, axis='y')\r\n",
    "plt.legend()\r\n",
    "plt.show()"
   ]
  },
  {
   "cell_type": "code",
   "execution_count": 10,
   "metadata": {
    "execution": {
     "iopub.execute_input": "2021-10-13T22:11:39.481144Z",
     "iopub.status.busy": "2021-10-13T22:11:39.472158Z",
     "iopub.status.idle": "2021-10-13T22:11:39.494329Z",
     "shell.execute_reply": "2021-10-13T22:11:39.494754Z"
    }
   },
   "outputs": [
    {
     "data": {
      "text/html": [
       "<div>\n",
       "<style scoped>\n",
       "    .dataframe tbody tr th:only-of-type {\n",
       "        vertical-align: middle;\n",
       "    }\n",
       "\n",
       "    .dataframe tbody tr th {\n",
       "        vertical-align: top;\n",
       "    }\n",
       "\n",
       "    .dataframe thead th {\n",
       "        text-align: right;\n",
       "    }\n",
       "</style>\n",
       "<table border=\"1\" class=\"dataframe\">\n",
       "  <thead>\n",
       "    <tr style=\"text-align: right;\">\n",
       "      <th></th>\n",
       "      <th>dt</th>\n",
       "      <th>temp</th>\n",
       "      <th>feels_like</th>\n",
       "      <th>pressure</th>\n",
       "      <th>humidity</th>\n",
       "      <th>dew_point</th>\n",
       "      <th>uvi</th>\n",
       "      <th>clouds</th>\n",
       "      <th>visibility</th>\n",
       "      <th>wind_speed</th>\n",
       "      <th>wind_deg</th>\n",
       "      <th>wind_gust</th>\n",
       "      <th>weather</th>\n",
       "      <th>pop</th>\n",
       "      <th>rain</th>\n",
       "    </tr>\n",
       "  </thead>\n",
       "  <tbody>\n",
       "    <tr>\n",
       "      <th>0</th>\n",
       "      <td>1634162400</td>\n",
       "      <td>26.30</td>\n",
       "      <td>26.30</td>\n",
       "      <td>1020</td>\n",
       "      <td>94</td>\n",
       "      <td>25.26</td>\n",
       "      <td>0.00</td>\n",
       "      <td>58</td>\n",
       "      <td>10000</td>\n",
       "      <td>5.20</td>\n",
       "      <td>58</td>\n",
       "      <td>7.35</td>\n",
       "      <td>[{'id': 500, 'main': 'Rain', 'description': 'l...</td>\n",
       "      <td>0.62</td>\n",
       "      <td>{'1h': 0.18}</td>\n",
       "    </tr>\n",
       "    <tr>\n",
       "      <th>1</th>\n",
       "      <td>1634166000</td>\n",
       "      <td>26.06</td>\n",
       "      <td>26.06</td>\n",
       "      <td>1018</td>\n",
       "      <td>92</td>\n",
       "      <td>24.66</td>\n",
       "      <td>0.00</td>\n",
       "      <td>60</td>\n",
       "      <td>10000</td>\n",
       "      <td>4.81</td>\n",
       "      <td>51</td>\n",
       "      <td>7.01</td>\n",
       "      <td>[{'id': 500, 'main': 'Rain', 'description': 'l...</td>\n",
       "      <td>0.62</td>\n",
       "      <td>{'1h': 0.27}</td>\n",
       "    </tr>\n",
       "    <tr>\n",
       "      <th>2</th>\n",
       "      <td>1634169600</td>\n",
       "      <td>25.99</td>\n",
       "      <td>25.99</td>\n",
       "      <td>1016</td>\n",
       "      <td>90</td>\n",
       "      <td>24.22</td>\n",
       "      <td>0.81</td>\n",
       "      <td>63</td>\n",
       "      <td>10000</td>\n",
       "      <td>4.95</td>\n",
       "      <td>49</td>\n",
       "      <td>7.37</td>\n",
       "      <td>[{'id': 803, 'main': 'Clouds', 'description': ...</td>\n",
       "      <td>0.62</td>\n",
       "      <td>NaN</td>\n",
       "    </tr>\n",
       "    <tr>\n",
       "      <th>3</th>\n",
       "      <td>1634173200</td>\n",
       "      <td>26.24</td>\n",
       "      <td>26.24</td>\n",
       "      <td>1015</td>\n",
       "      <td>87</td>\n",
       "      <td>23.90</td>\n",
       "      <td>2.55</td>\n",
       "      <td>83</td>\n",
       "      <td>10000</td>\n",
       "      <td>5.22</td>\n",
       "      <td>50</td>\n",
       "      <td>7.50</td>\n",
       "      <td>[{'id': 803, 'main': 'Clouds', 'description': ...</td>\n",
       "      <td>0.38</td>\n",
       "      <td>NaN</td>\n",
       "    </tr>\n",
       "    <tr>\n",
       "      <th>4</th>\n",
       "      <td>1634176800</td>\n",
       "      <td>26.71</td>\n",
       "      <td>29.27</td>\n",
       "      <td>1013</td>\n",
       "      <td>82</td>\n",
       "      <td>23.38</td>\n",
       "      <td>5.07</td>\n",
       "      <td>76</td>\n",
       "      <td>10000</td>\n",
       "      <td>5.55</td>\n",
       "      <td>52</td>\n",
       "      <td>7.48</td>\n",
       "      <td>[{'id': 803, 'main': 'Clouds', 'description': ...</td>\n",
       "      <td>0.38</td>\n",
       "      <td>NaN</td>\n",
       "    </tr>\n",
       "  </tbody>\n",
       "</table>\n",
       "</div>"
      ],
      "text/plain": [
       "           dt   temp  feels_like  pressure  humidity  dew_point   uvi  clouds  \\\n",
       "0  1634162400  26.30       26.30      1020        94      25.26  0.00      58   \n",
       "1  1634166000  26.06       26.06      1018        92      24.66  0.00      60   \n",
       "2  1634169600  25.99       25.99      1016        90      24.22  0.81      63   \n",
       "3  1634173200  26.24       26.24      1015        87      23.90  2.55      83   \n",
       "4  1634176800  26.71       29.27      1013        82      23.38  5.07      76   \n",
       "\n",
       "   visibility  wind_speed  wind_deg  wind_gust  \\\n",
       "0       10000        5.20        58       7.35   \n",
       "1       10000        4.81        51       7.01   \n",
       "2       10000        4.95        49       7.37   \n",
       "3       10000        5.22        50       7.50   \n",
       "4       10000        5.55        52       7.48   \n",
       "\n",
       "                                             weather   pop          rain  \n",
       "0  [{'id': 500, 'main': 'Rain', 'description': 'l...  0.62  {'1h': 0.18}  \n",
       "1  [{'id': 500, 'main': 'Rain', 'description': 'l...  0.62  {'1h': 0.27}  \n",
       "2  [{'id': 803, 'main': 'Clouds', 'description': ...  0.62           NaN  \n",
       "3  [{'id': 803, 'main': 'Clouds', 'description': ...  0.38           NaN  \n",
       "4  [{'id': 803, 'main': 'Clouds', 'description': ...  0.38           NaN  "
      ]
     },
     "execution_count": 10,
     "metadata": {},
     "output_type": "execute_result"
    }
   ],
   "source": [
    "df_hourly.head()"
   ]
  },
  {
   "cell_type": "code",
   "execution_count": null,
   "metadata": {},
   "outputs": [],
   "source": []
  }
 ],
 "metadata": {
  "interpreter": {
   "hash": "c1b4cfe941b6d2466ad1fb5979e97da9cda8801728c8091b097ab734208fc00c"
  },
  "kernelspec": {
   "display_name": "Python 3.8.3 64-bit ('base': conda)",
   "name": "python3"
  },
  "language_info": {
   "codemirror_mode": {
    "name": "ipython",
    "version": 3
   },
   "file_extension": ".py",
   "mimetype": "text/x-python",
   "name": "python",
   "nbconvert_exporter": "python",
   "pygments_lexer": "ipython3",
   "version": "3.8.12"
  }
 },
 "nbformat": 4,
 "nbformat_minor": 2
}
