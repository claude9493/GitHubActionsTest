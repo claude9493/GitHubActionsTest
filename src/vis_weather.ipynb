{
 "cells": [
  {
   "cell_type": "code",
   "execution_count": 1,
   "metadata": {
    "execution": {
     "iopub.execute_input": "2021-09-25T05:10:08.851303Z",
     "iopub.status.busy": "2021-09-25T05:10:08.850707Z",
     "iopub.status.idle": "2021-09-25T05:10:10.123817Z",
     "shell.execute_reply": "2021-09-25T05:10:10.123253Z"
    }
   },
   "outputs": [],
   "source": [
    "import json, yaml, requests\r\n",
    "from datetime import datetime\r\n",
    "from dateutil import tz\r\n",
    "import pandas as pd\r\n",
    "from PIL import Image\r\n",
    "from io import BytesIO\r\n",
    "import matplotlib.pyplot as plt\r\n",
    "import seaborn\r\n",
    "\r\n",
    "CONFIG_PATH = \"../config/config.yaml\""
   ]
  },
  {
   "cell_type": "code",
   "execution_count": 2,
   "metadata": {
    "execution": {
     "iopub.execute_input": "2021-09-25T05:10:10.129156Z",
     "iopub.status.busy": "2021-09-25T05:10:10.128249Z",
     "iopub.status.idle": "2021-09-25T05:10:10.133536Z",
     "shell.execute_reply": "2021-09-25T05:10:10.133149Z"
    }
   },
   "outputs": [],
   "source": [
    "with open('../newest_ts', 'r') as f:\r\n",
    "    newest_ts = f.read()\r\n",
    "\r\n",
    "data_path = f\"../data/data_{newest_ts}.json\"\r\n",
    "with open(data_path, 'r') as f:\r\n",
    "    data = json.load(f)\r\n",
    "\r\n",
    "with open(CONFIG_PATH, \"r\") as stream:\r\n",
    "    config = yaml.safe_load(stream)\r\n",
    "\r\n",
    "TIME_ZONE = config['time_zone']\r\n",
    "DATETIME_FORMAT = config['dt_format']"
   ]
  },
  {
   "cell_type": "code",
   "execution_count": 3,
   "metadata": {
    "execution": {
     "iopub.execute_input": "2021-09-25T05:10:10.137667Z",
     "iopub.status.busy": "2021-09-25T05:10:10.137196Z",
     "iopub.status.idle": "2021-09-25T05:10:10.142770Z",
     "shell.execute_reply": "2021-09-25T05:10:10.143138Z"
    }
   },
   "outputs": [
    {
     "name": "stdout",
     "output_type": "stream",
     "text": [
      "Recent query happens at 2021-09-25 13:10:06 (CST).\n"
     ]
    }
   ],
   "source": [
    "def ts2dt(ts, format=DATETIME_FORMAT):\r\n",
    "    dt = (datetime.utcfromtimestamp(int(ts))\r\n",
    "                    .replace(tzinfo=tz.tzutc())\r\n",
    "                    # .astimezone(tz.tzlocal())\r\n",
    "                    .astimezone(tz.gettz(TIME_ZONE)))\r\n",
    "    return dt.strftime(format), dt\r\n",
    "\r\n",
    "_, newest_dt = ts2dt(newest_ts)\r\n",
    "print(f\"Recent query happens at {newest_dt.strftime(DATETIME_FORMAT)} ({newest_dt.tzname()}).\")"
   ]
  },
  {
   "cell_type": "code",
   "execution_count": 4,
   "metadata": {
    "execution": {
     "iopub.execute_input": "2021-09-25T05:10:10.147993Z",
     "iopub.status.busy": "2021-09-25T05:10:10.146984Z",
     "iopub.status.idle": "2021-09-25T05:10:10.148517Z",
     "shell.execute_reply": "2021-09-25T05:10:10.148882Z"
    }
   },
   "outputs": [],
   "source": [
    "def degrees_to_cardinal(d):\r\n",
    "  dirs = ['N', 'NNE', 'NE', 'ENE', 'E', 'ESE', 'SE', 'SSE', 'S', 'SSW', 'SW', 'WSW', 'W', 'WNW', 'NW', 'NNW']\r\n",
    "  ix = int(round(d / (360. / len(dirs))))\r\n",
    "  return dirs[ix % len(dirs)]"
   ]
  },
  {
   "cell_type": "code",
   "execution_count": 5,
   "metadata": {
    "execution": {
     "iopub.execute_input": "2021-09-25T05:10:10.152777Z",
     "iopub.status.busy": "2021-09-25T05:10:10.151664Z",
     "iopub.status.idle": "2021-09-25T05:10:10.153326Z",
     "shell.execute_reply": "2021-09-25T05:10:10.153693Z"
    }
   },
   "outputs": [],
   "source": [
    "# data.keys()"
   ]
  },
  {
   "cell_type": "code",
   "execution_count": 6,
   "metadata": {
    "execution": {
     "iopub.execute_input": "2021-09-25T05:10:10.157319Z",
     "iopub.status.busy": "2021-09-25T05:10:10.156237Z",
     "iopub.status.idle": "2021-09-25T05:10:10.157836Z",
     "shell.execute_reply": "2021-09-25T05:10:10.158197Z"
    }
   },
   "outputs": [],
   "source": [
    "# data['current']"
   ]
  },
  {
   "cell_type": "code",
   "execution_count": 7,
   "metadata": {
    "execution": {
     "iopub.execute_input": "2021-09-25T05:10:10.174637Z",
     "iopub.status.busy": "2021-09-25T05:10:10.174179Z",
     "iopub.status.idle": "2021-09-25T05:10:10.659052Z",
     "shell.execute_reply": "2021-09-25T05:10:10.659662Z"
    }
   },
   "outputs": [
    {
     "data": {
      "image/png": "[encoded data removed]",
      "text/plain": [
       "<Figure size 216x216 with 1 Axes>"
      ]
     },
     "metadata": {
      "needs_background": "light"
     },
     "output_type": "display_data"
    },
    {
     "name": "stdout",
     "output_type": "stream",
     "text": [
      "Today, sun rises at 06:12 and sets at 18:16.\n",
      "Currently, the weather is Clouds (scattered clouds).\n",
      "The temperature is 31.26°C and it feels like 38.26°C.\n",
      "The UV index is 9.56, humidity is 77%.\n",
      "The pressure is 1012 hPa, percentage of cloud cover is 40%\n",
      "The wind comes from NE direction with a speed 1.79 m/s.\n"
     ]
    }
   ],
   "source": [
    "current = data['current']\r\n",
    "\r\n",
    "fig, ax = plt.subplots(figsize=(3, 3))\r\n",
    "icon = requests.get(f\"http://openweathermap.org/img/wn/{current['weather'][0]['icon']}@2x.png\")\r\n",
    "im = Image.open(BytesIO(icon.content))\r\n",
    "plt.imshow(im)\r\n",
    "ax.set_axis_off()\r\n",
    "plt.show()\r\n",
    "\r\n",
    "print(f\"Today, sun rises at {ts2dt(current['sunrise'], '%H:%M')[0]} \\\r\n",
    "and sets at {ts2dt(current['sunset'], '%H:%M')[0]}.\\n\\\r\n",
    "Currently, the weather is {current['weather'][0]['main']} ({current['weather'][0]['description']}).\\n\\\r\n",
    "The temperature is {current['temp']}°C and it feels like {current['feels_like']}°C.\\n\\\r\n",
    "The UV index is {current['uvi']}, humidity is {current['humidity']}%.\\n\\\r\n",
    "The pressure is {current['pressure']} hPa, percentage of cloud cover is {current['clouds']}%\\n\\\r\n",
    "The wind comes from {degrees_to_cardinal(current['wind_deg'])} direction with a speed {current['wind_speed']} m/s.\")"
   ]
  },
  {
   "cell_type": "code",
   "execution_count": 8,
   "metadata": {
    "execution": {
     "iopub.execute_input": "2021-09-25T05:10:10.665365Z",
     "iopub.status.busy": "2021-09-25T05:10:10.664891Z",
     "iopub.status.idle": "2021-09-25T05:10:10.669037Z",
     "shell.execute_reply": "2021-09-25T05:10:10.669690Z"
    }
   },
   "outputs": [],
   "source": [
    "df_hourly = pd.DataFrame(data['hourly'])\r\n",
    "df_daily = pd.DataFrame(data['daily'])"
   ]
  },
  {
   "cell_type": "code",
   "execution_count": 9,
   "metadata": {
    "execution": {
     "iopub.execute_input": "2021-09-25T05:10:10.672635Z",
     "iopub.status.busy": "2021-09-25T05:10:10.672061Z",
     "iopub.status.idle": "2021-09-25T05:10:10.926029Z",
     "shell.execute_reply": "2021-09-25T05:10:10.926392Z"
    }
   },
   "outputs": [
    {
     "data": {
      "image/png": "[encoded data removed]",
      "text/plain": [
       "<Figure size 864x432 with 1 Axes>"
      ]
     },
     "metadata": {
      "needs_background": "light"
     },
     "output_type": "display_data"
    }
   ],
   "source": [
    "fig, ax = plt.subplots(figsize=(12, 6))\r\n",
    "plt.plot(df_hourly.temp, '.-', label='Temperature')\r\n",
    "plt.plot(df_hourly.feels_like, '.-', label='Feels Like')\r\n",
    "ax.set(title='Temperature in future 48 hours', xlabel='Time', ylabel='Temperature')\r\n",
    "ax.set_xticks(list(range(0, len(df_hourly), 2)))\r\n",
    "ax.set_xticklabels([ts2dt(ts, '%m-%d %H:%M')[0] for i, ts in enumerate(df_hourly.dt) if i%2==0], \r\n",
    "                   rotation=45, ha=\"right\")\r\n",
    "ax.locator_params(nbins=15, axis='y')\r\n",
    "plt.legend()\r\n",
    "plt.show()"
   ]
  },
  {
   "cell_type": "code",
   "execution_count": 10,
   "metadata": {
    "execution": {
     "iopub.execute_input": "2021-09-25T05:10:10.937348Z",
     "iopub.status.busy": "2021-09-25T05:10:10.930176Z",
     "iopub.status.idle": "2021-09-25T05:10:10.946377Z",
     "shell.execute_reply": "2021-09-25T05:10:10.946760Z"
    }
   },
   "outputs": [
    {
     "data": {
      "text/html": [
       "<div>\n",
       "<style scoped>\n",
       "    .dataframe tbody tr th:only-of-type {\n",
       "        vertical-align: middle;\n",
       "    }\n",
       "\n",
       "    .dataframe tbody tr th {\n",
       "        vertical-align: top;\n",
       "    }\n",
       "\n",
       "    .dataframe thead th {\n",
       "        text-align: right;\n",
       "    }\n",
       "</style>\n",
       "<table border=\"1\" class=\"dataframe\">\n",
       "  <thead>\n",
       "    <tr style=\"text-align: right;\">\n",
       "      <th></th>\n",
       "      <th>dt</th>\n",
       "      <th>temp</th>\n",
       "      <th>feels_like</th>\n",
       "      <th>pressure</th>\n",
       "      <th>humidity</th>\n",
       "      <th>dew_point</th>\n",
       "      <th>uvi</th>\n",
       "      <th>clouds</th>\n",
       "      <th>visibility</th>\n",
       "      <th>wind_speed</th>\n",
       "      <th>wind_deg</th>\n",
       "      <th>wind_gust</th>\n",
       "      <th>weather</th>\n",
       "      <th>pop</th>\n",
       "      <th>rain</th>\n",
       "    </tr>\n",
       "  </thead>\n",
       "  <tbody>\n",
       "    <tr>\n",
       "      <th>0</th>\n",
       "      <td>1632546000</td>\n",
       "      <td>31.26</td>\n",
       "      <td>38.26</td>\n",
       "      <td>1012</td>\n",
       "      <td>77</td>\n",
       "      <td>26.74</td>\n",
       "      <td>9.56</td>\n",
       "      <td>40</td>\n",
       "      <td>10000</td>\n",
       "      <td>7.28</td>\n",
       "      <td>82</td>\n",
       "      <td>7.99</td>\n",
       "      <td>[{'id': 802, 'main': 'Clouds', 'description': ...</td>\n",
       "      <td>0.17</td>\n",
       "      <td>NaN</td>\n",
       "    </tr>\n",
       "    <tr>\n",
       "      <th>1</th>\n",
       "      <td>1632549600</td>\n",
       "      <td>30.90</td>\n",
       "      <td>37.90</td>\n",
       "      <td>1012</td>\n",
       "      <td>75</td>\n",
       "      <td>25.95</td>\n",
       "      <td>7.81</td>\n",
       "      <td>39</td>\n",
       "      <td>10000</td>\n",
       "      <td>6.92</td>\n",
       "      <td>85</td>\n",
       "      <td>7.84</td>\n",
       "      <td>[{'id': 500, 'main': 'Rain', 'description': 'l...</td>\n",
       "      <td>0.37</td>\n",
       "      <td>{'1h': 0.13}</td>\n",
       "    </tr>\n",
       "    <tr>\n",
       "      <th>2</th>\n",
       "      <td>1632553200</td>\n",
       "      <td>30.47</td>\n",
       "      <td>37.04</td>\n",
       "      <td>1012</td>\n",
       "      <td>73</td>\n",
       "      <td>25.08</td>\n",
       "      <td>5.19</td>\n",
       "      <td>25</td>\n",
       "      <td>10000</td>\n",
       "      <td>6.76</td>\n",
       "      <td>88</td>\n",
       "      <td>8.11</td>\n",
       "      <td>[{'id': 802, 'main': 'Clouds', 'description': ...</td>\n",
       "      <td>0.00</td>\n",
       "      <td>NaN</td>\n",
       "    </tr>\n",
       "    <tr>\n",
       "      <th>3</th>\n",
       "      <td>1632556800</td>\n",
       "      <td>29.90</td>\n",
       "      <td>35.28</td>\n",
       "      <td>1011</td>\n",
       "      <td>72</td>\n",
       "      <td>24.30</td>\n",
       "      <td>2.57</td>\n",
       "      <td>17</td>\n",
       "      <td>10000</td>\n",
       "      <td>6.55</td>\n",
       "      <td>93</td>\n",
       "      <td>8.11</td>\n",
       "      <td>[{'id': 801, 'main': 'Clouds', 'description': ...</td>\n",
       "      <td>0.00</td>\n",
       "      <td>NaN</td>\n",
       "    </tr>\n",
       "    <tr>\n",
       "      <th>4</th>\n",
       "      <td>1632560400</td>\n",
       "      <td>29.16</td>\n",
       "      <td>33.48</td>\n",
       "      <td>1011</td>\n",
       "      <td>72</td>\n",
       "      <td>23.59</td>\n",
       "      <td>0.82</td>\n",
       "      <td>9</td>\n",
       "      <td>10000</td>\n",
       "      <td>6.70</td>\n",
       "      <td>95</td>\n",
       "      <td>8.59</td>\n",
       "      <td>[{'id': 800, 'main': 'Clear', 'description': '...</td>\n",
       "      <td>0.00</td>\n",
       "      <td>NaN</td>\n",
       "    </tr>\n",
       "  </tbody>\n",
       "</table>\n",
       "</div>"
      ],
      "text/plain": [
       "           dt   temp  feels_like  pressure  humidity  dew_point   uvi  clouds  \\\n",
       "0  1632546000  31.26       38.26      1012        77      26.74  9.56      40   \n",
       "1  1632549600  30.90       37.90      1012        75      25.95  7.81      39   \n",
       "2  1632553200  30.47       37.04      1012        73      25.08  5.19      25   \n",
       "3  1632556800  29.90       35.28      1011        72      24.30  2.57      17   \n",
       "4  1632560400  29.16       33.48      1011        72      23.59  0.82       9   \n",
       "\n",
       "   visibility  wind_speed  wind_deg  wind_gust  \\\n",
       "0       10000        7.28        82       7.99   \n",
       "1       10000        6.92        85       7.84   \n",
       "2       10000        6.76        88       8.11   \n",
       "3       10000        6.55        93       8.11   \n",
       "4       10000        6.70        95       8.59   \n",
       "\n",
       "                                             weather   pop          rain  \n",
       "0  [{'id': 802, 'main': 'Clouds', 'description': ...  0.17           NaN  \n",
       "1  [{'id': 500, 'main': 'Rain', 'description': 'l...  0.37  {'1h': 0.13}  \n",
       "2  [{'id': 802, 'main': 'Clouds', 'description': ...  0.00           NaN  \n",
       "3  [{'id': 801, 'main': 'Clouds', 'description': ...  0.00           NaN  \n",
       "4  [{'id': 800, 'main': 'Clear', 'description': '...  0.00           NaN  "
      ]
     },
     "execution_count": 10,
     "metadata": {},
     "output_type": "execute_result"
    }
   ],
   "source": [
    "df_hourly.head()"
   ]
  },
  {
   "cell_type": "code",
   "execution_count": null,
   "metadata": {},
   "outputs": [],
   "source": []
  }
 ],
 "metadata": {
  "interpreter": {
   "hash": "c1b4cfe941b6d2466ad1fb5979e97da9cda8801728c8091b097ab734208fc00c"
  },
  "kernelspec": {
   "display_name": "Python 3.8.3 64-bit ('base': conda)",
   "name": "python3"
  },
  "language_info": {
   "codemirror_mode": {
    "name": "ipython",
    "version": 3
   },
   "file_extension": ".py",
   "mimetype": "text/x-python",
   "name": "python",
   "nbconvert_exporter": "python",
   "pygments_lexer": "ipython3",
   "version": "3.8.12"
  }
 },
 "nbformat": 4,
 "nbformat_minor": 2
}
