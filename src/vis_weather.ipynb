{
 "cells": [
  {
   "cell_type": "code",
   "execution_count": 1,
   "metadata": {
    "execution": {
     "iopub.execute_input": "2021-10-01T23:11:51.953233Z",
     "iopub.status.busy": "2021-10-01T23:11:51.952546Z",
     "iopub.status.idle": "2021-10-01T23:11:54.227788Z",
     "shell.execute_reply": "2021-10-01T23:11:54.226624Z"
    }
   },
   "outputs": [],
   "source": [
    "import json, yaml, requests\r\n",
    "from datetime import datetime\r\n",
    "from dateutil import tz\r\n",
    "import pandas as pd\r\n",
    "from PIL import Image\r\n",
    "from io import BytesIO\r\n",
    "import matplotlib.pyplot as plt\r\n",
    "import seaborn\r\n",
    "\r\n",
    "CONFIG_PATH = \"../config/config.yaml\""
   ]
  },
  {
   "cell_type": "code",
   "execution_count": 2,
   "metadata": {
    "execution": {
     "iopub.execute_input": "2021-10-01T23:11:54.233196Z",
     "iopub.status.busy": "2021-10-01T23:11:54.230362Z",
     "iopub.status.idle": "2021-10-01T23:11:54.238174Z",
     "shell.execute_reply": "2021-10-01T23:11:54.238590Z"
    }
   },
   "outputs": [],
   "source": [
    "with open('../newest_ts', 'r') as f:\r\n",
    "    newest_ts = f.read()\r\n",
    "\r\n",
    "data_path = f\"../data/data_{newest_ts}.json\"\r\n",
    "with open(data_path, 'r') as f:\r\n",
    "    data = json.load(f)\r\n",
    "\r\n",
    "with open(CONFIG_PATH, \"r\") as stream:\r\n",
    "    config = yaml.safe_load(stream)\r\n",
    "\r\n",
    "TIME_ZONE = config['time_zone']\r\n",
    "DATETIME_FORMAT = config['dt_format']"
   ]
  },
  {
   "cell_type": "code",
   "execution_count": 3,
   "metadata": {
    "execution": {
     "iopub.execute_input": "2021-10-01T23:11:54.243860Z",
     "iopub.status.busy": "2021-10-01T23:11:54.243251Z",
     "iopub.status.idle": "2021-10-01T23:11:54.249072Z",
     "shell.execute_reply": "2021-10-01T23:11:54.249507Z"
    }
   },
   "outputs": [
    {
     "name": "stdout",
     "output_type": "stream",
     "text": [
      "Recent query happens at 2021-10-02 07:11:49 (CST).\n"
     ]
    }
   ],
   "source": [
    "def ts2dt(ts, format=DATETIME_FORMAT):\r\n",
    "    dt = (datetime.utcfromtimestamp(int(ts))\r\n",
    "                    .replace(tzinfo=tz.tzutc())\r\n",
    "                    # .astimezone(tz.tzlocal())\r\n",
    "                    .astimezone(tz.gettz(TIME_ZONE)))\r\n",
    "    return dt.strftime(format), dt\r\n",
    "\r\n",
    "_, newest_dt = ts2dt(newest_ts)\r\n",
    "print(f\"Recent query happens at {newest_dt.strftime(DATETIME_FORMAT)} ({newest_dt.tzname()}).\")"
   ]
  },
  {
   "cell_type": "code",
   "execution_count": 4,
   "metadata": {
    "execution": {
     "iopub.execute_input": "2021-10-01T23:11:54.255173Z",
     "iopub.status.busy": "2021-10-01T23:11:54.253854Z",
     "iopub.status.idle": "2021-10-01T23:11:54.255756Z",
     "shell.execute_reply": "2021-10-01T23:11:54.256225Z"
    }
   },
   "outputs": [],
   "source": [
    "def degrees_to_cardinal(d):\r\n",
    "  dirs = ['N', 'NNE', 'NE', 'ENE', 'E', 'ESE', 'SE', 'SSE', 'S', 'SSW', 'SW', 'WSW', 'W', 'WNW', 'NW', 'NNW']\r\n",
    "  ix = int(round(d / (360. / len(dirs))))\r\n",
    "  return dirs[ix % len(dirs)]"
   ]
  },
  {
   "cell_type": "code",
   "execution_count": 5,
   "metadata": {
    "execution": {
     "iopub.execute_input": "2021-10-01T23:11:54.260903Z",
     "iopub.status.busy": "2021-10-01T23:11:54.259470Z",
     "iopub.status.idle": "2021-10-01T23:11:54.261555Z",
     "shell.execute_reply": "2021-10-01T23:11:54.261990Z"
    }
   },
   "outputs": [],
   "source": [
    "# data.keys()"
   ]
  },
  {
   "cell_type": "code",
   "execution_count": 6,
   "metadata": {
    "execution": {
     "iopub.execute_input": "2021-10-01T23:11:54.266216Z",
     "iopub.status.busy": "2021-10-01T23:11:54.264957Z",
     "iopub.status.idle": "2021-10-01T23:11:54.266820Z",
     "shell.execute_reply": "2021-10-01T23:11:54.267256Z"
    }
   },
   "outputs": [],
   "source": [
    "# data['current']"
   ]
  },
  {
   "cell_type": "code",
   "execution_count": 7,
   "metadata": {
    "execution": {
     "iopub.execute_input": "2021-10-01T23:11:54.286769Z",
     "iopub.status.busy": "2021-10-01T23:11:54.286091Z",
     "iopub.status.idle": "2021-10-01T23:11:54.845356Z",
     "shell.execute_reply": "2021-10-01T23:11:54.845825Z"
    }
   },
   "outputs": [
    {
     "data": {
      "image/png": "[encoded data removed]",
      "text/plain": [
       "<Figure size 216x216 with 1 Axes>"
      ]
     },
     "metadata": {
      "needs_background": "light"
     },
     "output_type": "display_data"
    },
    {
     "name": "stdout",
     "output_type": "stream",
     "text": [
      "Today, sun rises at 06:14 and sets at 18:10.\n",
      "Currently, the weather is Clouds (scattered clouds).\n",
      "The temperature is 28.21°C and it feels like 33.32°C.\n",
      "The UV index is 0.15, humidity is 84%.\n",
      "The pressure is 1011 hPa, percentage of cloud cover is 47%\n",
      "The wind comes from SE direction with a speed 1.79 m/s.\n"
     ]
    }
   ],
   "source": [
    "current = data['current']\r\n",
    "\r\n",
    "fig, ax = plt.subplots(figsize=(3, 3))\r\n",
    "icon = requests.get(f\"http://openweathermap.org/img/wn/{current['weather'][0]['icon']}@2x.png\")\r\n",
    "im = Image.open(BytesIO(icon.content))\r\n",
    "plt.imshow(im)\r\n",
    "ax.set_axis_off()\r\n",
    "plt.show()\r\n",
    "\r\n",
    "print(f\"Today, sun rises at {ts2dt(current['sunrise'], '%H:%M')[0]} \\\r\n",
    "and sets at {ts2dt(current['sunset'], '%H:%M')[0]}.\\n\\\r\n",
    "Currently, the weather is {current['weather'][0]['main']} ({current['weather'][0]['description']}).\\n\\\r\n",
    "The temperature is {current['temp']}°C and it feels like {current['feels_like']}°C.\\n\\\r\n",
    "The UV index is {current['uvi']}, humidity is {current['humidity']}%.\\n\\\r\n",
    "The pressure is {current['pressure']} hPa, percentage of cloud cover is {current['clouds']}%\\n\\\r\n",
    "The wind comes from {degrees_to_cardinal(current['wind_deg'])} direction with a speed {current['wind_speed']} m/s.\")"
   ]
  },
  {
   "cell_type": "code",
   "execution_count": 8,
   "metadata": {
    "execution": {
     "iopub.execute_input": "2021-10-01T23:11:54.851548Z",
     "iopub.status.busy": "2021-10-01T23:11:54.850924Z",
     "iopub.status.idle": "2021-10-01T23:11:54.856082Z",
     "shell.execute_reply": "2021-10-01T23:11:54.855521Z"
    }
   },
   "outputs": [],
   "source": [
    "df_hourly = pd.DataFrame(data['hourly'])\r\n",
    "df_daily = pd.DataFrame(data['daily'])"
   ]
  },
  {
   "cell_type": "code",
   "execution_count": 9,
   "metadata": {
    "execution": {
     "iopub.execute_input": "2021-10-01T23:11:54.877158Z",
     "iopub.status.busy": "2021-10-01T23:11:54.873617Z",
     "iopub.status.idle": "2021-10-01T23:11:55.161500Z",
     "shell.execute_reply": "2021-10-01T23:11:55.160635Z"
    }
   },
   "outputs": [
    {
     "data": {
      "image/png": "[encoded data removed]",
      "text/plain": [
       "<Figure size 864x432 with 1 Axes>"
      ]
     },
     "metadata": {
      "needs_background": "light"
     },
     "output_type": "display_data"
    }
   ],
   "source": [
    "fig, ax = plt.subplots(figsize=(12, 6))\r\n",
    "plt.plot(df_hourly.temp, '.-', label='Temperature')\r\n",
    "plt.plot(df_hourly.feels_like, '.-', label='Feels Like')\r\n",
    "ax.set(title='Temperature in future 48 hours', xlabel='Time', ylabel='Temperature')\r\n",
    "ax.set_xticks(list(range(0, len(df_hourly), 2)))\r\n",
    "ax.set_xticklabels([ts2dt(ts, '%m-%d %H:%M')[0] for i, ts in enumerate(df_hourly.dt) if i%2==0], \r\n",
    "                   rotation=45, ha=\"right\")\r\n",
    "ax.locator_params(nbins=15, axis='y')\r\n",
    "plt.legend()\r\n",
    "plt.show()"
   ]
  },
  {
   "cell_type": "code",
   "execution_count": 10,
   "metadata": {
    "execution": {
     "iopub.execute_input": "2021-10-01T23:11:55.174784Z",
     "iopub.status.busy": "2021-10-01T23:11:55.174238Z",
     "iopub.status.idle": "2021-10-01T23:11:55.185269Z",
     "shell.execute_reply": "2021-10-01T23:11:55.185698Z"
    }
   },
   "outputs": [
    {
     "data": {
      "text/html": [
       "<div>\n",
       "<style scoped>\n",
       "    .dataframe tbody tr th:only-of-type {\n",
       "        vertical-align: middle;\n",
       "    }\n",
       "\n",
       "    .dataframe tbody tr th {\n",
       "        vertical-align: top;\n",
       "    }\n",
       "\n",
       "    .dataframe thead th {\n",
       "        text-align: right;\n",
       "    }\n",
       "</style>\n",
       "<table border=\"1\" class=\"dataframe\">\n",
       "  <thead>\n",
       "    <tr style=\"text-align: right;\">\n",
       "      <th></th>\n",
       "      <th>dt</th>\n",
       "      <th>temp</th>\n",
       "      <th>feels_like</th>\n",
       "      <th>pressure</th>\n",
       "      <th>humidity</th>\n",
       "      <th>dew_point</th>\n",
       "      <th>uvi</th>\n",
       "      <th>clouds</th>\n",
       "      <th>visibility</th>\n",
       "      <th>wind_speed</th>\n",
       "      <th>wind_deg</th>\n",
       "      <th>wind_gust</th>\n",
       "      <th>weather</th>\n",
       "      <th>pop</th>\n",
       "      <th>rain</th>\n",
       "    </tr>\n",
       "  </thead>\n",
       "  <tbody>\n",
       "    <tr>\n",
       "      <th>0</th>\n",
       "      <td>1633129200</td>\n",
       "      <td>28.21</td>\n",
       "      <td>33.32</td>\n",
       "      <td>1011</td>\n",
       "      <td>84</td>\n",
       "      <td>25.25</td>\n",
       "      <td>0.15</td>\n",
       "      <td>47</td>\n",
       "      <td>10000</td>\n",
       "      <td>1.54</td>\n",
       "      <td>196</td>\n",
       "      <td>1.83</td>\n",
       "      <td>[{'id': 802, 'main': 'Clouds', 'description': ...</td>\n",
       "      <td>0.27</td>\n",
       "      <td>NaN</td>\n",
       "    </tr>\n",
       "    <tr>\n",
       "      <th>1</th>\n",
       "      <td>1633132800</td>\n",
       "      <td>28.18</td>\n",
       "      <td>32.89</td>\n",
       "      <td>1011</td>\n",
       "      <td>82</td>\n",
       "      <td>24.81</td>\n",
       "      <td>0.96</td>\n",
       "      <td>49</td>\n",
       "      <td>10000</td>\n",
       "      <td>1.81</td>\n",
       "      <td>182</td>\n",
       "      <td>2.07</td>\n",
       "      <td>[{'id': 802, 'main': 'Clouds', 'description': ...</td>\n",
       "      <td>0.27</td>\n",
       "      <td>NaN</td>\n",
       "    </tr>\n",
       "    <tr>\n",
       "      <th>2</th>\n",
       "      <td>1633136400</td>\n",
       "      <td>28.42</td>\n",
       "      <td>32.82</td>\n",
       "      <td>1012</td>\n",
       "      <td>78</td>\n",
       "      <td>24.21</td>\n",
       "      <td>2.73</td>\n",
       "      <td>45</td>\n",
       "      <td>10000</td>\n",
       "      <td>1.61</td>\n",
       "      <td>186</td>\n",
       "      <td>1.74</td>\n",
       "      <td>[{'id': 802, 'main': 'Clouds', 'description': ...</td>\n",
       "      <td>0.27</td>\n",
       "      <td>NaN</td>\n",
       "    </tr>\n",
       "    <tr>\n",
       "      <th>3</th>\n",
       "      <td>1633140000</td>\n",
       "      <td>28.88</td>\n",
       "      <td>33.02</td>\n",
       "      <td>1012</td>\n",
       "      <td>73</td>\n",
       "      <td>23.55</td>\n",
       "      <td>5.25</td>\n",
       "      <td>58</td>\n",
       "      <td>10000</td>\n",
       "      <td>2.32</td>\n",
       "      <td>173</td>\n",
       "      <td>2.27</td>\n",
       "      <td>[{'id': 803, 'main': 'Clouds', 'description': ...</td>\n",
       "      <td>0.27</td>\n",
       "      <td>NaN</td>\n",
       "    </tr>\n",
       "    <tr>\n",
       "      <th>4</th>\n",
       "      <td>1633143600</td>\n",
       "      <td>29.48</td>\n",
       "      <td>33.39</td>\n",
       "      <td>1012</td>\n",
       "      <td>68</td>\n",
       "      <td>22.95</td>\n",
       "      <td>7.67</td>\n",
       "      <td>58</td>\n",
       "      <td>10000</td>\n",
       "      <td>2.67</td>\n",
       "      <td>163</td>\n",
       "      <td>2.50</td>\n",
       "      <td>[{'id': 803, 'main': 'Clouds', 'description': ...</td>\n",
       "      <td>0.27</td>\n",
       "      <td>NaN</td>\n",
       "    </tr>\n",
       "  </tbody>\n",
       "</table>\n",
       "</div>"
      ],
      "text/plain": [
       "           dt   temp  feels_like  pressure  humidity  dew_point   uvi  clouds  \\\n",
       "0  1633129200  28.21       33.32      1011        84      25.25  0.15      47   \n",
       "1  1633132800  28.18       32.89      1011        82      24.81  0.96      49   \n",
       "2  1633136400  28.42       32.82      1012        78      24.21  2.73      45   \n",
       "3  1633140000  28.88       33.02      1012        73      23.55  5.25      58   \n",
       "4  1633143600  29.48       33.39      1012        68      22.95  7.67      58   \n",
       "\n",
       "   visibility  wind_speed  wind_deg  wind_gust  \\\n",
       "0       10000        1.54       196       1.83   \n",
       "1       10000        1.81       182       2.07   \n",
       "2       10000        1.61       186       1.74   \n",
       "3       10000        2.32       173       2.27   \n",
       "4       10000        2.67       163       2.50   \n",
       "\n",
       "                                             weather   pop rain  \n",
       "0  [{'id': 802, 'main': 'Clouds', 'description': ...  0.27  NaN  \n",
       "1  [{'id': 802, 'main': 'Clouds', 'description': ...  0.27  NaN  \n",
       "2  [{'id': 802, 'main': 'Clouds', 'description': ...  0.27  NaN  \n",
       "3  [{'id': 803, 'main': 'Clouds', 'description': ...  0.27  NaN  \n",
       "4  [{'id': 803, 'main': 'Clouds', 'description': ...  0.27  NaN  "
      ]
     },
     "execution_count": 10,
     "metadata": {},
     "output_type": "execute_result"
    }
   ],
   "source": [
    "df_hourly.head()"
   ]
  },
  {
   "cell_type": "code",
   "execution_count": null,
   "metadata": {},
   "outputs": [],
   "source": []
  }
 ],
 "metadata": {
  "interpreter": {
   "hash": "c1b4cfe941b6d2466ad1fb5979e97da9cda8801728c8091b097ab734208fc00c"
  },
  "kernelspec": {
   "display_name": "Python 3.8.3 64-bit ('base': conda)",
   "name": "python3"
  },
  "language_info": {
   "codemirror_mode": {
    "name": "ipython",
    "version": 3
   },
   "file_extension": ".py",
   "mimetype": "text/x-python",
   "name": "python",
   "nbconvert_exporter": "python",
   "pygments_lexer": "ipython3",
   "version": "3.8.12"
  }
 },
 "nbformat": 4,
 "nbformat_minor": 2
}
