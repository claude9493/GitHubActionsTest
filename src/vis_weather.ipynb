{
 "cells": [
  {
   "cell_type": "code",
   "execution_count": 1,
   "metadata": {
    "execution": {
     "iopub.execute_input": "2021-08-24T20:38:37.325486Z",
     "iopub.status.busy": "2021-08-24T20:38:37.324867Z",
     "iopub.status.idle": "2021-08-24T20:38:40.389163Z",
     "shell.execute_reply": "2021-08-24T20:38:40.388492Z"
    }
   },
   "outputs": [],
   "source": [
    "import json, yaml, requests\r\n",
    "from datetime import datetime\r\n",
    "from dateutil import tz\r\n",
    "import pandas as pd\r\n",
    "from PIL import Image\r\n",
    "from io import BytesIO\r\n",
    "import matplotlib.pyplot as plt\r\n",
    "import seaborn\r\n",
    "\r\n",
    "CONFIG_PATH = \"../config/config.yaml\""
   ]
  },
  {
   "cell_type": "code",
   "execution_count": 2,
   "metadata": {
    "execution": {
     "iopub.execute_input": "2021-08-24T20:38:40.395088Z",
     "iopub.status.busy": "2021-08-24T20:38:40.394285Z",
     "iopub.status.idle": "2021-08-24T20:38:40.399972Z",
     "shell.execute_reply": "2021-08-24T20:38:40.399244Z"
    }
   },
   "outputs": [],
   "source": [
    "with open('../newest_ts', 'r') as f:\r\n",
    "    newest_ts = f.read()\r\n",
    "\r\n",
    "data_path = f\"../data/data_{newest_ts}.json\"\r\n",
    "with open(data_path, 'r') as f:\r\n",
    "    data = json.load(f)\r\n",
    "\r\n",
    "with open(CONFIG_PATH, \"r\") as stream:\r\n",
    "    config = yaml.safe_load(stream)\r\n",
    "\r\n",
    "TIME_ZONE = config['time_zone']\r\n",
    "DATETIME_FORMAT = config['dt_format']"
   ]
  },
  {
   "cell_type": "code",
   "execution_count": 3,
   "metadata": {
    "execution": {
     "iopub.execute_input": "2021-08-24T20:38:40.405060Z",
     "iopub.status.busy": "2021-08-24T20:38:40.404312Z",
     "iopub.status.idle": "2021-08-24T20:38:40.449866Z",
     "shell.execute_reply": "2021-08-24T20:38:40.450299Z"
    }
   },
   "outputs": [
    {
     "name": "stdout",
     "output_type": "stream",
     "text": [
      "Recent query happens at 2021-08-25 04:38:34 (CST).\n"
     ]
    }
   ],
   "source": [
    "def ts2dt(ts, format=DATETIME_FORMAT):\r\n",
    "    dt = (datetime.utcfromtimestamp(int(ts))\r\n",
    "                    .replace(tzinfo=tz.tzutc())\r\n",
    "                    # .astimezone(tz.tzlocal())\r\n",
    "                    .astimezone(tz.gettz(TIME_ZONE)))\r\n",
    "    return dt.strftime(format), dt\r\n",
    "\r\n",
    "_, newest_dt = ts2dt(newest_ts)\r\n",
    "print(f\"Recent query happens at {newest_dt.strftime(DATETIME_FORMAT)} ({newest_dt.tzname()}).\")"
   ]
  },
  {
   "cell_type": "code",
   "execution_count": 4,
   "metadata": {
    "execution": {
     "iopub.execute_input": "2021-08-24T20:38:40.456192Z",
     "iopub.status.busy": "2021-08-24T20:38:40.454946Z",
     "iopub.status.idle": "2021-08-24T20:38:40.456825Z",
     "shell.execute_reply": "2021-08-24T20:38:40.457261Z"
    }
   },
   "outputs": [],
   "source": [
    "def degrees_to_cardinal(d):\r\n",
    "  dirs = ['N', 'NNE', 'NE', 'ENE', 'E', 'ESE', 'SE', 'SSE', 'S', 'SSW', 'SW', 'WSW', 'W', 'WNW', 'NW', 'NNW']\r\n",
    "  ix = int(round(d / (360. / len(dirs))))\r\n",
    "  return dirs[ix % len(dirs)]"
   ]
  },
  {
   "cell_type": "code",
   "execution_count": 5,
   "metadata": {
    "execution": {
     "iopub.execute_input": "2021-08-24T20:38:40.461622Z",
     "iopub.status.busy": "2021-08-24T20:38:40.460452Z",
     "iopub.status.idle": "2021-08-24T20:38:40.462207Z",
     "shell.execute_reply": "2021-08-24T20:38:40.462635Z"
    }
   },
   "outputs": [],
   "source": [
    "# data.keys()"
   ]
  },
  {
   "cell_type": "code",
   "execution_count": 6,
   "metadata": {
    "execution": {
     "iopub.execute_input": "2021-08-24T20:38:40.466925Z",
     "iopub.status.busy": "2021-08-24T20:38:40.465646Z",
     "iopub.status.idle": "2021-08-24T20:38:40.467517Z",
     "shell.execute_reply": "2021-08-24T20:38:40.467941Z"
    }
   },
   "outputs": [],
   "source": [
    "# data['current']"
   ]
  },
  {
   "cell_type": "code",
   "execution_count": 7,
   "metadata": {
    "execution": {
     "iopub.execute_input": "2021-08-24T20:38:40.488787Z",
     "iopub.status.busy": "2021-08-24T20:38:40.488219Z",
     "iopub.status.idle": "2021-08-24T20:38:40.782984Z",
     "shell.execute_reply": "2021-08-24T20:38:40.783735Z"
    }
   },
   "outputs": [
    {
     "data": {
      "image/png": "[encoded data removed]",
      "text/plain": [
       "<Figure size 216x216 with 1 Axes>"
      ]
     },
     "metadata": {
      "needs_background": "light"
     },
     "output_type": "display_data"
    },
    {
     "name": "stdout",
     "output_type": "stream",
     "text": [
      "Today, sun rises at 06:03 and sets at 18:46.\n",
      "Currently, the weather is Clouds (overcast clouds).\n",
      "The temperature is 28.89°C and it feels like 34.86°C.\n",
      "The UV index is 0, humidity is 82%.\n",
      "The pressure is 1008 hPa, percentage of cloud cover is 100%\n",
      "The wind comes from SE direction with a speed 2.29 m/s.\n"
     ]
    }
   ],
   "source": [
    "current = data['current']\r\n",
    "\r\n",
    "fig, ax = plt.subplots(figsize=(3, 3))\r\n",
    "icon = requests.get(f\"http://openweathermap.org/img/wn/{current['weather'][0]['icon']}@2x.png\")\r\n",
    "im = Image.open(BytesIO(icon.content))\r\n",
    "plt.imshow(im)\r\n",
    "ax.set_axis_off()\r\n",
    "plt.show()\r\n",
    "\r\n",
    "print(f\"Today, sun rises at {ts2dt(current['sunrise'], '%H:%M')[0]} \\\r\n",
    "and sets at {ts2dt(current['sunset'], '%H:%M')[0]}.\\n\\\r\n",
    "Currently, the weather is {current['weather'][0]['main']} ({current['weather'][0]['description']}).\\n\\\r\n",
    "The temperature is {current['temp']}°C and it feels like {current['feels_like']}°C.\\n\\\r\n",
    "The UV index is {current['uvi']}, humidity is {current['humidity']}%.\\n\\\r\n",
    "The pressure is {current['pressure']} hPa, percentage of cloud cover is {current['clouds']}%\\n\\\r\n",
    "The wind comes from {degrees_to_cardinal(current['wind_deg'])} direction with a speed {current['wind_speed']} m/s.\")"
   ]
  },
  {
   "cell_type": "code",
   "execution_count": 8,
   "metadata": {
    "execution": {
     "iopub.execute_input": "2021-08-24T20:38:40.787327Z",
     "iopub.status.busy": "2021-08-24T20:38:40.786206Z",
     "iopub.status.idle": "2021-08-24T20:38:40.793789Z",
     "shell.execute_reply": "2021-08-24T20:38:40.794505Z"
    }
   },
   "outputs": [],
   "source": [
    "df_hourly = pd.DataFrame(data['hourly'])\r\n",
    "df_daily = pd.DataFrame(data['daily'])"
   ]
  },
  {
   "cell_type": "code",
   "execution_count": 9,
   "metadata": {
    "execution": {
     "iopub.execute_input": "2021-08-24T20:38:40.798076Z",
     "iopub.status.busy": "2021-08-24T20:38:40.797017Z",
     "iopub.status.idle": "2021-08-24T20:38:41.074067Z",
     "shell.execute_reply": "2021-08-24T20:38:41.072924Z"
    }
   },
   "outputs": [
    {
     "data": {
      "image/png": "[encoded data removed]",
      "text/plain": [
       "<Figure size 864x432 with 1 Axes>"
      ]
     },
     "metadata": {
      "needs_background": "light"
     },
     "output_type": "display_data"
    }
   ],
   "source": [
    "fig, ax = plt.subplots(figsize=(12, 6))\r\n",
    "plt.plot(df_hourly.temp, '.-', label='Temperature')\r\n",
    "plt.plot(df_hourly.feels_like, '.-', label='Feels Like')\r\n",
    "ax.set(title='Temperature in future 48 hours', xlabel='Time', ylabel='Temperature')\r\n",
    "ax.set_xticks(list(range(0, len(df_hourly), 2)))\r\n",
    "ax.set_xticklabels([ts2dt(ts, '%m-%d %H:%M')[0] for i, ts in enumerate(df_hourly.dt) if i%2==0], \r\n",
    "                   rotation=45, ha=\"right\")\r\n",
    "ax.locator_params(nbins=15, axis='y')\r\n",
    "plt.legend()\r\n",
    "plt.show()"
   ]
  },
  {
   "cell_type": "code",
   "execution_count": 10,
   "metadata": {
    "execution": {
     "iopub.execute_input": "2021-08-24T20:38:41.086116Z",
     "iopub.status.busy": "2021-08-24T20:38:41.078017Z",
     "iopub.status.idle": "2021-08-24T20:38:41.096569Z",
     "shell.execute_reply": "2021-08-24T20:38:41.096102Z"
    }
   },
   "outputs": [
    {
     "data": {
      "text/html": [
       "<div>\n",
       "<style scoped>\n",
       "    .dataframe tbody tr th:only-of-type {\n",
       "        vertical-align: middle;\n",
       "    }\n",
       "\n",
       "    .dataframe tbody tr th {\n",
       "        vertical-align: top;\n",
       "    }\n",
       "\n",
       "    .dataframe thead th {\n",
       "        text-align: right;\n",
       "    }\n",
       "</style>\n",
       "<table border=\"1\" class=\"dataframe\">\n",
       "  <thead>\n",
       "    <tr style=\"text-align: right;\">\n",
       "      <th></th>\n",
       "      <th>dt</th>\n",
       "      <th>temp</th>\n",
       "      <th>feels_like</th>\n",
       "      <th>pressure</th>\n",
       "      <th>humidity</th>\n",
       "      <th>dew_point</th>\n",
       "      <th>uvi</th>\n",
       "      <th>clouds</th>\n",
       "      <th>visibility</th>\n",
       "      <th>wind_speed</th>\n",
       "      <th>wind_deg</th>\n",
       "      <th>wind_gust</th>\n",
       "      <th>weather</th>\n",
       "      <th>pop</th>\n",
       "      <th>rain</th>\n",
       "    </tr>\n",
       "  </thead>\n",
       "  <tbody>\n",
       "    <tr>\n",
       "      <th>0</th>\n",
       "      <td>1629835200</td>\n",
       "      <td>28.63</td>\n",
       "      <td>34.32</td>\n",
       "      <td>1008</td>\n",
       "      <td>83</td>\n",
       "      <td>25.46</td>\n",
       "      <td>0.00</td>\n",
       "      <td>100</td>\n",
       "      <td>10000</td>\n",
       "      <td>2.36</td>\n",
       "      <td>148</td>\n",
       "      <td>3.19</td>\n",
       "      <td>[{'id': 500, 'main': 'Rain', 'description': 'l...</td>\n",
       "      <td>0.41</td>\n",
       "      <td>{'1h': 0.16}</td>\n",
       "    </tr>\n",
       "    <tr>\n",
       "      <th>1</th>\n",
       "      <td>1629838800</td>\n",
       "      <td>28.89</td>\n",
       "      <td>34.86</td>\n",
       "      <td>1008</td>\n",
       "      <td>82</td>\n",
       "      <td>25.51</td>\n",
       "      <td>0.00</td>\n",
       "      <td>100</td>\n",
       "      <td>10000</td>\n",
       "      <td>2.29</td>\n",
       "      <td>139</td>\n",
       "      <td>3.07</td>\n",
       "      <td>[{'id': 804, 'main': 'Clouds', 'description': ...</td>\n",
       "      <td>0.37</td>\n",
       "      <td>NaN</td>\n",
       "    </tr>\n",
       "    <tr>\n",
       "      <th>2</th>\n",
       "      <td>1629842400</td>\n",
       "      <td>28.63</td>\n",
       "      <td>34.32</td>\n",
       "      <td>1008</td>\n",
       "      <td>83</td>\n",
       "      <td>25.46</td>\n",
       "      <td>0.00</td>\n",
       "      <td>100</td>\n",
       "      <td>10000</td>\n",
       "      <td>2.19</td>\n",
       "      <td>132</td>\n",
       "      <td>2.86</td>\n",
       "      <td>[{'id': 804, 'main': 'Clouds', 'description': ...</td>\n",
       "      <td>0.53</td>\n",
       "      <td>NaN</td>\n",
       "    </tr>\n",
       "    <tr>\n",
       "      <th>3</th>\n",
       "      <td>1629846000</td>\n",
       "      <td>28.50</td>\n",
       "      <td>33.76</td>\n",
       "      <td>1008</td>\n",
       "      <td>82</td>\n",
       "      <td>25.13</td>\n",
       "      <td>0.37</td>\n",
       "      <td>100</td>\n",
       "      <td>10000</td>\n",
       "      <td>2.01</td>\n",
       "      <td>131</td>\n",
       "      <td>2.68</td>\n",
       "      <td>[{'id': 804, 'main': 'Clouds', 'description': ...</td>\n",
       "      <td>0.53</td>\n",
       "      <td>NaN</td>\n",
       "    </tr>\n",
       "    <tr>\n",
       "      <th>4</th>\n",
       "      <td>1629849600</td>\n",
       "      <td>28.44</td>\n",
       "      <td>33.23</td>\n",
       "      <td>1009</td>\n",
       "      <td>80</td>\n",
       "      <td>24.65</td>\n",
       "      <td>1.58</td>\n",
       "      <td>99</td>\n",
       "      <td>10000</td>\n",
       "      <td>2.51</td>\n",
       "      <td>137</td>\n",
       "      <td>3.20</td>\n",
       "      <td>[{'id': 500, 'main': 'Rain', 'description': 'l...</td>\n",
       "      <td>0.65</td>\n",
       "      <td>{'1h': 0.93}</td>\n",
       "    </tr>\n",
       "  </tbody>\n",
       "</table>\n",
       "</div>"
      ],
      "text/plain": [
       "           dt   temp  feels_like  pressure  humidity  dew_point   uvi  clouds  \\\n",
       "0  1629835200  28.63       34.32      1008        83      25.46  0.00     100   \n",
       "1  1629838800  28.89       34.86      1008        82      25.51  0.00     100   \n",
       "2  1629842400  28.63       34.32      1008        83      25.46  0.00     100   \n",
       "3  1629846000  28.50       33.76      1008        82      25.13  0.37     100   \n",
       "4  1629849600  28.44       33.23      1009        80      24.65  1.58      99   \n",
       "\n",
       "   visibility  wind_speed  wind_deg  wind_gust  \\\n",
       "0       10000        2.36       148       3.19   \n",
       "1       10000        2.29       139       3.07   \n",
       "2       10000        2.19       132       2.86   \n",
       "3       10000        2.01       131       2.68   \n",
       "4       10000        2.51       137       3.20   \n",
       "\n",
       "                                             weather   pop          rain  \n",
       "0  [{'id': 500, 'main': 'Rain', 'description': 'l...  0.41  {'1h': 0.16}  \n",
       "1  [{'id': 804, 'main': 'Clouds', 'description': ...  0.37           NaN  \n",
       "2  [{'id': 804, 'main': 'Clouds', 'description': ...  0.53           NaN  \n",
       "3  [{'id': 804, 'main': 'Clouds', 'description': ...  0.53           NaN  \n",
       "4  [{'id': 500, 'main': 'Rain', 'description': 'l...  0.65  {'1h': 0.93}  "
      ]
     },
     "execution_count": 10,
     "metadata": {},
     "output_type": "execute_result"
    }
   ],
   "source": [
    "df_hourly.head()"
   ]
  },
  {
   "cell_type": "code",
   "execution_count": null,
   "metadata": {},
   "outputs": [],
   "source": []
  }
 ],
 "metadata": {
  "interpreter": {
   "hash": "c1b4cfe941b6d2466ad1fb5979e97da9cda8801728c8091b097ab734208fc00c"
  },
  "kernelspec": {
   "display_name": "Python 3.8.3 64-bit ('base': conda)",
   "name": "python3"
  },
  "language_info": {
   "codemirror_mode": {
    "name": "ipython",
    "version": 3
   },
   "file_extension": ".py",
   "mimetype": "text/x-python",
   "name": "python",
   "nbconvert_exporter": "python",
   "pygments_lexer": "ipython3",
   "version": "3.8.11"
  }
 },
 "nbformat": 4,
 "nbformat_minor": 2
}
