{
 "cells": [
  {
   "cell_type": "code",
   "execution_count": 1,
   "metadata": {
    "execution": {
     "iopub.execute_input": "2021-10-24T21:10:25.242784Z",
     "iopub.status.busy": "2021-10-24T21:10:25.242104Z",
     "iopub.status.idle": "2021-10-24T21:10:28.883265Z",
     "shell.execute_reply": "2021-10-24T21:10:28.882573Z"
    }
   },
   "outputs": [],
   "source": [
    "import json, yaml, requests\r\n",
    "from datetime import datetime\r\n",
    "from dateutil import tz\r\n",
    "import pandas as pd\r\n",
    "from PIL import Image\r\n",
    "from io import BytesIO\r\n",
    "import matplotlib.pyplot as plt\r\n",
    "import seaborn\r\n",
    "\r\n",
    "CONFIG_PATH = \"../config/config.yaml\""
   ]
  },
  {
   "cell_type": "code",
   "execution_count": 2,
   "metadata": {
    "execution": {
     "iopub.execute_input": "2021-10-24T21:10:28.891708Z",
     "iopub.status.busy": "2021-10-24T21:10:28.888308Z",
     "iopub.status.idle": "2021-10-24T21:10:28.893688Z",
     "shell.execute_reply": "2021-10-24T21:10:28.894153Z"
    }
   },
   "outputs": [],
   "source": [
    "with open('../newest_ts', 'r') as f:\r\n",
    "    newest_ts = f.read()\r\n",
    "\r\n",
    "data_path = f\"../data/data_{newest_ts}.json\"\r\n",
    "with open(data_path, 'r') as f:\r\n",
    "    data = json.load(f)\r\n",
    "\r\n",
    "with open(CONFIG_PATH, \"r\") as stream:\r\n",
    "    config = yaml.safe_load(stream)\r\n",
    "\r\n",
    "TIME_ZONE = config['time_zone']\r\n",
    "DATETIME_FORMAT = config['dt_format']"
   ]
  },
  {
   "cell_type": "code",
   "execution_count": 3,
   "metadata": {
    "execution": {
     "iopub.execute_input": "2021-10-24T21:10:28.899272Z",
     "iopub.status.busy": "2021-10-24T21:10:28.898642Z",
     "iopub.status.idle": "2021-10-24T21:10:28.904362Z",
     "shell.execute_reply": "2021-10-24T21:10:28.904945Z"
    }
   },
   "outputs": [
    {
     "name": "stdout",
     "output_type": "stream",
     "text": [
      "Recent query happens at 2021-10-25 05:10:21 (CST).\n"
     ]
    }
   ],
   "source": [
    "def ts2dt(ts, format=DATETIME_FORMAT):\r\n",
    "    dt = (datetime.utcfromtimestamp(int(ts))\r\n",
    "                    .replace(tzinfo=tz.tzutc())\r\n",
    "                    # .astimezone(tz.tzlocal())\r\n",
    "                    .astimezone(tz.gettz(TIME_ZONE)))\r\n",
    "    return dt.strftime(format), dt\r\n",
    "\r\n",
    "_, newest_dt = ts2dt(newest_ts)\r\n",
    "print(f\"Recent query happens at {newest_dt.strftime(DATETIME_FORMAT)} ({newest_dt.tzname()}).\")"
   ]
  },
  {
   "cell_type": "code",
   "execution_count": 4,
   "metadata": {
    "execution": {
     "iopub.execute_input": "2021-10-24T21:10:28.907941Z",
     "iopub.status.busy": "2021-10-24T21:10:28.907085Z",
     "iopub.status.idle": "2021-10-24T21:10:28.912321Z",
     "shell.execute_reply": "2021-10-24T21:10:28.911800Z"
    }
   },
   "outputs": [],
   "source": [
    "def degrees_to_cardinal(d):\r\n",
    "  dirs = ['N', 'NNE', 'NE', 'ENE', 'E', 'ESE', 'SE', 'SSE', 'S', 'SSW', 'SW', 'WSW', 'W', 'WNW', 'NW', 'NNW']\r\n",
    "  ix = int(round(d / (360. / len(dirs))))\r\n",
    "  return dirs[ix % len(dirs)]"
   ]
  },
  {
   "cell_type": "code",
   "execution_count": 5,
   "metadata": {
    "execution": {
     "iopub.execute_input": "2021-10-24T21:10:28.916163Z",
     "iopub.status.busy": "2021-10-24T21:10:28.915572Z",
     "iopub.status.idle": "2021-10-24T21:10:28.919612Z",
     "shell.execute_reply": "2021-10-24T21:10:28.918967Z"
    }
   },
   "outputs": [],
   "source": [
    "# data.keys()"
   ]
  },
  {
   "cell_type": "code",
   "execution_count": 6,
   "metadata": {
    "execution": {
     "iopub.execute_input": "2021-10-24T21:10:28.923360Z",
     "iopub.status.busy": "2021-10-24T21:10:28.922727Z",
     "iopub.status.idle": "2021-10-24T21:10:28.926718Z",
     "shell.execute_reply": "2021-10-24T21:10:28.926204Z"
    }
   },
   "outputs": [],
   "source": [
    "# data['current']"
   ]
  },
  {
   "cell_type": "code",
   "execution_count": 7,
   "metadata": {
    "execution": {
     "iopub.execute_input": "2021-10-24T21:10:28.946895Z",
     "iopub.status.busy": "2021-10-24T21:10:28.938539Z",
     "iopub.status.idle": "2021-10-24T21:10:29.360212Z",
     "shell.execute_reply": "2021-10-24T21:10:29.360684Z"
    }
   },
   "outputs": [
    {
     "data": {
      "image/png": "[encoded data removed]",
      "text/plain": [
       "<Figure size 216x216 with 1 Axes>"
      ]
     },
     "metadata": {
      "needs_background": "light"
     },
     "output_type": "display_data"
    },
    {
     "name": "stdout",
     "output_type": "stream",
     "text": [
      "Today, sun rises at 06:23 and sets at 17:50.\n",
      "Currently, the weather is Clouds (scattered clouds).\n",
      "The temperature is 20°C and it feels like 19.99°C.\n",
      "The UV index is 0, humidity is 74%.\n",
      "The pressure is 1017 hPa, percentage of cloud cover is 31%\n",
      "The wind comes from N direction with a speed 2.68 m/s.\n"
     ]
    }
   ],
   "source": [
    "current = data['current']\r\n",
    "\r\n",
    "fig, ax = plt.subplots(figsize=(3, 3))\r\n",
    "icon = requests.get(f\"http://openweathermap.org/img/wn/{current['weather'][0]['icon']}@2x.png\")\r\n",
    "im = Image.open(BytesIO(icon.content))\r\n",
    "plt.imshow(im)\r\n",
    "ax.set_axis_off()\r\n",
    "plt.show()\r\n",
    "\r\n",
    "print(f\"Today, sun rises at {ts2dt(current['sunrise'], '%H:%M')[0]} \\\r\n",
    "and sets at {ts2dt(current['sunset'], '%H:%M')[0]}.\\n\\\r\n",
    "Currently, the weather is {current['weather'][0]['main']} ({current['weather'][0]['description']}).\\n\\\r\n",
    "The temperature is {current['temp']}°C and it feels like {current['feels_like']}°C.\\n\\\r\n",
    "The UV index is {current['uvi']}, humidity is {current['humidity']}%.\\n\\\r\n",
    "The pressure is {current['pressure']} hPa, percentage of cloud cover is {current['clouds']}%\\n\\\r\n",
    "The wind comes from {degrees_to_cardinal(current['wind_deg'])} direction with a speed {current['wind_speed']} m/s.\")"
   ]
  },
  {
   "cell_type": "code",
   "execution_count": 8,
   "metadata": {
    "execution": {
     "iopub.execute_input": "2021-10-24T21:10:29.367999Z",
     "iopub.status.busy": "2021-10-24T21:10:29.367401Z",
     "iopub.status.idle": "2021-10-24T21:10:29.373131Z",
     "shell.execute_reply": "2021-10-24T21:10:29.373923Z"
    }
   },
   "outputs": [],
   "source": [
    "df_hourly = pd.DataFrame(data['hourly'])\r\n",
    "df_daily = pd.DataFrame(data['daily'])"
   ]
  },
  {
   "cell_type": "code",
   "execution_count": 9,
   "metadata": {
    "execution": {
     "iopub.execute_input": "2021-10-24T21:10:29.377630Z",
     "iopub.status.busy": "2021-10-24T21:10:29.376412Z",
     "iopub.status.idle": "2021-10-24T21:10:29.753683Z",
     "shell.execute_reply": "2021-10-24T21:10:29.754228Z"
    }
   },
   "outputs": [
    {
     "data": {
      "image/png": "[encoded data removed]",
      "text/plain": [
       "<Figure size 864x432 with 1 Axes>"
      ]
     },
     "metadata": {
      "needs_background": "light"
     },
     "output_type": "display_data"
    }
   ],
   "source": [
    "fig, ax = plt.subplots(figsize=(12, 6))\r\n",
    "plt.plot(df_hourly.temp, '.-', label='Temperature')\r\n",
    "plt.plot(df_hourly.feels_like, '.-', label='Feels Like')\r\n",
    "ax.set(title='Temperature in future 48 hours', xlabel='Time', ylabel='Temperature')\r\n",
    "ax.set_xticks(list(range(0, len(df_hourly), 2)))\r\n",
    "ax.set_xticklabels([ts2dt(ts, '%m-%d %H:%M')[0] for i, ts in enumerate(df_hourly.dt) if i%2==0], \r\n",
    "                   rotation=45, ha=\"right\")\r\n",
    "ax.locator_params(nbins=15, axis='y')\r\n",
    "plt.legend()\r\n",
    "plt.show()"
   ]
  },
  {
   "cell_type": "code",
   "execution_count": 10,
   "metadata": {
    "execution": {
     "iopub.execute_input": "2021-10-24T21:10:29.759560Z",
     "iopub.status.busy": "2021-10-24T21:10:29.758918Z",
     "iopub.status.idle": "2021-10-24T21:10:29.781093Z",
     "shell.execute_reply": "2021-10-24T21:10:29.781564Z"
    }
   },
   "outputs": [
    {
     "data": {
      "text/html": [
       "<div>\n",
       "<style scoped>\n",
       "    .dataframe tbody tr th:only-of-type {\n",
       "        vertical-align: middle;\n",
       "    }\n",
       "\n",
       "    .dataframe tbody tr th {\n",
       "        vertical-align: top;\n",
       "    }\n",
       "\n",
       "    .dataframe thead th {\n",
       "        text-align: right;\n",
       "    }\n",
       "</style>\n",
       "<table border=\"1\" class=\"dataframe\">\n",
       "  <thead>\n",
       "    <tr style=\"text-align: right;\">\n",
       "      <th></th>\n",
       "      <th>dt</th>\n",
       "      <th>temp</th>\n",
       "      <th>feels_like</th>\n",
       "      <th>pressure</th>\n",
       "      <th>humidity</th>\n",
       "      <th>dew_point</th>\n",
       "      <th>uvi</th>\n",
       "      <th>clouds</th>\n",
       "      <th>visibility</th>\n",
       "      <th>wind_speed</th>\n",
       "      <th>wind_deg</th>\n",
       "      <th>wind_gust</th>\n",
       "      <th>weather</th>\n",
       "      <th>pop</th>\n",
       "      <th>rain</th>\n",
       "    </tr>\n",
       "  </thead>\n",
       "  <tbody>\n",
       "    <tr>\n",
       "      <th>0</th>\n",
       "      <td>1635109200</td>\n",
       "      <td>20.00</td>\n",
       "      <td>19.99</td>\n",
       "      <td>1017</td>\n",
       "      <td>74</td>\n",
       "      <td>15.23</td>\n",
       "      <td>0.00</td>\n",
       "      <td>31</td>\n",
       "      <td>10000</td>\n",
       "      <td>3.57</td>\n",
       "      <td>14</td>\n",
       "      <td>4.35</td>\n",
       "      <td>[{'id': 802, 'main': 'Clouds', 'description': ...</td>\n",
       "      <td>0.0</td>\n",
       "      <td>NaN</td>\n",
       "    </tr>\n",
       "    <tr>\n",
       "      <th>1</th>\n",
       "      <td>1635112800</td>\n",
       "      <td>19.81</td>\n",
       "      <td>19.75</td>\n",
       "      <td>1017</td>\n",
       "      <td>73</td>\n",
       "      <td>14.83</td>\n",
       "      <td>0.00</td>\n",
       "      <td>33</td>\n",
       "      <td>10000</td>\n",
       "      <td>3.30</td>\n",
       "      <td>10</td>\n",
       "      <td>4.00</td>\n",
       "      <td>[{'id': 500, 'main': 'Rain', 'description': 'l...</td>\n",
       "      <td>0.2</td>\n",
       "      <td>{'1h': 0.13}</td>\n",
       "    </tr>\n",
       "    <tr>\n",
       "      <th>2</th>\n",
       "      <td>1635116400</td>\n",
       "      <td>19.70</td>\n",
       "      <td>19.63</td>\n",
       "      <td>1017</td>\n",
       "      <td>73</td>\n",
       "      <td>14.73</td>\n",
       "      <td>0.00</td>\n",
       "      <td>38</td>\n",
       "      <td>10000</td>\n",
       "      <td>3.18</td>\n",
       "      <td>11</td>\n",
       "      <td>3.92</td>\n",
       "      <td>[{'id': 802, 'main': 'Clouds', 'description': ...</td>\n",
       "      <td>0.0</td>\n",
       "      <td>NaN</td>\n",
       "    </tr>\n",
       "    <tr>\n",
       "      <th>3</th>\n",
       "      <td>1635120000</td>\n",
       "      <td>19.89</td>\n",
       "      <td>19.79</td>\n",
       "      <td>1018</td>\n",
       "      <td>71</td>\n",
       "      <td>14.48</td>\n",
       "      <td>0.62</td>\n",
       "      <td>45</td>\n",
       "      <td>10000</td>\n",
       "      <td>3.07</td>\n",
       "      <td>8</td>\n",
       "      <td>3.75</td>\n",
       "      <td>[{'id': 802, 'main': 'Clouds', 'description': ...</td>\n",
       "      <td>0.0</td>\n",
       "      <td>NaN</td>\n",
       "    </tr>\n",
       "    <tr>\n",
       "      <th>4</th>\n",
       "      <td>1635123600</td>\n",
       "      <td>20.54</td>\n",
       "      <td>20.43</td>\n",
       "      <td>1018</td>\n",
       "      <td>68</td>\n",
       "      <td>14.44</td>\n",
       "      <td>1.96</td>\n",
       "      <td>80</td>\n",
       "      <td>10000</td>\n",
       "      <td>2.83</td>\n",
       "      <td>12</td>\n",
       "      <td>3.38</td>\n",
       "      <td>[{'id': 803, 'main': 'Clouds', 'description': ...</td>\n",
       "      <td>0.0</td>\n",
       "      <td>NaN</td>\n",
       "    </tr>\n",
       "  </tbody>\n",
       "</table>\n",
       "</div>"
      ],
      "text/plain": [
       "           dt   temp  feels_like  pressure  humidity  dew_point   uvi  clouds  \\\n",
       "0  1635109200  20.00       19.99      1017        74      15.23  0.00      31   \n",
       "1  1635112800  19.81       19.75      1017        73      14.83  0.00      33   \n",
       "2  1635116400  19.70       19.63      1017        73      14.73  0.00      38   \n",
       "3  1635120000  19.89       19.79      1018        71      14.48  0.62      45   \n",
       "4  1635123600  20.54       20.43      1018        68      14.44  1.96      80   \n",
       "\n",
       "   visibility  wind_speed  wind_deg  wind_gust  \\\n",
       "0       10000        3.57        14       4.35   \n",
       "1       10000        3.30        10       4.00   \n",
       "2       10000        3.18        11       3.92   \n",
       "3       10000        3.07         8       3.75   \n",
       "4       10000        2.83        12       3.38   \n",
       "\n",
       "                                             weather  pop          rain  \n",
       "0  [{'id': 802, 'main': 'Clouds', 'description': ...  0.0           NaN  \n",
       "1  [{'id': 500, 'main': 'Rain', 'description': 'l...  0.2  {'1h': 0.13}  \n",
       "2  [{'id': 802, 'main': 'Clouds', 'description': ...  0.0           NaN  \n",
       "3  [{'id': 802, 'main': 'Clouds', 'description': ...  0.0           NaN  \n",
       "4  [{'id': 803, 'main': 'Clouds', 'description': ...  0.0           NaN  "
      ]
     },
     "execution_count": 10,
     "metadata": {},
     "output_type": "execute_result"
    }
   ],
   "source": [
    "df_hourly.head()"
   ]
  },
  {
   "cell_type": "code",
   "execution_count": null,
   "metadata": {},
   "outputs": [],
   "source": []
  }
 ],
 "metadata": {
  "interpreter": {
   "hash": "c1b4cfe941b6d2466ad1fb5979e97da9cda8801728c8091b097ab734208fc00c"
  },
  "kernelspec": {
   "display_name": "Python 3.8.3 64-bit ('base': conda)",
   "name": "python3"
  },
  "language_info": {
   "codemirror_mode": {
    "name": "ipython",
    "version": 3
   },
   "file_extension": ".py",
   "mimetype": "text/x-python",
   "name": "python",
   "nbconvert_exporter": "python",
   "pygments_lexer": "ipython3",
   "version": "3.8.12"
  }
 },
 "nbformat": 4,
 "nbformat_minor": 2
}
