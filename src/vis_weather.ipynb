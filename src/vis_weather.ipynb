{
 "cells": [
  {
   "cell_type": "code",
   "execution_count": 1,
   "metadata": {
    "execution": {
     "iopub.execute_input": "2021-09-25T23:11:17.101929Z",
     "iopub.status.busy": "2021-09-25T23:11:17.101230Z",
     "iopub.status.idle": "2021-09-25T23:11:21.235720Z",
     "shell.execute_reply": "2021-09-25T23:11:21.234591Z"
    }
   },
   "outputs": [],
   "source": [
    "import json, yaml, requests\r\n",
    "from datetime import datetime\r\n",
    "from dateutil import tz\r\n",
    "import pandas as pd\r\n",
    "from PIL import Image\r\n",
    "from io import BytesIO\r\n",
    "import matplotlib.pyplot as plt\r\n",
    "import seaborn\r\n",
    "\r\n",
    "CONFIG_PATH = \"../config/config.yaml\""
   ]
  },
  {
   "cell_type": "code",
   "execution_count": 2,
   "metadata": {
    "execution": {
     "iopub.execute_input": "2021-09-25T23:11:21.240741Z",
     "iopub.status.busy": "2021-09-25T23:11:21.238336Z",
     "iopub.status.idle": "2021-09-25T23:11:21.245998Z",
     "shell.execute_reply": "2021-09-25T23:11:21.246421Z"
    }
   },
   "outputs": [],
   "source": [
    "with open('../newest_ts', 'r') as f:\r\n",
    "    newest_ts = f.read()\r\n",
    "\r\n",
    "data_path = f\"../data/data_{newest_ts}.json\"\r\n",
    "with open(data_path, 'r') as f:\r\n",
    "    data = json.load(f)\r\n",
    "\r\n",
    "with open(CONFIG_PATH, \"r\") as stream:\r\n",
    "    config = yaml.safe_load(stream)\r\n",
    "\r\n",
    "TIME_ZONE = config['time_zone']\r\n",
    "DATETIME_FORMAT = config['dt_format']"
   ]
  },
  {
   "cell_type": "code",
   "execution_count": 3,
   "metadata": {
    "execution": {
     "iopub.execute_input": "2021-09-25T23:11:21.251244Z",
     "iopub.status.busy": "2021-09-25T23:11:21.250642Z",
     "iopub.status.idle": "2021-09-25T23:11:21.256009Z",
     "shell.execute_reply": "2021-09-25T23:11:21.256497Z"
    }
   },
   "outputs": [
    {
     "name": "stdout",
     "output_type": "stream",
     "text": [
      "Recent query happens at 2021-09-26 07:11:13 (CST).\n"
     ]
    }
   ],
   "source": [
    "def ts2dt(ts, format=DATETIME_FORMAT):\r\n",
    "    dt = (datetime.utcfromtimestamp(int(ts))\r\n",
    "                    .replace(tzinfo=tz.tzutc())\r\n",
    "                    # .astimezone(tz.tzlocal())\r\n",
    "                    .astimezone(tz.gettz(TIME_ZONE)))\r\n",
    "    return dt.strftime(format), dt\r\n",
    "\r\n",
    "_, newest_dt = ts2dt(newest_ts)\r\n",
    "print(f\"Recent query happens at {newest_dt.strftime(DATETIME_FORMAT)} ({newest_dt.tzname()}).\")"
   ]
  },
  {
   "cell_type": "code",
   "execution_count": 4,
   "metadata": {
    "execution": {
     "iopub.execute_input": "2021-09-25T23:11:21.262237Z",
     "iopub.status.busy": "2021-09-25T23:11:21.260823Z",
     "iopub.status.idle": "2021-09-25T23:11:21.262831Z",
     "shell.execute_reply": "2021-09-25T23:11:21.263422Z"
    }
   },
   "outputs": [],
   "source": [
    "def degrees_to_cardinal(d):\r\n",
    "  dirs = ['N', 'NNE', 'NE', 'ENE', 'E', 'ESE', 'SE', 'SSE', 'S', 'SSW', 'SW', 'WSW', 'W', 'WNW', 'NW', 'NNW']\r\n",
    "  ix = int(round(d / (360. / len(dirs))))\r\n",
    "  return dirs[ix % len(dirs)]"
   ]
  },
  {
   "cell_type": "code",
   "execution_count": 5,
   "metadata": {
    "execution": {
     "iopub.execute_input": "2021-09-25T23:11:21.268677Z",
     "iopub.status.busy": "2021-09-25T23:11:21.267209Z",
     "iopub.status.idle": "2021-09-25T23:11:21.269348Z",
     "shell.execute_reply": "2021-09-25T23:11:21.269821Z"
    }
   },
   "outputs": [],
   "source": [
    "# data.keys()"
   ]
  },
  {
   "cell_type": "code",
   "execution_count": 6,
   "metadata": {
    "execution": {
     "iopub.execute_input": "2021-09-25T23:11:21.274860Z",
     "iopub.status.busy": "2021-09-25T23:11:21.273284Z",
     "iopub.status.idle": "2021-09-25T23:11:21.275457Z",
     "shell.execute_reply": "2021-09-25T23:11:21.275898Z"
    }
   },
   "outputs": [],
   "source": [
    "# data['current']"
   ]
  },
  {
   "cell_type": "code",
   "execution_count": 7,
   "metadata": {
    "execution": {
     "iopub.execute_input": "2021-09-25T23:11:21.301031Z",
     "iopub.status.busy": "2021-09-25T23:11:21.300435Z",
     "iopub.status.idle": "2021-09-25T23:11:21.729862Z",
     "shell.execute_reply": "2021-09-25T23:11:21.730595Z"
    }
   },
   "outputs": [
    {
     "data": {
      "image/png": "[encoded data removed]",
      "text/plain": [
       "<Figure size 216x216 with 1 Axes>"
      ]
     },
     "metadata": {
      "needs_background": "light"
     },
     "output_type": "display_data"
    },
    {
     "name": "stdout",
     "output_type": "stream",
     "text": [
      "Today, sun rises at 06:12 and sets at 18:15.\n",
      "Currently, the weather is Clouds (scattered clouds).\n",
      "The temperature is 28.19°C and it feels like 32.25°C.\n",
      "The UV index is 0.19, humidity is 78%.\n",
      "The pressure is 1011 hPa, percentage of cloud cover is 29%\n",
      "The wind comes from E direction with a speed 0.45 m/s.\n"
     ]
    }
   ],
   "source": [
    "current = data['current']\r\n",
    "\r\n",
    "fig, ax = plt.subplots(figsize=(3, 3))\r\n",
    "icon = requests.get(f\"http://openweathermap.org/img/wn/{current['weather'][0]['icon']}@2x.png\")\r\n",
    "im = Image.open(BytesIO(icon.content))\r\n",
    "plt.imshow(im)\r\n",
    "ax.set_axis_off()\r\n",
    "plt.show()\r\n",
    "\r\n",
    "print(f\"Today, sun rises at {ts2dt(current['sunrise'], '%H:%M')[0]} \\\r\n",
    "and sets at {ts2dt(current['sunset'], '%H:%M')[0]}.\\n\\\r\n",
    "Currently, the weather is {current['weather'][0]['main']} ({current['weather'][0]['description']}).\\n\\\r\n",
    "The temperature is {current['temp']}°C and it feels like {current['feels_like']}°C.\\n\\\r\n",
    "The UV index is {current['uvi']}, humidity is {current['humidity']}%.\\n\\\r\n",
    "The pressure is {current['pressure']} hPa, percentage of cloud cover is {current['clouds']}%\\n\\\r\n",
    "The wind comes from {degrees_to_cardinal(current['wind_deg'])} direction with a speed {current['wind_speed']} m/s.\")"
   ]
  },
  {
   "cell_type": "code",
   "execution_count": 8,
   "metadata": {
    "execution": {
     "iopub.execute_input": "2021-09-25T23:11:21.733855Z",
     "iopub.status.busy": "2021-09-25T23:11:21.733322Z",
     "iopub.status.idle": "2021-09-25T23:11:21.740930Z",
     "shell.execute_reply": "2021-09-25T23:11:21.741657Z"
    }
   },
   "outputs": [],
   "source": [
    "df_hourly = pd.DataFrame(data['hourly'])\r\n",
    "df_daily = pd.DataFrame(data['daily'])"
   ]
  },
  {
   "cell_type": "code",
   "execution_count": 9,
   "metadata": {
    "execution": {
     "iopub.execute_input": "2021-09-25T23:11:21.745163Z",
     "iopub.status.busy": "2021-09-25T23:11:21.744089Z",
     "iopub.status.idle": "2021-09-25T23:11:22.088274Z",
     "shell.execute_reply": "2021-09-25T23:11:22.087750Z"
    }
   },
   "outputs": [
    {
     "data": {
      "image/png": "[encoded data removed]",
      "text/plain": [
       "<Figure size 864x432 with 1 Axes>"
      ]
     },
     "metadata": {
      "needs_background": "light"
     },
     "output_type": "display_data"
    }
   ],
   "source": [
    "fig, ax = plt.subplots(figsize=(12, 6))\r\n",
    "plt.plot(df_hourly.temp, '.-', label='Temperature')\r\n",
    "plt.plot(df_hourly.feels_like, '.-', label='Feels Like')\r\n",
    "ax.set(title='Temperature in future 48 hours', xlabel='Time', ylabel='Temperature')\r\n",
    "ax.set_xticks(list(range(0, len(df_hourly), 2)))\r\n",
    "ax.set_xticklabels([ts2dt(ts, '%m-%d %H:%M')[0] for i, ts in enumerate(df_hourly.dt) if i%2==0], \r\n",
    "                   rotation=45, ha=\"right\")\r\n",
    "ax.locator_params(nbins=15, axis='y')\r\n",
    "plt.legend()\r\n",
    "plt.show()"
   ]
  },
  {
   "cell_type": "code",
   "execution_count": 10,
   "metadata": {
    "execution": {
     "iopub.execute_input": "2021-09-25T23:11:22.093470Z",
     "iopub.status.busy": "2021-09-25T23:11:22.090577Z",
     "iopub.status.idle": "2021-09-25T23:11:22.115729Z",
     "shell.execute_reply": "2021-09-25T23:11:22.115290Z"
    }
   },
   "outputs": [
    {
     "data": {
      "text/html": [
       "<div>\n",
       "<style scoped>\n",
       "    .dataframe tbody tr th:only-of-type {\n",
       "        vertical-align: middle;\n",
       "    }\n",
       "\n",
       "    .dataframe tbody tr th {\n",
       "        vertical-align: top;\n",
       "    }\n",
       "\n",
       "    .dataframe thead th {\n",
       "        text-align: right;\n",
       "    }\n",
       "</style>\n",
       "<table border=\"1\" class=\"dataframe\">\n",
       "  <thead>\n",
       "    <tr style=\"text-align: right;\">\n",
       "      <th></th>\n",
       "      <th>dt</th>\n",
       "      <th>temp</th>\n",
       "      <th>feels_like</th>\n",
       "      <th>pressure</th>\n",
       "      <th>humidity</th>\n",
       "      <th>dew_point</th>\n",
       "      <th>uvi</th>\n",
       "      <th>clouds</th>\n",
       "      <th>visibility</th>\n",
       "      <th>wind_speed</th>\n",
       "      <th>wind_deg</th>\n",
       "      <th>wind_gust</th>\n",
       "      <th>weather</th>\n",
       "      <th>pop</th>\n",
       "    </tr>\n",
       "  </thead>\n",
       "  <tbody>\n",
       "    <tr>\n",
       "      <th>0</th>\n",
       "      <td>1632610800</td>\n",
       "      <td>28.19</td>\n",
       "      <td>32.25</td>\n",
       "      <td>1011</td>\n",
       "      <td>78</td>\n",
       "      <td>23.99</td>\n",
       "      <td>0.19</td>\n",
       "      <td>29</td>\n",
       "      <td>10000</td>\n",
       "      <td>7.10</td>\n",
       "      <td>69</td>\n",
       "      <td>8.66</td>\n",
       "      <td>[{'id': 802, 'main': 'Clouds', 'description': ...</td>\n",
       "      <td>0.11</td>\n",
       "    </tr>\n",
       "    <tr>\n",
       "      <th>1</th>\n",
       "      <td>1632614400</td>\n",
       "      <td>28.09</td>\n",
       "      <td>31.86</td>\n",
       "      <td>1011</td>\n",
       "      <td>77</td>\n",
       "      <td>23.68</td>\n",
       "      <td>1.06</td>\n",
       "      <td>29</td>\n",
       "      <td>10000</td>\n",
       "      <td>7.34</td>\n",
       "      <td>69</td>\n",
       "      <td>9.06</td>\n",
       "      <td>[{'id': 802, 'main': 'Clouds', 'description': ...</td>\n",
       "      <td>0.08</td>\n",
       "    </tr>\n",
       "    <tr>\n",
       "      <th>2</th>\n",
       "      <td>1632618000</td>\n",
       "      <td>28.17</td>\n",
       "      <td>31.58</td>\n",
       "      <td>1012</td>\n",
       "      <td>74</td>\n",
       "      <td>23.10</td>\n",
       "      <td>3.06</td>\n",
       "      <td>18</td>\n",
       "      <td>10000</td>\n",
       "      <td>7.25</td>\n",
       "      <td>69</td>\n",
       "      <td>8.66</td>\n",
       "      <td>[{'id': 801, 'main': 'Clouds', 'description': ...</td>\n",
       "      <td>0.00</td>\n",
       "    </tr>\n",
       "    <tr>\n",
       "      <th>3</th>\n",
       "      <td>1632621600</td>\n",
       "      <td>28.47</td>\n",
       "      <td>31.76</td>\n",
       "      <td>1012</td>\n",
       "      <td>71</td>\n",
       "      <td>22.70</td>\n",
       "      <td>5.82</td>\n",
       "      <td>15</td>\n",
       "      <td>10000</td>\n",
       "      <td>6.83</td>\n",
       "      <td>71</td>\n",
       "      <td>8.05</td>\n",
       "      <td>[{'id': 801, 'main': 'Clouds', 'description': ...</td>\n",
       "      <td>0.00</td>\n",
       "    </tr>\n",
       "    <tr>\n",
       "      <th>4</th>\n",
       "      <td>1632625200</td>\n",
       "      <td>28.82</td>\n",
       "      <td>31.82</td>\n",
       "      <td>1013</td>\n",
       "      <td>67</td>\n",
       "      <td>22.08</td>\n",
       "      <td>8.42</td>\n",
       "      <td>12</td>\n",
       "      <td>10000</td>\n",
       "      <td>6.61</td>\n",
       "      <td>74</td>\n",
       "      <td>7.62</td>\n",
       "      <td>[{'id': 801, 'main': 'Clouds', 'description': ...</td>\n",
       "      <td>0.00</td>\n",
       "    </tr>\n",
       "  </tbody>\n",
       "</table>\n",
       "</div>"
      ],
      "text/plain": [
       "           dt   temp  feels_like  pressure  humidity  dew_point   uvi  clouds  \\\n",
       "0  1632610800  28.19       32.25      1011        78      23.99  0.19      29   \n",
       "1  1632614400  28.09       31.86      1011        77      23.68  1.06      29   \n",
       "2  1632618000  28.17       31.58      1012        74      23.10  3.06      18   \n",
       "3  1632621600  28.47       31.76      1012        71      22.70  5.82      15   \n",
       "4  1632625200  28.82       31.82      1013        67      22.08  8.42      12   \n",
       "\n",
       "   visibility  wind_speed  wind_deg  wind_gust  \\\n",
       "0       10000        7.10        69       8.66   \n",
       "1       10000        7.34        69       9.06   \n",
       "2       10000        7.25        69       8.66   \n",
       "3       10000        6.83        71       8.05   \n",
       "4       10000        6.61        74       7.62   \n",
       "\n",
       "                                             weather   pop  \n",
       "0  [{'id': 802, 'main': 'Clouds', 'description': ...  0.11  \n",
       "1  [{'id': 802, 'main': 'Clouds', 'description': ...  0.08  \n",
       "2  [{'id': 801, 'main': 'Clouds', 'description': ...  0.00  \n",
       "3  [{'id': 801, 'main': 'Clouds', 'description': ...  0.00  \n",
       "4  [{'id': 801, 'main': 'Clouds', 'description': ...  0.00  "
      ]
     },
     "execution_count": 10,
     "metadata": {},
     "output_type": "execute_result"
    }
   ],
   "source": [
    "df_hourly.head()"
   ]
  },
  {
   "cell_type": "code",
   "execution_count": null,
   "metadata": {},
   "outputs": [],
   "source": []
  }
 ],
 "metadata": {
  "interpreter": {
   "hash": "c1b4cfe941b6d2466ad1fb5979e97da9cda8801728c8091b097ab734208fc00c"
  },
  "kernelspec": {
   "display_name": "Python 3.8.3 64-bit ('base': conda)",
   "name": "python3"
  },
  "language_info": {
   "codemirror_mode": {
    "name": "ipython",
    "version": 3
   },
   "file_extension": ".py",
   "mimetype": "text/x-python",
   "name": "python",
   "nbconvert_exporter": "python",
   "pygments_lexer": "ipython3",
   "version": "3.8.12"
  }
 },
 "nbformat": 4,
 "nbformat_minor": 2
}
