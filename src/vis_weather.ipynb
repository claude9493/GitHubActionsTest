{
 "cells": [
  {
   "cell_type": "code",
   "execution_count": 1,
   "metadata": {
    "execution": {
     "iopub.execute_input": "2021-09-07T06:47:10.094951Z",
     "iopub.status.busy": "2021-09-07T06:47:10.093988Z",
     "iopub.status.idle": "2021-09-07T06:47:15.208156Z",
     "shell.execute_reply": "2021-09-07T06:47:15.207565Z"
    }
   },
   "outputs": [],
   "source": [
    "import json, yaml, requests\r\n",
    "from datetime import datetime\r\n",
    "from dateutil import tz\r\n",
    "import pandas as pd\r\n",
    "from PIL import Image\r\n",
    "from io import BytesIO\r\n",
    "import matplotlib.pyplot as plt\r\n",
    "import seaborn\r\n",
    "\r\n",
    "CONFIG_PATH = \"../config/config.yaml\""
   ]
  },
  {
   "cell_type": "code",
   "execution_count": 2,
   "metadata": {
    "execution": {
     "iopub.execute_input": "2021-09-07T06:47:15.214481Z",
     "iopub.status.busy": "2021-09-07T06:47:15.213924Z",
     "iopub.status.idle": "2021-09-07T06:47:15.219497Z",
     "shell.execute_reply": "2021-09-07T06:47:15.218733Z"
    }
   },
   "outputs": [],
   "source": [
    "with open('../newest_ts', 'r') as f:\r\n",
    "    newest_ts = f.read()\r\n",
    "\r\n",
    "data_path = f\"../data/data_{newest_ts}.json\"\r\n",
    "with open(data_path, 'r') as f:\r\n",
    "    data = json.load(f)\r\n",
    "\r\n",
    "with open(CONFIG_PATH, \"r\") as stream:\r\n",
    "    config = yaml.safe_load(stream)\r\n",
    "\r\n",
    "TIME_ZONE = config['time_zone']\r\n",
    "DATETIME_FORMAT = config['dt_format']"
   ]
  },
  {
   "cell_type": "code",
   "execution_count": 3,
   "metadata": {
    "execution": {
     "iopub.execute_input": "2021-09-07T06:47:15.223843Z",
     "iopub.status.busy": "2021-09-07T06:47:15.221604Z",
     "iopub.status.idle": "2021-09-07T06:47:15.248119Z",
     "shell.execute_reply": "2021-09-07T06:47:15.247578Z"
    }
   },
   "outputs": [
    {
     "name": "stdout",
     "output_type": "stream",
     "text": [
      "Recent query happens at 2021-09-07 14:47:06 (CST).\n"
     ]
    }
   ],
   "source": [
    "def ts2dt(ts, format=DATETIME_FORMAT):\r\n",
    "    dt = (datetime.utcfromtimestamp(int(ts))\r\n",
    "                    .replace(tzinfo=tz.tzutc())\r\n",
    "                    # .astimezone(tz.tzlocal())\r\n",
    "                    .astimezone(tz.gettz(TIME_ZONE)))\r\n",
    "    return dt.strftime(format), dt\r\n",
    "\r\n",
    "_, newest_dt = ts2dt(newest_ts)\r\n",
    "print(f\"Recent query happens at {newest_dt.strftime(DATETIME_FORMAT)} ({newest_dt.tzname()}).\")"
   ]
  },
  {
   "cell_type": "code",
   "execution_count": 4,
   "metadata": {
    "execution": {
     "iopub.execute_input": "2021-09-07T06:47:15.253643Z",
     "iopub.status.busy": "2021-09-07T06:47:15.252437Z",
     "iopub.status.idle": "2021-09-07T06:47:15.254295Z",
     "shell.execute_reply": "2021-09-07T06:47:15.254732Z"
    }
   },
   "outputs": [],
   "source": [
    "def degrees_to_cardinal(d):\r\n",
    "  dirs = ['N', 'NNE', 'NE', 'ENE', 'E', 'ESE', 'SE', 'SSE', 'S', 'SSW', 'SW', 'WSW', 'W', 'WNW', 'NW', 'NNW']\r\n",
    "  ix = int(round(d / (360. / len(dirs))))\r\n",
    "  return dirs[ix % len(dirs)]"
   ]
  },
  {
   "cell_type": "code",
   "execution_count": 5,
   "metadata": {
    "execution": {
     "iopub.execute_input": "2021-09-07T06:47:15.259227Z",
     "iopub.status.busy": "2021-09-07T06:47:15.257853Z",
     "iopub.status.idle": "2021-09-07T06:47:15.259803Z",
     "shell.execute_reply": "2021-09-07T06:47:15.260259Z"
    }
   },
   "outputs": [],
   "source": [
    "# data.keys()"
   ]
  },
  {
   "cell_type": "code",
   "execution_count": 6,
   "metadata": {
    "execution": {
     "iopub.execute_input": "2021-09-07T06:47:15.264649Z",
     "iopub.status.busy": "2021-09-07T06:47:15.263297Z",
     "iopub.status.idle": "2021-09-07T06:47:15.265262Z",
     "shell.execute_reply": "2021-09-07T06:47:15.265690Z"
    }
   },
   "outputs": [],
   "source": [
    "# data['current']"
   ]
  },
  {
   "cell_type": "code",
   "execution_count": 7,
   "metadata": {
    "execution": {
     "iopub.execute_input": "2021-09-07T06:47:15.283867Z",
     "iopub.status.busy": "2021-09-07T06:47:15.283304Z",
     "iopub.status.idle": "2021-09-07T06:47:15.769141Z",
     "shell.execute_reply": "2021-09-07T06:47:15.769576Z"
    }
   },
   "outputs": [
    {
     "data": {
      "image/png": "[encoded data removed]",
      "text/plain": [
       "<Figure size 216x216 with 1 Axes>"
      ]
     },
     "metadata": {
      "needs_background": "light"
     },
     "output_type": "display_data"
    },
    {
     "name": "stdout",
     "output_type": "stream",
     "text": [
      "Today, sun rises at 06:07 and sets at 18:34.\n",
      "Currently, the weather is Clear (clear sky).\n",
      "The temperature is 31.7°C and it feels like 38.7°C.\n",
      "The UV index is 6.16, humidity is 72%.\n",
      "The pressure is 1009 hPa, percentage of cloud cover is 7%\n",
      "The wind comes from E direction with a speed 5.13 m/s.\n"
     ]
    }
   ],
   "source": [
    "current = data['current']\r\n",
    "\r\n",
    "fig, ax = plt.subplots(figsize=(3, 3))\r\n",
    "icon = requests.get(f\"http://openweathermap.org/img/wn/{current['weather'][0]['icon']}@2x.png\")\r\n",
    "im = Image.open(BytesIO(icon.content))\r\n",
    "plt.imshow(im)\r\n",
    "ax.set_axis_off()\r\n",
    "plt.show()\r\n",
    "\r\n",
    "print(f\"Today, sun rises at {ts2dt(current['sunrise'], '%H:%M')[0]} \\\r\n",
    "and sets at {ts2dt(current['sunset'], '%H:%M')[0]}.\\n\\\r\n",
    "Currently, the weather is {current['weather'][0]['main']} ({current['weather'][0]['description']}).\\n\\\r\n",
    "The temperature is {current['temp']}°C and it feels like {current['feels_like']}°C.\\n\\\r\n",
    "The UV index is {current['uvi']}, humidity is {current['humidity']}%.\\n\\\r\n",
    "The pressure is {current['pressure']} hPa, percentage of cloud cover is {current['clouds']}%\\n\\\r\n",
    "The wind comes from {degrees_to_cardinal(current['wind_deg'])} direction with a speed {current['wind_speed']} m/s.\")"
   ]
  },
  {
   "cell_type": "code",
   "execution_count": 8,
   "metadata": {
    "execution": {
     "iopub.execute_input": "2021-09-07T06:47:15.772700Z",
     "iopub.status.busy": "2021-09-07T06:47:15.772133Z",
     "iopub.status.idle": "2021-09-07T06:47:15.779636Z",
     "shell.execute_reply": "2021-09-07T06:47:15.780378Z"
    }
   },
   "outputs": [],
   "source": [
    "df_hourly = pd.DataFrame(data['hourly'])\r\n",
    "df_daily = pd.DataFrame(data['daily'])"
   ]
  },
  {
   "cell_type": "code",
   "execution_count": 9,
   "metadata": {
    "execution": {
     "iopub.execute_input": "2021-09-07T06:47:15.800974Z",
     "iopub.status.busy": "2021-09-07T06:47:15.795367Z",
     "iopub.status.idle": "2021-09-07T06:47:16.087630Z",
     "shell.execute_reply": "2021-09-07T06:47:16.088292Z"
    }
   },
   "outputs": [
    {
     "data": {
      "image/png": "[encoded data removed]",
      "text/plain": [
       "<Figure size 864x432 with 1 Axes>"
      ]
     },
     "metadata": {
      "needs_background": "light"
     },
     "output_type": "display_data"
    }
   ],
   "source": [
    "fig, ax = plt.subplots(figsize=(12, 6))\r\n",
    "plt.plot(df_hourly.temp, '.-', label='Temperature')\r\n",
    "plt.plot(df_hourly.feels_like, '.-', label='Feels Like')\r\n",
    "ax.set(title='Temperature in future 48 hours', xlabel='Time', ylabel='Temperature')\r\n",
    "ax.set_xticks(list(range(0, len(df_hourly), 2)))\r\n",
    "ax.set_xticklabels([ts2dt(ts, '%m-%d %H:%M')[0] for i, ts in enumerate(df_hourly.dt) if i%2==0], \r\n",
    "                   rotation=45, ha=\"right\")\r\n",
    "ax.locator_params(nbins=15, axis='y')\r\n",
    "plt.legend()\r\n",
    "plt.show()"
   ]
  },
  {
   "cell_type": "code",
   "execution_count": 10,
   "metadata": {
    "execution": {
     "iopub.execute_input": "2021-09-07T06:47:16.092703Z",
     "iopub.status.busy": "2021-09-07T06:47:16.092133Z",
     "iopub.status.idle": "2021-09-07T06:47:16.111110Z",
     "shell.execute_reply": "2021-09-07T06:47:16.111533Z"
    }
   },
   "outputs": [
    {
     "data": {
      "text/html": [
       "<div>\n",
       "<style scoped>\n",
       "    .dataframe tbody tr th:only-of-type {\n",
       "        vertical-align: middle;\n",
       "    }\n",
       "\n",
       "    .dataframe tbody tr th {\n",
       "        vertical-align: top;\n",
       "    }\n",
       "\n",
       "    .dataframe thead th {\n",
       "        text-align: right;\n",
       "    }\n",
       "</style>\n",
       "<table border=\"1\" class=\"dataframe\">\n",
       "  <thead>\n",
       "    <tr style=\"text-align: right;\">\n",
       "      <th></th>\n",
       "      <th>dt</th>\n",
       "      <th>temp</th>\n",
       "      <th>feels_like</th>\n",
       "      <th>pressure</th>\n",
       "      <th>humidity</th>\n",
       "      <th>dew_point</th>\n",
       "      <th>uvi</th>\n",
       "      <th>clouds</th>\n",
       "      <th>visibility</th>\n",
       "      <th>wind_speed</th>\n",
       "      <th>wind_deg</th>\n",
       "      <th>wind_gust</th>\n",
       "      <th>weather</th>\n",
       "      <th>pop</th>\n",
       "      <th>rain</th>\n",
       "    </tr>\n",
       "  </thead>\n",
       "  <tbody>\n",
       "    <tr>\n",
       "      <th>0</th>\n",
       "      <td>1630994400</td>\n",
       "      <td>31.33</td>\n",
       "      <td>38.33</td>\n",
       "      <td>1009</td>\n",
       "      <td>73</td>\n",
       "      <td>25.90</td>\n",
       "      <td>9.09</td>\n",
       "      <td>18</td>\n",
       "      <td>10000</td>\n",
       "      <td>5.29</td>\n",
       "      <td>89</td>\n",
       "      <td>6.55</td>\n",
       "      <td>[{'id': 801, 'main': 'Clouds', 'description': ...</td>\n",
       "      <td>0.66</td>\n",
       "      <td>NaN</td>\n",
       "    </tr>\n",
       "    <tr>\n",
       "      <th>1</th>\n",
       "      <td>1630998000</td>\n",
       "      <td>31.70</td>\n",
       "      <td>38.70</td>\n",
       "      <td>1009</td>\n",
       "      <td>72</td>\n",
       "      <td>26.03</td>\n",
       "      <td>6.16</td>\n",
       "      <td>7</td>\n",
       "      <td>10000</td>\n",
       "      <td>5.13</td>\n",
       "      <td>92</td>\n",
       "      <td>6.30</td>\n",
       "      <td>[{'id': 800, 'main': 'Clear', 'description': '...</td>\n",
       "      <td>0.63</td>\n",
       "      <td>NaN</td>\n",
       "    </tr>\n",
       "    <tr>\n",
       "      <th>2</th>\n",
       "      <td>1631001600</td>\n",
       "      <td>31.28</td>\n",
       "      <td>38.28</td>\n",
       "      <td>1009</td>\n",
       "      <td>73</td>\n",
       "      <td>25.86</td>\n",
       "      <td>3.17</td>\n",
       "      <td>7</td>\n",
       "      <td>10000</td>\n",
       "      <td>4.82</td>\n",
       "      <td>92</td>\n",
       "      <td>6.13</td>\n",
       "      <td>[{'id': 800, 'main': 'Clear', 'description': '...</td>\n",
       "      <td>0.55</td>\n",
       "      <td>NaN</td>\n",
       "    </tr>\n",
       "    <tr>\n",
       "      <th>3</th>\n",
       "      <td>1631005200</td>\n",
       "      <td>30.72</td>\n",
       "      <td>37.72</td>\n",
       "      <td>1009</td>\n",
       "      <td>74</td>\n",
       "      <td>25.55</td>\n",
       "      <td>1.10</td>\n",
       "      <td>7</td>\n",
       "      <td>10000</td>\n",
       "      <td>4.54</td>\n",
       "      <td>92</td>\n",
       "      <td>6.14</td>\n",
       "      <td>[{'id': 800, 'main': 'Clear', 'description': '...</td>\n",
       "      <td>0.64</td>\n",
       "      <td>NaN</td>\n",
       "    </tr>\n",
       "    <tr>\n",
       "      <th>4</th>\n",
       "      <td>1631008800</td>\n",
       "      <td>29.86</td>\n",
       "      <td>36.17</td>\n",
       "      <td>1009</td>\n",
       "      <td>76</td>\n",
       "      <td>25.17</td>\n",
       "      <td>0.18</td>\n",
       "      <td>6</td>\n",
       "      <td>10000</td>\n",
       "      <td>4.16</td>\n",
       "      <td>94</td>\n",
       "      <td>6.20</td>\n",
       "      <td>[{'id': 800, 'main': 'Clear', 'description': '...</td>\n",
       "      <td>0.60</td>\n",
       "      <td>NaN</td>\n",
       "    </tr>\n",
       "  </tbody>\n",
       "</table>\n",
       "</div>"
      ],
      "text/plain": [
       "           dt   temp  feels_like  pressure  humidity  dew_point   uvi  clouds  \\\n",
       "0  1630994400  31.33       38.33      1009        73      25.90  9.09      18   \n",
       "1  1630998000  31.70       38.70      1009        72      26.03  6.16       7   \n",
       "2  1631001600  31.28       38.28      1009        73      25.86  3.17       7   \n",
       "3  1631005200  30.72       37.72      1009        74      25.55  1.10       7   \n",
       "4  1631008800  29.86       36.17      1009        76      25.17  0.18       6   \n",
       "\n",
       "   visibility  wind_speed  wind_deg  wind_gust  \\\n",
       "0       10000        5.29        89       6.55   \n",
       "1       10000        5.13        92       6.30   \n",
       "2       10000        4.82        92       6.13   \n",
       "3       10000        4.54        92       6.14   \n",
       "4       10000        4.16        94       6.20   \n",
       "\n",
       "                                             weather   pop rain  \n",
       "0  [{'id': 801, 'main': 'Clouds', 'description': ...  0.66  NaN  \n",
       "1  [{'id': 800, 'main': 'Clear', 'description': '...  0.63  NaN  \n",
       "2  [{'id': 800, 'main': 'Clear', 'description': '...  0.55  NaN  \n",
       "3  [{'id': 800, 'main': 'Clear', 'description': '...  0.64  NaN  \n",
       "4  [{'id': 800, 'main': 'Clear', 'description': '...  0.60  NaN  "
      ]
     },
     "execution_count": 10,
     "metadata": {},
     "output_type": "execute_result"
    }
   ],
   "source": [
    "df_hourly.head()"
   ]
  },
  {
   "cell_type": "code",
   "execution_count": null,
   "metadata": {},
   "outputs": [],
   "source": []
  }
 ],
 "metadata": {
  "interpreter": {
   "hash": "c1b4cfe941b6d2466ad1fb5979e97da9cda8801728c8091b097ab734208fc00c"
  },
  "kernelspec": {
   "display_name": "Python 3.8.3 64-bit ('base': conda)",
   "name": "python3"
  },
  "language_info": {
   "codemirror_mode": {
    "name": "ipython",
    "version": 3
   },
   "file_extension": ".py",
   "mimetype": "text/x-python",
   "name": "python",
   "nbconvert_exporter": "python",
   "pygments_lexer": "ipython3",
   "version": "3.8.11"
  }
 },
 "nbformat": 4,
 "nbformat_minor": 2
}
