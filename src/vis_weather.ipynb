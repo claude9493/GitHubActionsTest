{
 "cells": [
  {
   "cell_type": "code",
   "execution_count": 1,
   "metadata": {
    "execution": {
     "iopub.execute_input": "2021-10-03T21:10:10.323236Z",
     "iopub.status.busy": "2021-10-03T21:10:10.322703Z",
     "iopub.status.idle": "2021-10-03T21:10:12.595858Z",
     "shell.execute_reply": "2021-10-03T21:10:12.594886Z"
    }
   },
   "outputs": [],
   "source": [
    "import json, yaml, requests\r\n",
    "from datetime import datetime\r\n",
    "from dateutil import tz\r\n",
    "import pandas as pd\r\n",
    "from PIL import Image\r\n",
    "from io import BytesIO\r\n",
    "import matplotlib.pyplot as plt\r\n",
    "import seaborn\r\n",
    "\r\n",
    "CONFIG_PATH = \"../config/config.yaml\""
   ]
  },
  {
   "cell_type": "code",
   "execution_count": 2,
   "metadata": {
    "execution": {
     "iopub.execute_input": "2021-10-03T21:10:12.601131Z",
     "iopub.status.busy": "2021-10-03T21:10:12.600285Z",
     "iopub.status.idle": "2021-10-03T21:10:12.605521Z",
     "shell.execute_reply": "2021-10-03T21:10:12.604792Z"
    }
   },
   "outputs": [],
   "source": [
    "with open('../newest_ts', 'r') as f:\r\n",
    "    newest_ts = f.read()\r\n",
    "\r\n",
    "data_path = f\"../data/data_{newest_ts}.json\"\r\n",
    "with open(data_path, 'r') as f:\r\n",
    "    data = json.load(f)\r\n",
    "\r\n",
    "with open(CONFIG_PATH, \"r\") as stream:\r\n",
    "    config = yaml.safe_load(stream)\r\n",
    "\r\n",
    "TIME_ZONE = config['time_zone']\r\n",
    "DATETIME_FORMAT = config['dt_format']"
   ]
  },
  {
   "cell_type": "code",
   "execution_count": 3,
   "metadata": {
    "execution": {
     "iopub.execute_input": "2021-10-03T21:10:12.609415Z",
     "iopub.status.busy": "2021-10-03T21:10:12.608944Z",
     "iopub.status.idle": "2021-10-03T21:10:12.622678Z",
     "shell.execute_reply": "2021-10-03T21:10:12.623057Z"
    }
   },
   "outputs": [
    {
     "name": "stdout",
     "output_type": "stream",
     "text": [
      "Recent query happens at 2021-10-04 05:10:06 (CST).\n"
     ]
    }
   ],
   "source": [
    "def ts2dt(ts, format=DATETIME_FORMAT):\r\n",
    "    dt = (datetime.utcfromtimestamp(int(ts))\r\n",
    "                    .replace(tzinfo=tz.tzutc())\r\n",
    "                    # .astimezone(tz.tzlocal())\r\n",
    "                    .astimezone(tz.gettz(TIME_ZONE)))\r\n",
    "    return dt.strftime(format), dt\r\n",
    "\r\n",
    "_, newest_dt = ts2dt(newest_ts)\r\n",
    "print(f\"Recent query happens at {newest_dt.strftime(DATETIME_FORMAT)} ({newest_dt.tzname()}).\")"
   ]
  },
  {
   "cell_type": "code",
   "execution_count": 4,
   "metadata": {
    "execution": {
     "iopub.execute_input": "2021-10-03T21:10:12.628252Z",
     "iopub.status.busy": "2021-10-03T21:10:12.627093Z",
     "iopub.status.idle": "2021-10-03T21:10:12.628778Z",
     "shell.execute_reply": "2021-10-03T21:10:12.629139Z"
    }
   },
   "outputs": [],
   "source": [
    "def degrees_to_cardinal(d):\r\n",
    "  dirs = ['N', 'NNE', 'NE', 'ENE', 'E', 'ESE', 'SE', 'SSE', 'S', 'SSW', 'SW', 'WSW', 'W', 'WNW', 'NW', 'NNW']\r\n",
    "  ix = int(round(d / (360. / len(dirs))))\r\n",
    "  return dirs[ix % len(dirs)]"
   ]
  },
  {
   "cell_type": "code",
   "execution_count": 5,
   "metadata": {
    "execution": {
     "iopub.execute_input": "2021-10-03T21:10:12.632931Z",
     "iopub.status.busy": "2021-10-03T21:10:12.631923Z",
     "iopub.status.idle": "2021-10-03T21:10:12.633480Z",
     "shell.execute_reply": "2021-10-03T21:10:12.633853Z"
    }
   },
   "outputs": [],
   "source": [
    "# data.keys()"
   ]
  },
  {
   "cell_type": "code",
   "execution_count": 6,
   "metadata": {
    "execution": {
     "iopub.execute_input": "2021-10-03T21:10:12.637533Z",
     "iopub.status.busy": "2021-10-03T21:10:12.636396Z",
     "iopub.status.idle": "2021-10-03T21:10:12.638049Z",
     "shell.execute_reply": "2021-10-03T21:10:12.638409Z"
    }
   },
   "outputs": [],
   "source": [
    "# data['current']"
   ]
  },
  {
   "cell_type": "code",
   "execution_count": 7,
   "metadata": {
    "execution": {
     "iopub.execute_input": "2021-10-03T21:10:12.654527Z",
     "iopub.status.busy": "2021-10-03T21:10:12.654011Z",
     "iopub.status.idle": "2021-10-03T21:10:13.034572Z",
     "shell.execute_reply": "2021-10-03T21:10:13.035186Z"
    }
   },
   "outputs": [
    {
     "data": {
      "image/png": "[encoded data removed]",
      "text/plain": [
       "<Figure size 216x216 with 1 Axes>"
      ]
     },
     "metadata": {
      "needs_background": "light"
     },
     "output_type": "display_data"
    },
    {
     "name": "stdout",
     "output_type": "stream",
     "text": [
      "Today, sun rises at 06:15 and sets at 18:08.\n",
      "Currently, the weather is Clouds (overcast clouds).\n",
      "The temperature is 28.02°C and it feels like 32.31°C.\n",
      "The UV index is 0, humidity is 81%.\n",
      "The pressure is 1010 hPa, percentage of cloud cover is 85%\n",
      "The wind comes from ENE direction with a speed 4.02 m/s.\n"
     ]
    }
   ],
   "source": [
    "current = data['current']\r\n",
    "\r\n",
    "fig, ax = plt.subplots(figsize=(3, 3))\r\n",
    "icon = requests.get(f\"http://openweathermap.org/img/wn/{current['weather'][0]['icon']}@2x.png\")\r\n",
    "im = Image.open(BytesIO(icon.content))\r\n",
    "plt.imshow(im)\r\n",
    "ax.set_axis_off()\r\n",
    "plt.show()\r\n",
    "\r\n",
    "print(f\"Today, sun rises at {ts2dt(current['sunrise'], '%H:%M')[0]} \\\r\n",
    "and sets at {ts2dt(current['sunset'], '%H:%M')[0]}.\\n\\\r\n",
    "Currently, the weather is {current['weather'][0]['main']} ({current['weather'][0]['description']}).\\n\\\r\n",
    "The temperature is {current['temp']}°C and it feels like {current['feels_like']}°C.\\n\\\r\n",
    "The UV index is {current['uvi']}, humidity is {current['humidity']}%.\\n\\\r\n",
    "The pressure is {current['pressure']} hPa, percentage of cloud cover is {current['clouds']}%\\n\\\r\n",
    "The wind comes from {degrees_to_cardinal(current['wind_deg'])} direction with a speed {current['wind_speed']} m/s.\")"
   ]
  },
  {
   "cell_type": "code",
   "execution_count": 8,
   "metadata": {
    "execution": {
     "iopub.execute_input": "2021-10-03T21:10:13.038233Z",
     "iopub.status.busy": "2021-10-03T21:10:13.037387Z",
     "iopub.status.idle": "2021-10-03T21:10:13.043646Z",
     "shell.execute_reply": "2021-10-03T21:10:13.044228Z"
    }
   },
   "outputs": [],
   "source": [
    "df_hourly = pd.DataFrame(data['hourly'])\r\n",
    "df_daily = pd.DataFrame(data['daily'])"
   ]
  },
  {
   "cell_type": "code",
   "execution_count": 9,
   "metadata": {
    "execution": {
     "iopub.execute_input": "2021-10-03T21:10:13.046960Z",
     "iopub.status.busy": "2021-10-03T21:10:13.046124Z",
     "iopub.status.idle": "2021-10-03T21:10:13.278553Z",
     "shell.execute_reply": "2021-10-03T21:10:13.278093Z"
    }
   },
   "outputs": [
    {
     "data": {
      "image/png": "[encoded data removed]",
      "text/plain": [
       "<Figure size 864x432 with 1 Axes>"
      ]
     },
     "metadata": {
      "needs_background": "light"
     },
     "output_type": "display_data"
    }
   ],
   "source": [
    "fig, ax = plt.subplots(figsize=(12, 6))\r\n",
    "plt.plot(df_hourly.temp, '.-', label='Temperature')\r\n",
    "plt.plot(df_hourly.feels_like, '.-', label='Feels Like')\r\n",
    "ax.set(title='Temperature in future 48 hours', xlabel='Time', ylabel='Temperature')\r\n",
    "ax.set_xticks(list(range(0, len(df_hourly), 2)))\r\n",
    "ax.set_xticklabels([ts2dt(ts, '%m-%d %H:%M')[0] for i, ts in enumerate(df_hourly.dt) if i%2==0], \r\n",
    "                   rotation=45, ha=\"right\")\r\n",
    "ax.locator_params(nbins=15, axis='y')\r\n",
    "plt.legend()\r\n",
    "plt.show()"
   ]
  },
  {
   "cell_type": "code",
   "execution_count": 10,
   "metadata": {
    "execution": {
     "iopub.execute_input": "2021-10-03T21:10:13.289699Z",
     "iopub.status.busy": "2021-10-03T21:10:13.282160Z",
     "iopub.status.idle": "2021-10-03T21:10:13.299273Z",
     "shell.execute_reply": "2021-10-03T21:10:13.299628Z"
    }
   },
   "outputs": [
    {
     "data": {
      "text/html": [
       "<div>\n",
       "<style scoped>\n",
       "    .dataframe tbody tr th:only-of-type {\n",
       "        vertical-align: middle;\n",
       "    }\n",
       "\n",
       "    .dataframe tbody tr th {\n",
       "        vertical-align: top;\n",
       "    }\n",
       "\n",
       "    .dataframe thead th {\n",
       "        text-align: right;\n",
       "    }\n",
       "</style>\n",
       "<table border=\"1\" class=\"dataframe\">\n",
       "  <thead>\n",
       "    <tr style=\"text-align: right;\">\n",
       "      <th></th>\n",
       "      <th>dt</th>\n",
       "      <th>temp</th>\n",
       "      <th>feels_like</th>\n",
       "      <th>pressure</th>\n",
       "      <th>humidity</th>\n",
       "      <th>dew_point</th>\n",
       "      <th>uvi</th>\n",
       "      <th>clouds</th>\n",
       "      <th>visibility</th>\n",
       "      <th>wind_speed</th>\n",
       "      <th>wind_deg</th>\n",
       "      <th>wind_gust</th>\n",
       "      <th>weather</th>\n",
       "      <th>pop</th>\n",
       "      <th>rain</th>\n",
       "    </tr>\n",
       "  </thead>\n",
       "  <tbody>\n",
       "    <tr>\n",
       "      <th>0</th>\n",
       "      <td>1633294800</td>\n",
       "      <td>28.02</td>\n",
       "      <td>32.31</td>\n",
       "      <td>1010</td>\n",
       "      <td>81</td>\n",
       "      <td>24.45</td>\n",
       "      <td>0.00</td>\n",
       "      <td>85</td>\n",
       "      <td>10000</td>\n",
       "      <td>7.49</td>\n",
       "      <td>74</td>\n",
       "      <td>9.87</td>\n",
       "      <td>[{'id': 804, 'main': 'Clouds', 'description': ...</td>\n",
       "      <td>0.0</td>\n",
       "      <td>NaN</td>\n",
       "    </tr>\n",
       "    <tr>\n",
       "      <th>1</th>\n",
       "      <td>1633298400</td>\n",
       "      <td>27.80</td>\n",
       "      <td>31.60</td>\n",
       "      <td>1011</td>\n",
       "      <td>80</td>\n",
       "      <td>24.03</td>\n",
       "      <td>0.00</td>\n",
       "      <td>85</td>\n",
       "      <td>10000</td>\n",
       "      <td>7.79</td>\n",
       "      <td>69</td>\n",
       "      <td>10.17</td>\n",
       "      <td>[{'id': 500, 'main': 'Rain', 'description': 'l...</td>\n",
       "      <td>0.2</td>\n",
       "      <td>{'1h': 0.13}</td>\n",
       "    </tr>\n",
       "    <tr>\n",
       "      <th>2</th>\n",
       "      <td>1633302000</td>\n",
       "      <td>27.63</td>\n",
       "      <td>31.06</td>\n",
       "      <td>1011</td>\n",
       "      <td>79</td>\n",
       "      <td>23.66</td>\n",
       "      <td>0.15</td>\n",
       "      <td>79</td>\n",
       "      <td>10000</td>\n",
       "      <td>7.66</td>\n",
       "      <td>68</td>\n",
       "      <td>9.95</td>\n",
       "      <td>[{'id': 500, 'main': 'Rain', 'description': 'l...</td>\n",
       "      <td>0.2</td>\n",
       "      <td>{'1h': 0.15}</td>\n",
       "    </tr>\n",
       "    <tr>\n",
       "      <th>3</th>\n",
       "      <td>1633305600</td>\n",
       "      <td>27.88</td>\n",
       "      <td>31.09</td>\n",
       "      <td>1012</td>\n",
       "      <td>75</td>\n",
       "      <td>23.04</td>\n",
       "      <td>0.95</td>\n",
       "      <td>72</td>\n",
       "      <td>10000</td>\n",
       "      <td>7.79</td>\n",
       "      <td>69</td>\n",
       "      <td>9.46</td>\n",
       "      <td>[{'id': 803, 'main': 'Clouds', 'description': ...</td>\n",
       "      <td>0.0</td>\n",
       "      <td>NaN</td>\n",
       "    </tr>\n",
       "    <tr>\n",
       "      <th>4</th>\n",
       "      <td>1633309200</td>\n",
       "      <td>28.18</td>\n",
       "      <td>31.16</td>\n",
       "      <td>1013</td>\n",
       "      <td>71</td>\n",
       "      <td>22.42</td>\n",
       "      <td>2.76</td>\n",
       "      <td>52</td>\n",
       "      <td>10000</td>\n",
       "      <td>7.76</td>\n",
       "      <td>72</td>\n",
       "      <td>9.14</td>\n",
       "      <td>[{'id': 803, 'main': 'Clouds', 'description': ...</td>\n",
       "      <td>0.0</td>\n",
       "      <td>NaN</td>\n",
       "    </tr>\n",
       "  </tbody>\n",
       "</table>\n",
       "</div>"
      ],
      "text/plain": [
       "           dt   temp  feels_like  pressure  humidity  dew_point   uvi  clouds  \\\n",
       "0  1633294800  28.02       32.31      1010        81      24.45  0.00      85   \n",
       "1  1633298400  27.80       31.60      1011        80      24.03  0.00      85   \n",
       "2  1633302000  27.63       31.06      1011        79      23.66  0.15      79   \n",
       "3  1633305600  27.88       31.09      1012        75      23.04  0.95      72   \n",
       "4  1633309200  28.18       31.16      1013        71      22.42  2.76      52   \n",
       "\n",
       "   visibility  wind_speed  wind_deg  wind_gust  \\\n",
       "0       10000        7.49        74       9.87   \n",
       "1       10000        7.79        69      10.17   \n",
       "2       10000        7.66        68       9.95   \n",
       "3       10000        7.79        69       9.46   \n",
       "4       10000        7.76        72       9.14   \n",
       "\n",
       "                                             weather  pop          rain  \n",
       "0  [{'id': 804, 'main': 'Clouds', 'description': ...  0.0           NaN  \n",
       "1  [{'id': 500, 'main': 'Rain', 'description': 'l...  0.2  {'1h': 0.13}  \n",
       "2  [{'id': 500, 'main': 'Rain', 'description': 'l...  0.2  {'1h': 0.15}  \n",
       "3  [{'id': 803, 'main': 'Clouds', 'description': ...  0.0           NaN  \n",
       "4  [{'id': 803, 'main': 'Clouds', 'description': ...  0.0           NaN  "
      ]
     },
     "execution_count": 10,
     "metadata": {},
     "output_type": "execute_result"
    }
   ],
   "source": [
    "df_hourly.head()"
   ]
  },
  {
   "cell_type": "code",
   "execution_count": null,
   "metadata": {},
   "outputs": [],
   "source": []
  }
 ],
 "metadata": {
  "interpreter": {
   "hash": "c1b4cfe941b6d2466ad1fb5979e97da9cda8801728c8091b097ab734208fc00c"
  },
  "kernelspec": {
   "display_name": "Python 3.8.3 64-bit ('base': conda)",
   "name": "python3"
  },
  "language_info": {
   "codemirror_mode": {
    "name": "ipython",
    "version": 3
   },
   "file_extension": ".py",
   "mimetype": "text/x-python",
   "name": "python",
   "nbconvert_exporter": "python",
   "pygments_lexer": "ipython3",
   "version": "3.8.12"
  }
 },
 "nbformat": 4,
 "nbformat_minor": 2
}
