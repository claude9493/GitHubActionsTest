{
 "cells": [
  {
   "cell_type": "code",
   "execution_count": 1,
   "metadata": {
    "execution": {
     "iopub.execute_input": "2021-09-13T22:11:46.173739Z",
     "iopub.status.busy": "2021-09-13T22:11:46.173031Z",
     "iopub.status.idle": "2021-09-13T22:11:54.061786Z",
     "shell.execute_reply": "2021-09-13T22:11:54.060916Z"
    }
   },
   "outputs": [
    {
     "name": "stderr",
     "output_type": "stream",
     "text": [
      "Matplotlib is building the font cache; this may take a moment.\n"
     ]
    }
   ],
   "source": [
    "import json, yaml, requests\r\n",
    "from datetime import datetime\r\n",
    "from dateutil import tz\r\n",
    "import pandas as pd\r\n",
    "from PIL import Image\r\n",
    "from io import BytesIO\r\n",
    "import matplotlib.pyplot as plt\r\n",
    "import seaborn\r\n",
    "\r\n",
    "CONFIG_PATH = \"../config/config.yaml\""
   ]
  },
  {
   "cell_type": "code",
   "execution_count": 2,
   "metadata": {
    "execution": {
     "iopub.execute_input": "2021-09-13T22:11:54.066593Z",
     "iopub.status.busy": "2021-09-13T22:11:54.066123Z",
     "iopub.status.idle": "2021-09-13T22:11:54.070708Z",
     "shell.execute_reply": "2021-09-13T22:11:54.071058Z"
    }
   },
   "outputs": [],
   "source": [
    "with open('../newest_ts', 'r') as f:\r\n",
    "    newest_ts = f.read()\r\n",
    "\r\n",
    "data_path = f\"../data/data_{newest_ts}.json\"\r\n",
    "with open(data_path, 'r') as f:\r\n",
    "    data = json.load(f)\r\n",
    "\r\n",
    "with open(CONFIG_PATH, \"r\") as stream:\r\n",
    "    config = yaml.safe_load(stream)\r\n",
    "\r\n",
    "TIME_ZONE = config['time_zone']\r\n",
    "DATETIME_FORMAT = config['dt_format']"
   ]
  },
  {
   "cell_type": "code",
   "execution_count": 3,
   "metadata": {
    "execution": {
     "iopub.execute_input": "2021-09-13T22:11:54.075296Z",
     "iopub.status.busy": "2021-09-13T22:11:54.074814Z",
     "iopub.status.idle": "2021-09-13T22:11:54.083173Z",
     "shell.execute_reply": "2021-09-13T22:11:54.083516Z"
    }
   },
   "outputs": [
    {
     "name": "stdout",
     "output_type": "stream",
     "text": [
      "Recent query happens at 2021-09-14 06:11:42 (CST).\n"
     ]
    }
   ],
   "source": [
    "def ts2dt(ts, format=DATETIME_FORMAT):\r\n",
    "    dt = (datetime.utcfromtimestamp(int(ts))\r\n",
    "                    .replace(tzinfo=tz.tzutc())\r\n",
    "                    # .astimezone(tz.tzlocal())\r\n",
    "                    .astimezone(tz.gettz(TIME_ZONE)))\r\n",
    "    return dt.strftime(format), dt\r\n",
    "\r\n",
    "_, newest_dt = ts2dt(newest_ts)\r\n",
    "print(f\"Recent query happens at {newest_dt.strftime(DATETIME_FORMAT)} ({newest_dt.tzname()}).\")"
   ]
  },
  {
   "cell_type": "code",
   "execution_count": 4,
   "metadata": {
    "execution": {
     "iopub.execute_input": "2021-09-13T22:11:54.088151Z",
     "iopub.status.busy": "2021-09-13T22:11:54.087165Z",
     "iopub.status.idle": "2021-09-13T22:11:54.088686Z",
     "shell.execute_reply": "2021-09-13T22:11:54.089046Z"
    }
   },
   "outputs": [],
   "source": [
    "def degrees_to_cardinal(d):\r\n",
    "  dirs = ['N', 'NNE', 'NE', 'ENE', 'E', 'ESE', 'SE', 'SSE', 'S', 'SSW', 'SW', 'WSW', 'W', 'WNW', 'NW', 'NNW']\r\n",
    "  ix = int(round(d / (360. / len(dirs))))\r\n",
    "  return dirs[ix % len(dirs)]"
   ]
  },
  {
   "cell_type": "code",
   "execution_count": 5,
   "metadata": {
    "execution": {
     "iopub.execute_input": "2021-09-13T22:11:54.092641Z",
     "iopub.status.busy": "2021-09-13T22:11:54.091701Z",
     "iopub.status.idle": "2021-09-13T22:11:54.093197Z",
     "shell.execute_reply": "2021-09-13T22:11:54.093557Z"
    }
   },
   "outputs": [],
   "source": [
    "# data.keys()"
   ]
  },
  {
   "cell_type": "code",
   "execution_count": 6,
   "metadata": {
    "execution": {
     "iopub.execute_input": "2021-09-13T22:11:54.096989Z",
     "iopub.status.busy": "2021-09-13T22:11:54.095985Z",
     "iopub.status.idle": "2021-09-13T22:11:54.097500Z",
     "shell.execute_reply": "2021-09-13T22:11:54.097856Z"
    }
   },
   "outputs": [],
   "source": [
    "# data['current']"
   ]
  },
  {
   "cell_type": "code",
   "execution_count": 7,
   "metadata": {
    "execution": {
     "iopub.execute_input": "2021-09-13T22:11:54.114234Z",
     "iopub.status.busy": "2021-09-13T22:11:54.113771Z",
     "iopub.status.idle": "2021-09-13T22:11:54.675641Z",
     "shell.execute_reply": "2021-09-13T22:11:54.676308Z"
    }
   },
   "outputs": [
    {
     "data": {
      "image/png": "[encoded data removed]",
      "text/plain": [
       "<Figure size 216x216 with 1 Axes>"
      ]
     },
     "metadata": {
      "needs_background": "light"
     },
     "output_type": "display_data"
    },
    {
     "name": "stdout",
     "output_type": "stream",
     "text": [
      "Today, sun rises at 06:09 and sets at 18:28.\n",
      "Currently, the weather is Clouds (overcast clouds).\n",
      "The temperature is 29.79°C and it feels like 36.79°C.\n",
      "The UV index is 0, humidity is 84%.\n",
      "The pressure is 1010 hPa, percentage of cloud cover is 93%\n",
      "The wind comes from WSW direction with a speed 0.79 m/s.\n"
     ]
    }
   ],
   "source": [
    "current = data['current']\r\n",
    "\r\n",
    "fig, ax = plt.subplots(figsize=(3, 3))\r\n",
    "icon = requests.get(f\"http://openweathermap.org/img/wn/{current['weather'][0]['icon']}@2x.png\")\r\n",
    "im = Image.open(BytesIO(icon.content))\r\n",
    "plt.imshow(im)\r\n",
    "ax.set_axis_off()\r\n",
    "plt.show()\r\n",
    "\r\n",
    "print(f\"Today, sun rises at {ts2dt(current['sunrise'], '%H:%M')[0]} \\\r\n",
    "and sets at {ts2dt(current['sunset'], '%H:%M')[0]}.\\n\\\r\n",
    "Currently, the weather is {current['weather'][0]['main']} ({current['weather'][0]['description']}).\\n\\\r\n",
    "The temperature is {current['temp']}°C and it feels like {current['feels_like']}°C.\\n\\\r\n",
    "The UV index is {current['uvi']}, humidity is {current['humidity']}%.\\n\\\r\n",
    "The pressure is {current['pressure']} hPa, percentage of cloud cover is {current['clouds']}%\\n\\\r\n",
    "The wind comes from {degrees_to_cardinal(current['wind_deg'])} direction with a speed {current['wind_speed']} m/s.\")"
   ]
  },
  {
   "cell_type": "code",
   "execution_count": 8,
   "metadata": {
    "execution": {
     "iopub.execute_input": "2021-09-13T22:11:54.679376Z",
     "iopub.status.busy": "2021-09-13T22:11:54.678484Z",
     "iopub.status.idle": "2021-09-13T22:11:54.685097Z",
     "shell.execute_reply": "2021-09-13T22:11:54.685708Z"
    }
   },
   "outputs": [],
   "source": [
    "df_hourly = pd.DataFrame(data['hourly'])\r\n",
    "df_daily = pd.DataFrame(data['daily'])"
   ]
  },
  {
   "cell_type": "code",
   "execution_count": 9,
   "metadata": {
    "execution": {
     "iopub.execute_input": "2021-09-13T22:11:54.688596Z",
     "iopub.status.busy": "2021-09-13T22:11:54.687692Z",
     "iopub.status.idle": "2021-09-13T22:11:54.931458Z",
     "shell.execute_reply": "2021-09-13T22:11:54.930975Z"
    }
   },
   "outputs": [
    {
     "data": {
      "image/png": "[encoded data removed]",
      "text/plain": [
       "<Figure size 864x432 with 1 Axes>"
      ]
     },
     "metadata": {
      "needs_background": "light"
     },
     "output_type": "display_data"
    }
   ],
   "source": [
    "fig, ax = plt.subplots(figsize=(12, 6))\r\n",
    "plt.plot(df_hourly.temp, '.-', label='Temperature')\r\n",
    "plt.plot(df_hourly.feels_like, '.-', label='Feels Like')\r\n",
    "ax.set(title='Temperature in future 48 hours', xlabel='Time', ylabel='Temperature')\r\n",
    "ax.set_xticks(list(range(0, len(df_hourly), 2)))\r\n",
    "ax.set_xticklabels([ts2dt(ts, '%m-%d %H:%M')[0] for i, ts in enumerate(df_hourly.dt) if i%2==0], \r\n",
    "                   rotation=45, ha=\"right\")\r\n",
    "ax.locator_params(nbins=15, axis='y')\r\n",
    "plt.legend()\r\n",
    "plt.show()"
   ]
  },
  {
   "cell_type": "code",
   "execution_count": 10,
   "metadata": {
    "execution": {
     "iopub.execute_input": "2021-09-13T22:11:54.942911Z",
     "iopub.status.busy": "2021-09-13T22:11:54.935837Z",
     "iopub.status.idle": "2021-09-13T22:11:54.952702Z",
     "shell.execute_reply": "2021-09-13T22:11:54.953049Z"
    }
   },
   "outputs": [
    {
     "data": {
      "text/html": [
       "<div>\n",
       "<style scoped>\n",
       "    .dataframe tbody tr th:only-of-type {\n",
       "        vertical-align: middle;\n",
       "    }\n",
       "\n",
       "    .dataframe tbody tr th {\n",
       "        vertical-align: top;\n",
       "    }\n",
       "\n",
       "    .dataframe thead th {\n",
       "        text-align: right;\n",
       "    }\n",
       "</style>\n",
       "<table border=\"1\" class=\"dataframe\">\n",
       "  <thead>\n",
       "    <tr style=\"text-align: right;\">\n",
       "      <th></th>\n",
       "      <th>dt</th>\n",
       "      <th>temp</th>\n",
       "      <th>feels_like</th>\n",
       "      <th>pressure</th>\n",
       "      <th>humidity</th>\n",
       "      <th>dew_point</th>\n",
       "      <th>uvi</th>\n",
       "      <th>clouds</th>\n",
       "      <th>visibility</th>\n",
       "      <th>wind_speed</th>\n",
       "      <th>wind_deg</th>\n",
       "      <th>wind_gust</th>\n",
       "      <th>weather</th>\n",
       "      <th>pop</th>\n",
       "      <th>rain</th>\n",
       "    </tr>\n",
       "  </thead>\n",
       "  <tbody>\n",
       "    <tr>\n",
       "      <th>0</th>\n",
       "      <td>1631570400</td>\n",
       "      <td>29.79</td>\n",
       "      <td>36.79</td>\n",
       "      <td>1010</td>\n",
       "      <td>84</td>\n",
       "      <td>26.79</td>\n",
       "      <td>0.00</td>\n",
       "      <td>93</td>\n",
       "      <td>10000</td>\n",
       "      <td>0.79</td>\n",
       "      <td>247</td>\n",
       "      <td>0.99</td>\n",
       "      <td>[{'id': 500, 'main': 'Rain', 'description': 'l...</td>\n",
       "      <td>1.00</td>\n",
       "      <td>{'1h': 0.45}</td>\n",
       "    </tr>\n",
       "    <tr>\n",
       "      <th>1</th>\n",
       "      <td>1631574000</td>\n",
       "      <td>29.51</td>\n",
       "      <td>36.51</td>\n",
       "      <td>1010</td>\n",
       "      <td>83</td>\n",
       "      <td>26.31</td>\n",
       "      <td>0.22</td>\n",
       "      <td>93</td>\n",
       "      <td>10000</td>\n",
       "      <td>0.37</td>\n",
       "      <td>249</td>\n",
       "      <td>0.65</td>\n",
       "      <td>[{'id': 804, 'main': 'Clouds', 'description': ...</td>\n",
       "      <td>0.80</td>\n",
       "      <td>NaN</td>\n",
       "    </tr>\n",
       "    <tr>\n",
       "      <th>2</th>\n",
       "      <td>1631577600</td>\n",
       "      <td>29.51</td>\n",
       "      <td>36.45</td>\n",
       "      <td>1011</td>\n",
       "      <td>81</td>\n",
       "      <td>25.90</td>\n",
       "      <td>1.21</td>\n",
       "      <td>93</td>\n",
       "      <td>10000</td>\n",
       "      <td>0.54</td>\n",
       "      <td>205</td>\n",
       "      <td>0.74</td>\n",
       "      <td>[{'id': 804, 'main': 'Clouds', 'description': ...</td>\n",
       "      <td>0.80</td>\n",
       "      <td>NaN</td>\n",
       "    </tr>\n",
       "    <tr>\n",
       "      <th>3</th>\n",
       "      <td>1631581200</td>\n",
       "      <td>29.87</td>\n",
       "      <td>36.46</td>\n",
       "      <td>1011</td>\n",
       "      <td>77</td>\n",
       "      <td>25.40</td>\n",
       "      <td>3.37</td>\n",
       "      <td>89</td>\n",
       "      <td>10000</td>\n",
       "      <td>0.79</td>\n",
       "      <td>188</td>\n",
       "      <td>0.88</td>\n",
       "      <td>[{'id': 804, 'main': 'Clouds', 'description': ...</td>\n",
       "      <td>0.54</td>\n",
       "      <td>NaN</td>\n",
       "    </tr>\n",
       "    <tr>\n",
       "      <th>4</th>\n",
       "      <td>1631584800</td>\n",
       "      <td>30.54</td>\n",
       "      <td>36.67</td>\n",
       "      <td>1012</td>\n",
       "      <td>71</td>\n",
       "      <td>24.68</td>\n",
       "      <td>6.23</td>\n",
       "      <td>91</td>\n",
       "      <td>10000</td>\n",
       "      <td>0.99</td>\n",
       "      <td>204</td>\n",
       "      <td>1.04</td>\n",
       "      <td>[{'id': 500, 'main': 'Rain', 'description': 'l...</td>\n",
       "      <td>0.57</td>\n",
       "      <td>{'1h': 0.28}</td>\n",
       "    </tr>\n",
       "  </tbody>\n",
       "</table>\n",
       "</div>"
      ],
      "text/plain": [
       "           dt   temp  feels_like  pressure  humidity  dew_point   uvi  clouds  \\\n",
       "0  1631570400  29.79       36.79      1010        84      26.79  0.00      93   \n",
       "1  1631574000  29.51       36.51      1010        83      26.31  0.22      93   \n",
       "2  1631577600  29.51       36.45      1011        81      25.90  1.21      93   \n",
       "3  1631581200  29.87       36.46      1011        77      25.40  3.37      89   \n",
       "4  1631584800  30.54       36.67      1012        71      24.68  6.23      91   \n",
       "\n",
       "   visibility  wind_speed  wind_deg  wind_gust  \\\n",
       "0       10000        0.79       247       0.99   \n",
       "1       10000        0.37       249       0.65   \n",
       "2       10000        0.54       205       0.74   \n",
       "3       10000        0.79       188       0.88   \n",
       "4       10000        0.99       204       1.04   \n",
       "\n",
       "                                             weather   pop          rain  \n",
       "0  [{'id': 500, 'main': 'Rain', 'description': 'l...  1.00  {'1h': 0.45}  \n",
       "1  [{'id': 804, 'main': 'Clouds', 'description': ...  0.80           NaN  \n",
       "2  [{'id': 804, 'main': 'Clouds', 'description': ...  0.80           NaN  \n",
       "3  [{'id': 804, 'main': 'Clouds', 'description': ...  0.54           NaN  \n",
       "4  [{'id': 500, 'main': 'Rain', 'description': 'l...  0.57  {'1h': 0.28}  "
      ]
     },
     "execution_count": 10,
     "metadata": {},
     "output_type": "execute_result"
    }
   ],
   "source": [
    "df_hourly.head()"
   ]
  },
  {
   "cell_type": "code",
   "execution_count": null,
   "metadata": {},
   "outputs": [],
   "source": []
  }
 ],
 "metadata": {
  "interpreter": {
   "hash": "c1b4cfe941b6d2466ad1fb5979e97da9cda8801728c8091b097ab734208fc00c"
  },
  "kernelspec": {
   "display_name": "Python 3.8.3 64-bit ('base': conda)",
   "name": "python3"
  },
  "language_info": {
   "codemirror_mode": {
    "name": "ipython",
    "version": 3
   },
   "file_extension": ".py",
   "mimetype": "text/x-python",
   "name": "python",
   "nbconvert_exporter": "python",
   "pygments_lexer": "ipython3",
   "version": "3.8.11"
  }
 },
 "nbformat": 4,
 "nbformat_minor": 2
}
