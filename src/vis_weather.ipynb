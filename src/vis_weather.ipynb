{
 "cells": [
  {
   "cell_type": "code",
   "execution_count": 1,
   "metadata": {
    "execution": {
     "iopub.execute_input": "2021-09-29T23:11:58.397023Z",
     "iopub.status.busy": "2021-09-29T23:11:58.396227Z",
     "iopub.status.idle": "2021-09-29T23:12:01.035870Z",
     "shell.execute_reply": "2021-09-29T23:12:01.035272Z"
    }
   },
   "outputs": [],
   "source": [
    "import json, yaml, requests\r\n",
    "from datetime import datetime\r\n",
    "from dateutil import tz\r\n",
    "import pandas as pd\r\n",
    "from PIL import Image\r\n",
    "from io import BytesIO\r\n",
    "import matplotlib.pyplot as plt\r\n",
    "import seaborn\r\n",
    "\r\n",
    "CONFIG_PATH = \"../config/config.yaml\""
   ]
  },
  {
   "cell_type": "code",
   "execution_count": 2,
   "metadata": {
    "execution": {
     "iopub.execute_input": "2021-09-29T23:12:01.042977Z",
     "iopub.status.busy": "2021-09-29T23:12:01.042419Z",
     "iopub.status.idle": "2021-09-29T23:12:01.050738Z",
     "shell.execute_reply": "2021-09-29T23:12:01.051160Z"
    }
   },
   "outputs": [],
   "source": [
    "with open('../newest_ts', 'r') as f:\r\n",
    "    newest_ts = f.read()\r\n",
    "\r\n",
    "data_path = f\"../data/data_{newest_ts}.json\"\r\n",
    "with open(data_path, 'r') as f:\r\n",
    "    data = json.load(f)\r\n",
    "\r\n",
    "with open(CONFIG_PATH, \"r\") as stream:\r\n",
    "    config = yaml.safe_load(stream)\r\n",
    "\r\n",
    "TIME_ZONE = config['time_zone']\r\n",
    "DATETIME_FORMAT = config['dt_format']"
   ]
  },
  {
   "cell_type": "code",
   "execution_count": 3,
   "metadata": {
    "execution": {
     "iopub.execute_input": "2021-09-29T23:12:01.058237Z",
     "iopub.status.busy": "2021-09-29T23:12:01.056465Z",
     "iopub.status.idle": "2021-09-29T23:12:01.061587Z",
     "shell.execute_reply": "2021-09-29T23:12:01.062221Z"
    }
   },
   "outputs": [
    {
     "name": "stdout",
     "output_type": "stream",
     "text": [
      "Recent query happens at 2021-09-30 07:11:54 (CST).\n"
     ]
    }
   ],
   "source": [
    "def ts2dt(ts, format=DATETIME_FORMAT):\r\n",
    "    dt = (datetime.utcfromtimestamp(int(ts))\r\n",
    "                    .replace(tzinfo=tz.tzutc())\r\n",
    "                    # .astimezone(tz.tzlocal())\r\n",
    "                    .astimezone(tz.gettz(TIME_ZONE)))\r\n",
    "    return dt.strftime(format), dt\r\n",
    "\r\n",
    "_, newest_dt = ts2dt(newest_ts)\r\n",
    "print(f\"Recent query happens at {newest_dt.strftime(DATETIME_FORMAT)} ({newest_dt.tzname()}).\")"
   ]
  },
  {
   "cell_type": "code",
   "execution_count": 4,
   "metadata": {
    "execution": {
     "iopub.execute_input": "2021-09-29T23:12:01.069495Z",
     "iopub.status.busy": "2021-09-29T23:12:01.068837Z",
     "iopub.status.idle": "2021-09-29T23:12:01.070971Z",
     "shell.execute_reply": "2021-09-29T23:12:01.071445Z"
    }
   },
   "outputs": [],
   "source": [
    "def degrees_to_cardinal(d):\r\n",
    "  dirs = ['N', 'NNE', 'NE', 'ENE', 'E', 'ESE', 'SE', 'SSE', 'S', 'SSW', 'SW', 'WSW', 'W', 'WNW', 'NW', 'NNW']\r\n",
    "  ix = int(round(d / (360. / len(dirs))))\r\n",
    "  return dirs[ix % len(dirs)]"
   ]
  },
  {
   "cell_type": "code",
   "execution_count": 5,
   "metadata": {
    "execution": {
     "iopub.execute_input": "2021-09-29T23:12:01.077619Z",
     "iopub.status.busy": "2021-09-29T23:12:01.076260Z",
     "iopub.status.idle": "2021-09-29T23:12:01.078323Z",
     "shell.execute_reply": "2021-09-29T23:12:01.078787Z"
    }
   },
   "outputs": [],
   "source": [
    "# data.keys()"
   ]
  },
  {
   "cell_type": "code",
   "execution_count": 6,
   "metadata": {
    "execution": {
     "iopub.execute_input": "2021-09-29T23:12:01.083751Z",
     "iopub.status.busy": "2021-09-29T23:12:01.082337Z",
     "iopub.status.idle": "2021-09-29T23:12:01.084471Z",
     "shell.execute_reply": "2021-09-29T23:12:01.085189Z"
    }
   },
   "outputs": [],
   "source": [
    "# data['current']"
   ]
  },
  {
   "cell_type": "code",
   "execution_count": 7,
   "metadata": {
    "execution": {
     "iopub.execute_input": "2021-09-29T23:12:01.106570Z",
     "iopub.status.busy": "2021-09-29T23:12:01.102248Z",
     "iopub.status.idle": "2021-09-29T23:12:01.579793Z",
     "shell.execute_reply": "2021-09-29T23:12:01.580240Z"
    }
   },
   "outputs": [
    {
     "data": {
      "image/png": "[encoded data removed]",
      "text/plain": [
       "<Figure size 216x216 with 1 Axes>"
      ]
     },
     "metadata": {
      "needs_background": "light"
     },
     "output_type": "display_data"
    },
    {
     "name": "stdout",
     "output_type": "stream",
     "text": [
      "Today, sun rises at 06:13 and sets at 18:12.\n",
      "Currently, the weather is Clear (clear sky).\n",
      "The temperature is 28.82°C and it feels like 35.82°C.\n",
      "The UV index is 0.17, humidity is 88%.\n",
      "The pressure is 1007 hPa, percentage of cloud cover is 4%\n",
      "The wind comes from SW direction with a speed 0.45 m/s.\n"
     ]
    }
   ],
   "source": [
    "current = data['current']\r\n",
    "\r\n",
    "fig, ax = plt.subplots(figsize=(3, 3))\r\n",
    "icon = requests.get(f\"http://openweathermap.org/img/wn/{current['weather'][0]['icon']}@2x.png\")\r\n",
    "im = Image.open(BytesIO(icon.content))\r\n",
    "plt.imshow(im)\r\n",
    "ax.set_axis_off()\r\n",
    "plt.show()\r\n",
    "\r\n",
    "print(f\"Today, sun rises at {ts2dt(current['sunrise'], '%H:%M')[0]} \\\r\n",
    "and sets at {ts2dt(current['sunset'], '%H:%M')[0]}.\\n\\\r\n",
    "Currently, the weather is {current['weather'][0]['main']} ({current['weather'][0]['description']}).\\n\\\r\n",
    "The temperature is {current['temp']}°C and it feels like {current['feels_like']}°C.\\n\\\r\n",
    "The UV index is {current['uvi']}, humidity is {current['humidity']}%.\\n\\\r\n",
    "The pressure is {current['pressure']} hPa, percentage of cloud cover is {current['clouds']}%\\n\\\r\n",
    "The wind comes from {degrees_to_cardinal(current['wind_deg'])} direction with a speed {current['wind_speed']} m/s.\")"
   ]
  },
  {
   "cell_type": "code",
   "execution_count": 8,
   "metadata": {
    "execution": {
     "iopub.execute_input": "2021-09-29T23:12:01.583342Z",
     "iopub.status.busy": "2021-09-29T23:12:01.582806Z",
     "iopub.status.idle": "2021-09-29T23:12:01.589835Z",
     "shell.execute_reply": "2021-09-29T23:12:01.590357Z"
    }
   },
   "outputs": [],
   "source": [
    "df_hourly = pd.DataFrame(data['hourly'])\r\n",
    "df_daily = pd.DataFrame(data['daily'])"
   ]
  },
  {
   "cell_type": "code",
   "execution_count": 9,
   "metadata": {
    "execution": {
     "iopub.execute_input": "2021-09-29T23:12:01.592800Z",
     "iopub.status.busy": "2021-09-29T23:12:01.592218Z",
     "iopub.status.idle": "2021-09-29T23:12:01.960468Z",
     "shell.execute_reply": "2021-09-29T23:12:01.959896Z"
    }
   },
   "outputs": [
    {
     "data": {
      "image/png": "[encoded data removed]",
      "text/plain": [
       "<Figure size 864x432 with 1 Axes>"
      ]
     },
     "metadata": {
      "needs_background": "light"
     },
     "output_type": "display_data"
    }
   ],
   "source": [
    "fig, ax = plt.subplots(figsize=(12, 6))\r\n",
    "plt.plot(df_hourly.temp, '.-', label='Temperature')\r\n",
    "plt.plot(df_hourly.feels_like, '.-', label='Feels Like')\r\n",
    "ax.set(title='Temperature in future 48 hours', xlabel='Time', ylabel='Temperature')\r\n",
    "ax.set_xticks(list(range(0, len(df_hourly), 2)))\r\n",
    "ax.set_xticklabels([ts2dt(ts, '%m-%d %H:%M')[0] for i, ts in enumerate(df_hourly.dt) if i%2==0], \r\n",
    "                   rotation=45, ha=\"right\")\r\n",
    "ax.locator_params(nbins=15, axis='y')\r\n",
    "plt.legend()\r\n",
    "plt.show()"
   ]
  },
  {
   "cell_type": "code",
   "execution_count": 10,
   "metadata": {
    "execution": {
     "iopub.execute_input": "2021-09-29T23:12:01.973520Z",
     "iopub.status.busy": "2021-09-29T23:12:01.965441Z",
     "iopub.status.idle": "2021-09-29T23:12:01.989686Z",
     "shell.execute_reply": "2021-09-29T23:12:01.989142Z"
    }
   },
   "outputs": [
    {
     "data": {
      "text/html": [
       "<div>\n",
       "<style scoped>\n",
       "    .dataframe tbody tr th:only-of-type {\n",
       "        vertical-align: middle;\n",
       "    }\n",
       "\n",
       "    .dataframe tbody tr th {\n",
       "        vertical-align: top;\n",
       "    }\n",
       "\n",
       "    .dataframe thead th {\n",
       "        text-align: right;\n",
       "    }\n",
       "</style>\n",
       "<table border=\"1\" class=\"dataframe\">\n",
       "  <thead>\n",
       "    <tr style=\"text-align: right;\">\n",
       "      <th></th>\n",
       "      <th>dt</th>\n",
       "      <th>temp</th>\n",
       "      <th>feels_like</th>\n",
       "      <th>pressure</th>\n",
       "      <th>humidity</th>\n",
       "      <th>dew_point</th>\n",
       "      <th>uvi</th>\n",
       "      <th>clouds</th>\n",
       "      <th>visibility</th>\n",
       "      <th>wind_speed</th>\n",
       "      <th>wind_deg</th>\n",
       "      <th>wind_gust</th>\n",
       "      <th>weather</th>\n",
       "      <th>pop</th>\n",
       "    </tr>\n",
       "  </thead>\n",
       "  <tbody>\n",
       "    <tr>\n",
       "      <th>0</th>\n",
       "      <td>1632956400</td>\n",
       "      <td>28.82</td>\n",
       "      <td>35.82</td>\n",
       "      <td>1007</td>\n",
       "      <td>88</td>\n",
       "      <td>26.63</td>\n",
       "      <td>0.17</td>\n",
       "      <td>4</td>\n",
       "      <td>10000</td>\n",
       "      <td>2.07</td>\n",
       "      <td>264</td>\n",
       "      <td>2.43</td>\n",
       "      <td>[{'id': 800, 'main': 'Clear', 'description': '...</td>\n",
       "      <td>0.00</td>\n",
       "    </tr>\n",
       "    <tr>\n",
       "      <th>1</th>\n",
       "      <td>1632960000</td>\n",
       "      <td>28.81</td>\n",
       "      <td>35.28</td>\n",
       "      <td>1007</td>\n",
       "      <td>85</td>\n",
       "      <td>26.03</td>\n",
       "      <td>1.03</td>\n",
       "      <td>4</td>\n",
       "      <td>10000</td>\n",
       "      <td>2.13</td>\n",
       "      <td>264</td>\n",
       "      <td>2.50</td>\n",
       "      <td>[{'id': 800, 'main': 'Clear', 'description': '...</td>\n",
       "      <td>0.04</td>\n",
       "    </tr>\n",
       "    <tr>\n",
       "      <th>2</th>\n",
       "      <td>1632963600</td>\n",
       "      <td>29.10</td>\n",
       "      <td>35.48</td>\n",
       "      <td>1008</td>\n",
       "      <td>82</td>\n",
       "      <td>25.71</td>\n",
       "      <td>3.01</td>\n",
       "      <td>2</td>\n",
       "      <td>10000</td>\n",
       "      <td>2.15</td>\n",
       "      <td>251</td>\n",
       "      <td>2.31</td>\n",
       "      <td>[{'id': 800, 'main': 'Clear', 'description': '...</td>\n",
       "      <td>0.16</td>\n",
       "    </tr>\n",
       "    <tr>\n",
       "      <th>3</th>\n",
       "      <td>1632967200</td>\n",
       "      <td>29.67</td>\n",
       "      <td>35.90</td>\n",
       "      <td>1009</td>\n",
       "      <td>77</td>\n",
       "      <td>25.20</td>\n",
       "      <td>5.75</td>\n",
       "      <td>2</td>\n",
       "      <td>10000</td>\n",
       "      <td>2.55</td>\n",
       "      <td>241</td>\n",
       "      <td>2.54</td>\n",
       "      <td>[{'id': 800, 'main': 'Clear', 'description': '...</td>\n",
       "      <td>0.16</td>\n",
       "    </tr>\n",
       "    <tr>\n",
       "      <th>4</th>\n",
       "      <td>1632970800</td>\n",
       "      <td>30.40</td>\n",
       "      <td>36.57</td>\n",
       "      <td>1009</td>\n",
       "      <td>72</td>\n",
       "      <td>24.78</td>\n",
       "      <td>8.38</td>\n",
       "      <td>1</td>\n",
       "      <td>10000</td>\n",
       "      <td>3.08</td>\n",
       "      <td>235</td>\n",
       "      <td>2.75</td>\n",
       "      <td>[{'id': 800, 'main': 'Clear', 'description': '...</td>\n",
       "      <td>0.04</td>\n",
       "    </tr>\n",
       "  </tbody>\n",
       "</table>\n",
       "</div>"
      ],
      "text/plain": [
       "           dt   temp  feels_like  pressure  humidity  dew_point   uvi  clouds  \\\n",
       "0  1632956400  28.82       35.82      1007        88      26.63  0.17       4   \n",
       "1  1632960000  28.81       35.28      1007        85      26.03  1.03       4   \n",
       "2  1632963600  29.10       35.48      1008        82      25.71  3.01       2   \n",
       "3  1632967200  29.67       35.90      1009        77      25.20  5.75       2   \n",
       "4  1632970800  30.40       36.57      1009        72      24.78  8.38       1   \n",
       "\n",
       "   visibility  wind_speed  wind_deg  wind_gust  \\\n",
       "0       10000        2.07       264       2.43   \n",
       "1       10000        2.13       264       2.50   \n",
       "2       10000        2.15       251       2.31   \n",
       "3       10000        2.55       241       2.54   \n",
       "4       10000        3.08       235       2.75   \n",
       "\n",
       "                                             weather   pop  \n",
       "0  [{'id': 800, 'main': 'Clear', 'description': '...  0.00  \n",
       "1  [{'id': 800, 'main': 'Clear', 'description': '...  0.04  \n",
       "2  [{'id': 800, 'main': 'Clear', 'description': '...  0.16  \n",
       "3  [{'id': 800, 'main': 'Clear', 'description': '...  0.16  \n",
       "4  [{'id': 800, 'main': 'Clear', 'description': '...  0.04  "
      ]
     },
     "execution_count": 10,
     "metadata": {},
     "output_type": "execute_result"
    }
   ],
   "source": [
    "df_hourly.head()"
   ]
  },
  {
   "cell_type": "code",
   "execution_count": null,
   "metadata": {},
   "outputs": [],
   "source": []
  }
 ],
 "metadata": {
  "interpreter": {
   "hash": "c1b4cfe941b6d2466ad1fb5979e97da9cda8801728c8091b097ab734208fc00c"
  },
  "kernelspec": {
   "display_name": "Python 3.8.3 64-bit ('base': conda)",
   "name": "python3"
  },
  "language_info": {
   "codemirror_mode": {
    "name": "ipython",
    "version": 3
   },
   "file_extension": ".py",
   "mimetype": "text/x-python",
   "name": "python",
   "nbconvert_exporter": "python",
   "pygments_lexer": "ipython3",
   "version": "3.8.12"
  }
 },
 "nbformat": 4,
 "nbformat_minor": 2
}
