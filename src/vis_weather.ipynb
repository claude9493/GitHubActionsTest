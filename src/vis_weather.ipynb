{
 "cells": [
  {
   "cell_type": "code",
   "execution_count": 1,
   "metadata": {
    "execution": {
     "iopub.execute_input": "2021-09-19T22:11:39.542797Z",
     "iopub.status.busy": "2021-09-19T22:11:39.542133Z",
     "iopub.status.idle": "2021-09-19T22:11:40.863345Z",
     "shell.execute_reply": "2021-09-19T22:11:40.862352Z"
    }
   },
   "outputs": [],
   "source": [
    "import json, yaml, requests\r\n",
    "from datetime import datetime\r\n",
    "from dateutil import tz\r\n",
    "import pandas as pd\r\n",
    "from PIL import Image\r\n",
    "from io import BytesIO\r\n",
    "import matplotlib.pyplot as plt\r\n",
    "import seaborn\r\n",
    "\r\n",
    "CONFIG_PATH = \"../config/config.yaml\""
   ]
  },
  {
   "cell_type": "code",
   "execution_count": 2,
   "metadata": {
    "execution": {
     "iopub.execute_input": "2021-09-19T22:11:40.872477Z",
     "iopub.status.busy": "2021-09-19T22:11:40.871932Z",
     "iopub.status.idle": "2021-09-19T22:11:40.875506Z",
     "shell.execute_reply": "2021-09-19T22:11:40.874835Z"
    }
   },
   "outputs": [],
   "source": [
    "with open('../newest_ts', 'r') as f:\r\n",
    "    newest_ts = f.read()\r\n",
    "\r\n",
    "data_path = f\"../data/data_{newest_ts}.json\"\r\n",
    "with open(data_path, 'r') as f:\r\n",
    "    data = json.load(f)\r\n",
    "\r\n",
    "with open(CONFIG_PATH, \"r\") as stream:\r\n",
    "    config = yaml.safe_load(stream)\r\n",
    "\r\n",
    "TIME_ZONE = config['time_zone']\r\n",
    "DATETIME_FORMAT = config['dt_format']"
   ]
  },
  {
   "cell_type": "code",
   "execution_count": 3,
   "metadata": {
    "execution": {
     "iopub.execute_input": "2021-09-19T22:11:40.881548Z",
     "iopub.status.busy": "2021-09-19T22:11:40.879815Z",
     "iopub.status.idle": "2021-09-19T22:11:40.884476Z",
     "shell.execute_reply": "2021-09-19T22:11:40.884910Z"
    }
   },
   "outputs": [
    {
     "name": "stdout",
     "output_type": "stream",
     "text": [
      "Recent query happens at 2021-09-20 06:11:37 (CST).\n"
     ]
    }
   ],
   "source": [
    "def ts2dt(ts, format=DATETIME_FORMAT):\r\n",
    "    dt = (datetime.utcfromtimestamp(int(ts))\r\n",
    "                    .replace(tzinfo=tz.tzutc())\r\n",
    "                    # .astimezone(tz.tzlocal())\r\n",
    "                    .astimezone(tz.gettz(TIME_ZONE)))\r\n",
    "    return dt.strftime(format), dt\r\n",
    "\r\n",
    "_, newest_dt = ts2dt(newest_ts)\r\n",
    "print(f\"Recent query happens at {newest_dt.strftime(DATETIME_FORMAT)} ({newest_dt.tzname()}).\")"
   ]
  },
  {
   "cell_type": "code",
   "execution_count": 4,
   "metadata": {
    "execution": {
     "iopub.execute_input": "2021-09-19T22:11:40.890415Z",
     "iopub.status.busy": "2021-09-19T22:11:40.889190Z",
     "iopub.status.idle": "2021-09-19T22:11:40.891012Z",
     "shell.execute_reply": "2021-09-19T22:11:40.891445Z"
    }
   },
   "outputs": [],
   "source": [
    "def degrees_to_cardinal(d):\r\n",
    "  dirs = ['N', 'NNE', 'NE', 'ENE', 'E', 'ESE', 'SE', 'SSE', 'S', 'SSW', 'SW', 'WSW', 'W', 'WNW', 'NW', 'NNW']\r\n",
    "  ix = int(round(d / (360. / len(dirs))))\r\n",
    "  return dirs[ix % len(dirs)]"
   ]
  },
  {
   "cell_type": "code",
   "execution_count": 5,
   "metadata": {
    "execution": {
     "iopub.execute_input": "2021-09-19T22:11:40.895795Z",
     "iopub.status.busy": "2021-09-19T22:11:40.894647Z",
     "iopub.status.idle": "2021-09-19T22:11:40.896387Z",
     "shell.execute_reply": "2021-09-19T22:11:40.896809Z"
    }
   },
   "outputs": [],
   "source": [
    "# data.keys()"
   ]
  },
  {
   "cell_type": "code",
   "execution_count": 6,
   "metadata": {
    "execution": {
     "iopub.execute_input": "2021-09-19T22:11:40.899901Z",
     "iopub.status.busy": "2021-09-19T22:11:40.899310Z",
     "iopub.status.idle": "2021-09-19T22:11:40.901529Z",
     "shell.execute_reply": "2021-09-19T22:11:40.901950Z"
    }
   },
   "outputs": [],
   "source": [
    "# data['current']"
   ]
  },
  {
   "cell_type": "code",
   "execution_count": 7,
   "metadata": {
    "execution": {
     "iopub.execute_input": "2021-09-19T22:11:40.908557Z",
     "iopub.status.busy": "2021-09-19T22:11:40.907994Z",
     "iopub.status.idle": "2021-09-19T22:11:41.513443Z",
     "shell.execute_reply": "2021-09-19T22:11:41.514241Z"
    }
   },
   "outputs": [
    {
     "data": {
      "image/png": "[encoded data removed]",
      "text/plain": [
       "<Figure size 216x216 with 1 Axes>"
      ]
     },
     "metadata": {
      "needs_background": "light"
     },
     "output_type": "display_data"
    },
    {
     "name": "stdout",
     "output_type": "stream",
     "text": [
      "Today, sun rises at 06:11 and sets at 18:21.\n",
      "Currently, the weather is Clouds (few clouds).\n",
      "The temperature is 29.07°C and it feels like 36.07°C.\n",
      "The UV index is 0, humidity is 85%.\n",
      "The pressure is 1011 hPa, percentage of cloud cover is 21%\n",
      "The wind comes from ENE direction with a speed 1.75 m/s.\n"
     ]
    }
   ],
   "source": [
    "current = data['current']\r\n",
    "\r\n",
    "fig, ax = plt.subplots(figsize=(3, 3))\r\n",
    "icon = requests.get(f\"http://openweathermap.org/img/wn/{current['weather'][0]['icon']}@2x.png\")\r\n",
    "im = Image.open(BytesIO(icon.content))\r\n",
    "plt.imshow(im)\r\n",
    "ax.set_axis_off()\r\n",
    "plt.show()\r\n",
    "\r\n",
    "print(f\"Today, sun rises at {ts2dt(current['sunrise'], '%H:%M')[0]} \\\r\n",
    "and sets at {ts2dt(current['sunset'], '%H:%M')[0]}.\\n\\\r\n",
    "Currently, the weather is {current['weather'][0]['main']} ({current['weather'][0]['description']}).\\n\\\r\n",
    "The temperature is {current['temp']}°C and it feels like {current['feels_like']}°C.\\n\\\r\n",
    "The UV index is {current['uvi']}, humidity is {current['humidity']}%.\\n\\\r\n",
    "The pressure is {current['pressure']} hPa, percentage of cloud cover is {current['clouds']}%\\n\\\r\n",
    "The wind comes from {degrees_to_cardinal(current['wind_deg'])} direction with a speed {current['wind_speed']} m/s.\")"
   ]
  },
  {
   "cell_type": "code",
   "execution_count": 8,
   "metadata": {
    "execution": {
     "iopub.execute_input": "2021-09-19T22:11:41.517899Z",
     "iopub.status.busy": "2021-09-19T22:11:41.516800Z",
     "iopub.status.idle": "2021-09-19T22:11:41.524537Z",
     "shell.execute_reply": "2021-09-19T22:11:41.525280Z"
    }
   },
   "outputs": [],
   "source": [
    "df_hourly = pd.DataFrame(data['hourly'])\r\n",
    "df_daily = pd.DataFrame(data['daily'])"
   ]
  },
  {
   "cell_type": "code",
   "execution_count": 9,
   "metadata": {
    "execution": {
     "iopub.execute_input": "2021-09-19T22:11:41.528869Z",
     "iopub.status.busy": "2021-09-19T22:11:41.527684Z",
     "iopub.status.idle": "2021-09-19T22:11:41.803318Z",
     "shell.execute_reply": "2021-09-19T22:11:41.802790Z"
    }
   },
   "outputs": [
    {
     "data": {
      "image/png": "[encoded data removed]",
      "text/plain": [
       "<Figure size 864x432 with 1 Axes>"
      ]
     },
     "metadata": {
      "needs_background": "light"
     },
     "output_type": "display_data"
    }
   ],
   "source": [
    "fig, ax = plt.subplots(figsize=(12, 6))\r\n",
    "plt.plot(df_hourly.temp, '.-', label='Temperature')\r\n",
    "plt.plot(df_hourly.feels_like, '.-', label='Feels Like')\r\n",
    "ax.set(title='Temperature in future 48 hours', xlabel='Time', ylabel='Temperature')\r\n",
    "ax.set_xticks(list(range(0, len(df_hourly), 2)))\r\n",
    "ax.set_xticklabels([ts2dt(ts, '%m-%d %H:%M')[0] for i, ts in enumerate(df_hourly.dt) if i%2==0], \r\n",
    "                   rotation=45, ha=\"right\")\r\n",
    "ax.locator_params(nbins=15, axis='y')\r\n",
    "plt.legend()\r\n",
    "plt.show()"
   ]
  },
  {
   "cell_type": "code",
   "execution_count": 10,
   "metadata": {
    "execution": {
     "iopub.execute_input": "2021-09-19T22:11:41.815743Z",
     "iopub.status.busy": "2021-09-19T22:11:41.807536Z",
     "iopub.status.idle": "2021-09-19T22:11:41.827379Z",
     "shell.execute_reply": "2021-09-19T22:11:41.826920Z"
    }
   },
   "outputs": [
    {
     "data": {
      "text/html": [
       "<div>\n",
       "<style scoped>\n",
       "    .dataframe tbody tr th:only-of-type {\n",
       "        vertical-align: middle;\n",
       "    }\n",
       "\n",
       "    .dataframe tbody tr th {\n",
       "        vertical-align: top;\n",
       "    }\n",
       "\n",
       "    .dataframe thead th {\n",
       "        text-align: right;\n",
       "    }\n",
       "</style>\n",
       "<table border=\"1\" class=\"dataframe\">\n",
       "  <thead>\n",
       "    <tr style=\"text-align: right;\">\n",
       "      <th></th>\n",
       "      <th>dt</th>\n",
       "      <th>temp</th>\n",
       "      <th>feels_like</th>\n",
       "      <th>pressure</th>\n",
       "      <th>humidity</th>\n",
       "      <th>dew_point</th>\n",
       "      <th>uvi</th>\n",
       "      <th>clouds</th>\n",
       "      <th>visibility</th>\n",
       "      <th>wind_speed</th>\n",
       "      <th>wind_deg</th>\n",
       "      <th>wind_gust</th>\n",
       "      <th>weather</th>\n",
       "      <th>pop</th>\n",
       "      <th>rain</th>\n",
       "    </tr>\n",
       "  </thead>\n",
       "  <tbody>\n",
       "    <tr>\n",
       "      <th>0</th>\n",
       "      <td>1632088800</td>\n",
       "      <td>29.07</td>\n",
       "      <td>36.07</td>\n",
       "      <td>1011</td>\n",
       "      <td>85</td>\n",
       "      <td>26.29</td>\n",
       "      <td>0.00</td>\n",
       "      <td>21</td>\n",
       "      <td>10000</td>\n",
       "      <td>1.75</td>\n",
       "      <td>78</td>\n",
       "      <td>2.09</td>\n",
       "      <td>[{'id': 801, 'main': 'Clouds', 'description': ...</td>\n",
       "      <td>0.77</td>\n",
       "      <td>NaN</td>\n",
       "    </tr>\n",
       "    <tr>\n",
       "      <th>1</th>\n",
       "      <td>1632092400</td>\n",
       "      <td>28.80</td>\n",
       "      <td>35.03</td>\n",
       "      <td>1011</td>\n",
       "      <td>84</td>\n",
       "      <td>25.82</td>\n",
       "      <td>0.22</td>\n",
       "      <td>20</td>\n",
       "      <td>10000</td>\n",
       "      <td>2.09</td>\n",
       "      <td>72</td>\n",
       "      <td>2.51</td>\n",
       "      <td>[{'id': 801, 'main': 'Clouds', 'description': ...</td>\n",
       "      <td>0.77</td>\n",
       "      <td>NaN</td>\n",
       "    </tr>\n",
       "    <tr>\n",
       "      <th>2</th>\n",
       "      <td>1632096000</td>\n",
       "      <td>28.79</td>\n",
       "      <td>34.79</td>\n",
       "      <td>1011</td>\n",
       "      <td>83</td>\n",
       "      <td>25.61</td>\n",
       "      <td>1.24</td>\n",
       "      <td>19</td>\n",
       "      <td>10000</td>\n",
       "      <td>2.38</td>\n",
       "      <td>78</td>\n",
       "      <td>2.76</td>\n",
       "      <td>[{'id': 801, 'main': 'Clouds', 'description': ...</td>\n",
       "      <td>0.73</td>\n",
       "      <td>NaN</td>\n",
       "    </tr>\n",
       "    <tr>\n",
       "      <th>3</th>\n",
       "      <td>1632099600</td>\n",
       "      <td>29.02</td>\n",
       "      <td>34.80</td>\n",
       "      <td>1012</td>\n",
       "      <td>80</td>\n",
       "      <td>25.22</td>\n",
       "      <td>3.37</td>\n",
       "      <td>10</td>\n",
       "      <td>10000</td>\n",
       "      <td>2.73</td>\n",
       "      <td>83</td>\n",
       "      <td>2.93</td>\n",
       "      <td>[{'id': 800, 'main': 'Clear', 'description': '...</td>\n",
       "      <td>0.04</td>\n",
       "      <td>NaN</td>\n",
       "    </tr>\n",
       "    <tr>\n",
       "      <th>4</th>\n",
       "      <td>1632103200</td>\n",
       "      <td>29.43</td>\n",
       "      <td>35.01</td>\n",
       "      <td>1012</td>\n",
       "      <td>76</td>\n",
       "      <td>24.75</td>\n",
       "      <td>6.33</td>\n",
       "      <td>12</td>\n",
       "      <td>10000</td>\n",
       "      <td>3.13</td>\n",
       "      <td>91</td>\n",
       "      <td>2.96</td>\n",
       "      <td>[{'id': 801, 'main': 'Clouds', 'description': ...</td>\n",
       "      <td>0.00</td>\n",
       "      <td>NaN</td>\n",
       "    </tr>\n",
       "  </tbody>\n",
       "</table>\n",
       "</div>"
      ],
      "text/plain": [
       "           dt   temp  feels_like  pressure  humidity  dew_point   uvi  clouds  \\\n",
       "0  1632088800  29.07       36.07      1011        85      26.29  0.00      21   \n",
       "1  1632092400  28.80       35.03      1011        84      25.82  0.22      20   \n",
       "2  1632096000  28.79       34.79      1011        83      25.61  1.24      19   \n",
       "3  1632099600  29.02       34.80      1012        80      25.22  3.37      10   \n",
       "4  1632103200  29.43       35.01      1012        76      24.75  6.33      12   \n",
       "\n",
       "   visibility  wind_speed  wind_deg  wind_gust  \\\n",
       "0       10000        1.75        78       2.09   \n",
       "1       10000        2.09        72       2.51   \n",
       "2       10000        2.38        78       2.76   \n",
       "3       10000        2.73        83       2.93   \n",
       "4       10000        3.13        91       2.96   \n",
       "\n",
       "                                             weather   pop rain  \n",
       "0  [{'id': 801, 'main': 'Clouds', 'description': ...  0.77  NaN  \n",
       "1  [{'id': 801, 'main': 'Clouds', 'description': ...  0.77  NaN  \n",
       "2  [{'id': 801, 'main': 'Clouds', 'description': ...  0.73  NaN  \n",
       "3  [{'id': 800, 'main': 'Clear', 'description': '...  0.04  NaN  \n",
       "4  [{'id': 801, 'main': 'Clouds', 'description': ...  0.00  NaN  "
      ]
     },
     "execution_count": 10,
     "metadata": {},
     "output_type": "execute_result"
    }
   ],
   "source": [
    "df_hourly.head()"
   ]
  },
  {
   "cell_type": "code",
   "execution_count": null,
   "metadata": {},
   "outputs": [],
   "source": []
  }
 ],
 "metadata": {
  "interpreter": {
   "hash": "c1b4cfe941b6d2466ad1fb5979e97da9cda8801728c8091b097ab734208fc00c"
  },
  "kernelspec": {
   "display_name": "Python 3.8.3 64-bit ('base': conda)",
   "name": "python3"
  },
  "language_info": {
   "codemirror_mode": {
    "name": "ipython",
    "version": 3
   },
   "file_extension": ".py",
   "mimetype": "text/x-python",
   "name": "python",
   "nbconvert_exporter": "python",
   "pygments_lexer": "ipython3",
   "version": "3.8.11"
  }
 },
 "nbformat": 4,
 "nbformat_minor": 2
}
