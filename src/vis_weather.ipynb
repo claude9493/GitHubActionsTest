{
 "cells": [
  {
   "cell_type": "code",
   "execution_count": 1,
   "metadata": {
    "execution": {
     "iopub.execute_input": "2021-09-20T08:13:46.260452Z",
     "iopub.status.busy": "2021-09-20T08:13:46.259872Z",
     "iopub.status.idle": "2021-09-20T08:13:47.387070Z",
     "shell.execute_reply": "2021-09-20T08:13:47.386445Z"
    }
   },
   "outputs": [],
   "source": [
    "import json, yaml, requests\r\n",
    "from datetime import datetime\r\n",
    "from dateutil import tz\r\n",
    "import pandas as pd\r\n",
    "from PIL import Image\r\n",
    "from io import BytesIO\r\n",
    "import matplotlib.pyplot as plt\r\n",
    "import seaborn\r\n",
    "\r\n",
    "CONFIG_PATH = \"../config/config.yaml\""
   ]
  },
  {
   "cell_type": "code",
   "execution_count": 2,
   "metadata": {
    "execution": {
     "iopub.execute_input": "2021-09-20T08:13:47.392010Z",
     "iopub.status.busy": "2021-09-20T08:13:47.391226Z",
     "iopub.status.idle": "2021-09-20T08:13:47.396270Z",
     "shell.execute_reply": "2021-09-20T08:13:47.395593Z"
    }
   },
   "outputs": [],
   "source": [
    "with open('../newest_ts', 'r') as f:\r\n",
    "    newest_ts = f.read()\r\n",
    "\r\n",
    "data_path = f\"../data/data_{newest_ts}.json\"\r\n",
    "with open(data_path, 'r') as f:\r\n",
    "    data = json.load(f)\r\n",
    "\r\n",
    "with open(CONFIG_PATH, \"r\") as stream:\r\n",
    "    config = yaml.safe_load(stream)\r\n",
    "\r\n",
    "TIME_ZONE = config['time_zone']\r\n",
    "DATETIME_FORMAT = config['dt_format']"
   ]
  },
  {
   "cell_type": "code",
   "execution_count": 3,
   "metadata": {
    "execution": {
     "iopub.execute_input": "2021-09-20T08:13:47.400577Z",
     "iopub.status.busy": "2021-09-20T08:13:47.400107Z",
     "iopub.status.idle": "2021-09-20T08:13:47.405255Z",
     "shell.execute_reply": "2021-09-20T08:13:47.404590Z"
    }
   },
   "outputs": [
    {
     "name": "stdout",
     "output_type": "stream",
     "text": [
      "Recent query happens at 2021-09-20 16:13:43 (CST).\n"
     ]
    }
   ],
   "source": [
    "def ts2dt(ts, format=DATETIME_FORMAT):\r\n",
    "    dt = (datetime.utcfromtimestamp(int(ts))\r\n",
    "                    .replace(tzinfo=tz.tzutc())\r\n",
    "                    # .astimezone(tz.tzlocal())\r\n",
    "                    .astimezone(tz.gettz(TIME_ZONE)))\r\n",
    "    return dt.strftime(format), dt\r\n",
    "\r\n",
    "_, newest_dt = ts2dt(newest_ts)\r\n",
    "print(f\"Recent query happens at {newest_dt.strftime(DATETIME_FORMAT)} ({newest_dt.tzname()}).\")"
   ]
  },
  {
   "cell_type": "code",
   "execution_count": 4,
   "metadata": {
    "execution": {
     "iopub.execute_input": "2021-09-20T08:13:47.409106Z",
     "iopub.status.busy": "2021-09-20T08:13:47.408659Z",
     "iopub.status.idle": "2021-09-20T08:13:47.411584Z",
     "shell.execute_reply": "2021-09-20T08:13:47.411192Z"
    }
   },
   "outputs": [],
   "source": [
    "def degrees_to_cardinal(d):\r\n",
    "  dirs = ['N', 'NNE', 'NE', 'ENE', 'E', 'ESE', 'SE', 'SSE', 'S', 'SSW', 'SW', 'WSW', 'W', 'WNW', 'NW', 'NNW']\r\n",
    "  ix = int(round(d / (360. / len(dirs))))\r\n",
    "  return dirs[ix % len(dirs)]"
   ]
  },
  {
   "cell_type": "code",
   "execution_count": 5,
   "metadata": {
    "execution": {
     "iopub.execute_input": "2021-09-20T08:13:47.414695Z",
     "iopub.status.busy": "2021-09-20T08:13:47.414251Z",
     "iopub.status.idle": "2021-09-20T08:13:47.417085Z",
     "shell.execute_reply": "2021-09-20T08:13:47.416694Z"
    }
   },
   "outputs": [],
   "source": [
    "# data.keys()"
   ]
  },
  {
   "cell_type": "code",
   "execution_count": 6,
   "metadata": {
    "execution": {
     "iopub.execute_input": "2021-09-20T08:13:47.419985Z",
     "iopub.status.busy": "2021-09-20T08:13:47.419539Z",
     "iopub.status.idle": "2021-09-20T08:13:47.422061Z",
     "shell.execute_reply": "2021-09-20T08:13:47.422407Z"
    }
   },
   "outputs": [],
   "source": [
    "# data['current']"
   ]
  },
  {
   "cell_type": "code",
   "execution_count": 7,
   "metadata": {
    "execution": {
     "iopub.execute_input": "2021-09-20T08:13:47.433116Z",
     "iopub.status.busy": "2021-09-20T08:13:47.432406Z",
     "iopub.status.idle": "2021-09-20T08:13:47.822570Z",
     "shell.execute_reply": "2021-09-20T08:13:47.821903Z"
    }
   },
   "outputs": [
    {
     "data": {
      "image/png": "[encoded data removed]",
      "text/plain": [
       "<Figure size 216x216 with 1 Axes>"
      ]
     },
     "metadata": {
      "needs_background": "light"
     },
     "output_type": "display_data"
    },
    {
     "name": "stdout",
     "output_type": "stream",
     "text": [
      "Today, sun rises at 06:11 and sets at 18:21.\n",
      "Currently, the weather is Clouds (broken clouds).\n",
      "The temperature is 30.67°C and it feels like 37.67°C.\n",
      "The UV index is 2.68, humidity is 82%.\n",
      "The pressure is 1009 hPa, percentage of cloud cover is 79%\n",
      "The wind comes from ESE direction with a speed 2.45 m/s.\n"
     ]
    }
   ],
   "source": [
    "current = data['current']\r\n",
    "\r\n",
    "fig, ax = plt.subplots(figsize=(3, 3))\r\n",
    "icon = requests.get(f\"http://openweathermap.org/img/wn/{current['weather'][0]['icon']}@2x.png\")\r\n",
    "im = Image.open(BytesIO(icon.content))\r\n",
    "plt.imshow(im)\r\n",
    "ax.set_axis_off()\r\n",
    "plt.show()\r\n",
    "\r\n",
    "print(f\"Today, sun rises at {ts2dt(current['sunrise'], '%H:%M')[0]} \\\r\n",
    "and sets at {ts2dt(current['sunset'], '%H:%M')[0]}.\\n\\\r\n",
    "Currently, the weather is {current['weather'][0]['main']} ({current['weather'][0]['description']}).\\n\\\r\n",
    "The temperature is {current['temp']}°C and it feels like {current['feels_like']}°C.\\n\\\r\n",
    "The UV index is {current['uvi']}, humidity is {current['humidity']}%.\\n\\\r\n",
    "The pressure is {current['pressure']} hPa, percentage of cloud cover is {current['clouds']}%\\n\\\r\n",
    "The wind comes from {degrees_to_cardinal(current['wind_deg'])} direction with a speed {current['wind_speed']} m/s.\")"
   ]
  },
  {
   "cell_type": "code",
   "execution_count": 8,
   "metadata": {
    "execution": {
     "iopub.execute_input": "2021-09-20T08:13:47.830764Z",
     "iopub.status.busy": "2021-09-20T08:13:47.829686Z",
     "iopub.status.idle": "2021-09-20T08:13:47.831383Z",
     "shell.execute_reply": "2021-09-20T08:13:47.831750Z"
    }
   },
   "outputs": [],
   "source": [
    "df_hourly = pd.DataFrame(data['hourly'])\r\n",
    "df_daily = pd.DataFrame(data['daily'])"
   ]
  },
  {
   "cell_type": "code",
   "execution_count": 9,
   "metadata": {
    "execution": {
     "iopub.execute_input": "2021-09-20T08:13:47.844337Z",
     "iopub.status.busy": "2021-09-20T08:13:47.840667Z",
     "iopub.status.idle": "2021-09-20T08:13:48.070967Z",
     "shell.execute_reply": "2021-09-20T08:13:48.070536Z"
    }
   },
   "outputs": [
    {
     "data": {
      "image/png": "[encoded data removed]",
      "text/plain": [
       "<Figure size 864x432 with 1 Axes>"
      ]
     },
     "metadata": {
      "needs_background": "light"
     },
     "output_type": "display_data"
    }
   ],
   "source": [
    "fig, ax = plt.subplots(figsize=(12, 6))\r\n",
    "plt.plot(df_hourly.temp, '.-', label='Temperature')\r\n",
    "plt.plot(df_hourly.feels_like, '.-', label='Feels Like')\r\n",
    "ax.set(title='Temperature in future 48 hours', xlabel='Time', ylabel='Temperature')\r\n",
    "ax.set_xticks(list(range(0, len(df_hourly), 2)))\r\n",
    "ax.set_xticklabels([ts2dt(ts, '%m-%d %H:%M')[0] for i, ts in enumerate(df_hourly.dt) if i%2==0], \r\n",
    "                   rotation=45, ha=\"right\")\r\n",
    "ax.locator_params(nbins=15, axis='y')\r\n",
    "plt.legend()\r\n",
    "plt.show()"
   ]
  },
  {
   "cell_type": "code",
   "execution_count": 10,
   "metadata": {
    "execution": {
     "iopub.execute_input": "2021-09-20T08:13:48.075179Z",
     "iopub.status.busy": "2021-09-20T08:13:48.074692Z",
     "iopub.status.idle": "2021-09-20T08:13:48.091411Z",
     "shell.execute_reply": "2021-09-20T08:13:48.091005Z"
    }
   },
   "outputs": [
    {
     "data": {
      "text/html": [
       "<div>\n",
       "<style scoped>\n",
       "    .dataframe tbody tr th:only-of-type {\n",
       "        vertical-align: middle;\n",
       "    }\n",
       "\n",
       "    .dataframe tbody tr th {\n",
       "        vertical-align: top;\n",
       "    }\n",
       "\n",
       "    .dataframe thead th {\n",
       "        text-align: right;\n",
       "    }\n",
       "</style>\n",
       "<table border=\"1\" class=\"dataframe\">\n",
       "  <thead>\n",
       "    <tr style=\"text-align: right;\">\n",
       "      <th></th>\n",
       "      <th>dt</th>\n",
       "      <th>temp</th>\n",
       "      <th>feels_like</th>\n",
       "      <th>pressure</th>\n",
       "      <th>humidity</th>\n",
       "      <th>dew_point</th>\n",
       "      <th>uvi</th>\n",
       "      <th>clouds</th>\n",
       "      <th>visibility</th>\n",
       "      <th>wind_speed</th>\n",
       "      <th>wind_deg</th>\n",
       "      <th>wind_gust</th>\n",
       "      <th>weather</th>\n",
       "      <th>pop</th>\n",
       "      <th>rain</th>\n",
       "    </tr>\n",
       "  </thead>\n",
       "  <tbody>\n",
       "    <tr>\n",
       "      <th>0</th>\n",
       "      <td>1632124800</td>\n",
       "      <td>30.67</td>\n",
       "      <td>37.67</td>\n",
       "      <td>1009</td>\n",
       "      <td>82</td>\n",
       "      <td>27.24</td>\n",
       "      <td>2.68</td>\n",
       "      <td>79</td>\n",
       "      <td>10000</td>\n",
       "      <td>2.45</td>\n",
       "      <td>109</td>\n",
       "      <td>2.18</td>\n",
       "      <td>[{'id': 803, 'main': 'Clouds', 'description': ...</td>\n",
       "      <td>0.61</td>\n",
       "      <td>NaN</td>\n",
       "    </tr>\n",
       "    <tr>\n",
       "      <th>1</th>\n",
       "      <td>1632128400</td>\n",
       "      <td>30.50</td>\n",
       "      <td>37.50</td>\n",
       "      <td>1009</td>\n",
       "      <td>79</td>\n",
       "      <td>26.44</td>\n",
       "      <td>0.86</td>\n",
       "      <td>78</td>\n",
       "      <td>10000</td>\n",
       "      <td>2.91</td>\n",
       "      <td>105</td>\n",
       "      <td>2.79</td>\n",
       "      <td>[{'id': 803, 'main': 'Clouds', 'description': ...</td>\n",
       "      <td>0.57</td>\n",
       "      <td>NaN</td>\n",
       "    </tr>\n",
       "    <tr>\n",
       "      <th>2</th>\n",
       "      <td>1632132000</td>\n",
       "      <td>30.03</td>\n",
       "      <td>37.03</td>\n",
       "      <td>1009</td>\n",
       "      <td>78</td>\n",
       "      <td>25.77</td>\n",
       "      <td>0.12</td>\n",
       "      <td>72</td>\n",
       "      <td>10000</td>\n",
       "      <td>3.03</td>\n",
       "      <td>107</td>\n",
       "      <td>3.35</td>\n",
       "      <td>[{'id': 803, 'main': 'Clouds', 'description': ...</td>\n",
       "      <td>0.36</td>\n",
       "      <td>NaN</td>\n",
       "    </tr>\n",
       "    <tr>\n",
       "      <th>3</th>\n",
       "      <td>1632135600</td>\n",
       "      <td>29.40</td>\n",
       "      <td>35.64</td>\n",
       "      <td>1009</td>\n",
       "      <td>79</td>\n",
       "      <td>25.37</td>\n",
       "      <td>0.00</td>\n",
       "      <td>64</td>\n",
       "      <td>10000</td>\n",
       "      <td>2.91</td>\n",
       "      <td>113</td>\n",
       "      <td>3.53</td>\n",
       "      <td>[{'id': 803, 'main': 'Clouds', 'description': ...</td>\n",
       "      <td>0.28</td>\n",
       "      <td>NaN</td>\n",
       "    </tr>\n",
       "    <tr>\n",
       "      <th>4</th>\n",
       "      <td>1632139200</td>\n",
       "      <td>28.86</td>\n",
       "      <td>34.35</td>\n",
       "      <td>1010</td>\n",
       "      <td>80</td>\n",
       "      <td>25.06</td>\n",
       "      <td>0.00</td>\n",
       "      <td>57</td>\n",
       "      <td>10000</td>\n",
       "      <td>2.75</td>\n",
       "      <td>110</td>\n",
       "      <td>3.62</td>\n",
       "      <td>[{'id': 803, 'main': 'Clouds', 'description': ...</td>\n",
       "      <td>0.20</td>\n",
       "      <td>NaN</td>\n",
       "    </tr>\n",
       "  </tbody>\n",
       "</table>\n",
       "</div>"
      ],
      "text/plain": [
       "           dt   temp  feels_like  pressure  humidity  dew_point   uvi  clouds  \\\n",
       "0  1632124800  30.67       37.67      1009        82      27.24  2.68      79   \n",
       "1  1632128400  30.50       37.50      1009        79      26.44  0.86      78   \n",
       "2  1632132000  30.03       37.03      1009        78      25.77  0.12      72   \n",
       "3  1632135600  29.40       35.64      1009        79      25.37  0.00      64   \n",
       "4  1632139200  28.86       34.35      1010        80      25.06  0.00      57   \n",
       "\n",
       "   visibility  wind_speed  wind_deg  wind_gust  \\\n",
       "0       10000        2.45       109       2.18   \n",
       "1       10000        2.91       105       2.79   \n",
       "2       10000        3.03       107       3.35   \n",
       "3       10000        2.91       113       3.53   \n",
       "4       10000        2.75       110       3.62   \n",
       "\n",
       "                                             weather   pop rain  \n",
       "0  [{'id': 803, 'main': 'Clouds', 'description': ...  0.61  NaN  \n",
       "1  [{'id': 803, 'main': 'Clouds', 'description': ...  0.57  NaN  \n",
       "2  [{'id': 803, 'main': 'Clouds', 'description': ...  0.36  NaN  \n",
       "3  [{'id': 803, 'main': 'Clouds', 'description': ...  0.28  NaN  \n",
       "4  [{'id': 803, 'main': 'Clouds', 'description': ...  0.20  NaN  "
      ]
     },
     "execution_count": 10,
     "metadata": {},
     "output_type": "execute_result"
    }
   ],
   "source": [
    "df_hourly.head()"
   ]
  },
  {
   "cell_type": "code",
   "execution_count": null,
   "metadata": {},
   "outputs": [],
   "source": []
  }
 ],
 "metadata": {
  "interpreter": {
   "hash": "c1b4cfe941b6d2466ad1fb5979e97da9cda8801728c8091b097ab734208fc00c"
  },
  "kernelspec": {
   "display_name": "Python 3.8.3 64-bit ('base': conda)",
   "name": "python3"
  },
  "language_info": {
   "codemirror_mode": {
    "name": "ipython",
    "version": 3
   },
   "file_extension": ".py",
   "mimetype": "text/x-python",
   "name": "python",
   "nbconvert_exporter": "python",
   "pygments_lexer": "ipython3",
   "version": "3.8.11"
  }
 },
 "nbformat": 4,
 "nbformat_minor": 2
}
