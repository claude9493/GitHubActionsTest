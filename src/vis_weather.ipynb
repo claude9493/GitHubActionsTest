{
 "cells": [
  {
   "cell_type": "code",
   "execution_count": 1,
   "metadata": {
    "execution": {
     "iopub.execute_input": "2021-09-12T21:13:09.910278Z",
     "iopub.status.busy": "2021-09-12T21:13:09.909389Z",
     "iopub.status.idle": "2021-09-12T21:13:11.081514Z",
     "shell.execute_reply": "2021-09-12T21:13:11.080737Z"
    }
   },
   "outputs": [],
   "source": [
    "import json, yaml, requests\r\n",
    "from datetime import datetime\r\n",
    "from dateutil import tz\r\n",
    "import pandas as pd\r\n",
    "from PIL import Image\r\n",
    "from io import BytesIO\r\n",
    "import matplotlib.pyplot as plt\r\n",
    "import seaborn\r\n",
    "\r\n",
    "CONFIG_PATH = \"../config/config.yaml\""
   ]
  },
  {
   "cell_type": "code",
   "execution_count": 2,
   "metadata": {
    "execution": {
     "iopub.execute_input": "2021-09-12T21:13:11.088593Z",
     "iopub.status.busy": "2021-09-12T21:13:11.086061Z",
     "iopub.status.idle": "2021-09-12T21:13:11.091280Z",
     "shell.execute_reply": "2021-09-12T21:13:11.090898Z"
    }
   },
   "outputs": [],
   "source": [
    "with open('../newest_ts', 'r') as f:\r\n",
    "    newest_ts = f.read()\r\n",
    "\r\n",
    "data_path = f\"../data/data_{newest_ts}.json\"\r\n",
    "with open(data_path, 'r') as f:\r\n",
    "    data = json.load(f)\r\n",
    "\r\n",
    "with open(CONFIG_PATH, \"r\") as stream:\r\n",
    "    config = yaml.safe_load(stream)\r\n",
    "\r\n",
    "TIME_ZONE = config['time_zone']\r\n",
    "DATETIME_FORMAT = config['dt_format']"
   ]
  },
  {
   "cell_type": "code",
   "execution_count": 3,
   "metadata": {
    "execution": {
     "iopub.execute_input": "2021-09-12T21:13:11.095798Z",
     "iopub.status.busy": "2021-09-12T21:13:11.095022Z",
     "iopub.status.idle": "2021-09-12T21:13:11.099822Z",
     "shell.execute_reply": "2021-09-12T21:13:11.100188Z"
    }
   },
   "outputs": [
    {
     "name": "stdout",
     "output_type": "stream",
     "text": [
      "Recent query happens at 2021-09-13 05:13:07 (CST).\n"
     ]
    }
   ],
   "source": [
    "def ts2dt(ts, format=DATETIME_FORMAT):\r\n",
    "    dt = (datetime.utcfromtimestamp(int(ts))\r\n",
    "                    .replace(tzinfo=tz.tzutc())\r\n",
    "                    # .astimezone(tz.tzlocal())\r\n",
    "                    .astimezone(tz.gettz(TIME_ZONE)))\r\n",
    "    return dt.strftime(format), dt\r\n",
    "\r\n",
    "_, newest_dt = ts2dt(newest_ts)\r\n",
    "print(f\"Recent query happens at {newest_dt.strftime(DATETIME_FORMAT)} ({newest_dt.tzname()}).\")"
   ]
  },
  {
   "cell_type": "code",
   "execution_count": 4,
   "metadata": {
    "execution": {
     "iopub.execute_input": "2021-09-12T21:13:11.104502Z",
     "iopub.status.busy": "2021-09-12T21:13:11.103474Z",
     "iopub.status.idle": "2021-09-12T21:13:11.107307Z",
     "shell.execute_reply": "2021-09-12T21:13:11.106889Z"
    }
   },
   "outputs": [],
   "source": [
    "def degrees_to_cardinal(d):\r\n",
    "  dirs = ['N', 'NNE', 'NE', 'ENE', 'E', 'ESE', 'SE', 'SSE', 'S', 'SSW', 'SW', 'WSW', 'W', 'WNW', 'NW', 'NNW']\r\n",
    "  ix = int(round(d / (360. / len(dirs))))\r\n",
    "  return dirs[ix % len(dirs)]"
   ]
  },
  {
   "cell_type": "code",
   "execution_count": 5,
   "metadata": {
    "execution": {
     "iopub.execute_input": "2021-09-12T21:13:11.111307Z",
     "iopub.status.busy": "2021-09-12T21:13:11.110286Z",
     "iopub.status.idle": "2021-09-12T21:13:11.111855Z",
     "shell.execute_reply": "2021-09-12T21:13:11.112237Z"
    }
   },
   "outputs": [],
   "source": [
    "# data.keys()"
   ]
  },
  {
   "cell_type": "code",
   "execution_count": 6,
   "metadata": {
    "execution": {
     "iopub.execute_input": "2021-09-12T21:13:11.115159Z",
     "iopub.status.busy": "2021-09-12T21:13:11.114526Z",
     "iopub.status.idle": "2021-09-12T21:13:11.117205Z",
     "shell.execute_reply": "2021-09-12T21:13:11.116739Z"
    }
   },
   "outputs": [],
   "source": [
    "# data['current']"
   ]
  },
  {
   "cell_type": "code",
   "execution_count": 7,
   "metadata": {
    "execution": {
     "iopub.execute_input": "2021-09-12T21:13:11.134835Z",
     "iopub.status.busy": "2021-09-12T21:13:11.134318Z",
     "iopub.status.idle": "2021-09-12T21:13:11.549373Z",
     "shell.execute_reply": "2021-09-12T21:13:11.549790Z"
    }
   },
   "outputs": [
    {
     "data": {
      "image/png": "[encoded data removed]",
      "text/plain": [
       "<Figure size 216x216 with 1 Axes>"
      ]
     },
     "metadata": {
      "needs_background": "light"
     },
     "output_type": "display_data"
    },
    {
     "name": "stdout",
     "output_type": "stream",
     "text": [
      "Today, sun rises at 06:09 and sets at 18:29.\n",
      "Currently, the weather is Clouds (overcast clouds).\n",
      "The temperature is 29.95°C and it feels like 36.95°C.\n",
      "The UV index is 0, humidity is 86%.\n",
      "The pressure is 1004 hPa, percentage of cloud cover is 86%\n",
      "The wind comes from WSW direction with a speed 2.47 m/s.\n"
     ]
    }
   ],
   "source": [
    "current = data['current']\r\n",
    "\r\n",
    "fig, ax = plt.subplots(figsize=(3, 3))\r\n",
    "icon = requests.get(f\"http://openweathermap.org/img/wn/{current['weather'][0]['icon']}@2x.png\")\r\n",
    "im = Image.open(BytesIO(icon.content))\r\n",
    "plt.imshow(im)\r\n",
    "ax.set_axis_off()\r\n",
    "plt.show()\r\n",
    "\r\n",
    "print(f\"Today, sun rises at {ts2dt(current['sunrise'], '%H:%M')[0]} \\\r\n",
    "and sets at {ts2dt(current['sunset'], '%H:%M')[0]}.\\n\\\r\n",
    "Currently, the weather is {current['weather'][0]['main']} ({current['weather'][0]['description']}).\\n\\\r\n",
    "The temperature is {current['temp']}°C and it feels like {current['feels_like']}°C.\\n\\\r\n",
    "The UV index is {current['uvi']}, humidity is {current['humidity']}%.\\n\\\r\n",
    "The pressure is {current['pressure']} hPa, percentage of cloud cover is {current['clouds']}%\\n\\\r\n",
    "The wind comes from {degrees_to_cardinal(current['wind_deg'])} direction with a speed {current['wind_speed']} m/s.\")"
   ]
  },
  {
   "cell_type": "code",
   "execution_count": 8,
   "metadata": {
    "execution": {
     "iopub.execute_input": "2021-09-12T21:13:11.556940Z",
     "iopub.status.busy": "2021-09-12T21:13:11.556122Z",
     "iopub.status.idle": "2021-09-12T21:13:11.559191Z",
     "shell.execute_reply": "2021-09-12T21:13:11.559577Z"
    }
   },
   "outputs": [],
   "source": [
    "df_hourly = pd.DataFrame(data['hourly'])\r\n",
    "df_daily = pd.DataFrame(data['daily'])"
   ]
  },
  {
   "cell_type": "code",
   "execution_count": 9,
   "metadata": {
    "execution": {
     "iopub.execute_input": "2021-09-12T21:13:11.567299Z",
     "iopub.status.busy": "2021-09-12T21:13:11.565958Z",
     "iopub.status.idle": "2021-09-12T21:13:11.868152Z",
     "shell.execute_reply": "2021-09-12T21:13:11.867451Z"
    }
   },
   "outputs": [
    {
     "data": {
      "image/png": "[encoded data removed]",
      "text/plain": [
       "<Figure size 864x432 with 1 Axes>"
      ]
     },
     "metadata": {
      "needs_background": "light"
     },
     "output_type": "display_data"
    }
   ],
   "source": [
    "fig, ax = plt.subplots(figsize=(12, 6))\r\n",
    "plt.plot(df_hourly.temp, '.-', label='Temperature')\r\n",
    "plt.plot(df_hourly.feels_like, '.-', label='Feels Like')\r\n",
    "ax.set(title='Temperature in future 48 hours', xlabel='Time', ylabel='Temperature')\r\n",
    "ax.set_xticks(list(range(0, len(df_hourly), 2)))\r\n",
    "ax.set_xticklabels([ts2dt(ts, '%m-%d %H:%M')[0] for i, ts in enumerate(df_hourly.dt) if i%2==0], \r\n",
    "                   rotation=45, ha=\"right\")\r\n",
    "ax.locator_params(nbins=15, axis='y')\r\n",
    "plt.legend()\r\n",
    "plt.show()"
   ]
  },
  {
   "cell_type": "code",
   "execution_count": 10,
   "metadata": {
    "execution": {
     "iopub.execute_input": "2021-09-12T21:13:11.879812Z",
     "iopub.status.busy": "2021-09-12T21:13:11.872043Z",
     "iopub.status.idle": "2021-09-12T21:13:11.890788Z",
     "shell.execute_reply": "2021-09-12T21:13:11.891171Z"
    }
   },
   "outputs": [
    {
     "data": {
      "text/html": [
       "<div>\n",
       "<style scoped>\n",
       "    .dataframe tbody tr th:only-of-type {\n",
       "        vertical-align: middle;\n",
       "    }\n",
       "\n",
       "    .dataframe tbody tr th {\n",
       "        vertical-align: top;\n",
       "    }\n",
       "\n",
       "    .dataframe thead th {\n",
       "        text-align: right;\n",
       "    }\n",
       "</style>\n",
       "<table border=\"1\" class=\"dataframe\">\n",
       "  <thead>\n",
       "    <tr style=\"text-align: right;\">\n",
       "      <th></th>\n",
       "      <th>dt</th>\n",
       "      <th>temp</th>\n",
       "      <th>feels_like</th>\n",
       "      <th>pressure</th>\n",
       "      <th>humidity</th>\n",
       "      <th>dew_point</th>\n",
       "      <th>uvi</th>\n",
       "      <th>clouds</th>\n",
       "      <th>visibility</th>\n",
       "      <th>wind_speed</th>\n",
       "      <th>wind_deg</th>\n",
       "      <th>wind_gust</th>\n",
       "      <th>weather</th>\n",
       "      <th>pop</th>\n",
       "      <th>rain</th>\n",
       "    </tr>\n",
       "  </thead>\n",
       "  <tbody>\n",
       "    <tr>\n",
       "      <th>0</th>\n",
       "      <td>1631480400</td>\n",
       "      <td>29.95</td>\n",
       "      <td>36.95</td>\n",
       "      <td>1004</td>\n",
       "      <td>86</td>\n",
       "      <td>27.35</td>\n",
       "      <td>0.00</td>\n",
       "      <td>86</td>\n",
       "      <td>10000</td>\n",
       "      <td>2.47</td>\n",
       "      <td>247</td>\n",
       "      <td>3.10</td>\n",
       "      <td>[{'id': 804, 'main': 'Clouds', 'description': ...</td>\n",
       "      <td>0.90</td>\n",
       "      <td>NaN</td>\n",
       "    </tr>\n",
       "    <tr>\n",
       "      <th>1</th>\n",
       "      <td>1631484000</td>\n",
       "      <td>29.69</td>\n",
       "      <td>36.69</td>\n",
       "      <td>1004</td>\n",
       "      <td>84</td>\n",
       "      <td>26.69</td>\n",
       "      <td>0.00</td>\n",
       "      <td>83</td>\n",
       "      <td>10000</td>\n",
       "      <td>2.19</td>\n",
       "      <td>249</td>\n",
       "      <td>2.72</td>\n",
       "      <td>[{'id': 803, 'main': 'Clouds', 'description': ...</td>\n",
       "      <td>0.90</td>\n",
       "      <td>NaN</td>\n",
       "    </tr>\n",
       "    <tr>\n",
       "      <th>2</th>\n",
       "      <td>1631487600</td>\n",
       "      <td>29.60</td>\n",
       "      <td>36.60</td>\n",
       "      <td>1004</td>\n",
       "      <td>82</td>\n",
       "      <td>26.20</td>\n",
       "      <td>0.25</td>\n",
       "      <td>74</td>\n",
       "      <td>10000</td>\n",
       "      <td>2.20</td>\n",
       "      <td>241</td>\n",
       "      <td>2.75</td>\n",
       "      <td>[{'id': 500, 'main': 'Rain', 'description': 'l...</td>\n",
       "      <td>0.86</td>\n",
       "      <td>{'1h': 0.12}</td>\n",
       "    </tr>\n",
       "    <tr>\n",
       "      <th>3</th>\n",
       "      <td>1631491200</td>\n",
       "      <td>29.80</td>\n",
       "      <td>36.53</td>\n",
       "      <td>1005</td>\n",
       "      <td>78</td>\n",
       "      <td>25.55</td>\n",
       "      <td>1.33</td>\n",
       "      <td>64</td>\n",
       "      <td>10000</td>\n",
       "      <td>2.36</td>\n",
       "      <td>233</td>\n",
       "      <td>3.06</td>\n",
       "      <td>[{'id': 500, 'main': 'Rain', 'description': 'l...</td>\n",
       "      <td>0.91</td>\n",
       "      <td>{'1h': 0.21}</td>\n",
       "    </tr>\n",
       "    <tr>\n",
       "      <th>4</th>\n",
       "      <td>1631494800</td>\n",
       "      <td>30.31</td>\n",
       "      <td>36.88</td>\n",
       "      <td>1006</td>\n",
       "      <td>74</td>\n",
       "      <td>25.15</td>\n",
       "      <td>3.50</td>\n",
       "      <td>26</td>\n",
       "      <td>10000</td>\n",
       "      <td>3.13</td>\n",
       "      <td>226</td>\n",
       "      <td>3.73</td>\n",
       "      <td>[{'id': 500, 'main': 'Rain', 'description': 'l...</td>\n",
       "      <td>0.88</td>\n",
       "      <td>{'1h': 0.27}</td>\n",
       "    </tr>\n",
       "  </tbody>\n",
       "</table>\n",
       "</div>"
      ],
      "text/plain": [
       "           dt   temp  feels_like  pressure  humidity  dew_point   uvi  clouds  \\\n",
       "0  1631480400  29.95       36.95      1004        86      27.35  0.00      86   \n",
       "1  1631484000  29.69       36.69      1004        84      26.69  0.00      83   \n",
       "2  1631487600  29.60       36.60      1004        82      26.20  0.25      74   \n",
       "3  1631491200  29.80       36.53      1005        78      25.55  1.33      64   \n",
       "4  1631494800  30.31       36.88      1006        74      25.15  3.50      26   \n",
       "\n",
       "   visibility  wind_speed  wind_deg  wind_gust  \\\n",
       "0       10000        2.47       247       3.10   \n",
       "1       10000        2.19       249       2.72   \n",
       "2       10000        2.20       241       2.75   \n",
       "3       10000        2.36       233       3.06   \n",
       "4       10000        3.13       226       3.73   \n",
       "\n",
       "                                             weather   pop          rain  \n",
       "0  [{'id': 804, 'main': 'Clouds', 'description': ...  0.90           NaN  \n",
       "1  [{'id': 803, 'main': 'Clouds', 'description': ...  0.90           NaN  \n",
       "2  [{'id': 500, 'main': 'Rain', 'description': 'l...  0.86  {'1h': 0.12}  \n",
       "3  [{'id': 500, 'main': 'Rain', 'description': 'l...  0.91  {'1h': 0.21}  \n",
       "4  [{'id': 500, 'main': 'Rain', 'description': 'l...  0.88  {'1h': 0.27}  "
      ]
     },
     "execution_count": 10,
     "metadata": {},
     "output_type": "execute_result"
    }
   ],
   "source": [
    "df_hourly.head()"
   ]
  },
  {
   "cell_type": "code",
   "execution_count": null,
   "metadata": {},
   "outputs": [],
   "source": []
  }
 ],
 "metadata": {
  "interpreter": {
   "hash": "c1b4cfe941b6d2466ad1fb5979e97da9cda8801728c8091b097ab734208fc00c"
  },
  "kernelspec": {
   "display_name": "Python 3.8.3 64-bit ('base': conda)",
   "name": "python3"
  },
  "language_info": {
   "codemirror_mode": {
    "name": "ipython",
    "version": 3
   },
   "file_extension": ".py",
   "mimetype": "text/x-python",
   "name": "python",
   "nbconvert_exporter": "python",
   "pygments_lexer": "ipython3",
   "version": "3.8.11"
  }
 },
 "nbformat": 4,
 "nbformat_minor": 2
}
