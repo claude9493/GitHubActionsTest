{
 "cells": [
  {
   "cell_type": "code",
   "execution_count": 1,
   "metadata": {
    "execution": {
     "iopub.execute_input": "2021-08-22T22:15:21.341792Z",
     "iopub.status.busy": "2021-08-22T22:15:21.341149Z",
     "iopub.status.idle": "2021-08-22T22:15:23.663351Z",
     "shell.execute_reply": "2021-08-22T22:15:23.662282Z"
    }
   },
   "outputs": [],
   "source": [
    "import json\r\n",
    "from datetime import datetime\r\n",
    "from dateutil import tz\r\n",
    "import pandas as pd\r\n",
    "import matplotlib.pyplot as plt\r\n",
    "import seaborn\r\n"
   ]
  },
  {
   "cell_type": "code",
   "execution_count": 2,
   "metadata": {
    "execution": {
     "iopub.execute_input": "2021-08-22T22:15:23.668823Z",
     "iopub.status.busy": "2021-08-22T22:15:23.667731Z",
     "iopub.status.idle": "2021-08-22T22:15:23.671582Z",
     "shell.execute_reply": "2021-08-22T22:15:23.671155Z"
    }
   },
   "outputs": [],
   "source": [
    "with open('../newest_ts', 'r') as f:\r\n",
    "    ts = f.read()\r\n",
    "\r\n",
    "data_path = f\"../data/data_{ts}.json\"\r\n",
    "with open(data_path, 'r') as f:\r\n",
    "    data = json.load(f)"
   ]
  },
  {
   "cell_type": "code",
   "execution_count": 3,
   "metadata": {
    "execution": {
     "iopub.execute_input": "2021-08-22T22:15:23.677884Z",
     "iopub.status.busy": "2021-08-22T22:15:23.676542Z",
     "iopub.status.idle": "2021-08-22T22:15:23.680195Z",
     "shell.execute_reply": "2021-08-22T22:15:23.679727Z"
    }
   },
   "outputs": [
    {
     "name": "stdout",
     "output_type": "stream",
     "text": [
      "Recent query happens at 2021-08-22 22:15:18\n"
     ]
    }
   ],
   "source": [
    "def ts2dt(ts, format='%Y-%m-%d %H:%M:%S'):\r\n",
    "    return (datetime.utcfromtimestamp(int(ts))\r\n",
    "                    .replace(tzinfo=tz.tzutc())\r\n",
    "                    .astimezone(tz.tzlocal())\r\n",
    "                    .strftime(format))\r\n",
    "\r\n",
    "print(f\"Recent query happens at {ts2dt(ts)}\")"
   ]
  },
  {
   "cell_type": "code",
   "execution_count": 4,
   "metadata": {
    "execution": {
     "iopub.execute_input": "2021-08-22T22:15:23.688210Z",
     "iopub.status.busy": "2021-08-22T22:15:23.687306Z",
     "iopub.status.idle": "2021-08-22T22:15:23.690568Z",
     "shell.execute_reply": "2021-08-22T22:15:23.690128Z"
    }
   },
   "outputs": [
    {
     "data": {
      "text/plain": [
       "dict_keys(['lat', 'lon', 'timezone', 'timezone_offset', 'current', 'hourly', 'daily'])"
      ]
     },
     "execution_count": 4,
     "metadata": {},
     "output_type": "execute_result"
    }
   ],
   "source": [
    "data.keys()"
   ]
  },
  {
   "cell_type": "code",
   "execution_count": 5,
   "metadata": {
    "execution": {
     "iopub.execute_input": "2021-08-22T22:15:23.695802Z",
     "iopub.status.busy": "2021-08-22T22:15:23.695323Z",
     "iopub.status.idle": "2021-08-22T22:15:23.697688Z",
     "shell.execute_reply": "2021-08-22T22:15:23.698049Z"
    }
   },
   "outputs": [
    {
     "data": {
      "text/plain": [
       "{'dt': 1629670518,\n",
       " 'sunrise': 1629669780,\n",
       " 'sunset': 1629715720,\n",
       " 'temp': 28.57,\n",
       " 'feels_like': 34.55,\n",
       " 'pressure': 1007,\n",
       " 'humidity': 85,\n",
       " 'dew_point': 25.8,\n",
       " 'uvi': 0,\n",
       " 'clouds': 78,\n",
       " 'visibility': 10000,\n",
       " 'wind_speed': 3.63,\n",
       " 'wind_deg': 218,\n",
       " 'wind_gust': 4.7,\n",
       " 'weather': [{'id': 803,\n",
       "   'main': 'Clouds',\n",
       "   'description': 'broken clouds',\n",
       "   'icon': '04d'}]}"
      ]
     },
     "execution_count": 5,
     "metadata": {},
     "output_type": "execute_result"
    }
   ],
   "source": [
    "data['current']"
   ]
  },
  {
   "cell_type": "code",
   "execution_count": 6,
   "metadata": {
    "execution": {
     "iopub.execute_input": "2021-08-22T22:15:23.702258Z",
     "iopub.status.busy": "2021-08-22T22:15:23.701745Z",
     "iopub.status.idle": "2021-08-22T22:15:23.704547Z",
     "shell.execute_reply": "2021-08-22T22:15:23.704950Z"
    }
   },
   "outputs": [
    {
     "data": {
      "text/plain": [
       "{'dt': 1629669600,\n",
       " 'temp': 28.57,\n",
       " 'feels_like': 34.55,\n",
       " 'pressure': 1007,\n",
       " 'humidity': 85,\n",
       " 'dew_point': 25.8,\n",
       " 'uvi': 0,\n",
       " 'clouds': 78,\n",
       " 'visibility': 10000,\n",
       " 'wind_speed': 3.63,\n",
       " 'wind_deg': 218,\n",
       " 'wind_gust': 4.7,\n",
       " 'weather': [{'id': 500,\n",
       "   'main': 'Rain',\n",
       "   'description': 'light rain',\n",
       "   'icon': '10n'}],\n",
       " 'pop': 0.67,\n",
       " 'rain': {'1h': 0.12}}"
      ]
     },
     "execution_count": 6,
     "metadata": {},
     "output_type": "execute_result"
    }
   ],
   "source": [
    "data['hourly'][0]"
   ]
  },
  {
   "cell_type": "code",
   "execution_count": 7,
   "metadata": {
    "execution": {
     "iopub.execute_input": "2021-08-22T22:15:23.713160Z",
     "iopub.status.busy": "2021-08-22T22:15:23.712079Z",
     "iopub.status.idle": "2021-08-22T22:15:23.713765Z",
     "shell.execute_reply": "2021-08-22T22:15:23.714194Z"
    }
   },
   "outputs": [],
   "source": [
    "df_hourly = pd.DataFrame(data['hourly'])\r\n",
    "df_daily = pd.DataFrame(data['daily'])"
   ]
  },
  {
   "cell_type": "code",
   "execution_count": 8,
   "metadata": {
    "execution": {
     "iopub.execute_input": "2021-08-22T22:15:23.734857Z",
     "iopub.status.busy": "2021-08-22T22:15:23.717681Z",
     "iopub.status.idle": "2021-08-22T22:15:23.737121Z",
     "shell.execute_reply": "2021-08-22T22:15:23.737553Z"
    }
   },
   "outputs": [
    {
     "data": {
      "text/html": [
       "<div>\n",
       "<style scoped>\n",
       "    .dataframe tbody tr th:only-of-type {\n",
       "        vertical-align: middle;\n",
       "    }\n",
       "\n",
       "    .dataframe tbody tr th {\n",
       "        vertical-align: top;\n",
       "    }\n",
       "\n",
       "    .dataframe thead th {\n",
       "        text-align: right;\n",
       "    }\n",
       "</style>\n",
       "<table border=\"1\" class=\"dataframe\">\n",
       "  <thead>\n",
       "    <tr style=\"text-align: right;\">\n",
       "      <th></th>\n",
       "      <th>dt</th>\n",
       "      <th>temp</th>\n",
       "      <th>feels_like</th>\n",
       "      <th>pressure</th>\n",
       "      <th>humidity</th>\n",
       "      <th>dew_point</th>\n",
       "      <th>uvi</th>\n",
       "      <th>clouds</th>\n",
       "      <th>visibility</th>\n",
       "      <th>wind_speed</th>\n",
       "      <th>wind_deg</th>\n",
       "      <th>wind_gust</th>\n",
       "      <th>weather</th>\n",
       "      <th>pop</th>\n",
       "      <th>rain</th>\n",
       "    </tr>\n",
       "  </thead>\n",
       "  <tbody>\n",
       "    <tr>\n",
       "      <th>0</th>\n",
       "      <td>1629669600</td>\n",
       "      <td>28.57</td>\n",
       "      <td>34.55</td>\n",
       "      <td>1007</td>\n",
       "      <td>85</td>\n",
       "      <td>25.80</td>\n",
       "      <td>0.00</td>\n",
       "      <td>78</td>\n",
       "      <td>10000</td>\n",
       "      <td>3.63</td>\n",
       "      <td>218</td>\n",
       "      <td>4.70</td>\n",
       "      <td>[{'id': 500, 'main': 'Rain', 'description': 'l...</td>\n",
       "      <td>0.67</td>\n",
       "      <td>{'1h': 0.12}</td>\n",
       "    </tr>\n",
       "    <tr>\n",
       "      <th>1</th>\n",
       "      <td>1629673200</td>\n",
       "      <td>28.47</td>\n",
       "      <td>34.06</td>\n",
       "      <td>1007</td>\n",
       "      <td>84</td>\n",
       "      <td>25.50</td>\n",
       "      <td>0.40</td>\n",
       "      <td>79</td>\n",
       "      <td>10000</td>\n",
       "      <td>3.73</td>\n",
       "      <td>224</td>\n",
       "      <td>5.11</td>\n",
       "      <td>[{'id': 803, 'main': 'Clouds', 'description': ...</td>\n",
       "      <td>0.70</td>\n",
       "      <td>NaN</td>\n",
       "    </tr>\n",
       "    <tr>\n",
       "      <th>2</th>\n",
       "      <td>1629676800</td>\n",
       "      <td>28.64</td>\n",
       "      <td>34.15</td>\n",
       "      <td>1007</td>\n",
       "      <td>82</td>\n",
       "      <td>25.26</td>\n",
       "      <td>1.70</td>\n",
       "      <td>80</td>\n",
       "      <td>10000</td>\n",
       "      <td>3.48</td>\n",
       "      <td>222</td>\n",
       "      <td>4.91</td>\n",
       "      <td>[{'id': 803, 'main': 'Clouds', 'description': ...</td>\n",
       "      <td>0.66</td>\n",
       "      <td>NaN</td>\n",
       "    </tr>\n",
       "    <tr>\n",
       "      <th>3</th>\n",
       "      <td>1629680400</td>\n",
       "      <td>29.03</td>\n",
       "      <td>34.39</td>\n",
       "      <td>1008</td>\n",
       "      <td>78</td>\n",
       "      <td>24.80</td>\n",
       "      <td>4.24</td>\n",
       "      <td>47</td>\n",
       "      <td>10000</td>\n",
       "      <td>3.55</td>\n",
       "      <td>228</td>\n",
       "      <td>4.73</td>\n",
       "      <td>[{'id': 500, 'main': 'Rain', 'description': 'l...</td>\n",
       "      <td>0.58</td>\n",
       "      <td>{'1h': 0.25}</td>\n",
       "    </tr>\n",
       "    <tr>\n",
       "      <th>4</th>\n",
       "      <td>1629684000</td>\n",
       "      <td>29.56</td>\n",
       "      <td>34.66</td>\n",
       "      <td>1008</td>\n",
       "      <td>73</td>\n",
       "      <td>24.21</td>\n",
       "      <td>7.50</td>\n",
       "      <td>34</td>\n",
       "      <td>10000</td>\n",
       "      <td>3.46</td>\n",
       "      <td>223</td>\n",
       "      <td>4.33</td>\n",
       "      <td>[{'id': 500, 'main': 'Rain', 'description': 'l...</td>\n",
       "      <td>0.63</td>\n",
       "      <td>{'1h': 0.12}</td>\n",
       "    </tr>\n",
       "  </tbody>\n",
       "</table>\n",
       "</div>"
      ],
      "text/plain": [
       "           dt   temp  feels_like  pressure  humidity  dew_point   uvi  clouds  \\\n",
       "0  1629669600  28.57       34.55      1007        85      25.80  0.00      78   \n",
       "1  1629673200  28.47       34.06      1007        84      25.50  0.40      79   \n",
       "2  1629676800  28.64       34.15      1007        82      25.26  1.70      80   \n",
       "3  1629680400  29.03       34.39      1008        78      24.80  4.24      47   \n",
       "4  1629684000  29.56       34.66      1008        73      24.21  7.50      34   \n",
       "\n",
       "   visibility  wind_speed  wind_deg  wind_gust  \\\n",
       "0       10000        3.63       218       4.70   \n",
       "1       10000        3.73       224       5.11   \n",
       "2       10000        3.48       222       4.91   \n",
       "3       10000        3.55       228       4.73   \n",
       "4       10000        3.46       223       4.33   \n",
       "\n",
       "                                             weather   pop          rain  \n",
       "0  [{'id': 500, 'main': 'Rain', 'description': 'l...  0.67  {'1h': 0.12}  \n",
       "1  [{'id': 803, 'main': 'Clouds', 'description': ...  0.70           NaN  \n",
       "2  [{'id': 803, 'main': 'Clouds', 'description': ...  0.66           NaN  \n",
       "3  [{'id': 500, 'main': 'Rain', 'description': 'l...  0.58  {'1h': 0.25}  \n",
       "4  [{'id': 500, 'main': 'Rain', 'description': 'l...  0.63  {'1h': 0.12}  "
      ]
     },
     "execution_count": 8,
     "metadata": {},
     "output_type": "execute_result"
    }
   ],
   "source": [
    "df_hourly.head()"
   ]
  },
  {
   "cell_type": "code",
   "execution_count": 9,
   "metadata": {
    "execution": {
     "iopub.execute_input": "2021-08-22T22:15:23.754674Z",
     "iopub.status.busy": "2021-08-22T22:15:23.743095Z",
     "iopub.status.idle": "2021-08-22T22:15:24.009707Z",
     "shell.execute_reply": "2021-08-22T22:15:24.009232Z"
    }
   },
   "outputs": [
    {
     "data": {
      "image/png": "[encoded data removed]",
      "text/plain": [
       "<Figure size 864x432 with 1 Axes>"
      ]
     },
     "metadata": {
      "needs_background": "light"
     },
     "output_type": "display_data"
    }
   ],
   "source": [
    "fig, ax = plt.subplots(figsize=(12, 6))\r\n",
    "plt.plot(df_hourly.temp, '.-')\r\n",
    "ax.set(title='Temperature in future 48 hours', xlabel='Time', ylabel='Temperature')\r\n",
    "ax.set_xticks(list(range(0, len(df_hourly), 2)))\r\n",
    "ax.set_xticklabels([ts2dt(ts, '%m-%d %H:%M') for i, ts in enumerate(df_hourly.dt) if i%2==0], \r\n",
    "                   rotation=45, ha=\"right\")\r\n",
    "plt.show()"
   ]
  },
  {
   "cell_type": "code",
   "execution_count": null,
   "metadata": {},
   "outputs": [],
   "source": []
  }
 ],
 "metadata": {
  "interpreter": {
   "hash": "c1b4cfe941b6d2466ad1fb5979e97da9cda8801728c8091b097ab734208fc00c"
  },
  "kernelspec": {
   "display_name": "Python 3.8.3 64-bit ('base': conda)",
   "name": "python3"
  },
  "language_info": {
   "codemirror_mode": {
    "name": "ipython",
    "version": 3
   },
   "file_extension": ".py",
   "mimetype": "text/x-python",
   "name": "python",
   "nbconvert_exporter": "python",
   "pygments_lexer": "ipython3",
   "version": "3.8.11"
  }
 },
 "nbformat": 4,
 "nbformat_minor": 2
}
