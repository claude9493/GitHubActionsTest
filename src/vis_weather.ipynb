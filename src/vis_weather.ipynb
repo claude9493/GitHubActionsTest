{
 "cells": [
  {
   "cell_type": "code",
   "execution_count": 1,
   "metadata": {
    "execution": {
     "iopub.execute_input": "2021-08-31T00:51:15.452731Z",
     "iopub.status.busy": "2021-08-31T00:51:15.452151Z",
     "iopub.status.idle": "2021-08-31T00:51:17.256036Z",
     "shell.execute_reply": "2021-08-31T00:51:17.256565Z"
    }
   },
   "outputs": [],
   "source": [
    "import json, yaml, requests\r\n",
    "from datetime import datetime\r\n",
    "from dateutil import tz\r\n",
    "import pandas as pd\r\n",
    "from PIL import Image\r\n",
    "from io import BytesIO\r\n",
    "import matplotlib.pyplot as plt\r\n",
    "import seaborn\r\n",
    "\r\n",
    "CONFIG_PATH = \"../config/config.yaml\""
   ]
  },
  {
   "cell_type": "code",
   "execution_count": 2,
   "metadata": {
    "execution": {
     "iopub.execute_input": "2021-08-31T00:51:17.261913Z",
     "iopub.status.busy": "2021-08-31T00:51:17.261290Z",
     "iopub.status.idle": "2021-08-31T00:51:17.269420Z",
     "shell.execute_reply": "2021-08-31T00:51:17.269857Z"
    }
   },
   "outputs": [],
   "source": [
    "with open('../newest_ts', 'r') as f:\r\n",
    "    newest_ts = f.read()\r\n",
    "\r\n",
    "data_path = f\"../data/data_{newest_ts}.json\"\r\n",
    "with open(data_path, 'r') as f:\r\n",
    "    data = json.load(f)\r\n",
    "\r\n",
    "with open(CONFIG_PATH, \"r\") as stream:\r\n",
    "    config = yaml.safe_load(stream)\r\n",
    "\r\n",
    "TIME_ZONE = config['time_zone']\r\n",
    "DATETIME_FORMAT = config['dt_format']"
   ]
  },
  {
   "cell_type": "code",
   "execution_count": 3,
   "metadata": {
    "execution": {
     "iopub.execute_input": "2021-08-31T00:51:17.275216Z",
     "iopub.status.busy": "2021-08-31T00:51:17.274592Z",
     "iopub.status.idle": "2021-08-31T00:51:17.304305Z",
     "shell.execute_reply": "2021-08-31T00:51:17.303796Z"
    }
   },
   "outputs": [
    {
     "name": "stdout",
     "output_type": "stream",
     "text": [
      "Recent query happens at 2021-08-31 08:51:12 (CST).\n"
     ]
    }
   ],
   "source": [
    "def ts2dt(ts, format=DATETIME_FORMAT):\r\n",
    "    dt = (datetime.utcfromtimestamp(int(ts))\r\n",
    "                    .replace(tzinfo=tz.tzutc())\r\n",
    "                    # .astimezone(tz.tzlocal())\r\n",
    "                    .astimezone(tz.gettz(TIME_ZONE)))\r\n",
    "    return dt.strftime(format), dt\r\n",
    "\r\n",
    "_, newest_dt = ts2dt(newest_ts)\r\n",
    "print(f\"Recent query happens at {newest_dt.strftime(DATETIME_FORMAT)} ({newest_dt.tzname()}).\")"
   ]
  },
  {
   "cell_type": "code",
   "execution_count": 4,
   "metadata": {
    "execution": {
     "iopub.execute_input": "2021-08-31T00:51:17.311105Z",
     "iopub.status.busy": "2021-08-31T00:51:17.309690Z",
     "iopub.status.idle": "2021-08-31T00:51:17.311797Z",
     "shell.execute_reply": "2021-08-31T00:51:17.312256Z"
    }
   },
   "outputs": [],
   "source": [
    "def degrees_to_cardinal(d):\r\n",
    "  dirs = ['N', 'NNE', 'NE', 'ENE', 'E', 'ESE', 'SE', 'SSE', 'S', 'SSW', 'SW', 'WSW', 'W', 'WNW', 'NW', 'NNW']\r\n",
    "  ix = int(round(d / (360. / len(dirs))))\r\n",
    "  return dirs[ix % len(dirs)]"
   ]
  },
  {
   "cell_type": "code",
   "execution_count": 5,
   "metadata": {
    "execution": {
     "iopub.execute_input": "2021-08-31T00:51:17.316668Z",
     "iopub.status.busy": "2021-08-31T00:51:17.315625Z",
     "iopub.status.idle": "2021-08-31T00:51:17.317547Z",
     "shell.execute_reply": "2021-08-31T00:51:17.318304Z"
    }
   },
   "outputs": [],
   "source": [
    "# data.keys()"
   ]
  },
  {
   "cell_type": "code",
   "execution_count": 6,
   "metadata": {
    "execution": {
     "iopub.execute_input": "2021-08-31T00:51:17.323120Z",
     "iopub.status.busy": "2021-08-31T00:51:17.321651Z",
     "iopub.status.idle": "2021-08-31T00:51:17.323763Z",
     "shell.execute_reply": "2021-08-31T00:51:17.324254Z"
    }
   },
   "outputs": [],
   "source": [
    "# data['current']"
   ]
  },
  {
   "cell_type": "code",
   "execution_count": 7,
   "metadata": {
    "execution": {
     "iopub.execute_input": "2021-08-31T00:51:17.334213Z",
     "iopub.status.busy": "2021-08-31T00:51:17.333497Z",
     "iopub.status.idle": "2021-08-31T00:51:17.925992Z",
     "shell.execute_reply": "2021-08-31T00:51:17.926820Z"
    }
   },
   "outputs": [
    {
     "data": {
      "image/png": "[encoded data removed]",
      "text/plain": [
       "<Figure size 216x216 with 1 Axes>"
      ]
     },
     "metadata": {
      "needs_background": "light"
     },
     "output_type": "display_data"
    },
    {
     "name": "stdout",
     "output_type": "stream",
     "text": [
      "Today, sun rises at 06:05 and sets at 18:41.\n",
      "Currently, the weather is Clouds (broken clouds).\n",
      "The temperature is 29.18°C and it feels like 35.71°C.\n",
      "The UV index is 3.83, humidity is 82%.\n",
      "The pressure is 1012 hPa, percentage of cloud cover is 70%\n",
      "The wind comes from ENE direction with a speed 2.47 m/s.\n"
     ]
    }
   ],
   "source": [
    "current = data['current']\r\n",
    "\r\n",
    "fig, ax = plt.subplots(figsize=(3, 3))\r\n",
    "icon = requests.get(f\"http://openweathermap.org/img/wn/{current['weather'][0]['icon']}@2x.png\")\r\n",
    "im = Image.open(BytesIO(icon.content))\r\n",
    "plt.imshow(im)\r\n",
    "ax.set_axis_off()\r\n",
    "plt.show()\r\n",
    "\r\n",
    "print(f\"Today, sun rises at {ts2dt(current['sunrise'], '%H:%M')[0]} \\\r\n",
    "and sets at {ts2dt(current['sunset'], '%H:%M')[0]}.\\n\\\r\n",
    "Currently, the weather is {current['weather'][0]['main']} ({current['weather'][0]['description']}).\\n\\\r\n",
    "The temperature is {current['temp']}°C and it feels like {current['feels_like']}°C.\\n\\\r\n",
    "The UV index is {current['uvi']}, humidity is {current['humidity']}%.\\n\\\r\n",
    "The pressure is {current['pressure']} hPa, percentage of cloud cover is {current['clouds']}%\\n\\\r\n",
    "The wind comes from {degrees_to_cardinal(current['wind_deg'])} direction with a speed {current['wind_speed']} m/s.\")"
   ]
  },
  {
   "cell_type": "code",
   "execution_count": 8,
   "metadata": {
    "execution": {
     "iopub.execute_input": "2021-08-31T00:51:17.930469Z",
     "iopub.status.busy": "2021-08-31T00:51:17.929871Z",
     "iopub.status.idle": "2021-08-31T00:51:17.937337Z",
     "shell.execute_reply": "2021-08-31T00:51:17.938116Z"
    }
   },
   "outputs": [],
   "source": [
    "df_hourly = pd.DataFrame(data['hourly'])\r\n",
    "df_daily = pd.DataFrame(data['daily'])"
   ]
  },
  {
   "cell_type": "code",
   "execution_count": 9,
   "metadata": {
    "execution": {
     "iopub.execute_input": "2021-08-31T00:51:17.941123Z",
     "iopub.status.busy": "2021-08-31T00:51:17.940568Z",
     "iopub.status.idle": "2021-08-31T00:51:18.280583Z",
     "shell.execute_reply": "2021-08-31T00:51:18.279988Z"
    }
   },
   "outputs": [
    {
     "data": {
      "image/png": "[encoded data removed]",
      "text/plain": [
       "<Figure size 864x432 with 1 Axes>"
      ]
     },
     "metadata": {
      "needs_background": "light"
     },
     "output_type": "display_data"
    }
   ],
   "source": [
    "fig, ax = plt.subplots(figsize=(12, 6))\r\n",
    "plt.plot(df_hourly.temp, '.-', label='Temperature')\r\n",
    "plt.plot(df_hourly.feels_like, '.-', label='Feels Like')\r\n",
    "ax.set(title='Temperature in future 48 hours', xlabel='Time', ylabel='Temperature')\r\n",
    "ax.set_xticks(list(range(0, len(df_hourly), 2)))\r\n",
    "ax.set_xticklabels([ts2dt(ts, '%m-%d %H:%M')[0] for i, ts in enumerate(df_hourly.dt) if i%2==0], \r\n",
    "                   rotation=45, ha=\"right\")\r\n",
    "ax.locator_params(nbins=15, axis='y')\r\n",
    "plt.legend()\r\n",
    "plt.show()"
   ]
  },
  {
   "cell_type": "code",
   "execution_count": 10,
   "metadata": {
    "execution": {
     "iopub.execute_input": "2021-08-31T00:51:18.285484Z",
     "iopub.status.busy": "2021-08-31T00:51:18.284867Z",
     "iopub.status.idle": "2021-08-31T00:51:18.307051Z",
     "shell.execute_reply": "2021-08-31T00:51:18.307519Z"
    }
   },
   "outputs": [
    {
     "data": {
      "text/html": [
       "<div>\n",
       "<style scoped>\n",
       "    .dataframe tbody tr th:only-of-type {\n",
       "        vertical-align: middle;\n",
       "    }\n",
       "\n",
       "    .dataframe tbody tr th {\n",
       "        vertical-align: top;\n",
       "    }\n",
       "\n",
       "    .dataframe thead th {\n",
       "        text-align: right;\n",
       "    }\n",
       "</style>\n",
       "<table border=\"1\" class=\"dataframe\">\n",
       "  <thead>\n",
       "    <tr style=\"text-align: right;\">\n",
       "      <th></th>\n",
       "      <th>dt</th>\n",
       "      <th>temp</th>\n",
       "      <th>feels_like</th>\n",
       "      <th>pressure</th>\n",
       "      <th>humidity</th>\n",
       "      <th>dew_point</th>\n",
       "      <th>uvi</th>\n",
       "      <th>clouds</th>\n",
       "      <th>visibility</th>\n",
       "      <th>wind_speed</th>\n",
       "      <th>wind_deg</th>\n",
       "      <th>wind_gust</th>\n",
       "      <th>weather</th>\n",
       "      <th>pop</th>\n",
       "      <th>rain</th>\n",
       "    </tr>\n",
       "  </thead>\n",
       "  <tbody>\n",
       "    <tr>\n",
       "      <th>0</th>\n",
       "      <td>1630368000</td>\n",
       "      <td>28.97</td>\n",
       "      <td>34.66</td>\n",
       "      <td>1012</td>\n",
       "      <td>80</td>\n",
       "      <td>25.17</td>\n",
       "      <td>0.80</td>\n",
       "      <td>71</td>\n",
       "      <td>10000</td>\n",
       "      <td>2.15</td>\n",
       "      <td>76</td>\n",
       "      <td>2.81</td>\n",
       "      <td>[{'id': 500, 'main': 'Rain', 'description': 'l...</td>\n",
       "      <td>1.00</td>\n",
       "      <td>{'1h': 0.14}</td>\n",
       "    </tr>\n",
       "    <tr>\n",
       "      <th>1</th>\n",
       "      <td>1630371600</td>\n",
       "      <td>29.18</td>\n",
       "      <td>35.71</td>\n",
       "      <td>1012</td>\n",
       "      <td>82</td>\n",
       "      <td>25.79</td>\n",
       "      <td>3.83</td>\n",
       "      <td>70</td>\n",
       "      <td>10000</td>\n",
       "      <td>2.47</td>\n",
       "      <td>64</td>\n",
       "      <td>3.15</td>\n",
       "      <td>[{'id': 500, 'main': 'Rain', 'description': 'l...</td>\n",
       "      <td>0.65</td>\n",
       "      <td>{'1h': 0.1}</td>\n",
       "    </tr>\n",
       "    <tr>\n",
       "      <th>2</th>\n",
       "      <td>1630375200</td>\n",
       "      <td>29.13</td>\n",
       "      <td>34.88</td>\n",
       "      <td>1012</td>\n",
       "      <td>79</td>\n",
       "      <td>25.11</td>\n",
       "      <td>6.87</td>\n",
       "      <td>68</td>\n",
       "      <td>10000</td>\n",
       "      <td>3.10</td>\n",
       "      <td>71</td>\n",
       "      <td>3.55</td>\n",
       "      <td>[{'id': 500, 'main': 'Rain', 'description': 'l...</td>\n",
       "      <td>0.72</td>\n",
       "      <td>{'1h': 0.27}</td>\n",
       "    </tr>\n",
       "    <tr>\n",
       "      <th>3</th>\n",
       "      <td>1630378800</td>\n",
       "      <td>28.80</td>\n",
       "      <td>33.79</td>\n",
       "      <td>1012</td>\n",
       "      <td>78</td>\n",
       "      <td>24.58</td>\n",
       "      <td>9.67</td>\n",
       "      <td>70</td>\n",
       "      <td>9768</td>\n",
       "      <td>3.65</td>\n",
       "      <td>79</td>\n",
       "      <td>4.69</td>\n",
       "      <td>[{'id': 500, 'main': 'Rain', 'description': 'l...</td>\n",
       "      <td>0.78</td>\n",
       "      <td>{'1h': 0.37}</td>\n",
       "    </tr>\n",
       "    <tr>\n",
       "      <th>4</th>\n",
       "      <td>1630382400</td>\n",
       "      <td>29.37</td>\n",
       "      <td>34.19</td>\n",
       "      <td>1012</td>\n",
       "      <td>73</td>\n",
       "      <td>24.02</td>\n",
       "      <td>9.90</td>\n",
       "      <td>64</td>\n",
       "      <td>10000</td>\n",
       "      <td>4.02</td>\n",
       "      <td>75</td>\n",
       "      <td>4.12</td>\n",
       "      <td>[{'id': 500, 'main': 'Rain', 'description': 'l...</td>\n",
       "      <td>0.92</td>\n",
       "      <td>{'1h': 0.23}</td>\n",
       "    </tr>\n",
       "  </tbody>\n",
       "</table>\n",
       "</div>"
      ],
      "text/plain": [
       "           dt   temp  feels_like  pressure  humidity  dew_point   uvi  clouds  \\\n",
       "0  1630368000  28.97       34.66      1012        80      25.17  0.80      71   \n",
       "1  1630371600  29.18       35.71      1012        82      25.79  3.83      70   \n",
       "2  1630375200  29.13       34.88      1012        79      25.11  6.87      68   \n",
       "3  1630378800  28.80       33.79      1012        78      24.58  9.67      70   \n",
       "4  1630382400  29.37       34.19      1012        73      24.02  9.90      64   \n",
       "\n",
       "   visibility  wind_speed  wind_deg  wind_gust  \\\n",
       "0       10000        2.15        76       2.81   \n",
       "1       10000        2.47        64       3.15   \n",
       "2       10000        3.10        71       3.55   \n",
       "3        9768        3.65        79       4.69   \n",
       "4       10000        4.02        75       4.12   \n",
       "\n",
       "                                             weather   pop          rain  \n",
       "0  [{'id': 500, 'main': 'Rain', 'description': 'l...  1.00  {'1h': 0.14}  \n",
       "1  [{'id': 500, 'main': 'Rain', 'description': 'l...  0.65   {'1h': 0.1}  \n",
       "2  [{'id': 500, 'main': 'Rain', 'description': 'l...  0.72  {'1h': 0.27}  \n",
       "3  [{'id': 500, 'main': 'Rain', 'description': 'l...  0.78  {'1h': 0.37}  \n",
       "4  [{'id': 500, 'main': 'Rain', 'description': 'l...  0.92  {'1h': 0.23}  "
      ]
     },
     "execution_count": 10,
     "metadata": {},
     "output_type": "execute_result"
    }
   ],
   "source": [
    "df_hourly.head()"
   ]
  },
  {
   "cell_type": "code",
   "execution_count": null,
   "metadata": {},
   "outputs": [],
   "source": []
  }
 ],
 "metadata": {
  "interpreter": {
   "hash": "c1b4cfe941b6d2466ad1fb5979e97da9cda8801728c8091b097ab734208fc00c"
  },
  "kernelspec": {
   "display_name": "Python 3.8.3 64-bit ('base': conda)",
   "name": "python3"
  },
  "language_info": {
   "codemirror_mode": {
    "name": "ipython",
    "version": 3
   },
   "file_extension": ".py",
   "mimetype": "text/x-python",
   "name": "python",
   "nbconvert_exporter": "python",
   "pygments_lexer": "ipython3",
   "version": "3.8.11"
  }
 },
 "nbformat": 4,
 "nbformat_minor": 2
}
