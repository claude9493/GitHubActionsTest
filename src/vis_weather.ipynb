{
 "cells": [
  {
   "cell_type": "code",
   "execution_count": 1,
   "metadata": {
    "execution": {
     "iopub.execute_input": "2021-08-23T01:50:06.590496Z",
     "iopub.status.busy": "2021-08-23T01:50:06.589727Z",
     "iopub.status.idle": "2021-08-23T01:50:07.691921Z",
     "shell.execute_reply": "2021-08-23T01:50:07.690902Z"
    }
   },
   "outputs": [],
   "source": [
    "import json\r\n",
    "from datetime import datetime\r\n",
    "from dateutil import tz\r\n",
    "import pandas as pd\r\n",
    "import matplotlib.pyplot as plt\r\n",
    "import seaborn\r\n"
   ]
  },
  {
   "cell_type": "code",
   "execution_count": 2,
   "metadata": {
    "execution": {
     "iopub.execute_input": "2021-08-23T01:50:07.697643Z",
     "iopub.status.busy": "2021-08-23T01:50:07.697149Z",
     "iopub.status.idle": "2021-08-23T01:50:07.700363Z",
     "shell.execute_reply": "2021-08-23T01:50:07.699939Z"
    }
   },
   "outputs": [],
   "source": [
    "with open('../newest_ts', 'r') as f:\r\n",
    "    ts = f.read()\r\n",
    "\r\n",
    "data_path = f\"../data/data_{ts}.json\"\r\n",
    "with open(data_path, 'r') as f:\r\n",
    "    data = json.load(f)"
   ]
  },
  {
   "cell_type": "code",
   "execution_count": 3,
   "metadata": {
    "execution": {
     "iopub.execute_input": "2021-08-23T01:50:07.706074Z",
     "iopub.status.busy": "2021-08-23T01:50:07.704988Z",
     "iopub.status.idle": "2021-08-23T01:50:07.708788Z",
     "shell.execute_reply": "2021-08-23T01:50:07.708326Z"
    }
   },
   "outputs": [
    {
     "name": "stdout",
     "output_type": "stream",
     "text": [
      "Recent query happens at 2021-08-23 01:50:03\n"
     ]
    }
   ],
   "source": [
    "def ts2dt(ts, format='%Y-%m-%d %H:%M:%S'):\r\n",
    "    return (datetime.utcfromtimestamp(int(ts))\r\n",
    "                    .replace(tzinfo=tz.tzutc())\r\n",
    "                    .astimezone(tz.tzlocal())\r\n",
    "                    .strftime(format))\r\n",
    "\r\n",
    "print(f\"Recent query happens at {ts2dt(ts)}\")"
   ]
  },
  {
   "cell_type": "code",
   "execution_count": 4,
   "metadata": {
    "execution": {
     "iopub.execute_input": "2021-08-23T01:50:07.714975Z",
     "iopub.status.busy": "2021-08-23T01:50:07.714470Z",
     "iopub.status.idle": "2021-08-23T01:50:07.717063Z",
     "shell.execute_reply": "2021-08-23T01:50:07.717461Z"
    }
   },
   "outputs": [
    {
     "data": {
      "text/plain": [
       "dict_keys(['lat', 'lon', 'timezone', 'timezone_offset', 'current', 'hourly', 'daily'])"
      ]
     },
     "execution_count": 4,
     "metadata": {},
     "output_type": "execute_result"
    }
   ],
   "source": [
    "data.keys()"
   ]
  },
  {
   "cell_type": "code",
   "execution_count": 5,
   "metadata": {
    "execution": {
     "iopub.execute_input": "2021-08-23T01:50:07.722575Z",
     "iopub.status.busy": "2021-08-23T01:50:07.722065Z",
     "iopub.status.idle": "2021-08-23T01:50:07.724479Z",
     "shell.execute_reply": "2021-08-23T01:50:07.724876Z"
    }
   },
   "outputs": [
    {
     "data": {
      "text/plain": [
       "{'dt': 1629683403,\n",
       " 'sunrise': 1629669780,\n",
       " 'sunset': 1629715720,\n",
       " 'temp': 32.03,\n",
       " 'feels_like': 39.03,\n",
       " 'pressure': 1008,\n",
       " 'humidity': 75,\n",
       " 'dew_point': 27.04,\n",
       " 'uvi': 7.5,\n",
       " 'clouds': 27,\n",
       " 'visibility': 10000,\n",
       " 'wind_speed': 3.2,\n",
       " 'wind_deg': 222,\n",
       " 'wind_gust': 4.15,\n",
       " 'weather': [{'id': 802,\n",
       "   'main': 'Clouds',\n",
       "   'description': 'scattered clouds',\n",
       "   'icon': '03d'}]}"
      ]
     },
     "execution_count": 5,
     "metadata": {},
     "output_type": "execute_result"
    }
   ],
   "source": [
    "data['current']"
   ]
  },
  {
   "cell_type": "code",
   "execution_count": 6,
   "metadata": {
    "execution": {
     "iopub.execute_input": "2021-08-23T01:50:07.729798Z",
     "iopub.status.busy": "2021-08-23T01:50:07.729282Z",
     "iopub.status.idle": "2021-08-23T01:50:07.731616Z",
     "shell.execute_reply": "2021-08-23T01:50:07.732010Z"
    }
   },
   "outputs": [
    {
     "data": {
      "text/plain": [
       "{'dt': 1629680400,\n",
       " 'temp': 31.48,\n",
       " 'feels_like': 38.48,\n",
       " 'pressure': 1008,\n",
       " 'humidity': 74,\n",
       " 'dew_point': 26.28,\n",
       " 'uvi': 4.24,\n",
       " 'clouds': 29,\n",
       " 'visibility': 10000,\n",
       " 'wind_speed': 3.32,\n",
       " 'wind_deg': 222,\n",
       " 'wind_gust': 4.54,\n",
       " 'weather': [{'id': 500,\n",
       "   'main': 'Rain',\n",
       "   'description': 'light rain',\n",
       "   'icon': '10d'}],\n",
       " 'pop': 0.61,\n",
       " 'rain': {'1h': 0.24}}"
      ]
     },
     "execution_count": 6,
     "metadata": {},
     "output_type": "execute_result"
    }
   ],
   "source": [
    "data['hourly'][0]"
   ]
  },
  {
   "cell_type": "code",
   "execution_count": 7,
   "metadata": {
    "execution": {
     "iopub.execute_input": "2021-08-23T01:50:07.739445Z",
     "iopub.status.busy": "2021-08-23T01:50:07.738462Z",
     "iopub.status.idle": "2021-08-23T01:50:07.740170Z",
     "shell.execute_reply": "2021-08-23T01:50:07.740542Z"
    }
   },
   "outputs": [],
   "source": [
    "df_hourly = pd.DataFrame(data['hourly'])\r\n",
    "df_daily = pd.DataFrame(data['daily'])"
   ]
  },
  {
   "cell_type": "code",
   "execution_count": 8,
   "metadata": {
    "execution": {
     "iopub.execute_input": "2021-08-23T01:50:07.748130Z",
     "iopub.status.busy": "2021-08-23T01:50:07.747642Z",
     "iopub.status.idle": "2021-08-23T01:50:07.760862Z",
     "shell.execute_reply": "2021-08-23T01:50:07.761238Z"
    }
   },
   "outputs": [
    {
     "data": {
      "text/html": [
       "<div>\n",
       "<style scoped>\n",
       "    .dataframe tbody tr th:only-of-type {\n",
       "        vertical-align: middle;\n",
       "    }\n",
       "\n",
       "    .dataframe tbody tr th {\n",
       "        vertical-align: top;\n",
       "    }\n",
       "\n",
       "    .dataframe thead th {\n",
       "        text-align: right;\n",
       "    }\n",
       "</style>\n",
       "<table border=\"1\" class=\"dataframe\">\n",
       "  <thead>\n",
       "    <tr style=\"text-align: right;\">\n",
       "      <th></th>\n",
       "      <th>dt</th>\n",
       "      <th>temp</th>\n",
       "      <th>feels_like</th>\n",
       "      <th>pressure</th>\n",
       "      <th>humidity</th>\n",
       "      <th>dew_point</th>\n",
       "      <th>uvi</th>\n",
       "      <th>clouds</th>\n",
       "      <th>visibility</th>\n",
       "      <th>wind_speed</th>\n",
       "      <th>wind_deg</th>\n",
       "      <th>wind_gust</th>\n",
       "      <th>weather</th>\n",
       "      <th>pop</th>\n",
       "      <th>rain</th>\n",
       "    </tr>\n",
       "  </thead>\n",
       "  <tbody>\n",
       "    <tr>\n",
       "      <th>0</th>\n",
       "      <td>1629680400</td>\n",
       "      <td>31.48</td>\n",
       "      <td>38.48</td>\n",
       "      <td>1008</td>\n",
       "      <td>74</td>\n",
       "      <td>26.28</td>\n",
       "      <td>4.24</td>\n",
       "      <td>29</td>\n",
       "      <td>10000</td>\n",
       "      <td>3.32</td>\n",
       "      <td>222</td>\n",
       "      <td>4.54</td>\n",
       "      <td>[{'id': 500, 'main': 'Rain', 'description': 'l...</td>\n",
       "      <td>0.61</td>\n",
       "      <td>{'1h': 0.24}</td>\n",
       "    </tr>\n",
       "    <tr>\n",
       "      <th>1</th>\n",
       "      <td>1629684000</td>\n",
       "      <td>32.03</td>\n",
       "      <td>39.03</td>\n",
       "      <td>1008</td>\n",
       "      <td>75</td>\n",
       "      <td>27.04</td>\n",
       "      <td>7.50</td>\n",
       "      <td>27</td>\n",
       "      <td>10000</td>\n",
       "      <td>3.20</td>\n",
       "      <td>222</td>\n",
       "      <td>4.15</td>\n",
       "      <td>[{'id': 802, 'main': 'Clouds', 'description': ...</td>\n",
       "      <td>0.54</td>\n",
       "      <td>NaN</td>\n",
       "    </tr>\n",
       "    <tr>\n",
       "      <th>2</th>\n",
       "      <td>1629687600</td>\n",
       "      <td>31.68</td>\n",
       "      <td>38.68</td>\n",
       "      <td>1008</td>\n",
       "      <td>73</td>\n",
       "      <td>26.24</td>\n",
       "      <td>10.47</td>\n",
       "      <td>27</td>\n",
       "      <td>10000</td>\n",
       "      <td>3.79</td>\n",
       "      <td>218</td>\n",
       "      <td>4.50</td>\n",
       "      <td>[{'id': 802, 'main': 'Clouds', 'description': ...</td>\n",
       "      <td>0.50</td>\n",
       "      <td>NaN</td>\n",
       "    </tr>\n",
       "    <tr>\n",
       "      <th>3</th>\n",
       "      <td>1629691200</td>\n",
       "      <td>31.43</td>\n",
       "      <td>38.43</td>\n",
       "      <td>1008</td>\n",
       "      <td>72</td>\n",
       "      <td>25.77</td>\n",
       "      <td>12.06</td>\n",
       "      <td>27</td>\n",
       "      <td>10000</td>\n",
       "      <td>4.66</td>\n",
       "      <td>219</td>\n",
       "      <td>4.81</td>\n",
       "      <td>[{'id': 802, 'main': 'Clouds', 'description': ...</td>\n",
       "      <td>0.49</td>\n",
       "      <td>NaN</td>\n",
       "    </tr>\n",
       "    <tr>\n",
       "      <th>4</th>\n",
       "      <td>1629694800</td>\n",
       "      <td>31.12</td>\n",
       "      <td>38.12</td>\n",
       "      <td>1007</td>\n",
       "      <td>71</td>\n",
       "      <td>25.24</td>\n",
       "      <td>11.88</td>\n",
       "      <td>35</td>\n",
       "      <td>10000</td>\n",
       "      <td>4.48</td>\n",
       "      <td>219</td>\n",
       "      <td>4.48</td>\n",
       "      <td>[{'id': 500, 'main': 'Rain', 'description': 'l...</td>\n",
       "      <td>0.41</td>\n",
       "      <td>{'1h': 0.21}</td>\n",
       "    </tr>\n",
       "  </tbody>\n",
       "</table>\n",
       "</div>"
      ],
      "text/plain": [
       "           dt   temp  feels_like  pressure  humidity  dew_point    uvi  \\\n",
       "0  1629680400  31.48       38.48      1008        74      26.28   4.24   \n",
       "1  1629684000  32.03       39.03      1008        75      27.04   7.50   \n",
       "2  1629687600  31.68       38.68      1008        73      26.24  10.47   \n",
       "3  1629691200  31.43       38.43      1008        72      25.77  12.06   \n",
       "4  1629694800  31.12       38.12      1007        71      25.24  11.88   \n",
       "\n",
       "   clouds  visibility  wind_speed  wind_deg  wind_gust  \\\n",
       "0      29       10000        3.32       222       4.54   \n",
       "1      27       10000        3.20       222       4.15   \n",
       "2      27       10000        3.79       218       4.50   \n",
       "3      27       10000        4.66       219       4.81   \n",
       "4      35       10000        4.48       219       4.48   \n",
       "\n",
       "                                             weather   pop          rain  \n",
       "0  [{'id': 500, 'main': 'Rain', 'description': 'l...  0.61  {'1h': 0.24}  \n",
       "1  [{'id': 802, 'main': 'Clouds', 'description': ...  0.54           NaN  \n",
       "2  [{'id': 802, 'main': 'Clouds', 'description': ...  0.50           NaN  \n",
       "3  [{'id': 802, 'main': 'Clouds', 'description': ...  0.49           NaN  \n",
       "4  [{'id': 500, 'main': 'Rain', 'description': 'l...  0.41  {'1h': 0.21}  "
      ]
     },
     "execution_count": 8,
     "metadata": {},
     "output_type": "execute_result"
    }
   ],
   "source": [
    "df_hourly.head()"
   ]
  },
  {
   "cell_type": "code",
   "execution_count": 9,
   "metadata": {
    "execution": {
     "iopub.execute_input": "2021-08-23T01:50:07.777029Z",
     "iopub.status.busy": "2021-08-23T01:50:07.776553Z",
     "iopub.status.idle": "2021-08-23T01:50:07.972260Z",
     "shell.execute_reply": "2021-08-23T01:50:07.971764Z"
    }
   },
   "outputs": [
    {
     "data": {
      "image/png": "[encoded data removed]",
      "text/plain": [
       "<Figure size 864x432 with 1 Axes>"
      ]
     },
     "metadata": {
      "needs_background": "light"
     },
     "output_type": "display_data"
    }
   ],
   "source": [
    "fig, ax = plt.subplots(figsize=(12, 6))\r\n",
    "plt.plot(df_hourly.temp, '.-')\r\n",
    "ax.set(title='Temperature in future 48 hours', xlabel='Time', ylabel='Temperature')\r\n",
    "ax.set_xticks(list(range(0, len(df_hourly), 2)))\r\n",
    "ax.set_xticklabels([ts2dt(ts, '%m-%d %H:%M') for i, ts in enumerate(df_hourly.dt) if i%2==0], \r\n",
    "                   rotation=45, ha=\"right\")\r\n",
    "plt.show()"
   ]
  },
  {
   "cell_type": "code",
   "execution_count": null,
   "metadata": {},
   "outputs": [],
   "source": []
  }
 ],
 "metadata": {
  "interpreter": {
   "hash": "c1b4cfe941b6d2466ad1fb5979e97da9cda8801728c8091b097ab734208fc00c"
  },
  "kernelspec": {
   "display_name": "Python 3.8.3 64-bit ('base': conda)",
   "name": "python3"
  },
  "language_info": {
   "codemirror_mode": {
    "name": "ipython",
    "version": 3
   },
   "file_extension": ".py",
   "mimetype": "text/x-python",
   "name": "python",
   "nbconvert_exporter": "python",
   "pygments_lexer": "ipython3",
   "version": "3.8.11"
  }
 },
 "nbformat": 4,
 "nbformat_minor": 2
}
