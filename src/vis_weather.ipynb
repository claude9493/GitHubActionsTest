{
 "cells": [
  {
   "cell_type": "code",
   "execution_count": 1,
   "metadata": {
    "execution": {
     "iopub.execute_input": "2021-10-08T06:13:53.883584Z",
     "iopub.status.busy": "2021-10-08T06:13:53.882947Z",
     "iopub.status.idle": "2021-10-08T06:13:56.376667Z",
     "shell.execute_reply": "2021-10-08T06:13:56.377063Z"
    }
   },
   "outputs": [],
   "source": [
    "import json, yaml, requests\r\n",
    "from datetime import datetime\r\n",
    "from dateutil import tz\r\n",
    "import pandas as pd\r\n",
    "from PIL import Image\r\n",
    "from io import BytesIO\r\n",
    "import matplotlib.pyplot as plt\r\n",
    "import seaborn\r\n",
    "\r\n",
    "CONFIG_PATH = \"../config/config.yaml\""
   ]
  },
  {
   "cell_type": "code",
   "execution_count": 2,
   "metadata": {
    "execution": {
     "iopub.execute_input": "2021-10-08T06:13:56.382267Z",
     "iopub.status.busy": "2021-10-08T06:13:56.381772Z",
     "iopub.status.idle": "2021-10-08T06:13:56.387150Z",
     "shell.execute_reply": "2021-10-08T06:13:56.386493Z"
    }
   },
   "outputs": [],
   "source": [
    "with open('../newest_ts', 'r') as f:\r\n",
    "    newest_ts = f.read()\r\n",
    "\r\n",
    "data_path = f\"../data/data_{newest_ts}.json\"\r\n",
    "with open(data_path, 'r') as f:\r\n",
    "    data = json.load(f)\r\n",
    "\r\n",
    "with open(CONFIG_PATH, \"r\") as stream:\r\n",
    "    config = yaml.safe_load(stream)\r\n",
    "\r\n",
    "TIME_ZONE = config['time_zone']\r\n",
    "DATETIME_FORMAT = config['dt_format']"
   ]
  },
  {
   "cell_type": "code",
   "execution_count": 3,
   "metadata": {
    "execution": {
     "iopub.execute_input": "2021-10-08T06:13:56.391574Z",
     "iopub.status.busy": "2021-10-08T06:13:56.391083Z",
     "iopub.status.idle": "2021-10-08T06:13:56.421987Z",
     "shell.execute_reply": "2021-10-08T06:13:56.422379Z"
    }
   },
   "outputs": [
    {
     "name": "stdout",
     "output_type": "stream",
     "text": [
      "Recent query happens at 2021-10-08 14:13:50 (CST).\n"
     ]
    }
   ],
   "source": [
    "def ts2dt(ts, format=DATETIME_FORMAT):\r\n",
    "    dt = (datetime.utcfromtimestamp(int(ts))\r\n",
    "                    .replace(tzinfo=tz.tzutc())\r\n",
    "                    # .astimezone(tz.tzlocal())\r\n",
    "                    .astimezone(tz.gettz(TIME_ZONE)))\r\n",
    "    return dt.strftime(format), dt\r\n",
    "\r\n",
    "_, newest_dt = ts2dt(newest_ts)\r\n",
    "print(f\"Recent query happens at {newest_dt.strftime(DATETIME_FORMAT)} ({newest_dt.tzname()}).\")"
   ]
  },
  {
   "cell_type": "code",
   "execution_count": 4,
   "metadata": {
    "execution": {
     "iopub.execute_input": "2021-10-08T06:13:56.428034Z",
     "iopub.status.busy": "2021-10-08T06:13:56.426832Z",
     "iopub.status.idle": "2021-10-08T06:13:56.428561Z",
     "shell.execute_reply": "2021-10-08T06:13:56.428928Z"
    }
   },
   "outputs": [],
   "source": [
    "def degrees_to_cardinal(d):\r\n",
    "  dirs = ['N', 'NNE', 'NE', 'ENE', 'E', 'ESE', 'SE', 'SSE', 'S', 'SSW', 'SW', 'WSW', 'W', 'WNW', 'NW', 'NNW']\r\n",
    "  ix = int(round(d / (360. / len(dirs))))\r\n",
    "  return dirs[ix % len(dirs)]"
   ]
  },
  {
   "cell_type": "code",
   "execution_count": 5,
   "metadata": {
    "execution": {
     "iopub.execute_input": "2021-10-08T06:13:56.432391Z",
     "iopub.status.busy": "2021-10-08T06:13:56.431924Z",
     "iopub.status.idle": "2021-10-08T06:13:56.434900Z",
     "shell.execute_reply": "2021-10-08T06:13:56.434463Z"
    }
   },
   "outputs": [],
   "source": [
    "# data.keys()"
   ]
  },
  {
   "cell_type": "code",
   "execution_count": 6,
   "metadata": {
    "execution": {
     "iopub.execute_input": "2021-10-08T06:13:56.438981Z",
     "iopub.status.busy": "2021-10-08T06:13:56.437869Z",
     "iopub.status.idle": "2021-10-08T06:13:56.439528Z",
     "shell.execute_reply": "2021-10-08T06:13:56.439904Z"
    }
   },
   "outputs": [],
   "source": [
    "# data['current']"
   ]
  },
  {
   "cell_type": "code",
   "execution_count": 7,
   "metadata": {
    "execution": {
     "iopub.execute_input": "2021-10-08T06:13:56.458029Z",
     "iopub.status.busy": "2021-10-08T06:13:56.457462Z",
     "iopub.status.idle": "2021-10-08T06:13:57.001072Z",
     "shell.execute_reply": "2021-10-08T06:13:57.001754Z"
    }
   },
   "outputs": [
    {
     "data": {
      "image/png": "[encoded data removed]",
      "text/plain": [
       "<Figure size 216x216 with 1 Axes>"
      ]
     },
     "metadata": {
      "needs_background": "light"
     },
     "output_type": "display_data"
    },
    {
     "name": "stdout",
     "output_type": "stream",
     "text": [
      "Today, sun rises at 06:16 and sets at 18:04.\n",
      "Currently, the weather is Rain (moderate rain).\n",
      "The temperature is 25.16°C and it feels like 26.24°C.\n",
      "The UV index is 0.34, humidity is 96%.\n",
      "The pressure is 1003 hPa, percentage of cloud cover is 100%\n",
      "The wind comes from NW direction with a speed 2.24 m/s.\n"
     ]
    }
   ],
   "source": [
    "current = data['current']\r\n",
    "\r\n",
    "fig, ax = plt.subplots(figsize=(3, 3))\r\n",
    "icon = requests.get(f\"http://openweathermap.org/img/wn/{current['weather'][0]['icon']}@2x.png\")\r\n",
    "im = Image.open(BytesIO(icon.content))\r\n",
    "plt.imshow(im)\r\n",
    "ax.set_axis_off()\r\n",
    "plt.show()\r\n",
    "\r\n",
    "print(f\"Today, sun rises at {ts2dt(current['sunrise'], '%H:%M')[0]} \\\r\n",
    "and sets at {ts2dt(current['sunset'], '%H:%M')[0]}.\\n\\\r\n",
    "Currently, the weather is {current['weather'][0]['main']} ({current['weather'][0]['description']}).\\n\\\r\n",
    "The temperature is {current['temp']}°C and it feels like {current['feels_like']}°C.\\n\\\r\n",
    "The UV index is {current['uvi']}, humidity is {current['humidity']}%.\\n\\\r\n",
    "The pressure is {current['pressure']} hPa, percentage of cloud cover is {current['clouds']}%\\n\\\r\n",
    "The wind comes from {degrees_to_cardinal(current['wind_deg'])} direction with a speed {current['wind_speed']} m/s.\")"
   ]
  },
  {
   "cell_type": "code",
   "execution_count": 8,
   "metadata": {
    "execution": {
     "iopub.execute_input": "2021-10-08T06:13:57.004881Z",
     "iopub.status.busy": "2021-10-08T06:13:57.004421Z",
     "iopub.status.idle": "2021-10-08T06:13:57.011068Z",
     "shell.execute_reply": "2021-10-08T06:13:57.011755Z"
    }
   },
   "outputs": [],
   "source": [
    "df_hourly = pd.DataFrame(data['hourly'])\r\n",
    "df_daily = pd.DataFrame(data['daily'])"
   ]
  },
  {
   "cell_type": "code",
   "execution_count": 9,
   "metadata": {
    "execution": {
     "iopub.execute_input": "2021-10-08T06:13:57.014987Z",
     "iopub.status.busy": "2021-10-08T06:13:57.014035Z",
     "iopub.status.idle": "2021-10-08T06:13:57.261821Z",
     "shell.execute_reply": "2021-10-08T06:13:57.262259Z"
    }
   },
   "outputs": [
    {
     "data": {
      "image/png": "[encoded data removed]",
      "text/plain": [
       "<Figure size 864x432 with 1 Axes>"
      ]
     },
     "metadata": {
      "needs_background": "light"
     },
     "output_type": "display_data"
    }
   ],
   "source": [
    "fig, ax = plt.subplots(figsize=(12, 6))\r\n",
    "plt.plot(df_hourly.temp, '.-', label='Temperature')\r\n",
    "plt.plot(df_hourly.feels_like, '.-', label='Feels Like')\r\n",
    "ax.set(title='Temperature in future 48 hours', xlabel='Time', ylabel='Temperature')\r\n",
    "ax.set_xticks(list(range(0, len(df_hourly), 2)))\r\n",
    "ax.set_xticklabels([ts2dt(ts, '%m-%d %H:%M')[0] for i, ts in enumerate(df_hourly.dt) if i%2==0], \r\n",
    "                   rotation=45, ha=\"right\")\r\n",
    "ax.locator_params(nbins=15, axis='y')\r\n",
    "plt.legend()\r\n",
    "plt.show()"
   ]
  },
  {
   "cell_type": "code",
   "execution_count": 10,
   "metadata": {
    "execution": {
     "iopub.execute_input": "2021-10-08T06:13:57.266546Z",
     "iopub.status.busy": "2021-10-08T06:13:57.266088Z",
     "iopub.status.idle": "2021-10-08T06:13:57.284501Z",
     "shell.execute_reply": "2021-10-08T06:13:57.284880Z"
    }
   },
   "outputs": [
    {
     "data": {
      "text/html": [
       "<div>\n",
       "<style scoped>\n",
       "    .dataframe tbody tr th:only-of-type {\n",
       "        vertical-align: middle;\n",
       "    }\n",
       "\n",
       "    .dataframe tbody tr th {\n",
       "        vertical-align: top;\n",
       "    }\n",
       "\n",
       "    .dataframe thead th {\n",
       "        text-align: right;\n",
       "    }\n",
       "</style>\n",
       "<table border=\"1\" class=\"dataframe\">\n",
       "  <thead>\n",
       "    <tr style=\"text-align: right;\">\n",
       "      <th></th>\n",
       "      <th>dt</th>\n",
       "      <th>temp</th>\n",
       "      <th>feels_like</th>\n",
       "      <th>pressure</th>\n",
       "      <th>humidity</th>\n",
       "      <th>dew_point</th>\n",
       "      <th>uvi</th>\n",
       "      <th>clouds</th>\n",
       "      <th>visibility</th>\n",
       "      <th>wind_speed</th>\n",
       "      <th>wind_deg</th>\n",
       "      <th>wind_gust</th>\n",
       "      <th>weather</th>\n",
       "      <th>pop</th>\n",
       "      <th>rain</th>\n",
       "    </tr>\n",
       "  </thead>\n",
       "  <tbody>\n",
       "    <tr>\n",
       "      <th>0</th>\n",
       "      <td>1633672800</td>\n",
       "      <td>25.16</td>\n",
       "      <td>26.24</td>\n",
       "      <td>1003</td>\n",
       "      <td>96</td>\n",
       "      <td>24.48</td>\n",
       "      <td>0.34</td>\n",
       "      <td>100</td>\n",
       "      <td>3047</td>\n",
       "      <td>8.91</td>\n",
       "      <td>104</td>\n",
       "      <td>12.15</td>\n",
       "      <td>[{'id': 502, 'main': 'Rain', 'description': 'h...</td>\n",
       "      <td>1.0</td>\n",
       "      <td>{'1h': 5.04}</td>\n",
       "    </tr>\n",
       "    <tr>\n",
       "      <th>1</th>\n",
       "      <td>1633676400</td>\n",
       "      <td>25.28</td>\n",
       "      <td>26.34</td>\n",
       "      <td>1003</td>\n",
       "      <td>95</td>\n",
       "      <td>24.42</td>\n",
       "      <td>0.19</td>\n",
       "      <td>100</td>\n",
       "      <td>2647</td>\n",
       "      <td>8.81</td>\n",
       "      <td>102</td>\n",
       "      <td>12.05</td>\n",
       "      <td>[{'id': 502, 'main': 'Rain', 'description': 'h...</td>\n",
       "      <td>1.0</td>\n",
       "      <td>{'1h': 4.86}</td>\n",
       "    </tr>\n",
       "    <tr>\n",
       "      <th>2</th>\n",
       "      <td>1633680000</td>\n",
       "      <td>25.37</td>\n",
       "      <td>26.44</td>\n",
       "      <td>1003</td>\n",
       "      <td>95</td>\n",
       "      <td>24.51</td>\n",
       "      <td>0.09</td>\n",
       "      <td>100</td>\n",
       "      <td>2193</td>\n",
       "      <td>9.48</td>\n",
       "      <td>103</td>\n",
       "      <td>13.20</td>\n",
       "      <td>[{'id': 501, 'main': 'Rain', 'description': 'm...</td>\n",
       "      <td>1.0</td>\n",
       "      <td>{'1h': 2.37}</td>\n",
       "    </tr>\n",
       "    <tr>\n",
       "      <th>3</th>\n",
       "      <td>1633683600</td>\n",
       "      <td>25.58</td>\n",
       "      <td>26.67</td>\n",
       "      <td>1003</td>\n",
       "      <td>95</td>\n",
       "      <td>24.72</td>\n",
       "      <td>0.02</td>\n",
       "      <td>100</td>\n",
       "      <td>1856</td>\n",
       "      <td>9.65</td>\n",
       "      <td>107</td>\n",
       "      <td>14.03</td>\n",
       "      <td>[{'id': 502, 'main': 'Rain', 'description': 'h...</td>\n",
       "      <td>1.0</td>\n",
       "      <td>{'1h': 10.01}</td>\n",
       "    </tr>\n",
       "    <tr>\n",
       "      <th>4</th>\n",
       "      <td>1633687200</td>\n",
       "      <td>25.90</td>\n",
       "      <td>27.00</td>\n",
       "      <td>1004</td>\n",
       "      <td>94</td>\n",
       "      <td>24.86</td>\n",
       "      <td>0.00</td>\n",
       "      <td>100</td>\n",
       "      <td>3265</td>\n",
       "      <td>10.40</td>\n",
       "      <td>111</td>\n",
       "      <td>14.60</td>\n",
       "      <td>[{'id': 502, 'main': 'Rain', 'description': 'h...</td>\n",
       "      <td>1.0</td>\n",
       "      <td>{'1h': 8.4}</td>\n",
       "    </tr>\n",
       "  </tbody>\n",
       "</table>\n",
       "</div>"
      ],
      "text/plain": [
       "           dt   temp  feels_like  pressure  humidity  dew_point   uvi  clouds  \\\n",
       "0  1633672800  25.16       26.24      1003        96      24.48  0.34     100   \n",
       "1  1633676400  25.28       26.34      1003        95      24.42  0.19     100   \n",
       "2  1633680000  25.37       26.44      1003        95      24.51  0.09     100   \n",
       "3  1633683600  25.58       26.67      1003        95      24.72  0.02     100   \n",
       "4  1633687200  25.90       27.00      1004        94      24.86  0.00     100   \n",
       "\n",
       "   visibility  wind_speed  wind_deg  wind_gust  \\\n",
       "0        3047        8.91       104      12.15   \n",
       "1        2647        8.81       102      12.05   \n",
       "2        2193        9.48       103      13.20   \n",
       "3        1856        9.65       107      14.03   \n",
       "4        3265       10.40       111      14.60   \n",
       "\n",
       "                                             weather  pop           rain  \n",
       "0  [{'id': 502, 'main': 'Rain', 'description': 'h...  1.0   {'1h': 5.04}  \n",
       "1  [{'id': 502, 'main': 'Rain', 'description': 'h...  1.0   {'1h': 4.86}  \n",
       "2  [{'id': 501, 'main': 'Rain', 'description': 'm...  1.0   {'1h': 2.37}  \n",
       "3  [{'id': 502, 'main': 'Rain', 'description': 'h...  1.0  {'1h': 10.01}  \n",
       "4  [{'id': 502, 'main': 'Rain', 'description': 'h...  1.0    {'1h': 8.4}  "
      ]
     },
     "execution_count": 10,
     "metadata": {},
     "output_type": "execute_result"
    }
   ],
   "source": [
    "df_hourly.head()"
   ]
  },
  {
   "cell_type": "code",
   "execution_count": null,
   "metadata": {},
   "outputs": [],
   "source": []
  }
 ],
 "metadata": {
  "interpreter": {
   "hash": "c1b4cfe941b6d2466ad1fb5979e97da9cda8801728c8091b097ab734208fc00c"
  },
  "kernelspec": {
   "display_name": "Python 3.8.3 64-bit ('base': conda)",
   "name": "python3"
  },
  "language_info": {
   "codemirror_mode": {
    "name": "ipython",
    "version": 3
   },
   "file_extension": ".py",
   "mimetype": "text/x-python",
   "name": "python",
   "nbconvert_exporter": "python",
   "pygments_lexer": "ipython3",
   "version": "3.8.12"
  }
 },
 "nbformat": 4,
 "nbformat_minor": 2
}
