{
 "cells": [
  {
   "cell_type": "code",
   "execution_count": 1,
   "metadata": {
    "execution": {
     "iopub.execute_input": "2021-08-28T00:46:12.392923Z",
     "iopub.status.busy": "2021-08-28T00:46:12.391196Z",
     "iopub.status.idle": "2021-08-28T00:46:16.028357Z",
     "shell.execute_reply": "2021-08-28T00:46:16.028881Z"
    }
   },
   "outputs": [],
   "source": [
    "import json, yaml, requests\r\n",
    "from datetime import datetime\r\n",
    "from dateutil import tz\r\n",
    "import pandas as pd\r\n",
    "from PIL import Image\r\n",
    "from io import BytesIO\r\n",
    "import matplotlib.pyplot as plt\r\n",
    "import seaborn\r\n",
    "\r\n",
    "CONFIG_PATH = \"../config/config.yaml\""
   ]
  },
  {
   "cell_type": "code",
   "execution_count": 2,
   "metadata": {
    "execution": {
     "iopub.execute_input": "2021-08-28T00:46:16.035051Z",
     "iopub.status.busy": "2021-08-28T00:46:16.034396Z",
     "iopub.status.idle": "2021-08-28T00:46:16.041052Z",
     "shell.execute_reply": "2021-08-28T00:46:16.040536Z"
    }
   },
   "outputs": [],
   "source": [
    "with open('../newest_ts', 'r') as f:\r\n",
    "    newest_ts = f.read()\r\n",
    "\r\n",
    "data_path = f\"../data/data_{newest_ts}.json\"\r\n",
    "with open(data_path, 'r') as f:\r\n",
    "    data = json.load(f)\r\n",
    "\r\n",
    "with open(CONFIG_PATH, \"r\") as stream:\r\n",
    "    config = yaml.safe_load(stream)\r\n",
    "\r\n",
    "TIME_ZONE = config['time_zone']\r\n",
    "DATETIME_FORMAT = config['dt_format']"
   ]
  },
  {
   "cell_type": "code",
   "execution_count": 3,
   "metadata": {
    "execution": {
     "iopub.execute_input": "2021-08-28T00:46:16.047557Z",
     "iopub.status.busy": "2021-08-28T00:46:16.046789Z",
     "iopub.status.idle": "2021-08-28T00:46:16.062944Z",
     "shell.execute_reply": "2021-08-28T00:46:16.063454Z"
    }
   },
   "outputs": [
    {
     "name": "stdout",
     "output_type": "stream",
     "text": [
      "Recent query happens at 2021-08-28 08:46:09 (CST).\n"
     ]
    }
   ],
   "source": [
    "def ts2dt(ts, format=DATETIME_FORMAT):\r\n",
    "    dt = (datetime.utcfromtimestamp(int(ts))\r\n",
    "                    .replace(tzinfo=tz.tzutc())\r\n",
    "                    # .astimezone(tz.tzlocal())\r\n",
    "                    .astimezone(tz.gettz(TIME_ZONE)))\r\n",
    "    return dt.strftime(format), dt\r\n",
    "\r\n",
    "_, newest_dt = ts2dt(newest_ts)\r\n",
    "print(f\"Recent query happens at {newest_dt.strftime(DATETIME_FORMAT)} ({newest_dt.tzname()}).\")"
   ]
  },
  {
   "cell_type": "code",
   "execution_count": 4,
   "metadata": {
    "execution": {
     "iopub.execute_input": "2021-08-28T00:46:16.067466Z",
     "iopub.status.busy": "2021-08-28T00:46:16.066872Z",
     "iopub.status.idle": "2021-08-28T00:46:16.072320Z",
     "shell.execute_reply": "2021-08-28T00:46:16.071722Z"
    }
   },
   "outputs": [],
   "source": [
    "def degrees_to_cardinal(d):\r\n",
    "  dirs = ['N', 'NNE', 'NE', 'ENE', 'E', 'ESE', 'SE', 'SSE', 'S', 'SSW', 'SW', 'WSW', 'W', 'WNW', 'NW', 'NNW']\r\n",
    "  ix = int(round(d / (360. / len(dirs))))\r\n",
    "  return dirs[ix % len(dirs)]"
   ]
  },
  {
   "cell_type": "code",
   "execution_count": 5,
   "metadata": {
    "execution": {
     "iopub.execute_input": "2021-08-28T00:46:16.080073Z",
     "iopub.status.busy": "2021-08-28T00:46:16.079225Z",
     "iopub.status.idle": "2021-08-28T00:46:16.083674Z",
     "shell.execute_reply": "2021-08-28T00:46:16.083159Z"
    }
   },
   "outputs": [],
   "source": [
    "# data.keys()"
   ]
  },
  {
   "cell_type": "code",
   "execution_count": 6,
   "metadata": {
    "execution": {
     "iopub.execute_input": "2021-08-28T00:46:16.088431Z",
     "iopub.status.busy": "2021-08-28T00:46:16.086987Z",
     "iopub.status.idle": "2021-08-28T00:46:16.089104Z",
     "shell.execute_reply": "2021-08-28T00:46:16.089696Z"
    }
   },
   "outputs": [],
   "source": [
    "# data['current']"
   ]
  },
  {
   "cell_type": "code",
   "execution_count": 7,
   "metadata": {
    "execution": {
     "iopub.execute_input": "2021-08-28T00:46:16.115072Z",
     "iopub.status.busy": "2021-08-28T00:46:16.114413Z",
     "iopub.status.idle": "2021-08-28T00:46:16.569514Z",
     "shell.execute_reply": "2021-08-28T00:46:16.570342Z"
    }
   },
   "outputs": [
    {
     "data": {
      "image/png": "[encoded data removed]",
      "text/plain": [
       "<Figure size 216x216 with 1 Axes>"
      ]
     },
     "metadata": {
      "needs_background": "light"
     },
     "output_type": "display_data"
    },
    {
     "name": "stdout",
     "output_type": "stream",
     "text": [
      "Today, sun rises at 06:04 and sets at 18:44.\n",
      "Currently, the weather is Clouds (broken clouds).\n",
      "The temperature is 27.76°C and it feels like 31.51°C.\n",
      "The UV index is 3.83, humidity is 80%.\n",
      "The pressure is 1012 hPa, percentage of cloud cover is 62%\n",
      "The wind comes from E direction with a speed 4.94 m/s.\n"
     ]
    }
   ],
   "source": [
    "current = data['current']\r\n",
    "\r\n",
    "fig, ax = plt.subplots(figsize=(3, 3))\r\n",
    "icon = requests.get(f\"http://openweathermap.org/img/wn/{current['weather'][0]['icon']}@2x.png\")\r\n",
    "im = Image.open(BytesIO(icon.content))\r\n",
    "plt.imshow(im)\r\n",
    "ax.set_axis_off()\r\n",
    "plt.show()\r\n",
    "\r\n",
    "print(f\"Today, sun rises at {ts2dt(current['sunrise'], '%H:%M')[0]} \\\r\n",
    "and sets at {ts2dt(current['sunset'], '%H:%M')[0]}.\\n\\\r\n",
    "Currently, the weather is {current['weather'][0]['main']} ({current['weather'][0]['description']}).\\n\\\r\n",
    "The temperature is {current['temp']}°C and it feels like {current['feels_like']}°C.\\n\\\r\n",
    "The UV index is {current['uvi']}, humidity is {current['humidity']}%.\\n\\\r\n",
    "The pressure is {current['pressure']} hPa, percentage of cloud cover is {current['clouds']}%\\n\\\r\n",
    "The wind comes from {degrees_to_cardinal(current['wind_deg'])} direction with a speed {current['wind_speed']} m/s.\")"
   ]
  },
  {
   "cell_type": "code",
   "execution_count": 8,
   "metadata": {
    "execution": {
     "iopub.execute_input": "2021-08-28T00:46:16.574521Z",
     "iopub.status.busy": "2021-08-28T00:46:16.573288Z",
     "iopub.status.idle": "2021-08-28T00:46:16.582379Z",
     "shell.execute_reply": "2021-08-28T00:46:16.583171Z"
    }
   },
   "outputs": [],
   "source": [
    "df_hourly = pd.DataFrame(data['hourly'])\r\n",
    "df_daily = pd.DataFrame(data['daily'])"
   ]
  },
  {
   "cell_type": "code",
   "execution_count": 9,
   "metadata": {
    "execution": {
     "iopub.execute_input": "2021-08-28T00:46:16.586997Z",
     "iopub.status.busy": "2021-08-28T00:46:16.585733Z",
     "iopub.status.idle": "2021-08-28T00:46:16.940471Z",
     "shell.execute_reply": "2021-08-28T00:46:16.939855Z"
    }
   },
   "outputs": [
    {
     "data": {
      "image/png": "[encoded data removed]",
      "text/plain": [
       "<Figure size 864x432 with 1 Axes>"
      ]
     },
     "metadata": {
      "needs_background": "light"
     },
     "output_type": "display_data"
    }
   ],
   "source": [
    "fig, ax = plt.subplots(figsize=(12, 6))\r\n",
    "plt.plot(df_hourly.temp, '.-', label='Temperature')\r\n",
    "plt.plot(df_hourly.feels_like, '.-', label='Feels Like')\r\n",
    "ax.set(title='Temperature in future 48 hours', xlabel='Time', ylabel='Temperature')\r\n",
    "ax.set_xticks(list(range(0, len(df_hourly), 2)))\r\n",
    "ax.set_xticklabels([ts2dt(ts, '%m-%d %H:%M')[0] for i, ts in enumerate(df_hourly.dt) if i%2==0], \r\n",
    "                   rotation=45, ha=\"right\")\r\n",
    "ax.locator_params(nbins=15, axis='y')\r\n",
    "plt.legend()\r\n",
    "plt.show()"
   ]
  },
  {
   "cell_type": "code",
   "execution_count": 10,
   "metadata": {
    "execution": {
     "iopub.execute_input": "2021-08-28T00:46:16.955463Z",
     "iopub.status.busy": "2021-08-28T00:46:16.951124Z",
     "iopub.status.idle": "2021-08-28T00:46:16.970487Z",
     "shell.execute_reply": "2021-08-28T00:46:16.969858Z"
    }
   },
   "outputs": [
    {
     "data": {
      "text/html": [
       "<div>\n",
       "<style scoped>\n",
       "    .dataframe tbody tr th:only-of-type {\n",
       "        vertical-align: middle;\n",
       "    }\n",
       "\n",
       "    .dataframe tbody tr th {\n",
       "        vertical-align: top;\n",
       "    }\n",
       "\n",
       "    .dataframe thead th {\n",
       "        text-align: right;\n",
       "    }\n",
       "</style>\n",
       "<table border=\"1\" class=\"dataframe\">\n",
       "  <thead>\n",
       "    <tr style=\"text-align: right;\">\n",
       "      <th></th>\n",
       "      <th>dt</th>\n",
       "      <th>temp</th>\n",
       "      <th>feels_like</th>\n",
       "      <th>pressure</th>\n",
       "      <th>humidity</th>\n",
       "      <th>dew_point</th>\n",
       "      <th>uvi</th>\n",
       "      <th>clouds</th>\n",
       "      <th>visibility</th>\n",
       "      <th>wind_speed</th>\n",
       "      <th>wind_deg</th>\n",
       "      <th>wind_gust</th>\n",
       "      <th>weather</th>\n",
       "      <th>pop</th>\n",
       "      <th>rain</th>\n",
       "    </tr>\n",
       "  </thead>\n",
       "  <tbody>\n",
       "    <tr>\n",
       "      <th>0</th>\n",
       "      <td>1630108800</td>\n",
       "      <td>27.69</td>\n",
       "      <td>31.47</td>\n",
       "      <td>1012</td>\n",
       "      <td>81</td>\n",
       "      <td>24.13</td>\n",
       "      <td>1.55</td>\n",
       "      <td>61</td>\n",
       "      <td>10000</td>\n",
       "      <td>4.79</td>\n",
       "      <td>73</td>\n",
       "      <td>6.24</td>\n",
       "      <td>[{'id': 500, 'main': 'Rain', 'description': 'l...</td>\n",
       "      <td>0.77</td>\n",
       "      <td>{'1h': 0.2}</td>\n",
       "    </tr>\n",
       "    <tr>\n",
       "      <th>1</th>\n",
       "      <td>1630112400</td>\n",
       "      <td>27.76</td>\n",
       "      <td>31.51</td>\n",
       "      <td>1012</td>\n",
       "      <td>80</td>\n",
       "      <td>23.99</td>\n",
       "      <td>3.83</td>\n",
       "      <td>62</td>\n",
       "      <td>10000</td>\n",
       "      <td>4.94</td>\n",
       "      <td>82</td>\n",
       "      <td>6.50</td>\n",
       "      <td>[{'id': 803, 'main': 'Clouds', 'description': ...</td>\n",
       "      <td>0.71</td>\n",
       "      <td>NaN</td>\n",
       "    </tr>\n",
       "    <tr>\n",
       "      <th>2</th>\n",
       "      <td>1630116000</td>\n",
       "      <td>27.93</td>\n",
       "      <td>31.63</td>\n",
       "      <td>1012</td>\n",
       "      <td>78</td>\n",
       "      <td>23.74</td>\n",
       "      <td>6.83</td>\n",
       "      <td>62</td>\n",
       "      <td>10000</td>\n",
       "      <td>5.13</td>\n",
       "      <td>89</td>\n",
       "      <td>6.77</td>\n",
       "      <td>[{'id': 803, 'main': 'Clouds', 'description': ...</td>\n",
       "      <td>0.68</td>\n",
       "      <td>NaN</td>\n",
       "    </tr>\n",
       "    <tr>\n",
       "      <th>3</th>\n",
       "      <td>1630119600</td>\n",
       "      <td>28.44</td>\n",
       "      <td>32.18</td>\n",
       "      <td>1012</td>\n",
       "      <td>74</td>\n",
       "      <td>23.35</td>\n",
       "      <td>9.59</td>\n",
       "      <td>60</td>\n",
       "      <td>10000</td>\n",
       "      <td>5.14</td>\n",
       "      <td>91</td>\n",
       "      <td>6.78</td>\n",
       "      <td>[{'id': 803, 'main': 'Clouds', 'description': ...</td>\n",
       "      <td>0.68</td>\n",
       "      <td>NaN</td>\n",
       "    </tr>\n",
       "    <tr>\n",
       "      <th>4</th>\n",
       "      <td>1630123200</td>\n",
       "      <td>29.10</td>\n",
       "      <td>32.76</td>\n",
       "      <td>1012</td>\n",
       "      <td>69</td>\n",
       "      <td>22.83</td>\n",
       "      <td>11.73</td>\n",
       "      <td>56</td>\n",
       "      <td>10000</td>\n",
       "      <td>5.47</td>\n",
       "      <td>89</td>\n",
       "      <td>6.86</td>\n",
       "      <td>[{'id': 803, 'main': 'Clouds', 'description': ...</td>\n",
       "      <td>0.72</td>\n",
       "      <td>NaN</td>\n",
       "    </tr>\n",
       "  </tbody>\n",
       "</table>\n",
       "</div>"
      ],
      "text/plain": [
       "           dt   temp  feels_like  pressure  humidity  dew_point    uvi  \\\n",
       "0  1630108800  27.69       31.47      1012        81      24.13   1.55   \n",
       "1  1630112400  27.76       31.51      1012        80      23.99   3.83   \n",
       "2  1630116000  27.93       31.63      1012        78      23.74   6.83   \n",
       "3  1630119600  28.44       32.18      1012        74      23.35   9.59   \n",
       "4  1630123200  29.10       32.76      1012        69      22.83  11.73   \n",
       "\n",
       "   clouds  visibility  wind_speed  wind_deg  wind_gust  \\\n",
       "0      61       10000        4.79        73       6.24   \n",
       "1      62       10000        4.94        82       6.50   \n",
       "2      62       10000        5.13        89       6.77   \n",
       "3      60       10000        5.14        91       6.78   \n",
       "4      56       10000        5.47        89       6.86   \n",
       "\n",
       "                                             weather   pop         rain  \n",
       "0  [{'id': 500, 'main': 'Rain', 'description': 'l...  0.77  {'1h': 0.2}  \n",
       "1  [{'id': 803, 'main': 'Clouds', 'description': ...  0.71          NaN  \n",
       "2  [{'id': 803, 'main': 'Clouds', 'description': ...  0.68          NaN  \n",
       "3  [{'id': 803, 'main': 'Clouds', 'description': ...  0.68          NaN  \n",
       "4  [{'id': 803, 'main': 'Clouds', 'description': ...  0.72          NaN  "
      ]
     },
     "execution_count": 10,
     "metadata": {},
     "output_type": "execute_result"
    }
   ],
   "source": [
    "df_hourly.head()"
   ]
  },
  {
   "cell_type": "code",
   "execution_count": null,
   "metadata": {},
   "outputs": [],
   "source": []
  }
 ],
 "metadata": {
  "interpreter": {
   "hash": "c1b4cfe941b6d2466ad1fb5979e97da9cda8801728c8091b097ab734208fc00c"
  },
  "kernelspec": {
   "display_name": "Python 3.8.3 64-bit ('base': conda)",
   "name": "python3"
  },
  "language_info": {
   "codemirror_mode": {
    "name": "ipython",
    "version": 3
   },
   "file_extension": ".py",
   "mimetype": "text/x-python",
   "name": "python",
   "nbconvert_exporter": "python",
   "pygments_lexer": "ipython3",
   "version": "3.8.11"
  }
 },
 "nbformat": 4,
 "nbformat_minor": 2
}
