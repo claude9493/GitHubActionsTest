{
 "cells": [
  {
   "cell_type": "code",
   "execution_count": 1,
   "metadata": {
    "execution": {
     "iopub.execute_input": "2021-09-27T06:14:26.179884Z",
     "iopub.status.busy": "2021-09-27T06:14:26.179226Z",
     "iopub.status.idle": "2021-09-27T06:14:27.911918Z",
     "shell.execute_reply": "2021-09-27T06:14:27.911218Z"
    }
   },
   "outputs": [],
   "source": [
    "import json, yaml, requests\r\n",
    "from datetime import datetime\r\n",
    "from dateutil import tz\r\n",
    "import pandas as pd\r\n",
    "from PIL import Image\r\n",
    "from io import BytesIO\r\n",
    "import matplotlib.pyplot as plt\r\n",
    "import seaborn\r\n",
    "\r\n",
    "CONFIG_PATH = \"../config/config.yaml\""
   ]
  },
  {
   "cell_type": "code",
   "execution_count": 2,
   "metadata": {
    "execution": {
     "iopub.execute_input": "2021-09-27T06:14:27.917577Z",
     "iopub.status.busy": "2021-09-27T06:14:27.917001Z",
     "iopub.status.idle": "2021-09-27T06:14:27.923888Z",
     "shell.execute_reply": "2021-09-27T06:14:27.924352Z"
    }
   },
   "outputs": [],
   "source": [
    "with open('../newest_ts', 'r') as f:\r\n",
    "    newest_ts = f.read()\r\n",
    "\r\n",
    "data_path = f\"../data/data_{newest_ts}.json\"\r\n",
    "with open(data_path, 'r') as f:\r\n",
    "    data = json.load(f)\r\n",
    "\r\n",
    "with open(CONFIG_PATH, \"r\") as stream:\r\n",
    "    config = yaml.safe_load(stream)\r\n",
    "\r\n",
    "TIME_ZONE = config['time_zone']\r\n",
    "DATETIME_FORMAT = config['dt_format']"
   ]
  },
  {
   "cell_type": "code",
   "execution_count": 3,
   "metadata": {
    "execution": {
     "iopub.execute_input": "2021-09-27T06:14:27.930081Z",
     "iopub.status.busy": "2021-09-27T06:14:27.929321Z",
     "iopub.status.idle": "2021-09-27T06:14:27.954272Z",
     "shell.execute_reply": "2021-09-27T06:14:27.954771Z"
    }
   },
   "outputs": [
    {
     "name": "stdout",
     "output_type": "stream",
     "text": [
      "Recent query happens at 2021-09-27 14:14:21 (CST).\n"
     ]
    }
   ],
   "source": [
    "def ts2dt(ts, format=DATETIME_FORMAT):\r\n",
    "    dt = (datetime.utcfromtimestamp(int(ts))\r\n",
    "                    .replace(tzinfo=tz.tzutc())\r\n",
    "                    # .astimezone(tz.tzlocal())\r\n",
    "                    .astimezone(tz.gettz(TIME_ZONE)))\r\n",
    "    return dt.strftime(format), dt\r\n",
    "\r\n",
    "_, newest_dt = ts2dt(newest_ts)\r\n",
    "print(f\"Recent query happens at {newest_dt.strftime(DATETIME_FORMAT)} ({newest_dt.tzname()}).\")"
   ]
  },
  {
   "cell_type": "code",
   "execution_count": 4,
   "metadata": {
    "execution": {
     "iopub.execute_input": "2021-09-27T06:14:27.961946Z",
     "iopub.status.busy": "2021-09-27T06:14:27.960171Z",
     "iopub.status.idle": "2021-09-27T06:14:27.962566Z",
     "shell.execute_reply": "2021-09-27T06:14:27.963082Z"
    }
   },
   "outputs": [],
   "source": [
    "def degrees_to_cardinal(d):\r\n",
    "  dirs = ['N', 'NNE', 'NE', 'ENE', 'E', 'ESE', 'SE', 'SSE', 'S', 'SSW', 'SW', 'WSW', 'W', 'WNW', 'NW', 'NNW']\r\n",
    "  ix = int(round(d / (360. / len(dirs))))\r\n",
    "  return dirs[ix % len(dirs)]"
   ]
  },
  {
   "cell_type": "code",
   "execution_count": 5,
   "metadata": {
    "execution": {
     "iopub.execute_input": "2021-09-27T06:14:27.968405Z",
     "iopub.status.busy": "2021-09-27T06:14:27.966893Z",
     "iopub.status.idle": "2021-09-27T06:14:27.969125Z",
     "shell.execute_reply": "2021-09-27T06:14:27.969649Z"
    }
   },
   "outputs": [],
   "source": [
    "# data.keys()"
   ]
  },
  {
   "cell_type": "code",
   "execution_count": 6,
   "metadata": {
    "execution": {
     "iopub.execute_input": "2021-09-27T06:14:27.973537Z",
     "iopub.status.busy": "2021-09-27T06:14:27.972957Z",
     "iopub.status.idle": "2021-09-27T06:14:27.977538Z",
     "shell.execute_reply": "2021-09-27T06:14:27.976895Z"
    }
   },
   "outputs": [],
   "source": [
    "# data['current']"
   ]
  },
  {
   "cell_type": "code",
   "execution_count": 7,
   "metadata": {
    "execution": {
     "iopub.execute_input": "2021-09-27T06:14:27.999226Z",
     "iopub.status.busy": "2021-09-27T06:14:27.998549Z",
     "iopub.status.idle": "2021-09-27T06:14:28.616813Z",
     "shell.execute_reply": "2021-09-27T06:14:28.620937Z"
    }
   },
   "outputs": [
    {
     "data": {
      "image/png": "[encoded data removed]",
      "text/plain": [
       "<Figure size 216x216 with 1 Axes>"
      ]
     },
     "metadata": {
      "needs_background": "light"
     },
     "output_type": "display_data"
    },
    {
     "name": "stdout",
     "output_type": "stream",
     "text": [
      "Today, sun rises at 06:13 and sets at 18:14.\n",
      "Currently, the weather is Clouds (scattered clouds).\n",
      "The temperature is 30.84°C and it feels like 37.84°C.\n",
      "The UV index is 7.5, humidity is 77%.\n",
      "The pressure is 1009 hPa, percentage of cloud cover is 40%\n",
      "The wind comes from WSW direction with a speed 0.89 m/s.\n"
     ]
    }
   ],
   "source": [
    "current = data['current']\r\n",
    "\r\n",
    "fig, ax = plt.subplots(figsize=(3, 3))\r\n",
    "icon = requests.get(f\"http://openweathermap.org/img/wn/{current['weather'][0]['icon']}@2x.png\")\r\n",
    "im = Image.open(BytesIO(icon.content))\r\n",
    "plt.imshow(im)\r\n",
    "ax.set_axis_off()\r\n",
    "plt.show()\r\n",
    "\r\n",
    "print(f\"Today, sun rises at {ts2dt(current['sunrise'], '%H:%M')[0]} \\\r\n",
    "and sets at {ts2dt(current['sunset'], '%H:%M')[0]}.\\n\\\r\n",
    "Currently, the weather is {current['weather'][0]['main']} ({current['weather'][0]['description']}).\\n\\\r\n",
    "The temperature is {current['temp']}°C and it feels like {current['feels_like']}°C.\\n\\\r\n",
    "The UV index is {current['uvi']}, humidity is {current['humidity']}%.\\n\\\r\n",
    "The pressure is {current['pressure']} hPa, percentage of cloud cover is {current['clouds']}%\\n\\\r\n",
    "The wind comes from {degrees_to_cardinal(current['wind_deg'])} direction with a speed {current['wind_speed']} m/s.\")"
   ]
  },
  {
   "cell_type": "code",
   "execution_count": 8,
   "metadata": {
    "execution": {
     "iopub.execute_input": "2021-09-27T06:14:28.625240Z",
     "iopub.status.busy": "2021-09-27T06:14:28.624021Z",
     "iopub.status.idle": "2021-09-27T06:14:28.636737Z",
     "shell.execute_reply": "2021-09-27T06:14:28.637651Z"
    }
   },
   "outputs": [],
   "source": [
    "df_hourly = pd.DataFrame(data['hourly'])\r\n",
    "df_daily = pd.DataFrame(data['daily'])"
   ]
  },
  {
   "cell_type": "code",
   "execution_count": 9,
   "metadata": {
    "execution": {
     "iopub.execute_input": "2021-09-27T06:14:28.641946Z",
     "iopub.status.busy": "2021-09-27T06:14:28.640715Z",
     "iopub.status.idle": "2021-09-27T06:14:29.002027Z",
     "shell.execute_reply": "2021-09-27T06:14:29.001192Z"
    }
   },
   "outputs": [
    {
     "data": {
      "image/png": "[encoded data removed]",
      "text/plain": [
       "<Figure size 864x432 with 1 Axes>"
      ]
     },
     "metadata": {
      "needs_background": "light"
     },
     "output_type": "display_data"
    }
   ],
   "source": [
    "fig, ax = plt.subplots(figsize=(12, 6))\r\n",
    "plt.plot(df_hourly.temp, '.-', label='Temperature')\r\n",
    "plt.plot(df_hourly.feels_like, '.-', label='Feels Like')\r\n",
    "ax.set(title='Temperature in future 48 hours', xlabel='Time', ylabel='Temperature')\r\n",
    "ax.set_xticks(list(range(0, len(df_hourly), 2)))\r\n",
    "ax.set_xticklabels([ts2dt(ts, '%m-%d %H:%M')[0] for i, ts in enumerate(df_hourly.dt) if i%2==0], \r\n",
    "                   rotation=45, ha=\"right\")\r\n",
    "ax.locator_params(nbins=15, axis='y')\r\n",
    "plt.legend()\r\n",
    "plt.show()"
   ]
  },
  {
   "cell_type": "code",
   "execution_count": 10,
   "metadata": {
    "execution": {
     "iopub.execute_input": "2021-09-27T06:14:29.015439Z",
     "iopub.status.busy": "2021-09-27T06:14:29.006638Z",
     "iopub.status.idle": "2021-09-27T06:14:29.028392Z",
     "shell.execute_reply": "2021-09-27T06:14:29.029325Z"
    }
   },
   "outputs": [
    {
     "data": {
      "text/html": [
       "<div>\n",
       "<style scoped>\n",
       "    .dataframe tbody tr th:only-of-type {\n",
       "        vertical-align: middle;\n",
       "    }\n",
       "\n",
       "    .dataframe tbody tr th {\n",
       "        vertical-align: top;\n",
       "    }\n",
       "\n",
       "    .dataframe thead th {\n",
       "        text-align: right;\n",
       "    }\n",
       "</style>\n",
       "<table border=\"1\" class=\"dataframe\">\n",
       "  <thead>\n",
       "    <tr style=\"text-align: right;\">\n",
       "      <th></th>\n",
       "      <th>dt</th>\n",
       "      <th>temp</th>\n",
       "      <th>feels_like</th>\n",
       "      <th>pressure</th>\n",
       "      <th>humidity</th>\n",
       "      <th>dew_point</th>\n",
       "      <th>uvi</th>\n",
       "      <th>clouds</th>\n",
       "      <th>visibility</th>\n",
       "      <th>wind_speed</th>\n",
       "      <th>wind_deg</th>\n",
       "      <th>wind_gust</th>\n",
       "      <th>weather</th>\n",
       "      <th>pop</th>\n",
       "    </tr>\n",
       "  </thead>\n",
       "  <tbody>\n",
       "    <tr>\n",
       "      <th>0</th>\n",
       "      <td>1632722400</td>\n",
       "      <td>30.84</td>\n",
       "      <td>37.84</td>\n",
       "      <td>1009</td>\n",
       "      <td>77</td>\n",
       "      <td>26.34</td>\n",
       "      <td>7.50</td>\n",
       "      <td>40</td>\n",
       "      <td>10000</td>\n",
       "      <td>4.20</td>\n",
       "      <td>107</td>\n",
       "      <td>3.76</td>\n",
       "      <td>[{'id': 802, 'main': 'Clouds', 'description': ...</td>\n",
       "      <td>0</td>\n",
       "    </tr>\n",
       "    <tr>\n",
       "      <th>1</th>\n",
       "      <td>1632726000</td>\n",
       "      <td>30.49</td>\n",
       "      <td>37.38</td>\n",
       "      <td>1009</td>\n",
       "      <td>74</td>\n",
       "      <td>25.33</td>\n",
       "      <td>5.23</td>\n",
       "      <td>39</td>\n",
       "      <td>10000</td>\n",
       "      <td>3.94</td>\n",
       "      <td>114</td>\n",
       "      <td>3.32</td>\n",
       "      <td>[{'id': 802, 'main': 'Clouds', 'description': ...</td>\n",
       "      <td>0</td>\n",
       "    </tr>\n",
       "    <tr>\n",
       "      <th>2</th>\n",
       "      <td>1632729600</td>\n",
       "      <td>30.10</td>\n",
       "      <td>35.79</td>\n",
       "      <td>1009</td>\n",
       "      <td>72</td>\n",
       "      <td>24.49</td>\n",
       "      <td>2.58</td>\n",
       "      <td>35</td>\n",
       "      <td>10000</td>\n",
       "      <td>3.67</td>\n",
       "      <td>117</td>\n",
       "      <td>3.00</td>\n",
       "      <td>[{'id': 802, 'main': 'Clouds', 'description': ...</td>\n",
       "      <td>0</td>\n",
       "    </tr>\n",
       "    <tr>\n",
       "      <th>3</th>\n",
       "      <td>1632733200</td>\n",
       "      <td>29.47</td>\n",
       "      <td>34.00</td>\n",
       "      <td>1009</td>\n",
       "      <td>71</td>\n",
       "      <td>23.66</td>\n",
       "      <td>0.81</td>\n",
       "      <td>28</td>\n",
       "      <td>10000</td>\n",
       "      <td>3.42</td>\n",
       "      <td>119</td>\n",
       "      <td>2.95</td>\n",
       "      <td>[{'id': 802, 'main': 'Clouds', 'description': ...</td>\n",
       "      <td>0</td>\n",
       "    </tr>\n",
       "    <tr>\n",
       "      <th>4</th>\n",
       "      <td>1632736800</td>\n",
       "      <td>28.46</td>\n",
       "      <td>31.90</td>\n",
       "      <td>1009</td>\n",
       "      <td>72</td>\n",
       "      <td>22.92</td>\n",
       "      <td>0.00</td>\n",
       "      <td>20</td>\n",
       "      <td>10000</td>\n",
       "      <td>3.09</td>\n",
       "      <td>121</td>\n",
       "      <td>3.05</td>\n",
       "      <td>[{'id': 801, 'main': 'Clouds', 'description': ...</td>\n",
       "      <td>0</td>\n",
       "    </tr>\n",
       "  </tbody>\n",
       "</table>\n",
       "</div>"
      ],
      "text/plain": [
       "           dt   temp  feels_like  pressure  humidity  dew_point   uvi  clouds  \\\n",
       "0  1632722400  30.84       37.84      1009        77      26.34  7.50      40   \n",
       "1  1632726000  30.49       37.38      1009        74      25.33  5.23      39   \n",
       "2  1632729600  30.10       35.79      1009        72      24.49  2.58      35   \n",
       "3  1632733200  29.47       34.00      1009        71      23.66  0.81      28   \n",
       "4  1632736800  28.46       31.90      1009        72      22.92  0.00      20   \n",
       "\n",
       "   visibility  wind_speed  wind_deg  wind_gust  \\\n",
       "0       10000        4.20       107       3.76   \n",
       "1       10000        3.94       114       3.32   \n",
       "2       10000        3.67       117       3.00   \n",
       "3       10000        3.42       119       2.95   \n",
       "4       10000        3.09       121       3.05   \n",
       "\n",
       "                                             weather  pop  \n",
       "0  [{'id': 802, 'main': 'Clouds', 'description': ...    0  \n",
       "1  [{'id': 802, 'main': 'Clouds', 'description': ...    0  \n",
       "2  [{'id': 802, 'main': 'Clouds', 'description': ...    0  \n",
       "3  [{'id': 802, 'main': 'Clouds', 'description': ...    0  \n",
       "4  [{'id': 801, 'main': 'Clouds', 'description': ...    0  "
      ]
     },
     "execution_count": 10,
     "metadata": {},
     "output_type": "execute_result"
    }
   ],
   "source": [
    "df_hourly.head()"
   ]
  },
  {
   "cell_type": "code",
   "execution_count": null,
   "metadata": {},
   "outputs": [],
   "source": []
  }
 ],
 "metadata": {
  "interpreter": {
   "hash": "c1b4cfe941b6d2466ad1fb5979e97da9cda8801728c8091b097ab734208fc00c"
  },
  "kernelspec": {
   "display_name": "Python 3.8.3 64-bit ('base': conda)",
   "name": "python3"
  },
  "language_info": {
   "codemirror_mode": {
    "name": "ipython",
    "version": 3
   },
   "file_extension": ".py",
   "mimetype": "text/x-python",
   "name": "python",
   "nbconvert_exporter": "python",
   "pygments_lexer": "ipython3",
   "version": "3.8.12"
  }
 },
 "nbformat": 4,
 "nbformat_minor": 2
}
