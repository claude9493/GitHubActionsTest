{
 "cells": [
  {
   "cell_type": "code",
   "execution_count": 1,
   "metadata": {
    "execution": {
     "iopub.execute_input": "2021-09-12T06:18:02.351754Z",
     "iopub.status.busy": "2021-09-12T06:18:02.349480Z",
     "iopub.status.idle": "2021-09-12T06:18:05.169080Z",
     "shell.execute_reply": "2021-09-12T06:18:05.169561Z"
    }
   },
   "outputs": [],
   "source": [
    "import json, yaml, requests\r\n",
    "from datetime import datetime\r\n",
    "from dateutil import tz\r\n",
    "import pandas as pd\r\n",
    "from PIL import Image\r\n",
    "from io import BytesIO\r\n",
    "import matplotlib.pyplot as plt\r\n",
    "import seaborn\r\n",
    "\r\n",
    "CONFIG_PATH = \"../config/config.yaml\""
   ]
  },
  {
   "cell_type": "code",
   "execution_count": 2,
   "metadata": {
    "execution": {
     "iopub.execute_input": "2021-09-12T06:18:05.177830Z",
     "iopub.status.busy": "2021-09-12T06:18:05.174474Z",
     "iopub.status.idle": "2021-09-12T06:18:05.180769Z",
     "shell.execute_reply": "2021-09-12T06:18:05.180313Z"
    }
   },
   "outputs": [],
   "source": [
    "with open('../newest_ts', 'r') as f:\r\n",
    "    newest_ts = f.read()\r\n",
    "\r\n",
    "data_path = f\"../data/data_{newest_ts}.json\"\r\n",
    "with open(data_path, 'r') as f:\r\n",
    "    data = json.load(f)\r\n",
    "\r\n",
    "with open(CONFIG_PATH, \"r\") as stream:\r\n",
    "    config = yaml.safe_load(stream)\r\n",
    "\r\n",
    "TIME_ZONE = config['time_zone']\r\n",
    "DATETIME_FORMAT = config['dt_format']"
   ]
  },
  {
   "cell_type": "code",
   "execution_count": 3,
   "metadata": {
    "execution": {
     "iopub.execute_input": "2021-09-12T06:18:05.185660Z",
     "iopub.status.busy": "2021-09-12T06:18:05.185120Z",
     "iopub.status.idle": "2021-09-12T06:18:05.195022Z",
     "shell.execute_reply": "2021-09-12T06:18:05.195466Z"
    }
   },
   "outputs": [
    {
     "name": "stdout",
     "output_type": "stream",
     "text": [
      "Recent query happens at 2021-09-12 14:17:59 (CST).\n"
     ]
    }
   ],
   "source": [
    "def ts2dt(ts, format=DATETIME_FORMAT):\r\n",
    "    dt = (datetime.utcfromtimestamp(int(ts))\r\n",
    "                    .replace(tzinfo=tz.tzutc())\r\n",
    "                    # .astimezone(tz.tzlocal())\r\n",
    "                    .astimezone(tz.gettz(TIME_ZONE)))\r\n",
    "    return dt.strftime(format), dt\r\n",
    "\r\n",
    "_, newest_dt = ts2dt(newest_ts)\r\n",
    "print(f\"Recent query happens at {newest_dt.strftime(DATETIME_FORMAT)} ({newest_dt.tzname()}).\")"
   ]
  },
  {
   "cell_type": "code",
   "execution_count": 4,
   "metadata": {
    "execution": {
     "iopub.execute_input": "2021-09-12T06:18:05.200835Z",
     "iopub.status.busy": "2021-09-12T06:18:05.199533Z",
     "iopub.status.idle": "2021-09-12T06:18:05.201443Z",
     "shell.execute_reply": "2021-09-12T06:18:05.202016Z"
    }
   },
   "outputs": [],
   "source": [
    "def degrees_to_cardinal(d):\r\n",
    "  dirs = ['N', 'NNE', 'NE', 'ENE', 'E', 'ESE', 'SE', 'SSE', 'S', 'SSW', 'SW', 'WSW', 'W', 'WNW', 'NW', 'NNW']\r\n",
    "  ix = int(round(d / (360. / len(dirs))))\r\n",
    "  return dirs[ix % len(dirs)]"
   ]
  },
  {
   "cell_type": "code",
   "execution_count": 5,
   "metadata": {
    "execution": {
     "iopub.execute_input": "2021-09-12T06:18:05.206699Z",
     "iopub.status.busy": "2021-09-12T06:18:05.205397Z",
     "iopub.status.idle": "2021-09-12T06:18:05.207290Z",
     "shell.execute_reply": "2021-09-12T06:18:05.207747Z"
    }
   },
   "outputs": [],
   "source": [
    "# data.keys()"
   ]
  },
  {
   "cell_type": "code",
   "execution_count": 6,
   "metadata": {
    "execution": {
     "iopub.execute_input": "2021-09-12T06:18:05.212380Z",
     "iopub.status.busy": "2021-09-12T06:18:05.210687Z",
     "iopub.status.idle": "2021-09-12T06:18:05.212972Z",
     "shell.execute_reply": "2021-09-12T06:18:05.213395Z"
    }
   },
   "outputs": [],
   "source": [
    "# data['current']"
   ]
  },
  {
   "cell_type": "code",
   "execution_count": 7,
   "metadata": {
    "execution": {
     "iopub.execute_input": "2021-09-12T06:18:05.233661Z",
     "iopub.status.busy": "2021-09-12T06:18:05.233071Z",
     "iopub.status.idle": "2021-09-12T06:18:05.664635Z",
     "shell.execute_reply": "2021-09-12T06:18:05.665354Z"
    }
   },
   "outputs": [
    {
     "data": {
      "image/png": "[encoded data removed]",
      "text/plain": [
       "<Figure size 216x216 with 1 Axes>"
      ]
     },
     "metadata": {
      "needs_background": "light"
     },
     "output_type": "display_data"
    },
    {
     "name": "stdout",
     "output_type": "stream",
     "text": [
      "Today, sun rises at 06:08 and sets at 18:30.\n",
      "Currently, the weather is Clouds (broken clouds).\n",
      "The temperature is 34.75°C and it feels like 41.75°C.\n",
      "The UV index is 9.02, humidity is 65%.\n",
      "The pressure is 1000 hPa, percentage of cloud cover is 83%\n",
      "The wind comes from WSW direction with a speed 4.18 m/s.\n"
     ]
    }
   ],
   "source": [
    "current = data['current']\r\n",
    "\r\n",
    "fig, ax = plt.subplots(figsize=(3, 3))\r\n",
    "icon = requests.get(f\"http://openweathermap.org/img/wn/{current['weather'][0]['icon']}@2x.png\")\r\n",
    "im = Image.open(BytesIO(icon.content))\r\n",
    "plt.imshow(im)\r\n",
    "ax.set_axis_off()\r\n",
    "plt.show()\r\n",
    "\r\n",
    "print(f\"Today, sun rises at {ts2dt(current['sunrise'], '%H:%M')[0]} \\\r\n",
    "and sets at {ts2dt(current['sunset'], '%H:%M')[0]}.\\n\\\r\n",
    "Currently, the weather is {current['weather'][0]['main']} ({current['weather'][0]['description']}).\\n\\\r\n",
    "The temperature is {current['temp']}°C and it feels like {current['feels_like']}°C.\\n\\\r\n",
    "The UV index is {current['uvi']}, humidity is {current['humidity']}%.\\n\\\r\n",
    "The pressure is {current['pressure']} hPa, percentage of cloud cover is {current['clouds']}%\\n\\\r\n",
    "The wind comes from {degrees_to_cardinal(current['wind_deg'])} direction with a speed {current['wind_speed']} m/s.\")"
   ]
  },
  {
   "cell_type": "code",
   "execution_count": 8,
   "metadata": {
    "execution": {
     "iopub.execute_input": "2021-09-12T06:18:05.669425Z",
     "iopub.status.busy": "2021-09-12T06:18:05.668389Z",
     "iopub.status.idle": "2021-09-12T06:18:05.675855Z",
     "shell.execute_reply": "2021-09-12T06:18:05.676755Z"
    }
   },
   "outputs": [],
   "source": [
    "df_hourly = pd.DataFrame(data['hourly'])\r\n",
    "df_daily = pd.DataFrame(data['daily'])"
   ]
  },
  {
   "cell_type": "code",
   "execution_count": 9,
   "metadata": {
    "execution": {
     "iopub.execute_input": "2021-09-12T06:18:05.680126Z",
     "iopub.status.busy": "2021-09-12T06:18:05.679167Z",
     "iopub.status.idle": "2021-09-12T06:18:05.978316Z",
     "shell.execute_reply": "2021-09-12T06:18:05.977781Z"
    }
   },
   "outputs": [
    {
     "data": {
      "image/png": "[encoded data removed]",
      "text/plain": [
       "<Figure size 864x432 with 1 Axes>"
      ]
     },
     "metadata": {
      "needs_background": "light"
     },
     "output_type": "display_data"
    }
   ],
   "source": [
    "fig, ax = plt.subplots(figsize=(12, 6))\r\n",
    "plt.plot(df_hourly.temp, '.-', label='Temperature')\r\n",
    "plt.plot(df_hourly.feels_like, '.-', label='Feels Like')\r\n",
    "ax.set(title='Temperature in future 48 hours', xlabel='Time', ylabel='Temperature')\r\n",
    "ax.set_xticks(list(range(0, len(df_hourly), 2)))\r\n",
    "ax.set_xticklabels([ts2dt(ts, '%m-%d %H:%M')[0] for i, ts in enumerate(df_hourly.dt) if i%2==0], \r\n",
    "                   rotation=45, ha=\"right\")\r\n",
    "ax.locator_params(nbins=15, axis='y')\r\n",
    "plt.legend()\r\n",
    "plt.show()"
   ]
  },
  {
   "cell_type": "code",
   "execution_count": 10,
   "metadata": {
    "execution": {
     "iopub.execute_input": "2021-09-12T06:18:05.991786Z",
     "iopub.status.busy": "2021-09-12T06:18:05.982620Z",
     "iopub.status.idle": "2021-09-12T06:18:06.004043Z",
     "shell.execute_reply": "2021-09-12T06:18:06.004493Z"
    }
   },
   "outputs": [
    {
     "data": {
      "text/html": [
       "<div>\n",
       "<style scoped>\n",
       "    .dataframe tbody tr th:only-of-type {\n",
       "        vertical-align: middle;\n",
       "    }\n",
       "\n",
       "    .dataframe tbody tr th {\n",
       "        vertical-align: top;\n",
       "    }\n",
       "\n",
       "    .dataframe thead th {\n",
       "        text-align: right;\n",
       "    }\n",
       "</style>\n",
       "<table border=\"1\" class=\"dataframe\">\n",
       "  <thead>\n",
       "    <tr style=\"text-align: right;\">\n",
       "      <th></th>\n",
       "      <th>dt</th>\n",
       "      <th>temp</th>\n",
       "      <th>feels_like</th>\n",
       "      <th>pressure</th>\n",
       "      <th>humidity</th>\n",
       "      <th>dew_point</th>\n",
       "      <th>uvi</th>\n",
       "      <th>clouds</th>\n",
       "      <th>visibility</th>\n",
       "      <th>wind_speed</th>\n",
       "      <th>wind_deg</th>\n",
       "      <th>wind_gust</th>\n",
       "      <th>weather</th>\n",
       "      <th>pop</th>\n",
       "      <th>rain</th>\n",
       "    </tr>\n",
       "  </thead>\n",
       "  <tbody>\n",
       "    <tr>\n",
       "      <th>0</th>\n",
       "      <td>1631426400</td>\n",
       "      <td>34.75</td>\n",
       "      <td>41.75</td>\n",
       "      <td>1000</td>\n",
       "      <td>65</td>\n",
       "      <td>27.19</td>\n",
       "      <td>9.02</td>\n",
       "      <td>83</td>\n",
       "      <td>10000</td>\n",
       "      <td>4.18</td>\n",
       "      <td>237</td>\n",
       "      <td>4.52</td>\n",
       "      <td>[{'id': 803, 'main': 'Clouds', 'description': ...</td>\n",
       "      <td>0.41</td>\n",
       "      <td>NaN</td>\n",
       "    </tr>\n",
       "    <tr>\n",
       "      <th>1</th>\n",
       "      <td>1631430000</td>\n",
       "      <td>34.20</td>\n",
       "      <td>41.20</td>\n",
       "      <td>1000</td>\n",
       "      <td>66</td>\n",
       "      <td>26.93</td>\n",
       "      <td>4.04</td>\n",
       "      <td>86</td>\n",
       "      <td>10000</td>\n",
       "      <td>4.04</td>\n",
       "      <td>227</td>\n",
       "      <td>4.45</td>\n",
       "      <td>[{'id': 500, 'main': 'Rain', 'description': 'l...</td>\n",
       "      <td>0.24</td>\n",
       "      <td>{'1h': 0.1}</td>\n",
       "    </tr>\n",
       "    <tr>\n",
       "      <th>2</th>\n",
       "      <td>1631433600</td>\n",
       "      <td>33.41</td>\n",
       "      <td>40.41</td>\n",
       "      <td>1000</td>\n",
       "      <td>67</td>\n",
       "      <td>26.44</td>\n",
       "      <td>2.06</td>\n",
       "      <td>89</td>\n",
       "      <td>10000</td>\n",
       "      <td>3.31</td>\n",
       "      <td>213</td>\n",
       "      <td>3.71</td>\n",
       "      <td>[{'id': 500, 'main': 'Rain', 'description': 'l...</td>\n",
       "      <td>0.24</td>\n",
       "      <td>{'1h': 0.32}</td>\n",
       "    </tr>\n",
       "    <tr>\n",
       "      <th>3</th>\n",
       "      <td>1631437200</td>\n",
       "      <td>32.43</td>\n",
       "      <td>39.43</td>\n",
       "      <td>1000</td>\n",
       "      <td>70</td>\n",
       "      <td>26.25</td>\n",
       "      <td>0.69</td>\n",
       "      <td>93</td>\n",
       "      <td>10000</td>\n",
       "      <td>2.67</td>\n",
       "      <td>216</td>\n",
       "      <td>3.03</td>\n",
       "      <td>[{'id': 804, 'main': 'Clouds', 'description': ...</td>\n",
       "      <td>0.04</td>\n",
       "      <td>NaN</td>\n",
       "    </tr>\n",
       "    <tr>\n",
       "      <th>4</th>\n",
       "      <td>1631440800</td>\n",
       "      <td>31.35</td>\n",
       "      <td>38.35</td>\n",
       "      <td>1001</td>\n",
       "      <td>72</td>\n",
       "      <td>25.69</td>\n",
       "      <td>0.07</td>\n",
       "      <td>96</td>\n",
       "      <td>10000</td>\n",
       "      <td>2.93</td>\n",
       "      <td>225</td>\n",
       "      <td>3.12</td>\n",
       "      <td>[{'id': 804, 'main': 'Clouds', 'description': ...</td>\n",
       "      <td>0.00</td>\n",
       "      <td>NaN</td>\n",
       "    </tr>\n",
       "  </tbody>\n",
       "</table>\n",
       "</div>"
      ],
      "text/plain": [
       "           dt   temp  feels_like  pressure  humidity  dew_point   uvi  clouds  \\\n",
       "0  1631426400  34.75       41.75      1000        65      27.19  9.02      83   \n",
       "1  1631430000  34.20       41.20      1000        66      26.93  4.04      86   \n",
       "2  1631433600  33.41       40.41      1000        67      26.44  2.06      89   \n",
       "3  1631437200  32.43       39.43      1000        70      26.25  0.69      93   \n",
       "4  1631440800  31.35       38.35      1001        72      25.69  0.07      96   \n",
       "\n",
       "   visibility  wind_speed  wind_deg  wind_gust  \\\n",
       "0       10000        4.18       237       4.52   \n",
       "1       10000        4.04       227       4.45   \n",
       "2       10000        3.31       213       3.71   \n",
       "3       10000        2.67       216       3.03   \n",
       "4       10000        2.93       225       3.12   \n",
       "\n",
       "                                             weather   pop          rain  \n",
       "0  [{'id': 803, 'main': 'Clouds', 'description': ...  0.41           NaN  \n",
       "1  [{'id': 500, 'main': 'Rain', 'description': 'l...  0.24   {'1h': 0.1}  \n",
       "2  [{'id': 500, 'main': 'Rain', 'description': 'l...  0.24  {'1h': 0.32}  \n",
       "3  [{'id': 804, 'main': 'Clouds', 'description': ...  0.04           NaN  \n",
       "4  [{'id': 804, 'main': 'Clouds', 'description': ...  0.00           NaN  "
      ]
     },
     "execution_count": 10,
     "metadata": {},
     "output_type": "execute_result"
    }
   ],
   "source": [
    "df_hourly.head()"
   ]
  },
  {
   "cell_type": "code",
   "execution_count": null,
   "metadata": {},
   "outputs": [],
   "source": []
  }
 ],
 "metadata": {
  "interpreter": {
   "hash": "c1b4cfe941b6d2466ad1fb5979e97da9cda8801728c8091b097ab734208fc00c"
  },
  "kernelspec": {
   "display_name": "Python 3.8.3 64-bit ('base': conda)",
   "name": "python3"
  },
  "language_info": {
   "codemirror_mode": {
    "name": "ipython",
    "version": 3
   },
   "file_extension": ".py",
   "mimetype": "text/x-python",
   "name": "python",
   "nbconvert_exporter": "python",
   "pygments_lexer": "ipython3",
   "version": "3.8.11"
  }
 },
 "nbformat": 4,
 "nbformat_minor": 2
}
