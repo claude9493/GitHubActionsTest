{
 "cells": [
  {
   "cell_type": "code",
   "execution_count": 1,
   "metadata": {
    "execution": {
     "iopub.execute_input": "2021-09-14T21:10:15.698227Z",
     "iopub.status.busy": "2021-09-14T21:10:15.697616Z",
     "iopub.status.idle": "2021-09-14T21:10:17.091381Z",
     "shell.execute_reply": "2021-09-14T21:10:17.091841Z"
    }
   },
   "outputs": [],
   "source": [
    "import json, yaml, requests\r\n",
    "from datetime import datetime\r\n",
    "from dateutil import tz\r\n",
    "import pandas as pd\r\n",
    "from PIL import Image\r\n",
    "from io import BytesIO\r\n",
    "import matplotlib.pyplot as plt\r\n",
    "import seaborn\r\n",
    "\r\n",
    "CONFIG_PATH = \"../config/config.yaml\""
   ]
  },
  {
   "cell_type": "code",
   "execution_count": 2,
   "metadata": {
    "execution": {
     "iopub.execute_input": "2021-09-14T21:10:17.098064Z",
     "iopub.status.busy": "2021-09-14T21:10:17.094327Z",
     "iopub.status.idle": "2021-09-14T21:10:17.104944Z",
     "shell.execute_reply": "2021-09-14T21:10:17.105489Z"
    }
   },
   "outputs": [],
   "source": [
    "with open('../newest_ts', 'r') as f:\r\n",
    "    newest_ts = f.read()\r\n",
    "\r\n",
    "data_path = f\"../data/data_{newest_ts}.json\"\r\n",
    "with open(data_path, 'r') as f:\r\n",
    "    data = json.load(f)\r\n",
    "\r\n",
    "with open(CONFIG_PATH, \"r\") as stream:\r\n",
    "    config = yaml.safe_load(stream)\r\n",
    "\r\n",
    "TIME_ZONE = config['time_zone']\r\n",
    "DATETIME_FORMAT = config['dt_format']"
   ]
  },
  {
   "cell_type": "code",
   "execution_count": 3,
   "metadata": {
    "execution": {
     "iopub.execute_input": "2021-09-14T21:10:17.110712Z",
     "iopub.status.busy": "2021-09-14T21:10:17.110197Z",
     "iopub.status.idle": "2021-09-14T21:10:17.185374Z",
     "shell.execute_reply": "2021-09-14T21:10:17.185924Z"
    }
   },
   "outputs": [
    {
     "name": "stdout",
     "output_type": "stream",
     "text": [
      "Recent query happens at 2021-09-15 05:10:12 (CST).\n"
     ]
    }
   ],
   "source": [
    "def ts2dt(ts, format=DATETIME_FORMAT):\r\n",
    "    dt = (datetime.utcfromtimestamp(int(ts))\r\n",
    "                    .replace(tzinfo=tz.tzutc())\r\n",
    "                    # .astimezone(tz.tzlocal())\r\n",
    "                    .astimezone(tz.gettz(TIME_ZONE)))\r\n",
    "    return dt.strftime(format), dt\r\n",
    "\r\n",
    "_, newest_dt = ts2dt(newest_ts)\r\n",
    "print(f\"Recent query happens at {newest_dt.strftime(DATETIME_FORMAT)} ({newest_dt.tzname()}).\")"
   ]
  },
  {
   "cell_type": "code",
   "execution_count": 4,
   "metadata": {
    "execution": {
     "iopub.execute_input": "2021-09-14T21:10:17.190711Z",
     "iopub.status.busy": "2021-09-14T21:10:17.190192Z",
     "iopub.status.idle": "2021-09-14T21:10:17.193489Z",
     "shell.execute_reply": "2021-09-14T21:10:17.194082Z"
    }
   },
   "outputs": [],
   "source": [
    "def degrees_to_cardinal(d):\r\n",
    "  dirs = ['N', 'NNE', 'NE', 'ENE', 'E', 'ESE', 'SE', 'SSE', 'S', 'SSW', 'SW', 'WSW', 'W', 'WNW', 'NW', 'NNW']\r\n",
    "  ix = int(round(d / (360. / len(dirs))))\r\n",
    "  return dirs[ix % len(dirs)]"
   ]
  },
  {
   "cell_type": "code",
   "execution_count": 5,
   "metadata": {
    "execution": {
     "iopub.execute_input": "2021-09-14T21:10:17.200268Z",
     "iopub.status.busy": "2021-09-14T21:10:17.198981Z",
     "iopub.status.idle": "2021-09-14T21:10:17.200835Z",
     "shell.execute_reply": "2021-09-14T21:10:17.201263Z"
    }
   },
   "outputs": [],
   "source": [
    "# data.keys()"
   ]
  },
  {
   "cell_type": "code",
   "execution_count": 6,
   "metadata": {
    "execution": {
     "iopub.execute_input": "2021-09-14T21:10:17.204739Z",
     "iopub.status.busy": "2021-09-14T21:10:17.204225Z",
     "iopub.status.idle": "2021-09-14T21:10:17.206211Z",
     "shell.execute_reply": "2021-09-14T21:10:17.206730Z"
    }
   },
   "outputs": [],
   "source": [
    "# data['current']"
   ]
  },
  {
   "cell_type": "code",
   "execution_count": 7,
   "metadata": {
    "execution": {
     "iopub.execute_input": "2021-09-14T21:10:17.226663Z",
     "iopub.status.busy": "2021-09-14T21:10:17.226144Z",
     "iopub.status.idle": "2021-09-14T21:10:17.668087Z",
     "shell.execute_reply": "2021-09-14T21:10:17.668539Z"
    }
   },
   "outputs": [
    {
     "data": {
      "image/png": "[encoded data removed]",
      "text/plain": [
       "<Figure size 216x216 with 1 Axes>"
      ]
     },
     "metadata": {
      "needs_background": "light"
     },
     "output_type": "display_data"
    },
    {
     "name": "stdout",
     "output_type": "stream",
     "text": [
      "Today, sun rises at 06:09 and sets at 18:27.\n",
      "Currently, the weather is Rain (light rain).\n",
      "The temperature is 28.6°C and it feels like 34.64°C.\n",
      "The UV index is 0, humidity is 85%.\n",
      "The pressure is 1010 hPa, percentage of cloud cover is 97%\n",
      "The wind comes from WNW direction with a speed 1.9 m/s.\n"
     ]
    }
   ],
   "source": [
    "current = data['current']\r\n",
    "\r\n",
    "fig, ax = plt.subplots(figsize=(3, 3))\r\n",
    "icon = requests.get(f\"http://openweathermap.org/img/wn/{current['weather'][0]['icon']}@2x.png\")\r\n",
    "im = Image.open(BytesIO(icon.content))\r\n",
    "plt.imshow(im)\r\n",
    "ax.set_axis_off()\r\n",
    "plt.show()\r\n",
    "\r\n",
    "print(f\"Today, sun rises at {ts2dt(current['sunrise'], '%H:%M')[0]} \\\r\n",
    "and sets at {ts2dt(current['sunset'], '%H:%M')[0]}.\\n\\\r\n",
    "Currently, the weather is {current['weather'][0]['main']} ({current['weather'][0]['description']}).\\n\\\r\n",
    "The temperature is {current['temp']}°C and it feels like {current['feels_like']}°C.\\n\\\r\n",
    "The UV index is {current['uvi']}, humidity is {current['humidity']}%.\\n\\\r\n",
    "The pressure is {current['pressure']} hPa, percentage of cloud cover is {current['clouds']}%\\n\\\r\n",
    "The wind comes from {degrees_to_cardinal(current['wind_deg'])} direction with a speed {current['wind_speed']} m/s.\")"
   ]
  },
  {
   "cell_type": "code",
   "execution_count": 8,
   "metadata": {
    "execution": {
     "iopub.execute_input": "2021-09-14T21:10:17.671781Z",
     "iopub.status.busy": "2021-09-14T21:10:17.671235Z",
     "iopub.status.idle": "2021-09-14T21:10:17.679186Z",
     "shell.execute_reply": "2021-09-14T21:10:17.680013Z"
    }
   },
   "outputs": [],
   "source": [
    "df_hourly = pd.DataFrame(data['hourly'])\r\n",
    "df_daily = pd.DataFrame(data['daily'])"
   ]
  },
  {
   "cell_type": "code",
   "execution_count": 9,
   "metadata": {
    "execution": {
     "iopub.execute_input": "2021-09-14T21:10:17.683684Z",
     "iopub.status.busy": "2021-09-14T21:10:17.682307Z",
     "iopub.status.idle": "2021-09-14T21:10:18.010785Z",
     "shell.execute_reply": "2021-09-14T21:10:18.011541Z"
    }
   },
   "outputs": [
    {
     "data": {
      "image/png": "[encoded data removed]",
      "text/plain": [
       "<Figure size 864x432 with 1 Axes>"
      ]
     },
     "metadata": {
      "needs_background": "light"
     },
     "output_type": "display_data"
    }
   ],
   "source": [
    "fig, ax = plt.subplots(figsize=(12, 6))\r\n",
    "plt.plot(df_hourly.temp, '.-', label='Temperature')\r\n",
    "plt.plot(df_hourly.feels_like, '.-', label='Feels Like')\r\n",
    "ax.set(title='Temperature in future 48 hours', xlabel='Time', ylabel='Temperature')\r\n",
    "ax.set_xticks(list(range(0, len(df_hourly), 2)))\r\n",
    "ax.set_xticklabels([ts2dt(ts, '%m-%d %H:%M')[0] for i, ts in enumerate(df_hourly.dt) if i%2==0], \r\n",
    "                   rotation=45, ha=\"right\")\r\n",
    "ax.locator_params(nbins=15, axis='y')\r\n",
    "plt.legend()\r\n",
    "plt.show()"
   ]
  },
  {
   "cell_type": "code",
   "execution_count": 10,
   "metadata": {
    "execution": {
     "iopub.execute_input": "2021-09-14T21:10:18.023390Z",
     "iopub.status.busy": "2021-09-14T21:10:18.015533Z",
     "iopub.status.idle": "2021-09-14T21:10:18.036166Z",
     "shell.execute_reply": "2021-09-14T21:10:18.036670Z"
    }
   },
   "outputs": [
    {
     "data": {
      "text/html": [
       "<div>\n",
       "<style scoped>\n",
       "    .dataframe tbody tr th:only-of-type {\n",
       "        vertical-align: middle;\n",
       "    }\n",
       "\n",
       "    .dataframe tbody tr th {\n",
       "        vertical-align: top;\n",
       "    }\n",
       "\n",
       "    .dataframe thead th {\n",
       "        text-align: right;\n",
       "    }\n",
       "</style>\n",
       "<table border=\"1\" class=\"dataframe\">\n",
       "  <thead>\n",
       "    <tr style=\"text-align: right;\">\n",
       "      <th></th>\n",
       "      <th>dt</th>\n",
       "      <th>temp</th>\n",
       "      <th>feels_like</th>\n",
       "      <th>pressure</th>\n",
       "      <th>humidity</th>\n",
       "      <th>dew_point</th>\n",
       "      <th>uvi</th>\n",
       "      <th>clouds</th>\n",
       "      <th>visibility</th>\n",
       "      <th>wind_speed</th>\n",
       "      <th>wind_deg</th>\n",
       "      <th>wind_gust</th>\n",
       "      <th>weather</th>\n",
       "      <th>pop</th>\n",
       "      <th>rain</th>\n",
       "    </tr>\n",
       "  </thead>\n",
       "  <tbody>\n",
       "    <tr>\n",
       "      <th>0</th>\n",
       "      <td>1631653200</td>\n",
       "      <td>28.60</td>\n",
       "      <td>34.64</td>\n",
       "      <td>1010</td>\n",
       "      <td>85</td>\n",
       "      <td>25.83</td>\n",
       "      <td>0.00</td>\n",
       "      <td>97</td>\n",
       "      <td>10000</td>\n",
       "      <td>1.90</td>\n",
       "      <td>297</td>\n",
       "      <td>2.03</td>\n",
       "      <td>[{'id': 501, 'main': 'Rain', 'description': 'm...</td>\n",
       "      <td>0.57</td>\n",
       "      <td>{'1h': 1.66}</td>\n",
       "    </tr>\n",
       "    <tr>\n",
       "      <th>1</th>\n",
       "      <td>1631656800</td>\n",
       "      <td>28.47</td>\n",
       "      <td>34.06</td>\n",
       "      <td>1010</td>\n",
       "      <td>84</td>\n",
       "      <td>25.50</td>\n",
       "      <td>0.00</td>\n",
       "      <td>97</td>\n",
       "      <td>10000</td>\n",
       "      <td>1.96</td>\n",
       "      <td>269</td>\n",
       "      <td>2.15</td>\n",
       "      <td>[{'id': 804, 'main': 'Clouds', 'description': ...</td>\n",
       "      <td>0.65</td>\n",
       "      <td>NaN</td>\n",
       "    </tr>\n",
       "    <tr>\n",
       "      <th>2</th>\n",
       "      <td>1631660400</td>\n",
       "      <td>28.48</td>\n",
       "      <td>33.90</td>\n",
       "      <td>1010</td>\n",
       "      <td>83</td>\n",
       "      <td>25.31</td>\n",
       "      <td>0.23</td>\n",
       "      <td>96</td>\n",
       "      <td>10000</td>\n",
       "      <td>2.17</td>\n",
       "      <td>274</td>\n",
       "      <td>2.43</td>\n",
       "      <td>[{'id': 804, 'main': 'Clouds', 'description': ...</td>\n",
       "      <td>0.77</td>\n",
       "      <td>NaN</td>\n",
       "    </tr>\n",
       "    <tr>\n",
       "      <th>3</th>\n",
       "      <td>1631664000</td>\n",
       "      <td>28.88</td>\n",
       "      <td>34.20</td>\n",
       "      <td>1011</td>\n",
       "      <td>79</td>\n",
       "      <td>24.87</td>\n",
       "      <td>1.24</td>\n",
       "      <td>93</td>\n",
       "      <td>10000</td>\n",
       "      <td>2.40</td>\n",
       "      <td>278</td>\n",
       "      <td>2.78</td>\n",
       "      <td>[{'id': 500, 'main': 'Rain', 'description': 'l...</td>\n",
       "      <td>0.84</td>\n",
       "      <td>{'1h': 0.24}</td>\n",
       "    </tr>\n",
       "    <tr>\n",
       "      <th>4</th>\n",
       "      <td>1631667600</td>\n",
       "      <td>29.66</td>\n",
       "      <td>35.38</td>\n",
       "      <td>1012</td>\n",
       "      <td>75</td>\n",
       "      <td>24.75</td>\n",
       "      <td>3.44</td>\n",
       "      <td>59</td>\n",
       "      <td>10000</td>\n",
       "      <td>2.63</td>\n",
       "      <td>279</td>\n",
       "      <td>3.00</td>\n",
       "      <td>[{'id': 803, 'main': 'Clouds', 'description': ...</td>\n",
       "      <td>0.67</td>\n",
       "      <td>NaN</td>\n",
       "    </tr>\n",
       "  </tbody>\n",
       "</table>\n",
       "</div>"
      ],
      "text/plain": [
       "           dt   temp  feels_like  pressure  humidity  dew_point   uvi  clouds  \\\n",
       "0  1631653200  28.60       34.64      1010        85      25.83  0.00      97   \n",
       "1  1631656800  28.47       34.06      1010        84      25.50  0.00      97   \n",
       "2  1631660400  28.48       33.90      1010        83      25.31  0.23      96   \n",
       "3  1631664000  28.88       34.20      1011        79      24.87  1.24      93   \n",
       "4  1631667600  29.66       35.38      1012        75      24.75  3.44      59   \n",
       "\n",
       "   visibility  wind_speed  wind_deg  wind_gust  \\\n",
       "0       10000        1.90       297       2.03   \n",
       "1       10000        1.96       269       2.15   \n",
       "2       10000        2.17       274       2.43   \n",
       "3       10000        2.40       278       2.78   \n",
       "4       10000        2.63       279       3.00   \n",
       "\n",
       "                                             weather   pop          rain  \n",
       "0  [{'id': 501, 'main': 'Rain', 'description': 'm...  0.57  {'1h': 1.66}  \n",
       "1  [{'id': 804, 'main': 'Clouds', 'description': ...  0.65           NaN  \n",
       "2  [{'id': 804, 'main': 'Clouds', 'description': ...  0.77           NaN  \n",
       "3  [{'id': 500, 'main': 'Rain', 'description': 'l...  0.84  {'1h': 0.24}  \n",
       "4  [{'id': 803, 'main': 'Clouds', 'description': ...  0.67           NaN  "
      ]
     },
     "execution_count": 10,
     "metadata": {},
     "output_type": "execute_result"
    }
   ],
   "source": [
    "df_hourly.head()"
   ]
  },
  {
   "cell_type": "code",
   "execution_count": null,
   "metadata": {},
   "outputs": [],
   "source": []
  }
 ],
 "metadata": {
  "interpreter": {
   "hash": "c1b4cfe941b6d2466ad1fb5979e97da9cda8801728c8091b097ab734208fc00c"
  },
  "kernelspec": {
   "display_name": "Python 3.8.3 64-bit ('base': conda)",
   "name": "python3"
  },
  "language_info": {
   "codemirror_mode": {
    "name": "ipython",
    "version": 3
   },
   "file_extension": ".py",
   "mimetype": "text/x-python",
   "name": "python",
   "nbconvert_exporter": "python",
   "pygments_lexer": "ipython3",
   "version": "3.8.11"
  }
 },
 "nbformat": 4,
 "nbformat_minor": 2
}
