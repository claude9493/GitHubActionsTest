{
 "cells": [
  {
   "cell_type": "code",
   "execution_count": 1,
   "metadata": {
    "execution": {
     "iopub.execute_input": "2021-09-26T21:09:55.978988Z",
     "iopub.status.busy": "2021-09-26T21:09:55.978427Z",
     "iopub.status.idle": "2021-09-26T21:09:57.165533Z",
     "shell.execute_reply": "2021-09-26T21:09:57.164891Z"
    }
   },
   "outputs": [],
   "source": [
    "import json, yaml, requests\r\n",
    "from datetime import datetime\r\n",
    "from dateutil import tz\r\n",
    "import pandas as pd\r\n",
    "from PIL import Image\r\n",
    "from io import BytesIO\r\n",
    "import matplotlib.pyplot as plt\r\n",
    "import seaborn\r\n",
    "\r\n",
    "CONFIG_PATH = \"../config/config.yaml\""
   ]
  },
  {
   "cell_type": "code",
   "execution_count": 2,
   "metadata": {
    "execution": {
     "iopub.execute_input": "2021-09-26T21:09:57.170868Z",
     "iopub.status.busy": "2021-09-26T21:09:57.167816Z",
     "iopub.status.idle": "2021-09-26T21:09:57.176519Z",
     "shell.execute_reply": "2021-09-26T21:09:57.175743Z"
    }
   },
   "outputs": [],
   "source": [
    "with open('../newest_ts', 'r') as f:\r\n",
    "    newest_ts = f.read()\r\n",
    "\r\n",
    "data_path = f\"../data/data_{newest_ts}.json\"\r\n",
    "with open(data_path, 'r') as f:\r\n",
    "    data = json.load(f)\r\n",
    "\r\n",
    "with open(CONFIG_PATH, \"r\") as stream:\r\n",
    "    config = yaml.safe_load(stream)\r\n",
    "\r\n",
    "TIME_ZONE = config['time_zone']\r\n",
    "DATETIME_FORMAT = config['dt_format']"
   ]
  },
  {
   "cell_type": "code",
   "execution_count": 3,
   "metadata": {
    "execution": {
     "iopub.execute_input": "2021-09-26T21:09:57.180853Z",
     "iopub.status.busy": "2021-09-26T21:09:57.180393Z",
     "iopub.status.idle": "2021-09-26T21:09:57.185654Z",
     "shell.execute_reply": "2021-09-26T21:09:57.186027Z"
    }
   },
   "outputs": [
    {
     "name": "stdout",
     "output_type": "stream",
     "text": [
      "Recent query happens at 2021-09-27 05:09:52 (CST).\n"
     ]
    }
   ],
   "source": [
    "def ts2dt(ts, format=DATETIME_FORMAT):\r\n",
    "    dt = (datetime.utcfromtimestamp(int(ts))\r\n",
    "                    .replace(tzinfo=tz.tzutc())\r\n",
    "                    # .astimezone(tz.tzlocal())\r\n",
    "                    .astimezone(tz.gettz(TIME_ZONE)))\r\n",
    "    return dt.strftime(format), dt\r\n",
    "\r\n",
    "_, newest_dt = ts2dt(newest_ts)\r\n",
    "print(f\"Recent query happens at {newest_dt.strftime(DATETIME_FORMAT)} ({newest_dt.tzname()}).\")"
   ]
  },
  {
   "cell_type": "code",
   "execution_count": 4,
   "metadata": {
    "execution": {
     "iopub.execute_input": "2021-09-26T21:09:57.190683Z",
     "iopub.status.busy": "2021-09-26T21:09:57.190219Z",
     "iopub.status.idle": "2021-09-26T21:09:57.193276Z",
     "shell.execute_reply": "2021-09-26T21:09:57.192888Z"
    }
   },
   "outputs": [],
   "source": [
    "def degrees_to_cardinal(d):\r\n",
    "  dirs = ['N', 'NNE', 'NE', 'ENE', 'E', 'ESE', 'SE', 'SSE', 'S', 'SSW', 'SW', 'WSW', 'W', 'WNW', 'NW', 'NNW']\r\n",
    "  ix = int(round(d / (360. / len(dirs))))\r\n",
    "  return dirs[ix % len(dirs)]"
   ]
  },
  {
   "cell_type": "code",
   "execution_count": 5,
   "metadata": {
    "execution": {
     "iopub.execute_input": "2021-09-26T21:09:57.196532Z",
     "iopub.status.busy": "2021-09-26T21:09:57.196048Z",
     "iopub.status.idle": "2021-09-26T21:09:57.198784Z",
     "shell.execute_reply": "2021-09-26T21:09:57.199136Z"
    }
   },
   "outputs": [],
   "source": [
    "# data.keys()"
   ]
  },
  {
   "cell_type": "code",
   "execution_count": 6,
   "metadata": {
    "execution": {
     "iopub.execute_input": "2021-09-26T21:09:57.202331Z",
     "iopub.status.busy": "2021-09-26T21:09:57.201872Z",
     "iopub.status.idle": "2021-09-26T21:09:57.204660Z",
     "shell.execute_reply": "2021-09-26T21:09:57.205066Z"
    }
   },
   "outputs": [],
   "source": [
    "# data['current']"
   ]
  },
  {
   "cell_type": "code",
   "execution_count": 7,
   "metadata": {
    "execution": {
     "iopub.execute_input": "2021-09-26T21:09:57.221577Z",
     "iopub.status.busy": "2021-09-26T21:09:57.221063Z",
     "iopub.status.idle": "2021-09-26T21:09:57.575852Z",
     "shell.execute_reply": "2021-09-26T21:09:57.576563Z"
    }
   },
   "outputs": [
    {
     "data": {
      "image/png": "[encoded data removed]",
      "text/plain": [
       "<Figure size 216x216 with 1 Axes>"
      ]
     },
     "metadata": {
      "needs_background": "light"
     },
     "output_type": "display_data"
    },
    {
     "name": "stdout",
     "output_type": "stream",
     "text": [
      "Today, sun rises at 06:13 and sets at 18:14.\n",
      "Currently, the weather is Clouds (few clouds).\n",
      "The temperature is 27.4°C and it feels like 31.13°C.\n",
      "The UV index is 0, humidity is 84%.\n",
      "The pressure is 1010 hPa, percentage of cloud cover is 12%\n",
      "The wind comes from ENE direction with a speed 3.21 m/s.\n"
     ]
    }
   ],
   "source": [
    "current = data['current']\r\n",
    "\r\n",
    "fig, ax = plt.subplots(figsize=(3, 3))\r\n",
    "icon = requests.get(f\"http://openweathermap.org/img/wn/{current['weather'][0]['icon']}@2x.png\")\r\n",
    "im = Image.open(BytesIO(icon.content))\r\n",
    "plt.imshow(im)\r\n",
    "ax.set_axis_off()\r\n",
    "plt.show()\r\n",
    "\r\n",
    "print(f\"Today, sun rises at {ts2dt(current['sunrise'], '%H:%M')[0]} \\\r\n",
    "and sets at {ts2dt(current['sunset'], '%H:%M')[0]}.\\n\\\r\n",
    "Currently, the weather is {current['weather'][0]['main']} ({current['weather'][0]['description']}).\\n\\\r\n",
    "The temperature is {current['temp']}°C and it feels like {current['feels_like']}°C.\\n\\\r\n",
    "The UV index is {current['uvi']}, humidity is {current['humidity']}%.\\n\\\r\n",
    "The pressure is {current['pressure']} hPa, percentage of cloud cover is {current['clouds']}%\\n\\\r\n",
    "The wind comes from {degrees_to_cardinal(current['wind_deg'])} direction with a speed {current['wind_speed']} m/s.\")"
   ]
  },
  {
   "cell_type": "code",
   "execution_count": 8,
   "metadata": {
    "execution": {
     "iopub.execute_input": "2021-09-26T21:09:57.580010Z",
     "iopub.status.busy": "2021-09-26T21:09:57.579046Z",
     "iopub.status.idle": "2021-09-26T21:09:57.586215Z",
     "shell.execute_reply": "2021-09-26T21:09:57.586883Z"
    }
   },
   "outputs": [],
   "source": [
    "df_hourly = pd.DataFrame(data['hourly'])\r\n",
    "df_daily = pd.DataFrame(data['daily'])"
   ]
  },
  {
   "cell_type": "code",
   "execution_count": 9,
   "metadata": {
    "execution": {
     "iopub.execute_input": "2021-09-26T21:09:57.590122Z",
     "iopub.status.busy": "2021-09-26T21:09:57.589037Z",
     "iopub.status.idle": "2021-09-26T21:09:57.865701Z",
     "shell.execute_reply": "2021-09-26T21:09:57.866097Z"
    }
   },
   "outputs": [
    {
     "data": {
      "image/png": "[encoded data removed]",
      "text/plain": [
       "<Figure size 864x432 with 1 Axes>"
      ]
     },
     "metadata": {
      "needs_background": "light"
     },
     "output_type": "display_data"
    }
   ],
   "source": [
    "fig, ax = plt.subplots(figsize=(12, 6))\r\n",
    "plt.plot(df_hourly.temp, '.-', label='Temperature')\r\n",
    "plt.plot(df_hourly.feels_like, '.-', label='Feels Like')\r\n",
    "ax.set(title='Temperature in future 48 hours', xlabel='Time', ylabel='Temperature')\r\n",
    "ax.set_xticks(list(range(0, len(df_hourly), 2)))\r\n",
    "ax.set_xticklabels([ts2dt(ts, '%m-%d %H:%M')[0] for i, ts in enumerate(df_hourly.dt) if i%2==0], \r\n",
    "                   rotation=45, ha=\"right\")\r\n",
    "ax.locator_params(nbins=15, axis='y')\r\n",
    "plt.legend()\r\n",
    "plt.show()"
   ]
  },
  {
   "cell_type": "code",
   "execution_count": 10,
   "metadata": {
    "execution": {
     "iopub.execute_input": "2021-09-26T21:09:57.878613Z",
     "iopub.status.busy": "2021-09-26T21:09:57.870333Z",
     "iopub.status.idle": "2021-09-26T21:09:57.894224Z",
     "shell.execute_reply": "2021-09-26T21:09:57.893797Z"
    }
   },
   "outputs": [
    {
     "data": {
      "text/html": [
       "<div>\n",
       "<style scoped>\n",
       "    .dataframe tbody tr th:only-of-type {\n",
       "        vertical-align: middle;\n",
       "    }\n",
       "\n",
       "    .dataframe tbody tr th {\n",
       "        vertical-align: top;\n",
       "    }\n",
       "\n",
       "    .dataframe thead th {\n",
       "        text-align: right;\n",
       "    }\n",
       "</style>\n",
       "<table border=\"1\" class=\"dataframe\">\n",
       "  <thead>\n",
       "    <tr style=\"text-align: right;\">\n",
       "      <th></th>\n",
       "      <th>dt</th>\n",
       "      <th>temp</th>\n",
       "      <th>feels_like</th>\n",
       "      <th>pressure</th>\n",
       "      <th>humidity</th>\n",
       "      <th>dew_point</th>\n",
       "      <th>uvi</th>\n",
       "      <th>clouds</th>\n",
       "      <th>visibility</th>\n",
       "      <th>wind_speed</th>\n",
       "      <th>wind_deg</th>\n",
       "      <th>wind_gust</th>\n",
       "      <th>weather</th>\n",
       "      <th>pop</th>\n",
       "      <th>rain</th>\n",
       "    </tr>\n",
       "  </thead>\n",
       "  <tbody>\n",
       "    <tr>\n",
       "      <th>0</th>\n",
       "      <td>1632690000</td>\n",
       "      <td>27.40</td>\n",
       "      <td>31.13</td>\n",
       "      <td>1010</td>\n",
       "      <td>84</td>\n",
       "      <td>24.45</td>\n",
       "      <td>0.00</td>\n",
       "      <td>12</td>\n",
       "      <td>10000</td>\n",
       "      <td>3.21</td>\n",
       "      <td>68</td>\n",
       "      <td>3.92</td>\n",
       "      <td>[{'id': 801, 'main': 'Clouds', 'description': ...</td>\n",
       "      <td>0.00</td>\n",
       "      <td>NaN</td>\n",
       "    </tr>\n",
       "    <tr>\n",
       "      <th>1</th>\n",
       "      <td>1632693600</td>\n",
       "      <td>27.27</td>\n",
       "      <td>30.69</td>\n",
       "      <td>1010</td>\n",
       "      <td>83</td>\n",
       "      <td>24.13</td>\n",
       "      <td>0.00</td>\n",
       "      <td>14</td>\n",
       "      <td>10000</td>\n",
       "      <td>3.26</td>\n",
       "      <td>67</td>\n",
       "      <td>3.89</td>\n",
       "      <td>[{'id': 500, 'main': 'Rain', 'description': 'l...</td>\n",
       "      <td>0.20</td>\n",
       "      <td>{'1h': 0.13}</td>\n",
       "    </tr>\n",
       "    <tr>\n",
       "      <th>2</th>\n",
       "      <td>1632697200</td>\n",
       "      <td>27.30</td>\n",
       "      <td>30.64</td>\n",
       "      <td>1010</td>\n",
       "      <td>82</td>\n",
       "      <td>23.96</td>\n",
       "      <td>0.17</td>\n",
       "      <td>21</td>\n",
       "      <td>10000</td>\n",
       "      <td>3.23</td>\n",
       "      <td>68</td>\n",
       "      <td>3.82</td>\n",
       "      <td>[{'id': 500, 'main': 'Rain', 'description': 'l...</td>\n",
       "      <td>0.20</td>\n",
       "      <td>{'1h': 0.12}</td>\n",
       "    </tr>\n",
       "    <tr>\n",
       "      <th>3</th>\n",
       "      <td>1632700800</td>\n",
       "      <td>27.62</td>\n",
       "      <td>31.04</td>\n",
       "      <td>1011</td>\n",
       "      <td>79</td>\n",
       "      <td>23.65</td>\n",
       "      <td>1.00</td>\n",
       "      <td>30</td>\n",
       "      <td>10000</td>\n",
       "      <td>3.64</td>\n",
       "      <td>71</td>\n",
       "      <td>4.13</td>\n",
       "      <td>[{'id': 802, 'main': 'Clouds', 'description': ...</td>\n",
       "      <td>0.00</td>\n",
       "      <td>NaN</td>\n",
       "    </tr>\n",
       "    <tr>\n",
       "      <th>4</th>\n",
       "      <td>1632704400</td>\n",
       "      <td>28.02</td>\n",
       "      <td>31.55</td>\n",
       "      <td>1012</td>\n",
       "      <td>76</td>\n",
       "      <td>23.39</td>\n",
       "      <td>2.98</td>\n",
       "      <td>65</td>\n",
       "      <td>10000</td>\n",
       "      <td>4.17</td>\n",
       "      <td>72</td>\n",
       "      <td>4.22</td>\n",
       "      <td>[{'id': 803, 'main': 'Clouds', 'description': ...</td>\n",
       "      <td>0.02</td>\n",
       "      <td>NaN</td>\n",
       "    </tr>\n",
       "  </tbody>\n",
       "</table>\n",
       "</div>"
      ],
      "text/plain": [
       "           dt   temp  feels_like  pressure  humidity  dew_point   uvi  clouds  \\\n",
       "0  1632690000  27.40       31.13      1010        84      24.45  0.00      12   \n",
       "1  1632693600  27.27       30.69      1010        83      24.13  0.00      14   \n",
       "2  1632697200  27.30       30.64      1010        82      23.96  0.17      21   \n",
       "3  1632700800  27.62       31.04      1011        79      23.65  1.00      30   \n",
       "4  1632704400  28.02       31.55      1012        76      23.39  2.98      65   \n",
       "\n",
       "   visibility  wind_speed  wind_deg  wind_gust  \\\n",
       "0       10000        3.21        68       3.92   \n",
       "1       10000        3.26        67       3.89   \n",
       "2       10000        3.23        68       3.82   \n",
       "3       10000        3.64        71       4.13   \n",
       "4       10000        4.17        72       4.22   \n",
       "\n",
       "                                             weather   pop          rain  \n",
       "0  [{'id': 801, 'main': 'Clouds', 'description': ...  0.00           NaN  \n",
       "1  [{'id': 500, 'main': 'Rain', 'description': 'l...  0.20  {'1h': 0.13}  \n",
       "2  [{'id': 500, 'main': 'Rain', 'description': 'l...  0.20  {'1h': 0.12}  \n",
       "3  [{'id': 802, 'main': 'Clouds', 'description': ...  0.00           NaN  \n",
       "4  [{'id': 803, 'main': 'Clouds', 'description': ...  0.02           NaN  "
      ]
     },
     "execution_count": 10,
     "metadata": {},
     "output_type": "execute_result"
    }
   ],
   "source": [
    "df_hourly.head()"
   ]
  },
  {
   "cell_type": "code",
   "execution_count": null,
   "metadata": {},
   "outputs": [],
   "source": []
  }
 ],
 "metadata": {
  "interpreter": {
   "hash": "c1b4cfe941b6d2466ad1fb5979e97da9cda8801728c8091b097ab734208fc00c"
  },
  "kernelspec": {
   "display_name": "Python 3.8.3 64-bit ('base': conda)",
   "name": "python3"
  },
  "language_info": {
   "codemirror_mode": {
    "name": "ipython",
    "version": 3
   },
   "file_extension": ".py",
   "mimetype": "text/x-python",
   "name": "python",
   "nbconvert_exporter": "python",
   "pygments_lexer": "ipython3",
   "version": "3.8.12"
  }
 },
 "nbformat": 4,
 "nbformat_minor": 2
}
