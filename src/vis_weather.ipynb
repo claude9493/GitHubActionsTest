{
 "cells": [
  {
   "cell_type": "code",
   "execution_count": 1,
   "metadata": {
    "execution": {
     "iopub.execute_input": "2021-10-02T22:11:05.116288Z",
     "iopub.status.busy": "2021-10-02T22:11:05.115701Z",
     "iopub.status.idle": "2021-10-02T22:11:06.456915Z",
     "shell.execute_reply": "2021-10-02T22:11:06.456280Z"
    }
   },
   "outputs": [],
   "source": [
    "import json, yaml, requests\r\n",
    "from datetime import datetime\r\n",
    "from dateutil import tz\r\n",
    "import pandas as pd\r\n",
    "from PIL import Image\r\n",
    "from io import BytesIO\r\n",
    "import matplotlib.pyplot as plt\r\n",
    "import seaborn\r\n",
    "\r\n",
    "CONFIG_PATH = \"../config/config.yaml\""
   ]
  },
  {
   "cell_type": "code",
   "execution_count": 2,
   "metadata": {
    "execution": {
     "iopub.execute_input": "2021-10-02T22:11:06.462441Z",
     "iopub.status.busy": "2021-10-02T22:11:06.459361Z",
     "iopub.status.idle": "2021-10-02T22:11:06.468306Z",
     "shell.execute_reply": "2021-10-02T22:11:06.467502Z"
    }
   },
   "outputs": [],
   "source": [
    "with open('../newest_ts', 'r') as f:\r\n",
    "    newest_ts = f.read()\r\n",
    "\r\n",
    "data_path = f\"../data/data_{newest_ts}.json\"\r\n",
    "with open(data_path, 'r') as f:\r\n",
    "    data = json.load(f)\r\n",
    "\r\n",
    "with open(CONFIG_PATH, \"r\") as stream:\r\n",
    "    config = yaml.safe_load(stream)\r\n",
    "\r\n",
    "TIME_ZONE = config['time_zone']\r\n",
    "DATETIME_FORMAT = config['dt_format']"
   ]
  },
  {
   "cell_type": "code",
   "execution_count": 3,
   "metadata": {
    "execution": {
     "iopub.execute_input": "2021-10-02T22:11:06.472446Z",
     "iopub.status.busy": "2021-10-02T22:11:06.471996Z",
     "iopub.status.idle": "2021-10-02T22:11:06.482988Z",
     "shell.execute_reply": "2021-10-02T22:11:06.483358Z"
    }
   },
   "outputs": [
    {
     "name": "stdout",
     "output_type": "stream",
     "text": [
      "Recent query happens at 2021-10-03 06:11:02 (CST).\n"
     ]
    }
   ],
   "source": [
    "def ts2dt(ts, format=DATETIME_FORMAT):\r\n",
    "    dt = (datetime.utcfromtimestamp(int(ts))\r\n",
    "                    .replace(tzinfo=tz.tzutc())\r\n",
    "                    # .astimezone(tz.tzlocal())\r\n",
    "                    .astimezone(tz.gettz(TIME_ZONE)))\r\n",
    "    return dt.strftime(format), dt\r\n",
    "\r\n",
    "_, newest_dt = ts2dt(newest_ts)\r\n",
    "print(f\"Recent query happens at {newest_dt.strftime(DATETIME_FORMAT)} ({newest_dt.tzname()}).\")"
   ]
  },
  {
   "cell_type": "code",
   "execution_count": 4,
   "metadata": {
    "execution": {
     "iopub.execute_input": "2021-10-02T22:11:06.487431Z",
     "iopub.status.busy": "2021-10-02T22:11:06.485340Z",
     "iopub.status.idle": "2021-10-02T22:11:06.489264Z",
     "shell.execute_reply": "2021-10-02T22:11:06.488894Z"
    }
   },
   "outputs": [],
   "source": [
    "def degrees_to_cardinal(d):\r\n",
    "  dirs = ['N', 'NNE', 'NE', 'ENE', 'E', 'ESE', 'SE', 'SSE', 'S', 'SSW', 'SW', 'WSW', 'W', 'WNW', 'NW', 'NNW']\r\n",
    "  ix = int(round(d / (360. / len(dirs))))\r\n",
    "  return dirs[ix % len(dirs)]"
   ]
  },
  {
   "cell_type": "code",
   "execution_count": 5,
   "metadata": {
    "execution": {
     "iopub.execute_input": "2021-10-02T22:11:06.492989Z",
     "iopub.status.busy": "2021-10-02T22:11:06.492030Z",
     "iopub.status.idle": "2021-10-02T22:11:06.493569Z",
     "shell.execute_reply": "2021-10-02T22:11:06.493930Z"
    }
   },
   "outputs": [],
   "source": [
    "# data.keys()"
   ]
  },
  {
   "cell_type": "code",
   "execution_count": 6,
   "metadata": {
    "execution": {
     "iopub.execute_input": "2021-10-02T22:11:06.497517Z",
     "iopub.status.busy": "2021-10-02T22:11:06.496485Z",
     "iopub.status.idle": "2021-10-02T22:11:06.498028Z",
     "shell.execute_reply": "2021-10-02T22:11:06.498387Z"
    }
   },
   "outputs": [],
   "source": [
    "# data['current']"
   ]
  },
  {
   "cell_type": "code",
   "execution_count": 7,
   "metadata": {
    "execution": {
     "iopub.execute_input": "2021-10-02T22:11:06.514523Z",
     "iopub.status.busy": "2021-10-02T22:11:06.514056Z",
     "iopub.status.idle": "2021-10-02T22:11:06.957435Z",
     "shell.execute_reply": "2021-10-02T22:11:06.957805Z"
    }
   },
   "outputs": [
    {
     "data": {
      "image/png": "[encoded data removed]",
      "text/plain": [
       "<Figure size 216x216 with 1 Axes>"
      ]
     },
     "metadata": {
      "needs_background": "light"
     },
     "output_type": "display_data"
    },
    {
     "name": "stdout",
     "output_type": "stream",
     "text": [
      "Today, sun rises at 06:14 and sets at 18:09.\n",
      "Currently, the weather is Clouds (scattered clouds).\n",
      "The temperature is 27.86°C and it feels like 32.5°C.\n",
      "The UV index is 0, humidity is 85%.\n",
      "The pressure is 1015 hPa, percentage of cloud cover is 32%\n",
      "The wind comes from E direction with a speed 0.45 m/s.\n"
     ]
    }
   ],
   "source": [
    "current = data['current']\r\n",
    "\r\n",
    "fig, ax = plt.subplots(figsize=(3, 3))\r\n",
    "icon = requests.get(f\"http://openweathermap.org/img/wn/{current['weather'][0]['icon']}@2x.png\")\r\n",
    "im = Image.open(BytesIO(icon.content))\r\n",
    "plt.imshow(im)\r\n",
    "ax.set_axis_off()\r\n",
    "plt.show()\r\n",
    "\r\n",
    "print(f\"Today, sun rises at {ts2dt(current['sunrise'], '%H:%M')[0]} \\\r\n",
    "and sets at {ts2dt(current['sunset'], '%H:%M')[0]}.\\n\\\r\n",
    "Currently, the weather is {current['weather'][0]['main']} ({current['weather'][0]['description']}).\\n\\\r\n",
    "The temperature is {current['temp']}°C and it feels like {current['feels_like']}°C.\\n\\\r\n",
    "The UV index is {current['uvi']}, humidity is {current['humidity']}%.\\n\\\r\n",
    "The pressure is {current['pressure']} hPa, percentage of cloud cover is {current['clouds']}%\\n\\\r\n",
    "The wind comes from {degrees_to_cardinal(current['wind_deg'])} direction with a speed {current['wind_speed']} m/s.\")"
   ]
  },
  {
   "cell_type": "code",
   "execution_count": 8,
   "metadata": {
    "execution": {
     "iopub.execute_input": "2021-10-02T22:11:06.964403Z",
     "iopub.status.busy": "2021-10-02T22:11:06.963949Z",
     "iopub.status.idle": "2021-10-02T22:11:06.966430Z",
     "shell.execute_reply": "2021-10-02T22:11:06.967057Z"
    }
   },
   "outputs": [],
   "source": [
    "df_hourly = pd.DataFrame(data['hourly'])\r\n",
    "df_daily = pd.DataFrame(data['daily'])"
   ]
  },
  {
   "cell_type": "code",
   "execution_count": 9,
   "metadata": {
    "execution": {
     "iopub.execute_input": "2021-10-02T22:11:06.970142Z",
     "iopub.status.busy": "2021-10-02T22:11:06.969124Z",
     "iopub.status.idle": "2021-10-02T22:11:07.228449Z",
     "shell.execute_reply": "2021-10-02T22:11:07.228865Z"
    }
   },
   "outputs": [
    {
     "data": {
      "image/png": "[encoded data removed]",
      "text/plain": [
       "<Figure size 864x432 with 1 Axes>"
      ]
     },
     "metadata": {
      "needs_background": "light"
     },
     "output_type": "display_data"
    }
   ],
   "source": [
    "fig, ax = plt.subplots(figsize=(12, 6))\r\n",
    "plt.plot(df_hourly.temp, '.-', label='Temperature')\r\n",
    "plt.plot(df_hourly.feels_like, '.-', label='Feels Like')\r\n",
    "ax.set(title='Temperature in future 48 hours', xlabel='Time', ylabel='Temperature')\r\n",
    "ax.set_xticks(list(range(0, len(df_hourly), 2)))\r\n",
    "ax.set_xticklabels([ts2dt(ts, '%m-%d %H:%M')[0] for i, ts in enumerate(df_hourly.dt) if i%2==0], \r\n",
    "                   rotation=45, ha=\"right\")\r\n",
    "ax.locator_params(nbins=15, axis='y')\r\n",
    "plt.legend()\r\n",
    "plt.show()"
   ]
  },
  {
   "cell_type": "code",
   "execution_count": 10,
   "metadata": {
    "execution": {
     "iopub.execute_input": "2021-10-02T22:11:07.240749Z",
     "iopub.status.busy": "2021-10-02T22:11:07.233005Z",
     "iopub.status.idle": "2021-10-02T22:11:07.252863Z",
     "shell.execute_reply": "2021-10-02T22:11:07.252238Z"
    }
   },
   "outputs": [
    {
     "data": {
      "text/html": [
       "<div>\n",
       "<style scoped>\n",
       "    .dataframe tbody tr th:only-of-type {\n",
       "        vertical-align: middle;\n",
       "    }\n",
       "\n",
       "    .dataframe tbody tr th {\n",
       "        vertical-align: top;\n",
       "    }\n",
       "\n",
       "    .dataframe thead th {\n",
       "        text-align: right;\n",
       "    }\n",
       "</style>\n",
       "<table border=\"1\" class=\"dataframe\">\n",
       "  <thead>\n",
       "    <tr style=\"text-align: right;\">\n",
       "      <th></th>\n",
       "      <th>dt</th>\n",
       "      <th>temp</th>\n",
       "      <th>feels_like</th>\n",
       "      <th>pressure</th>\n",
       "      <th>humidity</th>\n",
       "      <th>dew_point</th>\n",
       "      <th>uvi</th>\n",
       "      <th>clouds</th>\n",
       "      <th>visibility</th>\n",
       "      <th>wind_speed</th>\n",
       "      <th>wind_deg</th>\n",
       "      <th>wind_gust</th>\n",
       "      <th>weather</th>\n",
       "      <th>pop</th>\n",
       "      <th>rain</th>\n",
       "    </tr>\n",
       "  </thead>\n",
       "  <tbody>\n",
       "    <tr>\n",
       "      <th>0</th>\n",
       "      <td>1633212000</td>\n",
       "      <td>27.86</td>\n",
       "      <td>32.50</td>\n",
       "      <td>1015</td>\n",
       "      <td>85</td>\n",
       "      <td>25.10</td>\n",
       "      <td>0.00</td>\n",
       "      <td>32</td>\n",
       "      <td>10000</td>\n",
       "      <td>4.64</td>\n",
       "      <td>97</td>\n",
       "      <td>6.14</td>\n",
       "      <td>[{'id': 500, 'main': 'Rain', 'description': 'l...</td>\n",
       "      <td>0.93</td>\n",
       "      <td>{'1h': 0.41}</td>\n",
       "    </tr>\n",
       "    <tr>\n",
       "      <th>1</th>\n",
       "      <td>1633215600</td>\n",
       "      <td>27.73</td>\n",
       "      <td>32.00</td>\n",
       "      <td>1014</td>\n",
       "      <td>84</td>\n",
       "      <td>24.78</td>\n",
       "      <td>0.15</td>\n",
       "      <td>31</td>\n",
       "      <td>10000</td>\n",
       "      <td>5.15</td>\n",
       "      <td>91</td>\n",
       "      <td>6.61</td>\n",
       "      <td>[{'id': 802, 'main': 'Clouds', 'description': ...</td>\n",
       "      <td>0.77</td>\n",
       "      <td>NaN</td>\n",
       "    </tr>\n",
       "    <tr>\n",
       "      <th>2</th>\n",
       "      <td>1633219200</td>\n",
       "      <td>27.78</td>\n",
       "      <td>31.70</td>\n",
       "      <td>1014</td>\n",
       "      <td>81</td>\n",
       "      <td>24.22</td>\n",
       "      <td>0.94</td>\n",
       "      <td>32</td>\n",
       "      <td>10000</td>\n",
       "      <td>5.67</td>\n",
       "      <td>89</td>\n",
       "      <td>7.16</td>\n",
       "      <td>[{'id': 802, 'main': 'Clouds', 'description': ...</td>\n",
       "      <td>0.77</td>\n",
       "      <td>NaN</td>\n",
       "    </tr>\n",
       "    <tr>\n",
       "      <th>3</th>\n",
       "      <td>1633222800</td>\n",
       "      <td>27.94</td>\n",
       "      <td>31.80</td>\n",
       "      <td>1014</td>\n",
       "      <td>79</td>\n",
       "      <td>23.96</td>\n",
       "      <td>2.81</td>\n",
       "      <td>40</td>\n",
       "      <td>10000</td>\n",
       "      <td>6.25</td>\n",
       "      <td>91</td>\n",
       "      <td>7.57</td>\n",
       "      <td>[{'id': 500, 'main': 'Rain', 'description': 'l...</td>\n",
       "      <td>0.83</td>\n",
       "      <td>{'1h': 0.73}</td>\n",
       "    </tr>\n",
       "    <tr>\n",
       "      <th>4</th>\n",
       "      <td>1633226400</td>\n",
       "      <td>28.42</td>\n",
       "      <td>32.47</td>\n",
       "      <td>1014</td>\n",
       "      <td>76</td>\n",
       "      <td>23.78</td>\n",
       "      <td>5.41</td>\n",
       "      <td>42</td>\n",
       "      <td>10000</td>\n",
       "      <td>6.33</td>\n",
       "      <td>94</td>\n",
       "      <td>7.50</td>\n",
       "      <td>[{'id': 500, 'main': 'Rain', 'description': 'l...</td>\n",
       "      <td>0.86</td>\n",
       "      <td>{'1h': 0.41}</td>\n",
       "    </tr>\n",
       "  </tbody>\n",
       "</table>\n",
       "</div>"
      ],
      "text/plain": [
       "           dt   temp  feels_like  pressure  humidity  dew_point   uvi  clouds  \\\n",
       "0  1633212000  27.86       32.50      1015        85      25.10  0.00      32   \n",
       "1  1633215600  27.73       32.00      1014        84      24.78  0.15      31   \n",
       "2  1633219200  27.78       31.70      1014        81      24.22  0.94      32   \n",
       "3  1633222800  27.94       31.80      1014        79      23.96  2.81      40   \n",
       "4  1633226400  28.42       32.47      1014        76      23.78  5.41      42   \n",
       "\n",
       "   visibility  wind_speed  wind_deg  wind_gust  \\\n",
       "0       10000        4.64        97       6.14   \n",
       "1       10000        5.15        91       6.61   \n",
       "2       10000        5.67        89       7.16   \n",
       "3       10000        6.25        91       7.57   \n",
       "4       10000        6.33        94       7.50   \n",
       "\n",
       "                                             weather   pop          rain  \n",
       "0  [{'id': 500, 'main': 'Rain', 'description': 'l...  0.93  {'1h': 0.41}  \n",
       "1  [{'id': 802, 'main': 'Clouds', 'description': ...  0.77           NaN  \n",
       "2  [{'id': 802, 'main': 'Clouds', 'description': ...  0.77           NaN  \n",
       "3  [{'id': 500, 'main': 'Rain', 'description': 'l...  0.83  {'1h': 0.73}  \n",
       "4  [{'id': 500, 'main': 'Rain', 'description': 'l...  0.86  {'1h': 0.41}  "
      ]
     },
     "execution_count": 10,
     "metadata": {},
     "output_type": "execute_result"
    }
   ],
   "source": [
    "df_hourly.head()"
   ]
  },
  {
   "cell_type": "code",
   "execution_count": null,
   "metadata": {},
   "outputs": [],
   "source": []
  }
 ],
 "metadata": {
  "interpreter": {
   "hash": "c1b4cfe941b6d2466ad1fb5979e97da9cda8801728c8091b097ab734208fc00c"
  },
  "kernelspec": {
   "display_name": "Python 3.8.3 64-bit ('base': conda)",
   "name": "python3"
  },
  "language_info": {
   "codemirror_mode": {
    "name": "ipython",
    "version": 3
   },
   "file_extension": ".py",
   "mimetype": "text/x-python",
   "name": "python",
   "nbconvert_exporter": "python",
   "pygments_lexer": "ipython3",
   "version": "3.8.12"
  }
 },
 "nbformat": 4,
 "nbformat_minor": 2
}
