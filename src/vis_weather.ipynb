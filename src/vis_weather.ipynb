{
 "cells": [
  {
   "cell_type": "code",
   "execution_count": 1,
   "metadata": {
    "execution": {
     "iopub.execute_input": "2021-10-15T10:13:04.716151Z",
     "iopub.status.busy": "2021-10-15T10:13:04.715433Z",
     "iopub.status.idle": "2021-10-15T10:13:07.330629Z",
     "shell.execute_reply": "2021-10-15T10:13:07.331146Z"
    }
   },
   "outputs": [],
   "source": [
    "import json, yaml, requests\r\n",
    "from datetime import datetime\r\n",
    "from dateutil import tz\r\n",
    "import pandas as pd\r\n",
    "from PIL import Image\r\n",
    "from io import BytesIO\r\n",
    "import matplotlib.pyplot as plt\r\n",
    "import seaborn\r\n",
    "\r\n",
    "CONFIG_PATH = \"../config/config.yaml\""
   ]
  },
  {
   "cell_type": "code",
   "execution_count": 2,
   "metadata": {
    "execution": {
     "iopub.execute_input": "2021-10-15T10:13:07.340114Z",
     "iopub.status.busy": "2021-10-15T10:13:07.336776Z",
     "iopub.status.idle": "2021-10-15T10:13:07.343252Z",
     "shell.execute_reply": "2021-10-15T10:13:07.342769Z"
    }
   },
   "outputs": [],
   "source": [
    "with open('../newest_ts', 'r') as f:\r\n",
    "    newest_ts = f.read()\r\n",
    "\r\n",
    "data_path = f\"../data/data_{newest_ts}.json\"\r\n",
    "with open(data_path, 'r') as f:\r\n",
    "    data = json.load(f)\r\n",
    "\r\n",
    "with open(CONFIG_PATH, \"r\") as stream:\r\n",
    "    config = yaml.safe_load(stream)\r\n",
    "\r\n",
    "TIME_ZONE = config['time_zone']\r\n",
    "DATETIME_FORMAT = config['dt_format']"
   ]
  },
  {
   "cell_type": "code",
   "execution_count": 3,
   "metadata": {
    "execution": {
     "iopub.execute_input": "2021-10-15T10:13:07.353839Z",
     "iopub.status.busy": "2021-10-15T10:13:07.351566Z",
     "iopub.status.idle": "2021-10-15T10:13:07.362328Z",
     "shell.execute_reply": "2021-10-15T10:13:07.362777Z"
    }
   },
   "outputs": [
    {
     "name": "stdout",
     "output_type": "stream",
     "text": [
      "Recent query happens at 2021-10-15 18:13:01 (CST).\n"
     ]
    }
   ],
   "source": [
    "def ts2dt(ts, format=DATETIME_FORMAT):\r\n",
    "    dt = (datetime.utcfromtimestamp(int(ts))\r\n",
    "                    .replace(tzinfo=tz.tzutc())\r\n",
    "                    # .astimezone(tz.tzlocal())\r\n",
    "                    .astimezone(tz.gettz(TIME_ZONE)))\r\n",
    "    return dt.strftime(format), dt\r\n",
    "\r\n",
    "_, newest_dt = ts2dt(newest_ts)\r\n",
    "print(f\"Recent query happens at {newest_dt.strftime(DATETIME_FORMAT)} ({newest_dt.tzname()}).\")"
   ]
  },
  {
   "cell_type": "code",
   "execution_count": 4,
   "metadata": {
    "execution": {
     "iopub.execute_input": "2021-10-15T10:13:07.369815Z",
     "iopub.status.busy": "2021-10-15T10:13:07.368130Z",
     "iopub.status.idle": "2021-10-15T10:13:07.370411Z",
     "shell.execute_reply": "2021-10-15T10:13:07.370899Z"
    }
   },
   "outputs": [],
   "source": [
    "def degrees_to_cardinal(d):\r\n",
    "  dirs = ['N', 'NNE', 'NE', 'ENE', 'E', 'ESE', 'SE', 'SSE', 'S', 'SSW', 'SW', 'WSW', 'W', 'WNW', 'NW', 'NNW']\r\n",
    "  ix = int(round(d / (360. / len(dirs))))\r\n",
    "  return dirs[ix % len(dirs)]"
   ]
  },
  {
   "cell_type": "code",
   "execution_count": 5,
   "metadata": {
    "execution": {
     "iopub.execute_input": "2021-10-15T10:13:07.375646Z",
     "iopub.status.busy": "2021-10-15T10:13:07.374363Z",
     "iopub.status.idle": "2021-10-15T10:13:07.376429Z",
     "shell.execute_reply": "2021-10-15T10:13:07.376950Z"
    }
   },
   "outputs": [],
   "source": [
    "# data.keys()"
   ]
  },
  {
   "cell_type": "code",
   "execution_count": 6,
   "metadata": {
    "execution": {
     "iopub.execute_input": "2021-10-15T10:13:07.381676Z",
     "iopub.status.busy": "2021-10-15T10:13:07.380333Z",
     "iopub.status.idle": "2021-10-15T10:13:07.382270Z",
     "shell.execute_reply": "2021-10-15T10:13:07.382692Z"
    }
   },
   "outputs": [],
   "source": [
    "# data['current']"
   ]
  },
  {
   "cell_type": "code",
   "execution_count": 7,
   "metadata": {
    "execution": {
     "iopub.execute_input": "2021-10-15T10:13:07.405641Z",
     "iopub.status.busy": "2021-10-15T10:13:07.401141Z",
     "iopub.status.idle": "2021-10-15T10:13:07.823974Z",
     "shell.execute_reply": "2021-10-15T10:13:07.824831Z"
    }
   },
   "outputs": [
    {
     "data": {
      "image/png": "[encoded data removed]",
      "text/plain": [
       "<Figure size 216x216 with 1 Axes>"
      ]
     },
     "metadata": {
      "needs_background": "light"
     },
     "output_type": "display_data"
    },
    {
     "name": "stdout",
     "output_type": "stream",
     "text": [
      "Today, sun rises at 06:18 and sets at 17:58.\n",
      "Currently, the weather is Rain (light rain).\n",
      "The temperature is 25.38°C and it feels like 26.32°C.\n",
      "The UV index is 0, humidity is 90%.\n",
      "The pressure is 1009 hPa, percentage of cloud cover is 100%\n",
      "The wind comes from NNW direction with a speed 0.45 m/s.\n"
     ]
    }
   ],
   "source": [
    "current = data['current']\r\n",
    "\r\n",
    "fig, ax = plt.subplots(figsize=(3, 3))\r\n",
    "icon = requests.get(f\"http://openweathermap.org/img/wn/{current['weather'][0]['icon']}@2x.png\")\r\n",
    "im = Image.open(BytesIO(icon.content))\r\n",
    "plt.imshow(im)\r\n",
    "ax.set_axis_off()\r\n",
    "plt.show()\r\n",
    "\r\n",
    "print(f\"Today, sun rises at {ts2dt(current['sunrise'], '%H:%M')[0]} \\\r\n",
    "and sets at {ts2dt(current['sunset'], '%H:%M')[0]}.\\n\\\r\n",
    "Currently, the weather is {current['weather'][0]['main']} ({current['weather'][0]['description']}).\\n\\\r\n",
    "The temperature is {current['temp']}°C and it feels like {current['feels_like']}°C.\\n\\\r\n",
    "The UV index is {current['uvi']}, humidity is {current['humidity']}%.\\n\\\r\n",
    "The pressure is {current['pressure']} hPa, percentage of cloud cover is {current['clouds']}%\\n\\\r\n",
    "The wind comes from {degrees_to_cardinal(current['wind_deg'])} direction with a speed {current['wind_speed']} m/s.\")"
   ]
  },
  {
   "cell_type": "code",
   "execution_count": 8,
   "metadata": {
    "execution": {
     "iopub.execute_input": "2021-10-15T10:13:07.835124Z",
     "iopub.status.busy": "2021-10-15T10:13:07.833375Z",
     "iopub.status.idle": "2021-10-15T10:13:07.837733Z",
     "shell.execute_reply": "2021-10-15T10:13:07.838520Z"
    }
   },
   "outputs": [],
   "source": [
    "df_hourly = pd.DataFrame(data['hourly'])\r\n",
    "df_daily = pd.DataFrame(data['daily'])"
   ]
  },
  {
   "cell_type": "code",
   "execution_count": 9,
   "metadata": {
    "execution": {
     "iopub.execute_input": "2021-10-15T10:13:07.847683Z",
     "iopub.status.busy": "2021-10-15T10:13:07.846942Z",
     "iopub.status.idle": "2021-10-15T10:13:08.164162Z",
     "shell.execute_reply": "2021-10-15T10:13:08.164754Z"
    }
   },
   "outputs": [
    {
     "data": {
      "image/png": "[encoded data removed]",
      "text/plain": [
       "<Figure size 864x432 with 1 Axes>"
      ]
     },
     "metadata": {
      "needs_background": "light"
     },
     "output_type": "display_data"
    }
   ],
   "source": [
    "fig, ax = plt.subplots(figsize=(12, 6))\r\n",
    "plt.plot(df_hourly.temp, '.-', label='Temperature')\r\n",
    "plt.plot(df_hourly.feels_like, '.-', label='Feels Like')\r\n",
    "ax.set(title='Temperature in future 48 hours', xlabel='Time', ylabel='Temperature')\r\n",
    "ax.set_xticks(list(range(0, len(df_hourly), 2)))\r\n",
    "ax.set_xticklabels([ts2dt(ts, '%m-%d %H:%M')[0] for i, ts in enumerate(df_hourly.dt) if i%2==0], \r\n",
    "                   rotation=45, ha=\"right\")\r\n",
    "ax.locator_params(nbins=15, axis='y')\r\n",
    "plt.legend()\r\n",
    "plt.show()"
   ]
  },
  {
   "cell_type": "code",
   "execution_count": 10,
   "metadata": {
    "execution": {
     "iopub.execute_input": "2021-10-15T10:13:08.167994Z",
     "iopub.status.busy": "2021-10-15T10:13:08.167390Z",
     "iopub.status.idle": "2021-10-15T10:13:08.190228Z",
     "shell.execute_reply": "2021-10-15T10:13:08.190707Z"
    }
   },
   "outputs": [
    {
     "data": {
      "text/html": [
       "<div>\n",
       "<style scoped>\n",
       "    .dataframe tbody tr th:only-of-type {\n",
       "        vertical-align: middle;\n",
       "    }\n",
       "\n",
       "    .dataframe tbody tr th {\n",
       "        vertical-align: top;\n",
       "    }\n",
       "\n",
       "    .dataframe thead th {\n",
       "        text-align: right;\n",
       "    }\n",
       "</style>\n",
       "<table border=\"1\" class=\"dataframe\">\n",
       "  <thead>\n",
       "    <tr style=\"text-align: right;\">\n",
       "      <th></th>\n",
       "      <th>dt</th>\n",
       "      <th>temp</th>\n",
       "      <th>feels_like</th>\n",
       "      <th>pressure</th>\n",
       "      <th>humidity</th>\n",
       "      <th>dew_point</th>\n",
       "      <th>uvi</th>\n",
       "      <th>clouds</th>\n",
       "      <th>visibility</th>\n",
       "      <th>wind_speed</th>\n",
       "      <th>wind_deg</th>\n",
       "      <th>wind_gust</th>\n",
       "      <th>weather</th>\n",
       "      <th>pop</th>\n",
       "      <th>rain</th>\n",
       "    </tr>\n",
       "  </thead>\n",
       "  <tbody>\n",
       "    <tr>\n",
       "      <th>0</th>\n",
       "      <td>1634292000</td>\n",
       "      <td>25.38</td>\n",
       "      <td>26.32</td>\n",
       "      <td>1009</td>\n",
       "      <td>90</td>\n",
       "      <td>23.62</td>\n",
       "      <td>0.0</td>\n",
       "      <td>100</td>\n",
       "      <td>10000</td>\n",
       "      <td>3.74</td>\n",
       "      <td>26</td>\n",
       "      <td>6.68</td>\n",
       "      <td>[{'id': 501, 'main': 'Rain', 'description': 'm...</td>\n",
       "      <td>1.0</td>\n",
       "      <td>{'1h': 2.24}</td>\n",
       "    </tr>\n",
       "    <tr>\n",
       "      <th>1</th>\n",
       "      <td>1634295600</td>\n",
       "      <td>25.05</td>\n",
       "      <td>25.99</td>\n",
       "      <td>1009</td>\n",
       "      <td>91</td>\n",
       "      <td>23.48</td>\n",
       "      <td>0.0</td>\n",
       "      <td>100</td>\n",
       "      <td>10000</td>\n",
       "      <td>3.14</td>\n",
       "      <td>21</td>\n",
       "      <td>4.93</td>\n",
       "      <td>[{'id': 500, 'main': 'Rain', 'description': 'l...</td>\n",
       "      <td>1.0</td>\n",
       "      <td>{'1h': 0.86}</td>\n",
       "    </tr>\n",
       "    <tr>\n",
       "      <th>2</th>\n",
       "      <td>1634299200</td>\n",
       "      <td>24.76</td>\n",
       "      <td>25.67</td>\n",
       "      <td>1010</td>\n",
       "      <td>91</td>\n",
       "      <td>23.19</td>\n",
       "      <td>0.0</td>\n",
       "      <td>100</td>\n",
       "      <td>10000</td>\n",
       "      <td>3.14</td>\n",
       "      <td>10</td>\n",
       "      <td>4.93</td>\n",
       "      <td>[{'id': 500, 'main': 'Rain', 'description': 'l...</td>\n",
       "      <td>1.0</td>\n",
       "      <td>{'1h': 0.86}</td>\n",
       "    </tr>\n",
       "    <tr>\n",
       "      <th>3</th>\n",
       "      <td>1634302800</td>\n",
       "      <td>24.59</td>\n",
       "      <td>25.48</td>\n",
       "      <td>1011</td>\n",
       "      <td>91</td>\n",
       "      <td>23.02</td>\n",
       "      <td>0.0</td>\n",
       "      <td>100</td>\n",
       "      <td>10000</td>\n",
       "      <td>3.25</td>\n",
       "      <td>353</td>\n",
       "      <td>4.80</td>\n",
       "      <td>[{'id': 804, 'main': 'Clouds', 'description': ...</td>\n",
       "      <td>0.5</td>\n",
       "      <td>NaN</td>\n",
       "    </tr>\n",
       "    <tr>\n",
       "      <th>4</th>\n",
       "      <td>1634306400</td>\n",
       "      <td>24.41</td>\n",
       "      <td>25.26</td>\n",
       "      <td>1011</td>\n",
       "      <td>90</td>\n",
       "      <td>22.66</td>\n",
       "      <td>0.0</td>\n",
       "      <td>100</td>\n",
       "      <td>10000</td>\n",
       "      <td>3.09</td>\n",
       "      <td>12</td>\n",
       "      <td>4.86</td>\n",
       "      <td>[{'id': 804, 'main': 'Clouds', 'description': ...</td>\n",
       "      <td>0.5</td>\n",
       "      <td>NaN</td>\n",
       "    </tr>\n",
       "  </tbody>\n",
       "</table>\n",
       "</div>"
      ],
      "text/plain": [
       "           dt   temp  feels_like  pressure  humidity  dew_point  uvi  clouds  \\\n",
       "0  1634292000  25.38       26.32      1009        90      23.62  0.0     100   \n",
       "1  1634295600  25.05       25.99      1009        91      23.48  0.0     100   \n",
       "2  1634299200  24.76       25.67      1010        91      23.19  0.0     100   \n",
       "3  1634302800  24.59       25.48      1011        91      23.02  0.0     100   \n",
       "4  1634306400  24.41       25.26      1011        90      22.66  0.0     100   \n",
       "\n",
       "   visibility  wind_speed  wind_deg  wind_gust  \\\n",
       "0       10000        3.74        26       6.68   \n",
       "1       10000        3.14        21       4.93   \n",
       "2       10000        3.14        10       4.93   \n",
       "3       10000        3.25       353       4.80   \n",
       "4       10000        3.09        12       4.86   \n",
       "\n",
       "                                             weather  pop          rain  \n",
       "0  [{'id': 501, 'main': 'Rain', 'description': 'm...  1.0  {'1h': 2.24}  \n",
       "1  [{'id': 500, 'main': 'Rain', 'description': 'l...  1.0  {'1h': 0.86}  \n",
       "2  [{'id': 500, 'main': 'Rain', 'description': 'l...  1.0  {'1h': 0.86}  \n",
       "3  [{'id': 804, 'main': 'Clouds', 'description': ...  0.5           NaN  \n",
       "4  [{'id': 804, 'main': 'Clouds', 'description': ...  0.5           NaN  "
      ]
     },
     "execution_count": 10,
     "metadata": {},
     "output_type": "execute_result"
    }
   ],
   "source": [
    "df_hourly.head()"
   ]
  },
  {
   "cell_type": "code",
   "execution_count": null,
   "metadata": {},
   "outputs": [],
   "source": []
  }
 ],
 "metadata": {
  "interpreter": {
   "hash": "c1b4cfe941b6d2466ad1fb5979e97da9cda8801728c8091b097ab734208fc00c"
  },
  "kernelspec": {
   "display_name": "Python 3.8.3 64-bit ('base': conda)",
   "name": "python3"
  },
  "language_info": {
   "codemirror_mode": {
    "name": "ipython",
    "version": 3
   },
   "file_extension": ".py",
   "mimetype": "text/x-python",
   "name": "python",
   "nbconvert_exporter": "python",
   "pygments_lexer": "ipython3",
   "version": "3.8.12"
  }
 },
 "nbformat": 4,
 "nbformat_minor": 2
}
