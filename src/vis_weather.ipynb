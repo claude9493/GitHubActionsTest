{
 "cells": [
  {
   "cell_type": "code",
   "execution_count": 1,
   "metadata": {
    "execution": {
     "iopub.execute_input": "2021-09-30T21:10:03.660592Z",
     "iopub.status.busy": "2021-09-30T21:10:03.660051Z",
     "iopub.status.idle": "2021-09-30T21:10:05.017035Z",
     "shell.execute_reply": "2021-09-30T21:10:05.016476Z"
    }
   },
   "outputs": [],
   "source": [
    "import json, yaml, requests\r\n",
    "from datetime import datetime\r\n",
    "from dateutil import tz\r\n",
    "import pandas as pd\r\n",
    "from PIL import Image\r\n",
    "from io import BytesIO\r\n",
    "import matplotlib.pyplot as plt\r\n",
    "import seaborn\r\n",
    "\r\n",
    "CONFIG_PATH = \"../config/config.yaml\""
   ]
  },
  {
   "cell_type": "code",
   "execution_count": 2,
   "metadata": {
    "execution": {
     "iopub.execute_input": "2021-09-30T21:10:05.022479Z",
     "iopub.status.busy": "2021-09-30T21:10:05.021987Z",
     "iopub.status.idle": "2021-09-30T21:10:05.026792Z",
     "shell.execute_reply": "2021-09-30T21:10:05.026382Z"
    }
   },
   "outputs": [],
   "source": [
    "with open('../newest_ts', 'r') as f:\r\n",
    "    newest_ts = f.read()\r\n",
    "\r\n",
    "data_path = f\"../data/data_{newest_ts}.json\"\r\n",
    "with open(data_path, 'r') as f:\r\n",
    "    data = json.load(f)\r\n",
    "\r\n",
    "with open(CONFIG_PATH, \"r\") as stream:\r\n",
    "    config = yaml.safe_load(stream)\r\n",
    "\r\n",
    "TIME_ZONE = config['time_zone']\r\n",
    "DATETIME_FORMAT = config['dt_format']"
   ]
  },
  {
   "cell_type": "code",
   "execution_count": 3,
   "metadata": {
    "execution": {
     "iopub.execute_input": "2021-09-30T21:10:05.031214Z",
     "iopub.status.busy": "2021-09-30T21:10:05.030726Z",
     "iopub.status.idle": "2021-09-30T21:10:05.058544Z",
     "shell.execute_reply": "2021-09-30T21:10:05.058926Z"
    }
   },
   "outputs": [
    {
     "name": "stdout",
     "output_type": "stream",
     "text": [
      "Recent query happens at 2021-10-01 05:10:00 (CST).\n"
     ]
    }
   ],
   "source": [
    "def ts2dt(ts, format=DATETIME_FORMAT):\r\n",
    "    dt = (datetime.utcfromtimestamp(int(ts))\r\n",
    "                    .replace(tzinfo=tz.tzutc())\r\n",
    "                    # .astimezone(tz.tzlocal())\r\n",
    "                    .astimezone(tz.gettz(TIME_ZONE)))\r\n",
    "    return dt.strftime(format), dt\r\n",
    "\r\n",
    "_, newest_dt = ts2dt(newest_ts)\r\n",
    "print(f\"Recent query happens at {newest_dt.strftime(DATETIME_FORMAT)} ({newest_dt.tzname()}).\")"
   ]
  },
  {
   "cell_type": "code",
   "execution_count": 4,
   "metadata": {
    "execution": {
     "iopub.execute_input": "2021-09-30T21:10:05.063531Z",
     "iopub.status.busy": "2021-09-30T21:10:05.063030Z",
     "iopub.status.idle": "2021-09-30T21:10:05.064782Z",
     "shell.execute_reply": "2021-09-30T21:10:05.065139Z"
    }
   },
   "outputs": [],
   "source": [
    "def degrees_to_cardinal(d):\r\n",
    "  dirs = ['N', 'NNE', 'NE', 'ENE', 'E', 'ESE', 'SE', 'SSE', 'S', 'SSW', 'SW', 'WSW', 'W', 'WNW', 'NW', 'NNW']\r\n",
    "  ix = int(round(d / (360. / len(dirs))))\r\n",
    "  return dirs[ix % len(dirs)]"
   ]
  },
  {
   "cell_type": "code",
   "execution_count": 5,
   "metadata": {
    "execution": {
     "iopub.execute_input": "2021-09-30T21:10:05.069327Z",
     "iopub.status.busy": "2021-09-30T21:10:05.068328Z",
     "iopub.status.idle": "2021-09-30T21:10:05.069851Z",
     "shell.execute_reply": "2021-09-30T21:10:05.070213Z"
    }
   },
   "outputs": [],
   "source": [
    "# data.keys()"
   ]
  },
  {
   "cell_type": "code",
   "execution_count": 6,
   "metadata": {
    "execution": {
     "iopub.execute_input": "2021-09-30T21:10:05.073946Z",
     "iopub.status.busy": "2021-09-30T21:10:05.072931Z",
     "iopub.status.idle": "2021-09-30T21:10:05.074469Z",
     "shell.execute_reply": "2021-09-30T21:10:05.074833Z"
    }
   },
   "outputs": [],
   "source": [
    "# data['current']"
   ]
  },
  {
   "cell_type": "code",
   "execution_count": 7,
   "metadata": {
    "execution": {
     "iopub.execute_input": "2021-09-30T21:10:05.092777Z",
     "iopub.status.busy": "2021-09-30T21:10:05.092237Z",
     "iopub.status.idle": "2021-09-30T21:10:05.622039Z",
     "shell.execute_reply": "2021-09-30T21:10:05.622704Z"
    }
   },
   "outputs": [
    {
     "data": {
      "image/png": "[encoded data removed]",
      "text/plain": [
       "<Figure size 216x216 with 1 Axes>"
      ]
     },
     "metadata": {
      "needs_background": "light"
     },
     "output_type": "display_data"
    },
    {
     "name": "stdout",
     "output_type": "stream",
     "text": [
      "Today, sun rises at 06:14 and sets at 18:11.\n",
      "Currently, the weather is Clouds (few clouds).\n",
      "The temperature is 28.89°C and it feels like 35.89°C.\n",
      "The UV index is 0, humidity is 87%.\n",
      "The pressure is 1008 hPa, percentage of cloud cover is 22%\n",
      "The wind comes from SW direction with a speed 0.45 m/s.\n"
     ]
    }
   ],
   "source": [
    "current = data['current']\r\n",
    "\r\n",
    "fig, ax = plt.subplots(figsize=(3, 3))\r\n",
    "icon = requests.get(f\"http://openweathermap.org/img/wn/{current['weather'][0]['icon']}@2x.png\")\r\n",
    "im = Image.open(BytesIO(icon.content))\r\n",
    "plt.imshow(im)\r\n",
    "ax.set_axis_off()\r\n",
    "plt.show()\r\n",
    "\r\n",
    "print(f\"Today, sun rises at {ts2dt(current['sunrise'], '%H:%M')[0]} \\\r\n",
    "and sets at {ts2dt(current['sunset'], '%H:%M')[0]}.\\n\\\r\n",
    "Currently, the weather is {current['weather'][0]['main']} ({current['weather'][0]['description']}).\\n\\\r\n",
    "The temperature is {current['temp']}°C and it feels like {current['feels_like']}°C.\\n\\\r\n",
    "The UV index is {current['uvi']}, humidity is {current['humidity']}%.\\n\\\r\n",
    "The pressure is {current['pressure']} hPa, percentage of cloud cover is {current['clouds']}%\\n\\\r\n",
    "The wind comes from {degrees_to_cardinal(current['wind_deg'])} direction with a speed {current['wind_speed']} m/s.\")"
   ]
  },
  {
   "cell_type": "code",
   "execution_count": 8,
   "metadata": {
    "execution": {
     "iopub.execute_input": "2021-09-30T21:10:05.626157Z",
     "iopub.status.busy": "2021-09-30T21:10:05.625241Z",
     "iopub.status.idle": "2021-09-30T21:10:05.632119Z",
     "shell.execute_reply": "2021-09-30T21:10:05.632763Z"
    }
   },
   "outputs": [],
   "source": [
    "df_hourly = pd.DataFrame(data['hourly'])\r\n",
    "df_daily = pd.DataFrame(data['daily'])"
   ]
  },
  {
   "cell_type": "code",
   "execution_count": 9,
   "metadata": {
    "execution": {
     "iopub.execute_input": "2021-09-30T21:10:05.635912Z",
     "iopub.status.busy": "2021-09-30T21:10:05.634869Z",
     "iopub.status.idle": "2021-09-30T21:10:05.877335Z",
     "shell.execute_reply": "2021-09-30T21:10:05.876869Z"
    }
   },
   "outputs": [
    {
     "data": {
      "image/png": "[encoded data removed]",
      "text/plain": [
       "<Figure size 864x432 with 1 Axes>"
      ]
     },
     "metadata": {
      "needs_background": "light"
     },
     "output_type": "display_data"
    }
   ],
   "source": [
    "fig, ax = plt.subplots(figsize=(12, 6))\r\n",
    "plt.plot(df_hourly.temp, '.-', label='Temperature')\r\n",
    "plt.plot(df_hourly.feels_like, '.-', label='Feels Like')\r\n",
    "ax.set(title='Temperature in future 48 hours', xlabel='Time', ylabel='Temperature')\r\n",
    "ax.set_xticks(list(range(0, len(df_hourly), 2)))\r\n",
    "ax.set_xticklabels([ts2dt(ts, '%m-%d %H:%M')[0] for i, ts in enumerate(df_hourly.dt) if i%2==0], \r\n",
    "                   rotation=45, ha=\"right\")\r\n",
    "ax.locator_params(nbins=15, axis='y')\r\n",
    "plt.legend()\r\n",
    "plt.show()"
   ]
  },
  {
   "cell_type": "code",
   "execution_count": 10,
   "metadata": {
    "execution": {
     "iopub.execute_input": "2021-09-30T21:10:05.881954Z",
     "iopub.status.busy": "2021-09-30T21:10:05.881486Z",
     "iopub.status.idle": "2021-09-30T21:10:05.900724Z",
     "shell.execute_reply": "2021-09-30T21:10:05.900301Z"
    }
   },
   "outputs": [
    {
     "data": {
      "text/html": [
       "<div>\n",
       "<style scoped>\n",
       "    .dataframe tbody tr th:only-of-type {\n",
       "        vertical-align: middle;\n",
       "    }\n",
       "\n",
       "    .dataframe tbody tr th {\n",
       "        vertical-align: top;\n",
       "    }\n",
       "\n",
       "    .dataframe thead th {\n",
       "        text-align: right;\n",
       "    }\n",
       "</style>\n",
       "<table border=\"1\" class=\"dataframe\">\n",
       "  <thead>\n",
       "    <tr style=\"text-align: right;\">\n",
       "      <th></th>\n",
       "      <th>dt</th>\n",
       "      <th>temp</th>\n",
       "      <th>feels_like</th>\n",
       "      <th>pressure</th>\n",
       "      <th>humidity</th>\n",
       "      <th>dew_point</th>\n",
       "      <th>uvi</th>\n",
       "      <th>clouds</th>\n",
       "      <th>visibility</th>\n",
       "      <th>wind_speed</th>\n",
       "      <th>wind_deg</th>\n",
       "      <th>wind_gust</th>\n",
       "      <th>weather</th>\n",
       "      <th>pop</th>\n",
       "      <th>rain</th>\n",
       "    </tr>\n",
       "  </thead>\n",
       "  <tbody>\n",
       "    <tr>\n",
       "      <th>0</th>\n",
       "      <td>1633035600</td>\n",
       "      <td>28.89</td>\n",
       "      <td>35.89</td>\n",
       "      <td>1008</td>\n",
       "      <td>87</td>\n",
       "      <td>26.51</td>\n",
       "      <td>0.00</td>\n",
       "      <td>22</td>\n",
       "      <td>10000</td>\n",
       "      <td>2.23</td>\n",
       "      <td>225</td>\n",
       "      <td>2.50</td>\n",
       "      <td>[{'id': 801, 'main': 'Clouds', 'description': ...</td>\n",
       "      <td>0.56</td>\n",
       "      <td>NaN</td>\n",
       "    </tr>\n",
       "    <tr>\n",
       "      <th>1</th>\n",
       "      <td>1633039200</td>\n",
       "      <td>28.63</td>\n",
       "      <td>34.94</td>\n",
       "      <td>1008</td>\n",
       "      <td>86</td>\n",
       "      <td>26.05</td>\n",
       "      <td>0.00</td>\n",
       "      <td>21</td>\n",
       "      <td>10000</td>\n",
       "      <td>2.45</td>\n",
       "      <td>221</td>\n",
       "      <td>2.57</td>\n",
       "      <td>[{'id': 500, 'main': 'Rain', 'description': 'l...</td>\n",
       "      <td>0.59</td>\n",
       "      <td>{'1h': 0.12}</td>\n",
       "    </tr>\n",
       "    <tr>\n",
       "      <th>2</th>\n",
       "      <td>1633042800</td>\n",
       "      <td>28.48</td>\n",
       "      <td>34.09</td>\n",
       "      <td>1008</td>\n",
       "      <td>84</td>\n",
       "      <td>25.51</td>\n",
       "      <td>0.17</td>\n",
       "      <td>18</td>\n",
       "      <td>10000</td>\n",
       "      <td>2.45</td>\n",
       "      <td>222</td>\n",
       "      <td>2.62</td>\n",
       "      <td>[{'id': 500, 'main': 'Rain', 'description': 'l...</td>\n",
       "      <td>0.57</td>\n",
       "      <td>{'1h': 0.13}</td>\n",
       "    </tr>\n",
       "    <tr>\n",
       "      <th>3</th>\n",
       "      <td>1633046400</td>\n",
       "      <td>28.72</td>\n",
       "      <td>34.17</td>\n",
       "      <td>1009</td>\n",
       "      <td>81</td>\n",
       "      <td>25.13</td>\n",
       "      <td>1.02</td>\n",
       "      <td>15</td>\n",
       "      <td>10000</td>\n",
       "      <td>2.63</td>\n",
       "      <td>217</td>\n",
       "      <td>2.82</td>\n",
       "      <td>[{'id': 500, 'main': 'Rain', 'description': 'l...</td>\n",
       "      <td>0.60</td>\n",
       "      <td>{'1h': 0.23}</td>\n",
       "    </tr>\n",
       "    <tr>\n",
       "      <th>4</th>\n",
       "      <td>1633050000</td>\n",
       "      <td>29.22</td>\n",
       "      <td>34.68</td>\n",
       "      <td>1010</td>\n",
       "      <td>77</td>\n",
       "      <td>24.77</td>\n",
       "      <td>3.04</td>\n",
       "      <td>4</td>\n",
       "      <td>10000</td>\n",
       "      <td>2.86</td>\n",
       "      <td>221</td>\n",
       "      <td>2.75</td>\n",
       "      <td>[{'id': 800, 'main': 'Clear', 'description': '...</td>\n",
       "      <td>0.25</td>\n",
       "      <td>NaN</td>\n",
       "    </tr>\n",
       "  </tbody>\n",
       "</table>\n",
       "</div>"
      ],
      "text/plain": [
       "           dt   temp  feels_like  pressure  humidity  dew_point   uvi  clouds  \\\n",
       "0  1633035600  28.89       35.89      1008        87      26.51  0.00      22   \n",
       "1  1633039200  28.63       34.94      1008        86      26.05  0.00      21   \n",
       "2  1633042800  28.48       34.09      1008        84      25.51  0.17      18   \n",
       "3  1633046400  28.72       34.17      1009        81      25.13  1.02      15   \n",
       "4  1633050000  29.22       34.68      1010        77      24.77  3.04       4   \n",
       "\n",
       "   visibility  wind_speed  wind_deg  wind_gust  \\\n",
       "0       10000        2.23       225       2.50   \n",
       "1       10000        2.45       221       2.57   \n",
       "2       10000        2.45       222       2.62   \n",
       "3       10000        2.63       217       2.82   \n",
       "4       10000        2.86       221       2.75   \n",
       "\n",
       "                                             weather   pop          rain  \n",
       "0  [{'id': 801, 'main': 'Clouds', 'description': ...  0.56           NaN  \n",
       "1  [{'id': 500, 'main': 'Rain', 'description': 'l...  0.59  {'1h': 0.12}  \n",
       "2  [{'id': 500, 'main': 'Rain', 'description': 'l...  0.57  {'1h': 0.13}  \n",
       "3  [{'id': 500, 'main': 'Rain', 'description': 'l...  0.60  {'1h': 0.23}  \n",
       "4  [{'id': 800, 'main': 'Clear', 'description': '...  0.25           NaN  "
      ]
     },
     "execution_count": 10,
     "metadata": {},
     "output_type": "execute_result"
    }
   ],
   "source": [
    "df_hourly.head()"
   ]
  },
  {
   "cell_type": "code",
   "execution_count": null,
   "metadata": {},
   "outputs": [],
   "source": []
  }
 ],
 "metadata": {
  "interpreter": {
   "hash": "c1b4cfe941b6d2466ad1fb5979e97da9cda8801728c8091b097ab734208fc00c"
  },
  "kernelspec": {
   "display_name": "Python 3.8.3 64-bit ('base': conda)",
   "name": "python3"
  },
  "language_info": {
   "codemirror_mode": {
    "name": "ipython",
    "version": 3
   },
   "file_extension": ".py",
   "mimetype": "text/x-python",
   "name": "python",
   "nbconvert_exporter": "python",
   "pygments_lexer": "ipython3",
   "version": "3.8.12"
  }
 },
 "nbformat": 4,
 "nbformat_minor": 2
}
