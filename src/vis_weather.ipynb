{
 "cells": [
  {
   "cell_type": "code",
   "execution_count": 1,
   "metadata": {
    "execution": {
     "iopub.execute_input": "2021-08-28T11:36:30.891071Z",
     "iopub.status.busy": "2021-08-28T11:36:30.890492Z",
     "iopub.status.idle": "2021-08-28T11:36:34.434108Z",
     "shell.execute_reply": "2021-08-28T11:36:34.433487Z"
    }
   },
   "outputs": [],
   "source": [
    "import json, yaml, requests\r\n",
    "from datetime import datetime\r\n",
    "from dateutil import tz\r\n",
    "import pandas as pd\r\n",
    "from PIL import Image\r\n",
    "from io import BytesIO\r\n",
    "import matplotlib.pyplot as plt\r\n",
    "import seaborn\r\n",
    "\r\n",
    "CONFIG_PATH = \"../config/config.yaml\""
   ]
  },
  {
   "cell_type": "code",
   "execution_count": 2,
   "metadata": {
    "execution": {
     "iopub.execute_input": "2021-08-28T11:36:34.438903Z",
     "iopub.status.busy": "2021-08-28T11:36:34.438284Z",
     "iopub.status.idle": "2021-08-28T11:36:34.443637Z",
     "shell.execute_reply": "2021-08-28T11:36:34.443261Z"
    }
   },
   "outputs": [],
   "source": [
    "with open('../newest_ts', 'r') as f:\r\n",
    "    newest_ts = f.read()\r\n",
    "\r\n",
    "data_path = f\"../data/data_{newest_ts}.json\"\r\n",
    "with open(data_path, 'r') as f:\r\n",
    "    data = json.load(f)\r\n",
    "\r\n",
    "with open(CONFIG_PATH, \"r\") as stream:\r\n",
    "    config = yaml.safe_load(stream)\r\n",
    "\r\n",
    "TIME_ZONE = config['time_zone']\r\n",
    "DATETIME_FORMAT = config['dt_format']"
   ]
  },
  {
   "cell_type": "code",
   "execution_count": 3,
   "metadata": {
    "execution": {
     "iopub.execute_input": "2021-08-28T11:36:34.447832Z",
     "iopub.status.busy": "2021-08-28T11:36:34.447340Z",
     "iopub.status.idle": "2021-08-28T11:36:34.451300Z",
     "shell.execute_reply": "2021-08-28T11:36:34.451670Z"
    }
   },
   "outputs": [
    {
     "name": "stdout",
     "output_type": "stream",
     "text": [
      "Recent query happens at 2021-08-28 19:36:27 (CST).\n"
     ]
    }
   ],
   "source": [
    "def ts2dt(ts, format=DATETIME_FORMAT):\r\n",
    "    dt = (datetime.utcfromtimestamp(int(ts))\r\n",
    "                    .replace(tzinfo=tz.tzutc())\r\n",
    "                    # .astimezone(tz.tzlocal())\r\n",
    "                    .astimezone(tz.gettz(TIME_ZONE)))\r\n",
    "    return dt.strftime(format), dt\r\n",
    "\r\n",
    "_, newest_dt = ts2dt(newest_ts)\r\n",
    "print(f\"Recent query happens at {newest_dt.strftime(DATETIME_FORMAT)} ({newest_dt.tzname()}).\")"
   ]
  },
  {
   "cell_type": "code",
   "execution_count": 4,
   "metadata": {
    "execution": {
     "iopub.execute_input": "2021-08-28T11:36:34.456604Z",
     "iopub.status.busy": "2021-08-28T11:36:34.455492Z",
     "iopub.status.idle": "2021-08-28T11:36:34.457128Z",
     "shell.execute_reply": "2021-08-28T11:36:34.457489Z"
    }
   },
   "outputs": [],
   "source": [
    "def degrees_to_cardinal(d):\r\n",
    "  dirs = ['N', 'NNE', 'NE', 'ENE', 'E', 'ESE', 'SE', 'SSE', 'S', 'SSW', 'SW', 'WSW', 'W', 'WNW', 'NW', 'NNW']\r\n",
    "  ix = int(round(d / (360. / len(dirs))))\r\n",
    "  return dirs[ix % len(dirs)]"
   ]
  },
  {
   "cell_type": "code",
   "execution_count": 5,
   "metadata": {
    "execution": {
     "iopub.execute_input": "2021-08-28T11:36:34.461095Z",
     "iopub.status.busy": "2021-08-28T11:36:34.460134Z",
     "iopub.status.idle": "2021-08-28T11:36:34.461619Z",
     "shell.execute_reply": "2021-08-28T11:36:34.462019Z"
    }
   },
   "outputs": [],
   "source": [
    "# data.keys()"
   ]
  },
  {
   "cell_type": "code",
   "execution_count": 6,
   "metadata": {
    "execution": {
     "iopub.execute_input": "2021-08-28T11:36:34.465463Z",
     "iopub.status.busy": "2021-08-28T11:36:34.464500Z",
     "iopub.status.idle": "2021-08-28T11:36:34.466002Z",
     "shell.execute_reply": "2021-08-28T11:36:34.466369Z"
    }
   },
   "outputs": [],
   "source": [
    "# data['current']"
   ]
  },
  {
   "cell_type": "code",
   "execution_count": 7,
   "metadata": {
    "execution": {
     "iopub.execute_input": "2021-08-28T11:36:34.482513Z",
     "iopub.status.busy": "2021-08-28T11:36:34.470786Z",
     "iopub.status.idle": "2021-08-28T11:36:34.788950Z",
     "shell.execute_reply": "2021-08-28T11:36:34.789574Z"
    }
   },
   "outputs": [
    {
     "data": {
      "image/png": "[encoded data removed]",
      "text/plain": [
       "<Figure size 216x216 with 1 Axes>"
      ]
     },
     "metadata": {
      "needs_background": "light"
     },
     "output_type": "display_data"
    },
    {
     "name": "stdout",
     "output_type": "stream",
     "text": [
      "Today, sun rises at 06:04 and sets at 18:44.\n",
      "Currently, the weather is Clouds (scattered clouds).\n",
      "The temperature is 28.24°C and it feels like 32.21°C.\n",
      "The UV index is 0, humidity is 77%.\n",
      "The pressure is 1010 hPa, percentage of cloud cover is 39%\n",
      "The wind comes from E direction with a speed 4.07 m/s.\n"
     ]
    }
   ],
   "source": [
    "current = data['current']\r\n",
    "\r\n",
    "fig, ax = plt.subplots(figsize=(3, 3))\r\n",
    "icon = requests.get(f\"http://openweathermap.org/img/wn/{current['weather'][0]['icon']}@2x.png\")\r\n",
    "im = Image.open(BytesIO(icon.content))\r\n",
    "plt.imshow(im)\r\n",
    "ax.set_axis_off()\r\n",
    "plt.show()\r\n",
    "\r\n",
    "print(f\"Today, sun rises at {ts2dt(current['sunrise'], '%H:%M')[0]} \\\r\n",
    "and sets at {ts2dt(current['sunset'], '%H:%M')[0]}.\\n\\\r\n",
    "Currently, the weather is {current['weather'][0]['main']} ({current['weather'][0]['description']}).\\n\\\r\n",
    "The temperature is {current['temp']}°C and it feels like {current['feels_like']}°C.\\n\\\r\n",
    "The UV index is {current['uvi']}, humidity is {current['humidity']}%.\\n\\\r\n",
    "The pressure is {current['pressure']} hPa, percentage of cloud cover is {current['clouds']}%\\n\\\r\n",
    "The wind comes from {degrees_to_cardinal(current['wind_deg'])} direction with a speed {current['wind_speed']} m/s.\")"
   ]
  },
  {
   "cell_type": "code",
   "execution_count": 8,
   "metadata": {
    "execution": {
     "iopub.execute_input": "2021-08-28T11:36:34.797000Z",
     "iopub.status.busy": "2021-08-28T11:36:34.796009Z",
     "iopub.status.idle": "2021-08-28T11:36:34.799588Z",
     "shell.execute_reply": "2021-08-28T11:36:34.800151Z"
    }
   },
   "outputs": [],
   "source": [
    "df_hourly = pd.DataFrame(data['hourly'])\r\n",
    "df_daily = pd.DataFrame(data['daily'])"
   ]
  },
  {
   "cell_type": "code",
   "execution_count": 9,
   "metadata": {
    "execution": {
     "iopub.execute_input": "2021-08-28T11:36:34.818391Z",
     "iopub.status.busy": "2021-08-28T11:36:34.813048Z",
     "iopub.status.idle": "2021-08-28T11:36:35.042214Z",
     "shell.execute_reply": "2021-08-28T11:36:35.042879Z"
    }
   },
   "outputs": [
    {
     "data": {
      "image/png": "[encoded data removed]",
      "text/plain": [
       "<Figure size 864x432 with 1 Axes>"
      ]
     },
     "metadata": {
      "needs_background": "light"
     },
     "output_type": "display_data"
    }
   ],
   "source": [
    "fig, ax = plt.subplots(figsize=(12, 6))\r\n",
    "plt.plot(df_hourly.temp, '.-', label='Temperature')\r\n",
    "plt.plot(df_hourly.feels_like, '.-', label='Feels Like')\r\n",
    "ax.set(title='Temperature in future 48 hours', xlabel='Time', ylabel='Temperature')\r\n",
    "ax.set_xticks(list(range(0, len(df_hourly), 2)))\r\n",
    "ax.set_xticklabels([ts2dt(ts, '%m-%d %H:%M')[0] for i, ts in enumerate(df_hourly.dt) if i%2==0], \r\n",
    "                   rotation=45, ha=\"right\")\r\n",
    "ax.locator_params(nbins=15, axis='y')\r\n",
    "plt.legend()\r\n",
    "plt.show()"
   ]
  },
  {
   "cell_type": "code",
   "execution_count": 10,
   "metadata": {
    "execution": {
     "iopub.execute_input": "2021-08-28T11:36:35.054047Z",
     "iopub.status.busy": "2021-08-28T11:36:35.046688Z",
     "iopub.status.idle": "2021-08-28T11:36:35.064800Z",
     "shell.execute_reply": "2021-08-28T11:36:35.064417Z"
    }
   },
   "outputs": [
    {
     "data": {
      "text/html": [
       "<div>\n",
       "<style scoped>\n",
       "    .dataframe tbody tr th:only-of-type {\n",
       "        vertical-align: middle;\n",
       "    }\n",
       "\n",
       "    .dataframe tbody tr th {\n",
       "        vertical-align: top;\n",
       "    }\n",
       "\n",
       "    .dataframe thead th {\n",
       "        text-align: right;\n",
       "    }\n",
       "</style>\n",
       "<table border=\"1\" class=\"dataframe\">\n",
       "  <thead>\n",
       "    <tr style=\"text-align: right;\">\n",
       "      <th></th>\n",
       "      <th>dt</th>\n",
       "      <th>temp</th>\n",
       "      <th>feels_like</th>\n",
       "      <th>pressure</th>\n",
       "      <th>humidity</th>\n",
       "      <th>dew_point</th>\n",
       "      <th>uvi</th>\n",
       "      <th>clouds</th>\n",
       "      <th>visibility</th>\n",
       "      <th>wind_speed</th>\n",
       "      <th>wind_deg</th>\n",
       "      <th>wind_gust</th>\n",
       "      <th>weather</th>\n",
       "      <th>pop</th>\n",
       "      <th>rain</th>\n",
       "    </tr>\n",
       "  </thead>\n",
       "  <tbody>\n",
       "    <tr>\n",
       "      <th>0</th>\n",
       "      <td>1630148400</td>\n",
       "      <td>28.25</td>\n",
       "      <td>32.07</td>\n",
       "      <td>1010</td>\n",
       "      <td>76</td>\n",
       "      <td>23.61</td>\n",
       "      <td>0.0</td>\n",
       "      <td>39</td>\n",
       "      <td>10000</td>\n",
       "      <td>3.84</td>\n",
       "      <td>93</td>\n",
       "      <td>5.38</td>\n",
       "      <td>[{'id': 500, 'main': 'Rain', 'description': 'l...</td>\n",
       "      <td>0.47</td>\n",
       "      <td>{'1h': 0.21}</td>\n",
       "    </tr>\n",
       "    <tr>\n",
       "      <th>1</th>\n",
       "      <td>1630152000</td>\n",
       "      <td>28.24</td>\n",
       "      <td>32.21</td>\n",
       "      <td>1010</td>\n",
       "      <td>77</td>\n",
       "      <td>23.82</td>\n",
       "      <td>0.0</td>\n",
       "      <td>39</td>\n",
       "      <td>10000</td>\n",
       "      <td>4.07</td>\n",
       "      <td>92</td>\n",
       "      <td>5.83</td>\n",
       "      <td>[{'id': 802, 'main': 'Clouds', 'description': ...</td>\n",
       "      <td>0.54</td>\n",
       "      <td>NaN</td>\n",
       "    </tr>\n",
       "    <tr>\n",
       "      <th>2</th>\n",
       "      <td>1630155600</td>\n",
       "      <td>28.14</td>\n",
       "      <td>32.13</td>\n",
       "      <td>1010</td>\n",
       "      <td>78</td>\n",
       "      <td>23.94</td>\n",
       "      <td>0.0</td>\n",
       "      <td>43</td>\n",
       "      <td>10000</td>\n",
       "      <td>4.15</td>\n",
       "      <td>99</td>\n",
       "      <td>6.14</td>\n",
       "      <td>[{'id': 802, 'main': 'Clouds', 'description': ...</td>\n",
       "      <td>0.74</td>\n",
       "      <td>NaN</td>\n",
       "    </tr>\n",
       "    <tr>\n",
       "      <th>3</th>\n",
       "      <td>1630159200</td>\n",
       "      <td>28.08</td>\n",
       "      <td>31.99</td>\n",
       "      <td>1011</td>\n",
       "      <td>78</td>\n",
       "      <td>23.88</td>\n",
       "      <td>0.0</td>\n",
       "      <td>54</td>\n",
       "      <td>10000</td>\n",
       "      <td>4.10</td>\n",
       "      <td>100</td>\n",
       "      <td>6.16</td>\n",
       "      <td>[{'id': 501, 'main': 'Rain', 'description': 'm...</td>\n",
       "      <td>0.78</td>\n",
       "      <td>{'1h': 1.36}</td>\n",
       "    </tr>\n",
       "    <tr>\n",
       "      <th>4</th>\n",
       "      <td>1630162800</td>\n",
       "      <td>28.01</td>\n",
       "      <td>31.97</td>\n",
       "      <td>1011</td>\n",
       "      <td>79</td>\n",
       "      <td>24.03</td>\n",
       "      <td>0.0</td>\n",
       "      <td>66</td>\n",
       "      <td>10000</td>\n",
       "      <td>3.83</td>\n",
       "      <td>97</td>\n",
       "      <td>6.11</td>\n",
       "      <td>[{'id': 501, 'main': 'Rain', 'description': 'm...</td>\n",
       "      <td>0.82</td>\n",
       "      <td>{'1h': 1.22}</td>\n",
       "    </tr>\n",
       "  </tbody>\n",
       "</table>\n",
       "</div>"
      ],
      "text/plain": [
       "           dt   temp  feels_like  pressure  humidity  dew_point  uvi  clouds  \\\n",
       "0  1630148400  28.25       32.07      1010        76      23.61  0.0      39   \n",
       "1  1630152000  28.24       32.21      1010        77      23.82  0.0      39   \n",
       "2  1630155600  28.14       32.13      1010        78      23.94  0.0      43   \n",
       "3  1630159200  28.08       31.99      1011        78      23.88  0.0      54   \n",
       "4  1630162800  28.01       31.97      1011        79      24.03  0.0      66   \n",
       "\n",
       "   visibility  wind_speed  wind_deg  wind_gust  \\\n",
       "0       10000        3.84        93       5.38   \n",
       "1       10000        4.07        92       5.83   \n",
       "2       10000        4.15        99       6.14   \n",
       "3       10000        4.10       100       6.16   \n",
       "4       10000        3.83        97       6.11   \n",
       "\n",
       "                                             weather   pop          rain  \n",
       "0  [{'id': 500, 'main': 'Rain', 'description': 'l...  0.47  {'1h': 0.21}  \n",
       "1  [{'id': 802, 'main': 'Clouds', 'description': ...  0.54           NaN  \n",
       "2  [{'id': 802, 'main': 'Clouds', 'description': ...  0.74           NaN  \n",
       "3  [{'id': 501, 'main': 'Rain', 'description': 'm...  0.78  {'1h': 1.36}  \n",
       "4  [{'id': 501, 'main': 'Rain', 'description': 'm...  0.82  {'1h': 1.22}  "
      ]
     },
     "execution_count": 10,
     "metadata": {},
     "output_type": "execute_result"
    }
   ],
   "source": [
    "df_hourly.head()"
   ]
  },
  {
   "cell_type": "code",
   "execution_count": null,
   "metadata": {},
   "outputs": [],
   "source": []
  }
 ],
 "metadata": {
  "interpreter": {
   "hash": "c1b4cfe941b6d2466ad1fb5979e97da9cda8801728c8091b097ab734208fc00c"
  },
  "kernelspec": {
   "display_name": "Python 3.8.3 64-bit ('base': conda)",
   "name": "python3"
  },
  "language_info": {
   "codemirror_mode": {
    "name": "ipython",
    "version": 3
   },
   "file_extension": ".py",
   "mimetype": "text/x-python",
   "name": "python",
   "nbconvert_exporter": "python",
   "pygments_lexer": "ipython3",
   "version": "3.8.11"
  }
 },
 "nbformat": 4,
 "nbformat_minor": 2
}
