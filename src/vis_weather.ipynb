{
 "cells": [
  {
   "cell_type": "code",
   "execution_count": 1,
   "metadata": {
    "execution": {
     "iopub.execute_input": "2021-09-23T23:12:14.538266Z",
     "iopub.status.busy": "2021-09-23T23:12:14.537653Z",
     "iopub.status.idle": "2021-09-23T23:12:17.253729Z",
     "shell.execute_reply": "2021-09-23T23:12:17.252783Z"
    }
   },
   "outputs": [],
   "source": [
    "import json, yaml, requests\r\n",
    "from datetime import datetime\r\n",
    "from dateutil import tz\r\n",
    "import pandas as pd\r\n",
    "from PIL import Image\r\n",
    "from io import BytesIO\r\n",
    "import matplotlib.pyplot as plt\r\n",
    "import seaborn\r\n",
    "\r\n",
    "CONFIG_PATH = \"../config/config.yaml\""
   ]
  },
  {
   "cell_type": "code",
   "execution_count": 2,
   "metadata": {
    "execution": {
     "iopub.execute_input": "2021-09-23T23:12:17.261496Z",
     "iopub.status.busy": "2021-09-23T23:12:17.258627Z",
     "iopub.status.idle": "2021-09-23T23:12:17.264970Z",
     "shell.execute_reply": "2021-09-23T23:12:17.264289Z"
    }
   },
   "outputs": [],
   "source": [
    "with open('../newest_ts', 'r') as f:\r\n",
    "    newest_ts = f.read()\r\n",
    "\r\n",
    "data_path = f\"../data/data_{newest_ts}.json\"\r\n",
    "with open(data_path, 'r') as f:\r\n",
    "    data = json.load(f)\r\n",
    "\r\n",
    "with open(CONFIG_PATH, \"r\") as stream:\r\n",
    "    config = yaml.safe_load(stream)\r\n",
    "\r\n",
    "TIME_ZONE = config['time_zone']\r\n",
    "DATETIME_FORMAT = config['dt_format']"
   ]
  },
  {
   "cell_type": "code",
   "execution_count": 3,
   "metadata": {
    "execution": {
     "iopub.execute_input": "2021-09-23T23:12:17.269635Z",
     "iopub.status.busy": "2021-09-23T23:12:17.269150Z",
     "iopub.status.idle": "2021-09-23T23:12:17.293328Z",
     "shell.execute_reply": "2021-09-23T23:12:17.292582Z"
    }
   },
   "outputs": [
    {
     "name": "stdout",
     "output_type": "stream",
     "text": [
      "Recent query happens at 2021-09-24 07:12:09 (CST).\n"
     ]
    }
   ],
   "source": [
    "def ts2dt(ts, format=DATETIME_FORMAT):\r\n",
    "    dt = (datetime.utcfromtimestamp(int(ts))\r\n",
    "                    .replace(tzinfo=tz.tzutc())\r\n",
    "                    # .astimezone(tz.tzlocal())\r\n",
    "                    .astimezone(tz.gettz(TIME_ZONE)))\r\n",
    "    return dt.strftime(format), dt\r\n",
    "\r\n",
    "_, newest_dt = ts2dt(newest_ts)\r\n",
    "print(f\"Recent query happens at {newest_dt.strftime(DATETIME_FORMAT)} ({newest_dt.tzname()}).\")"
   ]
  },
  {
   "cell_type": "code",
   "execution_count": 4,
   "metadata": {
    "execution": {
     "iopub.execute_input": "2021-09-23T23:12:17.301171Z",
     "iopub.status.busy": "2021-09-23T23:12:17.299513Z",
     "iopub.status.idle": "2021-09-23T23:12:17.303980Z",
     "shell.execute_reply": "2021-09-23T23:12:17.304909Z"
    }
   },
   "outputs": [],
   "source": [
    "def degrees_to_cardinal(d):\r\n",
    "  dirs = ['N', 'NNE', 'NE', 'ENE', 'E', 'ESE', 'SE', 'SSE', 'S', 'SSW', 'SW', 'WSW', 'W', 'WNW', 'NW', 'NNW']\r\n",
    "  ix = int(round(d / (360. / len(dirs))))\r\n",
    "  return dirs[ix % len(dirs)]"
   ]
  },
  {
   "cell_type": "code",
   "execution_count": 5,
   "metadata": {
    "execution": {
     "iopub.execute_input": "2021-09-23T23:12:17.312358Z",
     "iopub.status.busy": "2021-09-23T23:12:17.311786Z",
     "iopub.status.idle": "2021-09-23T23:12:17.314315Z",
     "shell.execute_reply": "2021-09-23T23:12:17.313833Z"
    }
   },
   "outputs": [],
   "source": [
    "# data.keys()"
   ]
  },
  {
   "cell_type": "code",
   "execution_count": 6,
   "metadata": {
    "execution": {
     "iopub.execute_input": "2021-09-23T23:12:17.318230Z",
     "iopub.status.busy": "2021-09-23T23:12:17.317224Z",
     "iopub.status.idle": "2021-09-23T23:12:17.318898Z",
     "shell.execute_reply": "2021-09-23T23:12:17.319322Z"
    }
   },
   "outputs": [],
   "source": [
    "# data['current']"
   ]
  },
  {
   "cell_type": "code",
   "execution_count": 7,
   "metadata": {
    "execution": {
     "iopub.execute_input": "2021-09-23T23:12:17.345373Z",
     "iopub.status.busy": "2021-09-23T23:12:17.324593Z",
     "iopub.status.idle": "2021-09-23T23:12:17.935063Z",
     "shell.execute_reply": "2021-09-23T23:12:17.935726Z"
    }
   },
   "outputs": [
    {
     "data": {
      "image/png": "[encoded data removed]",
      "text/plain": [
       "<Figure size 216x216 with 1 Axes>"
      ]
     },
     "metadata": {
      "needs_background": "light"
     },
     "output_type": "display_data"
    },
    {
     "name": "stdout",
     "output_type": "stream",
     "text": [
      "Today, sun rises at 06:12 and sets at 18:17.\n",
      "Currently, the weather is Clouds (broken clouds).\n",
      "The temperature is 28.52°C and it feels like 34.61°C.\n",
      "The UV index is 0.2, humidity is 86%.\n",
      "The pressure is 1014 hPa, percentage of cloud cover is 58%\n",
      "The wind comes from E direction with a speed 6.36 m/s.\n"
     ]
    }
   ],
   "source": [
    "current = data['current']\r\n",
    "\r\n",
    "fig, ax = plt.subplots(figsize=(3, 3))\r\n",
    "icon = requests.get(f\"http://openweathermap.org/img/wn/{current['weather'][0]['icon']}@2x.png\")\r\n",
    "im = Image.open(BytesIO(icon.content))\r\n",
    "plt.imshow(im)\r\n",
    "ax.set_axis_off()\r\n",
    "plt.show()\r\n",
    "\r\n",
    "print(f\"Today, sun rises at {ts2dt(current['sunrise'], '%H:%M')[0]} \\\r\n",
    "and sets at {ts2dt(current['sunset'], '%H:%M')[0]}.\\n\\\r\n",
    "Currently, the weather is {current['weather'][0]['main']} ({current['weather'][0]['description']}).\\n\\\r\n",
    "The temperature is {current['temp']}°C and it feels like {current['feels_like']}°C.\\n\\\r\n",
    "The UV index is {current['uvi']}, humidity is {current['humidity']}%.\\n\\\r\n",
    "The pressure is {current['pressure']} hPa, percentage of cloud cover is {current['clouds']}%\\n\\\r\n",
    "The wind comes from {degrees_to_cardinal(current['wind_deg'])} direction with a speed {current['wind_speed']} m/s.\")"
   ]
  },
  {
   "cell_type": "code",
   "execution_count": 8,
   "metadata": {
    "execution": {
     "iopub.execute_input": "2021-09-23T23:12:17.939006Z",
     "iopub.status.busy": "2021-09-23T23:12:17.938058Z",
     "iopub.status.idle": "2021-09-23T23:12:17.944684Z",
     "shell.execute_reply": "2021-09-23T23:12:17.945328Z"
    }
   },
   "outputs": [],
   "source": [
    "df_hourly = pd.DataFrame(data['hourly'])\r\n",
    "df_daily = pd.DataFrame(data['daily'])"
   ]
  },
  {
   "cell_type": "code",
   "execution_count": 9,
   "metadata": {
    "execution": {
     "iopub.execute_input": "2021-09-23T23:12:17.948344Z",
     "iopub.status.busy": "2021-09-23T23:12:17.947420Z",
     "iopub.status.idle": "2021-09-23T23:12:18.176746Z",
     "shell.execute_reply": "2021-09-23T23:12:18.177261Z"
    }
   },
   "outputs": [
    {
     "data": {
      "image/png": "[encoded data removed]",
      "text/plain": [
       "<Figure size 864x432 with 1 Axes>"
      ]
     },
     "metadata": {
      "needs_background": "light"
     },
     "output_type": "display_data"
    }
   ],
   "source": [
    "fig, ax = plt.subplots(figsize=(12, 6))\r\n",
    "plt.plot(df_hourly.temp, '.-', label='Temperature')\r\n",
    "plt.plot(df_hourly.feels_like, '.-', label='Feels Like')\r\n",
    "ax.set(title='Temperature in future 48 hours', xlabel='Time', ylabel='Temperature')\r\n",
    "ax.set_xticks(list(range(0, len(df_hourly), 2)))\r\n",
    "ax.set_xticklabels([ts2dt(ts, '%m-%d %H:%M')[0] for i, ts in enumerate(df_hourly.dt) if i%2==0], \r\n",
    "                   rotation=45, ha=\"right\")\r\n",
    "ax.locator_params(nbins=15, axis='y')\r\n",
    "plt.legend()\r\n",
    "plt.show()"
   ]
  },
  {
   "cell_type": "code",
   "execution_count": 10,
   "metadata": {
    "execution": {
     "iopub.execute_input": "2021-09-23T23:12:18.181347Z",
     "iopub.status.busy": "2021-09-23T23:12:18.180883Z",
     "iopub.status.idle": "2021-09-23T23:12:18.196718Z",
     "shell.execute_reply": "2021-09-23T23:12:18.197093Z"
    }
   },
   "outputs": [
    {
     "data": {
      "text/html": [
       "<div>\n",
       "<style scoped>\n",
       "    .dataframe tbody tr th:only-of-type {\n",
       "        vertical-align: middle;\n",
       "    }\n",
       "\n",
       "    .dataframe tbody tr th {\n",
       "        vertical-align: top;\n",
       "    }\n",
       "\n",
       "    .dataframe thead th {\n",
       "        text-align: right;\n",
       "    }\n",
       "</style>\n",
       "<table border=\"1\" class=\"dataframe\">\n",
       "  <thead>\n",
       "    <tr style=\"text-align: right;\">\n",
       "      <th></th>\n",
       "      <th>dt</th>\n",
       "      <th>temp</th>\n",
       "      <th>feels_like</th>\n",
       "      <th>pressure</th>\n",
       "      <th>humidity</th>\n",
       "      <th>dew_point</th>\n",
       "      <th>uvi</th>\n",
       "      <th>clouds</th>\n",
       "      <th>visibility</th>\n",
       "      <th>wind_speed</th>\n",
       "      <th>wind_deg</th>\n",
       "      <th>wind_gust</th>\n",
       "      <th>weather</th>\n",
       "      <th>pop</th>\n",
       "      <th>rain</th>\n",
       "    </tr>\n",
       "  </thead>\n",
       "  <tbody>\n",
       "    <tr>\n",
       "      <th>0</th>\n",
       "      <td>1632438000</td>\n",
       "      <td>28.52</td>\n",
       "      <td>34.61</td>\n",
       "      <td>1014</td>\n",
       "      <td>86</td>\n",
       "      <td>25.95</td>\n",
       "      <td>0.20</td>\n",
       "      <td>58</td>\n",
       "      <td>10000</td>\n",
       "      <td>6.36</td>\n",
       "      <td>88</td>\n",
       "      <td>8.73</td>\n",
       "      <td>[{'id': 500, 'main': 'Rain', 'description': 'l...</td>\n",
       "      <td>0.69</td>\n",
       "      <td>{'1h': 0.37}</td>\n",
       "    </tr>\n",
       "    <tr>\n",
       "      <th>1</th>\n",
       "      <td>1632441600</td>\n",
       "      <td>28.49</td>\n",
       "      <td>34.12</td>\n",
       "      <td>1014</td>\n",
       "      <td>84</td>\n",
       "      <td>25.52</td>\n",
       "      <td>1.10</td>\n",
       "      <td>57</td>\n",
       "      <td>10000</td>\n",
       "      <td>6.68</td>\n",
       "      <td>89</td>\n",
       "      <td>8.59</td>\n",
       "      <td>[{'id': 803, 'main': 'Clouds', 'description': ...</td>\n",
       "      <td>0.69</td>\n",
       "      <td>NaN</td>\n",
       "    </tr>\n",
       "    <tr>\n",
       "      <th>2</th>\n",
       "      <td>1632445200</td>\n",
       "      <td>28.58</td>\n",
       "      <td>33.98</td>\n",
       "      <td>1014</td>\n",
       "      <td>82</td>\n",
       "      <td>25.20</td>\n",
       "      <td>3.08</td>\n",
       "      <td>51</td>\n",
       "      <td>10000</td>\n",
       "      <td>7.08</td>\n",
       "      <td>91</td>\n",
       "      <td>8.65</td>\n",
       "      <td>[{'id': 803, 'main': 'Clouds', 'description': ...</td>\n",
       "      <td>0.58</td>\n",
       "      <td>NaN</td>\n",
       "    </tr>\n",
       "    <tr>\n",
       "      <th>3</th>\n",
       "      <td>1632448800</td>\n",
       "      <td>28.83</td>\n",
       "      <td>34.27</td>\n",
       "      <td>1015</td>\n",
       "      <td>80</td>\n",
       "      <td>25.03</td>\n",
       "      <td>5.83</td>\n",
       "      <td>50</td>\n",
       "      <td>10000</td>\n",
       "      <td>6.72</td>\n",
       "      <td>88</td>\n",
       "      <td>8.38</td>\n",
       "      <td>[{'id': 802, 'main': 'Clouds', 'description': ...</td>\n",
       "      <td>0.62</td>\n",
       "      <td>NaN</td>\n",
       "    </tr>\n",
       "    <tr>\n",
       "      <th>4</th>\n",
       "      <td>1632452400</td>\n",
       "      <td>29.19</td>\n",
       "      <td>34.38</td>\n",
       "      <td>1015</td>\n",
       "      <td>76</td>\n",
       "      <td>24.52</td>\n",
       "      <td>8.42</td>\n",
       "      <td>48</td>\n",
       "      <td>10000</td>\n",
       "      <td>6.67</td>\n",
       "      <td>89</td>\n",
       "      <td>8.09</td>\n",
       "      <td>[{'id': 500, 'main': 'Rain', 'description': 'l...</td>\n",
       "      <td>0.57</td>\n",
       "      <td>{'1h': 0.1}</td>\n",
       "    </tr>\n",
       "  </tbody>\n",
       "</table>\n",
       "</div>"
      ],
      "text/plain": [
       "           dt   temp  feels_like  pressure  humidity  dew_point   uvi  clouds  \\\n",
       "0  1632438000  28.52       34.61      1014        86      25.95  0.20      58   \n",
       "1  1632441600  28.49       34.12      1014        84      25.52  1.10      57   \n",
       "2  1632445200  28.58       33.98      1014        82      25.20  3.08      51   \n",
       "3  1632448800  28.83       34.27      1015        80      25.03  5.83      50   \n",
       "4  1632452400  29.19       34.38      1015        76      24.52  8.42      48   \n",
       "\n",
       "   visibility  wind_speed  wind_deg  wind_gust  \\\n",
       "0       10000        6.36        88       8.73   \n",
       "1       10000        6.68        89       8.59   \n",
       "2       10000        7.08        91       8.65   \n",
       "3       10000        6.72        88       8.38   \n",
       "4       10000        6.67        89       8.09   \n",
       "\n",
       "                                             weather   pop          rain  \n",
       "0  [{'id': 500, 'main': 'Rain', 'description': 'l...  0.69  {'1h': 0.37}  \n",
       "1  [{'id': 803, 'main': 'Clouds', 'description': ...  0.69           NaN  \n",
       "2  [{'id': 803, 'main': 'Clouds', 'description': ...  0.58           NaN  \n",
       "3  [{'id': 802, 'main': 'Clouds', 'description': ...  0.62           NaN  \n",
       "4  [{'id': 500, 'main': 'Rain', 'description': 'l...  0.57   {'1h': 0.1}  "
      ]
     },
     "execution_count": 10,
     "metadata": {},
     "output_type": "execute_result"
    }
   ],
   "source": [
    "df_hourly.head()"
   ]
  },
  {
   "cell_type": "code",
   "execution_count": null,
   "metadata": {},
   "outputs": [],
   "source": []
  }
 ],
 "metadata": {
  "interpreter": {
   "hash": "c1b4cfe941b6d2466ad1fb5979e97da9cda8801728c8091b097ab734208fc00c"
  },
  "kernelspec": {
   "display_name": "Python 3.8.3 64-bit ('base': conda)",
   "name": "python3"
  },
  "language_info": {
   "codemirror_mode": {
    "name": "ipython",
    "version": 3
   },
   "file_extension": ".py",
   "mimetype": "text/x-python",
   "name": "python",
   "nbconvert_exporter": "python",
   "pygments_lexer": "ipython3",
   "version": "3.8.12"
  }
 },
 "nbformat": 4,
 "nbformat_minor": 2
}
