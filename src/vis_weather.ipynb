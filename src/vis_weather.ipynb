{
 "cells": [
  {
   "cell_type": "code",
   "execution_count": 1,
   "metadata": {
    "execution": {
     "iopub.execute_input": "2021-10-22T21:10:47.470239Z",
     "iopub.status.busy": "2021-10-22T21:10:47.469559Z",
     "iopub.status.idle": "2021-10-22T21:10:48.870805Z",
     "shell.execute_reply": "2021-10-22T21:10:48.870055Z"
    }
   },
   "outputs": [],
   "source": [
    "import json, yaml, requests\r\n",
    "from datetime import datetime\r\n",
    "from dateutil import tz\r\n",
    "import pandas as pd\r\n",
    "from PIL import Image\r\n",
    "from io import BytesIO\r\n",
    "import matplotlib.pyplot as plt\r\n",
    "import seaborn\r\n",
    "\r\n",
    "CONFIG_PATH = \"../config/config.yaml\""
   ]
  },
  {
   "cell_type": "code",
   "execution_count": 2,
   "metadata": {
    "execution": {
     "iopub.execute_input": "2021-10-22T21:10:48.876591Z",
     "iopub.status.busy": "2021-10-22T21:10:48.875870Z",
     "iopub.status.idle": "2021-10-22T21:10:48.883975Z",
     "shell.execute_reply": "2021-10-22T21:10:48.882931Z"
    }
   },
   "outputs": [],
   "source": [
    "with open('../newest_ts', 'r') as f:\r\n",
    "    newest_ts = f.read()\r\n",
    "\r\n",
    "data_path = f\"../data/data_{newest_ts}.json\"\r\n",
    "with open(data_path, 'r') as f:\r\n",
    "    data = json.load(f)\r\n",
    "\r\n",
    "with open(CONFIG_PATH, \"r\") as stream:\r\n",
    "    config = yaml.safe_load(stream)\r\n",
    "\r\n",
    "TIME_ZONE = config['time_zone']\r\n",
    "DATETIME_FORMAT = config['dt_format']"
   ]
  },
  {
   "cell_type": "code",
   "execution_count": 3,
   "metadata": {
    "execution": {
     "iopub.execute_input": "2021-10-22T21:10:48.889577Z",
     "iopub.status.busy": "2021-10-22T21:10:48.888825Z",
     "iopub.status.idle": "2021-10-22T21:10:48.985694Z",
     "shell.execute_reply": "2021-10-22T21:10:48.990315Z"
    }
   },
   "outputs": [
    {
     "name": "stdout",
     "output_type": "stream",
     "text": [
      "Recent query happens at 2021-10-23 05:10:44 (CST).\n"
     ]
    }
   ],
   "source": [
    "def ts2dt(ts, format=DATETIME_FORMAT):\r\n",
    "    dt = (datetime.utcfromtimestamp(int(ts))\r\n",
    "                    .replace(tzinfo=tz.tzutc())\r\n",
    "                    # .astimezone(tz.tzlocal())\r\n",
    "                    .astimezone(tz.gettz(TIME_ZONE)))\r\n",
    "    return dt.strftime(format), dt\r\n",
    "\r\n",
    "_, newest_dt = ts2dt(newest_ts)\r\n",
    "print(f\"Recent query happens at {newest_dt.strftime(DATETIME_FORMAT)} ({newest_dt.tzname()}).\")"
   ]
  },
  {
   "cell_type": "code",
   "execution_count": 4,
   "metadata": {
    "execution": {
     "iopub.execute_input": "2021-10-22T21:10:48.996854Z",
     "iopub.status.busy": "2021-10-22T21:10:48.996235Z",
     "iopub.status.idle": "2021-10-22T21:10:48.999532Z",
     "shell.execute_reply": "2021-10-22T21:10:48.999020Z"
    }
   },
   "outputs": [],
   "source": [
    "def degrees_to_cardinal(d):\r\n",
    "  dirs = ['N', 'NNE', 'NE', 'ENE', 'E', 'ESE', 'SE', 'SSE', 'S', 'SSW', 'SW', 'WSW', 'W', 'WNW', 'NW', 'NNW']\r\n",
    "  ix = int(round(d / (360. / len(dirs))))\r\n",
    "  return dirs[ix % len(dirs)]"
   ]
  },
  {
   "cell_type": "code",
   "execution_count": 5,
   "metadata": {
    "execution": {
     "iopub.execute_input": "2021-10-22T21:10:49.003776Z",
     "iopub.status.busy": "2021-10-22T21:10:49.003188Z",
     "iopub.status.idle": "2021-10-22T21:10:49.004781Z",
     "shell.execute_reply": "2021-10-22T21:10:49.005412Z"
    }
   },
   "outputs": [],
   "source": [
    "# data.keys()"
   ]
  },
  {
   "cell_type": "code",
   "execution_count": 6,
   "metadata": {
    "execution": {
     "iopub.execute_input": "2021-10-22T21:10:49.009552Z",
     "iopub.status.busy": "2021-10-22T21:10:49.008722Z",
     "iopub.status.idle": "2021-10-22T21:10:49.010302Z",
     "shell.execute_reply": "2021-10-22T21:10:49.010918Z"
    }
   },
   "outputs": [],
   "source": [
    "# data['current']"
   ]
  },
  {
   "cell_type": "code",
   "execution_count": 7,
   "metadata": {
    "execution": {
     "iopub.execute_input": "2021-10-22T21:10:49.033678Z",
     "iopub.status.busy": "2021-10-22T21:10:49.033034Z",
     "iopub.status.idle": "2021-10-22T21:10:49.314332Z",
     "shell.execute_reply": "2021-10-22T21:10:49.313817Z"
    }
   },
   "outputs": [
    {
     "data": {
      "image/png": "[encoded data removed]",
      "text/plain": [
       "<Figure size 216x216 with 1 Axes>"
      ]
     },
     "metadata": {
      "needs_background": "light"
     },
     "output_type": "display_data"
    },
    {
     "name": "stdout",
     "output_type": "stream",
     "text": [
      "Today, sun rises at 06:22 and sets at 17:51.\n",
      "Currently, the weather is Clouds (overcast clouds).\n",
      "The temperature is 18.81°C and it feels like 18.86°C.\n",
      "The UV index is 0, humidity is 81%.\n",
      "The pressure is 1018 hPa, percentage of cloud cover is 96%\n",
      "The wind comes from NNE direction with a speed 3.35 m/s.\n"
     ]
    }
   ],
   "source": [
    "current = data['current']\r\n",
    "\r\n",
    "fig, ax = plt.subplots(figsize=(3, 3))\r\n",
    "icon = requests.get(f\"http://openweathermap.org/img/wn/{current['weather'][0]['icon']}@2x.png\")\r\n",
    "im = Image.open(BytesIO(icon.content))\r\n",
    "plt.imshow(im)\r\n",
    "ax.set_axis_off()\r\n",
    "plt.show()\r\n",
    "\r\n",
    "print(f\"Today, sun rises at {ts2dt(current['sunrise'], '%H:%M')[0]} \\\r\n",
    "and sets at {ts2dt(current['sunset'], '%H:%M')[0]}.\\n\\\r\n",
    "Currently, the weather is {current['weather'][0]['main']} ({current['weather'][0]['description']}).\\n\\\r\n",
    "The temperature is {current['temp']}°C and it feels like {current['feels_like']}°C.\\n\\\r\n",
    "The UV index is {current['uvi']}, humidity is {current['humidity']}%.\\n\\\r\n",
    "The pressure is {current['pressure']} hPa, percentage of cloud cover is {current['clouds']}%\\n\\\r\n",
    "The wind comes from {degrees_to_cardinal(current['wind_deg'])} direction with a speed {current['wind_speed']} m/s.\")"
   ]
  },
  {
   "cell_type": "code",
   "execution_count": 8,
   "metadata": {
    "execution": {
     "iopub.execute_input": "2021-10-22T21:10:49.323653Z",
     "iopub.status.busy": "2021-10-22T21:10:49.319589Z",
     "iopub.status.idle": "2021-10-22T21:10:49.325672Z",
     "shell.execute_reply": "2021-10-22T21:10:49.326172Z"
    }
   },
   "outputs": [],
   "source": [
    "df_hourly = pd.DataFrame(data['hourly'])\r\n",
    "df_daily = pd.DataFrame(data['daily'])"
   ]
  },
  {
   "cell_type": "code",
   "execution_count": 9,
   "metadata": {
    "execution": {
     "iopub.execute_input": "2021-10-22T21:10:49.338914Z",
     "iopub.status.busy": "2021-10-22T21:10:49.338271Z",
     "iopub.status.idle": "2021-10-22T21:10:49.655676Z",
     "shell.execute_reply": "2021-10-22T21:10:49.656451Z"
    }
   },
   "outputs": [
    {
     "data": {
      "image/png": "[encoded data removed]",
      "text/plain": [
       "<Figure size 864x432 with 1 Axes>"
      ]
     },
     "metadata": {
      "needs_background": "light"
     },
     "output_type": "display_data"
    }
   ],
   "source": [
    "fig, ax = plt.subplots(figsize=(12, 6))\r\n",
    "plt.plot(df_hourly.temp, '.-', label='Temperature')\r\n",
    "plt.plot(df_hourly.feels_like, '.-', label='Feels Like')\r\n",
    "ax.set(title='Temperature in future 48 hours', xlabel='Time', ylabel='Temperature')\r\n",
    "ax.set_xticks(list(range(0, len(df_hourly), 2)))\r\n",
    "ax.set_xticklabels([ts2dt(ts, '%m-%d %H:%M')[0] for i, ts in enumerate(df_hourly.dt) if i%2==0], \r\n",
    "                   rotation=45, ha=\"right\")\r\n",
    "ax.locator_params(nbins=15, axis='y')\r\n",
    "plt.legend()\r\n",
    "plt.show()"
   ]
  },
  {
   "cell_type": "code",
   "execution_count": 10,
   "metadata": {
    "execution": {
     "iopub.execute_input": "2021-10-22T21:10:49.665327Z",
     "iopub.status.busy": "2021-10-22T21:10:49.662737Z",
     "iopub.status.idle": "2021-10-22T21:10:49.682520Z",
     "shell.execute_reply": "2021-10-22T21:10:49.683112Z"
    }
   },
   "outputs": [
    {
     "data": {
      "text/html": [
       "<div>\n",
       "<style scoped>\n",
       "    .dataframe tbody tr th:only-of-type {\n",
       "        vertical-align: middle;\n",
       "    }\n",
       "\n",
       "    .dataframe tbody tr th {\n",
       "        vertical-align: top;\n",
       "    }\n",
       "\n",
       "    .dataframe thead th {\n",
       "        text-align: right;\n",
       "    }\n",
       "</style>\n",
       "<table border=\"1\" class=\"dataframe\">\n",
       "  <thead>\n",
       "    <tr style=\"text-align: right;\">\n",
       "      <th></th>\n",
       "      <th>dt</th>\n",
       "      <th>temp</th>\n",
       "      <th>feels_like</th>\n",
       "      <th>pressure</th>\n",
       "      <th>humidity</th>\n",
       "      <th>dew_point</th>\n",
       "      <th>uvi</th>\n",
       "      <th>clouds</th>\n",
       "      <th>visibility</th>\n",
       "      <th>wind_speed</th>\n",
       "      <th>wind_deg</th>\n",
       "      <th>wind_gust</th>\n",
       "      <th>weather</th>\n",
       "      <th>pop</th>\n",
       "    </tr>\n",
       "  </thead>\n",
       "  <tbody>\n",
       "    <tr>\n",
       "      <th>0</th>\n",
       "      <td>1634936400</td>\n",
       "      <td>18.81</td>\n",
       "      <td>18.86</td>\n",
       "      <td>1018</td>\n",
       "      <td>81</td>\n",
       "      <td>15.48</td>\n",
       "      <td>0.00</td>\n",
       "      <td>96</td>\n",
       "      <td>10000</td>\n",
       "      <td>3.35</td>\n",
       "      <td>25</td>\n",
       "      <td>4.49</td>\n",
       "      <td>[{'id': 804, 'main': 'Clouds', 'description': ...</td>\n",
       "      <td>0.03</td>\n",
       "    </tr>\n",
       "    <tr>\n",
       "      <th>1</th>\n",
       "      <td>1634940000</td>\n",
       "      <td>18.71</td>\n",
       "      <td>18.70</td>\n",
       "      <td>1018</td>\n",
       "      <td>79</td>\n",
       "      <td>15.00</td>\n",
       "      <td>0.00</td>\n",
       "      <td>96</td>\n",
       "      <td>10000</td>\n",
       "      <td>3.30</td>\n",
       "      <td>18</td>\n",
       "      <td>4.26</td>\n",
       "      <td>[{'id': 804, 'main': 'Clouds', 'description': ...</td>\n",
       "      <td>0.03</td>\n",
       "    </tr>\n",
       "    <tr>\n",
       "      <th>2</th>\n",
       "      <td>1634943600</td>\n",
       "      <td>18.63</td>\n",
       "      <td>18.53</td>\n",
       "      <td>1019</td>\n",
       "      <td>76</td>\n",
       "      <td>14.32</td>\n",
       "      <td>0.00</td>\n",
       "      <td>96</td>\n",
       "      <td>10000</td>\n",
       "      <td>3.29</td>\n",
       "      <td>15</td>\n",
       "      <td>4.26</td>\n",
       "      <td>[{'id': 804, 'main': 'Clouds', 'description': ...</td>\n",
       "      <td>0.03</td>\n",
       "    </tr>\n",
       "    <tr>\n",
       "      <th>3</th>\n",
       "      <td>1634947200</td>\n",
       "      <td>18.68</td>\n",
       "      <td>18.51</td>\n",
       "      <td>1020</td>\n",
       "      <td>73</td>\n",
       "      <td>13.75</td>\n",
       "      <td>0.32</td>\n",
       "      <td>97</td>\n",
       "      <td>10000</td>\n",
       "      <td>3.26</td>\n",
       "      <td>16</td>\n",
       "      <td>4.15</td>\n",
       "      <td>[{'id': 804, 'main': 'Clouds', 'description': ...</td>\n",
       "      <td>0.00</td>\n",
       "    </tr>\n",
       "    <tr>\n",
       "      <th>4</th>\n",
       "      <td>1634950800</td>\n",
       "      <td>19.26</td>\n",
       "      <td>19.04</td>\n",
       "      <td>1021</td>\n",
       "      <td>69</td>\n",
       "      <td>13.44</td>\n",
       "      <td>1.58</td>\n",
       "      <td>74</td>\n",
       "      <td>10000</td>\n",
       "      <td>3.15</td>\n",
       "      <td>20</td>\n",
       "      <td>3.99</td>\n",
       "      <td>[{'id': 803, 'main': 'Clouds', 'description': ...</td>\n",
       "      <td>0.00</td>\n",
       "    </tr>\n",
       "  </tbody>\n",
       "</table>\n",
       "</div>"
      ],
      "text/plain": [
       "           dt   temp  feels_like  pressure  humidity  dew_point   uvi  clouds  \\\n",
       "0  1634936400  18.81       18.86      1018        81      15.48  0.00      96   \n",
       "1  1634940000  18.71       18.70      1018        79      15.00  0.00      96   \n",
       "2  1634943600  18.63       18.53      1019        76      14.32  0.00      96   \n",
       "3  1634947200  18.68       18.51      1020        73      13.75  0.32      97   \n",
       "4  1634950800  19.26       19.04      1021        69      13.44  1.58      74   \n",
       "\n",
       "   visibility  wind_speed  wind_deg  wind_gust  \\\n",
       "0       10000        3.35        25       4.49   \n",
       "1       10000        3.30        18       4.26   \n",
       "2       10000        3.29        15       4.26   \n",
       "3       10000        3.26        16       4.15   \n",
       "4       10000        3.15        20       3.99   \n",
       "\n",
       "                                             weather   pop  \n",
       "0  [{'id': 804, 'main': 'Clouds', 'description': ...  0.03  \n",
       "1  [{'id': 804, 'main': 'Clouds', 'description': ...  0.03  \n",
       "2  [{'id': 804, 'main': 'Clouds', 'description': ...  0.03  \n",
       "3  [{'id': 804, 'main': 'Clouds', 'description': ...  0.00  \n",
       "4  [{'id': 803, 'main': 'Clouds', 'description': ...  0.00  "
      ]
     },
     "execution_count": 10,
     "metadata": {},
     "output_type": "execute_result"
    }
   ],
   "source": [
    "df_hourly.head()"
   ]
  },
  {
   "cell_type": "code",
   "execution_count": null,
   "metadata": {},
   "outputs": [],
   "source": []
  }
 ],
 "metadata": {
  "interpreter": {
   "hash": "c1b4cfe941b6d2466ad1fb5979e97da9cda8801728c8091b097ab734208fc00c"
  },
  "kernelspec": {
   "display_name": "Python 3.8.3 64-bit ('base': conda)",
   "name": "python3"
  },
  "language_info": {
   "codemirror_mode": {
    "name": "ipython",
    "version": 3
   },
   "file_extension": ".py",
   "mimetype": "text/x-python",
   "name": "python",
   "nbconvert_exporter": "python",
   "pygments_lexer": "ipython3",
   "version": "3.8.12"
  }
 },
 "nbformat": 4,
 "nbformat_minor": 2
}
