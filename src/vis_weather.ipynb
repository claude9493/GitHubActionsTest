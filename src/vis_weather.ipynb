{
 "cells": [
  {
   "cell_type": "code",
   "execution_count": 1,
   "metadata": {
    "execution": {
     "iopub.execute_input": "2021-09-29T06:13:54.826964Z",
     "iopub.status.busy": "2021-09-29T06:13:54.826439Z",
     "iopub.status.idle": "2021-09-29T06:13:55.945311Z",
     "shell.execute_reply": "2021-09-29T06:13:55.944622Z"
    }
   },
   "outputs": [],
   "source": [
    "import json, yaml, requests\r\n",
    "from datetime import datetime\r\n",
    "from dateutil import tz\r\n",
    "import pandas as pd\r\n",
    "from PIL import Image\r\n",
    "from io import BytesIO\r\n",
    "import matplotlib.pyplot as plt\r\n",
    "import seaborn\r\n",
    "\r\n",
    "CONFIG_PATH = \"../config/config.yaml\""
   ]
  },
  {
   "cell_type": "code",
   "execution_count": 2,
   "metadata": {
    "execution": {
     "iopub.execute_input": "2021-09-29T06:13:55.948153Z",
     "iopub.status.busy": "2021-09-29T06:13:55.947633Z",
     "iopub.status.idle": "2021-09-29T06:13:55.954925Z",
     "shell.execute_reply": "2021-09-29T06:13:55.954483Z"
    }
   },
   "outputs": [],
   "source": [
    "with open('../newest_ts', 'r') as f:\r\n",
    "    newest_ts = f.read()\r\n",
    "\r\n",
    "data_path = f\"../data/data_{newest_ts}.json\"\r\n",
    "with open(data_path, 'r') as f:\r\n",
    "    data = json.load(f)\r\n",
    "\r\n",
    "with open(CONFIG_PATH, \"r\") as stream:\r\n",
    "    config = yaml.safe_load(stream)\r\n",
    "\r\n",
    "TIME_ZONE = config['time_zone']\r\n",
    "DATETIME_FORMAT = config['dt_format']"
   ]
  },
  {
   "cell_type": "code",
   "execution_count": 3,
   "metadata": {
    "execution": {
     "iopub.execute_input": "2021-09-29T06:13:55.959452Z",
     "iopub.status.busy": "2021-09-29T06:13:55.958914Z",
     "iopub.status.idle": "2021-09-29T06:13:55.963828Z",
     "shell.execute_reply": "2021-09-29T06:13:55.964219Z"
    }
   },
   "outputs": [
    {
     "name": "stdout",
     "output_type": "stream",
     "text": [
      "Recent query happens at 2021-09-29 14:13:51 (CST).\n"
     ]
    }
   ],
   "source": [
    "def ts2dt(ts, format=DATETIME_FORMAT):\r\n",
    "    dt = (datetime.utcfromtimestamp(int(ts))\r\n",
    "                    .replace(tzinfo=tz.tzutc())\r\n",
    "                    # .astimezone(tz.tzlocal())\r\n",
    "                    .astimezone(tz.gettz(TIME_ZONE)))\r\n",
    "    return dt.strftime(format), dt\r\n",
    "\r\n",
    "_, newest_dt = ts2dt(newest_ts)\r\n",
    "print(f\"Recent query happens at {newest_dt.strftime(DATETIME_FORMAT)} ({newest_dt.tzname()}).\")"
   ]
  },
  {
   "cell_type": "code",
   "execution_count": 4,
   "metadata": {
    "execution": {
     "iopub.execute_input": "2021-09-29T06:13:55.969308Z",
     "iopub.status.busy": "2021-09-29T06:13:55.968007Z",
     "iopub.status.idle": "2021-09-29T06:13:55.969862Z",
     "shell.execute_reply": "2021-09-29T06:13:55.970249Z"
    }
   },
   "outputs": [],
   "source": [
    "def degrees_to_cardinal(d):\r\n",
    "  dirs = ['N', 'NNE', 'NE', 'ENE', 'E', 'ESE', 'SE', 'SSE', 'S', 'SSW', 'SW', 'WSW', 'W', 'WNW', 'NW', 'NNW']\r\n",
    "  ix = int(round(d / (360. / len(dirs))))\r\n",
    "  return dirs[ix % len(dirs)]"
   ]
  },
  {
   "cell_type": "code",
   "execution_count": 5,
   "metadata": {
    "execution": {
     "iopub.execute_input": "2021-09-29T06:13:55.975159Z",
     "iopub.status.busy": "2021-09-29T06:13:55.973609Z",
     "iopub.status.idle": "2021-09-29T06:13:55.975747Z",
     "shell.execute_reply": "2021-09-29T06:13:55.976135Z"
    }
   },
   "outputs": [],
   "source": [
    "# data.keys()"
   ]
  },
  {
   "cell_type": "code",
   "execution_count": 6,
   "metadata": {
    "execution": {
     "iopub.execute_input": "2021-09-29T06:13:55.979181Z",
     "iopub.status.busy": "2021-09-29T06:13:55.977985Z",
     "iopub.status.idle": "2021-09-29T06:13:55.981378Z",
     "shell.execute_reply": "2021-09-29T06:13:55.980727Z"
    }
   },
   "outputs": [],
   "source": [
    "# data['current']"
   ]
  },
  {
   "cell_type": "code",
   "execution_count": 7,
   "metadata": {
    "execution": {
     "iopub.execute_input": "2021-09-29T06:13:55.991153Z",
     "iopub.status.busy": "2021-09-29T06:13:55.987028Z",
     "iopub.status.idle": "2021-09-29T06:13:56.412159Z",
     "shell.execute_reply": "2021-09-29T06:13:56.412900Z"
    }
   },
   "outputs": [
    {
     "data": {
      "image/png": "[encoded data removed]",
      "text/plain": [
       "<Figure size 216x216 with 1 Axes>"
      ]
     },
     "metadata": {
      "needs_background": "light"
     },
     "output_type": "display_data"
    },
    {
     "name": "stdout",
     "output_type": "stream",
     "text": [
      "Today, sun rises at 06:13 and sets at 18:12.\n",
      "Currently, the weather is Clouds (few clouds).\n",
      "The temperature is 31.47°C and it feels like 38.47°C.\n",
      "The UV index is 7.62, humidity is 77%.\n",
      "The pressure is 1004 hPa, percentage of cloud cover is 18%\n",
      "The wind comes from S direction with a speed 1.34 m/s.\n"
     ]
    }
   ],
   "source": [
    "current = data['current']\r\n",
    "\r\n",
    "fig, ax = plt.subplots(figsize=(3, 3))\r\n",
    "icon = requests.get(f\"http://openweathermap.org/img/wn/{current['weather'][0]['icon']}@2x.png\")\r\n",
    "im = Image.open(BytesIO(icon.content))\r\n",
    "plt.imshow(im)\r\n",
    "ax.set_axis_off()\r\n",
    "plt.show()\r\n",
    "\r\n",
    "print(f\"Today, sun rises at {ts2dt(current['sunrise'], '%H:%M')[0]} \\\r\n",
    "and sets at {ts2dt(current['sunset'], '%H:%M')[0]}.\\n\\\r\n",
    "Currently, the weather is {current['weather'][0]['main']} ({current['weather'][0]['description']}).\\n\\\r\n",
    "The temperature is {current['temp']}°C and it feels like {current['feels_like']}°C.\\n\\\r\n",
    "The UV index is {current['uvi']}, humidity is {current['humidity']}%.\\n\\\r\n",
    "The pressure is {current['pressure']} hPa, percentage of cloud cover is {current['clouds']}%\\n\\\r\n",
    "The wind comes from {degrees_to_cardinal(current['wind_deg'])} direction with a speed {current['wind_speed']} m/s.\")"
   ]
  },
  {
   "cell_type": "code",
   "execution_count": 8,
   "metadata": {
    "execution": {
     "iopub.execute_input": "2021-09-29T06:13:56.416280Z",
     "iopub.status.busy": "2021-09-29T06:13:56.415339Z",
     "iopub.status.idle": "2021-09-29T06:13:56.423174Z",
     "shell.execute_reply": "2021-09-29T06:13:56.423851Z"
    }
   },
   "outputs": [],
   "source": [
    "df_hourly = pd.DataFrame(data['hourly'])\r\n",
    "df_daily = pd.DataFrame(data['daily'])"
   ]
  },
  {
   "cell_type": "code",
   "execution_count": 9,
   "metadata": {
    "execution": {
     "iopub.execute_input": "2021-09-29T06:13:56.427143Z",
     "iopub.status.busy": "2021-09-29T06:13:56.426007Z",
     "iopub.status.idle": "2021-09-29T06:13:56.755742Z",
     "shell.execute_reply": "2021-09-29T06:13:56.755329Z"
    }
   },
   "outputs": [
    {
     "data": {
      "image/png": "[encoded data removed]",
      "text/plain": [
       "<Figure size 864x432 with 1 Axes>"
      ]
     },
     "metadata": {
      "needs_background": "light"
     },
     "output_type": "display_data"
    }
   ],
   "source": [
    "fig, ax = plt.subplots(figsize=(12, 6))\r\n",
    "plt.plot(df_hourly.temp, '.-', label='Temperature')\r\n",
    "plt.plot(df_hourly.feels_like, '.-', label='Feels Like')\r\n",
    "ax.set(title='Temperature in future 48 hours', xlabel='Time', ylabel='Temperature')\r\n",
    "ax.set_xticks(list(range(0, len(df_hourly), 2)))\r\n",
    "ax.set_xticklabels([ts2dt(ts, '%m-%d %H:%M')[0] for i, ts in enumerate(df_hourly.dt) if i%2==0], \r\n",
    "                   rotation=45, ha=\"right\")\r\n",
    "ax.locator_params(nbins=15, axis='y')\r\n",
    "plt.legend()\r\n",
    "plt.show()"
   ]
  },
  {
   "cell_type": "code",
   "execution_count": 10,
   "metadata": {
    "execution": {
     "iopub.execute_input": "2021-09-29T06:13:56.768089Z",
     "iopub.status.busy": "2021-09-29T06:13:56.759293Z",
     "iopub.status.idle": "2021-09-29T06:13:56.780431Z",
     "shell.execute_reply": "2021-09-29T06:13:56.780859Z"
    }
   },
   "outputs": [
    {
     "data": {
      "text/html": [
       "<div>\n",
       "<style scoped>\n",
       "    .dataframe tbody tr th:only-of-type {\n",
       "        vertical-align: middle;\n",
       "    }\n",
       "\n",
       "    .dataframe tbody tr th {\n",
       "        vertical-align: top;\n",
       "    }\n",
       "\n",
       "    .dataframe thead th {\n",
       "        text-align: right;\n",
       "    }\n",
       "</style>\n",
       "<table border=\"1\" class=\"dataframe\">\n",
       "  <thead>\n",
       "    <tr style=\"text-align: right;\">\n",
       "      <th></th>\n",
       "      <th>dt</th>\n",
       "      <th>temp</th>\n",
       "      <th>feels_like</th>\n",
       "      <th>pressure</th>\n",
       "      <th>humidity</th>\n",
       "      <th>dew_point</th>\n",
       "      <th>uvi</th>\n",
       "      <th>clouds</th>\n",
       "      <th>visibility</th>\n",
       "      <th>wind_speed</th>\n",
       "      <th>wind_deg</th>\n",
       "      <th>wind_gust</th>\n",
       "      <th>weather</th>\n",
       "      <th>pop</th>\n",
       "      <th>rain</th>\n",
       "    </tr>\n",
       "  </thead>\n",
       "  <tbody>\n",
       "    <tr>\n",
       "      <th>0</th>\n",
       "      <td>1632895200</td>\n",
       "      <td>31.47</td>\n",
       "      <td>38.47</td>\n",
       "      <td>1004</td>\n",
       "      <td>77</td>\n",
       "      <td>26.94</td>\n",
       "      <td>7.62</td>\n",
       "      <td>18</td>\n",
       "      <td>10000</td>\n",
       "      <td>4.07</td>\n",
       "      <td>206</td>\n",
       "      <td>3.54</td>\n",
       "      <td>[{'id': 801, 'main': 'Clouds', 'description': ...</td>\n",
       "      <td>0.0</td>\n",
       "      <td>NaN</td>\n",
       "    </tr>\n",
       "    <tr>\n",
       "      <th>1</th>\n",
       "      <td>1632898800</td>\n",
       "      <td>31.12</td>\n",
       "      <td>38.12</td>\n",
       "      <td>1005</td>\n",
       "      <td>76</td>\n",
       "      <td>26.38</td>\n",
       "      <td>5.14</td>\n",
       "      <td>24</td>\n",
       "      <td>10000</td>\n",
       "      <td>4.11</td>\n",
       "      <td>201</td>\n",
       "      <td>3.86</td>\n",
       "      <td>[{'id': 801, 'main': 'Clouds', 'description': ...</td>\n",
       "      <td>0.0</td>\n",
       "      <td>NaN</td>\n",
       "    </tr>\n",
       "    <tr>\n",
       "      <th>2</th>\n",
       "      <td>1632902400</td>\n",
       "      <td>30.81</td>\n",
       "      <td>37.81</td>\n",
       "      <td>1005</td>\n",
       "      <td>75</td>\n",
       "      <td>25.86</td>\n",
       "      <td>2.51</td>\n",
       "      <td>24</td>\n",
       "      <td>10000</td>\n",
       "      <td>4.01</td>\n",
       "      <td>201</td>\n",
       "      <td>3.94</td>\n",
       "      <td>[{'id': 801, 'main': 'Clouds', 'description': ...</td>\n",
       "      <td>0.0</td>\n",
       "      <td>NaN</td>\n",
       "    </tr>\n",
       "    <tr>\n",
       "      <th>3</th>\n",
       "      <td>1632906000</td>\n",
       "      <td>30.30</td>\n",
       "      <td>36.85</td>\n",
       "      <td>1005</td>\n",
       "      <td>74</td>\n",
       "      <td>25.14</td>\n",
       "      <td>0.78</td>\n",
       "      <td>23</td>\n",
       "      <td>10000</td>\n",
       "      <td>3.70</td>\n",
       "      <td>205</td>\n",
       "      <td>3.72</td>\n",
       "      <td>[{'id': 801, 'main': 'Clouds', 'description': ...</td>\n",
       "      <td>0.0</td>\n",
       "      <td>NaN</td>\n",
       "    </tr>\n",
       "    <tr>\n",
       "      <th>4</th>\n",
       "      <td>1632909600</td>\n",
       "      <td>29.45</td>\n",
       "      <td>35.06</td>\n",
       "      <td>1006</td>\n",
       "      <td>76</td>\n",
       "      <td>24.77</td>\n",
       "      <td>0.00</td>\n",
       "      <td>24</td>\n",
       "      <td>10000</td>\n",
       "      <td>3.04</td>\n",
       "      <td>212</td>\n",
       "      <td>3.21</td>\n",
       "      <td>[{'id': 801, 'main': 'Clouds', 'description': ...</td>\n",
       "      <td>0.0</td>\n",
       "      <td>NaN</td>\n",
       "    </tr>\n",
       "  </tbody>\n",
       "</table>\n",
       "</div>"
      ],
      "text/plain": [
       "           dt   temp  feels_like  pressure  humidity  dew_point   uvi  clouds  \\\n",
       "0  1632895200  31.47       38.47      1004        77      26.94  7.62      18   \n",
       "1  1632898800  31.12       38.12      1005        76      26.38  5.14      24   \n",
       "2  1632902400  30.81       37.81      1005        75      25.86  2.51      24   \n",
       "3  1632906000  30.30       36.85      1005        74      25.14  0.78      23   \n",
       "4  1632909600  29.45       35.06      1006        76      24.77  0.00      24   \n",
       "\n",
       "   visibility  wind_speed  wind_deg  wind_gust  \\\n",
       "0       10000        4.07       206       3.54   \n",
       "1       10000        4.11       201       3.86   \n",
       "2       10000        4.01       201       3.94   \n",
       "3       10000        3.70       205       3.72   \n",
       "4       10000        3.04       212       3.21   \n",
       "\n",
       "                                             weather  pop rain  \n",
       "0  [{'id': 801, 'main': 'Clouds', 'description': ...  0.0  NaN  \n",
       "1  [{'id': 801, 'main': 'Clouds', 'description': ...  0.0  NaN  \n",
       "2  [{'id': 801, 'main': 'Clouds', 'description': ...  0.0  NaN  \n",
       "3  [{'id': 801, 'main': 'Clouds', 'description': ...  0.0  NaN  \n",
       "4  [{'id': 801, 'main': 'Clouds', 'description': ...  0.0  NaN  "
      ]
     },
     "execution_count": 10,
     "metadata": {},
     "output_type": "execute_result"
    }
   ],
   "source": [
    "df_hourly.head()"
   ]
  },
  {
   "cell_type": "code",
   "execution_count": null,
   "metadata": {},
   "outputs": [],
   "source": []
  }
 ],
 "metadata": {
  "interpreter": {
   "hash": "c1b4cfe941b6d2466ad1fb5979e97da9cda8801728c8091b097ab734208fc00c"
  },
  "kernelspec": {
   "display_name": "Python 3.8.3 64-bit ('base': conda)",
   "name": "python3"
  },
  "language_info": {
   "codemirror_mode": {
    "name": "ipython",
    "version": 3
   },
   "file_extension": ".py",
   "mimetype": "text/x-python",
   "name": "python",
   "nbconvert_exporter": "python",
   "pygments_lexer": "ipython3",
   "version": "3.8.12"
  }
 },
 "nbformat": 4,
 "nbformat_minor": 2
}
