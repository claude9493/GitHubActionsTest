{
 "cells": [
  {
   "cell_type": "code",
   "execution_count": 1,
   "metadata": {
    "execution": {
     "iopub.execute_input": "2021-10-02T06:13:27.193657Z",
     "iopub.status.busy": "2021-10-02T06:13:27.192997Z",
     "iopub.status.idle": "2021-10-02T06:13:28.645871Z",
     "shell.execute_reply": "2021-10-02T06:13:28.646344Z"
    }
   },
   "outputs": [],
   "source": [
    "import json, yaml, requests\r\n",
    "from datetime import datetime\r\n",
    "from dateutil import tz\r\n",
    "import pandas as pd\r\n",
    "from PIL import Image\r\n",
    "from io import BytesIO\r\n",
    "import matplotlib.pyplot as plt\r\n",
    "import seaborn\r\n",
    "\r\n",
    "CONFIG_PATH = \"../config/config.yaml\""
   ]
  },
  {
   "cell_type": "code",
   "execution_count": 2,
   "metadata": {
    "execution": {
     "iopub.execute_input": "2021-10-02T06:13:28.652578Z",
     "iopub.status.busy": "2021-10-02T06:13:28.651551Z",
     "iopub.status.idle": "2021-10-02T06:13:28.657334Z",
     "shell.execute_reply": "2021-10-02T06:13:28.656828Z"
    }
   },
   "outputs": [],
   "source": [
    "with open('../newest_ts', 'r') as f:\r\n",
    "    newest_ts = f.read()\r\n",
    "\r\n",
    "data_path = f\"../data/data_{newest_ts}.json\"\r\n",
    "with open(data_path, 'r') as f:\r\n",
    "    data = json.load(f)\r\n",
    "\r\n",
    "with open(CONFIG_PATH, \"r\") as stream:\r\n",
    "    config = yaml.safe_load(stream)\r\n",
    "\r\n",
    "TIME_ZONE = config['time_zone']\r\n",
    "DATETIME_FORMAT = config['dt_format']"
   ]
  },
  {
   "cell_type": "code",
   "execution_count": 3,
   "metadata": {
    "execution": {
     "iopub.execute_input": "2021-10-02T06:13:28.662266Z",
     "iopub.status.busy": "2021-10-02T06:13:28.661633Z",
     "iopub.status.idle": "2021-10-02T06:13:28.668205Z",
     "shell.execute_reply": "2021-10-02T06:13:28.668879Z"
    }
   },
   "outputs": [
    {
     "name": "stdout",
     "output_type": "stream",
     "text": [
      "Recent query happens at 2021-10-02 14:13:23 (CST).\n"
     ]
    }
   ],
   "source": [
    "def ts2dt(ts, format=DATETIME_FORMAT):\r\n",
    "    dt = (datetime.utcfromtimestamp(int(ts))\r\n",
    "                    .replace(tzinfo=tz.tzutc())\r\n",
    "                    # .astimezone(tz.tzlocal())\r\n",
    "                    .astimezone(tz.gettz(TIME_ZONE)))\r\n",
    "    return dt.strftime(format), dt\r\n",
    "\r\n",
    "_, newest_dt = ts2dt(newest_ts)\r\n",
    "print(f\"Recent query happens at {newest_dt.strftime(DATETIME_FORMAT)} ({newest_dt.tzname()}).\")"
   ]
  },
  {
   "cell_type": "code",
   "execution_count": 4,
   "metadata": {
    "execution": {
     "iopub.execute_input": "2021-10-02T06:13:28.674838Z",
     "iopub.status.busy": "2021-10-02T06:13:28.673307Z",
     "iopub.status.idle": "2021-10-02T06:13:28.675503Z",
     "shell.execute_reply": "2021-10-02T06:13:28.675968Z"
    }
   },
   "outputs": [],
   "source": [
    "def degrees_to_cardinal(d):\r\n",
    "  dirs = ['N', 'NNE', 'NE', 'ENE', 'E', 'ESE', 'SE', 'SSE', 'S', 'SSW', 'SW', 'WSW', 'W', 'WNW', 'NW', 'NNW']\r\n",
    "  ix = int(round(d / (360. / len(dirs))))\r\n",
    "  return dirs[ix % len(dirs)]"
   ]
  },
  {
   "cell_type": "code",
   "execution_count": 5,
   "metadata": {
    "execution": {
     "iopub.execute_input": "2021-10-02T06:13:28.681058Z",
     "iopub.status.busy": "2021-10-02T06:13:28.679464Z",
     "iopub.status.idle": "2021-10-02T06:13:28.681677Z",
     "shell.execute_reply": "2021-10-02T06:13:28.682167Z"
    }
   },
   "outputs": [],
   "source": [
    "# data.keys()"
   ]
  },
  {
   "cell_type": "code",
   "execution_count": 6,
   "metadata": {
    "execution": {
     "iopub.execute_input": "2021-10-02T06:13:28.686560Z",
     "iopub.status.busy": "2021-10-02T06:13:28.685221Z",
     "iopub.status.idle": "2021-10-02T06:13:28.687176Z",
     "shell.execute_reply": "2021-10-02T06:13:28.687640Z"
    }
   },
   "outputs": [],
   "source": [
    "# data['current']"
   ]
  },
  {
   "cell_type": "code",
   "execution_count": 7,
   "metadata": {
    "execution": {
     "iopub.execute_input": "2021-10-02T06:13:28.707100Z",
     "iopub.status.busy": "2021-10-02T06:13:28.692783Z",
     "iopub.status.idle": "2021-10-02T06:13:29.129424Z",
     "shell.execute_reply": "2021-10-02T06:13:29.130277Z"
    }
   },
   "outputs": [
    {
     "data": {
      "image/png": "[encoded data removed]",
      "text/plain": [
       "<Figure size 216x216 with 1 Axes>"
      ]
     },
     "metadata": {
      "needs_background": "light"
     },
     "output_type": "display_data"
    },
    {
     "name": "stdout",
     "output_type": "stream",
     "text": [
      "Today, sun rises at 06:14 and sets at 18:10.\n",
      "Currently, the weather is Clouds (scattered clouds).\n",
      "The temperature is 30.57°C and it feels like 37.57°C.\n",
      "The UV index is 7.69, humidity is 75%.\n",
      "The pressure is 1009 hPa, percentage of cloud cover is 44%\n",
      "The wind comes from WSW direction with a speed 4.92 m/s.\n"
     ]
    }
   ],
   "source": [
    "current = data['current']\r\n",
    "\r\n",
    "fig, ax = plt.subplots(figsize=(3, 3))\r\n",
    "icon = requests.get(f\"http://openweathermap.org/img/wn/{current['weather'][0]['icon']}@2x.png\")\r\n",
    "im = Image.open(BytesIO(icon.content))\r\n",
    "plt.imshow(im)\r\n",
    "ax.set_axis_off()\r\n",
    "plt.show()\r\n",
    "\r\n",
    "print(f\"Today, sun rises at {ts2dt(current['sunrise'], '%H:%M')[0]} \\\r\n",
    "and sets at {ts2dt(current['sunset'], '%H:%M')[0]}.\\n\\\r\n",
    "Currently, the weather is {current['weather'][0]['main']} ({current['weather'][0]['description']}).\\n\\\r\n",
    "The temperature is {current['temp']}°C and it feels like {current['feels_like']}°C.\\n\\\r\n",
    "The UV index is {current['uvi']}, humidity is {current['humidity']}%.\\n\\\r\n",
    "The pressure is {current['pressure']} hPa, percentage of cloud cover is {current['clouds']}%\\n\\\r\n",
    "The wind comes from {degrees_to_cardinal(current['wind_deg'])} direction with a speed {current['wind_speed']} m/s.\")"
   ]
  },
  {
   "cell_type": "code",
   "execution_count": 8,
   "metadata": {
    "execution": {
     "iopub.execute_input": "2021-10-02T06:13:29.134179Z",
     "iopub.status.busy": "2021-10-02T06:13:29.133052Z",
     "iopub.status.idle": "2021-10-02T06:13:29.141025Z",
     "shell.execute_reply": "2021-10-02T06:13:29.141812Z"
    }
   },
   "outputs": [],
   "source": [
    "df_hourly = pd.DataFrame(data['hourly'])\r\n",
    "df_daily = pd.DataFrame(data['daily'])"
   ]
  },
  {
   "cell_type": "code",
   "execution_count": 9,
   "metadata": {
    "execution": {
     "iopub.execute_input": "2021-10-02T06:13:29.145576Z",
     "iopub.status.busy": "2021-10-02T06:13:29.144339Z",
     "iopub.status.idle": "2021-10-02T06:13:29.480852Z",
     "shell.execute_reply": "2021-10-02T06:13:29.480321Z"
    }
   },
   "outputs": [
    {
     "data": {
      "image/png": "[encoded data removed]",
      "text/plain": [
       "<Figure size 864x432 with 1 Axes>"
      ]
     },
     "metadata": {
      "needs_background": "light"
     },
     "output_type": "display_data"
    }
   ],
   "source": [
    "fig, ax = plt.subplots(figsize=(12, 6))\r\n",
    "plt.plot(df_hourly.temp, '.-', label='Temperature')\r\n",
    "plt.plot(df_hourly.feels_like, '.-', label='Feels Like')\r\n",
    "ax.set(title='Temperature in future 48 hours', xlabel='Time', ylabel='Temperature')\r\n",
    "ax.set_xticks(list(range(0, len(df_hourly), 2)))\r\n",
    "ax.set_xticklabels([ts2dt(ts, '%m-%d %H:%M')[0] for i, ts in enumerate(df_hourly.dt) if i%2==0], \r\n",
    "                   rotation=45, ha=\"right\")\r\n",
    "ax.locator_params(nbins=15, axis='y')\r\n",
    "plt.legend()\r\n",
    "plt.show()"
   ]
  },
  {
   "cell_type": "code",
   "execution_count": 10,
   "metadata": {
    "execution": {
     "iopub.execute_input": "2021-10-02T06:13:29.493284Z",
     "iopub.status.busy": "2021-10-02T06:13:29.485089Z",
     "iopub.status.idle": "2021-10-02T06:13:29.506411Z",
     "shell.execute_reply": "2021-10-02T06:13:29.506876Z"
    }
   },
   "outputs": [
    {
     "data": {
      "text/html": [
       "<div>\n",
       "<style scoped>\n",
       "    .dataframe tbody tr th:only-of-type {\n",
       "        vertical-align: middle;\n",
       "    }\n",
       "\n",
       "    .dataframe tbody tr th {\n",
       "        vertical-align: top;\n",
       "    }\n",
       "\n",
       "    .dataframe thead th {\n",
       "        text-align: right;\n",
       "    }\n",
       "</style>\n",
       "<table border=\"1\" class=\"dataframe\">\n",
       "  <thead>\n",
       "    <tr style=\"text-align: right;\">\n",
       "      <th></th>\n",
       "      <th>dt</th>\n",
       "      <th>temp</th>\n",
       "      <th>feels_like</th>\n",
       "      <th>pressure</th>\n",
       "      <th>humidity</th>\n",
       "      <th>dew_point</th>\n",
       "      <th>uvi</th>\n",
       "      <th>clouds</th>\n",
       "      <th>visibility</th>\n",
       "      <th>wind_speed</th>\n",
       "      <th>wind_deg</th>\n",
       "      <th>wind_gust</th>\n",
       "      <th>weather</th>\n",
       "      <th>pop</th>\n",
       "      <th>rain</th>\n",
       "    </tr>\n",
       "  </thead>\n",
       "  <tbody>\n",
       "    <tr>\n",
       "      <th>0</th>\n",
       "      <td>1633154400</td>\n",
       "      <td>30.57</td>\n",
       "      <td>37.57</td>\n",
       "      <td>1009</td>\n",
       "      <td>75</td>\n",
       "      <td>25.63</td>\n",
       "      <td>7.69</td>\n",
       "      <td>44</td>\n",
       "      <td>10000</td>\n",
       "      <td>2.87</td>\n",
       "      <td>142</td>\n",
       "      <td>2.55</td>\n",
       "      <td>[{'id': 802, 'main': 'Clouds', 'description': ...</td>\n",
       "      <td>0.31</td>\n",
       "      <td>NaN</td>\n",
       "    </tr>\n",
       "    <tr>\n",
       "      <th>1</th>\n",
       "      <td>1633158000</td>\n",
       "      <td>30.43</td>\n",
       "      <td>36.65</td>\n",
       "      <td>1009</td>\n",
       "      <td>72</td>\n",
       "      <td>24.81</td>\n",
       "      <td>4.80</td>\n",
       "      <td>40</td>\n",
       "      <td>10000</td>\n",
       "      <td>2.74</td>\n",
       "      <td>132</td>\n",
       "      <td>2.49</td>\n",
       "      <td>[{'id': 802, 'main': 'Clouds', 'description': ...</td>\n",
       "      <td>0.04</td>\n",
       "      <td>NaN</td>\n",
       "    </tr>\n",
       "    <tr>\n",
       "      <th>2</th>\n",
       "      <td>1633161600</td>\n",
       "      <td>30.19</td>\n",
       "      <td>35.51</td>\n",
       "      <td>1009</td>\n",
       "      <td>70</td>\n",
       "      <td>24.11</td>\n",
       "      <td>2.32</td>\n",
       "      <td>40</td>\n",
       "      <td>10000</td>\n",
       "      <td>3.49</td>\n",
       "      <td>122</td>\n",
       "      <td>3.49</td>\n",
       "      <td>[{'id': 802, 'main': 'Clouds', 'description': ...</td>\n",
       "      <td>0.06</td>\n",
       "      <td>NaN</td>\n",
       "    </tr>\n",
       "    <tr>\n",
       "      <th>3</th>\n",
       "      <td>1633165200</td>\n",
       "      <td>29.74</td>\n",
       "      <td>34.41</td>\n",
       "      <td>1009</td>\n",
       "      <td>70</td>\n",
       "      <td>23.68</td>\n",
       "      <td>0.71</td>\n",
       "      <td>38</td>\n",
       "      <td>10000</td>\n",
       "      <td>3.87</td>\n",
       "      <td>116</td>\n",
       "      <td>4.11</td>\n",
       "      <td>[{'id': 802, 'main': 'Clouds', 'description': ...</td>\n",
       "      <td>0.06</td>\n",
       "      <td>NaN</td>\n",
       "    </tr>\n",
       "    <tr>\n",
       "      <th>4</th>\n",
       "      <td>1633168800</td>\n",
       "      <td>28.97</td>\n",
       "      <td>32.85</td>\n",
       "      <td>1010</td>\n",
       "      <td>71</td>\n",
       "      <td>23.18</td>\n",
       "      <td>0.00</td>\n",
       "      <td>34</td>\n",
       "      <td>10000</td>\n",
       "      <td>3.51</td>\n",
       "      <td>114</td>\n",
       "      <td>4.34</td>\n",
       "      <td>[{'id': 802, 'main': 'Clouds', 'description': ...</td>\n",
       "      <td>0.06</td>\n",
       "      <td>NaN</td>\n",
       "    </tr>\n",
       "  </tbody>\n",
       "</table>\n",
       "</div>"
      ],
      "text/plain": [
       "           dt   temp  feels_like  pressure  humidity  dew_point   uvi  clouds  \\\n",
       "0  1633154400  30.57       37.57      1009        75      25.63  7.69      44   \n",
       "1  1633158000  30.43       36.65      1009        72      24.81  4.80      40   \n",
       "2  1633161600  30.19       35.51      1009        70      24.11  2.32      40   \n",
       "3  1633165200  29.74       34.41      1009        70      23.68  0.71      38   \n",
       "4  1633168800  28.97       32.85      1010        71      23.18  0.00      34   \n",
       "\n",
       "   visibility  wind_speed  wind_deg  wind_gust  \\\n",
       "0       10000        2.87       142       2.55   \n",
       "1       10000        2.74       132       2.49   \n",
       "2       10000        3.49       122       3.49   \n",
       "3       10000        3.87       116       4.11   \n",
       "4       10000        3.51       114       4.34   \n",
       "\n",
       "                                             weather   pop rain  \n",
       "0  [{'id': 802, 'main': 'Clouds', 'description': ...  0.31  NaN  \n",
       "1  [{'id': 802, 'main': 'Clouds', 'description': ...  0.04  NaN  \n",
       "2  [{'id': 802, 'main': 'Clouds', 'description': ...  0.06  NaN  \n",
       "3  [{'id': 802, 'main': 'Clouds', 'description': ...  0.06  NaN  \n",
       "4  [{'id': 802, 'main': 'Clouds', 'description': ...  0.06  NaN  "
      ]
     },
     "execution_count": 10,
     "metadata": {},
     "output_type": "execute_result"
    }
   ],
   "source": [
    "df_hourly.head()"
   ]
  },
  {
   "cell_type": "code",
   "execution_count": null,
   "metadata": {},
   "outputs": [],
   "source": []
  }
 ],
 "metadata": {
  "interpreter": {
   "hash": "c1b4cfe941b6d2466ad1fb5979e97da9cda8801728c8091b097ab734208fc00c"
  },
  "kernelspec": {
   "display_name": "Python 3.8.3 64-bit ('base': conda)",
   "name": "python3"
  },
  "language_info": {
   "codemirror_mode": {
    "name": "ipython",
    "version": 3
   },
   "file_extension": ".py",
   "mimetype": "text/x-python",
   "name": "python",
   "nbconvert_exporter": "python",
   "pygments_lexer": "ipython3",
   "version": "3.8.12"
  }
 },
 "nbformat": 4,
 "nbformat_minor": 2
}
