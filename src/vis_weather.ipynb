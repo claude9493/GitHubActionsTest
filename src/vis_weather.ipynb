{
 "cells": [
  {
   "cell_type": "code",
   "execution_count": 1,
   "metadata": {
    "execution": {
     "iopub.execute_input": "2021-10-08T04:14:59.434165Z",
     "iopub.status.busy": "2021-10-08T04:14:59.433551Z",
     "iopub.status.idle": "2021-10-08T04:15:02.836751Z",
     "shell.execute_reply": "2021-10-08T04:15:02.837246Z"
    }
   },
   "outputs": [],
   "source": [
    "import json, yaml, requests\r\n",
    "from datetime import datetime\r\n",
    "from dateutil import tz\r\n",
    "import pandas as pd\r\n",
    "from PIL import Image\r\n",
    "from io import BytesIO\r\n",
    "import matplotlib.pyplot as plt\r\n",
    "import seaborn\r\n",
    "\r\n",
    "CONFIG_PATH = \"../config/config.yaml\""
   ]
  },
  {
   "cell_type": "code",
   "execution_count": 2,
   "metadata": {
    "execution": {
     "iopub.execute_input": "2021-10-08T04:15:02.842496Z",
     "iopub.status.busy": "2021-10-08T04:15:02.839878Z",
     "iopub.status.idle": "2021-10-08T04:15:02.848941Z",
     "shell.execute_reply": "2021-10-08T04:15:02.849342Z"
    }
   },
   "outputs": [],
   "source": [
    "with open('../newest_ts', 'r') as f:\r\n",
    "    newest_ts = f.read()\r\n",
    "\r\n",
    "data_path = f\"../data/data_{newest_ts}.json\"\r\n",
    "with open(data_path, 'r') as f:\r\n",
    "    data = json.load(f)\r\n",
    "\r\n",
    "with open(CONFIG_PATH, \"r\") as stream:\r\n",
    "    config = yaml.safe_load(stream)\r\n",
    "\r\n",
    "TIME_ZONE = config['time_zone']\r\n",
    "DATETIME_FORMAT = config['dt_format']"
   ]
  },
  {
   "cell_type": "code",
   "execution_count": 3,
   "metadata": {
    "execution": {
     "iopub.execute_input": "2021-10-08T04:15:02.862010Z",
     "iopub.status.busy": "2021-10-08T04:15:02.861457Z",
     "iopub.status.idle": "2021-10-08T04:15:02.891468Z",
     "shell.execute_reply": "2021-10-08T04:15:02.891918Z"
    }
   },
   "outputs": [
    {
     "name": "stdout",
     "output_type": "stream",
     "text": [
      "Recent query happens at 2021-10-08 12:14:56 (CST).\n"
     ]
    }
   ],
   "source": [
    "def ts2dt(ts, format=DATETIME_FORMAT):\r\n",
    "    dt = (datetime.utcfromtimestamp(int(ts))\r\n",
    "                    .replace(tzinfo=tz.tzutc())\r\n",
    "                    # .astimezone(tz.tzlocal())\r\n",
    "                    .astimezone(tz.gettz(TIME_ZONE)))\r\n",
    "    return dt.strftime(format), dt\r\n",
    "\r\n",
    "_, newest_dt = ts2dt(newest_ts)\r\n",
    "print(f\"Recent query happens at {newest_dt.strftime(DATETIME_FORMAT)} ({newest_dt.tzname()}).\")"
   ]
  },
  {
   "cell_type": "code",
   "execution_count": 4,
   "metadata": {
    "execution": {
     "iopub.execute_input": "2021-10-08T04:15:02.896068Z",
     "iopub.status.busy": "2021-10-08T04:15:02.895507Z",
     "iopub.status.idle": "2021-10-08T04:15:02.899506Z",
     "shell.execute_reply": "2021-10-08T04:15:02.899924Z"
    }
   },
   "outputs": [],
   "source": [
    "def degrees_to_cardinal(d):\r\n",
    "  dirs = ['N', 'NNE', 'NE', 'ENE', 'E', 'ESE', 'SE', 'SSE', 'S', 'SSW', 'SW', 'WSW', 'W', 'WNW', 'NW', 'NNW']\r\n",
    "  ix = int(round(d / (360. / len(dirs))))\r\n",
    "  return dirs[ix % len(dirs)]"
   ]
  },
  {
   "cell_type": "code",
   "execution_count": 5,
   "metadata": {
    "execution": {
     "iopub.execute_input": "2021-10-08T04:15:02.904476Z",
     "iopub.status.busy": "2021-10-08T04:15:02.903597Z",
     "iopub.status.idle": "2021-10-08T04:15:02.906423Z",
     "shell.execute_reply": "2021-10-08T04:15:02.905993Z"
    }
   },
   "outputs": [],
   "source": [
    "# data.keys()"
   ]
  },
  {
   "cell_type": "code",
   "execution_count": 6,
   "metadata": {
    "execution": {
     "iopub.execute_input": "2021-10-08T04:15:02.909805Z",
     "iopub.status.busy": "2021-10-08T04:15:02.908633Z",
     "iopub.status.idle": "2021-10-08T04:15:02.911550Z",
     "shell.execute_reply": "2021-10-08T04:15:02.912000Z"
    }
   },
   "outputs": [],
   "source": [
    "# data['current']"
   ]
  },
  {
   "cell_type": "code",
   "execution_count": 7,
   "metadata": {
    "execution": {
     "iopub.execute_input": "2021-10-08T04:15:02.932889Z",
     "iopub.status.busy": "2021-10-08T04:15:02.932299Z",
     "iopub.status.idle": "2021-10-08T04:15:03.346729Z",
     "shell.execute_reply": "2021-10-08T04:15:03.347485Z"
    }
   },
   "outputs": [
    {
     "data": {
      "image/png": "[encoded data removed]",
      "text/plain": [
       "<Figure size 216x216 with 1 Axes>"
      ]
     },
     "metadata": {
      "needs_background": "light"
     },
     "output_type": "display_data"
    },
    {
     "name": "stdout",
     "output_type": "stream",
     "text": [
      "Today, sun rises at 06:16 and sets at 18:04.\n",
      "Currently, the weather is Rain (heavy intensity rain).\n",
      "The temperature is 24.83°C and it feels like 25.88°C.\n",
      "The UV index is 0.42, humidity is 96%.\n",
      "The pressure is 1004 hPa, percentage of cloud cover is 100%\n",
      "The wind comes from ESE direction with a speed 8.72 m/s.\n"
     ]
    }
   ],
   "source": [
    "current = data['current']\r\n",
    "\r\n",
    "fig, ax = plt.subplots(figsize=(3, 3))\r\n",
    "icon = requests.get(f\"http://openweathermap.org/img/wn/{current['weather'][0]['icon']}@2x.png\")\r\n",
    "im = Image.open(BytesIO(icon.content))\r\n",
    "plt.imshow(im)\r\n",
    "ax.set_axis_off()\r\n",
    "plt.show()\r\n",
    "\r\n",
    "print(f\"Today, sun rises at {ts2dt(current['sunrise'], '%H:%M')[0]} \\\r\n",
    "and sets at {ts2dt(current['sunset'], '%H:%M')[0]}.\\n\\\r\n",
    "Currently, the weather is {current['weather'][0]['main']} ({current['weather'][0]['description']}).\\n\\\r\n",
    "The temperature is {current['temp']}°C and it feels like {current['feels_like']}°C.\\n\\\r\n",
    "The UV index is {current['uvi']}, humidity is {current['humidity']}%.\\n\\\r\n",
    "The pressure is {current['pressure']} hPa, percentage of cloud cover is {current['clouds']}%\\n\\\r\n",
    "The wind comes from {degrees_to_cardinal(current['wind_deg'])} direction with a speed {current['wind_speed']} m/s.\")"
   ]
  },
  {
   "cell_type": "code",
   "execution_count": 8,
   "metadata": {
    "execution": {
     "iopub.execute_input": "2021-10-08T04:15:03.354586Z",
     "iopub.status.busy": "2021-10-08T04:15:03.354056Z",
     "iopub.status.idle": "2021-10-08T04:15:03.359591Z",
     "shell.execute_reply": "2021-10-08T04:15:03.360305Z"
    }
   },
   "outputs": [],
   "source": [
    "df_hourly = pd.DataFrame(data['hourly'])\r\n",
    "df_daily = pd.DataFrame(data['daily'])"
   ]
  },
  {
   "cell_type": "code",
   "execution_count": 9,
   "metadata": {
    "execution": {
     "iopub.execute_input": "2021-10-08T04:15:03.363351Z",
     "iopub.status.busy": "2021-10-08T04:15:03.362810Z",
     "iopub.status.idle": "2021-10-08T04:15:03.697893Z",
     "shell.execute_reply": "2021-10-08T04:15:03.697394Z"
    }
   },
   "outputs": [
    {
     "data": {
      "image/png": "[encoded data removed]",
      "text/plain": [
       "<Figure size 864x432 with 1 Axes>"
      ]
     },
     "metadata": {
      "needs_background": "light"
     },
     "output_type": "display_data"
    }
   ],
   "source": [
    "fig, ax = plt.subplots(figsize=(12, 6))\r\n",
    "plt.plot(df_hourly.temp, '.-', label='Temperature')\r\n",
    "plt.plot(df_hourly.feels_like, '.-', label='Feels Like')\r\n",
    "ax.set(title='Temperature in future 48 hours', xlabel='Time', ylabel='Temperature')\r\n",
    "ax.set_xticks(list(range(0, len(df_hourly), 2)))\r\n",
    "ax.set_xticklabels([ts2dt(ts, '%m-%d %H:%M')[0] for i, ts in enumerate(df_hourly.dt) if i%2==0], \r\n",
    "                   rotation=45, ha=\"right\")\r\n",
    "ax.locator_params(nbins=15, axis='y')\r\n",
    "plt.legend()\r\n",
    "plt.show()"
   ]
  },
  {
   "cell_type": "code",
   "execution_count": 10,
   "metadata": {
    "execution": {
     "iopub.execute_input": "2021-10-08T04:15:03.702473Z",
     "iopub.status.busy": "2021-10-08T04:15:03.701895Z",
     "iopub.status.idle": "2021-10-08T04:15:03.722294Z",
     "shell.execute_reply": "2021-10-08T04:15:03.722818Z"
    }
   },
   "outputs": [
    {
     "data": {
      "text/html": [
       "<div>\n",
       "<style scoped>\n",
       "    .dataframe tbody tr th:only-of-type {\n",
       "        vertical-align: middle;\n",
       "    }\n",
       "\n",
       "    .dataframe tbody tr th {\n",
       "        vertical-align: top;\n",
       "    }\n",
       "\n",
       "    .dataframe thead th {\n",
       "        text-align: right;\n",
       "    }\n",
       "</style>\n",
       "<table border=\"1\" class=\"dataframe\">\n",
       "  <thead>\n",
       "    <tr style=\"text-align: right;\">\n",
       "      <th></th>\n",
       "      <th>dt</th>\n",
       "      <th>temp</th>\n",
       "      <th>feels_like</th>\n",
       "      <th>pressure</th>\n",
       "      <th>humidity</th>\n",
       "      <th>dew_point</th>\n",
       "      <th>uvi</th>\n",
       "      <th>clouds</th>\n",
       "      <th>visibility</th>\n",
       "      <th>wind_speed</th>\n",
       "      <th>wind_deg</th>\n",
       "      <th>wind_gust</th>\n",
       "      <th>weather</th>\n",
       "      <th>pop</th>\n",
       "      <th>rain</th>\n",
       "    </tr>\n",
       "  </thead>\n",
       "  <tbody>\n",
       "    <tr>\n",
       "      <th>0</th>\n",
       "      <td>1633665600</td>\n",
       "      <td>24.83</td>\n",
       "      <td>25.88</td>\n",
       "      <td>1004</td>\n",
       "      <td>96</td>\n",
       "      <td>24.15</td>\n",
       "      <td>0.42</td>\n",
       "      <td>100</td>\n",
       "      <td>3940</td>\n",
       "      <td>8.72</td>\n",
       "      <td>108</td>\n",
       "      <td>12.45</td>\n",
       "      <td>[{'id': 502, 'main': 'Rain', 'description': 'h...</td>\n",
       "      <td>1.0</td>\n",
       "      <td>{'1h': 4.82}</td>\n",
       "    </tr>\n",
       "    <tr>\n",
       "      <th>1</th>\n",
       "      <td>1633669200</td>\n",
       "      <td>25.02</td>\n",
       "      <td>26.06</td>\n",
       "      <td>1004</td>\n",
       "      <td>95</td>\n",
       "      <td>24.16</td>\n",
       "      <td>0.42</td>\n",
       "      <td>100</td>\n",
       "      <td>3264</td>\n",
       "      <td>9.30</td>\n",
       "      <td>106</td>\n",
       "      <td>13.06</td>\n",
       "      <td>[{'id': 502, 'main': 'Rain', 'description': 'h...</td>\n",
       "      <td>1.0</td>\n",
       "      <td>{'1h': 4.21}</td>\n",
       "    </tr>\n",
       "    <tr>\n",
       "      <th>2</th>\n",
       "      <td>1633672800</td>\n",
       "      <td>25.16</td>\n",
       "      <td>26.21</td>\n",
       "      <td>1004</td>\n",
       "      <td>95</td>\n",
       "      <td>24.30</td>\n",
       "      <td>0.34</td>\n",
       "      <td>100</td>\n",
       "      <td>2762</td>\n",
       "      <td>9.59</td>\n",
       "      <td>109</td>\n",
       "      <td>12.87</td>\n",
       "      <td>[{'id': 501, 'main': 'Rain', 'description': 'm...</td>\n",
       "      <td>1.0</td>\n",
       "      <td>{'1h': 2.37}</td>\n",
       "    </tr>\n",
       "    <tr>\n",
       "      <th>3</th>\n",
       "      <td>1633676400</td>\n",
       "      <td>25.29</td>\n",
       "      <td>26.33</td>\n",
       "      <td>1004</td>\n",
       "      <td>94</td>\n",
       "      <td>24.25</td>\n",
       "      <td>0.19</td>\n",
       "      <td>100</td>\n",
       "      <td>3799</td>\n",
       "      <td>9.91</td>\n",
       "      <td>103</td>\n",
       "      <td>13.19</td>\n",
       "      <td>[{'id': 502, 'main': 'Rain', 'description': 'h...</td>\n",
       "      <td>1.0</td>\n",
       "      <td>{'1h': 6.06}</td>\n",
       "    </tr>\n",
       "    <tr>\n",
       "      <th>4</th>\n",
       "      <td>1633680000</td>\n",
       "      <td>25.46</td>\n",
       "      <td>26.49</td>\n",
       "      <td>1004</td>\n",
       "      <td>93</td>\n",
       "      <td>24.24</td>\n",
       "      <td>0.09</td>\n",
       "      <td>100</td>\n",
       "      <td>4475</td>\n",
       "      <td>10.32</td>\n",
       "      <td>99</td>\n",
       "      <td>14.20</td>\n",
       "      <td>[{'id': 502, 'main': 'Rain', 'description': 'h...</td>\n",
       "      <td>1.0</td>\n",
       "      <td>{'1h': 4.39}</td>\n",
       "    </tr>\n",
       "  </tbody>\n",
       "</table>\n",
       "</div>"
      ],
      "text/plain": [
       "           dt   temp  feels_like  pressure  humidity  dew_point   uvi  clouds  \\\n",
       "0  1633665600  24.83       25.88      1004        96      24.15  0.42     100   \n",
       "1  1633669200  25.02       26.06      1004        95      24.16  0.42     100   \n",
       "2  1633672800  25.16       26.21      1004        95      24.30  0.34     100   \n",
       "3  1633676400  25.29       26.33      1004        94      24.25  0.19     100   \n",
       "4  1633680000  25.46       26.49      1004        93      24.24  0.09     100   \n",
       "\n",
       "   visibility  wind_speed  wind_deg  wind_gust  \\\n",
       "0        3940        8.72       108      12.45   \n",
       "1        3264        9.30       106      13.06   \n",
       "2        2762        9.59       109      12.87   \n",
       "3        3799        9.91       103      13.19   \n",
       "4        4475       10.32        99      14.20   \n",
       "\n",
       "                                             weather  pop          rain  \n",
       "0  [{'id': 502, 'main': 'Rain', 'description': 'h...  1.0  {'1h': 4.82}  \n",
       "1  [{'id': 502, 'main': 'Rain', 'description': 'h...  1.0  {'1h': 4.21}  \n",
       "2  [{'id': 501, 'main': 'Rain', 'description': 'm...  1.0  {'1h': 2.37}  \n",
       "3  [{'id': 502, 'main': 'Rain', 'description': 'h...  1.0  {'1h': 6.06}  \n",
       "4  [{'id': 502, 'main': 'Rain', 'description': 'h...  1.0  {'1h': 4.39}  "
      ]
     },
     "execution_count": 10,
     "metadata": {},
     "output_type": "execute_result"
    }
   ],
   "source": [
    "df_hourly.head()"
   ]
  },
  {
   "cell_type": "code",
   "execution_count": null,
   "metadata": {},
   "outputs": [],
   "source": []
  }
 ],
 "metadata": {
  "interpreter": {
   "hash": "c1b4cfe941b6d2466ad1fb5979e97da9cda8801728c8091b097ab734208fc00c"
  },
  "kernelspec": {
   "display_name": "Python 3.8.3 64-bit ('base': conda)",
   "name": "python3"
  },
  "language_info": {
   "codemirror_mode": {
    "name": "ipython",
    "version": 3
   },
   "file_extension": ".py",
   "mimetype": "text/x-python",
   "name": "python",
   "nbconvert_exporter": "python",
   "pygments_lexer": "ipython3",
   "version": "3.8.12"
  }
 },
 "nbformat": 4,
 "nbformat_minor": 2
}
