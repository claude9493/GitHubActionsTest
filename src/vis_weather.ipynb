{
 "cells": [
  {
   "cell_type": "code",
   "execution_count": 1,
   "metadata": {
    "execution": {
     "iopub.execute_input": "2021-09-13T06:14:01.775520Z",
     "iopub.status.busy": "2021-09-13T06:14:01.774289Z",
     "iopub.status.idle": "2021-09-13T06:14:05.484526Z",
     "shell.execute_reply": "2021-09-13T06:14:05.483799Z"
    }
   },
   "outputs": [],
   "source": [
    "import json, yaml, requests\r\n",
    "from datetime import datetime\r\n",
    "from dateutil import tz\r\n",
    "import pandas as pd\r\n",
    "from PIL import Image\r\n",
    "from io import BytesIO\r\n",
    "import matplotlib.pyplot as plt\r\n",
    "import seaborn\r\n",
    "\r\n",
    "CONFIG_PATH = \"../config/config.yaml\""
   ]
  },
  {
   "cell_type": "code",
   "execution_count": 2,
   "metadata": {
    "execution": {
     "iopub.execute_input": "2021-09-13T06:14:05.489496Z",
     "iopub.status.busy": "2021-09-13T06:14:05.488987Z",
     "iopub.status.idle": "2021-09-13T06:14:05.494804Z",
     "shell.execute_reply": "2021-09-13T06:14:05.493826Z"
    }
   },
   "outputs": [],
   "source": [
    "with open('../newest_ts', 'r') as f:\r\n",
    "    newest_ts = f.read()\r\n",
    "\r\n",
    "data_path = f\"../data/data_{newest_ts}.json\"\r\n",
    "with open(data_path, 'r') as f:\r\n",
    "    data = json.load(f)\r\n",
    "\r\n",
    "with open(CONFIG_PATH, \"r\") as stream:\r\n",
    "    config = yaml.safe_load(stream)\r\n",
    "\r\n",
    "TIME_ZONE = config['time_zone']\r\n",
    "DATETIME_FORMAT = config['dt_format']"
   ]
  },
  {
   "cell_type": "code",
   "execution_count": 3,
   "metadata": {
    "execution": {
     "iopub.execute_input": "2021-09-13T06:14:05.500153Z",
     "iopub.status.busy": "2021-09-13T06:14:05.499584Z",
     "iopub.status.idle": "2021-09-13T06:14:05.512615Z",
     "shell.execute_reply": "2021-09-13T06:14:05.511961Z"
    }
   },
   "outputs": [
    {
     "name": "stdout",
     "output_type": "stream",
     "text": [
      "Recent query happens at 2021-09-13 14:13:58 (CST).\n"
     ]
    }
   ],
   "source": [
    "def ts2dt(ts, format=DATETIME_FORMAT):\r\n",
    "    dt = (datetime.utcfromtimestamp(int(ts))\r\n",
    "                    .replace(tzinfo=tz.tzutc())\r\n",
    "                    # .astimezone(tz.tzlocal())\r\n",
    "                    .astimezone(tz.gettz(TIME_ZONE)))\r\n",
    "    return dt.strftime(format), dt\r\n",
    "\r\n",
    "_, newest_dt = ts2dt(newest_ts)\r\n",
    "print(f\"Recent query happens at {newest_dt.strftime(DATETIME_FORMAT)} ({newest_dt.tzname()}).\")"
   ]
  },
  {
   "cell_type": "code",
   "execution_count": 4,
   "metadata": {
    "execution": {
     "iopub.execute_input": "2021-09-13T06:14:05.516101Z",
     "iopub.status.busy": "2021-09-13T06:14:05.515539Z",
     "iopub.status.idle": "2021-09-13T06:14:05.519706Z",
     "shell.execute_reply": "2021-09-13T06:14:05.520108Z"
    }
   },
   "outputs": [],
   "source": [
    "def degrees_to_cardinal(d):\r\n",
    "  dirs = ['N', 'NNE', 'NE', 'ENE', 'E', 'ESE', 'SE', 'SSE', 'S', 'SSW', 'SW', 'WSW', 'W', 'WNW', 'NW', 'NNW']\r\n",
    "  ix = int(round(d / (360. / len(dirs))))\r\n",
    "  return dirs[ix % len(dirs)]"
   ]
  },
  {
   "cell_type": "code",
   "execution_count": 5,
   "metadata": {
    "execution": {
     "iopub.execute_input": "2021-09-13T06:14:05.522879Z",
     "iopub.status.busy": "2021-09-13T06:14:05.522171Z",
     "iopub.status.idle": "2021-09-13T06:14:05.526299Z",
     "shell.execute_reply": "2021-09-13T06:14:05.525668Z"
    }
   },
   "outputs": [],
   "source": [
    "# data.keys()"
   ]
  },
  {
   "cell_type": "code",
   "execution_count": 6,
   "metadata": {
    "execution": {
     "iopub.execute_input": "2021-09-13T06:14:05.528976Z",
     "iopub.status.busy": "2021-09-13T06:14:05.528403Z",
     "iopub.status.idle": "2021-09-13T06:14:05.531587Z",
     "shell.execute_reply": "2021-09-13T06:14:05.532013Z"
    }
   },
   "outputs": [],
   "source": [
    "# data['current']"
   ]
  },
  {
   "cell_type": "code",
   "execution_count": 7,
   "metadata": {
    "execution": {
     "iopub.execute_input": "2021-09-13T06:14:05.557217Z",
     "iopub.status.busy": "2021-09-13T06:14:05.556570Z",
     "iopub.status.idle": "2021-09-13T06:14:06.022203Z",
     "shell.execute_reply": "2021-09-13T06:14:06.022994Z"
    }
   },
   "outputs": [
    {
     "data": {
      "image/png": "[encoded data removed]",
      "text/plain": [
       "<Figure size 216x216 with 1 Axes>"
      ]
     },
     "metadata": {
      "needs_background": "light"
     },
     "output_type": "display_data"
    },
    {
     "name": "stdout",
     "output_type": "stream",
     "text": [
      "Today, sun rises at 06:09 and sets at 18:29.\n",
      "Currently, the weather is Clouds (few clouds).\n",
      "The temperature is 32.48°C and it feels like 39.48°C.\n",
      "The UV index is 8.87, humidity is 68%.\n",
      "The pressure is 1006 hPa, percentage of cloud cover is 22%\n",
      "The wind comes from SSW direction with a speed 3.57 m/s.\n"
     ]
    }
   ],
   "source": [
    "current = data['current']\r\n",
    "\r\n",
    "fig, ax = plt.subplots(figsize=(3, 3))\r\n",
    "icon = requests.get(f\"http://openweathermap.org/img/wn/{current['weather'][0]['icon']}@2x.png\")\r\n",
    "im = Image.open(BytesIO(icon.content))\r\n",
    "plt.imshow(im)\r\n",
    "ax.set_axis_off()\r\n",
    "plt.show()\r\n",
    "\r\n",
    "print(f\"Today, sun rises at {ts2dt(current['sunrise'], '%H:%M')[0]} \\\r\n",
    "and sets at {ts2dt(current['sunset'], '%H:%M')[0]}.\\n\\\r\n",
    "Currently, the weather is {current['weather'][0]['main']} ({current['weather'][0]['description']}).\\n\\\r\n",
    "The temperature is {current['temp']}°C and it feels like {current['feels_like']}°C.\\n\\\r\n",
    "The UV index is {current['uvi']}, humidity is {current['humidity']}%.\\n\\\r\n",
    "The pressure is {current['pressure']} hPa, percentage of cloud cover is {current['clouds']}%\\n\\\r\n",
    "The wind comes from {degrees_to_cardinal(current['wind_deg'])} direction with a speed {current['wind_speed']} m/s.\")"
   ]
  },
  {
   "cell_type": "code",
   "execution_count": 8,
   "metadata": {
    "execution": {
     "iopub.execute_input": "2021-09-13T06:14:06.026946Z",
     "iopub.status.busy": "2021-09-13T06:14:06.025849Z",
     "iopub.status.idle": "2021-09-13T06:14:06.035904Z",
     "shell.execute_reply": "2021-09-13T06:14:06.036717Z"
    }
   },
   "outputs": [],
   "source": [
    "df_hourly = pd.DataFrame(data['hourly'])\r\n",
    "df_daily = pd.DataFrame(data['daily'])"
   ]
  },
  {
   "cell_type": "code",
   "execution_count": 9,
   "metadata": {
    "execution": {
     "iopub.execute_input": "2021-09-13T06:14:06.040397Z",
     "iopub.status.busy": "2021-09-13T06:14:06.038965Z",
     "iopub.status.idle": "2021-09-13T06:14:06.416515Z",
     "shell.execute_reply": "2021-09-13T06:14:06.415815Z"
    }
   },
   "outputs": [
    {
     "data": {
      "image/png": "[encoded data removed]",
      "text/plain": [
       "<Figure size 864x432 with 1 Axes>"
      ]
     },
     "metadata": {
      "needs_background": "light"
     },
     "output_type": "display_data"
    }
   ],
   "source": [
    "fig, ax = plt.subplots(figsize=(12, 6))\r\n",
    "plt.plot(df_hourly.temp, '.-', label='Temperature')\r\n",
    "plt.plot(df_hourly.feels_like, '.-', label='Feels Like')\r\n",
    "ax.set(title='Temperature in future 48 hours', xlabel='Time', ylabel='Temperature')\r\n",
    "ax.set_xticks(list(range(0, len(df_hourly), 2)))\r\n",
    "ax.set_xticklabels([ts2dt(ts, '%m-%d %H:%M')[0] for i, ts in enumerate(df_hourly.dt) if i%2==0], \r\n",
    "                   rotation=45, ha=\"right\")\r\n",
    "ax.locator_params(nbins=15, axis='y')\r\n",
    "plt.legend()\r\n",
    "plt.show()"
   ]
  },
  {
   "cell_type": "code",
   "execution_count": 10,
   "metadata": {
    "execution": {
     "iopub.execute_input": "2021-09-13T06:14:06.421062Z",
     "iopub.status.busy": "2021-09-13T06:14:06.420271Z",
     "iopub.status.idle": "2021-09-13T06:14:06.441063Z",
     "shell.execute_reply": "2021-09-13T06:14:06.441493Z"
    }
   },
   "outputs": [
    {
     "data": {
      "text/html": [
       "<div>\n",
       "<style scoped>\n",
       "    .dataframe tbody tr th:only-of-type {\n",
       "        vertical-align: middle;\n",
       "    }\n",
       "\n",
       "    .dataframe tbody tr th {\n",
       "        vertical-align: top;\n",
       "    }\n",
       "\n",
       "    .dataframe thead th {\n",
       "        text-align: right;\n",
       "    }\n",
       "</style>\n",
       "<table border=\"1\" class=\"dataframe\">\n",
       "  <thead>\n",
       "    <tr style=\"text-align: right;\">\n",
       "      <th></th>\n",
       "      <th>dt</th>\n",
       "      <th>temp</th>\n",
       "      <th>feels_like</th>\n",
       "      <th>pressure</th>\n",
       "      <th>humidity</th>\n",
       "      <th>dew_point</th>\n",
       "      <th>uvi</th>\n",
       "      <th>clouds</th>\n",
       "      <th>visibility</th>\n",
       "      <th>wind_speed</th>\n",
       "      <th>wind_deg</th>\n",
       "      <th>wind_gust</th>\n",
       "      <th>weather</th>\n",
       "      <th>pop</th>\n",
       "      <th>rain</th>\n",
       "    </tr>\n",
       "  </thead>\n",
       "  <tbody>\n",
       "    <tr>\n",
       "      <th>0</th>\n",
       "      <td>1631512800</td>\n",
       "      <td>32.48</td>\n",
       "      <td>39.48</td>\n",
       "      <td>1006</td>\n",
       "      <td>68</td>\n",
       "      <td>25.81</td>\n",
       "      <td>8.87</td>\n",
       "      <td>22</td>\n",
       "      <td>10000</td>\n",
       "      <td>3.57</td>\n",
       "      <td>212</td>\n",
       "      <td>2.94</td>\n",
       "      <td>[{'id': 801, 'main': 'Clouds', 'description': ...</td>\n",
       "      <td>0.84</td>\n",
       "      <td>NaN</td>\n",
       "    </tr>\n",
       "    <tr>\n",
       "      <th>1</th>\n",
       "      <td>1631516400</td>\n",
       "      <td>32.22</td>\n",
       "      <td>39.22</td>\n",
       "      <td>1006</td>\n",
       "      <td>67</td>\n",
       "      <td>25.31</td>\n",
       "      <td>5.97</td>\n",
       "      <td>29</td>\n",
       "      <td>10000</td>\n",
       "      <td>3.62</td>\n",
       "      <td>212</td>\n",
       "      <td>2.99</td>\n",
       "      <td>[{'id': 802, 'main': 'Clouds', 'description': ...</td>\n",
       "      <td>0.00</td>\n",
       "      <td>NaN</td>\n",
       "    </tr>\n",
       "    <tr>\n",
       "      <th>2</th>\n",
       "      <td>1631520000</td>\n",
       "      <td>31.92</td>\n",
       "      <td>38.92</td>\n",
       "      <td>1006</td>\n",
       "      <td>68</td>\n",
       "      <td>25.27</td>\n",
       "      <td>3.04</td>\n",
       "      <td>38</td>\n",
       "      <td>10000</td>\n",
       "      <td>3.72</td>\n",
       "      <td>203</td>\n",
       "      <td>2.81</td>\n",
       "      <td>[{'id': 802, 'main': 'Clouds', 'description': ...</td>\n",
       "      <td>0.00</td>\n",
       "      <td>NaN</td>\n",
       "    </tr>\n",
       "    <tr>\n",
       "      <th>3</th>\n",
       "      <td>1631523600</td>\n",
       "      <td>31.26</td>\n",
       "      <td>38.26</td>\n",
       "      <td>1006</td>\n",
       "      <td>70</td>\n",
       "      <td>25.13</td>\n",
       "      <td>1.02</td>\n",
       "      <td>51</td>\n",
       "      <td>10000</td>\n",
       "      <td>4.05</td>\n",
       "      <td>200</td>\n",
       "      <td>3.64</td>\n",
       "      <td>[{'id': 803, 'main': 'Clouds', 'description': ...</td>\n",
       "      <td>0.00</td>\n",
       "      <td>NaN</td>\n",
       "    </tr>\n",
       "    <tr>\n",
       "      <th>4</th>\n",
       "      <td>1631527200</td>\n",
       "      <td>30.19</td>\n",
       "      <td>36.82</td>\n",
       "      <td>1007</td>\n",
       "      <td>75</td>\n",
       "      <td>25.26</td>\n",
       "      <td>0.16</td>\n",
       "      <td>64</td>\n",
       "      <td>10000</td>\n",
       "      <td>3.72</td>\n",
       "      <td>203</td>\n",
       "      <td>4.14</td>\n",
       "      <td>[{'id': 803, 'main': 'Clouds', 'description': ...</td>\n",
       "      <td>0.00</td>\n",
       "      <td>NaN</td>\n",
       "    </tr>\n",
       "  </tbody>\n",
       "</table>\n",
       "</div>"
      ],
      "text/plain": [
       "           dt   temp  feels_like  pressure  humidity  dew_point   uvi  clouds  \\\n",
       "0  1631512800  32.48       39.48      1006        68      25.81  8.87      22   \n",
       "1  1631516400  32.22       39.22      1006        67      25.31  5.97      29   \n",
       "2  1631520000  31.92       38.92      1006        68      25.27  3.04      38   \n",
       "3  1631523600  31.26       38.26      1006        70      25.13  1.02      51   \n",
       "4  1631527200  30.19       36.82      1007        75      25.26  0.16      64   \n",
       "\n",
       "   visibility  wind_speed  wind_deg  wind_gust  \\\n",
       "0       10000        3.57       212       2.94   \n",
       "1       10000        3.62       212       2.99   \n",
       "2       10000        3.72       203       2.81   \n",
       "3       10000        4.05       200       3.64   \n",
       "4       10000        3.72       203       4.14   \n",
       "\n",
       "                                             weather   pop rain  \n",
       "0  [{'id': 801, 'main': 'Clouds', 'description': ...  0.84  NaN  \n",
       "1  [{'id': 802, 'main': 'Clouds', 'description': ...  0.00  NaN  \n",
       "2  [{'id': 802, 'main': 'Clouds', 'description': ...  0.00  NaN  \n",
       "3  [{'id': 803, 'main': 'Clouds', 'description': ...  0.00  NaN  \n",
       "4  [{'id': 803, 'main': 'Clouds', 'description': ...  0.00  NaN  "
      ]
     },
     "execution_count": 10,
     "metadata": {},
     "output_type": "execute_result"
    }
   ],
   "source": [
    "df_hourly.head()"
   ]
  },
  {
   "cell_type": "code",
   "execution_count": null,
   "metadata": {},
   "outputs": [],
   "source": []
  }
 ],
 "metadata": {
  "interpreter": {
   "hash": "c1b4cfe941b6d2466ad1fb5979e97da9cda8801728c8091b097ab734208fc00c"
  },
  "kernelspec": {
   "display_name": "Python 3.8.3 64-bit ('base': conda)",
   "name": "python3"
  },
  "language_info": {
   "codemirror_mode": {
    "name": "ipython",
    "version": 3
   },
   "file_extension": ".py",
   "mimetype": "text/x-python",
   "name": "python",
   "nbconvert_exporter": "python",
   "pygments_lexer": "ipython3",
   "version": "3.8.11"
  }
 },
 "nbformat": 4,
 "nbformat_minor": 2
}
