{
 "cells": [
  {
   "cell_type": "code",
   "execution_count": 1,
   "metadata": {
    "execution": {
     "iopub.execute_input": "2021-08-28T23:37:46.739269Z",
     "iopub.status.busy": "2021-08-28T23:37:46.738582Z",
     "iopub.status.idle": "2021-08-28T23:37:48.392007Z",
     "shell.execute_reply": "2021-08-28T23:37:48.391379Z"
    }
   },
   "outputs": [],
   "source": [
    "import json, yaml, requests\r\n",
    "from datetime import datetime\r\n",
    "from dateutil import tz\r\n",
    "import pandas as pd\r\n",
    "from PIL import Image\r\n",
    "from io import BytesIO\r\n",
    "import matplotlib.pyplot as plt\r\n",
    "import seaborn\r\n",
    "\r\n",
    "CONFIG_PATH = \"../config/config.yaml\""
   ]
  },
  {
   "cell_type": "code",
   "execution_count": 2,
   "metadata": {
    "execution": {
     "iopub.execute_input": "2021-08-28T23:37:48.400955Z",
     "iopub.status.busy": "2021-08-28T23:37:48.397098Z",
     "iopub.status.idle": "2021-08-28T23:37:48.403618Z",
     "shell.execute_reply": "2021-08-28T23:37:48.404092Z"
    }
   },
   "outputs": [],
   "source": [
    "with open('../newest_ts', 'r') as f:\r\n",
    "    newest_ts = f.read()\r\n",
    "\r\n",
    "data_path = f\"../data/data_{newest_ts}.json\"\r\n",
    "with open(data_path, 'r') as f:\r\n",
    "    data = json.load(f)\r\n",
    "\r\n",
    "with open(CONFIG_PATH, \"r\") as stream:\r\n",
    "    config = yaml.safe_load(stream)\r\n",
    "\r\n",
    "TIME_ZONE = config['time_zone']\r\n",
    "DATETIME_FORMAT = config['dt_format']"
   ]
  },
  {
   "cell_type": "code",
   "execution_count": 3,
   "metadata": {
    "execution": {
     "iopub.execute_input": "2021-08-28T23:37:48.409930Z",
     "iopub.status.busy": "2021-08-28T23:37:48.409132Z",
     "iopub.status.idle": "2021-08-28T23:37:48.428045Z",
     "shell.execute_reply": "2021-08-28T23:37:48.428558Z"
    }
   },
   "outputs": [
    {
     "name": "stdout",
     "output_type": "stream",
     "text": [
      "Recent query happens at 2021-08-29 07:37:42 (CST).\n"
     ]
    }
   ],
   "source": [
    "def ts2dt(ts, format=DATETIME_FORMAT):\r\n",
    "    dt = (datetime.utcfromtimestamp(int(ts))\r\n",
    "                    .replace(tzinfo=tz.tzutc())\r\n",
    "                    # .astimezone(tz.tzlocal())\r\n",
    "                    .astimezone(tz.gettz(TIME_ZONE)))\r\n",
    "    return dt.strftime(format), dt\r\n",
    "\r\n",
    "_, newest_dt = ts2dt(newest_ts)\r\n",
    "print(f\"Recent query happens at {newest_dt.strftime(DATETIME_FORMAT)} ({newest_dt.tzname()}).\")"
   ]
  },
  {
   "cell_type": "code",
   "execution_count": 4,
   "metadata": {
    "execution": {
     "iopub.execute_input": "2021-08-28T23:37:48.435441Z",
     "iopub.status.busy": "2021-08-28T23:37:48.433947Z",
     "iopub.status.idle": "2021-08-28T23:37:48.436106Z",
     "shell.execute_reply": "2021-08-28T23:37:48.436606Z"
    }
   },
   "outputs": [],
   "source": [
    "def degrees_to_cardinal(d):\r\n",
    "  dirs = ['N', 'NNE', 'NE', 'ENE', 'E', 'ESE', 'SE', 'SSE', 'S', 'SSW', 'SW', 'WSW', 'W', 'WNW', 'NW', 'NNW']\r\n",
    "  ix = int(round(d / (360. / len(dirs))))\r\n",
    "  return dirs[ix % len(dirs)]"
   ]
  },
  {
   "cell_type": "code",
   "execution_count": 5,
   "metadata": {
    "execution": {
     "iopub.execute_input": "2021-08-28T23:37:48.441944Z",
     "iopub.status.busy": "2021-08-28T23:37:48.440387Z",
     "iopub.status.idle": "2021-08-28T23:37:48.442629Z",
     "shell.execute_reply": "2021-08-28T23:37:48.443113Z"
    }
   },
   "outputs": [],
   "source": [
    "# data.keys()"
   ]
  },
  {
   "cell_type": "code",
   "execution_count": 6,
   "metadata": {
    "execution": {
     "iopub.execute_input": "2021-08-28T23:37:48.446864Z",
     "iopub.status.busy": "2021-08-28T23:37:48.446261Z",
     "iopub.status.idle": "2021-08-28T23:37:48.448392Z",
     "shell.execute_reply": "2021-08-28T23:37:48.449006Z"
    }
   },
   "outputs": [],
   "source": [
    "# data['current']"
   ]
  },
  {
   "cell_type": "code",
   "execution_count": 7,
   "metadata": {
    "execution": {
     "iopub.execute_input": "2021-08-28T23:37:48.472140Z",
     "iopub.status.busy": "2021-08-28T23:37:48.471489Z",
     "iopub.status.idle": "2021-08-28T23:37:48.939351Z",
     "shell.execute_reply": "2021-08-28T23:37:48.940191Z"
    }
   },
   "outputs": [
    {
     "data": {
      "image/png": "[encoded data removed]",
      "text/plain": [
       "<Figure size 216x216 with 1 Axes>"
      ]
     },
     "metadata": {
      "needs_background": "light"
     },
     "output_type": "display_data"
    },
    {
     "name": "stdout",
     "output_type": "stream",
     "text": [
      "Today, sun rises at 06:04 and sets at 18:43.\n",
      "Currently, the weather is Clouds (overcast clouds).\n",
      "The temperature is 28.88°C and it feels like 34°C.\n",
      "The UV index is 1.55, humidity is 78%.\n",
      "The pressure is 1011 hPa, percentage of cloud cover is 98%\n",
      "The wind comes from ENE direction with a speed 5.95 m/s.\n"
     ]
    }
   ],
   "source": [
    "current = data['current']\r\n",
    "\r\n",
    "fig, ax = plt.subplots(figsize=(3, 3))\r\n",
    "icon = requests.get(f\"http://openweathermap.org/img/wn/{current['weather'][0]['icon']}@2x.png\")\r\n",
    "im = Image.open(BytesIO(icon.content))\r\n",
    "plt.imshow(im)\r\n",
    "ax.set_axis_off()\r\n",
    "plt.show()\r\n",
    "\r\n",
    "print(f\"Today, sun rises at {ts2dt(current['sunrise'], '%H:%M')[0]} \\\r\n",
    "and sets at {ts2dt(current['sunset'], '%H:%M')[0]}.\\n\\\r\n",
    "Currently, the weather is {current['weather'][0]['main']} ({current['weather'][0]['description']}).\\n\\\r\n",
    "The temperature is {current['temp']}°C and it feels like {current['feels_like']}°C.\\n\\\r\n",
    "The UV index is {current['uvi']}, humidity is {current['humidity']}%.\\n\\\r\n",
    "The pressure is {current['pressure']} hPa, percentage of cloud cover is {current['clouds']}%\\n\\\r\n",
    "The wind comes from {degrees_to_cardinal(current['wind_deg'])} direction with a speed {current['wind_speed']} m/s.\")"
   ]
  },
  {
   "cell_type": "code",
   "execution_count": 8,
   "metadata": {
    "execution": {
     "iopub.execute_input": "2021-08-28T23:37:48.944112Z",
     "iopub.status.busy": "2021-08-28T23:37:48.943377Z",
     "iopub.status.idle": "2021-08-28T23:37:48.952495Z",
     "shell.execute_reply": "2021-08-28T23:37:48.953316Z"
    }
   },
   "outputs": [],
   "source": [
    "df_hourly = pd.DataFrame(data['hourly'])\r\n",
    "df_daily = pd.DataFrame(data['daily'])"
   ]
  },
  {
   "cell_type": "code",
   "execution_count": 9,
   "metadata": {
    "execution": {
     "iopub.execute_input": "2021-08-28T23:37:48.958627Z",
     "iopub.status.busy": "2021-08-28T23:37:48.957339Z",
     "iopub.status.idle": "2021-08-28T23:37:49.312500Z",
     "shell.execute_reply": "2021-08-28T23:37:49.311961Z"
    }
   },
   "outputs": [
    {
     "data": {
      "image/png": "[encoded data removed]",
      "text/plain": [
       "<Figure size 864x432 with 1 Axes>"
      ]
     },
     "metadata": {
      "needs_background": "light"
     },
     "output_type": "display_data"
    }
   ],
   "source": [
    "fig, ax = plt.subplots(figsize=(12, 6))\r\n",
    "plt.plot(df_hourly.temp, '.-', label='Temperature')\r\n",
    "plt.plot(df_hourly.feels_like, '.-', label='Feels Like')\r\n",
    "ax.set(title='Temperature in future 48 hours', xlabel='Time', ylabel='Temperature')\r\n",
    "ax.set_xticks(list(range(0, len(df_hourly), 2)))\r\n",
    "ax.set_xticklabels([ts2dt(ts, '%m-%d %H:%M')[0] for i, ts in enumerate(df_hourly.dt) if i%2==0], \r\n",
    "                   rotation=45, ha=\"right\")\r\n",
    "ax.locator_params(nbins=15, axis='y')\r\n",
    "plt.legend()\r\n",
    "plt.show()"
   ]
  },
  {
   "cell_type": "code",
   "execution_count": 10,
   "metadata": {
    "execution": {
     "iopub.execute_input": "2021-08-28T23:37:49.318010Z",
     "iopub.status.busy": "2021-08-28T23:37:49.317104Z",
     "iopub.status.idle": "2021-08-28T23:37:49.340391Z",
     "shell.execute_reply": "2021-08-28T23:37:49.340877Z"
    }
   },
   "outputs": [
    {
     "data": {
      "text/html": [
       "<div>\n",
       "<style scoped>\n",
       "    .dataframe tbody tr th:only-of-type {\n",
       "        vertical-align: middle;\n",
       "    }\n",
       "\n",
       "    .dataframe tbody tr th {\n",
       "        vertical-align: top;\n",
       "    }\n",
       "\n",
       "    .dataframe thead th {\n",
       "        text-align: right;\n",
       "    }\n",
       "</style>\n",
       "<table border=\"1\" class=\"dataframe\">\n",
       "  <thead>\n",
       "    <tr style=\"text-align: right;\">\n",
       "      <th></th>\n",
       "      <th>dt</th>\n",
       "      <th>temp</th>\n",
       "      <th>feels_like</th>\n",
       "      <th>pressure</th>\n",
       "      <th>humidity</th>\n",
       "      <th>dew_point</th>\n",
       "      <th>uvi</th>\n",
       "      <th>clouds</th>\n",
       "      <th>visibility</th>\n",
       "      <th>wind_speed</th>\n",
       "      <th>wind_deg</th>\n",
       "      <th>wind_gust</th>\n",
       "      <th>weather</th>\n",
       "      <th>pop</th>\n",
       "      <th>rain</th>\n",
       "    </tr>\n",
       "  </thead>\n",
       "  <tbody>\n",
       "    <tr>\n",
       "      <th>0</th>\n",
       "      <td>1630191600</td>\n",
       "      <td>28.59</td>\n",
       "      <td>33.43</td>\n",
       "      <td>1011</td>\n",
       "      <td>79</td>\n",
       "      <td>24.59</td>\n",
       "      <td>0.35</td>\n",
       "      <td>98</td>\n",
       "      <td>10000</td>\n",
       "      <td>5.62</td>\n",
       "      <td>66</td>\n",
       "      <td>7.16</td>\n",
       "      <td>[{'id': 804, 'main': 'Clouds', 'description': ...</td>\n",
       "      <td>0.45</td>\n",
       "      <td>NaN</td>\n",
       "    </tr>\n",
       "    <tr>\n",
       "      <th>1</th>\n",
       "      <td>1630195200</td>\n",
       "      <td>28.88</td>\n",
       "      <td>34.00</td>\n",
       "      <td>1011</td>\n",
       "      <td>78</td>\n",
       "      <td>24.66</td>\n",
       "      <td>1.55</td>\n",
       "      <td>98</td>\n",
       "      <td>10000</td>\n",
       "      <td>5.95</td>\n",
       "      <td>72</td>\n",
       "      <td>7.52</td>\n",
       "      <td>[{'id': 804, 'main': 'Clouds', 'description': ...</td>\n",
       "      <td>0.53</td>\n",
       "      <td>NaN</td>\n",
       "    </tr>\n",
       "    <tr>\n",
       "      <th>2</th>\n",
       "      <td>1630198800</td>\n",
       "      <td>28.82</td>\n",
       "      <td>33.64</td>\n",
       "      <td>1011</td>\n",
       "      <td>77</td>\n",
       "      <td>24.38</td>\n",
       "      <td>4.03</td>\n",
       "      <td>98</td>\n",
       "      <td>10000</td>\n",
       "      <td>6.29</td>\n",
       "      <td>76</td>\n",
       "      <td>7.59</td>\n",
       "      <td>[{'id': 500, 'main': 'Rain', 'description': 'l...</td>\n",
       "      <td>0.57</td>\n",
       "      <td>{'1h': 0.87}</td>\n",
       "    </tr>\n",
       "    <tr>\n",
       "      <th>3</th>\n",
       "      <td>1630202400</td>\n",
       "      <td>28.96</td>\n",
       "      <td>33.80</td>\n",
       "      <td>1011</td>\n",
       "      <td>76</td>\n",
       "      <td>24.30</td>\n",
       "      <td>7.21</td>\n",
       "      <td>98</td>\n",
       "      <td>10000</td>\n",
       "      <td>6.25</td>\n",
       "      <td>79</td>\n",
       "      <td>7.72</td>\n",
       "      <td>[{'id': 501, 'main': 'Rain', 'description': 'm...</td>\n",
       "      <td>0.61</td>\n",
       "      <td>{'1h': 1.15}</td>\n",
       "    </tr>\n",
       "    <tr>\n",
       "      <th>4</th>\n",
       "      <td>1630206000</td>\n",
       "      <td>29.13</td>\n",
       "      <td>33.81</td>\n",
       "      <td>1012</td>\n",
       "      <td>74</td>\n",
       "      <td>24.02</td>\n",
       "      <td>10.13</td>\n",
       "      <td>99</td>\n",
       "      <td>10000</td>\n",
       "      <td>6.28</td>\n",
       "      <td>89</td>\n",
       "      <td>7.73</td>\n",
       "      <td>[{'id': 500, 'main': 'Rain', 'description': 'l...</td>\n",
       "      <td>0.61</td>\n",
       "      <td>{'1h': 0.18}</td>\n",
       "    </tr>\n",
       "  </tbody>\n",
       "</table>\n",
       "</div>"
      ],
      "text/plain": [
       "           dt   temp  feels_like  pressure  humidity  dew_point    uvi  \\\n",
       "0  1630191600  28.59       33.43      1011        79      24.59   0.35   \n",
       "1  1630195200  28.88       34.00      1011        78      24.66   1.55   \n",
       "2  1630198800  28.82       33.64      1011        77      24.38   4.03   \n",
       "3  1630202400  28.96       33.80      1011        76      24.30   7.21   \n",
       "4  1630206000  29.13       33.81      1012        74      24.02  10.13   \n",
       "\n",
       "   clouds  visibility  wind_speed  wind_deg  wind_gust  \\\n",
       "0      98       10000        5.62        66       7.16   \n",
       "1      98       10000        5.95        72       7.52   \n",
       "2      98       10000        6.29        76       7.59   \n",
       "3      98       10000        6.25        79       7.72   \n",
       "4      99       10000        6.28        89       7.73   \n",
       "\n",
       "                                             weather   pop          rain  \n",
       "0  [{'id': 804, 'main': 'Clouds', 'description': ...  0.45           NaN  \n",
       "1  [{'id': 804, 'main': 'Clouds', 'description': ...  0.53           NaN  \n",
       "2  [{'id': 500, 'main': 'Rain', 'description': 'l...  0.57  {'1h': 0.87}  \n",
       "3  [{'id': 501, 'main': 'Rain', 'description': 'm...  0.61  {'1h': 1.15}  \n",
       "4  [{'id': 500, 'main': 'Rain', 'description': 'l...  0.61  {'1h': 0.18}  "
      ]
     },
     "execution_count": 10,
     "metadata": {},
     "output_type": "execute_result"
    }
   ],
   "source": [
    "df_hourly.head()"
   ]
  },
  {
   "cell_type": "code",
   "execution_count": null,
   "metadata": {},
   "outputs": [],
   "source": []
  }
 ],
 "metadata": {
  "interpreter": {
   "hash": "c1b4cfe941b6d2466ad1fb5979e97da9cda8801728c8091b097ab734208fc00c"
  },
  "kernelspec": {
   "display_name": "Python 3.8.3 64-bit ('base': conda)",
   "name": "python3"
  },
  "language_info": {
   "codemirror_mode": {
    "name": "ipython",
    "version": 3
   },
   "file_extension": ".py",
   "mimetype": "text/x-python",
   "name": "python",
   "nbconvert_exporter": "python",
   "pygments_lexer": "ipython3",
   "version": "3.8.11"
  }
 },
 "nbformat": 4,
 "nbformat_minor": 2
}
