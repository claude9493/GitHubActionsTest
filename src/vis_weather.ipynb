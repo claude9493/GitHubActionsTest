{
 "cells": [
  {
   "cell_type": "code",
   "execution_count": 1,
   "metadata": {
    "execution": {
     "iopub.execute_input": "2021-09-26T07:11:16.223169Z",
     "iopub.status.busy": "2021-09-26T07:11:16.222491Z",
     "iopub.status.idle": "2021-09-26T07:11:17.607967Z",
     "shell.execute_reply": "2021-09-26T07:11:17.607360Z"
    }
   },
   "outputs": [],
   "source": [
    "import json, yaml, requests\r\n",
    "from datetime import datetime\r\n",
    "from dateutil import tz\r\n",
    "import pandas as pd\r\n",
    "from PIL import Image\r\n",
    "from io import BytesIO\r\n",
    "import matplotlib.pyplot as plt\r\n",
    "import seaborn\r\n",
    "\r\n",
    "CONFIG_PATH = \"../config/config.yaml\""
   ]
  },
  {
   "cell_type": "code",
   "execution_count": 2,
   "metadata": {
    "execution": {
     "iopub.execute_input": "2021-09-26T07:11:17.610935Z",
     "iopub.status.busy": "2021-09-26T07:11:17.610416Z",
     "iopub.status.idle": "2021-09-26T07:11:17.617941Z",
     "shell.execute_reply": "2021-09-26T07:11:17.618409Z"
    }
   },
   "outputs": [],
   "source": [
    "with open('../newest_ts', 'r') as f:\r\n",
    "    newest_ts = f.read()\r\n",
    "\r\n",
    "data_path = f\"../data/data_{newest_ts}.json\"\r\n",
    "with open(data_path, 'r') as f:\r\n",
    "    data = json.load(f)\r\n",
    "\r\n",
    "with open(CONFIG_PATH, \"r\") as stream:\r\n",
    "    config = yaml.safe_load(stream)\r\n",
    "\r\n",
    "TIME_ZONE = config['time_zone']\r\n",
    "DATETIME_FORMAT = config['dt_format']"
   ]
  },
  {
   "cell_type": "code",
   "execution_count": 3,
   "metadata": {
    "execution": {
     "iopub.execute_input": "2021-09-26T07:11:17.622952Z",
     "iopub.status.busy": "2021-09-26T07:11:17.622360Z",
     "iopub.status.idle": "2021-09-26T07:11:17.668601Z",
     "shell.execute_reply": "2021-09-26T07:11:17.669079Z"
    }
   },
   "outputs": [
    {
     "name": "stdout",
     "output_type": "stream",
     "text": [
      "Recent query happens at 2021-09-26 15:11:12 (CST).\n"
     ]
    }
   ],
   "source": [
    "def ts2dt(ts, format=DATETIME_FORMAT):\r\n",
    "    dt = (datetime.utcfromtimestamp(int(ts))\r\n",
    "                    .replace(tzinfo=tz.tzutc())\r\n",
    "                    # .astimezone(tz.tzlocal())\r\n",
    "                    .astimezone(tz.gettz(TIME_ZONE)))\r\n",
    "    return dt.strftime(format), dt\r\n",
    "\r\n",
    "_, newest_dt = ts2dt(newest_ts)\r\n",
    "print(f\"Recent query happens at {newest_dt.strftime(DATETIME_FORMAT)} ({newest_dt.tzname()}).\")"
   ]
  },
  {
   "cell_type": "code",
   "execution_count": 4,
   "metadata": {
    "execution": {
     "iopub.execute_input": "2021-09-26T07:11:17.675596Z",
     "iopub.status.busy": "2021-09-26T07:11:17.674027Z",
     "iopub.status.idle": "2021-09-26T07:11:17.676268Z",
     "shell.execute_reply": "2021-09-26T07:11:17.676810Z"
    }
   },
   "outputs": [],
   "source": [
    "def degrees_to_cardinal(d):\r\n",
    "  dirs = ['N', 'NNE', 'NE', 'ENE', 'E', 'ESE', 'SE', 'SSE', 'S', 'SSW', 'SW', 'WSW', 'W', 'WNW', 'NW', 'NNW']\r\n",
    "  ix = int(round(d / (360. / len(dirs))))\r\n",
    "  return dirs[ix % len(dirs)]"
   ]
  },
  {
   "cell_type": "code",
   "execution_count": 5,
   "metadata": {
    "execution": {
     "iopub.execute_input": "2021-09-26T07:11:17.681248Z",
     "iopub.status.busy": "2021-09-26T07:11:17.680670Z",
     "iopub.status.idle": "2021-09-26T07:11:17.682800Z",
     "shell.execute_reply": "2021-09-26T07:11:17.683207Z"
    }
   },
   "outputs": [],
   "source": [
    "# data.keys()"
   ]
  },
  {
   "cell_type": "code",
   "execution_count": 6,
   "metadata": {
    "execution": {
     "iopub.execute_input": "2021-09-26T07:11:17.688886Z",
     "iopub.status.busy": "2021-09-26T07:11:17.687065Z",
     "iopub.status.idle": "2021-09-26T07:11:17.689742Z",
     "shell.execute_reply": "2021-09-26T07:11:17.690360Z"
    }
   },
   "outputs": [],
   "source": [
    "# data['current']"
   ]
  },
  {
   "cell_type": "code",
   "execution_count": 7,
   "metadata": {
    "execution": {
     "iopub.execute_input": "2021-09-26T07:11:17.712126Z",
     "iopub.status.busy": "2021-09-26T07:11:17.711585Z",
     "iopub.status.idle": "2021-09-26T07:11:18.131584Z",
     "shell.execute_reply": "2021-09-26T07:11:18.130660Z"
    }
   },
   "outputs": [
    {
     "data": {
      "image/png": "[encoded data removed]",
      "text/plain": [
       "<Figure size 216x216 with 1 Axes>"
      ]
     },
     "metadata": {
      "needs_background": "light"
     },
     "output_type": "display_data"
    },
    {
     "name": "stdout",
     "output_type": "stream",
     "text": [
      "Today, sun rises at 06:12 and sets at 18:15.\n",
      "Currently, the weather is Clouds (few clouds).\n",
      "The temperature is 30.8°C and it feels like 37.66°C.\n",
      "The UV index is 5.33, humidity is 72%.\n",
      "The pressure is 1010 hPa, percentage of cloud cover is 23%\n",
      "The wind comes from WSW direction with a speed 0.45 m/s.\n"
     ]
    }
   ],
   "source": [
    "current = data['current']\r\n",
    "\r\n",
    "fig, ax = plt.subplots(figsize=(3, 3))\r\n",
    "icon = requests.get(f\"http://openweathermap.org/img/wn/{current['weather'][0]['icon']}@2x.png\")\r\n",
    "im = Image.open(BytesIO(icon.content))\r\n",
    "plt.imshow(im)\r\n",
    "ax.set_axis_off()\r\n",
    "plt.show()\r\n",
    "\r\n",
    "print(f\"Today, sun rises at {ts2dt(current['sunrise'], '%H:%M')[0]} \\\r\n",
    "and sets at {ts2dt(current['sunset'], '%H:%M')[0]}.\\n\\\r\n",
    "Currently, the weather is {current['weather'][0]['main']} ({current['weather'][0]['description']}).\\n\\\r\n",
    "The temperature is {current['temp']}°C and it feels like {current['feels_like']}°C.\\n\\\r\n",
    "The UV index is {current['uvi']}, humidity is {current['humidity']}%.\\n\\\r\n",
    "The pressure is {current['pressure']} hPa, percentage of cloud cover is {current['clouds']}%\\n\\\r\n",
    "The wind comes from {degrees_to_cardinal(current['wind_deg'])} direction with a speed {current['wind_speed']} m/s.\")"
   ]
  },
  {
   "cell_type": "code",
   "execution_count": 8,
   "metadata": {
    "execution": {
     "iopub.execute_input": "2021-09-26T07:11:18.136992Z",
     "iopub.status.busy": "2021-09-26T07:11:18.136434Z",
     "iopub.status.idle": "2021-09-26T07:11:18.141965Z",
     "shell.execute_reply": "2021-09-26T07:11:18.141071Z"
    }
   },
   "outputs": [],
   "source": [
    "df_hourly = pd.DataFrame(data['hourly'])\r\n",
    "df_daily = pd.DataFrame(data['daily'])"
   ]
  },
  {
   "cell_type": "code",
   "execution_count": 9,
   "metadata": {
    "execution": {
     "iopub.execute_input": "2021-09-26T07:11:18.154980Z",
     "iopub.status.busy": "2021-09-26T07:11:18.153854Z",
     "iopub.status.idle": "2021-09-26T07:11:18.476071Z",
     "shell.execute_reply": "2021-09-26T07:11:18.475176Z"
    }
   },
   "outputs": [
    {
     "data": {
      "image/png": "[encoded data removed]",
      "text/plain": [
       "<Figure size 864x432 with 1 Axes>"
      ]
     },
     "metadata": {
      "needs_background": "light"
     },
     "output_type": "display_data"
    }
   ],
   "source": [
    "fig, ax = plt.subplots(figsize=(12, 6))\r\n",
    "plt.plot(df_hourly.temp, '.-', label='Temperature')\r\n",
    "plt.plot(df_hourly.feels_like, '.-', label='Feels Like')\r\n",
    "ax.set(title='Temperature in future 48 hours', xlabel='Time', ylabel='Temperature')\r\n",
    "ax.set_xticks(list(range(0, len(df_hourly), 2)))\r\n",
    "ax.set_xticklabels([ts2dt(ts, '%m-%d %H:%M')[0] for i, ts in enumerate(df_hourly.dt) if i%2==0], \r\n",
    "                   rotation=45, ha=\"right\")\r\n",
    "ax.locator_params(nbins=15, axis='y')\r\n",
    "plt.legend()\r\n",
    "plt.show()"
   ]
  },
  {
   "cell_type": "code",
   "execution_count": 10,
   "metadata": {
    "execution": {
     "iopub.execute_input": "2021-09-26T07:11:18.487532Z",
     "iopub.status.busy": "2021-09-26T07:11:18.479966Z",
     "iopub.status.idle": "2021-09-26T07:11:18.496733Z",
     "shell.execute_reply": "2021-09-26T07:11:18.497208Z"
    }
   },
   "outputs": [
    {
     "data": {
      "text/html": [
       "<div>\n",
       "<style scoped>\n",
       "    .dataframe tbody tr th:only-of-type {\n",
       "        vertical-align: middle;\n",
       "    }\n",
       "\n",
       "    .dataframe tbody tr th {\n",
       "        vertical-align: top;\n",
       "    }\n",
       "\n",
       "    .dataframe thead th {\n",
       "        text-align: right;\n",
       "    }\n",
       "</style>\n",
       "<table border=\"1\" class=\"dataframe\">\n",
       "  <thead>\n",
       "    <tr style=\"text-align: right;\">\n",
       "      <th></th>\n",
       "      <th>dt</th>\n",
       "      <th>temp</th>\n",
       "      <th>feels_like</th>\n",
       "      <th>pressure</th>\n",
       "      <th>humidity</th>\n",
       "      <th>dew_point</th>\n",
       "      <th>uvi</th>\n",
       "      <th>clouds</th>\n",
       "      <th>visibility</th>\n",
       "      <th>wind_speed</th>\n",
       "      <th>wind_deg</th>\n",
       "      <th>wind_gust</th>\n",
       "      <th>weather</th>\n",
       "      <th>pop</th>\n",
       "    </tr>\n",
       "  </thead>\n",
       "  <tbody>\n",
       "    <tr>\n",
       "      <th>0</th>\n",
       "      <td>1632639600</td>\n",
       "      <td>30.80</td>\n",
       "      <td>37.66</td>\n",
       "      <td>1010</td>\n",
       "      <td>72</td>\n",
       "      <td>25.16</td>\n",
       "      <td>5.33</td>\n",
       "      <td>23</td>\n",
       "      <td>10000</td>\n",
       "      <td>5.18</td>\n",
       "      <td>89</td>\n",
       "      <td>5.77</td>\n",
       "      <td>[{'id': 801, 'main': 'Clouds', 'description': ...</td>\n",
       "      <td>0</td>\n",
       "    </tr>\n",
       "    <tr>\n",
       "      <th>1</th>\n",
       "      <td>1632643200</td>\n",
       "      <td>30.46</td>\n",
       "      <td>36.18</td>\n",
       "      <td>1010</td>\n",
       "      <td>70</td>\n",
       "      <td>24.37</td>\n",
       "      <td>2.63</td>\n",
       "      <td>23</td>\n",
       "      <td>10000</td>\n",
       "      <td>4.75</td>\n",
       "      <td>93</td>\n",
       "      <td>5.36</td>\n",
       "      <td>[{'id': 801, 'main': 'Clouds', 'description': ...</td>\n",
       "      <td>0</td>\n",
       "    </tr>\n",
       "    <tr>\n",
       "      <th>2</th>\n",
       "      <td>1632646800</td>\n",
       "      <td>29.94</td>\n",
       "      <td>34.66</td>\n",
       "      <td>1010</td>\n",
       "      <td>69</td>\n",
       "      <td>23.63</td>\n",
       "      <td>0.83</td>\n",
       "      <td>24</td>\n",
       "      <td>10000</td>\n",
       "      <td>4.42</td>\n",
       "      <td>100</td>\n",
       "      <td>5.14</td>\n",
       "      <td>[{'id': 801, 'main': 'Clouds', 'description': ...</td>\n",
       "      <td>0</td>\n",
       "    </tr>\n",
       "    <tr>\n",
       "      <th>3</th>\n",
       "      <td>1632650400</td>\n",
       "      <td>29.14</td>\n",
       "      <td>32.84</td>\n",
       "      <td>1010</td>\n",
       "      <td>69</td>\n",
       "      <td>22.87</td>\n",
       "      <td>0.00</td>\n",
       "      <td>23</td>\n",
       "      <td>10000</td>\n",
       "      <td>3.95</td>\n",
       "      <td>103</td>\n",
       "      <td>4.94</td>\n",
       "      <td>[{'id': 801, 'main': 'Clouds', 'description': ...</td>\n",
       "      <td>0</td>\n",
       "    </tr>\n",
       "    <tr>\n",
       "      <th>4</th>\n",
       "      <td>1632654000</td>\n",
       "      <td>28.34</td>\n",
       "      <td>31.34</td>\n",
       "      <td>1011</td>\n",
       "      <td>70</td>\n",
       "      <td>22.34</td>\n",
       "      <td>0.00</td>\n",
       "      <td>21</td>\n",
       "      <td>10000</td>\n",
       "      <td>3.91</td>\n",
       "      <td>98</td>\n",
       "      <td>4.83</td>\n",
       "      <td>[{'id': 801, 'main': 'Clouds', 'description': ...</td>\n",
       "      <td>0</td>\n",
       "    </tr>\n",
       "  </tbody>\n",
       "</table>\n",
       "</div>"
      ],
      "text/plain": [
       "           dt   temp  feels_like  pressure  humidity  dew_point   uvi  clouds  \\\n",
       "0  1632639600  30.80       37.66      1010        72      25.16  5.33      23   \n",
       "1  1632643200  30.46       36.18      1010        70      24.37  2.63      23   \n",
       "2  1632646800  29.94       34.66      1010        69      23.63  0.83      24   \n",
       "3  1632650400  29.14       32.84      1010        69      22.87  0.00      23   \n",
       "4  1632654000  28.34       31.34      1011        70      22.34  0.00      21   \n",
       "\n",
       "   visibility  wind_speed  wind_deg  wind_gust  \\\n",
       "0       10000        5.18        89       5.77   \n",
       "1       10000        4.75        93       5.36   \n",
       "2       10000        4.42       100       5.14   \n",
       "3       10000        3.95       103       4.94   \n",
       "4       10000        3.91        98       4.83   \n",
       "\n",
       "                                             weather  pop  \n",
       "0  [{'id': 801, 'main': 'Clouds', 'description': ...    0  \n",
       "1  [{'id': 801, 'main': 'Clouds', 'description': ...    0  \n",
       "2  [{'id': 801, 'main': 'Clouds', 'description': ...    0  \n",
       "3  [{'id': 801, 'main': 'Clouds', 'description': ...    0  \n",
       "4  [{'id': 801, 'main': 'Clouds', 'description': ...    0  "
      ]
     },
     "execution_count": 10,
     "metadata": {},
     "output_type": "execute_result"
    }
   ],
   "source": [
    "df_hourly.head()"
   ]
  },
  {
   "cell_type": "code",
   "execution_count": null,
   "metadata": {},
   "outputs": [],
   "source": []
  }
 ],
 "metadata": {
  "interpreter": {
   "hash": "c1b4cfe941b6d2466ad1fb5979e97da9cda8801728c8091b097ab734208fc00c"
  },
  "kernelspec": {
   "display_name": "Python 3.8.3 64-bit ('base': conda)",
   "name": "python3"
  },
  "language_info": {
   "codemirror_mode": {
    "name": "ipython",
    "version": 3
   },
   "file_extension": ".py",
   "mimetype": "text/x-python",
   "name": "python",
   "nbconvert_exporter": "python",
   "pygments_lexer": "ipython3",
   "version": "3.8.12"
  }
 },
 "nbformat": 4,
 "nbformat_minor": 2
}
