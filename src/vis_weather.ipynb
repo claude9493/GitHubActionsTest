{
 "cells": [
  {
   "cell_type": "code",
   "execution_count": 1,
   "metadata": {
    "execution": {
     "iopub.execute_input": "2021-10-05T04:14:53.912423Z",
     "iopub.status.busy": "2021-10-05T04:14:53.911829Z",
     "iopub.status.idle": "2021-10-05T04:14:56.272718Z",
     "shell.execute_reply": "2021-10-05T04:14:56.271716Z"
    }
   },
   "outputs": [],
   "source": [
    "import json, yaml, requests\r\n",
    "from datetime import datetime\r\n",
    "from dateutil import tz\r\n",
    "import pandas as pd\r\n",
    "from PIL import Image\r\n",
    "from io import BytesIO\r\n",
    "import matplotlib.pyplot as plt\r\n",
    "import seaborn\r\n",
    "\r\n",
    "CONFIG_PATH = \"../config/config.yaml\""
   ]
  },
  {
   "cell_type": "code",
   "execution_count": 2,
   "metadata": {
    "execution": {
     "iopub.execute_input": "2021-10-05T04:14:56.275692Z",
     "iopub.status.busy": "2021-10-05T04:14:56.275190Z",
     "iopub.status.idle": "2021-10-05T04:14:56.282336Z",
     "shell.execute_reply": "2021-10-05T04:14:56.281855Z"
    }
   },
   "outputs": [],
   "source": [
    "with open('../newest_ts', 'r') as f:\r\n",
    "    newest_ts = f.read()\r\n",
    "\r\n",
    "data_path = f\"../data/data_{newest_ts}.json\"\r\n",
    "with open(data_path, 'r') as f:\r\n",
    "    data = json.load(f)\r\n",
    "\r\n",
    "with open(CONFIG_PATH, \"r\") as stream:\r\n",
    "    config = yaml.safe_load(stream)\r\n",
    "\r\n",
    "TIME_ZONE = config['time_zone']\r\n",
    "DATETIME_FORMAT = config['dt_format']"
   ]
  },
  {
   "cell_type": "code",
   "execution_count": 3,
   "metadata": {
    "execution": {
     "iopub.execute_input": "2021-10-05T04:14:56.286394Z",
     "iopub.status.busy": "2021-10-05T04:14:56.285945Z",
     "iopub.status.idle": "2021-10-05T04:14:56.296830Z",
     "shell.execute_reply": "2021-10-05T04:14:56.297196Z"
    }
   },
   "outputs": [
    {
     "name": "stdout",
     "output_type": "stream",
     "text": [
      "Recent query happens at 2021-10-05 12:14:50 (CST).\n"
     ]
    }
   ],
   "source": [
    "def ts2dt(ts, format=DATETIME_FORMAT):\r\n",
    "    dt = (datetime.utcfromtimestamp(int(ts))\r\n",
    "                    .replace(tzinfo=tz.tzutc())\r\n",
    "                    # .astimezone(tz.tzlocal())\r\n",
    "                    .astimezone(tz.gettz(TIME_ZONE)))\r\n",
    "    return dt.strftime(format), dt\r\n",
    "\r\n",
    "_, newest_dt = ts2dt(newest_ts)\r\n",
    "print(f\"Recent query happens at {newest_dt.strftime(DATETIME_FORMAT)} ({newest_dt.tzname()}).\")"
   ]
  },
  {
   "cell_type": "code",
   "execution_count": 4,
   "metadata": {
    "execution": {
     "iopub.execute_input": "2021-10-05T04:14:56.302099Z",
     "iopub.status.busy": "2021-10-05T04:14:56.300953Z",
     "iopub.status.idle": "2021-10-05T04:14:56.302652Z",
     "shell.execute_reply": "2021-10-05T04:14:56.303021Z"
    }
   },
   "outputs": [],
   "source": [
    "def degrees_to_cardinal(d):\r\n",
    "  dirs = ['N', 'NNE', 'NE', 'ENE', 'E', 'ESE', 'SE', 'SSE', 'S', 'SSW', 'SW', 'WSW', 'W', 'WNW', 'NW', 'NNW']\r\n",
    "  ix = int(round(d / (360. / len(dirs))))\r\n",
    "  return dirs[ix % len(dirs)]"
   ]
  },
  {
   "cell_type": "code",
   "execution_count": 5,
   "metadata": {
    "execution": {
     "iopub.execute_input": "2021-10-05T04:14:56.306833Z",
     "iopub.status.busy": "2021-10-05T04:14:56.305735Z",
     "iopub.status.idle": "2021-10-05T04:14:56.307353Z",
     "shell.execute_reply": "2021-10-05T04:14:56.307713Z"
    }
   },
   "outputs": [],
   "source": [
    "# data.keys()"
   ]
  },
  {
   "cell_type": "code",
   "execution_count": 6,
   "metadata": {
    "execution": {
     "iopub.execute_input": "2021-10-05T04:14:56.311531Z",
     "iopub.status.busy": "2021-10-05T04:14:56.310347Z",
     "iopub.status.idle": "2021-10-05T04:14:56.312052Z",
     "shell.execute_reply": "2021-10-05T04:14:56.312410Z"
    }
   },
   "outputs": [],
   "source": [
    "# data['current']"
   ]
  },
  {
   "cell_type": "code",
   "execution_count": 7,
   "metadata": {
    "execution": {
     "iopub.execute_input": "2021-10-05T04:14:56.328334Z",
     "iopub.status.busy": "2021-10-05T04:14:56.327871Z",
     "iopub.status.idle": "2021-10-05T04:14:56.712813Z",
     "shell.execute_reply": "2021-10-05T04:14:56.713188Z"
    }
   },
   "outputs": [
    {
     "data": {
      "image/png": "[encoded data removed]",
      "text/plain": [
       "<Figure size 216x216 with 1 Axes>"
      ]
     },
     "metadata": {
      "needs_background": "light"
     },
     "output_type": "display_data"
    },
    {
     "name": "stdout",
     "output_type": "stream",
     "text": [
      "Today, sun rises at 06:15 and sets at 18:07.\n",
      "Currently, the weather is Clouds (few clouds).\n",
      "The temperature is 30.72°C and it feels like 37.72°C.\n",
      "The UV index is 9.11, humidity is 76%.\n",
      "The pressure is 1011 hPa, percentage of cloud cover is 23%\n",
      "The wind comes from SW direction with a speed 0.89 m/s.\n"
     ]
    }
   ],
   "source": [
    "current = data['current']\r\n",
    "\r\n",
    "fig, ax = plt.subplots(figsize=(3, 3))\r\n",
    "icon = requests.get(f\"http://openweathermap.org/img/wn/{current['weather'][0]['icon']}@2x.png\")\r\n",
    "im = Image.open(BytesIO(icon.content))\r\n",
    "plt.imshow(im)\r\n",
    "ax.set_axis_off()\r\n",
    "plt.show()\r\n",
    "\r\n",
    "print(f\"Today, sun rises at {ts2dt(current['sunrise'], '%H:%M')[0]} \\\r\n",
    "and sets at {ts2dt(current['sunset'], '%H:%M')[0]}.\\n\\\r\n",
    "Currently, the weather is {current['weather'][0]['main']} ({current['weather'][0]['description']}).\\n\\\r\n",
    "The temperature is {current['temp']}°C and it feels like {current['feels_like']}°C.\\n\\\r\n",
    "The UV index is {current['uvi']}, humidity is {current['humidity']}%.\\n\\\r\n",
    "The pressure is {current['pressure']} hPa, percentage of cloud cover is {current['clouds']}%\\n\\\r\n",
    "The wind comes from {degrees_to_cardinal(current['wind_deg'])} direction with a speed {current['wind_speed']} m/s.\")"
   ]
  },
  {
   "cell_type": "code",
   "execution_count": 8,
   "metadata": {
    "execution": {
     "iopub.execute_input": "2021-10-05T04:14:56.715432Z",
     "iopub.status.busy": "2021-10-05T04:14:56.714985Z",
     "iopub.status.idle": "2021-10-05T04:14:56.720437Z",
     "shell.execute_reply": "2021-10-05T04:14:56.720869Z"
    }
   },
   "outputs": [],
   "source": [
    "df_hourly = pd.DataFrame(data['hourly'])\r\n",
    "df_daily = pd.DataFrame(data['daily'])"
   ]
  },
  {
   "cell_type": "code",
   "execution_count": 9,
   "metadata": {
    "execution": {
     "iopub.execute_input": "2021-10-05T04:14:56.723002Z",
     "iopub.status.busy": "2021-10-05T04:14:56.722515Z",
     "iopub.status.idle": "2021-10-05T04:14:56.965385Z",
     "shell.execute_reply": "2021-10-05T04:14:56.964970Z"
    }
   },
   "outputs": [
    {
     "data": {
      "image/png": "[encoded data removed]",
      "text/plain": [
       "<Figure size 864x432 with 1 Axes>"
      ]
     },
     "metadata": {
      "needs_background": "light"
     },
     "output_type": "display_data"
    }
   ],
   "source": [
    "fig, ax = plt.subplots(figsize=(12, 6))\r\n",
    "plt.plot(df_hourly.temp, '.-', label='Temperature')\r\n",
    "plt.plot(df_hourly.feels_like, '.-', label='Feels Like')\r\n",
    "ax.set(title='Temperature in future 48 hours', xlabel='Time', ylabel='Temperature')\r\n",
    "ax.set_xticks(list(range(0, len(df_hourly), 2)))\r\n",
    "ax.set_xticklabels([ts2dt(ts, '%m-%d %H:%M')[0] for i, ts in enumerate(df_hourly.dt) if i%2==0], \r\n",
    "                   rotation=45, ha=\"right\")\r\n",
    "ax.locator_params(nbins=15, axis='y')\r\n",
    "plt.legend()\r\n",
    "plt.show()"
   ]
  },
  {
   "cell_type": "code",
   "execution_count": 10,
   "metadata": {
    "execution": {
     "iopub.execute_input": "2021-10-05T04:14:56.969361Z",
     "iopub.status.busy": "2021-10-05T04:14:56.968903Z",
     "iopub.status.idle": "2021-10-05T04:14:56.987429Z",
     "shell.execute_reply": "2021-10-05T04:14:56.987029Z"
    }
   },
   "outputs": [
    {
     "data": {
      "text/html": [
       "<div>\n",
       "<style scoped>\n",
       "    .dataframe tbody tr th:only-of-type {\n",
       "        vertical-align: middle;\n",
       "    }\n",
       "\n",
       "    .dataframe tbody tr th {\n",
       "        vertical-align: top;\n",
       "    }\n",
       "\n",
       "    .dataframe thead th {\n",
       "        text-align: right;\n",
       "    }\n",
       "</style>\n",
       "<table border=\"1\" class=\"dataframe\">\n",
       "  <thead>\n",
       "    <tr style=\"text-align: right;\">\n",
       "      <th></th>\n",
       "      <th>dt</th>\n",
       "      <th>temp</th>\n",
       "      <th>feels_like</th>\n",
       "      <th>pressure</th>\n",
       "      <th>humidity</th>\n",
       "      <th>dew_point</th>\n",
       "      <th>uvi</th>\n",
       "      <th>clouds</th>\n",
       "      <th>visibility</th>\n",
       "      <th>wind_speed</th>\n",
       "      <th>wind_deg</th>\n",
       "      <th>wind_gust</th>\n",
       "      <th>weather</th>\n",
       "      <th>pop</th>\n",
       "      <th>rain</th>\n",
       "    </tr>\n",
       "  </thead>\n",
       "  <tbody>\n",
       "    <tr>\n",
       "      <th>0</th>\n",
       "      <td>1633406400</td>\n",
       "      <td>30.72</td>\n",
       "      <td>37.72</td>\n",
       "      <td>1011</td>\n",
       "      <td>76</td>\n",
       "      <td>26.00</td>\n",
       "      <td>9.11</td>\n",
       "      <td>23</td>\n",
       "      <td>10000</td>\n",
       "      <td>8.88</td>\n",
       "      <td>74</td>\n",
       "      <td>10.08</td>\n",
       "      <td>[{'id': 801, 'main': 'Clouds', 'description': ...</td>\n",
       "      <td>0.13</td>\n",
       "      <td>NaN</td>\n",
       "    </tr>\n",
       "    <tr>\n",
       "      <th>1</th>\n",
       "      <td>1633410000</td>\n",
       "      <td>30.46</td>\n",
       "      <td>37.30</td>\n",
       "      <td>1011</td>\n",
       "      <td>74</td>\n",
       "      <td>25.30</td>\n",
       "      <td>8.95</td>\n",
       "      <td>24</td>\n",
       "      <td>10000</td>\n",
       "      <td>8.82</td>\n",
       "      <td>80</td>\n",
       "      <td>9.41</td>\n",
       "      <td>[{'id': 801, 'main': 'Clouds', 'description': ...</td>\n",
       "      <td>0.13</td>\n",
       "      <td>NaN</td>\n",
       "    </tr>\n",
       "    <tr>\n",
       "      <th>2</th>\n",
       "      <td>1633413600</td>\n",
       "      <td>30.17</td>\n",
       "      <td>35.97</td>\n",
       "      <td>1011</td>\n",
       "      <td>72</td>\n",
       "      <td>24.56</td>\n",
       "      <td>7.26</td>\n",
       "      <td>26</td>\n",
       "      <td>10000</td>\n",
       "      <td>8.48</td>\n",
       "      <td>82</td>\n",
       "      <td>9.17</td>\n",
       "      <td>[{'id': 500, 'main': 'Rain', 'description': 'l...</td>\n",
       "      <td>0.31</td>\n",
       "      <td>{'1h': 0.13}</td>\n",
       "    </tr>\n",
       "    <tr>\n",
       "      <th>3</th>\n",
       "      <td>1633417200</td>\n",
       "      <td>29.86</td>\n",
       "      <td>34.70</td>\n",
       "      <td>1010</td>\n",
       "      <td>70</td>\n",
       "      <td>23.79</td>\n",
       "      <td>4.75</td>\n",
       "      <td>12</td>\n",
       "      <td>10000</td>\n",
       "      <td>8.02</td>\n",
       "      <td>86</td>\n",
       "      <td>8.84</td>\n",
       "      <td>[{'id': 801, 'main': 'Clouds', 'description': ...</td>\n",
       "      <td>0.00</td>\n",
       "      <td>NaN</td>\n",
       "    </tr>\n",
       "    <tr>\n",
       "      <th>4</th>\n",
       "      <td>1633420800</td>\n",
       "      <td>29.34</td>\n",
       "      <td>32.89</td>\n",
       "      <td>1010</td>\n",
       "      <td>67</td>\n",
       "      <td>22.57</td>\n",
       "      <td>2.28</td>\n",
       "      <td>7</td>\n",
       "      <td>10000</td>\n",
       "      <td>7.99</td>\n",
       "      <td>93</td>\n",
       "      <td>8.91</td>\n",
       "      <td>[{'id': 800, 'main': 'Clear', 'description': '...</td>\n",
       "      <td>0.00</td>\n",
       "      <td>NaN</td>\n",
       "    </tr>\n",
       "  </tbody>\n",
       "</table>\n",
       "</div>"
      ],
      "text/plain": [
       "           dt   temp  feels_like  pressure  humidity  dew_point   uvi  clouds  \\\n",
       "0  1633406400  30.72       37.72      1011        76      26.00  9.11      23   \n",
       "1  1633410000  30.46       37.30      1011        74      25.30  8.95      24   \n",
       "2  1633413600  30.17       35.97      1011        72      24.56  7.26      26   \n",
       "3  1633417200  29.86       34.70      1010        70      23.79  4.75      12   \n",
       "4  1633420800  29.34       32.89      1010        67      22.57  2.28       7   \n",
       "\n",
       "   visibility  wind_speed  wind_deg  wind_gust  \\\n",
       "0       10000        8.88        74      10.08   \n",
       "1       10000        8.82        80       9.41   \n",
       "2       10000        8.48        82       9.17   \n",
       "3       10000        8.02        86       8.84   \n",
       "4       10000        7.99        93       8.91   \n",
       "\n",
       "                                             weather   pop          rain  \n",
       "0  [{'id': 801, 'main': 'Clouds', 'description': ...  0.13           NaN  \n",
       "1  [{'id': 801, 'main': 'Clouds', 'description': ...  0.13           NaN  \n",
       "2  [{'id': 500, 'main': 'Rain', 'description': 'l...  0.31  {'1h': 0.13}  \n",
       "3  [{'id': 801, 'main': 'Clouds', 'description': ...  0.00           NaN  \n",
       "4  [{'id': 800, 'main': 'Clear', 'description': '...  0.00           NaN  "
      ]
     },
     "execution_count": 10,
     "metadata": {},
     "output_type": "execute_result"
    }
   ],
   "source": [
    "df_hourly.head()"
   ]
  },
  {
   "cell_type": "code",
   "execution_count": null,
   "metadata": {},
   "outputs": [],
   "source": []
  }
 ],
 "metadata": {
  "interpreter": {
   "hash": "c1b4cfe941b6d2466ad1fb5979e97da9cda8801728c8091b097ab734208fc00c"
  },
  "kernelspec": {
   "display_name": "Python 3.8.3 64-bit ('base': conda)",
   "name": "python3"
  },
  "language_info": {
   "codemirror_mode": {
    "name": "ipython",
    "version": 3
   },
   "file_extension": ".py",
   "mimetype": "text/x-python",
   "name": "python",
   "nbconvert_exporter": "python",
   "pygments_lexer": "ipython3",
   "version": "3.8.12"
  }
 },
 "nbformat": 4,
 "nbformat_minor": 2
}
