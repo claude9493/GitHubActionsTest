{
 "cells": [
  {
   "cell_type": "code",
   "execution_count": 1,
   "metadata": {
    "execution": {
     "iopub.execute_input": "2021-10-19T10:13:12.542342Z",
     "iopub.status.busy": "2021-10-19T10:13:12.541430Z",
     "iopub.status.idle": "2021-10-19T10:13:14.009002Z",
     "shell.execute_reply": "2021-10-19T10:13:14.007981Z"
    }
   },
   "outputs": [],
   "source": [
    "import json, yaml, requests\r\n",
    "from datetime import datetime\r\n",
    "from dateutil import tz\r\n",
    "import pandas as pd\r\n",
    "from PIL import Image\r\n",
    "from io import BytesIO\r\n",
    "import matplotlib.pyplot as plt\r\n",
    "import seaborn\r\n",
    "\r\n",
    "CONFIG_PATH = \"../config/config.yaml\""
   ]
  },
  {
   "cell_type": "code",
   "execution_count": 2,
   "metadata": {
    "execution": {
     "iopub.execute_input": "2021-10-19T10:13:14.015945Z",
     "iopub.status.busy": "2021-10-19T10:13:14.015407Z",
     "iopub.status.idle": "2021-10-19T10:13:14.021490Z",
     "shell.execute_reply": "2021-10-19T10:13:14.021014Z"
    }
   },
   "outputs": [],
   "source": [
    "with open('../newest_ts', 'r') as f:\r\n",
    "    newest_ts = f.read()\r\n",
    "\r\n",
    "data_path = f\"../data/data_{newest_ts}.json\"\r\n",
    "with open(data_path, 'r') as f:\r\n",
    "    data = json.load(f)\r\n",
    "\r\n",
    "with open(CONFIG_PATH, \"r\") as stream:\r\n",
    "    config = yaml.safe_load(stream)\r\n",
    "\r\n",
    "TIME_ZONE = config['time_zone']\r\n",
    "DATETIME_FORMAT = config['dt_format']"
   ]
  },
  {
   "cell_type": "code",
   "execution_count": 3,
   "metadata": {
    "execution": {
     "iopub.execute_input": "2021-10-19T10:13:14.026964Z",
     "iopub.status.busy": "2021-10-19T10:13:14.026123Z",
     "iopub.status.idle": "2021-10-19T10:13:14.032212Z",
     "shell.execute_reply": "2021-10-19T10:13:14.032648Z"
    }
   },
   "outputs": [
    {
     "name": "stdout",
     "output_type": "stream",
     "text": [
      "Recent query happens at 2021-10-19 18:13:08 (CST).\n"
     ]
    }
   ],
   "source": [
    "def ts2dt(ts, format=DATETIME_FORMAT):\r\n",
    "    dt = (datetime.utcfromtimestamp(int(ts))\r\n",
    "                    .replace(tzinfo=tz.tzutc())\r\n",
    "                    # .astimezone(tz.tzlocal())\r\n",
    "                    .astimezone(tz.gettz(TIME_ZONE)))\r\n",
    "    return dt.strftime(format), dt\r\n",
    "\r\n",
    "_, newest_dt = ts2dt(newest_ts)\r\n",
    "print(f\"Recent query happens at {newest_dt.strftime(DATETIME_FORMAT)} ({newest_dt.tzname()}).\")"
   ]
  },
  {
   "cell_type": "code",
   "execution_count": 4,
   "metadata": {
    "execution": {
     "iopub.execute_input": "2021-10-19T10:13:14.035170Z",
     "iopub.status.busy": "2021-10-19T10:13:14.034616Z",
     "iopub.status.idle": "2021-10-19T10:13:14.040155Z",
     "shell.execute_reply": "2021-10-19T10:13:14.040606Z"
    }
   },
   "outputs": [],
   "source": [
    "def degrees_to_cardinal(d):\r\n",
    "  dirs = ['N', 'NNE', 'NE', 'ENE', 'E', 'ESE', 'SE', 'SSE', 'S', 'SSW', 'SW', 'WSW', 'W', 'WNW', 'NW', 'NNW']\r\n",
    "  ix = int(round(d / (360. / len(dirs))))\r\n",
    "  return dirs[ix % len(dirs)]"
   ]
  },
  {
   "cell_type": "code",
   "execution_count": 5,
   "metadata": {
    "execution": {
     "iopub.execute_input": "2021-10-19T10:13:14.045778Z",
     "iopub.status.busy": "2021-10-19T10:13:14.044411Z",
     "iopub.status.idle": "2021-10-19T10:13:14.046443Z",
     "shell.execute_reply": "2021-10-19T10:13:14.046997Z"
    }
   },
   "outputs": [],
   "source": [
    "# data.keys()"
   ]
  },
  {
   "cell_type": "code",
   "execution_count": 6,
   "metadata": {
    "execution": {
     "iopub.execute_input": "2021-10-19T10:13:14.051683Z",
     "iopub.status.busy": "2021-10-19T10:13:14.050420Z",
     "iopub.status.idle": "2021-10-19T10:13:14.052244Z",
     "shell.execute_reply": "2021-10-19T10:13:14.052653Z"
    }
   },
   "outputs": [],
   "source": [
    "# data['current']"
   ]
  },
  {
   "cell_type": "code",
   "execution_count": 7,
   "metadata": {
    "execution": {
     "iopub.execute_input": "2021-10-19T10:13:14.075268Z",
     "iopub.status.busy": "2021-10-19T10:13:14.074668Z",
     "iopub.status.idle": "2021-10-19T10:13:14.488644Z",
     "shell.execute_reply": "2021-10-19T10:13:14.489461Z"
    }
   },
   "outputs": [
    {
     "data": {
      "image/png": "[encoded data removed]",
      "text/plain": [
       "<Figure size 216x216 with 1 Axes>"
      ]
     },
     "metadata": {
      "needs_background": "light"
     },
     "output_type": "display_data"
    },
    {
     "name": "stdout",
     "output_type": "stream",
     "text": [
      "Today, sun rises at 06:20 and sets at 17:54.\n",
      "Currently, the weather is Clouds (overcast clouds).\n",
      "The temperature is 26.54°C and it feels like 26.54°C.\n",
      "The UV index is 0, humidity is 75%.\n",
      "The pressure is 1015 hPa, percentage of cloud cover is 89%\n",
      "The wind comes from WSW direction with a speed 1.34 m/s.\n"
     ]
    }
   ],
   "source": [
    "current = data['current']\r\n",
    "\r\n",
    "fig, ax = plt.subplots(figsize=(3, 3))\r\n",
    "icon = requests.get(f\"http://openweathermap.org/img/wn/{current['weather'][0]['icon']}@2x.png\")\r\n",
    "im = Image.open(BytesIO(icon.content))\r\n",
    "plt.imshow(im)\r\n",
    "ax.set_axis_off()\r\n",
    "plt.show()\r\n",
    "\r\n",
    "print(f\"Today, sun rises at {ts2dt(current['sunrise'], '%H:%M')[0]} \\\r\n",
    "and sets at {ts2dt(current['sunset'], '%H:%M')[0]}.\\n\\\r\n",
    "Currently, the weather is {current['weather'][0]['main']} ({current['weather'][0]['description']}).\\n\\\r\n",
    "The temperature is {current['temp']}°C and it feels like {current['feels_like']}°C.\\n\\\r\n",
    "The UV index is {current['uvi']}, humidity is {current['humidity']}%.\\n\\\r\n",
    "The pressure is {current['pressure']} hPa, percentage of cloud cover is {current['clouds']}%\\n\\\r\n",
    "The wind comes from {degrees_to_cardinal(current['wind_deg'])} direction with a speed {current['wind_speed']} m/s.\")"
   ]
  },
  {
   "cell_type": "code",
   "execution_count": 8,
   "metadata": {
    "execution": {
     "iopub.execute_input": "2021-10-19T10:13:14.497587Z",
     "iopub.status.busy": "2021-10-19T10:13:14.496267Z",
     "iopub.status.idle": "2021-10-19T10:13:14.501129Z",
     "shell.execute_reply": "2021-10-19T10:13:14.501850Z"
    }
   },
   "outputs": [],
   "source": [
    "df_hourly = pd.DataFrame(data['hourly'])\r\n",
    "df_daily = pd.DataFrame(data['daily'])"
   ]
  },
  {
   "cell_type": "code",
   "execution_count": 9,
   "metadata": {
    "execution": {
     "iopub.execute_input": "2021-10-19T10:13:14.521846Z",
     "iopub.status.busy": "2021-10-19T10:13:14.514548Z",
     "iopub.status.idle": "2021-10-19T10:13:14.865912Z",
     "shell.execute_reply": "2021-10-19T10:13:14.865428Z"
    }
   },
   "outputs": [
    {
     "data": {
      "image/png": "[encoded data removed]",
      "text/plain": [
       "<Figure size 864x432 with 1 Axes>"
      ]
     },
     "metadata": {
      "needs_background": "light"
     },
     "output_type": "display_data"
    }
   ],
   "source": [
    "fig, ax = plt.subplots(figsize=(12, 6))\r\n",
    "plt.plot(df_hourly.temp, '.-', label='Temperature')\r\n",
    "plt.plot(df_hourly.feels_like, '.-', label='Feels Like')\r\n",
    "ax.set(title='Temperature in future 48 hours', xlabel='Time', ylabel='Temperature')\r\n",
    "ax.set_xticks(list(range(0, len(df_hourly), 2)))\r\n",
    "ax.set_xticklabels([ts2dt(ts, '%m-%d %H:%M')[0] for i, ts in enumerate(df_hourly.dt) if i%2==0], \r\n",
    "                   rotation=45, ha=\"right\")\r\n",
    "ax.locator_params(nbins=15, axis='y')\r\n",
    "plt.legend()\r\n",
    "plt.show()"
   ]
  },
  {
   "cell_type": "code",
   "execution_count": 10,
   "metadata": {
    "execution": {
     "iopub.execute_input": "2021-10-19T10:13:14.871042Z",
     "iopub.status.busy": "2021-10-19T10:13:14.870286Z",
     "iopub.status.idle": "2021-10-19T10:13:14.896353Z",
     "shell.execute_reply": "2021-10-19T10:13:14.895711Z"
    }
   },
   "outputs": [
    {
     "data": {
      "text/html": [
       "<div>\n",
       "<style scoped>\n",
       "    .dataframe tbody tr th:only-of-type {\n",
       "        vertical-align: middle;\n",
       "    }\n",
       "\n",
       "    .dataframe tbody tr th {\n",
       "        vertical-align: top;\n",
       "    }\n",
       "\n",
       "    .dataframe thead th {\n",
       "        text-align: right;\n",
       "    }\n",
       "</style>\n",
       "<table border=\"1\" class=\"dataframe\">\n",
       "  <thead>\n",
       "    <tr style=\"text-align: right;\">\n",
       "      <th></th>\n",
       "      <th>dt</th>\n",
       "      <th>temp</th>\n",
       "      <th>feels_like</th>\n",
       "      <th>pressure</th>\n",
       "      <th>humidity</th>\n",
       "      <th>dew_point</th>\n",
       "      <th>uvi</th>\n",
       "      <th>clouds</th>\n",
       "      <th>visibility</th>\n",
       "      <th>wind_speed</th>\n",
       "      <th>wind_deg</th>\n",
       "      <th>wind_gust</th>\n",
       "      <th>weather</th>\n",
       "      <th>pop</th>\n",
       "      <th>rain</th>\n",
       "    </tr>\n",
       "  </thead>\n",
       "  <tbody>\n",
       "    <tr>\n",
       "      <th>0</th>\n",
       "      <td>1634637600</td>\n",
       "      <td>26.54</td>\n",
       "      <td>26.54</td>\n",
       "      <td>1015</td>\n",
       "      <td>75</td>\n",
       "      <td>21.75</td>\n",
       "      <td>0.0</td>\n",
       "      <td>89</td>\n",
       "      <td>10000</td>\n",
       "      <td>3.76</td>\n",
       "      <td>85</td>\n",
       "      <td>4.13</td>\n",
       "      <td>[{'id': 804, 'main': 'Clouds', 'description': ...</td>\n",
       "      <td>0.0</td>\n",
       "      <td>NaN</td>\n",
       "    </tr>\n",
       "    <tr>\n",
       "      <th>1</th>\n",
       "      <td>1634641200</td>\n",
       "      <td>26.16</td>\n",
       "      <td>26.16</td>\n",
       "      <td>1015</td>\n",
       "      <td>74</td>\n",
       "      <td>21.16</td>\n",
       "      <td>0.0</td>\n",
       "      <td>88</td>\n",
       "      <td>10000</td>\n",
       "      <td>3.65</td>\n",
       "      <td>87</td>\n",
       "      <td>4.23</td>\n",
       "      <td>[{'id': 804, 'main': 'Clouds', 'description': ...</td>\n",
       "      <td>0.0</td>\n",
       "      <td>NaN</td>\n",
       "    </tr>\n",
       "    <tr>\n",
       "      <th>2</th>\n",
       "      <td>1634644800</td>\n",
       "      <td>25.76</td>\n",
       "      <td>26.32</td>\n",
       "      <td>1016</td>\n",
       "      <td>74</td>\n",
       "      <td>20.78</td>\n",
       "      <td>0.0</td>\n",
       "      <td>89</td>\n",
       "      <td>10000</td>\n",
       "      <td>3.92</td>\n",
       "      <td>88</td>\n",
       "      <td>4.71</td>\n",
       "      <td>[{'id': 804, 'main': 'Clouds', 'description': ...</td>\n",
       "      <td>0.0</td>\n",
       "      <td>NaN</td>\n",
       "    </tr>\n",
       "    <tr>\n",
       "      <th>3</th>\n",
       "      <td>1634648400</td>\n",
       "      <td>25.41</td>\n",
       "      <td>25.99</td>\n",
       "      <td>1017</td>\n",
       "      <td>76</td>\n",
       "      <td>20.87</td>\n",
       "      <td>0.0</td>\n",
       "      <td>72</td>\n",
       "      <td>10000</td>\n",
       "      <td>4.53</td>\n",
       "      <td>90</td>\n",
       "      <td>5.54</td>\n",
       "      <td>[{'id': 803, 'main': 'Clouds', 'description': ...</td>\n",
       "      <td>0.0</td>\n",
       "      <td>NaN</td>\n",
       "    </tr>\n",
       "    <tr>\n",
       "      <th>4</th>\n",
       "      <td>1634652000</td>\n",
       "      <td>24.96</td>\n",
       "      <td>25.55</td>\n",
       "      <td>1017</td>\n",
       "      <td>78</td>\n",
       "      <td>20.86</td>\n",
       "      <td>0.0</td>\n",
       "      <td>55</td>\n",
       "      <td>10000</td>\n",
       "      <td>5.05</td>\n",
       "      <td>93</td>\n",
       "      <td>6.32</td>\n",
       "      <td>[{'id': 803, 'main': 'Clouds', 'description': ...</td>\n",
       "      <td>0.0</td>\n",
       "      <td>NaN</td>\n",
       "    </tr>\n",
       "  </tbody>\n",
       "</table>\n",
       "</div>"
      ],
      "text/plain": [
       "           dt   temp  feels_like  pressure  humidity  dew_point  uvi  clouds  \\\n",
       "0  1634637600  26.54       26.54      1015        75      21.75  0.0      89   \n",
       "1  1634641200  26.16       26.16      1015        74      21.16  0.0      88   \n",
       "2  1634644800  25.76       26.32      1016        74      20.78  0.0      89   \n",
       "3  1634648400  25.41       25.99      1017        76      20.87  0.0      72   \n",
       "4  1634652000  24.96       25.55      1017        78      20.86  0.0      55   \n",
       "\n",
       "   visibility  wind_speed  wind_deg  wind_gust  \\\n",
       "0       10000        3.76        85       4.13   \n",
       "1       10000        3.65        87       4.23   \n",
       "2       10000        3.92        88       4.71   \n",
       "3       10000        4.53        90       5.54   \n",
       "4       10000        5.05        93       6.32   \n",
       "\n",
       "                                             weather  pop rain  \n",
       "0  [{'id': 804, 'main': 'Clouds', 'description': ...  0.0  NaN  \n",
       "1  [{'id': 804, 'main': 'Clouds', 'description': ...  0.0  NaN  \n",
       "2  [{'id': 804, 'main': 'Clouds', 'description': ...  0.0  NaN  \n",
       "3  [{'id': 803, 'main': 'Clouds', 'description': ...  0.0  NaN  \n",
       "4  [{'id': 803, 'main': 'Clouds', 'description': ...  0.0  NaN  "
      ]
     },
     "execution_count": 10,
     "metadata": {},
     "output_type": "execute_result"
    }
   ],
   "source": [
    "df_hourly.head()"
   ]
  },
  {
   "cell_type": "code",
   "execution_count": null,
   "metadata": {},
   "outputs": [],
   "source": []
  }
 ],
 "metadata": {
  "interpreter": {
   "hash": "c1b4cfe941b6d2466ad1fb5979e97da9cda8801728c8091b097ab734208fc00c"
  },
  "kernelspec": {
   "display_name": "Python 3.8.3 64-bit ('base': conda)",
   "name": "python3"
  },
  "language_info": {
   "codemirror_mode": {
    "name": "ipython",
    "version": 3
   },
   "file_extension": ".py",
   "mimetype": "text/x-python",
   "name": "python",
   "nbconvert_exporter": "python",
   "pygments_lexer": "ipython3",
   "version": "3.8.12"
  }
 },
 "nbformat": 4,
 "nbformat_minor": 2
}
