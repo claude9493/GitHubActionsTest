{
 "cells": [
  {
   "cell_type": "code",
   "execution_count": 1,
   "metadata": {
    "execution": {
     "iopub.execute_input": "2021-10-23T08:13:33.681529Z",
     "iopub.status.busy": "2021-10-23T08:13:33.680794Z",
     "iopub.status.idle": "2021-10-23T08:13:36.287329Z",
     "shell.execute_reply": "2021-10-23T08:13:36.287813Z"
    }
   },
   "outputs": [],
   "source": [
    "import json, yaml, requests\r\n",
    "from datetime import datetime\r\n",
    "from dateutil import tz\r\n",
    "import pandas as pd\r\n",
    "from PIL import Image\r\n",
    "from io import BytesIO\r\n",
    "import matplotlib.pyplot as plt\r\n",
    "import seaborn\r\n",
    "\r\n",
    "CONFIG_PATH = \"../config/config.yaml\""
   ]
  },
  {
   "cell_type": "code",
   "execution_count": 2,
   "metadata": {
    "execution": {
     "iopub.execute_input": "2021-10-23T08:13:36.293209Z",
     "iopub.status.busy": "2021-10-23T08:13:36.290446Z",
     "iopub.status.idle": "2021-10-23T08:13:36.299053Z",
     "shell.execute_reply": "2021-10-23T08:13:36.298540Z"
    }
   },
   "outputs": [],
   "source": [
    "with open('../newest_ts', 'r') as f:\r\n",
    "    newest_ts = f.read()\r\n",
    "\r\n",
    "data_path = f\"../data/data_{newest_ts}.json\"\r\n",
    "with open(data_path, 'r') as f:\r\n",
    "    data = json.load(f)\r\n",
    "\r\n",
    "with open(CONFIG_PATH, \"r\") as stream:\r\n",
    "    config = yaml.safe_load(stream)\r\n",
    "\r\n",
    "TIME_ZONE = config['time_zone']\r\n",
    "DATETIME_FORMAT = config['dt_format']"
   ]
  },
  {
   "cell_type": "code",
   "execution_count": 3,
   "metadata": {
    "execution": {
     "iopub.execute_input": "2021-10-23T08:13:36.303997Z",
     "iopub.status.busy": "2021-10-23T08:13:36.303401Z",
     "iopub.status.idle": "2021-10-23T08:13:36.307890Z",
     "shell.execute_reply": "2021-10-23T08:13:36.308370Z"
    }
   },
   "outputs": [
    {
     "name": "stdout",
     "output_type": "stream",
     "text": [
      "Recent query happens at 2021-10-23 16:13:30 (CST).\n"
     ]
    }
   ],
   "source": [
    "def ts2dt(ts, format=DATETIME_FORMAT):\r\n",
    "    dt = (datetime.utcfromtimestamp(int(ts))\r\n",
    "                    .replace(tzinfo=tz.tzutc())\r\n",
    "                    # .astimezone(tz.tzlocal())\r\n",
    "                    .astimezone(tz.gettz(TIME_ZONE)))\r\n",
    "    return dt.strftime(format), dt\r\n",
    "\r\n",
    "_, newest_dt = ts2dt(newest_ts)\r\n",
    "print(f\"Recent query happens at {newest_dt.strftime(DATETIME_FORMAT)} ({newest_dt.tzname()}).\")"
   ]
  },
  {
   "cell_type": "code",
   "execution_count": 4,
   "metadata": {
    "execution": {
     "iopub.execute_input": "2021-10-23T08:13:36.314102Z",
     "iopub.status.busy": "2021-10-23T08:13:36.312677Z",
     "iopub.status.idle": "2021-10-23T08:13:36.314681Z",
     "shell.execute_reply": "2021-10-23T08:13:36.315116Z"
    }
   },
   "outputs": [],
   "source": [
    "def degrees_to_cardinal(d):\r\n",
    "  dirs = ['N', 'NNE', 'NE', 'ENE', 'E', 'ESE', 'SE', 'SSE', 'S', 'SSW', 'SW', 'WSW', 'W', 'WNW', 'NW', 'NNW']\r\n",
    "  ix = int(round(d / (360. / len(dirs))))\r\n",
    "  return dirs[ix % len(dirs)]"
   ]
  },
  {
   "cell_type": "code",
   "execution_count": 5,
   "metadata": {
    "execution": {
     "iopub.execute_input": "2021-10-23T08:13:36.319467Z",
     "iopub.status.busy": "2021-10-23T08:13:36.318190Z",
     "iopub.status.idle": "2021-10-23T08:13:36.320045Z",
     "shell.execute_reply": "2021-10-23T08:13:36.320509Z"
    }
   },
   "outputs": [],
   "source": [
    "# data.keys()"
   ]
  },
  {
   "cell_type": "code",
   "execution_count": 6,
   "metadata": {
    "execution": {
     "iopub.execute_input": "2021-10-23T08:13:36.325010Z",
     "iopub.status.busy": "2021-10-23T08:13:36.323601Z",
     "iopub.status.idle": "2021-10-23T08:13:36.325603Z",
     "shell.execute_reply": "2021-10-23T08:13:36.326065Z"
    }
   },
   "outputs": [],
   "source": [
    "# data['current']"
   ]
  },
  {
   "cell_type": "code",
   "execution_count": 7,
   "metadata": {
    "execution": {
     "iopub.execute_input": "2021-10-23T08:13:36.344762Z",
     "iopub.status.busy": "2021-10-23T08:13:36.331784Z",
     "iopub.status.idle": "2021-10-23T08:13:36.632369Z",
     "shell.execute_reply": "2021-10-23T08:13:36.633118Z"
    }
   },
   "outputs": [
    {
     "data": {
      "image/png": "[encoded data removed]",
      "text/plain": [
       "<Figure size 216x216 with 1 Axes>"
      ]
     },
     "metadata": {
      "needs_background": "light"
     },
     "output_type": "display_data"
    },
    {
     "name": "stdout",
     "output_type": "stream",
     "text": [
      "Today, sun rises at 06:22 and sets at 17:51.\n",
      "Currently, the weather is Clouds (scattered clouds).\n",
      "The temperature is 22.23°C and it feels like 22.49°C.\n",
      "The UV index is 1.78, humidity is 76%.\n",
      "The pressure is 1018 hPa, percentage of cloud cover is 45%\n",
      "The wind comes from ENE direction with a speed 0.89 m/s.\n"
     ]
    }
   ],
   "source": [
    "current = data['current']\r\n",
    "\r\n",
    "fig, ax = plt.subplots(figsize=(3, 3))\r\n",
    "icon = requests.get(f\"http://openweathermap.org/img/wn/{current['weather'][0]['icon']}@2x.png\")\r\n",
    "im = Image.open(BytesIO(icon.content))\r\n",
    "plt.imshow(im)\r\n",
    "ax.set_axis_off()\r\n",
    "plt.show()\r\n",
    "\r\n",
    "print(f\"Today, sun rises at {ts2dt(current['sunrise'], '%H:%M')[0]} \\\r\n",
    "and sets at {ts2dt(current['sunset'], '%H:%M')[0]}.\\n\\\r\n",
    "Currently, the weather is {current['weather'][0]['main']} ({current['weather'][0]['description']}).\\n\\\r\n",
    "The temperature is {current['temp']}°C and it feels like {current['feels_like']}°C.\\n\\\r\n",
    "The UV index is {current['uvi']}, humidity is {current['humidity']}%.\\n\\\r\n",
    "The pressure is {current['pressure']} hPa, percentage of cloud cover is {current['clouds']}%\\n\\\r\n",
    "The wind comes from {degrees_to_cardinal(current['wind_deg'])} direction with a speed {current['wind_speed']} m/s.\")"
   ]
  },
  {
   "cell_type": "code",
   "execution_count": 8,
   "metadata": {
    "execution": {
     "iopub.execute_input": "2021-10-23T08:13:36.636834Z",
     "iopub.status.busy": "2021-10-23T08:13:36.635791Z",
     "iopub.status.idle": "2021-10-23T08:13:36.656448Z",
     "shell.execute_reply": "2021-10-23T08:13:36.657203Z"
    }
   },
   "outputs": [],
   "source": [
    "df_hourly = pd.DataFrame(data['hourly'])\r\n",
    "df_daily = pd.DataFrame(data['daily'])"
   ]
  },
  {
   "cell_type": "code",
   "execution_count": 9,
   "metadata": {
    "execution": {
     "iopub.execute_input": "2021-10-23T08:13:36.660601Z",
     "iopub.status.busy": "2021-10-23T08:13:36.659551Z",
     "iopub.status.idle": "2021-10-23T08:13:36.970220Z",
     "shell.execute_reply": "2021-10-23T08:13:36.970672Z"
    }
   },
   "outputs": [
    {
     "data": {
      "image/png": "[encoded data removed]",
      "text/plain": [
       "<Figure size 864x432 with 1 Axes>"
      ]
     },
     "metadata": {
      "needs_background": "light"
     },
     "output_type": "display_data"
    }
   ],
   "source": [
    "fig, ax = plt.subplots(figsize=(12, 6))\r\n",
    "plt.plot(df_hourly.temp, '.-', label='Temperature')\r\n",
    "plt.plot(df_hourly.feels_like, '.-', label='Feels Like')\r\n",
    "ax.set(title='Temperature in future 48 hours', xlabel='Time', ylabel='Temperature')\r\n",
    "ax.set_xticks(list(range(0, len(df_hourly), 2)))\r\n",
    "ax.set_xticklabels([ts2dt(ts, '%m-%d %H:%M')[0] for i, ts in enumerate(df_hourly.dt) if i%2==0], \r\n",
    "                   rotation=45, ha=\"right\")\r\n",
    "ax.locator_params(nbins=15, axis='y')\r\n",
    "plt.legend()\r\n",
    "plt.show()"
   ]
  },
  {
   "cell_type": "code",
   "execution_count": 10,
   "metadata": {
    "execution": {
     "iopub.execute_input": "2021-10-23T08:13:36.977679Z",
     "iopub.status.busy": "2021-10-23T08:13:36.976602Z",
     "iopub.status.idle": "2021-10-23T08:13:36.998925Z",
     "shell.execute_reply": "2021-10-23T08:13:36.998377Z"
    }
   },
   "outputs": [
    {
     "data": {
      "text/html": [
       "<div>\n",
       "<style scoped>\n",
       "    .dataframe tbody tr th:only-of-type {\n",
       "        vertical-align: middle;\n",
       "    }\n",
       "\n",
       "    .dataframe tbody tr th {\n",
       "        vertical-align: top;\n",
       "    }\n",
       "\n",
       "    .dataframe thead th {\n",
       "        text-align: right;\n",
       "    }\n",
       "</style>\n",
       "<table border=\"1\" class=\"dataframe\">\n",
       "  <thead>\n",
       "    <tr style=\"text-align: right;\">\n",
       "      <th></th>\n",
       "      <th>dt</th>\n",
       "      <th>temp</th>\n",
       "      <th>feels_like</th>\n",
       "      <th>pressure</th>\n",
       "      <th>humidity</th>\n",
       "      <th>dew_point</th>\n",
       "      <th>uvi</th>\n",
       "      <th>clouds</th>\n",
       "      <th>visibility</th>\n",
       "      <th>wind_speed</th>\n",
       "      <th>wind_deg</th>\n",
       "      <th>wind_gust</th>\n",
       "      <th>weather</th>\n",
       "      <th>pop</th>\n",
       "    </tr>\n",
       "  </thead>\n",
       "  <tbody>\n",
       "    <tr>\n",
       "      <th>0</th>\n",
       "      <td>1634976000</td>\n",
       "      <td>22.23</td>\n",
       "      <td>22.49</td>\n",
       "      <td>1018</td>\n",
       "      <td>76</td>\n",
       "      <td>17.80</td>\n",
       "      <td>1.78</td>\n",
       "      <td>45</td>\n",
       "      <td>10000</td>\n",
       "      <td>2.98</td>\n",
       "      <td>56</td>\n",
       "      <td>3.06</td>\n",
       "      <td>[{'id': 802, 'main': 'Clouds', 'description': ...</td>\n",
       "      <td>0.0</td>\n",
       "    </tr>\n",
       "    <tr>\n",
       "      <th>1</th>\n",
       "      <td>1634979600</td>\n",
       "      <td>22.28</td>\n",
       "      <td>22.50</td>\n",
       "      <td>1018</td>\n",
       "      <td>74</td>\n",
       "      <td>17.43</td>\n",
       "      <td>0.48</td>\n",
       "      <td>45</td>\n",
       "      <td>10000</td>\n",
       "      <td>3.20</td>\n",
       "      <td>59</td>\n",
       "      <td>3.33</td>\n",
       "      <td>[{'id': 802, 'main': 'Clouds', 'description': ...</td>\n",
       "      <td>0.0</td>\n",
       "    </tr>\n",
       "    <tr>\n",
       "      <th>2</th>\n",
       "      <td>1634983200</td>\n",
       "      <td>21.99</td>\n",
       "      <td>22.15</td>\n",
       "      <td>1018</td>\n",
       "      <td>73</td>\n",
       "      <td>16.93</td>\n",
       "      <td>0.00</td>\n",
       "      <td>43</td>\n",
       "      <td>10000</td>\n",
       "      <td>3.24</td>\n",
       "      <td>53</td>\n",
       "      <td>3.46</td>\n",
       "      <td>[{'id': 802, 'main': 'Clouds', 'description': ...</td>\n",
       "      <td>0.0</td>\n",
       "    </tr>\n",
       "    <tr>\n",
       "      <th>3</th>\n",
       "      <td>1634986800</td>\n",
       "      <td>21.58</td>\n",
       "      <td>21.70</td>\n",
       "      <td>1019</td>\n",
       "      <td>73</td>\n",
       "      <td>16.54</td>\n",
       "      <td>0.00</td>\n",
       "      <td>40</td>\n",
       "      <td>10000</td>\n",
       "      <td>3.39</td>\n",
       "      <td>37</td>\n",
       "      <td>3.58</td>\n",
       "      <td>[{'id': 802, 'main': 'Clouds', 'description': ...</td>\n",
       "      <td>0.0</td>\n",
       "    </tr>\n",
       "    <tr>\n",
       "      <th>4</th>\n",
       "      <td>1634990400</td>\n",
       "      <td>20.95</td>\n",
       "      <td>21.01</td>\n",
       "      <td>1020</td>\n",
       "      <td>73</td>\n",
       "      <td>15.93</td>\n",
       "      <td>0.00</td>\n",
       "      <td>36</td>\n",
       "      <td>10000</td>\n",
       "      <td>3.44</td>\n",
       "      <td>29</td>\n",
       "      <td>3.53</td>\n",
       "      <td>[{'id': 802, 'main': 'Clouds', 'description': ...</td>\n",
       "      <td>0.0</td>\n",
       "    </tr>\n",
       "  </tbody>\n",
       "</table>\n",
       "</div>"
      ],
      "text/plain": [
       "           dt   temp  feels_like  pressure  humidity  dew_point   uvi  clouds  \\\n",
       "0  1634976000  22.23       22.49      1018        76      17.80  1.78      45   \n",
       "1  1634979600  22.28       22.50      1018        74      17.43  0.48      45   \n",
       "2  1634983200  21.99       22.15      1018        73      16.93  0.00      43   \n",
       "3  1634986800  21.58       21.70      1019        73      16.54  0.00      40   \n",
       "4  1634990400  20.95       21.01      1020        73      15.93  0.00      36   \n",
       "\n",
       "   visibility  wind_speed  wind_deg  wind_gust  \\\n",
       "0       10000        2.98        56       3.06   \n",
       "1       10000        3.20        59       3.33   \n",
       "2       10000        3.24        53       3.46   \n",
       "3       10000        3.39        37       3.58   \n",
       "4       10000        3.44        29       3.53   \n",
       "\n",
       "                                             weather  pop  \n",
       "0  [{'id': 802, 'main': 'Clouds', 'description': ...  0.0  \n",
       "1  [{'id': 802, 'main': 'Clouds', 'description': ...  0.0  \n",
       "2  [{'id': 802, 'main': 'Clouds', 'description': ...  0.0  \n",
       "3  [{'id': 802, 'main': 'Clouds', 'description': ...  0.0  \n",
       "4  [{'id': 802, 'main': 'Clouds', 'description': ...  0.0  "
      ]
     },
     "execution_count": 10,
     "metadata": {},
     "output_type": "execute_result"
    }
   ],
   "source": [
    "df_hourly.head()"
   ]
  },
  {
   "cell_type": "code",
   "execution_count": null,
   "metadata": {},
   "outputs": [],
   "source": []
  }
 ],
 "metadata": {
  "interpreter": {
   "hash": "c1b4cfe941b6d2466ad1fb5979e97da9cda8801728c8091b097ab734208fc00c"
  },
  "kernelspec": {
   "display_name": "Python 3.8.3 64-bit ('base': conda)",
   "name": "python3"
  },
  "language_info": {
   "codemirror_mode": {
    "name": "ipython",
    "version": 3
   },
   "file_extension": ".py",
   "mimetype": "text/x-python",
   "name": "python",
   "nbconvert_exporter": "python",
   "pygments_lexer": "ipython3",
   "version": "3.8.12"
  }
 },
 "nbformat": 4,
 "nbformat_minor": 2
}
