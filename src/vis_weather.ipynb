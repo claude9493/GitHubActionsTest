{
 "cells": [
  {
   "cell_type": "code",
   "execution_count": 1,
   "metadata": {
    "execution": {
     "iopub.execute_input": "2021-10-21T06:14:14.493095Z",
     "iopub.status.busy": "2021-10-21T06:14:14.492378Z",
     "iopub.status.idle": "2021-10-21T06:14:16.735895Z",
     "shell.execute_reply": "2021-10-21T06:14:16.736339Z"
    }
   },
   "outputs": [],
   "source": [
    "import json, yaml, requests\r\n",
    "from datetime import datetime\r\n",
    "from dateutil import tz\r\n",
    "import pandas as pd\r\n",
    "from PIL import Image\r\n",
    "from io import BytesIO\r\n",
    "import matplotlib.pyplot as plt\r\n",
    "import seaborn\r\n",
    "\r\n",
    "CONFIG_PATH = \"../config/config.yaml\""
   ]
  },
  {
   "cell_type": "code",
   "execution_count": 2,
   "metadata": {
    "execution": {
     "iopub.execute_input": "2021-10-21T06:14:16.742576Z",
     "iopub.status.busy": "2021-10-21T06:14:16.741383Z",
     "iopub.status.idle": "2021-10-21T06:14:16.748358Z",
     "shell.execute_reply": "2021-10-21T06:14:16.747591Z"
    }
   },
   "outputs": [],
   "source": [
    "with open('../newest_ts', 'r') as f:\r\n",
    "    newest_ts = f.read()\r\n",
    "\r\n",
    "data_path = f\"../data/data_{newest_ts}.json\"\r\n",
    "with open(data_path, 'r') as f:\r\n",
    "    data = json.load(f)\r\n",
    "\r\n",
    "with open(CONFIG_PATH, \"r\") as stream:\r\n",
    "    config = yaml.safe_load(stream)\r\n",
    "\r\n",
    "TIME_ZONE = config['time_zone']\r\n",
    "DATETIME_FORMAT = config['dt_format']"
   ]
  },
  {
   "cell_type": "code",
   "execution_count": 3,
   "metadata": {
    "execution": {
     "iopub.execute_input": "2021-10-21T06:14:16.754869Z",
     "iopub.status.busy": "2021-10-21T06:14:16.753046Z",
     "iopub.status.idle": "2021-10-21T06:14:16.759129Z",
     "shell.execute_reply": "2021-10-21T06:14:16.759618Z"
    }
   },
   "outputs": [
    {
     "name": "stdout",
     "output_type": "stream",
     "text": [
      "Recent query happens at 2021-10-21 14:14:11 (CST).\n"
     ]
    }
   ],
   "source": [
    "def ts2dt(ts, format=DATETIME_FORMAT):\r\n",
    "    dt = (datetime.utcfromtimestamp(int(ts))\r\n",
    "                    .replace(tzinfo=tz.tzutc())\r\n",
    "                    # .astimezone(tz.tzlocal())\r\n",
    "                    .astimezone(tz.gettz(TIME_ZONE)))\r\n",
    "    return dt.strftime(format), dt\r\n",
    "\r\n",
    "_, newest_dt = ts2dt(newest_ts)\r\n",
    "print(f\"Recent query happens at {newest_dt.strftime(DATETIME_FORMAT)} ({newest_dt.tzname()}).\")"
   ]
  },
  {
   "cell_type": "code",
   "execution_count": 4,
   "metadata": {
    "execution": {
     "iopub.execute_input": "2021-10-21T06:14:16.765640Z",
     "iopub.status.busy": "2021-10-21T06:14:16.764326Z",
     "iopub.status.idle": "2021-10-21T06:14:16.766212Z",
     "shell.execute_reply": "2021-10-21T06:14:16.766661Z"
    }
   },
   "outputs": [],
   "source": [
    "def degrees_to_cardinal(d):\r\n",
    "  dirs = ['N', 'NNE', 'NE', 'ENE', 'E', 'ESE', 'SE', 'SSE', 'S', 'SSW', 'SW', 'WSW', 'W', 'WNW', 'NW', 'NNW']\r\n",
    "  ix = int(round(d / (360. / len(dirs))))\r\n",
    "  return dirs[ix % len(dirs)]"
   ]
  },
  {
   "cell_type": "code",
   "execution_count": 5,
   "metadata": {
    "execution": {
     "iopub.execute_input": "2021-10-21T06:14:16.771702Z",
     "iopub.status.busy": "2021-10-21T06:14:16.770355Z",
     "iopub.status.idle": "2021-10-21T06:14:16.772315Z",
     "shell.execute_reply": "2021-10-21T06:14:16.772758Z"
    }
   },
   "outputs": [],
   "source": [
    "# data.keys()"
   ]
  },
  {
   "cell_type": "code",
   "execution_count": 6,
   "metadata": {
    "execution": {
     "iopub.execute_input": "2021-10-21T06:14:16.777276Z",
     "iopub.status.busy": "2021-10-21T06:14:16.776022Z",
     "iopub.status.idle": "2021-10-21T06:14:16.777913Z",
     "shell.execute_reply": "2021-10-21T06:14:16.778411Z"
    }
   },
   "outputs": [],
   "source": [
    "# data['current']"
   ]
  },
  {
   "cell_type": "code",
   "execution_count": 7,
   "metadata": {
    "execution": {
     "iopub.execute_input": "2021-10-21T06:14:16.799801Z",
     "iopub.status.busy": "2021-10-21T06:14:16.788874Z",
     "iopub.status.idle": "2021-10-21T06:14:17.116687Z",
     "shell.execute_reply": "2021-10-21T06:14:17.117721Z"
    }
   },
   "outputs": [
    {
     "data": {
      "image/png": "[encoded data removed]",
      "text/plain": [
       "<Figure size 216x216 with 1 Axes>"
      ]
     },
     "metadata": {
      "needs_background": "light"
     },
     "output_type": "display_data"
    },
    {
     "name": "stdout",
     "output_type": "stream",
     "text": [
      "Today, sun rises at 06:21 and sets at 17:53.\n",
      "Currently, the weather is Clouds (overcast clouds).\n",
      "The temperature is 24.23°C and it feels like 24.88°C.\n",
      "The UV index is 4.06, humidity is 83%.\n",
      "The pressure is 1013 hPa, percentage of cloud cover is 98%\n",
      "The wind comes from NNE direction with a speed 0.89 m/s.\n"
     ]
    }
   ],
   "source": [
    "current = data['current']\r\n",
    "\r\n",
    "fig, ax = plt.subplots(figsize=(3, 3))\r\n",
    "icon = requests.get(f\"http://openweathermap.org/img/wn/{current['weather'][0]['icon']}@2x.png\")\r\n",
    "im = Image.open(BytesIO(icon.content))\r\n",
    "plt.imshow(im)\r\n",
    "ax.set_axis_off()\r\n",
    "plt.show()\r\n",
    "\r\n",
    "print(f\"Today, sun rises at {ts2dt(current['sunrise'], '%H:%M')[0]} \\\r\n",
    "and sets at {ts2dt(current['sunset'], '%H:%M')[0]}.\\n\\\r\n",
    "Currently, the weather is {current['weather'][0]['main']} ({current['weather'][0]['description']}).\\n\\\r\n",
    "The temperature is {current['temp']}°C and it feels like {current['feels_like']}°C.\\n\\\r\n",
    "The UV index is {current['uvi']}, humidity is {current['humidity']}%.\\n\\\r\n",
    "The pressure is {current['pressure']} hPa, percentage of cloud cover is {current['clouds']}%\\n\\\r\n",
    "The wind comes from {degrees_to_cardinal(current['wind_deg'])} direction with a speed {current['wind_speed']} m/s.\")"
   ]
  },
  {
   "cell_type": "code",
   "execution_count": 8,
   "metadata": {
    "execution": {
     "iopub.execute_input": "2021-10-21T06:14:17.126036Z",
     "iopub.status.busy": "2021-10-21T06:14:17.120172Z",
     "iopub.status.idle": "2021-10-21T06:14:17.137879Z",
     "shell.execute_reply": "2021-10-21T06:14:17.138679Z"
    }
   },
   "outputs": [],
   "source": [
    "df_hourly = pd.DataFrame(data['hourly'])\r\n",
    "df_daily = pd.DataFrame(data['daily'])"
   ]
  },
  {
   "cell_type": "code",
   "execution_count": 9,
   "metadata": {
    "execution": {
     "iopub.execute_input": "2021-10-21T06:14:17.153216Z",
     "iopub.status.busy": "2021-10-21T06:14:17.141328Z",
     "iopub.status.idle": "2021-10-21T06:14:17.470202Z",
     "shell.execute_reply": "2021-10-21T06:14:17.470683Z"
    }
   },
   "outputs": [
    {
     "data": {
      "image/png": "[encoded data removed]",
      "text/plain": [
       "<Figure size 864x432 with 1 Axes>"
      ]
     },
     "metadata": {
      "needs_background": "light"
     },
     "output_type": "display_data"
    }
   ],
   "source": [
    "fig, ax = plt.subplots(figsize=(12, 6))\r\n",
    "plt.plot(df_hourly.temp, '.-', label='Temperature')\r\n",
    "plt.plot(df_hourly.feels_like, '.-', label='Feels Like')\r\n",
    "ax.set(title='Temperature in future 48 hours', xlabel='Time', ylabel='Temperature')\r\n",
    "ax.set_xticks(list(range(0, len(df_hourly), 2)))\r\n",
    "ax.set_xticklabels([ts2dt(ts, '%m-%d %H:%M')[0] for i, ts in enumerate(df_hourly.dt) if i%2==0], \r\n",
    "                   rotation=45, ha=\"right\")\r\n",
    "ax.locator_params(nbins=15, axis='y')\r\n",
    "plt.legend()\r\n",
    "plt.show()"
   ]
  },
  {
   "cell_type": "code",
   "execution_count": 10,
   "metadata": {
    "execution": {
     "iopub.execute_input": "2021-10-21T06:14:17.476010Z",
     "iopub.status.busy": "2021-10-21T06:14:17.475402Z",
     "iopub.status.idle": "2021-10-21T06:14:17.495105Z",
     "shell.execute_reply": "2021-10-21T06:14:17.495509Z"
    }
   },
   "outputs": [
    {
     "data": {
      "text/html": [
       "<div>\n",
       "<style scoped>\n",
       "    .dataframe tbody tr th:only-of-type {\n",
       "        vertical-align: middle;\n",
       "    }\n",
       "\n",
       "    .dataframe tbody tr th {\n",
       "        vertical-align: top;\n",
       "    }\n",
       "\n",
       "    .dataframe thead th {\n",
       "        text-align: right;\n",
       "    }\n",
       "</style>\n",
       "<table border=\"1\" class=\"dataframe\">\n",
       "  <thead>\n",
       "    <tr style=\"text-align: right;\">\n",
       "      <th></th>\n",
       "      <th>dt</th>\n",
       "      <th>temp</th>\n",
       "      <th>feels_like</th>\n",
       "      <th>pressure</th>\n",
       "      <th>humidity</th>\n",
       "      <th>dew_point</th>\n",
       "      <th>uvi</th>\n",
       "      <th>clouds</th>\n",
       "      <th>visibility</th>\n",
       "      <th>wind_speed</th>\n",
       "      <th>wind_deg</th>\n",
       "      <th>wind_gust</th>\n",
       "      <th>weather</th>\n",
       "      <th>pop</th>\n",
       "      <th>rain</th>\n",
       "    </tr>\n",
       "  </thead>\n",
       "  <tbody>\n",
       "    <tr>\n",
       "      <th>0</th>\n",
       "      <td>1634796000</td>\n",
       "      <td>24.23</td>\n",
       "      <td>24.88</td>\n",
       "      <td>1013</td>\n",
       "      <td>83</td>\n",
       "      <td>21.16</td>\n",
       "      <td>4.06</td>\n",
       "      <td>98</td>\n",
       "      <td>10000</td>\n",
       "      <td>2.43</td>\n",
       "      <td>19</td>\n",
       "      <td>2.55</td>\n",
       "      <td>[{'id': 500, 'main': 'Rain', 'description': 'l...</td>\n",
       "      <td>0.75</td>\n",
       "      <td>{'1h': 0.18}</td>\n",
       "    </tr>\n",
       "    <tr>\n",
       "      <th>1</th>\n",
       "      <td>1634799600</td>\n",
       "      <td>24.20</td>\n",
       "      <td>24.79</td>\n",
       "      <td>1013</td>\n",
       "      <td>81</td>\n",
       "      <td>20.73</td>\n",
       "      <td>1.68</td>\n",
       "      <td>95</td>\n",
       "      <td>10000</td>\n",
       "      <td>3.49</td>\n",
       "      <td>10</td>\n",
       "      <td>3.61</td>\n",
       "      <td>[{'id': 804, 'main': 'Clouds', 'description': ...</td>\n",
       "      <td>0.16</td>\n",
       "      <td>NaN</td>\n",
       "    </tr>\n",
       "    <tr>\n",
       "      <th>2</th>\n",
       "      <td>1634803200</td>\n",
       "      <td>23.97</td>\n",
       "      <td>24.49</td>\n",
       "      <td>1013</td>\n",
       "      <td>79</td>\n",
       "      <td>20.10</td>\n",
       "      <td>0.78</td>\n",
       "      <td>94</td>\n",
       "      <td>10000</td>\n",
       "      <td>4.15</td>\n",
       "      <td>10</td>\n",
       "      <td>4.57</td>\n",
       "      <td>[{'id': 804, 'main': 'Clouds', 'description': ...</td>\n",
       "      <td>0.12</td>\n",
       "      <td>NaN</td>\n",
       "    </tr>\n",
       "    <tr>\n",
       "      <th>3</th>\n",
       "      <td>1634806800</td>\n",
       "      <td>23.37</td>\n",
       "      <td>23.72</td>\n",
       "      <td>1014</td>\n",
       "      <td>75</td>\n",
       "      <td>18.69</td>\n",
       "      <td>0.21</td>\n",
       "      <td>94</td>\n",
       "      <td>10000</td>\n",
       "      <td>4.63</td>\n",
       "      <td>10</td>\n",
       "      <td>5.43</td>\n",
       "      <td>[{'id': 804, 'main': 'Clouds', 'description': ...</td>\n",
       "      <td>0.12</td>\n",
       "      <td>NaN</td>\n",
       "    </tr>\n",
       "    <tr>\n",
       "      <th>4</th>\n",
       "      <td>1634810400</td>\n",
       "      <td>22.49</td>\n",
       "      <td>22.70</td>\n",
       "      <td>1015</td>\n",
       "      <td>73</td>\n",
       "      <td>17.41</td>\n",
       "      <td>0.00</td>\n",
       "      <td>94</td>\n",
       "      <td>10000</td>\n",
       "      <td>4.65</td>\n",
       "      <td>10</td>\n",
       "      <td>5.63</td>\n",
       "      <td>[{'id': 804, 'main': 'Clouds', 'description': ...</td>\n",
       "      <td>0.09</td>\n",
       "      <td>NaN</td>\n",
       "    </tr>\n",
       "  </tbody>\n",
       "</table>\n",
       "</div>"
      ],
      "text/plain": [
       "           dt   temp  feels_like  pressure  humidity  dew_point   uvi  clouds  \\\n",
       "0  1634796000  24.23       24.88      1013        83      21.16  4.06      98   \n",
       "1  1634799600  24.20       24.79      1013        81      20.73  1.68      95   \n",
       "2  1634803200  23.97       24.49      1013        79      20.10  0.78      94   \n",
       "3  1634806800  23.37       23.72      1014        75      18.69  0.21      94   \n",
       "4  1634810400  22.49       22.70      1015        73      17.41  0.00      94   \n",
       "\n",
       "   visibility  wind_speed  wind_deg  wind_gust  \\\n",
       "0       10000        2.43        19       2.55   \n",
       "1       10000        3.49        10       3.61   \n",
       "2       10000        4.15        10       4.57   \n",
       "3       10000        4.63        10       5.43   \n",
       "4       10000        4.65        10       5.63   \n",
       "\n",
       "                                             weather   pop          rain  \n",
       "0  [{'id': 500, 'main': 'Rain', 'description': 'l...  0.75  {'1h': 0.18}  \n",
       "1  [{'id': 804, 'main': 'Clouds', 'description': ...  0.16           NaN  \n",
       "2  [{'id': 804, 'main': 'Clouds', 'description': ...  0.12           NaN  \n",
       "3  [{'id': 804, 'main': 'Clouds', 'description': ...  0.12           NaN  \n",
       "4  [{'id': 804, 'main': 'Clouds', 'description': ...  0.09           NaN  "
      ]
     },
     "execution_count": 10,
     "metadata": {},
     "output_type": "execute_result"
    }
   ],
   "source": [
    "df_hourly.head()"
   ]
  },
  {
   "cell_type": "code",
   "execution_count": null,
   "metadata": {},
   "outputs": [],
   "source": []
  }
 ],
 "metadata": {
  "interpreter": {
   "hash": "c1b4cfe941b6d2466ad1fb5979e97da9cda8801728c8091b097ab734208fc00c"
  },
  "kernelspec": {
   "display_name": "Python 3.8.3 64-bit ('base': conda)",
   "name": "python3"
  },
  "language_info": {
   "codemirror_mode": {
    "name": "ipython",
    "version": 3
   },
   "file_extension": ".py",
   "mimetype": "text/x-python",
   "name": "python",
   "nbconvert_exporter": "python",
   "pygments_lexer": "ipython3",
   "version": "3.8.12"
  }
 },
 "nbformat": 4,
 "nbformat_minor": 2
}
