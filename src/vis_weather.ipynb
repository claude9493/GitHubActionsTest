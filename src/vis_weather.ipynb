{
 "cells": [
  {
   "cell_type": "code",
   "execution_count": 1,
   "metadata": {
    "execution": {
     "iopub.execute_input": "2021-09-03T06:18:46.786578Z",
     "iopub.status.busy": "2021-09-03T06:18:46.785596Z",
     "iopub.status.idle": "2021-09-03T06:18:50.804038Z",
     "shell.execute_reply": "2021-09-03T06:18:50.803098Z"
    }
   },
   "outputs": [],
   "source": [
    "import json, yaml, requests\r\n",
    "from datetime import datetime\r\n",
    "from dateutil import tz\r\n",
    "import pandas as pd\r\n",
    "from PIL import Image\r\n",
    "from io import BytesIO\r\n",
    "import matplotlib.pyplot as plt\r\n",
    "import seaborn\r\n",
    "\r\n",
    "CONFIG_PATH = \"../config/config.yaml\""
   ]
  },
  {
   "cell_type": "code",
   "execution_count": 2,
   "metadata": {
    "execution": {
     "iopub.execute_input": "2021-09-03T06:18:50.809678Z",
     "iopub.status.busy": "2021-09-03T06:18:50.806483Z",
     "iopub.status.idle": "2021-09-03T06:18:50.815494Z",
     "shell.execute_reply": "2021-09-03T06:18:50.814913Z"
    }
   },
   "outputs": [],
   "source": [
    "with open('../newest_ts', 'r') as f:\r\n",
    "    newest_ts = f.read()\r\n",
    "\r\n",
    "data_path = f\"../data/data_{newest_ts}.json\"\r\n",
    "with open(data_path, 'r') as f:\r\n",
    "    data = json.load(f)\r\n",
    "\r\n",
    "with open(CONFIG_PATH, \"r\") as stream:\r\n",
    "    config = yaml.safe_load(stream)\r\n",
    "\r\n",
    "TIME_ZONE = config['time_zone']\r\n",
    "DATETIME_FORMAT = config['dt_format']"
   ]
  },
  {
   "cell_type": "code",
   "execution_count": 3,
   "metadata": {
    "execution": {
     "iopub.execute_input": "2021-09-03T06:18:50.820598Z",
     "iopub.status.busy": "2021-09-03T06:18:50.820009Z",
     "iopub.status.idle": "2021-09-03T06:18:50.833664Z",
     "shell.execute_reply": "2021-09-03T06:18:50.834198Z"
    }
   },
   "outputs": [
    {
     "name": "stdout",
     "output_type": "stream",
     "text": [
      "Recent query happens at 2021-09-03 14:18:43 (CST).\n"
     ]
    }
   ],
   "source": [
    "def ts2dt(ts, format=DATETIME_FORMAT):\r\n",
    "    dt = (datetime.utcfromtimestamp(int(ts))\r\n",
    "                    .replace(tzinfo=tz.tzutc())\r\n",
    "                    # .astimezone(tz.tzlocal())\r\n",
    "                    .astimezone(tz.gettz(TIME_ZONE)))\r\n",
    "    return dt.strftime(format), dt\r\n",
    "\r\n",
    "_, newest_dt = ts2dt(newest_ts)\r\n",
    "print(f\"Recent query happens at {newest_dt.strftime(DATETIME_FORMAT)} ({newest_dt.tzname()}).\")"
   ]
  },
  {
   "cell_type": "code",
   "execution_count": 4,
   "metadata": {
    "execution": {
     "iopub.execute_input": "2021-09-03T06:18:50.838872Z",
     "iopub.status.busy": "2021-09-03T06:18:50.838119Z",
     "iopub.status.idle": "2021-09-03T06:18:50.842053Z",
     "shell.execute_reply": "2021-09-03T06:18:50.841575Z"
    }
   },
   "outputs": [],
   "source": [
    "def degrees_to_cardinal(d):\r\n",
    "  dirs = ['N', 'NNE', 'NE', 'ENE', 'E', 'ESE', 'SE', 'SSE', 'S', 'SSW', 'SW', 'WSW', 'W', 'WNW', 'NW', 'NNW']\r\n",
    "  ix = int(round(d / (360. / len(dirs))))\r\n",
    "  return dirs[ix % len(dirs)]"
   ]
  },
  {
   "cell_type": "code",
   "execution_count": 5,
   "metadata": {
    "execution": {
     "iopub.execute_input": "2021-09-03T06:18:50.847070Z",
     "iopub.status.busy": "2021-09-03T06:18:50.845651Z",
     "iopub.status.idle": "2021-09-03T06:18:50.847833Z",
     "shell.execute_reply": "2021-09-03T06:18:50.848608Z"
    }
   },
   "outputs": [],
   "source": [
    "# data.keys()"
   ]
  },
  {
   "cell_type": "code",
   "execution_count": 6,
   "metadata": {
    "execution": {
     "iopub.execute_input": "2021-09-03T06:18:50.853935Z",
     "iopub.status.busy": "2021-09-03T06:18:50.852591Z",
     "iopub.status.idle": "2021-09-03T06:18:50.854587Z",
     "shell.execute_reply": "2021-09-03T06:18:50.855120Z"
    }
   },
   "outputs": [],
   "source": [
    "# data['current']"
   ]
  },
  {
   "cell_type": "code",
   "execution_count": 7,
   "metadata": {
    "execution": {
     "iopub.execute_input": "2021-09-03T06:18:50.876855Z",
     "iopub.status.busy": "2021-09-03T06:18:50.876239Z",
     "iopub.status.idle": "2021-09-03T06:18:51.345996Z",
     "shell.execute_reply": "2021-09-03T06:18:51.346849Z"
    }
   },
   "outputs": [
    {
     "data": {
      "image/png": "[encoded data removed]",
      "text/plain": [
       "<Figure size 216x216 with 1 Axes>"
      ]
     },
     "metadata": {
      "needs_background": "light"
     },
     "output_type": "display_data"
    },
    {
     "name": "stdout",
     "output_type": "stream",
     "text": [
      "Today, sun rises at 06:06 and sets at 18:38.\n",
      "Currently, the weather is Clouds (broken clouds).\n",
      "The temperature is 32.17°C and it feels like 39.17°C.\n",
      "The UV index is 7.74, humidity is 71%.\n",
      "The pressure is 1007 hPa, percentage of cloud cover is 82%\n",
      "The wind comes from SE direction with a speed 2.82 m/s.\n"
     ]
    }
   ],
   "source": [
    "current = data['current']\r\n",
    "\r\n",
    "fig, ax = plt.subplots(figsize=(3, 3))\r\n",
    "icon = requests.get(f\"http://openweathermap.org/img/wn/{current['weather'][0]['icon']}@2x.png\")\r\n",
    "im = Image.open(BytesIO(icon.content))\r\n",
    "plt.imshow(im)\r\n",
    "ax.set_axis_off()\r\n",
    "plt.show()\r\n",
    "\r\n",
    "print(f\"Today, sun rises at {ts2dt(current['sunrise'], '%H:%M')[0]} \\\r\n",
    "and sets at {ts2dt(current['sunset'], '%H:%M')[0]}.\\n\\\r\n",
    "Currently, the weather is {current['weather'][0]['main']} ({current['weather'][0]['description']}).\\n\\\r\n",
    "The temperature is {current['temp']}°C and it feels like {current['feels_like']}°C.\\n\\\r\n",
    "The UV index is {current['uvi']}, humidity is {current['humidity']}%.\\n\\\r\n",
    "The pressure is {current['pressure']} hPa, percentage of cloud cover is {current['clouds']}%\\n\\\r\n",
    "The wind comes from {degrees_to_cardinal(current['wind_deg'])} direction with a speed {current['wind_speed']} m/s.\")"
   ]
  },
  {
   "cell_type": "code",
   "execution_count": 8,
   "metadata": {
    "execution": {
     "iopub.execute_input": "2021-09-03T06:18:51.350691Z",
     "iopub.status.busy": "2021-09-03T06:18:51.350100Z",
     "iopub.status.idle": "2021-09-03T06:18:51.358406Z",
     "shell.execute_reply": "2021-09-03T06:18:51.359164Z"
    }
   },
   "outputs": [],
   "source": [
    "df_hourly = pd.DataFrame(data['hourly'])\r\n",
    "df_daily = pd.DataFrame(data['daily'])"
   ]
  },
  {
   "cell_type": "code",
   "execution_count": 9,
   "metadata": {
    "execution": {
     "iopub.execute_input": "2021-09-03T06:18:51.362911Z",
     "iopub.status.busy": "2021-09-03T06:18:51.361803Z",
     "iopub.status.idle": "2021-09-03T06:18:51.682284Z",
     "shell.execute_reply": "2021-09-03T06:18:51.682763Z"
    }
   },
   "outputs": [
    {
     "data": {
      "image/png": "[encoded data removed]",
      "text/plain": [
       "<Figure size 864x432 with 1 Axes>"
      ]
     },
     "metadata": {
      "needs_background": "light"
     },
     "output_type": "display_data"
    }
   ],
   "source": [
    "fig, ax = plt.subplots(figsize=(12, 6))\r\n",
    "plt.plot(df_hourly.temp, '.-', label='Temperature')\r\n",
    "plt.plot(df_hourly.feels_like, '.-', label='Feels Like')\r\n",
    "ax.set(title='Temperature in future 48 hours', xlabel='Time', ylabel='Temperature')\r\n",
    "ax.set_xticks(list(range(0, len(df_hourly), 2)))\r\n",
    "ax.set_xticklabels([ts2dt(ts, '%m-%d %H:%M')[0] for i, ts in enumerate(df_hourly.dt) if i%2==0], \r\n",
    "                   rotation=45, ha=\"right\")\r\n",
    "ax.locator_params(nbins=15, axis='y')\r\n",
    "plt.legend()\r\n",
    "plt.show()"
   ]
  },
  {
   "cell_type": "code",
   "execution_count": 10,
   "metadata": {
    "execution": {
     "iopub.execute_input": "2021-09-03T06:18:51.695276Z",
     "iopub.status.busy": "2021-09-03T06:18:51.687301Z",
     "iopub.status.idle": "2021-09-03T06:18:51.707377Z",
     "shell.execute_reply": "2021-09-03T06:18:51.707815Z"
    }
   },
   "outputs": [
    {
     "data": {
      "text/html": [
       "<div>\n",
       "<style scoped>\n",
       "    .dataframe tbody tr th:only-of-type {\n",
       "        vertical-align: middle;\n",
       "    }\n",
       "\n",
       "    .dataframe tbody tr th {\n",
       "        vertical-align: top;\n",
       "    }\n",
       "\n",
       "    .dataframe thead th {\n",
       "        text-align: right;\n",
       "    }\n",
       "</style>\n",
       "<table border=\"1\" class=\"dataframe\">\n",
       "  <thead>\n",
       "    <tr style=\"text-align: right;\">\n",
       "      <th></th>\n",
       "      <th>dt</th>\n",
       "      <th>temp</th>\n",
       "      <th>feels_like</th>\n",
       "      <th>pressure</th>\n",
       "      <th>humidity</th>\n",
       "      <th>dew_point</th>\n",
       "      <th>uvi</th>\n",
       "      <th>clouds</th>\n",
       "      <th>visibility</th>\n",
       "      <th>wind_speed</th>\n",
       "      <th>wind_deg</th>\n",
       "      <th>wind_gust</th>\n",
       "      <th>weather</th>\n",
       "      <th>pop</th>\n",
       "      <th>rain</th>\n",
       "    </tr>\n",
       "  </thead>\n",
       "  <tbody>\n",
       "    <tr>\n",
       "      <th>0</th>\n",
       "      <td>1630648800</td>\n",
       "      <td>32.17</td>\n",
       "      <td>39.17</td>\n",
       "      <td>1007</td>\n",
       "      <td>71</td>\n",
       "      <td>26.24</td>\n",
       "      <td>7.74</td>\n",
       "      <td>82</td>\n",
       "      <td>10000</td>\n",
       "      <td>2.82</td>\n",
       "      <td>136</td>\n",
       "      <td>2.42</td>\n",
       "      <td>[{'id': 803, 'main': 'Clouds', 'description': ...</td>\n",
       "      <td>0.59</td>\n",
       "      <td>NaN</td>\n",
       "    </tr>\n",
       "    <tr>\n",
       "      <th>1</th>\n",
       "      <td>1630652400</td>\n",
       "      <td>31.82</td>\n",
       "      <td>38.82</td>\n",
       "      <td>1007</td>\n",
       "      <td>70</td>\n",
       "      <td>25.67</td>\n",
       "      <td>6.32</td>\n",
       "      <td>85</td>\n",
       "      <td>10000</td>\n",
       "      <td>3.19</td>\n",
       "      <td>139</td>\n",
       "      <td>2.79</td>\n",
       "      <td>[{'id': 804, 'main': 'Clouds', 'description': ...</td>\n",
       "      <td>0.00</td>\n",
       "      <td>NaN</td>\n",
       "    </tr>\n",
       "    <tr>\n",
       "      <th>2</th>\n",
       "      <td>1630656000</td>\n",
       "      <td>31.40</td>\n",
       "      <td>38.37</td>\n",
       "      <td>1007</td>\n",
       "      <td>69</td>\n",
       "      <td>25.02</td>\n",
       "      <td>3.30</td>\n",
       "      <td>74</td>\n",
       "      <td>10000</td>\n",
       "      <td>3.42</td>\n",
       "      <td>143</td>\n",
       "      <td>3.18</td>\n",
       "      <td>[{'id': 803, 'main': 'Clouds', 'description': ...</td>\n",
       "      <td>0.00</td>\n",
       "      <td>NaN</td>\n",
       "    </tr>\n",
       "    <tr>\n",
       "      <th>3</th>\n",
       "      <td>1630659600</td>\n",
       "      <td>30.75</td>\n",
       "      <td>36.94</td>\n",
       "      <td>1006</td>\n",
       "      <td>70</td>\n",
       "      <td>24.64</td>\n",
       "      <td>1.17</td>\n",
       "      <td>65</td>\n",
       "      <td>10000</td>\n",
       "      <td>3.46</td>\n",
       "      <td>145</td>\n",
       "      <td>3.48</td>\n",
       "      <td>[{'id': 803, 'main': 'Clouds', 'description': ...</td>\n",
       "      <td>0.04</td>\n",
       "      <td>NaN</td>\n",
       "    </tr>\n",
       "    <tr>\n",
       "      <th>4</th>\n",
       "      <td>1630663200</td>\n",
       "      <td>29.79</td>\n",
       "      <td>35.24</td>\n",
       "      <td>1006</td>\n",
       "      <td>73</td>\n",
       "      <td>24.43</td>\n",
       "      <td>0.21</td>\n",
       "      <td>62</td>\n",
       "      <td>10000</td>\n",
       "      <td>2.86</td>\n",
       "      <td>150</td>\n",
       "      <td>3.34</td>\n",
       "      <td>[{'id': 803, 'main': 'Clouds', 'description': ...</td>\n",
       "      <td>0.01</td>\n",
       "      <td>NaN</td>\n",
       "    </tr>\n",
       "  </tbody>\n",
       "</table>\n",
       "</div>"
      ],
      "text/plain": [
       "           dt   temp  feels_like  pressure  humidity  dew_point   uvi  clouds  \\\n",
       "0  1630648800  32.17       39.17      1007        71      26.24  7.74      82   \n",
       "1  1630652400  31.82       38.82      1007        70      25.67  6.32      85   \n",
       "2  1630656000  31.40       38.37      1007        69      25.02  3.30      74   \n",
       "3  1630659600  30.75       36.94      1006        70      24.64  1.17      65   \n",
       "4  1630663200  29.79       35.24      1006        73      24.43  0.21      62   \n",
       "\n",
       "   visibility  wind_speed  wind_deg  wind_gust  \\\n",
       "0       10000        2.82       136       2.42   \n",
       "1       10000        3.19       139       2.79   \n",
       "2       10000        3.42       143       3.18   \n",
       "3       10000        3.46       145       3.48   \n",
       "4       10000        2.86       150       3.34   \n",
       "\n",
       "                                             weather   pop rain  \n",
       "0  [{'id': 803, 'main': 'Clouds', 'description': ...  0.59  NaN  \n",
       "1  [{'id': 804, 'main': 'Clouds', 'description': ...  0.00  NaN  \n",
       "2  [{'id': 803, 'main': 'Clouds', 'description': ...  0.00  NaN  \n",
       "3  [{'id': 803, 'main': 'Clouds', 'description': ...  0.04  NaN  \n",
       "4  [{'id': 803, 'main': 'Clouds', 'description': ...  0.01  NaN  "
      ]
     },
     "execution_count": 10,
     "metadata": {},
     "output_type": "execute_result"
    }
   ],
   "source": [
    "df_hourly.head()"
   ]
  },
  {
   "cell_type": "code",
   "execution_count": null,
   "metadata": {},
   "outputs": [],
   "source": []
  }
 ],
 "metadata": {
  "interpreter": {
   "hash": "c1b4cfe941b6d2466ad1fb5979e97da9cda8801728c8091b097ab734208fc00c"
  },
  "kernelspec": {
   "display_name": "Python 3.8.3 64-bit ('base': conda)",
   "name": "python3"
  },
  "language_info": {
   "codemirror_mode": {
    "name": "ipython",
    "version": 3
   },
   "file_extension": ".py",
   "mimetype": "text/x-python",
   "name": "python",
   "nbconvert_exporter": "python",
   "pygments_lexer": "ipython3",
   "version": "3.8.11"
  }
 },
 "nbformat": 4,
 "nbformat_minor": 2
}
