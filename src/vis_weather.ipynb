{
 "cells": [
  {
   "cell_type": "code",
   "execution_count": 1,
   "metadata": {
    "execution": {
     "iopub.execute_input": "2021-08-30T12:24:14.649044Z",
     "iopub.status.busy": "2021-08-30T12:24:14.648395Z",
     "iopub.status.idle": "2021-08-30T12:24:16.094731Z",
     "shell.execute_reply": "2021-08-30T12:24:16.095190Z"
    }
   },
   "outputs": [],
   "source": [
    "import json, yaml, requests\r\n",
    "from datetime import datetime\r\n",
    "from dateutil import tz\r\n",
    "import pandas as pd\r\n",
    "from PIL import Image\r\n",
    "from io import BytesIO\r\n",
    "import matplotlib.pyplot as plt\r\n",
    "import seaborn\r\n",
    "\r\n",
    "CONFIG_PATH = \"../config/config.yaml\""
   ]
  },
  {
   "cell_type": "code",
   "execution_count": 2,
   "metadata": {
    "execution": {
     "iopub.execute_input": "2021-08-30T12:24:16.101264Z",
     "iopub.status.busy": "2021-08-30T12:24:16.100250Z",
     "iopub.status.idle": "2021-08-30T12:24:16.106074Z",
     "shell.execute_reply": "2021-08-30T12:24:16.105641Z"
    }
   },
   "outputs": [],
   "source": [
    "with open('../newest_ts', 'r') as f:\r\n",
    "    newest_ts = f.read()\r\n",
    "\r\n",
    "data_path = f\"../data/data_{newest_ts}.json\"\r\n",
    "with open(data_path, 'r') as f:\r\n",
    "    data = json.load(f)\r\n",
    "\r\n",
    "with open(CONFIG_PATH, \"r\") as stream:\r\n",
    "    config = yaml.safe_load(stream)\r\n",
    "\r\n",
    "TIME_ZONE = config['time_zone']\r\n",
    "DATETIME_FORMAT = config['dt_format']"
   ]
  },
  {
   "cell_type": "code",
   "execution_count": 3,
   "metadata": {
    "execution": {
     "iopub.execute_input": "2021-08-30T12:24:16.110627Z",
     "iopub.status.busy": "2021-08-30T12:24:16.110051Z",
     "iopub.status.idle": "2021-08-30T12:24:16.115140Z",
     "shell.execute_reply": "2021-08-30T12:24:16.115682Z"
    }
   },
   "outputs": [
    {
     "name": "stdout",
     "output_type": "stream",
     "text": [
      "Recent query happens at 2021-08-30 20:24:11 (CST).\n"
     ]
    }
   ],
   "source": [
    "def ts2dt(ts, format=DATETIME_FORMAT):\r\n",
    "    dt = (datetime.utcfromtimestamp(int(ts))\r\n",
    "                    .replace(tzinfo=tz.tzutc())\r\n",
    "                    # .astimezone(tz.tzlocal())\r\n",
    "                    .astimezone(tz.gettz(TIME_ZONE)))\r\n",
    "    return dt.strftime(format), dt\r\n",
    "\r\n",
    "_, newest_dt = ts2dt(newest_ts)\r\n",
    "print(f\"Recent query happens at {newest_dt.strftime(DATETIME_FORMAT)} ({newest_dt.tzname()}).\")"
   ]
  },
  {
   "cell_type": "code",
   "execution_count": 4,
   "metadata": {
    "execution": {
     "iopub.execute_input": "2021-08-30T12:24:16.119970Z",
     "iopub.status.busy": "2021-08-30T12:24:16.119445Z",
     "iopub.status.idle": "2021-08-30T12:24:16.121464Z",
     "shell.execute_reply": "2021-08-30T12:24:16.121901Z"
    }
   },
   "outputs": [],
   "source": [
    "def degrees_to_cardinal(d):\r\n",
    "  dirs = ['N', 'NNE', 'NE', 'ENE', 'E', 'ESE', 'SE', 'SSE', 'S', 'SSW', 'SW', 'WSW', 'W', 'WNW', 'NW', 'NNW']\r\n",
    "  ix = int(round(d / (360. / len(dirs))))\r\n",
    "  return dirs[ix % len(dirs)]"
   ]
  },
  {
   "cell_type": "code",
   "execution_count": 5,
   "metadata": {
    "execution": {
     "iopub.execute_input": "2021-08-30T12:24:16.126685Z",
     "iopub.status.busy": "2021-08-30T12:24:16.125352Z",
     "iopub.status.idle": "2021-08-30T12:24:16.127293Z",
     "shell.execute_reply": "2021-08-30T12:24:16.127760Z"
    }
   },
   "outputs": [],
   "source": [
    "# data.keys()"
   ]
  },
  {
   "cell_type": "code",
   "execution_count": 6,
   "metadata": {
    "execution": {
     "iopub.execute_input": "2021-08-30T12:24:16.131015Z",
     "iopub.status.busy": "2021-08-30T12:24:16.129773Z",
     "iopub.status.idle": "2021-08-30T12:24:16.133707Z",
     "shell.execute_reply": "2021-08-30T12:24:16.133232Z"
    }
   },
   "outputs": [],
   "source": [
    "# data['current']"
   ]
  },
  {
   "cell_type": "code",
   "execution_count": 7,
   "metadata": {
    "execution": {
     "iopub.execute_input": "2021-08-30T12:24:16.153668Z",
     "iopub.status.busy": "2021-08-30T12:24:16.153043Z",
     "iopub.status.idle": "2021-08-30T12:24:16.606806Z",
     "shell.execute_reply": "2021-08-30T12:24:16.607483Z"
    }
   },
   "outputs": [
    {
     "data": {
      "image/png": "[encoded data removed]",
      "text/plain": [
       "<Figure size 216x216 with 1 Axes>"
      ]
     },
     "metadata": {
      "needs_background": "light"
     },
     "output_type": "display_data"
    },
    {
     "name": "stdout",
     "output_type": "stream",
     "text": [
      "Today, sun rises at 06:05 and sets at 18:42.\n",
      "Currently, the weather is Clouds (scattered clouds).\n",
      "The temperature is 29.2°C and it feels like 35.77°C.\n",
      "The UV index is 0, humidity is 82%.\n",
      "The pressure is 1011 hPa, percentage of cloud cover is 45%\n",
      "The wind comes from ESE direction with a speed 5.35 m/s.\n"
     ]
    }
   ],
   "source": [
    "current = data['current']\r\n",
    "\r\n",
    "fig, ax = plt.subplots(figsize=(3, 3))\r\n",
    "icon = requests.get(f\"http://openweathermap.org/img/wn/{current['weather'][0]['icon']}@2x.png\")\r\n",
    "im = Image.open(BytesIO(icon.content))\r\n",
    "plt.imshow(im)\r\n",
    "ax.set_axis_off()\r\n",
    "plt.show()\r\n",
    "\r\n",
    "print(f\"Today, sun rises at {ts2dt(current['sunrise'], '%H:%M')[0]} \\\r\n",
    "and sets at {ts2dt(current['sunset'], '%H:%M')[0]}.\\n\\\r\n",
    "Currently, the weather is {current['weather'][0]['main']} ({current['weather'][0]['description']}).\\n\\\r\n",
    "The temperature is {current['temp']}°C and it feels like {current['feels_like']}°C.\\n\\\r\n",
    "The UV index is {current['uvi']}, humidity is {current['humidity']}%.\\n\\\r\n",
    "The pressure is {current['pressure']} hPa, percentage of cloud cover is {current['clouds']}%\\n\\\r\n",
    "The wind comes from {degrees_to_cardinal(current['wind_deg'])} direction with a speed {current['wind_speed']} m/s.\")"
   ]
  },
  {
   "cell_type": "code",
   "execution_count": 8,
   "metadata": {
    "execution": {
     "iopub.execute_input": "2021-08-30T12:24:16.610615Z",
     "iopub.status.busy": "2021-08-30T12:24:16.610037Z",
     "iopub.status.idle": "2021-08-30T12:24:16.616681Z",
     "shell.execute_reply": "2021-08-30T12:24:16.617252Z"
    }
   },
   "outputs": [],
   "source": [
    "df_hourly = pd.DataFrame(data['hourly'])\r\n",
    "df_daily = pd.DataFrame(data['daily'])"
   ]
  },
  {
   "cell_type": "code",
   "execution_count": 9,
   "metadata": {
    "execution": {
     "iopub.execute_input": "2021-08-30T12:24:16.620068Z",
     "iopub.status.busy": "2021-08-30T12:24:16.619480Z",
     "iopub.status.idle": "2021-08-30T12:24:16.946301Z",
     "shell.execute_reply": "2021-08-30T12:24:16.946949Z"
    }
   },
   "outputs": [
    {
     "data": {
      "image/png": "[encoded data removed]",
      "text/plain": [
       "<Figure size 864x432 with 1 Axes>"
      ]
     },
     "metadata": {
      "needs_background": "light"
     },
     "output_type": "display_data"
    }
   ],
   "source": [
    "fig, ax = plt.subplots(figsize=(12, 6))\r\n",
    "plt.plot(df_hourly.temp, '.-', label='Temperature')\r\n",
    "plt.plot(df_hourly.feels_like, '.-', label='Feels Like')\r\n",
    "ax.set(title='Temperature in future 48 hours', xlabel='Time', ylabel='Temperature')\r\n",
    "ax.set_xticks(list(range(0, len(df_hourly), 2)))\r\n",
    "ax.set_xticklabels([ts2dt(ts, '%m-%d %H:%M')[0] for i, ts in enumerate(df_hourly.dt) if i%2==0], \r\n",
    "                   rotation=45, ha=\"right\")\r\n",
    "ax.locator_params(nbins=15, axis='y')\r\n",
    "plt.legend()\r\n",
    "plt.show()"
   ]
  },
  {
   "cell_type": "code",
   "execution_count": 10,
   "metadata": {
    "execution": {
     "iopub.execute_input": "2021-08-30T12:24:16.952108Z",
     "iopub.status.busy": "2021-08-30T12:24:16.951470Z",
     "iopub.status.idle": "2021-08-30T12:24:16.971373Z",
     "shell.execute_reply": "2021-08-30T12:24:16.971976Z"
    }
   },
   "outputs": [
    {
     "data": {
      "text/html": [
       "<div>\n",
       "<style scoped>\n",
       "    .dataframe tbody tr th:only-of-type {\n",
       "        vertical-align: middle;\n",
       "    }\n",
       "\n",
       "    .dataframe tbody tr th {\n",
       "        vertical-align: top;\n",
       "    }\n",
       "\n",
       "    .dataframe thead th {\n",
       "        text-align: right;\n",
       "    }\n",
       "</style>\n",
       "<table border=\"1\" class=\"dataframe\">\n",
       "  <thead>\n",
       "    <tr style=\"text-align: right;\">\n",
       "      <th></th>\n",
       "      <th>dt</th>\n",
       "      <th>temp</th>\n",
       "      <th>feels_like</th>\n",
       "      <th>pressure</th>\n",
       "      <th>humidity</th>\n",
       "      <th>dew_point</th>\n",
       "      <th>uvi</th>\n",
       "      <th>clouds</th>\n",
       "      <th>visibility</th>\n",
       "      <th>wind_speed</th>\n",
       "      <th>wind_deg</th>\n",
       "      <th>wind_gust</th>\n",
       "      <th>weather</th>\n",
       "      <th>pop</th>\n",
       "      <th>rain</th>\n",
       "    </tr>\n",
       "  </thead>\n",
       "  <tbody>\n",
       "    <tr>\n",
       "      <th>0</th>\n",
       "      <td>1630324800</td>\n",
       "      <td>29.20</td>\n",
       "      <td>35.77</td>\n",
       "      <td>1011</td>\n",
       "      <td>82</td>\n",
       "      <td>25.81</td>\n",
       "      <td>0.0</td>\n",
       "      <td>45</td>\n",
       "      <td>10000</td>\n",
       "      <td>5.35</td>\n",
       "      <td>107</td>\n",
       "      <td>8.52</td>\n",
       "      <td>[{'id': 802, 'main': 'Clouds', 'description': ...</td>\n",
       "      <td>0.39</td>\n",
       "      <td>NaN</td>\n",
       "    </tr>\n",
       "    <tr>\n",
       "      <th>1</th>\n",
       "      <td>1630328400</td>\n",
       "      <td>29.01</td>\n",
       "      <td>34.99</td>\n",
       "      <td>1011</td>\n",
       "      <td>81</td>\n",
       "      <td>25.42</td>\n",
       "      <td>0.0</td>\n",
       "      <td>56</td>\n",
       "      <td>10000</td>\n",
       "      <td>5.63</td>\n",
       "      <td>108</td>\n",
       "      <td>8.31</td>\n",
       "      <td>[{'id': 803, 'main': 'Clouds', 'description': ...</td>\n",
       "      <td>0.12</td>\n",
       "      <td>NaN</td>\n",
       "    </tr>\n",
       "    <tr>\n",
       "      <th>2</th>\n",
       "      <td>1630332000</td>\n",
       "      <td>28.79</td>\n",
       "      <td>34.58</td>\n",
       "      <td>1011</td>\n",
       "      <td>82</td>\n",
       "      <td>25.41</td>\n",
       "      <td>0.0</td>\n",
       "      <td>67</td>\n",
       "      <td>10000</td>\n",
       "      <td>4.77</td>\n",
       "      <td>110</td>\n",
       "      <td>7.04</td>\n",
       "      <td>[{'id': 803, 'main': 'Clouds', 'description': ...</td>\n",
       "      <td>0.12</td>\n",
       "      <td>NaN</td>\n",
       "    </tr>\n",
       "    <tr>\n",
       "      <th>3</th>\n",
       "      <td>1630335600</td>\n",
       "      <td>28.58</td>\n",
       "      <td>33.98</td>\n",
       "      <td>1012</td>\n",
       "      <td>82</td>\n",
       "      <td>25.20</td>\n",
       "      <td>0.0</td>\n",
       "      <td>77</td>\n",
       "      <td>10000</td>\n",
       "      <td>4.42</td>\n",
       "      <td>114</td>\n",
       "      <td>6.49</td>\n",
       "      <td>[{'id': 803, 'main': 'Clouds', 'description': ...</td>\n",
       "      <td>0.09</td>\n",
       "      <td>NaN</td>\n",
       "    </tr>\n",
       "    <tr>\n",
       "      <th>4</th>\n",
       "      <td>1630339200</td>\n",
       "      <td>28.26</td>\n",
       "      <td>33.28</td>\n",
       "      <td>1011</td>\n",
       "      <td>83</td>\n",
       "      <td>25.09</td>\n",
       "      <td>0.0</td>\n",
       "      <td>81</td>\n",
       "      <td>10000</td>\n",
       "      <td>4.47</td>\n",
       "      <td>119</td>\n",
       "      <td>6.36</td>\n",
       "      <td>[{'id': 803, 'main': 'Clouds', 'description': ...</td>\n",
       "      <td>0.09</td>\n",
       "      <td>NaN</td>\n",
       "    </tr>\n",
       "  </tbody>\n",
       "</table>\n",
       "</div>"
      ],
      "text/plain": [
       "           dt   temp  feels_like  pressure  humidity  dew_point  uvi  clouds  \\\n",
       "0  1630324800  29.20       35.77      1011        82      25.81  0.0      45   \n",
       "1  1630328400  29.01       34.99      1011        81      25.42  0.0      56   \n",
       "2  1630332000  28.79       34.58      1011        82      25.41  0.0      67   \n",
       "3  1630335600  28.58       33.98      1012        82      25.20  0.0      77   \n",
       "4  1630339200  28.26       33.28      1011        83      25.09  0.0      81   \n",
       "\n",
       "   visibility  wind_speed  wind_deg  wind_gust  \\\n",
       "0       10000        5.35       107       8.52   \n",
       "1       10000        5.63       108       8.31   \n",
       "2       10000        4.77       110       7.04   \n",
       "3       10000        4.42       114       6.49   \n",
       "4       10000        4.47       119       6.36   \n",
       "\n",
       "                                             weather   pop rain  \n",
       "0  [{'id': 802, 'main': 'Clouds', 'description': ...  0.39  NaN  \n",
       "1  [{'id': 803, 'main': 'Clouds', 'description': ...  0.12  NaN  \n",
       "2  [{'id': 803, 'main': 'Clouds', 'description': ...  0.12  NaN  \n",
       "3  [{'id': 803, 'main': 'Clouds', 'description': ...  0.09  NaN  \n",
       "4  [{'id': 803, 'main': 'Clouds', 'description': ...  0.09  NaN  "
      ]
     },
     "execution_count": 10,
     "metadata": {},
     "output_type": "execute_result"
    }
   ],
   "source": [
    "df_hourly.head()"
   ]
  },
  {
   "cell_type": "code",
   "execution_count": null,
   "metadata": {},
   "outputs": [],
   "source": []
  }
 ],
 "metadata": {
  "interpreter": {
   "hash": "c1b4cfe941b6d2466ad1fb5979e97da9cda8801728c8091b097ab734208fc00c"
  },
  "kernelspec": {
   "display_name": "Python 3.8.3 64-bit ('base': conda)",
   "name": "python3"
  },
  "language_info": {
   "codemirror_mode": {
    "name": "ipython",
    "version": 3
   },
   "file_extension": ".py",
   "mimetype": "text/x-python",
   "name": "python",
   "nbconvert_exporter": "python",
   "pygments_lexer": "ipython3",
   "version": "3.8.11"
  }
 },
 "nbformat": 4,
 "nbformat_minor": 2
}
