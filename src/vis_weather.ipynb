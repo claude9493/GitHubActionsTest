{
 "cells": [
  {
   "cell_type": "code",
   "execution_count": 1,
   "metadata": {
    "execution": {
     "iopub.execute_input": "2021-09-07T15:40:59.812664Z",
     "iopub.status.busy": "2021-09-07T15:40:59.812017Z",
     "iopub.status.idle": "2021-09-07T15:41:00.968679Z",
     "shell.execute_reply": "2021-09-07T15:41:00.967703Z"
    }
   },
   "outputs": [],
   "source": [
    "import json, yaml, requests\r\n",
    "from datetime import datetime\r\n",
    "from dateutil import tz\r\n",
    "import pandas as pd\r\n",
    "from PIL import Image\r\n",
    "from io import BytesIO\r\n",
    "import matplotlib.pyplot as plt\r\n",
    "import seaborn\r\n",
    "\r\n",
    "CONFIG_PATH = \"../config/config.yaml\""
   ]
  },
  {
   "cell_type": "code",
   "execution_count": 2,
   "metadata": {
    "execution": {
     "iopub.execute_input": "2021-09-07T15:41:00.973989Z",
     "iopub.status.busy": "2021-09-07T15:41:00.973305Z",
     "iopub.status.idle": "2021-09-07T15:41:00.978392Z",
     "shell.execute_reply": "2021-09-07T15:41:00.977517Z"
    }
   },
   "outputs": [],
   "source": [
    "with open('../newest_ts', 'r') as f:\r\n",
    "    newest_ts = f.read()\r\n",
    "\r\n",
    "data_path = f\"../data/data_{newest_ts}.json\"\r\n",
    "with open(data_path, 'r') as f:\r\n",
    "    data = json.load(f)\r\n",
    "\r\n",
    "with open(CONFIG_PATH, \"r\") as stream:\r\n",
    "    config = yaml.safe_load(stream)\r\n",
    "\r\n",
    "TIME_ZONE = config['time_zone']\r\n",
    "DATETIME_FORMAT = config['dt_format']"
   ]
  },
  {
   "cell_type": "code",
   "execution_count": 3,
   "metadata": {
    "execution": {
     "iopub.execute_input": "2021-09-07T15:41:00.982909Z",
     "iopub.status.busy": "2021-09-07T15:41:00.982407Z",
     "iopub.status.idle": "2021-09-07T15:41:00.987443Z",
     "shell.execute_reply": "2021-09-07T15:41:00.986779Z"
    }
   },
   "outputs": [
    {
     "name": "stdout",
     "output_type": "stream",
     "text": [
      "Recent query happens at 2021-09-07 23:40:57 (CST).\n"
     ]
    }
   ],
   "source": [
    "def ts2dt(ts, format=DATETIME_FORMAT):\r\n",
    "    dt = (datetime.utcfromtimestamp(int(ts))\r\n",
    "                    .replace(tzinfo=tz.tzutc())\r\n",
    "                    # .astimezone(tz.tzlocal())\r\n",
    "                    .astimezone(tz.gettz(TIME_ZONE)))\r\n",
    "    return dt.strftime(format), dt\r\n",
    "\r\n",
    "_, newest_dt = ts2dt(newest_ts)\r\n",
    "print(f\"Recent query happens at {newest_dt.strftime(DATETIME_FORMAT)} ({newest_dt.tzname()}).\")"
   ]
  },
  {
   "cell_type": "code",
   "execution_count": 4,
   "metadata": {
    "execution": {
     "iopub.execute_input": "2021-09-07T15:41:00.991453Z",
     "iopub.status.busy": "2021-09-07T15:41:00.991025Z",
     "iopub.status.idle": "2021-09-07T15:41:00.994259Z",
     "shell.execute_reply": "2021-09-07T15:41:00.993818Z"
    }
   },
   "outputs": [],
   "source": [
    "def degrees_to_cardinal(d):\r\n",
    "  dirs = ['N', 'NNE', 'NE', 'ENE', 'E', 'ESE', 'SE', 'SSE', 'S', 'SSW', 'SW', 'WSW', 'W', 'WNW', 'NW', 'NNW']\r\n",
    "  ix = int(round(d / (360. / len(dirs))))\r\n",
    "  return dirs[ix % len(dirs)]"
   ]
  },
  {
   "cell_type": "code",
   "execution_count": 5,
   "metadata": {
    "execution": {
     "iopub.execute_input": "2021-09-07T15:41:00.997358Z",
     "iopub.status.busy": "2021-09-07T15:41:00.996904Z",
     "iopub.status.idle": "2021-09-07T15:41:00.999589Z",
     "shell.execute_reply": "2021-09-07T15:41:00.999162Z"
    }
   },
   "outputs": [],
   "source": [
    "# data.keys()"
   ]
  },
  {
   "cell_type": "code",
   "execution_count": 6,
   "metadata": {
    "execution": {
     "iopub.execute_input": "2021-09-07T15:41:01.002741Z",
     "iopub.status.busy": "2021-09-07T15:41:01.001974Z",
     "iopub.status.idle": "2021-09-07T15:41:01.004776Z",
     "shell.execute_reply": "2021-09-07T15:41:01.004418Z"
    }
   },
   "outputs": [],
   "source": [
    "# data['current']"
   ]
  },
  {
   "cell_type": "code",
   "execution_count": 7,
   "metadata": {
    "execution": {
     "iopub.execute_input": "2021-09-07T15:41:01.021232Z",
     "iopub.status.busy": "2021-09-07T15:41:01.020715Z",
     "iopub.status.idle": "2021-09-07T15:41:01.429560Z",
     "shell.execute_reply": "2021-09-07T15:41:01.430257Z"
    }
   },
   "outputs": [
    {
     "data": {
      "image/png": "[encoded data removed]",
      "text/plain": [
       "<Figure size 216x216 with 1 Axes>"
      ]
     },
     "metadata": {
      "needs_background": "light"
     },
     "output_type": "display_data"
    },
    {
     "name": "stdout",
     "output_type": "stream",
     "text": [
      "Today, sun rises at 06:07 and sets at 18:34.\n",
      "Currently, the weather is Clouds (scattered clouds).\n",
      "The temperature is 29.37°C and it feels like 36.37°C.\n",
      "The UV index is 0, humidity is 83%.\n",
      "The pressure is 1011 hPa, percentage of cloud cover is 34%\n",
      "The wind comes from ESE direction with a speed 2.97 m/s.\n"
     ]
    }
   ],
   "source": [
    "current = data['current']\r\n",
    "\r\n",
    "fig, ax = plt.subplots(figsize=(3, 3))\r\n",
    "icon = requests.get(f\"http://openweathermap.org/img/wn/{current['weather'][0]['icon']}@2x.png\")\r\n",
    "im = Image.open(BytesIO(icon.content))\r\n",
    "plt.imshow(im)\r\n",
    "ax.set_axis_off()\r\n",
    "plt.show()\r\n",
    "\r\n",
    "print(f\"Today, sun rises at {ts2dt(current['sunrise'], '%H:%M')[0]} \\\r\n",
    "and sets at {ts2dt(current['sunset'], '%H:%M')[0]}.\\n\\\r\n",
    "Currently, the weather is {current['weather'][0]['main']} ({current['weather'][0]['description']}).\\n\\\r\n",
    "The temperature is {current['temp']}°C and it feels like {current['feels_like']}°C.\\n\\\r\n",
    "The UV index is {current['uvi']}, humidity is {current['humidity']}%.\\n\\\r\n",
    "The pressure is {current['pressure']} hPa, percentage of cloud cover is {current['clouds']}%\\n\\\r\n",
    "The wind comes from {degrees_to_cardinal(current['wind_deg'])} direction with a speed {current['wind_speed']} m/s.\")"
   ]
  },
  {
   "cell_type": "code",
   "execution_count": 8,
   "metadata": {
    "execution": {
     "iopub.execute_input": "2021-09-07T15:41:01.433441Z",
     "iopub.status.busy": "2021-09-07T15:41:01.432555Z",
     "iopub.status.idle": "2021-09-07T15:41:01.439269Z",
     "shell.execute_reply": "2021-09-07T15:41:01.439864Z"
    }
   },
   "outputs": [],
   "source": [
    "df_hourly = pd.DataFrame(data['hourly'])\r\n",
    "df_daily = pd.DataFrame(data['daily'])"
   ]
  },
  {
   "cell_type": "code",
   "execution_count": 9,
   "metadata": {
    "execution": {
     "iopub.execute_input": "2021-09-07T15:41:01.442658Z",
     "iopub.status.busy": "2021-09-07T15:41:01.441798Z",
     "iopub.status.idle": "2021-09-07T15:41:01.691340Z",
     "shell.execute_reply": "2021-09-07T15:41:01.691733Z"
    }
   },
   "outputs": [
    {
     "data": {
      "image/png": "[encoded data removed]",
      "text/plain": [
       "<Figure size 864x432 with 1 Axes>"
      ]
     },
     "metadata": {
      "needs_background": "light"
     },
     "output_type": "display_data"
    }
   ],
   "source": [
    "fig, ax = plt.subplots(figsize=(12, 6))\r\n",
    "plt.plot(df_hourly.temp, '.-', label='Temperature')\r\n",
    "plt.plot(df_hourly.feels_like, '.-', label='Feels Like')\r\n",
    "ax.set(title='Temperature in future 48 hours', xlabel='Time', ylabel='Temperature')\r\n",
    "ax.set_xticks(list(range(0, len(df_hourly), 2)))\r\n",
    "ax.set_xticklabels([ts2dt(ts, '%m-%d %H:%M')[0] for i, ts in enumerate(df_hourly.dt) if i%2==0], \r\n",
    "                   rotation=45, ha=\"right\")\r\n",
    "ax.locator_params(nbins=15, axis='y')\r\n",
    "plt.legend()\r\n",
    "plt.show()"
   ]
  },
  {
   "cell_type": "code",
   "execution_count": 10,
   "metadata": {
    "execution": {
     "iopub.execute_input": "2021-09-07T15:41:01.703204Z",
     "iopub.status.busy": "2021-09-07T15:41:01.695701Z",
     "iopub.status.idle": "2021-09-07T15:41:01.712486Z",
     "shell.execute_reply": "2021-09-07T15:41:01.712889Z"
    }
   },
   "outputs": [
    {
     "data": {
      "text/html": [
       "<div>\n",
       "<style scoped>\n",
       "    .dataframe tbody tr th:only-of-type {\n",
       "        vertical-align: middle;\n",
       "    }\n",
       "\n",
       "    .dataframe tbody tr th {\n",
       "        vertical-align: top;\n",
       "    }\n",
       "\n",
       "    .dataframe thead th {\n",
       "        text-align: right;\n",
       "    }\n",
       "</style>\n",
       "<table border=\"1\" class=\"dataframe\">\n",
       "  <thead>\n",
       "    <tr style=\"text-align: right;\">\n",
       "      <th></th>\n",
       "      <th>dt</th>\n",
       "      <th>temp</th>\n",
       "      <th>feels_like</th>\n",
       "      <th>pressure</th>\n",
       "      <th>humidity</th>\n",
       "      <th>dew_point</th>\n",
       "      <th>uvi</th>\n",
       "      <th>clouds</th>\n",
       "      <th>visibility</th>\n",
       "      <th>wind_speed</th>\n",
       "      <th>wind_deg</th>\n",
       "      <th>wind_gust</th>\n",
       "      <th>weather</th>\n",
       "      <th>pop</th>\n",
       "      <th>rain</th>\n",
       "    </tr>\n",
       "  </thead>\n",
       "  <tbody>\n",
       "    <tr>\n",
       "      <th>0</th>\n",
       "      <td>1631026800</td>\n",
       "      <td>29.02</td>\n",
       "      <td>35.70</td>\n",
       "      <td>1011</td>\n",
       "      <td>84</td>\n",
       "      <td>26.04</td>\n",
       "      <td>0.0</td>\n",
       "      <td>32</td>\n",
       "      <td>10000</td>\n",
       "      <td>3.46</td>\n",
       "      <td>107</td>\n",
       "      <td>5.21</td>\n",
       "      <td>[{'id': 500, 'main': 'Rain', 'description': 'l...</td>\n",
       "      <td>0.48</td>\n",
       "      <td>{'1h': 0.11}</td>\n",
       "    </tr>\n",
       "    <tr>\n",
       "      <th>1</th>\n",
       "      <td>1631030400</td>\n",
       "      <td>29.37</td>\n",
       "      <td>36.37</td>\n",
       "      <td>1011</td>\n",
       "      <td>83</td>\n",
       "      <td>26.18</td>\n",
       "      <td>0.0</td>\n",
       "      <td>34</td>\n",
       "      <td>10000</td>\n",
       "      <td>2.97</td>\n",
       "      <td>107</td>\n",
       "      <td>4.15</td>\n",
       "      <td>[{'id': 802, 'main': 'Clouds', 'description': ...</td>\n",
       "      <td>0.59</td>\n",
       "      <td>NaN</td>\n",
       "    </tr>\n",
       "    <tr>\n",
       "      <th>2</th>\n",
       "      <td>1631034000</td>\n",
       "      <td>28.98</td>\n",
       "      <td>35.58</td>\n",
       "      <td>1011</td>\n",
       "      <td>84</td>\n",
       "      <td>26.00</td>\n",
       "      <td>0.0</td>\n",
       "      <td>34</td>\n",
       "      <td>10000</td>\n",
       "      <td>2.66</td>\n",
       "      <td>106</td>\n",
       "      <td>3.49</td>\n",
       "      <td>[{'id': 802, 'main': 'Clouds', 'description': ...</td>\n",
       "      <td>0.76</td>\n",
       "      <td>NaN</td>\n",
       "    </tr>\n",
       "    <tr>\n",
       "      <th>3</th>\n",
       "      <td>1631037600</td>\n",
       "      <td>28.54</td>\n",
       "      <td>34.26</td>\n",
       "      <td>1011</td>\n",
       "      <td>84</td>\n",
       "      <td>25.57</td>\n",
       "      <td>0.0</td>\n",
       "      <td>35</td>\n",
       "      <td>10000</td>\n",
       "      <td>2.27</td>\n",
       "      <td>104</td>\n",
       "      <td>2.93</td>\n",
       "      <td>[{'id': 802, 'main': 'Clouds', 'description': ...</td>\n",
       "      <td>0.76</td>\n",
       "      <td>NaN</td>\n",
       "    </tr>\n",
       "    <tr>\n",
       "      <th>4</th>\n",
       "      <td>1631041200</td>\n",
       "      <td>28.02</td>\n",
       "      <td>32.95</td>\n",
       "      <td>1010</td>\n",
       "      <td>85</td>\n",
       "      <td>25.26</td>\n",
       "      <td>0.0</td>\n",
       "      <td>39</td>\n",
       "      <td>10000</td>\n",
       "      <td>1.94</td>\n",
       "      <td>88</td>\n",
       "      <td>2.48</td>\n",
       "      <td>[{'id': 500, 'main': 'Rain', 'description': 'l...</td>\n",
       "      <td>0.41</td>\n",
       "      <td>{'1h': 0.1}</td>\n",
       "    </tr>\n",
       "  </tbody>\n",
       "</table>\n",
       "</div>"
      ],
      "text/plain": [
       "           dt   temp  feels_like  pressure  humidity  dew_point  uvi  clouds  \\\n",
       "0  1631026800  29.02       35.70      1011        84      26.04  0.0      32   \n",
       "1  1631030400  29.37       36.37      1011        83      26.18  0.0      34   \n",
       "2  1631034000  28.98       35.58      1011        84      26.00  0.0      34   \n",
       "3  1631037600  28.54       34.26      1011        84      25.57  0.0      35   \n",
       "4  1631041200  28.02       32.95      1010        85      25.26  0.0      39   \n",
       "\n",
       "   visibility  wind_speed  wind_deg  wind_gust  \\\n",
       "0       10000        3.46       107       5.21   \n",
       "1       10000        2.97       107       4.15   \n",
       "2       10000        2.66       106       3.49   \n",
       "3       10000        2.27       104       2.93   \n",
       "4       10000        1.94        88       2.48   \n",
       "\n",
       "                                             weather   pop          rain  \n",
       "0  [{'id': 500, 'main': 'Rain', 'description': 'l...  0.48  {'1h': 0.11}  \n",
       "1  [{'id': 802, 'main': 'Clouds', 'description': ...  0.59           NaN  \n",
       "2  [{'id': 802, 'main': 'Clouds', 'description': ...  0.76           NaN  \n",
       "3  [{'id': 802, 'main': 'Clouds', 'description': ...  0.76           NaN  \n",
       "4  [{'id': 500, 'main': 'Rain', 'description': 'l...  0.41   {'1h': 0.1}  "
      ]
     },
     "execution_count": 10,
     "metadata": {},
     "output_type": "execute_result"
    }
   ],
   "source": [
    "df_hourly.head()"
   ]
  },
  {
   "cell_type": "code",
   "execution_count": null,
   "metadata": {},
   "outputs": [],
   "source": []
  }
 ],
 "metadata": {
  "interpreter": {
   "hash": "c1b4cfe941b6d2466ad1fb5979e97da9cda8801728c8091b097ab734208fc00c"
  },
  "kernelspec": {
   "display_name": "Python 3.8.3 64-bit ('base': conda)",
   "name": "python3"
  },
  "language_info": {
   "codemirror_mode": {
    "name": "ipython",
    "version": 3
   },
   "file_extension": ".py",
   "mimetype": "text/x-python",
   "name": "python",
   "nbconvert_exporter": "python",
   "pygments_lexer": "ipython3",
   "version": "3.8.11"
  }
 },
 "nbformat": 4,
 "nbformat_minor": 2
}
