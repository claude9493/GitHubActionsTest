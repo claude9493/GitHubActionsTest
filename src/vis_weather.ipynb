{
 "cells": [
  {
   "cell_type": "code",
   "execution_count": 1,
   "metadata": {
    "execution": {
     "iopub.execute_input": "2021-09-08T19:12:38.651418Z",
     "iopub.status.busy": "2021-09-08T19:12:38.650795Z",
     "iopub.status.idle": "2021-09-08T19:12:41.995544Z",
     "shell.execute_reply": "2021-09-08T19:12:41.994937Z"
    }
   },
   "outputs": [],
   "source": [
    "import json, yaml, requests\r\n",
    "from datetime import datetime\r\n",
    "from dateutil import tz\r\n",
    "import pandas as pd\r\n",
    "from PIL import Image\r\n",
    "from io import BytesIO\r\n",
    "import matplotlib.pyplot as plt\r\n",
    "import seaborn\r\n",
    "\r\n",
    "CONFIG_PATH = \"../config/config.yaml\""
   ]
  },
  {
   "cell_type": "code",
   "execution_count": 2,
   "metadata": {
    "execution": {
     "iopub.execute_input": "2021-09-08T19:12:42.003173Z",
     "iopub.status.busy": "2021-09-08T19:12:42.000297Z",
     "iopub.status.idle": "2021-09-08T19:12:42.005558Z",
     "shell.execute_reply": "2021-09-08T19:12:42.005182Z"
    }
   },
   "outputs": [],
   "source": [
    "with open('../newest_ts', 'r') as f:\r\n",
    "    newest_ts = f.read()\r\n",
    "\r\n",
    "data_path = f\"../data/data_{newest_ts}.json\"\r\n",
    "with open(data_path, 'r') as f:\r\n",
    "    data = json.load(f)\r\n",
    "\r\n",
    "with open(CONFIG_PATH, \"r\") as stream:\r\n",
    "    config = yaml.safe_load(stream)\r\n",
    "\r\n",
    "TIME_ZONE = config['time_zone']\r\n",
    "DATETIME_FORMAT = config['dt_format']"
   ]
  },
  {
   "cell_type": "code",
   "execution_count": 3,
   "metadata": {
    "execution": {
     "iopub.execute_input": "2021-09-08T19:12:42.009603Z",
     "iopub.status.busy": "2021-09-08T19:12:42.009166Z",
     "iopub.status.idle": "2021-09-08T19:12:42.022073Z",
     "shell.execute_reply": "2021-09-08T19:12:42.021727Z"
    }
   },
   "outputs": [
    {
     "name": "stdout",
     "output_type": "stream",
     "text": [
      "Recent query happens at 2021-09-09 03:12:34 (CST).\n"
     ]
    }
   ],
   "source": [
    "def ts2dt(ts, format=DATETIME_FORMAT):\r\n",
    "    dt = (datetime.utcfromtimestamp(int(ts))\r\n",
    "                    .replace(tzinfo=tz.tzutc())\r\n",
    "                    # .astimezone(tz.tzlocal())\r\n",
    "                    .astimezone(tz.gettz(TIME_ZONE)))\r\n",
    "    return dt.strftime(format), dt\r\n",
    "\r\n",
    "_, newest_dt = ts2dt(newest_ts)\r\n",
    "print(f\"Recent query happens at {newest_dt.strftime(DATETIME_FORMAT)} ({newest_dt.tzname()}).\")"
   ]
  },
  {
   "cell_type": "code",
   "execution_count": 4,
   "metadata": {
    "execution": {
     "iopub.execute_input": "2021-09-08T19:12:42.026475Z",
     "iopub.status.busy": "2021-09-08T19:12:42.025755Z",
     "iopub.status.idle": "2021-09-08T19:12:42.027532Z",
     "shell.execute_reply": "2021-09-08T19:12:42.027185Z"
    }
   },
   "outputs": [],
   "source": [
    "def degrees_to_cardinal(d):\r\n",
    "  dirs = ['N', 'NNE', 'NE', 'ENE', 'E', 'ESE', 'SE', 'SSE', 'S', 'SSW', 'SW', 'WSW', 'W', 'WNW', 'NW', 'NNW']\r\n",
    "  ix = int(round(d / (360. / len(dirs))))\r\n",
    "  return dirs[ix % len(dirs)]"
   ]
  },
  {
   "cell_type": "code",
   "execution_count": 5,
   "metadata": {
    "execution": {
     "iopub.execute_input": "2021-09-08T19:12:42.030871Z",
     "iopub.status.busy": "2021-09-08T19:12:42.030160Z",
     "iopub.status.idle": "2021-09-08T19:12:42.031929Z",
     "shell.execute_reply": "2021-09-08T19:12:42.031601Z"
    }
   },
   "outputs": [],
   "source": [
    "# data.keys()"
   ]
  },
  {
   "cell_type": "code",
   "execution_count": 6,
   "metadata": {
    "execution": {
     "iopub.execute_input": "2021-09-08T19:12:42.035060Z",
     "iopub.status.busy": "2021-09-08T19:12:42.034360Z",
     "iopub.status.idle": "2021-09-08T19:12:42.036094Z",
     "shell.execute_reply": "2021-09-08T19:12:42.035768Z"
    }
   },
   "outputs": [],
   "source": [
    "# data['current']"
   ]
  },
  {
   "cell_type": "code",
   "execution_count": 7,
   "metadata": {
    "execution": {
     "iopub.execute_input": "2021-09-08T19:12:42.052224Z",
     "iopub.status.busy": "2021-09-08T19:12:42.051754Z",
     "iopub.status.idle": "2021-09-08T19:12:42.427103Z",
     "shell.execute_reply": "2021-09-08T19:12:42.427501Z"
    }
   },
   "outputs": [
    {
     "data": {
      "image/png": "[encoded data removed]",
      "text/plain": [
       "<Figure size 216x216 with 1 Axes>"
      ]
     },
     "metadata": {
      "needs_background": "light"
     },
     "output_type": "display_data"
    },
    {
     "name": "stdout",
     "output_type": "stream",
     "text": [
      "Today, sun rises at 06:08 and sets at 18:32.\n",
      "Currently, the weather is Clouds (few clouds).\n",
      "The temperature is 29.15°C and it feels like 34.5°C.\n",
      "The UV index is 0, humidity is 77%.\n",
      "The pressure is 1009 hPa, percentage of cloud cover is 20%\n",
      "The wind comes from E direction with a speed 0.99 m/s.\n"
     ]
    }
   ],
   "source": [
    "current = data['current']\r\n",
    "\r\n",
    "fig, ax = plt.subplots(figsize=(3, 3))\r\n",
    "icon = requests.get(f\"http://openweathermap.org/img/wn/{current['weather'][0]['icon']}@2x.png\")\r\n",
    "im = Image.open(BytesIO(icon.content))\r\n",
    "plt.imshow(im)\r\n",
    "ax.set_axis_off()\r\n",
    "plt.show()\r\n",
    "\r\n",
    "print(f\"Today, sun rises at {ts2dt(current['sunrise'], '%H:%M')[0]} \\\r\n",
    "and sets at {ts2dt(current['sunset'], '%H:%M')[0]}.\\n\\\r\n",
    "Currently, the weather is {current['weather'][0]['main']} ({current['weather'][0]['description']}).\\n\\\r\n",
    "The temperature is {current['temp']}°C and it feels like {current['feels_like']}°C.\\n\\\r\n",
    "The UV index is {current['uvi']}, humidity is {current['humidity']}%.\\n\\\r\n",
    "The pressure is {current['pressure']} hPa, percentage of cloud cover is {current['clouds']}%\\n\\\r\n",
    "The wind comes from {degrees_to_cardinal(current['wind_deg'])} direction with a speed {current['wind_speed']} m/s.\")"
   ]
  },
  {
   "cell_type": "code",
   "execution_count": 8,
   "metadata": {
    "execution": {
     "iopub.execute_input": "2021-09-08T19:12:42.429847Z",
     "iopub.status.busy": "2021-09-08T19:12:42.429443Z",
     "iopub.status.idle": "2021-09-08T19:12:42.434201Z",
     "shell.execute_reply": "2021-09-08T19:12:42.434581Z"
    }
   },
   "outputs": [],
   "source": [
    "df_hourly = pd.DataFrame(data['hourly'])\r\n",
    "df_daily = pd.DataFrame(data['daily'])"
   ]
  },
  {
   "cell_type": "code",
   "execution_count": 9,
   "metadata": {
    "execution": {
     "iopub.execute_input": "2021-09-08T19:12:42.436603Z",
     "iopub.status.busy": "2021-09-08T19:12:42.436204Z",
     "iopub.status.idle": "2021-09-08T19:12:42.651281Z",
     "shell.execute_reply": "2021-09-08T19:12:42.651623Z"
    }
   },
   "outputs": [
    {
     "data": {
      "image/png": "[encoded data removed]",
      "text/plain": [
       "<Figure size 864x432 with 1 Axes>"
      ]
     },
     "metadata": {
      "needs_background": "light"
     },
     "output_type": "display_data"
    }
   ],
   "source": [
    "fig, ax = plt.subplots(figsize=(12, 6))\r\n",
    "plt.plot(df_hourly.temp, '.-', label='Temperature')\r\n",
    "plt.plot(df_hourly.feels_like, '.-', label='Feels Like')\r\n",
    "ax.set(title='Temperature in future 48 hours', xlabel='Time', ylabel='Temperature')\r\n",
    "ax.set_xticks(list(range(0, len(df_hourly), 2)))\r\n",
    "ax.set_xticklabels([ts2dt(ts, '%m-%d %H:%M')[0] for i, ts in enumerate(df_hourly.dt) if i%2==0], \r\n",
    "                   rotation=45, ha=\"right\")\r\n",
    "ax.locator_params(nbins=15, axis='y')\r\n",
    "plt.legend()\r\n",
    "plt.show()"
   ]
  },
  {
   "cell_type": "code",
   "execution_count": 10,
   "metadata": {
    "execution": {
     "iopub.execute_input": "2021-09-08T19:12:42.662538Z",
     "iopub.status.busy": "2021-09-08T19:12:42.655448Z",
     "iopub.status.idle": "2021-09-08T19:12:42.672424Z",
     "shell.execute_reply": "2021-09-08T19:12:42.672918Z"
    }
   },
   "outputs": [
    {
     "data": {
      "text/html": [
       "<div>\n",
       "<style scoped>\n",
       "    .dataframe tbody tr th:only-of-type {\n",
       "        vertical-align: middle;\n",
       "    }\n",
       "\n",
       "    .dataframe tbody tr th {\n",
       "        vertical-align: top;\n",
       "    }\n",
       "\n",
       "    .dataframe thead th {\n",
       "        text-align: right;\n",
       "    }\n",
       "</style>\n",
       "<table border=\"1\" class=\"dataframe\">\n",
       "  <thead>\n",
       "    <tr style=\"text-align: right;\">\n",
       "      <th></th>\n",
       "      <th>dt</th>\n",
       "      <th>temp</th>\n",
       "      <th>feels_like</th>\n",
       "      <th>pressure</th>\n",
       "      <th>humidity</th>\n",
       "      <th>dew_point</th>\n",
       "      <th>uvi</th>\n",
       "      <th>clouds</th>\n",
       "      <th>visibility</th>\n",
       "      <th>wind_speed</th>\n",
       "      <th>wind_deg</th>\n",
       "      <th>wind_gust</th>\n",
       "      <th>weather</th>\n",
       "      <th>pop</th>\n",
       "      <th>rain</th>\n",
       "    </tr>\n",
       "  </thead>\n",
       "  <tbody>\n",
       "    <tr>\n",
       "      <th>0</th>\n",
       "      <td>1631127600</td>\n",
       "      <td>29.15</td>\n",
       "      <td>34.50</td>\n",
       "      <td>1009</td>\n",
       "      <td>77</td>\n",
       "      <td>24.70</td>\n",
       "      <td>0.00</td>\n",
       "      <td>20</td>\n",
       "      <td>10000</td>\n",
       "      <td>0.99</td>\n",
       "      <td>86</td>\n",
       "      <td>1.18</td>\n",
       "      <td>[{'id': 801, 'main': 'Clouds', 'description': ...</td>\n",
       "      <td>0.35</td>\n",
       "      <td>NaN</td>\n",
       "    </tr>\n",
       "    <tr>\n",
       "      <th>1</th>\n",
       "      <td>1631131200</td>\n",
       "      <td>28.84</td>\n",
       "      <td>33.69</td>\n",
       "      <td>1009</td>\n",
       "      <td>77</td>\n",
       "      <td>24.40</td>\n",
       "      <td>0.00</td>\n",
       "      <td>24</td>\n",
       "      <td>10000</td>\n",
       "      <td>1.04</td>\n",
       "      <td>75</td>\n",
       "      <td>1.30</td>\n",
       "      <td>[{'id': 500, 'main': 'Rain', 'description': 'l...</td>\n",
       "      <td>0.38</td>\n",
       "      <td>{'1h': 0.15}</td>\n",
       "    </tr>\n",
       "    <tr>\n",
       "      <th>2</th>\n",
       "      <td>1631134800</td>\n",
       "      <td>28.49</td>\n",
       "      <td>32.82</td>\n",
       "      <td>1009</td>\n",
       "      <td>77</td>\n",
       "      <td>24.06</td>\n",
       "      <td>0.00</td>\n",
       "      <td>24</td>\n",
       "      <td>10000</td>\n",
       "      <td>0.91</td>\n",
       "      <td>59</td>\n",
       "      <td>1.04</td>\n",
       "      <td>[{'id': 500, 'main': 'Rain', 'description': 'l...</td>\n",
       "      <td>0.39</td>\n",
       "      <td>{'1h': 0.12}</td>\n",
       "    </tr>\n",
       "    <tr>\n",
       "      <th>3</th>\n",
       "      <td>1631138400</td>\n",
       "      <td>28.05</td>\n",
       "      <td>31.91</td>\n",
       "      <td>1010</td>\n",
       "      <td>78</td>\n",
       "      <td>23.85</td>\n",
       "      <td>0.00</td>\n",
       "      <td>32</td>\n",
       "      <td>10000</td>\n",
       "      <td>1.58</td>\n",
       "      <td>76</td>\n",
       "      <td>1.77</td>\n",
       "      <td>[{'id': 802, 'main': 'Clouds', 'description': ...</td>\n",
       "      <td>0.51</td>\n",
       "      <td>NaN</td>\n",
       "    </tr>\n",
       "    <tr>\n",
       "      <th>4</th>\n",
       "      <td>1631142000</td>\n",
       "      <td>27.97</td>\n",
       "      <td>31.58</td>\n",
       "      <td>1010</td>\n",
       "      <td>77</td>\n",
       "      <td>23.56</td>\n",
       "      <td>0.27</td>\n",
       "      <td>42</td>\n",
       "      <td>10000</td>\n",
       "      <td>1.87</td>\n",
       "      <td>74</td>\n",
       "      <td>2.22</td>\n",
       "      <td>[{'id': 500, 'main': 'Rain', 'description': 'l...</td>\n",
       "      <td>0.67</td>\n",
       "      <td>{'1h': 0.13}</td>\n",
       "    </tr>\n",
       "  </tbody>\n",
       "</table>\n",
       "</div>"
      ],
      "text/plain": [
       "           dt   temp  feels_like  pressure  humidity  dew_point   uvi  clouds  \\\n",
       "0  1631127600  29.15       34.50      1009        77      24.70  0.00      20   \n",
       "1  1631131200  28.84       33.69      1009        77      24.40  0.00      24   \n",
       "2  1631134800  28.49       32.82      1009        77      24.06  0.00      24   \n",
       "3  1631138400  28.05       31.91      1010        78      23.85  0.00      32   \n",
       "4  1631142000  27.97       31.58      1010        77      23.56  0.27      42   \n",
       "\n",
       "   visibility  wind_speed  wind_deg  wind_gust  \\\n",
       "0       10000        0.99        86       1.18   \n",
       "1       10000        1.04        75       1.30   \n",
       "2       10000        0.91        59       1.04   \n",
       "3       10000        1.58        76       1.77   \n",
       "4       10000        1.87        74       2.22   \n",
       "\n",
       "                                             weather   pop          rain  \n",
       "0  [{'id': 801, 'main': 'Clouds', 'description': ...  0.35           NaN  \n",
       "1  [{'id': 500, 'main': 'Rain', 'description': 'l...  0.38  {'1h': 0.15}  \n",
       "2  [{'id': 500, 'main': 'Rain', 'description': 'l...  0.39  {'1h': 0.12}  \n",
       "3  [{'id': 802, 'main': 'Clouds', 'description': ...  0.51           NaN  \n",
       "4  [{'id': 500, 'main': 'Rain', 'description': 'l...  0.67  {'1h': 0.13}  "
      ]
     },
     "execution_count": 10,
     "metadata": {},
     "output_type": "execute_result"
    }
   ],
   "source": [
    "df_hourly.head()"
   ]
  },
  {
   "cell_type": "code",
   "execution_count": null,
   "metadata": {},
   "outputs": [],
   "source": []
  }
 ],
 "metadata": {
  "interpreter": {
   "hash": "c1b4cfe941b6d2466ad1fb5979e97da9cda8801728c8091b097ab734208fc00c"
  },
  "kernelspec": {
   "display_name": "Python 3.8.3 64-bit ('base': conda)",
   "name": "python3"
  },
  "language_info": {
   "codemirror_mode": {
    "name": "ipython",
    "version": 3
   },
   "file_extension": ".py",
   "mimetype": "text/x-python",
   "name": "python",
   "nbconvert_exporter": "python",
   "pygments_lexer": "ipython3",
   "version": "3.8.11"
  }
 },
 "nbformat": 4,
 "nbformat_minor": 2
}
