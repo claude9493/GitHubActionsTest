{
 "cells": [
  {
   "cell_type": "code",
   "execution_count": 1,
   "metadata": {
    "execution": {
     "iopub.execute_input": "2021-09-04T09:14:52.232148Z",
     "iopub.status.busy": "2021-09-04T09:14:52.231487Z",
     "iopub.status.idle": "2021-09-04T09:14:56.798509Z",
     "shell.execute_reply": "2021-09-04T09:14:56.797469Z"
    }
   },
   "outputs": [],
   "source": [
    "import json, yaml, requests\r\n",
    "from datetime import datetime\r\n",
    "from dateutil import tz\r\n",
    "import pandas as pd\r\n",
    "from PIL import Image\r\n",
    "from io import BytesIO\r\n",
    "import matplotlib.pyplot as plt\r\n",
    "import seaborn\r\n",
    "\r\n",
    "CONFIG_PATH = \"../config/config.yaml\""
   ]
  },
  {
   "cell_type": "code",
   "execution_count": 2,
   "metadata": {
    "execution": {
     "iopub.execute_input": "2021-09-04T09:14:56.806388Z",
     "iopub.status.busy": "2021-09-04T09:14:56.803234Z",
     "iopub.status.idle": "2021-09-04T09:14:56.808994Z",
     "shell.execute_reply": "2021-09-04T09:14:56.809444Z"
    }
   },
   "outputs": [],
   "source": [
    "with open('../newest_ts', 'r') as f:\r\n",
    "    newest_ts = f.read()\r\n",
    "\r\n",
    "data_path = f\"../data/data_{newest_ts}.json\"\r\n",
    "with open(data_path, 'r') as f:\r\n",
    "    data = json.load(f)\r\n",
    "\r\n",
    "with open(CONFIG_PATH, \"r\") as stream:\r\n",
    "    config = yaml.safe_load(stream)\r\n",
    "\r\n",
    "TIME_ZONE = config['time_zone']\r\n",
    "DATETIME_FORMAT = config['dt_format']"
   ]
  },
  {
   "cell_type": "code",
   "execution_count": 3,
   "metadata": {
    "execution": {
     "iopub.execute_input": "2021-09-04T09:14:56.814538Z",
     "iopub.status.busy": "2021-09-04T09:14:56.813950Z",
     "iopub.status.idle": "2021-09-04T09:14:56.863418Z",
     "shell.execute_reply": "2021-09-04T09:14:56.863982Z"
    }
   },
   "outputs": [
    {
     "name": "stdout",
     "output_type": "stream",
     "text": [
      "Recent query happens at 2021-09-04 17:14:48 (CST).\n"
     ]
    }
   ],
   "source": [
    "def ts2dt(ts, format=DATETIME_FORMAT):\r\n",
    "    dt = (datetime.utcfromtimestamp(int(ts))\r\n",
    "                    .replace(tzinfo=tz.tzutc())\r\n",
    "                    # .astimezone(tz.tzlocal())\r\n",
    "                    .astimezone(tz.gettz(TIME_ZONE)))\r\n",
    "    return dt.strftime(format), dt\r\n",
    "\r\n",
    "_, newest_dt = ts2dt(newest_ts)\r\n",
    "print(f\"Recent query happens at {newest_dt.strftime(DATETIME_FORMAT)} ({newest_dt.tzname()}).\")"
   ]
  },
  {
   "cell_type": "code",
   "execution_count": 4,
   "metadata": {
    "execution": {
     "iopub.execute_input": "2021-09-04T09:14:56.869424Z",
     "iopub.status.busy": "2021-09-04T09:14:56.868644Z",
     "iopub.status.idle": "2021-09-04T09:14:56.870119Z",
     "shell.execute_reply": "2021-09-04T09:14:56.870652Z"
    }
   },
   "outputs": [],
   "source": [
    "def degrees_to_cardinal(d):\r\n",
    "  dirs = ['N', 'NNE', 'NE', 'ENE', 'E', 'ESE', 'SE', 'SSE', 'S', 'SSW', 'SW', 'WSW', 'W', 'WNW', 'NW', 'NNW']\r\n",
    "  ix = int(round(d / (360. / len(dirs))))\r\n",
    "  return dirs[ix % len(dirs)]"
   ]
  },
  {
   "cell_type": "code",
   "execution_count": 5,
   "metadata": {
    "execution": {
     "iopub.execute_input": "2021-09-04T09:14:56.876033Z",
     "iopub.status.busy": "2021-09-04T09:14:56.874582Z",
     "iopub.status.idle": "2021-09-04T09:14:56.876775Z",
     "shell.execute_reply": "2021-09-04T09:14:56.877247Z"
    }
   },
   "outputs": [],
   "source": [
    "# data.keys()"
   ]
  },
  {
   "cell_type": "code",
   "execution_count": 6,
   "metadata": {
    "execution": {
     "iopub.execute_input": "2021-09-04T09:14:56.881166Z",
     "iopub.status.busy": "2021-09-04T09:14:56.880505Z",
     "iopub.status.idle": "2021-09-04T09:14:56.882135Z",
     "shell.execute_reply": "2021-09-04T09:14:56.882576Z"
    }
   },
   "outputs": [],
   "source": [
    "# data['current']"
   ]
  },
  {
   "cell_type": "code",
   "execution_count": 7,
   "metadata": {
    "execution": {
     "iopub.execute_input": "2021-09-04T09:14:56.889439Z",
     "iopub.status.busy": "2021-09-04T09:14:56.884747Z",
     "iopub.status.idle": "2021-09-04T09:14:57.535976Z",
     "shell.execute_reply": "2021-09-04T09:14:57.536846Z"
    }
   },
   "outputs": [
    {
     "data": {
      "image/png": "[encoded data removed]",
      "text/plain": [
       "<Figure size 216x216 with 1 Axes>"
      ]
     },
     "metadata": {
      "needs_background": "light"
     },
     "output_type": "display_data"
    },
    {
     "name": "stdout",
     "output_type": "stream",
     "text": [
      "Today, sun rises at 06:06 and sets at 18:37.\n",
      "Currently, the weather is Clear (clear sky).\n",
      "The temperature is 31.75°C and it feels like 38.75°C.\n",
      "The UV index is 1.18, humidity is 69%.\n",
      "The pressure is 1007 hPa, percentage of cloud cover is 3%\n",
      "The wind comes from ESE direction with a speed 3.64 m/s.\n"
     ]
    }
   ],
   "source": [
    "current = data['current']\r\n",
    "\r\n",
    "fig, ax = plt.subplots(figsize=(3, 3))\r\n",
    "icon = requests.get(f\"http://openweathermap.org/img/wn/{current['weather'][0]['icon']}@2x.png\")\r\n",
    "im = Image.open(BytesIO(icon.content))\r\n",
    "plt.imshow(im)\r\n",
    "ax.set_axis_off()\r\n",
    "plt.show()\r\n",
    "\r\n",
    "print(f\"Today, sun rises at {ts2dt(current['sunrise'], '%H:%M')[0]} \\\r\n",
    "and sets at {ts2dt(current['sunset'], '%H:%M')[0]}.\\n\\\r\n",
    "Currently, the weather is {current['weather'][0]['main']} ({current['weather'][0]['description']}).\\n\\\r\n",
    "The temperature is {current['temp']}°C and it feels like {current['feels_like']}°C.\\n\\\r\n",
    "The UV index is {current['uvi']}, humidity is {current['humidity']}%.\\n\\\r\n",
    "The pressure is {current['pressure']} hPa, percentage of cloud cover is {current['clouds']}%\\n\\\r\n",
    "The wind comes from {degrees_to_cardinal(current['wind_deg'])} direction with a speed {current['wind_speed']} m/s.\")"
   ]
  },
  {
   "cell_type": "code",
   "execution_count": 8,
   "metadata": {
    "execution": {
     "iopub.execute_input": "2021-09-04T09:14:57.540255Z",
     "iopub.status.busy": "2021-09-04T09:14:57.539196Z",
     "iopub.status.idle": "2021-09-04T09:14:57.547800Z",
     "shell.execute_reply": "2021-09-04T09:14:57.548598Z"
    }
   },
   "outputs": [],
   "source": [
    "df_hourly = pd.DataFrame(data['hourly'])\r\n",
    "df_daily = pd.DataFrame(data['daily'])"
   ]
  },
  {
   "cell_type": "code",
   "execution_count": 9,
   "metadata": {
    "execution": {
     "iopub.execute_input": "2021-09-04T09:14:57.552980Z",
     "iopub.status.busy": "2021-09-04T09:14:57.551599Z",
     "iopub.status.idle": "2021-09-04T09:14:57.876820Z",
     "shell.execute_reply": "2021-09-04T09:14:57.876408Z"
    }
   },
   "outputs": [
    {
     "data": {
      "image/png": "[encoded data removed]",
      "text/plain": [
       "<Figure size 864x432 with 1 Axes>"
      ]
     },
     "metadata": {
      "needs_background": "light"
     },
     "output_type": "display_data"
    }
   ],
   "source": [
    "fig, ax = plt.subplots(figsize=(12, 6))\r\n",
    "plt.plot(df_hourly.temp, '.-', label='Temperature')\r\n",
    "plt.plot(df_hourly.feels_like, '.-', label='Feels Like')\r\n",
    "ax.set(title='Temperature in future 48 hours', xlabel='Time', ylabel='Temperature')\r\n",
    "ax.set_xticks(list(range(0, len(df_hourly), 2)))\r\n",
    "ax.set_xticklabels([ts2dt(ts, '%m-%d %H:%M')[0] for i, ts in enumerate(df_hourly.dt) if i%2==0], \r\n",
    "                   rotation=45, ha=\"right\")\r\n",
    "ax.locator_params(nbins=15, axis='y')\r\n",
    "plt.legend()\r\n",
    "plt.show()"
   ]
  },
  {
   "cell_type": "code",
   "execution_count": 10,
   "metadata": {
    "execution": {
     "iopub.execute_input": "2021-09-04T09:14:57.881308Z",
     "iopub.status.busy": "2021-09-04T09:14:57.880781Z",
     "iopub.status.idle": "2021-09-04T09:14:57.900741Z",
     "shell.execute_reply": "2021-09-04T09:14:57.900261Z"
    }
   },
   "outputs": [
    {
     "data": {
      "text/html": [
       "<div>\n",
       "<style scoped>\n",
       "    .dataframe tbody tr th:only-of-type {\n",
       "        vertical-align: middle;\n",
       "    }\n",
       "\n",
       "    .dataframe tbody tr th {\n",
       "        vertical-align: top;\n",
       "    }\n",
       "\n",
       "    .dataframe thead th {\n",
       "        text-align: right;\n",
       "    }\n",
       "</style>\n",
       "<table border=\"1\" class=\"dataframe\">\n",
       "  <thead>\n",
       "    <tr style=\"text-align: right;\">\n",
       "      <th></th>\n",
       "      <th>dt</th>\n",
       "      <th>temp</th>\n",
       "      <th>feels_like</th>\n",
       "      <th>pressure</th>\n",
       "      <th>humidity</th>\n",
       "      <th>dew_point</th>\n",
       "      <th>uvi</th>\n",
       "      <th>clouds</th>\n",
       "      <th>visibility</th>\n",
       "      <th>wind_speed</th>\n",
       "      <th>wind_deg</th>\n",
       "      <th>wind_gust</th>\n",
       "      <th>weather</th>\n",
       "      <th>pop</th>\n",
       "      <th>rain</th>\n",
       "    </tr>\n",
       "  </thead>\n",
       "  <tbody>\n",
       "    <tr>\n",
       "      <th>0</th>\n",
       "      <td>1630746000</td>\n",
       "      <td>31.75</td>\n",
       "      <td>38.75</td>\n",
       "      <td>1007</td>\n",
       "      <td>69</td>\n",
       "      <td>25.36</td>\n",
       "      <td>1.18</td>\n",
       "      <td>3</td>\n",
       "      <td>10000</td>\n",
       "      <td>3.64</td>\n",
       "      <td>109</td>\n",
       "      <td>4.02</td>\n",
       "      <td>[{'id': 800, 'main': 'Clear', 'description': '...</td>\n",
       "      <td>0.0</td>\n",
       "      <td>NaN</td>\n",
       "    </tr>\n",
       "    <tr>\n",
       "      <th>1</th>\n",
       "      <td>1630749600</td>\n",
       "      <td>31.19</td>\n",
       "      <td>38.11</td>\n",
       "      <td>1007</td>\n",
       "      <td>70</td>\n",
       "      <td>25.06</td>\n",
       "      <td>0.20</td>\n",
       "      <td>3</td>\n",
       "      <td>10000</td>\n",
       "      <td>3.59</td>\n",
       "      <td>112</td>\n",
       "      <td>4.45</td>\n",
       "      <td>[{'id': 800, 'main': 'Clear', 'description': '...</td>\n",
       "      <td>0.0</td>\n",
       "      <td>NaN</td>\n",
       "    </tr>\n",
       "    <tr>\n",
       "      <th>2</th>\n",
       "      <td>1630753200</td>\n",
       "      <td>30.41</td>\n",
       "      <td>36.88</td>\n",
       "      <td>1007</td>\n",
       "      <td>73</td>\n",
       "      <td>25.02</td>\n",
       "      <td>0.00</td>\n",
       "      <td>3</td>\n",
       "      <td>10000</td>\n",
       "      <td>3.56</td>\n",
       "      <td>124</td>\n",
       "      <td>4.75</td>\n",
       "      <td>[{'id': 800, 'main': 'Clear', 'description': '...</td>\n",
       "      <td>0.0</td>\n",
       "      <td>NaN</td>\n",
       "    </tr>\n",
       "    <tr>\n",
       "      <th>3</th>\n",
       "      <td>1630756800</td>\n",
       "      <td>29.65</td>\n",
       "      <td>35.36</td>\n",
       "      <td>1008</td>\n",
       "      <td>75</td>\n",
       "      <td>24.74</td>\n",
       "      <td>0.00</td>\n",
       "      <td>2</td>\n",
       "      <td>10000</td>\n",
       "      <td>3.43</td>\n",
       "      <td>125</td>\n",
       "      <td>4.71</td>\n",
       "      <td>[{'id': 800, 'main': 'Clear', 'description': '...</td>\n",
       "      <td>0.0</td>\n",
       "      <td>NaN</td>\n",
       "    </tr>\n",
       "    <tr>\n",
       "      <th>4</th>\n",
       "      <td>1630760400</td>\n",
       "      <td>28.90</td>\n",
       "      <td>34.05</td>\n",
       "      <td>1009</td>\n",
       "      <td>78</td>\n",
       "      <td>24.68</td>\n",
       "      <td>0.00</td>\n",
       "      <td>1</td>\n",
       "      <td>10000</td>\n",
       "      <td>3.26</td>\n",
       "      <td>119</td>\n",
       "      <td>4.62</td>\n",
       "      <td>[{'id': 800, 'main': 'Clear', 'description': '...</td>\n",
       "      <td>0.0</td>\n",
       "      <td>NaN</td>\n",
       "    </tr>\n",
       "  </tbody>\n",
       "</table>\n",
       "</div>"
      ],
      "text/plain": [
       "           dt   temp  feels_like  pressure  humidity  dew_point   uvi  clouds  \\\n",
       "0  1630746000  31.75       38.75      1007        69      25.36  1.18       3   \n",
       "1  1630749600  31.19       38.11      1007        70      25.06  0.20       3   \n",
       "2  1630753200  30.41       36.88      1007        73      25.02  0.00       3   \n",
       "3  1630756800  29.65       35.36      1008        75      24.74  0.00       2   \n",
       "4  1630760400  28.90       34.05      1009        78      24.68  0.00       1   \n",
       "\n",
       "   visibility  wind_speed  wind_deg  wind_gust  \\\n",
       "0       10000        3.64       109       4.02   \n",
       "1       10000        3.59       112       4.45   \n",
       "2       10000        3.56       124       4.75   \n",
       "3       10000        3.43       125       4.71   \n",
       "4       10000        3.26       119       4.62   \n",
       "\n",
       "                                             weather  pop rain  \n",
       "0  [{'id': 800, 'main': 'Clear', 'description': '...  0.0  NaN  \n",
       "1  [{'id': 800, 'main': 'Clear', 'description': '...  0.0  NaN  \n",
       "2  [{'id': 800, 'main': 'Clear', 'description': '...  0.0  NaN  \n",
       "3  [{'id': 800, 'main': 'Clear', 'description': '...  0.0  NaN  \n",
       "4  [{'id': 800, 'main': 'Clear', 'description': '...  0.0  NaN  "
      ]
     },
     "execution_count": 10,
     "metadata": {},
     "output_type": "execute_result"
    }
   ],
   "source": [
    "df_hourly.head()"
   ]
  },
  {
   "cell_type": "code",
   "execution_count": null,
   "metadata": {},
   "outputs": [],
   "source": []
  }
 ],
 "metadata": {
  "interpreter": {
   "hash": "c1b4cfe941b6d2466ad1fb5979e97da9cda8801728c8091b097ab734208fc00c"
  },
  "kernelspec": {
   "display_name": "Python 3.8.3 64-bit ('base': conda)",
   "name": "python3"
  },
  "language_info": {
   "codemirror_mode": {
    "name": "ipython",
    "version": 3
   },
   "file_extension": ".py",
   "mimetype": "text/x-python",
   "name": "python",
   "nbconvert_exporter": "python",
   "pygments_lexer": "ipython3",
   "version": "3.8.11"
  }
 },
 "nbformat": 4,
 "nbformat_minor": 2
}
