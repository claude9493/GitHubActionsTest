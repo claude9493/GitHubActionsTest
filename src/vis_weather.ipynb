{
 "cells": [
  {
   "cell_type": "code",
   "execution_count": 1,
   "metadata": {
    "execution": {
     "iopub.execute_input": "2021-09-24T23:11:54.727551Z",
     "iopub.status.busy": "2021-09-24T23:11:54.726711Z",
     "iopub.status.idle": "2021-09-24T23:11:56.593730Z",
     "shell.execute_reply": "2021-09-24T23:11:56.593129Z"
    }
   },
   "outputs": [],
   "source": [
    "import json, yaml, requests\r\n",
    "from datetime import datetime\r\n",
    "from dateutil import tz\r\n",
    "import pandas as pd\r\n",
    "from PIL import Image\r\n",
    "from io import BytesIO\r\n",
    "import matplotlib.pyplot as plt\r\n",
    "import seaborn\r\n",
    "\r\n",
    "CONFIG_PATH = \"../config/config.yaml\""
   ]
  },
  {
   "cell_type": "code",
   "execution_count": 2,
   "metadata": {
    "execution": {
     "iopub.execute_input": "2021-09-24T23:11:56.600215Z",
     "iopub.status.busy": "2021-09-24T23:11:56.599500Z",
     "iopub.status.idle": "2021-09-24T23:11:56.604868Z",
     "shell.execute_reply": "2021-09-24T23:11:56.605307Z"
    }
   },
   "outputs": [],
   "source": [
    "with open('../newest_ts', 'r') as f:\r\n",
    "    newest_ts = f.read()\r\n",
    "\r\n",
    "data_path = f\"../data/data_{newest_ts}.json\"\r\n",
    "with open(data_path, 'r') as f:\r\n",
    "    data = json.load(f)\r\n",
    "\r\n",
    "with open(CONFIG_PATH, \"r\") as stream:\r\n",
    "    config = yaml.safe_load(stream)\r\n",
    "\r\n",
    "TIME_ZONE = config['time_zone']\r\n",
    "DATETIME_FORMAT = config['dt_format']"
   ]
  },
  {
   "cell_type": "code",
   "execution_count": 3,
   "metadata": {
    "execution": {
     "iopub.execute_input": "2021-09-24T23:11:56.611475Z",
     "iopub.status.busy": "2021-09-24T23:11:56.610725Z",
     "iopub.status.idle": "2021-09-24T23:11:56.616458Z",
     "shell.execute_reply": "2021-09-24T23:11:56.616997Z"
    }
   },
   "outputs": [
    {
     "name": "stdout",
     "output_type": "stream",
     "text": [
      "Recent query happens at 2021-09-25 07:11:51 (CST).\n"
     ]
    }
   ],
   "source": [
    "def ts2dt(ts, format=DATETIME_FORMAT):\r\n",
    "    dt = (datetime.utcfromtimestamp(int(ts))\r\n",
    "                    .replace(tzinfo=tz.tzutc())\r\n",
    "                    # .astimezone(tz.tzlocal())\r\n",
    "                    .astimezone(tz.gettz(TIME_ZONE)))\r\n",
    "    return dt.strftime(format), dt\r\n",
    "\r\n",
    "_, newest_dt = ts2dt(newest_ts)\r\n",
    "print(f\"Recent query happens at {newest_dt.strftime(DATETIME_FORMAT)} ({newest_dt.tzname()}).\")"
   ]
  },
  {
   "cell_type": "code",
   "execution_count": 4,
   "metadata": {
    "execution": {
     "iopub.execute_input": "2021-09-24T23:11:56.622520Z",
     "iopub.status.busy": "2021-09-24T23:11:56.619453Z",
     "iopub.status.idle": "2021-09-24T23:11:56.625655Z",
     "shell.execute_reply": "2021-09-24T23:11:56.626146Z"
    }
   },
   "outputs": [],
   "source": [
    "def degrees_to_cardinal(d):\r\n",
    "  dirs = ['N', 'NNE', 'NE', 'ENE', 'E', 'ESE', 'SE', 'SSE', 'S', 'SSW', 'SW', 'WSW', 'W', 'WNW', 'NW', 'NNW']\r\n",
    "  ix = int(round(d / (360. / len(dirs))))\r\n",
    "  return dirs[ix % len(dirs)]"
   ]
  },
  {
   "cell_type": "code",
   "execution_count": 5,
   "metadata": {
    "execution": {
     "iopub.execute_input": "2021-09-24T23:11:56.631175Z",
     "iopub.status.busy": "2021-09-24T23:11:56.630247Z",
     "iopub.status.idle": "2021-09-24T23:11:56.634442Z",
     "shell.execute_reply": "2021-09-24T23:11:56.633878Z"
    }
   },
   "outputs": [],
   "source": [
    "# data.keys()"
   ]
  },
  {
   "cell_type": "code",
   "execution_count": 6,
   "metadata": {
    "execution": {
     "iopub.execute_input": "2021-09-24T23:11:56.639309Z",
     "iopub.status.busy": "2021-09-24T23:11:56.638656Z",
     "iopub.status.idle": "2021-09-24T23:11:56.642535Z",
     "shell.execute_reply": "2021-09-24T23:11:56.641627Z"
    }
   },
   "outputs": [],
   "source": [
    "# data['current']"
   ]
  },
  {
   "cell_type": "code",
   "execution_count": 7,
   "metadata": {
    "execution": {
     "iopub.execute_input": "2021-09-24T23:11:56.651280Z",
     "iopub.status.busy": "2021-09-24T23:11:56.650372Z",
     "iopub.status.idle": "2021-09-24T23:11:57.097542Z",
     "shell.execute_reply": "2021-09-24T23:11:57.098370Z"
    }
   },
   "outputs": [
    {
     "data": {
      "image/png": "[encoded data removed]",
      "text/plain": [
       "<Figure size 216x216 with 1 Axes>"
      ]
     },
     "metadata": {
      "needs_background": "light"
     },
     "output_type": "display_data"
    },
    {
     "name": "stdout",
     "output_type": "stream",
     "text": [
      "Today, sun rises at 06:12 and sets at 18:16.\n",
      "Currently, the weather is Clouds (scattered clouds).\n",
      "The temperature is 28.32°C and it feels like 33.27°C.\n",
      "The UV index is 0.18, humidity is 82%.\n",
      "The pressure is 1011 hPa, percentage of cloud cover is 38%\n",
      "The wind comes from NNW direction with a speed 0.45 m/s.\n"
     ]
    }
   ],
   "source": [
    "current = data['current']\r\n",
    "\r\n",
    "fig, ax = plt.subplots(figsize=(3, 3))\r\n",
    "icon = requests.get(f\"http://openweathermap.org/img/wn/{current['weather'][0]['icon']}@2x.png\")\r\n",
    "im = Image.open(BytesIO(icon.content))\r\n",
    "plt.imshow(im)\r\n",
    "ax.set_axis_off()\r\n",
    "plt.show()\r\n",
    "\r\n",
    "print(f\"Today, sun rises at {ts2dt(current['sunrise'], '%H:%M')[0]} \\\r\n",
    "and sets at {ts2dt(current['sunset'], '%H:%M')[0]}.\\n\\\r\n",
    "Currently, the weather is {current['weather'][0]['main']} ({current['weather'][0]['description']}).\\n\\\r\n",
    "The temperature is {current['temp']}°C and it feels like {current['feels_like']}°C.\\n\\\r\n",
    "The UV index is {current['uvi']}, humidity is {current['humidity']}%.\\n\\\r\n",
    "The pressure is {current['pressure']} hPa, percentage of cloud cover is {current['clouds']}%\\n\\\r\n",
    "The wind comes from {degrees_to_cardinal(current['wind_deg'])} direction with a speed {current['wind_speed']} m/s.\")"
   ]
  },
  {
   "cell_type": "code",
   "execution_count": 8,
   "metadata": {
    "execution": {
     "iopub.execute_input": "2021-09-24T23:11:57.102299Z",
     "iopub.status.busy": "2021-09-24T23:11:57.101234Z",
     "iopub.status.idle": "2021-09-24T23:11:57.109937Z",
     "shell.execute_reply": "2021-09-24T23:11:57.110758Z"
    }
   },
   "outputs": [],
   "source": [
    "df_hourly = pd.DataFrame(data['hourly'])\r\n",
    "df_daily = pd.DataFrame(data['daily'])"
   ]
  },
  {
   "cell_type": "code",
   "execution_count": 9,
   "metadata": {
    "execution": {
     "iopub.execute_input": "2021-09-24T23:11:57.115024Z",
     "iopub.status.busy": "2021-09-24T23:11:57.113753Z",
     "iopub.status.idle": "2021-09-24T23:11:57.440985Z",
     "shell.execute_reply": "2021-09-24T23:11:57.440306Z"
    }
   },
   "outputs": [
    {
     "data": {
      "image/png": "[encoded data removed]",
      "text/plain": [
       "<Figure size 864x432 with 1 Axes>"
      ]
     },
     "metadata": {
      "needs_background": "light"
     },
     "output_type": "display_data"
    }
   ],
   "source": [
    "fig, ax = plt.subplots(figsize=(12, 6))\r\n",
    "plt.plot(df_hourly.temp, '.-', label='Temperature')\r\n",
    "plt.plot(df_hourly.feels_like, '.-', label='Feels Like')\r\n",
    "ax.set(title='Temperature in future 48 hours', xlabel='Time', ylabel='Temperature')\r\n",
    "ax.set_xticks(list(range(0, len(df_hourly), 2)))\r\n",
    "ax.set_xticklabels([ts2dt(ts, '%m-%d %H:%M')[0] for i, ts in enumerate(df_hourly.dt) if i%2==0], \r\n",
    "                   rotation=45, ha=\"right\")\r\n",
    "ax.locator_params(nbins=15, axis='y')\r\n",
    "plt.legend()\r\n",
    "plt.show()"
   ]
  },
  {
   "cell_type": "code",
   "execution_count": 10,
   "metadata": {
    "execution": {
     "iopub.execute_input": "2021-09-24T23:11:57.455868Z",
     "iopub.status.busy": "2021-09-24T23:11:57.444200Z",
     "iopub.status.idle": "2021-09-24T23:11:57.470170Z",
     "shell.execute_reply": "2021-09-24T23:11:57.469558Z"
    }
   },
   "outputs": [
    {
     "data": {
      "text/html": [
       "<div>\n",
       "<style scoped>\n",
       "    .dataframe tbody tr th:only-of-type {\n",
       "        vertical-align: middle;\n",
       "    }\n",
       "\n",
       "    .dataframe tbody tr th {\n",
       "        vertical-align: top;\n",
       "    }\n",
       "\n",
       "    .dataframe thead th {\n",
       "        text-align: right;\n",
       "    }\n",
       "</style>\n",
       "<table border=\"1\" class=\"dataframe\">\n",
       "  <thead>\n",
       "    <tr style=\"text-align: right;\">\n",
       "      <th></th>\n",
       "      <th>dt</th>\n",
       "      <th>temp</th>\n",
       "      <th>feels_like</th>\n",
       "      <th>pressure</th>\n",
       "      <th>humidity</th>\n",
       "      <th>dew_point</th>\n",
       "      <th>uvi</th>\n",
       "      <th>clouds</th>\n",
       "      <th>visibility</th>\n",
       "      <th>wind_speed</th>\n",
       "      <th>wind_deg</th>\n",
       "      <th>wind_gust</th>\n",
       "      <th>weather</th>\n",
       "      <th>pop</th>\n",
       "      <th>rain</th>\n",
       "    </tr>\n",
       "  </thead>\n",
       "  <tbody>\n",
       "    <tr>\n",
       "      <th>0</th>\n",
       "      <td>1632524400</td>\n",
       "      <td>28.32</td>\n",
       "      <td>33.27</td>\n",
       "      <td>1011</td>\n",
       "      <td>82</td>\n",
       "      <td>24.95</td>\n",
       "      <td>0.18</td>\n",
       "      <td>38</td>\n",
       "      <td>10000</td>\n",
       "      <td>7.03</td>\n",
       "      <td>70</td>\n",
       "      <td>9.38</td>\n",
       "      <td>[{'id': 500, 'main': 'Rain', 'description': 'l...</td>\n",
       "      <td>0.49</td>\n",
       "      <td>{'1h': 0.13}</td>\n",
       "    </tr>\n",
       "    <tr>\n",
       "      <th>1</th>\n",
       "      <td>1632528000</td>\n",
       "      <td>28.17</td>\n",
       "      <td>32.69</td>\n",
       "      <td>1011</td>\n",
       "      <td>81</td>\n",
       "      <td>24.60</td>\n",
       "      <td>1.05</td>\n",
       "      <td>40</td>\n",
       "      <td>10000</td>\n",
       "      <td>7.03</td>\n",
       "      <td>69</td>\n",
       "      <td>9.39</td>\n",
       "      <td>[{'id': 802, 'main': 'Clouds', 'description': ...</td>\n",
       "      <td>0.49</td>\n",
       "      <td>NaN</td>\n",
       "    </tr>\n",
       "    <tr>\n",
       "      <th>2</th>\n",
       "      <td>1632531600</td>\n",
       "      <td>28.20</td>\n",
       "      <td>32.60</td>\n",
       "      <td>1012</td>\n",
       "      <td>80</td>\n",
       "      <td>24.42</td>\n",
       "      <td>3.02</td>\n",
       "      <td>51</td>\n",
       "      <td>10000</td>\n",
       "      <td>7.20</td>\n",
       "      <td>71</td>\n",
       "      <td>9.05</td>\n",
       "      <td>[{'id': 803, 'main': 'Clouds', 'description': ...</td>\n",
       "      <td>0.40</td>\n",
       "      <td>NaN</td>\n",
       "    </tr>\n",
       "    <tr>\n",
       "      <th>3</th>\n",
       "      <td>1632535200</td>\n",
       "      <td>28.49</td>\n",
       "      <td>32.82</td>\n",
       "      <td>1013</td>\n",
       "      <td>77</td>\n",
       "      <td>24.06</td>\n",
       "      <td>5.72</td>\n",
       "      <td>55</td>\n",
       "      <td>10000</td>\n",
       "      <td>7.17</td>\n",
       "      <td>72</td>\n",
       "      <td>8.18</td>\n",
       "      <td>[{'id': 803, 'main': 'Clouds', 'description': ...</td>\n",
       "      <td>0.31</td>\n",
       "      <td>NaN</td>\n",
       "    </tr>\n",
       "    <tr>\n",
       "      <th>4</th>\n",
       "      <td>1632538800</td>\n",
       "      <td>28.77</td>\n",
       "      <td>32.95</td>\n",
       "      <td>1013</td>\n",
       "      <td>74</td>\n",
       "      <td>23.67</td>\n",
       "      <td>8.28</td>\n",
       "      <td>55</td>\n",
       "      <td>10000</td>\n",
       "      <td>7.62</td>\n",
       "      <td>72</td>\n",
       "      <td>8.53</td>\n",
       "      <td>[{'id': 803, 'main': 'Clouds', 'description': ...</td>\n",
       "      <td>0.35</td>\n",
       "      <td>NaN</td>\n",
       "    </tr>\n",
       "  </tbody>\n",
       "</table>\n",
       "</div>"
      ],
      "text/plain": [
       "           dt   temp  feels_like  pressure  humidity  dew_point   uvi  clouds  \\\n",
       "0  1632524400  28.32       33.27      1011        82      24.95  0.18      38   \n",
       "1  1632528000  28.17       32.69      1011        81      24.60  1.05      40   \n",
       "2  1632531600  28.20       32.60      1012        80      24.42  3.02      51   \n",
       "3  1632535200  28.49       32.82      1013        77      24.06  5.72      55   \n",
       "4  1632538800  28.77       32.95      1013        74      23.67  8.28      55   \n",
       "\n",
       "   visibility  wind_speed  wind_deg  wind_gust  \\\n",
       "0       10000        7.03        70       9.38   \n",
       "1       10000        7.03        69       9.39   \n",
       "2       10000        7.20        71       9.05   \n",
       "3       10000        7.17        72       8.18   \n",
       "4       10000        7.62        72       8.53   \n",
       "\n",
       "                                             weather   pop          rain  \n",
       "0  [{'id': 500, 'main': 'Rain', 'description': 'l...  0.49  {'1h': 0.13}  \n",
       "1  [{'id': 802, 'main': 'Clouds', 'description': ...  0.49           NaN  \n",
       "2  [{'id': 803, 'main': 'Clouds', 'description': ...  0.40           NaN  \n",
       "3  [{'id': 803, 'main': 'Clouds', 'description': ...  0.31           NaN  \n",
       "4  [{'id': 803, 'main': 'Clouds', 'description': ...  0.35           NaN  "
      ]
     },
     "execution_count": 10,
     "metadata": {},
     "output_type": "execute_result"
    }
   ],
   "source": [
    "df_hourly.head()"
   ]
  },
  {
   "cell_type": "code",
   "execution_count": null,
   "metadata": {},
   "outputs": [],
   "source": []
  }
 ],
 "metadata": {
  "interpreter": {
   "hash": "c1b4cfe941b6d2466ad1fb5979e97da9cda8801728c8091b097ab734208fc00c"
  },
  "kernelspec": {
   "display_name": "Python 3.8.3 64-bit ('base': conda)",
   "name": "python3"
  },
  "language_info": {
   "codemirror_mode": {
    "name": "ipython",
    "version": 3
   },
   "file_extension": ".py",
   "mimetype": "text/x-python",
   "name": "python",
   "nbconvert_exporter": "python",
   "pygments_lexer": "ipython3",
   "version": "3.8.12"
  }
 },
 "nbformat": 4,
 "nbformat_minor": 2
}
