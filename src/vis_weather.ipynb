{
 "cells": [
  {
   "cell_type": "code",
   "execution_count": 1,
   "metadata": {
    "execution": {
     "iopub.execute_input": "2021-09-14T23:11:27.034976Z",
     "iopub.status.busy": "2021-09-14T23:11:27.034381Z",
     "iopub.status.idle": "2021-09-14T23:11:28.505089Z",
     "shell.execute_reply": "2021-09-14T23:11:28.504499Z"
    }
   },
   "outputs": [],
   "source": [
    "import json, yaml, requests\r\n",
    "from datetime import datetime\r\n",
    "from dateutil import tz\r\n",
    "import pandas as pd\r\n",
    "from PIL import Image\r\n",
    "from io import BytesIO\r\n",
    "import matplotlib.pyplot as plt\r\n",
    "import seaborn\r\n",
    "\r\n",
    "CONFIG_PATH = \"../config/config.yaml\""
   ]
  },
  {
   "cell_type": "code",
   "execution_count": 2,
   "metadata": {
    "execution": {
     "iopub.execute_input": "2021-09-14T23:11:28.510280Z",
     "iopub.status.busy": "2021-09-14T23:11:28.509713Z",
     "iopub.status.idle": "2021-09-14T23:11:28.514419Z",
     "shell.execute_reply": "2021-09-14T23:11:28.513855Z"
    }
   },
   "outputs": [],
   "source": [
    "with open('../newest_ts', 'r') as f:\r\n",
    "    newest_ts = f.read()\r\n",
    "\r\n",
    "data_path = f\"../data/data_{newest_ts}.json\"\r\n",
    "with open(data_path, 'r') as f:\r\n",
    "    data = json.load(f)\r\n",
    "\r\n",
    "with open(CONFIG_PATH, \"r\") as stream:\r\n",
    "    config = yaml.safe_load(stream)\r\n",
    "\r\n",
    "TIME_ZONE = config['time_zone']\r\n",
    "DATETIME_FORMAT = config['dt_format']"
   ]
  },
  {
   "cell_type": "code",
   "execution_count": 3,
   "metadata": {
    "execution": {
     "iopub.execute_input": "2021-09-14T23:11:28.518457Z",
     "iopub.status.busy": "2021-09-14T23:11:28.518003Z",
     "iopub.status.idle": "2021-09-14T23:11:28.526873Z",
     "shell.execute_reply": "2021-09-14T23:11:28.527254Z"
    }
   },
   "outputs": [
    {
     "name": "stdout",
     "output_type": "stream",
     "text": [
      "Recent query happens at 2021-09-15 07:11:23 (CST).\n"
     ]
    }
   ],
   "source": [
    "def ts2dt(ts, format=DATETIME_FORMAT):\r\n",
    "    dt = (datetime.utcfromtimestamp(int(ts))\r\n",
    "                    .replace(tzinfo=tz.tzutc())\r\n",
    "                    # .astimezone(tz.tzlocal())\r\n",
    "                    .astimezone(tz.gettz(TIME_ZONE)))\r\n",
    "    return dt.strftime(format), dt\r\n",
    "\r\n",
    "_, newest_dt = ts2dt(newest_ts)\r\n",
    "print(f\"Recent query happens at {newest_dt.strftime(DATETIME_FORMAT)} ({newest_dt.tzname()}).\")"
   ]
  },
  {
   "cell_type": "code",
   "execution_count": 4,
   "metadata": {
    "execution": {
     "iopub.execute_input": "2021-09-14T23:11:28.534038Z",
     "iopub.status.busy": "2021-09-14T23:11:28.533013Z",
     "iopub.status.idle": "2021-09-14T23:11:28.534547Z",
     "shell.execute_reply": "2021-09-14T23:11:28.534907Z"
    }
   },
   "outputs": [],
   "source": [
    "def degrees_to_cardinal(d):\r\n",
    "  dirs = ['N', 'NNE', 'NE', 'ENE', 'E', 'ESE', 'SE', 'SSE', 'S', 'SSW', 'SW', 'WSW', 'W', 'WNW', 'NW', 'NNW']\r\n",
    "  ix = int(round(d / (360. / len(dirs))))\r\n",
    "  return dirs[ix % len(dirs)]"
   ]
  },
  {
   "cell_type": "code",
   "execution_count": 5,
   "metadata": {
    "execution": {
     "iopub.execute_input": "2021-09-14T23:11:28.538649Z",
     "iopub.status.busy": "2021-09-14T23:11:28.537677Z",
     "iopub.status.idle": "2021-09-14T23:11:28.539690Z",
     "shell.execute_reply": "2021-09-14T23:11:28.539304Z"
    }
   },
   "outputs": [],
   "source": [
    "# data.keys()"
   ]
  },
  {
   "cell_type": "code",
   "execution_count": 6,
   "metadata": {
    "execution": {
     "iopub.execute_input": "2021-09-14T23:11:28.543153Z",
     "iopub.status.busy": "2021-09-14T23:11:28.542160Z",
     "iopub.status.idle": "2021-09-14T23:11:28.543655Z",
     "shell.execute_reply": "2021-09-14T23:11:28.544014Z"
    }
   },
   "outputs": [],
   "source": [
    "# data['current']"
   ]
  },
  {
   "cell_type": "code",
   "execution_count": 7,
   "metadata": {
    "execution": {
     "iopub.execute_input": "2021-09-14T23:11:28.560157Z",
     "iopub.status.busy": "2021-09-14T23:11:28.559689Z",
     "iopub.status.idle": "2021-09-14T23:11:28.963822Z",
     "shell.execute_reply": "2021-09-14T23:11:28.964462Z"
    }
   },
   "outputs": [
    {
     "data": {
      "image/png": "[encoded data removed]",
      "text/plain": [
       "<Figure size 216x216 with 1 Axes>"
      ]
     },
     "metadata": {
      "needs_background": "light"
     },
     "output_type": "display_data"
    },
    {
     "name": "stdout",
     "output_type": "stream",
     "text": [
      "Today, sun rises at 06:09 and sets at 18:27.\n",
      "Currently, the weather is Clouds (overcast clouds).\n",
      "The temperature is 28.68°C and it feels like 33.67°C.\n",
      "The UV index is 0.23, humidity is 79%.\n",
      "The pressure is 1011 hPa, percentage of cloud cover is 94%\n",
      "The wind comes from W direction with a speed 2.17 m/s.\n"
     ]
    }
   ],
   "source": [
    "current = data['current']\r\n",
    "\r\n",
    "fig, ax = plt.subplots(figsize=(3, 3))\r\n",
    "icon = requests.get(f\"http://openweathermap.org/img/wn/{current['weather'][0]['icon']}@2x.png\")\r\n",
    "im = Image.open(BytesIO(icon.content))\r\n",
    "plt.imshow(im)\r\n",
    "ax.set_axis_off()\r\n",
    "plt.show()\r\n",
    "\r\n",
    "print(f\"Today, sun rises at {ts2dt(current['sunrise'], '%H:%M')[0]} \\\r\n",
    "and sets at {ts2dt(current['sunset'], '%H:%M')[0]}.\\n\\\r\n",
    "Currently, the weather is {current['weather'][0]['main']} ({current['weather'][0]['description']}).\\n\\\r\n",
    "The temperature is {current['temp']}°C and it feels like {current['feels_like']}°C.\\n\\\r\n",
    "The UV index is {current['uvi']}, humidity is {current['humidity']}%.\\n\\\r\n",
    "The pressure is {current['pressure']} hPa, percentage of cloud cover is {current['clouds']}%\\n\\\r\n",
    "The wind comes from {degrees_to_cardinal(current['wind_deg'])} direction with a speed {current['wind_speed']} m/s.\")"
   ]
  },
  {
   "cell_type": "code",
   "execution_count": 8,
   "metadata": {
    "execution": {
     "iopub.execute_input": "2021-09-14T23:11:28.967423Z",
     "iopub.status.busy": "2021-09-14T23:11:28.966975Z",
     "iopub.status.idle": "2021-09-14T23:11:28.973112Z",
     "shell.execute_reply": "2021-09-14T23:11:28.973732Z"
    }
   },
   "outputs": [],
   "source": [
    "df_hourly = pd.DataFrame(data['hourly'])\r\n",
    "df_daily = pd.DataFrame(data['daily'])"
   ]
  },
  {
   "cell_type": "code",
   "execution_count": 9,
   "metadata": {
    "execution": {
     "iopub.execute_input": "2021-09-14T23:11:28.976711Z",
     "iopub.status.busy": "2021-09-14T23:11:28.975718Z",
     "iopub.status.idle": "2021-09-14T23:11:29.212918Z",
     "shell.execute_reply": "2021-09-14T23:11:29.212439Z"
    }
   },
   "outputs": [
    {
     "data": {
      "image/png": "[encoded data removed]",
      "text/plain": [
       "<Figure size 864x432 with 1 Axes>"
      ]
     },
     "metadata": {
      "needs_background": "light"
     },
     "output_type": "display_data"
    }
   ],
   "source": [
    "fig, ax = plt.subplots(figsize=(12, 6))\r\n",
    "plt.plot(df_hourly.temp, '.-', label='Temperature')\r\n",
    "plt.plot(df_hourly.feels_like, '.-', label='Feels Like')\r\n",
    "ax.set(title='Temperature in future 48 hours', xlabel='Time', ylabel='Temperature')\r\n",
    "ax.set_xticks(list(range(0, len(df_hourly), 2)))\r\n",
    "ax.set_xticklabels([ts2dt(ts, '%m-%d %H:%M')[0] for i, ts in enumerate(df_hourly.dt) if i%2==0], \r\n",
    "                   rotation=45, ha=\"right\")\r\n",
    "ax.locator_params(nbins=15, axis='y')\r\n",
    "plt.legend()\r\n",
    "plt.show()"
   ]
  },
  {
   "cell_type": "code",
   "execution_count": 10,
   "metadata": {
    "execution": {
     "iopub.execute_input": "2021-09-14T23:11:29.223975Z",
     "iopub.status.busy": "2021-09-14T23:11:29.216799Z",
     "iopub.status.idle": "2021-09-14T23:11:29.234090Z",
     "shell.execute_reply": "2021-09-14T23:11:29.233686Z"
    }
   },
   "outputs": [
    {
     "data": {
      "text/html": [
       "<div>\n",
       "<style scoped>\n",
       "    .dataframe tbody tr th:only-of-type {\n",
       "        vertical-align: middle;\n",
       "    }\n",
       "\n",
       "    .dataframe tbody tr th {\n",
       "        vertical-align: top;\n",
       "    }\n",
       "\n",
       "    .dataframe thead th {\n",
       "        text-align: right;\n",
       "    }\n",
       "</style>\n",
       "<table border=\"1\" class=\"dataframe\">\n",
       "  <thead>\n",
       "    <tr style=\"text-align: right;\">\n",
       "      <th></th>\n",
       "      <th>dt</th>\n",
       "      <th>temp</th>\n",
       "      <th>feels_like</th>\n",
       "      <th>pressure</th>\n",
       "      <th>humidity</th>\n",
       "      <th>dew_point</th>\n",
       "      <th>uvi</th>\n",
       "      <th>clouds</th>\n",
       "      <th>visibility</th>\n",
       "      <th>wind_speed</th>\n",
       "      <th>wind_deg</th>\n",
       "      <th>wind_gust</th>\n",
       "      <th>weather</th>\n",
       "      <th>pop</th>\n",
       "      <th>rain</th>\n",
       "    </tr>\n",
       "  </thead>\n",
       "  <tbody>\n",
       "    <tr>\n",
       "      <th>0</th>\n",
       "      <td>1631660400</td>\n",
       "      <td>28.68</td>\n",
       "      <td>33.67</td>\n",
       "      <td>1011</td>\n",
       "      <td>79</td>\n",
       "      <td>24.68</td>\n",
       "      <td>0.23</td>\n",
       "      <td>94</td>\n",
       "      <td>10000</td>\n",
       "      <td>2.17</td>\n",
       "      <td>274</td>\n",
       "      <td>2.43</td>\n",
       "      <td>[{'id': 500, 'main': 'Rain', 'description': 'l...</td>\n",
       "      <td>0.77</td>\n",
       "      <td>{'1h': 0.11}</td>\n",
       "    </tr>\n",
       "    <tr>\n",
       "      <th>1</th>\n",
       "      <td>1631664000</td>\n",
       "      <td>28.76</td>\n",
       "      <td>33.68</td>\n",
       "      <td>1011</td>\n",
       "      <td>78</td>\n",
       "      <td>24.54</td>\n",
       "      <td>1.24</td>\n",
       "      <td>93</td>\n",
       "      <td>10000</td>\n",
       "      <td>2.40</td>\n",
       "      <td>278</td>\n",
       "      <td>2.78</td>\n",
       "      <td>[{'id': 804, 'main': 'Clouds', 'description': ...</td>\n",
       "      <td>0.84</td>\n",
       "      <td>NaN</td>\n",
       "    </tr>\n",
       "    <tr>\n",
       "      <th>2</th>\n",
       "      <td>1631667600</td>\n",
       "      <td>29.18</td>\n",
       "      <td>34.36</td>\n",
       "      <td>1011</td>\n",
       "      <td>76</td>\n",
       "      <td>24.51</td>\n",
       "      <td>3.44</td>\n",
       "      <td>76</td>\n",
       "      <td>10000</td>\n",
       "      <td>2.63</td>\n",
       "      <td>279</td>\n",
       "      <td>3.00</td>\n",
       "      <td>[{'id': 803, 'main': 'Clouds', 'description': ...</td>\n",
       "      <td>0.67</td>\n",
       "      <td>NaN</td>\n",
       "    </tr>\n",
       "    <tr>\n",
       "      <th>3</th>\n",
       "      <td>1631671200</td>\n",
       "      <td>29.89</td>\n",
       "      <td>35.50</td>\n",
       "      <td>1012</td>\n",
       "      <td>73</td>\n",
       "      <td>24.52</td>\n",
       "      <td>6.36</td>\n",
       "      <td>62</td>\n",
       "      <td>10000</td>\n",
       "      <td>2.30</td>\n",
       "      <td>275</td>\n",
       "      <td>2.52</td>\n",
       "      <td>[{'id': 803, 'main': 'Clouds', 'description': ...</td>\n",
       "      <td>0.67</td>\n",
       "      <td>NaN</td>\n",
       "    </tr>\n",
       "    <tr>\n",
       "      <th>4</th>\n",
       "      <td>1631674800</td>\n",
       "      <td>30.54</td>\n",
       "      <td>36.12</td>\n",
       "      <td>1012</td>\n",
       "      <td>69</td>\n",
       "      <td>24.20</td>\n",
       "      <td>9.11</td>\n",
       "      <td>48</td>\n",
       "      <td>10000</td>\n",
       "      <td>2.39</td>\n",
       "      <td>264</td>\n",
       "      <td>2.52</td>\n",
       "      <td>[{'id': 500, 'main': 'Rain', 'description': 'l...</td>\n",
       "      <td>0.72</td>\n",
       "      <td>{'1h': 0.73}</td>\n",
       "    </tr>\n",
       "  </tbody>\n",
       "</table>\n",
       "</div>"
      ],
      "text/plain": [
       "           dt   temp  feels_like  pressure  humidity  dew_point   uvi  clouds  \\\n",
       "0  1631660400  28.68       33.67      1011        79      24.68  0.23      94   \n",
       "1  1631664000  28.76       33.68      1011        78      24.54  1.24      93   \n",
       "2  1631667600  29.18       34.36      1011        76      24.51  3.44      76   \n",
       "3  1631671200  29.89       35.50      1012        73      24.52  6.36      62   \n",
       "4  1631674800  30.54       36.12      1012        69      24.20  9.11      48   \n",
       "\n",
       "   visibility  wind_speed  wind_deg  wind_gust  \\\n",
       "0       10000        2.17       274       2.43   \n",
       "1       10000        2.40       278       2.78   \n",
       "2       10000        2.63       279       3.00   \n",
       "3       10000        2.30       275       2.52   \n",
       "4       10000        2.39       264       2.52   \n",
       "\n",
       "                                             weather   pop          rain  \n",
       "0  [{'id': 500, 'main': 'Rain', 'description': 'l...  0.77  {'1h': 0.11}  \n",
       "1  [{'id': 804, 'main': 'Clouds', 'description': ...  0.84           NaN  \n",
       "2  [{'id': 803, 'main': 'Clouds', 'description': ...  0.67           NaN  \n",
       "3  [{'id': 803, 'main': 'Clouds', 'description': ...  0.67           NaN  \n",
       "4  [{'id': 500, 'main': 'Rain', 'description': 'l...  0.72  {'1h': 0.73}  "
      ]
     },
     "execution_count": 10,
     "metadata": {},
     "output_type": "execute_result"
    }
   ],
   "source": [
    "df_hourly.head()"
   ]
  },
  {
   "cell_type": "code",
   "execution_count": null,
   "metadata": {},
   "outputs": [],
   "source": []
  }
 ],
 "metadata": {
  "interpreter": {
   "hash": "c1b4cfe941b6d2466ad1fb5979e97da9cda8801728c8091b097ab734208fc00c"
  },
  "kernelspec": {
   "display_name": "Python 3.8.3 64-bit ('base': conda)",
   "name": "python3"
  },
  "language_info": {
   "codemirror_mode": {
    "name": "ipython",
    "version": 3
   },
   "file_extension": ".py",
   "mimetype": "text/x-python",
   "name": "python",
   "nbconvert_exporter": "python",
   "pygments_lexer": "ipython3",
   "version": "3.8.11"
  }
 },
 "nbformat": 4,
 "nbformat_minor": 2
}
