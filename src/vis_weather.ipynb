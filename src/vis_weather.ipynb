{
 "cells": [
  {
   "cell_type": "code",
   "execution_count": 1,
   "metadata": {
    "execution": {
     "iopub.execute_input": "2021-09-02T07:18:39.842178Z",
     "iopub.status.busy": "2021-09-02T07:18:39.841271Z",
     "iopub.status.idle": "2021-09-02T07:18:58.269655Z",
     "shell.execute_reply": "2021-09-02T07:18:58.269058Z"
    }
   },
   "outputs": [
    {
     "name": "stderr",
     "output_type": "stream",
     "text": [
      "Matplotlib is building the font cache; this may take a moment.\n"
     ]
    }
   ],
   "source": [
    "import json, yaml, requests\r\n",
    "from datetime import datetime\r\n",
    "from dateutil import tz\r\n",
    "import pandas as pd\r\n",
    "from PIL import Image\r\n",
    "from io import BytesIO\r\n",
    "import matplotlib.pyplot as plt\r\n",
    "import seaborn\r\n",
    "\r\n",
    "CONFIG_PATH = \"../config/config.yaml\""
   ]
  },
  {
   "cell_type": "code",
   "execution_count": 2,
   "metadata": {
    "execution": {
     "iopub.execute_input": "2021-09-02T07:18:58.276442Z",
     "iopub.status.busy": "2021-09-02T07:18:58.275334Z",
     "iopub.status.idle": "2021-09-02T07:18:58.281937Z",
     "shell.execute_reply": "2021-09-02T07:18:58.281437Z"
    }
   },
   "outputs": [],
   "source": [
    "with open('../newest_ts', 'r') as f:\r\n",
    "    newest_ts = f.read()\r\n",
    "\r\n",
    "data_path = f\"../data/data_{newest_ts}.json\"\r\n",
    "with open(data_path, 'r') as f:\r\n",
    "    data = json.load(f)\r\n",
    "\r\n",
    "with open(CONFIG_PATH, \"r\") as stream:\r\n",
    "    config = yaml.safe_load(stream)\r\n",
    "\r\n",
    "TIME_ZONE = config['time_zone']\r\n",
    "DATETIME_FORMAT = config['dt_format']"
   ]
  },
  {
   "cell_type": "code",
   "execution_count": 3,
   "metadata": {
    "execution": {
     "iopub.execute_input": "2021-09-02T07:18:58.286873Z",
     "iopub.status.busy": "2021-09-02T07:18:58.286214Z",
     "iopub.status.idle": "2021-09-02T07:18:58.446160Z",
     "shell.execute_reply": "2021-09-02T07:18:58.445425Z"
    }
   },
   "outputs": [
    {
     "name": "stdout",
     "output_type": "stream",
     "text": [
      "Recent query happens at 2021-09-02 15:18:32 (CST).\n"
     ]
    }
   ],
   "source": [
    "def ts2dt(ts, format=DATETIME_FORMAT):\r\n",
    "    dt = (datetime.utcfromtimestamp(int(ts))\r\n",
    "                    .replace(tzinfo=tz.tzutc())\r\n",
    "                    # .astimezone(tz.tzlocal())\r\n",
    "                    .astimezone(tz.gettz(TIME_ZONE)))\r\n",
    "    return dt.strftime(format), dt\r\n",
    "\r\n",
    "_, newest_dt = ts2dt(newest_ts)\r\n",
    "print(f\"Recent query happens at {newest_dt.strftime(DATETIME_FORMAT)} ({newest_dt.tzname()}).\")"
   ]
  },
  {
   "cell_type": "code",
   "execution_count": 4,
   "metadata": {
    "execution": {
     "iopub.execute_input": "2021-09-02T07:18:58.453604Z",
     "iopub.status.busy": "2021-09-02T07:18:58.451735Z",
     "iopub.status.idle": "2021-09-02T07:18:58.454505Z",
     "shell.execute_reply": "2021-09-02T07:18:58.455063Z"
    }
   },
   "outputs": [],
   "source": [
    "def degrees_to_cardinal(d):\r\n",
    "  dirs = ['N', 'NNE', 'NE', 'ENE', 'E', 'ESE', 'SE', 'SSE', 'S', 'SSW', 'SW', 'WSW', 'W', 'WNW', 'NW', 'NNW']\r\n",
    "  ix = int(round(d / (360. / len(dirs))))\r\n",
    "  return dirs[ix % len(dirs)]"
   ]
  },
  {
   "cell_type": "code",
   "execution_count": 5,
   "metadata": {
    "execution": {
     "iopub.execute_input": "2021-09-02T07:18:58.460502Z",
     "iopub.status.busy": "2021-09-02T07:18:58.459039Z",
     "iopub.status.idle": "2021-09-02T07:18:58.461211Z",
     "shell.execute_reply": "2021-09-02T07:18:58.461726Z"
    }
   },
   "outputs": [],
   "source": [
    "# data.keys()"
   ]
  },
  {
   "cell_type": "code",
   "execution_count": 6,
   "metadata": {
    "execution": {
     "iopub.execute_input": "2021-09-02T07:18:58.465690Z",
     "iopub.status.busy": "2021-09-02T07:18:58.465090Z",
     "iopub.status.idle": "2021-09-02T07:18:58.466849Z",
     "shell.execute_reply": "2021-09-02T07:18:58.467395Z"
    }
   },
   "outputs": [],
   "source": [
    "# data['current']"
   ]
  },
  {
   "cell_type": "code",
   "execution_count": 7,
   "metadata": {
    "execution": {
     "iopub.execute_input": "2021-09-02T07:18:58.489281Z",
     "iopub.status.busy": "2021-09-02T07:18:58.469527Z",
     "iopub.status.idle": "2021-09-02T07:18:59.006621Z",
     "shell.execute_reply": "2021-09-02T07:18:59.007446Z"
    }
   },
   "outputs": [
    {
     "data": {
      "image/png": "[encoded data removed]",
      "text/plain": [
       "<Figure size 216x216 with 1 Axes>"
      ]
     },
     "metadata": {
      "needs_background": "light"
     },
     "output_type": "display_data"
    },
    {
     "name": "stdout",
     "output_type": "stream",
     "text": [
      "Today, sun rises at 06:06 and sets at 18:39.\n",
      "Currently, the weather is Clear (clear sky).\n",
      "The temperature is 31.55°C and it feels like 38.55°C.\n",
      "The UV index is 5.77, humidity is 74%.\n",
      "The pressure is 1008 hPa, percentage of cloud cover is 7%\n",
      "The wind comes from ESE direction with a speed 3.97 m/s.\n"
     ]
    }
   ],
   "source": [
    "current = data['current']\r\n",
    "\r\n",
    "fig, ax = plt.subplots(figsize=(3, 3))\r\n",
    "icon = requests.get(f\"http://openweathermap.org/img/wn/{current['weather'][0]['icon']}@2x.png\")\r\n",
    "im = Image.open(BytesIO(icon.content))\r\n",
    "plt.imshow(im)\r\n",
    "ax.set_axis_off()\r\n",
    "plt.show()\r\n",
    "\r\n",
    "print(f\"Today, sun rises at {ts2dt(current['sunrise'], '%H:%M')[0]} \\\r\n",
    "and sets at {ts2dt(current['sunset'], '%H:%M')[0]}.\\n\\\r\n",
    "Currently, the weather is {current['weather'][0]['main']} ({current['weather'][0]['description']}).\\n\\\r\n",
    "The temperature is {current['temp']}°C and it feels like {current['feels_like']}°C.\\n\\\r\n",
    "The UV index is {current['uvi']}, humidity is {current['humidity']}%.\\n\\\r\n",
    "The pressure is {current['pressure']} hPa, percentage of cloud cover is {current['clouds']}%\\n\\\r\n",
    "The wind comes from {degrees_to_cardinal(current['wind_deg'])} direction with a speed {current['wind_speed']} m/s.\")"
   ]
  },
  {
   "cell_type": "code",
   "execution_count": 8,
   "metadata": {
    "execution": {
     "iopub.execute_input": "2021-09-02T07:18:59.011182Z",
     "iopub.status.busy": "2021-09-02T07:18:59.010516Z",
     "iopub.status.idle": "2021-09-02T07:18:59.018560Z",
     "shell.execute_reply": "2021-09-02T07:18:59.019367Z"
    }
   },
   "outputs": [],
   "source": [
    "df_hourly = pd.DataFrame(data['hourly'])\r\n",
    "df_daily = pd.DataFrame(data['daily'])"
   ]
  },
  {
   "cell_type": "code",
   "execution_count": 9,
   "metadata": {
    "execution": {
     "iopub.execute_input": "2021-09-02T07:18:59.024096Z",
     "iopub.status.busy": "2021-09-02T07:18:59.022991Z",
     "iopub.status.idle": "2021-09-02T07:18:59.404078Z",
     "shell.execute_reply": "2021-09-02T07:18:59.403003Z"
    }
   },
   "outputs": [
    {
     "data": {
      "image/png": "[encoded data removed]",
      "text/plain": [
       "<Figure size 864x432 with 1 Axes>"
      ]
     },
     "metadata": {
      "needs_background": "light"
     },
     "output_type": "display_data"
    }
   ],
   "source": [
    "fig, ax = plt.subplots(figsize=(12, 6))\r\n",
    "plt.plot(df_hourly.temp, '.-', label='Temperature')\r\n",
    "plt.plot(df_hourly.feels_like, '.-', label='Feels Like')\r\n",
    "ax.set(title='Temperature in future 48 hours', xlabel='Time', ylabel='Temperature')\r\n",
    "ax.set_xticks(list(range(0, len(df_hourly), 2)))\r\n",
    "ax.set_xticklabels([ts2dt(ts, '%m-%d %H:%M')[0] for i, ts in enumerate(df_hourly.dt) if i%2==0], \r\n",
    "                   rotation=45, ha=\"right\")\r\n",
    "ax.locator_params(nbins=15, axis='y')\r\n",
    "plt.legend()\r\n",
    "plt.show()"
   ]
  },
  {
   "cell_type": "code",
   "execution_count": 10,
   "metadata": {
    "execution": {
     "iopub.execute_input": "2021-09-02T07:18:59.409969Z",
     "iopub.status.busy": "2021-09-02T07:18:59.407379Z",
     "iopub.status.idle": "2021-09-02T07:18:59.433684Z",
     "shell.execute_reply": "2021-09-02T07:18:59.433036Z"
    }
   },
   "outputs": [
    {
     "data": {
      "text/html": [
       "<div>\n",
       "<style scoped>\n",
       "    .dataframe tbody tr th:only-of-type {\n",
       "        vertical-align: middle;\n",
       "    }\n",
       "\n",
       "    .dataframe tbody tr th {\n",
       "        vertical-align: top;\n",
       "    }\n",
       "\n",
       "    .dataframe thead th {\n",
       "        text-align: right;\n",
       "    }\n",
       "</style>\n",
       "<table border=\"1\" class=\"dataframe\">\n",
       "  <thead>\n",
       "    <tr style=\"text-align: right;\">\n",
       "      <th></th>\n",
       "      <th>dt</th>\n",
       "      <th>temp</th>\n",
       "      <th>feels_like</th>\n",
       "      <th>pressure</th>\n",
       "      <th>humidity</th>\n",
       "      <th>dew_point</th>\n",
       "      <th>uvi</th>\n",
       "      <th>clouds</th>\n",
       "      <th>visibility</th>\n",
       "      <th>wind_speed</th>\n",
       "      <th>wind_deg</th>\n",
       "      <th>wind_gust</th>\n",
       "      <th>weather</th>\n",
       "      <th>pop</th>\n",
       "      <th>rain</th>\n",
       "    </tr>\n",
       "  </thead>\n",
       "  <tbody>\n",
       "    <tr>\n",
       "      <th>0</th>\n",
       "      <td>1630566000</td>\n",
       "      <td>31.55</td>\n",
       "      <td>38.55</td>\n",
       "      <td>1008</td>\n",
       "      <td>74</td>\n",
       "      <td>26.35</td>\n",
       "      <td>5.77</td>\n",
       "      <td>7</td>\n",
       "      <td>10000</td>\n",
       "      <td>3.97</td>\n",
       "      <td>107</td>\n",
       "      <td>4.26</td>\n",
       "      <td>[{'id': 800, 'main': 'Clear', 'description': '...</td>\n",
       "      <td>0.72</td>\n",
       "      <td>NaN</td>\n",
       "    </tr>\n",
       "    <tr>\n",
       "      <th>1</th>\n",
       "      <td>1630569600</td>\n",
       "      <td>31.18</td>\n",
       "      <td>38.18</td>\n",
       "      <td>1008</td>\n",
       "      <td>73</td>\n",
       "      <td>25.76</td>\n",
       "      <td>3.02</td>\n",
       "      <td>7</td>\n",
       "      <td>10000</td>\n",
       "      <td>3.82</td>\n",
       "      <td>116</td>\n",
       "      <td>4.26</td>\n",
       "      <td>[{'id': 800, 'main': 'Clear', 'description': '...</td>\n",
       "      <td>0.62</td>\n",
       "      <td>NaN</td>\n",
       "    </tr>\n",
       "    <tr>\n",
       "      <th>2</th>\n",
       "      <td>1630573200</td>\n",
       "      <td>30.67</td>\n",
       "      <td>37.59</td>\n",
       "      <td>1008</td>\n",
       "      <td>73</td>\n",
       "      <td>25.27</td>\n",
       "      <td>1.07</td>\n",
       "      <td>7</td>\n",
       "      <td>10000</td>\n",
       "      <td>3.43</td>\n",
       "      <td>120</td>\n",
       "      <td>4.01</td>\n",
       "      <td>[{'id': 800, 'main': 'Clear', 'description': '...</td>\n",
       "      <td>0.68</td>\n",
       "      <td>NaN</td>\n",
       "    </tr>\n",
       "    <tr>\n",
       "      <th>3</th>\n",
       "      <td>1630576800</td>\n",
       "      <td>29.99</td>\n",
       "      <td>36.27</td>\n",
       "      <td>1007</td>\n",
       "      <td>75</td>\n",
       "      <td>25.07</td>\n",
       "      <td>0.21</td>\n",
       "      <td>8</td>\n",
       "      <td>10000</td>\n",
       "      <td>3.16</td>\n",
       "      <td>116</td>\n",
       "      <td>3.95</td>\n",
       "      <td>[{'id': 800, 'main': 'Clear', 'description': '...</td>\n",
       "      <td>0.68</td>\n",
       "      <td>NaN</td>\n",
       "    </tr>\n",
       "    <tr>\n",
       "      <th>4</th>\n",
       "      <td>1630580400</td>\n",
       "      <td>28.96</td>\n",
       "      <td>34.21</td>\n",
       "      <td>1008</td>\n",
       "      <td>78</td>\n",
       "      <td>24.73</td>\n",
       "      <td>0.00</td>\n",
       "      <td>7</td>\n",
       "      <td>10000</td>\n",
       "      <td>3.09</td>\n",
       "      <td>120</td>\n",
       "      <td>3.81</td>\n",
       "      <td>[{'id': 800, 'main': 'Clear', 'description': '...</td>\n",
       "      <td>0.61</td>\n",
       "      <td>NaN</td>\n",
       "    </tr>\n",
       "  </tbody>\n",
       "</table>\n",
       "</div>"
      ],
      "text/plain": [
       "           dt   temp  feels_like  pressure  humidity  dew_point   uvi  clouds  \\\n",
       "0  1630566000  31.55       38.55      1008        74      26.35  5.77       7   \n",
       "1  1630569600  31.18       38.18      1008        73      25.76  3.02       7   \n",
       "2  1630573200  30.67       37.59      1008        73      25.27  1.07       7   \n",
       "3  1630576800  29.99       36.27      1007        75      25.07  0.21       8   \n",
       "4  1630580400  28.96       34.21      1008        78      24.73  0.00       7   \n",
       "\n",
       "   visibility  wind_speed  wind_deg  wind_gust  \\\n",
       "0       10000        3.97       107       4.26   \n",
       "1       10000        3.82       116       4.26   \n",
       "2       10000        3.43       120       4.01   \n",
       "3       10000        3.16       116       3.95   \n",
       "4       10000        3.09       120       3.81   \n",
       "\n",
       "                                             weather   pop rain  \n",
       "0  [{'id': 800, 'main': 'Clear', 'description': '...  0.72  NaN  \n",
       "1  [{'id': 800, 'main': 'Clear', 'description': '...  0.62  NaN  \n",
       "2  [{'id': 800, 'main': 'Clear', 'description': '...  0.68  NaN  \n",
       "3  [{'id': 800, 'main': 'Clear', 'description': '...  0.68  NaN  \n",
       "4  [{'id': 800, 'main': 'Clear', 'description': '...  0.61  NaN  "
      ]
     },
     "execution_count": 10,
     "metadata": {},
     "output_type": "execute_result"
    }
   ],
   "source": [
    "df_hourly.head()"
   ]
  },
  {
   "cell_type": "code",
   "execution_count": null,
   "metadata": {},
   "outputs": [],
   "source": []
  }
 ],
 "metadata": {
  "interpreter": {
   "hash": "c1b4cfe941b6d2466ad1fb5979e97da9cda8801728c8091b097ab734208fc00c"
  },
  "kernelspec": {
   "display_name": "Python 3.8.3 64-bit ('base': conda)",
   "name": "python3"
  },
  "language_info": {
   "codemirror_mode": {
    "name": "ipython",
    "version": 3
   },
   "file_extension": ".py",
   "mimetype": "text/x-python",
   "name": "python",
   "nbconvert_exporter": "python",
   "pygments_lexer": "ipython3",
   "version": "3.8.11"
  }
 },
 "nbformat": 4,
 "nbformat_minor": 2
}
