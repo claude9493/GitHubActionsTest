{
 "cells": [
  {
   "cell_type": "code",
   "execution_count": 1,
   "metadata": {
    "execution": {
     "iopub.execute_input": "2021-08-29T05:36:25.767453Z",
     "iopub.status.busy": "2021-08-29T05:36:25.766692Z",
     "iopub.status.idle": "2021-08-29T05:36:27.517984Z",
     "shell.execute_reply": "2021-08-29T05:36:27.516865Z"
    }
   },
   "outputs": [],
   "source": [
    "import json, yaml, requests\r\n",
    "from datetime import datetime\r\n",
    "from dateutil import tz\r\n",
    "import pandas as pd\r\n",
    "from PIL import Image\r\n",
    "from io import BytesIO\r\n",
    "import matplotlib.pyplot as plt\r\n",
    "import seaborn\r\n",
    "\r\n",
    "CONFIG_PATH = \"../config/config.yaml\""
   ]
  },
  {
   "cell_type": "code",
   "execution_count": 2,
   "metadata": {
    "execution": {
     "iopub.execute_input": "2021-08-29T05:36:27.527788Z",
     "iopub.status.busy": "2021-08-29T05:36:27.527131Z",
     "iopub.status.idle": "2021-08-29T05:36:27.530483Z",
     "shell.execute_reply": "2021-08-29T05:36:27.530008Z"
    }
   },
   "outputs": [],
   "source": [
    "with open('../newest_ts', 'r') as f:\r\n",
    "    newest_ts = f.read()\r\n",
    "\r\n",
    "data_path = f\"../data/data_{newest_ts}.json\"\r\n",
    "with open(data_path, 'r') as f:\r\n",
    "    data = json.load(f)\r\n",
    "\r\n",
    "with open(CONFIG_PATH, \"r\") as stream:\r\n",
    "    config = yaml.safe_load(stream)\r\n",
    "\r\n",
    "TIME_ZONE = config['time_zone']\r\n",
    "DATETIME_FORMAT = config['dt_format']"
   ]
  },
  {
   "cell_type": "code",
   "execution_count": 3,
   "metadata": {
    "execution": {
     "iopub.execute_input": "2021-08-29T05:36:27.539263Z",
     "iopub.status.busy": "2021-08-29T05:36:27.535932Z",
     "iopub.status.idle": "2021-08-29T05:36:27.546257Z",
     "shell.execute_reply": "2021-08-29T05:36:27.546702Z"
    }
   },
   "outputs": [
    {
     "name": "stdout",
     "output_type": "stream",
     "text": [
      "Recent query happens at 2021-08-29 13:36:23 (CST).\n"
     ]
    }
   ],
   "source": [
    "def ts2dt(ts, format=DATETIME_FORMAT):\r\n",
    "    dt = (datetime.utcfromtimestamp(int(ts))\r\n",
    "                    .replace(tzinfo=tz.tzutc())\r\n",
    "                    # .astimezone(tz.tzlocal())\r\n",
    "                    .astimezone(tz.gettz(TIME_ZONE)))\r\n",
    "    return dt.strftime(format), dt\r\n",
    "\r\n",
    "_, newest_dt = ts2dt(newest_ts)\r\n",
    "print(f\"Recent query happens at {newest_dt.strftime(DATETIME_FORMAT)} ({newest_dt.tzname()}).\")"
   ]
  },
  {
   "cell_type": "code",
   "execution_count": 4,
   "metadata": {
    "execution": {
     "iopub.execute_input": "2021-08-29T05:36:27.554542Z",
     "iopub.status.busy": "2021-08-29T05:36:27.553986Z",
     "iopub.status.idle": "2021-08-29T05:36:27.558637Z",
     "shell.execute_reply": "2021-08-29T05:36:27.557782Z"
    }
   },
   "outputs": [],
   "source": [
    "def degrees_to_cardinal(d):\r\n",
    "  dirs = ['N', 'NNE', 'NE', 'ENE', 'E', 'ESE', 'SE', 'SSE', 'S', 'SSW', 'SW', 'WSW', 'W', 'WNW', 'NW', 'NNW']\r\n",
    "  ix = int(round(d / (360. / len(dirs))))\r\n",
    "  return dirs[ix % len(dirs)]"
   ]
  },
  {
   "cell_type": "code",
   "execution_count": 5,
   "metadata": {
    "execution": {
     "iopub.execute_input": "2021-08-29T05:36:27.565794Z",
     "iopub.status.busy": "2021-08-29T05:36:27.564368Z",
     "iopub.status.idle": "2021-08-29T05:36:27.566844Z",
     "shell.execute_reply": "2021-08-29T05:36:27.567395Z"
    }
   },
   "outputs": [],
   "source": [
    "# data.keys()"
   ]
  },
  {
   "cell_type": "code",
   "execution_count": 6,
   "metadata": {
    "execution": {
     "iopub.execute_input": "2021-08-29T05:36:27.572236Z",
     "iopub.status.busy": "2021-08-29T05:36:27.570896Z",
     "iopub.status.idle": "2021-08-29T05:36:27.572852Z",
     "shell.execute_reply": "2021-08-29T05:36:27.573284Z"
    }
   },
   "outputs": [],
   "source": [
    "# data['current']"
   ]
  },
  {
   "cell_type": "code",
   "execution_count": 7,
   "metadata": {
    "execution": {
     "iopub.execute_input": "2021-08-29T05:36:27.581204Z",
     "iopub.status.busy": "2021-08-29T05:36:27.580600Z",
     "iopub.status.idle": "2021-08-29T05:36:27.891424Z",
     "shell.execute_reply": "2021-08-29T05:36:27.892219Z"
    }
   },
   "outputs": [
    {
     "data": {
      "image/png": "[encoded data removed]",
      "text/plain": [
       "<Figure size 216x216 with 1 Axes>"
      ]
     },
     "metadata": {
      "needs_background": "light"
     },
     "output_type": "display_data"
    },
    {
     "name": "stdout",
     "output_type": "stream",
     "text": [
      "Today, sun rises at 06:04 and sets at 18:43.\n",
      "Currently, the weather is Clouds (overcast clouds).\n",
      "The temperature is 29.38°C and it feels like 36.31°C.\n",
      "The UV index is 6.97, humidity is 82%.\n",
      "The pressure is 1011 hPa, percentage of cloud cover is 95%\n",
      "The wind comes from ESE direction with a speed 4.93 m/s.\n"
     ]
    }
   ],
   "source": [
    "current = data['current']\r\n",
    "\r\n",
    "fig, ax = plt.subplots(figsize=(3, 3))\r\n",
    "icon = requests.get(f\"http://openweathermap.org/img/wn/{current['weather'][0]['icon']}@2x.png\")\r\n",
    "im = Image.open(BytesIO(icon.content))\r\n",
    "plt.imshow(im)\r\n",
    "ax.set_axis_off()\r\n",
    "plt.show()\r\n",
    "\r\n",
    "print(f\"Today, sun rises at {ts2dt(current['sunrise'], '%H:%M')[0]} \\\r\n",
    "and sets at {ts2dt(current['sunset'], '%H:%M')[0]}.\\n\\\r\n",
    "Currently, the weather is {current['weather'][0]['main']} ({current['weather'][0]['description']}).\\n\\\r\n",
    "The temperature is {current['temp']}°C and it feels like {current['feels_like']}°C.\\n\\\r\n",
    "The UV index is {current['uvi']}, humidity is {current['humidity']}%.\\n\\\r\n",
    "The pressure is {current['pressure']} hPa, percentage of cloud cover is {current['clouds']}%\\n\\\r\n",
    "The wind comes from {degrees_to_cardinal(current['wind_deg'])} direction with a speed {current['wind_speed']} m/s.\")"
   ]
  },
  {
   "cell_type": "code",
   "execution_count": 8,
   "metadata": {
    "execution": {
     "iopub.execute_input": "2021-08-29T05:36:27.895871Z",
     "iopub.status.busy": "2021-08-29T05:36:27.895317Z",
     "iopub.status.idle": "2021-08-29T05:36:27.906213Z",
     "shell.execute_reply": "2021-08-29T05:36:27.907154Z"
    }
   },
   "outputs": [],
   "source": [
    "df_hourly = pd.DataFrame(data['hourly'])\r\n",
    "df_daily = pd.DataFrame(data['daily'])"
   ]
  },
  {
   "cell_type": "code",
   "execution_count": 9,
   "metadata": {
    "execution": {
     "iopub.execute_input": "2021-08-29T05:36:27.911725Z",
     "iopub.status.busy": "2021-08-29T05:36:27.910155Z",
     "iopub.status.idle": "2021-08-29T05:36:28.224243Z",
     "shell.execute_reply": "2021-08-29T05:36:28.223760Z"
    }
   },
   "outputs": [
    {
     "data": {
      "image/png": "[encoded data removed]",
      "text/plain": [
       "<Figure size 864x432 with 1 Axes>"
      ]
     },
     "metadata": {
      "needs_background": "light"
     },
     "output_type": "display_data"
    }
   ],
   "source": [
    "fig, ax = plt.subplots(figsize=(12, 6))\r\n",
    "plt.plot(df_hourly.temp, '.-', label='Temperature')\r\n",
    "plt.plot(df_hourly.feels_like, '.-', label='Feels Like')\r\n",
    "ax.set(title='Temperature in future 48 hours', xlabel='Time', ylabel='Temperature')\r\n",
    "ax.set_xticks(list(range(0, len(df_hourly), 2)))\r\n",
    "ax.set_xticklabels([ts2dt(ts, '%m-%d %H:%M')[0] for i, ts in enumerate(df_hourly.dt) if i%2==0], \r\n",
    "                   rotation=45, ha=\"right\")\r\n",
    "ax.locator_params(nbins=15, axis='y')\r\n",
    "plt.legend()\r\n",
    "plt.show()"
   ]
  },
  {
   "cell_type": "code",
   "execution_count": 10,
   "metadata": {
    "execution": {
     "iopub.execute_input": "2021-08-29T05:36:28.238783Z",
     "iopub.status.busy": "2021-08-29T05:36:28.228852Z",
     "iopub.status.idle": "2021-08-29T05:36:28.253410Z",
     "shell.execute_reply": "2021-08-29T05:36:28.252870Z"
    }
   },
   "outputs": [
    {
     "data": {
      "text/html": [
       "<div>\n",
       "<style scoped>\n",
       "    .dataframe tbody tr th:only-of-type {\n",
       "        vertical-align: middle;\n",
       "    }\n",
       "\n",
       "    .dataframe tbody tr th {\n",
       "        vertical-align: top;\n",
       "    }\n",
       "\n",
       "    .dataframe thead th {\n",
       "        text-align: right;\n",
       "    }\n",
       "</style>\n",
       "<table border=\"1\" class=\"dataframe\">\n",
       "  <thead>\n",
       "    <tr style=\"text-align: right;\">\n",
       "      <th></th>\n",
       "      <th>dt</th>\n",
       "      <th>temp</th>\n",
       "      <th>feels_like</th>\n",
       "      <th>pressure</th>\n",
       "      <th>humidity</th>\n",
       "      <th>dew_point</th>\n",
       "      <th>uvi</th>\n",
       "      <th>clouds</th>\n",
       "      <th>visibility</th>\n",
       "      <th>wind_speed</th>\n",
       "      <th>wind_deg</th>\n",
       "      <th>wind_gust</th>\n",
       "      <th>weather</th>\n",
       "      <th>pop</th>\n",
       "      <th>rain</th>\n",
       "    </tr>\n",
       "  </thead>\n",
       "  <tbody>\n",
       "    <tr>\n",
       "      <th>0</th>\n",
       "      <td>1630213200</td>\n",
       "      <td>29.42</td>\n",
       "      <td>35.94</td>\n",
       "      <td>1011</td>\n",
       "      <td>80</td>\n",
       "      <td>25.60</td>\n",
       "      <td>8.39</td>\n",
       "      <td>95</td>\n",
       "      <td>10000</td>\n",
       "      <td>5.30</td>\n",
       "      <td>105</td>\n",
       "      <td>7.38</td>\n",
       "      <td>[{'id': 500, 'main': 'Rain', 'description': 'l...</td>\n",
       "      <td>0.77</td>\n",
       "      <td>{'1h': 0.81}</td>\n",
       "    </tr>\n",
       "    <tr>\n",
       "      <th>1</th>\n",
       "      <td>1630216800</td>\n",
       "      <td>29.38</td>\n",
       "      <td>36.31</td>\n",
       "      <td>1011</td>\n",
       "      <td>82</td>\n",
       "      <td>25.98</td>\n",
       "      <td>6.97</td>\n",
       "      <td>95</td>\n",
       "      <td>10000</td>\n",
       "      <td>4.93</td>\n",
       "      <td>110</td>\n",
       "      <td>6.81</td>\n",
       "      <td>[{'id': 804, 'main': 'Clouds', 'description': ...</td>\n",
       "      <td>0.77</td>\n",
       "      <td>NaN</td>\n",
       "    </tr>\n",
       "    <tr>\n",
       "      <th>2</th>\n",
       "      <td>1630220400</td>\n",
       "      <td>29.48</td>\n",
       "      <td>35.86</td>\n",
       "      <td>1011</td>\n",
       "      <td>79</td>\n",
       "      <td>25.45</td>\n",
       "      <td>6.35</td>\n",
       "      <td>95</td>\n",
       "      <td>10000</td>\n",
       "      <td>4.21</td>\n",
       "      <td>107</td>\n",
       "      <td>6.00</td>\n",
       "      <td>[{'id': 501, 'main': 'Rain', 'description': 'm...</td>\n",
       "      <td>0.68</td>\n",
       "      <td>{'1h': 1.78}</td>\n",
       "    </tr>\n",
       "    <tr>\n",
       "      <th>3</th>\n",
       "      <td>1630224000</td>\n",
       "      <td>29.52</td>\n",
       "      <td>35.49</td>\n",
       "      <td>1011</td>\n",
       "      <td>77</td>\n",
       "      <td>25.06</td>\n",
       "      <td>3.35</td>\n",
       "      <td>95</td>\n",
       "      <td>10000</td>\n",
       "      <td>4.44</td>\n",
       "      <td>100</td>\n",
       "      <td>5.79</td>\n",
       "      <td>[{'id': 804, 'main': 'Clouds', 'description': ...</td>\n",
       "      <td>0.60</td>\n",
       "      <td>NaN</td>\n",
       "    </tr>\n",
       "    <tr>\n",
       "      <th>4</th>\n",
       "      <td>1630227600</td>\n",
       "      <td>29.34</td>\n",
       "      <td>34.77</td>\n",
       "      <td>1010</td>\n",
       "      <td>76</td>\n",
       "      <td>24.67</td>\n",
       "      <td>1.21</td>\n",
       "      <td>94</td>\n",
       "      <td>10000</td>\n",
       "      <td>4.36</td>\n",
       "      <td>97</td>\n",
       "      <td>5.74</td>\n",
       "      <td>[{'id': 804, 'main': 'Clouds', 'description': ...</td>\n",
       "      <td>0.53</td>\n",
       "      <td>NaN</td>\n",
       "    </tr>\n",
       "  </tbody>\n",
       "</table>\n",
       "</div>"
      ],
      "text/plain": [
       "           dt   temp  feels_like  pressure  humidity  dew_point   uvi  clouds  \\\n",
       "0  1630213200  29.42       35.94      1011        80      25.60  8.39      95   \n",
       "1  1630216800  29.38       36.31      1011        82      25.98  6.97      95   \n",
       "2  1630220400  29.48       35.86      1011        79      25.45  6.35      95   \n",
       "3  1630224000  29.52       35.49      1011        77      25.06  3.35      95   \n",
       "4  1630227600  29.34       34.77      1010        76      24.67  1.21      94   \n",
       "\n",
       "   visibility  wind_speed  wind_deg  wind_gust  \\\n",
       "0       10000        5.30       105       7.38   \n",
       "1       10000        4.93       110       6.81   \n",
       "2       10000        4.21       107       6.00   \n",
       "3       10000        4.44       100       5.79   \n",
       "4       10000        4.36        97       5.74   \n",
       "\n",
       "                                             weather   pop          rain  \n",
       "0  [{'id': 500, 'main': 'Rain', 'description': 'l...  0.77  {'1h': 0.81}  \n",
       "1  [{'id': 804, 'main': 'Clouds', 'description': ...  0.77           NaN  \n",
       "2  [{'id': 501, 'main': 'Rain', 'description': 'm...  0.68  {'1h': 1.78}  \n",
       "3  [{'id': 804, 'main': 'Clouds', 'description': ...  0.60           NaN  \n",
       "4  [{'id': 804, 'main': 'Clouds', 'description': ...  0.53           NaN  "
      ]
     },
     "execution_count": 10,
     "metadata": {},
     "output_type": "execute_result"
    }
   ],
   "source": [
    "df_hourly.head()"
   ]
  },
  {
   "cell_type": "code",
   "execution_count": null,
   "metadata": {},
   "outputs": [],
   "source": []
  }
 ],
 "metadata": {
  "interpreter": {
   "hash": "c1b4cfe941b6d2466ad1fb5979e97da9cda8801728c8091b097ab734208fc00c"
  },
  "kernelspec": {
   "display_name": "Python 3.8.3 64-bit ('base': conda)",
   "name": "python3"
  },
  "language_info": {
   "codemirror_mode": {
    "name": "ipython",
    "version": 3
   },
   "file_extension": ".py",
   "mimetype": "text/x-python",
   "name": "python",
   "nbconvert_exporter": "python",
   "pygments_lexer": "ipython3",
   "version": "3.8.11"
  }
 },
 "nbformat": 4,
 "nbformat_minor": 2
}
