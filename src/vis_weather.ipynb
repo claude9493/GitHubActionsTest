{
 "cells": [
  {
   "cell_type": "code",
   "execution_count": 1,
   "metadata": {
    "execution": {
     "iopub.execute_input": "2021-10-04T07:12:08.657848Z",
     "iopub.status.busy": "2021-10-04T07:12:08.657021Z",
     "iopub.status.idle": "2021-10-04T07:12:11.703188Z",
     "shell.execute_reply": "2021-10-04T07:12:11.703727Z"
    }
   },
   "outputs": [],
   "source": [
    "import json, yaml, requests\r\n",
    "from datetime import datetime\r\n",
    "from dateutil import tz\r\n",
    "import pandas as pd\r\n",
    "from PIL import Image\r\n",
    "from io import BytesIO\r\n",
    "import matplotlib.pyplot as plt\r\n",
    "import seaborn\r\n",
    "\r\n",
    "CONFIG_PATH = \"../config/config.yaml\""
   ]
  },
  {
   "cell_type": "code",
   "execution_count": 2,
   "metadata": {
    "execution": {
     "iopub.execute_input": "2021-10-04T07:12:11.713361Z",
     "iopub.status.busy": "2021-10-04T07:12:11.709715Z",
     "iopub.status.idle": "2021-10-04T07:12:11.717110Z",
     "shell.execute_reply": "2021-10-04T07:12:11.716603Z"
    }
   },
   "outputs": [],
   "source": [
    "with open('../newest_ts', 'r') as f:\r\n",
    "    newest_ts = f.read()\r\n",
    "\r\n",
    "data_path = f\"../data/data_{newest_ts}.json\"\r\n",
    "with open(data_path, 'r') as f:\r\n",
    "    data = json.load(f)\r\n",
    "\r\n",
    "with open(CONFIG_PATH, \"r\") as stream:\r\n",
    "    config = yaml.safe_load(stream)\r\n",
    "\r\n",
    "TIME_ZONE = config['time_zone']\r\n",
    "DATETIME_FORMAT = config['dt_format']"
   ]
  },
  {
   "cell_type": "code",
   "execution_count": 3,
   "metadata": {
    "execution": {
     "iopub.execute_input": "2021-10-04T07:12:11.723348Z",
     "iopub.status.busy": "2021-10-04T07:12:11.721407Z",
     "iopub.status.idle": "2021-10-04T07:12:11.758241Z",
     "shell.execute_reply": "2021-10-04T07:12:11.758693Z"
    }
   },
   "outputs": [
    {
     "name": "stdout",
     "output_type": "stream",
     "text": [
      "Recent query happens at 2021-10-04 15:12:05 (CST).\n"
     ]
    }
   ],
   "source": [
    "def ts2dt(ts, format=DATETIME_FORMAT):\r\n",
    "    dt = (datetime.utcfromtimestamp(int(ts))\r\n",
    "                    .replace(tzinfo=tz.tzutc())\r\n",
    "                    # .astimezone(tz.tzlocal())\r\n",
    "                    .astimezone(tz.gettz(TIME_ZONE)))\r\n",
    "    return dt.strftime(format), dt\r\n",
    "\r\n",
    "_, newest_dt = ts2dt(newest_ts)\r\n",
    "print(f\"Recent query happens at {newest_dt.strftime(DATETIME_FORMAT)} ({newest_dt.tzname()}).\")"
   ]
  },
  {
   "cell_type": "code",
   "execution_count": 4,
   "metadata": {
    "execution": {
     "iopub.execute_input": "2021-10-04T07:12:11.765709Z",
     "iopub.status.busy": "2021-10-04T07:12:11.764148Z",
     "iopub.status.idle": "2021-10-04T07:12:11.766383Z",
     "shell.execute_reply": "2021-10-04T07:12:11.766806Z"
    }
   },
   "outputs": [],
   "source": [
    "def degrees_to_cardinal(d):\r\n",
    "  dirs = ['N', 'NNE', 'NE', 'ENE', 'E', 'ESE', 'SE', 'SSE', 'S', 'SSW', 'SW', 'WSW', 'W', 'WNW', 'NW', 'NNW']\r\n",
    "  ix = int(round(d / (360. / len(dirs))))\r\n",
    "  return dirs[ix % len(dirs)]"
   ]
  },
  {
   "cell_type": "code",
   "execution_count": 5,
   "metadata": {
    "execution": {
     "iopub.execute_input": "2021-10-04T07:12:11.771353Z",
     "iopub.status.busy": "2021-10-04T07:12:11.770315Z",
     "iopub.status.idle": "2021-10-04T07:12:11.773433Z",
     "shell.execute_reply": "2021-10-04T07:12:11.772876Z"
    }
   },
   "outputs": [],
   "source": [
    "# data.keys()"
   ]
  },
  {
   "cell_type": "code",
   "execution_count": 6,
   "metadata": {
    "execution": {
     "iopub.execute_input": "2021-10-04T07:12:11.777374Z",
     "iopub.status.busy": "2021-10-04T07:12:11.776812Z",
     "iopub.status.idle": "2021-10-04T07:12:11.779458Z",
     "shell.execute_reply": "2021-10-04T07:12:11.779007Z"
    }
   },
   "outputs": [],
   "source": [
    "# data['current']"
   ]
  },
  {
   "cell_type": "code",
   "execution_count": 7,
   "metadata": {
    "execution": {
     "iopub.execute_input": "2021-10-04T07:12:11.801840Z",
     "iopub.status.busy": "2021-10-04T07:12:11.790645Z",
     "iopub.status.idle": "2021-10-04T07:12:12.106112Z",
     "shell.execute_reply": "2021-10-04T07:12:12.107555Z"
    }
   },
   "outputs": [
    {
     "data": {
      "image/png": "[encoded data removed]",
      "text/plain": [
       "<Figure size 216x216 with 1 Axes>"
      ]
     },
     "metadata": {
      "needs_background": "light"
     },
     "output_type": "display_data"
    },
    {
     "name": "stdout",
     "output_type": "stream",
     "text": [
      "Today, sun rises at 06:15 and sets at 18:08.\n",
      "Currently, the weather is Clear (clear sky).\n",
      "The temperature is 29.05°C and it feels like 36.05°C.\n",
      "The UV index is 4.85, humidity is 98%.\n",
      "The pressure is 1011 hPa, percentage of cloud cover is 2%\n",
      "The wind comes from E direction with a speed 6.4 m/s.\n"
     ]
    }
   ],
   "source": [
    "current = data['current']\r\n",
    "\r\n",
    "fig, ax = plt.subplots(figsize=(3, 3))\r\n",
    "icon = requests.get(f\"http://openweathermap.org/img/wn/{current['weather'][0]['icon']}@2x.png\")\r\n",
    "im = Image.open(BytesIO(icon.content))\r\n",
    "plt.imshow(im)\r\n",
    "ax.set_axis_off()\r\n",
    "plt.show()\r\n",
    "\r\n",
    "print(f\"Today, sun rises at {ts2dt(current['sunrise'], '%H:%M')[0]} \\\r\n",
    "and sets at {ts2dt(current['sunset'], '%H:%M')[0]}.\\n\\\r\n",
    "Currently, the weather is {current['weather'][0]['main']} ({current['weather'][0]['description']}).\\n\\\r\n",
    "The temperature is {current['temp']}°C and it feels like {current['feels_like']}°C.\\n\\\r\n",
    "The UV index is {current['uvi']}, humidity is {current['humidity']}%.\\n\\\r\n",
    "The pressure is {current['pressure']} hPa, percentage of cloud cover is {current['clouds']}%\\n\\\r\n",
    "The wind comes from {degrees_to_cardinal(current['wind_deg'])} direction with a speed {current['wind_speed']} m/s.\")"
   ]
  },
  {
   "cell_type": "code",
   "execution_count": 8,
   "metadata": {
    "execution": {
     "iopub.execute_input": "2021-10-04T07:12:12.111764Z",
     "iopub.status.busy": "2021-10-04T07:12:12.111081Z",
     "iopub.status.idle": "2021-10-04T07:12:12.119753Z",
     "shell.execute_reply": "2021-10-04T07:12:12.120504Z"
    }
   },
   "outputs": [],
   "source": [
    "df_hourly = pd.DataFrame(data['hourly'])\r\n",
    "df_daily = pd.DataFrame(data['daily'])"
   ]
  },
  {
   "cell_type": "code",
   "execution_count": 9,
   "metadata": {
    "execution": {
     "iopub.execute_input": "2021-10-04T07:12:12.124048Z",
     "iopub.status.busy": "2021-10-04T07:12:12.123489Z",
     "iopub.status.idle": "2021-10-04T07:12:12.472326Z",
     "shell.execute_reply": "2021-10-04T07:12:12.471175Z"
    }
   },
   "outputs": [
    {
     "data": {
      "image/png": "[encoded data removed]",
      "text/plain": [
       "<Figure size 864x432 with 1 Axes>"
      ]
     },
     "metadata": {
      "needs_background": "light"
     },
     "output_type": "display_data"
    }
   ],
   "source": [
    "fig, ax = plt.subplots(figsize=(12, 6))\r\n",
    "plt.plot(df_hourly.temp, '.-', label='Temperature')\r\n",
    "plt.plot(df_hourly.feels_like, '.-', label='Feels Like')\r\n",
    "ax.set(title='Temperature in future 48 hours', xlabel='Time', ylabel='Temperature')\r\n",
    "ax.set_xticks(list(range(0, len(df_hourly), 2)))\r\n",
    "ax.set_xticklabels([ts2dt(ts, '%m-%d %H:%M')[0] for i, ts in enumerate(df_hourly.dt) if i%2==0], \r\n",
    "                   rotation=45, ha=\"right\")\r\n",
    "ax.locator_params(nbins=15, axis='y')\r\n",
    "plt.legend()\r\n",
    "plt.show()"
   ]
  },
  {
   "cell_type": "code",
   "execution_count": 10,
   "metadata": {
    "execution": {
     "iopub.execute_input": "2021-10-04T07:12:12.485157Z",
     "iopub.status.busy": "2021-10-04T07:12:12.476923Z",
     "iopub.status.idle": "2021-10-04T07:12:12.500330Z",
     "shell.execute_reply": "2021-10-04T07:12:12.500774Z"
    }
   },
   "outputs": [
    {
     "data": {
      "text/html": [
       "<div>\n",
       "<style scoped>\n",
       "    .dataframe tbody tr th:only-of-type {\n",
       "        vertical-align: middle;\n",
       "    }\n",
       "\n",
       "    .dataframe tbody tr th {\n",
       "        vertical-align: top;\n",
       "    }\n",
       "\n",
       "    .dataframe thead th {\n",
       "        text-align: right;\n",
       "    }\n",
       "</style>\n",
       "<table border=\"1\" class=\"dataframe\">\n",
       "  <thead>\n",
       "    <tr style=\"text-align: right;\">\n",
       "      <th></th>\n",
       "      <th>dt</th>\n",
       "      <th>temp</th>\n",
       "      <th>feels_like</th>\n",
       "      <th>pressure</th>\n",
       "      <th>humidity</th>\n",
       "      <th>dew_point</th>\n",
       "      <th>uvi</th>\n",
       "      <th>clouds</th>\n",
       "      <th>visibility</th>\n",
       "      <th>wind_speed</th>\n",
       "      <th>wind_deg</th>\n",
       "      <th>wind_gust</th>\n",
       "      <th>weather</th>\n",
       "      <th>pop</th>\n",
       "    </tr>\n",
       "  </thead>\n",
       "  <tbody>\n",
       "    <tr>\n",
       "      <th>0</th>\n",
       "      <td>1633330800</td>\n",
       "      <td>29.05</td>\n",
       "      <td>36.05</td>\n",
       "      <td>1011</td>\n",
       "      <td>98</td>\n",
       "      <td>28.70</td>\n",
       "      <td>4.85</td>\n",
       "      <td>2</td>\n",
       "      <td>10000</td>\n",
       "      <td>6.40</td>\n",
       "      <td>86</td>\n",
       "      <td>7.80</td>\n",
       "      <td>[{'id': 800, 'main': 'Clear', 'description': '...</td>\n",
       "      <td>0.0</td>\n",
       "    </tr>\n",
       "    <tr>\n",
       "      <th>1</th>\n",
       "      <td>1633334400</td>\n",
       "      <td>29.02</td>\n",
       "      <td>36.02</td>\n",
       "      <td>1011</td>\n",
       "      <td>91</td>\n",
       "      <td>27.40</td>\n",
       "      <td>2.33</td>\n",
       "      <td>2</td>\n",
       "      <td>10000</td>\n",
       "      <td>5.96</td>\n",
       "      <td>94</td>\n",
       "      <td>7.49</td>\n",
       "      <td>[{'id': 800, 'main': 'Clear', 'description': '...</td>\n",
       "      <td>0.0</td>\n",
       "    </tr>\n",
       "    <tr>\n",
       "      <th>2</th>\n",
       "      <td>1633338000</td>\n",
       "      <td>28.83</td>\n",
       "      <td>35.57</td>\n",
       "      <td>1011</td>\n",
       "      <td>86</td>\n",
       "      <td>26.25</td>\n",
       "      <td>0.71</td>\n",
       "      <td>2</td>\n",
       "      <td>10000</td>\n",
       "      <td>5.54</td>\n",
       "      <td>97</td>\n",
       "      <td>7.07</td>\n",
       "      <td>[{'id': 800, 'main': 'Clear', 'description': '...</td>\n",
       "      <td>0.0</td>\n",
       "    </tr>\n",
       "    <tr>\n",
       "      <th>3</th>\n",
       "      <td>1633341600</td>\n",
       "      <td>28.40</td>\n",
       "      <td>33.30</td>\n",
       "      <td>1011</td>\n",
       "      <td>81</td>\n",
       "      <td>24.82</td>\n",
       "      <td>0.00</td>\n",
       "      <td>1</td>\n",
       "      <td>10000</td>\n",
       "      <td>5.21</td>\n",
       "      <td>97</td>\n",
       "      <td>6.84</td>\n",
       "      <td>[{'id': 800, 'main': 'Clear', 'description': '...</td>\n",
       "      <td>0.0</td>\n",
       "    </tr>\n",
       "    <tr>\n",
       "      <th>4</th>\n",
       "      <td>1633345200</td>\n",
       "      <td>28.05</td>\n",
       "      <td>31.76</td>\n",
       "      <td>1012</td>\n",
       "      <td>77</td>\n",
       "      <td>23.64</td>\n",
       "      <td>0.00</td>\n",
       "      <td>1</td>\n",
       "      <td>10000</td>\n",
       "      <td>5.23</td>\n",
       "      <td>91</td>\n",
       "      <td>7.19</td>\n",
       "      <td>[{'id': 800, 'main': 'Clear', 'description': '...</td>\n",
       "      <td>0.0</td>\n",
       "    </tr>\n",
       "  </tbody>\n",
       "</table>\n",
       "</div>"
      ],
      "text/plain": [
       "           dt   temp  feels_like  pressure  humidity  dew_point   uvi  clouds  \\\n",
       "0  1633330800  29.05       36.05      1011        98      28.70  4.85       2   \n",
       "1  1633334400  29.02       36.02      1011        91      27.40  2.33       2   \n",
       "2  1633338000  28.83       35.57      1011        86      26.25  0.71       2   \n",
       "3  1633341600  28.40       33.30      1011        81      24.82  0.00       1   \n",
       "4  1633345200  28.05       31.76      1012        77      23.64  0.00       1   \n",
       "\n",
       "   visibility  wind_speed  wind_deg  wind_gust  \\\n",
       "0       10000        6.40        86       7.80   \n",
       "1       10000        5.96        94       7.49   \n",
       "2       10000        5.54        97       7.07   \n",
       "3       10000        5.21        97       6.84   \n",
       "4       10000        5.23        91       7.19   \n",
       "\n",
       "                                             weather  pop  \n",
       "0  [{'id': 800, 'main': 'Clear', 'description': '...  0.0  \n",
       "1  [{'id': 800, 'main': 'Clear', 'description': '...  0.0  \n",
       "2  [{'id': 800, 'main': 'Clear', 'description': '...  0.0  \n",
       "3  [{'id': 800, 'main': 'Clear', 'description': '...  0.0  \n",
       "4  [{'id': 800, 'main': 'Clear', 'description': '...  0.0  "
      ]
     },
     "execution_count": 10,
     "metadata": {},
     "output_type": "execute_result"
    }
   ],
   "source": [
    "df_hourly.head()"
   ]
  },
  {
   "cell_type": "code",
   "execution_count": null,
   "metadata": {},
   "outputs": [],
   "source": []
  }
 ],
 "metadata": {
  "interpreter": {
   "hash": "c1b4cfe941b6d2466ad1fb5979e97da9cda8801728c8091b097ab734208fc00c"
  },
  "kernelspec": {
   "display_name": "Python 3.8.3 64-bit ('base': conda)",
   "name": "python3"
  },
  "language_info": {
   "codemirror_mode": {
    "name": "ipython",
    "version": 3
   },
   "file_extension": ".py",
   "mimetype": "text/x-python",
   "name": "python",
   "nbconvert_exporter": "python",
   "pygments_lexer": "ipython3",
   "version": "3.8.12"
  }
 },
 "nbformat": 4,
 "nbformat_minor": 2
}
