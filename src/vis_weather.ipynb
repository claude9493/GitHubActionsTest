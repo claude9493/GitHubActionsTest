{
 "cells": [
  {
   "cell_type": "code",
   "execution_count": 1,
   "metadata": {
    "execution": {
     "iopub.execute_input": "2021-08-24T19:12:21.429887Z",
     "iopub.status.busy": "2021-08-24T19:12:21.429304Z",
     "iopub.status.idle": "2021-08-24T19:12:24.047556Z",
     "shell.execute_reply": "2021-08-24T19:12:24.048061Z"
    }
   },
   "outputs": [],
   "source": [
    "import json, yaml, requests\r\n",
    "from datetime import datetime\r\n",
    "from dateutil import tz\r\n",
    "import pandas as pd\r\n",
    "from PIL import Image\r\n",
    "from io import BytesIO\r\n",
    "import matplotlib.pyplot as plt\r\n",
    "import seaborn\r\n",
    "\r\n",
    "CONFIG_PATH = \"../config/config.yaml\""
   ]
  },
  {
   "cell_type": "code",
   "execution_count": 2,
   "metadata": {
    "execution": {
     "iopub.execute_input": "2021-08-24T19:12:24.055575Z",
     "iopub.status.busy": "2021-08-24T19:12:24.052449Z",
     "iopub.status.idle": "2021-08-24T19:12:24.059178Z",
     "shell.execute_reply": "2021-08-24T19:12:24.058381Z"
    }
   },
   "outputs": [],
   "source": [
    "with open('../newest_ts', 'r') as f:\r\n",
    "    newest_ts = f.read()\r\n",
    "\r\n",
    "data_path = f\"../data/data_{newest_ts}.json\"\r\n",
    "with open(data_path, 'r') as f:\r\n",
    "    data = json.load(f)\r\n",
    "\r\n",
    "with open(CONFIG_PATH, \"r\") as stream:\r\n",
    "    config = yaml.safe_load(stream)\r\n",
    "\r\n",
    "TIME_ZONE = config['time_zone']\r\n",
    "DATETIME_FORMAT = config['dt_format']"
   ]
  },
  {
   "cell_type": "code",
   "execution_count": 3,
   "metadata": {
    "execution": {
     "iopub.execute_input": "2021-08-24T19:12:24.063792Z",
     "iopub.status.busy": "2021-08-24T19:12:24.062978Z",
     "iopub.status.idle": "2021-08-24T19:12:24.105762Z",
     "shell.execute_reply": "2021-08-24T19:12:24.104928Z"
    }
   },
   "outputs": [
    {
     "name": "stdout",
     "output_type": "stream",
     "text": [
      "Recent query happens at 2021-08-25 03:12:18 (CST).\n"
     ]
    }
   ],
   "source": [
    "def ts2dt(ts, format=DATETIME_FORMAT):\r\n",
    "    dt = (datetime.utcfromtimestamp(int(ts))\r\n",
    "                    .replace(tzinfo=tz.tzutc())\r\n",
    "                    # .astimezone(tz.tzlocal())\r\n",
    "                    .astimezone(tz.gettz(TIME_ZONE)))\r\n",
    "    return dt.strftime(format), dt\r\n",
    "\r\n",
    "_, newest_dt = ts2dt(newest_ts)\r\n",
    "print(f\"Recent query happens at {newest_dt.strftime(DATETIME_FORMAT)} ({newest_dt.tzname()}).\")"
   ]
  },
  {
   "cell_type": "code",
   "execution_count": 4,
   "metadata": {
    "execution": {
     "iopub.execute_input": "2021-08-24T19:12:24.110538Z",
     "iopub.status.busy": "2021-08-24T19:12:24.110041Z",
     "iopub.status.idle": "2021-08-24T19:12:24.113066Z",
     "shell.execute_reply": "2021-08-24T19:12:24.113469Z"
    }
   },
   "outputs": [],
   "source": [
    "def degrees_to_cardinal(d):\r\n",
    "  dirs = ['N', 'NNE', 'NE', 'ENE', 'E', 'ESE', 'SE', 'SSE', 'S', 'SSW', 'SW', 'WSW', 'W', 'WNW', 'NW', 'NNW']\r\n",
    "  ix = int(round(d / (360. / len(dirs))))\r\n",
    "  return dirs[ix % len(dirs)]"
   ]
  },
  {
   "cell_type": "code",
   "execution_count": 5,
   "metadata": {
    "execution": {
     "iopub.execute_input": "2021-08-24T19:12:24.118215Z",
     "iopub.status.busy": "2021-08-24T19:12:24.116965Z",
     "iopub.status.idle": "2021-08-24T19:12:24.118797Z",
     "shell.execute_reply": "2021-08-24T19:12:24.119261Z"
    }
   },
   "outputs": [],
   "source": [
    "# data.keys()"
   ]
  },
  {
   "cell_type": "code",
   "execution_count": 6,
   "metadata": {
    "execution": {
     "iopub.execute_input": "2021-08-24T19:12:24.124455Z",
     "iopub.status.busy": "2021-08-24T19:12:24.122963Z",
     "iopub.status.idle": "2021-08-24T19:12:24.125176Z",
     "shell.execute_reply": "2021-08-24T19:12:24.125577Z"
    }
   },
   "outputs": [],
   "source": [
    "# data['current']"
   ]
  },
  {
   "cell_type": "code",
   "execution_count": 7,
   "metadata": {
    "execution": {
     "iopub.execute_input": "2021-08-24T19:12:24.145487Z",
     "iopub.status.busy": "2021-08-24T19:12:24.139693Z",
     "iopub.status.idle": "2021-08-24T19:12:24.592166Z",
     "shell.execute_reply": "2021-08-24T19:12:24.592973Z"
    }
   },
   "outputs": [
    {
     "data": {
      "image/png": "[encoded data removed]",
      "text/plain": [
       "<Figure size 216x216 with 1 Axes>"
      ]
     },
     "metadata": {
      "needs_background": "light"
     },
     "output_type": "display_data"
    },
    {
     "name": "stdout",
     "output_type": "stream",
     "text": [
      "Today, sun rises at 06:03 and sets at 18:46.\n",
      "Currently, the weather is Clouds (overcast clouds).\n",
      "The temperature is 29.31°C and it feels like 36.1°C.\n",
      "The UV index is 0, humidity is 82%.\n",
      "The pressure is 1008 hPa, percentage of cloud cover is 100%\n",
      "The wind comes from SSE direction with a speed 2.71 m/s.\n"
     ]
    }
   ],
   "source": [
    "current = data['current']\r\n",
    "\r\n",
    "fig, ax = plt.subplots(figsize=(3, 3))\r\n",
    "icon = requests.get(f\"http://openweathermap.org/img/wn/{current['weather'][0]['icon']}@2x.png\")\r\n",
    "im = Image.open(BytesIO(icon.content))\r\n",
    "plt.imshow(im)\r\n",
    "ax.set_axis_off()\r\n",
    "plt.show()\r\n",
    "\r\n",
    "print(f\"Today, sun rises at {ts2dt(current['sunrise'], '%H:%M')[0]} \\\r\n",
    "and sets at {ts2dt(current['sunset'], '%H:%M')[0]}.\\n\\\r\n",
    "Currently, the weather is {current['weather'][0]['main']} ({current['weather'][0]['description']}).\\n\\\r\n",
    "The temperature is {current['temp']}°C and it feels like {current['feels_like']}°C.\\n\\\r\n",
    "The UV index is {current['uvi']}, humidity is {current['humidity']}%.\\n\\\r\n",
    "The pressure is {current['pressure']} hPa, percentage of cloud cover is {current['clouds']}%\\n\\\r\n",
    "The wind comes from {degrees_to_cardinal(current['wind_deg'])} direction with a speed {current['wind_speed']} m/s.\")"
   ]
  },
  {
   "cell_type": "code",
   "execution_count": 8,
   "metadata": {
    "execution": {
     "iopub.execute_input": "2021-08-24T19:12:24.601728Z",
     "iopub.status.busy": "2021-08-24T19:12:24.598423Z",
     "iopub.status.idle": "2021-08-24T19:12:24.604827Z",
     "shell.execute_reply": "2021-08-24T19:12:24.605648Z"
    }
   },
   "outputs": [],
   "source": [
    "df_hourly = pd.DataFrame(data['hourly'])\r\n",
    "df_daily = pd.DataFrame(data['daily'])"
   ]
  },
  {
   "cell_type": "code",
   "execution_count": 9,
   "metadata": {
    "execution": {
     "iopub.execute_input": "2021-08-24T19:12:24.617919Z",
     "iopub.status.busy": "2021-08-24T19:12:24.617348Z",
     "iopub.status.idle": "2021-08-24T19:12:24.919812Z",
     "shell.execute_reply": "2021-08-24T19:12:24.919072Z"
    }
   },
   "outputs": [
    {
     "data": {
      "image/png": "[encoded data removed]",
      "text/plain": [
       "<Figure size 864x432 with 1 Axes>"
      ]
     },
     "metadata": {
      "needs_background": "light"
     },
     "output_type": "display_data"
    }
   ],
   "source": [
    "fig, ax = plt.subplots(figsize=(12, 6))\r\n",
    "plt.plot(df_hourly.temp, '.-', label='Temperature')\r\n",
    "plt.plot(df_hourly.feels_like, '.-', label='Feels Like')\r\n",
    "ax.set(title='Temperature in future 48 hours', xlabel='Time', ylabel='Temperature')\r\n",
    "ax.set_xticks(list(range(0, len(df_hourly), 2)))\r\n",
    "ax.set_xticklabels([ts2dt(ts, '%m-%d %H:%M')[0] for i, ts in enumerate(df_hourly.dt) if i%2==0], \r\n",
    "                   rotation=45, ha=\"right\")\r\n",
    "ax.locator_params(nbins=15, axis='y')\r\n",
    "plt.legend()\r\n",
    "plt.show()"
   ]
  },
  {
   "cell_type": "code",
   "execution_count": 10,
   "metadata": {
    "execution": {
     "iopub.execute_input": "2021-08-24T19:12:24.931661Z",
     "iopub.status.busy": "2021-08-24T19:12:24.923897Z",
     "iopub.status.idle": "2021-08-24T19:12:24.942986Z",
     "shell.execute_reply": "2021-08-24T19:12:24.943560Z"
    }
   },
   "outputs": [
    {
     "data": {
      "text/html": [
       "<div>\n",
       "<style scoped>\n",
       "    .dataframe tbody tr th:only-of-type {\n",
       "        vertical-align: middle;\n",
       "    }\n",
       "\n",
       "    .dataframe tbody tr th {\n",
       "        vertical-align: top;\n",
       "    }\n",
       "\n",
       "    .dataframe thead th {\n",
       "        text-align: right;\n",
       "    }\n",
       "</style>\n",
       "<table border=\"1\" class=\"dataframe\">\n",
       "  <thead>\n",
       "    <tr style=\"text-align: right;\">\n",
       "      <th></th>\n",
       "      <th>dt</th>\n",
       "      <th>temp</th>\n",
       "      <th>feels_like</th>\n",
       "      <th>pressure</th>\n",
       "      <th>humidity</th>\n",
       "      <th>dew_point</th>\n",
       "      <th>uvi</th>\n",
       "      <th>clouds</th>\n",
       "      <th>visibility</th>\n",
       "      <th>wind_speed</th>\n",
       "      <th>wind_deg</th>\n",
       "      <th>wind_gust</th>\n",
       "      <th>weather</th>\n",
       "      <th>pop</th>\n",
       "      <th>rain</th>\n",
       "    </tr>\n",
       "  </thead>\n",
       "  <tbody>\n",
       "    <tr>\n",
       "      <th>0</th>\n",
       "      <td>1629831600</td>\n",
       "      <td>29.31</td>\n",
       "      <td>36.10</td>\n",
       "      <td>1008</td>\n",
       "      <td>82</td>\n",
       "      <td>25.91</td>\n",
       "      <td>0.00</td>\n",
       "      <td>100</td>\n",
       "      <td>10000</td>\n",
       "      <td>2.71</td>\n",
       "      <td>150</td>\n",
       "      <td>3.71</td>\n",
       "      <td>[{'id': 500, 'main': 'Rain', 'description': 'l...</td>\n",
       "      <td>0.37</td>\n",
       "      <td>{'1h': 0.19}</td>\n",
       "    </tr>\n",
       "    <tr>\n",
       "      <th>1</th>\n",
       "      <td>1629835200</td>\n",
       "      <td>28.97</td>\n",
       "      <td>35.32</td>\n",
       "      <td>1008</td>\n",
       "      <td>83</td>\n",
       "      <td>25.79</td>\n",
       "      <td>0.00</td>\n",
       "      <td>100</td>\n",
       "      <td>10000</td>\n",
       "      <td>2.36</td>\n",
       "      <td>148</td>\n",
       "      <td>3.19</td>\n",
       "      <td>[{'id': 500, 'main': 'Rain', 'description': 'l...</td>\n",
       "      <td>0.41</td>\n",
       "      <td>{'1h': 0.18}</td>\n",
       "    </tr>\n",
       "    <tr>\n",
       "      <th>2</th>\n",
       "      <td>1629838800</td>\n",
       "      <td>28.65</td>\n",
       "      <td>34.38</td>\n",
       "      <td>1008</td>\n",
       "      <td>83</td>\n",
       "      <td>25.48</td>\n",
       "      <td>0.00</td>\n",
       "      <td>100</td>\n",
       "      <td>10000</td>\n",
       "      <td>2.29</td>\n",
       "      <td>139</td>\n",
       "      <td>3.07</td>\n",
       "      <td>[{'id': 804, 'main': 'Clouds', 'description': ...</td>\n",
       "      <td>0.37</td>\n",
       "      <td>NaN</td>\n",
       "    </tr>\n",
       "    <tr>\n",
       "      <th>3</th>\n",
       "      <td>1629842400</td>\n",
       "      <td>28.27</td>\n",
       "      <td>33.31</td>\n",
       "      <td>1008</td>\n",
       "      <td>83</td>\n",
       "      <td>25.10</td>\n",
       "      <td>0.00</td>\n",
       "      <td>100</td>\n",
       "      <td>10000</td>\n",
       "      <td>2.19</td>\n",
       "      <td>132</td>\n",
       "      <td>2.86</td>\n",
       "      <td>[{'id': 500, 'main': 'Rain', 'description': 'l...</td>\n",
       "      <td>0.53</td>\n",
       "      <td>{'1h': 0.14}</td>\n",
       "    </tr>\n",
       "    <tr>\n",
       "      <th>4</th>\n",
       "      <td>1629846000</td>\n",
       "      <td>28.19</td>\n",
       "      <td>32.92</td>\n",
       "      <td>1008</td>\n",
       "      <td>82</td>\n",
       "      <td>24.82</td>\n",
       "      <td>0.37</td>\n",
       "      <td>99</td>\n",
       "      <td>10000</td>\n",
       "      <td>2.01</td>\n",
       "      <td>131</td>\n",
       "      <td>2.68</td>\n",
       "      <td>[{'id': 500, 'main': 'Rain', 'description': 'l...</td>\n",
       "      <td>0.53</td>\n",
       "      <td>{'1h': 0.3}</td>\n",
       "    </tr>\n",
       "  </tbody>\n",
       "</table>\n",
       "</div>"
      ],
      "text/plain": [
       "           dt   temp  feels_like  pressure  humidity  dew_point   uvi  clouds  \\\n",
       "0  1629831600  29.31       36.10      1008        82      25.91  0.00     100   \n",
       "1  1629835200  28.97       35.32      1008        83      25.79  0.00     100   \n",
       "2  1629838800  28.65       34.38      1008        83      25.48  0.00     100   \n",
       "3  1629842400  28.27       33.31      1008        83      25.10  0.00     100   \n",
       "4  1629846000  28.19       32.92      1008        82      24.82  0.37      99   \n",
       "\n",
       "   visibility  wind_speed  wind_deg  wind_gust  \\\n",
       "0       10000        2.71       150       3.71   \n",
       "1       10000        2.36       148       3.19   \n",
       "2       10000        2.29       139       3.07   \n",
       "3       10000        2.19       132       2.86   \n",
       "4       10000        2.01       131       2.68   \n",
       "\n",
       "                                             weather   pop          rain  \n",
       "0  [{'id': 500, 'main': 'Rain', 'description': 'l...  0.37  {'1h': 0.19}  \n",
       "1  [{'id': 500, 'main': 'Rain', 'description': 'l...  0.41  {'1h': 0.18}  \n",
       "2  [{'id': 804, 'main': 'Clouds', 'description': ...  0.37           NaN  \n",
       "3  [{'id': 500, 'main': 'Rain', 'description': 'l...  0.53  {'1h': 0.14}  \n",
       "4  [{'id': 500, 'main': 'Rain', 'description': 'l...  0.53   {'1h': 0.3}  "
      ]
     },
     "execution_count": 10,
     "metadata": {},
     "output_type": "execute_result"
    }
   ],
   "source": [
    "df_hourly.head()"
   ]
  },
  {
   "cell_type": "code",
   "execution_count": null,
   "metadata": {},
   "outputs": [],
   "source": []
  }
 ],
 "metadata": {
  "interpreter": {
   "hash": "c1b4cfe941b6d2466ad1fb5979e97da9cda8801728c8091b097ab734208fc00c"
  },
  "kernelspec": {
   "display_name": "Python 3.8.3 64-bit ('base': conda)",
   "name": "python3"
  },
  "language_info": {
   "codemirror_mode": {
    "name": "ipython",
    "version": 3
   },
   "file_extension": ".py",
   "mimetype": "text/x-python",
   "name": "python",
   "nbconvert_exporter": "python",
   "pygments_lexer": "ipython3",
   "version": "3.8.11"
  }
 },
 "nbformat": 4,
 "nbformat_minor": 2
}
