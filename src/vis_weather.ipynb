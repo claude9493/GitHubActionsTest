{
 "cells": [
  {
   "cell_type": "code",
   "execution_count": 1,
   "metadata": {
    "execution": {
     "iopub.execute_input": "2021-08-22T20:38:13.854038Z",
     "iopub.status.busy": "2021-08-22T20:38:13.853388Z",
     "iopub.status.idle": "2021-08-22T20:38:15.363928Z",
     "shell.execute_reply": "2021-08-22T20:38:15.362933Z"
    }
   },
   "outputs": [],
   "source": [
    "import json\r\n",
    "from datetime import datetime\r\n",
    "from dateutil import tz\r\n",
    "import pandas as pd\r\n",
    "import matplotlib.pyplot as plt\r\n",
    "import seaborn\r\n"
   ]
  },
  {
   "cell_type": "code",
   "execution_count": 2,
   "metadata": {
    "execution": {
     "iopub.execute_input": "2021-08-22T20:38:15.369639Z",
     "iopub.status.busy": "2021-08-22T20:38:15.368966Z",
     "iopub.status.idle": "2021-08-22T20:38:15.373337Z",
     "shell.execute_reply": "2021-08-22T20:38:15.372696Z"
    }
   },
   "outputs": [],
   "source": [
    "with open('../newest_ts', 'r') as f:\r\n",
    "    ts = f.read()\r\n",
    "\r\n",
    "data_path = f\"../data/data_{ts}.json\"\r\n",
    "with open(data_path, 'r') as f:\r\n",
    "    data = json.load(f)"
   ]
  },
  {
   "cell_type": "code",
   "execution_count": 3,
   "metadata": {
    "execution": {
     "iopub.execute_input": "2021-08-22T20:38:15.378440Z",
     "iopub.status.busy": "2021-08-22T20:38:15.377406Z",
     "iopub.status.idle": "2021-08-22T20:38:15.382777Z",
     "shell.execute_reply": "2021-08-22T20:38:15.383203Z"
    }
   },
   "outputs": [
    {
     "name": "stdout",
     "output_type": "stream",
     "text": [
      "Recent query happens at 2021-08-22 20:38:10\n"
     ]
    }
   ],
   "source": [
    "def ts2dt(ts, format='%Y-%m-%d %H:%M:%S'):\r\n",
    "    return (datetime.utcfromtimestamp(int(ts))\r\n",
    "                    .replace(tzinfo=tz.tzutc())\r\n",
    "                    .astimezone(tz.tzlocal())\r\n",
    "                    .strftime(format))\r\n",
    "\r\n",
    "print(f\"Recent query happens at {ts2dt(ts)}\")"
   ]
  },
  {
   "cell_type": "code",
   "execution_count": 4,
   "metadata": {
    "execution": {
     "iopub.execute_input": "2021-08-22T20:38:15.389778Z",
     "iopub.status.busy": "2021-08-22T20:38:15.389260Z",
     "iopub.status.idle": "2021-08-22T20:38:15.395195Z",
     "shell.execute_reply": "2021-08-22T20:38:15.394669Z"
    }
   },
   "outputs": [
    {
     "data": {
      "text/plain": [
       "dict_keys(['lat', 'lon', 'timezone', 'timezone_offset', 'current', 'hourly', 'daily'])"
      ]
     },
     "execution_count": 4,
     "metadata": {},
     "output_type": "execute_result"
    }
   ],
   "source": [
    "data.keys()"
   ]
  },
  {
   "cell_type": "code",
   "execution_count": 5,
   "metadata": {
    "execution": {
     "iopub.execute_input": "2021-08-22T20:38:15.400559Z",
     "iopub.status.busy": "2021-08-22T20:38:15.400002Z",
     "iopub.status.idle": "2021-08-22T20:38:15.405282Z",
     "shell.execute_reply": "2021-08-22T20:38:15.405734Z"
    }
   },
   "outputs": [
    {
     "data": {
      "text/plain": [
       "{'dt': 1629664690,\n",
       " 'sunrise': 1629669780,\n",
       " 'sunset': 1629715720,\n",
       " 'temp': 28.73,\n",
       " 'feels_like': 35.47,\n",
       " 'pressure': 1007,\n",
       " 'humidity': 87,\n",
       " 'dew_point': 26.35,\n",
       " 'uvi': 0,\n",
       " 'clouds': 91,\n",
       " 'visibility': 10000,\n",
       " 'wind_speed': 2.77,\n",
       " 'wind_deg': 220,\n",
       " 'wind_gust': 3.9,\n",
       " 'weather': [{'id': 804,\n",
       "   'main': 'Clouds',\n",
       "   'description': 'overcast clouds',\n",
       "   'icon': '04n'}]}"
      ]
     },
     "execution_count": 5,
     "metadata": {},
     "output_type": "execute_result"
    }
   ],
   "source": [
    "data['current']"
   ]
  },
  {
   "cell_type": "code",
   "execution_count": 6,
   "metadata": {
    "execution": {
     "iopub.execute_input": "2021-08-22T20:38:15.413663Z",
     "iopub.status.busy": "2021-08-22T20:38:15.411611Z",
     "iopub.status.idle": "2021-08-22T20:38:15.415979Z",
     "shell.execute_reply": "2021-08-22T20:38:15.415403Z"
    }
   },
   "outputs": [
    {
     "data": {
      "text/plain": [
       "{'dt': 1629662400,\n",
       " 'temp': 28.52,\n",
       " 'feels_like': 34.61,\n",
       " 'pressure': 1007,\n",
       " 'humidity': 86,\n",
       " 'dew_point': 25.95,\n",
       " 'uvi': 0,\n",
       " 'clouds': 91,\n",
       " 'visibility': 10000,\n",
       " 'wind_speed': 3.49,\n",
       " 'wind_deg': 221,\n",
       " 'wind_gust': 4.79,\n",
       " 'weather': [{'id': 500,\n",
       "   'main': 'Rain',\n",
       "   'description': 'light rain',\n",
       "   'icon': '10n'}],\n",
       " 'pop': 0.65,\n",
       " 'rain': {'1h': 0.32}}"
      ]
     },
     "execution_count": 6,
     "metadata": {},
     "output_type": "execute_result"
    }
   ],
   "source": [
    "data['hourly'][0]"
   ]
  },
  {
   "cell_type": "code",
   "execution_count": 7,
   "metadata": {
    "execution": {
     "iopub.execute_input": "2021-08-22T20:38:15.424843Z",
     "iopub.status.busy": "2021-08-22T20:38:15.421668Z",
     "iopub.status.idle": "2021-08-22T20:38:15.427094Z",
     "shell.execute_reply": "2021-08-22T20:38:15.427707Z"
    }
   },
   "outputs": [],
   "source": [
    "df_hourly = pd.DataFrame(data['hourly'])\r\n",
    "df_daily = pd.DataFrame(data['daily'])"
   ]
  },
  {
   "cell_type": "code",
   "execution_count": 8,
   "metadata": {
    "execution": {
     "iopub.execute_input": "2021-08-22T20:38:15.440687Z",
     "iopub.status.busy": "2021-08-22T20:38:15.432000Z",
     "iopub.status.idle": "2021-08-22T20:38:15.452344Z",
     "shell.execute_reply": "2021-08-22T20:38:15.452791Z"
    }
   },
   "outputs": [
    {
     "data": {
      "text/html": [
       "<div>\n",
       "<style scoped>\n",
       "    .dataframe tbody tr th:only-of-type {\n",
       "        vertical-align: middle;\n",
       "    }\n",
       "\n",
       "    .dataframe tbody tr th {\n",
       "        vertical-align: top;\n",
       "    }\n",
       "\n",
       "    .dataframe thead th {\n",
       "        text-align: right;\n",
       "    }\n",
       "</style>\n",
       "<table border=\"1\" class=\"dataframe\">\n",
       "  <thead>\n",
       "    <tr style=\"text-align: right;\">\n",
       "      <th></th>\n",
       "      <th>dt</th>\n",
       "      <th>temp</th>\n",
       "      <th>feels_like</th>\n",
       "      <th>pressure</th>\n",
       "      <th>humidity</th>\n",
       "      <th>dew_point</th>\n",
       "      <th>uvi</th>\n",
       "      <th>clouds</th>\n",
       "      <th>visibility</th>\n",
       "      <th>wind_speed</th>\n",
       "      <th>wind_deg</th>\n",
       "      <th>wind_gust</th>\n",
       "      <th>weather</th>\n",
       "      <th>pop</th>\n",
       "      <th>rain</th>\n",
       "    </tr>\n",
       "  </thead>\n",
       "  <tbody>\n",
       "    <tr>\n",
       "      <th>0</th>\n",
       "      <td>1629662400</td>\n",
       "      <td>28.52</td>\n",
       "      <td>34.61</td>\n",
       "      <td>1007</td>\n",
       "      <td>86</td>\n",
       "      <td>25.95</td>\n",
       "      <td>0.0</td>\n",
       "      <td>91</td>\n",
       "      <td>10000</td>\n",
       "      <td>3.49</td>\n",
       "      <td>221</td>\n",
       "      <td>4.79</td>\n",
       "      <td>[{'id': 500, 'main': 'Rain', 'description': 'l...</td>\n",
       "      <td>0.65</td>\n",
       "      <td>{'1h': 0.32}</td>\n",
       "    </tr>\n",
       "    <tr>\n",
       "      <th>1</th>\n",
       "      <td>1629666000</td>\n",
       "      <td>28.73</td>\n",
       "      <td>35.47</td>\n",
       "      <td>1007</td>\n",
       "      <td>87</td>\n",
       "      <td>26.35</td>\n",
       "      <td>0.0</td>\n",
       "      <td>91</td>\n",
       "      <td>10000</td>\n",
       "      <td>2.77</td>\n",
       "      <td>220</td>\n",
       "      <td>3.90</td>\n",
       "      <td>[{'id': 804, 'main': 'Clouds', 'description': ...</td>\n",
       "      <td>0.72</td>\n",
       "      <td>NaN</td>\n",
       "    </tr>\n",
       "    <tr>\n",
       "      <th>2</th>\n",
       "      <td>1629669600</td>\n",
       "      <td>28.51</td>\n",
       "      <td>34.58</td>\n",
       "      <td>1007</td>\n",
       "      <td>86</td>\n",
       "      <td>25.94</td>\n",
       "      <td>0.0</td>\n",
       "      <td>88</td>\n",
       "      <td>10000</td>\n",
       "      <td>3.63</td>\n",
       "      <td>218</td>\n",
       "      <td>4.70</td>\n",
       "      <td>[{'id': 500, 'main': 'Rain', 'description': 'l...</td>\n",
       "      <td>0.67</td>\n",
       "      <td>{'1h': 0.15}</td>\n",
       "    </tr>\n",
       "    <tr>\n",
       "      <th>3</th>\n",
       "      <td>1629673200</td>\n",
       "      <td>28.46</td>\n",
       "      <td>34.23</td>\n",
       "      <td>1007</td>\n",
       "      <td>85</td>\n",
       "      <td>25.69</td>\n",
       "      <td>0.4</td>\n",
       "      <td>87</td>\n",
       "      <td>10000</td>\n",
       "      <td>3.73</td>\n",
       "      <td>224</td>\n",
       "      <td>5.11</td>\n",
       "      <td>[{'id': 804, 'main': 'Clouds', 'description': ...</td>\n",
       "      <td>0.70</td>\n",
       "      <td>NaN</td>\n",
       "    </tr>\n",
       "    <tr>\n",
       "      <th>4</th>\n",
       "      <td>1629676800</td>\n",
       "      <td>28.74</td>\n",
       "      <td>34.23</td>\n",
       "      <td>1008</td>\n",
       "      <td>81</td>\n",
       "      <td>25.15</td>\n",
       "      <td>1.7</td>\n",
       "      <td>86</td>\n",
       "      <td>10000</td>\n",
       "      <td>3.48</td>\n",
       "      <td>222</td>\n",
       "      <td>4.91</td>\n",
       "      <td>[{'id': 500, 'main': 'Rain', 'description': 'l...</td>\n",
       "      <td>0.66</td>\n",
       "      <td>{'1h': 0.17}</td>\n",
       "    </tr>\n",
       "  </tbody>\n",
       "</table>\n",
       "</div>"
      ],
      "text/plain": [
       "           dt   temp  feels_like  pressure  humidity  dew_point  uvi  clouds  \\\n",
       "0  1629662400  28.52       34.61      1007        86      25.95  0.0      91   \n",
       "1  1629666000  28.73       35.47      1007        87      26.35  0.0      91   \n",
       "2  1629669600  28.51       34.58      1007        86      25.94  0.0      88   \n",
       "3  1629673200  28.46       34.23      1007        85      25.69  0.4      87   \n",
       "4  1629676800  28.74       34.23      1008        81      25.15  1.7      86   \n",
       "\n",
       "   visibility  wind_speed  wind_deg  wind_gust  \\\n",
       "0       10000        3.49       221       4.79   \n",
       "1       10000        2.77       220       3.90   \n",
       "2       10000        3.63       218       4.70   \n",
       "3       10000        3.73       224       5.11   \n",
       "4       10000        3.48       222       4.91   \n",
       "\n",
       "                                             weather   pop          rain  \n",
       "0  [{'id': 500, 'main': 'Rain', 'description': 'l...  0.65  {'1h': 0.32}  \n",
       "1  [{'id': 804, 'main': 'Clouds', 'description': ...  0.72           NaN  \n",
       "2  [{'id': 500, 'main': 'Rain', 'description': 'l...  0.67  {'1h': 0.15}  \n",
       "3  [{'id': 804, 'main': 'Clouds', 'description': ...  0.70           NaN  \n",
       "4  [{'id': 500, 'main': 'Rain', 'description': 'l...  0.66  {'1h': 0.17}  "
      ]
     },
     "execution_count": 8,
     "metadata": {},
     "output_type": "execute_result"
    }
   ],
   "source": [
    "df_hourly.head()"
   ]
  },
  {
   "cell_type": "code",
   "execution_count": 9,
   "metadata": {
    "execution": {
     "iopub.execute_input": "2021-08-22T20:38:15.475104Z",
     "iopub.status.busy": "2021-08-22T20:38:15.474394Z",
     "iopub.status.idle": "2021-08-22T20:38:15.791659Z",
     "shell.execute_reply": "2021-08-22T20:38:15.791105Z"
    }
   },
   "outputs": [
    {
     "data": {
      "image/png": "[encoded data removed]",
      "text/plain": [
       "<Figure size 864x432 with 1 Axes>"
      ]
     },
     "metadata": {
      "needs_background": "light"
     },
     "output_type": "display_data"
    }
   ],
   "source": [
    "fig, ax = plt.subplots(figsize=(12, 6))\r\n",
    "plt.plot(df_hourly.temp, '.-')\r\n",
    "ax.set(title='Temperature in future 48 hours', xlabel='Time', ylabel='Temperature')\r\n",
    "ax.set_xticks(list(range(0, len(df_hourly), 2)))\r\n",
    "ax.set_xticklabels([ts2dt(ts, '%m-%d %H:%M') for i, ts in enumerate(df_hourly.dt) if i%2==0], \r\n",
    "                   rotation=45, ha=\"right\")\r\n",
    "plt.show()"
   ]
  },
  {
   "cell_type": "code",
   "execution_count": null,
   "metadata": {},
   "outputs": [],
   "source": []
  }
 ],
 "metadata": {
  "interpreter": {
   "hash": "c1b4cfe941b6d2466ad1fb5979e97da9cda8801728c8091b097ab734208fc00c"
  },
  "kernelspec": {
   "display_name": "Python 3.8.3 64-bit ('base': conda)",
   "name": "python3"
  },
  "language_info": {
   "codemirror_mode": {
    "name": "ipython",
    "version": 3
   },
   "file_extension": ".py",
   "mimetype": "text/x-python",
   "name": "python",
   "nbconvert_exporter": "python",
   "pygments_lexer": "ipython3",
   "version": "3.8.11"
  }
 },
 "nbformat": 4,
 "nbformat_minor": 2
}
