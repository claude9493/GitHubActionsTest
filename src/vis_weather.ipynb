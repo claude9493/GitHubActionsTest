{
 "cells": [
  {
   "cell_type": "code",
   "execution_count": 1,
   "metadata": {
    "execution": {
     "iopub.execute_input": "2021-10-01T06:14:13.568346Z",
     "iopub.status.busy": "2021-10-01T06:14:13.567568Z",
     "iopub.status.idle": "2021-10-01T06:14:17.772632Z",
     "shell.execute_reply": "2021-10-01T06:14:17.771917Z"
    }
   },
   "outputs": [],
   "source": [
    "import json, yaml, requests\r\n",
    "from datetime import datetime\r\n",
    "from dateutil import tz\r\n",
    "import pandas as pd\r\n",
    "from PIL import Image\r\n",
    "from io import BytesIO\r\n",
    "import matplotlib.pyplot as plt\r\n",
    "import seaborn\r\n",
    "\r\n",
    "CONFIG_PATH = \"../config/config.yaml\""
   ]
  },
  {
   "cell_type": "code",
   "execution_count": 2,
   "metadata": {
    "execution": {
     "iopub.execute_input": "2021-10-01T06:14:17.778447Z",
     "iopub.status.busy": "2021-10-01T06:14:17.777291Z",
     "iopub.status.idle": "2021-10-01T06:14:17.784638Z",
     "shell.execute_reply": "2021-10-01T06:14:17.784143Z"
    }
   },
   "outputs": [],
   "source": [
    "with open('../newest_ts', 'r') as f:\r\n",
    "    newest_ts = f.read()\r\n",
    "\r\n",
    "data_path = f\"../data/data_{newest_ts}.json\"\r\n",
    "with open(data_path, 'r') as f:\r\n",
    "    data = json.load(f)\r\n",
    "\r\n",
    "with open(CONFIG_PATH, \"r\") as stream:\r\n",
    "    config = yaml.safe_load(stream)\r\n",
    "\r\n",
    "TIME_ZONE = config['time_zone']\r\n",
    "DATETIME_FORMAT = config['dt_format']"
   ]
  },
  {
   "cell_type": "code",
   "execution_count": 3,
   "metadata": {
    "execution": {
     "iopub.execute_input": "2021-10-01T06:14:17.789911Z",
     "iopub.status.busy": "2021-10-01T06:14:17.789262Z",
     "iopub.status.idle": "2021-10-01T06:14:17.803952Z",
     "shell.execute_reply": "2021-10-01T06:14:17.803518Z"
    }
   },
   "outputs": [
    {
     "name": "stdout",
     "output_type": "stream",
     "text": [
      "Recent query happens at 2021-10-01 14:14:08 (CST).\n"
     ]
    }
   ],
   "source": [
    "def ts2dt(ts, format=DATETIME_FORMAT):\r\n",
    "    dt = (datetime.utcfromtimestamp(int(ts))\r\n",
    "                    .replace(tzinfo=tz.tzutc())\r\n",
    "                    # .astimezone(tz.tzlocal())\r\n",
    "                    .astimezone(tz.gettz(TIME_ZONE)))\r\n",
    "    return dt.strftime(format), dt\r\n",
    "\r\n",
    "_, newest_dt = ts2dt(newest_ts)\r\n",
    "print(f\"Recent query happens at {newest_dt.strftime(DATETIME_FORMAT)} ({newest_dt.tzname()}).\")"
   ]
  },
  {
   "cell_type": "code",
   "execution_count": 4,
   "metadata": {
    "execution": {
     "iopub.execute_input": "2021-10-01T06:14:17.808944Z",
     "iopub.status.busy": "2021-10-01T06:14:17.808299Z",
     "iopub.status.idle": "2021-10-01T06:14:17.812160Z",
     "shell.execute_reply": "2021-10-01T06:14:17.812608Z"
    }
   },
   "outputs": [],
   "source": [
    "def degrees_to_cardinal(d):\r\n",
    "  dirs = ['N', 'NNE', 'NE', 'ENE', 'E', 'ESE', 'SE', 'SSE', 'S', 'SSW', 'SW', 'WSW', 'W', 'WNW', 'NW', 'NNW']\r\n",
    "  ix = int(round(d / (360. / len(dirs))))\r\n",
    "  return dirs[ix % len(dirs)]"
   ]
  },
  {
   "cell_type": "code",
   "execution_count": 5,
   "metadata": {
    "execution": {
     "iopub.execute_input": "2021-10-01T06:14:17.817395Z",
     "iopub.status.busy": "2021-10-01T06:14:17.816028Z",
     "iopub.status.idle": "2021-10-01T06:14:17.817993Z",
     "shell.execute_reply": "2021-10-01T06:14:17.818586Z"
    }
   },
   "outputs": [],
   "source": [
    "# data.keys()"
   ]
  },
  {
   "cell_type": "code",
   "execution_count": 6,
   "metadata": {
    "execution": {
     "iopub.execute_input": "2021-10-01T06:14:17.823568Z",
     "iopub.status.busy": "2021-10-01T06:14:17.822126Z",
     "iopub.status.idle": "2021-10-01T06:14:17.824221Z",
     "shell.execute_reply": "2021-10-01T06:14:17.824670Z"
    }
   },
   "outputs": [],
   "source": [
    "# data['current']"
   ]
  },
  {
   "cell_type": "code",
   "execution_count": 7,
   "metadata": {
    "execution": {
     "iopub.execute_input": "2021-10-01T06:14:17.845241Z",
     "iopub.status.busy": "2021-10-01T06:14:17.830757Z",
     "iopub.status.idle": "2021-10-01T06:14:18.262105Z",
     "shell.execute_reply": "2021-10-01T06:14:18.261497Z"
    }
   },
   "outputs": [
    {
     "data": {
      "image/png": "[encoded data removed]",
      "text/plain": [
       "<Figure size 216x216 with 1 Axes>"
      ]
     },
     "metadata": {
      "needs_background": "light"
     },
     "output_type": "display_data"
    },
    {
     "name": "stdout",
     "output_type": "stream",
     "text": [
      "Today, sun rises at 06:14 and sets at 18:11.\n",
      "Currently, the weather is Clouds (few clouds).\n",
      "The temperature is 31.9°C and it feels like 38.9°C.\n",
      "The UV index is 7.66, humidity is 73%.\n",
      "The pressure is 1005 hPa, percentage of cloud cover is 20%\n",
      "The wind comes from SSE direction with a speed 2.68 m/s.\n"
     ]
    }
   ],
   "source": [
    "current = data['current']\r\n",
    "\r\n",
    "fig, ax = plt.subplots(figsize=(3, 3))\r\n",
    "icon = requests.get(f\"http://openweathermap.org/img/wn/{current['weather'][0]['icon']}@2x.png\")\r\n",
    "im = Image.open(BytesIO(icon.content))\r\n",
    "plt.imshow(im)\r\n",
    "ax.set_axis_off()\r\n",
    "plt.show()\r\n",
    "\r\n",
    "print(f\"Today, sun rises at {ts2dt(current['sunrise'], '%H:%M')[0]} \\\r\n",
    "and sets at {ts2dt(current['sunset'], '%H:%M')[0]}.\\n\\\r\n",
    "Currently, the weather is {current['weather'][0]['main']} ({current['weather'][0]['description']}).\\n\\\r\n",
    "The temperature is {current['temp']}°C and it feels like {current['feels_like']}°C.\\n\\\r\n",
    "The UV index is {current['uvi']}, humidity is {current['humidity']}%.\\n\\\r\n",
    "The pressure is {current['pressure']} hPa, percentage of cloud cover is {current['clouds']}%\\n\\\r\n",
    "The wind comes from {degrees_to_cardinal(current['wind_deg'])} direction with a speed {current['wind_speed']} m/s.\")"
   ]
  },
  {
   "cell_type": "code",
   "execution_count": 8,
   "metadata": {
    "execution": {
     "iopub.execute_input": "2021-10-01T06:14:18.265000Z",
     "iopub.status.busy": "2021-10-01T06:14:18.264432Z",
     "iopub.status.idle": "2021-10-01T06:14:18.271167Z",
     "shell.execute_reply": "2021-10-01T06:14:18.271915Z"
    }
   },
   "outputs": [],
   "source": [
    "df_hourly = pd.DataFrame(data['hourly'])\r\n",
    "df_daily = pd.DataFrame(data['daily'])"
   ]
  },
  {
   "cell_type": "code",
   "execution_count": 9,
   "metadata": {
    "execution": {
     "iopub.execute_input": "2021-10-01T06:14:18.275588Z",
     "iopub.status.busy": "2021-10-01T06:14:18.274920Z",
     "iopub.status.idle": "2021-10-01T06:14:18.649796Z",
     "shell.execute_reply": "2021-10-01T06:14:18.649140Z"
    }
   },
   "outputs": [
    {
     "data": {
      "image/png": "[encoded data removed]",
      "text/plain": [
       "<Figure size 864x432 with 1 Axes>"
      ]
     },
     "metadata": {
      "needs_background": "light"
     },
     "output_type": "display_data"
    }
   ],
   "source": [
    "fig, ax = plt.subplots(figsize=(12, 6))\r\n",
    "plt.plot(df_hourly.temp, '.-', label='Temperature')\r\n",
    "plt.plot(df_hourly.feels_like, '.-', label='Feels Like')\r\n",
    "ax.set(title='Temperature in future 48 hours', xlabel='Time', ylabel='Temperature')\r\n",
    "ax.set_xticks(list(range(0, len(df_hourly), 2)))\r\n",
    "ax.set_xticklabels([ts2dt(ts, '%m-%d %H:%M')[0] for i, ts in enumerate(df_hourly.dt) if i%2==0], \r\n",
    "                   rotation=45, ha=\"right\")\r\n",
    "ax.locator_params(nbins=15, axis='y')\r\n",
    "plt.legend()\r\n",
    "plt.show()"
   ]
  },
  {
   "cell_type": "code",
   "execution_count": 10,
   "metadata": {
    "execution": {
     "iopub.execute_input": "2021-10-01T06:14:18.663064Z",
     "iopub.status.busy": "2021-10-01T06:14:18.654152Z",
     "iopub.status.idle": "2021-10-01T06:14:18.676342Z",
     "shell.execute_reply": "2021-10-01T06:14:18.675883Z"
    }
   },
   "outputs": [
    {
     "data": {
      "text/html": [
       "<div>\n",
       "<style scoped>\n",
       "    .dataframe tbody tr th:only-of-type {\n",
       "        vertical-align: middle;\n",
       "    }\n",
       "\n",
       "    .dataframe tbody tr th {\n",
       "        vertical-align: top;\n",
       "    }\n",
       "\n",
       "    .dataframe thead th {\n",
       "        text-align: right;\n",
       "    }\n",
       "</style>\n",
       "<table border=\"1\" class=\"dataframe\">\n",
       "  <thead>\n",
       "    <tr style=\"text-align: right;\">\n",
       "      <th></th>\n",
       "      <th>dt</th>\n",
       "      <th>temp</th>\n",
       "      <th>feels_like</th>\n",
       "      <th>pressure</th>\n",
       "      <th>humidity</th>\n",
       "      <th>dew_point</th>\n",
       "      <th>uvi</th>\n",
       "      <th>clouds</th>\n",
       "      <th>visibility</th>\n",
       "      <th>wind_speed</th>\n",
       "      <th>wind_deg</th>\n",
       "      <th>wind_gust</th>\n",
       "      <th>weather</th>\n",
       "      <th>pop</th>\n",
       "      <th>rain</th>\n",
       "    </tr>\n",
       "  </thead>\n",
       "  <tbody>\n",
       "    <tr>\n",
       "      <th>0</th>\n",
       "      <td>1633068000</td>\n",
       "      <td>31.90</td>\n",
       "      <td>38.90</td>\n",
       "      <td>1005</td>\n",
       "      <td>73</td>\n",
       "      <td>26.45</td>\n",
       "      <td>7.66</td>\n",
       "      <td>20</td>\n",
       "      <td>10000</td>\n",
       "      <td>3.73</td>\n",
       "      <td>218</td>\n",
       "      <td>3.17</td>\n",
       "      <td>[{'id': 801, 'main': 'Clouds', 'description': ...</td>\n",
       "      <td>0.29</td>\n",
       "      <td>NaN</td>\n",
       "    </tr>\n",
       "    <tr>\n",
       "      <th>1</th>\n",
       "      <td>1633071600</td>\n",
       "      <td>31.64</td>\n",
       "      <td>38.64</td>\n",
       "      <td>1005</td>\n",
       "      <td>72</td>\n",
       "      <td>25.97</td>\n",
       "      <td>5.26</td>\n",
       "      <td>22</td>\n",
       "      <td>10000</td>\n",
       "      <td>3.93</td>\n",
       "      <td>212</td>\n",
       "      <td>3.20</td>\n",
       "      <td>[{'id': 801, 'main': 'Clouds', 'description': ...</td>\n",
       "      <td>0.16</td>\n",
       "      <td>NaN</td>\n",
       "    </tr>\n",
       "    <tr>\n",
       "      <th>2</th>\n",
       "      <td>1633075200</td>\n",
       "      <td>31.33</td>\n",
       "      <td>38.33</td>\n",
       "      <td>1006</td>\n",
       "      <td>71</td>\n",
       "      <td>25.44</td>\n",
       "      <td>2.55</td>\n",
       "      <td>19</td>\n",
       "      <td>10000</td>\n",
       "      <td>3.89</td>\n",
       "      <td>206</td>\n",
       "      <td>3.38</td>\n",
       "      <td>[{'id': 801, 'main': 'Clouds', 'description': ...</td>\n",
       "      <td>0.16</td>\n",
       "      <td>NaN</td>\n",
       "    </tr>\n",
       "    <tr>\n",
       "      <th>3</th>\n",
       "      <td>1633078800</td>\n",
       "      <td>30.78</td>\n",
       "      <td>37.30</td>\n",
       "      <td>1006</td>\n",
       "      <td>71</td>\n",
       "      <td>24.91</td>\n",
       "      <td>0.79</td>\n",
       "      <td>15</td>\n",
       "      <td>10000</td>\n",
       "      <td>3.25</td>\n",
       "      <td>202</td>\n",
       "      <td>2.80</td>\n",
       "      <td>[{'id': 801, 'main': 'Clouds', 'description': ...</td>\n",
       "      <td>0.11</td>\n",
       "      <td>NaN</td>\n",
       "    </tr>\n",
       "    <tr>\n",
       "      <th>4</th>\n",
       "      <td>1633082400</td>\n",
       "      <td>29.82</td>\n",
       "      <td>35.56</td>\n",
       "      <td>1007</td>\n",
       "      <td>74</td>\n",
       "      <td>24.68</td>\n",
       "      <td>0.00</td>\n",
       "      <td>12</td>\n",
       "      <td>10000</td>\n",
       "      <td>3.35</td>\n",
       "      <td>195</td>\n",
       "      <td>3.38</td>\n",
       "      <td>[{'id': 500, 'main': 'Rain', 'description': 'l...</td>\n",
       "      <td>0.23</td>\n",
       "      <td>{'1h': 0.11}</td>\n",
       "    </tr>\n",
       "  </tbody>\n",
       "</table>\n",
       "</div>"
      ],
      "text/plain": [
       "           dt   temp  feels_like  pressure  humidity  dew_point   uvi  clouds  \\\n",
       "0  1633068000  31.90       38.90      1005        73      26.45  7.66      20   \n",
       "1  1633071600  31.64       38.64      1005        72      25.97  5.26      22   \n",
       "2  1633075200  31.33       38.33      1006        71      25.44  2.55      19   \n",
       "3  1633078800  30.78       37.30      1006        71      24.91  0.79      15   \n",
       "4  1633082400  29.82       35.56      1007        74      24.68  0.00      12   \n",
       "\n",
       "   visibility  wind_speed  wind_deg  wind_gust  \\\n",
       "0       10000        3.73       218       3.17   \n",
       "1       10000        3.93       212       3.20   \n",
       "2       10000        3.89       206       3.38   \n",
       "3       10000        3.25       202       2.80   \n",
       "4       10000        3.35       195       3.38   \n",
       "\n",
       "                                             weather   pop          rain  \n",
       "0  [{'id': 801, 'main': 'Clouds', 'description': ...  0.29           NaN  \n",
       "1  [{'id': 801, 'main': 'Clouds', 'description': ...  0.16           NaN  \n",
       "2  [{'id': 801, 'main': 'Clouds', 'description': ...  0.16           NaN  \n",
       "3  [{'id': 801, 'main': 'Clouds', 'description': ...  0.11           NaN  \n",
       "4  [{'id': 500, 'main': 'Rain', 'description': 'l...  0.23  {'1h': 0.11}  "
      ]
     },
     "execution_count": 10,
     "metadata": {},
     "output_type": "execute_result"
    }
   ],
   "source": [
    "df_hourly.head()"
   ]
  },
  {
   "cell_type": "code",
   "execution_count": null,
   "metadata": {},
   "outputs": [],
   "source": []
  }
 ],
 "metadata": {
  "interpreter": {
   "hash": "c1b4cfe941b6d2466ad1fb5979e97da9cda8801728c8091b097ab734208fc00c"
  },
  "kernelspec": {
   "display_name": "Python 3.8.3 64-bit ('base': conda)",
   "name": "python3"
  },
  "language_info": {
   "codemirror_mode": {
    "name": "ipython",
    "version": 3
   },
   "file_extension": ".py",
   "mimetype": "text/x-python",
   "name": "python",
   "nbconvert_exporter": "python",
   "pygments_lexer": "ipython3",
   "version": "3.8.12"
  }
 },
 "nbformat": 4,
 "nbformat_minor": 2
}
