{
 "cells": [
  {
   "cell_type": "code",
   "execution_count": 1,
   "metadata": {
    "execution": {
     "iopub.execute_input": "2021-09-08T18:45:08.416021Z",
     "iopub.status.busy": "2021-09-08T18:45:08.415298Z",
     "iopub.status.idle": "2021-09-08T18:45:09.911154Z",
     "shell.execute_reply": "2021-09-08T18:45:09.911672Z"
    }
   },
   "outputs": [],
   "source": [
    "import json, yaml, requests\r\n",
    "from datetime import datetime\r\n",
    "from dateutil import tz\r\n",
    "import pandas as pd\r\n",
    "from PIL import Image\r\n",
    "from io import BytesIO\r\n",
    "import matplotlib.pyplot as plt\r\n",
    "import seaborn\r\n",
    "\r\n",
    "CONFIG_PATH = \"../config/config.yaml\""
   ]
  },
  {
   "cell_type": "code",
   "execution_count": 2,
   "metadata": {
    "execution": {
     "iopub.execute_input": "2021-09-08T18:45:09.918053Z",
     "iopub.status.busy": "2021-09-08T18:45:09.917408Z",
     "iopub.status.idle": "2021-09-08T18:45:09.923792Z",
     "shell.execute_reply": "2021-09-08T18:45:09.922914Z"
    }
   },
   "outputs": [],
   "source": [
    "with open('../newest_ts', 'r') as f:\r\n",
    "    newest_ts = f.read()\r\n",
    "\r\n",
    "data_path = f\"../data/data_{newest_ts}.json\"\r\n",
    "with open(data_path, 'r') as f:\r\n",
    "    data = json.load(f)\r\n",
    "\r\n",
    "with open(CONFIG_PATH, \"r\") as stream:\r\n",
    "    config = yaml.safe_load(stream)\r\n",
    "\r\n",
    "TIME_ZONE = config['time_zone']\r\n",
    "DATETIME_FORMAT = config['dt_format']"
   ]
  },
  {
   "cell_type": "code",
   "execution_count": 3,
   "metadata": {
    "execution": {
     "iopub.execute_input": "2021-09-08T18:45:09.929413Z",
     "iopub.status.busy": "2021-09-08T18:45:09.928679Z",
     "iopub.status.idle": "2021-09-08T18:45:10.088017Z",
     "shell.execute_reply": "2021-09-08T18:45:10.087327Z"
    }
   },
   "outputs": [
    {
     "name": "stdout",
     "output_type": "stream",
     "text": [
      "Recent query happens at 2021-09-09 02:45:04 (CST).\n"
     ]
    }
   ],
   "source": [
    "def ts2dt(ts, format=DATETIME_FORMAT):\r\n",
    "    dt = (datetime.utcfromtimestamp(int(ts))\r\n",
    "                    .replace(tzinfo=tz.tzutc())\r\n",
    "                    # .astimezone(tz.tzlocal())\r\n",
    "                    .astimezone(tz.gettz(TIME_ZONE)))\r\n",
    "    return dt.strftime(format), dt\r\n",
    "\r\n",
    "_, newest_dt = ts2dt(newest_ts)\r\n",
    "print(f\"Recent query happens at {newest_dt.strftime(DATETIME_FORMAT)} ({newest_dt.tzname()}).\")"
   ]
  },
  {
   "cell_type": "code",
   "execution_count": 4,
   "metadata": {
    "execution": {
     "iopub.execute_input": "2021-09-08T18:45:10.094110Z",
     "iopub.status.busy": "2021-09-08T18:45:10.093500Z",
     "iopub.status.idle": "2021-09-08T18:45:10.096155Z",
     "shell.execute_reply": "2021-09-08T18:45:10.095278Z"
    }
   },
   "outputs": [],
   "source": [
    "def degrees_to_cardinal(d):\r\n",
    "  dirs = ['N', 'NNE', 'NE', 'ENE', 'E', 'ESE', 'SE', 'SSE', 'S', 'SSW', 'SW', 'WSW', 'W', 'WNW', 'NW', 'NNW']\r\n",
    "  ix = int(round(d / (360. / len(dirs))))\r\n",
    "  return dirs[ix % len(dirs)]"
   ]
  },
  {
   "cell_type": "code",
   "execution_count": 5,
   "metadata": {
    "execution": {
     "iopub.execute_input": "2021-09-08T18:45:10.100306Z",
     "iopub.status.busy": "2021-09-08T18:45:10.099701Z",
     "iopub.status.idle": "2021-09-08T18:45:10.103758Z",
     "shell.execute_reply": "2021-09-08T18:45:10.103254Z"
    }
   },
   "outputs": [],
   "source": [
    "# data.keys()"
   ]
  },
  {
   "cell_type": "code",
   "execution_count": 6,
   "metadata": {
    "execution": {
     "iopub.execute_input": "2021-09-08T18:45:10.107556Z",
     "iopub.status.busy": "2021-09-08T18:45:10.106957Z",
     "iopub.status.idle": "2021-09-08T18:45:10.110981Z",
     "shell.execute_reply": "2021-09-08T18:45:10.110341Z"
    }
   },
   "outputs": [],
   "source": [
    "# data['current']"
   ]
  },
  {
   "cell_type": "code",
   "execution_count": 7,
   "metadata": {
    "execution": {
     "iopub.execute_input": "2021-09-08T18:45:10.133536Z",
     "iopub.status.busy": "2021-09-08T18:45:10.132846Z",
     "iopub.status.idle": "2021-09-08T18:45:10.655542Z",
     "shell.execute_reply": "2021-09-08T18:45:10.656442Z"
    }
   },
   "outputs": [
    {
     "data": {
      "image/png": "[encoded data removed]",
      "text/plain": [
       "<Figure size 216x216 with 1 Axes>"
      ]
     },
     "metadata": {
      "needs_background": "light"
     },
     "output_type": "display_data"
    },
    {
     "name": "stdout",
     "output_type": "stream",
     "text": [
      "Today, sun rises at 06:08 and sets at 18:32.\n",
      "Currently, the weather is Clouds (few clouds).\n",
      "The temperature is 28.6°C and it feels like 32.91°C.\n",
      "The UV index is 0, humidity is 76%.\n",
      "The pressure is 1009 hPa, percentage of cloud cover is 20%\n",
      "The wind comes from E direction with a speed 0.99 m/s.\n"
     ]
    }
   ],
   "source": [
    "current = data['current']\r\n",
    "\r\n",
    "fig, ax = plt.subplots(figsize=(3, 3))\r\n",
    "icon = requests.get(f\"http://openweathermap.org/img/wn/{current['weather'][0]['icon']}@2x.png\")\r\n",
    "im = Image.open(BytesIO(icon.content))\r\n",
    "plt.imshow(im)\r\n",
    "ax.set_axis_off()\r\n",
    "plt.show()\r\n",
    "\r\n",
    "print(f\"Today, sun rises at {ts2dt(current['sunrise'], '%H:%M')[0]} \\\r\n",
    "and sets at {ts2dt(current['sunset'], '%H:%M')[0]}.\\n\\\r\n",
    "Currently, the weather is {current['weather'][0]['main']} ({current['weather'][0]['description']}).\\n\\\r\n",
    "The temperature is {current['temp']}°C and it feels like {current['feels_like']}°C.\\n\\\r\n",
    "The UV index is {current['uvi']}, humidity is {current['humidity']}%.\\n\\\r\n",
    "The pressure is {current['pressure']} hPa, percentage of cloud cover is {current['clouds']}%\\n\\\r\n",
    "The wind comes from {degrees_to_cardinal(current['wind_deg'])} direction with a speed {current['wind_speed']} m/s.\")"
   ]
  },
  {
   "cell_type": "code",
   "execution_count": 8,
   "metadata": {
    "execution": {
     "iopub.execute_input": "2021-09-08T18:45:10.660163Z",
     "iopub.status.busy": "2021-09-08T18:45:10.659539Z",
     "iopub.status.idle": "2021-09-08T18:45:10.667891Z",
     "shell.execute_reply": "2021-09-08T18:45:10.668799Z"
    }
   },
   "outputs": [],
   "source": [
    "df_hourly = pd.DataFrame(data['hourly'])\r\n",
    "df_daily = pd.DataFrame(data['daily'])"
   ]
  },
  {
   "cell_type": "code",
   "execution_count": 9,
   "metadata": {
    "execution": {
     "iopub.execute_input": "2021-09-08T18:45:10.672754Z",
     "iopub.status.busy": "2021-09-08T18:45:10.671579Z",
     "iopub.status.idle": "2021-09-08T18:45:11.009269Z",
     "shell.execute_reply": "2021-09-08T18:45:11.008061Z"
    }
   },
   "outputs": [
    {
     "data": {
      "image/png": "[encoded data removed]",
      "text/plain": [
       "<Figure size 864x432 with 1 Axes>"
      ]
     },
     "metadata": {
      "needs_background": "light"
     },
     "output_type": "display_data"
    }
   ],
   "source": [
    "fig, ax = plt.subplots(figsize=(12, 6))\r\n",
    "plt.plot(df_hourly.temp, '.-', label='Temperature')\r\n",
    "plt.plot(df_hourly.feels_like, '.-', label='Feels Like')\r\n",
    "ax.set(title='Temperature in future 48 hours', xlabel='Time', ylabel='Temperature')\r\n",
    "ax.set_xticks(list(range(0, len(df_hourly), 2)))\r\n",
    "ax.set_xticklabels([ts2dt(ts, '%m-%d %H:%M')[0] for i, ts in enumerate(df_hourly.dt) if i%2==0], \r\n",
    "                   rotation=45, ha=\"right\")\r\n",
    "ax.locator_params(nbins=15, axis='y')\r\n",
    "plt.legend()\r\n",
    "plt.show()"
   ]
  },
  {
   "cell_type": "code",
   "execution_count": 10,
   "metadata": {
    "execution": {
     "iopub.execute_input": "2021-09-08T18:45:11.023195Z",
     "iopub.status.busy": "2021-09-08T18:45:11.013959Z",
     "iopub.status.idle": "2021-09-08T18:45:11.036577Z",
     "shell.execute_reply": "2021-09-08T18:45:11.035715Z"
    }
   },
   "outputs": [
    {
     "data": {
      "text/html": [
       "<div>\n",
       "<style scoped>\n",
       "    .dataframe tbody tr th:only-of-type {\n",
       "        vertical-align: middle;\n",
       "    }\n",
       "\n",
       "    .dataframe tbody tr th {\n",
       "        vertical-align: top;\n",
       "    }\n",
       "\n",
       "    .dataframe thead th {\n",
       "        text-align: right;\n",
       "    }\n",
       "</style>\n",
       "<table border=\"1\" class=\"dataframe\">\n",
       "  <thead>\n",
       "    <tr style=\"text-align: right;\">\n",
       "      <th></th>\n",
       "      <th>dt</th>\n",
       "      <th>temp</th>\n",
       "      <th>feels_like</th>\n",
       "      <th>pressure</th>\n",
       "      <th>humidity</th>\n",
       "      <th>dew_point</th>\n",
       "      <th>uvi</th>\n",
       "      <th>clouds</th>\n",
       "      <th>visibility</th>\n",
       "      <th>wind_speed</th>\n",
       "      <th>wind_deg</th>\n",
       "      <th>wind_gust</th>\n",
       "      <th>weather</th>\n",
       "      <th>pop</th>\n",
       "      <th>rain</th>\n",
       "    </tr>\n",
       "  </thead>\n",
       "  <tbody>\n",
       "    <tr>\n",
       "      <th>0</th>\n",
       "      <td>1631124000</td>\n",
       "      <td>28.44</td>\n",
       "      <td>32.69</td>\n",
       "      <td>1009</td>\n",
       "      <td>77</td>\n",
       "      <td>24.01</td>\n",
       "      <td>0.0</td>\n",
       "      <td>24</td>\n",
       "      <td>10000</td>\n",
       "      <td>0.79</td>\n",
       "      <td>102</td>\n",
       "      <td>0.96</td>\n",
       "      <td>[{'id': 801, 'main': 'Clouds', 'description': ...</td>\n",
       "      <td>0.30</td>\n",
       "      <td>NaN</td>\n",
       "    </tr>\n",
       "    <tr>\n",
       "      <th>1</th>\n",
       "      <td>1631127600</td>\n",
       "      <td>28.60</td>\n",
       "      <td>32.91</td>\n",
       "      <td>1009</td>\n",
       "      <td>76</td>\n",
       "      <td>23.95</td>\n",
       "      <td>0.0</td>\n",
       "      <td>20</td>\n",
       "      <td>10000</td>\n",
       "      <td>0.99</td>\n",
       "      <td>86</td>\n",
       "      <td>1.18</td>\n",
       "      <td>[{'id': 801, 'main': 'Clouds', 'description': ...</td>\n",
       "      <td>0.35</td>\n",
       "      <td>NaN</td>\n",
       "    </tr>\n",
       "    <tr>\n",
       "      <th>2</th>\n",
       "      <td>1631131200</td>\n",
       "      <td>28.40</td>\n",
       "      <td>32.60</td>\n",
       "      <td>1009</td>\n",
       "      <td>77</td>\n",
       "      <td>23.98</td>\n",
       "      <td>0.0</td>\n",
       "      <td>24</td>\n",
       "      <td>10000</td>\n",
       "      <td>1.04</td>\n",
       "      <td>75</td>\n",
       "      <td>1.30</td>\n",
       "      <td>[{'id': 801, 'main': 'Clouds', 'description': ...</td>\n",
       "      <td>0.38</td>\n",
       "      <td>NaN</td>\n",
       "    </tr>\n",
       "    <tr>\n",
       "      <th>3</th>\n",
       "      <td>1631134800</td>\n",
       "      <td>28.16</td>\n",
       "      <td>32.02</td>\n",
       "      <td>1009</td>\n",
       "      <td>77</td>\n",
       "      <td>23.74</td>\n",
       "      <td>0.0</td>\n",
       "      <td>24</td>\n",
       "      <td>10000</td>\n",
       "      <td>0.91</td>\n",
       "      <td>59</td>\n",
       "      <td>1.04</td>\n",
       "      <td>[{'id': 801, 'main': 'Clouds', 'description': ...</td>\n",
       "      <td>0.39</td>\n",
       "      <td>NaN</td>\n",
       "    </tr>\n",
       "    <tr>\n",
       "      <th>4</th>\n",
       "      <td>1631138400</td>\n",
       "      <td>27.83</td>\n",
       "      <td>31.39</td>\n",
       "      <td>1010</td>\n",
       "      <td>78</td>\n",
       "      <td>23.64</td>\n",
       "      <td>0.0</td>\n",
       "      <td>32</td>\n",
       "      <td>10000</td>\n",
       "      <td>1.58</td>\n",
       "      <td>76</td>\n",
       "      <td>1.77</td>\n",
       "      <td>[{'id': 802, 'main': 'Clouds', 'description': ...</td>\n",
       "      <td>0.51</td>\n",
       "      <td>NaN</td>\n",
       "    </tr>\n",
       "  </tbody>\n",
       "</table>\n",
       "</div>"
      ],
      "text/plain": [
       "           dt   temp  feels_like  pressure  humidity  dew_point  uvi  clouds  \\\n",
       "0  1631124000  28.44       32.69      1009        77      24.01  0.0      24   \n",
       "1  1631127600  28.60       32.91      1009        76      23.95  0.0      20   \n",
       "2  1631131200  28.40       32.60      1009        77      23.98  0.0      24   \n",
       "3  1631134800  28.16       32.02      1009        77      23.74  0.0      24   \n",
       "4  1631138400  27.83       31.39      1010        78      23.64  0.0      32   \n",
       "\n",
       "   visibility  wind_speed  wind_deg  wind_gust  \\\n",
       "0       10000        0.79       102       0.96   \n",
       "1       10000        0.99        86       1.18   \n",
       "2       10000        1.04        75       1.30   \n",
       "3       10000        0.91        59       1.04   \n",
       "4       10000        1.58        76       1.77   \n",
       "\n",
       "                                             weather   pop rain  \n",
       "0  [{'id': 801, 'main': 'Clouds', 'description': ...  0.30  NaN  \n",
       "1  [{'id': 801, 'main': 'Clouds', 'description': ...  0.35  NaN  \n",
       "2  [{'id': 801, 'main': 'Clouds', 'description': ...  0.38  NaN  \n",
       "3  [{'id': 801, 'main': 'Clouds', 'description': ...  0.39  NaN  \n",
       "4  [{'id': 802, 'main': 'Clouds', 'description': ...  0.51  NaN  "
      ]
     },
     "execution_count": 10,
     "metadata": {},
     "output_type": "execute_result"
    }
   ],
   "source": [
    "df_hourly.head()"
   ]
  },
  {
   "cell_type": "code",
   "execution_count": null,
   "metadata": {},
   "outputs": [],
   "source": []
  }
 ],
 "metadata": {
  "interpreter": {
   "hash": "c1b4cfe941b6d2466ad1fb5979e97da9cda8801728c8091b097ab734208fc00c"
  },
  "kernelspec": {
   "display_name": "Python 3.8.3 64-bit ('base': conda)",
   "name": "python3"
  },
  "language_info": {
   "codemirror_mode": {
    "name": "ipython",
    "version": 3
   },
   "file_extension": ".py",
   "mimetype": "text/x-python",
   "name": "python",
   "nbconvert_exporter": "python",
   "pygments_lexer": "ipython3",
   "version": "3.8.11"
  }
 },
 "nbformat": 4,
 "nbformat_minor": 2
}
