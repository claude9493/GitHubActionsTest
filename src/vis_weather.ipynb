{
 "cells": [
  {
   "cell_type": "code",
   "execution_count": 1,
   "metadata": {
    "execution": {
     "iopub.execute_input": "2021-09-18T23:11:20.965528Z",
     "iopub.status.busy": "2021-09-18T23:11:20.964765Z",
     "iopub.status.idle": "2021-09-18T23:11:23.851145Z",
     "shell.execute_reply": "2021-09-18T23:11:23.850142Z"
    }
   },
   "outputs": [],
   "source": [
    "import json, yaml, requests\r\n",
    "from datetime import datetime\r\n",
    "from dateutil import tz\r\n",
    "import pandas as pd\r\n",
    "from PIL import Image\r\n",
    "from io import BytesIO\r\n",
    "import matplotlib.pyplot as plt\r\n",
    "import seaborn\r\n",
    "\r\n",
    "CONFIG_PATH = \"../config/config.yaml\""
   ]
  },
  {
   "cell_type": "code",
   "execution_count": 2,
   "metadata": {
    "execution": {
     "iopub.execute_input": "2021-09-18T23:11:23.861436Z",
     "iopub.status.busy": "2021-09-18T23:11:23.857053Z",
     "iopub.status.idle": "2021-09-18T23:11:23.864789Z",
     "shell.execute_reply": "2021-09-18T23:11:23.864094Z"
    }
   },
   "outputs": [],
   "source": [
    "with open('../newest_ts', 'r') as f:\r\n",
    "    newest_ts = f.read()\r\n",
    "\r\n",
    "data_path = f\"../data/data_{newest_ts}.json\"\r\n",
    "with open(data_path, 'r') as f:\r\n",
    "    data = json.load(f)\r\n",
    "\r\n",
    "with open(CONFIG_PATH, \"r\") as stream:\r\n",
    "    config = yaml.safe_load(stream)\r\n",
    "\r\n",
    "TIME_ZONE = config['time_zone']\r\n",
    "DATETIME_FORMAT = config['dt_format']"
   ]
  },
  {
   "cell_type": "code",
   "execution_count": 3,
   "metadata": {
    "execution": {
     "iopub.execute_input": "2021-09-18T23:11:23.870346Z",
     "iopub.status.busy": "2021-09-18T23:11:23.869382Z",
     "iopub.status.idle": "2021-09-18T23:11:23.879969Z",
     "shell.execute_reply": "2021-09-18T23:11:23.879417Z"
    }
   },
   "outputs": [
    {
     "name": "stdout",
     "output_type": "stream",
     "text": [
      "Recent query happens at 2021-09-19 07:11:16 (CST).\n"
     ]
    }
   ],
   "source": [
    "def ts2dt(ts, format=DATETIME_FORMAT):\r\n",
    "    dt = (datetime.utcfromtimestamp(int(ts))\r\n",
    "                    .replace(tzinfo=tz.tzutc())\r\n",
    "                    # .astimezone(tz.tzlocal())\r\n",
    "                    .astimezone(tz.gettz(TIME_ZONE)))\r\n",
    "    return dt.strftime(format), dt\r\n",
    "\r\n",
    "_, newest_dt = ts2dt(newest_ts)\r\n",
    "print(f\"Recent query happens at {newest_dt.strftime(DATETIME_FORMAT)} ({newest_dt.tzname()}).\")"
   ]
  },
  {
   "cell_type": "code",
   "execution_count": 4,
   "metadata": {
    "execution": {
     "iopub.execute_input": "2021-09-18T23:11:23.885016Z",
     "iopub.status.busy": "2021-09-18T23:11:23.882331Z",
     "iopub.status.idle": "2021-09-18T23:11:23.887395Z",
     "shell.execute_reply": "2021-09-18T23:11:23.887881Z"
    }
   },
   "outputs": [],
   "source": [
    "def degrees_to_cardinal(d):\r\n",
    "  dirs = ['N', 'NNE', 'NE', 'ENE', 'E', 'ESE', 'SE', 'SSE', 'S', 'SSW', 'SW', 'WSW', 'W', 'WNW', 'NW', 'NNW']\r\n",
    "  ix = int(round(d / (360. / len(dirs))))\r\n",
    "  return dirs[ix % len(dirs)]"
   ]
  },
  {
   "cell_type": "code",
   "execution_count": 5,
   "metadata": {
    "execution": {
     "iopub.execute_input": "2021-09-18T23:11:23.893932Z",
     "iopub.status.busy": "2021-09-18T23:11:23.890975Z",
     "iopub.status.idle": "2021-09-18T23:11:23.896533Z",
     "shell.execute_reply": "2021-09-18T23:11:23.895856Z"
    }
   },
   "outputs": [],
   "source": [
    "# data.keys()"
   ]
  },
  {
   "cell_type": "code",
   "execution_count": 6,
   "metadata": {
    "execution": {
     "iopub.execute_input": "2021-09-18T23:11:23.900689Z",
     "iopub.status.busy": "2021-09-18T23:11:23.900087Z",
     "iopub.status.idle": "2021-09-18T23:11:23.902713Z",
     "shell.execute_reply": "2021-09-18T23:11:23.903221Z"
    }
   },
   "outputs": [],
   "source": [
    "# data['current']"
   ]
  },
  {
   "cell_type": "code",
   "execution_count": 7,
   "metadata": {
    "execution": {
     "iopub.execute_input": "2021-09-18T23:11:23.933886Z",
     "iopub.status.busy": "2021-09-18T23:11:23.905587Z",
     "iopub.status.idle": "2021-09-18T23:11:24.366086Z",
     "shell.execute_reply": "2021-09-18T23:11:24.366961Z"
    }
   },
   "outputs": [
    {
     "data": {
      "image/png": "[encoded data removed]",
      "text/plain": [
       "<Figure size 216x216 with 1 Axes>"
      ]
     },
     "metadata": {
      "needs_background": "light"
     },
     "output_type": "display_data"
    },
    {
     "name": "stdout",
     "output_type": "stream",
     "text": [
      "Today, sun rises at 06:10 and sets at 18:22.\n",
      "Currently, the weather is Clouds (overcast clouds).\n",
      "The temperature is 29.63°C and it feels like 36.63°C.\n",
      "The UV index is 0.21, humidity is 83%.\n",
      "The pressure is 1011 hPa, percentage of cloud cover is 87%\n",
      "The wind comes from E direction with a speed 4.48 m/s.\n"
     ]
    }
   ],
   "source": [
    "current = data['current']\r\n",
    "\r\n",
    "fig, ax = plt.subplots(figsize=(3, 3))\r\n",
    "icon = requests.get(f\"http://openweathermap.org/img/wn/{current['weather'][0]['icon']}@2x.png\")\r\n",
    "im = Image.open(BytesIO(icon.content))\r\n",
    "plt.imshow(im)\r\n",
    "ax.set_axis_off()\r\n",
    "plt.show()\r\n",
    "\r\n",
    "print(f\"Today, sun rises at {ts2dt(current['sunrise'], '%H:%M')[0]} \\\r\n",
    "and sets at {ts2dt(current['sunset'], '%H:%M')[0]}.\\n\\\r\n",
    "Currently, the weather is {current['weather'][0]['main']} ({current['weather'][0]['description']}).\\n\\\r\n",
    "The temperature is {current['temp']}°C and it feels like {current['feels_like']}°C.\\n\\\r\n",
    "The UV index is {current['uvi']}, humidity is {current['humidity']}%.\\n\\\r\n",
    "The pressure is {current['pressure']} hPa, percentage of cloud cover is {current['clouds']}%\\n\\\r\n",
    "The wind comes from {degrees_to_cardinal(current['wind_deg'])} direction with a speed {current['wind_speed']} m/s.\")"
   ]
  },
  {
   "cell_type": "code",
   "execution_count": 8,
   "metadata": {
    "execution": {
     "iopub.execute_input": "2021-09-18T23:11:24.371013Z",
     "iopub.status.busy": "2021-09-18T23:11:24.369879Z",
     "iopub.status.idle": "2021-09-18T23:11:24.378840Z",
     "shell.execute_reply": "2021-09-18T23:11:24.379606Z"
    }
   },
   "outputs": [],
   "source": [
    "df_hourly = pd.DataFrame(data['hourly'])\r\n",
    "df_daily = pd.DataFrame(data['daily'])"
   ]
  },
  {
   "cell_type": "code",
   "execution_count": 9,
   "metadata": {
    "execution": {
     "iopub.execute_input": "2021-09-18T23:11:24.383962Z",
     "iopub.status.busy": "2021-09-18T23:11:24.382647Z",
     "iopub.status.idle": "2021-09-18T23:11:24.729975Z",
     "shell.execute_reply": "2021-09-18T23:11:24.729167Z"
    }
   },
   "outputs": [
    {
     "data": {
      "image/png": "[encoded data removed]",
      "text/plain": [
       "<Figure size 864x432 with 1 Axes>"
      ]
     },
     "metadata": {
      "needs_background": "light"
     },
     "output_type": "display_data"
    }
   ],
   "source": [
    "fig, ax = plt.subplots(figsize=(12, 6))\r\n",
    "plt.plot(df_hourly.temp, '.-', label='Temperature')\r\n",
    "plt.plot(df_hourly.feels_like, '.-', label='Feels Like')\r\n",
    "ax.set(title='Temperature in future 48 hours', xlabel='Time', ylabel='Temperature')\r\n",
    "ax.set_xticks(list(range(0, len(df_hourly), 2)))\r\n",
    "ax.set_xticklabels([ts2dt(ts, '%m-%d %H:%M')[0] for i, ts in enumerate(df_hourly.dt) if i%2==0], \r\n",
    "                   rotation=45, ha=\"right\")\r\n",
    "ax.locator_params(nbins=15, axis='y')\r\n",
    "plt.legend()\r\n",
    "plt.show()"
   ]
  },
  {
   "cell_type": "code",
   "execution_count": 10,
   "metadata": {
    "execution": {
     "iopub.execute_input": "2021-09-18T23:11:24.743964Z",
     "iopub.status.busy": "2021-09-18T23:11:24.740824Z",
     "iopub.status.idle": "2021-09-18T23:11:24.758771Z",
     "shell.execute_reply": "2021-09-18T23:11:24.759227Z"
    }
   },
   "outputs": [
    {
     "data": {
      "text/html": [
       "<div>\n",
       "<style scoped>\n",
       "    .dataframe tbody tr th:only-of-type {\n",
       "        vertical-align: middle;\n",
       "    }\n",
       "\n",
       "    .dataframe tbody tr th {\n",
       "        vertical-align: top;\n",
       "    }\n",
       "\n",
       "    .dataframe thead th {\n",
       "        text-align: right;\n",
       "    }\n",
       "</style>\n",
       "<table border=\"1\" class=\"dataframe\">\n",
       "  <thead>\n",
       "    <tr style=\"text-align: right;\">\n",
       "      <th></th>\n",
       "      <th>dt</th>\n",
       "      <th>temp</th>\n",
       "      <th>feels_like</th>\n",
       "      <th>pressure</th>\n",
       "      <th>humidity</th>\n",
       "      <th>dew_point</th>\n",
       "      <th>uvi</th>\n",
       "      <th>clouds</th>\n",
       "      <th>visibility</th>\n",
       "      <th>wind_speed</th>\n",
       "      <th>wind_deg</th>\n",
       "      <th>wind_gust</th>\n",
       "      <th>weather</th>\n",
       "      <th>pop</th>\n",
       "      <th>rain</th>\n",
       "    </tr>\n",
       "  </thead>\n",
       "  <tbody>\n",
       "    <tr>\n",
       "      <th>0</th>\n",
       "      <td>1632006000</td>\n",
       "      <td>29.63</td>\n",
       "      <td>36.63</td>\n",
       "      <td>1011</td>\n",
       "      <td>83</td>\n",
       "      <td>26.43</td>\n",
       "      <td>0.21</td>\n",
       "      <td>87</td>\n",
       "      <td>10000</td>\n",
       "      <td>4.48</td>\n",
       "      <td>82</td>\n",
       "      <td>5.70</td>\n",
       "      <td>[{'id': 804, 'main': 'Clouds', 'description': ...</td>\n",
       "      <td>0.63</td>\n",
       "      <td>NaN</td>\n",
       "    </tr>\n",
       "    <tr>\n",
       "      <th>1</th>\n",
       "      <td>1632009600</td>\n",
       "      <td>29.42</td>\n",
       "      <td>36.42</td>\n",
       "      <td>1011</td>\n",
       "      <td>82</td>\n",
       "      <td>26.02</td>\n",
       "      <td>1.17</td>\n",
       "      <td>87</td>\n",
       "      <td>10000</td>\n",
       "      <td>5.09</td>\n",
       "      <td>83</td>\n",
       "      <td>6.25</td>\n",
       "      <td>[{'id': 804, 'main': 'Clouds', 'description': ...</td>\n",
       "      <td>0.63</td>\n",
       "      <td>NaN</td>\n",
       "    </tr>\n",
       "    <tr>\n",
       "      <th>2</th>\n",
       "      <td>1632013200</td>\n",
       "      <td>29.35</td>\n",
       "      <td>35.73</td>\n",
       "      <td>1011</td>\n",
       "      <td>80</td>\n",
       "      <td>25.54</td>\n",
       "      <td>3.26</td>\n",
       "      <td>92</td>\n",
       "      <td>10000</td>\n",
       "      <td>5.71</td>\n",
       "      <td>88</td>\n",
       "      <td>6.62</td>\n",
       "      <td>[{'id': 804, 'main': 'Clouds', 'description': ...</td>\n",
       "      <td>0.53</td>\n",
       "      <td>NaN</td>\n",
       "    </tr>\n",
       "    <tr>\n",
       "      <th>3</th>\n",
       "      <td>1632016800</td>\n",
       "      <td>29.37</td>\n",
       "      <td>35.55</td>\n",
       "      <td>1012</td>\n",
       "      <td>79</td>\n",
       "      <td>25.34</td>\n",
       "      <td>6.09</td>\n",
       "      <td>95</td>\n",
       "      <td>10000</td>\n",
       "      <td>6.07</td>\n",
       "      <td>91</td>\n",
       "      <td>6.88</td>\n",
       "      <td>[{'id': 804, 'main': 'Clouds', 'description': ...</td>\n",
       "      <td>0.53</td>\n",
       "      <td>NaN</td>\n",
       "    </tr>\n",
       "    <tr>\n",
       "      <th>4</th>\n",
       "      <td>1632020400</td>\n",
       "      <td>29.42</td>\n",
       "      <td>35.22</td>\n",
       "      <td>1012</td>\n",
       "      <td>77</td>\n",
       "      <td>24.96</td>\n",
       "      <td>8.76</td>\n",
       "      <td>97</td>\n",
       "      <td>10000</td>\n",
       "      <td>6.16</td>\n",
       "      <td>92</td>\n",
       "      <td>6.98</td>\n",
       "      <td>[{'id': 804, 'main': 'Clouds', 'description': ...</td>\n",
       "      <td>0.53</td>\n",
       "      <td>NaN</td>\n",
       "    </tr>\n",
       "  </tbody>\n",
       "</table>\n",
       "</div>"
      ],
      "text/plain": [
       "           dt   temp  feels_like  pressure  humidity  dew_point   uvi  clouds  \\\n",
       "0  1632006000  29.63       36.63      1011        83      26.43  0.21      87   \n",
       "1  1632009600  29.42       36.42      1011        82      26.02  1.17      87   \n",
       "2  1632013200  29.35       35.73      1011        80      25.54  3.26      92   \n",
       "3  1632016800  29.37       35.55      1012        79      25.34  6.09      95   \n",
       "4  1632020400  29.42       35.22      1012        77      24.96  8.76      97   \n",
       "\n",
       "   visibility  wind_speed  wind_deg  wind_gust  \\\n",
       "0       10000        4.48        82       5.70   \n",
       "1       10000        5.09        83       6.25   \n",
       "2       10000        5.71        88       6.62   \n",
       "3       10000        6.07        91       6.88   \n",
       "4       10000        6.16        92       6.98   \n",
       "\n",
       "                                             weather   pop rain  \n",
       "0  [{'id': 804, 'main': 'Clouds', 'description': ...  0.63  NaN  \n",
       "1  [{'id': 804, 'main': 'Clouds', 'description': ...  0.63  NaN  \n",
       "2  [{'id': 804, 'main': 'Clouds', 'description': ...  0.53  NaN  \n",
       "3  [{'id': 804, 'main': 'Clouds', 'description': ...  0.53  NaN  \n",
       "4  [{'id': 804, 'main': 'Clouds', 'description': ...  0.53  NaN  "
      ]
     },
     "execution_count": 10,
     "metadata": {},
     "output_type": "execute_result"
    }
   ],
   "source": [
    "df_hourly.head()"
   ]
  },
  {
   "cell_type": "code",
   "execution_count": null,
   "metadata": {},
   "outputs": [],
   "source": []
  }
 ],
 "metadata": {
  "interpreter": {
   "hash": "c1b4cfe941b6d2466ad1fb5979e97da9cda8801728c8091b097ab734208fc00c"
  },
  "kernelspec": {
   "display_name": "Python 3.8.3 64-bit ('base': conda)",
   "name": "python3"
  },
  "language_info": {
   "codemirror_mode": {
    "name": "ipython",
    "version": 3
   },
   "file_extension": ".py",
   "mimetype": "text/x-python",
   "name": "python",
   "nbconvert_exporter": "python",
   "pygments_lexer": "ipython3",
   "version": "3.8.11"
  }
 },
 "nbformat": 4,
 "nbformat_minor": 2
}
