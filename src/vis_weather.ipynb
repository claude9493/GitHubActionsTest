{
 "cells": [
  {
   "cell_type": "code",
   "execution_count": 1,
   "metadata": {
    "execution": {
     "iopub.execute_input": "2021-08-26T07:36:25.886517Z",
     "iopub.status.busy": "2021-08-26T07:36:25.885887Z",
     "iopub.status.idle": "2021-08-26T07:36:29.057081Z",
     "shell.execute_reply": "2021-08-26T07:36:29.056123Z"
    }
   },
   "outputs": [],
   "source": [
    "import json, yaml, requests\r\n",
    "from datetime import datetime\r\n",
    "from dateutil import tz\r\n",
    "import pandas as pd\r\n",
    "from PIL import Image\r\n",
    "from io import BytesIO\r\n",
    "import matplotlib.pyplot as plt\r\n",
    "import seaborn\r\n",
    "\r\n",
    "CONFIG_PATH = \"../config/config.yaml\""
   ]
  },
  {
   "cell_type": "code",
   "execution_count": 2,
   "metadata": {
    "execution": {
     "iopub.execute_input": "2021-08-26T07:36:29.063031Z",
     "iopub.status.busy": "2021-08-26T07:36:29.062416Z",
     "iopub.status.idle": "2021-08-26T07:36:29.067713Z",
     "shell.execute_reply": "2021-08-26T07:36:29.067165Z"
    }
   },
   "outputs": [],
   "source": [
    "with open('../newest_ts', 'r') as f:\r\n",
    "    newest_ts = f.read()\r\n",
    "\r\n",
    "data_path = f\"../data/data_{newest_ts}.json\"\r\n",
    "with open(data_path, 'r') as f:\r\n",
    "    data = json.load(f)\r\n",
    "\r\n",
    "with open(CONFIG_PATH, \"r\") as stream:\r\n",
    "    config = yaml.safe_load(stream)\r\n",
    "\r\n",
    "TIME_ZONE = config['time_zone']\r\n",
    "DATETIME_FORMAT = config['dt_format']"
   ]
  },
  {
   "cell_type": "code",
   "execution_count": 3,
   "metadata": {
    "execution": {
     "iopub.execute_input": "2021-08-26T07:36:29.072711Z",
     "iopub.status.busy": "2021-08-26T07:36:29.072000Z",
     "iopub.status.idle": "2021-08-26T07:36:29.082351Z",
     "shell.execute_reply": "2021-08-26T07:36:29.082790Z"
    }
   },
   "outputs": [
    {
     "name": "stdout",
     "output_type": "stream",
     "text": [
      "Recent query happens at 2021-08-26 15:36:23 (CST).\n"
     ]
    }
   ],
   "source": [
    "def ts2dt(ts, format=DATETIME_FORMAT):\r\n",
    "    dt = (datetime.utcfromtimestamp(int(ts))\r\n",
    "                    .replace(tzinfo=tz.tzutc())\r\n",
    "                    # .astimezone(tz.tzlocal())\r\n",
    "                    .astimezone(tz.gettz(TIME_ZONE)))\r\n",
    "    return dt.strftime(format), dt\r\n",
    "\r\n",
    "_, newest_dt = ts2dt(newest_ts)\r\n",
    "print(f\"Recent query happens at {newest_dt.strftime(DATETIME_FORMAT)} ({newest_dt.tzname()}).\")"
   ]
  },
  {
   "cell_type": "code",
   "execution_count": 4,
   "metadata": {
    "execution": {
     "iopub.execute_input": "2021-08-26T07:36:29.088770Z",
     "iopub.status.busy": "2021-08-26T07:36:29.087565Z",
     "iopub.status.idle": "2021-08-26T07:36:29.089360Z",
     "shell.execute_reply": "2021-08-26T07:36:29.089785Z"
    }
   },
   "outputs": [],
   "source": [
    "def degrees_to_cardinal(d):\r\n",
    "  dirs = ['N', 'NNE', 'NE', 'ENE', 'E', 'ESE', 'SE', 'SSE', 'S', 'SSW', 'SW', 'WSW', 'W', 'WNW', 'NW', 'NNW']\r\n",
    "  ix = int(round(d / (360. / len(dirs))))\r\n",
    "  return dirs[ix % len(dirs)]"
   ]
  },
  {
   "cell_type": "code",
   "execution_count": 5,
   "metadata": {
    "execution": {
     "iopub.execute_input": "2021-08-26T07:36:29.094414Z",
     "iopub.status.busy": "2021-08-26T07:36:29.093355Z",
     "iopub.status.idle": "2021-08-26T07:36:29.094965Z",
     "shell.execute_reply": "2021-08-26T07:36:29.095367Z"
    }
   },
   "outputs": [],
   "source": [
    "# data.keys()"
   ]
  },
  {
   "cell_type": "code",
   "execution_count": 6,
   "metadata": {
    "execution": {
     "iopub.execute_input": "2021-08-26T07:36:29.099742Z",
     "iopub.status.busy": "2021-08-26T07:36:29.098429Z",
     "iopub.status.idle": "2021-08-26T07:36:29.100369Z",
     "shell.execute_reply": "2021-08-26T07:36:29.100789Z"
    }
   },
   "outputs": [],
   "source": [
    "# data['current']"
   ]
  },
  {
   "cell_type": "code",
   "execution_count": 7,
   "metadata": {
    "execution": {
     "iopub.execute_input": "2021-08-26T07:36:29.121699Z",
     "iopub.status.busy": "2021-08-26T07:36:29.121107Z",
     "iopub.status.idle": "2021-08-26T07:36:29.452027Z",
     "shell.execute_reply": "2021-08-26T07:36:29.452779Z"
    }
   },
   "outputs": [
    {
     "data": {
      "image/png": "[encoded data removed]",
      "text/plain": [
       "<Figure size 216x216 with 1 Axes>"
      ]
     },
     "metadata": {
      "needs_background": "light"
     },
     "output_type": "display_data"
    },
    {
     "name": "stdout",
     "output_type": "stream",
     "text": [
      "Today, sun rises at 06:03 and sets at 18:46.\n",
      "Currently, the weather is Clouds (overcast clouds).\n",
      "The temperature is 32.75°C and it feels like 39.75°C.\n",
      "The UV index is 3.17, humidity is 69%.\n",
      "The pressure is 1010 hPa, percentage of cloud cover is 100%\n",
      "The wind comes from ESE direction with a speed 4.16 m/s.\n"
     ]
    }
   ],
   "source": [
    "current = data['current']\r\n",
    "\r\n",
    "fig, ax = plt.subplots(figsize=(3, 3))\r\n",
    "icon = requests.get(f\"http://openweathermap.org/img/wn/{current['weather'][0]['icon']}@2x.png\")\r\n",
    "im = Image.open(BytesIO(icon.content))\r\n",
    "plt.imshow(im)\r\n",
    "ax.set_axis_off()\r\n",
    "plt.show()\r\n",
    "\r\n",
    "print(f\"Today, sun rises at {ts2dt(current['sunrise'], '%H:%M')[0]} \\\r\n",
    "and sets at {ts2dt(current['sunset'], '%H:%M')[0]}.\\n\\\r\n",
    "Currently, the weather is {current['weather'][0]['main']} ({current['weather'][0]['description']}).\\n\\\r\n",
    "The temperature is {current['temp']}°C and it feels like {current['feels_like']}°C.\\n\\\r\n",
    "The UV index is {current['uvi']}, humidity is {current['humidity']}%.\\n\\\r\n",
    "The pressure is {current['pressure']} hPa, percentage of cloud cover is {current['clouds']}%\\n\\\r\n",
    "The wind comes from {degrees_to_cardinal(current['wind_deg'])} direction with a speed {current['wind_speed']} m/s.\")"
   ]
  },
  {
   "cell_type": "code",
   "execution_count": 8,
   "metadata": {
    "execution": {
     "iopub.execute_input": "2021-08-26T07:36:29.456160Z",
     "iopub.status.busy": "2021-08-26T07:36:29.455547Z",
     "iopub.status.idle": "2021-08-26T07:36:29.462812Z",
     "shell.execute_reply": "2021-08-26T07:36:29.463516Z"
    }
   },
   "outputs": [],
   "source": [
    "df_hourly = pd.DataFrame(data['hourly'])\r\n",
    "df_daily = pd.DataFrame(data['daily'])"
   ]
  },
  {
   "cell_type": "code",
   "execution_count": 9,
   "metadata": {
    "execution": {
     "iopub.execute_input": "2021-08-26T07:36:29.466753Z",
     "iopub.status.busy": "2021-08-26T07:36:29.466073Z",
     "iopub.status.idle": "2021-08-26T07:36:29.727516Z",
     "shell.execute_reply": "2021-08-26T07:36:29.726983Z"
    }
   },
   "outputs": [
    {
     "data": {
      "image/png": "[encoded data removed]",
      "text/plain": [
       "<Figure size 864x432 with 1 Axes>"
      ]
     },
     "metadata": {
      "needs_background": "light"
     },
     "output_type": "display_data"
    }
   ],
   "source": [
    "fig, ax = plt.subplots(figsize=(12, 6))\r\n",
    "plt.plot(df_hourly.temp, '.-', label='Temperature')\r\n",
    "plt.plot(df_hourly.feels_like, '.-', label='Feels Like')\r\n",
    "ax.set(title='Temperature in future 48 hours', xlabel='Time', ylabel='Temperature')\r\n",
    "ax.set_xticks(list(range(0, len(df_hourly), 2)))\r\n",
    "ax.set_xticklabels([ts2dt(ts, '%m-%d %H:%M')[0] for i, ts in enumerate(df_hourly.dt) if i%2==0], \r\n",
    "                   rotation=45, ha=\"right\")\r\n",
    "ax.locator_params(nbins=15, axis='y')\r\n",
    "plt.legend()\r\n",
    "plt.show()"
   ]
  },
  {
   "cell_type": "code",
   "execution_count": 10,
   "metadata": {
    "execution": {
     "iopub.execute_input": "2021-08-26T07:36:29.738416Z",
     "iopub.status.busy": "2021-08-26T07:36:29.731386Z",
     "iopub.status.idle": "2021-08-26T07:36:29.749236Z",
     "shell.execute_reply": "2021-08-26T07:36:29.749661Z"
    }
   },
   "outputs": [
    {
     "data": {
      "text/html": [
       "<div>\n",
       "<style scoped>\n",
       "    .dataframe tbody tr th:only-of-type {\n",
       "        vertical-align: middle;\n",
       "    }\n",
       "\n",
       "    .dataframe tbody tr th {\n",
       "        vertical-align: top;\n",
       "    }\n",
       "\n",
       "    .dataframe thead th {\n",
       "        text-align: right;\n",
       "    }\n",
       "</style>\n",
       "<table border=\"1\" class=\"dataframe\">\n",
       "  <thead>\n",
       "    <tr style=\"text-align: right;\">\n",
       "      <th></th>\n",
       "      <th>dt</th>\n",
       "      <th>temp</th>\n",
       "      <th>feels_like</th>\n",
       "      <th>pressure</th>\n",
       "      <th>humidity</th>\n",
       "      <th>dew_point</th>\n",
       "      <th>uvi</th>\n",
       "      <th>clouds</th>\n",
       "      <th>visibility</th>\n",
       "      <th>wind_speed</th>\n",
       "      <th>wind_deg</th>\n",
       "      <th>wind_gust</th>\n",
       "      <th>weather</th>\n",
       "      <th>pop</th>\n",
       "      <th>rain</th>\n",
       "    </tr>\n",
       "  </thead>\n",
       "  <tbody>\n",
       "    <tr>\n",
       "      <th>0</th>\n",
       "      <td>1629961200</td>\n",
       "      <td>32.16</td>\n",
       "      <td>39.16</td>\n",
       "      <td>1010</td>\n",
       "      <td>68</td>\n",
       "      <td>25.50</td>\n",
       "      <td>5.96</td>\n",
       "      <td>100</td>\n",
       "      <td>10000</td>\n",
       "      <td>3.99</td>\n",
       "      <td>115</td>\n",
       "      <td>4.19</td>\n",
       "      <td>[{'id': 804, 'main': 'Clouds', 'description': ...</td>\n",
       "      <td>0.03</td>\n",
       "      <td>NaN</td>\n",
       "    </tr>\n",
       "    <tr>\n",
       "      <th>1</th>\n",
       "      <td>1629964800</td>\n",
       "      <td>32.75</td>\n",
       "      <td>39.75</td>\n",
       "      <td>1010</td>\n",
       "      <td>69</td>\n",
       "      <td>26.31</td>\n",
       "      <td>3.17</td>\n",
       "      <td>100</td>\n",
       "      <td>10000</td>\n",
       "      <td>4.16</td>\n",
       "      <td>116</td>\n",
       "      <td>4.54</td>\n",
       "      <td>[{'id': 804, 'main': 'Clouds', 'description': ...</td>\n",
       "      <td>0.03</td>\n",
       "      <td>NaN</td>\n",
       "    </tr>\n",
       "    <tr>\n",
       "      <th>2</th>\n",
       "      <td>1629968400</td>\n",
       "      <td>32.07</td>\n",
       "      <td>39.07</td>\n",
       "      <td>1010</td>\n",
       "      <td>70</td>\n",
       "      <td>25.90</td>\n",
       "      <td>1.16</td>\n",
       "      <td>100</td>\n",
       "      <td>10000</td>\n",
       "      <td>3.91</td>\n",
       "      <td>112</td>\n",
       "      <td>4.62</td>\n",
       "      <td>[{'id': 804, 'main': 'Clouds', 'description': ...</td>\n",
       "      <td>0.01</td>\n",
       "      <td>NaN</td>\n",
       "    </tr>\n",
       "    <tr>\n",
       "      <th>3</th>\n",
       "      <td>1629972000</td>\n",
       "      <td>31.21</td>\n",
       "      <td>38.21</td>\n",
       "      <td>1010</td>\n",
       "      <td>71</td>\n",
       "      <td>25.32</td>\n",
       "      <td>0.23</td>\n",
       "      <td>100</td>\n",
       "      <td>10000</td>\n",
       "      <td>3.60</td>\n",
       "      <td>109</td>\n",
       "      <td>4.89</td>\n",
       "      <td>[{'id': 804, 'main': 'Clouds', 'description': ...</td>\n",
       "      <td>0.01</td>\n",
       "      <td>NaN</td>\n",
       "    </tr>\n",
       "    <tr>\n",
       "      <th>4</th>\n",
       "      <td>1629975600</td>\n",
       "      <td>30.13</td>\n",
       "      <td>36.66</td>\n",
       "      <td>1010</td>\n",
       "      <td>75</td>\n",
       "      <td>25.21</td>\n",
       "      <td>0.00</td>\n",
       "      <td>99</td>\n",
       "      <td>10000</td>\n",
       "      <td>2.95</td>\n",
       "      <td>103</td>\n",
       "      <td>4.26</td>\n",
       "      <td>[{'id': 804, 'main': 'Clouds', 'description': ...</td>\n",
       "      <td>0.01</td>\n",
       "      <td>NaN</td>\n",
       "    </tr>\n",
       "  </tbody>\n",
       "</table>\n",
       "</div>"
      ],
      "text/plain": [
       "           dt   temp  feels_like  pressure  humidity  dew_point   uvi  clouds  \\\n",
       "0  1629961200  32.16       39.16      1010        68      25.50  5.96     100   \n",
       "1  1629964800  32.75       39.75      1010        69      26.31  3.17     100   \n",
       "2  1629968400  32.07       39.07      1010        70      25.90  1.16     100   \n",
       "3  1629972000  31.21       38.21      1010        71      25.32  0.23     100   \n",
       "4  1629975600  30.13       36.66      1010        75      25.21  0.00      99   \n",
       "\n",
       "   visibility  wind_speed  wind_deg  wind_gust  \\\n",
       "0       10000        3.99       115       4.19   \n",
       "1       10000        4.16       116       4.54   \n",
       "2       10000        3.91       112       4.62   \n",
       "3       10000        3.60       109       4.89   \n",
       "4       10000        2.95       103       4.26   \n",
       "\n",
       "                                             weather   pop rain  \n",
       "0  [{'id': 804, 'main': 'Clouds', 'description': ...  0.03  NaN  \n",
       "1  [{'id': 804, 'main': 'Clouds', 'description': ...  0.03  NaN  \n",
       "2  [{'id': 804, 'main': 'Clouds', 'description': ...  0.01  NaN  \n",
       "3  [{'id': 804, 'main': 'Clouds', 'description': ...  0.01  NaN  \n",
       "4  [{'id': 804, 'main': 'Clouds', 'description': ...  0.01  NaN  "
      ]
     },
     "execution_count": 10,
     "metadata": {},
     "output_type": "execute_result"
    }
   ],
   "source": [
    "df_hourly.head()"
   ]
  },
  {
   "cell_type": "code",
   "execution_count": null,
   "metadata": {},
   "outputs": [],
   "source": []
  }
 ],
 "metadata": {
  "interpreter": {
   "hash": "c1b4cfe941b6d2466ad1fb5979e97da9cda8801728c8091b097ab734208fc00c"
  },
  "kernelspec": {
   "display_name": "Python 3.8.3 64-bit ('base': conda)",
   "name": "python3"
  },
  "language_info": {
   "codemirror_mode": {
    "name": "ipython",
    "version": 3
   },
   "file_extension": ".py",
   "mimetype": "text/x-python",
   "name": "python",
   "nbconvert_exporter": "python",
   "pygments_lexer": "ipython3",
   "version": "3.8.11"
  }
 },
 "nbformat": 4,
 "nbformat_minor": 2
}
