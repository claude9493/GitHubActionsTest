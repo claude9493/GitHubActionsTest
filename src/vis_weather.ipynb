{
 "cells": [
  {
   "cell_type": "code",
   "execution_count": 1,
   "metadata": {
    "execution": {
     "iopub.execute_input": "2021-09-03T20:16:35.698064Z",
     "iopub.status.busy": "2021-09-03T20:16:35.697207Z",
     "iopub.status.idle": "2021-09-03T20:16:38.670146Z",
     "shell.execute_reply": "2021-09-03T20:16:38.668194Z"
    }
   },
   "outputs": [],
   "source": [
    "import json, yaml, requests\r\n",
    "from datetime import datetime\r\n",
    "from dateutil import tz\r\n",
    "import pandas as pd\r\n",
    "from PIL import Image\r\n",
    "from io import BytesIO\r\n",
    "import matplotlib.pyplot as plt\r\n",
    "import seaborn\r\n",
    "\r\n",
    "CONFIG_PATH = \"../config/config.yaml\""
   ]
  },
  {
   "cell_type": "code",
   "execution_count": 2,
   "metadata": {
    "execution": {
     "iopub.execute_input": "2021-09-03T20:16:38.675153Z",
     "iopub.status.busy": "2021-09-03T20:16:38.674295Z",
     "iopub.status.idle": "2021-09-03T20:16:38.682112Z",
     "shell.execute_reply": "2021-09-03T20:16:38.681578Z"
    }
   },
   "outputs": [],
   "source": [
    "with open('../newest_ts', 'r') as f:\r\n",
    "    newest_ts = f.read()\r\n",
    "\r\n",
    "data_path = f\"../data/data_{newest_ts}.json\"\r\n",
    "with open(data_path, 'r') as f:\r\n",
    "    data = json.load(f)\r\n",
    "\r\n",
    "with open(CONFIG_PATH, \"r\") as stream:\r\n",
    "    config = yaml.safe_load(stream)\r\n",
    "\r\n",
    "TIME_ZONE = config['time_zone']\r\n",
    "DATETIME_FORMAT = config['dt_format']"
   ]
  },
  {
   "cell_type": "code",
   "execution_count": 3,
   "metadata": {
    "execution": {
     "iopub.execute_input": "2021-09-03T20:16:38.687425Z",
     "iopub.status.busy": "2021-09-03T20:16:38.686825Z",
     "iopub.status.idle": "2021-09-03T20:16:38.705661Z",
     "shell.execute_reply": "2021-09-03T20:16:38.706173Z"
    }
   },
   "outputs": [
    {
     "name": "stdout",
     "output_type": "stream",
     "text": [
      "Recent query happens at 2021-09-04 04:16:32 (CST).\n"
     ]
    }
   ],
   "source": [
    "def ts2dt(ts, format=DATETIME_FORMAT):\r\n",
    "    dt = (datetime.utcfromtimestamp(int(ts))\r\n",
    "                    .replace(tzinfo=tz.tzutc())\r\n",
    "                    # .astimezone(tz.tzlocal())\r\n",
    "                    .astimezone(tz.gettz(TIME_ZONE)))\r\n",
    "    return dt.strftime(format), dt\r\n",
    "\r\n",
    "_, newest_dt = ts2dt(newest_ts)\r\n",
    "print(f\"Recent query happens at {newest_dt.strftime(DATETIME_FORMAT)} ({newest_dt.tzname()}).\")"
   ]
  },
  {
   "cell_type": "code",
   "execution_count": 4,
   "metadata": {
    "execution": {
     "iopub.execute_input": "2021-09-03T20:16:38.712627Z",
     "iopub.status.busy": "2021-09-03T20:16:38.711139Z",
     "iopub.status.idle": "2021-09-03T20:16:38.713305Z",
     "shell.execute_reply": "2021-09-03T20:16:38.713842Z"
    }
   },
   "outputs": [],
   "source": [
    "def degrees_to_cardinal(d):\r\n",
    "  dirs = ['N', 'NNE', 'NE', 'ENE', 'E', 'ESE', 'SE', 'SSE', 'S', 'SSW', 'SW', 'WSW', 'W', 'WNW', 'NW', 'NNW']\r\n",
    "  ix = int(round(d / (360. / len(dirs))))\r\n",
    "  return dirs[ix % len(dirs)]"
   ]
  },
  {
   "cell_type": "code",
   "execution_count": 5,
   "metadata": {
    "execution": {
     "iopub.execute_input": "2021-09-03T20:16:38.718094Z",
     "iopub.status.busy": "2021-09-03T20:16:38.717436Z",
     "iopub.status.idle": "2021-09-03T20:16:38.720053Z",
     "shell.execute_reply": "2021-09-03T20:16:38.719535Z"
    }
   },
   "outputs": [],
   "source": [
    "# data.keys()"
   ]
  },
  {
   "cell_type": "code",
   "execution_count": 6,
   "metadata": {
    "execution": {
     "iopub.execute_input": "2021-09-03T20:16:38.723753Z",
     "iopub.status.busy": "2021-09-03T20:16:38.723147Z",
     "iopub.status.idle": "2021-09-03T20:16:38.725132Z",
     "shell.execute_reply": "2021-09-03T20:16:38.725820Z"
    }
   },
   "outputs": [],
   "source": [
    "# data['current']"
   ]
  },
  {
   "cell_type": "code",
   "execution_count": 7,
   "metadata": {
    "execution": {
     "iopub.execute_input": "2021-09-03T20:16:38.748682Z",
     "iopub.status.busy": "2021-09-03T20:16:38.748044Z",
     "iopub.status.idle": "2021-09-03T20:16:39.193544Z",
     "shell.execute_reply": "2021-09-03T20:16:39.194394Z"
    }
   },
   "outputs": [
    {
     "data": {
      "image/png": "[encoded data removed]",
      "text/plain": [
       "<Figure size 216x216 with 1 Axes>"
      ]
     },
     "metadata": {
      "needs_background": "light"
     },
     "output_type": "display_data"
    },
    {
     "name": "stdout",
     "output_type": "stream",
     "text": [
      "Today, sun rises at 06:06 and sets at 18:37.\n",
      "Currently, the weather is Clear (clear sky).\n",
      "The temperature is 28.73°C and it feels like 34.41°C.\n",
      "The UV index is 0, humidity is 82%.\n",
      "The pressure is 1007 hPa, percentage of cloud cover is 6%\n",
      "The wind comes from SSE direction with a speed 1.97 m/s.\n"
     ]
    }
   ],
   "source": [
    "current = data['current']\r\n",
    "\r\n",
    "fig, ax = plt.subplots(figsize=(3, 3))\r\n",
    "icon = requests.get(f\"http://openweathermap.org/img/wn/{current['weather'][0]['icon']}@2x.png\")\r\n",
    "im = Image.open(BytesIO(icon.content))\r\n",
    "plt.imshow(im)\r\n",
    "ax.set_axis_off()\r\n",
    "plt.show()\r\n",
    "\r\n",
    "print(f\"Today, sun rises at {ts2dt(current['sunrise'], '%H:%M')[0]} \\\r\n",
    "and sets at {ts2dt(current['sunset'], '%H:%M')[0]}.\\n\\\r\n",
    "Currently, the weather is {current['weather'][0]['main']} ({current['weather'][0]['description']}).\\n\\\r\n",
    "The temperature is {current['temp']}°C and it feels like {current['feels_like']}°C.\\n\\\r\n",
    "The UV index is {current['uvi']}, humidity is {current['humidity']}%.\\n\\\r\n",
    "The pressure is {current['pressure']} hPa, percentage of cloud cover is {current['clouds']}%\\n\\\r\n",
    "The wind comes from {degrees_to_cardinal(current['wind_deg'])} direction with a speed {current['wind_speed']} m/s.\")"
   ]
  },
  {
   "cell_type": "code",
   "execution_count": 8,
   "metadata": {
    "execution": {
     "iopub.execute_input": "2021-09-03T20:16:39.198359Z",
     "iopub.status.busy": "2021-09-03T20:16:39.197170Z",
     "iopub.status.idle": "2021-09-03T20:16:39.205881Z",
     "shell.execute_reply": "2021-09-03T20:16:39.206685Z"
    }
   },
   "outputs": [],
   "source": [
    "df_hourly = pd.DataFrame(data['hourly'])\r\n",
    "df_daily = pd.DataFrame(data['daily'])"
   ]
  },
  {
   "cell_type": "code",
   "execution_count": 9,
   "metadata": {
    "execution": {
     "iopub.execute_input": "2021-09-03T20:16:39.210547Z",
     "iopub.status.busy": "2021-09-03T20:16:39.209269Z",
     "iopub.status.idle": "2021-09-03T20:16:39.540897Z",
     "shell.execute_reply": "2021-09-03T20:16:39.541374Z"
    }
   },
   "outputs": [
    {
     "data": {
      "image/png": "[encoded data removed]",
      "text/plain": [
       "<Figure size 864x432 with 1 Axes>"
      ]
     },
     "metadata": {
      "needs_background": "light"
     },
     "output_type": "display_data"
    }
   ],
   "source": [
    "fig, ax = plt.subplots(figsize=(12, 6))\r\n",
    "plt.plot(df_hourly.temp, '.-', label='Temperature')\r\n",
    "plt.plot(df_hourly.feels_like, '.-', label='Feels Like')\r\n",
    "ax.set(title='Temperature in future 48 hours', xlabel='Time', ylabel='Temperature')\r\n",
    "ax.set_xticks(list(range(0, len(df_hourly), 2)))\r\n",
    "ax.set_xticklabels([ts2dt(ts, '%m-%d %H:%M')[0] for i, ts in enumerate(df_hourly.dt) if i%2==0], \r\n",
    "                   rotation=45, ha=\"right\")\r\n",
    "ax.locator_params(nbins=15, axis='y')\r\n",
    "plt.legend()\r\n",
    "plt.show()"
   ]
  },
  {
   "cell_type": "code",
   "execution_count": 10,
   "metadata": {
    "execution": {
     "iopub.execute_input": "2021-09-03T20:16:39.546539Z",
     "iopub.status.busy": "2021-09-03T20:16:39.545921Z",
     "iopub.status.idle": "2021-09-03T20:16:39.567877Z",
     "shell.execute_reply": "2021-09-03T20:16:39.567361Z"
    }
   },
   "outputs": [
    {
     "data": {
      "text/html": [
       "<div>\n",
       "<style scoped>\n",
       "    .dataframe tbody tr th:only-of-type {\n",
       "        vertical-align: middle;\n",
       "    }\n",
       "\n",
       "    .dataframe tbody tr th {\n",
       "        vertical-align: top;\n",
       "    }\n",
       "\n",
       "    .dataframe thead th {\n",
       "        text-align: right;\n",
       "    }\n",
       "</style>\n",
       "<table border=\"1\" class=\"dataframe\">\n",
       "  <thead>\n",
       "    <tr style=\"text-align: right;\">\n",
       "      <th></th>\n",
       "      <th>dt</th>\n",
       "      <th>temp</th>\n",
       "      <th>feels_like</th>\n",
       "      <th>pressure</th>\n",
       "      <th>humidity</th>\n",
       "      <th>dew_point</th>\n",
       "      <th>uvi</th>\n",
       "      <th>clouds</th>\n",
       "      <th>visibility</th>\n",
       "      <th>wind_speed</th>\n",
       "      <th>wind_deg</th>\n",
       "      <th>wind_gust</th>\n",
       "      <th>weather</th>\n",
       "      <th>pop</th>\n",
       "      <th>rain</th>\n",
       "    </tr>\n",
       "  </thead>\n",
       "  <tbody>\n",
       "    <tr>\n",
       "      <th>0</th>\n",
       "      <td>1630699200</td>\n",
       "      <td>28.73</td>\n",
       "      <td>34.41</td>\n",
       "      <td>1007</td>\n",
       "      <td>82</td>\n",
       "      <td>25.35</td>\n",
       "      <td>0.00</td>\n",
       "      <td>6</td>\n",
       "      <td>10000</td>\n",
       "      <td>1.97</td>\n",
       "      <td>150</td>\n",
       "      <td>2.39</td>\n",
       "      <td>[{'id': 500, 'main': 'Rain', 'description': 'l...</td>\n",
       "      <td>0.37</td>\n",
       "      <td>{'1h': 0.1}</td>\n",
       "    </tr>\n",
       "    <tr>\n",
       "      <th>1</th>\n",
       "      <td>1630702800</td>\n",
       "      <td>28.50</td>\n",
       "      <td>33.76</td>\n",
       "      <td>1007</td>\n",
       "      <td>82</td>\n",
       "      <td>25.13</td>\n",
       "      <td>0.00</td>\n",
       "      <td>6</td>\n",
       "      <td>10000</td>\n",
       "      <td>1.80</td>\n",
       "      <td>157</td>\n",
       "      <td>2.15</td>\n",
       "      <td>[{'id': 800, 'main': 'Clear', 'description': '...</td>\n",
       "      <td>0.46</td>\n",
       "      <td>NaN</td>\n",
       "    </tr>\n",
       "    <tr>\n",
       "      <th>2</th>\n",
       "      <td>1630706400</td>\n",
       "      <td>28.19</td>\n",
       "      <td>33.09</td>\n",
       "      <td>1007</td>\n",
       "      <td>83</td>\n",
       "      <td>25.03</td>\n",
       "      <td>0.00</td>\n",
       "      <td>5</td>\n",
       "      <td>10000</td>\n",
       "      <td>1.46</td>\n",
       "      <td>162</td>\n",
       "      <td>1.74</td>\n",
       "      <td>[{'id': 800, 'main': 'Clear', 'description': '...</td>\n",
       "      <td>0.70</td>\n",
       "      <td>NaN</td>\n",
       "    </tr>\n",
       "    <tr>\n",
       "      <th>3</th>\n",
       "      <td>1630710000</td>\n",
       "      <td>27.89</td>\n",
       "      <td>32.12</td>\n",
       "      <td>1008</td>\n",
       "      <td>82</td>\n",
       "      <td>24.53</td>\n",
       "      <td>0.31</td>\n",
       "      <td>4</td>\n",
       "      <td>10000</td>\n",
       "      <td>1.47</td>\n",
       "      <td>145</td>\n",
       "      <td>1.79</td>\n",
       "      <td>[{'id': 501, 'main': 'Rain', 'description': 'm...</td>\n",
       "      <td>0.94</td>\n",
       "      <td>{'1h': 1.02}</td>\n",
       "    </tr>\n",
       "    <tr>\n",
       "      <th>4</th>\n",
       "      <td>1630713600</td>\n",
       "      <td>28.19</td>\n",
       "      <td>32.25</td>\n",
       "      <td>1008</td>\n",
       "      <td>78</td>\n",
       "      <td>23.99</td>\n",
       "      <td>1.46</td>\n",
       "      <td>3</td>\n",
       "      <td>10000</td>\n",
       "      <td>1.17</td>\n",
       "      <td>137</td>\n",
       "      <td>1.47</td>\n",
       "      <td>[{'id': 500, 'main': 'Rain', 'description': 'l...</td>\n",
       "      <td>0.97</td>\n",
       "      <td>{'1h': 0.84}</td>\n",
       "    </tr>\n",
       "  </tbody>\n",
       "</table>\n",
       "</div>"
      ],
      "text/plain": [
       "           dt   temp  feels_like  pressure  humidity  dew_point   uvi  clouds  \\\n",
       "0  1630699200  28.73       34.41      1007        82      25.35  0.00       6   \n",
       "1  1630702800  28.50       33.76      1007        82      25.13  0.00       6   \n",
       "2  1630706400  28.19       33.09      1007        83      25.03  0.00       5   \n",
       "3  1630710000  27.89       32.12      1008        82      24.53  0.31       4   \n",
       "4  1630713600  28.19       32.25      1008        78      23.99  1.46       3   \n",
       "\n",
       "   visibility  wind_speed  wind_deg  wind_gust  \\\n",
       "0       10000        1.97       150       2.39   \n",
       "1       10000        1.80       157       2.15   \n",
       "2       10000        1.46       162       1.74   \n",
       "3       10000        1.47       145       1.79   \n",
       "4       10000        1.17       137       1.47   \n",
       "\n",
       "                                             weather   pop          rain  \n",
       "0  [{'id': 500, 'main': 'Rain', 'description': 'l...  0.37   {'1h': 0.1}  \n",
       "1  [{'id': 800, 'main': 'Clear', 'description': '...  0.46           NaN  \n",
       "2  [{'id': 800, 'main': 'Clear', 'description': '...  0.70           NaN  \n",
       "3  [{'id': 501, 'main': 'Rain', 'description': 'm...  0.94  {'1h': 1.02}  \n",
       "4  [{'id': 500, 'main': 'Rain', 'description': 'l...  0.97  {'1h': 0.84}  "
      ]
     },
     "execution_count": 10,
     "metadata": {},
     "output_type": "execute_result"
    }
   ],
   "source": [
    "df_hourly.head()"
   ]
  },
  {
   "cell_type": "code",
   "execution_count": null,
   "metadata": {},
   "outputs": [],
   "source": []
  }
 ],
 "metadata": {
  "interpreter": {
   "hash": "c1b4cfe941b6d2466ad1fb5979e97da9cda8801728c8091b097ab734208fc00c"
  },
  "kernelspec": {
   "display_name": "Python 3.8.3 64-bit ('base': conda)",
   "name": "python3"
  },
  "language_info": {
   "codemirror_mode": {
    "name": "ipython",
    "version": 3
   },
   "file_extension": ".py",
   "mimetype": "text/x-python",
   "name": "python",
   "nbconvert_exporter": "python",
   "pygments_lexer": "ipython3",
   "version": "3.8.11"
  }
 },
 "nbformat": 4,
 "nbformat_minor": 2
}
