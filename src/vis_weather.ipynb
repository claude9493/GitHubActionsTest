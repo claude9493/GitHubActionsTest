{
 "cells": [
  {
   "cell_type": "code",
   "execution_count": 1,
   "metadata": {
    "execution": {
     "iopub.execute_input": "2021-10-10T17:14:36.667983Z",
     "iopub.status.busy": "2021-10-10T17:14:36.667458Z",
     "iopub.status.idle": "2021-10-10T17:14:37.793335Z",
     "shell.execute_reply": "2021-10-10T17:14:37.792659Z"
    }
   },
   "outputs": [],
   "source": [
    "import json, yaml, requests\r\n",
    "from datetime import datetime\r\n",
    "from dateutil import tz\r\n",
    "import pandas as pd\r\n",
    "from PIL import Image\r\n",
    "from io import BytesIO\r\n",
    "import matplotlib.pyplot as plt\r\n",
    "import seaborn\r\n",
    "\r\n",
    "CONFIG_PATH = \"../config/config.yaml\""
   ]
  },
  {
   "cell_type": "code",
   "execution_count": 2,
   "metadata": {
    "execution": {
     "iopub.execute_input": "2021-10-10T17:14:37.798697Z",
     "iopub.status.busy": "2021-10-10T17:14:37.798213Z",
     "iopub.status.idle": "2021-10-10T17:14:37.803137Z",
     "shell.execute_reply": "2021-10-10T17:14:37.802411Z"
    }
   },
   "outputs": [],
   "source": [
    "with open('../newest_ts', 'r') as f:\r\n",
    "    newest_ts = f.read()\r\n",
    "\r\n",
    "data_path = f\"../data/data_{newest_ts}.json\"\r\n",
    "with open(data_path, 'r') as f:\r\n",
    "    data = json.load(f)\r\n",
    "\r\n",
    "with open(CONFIG_PATH, \"r\") as stream:\r\n",
    "    config = yaml.safe_load(stream)\r\n",
    "\r\n",
    "TIME_ZONE = config['time_zone']\r\n",
    "DATETIME_FORMAT = config['dt_format']"
   ]
  },
  {
   "cell_type": "code",
   "execution_count": 3,
   "metadata": {
    "execution": {
     "iopub.execute_input": "2021-10-10T17:14:37.807525Z",
     "iopub.status.busy": "2021-10-10T17:14:37.807067Z",
     "iopub.status.idle": "2021-10-10T17:14:37.818373Z",
     "shell.execute_reply": "2021-10-10T17:14:37.817955Z"
    }
   },
   "outputs": [
    {
     "name": "stdout",
     "output_type": "stream",
     "text": [
      "Recent query happens at 2021-10-11 01:14:33 (CST).\n"
     ]
    }
   ],
   "source": [
    "def ts2dt(ts, format=DATETIME_FORMAT):\r\n",
    "    dt = (datetime.utcfromtimestamp(int(ts))\r\n",
    "                    .replace(tzinfo=tz.tzutc())\r\n",
    "                    # .astimezone(tz.tzlocal())\r\n",
    "                    .astimezone(tz.gettz(TIME_ZONE)))\r\n",
    "    return dt.strftime(format), dt\r\n",
    "\r\n",
    "_, newest_dt = ts2dt(newest_ts)\r\n",
    "print(f\"Recent query happens at {newest_dt.strftime(DATETIME_FORMAT)} ({newest_dt.tzname()}).\")"
   ]
  },
  {
   "cell_type": "code",
   "execution_count": 4,
   "metadata": {
    "execution": {
     "iopub.execute_input": "2021-10-10T17:14:37.823332Z",
     "iopub.status.busy": "2021-10-10T17:14:37.822225Z",
     "iopub.status.idle": "2021-10-10T17:14:37.823863Z",
     "shell.execute_reply": "2021-10-10T17:14:37.824226Z"
    }
   },
   "outputs": [],
   "source": [
    "def degrees_to_cardinal(d):\r\n",
    "  dirs = ['N', 'NNE', 'NE', 'ENE', 'E', 'ESE', 'SE', 'SSE', 'S', 'SSW', 'SW', 'WSW', 'W', 'WNW', 'NW', 'NNW']\r\n",
    "  ix = int(round(d / (360. / len(dirs))))\r\n",
    "  return dirs[ix % len(dirs)]"
   ]
  },
  {
   "cell_type": "code",
   "execution_count": 5,
   "metadata": {
    "execution": {
     "iopub.execute_input": "2021-10-10T17:14:37.828241Z",
     "iopub.status.busy": "2021-10-10T17:14:37.827151Z",
     "iopub.status.idle": "2021-10-10T17:14:37.828785Z",
     "shell.execute_reply": "2021-10-10T17:14:37.829161Z"
    }
   },
   "outputs": [],
   "source": [
    "# data.keys()"
   ]
  },
  {
   "cell_type": "code",
   "execution_count": 6,
   "metadata": {
    "execution": {
     "iopub.execute_input": "2021-10-10T17:14:37.832767Z",
     "iopub.status.busy": "2021-10-10T17:14:37.831734Z",
     "iopub.status.idle": "2021-10-10T17:14:37.833286Z",
     "shell.execute_reply": "2021-10-10T17:14:37.833645Z"
    }
   },
   "outputs": [],
   "source": [
    "# data['current']"
   ]
  },
  {
   "cell_type": "code",
   "execution_count": 7,
   "metadata": {
    "execution": {
     "iopub.execute_input": "2021-10-10T17:14:37.850476Z",
     "iopub.status.busy": "2021-10-10T17:14:37.849980Z",
     "iopub.status.idle": "2021-10-10T17:14:38.218367Z",
     "shell.execute_reply": "2021-10-10T17:14:38.218742Z"
    }
   },
   "outputs": [
    {
     "data": {
      "image/png": "[encoded data removed]",
      "text/plain": [
       "<Figure size 216x216 with 1 Axes>"
      ]
     },
     "metadata": {
      "needs_background": "light"
     },
     "output_type": "display_data"
    },
    {
     "name": "stdout",
     "output_type": "stream",
     "text": [
      "Today, sun rises at 06:17 and sets at 18:01.\n",
      "Currently, the weather is Rain (light rain).\n",
      "The temperature is 26.46°C and it feels like 26.46°C.\n",
      "The UV index is 0, humidity is 89%.\n",
      "The pressure is 1007 hPa, percentage of cloud cover is 100%\n",
      "The wind comes from NW direction with a speed 2.44 m/s.\n"
     ]
    }
   ],
   "source": [
    "current = data['current']\r\n",
    "\r\n",
    "fig, ax = plt.subplots(figsize=(3, 3))\r\n",
    "icon = requests.get(f\"http://openweathermap.org/img/wn/{current['weather'][0]['icon']}@2x.png\")\r\n",
    "im = Image.open(BytesIO(icon.content))\r\n",
    "plt.imshow(im)\r\n",
    "ax.set_axis_off()\r\n",
    "plt.show()\r\n",
    "\r\n",
    "print(f\"Today, sun rises at {ts2dt(current['sunrise'], '%H:%M')[0]} \\\r\n",
    "and sets at {ts2dt(current['sunset'], '%H:%M')[0]}.\\n\\\r\n",
    "Currently, the weather is {current['weather'][0]['main']} ({current['weather'][0]['description']}).\\n\\\r\n",
    "The temperature is {current['temp']}°C and it feels like {current['feels_like']}°C.\\n\\\r\n",
    "The UV index is {current['uvi']}, humidity is {current['humidity']}%.\\n\\\r\n",
    "The pressure is {current['pressure']} hPa, percentage of cloud cover is {current['clouds']}%\\n\\\r\n",
    "The wind comes from {degrees_to_cardinal(current['wind_deg'])} direction with a speed {current['wind_speed']} m/s.\")"
   ]
  },
  {
   "cell_type": "code",
   "execution_count": 8,
   "metadata": {
    "execution": {
     "iopub.execute_input": "2021-10-10T17:14:38.223743Z",
     "iopub.status.busy": "2021-10-10T17:14:38.223283Z",
     "iopub.status.idle": "2021-10-10T17:14:38.226670Z",
     "shell.execute_reply": "2021-10-10T17:14:38.227106Z"
    }
   },
   "outputs": [],
   "source": [
    "df_hourly = pd.DataFrame(data['hourly'])\r\n",
    "df_daily = pd.DataFrame(data['daily'])"
   ]
  },
  {
   "cell_type": "code",
   "execution_count": 9,
   "metadata": {
    "execution": {
     "iopub.execute_input": "2021-10-10T17:14:38.229367Z",
     "iopub.status.busy": "2021-10-10T17:14:38.228915Z",
     "iopub.status.idle": "2021-10-10T17:14:38.467542Z",
     "shell.execute_reply": "2021-10-10T17:14:38.466632Z"
    }
   },
   "outputs": [
    {
     "data": {
      "image/png": "[encoded data removed]",
      "text/plain": [
       "<Figure size 864x432 with 1 Axes>"
      ]
     },
     "metadata": {
      "needs_background": "light"
     },
     "output_type": "display_data"
    }
   ],
   "source": [
    "fig, ax = plt.subplots(figsize=(12, 6))\r\n",
    "plt.plot(df_hourly.temp, '.-', label='Temperature')\r\n",
    "plt.plot(df_hourly.feels_like, '.-', label='Feels Like')\r\n",
    "ax.set(title='Temperature in future 48 hours', xlabel='Time', ylabel='Temperature')\r\n",
    "ax.set_xticks(list(range(0, len(df_hourly), 2)))\r\n",
    "ax.set_xticklabels([ts2dt(ts, '%m-%d %H:%M')[0] for i, ts in enumerate(df_hourly.dt) if i%2==0], \r\n",
    "                   rotation=45, ha=\"right\")\r\n",
    "ax.locator_params(nbins=15, axis='y')\r\n",
    "plt.legend()\r\n",
    "plt.show()"
   ]
  },
  {
   "cell_type": "code",
   "execution_count": 10,
   "metadata": {
    "execution": {
     "iopub.execute_input": "2021-10-10T17:14:38.472400Z",
     "iopub.status.busy": "2021-10-10T17:14:38.469773Z",
     "iopub.status.idle": "2021-10-10T17:14:38.491175Z",
     "shell.execute_reply": "2021-10-10T17:14:38.491530Z"
    }
   },
   "outputs": [
    {
     "data": {
      "text/html": [
       "<div>\n",
       "<style scoped>\n",
       "    .dataframe tbody tr th:only-of-type {\n",
       "        vertical-align: middle;\n",
       "    }\n",
       "\n",
       "    .dataframe tbody tr th {\n",
       "        vertical-align: top;\n",
       "    }\n",
       "\n",
       "    .dataframe thead th {\n",
       "        text-align: right;\n",
       "    }\n",
       "</style>\n",
       "<table border=\"1\" class=\"dataframe\">\n",
       "  <thead>\n",
       "    <tr style=\"text-align: right;\">\n",
       "      <th></th>\n",
       "      <th>dt</th>\n",
       "      <th>temp</th>\n",
       "      <th>feels_like</th>\n",
       "      <th>pressure</th>\n",
       "      <th>humidity</th>\n",
       "      <th>dew_point</th>\n",
       "      <th>uvi</th>\n",
       "      <th>clouds</th>\n",
       "      <th>visibility</th>\n",
       "      <th>wind_speed</th>\n",
       "      <th>wind_deg</th>\n",
       "      <th>wind_gust</th>\n",
       "      <th>weather</th>\n",
       "      <th>pop</th>\n",
       "      <th>rain</th>\n",
       "    </tr>\n",
       "  </thead>\n",
       "  <tbody>\n",
       "    <tr>\n",
       "      <th>0</th>\n",
       "      <td>1633885200</td>\n",
       "      <td>26.46</td>\n",
       "      <td>26.46</td>\n",
       "      <td>1007</td>\n",
       "      <td>89</td>\n",
       "      <td>24.50</td>\n",
       "      <td>0.0</td>\n",
       "      <td>100</td>\n",
       "      <td>10000</td>\n",
       "      <td>2.44</td>\n",
       "      <td>321</td>\n",
       "      <td>2.69</td>\n",
       "      <td>[{'id': 804, 'main': 'Clouds', 'description': ...</td>\n",
       "      <td>0.25</td>\n",
       "      <td>NaN</td>\n",
       "    </tr>\n",
       "    <tr>\n",
       "      <th>1</th>\n",
       "      <td>1633888800</td>\n",
       "      <td>26.47</td>\n",
       "      <td>26.47</td>\n",
       "      <td>1007</td>\n",
       "      <td>87</td>\n",
       "      <td>24.13</td>\n",
       "      <td>0.0</td>\n",
       "      <td>100</td>\n",
       "      <td>10000</td>\n",
       "      <td>2.60</td>\n",
       "      <td>336</td>\n",
       "      <td>2.93</td>\n",
       "      <td>[{'id': 500, 'main': 'Rain', 'description': 'l...</td>\n",
       "      <td>0.35</td>\n",
       "      <td>{'1h': 0.32}</td>\n",
       "    </tr>\n",
       "    <tr>\n",
       "      <th>2</th>\n",
       "      <td>1633892400</td>\n",
       "      <td>26.45</td>\n",
       "      <td>26.45</td>\n",
       "      <td>1007</td>\n",
       "      <td>85</td>\n",
       "      <td>23.72</td>\n",
       "      <td>0.0</td>\n",
       "      <td>99</td>\n",
       "      <td>10000</td>\n",
       "      <td>2.79</td>\n",
       "      <td>333</td>\n",
       "      <td>3.85</td>\n",
       "      <td>[{'id': 804, 'main': 'Clouds', 'description': ...</td>\n",
       "      <td>0.26</td>\n",
       "      <td>NaN</td>\n",
       "    </tr>\n",
       "    <tr>\n",
       "      <th>3</th>\n",
       "      <td>1633896000</td>\n",
       "      <td>26.47</td>\n",
       "      <td>26.47</td>\n",
       "      <td>1007</td>\n",
       "      <td>84</td>\n",
       "      <td>23.55</td>\n",
       "      <td>0.0</td>\n",
       "      <td>96</td>\n",
       "      <td>10000</td>\n",
       "      <td>3.33</td>\n",
       "      <td>346</td>\n",
       "      <td>7.10</td>\n",
       "      <td>[{'id': 804, 'main': 'Clouds', 'description': ...</td>\n",
       "      <td>0.19</td>\n",
       "      <td>NaN</td>\n",
       "    </tr>\n",
       "    <tr>\n",
       "      <th>4</th>\n",
       "      <td>1633899600</td>\n",
       "      <td>26.43</td>\n",
       "      <td>26.43</td>\n",
       "      <td>1006</td>\n",
       "      <td>81</td>\n",
       "      <td>22.90</td>\n",
       "      <td>0.0</td>\n",
       "      <td>94</td>\n",
       "      <td>10000</td>\n",
       "      <td>4.49</td>\n",
       "      <td>355</td>\n",
       "      <td>8.34</td>\n",
       "      <td>[{'id': 804, 'main': 'Clouds', 'description': ...</td>\n",
       "      <td>0.10</td>\n",
       "      <td>NaN</td>\n",
       "    </tr>\n",
       "  </tbody>\n",
       "</table>\n",
       "</div>"
      ],
      "text/plain": [
       "           dt   temp  feels_like  pressure  humidity  dew_point  uvi  clouds  \\\n",
       "0  1633885200  26.46       26.46      1007        89      24.50  0.0     100   \n",
       "1  1633888800  26.47       26.47      1007        87      24.13  0.0     100   \n",
       "2  1633892400  26.45       26.45      1007        85      23.72  0.0      99   \n",
       "3  1633896000  26.47       26.47      1007        84      23.55  0.0      96   \n",
       "4  1633899600  26.43       26.43      1006        81      22.90  0.0      94   \n",
       "\n",
       "   visibility  wind_speed  wind_deg  wind_gust  \\\n",
       "0       10000        2.44       321       2.69   \n",
       "1       10000        2.60       336       2.93   \n",
       "2       10000        2.79       333       3.85   \n",
       "3       10000        3.33       346       7.10   \n",
       "4       10000        4.49       355       8.34   \n",
       "\n",
       "                                             weather   pop          rain  \n",
       "0  [{'id': 804, 'main': 'Clouds', 'description': ...  0.25           NaN  \n",
       "1  [{'id': 500, 'main': 'Rain', 'description': 'l...  0.35  {'1h': 0.32}  \n",
       "2  [{'id': 804, 'main': 'Clouds', 'description': ...  0.26           NaN  \n",
       "3  [{'id': 804, 'main': 'Clouds', 'description': ...  0.19           NaN  \n",
       "4  [{'id': 804, 'main': 'Clouds', 'description': ...  0.10           NaN  "
      ]
     },
     "execution_count": 10,
     "metadata": {},
     "output_type": "execute_result"
    }
   ],
   "source": [
    "df_hourly.head()"
   ]
  },
  {
   "cell_type": "code",
   "execution_count": null,
   "metadata": {},
   "outputs": [],
   "source": []
  }
 ],
 "metadata": {
  "interpreter": {
   "hash": "c1b4cfe941b6d2466ad1fb5979e97da9cda8801728c8091b097ab734208fc00c"
  },
  "kernelspec": {
   "display_name": "Python 3.8.3 64-bit ('base': conda)",
   "name": "python3"
  },
  "language_info": {
   "codemirror_mode": {
    "name": "ipython",
    "version": 3
   },
   "file_extension": ".py",
   "mimetype": "text/x-python",
   "name": "python",
   "nbconvert_exporter": "python",
   "pygments_lexer": "ipython3",
   "version": "3.8.12"
  }
 },
 "nbformat": 4,
 "nbformat_minor": 2
}
