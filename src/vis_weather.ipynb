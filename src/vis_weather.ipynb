{
 "cells": [
  {
   "cell_type": "code",
   "execution_count": 1,
   "metadata": {
    "execution": {
     "iopub.execute_input": "2021-10-13T20:12:13.686471Z",
     "iopub.status.busy": "2021-10-13T20:12:13.685748Z",
     "iopub.status.idle": "2021-10-13T20:12:15.263848Z",
     "shell.execute_reply": "2021-10-13T20:12:15.263191Z"
    }
   },
   "outputs": [],
   "source": [
    "import json, yaml, requests\r\n",
    "from datetime import datetime\r\n",
    "from dateutil import tz\r\n",
    "import pandas as pd\r\n",
    "from PIL import Image\r\n",
    "from io import BytesIO\r\n",
    "import matplotlib.pyplot as plt\r\n",
    "import seaborn\r\n",
    "\r\n",
    "CONFIG_PATH = \"../config/config.yaml\""
   ]
  },
  {
   "cell_type": "code",
   "execution_count": 2,
   "metadata": {
    "execution": {
     "iopub.execute_input": "2021-10-13T20:12:15.270934Z",
     "iopub.status.busy": "2021-10-13T20:12:15.269429Z",
     "iopub.status.idle": "2021-10-13T20:12:15.276667Z",
     "shell.execute_reply": "2021-10-13T20:12:15.276140Z"
    }
   },
   "outputs": [],
   "source": [
    "with open('../newest_ts', 'r') as f:\r\n",
    "    newest_ts = f.read()\r\n",
    "\r\n",
    "data_path = f\"../data/data_{newest_ts}.json\"\r\n",
    "with open(data_path, 'r') as f:\r\n",
    "    data = json.load(f)\r\n",
    "\r\n",
    "with open(CONFIG_PATH, \"r\") as stream:\r\n",
    "    config = yaml.safe_load(stream)\r\n",
    "\r\n",
    "TIME_ZONE = config['time_zone']\r\n",
    "DATETIME_FORMAT = config['dt_format']"
   ]
  },
  {
   "cell_type": "code",
   "execution_count": 3,
   "metadata": {
    "execution": {
     "iopub.execute_input": "2021-10-13T20:12:15.281741Z",
     "iopub.status.busy": "2021-10-13T20:12:15.281196Z",
     "iopub.status.idle": "2021-10-13T20:12:15.313627Z",
     "shell.execute_reply": "2021-10-13T20:12:15.312656Z"
    }
   },
   "outputs": [
    {
     "name": "stdout",
     "output_type": "stream",
     "text": [
      "Recent query happens at 2021-10-14 04:12:10 (CST).\n"
     ]
    }
   ],
   "source": [
    "def ts2dt(ts, format=DATETIME_FORMAT):\r\n",
    "    dt = (datetime.utcfromtimestamp(int(ts))\r\n",
    "                    .replace(tzinfo=tz.tzutc())\r\n",
    "                    # .astimezone(tz.tzlocal())\r\n",
    "                    .astimezone(tz.gettz(TIME_ZONE)))\r\n",
    "    return dt.strftime(format), dt\r\n",
    "\r\n",
    "_, newest_dt = ts2dt(newest_ts)\r\n",
    "print(f\"Recent query happens at {newest_dt.strftime(DATETIME_FORMAT)} ({newest_dt.tzname()}).\")"
   ]
  },
  {
   "cell_type": "code",
   "execution_count": 4,
   "metadata": {
    "execution": {
     "iopub.execute_input": "2021-10-13T20:12:15.319227Z",
     "iopub.status.busy": "2021-10-13T20:12:15.318437Z",
     "iopub.status.idle": "2021-10-13T20:12:15.321723Z",
     "shell.execute_reply": "2021-10-13T20:12:15.321184Z"
    }
   },
   "outputs": [],
   "source": [
    "def degrees_to_cardinal(d):\r\n",
    "  dirs = ['N', 'NNE', 'NE', 'ENE', 'E', 'ESE', 'SE', 'SSE', 'S', 'SSW', 'SW', 'WSW', 'W', 'WNW', 'NW', 'NNW']\r\n",
    "  ix = int(round(d / (360. / len(dirs))))\r\n",
    "  return dirs[ix % len(dirs)]"
   ]
  },
  {
   "cell_type": "code",
   "execution_count": 5,
   "metadata": {
    "execution": {
     "iopub.execute_input": "2021-10-13T20:12:15.326143Z",
     "iopub.status.busy": "2021-10-13T20:12:15.325554Z",
     "iopub.status.idle": "2021-10-13T20:12:15.330010Z",
     "shell.execute_reply": "2021-10-13T20:12:15.329495Z"
    }
   },
   "outputs": [],
   "source": [
    "# data.keys()"
   ]
  },
  {
   "cell_type": "code",
   "execution_count": 6,
   "metadata": {
    "execution": {
     "iopub.execute_input": "2021-10-13T20:12:15.333934Z",
     "iopub.status.busy": "2021-10-13T20:12:15.333320Z",
     "iopub.status.idle": "2021-10-13T20:12:15.335957Z",
     "shell.execute_reply": "2021-10-13T20:12:15.335447Z"
    }
   },
   "outputs": [],
   "source": [
    "# data['current']"
   ]
  },
  {
   "cell_type": "code",
   "execution_count": 7,
   "metadata": {
    "execution": {
     "iopub.execute_input": "2021-10-13T20:12:15.370842Z",
     "iopub.status.busy": "2021-10-13T20:12:15.366188Z",
     "iopub.status.idle": "2021-10-13T20:12:15.784959Z",
     "shell.execute_reply": "2021-10-13T20:12:15.785728Z"
    }
   },
   "outputs": [
    {
     "data": {
      "image/png": "[encoded data removed]",
      "text/plain": [
       "<Figure size 216x216 with 1 Axes>"
      ]
     },
     "metadata": {
      "needs_background": "light"
     },
     "output_type": "display_data"
    },
    {
     "name": "stdout",
     "output_type": "stream",
     "text": [
      "Today, sun rises at 06:18 and sets at 17:59.\n",
      "Currently, the weather is Clouds (scattered clouds).\n",
      "The temperature is 26.91°C and it feels like 30.68°C.\n",
      "The UV index is 0, humidity is 92%.\n",
      "The pressure is 1006 hPa, percentage of cloud cover is 44%\n",
      "The wind comes from NE direction with a speed 0.89 m/s.\n"
     ]
    }
   ],
   "source": [
    "current = data['current']\r\n",
    "\r\n",
    "fig, ax = plt.subplots(figsize=(3, 3))\r\n",
    "icon = requests.get(f\"http://openweathermap.org/img/wn/{current['weather'][0]['icon']}@2x.png\")\r\n",
    "im = Image.open(BytesIO(icon.content))\r\n",
    "plt.imshow(im)\r\n",
    "ax.set_axis_off()\r\n",
    "plt.show()\r\n",
    "\r\n",
    "print(f\"Today, sun rises at {ts2dt(current['sunrise'], '%H:%M')[0]} \\\r\n",
    "and sets at {ts2dt(current['sunset'], '%H:%M')[0]}.\\n\\\r\n",
    "Currently, the weather is {current['weather'][0]['main']} ({current['weather'][0]['description']}).\\n\\\r\n",
    "The temperature is {current['temp']}°C and it feels like {current['feels_like']}°C.\\n\\\r\n",
    "The UV index is {current['uvi']}, humidity is {current['humidity']}%.\\n\\\r\n",
    "The pressure is {current['pressure']} hPa, percentage of cloud cover is {current['clouds']}%\\n\\\r\n",
    "The wind comes from {degrees_to_cardinal(current['wind_deg'])} direction with a speed {current['wind_speed']} m/s.\")"
   ]
  },
  {
   "cell_type": "code",
   "execution_count": 8,
   "metadata": {
    "execution": {
     "iopub.execute_input": "2021-10-13T20:12:15.789894Z",
     "iopub.status.busy": "2021-10-13T20:12:15.788658Z",
     "iopub.status.idle": "2021-10-13T20:12:15.803135Z",
     "shell.execute_reply": "2021-10-13T20:12:15.803920Z"
    }
   },
   "outputs": [],
   "source": [
    "df_hourly = pd.DataFrame(data['hourly'])\r\n",
    "df_daily = pd.DataFrame(data['daily'])"
   ]
  },
  {
   "cell_type": "code",
   "execution_count": 9,
   "metadata": {
    "execution": {
     "iopub.execute_input": "2021-10-13T20:12:15.807874Z",
     "iopub.status.busy": "2021-10-13T20:12:15.806585Z",
     "iopub.status.idle": "2021-10-13T20:12:16.168529Z",
     "shell.execute_reply": "2021-10-13T20:12:16.167465Z"
    }
   },
   "outputs": [
    {
     "data": {
      "image/png": "[encoded data removed]",
      "text/plain": [
       "<Figure size 864x432 with 1 Axes>"
      ]
     },
     "metadata": {
      "needs_background": "light"
     },
     "output_type": "display_data"
    }
   ],
   "source": [
    "fig, ax = plt.subplots(figsize=(12, 6))\r\n",
    "plt.plot(df_hourly.temp, '.-', label='Temperature')\r\n",
    "plt.plot(df_hourly.feels_like, '.-', label='Feels Like')\r\n",
    "ax.set(title='Temperature in future 48 hours', xlabel='Time', ylabel='Temperature')\r\n",
    "ax.set_xticks(list(range(0, len(df_hourly), 2)))\r\n",
    "ax.set_xticklabels([ts2dt(ts, '%m-%d %H:%M')[0] for i, ts in enumerate(df_hourly.dt) if i%2==0], \r\n",
    "                   rotation=45, ha=\"right\")\r\n",
    "ax.locator_params(nbins=15, axis='y')\r\n",
    "plt.legend()\r\n",
    "plt.show()"
   ]
  },
  {
   "cell_type": "code",
   "execution_count": 10,
   "metadata": {
    "execution": {
     "iopub.execute_input": "2021-10-13T20:12:16.180410Z",
     "iopub.status.busy": "2021-10-13T20:12:16.173335Z",
     "iopub.status.idle": "2021-10-13T20:12:16.197229Z",
     "shell.execute_reply": "2021-10-13T20:12:16.197729Z"
    }
   },
   "outputs": [
    {
     "data": {
      "text/html": [
       "<div>\n",
       "<style scoped>\n",
       "    .dataframe tbody tr th:only-of-type {\n",
       "        vertical-align: middle;\n",
       "    }\n",
       "\n",
       "    .dataframe tbody tr th {\n",
       "        vertical-align: top;\n",
       "    }\n",
       "\n",
       "    .dataframe thead th {\n",
       "        text-align: right;\n",
       "    }\n",
       "</style>\n",
       "<table border=\"1\" class=\"dataframe\">\n",
       "  <thead>\n",
       "    <tr style=\"text-align: right;\">\n",
       "      <th></th>\n",
       "      <th>dt</th>\n",
       "      <th>temp</th>\n",
       "      <th>feels_like</th>\n",
       "      <th>pressure</th>\n",
       "      <th>humidity</th>\n",
       "      <th>dew_point</th>\n",
       "      <th>uvi</th>\n",
       "      <th>clouds</th>\n",
       "      <th>visibility</th>\n",
       "      <th>wind_speed</th>\n",
       "      <th>wind_deg</th>\n",
       "      <th>wind_gust</th>\n",
       "      <th>weather</th>\n",
       "      <th>pop</th>\n",
       "      <th>rain</th>\n",
       "    </tr>\n",
       "  </thead>\n",
       "  <tbody>\n",
       "    <tr>\n",
       "      <th>0</th>\n",
       "      <td>1634155200</td>\n",
       "      <td>26.91</td>\n",
       "      <td>30.68</td>\n",
       "      <td>1006</td>\n",
       "      <td>92</td>\n",
       "      <td>25.50</td>\n",
       "      <td>0.00</td>\n",
       "      <td>44</td>\n",
       "      <td>10000</td>\n",
       "      <td>5.54</td>\n",
       "      <td>74</td>\n",
       "      <td>8.59</td>\n",
       "      <td>[{'id': 500, 'main': 'Rain', 'description': 'l...</td>\n",
       "      <td>0.69</td>\n",
       "      <td>{'1h': 0.18}</td>\n",
       "    </tr>\n",
       "    <tr>\n",
       "      <th>1</th>\n",
       "      <td>1634158800</td>\n",
       "      <td>26.63</td>\n",
       "      <td>26.63</td>\n",
       "      <td>1007</td>\n",
       "      <td>90</td>\n",
       "      <td>24.85</td>\n",
       "      <td>0.00</td>\n",
       "      <td>44</td>\n",
       "      <td>10000</td>\n",
       "      <td>5.42</td>\n",
       "      <td>67</td>\n",
       "      <td>8.23</td>\n",
       "      <td>[{'id': 802, 'main': 'Clouds', 'description': ...</td>\n",
       "      <td>0.62</td>\n",
       "      <td>NaN</td>\n",
       "    </tr>\n",
       "    <tr>\n",
       "      <th>2</th>\n",
       "      <td>1634162400</td>\n",
       "      <td>26.24</td>\n",
       "      <td>26.24</td>\n",
       "      <td>1007</td>\n",
       "      <td>90</td>\n",
       "      <td>24.47</td>\n",
       "      <td>0.00</td>\n",
       "      <td>50</td>\n",
       "      <td>10000</td>\n",
       "      <td>5.20</td>\n",
       "      <td>58</td>\n",
       "      <td>7.35</td>\n",
       "      <td>[{'id': 802, 'main': 'Clouds', 'description': ...</td>\n",
       "      <td>0.62</td>\n",
       "      <td>NaN</td>\n",
       "    </tr>\n",
       "    <tr>\n",
       "      <th>3</th>\n",
       "      <td>1634166000</td>\n",
       "      <td>25.81</td>\n",
       "      <td>26.77</td>\n",
       "      <td>1008</td>\n",
       "      <td>89</td>\n",
       "      <td>23.86</td>\n",
       "      <td>0.00</td>\n",
       "      <td>57</td>\n",
       "      <td>10000</td>\n",
       "      <td>4.81</td>\n",
       "      <td>51</td>\n",
       "      <td>7.01</td>\n",
       "      <td>[{'id': 803, 'main': 'Clouds', 'description': ...</td>\n",
       "      <td>0.62</td>\n",
       "      <td>NaN</td>\n",
       "    </tr>\n",
       "    <tr>\n",
       "      <th>4</th>\n",
       "      <td>1634169600</td>\n",
       "      <td>25.81</td>\n",
       "      <td>26.72</td>\n",
       "      <td>1010</td>\n",
       "      <td>87</td>\n",
       "      <td>23.48</td>\n",
       "      <td>0.81</td>\n",
       "      <td>66</td>\n",
       "      <td>10000</td>\n",
       "      <td>4.95</td>\n",
       "      <td>49</td>\n",
       "      <td>7.37</td>\n",
       "      <td>[{'id': 803, 'main': 'Clouds', 'description': ...</td>\n",
       "      <td>0.62</td>\n",
       "      <td>NaN</td>\n",
       "    </tr>\n",
       "  </tbody>\n",
       "</table>\n",
       "</div>"
      ],
      "text/plain": [
       "           dt   temp  feels_like  pressure  humidity  dew_point   uvi  clouds  \\\n",
       "0  1634155200  26.91       30.68      1006        92      25.50  0.00      44   \n",
       "1  1634158800  26.63       26.63      1007        90      24.85  0.00      44   \n",
       "2  1634162400  26.24       26.24      1007        90      24.47  0.00      50   \n",
       "3  1634166000  25.81       26.77      1008        89      23.86  0.00      57   \n",
       "4  1634169600  25.81       26.72      1010        87      23.48  0.81      66   \n",
       "\n",
       "   visibility  wind_speed  wind_deg  wind_gust  \\\n",
       "0       10000        5.54        74       8.59   \n",
       "1       10000        5.42        67       8.23   \n",
       "2       10000        5.20        58       7.35   \n",
       "3       10000        4.81        51       7.01   \n",
       "4       10000        4.95        49       7.37   \n",
       "\n",
       "                                             weather   pop          rain  \n",
       "0  [{'id': 500, 'main': 'Rain', 'description': 'l...  0.69  {'1h': 0.18}  \n",
       "1  [{'id': 802, 'main': 'Clouds', 'description': ...  0.62           NaN  \n",
       "2  [{'id': 802, 'main': 'Clouds', 'description': ...  0.62           NaN  \n",
       "3  [{'id': 803, 'main': 'Clouds', 'description': ...  0.62           NaN  \n",
       "4  [{'id': 803, 'main': 'Clouds', 'description': ...  0.62           NaN  "
      ]
     },
     "execution_count": 10,
     "metadata": {},
     "output_type": "execute_result"
    }
   ],
   "source": [
    "df_hourly.head()"
   ]
  },
  {
   "cell_type": "code",
   "execution_count": null,
   "metadata": {},
   "outputs": [],
   "source": []
  }
 ],
 "metadata": {
  "interpreter": {
   "hash": "c1b4cfe941b6d2466ad1fb5979e97da9cda8801728c8091b097ab734208fc00c"
  },
  "kernelspec": {
   "display_name": "Python 3.8.3 64-bit ('base': conda)",
   "name": "python3"
  },
  "language_info": {
   "codemirror_mode": {
    "name": "ipython",
    "version": 3
   },
   "file_extension": ".py",
   "mimetype": "text/x-python",
   "name": "python",
   "nbconvert_exporter": "python",
   "pygments_lexer": "ipython3",
   "version": "3.8.12"
  }
 },
 "nbformat": 4,
 "nbformat_minor": 2
}
