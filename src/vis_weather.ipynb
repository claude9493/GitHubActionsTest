{
 "cells": [
  {
   "cell_type": "code",
   "execution_count": 1,
   "metadata": {
    "execution": {
     "iopub.execute_input": "2021-09-21T02:25:46.066772Z",
     "iopub.status.busy": "2021-09-21T02:25:46.066226Z",
     "iopub.status.idle": "2021-09-21T02:25:48.617464Z",
     "shell.execute_reply": "2021-09-21T02:25:48.616731Z"
    }
   },
   "outputs": [],
   "source": [
    "import json, yaml, requests\r\n",
    "from datetime import datetime\r\n",
    "from dateutil import tz\r\n",
    "import pandas as pd\r\n",
    "from PIL import Image\r\n",
    "from io import BytesIO\r\n",
    "import matplotlib.pyplot as plt\r\n",
    "import seaborn\r\n",
    "\r\n",
    "CONFIG_PATH = \"../config/config.yaml\""
   ]
  },
  {
   "cell_type": "code",
   "execution_count": 2,
   "metadata": {
    "execution": {
     "iopub.execute_input": "2021-09-21T02:25:48.624780Z",
     "iopub.status.busy": "2021-09-21T02:25:48.621997Z",
     "iopub.status.idle": "2021-09-21T02:25:48.627288Z",
     "shell.execute_reply": "2021-09-21T02:25:48.626892Z"
    }
   },
   "outputs": [],
   "source": [
    "with open('../newest_ts', 'r') as f:\r\n",
    "    newest_ts = f.read()\r\n",
    "\r\n",
    "data_path = f\"../data/data_{newest_ts}.json\"\r\n",
    "with open(data_path, 'r') as f:\r\n",
    "    data = json.load(f)\r\n",
    "\r\n",
    "with open(CONFIG_PATH, \"r\") as stream:\r\n",
    "    config = yaml.safe_load(stream)\r\n",
    "\r\n",
    "TIME_ZONE = config['time_zone']\r\n",
    "DATETIME_FORMAT = config['dt_format']"
   ]
  },
  {
   "cell_type": "code",
   "execution_count": 3,
   "metadata": {
    "execution": {
     "iopub.execute_input": "2021-09-21T02:25:48.631499Z",
     "iopub.status.busy": "2021-09-21T02:25:48.631041Z",
     "iopub.status.idle": "2021-09-21T02:25:48.635672Z",
     "shell.execute_reply": "2021-09-21T02:25:48.636027Z"
    }
   },
   "outputs": [
    {
     "name": "stdout",
     "output_type": "stream",
     "text": [
      "Recent query happens at 2021-09-21 10:25:43 (CST).\n"
     ]
    }
   ],
   "source": [
    "def ts2dt(ts, format=DATETIME_FORMAT):\r\n",
    "    dt = (datetime.utcfromtimestamp(int(ts))\r\n",
    "                    .replace(tzinfo=tz.tzutc())\r\n",
    "                    # .astimezone(tz.tzlocal())\r\n",
    "                    .astimezone(tz.gettz(TIME_ZONE)))\r\n",
    "    return dt.strftime(format), dt\r\n",
    "\r\n",
    "_, newest_dt = ts2dt(newest_ts)\r\n",
    "print(f\"Recent query happens at {newest_dt.strftime(DATETIME_FORMAT)} ({newest_dt.tzname()}).\")"
   ]
  },
  {
   "cell_type": "code",
   "execution_count": 4,
   "metadata": {
    "execution": {
     "iopub.execute_input": "2021-09-21T02:25:48.640952Z",
     "iopub.status.busy": "2021-09-21T02:25:48.639832Z",
     "iopub.status.idle": "2021-09-21T02:25:48.641473Z",
     "shell.execute_reply": "2021-09-21T02:25:48.641846Z"
    }
   },
   "outputs": [],
   "source": [
    "def degrees_to_cardinal(d):\r\n",
    "  dirs = ['N', 'NNE', 'NE', 'ENE', 'E', 'ESE', 'SE', 'SSE', 'S', 'SSW', 'SW', 'WSW', 'W', 'WNW', 'NW', 'NNW']\r\n",
    "  ix = int(round(d / (360. / len(dirs))))\r\n",
    "  return dirs[ix % len(dirs)]"
   ]
  },
  {
   "cell_type": "code",
   "execution_count": 5,
   "metadata": {
    "execution": {
     "iopub.execute_input": "2021-09-21T02:25:48.645644Z",
     "iopub.status.busy": "2021-09-21T02:25:48.644605Z",
     "iopub.status.idle": "2021-09-21T02:25:48.646234Z",
     "shell.execute_reply": "2021-09-21T02:25:48.646601Z"
    }
   },
   "outputs": [],
   "source": [
    "# data.keys()"
   ]
  },
  {
   "cell_type": "code",
   "execution_count": 6,
   "metadata": {
    "execution": {
     "iopub.execute_input": "2021-09-21T02:25:48.650277Z",
     "iopub.status.busy": "2021-09-21T02:25:48.649177Z",
     "iopub.status.idle": "2021-09-21T02:25:48.650816Z",
     "shell.execute_reply": "2021-09-21T02:25:48.651183Z"
    }
   },
   "outputs": [],
   "source": [
    "# data['current']"
   ]
  },
  {
   "cell_type": "code",
   "execution_count": 7,
   "metadata": {
    "execution": {
     "iopub.execute_input": "2021-09-21T02:25:48.668648Z",
     "iopub.status.busy": "2021-09-21T02:25:48.656591Z",
     "iopub.status.idle": "2021-09-21T02:25:49.054020Z",
     "shell.execute_reply": "2021-09-21T02:25:49.054703Z"
    }
   },
   "outputs": [
    {
     "data": {
      "image/png": "[encoded data removed]",
      "text/plain": [
       "<Figure size 216x216 with 1 Axes>"
      ]
     },
     "metadata": {
      "needs_background": "light"
     },
     "output_type": "display_data"
    },
    {
     "name": "stdout",
     "output_type": "stream",
     "text": [
      "Today, sun rises at 06:11 and sets at 18:20.\n",
      "Currently, the weather is Clouds (broken clouds).\n",
      "The temperature is 30.75°C and it feels like 36.94°C.\n",
      "The UV index is 6.06, humidity is 70%.\n",
      "The pressure is 1011 hPa, percentage of cloud cover is 65%\n",
      "The wind comes from E direction with a speed 0.49 m/s.\n"
     ]
    }
   ],
   "source": [
    "current = data['current']\r\n",
    "\r\n",
    "fig, ax = plt.subplots(figsize=(3, 3))\r\n",
    "icon = requests.get(f\"http://openweathermap.org/img/wn/{current['weather'][0]['icon']}@2x.png\")\r\n",
    "im = Image.open(BytesIO(icon.content))\r\n",
    "plt.imshow(im)\r\n",
    "ax.set_axis_off()\r\n",
    "plt.show()\r\n",
    "\r\n",
    "print(f\"Today, sun rises at {ts2dt(current['sunrise'], '%H:%M')[0]} \\\r\n",
    "and sets at {ts2dt(current['sunset'], '%H:%M')[0]}.\\n\\\r\n",
    "Currently, the weather is {current['weather'][0]['main']} ({current['weather'][0]['description']}).\\n\\\r\n",
    "The temperature is {current['temp']}°C and it feels like {current['feels_like']}°C.\\n\\\r\n",
    "The UV index is {current['uvi']}, humidity is {current['humidity']}%.\\n\\\r\n",
    "The pressure is {current['pressure']} hPa, percentage of cloud cover is {current['clouds']}%\\n\\\r\n",
    "The wind comes from {degrees_to_cardinal(current['wind_deg'])} direction with a speed {current['wind_speed']} m/s.\")"
   ]
  },
  {
   "cell_type": "code",
   "execution_count": 8,
   "metadata": {
    "execution": {
     "iopub.execute_input": "2021-09-21T02:25:49.057708Z",
     "iopub.status.busy": "2021-09-21T02:25:49.057251Z",
     "iopub.status.idle": "2021-09-21T02:25:49.063738Z",
     "shell.execute_reply": "2021-09-21T02:25:49.064376Z"
    }
   },
   "outputs": [],
   "source": [
    "df_hourly = pd.DataFrame(data['hourly'])\r\n",
    "df_daily = pd.DataFrame(data['daily'])"
   ]
  },
  {
   "cell_type": "code",
   "execution_count": 9,
   "metadata": {
    "execution": {
     "iopub.execute_input": "2021-09-21T02:25:49.067663Z",
     "iopub.status.busy": "2021-09-21T02:25:49.066621Z",
     "iopub.status.idle": "2021-09-21T02:25:49.308845Z",
     "shell.execute_reply": "2021-09-21T02:25:49.308381Z"
    }
   },
   "outputs": [
    {
     "data": {
      "image/png": "[encoded data removed]",
      "text/plain": [
       "<Figure size 864x432 with 1 Axes>"
      ]
     },
     "metadata": {
      "needs_background": "light"
     },
     "output_type": "display_data"
    }
   ],
   "source": [
    "fig, ax = plt.subplots(figsize=(12, 6))\r\n",
    "plt.plot(df_hourly.temp, '.-', label='Temperature')\r\n",
    "plt.plot(df_hourly.feels_like, '.-', label='Feels Like')\r\n",
    "ax.set(title='Temperature in future 48 hours', xlabel='Time', ylabel='Temperature')\r\n",
    "ax.set_xticks(list(range(0, len(df_hourly), 2)))\r\n",
    "ax.set_xticklabels([ts2dt(ts, '%m-%d %H:%M')[0] for i, ts in enumerate(df_hourly.dt) if i%2==0], \r\n",
    "                   rotation=45, ha=\"right\")\r\n",
    "ax.locator_params(nbins=15, axis='y')\r\n",
    "plt.legend()\r\n",
    "plt.show()"
   ]
  },
  {
   "cell_type": "code",
   "execution_count": 10,
   "metadata": {
    "execution": {
     "iopub.execute_input": "2021-09-21T02:25:49.313108Z",
     "iopub.status.busy": "2021-09-21T02:25:49.312657Z",
     "iopub.status.idle": "2021-09-21T02:25:49.329128Z",
     "shell.execute_reply": "2021-09-21T02:25:49.328736Z"
    }
   },
   "outputs": [
    {
     "data": {
      "text/html": [
       "<div>\n",
       "<style scoped>\n",
       "    .dataframe tbody tr th:only-of-type {\n",
       "        vertical-align: middle;\n",
       "    }\n",
       "\n",
       "    .dataframe tbody tr th {\n",
       "        vertical-align: top;\n",
       "    }\n",
       "\n",
       "    .dataframe thead th {\n",
       "        text-align: right;\n",
       "    }\n",
       "</style>\n",
       "<table border=\"1\" class=\"dataframe\">\n",
       "  <thead>\n",
       "    <tr style=\"text-align: right;\">\n",
       "      <th></th>\n",
       "      <th>dt</th>\n",
       "      <th>temp</th>\n",
       "      <th>feels_like</th>\n",
       "      <th>pressure</th>\n",
       "      <th>humidity</th>\n",
       "      <th>dew_point</th>\n",
       "      <th>uvi</th>\n",
       "      <th>clouds</th>\n",
       "      <th>visibility</th>\n",
       "      <th>wind_speed</th>\n",
       "      <th>wind_deg</th>\n",
       "      <th>wind_gust</th>\n",
       "      <th>weather</th>\n",
       "      <th>pop</th>\n",
       "      <th>rain</th>\n",
       "    </tr>\n",
       "  </thead>\n",
       "  <tbody>\n",
       "    <tr>\n",
       "      <th>0</th>\n",
       "      <td>1632189600</td>\n",
       "      <td>30.75</td>\n",
       "      <td>36.94</td>\n",
       "      <td>1011</td>\n",
       "      <td>70</td>\n",
       "      <td>24.64</td>\n",
       "      <td>6.06</td>\n",
       "      <td>65</td>\n",
       "      <td>10000</td>\n",
       "      <td>0.49</td>\n",
       "      <td>90</td>\n",
       "      <td>0.66</td>\n",
       "      <td>[{'id': 803, 'main': 'Clouds', 'description': ...</td>\n",
       "      <td>0.50</td>\n",
       "      <td>NaN</td>\n",
       "    </tr>\n",
       "    <tr>\n",
       "      <th>1</th>\n",
       "      <td>1632193200</td>\n",
       "      <td>30.69</td>\n",
       "      <td>36.50</td>\n",
       "      <td>1011</td>\n",
       "      <td>69</td>\n",
       "      <td>24.35</td>\n",
       "      <td>8.74</td>\n",
       "      <td>63</td>\n",
       "      <td>10000</td>\n",
       "      <td>0.83</td>\n",
       "      <td>119</td>\n",
       "      <td>0.78</td>\n",
       "      <td>[{'id': 803, 'main': 'Clouds', 'description': ...</td>\n",
       "      <td>0.44</td>\n",
       "      <td>NaN</td>\n",
       "    </tr>\n",
       "    <tr>\n",
       "      <th>2</th>\n",
       "      <td>1632196800</td>\n",
       "      <td>30.80</td>\n",
       "      <td>36.50</td>\n",
       "      <td>1011</td>\n",
       "      <td>68</td>\n",
       "      <td>24.21</td>\n",
       "      <td>10.23</td>\n",
       "      <td>58</td>\n",
       "      <td>10000</td>\n",
       "      <td>1.67</td>\n",
       "      <td>136</td>\n",
       "      <td>1.41</td>\n",
       "      <td>[{'id': 803, 'main': 'Clouds', 'description': ...</td>\n",
       "      <td>0.37</td>\n",
       "      <td>NaN</td>\n",
       "    </tr>\n",
       "    <tr>\n",
       "      <th>3</th>\n",
       "      <td>1632200400</td>\n",
       "      <td>30.89</td>\n",
       "      <td>36.17</td>\n",
       "      <td>1010</td>\n",
       "      <td>66</td>\n",
       "      <td>23.80</td>\n",
       "      <td>10.06</td>\n",
       "      <td>57</td>\n",
       "      <td>10000</td>\n",
       "      <td>1.91</td>\n",
       "      <td>147</td>\n",
       "      <td>1.47</td>\n",
       "      <td>[{'id': 803, 'main': 'Clouds', 'description': ...</td>\n",
       "      <td>0.33</td>\n",
       "      <td>NaN</td>\n",
       "    </tr>\n",
       "    <tr>\n",
       "      <th>4</th>\n",
       "      <td>1632204000</td>\n",
       "      <td>30.95</td>\n",
       "      <td>35.77</td>\n",
       "      <td>1009</td>\n",
       "      <td>64</td>\n",
       "      <td>23.34</td>\n",
       "      <td>8.23</td>\n",
       "      <td>59</td>\n",
       "      <td>10000</td>\n",
       "      <td>2.06</td>\n",
       "      <td>162</td>\n",
       "      <td>1.76</td>\n",
       "      <td>[{'id': 803, 'main': 'Clouds', 'description': ...</td>\n",
       "      <td>0.34</td>\n",
       "      <td>NaN</td>\n",
       "    </tr>\n",
       "  </tbody>\n",
       "</table>\n",
       "</div>"
      ],
      "text/plain": [
       "           dt   temp  feels_like  pressure  humidity  dew_point    uvi  \\\n",
       "0  1632189600  30.75       36.94      1011        70      24.64   6.06   \n",
       "1  1632193200  30.69       36.50      1011        69      24.35   8.74   \n",
       "2  1632196800  30.80       36.50      1011        68      24.21  10.23   \n",
       "3  1632200400  30.89       36.17      1010        66      23.80  10.06   \n",
       "4  1632204000  30.95       35.77      1009        64      23.34   8.23   \n",
       "\n",
       "   clouds  visibility  wind_speed  wind_deg  wind_gust  \\\n",
       "0      65       10000        0.49        90       0.66   \n",
       "1      63       10000        0.83       119       0.78   \n",
       "2      58       10000        1.67       136       1.41   \n",
       "3      57       10000        1.91       147       1.47   \n",
       "4      59       10000        2.06       162       1.76   \n",
       "\n",
       "                                             weather   pop rain  \n",
       "0  [{'id': 803, 'main': 'Clouds', 'description': ...  0.50  NaN  \n",
       "1  [{'id': 803, 'main': 'Clouds', 'description': ...  0.44  NaN  \n",
       "2  [{'id': 803, 'main': 'Clouds', 'description': ...  0.37  NaN  \n",
       "3  [{'id': 803, 'main': 'Clouds', 'description': ...  0.33  NaN  \n",
       "4  [{'id': 803, 'main': 'Clouds', 'description': ...  0.34  NaN  "
      ]
     },
     "execution_count": 10,
     "metadata": {},
     "output_type": "execute_result"
    }
   ],
   "source": [
    "df_hourly.head()"
   ]
  },
  {
   "cell_type": "code",
   "execution_count": null,
   "metadata": {},
   "outputs": [],
   "source": []
  }
 ],
 "metadata": {
  "interpreter": {
   "hash": "c1b4cfe941b6d2466ad1fb5979e97da9cda8801728c8091b097ab734208fc00c"
  },
  "kernelspec": {
   "display_name": "Python 3.8.3 64-bit ('base': conda)",
   "name": "python3"
  },
  "language_info": {
   "codemirror_mode": {
    "name": "ipython",
    "version": 3
   },
   "file_extension": ".py",
   "mimetype": "text/x-python",
   "name": "python",
   "nbconvert_exporter": "python",
   "pygments_lexer": "ipython3",
   "version": "3.8.11"
  }
 },
 "nbformat": 4,
 "nbformat_minor": 2
}
