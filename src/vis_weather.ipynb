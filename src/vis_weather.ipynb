{
 "cells": [
  {
   "cell_type": "code",
   "execution_count": 1,
   "metadata": {
    "execution": {
     "iopub.execute_input": "2021-10-06T19:09:42.302974Z",
     "iopub.status.busy": "2021-10-06T19:09:42.302353Z",
     "iopub.status.idle": "2021-10-06T19:09:44.069816Z",
     "shell.execute_reply": "2021-10-06T19:09:44.069185Z"
    }
   },
   "outputs": [],
   "source": [
    "import json, yaml, requests\r\n",
    "from datetime import datetime\r\n",
    "from dateutil import tz\r\n",
    "import pandas as pd\r\n",
    "from PIL import Image\r\n",
    "from io import BytesIO\r\n",
    "import matplotlib.pyplot as plt\r\n",
    "import seaborn\r\n",
    "\r\n",
    "CONFIG_PATH = \"../config/config.yaml\""
   ]
  },
  {
   "cell_type": "code",
   "execution_count": 2,
   "metadata": {
    "execution": {
     "iopub.execute_input": "2021-10-06T19:09:44.077589Z",
     "iopub.status.busy": "2021-10-06T19:09:44.074570Z",
     "iopub.status.idle": "2021-10-06T19:09:44.080257Z",
     "shell.execute_reply": "2021-10-06T19:09:44.079797Z"
    }
   },
   "outputs": [],
   "source": [
    "with open('../newest_ts', 'r') as f:\r\n",
    "    newest_ts = f.read()\r\n",
    "\r\n",
    "data_path = f\"../data/data_{newest_ts}.json\"\r\n",
    "with open(data_path, 'r') as f:\r\n",
    "    data = json.load(f)\r\n",
    "\r\n",
    "with open(CONFIG_PATH, \"r\") as stream:\r\n",
    "    config = yaml.safe_load(stream)\r\n",
    "\r\n",
    "TIME_ZONE = config['time_zone']\r\n",
    "DATETIME_FORMAT = config['dt_format']"
   ]
  },
  {
   "cell_type": "code",
   "execution_count": 3,
   "metadata": {
    "execution": {
     "iopub.execute_input": "2021-10-06T19:09:44.085284Z",
     "iopub.status.busy": "2021-10-06T19:09:44.084807Z",
     "iopub.status.idle": "2021-10-06T19:09:44.108961Z",
     "shell.execute_reply": "2021-10-06T19:09:44.108553Z"
    }
   },
   "outputs": [
    {
     "name": "stdout",
     "output_type": "stream",
     "text": [
      "Recent query happens at 2021-10-07 03:09:39 (CST).\n"
     ]
    }
   ],
   "source": [
    "def ts2dt(ts, format=DATETIME_FORMAT):\r\n",
    "    dt = (datetime.utcfromtimestamp(int(ts))\r\n",
    "                    .replace(tzinfo=tz.tzutc())\r\n",
    "                    # .astimezone(tz.tzlocal())\r\n",
    "                    .astimezone(tz.gettz(TIME_ZONE)))\r\n",
    "    return dt.strftime(format), dt\r\n",
    "\r\n",
    "_, newest_dt = ts2dt(newest_ts)\r\n",
    "print(f\"Recent query happens at {newest_dt.strftime(DATETIME_FORMAT)} ({newest_dt.tzname()}).\")"
   ]
  },
  {
   "cell_type": "code",
   "execution_count": 4,
   "metadata": {
    "execution": {
     "iopub.execute_input": "2021-10-06T19:09:44.113567Z",
     "iopub.status.busy": "2021-10-06T19:09:44.113102Z",
     "iopub.status.idle": "2021-10-06T19:09:44.115284Z",
     "shell.execute_reply": "2021-10-06T19:09:44.114888Z"
    }
   },
   "outputs": [],
   "source": [
    "def degrees_to_cardinal(d):\r\n",
    "  dirs = ['N', 'NNE', 'NE', 'ENE', 'E', 'ESE', 'SE', 'SSE', 'S', 'SSW', 'SW', 'WSW', 'W', 'WNW', 'NW', 'NNW']\r\n",
    "  ix = int(round(d / (360. / len(dirs))))\r\n",
    "  return dirs[ix % len(dirs)]"
   ]
  },
  {
   "cell_type": "code",
   "execution_count": 5,
   "metadata": {
    "execution": {
     "iopub.execute_input": "2021-10-06T19:09:44.119438Z",
     "iopub.status.busy": "2021-10-06T19:09:44.118401Z",
     "iopub.status.idle": "2021-10-06T19:09:44.119965Z",
     "shell.execute_reply": "2021-10-06T19:09:44.120335Z"
    }
   },
   "outputs": [],
   "source": [
    "# data.keys()"
   ]
  },
  {
   "cell_type": "code",
   "execution_count": 6,
   "metadata": {
    "execution": {
     "iopub.execute_input": "2021-10-06T19:09:44.124239Z",
     "iopub.status.busy": "2021-10-06T19:09:44.123053Z",
     "iopub.status.idle": "2021-10-06T19:09:44.124765Z",
     "shell.execute_reply": "2021-10-06T19:09:44.125132Z"
    }
   },
   "outputs": [],
   "source": [
    "# data['current']"
   ]
  },
  {
   "cell_type": "code",
   "execution_count": 7,
   "metadata": {
    "execution": {
     "iopub.execute_input": "2021-10-06T19:09:44.142687Z",
     "iopub.status.busy": "2021-10-06T19:09:44.142159Z",
     "iopub.status.idle": "2021-10-06T19:09:44.524109Z",
     "shell.execute_reply": "2021-10-06T19:09:44.524790Z"
    }
   },
   "outputs": [
    {
     "data": {
      "image/png": "[encoded data removed]",
      "text/plain": [
       "<Figure size 216x216 with 1 Axes>"
      ]
     },
     "metadata": {
      "needs_background": "light"
     },
     "output_type": "display_data"
    },
    {
     "name": "stdout",
     "output_type": "stream",
     "text": [
      "Today, sun rises at 06:16 and sets at 18:05.\n",
      "Currently, the weather is Clear (clear sky).\n",
      "The temperature is 28.73°C and it feels like 34°C.\n",
      "The UV index is 0, humidity is 80%.\n",
      "The pressure is 1005 hPa, percentage of cloud cover is 4%\n",
      "The wind comes from SW direction with a speed 0.89 m/s.\n"
     ]
    }
   ],
   "source": [
    "current = data['current']\r\n",
    "\r\n",
    "fig, ax = plt.subplots(figsize=(3, 3))\r\n",
    "icon = requests.get(f\"http://openweathermap.org/img/wn/{current['weather'][0]['icon']}@2x.png\")\r\n",
    "im = Image.open(BytesIO(icon.content))\r\n",
    "plt.imshow(im)\r\n",
    "ax.set_axis_off()\r\n",
    "plt.show()\r\n",
    "\r\n",
    "print(f\"Today, sun rises at {ts2dt(current['sunrise'], '%H:%M')[0]} \\\r\n",
    "and sets at {ts2dt(current['sunset'], '%H:%M')[0]}.\\n\\\r\n",
    "Currently, the weather is {current['weather'][0]['main']} ({current['weather'][0]['description']}).\\n\\\r\n",
    "The temperature is {current['temp']}°C and it feels like {current['feels_like']}°C.\\n\\\r\n",
    "The UV index is {current['uvi']}, humidity is {current['humidity']}%.\\n\\\r\n",
    "The pressure is {current['pressure']} hPa, percentage of cloud cover is {current['clouds']}%\\n\\\r\n",
    "The wind comes from {degrees_to_cardinal(current['wind_deg'])} direction with a speed {current['wind_speed']} m/s.\")"
   ]
  },
  {
   "cell_type": "code",
   "execution_count": 8,
   "metadata": {
    "execution": {
     "iopub.execute_input": "2021-10-06T19:09:44.528222Z",
     "iopub.status.busy": "2021-10-06T19:09:44.527481Z",
     "iopub.status.idle": "2021-10-06T19:09:44.534683Z",
     "shell.execute_reply": "2021-10-06T19:09:44.535352Z"
    }
   },
   "outputs": [],
   "source": [
    "df_hourly = pd.DataFrame(data['hourly'])\r\n",
    "df_daily = pd.DataFrame(data['daily'])"
   ]
  },
  {
   "cell_type": "code",
   "execution_count": 9,
   "metadata": {
    "execution": {
     "iopub.execute_input": "2021-10-06T19:09:44.538679Z",
     "iopub.status.busy": "2021-10-06T19:09:44.537714Z",
     "iopub.status.idle": "2021-10-06T19:09:44.784718Z",
     "shell.execute_reply": "2021-10-06T19:09:44.785086Z"
    }
   },
   "outputs": [
    {
     "data": {
      "image/png": "[encoded data removed]",
      "text/plain": [
       "<Figure size 864x432 with 1 Axes>"
      ]
     },
     "metadata": {
      "needs_background": "light"
     },
     "output_type": "display_data"
    }
   ],
   "source": [
    "fig, ax = plt.subplots(figsize=(12, 6))\r\n",
    "plt.plot(df_hourly.temp, '.-', label='Temperature')\r\n",
    "plt.plot(df_hourly.feels_like, '.-', label='Feels Like')\r\n",
    "ax.set(title='Temperature in future 48 hours', xlabel='Time', ylabel='Temperature')\r\n",
    "ax.set_xticks(list(range(0, len(df_hourly), 2)))\r\n",
    "ax.set_xticklabels([ts2dt(ts, '%m-%d %H:%M')[0] for i, ts in enumerate(df_hourly.dt) if i%2==0], \r\n",
    "                   rotation=45, ha=\"right\")\r\n",
    "ax.locator_params(nbins=15, axis='y')\r\n",
    "plt.legend()\r\n",
    "plt.show()"
   ]
  },
  {
   "cell_type": "code",
   "execution_count": 10,
   "metadata": {
    "execution": {
     "iopub.execute_input": "2021-10-06T19:09:44.797097Z",
     "iopub.status.busy": "2021-10-06T19:09:44.789362Z",
     "iopub.status.idle": "2021-10-06T19:09:44.808957Z",
     "shell.execute_reply": "2021-10-06T19:09:44.808508Z"
    }
   },
   "outputs": [
    {
     "data": {
      "text/html": [
       "<div>\n",
       "<style scoped>\n",
       "    .dataframe tbody tr th:only-of-type {\n",
       "        vertical-align: middle;\n",
       "    }\n",
       "\n",
       "    .dataframe tbody tr th {\n",
       "        vertical-align: top;\n",
       "    }\n",
       "\n",
       "    .dataframe thead th {\n",
       "        text-align: right;\n",
       "    }\n",
       "</style>\n",
       "<table border=\"1\" class=\"dataframe\">\n",
       "  <thead>\n",
       "    <tr style=\"text-align: right;\">\n",
       "      <th></th>\n",
       "      <th>dt</th>\n",
       "      <th>temp</th>\n",
       "      <th>feels_like</th>\n",
       "      <th>pressure</th>\n",
       "      <th>humidity</th>\n",
       "      <th>dew_point</th>\n",
       "      <th>uvi</th>\n",
       "      <th>clouds</th>\n",
       "      <th>visibility</th>\n",
       "      <th>wind_speed</th>\n",
       "      <th>wind_deg</th>\n",
       "      <th>wind_gust</th>\n",
       "      <th>weather</th>\n",
       "      <th>pop</th>\n",
       "      <th>rain</th>\n",
       "    </tr>\n",
       "  </thead>\n",
       "  <tbody>\n",
       "    <tr>\n",
       "      <th>0</th>\n",
       "      <td>1633546800</td>\n",
       "      <td>28.73</td>\n",
       "      <td>34.00</td>\n",
       "      <td>1005</td>\n",
       "      <td>80</td>\n",
       "      <td>24.93</td>\n",
       "      <td>0.00</td>\n",
       "      <td>4</td>\n",
       "      <td>10000</td>\n",
       "      <td>8.51</td>\n",
       "      <td>77</td>\n",
       "      <td>11.76</td>\n",
       "      <td>[{'id': 500, 'main': 'Rain', 'description': 'l...</td>\n",
       "      <td>0.67</td>\n",
       "      <td>{'1h': 0.76}</td>\n",
       "    </tr>\n",
       "    <tr>\n",
       "      <th>1</th>\n",
       "      <td>1633550400</td>\n",
       "      <td>28.44</td>\n",
       "      <td>33.41</td>\n",
       "      <td>1005</td>\n",
       "      <td>81</td>\n",
       "      <td>24.86</td>\n",
       "      <td>0.00</td>\n",
       "      <td>4</td>\n",
       "      <td>10000</td>\n",
       "      <td>9.39</td>\n",
       "      <td>76</td>\n",
       "      <td>12.53</td>\n",
       "      <td>[{'id': 500, 'main': 'Rain', 'description': 'l...</td>\n",
       "      <td>0.69</td>\n",
       "      <td>{'1h': 0.18}</td>\n",
       "    </tr>\n",
       "    <tr>\n",
       "      <th>2</th>\n",
       "      <td>1633554000</td>\n",
       "      <td>28.15</td>\n",
       "      <td>32.81</td>\n",
       "      <td>1006</td>\n",
       "      <td>82</td>\n",
       "      <td>24.78</td>\n",
       "      <td>0.00</td>\n",
       "      <td>4</td>\n",
       "      <td>10000</td>\n",
       "      <td>9.67</td>\n",
       "      <td>73</td>\n",
       "      <td>13.32</td>\n",
       "      <td>[{'id': 500, 'main': 'Rain', 'description': 'l...</td>\n",
       "      <td>0.77</td>\n",
       "      <td>{'1h': 0.13}</td>\n",
       "    </tr>\n",
       "    <tr>\n",
       "      <th>3</th>\n",
       "      <td>1633557600</td>\n",
       "      <td>27.82</td>\n",
       "      <td>32.09</td>\n",
       "      <td>1006</td>\n",
       "      <td>83</td>\n",
       "      <td>24.66</td>\n",
       "      <td>0.00</td>\n",
       "      <td>5</td>\n",
       "      <td>10000</td>\n",
       "      <td>9.47</td>\n",
       "      <td>68</td>\n",
       "      <td>13.42</td>\n",
       "      <td>[{'id': 500, 'main': 'Rain', 'description': 'l...</td>\n",
       "      <td>0.81</td>\n",
       "      <td>{'1h': 0.17}</td>\n",
       "    </tr>\n",
       "    <tr>\n",
       "      <th>4</th>\n",
       "      <td>1633561200</td>\n",
       "      <td>27.59</td>\n",
       "      <td>31.36</td>\n",
       "      <td>1007</td>\n",
       "      <td>82</td>\n",
       "      <td>24.24</td>\n",
       "      <td>0.13</td>\n",
       "      <td>5</td>\n",
       "      <td>10000</td>\n",
       "      <td>9.02</td>\n",
       "      <td>64</td>\n",
       "      <td>13.20</td>\n",
       "      <td>[{'id': 800, 'main': 'Clear', 'description': '...</td>\n",
       "      <td>0.81</td>\n",
       "      <td>NaN</td>\n",
       "    </tr>\n",
       "  </tbody>\n",
       "</table>\n",
       "</div>"
      ],
      "text/plain": [
       "           dt   temp  feels_like  pressure  humidity  dew_point   uvi  clouds  \\\n",
       "0  1633546800  28.73       34.00      1005        80      24.93  0.00       4   \n",
       "1  1633550400  28.44       33.41      1005        81      24.86  0.00       4   \n",
       "2  1633554000  28.15       32.81      1006        82      24.78  0.00       4   \n",
       "3  1633557600  27.82       32.09      1006        83      24.66  0.00       5   \n",
       "4  1633561200  27.59       31.36      1007        82      24.24  0.13       5   \n",
       "\n",
       "   visibility  wind_speed  wind_deg  wind_gust  \\\n",
       "0       10000        8.51        77      11.76   \n",
       "1       10000        9.39        76      12.53   \n",
       "2       10000        9.67        73      13.32   \n",
       "3       10000        9.47        68      13.42   \n",
       "4       10000        9.02        64      13.20   \n",
       "\n",
       "                                             weather   pop          rain  \n",
       "0  [{'id': 500, 'main': 'Rain', 'description': 'l...  0.67  {'1h': 0.76}  \n",
       "1  [{'id': 500, 'main': 'Rain', 'description': 'l...  0.69  {'1h': 0.18}  \n",
       "2  [{'id': 500, 'main': 'Rain', 'description': 'l...  0.77  {'1h': 0.13}  \n",
       "3  [{'id': 500, 'main': 'Rain', 'description': 'l...  0.81  {'1h': 0.17}  \n",
       "4  [{'id': 800, 'main': 'Clear', 'description': '...  0.81           NaN  "
      ]
     },
     "execution_count": 10,
     "metadata": {},
     "output_type": "execute_result"
    }
   ],
   "source": [
    "df_hourly.head()"
   ]
  },
  {
   "cell_type": "code",
   "execution_count": null,
   "metadata": {},
   "outputs": [],
   "source": []
  }
 ],
 "metadata": {
  "interpreter": {
   "hash": "c1b4cfe941b6d2466ad1fb5979e97da9cda8801728c8091b097ab734208fc00c"
  },
  "kernelspec": {
   "display_name": "Python 3.8.3 64-bit ('base': conda)",
   "name": "python3"
  },
  "language_info": {
   "codemirror_mode": {
    "name": "ipython",
    "version": 3
   },
   "file_extension": ".py",
   "mimetype": "text/x-python",
   "name": "python",
   "nbconvert_exporter": "python",
   "pygments_lexer": "ipython3",
   "version": "3.8.12"
  }
 },
 "nbformat": 4,
 "nbformat_minor": 2
}
