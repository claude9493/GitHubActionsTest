{
 "cells": [
  {
   "cell_type": "code",
   "execution_count": 1,
   "metadata": {
    "execution": {
     "iopub.execute_input": "2021-08-30T10:41:02.308226Z",
     "iopub.status.busy": "2021-08-30T10:41:02.307578Z",
     "iopub.status.idle": "2021-08-30T10:41:05.146309Z",
     "shell.execute_reply": "2021-08-30T10:41:05.146763Z"
    }
   },
   "outputs": [],
   "source": [
    "import json, yaml, requests\r\n",
    "from datetime import datetime\r\n",
    "from dateutil import tz\r\n",
    "import pandas as pd\r\n",
    "from PIL import Image\r\n",
    "from io import BytesIO\r\n",
    "import matplotlib.pyplot as plt\r\n",
    "import seaborn\r\n",
    "\r\n",
    "CONFIG_PATH = \"../config/config.yaml\""
   ]
  },
  {
   "cell_type": "code",
   "execution_count": 2,
   "metadata": {
    "execution": {
     "iopub.execute_input": "2021-08-30T10:41:05.154424Z",
     "iopub.status.busy": "2021-08-30T10:41:05.151563Z",
     "iopub.status.idle": "2021-08-30T10:41:05.157576Z",
     "shell.execute_reply": "2021-08-30T10:41:05.157116Z"
    }
   },
   "outputs": [],
   "source": [
    "with open('../newest_ts', 'r') as f:\r\n",
    "    newest_ts = f.read()\r\n",
    "\r\n",
    "data_path = f\"../data/data_{newest_ts}.json\"\r\n",
    "with open(data_path, 'r') as f:\r\n",
    "    data = json.load(f)\r\n",
    "\r\n",
    "with open(CONFIG_PATH, \"r\") as stream:\r\n",
    "    config = yaml.safe_load(stream)\r\n",
    "\r\n",
    "TIME_ZONE = config['time_zone']\r\n",
    "DATETIME_FORMAT = config['dt_format']"
   ]
  },
  {
   "cell_type": "code",
   "execution_count": 3,
   "metadata": {
    "execution": {
     "iopub.execute_input": "2021-08-30T10:41:05.162706Z",
     "iopub.status.busy": "2021-08-30T10:41:05.161789Z",
     "iopub.status.idle": "2021-08-30T10:41:05.168521Z",
     "shell.execute_reply": "2021-08-30T10:41:05.167952Z"
    }
   },
   "outputs": [
    {
     "name": "stdout",
     "output_type": "stream",
     "text": [
      "Recent query happens at 2021-08-30 18:40:59 (CST).\n"
     ]
    }
   ],
   "source": [
    "def ts2dt(ts, format=DATETIME_FORMAT):\r\n",
    "    dt = (datetime.utcfromtimestamp(int(ts))\r\n",
    "                    .replace(tzinfo=tz.tzutc())\r\n",
    "                    # .astimezone(tz.tzlocal())\r\n",
    "                    .astimezone(tz.gettz(TIME_ZONE)))\r\n",
    "    return dt.strftime(format), dt\r\n",
    "\r\n",
    "_, newest_dt = ts2dt(newest_ts)\r\n",
    "print(f\"Recent query happens at {newest_dt.strftime(DATETIME_FORMAT)} ({newest_dt.tzname()}).\")"
   ]
  },
  {
   "cell_type": "code",
   "execution_count": 4,
   "metadata": {
    "execution": {
     "iopub.execute_input": "2021-08-30T10:41:05.173212Z",
     "iopub.status.busy": "2021-08-30T10:41:05.172680Z",
     "iopub.status.idle": "2021-08-30T10:41:05.176481Z",
     "shell.execute_reply": "2021-08-30T10:41:05.175928Z"
    }
   },
   "outputs": [],
   "source": [
    "def degrees_to_cardinal(d):\r\n",
    "  dirs = ['N', 'NNE', 'NE', 'ENE', 'E', 'ESE', 'SE', 'SSE', 'S', 'SSW', 'SW', 'WSW', 'W', 'WNW', 'NW', 'NNW']\r\n",
    "  ix = int(round(d / (360. / len(dirs))))\r\n",
    "  return dirs[ix % len(dirs)]"
   ]
  },
  {
   "cell_type": "code",
   "execution_count": 5,
   "metadata": {
    "execution": {
     "iopub.execute_input": "2021-08-30T10:41:05.181458Z",
     "iopub.status.busy": "2021-08-30T10:41:05.180007Z",
     "iopub.status.idle": "2021-08-30T10:41:05.182019Z",
     "shell.execute_reply": "2021-08-30T10:41:05.182443Z"
    }
   },
   "outputs": [],
   "source": [
    "# data.keys()"
   ]
  },
  {
   "cell_type": "code",
   "execution_count": 6,
   "metadata": {
    "execution": {
     "iopub.execute_input": "2021-08-30T10:41:05.186807Z",
     "iopub.status.busy": "2021-08-30T10:41:05.185432Z",
     "iopub.status.idle": "2021-08-30T10:41:05.187460Z",
     "shell.execute_reply": "2021-08-30T10:41:05.187886Z"
    }
   },
   "outputs": [],
   "source": [
    "# data['current']"
   ]
  },
  {
   "cell_type": "code",
   "execution_count": 7,
   "metadata": {
    "execution": {
     "iopub.execute_input": "2021-08-30T10:41:05.207117Z",
     "iopub.status.busy": "2021-08-30T10:41:05.206514Z",
     "iopub.status.idle": "2021-08-30T10:41:05.643715Z",
     "shell.execute_reply": "2021-08-30T10:41:05.644516Z"
    }
   },
   "outputs": [
    {
     "data": {
      "image/png": "[encoded data removed]",
      "text/plain": [
       "<Figure size 216x216 with 1 Axes>"
      ]
     },
     "metadata": {
      "needs_background": "light"
     },
     "output_type": "display_data"
    },
    {
     "name": "stdout",
     "output_type": "stream",
     "text": [
      "Today, sun rises at 06:05 and sets at 18:42.\n",
      "Currently, the weather is Clouds (scattered clouds).\n",
      "The temperature is 29.82°C and it feels like 35.07°C.\n",
      "The UV index is 0, humidity is 72%.\n",
      "The pressure is 1010 hPa, percentage of cloud cover is 34%\n",
      "The wind comes from ESE direction with a speed 4.98 m/s.\n"
     ]
    }
   ],
   "source": [
    "current = data['current']\r\n",
    "\r\n",
    "fig, ax = plt.subplots(figsize=(3, 3))\r\n",
    "icon = requests.get(f\"http://openweathermap.org/img/wn/{current['weather'][0]['icon']}@2x.png\")\r\n",
    "im = Image.open(BytesIO(icon.content))\r\n",
    "plt.imshow(im)\r\n",
    "ax.set_axis_off()\r\n",
    "plt.show()\r\n",
    "\r\n",
    "print(f\"Today, sun rises at {ts2dt(current['sunrise'], '%H:%M')[0]} \\\r\n",
    "and sets at {ts2dt(current['sunset'], '%H:%M')[0]}.\\n\\\r\n",
    "Currently, the weather is {current['weather'][0]['main']} ({current['weather'][0]['description']}).\\n\\\r\n",
    "The temperature is {current['temp']}°C and it feels like {current['feels_like']}°C.\\n\\\r\n",
    "The UV index is {current['uvi']}, humidity is {current['humidity']}%.\\n\\\r\n",
    "The pressure is {current['pressure']} hPa, percentage of cloud cover is {current['clouds']}%\\n\\\r\n",
    "The wind comes from {degrees_to_cardinal(current['wind_deg'])} direction with a speed {current['wind_speed']} m/s.\")"
   ]
  },
  {
   "cell_type": "code",
   "execution_count": 8,
   "metadata": {
    "execution": {
     "iopub.execute_input": "2021-08-30T10:41:05.648098Z",
     "iopub.status.busy": "2021-08-30T10:41:05.646967Z",
     "iopub.status.idle": "2021-08-30T10:41:05.655292Z",
     "shell.execute_reply": "2021-08-30T10:41:05.655973Z"
    }
   },
   "outputs": [],
   "source": [
    "df_hourly = pd.DataFrame(data['hourly'])\r\n",
    "df_daily = pd.DataFrame(data['daily'])"
   ]
  },
  {
   "cell_type": "code",
   "execution_count": 9,
   "metadata": {
    "execution": {
     "iopub.execute_input": "2021-08-30T10:41:05.659122Z",
     "iopub.status.busy": "2021-08-30T10:41:05.658104Z",
     "iopub.status.idle": "2021-08-30T10:41:05.955688Z",
     "shell.execute_reply": "2021-08-30T10:41:05.954890Z"
    }
   },
   "outputs": [
    {
     "data": {
      "image/png": "[encoded data removed]",
      "text/plain": [
       "<Figure size 864x432 with 1 Axes>"
      ]
     },
     "metadata": {
      "needs_background": "light"
     },
     "output_type": "display_data"
    }
   ],
   "source": [
    "fig, ax = plt.subplots(figsize=(12, 6))\r\n",
    "plt.plot(df_hourly.temp, '.-', label='Temperature')\r\n",
    "plt.plot(df_hourly.feels_like, '.-', label='Feels Like')\r\n",
    "ax.set(title='Temperature in future 48 hours', xlabel='Time', ylabel='Temperature')\r\n",
    "ax.set_xticks(list(range(0, len(df_hourly), 2)))\r\n",
    "ax.set_xticklabels([ts2dt(ts, '%m-%d %H:%M')[0] for i, ts in enumerate(df_hourly.dt) if i%2==0], \r\n",
    "                   rotation=45, ha=\"right\")\r\n",
    "ax.locator_params(nbins=15, axis='y')\r\n",
    "plt.legend()\r\n",
    "plt.show()"
   ]
  },
  {
   "cell_type": "code",
   "execution_count": 10,
   "metadata": {
    "execution": {
     "iopub.execute_input": "2021-08-30T10:41:05.974459Z",
     "iopub.status.busy": "2021-08-30T10:41:05.967356Z",
     "iopub.status.idle": "2021-08-30T10:41:05.979321Z",
     "shell.execute_reply": "2021-08-30T10:41:05.978864Z"
    }
   },
   "outputs": [
    {
     "data": {
      "text/html": [
       "<div>\n",
       "<style scoped>\n",
       "    .dataframe tbody tr th:only-of-type {\n",
       "        vertical-align: middle;\n",
       "    }\n",
       "\n",
       "    .dataframe tbody tr th {\n",
       "        vertical-align: top;\n",
       "    }\n",
       "\n",
       "    .dataframe thead th {\n",
       "        text-align: right;\n",
       "    }\n",
       "</style>\n",
       "<table border=\"1\" class=\"dataframe\">\n",
       "  <thead>\n",
       "    <tr style=\"text-align: right;\">\n",
       "      <th></th>\n",
       "      <th>dt</th>\n",
       "      <th>temp</th>\n",
       "      <th>feels_like</th>\n",
       "      <th>pressure</th>\n",
       "      <th>humidity</th>\n",
       "      <th>dew_point</th>\n",
       "      <th>uvi</th>\n",
       "      <th>clouds</th>\n",
       "      <th>visibility</th>\n",
       "      <th>wind_speed</th>\n",
       "      <th>wind_deg</th>\n",
       "      <th>wind_gust</th>\n",
       "      <th>weather</th>\n",
       "      <th>pop</th>\n",
       "      <th>rain</th>\n",
       "    </tr>\n",
       "  </thead>\n",
       "  <tbody>\n",
       "    <tr>\n",
       "      <th>0</th>\n",
       "      <td>1630317600</td>\n",
       "      <td>29.65</td>\n",
       "      <td>34.88</td>\n",
       "      <td>1010</td>\n",
       "      <td>73</td>\n",
       "      <td>24.29</td>\n",
       "      <td>0.22</td>\n",
       "      <td>31</td>\n",
       "      <td>10000</td>\n",
       "      <td>4.60</td>\n",
       "      <td>107</td>\n",
       "      <td>7.01</td>\n",
       "      <td>[{'id': 802, 'main': 'Clouds', 'description': ...</td>\n",
       "      <td>0.13</td>\n",
       "      <td>NaN</td>\n",
       "    </tr>\n",
       "    <tr>\n",
       "      <th>1</th>\n",
       "      <td>1630321200</td>\n",
       "      <td>29.82</td>\n",
       "      <td>35.07</td>\n",
       "      <td>1010</td>\n",
       "      <td>72</td>\n",
       "      <td>24.22</td>\n",
       "      <td>0.00</td>\n",
       "      <td>34</td>\n",
       "      <td>10000</td>\n",
       "      <td>4.98</td>\n",
       "      <td>106</td>\n",
       "      <td>7.62</td>\n",
       "      <td>[{'id': 802, 'main': 'Clouds', 'description': ...</td>\n",
       "      <td>0.30</td>\n",
       "      <td>NaN</td>\n",
       "    </tr>\n",
       "    <tr>\n",
       "      <th>2</th>\n",
       "      <td>1630324800</td>\n",
       "      <td>29.51</td>\n",
       "      <td>34.76</td>\n",
       "      <td>1010</td>\n",
       "      <td>74</td>\n",
       "      <td>24.38</td>\n",
       "      <td>0.00</td>\n",
       "      <td>36</td>\n",
       "      <td>10000</td>\n",
       "      <td>5.35</td>\n",
       "      <td>107</td>\n",
       "      <td>8.52</td>\n",
       "      <td>[{'id': 802, 'main': 'Clouds', 'description': ...</td>\n",
       "      <td>0.39</td>\n",
       "      <td>NaN</td>\n",
       "    </tr>\n",
       "    <tr>\n",
       "      <th>3</th>\n",
       "      <td>1630328400</td>\n",
       "      <td>29.20</td>\n",
       "      <td>34.41</td>\n",
       "      <td>1010</td>\n",
       "      <td>76</td>\n",
       "      <td>24.53</td>\n",
       "      <td>0.00</td>\n",
       "      <td>60</td>\n",
       "      <td>10000</td>\n",
       "      <td>5.63</td>\n",
       "      <td>108</td>\n",
       "      <td>8.31</td>\n",
       "      <td>[{'id': 803, 'main': 'Clouds', 'description': ...</td>\n",
       "      <td>0.12</td>\n",
       "      <td>NaN</td>\n",
       "    </tr>\n",
       "    <tr>\n",
       "      <th>4</th>\n",
       "      <td>1630332000</td>\n",
       "      <td>28.84</td>\n",
       "      <td>33.89</td>\n",
       "      <td>1011</td>\n",
       "      <td>78</td>\n",
       "      <td>24.62</td>\n",
       "      <td>0.00</td>\n",
       "      <td>74</td>\n",
       "      <td>10000</td>\n",
       "      <td>4.77</td>\n",
       "      <td>110</td>\n",
       "      <td>7.04</td>\n",
       "      <td>[{'id': 803, 'main': 'Clouds', 'description': ...</td>\n",
       "      <td>0.12</td>\n",
       "      <td>NaN</td>\n",
       "    </tr>\n",
       "  </tbody>\n",
       "</table>\n",
       "</div>"
      ],
      "text/plain": [
       "           dt   temp  feels_like  pressure  humidity  dew_point   uvi  clouds  \\\n",
       "0  1630317600  29.65       34.88      1010        73      24.29  0.22      31   \n",
       "1  1630321200  29.82       35.07      1010        72      24.22  0.00      34   \n",
       "2  1630324800  29.51       34.76      1010        74      24.38  0.00      36   \n",
       "3  1630328400  29.20       34.41      1010        76      24.53  0.00      60   \n",
       "4  1630332000  28.84       33.89      1011        78      24.62  0.00      74   \n",
       "\n",
       "   visibility  wind_speed  wind_deg  wind_gust  \\\n",
       "0       10000        4.60       107       7.01   \n",
       "1       10000        4.98       106       7.62   \n",
       "2       10000        5.35       107       8.52   \n",
       "3       10000        5.63       108       8.31   \n",
       "4       10000        4.77       110       7.04   \n",
       "\n",
       "                                             weather   pop rain  \n",
       "0  [{'id': 802, 'main': 'Clouds', 'description': ...  0.13  NaN  \n",
       "1  [{'id': 802, 'main': 'Clouds', 'description': ...  0.30  NaN  \n",
       "2  [{'id': 802, 'main': 'Clouds', 'description': ...  0.39  NaN  \n",
       "3  [{'id': 803, 'main': 'Clouds', 'description': ...  0.12  NaN  \n",
       "4  [{'id': 803, 'main': 'Clouds', 'description': ...  0.12  NaN  "
      ]
     },
     "execution_count": 10,
     "metadata": {},
     "output_type": "execute_result"
    }
   ],
   "source": [
    "df_hourly.head()"
   ]
  },
  {
   "cell_type": "code",
   "execution_count": null,
   "metadata": {},
   "outputs": [],
   "source": []
  }
 ],
 "metadata": {
  "interpreter": {
   "hash": "c1b4cfe941b6d2466ad1fb5979e97da9cda8801728c8091b097ab734208fc00c"
  },
  "kernelspec": {
   "display_name": "Python 3.8.3 64-bit ('base': conda)",
   "name": "python3"
  },
  "language_info": {
   "codemirror_mode": {
    "name": "ipython",
    "version": 3
   },
   "file_extension": ".py",
   "mimetype": "text/x-python",
   "name": "python",
   "nbconvert_exporter": "python",
   "pygments_lexer": "ipython3",
   "version": "3.8.11"
  }
 },
 "nbformat": 4,
 "nbformat_minor": 2
}
