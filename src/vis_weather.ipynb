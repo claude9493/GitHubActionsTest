{
 "cells": [
  {
   "cell_type": "code",
   "execution_count": 1,
   "metadata": {
    "execution": {
     "iopub.execute_input": "2021-08-26T20:16:18.143439Z",
     "iopub.status.busy": "2021-08-26T20:16:18.142754Z",
     "iopub.status.idle": "2021-08-26T20:16:19.592517Z",
     "shell.execute_reply": "2021-08-26T20:16:19.591953Z"
    }
   },
   "outputs": [],
   "source": [
    "import json, yaml, requests\r\n",
    "from datetime import datetime\r\n",
    "from dateutil import tz\r\n",
    "import pandas as pd\r\n",
    "from PIL import Image\r\n",
    "from io import BytesIO\r\n",
    "import matplotlib.pyplot as plt\r\n",
    "import seaborn\r\n",
    "\r\n",
    "CONFIG_PATH = \"../config/config.yaml\""
   ]
  },
  {
   "cell_type": "code",
   "execution_count": 2,
   "metadata": {
    "execution": {
     "iopub.execute_input": "2021-08-26T20:16:19.598395Z",
     "iopub.status.busy": "2021-08-26T20:16:19.597189Z",
     "iopub.status.idle": "2021-08-26T20:16:19.603449Z",
     "shell.execute_reply": "2021-08-26T20:16:19.602600Z"
    }
   },
   "outputs": [],
   "source": [
    "with open('../newest_ts', 'r') as f:\r\n",
    "    newest_ts = f.read()\r\n",
    "\r\n",
    "data_path = f\"../data/data_{newest_ts}.json\"\r\n",
    "with open(data_path, 'r') as f:\r\n",
    "    data = json.load(f)\r\n",
    "\r\n",
    "with open(CONFIG_PATH, \"r\") as stream:\r\n",
    "    config = yaml.safe_load(stream)\r\n",
    "\r\n",
    "TIME_ZONE = config['time_zone']\r\n",
    "DATETIME_FORMAT = config['dt_format']"
   ]
  },
  {
   "cell_type": "code",
   "execution_count": 3,
   "metadata": {
    "execution": {
     "iopub.execute_input": "2021-08-26T20:16:19.608778Z",
     "iopub.status.busy": "2021-08-26T20:16:19.608204Z",
     "iopub.status.idle": "2021-08-26T20:16:19.614717Z",
     "shell.execute_reply": "2021-08-26T20:16:19.613977Z"
    }
   },
   "outputs": [
    {
     "name": "stdout",
     "output_type": "stream",
     "text": [
      "Recent query happens at 2021-08-27 04:16:15 (CST).\n"
     ]
    }
   ],
   "source": [
    "def ts2dt(ts, format=DATETIME_FORMAT):\r\n",
    "    dt = (datetime.utcfromtimestamp(int(ts))\r\n",
    "                    .replace(tzinfo=tz.tzutc())\r\n",
    "                    # .astimezone(tz.tzlocal())\r\n",
    "                    .astimezone(tz.gettz(TIME_ZONE)))\r\n",
    "    return dt.strftime(format), dt\r\n",
    "\r\n",
    "_, newest_dt = ts2dt(newest_ts)\r\n",
    "print(f\"Recent query happens at {newest_dt.strftime(DATETIME_FORMAT)} ({newest_dt.tzname()}).\")"
   ]
  },
  {
   "cell_type": "code",
   "execution_count": 4,
   "metadata": {
    "execution": {
     "iopub.execute_input": "2021-08-26T20:16:19.619112Z",
     "iopub.status.busy": "2021-08-26T20:16:19.618506Z",
     "iopub.status.idle": "2021-08-26T20:16:19.621222Z",
     "shell.execute_reply": "2021-08-26T20:16:19.620654Z"
    }
   },
   "outputs": [],
   "source": [
    "def degrees_to_cardinal(d):\r\n",
    "  dirs = ['N', 'NNE', 'NE', 'ENE', 'E', 'ESE', 'SE', 'SSE', 'S', 'SSW', 'SW', 'WSW', 'W', 'WNW', 'NW', 'NNW']\r\n",
    "  ix = int(round(d / (360. / len(dirs))))\r\n",
    "  return dirs[ix % len(dirs)]"
   ]
  },
  {
   "cell_type": "code",
   "execution_count": 5,
   "metadata": {
    "execution": {
     "iopub.execute_input": "2021-08-26T20:16:19.626858Z",
     "iopub.status.busy": "2021-08-26T20:16:19.625294Z",
     "iopub.status.idle": "2021-08-26T20:16:19.627456Z",
     "shell.execute_reply": "2021-08-26T20:16:19.627935Z"
    }
   },
   "outputs": [],
   "source": [
    "# data.keys()"
   ]
  },
  {
   "cell_type": "code",
   "execution_count": 6,
   "metadata": {
    "execution": {
     "iopub.execute_input": "2021-08-26T20:16:19.632357Z",
     "iopub.status.busy": "2021-08-26T20:16:19.631029Z",
     "iopub.status.idle": "2021-08-26T20:16:19.632985Z",
     "shell.execute_reply": "2021-08-26T20:16:19.634071Z"
    }
   },
   "outputs": [],
   "source": [
    "# data['current']"
   ]
  },
  {
   "cell_type": "code",
   "execution_count": 7,
   "metadata": {
    "execution": {
     "iopub.execute_input": "2021-08-26T20:16:19.654184Z",
     "iopub.status.busy": "2021-08-26T20:16:19.653501Z",
     "iopub.status.idle": "2021-08-26T20:16:20.067359Z",
     "shell.execute_reply": "2021-08-26T20:16:20.068930Z"
    }
   },
   "outputs": [
    {
     "data": {
      "image/png": "[encoded data removed]",
      "text/plain": [
       "<Figure size 216x216 with 1 Axes>"
      ]
     },
     "metadata": {
      "needs_background": "light"
     },
     "output_type": "display_data"
    },
    {
     "name": "stdout",
     "output_type": "stream",
     "text": [
      "Today, sun rises at 06:04 and sets at 18:45.\n",
      "Currently, the weather is Clear (clear sky).\n",
      "The temperature is 28.89°C and it feels like 35.08°C.\n",
      "The UV index is 0, humidity is 83%.\n",
      "The pressure is 1010 hPa, percentage of cloud cover is 5%\n",
      "The wind comes from ENE direction with a speed 4.06 m/s.\n"
     ]
    }
   ],
   "source": [
    "current = data['current']\r\n",
    "\r\n",
    "fig, ax = plt.subplots(figsize=(3, 3))\r\n",
    "icon = requests.get(f\"http://openweathermap.org/img/wn/{current['weather'][0]['icon']}@2x.png\")\r\n",
    "im = Image.open(BytesIO(icon.content))\r\n",
    "plt.imshow(im)\r\n",
    "ax.set_axis_off()\r\n",
    "plt.show()\r\n",
    "\r\n",
    "print(f\"Today, sun rises at {ts2dt(current['sunrise'], '%H:%M')[0]} \\\r\n",
    "and sets at {ts2dt(current['sunset'], '%H:%M')[0]}.\\n\\\r\n",
    "Currently, the weather is {current['weather'][0]['main']} ({current['weather'][0]['description']}).\\n\\\r\n",
    "The temperature is {current['temp']}°C and it feels like {current['feels_like']}°C.\\n\\\r\n",
    "The UV index is {current['uvi']}, humidity is {current['humidity']}%.\\n\\\r\n",
    "The pressure is {current['pressure']} hPa, percentage of cloud cover is {current['clouds']}%\\n\\\r\n",
    "The wind comes from {degrees_to_cardinal(current['wind_deg'])} direction with a speed {current['wind_speed']} m/s.\")"
   ]
  },
  {
   "cell_type": "code",
   "execution_count": 8,
   "metadata": {
    "execution": {
     "iopub.execute_input": "2021-08-26T20:16:20.073013Z",
     "iopub.status.busy": "2021-08-26T20:16:20.071864Z",
     "iopub.status.idle": "2021-08-26T20:16:20.080686Z",
     "shell.execute_reply": "2021-08-26T20:16:20.081488Z"
    }
   },
   "outputs": [],
   "source": [
    "df_hourly = pd.DataFrame(data['hourly'])\r\n",
    "df_daily = pd.DataFrame(data['daily'])"
   ]
  },
  {
   "cell_type": "code",
   "execution_count": 9,
   "metadata": {
    "execution": {
     "iopub.execute_input": "2021-08-26T20:16:20.085187Z",
     "iopub.status.busy": "2021-08-26T20:16:20.084016Z",
     "iopub.status.idle": "2021-08-26T20:16:20.405186Z",
     "shell.execute_reply": "2021-08-26T20:16:20.404440Z"
    }
   },
   "outputs": [
    {
     "data": {
      "image/png": "[encoded data removed]",
      "text/plain": [
       "<Figure size 864x432 with 1 Axes>"
      ]
     },
     "metadata": {
      "needs_background": "light"
     },
     "output_type": "display_data"
    }
   ],
   "source": [
    "fig, ax = plt.subplots(figsize=(12, 6))\r\n",
    "plt.plot(df_hourly.temp, '.-', label='Temperature')\r\n",
    "plt.plot(df_hourly.feels_like, '.-', label='Feels Like')\r\n",
    "ax.set(title='Temperature in future 48 hours', xlabel='Time', ylabel='Temperature')\r\n",
    "ax.set_xticks(list(range(0, len(df_hourly), 2)))\r\n",
    "ax.set_xticklabels([ts2dt(ts, '%m-%d %H:%M')[0] for i, ts in enumerate(df_hourly.dt) if i%2==0], \r\n",
    "                   rotation=45, ha=\"right\")\r\n",
    "ax.locator_params(nbins=15, axis='y')\r\n",
    "plt.legend()\r\n",
    "plt.show()"
   ]
  },
  {
   "cell_type": "code",
   "execution_count": 10,
   "metadata": {
    "execution": {
     "iopub.execute_input": "2021-08-26T20:16:20.410956Z",
     "iopub.status.busy": "2021-08-26T20:16:20.407982Z",
     "iopub.status.idle": "2021-08-26T20:16:20.433009Z",
     "shell.execute_reply": "2021-08-26T20:16:20.433479Z"
    }
   },
   "outputs": [
    {
     "data": {
      "text/html": [
       "<div>\n",
       "<style scoped>\n",
       "    .dataframe tbody tr th:only-of-type {\n",
       "        vertical-align: middle;\n",
       "    }\n",
       "\n",
       "    .dataframe tbody tr th {\n",
       "        vertical-align: top;\n",
       "    }\n",
       "\n",
       "    .dataframe thead th {\n",
       "        text-align: right;\n",
       "    }\n",
       "</style>\n",
       "<table border=\"1\" class=\"dataframe\">\n",
       "  <thead>\n",
       "    <tr style=\"text-align: right;\">\n",
       "      <th></th>\n",
       "      <th>dt</th>\n",
       "      <th>temp</th>\n",
       "      <th>feels_like</th>\n",
       "      <th>pressure</th>\n",
       "      <th>humidity</th>\n",
       "      <th>dew_point</th>\n",
       "      <th>uvi</th>\n",
       "      <th>clouds</th>\n",
       "      <th>visibility</th>\n",
       "      <th>wind_speed</th>\n",
       "      <th>wind_deg</th>\n",
       "      <th>wind_gust</th>\n",
       "      <th>weather</th>\n",
       "      <th>pop</th>\n",
       "      <th>rain</th>\n",
       "    </tr>\n",
       "  </thead>\n",
       "  <tbody>\n",
       "    <tr>\n",
       "      <th>0</th>\n",
       "      <td>1630008000</td>\n",
       "      <td>28.89</td>\n",
       "      <td>35.08</td>\n",
       "      <td>1010</td>\n",
       "      <td>83</td>\n",
       "      <td>25.71</td>\n",
       "      <td>0.00</td>\n",
       "      <td>5</td>\n",
       "      <td>10000</td>\n",
       "      <td>4.06</td>\n",
       "      <td>76</td>\n",
       "      <td>5.14</td>\n",
       "      <td>[{'id': 500, 'main': 'Rain', 'description': 'l...</td>\n",
       "      <td>0.61</td>\n",
       "      <td>{'1h': 0.18}</td>\n",
       "    </tr>\n",
       "    <tr>\n",
       "      <th>1</th>\n",
       "      <td>1630011600</td>\n",
       "      <td>28.57</td>\n",
       "      <td>33.96</td>\n",
       "      <td>1010</td>\n",
       "      <td>82</td>\n",
       "      <td>25.19</td>\n",
       "      <td>0.00</td>\n",
       "      <td>5</td>\n",
       "      <td>10000</td>\n",
       "      <td>4.28</td>\n",
       "      <td>77</td>\n",
       "      <td>5.39</td>\n",
       "      <td>[{'id': 800, 'main': 'Clear', 'description': '...</td>\n",
       "      <td>0.61</td>\n",
       "      <td>NaN</td>\n",
       "    </tr>\n",
       "    <tr>\n",
       "      <th>2</th>\n",
       "      <td>1630015200</td>\n",
       "      <td>28.24</td>\n",
       "      <td>33.05</td>\n",
       "      <td>1010</td>\n",
       "      <td>82</td>\n",
       "      <td>24.87</td>\n",
       "      <td>0.00</td>\n",
       "      <td>6</td>\n",
       "      <td>10000</td>\n",
       "      <td>4.53</td>\n",
       "      <td>75</td>\n",
       "      <td>5.66</td>\n",
       "      <td>[{'id': 500, 'main': 'Rain', 'description': 'l...</td>\n",
       "      <td>0.65</td>\n",
       "      <td>{'1h': 0.24}</td>\n",
       "    </tr>\n",
       "    <tr>\n",
       "      <th>3</th>\n",
       "      <td>1630018800</td>\n",
       "      <td>28.06</td>\n",
       "      <td>32.41</td>\n",
       "      <td>1011</td>\n",
       "      <td>81</td>\n",
       "      <td>24.49</td>\n",
       "      <td>0.36</td>\n",
       "      <td>7</td>\n",
       "      <td>10000</td>\n",
       "      <td>5.05</td>\n",
       "      <td>76</td>\n",
       "      <td>6.20</td>\n",
       "      <td>[{'id': 500, 'main': 'Rain', 'description': 'l...</td>\n",
       "      <td>0.77</td>\n",
       "      <td>{'1h': 0.29}</td>\n",
       "    </tr>\n",
       "    <tr>\n",
       "      <th>4</th>\n",
       "      <td>1630022400</td>\n",
       "      <td>28.09</td>\n",
       "      <td>32.17</td>\n",
       "      <td>1012</td>\n",
       "      <td>79</td>\n",
       "      <td>24.10</td>\n",
       "      <td>1.58</td>\n",
       "      <td>8</td>\n",
       "      <td>10000</td>\n",
       "      <td>5.48</td>\n",
       "      <td>73</td>\n",
       "      <td>6.65</td>\n",
       "      <td>[{'id': 500, 'main': 'Rain', 'description': 'l...</td>\n",
       "      <td>0.81</td>\n",
       "      <td>{'1h': 0.33}</td>\n",
       "    </tr>\n",
       "  </tbody>\n",
       "</table>\n",
       "</div>"
      ],
      "text/plain": [
       "           dt   temp  feels_like  pressure  humidity  dew_point   uvi  clouds  \\\n",
       "0  1630008000  28.89       35.08      1010        83      25.71  0.00       5   \n",
       "1  1630011600  28.57       33.96      1010        82      25.19  0.00       5   \n",
       "2  1630015200  28.24       33.05      1010        82      24.87  0.00       6   \n",
       "3  1630018800  28.06       32.41      1011        81      24.49  0.36       7   \n",
       "4  1630022400  28.09       32.17      1012        79      24.10  1.58       8   \n",
       "\n",
       "   visibility  wind_speed  wind_deg  wind_gust  \\\n",
       "0       10000        4.06        76       5.14   \n",
       "1       10000        4.28        77       5.39   \n",
       "2       10000        4.53        75       5.66   \n",
       "3       10000        5.05        76       6.20   \n",
       "4       10000        5.48        73       6.65   \n",
       "\n",
       "                                             weather   pop          rain  \n",
       "0  [{'id': 500, 'main': 'Rain', 'description': 'l...  0.61  {'1h': 0.18}  \n",
       "1  [{'id': 800, 'main': 'Clear', 'description': '...  0.61           NaN  \n",
       "2  [{'id': 500, 'main': 'Rain', 'description': 'l...  0.65  {'1h': 0.24}  \n",
       "3  [{'id': 500, 'main': 'Rain', 'description': 'l...  0.77  {'1h': 0.29}  \n",
       "4  [{'id': 500, 'main': 'Rain', 'description': 'l...  0.81  {'1h': 0.33}  "
      ]
     },
     "execution_count": 10,
     "metadata": {},
     "output_type": "execute_result"
    }
   ],
   "source": [
    "df_hourly.head()"
   ]
  },
  {
   "cell_type": "code",
   "execution_count": null,
   "metadata": {},
   "outputs": [],
   "source": []
  }
 ],
 "metadata": {
  "interpreter": {
   "hash": "c1b4cfe941b6d2466ad1fb5979e97da9cda8801728c8091b097ab734208fc00c"
  },
  "kernelspec": {
   "display_name": "Python 3.8.3 64-bit ('base': conda)",
   "name": "python3"
  },
  "language_info": {
   "codemirror_mode": {
    "name": "ipython",
    "version": 3
   },
   "file_extension": ".py",
   "mimetype": "text/x-python",
   "name": "python",
   "nbconvert_exporter": "python",
   "pygments_lexer": "ipython3",
   "version": "3.8.11"
  }
 },
 "nbformat": 4,
 "nbformat_minor": 2
}
