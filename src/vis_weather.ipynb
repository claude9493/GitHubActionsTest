{
 "cells": [
  {
   "cell_type": "code",
   "execution_count": 1,
   "metadata": {
    "execution": {
     "iopub.execute_input": "2021-09-11T06:17:58.920276Z",
     "iopub.status.busy": "2021-09-11T06:17:58.919386Z",
     "iopub.status.idle": "2021-09-11T06:18:01.459425Z",
     "shell.execute_reply": "2021-09-11T06:18:01.458611Z"
    }
   },
   "outputs": [],
   "source": [
    "import json, yaml, requests\r\n",
    "from datetime import datetime\r\n",
    "from dateutil import tz\r\n",
    "import pandas as pd\r\n",
    "from PIL import Image\r\n",
    "from io import BytesIO\r\n",
    "import matplotlib.pyplot as plt\r\n",
    "import seaborn\r\n",
    "\r\n",
    "CONFIG_PATH = \"../config/config.yaml\""
   ]
  },
  {
   "cell_type": "code",
   "execution_count": 2,
   "metadata": {
    "execution": {
     "iopub.execute_input": "2021-09-11T06:18:01.462604Z",
     "iopub.status.busy": "2021-09-11T06:18:01.461818Z",
     "iopub.status.idle": "2021-09-11T06:18:01.470246Z",
     "shell.execute_reply": "2021-09-11T06:18:01.469826Z"
    }
   },
   "outputs": [],
   "source": [
    "with open('../newest_ts', 'r') as f:\r\n",
    "    newest_ts = f.read()\r\n",
    "\r\n",
    "data_path = f\"../data/data_{newest_ts}.json\"\r\n",
    "with open(data_path, 'r') as f:\r\n",
    "    data = json.load(f)\r\n",
    "\r\n",
    "with open(CONFIG_PATH, \"r\") as stream:\r\n",
    "    config = yaml.safe_load(stream)\r\n",
    "\r\n",
    "TIME_ZONE = config['time_zone']\r\n",
    "DATETIME_FORMAT = config['dt_format']"
   ]
  },
  {
   "cell_type": "code",
   "execution_count": 3,
   "metadata": {
    "execution": {
     "iopub.execute_input": "2021-09-11T06:18:01.474709Z",
     "iopub.status.busy": "2021-09-11T06:18:01.474170Z",
     "iopub.status.idle": "2021-09-11T06:18:01.479005Z",
     "shell.execute_reply": "2021-09-11T06:18:01.479418Z"
    }
   },
   "outputs": [
    {
     "name": "stdout",
     "output_type": "stream",
     "text": [
      "Recent query happens at 2021-09-11 14:17:55 (CST).\n"
     ]
    }
   ],
   "source": [
    "def ts2dt(ts, format=DATETIME_FORMAT):\r\n",
    "    dt = (datetime.utcfromtimestamp(int(ts))\r\n",
    "                    .replace(tzinfo=tz.tzutc())\r\n",
    "                    # .astimezone(tz.tzlocal())\r\n",
    "                    .astimezone(tz.gettz(TIME_ZONE)))\r\n",
    "    return dt.strftime(format), dt\r\n",
    "\r\n",
    "_, newest_dt = ts2dt(newest_ts)\r\n",
    "print(f\"Recent query happens at {newest_dt.strftime(DATETIME_FORMAT)} ({newest_dt.tzname()}).\")"
   ]
  },
  {
   "cell_type": "code",
   "execution_count": 4,
   "metadata": {
    "execution": {
     "iopub.execute_input": "2021-09-11T06:18:01.484494Z",
     "iopub.status.busy": "2021-09-11T06:18:01.483427Z",
     "iopub.status.idle": "2021-09-11T06:18:01.485013Z",
     "shell.execute_reply": "2021-09-11T06:18:01.485441Z"
    }
   },
   "outputs": [],
   "source": [
    "def degrees_to_cardinal(d):\r\n",
    "  dirs = ['N', 'NNE', 'NE', 'ENE', 'E', 'ESE', 'SE', 'SSE', 'S', 'SSW', 'SW', 'WSW', 'W', 'WNW', 'NW', 'NNW']\r\n",
    "  ix = int(round(d / (360. / len(dirs))))\r\n",
    "  return dirs[ix % len(dirs)]"
   ]
  },
  {
   "cell_type": "code",
   "execution_count": 5,
   "metadata": {
    "execution": {
     "iopub.execute_input": "2021-09-11T06:18:01.489979Z",
     "iopub.status.busy": "2021-09-11T06:18:01.488772Z",
     "iopub.status.idle": "2021-09-11T06:18:01.490535Z",
     "shell.execute_reply": "2021-09-11T06:18:01.490984Z"
    }
   },
   "outputs": [],
   "source": [
    "# data.keys()"
   ]
  },
  {
   "cell_type": "code",
   "execution_count": 6,
   "metadata": {
    "execution": {
     "iopub.execute_input": "2021-09-11T06:18:01.495244Z",
     "iopub.status.busy": "2021-09-11T06:18:01.494046Z",
     "iopub.status.idle": "2021-09-11T06:18:01.495893Z",
     "shell.execute_reply": "2021-09-11T06:18:01.496272Z"
    }
   },
   "outputs": [],
   "source": [
    "# data['current']"
   ]
  },
  {
   "cell_type": "code",
   "execution_count": 7,
   "metadata": {
    "execution": {
     "iopub.execute_input": "2021-09-11T06:18:01.516769Z",
     "iopub.status.busy": "2021-09-11T06:18:01.516103Z",
     "iopub.status.idle": "2021-09-11T06:18:01.943952Z",
     "shell.execute_reply": "2021-09-11T06:18:01.944719Z"
    }
   },
   "outputs": [
    {
     "data": {
      "image/png": "[encoded data removed]",
      "text/plain": [
       "<Figure size 216x216 with 1 Axes>"
      ]
     },
     "metadata": {
      "needs_background": "light"
     },
     "output_type": "display_data"
    },
    {
     "name": "stdout",
     "output_type": "stream",
     "text": [
      "Today, sun rises at 06:08 and sets at 18:31.\n",
      "Currently, the weather is Clouds (broken clouds).\n",
      "The temperature is 33.75°C and it feels like 40.75°C.\n",
      "The UV index is 7.45, humidity is 67%.\n",
      "The pressure is 1003 hPa, percentage of cloud cover is 81%\n",
      "The wind comes from WSW direction with a speed 4.39 m/s.\n"
     ]
    }
   ],
   "source": [
    "current = data['current']\r\n",
    "\r\n",
    "fig, ax = plt.subplots(figsize=(3, 3))\r\n",
    "icon = requests.get(f\"http://openweathermap.org/img/wn/{current['weather'][0]['icon']}@2x.png\")\r\n",
    "im = Image.open(BytesIO(icon.content))\r\n",
    "plt.imshow(im)\r\n",
    "ax.set_axis_off()\r\n",
    "plt.show()\r\n",
    "\r\n",
    "print(f\"Today, sun rises at {ts2dt(current['sunrise'], '%H:%M')[0]} \\\r\n",
    "and sets at {ts2dt(current['sunset'], '%H:%M')[0]}.\\n\\\r\n",
    "Currently, the weather is {current['weather'][0]['main']} ({current['weather'][0]['description']}).\\n\\\r\n",
    "The temperature is {current['temp']}°C and it feels like {current['feels_like']}°C.\\n\\\r\n",
    "The UV index is {current['uvi']}, humidity is {current['humidity']}%.\\n\\\r\n",
    "The pressure is {current['pressure']} hPa, percentage of cloud cover is {current['clouds']}%\\n\\\r\n",
    "The wind comes from {degrees_to_cardinal(current['wind_deg'])} direction with a speed {current['wind_speed']} m/s.\")"
   ]
  },
  {
   "cell_type": "code",
   "execution_count": 8,
   "metadata": {
    "execution": {
     "iopub.execute_input": "2021-09-11T06:18:01.948962Z",
     "iopub.status.busy": "2021-09-11T06:18:01.948419Z",
     "iopub.status.idle": "2021-09-11T06:18:01.955652Z",
     "shell.execute_reply": "2021-09-11T06:18:01.956433Z"
    }
   },
   "outputs": [],
   "source": [
    "df_hourly = pd.DataFrame(data['hourly'])\r\n",
    "df_daily = pd.DataFrame(data['daily'])"
   ]
  },
  {
   "cell_type": "code",
   "execution_count": 9,
   "metadata": {
    "execution": {
     "iopub.execute_input": "2021-09-11T06:18:01.959743Z",
     "iopub.status.busy": "2021-09-11T06:18:01.958633Z",
     "iopub.status.idle": "2021-09-11T06:18:02.313696Z",
     "shell.execute_reply": "2021-09-11T06:18:02.313064Z"
    }
   },
   "outputs": [
    {
     "data": {
      "image/png": "[encoded data removed]",
      "text/plain": [
       "<Figure size 864x432 with 1 Axes>"
      ]
     },
     "metadata": {
      "needs_background": "light"
     },
     "output_type": "display_data"
    }
   ],
   "source": [
    "fig, ax = plt.subplots(figsize=(12, 6))\r\n",
    "plt.plot(df_hourly.temp, '.-', label='Temperature')\r\n",
    "plt.plot(df_hourly.feels_like, '.-', label='Feels Like')\r\n",
    "ax.set(title='Temperature in future 48 hours', xlabel='Time', ylabel='Temperature')\r\n",
    "ax.set_xticks(list(range(0, len(df_hourly), 2)))\r\n",
    "ax.set_xticklabels([ts2dt(ts, '%m-%d %H:%M')[0] for i, ts in enumerate(df_hourly.dt) if i%2==0], \r\n",
    "                   rotation=45, ha=\"right\")\r\n",
    "ax.locator_params(nbins=15, axis='y')\r\n",
    "plt.legend()\r\n",
    "plt.show()"
   ]
  },
  {
   "cell_type": "code",
   "execution_count": 10,
   "metadata": {
    "execution": {
     "iopub.execute_input": "2021-09-11T06:18:02.327983Z",
     "iopub.status.busy": "2021-09-11T06:18:02.318429Z",
     "iopub.status.idle": "2021-09-11T06:18:02.341657Z",
     "shell.execute_reply": "2021-09-11T06:18:02.342099Z"
    }
   },
   "outputs": [
    {
     "data": {
      "text/html": [
       "<div>\n",
       "<style scoped>\n",
       "    .dataframe tbody tr th:only-of-type {\n",
       "        vertical-align: middle;\n",
       "    }\n",
       "\n",
       "    .dataframe tbody tr th {\n",
       "        vertical-align: top;\n",
       "    }\n",
       "\n",
       "    .dataframe thead th {\n",
       "        text-align: right;\n",
       "    }\n",
       "</style>\n",
       "<table border=\"1\" class=\"dataframe\">\n",
       "  <thead>\n",
       "    <tr style=\"text-align: right;\">\n",
       "      <th></th>\n",
       "      <th>dt</th>\n",
       "      <th>temp</th>\n",
       "      <th>feels_like</th>\n",
       "      <th>pressure</th>\n",
       "      <th>humidity</th>\n",
       "      <th>dew_point</th>\n",
       "      <th>uvi</th>\n",
       "      <th>clouds</th>\n",
       "      <th>visibility</th>\n",
       "      <th>wind_speed</th>\n",
       "      <th>wind_deg</th>\n",
       "      <th>wind_gust</th>\n",
       "      <th>weather</th>\n",
       "      <th>pop</th>\n",
       "      <th>rain</th>\n",
       "    </tr>\n",
       "  </thead>\n",
       "  <tbody>\n",
       "    <tr>\n",
       "      <th>0</th>\n",
       "      <td>1631340000</td>\n",
       "      <td>33.75</td>\n",
       "      <td>40.75</td>\n",
       "      <td>1003</td>\n",
       "      <td>67</td>\n",
       "      <td>26.76</td>\n",
       "      <td>7.45</td>\n",
       "      <td>81</td>\n",
       "      <td>10000</td>\n",
       "      <td>4.39</td>\n",
       "      <td>247</td>\n",
       "      <td>5.05</td>\n",
       "      <td>[{'id': 803, 'main': 'Clouds', 'description': ...</td>\n",
       "      <td>0.28</td>\n",
       "      <td>NaN</td>\n",
       "    </tr>\n",
       "    <tr>\n",
       "      <th>1</th>\n",
       "      <td>1631343600</td>\n",
       "      <td>33.07</td>\n",
       "      <td>40.07</td>\n",
       "      <td>1003</td>\n",
       "      <td>68</td>\n",
       "      <td>26.37</td>\n",
       "      <td>4.37</td>\n",
       "      <td>78</td>\n",
       "      <td>10000</td>\n",
       "      <td>4.06</td>\n",
       "      <td>247</td>\n",
       "      <td>4.79</td>\n",
       "      <td>[{'id': 803, 'main': 'Clouds', 'description': ...</td>\n",
       "      <td>0.20</td>\n",
       "      <td>NaN</td>\n",
       "    </tr>\n",
       "    <tr>\n",
       "      <th>2</th>\n",
       "      <td>1631347200</td>\n",
       "      <td>32.34</td>\n",
       "      <td>39.34</td>\n",
       "      <td>1003</td>\n",
       "      <td>69</td>\n",
       "      <td>25.92</td>\n",
       "      <td>2.23</td>\n",
       "      <td>79</td>\n",
       "      <td>10000</td>\n",
       "      <td>3.96</td>\n",
       "      <td>255</td>\n",
       "      <td>4.51</td>\n",
       "      <td>[{'id': 500, 'main': 'Rain', 'description': 'l...</td>\n",
       "      <td>0.32</td>\n",
       "      <td>{'1h': 0.13}</td>\n",
       "    </tr>\n",
       "    <tr>\n",
       "      <th>3</th>\n",
       "      <td>1631350800</td>\n",
       "      <td>31.72</td>\n",
       "      <td>38.72</td>\n",
       "      <td>1002</td>\n",
       "      <td>70</td>\n",
       "      <td>25.57</td>\n",
       "      <td>0.76</td>\n",
       "      <td>69</td>\n",
       "      <td>10000</td>\n",
       "      <td>3.82</td>\n",
       "      <td>253</td>\n",
       "      <td>4.51</td>\n",
       "      <td>[{'id': 803, 'main': 'Clouds', 'description': ...</td>\n",
       "      <td>0.05</td>\n",
       "      <td>NaN</td>\n",
       "    </tr>\n",
       "    <tr>\n",
       "      <th>4</th>\n",
       "      <td>1631354400</td>\n",
       "      <td>30.76</td>\n",
       "      <td>37.76</td>\n",
       "      <td>1002</td>\n",
       "      <td>73</td>\n",
       "      <td>25.36</td>\n",
       "      <td>0.12</td>\n",
       "      <td>55</td>\n",
       "      <td>10000</td>\n",
       "      <td>3.60</td>\n",
       "      <td>235</td>\n",
       "      <td>4.14</td>\n",
       "      <td>[{'id': 803, 'main': 'Clouds', 'description': ...</td>\n",
       "      <td>0.10</td>\n",
       "      <td>NaN</td>\n",
       "    </tr>\n",
       "  </tbody>\n",
       "</table>\n",
       "</div>"
      ],
      "text/plain": [
       "           dt   temp  feels_like  pressure  humidity  dew_point   uvi  clouds  \\\n",
       "0  1631340000  33.75       40.75      1003        67      26.76  7.45      81   \n",
       "1  1631343600  33.07       40.07      1003        68      26.37  4.37      78   \n",
       "2  1631347200  32.34       39.34      1003        69      25.92  2.23      79   \n",
       "3  1631350800  31.72       38.72      1002        70      25.57  0.76      69   \n",
       "4  1631354400  30.76       37.76      1002        73      25.36  0.12      55   \n",
       "\n",
       "   visibility  wind_speed  wind_deg  wind_gust  \\\n",
       "0       10000        4.39       247       5.05   \n",
       "1       10000        4.06       247       4.79   \n",
       "2       10000        3.96       255       4.51   \n",
       "3       10000        3.82       253       4.51   \n",
       "4       10000        3.60       235       4.14   \n",
       "\n",
       "                                             weather   pop          rain  \n",
       "0  [{'id': 803, 'main': 'Clouds', 'description': ...  0.28           NaN  \n",
       "1  [{'id': 803, 'main': 'Clouds', 'description': ...  0.20           NaN  \n",
       "2  [{'id': 500, 'main': 'Rain', 'description': 'l...  0.32  {'1h': 0.13}  \n",
       "3  [{'id': 803, 'main': 'Clouds', 'description': ...  0.05           NaN  \n",
       "4  [{'id': 803, 'main': 'Clouds', 'description': ...  0.10           NaN  "
      ]
     },
     "execution_count": 10,
     "metadata": {},
     "output_type": "execute_result"
    }
   ],
   "source": [
    "df_hourly.head()"
   ]
  },
  {
   "cell_type": "code",
   "execution_count": null,
   "metadata": {},
   "outputs": [],
   "source": []
  }
 ],
 "metadata": {
  "interpreter": {
   "hash": "c1b4cfe941b6d2466ad1fb5979e97da9cda8801728c8091b097ab734208fc00c"
  },
  "kernelspec": {
   "display_name": "Python 3.8.3 64-bit ('base': conda)",
   "name": "python3"
  },
  "language_info": {
   "codemirror_mode": {
    "name": "ipython",
    "version": 3
   },
   "file_extension": ".py",
   "mimetype": "text/x-python",
   "name": "python",
   "nbconvert_exporter": "python",
   "pygments_lexer": "ipython3",
   "version": "3.8.11"
  }
 },
 "nbformat": 4,
 "nbformat_minor": 2
}
