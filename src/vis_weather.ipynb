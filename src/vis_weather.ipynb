{
 "cells": [
  {
   "cell_type": "code",
   "execution_count": 1,
   "metadata": {
    "execution": {
     "iopub.execute_input": "2021-10-22T23:12:19.050502Z",
     "iopub.status.busy": "2021-10-22T23:12:19.049203Z",
     "iopub.status.idle": "2021-10-22T23:12:22.180600Z",
     "shell.execute_reply": "2021-10-22T23:12:22.179971Z"
    }
   },
   "outputs": [],
   "source": [
    "import json, yaml, requests\r\n",
    "from datetime import datetime\r\n",
    "from dateutil import tz\r\n",
    "import pandas as pd\r\n",
    "from PIL import Image\r\n",
    "from io import BytesIO\r\n",
    "import matplotlib.pyplot as plt\r\n",
    "import seaborn\r\n",
    "\r\n",
    "CONFIG_PATH = \"../config/config.yaml\""
   ]
  },
  {
   "cell_type": "code",
   "execution_count": 2,
   "metadata": {
    "execution": {
     "iopub.execute_input": "2021-10-22T23:12:22.187405Z",
     "iopub.status.busy": "2021-10-22T23:12:22.185428Z",
     "iopub.status.idle": "2021-10-22T23:12:22.192024Z",
     "shell.execute_reply": "2021-10-22T23:12:22.192516Z"
    }
   },
   "outputs": [],
   "source": [
    "with open('../newest_ts', 'r') as f:\r\n",
    "    newest_ts = f.read()\r\n",
    "\r\n",
    "data_path = f\"../data/data_{newest_ts}.json\"\r\n",
    "with open(data_path, 'r') as f:\r\n",
    "    data = json.load(f)\r\n",
    "\r\n",
    "with open(CONFIG_PATH, \"r\") as stream:\r\n",
    "    config = yaml.safe_load(stream)\r\n",
    "\r\n",
    "TIME_ZONE = config['time_zone']\r\n",
    "DATETIME_FORMAT = config['dt_format']"
   ]
  },
  {
   "cell_type": "code",
   "execution_count": 3,
   "metadata": {
    "execution": {
     "iopub.execute_input": "2021-10-22T23:12:22.197635Z",
     "iopub.status.busy": "2021-10-22T23:12:22.194912Z",
     "iopub.status.idle": "2021-10-22T23:12:22.211497Z",
     "shell.execute_reply": "2021-10-22T23:12:22.210790Z"
    }
   },
   "outputs": [
    {
     "name": "stdout",
     "output_type": "stream",
     "text": [
      "Recent query happens at 2021-10-23 07:12:15 (CST).\n"
     ]
    }
   ],
   "source": [
    "def ts2dt(ts, format=DATETIME_FORMAT):\r\n",
    "    dt = (datetime.utcfromtimestamp(int(ts))\r\n",
    "                    .replace(tzinfo=tz.tzutc())\r\n",
    "                    # .astimezone(tz.tzlocal())\r\n",
    "                    .astimezone(tz.gettz(TIME_ZONE)))\r\n",
    "    return dt.strftime(format), dt\r\n",
    "\r\n",
    "_, newest_dt = ts2dt(newest_ts)\r\n",
    "print(f\"Recent query happens at {newest_dt.strftime(DATETIME_FORMAT)} ({newest_dt.tzname()}).\")"
   ]
  },
  {
   "cell_type": "code",
   "execution_count": 4,
   "metadata": {
    "execution": {
     "iopub.execute_input": "2021-10-22T23:12:22.217542Z",
     "iopub.status.busy": "2021-10-22T23:12:22.216251Z",
     "iopub.status.idle": "2021-10-22T23:12:22.218730Z",
     "shell.execute_reply": "2021-10-22T23:12:22.219152Z"
    }
   },
   "outputs": [],
   "source": [
    "def degrees_to_cardinal(d):\r\n",
    "  dirs = ['N', 'NNE', 'NE', 'ENE', 'E', 'ESE', 'SE', 'SSE', 'S', 'SSW', 'SW', 'WSW', 'W', 'WNW', 'NW', 'NNW']\r\n",
    "  ix = int(round(d / (360. / len(dirs))))\r\n",
    "  return dirs[ix % len(dirs)]"
   ]
  },
  {
   "cell_type": "code",
   "execution_count": 5,
   "metadata": {
    "execution": {
     "iopub.execute_input": "2021-10-22T23:12:22.223703Z",
     "iopub.status.busy": "2021-10-22T23:12:22.222425Z",
     "iopub.status.idle": "2021-10-22T23:12:22.224322Z",
     "shell.execute_reply": "2021-10-22T23:12:22.224765Z"
    }
   },
   "outputs": [],
   "source": [
    "# data.keys()"
   ]
  },
  {
   "cell_type": "code",
   "execution_count": 6,
   "metadata": {
    "execution": {
     "iopub.execute_input": "2021-10-22T23:12:22.229767Z",
     "iopub.status.busy": "2021-10-22T23:12:22.228154Z",
     "iopub.status.idle": "2021-10-22T23:12:22.230557Z",
     "shell.execute_reply": "2021-10-22T23:12:22.231036Z"
    }
   },
   "outputs": [],
   "source": [
    "# data['current']"
   ]
  },
  {
   "cell_type": "code",
   "execution_count": 7,
   "metadata": {
    "execution": {
     "iopub.execute_input": "2021-10-22T23:12:22.255961Z",
     "iopub.status.busy": "2021-10-22T23:12:22.255293Z",
     "iopub.status.idle": "2021-10-22T23:12:22.672947Z",
     "shell.execute_reply": "2021-10-22T23:12:22.672347Z"
    }
   },
   "outputs": [
    {
     "data": {
      "image/png": "[encoded data removed]",
      "text/plain": [
       "<Figure size 216x216 with 1 Axes>"
      ]
     },
     "metadata": {
      "needs_background": "light"
     },
     "output_type": "display_data"
    },
    {
     "name": "stdout",
     "output_type": "stream",
     "text": [
      "Today, sun rises at 06:22 and sets at 17:51.\n",
      "Currently, the weather is Clouds (overcast clouds).\n",
      "The temperature is 18.52°C and it feels like 18.54°C.\n",
      "The UV index is 0, humidity is 81%.\n",
      "The pressure is 1018 hPa, percentage of cloud cover is 97%\n",
      "The wind comes from NNE direction with a speed 2.24 m/s.\n"
     ]
    }
   ],
   "source": [
    "current = data['current']\r\n",
    "\r\n",
    "fig, ax = plt.subplots(figsize=(3, 3))\r\n",
    "icon = requests.get(f\"http://openweathermap.org/img/wn/{current['weather'][0]['icon']}@2x.png\")\r\n",
    "im = Image.open(BytesIO(icon.content))\r\n",
    "plt.imshow(im)\r\n",
    "ax.set_axis_off()\r\n",
    "plt.show()\r\n",
    "\r\n",
    "print(f\"Today, sun rises at {ts2dt(current['sunrise'], '%H:%M')[0]} \\\r\n",
    "and sets at {ts2dt(current['sunset'], '%H:%M')[0]}.\\n\\\r\n",
    "Currently, the weather is {current['weather'][0]['main']} ({current['weather'][0]['description']}).\\n\\\r\n",
    "The temperature is {current['temp']}°C and it feels like {current['feels_like']}°C.\\n\\\r\n",
    "The UV index is {current['uvi']}, humidity is {current['humidity']}%.\\n\\\r\n",
    "The pressure is {current['pressure']} hPa, percentage of cloud cover is {current['clouds']}%\\n\\\r\n",
    "The wind comes from {degrees_to_cardinal(current['wind_deg'])} direction with a speed {current['wind_speed']} m/s.\")"
   ]
  },
  {
   "cell_type": "code",
   "execution_count": 8,
   "metadata": {
    "execution": {
     "iopub.execute_input": "2021-10-22T23:12:22.676085Z",
     "iopub.status.busy": "2021-10-22T23:12:22.675489Z",
     "iopub.status.idle": "2021-10-22T23:12:22.682540Z",
     "shell.execute_reply": "2021-10-22T23:12:22.683312Z"
    }
   },
   "outputs": [],
   "source": [
    "df_hourly = pd.DataFrame(data['hourly'])\r\n",
    "df_daily = pd.DataFrame(data['daily'])"
   ]
  },
  {
   "cell_type": "code",
   "execution_count": 9,
   "metadata": {
    "execution": {
     "iopub.execute_input": "2021-10-22T23:12:22.686422Z",
     "iopub.status.busy": "2021-10-22T23:12:22.685660Z",
     "iopub.status.idle": "2021-10-22T23:12:23.055270Z",
     "shell.execute_reply": "2021-10-22T23:12:23.055895Z"
    }
   },
   "outputs": [
    {
     "data": {
      "image/png": "[encoded data removed]",
      "text/plain": [
       "<Figure size 864x432 with 1 Axes>"
      ]
     },
     "metadata": {
      "needs_background": "light"
     },
     "output_type": "display_data"
    }
   ],
   "source": [
    "fig, ax = plt.subplots(figsize=(12, 6))\r\n",
    "plt.plot(df_hourly.temp, '.-', label='Temperature')\r\n",
    "plt.plot(df_hourly.feels_like, '.-', label='Feels Like')\r\n",
    "ax.set(title='Temperature in future 48 hours', xlabel='Time', ylabel='Temperature')\r\n",
    "ax.set_xticks(list(range(0, len(df_hourly), 2)))\r\n",
    "ax.set_xticklabels([ts2dt(ts, '%m-%d %H:%M')[0] for i, ts in enumerate(df_hourly.dt) if i%2==0], \r\n",
    "                   rotation=45, ha=\"right\")\r\n",
    "ax.locator_params(nbins=15, axis='y')\r\n",
    "plt.legend()\r\n",
    "plt.show()"
   ]
  },
  {
   "cell_type": "code",
   "execution_count": 10,
   "metadata": {
    "execution": {
     "iopub.execute_input": "2021-10-22T23:12:23.061389Z",
     "iopub.status.busy": "2021-10-22T23:12:23.060746Z",
     "iopub.status.idle": "2021-10-22T23:12:23.084134Z",
     "shell.execute_reply": "2021-10-22T23:12:23.084621Z"
    }
   },
   "outputs": [
    {
     "data": {
      "text/html": [
       "<div>\n",
       "<style scoped>\n",
       "    .dataframe tbody tr th:only-of-type {\n",
       "        vertical-align: middle;\n",
       "    }\n",
       "\n",
       "    .dataframe tbody tr th {\n",
       "        vertical-align: top;\n",
       "    }\n",
       "\n",
       "    .dataframe thead th {\n",
       "        text-align: right;\n",
       "    }\n",
       "</style>\n",
       "<table border=\"1\" class=\"dataframe\">\n",
       "  <thead>\n",
       "    <tr style=\"text-align: right;\">\n",
       "      <th></th>\n",
       "      <th>dt</th>\n",
       "      <th>temp</th>\n",
       "      <th>feels_like</th>\n",
       "      <th>pressure</th>\n",
       "      <th>humidity</th>\n",
       "      <th>dew_point</th>\n",
       "      <th>uvi</th>\n",
       "      <th>clouds</th>\n",
       "      <th>visibility</th>\n",
       "      <th>wind_speed</th>\n",
       "      <th>wind_deg</th>\n",
       "      <th>wind_gust</th>\n",
       "      <th>weather</th>\n",
       "      <th>pop</th>\n",
       "    </tr>\n",
       "  </thead>\n",
       "  <tbody>\n",
       "    <tr>\n",
       "      <th>0</th>\n",
       "      <td>1634943600</td>\n",
       "      <td>18.52</td>\n",
       "      <td>18.54</td>\n",
       "      <td>1018</td>\n",
       "      <td>81</td>\n",
       "      <td>15.20</td>\n",
       "      <td>0.00</td>\n",
       "      <td>97</td>\n",
       "      <td>10000</td>\n",
       "      <td>3.29</td>\n",
       "      <td>15</td>\n",
       "      <td>4.26</td>\n",
       "      <td>[{'id': 804, 'main': 'Clouds', 'description': ...</td>\n",
       "      <td>0.03</td>\n",
       "    </tr>\n",
       "    <tr>\n",
       "      <th>1</th>\n",
       "      <td>1634947200</td>\n",
       "      <td>18.54</td>\n",
       "      <td>18.49</td>\n",
       "      <td>1019</td>\n",
       "      <td>78</td>\n",
       "      <td>14.63</td>\n",
       "      <td>0.32</td>\n",
       "      <td>97</td>\n",
       "      <td>10000</td>\n",
       "      <td>3.26</td>\n",
       "      <td>16</td>\n",
       "      <td>4.15</td>\n",
       "      <td>[{'id': 804, 'main': 'Clouds', 'description': ...</td>\n",
       "      <td>0.00</td>\n",
       "    </tr>\n",
       "    <tr>\n",
       "      <th>2</th>\n",
       "      <td>1634950800</td>\n",
       "      <td>18.86</td>\n",
       "      <td>18.76</td>\n",
       "      <td>1020</td>\n",
       "      <td>75</td>\n",
       "      <td>14.34</td>\n",
       "      <td>1.58</td>\n",
       "      <td>85</td>\n",
       "      <td>10000</td>\n",
       "      <td>3.15</td>\n",
       "      <td>20</td>\n",
       "      <td>3.99</td>\n",
       "      <td>[{'id': 804, 'main': 'Clouds', 'description': ...</td>\n",
       "      <td>0.00</td>\n",
       "    </tr>\n",
       "    <tr>\n",
       "      <th>3</th>\n",
       "      <td>1634954400</td>\n",
       "      <td>19.62</td>\n",
       "      <td>19.49</td>\n",
       "      <td>1020</td>\n",
       "      <td>71</td>\n",
       "      <td>14.22</td>\n",
       "      <td>3.17</td>\n",
       "      <td>72</td>\n",
       "      <td>10000</td>\n",
       "      <td>3.07</td>\n",
       "      <td>20</td>\n",
       "      <td>4.13</td>\n",
       "      <td>[{'id': 803, 'main': 'Clouds', 'description': ...</td>\n",
       "      <td>0.00</td>\n",
       "    </tr>\n",
       "    <tr>\n",
       "      <th>4</th>\n",
       "      <td>1634958000</td>\n",
       "      <td>20.74</td>\n",
       "      <td>20.57</td>\n",
       "      <td>1020</td>\n",
       "      <td>65</td>\n",
       "      <td>13.93</td>\n",
       "      <td>4.76</td>\n",
       "      <td>57</td>\n",
       "      <td>10000</td>\n",
       "      <td>3.02</td>\n",
       "      <td>31</td>\n",
       "      <td>4.15</td>\n",
       "      <td>[{'id': 803, 'main': 'Clouds', 'description': ...</td>\n",
       "      <td>0.00</td>\n",
       "    </tr>\n",
       "  </tbody>\n",
       "</table>\n",
       "</div>"
      ],
      "text/plain": [
       "           dt   temp  feels_like  pressure  humidity  dew_point   uvi  clouds  \\\n",
       "0  1634943600  18.52       18.54      1018        81      15.20  0.00      97   \n",
       "1  1634947200  18.54       18.49      1019        78      14.63  0.32      97   \n",
       "2  1634950800  18.86       18.76      1020        75      14.34  1.58      85   \n",
       "3  1634954400  19.62       19.49      1020        71      14.22  3.17      72   \n",
       "4  1634958000  20.74       20.57      1020        65      13.93  4.76      57   \n",
       "\n",
       "   visibility  wind_speed  wind_deg  wind_gust  \\\n",
       "0       10000        3.29        15       4.26   \n",
       "1       10000        3.26        16       4.15   \n",
       "2       10000        3.15        20       3.99   \n",
       "3       10000        3.07        20       4.13   \n",
       "4       10000        3.02        31       4.15   \n",
       "\n",
       "                                             weather   pop  \n",
       "0  [{'id': 804, 'main': 'Clouds', 'description': ...  0.03  \n",
       "1  [{'id': 804, 'main': 'Clouds', 'description': ...  0.00  \n",
       "2  [{'id': 804, 'main': 'Clouds', 'description': ...  0.00  \n",
       "3  [{'id': 803, 'main': 'Clouds', 'description': ...  0.00  \n",
       "4  [{'id': 803, 'main': 'Clouds', 'description': ...  0.00  "
      ]
     },
     "execution_count": 10,
     "metadata": {},
     "output_type": "execute_result"
    }
   ],
   "source": [
    "df_hourly.head()"
   ]
  },
  {
   "cell_type": "code",
   "execution_count": null,
   "metadata": {},
   "outputs": [],
   "source": []
  }
 ],
 "metadata": {
  "interpreter": {
   "hash": "c1b4cfe941b6d2466ad1fb5979e97da9cda8801728c8091b097ab734208fc00c"
  },
  "kernelspec": {
   "display_name": "Python 3.8.3 64-bit ('base': conda)",
   "name": "python3"
  },
  "language_info": {
   "codemirror_mode": {
    "name": "ipython",
    "version": 3
   },
   "file_extension": ".py",
   "mimetype": "text/x-python",
   "name": "python",
   "nbconvert_exporter": "python",
   "pygments_lexer": "ipython3",
   "version": "3.8.12"
  }
 },
 "nbformat": 4,
 "nbformat_minor": 2
}
