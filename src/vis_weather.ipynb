{
 "cells": [
  {
   "cell_type": "code",
   "execution_count": 1,
   "metadata": {
    "execution": {
     "iopub.execute_input": "2021-09-11T23:15:23.153360Z",
     "iopub.status.busy": "2021-09-11T23:15:23.151967Z",
     "iopub.status.idle": "2021-09-11T23:15:26.162691Z",
     "shell.execute_reply": "2021-09-11T23:15:26.162022Z"
    }
   },
   "outputs": [],
   "source": [
    "import json, yaml, requests\r\n",
    "from datetime import datetime\r\n",
    "from dateutil import tz\r\n",
    "import pandas as pd\r\n",
    "from PIL import Image\r\n",
    "from io import BytesIO\r\n",
    "import matplotlib.pyplot as plt\r\n",
    "import seaborn\r\n",
    "\r\n",
    "CONFIG_PATH = \"../config/config.yaml\""
   ]
  },
  {
   "cell_type": "code",
   "execution_count": 2,
   "metadata": {
    "execution": {
     "iopub.execute_input": "2021-09-11T23:15:26.168183Z",
     "iopub.status.busy": "2021-09-11T23:15:26.167580Z",
     "iopub.status.idle": "2021-09-11T23:15:26.173158Z",
     "shell.execute_reply": "2021-09-11T23:15:26.173645Z"
    }
   },
   "outputs": [],
   "source": [
    "with open('../newest_ts', 'r') as f:\r\n",
    "    newest_ts = f.read()\r\n",
    "\r\n",
    "data_path = f\"../data/data_{newest_ts}.json\"\r\n",
    "with open(data_path, 'r') as f:\r\n",
    "    data = json.load(f)\r\n",
    "\r\n",
    "with open(CONFIG_PATH, \"r\") as stream:\r\n",
    "    config = yaml.safe_load(stream)\r\n",
    "\r\n",
    "TIME_ZONE = config['time_zone']\r\n",
    "DATETIME_FORMAT = config['dt_format']"
   ]
  },
  {
   "cell_type": "code",
   "execution_count": 3,
   "metadata": {
    "execution": {
     "iopub.execute_input": "2021-09-11T23:15:26.178743Z",
     "iopub.status.busy": "2021-09-11T23:15:26.178141Z",
     "iopub.status.idle": "2021-09-11T23:15:26.189436Z",
     "shell.execute_reply": "2021-09-11T23:15:26.189924Z"
    }
   },
   "outputs": [
    {
     "name": "stdout",
     "output_type": "stream",
     "text": [
      "Recent query happens at 2021-09-12 07:15:19 (CST).\n"
     ]
    }
   ],
   "source": [
    "def ts2dt(ts, format=DATETIME_FORMAT):\r\n",
    "    dt = (datetime.utcfromtimestamp(int(ts))\r\n",
    "                    .replace(tzinfo=tz.tzutc())\r\n",
    "                    # .astimezone(tz.tzlocal())\r\n",
    "                    .astimezone(tz.gettz(TIME_ZONE)))\r\n",
    "    return dt.strftime(format), dt\r\n",
    "\r\n",
    "_, newest_dt = ts2dt(newest_ts)\r\n",
    "print(f\"Recent query happens at {newest_dt.strftime(DATETIME_FORMAT)} ({newest_dt.tzname()}).\")"
   ]
  },
  {
   "cell_type": "code",
   "execution_count": 4,
   "metadata": {
    "execution": {
     "iopub.execute_input": "2021-09-11T23:15:26.196986Z",
     "iopub.status.busy": "2021-09-11T23:15:26.196286Z",
     "iopub.status.idle": "2021-09-11T23:15:26.199172Z",
     "shell.execute_reply": "2021-09-11T23:15:26.199667Z"
    }
   },
   "outputs": [],
   "source": [
    "def degrees_to_cardinal(d):\r\n",
    "  dirs = ['N', 'NNE', 'NE', 'ENE', 'E', 'ESE', 'SE', 'SSE', 'S', 'SSW', 'SW', 'WSW', 'W', 'WNW', 'NW', 'NNW']\r\n",
    "  ix = int(round(d / (360. / len(dirs))))\r\n",
    "  return dirs[ix % len(dirs)]"
   ]
  },
  {
   "cell_type": "code",
   "execution_count": 5,
   "metadata": {
    "execution": {
     "iopub.execute_input": "2021-09-11T23:15:26.205310Z",
     "iopub.status.busy": "2021-09-11T23:15:26.203804Z",
     "iopub.status.idle": "2021-09-11T23:15:26.205954Z",
     "shell.execute_reply": "2021-09-11T23:15:26.206437Z"
    }
   },
   "outputs": [],
   "source": [
    "# data.keys()"
   ]
  },
  {
   "cell_type": "code",
   "execution_count": 6,
   "metadata": {
    "execution": {
     "iopub.execute_input": "2021-09-11T23:15:26.211292Z",
     "iopub.status.busy": "2021-09-11T23:15:26.209847Z",
     "iopub.status.idle": "2021-09-11T23:15:26.211946Z",
     "shell.execute_reply": "2021-09-11T23:15:26.212426Z"
    }
   },
   "outputs": [],
   "source": [
    "# data['current']"
   ]
  },
  {
   "cell_type": "code",
   "execution_count": 7,
   "metadata": {
    "execution": {
     "iopub.execute_input": "2021-09-11T23:15:26.240680Z",
     "iopub.status.busy": "2021-09-11T23:15:26.240032Z",
     "iopub.status.idle": "2021-09-11T23:15:26.679554Z",
     "shell.execute_reply": "2021-09-11T23:15:26.680184Z"
    }
   },
   "outputs": [
    {
     "data": {
      "image/png": "[encoded data removed]",
      "text/plain": [
       "<Figure size 216x216 with 1 Axes>"
      ]
     },
     "metadata": {
      "needs_background": "light"
     },
     "output_type": "display_data"
    },
    {
     "name": "stdout",
     "output_type": "stream",
     "text": [
      "Today, sun rises at 06:08 and sets at 18:30.\n",
      "Currently, the weather is Clouds (scattered clouds).\n",
      "The temperature is 29.95°C and it feels like 36.95°C.\n",
      "The UV index is 0.25, humidity is 86%.\n",
      "The pressure is 1002 hPa, percentage of cloud cover is 46%\n",
      "The wind comes from W direction with a speed 3.46 m/s.\n"
     ]
    }
   ],
   "source": [
    "current = data['current']\r\n",
    "\r\n",
    "fig, ax = plt.subplots(figsize=(3, 3))\r\n",
    "icon = requests.get(f\"http://openweathermap.org/img/wn/{current['weather'][0]['icon']}@2x.png\")\r\n",
    "im = Image.open(BytesIO(icon.content))\r\n",
    "plt.imshow(im)\r\n",
    "ax.set_axis_off()\r\n",
    "plt.show()\r\n",
    "\r\n",
    "print(f\"Today, sun rises at {ts2dt(current['sunrise'], '%H:%M')[0]} \\\r\n",
    "and sets at {ts2dt(current['sunset'], '%H:%M')[0]}.\\n\\\r\n",
    "Currently, the weather is {current['weather'][0]['main']} ({current['weather'][0]['description']}).\\n\\\r\n",
    "The temperature is {current['temp']}°C and it feels like {current['feels_like']}°C.\\n\\\r\n",
    "The UV index is {current['uvi']}, humidity is {current['humidity']}%.\\n\\\r\n",
    "The pressure is {current['pressure']} hPa, percentage of cloud cover is {current['clouds']}%\\n\\\r\n",
    "The wind comes from {degrees_to_cardinal(current['wind_deg'])} direction with a speed {current['wind_speed']} m/s.\")"
   ]
  },
  {
   "cell_type": "code",
   "execution_count": 8,
   "metadata": {
    "execution": {
     "iopub.execute_input": "2021-09-11T23:15:26.683696Z",
     "iopub.status.busy": "2021-09-11T23:15:26.682453Z",
     "iopub.status.idle": "2021-09-11T23:15:26.692124Z",
     "shell.execute_reply": "2021-09-11T23:15:26.692941Z"
    }
   },
   "outputs": [],
   "source": [
    "df_hourly = pd.DataFrame(data['hourly'])\r\n",
    "df_daily = pd.DataFrame(data['daily'])"
   ]
  },
  {
   "cell_type": "code",
   "execution_count": 9,
   "metadata": {
    "execution": {
     "iopub.execute_input": "2021-09-11T23:15:26.697215Z",
     "iopub.status.busy": "2021-09-11T23:15:26.695573Z",
     "iopub.status.idle": "2021-09-11T23:15:27.051247Z",
     "shell.execute_reply": "2021-09-11T23:15:27.050716Z"
    }
   },
   "outputs": [
    {
     "data": {
      "image/png": "[encoded data removed]",
      "text/plain": [
       "<Figure size 864x432 with 1 Axes>"
      ]
     },
     "metadata": {
      "needs_background": "light"
     },
     "output_type": "display_data"
    }
   ],
   "source": [
    "fig, ax = plt.subplots(figsize=(12, 6))\r\n",
    "plt.plot(df_hourly.temp, '.-', label='Temperature')\r\n",
    "plt.plot(df_hourly.feels_like, '.-', label='Feels Like')\r\n",
    "ax.set(title='Temperature in future 48 hours', xlabel='Time', ylabel='Temperature')\r\n",
    "ax.set_xticks(list(range(0, len(df_hourly), 2)))\r\n",
    "ax.set_xticklabels([ts2dt(ts, '%m-%d %H:%M')[0] for i, ts in enumerate(df_hourly.dt) if i%2==0], \r\n",
    "                   rotation=45, ha=\"right\")\r\n",
    "ax.locator_params(nbins=15, axis='y')\r\n",
    "plt.legend()\r\n",
    "plt.show()"
   ]
  },
  {
   "cell_type": "code",
   "execution_count": 10,
   "metadata": {
    "execution": {
     "iopub.execute_input": "2021-09-11T23:15:27.065325Z",
     "iopub.status.busy": "2021-09-11T23:15:27.055787Z",
     "iopub.status.idle": "2021-09-11T23:15:27.079041Z",
     "shell.execute_reply": "2021-09-11T23:15:27.079570Z"
    }
   },
   "outputs": [
    {
     "data": {
      "text/html": [
       "<div>\n",
       "<style scoped>\n",
       "    .dataframe tbody tr th:only-of-type {\n",
       "        vertical-align: middle;\n",
       "    }\n",
       "\n",
       "    .dataframe tbody tr th {\n",
       "        vertical-align: top;\n",
       "    }\n",
       "\n",
       "    .dataframe thead th {\n",
       "        text-align: right;\n",
       "    }\n",
       "</style>\n",
       "<table border=\"1\" class=\"dataframe\">\n",
       "  <thead>\n",
       "    <tr style=\"text-align: right;\">\n",
       "      <th></th>\n",
       "      <th>dt</th>\n",
       "      <th>temp</th>\n",
       "      <th>feels_like</th>\n",
       "      <th>pressure</th>\n",
       "      <th>humidity</th>\n",
       "      <th>dew_point</th>\n",
       "      <th>uvi</th>\n",
       "      <th>clouds</th>\n",
       "      <th>visibility</th>\n",
       "      <th>wind_speed</th>\n",
       "      <th>wind_deg</th>\n",
       "      <th>wind_gust</th>\n",
       "      <th>weather</th>\n",
       "      <th>pop</th>\n",
       "      <th>rain</th>\n",
       "    </tr>\n",
       "  </thead>\n",
       "  <tbody>\n",
       "    <tr>\n",
       "      <th>0</th>\n",
       "      <td>1631401200</td>\n",
       "      <td>29.95</td>\n",
       "      <td>36.95</td>\n",
       "      <td>1002</td>\n",
       "      <td>86</td>\n",
       "      <td>27.35</td>\n",
       "      <td>0.25</td>\n",
       "      <td>46</td>\n",
       "      <td>10000</td>\n",
       "      <td>3.46</td>\n",
       "      <td>279</td>\n",
       "      <td>4.60</td>\n",
       "      <td>[{'id': 500, 'main': 'Rain', 'description': 'l...</td>\n",
       "      <td>0.84</td>\n",
       "      <td>{'1h': 0.17}</td>\n",
       "    </tr>\n",
       "    <tr>\n",
       "      <th>1</th>\n",
       "      <td>1631404800</td>\n",
       "      <td>29.87</td>\n",
       "      <td>36.87</td>\n",
       "      <td>1002</td>\n",
       "      <td>84</td>\n",
       "      <td>26.87</td>\n",
       "      <td>1.33</td>\n",
       "      <td>47</td>\n",
       "      <td>10000</td>\n",
       "      <td>3.27</td>\n",
       "      <td>288</td>\n",
       "      <td>4.16</td>\n",
       "      <td>[{'id': 802, 'main': 'Clouds', 'description': ...</td>\n",
       "      <td>0.85</td>\n",
       "      <td>NaN</td>\n",
       "    </tr>\n",
       "    <tr>\n",
       "      <th>2</th>\n",
       "      <td>1631408400</td>\n",
       "      <td>30.02</td>\n",
       "      <td>37.02</td>\n",
       "      <td>1002</td>\n",
       "      <td>82</td>\n",
       "      <td>26.61</td>\n",
       "      <td>3.60</td>\n",
       "      <td>57</td>\n",
       "      <td>10000</td>\n",
       "      <td>3.33</td>\n",
       "      <td>289</td>\n",
       "      <td>4.12</td>\n",
       "      <td>[{'id': 500, 'main': 'Rain', 'description': 'l...</td>\n",
       "      <td>0.57</td>\n",
       "      <td>{'1h': 0.13}</td>\n",
       "    </tr>\n",
       "    <tr>\n",
       "      <th>3</th>\n",
       "      <td>1631412000</td>\n",
       "      <td>30.59</td>\n",
       "      <td>37.59</td>\n",
       "      <td>1002</td>\n",
       "      <td>77</td>\n",
       "      <td>26.09</td>\n",
       "      <td>6.62</td>\n",
       "      <td>47</td>\n",
       "      <td>10000</td>\n",
       "      <td>3.23</td>\n",
       "      <td>291</td>\n",
       "      <td>3.96</td>\n",
       "      <td>[{'id': 500, 'main': 'Rain', 'description': 'l...</td>\n",
       "      <td>0.72</td>\n",
       "      <td>{'1h': 0.52}</td>\n",
       "    </tr>\n",
       "    <tr>\n",
       "      <th>4</th>\n",
       "      <td>1631415600</td>\n",
       "      <td>31.60</td>\n",
       "      <td>38.60</td>\n",
       "      <td>1002</td>\n",
       "      <td>70</td>\n",
       "      <td>25.46</td>\n",
       "      <td>9.44</td>\n",
       "      <td>44</td>\n",
       "      <td>10000</td>\n",
       "      <td>3.26</td>\n",
       "      <td>281</td>\n",
       "      <td>4.04</td>\n",
       "      <td>[{'id': 802, 'main': 'Clouds', 'description': ...</td>\n",
       "      <td>0.72</td>\n",
       "      <td>NaN</td>\n",
       "    </tr>\n",
       "  </tbody>\n",
       "</table>\n",
       "</div>"
      ],
      "text/plain": [
       "           dt   temp  feels_like  pressure  humidity  dew_point   uvi  clouds  \\\n",
       "0  1631401200  29.95       36.95      1002        86      27.35  0.25      46   \n",
       "1  1631404800  29.87       36.87      1002        84      26.87  1.33      47   \n",
       "2  1631408400  30.02       37.02      1002        82      26.61  3.60      57   \n",
       "3  1631412000  30.59       37.59      1002        77      26.09  6.62      47   \n",
       "4  1631415600  31.60       38.60      1002        70      25.46  9.44      44   \n",
       "\n",
       "   visibility  wind_speed  wind_deg  wind_gust  \\\n",
       "0       10000        3.46       279       4.60   \n",
       "1       10000        3.27       288       4.16   \n",
       "2       10000        3.33       289       4.12   \n",
       "3       10000        3.23       291       3.96   \n",
       "4       10000        3.26       281       4.04   \n",
       "\n",
       "                                             weather   pop          rain  \n",
       "0  [{'id': 500, 'main': 'Rain', 'description': 'l...  0.84  {'1h': 0.17}  \n",
       "1  [{'id': 802, 'main': 'Clouds', 'description': ...  0.85           NaN  \n",
       "2  [{'id': 500, 'main': 'Rain', 'description': 'l...  0.57  {'1h': 0.13}  \n",
       "3  [{'id': 500, 'main': 'Rain', 'description': 'l...  0.72  {'1h': 0.52}  \n",
       "4  [{'id': 802, 'main': 'Clouds', 'description': ...  0.72           NaN  "
      ]
     },
     "execution_count": 10,
     "metadata": {},
     "output_type": "execute_result"
    }
   ],
   "source": [
    "df_hourly.head()"
   ]
  },
  {
   "cell_type": "code",
   "execution_count": null,
   "metadata": {},
   "outputs": [],
   "source": []
  }
 ],
 "metadata": {
  "interpreter": {
   "hash": "c1b4cfe941b6d2466ad1fb5979e97da9cda8801728c8091b097ab734208fc00c"
  },
  "kernelspec": {
   "display_name": "Python 3.8.3 64-bit ('base': conda)",
   "name": "python3"
  },
  "language_info": {
   "codemirror_mode": {
    "name": "ipython",
    "version": 3
   },
   "file_extension": ".py",
   "mimetype": "text/x-python",
   "name": "python",
   "nbconvert_exporter": "python",
   "pygments_lexer": "ipython3",
   "version": "3.8.11"
  }
 },
 "nbformat": 4,
 "nbformat_minor": 2
}
