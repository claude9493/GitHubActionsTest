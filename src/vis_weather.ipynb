{
 "cells": [
  {
   "cell_type": "code",
   "execution_count": 1,
   "metadata": {
    "execution": {
     "iopub.execute_input": "2021-10-11T04:14:58.406595Z",
     "iopub.status.busy": "2021-10-11T04:14:58.405856Z",
     "iopub.status.idle": "2021-10-11T04:15:00.473862Z",
     "shell.execute_reply": "2021-10-11T04:15:00.472686Z"
    }
   },
   "outputs": [],
   "source": [
    "import json, yaml, requests\r\n",
    "from datetime import datetime\r\n",
    "from dateutil import tz\r\n",
    "import pandas as pd\r\n",
    "from PIL import Image\r\n",
    "from io import BytesIO\r\n",
    "import matplotlib.pyplot as plt\r\n",
    "import seaborn\r\n",
    "\r\n",
    "CONFIG_PATH = \"../config/config.yaml\""
   ]
  },
  {
   "cell_type": "code",
   "execution_count": 2,
   "metadata": {
    "execution": {
     "iopub.execute_input": "2021-10-11T04:15:00.478879Z",
     "iopub.status.busy": "2021-10-11T04:15:00.476293Z",
     "iopub.status.idle": "2021-10-11T04:15:00.484867Z",
     "shell.execute_reply": "2021-10-11T04:15:00.484370Z"
    }
   },
   "outputs": [],
   "source": [
    "with open('../newest_ts', 'r') as f:\r\n",
    "    newest_ts = f.read()\r\n",
    "\r\n",
    "data_path = f\"../data/data_{newest_ts}.json\"\r\n",
    "with open(data_path, 'r') as f:\r\n",
    "    data = json.load(f)\r\n",
    "\r\n",
    "with open(CONFIG_PATH, \"r\") as stream:\r\n",
    "    config = yaml.safe_load(stream)\r\n",
    "\r\n",
    "TIME_ZONE = config['time_zone']\r\n",
    "DATETIME_FORMAT = config['dt_format']"
   ]
  },
  {
   "cell_type": "code",
   "execution_count": 3,
   "metadata": {
    "execution": {
     "iopub.execute_input": "2021-10-11T04:15:00.489845Z",
     "iopub.status.busy": "2021-10-11T04:15:00.489264Z",
     "iopub.status.idle": "2021-10-11T04:15:00.509118Z",
     "shell.execute_reply": "2021-10-11T04:15:00.509630Z"
    }
   },
   "outputs": [
    {
     "name": "stdout",
     "output_type": "stream",
     "text": [
      "Recent query happens at 2021-10-11 12:14:54 (CST).\n"
     ]
    }
   ],
   "source": [
    "def ts2dt(ts, format=DATETIME_FORMAT):\r\n",
    "    dt = (datetime.utcfromtimestamp(int(ts))\r\n",
    "                    .replace(tzinfo=tz.tzutc())\r\n",
    "                    # .astimezone(tz.tzlocal())\r\n",
    "                    .astimezone(tz.gettz(TIME_ZONE)))\r\n",
    "    return dt.strftime(format), dt\r\n",
    "\r\n",
    "_, newest_dt = ts2dt(newest_ts)\r\n",
    "print(f\"Recent query happens at {newest_dt.strftime(DATETIME_FORMAT)} ({newest_dt.tzname()}).\")"
   ]
  },
  {
   "cell_type": "code",
   "execution_count": 4,
   "metadata": {
    "execution": {
     "iopub.execute_input": "2021-10-11T04:15:00.516358Z",
     "iopub.status.busy": "2021-10-11T04:15:00.514959Z",
     "iopub.status.idle": "2021-10-11T04:15:00.517025Z",
     "shell.execute_reply": "2021-10-11T04:15:00.517517Z"
    }
   },
   "outputs": [],
   "source": [
    "def degrees_to_cardinal(d):\r\n",
    "  dirs = ['N', 'NNE', 'NE', 'ENE', 'E', 'ESE', 'SE', 'SSE', 'S', 'SSW', 'SW', 'WSW', 'W', 'WNW', 'NW', 'NNW']\r\n",
    "  ix = int(round(d / (360. / len(dirs))))\r\n",
    "  return dirs[ix % len(dirs)]"
   ]
  },
  {
   "cell_type": "code",
   "execution_count": 5,
   "metadata": {
    "execution": {
     "iopub.execute_input": "2021-10-11T04:15:00.521483Z",
     "iopub.status.busy": "2021-10-11T04:15:00.520885Z",
     "iopub.status.idle": "2021-10-11T04:15:00.523769Z",
     "shell.execute_reply": "2021-10-11T04:15:00.523240Z"
    }
   },
   "outputs": [],
   "source": [
    "# data.keys()"
   ]
  },
  {
   "cell_type": "code",
   "execution_count": 6,
   "metadata": {
    "execution": {
     "iopub.execute_input": "2021-10-11T04:15:00.528924Z",
     "iopub.status.busy": "2021-10-11T04:15:00.527304Z",
     "iopub.status.idle": "2021-10-11T04:15:00.529626Z",
     "shell.execute_reply": "2021-10-11T04:15:00.530147Z"
    }
   },
   "outputs": [],
   "source": [
    "# data['current']"
   ]
  },
  {
   "cell_type": "code",
   "execution_count": 7,
   "metadata": {
    "execution": {
     "iopub.execute_input": "2021-10-11T04:15:00.553537Z",
     "iopub.status.busy": "2021-10-11T04:15:00.552622Z",
     "iopub.status.idle": "2021-10-11T04:15:00.966474Z",
     "shell.execute_reply": "2021-10-11T04:15:00.967756Z"
    }
   },
   "outputs": [
    {
     "data": {
      "image/png": "[encoded data removed]",
      "text/plain": [
       "<Figure size 216x216 with 1 Axes>"
      ]
     },
     "metadata": {
      "needs_background": "light"
     },
     "output_type": "display_data"
    },
    {
     "name": "stdout",
     "output_type": "stream",
     "text": [
      "Today, sun rises at 06:17 and sets at 18:01.\n",
      "Currently, the weather is Clouds (broken clouds).\n",
      "The temperature is 31.4°C and it feels like 34.93°C.\n",
      "The UV index is 8.69, humidity is 57%.\n",
      "The pressure is 1006 hPa, percentage of cloud cover is 56%\n",
      "The wind comes from N direction with a speed 5.36 m/s.\n"
     ]
    }
   ],
   "source": [
    "current = data['current']\r\n",
    "\r\n",
    "fig, ax = plt.subplots(figsize=(3, 3))\r\n",
    "icon = requests.get(f\"http://openweathermap.org/img/wn/{current['weather'][0]['icon']}@2x.png\")\r\n",
    "im = Image.open(BytesIO(icon.content))\r\n",
    "plt.imshow(im)\r\n",
    "ax.set_axis_off()\r\n",
    "plt.show()\r\n",
    "\r\n",
    "print(f\"Today, sun rises at {ts2dt(current['sunrise'], '%H:%M')[0]} \\\r\n",
    "and sets at {ts2dt(current['sunset'], '%H:%M')[0]}.\\n\\\r\n",
    "Currently, the weather is {current['weather'][0]['main']} ({current['weather'][0]['description']}).\\n\\\r\n",
    "The temperature is {current['temp']}°C and it feels like {current['feels_like']}°C.\\n\\\r\n",
    "The UV index is {current['uvi']}, humidity is {current['humidity']}%.\\n\\\r\n",
    "The pressure is {current['pressure']} hPa, percentage of cloud cover is {current['clouds']}%\\n\\\r\n",
    "The wind comes from {degrees_to_cardinal(current['wind_deg'])} direction with a speed {current['wind_speed']} m/s.\")"
   ]
  },
  {
   "cell_type": "code",
   "execution_count": 8,
   "metadata": {
    "execution": {
     "iopub.execute_input": "2021-10-11T04:15:00.974213Z",
     "iopub.status.busy": "2021-10-11T04:15:00.973122Z",
     "iopub.status.idle": "2021-10-11T04:15:00.981637Z",
     "shell.execute_reply": "2021-10-11T04:15:00.981128Z"
    }
   },
   "outputs": [],
   "source": [
    "df_hourly = pd.DataFrame(data['hourly'])\r\n",
    "df_daily = pd.DataFrame(data['daily'])"
   ]
  },
  {
   "cell_type": "code",
   "execution_count": 9,
   "metadata": {
    "execution": {
     "iopub.execute_input": "2021-10-11T04:15:00.998872Z",
     "iopub.status.busy": "2021-10-11T04:15:00.995684Z",
     "iopub.status.idle": "2021-10-11T04:15:01.322546Z",
     "shell.execute_reply": "2021-10-11T04:15:01.323022Z"
    }
   },
   "outputs": [
    {
     "data": {
      "image/png": "[encoded data removed]",
      "text/plain": [
       "<Figure size 864x432 with 1 Axes>"
      ]
     },
     "metadata": {
      "needs_background": "light"
     },
     "output_type": "display_data"
    }
   ],
   "source": [
    "fig, ax = plt.subplots(figsize=(12, 6))\r\n",
    "plt.plot(df_hourly.temp, '.-', label='Temperature')\r\n",
    "plt.plot(df_hourly.feels_like, '.-', label='Feels Like')\r\n",
    "ax.set(title='Temperature in future 48 hours', xlabel='Time', ylabel='Temperature')\r\n",
    "ax.set_xticks(list(range(0, len(df_hourly), 2)))\r\n",
    "ax.set_xticklabels([ts2dt(ts, '%m-%d %H:%M')[0] for i, ts in enumerate(df_hourly.dt) if i%2==0], \r\n",
    "                   rotation=45, ha=\"right\")\r\n",
    "ax.locator_params(nbins=15, axis='y')\r\n",
    "plt.legend()\r\n",
    "plt.show()"
   ]
  },
  {
   "cell_type": "code",
   "execution_count": 10,
   "metadata": {
    "execution": {
     "iopub.execute_input": "2021-10-11T04:15:01.337299Z",
     "iopub.status.busy": "2021-10-11T04:15:01.327578Z",
     "iopub.status.idle": "2021-10-11T04:15:01.353796Z",
     "shell.execute_reply": "2021-10-11T04:15:01.354304Z"
    }
   },
   "outputs": [
    {
     "data": {
      "text/html": [
       "<div>\n",
       "<style scoped>\n",
       "    .dataframe tbody tr th:only-of-type {\n",
       "        vertical-align: middle;\n",
       "    }\n",
       "\n",
       "    .dataframe tbody tr th {\n",
       "        vertical-align: top;\n",
       "    }\n",
       "\n",
       "    .dataframe thead th {\n",
       "        text-align: right;\n",
       "    }\n",
       "</style>\n",
       "<table border=\"1\" class=\"dataframe\">\n",
       "  <thead>\n",
       "    <tr style=\"text-align: right;\">\n",
       "      <th></th>\n",
       "      <th>dt</th>\n",
       "      <th>temp</th>\n",
       "      <th>feels_like</th>\n",
       "      <th>pressure</th>\n",
       "      <th>humidity</th>\n",
       "      <th>dew_point</th>\n",
       "      <th>uvi</th>\n",
       "      <th>clouds</th>\n",
       "      <th>visibility</th>\n",
       "      <th>wind_speed</th>\n",
       "      <th>wind_deg</th>\n",
       "      <th>wind_gust</th>\n",
       "      <th>weather</th>\n",
       "      <th>pop</th>\n",
       "      <th>rain</th>\n",
       "    </tr>\n",
       "  </thead>\n",
       "  <tbody>\n",
       "    <tr>\n",
       "      <th>0</th>\n",
       "      <td>1633924800</td>\n",
       "      <td>31.40</td>\n",
       "      <td>34.93</td>\n",
       "      <td>1006</td>\n",
       "      <td>57</td>\n",
       "      <td>21.86</td>\n",
       "      <td>8.69</td>\n",
       "      <td>56</td>\n",
       "      <td>10000</td>\n",
       "      <td>8.14</td>\n",
       "      <td>6</td>\n",
       "      <td>10.60</td>\n",
       "      <td>[{'id': 803, 'main': 'Clouds', 'description': ...</td>\n",
       "      <td>0.0</td>\n",
       "      <td>NaN</td>\n",
       "    </tr>\n",
       "    <tr>\n",
       "      <th>1</th>\n",
       "      <td>1633928400</td>\n",
       "      <td>30.89</td>\n",
       "      <td>34.37</td>\n",
       "      <td>1006</td>\n",
       "      <td>59</td>\n",
       "      <td>21.95</td>\n",
       "      <td>8.53</td>\n",
       "      <td>58</td>\n",
       "      <td>10000</td>\n",
       "      <td>8.68</td>\n",
       "      <td>4</td>\n",
       "      <td>10.94</td>\n",
       "      <td>[{'id': 803, 'main': 'Clouds', 'description': ...</td>\n",
       "      <td>0.0</td>\n",
       "      <td>NaN</td>\n",
       "    </tr>\n",
       "    <tr>\n",
       "      <th>2</th>\n",
       "      <td>1633932000</td>\n",
       "      <td>30.42</td>\n",
       "      <td>33.43</td>\n",
       "      <td>1006</td>\n",
       "      <td>59</td>\n",
       "      <td>21.51</td>\n",
       "      <td>6.89</td>\n",
       "      <td>60</td>\n",
       "      <td>10000</td>\n",
       "      <td>8.71</td>\n",
       "      <td>10</td>\n",
       "      <td>10.97</td>\n",
       "      <td>[{'id': 803, 'main': 'Clouds', 'description': ...</td>\n",
       "      <td>0.0</td>\n",
       "      <td>NaN</td>\n",
       "    </tr>\n",
       "    <tr>\n",
       "      <th>3</th>\n",
       "      <td>1633935600</td>\n",
       "      <td>29.71</td>\n",
       "      <td>32.48</td>\n",
       "      <td>1005</td>\n",
       "      <td>61</td>\n",
       "      <td>21.39</td>\n",
       "      <td>4.74</td>\n",
       "      <td>64</td>\n",
       "      <td>10000</td>\n",
       "      <td>9.21</td>\n",
       "      <td>6</td>\n",
       "      <td>11.59</td>\n",
       "      <td>[{'id': 803, 'main': 'Clouds', 'description': ...</td>\n",
       "      <td>0.0</td>\n",
       "      <td>NaN</td>\n",
       "    </tr>\n",
       "    <tr>\n",
       "      <th>4</th>\n",
       "      <td>1633939200</td>\n",
       "      <td>28.70</td>\n",
       "      <td>30.97</td>\n",
       "      <td>1004</td>\n",
       "      <td>63</td>\n",
       "      <td>20.96</td>\n",
       "      <td>2.24</td>\n",
       "      <td>50</td>\n",
       "      <td>10000</td>\n",
       "      <td>9.01</td>\n",
       "      <td>6</td>\n",
       "      <td>11.99</td>\n",
       "      <td>[{'id': 802, 'main': 'Clouds', 'description': ...</td>\n",
       "      <td>0.0</td>\n",
       "      <td>NaN</td>\n",
       "    </tr>\n",
       "  </tbody>\n",
       "</table>\n",
       "</div>"
      ],
      "text/plain": [
       "           dt   temp  feels_like  pressure  humidity  dew_point   uvi  clouds  \\\n",
       "0  1633924800  31.40       34.93      1006        57      21.86  8.69      56   \n",
       "1  1633928400  30.89       34.37      1006        59      21.95  8.53      58   \n",
       "2  1633932000  30.42       33.43      1006        59      21.51  6.89      60   \n",
       "3  1633935600  29.71       32.48      1005        61      21.39  4.74      64   \n",
       "4  1633939200  28.70       30.97      1004        63      20.96  2.24      50   \n",
       "\n",
       "   visibility  wind_speed  wind_deg  wind_gust  \\\n",
       "0       10000        8.14         6      10.60   \n",
       "1       10000        8.68         4      10.94   \n",
       "2       10000        8.71        10      10.97   \n",
       "3       10000        9.21         6      11.59   \n",
       "4       10000        9.01         6      11.99   \n",
       "\n",
       "                                             weather  pop rain  \n",
       "0  [{'id': 803, 'main': 'Clouds', 'description': ...  0.0  NaN  \n",
       "1  [{'id': 803, 'main': 'Clouds', 'description': ...  0.0  NaN  \n",
       "2  [{'id': 803, 'main': 'Clouds', 'description': ...  0.0  NaN  \n",
       "3  [{'id': 803, 'main': 'Clouds', 'description': ...  0.0  NaN  \n",
       "4  [{'id': 802, 'main': 'Clouds', 'description': ...  0.0  NaN  "
      ]
     },
     "execution_count": 10,
     "metadata": {},
     "output_type": "execute_result"
    }
   ],
   "source": [
    "df_hourly.head()"
   ]
  },
  {
   "cell_type": "code",
   "execution_count": null,
   "metadata": {},
   "outputs": [],
   "source": []
  }
 ],
 "metadata": {
  "interpreter": {
   "hash": "c1b4cfe941b6d2466ad1fb5979e97da9cda8801728c8091b097ab734208fc00c"
  },
  "kernelspec": {
   "display_name": "Python 3.8.3 64-bit ('base': conda)",
   "name": "python3"
  },
  "language_info": {
   "codemirror_mode": {
    "name": "ipython",
    "version": 3
   },
   "file_extension": ".py",
   "mimetype": "text/x-python",
   "name": "python",
   "nbconvert_exporter": "python",
   "pygments_lexer": "ipython3",
   "version": "3.8.12"
  }
 },
 "nbformat": 4,
 "nbformat_minor": 2
}
