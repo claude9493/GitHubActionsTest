{
 "cells": [
  {
   "cell_type": "code",
   "execution_count": 1,
   "metadata": {
    "execution": {
     "iopub.execute_input": "2021-10-12T21:10:22.995626Z",
     "iopub.status.busy": "2021-10-12T21:10:22.994927Z",
     "iopub.status.idle": "2021-10-12T21:10:24.515419Z",
     "shell.execute_reply": "2021-10-12T21:10:24.514779Z"
    }
   },
   "outputs": [],
   "source": [
    "import json, yaml, requests\r\n",
    "from datetime import datetime\r\n",
    "from dateutil import tz\r\n",
    "import pandas as pd\r\n",
    "from PIL import Image\r\n",
    "from io import BytesIO\r\n",
    "import matplotlib.pyplot as plt\r\n",
    "import seaborn\r\n",
    "\r\n",
    "CONFIG_PATH = \"../config/config.yaml\""
   ]
  },
  {
   "cell_type": "code",
   "execution_count": 2,
   "metadata": {
    "execution": {
     "iopub.execute_input": "2021-10-12T21:10:24.522183Z",
     "iopub.status.busy": "2021-10-12T21:10:24.520913Z",
     "iopub.status.idle": "2021-10-12T21:10:24.527542Z",
     "shell.execute_reply": "2021-10-12T21:10:24.526932Z"
    }
   },
   "outputs": [],
   "source": [
    "with open('../newest_ts', 'r') as f:\r\n",
    "    newest_ts = f.read()\r\n",
    "\r\n",
    "data_path = f\"../data/data_{newest_ts}.json\"\r\n",
    "with open(data_path, 'r') as f:\r\n",
    "    data = json.load(f)\r\n",
    "\r\n",
    "with open(CONFIG_PATH, \"r\") as stream:\r\n",
    "    config = yaml.safe_load(stream)\r\n",
    "\r\n",
    "TIME_ZONE = config['time_zone']\r\n",
    "DATETIME_FORMAT = config['dt_format']"
   ]
  },
  {
   "cell_type": "code",
   "execution_count": 3,
   "metadata": {
    "execution": {
     "iopub.execute_input": "2021-10-12T21:10:24.532733Z",
     "iopub.status.busy": "2021-10-12T21:10:24.532136Z",
     "iopub.status.idle": "2021-10-12T21:10:24.545186Z",
     "shell.execute_reply": "2021-10-12T21:10:24.545684Z"
    }
   },
   "outputs": [
    {
     "name": "stdout",
     "output_type": "stream",
     "text": [
      "Recent query happens at 2021-10-13 05:10:19 (CST).\n"
     ]
    }
   ],
   "source": [
    "def ts2dt(ts, format=DATETIME_FORMAT):\r\n",
    "    dt = (datetime.utcfromtimestamp(int(ts))\r\n",
    "                    .replace(tzinfo=tz.tzutc())\r\n",
    "                    # .astimezone(tz.tzlocal())\r\n",
    "                    .astimezone(tz.gettz(TIME_ZONE)))\r\n",
    "    return dt.strftime(format), dt\r\n",
    "\r\n",
    "_, newest_dt = ts2dt(newest_ts)\r\n",
    "print(f\"Recent query happens at {newest_dt.strftime(DATETIME_FORMAT)} ({newest_dt.tzname()}).\")"
   ]
  },
  {
   "cell_type": "code",
   "execution_count": 4,
   "metadata": {
    "execution": {
     "iopub.execute_input": "2021-10-12T21:10:24.552121Z",
     "iopub.status.busy": "2021-10-12T21:10:24.551470Z",
     "iopub.status.idle": "2021-10-12T21:10:24.554914Z",
     "shell.execute_reply": "2021-10-12T21:10:24.554286Z"
    }
   },
   "outputs": [],
   "source": [
    "def degrees_to_cardinal(d):\r\n",
    "  dirs = ['N', 'NNE', 'NE', 'ENE', 'E', 'ESE', 'SE', 'SSE', 'S', 'SSW', 'SW', 'WSW', 'W', 'WNW', 'NW', 'NNW']\r\n",
    "  ix = int(round(d / (360. / len(dirs))))\r\n",
    "  return dirs[ix % len(dirs)]"
   ]
  },
  {
   "cell_type": "code",
   "execution_count": 5,
   "metadata": {
    "execution": {
     "iopub.execute_input": "2021-10-12T21:10:24.560024Z",
     "iopub.status.busy": "2021-10-12T21:10:24.558560Z",
     "iopub.status.idle": "2021-10-12T21:10:24.560838Z",
     "shell.execute_reply": "2021-10-12T21:10:24.561334Z"
    }
   },
   "outputs": [],
   "source": [
    "# data.keys()"
   ]
  },
  {
   "cell_type": "code",
   "execution_count": 6,
   "metadata": {
    "execution": {
     "iopub.execute_input": "2021-10-12T21:10:24.565895Z",
     "iopub.status.busy": "2021-10-12T21:10:24.564578Z",
     "iopub.status.idle": "2021-10-12T21:10:24.566586Z",
     "shell.execute_reply": "2021-10-12T21:10:24.567227Z"
    }
   },
   "outputs": [],
   "source": [
    "# data['current']"
   ]
  },
  {
   "cell_type": "code",
   "execution_count": 7,
   "metadata": {
    "execution": {
     "iopub.execute_input": "2021-10-12T21:10:24.590618Z",
     "iopub.status.busy": "2021-10-12T21:10:24.589953Z",
     "iopub.status.idle": "2021-10-12T21:10:24.997884Z",
     "shell.execute_reply": "2021-10-12T21:10:24.998721Z"
    }
   },
   "outputs": [
    {
     "data": {
      "image/png": "[encoded data removed]",
      "text/plain": [
       "<Figure size 216x216 with 1 Axes>"
      ]
     },
     "metadata": {
      "needs_background": "light"
     },
     "output_type": "display_data"
    },
    {
     "name": "stdout",
     "output_type": "stream",
     "text": [
      "Today, sun rises at 06:18 and sets at 17:59.\n",
      "Currently, the weather is Rain (light rain).\n",
      "The temperature is 23.38°C and it feels like 24.1°C.\n",
      "The UV index is 0, humidity is 89%.\n",
      "The pressure is 997 hPa, percentage of cloud cover is 100%\n",
      "The wind comes from SW direction with a speed 0.45 m/s.\n"
     ]
    }
   ],
   "source": [
    "current = data['current']\r\n",
    "\r\n",
    "fig, ax = plt.subplots(figsize=(3, 3))\r\n",
    "icon = requests.get(f\"http://openweathermap.org/img/wn/{current['weather'][0]['icon']}@2x.png\")\r\n",
    "im = Image.open(BytesIO(icon.content))\r\n",
    "plt.imshow(im)\r\n",
    "ax.set_axis_off()\r\n",
    "plt.show()\r\n",
    "\r\n",
    "print(f\"Today, sun rises at {ts2dt(current['sunrise'], '%H:%M')[0]} \\\r\n",
    "and sets at {ts2dt(current['sunset'], '%H:%M')[0]}.\\n\\\r\n",
    "Currently, the weather is {current['weather'][0]['main']} ({current['weather'][0]['description']}).\\n\\\r\n",
    "The temperature is {current['temp']}°C and it feels like {current['feels_like']}°C.\\n\\\r\n",
    "The UV index is {current['uvi']}, humidity is {current['humidity']}%.\\n\\\r\n",
    "The pressure is {current['pressure']} hPa, percentage of cloud cover is {current['clouds']}%\\n\\\r\n",
    "The wind comes from {degrees_to_cardinal(current['wind_deg'])} direction with a speed {current['wind_speed']} m/s.\")"
   ]
  },
  {
   "cell_type": "code",
   "execution_count": 8,
   "metadata": {
    "execution": {
     "iopub.execute_input": "2021-10-12T21:10:25.002447Z",
     "iopub.status.busy": "2021-10-12T21:10:25.001803Z",
     "iopub.status.idle": "2021-10-12T21:10:25.009681Z",
     "shell.execute_reply": "2021-10-12T21:10:25.010476Z"
    }
   },
   "outputs": [],
   "source": [
    "df_hourly = pd.DataFrame(data['hourly'])\r\n",
    "df_daily = pd.DataFrame(data['daily'])"
   ]
  },
  {
   "cell_type": "code",
   "execution_count": 9,
   "metadata": {
    "execution": {
     "iopub.execute_input": "2021-10-12T21:10:25.013991Z",
     "iopub.status.busy": "2021-10-12T21:10:25.013387Z",
     "iopub.status.idle": "2021-10-12T21:10:25.328584Z",
     "shell.execute_reply": "2021-10-12T21:10:25.329217Z"
    }
   },
   "outputs": [
    {
     "data": {
      "image/png": "[encoded data removed]",
      "text/plain": [
       "<Figure size 864x432 with 1 Axes>"
      ]
     },
     "metadata": {
      "needs_background": "light"
     },
     "output_type": "display_data"
    }
   ],
   "source": [
    "fig, ax = plt.subplots(figsize=(12, 6))\r\n",
    "plt.plot(df_hourly.temp, '.-', label='Temperature')\r\n",
    "plt.plot(df_hourly.feels_like, '.-', label='Feels Like')\r\n",
    "ax.set(title='Temperature in future 48 hours', xlabel='Time', ylabel='Temperature')\r\n",
    "ax.set_xticks(list(range(0, len(df_hourly), 2)))\r\n",
    "ax.set_xticklabels([ts2dt(ts, '%m-%d %H:%M')[0] for i, ts in enumerate(df_hourly.dt) if i%2==0], \r\n",
    "                   rotation=45, ha=\"right\")\r\n",
    "ax.locator_params(nbins=15, axis='y')\r\n",
    "plt.legend()\r\n",
    "plt.show()"
   ]
  },
  {
   "cell_type": "code",
   "execution_count": 10,
   "metadata": {
    "execution": {
     "iopub.execute_input": "2021-10-12T21:10:25.342849Z",
     "iopub.status.busy": "2021-10-12T21:10:25.333720Z",
     "iopub.status.idle": "2021-10-12T21:10:25.356543Z",
     "shell.execute_reply": "2021-10-12T21:10:25.357047Z"
    }
   },
   "outputs": [
    {
     "data": {
      "text/html": [
       "<div>\n",
       "<style scoped>\n",
       "    .dataframe tbody tr th:only-of-type {\n",
       "        vertical-align: middle;\n",
       "    }\n",
       "\n",
       "    .dataframe tbody tr th {\n",
       "        vertical-align: top;\n",
       "    }\n",
       "\n",
       "    .dataframe thead th {\n",
       "        text-align: right;\n",
       "    }\n",
       "</style>\n",
       "<table border=\"1\" class=\"dataframe\">\n",
       "  <thead>\n",
       "    <tr style=\"text-align: right;\">\n",
       "      <th></th>\n",
       "      <th>dt</th>\n",
       "      <th>temp</th>\n",
       "      <th>feels_like</th>\n",
       "      <th>pressure</th>\n",
       "      <th>humidity</th>\n",
       "      <th>dew_point</th>\n",
       "      <th>uvi</th>\n",
       "      <th>clouds</th>\n",
       "      <th>visibility</th>\n",
       "      <th>wind_speed</th>\n",
       "      <th>wind_deg</th>\n",
       "      <th>wind_gust</th>\n",
       "      <th>weather</th>\n",
       "      <th>pop</th>\n",
       "      <th>rain</th>\n",
       "    </tr>\n",
       "  </thead>\n",
       "  <tbody>\n",
       "    <tr>\n",
       "      <th>0</th>\n",
       "      <td>1634072400</td>\n",
       "      <td>23.38</td>\n",
       "      <td>24.10</td>\n",
       "      <td>997</td>\n",
       "      <td>89</td>\n",
       "      <td>21.46</td>\n",
       "      <td>0.00</td>\n",
       "      <td>100</td>\n",
       "      <td>10000</td>\n",
       "      <td>14.29</td>\n",
       "      <td>45</td>\n",
       "      <td>23.59</td>\n",
       "      <td>[{'id': 501, 'main': 'Rain', 'description': 'm...</td>\n",
       "      <td>0.75</td>\n",
       "      <td>{'1h': 1.47}</td>\n",
       "    </tr>\n",
       "    <tr>\n",
       "      <th>1</th>\n",
       "      <td>1634076000</td>\n",
       "      <td>23.54</td>\n",
       "      <td>24.25</td>\n",
       "      <td>997</td>\n",
       "      <td>88</td>\n",
       "      <td>21.44</td>\n",
       "      <td>0.00</td>\n",
       "      <td>100</td>\n",
       "      <td>4371</td>\n",
       "      <td>15.09</td>\n",
       "      <td>50</td>\n",
       "      <td>24.59</td>\n",
       "      <td>[{'id': 501, 'main': 'Rain', 'description': 'm...</td>\n",
       "      <td>0.79</td>\n",
       "      <td>{'1h': 2.05}</td>\n",
       "    </tr>\n",
       "    <tr>\n",
       "      <th>2</th>\n",
       "      <td>1634079600</td>\n",
       "      <td>23.70</td>\n",
       "      <td>24.50</td>\n",
       "      <td>998</td>\n",
       "      <td>91</td>\n",
       "      <td>22.14</td>\n",
       "      <td>0.00</td>\n",
       "      <td>100</td>\n",
       "      <td>2268</td>\n",
       "      <td>15.16</td>\n",
       "      <td>63</td>\n",
       "      <td>23.84</td>\n",
       "      <td>[{'id': 500, 'main': 'Rain', 'description': 'l...</td>\n",
       "      <td>0.83</td>\n",
       "      <td>{'1h': 0.36}</td>\n",
       "    </tr>\n",
       "    <tr>\n",
       "      <th>3</th>\n",
       "      <td>1634083200</td>\n",
       "      <td>24.36</td>\n",
       "      <td>25.25</td>\n",
       "      <td>1000</td>\n",
       "      <td>92</td>\n",
       "      <td>22.98</td>\n",
       "      <td>0.16</td>\n",
       "      <td>100</td>\n",
       "      <td>7126</td>\n",
       "      <td>13.76</td>\n",
       "      <td>79</td>\n",
       "      <td>20.53</td>\n",
       "      <td>[{'id': 502, 'main': 'Rain', 'description': 'h...</td>\n",
       "      <td>0.95</td>\n",
       "      <td>{'1h': 13.89}</td>\n",
       "    </tr>\n",
       "    <tr>\n",
       "      <th>4</th>\n",
       "      <td>1634086800</td>\n",
       "      <td>25.06</td>\n",
       "      <td>26.02</td>\n",
       "      <td>1002</td>\n",
       "      <td>92</td>\n",
       "      <td>23.67</td>\n",
       "      <td>0.14</td>\n",
       "      <td>100</td>\n",
       "      <td>6584</td>\n",
       "      <td>12.21</td>\n",
       "      <td>77</td>\n",
       "      <td>17.69</td>\n",
       "      <td>[{'id': 501, 'main': 'Rain', 'description': 'm...</td>\n",
       "      <td>0.99</td>\n",
       "      <td>{'1h': 2.43}</td>\n",
       "    </tr>\n",
       "  </tbody>\n",
       "</table>\n",
       "</div>"
      ],
      "text/plain": [
       "           dt   temp  feels_like  pressure  humidity  dew_point   uvi  clouds  \\\n",
       "0  1634072400  23.38       24.10       997        89      21.46  0.00     100   \n",
       "1  1634076000  23.54       24.25       997        88      21.44  0.00     100   \n",
       "2  1634079600  23.70       24.50       998        91      22.14  0.00     100   \n",
       "3  1634083200  24.36       25.25      1000        92      22.98  0.16     100   \n",
       "4  1634086800  25.06       26.02      1002        92      23.67  0.14     100   \n",
       "\n",
       "   visibility  wind_speed  wind_deg  wind_gust  \\\n",
       "0       10000       14.29        45      23.59   \n",
       "1        4371       15.09        50      24.59   \n",
       "2        2268       15.16        63      23.84   \n",
       "3        7126       13.76        79      20.53   \n",
       "4        6584       12.21        77      17.69   \n",
       "\n",
       "                                             weather   pop           rain  \n",
       "0  [{'id': 501, 'main': 'Rain', 'description': 'm...  0.75   {'1h': 1.47}  \n",
       "1  [{'id': 501, 'main': 'Rain', 'description': 'm...  0.79   {'1h': 2.05}  \n",
       "2  [{'id': 500, 'main': 'Rain', 'description': 'l...  0.83   {'1h': 0.36}  \n",
       "3  [{'id': 502, 'main': 'Rain', 'description': 'h...  0.95  {'1h': 13.89}  \n",
       "4  [{'id': 501, 'main': 'Rain', 'description': 'm...  0.99   {'1h': 2.43}  "
      ]
     },
     "execution_count": 10,
     "metadata": {},
     "output_type": "execute_result"
    }
   ],
   "source": [
    "df_hourly.head()"
   ]
  },
  {
   "cell_type": "code",
   "execution_count": null,
   "metadata": {},
   "outputs": [],
   "source": []
  }
 ],
 "metadata": {
  "interpreter": {
   "hash": "c1b4cfe941b6d2466ad1fb5979e97da9cda8801728c8091b097ab734208fc00c"
  },
  "kernelspec": {
   "display_name": "Python 3.8.3 64-bit ('base': conda)",
   "name": "python3"
  },
  "language_info": {
   "codemirror_mode": {
    "name": "ipython",
    "version": 3
   },
   "file_extension": ".py",
   "mimetype": "text/x-python",
   "name": "python",
   "nbconvert_exporter": "python",
   "pygments_lexer": "ipython3",
   "version": "3.8.12"
  }
 },
 "nbformat": 4,
 "nbformat_minor": 2
}
