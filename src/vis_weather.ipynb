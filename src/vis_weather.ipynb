{
 "cells": [
  {
   "cell_type": "code",
   "execution_count": 1,
   "metadata": {
    "execution": {
     "iopub.execute_input": "2021-10-02T05:10:14.672452Z",
     "iopub.status.busy": "2021-10-02T05:10:14.671917Z",
     "iopub.status.idle": "2021-10-02T05:10:16.704786Z",
     "shell.execute_reply": "2021-10-02T05:10:16.704134Z"
    }
   },
   "outputs": [],
   "source": [
    "import json, yaml, requests\r\n",
    "from datetime import datetime\r\n",
    "from dateutil import tz\r\n",
    "import pandas as pd\r\n",
    "from PIL import Image\r\n",
    "from io import BytesIO\r\n",
    "import matplotlib.pyplot as plt\r\n",
    "import seaborn\r\n",
    "\r\n",
    "CONFIG_PATH = \"../config/config.yaml\""
   ]
  },
  {
   "cell_type": "code",
   "execution_count": 2,
   "metadata": {
    "execution": {
     "iopub.execute_input": "2021-10-02T05:10:16.707868Z",
     "iopub.status.busy": "2021-10-02T05:10:16.707307Z",
     "iopub.status.idle": "2021-10-02T05:10:16.714345Z",
     "shell.execute_reply": "2021-10-02T05:10:16.713917Z"
    }
   },
   "outputs": [],
   "source": [
    "with open('../newest_ts', 'r') as f:\r\n",
    "    newest_ts = f.read()\r\n",
    "\r\n",
    "data_path = f\"../data/data_{newest_ts}.json\"\r\n",
    "with open(data_path, 'r') as f:\r\n",
    "    data = json.load(f)\r\n",
    "\r\n",
    "with open(CONFIG_PATH, \"r\") as stream:\r\n",
    "    config = yaml.safe_load(stream)\r\n",
    "\r\n",
    "TIME_ZONE = config['time_zone']\r\n",
    "DATETIME_FORMAT = config['dt_format']"
   ]
  },
  {
   "cell_type": "code",
   "execution_count": 3,
   "metadata": {
    "execution": {
     "iopub.execute_input": "2021-10-02T05:10:16.718706Z",
     "iopub.status.busy": "2021-10-02T05:10:16.718053Z",
     "iopub.status.idle": "2021-10-02T05:10:16.723387Z",
     "shell.execute_reply": "2021-10-02T05:10:16.723759Z"
    }
   },
   "outputs": [
    {
     "name": "stdout",
     "output_type": "stream",
     "text": [
      "Recent query happens at 2021-10-02 13:10:12 (CST).\n"
     ]
    }
   ],
   "source": [
    "def ts2dt(ts, format=DATETIME_FORMAT):\r\n",
    "    dt = (datetime.utcfromtimestamp(int(ts))\r\n",
    "                    .replace(tzinfo=tz.tzutc())\r\n",
    "                    # .astimezone(tz.tzlocal())\r\n",
    "                    .astimezone(tz.gettz(TIME_ZONE)))\r\n",
    "    return dt.strftime(format), dt\r\n",
    "\r\n",
    "_, newest_dt = ts2dt(newest_ts)\r\n",
    "print(f\"Recent query happens at {newest_dt.strftime(DATETIME_FORMAT)} ({newest_dt.tzname()}).\")"
   ]
  },
  {
   "cell_type": "code",
   "execution_count": 4,
   "metadata": {
    "execution": {
     "iopub.execute_input": "2021-10-02T05:10:16.728764Z",
     "iopub.status.busy": "2021-10-02T05:10:16.727655Z",
     "iopub.status.idle": "2021-10-02T05:10:16.729286Z",
     "shell.execute_reply": "2021-10-02T05:10:16.729648Z"
    }
   },
   "outputs": [],
   "source": [
    "def degrees_to_cardinal(d):\r\n",
    "  dirs = ['N', 'NNE', 'NE', 'ENE', 'E', 'ESE', 'SE', 'SSE', 'S', 'SSW', 'SW', 'WSW', 'W', 'WNW', 'NW', 'NNW']\r\n",
    "  ix = int(round(d / (360. / len(dirs))))\r\n",
    "  return dirs[ix % len(dirs)]"
   ]
  },
  {
   "cell_type": "code",
   "execution_count": 5,
   "metadata": {
    "execution": {
     "iopub.execute_input": "2021-10-02T05:10:16.733579Z",
     "iopub.status.busy": "2021-10-02T05:10:16.732482Z",
     "iopub.status.idle": "2021-10-02T05:10:16.734101Z",
     "shell.execute_reply": "2021-10-02T05:10:16.734464Z"
    }
   },
   "outputs": [],
   "source": [
    "# data.keys()"
   ]
  },
  {
   "cell_type": "code",
   "execution_count": 6,
   "metadata": {
    "execution": {
     "iopub.execute_input": "2021-10-02T05:10:16.738215Z",
     "iopub.status.busy": "2021-10-02T05:10:16.737065Z",
     "iopub.status.idle": "2021-10-02T05:10:16.738737Z",
     "shell.execute_reply": "2021-10-02T05:10:16.739101Z"
    }
   },
   "outputs": [],
   "source": [
    "# data['current']"
   ]
  },
  {
   "cell_type": "code",
   "execution_count": 7,
   "metadata": {
    "execution": {
     "iopub.execute_input": "2021-10-02T05:10:16.752788Z",
     "iopub.status.busy": "2021-10-02T05:10:16.752216Z",
     "iopub.status.idle": "2021-10-02T05:10:17.137653Z",
     "shell.execute_reply": "2021-10-02T05:10:17.138287Z"
    }
   },
   "outputs": [
    {
     "data": {
      "image/png": "[encoded data removed]",
      "text/plain": [
       "<Figure size 216x216 with 1 Axes>"
      ]
     },
     "metadata": {
      "needs_background": "light"
     },
     "output_type": "display_data"
    },
    {
     "name": "stdout",
     "output_type": "stream",
     "text": [
      "Today, sun rises at 06:14 and sets at 18:10.\n",
      "Currently, the weather is Clouds (scattered clouds).\n",
      "The temperature is 31.27°C and it feels like 38.27°C.\n",
      "The UV index is 9.44, humidity is 73%.\n",
      "The pressure is 1011 hPa, percentage of cloud cover is 50%\n",
      "The wind comes from WSW direction with a speed 4.47 m/s.\n"
     ]
    }
   ],
   "source": [
    "current = data['current']\r\n",
    "\r\n",
    "fig, ax = plt.subplots(figsize=(3, 3))\r\n",
    "icon = requests.get(f\"http://openweathermap.org/img/wn/{current['weather'][0]['icon']}@2x.png\")\r\n",
    "im = Image.open(BytesIO(icon.content))\r\n",
    "plt.imshow(im)\r\n",
    "ax.set_axis_off()\r\n",
    "plt.show()\r\n",
    "\r\n",
    "print(f\"Today, sun rises at {ts2dt(current['sunrise'], '%H:%M')[0]} \\\r\n",
    "and sets at {ts2dt(current['sunset'], '%H:%M')[0]}.\\n\\\r\n",
    "Currently, the weather is {current['weather'][0]['main']} ({current['weather'][0]['description']}).\\n\\\r\n",
    "The temperature is {current['temp']}°C and it feels like {current['feels_like']}°C.\\n\\\r\n",
    "The UV index is {current['uvi']}, humidity is {current['humidity']}%.\\n\\\r\n",
    "The pressure is {current['pressure']} hPa, percentage of cloud cover is {current['clouds']}%\\n\\\r\n",
    "The wind comes from {degrees_to_cardinal(current['wind_deg'])} direction with a speed {current['wind_speed']} m/s.\")"
   ]
  },
  {
   "cell_type": "code",
   "execution_count": 8,
   "metadata": {
    "execution": {
     "iopub.execute_input": "2021-10-02T05:10:17.145487Z",
     "iopub.status.busy": "2021-10-02T05:10:17.143007Z",
     "iopub.status.idle": "2021-10-02T05:10:17.148321Z",
     "shell.execute_reply": "2021-10-02T05:10:17.148938Z"
    }
   },
   "outputs": [],
   "source": [
    "df_hourly = pd.DataFrame(data['hourly'])\r\n",
    "df_daily = pd.DataFrame(data['daily'])"
   ]
  },
  {
   "cell_type": "code",
   "execution_count": 9,
   "metadata": {
    "execution": {
     "iopub.execute_input": "2021-10-02T05:10:17.157631Z",
     "iopub.status.busy": "2021-10-02T05:10:17.156329Z",
     "iopub.status.idle": "2021-10-02T05:10:17.406262Z",
     "shell.execute_reply": "2021-10-02T05:10:17.405836Z"
    }
   },
   "outputs": [
    {
     "data": {
      "image/png": "[encoded data removed]",
      "text/plain": [
       "<Figure size 864x432 with 1 Axes>"
      ]
     },
     "metadata": {
      "needs_background": "light"
     },
     "output_type": "display_data"
    }
   ],
   "source": [
    "fig, ax = plt.subplots(figsize=(12, 6))\r\n",
    "plt.plot(df_hourly.temp, '.-', label='Temperature')\r\n",
    "plt.plot(df_hourly.feels_like, '.-', label='Feels Like')\r\n",
    "ax.set(title='Temperature in future 48 hours', xlabel='Time', ylabel='Temperature')\r\n",
    "ax.set_xticks(list(range(0, len(df_hourly), 2)))\r\n",
    "ax.set_xticklabels([ts2dt(ts, '%m-%d %H:%M')[0] for i, ts in enumerate(df_hourly.dt) if i%2==0], \r\n",
    "                   rotation=45, ha=\"right\")\r\n",
    "ax.locator_params(nbins=15, axis='y')\r\n",
    "plt.legend()\r\n",
    "plt.show()"
   ]
  },
  {
   "cell_type": "code",
   "execution_count": 10,
   "metadata": {
    "execution": {
     "iopub.execute_input": "2021-10-02T05:10:17.417391Z",
     "iopub.status.busy": "2021-10-02T05:10:17.410259Z",
     "iopub.status.idle": "2021-10-02T05:10:17.426714Z",
     "shell.execute_reply": "2021-10-02T05:10:17.427092Z"
    }
   },
   "outputs": [
    {
     "data": {
      "text/html": [
       "<div>\n",
       "<style scoped>\n",
       "    .dataframe tbody tr th:only-of-type {\n",
       "        vertical-align: middle;\n",
       "    }\n",
       "\n",
       "    .dataframe tbody tr th {\n",
       "        vertical-align: top;\n",
       "    }\n",
       "\n",
       "    .dataframe thead th {\n",
       "        text-align: right;\n",
       "    }\n",
       "</style>\n",
       "<table border=\"1\" class=\"dataframe\">\n",
       "  <thead>\n",
       "    <tr style=\"text-align: right;\">\n",
       "      <th></th>\n",
       "      <th>dt</th>\n",
       "      <th>temp</th>\n",
       "      <th>feels_like</th>\n",
       "      <th>pressure</th>\n",
       "      <th>humidity</th>\n",
       "      <th>dew_point</th>\n",
       "      <th>uvi</th>\n",
       "      <th>clouds</th>\n",
       "      <th>visibility</th>\n",
       "      <th>wind_speed</th>\n",
       "      <th>wind_deg</th>\n",
       "      <th>wind_gust</th>\n",
       "      <th>weather</th>\n",
       "      <th>pop</th>\n",
       "      <th>rain</th>\n",
       "    </tr>\n",
       "  </thead>\n",
       "  <tbody>\n",
       "    <tr>\n",
       "      <th>0</th>\n",
       "      <td>1633150800</td>\n",
       "      <td>31.27</td>\n",
       "      <td>38.27</td>\n",
       "      <td>1011</td>\n",
       "      <td>73</td>\n",
       "      <td>25.85</td>\n",
       "      <td>9.44</td>\n",
       "      <td>50</td>\n",
       "      <td>10000</td>\n",
       "      <td>2.66</td>\n",
       "      <td>143</td>\n",
       "      <td>2.49</td>\n",
       "      <td>[{'id': 802, 'main': 'Clouds', 'description': ...</td>\n",
       "      <td>0.31</td>\n",
       "      <td>NaN</td>\n",
       "    </tr>\n",
       "    <tr>\n",
       "      <th>1</th>\n",
       "      <td>1633154400</td>\n",
       "      <td>31.02</td>\n",
       "      <td>37.96</td>\n",
       "      <td>1011</td>\n",
       "      <td>71</td>\n",
       "      <td>25.14</td>\n",
       "      <td>7.69</td>\n",
       "      <td>49</td>\n",
       "      <td>10000</td>\n",
       "      <td>2.87</td>\n",
       "      <td>142</td>\n",
       "      <td>2.55</td>\n",
       "      <td>[{'id': 802, 'main': 'Clouds', 'description': ...</td>\n",
       "      <td>0.31</td>\n",
       "      <td>NaN</td>\n",
       "    </tr>\n",
       "    <tr>\n",
       "      <th>2</th>\n",
       "      <td>1633158000</td>\n",
       "      <td>30.71</td>\n",
       "      <td>36.55</td>\n",
       "      <td>1010</td>\n",
       "      <td>69</td>\n",
       "      <td>24.37</td>\n",
       "      <td>4.80</td>\n",
       "      <td>40</td>\n",
       "      <td>10000</td>\n",
       "      <td>2.74</td>\n",
       "      <td>132</td>\n",
       "      <td>2.49</td>\n",
       "      <td>[{'id': 802, 'main': 'Clouds', 'description': ...</td>\n",
       "      <td>0.04</td>\n",
       "      <td>NaN</td>\n",
       "    </tr>\n",
       "    <tr>\n",
       "      <th>3</th>\n",
       "      <td>1633161600</td>\n",
       "      <td>30.28</td>\n",
       "      <td>34.98</td>\n",
       "      <td>1010</td>\n",
       "      <td>67</td>\n",
       "      <td>23.47</td>\n",
       "      <td>2.32</td>\n",
       "      <td>40</td>\n",
       "      <td>10000</td>\n",
       "      <td>3.49</td>\n",
       "      <td>122</td>\n",
       "      <td>3.49</td>\n",
       "      <td>[{'id': 802, 'main': 'Clouds', 'description': ...</td>\n",
       "      <td>0.06</td>\n",
       "      <td>NaN</td>\n",
       "    </tr>\n",
       "    <tr>\n",
       "      <th>4</th>\n",
       "      <td>1633165200</td>\n",
       "      <td>29.60</td>\n",
       "      <td>33.65</td>\n",
       "      <td>1009</td>\n",
       "      <td>68</td>\n",
       "      <td>23.07</td>\n",
       "      <td>0.71</td>\n",
       "      <td>37</td>\n",
       "      <td>10000</td>\n",
       "      <td>3.87</td>\n",
       "      <td>116</td>\n",
       "      <td>4.11</td>\n",
       "      <td>[{'id': 802, 'main': 'Clouds', 'description': ...</td>\n",
       "      <td>0.06</td>\n",
       "      <td>NaN</td>\n",
       "    </tr>\n",
       "  </tbody>\n",
       "</table>\n",
       "</div>"
      ],
      "text/plain": [
       "           dt   temp  feels_like  pressure  humidity  dew_point   uvi  clouds  \\\n",
       "0  1633150800  31.27       38.27      1011        73      25.85  9.44      50   \n",
       "1  1633154400  31.02       37.96      1011        71      25.14  7.69      49   \n",
       "2  1633158000  30.71       36.55      1010        69      24.37  4.80      40   \n",
       "3  1633161600  30.28       34.98      1010        67      23.47  2.32      40   \n",
       "4  1633165200  29.60       33.65      1009        68      23.07  0.71      37   \n",
       "\n",
       "   visibility  wind_speed  wind_deg  wind_gust  \\\n",
       "0       10000        2.66       143       2.49   \n",
       "1       10000        2.87       142       2.55   \n",
       "2       10000        2.74       132       2.49   \n",
       "3       10000        3.49       122       3.49   \n",
       "4       10000        3.87       116       4.11   \n",
       "\n",
       "                                             weather   pop rain  \n",
       "0  [{'id': 802, 'main': 'Clouds', 'description': ...  0.31  NaN  \n",
       "1  [{'id': 802, 'main': 'Clouds', 'description': ...  0.31  NaN  \n",
       "2  [{'id': 802, 'main': 'Clouds', 'description': ...  0.04  NaN  \n",
       "3  [{'id': 802, 'main': 'Clouds', 'description': ...  0.06  NaN  \n",
       "4  [{'id': 802, 'main': 'Clouds', 'description': ...  0.06  NaN  "
      ]
     },
     "execution_count": 10,
     "metadata": {},
     "output_type": "execute_result"
    }
   ],
   "source": [
    "df_hourly.head()"
   ]
  },
  {
   "cell_type": "code",
   "execution_count": null,
   "metadata": {},
   "outputs": [],
   "source": []
  }
 ],
 "metadata": {
  "interpreter": {
   "hash": "c1b4cfe941b6d2466ad1fb5979e97da9cda8801728c8091b097ab734208fc00c"
  },
  "kernelspec": {
   "display_name": "Python 3.8.3 64-bit ('base': conda)",
   "name": "python3"
  },
  "language_info": {
   "codemirror_mode": {
    "name": "ipython",
    "version": 3
   },
   "file_extension": ".py",
   "mimetype": "text/x-python",
   "name": "python",
   "nbconvert_exporter": "python",
   "pygments_lexer": "ipython3",
   "version": "3.8.12"
  }
 },
 "nbformat": 4,
 "nbformat_minor": 2
}
