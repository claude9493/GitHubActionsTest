{
 "cells": [
  {
   "cell_type": "code",
   "execution_count": 1,
   "metadata": {
    "execution": {
     "iopub.execute_input": "2021-10-04T03:12:25.247599Z",
     "iopub.status.busy": "2021-10-04T03:12:25.246907Z",
     "iopub.status.idle": "2021-10-04T03:12:26.604747Z",
     "shell.execute_reply": "2021-10-04T03:12:26.603770Z"
    }
   },
   "outputs": [],
   "source": [
    "import json, yaml, requests\r\n",
    "from datetime import datetime\r\n",
    "from dateutil import tz\r\n",
    "import pandas as pd\r\n",
    "from PIL import Image\r\n",
    "from io import BytesIO\r\n",
    "import matplotlib.pyplot as plt\r\n",
    "import seaborn\r\n",
    "\r\n",
    "CONFIG_PATH = \"../config/config.yaml\""
   ]
  },
  {
   "cell_type": "code",
   "execution_count": 2,
   "metadata": {
    "execution": {
     "iopub.execute_input": "2021-10-04T03:12:26.611943Z",
     "iopub.status.busy": "2021-10-04T03:12:26.611028Z",
     "iopub.status.idle": "2021-10-04T03:12:26.617436Z",
     "shell.execute_reply": "2021-10-04T03:12:26.616334Z"
    }
   },
   "outputs": [],
   "source": [
    "with open('../newest_ts', 'r') as f:\r\n",
    "    newest_ts = f.read()\r\n",
    "\r\n",
    "data_path = f\"../data/data_{newest_ts}.json\"\r\n",
    "with open(data_path, 'r') as f:\r\n",
    "    data = json.load(f)\r\n",
    "\r\n",
    "with open(CONFIG_PATH, \"r\") as stream:\r\n",
    "    config = yaml.safe_load(stream)\r\n",
    "\r\n",
    "TIME_ZONE = config['time_zone']\r\n",
    "DATETIME_FORMAT = config['dt_format']"
   ]
  },
  {
   "cell_type": "code",
   "execution_count": 3,
   "metadata": {
    "execution": {
     "iopub.execute_input": "2021-10-04T03:12:26.624088Z",
     "iopub.status.busy": "2021-10-04T03:12:26.622677Z",
     "iopub.status.idle": "2021-10-04T03:12:26.629914Z",
     "shell.execute_reply": "2021-10-04T03:12:26.630501Z"
    }
   },
   "outputs": [
    {
     "name": "stdout",
     "output_type": "stream",
     "text": [
      "Recent query happens at 2021-10-04 11:12:21 (CST).\n"
     ]
    }
   ],
   "source": [
    "def ts2dt(ts, format=DATETIME_FORMAT):\r\n",
    "    dt = (datetime.utcfromtimestamp(int(ts))\r\n",
    "                    .replace(tzinfo=tz.tzutc())\r\n",
    "                    # .astimezone(tz.tzlocal())\r\n",
    "                    .astimezone(tz.gettz(TIME_ZONE)))\r\n",
    "    return dt.strftime(format), dt\r\n",
    "\r\n",
    "_, newest_dt = ts2dt(newest_ts)\r\n",
    "print(f\"Recent query happens at {newest_dt.strftime(DATETIME_FORMAT)} ({newest_dt.tzname()}).\")"
   ]
  },
  {
   "cell_type": "code",
   "execution_count": 4,
   "metadata": {
    "execution": {
     "iopub.execute_input": "2021-10-04T03:12:26.635545Z",
     "iopub.status.busy": "2021-10-04T03:12:26.634886Z",
     "iopub.status.idle": "2021-10-04T03:12:26.638358Z",
     "shell.execute_reply": "2021-10-04T03:12:26.638794Z"
    }
   },
   "outputs": [],
   "source": [
    "def degrees_to_cardinal(d):\r\n",
    "  dirs = ['N', 'NNE', 'NE', 'ENE', 'E', 'ESE', 'SE', 'SSE', 'S', 'SSW', 'SW', 'WSW', 'W', 'WNW', 'NW', 'NNW']\r\n",
    "  ix = int(round(d / (360. / len(dirs))))\r\n",
    "  return dirs[ix % len(dirs)]"
   ]
  },
  {
   "cell_type": "code",
   "execution_count": 5,
   "metadata": {
    "execution": {
     "iopub.execute_input": "2021-10-04T03:12:26.643101Z",
     "iopub.status.busy": "2021-10-04T03:12:26.642314Z",
     "iopub.status.idle": "2021-10-04T03:12:26.645696Z",
     "shell.execute_reply": "2021-10-04T03:12:26.646144Z"
    }
   },
   "outputs": [],
   "source": [
    "# data.keys()"
   ]
  },
  {
   "cell_type": "code",
   "execution_count": 6,
   "metadata": {
    "execution": {
     "iopub.execute_input": "2021-10-04T03:12:26.650053Z",
     "iopub.status.busy": "2021-10-04T03:12:26.649358Z",
     "iopub.status.idle": "2021-10-04T03:12:26.653021Z",
     "shell.execute_reply": "2021-10-04T03:12:26.653484Z"
    }
   },
   "outputs": [],
   "source": [
    "# data['current']"
   ]
  },
  {
   "cell_type": "code",
   "execution_count": 7,
   "metadata": {
    "execution": {
     "iopub.execute_input": "2021-10-04T03:12:26.681726Z",
     "iopub.status.busy": "2021-10-04T03:12:26.659669Z",
     "iopub.status.idle": "2021-10-04T03:12:27.096358Z",
     "shell.execute_reply": "2021-10-04T03:12:27.097165Z"
    }
   },
   "outputs": [
    {
     "data": {
      "image/png": "[encoded data removed]",
      "text/plain": [
       "<Figure size 216x216 with 1 Axes>"
      ]
     },
     "metadata": {
      "needs_background": "light"
     },
     "output_type": "display_data"
    },
    {
     "name": "stdout",
     "output_type": "stream",
     "text": [
      "Today, sun rises at 06:15 and sets at 18:08.\n",
      "Currently, the weather is Clouds (scattered clouds).\n",
      "The temperature is 30.03°C and it feels like 36.92°C.\n",
      "The UV index is 7.78, humidity is 77%.\n",
      "The pressure is 1014 hPa, percentage of cloud cover is 47%\n",
      "The wind comes from ENE direction with a speed 7.45 m/s.\n"
     ]
    }
   ],
   "source": [
    "current = data['current']\r\n",
    "\r\n",
    "fig, ax = plt.subplots(figsize=(3, 3))\r\n",
    "icon = requests.get(f\"http://openweathermap.org/img/wn/{current['weather'][0]['icon']}@2x.png\")\r\n",
    "im = Image.open(BytesIO(icon.content))\r\n",
    "plt.imshow(im)\r\n",
    "ax.set_axis_off()\r\n",
    "plt.show()\r\n",
    "\r\n",
    "print(f\"Today, sun rises at {ts2dt(current['sunrise'], '%H:%M')[0]} \\\r\n",
    "and sets at {ts2dt(current['sunset'], '%H:%M')[0]}.\\n\\\r\n",
    "Currently, the weather is {current['weather'][0]['main']} ({current['weather'][0]['description']}).\\n\\\r\n",
    "The temperature is {current['temp']}°C and it feels like {current['feels_like']}°C.\\n\\\r\n",
    "The UV index is {current['uvi']}, humidity is {current['humidity']}%.\\n\\\r\n",
    "The pressure is {current['pressure']} hPa, percentage of cloud cover is {current['clouds']}%\\n\\\r\n",
    "The wind comes from {degrees_to_cardinal(current['wind_deg'])} direction with a speed {current['wind_speed']} m/s.\")"
   ]
  },
  {
   "cell_type": "code",
   "execution_count": 8,
   "metadata": {
    "execution": {
     "iopub.execute_input": "2021-10-04T03:12:27.101071Z",
     "iopub.status.busy": "2021-10-04T03:12:27.099896Z",
     "iopub.status.idle": "2021-10-04T03:12:27.108454Z",
     "shell.execute_reply": "2021-10-04T03:12:27.109187Z"
    }
   },
   "outputs": [],
   "source": [
    "df_hourly = pd.DataFrame(data['hourly'])\r\n",
    "df_daily = pd.DataFrame(data['daily'])"
   ]
  },
  {
   "cell_type": "code",
   "execution_count": 9,
   "metadata": {
    "execution": {
     "iopub.execute_input": "2021-10-04T03:12:27.112876Z",
     "iopub.status.busy": "2021-10-04T03:12:27.111621Z",
     "iopub.status.idle": "2021-10-04T03:12:27.444790Z",
     "shell.execute_reply": "2021-10-04T03:12:27.445237Z"
    }
   },
   "outputs": [
    {
     "data": {
      "image/png": "[encoded data removed]",
      "text/plain": [
       "<Figure size 864x432 with 1 Axes>"
      ]
     },
     "metadata": {
      "needs_background": "light"
     },
     "output_type": "display_data"
    }
   ],
   "source": [
    "fig, ax = plt.subplots(figsize=(12, 6))\r\n",
    "plt.plot(df_hourly.temp, '.-', label='Temperature')\r\n",
    "plt.plot(df_hourly.feels_like, '.-', label='Feels Like')\r\n",
    "ax.set(title='Temperature in future 48 hours', xlabel='Time', ylabel='Temperature')\r\n",
    "ax.set_xticks(list(range(0, len(df_hourly), 2)))\r\n",
    "ax.set_xticklabels([ts2dt(ts, '%m-%d %H:%M')[0] for i, ts in enumerate(df_hourly.dt) if i%2==0], \r\n",
    "                   rotation=45, ha=\"right\")\r\n",
    "ax.locator_params(nbins=15, axis='y')\r\n",
    "plt.legend()\r\n",
    "plt.show()"
   ]
  },
  {
   "cell_type": "code",
   "execution_count": 10,
   "metadata": {
    "execution": {
     "iopub.execute_input": "2021-10-04T03:12:27.457644Z",
     "iopub.status.busy": "2021-10-04T03:12:27.449346Z",
     "iopub.status.idle": "2021-10-04T03:12:27.470457Z",
     "shell.execute_reply": "2021-10-04T03:12:27.469535Z"
    }
   },
   "outputs": [
    {
     "data": {
      "text/html": [
       "<div>\n",
       "<style scoped>\n",
       "    .dataframe tbody tr th:only-of-type {\n",
       "        vertical-align: middle;\n",
       "    }\n",
       "\n",
       "    .dataframe tbody tr th {\n",
       "        vertical-align: top;\n",
       "    }\n",
       "\n",
       "    .dataframe thead th {\n",
       "        text-align: right;\n",
       "    }\n",
       "</style>\n",
       "<table border=\"1\" class=\"dataframe\">\n",
       "  <thead>\n",
       "    <tr style=\"text-align: right;\">\n",
       "      <th></th>\n",
       "      <th>dt</th>\n",
       "      <th>temp</th>\n",
       "      <th>feels_like</th>\n",
       "      <th>pressure</th>\n",
       "      <th>humidity</th>\n",
       "      <th>dew_point</th>\n",
       "      <th>uvi</th>\n",
       "      <th>clouds</th>\n",
       "      <th>visibility</th>\n",
       "      <th>wind_speed</th>\n",
       "      <th>wind_deg</th>\n",
       "      <th>wind_gust</th>\n",
       "      <th>weather</th>\n",
       "      <th>pop</th>\n",
       "      <th>rain</th>\n",
       "    </tr>\n",
       "  </thead>\n",
       "  <tbody>\n",
       "    <tr>\n",
       "      <th>0</th>\n",
       "      <td>1633316400</td>\n",
       "      <td>30.03</td>\n",
       "      <td>36.92</td>\n",
       "      <td>1014</td>\n",
       "      <td>77</td>\n",
       "      <td>25.55</td>\n",
       "      <td>7.78</td>\n",
       "      <td>47</td>\n",
       "      <td>10000</td>\n",
       "      <td>7.45</td>\n",
       "      <td>72</td>\n",
       "      <td>8.33</td>\n",
       "      <td>[{'id': 802, 'main': 'Clouds', 'description': ...</td>\n",
       "      <td>0.0</td>\n",
       "      <td>NaN</td>\n",
       "    </tr>\n",
       "    <tr>\n",
       "      <th>1</th>\n",
       "      <td>1633320000</td>\n",
       "      <td>29.83</td>\n",
       "      <td>35.59</td>\n",
       "      <td>1014</td>\n",
       "      <td>74</td>\n",
       "      <td>24.69</td>\n",
       "      <td>9.25</td>\n",
       "      <td>45</td>\n",
       "      <td>10000</td>\n",
       "      <td>7.27</td>\n",
       "      <td>74</td>\n",
       "      <td>8.13</td>\n",
       "      <td>[{'id': 802, 'main': 'Clouds', 'description': ...</td>\n",
       "      <td>0.0</td>\n",
       "      <td>NaN</td>\n",
       "    </tr>\n",
       "    <tr>\n",
       "      <th>2</th>\n",
       "      <td>1633323600</td>\n",
       "      <td>29.70</td>\n",
       "      <td>34.78</td>\n",
       "      <td>1014</td>\n",
       "      <td>72</td>\n",
       "      <td>24.11</td>\n",
       "      <td>9.09</td>\n",
       "      <td>41</td>\n",
       "      <td>10000</td>\n",
       "      <td>6.88</td>\n",
       "      <td>77</td>\n",
       "      <td>7.96</td>\n",
       "      <td>[{'id': 500, 'main': 'Rain', 'description': 'l...</td>\n",
       "      <td>0.2</td>\n",
       "      <td>{'1h': 0.15}</td>\n",
       "    </tr>\n",
       "    <tr>\n",
       "      <th>3</th>\n",
       "      <td>1633327200</td>\n",
       "      <td>29.62</td>\n",
       "      <td>33.91</td>\n",
       "      <td>1013</td>\n",
       "      <td>69</td>\n",
       "      <td>23.33</td>\n",
       "      <td>7.38</td>\n",
       "      <td>34</td>\n",
       "      <td>10000</td>\n",
       "      <td>6.69</td>\n",
       "      <td>79</td>\n",
       "      <td>7.83</td>\n",
       "      <td>[{'id': 802, 'main': 'Clouds', 'description': ...</td>\n",
       "      <td>0.0</td>\n",
       "      <td>NaN</td>\n",
       "    </tr>\n",
       "    <tr>\n",
       "      <th>4</th>\n",
       "      <td>1633330800</td>\n",
       "      <td>29.37</td>\n",
       "      <td>32.76</td>\n",
       "      <td>1012</td>\n",
       "      <td>66</td>\n",
       "      <td>22.36</td>\n",
       "      <td>4.85</td>\n",
       "      <td>11</td>\n",
       "      <td>10000</td>\n",
       "      <td>6.40</td>\n",
       "      <td>86</td>\n",
       "      <td>7.80</td>\n",
       "      <td>[{'id': 801, 'main': 'Clouds', 'description': ...</td>\n",
       "      <td>0.0</td>\n",
       "      <td>NaN</td>\n",
       "    </tr>\n",
       "  </tbody>\n",
       "</table>\n",
       "</div>"
      ],
      "text/plain": [
       "           dt   temp  feels_like  pressure  humidity  dew_point   uvi  clouds  \\\n",
       "0  1633316400  30.03       36.92      1014        77      25.55  7.78      47   \n",
       "1  1633320000  29.83       35.59      1014        74      24.69  9.25      45   \n",
       "2  1633323600  29.70       34.78      1014        72      24.11  9.09      41   \n",
       "3  1633327200  29.62       33.91      1013        69      23.33  7.38      34   \n",
       "4  1633330800  29.37       32.76      1012        66      22.36  4.85      11   \n",
       "\n",
       "   visibility  wind_speed  wind_deg  wind_gust  \\\n",
       "0       10000        7.45        72       8.33   \n",
       "1       10000        7.27        74       8.13   \n",
       "2       10000        6.88        77       7.96   \n",
       "3       10000        6.69        79       7.83   \n",
       "4       10000        6.40        86       7.80   \n",
       "\n",
       "                                             weather  pop          rain  \n",
       "0  [{'id': 802, 'main': 'Clouds', 'description': ...  0.0           NaN  \n",
       "1  [{'id': 802, 'main': 'Clouds', 'description': ...  0.0           NaN  \n",
       "2  [{'id': 500, 'main': 'Rain', 'description': 'l...  0.2  {'1h': 0.15}  \n",
       "3  [{'id': 802, 'main': 'Clouds', 'description': ...  0.0           NaN  \n",
       "4  [{'id': 801, 'main': 'Clouds', 'description': ...  0.0           NaN  "
      ]
     },
     "execution_count": 10,
     "metadata": {},
     "output_type": "execute_result"
    }
   ],
   "source": [
    "df_hourly.head()"
   ]
  },
  {
   "cell_type": "code",
   "execution_count": null,
   "metadata": {},
   "outputs": [],
   "source": []
  }
 ],
 "metadata": {
  "interpreter": {
   "hash": "c1b4cfe941b6d2466ad1fb5979e97da9cda8801728c8091b097ab734208fc00c"
  },
  "kernelspec": {
   "display_name": "Python 3.8.3 64-bit ('base': conda)",
   "name": "python3"
  },
  "language_info": {
   "codemirror_mode": {
    "name": "ipython",
    "version": 3
   },
   "file_extension": ".py",
   "mimetype": "text/x-python",
   "name": "python",
   "nbconvert_exporter": "python",
   "pygments_lexer": "ipython3",
   "version": "3.8.12"
  }
 },
 "nbformat": 4,
 "nbformat_minor": 2
}
