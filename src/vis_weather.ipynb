{
 "cells": [
  {
   "cell_type": "code",
   "execution_count": 1,
   "metadata": {
    "execution": {
     "iopub.execute_input": "2021-09-08T04:20:29.302815Z",
     "iopub.status.busy": "2021-09-08T04:20:29.302154Z",
     "iopub.status.idle": "2021-09-08T04:20:31.547963Z",
     "shell.execute_reply": "2021-09-08T04:20:31.546615Z"
    }
   },
   "outputs": [],
   "source": [
    "import json, yaml, requests\r\n",
    "from datetime import datetime\r\n",
    "from dateutil import tz\r\n",
    "import pandas as pd\r\n",
    "from PIL import Image\r\n",
    "from io import BytesIO\r\n",
    "import matplotlib.pyplot as plt\r\n",
    "import seaborn\r\n",
    "\r\n",
    "CONFIG_PATH = \"../config/config.yaml\""
   ]
  },
  {
   "cell_type": "code",
   "execution_count": 2,
   "metadata": {
    "execution": {
     "iopub.execute_input": "2021-09-08T04:20:31.553852Z",
     "iopub.status.busy": "2021-09-08T04:20:31.553262Z",
     "iopub.status.idle": "2021-09-08T04:20:31.558848Z",
     "shell.execute_reply": "2021-09-08T04:20:31.559313Z"
    }
   },
   "outputs": [],
   "source": [
    "with open('../newest_ts', 'r') as f:\r\n",
    "    newest_ts = f.read()\r\n",
    "\r\n",
    "data_path = f\"../data/data_{newest_ts}.json\"\r\n",
    "with open(data_path, 'r') as f:\r\n",
    "    data = json.load(f)\r\n",
    "\r\n",
    "with open(CONFIG_PATH, \"r\") as stream:\r\n",
    "    config = yaml.safe_load(stream)\r\n",
    "\r\n",
    "TIME_ZONE = config['time_zone']\r\n",
    "DATETIME_FORMAT = config['dt_format']"
   ]
  },
  {
   "cell_type": "code",
   "execution_count": 3,
   "metadata": {
    "execution": {
     "iopub.execute_input": "2021-09-08T04:20:31.566286Z",
     "iopub.status.busy": "2021-09-08T04:20:31.564582Z",
     "iopub.status.idle": "2021-09-08T04:20:31.569346Z",
     "shell.execute_reply": "2021-09-08T04:20:31.569795Z"
    }
   },
   "outputs": [
    {
     "name": "stdout",
     "output_type": "stream",
     "text": [
      "Recent query happens at 2021-09-08 12:20:26 (CST).\n"
     ]
    }
   ],
   "source": [
    "def ts2dt(ts, format=DATETIME_FORMAT):\r\n",
    "    dt = (datetime.utcfromtimestamp(int(ts))\r\n",
    "                    .replace(tzinfo=tz.tzutc())\r\n",
    "                    # .astimezone(tz.tzlocal())\r\n",
    "                    .astimezone(tz.gettz(TIME_ZONE)))\r\n",
    "    return dt.strftime(format), dt\r\n",
    "\r\n",
    "_, newest_dt = ts2dt(newest_ts)\r\n",
    "print(f\"Recent query happens at {newest_dt.strftime(DATETIME_FORMAT)} ({newest_dt.tzname()}).\")"
   ]
  },
  {
   "cell_type": "code",
   "execution_count": 4,
   "metadata": {
    "execution": {
     "iopub.execute_input": "2021-09-08T04:20:31.576097Z",
     "iopub.status.busy": "2021-09-08T04:20:31.574903Z",
     "iopub.status.idle": "2021-09-08T04:20:31.576878Z",
     "shell.execute_reply": "2021-09-08T04:20:31.577366Z"
    }
   },
   "outputs": [],
   "source": [
    "def degrees_to_cardinal(d):\r\n",
    "  dirs = ['N', 'NNE', 'NE', 'ENE', 'E', 'ESE', 'SE', 'SSE', 'S', 'SSW', 'SW', 'WSW', 'W', 'WNW', 'NW', 'NNW']\r\n",
    "  ix = int(round(d / (360. / len(dirs))))\r\n",
    "  return dirs[ix % len(dirs)]"
   ]
  },
  {
   "cell_type": "code",
   "execution_count": 5,
   "metadata": {
    "execution": {
     "iopub.execute_input": "2021-09-08T04:20:31.582602Z",
     "iopub.status.busy": "2021-09-08T04:20:31.581188Z",
     "iopub.status.idle": "2021-09-08T04:20:31.583270Z",
     "shell.execute_reply": "2021-09-08T04:20:31.583831Z"
    }
   },
   "outputs": [],
   "source": [
    "# data.keys()"
   ]
  },
  {
   "cell_type": "code",
   "execution_count": 6,
   "metadata": {
    "execution": {
     "iopub.execute_input": "2021-09-08T04:20:31.587461Z",
     "iopub.status.busy": "2021-09-08T04:20:31.586186Z",
     "iopub.status.idle": "2021-09-08T04:20:31.589856Z",
     "shell.execute_reply": "2021-09-08T04:20:31.589388Z"
    }
   },
   "outputs": [],
   "source": [
    "# data['current']"
   ]
  },
  {
   "cell_type": "code",
   "execution_count": 7,
   "metadata": {
    "execution": {
     "iopub.execute_input": "2021-09-08T04:20:31.610466Z",
     "iopub.status.busy": "2021-09-08T04:20:31.609862Z",
     "iopub.status.idle": "2021-09-08T04:20:32.154000Z",
     "shell.execute_reply": "2021-09-08T04:20:32.154828Z"
    }
   },
   "outputs": [
    {
     "data": {
      "image/png": "[encoded data removed]",
      "text/plain": [
       "<Figure size 216x216 with 1 Axes>"
      ]
     },
     "metadata": {
      "needs_background": "light"
     },
     "output_type": "display_data"
    },
    {
     "name": "stdout",
     "output_type": "stream",
     "text": [
      "Today, sun rises at 06:07 and sets at 18:33.\n",
      "Currently, the weather is Clear (clear sky).\n",
      "The temperature is 33.03°C and it feels like 40.03°C.\n",
      "The UV index is 10.62, humidity is 68%.\n",
      "The pressure is 1010 hPa, percentage of cloud cover is 5%\n",
      "The wind comes from E direction with a speed 3.82 m/s.\n"
     ]
    }
   ],
   "source": [
    "current = data['current']\r\n",
    "\r\n",
    "fig, ax = plt.subplots(figsize=(3, 3))\r\n",
    "icon = requests.get(f\"http://openweathermap.org/img/wn/{current['weather'][0]['icon']}@2x.png\")\r\n",
    "im = Image.open(BytesIO(icon.content))\r\n",
    "plt.imshow(im)\r\n",
    "ax.set_axis_off()\r\n",
    "plt.show()\r\n",
    "\r\n",
    "print(f\"Today, sun rises at {ts2dt(current['sunrise'], '%H:%M')[0]} \\\r\n",
    "and sets at {ts2dt(current['sunset'], '%H:%M')[0]}.\\n\\\r\n",
    "Currently, the weather is {current['weather'][0]['main']} ({current['weather'][0]['description']}).\\n\\\r\n",
    "The temperature is {current['temp']}°C and it feels like {current['feels_like']}°C.\\n\\\r\n",
    "The UV index is {current['uvi']}, humidity is {current['humidity']}%.\\n\\\r\n",
    "The pressure is {current['pressure']} hPa, percentage of cloud cover is {current['clouds']}%\\n\\\r\n",
    "The wind comes from {degrees_to_cardinal(current['wind_deg'])} direction with a speed {current['wind_speed']} m/s.\")"
   ]
  },
  {
   "cell_type": "code",
   "execution_count": 8,
   "metadata": {
    "execution": {
     "iopub.execute_input": "2021-09-08T04:20:32.158586Z",
     "iopub.status.busy": "2021-09-08T04:20:32.158014Z",
     "iopub.status.idle": "2021-09-08T04:20:32.166483Z",
     "shell.execute_reply": "2021-09-08T04:20:32.167329Z"
    }
   },
   "outputs": [],
   "source": [
    "df_hourly = pd.DataFrame(data['hourly'])\r\n",
    "df_daily = pd.DataFrame(data['daily'])"
   ]
  },
  {
   "cell_type": "code",
   "execution_count": 9,
   "metadata": {
    "execution": {
     "iopub.execute_input": "2021-09-08T04:20:32.171567Z",
     "iopub.status.busy": "2021-09-08T04:20:32.170343Z",
     "iopub.status.idle": "2021-09-08T04:20:32.480095Z",
     "shell.execute_reply": "2021-09-08T04:20:32.479352Z"
    }
   },
   "outputs": [
    {
     "data": {
      "image/png": "[encoded data removed]",
      "text/plain": [
       "<Figure size 864x432 with 1 Axes>"
      ]
     },
     "metadata": {
      "needs_background": "light"
     },
     "output_type": "display_data"
    }
   ],
   "source": [
    "fig, ax = plt.subplots(figsize=(12, 6))\r\n",
    "plt.plot(df_hourly.temp, '.-', label='Temperature')\r\n",
    "plt.plot(df_hourly.feels_like, '.-', label='Feels Like')\r\n",
    "ax.set(title='Temperature in future 48 hours', xlabel='Time', ylabel='Temperature')\r\n",
    "ax.set_xticks(list(range(0, len(df_hourly), 2)))\r\n",
    "ax.set_xticklabels([ts2dt(ts, '%m-%d %H:%M')[0] for i, ts in enumerate(df_hourly.dt) if i%2==0], \r\n",
    "                   rotation=45, ha=\"right\")\r\n",
    "ax.locator_params(nbins=15, axis='y')\r\n",
    "plt.legend()\r\n",
    "plt.show()"
   ]
  },
  {
   "cell_type": "code",
   "execution_count": 10,
   "metadata": {
    "execution": {
     "iopub.execute_input": "2021-09-08T04:20:32.504149Z",
     "iopub.status.busy": "2021-09-08T04:20:32.494363Z",
     "iopub.status.idle": "2021-09-08T04:20:32.508360Z",
     "shell.execute_reply": "2021-09-08T04:20:32.507161Z"
    }
   },
   "outputs": [
    {
     "data": {
      "text/html": [
       "<div>\n",
       "<style scoped>\n",
       "    .dataframe tbody tr th:only-of-type {\n",
       "        vertical-align: middle;\n",
       "    }\n",
       "\n",
       "    .dataframe tbody tr th {\n",
       "        vertical-align: top;\n",
       "    }\n",
       "\n",
       "    .dataframe thead th {\n",
       "        text-align: right;\n",
       "    }\n",
       "</style>\n",
       "<table border=\"1\" class=\"dataframe\">\n",
       "  <thead>\n",
       "    <tr style=\"text-align: right;\">\n",
       "      <th></th>\n",
       "      <th>dt</th>\n",
       "      <th>temp</th>\n",
       "      <th>feels_like</th>\n",
       "      <th>pressure</th>\n",
       "      <th>humidity</th>\n",
       "      <th>dew_point</th>\n",
       "      <th>uvi</th>\n",
       "      <th>clouds</th>\n",
       "      <th>visibility</th>\n",
       "      <th>wind_speed</th>\n",
       "      <th>wind_deg</th>\n",
       "      <th>wind_gust</th>\n",
       "      <th>weather</th>\n",
       "      <th>pop</th>\n",
       "      <th>rain</th>\n",
       "    </tr>\n",
       "  </thead>\n",
       "  <tbody>\n",
       "    <tr>\n",
       "      <th>0</th>\n",
       "      <td>1631073600</td>\n",
       "      <td>33.03</td>\n",
       "      <td>40.03</td>\n",
       "      <td>1010</td>\n",
       "      <td>68</td>\n",
       "      <td>26.33</td>\n",
       "      <td>10.62</td>\n",
       "      <td>5</td>\n",
       "      <td>10000</td>\n",
       "      <td>3.82</td>\n",
       "      <td>88</td>\n",
       "      <td>3.80</td>\n",
       "      <td>[{'id': 800, 'main': 'Clear', 'description': '...</td>\n",
       "      <td>0.04</td>\n",
       "      <td>NaN</td>\n",
       "    </tr>\n",
       "    <tr>\n",
       "      <th>1</th>\n",
       "      <td>1631077200</td>\n",
       "      <td>32.49</td>\n",
       "      <td>39.49</td>\n",
       "      <td>1010</td>\n",
       "      <td>67</td>\n",
       "      <td>25.57</td>\n",
       "      <td>10.46</td>\n",
       "      <td>5</td>\n",
       "      <td>10000</td>\n",
       "      <td>3.86</td>\n",
       "      <td>98</td>\n",
       "      <td>3.73</td>\n",
       "      <td>[{'id': 800, 'main': 'Clear', 'description': '...</td>\n",
       "      <td>0.04</td>\n",
       "      <td>NaN</td>\n",
       "    </tr>\n",
       "    <tr>\n",
       "      <th>2</th>\n",
       "      <td>1631080800</td>\n",
       "      <td>31.95</td>\n",
       "      <td>38.95</td>\n",
       "      <td>1009</td>\n",
       "      <td>67</td>\n",
       "      <td>25.05</td>\n",
       "      <td>8.62</td>\n",
       "      <td>5</td>\n",
       "      <td>10000</td>\n",
       "      <td>3.91</td>\n",
       "      <td>108</td>\n",
       "      <td>3.71</td>\n",
       "      <td>[{'id': 800, 'main': 'Clear', 'description': '...</td>\n",
       "      <td>0.04</td>\n",
       "      <td>NaN</td>\n",
       "    </tr>\n",
       "    <tr>\n",
       "      <th>3</th>\n",
       "      <td>1631084400</td>\n",
       "      <td>31.33</td>\n",
       "      <td>37.56</td>\n",
       "      <td>1009</td>\n",
       "      <td>67</td>\n",
       "      <td>24.46</td>\n",
       "      <td>5.71</td>\n",
       "      <td>8</td>\n",
       "      <td>10000</td>\n",
       "      <td>4.00</td>\n",
       "      <td>117</td>\n",
       "      <td>3.69</td>\n",
       "      <td>[{'id': 800, 'main': 'Clear', 'description': '...</td>\n",
       "      <td>0.02</td>\n",
       "      <td>NaN</td>\n",
       "    </tr>\n",
       "    <tr>\n",
       "      <th>4</th>\n",
       "      <td>1631088000</td>\n",
       "      <td>30.73</td>\n",
       "      <td>35.78</td>\n",
       "      <td>1008</td>\n",
       "      <td>66</td>\n",
       "      <td>23.64</td>\n",
       "      <td>2.94</td>\n",
       "      <td>16</td>\n",
       "      <td>10000</td>\n",
       "      <td>3.57</td>\n",
       "      <td>122</td>\n",
       "      <td>3.34</td>\n",
       "      <td>[{'id': 801, 'main': 'Clouds', 'description': ...</td>\n",
       "      <td>0.02</td>\n",
       "      <td>NaN</td>\n",
       "    </tr>\n",
       "  </tbody>\n",
       "</table>\n",
       "</div>"
      ],
      "text/plain": [
       "           dt   temp  feels_like  pressure  humidity  dew_point    uvi  \\\n",
       "0  1631073600  33.03       40.03      1010        68      26.33  10.62   \n",
       "1  1631077200  32.49       39.49      1010        67      25.57  10.46   \n",
       "2  1631080800  31.95       38.95      1009        67      25.05   8.62   \n",
       "3  1631084400  31.33       37.56      1009        67      24.46   5.71   \n",
       "4  1631088000  30.73       35.78      1008        66      23.64   2.94   \n",
       "\n",
       "   clouds  visibility  wind_speed  wind_deg  wind_gust  \\\n",
       "0       5       10000        3.82        88       3.80   \n",
       "1       5       10000        3.86        98       3.73   \n",
       "2       5       10000        3.91       108       3.71   \n",
       "3       8       10000        4.00       117       3.69   \n",
       "4      16       10000        3.57       122       3.34   \n",
       "\n",
       "                                             weather   pop rain  \n",
       "0  [{'id': 800, 'main': 'Clear', 'description': '...  0.04  NaN  \n",
       "1  [{'id': 800, 'main': 'Clear', 'description': '...  0.04  NaN  \n",
       "2  [{'id': 800, 'main': 'Clear', 'description': '...  0.04  NaN  \n",
       "3  [{'id': 800, 'main': 'Clear', 'description': '...  0.02  NaN  \n",
       "4  [{'id': 801, 'main': 'Clouds', 'description': ...  0.02  NaN  "
      ]
     },
     "execution_count": 10,
     "metadata": {},
     "output_type": "execute_result"
    }
   ],
   "source": [
    "df_hourly.head()"
   ]
  },
  {
   "cell_type": "code",
   "execution_count": null,
   "metadata": {},
   "outputs": [],
   "source": []
  }
 ],
 "metadata": {
  "interpreter": {
   "hash": "c1b4cfe941b6d2466ad1fb5979e97da9cda8801728c8091b097ab734208fc00c"
  },
  "kernelspec": {
   "display_name": "Python 3.8.3 64-bit ('base': conda)",
   "name": "python3"
  },
  "language_info": {
   "codemirror_mode": {
    "name": "ipython",
    "version": 3
   },
   "file_extension": ".py",
   "mimetype": "text/x-python",
   "name": "python",
   "nbconvert_exporter": "python",
   "pygments_lexer": "ipython3",
   "version": "3.8.11"
  }
 },
 "nbformat": 4,
 "nbformat_minor": 2
}
