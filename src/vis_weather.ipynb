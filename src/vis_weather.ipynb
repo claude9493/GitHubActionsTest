{
 "cells": [
  {
   "cell_type": "code",
   "execution_count": 1,
   "metadata": {
    "execution": {
     "iopub.execute_input": "2021-10-17T22:10:57.101851Z",
     "iopub.status.busy": "2021-10-17T22:10:57.101244Z",
     "iopub.status.idle": "2021-10-17T22:10:58.256458Z",
     "shell.execute_reply": "2021-10-17T22:10:58.255811Z"
    }
   },
   "outputs": [],
   "source": [
    "import json, yaml, requests\r\n",
    "from datetime import datetime\r\n",
    "from dateutil import tz\r\n",
    "import pandas as pd\r\n",
    "from PIL import Image\r\n",
    "from io import BytesIO\r\n",
    "import matplotlib.pyplot as plt\r\n",
    "import seaborn\r\n",
    "\r\n",
    "CONFIG_PATH = \"../config/config.yaml\""
   ]
  },
  {
   "cell_type": "code",
   "execution_count": 2,
   "metadata": {
    "execution": {
     "iopub.execute_input": "2021-10-17T22:10:58.263821Z",
     "iopub.status.busy": "2021-10-17T22:10:58.261089Z",
     "iopub.status.idle": "2021-10-17T22:10:58.266632Z",
     "shell.execute_reply": "2021-10-17T22:10:58.265910Z"
    }
   },
   "outputs": [],
   "source": [
    "with open('../newest_ts', 'r') as f:\r\n",
    "    newest_ts = f.read()\r\n",
    "\r\n",
    "data_path = f\"../data/data_{newest_ts}.json\"\r\n",
    "with open(data_path, 'r') as f:\r\n",
    "    data = json.load(f)\r\n",
    "\r\n",
    "with open(CONFIG_PATH, \"r\") as stream:\r\n",
    "    config = yaml.safe_load(stream)\r\n",
    "\r\n",
    "TIME_ZONE = config['time_zone']\r\n",
    "DATETIME_FORMAT = config['dt_format']"
   ]
  },
  {
   "cell_type": "code",
   "execution_count": 3,
   "metadata": {
    "execution": {
     "iopub.execute_input": "2021-10-17T22:10:58.271052Z",
     "iopub.status.busy": "2021-10-17T22:10:58.270532Z",
     "iopub.status.idle": "2021-10-17T22:10:58.277085Z",
     "shell.execute_reply": "2021-10-17T22:10:58.276700Z"
    }
   },
   "outputs": [
    {
     "name": "stdout",
     "output_type": "stream",
     "text": [
      "Recent query happens at 2021-10-18 06:10:54 (CST).\n"
     ]
    }
   ],
   "source": [
    "def ts2dt(ts, format=DATETIME_FORMAT):\r\n",
    "    dt = (datetime.utcfromtimestamp(int(ts))\r\n",
    "                    .replace(tzinfo=tz.tzutc())\r\n",
    "                    # .astimezone(tz.tzlocal())\r\n",
    "                    .astimezone(tz.gettz(TIME_ZONE)))\r\n",
    "    return dt.strftime(format), dt\r\n",
    "\r\n",
    "_, newest_dt = ts2dt(newest_ts)\r\n",
    "print(f\"Recent query happens at {newest_dt.strftime(DATETIME_FORMAT)} ({newest_dt.tzname()}).\")"
   ]
  },
  {
   "cell_type": "code",
   "execution_count": 4,
   "metadata": {
    "execution": {
     "iopub.execute_input": "2021-10-17T22:10:58.281962Z",
     "iopub.status.busy": "2021-10-17T22:10:58.280964Z",
     "iopub.status.idle": "2021-10-17T22:10:58.282481Z",
     "shell.execute_reply": "2021-10-17T22:10:58.282843Z"
    }
   },
   "outputs": [],
   "source": [
    "def degrees_to_cardinal(d):\r\n",
    "  dirs = ['N', 'NNE', 'NE', 'ENE', 'E', 'ESE', 'SE', 'SSE', 'S', 'SSW', 'SW', 'WSW', 'W', 'WNW', 'NW', 'NNW']\r\n",
    "  ix = int(round(d / (360. / len(dirs))))\r\n",
    "  return dirs[ix % len(dirs)]"
   ]
  },
  {
   "cell_type": "code",
   "execution_count": 5,
   "metadata": {
    "execution": {
     "iopub.execute_input": "2021-10-17T22:10:58.286901Z",
     "iopub.status.busy": "2021-10-17T22:10:58.285746Z",
     "iopub.status.idle": "2021-10-17T22:10:58.287423Z",
     "shell.execute_reply": "2021-10-17T22:10:58.287784Z"
    }
   },
   "outputs": [],
   "source": [
    "# data.keys()"
   ]
  },
  {
   "cell_type": "code",
   "execution_count": 6,
   "metadata": {
    "execution": {
     "iopub.execute_input": "2021-10-17T22:10:58.291275Z",
     "iopub.status.busy": "2021-10-17T22:10:58.290288Z",
     "iopub.status.idle": "2021-10-17T22:10:58.291798Z",
     "shell.execute_reply": "2021-10-17T22:10:58.292160Z"
    }
   },
   "outputs": [],
   "source": [
    "# data['current']"
   ]
  },
  {
   "cell_type": "code",
   "execution_count": 7,
   "metadata": {
    "execution": {
     "iopub.execute_input": "2021-10-17T22:10:58.314474Z",
     "iopub.status.busy": "2021-10-17T22:10:58.313986Z",
     "iopub.status.idle": "2021-10-17T22:10:58.686195Z",
     "shell.execute_reply": "2021-10-17T22:10:58.685792Z"
    }
   },
   "outputs": [
    {
     "data": {
      "image/png": "[encoded data removed]",
      "text/plain": [
       "<Figure size 216x216 with 1 Axes>"
      ]
     },
     "metadata": {
      "needs_background": "light"
     },
     "output_type": "display_data"
    },
    {
     "name": "stdout",
     "output_type": "stream",
     "text": [
      "Today, sun rises at 06:20 and sets at 17:55.\n",
      "Currently, the weather is Clouds (overcast clouds).\n",
      "The temperature is 20.82°C and it feels like 21.05°C.\n",
      "The UV index is 0, humidity is 80%.\n",
      "The pressure is 1017 hPa, percentage of cloud cover is 97%\n",
      "The wind comes from NNE direction with a speed 4.47 m/s.\n"
     ]
    }
   ],
   "source": [
    "current = data['current']\r\n",
    "\r\n",
    "fig, ax = plt.subplots(figsize=(3, 3))\r\n",
    "icon = requests.get(f\"http://openweathermap.org/img/wn/{current['weather'][0]['icon']}@2x.png\")\r\n",
    "im = Image.open(BytesIO(icon.content))\r\n",
    "plt.imshow(im)\r\n",
    "ax.set_axis_off()\r\n",
    "plt.show()\r\n",
    "\r\n",
    "print(f\"Today, sun rises at {ts2dt(current['sunrise'], '%H:%M')[0]} \\\r\n",
    "and sets at {ts2dt(current['sunset'], '%H:%M')[0]}.\\n\\\r\n",
    "Currently, the weather is {current['weather'][0]['main']} ({current['weather'][0]['description']}).\\n\\\r\n",
    "The temperature is {current['temp']}°C and it feels like {current['feels_like']}°C.\\n\\\r\n",
    "The UV index is {current['uvi']}, humidity is {current['humidity']}%.\\n\\\r\n",
    "The pressure is {current['pressure']} hPa, percentage of cloud cover is {current['clouds']}%\\n\\\r\n",
    "The wind comes from {degrees_to_cardinal(current['wind_deg'])} direction with a speed {current['wind_speed']} m/s.\")"
   ]
  },
  {
   "cell_type": "code",
   "execution_count": 8,
   "metadata": {
    "execution": {
     "iopub.execute_input": "2021-10-17T22:10:58.692973Z",
     "iopub.status.busy": "2021-10-17T22:10:58.692118Z",
     "iopub.status.idle": "2021-10-17T22:10:58.694432Z",
     "shell.execute_reply": "2021-10-17T22:10:58.694873Z"
    }
   },
   "outputs": [],
   "source": [
    "df_hourly = pd.DataFrame(data['hourly'])\r\n",
    "df_daily = pd.DataFrame(data['daily'])"
   ]
  },
  {
   "cell_type": "code",
   "execution_count": 9,
   "metadata": {
    "execution": {
     "iopub.execute_input": "2021-10-17T22:10:58.697340Z",
     "iopub.status.busy": "2021-10-17T22:10:58.696889Z",
     "iopub.status.idle": "2021-10-17T22:10:58.944386Z",
     "shell.execute_reply": "2021-10-17T22:10:58.944782Z"
    }
   },
   "outputs": [
    {
     "data": {
      "image/png": "[encoded data removed]",
      "text/plain": [
       "<Figure size 864x432 with 1 Axes>"
      ]
     },
     "metadata": {
      "needs_background": "light"
     },
     "output_type": "display_data"
    }
   ],
   "source": [
    "fig, ax = plt.subplots(figsize=(12, 6))\r\n",
    "plt.plot(df_hourly.temp, '.-', label='Temperature')\r\n",
    "plt.plot(df_hourly.feels_like, '.-', label='Feels Like')\r\n",
    "ax.set(title='Temperature in future 48 hours', xlabel='Time', ylabel='Temperature')\r\n",
    "ax.set_xticks(list(range(0, len(df_hourly), 2)))\r\n",
    "ax.set_xticklabels([ts2dt(ts, '%m-%d %H:%M')[0] for i, ts in enumerate(df_hourly.dt) if i%2==0], \r\n",
    "                   rotation=45, ha=\"right\")\r\n",
    "ax.locator_params(nbins=15, axis='y')\r\n",
    "plt.legend()\r\n",
    "plt.show()"
   ]
  },
  {
   "cell_type": "code",
   "execution_count": 10,
   "metadata": {
    "execution": {
     "iopub.execute_input": "2021-10-17T22:10:58.949614Z",
     "iopub.status.busy": "2021-10-17T22:10:58.947055Z",
     "iopub.status.idle": "2021-10-17T22:10:58.967706Z",
     "shell.execute_reply": "2021-10-17T22:10:58.967304Z"
    }
   },
   "outputs": [
    {
     "data": {
      "text/html": [
       "<div>\n",
       "<style scoped>\n",
       "    .dataframe tbody tr th:only-of-type {\n",
       "        vertical-align: middle;\n",
       "    }\n",
       "\n",
       "    .dataframe tbody tr th {\n",
       "        vertical-align: top;\n",
       "    }\n",
       "\n",
       "    .dataframe thead th {\n",
       "        text-align: right;\n",
       "    }\n",
       "</style>\n",
       "<table border=\"1\" class=\"dataframe\">\n",
       "  <thead>\n",
       "    <tr style=\"text-align: right;\">\n",
       "      <th></th>\n",
       "      <th>dt</th>\n",
       "      <th>temp</th>\n",
       "      <th>feels_like</th>\n",
       "      <th>pressure</th>\n",
       "      <th>humidity</th>\n",
       "      <th>dew_point</th>\n",
       "      <th>uvi</th>\n",
       "      <th>clouds</th>\n",
       "      <th>visibility</th>\n",
       "      <th>wind_speed</th>\n",
       "      <th>wind_deg</th>\n",
       "      <th>wind_gust</th>\n",
       "      <th>weather</th>\n",
       "      <th>pop</th>\n",
       "    </tr>\n",
       "  </thead>\n",
       "  <tbody>\n",
       "    <tr>\n",
       "      <th>0</th>\n",
       "      <td>1634508000</td>\n",
       "      <td>20.82</td>\n",
       "      <td>21.05</td>\n",
       "      <td>1017</td>\n",
       "      <td>80</td>\n",
       "      <td>17.24</td>\n",
       "      <td>0.00</td>\n",
       "      <td>97</td>\n",
       "      <td>10000</td>\n",
       "      <td>4.26</td>\n",
       "      <td>36</td>\n",
       "      <td>5.31</td>\n",
       "      <td>[{'id': 804, 'main': 'Clouds', 'description': ...</td>\n",
       "      <td>0.0</td>\n",
       "    </tr>\n",
       "    <tr>\n",
       "      <th>1</th>\n",
       "      <td>1634511600</td>\n",
       "      <td>20.64</td>\n",
       "      <td>20.82</td>\n",
       "      <td>1017</td>\n",
       "      <td>79</td>\n",
       "      <td>16.87</td>\n",
       "      <td>0.00</td>\n",
       "      <td>97</td>\n",
       "      <td>10000</td>\n",
       "      <td>4.29</td>\n",
       "      <td>40</td>\n",
       "      <td>5.44</td>\n",
       "      <td>[{'id': 804, 'main': 'Clouds', 'description': ...</td>\n",
       "      <td>0.0</td>\n",
       "    </tr>\n",
       "    <tr>\n",
       "      <th>2</th>\n",
       "      <td>1634515200</td>\n",
       "      <td>20.68</td>\n",
       "      <td>20.81</td>\n",
       "      <td>1018</td>\n",
       "      <td>77</td>\n",
       "      <td>16.51</td>\n",
       "      <td>0.76</td>\n",
       "      <td>95</td>\n",
       "      <td>10000</td>\n",
       "      <td>4.47</td>\n",
       "      <td>41</td>\n",
       "      <td>5.64</td>\n",
       "      <td>[{'id': 804, 'main': 'Clouds', 'description': ...</td>\n",
       "      <td>0.0</td>\n",
       "    </tr>\n",
       "    <tr>\n",
       "      <th>3</th>\n",
       "      <td>1634518800</td>\n",
       "      <td>21.11</td>\n",
       "      <td>21.21</td>\n",
       "      <td>1019</td>\n",
       "      <td>74</td>\n",
       "      <td>16.30</td>\n",
       "      <td>2.38</td>\n",
       "      <td>88</td>\n",
       "      <td>10000</td>\n",
       "      <td>4.19</td>\n",
       "      <td>42</td>\n",
       "      <td>5.13</td>\n",
       "      <td>[{'id': 804, 'main': 'Clouds', 'description': ...</td>\n",
       "      <td>0.0</td>\n",
       "    </tr>\n",
       "    <tr>\n",
       "      <th>4</th>\n",
       "      <td>1634522400</td>\n",
       "      <td>21.87</td>\n",
       "      <td>21.97</td>\n",
       "      <td>1019</td>\n",
       "      <td>71</td>\n",
       "      <td>16.38</td>\n",
       "      <td>4.77</td>\n",
       "      <td>81</td>\n",
       "      <td>10000</td>\n",
       "      <td>3.70</td>\n",
       "      <td>47</td>\n",
       "      <td>4.53</td>\n",
       "      <td>[{'id': 803, 'main': 'Clouds', 'description': ...</td>\n",
       "      <td>0.0</td>\n",
       "    </tr>\n",
       "  </tbody>\n",
       "</table>\n",
       "</div>"
      ],
      "text/plain": [
       "           dt   temp  feels_like  pressure  humidity  dew_point   uvi  clouds  \\\n",
       "0  1634508000  20.82       21.05      1017        80      17.24  0.00      97   \n",
       "1  1634511600  20.64       20.82      1017        79      16.87  0.00      97   \n",
       "2  1634515200  20.68       20.81      1018        77      16.51  0.76      95   \n",
       "3  1634518800  21.11       21.21      1019        74      16.30  2.38      88   \n",
       "4  1634522400  21.87       21.97      1019        71      16.38  4.77      81   \n",
       "\n",
       "   visibility  wind_speed  wind_deg  wind_gust  \\\n",
       "0       10000        4.26        36       5.31   \n",
       "1       10000        4.29        40       5.44   \n",
       "2       10000        4.47        41       5.64   \n",
       "3       10000        4.19        42       5.13   \n",
       "4       10000        3.70        47       4.53   \n",
       "\n",
       "                                             weather  pop  \n",
       "0  [{'id': 804, 'main': 'Clouds', 'description': ...  0.0  \n",
       "1  [{'id': 804, 'main': 'Clouds', 'description': ...  0.0  \n",
       "2  [{'id': 804, 'main': 'Clouds', 'description': ...  0.0  \n",
       "3  [{'id': 804, 'main': 'Clouds', 'description': ...  0.0  \n",
       "4  [{'id': 803, 'main': 'Clouds', 'description': ...  0.0  "
      ]
     },
     "execution_count": 10,
     "metadata": {},
     "output_type": "execute_result"
    }
   ],
   "source": [
    "df_hourly.head()"
   ]
  },
  {
   "cell_type": "code",
   "execution_count": null,
   "metadata": {},
   "outputs": [],
   "source": []
  }
 ],
 "metadata": {
  "interpreter": {
   "hash": "c1b4cfe941b6d2466ad1fb5979e97da9cda8801728c8091b097ab734208fc00c"
  },
  "kernelspec": {
   "display_name": "Python 3.8.3 64-bit ('base': conda)",
   "name": "python3"
  },
  "language_info": {
   "codemirror_mode": {
    "name": "ipython",
    "version": 3
   },
   "file_extension": ".py",
   "mimetype": "text/x-python",
   "name": "python",
   "nbconvert_exporter": "python",
   "pygments_lexer": "ipython3",
   "version": "3.8.12"
  }
 },
 "nbformat": 4,
 "nbformat_minor": 2
}
