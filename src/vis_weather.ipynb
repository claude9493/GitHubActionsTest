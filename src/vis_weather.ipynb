{
 "cells": [
  {
   "cell_type": "code",
   "execution_count": 1,
   "metadata": {
    "execution": {
     "iopub.execute_input": "2021-10-06T21:09:51.861163Z",
     "iopub.status.busy": "2021-10-06T21:09:51.860370Z",
     "iopub.status.idle": "2021-10-06T21:09:53.327767Z",
     "shell.execute_reply": "2021-10-06T21:09:53.327118Z"
    }
   },
   "outputs": [],
   "source": [
    "import json, yaml, requests\r\n",
    "from datetime import datetime\r\n",
    "from dateutil import tz\r\n",
    "import pandas as pd\r\n",
    "from PIL import Image\r\n",
    "from io import BytesIO\r\n",
    "import matplotlib.pyplot as plt\r\n",
    "import seaborn\r\n",
    "\r\n",
    "CONFIG_PATH = \"../config/config.yaml\""
   ]
  },
  {
   "cell_type": "code",
   "execution_count": 2,
   "metadata": {
    "execution": {
     "iopub.execute_input": "2021-10-06T21:09:53.335501Z",
     "iopub.status.busy": "2021-10-06T21:09:53.332618Z",
     "iopub.status.idle": "2021-10-06T21:09:53.338144Z",
     "shell.execute_reply": "2021-10-06T21:09:53.337736Z"
    }
   },
   "outputs": [],
   "source": [
    "with open('../newest_ts', 'r') as f:\r\n",
    "    newest_ts = f.read()\r\n",
    "\r\n",
    "data_path = f\"../data/data_{newest_ts}.json\"\r\n",
    "with open(data_path, 'r') as f:\r\n",
    "    data = json.load(f)\r\n",
    "\r\n",
    "with open(CONFIG_PATH, \"r\") as stream:\r\n",
    "    config = yaml.safe_load(stream)\r\n",
    "\r\n",
    "TIME_ZONE = config['time_zone']\r\n",
    "DATETIME_FORMAT = config['dt_format']"
   ]
  },
  {
   "cell_type": "code",
   "execution_count": 3,
   "metadata": {
    "execution": {
     "iopub.execute_input": "2021-10-06T21:09:53.342450Z",
     "iopub.status.busy": "2021-10-06T21:09:53.340350Z",
     "iopub.status.idle": "2021-10-06T21:09:53.353882Z",
     "shell.execute_reply": "2021-10-06T21:09:53.354258Z"
    }
   },
   "outputs": [
    {
     "name": "stdout",
     "output_type": "stream",
     "text": [
      "Recent query happens at 2021-10-07 05:09:49 (CST).\n"
     ]
    }
   ],
   "source": [
    "def ts2dt(ts, format=DATETIME_FORMAT):\r\n",
    "    dt = (datetime.utcfromtimestamp(int(ts))\r\n",
    "                    .replace(tzinfo=tz.tzutc())\r\n",
    "                    # .astimezone(tz.tzlocal())\r\n",
    "                    .astimezone(tz.gettz(TIME_ZONE)))\r\n",
    "    return dt.strftime(format), dt\r\n",
    "\r\n",
    "_, newest_dt = ts2dt(newest_ts)\r\n",
    "print(f\"Recent query happens at {newest_dt.strftime(DATETIME_FORMAT)} ({newest_dt.tzname()}).\")"
   ]
  },
  {
   "cell_type": "code",
   "execution_count": 4,
   "metadata": {
    "execution": {
     "iopub.execute_input": "2021-10-06T21:09:53.359676Z",
     "iopub.status.busy": "2021-10-06T21:09:53.358470Z",
     "iopub.status.idle": "2021-10-06T21:09:53.360200Z",
     "shell.execute_reply": "2021-10-06T21:09:53.360562Z"
    }
   },
   "outputs": [],
   "source": [
    "def degrees_to_cardinal(d):\r\n",
    "  dirs = ['N', 'NNE', 'NE', 'ENE', 'E', 'ESE', 'SE', 'SSE', 'S', 'SSW', 'SW', 'WSW', 'W', 'WNW', 'NW', 'NNW']\r\n",
    "  ix = int(round(d / (360. / len(dirs))))\r\n",
    "  return dirs[ix % len(dirs)]"
   ]
  },
  {
   "cell_type": "code",
   "execution_count": 5,
   "metadata": {
    "execution": {
     "iopub.execute_input": "2021-10-06T21:09:53.364793Z",
     "iopub.status.busy": "2021-10-06T21:09:53.363771Z",
     "iopub.status.idle": "2021-10-06T21:09:53.365314Z",
     "shell.execute_reply": "2021-10-06T21:09:53.365671Z"
    }
   },
   "outputs": [],
   "source": [
    "# data.keys()"
   ]
  },
  {
   "cell_type": "code",
   "execution_count": 6,
   "metadata": {
    "execution": {
     "iopub.execute_input": "2021-10-06T21:09:53.369686Z",
     "iopub.status.busy": "2021-10-06T21:09:53.368648Z",
     "iopub.status.idle": "2021-10-06T21:09:53.370196Z",
     "shell.execute_reply": "2021-10-06T21:09:53.370555Z"
    }
   },
   "outputs": [],
   "source": [
    "# data['current']"
   ]
  },
  {
   "cell_type": "code",
   "execution_count": 7,
   "metadata": {
    "execution": {
     "iopub.execute_input": "2021-10-06T21:09:53.387188Z",
     "iopub.status.busy": "2021-10-06T21:09:53.386713Z",
     "iopub.status.idle": "2021-10-06T21:09:53.759200Z",
     "shell.execute_reply": "2021-10-06T21:09:53.759899Z"
    }
   },
   "outputs": [
    {
     "data": {
      "image/png": "[encoded data removed]",
      "text/plain": [
       "<Figure size 216x216 with 1 Axes>"
      ]
     },
     "metadata": {
      "needs_background": "light"
     },
     "output_type": "display_data"
    },
    {
     "name": "stdout",
     "output_type": "stream",
     "text": [
      "Today, sun rises at 06:16 and sets at 18:05.\n",
      "Currently, the weather is Clear (clear sky).\n",
      "The temperature is 28.84°C and it feels like 33.89°C.\n",
      "The UV index is 0, humidity is 78%.\n",
      "The pressure is 1004 hPa, percentage of cloud cover is 4%\n",
      "The wind comes from N direction with a speed 0.45 m/s.\n"
     ]
    }
   ],
   "source": [
    "current = data['current']\r\n",
    "\r\n",
    "fig, ax = plt.subplots(figsize=(3, 3))\r\n",
    "icon = requests.get(f\"http://openweathermap.org/img/wn/{current['weather'][0]['icon']}@2x.png\")\r\n",
    "im = Image.open(BytesIO(icon.content))\r\n",
    "plt.imshow(im)\r\n",
    "ax.set_axis_off()\r\n",
    "plt.show()\r\n",
    "\r\n",
    "print(f\"Today, sun rises at {ts2dt(current['sunrise'], '%H:%M')[0]} \\\r\n",
    "and sets at {ts2dt(current['sunset'], '%H:%M')[0]}.\\n\\\r\n",
    "Currently, the weather is {current['weather'][0]['main']} ({current['weather'][0]['description']}).\\n\\\r\n",
    "The temperature is {current['temp']}°C and it feels like {current['feels_like']}°C.\\n\\\r\n",
    "The UV index is {current['uvi']}, humidity is {current['humidity']}%.\\n\\\r\n",
    "The pressure is {current['pressure']} hPa, percentage of cloud cover is {current['clouds']}%\\n\\\r\n",
    "The wind comes from {degrees_to_cardinal(current['wind_deg'])} direction with a speed {current['wind_speed']} m/s.\")"
   ]
  },
  {
   "cell_type": "code",
   "execution_count": 8,
   "metadata": {
    "execution": {
     "iopub.execute_input": "2021-10-06T21:09:53.763138Z",
     "iopub.status.busy": "2021-10-06T21:09:53.762201Z",
     "iopub.status.idle": "2021-10-06T21:09:53.769487Z",
     "shell.execute_reply": "2021-10-06T21:09:53.770147Z"
    }
   },
   "outputs": [],
   "source": [
    "df_hourly = pd.DataFrame(data['hourly'])\r\n",
    "df_daily = pd.DataFrame(data['daily'])"
   ]
  },
  {
   "cell_type": "code",
   "execution_count": 9,
   "metadata": {
    "execution": {
     "iopub.execute_input": "2021-10-06T21:09:53.774085Z",
     "iopub.status.busy": "2021-10-06T21:09:53.773146Z",
     "iopub.status.idle": "2021-10-06T21:09:54.019242Z",
     "shell.execute_reply": "2021-10-06T21:09:54.019654Z"
    }
   },
   "outputs": [
    {
     "data": {
      "image/png": "[encoded data removed]",
      "text/plain": [
       "<Figure size 864x432 with 1 Axes>"
      ]
     },
     "metadata": {
      "needs_background": "light"
     },
     "output_type": "display_data"
    }
   ],
   "source": [
    "fig, ax = plt.subplots(figsize=(12, 6))\r\n",
    "plt.plot(df_hourly.temp, '.-', label='Temperature')\r\n",
    "plt.plot(df_hourly.feels_like, '.-', label='Feels Like')\r\n",
    "ax.set(title='Temperature in future 48 hours', xlabel='Time', ylabel='Temperature')\r\n",
    "ax.set_xticks(list(range(0, len(df_hourly), 2)))\r\n",
    "ax.set_xticklabels([ts2dt(ts, '%m-%d %H:%M')[0] for i, ts in enumerate(df_hourly.dt) if i%2==0], \r\n",
    "                   rotation=45, ha=\"right\")\r\n",
    "ax.locator_params(nbins=15, axis='y')\r\n",
    "plt.legend()\r\n",
    "plt.show()"
   ]
  },
  {
   "cell_type": "code",
   "execution_count": 10,
   "metadata": {
    "execution": {
     "iopub.execute_input": "2021-10-06T21:09:54.024332Z",
     "iopub.status.busy": "2021-10-06T21:09:54.023867Z",
     "iopub.status.idle": "2021-10-06T21:09:54.042011Z",
     "shell.execute_reply": "2021-10-06T21:09:54.041604Z"
    }
   },
   "outputs": [
    {
     "data": {
      "text/html": [
       "<div>\n",
       "<style scoped>\n",
       "    .dataframe tbody tr th:only-of-type {\n",
       "        vertical-align: middle;\n",
       "    }\n",
       "\n",
       "    .dataframe tbody tr th {\n",
       "        vertical-align: top;\n",
       "    }\n",
       "\n",
       "    .dataframe thead th {\n",
       "        text-align: right;\n",
       "    }\n",
       "</style>\n",
       "<table border=\"1\" class=\"dataframe\">\n",
       "  <thead>\n",
       "    <tr style=\"text-align: right;\">\n",
       "      <th></th>\n",
       "      <th>dt</th>\n",
       "      <th>temp</th>\n",
       "      <th>feels_like</th>\n",
       "      <th>pressure</th>\n",
       "      <th>humidity</th>\n",
       "      <th>dew_point</th>\n",
       "      <th>uvi</th>\n",
       "      <th>clouds</th>\n",
       "      <th>visibility</th>\n",
       "      <th>wind_speed</th>\n",
       "      <th>wind_deg</th>\n",
       "      <th>wind_gust</th>\n",
       "      <th>weather</th>\n",
       "      <th>pop</th>\n",
       "      <th>rain</th>\n",
       "    </tr>\n",
       "  </thead>\n",
       "  <tbody>\n",
       "    <tr>\n",
       "      <th>0</th>\n",
       "      <td>1633554000</td>\n",
       "      <td>28.84</td>\n",
       "      <td>33.89</td>\n",
       "      <td>1004</td>\n",
       "      <td>78</td>\n",
       "      <td>24.62</td>\n",
       "      <td>0.00</td>\n",
       "      <td>4</td>\n",
       "      <td>10000</td>\n",
       "      <td>9.67</td>\n",
       "      <td>73</td>\n",
       "      <td>13.32</td>\n",
       "      <td>[{'id': 500, 'main': 'Rain', 'description': 'l...</td>\n",
       "      <td>0.77</td>\n",
       "      <td>{'1h': 0.31}</td>\n",
       "    </tr>\n",
       "    <tr>\n",
       "      <th>1</th>\n",
       "      <td>1633557600</td>\n",
       "      <td>28.51</td>\n",
       "      <td>33.41</td>\n",
       "      <td>1005</td>\n",
       "      <td>80</td>\n",
       "      <td>24.72</td>\n",
       "      <td>0.00</td>\n",
       "      <td>4</td>\n",
       "      <td>10000</td>\n",
       "      <td>9.47</td>\n",
       "      <td>68</td>\n",
       "      <td>13.42</td>\n",
       "      <td>[{'id': 800, 'main': 'Clear', 'description': '...</td>\n",
       "      <td>0.81</td>\n",
       "      <td>NaN</td>\n",
       "    </tr>\n",
       "    <tr>\n",
       "      <th>2</th>\n",
       "      <td>1633561200</td>\n",
       "      <td>28.23</td>\n",
       "      <td>32.68</td>\n",
       "      <td>1005</td>\n",
       "      <td>80</td>\n",
       "      <td>24.45</td>\n",
       "      <td>0.13</td>\n",
       "      <td>4</td>\n",
       "      <td>10000</td>\n",
       "      <td>9.02</td>\n",
       "      <td>64</td>\n",
       "      <td>13.20</td>\n",
       "      <td>[{'id': 800, 'main': 'Clear', 'description': '...</td>\n",
       "      <td>0.81</td>\n",
       "      <td>NaN</td>\n",
       "    </tr>\n",
       "    <tr>\n",
       "      <th>3</th>\n",
       "      <td>1633564800</td>\n",
       "      <td>28.27</td>\n",
       "      <td>32.45</td>\n",
       "      <td>1006</td>\n",
       "      <td>78</td>\n",
       "      <td>24.07</td>\n",
       "      <td>0.88</td>\n",
       "      <td>5</td>\n",
       "      <td>10000</td>\n",
       "      <td>8.77</td>\n",
       "      <td>62</td>\n",
       "      <td>13.18</td>\n",
       "      <td>[{'id': 800, 'main': 'Clear', 'description': '...</td>\n",
       "      <td>0.77</td>\n",
       "      <td>NaN</td>\n",
       "    </tr>\n",
       "    <tr>\n",
       "      <th>4</th>\n",
       "      <td>1633568400</td>\n",
       "      <td>28.60</td>\n",
       "      <td>32.55</td>\n",
       "      <td>1007</td>\n",
       "      <td>74</td>\n",
       "      <td>23.51</td>\n",
       "      <td>2.63</td>\n",
       "      <td>7</td>\n",
       "      <td>10000</td>\n",
       "      <td>8.76</td>\n",
       "      <td>64</td>\n",
       "      <td>13.19</td>\n",
       "      <td>[{'id': 800, 'main': 'Clear', 'description': '...</td>\n",
       "      <td>0.23</td>\n",
       "      <td>NaN</td>\n",
       "    </tr>\n",
       "  </tbody>\n",
       "</table>\n",
       "</div>"
      ],
      "text/plain": [
       "           dt   temp  feels_like  pressure  humidity  dew_point   uvi  clouds  \\\n",
       "0  1633554000  28.84       33.89      1004        78      24.62  0.00       4   \n",
       "1  1633557600  28.51       33.41      1005        80      24.72  0.00       4   \n",
       "2  1633561200  28.23       32.68      1005        80      24.45  0.13       4   \n",
       "3  1633564800  28.27       32.45      1006        78      24.07  0.88       5   \n",
       "4  1633568400  28.60       32.55      1007        74      23.51  2.63       7   \n",
       "\n",
       "   visibility  wind_speed  wind_deg  wind_gust  \\\n",
       "0       10000        9.67        73      13.32   \n",
       "1       10000        9.47        68      13.42   \n",
       "2       10000        9.02        64      13.20   \n",
       "3       10000        8.77        62      13.18   \n",
       "4       10000        8.76        64      13.19   \n",
       "\n",
       "                                             weather   pop          rain  \n",
       "0  [{'id': 500, 'main': 'Rain', 'description': 'l...  0.77  {'1h': 0.31}  \n",
       "1  [{'id': 800, 'main': 'Clear', 'description': '...  0.81           NaN  \n",
       "2  [{'id': 800, 'main': 'Clear', 'description': '...  0.81           NaN  \n",
       "3  [{'id': 800, 'main': 'Clear', 'description': '...  0.77           NaN  \n",
       "4  [{'id': 800, 'main': 'Clear', 'description': '...  0.23           NaN  "
      ]
     },
     "execution_count": 10,
     "metadata": {},
     "output_type": "execute_result"
    }
   ],
   "source": [
    "df_hourly.head()"
   ]
  },
  {
   "cell_type": "code",
   "execution_count": null,
   "metadata": {},
   "outputs": [],
   "source": []
  }
 ],
 "metadata": {
  "interpreter": {
   "hash": "c1b4cfe941b6d2466ad1fb5979e97da9cda8801728c8091b097ab734208fc00c"
  },
  "kernelspec": {
   "display_name": "Python 3.8.3 64-bit ('base': conda)",
   "name": "python3"
  },
  "language_info": {
   "codemirror_mode": {
    "name": "ipython",
    "version": 3
   },
   "file_extension": ".py",
   "mimetype": "text/x-python",
   "name": "python",
   "nbconvert_exporter": "python",
   "pygments_lexer": "ipython3",
   "version": "3.8.12"
  }
 },
 "nbformat": 4,
 "nbformat_minor": 2
}
