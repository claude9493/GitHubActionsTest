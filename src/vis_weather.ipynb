{
 "cells": [
  {
   "cell_type": "code",
   "execution_count": 1,
   "metadata": {
    "execution": {
     "iopub.execute_input": "2021-10-14T06:13:42.528713Z",
     "iopub.status.busy": "2021-10-14T06:13:42.528096Z",
     "iopub.status.idle": "2021-10-14T06:13:43.801704Z",
     "shell.execute_reply": "2021-10-14T06:13:43.800682Z"
    }
   },
   "outputs": [],
   "source": [
    "import json, yaml, requests\r\n",
    "from datetime import datetime\r\n",
    "from dateutil import tz\r\n",
    "import pandas as pd\r\n",
    "from PIL import Image\r\n",
    "from io import BytesIO\r\n",
    "import matplotlib.pyplot as plt\r\n",
    "import seaborn\r\n",
    "\r\n",
    "CONFIG_PATH = \"../config/config.yaml\""
   ]
  },
  {
   "cell_type": "code",
   "execution_count": 2,
   "metadata": {
    "execution": {
     "iopub.execute_input": "2021-10-14T06:13:43.806989Z",
     "iopub.status.busy": "2021-10-14T06:13:43.806167Z",
     "iopub.status.idle": "2021-10-14T06:13:43.811620Z",
     "shell.execute_reply": "2021-10-14T06:13:43.810918Z"
    }
   },
   "outputs": [],
   "source": [
    "with open('../newest_ts', 'r') as f:\r\n",
    "    newest_ts = f.read()\r\n",
    "\r\n",
    "data_path = f\"../data/data_{newest_ts}.json\"\r\n",
    "with open(data_path, 'r') as f:\r\n",
    "    data = json.load(f)\r\n",
    "\r\n",
    "with open(CONFIG_PATH, \"r\") as stream:\r\n",
    "    config = yaml.safe_load(stream)\r\n",
    "\r\n",
    "TIME_ZONE = config['time_zone']\r\n",
    "DATETIME_FORMAT = config['dt_format']"
   ]
  },
  {
   "cell_type": "code",
   "execution_count": 3,
   "metadata": {
    "execution": {
     "iopub.execute_input": "2021-10-14T06:13:43.816162Z",
     "iopub.status.busy": "2021-10-14T06:13:43.815672Z",
     "iopub.status.idle": "2021-10-14T06:13:43.834119Z",
     "shell.execute_reply": "2021-10-14T06:13:43.833717Z"
    }
   },
   "outputs": [
    {
     "name": "stdout",
     "output_type": "stream",
     "text": [
      "Recent query happens at 2021-10-14 14:13:39 (CST).\n"
     ]
    }
   ],
   "source": [
    "def ts2dt(ts, format=DATETIME_FORMAT):\r\n",
    "    dt = (datetime.utcfromtimestamp(int(ts))\r\n",
    "                    .replace(tzinfo=tz.tzutc())\r\n",
    "                    # .astimezone(tz.tzlocal())\r\n",
    "                    .astimezone(tz.gettz(TIME_ZONE)))\r\n",
    "    return dt.strftime(format), dt\r\n",
    "\r\n",
    "_, newest_dt = ts2dt(newest_ts)\r\n",
    "print(f\"Recent query happens at {newest_dt.strftime(DATETIME_FORMAT)} ({newest_dt.tzname()}).\")"
   ]
  },
  {
   "cell_type": "code",
   "execution_count": 4,
   "metadata": {
    "execution": {
     "iopub.execute_input": "2021-10-14T06:13:43.838257Z",
     "iopub.status.busy": "2021-10-14T06:13:43.837796Z",
     "iopub.status.idle": "2021-10-14T06:13:43.840778Z",
     "shell.execute_reply": "2021-10-14T06:13:43.840389Z"
    }
   },
   "outputs": [],
   "source": [
    "def degrees_to_cardinal(d):\r\n",
    "  dirs = ['N', 'NNE', 'NE', 'ENE', 'E', 'ESE', 'SE', 'SSE', 'S', 'SSW', 'SW', 'WSW', 'W', 'WNW', 'NW', 'NNW']\r\n",
    "  ix = int(round(d / (360. / len(dirs))))\r\n",
    "  return dirs[ix % len(dirs)]"
   ]
  },
  {
   "cell_type": "code",
   "execution_count": 5,
   "metadata": {
    "execution": {
     "iopub.execute_input": "2021-10-14T06:13:43.844863Z",
     "iopub.status.busy": "2021-10-14T06:13:43.843676Z",
     "iopub.status.idle": "2021-10-14T06:13:43.845391Z",
     "shell.execute_reply": "2021-10-14T06:13:43.845756Z"
    }
   },
   "outputs": [],
   "source": [
    "# data.keys()"
   ]
  },
  {
   "cell_type": "code",
   "execution_count": 6,
   "metadata": {
    "execution": {
     "iopub.execute_input": "2021-10-14T06:13:43.849589Z",
     "iopub.status.busy": "2021-10-14T06:13:43.848470Z",
     "iopub.status.idle": "2021-10-14T06:13:43.850110Z",
     "shell.execute_reply": "2021-10-14T06:13:43.850473Z"
    }
   },
   "outputs": [],
   "source": [
    "# data['current']"
   ]
  },
  {
   "cell_type": "code",
   "execution_count": 7,
   "metadata": {
    "execution": {
     "iopub.execute_input": "2021-10-14T06:13:43.867128Z",
     "iopub.status.busy": "2021-10-14T06:13:43.866655Z",
     "iopub.status.idle": "2021-10-14T06:13:44.131220Z",
     "shell.execute_reply": "2021-10-14T06:13:44.131602Z"
    }
   },
   "outputs": [
    {
     "data": {
      "image/png": "[encoded data removed]",
      "text/plain": [
       "<Figure size 216x216 with 1 Axes>"
      ]
     },
     "metadata": {
      "needs_background": "light"
     },
     "output_type": "display_data"
    },
    {
     "name": "stdout",
     "output_type": "stream",
     "text": [
      "Today, sun rises at 06:18 and sets at 17:59.\n",
      "Currently, the weather is Clouds (broken clouds).\n",
      "The temperature is 29.78°C and it feels like 36.78°C.\n",
      "The UV index is 6.83, humidity is 82%.\n",
      "The pressure is 1007 hPa, percentage of cloud cover is 82%\n",
      "The wind comes from NNW direction with a speed 0.89 m/s.\n"
     ]
    }
   ],
   "source": [
    "current = data['current']\r\n",
    "\r\n",
    "fig, ax = plt.subplots(figsize=(3, 3))\r\n",
    "icon = requests.get(f\"http://openweathermap.org/img/wn/{current['weather'][0]['icon']}@2x.png\")\r\n",
    "im = Image.open(BytesIO(icon.content))\r\n",
    "plt.imshow(im)\r\n",
    "ax.set_axis_off()\r\n",
    "plt.show()\r\n",
    "\r\n",
    "print(f\"Today, sun rises at {ts2dt(current['sunrise'], '%H:%M')[0]} \\\r\n",
    "and sets at {ts2dt(current['sunset'], '%H:%M')[0]}.\\n\\\r\n",
    "Currently, the weather is {current['weather'][0]['main']} ({current['weather'][0]['description']}).\\n\\\r\n",
    "The temperature is {current['temp']}°C and it feels like {current['feels_like']}°C.\\n\\\r\n",
    "The UV index is {current['uvi']}, humidity is {current['humidity']}%.\\n\\\r\n",
    "The pressure is {current['pressure']} hPa, percentage of cloud cover is {current['clouds']}%\\n\\\r\n",
    "The wind comes from {degrees_to_cardinal(current['wind_deg'])} direction with a speed {current['wind_speed']} m/s.\")"
   ]
  },
  {
   "cell_type": "code",
   "execution_count": 8,
   "metadata": {
    "execution": {
     "iopub.execute_input": "2021-10-14T06:13:44.138483Z",
     "iopub.status.busy": "2021-10-14T06:13:44.138001Z",
     "iopub.status.idle": "2021-10-14T06:13:44.139815Z",
     "shell.execute_reply": "2021-10-14T06:13:44.140191Z"
    }
   },
   "outputs": [],
   "source": [
    "df_hourly = pd.DataFrame(data['hourly'])\r\n",
    "df_daily = pd.DataFrame(data['daily'])"
   ]
  },
  {
   "cell_type": "code",
   "execution_count": 9,
   "metadata": {
    "execution": {
     "iopub.execute_input": "2021-10-14T06:13:44.152923Z",
     "iopub.status.busy": "2021-10-14T06:13:44.146442Z",
     "iopub.status.idle": "2021-10-14T06:13:44.367448Z",
     "shell.execute_reply": "2021-10-14T06:13:44.367006Z"
    }
   },
   "outputs": [
    {
     "data": {
      "image/png": "[encoded data removed]",
      "text/plain": [
       "<Figure size 864x432 with 1 Axes>"
      ]
     },
     "metadata": {
      "needs_background": "light"
     },
     "output_type": "display_data"
    }
   ],
   "source": [
    "fig, ax = plt.subplots(figsize=(12, 6))\r\n",
    "plt.plot(df_hourly.temp, '.-', label='Temperature')\r\n",
    "plt.plot(df_hourly.feels_like, '.-', label='Feels Like')\r\n",
    "ax.set(title='Temperature in future 48 hours', xlabel='Time', ylabel='Temperature')\r\n",
    "ax.set_xticks(list(range(0, len(df_hourly), 2)))\r\n",
    "ax.set_xticklabels([ts2dt(ts, '%m-%d %H:%M')[0] for i, ts in enumerate(df_hourly.dt) if i%2==0], \r\n",
    "                   rotation=45, ha=\"right\")\r\n",
    "ax.locator_params(nbins=15, axis='y')\r\n",
    "plt.legend()\r\n",
    "plt.show()"
   ]
  },
  {
   "cell_type": "code",
   "execution_count": 10,
   "metadata": {
    "execution": {
     "iopub.execute_input": "2021-10-14T06:13:44.379148Z",
     "iopub.status.busy": "2021-10-14T06:13:44.371439Z",
     "iopub.status.idle": "2021-10-14T06:13:44.390344Z",
     "shell.execute_reply": "2021-10-14T06:13:44.390716Z"
    }
   },
   "outputs": [
    {
     "data": {
      "text/html": [
       "<div>\n",
       "<style scoped>\n",
       "    .dataframe tbody tr th:only-of-type {\n",
       "        vertical-align: middle;\n",
       "    }\n",
       "\n",
       "    .dataframe tbody tr th {\n",
       "        vertical-align: top;\n",
       "    }\n",
       "\n",
       "    .dataframe thead th {\n",
       "        text-align: right;\n",
       "    }\n",
       "</style>\n",
       "<table border=\"1\" class=\"dataframe\">\n",
       "  <thead>\n",
       "    <tr style=\"text-align: right;\">\n",
       "      <th></th>\n",
       "      <th>dt</th>\n",
       "      <th>temp</th>\n",
       "      <th>feels_like</th>\n",
       "      <th>pressure</th>\n",
       "      <th>humidity</th>\n",
       "      <th>dew_point</th>\n",
       "      <th>uvi</th>\n",
       "      <th>clouds</th>\n",
       "      <th>visibility</th>\n",
       "      <th>wind_speed</th>\n",
       "      <th>wind_deg</th>\n",
       "      <th>wind_gust</th>\n",
       "      <th>weather</th>\n",
       "      <th>pop</th>\n",
       "      <th>rain</th>\n",
       "    </tr>\n",
       "  </thead>\n",
       "  <tbody>\n",
       "    <tr>\n",
       "      <th>0</th>\n",
       "      <td>1634191200</td>\n",
       "      <td>29.78</td>\n",
       "      <td>36.78</td>\n",
       "      <td>1007</td>\n",
       "      <td>82</td>\n",
       "      <td>26.37</td>\n",
       "      <td>6.83</td>\n",
       "      <td>82</td>\n",
       "      <td>10000</td>\n",
       "      <td>4.34</td>\n",
       "      <td>70</td>\n",
       "      <td>5.49</td>\n",
       "      <td>[{'id': 803, 'main': 'Clouds', 'description': ...</td>\n",
       "      <td>0.31</td>\n",
       "      <td>NaN</td>\n",
       "    </tr>\n",
       "    <tr>\n",
       "      <th>1</th>\n",
       "      <td>1634194800</td>\n",
       "      <td>29.48</td>\n",
       "      <td>36.11</td>\n",
       "      <td>1007</td>\n",
       "      <td>80</td>\n",
       "      <td>25.66</td>\n",
       "      <td>3.70</td>\n",
       "      <td>83</td>\n",
       "      <td>10000</td>\n",
       "      <td>4.61</td>\n",
       "      <td>69</td>\n",
       "      <td>5.54</td>\n",
       "      <td>[{'id': 803, 'main': 'Clouds', 'description': ...</td>\n",
       "      <td>0.50</td>\n",
       "      <td>NaN</td>\n",
       "    </tr>\n",
       "    <tr>\n",
       "      <th>2</th>\n",
       "      <td>1634198400</td>\n",
       "      <td>29.11</td>\n",
       "      <td>35.05</td>\n",
       "      <td>1007</td>\n",
       "      <td>80</td>\n",
       "      <td>25.30</td>\n",
       "      <td>1.74</td>\n",
       "      <td>87</td>\n",
       "      <td>10000</td>\n",
       "      <td>4.83</td>\n",
       "      <td>65</td>\n",
       "      <td>5.60</td>\n",
       "      <td>[{'id': 804, 'main': 'Clouds', 'description': ...</td>\n",
       "      <td>0.54</td>\n",
       "      <td>NaN</td>\n",
       "    </tr>\n",
       "    <tr>\n",
       "      <th>3</th>\n",
       "      <td>1634202000</td>\n",
       "      <td>28.42</td>\n",
       "      <td>33.17</td>\n",
       "      <td>1008</td>\n",
       "      <td>80</td>\n",
       "      <td>24.63</td>\n",
       "      <td>0.48</td>\n",
       "      <td>90</td>\n",
       "      <td>10000</td>\n",
       "      <td>4.58</td>\n",
       "      <td>66</td>\n",
       "      <td>5.60</td>\n",
       "      <td>[{'id': 804, 'main': 'Clouds', 'description': ...</td>\n",
       "      <td>0.58</td>\n",
       "      <td>NaN</td>\n",
       "    </tr>\n",
       "    <tr>\n",
       "      <th>4</th>\n",
       "      <td>1634205600</td>\n",
       "      <td>27.38</td>\n",
       "      <td>30.96</td>\n",
       "      <td>1009</td>\n",
       "      <td>83</td>\n",
       "      <td>24.24</td>\n",
       "      <td>0.00</td>\n",
       "      <td>94</td>\n",
       "      <td>10000</td>\n",
       "      <td>3.78</td>\n",
       "      <td>63</td>\n",
       "      <td>4.88</td>\n",
       "      <td>[{'id': 804, 'main': 'Clouds', 'description': ...</td>\n",
       "      <td>0.58</td>\n",
       "      <td>NaN</td>\n",
       "    </tr>\n",
       "  </tbody>\n",
       "</table>\n",
       "</div>"
      ],
      "text/plain": [
       "           dt   temp  feels_like  pressure  humidity  dew_point   uvi  clouds  \\\n",
       "0  1634191200  29.78       36.78      1007        82      26.37  6.83      82   \n",
       "1  1634194800  29.48       36.11      1007        80      25.66  3.70      83   \n",
       "2  1634198400  29.11       35.05      1007        80      25.30  1.74      87   \n",
       "3  1634202000  28.42       33.17      1008        80      24.63  0.48      90   \n",
       "4  1634205600  27.38       30.96      1009        83      24.24  0.00      94   \n",
       "\n",
       "   visibility  wind_speed  wind_deg  wind_gust  \\\n",
       "0       10000        4.34        70       5.49   \n",
       "1       10000        4.61        69       5.54   \n",
       "2       10000        4.83        65       5.60   \n",
       "3       10000        4.58        66       5.60   \n",
       "4       10000        3.78        63       4.88   \n",
       "\n",
       "                                             weather   pop rain  \n",
       "0  [{'id': 803, 'main': 'Clouds', 'description': ...  0.31  NaN  \n",
       "1  [{'id': 803, 'main': 'Clouds', 'description': ...  0.50  NaN  \n",
       "2  [{'id': 804, 'main': 'Clouds', 'description': ...  0.54  NaN  \n",
       "3  [{'id': 804, 'main': 'Clouds', 'description': ...  0.58  NaN  \n",
       "4  [{'id': 804, 'main': 'Clouds', 'description': ...  0.58  NaN  "
      ]
     },
     "execution_count": 10,
     "metadata": {},
     "output_type": "execute_result"
    }
   ],
   "source": [
    "df_hourly.head()"
   ]
  },
  {
   "cell_type": "code",
   "execution_count": null,
   "metadata": {},
   "outputs": [],
   "source": []
  }
 ],
 "metadata": {
  "interpreter": {
   "hash": "c1b4cfe941b6d2466ad1fb5979e97da9cda8801728c8091b097ab734208fc00c"
  },
  "kernelspec": {
   "display_name": "Python 3.8.3 64-bit ('base': conda)",
   "name": "python3"
  },
  "language_info": {
   "codemirror_mode": {
    "name": "ipython",
    "version": 3
   },
   "file_extension": ".py",
   "mimetype": "text/x-python",
   "name": "python",
   "nbconvert_exporter": "python",
   "pygments_lexer": "ipython3",
   "version": "3.8.12"
  }
 },
 "nbformat": 4,
 "nbformat_minor": 2
}
