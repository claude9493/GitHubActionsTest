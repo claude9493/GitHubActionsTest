{
 "cells": [
  {
   "cell_type": "code",
   "execution_count": 1,
   "metadata": {
    "execution": {
     "iopub.execute_input": "2021-10-24T03:12:20.276972Z",
     "iopub.status.busy": "2021-10-24T03:12:20.276509Z",
     "iopub.status.idle": "2021-10-24T03:12:22.514242Z",
     "shell.execute_reply": "2021-10-24T03:12:22.514657Z"
    }
   },
   "outputs": [],
   "source": [
    "import json, yaml, requests\r\n",
    "from datetime import datetime\r\n",
    "from dateutil import tz\r\n",
    "import pandas as pd\r\n",
    "from PIL import Image\r\n",
    "from io import BytesIO\r\n",
    "import matplotlib.pyplot as plt\r\n",
    "import seaborn\r\n",
    "\r\n",
    "CONFIG_PATH = \"../config/config.yaml\""
   ]
  },
  {
   "cell_type": "code",
   "execution_count": 2,
   "metadata": {
    "execution": {
     "iopub.execute_input": "2021-10-24T03:12:22.519842Z",
     "iopub.status.busy": "2021-10-24T03:12:22.519220Z",
     "iopub.status.idle": "2021-10-24T03:12:22.524229Z",
     "shell.execute_reply": "2021-10-24T03:12:22.523522Z"
    }
   },
   "outputs": [],
   "source": [
    "with open('../newest_ts', 'r') as f:\r\n",
    "    newest_ts = f.read()\r\n",
    "\r\n",
    "data_path = f\"../data/data_{newest_ts}.json\"\r\n",
    "with open(data_path, 'r') as f:\r\n",
    "    data = json.load(f)\r\n",
    "\r\n",
    "with open(CONFIG_PATH, \"r\") as stream:\r\n",
    "    config = yaml.safe_load(stream)\r\n",
    "\r\n",
    "TIME_ZONE = config['time_zone']\r\n",
    "DATETIME_FORMAT = config['dt_format']"
   ]
  },
  {
   "cell_type": "code",
   "execution_count": 3,
   "metadata": {
    "execution": {
     "iopub.execute_input": "2021-10-24T03:12:22.528545Z",
     "iopub.status.busy": "2021-10-24T03:12:22.528085Z",
     "iopub.status.idle": "2021-10-24T03:12:22.540943Z",
     "shell.execute_reply": "2021-10-24T03:12:22.540539Z"
    }
   },
   "outputs": [
    {
     "name": "stdout",
     "output_type": "stream",
     "text": [
      "Recent query happens at 2021-10-24 11:12:17 (CST).\n"
     ]
    }
   ],
   "source": [
    "def ts2dt(ts, format=DATETIME_FORMAT):\r\n",
    "    dt = (datetime.utcfromtimestamp(int(ts))\r\n",
    "                    .replace(tzinfo=tz.tzutc())\r\n",
    "                    # .astimezone(tz.tzlocal())\r\n",
    "                    .astimezone(tz.gettz(TIME_ZONE)))\r\n",
    "    return dt.strftime(format), dt\r\n",
    "\r\n",
    "_, newest_dt = ts2dt(newest_ts)\r\n",
    "print(f\"Recent query happens at {newest_dt.strftime(DATETIME_FORMAT)} ({newest_dt.tzname()}).\")"
   ]
  },
  {
   "cell_type": "code",
   "execution_count": 4,
   "metadata": {
    "execution": {
     "iopub.execute_input": "2021-10-24T03:12:22.545535Z",
     "iopub.status.busy": "2021-10-24T03:12:22.544402Z",
     "iopub.status.idle": "2021-10-24T03:12:22.546053Z",
     "shell.execute_reply": "2021-10-24T03:12:22.546426Z"
    }
   },
   "outputs": [],
   "source": [
    "def degrees_to_cardinal(d):\r\n",
    "  dirs = ['N', 'NNE', 'NE', 'ENE', 'E', 'ESE', 'SE', 'SSE', 'S', 'SSW', 'SW', 'WSW', 'W', 'WNW', 'NW', 'NNW']\r\n",
    "  ix = int(round(d / (360. / len(dirs))))\r\n",
    "  return dirs[ix % len(dirs)]"
   ]
  },
  {
   "cell_type": "code",
   "execution_count": 5,
   "metadata": {
    "execution": {
     "iopub.execute_input": "2021-10-24T03:12:22.550257Z",
     "iopub.status.busy": "2021-10-24T03:12:22.549250Z",
     "iopub.status.idle": "2021-10-24T03:12:22.550769Z",
     "shell.execute_reply": "2021-10-24T03:12:22.551133Z"
    }
   },
   "outputs": [],
   "source": [
    "# data.keys()"
   ]
  },
  {
   "cell_type": "code",
   "execution_count": 6,
   "metadata": {
    "execution": {
     "iopub.execute_input": "2021-10-24T03:12:22.554692Z",
     "iopub.status.busy": "2021-10-24T03:12:22.553573Z",
     "iopub.status.idle": "2021-10-24T03:12:22.555209Z",
     "shell.execute_reply": "2021-10-24T03:12:22.555599Z"
    }
   },
   "outputs": [],
   "source": [
    "# data['current']"
   ]
  },
  {
   "cell_type": "code",
   "execution_count": 7,
   "metadata": {
    "execution": {
     "iopub.execute_input": "2021-10-24T03:12:22.571669Z",
     "iopub.status.busy": "2021-10-24T03:12:22.571185Z",
     "iopub.status.idle": "2021-10-24T03:12:22.934421Z",
     "shell.execute_reply": "2021-10-24T03:12:22.935015Z"
    }
   },
   "outputs": [
    {
     "data": {
      "image/png": "[encoded data removed]",
      "text/plain": [
       "<Figure size 216x216 with 1 Axes>"
      ]
     },
     "metadata": {
      "needs_background": "light"
     },
     "output_type": "display_data"
    },
    {
     "name": "stdout",
     "output_type": "stream",
     "text": [
      "Today, sun rises at 06:22 and sets at 17:51.\n",
      "Currently, the weather is Clouds (few clouds).\n",
      "The temperature is 23.88°C and it feels like 24.1°C.\n",
      "The UV index is 6.38, humidity is 68%.\n",
      "The pressure is 1020 hPa, percentage of cloud cover is 12%\n",
      "The wind comes from NNE direction with a speed 2.86 m/s.\n"
     ]
    }
   ],
   "source": [
    "current = data['current']\r\n",
    "\r\n",
    "fig, ax = plt.subplots(figsize=(3, 3))\r\n",
    "icon = requests.get(f\"http://openweathermap.org/img/wn/{current['weather'][0]['icon']}@2x.png\")\r\n",
    "im = Image.open(BytesIO(icon.content))\r\n",
    "plt.imshow(im)\r\n",
    "ax.set_axis_off()\r\n",
    "plt.show()\r\n",
    "\r\n",
    "print(f\"Today, sun rises at {ts2dt(current['sunrise'], '%H:%M')[0]} \\\r\n",
    "and sets at {ts2dt(current['sunset'], '%H:%M')[0]}.\\n\\\r\n",
    "Currently, the weather is {current['weather'][0]['main']} ({current['weather'][0]['description']}).\\n\\\r\n",
    "The temperature is {current['temp']}°C and it feels like {current['feels_like']}°C.\\n\\\r\n",
    "The UV index is {current['uvi']}, humidity is {current['humidity']}%.\\n\\\r\n",
    "The pressure is {current['pressure']} hPa, percentage of cloud cover is {current['clouds']}%\\n\\\r\n",
    "The wind comes from {degrees_to_cardinal(current['wind_deg'])} direction with a speed {current['wind_speed']} m/s.\")"
   ]
  },
  {
   "cell_type": "code",
   "execution_count": 8,
   "metadata": {
    "execution": {
     "iopub.execute_input": "2021-10-24T03:12:22.937827Z",
     "iopub.status.busy": "2021-10-24T03:12:22.937008Z",
     "iopub.status.idle": "2021-10-24T03:12:22.943001Z",
     "shell.execute_reply": "2021-10-24T03:12:22.943594Z"
    }
   },
   "outputs": [],
   "source": [
    "df_hourly = pd.DataFrame(data['hourly'])\r\n",
    "df_daily = pd.DataFrame(data['daily'])"
   ]
  },
  {
   "cell_type": "code",
   "execution_count": 9,
   "metadata": {
    "execution": {
     "iopub.execute_input": "2021-10-24T03:12:22.946247Z",
     "iopub.status.busy": "2021-10-24T03:12:22.945427Z",
     "iopub.status.idle": "2021-10-24T03:12:23.211879Z",
     "shell.execute_reply": "2021-10-24T03:12:23.212299Z"
    }
   },
   "outputs": [
    {
     "data": {
      "image/png": "[encoded data removed]",
      "text/plain": [
       "<Figure size 864x432 with 1 Axes>"
      ]
     },
     "metadata": {
      "needs_background": "light"
     },
     "output_type": "display_data"
    }
   ],
   "source": [
    "fig, ax = plt.subplots(figsize=(12, 6))\r\n",
    "plt.plot(df_hourly.temp, '.-', label='Temperature')\r\n",
    "plt.plot(df_hourly.feels_like, '.-', label='Feels Like')\r\n",
    "ax.set(title='Temperature in future 48 hours', xlabel='Time', ylabel='Temperature')\r\n",
    "ax.set_xticks(list(range(0, len(df_hourly), 2)))\r\n",
    "ax.set_xticklabels([ts2dt(ts, '%m-%d %H:%M')[0] for i, ts in enumerate(df_hourly.dt) if i%2==0], \r\n",
    "                   rotation=45, ha=\"right\")\r\n",
    "ax.locator_params(nbins=15, axis='y')\r\n",
    "plt.legend()\r\n",
    "plt.show()"
   ]
  },
  {
   "cell_type": "code",
   "execution_count": 10,
   "metadata": {
    "execution": {
     "iopub.execute_input": "2021-10-24T03:12:23.222073Z",
     "iopub.status.busy": "2021-10-24T03:12:23.215832Z",
     "iopub.status.idle": "2021-10-24T03:12:23.230957Z",
     "shell.execute_reply": "2021-10-24T03:12:23.231362Z"
    }
   },
   "outputs": [
    {
     "data": {
      "text/html": [
       "<div>\n",
       "<style scoped>\n",
       "    .dataframe tbody tr th:only-of-type {\n",
       "        vertical-align: middle;\n",
       "    }\n",
       "\n",
       "    .dataframe tbody tr th {\n",
       "        vertical-align: top;\n",
       "    }\n",
       "\n",
       "    .dataframe thead th {\n",
       "        text-align: right;\n",
       "    }\n",
       "</style>\n",
       "<table border=\"1\" class=\"dataframe\">\n",
       "  <thead>\n",
       "    <tr style=\"text-align: right;\">\n",
       "      <th></th>\n",
       "      <th>dt</th>\n",
       "      <th>temp</th>\n",
       "      <th>feels_like</th>\n",
       "      <th>pressure</th>\n",
       "      <th>humidity</th>\n",
       "      <th>dew_point</th>\n",
       "      <th>uvi</th>\n",
       "      <th>clouds</th>\n",
       "      <th>visibility</th>\n",
       "      <th>wind_speed</th>\n",
       "      <th>wind_deg</th>\n",
       "      <th>wind_gust</th>\n",
       "      <th>weather</th>\n",
       "      <th>pop</th>\n",
       "      <th>rain</th>\n",
       "    </tr>\n",
       "  </thead>\n",
       "  <tbody>\n",
       "    <tr>\n",
       "      <th>0</th>\n",
       "      <td>1635044400</td>\n",
       "      <td>23.88</td>\n",
       "      <td>24.10</td>\n",
       "      <td>1020</td>\n",
       "      <td>68</td>\n",
       "      <td>17.62</td>\n",
       "      <td>6.38</td>\n",
       "      <td>12</td>\n",
       "      <td>10000</td>\n",
       "      <td>2.86</td>\n",
       "      <td>23</td>\n",
       "      <td>3.70</td>\n",
       "      <td>[{'id': 801, 'main': 'Clouds', 'description': ...</td>\n",
       "      <td>0.0</td>\n",
       "      <td>NaN</td>\n",
       "    </tr>\n",
       "    <tr>\n",
       "      <th>1</th>\n",
       "      <td>1635048000</td>\n",
       "      <td>23.74</td>\n",
       "      <td>23.89</td>\n",
       "      <td>1020</td>\n",
       "      <td>66</td>\n",
       "      <td>17.01</td>\n",
       "      <td>7.62</td>\n",
       "      <td>12</td>\n",
       "      <td>10000</td>\n",
       "      <td>3.06</td>\n",
       "      <td>32</td>\n",
       "      <td>3.65</td>\n",
       "      <td>[{'id': 801, 'main': 'Clouds', 'description': ...</td>\n",
       "      <td>0.0</td>\n",
       "      <td>NaN</td>\n",
       "    </tr>\n",
       "    <tr>\n",
       "      <th>2</th>\n",
       "      <td>1635051600</td>\n",
       "      <td>23.82</td>\n",
       "      <td>23.93</td>\n",
       "      <td>1019</td>\n",
       "      <td>64</td>\n",
       "      <td>16.60</td>\n",
       "      <td>7.47</td>\n",
       "      <td>11</td>\n",
       "      <td>10000</td>\n",
       "      <td>3.84</td>\n",
       "      <td>38</td>\n",
       "      <td>4.20</td>\n",
       "      <td>[{'id': 801, 'main': 'Clouds', 'description': ...</td>\n",
       "      <td>0.0</td>\n",
       "      <td>NaN</td>\n",
       "    </tr>\n",
       "    <tr>\n",
       "      <th>3</th>\n",
       "      <td>1635055200</td>\n",
       "      <td>23.98</td>\n",
       "      <td>24.05</td>\n",
       "      <td>1018</td>\n",
       "      <td>62</td>\n",
       "      <td>16.26</td>\n",
       "      <td>6.00</td>\n",
       "      <td>10</td>\n",
       "      <td>10000</td>\n",
       "      <td>4.03</td>\n",
       "      <td>42</td>\n",
       "      <td>4.57</td>\n",
       "      <td>[{'id': 800, 'main': 'Clear', 'description': '...</td>\n",
       "      <td>0.0</td>\n",
       "      <td>NaN</td>\n",
       "    </tr>\n",
       "    <tr>\n",
       "      <th>4</th>\n",
       "      <td>1635058800</td>\n",
       "      <td>24.33</td>\n",
       "      <td>24.39</td>\n",
       "      <td>1017</td>\n",
       "      <td>60</td>\n",
       "      <td>16.07</td>\n",
       "      <td>3.84</td>\n",
       "      <td>9</td>\n",
       "      <td>10000</td>\n",
       "      <td>4.12</td>\n",
       "      <td>39</td>\n",
       "      <td>4.87</td>\n",
       "      <td>[{'id': 800, 'main': 'Clear', 'description': '...</td>\n",
       "      <td>0.0</td>\n",
       "      <td>NaN</td>\n",
       "    </tr>\n",
       "  </tbody>\n",
       "</table>\n",
       "</div>"
      ],
      "text/plain": [
       "           dt   temp  feels_like  pressure  humidity  dew_point   uvi  clouds  \\\n",
       "0  1635044400  23.88       24.10      1020        68      17.62  6.38      12   \n",
       "1  1635048000  23.74       23.89      1020        66      17.01  7.62      12   \n",
       "2  1635051600  23.82       23.93      1019        64      16.60  7.47      11   \n",
       "3  1635055200  23.98       24.05      1018        62      16.26  6.00      10   \n",
       "4  1635058800  24.33       24.39      1017        60      16.07  3.84       9   \n",
       "\n",
       "   visibility  wind_speed  wind_deg  wind_gust  \\\n",
       "0       10000        2.86        23       3.70   \n",
       "1       10000        3.06        32       3.65   \n",
       "2       10000        3.84        38       4.20   \n",
       "3       10000        4.03        42       4.57   \n",
       "4       10000        4.12        39       4.87   \n",
       "\n",
       "                                             weather  pop rain  \n",
       "0  [{'id': 801, 'main': 'Clouds', 'description': ...  0.0  NaN  \n",
       "1  [{'id': 801, 'main': 'Clouds', 'description': ...  0.0  NaN  \n",
       "2  [{'id': 801, 'main': 'Clouds', 'description': ...  0.0  NaN  \n",
       "3  [{'id': 800, 'main': 'Clear', 'description': '...  0.0  NaN  \n",
       "4  [{'id': 800, 'main': 'Clear', 'description': '...  0.0  NaN  "
      ]
     },
     "execution_count": 10,
     "metadata": {},
     "output_type": "execute_result"
    }
   ],
   "source": [
    "df_hourly.head()"
   ]
  },
  {
   "cell_type": "code",
   "execution_count": null,
   "metadata": {},
   "outputs": [],
   "source": []
  }
 ],
 "metadata": {
  "interpreter": {
   "hash": "c1b4cfe941b6d2466ad1fb5979e97da9cda8801728c8091b097ab734208fc00c"
  },
  "kernelspec": {
   "display_name": "Python 3.8.3 64-bit ('base': conda)",
   "name": "python3"
  },
  "language_info": {
   "codemirror_mode": {
    "name": "ipython",
    "version": 3
   },
   "file_extension": ".py",
   "mimetype": "text/x-python",
   "name": "python",
   "nbconvert_exporter": "python",
   "pygments_lexer": "ipython3",
   "version": "3.8.12"
  }
 },
 "nbformat": 4,
 "nbformat_minor": 2
}
