{
 "cells": [
  {
   "cell_type": "code",
   "execution_count": 1,
   "metadata": {
    "execution": {
     "iopub.execute_input": "2021-10-20T05:11:08.520565Z",
     "iopub.status.busy": "2021-10-20T05:11:08.519931Z",
     "iopub.status.idle": "2021-10-20T05:11:12.764907Z",
     "shell.execute_reply": "2021-10-20T05:11:12.764265Z"
    }
   },
   "outputs": [],
   "source": [
    "import json, yaml, requests\r\n",
    "from datetime import datetime\r\n",
    "from dateutil import tz\r\n",
    "import pandas as pd\r\n",
    "from PIL import Image\r\n",
    "from io import BytesIO\r\n",
    "import matplotlib.pyplot as plt\r\n",
    "import seaborn\r\n",
    "\r\n",
    "CONFIG_PATH = \"../config/config.yaml\""
   ]
  },
  {
   "cell_type": "code",
   "execution_count": 2,
   "metadata": {
    "execution": {
     "iopub.execute_input": "2021-10-20T05:11:12.772672Z",
     "iopub.status.busy": "2021-10-20T05:11:12.769730Z",
     "iopub.status.idle": "2021-10-20T05:11:12.775528Z",
     "shell.execute_reply": "2021-10-20T05:11:12.775064Z"
    }
   },
   "outputs": [],
   "source": [
    "with open('../newest_ts', 'r') as f:\r\n",
    "    newest_ts = f.read()\r\n",
    "\r\n",
    "data_path = f\"../data/data_{newest_ts}.json\"\r\n",
    "with open(data_path, 'r') as f:\r\n",
    "    data = json.load(f)\r\n",
    "\r\n",
    "with open(CONFIG_PATH, \"r\") as stream:\r\n",
    "    config = yaml.safe_load(stream)\r\n",
    "\r\n",
    "TIME_ZONE = config['time_zone']\r\n",
    "DATETIME_FORMAT = config['dt_format']"
   ]
  },
  {
   "cell_type": "code",
   "execution_count": 3,
   "metadata": {
    "execution": {
     "iopub.execute_input": "2021-10-20T05:11:12.780053Z",
     "iopub.status.busy": "2021-10-20T05:11:12.779452Z",
     "iopub.status.idle": "2021-10-20T05:11:12.785663Z",
     "shell.execute_reply": "2021-10-20T05:11:12.786267Z"
    }
   },
   "outputs": [
    {
     "name": "stdout",
     "output_type": "stream",
     "text": [
      "Recent query happens at 2021-10-20 13:11:03 (CST).\n"
     ]
    }
   ],
   "source": [
    "def ts2dt(ts, format=DATETIME_FORMAT):\r\n",
    "    dt = (datetime.utcfromtimestamp(int(ts))\r\n",
    "                    .replace(tzinfo=tz.tzutc())\r\n",
    "                    # .astimezone(tz.tzlocal())\r\n",
    "                    .astimezone(tz.gettz(TIME_ZONE)))\r\n",
    "    return dt.strftime(format), dt\r\n",
    "\r\n",
    "_, newest_dt = ts2dt(newest_ts)\r\n",
    "print(f\"Recent query happens at {newest_dt.strftime(DATETIME_FORMAT)} ({newest_dt.tzname()}).\")"
   ]
  },
  {
   "cell_type": "code",
   "execution_count": 4,
   "metadata": {
    "execution": {
     "iopub.execute_input": "2021-10-20T05:11:12.792055Z",
     "iopub.status.busy": "2021-10-20T05:11:12.790629Z",
     "iopub.status.idle": "2021-10-20T05:11:12.792626Z",
     "shell.execute_reply": "2021-10-20T05:11:12.793088Z"
    }
   },
   "outputs": [],
   "source": [
    "def degrees_to_cardinal(d):\r\n",
    "  dirs = ['N', 'NNE', 'NE', 'ENE', 'E', 'ESE', 'SE', 'SSE', 'S', 'SSW', 'SW', 'WSW', 'W', 'WNW', 'NW', 'NNW']\r\n",
    "  ix = int(round(d / (360. / len(dirs))))\r\n",
    "  return dirs[ix % len(dirs)]"
   ]
  },
  {
   "cell_type": "code",
   "execution_count": 5,
   "metadata": {
    "execution": {
     "iopub.execute_input": "2021-10-20T05:11:12.797688Z",
     "iopub.status.busy": "2021-10-20T05:11:12.796109Z",
     "iopub.status.idle": "2021-10-20T05:11:12.798285Z",
     "shell.execute_reply": "2021-10-20T05:11:12.798727Z"
    }
   },
   "outputs": [],
   "source": [
    "# data.keys()"
   ]
  },
  {
   "cell_type": "code",
   "execution_count": 6,
   "metadata": {
    "execution": {
     "iopub.execute_input": "2021-10-20T05:11:12.803095Z",
     "iopub.status.busy": "2021-10-20T05:11:12.801744Z",
     "iopub.status.idle": "2021-10-20T05:11:12.803664Z",
     "shell.execute_reply": "2021-10-20T05:11:12.804089Z"
    }
   },
   "outputs": [],
   "source": [
    "# data['current']"
   ]
  },
  {
   "cell_type": "code",
   "execution_count": 7,
   "metadata": {
    "execution": {
     "iopub.execute_input": "2021-10-20T05:11:12.832545Z",
     "iopub.status.busy": "2021-10-20T05:11:12.825506Z",
     "iopub.status.idle": "2021-10-20T05:11:13.393353Z",
     "shell.execute_reply": "2021-10-20T05:11:13.394225Z"
    }
   },
   "outputs": [
    {
     "data": {
      "image/png": "[encoded data removed]",
      "text/plain": [
       "<Figure size 216x216 with 1 Axes>"
      ]
     },
     "metadata": {
      "needs_background": "light"
     },
     "output_type": "display_data"
    },
    {
     "name": "stdout",
     "output_type": "stream",
     "text": [
      "Today, sun rises at 06:21 and sets at 17:54.\n",
      "Currently, the weather is Clouds (broken clouds).\n",
      "The temperature is 28.84°C and it feels like 32.21°C.\n",
      "The UV index is 7.62, humidity is 69%.\n",
      "The pressure is 1016 hPa, percentage of cloud cover is 83%\n",
      "The wind comes from E direction with a speed 5.67 m/s.\n"
     ]
    }
   ],
   "source": [
    "current = data['current']\r\n",
    "\r\n",
    "fig, ax = plt.subplots(figsize=(3, 3))\r\n",
    "icon = requests.get(f\"http://openweathermap.org/img/wn/{current['weather'][0]['icon']}@2x.png\")\r\n",
    "im = Image.open(BytesIO(icon.content))\r\n",
    "plt.imshow(im)\r\n",
    "ax.set_axis_off()\r\n",
    "plt.show()\r\n",
    "\r\n",
    "print(f\"Today, sun rises at {ts2dt(current['sunrise'], '%H:%M')[0]} \\\r\n",
    "and sets at {ts2dt(current['sunset'], '%H:%M')[0]}.\\n\\\r\n",
    "Currently, the weather is {current['weather'][0]['main']} ({current['weather'][0]['description']}).\\n\\\r\n",
    "The temperature is {current['temp']}°C and it feels like {current['feels_like']}°C.\\n\\\r\n",
    "The UV index is {current['uvi']}, humidity is {current['humidity']}%.\\n\\\r\n",
    "The pressure is {current['pressure']} hPa, percentage of cloud cover is {current['clouds']}%\\n\\\r\n",
    "The wind comes from {degrees_to_cardinal(current['wind_deg'])} direction with a speed {current['wind_speed']} m/s.\")"
   ]
  },
  {
   "cell_type": "code",
   "execution_count": 8,
   "metadata": {
    "execution": {
     "iopub.execute_input": "2021-10-20T05:11:13.398269Z",
     "iopub.status.busy": "2021-10-20T05:11:13.397040Z",
     "iopub.status.idle": "2021-10-20T05:11:13.405664Z",
     "shell.execute_reply": "2021-10-20T05:11:13.406504Z"
    }
   },
   "outputs": [],
   "source": [
    "df_hourly = pd.DataFrame(data['hourly'])\r\n",
    "df_daily = pd.DataFrame(data['daily'])"
   ]
  },
  {
   "cell_type": "code",
   "execution_count": 9,
   "metadata": {
    "execution": {
     "iopub.execute_input": "2021-10-20T05:11:13.410066Z",
     "iopub.status.busy": "2021-10-20T05:11:13.408944Z",
     "iopub.status.idle": "2021-10-20T05:11:13.723147Z",
     "shell.execute_reply": "2021-10-20T05:11:13.722597Z"
    }
   },
   "outputs": [
    {
     "data": {
      "image/png": "[encoded data removed]",
      "text/plain": [
       "<Figure size 864x432 with 1 Axes>"
      ]
     },
     "metadata": {
      "needs_background": "light"
     },
     "output_type": "display_data"
    }
   ],
   "source": [
    "fig, ax = plt.subplots(figsize=(12, 6))\r\n",
    "plt.plot(df_hourly.temp, '.-', label='Temperature')\r\n",
    "plt.plot(df_hourly.feels_like, '.-', label='Feels Like')\r\n",
    "ax.set(title='Temperature in future 48 hours', xlabel='Time', ylabel='Temperature')\r\n",
    "ax.set_xticks(list(range(0, len(df_hourly), 2)))\r\n",
    "ax.set_xticklabels([ts2dt(ts, '%m-%d %H:%M')[0] for i, ts in enumerate(df_hourly.dt) if i%2==0], \r\n",
    "                   rotation=45, ha=\"right\")\r\n",
    "ax.locator_params(nbins=15, axis='y')\r\n",
    "plt.legend()\r\n",
    "plt.show()"
   ]
  },
  {
   "cell_type": "code",
   "execution_count": 10,
   "metadata": {
    "execution": {
     "iopub.execute_input": "2021-10-20T05:11:13.736235Z",
     "iopub.status.busy": "2021-10-20T05:11:13.727848Z",
     "iopub.status.idle": "2021-10-20T05:11:13.747209Z",
     "shell.execute_reply": "2021-10-20T05:11:13.747642Z"
    }
   },
   "outputs": [
    {
     "data": {
      "text/html": [
       "<div>\n",
       "<style scoped>\n",
       "    .dataframe tbody tr th:only-of-type {\n",
       "        vertical-align: middle;\n",
       "    }\n",
       "\n",
       "    .dataframe tbody tr th {\n",
       "        vertical-align: top;\n",
       "    }\n",
       "\n",
       "    .dataframe thead th {\n",
       "        text-align: right;\n",
       "    }\n",
       "</style>\n",
       "<table border=\"1\" class=\"dataframe\">\n",
       "  <thead>\n",
       "    <tr style=\"text-align: right;\">\n",
       "      <th></th>\n",
       "      <th>dt</th>\n",
       "      <th>temp</th>\n",
       "      <th>feels_like</th>\n",
       "      <th>pressure</th>\n",
       "      <th>humidity</th>\n",
       "      <th>dew_point</th>\n",
       "      <th>uvi</th>\n",
       "      <th>clouds</th>\n",
       "      <th>visibility</th>\n",
       "      <th>wind_speed</th>\n",
       "      <th>wind_deg</th>\n",
       "      <th>wind_gust</th>\n",
       "      <th>weather</th>\n",
       "      <th>pop</th>\n",
       "      <th>rain</th>\n",
       "    </tr>\n",
       "  </thead>\n",
       "  <tbody>\n",
       "    <tr>\n",
       "      <th>0</th>\n",
       "      <td>1634706000</td>\n",
       "      <td>28.84</td>\n",
       "      <td>32.21</td>\n",
       "      <td>1016</td>\n",
       "      <td>69</td>\n",
       "      <td>22.58</td>\n",
       "      <td>7.62</td>\n",
       "      <td>83</td>\n",
       "      <td>10000</td>\n",
       "      <td>5.67</td>\n",
       "      <td>91</td>\n",
       "      <td>6.32</td>\n",
       "      <td>[{'id': 803, 'main': 'Clouds', 'description': ...</td>\n",
       "      <td>0.19</td>\n",
       "      <td>NaN</td>\n",
       "    </tr>\n",
       "    <tr>\n",
       "      <th>1</th>\n",
       "      <td>1634709600</td>\n",
       "      <td>28.42</td>\n",
       "      <td>31.50</td>\n",
       "      <td>1016</td>\n",
       "      <td>70</td>\n",
       "      <td>22.42</td>\n",
       "      <td>6.13</td>\n",
       "      <td>83</td>\n",
       "      <td>10000</td>\n",
       "      <td>5.43</td>\n",
       "      <td>94</td>\n",
       "      <td>6.03</td>\n",
       "      <td>[{'id': 803, 'main': 'Clouds', 'description': ...</td>\n",
       "      <td>0.16</td>\n",
       "      <td>NaN</td>\n",
       "    </tr>\n",
       "    <tr>\n",
       "      <th>2</th>\n",
       "      <td>1634713200</td>\n",
       "      <td>28.00</td>\n",
       "      <td>30.80</td>\n",
       "      <td>1015</td>\n",
       "      <td>71</td>\n",
       "      <td>22.25</td>\n",
       "      <td>4.19</td>\n",
       "      <td>79</td>\n",
       "      <td>10000</td>\n",
       "      <td>5.50</td>\n",
       "      <td>93</td>\n",
       "      <td>5.97</td>\n",
       "      <td>[{'id': 803, 'main': 'Clouds', 'description': ...</td>\n",
       "      <td>0.00</td>\n",
       "      <td>NaN</td>\n",
       "    </tr>\n",
       "    <tr>\n",
       "      <th>3</th>\n",
       "      <td>1634716800</td>\n",
       "      <td>27.43</td>\n",
       "      <td>29.92</td>\n",
       "      <td>1015</td>\n",
       "      <td>73</td>\n",
       "      <td>22.16</td>\n",
       "      <td>1.94</td>\n",
       "      <td>79</td>\n",
       "      <td>10000</td>\n",
       "      <td>5.46</td>\n",
       "      <td>91</td>\n",
       "      <td>5.84</td>\n",
       "      <td>[{'id': 803, 'main': 'Clouds', 'description': ...</td>\n",
       "      <td>0.00</td>\n",
       "      <td>NaN</td>\n",
       "    </tr>\n",
       "    <tr>\n",
       "      <th>4</th>\n",
       "      <td>1634720400</td>\n",
       "      <td>26.69</td>\n",
       "      <td>28.77</td>\n",
       "      <td>1014</td>\n",
       "      <td>76</td>\n",
       "      <td>22.11</td>\n",
       "      <td>0.53</td>\n",
       "      <td>79</td>\n",
       "      <td>10000</td>\n",
       "      <td>5.39</td>\n",
       "      <td>94</td>\n",
       "      <td>6.31</td>\n",
       "      <td>[{'id': 803, 'main': 'Clouds', 'description': ...</td>\n",
       "      <td>0.00</td>\n",
       "      <td>NaN</td>\n",
       "    </tr>\n",
       "  </tbody>\n",
       "</table>\n",
       "</div>"
      ],
      "text/plain": [
       "           dt   temp  feels_like  pressure  humidity  dew_point   uvi  clouds  \\\n",
       "0  1634706000  28.84       32.21      1016        69      22.58  7.62      83   \n",
       "1  1634709600  28.42       31.50      1016        70      22.42  6.13      83   \n",
       "2  1634713200  28.00       30.80      1015        71      22.25  4.19      79   \n",
       "3  1634716800  27.43       29.92      1015        73      22.16  1.94      79   \n",
       "4  1634720400  26.69       28.77      1014        76      22.11  0.53      79   \n",
       "\n",
       "   visibility  wind_speed  wind_deg  wind_gust  \\\n",
       "0       10000        5.67        91       6.32   \n",
       "1       10000        5.43        94       6.03   \n",
       "2       10000        5.50        93       5.97   \n",
       "3       10000        5.46        91       5.84   \n",
       "4       10000        5.39        94       6.31   \n",
       "\n",
       "                                             weather   pop rain  \n",
       "0  [{'id': 803, 'main': 'Clouds', 'description': ...  0.19  NaN  \n",
       "1  [{'id': 803, 'main': 'Clouds', 'description': ...  0.16  NaN  \n",
       "2  [{'id': 803, 'main': 'Clouds', 'description': ...  0.00  NaN  \n",
       "3  [{'id': 803, 'main': 'Clouds', 'description': ...  0.00  NaN  \n",
       "4  [{'id': 803, 'main': 'Clouds', 'description': ...  0.00  NaN  "
      ]
     },
     "execution_count": 10,
     "metadata": {},
     "output_type": "execute_result"
    }
   ],
   "source": [
    "df_hourly.head()"
   ]
  },
  {
   "cell_type": "code",
   "execution_count": null,
   "metadata": {},
   "outputs": [],
   "source": []
  }
 ],
 "metadata": {
  "interpreter": {
   "hash": "c1b4cfe941b6d2466ad1fb5979e97da9cda8801728c8091b097ab734208fc00c"
  },
  "kernelspec": {
   "display_name": "Python 3.8.3 64-bit ('base': conda)",
   "name": "python3"
  },
  "language_info": {
   "codemirror_mode": {
    "name": "ipython",
    "version": 3
   },
   "file_extension": ".py",
   "mimetype": "text/x-python",
   "name": "python",
   "nbconvert_exporter": "python",
   "pygments_lexer": "ipython3",
   "version": "3.8.12"
  }
 },
 "nbformat": 4,
 "nbformat_minor": 2
}
