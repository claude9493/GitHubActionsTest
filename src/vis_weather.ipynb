{
 "cells": [
  {
   "cell_type": "code",
   "execution_count": 1,
   "metadata": {
    "execution": {
     "iopub.execute_input": "2021-09-12T22:38:28.091385Z",
     "iopub.status.busy": "2021-09-12T22:38:28.090681Z",
     "iopub.status.idle": "2021-09-12T22:38:30.414340Z",
     "shell.execute_reply": "2021-09-12T22:38:30.413379Z"
    }
   },
   "outputs": [],
   "source": [
    "import json, yaml, requests\r\n",
    "from datetime import datetime\r\n",
    "from dateutil import tz\r\n",
    "import pandas as pd\r\n",
    "from PIL import Image\r\n",
    "from io import BytesIO\r\n",
    "import matplotlib.pyplot as plt\r\n",
    "import seaborn\r\n",
    "\r\n",
    "CONFIG_PATH = \"../config/config.yaml\""
   ]
  },
  {
   "cell_type": "code",
   "execution_count": 2,
   "metadata": {
    "execution": {
     "iopub.execute_input": "2021-09-12T22:38:30.419408Z",
     "iopub.status.busy": "2021-09-12T22:38:30.418574Z",
     "iopub.status.idle": "2021-09-12T22:38:30.423636Z",
     "shell.execute_reply": "2021-09-12T22:38:30.422961Z"
    }
   },
   "outputs": [],
   "source": [
    "with open('../newest_ts', 'r') as f:\r\n",
    "    newest_ts = f.read()\r\n",
    "\r\n",
    "data_path = f\"../data/data_{newest_ts}.json\"\r\n",
    "with open(data_path, 'r') as f:\r\n",
    "    data = json.load(f)\r\n",
    "\r\n",
    "with open(CONFIG_PATH, \"r\") as stream:\r\n",
    "    config = yaml.safe_load(stream)\r\n",
    "\r\n",
    "TIME_ZONE = config['time_zone']\r\n",
    "DATETIME_FORMAT = config['dt_format']"
   ]
  },
  {
   "cell_type": "code",
   "execution_count": 3,
   "metadata": {
    "execution": {
     "iopub.execute_input": "2021-09-12T22:38:30.427568Z",
     "iopub.status.busy": "2021-09-12T22:38:30.427124Z",
     "iopub.status.idle": "2021-09-12T22:38:30.430695Z",
     "shell.execute_reply": "2021-09-12T22:38:30.431083Z"
    }
   },
   "outputs": [
    {
     "name": "stdout",
     "output_type": "stream",
     "text": [
      "Recent query happens at 2021-09-13 06:38:25 (CST).\n"
     ]
    }
   ],
   "source": [
    "def ts2dt(ts, format=DATETIME_FORMAT):\r\n",
    "    dt = (datetime.utcfromtimestamp(int(ts))\r\n",
    "                    .replace(tzinfo=tz.tzutc())\r\n",
    "                    # .astimezone(tz.tzlocal())\r\n",
    "                    .astimezone(tz.gettz(TIME_ZONE)))\r\n",
    "    return dt.strftime(format), dt\r\n",
    "\r\n",
    "_, newest_dt = ts2dt(newest_ts)\r\n",
    "print(f\"Recent query happens at {newest_dt.strftime(DATETIME_FORMAT)} ({newest_dt.tzname()}).\")"
   ]
  },
  {
   "cell_type": "code",
   "execution_count": 4,
   "metadata": {
    "execution": {
     "iopub.execute_input": "2021-09-12T22:38:30.435687Z",
     "iopub.status.busy": "2021-09-12T22:38:30.434738Z",
     "iopub.status.idle": "2021-09-12T22:38:30.436197Z",
     "shell.execute_reply": "2021-09-12T22:38:30.436553Z"
    }
   },
   "outputs": [],
   "source": [
    "def degrees_to_cardinal(d):\r\n",
    "  dirs = ['N', 'NNE', 'NE', 'ENE', 'E', 'ESE', 'SE', 'SSE', 'S', 'SSW', 'SW', 'WSW', 'W', 'WNW', 'NW', 'NNW']\r\n",
    "  ix = int(round(d / (360. / len(dirs))))\r\n",
    "  return dirs[ix % len(dirs)]"
   ]
  },
  {
   "cell_type": "code",
   "execution_count": 5,
   "metadata": {
    "execution": {
     "iopub.execute_input": "2021-09-12T22:38:30.440200Z",
     "iopub.status.busy": "2021-09-12T22:38:30.439245Z",
     "iopub.status.idle": "2021-09-12T22:38:30.440712Z",
     "shell.execute_reply": "2021-09-12T22:38:30.441069Z"
    }
   },
   "outputs": [],
   "source": [
    "# data.keys()"
   ]
  },
  {
   "cell_type": "code",
   "execution_count": 6,
   "metadata": {
    "execution": {
     "iopub.execute_input": "2021-09-12T22:38:30.444582Z",
     "iopub.status.busy": "2021-09-12T22:38:30.443568Z",
     "iopub.status.idle": "2021-09-12T22:38:30.445203Z",
     "shell.execute_reply": "2021-09-12T22:38:30.445599Z"
    }
   },
   "outputs": [],
   "source": [
    "# data['current']"
   ]
  },
  {
   "cell_type": "code",
   "execution_count": 7,
   "metadata": {
    "execution": {
     "iopub.execute_input": "2021-09-12T22:38:30.462105Z",
     "iopub.status.busy": "2021-09-12T22:38:30.461610Z",
     "iopub.status.idle": "2021-09-12T22:38:30.745838Z",
     "shell.execute_reply": "2021-09-12T22:38:30.746477Z"
    }
   },
   "outputs": [
    {
     "data": {
      "image/png": "[encoded data removed]",
      "text/plain": [
       "<Figure size 216x216 with 1 Axes>"
      ]
     },
     "metadata": {
      "needs_background": "light"
     },
     "output_type": "display_data"
    },
    {
     "name": "stdout",
     "output_type": "stream",
     "text": [
      "Today, sun rises at 06:09 and sets at 18:29.\n",
      "Currently, the weather is Clouds (broken clouds).\n",
      "The temperature is 29.98°C and it feels like 36.98°C.\n",
      "The UV index is 0.25, humidity is 86%.\n",
      "The pressure is 1005 hPa, percentage of cloud cover is 57%\n",
      "The wind comes from WSW direction with a speed 2.2 m/s.\n"
     ]
    }
   ],
   "source": [
    "current = data['current']\r\n",
    "\r\n",
    "fig, ax = plt.subplots(figsize=(3, 3))\r\n",
    "icon = requests.get(f\"http://openweathermap.org/img/wn/{current['weather'][0]['icon']}@2x.png\")\r\n",
    "im = Image.open(BytesIO(icon.content))\r\n",
    "plt.imshow(im)\r\n",
    "ax.set_axis_off()\r\n",
    "plt.show()\r\n",
    "\r\n",
    "print(f\"Today, sun rises at {ts2dt(current['sunrise'], '%H:%M')[0]} \\\r\n",
    "and sets at {ts2dt(current['sunset'], '%H:%M')[0]}.\\n\\\r\n",
    "Currently, the weather is {current['weather'][0]['main']} ({current['weather'][0]['description']}).\\n\\\r\n",
    "The temperature is {current['temp']}°C and it feels like {current['feels_like']}°C.\\n\\\r\n",
    "The UV index is {current['uvi']}, humidity is {current['humidity']}%.\\n\\\r\n",
    "The pressure is {current['pressure']} hPa, percentage of cloud cover is {current['clouds']}%\\n\\\r\n",
    "The wind comes from {degrees_to_cardinal(current['wind_deg'])} direction with a speed {current['wind_speed']} m/s.\")"
   ]
  },
  {
   "cell_type": "code",
   "execution_count": 8,
   "metadata": {
    "execution": {
     "iopub.execute_input": "2021-09-12T22:38:30.749617Z",
     "iopub.status.busy": "2021-09-12T22:38:30.748731Z",
     "iopub.status.idle": "2021-09-12T22:38:30.755608Z",
     "shell.execute_reply": "2021-09-12T22:38:30.756223Z"
    }
   },
   "outputs": [],
   "source": [
    "df_hourly = pd.DataFrame(data['hourly'])\r\n",
    "df_daily = pd.DataFrame(data['daily'])"
   ]
  },
  {
   "cell_type": "code",
   "execution_count": 9,
   "metadata": {
    "execution": {
     "iopub.execute_input": "2021-09-12T22:38:30.759184Z",
     "iopub.status.busy": "2021-09-12T22:38:30.758305Z",
     "iopub.status.idle": "2021-09-12T22:38:31.002851Z",
     "shell.execute_reply": "2021-09-12T22:38:31.001970Z"
    }
   },
   "outputs": [
    {
     "data": {
      "image/png": "[encoded data removed]",
      "text/plain": [
       "<Figure size 864x432 with 1 Axes>"
      ]
     },
     "metadata": {
      "needs_background": "light"
     },
     "output_type": "display_data"
    }
   ],
   "source": [
    "fig, ax = plt.subplots(figsize=(12, 6))\r\n",
    "plt.plot(df_hourly.temp, '.-', label='Temperature')\r\n",
    "plt.plot(df_hourly.feels_like, '.-', label='Feels Like')\r\n",
    "ax.set(title='Temperature in future 48 hours', xlabel='Time', ylabel='Temperature')\r\n",
    "ax.set_xticks(list(range(0, len(df_hourly), 2)))\r\n",
    "ax.set_xticklabels([ts2dt(ts, '%m-%d %H:%M')[0] for i, ts in enumerate(df_hourly.dt) if i%2==0], \r\n",
    "                   rotation=45, ha=\"right\")\r\n",
    "ax.locator_params(nbins=15, axis='y')\r\n",
    "plt.legend()\r\n",
    "plt.show()"
   ]
  },
  {
   "cell_type": "code",
   "execution_count": 10,
   "metadata": {
    "execution": {
     "iopub.execute_input": "2021-09-12T22:38:31.014561Z",
     "iopub.status.busy": "2021-09-12T22:38:31.006694Z",
     "iopub.status.idle": "2021-09-12T22:38:31.025430Z",
     "shell.execute_reply": "2021-09-12T22:38:31.025025Z"
    }
   },
   "outputs": [
    {
     "data": {
      "text/html": [
       "<div>\n",
       "<style scoped>\n",
       "    .dataframe tbody tr th:only-of-type {\n",
       "        vertical-align: middle;\n",
       "    }\n",
       "\n",
       "    .dataframe tbody tr th {\n",
       "        vertical-align: top;\n",
       "    }\n",
       "\n",
       "    .dataframe thead th {\n",
       "        text-align: right;\n",
       "    }\n",
       "</style>\n",
       "<table border=\"1\" class=\"dataframe\">\n",
       "  <thead>\n",
       "    <tr style=\"text-align: right;\">\n",
       "      <th></th>\n",
       "      <th>dt</th>\n",
       "      <th>temp</th>\n",
       "      <th>feels_like</th>\n",
       "      <th>pressure</th>\n",
       "      <th>humidity</th>\n",
       "      <th>dew_point</th>\n",
       "      <th>uvi</th>\n",
       "      <th>clouds</th>\n",
       "      <th>visibility</th>\n",
       "      <th>wind_speed</th>\n",
       "      <th>wind_deg</th>\n",
       "      <th>wind_gust</th>\n",
       "      <th>weather</th>\n",
       "      <th>pop</th>\n",
       "      <th>rain</th>\n",
       "    </tr>\n",
       "  </thead>\n",
       "  <tbody>\n",
       "    <tr>\n",
       "      <th>0</th>\n",
       "      <td>1631484000</td>\n",
       "      <td>29.71</td>\n",
       "      <td>36.71</td>\n",
       "      <td>1005</td>\n",
       "      <td>84</td>\n",
       "      <td>26.71</td>\n",
       "      <td>0.00</td>\n",
       "      <td>59</td>\n",
       "      <td>10000</td>\n",
       "      <td>2.19</td>\n",
       "      <td>249</td>\n",
       "      <td>2.72</td>\n",
       "      <td>[{'id': 803, 'main': 'Clouds', 'description': ...</td>\n",
       "      <td>0.90</td>\n",
       "      <td>NaN</td>\n",
       "    </tr>\n",
       "    <tr>\n",
       "      <th>1</th>\n",
       "      <td>1631487600</td>\n",
       "      <td>29.98</td>\n",
       "      <td>36.98</td>\n",
       "      <td>1005</td>\n",
       "      <td>86</td>\n",
       "      <td>27.38</td>\n",
       "      <td>0.25</td>\n",
       "      <td>57</td>\n",
       "      <td>10000</td>\n",
       "      <td>2.20</td>\n",
       "      <td>241</td>\n",
       "      <td>2.75</td>\n",
       "      <td>[{'id': 803, 'main': 'Clouds', 'description': ...</td>\n",
       "      <td>0.86</td>\n",
       "      <td>NaN</td>\n",
       "    </tr>\n",
       "    <tr>\n",
       "      <th>2</th>\n",
       "      <td>1631491200</td>\n",
       "      <td>29.92</td>\n",
       "      <td>36.92</td>\n",
       "      <td>1005</td>\n",
       "      <td>83</td>\n",
       "      <td>26.71</td>\n",
       "      <td>1.33</td>\n",
       "      <td>56</td>\n",
       "      <td>10000</td>\n",
       "      <td>2.36</td>\n",
       "      <td>233</td>\n",
       "      <td>3.06</td>\n",
       "      <td>[{'id': 803, 'main': 'Clouds', 'description': ...</td>\n",
       "      <td>0.71</td>\n",
       "      <td>NaN</td>\n",
       "    </tr>\n",
       "    <tr>\n",
       "      <th>3</th>\n",
       "      <td>1631494800</td>\n",
       "      <td>30.15</td>\n",
       "      <td>37.15</td>\n",
       "      <td>1005</td>\n",
       "      <td>80</td>\n",
       "      <td>26.31</td>\n",
       "      <td>3.50</td>\n",
       "      <td>39</td>\n",
       "      <td>10000</td>\n",
       "      <td>3.13</td>\n",
       "      <td>226</td>\n",
       "      <td>3.73</td>\n",
       "      <td>[{'id': 802, 'main': 'Clouds', 'description': ...</td>\n",
       "      <td>0.88</td>\n",
       "      <td>NaN</td>\n",
       "    </tr>\n",
       "    <tr>\n",
       "      <th>4</th>\n",
       "      <td>1631498400</td>\n",
       "      <td>30.42</td>\n",
       "      <td>37.42</td>\n",
       "      <td>1006</td>\n",
       "      <td>76</td>\n",
       "      <td>25.71</td>\n",
       "      <td>6.44</td>\n",
       "      <td>30</td>\n",
       "      <td>10000</td>\n",
       "      <td>3.26</td>\n",
       "      <td>226</td>\n",
       "      <td>3.72</td>\n",
       "      <td>[{'id': 500, 'main': 'Rain', 'description': 'l...</td>\n",
       "      <td>0.96</td>\n",
       "      <td>{'1h': 0.5}</td>\n",
       "    </tr>\n",
       "  </tbody>\n",
       "</table>\n",
       "</div>"
      ],
      "text/plain": [
       "           dt   temp  feels_like  pressure  humidity  dew_point   uvi  clouds  \\\n",
       "0  1631484000  29.71       36.71      1005        84      26.71  0.00      59   \n",
       "1  1631487600  29.98       36.98      1005        86      27.38  0.25      57   \n",
       "2  1631491200  29.92       36.92      1005        83      26.71  1.33      56   \n",
       "3  1631494800  30.15       37.15      1005        80      26.31  3.50      39   \n",
       "4  1631498400  30.42       37.42      1006        76      25.71  6.44      30   \n",
       "\n",
       "   visibility  wind_speed  wind_deg  wind_gust  \\\n",
       "0       10000        2.19       249       2.72   \n",
       "1       10000        2.20       241       2.75   \n",
       "2       10000        2.36       233       3.06   \n",
       "3       10000        3.13       226       3.73   \n",
       "4       10000        3.26       226       3.72   \n",
       "\n",
       "                                             weather   pop         rain  \n",
       "0  [{'id': 803, 'main': 'Clouds', 'description': ...  0.90          NaN  \n",
       "1  [{'id': 803, 'main': 'Clouds', 'description': ...  0.86          NaN  \n",
       "2  [{'id': 803, 'main': 'Clouds', 'description': ...  0.71          NaN  \n",
       "3  [{'id': 802, 'main': 'Clouds', 'description': ...  0.88          NaN  \n",
       "4  [{'id': 500, 'main': 'Rain', 'description': 'l...  0.96  {'1h': 0.5}  "
      ]
     },
     "execution_count": 10,
     "metadata": {},
     "output_type": "execute_result"
    }
   ],
   "source": [
    "df_hourly.head()"
   ]
  },
  {
   "cell_type": "code",
   "execution_count": null,
   "metadata": {},
   "outputs": [],
   "source": []
  }
 ],
 "metadata": {
  "interpreter": {
   "hash": "c1b4cfe941b6d2466ad1fb5979e97da9cda8801728c8091b097ab734208fc00c"
  },
  "kernelspec": {
   "display_name": "Python 3.8.3 64-bit ('base': conda)",
   "name": "python3"
  },
  "language_info": {
   "codemirror_mode": {
    "name": "ipython",
    "version": 3
   },
   "file_extension": ".py",
   "mimetype": "text/x-python",
   "name": "python",
   "nbconvert_exporter": "python",
   "pygments_lexer": "ipython3",
   "version": "3.8.11"
  }
 },
 "nbformat": 4,
 "nbformat_minor": 2
}
