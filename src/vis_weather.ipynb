{
 "cells": [
  {
   "cell_type": "code",
   "execution_count": 1,
   "metadata": {
    "execution": {
     "iopub.execute_input": "2021-09-05T09:15:07.928405Z",
     "iopub.status.busy": "2021-09-05T09:15:07.927698Z",
     "iopub.status.idle": "2021-09-05T09:15:11.503807Z",
     "shell.execute_reply": "2021-09-05T09:15:11.502672Z"
    }
   },
   "outputs": [],
   "source": [
    "import json, yaml, requests\r\n",
    "from datetime import datetime\r\n",
    "from dateutil import tz\r\n",
    "import pandas as pd\r\n",
    "from PIL import Image\r\n",
    "from io import BytesIO\r\n",
    "import matplotlib.pyplot as plt\r\n",
    "import seaborn\r\n",
    "\r\n",
    "CONFIG_PATH = \"../config/config.yaml\""
   ]
  },
  {
   "cell_type": "code",
   "execution_count": 2,
   "metadata": {
    "execution": {
     "iopub.execute_input": "2021-09-05T09:15:11.508782Z",
     "iopub.status.busy": "2021-09-05T09:15:11.507164Z",
     "iopub.status.idle": "2021-09-05T09:15:11.518520Z",
     "shell.execute_reply": "2021-09-05T09:15:11.519022Z"
    }
   },
   "outputs": [],
   "source": [
    "with open('../newest_ts', 'r') as f:\r\n",
    "    newest_ts = f.read()\r\n",
    "\r\n",
    "data_path = f\"../data/data_{newest_ts}.json\"\r\n",
    "with open(data_path, 'r') as f:\r\n",
    "    data = json.load(f)\r\n",
    "\r\n",
    "with open(CONFIG_PATH, \"r\") as stream:\r\n",
    "    config = yaml.safe_load(stream)\r\n",
    "\r\n",
    "TIME_ZONE = config['time_zone']\r\n",
    "DATETIME_FORMAT = config['dt_format']"
   ]
  },
  {
   "cell_type": "code",
   "execution_count": 3,
   "metadata": {
    "execution": {
     "iopub.execute_input": "2021-09-05T09:15:11.525531Z",
     "iopub.status.busy": "2021-09-05T09:15:11.524579Z",
     "iopub.status.idle": "2021-09-05T09:15:11.594387Z",
     "shell.execute_reply": "2021-09-05T09:15:11.593852Z"
    }
   },
   "outputs": [
    {
     "name": "stdout",
     "output_type": "stream",
     "text": [
      "Recent query happens at 2021-09-05 17:15:03 (CST).\n"
     ]
    }
   ],
   "source": [
    "def ts2dt(ts, format=DATETIME_FORMAT):\r\n",
    "    dt = (datetime.utcfromtimestamp(int(ts))\r\n",
    "                    .replace(tzinfo=tz.tzutc())\r\n",
    "                    # .astimezone(tz.tzlocal())\r\n",
    "                    .astimezone(tz.gettz(TIME_ZONE)))\r\n",
    "    return dt.strftime(format), dt\r\n",
    "\r\n",
    "_, newest_dt = ts2dt(newest_ts)\r\n",
    "print(f\"Recent query happens at {newest_dt.strftime(DATETIME_FORMAT)} ({newest_dt.tzname()}).\")"
   ]
  },
  {
   "cell_type": "code",
   "execution_count": 4,
   "metadata": {
    "execution": {
     "iopub.execute_input": "2021-09-05T09:15:11.597758Z",
     "iopub.status.busy": "2021-09-05T09:15:11.596961Z",
     "iopub.status.idle": "2021-09-05T09:15:11.604120Z",
     "shell.execute_reply": "2021-09-05T09:15:11.603563Z"
    }
   },
   "outputs": [],
   "source": [
    "def degrees_to_cardinal(d):\r\n",
    "  dirs = ['N', 'NNE', 'NE', 'ENE', 'E', 'ESE', 'SE', 'SSE', 'S', 'SSW', 'SW', 'WSW', 'W', 'WNW', 'NW', 'NNW']\r\n",
    "  ix = int(round(d / (360. / len(dirs))))\r\n",
    "  return dirs[ix % len(dirs)]"
   ]
  },
  {
   "cell_type": "code",
   "execution_count": 5,
   "metadata": {
    "execution": {
     "iopub.execute_input": "2021-09-05T09:15:11.612975Z",
     "iopub.status.busy": "2021-09-05T09:15:11.608813Z",
     "iopub.status.idle": "2021-09-05T09:15:11.613709Z",
     "shell.execute_reply": "2021-09-05T09:15:11.614211Z"
    }
   },
   "outputs": [],
   "source": [
    "# data.keys()"
   ]
  },
  {
   "cell_type": "code",
   "execution_count": 6,
   "metadata": {
    "execution": {
     "iopub.execute_input": "2021-09-05T09:15:11.621045Z",
     "iopub.status.busy": "2021-09-05T09:15:11.616674Z",
     "iopub.status.idle": "2021-09-05T09:15:11.621795Z",
     "shell.execute_reply": "2021-09-05T09:15:11.625546Z"
    }
   },
   "outputs": [],
   "source": [
    "# data['current']"
   ]
  },
  {
   "cell_type": "code",
   "execution_count": 7,
   "metadata": {
    "execution": {
     "iopub.execute_input": "2021-09-05T09:15:11.649343Z",
     "iopub.status.busy": "2021-09-05T09:15:11.628730Z",
     "iopub.status.idle": "2021-09-05T09:15:12.127233Z",
     "shell.execute_reply": "2021-09-05T09:15:12.128068Z"
    }
   },
   "outputs": [
    {
     "data": {
      "image/png": "[encoded data removed]",
      "text/plain": [
       "<Figure size 216x216 with 1 Axes>"
      ]
     },
     "metadata": {
      "needs_background": "light"
     },
     "output_type": "display_data"
    },
    {
     "name": "stdout",
     "output_type": "stream",
     "text": [
      "Today, sun rises at 06:06 and sets at 18:36.\n",
      "Currently, the weather is Clouds (scattered clouds).\n",
      "The temperature is 30.98°C and it feels like 37.98°C.\n",
      "The UV index is 1.08, humidity is 77%.\n",
      "The pressure is 1009 hPa, percentage of cloud cover is 46%\n",
      "The wind comes from ESE direction with a speed 3.21 m/s.\n"
     ]
    }
   ],
   "source": [
    "current = data['current']\r\n",
    "\r\n",
    "fig, ax = plt.subplots(figsize=(3, 3))\r\n",
    "icon = requests.get(f\"http://openweathermap.org/img/wn/{current['weather'][0]['icon']}@2x.png\")\r\n",
    "im = Image.open(BytesIO(icon.content))\r\n",
    "plt.imshow(im)\r\n",
    "ax.set_axis_off()\r\n",
    "plt.show()\r\n",
    "\r\n",
    "print(f\"Today, sun rises at {ts2dt(current['sunrise'], '%H:%M')[0]} \\\r\n",
    "and sets at {ts2dt(current['sunset'], '%H:%M')[0]}.\\n\\\r\n",
    "Currently, the weather is {current['weather'][0]['main']} ({current['weather'][0]['description']}).\\n\\\r\n",
    "The temperature is {current['temp']}°C and it feels like {current['feels_like']}°C.\\n\\\r\n",
    "The UV index is {current['uvi']}, humidity is {current['humidity']}%.\\n\\\r\n",
    "The pressure is {current['pressure']} hPa, percentage of cloud cover is {current['clouds']}%\\n\\\r\n",
    "The wind comes from {degrees_to_cardinal(current['wind_deg'])} direction with a speed {current['wind_speed']} m/s.\")"
   ]
  },
  {
   "cell_type": "code",
   "execution_count": 8,
   "metadata": {
    "execution": {
     "iopub.execute_input": "2021-09-05T09:15:12.143560Z",
     "iopub.status.busy": "2021-09-05T09:15:12.133656Z",
     "iopub.status.idle": "2021-09-05T09:15:12.146373Z",
     "shell.execute_reply": "2021-09-05T09:15:12.147175Z"
    }
   },
   "outputs": [],
   "source": [
    "df_hourly = pd.DataFrame(data['hourly'])\r\n",
    "df_daily = pd.DataFrame(data['daily'])"
   ]
  },
  {
   "cell_type": "code",
   "execution_count": 9,
   "metadata": {
    "execution": {
     "iopub.execute_input": "2021-09-05T09:15:12.151144Z",
     "iopub.status.busy": "2021-09-05T09:15:12.149975Z",
     "iopub.status.idle": "2021-09-05T09:15:12.514595Z",
     "shell.execute_reply": "2021-09-05T09:15:12.515105Z"
    }
   },
   "outputs": [
    {
     "data": {
      "image/png": "[encoded data removed]",
      "text/plain": [
       "<Figure size 864x432 with 1 Axes>"
      ]
     },
     "metadata": {
      "needs_background": "light"
     },
     "output_type": "display_data"
    }
   ],
   "source": [
    "fig, ax = plt.subplots(figsize=(12, 6))\r\n",
    "plt.plot(df_hourly.temp, '.-', label='Temperature')\r\n",
    "plt.plot(df_hourly.feels_like, '.-', label='Feels Like')\r\n",
    "ax.set(title='Temperature in future 48 hours', xlabel='Time', ylabel='Temperature')\r\n",
    "ax.set_xticks(list(range(0, len(df_hourly), 2)))\r\n",
    "ax.set_xticklabels([ts2dt(ts, '%m-%d %H:%M')[0] for i, ts in enumerate(df_hourly.dt) if i%2==0], \r\n",
    "                   rotation=45, ha=\"right\")\r\n",
    "ax.locator_params(nbins=15, axis='y')\r\n",
    "plt.legend()\r\n",
    "plt.show()"
   ]
  },
  {
   "cell_type": "code",
   "execution_count": 10,
   "metadata": {
    "execution": {
     "iopub.execute_input": "2021-09-05T09:15:12.520802Z",
     "iopub.status.busy": "2021-09-05T09:15:12.519999Z",
     "iopub.status.idle": "2021-09-05T09:15:12.541673Z",
     "shell.execute_reply": "2021-09-05T09:15:12.542283Z"
    }
   },
   "outputs": [
    {
     "data": {
      "text/html": [
       "<div>\n",
       "<style scoped>\n",
       "    .dataframe tbody tr th:only-of-type {\n",
       "        vertical-align: middle;\n",
       "    }\n",
       "\n",
       "    .dataframe tbody tr th {\n",
       "        vertical-align: top;\n",
       "    }\n",
       "\n",
       "    .dataframe thead th {\n",
       "        text-align: right;\n",
       "    }\n",
       "</style>\n",
       "<table border=\"1\" class=\"dataframe\">\n",
       "  <thead>\n",
       "    <tr style=\"text-align: right;\">\n",
       "      <th></th>\n",
       "      <th>dt</th>\n",
       "      <th>temp</th>\n",
       "      <th>feels_like</th>\n",
       "      <th>pressure</th>\n",
       "      <th>humidity</th>\n",
       "      <th>dew_point</th>\n",
       "      <th>uvi</th>\n",
       "      <th>clouds</th>\n",
       "      <th>visibility</th>\n",
       "      <th>wind_speed</th>\n",
       "      <th>wind_deg</th>\n",
       "      <th>wind_gust</th>\n",
       "      <th>weather</th>\n",
       "      <th>pop</th>\n",
       "      <th>rain</th>\n",
       "    </tr>\n",
       "  </thead>\n",
       "  <tbody>\n",
       "    <tr>\n",
       "      <th>0</th>\n",
       "      <td>1630832400</td>\n",
       "      <td>30.98</td>\n",
       "      <td>37.98</td>\n",
       "      <td>1009</td>\n",
       "      <td>77</td>\n",
       "      <td>26.47</td>\n",
       "      <td>1.08</td>\n",
       "      <td>46</td>\n",
       "      <td>10000</td>\n",
       "      <td>3.21</td>\n",
       "      <td>109</td>\n",
       "      <td>3.07</td>\n",
       "      <td>[{'id': 802, 'main': 'Clouds', 'description': ...</td>\n",
       "      <td>0.49</td>\n",
       "      <td>NaN</td>\n",
       "    </tr>\n",
       "    <tr>\n",
       "      <th>1</th>\n",
       "      <td>1630836000</td>\n",
       "      <td>30.62</td>\n",
       "      <td>37.62</td>\n",
       "      <td>1009</td>\n",
       "      <td>76</td>\n",
       "      <td>25.90</td>\n",
       "      <td>0.19</td>\n",
       "      <td>46</td>\n",
       "      <td>10000</td>\n",
       "      <td>3.04</td>\n",
       "      <td>104</td>\n",
       "      <td>3.37</td>\n",
       "      <td>[{'id': 802, 'main': 'Clouds', 'description': ...</td>\n",
       "      <td>0.41</td>\n",
       "      <td>NaN</td>\n",
       "    </tr>\n",
       "    <tr>\n",
       "      <th>2</th>\n",
       "      <td>1630839600</td>\n",
       "      <td>29.96</td>\n",
       "      <td>36.45</td>\n",
       "      <td>1009</td>\n",
       "      <td>76</td>\n",
       "      <td>25.26</td>\n",
       "      <td>0.00</td>\n",
       "      <td>44</td>\n",
       "      <td>10000</td>\n",
       "      <td>2.97</td>\n",
       "      <td>104</td>\n",
       "      <td>3.54</td>\n",
       "      <td>[{'id': 802, 'main': 'Clouds', 'description': ...</td>\n",
       "      <td>0.37</td>\n",
       "      <td>NaN</td>\n",
       "    </tr>\n",
       "    <tr>\n",
       "      <th>3</th>\n",
       "      <td>1630843200</td>\n",
       "      <td>29.33</td>\n",
       "      <td>35.44</td>\n",
       "      <td>1010</td>\n",
       "      <td>79</td>\n",
       "      <td>25.31</td>\n",
       "      <td>0.00</td>\n",
       "      <td>42</td>\n",
       "      <td>10000</td>\n",
       "      <td>2.92</td>\n",
       "      <td>99</td>\n",
       "      <td>3.83</td>\n",
       "      <td>[{'id': 802, 'main': 'Clouds', 'description': ...</td>\n",
       "      <td>0.27</td>\n",
       "      <td>NaN</td>\n",
       "    </tr>\n",
       "    <tr>\n",
       "      <th>4</th>\n",
       "      <td>1630846800</td>\n",
       "      <td>28.76</td>\n",
       "      <td>34.28</td>\n",
       "      <td>1011</td>\n",
       "      <td>81</td>\n",
       "      <td>25.17</td>\n",
       "      <td>0.00</td>\n",
       "      <td>21</td>\n",
       "      <td>10000</td>\n",
       "      <td>2.86</td>\n",
       "      <td>98</td>\n",
       "      <td>4.10</td>\n",
       "      <td>[{'id': 801, 'main': 'Clouds', 'description': ...</td>\n",
       "      <td>0.10</td>\n",
       "      <td>NaN</td>\n",
       "    </tr>\n",
       "  </tbody>\n",
       "</table>\n",
       "</div>"
      ],
      "text/plain": [
       "           dt   temp  feels_like  pressure  humidity  dew_point   uvi  clouds  \\\n",
       "0  1630832400  30.98       37.98      1009        77      26.47  1.08      46   \n",
       "1  1630836000  30.62       37.62      1009        76      25.90  0.19      46   \n",
       "2  1630839600  29.96       36.45      1009        76      25.26  0.00      44   \n",
       "3  1630843200  29.33       35.44      1010        79      25.31  0.00      42   \n",
       "4  1630846800  28.76       34.28      1011        81      25.17  0.00      21   \n",
       "\n",
       "   visibility  wind_speed  wind_deg  wind_gust  \\\n",
       "0       10000        3.21       109       3.07   \n",
       "1       10000        3.04       104       3.37   \n",
       "2       10000        2.97       104       3.54   \n",
       "3       10000        2.92        99       3.83   \n",
       "4       10000        2.86        98       4.10   \n",
       "\n",
       "                                             weather   pop rain  \n",
       "0  [{'id': 802, 'main': 'Clouds', 'description': ...  0.49  NaN  \n",
       "1  [{'id': 802, 'main': 'Clouds', 'description': ...  0.41  NaN  \n",
       "2  [{'id': 802, 'main': 'Clouds', 'description': ...  0.37  NaN  \n",
       "3  [{'id': 802, 'main': 'Clouds', 'description': ...  0.27  NaN  \n",
       "4  [{'id': 801, 'main': 'Clouds', 'description': ...  0.10  NaN  "
      ]
     },
     "execution_count": 10,
     "metadata": {},
     "output_type": "execute_result"
    }
   ],
   "source": [
    "df_hourly.head()"
   ]
  },
  {
   "cell_type": "code",
   "execution_count": null,
   "metadata": {},
   "outputs": [],
   "source": []
  }
 ],
 "metadata": {
  "interpreter": {
   "hash": "c1b4cfe941b6d2466ad1fb5979e97da9cda8801728c8091b097ab734208fc00c"
  },
  "kernelspec": {
   "display_name": "Python 3.8.3 64-bit ('base': conda)",
   "name": "python3"
  },
  "language_info": {
   "codemirror_mode": {
    "name": "ipython",
    "version": 3
   },
   "file_extension": ".py",
   "mimetype": "text/x-python",
   "name": "python",
   "nbconvert_exporter": "python",
   "pygments_lexer": "ipython3",
   "version": "3.8.11"
  }
 },
 "nbformat": 4,
 "nbformat_minor": 2
}
