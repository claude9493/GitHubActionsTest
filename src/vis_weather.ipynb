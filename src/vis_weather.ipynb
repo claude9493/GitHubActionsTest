{
 "cells": [
  {
   "cell_type": "code",
   "execution_count": 1,
   "metadata": {
    "execution": {
     "iopub.execute_input": "2021-10-16T07:11:26.114602Z",
     "iopub.status.busy": "2021-10-16T07:11:26.113925Z",
     "iopub.status.idle": "2021-10-16T07:11:27.668863Z",
     "shell.execute_reply": "2021-10-16T07:11:27.668250Z"
    }
   },
   "outputs": [],
   "source": [
    "import json, yaml, requests\r\n",
    "from datetime import datetime\r\n",
    "from dateutil import tz\r\n",
    "import pandas as pd\r\n",
    "from PIL import Image\r\n",
    "from io import BytesIO\r\n",
    "import matplotlib.pyplot as plt\r\n",
    "import seaborn\r\n",
    "\r\n",
    "CONFIG_PATH = \"../config/config.yaml\""
   ]
  },
  {
   "cell_type": "code",
   "execution_count": 2,
   "metadata": {
    "execution": {
     "iopub.execute_input": "2021-10-16T07:11:27.673903Z",
     "iopub.status.busy": "2021-10-16T07:11:27.673431Z",
     "iopub.status.idle": "2021-10-16T07:11:27.678348Z",
     "shell.execute_reply": "2021-10-16T07:11:27.677725Z"
    }
   },
   "outputs": [],
   "source": [
    "with open('../newest_ts', 'r') as f:\r\n",
    "    newest_ts = f.read()\r\n",
    "\r\n",
    "data_path = f\"../data/data_{newest_ts}.json\"\r\n",
    "with open(data_path, 'r') as f:\r\n",
    "    data = json.load(f)\r\n",
    "\r\n",
    "with open(CONFIG_PATH, \"r\") as stream:\r\n",
    "    config = yaml.safe_load(stream)\r\n",
    "\r\n",
    "TIME_ZONE = config['time_zone']\r\n",
    "DATETIME_FORMAT = config['dt_format']"
   ]
  },
  {
   "cell_type": "code",
   "execution_count": 3,
   "metadata": {
    "execution": {
     "iopub.execute_input": "2021-10-16T07:11:27.682680Z",
     "iopub.status.busy": "2021-10-16T07:11:27.682170Z",
     "iopub.status.idle": "2021-10-16T07:11:27.687816Z",
     "shell.execute_reply": "2021-10-16T07:11:27.688191Z"
    }
   },
   "outputs": [
    {
     "name": "stdout",
     "output_type": "stream",
     "text": [
      "Recent query happens at 2021-10-16 15:11:22 (CST).\n"
     ]
    }
   ],
   "source": [
    "def ts2dt(ts, format=DATETIME_FORMAT):\r\n",
    "    dt = (datetime.utcfromtimestamp(int(ts))\r\n",
    "                    .replace(tzinfo=tz.tzutc())\r\n",
    "                    # .astimezone(tz.tzlocal())\r\n",
    "                    .astimezone(tz.gettz(TIME_ZONE)))\r\n",
    "    return dt.strftime(format), dt\r\n",
    "\r\n",
    "_, newest_dt = ts2dt(newest_ts)\r\n",
    "print(f\"Recent query happens at {newest_dt.strftime(DATETIME_FORMAT)} ({newest_dt.tzname()}).\")"
   ]
  },
  {
   "cell_type": "code",
   "execution_count": 4,
   "metadata": {
    "execution": {
     "iopub.execute_input": "2021-10-16T07:11:27.692865Z",
     "iopub.status.busy": "2021-10-16T07:11:27.691841Z",
     "iopub.status.idle": "2021-10-16T07:11:27.693389Z",
     "shell.execute_reply": "2021-10-16T07:11:27.693752Z"
    }
   },
   "outputs": [],
   "source": [
    "def degrees_to_cardinal(d):\r\n",
    "  dirs = ['N', 'NNE', 'NE', 'ENE', 'E', 'ESE', 'SE', 'SSE', 'S', 'SSW', 'SW', 'WSW', 'W', 'WNW', 'NW', 'NNW']\r\n",
    "  ix = int(round(d / (360. / len(dirs))))\r\n",
    "  return dirs[ix % len(dirs)]"
   ]
  },
  {
   "cell_type": "code",
   "execution_count": 5,
   "metadata": {
    "execution": {
     "iopub.execute_input": "2021-10-16T07:11:27.697539Z",
     "iopub.status.busy": "2021-10-16T07:11:27.696552Z",
     "iopub.status.idle": "2021-10-16T07:11:27.698054Z",
     "shell.execute_reply": "2021-10-16T07:11:27.698435Z"
    }
   },
   "outputs": [],
   "source": [
    "# data.keys()"
   ]
  },
  {
   "cell_type": "code",
   "execution_count": 6,
   "metadata": {
    "execution": {
     "iopub.execute_input": "2021-10-16T07:11:27.702080Z",
     "iopub.status.busy": "2021-10-16T07:11:27.701017Z",
     "iopub.status.idle": "2021-10-16T07:11:27.702632Z",
     "shell.execute_reply": "2021-10-16T07:11:27.703000Z"
    }
   },
   "outputs": [],
   "source": [
    "# data['current']"
   ]
  },
  {
   "cell_type": "code",
   "execution_count": 7,
   "metadata": {
    "execution": {
     "iopub.execute_input": "2021-10-16T07:11:27.719081Z",
     "iopub.status.busy": "2021-10-16T07:11:27.708407Z",
     "iopub.status.idle": "2021-10-16T07:11:28.105979Z",
     "shell.execute_reply": "2021-10-16T07:11:28.106666Z"
    }
   },
   "outputs": [
    {
     "data": {
      "image/png": "[encoded data removed]",
      "text/plain": [
       "<Figure size 216x216 with 1 Axes>"
      ]
     },
     "metadata": {
      "needs_background": "light"
     },
     "output_type": "display_data"
    },
    {
     "name": "stdout",
     "output_type": "stream",
     "text": [
      "Today, sun rises at 06:19 and sets at 17:57.\n",
      "Currently, the weather is Clouds (scattered clouds).\n",
      "The temperature is 29.14°C and it feels like 33.43°C.\n",
      "The UV index is 3.69, humidity is 72%.\n",
      "The pressure is 1011 hPa, percentage of cloud cover is 45%\n",
      "The wind comes from WSW direction with a speed 1.79 m/s.\n"
     ]
    }
   ],
   "source": [
    "current = data['current']\r\n",
    "\r\n",
    "fig, ax = plt.subplots(figsize=(3, 3))\r\n",
    "icon = requests.get(f\"http://openweathermap.org/img/wn/{current['weather'][0]['icon']}@2x.png\")\r\n",
    "im = Image.open(BytesIO(icon.content))\r\n",
    "plt.imshow(im)\r\n",
    "ax.set_axis_off()\r\n",
    "plt.show()\r\n",
    "\r\n",
    "print(f\"Today, sun rises at {ts2dt(current['sunrise'], '%H:%M')[0]} \\\r\n",
    "and sets at {ts2dt(current['sunset'], '%H:%M')[0]}.\\n\\\r\n",
    "Currently, the weather is {current['weather'][0]['main']} ({current['weather'][0]['description']}).\\n\\\r\n",
    "The temperature is {current['temp']}°C and it feels like {current['feels_like']}°C.\\n\\\r\n",
    "The UV index is {current['uvi']}, humidity is {current['humidity']}%.\\n\\\r\n",
    "The pressure is {current['pressure']} hPa, percentage of cloud cover is {current['clouds']}%\\n\\\r\n",
    "The wind comes from {degrees_to_cardinal(current['wind_deg'])} direction with a speed {current['wind_speed']} m/s.\")"
   ]
  },
  {
   "cell_type": "code",
   "execution_count": 8,
   "metadata": {
    "execution": {
     "iopub.execute_input": "2021-10-16T07:11:28.109854Z",
     "iopub.status.busy": "2021-10-16T07:11:28.108926Z",
     "iopub.status.idle": "2021-10-16T07:11:28.115730Z",
     "shell.execute_reply": "2021-10-16T07:11:28.116370Z"
    }
   },
   "outputs": [],
   "source": [
    "df_hourly = pd.DataFrame(data['hourly'])\r\n",
    "df_daily = pd.DataFrame(data['daily'])"
   ]
  },
  {
   "cell_type": "code",
   "execution_count": 9,
   "metadata": {
    "execution": {
     "iopub.execute_input": "2021-10-16T07:11:28.119371Z",
     "iopub.status.busy": "2021-10-16T07:11:28.118443Z",
     "iopub.status.idle": "2021-10-16T07:11:28.347911Z",
     "shell.execute_reply": "2021-10-16T07:11:28.347479Z"
    }
   },
   "outputs": [
    {
     "data": {
      "image/png": "[encoded data removed]",
      "text/plain": [
       "<Figure size 864x432 with 1 Axes>"
      ]
     },
     "metadata": {
      "needs_background": "light"
     },
     "output_type": "display_data"
    }
   ],
   "source": [
    "fig, ax = plt.subplots(figsize=(12, 6))\r\n",
    "plt.plot(df_hourly.temp, '.-', label='Temperature')\r\n",
    "plt.plot(df_hourly.feels_like, '.-', label='Feels Like')\r\n",
    "ax.set(title='Temperature in future 48 hours', xlabel='Time', ylabel='Temperature')\r\n",
    "ax.set_xticks(list(range(0, len(df_hourly), 2)))\r\n",
    "ax.set_xticklabels([ts2dt(ts, '%m-%d %H:%M')[0] for i, ts in enumerate(df_hourly.dt) if i%2==0], \r\n",
    "                   rotation=45, ha=\"right\")\r\n",
    "ax.locator_params(nbins=15, axis='y')\r\n",
    "plt.legend()\r\n",
    "plt.show()"
   ]
  },
  {
   "cell_type": "code",
   "execution_count": 10,
   "metadata": {
    "execution": {
     "iopub.execute_input": "2021-10-16T07:11:28.352272Z",
     "iopub.status.busy": "2021-10-16T07:11:28.351817Z",
     "iopub.status.idle": "2021-10-16T07:11:28.367862Z",
     "shell.execute_reply": "2021-10-16T07:11:28.368284Z"
    }
   },
   "outputs": [
    {
     "data": {
      "text/html": [
       "<div>\n",
       "<style scoped>\n",
       "    .dataframe tbody tr th:only-of-type {\n",
       "        vertical-align: middle;\n",
       "    }\n",
       "\n",
       "    .dataframe tbody tr th {\n",
       "        vertical-align: top;\n",
       "    }\n",
       "\n",
       "    .dataframe thead th {\n",
       "        text-align: right;\n",
       "    }\n",
       "</style>\n",
       "<table border=\"1\" class=\"dataframe\">\n",
       "  <thead>\n",
       "    <tr style=\"text-align: right;\">\n",
       "      <th></th>\n",
       "      <th>dt</th>\n",
       "      <th>temp</th>\n",
       "      <th>feels_like</th>\n",
       "      <th>pressure</th>\n",
       "      <th>humidity</th>\n",
       "      <th>dew_point</th>\n",
       "      <th>uvi</th>\n",
       "      <th>clouds</th>\n",
       "      <th>visibility</th>\n",
       "      <th>wind_speed</th>\n",
       "      <th>wind_deg</th>\n",
       "      <th>wind_gust</th>\n",
       "      <th>weather</th>\n",
       "      <th>pop</th>\n",
       "    </tr>\n",
       "  </thead>\n",
       "  <tbody>\n",
       "    <tr>\n",
       "      <th>0</th>\n",
       "      <td>1634367600</td>\n",
       "      <td>29.14</td>\n",
       "      <td>33.43</td>\n",
       "      <td>1011</td>\n",
       "      <td>72</td>\n",
       "      <td>23.57</td>\n",
       "      <td>3.69</td>\n",
       "      <td>45</td>\n",
       "      <td>10000</td>\n",
       "      <td>7.54</td>\n",
       "      <td>19</td>\n",
       "      <td>8.21</td>\n",
       "      <td>[{'id': 802, 'main': 'Clouds', 'description': ...</td>\n",
       "      <td>0.20</td>\n",
       "    </tr>\n",
       "    <tr>\n",
       "      <th>1</th>\n",
       "      <td>1634371200</td>\n",
       "      <td>28.70</td>\n",
       "      <td>32.25</td>\n",
       "      <td>1011</td>\n",
       "      <td>71</td>\n",
       "      <td>22.92</td>\n",
       "      <td>1.73</td>\n",
       "      <td>46</td>\n",
       "      <td>10000</td>\n",
       "      <td>7.99</td>\n",
       "      <td>17</td>\n",
       "      <td>9.02</td>\n",
       "      <td>[{'id': 802, 'main': 'Clouds', 'description': ...</td>\n",
       "      <td>0.23</td>\n",
       "    </tr>\n",
       "    <tr>\n",
       "      <th>2</th>\n",
       "      <td>1634374800</td>\n",
       "      <td>27.78</td>\n",
       "      <td>30.25</td>\n",
       "      <td>1012</td>\n",
       "      <td>70</td>\n",
       "      <td>21.81</td>\n",
       "      <td>0.48</td>\n",
       "      <td>49</td>\n",
       "      <td>10000</td>\n",
       "      <td>8.88</td>\n",
       "      <td>15</td>\n",
       "      <td>10.38</td>\n",
       "      <td>[{'id': 802, 'main': 'Clouds', 'description': ...</td>\n",
       "      <td>0.12</td>\n",
       "    </tr>\n",
       "    <tr>\n",
       "      <th>3</th>\n",
       "      <td>1634378400</td>\n",
       "      <td>26.30</td>\n",
       "      <td>26.30</td>\n",
       "      <td>1013</td>\n",
       "      <td>72</td>\n",
       "      <td>20.85</td>\n",
       "      <td>0.00</td>\n",
       "      <td>47</td>\n",
       "      <td>10000</td>\n",
       "      <td>8.52</td>\n",
       "      <td>9</td>\n",
       "      <td>11.16</td>\n",
       "      <td>[{'id': 802, 'main': 'Clouds', 'description': ...</td>\n",
       "      <td>0.12</td>\n",
       "    </tr>\n",
       "    <tr>\n",
       "      <th>4</th>\n",
       "      <td>1634382000</td>\n",
       "      <td>24.46</td>\n",
       "      <td>24.89</td>\n",
       "      <td>1014</td>\n",
       "      <td>74</td>\n",
       "      <td>19.52</td>\n",
       "      <td>0.00</td>\n",
       "      <td>41</td>\n",
       "      <td>10000</td>\n",
       "      <td>8.27</td>\n",
       "      <td>6</td>\n",
       "      <td>11.58</td>\n",
       "      <td>[{'id': 802, 'main': 'Clouds', 'description': ...</td>\n",
       "      <td>0.12</td>\n",
       "    </tr>\n",
       "  </tbody>\n",
       "</table>\n",
       "</div>"
      ],
      "text/plain": [
       "           dt   temp  feels_like  pressure  humidity  dew_point   uvi  clouds  \\\n",
       "0  1634367600  29.14       33.43      1011        72      23.57  3.69      45   \n",
       "1  1634371200  28.70       32.25      1011        71      22.92  1.73      46   \n",
       "2  1634374800  27.78       30.25      1012        70      21.81  0.48      49   \n",
       "3  1634378400  26.30       26.30      1013        72      20.85  0.00      47   \n",
       "4  1634382000  24.46       24.89      1014        74      19.52  0.00      41   \n",
       "\n",
       "   visibility  wind_speed  wind_deg  wind_gust  \\\n",
       "0       10000        7.54        19       8.21   \n",
       "1       10000        7.99        17       9.02   \n",
       "2       10000        8.88        15      10.38   \n",
       "3       10000        8.52         9      11.16   \n",
       "4       10000        8.27         6      11.58   \n",
       "\n",
       "                                             weather   pop  \n",
       "0  [{'id': 802, 'main': 'Clouds', 'description': ...  0.20  \n",
       "1  [{'id': 802, 'main': 'Clouds', 'description': ...  0.23  \n",
       "2  [{'id': 802, 'main': 'Clouds', 'description': ...  0.12  \n",
       "3  [{'id': 802, 'main': 'Clouds', 'description': ...  0.12  \n",
       "4  [{'id': 802, 'main': 'Clouds', 'description': ...  0.12  "
      ]
     },
     "execution_count": 10,
     "metadata": {},
     "output_type": "execute_result"
    }
   ],
   "source": [
    "df_hourly.head()"
   ]
  },
  {
   "cell_type": "code",
   "execution_count": null,
   "metadata": {},
   "outputs": [],
   "source": []
  }
 ],
 "metadata": {
  "interpreter": {
   "hash": "c1b4cfe941b6d2466ad1fb5979e97da9cda8801728c8091b097ab734208fc00c"
  },
  "kernelspec": {
   "display_name": "Python 3.8.3 64-bit ('base': conda)",
   "name": "python3"
  },
  "language_info": {
   "codemirror_mode": {
    "name": "ipython",
    "version": 3
   },
   "file_extension": ".py",
   "mimetype": "text/x-python",
   "name": "python",
   "nbconvert_exporter": "python",
   "pygments_lexer": "ipython3",
   "version": "3.8.12"
  }
 },
 "nbformat": 4,
 "nbformat_minor": 2
}
