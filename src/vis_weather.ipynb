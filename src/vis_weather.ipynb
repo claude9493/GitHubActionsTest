{
 "cells": [
  {
   "cell_type": "code",
   "execution_count": 1,
   "metadata": {
    "execution": {
     "iopub.execute_input": "2021-09-15T05:10:20.147382Z",
     "iopub.status.busy": "2021-09-15T05:10:20.146820Z",
     "iopub.status.idle": "2021-09-15T05:10:21.623758Z",
     "shell.execute_reply": "2021-09-15T05:10:21.622859Z"
    }
   },
   "outputs": [],
   "source": [
    "import json, yaml, requests\r\n",
    "from datetime import datetime\r\n",
    "from dateutil import tz\r\n",
    "import pandas as pd\r\n",
    "from PIL import Image\r\n",
    "from io import BytesIO\r\n",
    "import matplotlib.pyplot as plt\r\n",
    "import seaborn\r\n",
    "\r\n",
    "CONFIG_PATH = \"../config/config.yaml\""
   ]
  },
  {
   "cell_type": "code",
   "execution_count": 2,
   "metadata": {
    "execution": {
     "iopub.execute_input": "2021-09-15T05:10:21.629210Z",
     "iopub.status.busy": "2021-09-15T05:10:21.628293Z",
     "iopub.status.idle": "2021-09-15T05:10:21.633376Z",
     "shell.execute_reply": "2021-09-15T05:10:21.632978Z"
    }
   },
   "outputs": [],
   "source": [
    "with open('../newest_ts', 'r') as f:\r\n",
    "    newest_ts = f.read()\r\n",
    "\r\n",
    "data_path = f\"../data/data_{newest_ts}.json\"\r\n",
    "with open(data_path, 'r') as f:\r\n",
    "    data = json.load(f)\r\n",
    "\r\n",
    "with open(CONFIG_PATH, \"r\") as stream:\r\n",
    "    config = yaml.safe_load(stream)\r\n",
    "\r\n",
    "TIME_ZONE = config['time_zone']\r\n",
    "DATETIME_FORMAT = config['dt_format']"
   ]
  },
  {
   "cell_type": "code",
   "execution_count": 3,
   "metadata": {
    "execution": {
     "iopub.execute_input": "2021-09-15T05:10:21.637610Z",
     "iopub.status.busy": "2021-09-15T05:10:21.637158Z",
     "iopub.status.idle": "2021-09-15T05:10:21.652321Z",
     "shell.execute_reply": "2021-09-15T05:10:21.652689Z"
    }
   },
   "outputs": [
    {
     "name": "stdout",
     "output_type": "stream",
     "text": [
      "Recent query happens at 2021-09-15 13:10:17 (CST).\n"
     ]
    }
   ],
   "source": [
    "def ts2dt(ts, format=DATETIME_FORMAT):\r\n",
    "    dt = (datetime.utcfromtimestamp(int(ts))\r\n",
    "                    .replace(tzinfo=tz.tzutc())\r\n",
    "                    # .astimezone(tz.tzlocal())\r\n",
    "                    .astimezone(tz.gettz(TIME_ZONE)))\r\n",
    "    return dt.strftime(format), dt\r\n",
    "\r\n",
    "_, newest_dt = ts2dt(newest_ts)\r\n",
    "print(f\"Recent query happens at {newest_dt.strftime(DATETIME_FORMAT)} ({newest_dt.tzname()}).\")"
   ]
  },
  {
   "cell_type": "code",
   "execution_count": 4,
   "metadata": {
    "execution": {
     "iopub.execute_input": "2021-09-15T05:10:21.657266Z",
     "iopub.status.busy": "2021-09-15T05:10:21.656805Z",
     "iopub.status.idle": "2021-09-15T05:10:21.659784Z",
     "shell.execute_reply": "2021-09-15T05:10:21.659405Z"
    }
   },
   "outputs": [],
   "source": [
    "def degrees_to_cardinal(d):\r\n",
    "  dirs = ['N', 'NNE', 'NE', 'ENE', 'E', 'ESE', 'SE', 'SSE', 'S', 'SSW', 'SW', 'WSW', 'W', 'WNW', 'NW', 'NNW']\r\n",
    "  ix = int(round(d / (360. / len(dirs))))\r\n",
    "  return dirs[ix % len(dirs)]"
   ]
  },
  {
   "cell_type": "code",
   "execution_count": 5,
   "metadata": {
    "execution": {
     "iopub.execute_input": "2021-09-15T05:10:21.663162Z",
     "iopub.status.busy": "2021-09-15T05:10:21.662685Z",
     "iopub.status.idle": "2021-09-15T05:10:21.665222Z",
     "shell.execute_reply": "2021-09-15T05:10:21.665948Z"
    }
   },
   "outputs": [],
   "source": [
    "# data.keys()"
   ]
  },
  {
   "cell_type": "code",
   "execution_count": 6,
   "metadata": {
    "execution": {
     "iopub.execute_input": "2021-09-15T05:10:21.668868Z",
     "iopub.status.busy": "2021-09-15T05:10:21.668424Z",
     "iopub.status.idle": "2021-09-15T05:10:21.671394Z",
     "shell.execute_reply": "2021-09-15T05:10:21.670994Z"
    }
   },
   "outputs": [],
   "source": [
    "# data['current']"
   ]
  },
  {
   "cell_type": "code",
   "execution_count": 7,
   "metadata": {
    "execution": {
     "iopub.execute_input": "2021-09-15T05:10:21.693988Z",
     "iopub.status.busy": "2021-09-15T05:10:21.687391Z",
     "iopub.status.idle": "2021-09-15T05:10:22.086537Z",
     "shell.execute_reply": "2021-09-15T05:10:22.087224Z"
    }
   },
   "outputs": [
    {
     "data": {
      "image/png": "[encoded data removed]",
      "text/plain": [
       "<Figure size 216x216 with 1 Axes>"
      ]
     },
     "metadata": {
      "needs_background": "light"
     },
     "output_type": "display_data"
    },
    {
     "name": "stdout",
     "output_type": "stream",
     "text": [
      "Today, sun rises at 06:09 and sets at 18:27.\n",
      "Currently, the weather is Clouds (broken clouds).\n",
      "The temperature is 32.75°C and it feels like 39.75°C.\n",
      "The UV index is 10.47, humidity is 65%.\n",
      "The pressure is 1011 hPa, percentage of cloud cover is 54%\n",
      "The wind comes from WSW direction with a speed 3.8 m/s.\n"
     ]
    }
   ],
   "source": [
    "current = data['current']\r\n",
    "\r\n",
    "fig, ax = plt.subplots(figsize=(3, 3))\r\n",
    "icon = requests.get(f\"http://openweathermap.org/img/wn/{current['weather'][0]['icon']}@2x.png\")\r\n",
    "im = Image.open(BytesIO(icon.content))\r\n",
    "plt.imshow(im)\r\n",
    "ax.set_axis_off()\r\n",
    "plt.show()\r\n",
    "\r\n",
    "print(f\"Today, sun rises at {ts2dt(current['sunrise'], '%H:%M')[0]} \\\r\n",
    "and sets at {ts2dt(current['sunset'], '%H:%M')[0]}.\\n\\\r\n",
    "Currently, the weather is {current['weather'][0]['main']} ({current['weather'][0]['description']}).\\n\\\r\n",
    "The temperature is {current['temp']}°C and it feels like {current['feels_like']}°C.\\n\\\r\n",
    "The UV index is {current['uvi']}, humidity is {current['humidity']}%.\\n\\\r\n",
    "The pressure is {current['pressure']} hPa, percentage of cloud cover is {current['clouds']}%\\n\\\r\n",
    "The wind comes from {degrees_to_cardinal(current['wind_deg'])} direction with a speed {current['wind_speed']} m/s.\")"
   ]
  },
  {
   "cell_type": "code",
   "execution_count": 8,
   "metadata": {
    "execution": {
     "iopub.execute_input": "2021-09-15T05:10:22.090484Z",
     "iopub.status.busy": "2021-09-15T05:10:22.089574Z",
     "iopub.status.idle": "2021-09-15T05:10:22.096447Z",
     "shell.execute_reply": "2021-09-15T05:10:22.097086Z"
    }
   },
   "outputs": [],
   "source": [
    "df_hourly = pd.DataFrame(data['hourly'])\r\n",
    "df_daily = pd.DataFrame(data['daily'])"
   ]
  },
  {
   "cell_type": "code",
   "execution_count": 9,
   "metadata": {
    "execution": {
     "iopub.execute_input": "2021-09-15T05:10:22.100250Z",
     "iopub.status.busy": "2021-09-15T05:10:22.099229Z",
     "iopub.status.idle": "2021-09-15T05:10:22.353087Z",
     "shell.execute_reply": "2021-09-15T05:10:22.352653Z"
    }
   },
   "outputs": [
    {
     "data": {
      "image/png": "[encoded data removed]",
      "text/plain": [
       "<Figure size 864x432 with 1 Axes>"
      ]
     },
     "metadata": {
      "needs_background": "light"
     },
     "output_type": "display_data"
    }
   ],
   "source": [
    "fig, ax = plt.subplots(figsize=(12, 6))\r\n",
    "plt.plot(df_hourly.temp, '.-', label='Temperature')\r\n",
    "plt.plot(df_hourly.feels_like, '.-', label='Feels Like')\r\n",
    "ax.set(title='Temperature in future 48 hours', xlabel='Time', ylabel='Temperature')\r\n",
    "ax.set_xticks(list(range(0, len(df_hourly), 2)))\r\n",
    "ax.set_xticklabels([ts2dt(ts, '%m-%d %H:%M')[0] for i, ts in enumerate(df_hourly.dt) if i%2==0], \r\n",
    "                   rotation=45, ha=\"right\")\r\n",
    "ax.locator_params(nbins=15, axis='y')\r\n",
    "plt.legend()\r\n",
    "plt.show()"
   ]
  },
  {
   "cell_type": "code",
   "execution_count": 10,
   "metadata": {
    "execution": {
     "iopub.execute_input": "2021-09-15T05:10:22.358071Z",
     "iopub.status.busy": "2021-09-15T05:10:22.355429Z",
     "iopub.status.idle": "2021-09-15T05:10:22.377176Z",
     "shell.execute_reply": "2021-09-15T05:10:22.376749Z"
    }
   },
   "outputs": [
    {
     "data": {
      "text/html": [
       "<div>\n",
       "<style scoped>\n",
       "    .dataframe tbody tr th:only-of-type {\n",
       "        vertical-align: middle;\n",
       "    }\n",
       "\n",
       "    .dataframe tbody tr th {\n",
       "        vertical-align: top;\n",
       "    }\n",
       "\n",
       "    .dataframe thead th {\n",
       "        text-align: right;\n",
       "    }\n",
       "</style>\n",
       "<table border=\"1\" class=\"dataframe\">\n",
       "  <thead>\n",
       "    <tr style=\"text-align: right;\">\n",
       "      <th></th>\n",
       "      <th>dt</th>\n",
       "      <th>temp</th>\n",
       "      <th>feels_like</th>\n",
       "      <th>pressure</th>\n",
       "      <th>humidity</th>\n",
       "      <th>dew_point</th>\n",
       "      <th>uvi</th>\n",
       "      <th>clouds</th>\n",
       "      <th>visibility</th>\n",
       "      <th>wind_speed</th>\n",
       "      <th>wind_deg</th>\n",
       "      <th>wind_gust</th>\n",
       "      <th>weather</th>\n",
       "      <th>pop</th>\n",
       "      <th>rain</th>\n",
       "    </tr>\n",
       "  </thead>\n",
       "  <tbody>\n",
       "    <tr>\n",
       "      <th>0</th>\n",
       "      <td>1631682000</td>\n",
       "      <td>32.75</td>\n",
       "      <td>39.75</td>\n",
       "      <td>1011</td>\n",
       "      <td>65</td>\n",
       "      <td>25.30</td>\n",
       "      <td>10.47</td>\n",
       "      <td>54</td>\n",
       "      <td>10000</td>\n",
       "      <td>3.80</td>\n",
       "      <td>246</td>\n",
       "      <td>3.76</td>\n",
       "      <td>[{'id': 500, 'main': 'Rain', 'description': 'l...</td>\n",
       "      <td>0.33</td>\n",
       "      <td>{'1h': 0.18}</td>\n",
       "    </tr>\n",
       "    <tr>\n",
       "      <th>1</th>\n",
       "      <td>1631685600</td>\n",
       "      <td>32.48</td>\n",
       "      <td>39.48</td>\n",
       "      <td>1011</td>\n",
       "      <td>65</td>\n",
       "      <td>25.05</td>\n",
       "      <td>8.61</td>\n",
       "      <td>56</td>\n",
       "      <td>10000</td>\n",
       "      <td>4.59</td>\n",
       "      <td>249</td>\n",
       "      <td>4.55</td>\n",
       "      <td>[{'id': 803, 'main': 'Clouds', 'description': ...</td>\n",
       "      <td>0.33</td>\n",
       "      <td>NaN</td>\n",
       "    </tr>\n",
       "    <tr>\n",
       "      <th>2</th>\n",
       "      <td>1631689200</td>\n",
       "      <td>32.08</td>\n",
       "      <td>39.08</td>\n",
       "      <td>1010</td>\n",
       "      <td>66</td>\n",
       "      <td>24.92</td>\n",
       "      <td>5.67</td>\n",
       "      <td>72</td>\n",
       "      <td>10000</td>\n",
       "      <td>4.94</td>\n",
       "      <td>252</td>\n",
       "      <td>5.16</td>\n",
       "      <td>[{'id': 803, 'main': 'Clouds', 'description': ...</td>\n",
       "      <td>0.12</td>\n",
       "      <td>NaN</td>\n",
       "    </tr>\n",
       "    <tr>\n",
       "      <th>3</th>\n",
       "      <td>1631692800</td>\n",
       "      <td>31.63</td>\n",
       "      <td>38.34</td>\n",
       "      <td>1010</td>\n",
       "      <td>67</td>\n",
       "      <td>24.75</td>\n",
       "      <td>2.88</td>\n",
       "      <td>74</td>\n",
       "      <td>10000</td>\n",
       "      <td>4.96</td>\n",
       "      <td>250</td>\n",
       "      <td>5.28</td>\n",
       "      <td>[{'id': 803, 'main': 'Clouds', 'description': ...</td>\n",
       "      <td>0.20</td>\n",
       "      <td>NaN</td>\n",
       "    </tr>\n",
       "    <tr>\n",
       "      <th>4</th>\n",
       "      <td>1631696400</td>\n",
       "      <td>30.87</td>\n",
       "      <td>37.25</td>\n",
       "      <td>1009</td>\n",
       "      <td>70</td>\n",
       "      <td>24.76</td>\n",
       "      <td>0.94</td>\n",
       "      <td>75</td>\n",
       "      <td>10000</td>\n",
       "      <td>4.92</td>\n",
       "      <td>249</td>\n",
       "      <td>5.46</td>\n",
       "      <td>[{'id': 500, 'main': 'Rain', 'description': 'l...</td>\n",
       "      <td>0.41</td>\n",
       "      <td>{'1h': 0.32}</td>\n",
       "    </tr>\n",
       "  </tbody>\n",
       "</table>\n",
       "</div>"
      ],
      "text/plain": [
       "           dt   temp  feels_like  pressure  humidity  dew_point    uvi  \\\n",
       "0  1631682000  32.75       39.75      1011        65      25.30  10.47   \n",
       "1  1631685600  32.48       39.48      1011        65      25.05   8.61   \n",
       "2  1631689200  32.08       39.08      1010        66      24.92   5.67   \n",
       "3  1631692800  31.63       38.34      1010        67      24.75   2.88   \n",
       "4  1631696400  30.87       37.25      1009        70      24.76   0.94   \n",
       "\n",
       "   clouds  visibility  wind_speed  wind_deg  wind_gust  \\\n",
       "0      54       10000        3.80       246       3.76   \n",
       "1      56       10000        4.59       249       4.55   \n",
       "2      72       10000        4.94       252       5.16   \n",
       "3      74       10000        4.96       250       5.28   \n",
       "4      75       10000        4.92       249       5.46   \n",
       "\n",
       "                                             weather   pop          rain  \n",
       "0  [{'id': 500, 'main': 'Rain', 'description': 'l...  0.33  {'1h': 0.18}  \n",
       "1  [{'id': 803, 'main': 'Clouds', 'description': ...  0.33           NaN  \n",
       "2  [{'id': 803, 'main': 'Clouds', 'description': ...  0.12           NaN  \n",
       "3  [{'id': 803, 'main': 'Clouds', 'description': ...  0.20           NaN  \n",
       "4  [{'id': 500, 'main': 'Rain', 'description': 'l...  0.41  {'1h': 0.32}  "
      ]
     },
     "execution_count": 10,
     "metadata": {},
     "output_type": "execute_result"
    }
   ],
   "source": [
    "df_hourly.head()"
   ]
  },
  {
   "cell_type": "code",
   "execution_count": null,
   "metadata": {},
   "outputs": [],
   "source": []
  }
 ],
 "metadata": {
  "interpreter": {
   "hash": "c1b4cfe941b6d2466ad1fb5979e97da9cda8801728c8091b097ab734208fc00c"
  },
  "kernelspec": {
   "display_name": "Python 3.8.3 64-bit ('base': conda)",
   "name": "python3"
  },
  "language_info": {
   "codemirror_mode": {
    "name": "ipython",
    "version": 3
   },
   "file_extension": ".py",
   "mimetype": "text/x-python",
   "name": "python",
   "nbconvert_exporter": "python",
   "pygments_lexer": "ipython3",
   "version": "3.8.11"
  }
 },
 "nbformat": 4,
 "nbformat_minor": 2
}
