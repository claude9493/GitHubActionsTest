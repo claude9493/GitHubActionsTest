{
 "cells": [
  {
   "cell_type": "code",
   "execution_count": 1,
   "metadata": {
    "execution": {
     "iopub.execute_input": "2021-08-22T15:44:10.314620Z",
     "iopub.status.busy": "2021-08-22T15:44:10.313824Z",
     "iopub.status.idle": "2021-08-22T15:44:13.868493Z",
     "shell.execute_reply": "2021-08-22T15:44:13.867883Z"
    }
   },
   "outputs": [],
   "source": [
    "import json\r\n",
    "from datetime import datetime\r\n",
    "from dateutil import tz\r\n",
    "import pandas as pd\r\n",
    "import matplotlib.pyplot as plt\r\n",
    "import seaborn\r\n"
   ]
  },
  {
   "cell_type": "code",
   "execution_count": 2,
   "metadata": {
    "execution": {
     "iopub.execute_input": "2021-08-22T15:44:13.873484Z",
     "iopub.status.busy": "2021-08-22T15:44:13.872839Z",
     "iopub.status.idle": "2021-08-22T15:44:13.876464Z",
     "shell.execute_reply": "2021-08-22T15:44:13.877062Z"
    }
   },
   "outputs": [],
   "source": [
    "with open('../newest_ts', 'r') as f:\r\n",
    "    ts = f.read()\r\n",
    "\r\n",
    "data_path = f\"../data/data_{ts}.json\"\r\n",
    "with open(data_path, 'r') as f:\r\n",
    "    data = json.load(f)"
   ]
  },
  {
   "cell_type": "code",
   "execution_count": 3,
   "metadata": {
    "execution": {
     "iopub.execute_input": "2021-08-22T15:44:13.883167Z",
     "iopub.status.busy": "2021-08-22T15:44:13.881592Z",
     "iopub.status.idle": "2021-08-22T15:44:13.883887Z",
     "shell.execute_reply": "2021-08-22T15:44:13.884306Z"
    }
   },
   "outputs": [],
   "source": [
    "def ts2dt(ts, format='%Y-%m-%d %H:%M:%S'):\r\n",
    "    return (datetime.utcfromtimestamp(int(ts))\r\n",
    "                    .replace(tzinfo=tz.tzutc())\r\n",
    "                    .astimezone(tz.tzlocal())\r\n",
    "                    .strftime(format))"
   ]
  },
  {
   "cell_type": "code",
   "execution_count": 4,
   "metadata": {
    "execution": {
     "iopub.execute_input": "2021-08-22T15:44:13.891780Z",
     "iopub.status.busy": "2021-08-22T15:44:13.890798Z",
     "iopub.status.idle": "2021-08-22T15:44:13.895113Z",
     "shell.execute_reply": "2021-08-22T15:44:13.894656Z"
    }
   },
   "outputs": [
    {
     "data": {
      "text/plain": [
       "dict_keys(['lat', 'lon', 'timezone', 'timezone_offset', 'current', 'hourly', 'daily'])"
      ]
     },
     "execution_count": 4,
     "metadata": {},
     "output_type": "execute_result"
    }
   ],
   "source": [
    "data.keys()"
   ]
  },
  {
   "cell_type": "code",
   "execution_count": 5,
   "metadata": {
    "execution": {
     "iopub.execute_input": "2021-08-22T15:44:13.901451Z",
     "iopub.status.busy": "2021-08-22T15:44:13.899583Z",
     "iopub.status.idle": "2021-08-22T15:44:13.906719Z",
     "shell.execute_reply": "2021-08-22T15:44:13.906167Z"
    }
   },
   "outputs": [
    {
     "data": {
      "text/plain": [
       "{'dt': 1629647047,\n",
       " 'sunrise': 1629583360,\n",
       " 'sunset': 1629629370,\n",
       " 'temp': 29.66,\n",
       " 'feels_like': 36.66,\n",
       " 'pressure': 1007,\n",
       " 'humidity': 82,\n",
       " 'dew_point': 26.26,\n",
       " 'uvi': 0,\n",
       " 'clouds': 38,\n",
       " 'visibility': 10000,\n",
       " 'wind_speed': 3.97,\n",
       " 'wind_deg': 211,\n",
       " 'wind_gust': 5.63,\n",
       " 'weather': [{'id': 802,\n",
       "   'main': 'Clouds',\n",
       "   'description': 'scattered clouds',\n",
       "   'icon': '03n'}]}"
      ]
     },
     "execution_count": 5,
     "metadata": {},
     "output_type": "execute_result"
    }
   ],
   "source": [
    "data['current']"
   ]
  },
  {
   "cell_type": "code",
   "execution_count": 6,
   "metadata": {
    "execution": {
     "iopub.execute_input": "2021-08-22T15:44:13.913731Z",
     "iopub.status.busy": "2021-08-22T15:44:13.913179Z",
     "iopub.status.idle": "2021-08-22T15:44:13.916037Z",
     "shell.execute_reply": "2021-08-22T15:44:13.916523Z"
    }
   },
   "outputs": [
    {
     "data": {
      "text/plain": [
       "['08-22 15:00',\n",
       " '08-22 16:00',\n",
       " '08-22 17:00',\n",
       " '08-22 18:00',\n",
       " '08-22 19:00',\n",
       " '08-22 20:00',\n",
       " '08-22 21:00',\n",
       " '08-22 22:00',\n",
       " '08-22 23:00',\n",
       " '08-23 00:00',\n",
       " '08-23 01:00',\n",
       " '08-23 02:00',\n",
       " '08-23 03:00',\n",
       " '08-23 04:00',\n",
       " '08-23 05:00',\n",
       " '08-23 06:00',\n",
       " '08-23 07:00',\n",
       " '08-23 08:00',\n",
       " '08-23 09:00',\n",
       " '08-23 10:00',\n",
       " '08-23 11:00',\n",
       " '08-23 12:00',\n",
       " '08-23 13:00',\n",
       " '08-23 14:00',\n",
       " '08-23 15:00',\n",
       " '08-23 16:00',\n",
       " '08-23 17:00',\n",
       " '08-23 18:00',\n",
       " '08-23 19:00',\n",
       " '08-23 20:00',\n",
       " '08-23 21:00',\n",
       " '08-23 22:00',\n",
       " '08-23 23:00',\n",
       " '08-24 00:00',\n",
       " '08-24 01:00',\n",
       " '08-24 02:00',\n",
       " '08-24 03:00',\n",
       " '08-24 04:00',\n",
       " '08-24 05:00',\n",
       " '08-24 06:00',\n",
       " '08-24 07:00',\n",
       " '08-24 08:00',\n",
       " '08-24 09:00',\n",
       " '08-24 10:00',\n",
       " '08-24 11:00',\n",
       " '08-24 12:00',\n",
       " '08-24 13:00',\n",
       " '08-24 14:00']"
      ]
     },
     "execution_count": 6,
     "metadata": {},
     "output_type": "execute_result"
    }
   ],
   "source": [
    "[ts2dt(hrdt['dt'], format='%m-%d %H:%M') for hrdt in data['hourly']]"
   ]
  },
  {
   "cell_type": "code",
   "execution_count": 7,
   "metadata": {
    "execution": {
     "iopub.execute_input": "2021-08-22T15:44:13.922829Z",
     "iopub.status.busy": "2021-08-22T15:44:13.921597Z",
     "iopub.status.idle": "2021-08-22T15:44:13.924479Z",
     "shell.execute_reply": "2021-08-22T15:44:13.924953Z"
    }
   },
   "outputs": [
    {
     "data": {
      "text/plain": [
       "{'dt': 1629644400,\n",
       " 'temp': 29.36,\n",
       " 'feels_like': 36.36,\n",
       " 'pressure': 1007,\n",
       " 'humidity': 83,\n",
       " 'dew_point': 26.17,\n",
       " 'uvi': 0,\n",
       " 'clouds': 35,\n",
       " 'visibility': 10000,\n",
       " 'wind_speed': 3.19,\n",
       " 'wind_deg': 201,\n",
       " 'wind_gust': 4.6,\n",
       " 'weather': [{'id': 802,\n",
       "   'main': 'Clouds',\n",
       "   'description': 'scattered clouds',\n",
       "   'icon': '03n'}],\n",
       " 'pop': 0.08}"
      ]
     },
     "execution_count": 7,
     "metadata": {},
     "output_type": "execute_result"
    }
   ],
   "source": [
    "data['hourly'][0]"
   ]
  },
  {
   "cell_type": "code",
   "execution_count": 8,
   "metadata": {
    "execution": {
     "iopub.execute_input": "2021-08-22T15:44:13.933473Z",
     "iopub.status.busy": "2021-08-22T15:44:13.932927Z",
     "iopub.status.idle": "2021-08-22T15:44:13.935475Z",
     "shell.execute_reply": "2021-08-22T15:44:13.935050Z"
    }
   },
   "outputs": [],
   "source": [
    "df_hourly = pd.DataFrame(data['hourly'])\r\n",
    "df_daily = pd.DataFrame(data['daily'])"
   ]
  },
  {
   "cell_type": "code",
   "execution_count": 9,
   "metadata": {
    "execution": {
     "iopub.execute_input": "2021-08-22T15:44:13.939996Z",
     "iopub.status.busy": "2021-08-22T15:44:13.939363Z",
     "iopub.status.idle": "2021-08-22T15:44:13.958119Z",
     "shell.execute_reply": "2021-08-22T15:44:13.958611Z"
    }
   },
   "outputs": [
    {
     "data": {
      "text/html": [
       "<div>\n",
       "<style scoped>\n",
       "    .dataframe tbody tr th:only-of-type {\n",
       "        vertical-align: middle;\n",
       "    }\n",
       "\n",
       "    .dataframe tbody tr th {\n",
       "        vertical-align: top;\n",
       "    }\n",
       "\n",
       "    .dataframe thead th {\n",
       "        text-align: right;\n",
       "    }\n",
       "</style>\n",
       "<table border=\"1\" class=\"dataframe\">\n",
       "  <thead>\n",
       "    <tr style=\"text-align: right;\">\n",
       "      <th></th>\n",
       "      <th>dt</th>\n",
       "      <th>temp</th>\n",
       "      <th>feels_like</th>\n",
       "      <th>pressure</th>\n",
       "      <th>humidity</th>\n",
       "      <th>dew_point</th>\n",
       "      <th>uvi</th>\n",
       "      <th>clouds</th>\n",
       "      <th>visibility</th>\n",
       "      <th>wind_speed</th>\n",
       "      <th>wind_deg</th>\n",
       "      <th>wind_gust</th>\n",
       "      <th>weather</th>\n",
       "      <th>pop</th>\n",
       "      <th>rain</th>\n",
       "    </tr>\n",
       "  </thead>\n",
       "  <tbody>\n",
       "    <tr>\n",
       "      <th>0</th>\n",
       "      <td>1629644400</td>\n",
       "      <td>29.36</td>\n",
       "      <td>36.36</td>\n",
       "      <td>1007</td>\n",
       "      <td>83</td>\n",
       "      <td>26.17</td>\n",
       "      <td>0.0</td>\n",
       "      <td>35</td>\n",
       "      <td>10000</td>\n",
       "      <td>3.19</td>\n",
       "      <td>201</td>\n",
       "      <td>4.60</td>\n",
       "      <td>[{'id': 802, 'main': 'Clouds', 'description': ...</td>\n",
       "      <td>0.08</td>\n",
       "      <td>NaN</td>\n",
       "    </tr>\n",
       "    <tr>\n",
       "      <th>1</th>\n",
       "      <td>1629648000</td>\n",
       "      <td>29.66</td>\n",
       "      <td>36.66</td>\n",
       "      <td>1007</td>\n",
       "      <td>82</td>\n",
       "      <td>26.26</td>\n",
       "      <td>0.0</td>\n",
       "      <td>38</td>\n",
       "      <td>10000</td>\n",
       "      <td>3.97</td>\n",
       "      <td>211</td>\n",
       "      <td>5.63</td>\n",
       "      <td>[{'id': 802, 'main': 'Clouds', 'description': ...</td>\n",
       "      <td>0.00</td>\n",
       "      <td>NaN</td>\n",
       "    </tr>\n",
       "    <tr>\n",
       "      <th>2</th>\n",
       "      <td>1629651600</td>\n",
       "      <td>29.31</td>\n",
       "      <td>36.31</td>\n",
       "      <td>1007</td>\n",
       "      <td>83</td>\n",
       "      <td>26.12</td>\n",
       "      <td>0.0</td>\n",
       "      <td>40</td>\n",
       "      <td>10000</td>\n",
       "      <td>3.20</td>\n",
       "      <td>207</td>\n",
       "      <td>4.71</td>\n",
       "      <td>[{'id': 802, 'main': 'Clouds', 'description': ...</td>\n",
       "      <td>0.04</td>\n",
       "      <td>NaN</td>\n",
       "    </tr>\n",
       "    <tr>\n",
       "      <th>3</th>\n",
       "      <td>1629655200</td>\n",
       "      <td>28.91</td>\n",
       "      <td>35.36</td>\n",
       "      <td>1007</td>\n",
       "      <td>84</td>\n",
       "      <td>25.93</td>\n",
       "      <td>0.0</td>\n",
       "      <td>46</td>\n",
       "      <td>10000</td>\n",
       "      <td>3.74</td>\n",
       "      <td>205</td>\n",
       "      <td>5.23</td>\n",
       "      <td>[{'id': 802, 'main': 'Clouds', 'description': ...</td>\n",
       "      <td>0.12</td>\n",
       "      <td>NaN</td>\n",
       "    </tr>\n",
       "    <tr>\n",
       "      <th>4</th>\n",
       "      <td>1629658800</td>\n",
       "      <td>28.49</td>\n",
       "      <td>34.12</td>\n",
       "      <td>1007</td>\n",
       "      <td>84</td>\n",
       "      <td>25.52</td>\n",
       "      <td>0.0</td>\n",
       "      <td>75</td>\n",
       "      <td>10000</td>\n",
       "      <td>3.86</td>\n",
       "      <td>205</td>\n",
       "      <td>5.25</td>\n",
       "      <td>[{'id': 500, 'main': 'Rain', 'description': 'l...</td>\n",
       "      <td>0.73</td>\n",
       "      <td>{'1h': 0.41}</td>\n",
       "    </tr>\n",
       "  </tbody>\n",
       "</table>\n",
       "</div>"
      ],
      "text/plain": [
       "           dt   temp  feels_like  pressure  humidity  dew_point  uvi  clouds  \\\n",
       "0  1629644400  29.36       36.36      1007        83      26.17  0.0      35   \n",
       "1  1629648000  29.66       36.66      1007        82      26.26  0.0      38   \n",
       "2  1629651600  29.31       36.31      1007        83      26.12  0.0      40   \n",
       "3  1629655200  28.91       35.36      1007        84      25.93  0.0      46   \n",
       "4  1629658800  28.49       34.12      1007        84      25.52  0.0      75   \n",
       "\n",
       "   visibility  wind_speed  wind_deg  wind_gust  \\\n",
       "0       10000        3.19       201       4.60   \n",
       "1       10000        3.97       211       5.63   \n",
       "2       10000        3.20       207       4.71   \n",
       "3       10000        3.74       205       5.23   \n",
       "4       10000        3.86       205       5.25   \n",
       "\n",
       "                                             weather   pop          rain  \n",
       "0  [{'id': 802, 'main': 'Clouds', 'description': ...  0.08           NaN  \n",
       "1  [{'id': 802, 'main': 'Clouds', 'description': ...  0.00           NaN  \n",
       "2  [{'id': 802, 'main': 'Clouds', 'description': ...  0.04           NaN  \n",
       "3  [{'id': 802, 'main': 'Clouds', 'description': ...  0.12           NaN  \n",
       "4  [{'id': 500, 'main': 'Rain', 'description': 'l...  0.73  {'1h': 0.41}  "
      ]
     },
     "execution_count": 9,
     "metadata": {},
     "output_type": "execute_result"
    }
   ],
   "source": [
    "df_hourly.head()"
   ]
  },
  {
   "cell_type": "code",
   "execution_count": null,
   "metadata": {},
   "outputs": [],
   "source": []
  }
 ],
 "metadata": {
  "interpreter": {
   "hash": "c1b4cfe941b6d2466ad1fb5979e97da9cda8801728c8091b097ab734208fc00c"
  },
  "kernelspec": {
   "display_name": "Python 3.8.3 64-bit ('base': conda)",
   "name": "python3"
  },
  "language_info": {
   "codemirror_mode": {
    "name": "ipython",
    "version": 3
   },
   "file_extension": ".py",
   "mimetype": "text/x-python",
   "name": "python",
   "nbconvert_exporter": "python",
   "pygments_lexer": "ipython3",
   "version": "3.8.11"
  }
 },
 "nbformat": 4,
 "nbformat_minor": 2
}
