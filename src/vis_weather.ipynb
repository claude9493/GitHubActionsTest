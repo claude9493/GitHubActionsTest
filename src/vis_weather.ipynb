{
 "cells": [
  {
   "cell_type": "code",
   "execution_count": 1,
   "metadata": {
    "execution": {
     "iopub.execute_input": "2021-08-26T02:44:21.408603Z",
     "iopub.status.busy": "2021-08-26T02:44:21.407872Z",
     "iopub.status.idle": "2021-08-26T02:44:25.780457Z",
     "shell.execute_reply": "2021-08-26T02:44:25.780994Z"
    }
   },
   "outputs": [],
   "source": [
    "import json, yaml, requests\r\n",
    "from datetime import datetime\r\n",
    "from dateutil import tz\r\n",
    "import pandas as pd\r\n",
    "from PIL import Image\r\n",
    "from io import BytesIO\r\n",
    "import matplotlib.pyplot as plt\r\n",
    "import seaborn\r\n",
    "\r\n",
    "CONFIG_PATH = \"../config/config.yaml\""
   ]
  },
  {
   "cell_type": "code",
   "execution_count": 2,
   "metadata": {
    "execution": {
     "iopub.execute_input": "2021-08-26T02:44:25.787040Z",
     "iopub.status.busy": "2021-08-26T02:44:25.786050Z",
     "iopub.status.idle": "2021-08-26T02:44:25.792071Z",
     "shell.execute_reply": "2021-08-26T02:44:25.791477Z"
    }
   },
   "outputs": [],
   "source": [
    "with open('../newest_ts', 'r') as f:\r\n",
    "    newest_ts = f.read()\r\n",
    "\r\n",
    "data_path = f\"../data/data_{newest_ts}.json\"\r\n",
    "with open(data_path, 'r') as f:\r\n",
    "    data = json.load(f)\r\n",
    "\r\n",
    "with open(CONFIG_PATH, \"r\") as stream:\r\n",
    "    config = yaml.safe_load(stream)\r\n",
    "\r\n",
    "TIME_ZONE = config['time_zone']\r\n",
    "DATETIME_FORMAT = config['dt_format']"
   ]
  },
  {
   "cell_type": "code",
   "execution_count": 3,
   "metadata": {
    "execution": {
     "iopub.execute_input": "2021-08-26T02:44:25.797158Z",
     "iopub.status.busy": "2021-08-26T02:44:25.796532Z",
     "iopub.status.idle": "2021-08-26T02:44:25.812825Z",
     "shell.execute_reply": "2021-08-26T02:44:25.813287Z"
    }
   },
   "outputs": [
    {
     "name": "stdout",
     "output_type": "stream",
     "text": [
      "Recent query happens at 2021-08-26 10:44:16 (CST).\n"
     ]
    }
   ],
   "source": [
    "def ts2dt(ts, format=DATETIME_FORMAT):\r\n",
    "    dt = (datetime.utcfromtimestamp(int(ts))\r\n",
    "                    .replace(tzinfo=tz.tzutc())\r\n",
    "                    # .astimezone(tz.tzlocal())\r\n",
    "                    .astimezone(tz.gettz(TIME_ZONE)))\r\n",
    "    return dt.strftime(format), dt\r\n",
    "\r\n",
    "_, newest_dt = ts2dt(newest_ts)\r\n",
    "print(f\"Recent query happens at {newest_dt.strftime(DATETIME_FORMAT)} ({newest_dt.tzname()}).\")"
   ]
  },
  {
   "cell_type": "code",
   "execution_count": 4,
   "metadata": {
    "execution": {
     "iopub.execute_input": "2021-08-26T02:44:25.819127Z",
     "iopub.status.busy": "2021-08-26T02:44:25.817802Z",
     "iopub.status.idle": "2021-08-26T02:44:25.819764Z",
     "shell.execute_reply": "2021-08-26T02:44:25.820255Z"
    }
   },
   "outputs": [],
   "source": [
    "def degrees_to_cardinal(d):\r\n",
    "  dirs = ['N', 'NNE', 'NE', 'ENE', 'E', 'ESE', 'SE', 'SSE', 'S', 'SSW', 'SW', 'WSW', 'W', 'WNW', 'NW', 'NNW']\r\n",
    "  ix = int(round(d / (360. / len(dirs))))\r\n",
    "  return dirs[ix % len(dirs)]"
   ]
  },
  {
   "cell_type": "code",
   "execution_count": 5,
   "metadata": {
    "execution": {
     "iopub.execute_input": "2021-08-26T02:44:25.824916Z",
     "iopub.status.busy": "2021-08-26T02:44:25.823717Z",
     "iopub.status.idle": "2021-08-26T02:44:25.825623Z",
     "shell.execute_reply": "2021-08-26T02:44:25.826134Z"
    }
   },
   "outputs": [],
   "source": [
    "# data.keys()"
   ]
  },
  {
   "cell_type": "code",
   "execution_count": 6,
   "metadata": {
    "execution": {
     "iopub.execute_input": "2021-08-26T02:44:25.829734Z",
     "iopub.status.busy": "2021-08-26T02:44:25.829151Z",
     "iopub.status.idle": "2021-08-26T02:44:25.830984Z",
     "shell.execute_reply": "2021-08-26T02:44:25.831469Z"
    }
   },
   "outputs": [],
   "source": [
    "# data['current']"
   ]
  },
  {
   "cell_type": "code",
   "execution_count": 7,
   "metadata": {
    "execution": {
     "iopub.execute_input": "2021-08-26T02:44:25.862485Z",
     "iopub.status.busy": "2021-08-26T02:44:25.858986Z",
     "iopub.status.idle": "2021-08-26T02:44:26.271392Z",
     "shell.execute_reply": "2021-08-26T02:44:26.272175Z"
    }
   },
   "outputs": [
    {
     "data": {
      "image/png": "[encoded data removed]",
      "text/plain": [
       "<Figure size 216x216 with 1 Axes>"
      ]
     },
     "metadata": {
      "needs_background": "light"
     },
     "output_type": "display_data"
    },
    {
     "name": "stdout",
     "output_type": "stream",
     "text": [
      "Today, sun rises at 06:03 and sets at 18:46.\n",
      "Currently, the weather is Clouds (broken clouds).\n",
      "The temperature is 31.52°C and it feels like 38.52°C.\n",
      "The UV index is 10.05, humidity is 76%.\n",
      "The pressure is 1012 hPa, percentage of cloud cover is 59%\n",
      "The wind comes from SE direction with a speed 2.53 m/s.\n"
     ]
    }
   ],
   "source": [
    "current = data['current']\r\n",
    "\r\n",
    "fig, ax = plt.subplots(figsize=(3, 3))\r\n",
    "icon = requests.get(f\"http://openweathermap.org/img/wn/{current['weather'][0]['icon']}@2x.png\")\r\n",
    "im = Image.open(BytesIO(icon.content))\r\n",
    "plt.imshow(im)\r\n",
    "ax.set_axis_off()\r\n",
    "plt.show()\r\n",
    "\r\n",
    "print(f\"Today, sun rises at {ts2dt(current['sunrise'], '%H:%M')[0]} \\\r\n",
    "and sets at {ts2dt(current['sunset'], '%H:%M')[0]}.\\n\\\r\n",
    "Currently, the weather is {current['weather'][0]['main']} ({current['weather'][0]['description']}).\\n\\\r\n",
    "The temperature is {current['temp']}°C and it feels like {current['feels_like']}°C.\\n\\\r\n",
    "The UV index is {current['uvi']}, humidity is {current['humidity']}%.\\n\\\r\n",
    "The pressure is {current['pressure']} hPa, percentage of cloud cover is {current['clouds']}%\\n\\\r\n",
    "The wind comes from {degrees_to_cardinal(current['wind_deg'])} direction with a speed {current['wind_speed']} m/s.\")"
   ]
  },
  {
   "cell_type": "code",
   "execution_count": 8,
   "metadata": {
    "execution": {
     "iopub.execute_input": "2021-08-26T02:44:26.276214Z",
     "iopub.status.busy": "2021-08-26T02:44:26.275134Z",
     "iopub.status.idle": "2021-08-26T02:44:26.283279Z",
     "shell.execute_reply": "2021-08-26T02:44:26.284027Z"
    }
   },
   "outputs": [],
   "source": [
    "df_hourly = pd.DataFrame(data['hourly'])\r\n",
    "df_daily = pd.DataFrame(data['daily'])"
   ]
  },
  {
   "cell_type": "code",
   "execution_count": 9,
   "metadata": {
    "execution": {
     "iopub.execute_input": "2021-08-26T02:44:26.288021Z",
     "iopub.status.busy": "2021-08-26T02:44:26.286870Z",
     "iopub.status.idle": "2021-08-26T02:44:26.621220Z",
     "shell.execute_reply": "2021-08-26T02:44:26.619619Z"
    }
   },
   "outputs": [
    {
     "data": {
      "image/png": "[encoded data removed]",
      "text/plain": [
       "<Figure size 864x432 with 1 Axes>"
      ]
     },
     "metadata": {
      "needs_background": "light"
     },
     "output_type": "display_data"
    }
   ],
   "source": [
    "fig, ax = plt.subplots(figsize=(12, 6))\r\n",
    "plt.plot(df_hourly.temp, '.-', label='Temperature')\r\n",
    "plt.plot(df_hourly.feels_like, '.-', label='Feels Like')\r\n",
    "ax.set(title='Temperature in future 48 hours', xlabel='Time', ylabel='Temperature')\r\n",
    "ax.set_xticks(list(range(0, len(df_hourly), 2)))\r\n",
    "ax.set_xticklabels([ts2dt(ts, '%m-%d %H:%M')[0] for i, ts in enumerate(df_hourly.dt) if i%2==0], \r\n",
    "                   rotation=45, ha=\"right\")\r\n",
    "ax.locator_params(nbins=15, axis='y')\r\n",
    "plt.legend()\r\n",
    "plt.show()"
   ]
  },
  {
   "cell_type": "code",
   "execution_count": 10,
   "metadata": {
    "execution": {
     "iopub.execute_input": "2021-08-26T02:44:26.634857Z",
     "iopub.status.busy": "2021-08-26T02:44:26.629111Z",
     "iopub.status.idle": "2021-08-26T02:44:26.647865Z",
     "shell.execute_reply": "2021-08-26T02:44:26.647354Z"
    }
   },
   "outputs": [
    {
     "data": {
      "text/html": [
       "<div>\n",
       "<style scoped>\n",
       "    .dataframe tbody tr th:only-of-type {\n",
       "        vertical-align: middle;\n",
       "    }\n",
       "\n",
       "    .dataframe tbody tr th {\n",
       "        vertical-align: top;\n",
       "    }\n",
       "\n",
       "    .dataframe thead th {\n",
       "        text-align: right;\n",
       "    }\n",
       "</style>\n",
       "<table border=\"1\" class=\"dataframe\">\n",
       "  <thead>\n",
       "    <tr style=\"text-align: right;\">\n",
       "      <th></th>\n",
       "      <th>dt</th>\n",
       "      <th>temp</th>\n",
       "      <th>feels_like</th>\n",
       "      <th>pressure</th>\n",
       "      <th>humidity</th>\n",
       "      <th>dew_point</th>\n",
       "      <th>uvi</th>\n",
       "      <th>clouds</th>\n",
       "      <th>visibility</th>\n",
       "      <th>wind_speed</th>\n",
       "      <th>wind_deg</th>\n",
       "      <th>wind_gust</th>\n",
       "      <th>weather</th>\n",
       "      <th>pop</th>\n",
       "      <th>rain</th>\n",
       "    </tr>\n",
       "  </thead>\n",
       "  <tbody>\n",
       "    <tr>\n",
       "      <th>0</th>\n",
       "      <td>1629943200</td>\n",
       "      <td>31.12</td>\n",
       "      <td>38.12</td>\n",
       "      <td>1012</td>\n",
       "      <td>75</td>\n",
       "      <td>26.16</td>\n",
       "      <td>7.18</td>\n",
       "      <td>60</td>\n",
       "      <td>10000</td>\n",
       "      <td>2.45</td>\n",
       "      <td>135</td>\n",
       "      <td>2.81</td>\n",
       "      <td>[{'id': 500, 'main': 'Rain', 'description': 'l...</td>\n",
       "      <td>0.73</td>\n",
       "      <td>{'1h': 0.12}</td>\n",
       "    </tr>\n",
       "    <tr>\n",
       "      <th>1</th>\n",
       "      <td>1629946800</td>\n",
       "      <td>31.52</td>\n",
       "      <td>38.52</td>\n",
       "      <td>1012</td>\n",
       "      <td>76</td>\n",
       "      <td>26.77</td>\n",
       "      <td>10.05</td>\n",
       "      <td>59</td>\n",
       "      <td>10000</td>\n",
       "      <td>2.53</td>\n",
       "      <td>129</td>\n",
       "      <td>2.76</td>\n",
       "      <td>[{'id': 500, 'main': 'Rain', 'description': 'l...</td>\n",
       "      <td>0.80</td>\n",
       "      <td>{'1h': 0.13}</td>\n",
       "    </tr>\n",
       "    <tr>\n",
       "      <th>2</th>\n",
       "      <td>1629950400</td>\n",
       "      <td>31.18</td>\n",
       "      <td>38.18</td>\n",
       "      <td>1012</td>\n",
       "      <td>74</td>\n",
       "      <td>25.99</td>\n",
       "      <td>11.20</td>\n",
       "      <td>61</td>\n",
       "      <td>10000</td>\n",
       "      <td>3.27</td>\n",
       "      <td>128</td>\n",
       "      <td>3.25</td>\n",
       "      <td>[{'id': 803, 'main': 'Clouds', 'description': ...</td>\n",
       "      <td>0.86</td>\n",
       "      <td>NaN</td>\n",
       "    </tr>\n",
       "    <tr>\n",
       "      <th>3</th>\n",
       "      <td>1629954000</td>\n",
       "      <td>30.91</td>\n",
       "      <td>37.91</td>\n",
       "      <td>1012</td>\n",
       "      <td>73</td>\n",
       "      <td>25.50</td>\n",
       "      <td>11.03</td>\n",
       "      <td>64</td>\n",
       "      <td>10000</td>\n",
       "      <td>3.88</td>\n",
       "      <td>125</td>\n",
       "      <td>3.67</td>\n",
       "      <td>[{'id': 803, 'main': 'Clouds', 'description': ...</td>\n",
       "      <td>0.88</td>\n",
       "      <td>NaN</td>\n",
       "    </tr>\n",
       "    <tr>\n",
       "      <th>4</th>\n",
       "      <td>1629957600</td>\n",
       "      <td>30.60</td>\n",
       "      <td>36.82</td>\n",
       "      <td>1011</td>\n",
       "      <td>71</td>\n",
       "      <td>24.74</td>\n",
       "      <td>9.16</td>\n",
       "      <td>70</td>\n",
       "      <td>10000</td>\n",
       "      <td>3.74</td>\n",
       "      <td>124</td>\n",
       "      <td>3.52</td>\n",
       "      <td>[{'id': 803, 'main': 'Clouds', 'description': ...</td>\n",
       "      <td>0.88</td>\n",
       "      <td>NaN</td>\n",
       "    </tr>\n",
       "  </tbody>\n",
       "</table>\n",
       "</div>"
      ],
      "text/plain": [
       "           dt   temp  feels_like  pressure  humidity  dew_point    uvi  \\\n",
       "0  1629943200  31.12       38.12      1012        75      26.16   7.18   \n",
       "1  1629946800  31.52       38.52      1012        76      26.77  10.05   \n",
       "2  1629950400  31.18       38.18      1012        74      25.99  11.20   \n",
       "3  1629954000  30.91       37.91      1012        73      25.50  11.03   \n",
       "4  1629957600  30.60       36.82      1011        71      24.74   9.16   \n",
       "\n",
       "   clouds  visibility  wind_speed  wind_deg  wind_gust  \\\n",
       "0      60       10000        2.45       135       2.81   \n",
       "1      59       10000        2.53       129       2.76   \n",
       "2      61       10000        3.27       128       3.25   \n",
       "3      64       10000        3.88       125       3.67   \n",
       "4      70       10000        3.74       124       3.52   \n",
       "\n",
       "                                             weather   pop          rain  \n",
       "0  [{'id': 500, 'main': 'Rain', 'description': 'l...  0.73  {'1h': 0.12}  \n",
       "1  [{'id': 500, 'main': 'Rain', 'description': 'l...  0.80  {'1h': 0.13}  \n",
       "2  [{'id': 803, 'main': 'Clouds', 'description': ...  0.86           NaN  \n",
       "3  [{'id': 803, 'main': 'Clouds', 'description': ...  0.88           NaN  \n",
       "4  [{'id': 803, 'main': 'Clouds', 'description': ...  0.88           NaN  "
      ]
     },
     "execution_count": 10,
     "metadata": {},
     "output_type": "execute_result"
    }
   ],
   "source": [
    "df_hourly.head()"
   ]
  },
  {
   "cell_type": "code",
   "execution_count": null,
   "metadata": {},
   "outputs": [],
   "source": []
  }
 ],
 "metadata": {
  "interpreter": {
   "hash": "c1b4cfe941b6d2466ad1fb5979e97da9cda8801728c8091b097ab734208fc00c"
  },
  "kernelspec": {
   "display_name": "Python 3.8.3 64-bit ('base': conda)",
   "name": "python3"
  },
  "language_info": {
   "codemirror_mode": {
    "name": "ipython",
    "version": 3
   },
   "file_extension": ".py",
   "mimetype": "text/x-python",
   "name": "python",
   "nbconvert_exporter": "python",
   "pygments_lexer": "ipython3",
   "version": "3.8.11"
  }
 },
 "nbformat": 4,
 "nbformat_minor": 2
}
