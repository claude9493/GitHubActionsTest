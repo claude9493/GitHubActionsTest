{
 "cells": [
  {
   "cell_type": "code",
   "execution_count": 1,
   "metadata": {
    "execution": {
     "iopub.execute_input": "2021-09-07T17:01:45.320999Z",
     "iopub.status.busy": "2021-09-07T17:01:45.320379Z",
     "iopub.status.idle": "2021-09-07T17:01:48.569686Z",
     "shell.execute_reply": "2021-09-07T17:01:48.570126Z"
    }
   },
   "outputs": [],
   "source": [
    "import json, yaml, requests\r\n",
    "from datetime import datetime\r\n",
    "from dateutil import tz\r\n",
    "import pandas as pd\r\n",
    "from PIL import Image\r\n",
    "from io import BytesIO\r\n",
    "import matplotlib.pyplot as plt\r\n",
    "import seaborn\r\n",
    "\r\n",
    "CONFIG_PATH = \"../config/config.yaml\""
   ]
  },
  {
   "cell_type": "code",
   "execution_count": 2,
   "metadata": {
    "execution": {
     "iopub.execute_input": "2021-09-07T17:01:48.575666Z",
     "iopub.status.busy": "2021-09-07T17:01:48.575125Z",
     "iopub.status.idle": "2021-09-07T17:01:48.580909Z",
     "shell.execute_reply": "2021-09-07T17:01:48.581428Z"
    }
   },
   "outputs": [],
   "source": [
    "with open('../newest_ts', 'r') as f:\r\n",
    "    newest_ts = f.read()\r\n",
    "\r\n",
    "data_path = f\"../data/data_{newest_ts}.json\"\r\n",
    "with open(data_path, 'r') as f:\r\n",
    "    data = json.load(f)\r\n",
    "\r\n",
    "with open(CONFIG_PATH, \"r\") as stream:\r\n",
    "    config = yaml.safe_load(stream)\r\n",
    "\r\n",
    "TIME_ZONE = config['time_zone']\r\n",
    "DATETIME_FORMAT = config['dt_format']"
   ]
  },
  {
   "cell_type": "code",
   "execution_count": 3,
   "metadata": {
    "execution": {
     "iopub.execute_input": "2021-09-07T17:01:48.587603Z",
     "iopub.status.busy": "2021-09-07T17:01:48.586962Z",
     "iopub.status.idle": "2021-09-07T17:01:48.603417Z",
     "shell.execute_reply": "2021-09-07T17:01:48.603871Z"
    }
   },
   "outputs": [
    {
     "name": "stdout",
     "output_type": "stream",
     "text": [
      "Recent query happens at 2021-09-08 01:01:41 (CST).\n"
     ]
    }
   ],
   "source": [
    "def ts2dt(ts, format=DATETIME_FORMAT):\r\n",
    "    dt = (datetime.utcfromtimestamp(int(ts))\r\n",
    "                    .replace(tzinfo=tz.tzutc())\r\n",
    "                    # .astimezone(tz.tzlocal())\r\n",
    "                    .astimezone(tz.gettz(TIME_ZONE)))\r\n",
    "    return dt.strftime(format), dt\r\n",
    "\r\n",
    "_, newest_dt = ts2dt(newest_ts)\r\n",
    "print(f\"Recent query happens at {newest_dt.strftime(DATETIME_FORMAT)} ({newest_dt.tzname()}).\")"
   ]
  },
  {
   "cell_type": "code",
   "execution_count": 4,
   "metadata": {
    "execution": {
     "iopub.execute_input": "2021-09-07T17:01:48.609491Z",
     "iopub.status.busy": "2021-09-07T17:01:48.608092Z",
     "iopub.status.idle": "2021-09-07T17:01:48.610115Z",
     "shell.execute_reply": "2021-09-07T17:01:48.610596Z"
    }
   },
   "outputs": [],
   "source": [
    "def degrees_to_cardinal(d):\r\n",
    "  dirs = ['N', 'NNE', 'NE', 'ENE', 'E', 'ESE', 'SE', 'SSE', 'S', 'SSW', 'SW', 'WSW', 'W', 'WNW', 'NW', 'NNW']\r\n",
    "  ix = int(round(d / (360. / len(dirs))))\r\n",
    "  return dirs[ix % len(dirs)]"
   ]
  },
  {
   "cell_type": "code",
   "execution_count": 5,
   "metadata": {
    "execution": {
     "iopub.execute_input": "2021-09-07T17:01:48.615015Z",
     "iopub.status.busy": "2021-09-07T17:01:48.613703Z",
     "iopub.status.idle": "2021-09-07T17:01:48.615672Z",
     "shell.execute_reply": "2021-09-07T17:01:48.616112Z"
    }
   },
   "outputs": [],
   "source": [
    "# data.keys()"
   ]
  },
  {
   "cell_type": "code",
   "execution_count": 6,
   "metadata": {
    "execution": {
     "iopub.execute_input": "2021-09-07T17:01:48.620758Z",
     "iopub.status.busy": "2021-09-07T17:01:48.619360Z",
     "iopub.status.idle": "2021-09-07T17:01:48.621445Z",
     "shell.execute_reply": "2021-09-07T17:01:48.621918Z"
    }
   },
   "outputs": [],
   "source": [
    "# data['current']"
   ]
  },
  {
   "cell_type": "code",
   "execution_count": 7,
   "metadata": {
    "execution": {
     "iopub.execute_input": "2021-09-07T17:01:48.650084Z",
     "iopub.status.busy": "2021-09-07T17:01:48.648964Z",
     "iopub.status.idle": "2021-09-07T17:01:49.121814Z",
     "shell.execute_reply": "2021-09-07T17:01:49.122715Z"
    }
   },
   "outputs": [
    {
     "data": {
      "image/png": "[encoded data removed]",
      "text/plain": [
       "<Figure size 216x216 with 1 Axes>"
      ]
     },
     "metadata": {
      "needs_background": "light"
     },
     "output_type": "display_data"
    },
    {
     "name": "stdout",
     "output_type": "stream",
     "text": [
      "Today, sun rises at 06:07 and sets at 18:33.\n",
      "Currently, the weather is Clouds (scattered clouds).\n",
      "The temperature is 29.71°C and it feels like 36.71°C.\n",
      "The UV index is 0, humidity is 84%.\n",
      "The pressure is 1010 hPa, percentage of cloud cover is 33%\n",
      "The wind comes from ESE direction with a speed 2.66 m/s.\n"
     ]
    }
   ],
   "source": [
    "current = data['current']\r\n",
    "\r\n",
    "fig, ax = plt.subplots(figsize=(3, 3))\r\n",
    "icon = requests.get(f\"http://openweathermap.org/img/wn/{current['weather'][0]['icon']}@2x.png\")\r\n",
    "im = Image.open(BytesIO(icon.content))\r\n",
    "plt.imshow(im)\r\n",
    "ax.set_axis_off()\r\n",
    "plt.show()\r\n",
    "\r\n",
    "print(f\"Today, sun rises at {ts2dt(current['sunrise'], '%H:%M')[0]} \\\r\n",
    "and sets at {ts2dt(current['sunset'], '%H:%M')[0]}.\\n\\\r\n",
    "Currently, the weather is {current['weather'][0]['main']} ({current['weather'][0]['description']}).\\n\\\r\n",
    "The temperature is {current['temp']}°C and it feels like {current['feels_like']}°C.\\n\\\r\n",
    "The UV index is {current['uvi']}, humidity is {current['humidity']}%.\\n\\\r\n",
    "The pressure is {current['pressure']} hPa, percentage of cloud cover is {current['clouds']}%\\n\\\r\n",
    "The wind comes from {degrees_to_cardinal(current['wind_deg'])} direction with a speed {current['wind_speed']} m/s.\")"
   ]
  },
  {
   "cell_type": "code",
   "execution_count": 8,
   "metadata": {
    "execution": {
     "iopub.execute_input": "2021-09-07T17:01:49.126222Z",
     "iopub.status.busy": "2021-09-07T17:01:49.125202Z",
     "iopub.status.idle": "2021-09-07T17:01:49.132847Z",
     "shell.execute_reply": "2021-09-07T17:01:49.133613Z"
    }
   },
   "outputs": [],
   "source": [
    "df_hourly = pd.DataFrame(data['hourly'])\r\n",
    "df_daily = pd.DataFrame(data['daily'])"
   ]
  },
  {
   "cell_type": "code",
   "execution_count": 9,
   "metadata": {
    "execution": {
     "iopub.execute_input": "2021-09-07T17:01:49.136912Z",
     "iopub.status.busy": "2021-09-07T17:01:49.135865Z",
     "iopub.status.idle": "2021-09-07T17:01:49.487159Z",
     "shell.execute_reply": "2021-09-07T17:01:49.487637Z"
    }
   },
   "outputs": [
    {
     "data": {
      "image/png": "[encoded data removed]",
      "text/plain": [
       "<Figure size 864x432 with 1 Axes>"
      ]
     },
     "metadata": {
      "needs_background": "light"
     },
     "output_type": "display_data"
    }
   ],
   "source": [
    "fig, ax = plt.subplots(figsize=(12, 6))\r\n",
    "plt.plot(df_hourly.temp, '.-', label='Temperature')\r\n",
    "plt.plot(df_hourly.feels_like, '.-', label='Feels Like')\r\n",
    "ax.set(title='Temperature in future 48 hours', xlabel='Time', ylabel='Temperature')\r\n",
    "ax.set_xticks(list(range(0, len(df_hourly), 2)))\r\n",
    "ax.set_xticklabels([ts2dt(ts, '%m-%d %H:%M')[0] for i, ts in enumerate(df_hourly.dt) if i%2==0], \r\n",
    "                   rotation=45, ha=\"right\")\r\n",
    "ax.locator_params(nbins=15, axis='y')\r\n",
    "plt.legend()\r\n",
    "plt.show()"
   ]
  },
  {
   "cell_type": "code",
   "execution_count": 10,
   "metadata": {
    "execution": {
     "iopub.execute_input": "2021-09-07T17:01:49.498175Z",
     "iopub.status.busy": "2021-09-07T17:01:49.492195Z",
     "iopub.status.idle": "2021-09-07T17:01:49.515726Z",
     "shell.execute_reply": "2021-09-07T17:01:49.515129Z"
    }
   },
   "outputs": [
    {
     "data": {
      "text/html": [
       "<div>\n",
       "<style scoped>\n",
       "    .dataframe tbody tr th:only-of-type {\n",
       "        vertical-align: middle;\n",
       "    }\n",
       "\n",
       "    .dataframe tbody tr th {\n",
       "        vertical-align: top;\n",
       "    }\n",
       "\n",
       "    .dataframe thead th {\n",
       "        text-align: right;\n",
       "    }\n",
       "</style>\n",
       "<table border=\"1\" class=\"dataframe\">\n",
       "  <thead>\n",
       "    <tr style=\"text-align: right;\">\n",
       "      <th></th>\n",
       "      <th>dt</th>\n",
       "      <th>temp</th>\n",
       "      <th>feels_like</th>\n",
       "      <th>pressure</th>\n",
       "      <th>humidity</th>\n",
       "      <th>dew_point</th>\n",
       "      <th>uvi</th>\n",
       "      <th>clouds</th>\n",
       "      <th>visibility</th>\n",
       "      <th>wind_speed</th>\n",
       "      <th>wind_deg</th>\n",
       "      <th>wind_gust</th>\n",
       "      <th>weather</th>\n",
       "      <th>pop</th>\n",
       "      <th>rain</th>\n",
       "    </tr>\n",
       "  </thead>\n",
       "  <tbody>\n",
       "    <tr>\n",
       "      <th>0</th>\n",
       "      <td>1631034000</td>\n",
       "      <td>29.71</td>\n",
       "      <td>36.71</td>\n",
       "      <td>1010</td>\n",
       "      <td>84</td>\n",
       "      <td>26.71</td>\n",
       "      <td>0.0</td>\n",
       "      <td>33</td>\n",
       "      <td>10000</td>\n",
       "      <td>2.66</td>\n",
       "      <td>106</td>\n",
       "      <td>3.49</td>\n",
       "      <td>[{'id': 802, 'main': 'Clouds', 'description': ...</td>\n",
       "      <td>0.76</td>\n",
       "      <td>NaN</td>\n",
       "    </tr>\n",
       "    <tr>\n",
       "      <th>1</th>\n",
       "      <td>1631037600</td>\n",
       "      <td>29.23</td>\n",
       "      <td>36.23</td>\n",
       "      <td>1010</td>\n",
       "      <td>85</td>\n",
       "      <td>26.44</td>\n",
       "      <td>0.0</td>\n",
       "      <td>34</td>\n",
       "      <td>10000</td>\n",
       "      <td>2.27</td>\n",
       "      <td>104</td>\n",
       "      <td>2.93</td>\n",
       "      <td>[{'id': 802, 'main': 'Clouds', 'description': ...</td>\n",
       "      <td>0.76</td>\n",
       "      <td>NaN</td>\n",
       "    </tr>\n",
       "    <tr>\n",
       "      <th>2</th>\n",
       "      <td>1631041200</td>\n",
       "      <td>28.67</td>\n",
       "      <td>34.85</td>\n",
       "      <td>1010</td>\n",
       "      <td>85</td>\n",
       "      <td>25.90</td>\n",
       "      <td>0.0</td>\n",
       "      <td>37</td>\n",
       "      <td>10000</td>\n",
       "      <td>1.94</td>\n",
       "      <td>88</td>\n",
       "      <td>2.48</td>\n",
       "      <td>[{'id': 802, 'main': 'Clouds', 'description': ...</td>\n",
       "      <td>0.41</td>\n",
       "      <td>NaN</td>\n",
       "    </tr>\n",
       "    <tr>\n",
       "      <th>3</th>\n",
       "      <td>1631044800</td>\n",
       "      <td>28.11</td>\n",
       "      <td>33.21</td>\n",
       "      <td>1009</td>\n",
       "      <td>85</td>\n",
       "      <td>25.35</td>\n",
       "      <td>0.0</td>\n",
       "      <td>30</td>\n",
       "      <td>10000</td>\n",
       "      <td>1.57</td>\n",
       "      <td>66</td>\n",
       "      <td>1.91</td>\n",
       "      <td>[{'id': 802, 'main': 'Clouds', 'description': ...</td>\n",
       "      <td>0.45</td>\n",
       "      <td>NaN</td>\n",
       "    </tr>\n",
       "    <tr>\n",
       "      <th>4</th>\n",
       "      <td>1631048400</td>\n",
       "      <td>27.46</td>\n",
       "      <td>31.42</td>\n",
       "      <td>1009</td>\n",
       "      <td>85</td>\n",
       "      <td>24.71</td>\n",
       "      <td>0.0</td>\n",
       "      <td>34</td>\n",
       "      <td>10000</td>\n",
       "      <td>1.65</td>\n",
       "      <td>62</td>\n",
       "      <td>1.86</td>\n",
       "      <td>[{'id': 802, 'main': 'Clouds', 'description': ...</td>\n",
       "      <td>0.51</td>\n",
       "      <td>NaN</td>\n",
       "    </tr>\n",
       "  </tbody>\n",
       "</table>\n",
       "</div>"
      ],
      "text/plain": [
       "           dt   temp  feels_like  pressure  humidity  dew_point  uvi  clouds  \\\n",
       "0  1631034000  29.71       36.71      1010        84      26.71  0.0      33   \n",
       "1  1631037600  29.23       36.23      1010        85      26.44  0.0      34   \n",
       "2  1631041200  28.67       34.85      1010        85      25.90  0.0      37   \n",
       "3  1631044800  28.11       33.21      1009        85      25.35  0.0      30   \n",
       "4  1631048400  27.46       31.42      1009        85      24.71  0.0      34   \n",
       "\n",
       "   visibility  wind_speed  wind_deg  wind_gust  \\\n",
       "0       10000        2.66       106       3.49   \n",
       "1       10000        2.27       104       2.93   \n",
       "2       10000        1.94        88       2.48   \n",
       "3       10000        1.57        66       1.91   \n",
       "4       10000        1.65        62       1.86   \n",
       "\n",
       "                                             weather   pop rain  \n",
       "0  [{'id': 802, 'main': 'Clouds', 'description': ...  0.76  NaN  \n",
       "1  [{'id': 802, 'main': 'Clouds', 'description': ...  0.76  NaN  \n",
       "2  [{'id': 802, 'main': 'Clouds', 'description': ...  0.41  NaN  \n",
       "3  [{'id': 802, 'main': 'Clouds', 'description': ...  0.45  NaN  \n",
       "4  [{'id': 802, 'main': 'Clouds', 'description': ...  0.51  NaN  "
      ]
     },
     "execution_count": 10,
     "metadata": {},
     "output_type": "execute_result"
    }
   ],
   "source": [
    "df_hourly.head()"
   ]
  },
  {
   "cell_type": "code",
   "execution_count": null,
   "metadata": {},
   "outputs": [],
   "source": []
  }
 ],
 "metadata": {
  "interpreter": {
   "hash": "c1b4cfe941b6d2466ad1fb5979e97da9cda8801728c8091b097ab734208fc00c"
  },
  "kernelspec": {
   "display_name": "Python 3.8.3 64-bit ('base': conda)",
   "name": "python3"
  },
  "language_info": {
   "codemirror_mode": {
    "name": "ipython",
    "version": 3
   },
   "file_extension": ".py",
   "mimetype": "text/x-python",
   "name": "python",
   "nbconvert_exporter": "python",
   "pygments_lexer": "ipython3",
   "version": "3.8.11"
  }
 },
 "nbformat": 4,
 "nbformat_minor": 2
}
