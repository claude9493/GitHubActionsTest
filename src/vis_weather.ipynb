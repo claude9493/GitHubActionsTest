{
 "cells": [
  {
   "cell_type": "code",
   "execution_count": 1,
   "metadata": {
    "execution": {
     "iopub.execute_input": "2021-10-11T21:10:03.004644Z",
     "iopub.status.busy": "2021-10-11T21:10:03.004119Z",
     "iopub.status.idle": "2021-10-11T21:10:04.148150Z",
     "shell.execute_reply": "2021-10-11T21:10:04.147533Z"
    }
   },
   "outputs": [],
   "source": [
    "import json, yaml, requests\r\n",
    "from datetime import datetime\r\n",
    "from dateutil import tz\r\n",
    "import pandas as pd\r\n",
    "from PIL import Image\r\n",
    "from io import BytesIO\r\n",
    "import matplotlib.pyplot as plt\r\n",
    "import seaborn\r\n",
    "\r\n",
    "CONFIG_PATH = \"../config/config.yaml\""
   ]
  },
  {
   "cell_type": "code",
   "execution_count": 2,
   "metadata": {
    "execution": {
     "iopub.execute_input": "2021-10-11T21:10:04.152829Z",
     "iopub.status.busy": "2021-10-11T21:10:04.150362Z",
     "iopub.status.idle": "2021-10-11T21:10:04.157883Z",
     "shell.execute_reply": "2021-10-11T21:10:04.157500Z"
    }
   },
   "outputs": [],
   "source": [
    "with open('../newest_ts', 'r') as f:\r\n",
    "    newest_ts = f.read()\r\n",
    "\r\n",
    "data_path = f\"../data/data_{newest_ts}.json\"\r\n",
    "with open(data_path, 'r') as f:\r\n",
    "    data = json.load(f)\r\n",
    "\r\n",
    "with open(CONFIG_PATH, \"r\") as stream:\r\n",
    "    config = yaml.safe_load(stream)\r\n",
    "\r\n",
    "TIME_ZONE = config['time_zone']\r\n",
    "DATETIME_FORMAT = config['dt_format']"
   ]
  },
  {
   "cell_type": "code",
   "execution_count": 3,
   "metadata": {
    "execution": {
     "iopub.execute_input": "2021-10-11T21:10:04.162173Z",
     "iopub.status.busy": "2021-10-11T21:10:04.161721Z",
     "iopub.status.idle": "2021-10-11T21:10:04.166927Z",
     "shell.execute_reply": "2021-10-11T21:10:04.167327Z"
    }
   },
   "outputs": [
    {
     "name": "stdout",
     "output_type": "stream",
     "text": [
      "Recent query happens at 2021-10-12 05:10:00 (CST).\n"
     ]
    }
   ],
   "source": [
    "def ts2dt(ts, format=DATETIME_FORMAT):\r\n",
    "    dt = (datetime.utcfromtimestamp(int(ts))\r\n",
    "                    .replace(tzinfo=tz.tzutc())\r\n",
    "                    # .astimezone(tz.tzlocal())\r\n",
    "                    .astimezone(tz.gettz(TIME_ZONE)))\r\n",
    "    return dt.strftime(format), dt\r\n",
    "\r\n",
    "_, newest_dt = ts2dt(newest_ts)\r\n",
    "print(f\"Recent query happens at {newest_dt.strftime(DATETIME_FORMAT)} ({newest_dt.tzname()}).\")"
   ]
  },
  {
   "cell_type": "code",
   "execution_count": 4,
   "metadata": {
    "execution": {
     "iopub.execute_input": "2021-10-11T21:10:04.172270Z",
     "iopub.status.busy": "2021-10-11T21:10:04.171222Z",
     "iopub.status.idle": "2021-10-11T21:10:04.172775Z",
     "shell.execute_reply": "2021-10-11T21:10:04.173133Z"
    }
   },
   "outputs": [],
   "source": [
    "def degrees_to_cardinal(d):\r\n",
    "  dirs = ['N', 'NNE', 'NE', 'ENE', 'E', 'ESE', 'SE', 'SSE', 'S', 'SSW', 'SW', 'WSW', 'W', 'WNW', 'NW', 'NNW']\r\n",
    "  ix = int(round(d / (360. / len(dirs))))\r\n",
    "  return dirs[ix % len(dirs)]"
   ]
  },
  {
   "cell_type": "code",
   "execution_count": 5,
   "metadata": {
    "execution": {
     "iopub.execute_input": "2021-10-11T21:10:04.177146Z",
     "iopub.status.busy": "2021-10-11T21:10:04.176120Z",
     "iopub.status.idle": "2021-10-11T21:10:04.177653Z",
     "shell.execute_reply": "2021-10-11T21:10:04.178008Z"
    }
   },
   "outputs": [],
   "source": [
    "# data.keys()"
   ]
  },
  {
   "cell_type": "code",
   "execution_count": 6,
   "metadata": {
    "execution": {
     "iopub.execute_input": "2021-10-11T21:10:04.181653Z",
     "iopub.status.busy": "2021-10-11T21:10:04.180557Z",
     "iopub.status.idle": "2021-10-11T21:10:04.182172Z",
     "shell.execute_reply": "2021-10-11T21:10:04.182528Z"
    }
   },
   "outputs": [],
   "source": [
    "# data['current']"
   ]
  },
  {
   "cell_type": "code",
   "execution_count": 7,
   "metadata": {
    "execution": {
     "iopub.execute_input": "2021-10-11T21:10:04.199324Z",
     "iopub.status.busy": "2021-10-11T21:10:04.198815Z",
     "iopub.status.idle": "2021-10-11T21:10:04.461155Z",
     "shell.execute_reply": "2021-10-11T21:10:04.461528Z"
    }
   },
   "outputs": [
    {
     "data": {
      "image/png": "[encoded data removed]",
      "text/plain": [
       "<Figure size 216x216 with 1 Axes>"
      ]
     },
     "metadata": {
      "needs_background": "light"
     },
     "output_type": "display_data"
    },
    {
     "name": "stdout",
     "output_type": "stream",
     "text": [
      "Today, sun rises at 06:17 and sets at 18:00.\n",
      "Currently, the weather is Clouds (overcast clouds).\n",
      "The temperature is 24.05°C and it feels like 24.36°C.\n",
      "The UV index is 0, humidity is 71%.\n",
      "The pressure is 1004 hPa, percentage of cloud cover is 100%\n",
      "The wind comes from SSE direction with a speed 1.34 m/s.\n"
     ]
    }
   ],
   "source": [
    "current = data['current']\r\n",
    "\r\n",
    "fig, ax = plt.subplots(figsize=(3, 3))\r\n",
    "icon = requests.get(f\"http://openweathermap.org/img/wn/{current['weather'][0]['icon']}@2x.png\")\r\n",
    "im = Image.open(BytesIO(icon.content))\r\n",
    "plt.imshow(im)\r\n",
    "ax.set_axis_off()\r\n",
    "plt.show()\r\n",
    "\r\n",
    "print(f\"Today, sun rises at {ts2dt(current['sunrise'], '%H:%M')[0]} \\\r\n",
    "and sets at {ts2dt(current['sunset'], '%H:%M')[0]}.\\n\\\r\n",
    "Currently, the weather is {current['weather'][0]['main']} ({current['weather'][0]['description']}).\\n\\\r\n",
    "The temperature is {current['temp']}°C and it feels like {current['feels_like']}°C.\\n\\\r\n",
    "The UV index is {current['uvi']}, humidity is {current['humidity']}%.\\n\\\r\n",
    "The pressure is {current['pressure']} hPa, percentage of cloud cover is {current['clouds']}%\\n\\\r\n",
    "The wind comes from {degrees_to_cardinal(current['wind_deg'])} direction with a speed {current['wind_speed']} m/s.\")"
   ]
  },
  {
   "cell_type": "code",
   "execution_count": 8,
   "metadata": {
    "execution": {
     "iopub.execute_input": "2021-10-11T21:10:04.466360Z",
     "iopub.status.busy": "2021-10-11T21:10:04.465906Z",
     "iopub.status.idle": "2021-10-11T21:10:04.469381Z",
     "shell.execute_reply": "2021-10-11T21:10:04.469809Z"
    }
   },
   "outputs": [],
   "source": [
    "df_hourly = pd.DataFrame(data['hourly'])\r\n",
    "df_daily = pd.DataFrame(data['daily'])"
   ]
  },
  {
   "cell_type": "code",
   "execution_count": 9,
   "metadata": {
    "execution": {
     "iopub.execute_input": "2021-10-11T21:10:04.472036Z",
     "iopub.status.busy": "2021-10-11T21:10:04.471589Z",
     "iopub.status.idle": "2021-10-11T21:10:04.710819Z",
     "shell.execute_reply": "2021-10-11T21:10:04.711294Z"
    }
   },
   "outputs": [
    {
     "data": {
      "image/png": "[encoded data removed]",
      "text/plain": [
       "<Figure size 864x432 with 1 Axes>"
      ]
     },
     "metadata": {
      "needs_background": "light"
     },
     "output_type": "display_data"
    }
   ],
   "source": [
    "fig, ax = plt.subplots(figsize=(12, 6))\r\n",
    "plt.plot(df_hourly.temp, '.-', label='Temperature')\r\n",
    "plt.plot(df_hourly.feels_like, '.-', label='Feels Like')\r\n",
    "ax.set(title='Temperature in future 48 hours', xlabel='Time', ylabel='Temperature')\r\n",
    "ax.set_xticks(list(range(0, len(df_hourly), 2)))\r\n",
    "ax.set_xticklabels([ts2dt(ts, '%m-%d %H:%M')[0] for i, ts in enumerate(df_hourly.dt) if i%2==0], \r\n",
    "                   rotation=45, ha=\"right\")\r\n",
    "ax.locator_params(nbins=15, axis='y')\r\n",
    "plt.legend()\r\n",
    "plt.show()"
   ]
  },
  {
   "cell_type": "code",
   "execution_count": 10,
   "metadata": {
    "execution": {
     "iopub.execute_input": "2021-10-11T21:10:04.722464Z",
     "iopub.status.busy": "2021-10-11T21:10:04.715598Z",
     "iopub.status.idle": "2021-10-11T21:10:04.731562Z",
     "shell.execute_reply": "2021-10-11T21:10:04.731930Z"
    }
   },
   "outputs": [
    {
     "data": {
      "text/html": [
       "<div>\n",
       "<style scoped>\n",
       "    .dataframe tbody tr th:only-of-type {\n",
       "        vertical-align: middle;\n",
       "    }\n",
       "\n",
       "    .dataframe tbody tr th {\n",
       "        vertical-align: top;\n",
       "    }\n",
       "\n",
       "    .dataframe thead th {\n",
       "        text-align: right;\n",
       "    }\n",
       "</style>\n",
       "<table border=\"1\" class=\"dataframe\">\n",
       "  <thead>\n",
       "    <tr style=\"text-align: right;\">\n",
       "      <th></th>\n",
       "      <th>dt</th>\n",
       "      <th>temp</th>\n",
       "      <th>feels_like</th>\n",
       "      <th>pressure</th>\n",
       "      <th>humidity</th>\n",
       "      <th>dew_point</th>\n",
       "      <th>uvi</th>\n",
       "      <th>clouds</th>\n",
       "      <th>visibility</th>\n",
       "      <th>wind_speed</th>\n",
       "      <th>wind_deg</th>\n",
       "      <th>wind_gust</th>\n",
       "      <th>weather</th>\n",
       "      <th>pop</th>\n",
       "      <th>rain</th>\n",
       "    </tr>\n",
       "  </thead>\n",
       "  <tbody>\n",
       "    <tr>\n",
       "      <th>0</th>\n",
       "      <td>1633986000</td>\n",
       "      <td>24.05</td>\n",
       "      <td>24.36</td>\n",
       "      <td>1004</td>\n",
       "      <td>71</td>\n",
       "      <td>18.47</td>\n",
       "      <td>0.00</td>\n",
       "      <td>100</td>\n",
       "      <td>10000</td>\n",
       "      <td>9.09</td>\n",
       "      <td>354</td>\n",
       "      <td>16.91</td>\n",
       "      <td>[{'id': 804, 'main': 'Clouds', 'description': ...</td>\n",
       "      <td>0.0</td>\n",
       "      <td>NaN</td>\n",
       "    </tr>\n",
       "    <tr>\n",
       "      <th>1</th>\n",
       "      <td>1633989600</td>\n",
       "      <td>23.78</td>\n",
       "      <td>24.07</td>\n",
       "      <td>1004</td>\n",
       "      <td>71</td>\n",
       "      <td>18.21</td>\n",
       "      <td>0.00</td>\n",
       "      <td>100</td>\n",
       "      <td>10000</td>\n",
       "      <td>10.23</td>\n",
       "      <td>349</td>\n",
       "      <td>18.10</td>\n",
       "      <td>[{'id': 804, 'main': 'Clouds', 'description': ...</td>\n",
       "      <td>0.0</td>\n",
       "      <td>NaN</td>\n",
       "    </tr>\n",
       "    <tr>\n",
       "      <th>2</th>\n",
       "      <td>1633993200</td>\n",
       "      <td>23.47</td>\n",
       "      <td>23.73</td>\n",
       "      <td>1004</td>\n",
       "      <td>71</td>\n",
       "      <td>17.91</td>\n",
       "      <td>0.00</td>\n",
       "      <td>100</td>\n",
       "      <td>10000</td>\n",
       "      <td>10.62</td>\n",
       "      <td>351</td>\n",
       "      <td>18.52</td>\n",
       "      <td>[{'id': 804, 'main': 'Clouds', 'description': ...</td>\n",
       "      <td>0.0</td>\n",
       "      <td>NaN</td>\n",
       "    </tr>\n",
       "    <tr>\n",
       "      <th>3</th>\n",
       "      <td>1633996800</td>\n",
       "      <td>23.50</td>\n",
       "      <td>23.73</td>\n",
       "      <td>1003</td>\n",
       "      <td>70</td>\n",
       "      <td>17.72</td>\n",
       "      <td>0.44</td>\n",
       "      <td>97</td>\n",
       "      <td>10000</td>\n",
       "      <td>11.09</td>\n",
       "      <td>354</td>\n",
       "      <td>19.07</td>\n",
       "      <td>[{'id': 804, 'main': 'Clouds', 'description': ...</td>\n",
       "      <td>0.0</td>\n",
       "      <td>NaN</td>\n",
       "    </tr>\n",
       "    <tr>\n",
       "      <th>4</th>\n",
       "      <td>1634000400</td>\n",
       "      <td>23.87</td>\n",
       "      <td>24.09</td>\n",
       "      <td>1003</td>\n",
       "      <td>68</td>\n",
       "      <td>17.61</td>\n",
       "      <td>2.30</td>\n",
       "      <td>99</td>\n",
       "      <td>10000</td>\n",
       "      <td>11.95</td>\n",
       "      <td>356</td>\n",
       "      <td>19.14</td>\n",
       "      <td>[{'id': 804, 'main': 'Clouds', 'description': ...</td>\n",
       "      <td>0.0</td>\n",
       "      <td>NaN</td>\n",
       "    </tr>\n",
       "  </tbody>\n",
       "</table>\n",
       "</div>"
      ],
      "text/plain": [
       "           dt   temp  feels_like  pressure  humidity  dew_point   uvi  clouds  \\\n",
       "0  1633986000  24.05       24.36      1004        71      18.47  0.00     100   \n",
       "1  1633989600  23.78       24.07      1004        71      18.21  0.00     100   \n",
       "2  1633993200  23.47       23.73      1004        71      17.91  0.00     100   \n",
       "3  1633996800  23.50       23.73      1003        70      17.72  0.44      97   \n",
       "4  1634000400  23.87       24.09      1003        68      17.61  2.30      99   \n",
       "\n",
       "   visibility  wind_speed  wind_deg  wind_gust  \\\n",
       "0       10000        9.09       354      16.91   \n",
       "1       10000       10.23       349      18.10   \n",
       "2       10000       10.62       351      18.52   \n",
       "3       10000       11.09       354      19.07   \n",
       "4       10000       11.95       356      19.14   \n",
       "\n",
       "                                             weather  pop rain  \n",
       "0  [{'id': 804, 'main': 'Clouds', 'description': ...  0.0  NaN  \n",
       "1  [{'id': 804, 'main': 'Clouds', 'description': ...  0.0  NaN  \n",
       "2  [{'id': 804, 'main': 'Clouds', 'description': ...  0.0  NaN  \n",
       "3  [{'id': 804, 'main': 'Clouds', 'description': ...  0.0  NaN  \n",
       "4  [{'id': 804, 'main': 'Clouds', 'description': ...  0.0  NaN  "
      ]
     },
     "execution_count": 10,
     "metadata": {},
     "output_type": "execute_result"
    }
   ],
   "source": [
    "df_hourly.head()"
   ]
  },
  {
   "cell_type": "code",
   "execution_count": null,
   "metadata": {},
   "outputs": [],
   "source": []
  }
 ],
 "metadata": {
  "interpreter": {
   "hash": "c1b4cfe941b6d2466ad1fb5979e97da9cda8801728c8091b097ab734208fc00c"
  },
  "kernelspec": {
   "display_name": "Python 3.8.3 64-bit ('base': conda)",
   "name": "python3"
  },
  "language_info": {
   "codemirror_mode": {
    "name": "ipython",
    "version": 3
   },
   "file_extension": ".py",
   "mimetype": "text/x-python",
   "name": "python",
   "nbconvert_exporter": "python",
   "pygments_lexer": "ipython3",
   "version": "3.8.12"
  }
 },
 "nbformat": 4,
 "nbformat_minor": 2
}
