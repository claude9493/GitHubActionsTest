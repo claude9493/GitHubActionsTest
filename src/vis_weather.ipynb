{
 "cells": [
  {
   "cell_type": "code",
   "execution_count": 1,
   "metadata": {
    "execution": {
     "iopub.execute_input": "2021-08-22T17:41:08.487163Z",
     "iopub.status.busy": "2021-08-22T17:41:08.486403Z",
     "iopub.status.idle": "2021-08-22T17:41:09.816474Z",
     "shell.execute_reply": "2021-08-22T17:41:09.815383Z"
    }
   },
   "outputs": [],
   "source": [
    "import json\r\n",
    "from datetime import datetime\r\n",
    "from dateutil import tz\r\n",
    "import pandas as pd\r\n",
    "import matplotlib.pyplot as plt\r\n",
    "import seaborn\r\n"
   ]
  },
  {
   "cell_type": "code",
   "execution_count": 2,
   "metadata": {
    "execution": {
     "iopub.execute_input": "2021-08-22T17:41:09.821913Z",
     "iopub.status.busy": "2021-08-22T17:41:09.820839Z",
     "iopub.status.idle": "2021-08-22T17:41:09.825312Z",
     "shell.execute_reply": "2021-08-22T17:41:09.824877Z"
    }
   },
   "outputs": [],
   "source": [
    "with open('../newest_ts', 'r') as f:\r\n",
    "    ts = f.read()\r\n",
    "\r\n",
    "data_path = f\"../data/data_{ts}.json\"\r\n",
    "with open(data_path, 'r') as f:\r\n",
    "    data = json.load(f)"
   ]
  },
  {
   "cell_type": "code",
   "execution_count": 3,
   "metadata": {
    "execution": {
     "iopub.execute_input": "2021-08-22T17:41:09.830934Z",
     "iopub.status.busy": "2021-08-22T17:41:09.829559Z",
     "iopub.status.idle": "2021-08-22T17:41:09.831499Z",
     "shell.execute_reply": "2021-08-22T17:41:09.831930Z"
    }
   },
   "outputs": [],
   "source": [
    "def ts2dt(ts, format='%Y-%m-%d %H:%M:%S'):\r\n",
    "    return (datetime.utcfromtimestamp(int(ts))\r\n",
    "                    .replace(tzinfo=tz.tzutc())\r\n",
    "                    .astimezone(tz.tzlocal())\r\n",
    "                    .strftime(format))"
   ]
  },
  {
   "cell_type": "code",
   "execution_count": 4,
   "metadata": {
    "execution": {
     "iopub.execute_input": "2021-08-22T17:41:09.837599Z",
     "iopub.status.busy": "2021-08-22T17:41:09.837074Z",
     "iopub.status.idle": "2021-08-22T17:41:09.839949Z",
     "shell.execute_reply": "2021-08-22T17:41:09.840404Z"
    }
   },
   "outputs": [
    {
     "data": {
      "text/plain": [
       "dict_keys(['lat', 'lon', 'timezone', 'timezone_offset', 'current', 'hourly', 'daily'])"
      ]
     },
     "execution_count": 4,
     "metadata": {},
     "output_type": "execute_result"
    }
   ],
   "source": [
    "data.keys()"
   ]
  },
  {
   "cell_type": "code",
   "execution_count": 5,
   "metadata": {
    "execution": {
     "iopub.execute_input": "2021-08-22T17:41:09.845886Z",
     "iopub.status.busy": "2021-08-22T17:41:09.844993Z",
     "iopub.status.idle": "2021-08-22T17:41:09.847593Z",
     "shell.execute_reply": "2021-08-22T17:41:09.848043Z"
    }
   },
   "outputs": [
    {
     "data": {
      "text/plain": [
       "{'dt': 1629654065,\n",
       " 'sunrise': 1629669780,\n",
       " 'sunset': 1629715720,\n",
       " 'temp': 29.37,\n",
       " 'feels_like': 36.28,\n",
       " 'pressure': 1007,\n",
       " 'humidity': 82,\n",
       " 'dew_point': 25.97,\n",
       " 'uvi': 0,\n",
       " 'clouds': 58,\n",
       " 'visibility': 10000,\n",
       " 'wind_speed': 3.74,\n",
       " 'wind_deg': 205,\n",
       " 'wind_gust': 5.23,\n",
       " 'weather': [{'id': 803,\n",
       "   'main': 'Clouds',\n",
       "   'description': 'broken clouds',\n",
       "   'icon': '04n'}]}"
      ]
     },
     "execution_count": 5,
     "metadata": {},
     "output_type": "execute_result"
    }
   ],
   "source": [
    "data['current']"
   ]
  },
  {
   "cell_type": "code",
   "execution_count": 6,
   "metadata": {
    "execution": {
     "iopub.execute_input": "2021-08-22T17:41:09.854737Z",
     "iopub.status.busy": "2021-08-22T17:41:09.854018Z",
     "iopub.status.idle": "2021-08-22T17:41:09.856741Z",
     "shell.execute_reply": "2021-08-22T17:41:09.857171Z"
    }
   },
   "outputs": [
    {
     "data": {
      "text/plain": [
       "['08-22 17:00',\n",
       " '08-22 18:00',\n",
       " '08-22 19:00',\n",
       " '08-22 20:00',\n",
       " '08-22 21:00',\n",
       " '08-22 22:00',\n",
       " '08-22 23:00',\n",
       " '08-23 00:00',\n",
       " '08-23 01:00',\n",
       " '08-23 02:00',\n",
       " '08-23 03:00',\n",
       " '08-23 04:00',\n",
       " '08-23 05:00',\n",
       " '08-23 06:00',\n",
       " '08-23 07:00',\n",
       " '08-23 08:00',\n",
       " '08-23 09:00',\n",
       " '08-23 10:00',\n",
       " '08-23 11:00',\n",
       " '08-23 12:00',\n",
       " '08-23 13:00',\n",
       " '08-23 14:00',\n",
       " '08-23 15:00',\n",
       " '08-23 16:00',\n",
       " '08-23 17:00',\n",
       " '08-23 18:00',\n",
       " '08-23 19:00',\n",
       " '08-23 20:00',\n",
       " '08-23 21:00',\n",
       " '08-23 22:00',\n",
       " '08-23 23:00',\n",
       " '08-24 00:00',\n",
       " '08-24 01:00',\n",
       " '08-24 02:00',\n",
       " '08-24 03:00',\n",
       " '08-24 04:00',\n",
       " '08-24 05:00',\n",
       " '08-24 06:00',\n",
       " '08-24 07:00',\n",
       " '08-24 08:00',\n",
       " '08-24 09:00',\n",
       " '08-24 10:00',\n",
       " '08-24 11:00',\n",
       " '08-24 12:00',\n",
       " '08-24 13:00',\n",
       " '08-24 14:00',\n",
       " '08-24 15:00',\n",
       " '08-24 16:00']"
      ]
     },
     "execution_count": 6,
     "metadata": {},
     "output_type": "execute_result"
    }
   ],
   "source": [
    "[ts2dt(hrdt['dt'], format='%m-%d %H:%M') for hrdt in data['hourly']]"
   ]
  },
  {
   "cell_type": "code",
   "execution_count": 7,
   "metadata": {
    "execution": {
     "iopub.execute_input": "2021-08-22T17:41:09.861371Z",
     "iopub.status.busy": "2021-08-22T17:41:09.860850Z",
     "iopub.status.idle": "2021-08-22T17:41:09.863123Z",
     "shell.execute_reply": "2021-08-22T17:41:09.863530Z"
    }
   },
   "outputs": [
    {
     "data": {
      "text/plain": [
       "{'dt': 1629651600,\n",
       " 'temp': 29.08,\n",
       " 'feels_like': 35.65,\n",
       " 'pressure': 1007,\n",
       " 'humidity': 83,\n",
       " 'dew_point': 25.89,\n",
       " 'uvi': 0,\n",
       " 'clouds': 56,\n",
       " 'visibility': 10000,\n",
       " 'wind_speed': 3.2,\n",
       " 'wind_deg': 207,\n",
       " 'wind_gust': 4.71,\n",
       " 'weather': [{'id': 803,\n",
       "   'main': 'Clouds',\n",
       "   'description': 'broken clouds',\n",
       "   'icon': '04n'}],\n",
       " 'pop': 0.04}"
      ]
     },
     "execution_count": 7,
     "metadata": {},
     "output_type": "execute_result"
    }
   ],
   "source": [
    "data['hourly'][0]"
   ]
  },
  {
   "cell_type": "code",
   "execution_count": 8,
   "metadata": {
    "execution": {
     "iopub.execute_input": "2021-08-22T17:41:09.873038Z",
     "iopub.status.busy": "2021-08-22T17:41:09.871802Z",
     "iopub.status.idle": "2021-08-22T17:41:09.873604Z",
     "shell.execute_reply": "2021-08-22T17:41:09.874038Z"
    }
   },
   "outputs": [],
   "source": [
    "df_hourly = pd.DataFrame(data['hourly'])\r\n",
    "df_daily = pd.DataFrame(data['daily'])"
   ]
  },
  {
   "cell_type": "code",
   "execution_count": 9,
   "metadata": {
    "execution": {
     "iopub.execute_input": "2021-08-22T17:41:09.878470Z",
     "iopub.status.busy": "2021-08-22T17:41:09.877956Z",
     "iopub.status.idle": "2021-08-22T17:41:09.895055Z",
     "shell.execute_reply": "2021-08-22T17:41:09.895464Z"
    }
   },
   "outputs": [
    {
     "data": {
      "text/html": [
       "<div>\n",
       "<style scoped>\n",
       "    .dataframe tbody tr th:only-of-type {\n",
       "        vertical-align: middle;\n",
       "    }\n",
       "\n",
       "    .dataframe tbody tr th {\n",
       "        vertical-align: top;\n",
       "    }\n",
       "\n",
       "    .dataframe thead th {\n",
       "        text-align: right;\n",
       "    }\n",
       "</style>\n",
       "<table border=\"1\" class=\"dataframe\">\n",
       "  <thead>\n",
       "    <tr style=\"text-align: right;\">\n",
       "      <th></th>\n",
       "      <th>dt</th>\n",
       "      <th>temp</th>\n",
       "      <th>feels_like</th>\n",
       "      <th>pressure</th>\n",
       "      <th>humidity</th>\n",
       "      <th>dew_point</th>\n",
       "      <th>uvi</th>\n",
       "      <th>clouds</th>\n",
       "      <th>visibility</th>\n",
       "      <th>wind_speed</th>\n",
       "      <th>wind_deg</th>\n",
       "      <th>wind_gust</th>\n",
       "      <th>weather</th>\n",
       "      <th>pop</th>\n",
       "      <th>rain</th>\n",
       "    </tr>\n",
       "  </thead>\n",
       "  <tbody>\n",
       "    <tr>\n",
       "      <th>0</th>\n",
       "      <td>1629651600</td>\n",
       "      <td>29.08</td>\n",
       "      <td>35.65</td>\n",
       "      <td>1007</td>\n",
       "      <td>83</td>\n",
       "      <td>25.89</td>\n",
       "      <td>0.0</td>\n",
       "      <td>56</td>\n",
       "      <td>10000</td>\n",
       "      <td>3.20</td>\n",
       "      <td>207</td>\n",
       "      <td>4.71</td>\n",
       "      <td>[{'id': 803, 'main': 'Clouds', 'description': ...</td>\n",
       "      <td>0.04</td>\n",
       "      <td>NaN</td>\n",
       "    </tr>\n",
       "    <tr>\n",
       "      <th>1</th>\n",
       "      <td>1629655200</td>\n",
       "      <td>29.37</td>\n",
       "      <td>36.28</td>\n",
       "      <td>1007</td>\n",
       "      <td>82</td>\n",
       "      <td>25.97</td>\n",
       "      <td>0.0</td>\n",
       "      <td>58</td>\n",
       "      <td>10000</td>\n",
       "      <td>3.74</td>\n",
       "      <td>205</td>\n",
       "      <td>5.23</td>\n",
       "      <td>[{'id': 803, 'main': 'Clouds', 'description': ...</td>\n",
       "      <td>0.12</td>\n",
       "      <td>NaN</td>\n",
       "    </tr>\n",
       "    <tr>\n",
       "      <th>2</th>\n",
       "      <td>1629658800</td>\n",
       "      <td>29.04</td>\n",
       "      <td>35.53</td>\n",
       "      <td>1007</td>\n",
       "      <td>83</td>\n",
       "      <td>25.86</td>\n",
       "      <td>0.0</td>\n",
       "      <td>66</td>\n",
       "      <td>10000</td>\n",
       "      <td>3.86</td>\n",
       "      <td>205</td>\n",
       "      <td>5.25</td>\n",
       "      <td>[{'id': 803, 'main': 'Clouds', 'description': ...</td>\n",
       "      <td>0.73</td>\n",
       "      <td>NaN</td>\n",
       "    </tr>\n",
       "    <tr>\n",
       "      <th>3</th>\n",
       "      <td>1629662400</td>\n",
       "      <td>28.65</td>\n",
       "      <td>34.38</td>\n",
       "      <td>1007</td>\n",
       "      <td>83</td>\n",
       "      <td>25.48</td>\n",
       "      <td>0.0</td>\n",
       "      <td>74</td>\n",
       "      <td>10000</td>\n",
       "      <td>3.56</td>\n",
       "      <td>212</td>\n",
       "      <td>4.97</td>\n",
       "      <td>[{'id': 803, 'main': 'Clouds', 'description': ...</td>\n",
       "      <td>0.73</td>\n",
       "      <td>NaN</td>\n",
       "    </tr>\n",
       "    <tr>\n",
       "      <th>4</th>\n",
       "      <td>1629666000</td>\n",
       "      <td>28.17</td>\n",
       "      <td>33.21</td>\n",
       "      <td>1007</td>\n",
       "      <td>84</td>\n",
       "      <td>25.21</td>\n",
       "      <td>0.0</td>\n",
       "      <td>74</td>\n",
       "      <td>10000</td>\n",
       "      <td>3.17</td>\n",
       "      <td>215</td>\n",
       "      <td>4.36</td>\n",
       "      <td>[{'id': 500, 'main': 'Rain', 'description': 'l...</td>\n",
       "      <td>0.81</td>\n",
       "      <td>{'1h': 0.45}</td>\n",
       "    </tr>\n",
       "  </tbody>\n",
       "</table>\n",
       "</div>"
      ],
      "text/plain": [
       "           dt   temp  feels_like  pressure  humidity  dew_point  uvi  clouds  \\\n",
       "0  1629651600  29.08       35.65      1007        83      25.89  0.0      56   \n",
       "1  1629655200  29.37       36.28      1007        82      25.97  0.0      58   \n",
       "2  1629658800  29.04       35.53      1007        83      25.86  0.0      66   \n",
       "3  1629662400  28.65       34.38      1007        83      25.48  0.0      74   \n",
       "4  1629666000  28.17       33.21      1007        84      25.21  0.0      74   \n",
       "\n",
       "   visibility  wind_speed  wind_deg  wind_gust  \\\n",
       "0       10000        3.20       207       4.71   \n",
       "1       10000        3.74       205       5.23   \n",
       "2       10000        3.86       205       5.25   \n",
       "3       10000        3.56       212       4.97   \n",
       "4       10000        3.17       215       4.36   \n",
       "\n",
       "                                             weather   pop          rain  \n",
       "0  [{'id': 803, 'main': 'Clouds', 'description': ...  0.04           NaN  \n",
       "1  [{'id': 803, 'main': 'Clouds', 'description': ...  0.12           NaN  \n",
       "2  [{'id': 803, 'main': 'Clouds', 'description': ...  0.73           NaN  \n",
       "3  [{'id': 803, 'main': 'Clouds', 'description': ...  0.73           NaN  \n",
       "4  [{'id': 500, 'main': 'Rain', 'description': 'l...  0.81  {'1h': 0.45}  "
      ]
     },
     "execution_count": 9,
     "metadata": {},
     "output_type": "execute_result"
    }
   ],
   "source": [
    "df_hourly.head()"
   ]
  },
  {
   "cell_type": "code",
   "execution_count": null,
   "metadata": {},
   "outputs": [],
   "source": []
  }
 ],
 "metadata": {
  "interpreter": {
   "hash": "c1b4cfe941b6d2466ad1fb5979e97da9cda8801728c8091b097ab734208fc00c"
  },
  "kernelspec": {
   "display_name": "Python 3.8.3 64-bit ('base': conda)",
   "name": "python3"
  },
  "language_info": {
   "codemirror_mode": {
    "name": "ipython",
    "version": 3
   },
   "file_extension": ".py",
   "mimetype": "text/x-python",
   "name": "python",
   "nbconvert_exporter": "python",
   "pygments_lexer": "ipython3",
   "version": "3.8.11"
  }
 },
 "nbformat": 4,
 "nbformat_minor": 2
}
