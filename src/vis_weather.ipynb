{
 "cells": [
  {
   "cell_type": "code",
   "execution_count": 1,
   "metadata": {
    "execution": {
     "iopub.execute_input": "2021-09-05T01:59:12.700864Z",
     "iopub.status.busy": "2021-09-05T01:59:12.700264Z",
     "iopub.status.idle": "2021-09-05T01:59:13.938292Z",
     "shell.execute_reply": "2021-09-05T01:59:13.937722Z"
    }
   },
   "outputs": [],
   "source": [
    "import json, yaml, requests\r\n",
    "from datetime import datetime\r\n",
    "from dateutil import tz\r\n",
    "import pandas as pd\r\n",
    "from PIL import Image\r\n",
    "from io import BytesIO\r\n",
    "import matplotlib.pyplot as plt\r\n",
    "import seaborn\r\n",
    "\r\n",
    "CONFIG_PATH = \"../config/config.yaml\""
   ]
  },
  {
   "cell_type": "code",
   "execution_count": 2,
   "metadata": {
    "execution": {
     "iopub.execute_input": "2021-09-05T01:59:13.942951Z",
     "iopub.status.busy": "2021-09-05T01:59:13.942468Z",
     "iopub.status.idle": "2021-09-05T01:59:13.947329Z",
     "shell.execute_reply": "2021-09-05T01:59:13.946946Z"
    }
   },
   "outputs": [],
   "source": [
    "with open('../newest_ts', 'r') as f:\r\n",
    "    newest_ts = f.read()\r\n",
    "\r\n",
    "data_path = f\"../data/data_{newest_ts}.json\"\r\n",
    "with open(data_path, 'r') as f:\r\n",
    "    data = json.load(f)\r\n",
    "\r\n",
    "with open(CONFIG_PATH, \"r\") as stream:\r\n",
    "    config = yaml.safe_load(stream)\r\n",
    "\r\n",
    "TIME_ZONE = config['time_zone']\r\n",
    "DATETIME_FORMAT = config['dt_format']"
   ]
  },
  {
   "cell_type": "code",
   "execution_count": 3,
   "metadata": {
    "execution": {
     "iopub.execute_input": "2021-09-05T01:59:13.951495Z",
     "iopub.status.busy": "2021-09-05T01:59:13.951033Z",
     "iopub.status.idle": "2021-09-05T01:59:13.978451Z",
     "shell.execute_reply": "2021-09-05T01:59:13.978009Z"
    }
   },
   "outputs": [
    {
     "name": "stdout",
     "output_type": "stream",
     "text": [
      "Recent query happens at 2021-09-05 09:59:10 (CST).\n"
     ]
    }
   ],
   "source": [
    "def ts2dt(ts, format=DATETIME_FORMAT):\r\n",
    "    dt = (datetime.utcfromtimestamp(int(ts))\r\n",
    "                    .replace(tzinfo=tz.tzutc())\r\n",
    "                    # .astimezone(tz.tzlocal())\r\n",
    "                    .astimezone(tz.gettz(TIME_ZONE)))\r\n",
    "    return dt.strftime(format), dt\r\n",
    "\r\n",
    "_, newest_dt = ts2dt(newest_ts)\r\n",
    "print(f\"Recent query happens at {newest_dt.strftime(DATETIME_FORMAT)} ({newest_dt.tzname()}).\")"
   ]
  },
  {
   "cell_type": "code",
   "execution_count": 4,
   "metadata": {
    "execution": {
     "iopub.execute_input": "2021-09-05T01:59:13.983697Z",
     "iopub.status.busy": "2021-09-05T01:59:13.982655Z",
     "iopub.status.idle": "2021-09-05T01:59:13.984278Z",
     "shell.execute_reply": "2021-09-05T01:59:13.984676Z"
    }
   },
   "outputs": [],
   "source": [
    "def degrees_to_cardinal(d):\r\n",
    "  dirs = ['N', 'NNE', 'NE', 'ENE', 'E', 'ESE', 'SE', 'SSE', 'S', 'SSW', 'SW', 'WSW', 'W', 'WNW', 'NW', 'NNW']\r\n",
    "  ix = int(round(d / (360. / len(dirs))))\r\n",
    "  return dirs[ix % len(dirs)]"
   ]
  },
  {
   "cell_type": "code",
   "execution_count": 5,
   "metadata": {
    "execution": {
     "iopub.execute_input": "2021-09-05T01:59:13.988413Z",
     "iopub.status.busy": "2021-09-05T01:59:13.987435Z",
     "iopub.status.idle": "2021-09-05T01:59:13.988951Z",
     "shell.execute_reply": "2021-09-05T01:59:13.989315Z"
    }
   },
   "outputs": [],
   "source": [
    "# data.keys()"
   ]
  },
  {
   "cell_type": "code",
   "execution_count": 6,
   "metadata": {
    "execution": {
     "iopub.execute_input": "2021-09-05T01:59:13.992765Z",
     "iopub.status.busy": "2021-09-05T01:59:13.991797Z",
     "iopub.status.idle": "2021-09-05T01:59:13.993292Z",
     "shell.execute_reply": "2021-09-05T01:59:13.993660Z"
    }
   },
   "outputs": [],
   "source": [
    "# data['current']"
   ]
  },
  {
   "cell_type": "code",
   "execution_count": 7,
   "metadata": {
    "execution": {
     "iopub.execute_input": "2021-09-05T01:59:14.009732Z",
     "iopub.status.busy": "2021-09-05T01:59:14.009260Z",
     "iopub.status.idle": "2021-09-05T01:59:14.331907Z",
     "shell.execute_reply": "2021-09-05T01:59:14.332571Z"
    }
   },
   "outputs": [
    {
     "data": {
      "image/png": "[encoded data removed]",
      "text/plain": [
       "<Figure size 216x216 with 1 Axes>"
      ]
     },
     "metadata": {
      "needs_background": "light"
     },
     "output_type": "display_data"
    },
    {
     "name": "stdout",
     "output_type": "stream",
     "text": [
      "Today, sun rises at 06:06 and sets at 18:36.\n",
      "Currently, the weather is Clouds (overcast clouds).\n",
      "The temperature is 30.61°C and it feels like 37.61°C.\n",
      "The UV index is 6.88, humidity is 79%.\n",
      "The pressure is 1011 hPa, percentage of cloud cover is 92%\n",
      "The wind comes from E direction with a speed 2.53 m/s.\n"
     ]
    }
   ],
   "source": [
    "current = data['current']\r\n",
    "\r\n",
    "fig, ax = plt.subplots(figsize=(3, 3))\r\n",
    "icon = requests.get(f\"http://openweathermap.org/img/wn/{current['weather'][0]['icon']}@2x.png\")\r\n",
    "im = Image.open(BytesIO(icon.content))\r\n",
    "plt.imshow(im)\r\n",
    "ax.set_axis_off()\r\n",
    "plt.show()\r\n",
    "\r\n",
    "print(f\"Today, sun rises at {ts2dt(current['sunrise'], '%H:%M')[0]} \\\r\n",
    "and sets at {ts2dt(current['sunset'], '%H:%M')[0]}.\\n\\\r\n",
    "Currently, the weather is {current['weather'][0]['main']} ({current['weather'][0]['description']}).\\n\\\r\n",
    "The temperature is {current['temp']}°C and it feels like {current['feels_like']}°C.\\n\\\r\n",
    "The UV index is {current['uvi']}, humidity is {current['humidity']}%.\\n\\\r\n",
    "The pressure is {current['pressure']} hPa, percentage of cloud cover is {current['clouds']}%\\n\\\r\n",
    "The wind comes from {degrees_to_cardinal(current['wind_deg'])} direction with a speed {current['wind_speed']} m/s.\")"
   ]
  },
  {
   "cell_type": "code",
   "execution_count": 8,
   "metadata": {
    "execution": {
     "iopub.execute_input": "2021-09-05T01:59:14.335389Z",
     "iopub.status.busy": "2021-09-05T01:59:14.334937Z",
     "iopub.status.idle": "2021-09-05T01:59:14.341188Z",
     "shell.execute_reply": "2021-09-05T01:59:14.341800Z"
    }
   },
   "outputs": [],
   "source": [
    "df_hourly = pd.DataFrame(data['hourly'])\r\n",
    "df_daily = pd.DataFrame(data['daily'])"
   ]
  },
  {
   "cell_type": "code",
   "execution_count": 9,
   "metadata": {
    "execution": {
     "iopub.execute_input": "2021-09-05T01:59:14.344721Z",
     "iopub.status.busy": "2021-09-05T01:59:14.343811Z",
     "iopub.status.idle": "2021-09-05T01:59:14.583462Z",
     "shell.execute_reply": "2021-09-05T01:59:14.583044Z"
    }
   },
   "outputs": [
    {
     "data": {
      "image/png": "[encoded data removed]",
      "text/plain": [
       "<Figure size 864x432 with 1 Axes>"
      ]
     },
     "metadata": {
      "needs_background": "light"
     },
     "output_type": "display_data"
    }
   ],
   "source": [
    "fig, ax = plt.subplots(figsize=(12, 6))\r\n",
    "plt.plot(df_hourly.temp, '.-', label='Temperature')\r\n",
    "plt.plot(df_hourly.feels_like, '.-', label='Feels Like')\r\n",
    "ax.set(title='Temperature in future 48 hours', xlabel='Time', ylabel='Temperature')\r\n",
    "ax.set_xticks(list(range(0, len(df_hourly), 2)))\r\n",
    "ax.set_xticklabels([ts2dt(ts, '%m-%d %H:%M')[0] for i, ts in enumerate(df_hourly.dt) if i%2==0], \r\n",
    "                   rotation=45, ha=\"right\")\r\n",
    "ax.locator_params(nbins=15, axis='y')\r\n",
    "plt.legend()\r\n",
    "plt.show()"
   ]
  },
  {
   "cell_type": "code",
   "execution_count": 10,
   "metadata": {
    "execution": {
     "iopub.execute_input": "2021-09-05T01:59:14.594849Z",
     "iopub.status.busy": "2021-09-05T01:59:14.587305Z",
     "iopub.status.idle": "2021-09-05T01:59:14.605470Z",
     "shell.execute_reply": "2021-09-05T01:59:14.605016Z"
    }
   },
   "outputs": [
    {
     "data": {
      "text/html": [
       "<div>\n",
       "<style scoped>\n",
       "    .dataframe tbody tr th:only-of-type {\n",
       "        vertical-align: middle;\n",
       "    }\n",
       "\n",
       "    .dataframe tbody tr th {\n",
       "        vertical-align: top;\n",
       "    }\n",
       "\n",
       "    .dataframe thead th {\n",
       "        text-align: right;\n",
       "    }\n",
       "</style>\n",
       "<table border=\"1\" class=\"dataframe\">\n",
       "  <thead>\n",
       "    <tr style=\"text-align: right;\">\n",
       "      <th></th>\n",
       "      <th>dt</th>\n",
       "      <th>temp</th>\n",
       "      <th>feels_like</th>\n",
       "      <th>pressure</th>\n",
       "      <th>humidity</th>\n",
       "      <th>dew_point</th>\n",
       "      <th>uvi</th>\n",
       "      <th>clouds</th>\n",
       "      <th>visibility</th>\n",
       "      <th>wind_speed</th>\n",
       "      <th>wind_deg</th>\n",
       "      <th>wind_gust</th>\n",
       "      <th>weather</th>\n",
       "      <th>pop</th>\n",
       "      <th>rain</th>\n",
       "    </tr>\n",
       "  </thead>\n",
       "  <tbody>\n",
       "    <tr>\n",
       "      <th>0</th>\n",
       "      <td>1630803600</td>\n",
       "      <td>30.22</td>\n",
       "      <td>37.22</td>\n",
       "      <td>1011</td>\n",
       "      <td>77</td>\n",
       "      <td>25.74</td>\n",
       "      <td>3.80</td>\n",
       "      <td>91</td>\n",
       "      <td>10000</td>\n",
       "      <td>2.13</td>\n",
       "      <td>86</td>\n",
       "      <td>2.68</td>\n",
       "      <td>[{'id': 804, 'main': 'Clouds', 'description': ...</td>\n",
       "      <td>0.78</td>\n",
       "      <td>NaN</td>\n",
       "    </tr>\n",
       "    <tr>\n",
       "      <th>1</th>\n",
       "      <td>1630807200</td>\n",
       "      <td>30.61</td>\n",
       "      <td>37.61</td>\n",
       "      <td>1011</td>\n",
       "      <td>79</td>\n",
       "      <td>26.55</td>\n",
       "      <td>6.88</td>\n",
       "      <td>92</td>\n",
       "      <td>10000</td>\n",
       "      <td>2.53</td>\n",
       "      <td>82</td>\n",
       "      <td>2.80</td>\n",
       "      <td>[{'id': 804, 'main': 'Clouds', 'description': ...</td>\n",
       "      <td>0.75</td>\n",
       "      <td>NaN</td>\n",
       "    </tr>\n",
       "    <tr>\n",
       "      <th>2</th>\n",
       "      <td>1630810800</td>\n",
       "      <td>30.46</td>\n",
       "      <td>37.46</td>\n",
       "      <td>1011</td>\n",
       "      <td>76</td>\n",
       "      <td>25.75</td>\n",
       "      <td>9.73</td>\n",
       "      <td>92</td>\n",
       "      <td>10000</td>\n",
       "      <td>2.38</td>\n",
       "      <td>88</td>\n",
       "      <td>2.32</td>\n",
       "      <td>[{'id': 804, 'main': 'Clouds', 'description': ...</td>\n",
       "      <td>0.60</td>\n",
       "      <td>NaN</td>\n",
       "    </tr>\n",
       "    <tr>\n",
       "      <th>3</th>\n",
       "      <td>1630814400</td>\n",
       "      <td>30.42</td>\n",
       "      <td>36.90</td>\n",
       "      <td>1011</td>\n",
       "      <td>73</td>\n",
       "      <td>25.03</td>\n",
       "      <td>11.45</td>\n",
       "      <td>92</td>\n",
       "      <td>10000</td>\n",
       "      <td>3.08</td>\n",
       "      <td>92</td>\n",
       "      <td>2.81</td>\n",
       "      <td>[{'id': 804, 'main': 'Clouds', 'description': ...</td>\n",
       "      <td>0.63</td>\n",
       "      <td>NaN</td>\n",
       "    </tr>\n",
       "    <tr>\n",
       "      <th>4</th>\n",
       "      <td>1630818000</td>\n",
       "      <td>30.36</td>\n",
       "      <td>36.20</td>\n",
       "      <td>1010</td>\n",
       "      <td>71</td>\n",
       "      <td>24.51</td>\n",
       "      <td>11.26</td>\n",
       "      <td>93</td>\n",
       "      <td>10000</td>\n",
       "      <td>3.65</td>\n",
       "      <td>101</td>\n",
       "      <td>3.13</td>\n",
       "      <td>[{'id': 500, 'main': 'Rain', 'description': 'l...</td>\n",
       "      <td>0.74</td>\n",
       "      <td>{'1h': 0.18}</td>\n",
       "    </tr>\n",
       "  </tbody>\n",
       "</table>\n",
       "</div>"
      ],
      "text/plain": [
       "           dt   temp  feels_like  pressure  humidity  dew_point    uvi  \\\n",
       "0  1630803600  30.22       37.22      1011        77      25.74   3.80   \n",
       "1  1630807200  30.61       37.61      1011        79      26.55   6.88   \n",
       "2  1630810800  30.46       37.46      1011        76      25.75   9.73   \n",
       "3  1630814400  30.42       36.90      1011        73      25.03  11.45   \n",
       "4  1630818000  30.36       36.20      1010        71      24.51  11.26   \n",
       "\n",
       "   clouds  visibility  wind_speed  wind_deg  wind_gust  \\\n",
       "0      91       10000        2.13        86       2.68   \n",
       "1      92       10000        2.53        82       2.80   \n",
       "2      92       10000        2.38        88       2.32   \n",
       "3      92       10000        3.08        92       2.81   \n",
       "4      93       10000        3.65       101       3.13   \n",
       "\n",
       "                                             weather   pop          rain  \n",
       "0  [{'id': 804, 'main': 'Clouds', 'description': ...  0.78           NaN  \n",
       "1  [{'id': 804, 'main': 'Clouds', 'description': ...  0.75           NaN  \n",
       "2  [{'id': 804, 'main': 'Clouds', 'description': ...  0.60           NaN  \n",
       "3  [{'id': 804, 'main': 'Clouds', 'description': ...  0.63           NaN  \n",
       "4  [{'id': 500, 'main': 'Rain', 'description': 'l...  0.74  {'1h': 0.18}  "
      ]
     },
     "execution_count": 10,
     "metadata": {},
     "output_type": "execute_result"
    }
   ],
   "source": [
    "df_hourly.head()"
   ]
  },
  {
   "cell_type": "code",
   "execution_count": null,
   "metadata": {},
   "outputs": [],
   "source": []
  }
 ],
 "metadata": {
  "interpreter": {
   "hash": "c1b4cfe941b6d2466ad1fb5979e97da9cda8801728c8091b097ab734208fc00c"
  },
  "kernelspec": {
   "display_name": "Python 3.8.3 64-bit ('base': conda)",
   "name": "python3"
  },
  "language_info": {
   "codemirror_mode": {
    "name": "ipython",
    "version": 3
   },
   "file_extension": ".py",
   "mimetype": "text/x-python",
   "name": "python",
   "nbconvert_exporter": "python",
   "pygments_lexer": "ipython3",
   "version": "3.8.11"
  }
 },
 "nbformat": 4,
 "nbformat_minor": 2
}
