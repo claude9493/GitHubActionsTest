{
 "cells": [
  {
   "cell_type": "code",
   "execution_count": 1,
   "metadata": {
    "execution": {
     "iopub.execute_input": "2021-09-30T20:11:57.566131Z",
     "iopub.status.busy": "2021-09-30T20:11:57.565457Z",
     "iopub.status.idle": "2021-09-30T20:11:59.018016Z",
     "shell.execute_reply": "2021-09-30T20:11:59.017365Z"
    }
   },
   "outputs": [],
   "source": [
    "import json, yaml, requests\r\n",
    "from datetime import datetime\r\n",
    "from dateutil import tz\r\n",
    "import pandas as pd\r\n",
    "from PIL import Image\r\n",
    "from io import BytesIO\r\n",
    "import matplotlib.pyplot as plt\r\n",
    "import seaborn\r\n",
    "\r\n",
    "CONFIG_PATH = \"../config/config.yaml\""
   ]
  },
  {
   "cell_type": "code",
   "execution_count": 2,
   "metadata": {
    "execution": {
     "iopub.execute_input": "2021-09-30T20:11:59.026576Z",
     "iopub.status.busy": "2021-09-30T20:11:59.023308Z",
     "iopub.status.idle": "2021-09-30T20:11:59.029554Z",
     "shell.execute_reply": "2021-09-30T20:11:59.029091Z"
    }
   },
   "outputs": [],
   "source": [
    "with open('../newest_ts', 'r') as f:\r\n",
    "    newest_ts = f.read()\r\n",
    "\r\n",
    "data_path = f\"../data/data_{newest_ts}.json\"\r\n",
    "with open(data_path, 'r') as f:\r\n",
    "    data = json.load(f)\r\n",
    "\r\n",
    "with open(CONFIG_PATH, \"r\") as stream:\r\n",
    "    config = yaml.safe_load(stream)\r\n",
    "\r\n",
    "TIME_ZONE = config['time_zone']\r\n",
    "DATETIME_FORMAT = config['dt_format']"
   ]
  },
  {
   "cell_type": "code",
   "execution_count": 3,
   "metadata": {
    "execution": {
     "iopub.execute_input": "2021-09-30T20:11:59.034652Z",
     "iopub.status.busy": "2021-09-30T20:11:59.034114Z",
     "iopub.status.idle": "2021-09-30T20:11:59.045492Z",
     "shell.execute_reply": "2021-09-30T20:11:59.045935Z"
    }
   },
   "outputs": [
    {
     "name": "stdout",
     "output_type": "stream",
     "text": [
      "Recent query happens at 2021-10-01 04:11:54 (CST).\n"
     ]
    }
   ],
   "source": [
    "def ts2dt(ts, format=DATETIME_FORMAT):\r\n",
    "    dt = (datetime.utcfromtimestamp(int(ts))\r\n",
    "                    .replace(tzinfo=tz.tzutc())\r\n",
    "                    # .astimezone(tz.tzlocal())\r\n",
    "                    .astimezone(tz.gettz(TIME_ZONE)))\r\n",
    "    return dt.strftime(format), dt\r\n",
    "\r\n",
    "_, newest_dt = ts2dt(newest_ts)\r\n",
    "print(f\"Recent query happens at {newest_dt.strftime(DATETIME_FORMAT)} ({newest_dt.tzname()}).\")"
   ]
  },
  {
   "cell_type": "code",
   "execution_count": 4,
   "metadata": {
    "execution": {
     "iopub.execute_input": "2021-09-30T20:11:59.051878Z",
     "iopub.status.busy": "2021-09-30T20:11:59.050528Z",
     "iopub.status.idle": "2021-09-30T20:11:59.052598Z",
     "shell.execute_reply": "2021-09-30T20:11:59.053050Z"
    }
   },
   "outputs": [],
   "source": [
    "def degrees_to_cardinal(d):\r\n",
    "  dirs = ['N', 'NNE', 'NE', 'ENE', 'E', 'ESE', 'SE', 'SSE', 'S', 'SSW', 'SW', 'WSW', 'W', 'WNW', 'NW', 'NNW']\r\n",
    "  ix = int(round(d / (360. / len(dirs))))\r\n",
    "  return dirs[ix % len(dirs)]"
   ]
  },
  {
   "cell_type": "code",
   "execution_count": 5,
   "metadata": {
    "execution": {
     "iopub.execute_input": "2021-09-30T20:11:59.057579Z",
     "iopub.status.busy": "2021-09-30T20:11:59.056339Z",
     "iopub.status.idle": "2021-09-30T20:11:59.058855Z",
     "shell.execute_reply": "2021-09-30T20:11:59.059322Z"
    }
   },
   "outputs": [],
   "source": [
    "# data.keys()"
   ]
  },
  {
   "cell_type": "code",
   "execution_count": 6,
   "metadata": {
    "execution": {
     "iopub.execute_input": "2021-09-30T20:11:59.063926Z",
     "iopub.status.busy": "2021-09-30T20:11:59.062595Z",
     "iopub.status.idle": "2021-09-30T20:11:59.064635Z",
     "shell.execute_reply": "2021-09-30T20:11:59.065325Z"
    }
   },
   "outputs": [],
   "source": [
    "# data['current']"
   ]
  },
  {
   "cell_type": "code",
   "execution_count": 7,
   "metadata": {
    "execution": {
     "iopub.execute_input": "2021-09-30T20:11:59.085538Z",
     "iopub.status.busy": "2021-09-30T20:11:59.084972Z",
     "iopub.status.idle": "2021-09-30T20:11:59.701271Z",
     "shell.execute_reply": "2021-09-30T20:11:59.702036Z"
    }
   },
   "outputs": [
    {
     "data": {
      "image/png": "[encoded data removed]",
      "text/plain": [
       "<Figure size 216x216 with 1 Axes>"
      ]
     },
     "metadata": {
      "needs_background": "light"
     },
     "output_type": "display_data"
    },
    {
     "name": "stdout",
     "output_type": "stream",
     "text": [
      "Today, sun rises at 06:14 and sets at 18:11.\n",
      "Currently, the weather is Clouds (scattered clouds).\n",
      "The temperature is 28.92°C and it feels like 35.92°C.\n",
      "The UV index is 0, humidity is 88%.\n",
      "The pressure is 1007 hPa, percentage of cloud cover is 30%\n",
      "The wind comes from S direction with a speed 1.34 m/s.\n"
     ]
    }
   ],
   "source": [
    "current = data['current']\r\n",
    "\r\n",
    "fig, ax = plt.subplots(figsize=(3, 3))\r\n",
    "icon = requests.get(f\"http://openweathermap.org/img/wn/{current['weather'][0]['icon']}@2x.png\")\r\n",
    "im = Image.open(BytesIO(icon.content))\r\n",
    "plt.imshow(im)\r\n",
    "ax.set_axis_off()\r\n",
    "plt.show()\r\n",
    "\r\n",
    "print(f\"Today, sun rises at {ts2dt(current['sunrise'], '%H:%M')[0]} \\\r\n",
    "and sets at {ts2dt(current['sunset'], '%H:%M')[0]}.\\n\\\r\n",
    "Currently, the weather is {current['weather'][0]['main']} ({current['weather'][0]['description']}).\\n\\\r\n",
    "The temperature is {current['temp']}°C and it feels like {current['feels_like']}°C.\\n\\\r\n",
    "The UV index is {current['uvi']}, humidity is {current['humidity']}%.\\n\\\r\n",
    "The pressure is {current['pressure']} hPa, percentage of cloud cover is {current['clouds']}%\\n\\\r\n",
    "The wind comes from {degrees_to_cardinal(current['wind_deg'])} direction with a speed {current['wind_speed']} m/s.\")"
   ]
  },
  {
   "cell_type": "code",
   "execution_count": 8,
   "metadata": {
    "execution": {
     "iopub.execute_input": "2021-09-30T20:11:59.705443Z",
     "iopub.status.busy": "2021-09-30T20:11:59.704915Z",
     "iopub.status.idle": "2021-09-30T20:11:59.712256Z",
     "shell.execute_reply": "2021-09-30T20:11:59.713037Z"
    }
   },
   "outputs": [],
   "source": [
    "df_hourly = pd.DataFrame(data['hourly'])\r\n",
    "df_daily = pd.DataFrame(data['daily'])"
   ]
  },
  {
   "cell_type": "code",
   "execution_count": 9,
   "metadata": {
    "execution": {
     "iopub.execute_input": "2021-09-30T20:11:59.716796Z",
     "iopub.status.busy": "2021-09-30T20:11:59.715574Z",
     "iopub.status.idle": "2021-09-30T20:11:59.993874Z",
     "shell.execute_reply": "2021-09-30T20:11:59.993369Z"
    }
   },
   "outputs": [
    {
     "data": {
      "image/png": "[encoded data removed]",
      "text/plain": [
       "<Figure size 864x432 with 1 Axes>"
      ]
     },
     "metadata": {
      "needs_background": "light"
     },
     "output_type": "display_data"
    }
   ],
   "source": [
    "fig, ax = plt.subplots(figsize=(12, 6))\r\n",
    "plt.plot(df_hourly.temp, '.-', label='Temperature')\r\n",
    "plt.plot(df_hourly.feels_like, '.-', label='Feels Like')\r\n",
    "ax.set(title='Temperature in future 48 hours', xlabel='Time', ylabel='Temperature')\r\n",
    "ax.set_xticks(list(range(0, len(df_hourly), 2)))\r\n",
    "ax.set_xticklabels([ts2dt(ts, '%m-%d %H:%M')[0] for i, ts in enumerate(df_hourly.dt) if i%2==0], \r\n",
    "                   rotation=45, ha=\"right\")\r\n",
    "ax.locator_params(nbins=15, axis='y')\r\n",
    "plt.legend()\r\n",
    "plt.show()"
   ]
  },
  {
   "cell_type": "code",
   "execution_count": 10,
   "metadata": {
    "execution": {
     "iopub.execute_input": "2021-09-30T20:12:00.006765Z",
     "iopub.status.busy": "2021-09-30T20:11:59.998222Z",
     "iopub.status.idle": "2021-09-30T20:12:00.019750Z",
     "shell.execute_reply": "2021-09-30T20:12:00.019165Z"
    }
   },
   "outputs": [
    {
     "data": {
      "text/html": [
       "<div>\n",
       "<style scoped>\n",
       "    .dataframe tbody tr th:only-of-type {\n",
       "        vertical-align: middle;\n",
       "    }\n",
       "\n",
       "    .dataframe tbody tr th {\n",
       "        vertical-align: top;\n",
       "    }\n",
       "\n",
       "    .dataframe thead th {\n",
       "        text-align: right;\n",
       "    }\n",
       "</style>\n",
       "<table border=\"1\" class=\"dataframe\">\n",
       "  <thead>\n",
       "    <tr style=\"text-align: right;\">\n",
       "      <th></th>\n",
       "      <th>dt</th>\n",
       "      <th>temp</th>\n",
       "      <th>feels_like</th>\n",
       "      <th>pressure</th>\n",
       "      <th>humidity</th>\n",
       "      <th>dew_point</th>\n",
       "      <th>uvi</th>\n",
       "      <th>clouds</th>\n",
       "      <th>visibility</th>\n",
       "      <th>wind_speed</th>\n",
       "      <th>wind_deg</th>\n",
       "      <th>wind_gust</th>\n",
       "      <th>weather</th>\n",
       "      <th>pop</th>\n",
       "      <th>rain</th>\n",
       "    </tr>\n",
       "  </thead>\n",
       "  <tbody>\n",
       "    <tr>\n",
       "      <th>0</th>\n",
       "      <td>1633032000</td>\n",
       "      <td>28.92</td>\n",
       "      <td>35.92</td>\n",
       "      <td>1007</td>\n",
       "      <td>88</td>\n",
       "      <td>26.73</td>\n",
       "      <td>0.00</td>\n",
       "      <td>30</td>\n",
       "      <td>10000</td>\n",
       "      <td>2.13</td>\n",
       "      <td>238</td>\n",
       "      <td>2.18</td>\n",
       "      <td>[{'id': 802, 'main': 'Clouds', 'description': ...</td>\n",
       "      <td>0.48</td>\n",
       "      <td>NaN</td>\n",
       "    </tr>\n",
       "    <tr>\n",
       "      <th>1</th>\n",
       "      <td>1633035600</td>\n",
       "      <td>28.58</td>\n",
       "      <td>35.00</td>\n",
       "      <td>1007</td>\n",
       "      <td>87</td>\n",
       "      <td>26.20</td>\n",
       "      <td>0.00</td>\n",
       "      <td>28</td>\n",
       "      <td>10000</td>\n",
       "      <td>2.23</td>\n",
       "      <td>225</td>\n",
       "      <td>2.50</td>\n",
       "      <td>[{'id': 802, 'main': 'Clouds', 'description': ...</td>\n",
       "      <td>0.56</td>\n",
       "      <td>NaN</td>\n",
       "    </tr>\n",
       "    <tr>\n",
       "      <th>2</th>\n",
       "      <td>1633039200</td>\n",
       "      <td>28.39</td>\n",
       "      <td>34.02</td>\n",
       "      <td>1008</td>\n",
       "      <td>85</td>\n",
       "      <td>25.62</td>\n",
       "      <td>0.00</td>\n",
       "      <td>25</td>\n",
       "      <td>10000</td>\n",
       "      <td>2.45</td>\n",
       "      <td>221</td>\n",
       "      <td>2.57</td>\n",
       "      <td>[{'id': 802, 'main': 'Clouds', 'description': ...</td>\n",
       "      <td>0.59</td>\n",
       "      <td>NaN</td>\n",
       "    </tr>\n",
       "    <tr>\n",
       "      <th>3</th>\n",
       "      <td>1633042800</td>\n",
       "      <td>28.29</td>\n",
       "      <td>33.36</td>\n",
       "      <td>1008</td>\n",
       "      <td>83</td>\n",
       "      <td>25.12</td>\n",
       "      <td>0.17</td>\n",
       "      <td>20</td>\n",
       "      <td>10000</td>\n",
       "      <td>2.45</td>\n",
       "      <td>222</td>\n",
       "      <td>2.62</td>\n",
       "      <td>[{'id': 500, 'main': 'Rain', 'description': 'l...</td>\n",
       "      <td>0.57</td>\n",
       "      <td>{'1h': 0.12}</td>\n",
       "    </tr>\n",
       "    <tr>\n",
       "      <th>4</th>\n",
       "      <td>1633046400</td>\n",
       "      <td>28.66</td>\n",
       "      <td>33.81</td>\n",
       "      <td>1009</td>\n",
       "      <td>80</td>\n",
       "      <td>24.87</td>\n",
       "      <td>1.02</td>\n",
       "      <td>15</td>\n",
       "      <td>10000</td>\n",
       "      <td>2.63</td>\n",
       "      <td>217</td>\n",
       "      <td>2.82</td>\n",
       "      <td>[{'id': 500, 'main': 'Rain', 'description': 'l...</td>\n",
       "      <td>0.60</td>\n",
       "      <td>{'1h': 0.23}</td>\n",
       "    </tr>\n",
       "  </tbody>\n",
       "</table>\n",
       "</div>"
      ],
      "text/plain": [
       "           dt   temp  feels_like  pressure  humidity  dew_point   uvi  clouds  \\\n",
       "0  1633032000  28.92       35.92      1007        88      26.73  0.00      30   \n",
       "1  1633035600  28.58       35.00      1007        87      26.20  0.00      28   \n",
       "2  1633039200  28.39       34.02      1008        85      25.62  0.00      25   \n",
       "3  1633042800  28.29       33.36      1008        83      25.12  0.17      20   \n",
       "4  1633046400  28.66       33.81      1009        80      24.87  1.02      15   \n",
       "\n",
       "   visibility  wind_speed  wind_deg  wind_gust  \\\n",
       "0       10000        2.13       238       2.18   \n",
       "1       10000        2.23       225       2.50   \n",
       "2       10000        2.45       221       2.57   \n",
       "3       10000        2.45       222       2.62   \n",
       "4       10000        2.63       217       2.82   \n",
       "\n",
       "                                             weather   pop          rain  \n",
       "0  [{'id': 802, 'main': 'Clouds', 'description': ...  0.48           NaN  \n",
       "1  [{'id': 802, 'main': 'Clouds', 'description': ...  0.56           NaN  \n",
       "2  [{'id': 802, 'main': 'Clouds', 'description': ...  0.59           NaN  \n",
       "3  [{'id': 500, 'main': 'Rain', 'description': 'l...  0.57  {'1h': 0.12}  \n",
       "4  [{'id': 500, 'main': 'Rain', 'description': 'l...  0.60  {'1h': 0.23}  "
      ]
     },
     "execution_count": 10,
     "metadata": {},
     "output_type": "execute_result"
    }
   ],
   "source": [
    "df_hourly.head()"
   ]
  },
  {
   "cell_type": "code",
   "execution_count": null,
   "metadata": {},
   "outputs": [],
   "source": []
  }
 ],
 "metadata": {
  "interpreter": {
   "hash": "c1b4cfe941b6d2466ad1fb5979e97da9cda8801728c8091b097ab734208fc00c"
  },
  "kernelspec": {
   "display_name": "Python 3.8.3 64-bit ('base': conda)",
   "name": "python3"
  },
  "language_info": {
   "codemirror_mode": {
    "name": "ipython",
    "version": 3
   },
   "file_extension": ".py",
   "mimetype": "text/x-python",
   "name": "python",
   "nbconvert_exporter": "python",
   "pygments_lexer": "ipython3",
   "version": "3.8.12"
  }
 },
 "nbformat": 4,
 "nbformat_minor": 2
}
