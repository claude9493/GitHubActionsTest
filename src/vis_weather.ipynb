{
 "cells": [
  {
   "cell_type": "code",
   "execution_count": 1,
   "metadata": {
    "execution": {
     "iopub.execute_input": "2021-09-23T15:12:15.509071Z",
     "iopub.status.busy": "2021-09-23T15:12:15.508327Z",
     "iopub.status.idle": "2021-09-23T15:12:17.351205Z",
     "shell.execute_reply": "2021-09-23T15:12:17.350126Z"
    }
   },
   "outputs": [],
   "source": [
    "import json, yaml, requests\r\n",
    "from datetime import datetime\r\n",
    "from dateutil import tz\r\n",
    "import pandas as pd\r\n",
    "from PIL import Image\r\n",
    "from io import BytesIO\r\n",
    "import matplotlib.pyplot as plt\r\n",
    "import seaborn\r\n",
    "\r\n",
    "CONFIG_PATH = \"../config/config.yaml\""
   ]
  },
  {
   "cell_type": "code",
   "execution_count": 2,
   "metadata": {
    "execution": {
     "iopub.execute_input": "2021-09-23T15:12:17.357890Z",
     "iopub.status.busy": "2021-09-23T15:12:17.356717Z",
     "iopub.status.idle": "2021-09-23T15:12:17.363065Z",
     "shell.execute_reply": "2021-09-23T15:12:17.362543Z"
    }
   },
   "outputs": [],
   "source": [
    "with open('../newest_ts', 'r') as f:\r\n",
    "    newest_ts = f.read()\r\n",
    "\r\n",
    "data_path = f\"../data/data_{newest_ts}.json\"\r\n",
    "with open(data_path, 'r') as f:\r\n",
    "    data = json.load(f)\r\n",
    "\r\n",
    "with open(CONFIG_PATH, \"r\") as stream:\r\n",
    "    config = yaml.safe_load(stream)\r\n",
    "\r\n",
    "TIME_ZONE = config['time_zone']\r\n",
    "DATETIME_FORMAT = config['dt_format']"
   ]
  },
  {
   "cell_type": "code",
   "execution_count": 3,
   "metadata": {
    "execution": {
     "iopub.execute_input": "2021-09-23T15:12:17.368388Z",
     "iopub.status.busy": "2021-09-23T15:12:17.367403Z",
     "iopub.status.idle": "2021-09-23T15:12:17.422730Z",
     "shell.execute_reply": "2021-09-23T15:12:17.421496Z"
    }
   },
   "outputs": [
    {
     "name": "stdout",
     "output_type": "stream",
     "text": [
      "Recent query happens at 2021-09-23 23:12:11 (CST).\n"
     ]
    }
   ],
   "source": [
    "def ts2dt(ts, format=DATETIME_FORMAT):\r\n",
    "    dt = (datetime.utcfromtimestamp(int(ts))\r\n",
    "                    .replace(tzinfo=tz.tzutc())\r\n",
    "                    # .astimezone(tz.tzlocal())\r\n",
    "                    .astimezone(tz.gettz(TIME_ZONE)))\r\n",
    "    return dt.strftime(format), dt\r\n",
    "\r\n",
    "_, newest_dt = ts2dt(newest_ts)\r\n",
    "print(f\"Recent query happens at {newest_dt.strftime(DATETIME_FORMAT)} ({newest_dt.tzname()}).\")"
   ]
  },
  {
   "cell_type": "code",
   "execution_count": 4,
   "metadata": {
    "execution": {
     "iopub.execute_input": "2021-09-23T15:12:17.427591Z",
     "iopub.status.busy": "2021-09-23T15:12:17.425214Z",
     "iopub.status.idle": "2021-09-23T15:12:17.429928Z",
     "shell.execute_reply": "2021-09-23T15:12:17.430393Z"
    }
   },
   "outputs": [],
   "source": [
    "def degrees_to_cardinal(d):\r\n",
    "  dirs = ['N', 'NNE', 'NE', 'ENE', 'E', 'ESE', 'SE', 'SSE', 'S', 'SSW', 'SW', 'WSW', 'W', 'WNW', 'NW', 'NNW']\r\n",
    "  ix = int(round(d / (360. / len(dirs))))\r\n",
    "  return dirs[ix % len(dirs)]"
   ]
  },
  {
   "cell_type": "code",
   "execution_count": 5,
   "metadata": {
    "execution": {
     "iopub.execute_input": "2021-09-23T15:12:17.434547Z",
     "iopub.status.busy": "2021-09-23T15:12:17.433939Z",
     "iopub.status.idle": "2021-09-23T15:12:17.438060Z",
     "shell.execute_reply": "2021-09-23T15:12:17.438538Z"
    }
   },
   "outputs": [],
   "source": [
    "# data.keys()"
   ]
  },
  {
   "cell_type": "code",
   "execution_count": 6,
   "metadata": {
    "execution": {
     "iopub.execute_input": "2021-09-23T15:12:17.442325Z",
     "iopub.status.busy": "2021-09-23T15:12:17.441721Z",
     "iopub.status.idle": "2021-09-23T15:12:17.445096Z",
     "shell.execute_reply": "2021-09-23T15:12:17.445571Z"
    }
   },
   "outputs": [],
   "source": [
    "# data['current']"
   ]
  },
  {
   "cell_type": "code",
   "execution_count": 7,
   "metadata": {
    "execution": {
     "iopub.execute_input": "2021-09-23T15:12:17.468735Z",
     "iopub.status.busy": "2021-09-23T15:12:17.468070Z",
     "iopub.status.idle": "2021-09-23T15:12:18.083131Z",
     "shell.execute_reply": "2021-09-23T15:12:18.083986Z"
    }
   },
   "outputs": [
    {
     "data": {
      "image/png": "[encoded data removed]",
      "text/plain": [
       "<Figure size 216x216 with 1 Axes>"
      ]
     },
     "metadata": {
      "needs_background": "light"
     },
     "output_type": "display_data"
    },
    {
     "name": "stdout",
     "output_type": "stream",
     "text": [
      "Today, sun rises at 06:11 and sets at 18:18.\n",
      "Currently, the weather is Rain (light rain).\n",
      "The temperature is 28.68°C and it feels like 35.1°C.\n",
      "The UV index is 0, humidity is 86%.\n",
      "The pressure is 1015 hPa, percentage of cloud cover is 90%\n",
      "The wind comes from E direction with a speed 6.97 m/s.\n"
     ]
    }
   ],
   "source": [
    "current = data['current']\r\n",
    "\r\n",
    "fig, ax = plt.subplots(figsize=(3, 3))\r\n",
    "icon = requests.get(f\"http://openweathermap.org/img/wn/{current['weather'][0]['icon']}@2x.png\")\r\n",
    "im = Image.open(BytesIO(icon.content))\r\n",
    "plt.imshow(im)\r\n",
    "ax.set_axis_off()\r\n",
    "plt.show()\r\n",
    "\r\n",
    "print(f\"Today, sun rises at {ts2dt(current['sunrise'], '%H:%M')[0]} \\\r\n",
    "and sets at {ts2dt(current['sunset'], '%H:%M')[0]}.\\n\\\r\n",
    "Currently, the weather is {current['weather'][0]['main']} ({current['weather'][0]['description']}).\\n\\\r\n",
    "The temperature is {current['temp']}°C and it feels like {current['feels_like']}°C.\\n\\\r\n",
    "The UV index is {current['uvi']}, humidity is {current['humidity']}%.\\n\\\r\n",
    "The pressure is {current['pressure']} hPa, percentage of cloud cover is {current['clouds']}%\\n\\\r\n",
    "The wind comes from {degrees_to_cardinal(current['wind_deg'])} direction with a speed {current['wind_speed']} m/s.\")"
   ]
  },
  {
   "cell_type": "code",
   "execution_count": 8,
   "metadata": {
    "execution": {
     "iopub.execute_input": "2021-09-23T15:12:18.087818Z",
     "iopub.status.busy": "2021-09-23T15:12:18.087216Z",
     "iopub.status.idle": "2021-09-23T15:12:18.096683Z",
     "shell.execute_reply": "2021-09-23T15:12:18.097561Z"
    }
   },
   "outputs": [],
   "source": [
    "df_hourly = pd.DataFrame(data['hourly'])\r\n",
    "df_daily = pd.DataFrame(data['daily'])"
   ]
  },
  {
   "cell_type": "code",
   "execution_count": 9,
   "metadata": {
    "execution": {
     "iopub.execute_input": "2021-09-23T15:12:18.101444Z",
     "iopub.status.busy": "2021-09-23T15:12:18.100280Z",
     "iopub.status.idle": "2021-09-23T15:12:18.428512Z",
     "shell.execute_reply": "2021-09-23T15:12:18.429457Z"
    }
   },
   "outputs": [
    {
     "data": {
      "image/png": "[encoded data removed]",
      "text/plain": [
       "<Figure size 864x432 with 1 Axes>"
      ]
     },
     "metadata": {
      "needs_background": "light"
     },
     "output_type": "display_data"
    }
   ],
   "source": [
    "fig, ax = plt.subplots(figsize=(12, 6))\r\n",
    "plt.plot(df_hourly.temp, '.-', label='Temperature')\r\n",
    "plt.plot(df_hourly.feels_like, '.-', label='Feels Like')\r\n",
    "ax.set(title='Temperature in future 48 hours', xlabel='Time', ylabel='Temperature')\r\n",
    "ax.set_xticks(list(range(0, len(df_hourly), 2)))\r\n",
    "ax.set_xticklabels([ts2dt(ts, '%m-%d %H:%M')[0] for i, ts in enumerate(df_hourly.dt) if i%2==0], \r\n",
    "                   rotation=45, ha=\"right\")\r\n",
    "ax.locator_params(nbins=15, axis='y')\r\n",
    "plt.legend()\r\n",
    "plt.show()"
   ]
  },
  {
   "cell_type": "code",
   "execution_count": 10,
   "metadata": {
    "execution": {
     "iopub.execute_input": "2021-09-23T15:12:18.435285Z",
     "iopub.status.busy": "2021-09-23T15:12:18.434187Z",
     "iopub.status.idle": "2021-09-23T15:12:18.460245Z",
     "shell.execute_reply": "2021-09-23T15:12:18.461002Z"
    }
   },
   "outputs": [
    {
     "data": {
      "text/html": [
       "<div>\n",
       "<style scoped>\n",
       "    .dataframe tbody tr th:only-of-type {\n",
       "        vertical-align: middle;\n",
       "    }\n",
       "\n",
       "    .dataframe tbody tr th {\n",
       "        vertical-align: top;\n",
       "    }\n",
       "\n",
       "    .dataframe thead th {\n",
       "        text-align: right;\n",
       "    }\n",
       "</style>\n",
       "<table border=\"1\" class=\"dataframe\">\n",
       "  <thead>\n",
       "    <tr style=\"text-align: right;\">\n",
       "      <th></th>\n",
       "      <th>dt</th>\n",
       "      <th>temp</th>\n",
       "      <th>feels_like</th>\n",
       "      <th>pressure</th>\n",
       "      <th>humidity</th>\n",
       "      <th>dew_point</th>\n",
       "      <th>uvi</th>\n",
       "      <th>clouds</th>\n",
       "      <th>visibility</th>\n",
       "      <th>wind_speed</th>\n",
       "      <th>wind_deg</th>\n",
       "      <th>wind_gust</th>\n",
       "      <th>weather</th>\n",
       "      <th>pop</th>\n",
       "      <th>rain</th>\n",
       "    </tr>\n",
       "  </thead>\n",
       "  <tbody>\n",
       "    <tr>\n",
       "      <th>0</th>\n",
       "      <td>1632409200</td>\n",
       "      <td>28.68</td>\n",
       "      <td>35.10</td>\n",
       "      <td>1015</td>\n",
       "      <td>86</td>\n",
       "      <td>26.10</td>\n",
       "      <td>0.0</td>\n",
       "      <td>90</td>\n",
       "      <td>10000</td>\n",
       "      <td>6.97</td>\n",
       "      <td>95</td>\n",
       "      <td>9.19</td>\n",
       "      <td>[{'id': 500, 'main': 'Rain', 'description': 'l...</td>\n",
       "      <td>0.69</td>\n",
       "      <td>{'1h': 0.29}</td>\n",
       "    </tr>\n",
       "    <tr>\n",
       "      <th>1</th>\n",
       "      <td>1632412800</td>\n",
       "      <td>28.51</td>\n",
       "      <td>34.37</td>\n",
       "      <td>1015</td>\n",
       "      <td>85</td>\n",
       "      <td>25.74</td>\n",
       "      <td>0.0</td>\n",
       "      <td>88</td>\n",
       "      <td>10000</td>\n",
       "      <td>6.65</td>\n",
       "      <td>94</td>\n",
       "      <td>8.96</td>\n",
       "      <td>[{'id': 804, 'main': 'Clouds', 'description': ...</td>\n",
       "      <td>0.58</td>\n",
       "      <td>NaN</td>\n",
       "    </tr>\n",
       "    <tr>\n",
       "      <th>2</th>\n",
       "      <td>1632416400</td>\n",
       "      <td>28.33</td>\n",
       "      <td>33.66</td>\n",
       "      <td>1015</td>\n",
       "      <td>84</td>\n",
       "      <td>25.36</td>\n",
       "      <td>0.0</td>\n",
       "      <td>84</td>\n",
       "      <td>10000</td>\n",
       "      <td>6.58</td>\n",
       "      <td>95</td>\n",
       "      <td>8.81</td>\n",
       "      <td>[{'id': 501, 'main': 'Rain', 'description': 'm...</td>\n",
       "      <td>0.54</td>\n",
       "      <td>{'1h': 3.65}</td>\n",
       "    </tr>\n",
       "    <tr>\n",
       "      <th>3</th>\n",
       "      <td>1632420000</td>\n",
       "      <td>28.12</td>\n",
       "      <td>32.90</td>\n",
       "      <td>1014</td>\n",
       "      <td>83</td>\n",
       "      <td>24.96</td>\n",
       "      <td>0.0</td>\n",
       "      <td>78</td>\n",
       "      <td>10000</td>\n",
       "      <td>6.24</td>\n",
       "      <td>92</td>\n",
       "      <td>8.38</td>\n",
       "      <td>[{'id': 500, 'main': 'Rain', 'description': 'l...</td>\n",
       "      <td>0.58</td>\n",
       "      <td>{'1h': 0.33}</td>\n",
       "    </tr>\n",
       "    <tr>\n",
       "      <th>4</th>\n",
       "      <td>1632423600</td>\n",
       "      <td>27.74</td>\n",
       "      <td>31.74</td>\n",
       "      <td>1013</td>\n",
       "      <td>82</td>\n",
       "      <td>24.38</td>\n",
       "      <td>0.0</td>\n",
       "      <td>56</td>\n",
       "      <td>10000</td>\n",
       "      <td>6.38</td>\n",
       "      <td>88</td>\n",
       "      <td>8.45</td>\n",
       "      <td>[{'id': 500, 'main': 'Rain', 'description': 'l...</td>\n",
       "      <td>0.54</td>\n",
       "      <td>{'1h': 0.6}</td>\n",
       "    </tr>\n",
       "  </tbody>\n",
       "</table>\n",
       "</div>"
      ],
      "text/plain": [
       "           dt   temp  feels_like  pressure  humidity  dew_point  uvi  clouds  \\\n",
       "0  1632409200  28.68       35.10      1015        86      26.10  0.0      90   \n",
       "1  1632412800  28.51       34.37      1015        85      25.74  0.0      88   \n",
       "2  1632416400  28.33       33.66      1015        84      25.36  0.0      84   \n",
       "3  1632420000  28.12       32.90      1014        83      24.96  0.0      78   \n",
       "4  1632423600  27.74       31.74      1013        82      24.38  0.0      56   \n",
       "\n",
       "   visibility  wind_speed  wind_deg  wind_gust  \\\n",
       "0       10000        6.97        95       9.19   \n",
       "1       10000        6.65        94       8.96   \n",
       "2       10000        6.58        95       8.81   \n",
       "3       10000        6.24        92       8.38   \n",
       "4       10000        6.38        88       8.45   \n",
       "\n",
       "                                             weather   pop          rain  \n",
       "0  [{'id': 500, 'main': 'Rain', 'description': 'l...  0.69  {'1h': 0.29}  \n",
       "1  [{'id': 804, 'main': 'Clouds', 'description': ...  0.58           NaN  \n",
       "2  [{'id': 501, 'main': 'Rain', 'description': 'm...  0.54  {'1h': 3.65}  \n",
       "3  [{'id': 500, 'main': 'Rain', 'description': 'l...  0.58  {'1h': 0.33}  \n",
       "4  [{'id': 500, 'main': 'Rain', 'description': 'l...  0.54   {'1h': 0.6}  "
      ]
     },
     "execution_count": 10,
     "metadata": {},
     "output_type": "execute_result"
    }
   ],
   "source": [
    "df_hourly.head()"
   ]
  },
  {
   "cell_type": "code",
   "execution_count": null,
   "metadata": {},
   "outputs": [],
   "source": []
  }
 ],
 "metadata": {
  "interpreter": {
   "hash": "c1b4cfe941b6d2466ad1fb5979e97da9cda8801728c8091b097ab734208fc00c"
  },
  "kernelspec": {
   "display_name": "Python 3.8.3 64-bit ('base': conda)",
   "name": "python3"
  },
  "language_info": {
   "codemirror_mode": {
    "name": "ipython",
    "version": 3
   },
   "file_extension": ".py",
   "mimetype": "text/x-python",
   "name": "python",
   "nbconvert_exporter": "python",
   "pygments_lexer": "ipython3",
   "version": "3.8.12"
  }
 },
 "nbformat": 4,
 "nbformat_minor": 2
}
