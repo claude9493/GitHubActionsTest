{
 "cells": [
  {
   "cell_type": "code",
   "execution_count": 1,
   "metadata": {
    "execution": {
     "iopub.execute_input": "2021-10-05T23:12:04.200299Z",
     "iopub.status.busy": "2021-10-05T23:12:04.199531Z",
     "iopub.status.idle": "2021-10-05T23:12:05.482737Z",
     "shell.execute_reply": "2021-10-05T23:12:05.482053Z"
    }
   },
   "outputs": [],
   "source": [
    "import json, yaml, requests\r\n",
    "from datetime import datetime\r\n",
    "from dateutil import tz\r\n",
    "import pandas as pd\r\n",
    "from PIL import Image\r\n",
    "from io import BytesIO\r\n",
    "import matplotlib.pyplot as plt\r\n",
    "import seaborn\r\n",
    "\r\n",
    "CONFIG_PATH = \"../config/config.yaml\""
   ]
  },
  {
   "cell_type": "code",
   "execution_count": 2,
   "metadata": {
    "execution": {
     "iopub.execute_input": "2021-10-05T23:12:05.488065Z",
     "iopub.status.busy": "2021-10-05T23:12:05.487519Z",
     "iopub.status.idle": "2021-10-05T23:12:05.493862Z",
     "shell.execute_reply": "2021-10-05T23:12:05.492803Z"
    }
   },
   "outputs": [],
   "source": [
    "with open('../newest_ts', 'r') as f:\r\n",
    "    newest_ts = f.read()\r\n",
    "\r\n",
    "data_path = f\"../data/data_{newest_ts}.json\"\r\n",
    "with open(data_path, 'r') as f:\r\n",
    "    data = json.load(f)\r\n",
    "\r\n",
    "with open(CONFIG_PATH, \"r\") as stream:\r\n",
    "    config = yaml.safe_load(stream)\r\n",
    "\r\n",
    "TIME_ZONE = config['time_zone']\r\n",
    "DATETIME_FORMAT = config['dt_format']"
   ]
  },
  {
   "cell_type": "code",
   "execution_count": 3,
   "metadata": {
    "execution": {
     "iopub.execute_input": "2021-10-05T23:12:05.498979Z",
     "iopub.status.busy": "2021-10-05T23:12:05.498344Z",
     "iopub.status.idle": "2021-10-05T23:12:05.534141Z",
     "shell.execute_reply": "2021-10-05T23:12:05.533565Z"
    }
   },
   "outputs": [
    {
     "name": "stdout",
     "output_type": "stream",
     "text": [
      "Recent query happens at 2021-10-06 07:12:01 (CST).\n"
     ]
    }
   ],
   "source": [
    "def ts2dt(ts, format=DATETIME_FORMAT):\r\n",
    "    dt = (datetime.utcfromtimestamp(int(ts))\r\n",
    "                    .replace(tzinfo=tz.tzutc())\r\n",
    "                    # .astimezone(tz.tzlocal())\r\n",
    "                    .astimezone(tz.gettz(TIME_ZONE)))\r\n",
    "    return dt.strftime(format), dt\r\n",
    "\r\n",
    "_, newest_dt = ts2dt(newest_ts)\r\n",
    "print(f\"Recent query happens at {newest_dt.strftime(DATETIME_FORMAT)} ({newest_dt.tzname()}).\")"
   ]
  },
  {
   "cell_type": "code",
   "execution_count": 4,
   "metadata": {
    "execution": {
     "iopub.execute_input": "2021-10-05T23:12:05.539847Z",
     "iopub.status.busy": "2021-10-05T23:12:05.538558Z",
     "iopub.status.idle": "2021-10-05T23:12:05.540395Z",
     "shell.execute_reply": "2021-10-05T23:12:05.540821Z"
    }
   },
   "outputs": [],
   "source": [
    "def degrees_to_cardinal(d):\r\n",
    "  dirs = ['N', 'NNE', 'NE', 'ENE', 'E', 'ESE', 'SE', 'SSE', 'S', 'SSW', 'SW', 'WSW', 'W', 'WNW', 'NW', 'NNW']\r\n",
    "  ix = int(round(d / (360. / len(dirs))))\r\n",
    "  return dirs[ix % len(dirs)]"
   ]
  },
  {
   "cell_type": "code",
   "execution_count": 5,
   "metadata": {
    "execution": {
     "iopub.execute_input": "2021-10-05T23:12:05.545346Z",
     "iopub.status.busy": "2021-10-05T23:12:05.544173Z",
     "iopub.status.idle": "2021-10-05T23:12:05.545903Z",
     "shell.execute_reply": "2021-10-05T23:12:05.546298Z"
    }
   },
   "outputs": [],
   "source": [
    "# data.keys()"
   ]
  },
  {
   "cell_type": "code",
   "execution_count": 6,
   "metadata": {
    "execution": {
     "iopub.execute_input": "2021-10-05T23:12:05.550457Z",
     "iopub.status.busy": "2021-10-05T23:12:05.549208Z",
     "iopub.status.idle": "2021-10-05T23:12:05.551064Z",
     "shell.execute_reply": "2021-10-05T23:12:05.551442Z"
    }
   },
   "outputs": [],
   "source": [
    "# data['current']"
   ]
  },
  {
   "cell_type": "code",
   "execution_count": 7,
   "metadata": {
    "execution": {
     "iopub.execute_input": "2021-10-05T23:12:05.571693Z",
     "iopub.status.busy": "2021-10-05T23:12:05.571110Z",
     "iopub.status.idle": "2021-10-05T23:12:06.142228Z",
     "shell.execute_reply": "2021-10-05T23:12:06.143173Z"
    }
   },
   "outputs": [
    {
     "data": {
      "image/png": "[encoded data removed]",
      "text/plain": [
       "<Figure size 216x216 with 1 Axes>"
      ]
     },
     "metadata": {
      "needs_background": "light"
     },
     "output_type": "display_data"
    },
    {
     "name": "stdout",
     "output_type": "stream",
     "text": [
      "Today, sun rises at 06:15 and sets at 18:06.\n",
      "Currently, the weather is Clear (clear sky).\n",
      "The temperature is 27.71°C and it feels like 30.12°C.\n",
      "The UV index is 0.13, humidity is 70%.\n",
      "The pressure is 1008 hPa, percentage of cloud cover is 4%\n",
      "The wind comes from ENE direction with a speed 0.45 m/s.\n"
     ]
    }
   ],
   "source": [
    "current = data['current']\r\n",
    "\r\n",
    "fig, ax = plt.subplots(figsize=(3, 3))\r\n",
    "icon = requests.get(f\"http://openweathermap.org/img/wn/{current['weather'][0]['icon']}@2x.png\")\r\n",
    "im = Image.open(BytesIO(icon.content))\r\n",
    "plt.imshow(im)\r\n",
    "ax.set_axis_off()\r\n",
    "plt.show()\r\n",
    "\r\n",
    "print(f\"Today, sun rises at {ts2dt(current['sunrise'], '%H:%M')[0]} \\\r\n",
    "and sets at {ts2dt(current['sunset'], '%H:%M')[0]}.\\n\\\r\n",
    "Currently, the weather is {current['weather'][0]['main']} ({current['weather'][0]['description']}).\\n\\\r\n",
    "The temperature is {current['temp']}°C and it feels like {current['feels_like']}°C.\\n\\\r\n",
    "The UV index is {current['uvi']}, humidity is {current['humidity']}%.\\n\\\r\n",
    "The pressure is {current['pressure']} hPa, percentage of cloud cover is {current['clouds']}%\\n\\\r\n",
    "The wind comes from {degrees_to_cardinal(current['wind_deg'])} direction with a speed {current['wind_speed']} m/s.\")"
   ]
  },
  {
   "cell_type": "code",
   "execution_count": 8,
   "metadata": {
    "execution": {
     "iopub.execute_input": "2021-10-05T23:12:06.146679Z",
     "iopub.status.busy": "2021-10-05T23:12:06.146021Z",
     "iopub.status.idle": "2021-10-05T23:12:06.153817Z",
     "shell.execute_reply": "2021-10-05T23:12:06.154654Z"
    }
   },
   "outputs": [],
   "source": [
    "df_hourly = pd.DataFrame(data['hourly'])\r\n",
    "df_daily = pd.DataFrame(data['daily'])"
   ]
  },
  {
   "cell_type": "code",
   "execution_count": 9,
   "metadata": {
    "execution": {
     "iopub.execute_input": "2021-10-05T23:12:06.157879Z",
     "iopub.status.busy": "2021-10-05T23:12:06.157334Z",
     "iopub.status.idle": "2021-10-05T23:12:06.474736Z",
     "shell.execute_reply": "2021-10-05T23:12:06.474204Z"
    }
   },
   "outputs": [
    {
     "data": {
      "image/png": "[encoded data removed]",
      "text/plain": [
       "<Figure size 864x432 with 1 Axes>"
      ]
     },
     "metadata": {
      "needs_background": "light"
     },
     "output_type": "display_data"
    }
   ],
   "source": [
    "fig, ax = plt.subplots(figsize=(12, 6))\r\n",
    "plt.plot(df_hourly.temp, '.-', label='Temperature')\r\n",
    "plt.plot(df_hourly.feels_like, '.-', label='Feels Like')\r\n",
    "ax.set(title='Temperature in future 48 hours', xlabel='Time', ylabel='Temperature')\r\n",
    "ax.set_xticks(list(range(0, len(df_hourly), 2)))\r\n",
    "ax.set_xticklabels([ts2dt(ts, '%m-%d %H:%M')[0] for i, ts in enumerate(df_hourly.dt) if i%2==0], \r\n",
    "                   rotation=45, ha=\"right\")\r\n",
    "ax.locator_params(nbins=15, axis='y')\r\n",
    "plt.legend()\r\n",
    "plt.show()"
   ]
  },
  {
   "cell_type": "code",
   "execution_count": 10,
   "metadata": {
    "execution": {
     "iopub.execute_input": "2021-10-05T23:12:06.488617Z",
     "iopub.status.busy": "2021-10-05T23:12:06.478674Z",
     "iopub.status.idle": "2021-10-05T23:12:06.501566Z",
     "shell.execute_reply": "2021-10-05T23:12:06.501063Z"
    }
   },
   "outputs": [
    {
     "data": {
      "text/html": [
       "<div>\n",
       "<style scoped>\n",
       "    .dataframe tbody tr th:only-of-type {\n",
       "        vertical-align: middle;\n",
       "    }\n",
       "\n",
       "    .dataframe tbody tr th {\n",
       "        vertical-align: top;\n",
       "    }\n",
       "\n",
       "    .dataframe thead th {\n",
       "        text-align: right;\n",
       "    }\n",
       "</style>\n",
       "<table border=\"1\" class=\"dataframe\">\n",
       "  <thead>\n",
       "    <tr style=\"text-align: right;\">\n",
       "      <th></th>\n",
       "      <th>dt</th>\n",
       "      <th>temp</th>\n",
       "      <th>feels_like</th>\n",
       "      <th>pressure</th>\n",
       "      <th>humidity</th>\n",
       "      <th>dew_point</th>\n",
       "      <th>uvi</th>\n",
       "      <th>clouds</th>\n",
       "      <th>visibility</th>\n",
       "      <th>wind_speed</th>\n",
       "      <th>wind_deg</th>\n",
       "      <th>wind_gust</th>\n",
       "      <th>weather</th>\n",
       "      <th>pop</th>\n",
       "      <th>rain</th>\n",
       "    </tr>\n",
       "  </thead>\n",
       "  <tbody>\n",
       "    <tr>\n",
       "      <th>0</th>\n",
       "      <td>1633474800</td>\n",
       "      <td>27.71</td>\n",
       "      <td>30.12</td>\n",
       "      <td>1008</td>\n",
       "      <td>70</td>\n",
       "      <td>21.74</td>\n",
       "      <td>0.13</td>\n",
       "      <td>4</td>\n",
       "      <td>10000</td>\n",
       "      <td>7.75</td>\n",
       "      <td>69</td>\n",
       "      <td>9.96</td>\n",
       "      <td>[{'id': 800, 'main': 'Clear', 'description': '...</td>\n",
       "      <td>0.0</td>\n",
       "      <td>NaN</td>\n",
       "    </tr>\n",
       "    <tr>\n",
       "      <th>1</th>\n",
       "      <td>1633478400</td>\n",
       "      <td>27.62</td>\n",
       "      <td>30.06</td>\n",
       "      <td>1009</td>\n",
       "      <td>71</td>\n",
       "      <td>21.89</td>\n",
       "      <td>0.88</td>\n",
       "      <td>4</td>\n",
       "      <td>10000</td>\n",
       "      <td>7.78</td>\n",
       "      <td>71</td>\n",
       "      <td>9.91</td>\n",
       "      <td>[{'id': 800, 'main': 'Clear', 'description': '...</td>\n",
       "      <td>0.0</td>\n",
       "      <td>NaN</td>\n",
       "    </tr>\n",
       "    <tr>\n",
       "      <th>2</th>\n",
       "      <td>1633482000</td>\n",
       "      <td>27.72</td>\n",
       "      <td>30.02</td>\n",
       "      <td>1009</td>\n",
       "      <td>69</td>\n",
       "      <td>21.51</td>\n",
       "      <td>2.58</td>\n",
       "      <td>2</td>\n",
       "      <td>10000</td>\n",
       "      <td>7.68</td>\n",
       "      <td>71</td>\n",
       "      <td>9.52</td>\n",
       "      <td>[{'id': 800, 'main': 'Clear', 'description': '...</td>\n",
       "      <td>0.0</td>\n",
       "      <td>NaN</td>\n",
       "    </tr>\n",
       "    <tr>\n",
       "      <th>3</th>\n",
       "      <td>1633485600</td>\n",
       "      <td>28.10</td>\n",
       "      <td>30.59</td>\n",
       "      <td>1010</td>\n",
       "      <td>68</td>\n",
       "      <td>21.64</td>\n",
       "      <td>4.99</td>\n",
       "      <td>2</td>\n",
       "      <td>10000</td>\n",
       "      <td>7.33</td>\n",
       "      <td>70</td>\n",
       "      <td>9.01</td>\n",
       "      <td>[{'id': 800, 'main': 'Clear', 'description': '...</td>\n",
       "      <td>0.0</td>\n",
       "      <td>NaN</td>\n",
       "    </tr>\n",
       "    <tr>\n",
       "      <th>4</th>\n",
       "      <td>1633489200</td>\n",
       "      <td>28.59</td>\n",
       "      <td>31.22</td>\n",
       "      <td>1010</td>\n",
       "      <td>66</td>\n",
       "      <td>21.62</td>\n",
       "      <td>7.30</td>\n",
       "      <td>2</td>\n",
       "      <td>10000</td>\n",
       "      <td>7.04</td>\n",
       "      <td>70</td>\n",
       "      <td>8.69</td>\n",
       "      <td>[{'id': 800, 'main': 'Clear', 'description': '...</td>\n",
       "      <td>0.0</td>\n",
       "      <td>NaN</td>\n",
       "    </tr>\n",
       "  </tbody>\n",
       "</table>\n",
       "</div>"
      ],
      "text/plain": [
       "           dt   temp  feels_like  pressure  humidity  dew_point   uvi  clouds  \\\n",
       "0  1633474800  27.71       30.12      1008        70      21.74  0.13       4   \n",
       "1  1633478400  27.62       30.06      1009        71      21.89  0.88       4   \n",
       "2  1633482000  27.72       30.02      1009        69      21.51  2.58       2   \n",
       "3  1633485600  28.10       30.59      1010        68      21.64  4.99       2   \n",
       "4  1633489200  28.59       31.22      1010        66      21.62  7.30       2   \n",
       "\n",
       "   visibility  wind_speed  wind_deg  wind_gust  \\\n",
       "0       10000        7.75        69       9.96   \n",
       "1       10000        7.78        71       9.91   \n",
       "2       10000        7.68        71       9.52   \n",
       "3       10000        7.33        70       9.01   \n",
       "4       10000        7.04        70       8.69   \n",
       "\n",
       "                                             weather  pop rain  \n",
       "0  [{'id': 800, 'main': 'Clear', 'description': '...  0.0  NaN  \n",
       "1  [{'id': 800, 'main': 'Clear', 'description': '...  0.0  NaN  \n",
       "2  [{'id': 800, 'main': 'Clear', 'description': '...  0.0  NaN  \n",
       "3  [{'id': 800, 'main': 'Clear', 'description': '...  0.0  NaN  \n",
       "4  [{'id': 800, 'main': 'Clear', 'description': '...  0.0  NaN  "
      ]
     },
     "execution_count": 10,
     "metadata": {},
     "output_type": "execute_result"
    }
   ],
   "source": [
    "df_hourly.head()"
   ]
  },
  {
   "cell_type": "code",
   "execution_count": null,
   "metadata": {},
   "outputs": [],
   "source": []
  }
 ],
 "metadata": {
  "interpreter": {
   "hash": "c1b4cfe941b6d2466ad1fb5979e97da9cda8801728c8091b097ab734208fc00c"
  },
  "kernelspec": {
   "display_name": "Python 3.8.3 64-bit ('base': conda)",
   "name": "python3"
  },
  "language_info": {
   "codemirror_mode": {
    "name": "ipython",
    "version": 3
   },
   "file_extension": ".py",
   "mimetype": "text/x-python",
   "name": "python",
   "nbconvert_exporter": "python",
   "pygments_lexer": "ipython3",
   "version": "3.8.12"
  }
 },
 "nbformat": 4,
 "nbformat_minor": 2
}
