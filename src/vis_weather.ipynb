{
 "cells": [
  {
   "cell_type": "code",
   "execution_count": 1,
   "metadata": {
    "execution": {
     "iopub.execute_input": "2021-08-28T15:15:49.912457Z",
     "iopub.status.busy": "2021-08-28T15:15:49.911410Z",
     "iopub.status.idle": "2021-08-28T15:15:51.566698Z",
     "shell.execute_reply": "2021-08-28T15:15:51.567189Z"
    }
   },
   "outputs": [],
   "source": [
    "import json, yaml, requests\r\n",
    "from datetime import datetime\r\n",
    "from dateutil import tz\r\n",
    "import pandas as pd\r\n",
    "from PIL import Image\r\n",
    "from io import BytesIO\r\n",
    "import matplotlib.pyplot as plt\r\n",
    "import seaborn\r\n",
    "\r\n",
    "CONFIG_PATH = \"../config/config.yaml\""
   ]
  },
  {
   "cell_type": "code",
   "execution_count": 2,
   "metadata": {
    "execution": {
     "iopub.execute_input": "2021-08-28T15:15:51.574184Z",
     "iopub.status.busy": "2021-08-28T15:15:51.573037Z",
     "iopub.status.idle": "2021-08-28T15:15:51.579805Z",
     "shell.execute_reply": "2021-08-28T15:15:51.580271Z"
    }
   },
   "outputs": [],
   "source": [
    "with open('../newest_ts', 'r') as f:\r\n",
    "    newest_ts = f.read()\r\n",
    "\r\n",
    "data_path = f\"../data/data_{newest_ts}.json\"\r\n",
    "with open(data_path, 'r') as f:\r\n",
    "    data = json.load(f)\r\n",
    "\r\n",
    "with open(CONFIG_PATH, \"r\") as stream:\r\n",
    "    config = yaml.safe_load(stream)\r\n",
    "\r\n",
    "TIME_ZONE = config['time_zone']\r\n",
    "DATETIME_FORMAT = config['dt_format']"
   ]
  },
  {
   "cell_type": "code",
   "execution_count": 3,
   "metadata": {
    "execution": {
     "iopub.execute_input": "2021-08-28T15:15:51.585770Z",
     "iopub.status.busy": "2021-08-28T15:15:51.585035Z",
     "iopub.status.idle": "2021-08-28T15:15:51.589872Z",
     "shell.execute_reply": "2021-08-28T15:15:51.590487Z"
    }
   },
   "outputs": [
    {
     "name": "stdout",
     "output_type": "stream",
     "text": [
      "Recent query happens at 2021-08-28 23:15:45 (CST).\n"
     ]
    }
   ],
   "source": [
    "def ts2dt(ts, format=DATETIME_FORMAT):\r\n",
    "    dt = (datetime.utcfromtimestamp(int(ts))\r\n",
    "                    .replace(tzinfo=tz.tzutc())\r\n",
    "                    # .astimezone(tz.tzlocal())\r\n",
    "                    .astimezone(tz.gettz(TIME_ZONE)))\r\n",
    "    return dt.strftime(format), dt\r\n",
    "\r\n",
    "_, newest_dt = ts2dt(newest_ts)\r\n",
    "print(f\"Recent query happens at {newest_dt.strftime(DATETIME_FORMAT)} ({newest_dt.tzname()}).\")"
   ]
  },
  {
   "cell_type": "code",
   "execution_count": 4,
   "metadata": {
    "execution": {
     "iopub.execute_input": "2021-08-28T15:15:51.596864Z",
     "iopub.status.busy": "2021-08-28T15:15:51.595364Z",
     "iopub.status.idle": "2021-08-28T15:15:51.597578Z",
     "shell.execute_reply": "2021-08-28T15:15:51.598169Z"
    }
   },
   "outputs": [],
   "source": [
    "def degrees_to_cardinal(d):\r\n",
    "  dirs = ['N', 'NNE', 'NE', 'ENE', 'E', 'ESE', 'SE', 'SSE', 'S', 'SSW', 'SW', 'WSW', 'W', 'WNW', 'NW', 'NNW']\r\n",
    "  ix = int(round(d / (360. / len(dirs))))\r\n",
    "  return dirs[ix % len(dirs)]"
   ]
  },
  {
   "cell_type": "code",
   "execution_count": 5,
   "metadata": {
    "execution": {
     "iopub.execute_input": "2021-08-28T15:15:51.602272Z",
     "iopub.status.busy": "2021-08-28T15:15:51.601664Z",
     "iopub.status.idle": "2021-08-28T15:15:51.604330Z",
     "shell.execute_reply": "2021-08-28T15:15:51.603803Z"
    }
   },
   "outputs": [],
   "source": [
    "# data.keys()"
   ]
  },
  {
   "cell_type": "code",
   "execution_count": 6,
   "metadata": {
    "execution": {
     "iopub.execute_input": "2021-08-28T15:15:51.609576Z",
     "iopub.status.busy": "2021-08-28T15:15:51.607721Z",
     "iopub.status.idle": "2021-08-28T15:15:51.610239Z",
     "shell.execute_reply": "2021-08-28T15:15:51.610764Z"
    }
   },
   "outputs": [],
   "source": [
    "# data['current']"
   ]
  },
  {
   "cell_type": "code",
   "execution_count": 7,
   "metadata": {
    "execution": {
     "iopub.execute_input": "2021-08-28T15:15:51.618317Z",
     "iopub.status.busy": "2021-08-28T15:15:51.617065Z",
     "iopub.status.idle": "2021-08-28T15:15:52.186477Z",
     "shell.execute_reply": "2021-08-28T15:15:52.187280Z"
    }
   },
   "outputs": [
    {
     "data": {
      "image/png": "[encoded data removed]",
      "text/plain": [
       "<Figure size 216x216 with 1 Axes>"
      ]
     },
     "metadata": {
      "needs_background": "light"
     },
     "output_type": "display_data"
    },
    {
     "name": "stdout",
     "output_type": "stream",
     "text": [
      "Today, sun rises at 06:04 and sets at 18:44.\n",
      "Currently, the weather is Clouds (scattered clouds).\n",
      "The temperature is 28.28°C and it feels like 31.22°C.\n",
      "The UV index is 0, humidity is 70%.\n",
      "The pressure is 1012 hPa, percentage of cloud cover is 41%\n",
      "The wind comes from E direction with a speed 4.07 m/s.\n"
     ]
    }
   ],
   "source": [
    "current = data['current']\r\n",
    "\r\n",
    "fig, ax = plt.subplots(figsize=(3, 3))\r\n",
    "icon = requests.get(f\"http://openweathermap.org/img/wn/{current['weather'][0]['icon']}@2x.png\")\r\n",
    "im = Image.open(BytesIO(icon.content))\r\n",
    "plt.imshow(im)\r\n",
    "ax.set_axis_off()\r\n",
    "plt.show()\r\n",
    "\r\n",
    "print(f\"Today, sun rises at {ts2dt(current['sunrise'], '%H:%M')[0]} \\\r\n",
    "and sets at {ts2dt(current['sunset'], '%H:%M')[0]}.\\n\\\r\n",
    "Currently, the weather is {current['weather'][0]['main']} ({current['weather'][0]['description']}).\\n\\\r\n",
    "The temperature is {current['temp']}°C and it feels like {current['feels_like']}°C.\\n\\\r\n",
    "The UV index is {current['uvi']}, humidity is {current['humidity']}%.\\n\\\r\n",
    "The pressure is {current['pressure']} hPa, percentage of cloud cover is {current['clouds']}%\\n\\\r\n",
    "The wind comes from {degrees_to_cardinal(current['wind_deg'])} direction with a speed {current['wind_speed']} m/s.\")"
   ]
  },
  {
   "cell_type": "code",
   "execution_count": 8,
   "metadata": {
    "execution": {
     "iopub.execute_input": "2021-08-28T15:15:52.191011Z",
     "iopub.status.busy": "2021-08-28T15:15:52.190401Z",
     "iopub.status.idle": "2021-08-28T15:15:52.199496Z",
     "shell.execute_reply": "2021-08-28T15:15:52.200308Z"
    }
   },
   "outputs": [],
   "source": [
    "df_hourly = pd.DataFrame(data['hourly'])\r\n",
    "df_daily = pd.DataFrame(data['daily'])"
   ]
  },
  {
   "cell_type": "code",
   "execution_count": 9,
   "metadata": {
    "execution": {
     "iopub.execute_input": "2021-08-28T15:15:52.204200Z",
     "iopub.status.busy": "2021-08-28T15:15:52.203062Z",
     "iopub.status.idle": "2021-08-28T15:15:52.559756Z",
     "shell.execute_reply": "2021-08-28T15:15:52.559181Z"
    }
   },
   "outputs": [
    {
     "data": {
      "image/png": "[encoded data removed]",
      "text/plain": [
       "<Figure size 864x432 with 1 Axes>"
      ]
     },
     "metadata": {
      "needs_background": "light"
     },
     "output_type": "display_data"
    }
   ],
   "source": [
    "fig, ax = plt.subplots(figsize=(12, 6))\r\n",
    "plt.plot(df_hourly.temp, '.-', label='Temperature')\r\n",
    "plt.plot(df_hourly.feels_like, '.-', label='Feels Like')\r\n",
    "ax.set(title='Temperature in future 48 hours', xlabel='Time', ylabel='Temperature')\r\n",
    "ax.set_xticks(list(range(0, len(df_hourly), 2)))\r\n",
    "ax.set_xticklabels([ts2dt(ts, '%m-%d %H:%M')[0] for i, ts in enumerate(df_hourly.dt) if i%2==0], \r\n",
    "                   rotation=45, ha=\"right\")\r\n",
    "ax.locator_params(nbins=15, axis='y')\r\n",
    "plt.legend()\r\n",
    "plt.show()"
   ]
  },
  {
   "cell_type": "code",
   "execution_count": 10,
   "metadata": {
    "execution": {
     "iopub.execute_input": "2021-08-28T15:15:52.565075Z",
     "iopub.status.busy": "2021-08-28T15:15:52.564421Z",
     "iopub.status.idle": "2021-08-28T15:15:52.587638Z",
     "shell.execute_reply": "2021-08-28T15:15:52.588419Z"
    }
   },
   "outputs": [
    {
     "data": {
      "text/html": [
       "<div>\n",
       "<style scoped>\n",
       "    .dataframe tbody tr th:only-of-type {\n",
       "        vertical-align: middle;\n",
       "    }\n",
       "\n",
       "    .dataframe tbody tr th {\n",
       "        vertical-align: top;\n",
       "    }\n",
       "\n",
       "    .dataframe thead th {\n",
       "        text-align: right;\n",
       "    }\n",
       "</style>\n",
       "<table border=\"1\" class=\"dataframe\">\n",
       "  <thead>\n",
       "    <tr style=\"text-align: right;\">\n",
       "      <th></th>\n",
       "      <th>dt</th>\n",
       "      <th>temp</th>\n",
       "      <th>feels_like</th>\n",
       "      <th>pressure</th>\n",
       "      <th>humidity</th>\n",
       "      <th>dew_point</th>\n",
       "      <th>uvi</th>\n",
       "      <th>clouds</th>\n",
       "      <th>visibility</th>\n",
       "      <th>wind_speed</th>\n",
       "      <th>wind_deg</th>\n",
       "      <th>wind_gust</th>\n",
       "      <th>weather</th>\n",
       "      <th>pop</th>\n",
       "      <th>rain</th>\n",
       "    </tr>\n",
       "  </thead>\n",
       "  <tbody>\n",
       "    <tr>\n",
       "      <th>0</th>\n",
       "      <td>1630162800</td>\n",
       "      <td>28.28</td>\n",
       "      <td>31.22</td>\n",
       "      <td>1012</td>\n",
       "      <td>70</td>\n",
       "      <td>22.28</td>\n",
       "      <td>0.0</td>\n",
       "      <td>41</td>\n",
       "      <td>10000</td>\n",
       "      <td>4.07</td>\n",
       "      <td>85</td>\n",
       "      <td>5.99</td>\n",
       "      <td>[{'id': 500, 'main': 'Rain', 'description': 'l...</td>\n",
       "      <td>0.69</td>\n",
       "      <td>{'1h': 0.8}</td>\n",
       "    </tr>\n",
       "    <tr>\n",
       "      <th>1</th>\n",
       "      <td>1630166400</td>\n",
       "      <td>28.17</td>\n",
       "      <td>31.29</td>\n",
       "      <td>1012</td>\n",
       "      <td>72</td>\n",
       "      <td>22.64</td>\n",
       "      <td>0.0</td>\n",
       "      <td>44</td>\n",
       "      <td>10000</td>\n",
       "      <td>4.16</td>\n",
       "      <td>77</td>\n",
       "      <td>6.09</td>\n",
       "      <td>[{'id': 802, 'main': 'Clouds', 'description': ...</td>\n",
       "      <td>0.65</td>\n",
       "      <td>NaN</td>\n",
       "    </tr>\n",
       "    <tr>\n",
       "      <th>2</th>\n",
       "      <td>1630170000</td>\n",
       "      <td>28.09</td>\n",
       "      <td>31.26</td>\n",
       "      <td>1012</td>\n",
       "      <td>73</td>\n",
       "      <td>22.79</td>\n",
       "      <td>0.0</td>\n",
       "      <td>51</td>\n",
       "      <td>10000</td>\n",
       "      <td>3.86</td>\n",
       "      <td>74</td>\n",
       "      <td>5.40</td>\n",
       "      <td>[{'id': 803, 'main': 'Clouds', 'description': ...</td>\n",
       "      <td>0.73</td>\n",
       "      <td>NaN</td>\n",
       "    </tr>\n",
       "    <tr>\n",
       "      <th>3</th>\n",
       "      <td>1630173600</td>\n",
       "      <td>27.89</td>\n",
       "      <td>31.11</td>\n",
       "      <td>1011</td>\n",
       "      <td>75</td>\n",
       "      <td>23.05</td>\n",
       "      <td>0.0</td>\n",
       "      <td>59</td>\n",
       "      <td>10000</td>\n",
       "      <td>3.70</td>\n",
       "      <td>69</td>\n",
       "      <td>4.97</td>\n",
       "      <td>[{'id': 500, 'main': 'Rain', 'description': 'l...</td>\n",
       "      <td>0.73</td>\n",
       "      <td>{'1h': 0.19}</td>\n",
       "    </tr>\n",
       "    <tr>\n",
       "      <th>4</th>\n",
       "      <td>1630177200</td>\n",
       "      <td>27.70</td>\n",
       "      <td>30.96</td>\n",
       "      <td>1010</td>\n",
       "      <td>77</td>\n",
       "      <td>23.30</td>\n",
       "      <td>0.0</td>\n",
       "      <td>88</td>\n",
       "      <td>10000</td>\n",
       "      <td>3.99</td>\n",
       "      <td>60</td>\n",
       "      <td>5.09</td>\n",
       "      <td>[{'id': 500, 'main': 'Rain', 'description': 'l...</td>\n",
       "      <td>0.65</td>\n",
       "      <td>{'1h': 0.18}</td>\n",
       "    </tr>\n",
       "  </tbody>\n",
       "</table>\n",
       "</div>"
      ],
      "text/plain": [
       "           dt   temp  feels_like  pressure  humidity  dew_point  uvi  clouds  \\\n",
       "0  1630162800  28.28       31.22      1012        70      22.28  0.0      41   \n",
       "1  1630166400  28.17       31.29      1012        72      22.64  0.0      44   \n",
       "2  1630170000  28.09       31.26      1012        73      22.79  0.0      51   \n",
       "3  1630173600  27.89       31.11      1011        75      23.05  0.0      59   \n",
       "4  1630177200  27.70       30.96      1010        77      23.30  0.0      88   \n",
       "\n",
       "   visibility  wind_speed  wind_deg  wind_gust  \\\n",
       "0       10000        4.07        85       5.99   \n",
       "1       10000        4.16        77       6.09   \n",
       "2       10000        3.86        74       5.40   \n",
       "3       10000        3.70        69       4.97   \n",
       "4       10000        3.99        60       5.09   \n",
       "\n",
       "                                             weather   pop          rain  \n",
       "0  [{'id': 500, 'main': 'Rain', 'description': 'l...  0.69   {'1h': 0.8}  \n",
       "1  [{'id': 802, 'main': 'Clouds', 'description': ...  0.65           NaN  \n",
       "2  [{'id': 803, 'main': 'Clouds', 'description': ...  0.73           NaN  \n",
       "3  [{'id': 500, 'main': 'Rain', 'description': 'l...  0.73  {'1h': 0.19}  \n",
       "4  [{'id': 500, 'main': 'Rain', 'description': 'l...  0.65  {'1h': 0.18}  "
      ]
     },
     "execution_count": 10,
     "metadata": {},
     "output_type": "execute_result"
    }
   ],
   "source": [
    "df_hourly.head()"
   ]
  },
  {
   "cell_type": "code",
   "execution_count": null,
   "metadata": {},
   "outputs": [],
   "source": []
  }
 ],
 "metadata": {
  "interpreter": {
   "hash": "c1b4cfe941b6d2466ad1fb5979e97da9cda8801728c8091b097ab734208fc00c"
  },
  "kernelspec": {
   "display_name": "Python 3.8.3 64-bit ('base': conda)",
   "name": "python3"
  },
  "language_info": {
   "codemirror_mode": {
    "name": "ipython",
    "version": 3
   },
   "file_extension": ".py",
   "mimetype": "text/x-python",
   "name": "python",
   "nbconvert_exporter": "python",
   "pygments_lexer": "ipython3",
   "version": "3.8.11"
  }
 },
 "nbformat": 4,
 "nbformat_minor": 2
}
