{
 "cells": [
  {
   "cell_type": "code",
   "execution_count": 1,
   "metadata": {
    "execution": {
     "iopub.execute_input": "2021-10-03T00:43:21.804663Z",
     "iopub.status.busy": "2021-10-03T00:43:21.803998Z",
     "iopub.status.idle": "2021-10-03T00:43:24.840918Z",
     "shell.execute_reply": "2021-10-03T00:43:24.840299Z"
    }
   },
   "outputs": [],
   "source": [
    "import json, yaml, requests\r\n",
    "from datetime import datetime\r\n",
    "from dateutil import tz\r\n",
    "import pandas as pd\r\n",
    "from PIL import Image\r\n",
    "from io import BytesIO\r\n",
    "import matplotlib.pyplot as plt\r\n",
    "import seaborn\r\n",
    "\r\n",
    "CONFIG_PATH = \"../config/config.yaml\""
   ]
  },
  {
   "cell_type": "code",
   "execution_count": 2,
   "metadata": {
    "execution": {
     "iopub.execute_input": "2021-10-03T00:43:24.848434Z",
     "iopub.status.busy": "2021-10-03T00:43:24.846816Z",
     "iopub.status.idle": "2021-10-03T00:43:24.853641Z",
     "shell.execute_reply": "2021-10-03T00:43:24.852771Z"
    }
   },
   "outputs": [],
   "source": [
    "with open('../newest_ts', 'r') as f:\r\n",
    "    newest_ts = f.read()\r\n",
    "\r\n",
    "data_path = f\"../data/data_{newest_ts}.json\"\r\n",
    "with open(data_path, 'r') as f:\r\n",
    "    data = json.load(f)\r\n",
    "\r\n",
    "with open(CONFIG_PATH, \"r\") as stream:\r\n",
    "    config = yaml.safe_load(stream)\r\n",
    "\r\n",
    "TIME_ZONE = config['time_zone']\r\n",
    "DATETIME_FORMAT = config['dt_format']"
   ]
  },
  {
   "cell_type": "code",
   "execution_count": 3,
   "metadata": {
    "execution": {
     "iopub.execute_input": "2021-10-03T00:43:24.858107Z",
     "iopub.status.busy": "2021-10-03T00:43:24.857555Z",
     "iopub.status.idle": "2021-10-03T00:43:24.893435Z",
     "shell.execute_reply": "2021-10-03T00:43:24.893923Z"
    }
   },
   "outputs": [
    {
     "name": "stdout",
     "output_type": "stream",
     "text": [
      "Recent query happens at 2021-10-03 08:43:17 (CST).\n"
     ]
    }
   ],
   "source": [
    "def ts2dt(ts, format=DATETIME_FORMAT):\r\n",
    "    dt = (datetime.utcfromtimestamp(int(ts))\r\n",
    "                    .replace(tzinfo=tz.tzutc())\r\n",
    "                    # .astimezone(tz.tzlocal())\r\n",
    "                    .astimezone(tz.gettz(TIME_ZONE)))\r\n",
    "    return dt.strftime(format), dt\r\n",
    "\r\n",
    "_, newest_dt = ts2dt(newest_ts)\r\n",
    "print(f\"Recent query happens at {newest_dt.strftime(DATETIME_FORMAT)} ({newest_dt.tzname()}).\")"
   ]
  },
  {
   "cell_type": "code",
   "execution_count": 4,
   "metadata": {
    "execution": {
     "iopub.execute_input": "2021-10-03T00:43:24.899754Z",
     "iopub.status.busy": "2021-10-03T00:43:24.898417Z",
     "iopub.status.idle": "2021-10-03T00:43:24.900353Z",
     "shell.execute_reply": "2021-10-03T00:43:24.900832Z"
    }
   },
   "outputs": [],
   "source": [
    "def degrees_to_cardinal(d):\r\n",
    "  dirs = ['N', 'NNE', 'NE', 'ENE', 'E', 'ESE', 'SE', 'SSE', 'S', 'SSW', 'SW', 'WSW', 'W', 'WNW', 'NW', 'NNW']\r\n",
    "  ix = int(round(d / (360. / len(dirs))))\r\n",
    "  return dirs[ix % len(dirs)]"
   ]
  },
  {
   "cell_type": "code",
   "execution_count": 5,
   "metadata": {
    "execution": {
     "iopub.execute_input": "2021-10-03T00:43:24.905159Z",
     "iopub.status.busy": "2021-10-03T00:43:24.904525Z",
     "iopub.status.idle": "2021-10-03T00:43:24.907286Z",
     "shell.execute_reply": "2021-10-03T00:43:24.906718Z"
    }
   },
   "outputs": [],
   "source": [
    "# data.keys()"
   ]
  },
  {
   "cell_type": "code",
   "execution_count": 6,
   "metadata": {
    "execution": {
     "iopub.execute_input": "2021-10-03T00:43:24.912012Z",
     "iopub.status.busy": "2021-10-03T00:43:24.910584Z",
     "iopub.status.idle": "2021-10-03T00:43:24.912655Z",
     "shell.execute_reply": "2021-10-03T00:43:24.913119Z"
    }
   },
   "outputs": [],
   "source": [
    "# data['current']"
   ]
  },
  {
   "cell_type": "code",
   "execution_count": 7,
   "metadata": {
    "execution": {
     "iopub.execute_input": "2021-10-03T00:43:24.934024Z",
     "iopub.status.busy": "2021-10-03T00:43:24.933337Z",
     "iopub.status.idle": "2021-10-03T00:43:25.354287Z",
     "shell.execute_reply": "2021-10-03T00:43:25.353792Z"
    }
   },
   "outputs": [
    {
     "data": {
      "image/png": "[encoded data removed]",
      "text/plain": [
       "<Figure size 216x216 with 1 Axes>"
      ]
     },
     "metadata": {
      "needs_background": "light"
     },
     "output_type": "display_data"
    },
    {
     "name": "stdout",
     "output_type": "stream",
     "text": [
      "Today, sun rises at 06:14 and sets at 18:09.\n",
      "Currently, the weather is Clouds (broken clouds).\n",
      "The temperature is 28.18°C and it feels like 33.41°C.\n",
      "The UV index is 2.81, humidity is 85%.\n",
      "The pressure is 1012 hPa, percentage of cloud cover is 66%\n",
      "The wind comes from SE direction with a speed 0.45 m/s.\n"
     ]
    }
   ],
   "source": [
    "current = data['current']\r\n",
    "\r\n",
    "fig, ax = plt.subplots(figsize=(3, 3))\r\n",
    "icon = requests.get(f\"http://openweathermap.org/img/wn/{current['weather'][0]['icon']}@2x.png\")\r\n",
    "im = Image.open(BytesIO(icon.content))\r\n",
    "plt.imshow(im)\r\n",
    "ax.set_axis_off()\r\n",
    "plt.show()\r\n",
    "\r\n",
    "print(f\"Today, sun rises at {ts2dt(current['sunrise'], '%H:%M')[0]} \\\r\n",
    "and sets at {ts2dt(current['sunset'], '%H:%M')[0]}.\\n\\\r\n",
    "Currently, the weather is {current['weather'][0]['main']} ({current['weather'][0]['description']}).\\n\\\r\n",
    "The temperature is {current['temp']}°C and it feels like {current['feels_like']}°C.\\n\\\r\n",
    "The UV index is {current['uvi']}, humidity is {current['humidity']}%.\\n\\\r\n",
    "The pressure is {current['pressure']} hPa, percentage of cloud cover is {current['clouds']}%\\n\\\r\n",
    "The wind comes from {degrees_to_cardinal(current['wind_deg'])} direction with a speed {current['wind_speed']} m/s.\")"
   ]
  },
  {
   "cell_type": "code",
   "execution_count": 8,
   "metadata": {
    "execution": {
     "iopub.execute_input": "2021-10-03T00:43:25.359826Z",
     "iopub.status.busy": "2021-10-03T00:43:25.359218Z",
     "iopub.status.idle": "2021-10-03T00:43:25.363717Z",
     "shell.execute_reply": "2021-10-03T00:43:25.364134Z"
    }
   },
   "outputs": [],
   "source": [
    "df_hourly = pd.DataFrame(data['hourly'])\r\n",
    "df_daily = pd.DataFrame(data['daily'])"
   ]
  },
  {
   "cell_type": "code",
   "execution_count": 9,
   "metadata": {
    "execution": {
     "iopub.execute_input": "2021-10-03T00:43:25.381863Z",
     "iopub.status.busy": "2021-10-03T00:43:25.372009Z",
     "iopub.status.idle": "2021-10-03T00:43:25.678409Z",
     "shell.execute_reply": "2021-10-03T00:43:25.678829Z"
    }
   },
   "outputs": [
    {
     "data": {
      "image/png": "[encoded data removed]",
      "text/plain": [
       "<Figure size 864x432 with 1 Axes>"
      ]
     },
     "metadata": {
      "needs_background": "light"
     },
     "output_type": "display_data"
    }
   ],
   "source": [
    "fig, ax = plt.subplots(figsize=(12, 6))\r\n",
    "plt.plot(df_hourly.temp, '.-', label='Temperature')\r\n",
    "plt.plot(df_hourly.feels_like, '.-', label='Feels Like')\r\n",
    "ax.set(title='Temperature in future 48 hours', xlabel='Time', ylabel='Temperature')\r\n",
    "ax.set_xticks(list(range(0, len(df_hourly), 2)))\r\n",
    "ax.set_xticklabels([ts2dt(ts, '%m-%d %H:%M')[0] for i, ts in enumerate(df_hourly.dt) if i%2==0], \r\n",
    "                   rotation=45, ha=\"right\")\r\n",
    "ax.locator_params(nbins=15, axis='y')\r\n",
    "plt.legend()\r\n",
    "plt.show()"
   ]
  },
  {
   "cell_type": "code",
   "execution_count": 10,
   "metadata": {
    "execution": {
     "iopub.execute_input": "2021-10-03T00:43:25.692038Z",
     "iopub.status.busy": "2021-10-03T00:43:25.683499Z",
     "iopub.status.idle": "2021-10-03T00:43:25.705695Z",
     "shell.execute_reply": "2021-10-03T00:43:25.706085Z"
    }
   },
   "outputs": [
    {
     "data": {
      "text/html": [
       "<div>\n",
       "<style scoped>\n",
       "    .dataframe tbody tr th:only-of-type {\n",
       "        vertical-align: middle;\n",
       "    }\n",
       "\n",
       "    .dataframe tbody tr th {\n",
       "        vertical-align: top;\n",
       "    }\n",
       "\n",
       "    .dataframe thead th {\n",
       "        text-align: right;\n",
       "    }\n",
       "</style>\n",
       "<table border=\"1\" class=\"dataframe\">\n",
       "  <thead>\n",
       "    <tr style=\"text-align: right;\">\n",
       "      <th></th>\n",
       "      <th>dt</th>\n",
       "      <th>temp</th>\n",
       "      <th>feels_like</th>\n",
       "      <th>pressure</th>\n",
       "      <th>humidity</th>\n",
       "      <th>dew_point</th>\n",
       "      <th>uvi</th>\n",
       "      <th>clouds</th>\n",
       "      <th>visibility</th>\n",
       "      <th>wind_speed</th>\n",
       "      <th>wind_deg</th>\n",
       "      <th>wind_gust</th>\n",
       "      <th>weather</th>\n",
       "      <th>pop</th>\n",
       "      <th>rain</th>\n",
       "    </tr>\n",
       "  </thead>\n",
       "  <tbody>\n",
       "    <tr>\n",
       "      <th>0</th>\n",
       "      <td>1633219200</td>\n",
       "      <td>28.07</td>\n",
       "      <td>32.76</td>\n",
       "      <td>1012</td>\n",
       "      <td>83</td>\n",
       "      <td>24.91</td>\n",
       "      <td>0.94</td>\n",
       "      <td>56</td>\n",
       "      <td>10000</td>\n",
       "      <td>5.96</td>\n",
       "      <td>89</td>\n",
       "      <td>7.36</td>\n",
       "      <td>[{'id': 500, 'main': 'Rain', 'description': 'l...</td>\n",
       "      <td>0.98</td>\n",
       "      <td>{'1h': 0.66}</td>\n",
       "    </tr>\n",
       "    <tr>\n",
       "      <th>1</th>\n",
       "      <td>1633222800</td>\n",
       "      <td>28.18</td>\n",
       "      <td>33.41</td>\n",
       "      <td>1012</td>\n",
       "      <td>85</td>\n",
       "      <td>25.42</td>\n",
       "      <td>2.81</td>\n",
       "      <td>66</td>\n",
       "      <td>10000</td>\n",
       "      <td>6.38</td>\n",
       "      <td>90</td>\n",
       "      <td>7.68</td>\n",
       "      <td>[{'id': 803, 'main': 'Clouds', 'description': ...</td>\n",
       "      <td>0.70</td>\n",
       "      <td>NaN</td>\n",
       "    </tr>\n",
       "    <tr>\n",
       "      <th>2</th>\n",
       "      <td>1633226400</td>\n",
       "      <td>28.27</td>\n",
       "      <td>33.13</td>\n",
       "      <td>1012</td>\n",
       "      <td>82</td>\n",
       "      <td>24.90</td>\n",
       "      <td>5.41</td>\n",
       "      <td>69</td>\n",
       "      <td>10000</td>\n",
       "      <td>6.63</td>\n",
       "      <td>93</td>\n",
       "      <td>7.76</td>\n",
       "      <td>[{'id': 500, 'main': 'Rain', 'description': 'l...</td>\n",
       "      <td>0.75</td>\n",
       "      <td>{'1h': 0.18}</td>\n",
       "    </tr>\n",
       "    <tr>\n",
       "      <th>3</th>\n",
       "      <td>1633230000</td>\n",
       "      <td>28.51</td>\n",
       "      <td>33.23</td>\n",
       "      <td>1013</td>\n",
       "      <td>79</td>\n",
       "      <td>24.51</td>\n",
       "      <td>7.91</td>\n",
       "      <td>71</td>\n",
       "      <td>10000</td>\n",
       "      <td>6.78</td>\n",
       "      <td>97</td>\n",
       "      <td>7.65</td>\n",
       "      <td>[{'id': 500, 'main': 'Rain', 'description': 'l...</td>\n",
       "      <td>0.71</td>\n",
       "      <td>{'1h': 1}</td>\n",
       "    </tr>\n",
       "    <tr>\n",
       "      <th>4</th>\n",
       "      <td>1633233600</td>\n",
       "      <td>28.75</td>\n",
       "      <td>33.27</td>\n",
       "      <td>1013</td>\n",
       "      <td>76</td>\n",
       "      <td>24.10</td>\n",
       "      <td>9.21</td>\n",
       "      <td>73</td>\n",
       "      <td>10000</td>\n",
       "      <td>6.65</td>\n",
       "      <td>102</td>\n",
       "      <td>7.56</td>\n",
       "      <td>[{'id': 803, 'main': 'Clouds', 'description': ...</td>\n",
       "      <td>0.67</td>\n",
       "      <td>NaN</td>\n",
       "    </tr>\n",
       "  </tbody>\n",
       "</table>\n",
       "</div>"
      ],
      "text/plain": [
       "           dt   temp  feels_like  pressure  humidity  dew_point   uvi  clouds  \\\n",
       "0  1633219200  28.07       32.76      1012        83      24.91  0.94      56   \n",
       "1  1633222800  28.18       33.41      1012        85      25.42  2.81      66   \n",
       "2  1633226400  28.27       33.13      1012        82      24.90  5.41      69   \n",
       "3  1633230000  28.51       33.23      1013        79      24.51  7.91      71   \n",
       "4  1633233600  28.75       33.27      1013        76      24.10  9.21      73   \n",
       "\n",
       "   visibility  wind_speed  wind_deg  wind_gust  \\\n",
       "0       10000        5.96        89       7.36   \n",
       "1       10000        6.38        90       7.68   \n",
       "2       10000        6.63        93       7.76   \n",
       "3       10000        6.78        97       7.65   \n",
       "4       10000        6.65       102       7.56   \n",
       "\n",
       "                                             weather   pop          rain  \n",
       "0  [{'id': 500, 'main': 'Rain', 'description': 'l...  0.98  {'1h': 0.66}  \n",
       "1  [{'id': 803, 'main': 'Clouds', 'description': ...  0.70           NaN  \n",
       "2  [{'id': 500, 'main': 'Rain', 'description': 'l...  0.75  {'1h': 0.18}  \n",
       "3  [{'id': 500, 'main': 'Rain', 'description': 'l...  0.71     {'1h': 1}  \n",
       "4  [{'id': 803, 'main': 'Clouds', 'description': ...  0.67           NaN  "
      ]
     },
     "execution_count": 10,
     "metadata": {},
     "output_type": "execute_result"
    }
   ],
   "source": [
    "df_hourly.head()"
   ]
  },
  {
   "cell_type": "code",
   "execution_count": null,
   "metadata": {},
   "outputs": [],
   "source": []
  }
 ],
 "metadata": {
  "interpreter": {
   "hash": "c1b4cfe941b6d2466ad1fb5979e97da9cda8801728c8091b097ab734208fc00c"
  },
  "kernelspec": {
   "display_name": "Python 3.8.3 64-bit ('base': conda)",
   "name": "python3"
  },
  "language_info": {
   "codemirror_mode": {
    "name": "ipython",
    "version": 3
   },
   "file_extension": ".py",
   "mimetype": "text/x-python",
   "name": "python",
   "nbconvert_exporter": "python",
   "pygments_lexer": "ipython3",
   "version": "3.8.12"
  }
 },
 "nbformat": 4,
 "nbformat_minor": 2
}
