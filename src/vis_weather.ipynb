{
 "cells": [
  {
   "cell_type": "code",
   "execution_count": 1,
   "metadata": {
    "execution": {
     "iopub.execute_input": "2021-09-07T00:48:32.804674Z",
     "iopub.status.busy": "2021-09-07T00:48:32.803975Z",
     "iopub.status.idle": "2021-09-07T00:48:34.247690Z",
     "shell.execute_reply": "2021-09-07T00:48:34.248227Z"
    }
   },
   "outputs": [],
   "source": [
    "import json, yaml, requests\r\n",
    "from datetime import datetime\r\n",
    "from dateutil import tz\r\n",
    "import pandas as pd\r\n",
    "from PIL import Image\r\n",
    "from io import BytesIO\r\n",
    "import matplotlib.pyplot as plt\r\n",
    "import seaborn\r\n",
    "\r\n",
    "CONFIG_PATH = \"../config/config.yaml\""
   ]
  },
  {
   "cell_type": "code",
   "execution_count": 2,
   "metadata": {
    "execution": {
     "iopub.execute_input": "2021-09-07T00:48:34.256629Z",
     "iopub.status.busy": "2021-09-07T00:48:34.253582Z",
     "iopub.status.idle": "2021-09-07T00:48:34.259791Z",
     "shell.execute_reply": "2021-09-07T00:48:34.258981Z"
    }
   },
   "outputs": [],
   "source": [
    "with open('../newest_ts', 'r') as f:\r\n",
    "    newest_ts = f.read()\r\n",
    "\r\n",
    "data_path = f\"../data/data_{newest_ts}.json\"\r\n",
    "with open(data_path, 'r') as f:\r\n",
    "    data = json.load(f)\r\n",
    "\r\n",
    "with open(CONFIG_PATH, \"r\") as stream:\r\n",
    "    config = yaml.safe_load(stream)\r\n",
    "\r\n",
    "TIME_ZONE = config['time_zone']\r\n",
    "DATETIME_FORMAT = config['dt_format']"
   ]
  },
  {
   "cell_type": "code",
   "execution_count": 3,
   "metadata": {
    "execution": {
     "iopub.execute_input": "2021-09-07T00:48:34.264818Z",
     "iopub.status.busy": "2021-09-07T00:48:34.264279Z",
     "iopub.status.idle": "2021-09-07T00:48:34.270017Z",
     "shell.execute_reply": "2021-09-07T00:48:34.269556Z"
    }
   },
   "outputs": [
    {
     "name": "stdout",
     "output_type": "stream",
     "text": [
      "Recent query happens at 2021-09-07 08:48:30 (CST).\n"
     ]
    }
   ],
   "source": [
    "def ts2dt(ts, format=DATETIME_FORMAT):\r\n",
    "    dt = (datetime.utcfromtimestamp(int(ts))\r\n",
    "                    .replace(tzinfo=tz.tzutc())\r\n",
    "                    # .astimezone(tz.tzlocal())\r\n",
    "                    .astimezone(tz.gettz(TIME_ZONE)))\r\n",
    "    return dt.strftime(format), dt\r\n",
    "\r\n",
    "_, newest_dt = ts2dt(newest_ts)\r\n",
    "print(f\"Recent query happens at {newest_dt.strftime(DATETIME_FORMAT)} ({newest_dt.tzname()}).\")"
   ]
  },
  {
   "cell_type": "code",
   "execution_count": 4,
   "metadata": {
    "execution": {
     "iopub.execute_input": "2021-09-07T00:48:34.275635Z",
     "iopub.status.busy": "2021-09-07T00:48:34.274336Z",
     "iopub.status.idle": "2021-09-07T00:48:34.276241Z",
     "shell.execute_reply": "2021-09-07T00:48:34.276672Z"
    }
   },
   "outputs": [],
   "source": [
    "def degrees_to_cardinal(d):\r\n",
    "  dirs = ['N', 'NNE', 'NE', 'ENE', 'E', 'ESE', 'SE', 'SSE', 'S', 'SSW', 'SW', 'WSW', 'W', 'WNW', 'NW', 'NNW']\r\n",
    "  ix = int(round(d / (360. / len(dirs))))\r\n",
    "  return dirs[ix % len(dirs)]"
   ]
  },
  {
   "cell_type": "code",
   "execution_count": 5,
   "metadata": {
    "execution": {
     "iopub.execute_input": "2021-09-07T00:48:34.281238Z",
     "iopub.status.busy": "2021-09-07T00:48:34.280066Z",
     "iopub.status.idle": "2021-09-07T00:48:34.281870Z",
     "shell.execute_reply": "2021-09-07T00:48:34.282303Z"
    }
   },
   "outputs": [],
   "source": [
    "# data.keys()"
   ]
  },
  {
   "cell_type": "code",
   "execution_count": 6,
   "metadata": {
    "execution": {
     "iopub.execute_input": "2021-09-07T00:48:34.286815Z",
     "iopub.status.busy": "2021-09-07T00:48:34.285450Z",
     "iopub.status.idle": "2021-09-07T00:48:34.287423Z",
     "shell.execute_reply": "2021-09-07T00:48:34.287858Z"
    }
   },
   "outputs": [],
   "source": [
    "# data['current']"
   ]
  },
  {
   "cell_type": "code",
   "execution_count": 7,
   "metadata": {
    "execution": {
     "iopub.execute_input": "2021-09-07T00:48:34.306777Z",
     "iopub.status.busy": "2021-09-07T00:48:34.306217Z",
     "iopub.status.idle": "2021-09-07T00:48:34.731353Z",
     "shell.execute_reply": "2021-09-07T00:48:34.731878Z"
    }
   },
   "outputs": [
    {
     "data": {
      "image/png": "[encoded data removed]",
      "text/plain": [
       "<Figure size 216x216 with 1 Axes>"
      ]
     },
     "metadata": {
      "needs_background": "light"
     },
     "output_type": "display_data"
    },
    {
     "name": "stdout",
     "output_type": "stream",
     "text": [
      "Today, sun rises at 06:07 and sets at 18:34.\n",
      "Currently, the weather is Clouds (broken clouds).\n",
      "The temperature is 29.66°C and it feels like 36.64°C.\n",
      "The UV index is 3.79, humidity is 80%.\n",
      "The pressure is 1011 hPa, percentage of cloud cover is 59%\n",
      "The wind comes from ENE direction with a speed 6 m/s.\n"
     ]
    }
   ],
   "source": [
    "current = data['current']\r\n",
    "\r\n",
    "fig, ax = plt.subplots(figsize=(3, 3))\r\n",
    "icon = requests.get(f\"http://openweathermap.org/img/wn/{current['weather'][0]['icon']}@2x.png\")\r\n",
    "im = Image.open(BytesIO(icon.content))\r\n",
    "plt.imshow(im)\r\n",
    "ax.set_axis_off()\r\n",
    "plt.show()\r\n",
    "\r\n",
    "print(f\"Today, sun rises at {ts2dt(current['sunrise'], '%H:%M')[0]} \\\r\n",
    "and sets at {ts2dt(current['sunset'], '%H:%M')[0]}.\\n\\\r\n",
    "Currently, the weather is {current['weather'][0]['main']} ({current['weather'][0]['description']}).\\n\\\r\n",
    "The temperature is {current['temp']}°C and it feels like {current['feels_like']}°C.\\n\\\r\n",
    "The UV index is {current['uvi']}, humidity is {current['humidity']}%.\\n\\\r\n",
    "The pressure is {current['pressure']} hPa, percentage of cloud cover is {current['clouds']}%\\n\\\r\n",
    "The wind comes from {degrees_to_cardinal(current['wind_deg'])} direction with a speed {current['wind_speed']} m/s.\")"
   ]
  },
  {
   "cell_type": "code",
   "execution_count": 8,
   "metadata": {
    "execution": {
     "iopub.execute_input": "2021-09-07T00:48:34.734753Z",
     "iopub.status.busy": "2021-09-07T00:48:34.734225Z",
     "iopub.status.idle": "2021-09-07T00:48:34.740310Z",
     "shell.execute_reply": "2021-09-07T00:48:34.740812Z"
    }
   },
   "outputs": [],
   "source": [
    "df_hourly = pd.DataFrame(data['hourly'])\r\n",
    "df_daily = pd.DataFrame(data['daily'])"
   ]
  },
  {
   "cell_type": "code",
   "execution_count": 9,
   "metadata": {
    "execution": {
     "iopub.execute_input": "2021-09-07T00:48:34.743237Z",
     "iopub.status.busy": "2021-09-07T00:48:34.742710Z",
     "iopub.status.idle": "2021-09-07T00:48:35.022390Z",
     "shell.execute_reply": "2021-09-07T00:48:35.022887Z"
    }
   },
   "outputs": [
    {
     "data": {
      "image/png": "[encoded data removed]",
      "text/plain": [
       "<Figure size 864x432 with 1 Axes>"
      ]
     },
     "metadata": {
      "needs_background": "light"
     },
     "output_type": "display_data"
    }
   ],
   "source": [
    "fig, ax = plt.subplots(figsize=(12, 6))\r\n",
    "plt.plot(df_hourly.temp, '.-', label='Temperature')\r\n",
    "plt.plot(df_hourly.feels_like, '.-', label='Feels Like')\r\n",
    "ax.set(title='Temperature in future 48 hours', xlabel='Time', ylabel='Temperature')\r\n",
    "ax.set_xticks(list(range(0, len(df_hourly), 2)))\r\n",
    "ax.set_xticklabels([ts2dt(ts, '%m-%d %H:%M')[0] for i, ts in enumerate(df_hourly.dt) if i%2==0], \r\n",
    "                   rotation=45, ha=\"right\")\r\n",
    "ax.locator_params(nbins=15, axis='y')\r\n",
    "plt.legend()\r\n",
    "plt.show()"
   ]
  },
  {
   "cell_type": "code",
   "execution_count": 10,
   "metadata": {
    "execution": {
     "iopub.execute_input": "2021-09-07T00:48:35.027683Z",
     "iopub.status.busy": "2021-09-07T00:48:35.027154Z",
     "iopub.status.idle": "2021-09-07T00:48:35.046956Z",
     "shell.execute_reply": "2021-09-07T00:48:35.046501Z"
    }
   },
   "outputs": [
    {
     "data": {
      "text/html": [
       "<div>\n",
       "<style scoped>\n",
       "    .dataframe tbody tr th:only-of-type {\n",
       "        vertical-align: middle;\n",
       "    }\n",
       "\n",
       "    .dataframe tbody tr th {\n",
       "        vertical-align: top;\n",
       "    }\n",
       "\n",
       "    .dataframe thead th {\n",
       "        text-align: right;\n",
       "    }\n",
       "</style>\n",
       "<table border=\"1\" class=\"dataframe\">\n",
       "  <thead>\n",
       "    <tr style=\"text-align: right;\">\n",
       "      <th></th>\n",
       "      <th>dt</th>\n",
       "      <th>temp</th>\n",
       "      <th>feels_like</th>\n",
       "      <th>pressure</th>\n",
       "      <th>humidity</th>\n",
       "      <th>dew_point</th>\n",
       "      <th>uvi</th>\n",
       "      <th>clouds</th>\n",
       "      <th>visibility</th>\n",
       "      <th>wind_speed</th>\n",
       "      <th>wind_deg</th>\n",
       "      <th>wind_gust</th>\n",
       "      <th>weather</th>\n",
       "      <th>pop</th>\n",
       "      <th>rain</th>\n",
       "    </tr>\n",
       "  </thead>\n",
       "  <tbody>\n",
       "    <tr>\n",
       "      <th>0</th>\n",
       "      <td>1630972800</td>\n",
       "      <td>29.31</td>\n",
       "      <td>35.86</td>\n",
       "      <td>1011</td>\n",
       "      <td>81</td>\n",
       "      <td>25.71</td>\n",
       "      <td>1.45</td>\n",
       "      <td>67</td>\n",
       "      <td>10000</td>\n",
       "      <td>5.99</td>\n",
       "      <td>72</td>\n",
       "      <td>7.64</td>\n",
       "      <td>[{'id': 500, 'main': 'Rain', 'description': 'l...</td>\n",
       "      <td>0.74</td>\n",
       "      <td>{'1h': 0.24}</td>\n",
       "    </tr>\n",
       "    <tr>\n",
       "      <th>1</th>\n",
       "      <td>1630976400</td>\n",
       "      <td>29.66</td>\n",
       "      <td>36.64</td>\n",
       "      <td>1011</td>\n",
       "      <td>80</td>\n",
       "      <td>25.84</td>\n",
       "      <td>3.79</td>\n",
       "      <td>59</td>\n",
       "      <td>10000</td>\n",
       "      <td>6.00</td>\n",
       "      <td>70</td>\n",
       "      <td>7.44</td>\n",
       "      <td>[{'id': 803, 'main': 'Clouds', 'description': ...</td>\n",
       "      <td>0.50</td>\n",
       "      <td>NaN</td>\n",
       "    </tr>\n",
       "    <tr>\n",
       "      <th>2</th>\n",
       "      <td>1630980000</td>\n",
       "      <td>29.54</td>\n",
       "      <td>36.03</td>\n",
       "      <td>1011</td>\n",
       "      <td>79</td>\n",
       "      <td>25.51</td>\n",
       "      <td>6.88</td>\n",
       "      <td>60</td>\n",
       "      <td>10000</td>\n",
       "      <td>6.07</td>\n",
       "      <td>72</td>\n",
       "      <td>7.21</td>\n",
       "      <td>[{'id': 803, 'main': 'Clouds', 'description': ...</td>\n",
       "      <td>0.46</td>\n",
       "      <td>NaN</td>\n",
       "    </tr>\n",
       "    <tr>\n",
       "      <th>3</th>\n",
       "      <td>1630983600</td>\n",
       "      <td>29.61</td>\n",
       "      <td>35.98</td>\n",
       "      <td>1011</td>\n",
       "      <td>78</td>\n",
       "      <td>25.36</td>\n",
       "      <td>9.76</td>\n",
       "      <td>55</td>\n",
       "      <td>10000</td>\n",
       "      <td>6.16</td>\n",
       "      <td>75</td>\n",
       "      <td>7.20</td>\n",
       "      <td>[{'id': 803, 'main': 'Clouds', 'description': ...</td>\n",
       "      <td>0.57</td>\n",
       "      <td>NaN</td>\n",
       "    </tr>\n",
       "    <tr>\n",
       "      <th>4</th>\n",
       "      <td>1630987200</td>\n",
       "      <td>29.72</td>\n",
       "      <td>35.79</td>\n",
       "      <td>1011</td>\n",
       "      <td>76</td>\n",
       "      <td>25.03</td>\n",
       "      <td>11.19</td>\n",
       "      <td>49</td>\n",
       "      <td>10000</td>\n",
       "      <td>5.87</td>\n",
       "      <td>82</td>\n",
       "      <td>6.82</td>\n",
       "      <td>[{'id': 500, 'main': 'Rain', 'description': 'l...</td>\n",
       "      <td>0.61</td>\n",
       "      <td>{'1h': 0.15}</td>\n",
       "    </tr>\n",
       "  </tbody>\n",
       "</table>\n",
       "</div>"
      ],
      "text/plain": [
       "           dt   temp  feels_like  pressure  humidity  dew_point    uvi  \\\n",
       "0  1630972800  29.31       35.86      1011        81      25.71   1.45   \n",
       "1  1630976400  29.66       36.64      1011        80      25.84   3.79   \n",
       "2  1630980000  29.54       36.03      1011        79      25.51   6.88   \n",
       "3  1630983600  29.61       35.98      1011        78      25.36   9.76   \n",
       "4  1630987200  29.72       35.79      1011        76      25.03  11.19   \n",
       "\n",
       "   clouds  visibility  wind_speed  wind_deg  wind_gust  \\\n",
       "0      67       10000        5.99        72       7.64   \n",
       "1      59       10000        6.00        70       7.44   \n",
       "2      60       10000        6.07        72       7.21   \n",
       "3      55       10000        6.16        75       7.20   \n",
       "4      49       10000        5.87        82       6.82   \n",
       "\n",
       "                                             weather   pop          rain  \n",
       "0  [{'id': 500, 'main': 'Rain', 'description': 'l...  0.74  {'1h': 0.24}  \n",
       "1  [{'id': 803, 'main': 'Clouds', 'description': ...  0.50           NaN  \n",
       "2  [{'id': 803, 'main': 'Clouds', 'description': ...  0.46           NaN  \n",
       "3  [{'id': 803, 'main': 'Clouds', 'description': ...  0.57           NaN  \n",
       "4  [{'id': 500, 'main': 'Rain', 'description': 'l...  0.61  {'1h': 0.15}  "
      ]
     },
     "execution_count": 10,
     "metadata": {},
     "output_type": "execute_result"
    }
   ],
   "source": [
    "df_hourly.head()"
   ]
  },
  {
   "cell_type": "code",
   "execution_count": null,
   "metadata": {},
   "outputs": [],
   "source": []
  }
 ],
 "metadata": {
  "interpreter": {
   "hash": "c1b4cfe941b6d2466ad1fb5979e97da9cda8801728c8091b097ab734208fc00c"
  },
  "kernelspec": {
   "display_name": "Python 3.8.3 64-bit ('base': conda)",
   "name": "python3"
  },
  "language_info": {
   "codemirror_mode": {
    "name": "ipython",
    "version": 3
   },
   "file_extension": ".py",
   "mimetype": "text/x-python",
   "name": "python",
   "nbconvert_exporter": "python",
   "pygments_lexer": "ipython3",
   "version": "3.8.11"
  }
 },
 "nbformat": 4,
 "nbformat_minor": 2
}
