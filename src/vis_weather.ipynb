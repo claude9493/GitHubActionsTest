{
 "cells": [
  {
   "cell_type": "code",
   "execution_count": 1,
   "metadata": {
    "execution": {
     "iopub.execute_input": "2021-09-04T00:50:30.682981Z",
     "iopub.status.busy": "2021-09-04T00:50:30.682254Z",
     "iopub.status.idle": "2021-09-04T00:50:33.899548Z",
     "shell.execute_reply": "2021-09-04T00:50:33.900044Z"
    }
   },
   "outputs": [],
   "source": [
    "import json, yaml, requests\r\n",
    "from datetime import datetime\r\n",
    "from dateutil import tz\r\n",
    "import pandas as pd\r\n",
    "from PIL import Image\r\n",
    "from io import BytesIO\r\n",
    "import matplotlib.pyplot as plt\r\n",
    "import seaborn\r\n",
    "\r\n",
    "CONFIG_PATH = \"../config/config.yaml\""
   ]
  },
  {
   "cell_type": "code",
   "execution_count": 2,
   "metadata": {
    "execution": {
     "iopub.execute_input": "2021-09-04T00:50:33.906074Z",
     "iopub.status.busy": "2021-09-04T00:50:33.905457Z",
     "iopub.status.idle": "2021-09-04T00:50:33.911851Z",
     "shell.execute_reply": "2021-09-04T00:50:33.910951Z"
    }
   },
   "outputs": [],
   "source": [
    "with open('../newest_ts', 'r') as f:\r\n",
    "    newest_ts = f.read()\r\n",
    "\r\n",
    "data_path = f\"../data/data_{newest_ts}.json\"\r\n",
    "with open(data_path, 'r') as f:\r\n",
    "    data = json.load(f)\r\n",
    "\r\n",
    "with open(CONFIG_PATH, \"r\") as stream:\r\n",
    "    config = yaml.safe_load(stream)\r\n",
    "\r\n",
    "TIME_ZONE = config['time_zone']\r\n",
    "DATETIME_FORMAT = config['dt_format']"
   ]
  },
  {
   "cell_type": "code",
   "execution_count": 3,
   "metadata": {
    "execution": {
     "iopub.execute_input": "2021-09-04T00:50:33.916956Z",
     "iopub.status.busy": "2021-09-04T00:50:33.916308Z",
     "iopub.status.idle": "2021-09-04T00:50:33.928735Z",
     "shell.execute_reply": "2021-09-04T00:50:33.929241Z"
    }
   },
   "outputs": [
    {
     "name": "stdout",
     "output_type": "stream",
     "text": [
      "Recent query happens at 2021-09-04 08:50:27 (CST).\n"
     ]
    }
   ],
   "source": [
    "def ts2dt(ts, format=DATETIME_FORMAT):\r\n",
    "    dt = (datetime.utcfromtimestamp(int(ts))\r\n",
    "                    .replace(tzinfo=tz.tzutc())\r\n",
    "                    # .astimezone(tz.tzlocal())\r\n",
    "                    .astimezone(tz.gettz(TIME_ZONE)))\r\n",
    "    return dt.strftime(format), dt\r\n",
    "\r\n",
    "_, newest_dt = ts2dt(newest_ts)\r\n",
    "print(f\"Recent query happens at {newest_dt.strftime(DATETIME_FORMAT)} ({newest_dt.tzname()}).\")"
   ]
  },
  {
   "cell_type": "code",
   "execution_count": 4,
   "metadata": {
    "execution": {
     "iopub.execute_input": "2021-09-04T00:50:33.934871Z",
     "iopub.status.busy": "2021-09-04T00:50:33.933529Z",
     "iopub.status.idle": "2021-09-04T00:50:33.935859Z",
     "shell.execute_reply": "2021-09-04T00:50:33.936331Z"
    }
   },
   "outputs": [],
   "source": [
    "def degrees_to_cardinal(d):\r\n",
    "  dirs = ['N', 'NNE', 'NE', 'ENE', 'E', 'ESE', 'SE', 'SSE', 'S', 'SSW', 'SW', 'WSW', 'W', 'WNW', 'NW', 'NNW']\r\n",
    "  ix = int(round(d / (360. / len(dirs))))\r\n",
    "  return dirs[ix % len(dirs)]"
   ]
  },
  {
   "cell_type": "code",
   "execution_count": 5,
   "metadata": {
    "execution": {
     "iopub.execute_input": "2021-09-04T00:50:33.941566Z",
     "iopub.status.busy": "2021-09-04T00:50:33.940126Z",
     "iopub.status.idle": "2021-09-04T00:50:33.942197Z",
     "shell.execute_reply": "2021-09-04T00:50:33.942683Z"
    }
   },
   "outputs": [],
   "source": [
    "# data.keys()"
   ]
  },
  {
   "cell_type": "code",
   "execution_count": 6,
   "metadata": {
    "execution": {
     "iopub.execute_input": "2021-09-04T00:50:33.947183Z",
     "iopub.status.busy": "2021-09-04T00:50:33.945920Z",
     "iopub.status.idle": "2021-09-04T00:50:33.947850Z",
     "shell.execute_reply": "2021-09-04T00:50:33.948428Z"
    }
   },
   "outputs": [],
   "source": [
    "# data['current']"
   ]
  },
  {
   "cell_type": "code",
   "execution_count": 7,
   "metadata": {
    "execution": {
     "iopub.execute_input": "2021-09-04T00:50:33.970712Z",
     "iopub.status.busy": "2021-09-04T00:50:33.970066Z",
     "iopub.status.idle": "2021-09-04T00:50:34.433596Z",
     "shell.execute_reply": "2021-09-04T00:50:34.434379Z"
    }
   },
   "outputs": [
    {
     "data": {
      "image/png": "[encoded data removed]",
      "text/plain": [
       "<Figure size 216x216 with 1 Axes>"
      ]
     },
     "metadata": {
      "needs_background": "light"
     },
     "output_type": "display_data"
    },
    {
     "name": "stdout",
     "output_type": "stream",
     "text": [
      "Today, sun rises at 06:06 and sets at 18:37.\n",
      "Currently, the weather is Rain (light rain).\n",
      "The temperature is 29.22°C and it feels like 36.07°C.\n",
      "The UV index is 3.81, humidity is 83%.\n",
      "The pressure is 1009 hPa, percentage of cloud cover is 8%\n",
      "The wind comes from SE direction with a speed 1.04 m/s.\n"
     ]
    }
   ],
   "source": [
    "current = data['current']\r\n",
    "\r\n",
    "fig, ax = plt.subplots(figsize=(3, 3))\r\n",
    "icon = requests.get(f\"http://openweathermap.org/img/wn/{current['weather'][0]['icon']}@2x.png\")\r\n",
    "im = Image.open(BytesIO(icon.content))\r\n",
    "plt.imshow(im)\r\n",
    "ax.set_axis_off()\r\n",
    "plt.show()\r\n",
    "\r\n",
    "print(f\"Today, sun rises at {ts2dt(current['sunrise'], '%H:%M')[0]} \\\r\n",
    "and sets at {ts2dt(current['sunset'], '%H:%M')[0]}.\\n\\\r\n",
    "Currently, the weather is {current['weather'][0]['main']} ({current['weather'][0]['description']}).\\n\\\r\n",
    "The temperature is {current['temp']}°C and it feels like {current['feels_like']}°C.\\n\\\r\n",
    "The UV index is {current['uvi']}, humidity is {current['humidity']}%.\\n\\\r\n",
    "The pressure is {current['pressure']} hPa, percentage of cloud cover is {current['clouds']}%\\n\\\r\n",
    "The wind comes from {degrees_to_cardinal(current['wind_deg'])} direction with a speed {current['wind_speed']} m/s.\")"
   ]
  },
  {
   "cell_type": "code",
   "execution_count": 8,
   "metadata": {
    "execution": {
     "iopub.execute_input": "2021-09-04T00:50:34.438162Z",
     "iopub.status.busy": "2021-09-04T00:50:34.437569Z",
     "iopub.status.idle": "2021-09-04T00:50:34.446852Z",
     "shell.execute_reply": "2021-09-04T00:50:34.447772Z"
    }
   },
   "outputs": [],
   "source": [
    "df_hourly = pd.DataFrame(data['hourly'])\r\n",
    "df_daily = pd.DataFrame(data['daily'])"
   ]
  },
  {
   "cell_type": "code",
   "execution_count": 9,
   "metadata": {
    "execution": {
     "iopub.execute_input": "2021-09-04T00:50:34.451079Z",
     "iopub.status.busy": "2021-09-04T00:50:34.450465Z",
     "iopub.status.idle": "2021-09-04T00:50:34.789827Z",
     "shell.execute_reply": "2021-09-04T00:50:34.788949Z"
    }
   },
   "outputs": [
    {
     "data": {
      "image/png": "[encoded data removed]",
      "text/plain": [
       "<Figure size 864x432 with 1 Axes>"
      ]
     },
     "metadata": {
      "needs_background": "light"
     },
     "output_type": "display_data"
    }
   ],
   "source": [
    "fig, ax = plt.subplots(figsize=(12, 6))\r\n",
    "plt.plot(df_hourly.temp, '.-', label='Temperature')\r\n",
    "plt.plot(df_hourly.feels_like, '.-', label='Feels Like')\r\n",
    "ax.set(title='Temperature in future 48 hours', xlabel='Time', ylabel='Temperature')\r\n",
    "ax.set_xticks(list(range(0, len(df_hourly), 2)))\r\n",
    "ax.set_xticklabels([ts2dt(ts, '%m-%d %H:%M')[0] for i, ts in enumerate(df_hourly.dt) if i%2==0], \r\n",
    "                   rotation=45, ha=\"right\")\r\n",
    "ax.locator_params(nbins=15, axis='y')\r\n",
    "plt.legend()\r\n",
    "plt.show()"
   ]
  },
  {
   "cell_type": "code",
   "execution_count": 10,
   "metadata": {
    "execution": {
     "iopub.execute_input": "2021-09-04T00:50:34.795554Z",
     "iopub.status.busy": "2021-09-04T00:50:34.794972Z",
     "iopub.status.idle": "2021-09-04T00:50:34.815700Z",
     "shell.execute_reply": "2021-09-04T00:50:34.816199Z"
    }
   },
   "outputs": [
    {
     "data": {
      "text/html": [
       "<div>\n",
       "<style scoped>\n",
       "    .dataframe tbody tr th:only-of-type {\n",
       "        vertical-align: middle;\n",
       "    }\n",
       "\n",
       "    .dataframe tbody tr th {\n",
       "        vertical-align: top;\n",
       "    }\n",
       "\n",
       "    .dataframe thead th {\n",
       "        text-align: right;\n",
       "    }\n",
       "</style>\n",
       "<table border=\"1\" class=\"dataframe\">\n",
       "  <thead>\n",
       "    <tr style=\"text-align: right;\">\n",
       "      <th></th>\n",
       "      <th>dt</th>\n",
       "      <th>temp</th>\n",
       "      <th>feels_like</th>\n",
       "      <th>pressure</th>\n",
       "      <th>humidity</th>\n",
       "      <th>dew_point</th>\n",
       "      <th>uvi</th>\n",
       "      <th>clouds</th>\n",
       "      <th>visibility</th>\n",
       "      <th>wind_speed</th>\n",
       "      <th>wind_deg</th>\n",
       "      <th>wind_gust</th>\n",
       "      <th>weather</th>\n",
       "      <th>pop</th>\n",
       "      <th>rain</th>\n",
       "    </tr>\n",
       "  </thead>\n",
       "  <tbody>\n",
       "    <tr>\n",
       "      <th>0</th>\n",
       "      <td>1630713600</td>\n",
       "      <td>28.99</td>\n",
       "      <td>34.93</td>\n",
       "      <td>1009</td>\n",
       "      <td>81</td>\n",
       "      <td>25.40</td>\n",
       "      <td>1.46</td>\n",
       "      <td>6</td>\n",
       "      <td>10000</td>\n",
       "      <td>0.97</td>\n",
       "      <td>149</td>\n",
       "      <td>1.33</td>\n",
       "      <td>[{'id': 500, 'main': 'Rain', 'description': 'l...</td>\n",
       "      <td>0.96</td>\n",
       "      <td>{'1h': 0.79}</td>\n",
       "    </tr>\n",
       "    <tr>\n",
       "      <th>1</th>\n",
       "      <td>1630717200</td>\n",
       "      <td>29.22</td>\n",
       "      <td>36.07</td>\n",
       "      <td>1009</td>\n",
       "      <td>83</td>\n",
       "      <td>26.03</td>\n",
       "      <td>3.81</td>\n",
       "      <td>8</td>\n",
       "      <td>10000</td>\n",
       "      <td>1.04</td>\n",
       "      <td>143</td>\n",
       "      <td>1.29</td>\n",
       "      <td>[{'id': 800, 'main': 'Clear', 'description': '...</td>\n",
       "      <td>0.82</td>\n",
       "      <td>NaN</td>\n",
       "    </tr>\n",
       "    <tr>\n",
       "      <th>2</th>\n",
       "      <td>1630720800</td>\n",
       "      <td>29.19</td>\n",
       "      <td>35.28</td>\n",
       "      <td>1009</td>\n",
       "      <td>80</td>\n",
       "      <td>25.38</td>\n",
       "      <td>6.89</td>\n",
       "      <td>9</td>\n",
       "      <td>10000</td>\n",
       "      <td>1.26</td>\n",
       "      <td>128</td>\n",
       "      <td>1.44</td>\n",
       "      <td>[{'id': 800, 'main': 'Clear', 'description': '...</td>\n",
       "      <td>0.73</td>\n",
       "      <td>NaN</td>\n",
       "    </tr>\n",
       "    <tr>\n",
       "      <th>3</th>\n",
       "      <td>1630724400</td>\n",
       "      <td>29.35</td>\n",
       "      <td>35.03</td>\n",
       "      <td>1009</td>\n",
       "      <td>77</td>\n",
       "      <td>24.89</td>\n",
       "      <td>9.74</td>\n",
       "      <td>11</td>\n",
       "      <td>10000</td>\n",
       "      <td>1.79</td>\n",
       "      <td>115</td>\n",
       "      <td>1.80</td>\n",
       "      <td>[{'id': 500, 'main': 'Rain', 'description': 'l...</td>\n",
       "      <td>0.77</td>\n",
       "      <td>{'1h': 0.27}</td>\n",
       "    </tr>\n",
       "    <tr>\n",
       "      <th>4</th>\n",
       "      <td>1630728000</td>\n",
       "      <td>29.63</td>\n",
       "      <td>35.07</td>\n",
       "      <td>1008</td>\n",
       "      <td>74</td>\n",
       "      <td>24.50</td>\n",
       "      <td>11.46</td>\n",
       "      <td>13</td>\n",
       "      <td>10000</td>\n",
       "      <td>2.38</td>\n",
       "      <td>111</td>\n",
       "      <td>2.15</td>\n",
       "      <td>[{'id': 500, 'main': 'Rain', 'description': 'l...</td>\n",
       "      <td>0.77</td>\n",
       "      <td>{'1h': 0.12}</td>\n",
       "    </tr>\n",
       "  </tbody>\n",
       "</table>\n",
       "</div>"
      ],
      "text/plain": [
       "           dt   temp  feels_like  pressure  humidity  dew_point    uvi  \\\n",
       "0  1630713600  28.99       34.93      1009        81      25.40   1.46   \n",
       "1  1630717200  29.22       36.07      1009        83      26.03   3.81   \n",
       "2  1630720800  29.19       35.28      1009        80      25.38   6.89   \n",
       "3  1630724400  29.35       35.03      1009        77      24.89   9.74   \n",
       "4  1630728000  29.63       35.07      1008        74      24.50  11.46   \n",
       "\n",
       "   clouds  visibility  wind_speed  wind_deg  wind_gust  \\\n",
       "0       6       10000        0.97       149       1.33   \n",
       "1       8       10000        1.04       143       1.29   \n",
       "2       9       10000        1.26       128       1.44   \n",
       "3      11       10000        1.79       115       1.80   \n",
       "4      13       10000        2.38       111       2.15   \n",
       "\n",
       "                                             weather   pop          rain  \n",
       "0  [{'id': 500, 'main': 'Rain', 'description': 'l...  0.96  {'1h': 0.79}  \n",
       "1  [{'id': 800, 'main': 'Clear', 'description': '...  0.82           NaN  \n",
       "2  [{'id': 800, 'main': 'Clear', 'description': '...  0.73           NaN  \n",
       "3  [{'id': 500, 'main': 'Rain', 'description': 'l...  0.77  {'1h': 0.27}  \n",
       "4  [{'id': 500, 'main': 'Rain', 'description': 'l...  0.77  {'1h': 0.12}  "
      ]
     },
     "execution_count": 10,
     "metadata": {},
     "output_type": "execute_result"
    }
   ],
   "source": [
    "df_hourly.head()"
   ]
  },
  {
   "cell_type": "code",
   "execution_count": null,
   "metadata": {},
   "outputs": [],
   "source": []
  }
 ],
 "metadata": {
  "interpreter": {
   "hash": "c1b4cfe941b6d2466ad1fb5979e97da9cda8801728c8091b097ab734208fc00c"
  },
  "kernelspec": {
   "display_name": "Python 3.8.3 64-bit ('base': conda)",
   "name": "python3"
  },
  "language_info": {
   "codemirror_mode": {
    "name": "ipython",
    "version": 3
   },
   "file_extension": ".py",
   "mimetype": "text/x-python",
   "name": "python",
   "nbconvert_exporter": "python",
   "pygments_lexer": "ipython3",
   "version": "3.8.11"
  }
 },
 "nbformat": 4,
 "nbformat_minor": 2
}
