{
 "cells": [
  {
   "cell_type": "code",
   "execution_count": 1,
   "metadata": {
    "execution": {
     "iopub.execute_input": "2021-09-07T05:36:33.833152Z",
     "iopub.status.busy": "2021-09-07T05:36:33.832543Z",
     "iopub.status.idle": "2021-09-07T05:36:36.311537Z",
     "shell.execute_reply": "2021-09-07T05:36:36.310581Z"
    }
   },
   "outputs": [],
   "source": [
    "import json, yaml, requests\r\n",
    "from datetime import datetime\r\n",
    "from dateutil import tz\r\n",
    "import pandas as pd\r\n",
    "from PIL import Image\r\n",
    "from io import BytesIO\r\n",
    "import matplotlib.pyplot as plt\r\n",
    "import seaborn\r\n",
    "\r\n",
    "CONFIG_PATH = \"../config/config.yaml\""
   ]
  },
  {
   "cell_type": "code",
   "execution_count": 2,
   "metadata": {
    "execution": {
     "iopub.execute_input": "2021-09-07T05:36:36.316818Z",
     "iopub.status.busy": "2021-09-07T05:36:36.316297Z",
     "iopub.status.idle": "2021-09-07T05:36:36.321606Z",
     "shell.execute_reply": "2021-09-07T05:36:36.321147Z"
    }
   },
   "outputs": [],
   "source": [
    "with open('../newest_ts', 'r') as f:\r\n",
    "    newest_ts = f.read()\r\n",
    "\r\n",
    "data_path = f\"../data/data_{newest_ts}.json\"\r\n",
    "with open(data_path, 'r') as f:\r\n",
    "    data = json.load(f)\r\n",
    "\r\n",
    "with open(CONFIG_PATH, \"r\") as stream:\r\n",
    "    config = yaml.safe_load(stream)\r\n",
    "\r\n",
    "TIME_ZONE = config['time_zone']\r\n",
    "DATETIME_FORMAT = config['dt_format']"
   ]
  },
  {
   "cell_type": "code",
   "execution_count": 3,
   "metadata": {
    "execution": {
     "iopub.execute_input": "2021-09-07T05:36:36.326287Z",
     "iopub.status.busy": "2021-09-07T05:36:36.325737Z",
     "iopub.status.idle": "2021-09-07T05:36:36.336261Z",
     "shell.execute_reply": "2021-09-07T05:36:36.336728Z"
    }
   },
   "outputs": [
    {
     "name": "stdout",
     "output_type": "stream",
     "text": [
      "Recent query happens at 2021-09-07 13:36:30 (CST).\n"
     ]
    }
   ],
   "source": [
    "def ts2dt(ts, format=DATETIME_FORMAT):\r\n",
    "    dt = (datetime.utcfromtimestamp(int(ts))\r\n",
    "                    .replace(tzinfo=tz.tzutc())\r\n",
    "                    # .astimezone(tz.tzlocal())\r\n",
    "                    .astimezone(tz.gettz(TIME_ZONE)))\r\n",
    "    return dt.strftime(format), dt\r\n",
    "\r\n",
    "_, newest_dt = ts2dt(newest_ts)\r\n",
    "print(f\"Recent query happens at {newest_dt.strftime(DATETIME_FORMAT)} ({newest_dt.tzname()}).\")"
   ]
  },
  {
   "cell_type": "code",
   "execution_count": 4,
   "metadata": {
    "execution": {
     "iopub.execute_input": "2021-09-07T05:36:36.341524Z",
     "iopub.status.busy": "2021-09-07T05:36:36.340803Z",
     "iopub.status.idle": "2021-09-07T05:36:36.344415Z",
     "shell.execute_reply": "2021-09-07T05:36:36.343917Z"
    }
   },
   "outputs": [],
   "source": [
    "def degrees_to_cardinal(d):\r\n",
    "  dirs = ['N', 'NNE', 'NE', 'ENE', 'E', 'ESE', 'SE', 'SSE', 'S', 'SSW', 'SW', 'WSW', 'W', 'WNW', 'NW', 'NNW']\r\n",
    "  ix = int(round(d / (360. / len(dirs))))\r\n",
    "  return dirs[ix % len(dirs)]"
   ]
  },
  {
   "cell_type": "code",
   "execution_count": 5,
   "metadata": {
    "execution": {
     "iopub.execute_input": "2021-09-07T05:36:36.348922Z",
     "iopub.status.busy": "2021-09-07T05:36:36.347704Z",
     "iopub.status.idle": "2021-09-07T05:36:36.349481Z",
     "shell.execute_reply": "2021-09-07T05:36:36.349878Z"
    }
   },
   "outputs": [],
   "source": [
    "# data.keys()"
   ]
  },
  {
   "cell_type": "code",
   "execution_count": 6,
   "metadata": {
    "execution": {
     "iopub.execute_input": "2021-09-07T05:36:36.354517Z",
     "iopub.status.busy": "2021-09-07T05:36:36.353131Z",
     "iopub.status.idle": "2021-09-07T05:36:36.355044Z",
     "shell.execute_reply": "2021-09-07T05:36:36.355421Z"
    }
   },
   "outputs": [],
   "source": [
    "# data['current']"
   ]
  },
  {
   "cell_type": "code",
   "execution_count": 7,
   "metadata": {
    "execution": {
     "iopub.execute_input": "2021-09-07T05:36:36.376204Z",
     "iopub.status.busy": "2021-09-07T05:36:36.375624Z",
     "iopub.status.idle": "2021-09-07T05:36:36.838186Z",
     "shell.execute_reply": "2021-09-07T05:36:36.838870Z"
    }
   },
   "outputs": [
    {
     "data": {
      "image/png": "[encoded data removed]",
      "text/plain": [
       "<Figure size 216x216 with 1 Axes>"
      ]
     },
     "metadata": {
      "needs_background": "light"
     },
     "output_type": "display_data"
    },
    {
     "name": "stdout",
     "output_type": "stream",
     "text": [
      "Today, sun rises at 06:07 and sets at 18:34.\n",
      "Currently, the weather is Rain (light rain).\n",
      "The temperature is 31.99°C and it feels like 38.99°C.\n",
      "The UV index is 9.09, humidity is 75%.\n",
      "The pressure is 1009 hPa, percentage of cloud cover is 32%\n",
      "The wind comes from E direction with a speed 5.13 m/s.\n"
     ]
    }
   ],
   "source": [
    "current = data['current']\r\n",
    "\r\n",
    "fig, ax = plt.subplots(figsize=(3, 3))\r\n",
    "icon = requests.get(f\"http://openweathermap.org/img/wn/{current['weather'][0]['icon']}@2x.png\")\r\n",
    "im = Image.open(BytesIO(icon.content))\r\n",
    "plt.imshow(im)\r\n",
    "ax.set_axis_off()\r\n",
    "plt.show()\r\n",
    "\r\n",
    "print(f\"Today, sun rises at {ts2dt(current['sunrise'], '%H:%M')[0]} \\\r\n",
    "and sets at {ts2dt(current['sunset'], '%H:%M')[0]}.\\n\\\r\n",
    "Currently, the weather is {current['weather'][0]['main']} ({current['weather'][0]['description']}).\\n\\\r\n",
    "The temperature is {current['temp']}°C and it feels like {current['feels_like']}°C.\\n\\\r\n",
    "The UV index is {current['uvi']}, humidity is {current['humidity']}%.\\n\\\r\n",
    "The pressure is {current['pressure']} hPa, percentage of cloud cover is {current['clouds']}%\\n\\\r\n",
    "The wind comes from {degrees_to_cardinal(current['wind_deg'])} direction with a speed {current['wind_speed']} m/s.\")"
   ]
  },
  {
   "cell_type": "code",
   "execution_count": 8,
   "metadata": {
    "execution": {
     "iopub.execute_input": "2021-09-07T05:36:36.842597Z",
     "iopub.status.busy": "2021-09-07T05:36:36.841584Z",
     "iopub.status.idle": "2021-09-07T05:36:36.849492Z",
     "shell.execute_reply": "2021-09-07T05:36:36.850220Z"
    }
   },
   "outputs": [],
   "source": [
    "df_hourly = pd.DataFrame(data['hourly'])\r\n",
    "df_daily = pd.DataFrame(data['daily'])"
   ]
  },
  {
   "cell_type": "code",
   "execution_count": 9,
   "metadata": {
    "execution": {
     "iopub.execute_input": "2021-09-07T05:36:36.853583Z",
     "iopub.status.busy": "2021-09-07T05:36:36.852581Z",
     "iopub.status.idle": "2021-09-07T05:36:37.199492Z",
     "shell.execute_reply": "2021-09-07T05:36:37.198613Z"
    }
   },
   "outputs": [
    {
     "data": {
      "image/png": "[encoded data removed]",
      "text/plain": [
       "<Figure size 864x432 with 1 Axes>"
      ]
     },
     "metadata": {
      "needs_background": "light"
     },
     "output_type": "display_data"
    }
   ],
   "source": [
    "fig, ax = plt.subplots(figsize=(12, 6))\r\n",
    "plt.plot(df_hourly.temp, '.-', label='Temperature')\r\n",
    "plt.plot(df_hourly.feels_like, '.-', label='Feels Like')\r\n",
    "ax.set(title='Temperature in future 48 hours', xlabel='Time', ylabel='Temperature')\r\n",
    "ax.set_xticks(list(range(0, len(df_hourly), 2)))\r\n",
    "ax.set_xticklabels([ts2dt(ts, '%m-%d %H:%M')[0] for i, ts in enumerate(df_hourly.dt) if i%2==0], \r\n",
    "                   rotation=45, ha=\"right\")\r\n",
    "ax.locator_params(nbins=15, axis='y')\r\n",
    "plt.legend()\r\n",
    "plt.show()"
   ]
  },
  {
   "cell_type": "code",
   "execution_count": 10,
   "metadata": {
    "execution": {
     "iopub.execute_input": "2021-09-07T05:36:37.212361Z",
     "iopub.status.busy": "2021-09-07T05:36:37.203682Z",
     "iopub.status.idle": "2021-09-07T05:36:37.225442Z",
     "shell.execute_reply": "2021-09-07T05:36:37.226062Z"
    }
   },
   "outputs": [
    {
     "data": {
      "text/html": [
       "<div>\n",
       "<style scoped>\n",
       "    .dataframe tbody tr th:only-of-type {\n",
       "        vertical-align: middle;\n",
       "    }\n",
       "\n",
       "    .dataframe tbody tr th {\n",
       "        vertical-align: top;\n",
       "    }\n",
       "\n",
       "    .dataframe thead th {\n",
       "        text-align: right;\n",
       "    }\n",
       "</style>\n",
       "<table border=\"1\" class=\"dataframe\">\n",
       "  <thead>\n",
       "    <tr style=\"text-align: right;\">\n",
       "      <th></th>\n",
       "      <th>dt</th>\n",
       "      <th>temp</th>\n",
       "      <th>feels_like</th>\n",
       "      <th>pressure</th>\n",
       "      <th>humidity</th>\n",
       "      <th>dew_point</th>\n",
       "      <th>uvi</th>\n",
       "      <th>clouds</th>\n",
       "      <th>visibility</th>\n",
       "      <th>wind_speed</th>\n",
       "      <th>wind_deg</th>\n",
       "      <th>wind_gust</th>\n",
       "      <th>weather</th>\n",
       "      <th>pop</th>\n",
       "      <th>rain</th>\n",
       "    </tr>\n",
       "  </thead>\n",
       "  <tbody>\n",
       "    <tr>\n",
       "      <th>0</th>\n",
       "      <td>1630990800</td>\n",
       "      <td>31.57</td>\n",
       "      <td>38.57</td>\n",
       "      <td>1009</td>\n",
       "      <td>74</td>\n",
       "      <td>26.37</td>\n",
       "      <td>11.01</td>\n",
       "      <td>33</td>\n",
       "      <td>10000</td>\n",
       "      <td>5.52</td>\n",
       "      <td>89</td>\n",
       "      <td>6.48</td>\n",
       "      <td>[{'id': 802, 'main': 'Clouds', 'description': ...</td>\n",
       "      <td>0.61</td>\n",
       "      <td>NaN</td>\n",
       "    </tr>\n",
       "    <tr>\n",
       "      <th>1</th>\n",
       "      <td>1630994400</td>\n",
       "      <td>31.99</td>\n",
       "      <td>38.99</td>\n",
       "      <td>1009</td>\n",
       "      <td>75</td>\n",
       "      <td>27.00</td>\n",
       "      <td>9.09</td>\n",
       "      <td>32</td>\n",
       "      <td>10000</td>\n",
       "      <td>5.13</td>\n",
       "      <td>93</td>\n",
       "      <td>6.07</td>\n",
       "      <td>[{'id': 500, 'main': 'Rain', 'description': 'l...</td>\n",
       "      <td>0.57</td>\n",
       "      <td>{'1h': 0.15}</td>\n",
       "    </tr>\n",
       "    <tr>\n",
       "      <th>2</th>\n",
       "      <td>1630998000</td>\n",
       "      <td>31.56</td>\n",
       "      <td>38.56</td>\n",
       "      <td>1009</td>\n",
       "      <td>74</td>\n",
       "      <td>26.36</td>\n",
       "      <td>6.16</td>\n",
       "      <td>27</td>\n",
       "      <td>10000</td>\n",
       "      <td>4.87</td>\n",
       "      <td>98</td>\n",
       "      <td>5.84</td>\n",
       "      <td>[{'id': 500, 'main': 'Rain', 'description': 'l...</td>\n",
       "      <td>0.44</td>\n",
       "      <td>{'1h': 0.13}</td>\n",
       "    </tr>\n",
       "    <tr>\n",
       "      <th>3</th>\n",
       "      <td>1631001600</td>\n",
       "      <td>31.07</td>\n",
       "      <td>38.07</td>\n",
       "      <td>1009</td>\n",
       "      <td>73</td>\n",
       "      <td>25.66</td>\n",
       "      <td>3.17</td>\n",
       "      <td>22</td>\n",
       "      <td>10000</td>\n",
       "      <td>4.40</td>\n",
       "      <td>99</td>\n",
       "      <td>5.65</td>\n",
       "      <td>[{'id': 801, 'main': 'Clouds', 'description': ...</td>\n",
       "      <td>0.49</td>\n",
       "      <td>NaN</td>\n",
       "    </tr>\n",
       "    <tr>\n",
       "      <th>4</th>\n",
       "      <td>1631005200</td>\n",
       "      <td>30.43</td>\n",
       "      <td>37.21</td>\n",
       "      <td>1009</td>\n",
       "      <td>74</td>\n",
       "      <td>25.27</td>\n",
       "      <td>1.10</td>\n",
       "      <td>17</td>\n",
       "      <td>10000</td>\n",
       "      <td>4.01</td>\n",
       "      <td>102</td>\n",
       "      <td>5.51</td>\n",
       "      <td>[{'id': 801, 'main': 'Clouds', 'description': ...</td>\n",
       "      <td>0.49</td>\n",
       "      <td>NaN</td>\n",
       "    </tr>\n",
       "  </tbody>\n",
       "</table>\n",
       "</div>"
      ],
      "text/plain": [
       "           dt   temp  feels_like  pressure  humidity  dew_point    uvi  \\\n",
       "0  1630990800  31.57       38.57      1009        74      26.37  11.01   \n",
       "1  1630994400  31.99       38.99      1009        75      27.00   9.09   \n",
       "2  1630998000  31.56       38.56      1009        74      26.36   6.16   \n",
       "3  1631001600  31.07       38.07      1009        73      25.66   3.17   \n",
       "4  1631005200  30.43       37.21      1009        74      25.27   1.10   \n",
       "\n",
       "   clouds  visibility  wind_speed  wind_deg  wind_gust  \\\n",
       "0      33       10000        5.52        89       6.48   \n",
       "1      32       10000        5.13        93       6.07   \n",
       "2      27       10000        4.87        98       5.84   \n",
       "3      22       10000        4.40        99       5.65   \n",
       "4      17       10000        4.01       102       5.51   \n",
       "\n",
       "                                             weather   pop          rain  \n",
       "0  [{'id': 802, 'main': 'Clouds', 'description': ...  0.61           NaN  \n",
       "1  [{'id': 500, 'main': 'Rain', 'description': 'l...  0.57  {'1h': 0.15}  \n",
       "2  [{'id': 500, 'main': 'Rain', 'description': 'l...  0.44  {'1h': 0.13}  \n",
       "3  [{'id': 801, 'main': 'Clouds', 'description': ...  0.49           NaN  \n",
       "4  [{'id': 801, 'main': 'Clouds', 'description': ...  0.49           NaN  "
      ]
     },
     "execution_count": 10,
     "metadata": {},
     "output_type": "execute_result"
    }
   ],
   "source": [
    "df_hourly.head()"
   ]
  },
  {
   "cell_type": "code",
   "execution_count": null,
   "metadata": {},
   "outputs": [],
   "source": []
  }
 ],
 "metadata": {
  "interpreter": {
   "hash": "c1b4cfe941b6d2466ad1fb5979e97da9cda8801728c8091b097ab734208fc00c"
  },
  "kernelspec": {
   "display_name": "Python 3.8.3 64-bit ('base': conda)",
   "name": "python3"
  },
  "language_info": {
   "codemirror_mode": {
    "name": "ipython",
    "version": 3
   },
   "file_extension": ".py",
   "mimetype": "text/x-python",
   "name": "python",
   "nbconvert_exporter": "python",
   "pygments_lexer": "ipython3",
   "version": "3.8.11"
  }
 },
 "nbformat": 4,
 "nbformat_minor": 2
}
