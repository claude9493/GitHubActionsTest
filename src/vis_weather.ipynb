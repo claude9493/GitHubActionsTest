{
 "cells": [
  {
   "cell_type": "code",
   "execution_count": 1,
   "metadata": {
    "execution": {
     "iopub.execute_input": "2021-08-25T23:15:20.955636Z",
     "iopub.status.busy": "2021-08-25T23:15:20.954911Z",
     "iopub.status.idle": "2021-08-25T23:15:22.258627Z",
     "shell.execute_reply": "2021-08-25T23:15:22.257806Z"
    }
   },
   "outputs": [],
   "source": [
    "import json, yaml, requests\r\n",
    "from datetime import datetime\r\n",
    "from dateutil import tz\r\n",
    "import pandas as pd\r\n",
    "from PIL import Image\r\n",
    "from io import BytesIO\r\n",
    "import matplotlib.pyplot as plt\r\n",
    "import seaborn\r\n",
    "\r\n",
    "CONFIG_PATH = \"../config/config.yaml\""
   ]
  },
  {
   "cell_type": "code",
   "execution_count": 2,
   "metadata": {
    "execution": {
     "iopub.execute_input": "2021-08-25T23:15:22.263593Z",
     "iopub.status.busy": "2021-08-25T23:15:22.262851Z",
     "iopub.status.idle": "2021-08-25T23:15:22.268795Z",
     "shell.execute_reply": "2021-08-25T23:15:22.267996Z"
    }
   },
   "outputs": [],
   "source": [
    "with open('../newest_ts', 'r') as f:\r\n",
    "    newest_ts = f.read()\r\n",
    "\r\n",
    "data_path = f\"../data/data_{newest_ts}.json\"\r\n",
    "with open(data_path, 'r') as f:\r\n",
    "    data = json.load(f)\r\n",
    "\r\n",
    "with open(CONFIG_PATH, \"r\") as stream:\r\n",
    "    config = yaml.safe_load(stream)\r\n",
    "\r\n",
    "TIME_ZONE = config['time_zone']\r\n",
    "DATETIME_FORMAT = config['dt_format']"
   ]
  },
  {
   "cell_type": "code",
   "execution_count": 3,
   "metadata": {
    "execution": {
     "iopub.execute_input": "2021-08-25T23:15:22.273233Z",
     "iopub.status.busy": "2021-08-25T23:15:22.272636Z",
     "iopub.status.idle": "2021-08-25T23:15:22.308572Z",
     "shell.execute_reply": "2021-08-25T23:15:22.308958Z"
    }
   },
   "outputs": [
    {
     "name": "stdout",
     "output_type": "stream",
     "text": [
      "Recent query happens at 2021-08-26 07:15:18 (CST).\n"
     ]
    }
   ],
   "source": [
    "def ts2dt(ts, format=DATETIME_FORMAT):\r\n",
    "    dt = (datetime.utcfromtimestamp(int(ts))\r\n",
    "                    .replace(tzinfo=tz.tzutc())\r\n",
    "                    # .astimezone(tz.tzlocal())\r\n",
    "                    .astimezone(tz.gettz(TIME_ZONE)))\r\n",
    "    return dt.strftime(format), dt\r\n",
    "\r\n",
    "_, newest_dt = ts2dt(newest_ts)\r\n",
    "print(f\"Recent query happens at {newest_dt.strftime(DATETIME_FORMAT)} ({newest_dt.tzname()}).\")"
   ]
  },
  {
   "cell_type": "code",
   "execution_count": 4,
   "metadata": {
    "execution": {
     "iopub.execute_input": "2021-08-25T23:15:22.313366Z",
     "iopub.status.busy": "2021-08-25T23:15:22.312879Z",
     "iopub.status.idle": "2021-08-25T23:15:22.316059Z",
     "shell.execute_reply": "2021-08-25T23:15:22.316438Z"
    }
   },
   "outputs": [],
   "source": [
    "def degrees_to_cardinal(d):\r\n",
    "  dirs = ['N', 'NNE', 'NE', 'ENE', 'E', 'ESE', 'SE', 'SSE', 'S', 'SSW', 'SW', 'WSW', 'W', 'WNW', 'NW', 'NNW']\r\n",
    "  ix = int(round(d / (360. / len(dirs))))\r\n",
    "  return dirs[ix % len(dirs)]"
   ]
  },
  {
   "cell_type": "code",
   "execution_count": 5,
   "metadata": {
    "execution": {
     "iopub.execute_input": "2021-08-25T23:15:22.320025Z",
     "iopub.status.busy": "2021-08-25T23:15:22.319548Z",
     "iopub.status.idle": "2021-08-25T23:15:22.322490Z",
     "shell.execute_reply": "2021-08-25T23:15:22.322909Z"
    }
   },
   "outputs": [],
   "source": [
    "# data.keys()"
   ]
  },
  {
   "cell_type": "code",
   "execution_count": 6,
   "metadata": {
    "execution": {
     "iopub.execute_input": "2021-08-25T23:15:22.325758Z",
     "iopub.status.busy": "2021-08-25T23:15:22.325281Z",
     "iopub.status.idle": "2021-08-25T23:15:22.327395Z",
     "shell.execute_reply": "2021-08-25T23:15:22.327807Z"
    }
   },
   "outputs": [],
   "source": [
    "# data['current']"
   ]
  },
  {
   "cell_type": "code",
   "execution_count": 7,
   "metadata": {
    "execution": {
     "iopub.execute_input": "2021-08-25T23:15:22.345571Z",
     "iopub.status.busy": "2021-08-25T23:15:22.335239Z",
     "iopub.status.idle": "2021-08-25T23:15:22.653693Z",
     "shell.execute_reply": "2021-08-25T23:15:22.654254Z"
    }
   },
   "outputs": [
    {
     "data": {
      "image/png": "[encoded data removed]",
      "text/plain": [
       "<Figure size 216x216 with 1 Axes>"
      ]
     },
     "metadata": {
      "needs_background": "light"
     },
     "output_type": "display_data"
    },
    {
     "name": "stdout",
     "output_type": "stream",
     "text": [
      "Today, sun rises at 06:03 and sets at 18:46.\n",
      "Currently, the weather is Clouds (overcast clouds).\n",
      "The temperature is 29.31°C and it feels like 36.31°C.\n",
      "The UV index is 0.37, humidity is 83%.\n",
      "The pressure is 1011 hPa, percentage of cloud cover is 87%\n",
      "The wind comes from SE direction with a speed 2.14 m/s.\n"
     ]
    }
   ],
   "source": [
    "current = data['current']\r\n",
    "\r\n",
    "fig, ax = plt.subplots(figsize=(3, 3))\r\n",
    "icon = requests.get(f\"http://openweathermap.org/img/wn/{current['weather'][0]['icon']}@2x.png\")\r\n",
    "im = Image.open(BytesIO(icon.content))\r\n",
    "plt.imshow(im)\r\n",
    "ax.set_axis_off()\r\n",
    "plt.show()\r\n",
    "\r\n",
    "print(f\"Today, sun rises at {ts2dt(current['sunrise'], '%H:%M')[0]} \\\r\n",
    "and sets at {ts2dt(current['sunset'], '%H:%M')[0]}.\\n\\\r\n",
    "Currently, the weather is {current['weather'][0]['main']} ({current['weather'][0]['description']}).\\n\\\r\n",
    "The temperature is {current['temp']}°C and it feels like {current['feels_like']}°C.\\n\\\r\n",
    "The UV index is {current['uvi']}, humidity is {current['humidity']}%.\\n\\\r\n",
    "The pressure is {current['pressure']} hPa, percentage of cloud cover is {current['clouds']}%\\n\\\r\n",
    "The wind comes from {degrees_to_cardinal(current['wind_deg'])} direction with a speed {current['wind_speed']} m/s.\")"
   ]
  },
  {
   "cell_type": "code",
   "execution_count": 8,
   "metadata": {
    "execution": {
     "iopub.execute_input": "2021-08-25T23:15:22.657550Z",
     "iopub.status.busy": "2021-08-25T23:15:22.656931Z",
     "iopub.status.idle": "2021-08-25T23:15:22.663769Z",
     "shell.execute_reply": "2021-08-25T23:15:22.664302Z"
    }
   },
   "outputs": [],
   "source": [
    "df_hourly = pd.DataFrame(data['hourly'])\r\n",
    "df_daily = pd.DataFrame(data['daily'])"
   ]
  },
  {
   "cell_type": "code",
   "execution_count": 9,
   "metadata": {
    "execution": {
     "iopub.execute_input": "2021-08-25T23:15:22.667203Z",
     "iopub.status.busy": "2021-08-25T23:15:22.666632Z",
     "iopub.status.idle": "2021-08-25T23:15:22.976501Z",
     "shell.execute_reply": "2021-08-25T23:15:22.976033Z"
    }
   },
   "outputs": [
    {
     "data": {
      "image/png": "[encoded data removed]",
      "text/plain": [
       "<Figure size 864x432 with 1 Axes>"
      ]
     },
     "metadata": {
      "needs_background": "light"
     },
     "output_type": "display_data"
    }
   ],
   "source": [
    "fig, ax = plt.subplots(figsize=(12, 6))\r\n",
    "plt.plot(df_hourly.temp, '.-', label='Temperature')\r\n",
    "plt.plot(df_hourly.feels_like, '.-', label='Feels Like')\r\n",
    "ax.set(title='Temperature in future 48 hours', xlabel='Time', ylabel='Temperature')\r\n",
    "ax.set_xticks(list(range(0, len(df_hourly), 2)))\r\n",
    "ax.set_xticklabels([ts2dt(ts, '%m-%d %H:%M')[0] for i, ts in enumerate(df_hourly.dt) if i%2==0], \r\n",
    "                   rotation=45, ha=\"right\")\r\n",
    "ax.locator_params(nbins=15, axis='y')\r\n",
    "plt.legend()\r\n",
    "plt.show()"
   ]
  },
  {
   "cell_type": "code",
   "execution_count": 10,
   "metadata": {
    "execution": {
     "iopub.execute_input": "2021-08-25T23:15:22.988283Z",
     "iopub.status.busy": "2021-08-25T23:15:22.980740Z",
     "iopub.status.idle": "2021-08-25T23:15:22.999755Z",
     "shell.execute_reply": "2021-08-25T23:15:22.999342Z"
    }
   },
   "outputs": [
    {
     "data": {
      "text/html": [
       "<div>\n",
       "<style scoped>\n",
       "    .dataframe tbody tr th:only-of-type {\n",
       "        vertical-align: middle;\n",
       "    }\n",
       "\n",
       "    .dataframe tbody tr th {\n",
       "        vertical-align: top;\n",
       "    }\n",
       "\n",
       "    .dataframe thead th {\n",
       "        text-align: right;\n",
       "    }\n",
       "</style>\n",
       "<table border=\"1\" class=\"dataframe\">\n",
       "  <thead>\n",
       "    <tr style=\"text-align: right;\">\n",
       "      <th></th>\n",
       "      <th>dt</th>\n",
       "      <th>temp</th>\n",
       "      <th>feels_like</th>\n",
       "      <th>pressure</th>\n",
       "      <th>humidity</th>\n",
       "      <th>dew_point</th>\n",
       "      <th>uvi</th>\n",
       "      <th>clouds</th>\n",
       "      <th>visibility</th>\n",
       "      <th>wind_speed</th>\n",
       "      <th>wind_deg</th>\n",
       "      <th>wind_gust</th>\n",
       "      <th>weather</th>\n",
       "      <th>pop</th>\n",
       "      <th>rain</th>\n",
       "    </tr>\n",
       "  </thead>\n",
       "  <tbody>\n",
       "    <tr>\n",
       "      <th>0</th>\n",
       "      <td>1629932400</td>\n",
       "      <td>29.31</td>\n",
       "      <td>36.31</td>\n",
       "      <td>1011</td>\n",
       "      <td>83</td>\n",
       "      <td>26.12</td>\n",
       "      <td>0.37</td>\n",
       "      <td>87</td>\n",
       "      <td>10000</td>\n",
       "      <td>2.14</td>\n",
       "      <td>130</td>\n",
       "      <td>2.87</td>\n",
       "      <td>[{'id': 804, 'main': 'Clouds', 'description': ...</td>\n",
       "      <td>0.45</td>\n",
       "      <td>NaN</td>\n",
       "    </tr>\n",
       "    <tr>\n",
       "      <th>1</th>\n",
       "      <td>1629936000</td>\n",
       "      <td>29.17</td>\n",
       "      <td>35.45</td>\n",
       "      <td>1011</td>\n",
       "      <td>81</td>\n",
       "      <td>25.57</td>\n",
       "      <td>1.59</td>\n",
       "      <td>87</td>\n",
       "      <td>10000</td>\n",
       "      <td>2.22</td>\n",
       "      <td>130</td>\n",
       "      <td>2.87</td>\n",
       "      <td>[{'id': 804, 'main': 'Clouds', 'description': ...</td>\n",
       "      <td>0.48</td>\n",
       "      <td>NaN</td>\n",
       "    </tr>\n",
       "    <tr>\n",
       "      <th>2</th>\n",
       "      <td>1629939600</td>\n",
       "      <td>29.18</td>\n",
       "      <td>35.02</td>\n",
       "      <td>1011</td>\n",
       "      <td>79</td>\n",
       "      <td>25.16</td>\n",
       "      <td>4.04</td>\n",
       "      <td>91</td>\n",
       "      <td>10000</td>\n",
       "      <td>2.70</td>\n",
       "      <td>127</td>\n",
       "      <td>3.11</td>\n",
       "      <td>[{'id': 804, 'main': 'Clouds', 'description': ...</td>\n",
       "      <td>0.45</td>\n",
       "      <td>NaN</td>\n",
       "    </tr>\n",
       "    <tr>\n",
       "      <th>3</th>\n",
       "      <td>1629943200</td>\n",
       "      <td>29.46</td>\n",
       "      <td>34.86</td>\n",
       "      <td>1011</td>\n",
       "      <td>75</td>\n",
       "      <td>24.56</td>\n",
       "      <td>7.18</td>\n",
       "      <td>79</td>\n",
       "      <td>10000</td>\n",
       "      <td>2.62</td>\n",
       "      <td>129</td>\n",
       "      <td>2.95</td>\n",
       "      <td>[{'id': 803, 'main': 'Clouds', 'description': ...</td>\n",
       "      <td>0.58</td>\n",
       "      <td>NaN</td>\n",
       "    </tr>\n",
       "    <tr>\n",
       "      <th>4</th>\n",
       "      <td>1629946800</td>\n",
       "      <td>29.84</td>\n",
       "      <td>34.89</td>\n",
       "      <td>1012</td>\n",
       "      <td>71</td>\n",
       "      <td>24.01</td>\n",
       "      <td>10.05</td>\n",
       "      <td>78</td>\n",
       "      <td>10000</td>\n",
       "      <td>2.76</td>\n",
       "      <td>124</td>\n",
       "      <td>2.90</td>\n",
       "      <td>[{'id': 500, 'main': 'Rain', 'description': 'l...</td>\n",
       "      <td>0.64</td>\n",
       "      <td>{'1h': 0.13}</td>\n",
       "    </tr>\n",
       "  </tbody>\n",
       "</table>\n",
       "</div>"
      ],
      "text/plain": [
       "           dt   temp  feels_like  pressure  humidity  dew_point    uvi  \\\n",
       "0  1629932400  29.31       36.31      1011        83      26.12   0.37   \n",
       "1  1629936000  29.17       35.45      1011        81      25.57   1.59   \n",
       "2  1629939600  29.18       35.02      1011        79      25.16   4.04   \n",
       "3  1629943200  29.46       34.86      1011        75      24.56   7.18   \n",
       "4  1629946800  29.84       34.89      1012        71      24.01  10.05   \n",
       "\n",
       "   clouds  visibility  wind_speed  wind_deg  wind_gust  \\\n",
       "0      87       10000        2.14       130       2.87   \n",
       "1      87       10000        2.22       130       2.87   \n",
       "2      91       10000        2.70       127       3.11   \n",
       "3      79       10000        2.62       129       2.95   \n",
       "4      78       10000        2.76       124       2.90   \n",
       "\n",
       "                                             weather   pop          rain  \n",
       "0  [{'id': 804, 'main': 'Clouds', 'description': ...  0.45           NaN  \n",
       "1  [{'id': 804, 'main': 'Clouds', 'description': ...  0.48           NaN  \n",
       "2  [{'id': 804, 'main': 'Clouds', 'description': ...  0.45           NaN  \n",
       "3  [{'id': 803, 'main': 'Clouds', 'description': ...  0.58           NaN  \n",
       "4  [{'id': 500, 'main': 'Rain', 'description': 'l...  0.64  {'1h': 0.13}  "
      ]
     },
     "execution_count": 10,
     "metadata": {},
     "output_type": "execute_result"
    }
   ],
   "source": [
    "df_hourly.head()"
   ]
  },
  {
   "cell_type": "code",
   "execution_count": null,
   "metadata": {},
   "outputs": [],
   "source": []
  }
 ],
 "metadata": {
  "interpreter": {
   "hash": "c1b4cfe941b6d2466ad1fb5979e97da9cda8801728c8091b097ab734208fc00c"
  },
  "kernelspec": {
   "display_name": "Python 3.8.3 64-bit ('base': conda)",
   "name": "python3"
  },
  "language_info": {
   "codemirror_mode": {
    "name": "ipython",
    "version": 3
   },
   "file_extension": ".py",
   "mimetype": "text/x-python",
   "name": "python",
   "nbconvert_exporter": "python",
   "pygments_lexer": "ipython3",
   "version": "3.8.11"
  }
 },
 "nbformat": 4,
 "nbformat_minor": 2
}
