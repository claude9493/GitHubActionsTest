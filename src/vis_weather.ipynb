{
 "cells": [
  {
   "cell_type": "code",
   "execution_count": 1,
   "metadata": {
    "execution": {
     "iopub.execute_input": "2021-09-19T07:11:06.766224Z",
     "iopub.status.busy": "2021-09-19T07:11:06.765537Z",
     "iopub.status.idle": "2021-09-19T07:11:08.297356Z",
     "shell.execute_reply": "2021-09-19T07:11:08.296650Z"
    }
   },
   "outputs": [],
   "source": [
    "import json, yaml, requests\r\n",
    "from datetime import datetime\r\n",
    "from dateutil import tz\r\n",
    "import pandas as pd\r\n",
    "from PIL import Image\r\n",
    "from io import BytesIO\r\n",
    "import matplotlib.pyplot as plt\r\n",
    "import seaborn\r\n",
    "\r\n",
    "CONFIG_PATH = \"../config/config.yaml\""
   ]
  },
  {
   "cell_type": "code",
   "execution_count": 2,
   "metadata": {
    "execution": {
     "iopub.execute_input": "2021-09-19T07:11:08.303589Z",
     "iopub.status.busy": "2021-09-19T07:11:08.302945Z",
     "iopub.status.idle": "2021-09-19T07:11:08.308241Z",
     "shell.execute_reply": "2021-09-19T07:11:08.308727Z"
    }
   },
   "outputs": [],
   "source": [
    "with open('../newest_ts', 'r') as f:\r\n",
    "    newest_ts = f.read()\r\n",
    "\r\n",
    "data_path = f\"../data/data_{newest_ts}.json\"\r\n",
    "with open(data_path, 'r') as f:\r\n",
    "    data = json.load(f)\r\n",
    "\r\n",
    "with open(CONFIG_PATH, \"r\") as stream:\r\n",
    "    config = yaml.safe_load(stream)\r\n",
    "\r\n",
    "TIME_ZONE = config['time_zone']\r\n",
    "DATETIME_FORMAT = config['dt_format']"
   ]
  },
  {
   "cell_type": "code",
   "execution_count": 3,
   "metadata": {
    "execution": {
     "iopub.execute_input": "2021-09-19T07:11:08.314437Z",
     "iopub.status.busy": "2021-09-19T07:11:08.313538Z",
     "iopub.status.idle": "2021-09-19T07:11:08.319299Z",
     "shell.execute_reply": "2021-09-19T07:11:08.319770Z"
    }
   },
   "outputs": [
    {
     "name": "stdout",
     "output_type": "stream",
     "text": [
      "Recent query happens at 2021-09-19 15:11:03 (CST).\n"
     ]
    }
   ],
   "source": [
    "def ts2dt(ts, format=DATETIME_FORMAT):\r\n",
    "    dt = (datetime.utcfromtimestamp(int(ts))\r\n",
    "                    .replace(tzinfo=tz.tzutc())\r\n",
    "                    # .astimezone(tz.tzlocal())\r\n",
    "                    .astimezone(tz.gettz(TIME_ZONE)))\r\n",
    "    return dt.strftime(format), dt\r\n",
    "\r\n",
    "_, newest_dt = ts2dt(newest_ts)\r\n",
    "print(f\"Recent query happens at {newest_dt.strftime(DATETIME_FORMAT)} ({newest_dt.tzname()}).\")"
   ]
  },
  {
   "cell_type": "code",
   "execution_count": 4,
   "metadata": {
    "execution": {
     "iopub.execute_input": "2021-09-19T07:11:08.326353Z",
     "iopub.status.busy": "2021-09-19T07:11:08.324837Z",
     "iopub.status.idle": "2021-09-19T07:11:08.327037Z",
     "shell.execute_reply": "2021-09-19T07:11:08.327528Z"
    }
   },
   "outputs": [],
   "source": [
    "def degrees_to_cardinal(d):\r\n",
    "  dirs = ['N', 'NNE', 'NE', 'ENE', 'E', 'ESE', 'SE', 'SSE', 'S', 'SSW', 'SW', 'WSW', 'W', 'WNW', 'NW', 'NNW']\r\n",
    "  ix = int(round(d / (360. / len(dirs))))\r\n",
    "  return dirs[ix % len(dirs)]"
   ]
  },
  {
   "cell_type": "code",
   "execution_count": 5,
   "metadata": {
    "execution": {
     "iopub.execute_input": "2021-09-19T07:11:08.332539Z",
     "iopub.status.busy": "2021-09-19T07:11:08.331189Z",
     "iopub.status.idle": "2021-09-19T07:11:08.333230Z",
     "shell.execute_reply": "2021-09-19T07:11:08.333775Z"
    }
   },
   "outputs": [],
   "source": [
    "# data.keys()"
   ]
  },
  {
   "cell_type": "code",
   "execution_count": 6,
   "metadata": {
    "execution": {
     "iopub.execute_input": "2021-09-19T07:11:08.338590Z",
     "iopub.status.busy": "2021-09-19T07:11:08.337148Z",
     "iopub.status.idle": "2021-09-19T07:11:08.339279Z",
     "shell.execute_reply": "2021-09-19T07:11:08.339769Z"
    }
   },
   "outputs": [],
   "source": [
    "# data['current']"
   ]
  },
  {
   "cell_type": "code",
   "execution_count": 7,
   "metadata": {
    "execution": {
     "iopub.execute_input": "2021-09-19T07:11:08.361615Z",
     "iopub.status.busy": "2021-09-19T07:11:08.360947Z",
     "iopub.status.idle": "2021-09-19T07:11:08.784998Z",
     "shell.execute_reply": "2021-09-19T07:11:08.785743Z"
    }
   },
   "outputs": [
    {
     "data": {
      "image/png": "[encoded data removed]",
      "text/plain": [
       "<Figure size 216x216 with 1 Axes>"
      ]
     },
     "metadata": {
      "needs_background": "light"
     },
     "output_type": "display_data"
    },
    {
     "name": "stdout",
     "output_type": "stream",
     "text": [
      "Today, sun rises at 06:10 and sets at 18:22.\n",
      "Currently, the weather is Rain (light rain).\n",
      "The temperature is 32.12°C and it feels like 39.12°C.\n",
      "The UV index is 5.55, humidity is 76%.\n",
      "The pressure is 1010 hPa, percentage of cloud cover is 35%\n",
      "The wind comes from ESE direction with a speed 5.22 m/s.\n"
     ]
    }
   ],
   "source": [
    "current = data['current']\r\n",
    "\r\n",
    "fig, ax = plt.subplots(figsize=(3, 3))\r\n",
    "icon = requests.get(f\"http://openweathermap.org/img/wn/{current['weather'][0]['icon']}@2x.png\")\r\n",
    "im = Image.open(BytesIO(icon.content))\r\n",
    "plt.imshow(im)\r\n",
    "ax.set_axis_off()\r\n",
    "plt.show()\r\n",
    "\r\n",
    "print(f\"Today, sun rises at {ts2dt(current['sunrise'], '%H:%M')[0]} \\\r\n",
    "and sets at {ts2dt(current['sunset'], '%H:%M')[0]}.\\n\\\r\n",
    "Currently, the weather is {current['weather'][0]['main']} ({current['weather'][0]['description']}).\\n\\\r\n",
    "The temperature is {current['temp']}°C and it feels like {current['feels_like']}°C.\\n\\\r\n",
    "The UV index is {current['uvi']}, humidity is {current['humidity']}%.\\n\\\r\n",
    "The pressure is {current['pressure']} hPa, percentage of cloud cover is {current['clouds']}%\\n\\\r\n",
    "The wind comes from {degrees_to_cardinal(current['wind_deg'])} direction with a speed {current['wind_speed']} m/s.\")"
   ]
  },
  {
   "cell_type": "code",
   "execution_count": 8,
   "metadata": {
    "execution": {
     "iopub.execute_input": "2021-09-19T07:11:08.794039Z",
     "iopub.status.busy": "2021-09-19T07:11:08.793339Z",
     "iopub.status.idle": "2021-09-19T07:11:08.797233Z",
     "shell.execute_reply": "2021-09-19T07:11:08.798027Z"
    }
   },
   "outputs": [],
   "source": [
    "df_hourly = pd.DataFrame(data['hourly'])\r\n",
    "df_daily = pd.DataFrame(data['daily'])"
   ]
  },
  {
   "cell_type": "code",
   "execution_count": 9,
   "metadata": {
    "execution": {
     "iopub.execute_input": "2021-09-19T07:11:08.801735Z",
     "iopub.status.busy": "2021-09-19T07:11:08.800606Z",
     "iopub.status.idle": "2021-09-19T07:11:09.153789Z",
     "shell.execute_reply": "2021-09-19T07:11:09.154337Z"
    }
   },
   "outputs": [
    {
     "data": {
      "image/png": "[encoded data removed]",
      "text/plain": [
       "<Figure size 864x432 with 1 Axes>"
      ]
     },
     "metadata": {
      "needs_background": "light"
     },
     "output_type": "display_data"
    }
   ],
   "source": [
    "fig, ax = plt.subplots(figsize=(12, 6))\r\n",
    "plt.plot(df_hourly.temp, '.-', label='Temperature')\r\n",
    "plt.plot(df_hourly.feels_like, '.-', label='Feels Like')\r\n",
    "ax.set(title='Temperature in future 48 hours', xlabel='Time', ylabel='Temperature')\r\n",
    "ax.set_xticks(list(range(0, len(df_hourly), 2)))\r\n",
    "ax.set_xticklabels([ts2dt(ts, '%m-%d %H:%M')[0] for i, ts in enumerate(df_hourly.dt) if i%2==0], \r\n",
    "                   rotation=45, ha=\"right\")\r\n",
    "ax.locator_params(nbins=15, axis='y')\r\n",
    "plt.legend()\r\n",
    "plt.show()"
   ]
  },
  {
   "cell_type": "code",
   "execution_count": 10,
   "metadata": {
    "execution": {
     "iopub.execute_input": "2021-09-19T07:11:09.167853Z",
     "iopub.status.busy": "2021-09-19T07:11:09.158764Z",
     "iopub.status.idle": "2021-09-19T07:11:09.181037Z",
     "shell.execute_reply": "2021-09-19T07:11:09.181488Z"
    }
   },
   "outputs": [
    {
     "data": {
      "text/html": [
       "<div>\n",
       "<style scoped>\n",
       "    .dataframe tbody tr th:only-of-type {\n",
       "        vertical-align: middle;\n",
       "    }\n",
       "\n",
       "    .dataframe tbody tr th {\n",
       "        vertical-align: top;\n",
       "    }\n",
       "\n",
       "    .dataframe thead th {\n",
       "        text-align: right;\n",
       "    }\n",
       "</style>\n",
       "<table border=\"1\" class=\"dataframe\">\n",
       "  <thead>\n",
       "    <tr style=\"text-align: right;\">\n",
       "      <th></th>\n",
       "      <th>dt</th>\n",
       "      <th>temp</th>\n",
       "      <th>feels_like</th>\n",
       "      <th>pressure</th>\n",
       "      <th>humidity</th>\n",
       "      <th>dew_point</th>\n",
       "      <th>uvi</th>\n",
       "      <th>clouds</th>\n",
       "      <th>visibility</th>\n",
       "      <th>wind_speed</th>\n",
       "      <th>wind_deg</th>\n",
       "      <th>wind_gust</th>\n",
       "      <th>weather</th>\n",
       "      <th>pop</th>\n",
       "      <th>rain</th>\n",
       "    </tr>\n",
       "  </thead>\n",
       "  <tbody>\n",
       "    <tr>\n",
       "      <th>0</th>\n",
       "      <td>1632034800</td>\n",
       "      <td>32.12</td>\n",
       "      <td>39.12</td>\n",
       "      <td>1010</td>\n",
       "      <td>76</td>\n",
       "      <td>27.35</td>\n",
       "      <td>5.55</td>\n",
       "      <td>35</td>\n",
       "      <td>10000</td>\n",
       "      <td>5.22</td>\n",
       "      <td>107</td>\n",
       "      <td>6.17</td>\n",
       "      <td>[{'id': 500, 'main': 'Rain', 'description': 'l...</td>\n",
       "      <td>0.71</td>\n",
       "      <td>{'1h': 0.46}</td>\n",
       "    </tr>\n",
       "    <tr>\n",
       "      <th>1</th>\n",
       "      <td>1632038400</td>\n",
       "      <td>31.55</td>\n",
       "      <td>38.55</td>\n",
       "      <td>1010</td>\n",
       "      <td>77</td>\n",
       "      <td>27.02</td>\n",
       "      <td>2.79</td>\n",
       "      <td>35</td>\n",
       "      <td>10000</td>\n",
       "      <td>4.71</td>\n",
       "      <td>108</td>\n",
       "      <td>5.81</td>\n",
       "      <td>[{'id': 500, 'main': 'Rain', 'description': 'l...</td>\n",
       "      <td>0.71</td>\n",
       "      <td>{'1h': 0.2}</td>\n",
       "    </tr>\n",
       "    <tr>\n",
       "      <th>2</th>\n",
       "      <td>1632042000</td>\n",
       "      <td>30.82</td>\n",
       "      <td>37.82</td>\n",
       "      <td>1010</td>\n",
       "      <td>77</td>\n",
       "      <td>26.32</td>\n",
       "      <td>0.90</td>\n",
       "      <td>35</td>\n",
       "      <td>10000</td>\n",
       "      <td>4.52</td>\n",
       "      <td>106</td>\n",
       "      <td>5.66</td>\n",
       "      <td>[{'id': 500, 'main': 'Rain', 'description': 'l...</td>\n",
       "      <td>0.82</td>\n",
       "      <td>{'1h': 0.22}</td>\n",
       "    </tr>\n",
       "    <tr>\n",
       "      <th>3</th>\n",
       "      <td>1632045600</td>\n",
       "      <td>30.03</td>\n",
       "      <td>37.03</td>\n",
       "      <td>1010</td>\n",
       "      <td>79</td>\n",
       "      <td>25.98</td>\n",
       "      <td>0.12</td>\n",
       "      <td>34</td>\n",
       "      <td>10000</td>\n",
       "      <td>4.21</td>\n",
       "      <td>107</td>\n",
       "      <td>5.75</td>\n",
       "      <td>[{'id': 500, 'main': 'Rain', 'description': 'l...</td>\n",
       "      <td>0.78</td>\n",
       "      <td>{'1h': 0.18}</td>\n",
       "    </tr>\n",
       "    <tr>\n",
       "      <th>4</th>\n",
       "      <td>1632049200</td>\n",
       "      <td>29.07</td>\n",
       "      <td>35.16</td>\n",
       "      <td>1011</td>\n",
       "      <td>81</td>\n",
       "      <td>25.47</td>\n",
       "      <td>0.00</td>\n",
       "      <td>33</td>\n",
       "      <td>10000</td>\n",
       "      <td>4.20</td>\n",
       "      <td>108</td>\n",
       "      <td>5.59</td>\n",
       "      <td>[{'id': 802, 'main': 'Clouds', 'description': ...</td>\n",
       "      <td>0.78</td>\n",
       "      <td>NaN</td>\n",
       "    </tr>\n",
       "  </tbody>\n",
       "</table>\n",
       "</div>"
      ],
      "text/plain": [
       "           dt   temp  feels_like  pressure  humidity  dew_point   uvi  clouds  \\\n",
       "0  1632034800  32.12       39.12      1010        76      27.35  5.55      35   \n",
       "1  1632038400  31.55       38.55      1010        77      27.02  2.79      35   \n",
       "2  1632042000  30.82       37.82      1010        77      26.32  0.90      35   \n",
       "3  1632045600  30.03       37.03      1010        79      25.98  0.12      34   \n",
       "4  1632049200  29.07       35.16      1011        81      25.47  0.00      33   \n",
       "\n",
       "   visibility  wind_speed  wind_deg  wind_gust  \\\n",
       "0       10000        5.22       107       6.17   \n",
       "1       10000        4.71       108       5.81   \n",
       "2       10000        4.52       106       5.66   \n",
       "3       10000        4.21       107       5.75   \n",
       "4       10000        4.20       108       5.59   \n",
       "\n",
       "                                             weather   pop          rain  \n",
       "0  [{'id': 500, 'main': 'Rain', 'description': 'l...  0.71  {'1h': 0.46}  \n",
       "1  [{'id': 500, 'main': 'Rain', 'description': 'l...  0.71   {'1h': 0.2}  \n",
       "2  [{'id': 500, 'main': 'Rain', 'description': 'l...  0.82  {'1h': 0.22}  \n",
       "3  [{'id': 500, 'main': 'Rain', 'description': 'l...  0.78  {'1h': 0.18}  \n",
       "4  [{'id': 802, 'main': 'Clouds', 'description': ...  0.78           NaN  "
      ]
     },
     "execution_count": 10,
     "metadata": {},
     "output_type": "execute_result"
    }
   ],
   "source": [
    "df_hourly.head()"
   ]
  },
  {
   "cell_type": "code",
   "execution_count": null,
   "metadata": {},
   "outputs": [],
   "source": []
  }
 ],
 "metadata": {
  "interpreter": {
   "hash": "c1b4cfe941b6d2466ad1fb5979e97da9cda8801728c8091b097ab734208fc00c"
  },
  "kernelspec": {
   "display_name": "Python 3.8.3 64-bit ('base': conda)",
   "name": "python3"
  },
  "language_info": {
   "codemirror_mode": {
    "name": "ipython",
    "version": 3
   },
   "file_extension": ".py",
   "mimetype": "text/x-python",
   "name": "python",
   "nbconvert_exporter": "python",
   "pygments_lexer": "ipython3",
   "version": "3.8.11"
  }
 },
 "nbformat": 4,
 "nbformat_minor": 2
}
