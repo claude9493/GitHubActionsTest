{
 "cells": [
  {
   "cell_type": "code",
   "execution_count": 1,
   "metadata": {
    "execution": {
     "iopub.execute_input": "2021-09-25T08:12:47.143836Z",
     "iopub.status.busy": "2021-09-25T08:12:47.143270Z",
     "iopub.status.idle": "2021-09-25T08:12:49.783217Z",
     "shell.execute_reply": "2021-09-25T08:12:49.782247Z"
    }
   },
   "outputs": [],
   "source": [
    "import json, yaml, requests\r\n",
    "from datetime import datetime\r\n",
    "from dateutil import tz\r\n",
    "import pandas as pd\r\n",
    "from PIL import Image\r\n",
    "from io import BytesIO\r\n",
    "import matplotlib.pyplot as plt\r\n",
    "import seaborn\r\n",
    "\r\n",
    "CONFIG_PATH = \"../config/config.yaml\""
   ]
  },
  {
   "cell_type": "code",
   "execution_count": 2,
   "metadata": {
    "execution": {
     "iopub.execute_input": "2021-09-25T08:12:49.787981Z",
     "iopub.status.busy": "2021-09-25T08:12:49.787508Z",
     "iopub.status.idle": "2021-09-25T08:12:49.793042Z",
     "shell.execute_reply": "2021-09-25T08:12:49.792661Z"
    }
   },
   "outputs": [],
   "source": [
    "with open('../newest_ts', 'r') as f:\r\n",
    "    newest_ts = f.read()\r\n",
    "\r\n",
    "data_path = f\"../data/data_{newest_ts}.json\"\r\n",
    "with open(data_path, 'r') as f:\r\n",
    "    data = json.load(f)\r\n",
    "\r\n",
    "with open(CONFIG_PATH, \"r\") as stream:\r\n",
    "    config = yaml.safe_load(stream)\r\n",
    "\r\n",
    "TIME_ZONE = config['time_zone']\r\n",
    "DATETIME_FORMAT = config['dt_format']"
   ]
  },
  {
   "cell_type": "code",
   "execution_count": 3,
   "metadata": {
    "execution": {
     "iopub.execute_input": "2021-09-25T08:12:49.797340Z",
     "iopub.status.busy": "2021-09-25T08:12:49.796848Z",
     "iopub.status.idle": "2021-09-25T08:12:49.809318Z",
     "shell.execute_reply": "2021-09-25T08:12:49.809666Z"
    }
   },
   "outputs": [
    {
     "name": "stdout",
     "output_type": "stream",
     "text": [
      "Recent query happens at 2021-09-25 16:12:44 (CST).\n"
     ]
    }
   ],
   "source": [
    "def ts2dt(ts, format=DATETIME_FORMAT):\r\n",
    "    dt = (datetime.utcfromtimestamp(int(ts))\r\n",
    "                    .replace(tzinfo=tz.tzutc())\r\n",
    "                    # .astimezone(tz.tzlocal())\r\n",
    "                    .astimezone(tz.gettz(TIME_ZONE)))\r\n",
    "    return dt.strftime(format), dt\r\n",
    "\r\n",
    "_, newest_dt = ts2dt(newest_ts)\r\n",
    "print(f\"Recent query happens at {newest_dt.strftime(DATETIME_FORMAT)} ({newest_dt.tzname()}).\")"
   ]
  },
  {
   "cell_type": "code",
   "execution_count": 4,
   "metadata": {
    "execution": {
     "iopub.execute_input": "2021-09-25T08:12:49.814521Z",
     "iopub.status.busy": "2021-09-25T08:12:49.813416Z",
     "iopub.status.idle": "2021-09-25T08:12:49.815072Z",
     "shell.execute_reply": "2021-09-25T08:12:49.815437Z"
    }
   },
   "outputs": [],
   "source": [
    "def degrees_to_cardinal(d):\r\n",
    "  dirs = ['N', 'NNE', 'NE', 'ENE', 'E', 'ESE', 'SE', 'SSE', 'S', 'SSW', 'SW', 'WSW', 'W', 'WNW', 'NW', 'NNW']\r\n",
    "  ix = int(round(d / (360. / len(dirs))))\r\n",
    "  return dirs[ix % len(dirs)]"
   ]
  },
  {
   "cell_type": "code",
   "execution_count": 5,
   "metadata": {
    "execution": {
     "iopub.execute_input": "2021-09-25T08:12:49.819319Z",
     "iopub.status.busy": "2021-09-25T08:12:49.818295Z",
     "iopub.status.idle": "2021-09-25T08:12:49.819837Z",
     "shell.execute_reply": "2021-09-25T08:12:49.820198Z"
    }
   },
   "outputs": [],
   "source": [
    "# data.keys()"
   ]
  },
  {
   "cell_type": "code",
   "execution_count": 6,
   "metadata": {
    "execution": {
     "iopub.execute_input": "2021-09-25T08:12:49.823846Z",
     "iopub.status.busy": "2021-09-25T08:12:49.822724Z",
     "iopub.status.idle": "2021-09-25T08:12:49.824359Z",
     "shell.execute_reply": "2021-09-25T08:12:49.824719Z"
    }
   },
   "outputs": [],
   "source": [
    "# data['current']"
   ]
  },
  {
   "cell_type": "code",
   "execution_count": 7,
   "metadata": {
    "execution": {
     "iopub.execute_input": "2021-09-25T08:12:49.840964Z",
     "iopub.status.busy": "2021-09-25T08:12:49.840509Z",
     "iopub.status.idle": "2021-09-25T08:12:50.268604Z",
     "shell.execute_reply": "2021-09-25T08:12:50.269278Z"
    }
   },
   "outputs": [
    {
     "data": {
      "image/png": "[encoded data removed]",
      "text/plain": [
       "<Figure size 216x216 with 1 Axes>"
      ]
     },
     "metadata": {
      "needs_background": "light"
     },
     "output_type": "display_data"
    },
    {
     "name": "stdout",
     "output_type": "stream",
     "text": [
      "Today, sun rises at 06:12 and sets at 18:16.\n",
      "Currently, the weather is Clear (clear sky).\n",
      "The temperature is 30.13°C and it feels like 37.13°C.\n",
      "The UV index is 2.57, humidity is 80%.\n",
      "The pressure is 1011 hPa, percentage of cloud cover is 0%\n",
      "The wind comes from E direction with a speed 5.98 m/s.\n"
     ]
    }
   ],
   "source": [
    "current = data['current']\r\n",
    "\r\n",
    "fig, ax = plt.subplots(figsize=(3, 3))\r\n",
    "icon = requests.get(f\"http://openweathermap.org/img/wn/{current['weather'][0]['icon']}@2x.png\")\r\n",
    "im = Image.open(BytesIO(icon.content))\r\n",
    "plt.imshow(im)\r\n",
    "ax.set_axis_off()\r\n",
    "plt.show()\r\n",
    "\r\n",
    "print(f\"Today, sun rises at {ts2dt(current['sunrise'], '%H:%M')[0]} \\\r\n",
    "and sets at {ts2dt(current['sunset'], '%H:%M')[0]}.\\n\\\r\n",
    "Currently, the weather is {current['weather'][0]['main']} ({current['weather'][0]['description']}).\\n\\\r\n",
    "The temperature is {current['temp']}°C and it feels like {current['feels_like']}°C.\\n\\\r\n",
    "The UV index is {current['uvi']}, humidity is {current['humidity']}%.\\n\\\r\n",
    "The pressure is {current['pressure']} hPa, percentage of cloud cover is {current['clouds']}%\\n\\\r\n",
    "The wind comes from {degrees_to_cardinal(current['wind_deg'])} direction with a speed {current['wind_speed']} m/s.\")"
   ]
  },
  {
   "cell_type": "code",
   "execution_count": 8,
   "metadata": {
    "execution": {
     "iopub.execute_input": "2021-09-25T08:12:50.272269Z",
     "iopub.status.busy": "2021-09-25T08:12:50.271816Z",
     "iopub.status.idle": "2021-09-25T08:12:50.278047Z",
     "shell.execute_reply": "2021-09-25T08:12:50.278712Z"
    }
   },
   "outputs": [],
   "source": [
    "df_hourly = pd.DataFrame(data['hourly'])\r\n",
    "df_daily = pd.DataFrame(data['daily'])"
   ]
  },
  {
   "cell_type": "code",
   "execution_count": 9,
   "metadata": {
    "execution": {
     "iopub.execute_input": "2021-09-25T08:12:50.281876Z",
     "iopub.status.busy": "2021-09-25T08:12:50.280838Z",
     "iopub.status.idle": "2021-09-25T08:12:50.520880Z",
     "shell.execute_reply": "2021-09-25T08:12:50.520144Z"
    }
   },
   "outputs": [
    {
     "data": {
      "image/png": "[encoded data removed]",
      "text/plain": [
       "<Figure size 864x432 with 1 Axes>"
      ]
     },
     "metadata": {
      "needs_background": "light"
     },
     "output_type": "display_data"
    }
   ],
   "source": [
    "fig, ax = plt.subplots(figsize=(12, 6))\r\n",
    "plt.plot(df_hourly.temp, '.-', label='Temperature')\r\n",
    "plt.plot(df_hourly.feels_like, '.-', label='Feels Like')\r\n",
    "ax.set(title='Temperature in future 48 hours', xlabel='Time', ylabel='Temperature')\r\n",
    "ax.set_xticks(list(range(0, len(df_hourly), 2)))\r\n",
    "ax.set_xticklabels([ts2dt(ts, '%m-%d %H:%M')[0] for i, ts in enumerate(df_hourly.dt) if i%2==0], \r\n",
    "                   rotation=45, ha=\"right\")\r\n",
    "ax.locator_params(nbins=15, axis='y')\r\n",
    "plt.legend()\r\n",
    "plt.show()"
   ]
  },
  {
   "cell_type": "code",
   "execution_count": 10,
   "metadata": {
    "execution": {
     "iopub.execute_input": "2021-09-25T08:12:50.531197Z",
     "iopub.status.busy": "2021-09-25T08:12:50.524677Z",
     "iopub.status.idle": "2021-09-25T08:12:50.540870Z",
     "shell.execute_reply": "2021-09-25T08:12:50.540481Z"
    }
   },
   "outputs": [
    {
     "data": {
      "text/html": [
       "<div>\n",
       "<style scoped>\n",
       "    .dataframe tbody tr th:only-of-type {\n",
       "        vertical-align: middle;\n",
       "    }\n",
       "\n",
       "    .dataframe tbody tr th {\n",
       "        vertical-align: top;\n",
       "    }\n",
       "\n",
       "    .dataframe thead th {\n",
       "        text-align: right;\n",
       "    }\n",
       "</style>\n",
       "<table border=\"1\" class=\"dataframe\">\n",
       "  <thead>\n",
       "    <tr style=\"text-align: right;\">\n",
       "      <th></th>\n",
       "      <th>dt</th>\n",
       "      <th>temp</th>\n",
       "      <th>feels_like</th>\n",
       "      <th>pressure</th>\n",
       "      <th>humidity</th>\n",
       "      <th>dew_point</th>\n",
       "      <th>uvi</th>\n",
       "      <th>clouds</th>\n",
       "      <th>visibility</th>\n",
       "      <th>wind_speed</th>\n",
       "      <th>wind_deg</th>\n",
       "      <th>wind_gust</th>\n",
       "      <th>weather</th>\n",
       "      <th>pop</th>\n",
       "    </tr>\n",
       "  </thead>\n",
       "  <tbody>\n",
       "    <tr>\n",
       "      <th>0</th>\n",
       "      <td>1632556800</td>\n",
       "      <td>30.13</td>\n",
       "      <td>37.13</td>\n",
       "      <td>1011</td>\n",
       "      <td>80</td>\n",
       "      <td>26.29</td>\n",
       "      <td>2.57</td>\n",
       "      <td>0</td>\n",
       "      <td>10000</td>\n",
       "      <td>5.98</td>\n",
       "      <td>93</td>\n",
       "      <td>7.36</td>\n",
       "      <td>[{'id': 800, 'main': 'Clear', 'description': '...</td>\n",
       "      <td>0.0</td>\n",
       "    </tr>\n",
       "    <tr>\n",
       "      <th>1</th>\n",
       "      <td>1632560400</td>\n",
       "      <td>29.85</td>\n",
       "      <td>36.67</td>\n",
       "      <td>1011</td>\n",
       "      <td>78</td>\n",
       "      <td>25.60</td>\n",
       "      <td>0.82</td>\n",
       "      <td>0</td>\n",
       "      <td>10000</td>\n",
       "      <td>6.21</td>\n",
       "      <td>94</td>\n",
       "      <td>7.84</td>\n",
       "      <td>[{'id': 800, 'main': 'Clear', 'description': '...</td>\n",
       "      <td>0.0</td>\n",
       "    </tr>\n",
       "    <tr>\n",
       "      <th>2</th>\n",
       "      <td>1632564000</td>\n",
       "      <td>29.33</td>\n",
       "      <td>35.20</td>\n",
       "      <td>1011</td>\n",
       "      <td>78</td>\n",
       "      <td>25.09</td>\n",
       "      <td>0.00</td>\n",
       "      <td>0</td>\n",
       "      <td>10000</td>\n",
       "      <td>6.12</td>\n",
       "      <td>93</td>\n",
       "      <td>7.91</td>\n",
       "      <td>[{'id': 800, 'main': 'Clear', 'description': '...</td>\n",
       "      <td>0.0</td>\n",
       "    </tr>\n",
       "    <tr>\n",
       "      <th>3</th>\n",
       "      <td>1632567600</td>\n",
       "      <td>28.82</td>\n",
       "      <td>33.64</td>\n",
       "      <td>1012</td>\n",
       "      <td>77</td>\n",
       "      <td>24.38</td>\n",
       "      <td>0.00</td>\n",
       "      <td>1</td>\n",
       "      <td>10000</td>\n",
       "      <td>6.23</td>\n",
       "      <td>92</td>\n",
       "      <td>8.27</td>\n",
       "      <td>[{'id': 800, 'main': 'Clear', 'description': '...</td>\n",
       "      <td>0.0</td>\n",
       "    </tr>\n",
       "    <tr>\n",
       "      <th>4</th>\n",
       "      <td>1632571200</td>\n",
       "      <td>28.43</td>\n",
       "      <td>32.67</td>\n",
       "      <td>1012</td>\n",
       "      <td>77</td>\n",
       "      <td>24.01</td>\n",
       "      <td>0.00</td>\n",
       "      <td>2</td>\n",
       "      <td>10000</td>\n",
       "      <td>6.60</td>\n",
       "      <td>95</td>\n",
       "      <td>8.79</td>\n",
       "      <td>[{'id': 800, 'main': 'Clear', 'description': '...</td>\n",
       "      <td>0.0</td>\n",
       "    </tr>\n",
       "  </tbody>\n",
       "</table>\n",
       "</div>"
      ],
      "text/plain": [
       "           dt   temp  feels_like  pressure  humidity  dew_point   uvi  clouds  \\\n",
       "0  1632556800  30.13       37.13      1011        80      26.29  2.57       0   \n",
       "1  1632560400  29.85       36.67      1011        78      25.60  0.82       0   \n",
       "2  1632564000  29.33       35.20      1011        78      25.09  0.00       0   \n",
       "3  1632567600  28.82       33.64      1012        77      24.38  0.00       1   \n",
       "4  1632571200  28.43       32.67      1012        77      24.01  0.00       2   \n",
       "\n",
       "   visibility  wind_speed  wind_deg  wind_gust  \\\n",
       "0       10000        5.98        93       7.36   \n",
       "1       10000        6.21        94       7.84   \n",
       "2       10000        6.12        93       7.91   \n",
       "3       10000        6.23        92       8.27   \n",
       "4       10000        6.60        95       8.79   \n",
       "\n",
       "                                             weather  pop  \n",
       "0  [{'id': 800, 'main': 'Clear', 'description': '...  0.0  \n",
       "1  [{'id': 800, 'main': 'Clear', 'description': '...  0.0  \n",
       "2  [{'id': 800, 'main': 'Clear', 'description': '...  0.0  \n",
       "3  [{'id': 800, 'main': 'Clear', 'description': '...  0.0  \n",
       "4  [{'id': 800, 'main': 'Clear', 'description': '...  0.0  "
      ]
     },
     "execution_count": 10,
     "metadata": {},
     "output_type": "execute_result"
    }
   ],
   "source": [
    "df_hourly.head()"
   ]
  },
  {
   "cell_type": "code",
   "execution_count": null,
   "metadata": {},
   "outputs": [],
   "source": []
  }
 ],
 "metadata": {
  "interpreter": {
   "hash": "c1b4cfe941b6d2466ad1fb5979e97da9cda8801728c8091b097ab734208fc00c"
  },
  "kernelspec": {
   "display_name": "Python 3.8.3 64-bit ('base': conda)",
   "name": "python3"
  },
  "language_info": {
   "codemirror_mode": {
    "name": "ipython",
    "version": 3
   },
   "file_extension": ".py",
   "mimetype": "text/x-python",
   "name": "python",
   "nbconvert_exporter": "python",
   "pygments_lexer": "ipython3",
   "version": "3.8.12"
  }
 },
 "nbformat": 4,
 "nbformat_minor": 2
}
