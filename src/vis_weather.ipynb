{
 "cells": [
  {
   "cell_type": "code",
   "execution_count": 1,
   "metadata": {
    "execution": {
     "iopub.execute_input": "2021-08-25T23:38:16.447301Z",
     "iopub.status.busy": "2021-08-25T23:38:16.446509Z",
     "iopub.status.idle": "2021-08-25T23:38:22.077322Z",
     "shell.execute_reply": "2021-08-25T23:38:22.076164Z"
    }
   },
   "outputs": [],
   "source": [
    "import json, yaml, requests\r\n",
    "from datetime import datetime\r\n",
    "from dateutil import tz\r\n",
    "import pandas as pd\r\n",
    "from PIL import Image\r\n",
    "from io import BytesIO\r\n",
    "import matplotlib.pyplot as plt\r\n",
    "import seaborn\r\n",
    "\r\n",
    "CONFIG_PATH = \"../config/config.yaml\""
   ]
  },
  {
   "cell_type": "code",
   "execution_count": 2,
   "metadata": {
    "execution": {
     "iopub.execute_input": "2021-08-25T23:38:22.082953Z",
     "iopub.status.busy": "2021-08-25T23:38:22.080296Z",
     "iopub.status.idle": "2021-08-25T23:38:22.089292Z",
     "shell.execute_reply": "2021-08-25T23:38:22.088767Z"
    }
   },
   "outputs": [],
   "source": [
    "with open('../newest_ts', 'r') as f:\r\n",
    "    newest_ts = f.read()\r\n",
    "\r\n",
    "data_path = f\"../data/data_{newest_ts}.json\"\r\n",
    "with open(data_path, 'r') as f:\r\n",
    "    data = json.load(f)\r\n",
    "\r\n",
    "with open(CONFIG_PATH, \"r\") as stream:\r\n",
    "    config = yaml.safe_load(stream)\r\n",
    "\r\n",
    "TIME_ZONE = config['time_zone']\r\n",
    "DATETIME_FORMAT = config['dt_format']"
   ]
  },
  {
   "cell_type": "code",
   "execution_count": 3,
   "metadata": {
    "execution": {
     "iopub.execute_input": "2021-08-25T23:38:22.097033Z",
     "iopub.status.busy": "2021-08-25T23:38:22.096108Z",
     "iopub.status.idle": "2021-08-25T23:38:22.101826Z",
     "shell.execute_reply": "2021-08-25T23:38:22.102335Z"
    }
   },
   "outputs": [
    {
     "name": "stdout",
     "output_type": "stream",
     "text": [
      "Recent query happens at 2021-08-26 07:38:11 (CST).\n"
     ]
    }
   ],
   "source": [
    "def ts2dt(ts, format=DATETIME_FORMAT):\r\n",
    "    dt = (datetime.utcfromtimestamp(int(ts))\r\n",
    "                    .replace(tzinfo=tz.tzutc())\r\n",
    "                    # .astimezone(tz.tzlocal())\r\n",
    "                    .astimezone(tz.gettz(TIME_ZONE)))\r\n",
    "    return dt.strftime(format), dt\r\n",
    "\r\n",
    "_, newest_dt = ts2dt(newest_ts)\r\n",
    "print(f\"Recent query happens at {newest_dt.strftime(DATETIME_FORMAT)} ({newest_dt.tzname()}).\")"
   ]
  },
  {
   "cell_type": "code",
   "execution_count": 4,
   "metadata": {
    "execution": {
     "iopub.execute_input": "2021-08-25T23:38:22.110662Z",
     "iopub.status.busy": "2021-08-25T23:38:22.107238Z",
     "iopub.status.idle": "2021-08-25T23:38:22.112969Z",
     "shell.execute_reply": "2021-08-25T23:38:22.112454Z"
    }
   },
   "outputs": [],
   "source": [
    "def degrees_to_cardinal(d):\r\n",
    "  dirs = ['N', 'NNE', 'NE', 'ENE', 'E', 'ESE', 'SE', 'SSE', 'S', 'SSW', 'SW', 'WSW', 'W', 'WNW', 'NW', 'NNW']\r\n",
    "  ix = int(round(d / (360. / len(dirs))))\r\n",
    "  return dirs[ix % len(dirs)]"
   ]
  },
  {
   "cell_type": "code",
   "execution_count": 5,
   "metadata": {
    "execution": {
     "iopub.execute_input": "2021-08-25T23:38:22.117989Z",
     "iopub.status.busy": "2021-08-25T23:38:22.116624Z",
     "iopub.status.idle": "2021-08-25T23:38:22.118700Z",
     "shell.execute_reply": "2021-08-25T23:38:22.119158Z"
    }
   },
   "outputs": [],
   "source": [
    "# data.keys()"
   ]
  },
  {
   "cell_type": "code",
   "execution_count": 6,
   "metadata": {
    "execution": {
     "iopub.execute_input": "2021-08-25T23:38:22.123724Z",
     "iopub.status.busy": "2021-08-25T23:38:22.122326Z",
     "iopub.status.idle": "2021-08-25T23:38:22.124318Z",
     "shell.execute_reply": "2021-08-25T23:38:22.124832Z"
    }
   },
   "outputs": [],
   "source": [
    "# data['current']"
   ]
  },
  {
   "cell_type": "code",
   "execution_count": 7,
   "metadata": {
    "execution": {
     "iopub.execute_input": "2021-08-25T23:38:22.149491Z",
     "iopub.status.busy": "2021-08-25T23:38:22.148722Z",
     "iopub.status.idle": "2021-08-25T23:38:22.622256Z",
     "shell.execute_reply": "2021-08-25T23:38:22.623110Z"
    }
   },
   "outputs": [
    {
     "data": {
      "image/png": "[encoded data removed]",
      "text/plain": [
       "<Figure size 216x216 with 1 Axes>"
      ]
     },
     "metadata": {
      "needs_background": "light"
     },
     "output_type": "display_data"
    },
    {
     "name": "stdout",
     "output_type": "stream",
     "text": [
      "Today, sun rises at 06:03 and sets at 18:46.\n",
      "Currently, the weather is Clouds (overcast clouds).\n",
      "The temperature is 29.36°C and it feels like 36.36°C.\n",
      "The UV index is 1.59, humidity is 84%.\n",
      "The pressure is 1011 hPa, percentage of cloud cover is 89%\n",
      "The wind comes from SE direction with a speed 2.22 m/s.\n"
     ]
    }
   ],
   "source": [
    "current = data['current']\r\n",
    "\r\n",
    "fig, ax = plt.subplots(figsize=(3, 3))\r\n",
    "icon = requests.get(f\"http://openweathermap.org/img/wn/{current['weather'][0]['icon']}@2x.png\")\r\n",
    "im = Image.open(BytesIO(icon.content))\r\n",
    "plt.imshow(im)\r\n",
    "ax.set_axis_off()\r\n",
    "plt.show()\r\n",
    "\r\n",
    "print(f\"Today, sun rises at {ts2dt(current['sunrise'], '%H:%M')[0]} \\\r\n",
    "and sets at {ts2dt(current['sunset'], '%H:%M')[0]}.\\n\\\r\n",
    "Currently, the weather is {current['weather'][0]['main']} ({current['weather'][0]['description']}).\\n\\\r\n",
    "The temperature is {current['temp']}°C and it feels like {current['feels_like']}°C.\\n\\\r\n",
    "The UV index is {current['uvi']}, humidity is {current['humidity']}%.\\n\\\r\n",
    "The pressure is {current['pressure']} hPa, percentage of cloud cover is {current['clouds']}%\\n\\\r\n",
    "The wind comes from {degrees_to_cardinal(current['wind_deg'])} direction with a speed {current['wind_speed']} m/s.\")"
   ]
  },
  {
   "cell_type": "code",
   "execution_count": 8,
   "metadata": {
    "execution": {
     "iopub.execute_input": "2021-08-25T23:38:22.631446Z",
     "iopub.status.busy": "2021-08-25T23:38:22.630596Z",
     "iopub.status.idle": "2021-08-25T23:38:22.635145Z",
     "shell.execute_reply": "2021-08-25T23:38:22.635927Z"
    }
   },
   "outputs": [],
   "source": [
    "df_hourly = pd.DataFrame(data['hourly'])\r\n",
    "df_daily = pd.DataFrame(data['daily'])"
   ]
  },
  {
   "cell_type": "code",
   "execution_count": 9,
   "metadata": {
    "execution": {
     "iopub.execute_input": "2021-08-25T23:38:22.675926Z",
     "iopub.status.busy": "2021-08-25T23:38:22.675194Z",
     "iopub.status.idle": "2021-08-25T23:38:22.992881Z",
     "shell.execute_reply": "2021-08-25T23:38:22.993890Z"
    }
   },
   "outputs": [
    {
     "data": {
      "image/png": "[encoded data removed]",
      "text/plain": [
       "<Figure size 864x432 with 1 Axes>"
      ]
     },
     "metadata": {
      "needs_background": "light"
     },
     "output_type": "display_data"
    }
   ],
   "source": [
    "fig, ax = plt.subplots(figsize=(12, 6))\r\n",
    "plt.plot(df_hourly.temp, '.-', label='Temperature')\r\n",
    "plt.plot(df_hourly.feels_like, '.-', label='Feels Like')\r\n",
    "ax.set(title='Temperature in future 48 hours', xlabel='Time', ylabel='Temperature')\r\n",
    "ax.set_xticks(list(range(0, len(df_hourly), 2)))\r\n",
    "ax.set_xticklabels([ts2dt(ts, '%m-%d %H:%M')[0] for i, ts in enumerate(df_hourly.dt) if i%2==0], \r\n",
    "                   rotation=45, ha=\"right\")\r\n",
    "ax.locator_params(nbins=15, axis='y')\r\n",
    "plt.legend()\r\n",
    "plt.show()"
   ]
  },
  {
   "cell_type": "code",
   "execution_count": 10,
   "metadata": {
    "execution": {
     "iopub.execute_input": "2021-08-25T23:38:23.008566Z",
     "iopub.status.busy": "2021-08-25T23:38:22.999062Z",
     "iopub.status.idle": "2021-08-25T23:38:23.025358Z",
     "shell.execute_reply": "2021-08-25T23:38:23.024592Z"
    }
   },
   "outputs": [
    {
     "data": {
      "text/html": [
       "<div>\n",
       "<style scoped>\n",
       "    .dataframe tbody tr th:only-of-type {\n",
       "        vertical-align: middle;\n",
       "    }\n",
       "\n",
       "    .dataframe tbody tr th {\n",
       "        vertical-align: top;\n",
       "    }\n",
       "\n",
       "    .dataframe thead th {\n",
       "        text-align: right;\n",
       "    }\n",
       "</style>\n",
       "<table border=\"1\" class=\"dataframe\">\n",
       "  <thead>\n",
       "    <tr style=\"text-align: right;\">\n",
       "      <th></th>\n",
       "      <th>dt</th>\n",
       "      <th>temp</th>\n",
       "      <th>feels_like</th>\n",
       "      <th>pressure</th>\n",
       "      <th>humidity</th>\n",
       "      <th>dew_point</th>\n",
       "      <th>uvi</th>\n",
       "      <th>clouds</th>\n",
       "      <th>visibility</th>\n",
       "      <th>wind_speed</th>\n",
       "      <th>wind_deg</th>\n",
       "      <th>wind_gust</th>\n",
       "      <th>weather</th>\n",
       "      <th>pop</th>\n",
       "      <th>rain</th>\n",
       "    </tr>\n",
       "  </thead>\n",
       "  <tbody>\n",
       "    <tr>\n",
       "      <th>0</th>\n",
       "      <td>1629932400</td>\n",
       "      <td>29.10</td>\n",
       "      <td>35.71</td>\n",
       "      <td>1011</td>\n",
       "      <td>83</td>\n",
       "      <td>25.91</td>\n",
       "      <td>0.37</td>\n",
       "      <td>89</td>\n",
       "      <td>10000</td>\n",
       "      <td>2.14</td>\n",
       "      <td>130</td>\n",
       "      <td>2.87</td>\n",
       "      <td>[{'id': 804, 'main': 'Clouds', 'description': ...</td>\n",
       "      <td>0.45</td>\n",
       "      <td>NaN</td>\n",
       "    </tr>\n",
       "    <tr>\n",
       "      <th>1</th>\n",
       "      <td>1629936000</td>\n",
       "      <td>29.36</td>\n",
       "      <td>36.36</td>\n",
       "      <td>1011</td>\n",
       "      <td>84</td>\n",
       "      <td>26.37</td>\n",
       "      <td>1.59</td>\n",
       "      <td>89</td>\n",
       "      <td>10000</td>\n",
       "      <td>2.22</td>\n",
       "      <td>130</td>\n",
       "      <td>2.87</td>\n",
       "      <td>[{'id': 804, 'main': 'Clouds', 'description': ...</td>\n",
       "      <td>0.48</td>\n",
       "      <td>NaN</td>\n",
       "    </tr>\n",
       "    <tr>\n",
       "      <th>2</th>\n",
       "      <td>1629939600</td>\n",
       "      <td>29.28</td>\n",
       "      <td>36.01</td>\n",
       "      <td>1011</td>\n",
       "      <td>82</td>\n",
       "      <td>25.89</td>\n",
       "      <td>4.04</td>\n",
       "      <td>91</td>\n",
       "      <td>10000</td>\n",
       "      <td>2.70</td>\n",
       "      <td>127</td>\n",
       "      <td>3.11</td>\n",
       "      <td>[{'id': 804, 'main': 'Clouds', 'description': ...</td>\n",
       "      <td>0.45</td>\n",
       "      <td>NaN</td>\n",
       "    </tr>\n",
       "    <tr>\n",
       "      <th>3</th>\n",
       "      <td>1629943200</td>\n",
       "      <td>29.44</td>\n",
       "      <td>35.51</td>\n",
       "      <td>1011</td>\n",
       "      <td>78</td>\n",
       "      <td>25.20</td>\n",
       "      <td>7.18</td>\n",
       "      <td>83</td>\n",
       "      <td>10000</td>\n",
       "      <td>2.62</td>\n",
       "      <td>129</td>\n",
       "      <td>2.95</td>\n",
       "      <td>[{'id': 803, 'main': 'Clouds', 'description': ...</td>\n",
       "      <td>0.58</td>\n",
       "      <td>NaN</td>\n",
       "    </tr>\n",
       "    <tr>\n",
       "      <th>4</th>\n",
       "      <td>1629946800</td>\n",
       "      <td>29.73</td>\n",
       "      <td>35.57</td>\n",
       "      <td>1012</td>\n",
       "      <td>75</td>\n",
       "      <td>24.82</td>\n",
       "      <td>10.05</td>\n",
       "      <td>81</td>\n",
       "      <td>10000</td>\n",
       "      <td>2.76</td>\n",
       "      <td>124</td>\n",
       "      <td>2.90</td>\n",
       "      <td>[{'id': 500, 'main': 'Rain', 'description': 'l...</td>\n",
       "      <td>0.64</td>\n",
       "      <td>{'1h': 0.13}</td>\n",
       "    </tr>\n",
       "  </tbody>\n",
       "</table>\n",
       "</div>"
      ],
      "text/plain": [
       "           dt   temp  feels_like  pressure  humidity  dew_point    uvi  \\\n",
       "0  1629932400  29.10       35.71      1011        83      25.91   0.37   \n",
       "1  1629936000  29.36       36.36      1011        84      26.37   1.59   \n",
       "2  1629939600  29.28       36.01      1011        82      25.89   4.04   \n",
       "3  1629943200  29.44       35.51      1011        78      25.20   7.18   \n",
       "4  1629946800  29.73       35.57      1012        75      24.82  10.05   \n",
       "\n",
       "   clouds  visibility  wind_speed  wind_deg  wind_gust  \\\n",
       "0      89       10000        2.14       130       2.87   \n",
       "1      89       10000        2.22       130       2.87   \n",
       "2      91       10000        2.70       127       3.11   \n",
       "3      83       10000        2.62       129       2.95   \n",
       "4      81       10000        2.76       124       2.90   \n",
       "\n",
       "                                             weather   pop          rain  \n",
       "0  [{'id': 804, 'main': 'Clouds', 'description': ...  0.45           NaN  \n",
       "1  [{'id': 804, 'main': 'Clouds', 'description': ...  0.48           NaN  \n",
       "2  [{'id': 804, 'main': 'Clouds', 'description': ...  0.45           NaN  \n",
       "3  [{'id': 803, 'main': 'Clouds', 'description': ...  0.58           NaN  \n",
       "4  [{'id': 500, 'main': 'Rain', 'description': 'l...  0.64  {'1h': 0.13}  "
      ]
     },
     "execution_count": 10,
     "metadata": {},
     "output_type": "execute_result"
    }
   ],
   "source": [
    "df_hourly.head()"
   ]
  },
  {
   "cell_type": "code",
   "execution_count": null,
   "metadata": {},
   "outputs": [],
   "source": []
  }
 ],
 "metadata": {
  "interpreter": {
   "hash": "c1b4cfe941b6d2466ad1fb5979e97da9cda8801728c8091b097ab734208fc00c"
  },
  "kernelspec": {
   "display_name": "Python 3.8.3 64-bit ('base': conda)",
   "name": "python3"
  },
  "language_info": {
   "codemirror_mode": {
    "name": "ipython",
    "version": 3
   },
   "file_extension": ".py",
   "mimetype": "text/x-python",
   "name": "python",
   "nbconvert_exporter": "python",
   "pygments_lexer": "ipython3",
   "version": "3.8.11"
  }
 },
 "nbformat": 4,
 "nbformat_minor": 2
}
