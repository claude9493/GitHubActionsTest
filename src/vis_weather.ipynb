{
 "cells": [
  {
   "cell_type": "code",
   "execution_count": 1,
   "metadata": {
    "execution": {
     "iopub.execute_input": "2021-10-09T17:14:34.209880Z",
     "iopub.status.busy": "2021-10-09T17:14:34.209323Z",
     "iopub.status.idle": "2021-10-09T17:14:35.366906Z",
     "shell.execute_reply": "2021-10-09T17:14:35.366287Z"
    }
   },
   "outputs": [],
   "source": [
    "import json, yaml, requests\r\n",
    "from datetime import datetime\r\n",
    "from dateutil import tz\r\n",
    "import pandas as pd\r\n",
    "from PIL import Image\r\n",
    "from io import BytesIO\r\n",
    "import matplotlib.pyplot as plt\r\n",
    "import seaborn\r\n",
    "\r\n",
    "CONFIG_PATH = \"../config/config.yaml\""
   ]
  },
  {
   "cell_type": "code",
   "execution_count": 2,
   "metadata": {
    "execution": {
     "iopub.execute_input": "2021-10-09T17:14:35.374103Z",
     "iopub.status.busy": "2021-10-09T17:14:35.370937Z",
     "iopub.status.idle": "2021-10-09T17:14:35.376811Z",
     "shell.execute_reply": "2021-10-09T17:14:35.376419Z"
    }
   },
   "outputs": [],
   "source": [
    "with open('../newest_ts', 'r') as f:\r\n",
    "    newest_ts = f.read()\r\n",
    "\r\n",
    "data_path = f\"../data/data_{newest_ts}.json\"\r\n",
    "with open(data_path, 'r') as f:\r\n",
    "    data = json.load(f)\r\n",
    "\r\n",
    "with open(CONFIG_PATH, \"r\") as stream:\r\n",
    "    config = yaml.safe_load(stream)\r\n",
    "\r\n",
    "TIME_ZONE = config['time_zone']\r\n",
    "DATETIME_FORMAT = config['dt_format']"
   ]
  },
  {
   "cell_type": "code",
   "execution_count": 3,
   "metadata": {
    "execution": {
     "iopub.execute_input": "2021-10-09T17:14:35.381019Z",
     "iopub.status.busy": "2021-10-09T17:14:35.380517Z",
     "iopub.status.idle": "2021-10-09T17:14:35.392209Z",
     "shell.execute_reply": "2021-10-09T17:14:35.392582Z"
    }
   },
   "outputs": [
    {
     "name": "stdout",
     "output_type": "stream",
     "text": [
      "Recent query happens at 2021-10-10 01:14:31 (CST).\n"
     ]
    }
   ],
   "source": [
    "def ts2dt(ts, format=DATETIME_FORMAT):\r\n",
    "    dt = (datetime.utcfromtimestamp(int(ts))\r\n",
    "                    .replace(tzinfo=tz.tzutc())\r\n",
    "                    # .astimezone(tz.tzlocal())\r\n",
    "                    .astimezone(tz.gettz(TIME_ZONE)))\r\n",
    "    return dt.strftime(format), dt\r\n",
    "\r\n",
    "_, newest_dt = ts2dt(newest_ts)\r\n",
    "print(f\"Recent query happens at {newest_dt.strftime(DATETIME_FORMAT)} ({newest_dt.tzname()}).\")"
   ]
  },
  {
   "cell_type": "code",
   "execution_count": 4,
   "metadata": {
    "execution": {
     "iopub.execute_input": "2021-10-09T17:14:35.397577Z",
     "iopub.status.busy": "2021-10-09T17:14:35.396406Z",
     "iopub.status.idle": "2021-10-09T17:14:35.398103Z",
     "shell.execute_reply": "2021-10-09T17:14:35.398469Z"
    }
   },
   "outputs": [],
   "source": [
    "def degrees_to_cardinal(d):\r\n",
    "  dirs = ['N', 'NNE', 'NE', 'ENE', 'E', 'ESE', 'SE', 'SSE', 'S', 'SSW', 'SW', 'WSW', 'W', 'WNW', 'NW', 'NNW']\r\n",
    "  ix = int(round(d / (360. / len(dirs))))\r\n",
    "  return dirs[ix % len(dirs)]"
   ]
  },
  {
   "cell_type": "code",
   "execution_count": 5,
   "metadata": {
    "execution": {
     "iopub.execute_input": "2021-10-09T17:14:35.402498Z",
     "iopub.status.busy": "2021-10-09T17:14:35.401415Z",
     "iopub.status.idle": "2021-10-09T17:14:35.403028Z",
     "shell.execute_reply": "2021-10-09T17:14:35.403395Z"
    }
   },
   "outputs": [],
   "source": [
    "# data.keys()"
   ]
  },
  {
   "cell_type": "code",
   "execution_count": 6,
   "metadata": {
    "execution": {
     "iopub.execute_input": "2021-10-09T17:14:35.407117Z",
     "iopub.status.busy": "2021-10-09T17:14:35.406059Z",
     "iopub.status.idle": "2021-10-09T17:14:35.407639Z",
     "shell.execute_reply": "2021-10-09T17:14:35.408002Z"
    }
   },
   "outputs": [],
   "source": [
    "# data['current']"
   ]
  },
  {
   "cell_type": "code",
   "execution_count": 7,
   "metadata": {
    "execution": {
     "iopub.execute_input": "2021-10-09T17:14:35.424571Z",
     "iopub.status.busy": "2021-10-09T17:14:35.424105Z",
     "iopub.status.idle": "2021-10-09T17:14:35.698687Z",
     "shell.execute_reply": "2021-10-09T17:14:35.699374Z"
    }
   },
   "outputs": [
    {
     "data": {
      "image/png": "[encoded data removed]",
      "text/plain": [
       "<Figure size 216x216 with 1 Axes>"
      ]
     },
     "metadata": {
      "needs_background": "light"
     },
     "output_type": "display_data"
    },
    {
     "name": "stdout",
     "output_type": "stream",
     "text": [
      "Today, sun rises at 06:17 and sets at 18:02.\n",
      "Currently, the weather is Rain (moderate rain).\n",
      "The temperature is 25.84°C and it feels like 26.93°C.\n",
      "The UV index is 0, humidity is 94%.\n",
      "The pressure is 1008 hPa, percentage of cloud cover is 100%\n",
      "The wind comes from ESE direction with a speed 1.34 m/s.\n"
     ]
    }
   ],
   "source": [
    "current = data['current']\r\n",
    "\r\n",
    "fig, ax = plt.subplots(figsize=(3, 3))\r\n",
    "icon = requests.get(f\"http://openweathermap.org/img/wn/{current['weather'][0]['icon']}@2x.png\")\r\n",
    "im = Image.open(BytesIO(icon.content))\r\n",
    "plt.imshow(im)\r\n",
    "ax.set_axis_off()\r\n",
    "plt.show()\r\n",
    "\r\n",
    "print(f\"Today, sun rises at {ts2dt(current['sunrise'], '%H:%M')[0]} \\\r\n",
    "and sets at {ts2dt(current['sunset'], '%H:%M')[0]}.\\n\\\r\n",
    "Currently, the weather is {current['weather'][0]['main']} ({current['weather'][0]['description']}).\\n\\\r\n",
    "The temperature is {current['temp']}°C and it feels like {current['feels_like']}°C.\\n\\\r\n",
    "The UV index is {current['uvi']}, humidity is {current['humidity']}%.\\n\\\r\n",
    "The pressure is {current['pressure']} hPa, percentage of cloud cover is {current['clouds']}%\\n\\\r\n",
    "The wind comes from {degrees_to_cardinal(current['wind_deg'])} direction with a speed {current['wind_speed']} m/s.\")"
   ]
  },
  {
   "cell_type": "code",
   "execution_count": 8,
   "metadata": {
    "execution": {
     "iopub.execute_input": "2021-10-09T17:14:35.706616Z",
     "iopub.status.busy": "2021-10-09T17:14:35.706137Z",
     "iopub.status.idle": "2021-10-09T17:14:35.709371Z",
     "shell.execute_reply": "2021-10-09T17:14:35.708975Z"
    }
   },
   "outputs": [],
   "source": [
    "df_hourly = pd.DataFrame(data['hourly'])\r\n",
    "df_daily = pd.DataFrame(data['daily'])"
   ]
  },
  {
   "cell_type": "code",
   "execution_count": 9,
   "metadata": {
    "execution": {
     "iopub.execute_input": "2021-10-09T17:14:35.725692Z",
     "iopub.status.busy": "2021-10-09T17:14:35.725080Z",
     "iopub.status.idle": "2021-10-09T17:14:35.947700Z",
     "shell.execute_reply": "2021-10-09T17:14:35.947231Z"
    }
   },
   "outputs": [
    {
     "data": {
      "image/png": "[encoded data removed]",
      "text/plain": [
       "<Figure size 864x432 with 1 Axes>"
      ]
     },
     "metadata": {
      "needs_background": "light"
     },
     "output_type": "display_data"
    }
   ],
   "source": [
    "fig, ax = plt.subplots(figsize=(12, 6))\r\n",
    "plt.plot(df_hourly.temp, '.-', label='Temperature')\r\n",
    "plt.plot(df_hourly.feels_like, '.-', label='Feels Like')\r\n",
    "ax.set(title='Temperature in future 48 hours', xlabel='Time', ylabel='Temperature')\r\n",
    "ax.set_xticks(list(range(0, len(df_hourly), 2)))\r\n",
    "ax.set_xticklabels([ts2dt(ts, '%m-%d %H:%M')[0] for i, ts in enumerate(df_hourly.dt) if i%2==0], \r\n",
    "                   rotation=45, ha=\"right\")\r\n",
    "ax.locator_params(nbins=15, axis='y')\r\n",
    "plt.legend()\r\n",
    "plt.show()"
   ]
  },
  {
   "cell_type": "code",
   "execution_count": 10,
   "metadata": {
    "execution": {
     "iopub.execute_input": "2021-10-09T17:14:35.951587Z",
     "iopub.status.busy": "2021-10-09T17:14:35.949647Z",
     "iopub.status.idle": "2021-10-09T17:14:35.969664Z",
     "shell.execute_reply": "2021-10-09T17:14:35.969256Z"
    }
   },
   "outputs": [
    {
     "data": {
      "text/html": [
       "<div>\n",
       "<style scoped>\n",
       "    .dataframe tbody tr th:only-of-type {\n",
       "        vertical-align: middle;\n",
       "    }\n",
       "\n",
       "    .dataframe tbody tr th {\n",
       "        vertical-align: top;\n",
       "    }\n",
       "\n",
       "    .dataframe thead th {\n",
       "        text-align: right;\n",
       "    }\n",
       "</style>\n",
       "<table border=\"1\" class=\"dataframe\">\n",
       "  <thead>\n",
       "    <tr style=\"text-align: right;\">\n",
       "      <th></th>\n",
       "      <th>dt</th>\n",
       "      <th>temp</th>\n",
       "      <th>feels_like</th>\n",
       "      <th>pressure</th>\n",
       "      <th>humidity</th>\n",
       "      <th>dew_point</th>\n",
       "      <th>uvi</th>\n",
       "      <th>clouds</th>\n",
       "      <th>visibility</th>\n",
       "      <th>wind_speed</th>\n",
       "      <th>wind_deg</th>\n",
       "      <th>wind_gust</th>\n",
       "      <th>weather</th>\n",
       "      <th>pop</th>\n",
       "      <th>rain</th>\n",
       "    </tr>\n",
       "  </thead>\n",
       "  <tbody>\n",
       "    <tr>\n",
       "      <th>0</th>\n",
       "      <td>1633798800</td>\n",
       "      <td>25.84</td>\n",
       "      <td>26.93</td>\n",
       "      <td>1008</td>\n",
       "      <td>94</td>\n",
       "      <td>24.80</td>\n",
       "      <td>0.0</td>\n",
       "      <td>100</td>\n",
       "      <td>5565</td>\n",
       "      <td>12.50</td>\n",
       "      <td>89</td>\n",
       "      <td>17.57</td>\n",
       "      <td>[{'id': 501, 'main': 'Rain', 'description': 'm...</td>\n",
       "      <td>1.0</td>\n",
       "      <td>{'1h': 2.24}</td>\n",
       "    </tr>\n",
       "    <tr>\n",
       "      <th>1</th>\n",
       "      <td>1633802400</td>\n",
       "      <td>25.78</td>\n",
       "      <td>26.84</td>\n",
       "      <td>1008</td>\n",
       "      <td>93</td>\n",
       "      <td>24.56</td>\n",
       "      <td>0.0</td>\n",
       "      <td>100</td>\n",
       "      <td>4723</td>\n",
       "      <td>12.04</td>\n",
       "      <td>88</td>\n",
       "      <td>16.33</td>\n",
       "      <td>[{'id': 502, 'main': 'Rain', 'description': 'h...</td>\n",
       "      <td>1.0</td>\n",
       "      <td>{'1h': 4.86}</td>\n",
       "    </tr>\n",
       "    <tr>\n",
       "      <th>2</th>\n",
       "      <td>1633806000</td>\n",
       "      <td>25.68</td>\n",
       "      <td>26.73</td>\n",
       "      <td>1008</td>\n",
       "      <td>93</td>\n",
       "      <td>24.46</td>\n",
       "      <td>0.0</td>\n",
       "      <td>100</td>\n",
       "      <td>6116</td>\n",
       "      <td>11.83</td>\n",
       "      <td>86</td>\n",
       "      <td>15.84</td>\n",
       "      <td>[{'id': 804, 'main': 'Clouds', 'description': ...</td>\n",
       "      <td>0.8</td>\n",
       "      <td>NaN</td>\n",
       "    </tr>\n",
       "    <tr>\n",
       "      <th>3</th>\n",
       "      <td>1633809600</td>\n",
       "      <td>25.58</td>\n",
       "      <td>26.60</td>\n",
       "      <td>1007</td>\n",
       "      <td>92</td>\n",
       "      <td>24.18</td>\n",
       "      <td>0.0</td>\n",
       "      <td>100</td>\n",
       "      <td>6018</td>\n",
       "      <td>11.61</td>\n",
       "      <td>85</td>\n",
       "      <td>15.53</td>\n",
       "      <td>[{'id': 501, 'main': 'Rain', 'description': 'm...</td>\n",
       "      <td>1.0</td>\n",
       "      <td>{'1h': 2.2}</td>\n",
       "    </tr>\n",
       "    <tr>\n",
       "      <th>4</th>\n",
       "      <td>1633813200</td>\n",
       "      <td>25.62</td>\n",
       "      <td>26.59</td>\n",
       "      <td>1007</td>\n",
       "      <td>90</td>\n",
       "      <td>23.86</td>\n",
       "      <td>0.0</td>\n",
       "      <td>100</td>\n",
       "      <td>9687</td>\n",
       "      <td>11.35</td>\n",
       "      <td>87</td>\n",
       "      <td>15.10</td>\n",
       "      <td>[{'id': 501, 'main': 'Rain', 'description': 'm...</td>\n",
       "      <td>1.0</td>\n",
       "      <td>{'1h': 1.69}</td>\n",
       "    </tr>\n",
       "  </tbody>\n",
       "</table>\n",
       "</div>"
      ],
      "text/plain": [
       "           dt   temp  feels_like  pressure  humidity  dew_point  uvi  clouds  \\\n",
       "0  1633798800  25.84       26.93      1008        94      24.80  0.0     100   \n",
       "1  1633802400  25.78       26.84      1008        93      24.56  0.0     100   \n",
       "2  1633806000  25.68       26.73      1008        93      24.46  0.0     100   \n",
       "3  1633809600  25.58       26.60      1007        92      24.18  0.0     100   \n",
       "4  1633813200  25.62       26.59      1007        90      23.86  0.0     100   \n",
       "\n",
       "   visibility  wind_speed  wind_deg  wind_gust  \\\n",
       "0        5565       12.50        89      17.57   \n",
       "1        4723       12.04        88      16.33   \n",
       "2        6116       11.83        86      15.84   \n",
       "3        6018       11.61        85      15.53   \n",
       "4        9687       11.35        87      15.10   \n",
       "\n",
       "                                             weather  pop          rain  \n",
       "0  [{'id': 501, 'main': 'Rain', 'description': 'm...  1.0  {'1h': 2.24}  \n",
       "1  [{'id': 502, 'main': 'Rain', 'description': 'h...  1.0  {'1h': 4.86}  \n",
       "2  [{'id': 804, 'main': 'Clouds', 'description': ...  0.8           NaN  \n",
       "3  [{'id': 501, 'main': 'Rain', 'description': 'm...  1.0   {'1h': 2.2}  \n",
       "4  [{'id': 501, 'main': 'Rain', 'description': 'm...  1.0  {'1h': 1.69}  "
      ]
     },
     "execution_count": 10,
     "metadata": {},
     "output_type": "execute_result"
    }
   ],
   "source": [
    "df_hourly.head()"
   ]
  },
  {
   "cell_type": "code",
   "execution_count": null,
   "metadata": {},
   "outputs": [],
   "source": []
  }
 ],
 "metadata": {
  "interpreter": {
   "hash": "c1b4cfe941b6d2466ad1fb5979e97da9cda8801728c8091b097ab734208fc00c"
  },
  "kernelspec": {
   "display_name": "Python 3.8.3 64-bit ('base': conda)",
   "name": "python3"
  },
  "language_info": {
   "codemirror_mode": {
    "name": "ipython",
    "version": 3
   },
   "file_extension": ".py",
   "mimetype": "text/x-python",
   "name": "python",
   "nbconvert_exporter": "python",
   "pygments_lexer": "ipython3",
   "version": "3.8.12"
  }
 },
 "nbformat": 4,
 "nbformat_minor": 2
}
