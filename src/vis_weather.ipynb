{
 "cells": [
  {
   "cell_type": "code",
   "execution_count": 1,
   "metadata": {
    "execution": {
     "iopub.execute_input": "2021-09-30T09:11:13.152644Z",
     "iopub.status.busy": "2021-09-30T09:11:13.148268Z",
     "iopub.status.idle": "2021-09-30T09:11:17.122088Z",
     "shell.execute_reply": "2021-09-30T09:11:17.121456Z"
    }
   },
   "outputs": [],
   "source": [
    "import json, yaml, requests\r\n",
    "from datetime import datetime\r\n",
    "from dateutil import tz\r\n",
    "import pandas as pd\r\n",
    "from PIL import Image\r\n",
    "from io import BytesIO\r\n",
    "import matplotlib.pyplot as plt\r\n",
    "import seaborn\r\n",
    "\r\n",
    "CONFIG_PATH = \"../config/config.yaml\""
   ]
  },
  {
   "cell_type": "code",
   "execution_count": 2,
   "metadata": {
    "execution": {
     "iopub.execute_input": "2021-09-30T09:11:17.129212Z",
     "iopub.status.busy": "2021-09-30T09:11:17.128653Z",
     "iopub.status.idle": "2021-09-30T09:11:17.134453Z",
     "shell.execute_reply": "2021-09-30T09:11:17.133909Z"
    }
   },
   "outputs": [],
   "source": [
    "with open('../newest_ts', 'r') as f:\r\n",
    "    newest_ts = f.read()\r\n",
    "\r\n",
    "data_path = f\"../data/data_{newest_ts}.json\"\r\n",
    "with open(data_path, 'r') as f:\r\n",
    "    data = json.load(f)\r\n",
    "\r\n",
    "with open(CONFIG_PATH, \"r\") as stream:\r\n",
    "    config = yaml.safe_load(stream)\r\n",
    "\r\n",
    "TIME_ZONE = config['time_zone']\r\n",
    "DATETIME_FORMAT = config['dt_format']"
   ]
  },
  {
   "cell_type": "code",
   "execution_count": 3,
   "metadata": {
    "execution": {
     "iopub.execute_input": "2021-09-30T09:11:17.140762Z",
     "iopub.status.busy": "2021-09-30T09:11:17.140196Z",
     "iopub.status.idle": "2021-09-30T09:11:17.153042Z",
     "shell.execute_reply": "2021-09-30T09:11:17.153455Z"
    }
   },
   "outputs": [
    {
     "name": "stdout",
     "output_type": "stream",
     "text": [
      "Recent query happens at 2021-09-30 17:11:09 (CST).\n"
     ]
    }
   ],
   "source": [
    "def ts2dt(ts, format=DATETIME_FORMAT):\r\n",
    "    dt = (datetime.utcfromtimestamp(int(ts))\r\n",
    "                    .replace(tzinfo=tz.tzutc())\r\n",
    "                    # .astimezone(tz.tzlocal())\r\n",
    "                    .astimezone(tz.gettz(TIME_ZONE)))\r\n",
    "    return dt.strftime(format), dt\r\n",
    "\r\n",
    "_, newest_dt = ts2dt(newest_ts)\r\n",
    "print(f\"Recent query happens at {newest_dt.strftime(DATETIME_FORMAT)} ({newest_dt.tzname()}).\")"
   ]
  },
  {
   "cell_type": "code",
   "execution_count": 4,
   "metadata": {
    "execution": {
     "iopub.execute_input": "2021-09-30T09:11:17.161000Z",
     "iopub.status.busy": "2021-09-30T09:11:17.159659Z",
     "iopub.status.idle": "2021-09-30T09:11:17.161619Z",
     "shell.execute_reply": "2021-09-30T09:11:17.162023Z"
    }
   },
   "outputs": [],
   "source": [
    "def degrees_to_cardinal(d):\r\n",
    "  dirs = ['N', 'NNE', 'NE', 'ENE', 'E', 'ESE', 'SE', 'SSE', 'S', 'SSW', 'SW', 'WSW', 'W', 'WNW', 'NW', 'NNW']\r\n",
    "  ix = int(round(d / (360. / len(dirs))))\r\n",
    "  return dirs[ix % len(dirs)]"
   ]
  },
  {
   "cell_type": "code",
   "execution_count": 5,
   "metadata": {
    "execution": {
     "iopub.execute_input": "2021-09-30T09:11:17.168049Z",
     "iopub.status.busy": "2021-09-30T09:11:17.166713Z",
     "iopub.status.idle": "2021-09-30T09:11:17.168665Z",
     "shell.execute_reply": "2021-09-30T09:11:17.169076Z"
    }
   },
   "outputs": [],
   "source": [
    "# data.keys()"
   ]
  },
  {
   "cell_type": "code",
   "execution_count": 6,
   "metadata": {
    "execution": {
     "iopub.execute_input": "2021-09-30T09:11:17.174197Z",
     "iopub.status.busy": "2021-09-30T09:11:17.173009Z",
     "iopub.status.idle": "2021-09-30T09:11:17.174814Z",
     "shell.execute_reply": "2021-09-30T09:11:17.175202Z"
    }
   },
   "outputs": [],
   "source": [
    "# data['current']"
   ]
  },
  {
   "cell_type": "code",
   "execution_count": 7,
   "metadata": {
    "execution": {
     "iopub.execute_input": "2021-09-30T09:11:17.196073Z",
     "iopub.status.busy": "2021-09-30T09:11:17.195523Z",
     "iopub.status.idle": "2021-09-30T09:11:17.594846Z",
     "shell.execute_reply": "2021-09-30T09:11:17.595617Z"
    }
   },
   "outputs": [
    {
     "data": {
      "image/png": "[encoded data removed]",
      "text/plain": [
       "<Figure size 216x216 with 1 Axes>"
      ]
     },
     "metadata": {
      "needs_background": "light"
     },
     "output_type": "display_data"
    },
    {
     "name": "stdout",
     "output_type": "stream",
     "text": [
      "Today, sun rises at 06:13 and sets at 18:12.\n",
      "Currently, the weather is Clouds (few clouds).\n",
      "The temperature is 31.65°C and it feels like 38.65°C.\n",
      "The UV index is 0.78, humidity is 77%.\n",
      "The pressure is 1005 hPa, percentage of cloud cover is 24%\n",
      "The wind comes from S direction with a speed 2.24 m/s.\n"
     ]
    }
   ],
   "source": [
    "current = data['current']\r\n",
    "\r\n",
    "fig, ax = plt.subplots(figsize=(3, 3))\r\n",
    "icon = requests.get(f\"http://openweathermap.org/img/wn/{current['weather'][0]['icon']}@2x.png\")\r\n",
    "im = Image.open(BytesIO(icon.content))\r\n",
    "plt.imshow(im)\r\n",
    "ax.set_axis_off()\r\n",
    "plt.show()\r\n",
    "\r\n",
    "print(f\"Today, sun rises at {ts2dt(current['sunrise'], '%H:%M')[0]} \\\r\n",
    "and sets at {ts2dt(current['sunset'], '%H:%M')[0]}.\\n\\\r\n",
    "Currently, the weather is {current['weather'][0]['main']} ({current['weather'][0]['description']}).\\n\\\r\n",
    "The temperature is {current['temp']}°C and it feels like {current['feels_like']}°C.\\n\\\r\n",
    "The UV index is {current['uvi']}, humidity is {current['humidity']}%.\\n\\\r\n",
    "The pressure is {current['pressure']} hPa, percentage of cloud cover is {current['clouds']}%\\n\\\r\n",
    "The wind comes from {degrees_to_cardinal(current['wind_deg'])} direction with a speed {current['wind_speed']} m/s.\")"
   ]
  },
  {
   "cell_type": "code",
   "execution_count": 8,
   "metadata": {
    "execution": {
     "iopub.execute_input": "2021-09-30T09:11:17.599464Z",
     "iopub.status.busy": "2021-09-30T09:11:17.598958Z",
     "iopub.status.idle": "2021-09-30T09:11:17.607343Z",
     "shell.execute_reply": "2021-09-30T09:11:17.608196Z"
    }
   },
   "outputs": [],
   "source": [
    "df_hourly = pd.DataFrame(data['hourly'])\r\n",
    "df_daily = pd.DataFrame(data['daily'])"
   ]
  },
  {
   "cell_type": "code",
   "execution_count": 9,
   "metadata": {
    "execution": {
     "iopub.execute_input": "2021-09-30T09:11:17.612343Z",
     "iopub.status.busy": "2021-09-30T09:11:17.611140Z",
     "iopub.status.idle": "2021-09-30T09:11:17.891107Z",
     "shell.execute_reply": "2021-09-30T09:11:17.890640Z"
    }
   },
   "outputs": [
    {
     "data": {
      "image/png": "[encoded data removed]",
      "text/plain": [
       "<Figure size 864x432 with 1 Axes>"
      ]
     },
     "metadata": {
      "needs_background": "light"
     },
     "output_type": "display_data"
    }
   ],
   "source": [
    "fig, ax = plt.subplots(figsize=(12, 6))\r\n",
    "plt.plot(df_hourly.temp, '.-', label='Temperature')\r\n",
    "plt.plot(df_hourly.feels_like, '.-', label='Feels Like')\r\n",
    "ax.set(title='Temperature in future 48 hours', xlabel='Time', ylabel='Temperature')\r\n",
    "ax.set_xticks(list(range(0, len(df_hourly), 2)))\r\n",
    "ax.set_xticklabels([ts2dt(ts, '%m-%d %H:%M')[0] for i, ts in enumerate(df_hourly.dt) if i%2==0], \r\n",
    "                   rotation=45, ha=\"right\")\r\n",
    "ax.locator_params(nbins=15, axis='y')\r\n",
    "plt.legend()\r\n",
    "plt.show()"
   ]
  },
  {
   "cell_type": "code",
   "execution_count": 10,
   "metadata": {
    "execution": {
     "iopub.execute_input": "2021-09-30T09:11:17.896314Z",
     "iopub.status.busy": "2021-09-30T09:11:17.895810Z",
     "iopub.status.idle": "2021-09-30T09:11:17.918535Z",
     "shell.execute_reply": "2021-09-30T09:11:17.917746Z"
    }
   },
   "outputs": [
    {
     "data": {
      "text/html": [
       "<div>\n",
       "<style scoped>\n",
       "    .dataframe tbody tr th:only-of-type {\n",
       "        vertical-align: middle;\n",
       "    }\n",
       "\n",
       "    .dataframe tbody tr th {\n",
       "        vertical-align: top;\n",
       "    }\n",
       "\n",
       "    .dataframe thead th {\n",
       "        text-align: right;\n",
       "    }\n",
       "</style>\n",
       "<table border=\"1\" class=\"dataframe\">\n",
       "  <thead>\n",
       "    <tr style=\"text-align: right;\">\n",
       "      <th></th>\n",
       "      <th>dt</th>\n",
       "      <th>temp</th>\n",
       "      <th>feels_like</th>\n",
       "      <th>pressure</th>\n",
       "      <th>humidity</th>\n",
       "      <th>dew_point</th>\n",
       "      <th>uvi</th>\n",
       "      <th>clouds</th>\n",
       "      <th>visibility</th>\n",
       "      <th>wind_speed</th>\n",
       "      <th>wind_deg</th>\n",
       "      <th>wind_gust</th>\n",
       "      <th>weather</th>\n",
       "      <th>pop</th>\n",
       "      <th>rain</th>\n",
       "    </tr>\n",
       "  </thead>\n",
       "  <tbody>\n",
       "    <tr>\n",
       "      <th>0</th>\n",
       "      <td>1632992400</td>\n",
       "      <td>31.65</td>\n",
       "      <td>38.65</td>\n",
       "      <td>1005</td>\n",
       "      <td>77</td>\n",
       "      <td>27.12</td>\n",
       "      <td>0.78</td>\n",
       "      <td>24</td>\n",
       "      <td>10000</td>\n",
       "      <td>4.27</td>\n",
       "      <td>205</td>\n",
       "      <td>4.36</td>\n",
       "      <td>[{'id': 801, 'main': 'Clouds', 'description': ...</td>\n",
       "      <td>0.00</td>\n",
       "      <td>NaN</td>\n",
       "    </tr>\n",
       "    <tr>\n",
       "      <th>1</th>\n",
       "      <td>1632996000</td>\n",
       "      <td>31.20</td>\n",
       "      <td>38.20</td>\n",
       "      <td>1005</td>\n",
       "      <td>76</td>\n",
       "      <td>26.46</td>\n",
       "      <td>0.00</td>\n",
       "      <td>23</td>\n",
       "      <td>10000</td>\n",
       "      <td>3.60</td>\n",
       "      <td>213</td>\n",
       "      <td>4.07</td>\n",
       "      <td>[{'id': 801, 'main': 'Clouds', 'description': ...</td>\n",
       "      <td>0.01</td>\n",
       "      <td>NaN</td>\n",
       "    </tr>\n",
       "    <tr>\n",
       "      <th>2</th>\n",
       "      <td>1632999600</td>\n",
       "      <td>30.57</td>\n",
       "      <td>37.57</td>\n",
       "      <td>1006</td>\n",
       "      <td>78</td>\n",
       "      <td>26.29</td>\n",
       "      <td>0.00</td>\n",
       "      <td>22</td>\n",
       "      <td>10000</td>\n",
       "      <td>3.63</td>\n",
       "      <td>214</td>\n",
       "      <td>4.03</td>\n",
       "      <td>[{'id': 801, 'main': 'Clouds', 'description': ...</td>\n",
       "      <td>0.03</td>\n",
       "      <td>NaN</td>\n",
       "    </tr>\n",
       "    <tr>\n",
       "      <th>3</th>\n",
       "      <td>1633003200</td>\n",
       "      <td>29.92</td>\n",
       "      <td>36.92</td>\n",
       "      <td>1007</td>\n",
       "      <td>79</td>\n",
       "      <td>25.88</td>\n",
       "      <td>0.00</td>\n",
       "      <td>19</td>\n",
       "      <td>10000</td>\n",
       "      <td>3.68</td>\n",
       "      <td>219</td>\n",
       "      <td>4.09</td>\n",
       "      <td>[{'id': 801, 'main': 'Clouds', 'description': ...</td>\n",
       "      <td>0.03</td>\n",
       "      <td>NaN</td>\n",
       "    </tr>\n",
       "    <tr>\n",
       "      <th>4</th>\n",
       "      <td>1633006800</td>\n",
       "      <td>29.19</td>\n",
       "      <td>35.51</td>\n",
       "      <td>1007</td>\n",
       "      <td>81</td>\n",
       "      <td>25.59</td>\n",
       "      <td>0.00</td>\n",
       "      <td>6</td>\n",
       "      <td>10000</td>\n",
       "      <td>3.36</td>\n",
       "      <td>224</td>\n",
       "      <td>3.82</td>\n",
       "      <td>[{'id': 800, 'main': 'Clear', 'description': '...</td>\n",
       "      <td>0.21</td>\n",
       "      <td>NaN</td>\n",
       "    </tr>\n",
       "  </tbody>\n",
       "</table>\n",
       "</div>"
      ],
      "text/plain": [
       "           dt   temp  feels_like  pressure  humidity  dew_point   uvi  clouds  \\\n",
       "0  1632992400  31.65       38.65      1005        77      27.12  0.78      24   \n",
       "1  1632996000  31.20       38.20      1005        76      26.46  0.00      23   \n",
       "2  1632999600  30.57       37.57      1006        78      26.29  0.00      22   \n",
       "3  1633003200  29.92       36.92      1007        79      25.88  0.00      19   \n",
       "4  1633006800  29.19       35.51      1007        81      25.59  0.00       6   \n",
       "\n",
       "   visibility  wind_speed  wind_deg  wind_gust  \\\n",
       "0       10000        4.27       205       4.36   \n",
       "1       10000        3.60       213       4.07   \n",
       "2       10000        3.63       214       4.03   \n",
       "3       10000        3.68       219       4.09   \n",
       "4       10000        3.36       224       3.82   \n",
       "\n",
       "                                             weather   pop rain  \n",
       "0  [{'id': 801, 'main': 'Clouds', 'description': ...  0.00  NaN  \n",
       "1  [{'id': 801, 'main': 'Clouds', 'description': ...  0.01  NaN  \n",
       "2  [{'id': 801, 'main': 'Clouds', 'description': ...  0.03  NaN  \n",
       "3  [{'id': 801, 'main': 'Clouds', 'description': ...  0.03  NaN  \n",
       "4  [{'id': 800, 'main': 'Clear', 'description': '...  0.21  NaN  "
      ]
     },
     "execution_count": 10,
     "metadata": {},
     "output_type": "execute_result"
    }
   ],
   "source": [
    "df_hourly.head()"
   ]
  },
  {
   "cell_type": "code",
   "execution_count": null,
   "metadata": {},
   "outputs": [],
   "source": []
  }
 ],
 "metadata": {
  "interpreter": {
   "hash": "c1b4cfe941b6d2466ad1fb5979e97da9cda8801728c8091b097ab734208fc00c"
  },
  "kernelspec": {
   "display_name": "Python 3.8.3 64-bit ('base': conda)",
   "name": "python3"
  },
  "language_info": {
   "codemirror_mode": {
    "name": "ipython",
    "version": 3
   },
   "file_extension": ".py",
   "mimetype": "text/x-python",
   "name": "python",
   "nbconvert_exporter": "python",
   "pygments_lexer": "ipython3",
   "version": "3.8.12"
  }
 },
 "nbformat": 4,
 "nbformat_minor": 2
}
