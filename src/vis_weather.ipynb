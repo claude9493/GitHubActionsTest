{
 "cells": [
  {
   "cell_type": "code",
   "execution_count": 1,
   "metadata": {
    "execution": {
     "iopub.execute_input": "2021-09-26T23:11:23.310722Z",
     "iopub.status.busy": "2021-09-26T23:11:23.308620Z",
     "iopub.status.idle": "2021-09-26T23:11:27.553193Z",
     "shell.execute_reply": "2021-09-26T23:11:27.552474Z"
    }
   },
   "outputs": [],
   "source": [
    "import json, yaml, requests\r\n",
    "from datetime import datetime\r\n",
    "from dateutil import tz\r\n",
    "import pandas as pd\r\n",
    "from PIL import Image\r\n",
    "from io import BytesIO\r\n",
    "import matplotlib.pyplot as plt\r\n",
    "import seaborn\r\n",
    "\r\n",
    "CONFIG_PATH = \"../config/config.yaml\""
   ]
  },
  {
   "cell_type": "code",
   "execution_count": 2,
   "metadata": {
    "execution": {
     "iopub.execute_input": "2021-09-26T23:11:27.559596Z",
     "iopub.status.busy": "2021-09-26T23:11:27.558267Z",
     "iopub.status.idle": "2021-09-26T23:11:27.565462Z",
     "shell.execute_reply": "2021-09-26T23:11:27.564663Z"
    }
   },
   "outputs": [],
   "source": [
    "with open('../newest_ts', 'r') as f:\r\n",
    "    newest_ts = f.read()\r\n",
    "\r\n",
    "data_path = f\"../data/data_{newest_ts}.json\"\r\n",
    "with open(data_path, 'r') as f:\r\n",
    "    data = json.load(f)\r\n",
    "\r\n",
    "with open(CONFIG_PATH, \"r\") as stream:\r\n",
    "    config = yaml.safe_load(stream)\r\n",
    "\r\n",
    "TIME_ZONE = config['time_zone']\r\n",
    "DATETIME_FORMAT = config['dt_format']"
   ]
  },
  {
   "cell_type": "code",
   "execution_count": 3,
   "metadata": {
    "execution": {
     "iopub.execute_input": "2021-09-26T23:11:27.570417Z",
     "iopub.status.busy": "2021-09-26T23:11:27.569670Z",
     "iopub.status.idle": "2021-09-26T23:11:27.574505Z",
     "shell.execute_reply": "2021-09-26T23:11:27.573923Z"
    }
   },
   "outputs": [
    {
     "name": "stdout",
     "output_type": "stream",
     "text": [
      "Recent query happens at 2021-09-27 07:11:19 (CST).\n"
     ]
    }
   ],
   "source": [
    "def ts2dt(ts, format=DATETIME_FORMAT):\r\n",
    "    dt = (datetime.utcfromtimestamp(int(ts))\r\n",
    "                    .replace(tzinfo=tz.tzutc())\r\n",
    "                    # .astimezone(tz.tzlocal())\r\n",
    "                    .astimezone(tz.gettz(TIME_ZONE)))\r\n",
    "    return dt.strftime(format), dt\r\n",
    "\r\n",
    "_, newest_dt = ts2dt(newest_ts)\r\n",
    "print(f\"Recent query happens at {newest_dt.strftime(DATETIME_FORMAT)} ({newest_dt.tzname()}).\")"
   ]
  },
  {
   "cell_type": "code",
   "execution_count": 4,
   "metadata": {
    "execution": {
     "iopub.execute_input": "2021-09-26T23:11:27.579492Z",
     "iopub.status.busy": "2021-09-26T23:11:27.578929Z",
     "iopub.status.idle": "2021-09-26T23:11:27.580915Z",
     "shell.execute_reply": "2021-09-26T23:11:27.581391Z"
    }
   },
   "outputs": [],
   "source": [
    "def degrees_to_cardinal(d):\r\n",
    "  dirs = ['N', 'NNE', 'NE', 'ENE', 'E', 'ESE', 'SE', 'SSE', 'S', 'SSW', 'SW', 'WSW', 'W', 'WNW', 'NW', 'NNW']\r\n",
    "  ix = int(round(d / (360. / len(dirs))))\r\n",
    "  return dirs[ix % len(dirs)]"
   ]
  },
  {
   "cell_type": "code",
   "execution_count": 5,
   "metadata": {
    "execution": {
     "iopub.execute_input": "2021-09-26T23:11:27.585494Z",
     "iopub.status.busy": "2021-09-26T23:11:27.584840Z",
     "iopub.status.idle": "2021-09-26T23:11:27.587994Z",
     "shell.execute_reply": "2021-09-26T23:11:27.587469Z"
    }
   },
   "outputs": [],
   "source": [
    "# data.keys()"
   ]
  },
  {
   "cell_type": "code",
   "execution_count": 6,
   "metadata": {
    "execution": {
     "iopub.execute_input": "2021-09-26T23:11:27.592546Z",
     "iopub.status.busy": "2021-09-26T23:11:27.591266Z",
     "iopub.status.idle": "2021-09-26T23:11:27.593247Z",
     "shell.execute_reply": "2021-09-26T23:11:27.593718Z"
    }
   },
   "outputs": [],
   "source": [
    "# data['current']"
   ]
  },
  {
   "cell_type": "code",
   "execution_count": 7,
   "metadata": {
    "execution": {
     "iopub.execute_input": "2021-09-26T23:11:27.614806Z",
     "iopub.status.busy": "2021-09-26T23:11:27.614252Z",
     "iopub.status.idle": "2021-09-26T23:11:28.096369Z",
     "shell.execute_reply": "2021-09-26T23:11:28.097226Z"
    }
   },
   "outputs": [
    {
     "data": {
      "image/png": "[encoded data removed]",
      "text/plain": [
       "<Figure size 216x216 with 1 Axes>"
      ]
     },
     "metadata": {
      "needs_background": "light"
     },
     "output_type": "display_data"
    },
    {
     "name": "stdout",
     "output_type": "stream",
     "text": [
      "Today, sun rises at 06:13 and sets at 18:14.\n",
      "Currently, the weather is Clouds (few clouds).\n",
      "The temperature is 27.81°C and it feels like 32.21°C.\n",
      "The UV index is 0.19, humidity is 84%.\n",
      "The pressure is 1011 hPa, percentage of cloud cover is 23%\n",
      "The wind comes from NE direction with a speed 0.45 m/s.\n"
     ]
    }
   ],
   "source": [
    "current = data['current']\r\n",
    "\r\n",
    "fig, ax = plt.subplots(figsize=(3, 3))\r\n",
    "icon = requests.get(f\"http://openweathermap.org/img/wn/{current['weather'][0]['icon']}@2x.png\")\r\n",
    "im = Image.open(BytesIO(icon.content))\r\n",
    "plt.imshow(im)\r\n",
    "ax.set_axis_off()\r\n",
    "plt.show()\r\n",
    "\r\n",
    "print(f\"Today, sun rises at {ts2dt(current['sunrise'], '%H:%M')[0]} \\\r\n",
    "and sets at {ts2dt(current['sunset'], '%H:%M')[0]}.\\n\\\r\n",
    "Currently, the weather is {current['weather'][0]['main']} ({current['weather'][0]['description']}).\\n\\\r\n",
    "The temperature is {current['temp']}°C and it feels like {current['feels_like']}°C.\\n\\\r\n",
    "The UV index is {current['uvi']}, humidity is {current['humidity']}%.\\n\\\r\n",
    "The pressure is {current['pressure']} hPa, percentage of cloud cover is {current['clouds']}%\\n\\\r\n",
    "The wind comes from {degrees_to_cardinal(current['wind_deg'])} direction with a speed {current['wind_speed']} m/s.\")"
   ]
  },
  {
   "cell_type": "code",
   "execution_count": 8,
   "metadata": {
    "execution": {
     "iopub.execute_input": "2021-09-26T23:11:28.101099Z",
     "iopub.status.busy": "2021-09-26T23:11:28.099860Z",
     "iopub.status.idle": "2021-09-26T23:11:28.108575Z",
     "shell.execute_reply": "2021-09-26T23:11:28.109361Z"
    }
   },
   "outputs": [],
   "source": [
    "df_hourly = pd.DataFrame(data['hourly'])\r\n",
    "df_daily = pd.DataFrame(data['daily'])"
   ]
  },
  {
   "cell_type": "code",
   "execution_count": 9,
   "metadata": {
    "execution": {
     "iopub.execute_input": "2021-09-26T23:11:28.112838Z",
     "iopub.status.busy": "2021-09-26T23:11:28.111637Z",
     "iopub.status.idle": "2021-09-26T23:11:28.430835Z",
     "shell.execute_reply": "2021-09-26T23:11:28.431680Z"
    }
   },
   "outputs": [
    {
     "data": {
      "image/png": "[encoded data removed]",
      "text/plain": [
       "<Figure size 864x432 with 1 Axes>"
      ]
     },
     "metadata": {
      "needs_background": "light"
     },
     "output_type": "display_data"
    }
   ],
   "source": [
    "fig, ax = plt.subplots(figsize=(12, 6))\r\n",
    "plt.plot(df_hourly.temp, '.-', label='Temperature')\r\n",
    "plt.plot(df_hourly.feels_like, '.-', label='Feels Like')\r\n",
    "ax.set(title='Temperature in future 48 hours', xlabel='Time', ylabel='Temperature')\r\n",
    "ax.set_xticks(list(range(0, len(df_hourly), 2)))\r\n",
    "ax.set_xticklabels([ts2dt(ts, '%m-%d %H:%M')[0] for i, ts in enumerate(df_hourly.dt) if i%2==0], \r\n",
    "                   rotation=45, ha=\"right\")\r\n",
    "ax.locator_params(nbins=15, axis='y')\r\n",
    "plt.legend()\r\n",
    "plt.show()"
   ]
  },
  {
   "cell_type": "code",
   "execution_count": 10,
   "metadata": {
    "execution": {
     "iopub.execute_input": "2021-09-26T23:11:28.450903Z",
     "iopub.status.busy": "2021-09-26T23:11:28.436110Z",
     "iopub.status.idle": "2021-09-26T23:11:28.456176Z",
     "shell.execute_reply": "2021-09-26T23:11:28.455694Z"
    }
   },
   "outputs": [
    {
     "data": {
      "text/html": [
       "<div>\n",
       "<style scoped>\n",
       "    .dataframe tbody tr th:only-of-type {\n",
       "        vertical-align: middle;\n",
       "    }\n",
       "\n",
       "    .dataframe tbody tr th {\n",
       "        vertical-align: top;\n",
       "    }\n",
       "\n",
       "    .dataframe thead th {\n",
       "        text-align: right;\n",
       "    }\n",
       "</style>\n",
       "<table border=\"1\" class=\"dataframe\">\n",
       "  <thead>\n",
       "    <tr style=\"text-align: right;\">\n",
       "      <th></th>\n",
       "      <th>dt</th>\n",
       "      <th>temp</th>\n",
       "      <th>feels_like</th>\n",
       "      <th>pressure</th>\n",
       "      <th>humidity</th>\n",
       "      <th>dew_point</th>\n",
       "      <th>uvi</th>\n",
       "      <th>clouds</th>\n",
       "      <th>visibility</th>\n",
       "      <th>wind_speed</th>\n",
       "      <th>wind_deg</th>\n",
       "      <th>wind_gust</th>\n",
       "      <th>weather</th>\n",
       "      <th>pop</th>\n",
       "    </tr>\n",
       "  </thead>\n",
       "  <tbody>\n",
       "    <tr>\n",
       "      <th>0</th>\n",
       "      <td>1632697200</td>\n",
       "      <td>27.81</td>\n",
       "      <td>32.21</td>\n",
       "      <td>1011</td>\n",
       "      <td>84</td>\n",
       "      <td>24.86</td>\n",
       "      <td>0.19</td>\n",
       "      <td>23</td>\n",
       "      <td>10000</td>\n",
       "      <td>3.28</td>\n",
       "      <td>71</td>\n",
       "      <td>3.90</td>\n",
       "      <td>[{'id': 801, 'main': 'Clouds', 'description': ...</td>\n",
       "      <td>0</td>\n",
       "    </tr>\n",
       "    <tr>\n",
       "      <th>1</th>\n",
       "      <td>1632700800</td>\n",
       "      <td>27.81</td>\n",
       "      <td>31.92</td>\n",
       "      <td>1011</td>\n",
       "      <td>82</td>\n",
       "      <td>24.45</td>\n",
       "      <td>1.09</td>\n",
       "      <td>24</td>\n",
       "      <td>10000</td>\n",
       "      <td>3.77</td>\n",
       "      <td>74</td>\n",
       "      <td>4.16</td>\n",
       "      <td>[{'id': 801, 'main': 'Clouds', 'description': ...</td>\n",
       "      <td>0</td>\n",
       "    </tr>\n",
       "    <tr>\n",
       "      <th>2</th>\n",
       "      <td>1632704400</td>\n",
       "      <td>28.08</td>\n",
       "      <td>32.14</td>\n",
       "      <td>1011</td>\n",
       "      <td>79</td>\n",
       "      <td>24.09</td>\n",
       "      <td>3.10</td>\n",
       "      <td>31</td>\n",
       "      <td>10000</td>\n",
       "      <td>4.14</td>\n",
       "      <td>76</td>\n",
       "      <td>4.15</td>\n",
       "      <td>[{'id': 802, 'main': 'Clouds', 'description': ...</td>\n",
       "      <td>0</td>\n",
       "    </tr>\n",
       "    <tr>\n",
       "      <th>3</th>\n",
       "      <td>1632708000</td>\n",
       "      <td>28.45</td>\n",
       "      <td>32.55</td>\n",
       "      <td>1012</td>\n",
       "      <td>76</td>\n",
       "      <td>23.81</td>\n",
       "      <td>5.90</td>\n",
       "      <td>33</td>\n",
       "      <td>10000</td>\n",
       "      <td>4.29</td>\n",
       "      <td>78</td>\n",
       "      <td>3.94</td>\n",
       "      <td>[{'id': 802, 'main': 'Clouds', 'description': ...</td>\n",
       "      <td>0</td>\n",
       "    </tr>\n",
       "    <tr>\n",
       "      <th>4</th>\n",
       "      <td>1632711600</td>\n",
       "      <td>28.87</td>\n",
       "      <td>32.81</td>\n",
       "      <td>1012</td>\n",
       "      <td>72</td>\n",
       "      <td>23.31</td>\n",
       "      <td>8.55</td>\n",
       "      <td>32</td>\n",
       "      <td>10000</td>\n",
       "      <td>4.20</td>\n",
       "      <td>85</td>\n",
       "      <td>3.74</td>\n",
       "      <td>[{'id': 802, 'main': 'Clouds', 'description': ...</td>\n",
       "      <td>0</td>\n",
       "    </tr>\n",
       "  </tbody>\n",
       "</table>\n",
       "</div>"
      ],
      "text/plain": [
       "           dt   temp  feels_like  pressure  humidity  dew_point   uvi  clouds  \\\n",
       "0  1632697200  27.81       32.21      1011        84      24.86  0.19      23   \n",
       "1  1632700800  27.81       31.92      1011        82      24.45  1.09      24   \n",
       "2  1632704400  28.08       32.14      1011        79      24.09  3.10      31   \n",
       "3  1632708000  28.45       32.55      1012        76      23.81  5.90      33   \n",
       "4  1632711600  28.87       32.81      1012        72      23.31  8.55      32   \n",
       "\n",
       "   visibility  wind_speed  wind_deg  wind_gust  \\\n",
       "0       10000        3.28        71       3.90   \n",
       "1       10000        3.77        74       4.16   \n",
       "2       10000        4.14        76       4.15   \n",
       "3       10000        4.29        78       3.94   \n",
       "4       10000        4.20        85       3.74   \n",
       "\n",
       "                                             weather  pop  \n",
       "0  [{'id': 801, 'main': 'Clouds', 'description': ...    0  \n",
       "1  [{'id': 801, 'main': 'Clouds', 'description': ...    0  \n",
       "2  [{'id': 802, 'main': 'Clouds', 'description': ...    0  \n",
       "3  [{'id': 802, 'main': 'Clouds', 'description': ...    0  \n",
       "4  [{'id': 802, 'main': 'Clouds', 'description': ...    0  "
      ]
     },
     "execution_count": 10,
     "metadata": {},
     "output_type": "execute_result"
    }
   ],
   "source": [
    "df_hourly.head()"
   ]
  },
  {
   "cell_type": "code",
   "execution_count": null,
   "metadata": {},
   "outputs": [],
   "source": []
  }
 ],
 "metadata": {
  "interpreter": {
   "hash": "c1b4cfe941b6d2466ad1fb5979e97da9cda8801728c8091b097ab734208fc00c"
  },
  "kernelspec": {
   "display_name": "Python 3.8.3 64-bit ('base': conda)",
   "name": "python3"
  },
  "language_info": {
   "codemirror_mode": {
    "name": "ipython",
    "version": 3
   },
   "file_extension": ".py",
   "mimetype": "text/x-python",
   "name": "python",
   "nbconvert_exporter": "python",
   "pygments_lexer": "ipython3",
   "version": "3.8.12"
  }
 },
 "nbformat": 4,
 "nbformat_minor": 2
}
