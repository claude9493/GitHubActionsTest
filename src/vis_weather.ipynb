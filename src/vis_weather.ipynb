{
 "cells": [
  {
   "cell_type": "code",
   "execution_count": 1,
   "metadata": {
    "execution": {
     "iopub.execute_input": "2021-09-21T06:13:53.283483Z",
     "iopub.status.busy": "2021-09-21T06:13:53.282629Z",
     "iopub.status.idle": "2021-09-21T06:13:59.213026Z",
     "shell.execute_reply": "2021-09-21T06:13:59.212318Z"
    }
   },
   "outputs": [],
   "source": [
    "import json, yaml, requests\r\n",
    "from datetime import datetime\r\n",
    "from dateutil import tz\r\n",
    "import pandas as pd\r\n",
    "from PIL import Image\r\n",
    "from io import BytesIO\r\n",
    "import matplotlib.pyplot as plt\r\n",
    "import seaborn\r\n",
    "\r\n",
    "CONFIG_PATH = \"../config/config.yaml\""
   ]
  },
  {
   "cell_type": "code",
   "execution_count": 2,
   "metadata": {
    "execution": {
     "iopub.execute_input": "2021-09-21T06:13:59.218885Z",
     "iopub.status.busy": "2021-09-21T06:13:59.218141Z",
     "iopub.status.idle": "2021-09-21T06:13:59.224107Z",
     "shell.execute_reply": "2021-09-21T06:13:59.223650Z"
    }
   },
   "outputs": [],
   "source": [
    "with open('../newest_ts', 'r') as f:\r\n",
    "    newest_ts = f.read()\r\n",
    "\r\n",
    "data_path = f\"../data/data_{newest_ts}.json\"\r\n",
    "with open(data_path, 'r') as f:\r\n",
    "    data = json.load(f)\r\n",
    "\r\n",
    "with open(CONFIG_PATH, \"r\") as stream:\r\n",
    "    config = yaml.safe_load(stream)\r\n",
    "\r\n",
    "TIME_ZONE = config['time_zone']\r\n",
    "DATETIME_FORMAT = config['dt_format']"
   ]
  },
  {
   "cell_type": "code",
   "execution_count": 3,
   "metadata": {
    "execution": {
     "iopub.execute_input": "2021-09-21T06:13:59.229117Z",
     "iopub.status.busy": "2021-09-21T06:13:59.228546Z",
     "iopub.status.idle": "2021-09-21T06:13:59.258942Z",
     "shell.execute_reply": "2021-09-21T06:13:59.259572Z"
    }
   },
   "outputs": [
    {
     "name": "stdout",
     "output_type": "stream",
     "text": [
      "Recent query happens at 2021-09-21 14:13:49 (CST).\n"
     ]
    }
   ],
   "source": [
    "def ts2dt(ts, format=DATETIME_FORMAT):\r\n",
    "    dt = (datetime.utcfromtimestamp(int(ts))\r\n",
    "                    .replace(tzinfo=tz.tzutc())\r\n",
    "                    # .astimezone(tz.tzlocal())\r\n",
    "                    .astimezone(tz.gettz(TIME_ZONE)))\r\n",
    "    return dt.strftime(format), dt\r\n",
    "\r\n",
    "_, newest_dt = ts2dt(newest_ts)\r\n",
    "print(f\"Recent query happens at {newest_dt.strftime(DATETIME_FORMAT)} ({newest_dt.tzname()}).\")"
   ]
  },
  {
   "cell_type": "code",
   "execution_count": 4,
   "metadata": {
    "execution": {
     "iopub.execute_input": "2021-09-21T06:13:59.264660Z",
     "iopub.status.busy": "2021-09-21T06:13:59.262237Z",
     "iopub.status.idle": "2021-09-21T06:13:59.266668Z",
     "shell.execute_reply": "2021-09-21T06:13:59.267098Z"
    }
   },
   "outputs": [],
   "source": [
    "def degrees_to_cardinal(d):\r\n",
    "  dirs = ['N', 'NNE', 'NE', 'ENE', 'E', 'ESE', 'SE', 'SSE', 'S', 'SSW', 'SW', 'WSW', 'W', 'WNW', 'NW', 'NNW']\r\n",
    "  ix = int(round(d / (360. / len(dirs))))\r\n",
    "  return dirs[ix % len(dirs)]"
   ]
  },
  {
   "cell_type": "code",
   "execution_count": 5,
   "metadata": {
    "execution": {
     "iopub.execute_input": "2021-09-21T06:13:59.272651Z",
     "iopub.status.busy": "2021-09-21T06:13:59.271276Z",
     "iopub.status.idle": "2021-09-21T06:13:59.273269Z",
     "shell.execute_reply": "2021-09-21T06:13:59.273742Z"
    }
   },
   "outputs": [],
   "source": [
    "# data.keys()"
   ]
  },
  {
   "cell_type": "code",
   "execution_count": 6,
   "metadata": {
    "execution": {
     "iopub.execute_input": "2021-09-21T06:13:59.282497Z",
     "iopub.status.busy": "2021-09-21T06:13:59.280826Z",
     "iopub.status.idle": "2021-09-21T06:13:59.283130Z",
     "shell.execute_reply": "2021-09-21T06:13:59.283627Z"
    }
   },
   "outputs": [],
   "source": [
    "# data['current']"
   ]
  },
  {
   "cell_type": "code",
   "execution_count": 7,
   "metadata": {
    "execution": {
     "iopub.execute_input": "2021-09-21T06:13:59.304999Z",
     "iopub.status.busy": "2021-09-21T06:13:59.286577Z",
     "iopub.status.idle": "2021-09-21T06:13:59.752258Z",
     "shell.execute_reply": "2021-09-21T06:13:59.753117Z"
    }
   },
   "outputs": [
    {
     "data": {
      "image/png": "[encoded data removed]",
      "text/plain": [
       "<Figure size 216x216 with 1 Axes>"
      ]
     },
     "metadata": {
      "needs_background": "light"
     },
     "output_type": "display_data"
    },
    {
     "name": "stdout",
     "output_type": "stream",
     "text": [
      "Today, sun rises at 06:11 and sets at 18:20.\n",
      "Currently, the weather is Clouds (broken clouds).\n",
      "The temperature is 30.75°C and it feels like 35.31°C.\n",
      "The UV index is 8.23, humidity is 64%.\n",
      "The pressure is 1008 hPa, percentage of cloud cover is 75%\n",
      "The wind comes from SSE direction with a speed 2.21 m/s.\n"
     ]
    }
   ],
   "source": [
    "current = data['current']\r\n",
    "\r\n",
    "fig, ax = plt.subplots(figsize=(3, 3))\r\n",
    "icon = requests.get(f\"http://openweathermap.org/img/wn/{current['weather'][0]['icon']}@2x.png\")\r\n",
    "im = Image.open(BytesIO(icon.content))\r\n",
    "plt.imshow(im)\r\n",
    "ax.set_axis_off()\r\n",
    "plt.show()\r\n",
    "\r\n",
    "print(f\"Today, sun rises at {ts2dt(current['sunrise'], '%H:%M')[0]} \\\r\n",
    "and sets at {ts2dt(current['sunset'], '%H:%M')[0]}.\\n\\\r\n",
    "Currently, the weather is {current['weather'][0]['main']} ({current['weather'][0]['description']}).\\n\\\r\n",
    "The temperature is {current['temp']}°C and it feels like {current['feels_like']}°C.\\n\\\r\n",
    "The UV index is {current['uvi']}, humidity is {current['humidity']}%.\\n\\\r\n",
    "The pressure is {current['pressure']} hPa, percentage of cloud cover is {current['clouds']}%\\n\\\r\n",
    "The wind comes from {degrees_to_cardinal(current['wind_deg'])} direction with a speed {current['wind_speed']} m/s.\")"
   ]
  },
  {
   "cell_type": "code",
   "execution_count": 8,
   "metadata": {
    "execution": {
     "iopub.execute_input": "2021-09-21T06:13:59.756793Z",
     "iopub.status.busy": "2021-09-21T06:13:59.755695Z",
     "iopub.status.idle": "2021-09-21T06:13:59.764375Z",
     "shell.execute_reply": "2021-09-21T06:13:59.765253Z"
    }
   },
   "outputs": [],
   "source": [
    "df_hourly = pd.DataFrame(data['hourly'])\r\n",
    "df_daily = pd.DataFrame(data['daily'])"
   ]
  },
  {
   "cell_type": "code",
   "execution_count": 9,
   "metadata": {
    "execution": {
     "iopub.execute_input": "2021-09-21T06:13:59.768620Z",
     "iopub.status.busy": "2021-09-21T06:13:59.767559Z",
     "iopub.status.idle": "2021-09-21T06:14:00.090732Z",
     "shell.execute_reply": "2021-09-21T06:14:00.091463Z"
    }
   },
   "outputs": [
    {
     "data": {
      "image/png": "[encoded data removed]",
      "text/plain": [
       "<Figure size 864x432 with 1 Axes>"
      ]
     },
     "metadata": {
      "needs_background": "light"
     },
     "output_type": "display_data"
    }
   ],
   "source": [
    "fig, ax = plt.subplots(figsize=(12, 6))\r\n",
    "plt.plot(df_hourly.temp, '.-', label='Temperature')\r\n",
    "plt.plot(df_hourly.feels_like, '.-', label='Feels Like')\r\n",
    "ax.set(title='Temperature in future 48 hours', xlabel='Time', ylabel='Temperature')\r\n",
    "ax.set_xticks(list(range(0, len(df_hourly), 2)))\r\n",
    "ax.set_xticklabels([ts2dt(ts, '%m-%d %H:%M')[0] for i, ts in enumerate(df_hourly.dt) if i%2==0], \r\n",
    "                   rotation=45, ha=\"right\")\r\n",
    "ax.locator_params(nbins=15, axis='y')\r\n",
    "plt.legend()\r\n",
    "plt.show()"
   ]
  },
  {
   "cell_type": "code",
   "execution_count": 10,
   "metadata": {
    "execution": {
     "iopub.execute_input": "2021-09-21T06:14:00.118389Z",
     "iopub.status.busy": "2021-09-21T06:14:00.095785Z",
     "iopub.status.idle": "2021-09-21T06:14:00.123513Z",
     "shell.execute_reply": "2021-09-21T06:14:00.124025Z"
    }
   },
   "outputs": [
    {
     "data": {
      "text/html": [
       "<div>\n",
       "<style scoped>\n",
       "    .dataframe tbody tr th:only-of-type {\n",
       "        vertical-align: middle;\n",
       "    }\n",
       "\n",
       "    .dataframe tbody tr th {\n",
       "        vertical-align: top;\n",
       "    }\n",
       "\n",
       "    .dataframe thead th {\n",
       "        text-align: right;\n",
       "    }\n",
       "</style>\n",
       "<table border=\"1\" class=\"dataframe\">\n",
       "  <thead>\n",
       "    <tr style=\"text-align: right;\">\n",
       "      <th></th>\n",
       "      <th>dt</th>\n",
       "      <th>temp</th>\n",
       "      <th>feels_like</th>\n",
       "      <th>pressure</th>\n",
       "      <th>humidity</th>\n",
       "      <th>dew_point</th>\n",
       "      <th>uvi</th>\n",
       "      <th>clouds</th>\n",
       "      <th>visibility</th>\n",
       "      <th>wind_speed</th>\n",
       "      <th>wind_deg</th>\n",
       "      <th>wind_gust</th>\n",
       "      <th>weather</th>\n",
       "      <th>pop</th>\n",
       "      <th>rain</th>\n",
       "    </tr>\n",
       "  </thead>\n",
       "  <tbody>\n",
       "    <tr>\n",
       "      <th>0</th>\n",
       "      <td>1632204000</td>\n",
       "      <td>30.75</td>\n",
       "      <td>35.31</td>\n",
       "      <td>1008</td>\n",
       "      <td>64</td>\n",
       "      <td>23.15</td>\n",
       "      <td>8.23</td>\n",
       "      <td>75</td>\n",
       "      <td>10000</td>\n",
       "      <td>2.21</td>\n",
       "      <td>150</td>\n",
       "      <td>1.89</td>\n",
       "      <td>[{'id': 803, 'main': 'Clouds', 'description': ...</td>\n",
       "      <td>0.44</td>\n",
       "      <td>NaN</td>\n",
       "    </tr>\n",
       "    <tr>\n",
       "      <th>1</th>\n",
       "      <td>1632207600</td>\n",
       "      <td>30.72</td>\n",
       "      <td>35.50</td>\n",
       "      <td>1008</td>\n",
       "      <td>65</td>\n",
       "      <td>23.38</td>\n",
       "      <td>5.37</td>\n",
       "      <td>80</td>\n",
       "      <td>10000</td>\n",
       "      <td>2.34</td>\n",
       "      <td>159</td>\n",
       "      <td>1.66</td>\n",
       "      <td>[{'id': 500, 'main': 'Rain', 'description': 'l...</td>\n",
       "      <td>0.26</td>\n",
       "      <td>{'1h': 0.75}</td>\n",
       "    </tr>\n",
       "    <tr>\n",
       "      <th>2</th>\n",
       "      <td>1632211200</td>\n",
       "      <td>30.64</td>\n",
       "      <td>35.31</td>\n",
       "      <td>1008</td>\n",
       "      <td>65</td>\n",
       "      <td>23.31</td>\n",
       "      <td>2.69</td>\n",
       "      <td>85</td>\n",
       "      <td>10000</td>\n",
       "      <td>2.54</td>\n",
       "      <td>164</td>\n",
       "      <td>1.87</td>\n",
       "      <td>[{'id': 501, 'main': 'Rain', 'description': 'm...</td>\n",
       "      <td>0.21</td>\n",
       "      <td>{'1h': 1.15}</td>\n",
       "    </tr>\n",
       "    <tr>\n",
       "      <th>3</th>\n",
       "      <td>1632214800</td>\n",
       "      <td>30.38</td>\n",
       "      <td>35.21</td>\n",
       "      <td>1007</td>\n",
       "      <td>67</td>\n",
       "      <td>23.56</td>\n",
       "      <td>0.86</td>\n",
       "      <td>90</td>\n",
       "      <td>10000</td>\n",
       "      <td>2.34</td>\n",
       "      <td>159</td>\n",
       "      <td>1.91</td>\n",
       "      <td>[{'id': 804, 'main': 'Clouds', 'description': ...</td>\n",
       "      <td>0.00</td>\n",
       "      <td>NaN</td>\n",
       "    </tr>\n",
       "    <tr>\n",
       "      <th>4</th>\n",
       "      <td>1632218400</td>\n",
       "      <td>29.73</td>\n",
       "      <td>34.62</td>\n",
       "      <td>1008</td>\n",
       "      <td>71</td>\n",
       "      <td>23.91</td>\n",
       "      <td>0.12</td>\n",
       "      <td>95</td>\n",
       "      <td>10000</td>\n",
       "      <td>2.30</td>\n",
       "      <td>144</td>\n",
       "      <td>2.38</td>\n",
       "      <td>[{'id': 804, 'main': 'Clouds', 'description': ...</td>\n",
       "      <td>0.00</td>\n",
       "      <td>NaN</td>\n",
       "    </tr>\n",
       "  </tbody>\n",
       "</table>\n",
       "</div>"
      ],
      "text/plain": [
       "           dt   temp  feels_like  pressure  humidity  dew_point   uvi  clouds  \\\n",
       "0  1632204000  30.75       35.31      1008        64      23.15  8.23      75   \n",
       "1  1632207600  30.72       35.50      1008        65      23.38  5.37      80   \n",
       "2  1632211200  30.64       35.31      1008        65      23.31  2.69      85   \n",
       "3  1632214800  30.38       35.21      1007        67      23.56  0.86      90   \n",
       "4  1632218400  29.73       34.62      1008        71      23.91  0.12      95   \n",
       "\n",
       "   visibility  wind_speed  wind_deg  wind_gust  \\\n",
       "0       10000        2.21       150       1.89   \n",
       "1       10000        2.34       159       1.66   \n",
       "2       10000        2.54       164       1.87   \n",
       "3       10000        2.34       159       1.91   \n",
       "4       10000        2.30       144       2.38   \n",
       "\n",
       "                                             weather   pop          rain  \n",
       "0  [{'id': 803, 'main': 'Clouds', 'description': ...  0.44           NaN  \n",
       "1  [{'id': 500, 'main': 'Rain', 'description': 'l...  0.26  {'1h': 0.75}  \n",
       "2  [{'id': 501, 'main': 'Rain', 'description': 'm...  0.21  {'1h': 1.15}  \n",
       "3  [{'id': 804, 'main': 'Clouds', 'description': ...  0.00           NaN  \n",
       "4  [{'id': 804, 'main': 'Clouds', 'description': ...  0.00           NaN  "
      ]
     },
     "execution_count": 10,
     "metadata": {},
     "output_type": "execute_result"
    }
   ],
   "source": [
    "df_hourly.head()"
   ]
  },
  {
   "cell_type": "code",
   "execution_count": null,
   "metadata": {},
   "outputs": [],
   "source": []
  }
 ],
 "metadata": {
  "interpreter": {
   "hash": "c1b4cfe941b6d2466ad1fb5979e97da9cda8801728c8091b097ab734208fc00c"
  },
  "kernelspec": {
   "display_name": "Python 3.8.3 64-bit ('base': conda)",
   "name": "python3"
  },
  "language_info": {
   "codemirror_mode": {
    "name": "ipython",
    "version": 3
   },
   "file_extension": ".py",
   "mimetype": "text/x-python",
   "name": "python",
   "nbconvert_exporter": "python",
   "pygments_lexer": "ipython3",
   "version": "3.8.11"
  }
 },
 "nbformat": 4,
 "nbformat_minor": 2
}
