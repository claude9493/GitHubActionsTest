{
 "cells": [
  {
   "cell_type": "code",
   "execution_count": 1,
   "metadata": {
    "execution": {
     "iopub.execute_input": "2021-09-20T07:11:51.036242Z",
     "iopub.status.busy": "2021-09-20T07:11:51.035545Z",
     "iopub.status.idle": "2021-09-20T07:11:52.460908Z",
     "shell.execute_reply": "2021-09-20T07:11:52.459890Z"
    }
   },
   "outputs": [],
   "source": [
    "import json, yaml, requests\r\n",
    "from datetime import datetime\r\n",
    "from dateutil import tz\r\n",
    "import pandas as pd\r\n",
    "from PIL import Image\r\n",
    "from io import BytesIO\r\n",
    "import matplotlib.pyplot as plt\r\n",
    "import seaborn\r\n",
    "\r\n",
    "CONFIG_PATH = \"../config/config.yaml\""
   ]
  },
  {
   "cell_type": "code",
   "execution_count": 2,
   "metadata": {
    "execution": {
     "iopub.execute_input": "2021-09-20T07:11:52.466813Z",
     "iopub.status.busy": "2021-09-20T07:11:52.465623Z",
     "iopub.status.idle": "2021-09-20T07:11:52.471976Z",
     "shell.execute_reply": "2021-09-20T07:11:52.471139Z"
    }
   },
   "outputs": [],
   "source": [
    "with open('../newest_ts', 'r') as f:\r\n",
    "    newest_ts = f.read()\r\n",
    "\r\n",
    "data_path = f\"../data/data_{newest_ts}.json\"\r\n",
    "with open(data_path, 'r') as f:\r\n",
    "    data = json.load(f)\r\n",
    "\r\n",
    "with open(CONFIG_PATH, \"r\") as stream:\r\n",
    "    config = yaml.safe_load(stream)\r\n",
    "\r\n",
    "TIME_ZONE = config['time_zone']\r\n",
    "DATETIME_FORMAT = config['dt_format']"
   ]
  },
  {
   "cell_type": "code",
   "execution_count": 3,
   "metadata": {
    "execution": {
     "iopub.execute_input": "2021-09-20T07:11:52.477164Z",
     "iopub.status.busy": "2021-09-20T07:11:52.476542Z",
     "iopub.status.idle": "2021-09-20T07:11:52.482938Z",
     "shell.execute_reply": "2021-09-20T07:11:52.482403Z"
    }
   },
   "outputs": [
    {
     "name": "stdout",
     "output_type": "stream",
     "text": [
      "Recent query happens at 2021-09-20 15:11:47 (CST).\n"
     ]
    }
   ],
   "source": [
    "def ts2dt(ts, format=DATETIME_FORMAT):\r\n",
    "    dt = (datetime.utcfromtimestamp(int(ts))\r\n",
    "                    .replace(tzinfo=tz.tzutc())\r\n",
    "                    # .astimezone(tz.tzlocal())\r\n",
    "                    .astimezone(tz.gettz(TIME_ZONE)))\r\n",
    "    return dt.strftime(format), dt\r\n",
    "\r\n",
    "_, newest_dt = ts2dt(newest_ts)\r\n",
    "print(f\"Recent query happens at {newest_dt.strftime(DATETIME_FORMAT)} ({newest_dt.tzname()}).\")"
   ]
  },
  {
   "cell_type": "code",
   "execution_count": 4,
   "metadata": {
    "execution": {
     "iopub.execute_input": "2021-09-20T07:11:52.487900Z",
     "iopub.status.busy": "2021-09-20T07:11:52.487299Z",
     "iopub.status.idle": "2021-09-20T07:11:52.491738Z",
     "shell.execute_reply": "2021-09-20T07:11:52.491211Z"
    }
   },
   "outputs": [],
   "source": [
    "def degrees_to_cardinal(d):\r\n",
    "  dirs = ['N', 'NNE', 'NE', 'ENE', 'E', 'ESE', 'SE', 'SSE', 'S', 'SSW', 'SW', 'WSW', 'W', 'WNW', 'NW', 'NNW']\r\n",
    "  ix = int(round(d / (360. / len(dirs))))\r\n",
    "  return dirs[ix % len(dirs)]"
   ]
  },
  {
   "cell_type": "code",
   "execution_count": 5,
   "metadata": {
    "execution": {
     "iopub.execute_input": "2021-09-20T07:11:52.495568Z",
     "iopub.status.busy": "2021-09-20T07:11:52.494977Z",
     "iopub.status.idle": "2021-09-20T07:11:52.497346Z",
     "shell.execute_reply": "2021-09-20T07:11:52.496792Z"
    }
   },
   "outputs": [],
   "source": [
    "# data.keys()"
   ]
  },
  {
   "cell_type": "code",
   "execution_count": 6,
   "metadata": {
    "execution": {
     "iopub.execute_input": "2021-09-20T07:11:52.501637Z",
     "iopub.status.busy": "2021-09-20T07:11:52.500629Z",
     "iopub.status.idle": "2021-09-20T07:11:52.505073Z",
     "shell.execute_reply": "2021-09-20T07:11:52.504585Z"
    }
   },
   "outputs": [],
   "source": [
    "# data['current']"
   ]
  },
  {
   "cell_type": "code",
   "execution_count": 7,
   "metadata": {
    "execution": {
     "iopub.execute_input": "2021-09-20T07:11:52.534625Z",
     "iopub.status.busy": "2021-09-20T07:11:52.526220Z",
     "iopub.status.idle": "2021-09-20T07:11:52.831048Z",
     "shell.execute_reply": "2021-09-20T07:11:52.831842Z"
    }
   },
   "outputs": [
    {
     "data": {
      "image/png": "[encoded data removed]",
      "text/plain": [
       "<Figure size 216x216 with 1 Axes>"
      ]
     },
     "metadata": {
      "needs_background": "light"
     },
     "output_type": "display_data"
    },
    {
     "name": "stdout",
     "output_type": "stream",
     "text": [
      "Today, sun rises at 06:11 and sets at 18:21.\n",
      "Currently, the weather is Clouds (broken clouds).\n",
      "The temperature is 29.7°C and it feels like 34.32°C.\n",
      "The UV index is 5.35, humidity is 70%.\n",
      "The pressure is 1009 hPa, percentage of cloud cover is 82%\n",
      "The wind comes from ESE direction with a speed 2.08 m/s.\n"
     ]
    }
   ],
   "source": [
    "current = data['current']\r\n",
    "\r\n",
    "fig, ax = plt.subplots(figsize=(3, 3))\r\n",
    "icon = requests.get(f\"http://openweathermap.org/img/wn/{current['weather'][0]['icon']}@2x.png\")\r\n",
    "im = Image.open(BytesIO(icon.content))\r\n",
    "plt.imshow(im)\r\n",
    "ax.set_axis_off()\r\n",
    "plt.show()\r\n",
    "\r\n",
    "print(f\"Today, sun rises at {ts2dt(current['sunrise'], '%H:%M')[0]} \\\r\n",
    "and sets at {ts2dt(current['sunset'], '%H:%M')[0]}.\\n\\\r\n",
    "Currently, the weather is {current['weather'][0]['main']} ({current['weather'][0]['description']}).\\n\\\r\n",
    "The temperature is {current['temp']}°C and it feels like {current['feels_like']}°C.\\n\\\r\n",
    "The UV index is {current['uvi']}, humidity is {current['humidity']}%.\\n\\\r\n",
    "The pressure is {current['pressure']} hPa, percentage of cloud cover is {current['clouds']}%\\n\\\r\n",
    "The wind comes from {degrees_to_cardinal(current['wind_deg'])} direction with a speed {current['wind_speed']} m/s.\")"
   ]
  },
  {
   "cell_type": "code",
   "execution_count": 8,
   "metadata": {
    "execution": {
     "iopub.execute_input": "2021-09-20T07:11:52.836712Z",
     "iopub.status.busy": "2021-09-20T07:11:52.835617Z",
     "iopub.status.idle": "2021-09-20T07:11:52.844050Z",
     "shell.execute_reply": "2021-09-20T07:11:52.844820Z"
    }
   },
   "outputs": [],
   "source": [
    "df_hourly = pd.DataFrame(data['hourly'])\r\n",
    "df_daily = pd.DataFrame(data['daily'])"
   ]
  },
  {
   "cell_type": "code",
   "execution_count": 9,
   "metadata": {
    "execution": {
     "iopub.execute_input": "2021-09-20T07:11:52.848354Z",
     "iopub.status.busy": "2021-09-20T07:11:52.847260Z",
     "iopub.status.idle": "2021-09-20T07:11:53.157834Z",
     "shell.execute_reply": "2021-09-20T07:11:53.157311Z"
    }
   },
   "outputs": [
    {
     "data": {
      "image/png": "[encoded data removed]",
      "text/plain": [
       "<Figure size 864x432 with 1 Axes>"
      ]
     },
     "metadata": {
      "needs_background": "light"
     },
     "output_type": "display_data"
    }
   ],
   "source": [
    "fig, ax = plt.subplots(figsize=(12, 6))\r\n",
    "plt.plot(df_hourly.temp, '.-', label='Temperature')\r\n",
    "plt.plot(df_hourly.feels_like, '.-', label='Feels Like')\r\n",
    "ax.set(title='Temperature in future 48 hours', xlabel='Time', ylabel='Temperature')\r\n",
    "ax.set_xticks(list(range(0, len(df_hourly), 2)))\r\n",
    "ax.set_xticklabels([ts2dt(ts, '%m-%d %H:%M')[0] for i, ts in enumerate(df_hourly.dt) if i%2==0], \r\n",
    "                   rotation=45, ha=\"right\")\r\n",
    "ax.locator_params(nbins=15, axis='y')\r\n",
    "plt.legend()\r\n",
    "plt.show()"
   ]
  },
  {
   "cell_type": "code",
   "execution_count": 10,
   "metadata": {
    "execution": {
     "iopub.execute_input": "2021-09-20T07:11:53.162752Z",
     "iopub.status.busy": "2021-09-20T07:11:53.162133Z",
     "iopub.status.idle": "2021-09-20T07:11:53.183317Z",
     "shell.execute_reply": "2021-09-20T07:11:53.182805Z"
    }
   },
   "outputs": [
    {
     "data": {
      "text/html": [
       "<div>\n",
       "<style scoped>\n",
       "    .dataframe tbody tr th:only-of-type {\n",
       "        vertical-align: middle;\n",
       "    }\n",
       "\n",
       "    .dataframe tbody tr th {\n",
       "        vertical-align: top;\n",
       "    }\n",
       "\n",
       "    .dataframe thead th {\n",
       "        text-align: right;\n",
       "    }\n",
       "</style>\n",
       "<table border=\"1\" class=\"dataframe\">\n",
       "  <thead>\n",
       "    <tr style=\"text-align: right;\">\n",
       "      <th></th>\n",
       "      <th>dt</th>\n",
       "      <th>temp</th>\n",
       "      <th>feels_like</th>\n",
       "      <th>pressure</th>\n",
       "      <th>humidity</th>\n",
       "      <th>dew_point</th>\n",
       "      <th>uvi</th>\n",
       "      <th>clouds</th>\n",
       "      <th>visibility</th>\n",
       "      <th>wind_speed</th>\n",
       "      <th>wind_deg</th>\n",
       "      <th>wind_gust</th>\n",
       "      <th>weather</th>\n",
       "      <th>pop</th>\n",
       "      <th>rain</th>\n",
       "    </tr>\n",
       "  </thead>\n",
       "  <tbody>\n",
       "    <tr>\n",
       "      <th>0</th>\n",
       "      <td>1632121200</td>\n",
       "      <td>29.70</td>\n",
       "      <td>34.32</td>\n",
       "      <td>1009</td>\n",
       "      <td>70</td>\n",
       "      <td>23.64</td>\n",
       "      <td>5.35</td>\n",
       "      <td>82</td>\n",
       "      <td>10000</td>\n",
       "      <td>2.08</td>\n",
       "      <td>123</td>\n",
       "      <td>1.76</td>\n",
       "      <td>[{'id': 500, 'main': 'Rain', 'description': 'l...</td>\n",
       "      <td>0.87</td>\n",
       "      <td>{'1h': 0.14}</td>\n",
       "    </tr>\n",
       "    <tr>\n",
       "      <th>1</th>\n",
       "      <td>1632124800</td>\n",
       "      <td>29.78</td>\n",
       "      <td>34.51</td>\n",
       "      <td>1009</td>\n",
       "      <td>70</td>\n",
       "      <td>23.72</td>\n",
       "      <td>2.68</td>\n",
       "      <td>81</td>\n",
       "      <td>10000</td>\n",
       "      <td>2.45</td>\n",
       "      <td>109</td>\n",
       "      <td>2.18</td>\n",
       "      <td>[{'id': 803, 'main': 'Clouds', 'description': ...</td>\n",
       "      <td>0.61</td>\n",
       "      <td>NaN</td>\n",
       "    </tr>\n",
       "    <tr>\n",
       "      <th>2</th>\n",
       "      <td>1632128400</td>\n",
       "      <td>29.76</td>\n",
       "      <td>34.46</td>\n",
       "      <td>1009</td>\n",
       "      <td>70</td>\n",
       "      <td>23.70</td>\n",
       "      <td>0.86</td>\n",
       "      <td>78</td>\n",
       "      <td>10000</td>\n",
       "      <td>2.91</td>\n",
       "      <td>105</td>\n",
       "      <td>2.79</td>\n",
       "      <td>[{'id': 803, 'main': 'Clouds', 'description': ...</td>\n",
       "      <td>0.57</td>\n",
       "      <td>NaN</td>\n",
       "    </tr>\n",
       "    <tr>\n",
       "      <th>3</th>\n",
       "      <td>1632132000</td>\n",
       "      <td>29.32</td>\n",
       "      <td>34.06</td>\n",
       "      <td>1009</td>\n",
       "      <td>73</td>\n",
       "      <td>23.97</td>\n",
       "      <td>0.12</td>\n",
       "      <td>70</td>\n",
       "      <td>10000</td>\n",
       "      <td>3.03</td>\n",
       "      <td>107</td>\n",
       "      <td>3.35</td>\n",
       "      <td>[{'id': 803, 'main': 'Clouds', 'description': ...</td>\n",
       "      <td>0.36</td>\n",
       "      <td>NaN</td>\n",
       "    </tr>\n",
       "    <tr>\n",
       "      <th>4</th>\n",
       "      <td>1632135600</td>\n",
       "      <td>28.79</td>\n",
       "      <td>33.56</td>\n",
       "      <td>1009</td>\n",
       "      <td>77</td>\n",
       "      <td>24.35</td>\n",
       "      <td>0.00</td>\n",
       "      <td>60</td>\n",
       "      <td>10000</td>\n",
       "      <td>2.91</td>\n",
       "      <td>113</td>\n",
       "      <td>3.53</td>\n",
       "      <td>[{'id': 803, 'main': 'Clouds', 'description': ...</td>\n",
       "      <td>0.28</td>\n",
       "      <td>NaN</td>\n",
       "    </tr>\n",
       "  </tbody>\n",
       "</table>\n",
       "</div>"
      ],
      "text/plain": [
       "           dt   temp  feels_like  pressure  humidity  dew_point   uvi  clouds  \\\n",
       "0  1632121200  29.70       34.32      1009        70      23.64  5.35      82   \n",
       "1  1632124800  29.78       34.51      1009        70      23.72  2.68      81   \n",
       "2  1632128400  29.76       34.46      1009        70      23.70  0.86      78   \n",
       "3  1632132000  29.32       34.06      1009        73      23.97  0.12      70   \n",
       "4  1632135600  28.79       33.56      1009        77      24.35  0.00      60   \n",
       "\n",
       "   visibility  wind_speed  wind_deg  wind_gust  \\\n",
       "0       10000        2.08       123       1.76   \n",
       "1       10000        2.45       109       2.18   \n",
       "2       10000        2.91       105       2.79   \n",
       "3       10000        3.03       107       3.35   \n",
       "4       10000        2.91       113       3.53   \n",
       "\n",
       "                                             weather   pop          rain  \n",
       "0  [{'id': 500, 'main': 'Rain', 'description': 'l...  0.87  {'1h': 0.14}  \n",
       "1  [{'id': 803, 'main': 'Clouds', 'description': ...  0.61           NaN  \n",
       "2  [{'id': 803, 'main': 'Clouds', 'description': ...  0.57           NaN  \n",
       "3  [{'id': 803, 'main': 'Clouds', 'description': ...  0.36           NaN  \n",
       "4  [{'id': 803, 'main': 'Clouds', 'description': ...  0.28           NaN  "
      ]
     },
     "execution_count": 10,
     "metadata": {},
     "output_type": "execute_result"
    }
   ],
   "source": [
    "df_hourly.head()"
   ]
  },
  {
   "cell_type": "code",
   "execution_count": null,
   "metadata": {},
   "outputs": [],
   "source": []
  }
 ],
 "metadata": {
  "interpreter": {
   "hash": "c1b4cfe941b6d2466ad1fb5979e97da9cda8801728c8091b097ab734208fc00c"
  },
  "kernelspec": {
   "display_name": "Python 3.8.3 64-bit ('base': conda)",
   "name": "python3"
  },
  "language_info": {
   "codemirror_mode": {
    "name": "ipython",
    "version": 3
   },
   "file_extension": ".py",
   "mimetype": "text/x-python",
   "name": "python",
   "nbconvert_exporter": "python",
   "pygments_lexer": "ipython3",
   "version": "3.8.11"
  }
 },
 "nbformat": 4,
 "nbformat_minor": 2
}
