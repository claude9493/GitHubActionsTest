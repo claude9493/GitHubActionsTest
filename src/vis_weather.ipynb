{
 "cells": [
  {
   "cell_type": "code",
   "execution_count": 1,
   "metadata": {
    "execution": {
     "iopub.execute_input": "2021-09-16T06:13:53.145517Z",
     "iopub.status.busy": "2021-09-16T06:13:53.144679Z",
     "iopub.status.idle": "2021-09-16T06:13:54.999268Z",
     "shell.execute_reply": "2021-09-16T06:13:55.000214Z"
    }
   },
   "outputs": [],
   "source": [
    "import json, yaml, requests\r\n",
    "from datetime import datetime\r\n",
    "from dateutil import tz\r\n",
    "import pandas as pd\r\n",
    "from PIL import Image\r\n",
    "from io import BytesIO\r\n",
    "import matplotlib.pyplot as plt\r\n",
    "import seaborn\r\n",
    "\r\n",
    "CONFIG_PATH = \"../config/config.yaml\""
   ]
  },
  {
   "cell_type": "code",
   "execution_count": 2,
   "metadata": {
    "execution": {
     "iopub.execute_input": "2021-09-16T06:13:55.008413Z",
     "iopub.status.busy": "2021-09-16T06:13:55.007482Z",
     "iopub.status.idle": "2021-09-16T06:13:55.015539Z",
     "shell.execute_reply": "2021-09-16T06:13:55.014906Z"
    }
   },
   "outputs": [],
   "source": [
    "with open('../newest_ts', 'r') as f:\r\n",
    "    newest_ts = f.read()\r\n",
    "\r\n",
    "data_path = f\"../data/data_{newest_ts}.json\"\r\n",
    "with open(data_path, 'r') as f:\r\n",
    "    data = json.load(f)\r\n",
    "\r\n",
    "with open(CONFIG_PATH, \"r\") as stream:\r\n",
    "    config = yaml.safe_load(stream)\r\n",
    "\r\n",
    "TIME_ZONE = config['time_zone']\r\n",
    "DATETIME_FORMAT = config['dt_format']"
   ]
  },
  {
   "cell_type": "code",
   "execution_count": 3,
   "metadata": {
    "execution": {
     "iopub.execute_input": "2021-09-16T06:13:55.021454Z",
     "iopub.status.busy": "2021-09-16T06:13:55.018145Z",
     "iopub.status.idle": "2021-09-16T06:13:55.035342Z",
     "shell.execute_reply": "2021-09-16T06:13:55.036006Z"
    }
   },
   "outputs": [
    {
     "name": "stdout",
     "output_type": "stream",
     "text": [
      "Recent query happens at 2021-09-16 14:13:48 (CST).\n"
     ]
    }
   ],
   "source": [
    "def ts2dt(ts, format=DATETIME_FORMAT):\r\n",
    "    dt = (datetime.utcfromtimestamp(int(ts))\r\n",
    "                    .replace(tzinfo=tz.tzutc())\r\n",
    "                    # .astimezone(tz.tzlocal())\r\n",
    "                    .astimezone(tz.gettz(TIME_ZONE)))\r\n",
    "    return dt.strftime(format), dt\r\n",
    "\r\n",
    "_, newest_dt = ts2dt(newest_ts)\r\n",
    "print(f\"Recent query happens at {newest_dt.strftime(DATETIME_FORMAT)} ({newest_dt.tzname()}).\")"
   ]
  },
  {
   "cell_type": "code",
   "execution_count": 4,
   "metadata": {
    "execution": {
     "iopub.execute_input": "2021-09-16T06:13:55.044775Z",
     "iopub.status.busy": "2021-09-16T06:13:55.043294Z",
     "iopub.status.idle": "2021-09-16T06:13:55.046344Z",
     "shell.execute_reply": "2021-09-16T06:13:55.045602Z"
    }
   },
   "outputs": [],
   "source": [
    "def degrees_to_cardinal(d):\r\n",
    "  dirs = ['N', 'NNE', 'NE', 'ENE', 'E', 'ESE', 'SE', 'SSE', 'S', 'SSW', 'SW', 'WSW', 'W', 'WNW', 'NW', 'NNW']\r\n",
    "  ix = int(round(d / (360. / len(dirs))))\r\n",
    "  return dirs[ix % len(dirs)]"
   ]
  },
  {
   "cell_type": "code",
   "execution_count": 5,
   "metadata": {
    "execution": {
     "iopub.execute_input": "2021-09-16T06:13:55.053016Z",
     "iopub.status.busy": "2021-09-16T06:13:55.051316Z",
     "iopub.status.idle": "2021-09-16T06:13:55.054626Z",
     "shell.execute_reply": "2021-09-16T06:13:55.053960Z"
    }
   },
   "outputs": [],
   "source": [
    "# data.keys()"
   ]
  },
  {
   "cell_type": "code",
   "execution_count": 6,
   "metadata": {
    "execution": {
     "iopub.execute_input": "2021-09-16T06:13:55.061111Z",
     "iopub.status.busy": "2021-09-16T06:13:55.058749Z",
     "iopub.status.idle": "2021-09-16T06:13:55.063243Z",
     "shell.execute_reply": "2021-09-16T06:13:55.062733Z"
    }
   },
   "outputs": [],
   "source": [
    "# data['current']"
   ]
  },
  {
   "cell_type": "code",
   "execution_count": 7,
   "metadata": {
    "execution": {
     "iopub.execute_input": "2021-09-16T06:13:55.089204Z",
     "iopub.status.busy": "2021-09-16T06:13:55.088562Z",
     "iopub.status.idle": "2021-09-16T06:13:55.548893Z",
     "shell.execute_reply": "2021-09-16T06:13:55.549852Z"
    }
   },
   "outputs": [
    {
     "data": {
      "image/png": "[encoded data removed]",
      "text/plain": [
       "<Figure size 216x216 with 1 Axes>"
      ]
     },
     "metadata": {
      "needs_background": "light"
     },
     "output_type": "display_data"
    },
    {
     "name": "stdout",
     "output_type": "stream",
     "text": [
      "Today, sun rises at 06:09 and sets at 18:26.\n",
      "Currently, the weather is Rain (light rain).\n",
      "The temperature is 31.7°C and it feels like 38.7°C.\n",
      "The UV index is 8.07, humidity is 71%.\n",
      "The pressure is 1007 hPa, percentage of cloud cover is 96%\n",
      "The wind comes from WSW direction with a speed 3.19 m/s.\n"
     ]
    }
   ],
   "source": [
    "current = data['current']\r\n",
    "\r\n",
    "fig, ax = plt.subplots(figsize=(3, 3))\r\n",
    "icon = requests.get(f\"http://openweathermap.org/img/wn/{current['weather'][0]['icon']}@2x.png\")\r\n",
    "im = Image.open(BytesIO(icon.content))\r\n",
    "plt.imshow(im)\r\n",
    "ax.set_axis_off()\r\n",
    "plt.show()\r\n",
    "\r\n",
    "print(f\"Today, sun rises at {ts2dt(current['sunrise'], '%H:%M')[0]} \\\r\n",
    "and sets at {ts2dt(current['sunset'], '%H:%M')[0]}.\\n\\\r\n",
    "Currently, the weather is {current['weather'][0]['main']} ({current['weather'][0]['description']}).\\n\\\r\n",
    "The temperature is {current['temp']}°C and it feels like {current['feels_like']}°C.\\n\\\r\n",
    "The UV index is {current['uvi']}, humidity is {current['humidity']}%.\\n\\\r\n",
    "The pressure is {current['pressure']} hPa, percentage of cloud cover is {current['clouds']}%\\n\\\r\n",
    "The wind comes from {degrees_to_cardinal(current['wind_deg'])} direction with a speed {current['wind_speed']} m/s.\")"
   ]
  },
  {
   "cell_type": "code",
   "execution_count": 8,
   "metadata": {
    "execution": {
     "iopub.execute_input": "2021-09-16T06:13:55.554355Z",
     "iopub.status.busy": "2021-09-16T06:13:55.552961Z",
     "iopub.status.idle": "2021-09-16T06:13:55.564509Z",
     "shell.execute_reply": "2021-09-16T06:13:55.565392Z"
    }
   },
   "outputs": [],
   "source": [
    "df_hourly = pd.DataFrame(data['hourly'])\r\n",
    "df_daily = pd.DataFrame(data['daily'])"
   ]
  },
  {
   "cell_type": "code",
   "execution_count": 9,
   "metadata": {
    "execution": {
     "iopub.execute_input": "2021-09-16T06:13:55.570083Z",
     "iopub.status.busy": "2021-09-16T06:13:55.568710Z",
     "iopub.status.idle": "2021-09-16T06:13:56.015896Z",
     "shell.execute_reply": "2021-09-16T06:13:56.014877Z"
    }
   },
   "outputs": [
    {
     "data": {
      "image/png": "[encoded data removed]",
      "text/plain": [
       "<Figure size 864x432 with 1 Axes>"
      ]
     },
     "metadata": {
      "needs_background": "light"
     },
     "output_type": "display_data"
    }
   ],
   "source": [
    "fig, ax = plt.subplots(figsize=(12, 6))\r\n",
    "plt.plot(df_hourly.temp, '.-', label='Temperature')\r\n",
    "plt.plot(df_hourly.feels_like, '.-', label='Feels Like')\r\n",
    "ax.set(title='Temperature in future 48 hours', xlabel='Time', ylabel='Temperature')\r\n",
    "ax.set_xticks(list(range(0, len(df_hourly), 2)))\r\n",
    "ax.set_xticklabels([ts2dt(ts, '%m-%d %H:%M')[0] for i, ts in enumerate(df_hourly.dt) if i%2==0], \r\n",
    "                   rotation=45, ha=\"right\")\r\n",
    "ax.locator_params(nbins=15, axis='y')\r\n",
    "plt.legend()\r\n",
    "plt.show()"
   ]
  },
  {
   "cell_type": "code",
   "execution_count": 10,
   "metadata": {
    "execution": {
     "iopub.execute_input": "2021-09-16T06:13:56.033500Z",
     "iopub.status.busy": "2021-09-16T06:13:56.021237Z",
     "iopub.status.idle": "2021-09-16T06:13:56.051785Z",
     "shell.execute_reply": "2021-09-16T06:13:56.051242Z"
    }
   },
   "outputs": [
    {
     "data": {
      "text/html": [
       "<div>\n",
       "<style scoped>\n",
       "    .dataframe tbody tr th:only-of-type {\n",
       "        vertical-align: middle;\n",
       "    }\n",
       "\n",
       "    .dataframe tbody tr th {\n",
       "        vertical-align: top;\n",
       "    }\n",
       "\n",
       "    .dataframe thead th {\n",
       "        text-align: right;\n",
       "    }\n",
       "</style>\n",
       "<table border=\"1\" class=\"dataframe\">\n",
       "  <thead>\n",
       "    <tr style=\"text-align: right;\">\n",
       "      <th></th>\n",
       "      <th>dt</th>\n",
       "      <th>temp</th>\n",
       "      <th>feels_like</th>\n",
       "      <th>pressure</th>\n",
       "      <th>humidity</th>\n",
       "      <th>dew_point</th>\n",
       "      <th>uvi</th>\n",
       "      <th>clouds</th>\n",
       "      <th>visibility</th>\n",
       "      <th>wind_speed</th>\n",
       "      <th>wind_deg</th>\n",
       "      <th>wind_gust</th>\n",
       "      <th>weather</th>\n",
       "      <th>pop</th>\n",
       "      <th>rain</th>\n",
       "    </tr>\n",
       "  </thead>\n",
       "  <tbody>\n",
       "    <tr>\n",
       "      <th>0</th>\n",
       "      <td>1631772000</td>\n",
       "      <td>31.70</td>\n",
       "      <td>38.70</td>\n",
       "      <td>1007</td>\n",
       "      <td>71</td>\n",
       "      <td>25.79</td>\n",
       "      <td>8.07</td>\n",
       "      <td>96</td>\n",
       "      <td>10000</td>\n",
       "      <td>3.19</td>\n",
       "      <td>256</td>\n",
       "      <td>3.71</td>\n",
       "      <td>[{'id': 804, 'main': 'Clouds', 'description': ...</td>\n",
       "      <td>0.75</td>\n",
       "      <td>NaN</td>\n",
       "    </tr>\n",
       "    <tr>\n",
       "      <th>1</th>\n",
       "      <td>1631775600</td>\n",
       "      <td>31.73</td>\n",
       "      <td>38.73</td>\n",
       "      <td>1007</td>\n",
       "      <td>69</td>\n",
       "      <td>25.34</td>\n",
       "      <td>5.57</td>\n",
       "      <td>83</td>\n",
       "      <td>10000</td>\n",
       "      <td>3.07</td>\n",
       "      <td>244</td>\n",
       "      <td>3.42</td>\n",
       "      <td>[{'id': 500, 'main': 'Rain', 'description': 'l...</td>\n",
       "      <td>0.20</td>\n",
       "      <td>{'1h': 0.13}</td>\n",
       "    </tr>\n",
       "    <tr>\n",
       "      <th>2</th>\n",
       "      <td>1631779200</td>\n",
       "      <td>31.59</td>\n",
       "      <td>38.56</td>\n",
       "      <td>1007</td>\n",
       "      <td>68</td>\n",
       "      <td>24.96</td>\n",
       "      <td>2.82</td>\n",
       "      <td>71</td>\n",
       "      <td>10000</td>\n",
       "      <td>3.22</td>\n",
       "      <td>229</td>\n",
       "      <td>3.30</td>\n",
       "      <td>[{'id': 803, 'main': 'Clouds', 'description': ...</td>\n",
       "      <td>0.08</td>\n",
       "      <td>NaN</td>\n",
       "    </tr>\n",
       "    <tr>\n",
       "      <th>3</th>\n",
       "      <td>1631782800</td>\n",
       "      <td>31.15</td>\n",
       "      <td>37.70</td>\n",
       "      <td>1007</td>\n",
       "      <td>69</td>\n",
       "      <td>24.78</td>\n",
       "      <td>0.92</td>\n",
       "      <td>59</td>\n",
       "      <td>10000</td>\n",
       "      <td>4.06</td>\n",
       "      <td>222</td>\n",
       "      <td>4.07</td>\n",
       "      <td>[{'id': 803, 'main': 'Clouds', 'description': ...</td>\n",
       "      <td>0.00</td>\n",
       "      <td>NaN</td>\n",
       "    </tr>\n",
       "    <tr>\n",
       "      <th>4</th>\n",
       "      <td>1631786400</td>\n",
       "      <td>30.12</td>\n",
       "      <td>36.63</td>\n",
       "      <td>1007</td>\n",
       "      <td>75</td>\n",
       "      <td>25.20</td>\n",
       "      <td>0.12</td>\n",
       "      <td>48</td>\n",
       "      <td>10000</td>\n",
       "      <td>3.81</td>\n",
       "      <td>225</td>\n",
       "      <td>4.44</td>\n",
       "      <td>[{'id': 500, 'main': 'Rain', 'description': 'l...</td>\n",
       "      <td>0.32</td>\n",
       "      <td>{'1h': 0.12}</td>\n",
       "    </tr>\n",
       "  </tbody>\n",
       "</table>\n",
       "</div>"
      ],
      "text/plain": [
       "           dt   temp  feels_like  pressure  humidity  dew_point   uvi  clouds  \\\n",
       "0  1631772000  31.70       38.70      1007        71      25.79  8.07      96   \n",
       "1  1631775600  31.73       38.73      1007        69      25.34  5.57      83   \n",
       "2  1631779200  31.59       38.56      1007        68      24.96  2.82      71   \n",
       "3  1631782800  31.15       37.70      1007        69      24.78  0.92      59   \n",
       "4  1631786400  30.12       36.63      1007        75      25.20  0.12      48   \n",
       "\n",
       "   visibility  wind_speed  wind_deg  wind_gust  \\\n",
       "0       10000        3.19       256       3.71   \n",
       "1       10000        3.07       244       3.42   \n",
       "2       10000        3.22       229       3.30   \n",
       "3       10000        4.06       222       4.07   \n",
       "4       10000        3.81       225       4.44   \n",
       "\n",
       "                                             weather   pop          rain  \n",
       "0  [{'id': 804, 'main': 'Clouds', 'description': ...  0.75           NaN  \n",
       "1  [{'id': 500, 'main': 'Rain', 'description': 'l...  0.20  {'1h': 0.13}  \n",
       "2  [{'id': 803, 'main': 'Clouds', 'description': ...  0.08           NaN  \n",
       "3  [{'id': 803, 'main': 'Clouds', 'description': ...  0.00           NaN  \n",
       "4  [{'id': 500, 'main': 'Rain', 'description': 'l...  0.32  {'1h': 0.12}  "
      ]
     },
     "execution_count": 10,
     "metadata": {},
     "output_type": "execute_result"
    }
   ],
   "source": [
    "df_hourly.head()"
   ]
  },
  {
   "cell_type": "code",
   "execution_count": null,
   "metadata": {},
   "outputs": [],
   "source": []
  }
 ],
 "metadata": {
  "interpreter": {
   "hash": "c1b4cfe941b6d2466ad1fb5979e97da9cda8801728c8091b097ab734208fc00c"
  },
  "kernelspec": {
   "display_name": "Python 3.8.3 64-bit ('base': conda)",
   "name": "python3"
  },
  "language_info": {
   "codemirror_mode": {
    "name": "ipython",
    "version": 3
   },
   "file_extension": ".py",
   "mimetype": "text/x-python",
   "name": "python",
   "nbconvert_exporter": "python",
   "pygments_lexer": "ipython3",
   "version": "3.8.11"
  }
 },
 "nbformat": 4,
 "nbformat_minor": 2
}
