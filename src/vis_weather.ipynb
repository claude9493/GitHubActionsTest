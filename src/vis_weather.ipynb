{
 "cells": [
  {
   "cell_type": "code",
   "execution_count": 1,
   "metadata": {
    "execution": {
     "iopub.execute_input": "2021-09-20T09:11:28.970223Z",
     "iopub.status.busy": "2021-09-20T09:11:28.969640Z",
     "iopub.status.idle": "2021-09-20T09:11:30.062300Z",
     "shell.execute_reply": "2021-09-20T09:11:30.061772Z"
    }
   },
   "outputs": [],
   "source": [
    "import json, yaml, requests\r\n",
    "from datetime import datetime\r\n",
    "from dateutil import tz\r\n",
    "import pandas as pd\r\n",
    "from PIL import Image\r\n",
    "from io import BytesIO\r\n",
    "import matplotlib.pyplot as plt\r\n",
    "import seaborn\r\n",
    "\r\n",
    "CONFIG_PATH = \"../config/config.yaml\""
   ]
  },
  {
   "cell_type": "code",
   "execution_count": 2,
   "metadata": {
    "execution": {
     "iopub.execute_input": "2021-09-20T09:11:30.069633Z",
     "iopub.status.busy": "2021-09-20T09:11:30.066870Z",
     "iopub.status.idle": "2021-09-20T09:11:30.072168Z",
     "shell.execute_reply": "2021-09-20T09:11:30.071749Z"
    }
   },
   "outputs": [],
   "source": [
    "with open('../newest_ts', 'r') as f:\r\n",
    "    newest_ts = f.read()\r\n",
    "\r\n",
    "data_path = f\"../data/data_{newest_ts}.json\"\r\n",
    "with open(data_path, 'r') as f:\r\n",
    "    data = json.load(f)\r\n",
    "\r\n",
    "with open(CONFIG_PATH, \"r\") as stream:\r\n",
    "    config = yaml.safe_load(stream)\r\n",
    "\r\n",
    "TIME_ZONE = config['time_zone']\r\n",
    "DATETIME_FORMAT = config['dt_format']"
   ]
  },
  {
   "cell_type": "code",
   "execution_count": 3,
   "metadata": {
    "execution": {
     "iopub.execute_input": "2021-09-20T09:11:30.076462Z",
     "iopub.status.busy": "2021-09-20T09:11:30.076007Z",
     "iopub.status.idle": "2021-09-20T09:11:30.105194Z",
     "shell.execute_reply": "2021-09-20T09:11:30.104762Z"
    }
   },
   "outputs": [
    {
     "name": "stdout",
     "output_type": "stream",
     "text": [
      "Recent query happens at 2021-09-20 17:11:26 (CST).\n"
     ]
    }
   ],
   "source": [
    "def ts2dt(ts, format=DATETIME_FORMAT):\r\n",
    "    dt = (datetime.utcfromtimestamp(int(ts))\r\n",
    "                    .replace(tzinfo=tz.tzutc())\r\n",
    "                    # .astimezone(tz.tzlocal())\r\n",
    "                    .astimezone(tz.gettz(TIME_ZONE)))\r\n",
    "    return dt.strftime(format), dt\r\n",
    "\r\n",
    "_, newest_dt = ts2dt(newest_ts)\r\n",
    "print(f\"Recent query happens at {newest_dt.strftime(DATETIME_FORMAT)} ({newest_dt.tzname()}).\")"
   ]
  },
  {
   "cell_type": "code",
   "execution_count": 4,
   "metadata": {
    "execution": {
     "iopub.execute_input": "2021-09-20T09:11:30.109725Z",
     "iopub.status.busy": "2021-09-20T09:11:30.109269Z",
     "iopub.status.idle": "2021-09-20T09:11:30.112207Z",
     "shell.execute_reply": "2021-09-20T09:11:30.111753Z"
    }
   },
   "outputs": [],
   "source": [
    "def degrees_to_cardinal(d):\r\n",
    "  dirs = ['N', 'NNE', 'NE', 'ENE', 'E', 'ESE', 'SE', 'SSE', 'S', 'SSW', 'SW', 'WSW', 'W', 'WNW', 'NW', 'NNW']\r\n",
    "  ix = int(round(d / (360. / len(dirs))))\r\n",
    "  return dirs[ix % len(dirs)]"
   ]
  },
  {
   "cell_type": "code",
   "execution_count": 5,
   "metadata": {
    "execution": {
     "iopub.execute_input": "2021-09-20T09:11:30.116007Z",
     "iopub.status.busy": "2021-09-20T09:11:30.115053Z",
     "iopub.status.idle": "2021-09-20T09:11:30.117059Z",
     "shell.execute_reply": "2021-09-20T09:11:30.116666Z"
    }
   },
   "outputs": [],
   "source": [
    "# data.keys()"
   ]
  },
  {
   "cell_type": "code",
   "execution_count": 6,
   "metadata": {
    "execution": {
     "iopub.execute_input": "2021-09-20T09:11:30.120961Z",
     "iopub.status.busy": "2021-09-20T09:11:30.119826Z",
     "iopub.status.idle": "2021-09-20T09:11:30.121474Z",
     "shell.execute_reply": "2021-09-20T09:11:30.121834Z"
    }
   },
   "outputs": [],
   "source": [
    "# data['current']"
   ]
  },
  {
   "cell_type": "code",
   "execution_count": 7,
   "metadata": {
    "execution": {
     "iopub.execute_input": "2021-09-20T09:11:30.138245Z",
     "iopub.status.busy": "2021-09-20T09:11:30.137772Z",
     "iopub.status.idle": "2021-09-20T09:11:30.521853Z",
     "shell.execute_reply": "2021-09-20T09:11:30.522496Z"
    }
   },
   "outputs": [
    {
     "data": {
      "image/png": "[encoded data removed]",
      "text/plain": [
       "<Figure size 216x216 with 1 Axes>"
      ]
     },
     "metadata": {
      "needs_background": "light"
     },
     "output_type": "display_data"
    },
    {
     "name": "stdout",
     "output_type": "stream",
     "text": [
      "Today, sun rises at 06:11 and sets at 18:21.\n",
      "Currently, the weather is Clouds (broken clouds).\n",
      "The temperature is 30.75°C and it feels like 37.75°C.\n",
      "The UV index is 0.86, humidity is 81%.\n",
      "The pressure is 1009 hPa, percentage of cloud cover is 73%\n",
      "The wind comes from ESE direction with a speed 2.91 m/s.\n"
     ]
    }
   ],
   "source": [
    "current = data['current']\r\n",
    "\r\n",
    "fig, ax = plt.subplots(figsize=(3, 3))\r\n",
    "icon = requests.get(f\"http://openweathermap.org/img/wn/{current['weather'][0]['icon']}@2x.png\")\r\n",
    "im = Image.open(BytesIO(icon.content))\r\n",
    "plt.imshow(im)\r\n",
    "ax.set_axis_off()\r\n",
    "plt.show()\r\n",
    "\r\n",
    "print(f\"Today, sun rises at {ts2dt(current['sunrise'], '%H:%M')[0]} \\\r\n",
    "and sets at {ts2dt(current['sunset'], '%H:%M')[0]}.\\n\\\r\n",
    "Currently, the weather is {current['weather'][0]['main']} ({current['weather'][0]['description']}).\\n\\\r\n",
    "The temperature is {current['temp']}°C and it feels like {current['feels_like']}°C.\\n\\\r\n",
    "The UV index is {current['uvi']}, humidity is {current['humidity']}%.\\n\\\r\n",
    "The pressure is {current['pressure']} hPa, percentage of cloud cover is {current['clouds']}%\\n\\\r\n",
    "The wind comes from {degrees_to_cardinal(current['wind_deg'])} direction with a speed {current['wind_speed']} m/s.\")"
   ]
  },
  {
   "cell_type": "code",
   "execution_count": 8,
   "metadata": {
    "execution": {
     "iopub.execute_input": "2021-09-20T09:11:30.525451Z",
     "iopub.status.busy": "2021-09-20T09:11:30.525003Z",
     "iopub.status.idle": "2021-09-20T09:11:30.531382Z",
     "shell.execute_reply": "2021-09-20T09:11:30.532022Z"
    }
   },
   "outputs": [],
   "source": [
    "df_hourly = pd.DataFrame(data['hourly'])\r\n",
    "df_daily = pd.DataFrame(data['daily'])"
   ]
  },
  {
   "cell_type": "code",
   "execution_count": 9,
   "metadata": {
    "execution": {
     "iopub.execute_input": "2021-09-20T09:11:30.535069Z",
     "iopub.status.busy": "2021-09-20T09:11:30.534164Z",
     "iopub.status.idle": "2021-09-20T09:11:30.776056Z",
     "shell.execute_reply": "2021-09-20T09:11:30.775602Z"
    }
   },
   "outputs": [
    {
     "data": {
      "image/png": "[encoded data removed]",
      "text/plain": [
       "<Figure size 864x432 with 1 Axes>"
      ]
     },
     "metadata": {
      "needs_background": "light"
     },
     "output_type": "display_data"
    }
   ],
   "source": [
    "fig, ax = plt.subplots(figsize=(12, 6))\r\n",
    "plt.plot(df_hourly.temp, '.-', label='Temperature')\r\n",
    "plt.plot(df_hourly.feels_like, '.-', label='Feels Like')\r\n",
    "ax.set(title='Temperature in future 48 hours', xlabel='Time', ylabel='Temperature')\r\n",
    "ax.set_xticks(list(range(0, len(df_hourly), 2)))\r\n",
    "ax.set_xticklabels([ts2dt(ts, '%m-%d %H:%M')[0] for i, ts in enumerate(df_hourly.dt) if i%2==0], \r\n",
    "                   rotation=45, ha=\"right\")\r\n",
    "ax.locator_params(nbins=15, axis='y')\r\n",
    "plt.legend()\r\n",
    "plt.show()"
   ]
  },
  {
   "cell_type": "code",
   "execution_count": 10,
   "metadata": {
    "execution": {
     "iopub.execute_input": "2021-09-20T09:11:30.780696Z",
     "iopub.status.busy": "2021-09-20T09:11:30.779988Z",
     "iopub.status.idle": "2021-09-20T09:11:30.798420Z",
     "shell.execute_reply": "2021-09-20T09:11:30.798022Z"
    }
   },
   "outputs": [
    {
     "data": {
      "text/html": [
       "<div>\n",
       "<style scoped>\n",
       "    .dataframe tbody tr th:only-of-type {\n",
       "        vertical-align: middle;\n",
       "    }\n",
       "\n",
       "    .dataframe tbody tr th {\n",
       "        vertical-align: top;\n",
       "    }\n",
       "\n",
       "    .dataframe thead th {\n",
       "        text-align: right;\n",
       "    }\n",
       "</style>\n",
       "<table border=\"1\" class=\"dataframe\">\n",
       "  <thead>\n",
       "    <tr style=\"text-align: right;\">\n",
       "      <th></th>\n",
       "      <th>dt</th>\n",
       "      <th>temp</th>\n",
       "      <th>feels_like</th>\n",
       "      <th>pressure</th>\n",
       "      <th>humidity</th>\n",
       "      <th>dew_point</th>\n",
       "      <th>uvi</th>\n",
       "      <th>clouds</th>\n",
       "      <th>visibility</th>\n",
       "      <th>wind_speed</th>\n",
       "      <th>wind_deg</th>\n",
       "      <th>wind_gust</th>\n",
       "      <th>weather</th>\n",
       "      <th>pop</th>\n",
       "      <th>rain</th>\n",
       "    </tr>\n",
       "  </thead>\n",
       "  <tbody>\n",
       "    <tr>\n",
       "      <th>0</th>\n",
       "      <td>1632128400</td>\n",
       "      <td>30.75</td>\n",
       "      <td>37.75</td>\n",
       "      <td>1009</td>\n",
       "      <td>81</td>\n",
       "      <td>27.11</td>\n",
       "      <td>0.86</td>\n",
       "      <td>73</td>\n",
       "      <td>10000</td>\n",
       "      <td>2.91</td>\n",
       "      <td>105</td>\n",
       "      <td>2.79</td>\n",
       "      <td>[{'id': 803, 'main': 'Clouds', 'description': ...</td>\n",
       "      <td>0.57</td>\n",
       "      <td>NaN</td>\n",
       "    </tr>\n",
       "    <tr>\n",
       "      <th>1</th>\n",
       "      <td>1632132000</td>\n",
       "      <td>30.41</td>\n",
       "      <td>37.41</td>\n",
       "      <td>1009</td>\n",
       "      <td>79</td>\n",
       "      <td>26.35</td>\n",
       "      <td>0.12</td>\n",
       "      <td>71</td>\n",
       "      <td>10000</td>\n",
       "      <td>3.03</td>\n",
       "      <td>107</td>\n",
       "      <td>3.35</td>\n",
       "      <td>[{'id': 803, 'main': 'Clouds', 'description': ...</td>\n",
       "      <td>0.36</td>\n",
       "      <td>NaN</td>\n",
       "    </tr>\n",
       "    <tr>\n",
       "      <th>2</th>\n",
       "      <td>1632135600</td>\n",
       "      <td>29.87</td>\n",
       "      <td>36.87</td>\n",
       "      <td>1009</td>\n",
       "      <td>79</td>\n",
       "      <td>25.83</td>\n",
       "      <td>0.00</td>\n",
       "      <td>65</td>\n",
       "      <td>10000</td>\n",
       "      <td>2.91</td>\n",
       "      <td>113</td>\n",
       "      <td>3.53</td>\n",
       "      <td>[{'id': 803, 'main': 'Clouds', 'description': ...</td>\n",
       "      <td>0.28</td>\n",
       "      <td>NaN</td>\n",
       "    </tr>\n",
       "    <tr>\n",
       "      <th>3</th>\n",
       "      <td>1632139200</td>\n",
       "      <td>29.35</td>\n",
       "      <td>35.73</td>\n",
       "      <td>1010</td>\n",
       "      <td>80</td>\n",
       "      <td>25.54</td>\n",
       "      <td>0.00</td>\n",
       "      <td>60</td>\n",
       "      <td>10000</td>\n",
       "      <td>2.75</td>\n",
       "      <td>110</td>\n",
       "      <td>3.62</td>\n",
       "      <td>[{'id': 803, 'main': 'Clouds', 'description': ...</td>\n",
       "      <td>0.20</td>\n",
       "      <td>NaN</td>\n",
       "    </tr>\n",
       "    <tr>\n",
       "      <th>4</th>\n",
       "      <td>1632142800</td>\n",
       "      <td>28.91</td>\n",
       "      <td>34.71</td>\n",
       "      <td>1010</td>\n",
       "      <td>81</td>\n",
       "      <td>25.32</td>\n",
       "      <td>0.00</td>\n",
       "      <td>55</td>\n",
       "      <td>10000</td>\n",
       "      <td>2.44</td>\n",
       "      <td>106</td>\n",
       "      <td>3.25</td>\n",
       "      <td>[{'id': 803, 'main': 'Clouds', 'description': ...</td>\n",
       "      <td>0.04</td>\n",
       "      <td>NaN</td>\n",
       "    </tr>\n",
       "  </tbody>\n",
       "</table>\n",
       "</div>"
      ],
      "text/plain": [
       "           dt   temp  feels_like  pressure  humidity  dew_point   uvi  clouds  \\\n",
       "0  1632128400  30.75       37.75      1009        81      27.11  0.86      73   \n",
       "1  1632132000  30.41       37.41      1009        79      26.35  0.12      71   \n",
       "2  1632135600  29.87       36.87      1009        79      25.83  0.00      65   \n",
       "3  1632139200  29.35       35.73      1010        80      25.54  0.00      60   \n",
       "4  1632142800  28.91       34.71      1010        81      25.32  0.00      55   \n",
       "\n",
       "   visibility  wind_speed  wind_deg  wind_gust  \\\n",
       "0       10000        2.91       105       2.79   \n",
       "1       10000        3.03       107       3.35   \n",
       "2       10000        2.91       113       3.53   \n",
       "3       10000        2.75       110       3.62   \n",
       "4       10000        2.44       106       3.25   \n",
       "\n",
       "                                             weather   pop rain  \n",
       "0  [{'id': 803, 'main': 'Clouds', 'description': ...  0.57  NaN  \n",
       "1  [{'id': 803, 'main': 'Clouds', 'description': ...  0.36  NaN  \n",
       "2  [{'id': 803, 'main': 'Clouds', 'description': ...  0.28  NaN  \n",
       "3  [{'id': 803, 'main': 'Clouds', 'description': ...  0.20  NaN  \n",
       "4  [{'id': 803, 'main': 'Clouds', 'description': ...  0.04  NaN  "
      ]
     },
     "execution_count": 10,
     "metadata": {},
     "output_type": "execute_result"
    }
   ],
   "source": [
    "df_hourly.head()"
   ]
  },
  {
   "cell_type": "code",
   "execution_count": null,
   "metadata": {},
   "outputs": [],
   "source": []
  }
 ],
 "metadata": {
  "interpreter": {
   "hash": "c1b4cfe941b6d2466ad1fb5979e97da9cda8801728c8091b097ab734208fc00c"
  },
  "kernelspec": {
   "display_name": "Python 3.8.3 64-bit ('base': conda)",
   "name": "python3"
  },
  "language_info": {
   "codemirror_mode": {
    "name": "ipython",
    "version": 3
   },
   "file_extension": ".py",
   "mimetype": "text/x-python",
   "name": "python",
   "nbconvert_exporter": "python",
   "pygments_lexer": "ipython3",
   "version": "3.8.11"
  }
 },
 "nbformat": 4,
 "nbformat_minor": 2
}
