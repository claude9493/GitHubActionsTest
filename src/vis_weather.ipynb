{
 "cells": [
  {
   "cell_type": "code",
   "execution_count": 1,
   "metadata": {
    "execution": {
     "iopub.execute_input": "2021-10-14T00:38:06.610442Z",
     "iopub.status.busy": "2021-10-14T00:38:06.609635Z",
     "iopub.status.idle": "2021-10-14T00:38:08.051848Z",
     "shell.execute_reply": "2021-10-14T00:38:08.050799Z"
    }
   },
   "outputs": [],
   "source": [
    "import json, yaml, requests\r\n",
    "from datetime import datetime\r\n",
    "from dateutil import tz\r\n",
    "import pandas as pd\r\n",
    "from PIL import Image\r\n",
    "from io import BytesIO\r\n",
    "import matplotlib.pyplot as plt\r\n",
    "import seaborn\r\n",
    "\r\n",
    "CONFIG_PATH = \"../config/config.yaml\""
   ]
  },
  {
   "cell_type": "code",
   "execution_count": 2,
   "metadata": {
    "execution": {
     "iopub.execute_input": "2021-10-14T00:38:08.057736Z",
     "iopub.status.busy": "2021-10-14T00:38:08.057195Z",
     "iopub.status.idle": "2021-10-14T00:38:08.065986Z",
     "shell.execute_reply": "2021-10-14T00:38:08.066617Z"
    }
   },
   "outputs": [],
   "source": [
    "with open('../newest_ts', 'r') as f:\r\n",
    "    newest_ts = f.read()\r\n",
    "\r\n",
    "data_path = f\"../data/data_{newest_ts}.json\"\r\n",
    "with open(data_path, 'r') as f:\r\n",
    "    data = json.load(f)\r\n",
    "\r\n",
    "with open(CONFIG_PATH, \"r\") as stream:\r\n",
    "    config = yaml.safe_load(stream)\r\n",
    "\r\n",
    "TIME_ZONE = config['time_zone']\r\n",
    "DATETIME_FORMAT = config['dt_format']"
   ]
  },
  {
   "cell_type": "code",
   "execution_count": 3,
   "metadata": {
    "execution": {
     "iopub.execute_input": "2021-10-14T00:38:08.073225Z",
     "iopub.status.busy": "2021-10-14T00:38:08.072623Z",
     "iopub.status.idle": "2021-10-14T00:38:08.086336Z",
     "shell.execute_reply": "2021-10-14T00:38:08.084853Z"
    }
   },
   "outputs": [
    {
     "name": "stdout",
     "output_type": "stream",
     "text": [
      "Recent query happens at 2021-10-14 08:38:02 (CST).\n"
     ]
    }
   ],
   "source": [
    "def ts2dt(ts, format=DATETIME_FORMAT):\r\n",
    "    dt = (datetime.utcfromtimestamp(int(ts))\r\n",
    "                    .replace(tzinfo=tz.tzutc())\r\n",
    "                    # .astimezone(tz.tzlocal())\r\n",
    "                    .astimezone(tz.gettz(TIME_ZONE)))\r\n",
    "    return dt.strftime(format), dt\r\n",
    "\r\n",
    "_, newest_dt = ts2dt(newest_ts)\r\n",
    "print(f\"Recent query happens at {newest_dt.strftime(DATETIME_FORMAT)} ({newest_dt.tzname()}).\")"
   ]
  },
  {
   "cell_type": "code",
   "execution_count": 4,
   "metadata": {
    "execution": {
     "iopub.execute_input": "2021-10-14T00:38:08.091802Z",
     "iopub.status.busy": "2021-10-14T00:38:08.091237Z",
     "iopub.status.idle": "2021-10-14T00:38:08.094762Z",
     "shell.execute_reply": "2021-10-14T00:38:08.095230Z"
    }
   },
   "outputs": [],
   "source": [
    "def degrees_to_cardinal(d):\r\n",
    "  dirs = ['N', 'NNE', 'NE', 'ENE', 'E', 'ESE', 'SE', 'SSE', 'S', 'SSW', 'SW', 'WSW', 'W', 'WNW', 'NW', 'NNW']\r\n",
    "  ix = int(round(d / (360. / len(dirs))))\r\n",
    "  return dirs[ix % len(dirs)]"
   ]
  },
  {
   "cell_type": "code",
   "execution_count": 5,
   "metadata": {
    "execution": {
     "iopub.execute_input": "2021-10-14T00:38:08.100615Z",
     "iopub.status.busy": "2021-10-14T00:38:08.099419Z",
     "iopub.status.idle": "2021-10-14T00:38:08.101661Z",
     "shell.execute_reply": "2021-10-14T00:38:08.102666Z"
    }
   },
   "outputs": [],
   "source": [
    "# data.keys()"
   ]
  },
  {
   "cell_type": "code",
   "execution_count": 6,
   "metadata": {
    "execution": {
     "iopub.execute_input": "2021-10-14T00:38:08.107185Z",
     "iopub.status.busy": "2021-10-14T00:38:08.106639Z",
     "iopub.status.idle": "2021-10-14T00:38:08.110307Z",
     "shell.execute_reply": "2021-10-14T00:38:08.110920Z"
    }
   },
   "outputs": [],
   "source": [
    "# data['current']"
   ]
  },
  {
   "cell_type": "code",
   "execution_count": 7,
   "metadata": {
    "execution": {
     "iopub.execute_input": "2021-10-14T00:38:08.133028Z",
     "iopub.status.busy": "2021-10-14T00:38:08.132340Z",
     "iopub.status.idle": "2021-10-14T00:38:08.529332Z",
     "shell.execute_reply": "2021-10-14T00:38:08.530583Z"
    }
   },
   "outputs": [
    {
     "data": {
      "image/png": "[encoded data removed]",
      "text/plain": [
       "<Figure size 216x216 with 1 Axes>"
      ]
     },
     "metadata": {
      "needs_background": "light"
     },
     "output_type": "display_data"
    },
    {
     "name": "stdout",
     "output_type": "stream",
     "text": [
      "Today, sun rises at 06:18 and sets at 17:59.\n",
      "Currently, the weather is Clouds (overcast clouds).\n",
      "The temperature is 27.33°C and it feels like 31.82°C.\n",
      "The UV index is 2.55, humidity is 91%.\n",
      "The pressure is 1021 hPa, percentage of cloud cover is 100%\n",
      "The wind comes from ENE direction with a speed 1.34 m/s.\n"
     ]
    }
   ],
   "source": [
    "current = data['current']\r\n",
    "\r\n",
    "fig, ax = plt.subplots(figsize=(3, 3))\r\n",
    "icon = requests.get(f\"http://openweathermap.org/img/wn/{current['weather'][0]['icon']}@2x.png\")\r\n",
    "im = Image.open(BytesIO(icon.content))\r\n",
    "plt.imshow(im)\r\n",
    "ax.set_axis_off()\r\n",
    "plt.show()\r\n",
    "\r\n",
    "print(f\"Today, sun rises at {ts2dt(current['sunrise'], '%H:%M')[0]} \\\r\n",
    "and sets at {ts2dt(current['sunset'], '%H:%M')[0]}.\\n\\\r\n",
    "Currently, the weather is {current['weather'][0]['main']} ({current['weather'][0]['description']}).\\n\\\r\n",
    "The temperature is {current['temp']}°C and it feels like {current['feels_like']}°C.\\n\\\r\n",
    "The UV index is {current['uvi']}, humidity is {current['humidity']}%.\\n\\\r\n",
    "The pressure is {current['pressure']} hPa, percentage of cloud cover is {current['clouds']}%\\n\\\r\n",
    "The wind comes from {degrees_to_cardinal(current['wind_deg'])} direction with a speed {current['wind_speed']} m/s.\")"
   ]
  },
  {
   "cell_type": "code",
   "execution_count": 8,
   "metadata": {
    "execution": {
     "iopub.execute_input": "2021-10-14T00:38:08.534616Z",
     "iopub.status.busy": "2021-10-14T00:38:08.534011Z",
     "iopub.status.idle": "2021-10-14T00:38:08.541665Z",
     "shell.execute_reply": "2021-10-14T00:38:08.542389Z"
    }
   },
   "outputs": [],
   "source": [
    "df_hourly = pd.DataFrame(data['hourly'])\r\n",
    "df_daily = pd.DataFrame(data['daily'])"
   ]
  },
  {
   "cell_type": "code",
   "execution_count": 9,
   "metadata": {
    "execution": {
     "iopub.execute_input": "2021-10-14T00:38:08.545955Z",
     "iopub.status.busy": "2021-10-14T00:38:08.544887Z",
     "iopub.status.idle": "2021-10-14T00:38:08.876979Z",
     "shell.execute_reply": "2021-10-14T00:38:08.877422Z"
    }
   },
   "outputs": [
    {
     "data": {
      "image/png": "[encoded data removed]",
      "text/plain": [
       "<Figure size 864x432 with 1 Axes>"
      ]
     },
     "metadata": {
      "needs_background": "light"
     },
     "output_type": "display_data"
    }
   ],
   "source": [
    "fig, ax = plt.subplots(figsize=(12, 6))\r\n",
    "plt.plot(df_hourly.temp, '.-', label='Temperature')\r\n",
    "plt.plot(df_hourly.feels_like, '.-', label='Feels Like')\r\n",
    "ax.set(title='Temperature in future 48 hours', xlabel='Time', ylabel='Temperature')\r\n",
    "ax.set_xticks(list(range(0, len(df_hourly), 2)))\r\n",
    "ax.set_xticklabels([ts2dt(ts, '%m-%d %H:%M')[0] for i, ts in enumerate(df_hourly.dt) if i%2==0], \r\n",
    "                   rotation=45, ha=\"right\")\r\n",
    "ax.locator_params(nbins=15, axis='y')\r\n",
    "plt.legend()\r\n",
    "plt.show()"
   ]
  },
  {
   "cell_type": "code",
   "execution_count": 10,
   "metadata": {
    "execution": {
     "iopub.execute_input": "2021-10-14T00:38:08.882489Z",
     "iopub.status.busy": "2021-10-14T00:38:08.881877Z",
     "iopub.status.idle": "2021-10-14T00:38:08.904203Z",
     "shell.execute_reply": "2021-10-14T00:38:08.904882Z"
    }
   },
   "outputs": [
    {
     "data": {
      "text/html": [
       "<div>\n",
       "<style scoped>\n",
       "    .dataframe tbody tr th:only-of-type {\n",
       "        vertical-align: middle;\n",
       "    }\n",
       "\n",
       "    .dataframe tbody tr th {\n",
       "        vertical-align: top;\n",
       "    }\n",
       "\n",
       "    .dataframe thead th {\n",
       "        text-align: right;\n",
       "    }\n",
       "</style>\n",
       "<table border=\"1\" class=\"dataframe\">\n",
       "  <thead>\n",
       "    <tr style=\"text-align: right;\">\n",
       "      <th></th>\n",
       "      <th>dt</th>\n",
       "      <th>temp</th>\n",
       "      <th>feels_like</th>\n",
       "      <th>pressure</th>\n",
       "      <th>humidity</th>\n",
       "      <th>dew_point</th>\n",
       "      <th>uvi</th>\n",
       "      <th>clouds</th>\n",
       "      <th>visibility</th>\n",
       "      <th>wind_speed</th>\n",
       "      <th>wind_deg</th>\n",
       "      <th>wind_gust</th>\n",
       "      <th>weather</th>\n",
       "      <th>pop</th>\n",
       "      <th>rain</th>\n",
       "    </tr>\n",
       "  </thead>\n",
       "  <tbody>\n",
       "    <tr>\n",
       "      <th>0</th>\n",
       "      <td>1634169600</td>\n",
       "      <td>27.00</td>\n",
       "      <td>30.74</td>\n",
       "      <td>1019</td>\n",
       "      <td>90</td>\n",
       "      <td>25.22</td>\n",
       "      <td>0.81</td>\n",
       "      <td>96</td>\n",
       "      <td>10000</td>\n",
       "      <td>4.94</td>\n",
       "      <td>52</td>\n",
       "      <td>6.93</td>\n",
       "      <td>[{'id': 500, 'main': 'Rain', 'description': 'l...</td>\n",
       "      <td>0.65</td>\n",
       "      <td>{'1h': 0.17}</td>\n",
       "    </tr>\n",
       "    <tr>\n",
       "      <th>1</th>\n",
       "      <td>1634173200</td>\n",
       "      <td>27.33</td>\n",
       "      <td>31.82</td>\n",
       "      <td>1021</td>\n",
       "      <td>91</td>\n",
       "      <td>25.73</td>\n",
       "      <td>2.55</td>\n",
       "      <td>100</td>\n",
       "      <td>10000</td>\n",
       "      <td>4.90</td>\n",
       "      <td>50</td>\n",
       "      <td>6.83</td>\n",
       "      <td>[{'id': 804, 'main': 'Clouds', 'description': ...</td>\n",
       "      <td>0.49</td>\n",
       "      <td>NaN</td>\n",
       "    </tr>\n",
       "    <tr>\n",
       "      <th>2</th>\n",
       "      <td>1634176800</td>\n",
       "      <td>27.24</td>\n",
       "      <td>31.31</td>\n",
       "      <td>1019</td>\n",
       "      <td>89</td>\n",
       "      <td>25.27</td>\n",
       "      <td>5.07</td>\n",
       "      <td>99</td>\n",
       "      <td>10000</td>\n",
       "      <td>4.68</td>\n",
       "      <td>50</td>\n",
       "      <td>6.31</td>\n",
       "      <td>[{'id': 500, 'main': 'Rain', 'description': 'l...</td>\n",
       "      <td>0.41</td>\n",
       "      <td>{'1h': 0.13}</td>\n",
       "    </tr>\n",
       "    <tr>\n",
       "      <th>3</th>\n",
       "      <td>1634180400</td>\n",
       "      <td>27.37</td>\n",
       "      <td>31.30</td>\n",
       "      <td>1017</td>\n",
       "      <td>86</td>\n",
       "      <td>24.82</td>\n",
       "      <td>7.50</td>\n",
       "      <td>97</td>\n",
       "      <td>10000</td>\n",
       "      <td>4.86</td>\n",
       "      <td>53</td>\n",
       "      <td>6.44</td>\n",
       "      <td>[{'id': 804, 'main': 'Clouds', 'description': ...</td>\n",
       "      <td>0.43</td>\n",
       "      <td>NaN</td>\n",
       "    </tr>\n",
       "    <tr>\n",
       "      <th>4</th>\n",
       "      <td>1634184000</td>\n",
       "      <td>27.71</td>\n",
       "      <td>31.66</td>\n",
       "      <td>1014</td>\n",
       "      <td>82</td>\n",
       "      <td>24.35</td>\n",
       "      <td>8.61</td>\n",
       "      <td>93</td>\n",
       "      <td>10000</td>\n",
       "      <td>4.44</td>\n",
       "      <td>56</td>\n",
       "      <td>5.99</td>\n",
       "      <td>[{'id': 804, 'main': 'Clouds', 'description': ...</td>\n",
       "      <td>0.39</td>\n",
       "      <td>NaN</td>\n",
       "    </tr>\n",
       "  </tbody>\n",
       "</table>\n",
       "</div>"
      ],
      "text/plain": [
       "           dt   temp  feels_like  pressure  humidity  dew_point   uvi  clouds  \\\n",
       "0  1634169600  27.00       30.74      1019        90      25.22  0.81      96   \n",
       "1  1634173200  27.33       31.82      1021        91      25.73  2.55     100   \n",
       "2  1634176800  27.24       31.31      1019        89      25.27  5.07      99   \n",
       "3  1634180400  27.37       31.30      1017        86      24.82  7.50      97   \n",
       "4  1634184000  27.71       31.66      1014        82      24.35  8.61      93   \n",
       "\n",
       "   visibility  wind_speed  wind_deg  wind_gust  \\\n",
       "0       10000        4.94        52       6.93   \n",
       "1       10000        4.90        50       6.83   \n",
       "2       10000        4.68        50       6.31   \n",
       "3       10000        4.86        53       6.44   \n",
       "4       10000        4.44        56       5.99   \n",
       "\n",
       "                                             weather   pop          rain  \n",
       "0  [{'id': 500, 'main': 'Rain', 'description': 'l...  0.65  {'1h': 0.17}  \n",
       "1  [{'id': 804, 'main': 'Clouds', 'description': ...  0.49           NaN  \n",
       "2  [{'id': 500, 'main': 'Rain', 'description': 'l...  0.41  {'1h': 0.13}  \n",
       "3  [{'id': 804, 'main': 'Clouds', 'description': ...  0.43           NaN  \n",
       "4  [{'id': 804, 'main': 'Clouds', 'description': ...  0.39           NaN  "
      ]
     },
     "execution_count": 10,
     "metadata": {},
     "output_type": "execute_result"
    }
   ],
   "source": [
    "df_hourly.head()"
   ]
  },
  {
   "cell_type": "code",
   "execution_count": null,
   "metadata": {},
   "outputs": [],
   "source": []
  }
 ],
 "metadata": {
  "interpreter": {
   "hash": "c1b4cfe941b6d2466ad1fb5979e97da9cda8801728c8091b097ab734208fc00c"
  },
  "kernelspec": {
   "display_name": "Python 3.8.3 64-bit ('base': conda)",
   "name": "python3"
  },
  "language_info": {
   "codemirror_mode": {
    "name": "ipython",
    "version": 3
   },
   "file_extension": ".py",
   "mimetype": "text/x-python",
   "name": "python",
   "nbconvert_exporter": "python",
   "pygments_lexer": "ipython3",
   "version": "3.8.12"
  }
 },
 "nbformat": 4,
 "nbformat_minor": 2
}
