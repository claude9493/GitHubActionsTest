{
 "cells": [
  {
   "cell_type": "code",
   "execution_count": 1,
   "metadata": {
    "execution": {
     "iopub.execute_input": "2021-10-20T07:12:19.051570Z",
     "iopub.status.busy": "2021-10-20T07:12:19.050768Z",
     "iopub.status.idle": "2021-10-20T07:12:23.598077Z",
     "shell.execute_reply": "2021-10-20T07:12:23.597302Z"
    }
   },
   "outputs": [],
   "source": [
    "import json, yaml, requests\r\n",
    "from datetime import datetime\r\n",
    "from dateutil import tz\r\n",
    "import pandas as pd\r\n",
    "from PIL import Image\r\n",
    "from io import BytesIO\r\n",
    "import matplotlib.pyplot as plt\r\n",
    "import seaborn\r\n",
    "\r\n",
    "CONFIG_PATH = \"../config/config.yaml\""
   ]
  },
  {
   "cell_type": "code",
   "execution_count": 2,
   "metadata": {
    "execution": {
     "iopub.execute_input": "2021-10-20T07:12:23.606854Z",
     "iopub.status.busy": "2021-10-20T07:12:23.603357Z",
     "iopub.status.idle": "2021-10-20T07:12:23.610275Z",
     "shell.execute_reply": "2021-10-20T07:12:23.609665Z"
    }
   },
   "outputs": [],
   "source": [
    "with open('../newest_ts', 'r') as f:\r\n",
    "    newest_ts = f.read()\r\n",
    "\r\n",
    "data_path = f\"../data/data_{newest_ts}.json\"\r\n",
    "with open(data_path, 'r') as f:\r\n",
    "    data = json.load(f)\r\n",
    "\r\n",
    "with open(CONFIG_PATH, \"r\") as stream:\r\n",
    "    config = yaml.safe_load(stream)\r\n",
    "\r\n",
    "TIME_ZONE = config['time_zone']\r\n",
    "DATETIME_FORMAT = config['dt_format']"
   ]
  },
  {
   "cell_type": "code",
   "execution_count": 3,
   "metadata": {
    "execution": {
     "iopub.execute_input": "2021-10-20T07:12:23.615927Z",
     "iopub.status.busy": "2021-10-20T07:12:23.615206Z",
     "iopub.status.idle": "2021-10-20T07:12:23.622345Z",
     "shell.execute_reply": "2021-10-20T07:12:23.622840Z"
    }
   },
   "outputs": [
    {
     "name": "stdout",
     "output_type": "stream",
     "text": [
      "Recent query happens at 2021-10-20 15:12:14 (CST).\n"
     ]
    }
   ],
   "source": [
    "def ts2dt(ts, format=DATETIME_FORMAT):\r\n",
    "    dt = (datetime.utcfromtimestamp(int(ts))\r\n",
    "                    .replace(tzinfo=tz.tzutc())\r\n",
    "                    # .astimezone(tz.tzlocal())\r\n",
    "                    .astimezone(tz.gettz(TIME_ZONE)))\r\n",
    "    return dt.strftime(format), dt\r\n",
    "\r\n",
    "_, newest_dt = ts2dt(newest_ts)\r\n",
    "print(f\"Recent query happens at {newest_dt.strftime(DATETIME_FORMAT)} ({newest_dt.tzname()}).\")"
   ]
  },
  {
   "cell_type": "code",
   "execution_count": 4,
   "metadata": {
    "execution": {
     "iopub.execute_input": "2021-10-20T07:12:23.629132Z",
     "iopub.status.busy": "2021-10-20T07:12:23.627373Z",
     "iopub.status.idle": "2021-10-20T07:12:23.629803Z",
     "shell.execute_reply": "2021-10-20T07:12:23.630357Z"
    }
   },
   "outputs": [],
   "source": [
    "def degrees_to_cardinal(d):\r\n",
    "  dirs = ['N', 'NNE', 'NE', 'ENE', 'E', 'ESE', 'SE', 'SSE', 'S', 'SSW', 'SW', 'WSW', 'W', 'WNW', 'NW', 'NNW']\r\n",
    "  ix = int(round(d / (360. / len(dirs))))\r\n",
    "  return dirs[ix % len(dirs)]"
   ]
  },
  {
   "cell_type": "code",
   "execution_count": 5,
   "metadata": {
    "execution": {
     "iopub.execute_input": "2021-10-20T07:12:23.635816Z",
     "iopub.status.busy": "2021-10-20T07:12:23.634146Z",
     "iopub.status.idle": "2021-10-20T07:12:23.636469Z",
     "shell.execute_reply": "2021-10-20T07:12:23.637022Z"
    }
   },
   "outputs": [],
   "source": [
    "# data.keys()"
   ]
  },
  {
   "cell_type": "code",
   "execution_count": 6,
   "metadata": {
    "execution": {
     "iopub.execute_input": "2021-10-20T07:12:23.642079Z",
     "iopub.status.busy": "2021-10-20T07:12:23.640437Z",
     "iopub.status.idle": "2021-10-20T07:12:23.642894Z",
     "shell.execute_reply": "2021-10-20T07:12:23.643397Z"
    }
   },
   "outputs": [],
   "source": [
    "# data['current']"
   ]
  },
  {
   "cell_type": "code",
   "execution_count": 7,
   "metadata": {
    "execution": {
     "iopub.execute_input": "2021-10-20T07:12:23.665819Z",
     "iopub.status.busy": "2021-10-20T07:12:23.665134Z",
     "iopub.status.idle": "2021-10-20T07:12:24.078198Z",
     "shell.execute_reply": "2021-10-20T07:12:24.078756Z"
    }
   },
   "outputs": [
    {
     "data": {
      "image/png": "[encoded data removed]",
      "text/plain": [
       "<Figure size 216x216 with 1 Axes>"
      ]
     },
     "metadata": {
      "needs_background": "light"
     },
     "output_type": "display_data"
    },
    {
     "name": "stdout",
     "output_type": "stream",
     "text": [
      "Today, sun rises at 06:21 and sets at 17:54.\n",
      "Currently, the weather is Clouds (broken clouds).\n",
      "The temperature is 29.25°C and it feels like 33.28°C.\n",
      "The UV index is 4.19, humidity is 70%.\n",
      "The pressure is 1013 hPa, percentage of cloud cover is 73%\n",
      "The wind comes from SSW direction with a speed 0.45 m/s.\n"
     ]
    }
   ],
   "source": [
    "current = data['current']\r\n",
    "\r\n",
    "fig, ax = plt.subplots(figsize=(3, 3))\r\n",
    "icon = requests.get(f\"http://openweathermap.org/img/wn/{current['weather'][0]['icon']}@2x.png\")\r\n",
    "im = Image.open(BytesIO(icon.content))\r\n",
    "plt.imshow(im)\r\n",
    "ax.set_axis_off()\r\n",
    "plt.show()\r\n",
    "\r\n",
    "print(f\"Today, sun rises at {ts2dt(current['sunrise'], '%H:%M')[0]} \\\r\n",
    "and sets at {ts2dt(current['sunset'], '%H:%M')[0]}.\\n\\\r\n",
    "Currently, the weather is {current['weather'][0]['main']} ({current['weather'][0]['description']}).\\n\\\r\n",
    "The temperature is {current['temp']}°C and it feels like {current['feels_like']}°C.\\n\\\r\n",
    "The UV index is {current['uvi']}, humidity is {current['humidity']}%.\\n\\\r\n",
    "The pressure is {current['pressure']} hPa, percentage of cloud cover is {current['clouds']}%\\n\\\r\n",
    "The wind comes from {degrees_to_cardinal(current['wind_deg'])} direction with a speed {current['wind_speed']} m/s.\")"
   ]
  },
  {
   "cell_type": "code",
   "execution_count": 8,
   "metadata": {
    "execution": {
     "iopub.execute_input": "2021-10-20T07:12:24.086938Z",
     "iopub.status.busy": "2021-10-20T07:12:24.086106Z",
     "iopub.status.idle": "2021-10-20T07:12:24.088938Z",
     "shell.execute_reply": "2021-10-20T07:12:24.089574Z"
    }
   },
   "outputs": [],
   "source": [
    "df_hourly = pd.DataFrame(data['hourly'])\r\n",
    "df_daily = pd.DataFrame(data['daily'])"
   ]
  },
  {
   "cell_type": "code",
   "execution_count": 9,
   "metadata": {
    "execution": {
     "iopub.execute_input": "2021-10-20T07:12:24.092822Z",
     "iopub.status.busy": "2021-10-20T07:12:24.092203Z",
     "iopub.status.idle": "2021-10-20T07:12:24.429155Z",
     "shell.execute_reply": "2021-10-20T07:12:24.428213Z"
    }
   },
   "outputs": [
    {
     "data": {
      "image/png": "[encoded data removed]",
      "text/plain": [
       "<Figure size 864x432 with 1 Axes>"
      ]
     },
     "metadata": {
      "needs_background": "light"
     },
     "output_type": "display_data"
    }
   ],
   "source": [
    "fig, ax = plt.subplots(figsize=(12, 6))\r\n",
    "plt.plot(df_hourly.temp, '.-', label='Temperature')\r\n",
    "plt.plot(df_hourly.feels_like, '.-', label='Feels Like')\r\n",
    "ax.set(title='Temperature in future 48 hours', xlabel='Time', ylabel='Temperature')\r\n",
    "ax.set_xticks(list(range(0, len(df_hourly), 2)))\r\n",
    "ax.set_xticklabels([ts2dt(ts, '%m-%d %H:%M')[0] for i, ts in enumerate(df_hourly.dt) if i%2==0], \r\n",
    "                   rotation=45, ha=\"right\")\r\n",
    "ax.locator_params(nbins=15, axis='y')\r\n",
    "plt.legend()\r\n",
    "plt.show()"
   ]
  },
  {
   "cell_type": "code",
   "execution_count": 10,
   "metadata": {
    "execution": {
     "iopub.execute_input": "2021-10-20T07:12:24.443074Z",
     "iopub.status.busy": "2021-10-20T07:12:24.440582Z",
     "iopub.status.idle": "2021-10-20T07:12:24.456786Z",
     "shell.execute_reply": "2021-10-20T07:12:24.456154Z"
    }
   },
   "outputs": [
    {
     "data": {
      "text/html": [
       "<div>\n",
       "<style scoped>\n",
       "    .dataframe tbody tr th:only-of-type {\n",
       "        vertical-align: middle;\n",
       "    }\n",
       "\n",
       "    .dataframe tbody tr th {\n",
       "        vertical-align: top;\n",
       "    }\n",
       "\n",
       "    .dataframe thead th {\n",
       "        text-align: right;\n",
       "    }\n",
       "</style>\n",
       "<table border=\"1\" class=\"dataframe\">\n",
       "  <thead>\n",
       "    <tr style=\"text-align: right;\">\n",
       "      <th></th>\n",
       "      <th>dt</th>\n",
       "      <th>temp</th>\n",
       "      <th>feels_like</th>\n",
       "      <th>pressure</th>\n",
       "      <th>humidity</th>\n",
       "      <th>dew_point</th>\n",
       "      <th>uvi</th>\n",
       "      <th>clouds</th>\n",
       "      <th>visibility</th>\n",
       "      <th>wind_speed</th>\n",
       "      <th>wind_deg</th>\n",
       "      <th>wind_gust</th>\n",
       "      <th>weather</th>\n",
       "      <th>pop</th>\n",
       "      <th>rain</th>\n",
       "    </tr>\n",
       "  </thead>\n",
       "  <tbody>\n",
       "    <tr>\n",
       "      <th>0</th>\n",
       "      <td>1634713200</td>\n",
       "      <td>29.25</td>\n",
       "      <td>33.28</td>\n",
       "      <td>1013</td>\n",
       "      <td>70</td>\n",
       "      <td>23.21</td>\n",
       "      <td>4.19</td>\n",
       "      <td>73</td>\n",
       "      <td>10000</td>\n",
       "      <td>4.81</td>\n",
       "      <td>95</td>\n",
       "      <td>5.53</td>\n",
       "      <td>[{'id': 803, 'main': 'Clouds', 'description': ...</td>\n",
       "      <td>0.00</td>\n",
       "      <td>NaN</td>\n",
       "    </tr>\n",
       "    <tr>\n",
       "      <th>1</th>\n",
       "      <td>1634716800</td>\n",
       "      <td>28.77</td>\n",
       "      <td>32.41</td>\n",
       "      <td>1013</td>\n",
       "      <td>71</td>\n",
       "      <td>22.99</td>\n",
       "      <td>1.94</td>\n",
       "      <td>73</td>\n",
       "      <td>10000</td>\n",
       "      <td>4.79</td>\n",
       "      <td>99</td>\n",
       "      <td>5.62</td>\n",
       "      <td>[{'id': 803, 'main': 'Clouds', 'description': ...</td>\n",
       "      <td>0.00</td>\n",
       "      <td>NaN</td>\n",
       "    </tr>\n",
       "    <tr>\n",
       "      <th>2</th>\n",
       "      <td>1634720400</td>\n",
       "      <td>28.15</td>\n",
       "      <td>31.39</td>\n",
       "      <td>1013</td>\n",
       "      <td>73</td>\n",
       "      <td>22.85</td>\n",
       "      <td>0.53</td>\n",
       "      <td>73</td>\n",
       "      <td>10000</td>\n",
       "      <td>4.89</td>\n",
       "      <td>103</td>\n",
       "      <td>5.98</td>\n",
       "      <td>[{'id': 803, 'main': 'Clouds', 'description': ...</td>\n",
       "      <td>0.00</td>\n",
       "      <td>NaN</td>\n",
       "    </tr>\n",
       "    <tr>\n",
       "      <th>3</th>\n",
       "      <td>1634724000</td>\n",
       "      <td>27.32</td>\n",
       "      <td>30.02</td>\n",
       "      <td>1014</td>\n",
       "      <td>76</td>\n",
       "      <td>22.72</td>\n",
       "      <td>0.00</td>\n",
       "      <td>69</td>\n",
       "      <td>10000</td>\n",
       "      <td>4.50</td>\n",
       "      <td>113</td>\n",
       "      <td>5.96</td>\n",
       "      <td>[{'id': 803, 'main': 'Clouds', 'description': ...</td>\n",
       "      <td>0.00</td>\n",
       "      <td>NaN</td>\n",
       "    </tr>\n",
       "    <tr>\n",
       "      <th>4</th>\n",
       "      <td>1634727600</td>\n",
       "      <td>26.55</td>\n",
       "      <td>26.55</td>\n",
       "      <td>1014</td>\n",
       "      <td>79</td>\n",
       "      <td>22.61</td>\n",
       "      <td>0.00</td>\n",
       "      <td>61</td>\n",
       "      <td>10000</td>\n",
       "      <td>4.39</td>\n",
       "      <td>111</td>\n",
       "      <td>5.80</td>\n",
       "      <td>[{'id': 803, 'main': 'Clouds', 'description': ...</td>\n",
       "      <td>0.08</td>\n",
       "      <td>NaN</td>\n",
       "    </tr>\n",
       "  </tbody>\n",
       "</table>\n",
       "</div>"
      ],
      "text/plain": [
       "           dt   temp  feels_like  pressure  humidity  dew_point   uvi  clouds  \\\n",
       "0  1634713200  29.25       33.28      1013        70      23.21  4.19      73   \n",
       "1  1634716800  28.77       32.41      1013        71      22.99  1.94      73   \n",
       "2  1634720400  28.15       31.39      1013        73      22.85  0.53      73   \n",
       "3  1634724000  27.32       30.02      1014        76      22.72  0.00      69   \n",
       "4  1634727600  26.55       26.55      1014        79      22.61  0.00      61   \n",
       "\n",
       "   visibility  wind_speed  wind_deg  wind_gust  \\\n",
       "0       10000        4.81        95       5.53   \n",
       "1       10000        4.79        99       5.62   \n",
       "2       10000        4.89       103       5.98   \n",
       "3       10000        4.50       113       5.96   \n",
       "4       10000        4.39       111       5.80   \n",
       "\n",
       "                                             weather   pop rain  \n",
       "0  [{'id': 803, 'main': 'Clouds', 'description': ...  0.00  NaN  \n",
       "1  [{'id': 803, 'main': 'Clouds', 'description': ...  0.00  NaN  \n",
       "2  [{'id': 803, 'main': 'Clouds', 'description': ...  0.00  NaN  \n",
       "3  [{'id': 803, 'main': 'Clouds', 'description': ...  0.00  NaN  \n",
       "4  [{'id': 803, 'main': 'Clouds', 'description': ...  0.08  NaN  "
      ]
     },
     "execution_count": 10,
     "metadata": {},
     "output_type": "execute_result"
    }
   ],
   "source": [
    "df_hourly.head()"
   ]
  },
  {
   "cell_type": "code",
   "execution_count": null,
   "metadata": {},
   "outputs": [],
   "source": []
  }
 ],
 "metadata": {
  "interpreter": {
   "hash": "c1b4cfe941b6d2466ad1fb5979e97da9cda8801728c8091b097ab734208fc00c"
  },
  "kernelspec": {
   "display_name": "Python 3.8.3 64-bit ('base': conda)",
   "name": "python3"
  },
  "language_info": {
   "codemirror_mode": {
    "name": "ipython",
    "version": 3
   },
   "file_extension": ".py",
   "mimetype": "text/x-python",
   "name": "python",
   "nbconvert_exporter": "python",
   "pygments_lexer": "ipython3",
   "version": "3.8.12"
  }
 },
 "nbformat": 4,
 "nbformat_minor": 2
}
