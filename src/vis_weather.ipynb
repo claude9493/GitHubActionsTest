{
 "cells": [
  {
   "cell_type": "code",
   "execution_count": 1,
   "metadata": {
    "execution": {
     "iopub.execute_input": "2021-09-30T19:09:30.907329Z",
     "iopub.status.busy": "2021-09-30T19:09:30.906744Z",
     "iopub.status.idle": "2021-09-30T19:09:33.076256Z",
     "shell.execute_reply": "2021-09-30T19:09:33.075164Z"
    }
   },
   "outputs": [],
   "source": [
    "import json, yaml, requests\r\n",
    "from datetime import datetime\r\n",
    "from dateutil import tz\r\n",
    "import pandas as pd\r\n",
    "from PIL import Image\r\n",
    "from io import BytesIO\r\n",
    "import matplotlib.pyplot as plt\r\n",
    "import seaborn\r\n",
    "\r\n",
    "CONFIG_PATH = \"../config/config.yaml\""
   ]
  },
  {
   "cell_type": "code",
   "execution_count": 2,
   "metadata": {
    "execution": {
     "iopub.execute_input": "2021-09-30T19:09:33.080949Z",
     "iopub.status.busy": "2021-09-30T19:09:33.080518Z",
     "iopub.status.idle": "2021-09-30T19:09:33.086497Z",
     "shell.execute_reply": "2021-09-30T19:09:33.086096Z"
    }
   },
   "outputs": [],
   "source": [
    "with open('../newest_ts', 'r') as f:\r\n",
    "    newest_ts = f.read()\r\n",
    "\r\n",
    "data_path = f\"../data/data_{newest_ts}.json\"\r\n",
    "with open(data_path, 'r') as f:\r\n",
    "    data = json.load(f)\r\n",
    "\r\n",
    "with open(CONFIG_PATH, \"r\") as stream:\r\n",
    "    config = yaml.safe_load(stream)\r\n",
    "\r\n",
    "TIME_ZONE = config['time_zone']\r\n",
    "DATETIME_FORMAT = config['dt_format']"
   ]
  },
  {
   "cell_type": "code",
   "execution_count": 3,
   "metadata": {
    "execution": {
     "iopub.execute_input": "2021-09-30T19:09:33.091543Z",
     "iopub.status.busy": "2021-09-30T19:09:33.091030Z",
     "iopub.status.idle": "2021-09-30T19:09:33.098842Z",
     "shell.execute_reply": "2021-09-30T19:09:33.099220Z"
    }
   },
   "outputs": [
    {
     "name": "stdout",
     "output_type": "stream",
     "text": [
      "Recent query happens at 2021-10-01 03:09:27 (CST).\n"
     ]
    }
   ],
   "source": [
    "def ts2dt(ts, format=DATETIME_FORMAT):\r\n",
    "    dt = (datetime.utcfromtimestamp(int(ts))\r\n",
    "                    .replace(tzinfo=tz.tzutc())\r\n",
    "                    # .astimezone(tz.tzlocal())\r\n",
    "                    .astimezone(tz.gettz(TIME_ZONE)))\r\n",
    "    return dt.strftime(format), dt\r\n",
    "\r\n",
    "_, newest_dt = ts2dt(newest_ts)\r\n",
    "print(f\"Recent query happens at {newest_dt.strftime(DATETIME_FORMAT)} ({newest_dt.tzname()}).\")"
   ]
  },
  {
   "cell_type": "code",
   "execution_count": 4,
   "metadata": {
    "execution": {
     "iopub.execute_input": "2021-09-30T19:09:33.103988Z",
     "iopub.status.busy": "2021-09-30T19:09:33.102839Z",
     "iopub.status.idle": "2021-09-30T19:09:33.104508Z",
     "shell.execute_reply": "2021-09-30T19:09:33.104873Z"
    }
   },
   "outputs": [],
   "source": [
    "def degrees_to_cardinal(d):\r\n",
    "  dirs = ['N', 'NNE', 'NE', 'ENE', 'E', 'ESE', 'SE', 'SSE', 'S', 'SSW', 'SW', 'WSW', 'W', 'WNW', 'NW', 'NNW']\r\n",
    "  ix = int(round(d / (360. / len(dirs))))\r\n",
    "  return dirs[ix % len(dirs)]"
   ]
  },
  {
   "cell_type": "code",
   "execution_count": 5,
   "metadata": {
    "execution": {
     "iopub.execute_input": "2021-09-30T19:09:33.108609Z",
     "iopub.status.busy": "2021-09-30T19:09:33.107575Z",
     "iopub.status.idle": "2021-09-30T19:09:33.109126Z",
     "shell.execute_reply": "2021-09-30T19:09:33.109492Z"
    }
   },
   "outputs": [],
   "source": [
    "# data.keys()"
   ]
  },
  {
   "cell_type": "code",
   "execution_count": 6,
   "metadata": {
    "execution": {
     "iopub.execute_input": "2021-09-30T19:09:33.113141Z",
     "iopub.status.busy": "2021-09-30T19:09:33.111976Z",
     "iopub.status.idle": "2021-09-30T19:09:33.113666Z",
     "shell.execute_reply": "2021-09-30T19:09:33.114033Z"
    }
   },
   "outputs": [],
   "source": [
    "# data['current']"
   ]
  },
  {
   "cell_type": "code",
   "execution_count": 7,
   "metadata": {
    "execution": {
     "iopub.execute_input": "2021-09-30T19:09:33.128994Z",
     "iopub.status.busy": "2021-09-30T19:09:33.119323Z",
     "iopub.status.idle": "2021-09-30T19:09:33.381847Z",
     "shell.execute_reply": "2021-09-30T19:09:33.382455Z"
    }
   },
   "outputs": [
    {
     "data": {
      "image/png": "[encoded data removed]",
      "text/plain": [
       "<Figure size 216x216 with 1 Axes>"
      ]
     },
     "metadata": {
      "needs_background": "light"
     },
     "output_type": "display_data"
    },
    {
     "name": "stdout",
     "output_type": "stream",
     "text": [
      "Today, sun rises at 06:14 and sets at 18:11.\n",
      "Currently, the weather is Rain (light rain).\n",
      "The temperature is 28.99°C and it feels like 35.99°C.\n",
      "The UV index is 0, humidity is 88%.\n",
      "The pressure is 1007 hPa, percentage of cloud cover is 50%\n",
      "The wind comes from S direction with a speed 1.34 m/s.\n"
     ]
    }
   ],
   "source": [
    "current = data['current']\r\n",
    "\r\n",
    "fig, ax = plt.subplots(figsize=(3, 3))\r\n",
    "icon = requests.get(f\"http://openweathermap.org/img/wn/{current['weather'][0]['icon']}@2x.png\")\r\n",
    "im = Image.open(BytesIO(icon.content))\r\n",
    "plt.imshow(im)\r\n",
    "ax.set_axis_off()\r\n",
    "plt.show()\r\n",
    "\r\n",
    "print(f\"Today, sun rises at {ts2dt(current['sunrise'], '%H:%M')[0]} \\\r\n",
    "and sets at {ts2dt(current['sunset'], '%H:%M')[0]}.\\n\\\r\n",
    "Currently, the weather is {current['weather'][0]['main']} ({current['weather'][0]['description']}).\\n\\\r\n",
    "The temperature is {current['temp']}°C and it feels like {current['feels_like']}°C.\\n\\\r\n",
    "The UV index is {current['uvi']}, humidity is {current['humidity']}%.\\n\\\r\n",
    "The pressure is {current['pressure']} hPa, percentage of cloud cover is {current['clouds']}%\\n\\\r\n",
    "The wind comes from {degrees_to_cardinal(current['wind_deg'])} direction with a speed {current['wind_speed']} m/s.\")"
   ]
  },
  {
   "cell_type": "code",
   "execution_count": 8,
   "metadata": {
    "execution": {
     "iopub.execute_input": "2021-09-30T19:09:33.385572Z",
     "iopub.status.busy": "2021-09-30T19:09:33.384907Z",
     "iopub.status.idle": "2021-09-30T19:09:33.391029Z",
     "shell.execute_reply": "2021-09-30T19:09:33.391613Z"
    }
   },
   "outputs": [],
   "source": [
    "df_hourly = pd.DataFrame(data['hourly'])\r\n",
    "df_daily = pd.DataFrame(data['daily'])"
   ]
  },
  {
   "cell_type": "code",
   "execution_count": 9,
   "metadata": {
    "execution": {
     "iopub.execute_input": "2021-09-30T19:09:33.394484Z",
     "iopub.status.busy": "2021-09-30T19:09:33.393539Z",
     "iopub.status.idle": "2021-09-30T19:09:33.610103Z",
     "shell.execute_reply": "2021-09-30T19:09:33.610544Z"
    }
   },
   "outputs": [
    {
     "data": {
      "image/png": "[encoded data removed]",
      "text/plain": [
       "<Figure size 864x432 with 1 Axes>"
      ]
     },
     "metadata": {
      "needs_background": "light"
     },
     "output_type": "display_data"
    }
   ],
   "source": [
    "fig, ax = plt.subplots(figsize=(12, 6))\r\n",
    "plt.plot(df_hourly.temp, '.-', label='Temperature')\r\n",
    "plt.plot(df_hourly.feels_like, '.-', label='Feels Like')\r\n",
    "ax.set(title='Temperature in future 48 hours', xlabel='Time', ylabel='Temperature')\r\n",
    "ax.set_xticks(list(range(0, len(df_hourly), 2)))\r\n",
    "ax.set_xticklabels([ts2dt(ts, '%m-%d %H:%M')[0] for i, ts in enumerate(df_hourly.dt) if i%2==0], \r\n",
    "                   rotation=45, ha=\"right\")\r\n",
    "ax.locator_params(nbins=15, axis='y')\r\n",
    "plt.legend()\r\n",
    "plt.show()"
   ]
  },
  {
   "cell_type": "code",
   "execution_count": 10,
   "metadata": {
    "execution": {
     "iopub.execute_input": "2021-09-30T19:09:33.614976Z",
     "iopub.status.busy": "2021-09-30T19:09:33.614515Z",
     "iopub.status.idle": "2021-09-30T19:09:33.630719Z",
     "shell.execute_reply": "2021-09-30T19:09:33.631098Z"
    }
   },
   "outputs": [
    {
     "data": {
      "text/html": [
       "<div>\n",
       "<style scoped>\n",
       "    .dataframe tbody tr th:only-of-type {\n",
       "        vertical-align: middle;\n",
       "    }\n",
       "\n",
       "    .dataframe tbody tr th {\n",
       "        vertical-align: top;\n",
       "    }\n",
       "\n",
       "    .dataframe thead th {\n",
       "        text-align: right;\n",
       "    }\n",
       "</style>\n",
       "<table border=\"1\" class=\"dataframe\">\n",
       "  <thead>\n",
       "    <tr style=\"text-align: right;\">\n",
       "      <th></th>\n",
       "      <th>dt</th>\n",
       "      <th>temp</th>\n",
       "      <th>feels_like</th>\n",
       "      <th>pressure</th>\n",
       "      <th>humidity</th>\n",
       "      <th>dew_point</th>\n",
       "      <th>uvi</th>\n",
       "      <th>clouds</th>\n",
       "      <th>visibility</th>\n",
       "      <th>wind_speed</th>\n",
       "      <th>wind_deg</th>\n",
       "      <th>wind_gust</th>\n",
       "      <th>weather</th>\n",
       "      <th>pop</th>\n",
       "      <th>rain</th>\n",
       "    </tr>\n",
       "  </thead>\n",
       "  <tbody>\n",
       "    <tr>\n",
       "      <th>0</th>\n",
       "      <td>1633028400</td>\n",
       "      <td>28.99</td>\n",
       "      <td>35.99</td>\n",
       "      <td>1007</td>\n",
       "      <td>88</td>\n",
       "      <td>26.80</td>\n",
       "      <td>0.00</td>\n",
       "      <td>50</td>\n",
       "      <td>10000</td>\n",
       "      <td>2.29</td>\n",
       "      <td>231</td>\n",
       "      <td>2.49</td>\n",
       "      <td>[{'id': 500, 'main': 'Rain', 'description': 'l...</td>\n",
       "      <td>0.42</td>\n",
       "      <td>{'1h': 0.13}</td>\n",
       "    </tr>\n",
       "    <tr>\n",
       "      <th>1</th>\n",
       "      <td>1633032000</td>\n",
       "      <td>28.78</td>\n",
       "      <td>35.41</td>\n",
       "      <td>1007</td>\n",
       "      <td>86</td>\n",
       "      <td>26.20</td>\n",
       "      <td>0.00</td>\n",
       "      <td>46</td>\n",
       "      <td>10000</td>\n",
       "      <td>2.13</td>\n",
       "      <td>238</td>\n",
       "      <td>2.18</td>\n",
       "      <td>[{'id': 802, 'main': 'Clouds', 'description': ...</td>\n",
       "      <td>0.48</td>\n",
       "      <td>NaN</td>\n",
       "    </tr>\n",
       "    <tr>\n",
       "      <th>2</th>\n",
       "      <td>1633035600</td>\n",
       "      <td>28.29</td>\n",
       "      <td>33.91</td>\n",
       "      <td>1007</td>\n",
       "      <td>86</td>\n",
       "      <td>25.72</td>\n",
       "      <td>0.00</td>\n",
       "      <td>39</td>\n",
       "      <td>10000</td>\n",
       "      <td>2.23</td>\n",
       "      <td>225</td>\n",
       "      <td>2.50</td>\n",
       "      <td>[{'id': 802, 'main': 'Clouds', 'description': ...</td>\n",
       "      <td>0.56</td>\n",
       "      <td>NaN</td>\n",
       "    </tr>\n",
       "    <tr>\n",
       "      <th>3</th>\n",
       "      <td>1633039200</td>\n",
       "      <td>28.16</td>\n",
       "      <td>33.18</td>\n",
       "      <td>1008</td>\n",
       "      <td>84</td>\n",
       "      <td>25.20</td>\n",
       "      <td>0.00</td>\n",
       "      <td>30</td>\n",
       "      <td>10000</td>\n",
       "      <td>2.45</td>\n",
       "      <td>221</td>\n",
       "      <td>2.57</td>\n",
       "      <td>[{'id': 500, 'main': 'Rain', 'description': 'l...</td>\n",
       "      <td>0.59</td>\n",
       "      <td>{'1h': 0.37}</td>\n",
       "    </tr>\n",
       "    <tr>\n",
       "      <th>4</th>\n",
       "      <td>1633042800</td>\n",
       "      <td>28.09</td>\n",
       "      <td>32.65</td>\n",
       "      <td>1009</td>\n",
       "      <td>82</td>\n",
       "      <td>24.73</td>\n",
       "      <td>0.17</td>\n",
       "      <td>20</td>\n",
       "      <td>10000</td>\n",
       "      <td>2.45</td>\n",
       "      <td>222</td>\n",
       "      <td>2.62</td>\n",
       "      <td>[{'id': 500, 'main': 'Rain', 'description': 'l...</td>\n",
       "      <td>0.57</td>\n",
       "      <td>{'1h': 0.12}</td>\n",
       "    </tr>\n",
       "  </tbody>\n",
       "</table>\n",
       "</div>"
      ],
      "text/plain": [
       "           dt   temp  feels_like  pressure  humidity  dew_point   uvi  clouds  \\\n",
       "0  1633028400  28.99       35.99      1007        88      26.80  0.00      50   \n",
       "1  1633032000  28.78       35.41      1007        86      26.20  0.00      46   \n",
       "2  1633035600  28.29       33.91      1007        86      25.72  0.00      39   \n",
       "3  1633039200  28.16       33.18      1008        84      25.20  0.00      30   \n",
       "4  1633042800  28.09       32.65      1009        82      24.73  0.17      20   \n",
       "\n",
       "   visibility  wind_speed  wind_deg  wind_gust  \\\n",
       "0       10000        2.29       231       2.49   \n",
       "1       10000        2.13       238       2.18   \n",
       "2       10000        2.23       225       2.50   \n",
       "3       10000        2.45       221       2.57   \n",
       "4       10000        2.45       222       2.62   \n",
       "\n",
       "                                             weather   pop          rain  \n",
       "0  [{'id': 500, 'main': 'Rain', 'description': 'l...  0.42  {'1h': 0.13}  \n",
       "1  [{'id': 802, 'main': 'Clouds', 'description': ...  0.48           NaN  \n",
       "2  [{'id': 802, 'main': 'Clouds', 'description': ...  0.56           NaN  \n",
       "3  [{'id': 500, 'main': 'Rain', 'description': 'l...  0.59  {'1h': 0.37}  \n",
       "4  [{'id': 500, 'main': 'Rain', 'description': 'l...  0.57  {'1h': 0.12}  "
      ]
     },
     "execution_count": 10,
     "metadata": {},
     "output_type": "execute_result"
    }
   ],
   "source": [
    "df_hourly.head()"
   ]
  },
  {
   "cell_type": "code",
   "execution_count": null,
   "metadata": {},
   "outputs": [],
   "source": []
  }
 ],
 "metadata": {
  "interpreter": {
   "hash": "c1b4cfe941b6d2466ad1fb5979e97da9cda8801728c8091b097ab734208fc00c"
  },
  "kernelspec": {
   "display_name": "Python 3.8.3 64-bit ('base': conda)",
   "name": "python3"
  },
  "language_info": {
   "codemirror_mode": {
    "name": "ipython",
    "version": 3
   },
   "file_extension": ".py",
   "mimetype": "text/x-python",
   "name": "python",
   "nbconvert_exporter": "python",
   "pygments_lexer": "ipython3",
   "version": "3.8.12"
  }
 },
 "nbformat": 4,
 "nbformat_minor": 2
}
