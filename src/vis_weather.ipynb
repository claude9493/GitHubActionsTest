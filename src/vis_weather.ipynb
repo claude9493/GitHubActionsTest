{
 "cells": [
  {
   "cell_type": "code",
   "execution_count": 1,
   "metadata": {
    "execution": {
     "iopub.execute_input": "2021-09-20T05:10:31.603476Z",
     "iopub.status.busy": "2021-09-20T05:10:31.602750Z",
     "iopub.status.idle": "2021-09-20T05:10:34.163621Z",
     "shell.execute_reply": "2021-09-20T05:10:34.164138Z"
    }
   },
   "outputs": [],
   "source": [
    "import json, yaml, requests\r\n",
    "from datetime import datetime\r\n",
    "from dateutil import tz\r\n",
    "import pandas as pd\r\n",
    "from PIL import Image\r\n",
    "from io import BytesIO\r\n",
    "import matplotlib.pyplot as plt\r\n",
    "import seaborn\r\n",
    "\r\n",
    "CONFIG_PATH = \"../config/config.yaml\""
   ]
  },
  {
   "cell_type": "code",
   "execution_count": 2,
   "metadata": {
    "execution": {
     "iopub.execute_input": "2021-09-20T05:10:34.173397Z",
     "iopub.status.busy": "2021-09-20T05:10:34.170100Z",
     "iopub.status.idle": "2021-09-20T05:10:34.176721Z",
     "shell.execute_reply": "2021-09-20T05:10:34.175818Z"
    }
   },
   "outputs": [],
   "source": [
    "with open('../newest_ts', 'r') as f:\r\n",
    "    newest_ts = f.read()\r\n",
    "\r\n",
    "data_path = f\"../data/data_{newest_ts}.json\"\r\n",
    "with open(data_path, 'r') as f:\r\n",
    "    data = json.load(f)\r\n",
    "\r\n",
    "with open(CONFIG_PATH, \"r\") as stream:\r\n",
    "    config = yaml.safe_load(stream)\r\n",
    "\r\n",
    "TIME_ZONE = config['time_zone']\r\n",
    "DATETIME_FORMAT = config['dt_format']"
   ]
  },
  {
   "cell_type": "code",
   "execution_count": 3,
   "metadata": {
    "execution": {
     "iopub.execute_input": "2021-09-20T05:10:34.181458Z",
     "iopub.status.busy": "2021-09-20T05:10:34.179063Z",
     "iopub.status.idle": "2021-09-20T05:10:34.190572Z",
     "shell.execute_reply": "2021-09-20T05:10:34.191222Z"
    }
   },
   "outputs": [
    {
     "name": "stdout",
     "output_type": "stream",
     "text": [
      "Recent query happens at 2021-09-20 13:10:28 (CST).\n"
     ]
    }
   ],
   "source": [
    "def ts2dt(ts, format=DATETIME_FORMAT):\r\n",
    "    dt = (datetime.utcfromtimestamp(int(ts))\r\n",
    "                    .replace(tzinfo=tz.tzutc())\r\n",
    "                    # .astimezone(tz.tzlocal())\r\n",
    "                    .astimezone(tz.gettz(TIME_ZONE)))\r\n",
    "    return dt.strftime(format), dt\r\n",
    "\r\n",
    "_, newest_dt = ts2dt(newest_ts)\r\n",
    "print(f\"Recent query happens at {newest_dt.strftime(DATETIME_FORMAT)} ({newest_dt.tzname()}).\")"
   ]
  },
  {
   "cell_type": "code",
   "execution_count": 4,
   "metadata": {
    "execution": {
     "iopub.execute_input": "2021-09-20T05:10:34.196482Z",
     "iopub.status.busy": "2021-09-20T05:10:34.195846Z",
     "iopub.status.idle": "2021-09-20T05:10:34.199899Z",
     "shell.execute_reply": "2021-09-20T05:10:34.199334Z"
    }
   },
   "outputs": [],
   "source": [
    "def degrees_to_cardinal(d):\r\n",
    "  dirs = ['N', 'NNE', 'NE', 'ENE', 'E', 'ESE', 'SE', 'SSE', 'S', 'SSW', 'SW', 'WSW', 'W', 'WNW', 'NW', 'NNW']\r\n",
    "  ix = int(round(d / (360. / len(dirs))))\r\n",
    "  return dirs[ix % len(dirs)]"
   ]
  },
  {
   "cell_type": "code",
   "execution_count": 5,
   "metadata": {
    "execution": {
     "iopub.execute_input": "2021-09-20T05:10:34.203974Z",
     "iopub.status.busy": "2021-09-20T05:10:34.203082Z",
     "iopub.status.idle": "2021-09-20T05:10:34.207769Z",
     "shell.execute_reply": "2021-09-20T05:10:34.206937Z"
    }
   },
   "outputs": [],
   "source": [
    "# data.keys()"
   ]
  },
  {
   "cell_type": "code",
   "execution_count": 6,
   "metadata": {
    "execution": {
     "iopub.execute_input": "2021-09-20T05:10:34.211607Z",
     "iopub.status.busy": "2021-09-20T05:10:34.211034Z",
     "iopub.status.idle": "2021-09-20T05:10:34.214813Z",
     "shell.execute_reply": "2021-09-20T05:10:34.214312Z"
    }
   },
   "outputs": [],
   "source": [
    "# data['current']"
   ]
  },
  {
   "cell_type": "code",
   "execution_count": 7,
   "metadata": {
    "execution": {
     "iopub.execute_input": "2021-09-20T05:10:34.245902Z",
     "iopub.status.busy": "2021-09-20T05:10:34.237864Z",
     "iopub.status.idle": "2021-09-20T05:10:34.535181Z",
     "shell.execute_reply": "2021-09-20T05:10:34.535697Z"
    }
   },
   "outputs": [
    {
     "data": {
      "image/png": "[encoded data removed]",
      "text/plain": [
       "<Figure size 216x216 with 1 Axes>"
      ]
     },
     "metadata": {
      "needs_background": "light"
     },
     "output_type": "display_data"
    },
    {
     "name": "stdout",
     "output_type": "stream",
     "text": [
      "Today, sun rises at 06:11 and sets at 18:21.\n",
      "Currently, the weather is Clouds (scattered clouds).\n",
      "The temperature is 30.43°C and it feels like 37.43°C.\n",
      "The UV index is 8.18, humidity is 81%.\n",
      "The pressure is 1011 hPa, percentage of cloud cover is 32%\n",
      "The wind comes from ESE direction with a speed 2.85 m/s.\n"
     ]
    }
   ],
   "source": [
    "current = data['current']\r\n",
    "\r\n",
    "fig, ax = plt.subplots(figsize=(3, 3))\r\n",
    "icon = requests.get(f\"http://openweathermap.org/img/wn/{current['weather'][0]['icon']}@2x.png\")\r\n",
    "im = Image.open(BytesIO(icon.content))\r\n",
    "plt.imshow(im)\r\n",
    "ax.set_axis_off()\r\n",
    "plt.show()\r\n",
    "\r\n",
    "print(f\"Today, sun rises at {ts2dt(current['sunrise'], '%H:%M')[0]} \\\r\n",
    "and sets at {ts2dt(current['sunset'], '%H:%M')[0]}.\\n\\\r\n",
    "Currently, the weather is {current['weather'][0]['main']} ({current['weather'][0]['description']}).\\n\\\r\n",
    "The temperature is {current['temp']}°C and it feels like {current['feels_like']}°C.\\n\\\r\n",
    "The UV index is {current['uvi']}, humidity is {current['humidity']}%.\\n\\\r\n",
    "The pressure is {current['pressure']} hPa, percentage of cloud cover is {current['clouds']}%\\n\\\r\n",
    "The wind comes from {degrees_to_cardinal(current['wind_deg'])} direction with a speed {current['wind_speed']} m/s.\")"
   ]
  },
  {
   "cell_type": "code",
   "execution_count": 8,
   "metadata": {
    "execution": {
     "iopub.execute_input": "2021-09-20T05:10:34.544856Z",
     "iopub.status.busy": "2021-09-20T05:10:34.543373Z",
     "iopub.status.idle": "2021-09-20T05:10:34.547741Z",
     "shell.execute_reply": "2021-09-20T05:10:34.548491Z"
    }
   },
   "outputs": [],
   "source": [
    "df_hourly = pd.DataFrame(data['hourly'])\r\n",
    "df_daily = pd.DataFrame(data['daily'])"
   ]
  },
  {
   "cell_type": "code",
   "execution_count": 9,
   "metadata": {
    "execution": {
     "iopub.execute_input": "2021-09-20T05:10:34.552290Z",
     "iopub.status.busy": "2021-09-20T05:10:34.551625Z",
     "iopub.status.idle": "2021-09-20T05:10:34.866667Z",
     "shell.execute_reply": "2021-09-20T05:10:34.866162Z"
    }
   },
   "outputs": [
    {
     "data": {
      "image/png": "[encoded data removed]",
      "text/plain": [
       "<Figure size 864x432 with 1 Axes>"
      ]
     },
     "metadata": {
      "needs_background": "light"
     },
     "output_type": "display_data"
    }
   ],
   "source": [
    "fig, ax = plt.subplots(figsize=(12, 6))\r\n",
    "plt.plot(df_hourly.temp, '.-', label='Temperature')\r\n",
    "plt.plot(df_hourly.feels_like, '.-', label='Feels Like')\r\n",
    "ax.set(title='Temperature in future 48 hours', xlabel='Time', ylabel='Temperature')\r\n",
    "ax.set_xticks(list(range(0, len(df_hourly), 2)))\r\n",
    "ax.set_xticklabels([ts2dt(ts, '%m-%d %H:%M')[0] for i, ts in enumerate(df_hourly.dt) if i%2==0], \r\n",
    "                   rotation=45, ha=\"right\")\r\n",
    "ax.locator_params(nbins=15, axis='y')\r\n",
    "plt.legend()\r\n",
    "plt.show()"
   ]
  },
  {
   "cell_type": "code",
   "execution_count": 10,
   "metadata": {
    "execution": {
     "iopub.execute_input": "2021-09-20T05:10:34.872159Z",
     "iopub.status.busy": "2021-09-20T05:10:34.871496Z",
     "iopub.status.idle": "2021-09-20T05:10:34.897924Z",
     "shell.execute_reply": "2021-09-20T05:10:34.897362Z"
    }
   },
   "outputs": [
    {
     "data": {
      "text/html": [
       "<div>\n",
       "<style scoped>\n",
       "    .dataframe tbody tr th:only-of-type {\n",
       "        vertical-align: middle;\n",
       "    }\n",
       "\n",
       "    .dataframe tbody tr th {\n",
       "        vertical-align: top;\n",
       "    }\n",
       "\n",
       "    .dataframe thead th {\n",
       "        text-align: right;\n",
       "    }\n",
       "</style>\n",
       "<table border=\"1\" class=\"dataframe\">\n",
       "  <thead>\n",
       "    <tr style=\"text-align: right;\">\n",
       "      <th></th>\n",
       "      <th>dt</th>\n",
       "      <th>temp</th>\n",
       "      <th>feels_like</th>\n",
       "      <th>pressure</th>\n",
       "      <th>humidity</th>\n",
       "      <th>dew_point</th>\n",
       "      <th>uvi</th>\n",
       "      <th>clouds</th>\n",
       "      <th>visibility</th>\n",
       "      <th>wind_speed</th>\n",
       "      <th>wind_deg</th>\n",
       "      <th>wind_gust</th>\n",
       "      <th>weather</th>\n",
       "      <th>pop</th>\n",
       "      <th>rain</th>\n",
       "    </tr>\n",
       "  </thead>\n",
       "  <tbody>\n",
       "    <tr>\n",
       "      <th>0</th>\n",
       "      <td>1632114000</td>\n",
       "      <td>30.43</td>\n",
       "      <td>37.43</td>\n",
       "      <td>1011</td>\n",
       "      <td>81</td>\n",
       "      <td>26.80</td>\n",
       "      <td>8.18</td>\n",
       "      <td>32</td>\n",
       "      <td>10000</td>\n",
       "      <td>2.85</td>\n",
       "      <td>110</td>\n",
       "      <td>2.48</td>\n",
       "      <td>[{'id': 500, 'main': 'Rain', 'description': 'l...</td>\n",
       "      <td>0.41</td>\n",
       "      <td>{'1h': 0.56}</td>\n",
       "    </tr>\n",
       "    <tr>\n",
       "      <th>1</th>\n",
       "      <td>1632117600</td>\n",
       "      <td>30.36</td>\n",
       "      <td>37.36</td>\n",
       "      <td>1011</td>\n",
       "      <td>79</td>\n",
       "      <td>26.30</td>\n",
       "      <td>6.69</td>\n",
       "      <td>33</td>\n",
       "      <td>10000</td>\n",
       "      <td>2.51</td>\n",
       "      <td>118</td>\n",
       "      <td>2.03</td>\n",
       "      <td>[{'id': 501, 'main': 'Rain', 'description': 'm...</td>\n",
       "      <td>0.48</td>\n",
       "      <td>{'1h': 1.33}</td>\n",
       "    </tr>\n",
       "    <tr>\n",
       "      <th>2</th>\n",
       "      <td>1632121200</td>\n",
       "      <td>30.28</td>\n",
       "      <td>37.28</td>\n",
       "      <td>1010</td>\n",
       "      <td>77</td>\n",
       "      <td>25.79</td>\n",
       "      <td>5.35</td>\n",
       "      <td>52</td>\n",
       "      <td>10000</td>\n",
       "      <td>2.47</td>\n",
       "      <td>118</td>\n",
       "      <td>1.89</td>\n",
       "      <td>[{'id': 501, 'main': 'Rain', 'description': 'm...</td>\n",
       "      <td>0.39</td>\n",
       "      <td>{'1h': 1.15}</td>\n",
       "    </tr>\n",
       "    <tr>\n",
       "      <th>3</th>\n",
       "      <td>1632124800</td>\n",
       "      <td>30.17</td>\n",
       "      <td>36.77</td>\n",
       "      <td>1010</td>\n",
       "      <td>75</td>\n",
       "      <td>25.24</td>\n",
       "      <td>2.68</td>\n",
       "      <td>51</td>\n",
       "      <td>10000</td>\n",
       "      <td>2.27</td>\n",
       "      <td>110</td>\n",
       "      <td>1.79</td>\n",
       "      <td>[{'id': 803, 'main': 'Clouds', 'description': ...</td>\n",
       "      <td>0.38</td>\n",
       "      <td>NaN</td>\n",
       "    </tr>\n",
       "    <tr>\n",
       "      <th>4</th>\n",
       "      <td>1632128400</td>\n",
       "      <td>29.92</td>\n",
       "      <td>35.57</td>\n",
       "      <td>1009</td>\n",
       "      <td>73</td>\n",
       "      <td>24.55</td>\n",
       "      <td>0.86</td>\n",
       "      <td>48</td>\n",
       "      <td>10000</td>\n",
       "      <td>2.35</td>\n",
       "      <td>107</td>\n",
       "      <td>1.92</td>\n",
       "      <td>[{'id': 802, 'main': 'Clouds', 'description': ...</td>\n",
       "      <td>0.38</td>\n",
       "      <td>NaN</td>\n",
       "    </tr>\n",
       "  </tbody>\n",
       "</table>\n",
       "</div>"
      ],
      "text/plain": [
       "           dt   temp  feels_like  pressure  humidity  dew_point   uvi  clouds  \\\n",
       "0  1632114000  30.43       37.43      1011        81      26.80  8.18      32   \n",
       "1  1632117600  30.36       37.36      1011        79      26.30  6.69      33   \n",
       "2  1632121200  30.28       37.28      1010        77      25.79  5.35      52   \n",
       "3  1632124800  30.17       36.77      1010        75      25.24  2.68      51   \n",
       "4  1632128400  29.92       35.57      1009        73      24.55  0.86      48   \n",
       "\n",
       "   visibility  wind_speed  wind_deg  wind_gust  \\\n",
       "0       10000        2.85       110       2.48   \n",
       "1       10000        2.51       118       2.03   \n",
       "2       10000        2.47       118       1.89   \n",
       "3       10000        2.27       110       1.79   \n",
       "4       10000        2.35       107       1.92   \n",
       "\n",
       "                                             weather   pop          rain  \n",
       "0  [{'id': 500, 'main': 'Rain', 'description': 'l...  0.41  {'1h': 0.56}  \n",
       "1  [{'id': 501, 'main': 'Rain', 'description': 'm...  0.48  {'1h': 1.33}  \n",
       "2  [{'id': 501, 'main': 'Rain', 'description': 'm...  0.39  {'1h': 1.15}  \n",
       "3  [{'id': 803, 'main': 'Clouds', 'description': ...  0.38           NaN  \n",
       "4  [{'id': 802, 'main': 'Clouds', 'description': ...  0.38           NaN  "
      ]
     },
     "execution_count": 10,
     "metadata": {},
     "output_type": "execute_result"
    }
   ],
   "source": [
    "df_hourly.head()"
   ]
  },
  {
   "cell_type": "code",
   "execution_count": null,
   "metadata": {},
   "outputs": [],
   "source": []
  }
 ],
 "metadata": {
  "interpreter": {
   "hash": "c1b4cfe941b6d2466ad1fb5979e97da9cda8801728c8091b097ab734208fc00c"
  },
  "kernelspec": {
   "display_name": "Python 3.8.3 64-bit ('base': conda)",
   "name": "python3"
  },
  "language_info": {
   "codemirror_mode": {
    "name": "ipython",
    "version": 3
   },
   "file_extension": ".py",
   "mimetype": "text/x-python",
   "name": "python",
   "nbconvert_exporter": "python",
   "pygments_lexer": "ipython3",
   "version": "3.8.11"
  }
 },
 "nbformat": 4,
 "nbformat_minor": 2
}
