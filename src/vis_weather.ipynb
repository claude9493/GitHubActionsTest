{
 "cells": [
  {
   "cell_type": "code",
   "execution_count": 1,
   "metadata": {
    "execution": {
     "iopub.execute_input": "2021-09-30T05:10:26.449810Z",
     "iopub.status.busy": "2021-09-30T05:10:26.449298Z",
     "iopub.status.idle": "2021-09-30T05:10:27.662624Z",
     "shell.execute_reply": "2021-09-30T05:10:27.661642Z"
    }
   },
   "outputs": [],
   "source": [
    "import json, yaml, requests\r\n",
    "from datetime import datetime\r\n",
    "from dateutil import tz\r\n",
    "import pandas as pd\r\n",
    "from PIL import Image\r\n",
    "from io import BytesIO\r\n",
    "import matplotlib.pyplot as plt\r\n",
    "import seaborn\r\n",
    "\r\n",
    "CONFIG_PATH = \"../config/config.yaml\""
   ]
  },
  {
   "cell_type": "code",
   "execution_count": 2,
   "metadata": {
    "execution": {
     "iopub.execute_input": "2021-09-30T05:10:27.667912Z",
     "iopub.status.busy": "2021-09-30T05:10:27.667168Z",
     "iopub.status.idle": "2021-09-30T05:10:27.671988Z",
     "shell.execute_reply": "2021-09-30T05:10:27.671576Z"
    }
   },
   "outputs": [],
   "source": [
    "with open('../newest_ts', 'r') as f:\r\n",
    "    newest_ts = f.read()\r\n",
    "\r\n",
    "data_path = f\"../data/data_{newest_ts}.json\"\r\n",
    "with open(data_path, 'r') as f:\r\n",
    "    data = json.load(f)\r\n",
    "\r\n",
    "with open(CONFIG_PATH, \"r\") as stream:\r\n",
    "    config = yaml.safe_load(stream)\r\n",
    "\r\n",
    "TIME_ZONE = config['time_zone']\r\n",
    "DATETIME_FORMAT = config['dt_format']"
   ]
  },
  {
   "cell_type": "code",
   "execution_count": 3,
   "metadata": {
    "execution": {
     "iopub.execute_input": "2021-09-30T05:10:27.676302Z",
     "iopub.status.busy": "2021-09-30T05:10:27.675760Z",
     "iopub.status.idle": "2021-09-30T05:10:27.687930Z",
     "shell.execute_reply": "2021-09-30T05:10:27.688237Z"
    }
   },
   "outputs": [
    {
     "name": "stdout",
     "output_type": "stream",
     "text": [
      "Recent query happens at 2021-09-30 13:10:23 (CST).\n"
     ]
    }
   ],
   "source": [
    "def ts2dt(ts, format=DATETIME_FORMAT):\r\n",
    "    dt = (datetime.utcfromtimestamp(int(ts))\r\n",
    "                    .replace(tzinfo=tz.tzutc())\r\n",
    "                    # .astimezone(tz.tzlocal())\r\n",
    "                    .astimezone(tz.gettz(TIME_ZONE)))\r\n",
    "    return dt.strftime(format), dt\r\n",
    "\r\n",
    "_, newest_dt = ts2dt(newest_ts)\r\n",
    "print(f\"Recent query happens at {newest_dt.strftime(DATETIME_FORMAT)} ({newest_dt.tzname()}).\")"
   ]
  },
  {
   "cell_type": "code",
   "execution_count": 4,
   "metadata": {
    "execution": {
     "iopub.execute_input": "2021-09-30T05:10:27.693155Z",
     "iopub.status.busy": "2021-09-30T05:10:27.692017Z",
     "iopub.status.idle": "2021-09-30T05:10:27.693650Z",
     "shell.execute_reply": "2021-09-30T05:10:27.693994Z"
    }
   },
   "outputs": [],
   "source": [
    "def degrees_to_cardinal(d):\r\n",
    "  dirs = ['N', 'NNE', 'NE', 'ENE', 'E', 'ESE', 'SE', 'SSE', 'S', 'SSW', 'SW', 'WSW', 'W', 'WNW', 'NW', 'NNW']\r\n",
    "  ix = int(round(d / (360. / len(dirs))))\r\n",
    "  return dirs[ix % len(dirs)]"
   ]
  },
  {
   "cell_type": "code",
   "execution_count": 5,
   "metadata": {
    "execution": {
     "iopub.execute_input": "2021-09-30T05:10:27.698165Z",
     "iopub.status.busy": "2021-09-30T05:10:27.697009Z",
     "iopub.status.idle": "2021-09-30T05:10:27.698663Z",
     "shell.execute_reply": "2021-09-30T05:10:27.699007Z"
    }
   },
   "outputs": [],
   "source": [
    "# data.keys()"
   ]
  },
  {
   "cell_type": "code",
   "execution_count": 6,
   "metadata": {
    "execution": {
     "iopub.execute_input": "2021-09-30T05:10:27.702699Z",
     "iopub.status.busy": "2021-09-30T05:10:27.701648Z",
     "iopub.status.idle": "2021-09-30T05:10:27.703200Z",
     "shell.execute_reply": "2021-09-30T05:10:27.703543Z"
    }
   },
   "outputs": [],
   "source": [
    "# data['current']"
   ]
  },
  {
   "cell_type": "code",
   "execution_count": 7,
   "metadata": {
    "execution": {
     "iopub.execute_input": "2021-09-30T05:10:27.719910Z",
     "iopub.status.busy": "2021-09-30T05:10:27.719466Z",
     "iopub.status.idle": "2021-09-30T05:10:27.982831Z",
     "shell.execute_reply": "2021-09-30T05:10:27.983478Z"
    }
   },
   "outputs": [
    {
     "data": {
      "image/png": "[encoded data removed]",
      "text/plain": [
       "<Figure size 216x216 with 1 Axes>"
      ]
     },
     "metadata": {
      "needs_background": "light"
     },
     "output_type": "display_data"
    },
    {
     "name": "stdout",
     "output_type": "stream",
     "text": [
      "Today, sun rises at 06:13 and sets at 18:12.\n",
      "Currently, the weather is Clouds (few clouds).\n",
      "The temperature is 32.89°C and it feels like 39.89°C.\n",
      "The UV index is 9.69, humidity is 70%.\n",
      "The pressure is 1008 hPa, percentage of cloud cover is 11%\n",
      "The wind comes from W direction with a speed 2.24 m/s.\n"
     ]
    }
   ],
   "source": [
    "current = data['current']\r\n",
    "\r\n",
    "fig, ax = plt.subplots(figsize=(3, 3))\r\n",
    "icon = requests.get(f\"http://openweathermap.org/img/wn/{current['weather'][0]['icon']}@2x.png\")\r\n",
    "im = Image.open(BytesIO(icon.content))\r\n",
    "plt.imshow(im)\r\n",
    "ax.set_axis_off()\r\n",
    "plt.show()\r\n",
    "\r\n",
    "print(f\"Today, sun rises at {ts2dt(current['sunrise'], '%H:%M')[0]} \\\r\n",
    "and sets at {ts2dt(current['sunset'], '%H:%M')[0]}.\\n\\\r\n",
    "Currently, the weather is {current['weather'][0]['main']} ({current['weather'][0]['description']}).\\n\\\r\n",
    "The temperature is {current['temp']}°C and it feels like {current['feels_like']}°C.\\n\\\r\n",
    "The UV index is {current['uvi']}, humidity is {current['humidity']}%.\\n\\\r\n",
    "The pressure is {current['pressure']} hPa, percentage of cloud cover is {current['clouds']}%\\n\\\r\n",
    "The wind comes from {degrees_to_cardinal(current['wind_deg'])} direction with a speed {current['wind_speed']} m/s.\")"
   ]
  },
  {
   "cell_type": "code",
   "execution_count": 8,
   "metadata": {
    "execution": {
     "iopub.execute_input": "2021-09-30T05:10:27.986693Z",
     "iopub.status.busy": "2021-09-30T05:10:27.985788Z",
     "iopub.status.idle": "2021-09-30T05:10:27.992660Z",
     "shell.execute_reply": "2021-09-30T05:10:27.993299Z"
    }
   },
   "outputs": [],
   "source": [
    "df_hourly = pd.DataFrame(data['hourly'])\r\n",
    "df_daily = pd.DataFrame(data['daily'])"
   ]
  },
  {
   "cell_type": "code",
   "execution_count": 9,
   "metadata": {
    "execution": {
     "iopub.execute_input": "2021-09-30T05:10:27.996412Z",
     "iopub.status.busy": "2021-09-30T05:10:27.995303Z",
     "iopub.status.idle": "2021-09-30T05:10:28.240584Z",
     "shell.execute_reply": "2021-09-30T05:10:28.241390Z"
    }
   },
   "outputs": [
    {
     "data": {
      "image/png": "[encoded data removed]",
      "text/plain": [
       "<Figure size 864x432 with 1 Axes>"
      ]
     },
     "metadata": {
      "needs_background": "light"
     },
     "output_type": "display_data"
    }
   ],
   "source": [
    "fig, ax = plt.subplots(figsize=(12, 6))\r\n",
    "plt.plot(df_hourly.temp, '.-', label='Temperature')\r\n",
    "plt.plot(df_hourly.feels_like, '.-', label='Feels Like')\r\n",
    "ax.set(title='Temperature in future 48 hours', xlabel='Time', ylabel='Temperature')\r\n",
    "ax.set_xticks(list(range(0, len(df_hourly), 2)))\r\n",
    "ax.set_xticklabels([ts2dt(ts, '%m-%d %H:%M')[0] for i, ts in enumerate(df_hourly.dt) if i%2==0], \r\n",
    "                   rotation=45, ha=\"right\")\r\n",
    "ax.locator_params(nbins=15, axis='y')\r\n",
    "plt.legend()\r\n",
    "plt.show()"
   ]
  },
  {
   "cell_type": "code",
   "execution_count": 10,
   "metadata": {
    "execution": {
     "iopub.execute_input": "2021-09-30T05:10:28.251702Z",
     "iopub.status.busy": "2021-09-30T05:10:28.245324Z",
     "iopub.status.idle": "2021-09-30T05:10:28.260879Z",
     "shell.execute_reply": "2021-09-30T05:10:28.261275Z"
    }
   },
   "outputs": [
    {
     "data": {
      "text/html": [
       "<div>\n",
       "<style scoped>\n",
       "    .dataframe tbody tr th:only-of-type {\n",
       "        vertical-align: middle;\n",
       "    }\n",
       "\n",
       "    .dataframe tbody tr th {\n",
       "        vertical-align: top;\n",
       "    }\n",
       "\n",
       "    .dataframe thead th {\n",
       "        text-align: right;\n",
       "    }\n",
       "</style>\n",
       "<table border=\"1\" class=\"dataframe\">\n",
       "  <thead>\n",
       "    <tr style=\"text-align: right;\">\n",
       "      <th></th>\n",
       "      <th>dt</th>\n",
       "      <th>temp</th>\n",
       "      <th>feels_like</th>\n",
       "      <th>pressure</th>\n",
       "      <th>humidity</th>\n",
       "      <th>dew_point</th>\n",
       "      <th>uvi</th>\n",
       "      <th>clouds</th>\n",
       "      <th>visibility</th>\n",
       "      <th>wind_speed</th>\n",
       "      <th>wind_deg</th>\n",
       "      <th>wind_gust</th>\n",
       "      <th>weather</th>\n",
       "      <th>pop</th>\n",
       "      <th>rain</th>\n",
       "    </tr>\n",
       "  </thead>\n",
       "  <tbody>\n",
       "    <tr>\n",
       "      <th>0</th>\n",
       "      <td>1632978000</td>\n",
       "      <td>32.89</td>\n",
       "      <td>39.89</td>\n",
       "      <td>1008</td>\n",
       "      <td>70</td>\n",
       "      <td>26.69</td>\n",
       "      <td>9.69</td>\n",
       "      <td>11</td>\n",
       "      <td>10000</td>\n",
       "      <td>3.51</td>\n",
       "      <td>212</td>\n",
       "      <td>3.20</td>\n",
       "      <td>[{'id': 801, 'main': 'Clouds', 'description': ...</td>\n",
       "      <td>0.11</td>\n",
       "      <td>NaN</td>\n",
       "    </tr>\n",
       "    <tr>\n",
       "      <th>1</th>\n",
       "      <td>1632981600</td>\n",
       "      <td>32.45</td>\n",
       "      <td>39.45</td>\n",
       "      <td>1008</td>\n",
       "      <td>69</td>\n",
       "      <td>26.02</td>\n",
       "      <td>7.90</td>\n",
       "      <td>12</td>\n",
       "      <td>10000</td>\n",
       "      <td>4.12</td>\n",
       "      <td>213</td>\n",
       "      <td>3.37</td>\n",
       "      <td>[{'id': 801, 'main': 'Clouds', 'description': ...</td>\n",
       "      <td>0.11</td>\n",
       "      <td>NaN</td>\n",
       "    </tr>\n",
       "    <tr>\n",
       "      <th>2</th>\n",
       "      <td>1632985200</td>\n",
       "      <td>31.97</td>\n",
       "      <td>38.97</td>\n",
       "      <td>1008</td>\n",
       "      <td>69</td>\n",
       "      <td>25.57</td>\n",
       "      <td>5.19</td>\n",
       "      <td>21</td>\n",
       "      <td>10000</td>\n",
       "      <td>4.50</td>\n",
       "      <td>208</td>\n",
       "      <td>4.04</td>\n",
       "      <td>[{'id': 801, 'main': 'Clouds', 'description': ...</td>\n",
       "      <td>0.08</td>\n",
       "      <td>NaN</td>\n",
       "    </tr>\n",
       "    <tr>\n",
       "      <th>3</th>\n",
       "      <td>1632988800</td>\n",
       "      <td>31.37</td>\n",
       "      <td>38.37</td>\n",
       "      <td>1007</td>\n",
       "      <td>70</td>\n",
       "      <td>25.24</td>\n",
       "      <td>2.53</td>\n",
       "      <td>25</td>\n",
       "      <td>10000</td>\n",
       "      <td>4.45</td>\n",
       "      <td>203</td>\n",
       "      <td>4.36</td>\n",
       "      <td>[{'id': 802, 'main': 'Clouds', 'description': ...</td>\n",
       "      <td>0.04</td>\n",
       "      <td>NaN</td>\n",
       "    </tr>\n",
       "    <tr>\n",
       "      <th>4</th>\n",
       "      <td>1632992400</td>\n",
       "      <td>30.66</td>\n",
       "      <td>37.27</td>\n",
       "      <td>1006</td>\n",
       "      <td>72</td>\n",
       "      <td>25.03</td>\n",
       "      <td>0.78</td>\n",
       "      <td>26</td>\n",
       "      <td>10000</td>\n",
       "      <td>4.18</td>\n",
       "      <td>204</td>\n",
       "      <td>4.27</td>\n",
       "      <td>[{'id': 802, 'main': 'Clouds', 'description': ...</td>\n",
       "      <td>0.08</td>\n",
       "      <td>NaN</td>\n",
       "    </tr>\n",
       "  </tbody>\n",
       "</table>\n",
       "</div>"
      ],
      "text/plain": [
       "           dt   temp  feels_like  pressure  humidity  dew_point   uvi  clouds  \\\n",
       "0  1632978000  32.89       39.89      1008        70      26.69  9.69      11   \n",
       "1  1632981600  32.45       39.45      1008        69      26.02  7.90      12   \n",
       "2  1632985200  31.97       38.97      1008        69      25.57  5.19      21   \n",
       "3  1632988800  31.37       38.37      1007        70      25.24  2.53      25   \n",
       "4  1632992400  30.66       37.27      1006        72      25.03  0.78      26   \n",
       "\n",
       "   visibility  wind_speed  wind_deg  wind_gust  \\\n",
       "0       10000        3.51       212       3.20   \n",
       "1       10000        4.12       213       3.37   \n",
       "2       10000        4.50       208       4.04   \n",
       "3       10000        4.45       203       4.36   \n",
       "4       10000        4.18       204       4.27   \n",
       "\n",
       "                                             weather   pop rain  \n",
       "0  [{'id': 801, 'main': 'Clouds', 'description': ...  0.11  NaN  \n",
       "1  [{'id': 801, 'main': 'Clouds', 'description': ...  0.11  NaN  \n",
       "2  [{'id': 801, 'main': 'Clouds', 'description': ...  0.08  NaN  \n",
       "3  [{'id': 802, 'main': 'Clouds', 'description': ...  0.04  NaN  \n",
       "4  [{'id': 802, 'main': 'Clouds', 'description': ...  0.08  NaN  "
      ]
     },
     "execution_count": 10,
     "metadata": {},
     "output_type": "execute_result"
    }
   ],
   "source": [
    "df_hourly.head()"
   ]
  },
  {
   "cell_type": "code",
   "execution_count": null,
   "metadata": {},
   "outputs": [],
   "source": []
  }
 ],
 "metadata": {
  "interpreter": {
   "hash": "c1b4cfe941b6d2466ad1fb5979e97da9cda8801728c8091b097ab734208fc00c"
  },
  "kernelspec": {
   "display_name": "Python 3.8.3 64-bit ('base': conda)",
   "name": "python3"
  },
  "language_info": {
   "codemirror_mode": {
    "name": "ipython",
    "version": 3
   },
   "file_extension": ".py",
   "mimetype": "text/x-python",
   "name": "python",
   "nbconvert_exporter": "python",
   "pygments_lexer": "ipython3",
   "version": "3.8.12"
  }
 },
 "nbformat": 4,
 "nbformat_minor": 2
}
