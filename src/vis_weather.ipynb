{
 "cells": [
  {
   "cell_type": "code",
   "execution_count": 1,
   "metadata": {
    "execution": {
     "iopub.execute_input": "2021-09-15T04:14:42.225199Z",
     "iopub.status.busy": "2021-09-15T04:14:42.224628Z",
     "iopub.status.idle": "2021-09-15T04:14:43.535040Z",
     "shell.execute_reply": "2021-09-15T04:14:43.534201Z"
    }
   },
   "outputs": [],
   "source": [
    "import json, yaml, requests\r\n",
    "from datetime import datetime\r\n",
    "from dateutil import tz\r\n",
    "import pandas as pd\r\n",
    "from PIL import Image\r\n",
    "from io import BytesIO\r\n",
    "import matplotlib.pyplot as plt\r\n",
    "import seaborn\r\n",
    "\r\n",
    "CONFIG_PATH = \"../config/config.yaml\""
   ]
  },
  {
   "cell_type": "code",
   "execution_count": 2,
   "metadata": {
    "execution": {
     "iopub.execute_input": "2021-09-15T04:14:43.538396Z",
     "iopub.status.busy": "2021-09-15T04:14:43.537678Z",
     "iopub.status.idle": "2021-09-15T04:14:43.546222Z",
     "shell.execute_reply": "2021-09-15T04:14:43.545687Z"
    }
   },
   "outputs": [],
   "source": [
    "with open('../newest_ts', 'r') as f:\r\n",
    "    newest_ts = f.read()\r\n",
    "\r\n",
    "data_path = f\"../data/data_{newest_ts}.json\"\r\n",
    "with open(data_path, 'r') as f:\r\n",
    "    data = json.load(f)\r\n",
    "\r\n",
    "with open(CONFIG_PATH, \"r\") as stream:\r\n",
    "    config = yaml.safe_load(stream)\r\n",
    "\r\n",
    "TIME_ZONE = config['time_zone']\r\n",
    "DATETIME_FORMAT = config['dt_format']"
   ]
  },
  {
   "cell_type": "code",
   "execution_count": 3,
   "metadata": {
    "execution": {
     "iopub.execute_input": "2021-09-15T04:14:43.552026Z",
     "iopub.status.busy": "2021-09-15T04:14:43.550416Z",
     "iopub.status.idle": "2021-09-15T04:14:43.555150Z",
     "shell.execute_reply": "2021-09-15T04:14:43.555780Z"
    }
   },
   "outputs": [
    {
     "name": "stdout",
     "output_type": "stream",
     "text": [
      "Recent query happens at 2021-09-15 12:14:35 (CST).\n"
     ]
    }
   ],
   "source": [
    "def ts2dt(ts, format=DATETIME_FORMAT):\r\n",
    "    dt = (datetime.utcfromtimestamp(int(ts))\r\n",
    "                    .replace(tzinfo=tz.tzutc())\r\n",
    "                    # .astimezone(tz.tzlocal())\r\n",
    "                    .astimezone(tz.gettz(TIME_ZONE)))\r\n",
    "    return dt.strftime(format), dt\r\n",
    "\r\n",
    "_, newest_dt = ts2dt(newest_ts)\r\n",
    "print(f\"Recent query happens at {newest_dt.strftime(DATETIME_FORMAT)} ({newest_dt.tzname()}).\")"
   ]
  },
  {
   "cell_type": "code",
   "execution_count": 4,
   "metadata": {
    "execution": {
     "iopub.execute_input": "2021-09-15T04:14:43.561785Z",
     "iopub.status.busy": "2021-09-15T04:14:43.560435Z",
     "iopub.status.idle": "2021-09-15T04:14:43.562335Z",
     "shell.execute_reply": "2021-09-15T04:14:43.562788Z"
    }
   },
   "outputs": [],
   "source": [
    "def degrees_to_cardinal(d):\r\n",
    "  dirs = ['N', 'NNE', 'NE', 'ENE', 'E', 'ESE', 'SE', 'SSE', 'S', 'SSW', 'SW', 'WSW', 'W', 'WNW', 'NW', 'NNW']\r\n",
    "  ix = int(round(d / (360. / len(dirs))))\r\n",
    "  return dirs[ix % len(dirs)]"
   ]
  },
  {
   "cell_type": "code",
   "execution_count": 5,
   "metadata": {
    "execution": {
     "iopub.execute_input": "2021-09-15T04:14:43.567177Z",
     "iopub.status.busy": "2021-09-15T04:14:43.565901Z",
     "iopub.status.idle": "2021-09-15T04:14:43.567726Z",
     "shell.execute_reply": "2021-09-15T04:14:43.568138Z"
    }
   },
   "outputs": [],
   "source": [
    "# data.keys()"
   ]
  },
  {
   "cell_type": "code",
   "execution_count": 6,
   "metadata": {
    "execution": {
     "iopub.execute_input": "2021-09-15T04:14:43.572422Z",
     "iopub.status.busy": "2021-09-15T04:14:43.571258Z",
     "iopub.status.idle": "2021-09-15T04:14:43.572964Z",
     "shell.execute_reply": "2021-09-15T04:14:43.573366Z"
    }
   },
   "outputs": [],
   "source": [
    "# data['current']"
   ]
  },
  {
   "cell_type": "code",
   "execution_count": 7,
   "metadata": {
    "execution": {
     "iopub.execute_input": "2021-09-15T04:14:43.592695Z",
     "iopub.status.busy": "2021-09-15T04:14:43.592190Z",
     "iopub.status.idle": "2021-09-15T04:14:44.000748Z",
     "shell.execute_reply": "2021-09-15T04:14:44.001471Z"
    }
   },
   "outputs": [
    {
     "data": {
      "image/png": "[encoded data removed]",
      "text/plain": [
       "<Figure size 216x216 with 1 Axes>"
      ]
     },
     "metadata": {
      "needs_background": "light"
     },
     "output_type": "display_data"
    },
    {
     "name": "stdout",
     "output_type": "stream",
     "text": [
      "Today, sun rises at 06:09 and sets at 18:27.\n",
      "Currently, the weather is Clouds (scattered clouds).\n",
      "The temperature is 33.59°C and it feels like 40.59°C.\n",
      "The UV index is 10.65, humidity is 65%.\n",
      "The pressure is 1011 hPa, percentage of cloud cover is 44%\n",
      "The wind comes from WSW direction with a speed 2.93 m/s.\n"
     ]
    }
   ],
   "source": [
    "current = data['current']\r\n",
    "\r\n",
    "fig, ax = plt.subplots(figsize=(3, 3))\r\n",
    "icon = requests.get(f\"http://openweathermap.org/img/wn/{current['weather'][0]['icon']}@2x.png\")\r\n",
    "im = Image.open(BytesIO(icon.content))\r\n",
    "plt.imshow(im)\r\n",
    "ax.set_axis_off()\r\n",
    "plt.show()\r\n",
    "\r\n",
    "print(f\"Today, sun rises at {ts2dt(current['sunrise'], '%H:%M')[0]} \\\r\n",
    "and sets at {ts2dt(current['sunset'], '%H:%M')[0]}.\\n\\\r\n",
    "Currently, the weather is {current['weather'][0]['main']} ({current['weather'][0]['description']}).\\n\\\r\n",
    "The temperature is {current['temp']}°C and it feels like {current['feels_like']}°C.\\n\\\r\n",
    "The UV index is {current['uvi']}, humidity is {current['humidity']}%.\\n\\\r\n",
    "The pressure is {current['pressure']} hPa, percentage of cloud cover is {current['clouds']}%\\n\\\r\n",
    "The wind comes from {degrees_to_cardinal(current['wind_deg'])} direction with a speed {current['wind_speed']} m/s.\")"
   ]
  },
  {
   "cell_type": "code",
   "execution_count": 8,
   "metadata": {
    "execution": {
     "iopub.execute_input": "2021-09-15T04:14:44.005147Z",
     "iopub.status.busy": "2021-09-15T04:14:44.003916Z",
     "iopub.status.idle": "2021-09-15T04:14:44.012523Z",
     "shell.execute_reply": "2021-09-15T04:14:44.013240Z"
    }
   },
   "outputs": [],
   "source": [
    "df_hourly = pd.DataFrame(data['hourly'])\r\n",
    "df_daily = pd.DataFrame(data['daily'])"
   ]
  },
  {
   "cell_type": "code",
   "execution_count": 9,
   "metadata": {
    "execution": {
     "iopub.execute_input": "2021-09-15T04:14:44.016799Z",
     "iopub.status.busy": "2021-09-15T04:14:44.015697Z",
     "iopub.status.idle": "2021-09-15T04:14:44.360690Z",
     "shell.execute_reply": "2021-09-15T04:14:44.360223Z"
    }
   },
   "outputs": [
    {
     "data": {
      "image/png": "[encoded data removed]",
      "text/plain": [
       "<Figure size 864x432 with 1 Axes>"
      ]
     },
     "metadata": {
      "needs_background": "light"
     },
     "output_type": "display_data"
    }
   ],
   "source": [
    "fig, ax = plt.subplots(figsize=(12, 6))\r\n",
    "plt.plot(df_hourly.temp, '.-', label='Temperature')\r\n",
    "plt.plot(df_hourly.feels_like, '.-', label='Feels Like')\r\n",
    "ax.set(title='Temperature in future 48 hours', xlabel='Time', ylabel='Temperature')\r\n",
    "ax.set_xticks(list(range(0, len(df_hourly), 2)))\r\n",
    "ax.set_xticklabels([ts2dt(ts, '%m-%d %H:%M')[0] for i, ts in enumerate(df_hourly.dt) if i%2==0], \r\n",
    "                   rotation=45, ha=\"right\")\r\n",
    "ax.locator_params(nbins=15, axis='y')\r\n",
    "plt.legend()\r\n",
    "plt.show()"
   ]
  },
  {
   "cell_type": "code",
   "execution_count": 10,
   "metadata": {
    "execution": {
     "iopub.execute_input": "2021-09-15T04:14:44.373308Z",
     "iopub.status.busy": "2021-09-15T04:14:44.364713Z",
     "iopub.status.idle": "2021-09-15T04:14:44.384433Z",
     "shell.execute_reply": "2021-09-15T04:14:44.384832Z"
    }
   },
   "outputs": [
    {
     "data": {
      "text/html": [
       "<div>\n",
       "<style scoped>\n",
       "    .dataframe tbody tr th:only-of-type {\n",
       "        vertical-align: middle;\n",
       "    }\n",
       "\n",
       "    .dataframe tbody tr th {\n",
       "        vertical-align: top;\n",
       "    }\n",
       "\n",
       "    .dataframe thead th {\n",
       "        text-align: right;\n",
       "    }\n",
       "</style>\n",
       "<table border=\"1\" class=\"dataframe\">\n",
       "  <thead>\n",
       "    <tr style=\"text-align: right;\">\n",
       "      <th></th>\n",
       "      <th>dt</th>\n",
       "      <th>temp</th>\n",
       "      <th>feels_like</th>\n",
       "      <th>pressure</th>\n",
       "      <th>humidity</th>\n",
       "      <th>dew_point</th>\n",
       "      <th>uvi</th>\n",
       "      <th>clouds</th>\n",
       "      <th>visibility</th>\n",
       "      <th>wind_speed</th>\n",
       "      <th>wind_deg</th>\n",
       "      <th>wind_gust</th>\n",
       "      <th>weather</th>\n",
       "      <th>pop</th>\n",
       "      <th>rain</th>\n",
       "    </tr>\n",
       "  </thead>\n",
       "  <tbody>\n",
       "    <tr>\n",
       "      <th>0</th>\n",
       "      <td>1631678400</td>\n",
       "      <td>33.59</td>\n",
       "      <td>40.59</td>\n",
       "      <td>1011</td>\n",
       "      <td>65</td>\n",
       "      <td>26.10</td>\n",
       "      <td>10.65</td>\n",
       "      <td>44</td>\n",
       "      <td>10000</td>\n",
       "      <td>2.93</td>\n",
       "      <td>253</td>\n",
       "      <td>3.02</td>\n",
       "      <td>[{'id': 802, 'main': 'Clouds', 'description': ...</td>\n",
       "      <td>0.29</td>\n",
       "      <td>NaN</td>\n",
       "    </tr>\n",
       "    <tr>\n",
       "      <th>1</th>\n",
       "      <td>1631682000</td>\n",
       "      <td>33.17</td>\n",
       "      <td>40.17</td>\n",
       "      <td>1011</td>\n",
       "      <td>65</td>\n",
       "      <td>25.70</td>\n",
       "      <td>10.47</td>\n",
       "      <td>46</td>\n",
       "      <td>10000</td>\n",
       "      <td>3.80</td>\n",
       "      <td>246</td>\n",
       "      <td>3.76</td>\n",
       "      <td>[{'id': 802, 'main': 'Clouds', 'description': ...</td>\n",
       "      <td>0.33</td>\n",
       "      <td>NaN</td>\n",
       "    </tr>\n",
       "    <tr>\n",
       "      <th>2</th>\n",
       "      <td>1631685600</td>\n",
       "      <td>32.71</td>\n",
       "      <td>39.71</td>\n",
       "      <td>1011</td>\n",
       "      <td>65</td>\n",
       "      <td>25.26</td>\n",
       "      <td>8.61</td>\n",
       "      <td>51</td>\n",
       "      <td>10000</td>\n",
       "      <td>4.59</td>\n",
       "      <td>249</td>\n",
       "      <td>4.55</td>\n",
       "      <td>[{'id': 803, 'main': 'Clouds', 'description': ...</td>\n",
       "      <td>0.33</td>\n",
       "      <td>NaN</td>\n",
       "    </tr>\n",
       "    <tr>\n",
       "      <th>3</th>\n",
       "      <td>1631689200</td>\n",
       "      <td>32.08</td>\n",
       "      <td>39.08</td>\n",
       "      <td>1010</td>\n",
       "      <td>67</td>\n",
       "      <td>25.18</td>\n",
       "      <td>5.67</td>\n",
       "      <td>77</td>\n",
       "      <td>10000</td>\n",
       "      <td>4.94</td>\n",
       "      <td>252</td>\n",
       "      <td>5.16</td>\n",
       "      <td>[{'id': 803, 'main': 'Clouds', 'description': ...</td>\n",
       "      <td>0.12</td>\n",
       "      <td>NaN</td>\n",
       "    </tr>\n",
       "    <tr>\n",
       "      <th>4</th>\n",
       "      <td>1631692800</td>\n",
       "      <td>31.42</td>\n",
       "      <td>38.10</td>\n",
       "      <td>1009</td>\n",
       "      <td>68</td>\n",
       "      <td>24.80</td>\n",
       "      <td>2.88</td>\n",
       "      <td>79</td>\n",
       "      <td>10000</td>\n",
       "      <td>4.96</td>\n",
       "      <td>250</td>\n",
       "      <td>5.28</td>\n",
       "      <td>[{'id': 803, 'main': 'Clouds', 'description': ...</td>\n",
       "      <td>0.20</td>\n",
       "      <td>NaN</td>\n",
       "    </tr>\n",
       "  </tbody>\n",
       "</table>\n",
       "</div>"
      ],
      "text/plain": [
       "           dt   temp  feels_like  pressure  humidity  dew_point    uvi  \\\n",
       "0  1631678400  33.59       40.59      1011        65      26.10  10.65   \n",
       "1  1631682000  33.17       40.17      1011        65      25.70  10.47   \n",
       "2  1631685600  32.71       39.71      1011        65      25.26   8.61   \n",
       "3  1631689200  32.08       39.08      1010        67      25.18   5.67   \n",
       "4  1631692800  31.42       38.10      1009        68      24.80   2.88   \n",
       "\n",
       "   clouds  visibility  wind_speed  wind_deg  wind_gust  \\\n",
       "0      44       10000        2.93       253       3.02   \n",
       "1      46       10000        3.80       246       3.76   \n",
       "2      51       10000        4.59       249       4.55   \n",
       "3      77       10000        4.94       252       5.16   \n",
       "4      79       10000        4.96       250       5.28   \n",
       "\n",
       "                                             weather   pop rain  \n",
       "0  [{'id': 802, 'main': 'Clouds', 'description': ...  0.29  NaN  \n",
       "1  [{'id': 802, 'main': 'Clouds', 'description': ...  0.33  NaN  \n",
       "2  [{'id': 803, 'main': 'Clouds', 'description': ...  0.33  NaN  \n",
       "3  [{'id': 803, 'main': 'Clouds', 'description': ...  0.12  NaN  \n",
       "4  [{'id': 803, 'main': 'Clouds', 'description': ...  0.20  NaN  "
      ]
     },
     "execution_count": 10,
     "metadata": {},
     "output_type": "execute_result"
    }
   ],
   "source": [
    "df_hourly.head()"
   ]
  },
  {
   "cell_type": "code",
   "execution_count": null,
   "metadata": {},
   "outputs": [],
   "source": []
  }
 ],
 "metadata": {
  "interpreter": {
   "hash": "c1b4cfe941b6d2466ad1fb5979e97da9cda8801728c8091b097ab734208fc00c"
  },
  "kernelspec": {
   "display_name": "Python 3.8.3 64-bit ('base': conda)",
   "name": "python3"
  },
  "language_info": {
   "codemirror_mode": {
    "name": "ipython",
    "version": 3
   },
   "file_extension": ".py",
   "mimetype": "text/x-python",
   "name": "python",
   "nbconvert_exporter": "python",
   "pygments_lexer": "ipython3",
   "version": "3.8.11"
  }
 },
 "nbformat": 4,
 "nbformat_minor": 2
}
