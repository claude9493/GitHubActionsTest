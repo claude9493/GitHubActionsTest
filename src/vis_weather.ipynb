{
 "cells": [
  {
   "cell_type": "code",
   "execution_count": 1,
   "metadata": {
    "execution": {
     "iopub.execute_input": "2021-10-25T05:11:24.608162Z",
     "iopub.status.busy": "2021-10-25T05:11:24.607480Z",
     "iopub.status.idle": "2021-10-25T05:11:26.490428Z",
     "shell.execute_reply": "2021-10-25T05:11:26.489428Z"
    }
   },
   "outputs": [],
   "source": [
    "import json, yaml, requests\r\n",
    "from datetime import datetime\r\n",
    "from dateutil import tz\r\n",
    "import pandas as pd\r\n",
    "from PIL import Image\r\n",
    "from io import BytesIO\r\n",
    "import matplotlib.pyplot as plt\r\n",
    "import seaborn\r\n",
    "\r\n",
    "CONFIG_PATH = \"../config/config.yaml\""
   ]
  },
  {
   "cell_type": "code",
   "execution_count": 2,
   "metadata": {
    "execution": {
     "iopub.execute_input": "2021-10-25T05:11:26.496211Z",
     "iopub.status.busy": "2021-10-25T05:11:26.495569Z",
     "iopub.status.idle": "2021-10-25T05:11:26.501609Z",
     "shell.execute_reply": "2021-10-25T05:11:26.501022Z"
    }
   },
   "outputs": [],
   "source": [
    "with open('../newest_ts', 'r') as f:\r\n",
    "    newest_ts = f.read()\r\n",
    "\r\n",
    "data_path = f\"../data/data_{newest_ts}.json\"\r\n",
    "with open(data_path, 'r') as f:\r\n",
    "    data = json.load(f)\r\n",
    "\r\n",
    "with open(CONFIG_PATH, \"r\") as stream:\r\n",
    "    config = yaml.safe_load(stream)\r\n",
    "\r\n",
    "TIME_ZONE = config['time_zone']\r\n",
    "DATETIME_FORMAT = config['dt_format']"
   ]
  },
  {
   "cell_type": "code",
   "execution_count": 3,
   "metadata": {
    "execution": {
     "iopub.execute_input": "2021-10-25T05:11:26.507743Z",
     "iopub.status.busy": "2021-10-25T05:11:26.506475Z",
     "iopub.status.idle": "2021-10-25T05:11:26.518228Z",
     "shell.execute_reply": "2021-10-25T05:11:26.518845Z"
    }
   },
   "outputs": [
    {
     "name": "stdout",
     "output_type": "stream",
     "text": [
      "Recent query happens at 2021-10-25 13:11:20 (CST).\n"
     ]
    }
   ],
   "source": [
    "def ts2dt(ts, format=DATETIME_FORMAT):\r\n",
    "    dt = (datetime.utcfromtimestamp(int(ts))\r\n",
    "                    .replace(tzinfo=tz.tzutc())\r\n",
    "                    # .astimezone(tz.tzlocal())\r\n",
    "                    .astimezone(tz.gettz(TIME_ZONE)))\r\n",
    "    return dt.strftime(format), dt\r\n",
    "\r\n",
    "_, newest_dt = ts2dt(newest_ts)\r\n",
    "print(f\"Recent query happens at {newest_dt.strftime(DATETIME_FORMAT)} ({newest_dt.tzname()}).\")"
   ]
  },
  {
   "cell_type": "code",
   "execution_count": 4,
   "metadata": {
    "execution": {
     "iopub.execute_input": "2021-10-25T05:11:26.525021Z",
     "iopub.status.busy": "2021-10-25T05:11:26.523431Z",
     "iopub.status.idle": "2021-10-25T05:11:26.525688Z",
     "shell.execute_reply": "2021-10-25T05:11:26.526224Z"
    }
   },
   "outputs": [],
   "source": [
    "def degrees_to_cardinal(d):\r\n",
    "  dirs = ['N', 'NNE', 'NE', 'ENE', 'E', 'ESE', 'SE', 'SSE', 'S', 'SSW', 'SW', 'WSW', 'W', 'WNW', 'NW', 'NNW']\r\n",
    "  ix = int(round(d / (360. / len(dirs))))\r\n",
    "  return dirs[ix % len(dirs)]"
   ]
  },
  {
   "cell_type": "code",
   "execution_count": 5,
   "metadata": {
    "execution": {
     "iopub.execute_input": "2021-10-25T05:11:26.531980Z",
     "iopub.status.busy": "2021-10-25T05:11:26.530537Z",
     "iopub.status.idle": "2021-10-25T05:11:26.532647Z",
     "shell.execute_reply": "2021-10-25T05:11:26.533141Z"
    }
   },
   "outputs": [],
   "source": [
    "# data.keys()"
   ]
  },
  {
   "cell_type": "code",
   "execution_count": 6,
   "metadata": {
    "execution": {
     "iopub.execute_input": "2021-10-25T05:11:26.538198Z",
     "iopub.status.busy": "2021-10-25T05:11:26.536627Z",
     "iopub.status.idle": "2021-10-25T05:11:26.538885Z",
     "shell.execute_reply": "2021-10-25T05:11:26.539407Z"
    }
   },
   "outputs": [],
   "source": [
    "# data['current']"
   ]
  },
  {
   "cell_type": "code",
   "execution_count": 7,
   "metadata": {
    "execution": {
     "iopub.execute_input": "2021-10-25T05:11:26.562085Z",
     "iopub.status.busy": "2021-10-25T05:11:26.561475Z",
     "iopub.status.idle": "2021-10-25T05:11:26.997730Z",
     "shell.execute_reply": "2021-10-25T05:11:26.998663Z"
    }
   },
   "outputs": [
    {
     "data": {
      "image/png": "[encoded data removed]",
      "text/plain": [
       "<Figure size 216x216 with 1 Axes>"
      ]
     },
     "metadata": {
      "needs_background": "light"
     },
     "output_type": "display_data"
    },
    {
     "name": "stdout",
     "output_type": "stream",
     "text": [
      "Today, sun rises at 06:23 and sets at 17:50.\n",
      "Currently, the weather is Clouds (broken clouds).\n",
      "The temperature is 24.85°C and it feels like 25.22°C.\n",
      "The UV index is 7.2, humidity is 70%.\n",
      "The pressure is 1005 hPa, percentage of cloud cover is 70%\n",
      "The wind comes from WNW direction with a speed 4.47 m/s.\n"
     ]
    }
   ],
   "source": [
    "current = data['current']\r\n",
    "\r\n",
    "fig, ax = plt.subplots(figsize=(3, 3))\r\n",
    "icon = requests.get(f\"http://openweathermap.org/img/wn/{current['weather'][0]['icon']}@2x.png\")\r\n",
    "im = Image.open(BytesIO(icon.content))\r\n",
    "plt.imshow(im)\r\n",
    "ax.set_axis_off()\r\n",
    "plt.show()\r\n",
    "\r\n",
    "print(f\"Today, sun rises at {ts2dt(current['sunrise'], '%H:%M')[0]} \\\r\n",
    "and sets at {ts2dt(current['sunset'], '%H:%M')[0]}.\\n\\\r\n",
    "Currently, the weather is {current['weather'][0]['main']} ({current['weather'][0]['description']}).\\n\\\r\n",
    "The temperature is {current['temp']}°C and it feels like {current['feels_like']}°C.\\n\\\r\n",
    "The UV index is {current['uvi']}, humidity is {current['humidity']}%.\\n\\\r\n",
    "The pressure is {current['pressure']} hPa, percentage of cloud cover is {current['clouds']}%\\n\\\r\n",
    "The wind comes from {degrees_to_cardinal(current['wind_deg'])} direction with a speed {current['wind_speed']} m/s.\")"
   ]
  },
  {
   "cell_type": "code",
   "execution_count": 8,
   "metadata": {
    "execution": {
     "iopub.execute_input": "2021-10-25T05:11:27.002070Z",
     "iopub.status.busy": "2021-10-25T05:11:27.001496Z",
     "iopub.status.idle": "2021-10-25T05:11:27.009870Z",
     "shell.execute_reply": "2021-10-25T05:11:27.010622Z"
    }
   },
   "outputs": [],
   "source": [
    "df_hourly = pd.DataFrame(data['hourly'])\r\n",
    "df_daily = pd.DataFrame(data['daily'])"
   ]
  },
  {
   "cell_type": "code",
   "execution_count": 9,
   "metadata": {
    "execution": {
     "iopub.execute_input": "2021-10-25T05:11:27.027843Z",
     "iopub.status.busy": "2021-10-25T05:11:27.017500Z",
     "iopub.status.idle": "2021-10-25T05:11:27.494225Z",
     "shell.execute_reply": "2021-10-25T05:11:27.493315Z"
    }
   },
   "outputs": [
    {
     "data": {
      "image/png": "[encoded data removed]",
      "text/plain": [
       "<Figure size 864x432 with 1 Axes>"
      ]
     },
     "metadata": {
      "needs_background": "light"
     },
     "output_type": "display_data"
    }
   ],
   "source": [
    "fig, ax = plt.subplots(figsize=(12, 6))\r\n",
    "plt.plot(df_hourly.temp, '.-', label='Temperature')\r\n",
    "plt.plot(df_hourly.feels_like, '.-', label='Feels Like')\r\n",
    "ax.set(title='Temperature in future 48 hours', xlabel='Time', ylabel='Temperature')\r\n",
    "ax.set_xticks(list(range(0, len(df_hourly), 2)))\r\n",
    "ax.set_xticklabels([ts2dt(ts, '%m-%d %H:%M')[0] for i, ts in enumerate(df_hourly.dt) if i%2==0], \r\n",
    "                   rotation=45, ha=\"right\")\r\n",
    "ax.locator_params(nbins=15, axis='y')\r\n",
    "plt.legend()\r\n",
    "plt.show()"
   ]
  },
  {
   "cell_type": "code",
   "execution_count": 10,
   "metadata": {
    "execution": {
     "iopub.execute_input": "2021-10-25T05:11:27.499397Z",
     "iopub.status.busy": "2021-10-25T05:11:27.498764Z",
     "iopub.status.idle": "2021-10-25T05:11:27.520548Z",
     "shell.execute_reply": "2021-10-25T05:11:27.521186Z"
    }
   },
   "outputs": [
    {
     "data": {
      "text/html": [
       "<div>\n",
       "<style scoped>\n",
       "    .dataframe tbody tr th:only-of-type {\n",
       "        vertical-align: middle;\n",
       "    }\n",
       "\n",
       "    .dataframe tbody tr th {\n",
       "        vertical-align: top;\n",
       "    }\n",
       "\n",
       "    .dataframe thead th {\n",
       "        text-align: right;\n",
       "    }\n",
       "</style>\n",
       "<table border=\"1\" class=\"dataframe\">\n",
       "  <thead>\n",
       "    <tr style=\"text-align: right;\">\n",
       "      <th></th>\n",
       "      <th>dt</th>\n",
       "      <th>temp</th>\n",
       "      <th>feels_like</th>\n",
       "      <th>pressure</th>\n",
       "      <th>humidity</th>\n",
       "      <th>dew_point</th>\n",
       "      <th>uvi</th>\n",
       "      <th>clouds</th>\n",
       "      <th>visibility</th>\n",
       "      <th>wind_speed</th>\n",
       "      <th>wind_deg</th>\n",
       "      <th>wind_gust</th>\n",
       "      <th>weather</th>\n",
       "      <th>pop</th>\n",
       "    </tr>\n",
       "  </thead>\n",
       "  <tbody>\n",
       "    <tr>\n",
       "      <th>0</th>\n",
       "      <td>1635138000</td>\n",
       "      <td>24.85</td>\n",
       "      <td>25.22</td>\n",
       "      <td>1005</td>\n",
       "      <td>70</td>\n",
       "      <td>19.01</td>\n",
       "      <td>7.20</td>\n",
       "      <td>70</td>\n",
       "      <td>10000</td>\n",
       "      <td>3.28</td>\n",
       "      <td>58</td>\n",
       "      <td>4.05</td>\n",
       "      <td>[{'id': 803, 'main': 'Clouds', 'description': ...</td>\n",
       "      <td>0.0</td>\n",
       "    </tr>\n",
       "    <tr>\n",
       "      <th>1</th>\n",
       "      <td>1635141600</td>\n",
       "      <td>24.71</td>\n",
       "      <td>24.99</td>\n",
       "      <td>1007</td>\n",
       "      <td>67</td>\n",
       "      <td>18.17</td>\n",
       "      <td>5.78</td>\n",
       "      <td>68</td>\n",
       "      <td>10000</td>\n",
       "      <td>3.34</td>\n",
       "      <td>64</td>\n",
       "      <td>3.96</td>\n",
       "      <td>[{'id': 803, 'main': 'Clouds', 'description': ...</td>\n",
       "      <td>0.0</td>\n",
       "    </tr>\n",
       "    <tr>\n",
       "      <th>2</th>\n",
       "      <td>1635145200</td>\n",
       "      <td>24.59</td>\n",
       "      <td>24.80</td>\n",
       "      <td>1009</td>\n",
       "      <td>65</td>\n",
       "      <td>17.58</td>\n",
       "      <td>3.60</td>\n",
       "      <td>52</td>\n",
       "      <td>10000</td>\n",
       "      <td>3.41</td>\n",
       "      <td>64</td>\n",
       "      <td>3.99</td>\n",
       "      <td>[{'id': 803, 'main': 'Clouds', 'description': ...</td>\n",
       "      <td>0.0</td>\n",
       "    </tr>\n",
       "    <tr>\n",
       "      <th>3</th>\n",
       "      <td>1635148800</td>\n",
       "      <td>24.52</td>\n",
       "      <td>24.70</td>\n",
       "      <td>1010</td>\n",
       "      <td>64</td>\n",
       "      <td>17.27</td>\n",
       "      <td>1.65</td>\n",
       "      <td>41</td>\n",
       "      <td>10000</td>\n",
       "      <td>3.77</td>\n",
       "      <td>60</td>\n",
       "      <td>4.16</td>\n",
       "      <td>[{'id': 802, 'main': 'Clouds', 'description': ...</td>\n",
       "      <td>0.0</td>\n",
       "    </tr>\n",
       "    <tr>\n",
       "      <th>4</th>\n",
       "      <td>1635152400</td>\n",
       "      <td>24.30</td>\n",
       "      <td>24.43</td>\n",
       "      <td>1013</td>\n",
       "      <td>63</td>\n",
       "      <td>16.81</td>\n",
       "      <td>0.44</td>\n",
       "      <td>28</td>\n",
       "      <td>10000</td>\n",
       "      <td>3.95</td>\n",
       "      <td>57</td>\n",
       "      <td>4.52</td>\n",
       "      <td>[{'id': 802, 'main': 'Clouds', 'description': ...</td>\n",
       "      <td>0.0</td>\n",
       "    </tr>\n",
       "  </tbody>\n",
       "</table>\n",
       "</div>"
      ],
      "text/plain": [
       "           dt   temp  feels_like  pressure  humidity  dew_point   uvi  clouds  \\\n",
       "0  1635138000  24.85       25.22      1005        70      19.01  7.20      70   \n",
       "1  1635141600  24.71       24.99      1007        67      18.17  5.78      68   \n",
       "2  1635145200  24.59       24.80      1009        65      17.58  3.60      52   \n",
       "3  1635148800  24.52       24.70      1010        64      17.27  1.65      41   \n",
       "4  1635152400  24.30       24.43      1013        63      16.81  0.44      28   \n",
       "\n",
       "   visibility  wind_speed  wind_deg  wind_gust  \\\n",
       "0       10000        3.28        58       4.05   \n",
       "1       10000        3.34        64       3.96   \n",
       "2       10000        3.41        64       3.99   \n",
       "3       10000        3.77        60       4.16   \n",
       "4       10000        3.95        57       4.52   \n",
       "\n",
       "                                             weather  pop  \n",
       "0  [{'id': 803, 'main': 'Clouds', 'description': ...  0.0  \n",
       "1  [{'id': 803, 'main': 'Clouds', 'description': ...  0.0  \n",
       "2  [{'id': 803, 'main': 'Clouds', 'description': ...  0.0  \n",
       "3  [{'id': 802, 'main': 'Clouds', 'description': ...  0.0  \n",
       "4  [{'id': 802, 'main': 'Clouds', 'description': ...  0.0  "
      ]
     },
     "execution_count": 10,
     "metadata": {},
     "output_type": "execute_result"
    }
   ],
   "source": [
    "df_hourly.head()"
   ]
  },
  {
   "cell_type": "code",
   "execution_count": null,
   "metadata": {},
   "outputs": [],
   "source": []
  }
 ],
 "metadata": {
  "interpreter": {
   "hash": "c1b4cfe941b6d2466ad1fb5979e97da9cda8801728c8091b097ab734208fc00c"
  },
  "kernelspec": {
   "display_name": "Python 3.8.3 64-bit ('base': conda)",
   "name": "python3"
  },
  "language_info": {
   "codemirror_mode": {
    "name": "ipython",
    "version": 3
   },
   "file_extension": ".py",
   "mimetype": "text/x-python",
   "name": "python",
   "nbconvert_exporter": "python",
   "pygments_lexer": "ipython3",
   "version": "3.8.12"
  }
 },
 "nbformat": 4,
 "nbformat_minor": 2
}
