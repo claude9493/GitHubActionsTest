{
 "cells": [
  {
   "cell_type": "code",
   "execution_count": 1,
   "metadata": {
    "execution": {
     "iopub.execute_input": "2021-10-10T23:11:58.035399Z",
     "iopub.status.busy": "2021-10-10T23:11:58.034437Z",
     "iopub.status.idle": "2021-10-10T23:11:59.648027Z",
     "shell.execute_reply": "2021-10-10T23:11:59.647369Z"
    }
   },
   "outputs": [],
   "source": [
    "import json, yaml, requests\r\n",
    "from datetime import datetime\r\n",
    "from dateutil import tz\r\n",
    "import pandas as pd\r\n",
    "from PIL import Image\r\n",
    "from io import BytesIO\r\n",
    "import matplotlib.pyplot as plt\r\n",
    "import seaborn\r\n",
    "\r\n",
    "CONFIG_PATH = \"../config/config.yaml\""
   ]
  },
  {
   "cell_type": "code",
   "execution_count": 2,
   "metadata": {
    "execution": {
     "iopub.execute_input": "2021-10-10T23:11:59.653933Z",
     "iopub.status.busy": "2021-10-10T23:11:59.653138Z",
     "iopub.status.idle": "2021-10-10T23:11:59.660234Z",
     "shell.execute_reply": "2021-10-10T23:11:59.660761Z"
    }
   },
   "outputs": [],
   "source": [
    "with open('../newest_ts', 'r') as f:\r\n",
    "    newest_ts = f.read()\r\n",
    "\r\n",
    "data_path = f\"../data/data_{newest_ts}.json\"\r\n",
    "with open(data_path, 'r') as f:\r\n",
    "    data = json.load(f)\r\n",
    "\r\n",
    "with open(CONFIG_PATH, \"r\") as stream:\r\n",
    "    config = yaml.safe_load(stream)\r\n",
    "\r\n",
    "TIME_ZONE = config['time_zone']\r\n",
    "DATETIME_FORMAT = config['dt_format']"
   ]
  },
  {
   "cell_type": "code",
   "execution_count": 3,
   "metadata": {
    "execution": {
     "iopub.execute_input": "2021-10-10T23:11:59.666388Z",
     "iopub.status.busy": "2021-10-10T23:11:59.665633Z",
     "iopub.status.idle": "2021-10-10T23:11:59.694961Z",
     "shell.execute_reply": "2021-10-10T23:11:59.695456Z"
    }
   },
   "outputs": [
    {
     "name": "stdout",
     "output_type": "stream",
     "text": [
      "Recent query happens at 2021-10-11 07:11:54 (CST).\n"
     ]
    }
   ],
   "source": [
    "def ts2dt(ts, format=DATETIME_FORMAT):\r\n",
    "    dt = (datetime.utcfromtimestamp(int(ts))\r\n",
    "                    .replace(tzinfo=tz.tzutc())\r\n",
    "                    # .astimezone(tz.tzlocal())\r\n",
    "                    .astimezone(tz.gettz(TIME_ZONE)))\r\n",
    "    return dt.strftime(format), dt\r\n",
    "\r\n",
    "_, newest_dt = ts2dt(newest_ts)\r\n",
    "print(f\"Recent query happens at {newest_dt.strftime(DATETIME_FORMAT)} ({newest_dt.tzname()}).\")"
   ]
  },
  {
   "cell_type": "code",
   "execution_count": 4,
   "metadata": {
    "execution": {
     "iopub.execute_input": "2021-10-10T23:11:59.702250Z",
     "iopub.status.busy": "2021-10-10T23:11:59.700795Z",
     "iopub.status.idle": "2021-10-10T23:11:59.702952Z",
     "shell.execute_reply": "2021-10-10T23:11:59.703462Z"
    }
   },
   "outputs": [],
   "source": [
    "def degrees_to_cardinal(d):\r\n",
    "  dirs = ['N', 'NNE', 'NE', 'ENE', 'E', 'ESE', 'SE', 'SSE', 'S', 'SSW', 'SW', 'WSW', 'W', 'WNW', 'NW', 'NNW']\r\n",
    "  ix = int(round(d / (360. / len(dirs))))\r\n",
    "  return dirs[ix % len(dirs)]"
   ]
  },
  {
   "cell_type": "code",
   "execution_count": 5,
   "metadata": {
    "execution": {
     "iopub.execute_input": "2021-10-10T23:11:59.709370Z",
     "iopub.status.busy": "2021-10-10T23:11:59.707533Z",
     "iopub.status.idle": "2021-10-10T23:11:59.710084Z",
     "shell.execute_reply": "2021-10-10T23:11:59.710637Z"
    }
   },
   "outputs": [],
   "source": [
    "# data.keys()"
   ]
  },
  {
   "cell_type": "code",
   "execution_count": 6,
   "metadata": {
    "execution": {
     "iopub.execute_input": "2021-10-10T23:11:59.715211Z",
     "iopub.status.busy": "2021-10-10T23:11:59.714518Z",
     "iopub.status.idle": "2021-10-10T23:11:59.719621Z",
     "shell.execute_reply": "2021-10-10T23:11:59.720091Z"
    }
   },
   "outputs": [],
   "source": [
    "# data['current']"
   ]
  },
  {
   "cell_type": "code",
   "execution_count": 7,
   "metadata": {
    "execution": {
     "iopub.execute_input": "2021-10-10T23:11:59.742972Z",
     "iopub.status.busy": "2021-10-10T23:11:59.742398Z",
     "iopub.status.idle": "2021-10-10T23:12:00.348126Z",
     "shell.execute_reply": "2021-10-10T23:12:00.349109Z"
    }
   },
   "outputs": [
    {
     "data": {
      "image/png": "[encoded data removed]",
      "text/plain": [
       "<Figure size 216x216 with 1 Axes>"
      ]
     },
     "metadata": {
      "needs_background": "light"
     },
     "output_type": "display_data"
    },
    {
     "name": "stdout",
     "output_type": "stream",
     "text": [
      "Today, sun rises at 06:17 and sets at 18:01.\n",
      "Currently, the weather is Clouds (overcast clouds).\n",
      "The temperature is 26.97°C and it feels like 29.86°C.\n",
      "The UV index is 0.11, humidity is 82%.\n",
      "The pressure is 1007 hPa, percentage of cloud cover is 88%\n",
      "The wind comes from WSW direction with a speed 0.45 m/s.\n"
     ]
    }
   ],
   "source": [
    "current = data['current']\r\n",
    "\r\n",
    "fig, ax = plt.subplots(figsize=(3, 3))\r\n",
    "icon = requests.get(f\"http://openweathermap.org/img/wn/{current['weather'][0]['icon']}@2x.png\")\r\n",
    "im = Image.open(BytesIO(icon.content))\r\n",
    "plt.imshow(im)\r\n",
    "ax.set_axis_off()\r\n",
    "plt.show()\r\n",
    "\r\n",
    "print(f\"Today, sun rises at {ts2dt(current['sunrise'], '%H:%M')[0]} \\\r\n",
    "and sets at {ts2dt(current['sunset'], '%H:%M')[0]}.\\n\\\r\n",
    "Currently, the weather is {current['weather'][0]['main']} ({current['weather'][0]['description']}).\\n\\\r\n",
    "The temperature is {current['temp']}°C and it feels like {current['feels_like']}°C.\\n\\\r\n",
    "The UV index is {current['uvi']}, humidity is {current['humidity']}%.\\n\\\r\n",
    "The pressure is {current['pressure']} hPa, percentage of cloud cover is {current['clouds']}%\\n\\\r\n",
    "The wind comes from {degrees_to_cardinal(current['wind_deg'])} direction with a speed {current['wind_speed']} m/s.\")"
   ]
  },
  {
   "cell_type": "code",
   "execution_count": 8,
   "metadata": {
    "execution": {
     "iopub.execute_input": "2021-10-10T23:12:00.353345Z",
     "iopub.status.busy": "2021-10-10T23:12:00.352066Z",
     "iopub.status.idle": "2021-10-10T23:12:00.361774Z",
     "shell.execute_reply": "2021-10-10T23:12:00.362607Z"
    }
   },
   "outputs": [],
   "source": [
    "df_hourly = pd.DataFrame(data['hourly'])\r\n",
    "df_daily = pd.DataFrame(data['daily'])"
   ]
  },
  {
   "cell_type": "code",
   "execution_count": 9,
   "metadata": {
    "execution": {
     "iopub.execute_input": "2021-10-10T23:12:00.366867Z",
     "iopub.status.busy": "2021-10-10T23:12:00.365581Z",
     "iopub.status.idle": "2021-10-10T23:12:00.705946Z",
     "shell.execute_reply": "2021-10-10T23:12:00.706496Z"
    }
   },
   "outputs": [
    {
     "data": {
      "image/png": "[encoded data removed]",
      "text/plain": [
       "<Figure size 864x432 with 1 Axes>"
      ]
     },
     "metadata": {
      "needs_background": "light"
     },
     "output_type": "display_data"
    }
   ],
   "source": [
    "fig, ax = plt.subplots(figsize=(12, 6))\r\n",
    "plt.plot(df_hourly.temp, '.-', label='Temperature')\r\n",
    "plt.plot(df_hourly.feels_like, '.-', label='Feels Like')\r\n",
    "ax.set(title='Temperature in future 48 hours', xlabel='Time', ylabel='Temperature')\r\n",
    "ax.set_xticks(list(range(0, len(df_hourly), 2)))\r\n",
    "ax.set_xticklabels([ts2dt(ts, '%m-%d %H:%M')[0] for i, ts in enumerate(df_hourly.dt) if i%2==0], \r\n",
    "                   rotation=45, ha=\"right\")\r\n",
    "ax.locator_params(nbins=15, axis='y')\r\n",
    "plt.legend()\r\n",
    "plt.show()"
   ]
  },
  {
   "cell_type": "code",
   "execution_count": 10,
   "metadata": {
    "execution": {
     "iopub.execute_input": "2021-10-10T23:12:00.712194Z",
     "iopub.status.busy": "2021-10-10T23:12:00.711485Z",
     "iopub.status.idle": "2021-10-10T23:12:00.736786Z",
     "shell.execute_reply": "2021-10-10T23:12:00.737329Z"
    }
   },
   "outputs": [
    {
     "data": {
      "text/html": [
       "<div>\n",
       "<style scoped>\n",
       "    .dataframe tbody tr th:only-of-type {\n",
       "        vertical-align: middle;\n",
       "    }\n",
       "\n",
       "    .dataframe tbody tr th {\n",
       "        vertical-align: top;\n",
       "    }\n",
       "\n",
       "    .dataframe thead th {\n",
       "        text-align: right;\n",
       "    }\n",
       "</style>\n",
       "<table border=\"1\" class=\"dataframe\">\n",
       "  <thead>\n",
       "    <tr style=\"text-align: right;\">\n",
       "      <th></th>\n",
       "      <th>dt</th>\n",
       "      <th>temp</th>\n",
       "      <th>feels_like</th>\n",
       "      <th>pressure</th>\n",
       "      <th>humidity</th>\n",
       "      <th>dew_point</th>\n",
       "      <th>uvi</th>\n",
       "      <th>clouds</th>\n",
       "      <th>visibility</th>\n",
       "      <th>wind_speed</th>\n",
       "      <th>wind_deg</th>\n",
       "      <th>wind_gust</th>\n",
       "      <th>weather</th>\n",
       "      <th>pop</th>\n",
       "      <th>rain</th>\n",
       "    </tr>\n",
       "  </thead>\n",
       "  <tbody>\n",
       "    <tr>\n",
       "      <th>0</th>\n",
       "      <td>1633906800</td>\n",
       "      <td>26.97</td>\n",
       "      <td>29.86</td>\n",
       "      <td>1007</td>\n",
       "      <td>82</td>\n",
       "      <td>23.63</td>\n",
       "      <td>0.11</td>\n",
       "      <td>88</td>\n",
       "      <td>10000</td>\n",
       "      <td>7.07</td>\n",
       "      <td>1</td>\n",
       "      <td>11.78</td>\n",
       "      <td>[{'id': 804, 'main': 'Clouds', 'description': ...</td>\n",
       "      <td>0.0</td>\n",
       "      <td>NaN</td>\n",
       "    </tr>\n",
       "    <tr>\n",
       "      <th>1</th>\n",
       "      <td>1633910400</td>\n",
       "      <td>26.91</td>\n",
       "      <td>29.54</td>\n",
       "      <td>1007</td>\n",
       "      <td>80</td>\n",
       "      <td>23.17</td>\n",
       "      <td>0.86</td>\n",
       "      <td>87</td>\n",
       "      <td>10000</td>\n",
       "      <td>8.01</td>\n",
       "      <td>4</td>\n",
       "      <td>11.98</td>\n",
       "      <td>[{'id': 804, 'main': 'Clouds', 'description': ...</td>\n",
       "      <td>0.0</td>\n",
       "      <td>NaN</td>\n",
       "    </tr>\n",
       "    <tr>\n",
       "      <th>2</th>\n",
       "      <td>1633914000</td>\n",
       "      <td>27.01</td>\n",
       "      <td>29.58</td>\n",
       "      <td>1007</td>\n",
       "      <td>78</td>\n",
       "      <td>22.84</td>\n",
       "      <td>2.57</td>\n",
       "      <td>72</td>\n",
       "      <td>10000</td>\n",
       "      <td>8.09</td>\n",
       "      <td>5</td>\n",
       "      <td>11.48</td>\n",
       "      <td>[{'id': 803, 'main': 'Clouds', 'description': ...</td>\n",
       "      <td>0.0</td>\n",
       "      <td>NaN</td>\n",
       "    </tr>\n",
       "    <tr>\n",
       "      <th>3</th>\n",
       "      <td>1633917600</td>\n",
       "      <td>27.29</td>\n",
       "      <td>29.75</td>\n",
       "      <td>1008</td>\n",
       "      <td>74</td>\n",
       "      <td>22.25</td>\n",
       "      <td>5.06</td>\n",
       "      <td>78</td>\n",
       "      <td>10000</td>\n",
       "      <td>8.28</td>\n",
       "      <td>11</td>\n",
       "      <td>10.95</td>\n",
       "      <td>[{'id': 803, 'main': 'Clouds', 'description': ...</td>\n",
       "      <td>0.0</td>\n",
       "      <td>NaN</td>\n",
       "    </tr>\n",
       "    <tr>\n",
       "      <th>4</th>\n",
       "      <td>1633921200</td>\n",
       "      <td>27.81</td>\n",
       "      <td>30.30</td>\n",
       "      <td>1008</td>\n",
       "      <td>70</td>\n",
       "      <td>21.84</td>\n",
       "      <td>7.47</td>\n",
       "      <td>82</td>\n",
       "      <td>10000</td>\n",
       "      <td>8.33</td>\n",
       "      <td>7</td>\n",
       "      <td>10.47</td>\n",
       "      <td>[{'id': 803, 'main': 'Clouds', 'description': ...</td>\n",
       "      <td>0.0</td>\n",
       "      <td>NaN</td>\n",
       "    </tr>\n",
       "  </tbody>\n",
       "</table>\n",
       "</div>"
      ],
      "text/plain": [
       "           dt   temp  feels_like  pressure  humidity  dew_point   uvi  clouds  \\\n",
       "0  1633906800  26.97       29.86      1007        82      23.63  0.11      88   \n",
       "1  1633910400  26.91       29.54      1007        80      23.17  0.86      87   \n",
       "2  1633914000  27.01       29.58      1007        78      22.84  2.57      72   \n",
       "3  1633917600  27.29       29.75      1008        74      22.25  5.06      78   \n",
       "4  1633921200  27.81       30.30      1008        70      21.84  7.47      82   \n",
       "\n",
       "   visibility  wind_speed  wind_deg  wind_gust  \\\n",
       "0       10000        7.07         1      11.78   \n",
       "1       10000        8.01         4      11.98   \n",
       "2       10000        8.09         5      11.48   \n",
       "3       10000        8.28        11      10.95   \n",
       "4       10000        8.33         7      10.47   \n",
       "\n",
       "                                             weather  pop rain  \n",
       "0  [{'id': 804, 'main': 'Clouds', 'description': ...  0.0  NaN  \n",
       "1  [{'id': 804, 'main': 'Clouds', 'description': ...  0.0  NaN  \n",
       "2  [{'id': 803, 'main': 'Clouds', 'description': ...  0.0  NaN  \n",
       "3  [{'id': 803, 'main': 'Clouds', 'description': ...  0.0  NaN  \n",
       "4  [{'id': 803, 'main': 'Clouds', 'description': ...  0.0  NaN  "
      ]
     },
     "execution_count": 10,
     "metadata": {},
     "output_type": "execute_result"
    }
   ],
   "source": [
    "df_hourly.head()"
   ]
  },
  {
   "cell_type": "code",
   "execution_count": null,
   "metadata": {},
   "outputs": [],
   "source": []
  }
 ],
 "metadata": {
  "interpreter": {
   "hash": "c1b4cfe941b6d2466ad1fb5979e97da9cda8801728c8091b097ab734208fc00c"
  },
  "kernelspec": {
   "display_name": "Python 3.8.3 64-bit ('base': conda)",
   "name": "python3"
  },
  "language_info": {
   "codemirror_mode": {
    "name": "ipython",
    "version": 3
   },
   "file_extension": ".py",
   "mimetype": "text/x-python",
   "name": "python",
   "nbconvert_exporter": "python",
   "pygments_lexer": "ipython3",
   "version": "3.8.12"
  }
 },
 "nbformat": 4,
 "nbformat_minor": 2
}
