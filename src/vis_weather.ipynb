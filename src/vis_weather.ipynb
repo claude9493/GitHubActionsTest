{
 "cells": [
  {
   "cell_type": "code",
   "execution_count": 1,
   "metadata": {
    "execution": {
     "iopub.execute_input": "2021-09-07T08:41:46.126116Z",
     "iopub.status.busy": "2021-09-07T08:41:46.124794Z",
     "iopub.status.idle": "2021-09-07T08:41:49.733424Z",
     "shell.execute_reply": "2021-09-07T08:41:49.733978Z"
    }
   },
   "outputs": [],
   "source": [
    "import json, yaml, requests\r\n",
    "from datetime import datetime\r\n",
    "from dateutil import tz\r\n",
    "import pandas as pd\r\n",
    "from PIL import Image\r\n",
    "from io import BytesIO\r\n",
    "import matplotlib.pyplot as plt\r\n",
    "import seaborn\r\n",
    "\r\n",
    "CONFIG_PATH = \"../config/config.yaml\""
   ]
  },
  {
   "cell_type": "code",
   "execution_count": 2,
   "metadata": {
    "execution": {
     "iopub.execute_input": "2021-09-07T08:41:49.740043Z",
     "iopub.status.busy": "2021-09-07T08:41:49.739234Z",
     "iopub.status.idle": "2021-09-07T08:41:49.745671Z",
     "shell.execute_reply": "2021-09-07T08:41:49.744942Z"
    }
   },
   "outputs": [],
   "source": [
    "with open('../newest_ts', 'r') as f:\r\n",
    "    newest_ts = f.read()\r\n",
    "\r\n",
    "data_path = f\"../data/data_{newest_ts}.json\"\r\n",
    "with open(data_path, 'r') as f:\r\n",
    "    data = json.load(f)\r\n",
    "\r\n",
    "with open(CONFIG_PATH, \"r\") as stream:\r\n",
    "    config = yaml.safe_load(stream)\r\n",
    "\r\n",
    "TIME_ZONE = config['time_zone']\r\n",
    "DATETIME_FORMAT = config['dt_format']"
   ]
  },
  {
   "cell_type": "code",
   "execution_count": 3,
   "metadata": {
    "execution": {
     "iopub.execute_input": "2021-09-07T08:41:49.750487Z",
     "iopub.status.busy": "2021-09-07T08:41:49.749945Z",
     "iopub.status.idle": "2021-09-07T08:41:49.908959Z",
     "shell.execute_reply": "2021-09-07T08:41:49.909646Z"
    }
   },
   "outputs": [
    {
     "name": "stdout",
     "output_type": "stream",
     "text": [
      "Recent query happens at 2021-09-07 16:41:42 (CST).\n"
     ]
    }
   ],
   "source": [
    "def ts2dt(ts, format=DATETIME_FORMAT):\r\n",
    "    dt = (datetime.utcfromtimestamp(int(ts))\r\n",
    "                    .replace(tzinfo=tz.tzutc())\r\n",
    "                    # .astimezone(tz.tzlocal())\r\n",
    "                    .astimezone(tz.gettz(TIME_ZONE)))\r\n",
    "    return dt.strftime(format), dt\r\n",
    "\r\n",
    "_, newest_dt = ts2dt(newest_ts)\r\n",
    "print(f\"Recent query happens at {newest_dt.strftime(DATETIME_FORMAT)} ({newest_dt.tzname()}).\")"
   ]
  },
  {
   "cell_type": "code",
   "execution_count": 4,
   "metadata": {
    "execution": {
     "iopub.execute_input": "2021-09-07T08:41:49.915788Z",
     "iopub.status.busy": "2021-09-07T08:41:49.911996Z",
     "iopub.status.idle": "2021-09-07T08:41:49.919262Z",
     "shell.execute_reply": "2021-09-07T08:41:49.918706Z"
    }
   },
   "outputs": [],
   "source": [
    "def degrees_to_cardinal(d):\r\n",
    "  dirs = ['N', 'NNE', 'NE', 'ENE', 'E', 'ESE', 'SE', 'SSE', 'S', 'SSW', 'SW', 'WSW', 'W', 'WNW', 'NW', 'NNW']\r\n",
    "  ix = int(round(d / (360. / len(dirs))))\r\n",
    "  return dirs[ix % len(dirs)]"
   ]
  },
  {
   "cell_type": "code",
   "execution_count": 5,
   "metadata": {
    "execution": {
     "iopub.execute_input": "2021-09-07T08:41:49.924487Z",
     "iopub.status.busy": "2021-09-07T08:41:49.923792Z",
     "iopub.status.idle": "2021-09-07T08:41:49.929006Z",
     "shell.execute_reply": "2021-09-07T08:41:49.929523Z"
    }
   },
   "outputs": [],
   "source": [
    "# data.keys()"
   ]
  },
  {
   "cell_type": "code",
   "execution_count": 6,
   "metadata": {
    "execution": {
     "iopub.execute_input": "2021-09-07T08:41:49.933593Z",
     "iopub.status.busy": "2021-09-07T08:41:49.932939Z",
     "iopub.status.idle": "2021-09-07T08:41:49.936776Z",
     "shell.execute_reply": "2021-09-07T08:41:49.936234Z"
    }
   },
   "outputs": [],
   "source": [
    "# data['current']"
   ]
  },
  {
   "cell_type": "code",
   "execution_count": 7,
   "metadata": {
    "execution": {
     "iopub.execute_input": "2021-09-07T08:41:49.963800Z",
     "iopub.status.busy": "2021-09-07T08:41:49.963170Z",
     "iopub.status.idle": "2021-09-07T08:41:50.450577Z",
     "shell.execute_reply": "2021-09-07T08:41:50.451355Z"
    }
   },
   "outputs": [
    {
     "data": {
      "image/png": "[encoded data removed]",
      "text/plain": [
       "<Figure size 216x216 with 1 Axes>"
      ]
     },
     "metadata": {
      "needs_background": "light"
     },
     "output_type": "display_data"
    },
    {
     "name": "stdout",
     "output_type": "stream",
     "text": [
      "Today, sun rises at 06:07 and sets at 18:34.\n",
      "Currently, the weather is Clear (clear sky).\n",
      "The temperature is 31.79°C and it feels like 38.79°C.\n",
      "The UV index is 1.1, humidity is 74%.\n",
      "The pressure is 1009 hPa, percentage of cloud cover is 6%\n",
      "The wind comes from E direction with a speed 4.54 m/s.\n"
     ]
    }
   ],
   "source": [
    "current = data['current']\r\n",
    "\r\n",
    "fig, ax = plt.subplots(figsize=(3, 3))\r\n",
    "icon = requests.get(f\"http://openweathermap.org/img/wn/{current['weather'][0]['icon']}@2x.png\")\r\n",
    "im = Image.open(BytesIO(icon.content))\r\n",
    "plt.imshow(im)\r\n",
    "ax.set_axis_off()\r\n",
    "plt.show()\r\n",
    "\r\n",
    "print(f\"Today, sun rises at {ts2dt(current['sunrise'], '%H:%M')[0]} \\\r\n",
    "and sets at {ts2dt(current['sunset'], '%H:%M')[0]}.\\n\\\r\n",
    "Currently, the weather is {current['weather'][0]['main']} ({current['weather'][0]['description']}).\\n\\\r\n",
    "The temperature is {current['temp']}°C and it feels like {current['feels_like']}°C.\\n\\\r\n",
    "The UV index is {current['uvi']}, humidity is {current['humidity']}%.\\n\\\r\n",
    "The pressure is {current['pressure']} hPa, percentage of cloud cover is {current['clouds']}%\\n\\\r\n",
    "The wind comes from {degrees_to_cardinal(current['wind_deg'])} direction with a speed {current['wind_speed']} m/s.\")"
   ]
  },
  {
   "cell_type": "code",
   "execution_count": 8,
   "metadata": {
    "execution": {
     "iopub.execute_input": "2021-09-07T08:41:50.455526Z",
     "iopub.status.busy": "2021-09-07T08:41:50.454883Z",
     "iopub.status.idle": "2021-09-07T08:41:50.462904Z",
     "shell.execute_reply": "2021-09-07T08:41:50.463660Z"
    }
   },
   "outputs": [],
   "source": [
    "df_hourly = pd.DataFrame(data['hourly'])\r\n",
    "df_daily = pd.DataFrame(data['daily'])"
   ]
  },
  {
   "cell_type": "code",
   "execution_count": 9,
   "metadata": {
    "execution": {
     "iopub.execute_input": "2021-09-07T08:41:50.467454Z",
     "iopub.status.busy": "2021-09-07T08:41:50.466125Z",
     "iopub.status.idle": "2021-09-07T08:41:50.811035Z",
     "shell.execute_reply": "2021-09-07T08:41:50.811636Z"
    }
   },
   "outputs": [
    {
     "data": {
      "image/png": "[encoded data removed]",
      "text/plain": [
       "<Figure size 864x432 with 1 Axes>"
      ]
     },
     "metadata": {
      "needs_background": "light"
     },
     "output_type": "display_data"
    }
   ],
   "source": [
    "fig, ax = plt.subplots(figsize=(12, 6))\r\n",
    "plt.plot(df_hourly.temp, '.-', label='Temperature')\r\n",
    "plt.plot(df_hourly.feels_like, '.-', label='Feels Like')\r\n",
    "ax.set(title='Temperature in future 48 hours', xlabel='Time', ylabel='Temperature')\r\n",
    "ax.set_xticks(list(range(0, len(df_hourly), 2)))\r\n",
    "ax.set_xticklabels([ts2dt(ts, '%m-%d %H:%M')[0] for i, ts in enumerate(df_hourly.dt) if i%2==0], \r\n",
    "                   rotation=45, ha=\"right\")\r\n",
    "ax.locator_params(nbins=15, axis='y')\r\n",
    "plt.legend()\r\n",
    "plt.show()"
   ]
  },
  {
   "cell_type": "code",
   "execution_count": 10,
   "metadata": {
    "execution": {
     "iopub.execute_input": "2021-09-07T08:41:50.816726Z",
     "iopub.status.busy": "2021-09-07T08:41:50.816116Z",
     "iopub.status.idle": "2021-09-07T08:41:50.838516Z",
     "shell.execute_reply": "2021-09-07T08:41:50.837752Z"
    }
   },
   "outputs": [
    {
     "data": {
      "text/html": [
       "<div>\n",
       "<style scoped>\n",
       "    .dataframe tbody tr th:only-of-type {\n",
       "        vertical-align: middle;\n",
       "    }\n",
       "\n",
       "    .dataframe tbody tr th {\n",
       "        vertical-align: top;\n",
       "    }\n",
       "\n",
       "    .dataframe thead th {\n",
       "        text-align: right;\n",
       "    }\n",
       "</style>\n",
       "<table border=\"1\" class=\"dataframe\">\n",
       "  <thead>\n",
       "    <tr style=\"text-align: right;\">\n",
       "      <th></th>\n",
       "      <th>dt</th>\n",
       "      <th>temp</th>\n",
       "      <th>feels_like</th>\n",
       "      <th>pressure</th>\n",
       "      <th>humidity</th>\n",
       "      <th>dew_point</th>\n",
       "      <th>uvi</th>\n",
       "      <th>clouds</th>\n",
       "      <th>visibility</th>\n",
       "      <th>wind_speed</th>\n",
       "      <th>wind_deg</th>\n",
       "      <th>wind_gust</th>\n",
       "      <th>weather</th>\n",
       "      <th>pop</th>\n",
       "      <th>rain</th>\n",
       "    </tr>\n",
       "  </thead>\n",
       "  <tbody>\n",
       "    <tr>\n",
       "      <th>0</th>\n",
       "      <td>1631001600</td>\n",
       "      <td>31.35</td>\n",
       "      <td>38.35</td>\n",
       "      <td>1009</td>\n",
       "      <td>73</td>\n",
       "      <td>25.92</td>\n",
       "      <td>3.17</td>\n",
       "      <td>6</td>\n",
       "      <td>10000</td>\n",
       "      <td>4.82</td>\n",
       "      <td>92</td>\n",
       "      <td>6.13</td>\n",
       "      <td>[{'id': 800, 'main': 'Clear', 'description': '...</td>\n",
       "      <td>0.55</td>\n",
       "      <td>NaN</td>\n",
       "    </tr>\n",
       "    <tr>\n",
       "      <th>1</th>\n",
       "      <td>1631005200</td>\n",
       "      <td>31.79</td>\n",
       "      <td>38.79</td>\n",
       "      <td>1009</td>\n",
       "      <td>74</td>\n",
       "      <td>26.58</td>\n",
       "      <td>1.10</td>\n",
       "      <td>6</td>\n",
       "      <td>10000</td>\n",
       "      <td>4.54</td>\n",
       "      <td>92</td>\n",
       "      <td>6.14</td>\n",
       "      <td>[{'id': 800, 'main': 'Clear', 'description': '...</td>\n",
       "      <td>0.64</td>\n",
       "      <td>NaN</td>\n",
       "    </tr>\n",
       "    <tr>\n",
       "      <th>2</th>\n",
       "      <td>1631008800</td>\n",
       "      <td>31.16</td>\n",
       "      <td>38.16</td>\n",
       "      <td>1009</td>\n",
       "      <td>75</td>\n",
       "      <td>26.20</td>\n",
       "      <td>0.18</td>\n",
       "      <td>6</td>\n",
       "      <td>10000</td>\n",
       "      <td>4.16</td>\n",
       "      <td>94</td>\n",
       "      <td>6.20</td>\n",
       "      <td>[{'id': 800, 'main': 'Clear', 'description': '...</td>\n",
       "      <td>0.60</td>\n",
       "      <td>NaN</td>\n",
       "    </tr>\n",
       "    <tr>\n",
       "      <th>3</th>\n",
       "      <td>1631012400</td>\n",
       "      <td>30.28</td>\n",
       "      <td>37.28</td>\n",
       "      <td>1009</td>\n",
       "      <td>78</td>\n",
       "      <td>26.01</td>\n",
       "      <td>0.00</td>\n",
       "      <td>6</td>\n",
       "      <td>10000</td>\n",
       "      <td>4.14</td>\n",
       "      <td>98</td>\n",
       "      <td>6.19</td>\n",
       "      <td>[{'id': 800, 'main': 'Clear', 'description': '...</td>\n",
       "      <td>0.56</td>\n",
       "      <td>NaN</td>\n",
       "    </tr>\n",
       "    <tr>\n",
       "      <th>4</th>\n",
       "      <td>1631016000</td>\n",
       "      <td>29.47</td>\n",
       "      <td>36.08</td>\n",
       "      <td>1010</td>\n",
       "      <td>80</td>\n",
       "      <td>25.65</td>\n",
       "      <td>0.00</td>\n",
       "      <td>6</td>\n",
       "      <td>10000</td>\n",
       "      <td>3.97</td>\n",
       "      <td>100</td>\n",
       "      <td>5.94</td>\n",
       "      <td>[{'id': 800, 'main': 'Clear', 'description': '...</td>\n",
       "      <td>0.56</td>\n",
       "      <td>NaN</td>\n",
       "    </tr>\n",
       "  </tbody>\n",
       "</table>\n",
       "</div>"
      ],
      "text/plain": [
       "           dt   temp  feels_like  pressure  humidity  dew_point   uvi  clouds  \\\n",
       "0  1631001600  31.35       38.35      1009        73      25.92  3.17       6   \n",
       "1  1631005200  31.79       38.79      1009        74      26.58  1.10       6   \n",
       "2  1631008800  31.16       38.16      1009        75      26.20  0.18       6   \n",
       "3  1631012400  30.28       37.28      1009        78      26.01  0.00       6   \n",
       "4  1631016000  29.47       36.08      1010        80      25.65  0.00       6   \n",
       "\n",
       "   visibility  wind_speed  wind_deg  wind_gust  \\\n",
       "0       10000        4.82        92       6.13   \n",
       "1       10000        4.54        92       6.14   \n",
       "2       10000        4.16        94       6.20   \n",
       "3       10000        4.14        98       6.19   \n",
       "4       10000        3.97       100       5.94   \n",
       "\n",
       "                                             weather   pop rain  \n",
       "0  [{'id': 800, 'main': 'Clear', 'description': '...  0.55  NaN  \n",
       "1  [{'id': 800, 'main': 'Clear', 'description': '...  0.64  NaN  \n",
       "2  [{'id': 800, 'main': 'Clear', 'description': '...  0.60  NaN  \n",
       "3  [{'id': 800, 'main': 'Clear', 'description': '...  0.56  NaN  \n",
       "4  [{'id': 800, 'main': 'Clear', 'description': '...  0.56  NaN  "
      ]
     },
     "execution_count": 10,
     "metadata": {},
     "output_type": "execute_result"
    }
   ],
   "source": [
    "df_hourly.head()"
   ]
  },
  {
   "cell_type": "code",
   "execution_count": null,
   "metadata": {},
   "outputs": [],
   "source": []
  }
 ],
 "metadata": {
  "interpreter": {
   "hash": "c1b4cfe941b6d2466ad1fb5979e97da9cda8801728c8091b097ab734208fc00c"
  },
  "kernelspec": {
   "display_name": "Python 3.8.3 64-bit ('base': conda)",
   "name": "python3"
  },
  "language_info": {
   "codemirror_mode": {
    "name": "ipython",
    "version": 3
   },
   "file_extension": ".py",
   "mimetype": "text/x-python",
   "name": "python",
   "nbconvert_exporter": "python",
   "pygments_lexer": "ipython3",
   "version": "3.8.11"
  }
 },
 "nbformat": 4,
 "nbformat_minor": 2
}
