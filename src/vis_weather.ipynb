{
 "cells": [
  {
   "cell_type": "code",
   "execution_count": 1,
   "metadata": {
    "execution": {
     "iopub.execute_input": "2021-10-03T08:13:13.960897Z",
     "iopub.status.busy": "2021-10-03T08:13:13.960158Z",
     "iopub.status.idle": "2021-10-03T08:13:17.522766Z",
     "shell.execute_reply": "2021-10-03T08:13:17.521582Z"
    }
   },
   "outputs": [],
   "source": [
    "import json, yaml, requests\r\n",
    "from datetime import datetime\r\n",
    "from dateutil import tz\r\n",
    "import pandas as pd\r\n",
    "from PIL import Image\r\n",
    "from io import BytesIO\r\n",
    "import matplotlib.pyplot as plt\r\n",
    "import seaborn\r\n",
    "\r\n",
    "CONFIG_PATH = \"../config/config.yaml\""
   ]
  },
  {
   "cell_type": "code",
   "execution_count": 2,
   "metadata": {
    "execution": {
     "iopub.execute_input": "2021-10-03T08:13:17.528636Z",
     "iopub.status.busy": "2021-10-03T08:13:17.525875Z",
     "iopub.status.idle": "2021-10-03T08:13:17.534245Z",
     "shell.execute_reply": "2021-10-03T08:13:17.533735Z"
    }
   },
   "outputs": [],
   "source": [
    "with open('../newest_ts', 'r') as f:\r\n",
    "    newest_ts = f.read()\r\n",
    "\r\n",
    "data_path = f\"../data/data_{newest_ts}.json\"\r\n",
    "with open(data_path, 'r') as f:\r\n",
    "    data = json.load(f)\r\n",
    "\r\n",
    "with open(CONFIG_PATH, \"r\") as stream:\r\n",
    "    config = yaml.safe_load(stream)\r\n",
    "\r\n",
    "TIME_ZONE = config['time_zone']\r\n",
    "DATETIME_FORMAT = config['dt_format']"
   ]
  },
  {
   "cell_type": "code",
   "execution_count": 3,
   "metadata": {
    "execution": {
     "iopub.execute_input": "2021-10-03T08:13:17.539244Z",
     "iopub.status.busy": "2021-10-03T08:13:17.538684Z",
     "iopub.status.idle": "2021-10-03T08:13:17.551943Z",
     "shell.execute_reply": "2021-10-03T08:13:17.552401Z"
    }
   },
   "outputs": [
    {
     "name": "stdout",
     "output_type": "stream",
     "text": [
      "Recent query happens at 2021-10-03 16:13:09 (CST).\n"
     ]
    }
   ],
   "source": [
    "def ts2dt(ts, format=DATETIME_FORMAT):\r\n",
    "    dt = (datetime.utcfromtimestamp(int(ts))\r\n",
    "                    .replace(tzinfo=tz.tzutc())\r\n",
    "                    # .astimezone(tz.tzlocal())\r\n",
    "                    .astimezone(tz.gettz(TIME_ZONE)))\r\n",
    "    return dt.strftime(format), dt\r\n",
    "\r\n",
    "_, newest_dt = ts2dt(newest_ts)\r\n",
    "print(f\"Recent query happens at {newest_dt.strftime(DATETIME_FORMAT)} ({newest_dt.tzname()}).\")"
   ]
  },
  {
   "cell_type": "code",
   "execution_count": 4,
   "metadata": {
    "execution": {
     "iopub.execute_input": "2021-10-03T08:13:17.560079Z",
     "iopub.status.busy": "2021-10-03T08:13:17.558710Z",
     "iopub.status.idle": "2021-10-03T08:13:17.560724Z",
     "shell.execute_reply": "2021-10-03T08:13:17.561263Z"
    }
   },
   "outputs": [],
   "source": [
    "def degrees_to_cardinal(d):\r\n",
    "  dirs = ['N', 'NNE', 'NE', 'ENE', 'E', 'ESE', 'SE', 'SSE', 'S', 'SSW', 'SW', 'WSW', 'W', 'WNW', 'NW', 'NNW']\r\n",
    "  ix = int(round(d / (360. / len(dirs))))\r\n",
    "  return dirs[ix % len(dirs)]"
   ]
  },
  {
   "cell_type": "code",
   "execution_count": 5,
   "metadata": {
    "execution": {
     "iopub.execute_input": "2021-10-03T08:13:17.565729Z",
     "iopub.status.busy": "2021-10-03T08:13:17.565138Z",
     "iopub.status.idle": "2021-10-03T08:13:17.567251Z",
     "shell.execute_reply": "2021-10-03T08:13:17.567678Z"
    }
   },
   "outputs": [],
   "source": [
    "# data.keys()"
   ]
  },
  {
   "cell_type": "code",
   "execution_count": 6,
   "metadata": {
    "execution": {
     "iopub.execute_input": "2021-10-03T08:13:17.572842Z",
     "iopub.status.busy": "2021-10-03T08:13:17.570807Z",
     "iopub.status.idle": "2021-10-03T08:13:17.574491Z",
     "shell.execute_reply": "2021-10-03T08:13:17.576511Z"
    }
   },
   "outputs": [],
   "source": [
    "# data['current']"
   ]
  },
  {
   "cell_type": "code",
   "execution_count": 7,
   "metadata": {
    "execution": {
     "iopub.execute_input": "2021-10-03T08:13:17.598797Z",
     "iopub.status.busy": "2021-10-03T08:13:17.583883Z",
     "iopub.status.idle": "2021-10-03T08:13:18.000491Z",
     "shell.execute_reply": "2021-10-03T08:13:18.000962Z"
    }
   },
   "outputs": [
    {
     "data": {
      "image/png": "[encoded data removed]",
      "text/plain": [
       "<Figure size 216x216 with 1 Axes>"
      ]
     },
     "metadata": {
      "needs_background": "light"
     },
     "output_type": "display_data"
    },
    {
     "name": "stdout",
     "output_type": "stream",
     "text": [
      "Today, sun rises at 06:14 and sets at 18:09.\n",
      "Currently, the weather is Clouds (broken clouds).\n",
      "The temperature is 29.93°C and it feels like 35.6°C.\n",
      "The UV index is 2.31, humidity is 73%.\n",
      "The pressure is 1010 hPa, percentage of cloud cover is 51%\n",
      "The wind comes from NNW direction with a speed 0.89 m/s.\n"
     ]
    }
   ],
   "source": [
    "current = data['current']\r\n",
    "\r\n",
    "fig, ax = plt.subplots(figsize=(3, 3))\r\n",
    "icon = requests.get(f\"http://openweathermap.org/img/wn/{current['weather'][0]['icon']}@2x.png\")\r\n",
    "im = Image.open(BytesIO(icon.content))\r\n",
    "plt.imshow(im)\r\n",
    "ax.set_axis_off()\r\n",
    "plt.show()\r\n",
    "\r\n",
    "print(f\"Today, sun rises at {ts2dt(current['sunrise'], '%H:%M')[0]} \\\r\n",
    "and sets at {ts2dt(current['sunset'], '%H:%M')[0]}.\\n\\\r\n",
    "Currently, the weather is {current['weather'][0]['main']} ({current['weather'][0]['description']}).\\n\\\r\n",
    "The temperature is {current['temp']}°C and it feels like {current['feels_like']}°C.\\n\\\r\n",
    "The UV index is {current['uvi']}, humidity is {current['humidity']}%.\\n\\\r\n",
    "The pressure is {current['pressure']} hPa, percentage of cloud cover is {current['clouds']}%\\n\\\r\n",
    "The wind comes from {degrees_to_cardinal(current['wind_deg'])} direction with a speed {current['wind_speed']} m/s.\")"
   ]
  },
  {
   "cell_type": "code",
   "execution_count": 8,
   "metadata": {
    "execution": {
     "iopub.execute_input": "2021-10-03T08:13:18.008554Z",
     "iopub.status.busy": "2021-10-03T08:13:18.007845Z",
     "iopub.status.idle": "2021-10-03T08:13:18.012573Z",
     "shell.execute_reply": "2021-10-03T08:13:18.013379Z"
    }
   },
   "outputs": [],
   "source": [
    "df_hourly = pd.DataFrame(data['hourly'])\r\n",
    "df_daily = pd.DataFrame(data['daily'])"
   ]
  },
  {
   "cell_type": "code",
   "execution_count": 9,
   "metadata": {
    "execution": {
     "iopub.execute_input": "2021-10-03T08:13:18.017636Z",
     "iopub.status.busy": "2021-10-03T08:13:18.016106Z",
     "iopub.status.idle": "2021-10-03T08:13:18.368906Z",
     "shell.execute_reply": "2021-10-03T08:13:18.368365Z"
    }
   },
   "outputs": [
    {
     "data": {
      "image/png": "[encoded data removed]",
      "text/plain": [
       "<Figure size 864x432 with 1 Axes>"
      ]
     },
     "metadata": {
      "needs_background": "light"
     },
     "output_type": "display_data"
    }
   ],
   "source": [
    "fig, ax = plt.subplots(figsize=(12, 6))\r\n",
    "plt.plot(df_hourly.temp, '.-', label='Temperature')\r\n",
    "plt.plot(df_hourly.feels_like, '.-', label='Feels Like')\r\n",
    "ax.set(title='Temperature in future 48 hours', xlabel='Time', ylabel='Temperature')\r\n",
    "ax.set_xticks(list(range(0, len(df_hourly), 2)))\r\n",
    "ax.set_xticklabels([ts2dt(ts, '%m-%d %H:%M')[0] for i, ts in enumerate(df_hourly.dt) if i%2==0], \r\n",
    "                   rotation=45, ha=\"right\")\r\n",
    "ax.locator_params(nbins=15, axis='y')\r\n",
    "plt.legend()\r\n",
    "plt.show()"
   ]
  },
  {
   "cell_type": "code",
   "execution_count": 10,
   "metadata": {
    "execution": {
     "iopub.execute_input": "2021-10-03T08:13:18.391279Z",
     "iopub.status.busy": "2021-10-03T08:13:18.382801Z",
     "iopub.status.idle": "2021-10-03T08:13:18.396906Z",
     "shell.execute_reply": "2021-10-03T08:13:18.396415Z"
    }
   },
   "outputs": [
    {
     "data": {
      "text/html": [
       "<div>\n",
       "<style scoped>\n",
       "    .dataframe tbody tr th:only-of-type {\n",
       "        vertical-align: middle;\n",
       "    }\n",
       "\n",
       "    .dataframe tbody tr th {\n",
       "        vertical-align: top;\n",
       "    }\n",
       "\n",
       "    .dataframe thead th {\n",
       "        text-align: right;\n",
       "    }\n",
       "</style>\n",
       "<table border=\"1\" class=\"dataframe\">\n",
       "  <thead>\n",
       "    <tr style=\"text-align: right;\">\n",
       "      <th></th>\n",
       "      <th>dt</th>\n",
       "      <th>temp</th>\n",
       "      <th>feels_like</th>\n",
       "      <th>pressure</th>\n",
       "      <th>humidity</th>\n",
       "      <th>dew_point</th>\n",
       "      <th>uvi</th>\n",
       "      <th>clouds</th>\n",
       "      <th>visibility</th>\n",
       "      <th>wind_speed</th>\n",
       "      <th>wind_deg</th>\n",
       "      <th>wind_gust</th>\n",
       "      <th>weather</th>\n",
       "      <th>pop</th>\n",
       "      <th>rain</th>\n",
       "    </tr>\n",
       "  </thead>\n",
       "  <tbody>\n",
       "    <tr>\n",
       "      <th>0</th>\n",
       "      <td>1633248000</td>\n",
       "      <td>29.93</td>\n",
       "      <td>35.60</td>\n",
       "      <td>1010</td>\n",
       "      <td>73</td>\n",
       "      <td>24.56</td>\n",
       "      <td>2.31</td>\n",
       "      <td>51</td>\n",
       "      <td>10000</td>\n",
       "      <td>6.88</td>\n",
       "      <td>97</td>\n",
       "      <td>7.79</td>\n",
       "      <td>[{'id': 500, 'main': 'Rain', 'description': 'l...</td>\n",
       "      <td>0.74</td>\n",
       "      <td>{'1h': 0.21}</td>\n",
       "    </tr>\n",
       "    <tr>\n",
       "      <th>1</th>\n",
       "      <td>1633251600</td>\n",
       "      <td>29.60</td>\n",
       "      <td>34.99</td>\n",
       "      <td>1010</td>\n",
       "      <td>74</td>\n",
       "      <td>24.47</td>\n",
       "      <td>0.71</td>\n",
       "      <td>52</td>\n",
       "      <td>10000</td>\n",
       "      <td>6.65</td>\n",
       "      <td>101</td>\n",
       "      <td>8.00</td>\n",
       "      <td>[{'id': 803, 'main': 'Clouds', 'description': ...</td>\n",
       "      <td>0.74</td>\n",
       "      <td>NaN</td>\n",
       "    </tr>\n",
       "    <tr>\n",
       "      <th>2</th>\n",
       "      <td>1633255200</td>\n",
       "      <td>29.11</td>\n",
       "      <td>33.97</td>\n",
       "      <td>1010</td>\n",
       "      <td>75</td>\n",
       "      <td>24.22</td>\n",
       "      <td>0.00</td>\n",
       "      <td>54</td>\n",
       "      <td>10000</td>\n",
       "      <td>6.08</td>\n",
       "      <td>99</td>\n",
       "      <td>8.03</td>\n",
       "      <td>[{'id': 803, 'main': 'Clouds', 'description': ...</td>\n",
       "      <td>0.78</td>\n",
       "      <td>NaN</td>\n",
       "    </tr>\n",
       "    <tr>\n",
       "      <th>3</th>\n",
       "      <td>1633258800</td>\n",
       "      <td>28.74</td>\n",
       "      <td>33.44</td>\n",
       "      <td>1011</td>\n",
       "      <td>77</td>\n",
       "      <td>24.30</td>\n",
       "      <td>0.00</td>\n",
       "      <td>53</td>\n",
       "      <td>10000</td>\n",
       "      <td>5.91</td>\n",
       "      <td>96</td>\n",
       "      <td>8.01</td>\n",
       "      <td>[{'id': 803, 'main': 'Clouds', 'description': ...</td>\n",
       "      <td>0.78</td>\n",
       "      <td>NaN</td>\n",
       "    </tr>\n",
       "    <tr>\n",
       "      <th>4</th>\n",
       "      <td>1633262400</td>\n",
       "      <td>28.27</td>\n",
       "      <td>32.61</td>\n",
       "      <td>1012</td>\n",
       "      <td>79</td>\n",
       "      <td>24.28</td>\n",
       "      <td>0.00</td>\n",
       "      <td>56</td>\n",
       "      <td>10000</td>\n",
       "      <td>6.28</td>\n",
       "      <td>94</td>\n",
       "      <td>7.92</td>\n",
       "      <td>[{'id': 803, 'main': 'Clouds', 'description': ...</td>\n",
       "      <td>0.67</td>\n",
       "      <td>NaN</td>\n",
       "    </tr>\n",
       "  </tbody>\n",
       "</table>\n",
       "</div>"
      ],
      "text/plain": [
       "           dt   temp  feels_like  pressure  humidity  dew_point   uvi  clouds  \\\n",
       "0  1633248000  29.93       35.60      1010        73      24.56  2.31      51   \n",
       "1  1633251600  29.60       34.99      1010        74      24.47  0.71      52   \n",
       "2  1633255200  29.11       33.97      1010        75      24.22  0.00      54   \n",
       "3  1633258800  28.74       33.44      1011        77      24.30  0.00      53   \n",
       "4  1633262400  28.27       32.61      1012        79      24.28  0.00      56   \n",
       "\n",
       "   visibility  wind_speed  wind_deg  wind_gust  \\\n",
       "0       10000        6.88        97       7.79   \n",
       "1       10000        6.65       101       8.00   \n",
       "2       10000        6.08        99       8.03   \n",
       "3       10000        5.91        96       8.01   \n",
       "4       10000        6.28        94       7.92   \n",
       "\n",
       "                                             weather   pop          rain  \n",
       "0  [{'id': 500, 'main': 'Rain', 'description': 'l...  0.74  {'1h': 0.21}  \n",
       "1  [{'id': 803, 'main': 'Clouds', 'description': ...  0.74           NaN  \n",
       "2  [{'id': 803, 'main': 'Clouds', 'description': ...  0.78           NaN  \n",
       "3  [{'id': 803, 'main': 'Clouds', 'description': ...  0.78           NaN  \n",
       "4  [{'id': 803, 'main': 'Clouds', 'description': ...  0.67           NaN  "
      ]
     },
     "execution_count": 10,
     "metadata": {},
     "output_type": "execute_result"
    }
   ],
   "source": [
    "df_hourly.head()"
   ]
  },
  {
   "cell_type": "code",
   "execution_count": null,
   "metadata": {},
   "outputs": [],
   "source": []
  }
 ],
 "metadata": {
  "interpreter": {
   "hash": "c1b4cfe941b6d2466ad1fb5979e97da9cda8801728c8091b097ab734208fc00c"
  },
  "kernelspec": {
   "display_name": "Python 3.8.3 64-bit ('base': conda)",
   "name": "python3"
  },
  "language_info": {
   "codemirror_mode": {
    "name": "ipython",
    "version": 3
   },
   "file_extension": ".py",
   "mimetype": "text/x-python",
   "name": "python",
   "nbconvert_exporter": "python",
   "pygments_lexer": "ipython3",
   "version": "3.8.12"
  }
 },
 "nbformat": 4,
 "nbformat_minor": 2
}
