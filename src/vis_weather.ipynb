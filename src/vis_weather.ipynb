{
 "cells": [
  {
   "cell_type": "code",
   "execution_count": 1,
   "metadata": {
    "execution": {
     "iopub.execute_input": "2021-09-19T12:16:59.718647Z",
     "iopub.status.busy": "2021-09-19T12:16:59.718079Z",
     "iopub.status.idle": "2021-09-19T12:17:02.837403Z",
     "shell.execute_reply": "2021-09-19T12:17:02.836624Z"
    }
   },
   "outputs": [],
   "source": [
    "import json, yaml, requests\r\n",
    "from datetime import datetime\r\n",
    "from dateutil import tz\r\n",
    "import pandas as pd\r\n",
    "from PIL import Image\r\n",
    "from io import BytesIO\r\n",
    "import matplotlib.pyplot as plt\r\n",
    "import seaborn\r\n",
    "\r\n",
    "CONFIG_PATH = \"../config/config.yaml\""
   ]
  },
  {
   "cell_type": "code",
   "execution_count": 2,
   "metadata": {
    "execution": {
     "iopub.execute_input": "2021-09-19T12:17:02.843762Z",
     "iopub.status.busy": "2021-09-19T12:17:02.842493Z",
     "iopub.status.idle": "2021-09-19T12:17:02.849992Z",
     "shell.execute_reply": "2021-09-19T12:17:02.848863Z"
    }
   },
   "outputs": [],
   "source": [
    "with open('../newest_ts', 'r') as f:\r\n",
    "    newest_ts = f.read()\r\n",
    "\r\n",
    "data_path = f\"../data/data_{newest_ts}.json\"\r\n",
    "with open(data_path, 'r') as f:\r\n",
    "    data = json.load(f)\r\n",
    "\r\n",
    "with open(CONFIG_PATH, \"r\") as stream:\r\n",
    "    config = yaml.safe_load(stream)\r\n",
    "\r\n",
    "TIME_ZONE = config['time_zone']\r\n",
    "DATETIME_FORMAT = config['dt_format']"
   ]
  },
  {
   "cell_type": "code",
   "execution_count": 3,
   "metadata": {
    "execution": {
     "iopub.execute_input": "2021-09-19T12:17:02.855497Z",
     "iopub.status.busy": "2021-09-19T12:17:02.854867Z",
     "iopub.status.idle": "2021-09-19T12:17:02.860134Z",
     "shell.execute_reply": "2021-09-19T12:17:02.860773Z"
    }
   },
   "outputs": [
    {
     "name": "stdout",
     "output_type": "stream",
     "text": [
      "Recent query happens at 2021-09-19 20:16:56 (CST).\n"
     ]
    }
   ],
   "source": [
    "def ts2dt(ts, format=DATETIME_FORMAT):\r\n",
    "    dt = (datetime.utcfromtimestamp(int(ts))\r\n",
    "                    .replace(tzinfo=tz.tzutc())\r\n",
    "                    # .astimezone(tz.tzlocal())\r\n",
    "                    .astimezone(tz.gettz(TIME_ZONE)))\r\n",
    "    return dt.strftime(format), dt\r\n",
    "\r\n",
    "_, newest_dt = ts2dt(newest_ts)\r\n",
    "print(f\"Recent query happens at {newest_dt.strftime(DATETIME_FORMAT)} ({newest_dt.tzname()}).\")"
   ]
  },
  {
   "cell_type": "code",
   "execution_count": 4,
   "metadata": {
    "execution": {
     "iopub.execute_input": "2021-09-19T12:17:02.866834Z",
     "iopub.status.busy": "2021-09-19T12:17:02.865412Z",
     "iopub.status.idle": "2021-09-19T12:17:02.867437Z",
     "shell.execute_reply": "2021-09-19T12:17:02.867926Z"
    }
   },
   "outputs": [],
   "source": [
    "def degrees_to_cardinal(d):\r\n",
    "  dirs = ['N', 'NNE', 'NE', 'ENE', 'E', 'ESE', 'SE', 'SSE', 'S', 'SSW', 'SW', 'WSW', 'W', 'WNW', 'NW', 'NNW']\r\n",
    "  ix = int(round(d / (360. / len(dirs))))\r\n",
    "  return dirs[ix % len(dirs)]"
   ]
  },
  {
   "cell_type": "code",
   "execution_count": 5,
   "metadata": {
    "execution": {
     "iopub.execute_input": "2021-09-19T12:17:02.872952Z",
     "iopub.status.busy": "2021-09-19T12:17:02.871445Z",
     "iopub.status.idle": "2021-09-19T12:17:02.873524Z",
     "shell.execute_reply": "2021-09-19T12:17:02.874087Z"
    }
   },
   "outputs": [],
   "source": [
    "# data.keys()"
   ]
  },
  {
   "cell_type": "code",
   "execution_count": 6,
   "metadata": {
    "execution": {
     "iopub.execute_input": "2021-09-19T12:17:02.877378Z",
     "iopub.status.busy": "2021-09-19T12:17:02.876839Z",
     "iopub.status.idle": "2021-09-19T12:17:02.878688Z",
     "shell.execute_reply": "2021-09-19T12:17:02.879211Z"
    }
   },
   "outputs": [],
   "source": [
    "# data['current']"
   ]
  },
  {
   "cell_type": "code",
   "execution_count": 7,
   "metadata": {
    "execution": {
     "iopub.execute_input": "2021-09-19T12:17:02.900697Z",
     "iopub.status.busy": "2021-09-19T12:17:02.900070Z",
     "iopub.status.idle": "2021-09-19T12:17:03.507081Z",
     "shell.execute_reply": "2021-09-19T12:17:03.507781Z"
    }
   },
   "outputs": [
    {
     "data": {
      "image/png": "[encoded data removed]",
      "text/plain": [
       "<Figure size 216x216 with 1 Axes>"
      ]
     },
     "metadata": {
      "needs_background": "light"
     },
     "output_type": "display_data"
    },
    {
     "name": "stdout",
     "output_type": "stream",
     "text": [
      "Today, sun rises at 06:10 and sets at 18:22.\n",
      "Currently, the weather is Clouds (scattered clouds).\n",
      "The temperature is 29.66°C and it feels like 36.66°C.\n",
      "The UV index is 0, humidity is 82%.\n",
      "The pressure is 1012 hPa, percentage of cloud cover is 35%\n",
      "The wind comes from ESE direction with a speed 3.68 m/s.\n"
     ]
    }
   ],
   "source": [
    "current = data['current']\r\n",
    "\r\n",
    "fig, ax = plt.subplots(figsize=(3, 3))\r\n",
    "icon = requests.get(f\"http://openweathermap.org/img/wn/{current['weather'][0]['icon']}@2x.png\")\r\n",
    "im = Image.open(BytesIO(icon.content))\r\n",
    "plt.imshow(im)\r\n",
    "ax.set_axis_off()\r\n",
    "plt.show()\r\n",
    "\r\n",
    "print(f\"Today, sun rises at {ts2dt(current['sunrise'], '%H:%M')[0]} \\\r\n",
    "and sets at {ts2dt(current['sunset'], '%H:%M')[0]}.\\n\\\r\n",
    "Currently, the weather is {current['weather'][0]['main']} ({current['weather'][0]['description']}).\\n\\\r\n",
    "The temperature is {current['temp']}°C and it feels like {current['feels_like']}°C.\\n\\\r\n",
    "The UV index is {current['uvi']}, humidity is {current['humidity']}%.\\n\\\r\n",
    "The pressure is {current['pressure']} hPa, percentage of cloud cover is {current['clouds']}%\\n\\\r\n",
    "The wind comes from {degrees_to_cardinal(current['wind_deg'])} direction with a speed {current['wind_speed']} m/s.\")"
   ]
  },
  {
   "cell_type": "code",
   "execution_count": 8,
   "metadata": {
    "execution": {
     "iopub.execute_input": "2021-09-19T12:17:03.510865Z",
     "iopub.status.busy": "2021-09-19T12:17:03.509955Z",
     "iopub.status.idle": "2021-09-19T12:17:03.517431Z",
     "shell.execute_reply": "2021-09-19T12:17:03.518087Z"
    }
   },
   "outputs": [],
   "source": [
    "df_hourly = pd.DataFrame(data['hourly'])\r\n",
    "df_daily = pd.DataFrame(data['daily'])"
   ]
  },
  {
   "cell_type": "code",
   "execution_count": 9,
   "metadata": {
    "execution": {
     "iopub.execute_input": "2021-09-19T12:17:03.520947Z",
     "iopub.status.busy": "2021-09-19T12:17:03.520026Z",
     "iopub.status.idle": "2021-09-19T12:17:03.821610Z",
     "shell.execute_reply": "2021-09-19T12:17:03.821092Z"
    }
   },
   "outputs": [
    {
     "data": {
      "image/png": "[encoded data removed]",
      "text/plain": [
       "<Figure size 864x432 with 1 Axes>"
      ]
     },
     "metadata": {
      "needs_background": "light"
     },
     "output_type": "display_data"
    }
   ],
   "source": [
    "fig, ax = plt.subplots(figsize=(12, 6))\r\n",
    "plt.plot(df_hourly.temp, '.-', label='Temperature')\r\n",
    "plt.plot(df_hourly.feels_like, '.-', label='Feels Like')\r\n",
    "ax.set(title='Temperature in future 48 hours', xlabel='Time', ylabel='Temperature')\r\n",
    "ax.set_xticks(list(range(0, len(df_hourly), 2)))\r\n",
    "ax.set_xticklabels([ts2dt(ts, '%m-%d %H:%M')[0] for i, ts in enumerate(df_hourly.dt) if i%2==0], \r\n",
    "                   rotation=45, ha=\"right\")\r\n",
    "ax.locator_params(nbins=15, axis='y')\r\n",
    "plt.legend()\r\n",
    "plt.show()"
   ]
  },
  {
   "cell_type": "code",
   "execution_count": 10,
   "metadata": {
    "execution": {
     "iopub.execute_input": "2021-09-19T12:17:03.833290Z",
     "iopub.status.busy": "2021-09-19T12:17:03.825080Z",
     "iopub.status.idle": "2021-09-19T12:17:03.844748Z",
     "shell.execute_reply": "2021-09-19T12:17:03.844215Z"
    }
   },
   "outputs": [
    {
     "data": {
      "text/html": [
       "<div>\n",
       "<style scoped>\n",
       "    .dataframe tbody tr th:only-of-type {\n",
       "        vertical-align: middle;\n",
       "    }\n",
       "\n",
       "    .dataframe tbody tr th {\n",
       "        vertical-align: top;\n",
       "    }\n",
       "\n",
       "    .dataframe thead th {\n",
       "        text-align: right;\n",
       "    }\n",
       "</style>\n",
       "<table border=\"1\" class=\"dataframe\">\n",
       "  <thead>\n",
       "    <tr style=\"text-align: right;\">\n",
       "      <th></th>\n",
       "      <th>dt</th>\n",
       "      <th>temp</th>\n",
       "      <th>feels_like</th>\n",
       "      <th>pressure</th>\n",
       "      <th>humidity</th>\n",
       "      <th>dew_point</th>\n",
       "      <th>uvi</th>\n",
       "      <th>clouds</th>\n",
       "      <th>visibility</th>\n",
       "      <th>wind_speed</th>\n",
       "      <th>wind_deg</th>\n",
       "      <th>wind_gust</th>\n",
       "      <th>weather</th>\n",
       "      <th>pop</th>\n",
       "      <th>rain</th>\n",
       "    </tr>\n",
       "  </thead>\n",
       "  <tbody>\n",
       "    <tr>\n",
       "      <th>0</th>\n",
       "      <td>1632052800</td>\n",
       "      <td>29.66</td>\n",
       "      <td>36.66</td>\n",
       "      <td>1012</td>\n",
       "      <td>82</td>\n",
       "      <td>26.26</td>\n",
       "      <td>0.0</td>\n",
       "      <td>35</td>\n",
       "      <td>10000</td>\n",
       "      <td>3.68</td>\n",
       "      <td>115</td>\n",
       "      <td>4.77</td>\n",
       "      <td>[{'id': 802, 'main': 'Clouds', 'description': ...</td>\n",
       "      <td>0.78</td>\n",
       "      <td>NaN</td>\n",
       "    </tr>\n",
       "    <tr>\n",
       "      <th>1</th>\n",
       "      <td>1632056400</td>\n",
       "      <td>29.34</td>\n",
       "      <td>36.19</td>\n",
       "      <td>1012</td>\n",
       "      <td>82</td>\n",
       "      <td>25.94</td>\n",
       "      <td>0.0</td>\n",
       "      <td>34</td>\n",
       "      <td>10000</td>\n",
       "      <td>3.45</td>\n",
       "      <td>118</td>\n",
       "      <td>4.63</td>\n",
       "      <td>[{'id': 500, 'main': 'Rain', 'description': 'l...</td>\n",
       "      <td>0.44</td>\n",
       "      <td>{'1h': 0.1}</td>\n",
       "    </tr>\n",
       "    <tr>\n",
       "      <th>2</th>\n",
       "      <td>1632060000</td>\n",
       "      <td>29.02</td>\n",
       "      <td>35.47</td>\n",
       "      <td>1012</td>\n",
       "      <td>83</td>\n",
       "      <td>25.84</td>\n",
       "      <td>0.0</td>\n",
       "      <td>31</td>\n",
       "      <td>10000</td>\n",
       "      <td>3.37</td>\n",
       "      <td>119</td>\n",
       "      <td>4.55</td>\n",
       "      <td>[{'id': 500, 'main': 'Rain', 'description': 'l...</td>\n",
       "      <td>0.44</td>\n",
       "      <td>{'1h': 0.1}</td>\n",
       "    </tr>\n",
       "    <tr>\n",
       "      <th>3</th>\n",
       "      <td>1632063600</td>\n",
       "      <td>28.67</td>\n",
       "      <td>34.44</td>\n",
       "      <td>1012</td>\n",
       "      <td>83</td>\n",
       "      <td>25.49</td>\n",
       "      <td>0.0</td>\n",
       "      <td>35</td>\n",
       "      <td>10000</td>\n",
       "      <td>3.42</td>\n",
       "      <td>124</td>\n",
       "      <td>4.60</td>\n",
       "      <td>[{'id': 802, 'main': 'Clouds', 'description': ...</td>\n",
       "      <td>0.45</td>\n",
       "      <td>NaN</td>\n",
       "    </tr>\n",
       "    <tr>\n",
       "      <th>4</th>\n",
       "      <td>1632067200</td>\n",
       "      <td>28.24</td>\n",
       "      <td>33.40</td>\n",
       "      <td>1012</td>\n",
       "      <td>84</td>\n",
       "      <td>25.28</td>\n",
       "      <td>0.0</td>\n",
       "      <td>44</td>\n",
       "      <td>10000</td>\n",
       "      <td>3.07</td>\n",
       "      <td>128</td>\n",
       "      <td>3.79</td>\n",
       "      <td>[{'id': 500, 'main': 'Rain', 'description': 'l...</td>\n",
       "      <td>0.48</td>\n",
       "      <td>{'1h': 0.11}</td>\n",
       "    </tr>\n",
       "  </tbody>\n",
       "</table>\n",
       "</div>"
      ],
      "text/plain": [
       "           dt   temp  feels_like  pressure  humidity  dew_point  uvi  clouds  \\\n",
       "0  1632052800  29.66       36.66      1012        82      26.26  0.0      35   \n",
       "1  1632056400  29.34       36.19      1012        82      25.94  0.0      34   \n",
       "2  1632060000  29.02       35.47      1012        83      25.84  0.0      31   \n",
       "3  1632063600  28.67       34.44      1012        83      25.49  0.0      35   \n",
       "4  1632067200  28.24       33.40      1012        84      25.28  0.0      44   \n",
       "\n",
       "   visibility  wind_speed  wind_deg  wind_gust  \\\n",
       "0       10000        3.68       115       4.77   \n",
       "1       10000        3.45       118       4.63   \n",
       "2       10000        3.37       119       4.55   \n",
       "3       10000        3.42       124       4.60   \n",
       "4       10000        3.07       128       3.79   \n",
       "\n",
       "                                             weather   pop          rain  \n",
       "0  [{'id': 802, 'main': 'Clouds', 'description': ...  0.78           NaN  \n",
       "1  [{'id': 500, 'main': 'Rain', 'description': 'l...  0.44   {'1h': 0.1}  \n",
       "2  [{'id': 500, 'main': 'Rain', 'description': 'l...  0.44   {'1h': 0.1}  \n",
       "3  [{'id': 802, 'main': 'Clouds', 'description': ...  0.45           NaN  \n",
       "4  [{'id': 500, 'main': 'Rain', 'description': 'l...  0.48  {'1h': 0.11}  "
      ]
     },
     "execution_count": 10,
     "metadata": {},
     "output_type": "execute_result"
    }
   ],
   "source": [
    "df_hourly.head()"
   ]
  },
  {
   "cell_type": "code",
   "execution_count": null,
   "metadata": {},
   "outputs": [],
   "source": []
  }
 ],
 "metadata": {
  "interpreter": {
   "hash": "c1b4cfe941b6d2466ad1fb5979e97da9cda8801728c8091b097ab734208fc00c"
  },
  "kernelspec": {
   "display_name": "Python 3.8.3 64-bit ('base': conda)",
   "name": "python3"
  },
  "language_info": {
   "codemirror_mode": {
    "name": "ipython",
    "version": 3
   },
   "file_extension": ".py",
   "mimetype": "text/x-python",
   "name": "python",
   "nbconvert_exporter": "python",
   "pygments_lexer": "ipython3",
   "version": "3.8.11"
  }
 },
 "nbformat": 4,
 "nbformat_minor": 2
}
