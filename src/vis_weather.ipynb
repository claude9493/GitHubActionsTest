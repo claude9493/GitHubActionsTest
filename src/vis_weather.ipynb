{
 "cells": [
  {
   "cell_type": "code",
   "execution_count": 1,
   "metadata": {
    "execution": {
     "iopub.execute_input": "2021-10-15T05:10:32.703187Z",
     "iopub.status.busy": "2021-10-15T05:10:32.702562Z",
     "iopub.status.idle": "2021-10-15T05:10:34.989399Z",
     "shell.execute_reply": "2021-10-15T05:10:34.988392Z"
    }
   },
   "outputs": [],
   "source": [
    "import json, yaml, requests\r\n",
    "from datetime import datetime\r\n",
    "from dateutil import tz\r\n",
    "import pandas as pd\r\n",
    "from PIL import Image\r\n",
    "from io import BytesIO\r\n",
    "import matplotlib.pyplot as plt\r\n",
    "import seaborn\r\n",
    "\r\n",
    "CONFIG_PATH = \"../config/config.yaml\""
   ]
  },
  {
   "cell_type": "code",
   "execution_count": 2,
   "metadata": {
    "execution": {
     "iopub.execute_input": "2021-10-15T05:10:34.997097Z",
     "iopub.status.busy": "2021-10-15T05:10:34.994209Z",
     "iopub.status.idle": "2021-10-15T05:10:34.999995Z",
     "shell.execute_reply": "2021-10-15T05:10:34.999218Z"
    }
   },
   "outputs": [],
   "source": [
    "with open('../newest_ts', 'r') as f:\r\n",
    "    newest_ts = f.read()\r\n",
    "\r\n",
    "data_path = f\"../data/data_{newest_ts}.json\"\r\n",
    "with open(data_path, 'r') as f:\r\n",
    "    data = json.load(f)\r\n",
    "\r\n",
    "with open(CONFIG_PATH, \"r\") as stream:\r\n",
    "    config = yaml.safe_load(stream)\r\n",
    "\r\n",
    "TIME_ZONE = config['time_zone']\r\n",
    "DATETIME_FORMAT = config['dt_format']"
   ]
  },
  {
   "cell_type": "code",
   "execution_count": 3,
   "metadata": {
    "execution": {
     "iopub.execute_input": "2021-10-15T05:10:35.004218Z",
     "iopub.status.busy": "2021-10-15T05:10:35.002023Z",
     "iopub.status.idle": "2021-10-15T05:10:35.009853Z",
     "shell.execute_reply": "2021-10-15T05:10:35.010228Z"
    }
   },
   "outputs": [
    {
     "name": "stdout",
     "output_type": "stream",
     "text": [
      "Recent query happens at 2021-10-15 13:10:29 (CST).\n"
     ]
    }
   ],
   "source": [
    "def ts2dt(ts, format=DATETIME_FORMAT):\r\n",
    "    dt = (datetime.utcfromtimestamp(int(ts))\r\n",
    "                    .replace(tzinfo=tz.tzutc())\r\n",
    "                    # .astimezone(tz.tzlocal())\r\n",
    "                    .astimezone(tz.gettz(TIME_ZONE)))\r\n",
    "    return dt.strftime(format), dt\r\n",
    "\r\n",
    "_, newest_dt = ts2dt(newest_ts)\r\n",
    "print(f\"Recent query happens at {newest_dt.strftime(DATETIME_FORMAT)} ({newest_dt.tzname()}).\")"
   ]
  },
  {
   "cell_type": "code",
   "execution_count": 4,
   "metadata": {
    "execution": {
     "iopub.execute_input": "2021-10-15T05:10:35.015405Z",
     "iopub.status.busy": "2021-10-15T05:10:35.014322Z",
     "iopub.status.idle": "2021-10-15T05:10:35.015938Z",
     "shell.execute_reply": "2021-10-15T05:10:35.016304Z"
    }
   },
   "outputs": [],
   "source": [
    "def degrees_to_cardinal(d):\r\n",
    "  dirs = ['N', 'NNE', 'NE', 'ENE', 'E', 'ESE', 'SE', 'SSE', 'S', 'SSW', 'SW', 'WSW', 'W', 'WNW', 'NW', 'NNW']\r\n",
    "  ix = int(round(d / (360. / len(dirs))))\r\n",
    "  return dirs[ix % len(dirs)]"
   ]
  },
  {
   "cell_type": "code",
   "execution_count": 5,
   "metadata": {
    "execution": {
     "iopub.execute_input": "2021-10-15T05:10:35.020466Z",
     "iopub.status.busy": "2021-10-15T05:10:35.019446Z",
     "iopub.status.idle": "2021-10-15T05:10:35.020989Z",
     "shell.execute_reply": "2021-10-15T05:10:35.021351Z"
    }
   },
   "outputs": [],
   "source": [
    "# data.keys()"
   ]
  },
  {
   "cell_type": "code",
   "execution_count": 6,
   "metadata": {
    "execution": {
     "iopub.execute_input": "2021-10-15T05:10:35.025056Z",
     "iopub.status.busy": "2021-10-15T05:10:35.024010Z",
     "iopub.status.idle": "2021-10-15T05:10:35.025579Z",
     "shell.execute_reply": "2021-10-15T05:10:35.025941Z"
    }
   },
   "outputs": [],
   "source": [
    "# data['current']"
   ]
  },
  {
   "cell_type": "code",
   "execution_count": 7,
   "metadata": {
    "execution": {
     "iopub.execute_input": "2021-10-15T05:10:35.043012Z",
     "iopub.status.busy": "2021-10-15T05:10:35.042497Z",
     "iopub.status.idle": "2021-10-15T05:10:35.312331Z",
     "shell.execute_reply": "2021-10-15T05:10:35.312997Z"
    }
   },
   "outputs": [
    {
     "data": {
      "image/png": "[encoded data removed]",
      "text/plain": [
       "<Figure size 216x216 with 1 Axes>"
      ]
     },
     "metadata": {
      "needs_background": "light"
     },
     "output_type": "display_data"
    },
    {
     "name": "stdout",
     "output_type": "stream",
     "text": [
      "Today, sun rises at 06:18 and sets at 17:58.\n",
      "Currently, the weather is Rain (light rain).\n",
      "The temperature is 25.76°C and it feels like 26.74°C.\n",
      "The UV index is 3.22, humidity is 90%.\n",
      "The pressure is 1009 hPa, percentage of cloud cover is 100%\n",
      "The wind comes from NE direction with a speed 2.24 m/s.\n"
     ]
    }
   ],
   "source": [
    "current = data['current']\r\n",
    "\r\n",
    "fig, ax = plt.subplots(figsize=(3, 3))\r\n",
    "icon = requests.get(f\"http://openweathermap.org/img/wn/{current['weather'][0]['icon']}@2x.png\")\r\n",
    "im = Image.open(BytesIO(icon.content))\r\n",
    "plt.imshow(im)\r\n",
    "ax.set_axis_off()\r\n",
    "plt.show()\r\n",
    "\r\n",
    "print(f\"Today, sun rises at {ts2dt(current['sunrise'], '%H:%M')[0]} \\\r\n",
    "and sets at {ts2dt(current['sunset'], '%H:%M')[0]}.\\n\\\r\n",
    "Currently, the weather is {current['weather'][0]['main']} ({current['weather'][0]['description']}).\\n\\\r\n",
    "The temperature is {current['temp']}°C and it feels like {current['feels_like']}°C.\\n\\\r\n",
    "The UV index is {current['uvi']}, humidity is {current['humidity']}%.\\n\\\r\n",
    "The pressure is {current['pressure']} hPa, percentage of cloud cover is {current['clouds']}%\\n\\\r\n",
    "The wind comes from {degrees_to_cardinal(current['wind_deg'])} direction with a speed {current['wind_speed']} m/s.\")"
   ]
  },
  {
   "cell_type": "code",
   "execution_count": 8,
   "metadata": {
    "execution": {
     "iopub.execute_input": "2021-10-15T05:10:35.316558Z",
     "iopub.status.busy": "2021-10-15T05:10:35.315640Z",
     "iopub.status.idle": "2021-10-15T05:10:35.322476Z",
     "shell.execute_reply": "2021-10-15T05:10:35.323141Z"
    }
   },
   "outputs": [],
   "source": [
    "df_hourly = pd.DataFrame(data['hourly'])\r\n",
    "df_daily = pd.DataFrame(data['daily'])"
   ]
  },
  {
   "cell_type": "code",
   "execution_count": 9,
   "metadata": {
    "execution": {
     "iopub.execute_input": "2021-10-15T05:10:35.326188Z",
     "iopub.status.busy": "2021-10-15T05:10:35.325262Z",
     "iopub.status.idle": "2021-10-15T05:10:35.560819Z",
     "shell.execute_reply": "2021-10-15T05:10:35.561184Z"
    }
   },
   "outputs": [
    {
     "data": {
      "image/png": "[encoded data removed]",
      "text/plain": [
       "<Figure size 864x432 with 1 Axes>"
      ]
     },
     "metadata": {
      "needs_background": "light"
     },
     "output_type": "display_data"
    }
   ],
   "source": [
    "fig, ax = plt.subplots(figsize=(12, 6))\r\n",
    "plt.plot(df_hourly.temp, '.-', label='Temperature')\r\n",
    "plt.plot(df_hourly.feels_like, '.-', label='Feels Like')\r\n",
    "ax.set(title='Temperature in future 48 hours', xlabel='Time', ylabel='Temperature')\r\n",
    "ax.set_xticks(list(range(0, len(df_hourly), 2)))\r\n",
    "ax.set_xticklabels([ts2dt(ts, '%m-%d %H:%M')[0] for i, ts in enumerate(df_hourly.dt) if i%2==0], \r\n",
    "                   rotation=45, ha=\"right\")\r\n",
    "ax.locator_params(nbins=15, axis='y')\r\n",
    "plt.legend()\r\n",
    "plt.show()"
   ]
  },
  {
   "cell_type": "code",
   "execution_count": 10,
   "metadata": {
    "execution": {
     "iopub.execute_input": "2021-10-15T05:10:35.572838Z",
     "iopub.status.busy": "2021-10-15T05:10:35.565202Z",
     "iopub.status.idle": "2021-10-15T05:10:35.584755Z",
     "shell.execute_reply": "2021-10-15T05:10:35.584343Z"
    }
   },
   "outputs": [
    {
     "data": {
      "text/html": [
       "<div>\n",
       "<style scoped>\n",
       "    .dataframe tbody tr th:only-of-type {\n",
       "        vertical-align: middle;\n",
       "    }\n",
       "\n",
       "    .dataframe tbody tr th {\n",
       "        vertical-align: top;\n",
       "    }\n",
       "\n",
       "    .dataframe thead th {\n",
       "        text-align: right;\n",
       "    }\n",
       "</style>\n",
       "<table border=\"1\" class=\"dataframe\">\n",
       "  <thead>\n",
       "    <tr style=\"text-align: right;\">\n",
       "      <th></th>\n",
       "      <th>dt</th>\n",
       "      <th>temp</th>\n",
       "      <th>feels_like</th>\n",
       "      <th>pressure</th>\n",
       "      <th>humidity</th>\n",
       "      <th>dew_point</th>\n",
       "      <th>uvi</th>\n",
       "      <th>clouds</th>\n",
       "      <th>visibility</th>\n",
       "      <th>wind_speed</th>\n",
       "      <th>wind_deg</th>\n",
       "      <th>wind_gust</th>\n",
       "      <th>weather</th>\n",
       "      <th>pop</th>\n",
       "      <th>rain</th>\n",
       "    </tr>\n",
       "  </thead>\n",
       "  <tbody>\n",
       "    <tr>\n",
       "      <th>0</th>\n",
       "      <td>1634274000</td>\n",
       "      <td>25.76</td>\n",
       "      <td>26.74</td>\n",
       "      <td>1009</td>\n",
       "      <td>90</td>\n",
       "      <td>23.99</td>\n",
       "      <td>3.22</td>\n",
       "      <td>100</td>\n",
       "      <td>10000</td>\n",
       "      <td>3.36</td>\n",
       "      <td>38</td>\n",
       "      <td>5.12</td>\n",
       "      <td>[{'id': 500, 'main': 'Rain', 'description': 'l...</td>\n",
       "      <td>0.82</td>\n",
       "      <td>{'1h': 0.84}</td>\n",
       "    </tr>\n",
       "    <tr>\n",
       "      <th>1</th>\n",
       "      <td>1634277600</td>\n",
       "      <td>25.41</td>\n",
       "      <td>26.38</td>\n",
       "      <td>1009</td>\n",
       "      <td>91</td>\n",
       "      <td>23.83</td>\n",
       "      <td>2.60</td>\n",
       "      <td>100</td>\n",
       "      <td>10000</td>\n",
       "      <td>3.12</td>\n",
       "      <td>27</td>\n",
       "      <td>4.89</td>\n",
       "      <td>[{'id': 500, 'main': 'Rain', 'description': 'l...</td>\n",
       "      <td>0.87</td>\n",
       "      <td>{'1h': 0.32}</td>\n",
       "    </tr>\n",
       "    <tr>\n",
       "      <th>2</th>\n",
       "      <td>1634281200</td>\n",
       "      <td>25.00</td>\n",
       "      <td>25.96</td>\n",
       "      <td>1009</td>\n",
       "      <td>92</td>\n",
       "      <td>23.61</td>\n",
       "      <td>0.38</td>\n",
       "      <td>100</td>\n",
       "      <td>7549</td>\n",
       "      <td>3.24</td>\n",
       "      <td>38</td>\n",
       "      <td>4.73</td>\n",
       "      <td>[{'id': 500, 'main': 'Rain', 'description': 'l...</td>\n",
       "      <td>0.90</td>\n",
       "      <td>{'1h': 0.86}</td>\n",
       "    </tr>\n",
       "    <tr>\n",
       "      <th>3</th>\n",
       "      <td>1634284800</td>\n",
       "      <td>24.74</td>\n",
       "      <td>25.70</td>\n",
       "      <td>1009</td>\n",
       "      <td>93</td>\n",
       "      <td>23.53</td>\n",
       "      <td>0.18</td>\n",
       "      <td>100</td>\n",
       "      <td>8132</td>\n",
       "      <td>4.76</td>\n",
       "      <td>64</td>\n",
       "      <td>6.90</td>\n",
       "      <td>[{'id': 501, 'main': 'Rain', 'description': 'm...</td>\n",
       "      <td>0.96</td>\n",
       "      <td>{'1h': 3.63}</td>\n",
       "    </tr>\n",
       "    <tr>\n",
       "      <th>4</th>\n",
       "      <td>1634288400</td>\n",
       "      <td>24.43</td>\n",
       "      <td>25.36</td>\n",
       "      <td>1010</td>\n",
       "      <td>93</td>\n",
       "      <td>23.22</td>\n",
       "      <td>0.05</td>\n",
       "      <td>100</td>\n",
       "      <td>10000</td>\n",
       "      <td>3.55</td>\n",
       "      <td>46</td>\n",
       "      <td>5.47</td>\n",
       "      <td>[{'id': 501, 'main': 'Rain', 'description': 'm...</td>\n",
       "      <td>1.00</td>\n",
       "      <td>{'1h': 2.38}</td>\n",
       "    </tr>\n",
       "  </tbody>\n",
       "</table>\n",
       "</div>"
      ],
      "text/plain": [
       "           dt   temp  feels_like  pressure  humidity  dew_point   uvi  clouds  \\\n",
       "0  1634274000  25.76       26.74      1009        90      23.99  3.22     100   \n",
       "1  1634277600  25.41       26.38      1009        91      23.83  2.60     100   \n",
       "2  1634281200  25.00       25.96      1009        92      23.61  0.38     100   \n",
       "3  1634284800  24.74       25.70      1009        93      23.53  0.18     100   \n",
       "4  1634288400  24.43       25.36      1010        93      23.22  0.05     100   \n",
       "\n",
       "   visibility  wind_speed  wind_deg  wind_gust  \\\n",
       "0       10000        3.36        38       5.12   \n",
       "1       10000        3.12        27       4.89   \n",
       "2        7549        3.24        38       4.73   \n",
       "3        8132        4.76        64       6.90   \n",
       "4       10000        3.55        46       5.47   \n",
       "\n",
       "                                             weather   pop          rain  \n",
       "0  [{'id': 500, 'main': 'Rain', 'description': 'l...  0.82  {'1h': 0.84}  \n",
       "1  [{'id': 500, 'main': 'Rain', 'description': 'l...  0.87  {'1h': 0.32}  \n",
       "2  [{'id': 500, 'main': 'Rain', 'description': 'l...  0.90  {'1h': 0.86}  \n",
       "3  [{'id': 501, 'main': 'Rain', 'description': 'm...  0.96  {'1h': 3.63}  \n",
       "4  [{'id': 501, 'main': 'Rain', 'description': 'm...  1.00  {'1h': 2.38}  "
      ]
     },
     "execution_count": 10,
     "metadata": {},
     "output_type": "execute_result"
    }
   ],
   "source": [
    "df_hourly.head()"
   ]
  },
  {
   "cell_type": "code",
   "execution_count": null,
   "metadata": {},
   "outputs": [],
   "source": []
  }
 ],
 "metadata": {
  "interpreter": {
   "hash": "c1b4cfe941b6d2466ad1fb5979e97da9cda8801728c8091b097ab734208fc00c"
  },
  "kernelspec": {
   "display_name": "Python 3.8.3 64-bit ('base': conda)",
   "name": "python3"
  },
  "language_info": {
   "codemirror_mode": {
    "name": "ipython",
    "version": 3
   },
   "file_extension": ".py",
   "mimetype": "text/x-python",
   "name": "python",
   "nbconvert_exporter": "python",
   "pygments_lexer": "ipython3",
   "version": "3.8.12"
  }
 },
 "nbformat": 4,
 "nbformat_minor": 2
}
