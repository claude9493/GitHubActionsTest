{
 "cells": [
  {
   "cell_type": "code",
   "execution_count": 1,
   "metadata": {
    "execution": {
     "iopub.execute_input": "2021-09-14T03:12:07.737359Z",
     "iopub.status.busy": "2021-09-14T03:12:07.732298Z",
     "iopub.status.idle": "2021-09-14T03:12:10.479929Z",
     "shell.execute_reply": "2021-09-14T03:12:10.479353Z"
    }
   },
   "outputs": [],
   "source": [
    "import json, yaml, requests\r\n",
    "from datetime import datetime\r\n",
    "from dateutil import tz\r\n",
    "import pandas as pd\r\n",
    "from PIL import Image\r\n",
    "from io import BytesIO\r\n",
    "import matplotlib.pyplot as plt\r\n",
    "import seaborn\r\n",
    "\r\n",
    "CONFIG_PATH = \"../config/config.yaml\""
   ]
  },
  {
   "cell_type": "code",
   "execution_count": 2,
   "metadata": {
    "execution": {
     "iopub.execute_input": "2021-09-14T03:12:10.484809Z",
     "iopub.status.busy": "2021-09-14T03:12:10.482356Z",
     "iopub.status.idle": "2021-09-14T03:12:10.489777Z",
     "shell.execute_reply": "2021-09-14T03:12:10.489404Z"
    }
   },
   "outputs": [],
   "source": [
    "with open('../newest_ts', 'r') as f:\r\n",
    "    newest_ts = f.read()\r\n",
    "\r\n",
    "data_path = f\"../data/data_{newest_ts}.json\"\r\n",
    "with open(data_path, 'r') as f:\r\n",
    "    data = json.load(f)\r\n",
    "\r\n",
    "with open(CONFIG_PATH, \"r\") as stream:\r\n",
    "    config = yaml.safe_load(stream)\r\n",
    "\r\n",
    "TIME_ZONE = config['time_zone']\r\n",
    "DATETIME_FORMAT = config['dt_format']"
   ]
  },
  {
   "cell_type": "code",
   "execution_count": 3,
   "metadata": {
    "execution": {
     "iopub.execute_input": "2021-09-14T03:12:10.493979Z",
     "iopub.status.busy": "2021-09-14T03:12:10.493487Z",
     "iopub.status.idle": "2021-09-14T03:12:10.510627Z",
     "shell.execute_reply": "2021-09-14T03:12:10.510182Z"
    }
   },
   "outputs": [
    {
     "name": "stdout",
     "output_type": "stream",
     "text": [
      "Recent query happens at 2021-09-14 11:12:04 (CST).\n"
     ]
    }
   ],
   "source": [
    "def ts2dt(ts, format=DATETIME_FORMAT):\r\n",
    "    dt = (datetime.utcfromtimestamp(int(ts))\r\n",
    "                    .replace(tzinfo=tz.tzutc())\r\n",
    "                    # .astimezone(tz.tzlocal())\r\n",
    "                    .astimezone(tz.gettz(TIME_ZONE)))\r\n",
    "    return dt.strftime(format), dt\r\n",
    "\r\n",
    "_, newest_dt = ts2dt(newest_ts)\r\n",
    "print(f\"Recent query happens at {newest_dt.strftime(DATETIME_FORMAT)} ({newest_dt.tzname()}).\")"
   ]
  },
  {
   "cell_type": "code",
   "execution_count": 4,
   "metadata": {
    "execution": {
     "iopub.execute_input": "2021-09-14T03:12:10.515793Z",
     "iopub.status.busy": "2021-09-14T03:12:10.514547Z",
     "iopub.status.idle": "2021-09-14T03:12:10.516371Z",
     "shell.execute_reply": "2021-09-14T03:12:10.516734Z"
    }
   },
   "outputs": [],
   "source": [
    "def degrees_to_cardinal(d):\r\n",
    "  dirs = ['N', 'NNE', 'NE', 'ENE', 'E', 'ESE', 'SE', 'SSE', 'S', 'SSW', 'SW', 'WSW', 'W', 'WNW', 'NW', 'NNW']\r\n",
    "  ix = int(round(d / (360. / len(dirs))))\r\n",
    "  return dirs[ix % len(dirs)]"
   ]
  },
  {
   "cell_type": "code",
   "execution_count": 5,
   "metadata": {
    "execution": {
     "iopub.execute_input": "2021-09-14T03:12:10.520417Z",
     "iopub.status.busy": "2021-09-14T03:12:10.519439Z",
     "iopub.status.idle": "2021-09-14T03:12:10.520935Z",
     "shell.execute_reply": "2021-09-14T03:12:10.521293Z"
    }
   },
   "outputs": [],
   "source": [
    "# data.keys()"
   ]
  },
  {
   "cell_type": "code",
   "execution_count": 6,
   "metadata": {
    "execution": {
     "iopub.execute_input": "2021-09-14T03:12:10.524476Z",
     "iopub.status.busy": "2021-09-14T03:12:10.523662Z",
     "iopub.status.idle": "2021-09-14T03:12:10.525573Z",
     "shell.execute_reply": "2021-09-14T03:12:10.525190Z"
    }
   },
   "outputs": [],
   "source": [
    "# data['current']"
   ]
  },
  {
   "cell_type": "code",
   "execution_count": 7,
   "metadata": {
    "execution": {
     "iopub.execute_input": "2021-09-14T03:12:10.547819Z",
     "iopub.status.busy": "2021-09-14T03:12:10.547344Z",
     "iopub.status.idle": "2021-09-14T03:12:10.938618Z",
     "shell.execute_reply": "2021-09-14T03:12:10.939268Z"
    }
   },
   "outputs": [
    {
     "data": {
      "image/png": "[encoded data removed]",
      "text/plain": [
       "<Figure size 216x216 with 1 Axes>"
      ]
     },
     "metadata": {
      "needs_background": "light"
     },
     "output_type": "display_data"
    },
    {
     "name": "stdout",
     "output_type": "stream",
     "text": [
      "Today, sun rises at 06:09 and sets at 18:28.\n",
      "Currently, the weather is Clouds (overcast clouds).\n",
      "The temperature is 30.83°C and it feels like 37.83°C.\n",
      "The UV index is 8.9, humidity is 79%.\n",
      "The pressure is 1012 hPa, percentage of cloud cover is 91%\n",
      "The wind comes from S direction with a speed 1.39 m/s.\n"
     ]
    }
   ],
   "source": [
    "current = data['current']\r\n",
    "\r\n",
    "fig, ax = plt.subplots(figsize=(3, 3))\r\n",
    "icon = requests.get(f\"http://openweathermap.org/img/wn/{current['weather'][0]['icon']}@2x.png\")\r\n",
    "im = Image.open(BytesIO(icon.content))\r\n",
    "plt.imshow(im)\r\n",
    "ax.set_axis_off()\r\n",
    "plt.show()\r\n",
    "\r\n",
    "print(f\"Today, sun rises at {ts2dt(current['sunrise'], '%H:%M')[0]} \\\r\n",
    "and sets at {ts2dt(current['sunset'], '%H:%M')[0]}.\\n\\\r\n",
    "Currently, the weather is {current['weather'][0]['main']} ({current['weather'][0]['description']}).\\n\\\r\n",
    "The temperature is {current['temp']}°C and it feels like {current['feels_like']}°C.\\n\\\r\n",
    "The UV index is {current['uvi']}, humidity is {current['humidity']}%.\\n\\\r\n",
    "The pressure is {current['pressure']} hPa, percentage of cloud cover is {current['clouds']}%\\n\\\r\n",
    "The wind comes from {degrees_to_cardinal(current['wind_deg'])} direction with a speed {current['wind_speed']} m/s.\")"
   ]
  },
  {
   "cell_type": "code",
   "execution_count": 8,
   "metadata": {
    "execution": {
     "iopub.execute_input": "2021-09-14T03:12:10.942248Z",
     "iopub.status.busy": "2021-09-14T03:12:10.941800Z",
     "iopub.status.idle": "2021-09-14T03:12:10.948016Z",
     "shell.execute_reply": "2021-09-14T03:12:10.948631Z"
    }
   },
   "outputs": [],
   "source": [
    "df_hourly = pd.DataFrame(data['hourly'])\r\n",
    "df_daily = pd.DataFrame(data['daily'])"
   ]
  },
  {
   "cell_type": "code",
   "execution_count": 9,
   "metadata": {
    "execution": {
     "iopub.execute_input": "2021-09-14T03:12:10.951597Z",
     "iopub.status.busy": "2021-09-14T03:12:10.950696Z",
     "iopub.status.idle": "2021-09-14T03:12:11.189230Z",
     "shell.execute_reply": "2021-09-14T03:12:11.188488Z"
    }
   },
   "outputs": [
    {
     "data": {
      "image/png": "[encoded data removed]",
      "text/plain": [
       "<Figure size 864x432 with 1 Axes>"
      ]
     },
     "metadata": {
      "needs_background": "light"
     },
     "output_type": "display_data"
    }
   ],
   "source": [
    "fig, ax = plt.subplots(figsize=(12, 6))\r\n",
    "plt.plot(df_hourly.temp, '.-', label='Temperature')\r\n",
    "plt.plot(df_hourly.feels_like, '.-', label='Feels Like')\r\n",
    "ax.set(title='Temperature in future 48 hours', xlabel='Time', ylabel='Temperature')\r\n",
    "ax.set_xticks(list(range(0, len(df_hourly), 2)))\r\n",
    "ax.set_xticklabels([ts2dt(ts, '%m-%d %H:%M')[0] for i, ts in enumerate(df_hourly.dt) if i%2==0], \r\n",
    "                   rotation=45, ha=\"right\")\r\n",
    "ax.locator_params(nbins=15, axis='y')\r\n",
    "plt.legend()\r\n",
    "plt.show()"
   ]
  },
  {
   "cell_type": "code",
   "execution_count": 10,
   "metadata": {
    "execution": {
     "iopub.execute_input": "2021-09-14T03:12:11.192917Z",
     "iopub.status.busy": "2021-09-14T03:12:11.191274Z",
     "iopub.status.idle": "2021-09-14T03:12:11.209741Z",
     "shell.execute_reply": "2021-09-14T03:12:11.210112Z"
    }
   },
   "outputs": [
    {
     "data": {
      "text/html": [
       "<div>\n",
       "<style scoped>\n",
       "    .dataframe tbody tr th:only-of-type {\n",
       "        vertical-align: middle;\n",
       "    }\n",
       "\n",
       "    .dataframe tbody tr th {\n",
       "        vertical-align: top;\n",
       "    }\n",
       "\n",
       "    .dataframe thead th {\n",
       "        text-align: right;\n",
       "    }\n",
       "</style>\n",
       "<table border=\"1\" class=\"dataframe\">\n",
       "  <thead>\n",
       "    <tr style=\"text-align: right;\">\n",
       "      <th></th>\n",
       "      <th>dt</th>\n",
       "      <th>temp</th>\n",
       "      <th>feels_like</th>\n",
       "      <th>pressure</th>\n",
       "      <th>humidity</th>\n",
       "      <th>dew_point</th>\n",
       "      <th>uvi</th>\n",
       "      <th>clouds</th>\n",
       "      <th>visibility</th>\n",
       "      <th>wind_speed</th>\n",
       "      <th>wind_deg</th>\n",
       "      <th>wind_gust</th>\n",
       "      <th>weather</th>\n",
       "      <th>pop</th>\n",
       "      <th>rain</th>\n",
       "    </tr>\n",
       "  </thead>\n",
       "  <tbody>\n",
       "    <tr>\n",
       "      <th>0</th>\n",
       "      <td>1631588400</td>\n",
       "      <td>30.83</td>\n",
       "      <td>37.83</td>\n",
       "      <td>1012</td>\n",
       "      <td>79</td>\n",
       "      <td>26.76</td>\n",
       "      <td>8.90</td>\n",
       "      <td>91</td>\n",
       "      <td>10000</td>\n",
       "      <td>1.39</td>\n",
       "      <td>174</td>\n",
       "      <td>1.34</td>\n",
       "      <td>[{'id': 500, 'main': 'Rain', 'description': 'l...</td>\n",
       "      <td>0.48</td>\n",
       "      <td>{'1h': 0.16}</td>\n",
       "    </tr>\n",
       "    <tr>\n",
       "      <th>1</th>\n",
       "      <td>1631592000</td>\n",
       "      <td>30.99</td>\n",
       "      <td>37.99</td>\n",
       "      <td>1012</td>\n",
       "      <td>75</td>\n",
       "      <td>26.03</td>\n",
       "      <td>9.86</td>\n",
       "      <td>91</td>\n",
       "      <td>10000</td>\n",
       "      <td>1.52</td>\n",
       "      <td>188</td>\n",
       "      <td>1.49</td>\n",
       "      <td>[{'id': 804, 'main': 'Clouds', 'description': ...</td>\n",
       "      <td>0.40</td>\n",
       "      <td>NaN</td>\n",
       "    </tr>\n",
       "    <tr>\n",
       "      <th>2</th>\n",
       "      <td>1631595600</td>\n",
       "      <td>31.19</td>\n",
       "      <td>38.19</td>\n",
       "      <td>1012</td>\n",
       "      <td>72</td>\n",
       "      <td>25.54</td>\n",
       "      <td>9.69</td>\n",
       "      <td>93</td>\n",
       "      <td>10000</td>\n",
       "      <td>2.29</td>\n",
       "      <td>193</td>\n",
       "      <td>1.98</td>\n",
       "      <td>[{'id': 500, 'main': 'Rain', 'description': 'l...</td>\n",
       "      <td>0.41</td>\n",
       "      <td>{'1h': 0.42}</td>\n",
       "    </tr>\n",
       "    <tr>\n",
       "      <th>3</th>\n",
       "      <td>1631599200</td>\n",
       "      <td>31.27</td>\n",
       "      <td>38.02</td>\n",
       "      <td>1011</td>\n",
       "      <td>69</td>\n",
       "      <td>24.90</td>\n",
       "      <td>7.97</td>\n",
       "      <td>94</td>\n",
       "      <td>10000</td>\n",
       "      <td>2.75</td>\n",
       "      <td>203</td>\n",
       "      <td>2.25</td>\n",
       "      <td>[{'id': 804, 'main': 'Clouds', 'description': ...</td>\n",
       "      <td>0.41</td>\n",
       "      <td>NaN</td>\n",
       "    </tr>\n",
       "    <tr>\n",
       "      <th>4</th>\n",
       "      <td>1631602800</td>\n",
       "      <td>31.42</td>\n",
       "      <td>37.48</td>\n",
       "      <td>1010</td>\n",
       "      <td>66</td>\n",
       "      <td>24.30</td>\n",
       "      <td>5.17</td>\n",
       "      <td>98</td>\n",
       "      <td>10000</td>\n",
       "      <td>3.07</td>\n",
       "      <td>205</td>\n",
       "      <td>2.39</td>\n",
       "      <td>[{'id': 804, 'main': 'Clouds', 'description': ...</td>\n",
       "      <td>0.16</td>\n",
       "      <td>NaN</td>\n",
       "    </tr>\n",
       "  </tbody>\n",
       "</table>\n",
       "</div>"
      ],
      "text/plain": [
       "           dt   temp  feels_like  pressure  humidity  dew_point   uvi  clouds  \\\n",
       "0  1631588400  30.83       37.83      1012        79      26.76  8.90      91   \n",
       "1  1631592000  30.99       37.99      1012        75      26.03  9.86      91   \n",
       "2  1631595600  31.19       38.19      1012        72      25.54  9.69      93   \n",
       "3  1631599200  31.27       38.02      1011        69      24.90  7.97      94   \n",
       "4  1631602800  31.42       37.48      1010        66      24.30  5.17      98   \n",
       "\n",
       "   visibility  wind_speed  wind_deg  wind_gust  \\\n",
       "0       10000        1.39       174       1.34   \n",
       "1       10000        1.52       188       1.49   \n",
       "2       10000        2.29       193       1.98   \n",
       "3       10000        2.75       203       2.25   \n",
       "4       10000        3.07       205       2.39   \n",
       "\n",
       "                                             weather   pop          rain  \n",
       "0  [{'id': 500, 'main': 'Rain', 'description': 'l...  0.48  {'1h': 0.16}  \n",
       "1  [{'id': 804, 'main': 'Clouds', 'description': ...  0.40           NaN  \n",
       "2  [{'id': 500, 'main': 'Rain', 'description': 'l...  0.41  {'1h': 0.42}  \n",
       "3  [{'id': 804, 'main': 'Clouds', 'description': ...  0.41           NaN  \n",
       "4  [{'id': 804, 'main': 'Clouds', 'description': ...  0.16           NaN  "
      ]
     },
     "execution_count": 10,
     "metadata": {},
     "output_type": "execute_result"
    }
   ],
   "source": [
    "df_hourly.head()"
   ]
  },
  {
   "cell_type": "code",
   "execution_count": null,
   "metadata": {},
   "outputs": [],
   "source": []
  }
 ],
 "metadata": {
  "interpreter": {
   "hash": "c1b4cfe941b6d2466ad1fb5979e97da9cda8801728c8091b097ab734208fc00c"
  },
  "kernelspec": {
   "display_name": "Python 3.8.3 64-bit ('base': conda)",
   "name": "python3"
  },
  "language_info": {
   "codemirror_mode": {
    "name": "ipython",
    "version": 3
   },
   "file_extension": ".py",
   "mimetype": "text/x-python",
   "name": "python",
   "nbconvert_exporter": "python",
   "pygments_lexer": "ipython3",
   "version": "3.8.11"
  }
 },
 "nbformat": 4,
 "nbformat_minor": 2
}
