{
 "cells": [
  {
   "cell_type": "code",
   "execution_count": 1,
   "metadata": {
    "execution": {
     "iopub.execute_input": "2021-09-29T21:10:02.818514Z",
     "iopub.status.busy": "2021-09-29T21:10:02.817895Z",
     "iopub.status.idle": "2021-09-29T21:10:04.957723Z",
     "shell.execute_reply": "2021-09-29T21:10:04.958120Z"
    }
   },
   "outputs": [],
   "source": [
    "import json, yaml, requests\r\n",
    "from datetime import datetime\r\n",
    "from dateutil import tz\r\n",
    "import pandas as pd\r\n",
    "from PIL import Image\r\n",
    "from io import BytesIO\r\n",
    "import matplotlib.pyplot as plt\r\n",
    "import seaborn\r\n",
    "\r\n",
    "CONFIG_PATH = \"../config/config.yaml\""
   ]
  },
  {
   "cell_type": "code",
   "execution_count": 2,
   "metadata": {
    "execution": {
     "iopub.execute_input": "2021-09-29T21:10:04.962654Z",
     "iopub.status.busy": "2021-09-29T21:10:04.960506Z",
     "iopub.status.idle": "2021-09-29T21:10:04.967532Z",
     "shell.execute_reply": "2021-09-29T21:10:04.967131Z"
    }
   },
   "outputs": [],
   "source": [
    "with open('../newest_ts', 'r') as f:\r\n",
    "    newest_ts = f.read()\r\n",
    "\r\n",
    "data_path = f\"../data/data_{newest_ts}.json\"\r\n",
    "with open(data_path, 'r') as f:\r\n",
    "    data = json.load(f)\r\n",
    "\r\n",
    "with open(CONFIG_PATH, \"r\") as stream:\r\n",
    "    config = yaml.safe_load(stream)\r\n",
    "\r\n",
    "TIME_ZONE = config['time_zone']\r\n",
    "DATETIME_FORMAT = config['dt_format']"
   ]
  },
  {
   "cell_type": "code",
   "execution_count": 3,
   "metadata": {
    "execution": {
     "iopub.execute_input": "2021-09-29T21:10:04.971777Z",
     "iopub.status.busy": "2021-09-29T21:10:04.971317Z",
     "iopub.status.idle": "2021-09-29T21:10:04.984322Z",
     "shell.execute_reply": "2021-09-29T21:10:04.984692Z"
    }
   },
   "outputs": [
    {
     "name": "stdout",
     "output_type": "stream",
     "text": [
      "Recent query happens at 2021-09-30 05:10:00 (CST).\n"
     ]
    }
   ],
   "source": [
    "def ts2dt(ts, format=DATETIME_FORMAT):\r\n",
    "    dt = (datetime.utcfromtimestamp(int(ts))\r\n",
    "                    .replace(tzinfo=tz.tzutc())\r\n",
    "                    # .astimezone(tz.tzlocal())\r\n",
    "                    .astimezone(tz.gettz(TIME_ZONE)))\r\n",
    "    return dt.strftime(format), dt\r\n",
    "\r\n",
    "_, newest_dt = ts2dt(newest_ts)\r\n",
    "print(f\"Recent query happens at {newest_dt.strftime(DATETIME_FORMAT)} ({newest_dt.tzname()}).\")"
   ]
  },
  {
   "cell_type": "code",
   "execution_count": 4,
   "metadata": {
    "execution": {
     "iopub.execute_input": "2021-09-29T21:10:04.989708Z",
     "iopub.status.busy": "2021-09-29T21:10:04.988574Z",
     "iopub.status.idle": "2021-09-29T21:10:04.990232Z",
     "shell.execute_reply": "2021-09-29T21:10:04.990622Z"
    }
   },
   "outputs": [],
   "source": [
    "def degrees_to_cardinal(d):\r\n",
    "  dirs = ['N', 'NNE', 'NE', 'ENE', 'E', 'ESE', 'SE', 'SSE', 'S', 'SSW', 'SW', 'WSW', 'W', 'WNW', 'NW', 'NNW']\r\n",
    "  ix = int(round(d / (360. / len(dirs))))\r\n",
    "  return dirs[ix % len(dirs)]"
   ]
  },
  {
   "cell_type": "code",
   "execution_count": 5,
   "metadata": {
    "execution": {
     "iopub.execute_input": "2021-09-29T21:10:04.994414Z",
     "iopub.status.busy": "2021-09-29T21:10:04.993397Z",
     "iopub.status.idle": "2021-09-29T21:10:04.994934Z",
     "shell.execute_reply": "2021-09-29T21:10:04.995294Z"
    }
   },
   "outputs": [],
   "source": [
    "# data.keys()"
   ]
  },
  {
   "cell_type": "code",
   "execution_count": 6,
   "metadata": {
    "execution": {
     "iopub.execute_input": "2021-09-29T21:10:04.998825Z",
     "iopub.status.busy": "2021-09-29T21:10:04.997800Z",
     "iopub.status.idle": "2021-09-29T21:10:04.999344Z",
     "shell.execute_reply": "2021-09-29T21:10:04.999705Z"
    }
   },
   "outputs": [],
   "source": [
    "# data['current']"
   ]
  },
  {
   "cell_type": "code",
   "execution_count": 7,
   "metadata": {
    "execution": {
     "iopub.execute_input": "2021-09-29T21:10:05.015901Z",
     "iopub.status.busy": "2021-09-29T21:10:05.015426Z",
     "iopub.status.idle": "2021-09-29T21:10:05.546633Z",
     "shell.execute_reply": "2021-09-29T21:10:05.547322Z"
    }
   },
   "outputs": [
    {
     "data": {
      "image/png": "[encoded data removed]",
      "text/plain": [
       "<Figure size 216x216 with 1 Axes>"
      ]
     },
     "metadata": {
      "needs_background": "light"
     },
     "output_type": "display_data"
    },
    {
     "name": "stdout",
     "output_type": "stream",
     "text": [
      "Today, sun rises at 06:13 and sets at 18:12.\n",
      "Currently, the weather is Clear (clear sky).\n",
      "The temperature is 28.65°C and it feels like 35.43°C.\n",
      "The UV index is 0, humidity is 88%.\n",
      "The pressure is 1006 hPa, percentage of cloud cover is 3%\n",
      "The wind comes from WSW direction with a speed 1.99 m/s.\n"
     ]
    }
   ],
   "source": [
    "current = data['current']\r\n",
    "\r\n",
    "fig, ax = plt.subplots(figsize=(3, 3))\r\n",
    "icon = requests.get(f\"http://openweathermap.org/img/wn/{current['weather'][0]['icon']}@2x.png\")\r\n",
    "im = Image.open(BytesIO(icon.content))\r\n",
    "plt.imshow(im)\r\n",
    "ax.set_axis_off()\r\n",
    "plt.show()\r\n",
    "\r\n",
    "print(f\"Today, sun rises at {ts2dt(current['sunrise'], '%H:%M')[0]} \\\r\n",
    "and sets at {ts2dt(current['sunset'], '%H:%M')[0]}.\\n\\\r\n",
    "Currently, the weather is {current['weather'][0]['main']} ({current['weather'][0]['description']}).\\n\\\r\n",
    "The temperature is {current['temp']}°C and it feels like {current['feels_like']}°C.\\n\\\r\n",
    "The UV index is {current['uvi']}, humidity is {current['humidity']}%.\\n\\\r\n",
    "The pressure is {current['pressure']} hPa, percentage of cloud cover is {current['clouds']}%\\n\\\r\n",
    "The wind comes from {degrees_to_cardinal(current['wind_deg'])} direction with a speed {current['wind_speed']} m/s.\")"
   ]
  },
  {
   "cell_type": "code",
   "execution_count": 8,
   "metadata": {
    "execution": {
     "iopub.execute_input": "2021-09-29T21:10:05.550561Z",
     "iopub.status.busy": "2021-09-29T21:10:05.549604Z",
     "iopub.status.idle": "2021-09-29T21:10:05.556406Z",
     "shell.execute_reply": "2021-09-29T21:10:05.557047Z"
    }
   },
   "outputs": [],
   "source": [
    "df_hourly = pd.DataFrame(data['hourly'])\r\n",
    "df_daily = pd.DataFrame(data['daily'])"
   ]
  },
  {
   "cell_type": "code",
   "execution_count": 9,
   "metadata": {
    "execution": {
     "iopub.execute_input": "2021-09-29T21:10:05.561951Z",
     "iopub.status.busy": "2021-09-29T21:10:05.559186Z",
     "iopub.status.idle": "2021-09-29T21:10:05.802923Z",
     "shell.execute_reply": "2021-09-29T21:10:05.802442Z"
    }
   },
   "outputs": [
    {
     "data": {
      "image/png": "[encoded data removed]",
      "text/plain": [
       "<Figure size 864x432 with 1 Axes>"
      ]
     },
     "metadata": {
      "needs_background": "light"
     },
     "output_type": "display_data"
    }
   ],
   "source": [
    "fig, ax = plt.subplots(figsize=(12, 6))\r\n",
    "plt.plot(df_hourly.temp, '.-', label='Temperature')\r\n",
    "plt.plot(df_hourly.feels_like, '.-', label='Feels Like')\r\n",
    "ax.set(title='Temperature in future 48 hours', xlabel='Time', ylabel='Temperature')\r\n",
    "ax.set_xticks(list(range(0, len(df_hourly), 2)))\r\n",
    "ax.set_xticklabels([ts2dt(ts, '%m-%d %H:%M')[0] for i, ts in enumerate(df_hourly.dt) if i%2==0], \r\n",
    "                   rotation=45, ha=\"right\")\r\n",
    "ax.locator_params(nbins=15, axis='y')\r\n",
    "plt.legend()\r\n",
    "plt.show()"
   ]
  },
  {
   "cell_type": "code",
   "execution_count": 10,
   "metadata": {
    "execution": {
     "iopub.execute_input": "2021-09-29T21:10:05.814007Z",
     "iopub.status.busy": "2021-09-29T21:10:05.806991Z",
     "iopub.status.idle": "2021-09-29T21:10:05.824425Z",
     "shell.execute_reply": "2021-09-29T21:10:05.824025Z"
    }
   },
   "outputs": [
    {
     "data": {
      "text/html": [
       "<div>\n",
       "<style scoped>\n",
       "    .dataframe tbody tr th:only-of-type {\n",
       "        vertical-align: middle;\n",
       "    }\n",
       "\n",
       "    .dataframe tbody tr th {\n",
       "        vertical-align: top;\n",
       "    }\n",
       "\n",
       "    .dataframe thead th {\n",
       "        text-align: right;\n",
       "    }\n",
       "</style>\n",
       "<table border=\"1\" class=\"dataframe\">\n",
       "  <thead>\n",
       "    <tr style=\"text-align: right;\">\n",
       "      <th></th>\n",
       "      <th>dt</th>\n",
       "      <th>temp</th>\n",
       "      <th>feels_like</th>\n",
       "      <th>pressure</th>\n",
       "      <th>humidity</th>\n",
       "      <th>dew_point</th>\n",
       "      <th>uvi</th>\n",
       "      <th>clouds</th>\n",
       "      <th>visibility</th>\n",
       "      <th>wind_speed</th>\n",
       "      <th>wind_deg</th>\n",
       "      <th>wind_gust</th>\n",
       "      <th>weather</th>\n",
       "      <th>pop</th>\n",
       "      <th>rain</th>\n",
       "    </tr>\n",
       "  </thead>\n",
       "  <tbody>\n",
       "    <tr>\n",
       "      <th>0</th>\n",
       "      <td>1632949200</td>\n",
       "      <td>28.65</td>\n",
       "      <td>35.43</td>\n",
       "      <td>1006</td>\n",
       "      <td>88</td>\n",
       "      <td>26.46</td>\n",
       "      <td>0.00</td>\n",
       "      <td>3</td>\n",
       "      <td>10000</td>\n",
       "      <td>1.99</td>\n",
       "      <td>257</td>\n",
       "      <td>2.17</td>\n",
       "      <td>[{'id': 800, 'main': 'Clear', 'description': '...</td>\n",
       "      <td>0.04</td>\n",
       "      <td>NaN</td>\n",
       "    </tr>\n",
       "    <tr>\n",
       "      <th>1</th>\n",
       "      <td>1632952800</td>\n",
       "      <td>28.43</td>\n",
       "      <td>34.33</td>\n",
       "      <td>1006</td>\n",
       "      <td>86</td>\n",
       "      <td>25.86</td>\n",
       "      <td>0.00</td>\n",
       "      <td>3</td>\n",
       "      <td>10000</td>\n",
       "      <td>1.91</td>\n",
       "      <td>260</td>\n",
       "      <td>2.15</td>\n",
       "      <td>[{'id': 800, 'main': 'Clear', 'description': '...</td>\n",
       "      <td>0.04</td>\n",
       "      <td>NaN</td>\n",
       "    </tr>\n",
       "    <tr>\n",
       "      <th>2</th>\n",
       "      <td>1632956400</td>\n",
       "      <td>28.35</td>\n",
       "      <td>33.90</td>\n",
       "      <td>1007</td>\n",
       "      <td>85</td>\n",
       "      <td>25.58</td>\n",
       "      <td>0.17</td>\n",
       "      <td>3</td>\n",
       "      <td>10000</td>\n",
       "      <td>2.07</td>\n",
       "      <td>264</td>\n",
       "      <td>2.43</td>\n",
       "      <td>[{'id': 800, 'main': 'Clear', 'description': '...</td>\n",
       "      <td>0.00</td>\n",
       "      <td>NaN</td>\n",
       "    </tr>\n",
       "    <tr>\n",
       "      <th>3</th>\n",
       "      <td>1632960000</td>\n",
       "      <td>28.71</td>\n",
       "      <td>34.15</td>\n",
       "      <td>1008</td>\n",
       "      <td>81</td>\n",
       "      <td>25.12</td>\n",
       "      <td>1.03</td>\n",
       "      <td>3</td>\n",
       "      <td>10000</td>\n",
       "      <td>2.13</td>\n",
       "      <td>264</td>\n",
       "      <td>2.50</td>\n",
       "      <td>[{'id': 800, 'main': 'Clear', 'description': '...</td>\n",
       "      <td>0.04</td>\n",
       "      <td>NaN</td>\n",
       "    </tr>\n",
       "    <tr>\n",
       "      <th>4</th>\n",
       "      <td>1632963600</td>\n",
       "      <td>29.35</td>\n",
       "      <td>34.80</td>\n",
       "      <td>1009</td>\n",
       "      <td>76</td>\n",
       "      <td>24.68</td>\n",
       "      <td>3.01</td>\n",
       "      <td>1</td>\n",
       "      <td>10000</td>\n",
       "      <td>2.15</td>\n",
       "      <td>251</td>\n",
       "      <td>2.31</td>\n",
       "      <td>[{'id': 500, 'main': 'Rain', 'description': 'l...</td>\n",
       "      <td>0.36</td>\n",
       "      <td>{'1h': 0.16}</td>\n",
       "    </tr>\n",
       "  </tbody>\n",
       "</table>\n",
       "</div>"
      ],
      "text/plain": [
       "           dt   temp  feels_like  pressure  humidity  dew_point   uvi  clouds  \\\n",
       "0  1632949200  28.65       35.43      1006        88      26.46  0.00       3   \n",
       "1  1632952800  28.43       34.33      1006        86      25.86  0.00       3   \n",
       "2  1632956400  28.35       33.90      1007        85      25.58  0.17       3   \n",
       "3  1632960000  28.71       34.15      1008        81      25.12  1.03       3   \n",
       "4  1632963600  29.35       34.80      1009        76      24.68  3.01       1   \n",
       "\n",
       "   visibility  wind_speed  wind_deg  wind_gust  \\\n",
       "0       10000        1.99       257       2.17   \n",
       "1       10000        1.91       260       2.15   \n",
       "2       10000        2.07       264       2.43   \n",
       "3       10000        2.13       264       2.50   \n",
       "4       10000        2.15       251       2.31   \n",
       "\n",
       "                                             weather   pop          rain  \n",
       "0  [{'id': 800, 'main': 'Clear', 'description': '...  0.04           NaN  \n",
       "1  [{'id': 800, 'main': 'Clear', 'description': '...  0.04           NaN  \n",
       "2  [{'id': 800, 'main': 'Clear', 'description': '...  0.00           NaN  \n",
       "3  [{'id': 800, 'main': 'Clear', 'description': '...  0.04           NaN  \n",
       "4  [{'id': 500, 'main': 'Rain', 'description': 'l...  0.36  {'1h': 0.16}  "
      ]
     },
     "execution_count": 10,
     "metadata": {},
     "output_type": "execute_result"
    }
   ],
   "source": [
    "df_hourly.head()"
   ]
  },
  {
   "cell_type": "code",
   "execution_count": null,
   "metadata": {},
   "outputs": [],
   "source": []
  }
 ],
 "metadata": {
  "interpreter": {
   "hash": "c1b4cfe941b6d2466ad1fb5979e97da9cda8801728c8091b097ab734208fc00c"
  },
  "kernelspec": {
   "display_name": "Python 3.8.3 64-bit ('base': conda)",
   "name": "python3"
  },
  "language_info": {
   "codemirror_mode": {
    "name": "ipython",
    "version": 3
   },
   "file_extension": ".py",
   "mimetype": "text/x-python",
   "name": "python",
   "nbconvert_exporter": "python",
   "pygments_lexer": "ipython3",
   "version": "3.8.12"
  }
 },
 "nbformat": 4,
 "nbformat_minor": 2
}
