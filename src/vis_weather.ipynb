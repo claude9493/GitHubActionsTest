{
 "cells": [
  {
   "cell_type": "code",
   "execution_count": 1,
   "metadata": {
    "execution": {
     "iopub.execute_input": "2021-09-08T01:56:40.932471Z",
     "iopub.status.busy": "2021-09-08T01:56:40.926114Z",
     "iopub.status.idle": "2021-09-08T01:56:42.345238Z",
     "shell.execute_reply": "2021-09-08T01:56:42.344172Z"
    }
   },
   "outputs": [],
   "source": [
    "import json, yaml, requests\r\n",
    "from datetime import datetime\r\n",
    "from dateutil import tz\r\n",
    "import pandas as pd\r\n",
    "from PIL import Image\r\n",
    "from io import BytesIO\r\n",
    "import matplotlib.pyplot as plt\r\n",
    "import seaborn\r\n",
    "\r\n",
    "CONFIG_PATH = \"../config/config.yaml\""
   ]
  },
  {
   "cell_type": "code",
   "execution_count": 2,
   "metadata": {
    "execution": {
     "iopub.execute_input": "2021-09-08T01:56:42.354534Z",
     "iopub.status.busy": "2021-09-08T01:56:42.351046Z",
     "iopub.status.idle": "2021-09-08T01:56:42.357213Z",
     "shell.execute_reply": "2021-09-08T01:56:42.357722Z"
    }
   },
   "outputs": [],
   "source": [
    "with open('../newest_ts', 'r') as f:\r\n",
    "    newest_ts = f.read()\r\n",
    "\r\n",
    "data_path = f\"../data/data_{newest_ts}.json\"\r\n",
    "with open(data_path, 'r') as f:\r\n",
    "    data = json.load(f)\r\n",
    "\r\n",
    "with open(CONFIG_PATH, \"r\") as stream:\r\n",
    "    config = yaml.safe_load(stream)\r\n",
    "\r\n",
    "TIME_ZONE = config['time_zone']\r\n",
    "DATETIME_FORMAT = config['dt_format']"
   ]
  },
  {
   "cell_type": "code",
   "execution_count": 3,
   "metadata": {
    "execution": {
     "iopub.execute_input": "2021-09-08T01:56:42.363869Z",
     "iopub.status.busy": "2021-09-08T01:56:42.362144Z",
     "iopub.status.idle": "2021-09-08T01:56:42.369801Z",
     "shell.execute_reply": "2021-09-08T01:56:42.368985Z"
    }
   },
   "outputs": [
    {
     "name": "stdout",
     "output_type": "stream",
     "text": [
      "Recent query happens at 2021-09-08 09:56:37 (CST).\n"
     ]
    }
   ],
   "source": [
    "def ts2dt(ts, format=DATETIME_FORMAT):\r\n",
    "    dt = (datetime.utcfromtimestamp(int(ts))\r\n",
    "                    .replace(tzinfo=tz.tzutc())\r\n",
    "                    # .astimezone(tz.tzlocal())\r\n",
    "                    .astimezone(tz.gettz(TIME_ZONE)))\r\n",
    "    return dt.strftime(format), dt\r\n",
    "\r\n",
    "_, newest_dt = ts2dt(newest_ts)\r\n",
    "print(f\"Recent query happens at {newest_dt.strftime(DATETIME_FORMAT)} ({newest_dt.tzname()}).\")"
   ]
  },
  {
   "cell_type": "code",
   "execution_count": 4,
   "metadata": {
    "execution": {
     "iopub.execute_input": "2021-09-08T01:56:42.374752Z",
     "iopub.status.busy": "2021-09-08T01:56:42.374163Z",
     "iopub.status.idle": "2021-09-08T01:56:42.377724Z",
     "shell.execute_reply": "2021-09-08T01:56:42.378192Z"
    }
   },
   "outputs": [],
   "source": [
    "def degrees_to_cardinal(d):\r\n",
    "  dirs = ['N', 'NNE', 'NE', 'ENE', 'E', 'ESE', 'SE', 'SSE', 'S', 'SSW', 'SW', 'WSW', 'W', 'WNW', 'NW', 'NNW']\r\n",
    "  ix = int(round(d / (360. / len(dirs))))\r\n",
    "  return dirs[ix % len(dirs)]"
   ]
  },
  {
   "cell_type": "code",
   "execution_count": 5,
   "metadata": {
    "execution": {
     "iopub.execute_input": "2021-09-08T01:56:42.382062Z",
     "iopub.status.busy": "2021-09-08T01:56:42.381490Z",
     "iopub.status.idle": "2021-09-08T01:56:42.385526Z",
     "shell.execute_reply": "2021-09-08T01:56:42.384967Z"
    }
   },
   "outputs": [],
   "source": [
    "# data.keys()"
   ]
  },
  {
   "cell_type": "code",
   "execution_count": 6,
   "metadata": {
    "execution": {
     "iopub.execute_input": "2021-09-08T01:56:42.390031Z",
     "iopub.status.busy": "2021-09-08T01:56:42.388682Z",
     "iopub.status.idle": "2021-09-08T01:56:42.390736Z",
     "shell.execute_reply": "2021-09-08T01:56:42.391192Z"
    }
   },
   "outputs": [],
   "source": [
    "# data['current']"
   ]
  },
  {
   "cell_type": "code",
   "execution_count": 7,
   "metadata": {
    "execution": {
     "iopub.execute_input": "2021-09-08T01:56:42.413232Z",
     "iopub.status.busy": "2021-09-08T01:56:42.412627Z",
     "iopub.status.idle": "2021-09-08T01:56:42.998556Z",
     "shell.execute_reply": "2021-09-08T01:56:42.999434Z"
    }
   },
   "outputs": [
    {
     "data": {
      "image/png": "[encoded data removed]",
      "text/plain": [
       "<Figure size 216x216 with 1 Axes>"
      ]
     },
     "metadata": {
      "needs_background": "light"
     },
     "output_type": "display_data"
    },
    {
     "name": "stdout",
     "output_type": "stream",
     "text": [
      "Today, sun rises at 06:07 and sets at 18:33.\n",
      "Currently, the weather is Clear (clear sky).\n",
      "The temperature is 31.42°C and it feels like 38.42°C.\n",
      "The UV index is 6.52, humidity is 70%.\n",
      "The pressure is 1010 hPa, percentage of cloud cover is 6%\n",
      "The wind comes from ENE direction with a speed 3.16 m/s.\n"
     ]
    }
   ],
   "source": [
    "current = data['current']\r\n",
    "\r\n",
    "fig, ax = plt.subplots(figsize=(3, 3))\r\n",
    "icon = requests.get(f\"http://openweathermap.org/img/wn/{current['weather'][0]['icon']}@2x.png\")\r\n",
    "im = Image.open(BytesIO(icon.content))\r\n",
    "plt.imshow(im)\r\n",
    "ax.set_axis_off()\r\n",
    "plt.show()\r\n",
    "\r\n",
    "print(f\"Today, sun rises at {ts2dt(current['sunrise'], '%H:%M')[0]} \\\r\n",
    "and sets at {ts2dt(current['sunset'], '%H:%M')[0]}.\\n\\\r\n",
    "Currently, the weather is {current['weather'][0]['main']} ({current['weather'][0]['description']}).\\n\\\r\n",
    "The temperature is {current['temp']}°C and it feels like {current['feels_like']}°C.\\n\\\r\n",
    "The UV index is {current['uvi']}, humidity is {current['humidity']}%.\\n\\\r\n",
    "The pressure is {current['pressure']} hPa, percentage of cloud cover is {current['clouds']}%\\n\\\r\n",
    "The wind comes from {degrees_to_cardinal(current['wind_deg'])} direction with a speed {current['wind_speed']} m/s.\")"
   ]
  },
  {
   "cell_type": "code",
   "execution_count": 8,
   "metadata": {
    "execution": {
     "iopub.execute_input": "2021-09-08T01:56:43.008120Z",
     "iopub.status.busy": "2021-09-08T01:56:43.002432Z",
     "iopub.status.idle": "2021-09-08T01:56:43.011874Z",
     "shell.execute_reply": "2021-09-08T01:56:43.012606Z"
    }
   },
   "outputs": [],
   "source": [
    "df_hourly = pd.DataFrame(data['hourly'])\r\n",
    "df_daily = pd.DataFrame(data['daily'])"
   ]
  },
  {
   "cell_type": "code",
   "execution_count": 9,
   "metadata": {
    "execution": {
     "iopub.execute_input": "2021-09-08T01:56:43.024330Z",
     "iopub.status.busy": "2021-09-08T01:56:43.021305Z",
     "iopub.status.idle": "2021-09-08T01:56:43.379516Z",
     "shell.execute_reply": "2021-09-08T01:56:43.378941Z"
    }
   },
   "outputs": [
    {
     "data": {
      "image/png": "[encoded data removed]",
      "text/plain": [
       "<Figure size 864x432 with 1 Axes>"
      ]
     },
     "metadata": {
      "needs_background": "light"
     },
     "output_type": "display_data"
    }
   ],
   "source": [
    "fig, ax = plt.subplots(figsize=(12, 6))\r\n",
    "plt.plot(df_hourly.temp, '.-', label='Temperature')\r\n",
    "plt.plot(df_hourly.feels_like, '.-', label='Feels Like')\r\n",
    "ax.set(title='Temperature in future 48 hours', xlabel='Time', ylabel='Temperature')\r\n",
    "ax.set_xticks(list(range(0, len(df_hourly), 2)))\r\n",
    "ax.set_xticklabels([ts2dt(ts, '%m-%d %H:%M')[0] for i, ts in enumerate(df_hourly.dt) if i%2==0], \r\n",
    "                   rotation=45, ha=\"right\")\r\n",
    "ax.locator_params(nbins=15, axis='y')\r\n",
    "plt.legend()\r\n",
    "plt.show()"
   ]
  },
  {
   "cell_type": "code",
   "execution_count": 10,
   "metadata": {
    "execution": {
     "iopub.execute_input": "2021-09-08T01:56:43.384251Z",
     "iopub.status.busy": "2021-09-08T01:56:43.383712Z",
     "iopub.status.idle": "2021-09-08T01:56:43.405042Z",
     "shell.execute_reply": "2021-09-08T01:56:43.405489Z"
    }
   },
   "outputs": [
    {
     "data": {
      "text/html": [
       "<div>\n",
       "<style scoped>\n",
       "    .dataframe tbody tr th:only-of-type {\n",
       "        vertical-align: middle;\n",
       "    }\n",
       "\n",
       "    .dataframe tbody tr th {\n",
       "        vertical-align: top;\n",
       "    }\n",
       "\n",
       "    .dataframe thead th {\n",
       "        text-align: right;\n",
       "    }\n",
       "</style>\n",
       "<table border=\"1\" class=\"dataframe\">\n",
       "  <thead>\n",
       "    <tr style=\"text-align: right;\">\n",
       "      <th></th>\n",
       "      <th>dt</th>\n",
       "      <th>temp</th>\n",
       "      <th>feels_like</th>\n",
       "      <th>pressure</th>\n",
       "      <th>humidity</th>\n",
       "      <th>dew_point</th>\n",
       "      <th>uvi</th>\n",
       "      <th>clouds</th>\n",
       "      <th>visibility</th>\n",
       "      <th>wind_speed</th>\n",
       "      <th>wind_deg</th>\n",
       "      <th>wind_gust</th>\n",
       "      <th>weather</th>\n",
       "      <th>pop</th>\n",
       "      <th>rain</th>\n",
       "    </tr>\n",
       "  </thead>\n",
       "  <tbody>\n",
       "    <tr>\n",
       "      <th>0</th>\n",
       "      <td>1631062800</td>\n",
       "      <td>30.87</td>\n",
       "      <td>37.85</td>\n",
       "      <td>1010</td>\n",
       "      <td>72</td>\n",
       "      <td>25.23</td>\n",
       "      <td>3.58</td>\n",
       "      <td>7</td>\n",
       "      <td>10000</td>\n",
       "      <td>3.18</td>\n",
       "      <td>63</td>\n",
       "      <td>3.66</td>\n",
       "      <td>[{'id': 800, 'main': 'Clear', 'description': '...</td>\n",
       "      <td>0.00</td>\n",
       "      <td>NaN</td>\n",
       "    </tr>\n",
       "    <tr>\n",
       "      <th>1</th>\n",
       "      <td>1631066400</td>\n",
       "      <td>31.42</td>\n",
       "      <td>38.42</td>\n",
       "      <td>1010</td>\n",
       "      <td>70</td>\n",
       "      <td>25.28</td>\n",
       "      <td>6.52</td>\n",
       "      <td>6</td>\n",
       "      <td>10000</td>\n",
       "      <td>3.16</td>\n",
       "      <td>71</td>\n",
       "      <td>3.53</td>\n",
       "      <td>[{'id': 800, 'main': 'Clear', 'description': '...</td>\n",
       "      <td>0.04</td>\n",
       "      <td>NaN</td>\n",
       "    </tr>\n",
       "    <tr>\n",
       "      <th>2</th>\n",
       "      <td>1631070000</td>\n",
       "      <td>31.11</td>\n",
       "      <td>37.90</td>\n",
       "      <td>1010</td>\n",
       "      <td>70</td>\n",
       "      <td>24.99</td>\n",
       "      <td>9.25</td>\n",
       "      <td>6</td>\n",
       "      <td>10000</td>\n",
       "      <td>3.44</td>\n",
       "      <td>79</td>\n",
       "      <td>3.58</td>\n",
       "      <td>[{'id': 800, 'main': 'Clear', 'description': '...</td>\n",
       "      <td>0.00</td>\n",
       "      <td>NaN</td>\n",
       "    </tr>\n",
       "    <tr>\n",
       "      <th>3</th>\n",
       "      <td>1631073600</td>\n",
       "      <td>30.89</td>\n",
       "      <td>37.01</td>\n",
       "      <td>1010</td>\n",
       "      <td>69</td>\n",
       "      <td>24.54</td>\n",
       "      <td>10.62</td>\n",
       "      <td>6</td>\n",
       "      <td>10000</td>\n",
       "      <td>3.82</td>\n",
       "      <td>88</td>\n",
       "      <td>3.80</td>\n",
       "      <td>[{'id': 500, 'main': 'Rain', 'description': 'l...</td>\n",
       "      <td>0.24</td>\n",
       "      <td>{'1h': 0.21}</td>\n",
       "    </tr>\n",
       "    <tr>\n",
       "      <th>4</th>\n",
       "      <td>1631077200</td>\n",
       "      <td>30.77</td>\n",
       "      <td>36.42</td>\n",
       "      <td>1009</td>\n",
       "      <td>68</td>\n",
       "      <td>24.18</td>\n",
       "      <td>10.46</td>\n",
       "      <td>5</td>\n",
       "      <td>10000</td>\n",
       "      <td>3.86</td>\n",
       "      <td>98</td>\n",
       "      <td>3.73</td>\n",
       "      <td>[{'id': 800, 'main': 'Clear', 'description': '...</td>\n",
       "      <td>0.04</td>\n",
       "      <td>NaN</td>\n",
       "    </tr>\n",
       "  </tbody>\n",
       "</table>\n",
       "</div>"
      ],
      "text/plain": [
       "           dt   temp  feels_like  pressure  humidity  dew_point    uvi  \\\n",
       "0  1631062800  30.87       37.85      1010        72      25.23   3.58   \n",
       "1  1631066400  31.42       38.42      1010        70      25.28   6.52   \n",
       "2  1631070000  31.11       37.90      1010        70      24.99   9.25   \n",
       "3  1631073600  30.89       37.01      1010        69      24.54  10.62   \n",
       "4  1631077200  30.77       36.42      1009        68      24.18  10.46   \n",
       "\n",
       "   clouds  visibility  wind_speed  wind_deg  wind_gust  \\\n",
       "0       7       10000        3.18        63       3.66   \n",
       "1       6       10000        3.16        71       3.53   \n",
       "2       6       10000        3.44        79       3.58   \n",
       "3       6       10000        3.82        88       3.80   \n",
       "4       5       10000        3.86        98       3.73   \n",
       "\n",
       "                                             weather   pop          rain  \n",
       "0  [{'id': 800, 'main': 'Clear', 'description': '...  0.00           NaN  \n",
       "1  [{'id': 800, 'main': 'Clear', 'description': '...  0.04           NaN  \n",
       "2  [{'id': 800, 'main': 'Clear', 'description': '...  0.00           NaN  \n",
       "3  [{'id': 500, 'main': 'Rain', 'description': 'l...  0.24  {'1h': 0.21}  \n",
       "4  [{'id': 800, 'main': 'Clear', 'description': '...  0.04           NaN  "
      ]
     },
     "execution_count": 10,
     "metadata": {},
     "output_type": "execute_result"
    }
   ],
   "source": [
    "df_hourly.head()"
   ]
  },
  {
   "cell_type": "code",
   "execution_count": null,
   "metadata": {},
   "outputs": [],
   "source": []
  }
 ],
 "metadata": {
  "interpreter": {
   "hash": "c1b4cfe941b6d2466ad1fb5979e97da9cda8801728c8091b097ab734208fc00c"
  },
  "kernelspec": {
   "display_name": "Python 3.8.3 64-bit ('base': conda)",
   "name": "python3"
  },
  "language_info": {
   "codemirror_mode": {
    "name": "ipython",
    "version": 3
   },
   "file_extension": ".py",
   "mimetype": "text/x-python",
   "name": "python",
   "nbconvert_exporter": "python",
   "pygments_lexer": "ipython3",
   "version": "3.8.11"
  }
 },
 "nbformat": 4,
 "nbformat_minor": 2
}
