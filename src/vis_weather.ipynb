{
 "cells": [
  {
   "cell_type": "code",
   "execution_count": 1,
   "metadata": {
    "execution": {
     "iopub.execute_input": "2021-10-16T00:43:59.725191Z",
     "iopub.status.busy": "2021-10-16T00:43:59.724434Z",
     "iopub.status.idle": "2021-10-16T00:44:05.303783Z",
     "shell.execute_reply": "2021-10-16T00:44:05.302548Z"
    }
   },
   "outputs": [],
   "source": [
    "import json, yaml, requests\r\n",
    "from datetime import datetime\r\n",
    "from dateutil import tz\r\n",
    "import pandas as pd\r\n",
    "from PIL import Image\r\n",
    "from io import BytesIO\r\n",
    "import matplotlib.pyplot as plt\r\n",
    "import seaborn\r\n",
    "\r\n",
    "CONFIG_PATH = \"../config/config.yaml\""
   ]
  },
  {
   "cell_type": "code",
   "execution_count": 2,
   "metadata": {
    "execution": {
     "iopub.execute_input": "2021-10-16T00:44:05.309035Z",
     "iopub.status.busy": "2021-10-16T00:44:05.306413Z",
     "iopub.status.idle": "2021-10-16T00:44:05.315258Z",
     "shell.execute_reply": "2021-10-16T00:44:05.314733Z"
    }
   },
   "outputs": [],
   "source": [
    "with open('../newest_ts', 'r') as f:\r\n",
    "    newest_ts = f.read()\r\n",
    "\r\n",
    "data_path = f\"../data/data_{newest_ts}.json\"\r\n",
    "with open(data_path, 'r') as f:\r\n",
    "    data = json.load(f)\r\n",
    "\r\n",
    "with open(CONFIG_PATH, \"r\") as stream:\r\n",
    "    config = yaml.safe_load(stream)\r\n",
    "\r\n",
    "TIME_ZONE = config['time_zone']\r\n",
    "DATETIME_FORMAT = config['dt_format']"
   ]
  },
  {
   "cell_type": "code",
   "execution_count": 3,
   "metadata": {
    "execution": {
     "iopub.execute_input": "2021-10-16T00:44:05.320601Z",
     "iopub.status.busy": "2021-10-16T00:44:05.319949Z",
     "iopub.status.idle": "2021-10-16T00:44:05.326504Z",
     "shell.execute_reply": "2021-10-16T00:44:05.327041Z"
    }
   },
   "outputs": [
    {
     "name": "stdout",
     "output_type": "stream",
     "text": [
      "Recent query happens at 2021-10-16 08:43:55 (CST).\n"
     ]
    }
   ],
   "source": [
    "def ts2dt(ts, format=DATETIME_FORMAT):\r\n",
    "    dt = (datetime.utcfromtimestamp(int(ts))\r\n",
    "                    .replace(tzinfo=tz.tzutc())\r\n",
    "                    # .astimezone(tz.tzlocal())\r\n",
    "                    .astimezone(tz.gettz(TIME_ZONE)))\r\n",
    "    return dt.strftime(format), dt\r\n",
    "\r\n",
    "_, newest_dt = ts2dt(newest_ts)\r\n",
    "print(f\"Recent query happens at {newest_dt.strftime(DATETIME_FORMAT)} ({newest_dt.tzname()}).\")"
   ]
  },
  {
   "cell_type": "code",
   "execution_count": 4,
   "metadata": {
    "execution": {
     "iopub.execute_input": "2021-10-16T00:44:05.333482Z",
     "iopub.status.busy": "2021-10-16T00:44:05.332000Z",
     "iopub.status.idle": "2021-10-16T00:44:05.334223Z",
     "shell.execute_reply": "2021-10-16T00:44:05.334832Z"
    }
   },
   "outputs": [],
   "source": [
    "def degrees_to_cardinal(d):\r\n",
    "  dirs = ['N', 'NNE', 'NE', 'ENE', 'E', 'ESE', 'SE', 'SSE', 'S', 'SSW', 'SW', 'WSW', 'W', 'WNW', 'NW', 'NNW']\r\n",
    "  ix = int(round(d / (360. / len(dirs))))\r\n",
    "  return dirs[ix % len(dirs)]"
   ]
  },
  {
   "cell_type": "code",
   "execution_count": 5,
   "metadata": {
    "execution": {
     "iopub.execute_input": "2021-10-16T00:44:05.338635Z",
     "iopub.status.busy": "2021-10-16T00:44:05.338033Z",
     "iopub.status.idle": "2021-10-16T00:44:05.340863Z",
     "shell.execute_reply": "2021-10-16T00:44:05.340345Z"
    }
   },
   "outputs": [],
   "source": [
    "# data.keys()"
   ]
  },
  {
   "cell_type": "code",
   "execution_count": 6,
   "metadata": {
    "execution": {
     "iopub.execute_input": "2021-10-16T00:44:05.345922Z",
     "iopub.status.busy": "2021-10-16T00:44:05.344481Z",
     "iopub.status.idle": "2021-10-16T00:44:05.346590Z",
     "shell.execute_reply": "2021-10-16T00:44:05.347086Z"
    }
   },
   "outputs": [],
   "source": [
    "# data['current']"
   ]
  },
  {
   "cell_type": "code",
   "execution_count": 7,
   "metadata": {
    "execution": {
     "iopub.execute_input": "2021-10-16T00:44:05.368755Z",
     "iopub.status.busy": "2021-10-16T00:44:05.361516Z",
     "iopub.status.idle": "2021-10-16T00:44:05.776364Z",
     "shell.execute_reply": "2021-10-16T00:44:05.776878Z"
    }
   },
   "outputs": [
    {
     "data": {
      "image/png": "[encoded data removed]",
      "text/plain": [
       "<Figure size 216x216 with 1 Axes>"
      ]
     },
     "metadata": {
      "needs_background": "light"
     },
     "output_type": "display_data"
    },
    {
     "name": "stdout",
     "output_type": "stream",
     "text": [
      "Today, sun rises at 06:19 and sets at 17:57.\n",
      "Currently, the weather is Clouds (scattered clouds).\n",
      "The temperature is 25.93°C and it feels like 26.77°C.\n",
      "The UV index is 2.38, humidity is 84%.\n",
      "The pressure is 1013 hPa, percentage of cloud cover is 25%\n",
      "The wind comes from NNE direction with a speed 2.68 m/s.\n"
     ]
    }
   ],
   "source": [
    "current = data['current']\r\n",
    "\r\n",
    "fig, ax = plt.subplots(figsize=(3, 3))\r\n",
    "icon = requests.get(f\"http://openweathermap.org/img/wn/{current['weather'][0]['icon']}@2x.png\")\r\n",
    "im = Image.open(BytesIO(icon.content))\r\n",
    "plt.imshow(im)\r\n",
    "ax.set_axis_off()\r\n",
    "plt.show()\r\n",
    "\r\n",
    "print(f\"Today, sun rises at {ts2dt(current['sunrise'], '%H:%M')[0]} \\\r\n",
    "and sets at {ts2dt(current['sunset'], '%H:%M')[0]}.\\n\\\r\n",
    "Currently, the weather is {current['weather'][0]['main']} ({current['weather'][0]['description']}).\\n\\\r\n",
    "The temperature is {current['temp']}°C and it feels like {current['feels_like']}°C.\\n\\\r\n",
    "The UV index is {current['uvi']}, humidity is {current['humidity']}%.\\n\\\r\n",
    "The pressure is {current['pressure']} hPa, percentage of cloud cover is {current['clouds']}%\\n\\\r\n",
    "The wind comes from {degrees_to_cardinal(current['wind_deg'])} direction with a speed {current['wind_speed']} m/s.\")"
   ]
  },
  {
   "cell_type": "code",
   "execution_count": 8,
   "metadata": {
    "execution": {
     "iopub.execute_input": "2021-10-16T00:44:05.785339Z",
     "iopub.status.busy": "2021-10-16T00:44:05.784734Z",
     "iopub.status.idle": "2021-10-16T00:44:05.788065Z",
     "shell.execute_reply": "2021-10-16T00:44:05.788873Z"
    }
   },
   "outputs": [],
   "source": [
    "df_hourly = pd.DataFrame(data['hourly'])\r\n",
    "df_daily = pd.DataFrame(data['daily'])"
   ]
  },
  {
   "cell_type": "code",
   "execution_count": 9,
   "metadata": {
    "execution": {
     "iopub.execute_input": "2021-10-16T00:44:05.792675Z",
     "iopub.status.busy": "2021-10-16T00:44:05.791519Z",
     "iopub.status.idle": "2021-10-16T00:44:06.120571Z",
     "shell.execute_reply": "2021-10-16T00:44:06.120022Z"
    }
   },
   "outputs": [
    {
     "data": {
      "image/png": "[encoded data removed]",
      "text/plain": [
       "<Figure size 864x432 with 1 Axes>"
      ]
     },
     "metadata": {
      "needs_background": "light"
     },
     "output_type": "display_data"
    }
   ],
   "source": [
    "fig, ax = plt.subplots(figsize=(12, 6))\r\n",
    "plt.plot(df_hourly.temp, '.-', label='Temperature')\r\n",
    "plt.plot(df_hourly.feels_like, '.-', label='Feels Like')\r\n",
    "ax.set(title='Temperature in future 48 hours', xlabel='Time', ylabel='Temperature')\r\n",
    "ax.set_xticks(list(range(0, len(df_hourly), 2)))\r\n",
    "ax.set_xticklabels([ts2dt(ts, '%m-%d %H:%M')[0] for i, ts in enumerate(df_hourly.dt) if i%2==0], \r\n",
    "                   rotation=45, ha=\"right\")\r\n",
    "ax.locator_params(nbins=15, axis='y')\r\n",
    "plt.legend()\r\n",
    "plt.show()"
   ]
  },
  {
   "cell_type": "code",
   "execution_count": 10,
   "metadata": {
    "execution": {
     "iopub.execute_input": "2021-10-16T00:44:06.126188Z",
     "iopub.status.busy": "2021-10-16T00:44:06.125578Z",
     "iopub.status.idle": "2021-10-16T00:44:06.146568Z",
     "shell.execute_reply": "2021-10-16T00:44:06.147055Z"
    }
   },
   "outputs": [
    {
     "data": {
      "text/html": [
       "<div>\n",
       "<style scoped>\n",
       "    .dataframe tbody tr th:only-of-type {\n",
       "        vertical-align: middle;\n",
       "    }\n",
       "\n",
       "    .dataframe tbody tr th {\n",
       "        vertical-align: top;\n",
       "    }\n",
       "\n",
       "    .dataframe thead th {\n",
       "        text-align: right;\n",
       "    }\n",
       "</style>\n",
       "<table border=\"1\" class=\"dataframe\">\n",
       "  <thead>\n",
       "    <tr style=\"text-align: right;\">\n",
       "      <th></th>\n",
       "      <th>dt</th>\n",
       "      <th>temp</th>\n",
       "      <th>feels_like</th>\n",
       "      <th>pressure</th>\n",
       "      <th>humidity</th>\n",
       "      <th>dew_point</th>\n",
       "      <th>uvi</th>\n",
       "      <th>clouds</th>\n",
       "      <th>visibility</th>\n",
       "      <th>wind_speed</th>\n",
       "      <th>wind_deg</th>\n",
       "      <th>wind_gust</th>\n",
       "      <th>weather</th>\n",
       "      <th>pop</th>\n",
       "    </tr>\n",
       "  </thead>\n",
       "  <tbody>\n",
       "    <tr>\n",
       "      <th>0</th>\n",
       "      <td>1634342400</td>\n",
       "      <td>25.61</td>\n",
       "      <td>26.39</td>\n",
       "      <td>1013</td>\n",
       "      <td>83</td>\n",
       "      <td>22.51</td>\n",
       "      <td>0.78</td>\n",
       "      <td>35</td>\n",
       "      <td>10000</td>\n",
       "      <td>4.65</td>\n",
       "      <td>6</td>\n",
       "      <td>7.60</td>\n",
       "      <td>[{'id': 802, 'main': 'Clouds', 'description': ...</td>\n",
       "      <td>0.33</td>\n",
       "    </tr>\n",
       "    <tr>\n",
       "      <th>1</th>\n",
       "      <td>1634346000</td>\n",
       "      <td>25.93</td>\n",
       "      <td>26.77</td>\n",
       "      <td>1013</td>\n",
       "      <td>84</td>\n",
       "      <td>23.02</td>\n",
       "      <td>2.38</td>\n",
       "      <td>25</td>\n",
       "      <td>10000</td>\n",
       "      <td>5.27</td>\n",
       "      <td>7</td>\n",
       "      <td>7.60</td>\n",
       "      <td>[{'id': 802, 'main': 'Clouds', 'description': ...</td>\n",
       "      <td>0.00</td>\n",
       "    </tr>\n",
       "    <tr>\n",
       "      <th>2</th>\n",
       "      <td>1634349600</td>\n",
       "      <td>25.83</td>\n",
       "      <td>26.61</td>\n",
       "      <td>1013</td>\n",
       "      <td>82</td>\n",
       "      <td>22.52</td>\n",
       "      <td>4.75</td>\n",
       "      <td>31</td>\n",
       "      <td>10000</td>\n",
       "      <td>6.43</td>\n",
       "      <td>8</td>\n",
       "      <td>8.14</td>\n",
       "      <td>[{'id': 802, 'main': 'Clouds', 'description': ...</td>\n",
       "      <td>0.00</td>\n",
       "    </tr>\n",
       "    <tr>\n",
       "      <th>3</th>\n",
       "      <td>1634353200</td>\n",
       "      <td>26.06</td>\n",
       "      <td>26.06</td>\n",
       "      <td>1014</td>\n",
       "      <td>78</td>\n",
       "      <td>21.92</td>\n",
       "      <td>7.05</td>\n",
       "      <td>38</td>\n",
       "      <td>10000</td>\n",
       "      <td>7.67</td>\n",
       "      <td>13</td>\n",
       "      <td>8.77</td>\n",
       "      <td>[{'id': 802, 'main': 'Clouds', 'description': ...</td>\n",
       "      <td>0.00</td>\n",
       "    </tr>\n",
       "    <tr>\n",
       "      <th>4</th>\n",
       "      <td>1634356800</td>\n",
       "      <td>26.52</td>\n",
       "      <td>26.52</td>\n",
       "      <td>1014</td>\n",
       "      <td>74</td>\n",
       "      <td>21.51</td>\n",
       "      <td>8.15</td>\n",
       "      <td>39</td>\n",
       "      <td>10000</td>\n",
       "      <td>7.72</td>\n",
       "      <td>20</td>\n",
       "      <td>8.51</td>\n",
       "      <td>[{'id': 802, 'main': 'Clouds', 'description': ...</td>\n",
       "      <td>0.00</td>\n",
       "    </tr>\n",
       "  </tbody>\n",
       "</table>\n",
       "</div>"
      ],
      "text/plain": [
       "           dt   temp  feels_like  pressure  humidity  dew_point   uvi  clouds  \\\n",
       "0  1634342400  25.61       26.39      1013        83      22.51  0.78      35   \n",
       "1  1634346000  25.93       26.77      1013        84      23.02  2.38      25   \n",
       "2  1634349600  25.83       26.61      1013        82      22.52  4.75      31   \n",
       "3  1634353200  26.06       26.06      1014        78      21.92  7.05      38   \n",
       "4  1634356800  26.52       26.52      1014        74      21.51  8.15      39   \n",
       "\n",
       "   visibility  wind_speed  wind_deg  wind_gust  \\\n",
       "0       10000        4.65         6       7.60   \n",
       "1       10000        5.27         7       7.60   \n",
       "2       10000        6.43         8       8.14   \n",
       "3       10000        7.67        13       8.77   \n",
       "4       10000        7.72        20       8.51   \n",
       "\n",
       "                                             weather   pop  \n",
       "0  [{'id': 802, 'main': 'Clouds', 'description': ...  0.33  \n",
       "1  [{'id': 802, 'main': 'Clouds', 'description': ...  0.00  \n",
       "2  [{'id': 802, 'main': 'Clouds', 'description': ...  0.00  \n",
       "3  [{'id': 802, 'main': 'Clouds', 'description': ...  0.00  \n",
       "4  [{'id': 802, 'main': 'Clouds', 'description': ...  0.00  "
      ]
     },
     "execution_count": 10,
     "metadata": {},
     "output_type": "execute_result"
    }
   ],
   "source": [
    "df_hourly.head()"
   ]
  },
  {
   "cell_type": "code",
   "execution_count": null,
   "metadata": {},
   "outputs": [],
   "source": []
  }
 ],
 "metadata": {
  "interpreter": {
   "hash": "c1b4cfe941b6d2466ad1fb5979e97da9cda8801728c8091b097ab734208fc00c"
  },
  "kernelspec": {
   "display_name": "Python 3.8.3 64-bit ('base': conda)",
   "name": "python3"
  },
  "language_info": {
   "codemirror_mode": {
    "name": "ipython",
    "version": 3
   },
   "file_extension": ".py",
   "mimetype": "text/x-python",
   "name": "python",
   "nbconvert_exporter": "python",
   "pygments_lexer": "ipython3",
   "version": "3.8.12"
  }
 },
 "nbformat": 4,
 "nbformat_minor": 2
}
