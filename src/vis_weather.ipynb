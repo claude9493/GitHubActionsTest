{
 "cells": [
  {
   "cell_type": "code",
   "execution_count": 1,
   "metadata": {
    "execution": {
     "iopub.execute_input": "2021-10-06T02:27:20.890021Z",
     "iopub.status.busy": "2021-10-06T02:27:20.889231Z",
     "iopub.status.idle": "2021-10-06T02:27:23.516277Z",
     "shell.execute_reply": "2021-10-06T02:27:23.515669Z"
    }
   },
   "outputs": [],
   "source": [
    "import json, yaml, requests\r\n",
    "from datetime import datetime\r\n",
    "from dateutil import tz\r\n",
    "import pandas as pd\r\n",
    "from PIL import Image\r\n",
    "from io import BytesIO\r\n",
    "import matplotlib.pyplot as plt\r\n",
    "import seaborn\r\n",
    "\r\n",
    "CONFIG_PATH = \"../config/config.yaml\""
   ]
  },
  {
   "cell_type": "code",
   "execution_count": 2,
   "metadata": {
    "execution": {
     "iopub.execute_input": "2021-10-06T02:27:23.523917Z",
     "iopub.status.busy": "2021-10-06T02:27:23.520940Z",
     "iopub.status.idle": "2021-10-06T02:27:23.527010Z",
     "shell.execute_reply": "2021-10-06T02:27:23.526148Z"
    }
   },
   "outputs": [],
   "source": [
    "with open('../newest_ts', 'r') as f:\r\n",
    "    newest_ts = f.read()\r\n",
    "\r\n",
    "data_path = f\"../data/data_{newest_ts}.json\"\r\n",
    "with open(data_path, 'r') as f:\r\n",
    "    data = json.load(f)\r\n",
    "\r\n",
    "with open(CONFIG_PATH, \"r\") as stream:\r\n",
    "    config = yaml.safe_load(stream)\r\n",
    "\r\n",
    "TIME_ZONE = config['time_zone']\r\n",
    "DATETIME_FORMAT = config['dt_format']"
   ]
  },
  {
   "cell_type": "code",
   "execution_count": 3,
   "metadata": {
    "execution": {
     "iopub.execute_input": "2021-10-06T02:27:23.531310Z",
     "iopub.status.busy": "2021-10-06T02:27:23.530772Z",
     "iopub.status.idle": "2021-10-06T02:27:23.536747Z",
     "shell.execute_reply": "2021-10-06T02:27:23.536385Z"
    }
   },
   "outputs": [
    {
     "name": "stdout",
     "output_type": "stream",
     "text": [
      "Recent query happens at 2021-10-06 10:27:17 (CST).\n"
     ]
    }
   ],
   "source": [
    "def ts2dt(ts, format=DATETIME_FORMAT):\r\n",
    "    dt = (datetime.utcfromtimestamp(int(ts))\r\n",
    "                    .replace(tzinfo=tz.tzutc())\r\n",
    "                    # .astimezone(tz.tzlocal())\r\n",
    "                    .astimezone(tz.gettz(TIME_ZONE)))\r\n",
    "    return dt.strftime(format), dt\r\n",
    "\r\n",
    "_, newest_dt = ts2dt(newest_ts)\r\n",
    "print(f\"Recent query happens at {newest_dt.strftime(DATETIME_FORMAT)} ({newest_dt.tzname()}).\")"
   ]
  },
  {
   "cell_type": "code",
   "execution_count": 4,
   "metadata": {
    "execution": {
     "iopub.execute_input": "2021-10-06T02:27:23.541381Z",
     "iopub.status.busy": "2021-10-06T02:27:23.540428Z",
     "iopub.status.idle": "2021-10-06T02:27:23.541888Z",
     "shell.execute_reply": "2021-10-06T02:27:23.542296Z"
    }
   },
   "outputs": [],
   "source": [
    "def degrees_to_cardinal(d):\r\n",
    "  dirs = ['N', 'NNE', 'NE', 'ENE', 'E', 'ESE', 'SE', 'SSE', 'S', 'SSW', 'SW', 'WSW', 'W', 'WNW', 'NW', 'NNW']\r\n",
    "  ix = int(round(d / (360. / len(dirs))))\r\n",
    "  return dirs[ix % len(dirs)]"
   ]
  },
  {
   "cell_type": "code",
   "execution_count": 5,
   "metadata": {
    "execution": {
     "iopub.execute_input": "2021-10-06T02:27:23.546306Z",
     "iopub.status.busy": "2021-10-06T02:27:23.545284Z",
     "iopub.status.idle": "2021-10-06T02:27:23.547720Z",
     "shell.execute_reply": "2021-10-06T02:27:23.547124Z"
    }
   },
   "outputs": [],
   "source": [
    "# data.keys()"
   ]
  },
  {
   "cell_type": "code",
   "execution_count": 6,
   "metadata": {
    "execution": {
     "iopub.execute_input": "2021-10-06T02:27:23.551340Z",
     "iopub.status.busy": "2021-10-06T02:27:23.550349Z",
     "iopub.status.idle": "2021-10-06T02:27:23.551910Z",
     "shell.execute_reply": "2021-10-06T02:27:23.552319Z"
    }
   },
   "outputs": [],
   "source": [
    "# data['current']"
   ]
  },
  {
   "cell_type": "code",
   "execution_count": 7,
   "metadata": {
    "execution": {
     "iopub.execute_input": "2021-10-06T02:27:23.572058Z",
     "iopub.status.busy": "2021-10-06T02:27:23.570006Z",
     "iopub.status.idle": "2021-10-06T02:27:23.977835Z",
     "shell.execute_reply": "2021-10-06T02:27:23.978530Z"
    }
   },
   "outputs": [
    {
     "data": {
      "image/png": "[encoded data removed]",
      "text/plain": [
       "<Figure size 216x216 with 1 Axes>"
      ]
     },
     "metadata": {
      "needs_background": "light"
     },
     "output_type": "display_data"
    },
    {
     "name": "stdout",
     "output_type": "stream",
     "text": [
      "Today, sun rises at 06:15 and sets at 18:06.\n",
      "Currently, the weather is Clear (clear sky).\n",
      "The temperature is 30.95°C and it feels like 34.74°C.\n",
      "The UV index is 4.99, humidity is 60%.\n",
      "The pressure is 1010 hPa, percentage of cloud cover is 5%\n",
      "The wind comes from ENE direction with a speed 8.05 m/s.\n"
     ]
    }
   ],
   "source": [
    "current = data['current']\r\n",
    "\r\n",
    "fig, ax = plt.subplots(figsize=(3, 3))\r\n",
    "icon = requests.get(f\"http://openweathermap.org/img/wn/{current['weather'][0]['icon']}@2x.png\")\r\n",
    "im = Image.open(BytesIO(icon.content))\r\n",
    "plt.imshow(im)\r\n",
    "ax.set_axis_off()\r\n",
    "plt.show()\r\n",
    "\r\n",
    "print(f\"Today, sun rises at {ts2dt(current['sunrise'], '%H:%M')[0]} \\\r\n",
    "and sets at {ts2dt(current['sunset'], '%H:%M')[0]}.\\n\\\r\n",
    "Currently, the weather is {current['weather'][0]['main']} ({current['weather'][0]['description']}).\\n\\\r\n",
    "The temperature is {current['temp']}°C and it feels like {current['feels_like']}°C.\\n\\\r\n",
    "The UV index is {current['uvi']}, humidity is {current['humidity']}%.\\n\\\r\n",
    "The pressure is {current['pressure']} hPa, percentage of cloud cover is {current['clouds']}%\\n\\\r\n",
    "The wind comes from {degrees_to_cardinal(current['wind_deg'])} direction with a speed {current['wind_speed']} m/s.\")"
   ]
  },
  {
   "cell_type": "code",
   "execution_count": 8,
   "metadata": {
    "execution": {
     "iopub.execute_input": "2021-10-06T02:27:23.981712Z",
     "iopub.status.busy": "2021-10-06T02:27:23.981224Z",
     "iopub.status.idle": "2021-10-06T02:27:23.987613Z",
     "shell.execute_reply": "2021-10-06T02:27:23.988303Z"
    }
   },
   "outputs": [],
   "source": [
    "df_hourly = pd.DataFrame(data['hourly'])\r\n",
    "df_daily = pd.DataFrame(data['daily'])"
   ]
  },
  {
   "cell_type": "code",
   "execution_count": 9,
   "metadata": {
    "execution": {
     "iopub.execute_input": "2021-10-06T02:27:23.991667Z",
     "iopub.status.busy": "2021-10-06T02:27:23.990656Z",
     "iopub.status.idle": "2021-10-06T02:27:24.230811Z",
     "shell.execute_reply": "2021-10-06T02:27:24.230330Z"
    }
   },
   "outputs": [
    {
     "data": {
      "image/png": "[encoded data removed]",
      "text/plain": [
       "<Figure size 864x432 with 1 Axes>"
      ]
     },
     "metadata": {
      "needs_background": "light"
     },
     "output_type": "display_data"
    }
   ],
   "source": [
    "fig, ax = plt.subplots(figsize=(12, 6))\r\n",
    "plt.plot(df_hourly.temp, '.-', label='Temperature')\r\n",
    "plt.plot(df_hourly.feels_like, '.-', label='Feels Like')\r\n",
    "ax.set(title='Temperature in future 48 hours', xlabel='Time', ylabel='Temperature')\r\n",
    "ax.set_xticks(list(range(0, len(df_hourly), 2)))\r\n",
    "ax.set_xticklabels([ts2dt(ts, '%m-%d %H:%M')[0] for i, ts in enumerate(df_hourly.dt) if i%2==0], \r\n",
    "                   rotation=45, ha=\"right\")\r\n",
    "ax.locator_params(nbins=15, axis='y')\r\n",
    "plt.legend()\r\n",
    "plt.show()"
   ]
  },
  {
   "cell_type": "code",
   "execution_count": 10,
   "metadata": {
    "execution": {
     "iopub.execute_input": "2021-10-06T02:27:24.241249Z",
     "iopub.status.busy": "2021-10-06T02:27:24.234777Z",
     "iopub.status.idle": "2021-10-06T02:27:24.253009Z",
     "shell.execute_reply": "2021-10-06T02:27:24.252576Z"
    }
   },
   "outputs": [
    {
     "data": {
      "text/html": [
       "<div>\n",
       "<style scoped>\n",
       "    .dataframe tbody tr th:only-of-type {\n",
       "        vertical-align: middle;\n",
       "    }\n",
       "\n",
       "    .dataframe tbody tr th {\n",
       "        vertical-align: top;\n",
       "    }\n",
       "\n",
       "    .dataframe thead th {\n",
       "        text-align: right;\n",
       "    }\n",
       "</style>\n",
       "<table border=\"1\" class=\"dataframe\">\n",
       "  <thead>\n",
       "    <tr style=\"text-align: right;\">\n",
       "      <th></th>\n",
       "      <th>dt</th>\n",
       "      <th>temp</th>\n",
       "      <th>feels_like</th>\n",
       "      <th>pressure</th>\n",
       "      <th>humidity</th>\n",
       "      <th>dew_point</th>\n",
       "      <th>uvi</th>\n",
       "      <th>clouds</th>\n",
       "      <th>visibility</th>\n",
       "      <th>wind_speed</th>\n",
       "      <th>wind_deg</th>\n",
       "      <th>wind_gust</th>\n",
       "      <th>weather</th>\n",
       "      <th>pop</th>\n",
       "      <th>rain</th>\n",
       "    </tr>\n",
       "  </thead>\n",
       "  <tbody>\n",
       "    <tr>\n",
       "      <th>0</th>\n",
       "      <td>1633485600</td>\n",
       "      <td>30.95</td>\n",
       "      <td>34.74</td>\n",
       "      <td>1010</td>\n",
       "      <td>60</td>\n",
       "      <td>22.28</td>\n",
       "      <td>4.99</td>\n",
       "      <td>5</td>\n",
       "      <td>10000</td>\n",
       "      <td>7.40</td>\n",
       "      <td>69</td>\n",
       "      <td>9.05</td>\n",
       "      <td>[{'id': 800, 'main': 'Clear', 'description': '...</td>\n",
       "      <td>0.0</td>\n",
       "      <td>NaN</td>\n",
       "    </tr>\n",
       "    <tr>\n",
       "      <th>1</th>\n",
       "      <td>1633489200</td>\n",
       "      <td>30.54</td>\n",
       "      <td>34.12</td>\n",
       "      <td>1010</td>\n",
       "      <td>61</td>\n",
       "      <td>22.16</td>\n",
       "      <td>7.30</td>\n",
       "      <td>5</td>\n",
       "      <td>10000</td>\n",
       "      <td>7.18</td>\n",
       "      <td>69</td>\n",
       "      <td>8.77</td>\n",
       "      <td>[{'id': 800, 'main': 'Clear', 'description': '...</td>\n",
       "      <td>0.0</td>\n",
       "      <td>NaN</td>\n",
       "    </tr>\n",
       "    <tr>\n",
       "      <th>2</th>\n",
       "      <td>1633492800</td>\n",
       "      <td>30.30</td>\n",
       "      <td>33.85</td>\n",
       "      <td>1010</td>\n",
       "      <td>62</td>\n",
       "      <td>22.21</td>\n",
       "      <td>8.80</td>\n",
       "      <td>5</td>\n",
       "      <td>10000</td>\n",
       "      <td>7.05</td>\n",
       "      <td>73</td>\n",
       "      <td>8.57</td>\n",
       "      <td>[{'id': 800, 'main': 'Clear', 'description': '...</td>\n",
       "      <td>0.0</td>\n",
       "      <td>NaN</td>\n",
       "    </tr>\n",
       "    <tr>\n",
       "      <th>3</th>\n",
       "      <td>1633496400</td>\n",
       "      <td>30.11</td>\n",
       "      <td>33.25</td>\n",
       "      <td>1009</td>\n",
       "      <td>61</td>\n",
       "      <td>21.76</td>\n",
       "      <td>8.64</td>\n",
       "      <td>4</td>\n",
       "      <td>10000</td>\n",
       "      <td>6.68</td>\n",
       "      <td>78</td>\n",
       "      <td>8.17</td>\n",
       "      <td>[{'id': 800, 'main': 'Clear', 'description': '...</td>\n",
       "      <td>0.0</td>\n",
       "      <td>NaN</td>\n",
       "    </tr>\n",
       "    <tr>\n",
       "      <th>4</th>\n",
       "      <td>1633500000</td>\n",
       "      <td>29.91</td>\n",
       "      <td>32.86</td>\n",
       "      <td>1008</td>\n",
       "      <td>61</td>\n",
       "      <td>21.57</td>\n",
       "      <td>7.01</td>\n",
       "      <td>4</td>\n",
       "      <td>10000</td>\n",
       "      <td>6.38</td>\n",
       "      <td>83</td>\n",
       "      <td>7.92</td>\n",
       "      <td>[{'id': 800, 'main': 'Clear', 'description': '...</td>\n",
       "      <td>0.0</td>\n",
       "      <td>NaN</td>\n",
       "    </tr>\n",
       "  </tbody>\n",
       "</table>\n",
       "</div>"
      ],
      "text/plain": [
       "           dt   temp  feels_like  pressure  humidity  dew_point   uvi  clouds  \\\n",
       "0  1633485600  30.95       34.74      1010        60      22.28  4.99       5   \n",
       "1  1633489200  30.54       34.12      1010        61      22.16  7.30       5   \n",
       "2  1633492800  30.30       33.85      1010        62      22.21  8.80       5   \n",
       "3  1633496400  30.11       33.25      1009        61      21.76  8.64       4   \n",
       "4  1633500000  29.91       32.86      1008        61      21.57  7.01       4   \n",
       "\n",
       "   visibility  wind_speed  wind_deg  wind_gust  \\\n",
       "0       10000        7.40        69       9.05   \n",
       "1       10000        7.18        69       8.77   \n",
       "2       10000        7.05        73       8.57   \n",
       "3       10000        6.68        78       8.17   \n",
       "4       10000        6.38        83       7.92   \n",
       "\n",
       "                                             weather  pop rain  \n",
       "0  [{'id': 800, 'main': 'Clear', 'description': '...  0.0  NaN  \n",
       "1  [{'id': 800, 'main': 'Clear', 'description': '...  0.0  NaN  \n",
       "2  [{'id': 800, 'main': 'Clear', 'description': '...  0.0  NaN  \n",
       "3  [{'id': 800, 'main': 'Clear', 'description': '...  0.0  NaN  \n",
       "4  [{'id': 800, 'main': 'Clear', 'description': '...  0.0  NaN  "
      ]
     },
     "execution_count": 10,
     "metadata": {},
     "output_type": "execute_result"
    }
   ],
   "source": [
    "df_hourly.head()"
   ]
  },
  {
   "cell_type": "code",
   "execution_count": null,
   "metadata": {},
   "outputs": [],
   "source": []
  }
 ],
 "metadata": {
  "interpreter": {
   "hash": "c1b4cfe941b6d2466ad1fb5979e97da9cda8801728c8091b097ab734208fc00c"
  },
  "kernelspec": {
   "display_name": "Python 3.8.3 64-bit ('base': conda)",
   "name": "python3"
  },
  "language_info": {
   "codemirror_mode": {
    "name": "ipython",
    "version": 3
   },
   "file_extension": ".py",
   "mimetype": "text/x-python",
   "name": "python",
   "nbconvert_exporter": "python",
   "pygments_lexer": "ipython3",
   "version": "3.8.12"
  }
 },
 "nbformat": 4,
 "nbformat_minor": 2
}
