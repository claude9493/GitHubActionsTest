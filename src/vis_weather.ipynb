{
 "cells": [
  {
   "cell_type": "code",
   "execution_count": 1,
   "metadata": {
    "execution": {
     "iopub.execute_input": "2021-10-04T21:10:01.109633Z",
     "iopub.status.busy": "2021-10-04T21:10:01.109068Z",
     "iopub.status.idle": "2021-10-04T21:10:02.546348Z",
     "shell.execute_reply": "2021-10-04T21:10:02.545740Z"
    }
   },
   "outputs": [],
   "source": [
    "import json, yaml, requests\r\n",
    "from datetime import datetime\r\n",
    "from dateutil import tz\r\n",
    "import pandas as pd\r\n",
    "from PIL import Image\r\n",
    "from io import BytesIO\r\n",
    "import matplotlib.pyplot as plt\r\n",
    "import seaborn\r\n",
    "\r\n",
    "CONFIG_PATH = \"../config/config.yaml\""
   ]
  },
  {
   "cell_type": "code",
   "execution_count": 2,
   "metadata": {
    "execution": {
     "iopub.execute_input": "2021-10-04T21:10:02.552292Z",
     "iopub.status.busy": "2021-10-04T21:10:02.550924Z",
     "iopub.status.idle": "2021-10-04T21:10:02.556675Z",
     "shell.execute_reply": "2021-10-04T21:10:02.557045Z"
    }
   },
   "outputs": [],
   "source": [
    "with open('../newest_ts', 'r') as f:\r\n",
    "    newest_ts = f.read()\r\n",
    "\r\n",
    "data_path = f\"../data/data_{newest_ts}.json\"\r\n",
    "with open(data_path, 'r') as f:\r\n",
    "    data = json.load(f)\r\n",
    "\r\n",
    "with open(CONFIG_PATH, \"r\") as stream:\r\n",
    "    config = yaml.safe_load(stream)\r\n",
    "\r\n",
    "TIME_ZONE = config['time_zone']\r\n",
    "DATETIME_FORMAT = config['dt_format']"
   ]
  },
  {
   "cell_type": "code",
   "execution_count": 3,
   "metadata": {
    "execution": {
     "iopub.execute_input": "2021-10-04T21:10:02.561446Z",
     "iopub.status.busy": "2021-10-04T21:10:02.560962Z",
     "iopub.status.idle": "2021-10-04T21:10:02.566769Z",
     "shell.execute_reply": "2021-10-04T21:10:02.566389Z"
    }
   },
   "outputs": [
    {
     "name": "stdout",
     "output_type": "stream",
     "text": [
      "Recent query happens at 2021-10-05 05:09:58 (CST).\n"
     ]
    }
   ],
   "source": [
    "def ts2dt(ts, format=DATETIME_FORMAT):\r\n",
    "    dt = (datetime.utcfromtimestamp(int(ts))\r\n",
    "                    .replace(tzinfo=tz.tzutc())\r\n",
    "                    # .astimezone(tz.tzlocal())\r\n",
    "                    .astimezone(tz.gettz(TIME_ZONE)))\r\n",
    "    return dt.strftime(format), dt\r\n",
    "\r\n",
    "_, newest_dt = ts2dt(newest_ts)\r\n",
    "print(f\"Recent query happens at {newest_dt.strftime(DATETIME_FORMAT)} ({newest_dt.tzname()}).\")"
   ]
  },
  {
   "cell_type": "code",
   "execution_count": 4,
   "metadata": {
    "execution": {
     "iopub.execute_input": "2021-10-04T21:10:02.571848Z",
     "iopub.status.busy": "2021-10-04T21:10:02.570708Z",
     "iopub.status.idle": "2021-10-04T21:10:02.572374Z",
     "shell.execute_reply": "2021-10-04T21:10:02.572732Z"
    }
   },
   "outputs": [],
   "source": [
    "def degrees_to_cardinal(d):\r\n",
    "  dirs = ['N', 'NNE', 'NE', 'ENE', 'E', 'ESE', 'SE', 'SSE', 'S', 'SSW', 'SW', 'WSW', 'W', 'WNW', 'NW', 'NNW']\r\n",
    "  ix = int(round(d / (360. / len(dirs))))\r\n",
    "  return dirs[ix % len(dirs)]"
   ]
  },
  {
   "cell_type": "code",
   "execution_count": 5,
   "metadata": {
    "execution": {
     "iopub.execute_input": "2021-10-04T21:10:02.576531Z",
     "iopub.status.busy": "2021-10-04T21:10:02.575535Z",
     "iopub.status.idle": "2021-10-04T21:10:02.577051Z",
     "shell.execute_reply": "2021-10-04T21:10:02.577443Z"
    }
   },
   "outputs": [],
   "source": [
    "# data.keys()"
   ]
  },
  {
   "cell_type": "code",
   "execution_count": 6,
   "metadata": {
    "execution": {
     "iopub.execute_input": "2021-10-04T21:10:02.581165Z",
     "iopub.status.busy": "2021-10-04T21:10:02.580061Z",
     "iopub.status.idle": "2021-10-04T21:10:02.581683Z",
     "shell.execute_reply": "2021-10-04T21:10:02.582044Z"
    }
   },
   "outputs": [],
   "source": [
    "# data['current']"
   ]
  },
  {
   "cell_type": "code",
   "execution_count": 7,
   "metadata": {
    "execution": {
     "iopub.execute_input": "2021-10-04T21:10:02.598819Z",
     "iopub.status.busy": "2021-10-04T21:10:02.598316Z",
     "iopub.status.idle": "2021-10-04T21:10:02.975846Z",
     "shell.execute_reply": "2021-10-04T21:10:02.976220Z"
    }
   },
   "outputs": [
    {
     "data": {
      "image/png": "[encoded data removed]",
      "text/plain": [
       "<Figure size 216x216 with 1 Axes>"
      ]
     },
     "metadata": {
      "needs_background": "light"
     },
     "output_type": "display_data"
    },
    {
     "name": "stdout",
     "output_type": "stream",
     "text": [
      "Today, sun rises at 06:15 and sets at 18:07.\n",
      "Currently, the weather is Clouds (scattered clouds).\n",
      "The temperature is 28.61°C and it feels like 33.68°C.\n",
      "The UV index is 0, humidity is 80%.\n",
      "The pressure is 1010 hPa, percentage of cloud cover is 37%\n",
      "The wind comes from ENE direction with a speed 4.02 m/s.\n"
     ]
    }
   ],
   "source": [
    "current = data['current']\r\n",
    "\r\n",
    "fig, ax = plt.subplots(figsize=(3, 3))\r\n",
    "icon = requests.get(f\"http://openweathermap.org/img/wn/{current['weather'][0]['icon']}@2x.png\")\r\n",
    "im = Image.open(BytesIO(icon.content))\r\n",
    "plt.imshow(im)\r\n",
    "ax.set_axis_off()\r\n",
    "plt.show()\r\n",
    "\r\n",
    "print(f\"Today, sun rises at {ts2dt(current['sunrise'], '%H:%M')[0]} \\\r\n",
    "and sets at {ts2dt(current['sunset'], '%H:%M')[0]}.\\n\\\r\n",
    "Currently, the weather is {current['weather'][0]['main']} ({current['weather'][0]['description']}).\\n\\\r\n",
    "The temperature is {current['temp']}°C and it feels like {current['feels_like']}°C.\\n\\\r\n",
    "The UV index is {current['uvi']}, humidity is {current['humidity']}%.\\n\\\r\n",
    "The pressure is {current['pressure']} hPa, percentage of cloud cover is {current['clouds']}%\\n\\\r\n",
    "The wind comes from {degrees_to_cardinal(current['wind_deg'])} direction with a speed {current['wind_speed']} m/s.\")"
   ]
  },
  {
   "cell_type": "code",
   "execution_count": 8,
   "metadata": {
    "execution": {
     "iopub.execute_input": "2021-10-04T21:10:02.978904Z",
     "iopub.status.busy": "2021-10-04T21:10:02.978456Z",
     "iopub.status.idle": "2021-10-04T21:10:02.983844Z",
     "shell.execute_reply": "2021-10-04T21:10:02.984276Z"
    }
   },
   "outputs": [],
   "source": [
    "df_hourly = pd.DataFrame(data['hourly'])\r\n",
    "df_daily = pd.DataFrame(data['daily'])"
   ]
  },
  {
   "cell_type": "code",
   "execution_count": 9,
   "metadata": {
    "execution": {
     "iopub.execute_input": "2021-10-04T21:10:02.986845Z",
     "iopub.status.busy": "2021-10-04T21:10:02.986384Z",
     "iopub.status.idle": "2021-10-04T21:10:03.222281Z",
     "shell.execute_reply": "2021-10-04T21:10:03.222669Z"
    }
   },
   "outputs": [
    {
     "data": {
      "image/png": "[encoded data removed]",
      "text/plain": [
       "<Figure size 864x432 with 1 Axes>"
      ]
     },
     "metadata": {
      "needs_background": "light"
     },
     "output_type": "display_data"
    }
   ],
   "source": [
    "fig, ax = plt.subplots(figsize=(12, 6))\r\n",
    "plt.plot(df_hourly.temp, '.-', label='Temperature')\r\n",
    "plt.plot(df_hourly.feels_like, '.-', label='Feels Like')\r\n",
    "ax.set(title='Temperature in future 48 hours', xlabel='Time', ylabel='Temperature')\r\n",
    "ax.set_xticks(list(range(0, len(df_hourly), 2)))\r\n",
    "ax.set_xticklabels([ts2dt(ts, '%m-%d %H:%M')[0] for i, ts in enumerate(df_hourly.dt) if i%2==0], \r\n",
    "                   rotation=45, ha=\"right\")\r\n",
    "ax.locator_params(nbins=15, axis='y')\r\n",
    "plt.legend()\r\n",
    "plt.show()"
   ]
  },
  {
   "cell_type": "code",
   "execution_count": 10,
   "metadata": {
    "execution": {
     "iopub.execute_input": "2021-10-04T21:10:03.234965Z",
     "iopub.status.busy": "2021-10-04T21:10:03.226969Z",
     "iopub.status.idle": "2021-10-04T21:10:03.247385Z",
     "shell.execute_reply": "2021-10-04T21:10:03.246953Z"
    }
   },
   "outputs": [
    {
     "data": {
      "text/html": [
       "<div>\n",
       "<style scoped>\n",
       "    .dataframe tbody tr th:only-of-type {\n",
       "        vertical-align: middle;\n",
       "    }\n",
       "\n",
       "    .dataframe tbody tr th {\n",
       "        vertical-align: top;\n",
       "    }\n",
       "\n",
       "    .dataframe thead th {\n",
       "        text-align: right;\n",
       "    }\n",
       "</style>\n",
       "<table border=\"1\" class=\"dataframe\">\n",
       "  <thead>\n",
       "    <tr style=\"text-align: right;\">\n",
       "      <th></th>\n",
       "      <th>dt</th>\n",
       "      <th>temp</th>\n",
       "      <th>feels_like</th>\n",
       "      <th>pressure</th>\n",
       "      <th>humidity</th>\n",
       "      <th>dew_point</th>\n",
       "      <th>uvi</th>\n",
       "      <th>clouds</th>\n",
       "      <th>visibility</th>\n",
       "      <th>wind_speed</th>\n",
       "      <th>wind_deg</th>\n",
       "      <th>wind_gust</th>\n",
       "      <th>weather</th>\n",
       "      <th>pop</th>\n",
       "      <th>rain</th>\n",
       "    </tr>\n",
       "  </thead>\n",
       "  <tbody>\n",
       "    <tr>\n",
       "      <th>0</th>\n",
       "      <td>1633381200</td>\n",
       "      <td>28.61</td>\n",
       "      <td>33.68</td>\n",
       "      <td>1010</td>\n",
       "      <td>80</td>\n",
       "      <td>24.82</td>\n",
       "      <td>0.00</td>\n",
       "      <td>37</td>\n",
       "      <td>10000</td>\n",
       "      <td>8.08</td>\n",
       "      <td>79</td>\n",
       "      <td>9.91</td>\n",
       "      <td>[{'id': 802, 'main': 'Clouds', 'description': ...</td>\n",
       "      <td>0.22</td>\n",
       "      <td>NaN</td>\n",
       "    </tr>\n",
       "    <tr>\n",
       "      <th>1</th>\n",
       "      <td>1633384800</td>\n",
       "      <td>28.37</td>\n",
       "      <td>33.04</td>\n",
       "      <td>1010</td>\n",
       "      <td>80</td>\n",
       "      <td>24.58</td>\n",
       "      <td>0.00</td>\n",
       "      <td>38</td>\n",
       "      <td>10000</td>\n",
       "      <td>8.04</td>\n",
       "      <td>76</td>\n",
       "      <td>9.91</td>\n",
       "      <td>[{'id': 500, 'main': 'Rain', 'description': 'l...</td>\n",
       "      <td>0.33</td>\n",
       "      <td>{'1h': 0.13}</td>\n",
       "    </tr>\n",
       "    <tr>\n",
       "      <th>2</th>\n",
       "      <td>1633388400</td>\n",
       "      <td>28.22</td>\n",
       "      <td>32.49</td>\n",
       "      <td>1011</td>\n",
       "      <td>79</td>\n",
       "      <td>24.23</td>\n",
       "      <td>0.14</td>\n",
       "      <td>38</td>\n",
       "      <td>10000</td>\n",
       "      <td>8.03</td>\n",
       "      <td>71</td>\n",
       "      <td>10.29</td>\n",
       "      <td>[{'id': 802, 'main': 'Clouds', 'description': ...</td>\n",
       "      <td>0.08</td>\n",
       "      <td>NaN</td>\n",
       "    </tr>\n",
       "    <tr>\n",
       "      <th>3</th>\n",
       "      <td>1633392000</td>\n",
       "      <td>28.36</td>\n",
       "      <td>32.17</td>\n",
       "      <td>1012</td>\n",
       "      <td>75</td>\n",
       "      <td>23.50</td>\n",
       "      <td>0.92</td>\n",
       "      <td>35</td>\n",
       "      <td>10000</td>\n",
       "      <td>8.47</td>\n",
       "      <td>67</td>\n",
       "      <td>11.04</td>\n",
       "      <td>[{'id': 802, 'main': 'Clouds', 'description': ...</td>\n",
       "      <td>0.08</td>\n",
       "      <td>NaN</td>\n",
       "    </tr>\n",
       "    <tr>\n",
       "      <th>4</th>\n",
       "      <td>1633395600</td>\n",
       "      <td>28.62</td>\n",
       "      <td>32.08</td>\n",
       "      <td>1012</td>\n",
       "      <td>71</td>\n",
       "      <td>22.84</td>\n",
       "      <td>2.70</td>\n",
       "      <td>10</td>\n",
       "      <td>10000</td>\n",
       "      <td>8.68</td>\n",
       "      <td>67</td>\n",
       "      <td>10.93</td>\n",
       "      <td>[{'id': 800, 'main': 'Clear', 'description': '...</td>\n",
       "      <td>0.00</td>\n",
       "      <td>NaN</td>\n",
       "    </tr>\n",
       "  </tbody>\n",
       "</table>\n",
       "</div>"
      ],
      "text/plain": [
       "           dt   temp  feels_like  pressure  humidity  dew_point   uvi  clouds  \\\n",
       "0  1633381200  28.61       33.68      1010        80      24.82  0.00      37   \n",
       "1  1633384800  28.37       33.04      1010        80      24.58  0.00      38   \n",
       "2  1633388400  28.22       32.49      1011        79      24.23  0.14      38   \n",
       "3  1633392000  28.36       32.17      1012        75      23.50  0.92      35   \n",
       "4  1633395600  28.62       32.08      1012        71      22.84  2.70      10   \n",
       "\n",
       "   visibility  wind_speed  wind_deg  wind_gust  \\\n",
       "0       10000        8.08        79       9.91   \n",
       "1       10000        8.04        76       9.91   \n",
       "2       10000        8.03        71      10.29   \n",
       "3       10000        8.47        67      11.04   \n",
       "4       10000        8.68        67      10.93   \n",
       "\n",
       "                                             weather   pop          rain  \n",
       "0  [{'id': 802, 'main': 'Clouds', 'description': ...  0.22           NaN  \n",
       "1  [{'id': 500, 'main': 'Rain', 'description': 'l...  0.33  {'1h': 0.13}  \n",
       "2  [{'id': 802, 'main': 'Clouds', 'description': ...  0.08           NaN  \n",
       "3  [{'id': 802, 'main': 'Clouds', 'description': ...  0.08           NaN  \n",
       "4  [{'id': 800, 'main': 'Clear', 'description': '...  0.00           NaN  "
      ]
     },
     "execution_count": 10,
     "metadata": {},
     "output_type": "execute_result"
    }
   ],
   "source": [
    "df_hourly.head()"
   ]
  },
  {
   "cell_type": "code",
   "execution_count": null,
   "metadata": {},
   "outputs": [],
   "source": []
  }
 ],
 "metadata": {
  "interpreter": {
   "hash": "c1b4cfe941b6d2466ad1fb5979e97da9cda8801728c8091b097ab734208fc00c"
  },
  "kernelspec": {
   "display_name": "Python 3.8.3 64-bit ('base': conda)",
   "name": "python3"
  },
  "language_info": {
   "codemirror_mode": {
    "name": "ipython",
    "version": 3
   },
   "file_extension": ".py",
   "mimetype": "text/x-python",
   "name": "python",
   "nbconvert_exporter": "python",
   "pygments_lexer": "ipython3",
   "version": "3.8.12"
  }
 },
 "nbformat": 4,
 "nbformat_minor": 2
}
