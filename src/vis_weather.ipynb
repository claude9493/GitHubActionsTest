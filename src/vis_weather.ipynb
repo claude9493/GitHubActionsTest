{
 "cells": [
  {
   "cell_type": "code",
   "execution_count": 1,
   "metadata": {
    "execution": {
     "iopub.execute_input": "2021-09-01T09:39:53.099299Z",
     "iopub.status.busy": "2021-09-01T09:39:53.098649Z",
     "iopub.status.idle": "2021-09-01T09:39:56.780157Z",
     "shell.execute_reply": "2021-09-01T09:39:56.779536Z"
    }
   },
   "outputs": [],
   "source": [
    "import json, yaml, requests\r\n",
    "from datetime import datetime\r\n",
    "from dateutil import tz\r\n",
    "import pandas as pd\r\n",
    "from PIL import Image\r\n",
    "from io import BytesIO\r\n",
    "import matplotlib.pyplot as plt\r\n",
    "import seaborn\r\n",
    "\r\n",
    "CONFIG_PATH = \"../config/config.yaml\""
   ]
  },
  {
   "cell_type": "code",
   "execution_count": 2,
   "metadata": {
    "execution": {
     "iopub.execute_input": "2021-09-01T09:39:56.788812Z",
     "iopub.status.busy": "2021-09-01T09:39:56.785361Z",
     "iopub.status.idle": "2021-09-01T09:39:56.792229Z",
     "shell.execute_reply": "2021-09-01T09:39:56.791556Z"
    }
   },
   "outputs": [],
   "source": [
    "with open('../newest_ts', 'r') as f:\r\n",
    "    newest_ts = f.read()\r\n",
    "\r\n",
    "data_path = f\"../data/data_{newest_ts}.json\"\r\n",
    "with open(data_path, 'r') as f:\r\n",
    "    data = json.load(f)\r\n",
    "\r\n",
    "with open(CONFIG_PATH, \"r\") as stream:\r\n",
    "    config = yaml.safe_load(stream)\r\n",
    "\r\n",
    "TIME_ZONE = config['time_zone']\r\n",
    "DATETIME_FORMAT = config['dt_format']"
   ]
  },
  {
   "cell_type": "code",
   "execution_count": 3,
   "metadata": {
    "execution": {
     "iopub.execute_input": "2021-09-01T09:39:56.796919Z",
     "iopub.status.busy": "2021-09-01T09:39:56.796343Z",
     "iopub.status.idle": "2021-09-01T09:39:56.801491Z",
     "shell.execute_reply": "2021-09-01T09:39:56.801034Z"
    }
   },
   "outputs": [
    {
     "name": "stdout",
     "output_type": "stream",
     "text": [
      "Recent query happens at 2021-09-01 17:39:50 (CST).\n"
     ]
    }
   ],
   "source": [
    "def ts2dt(ts, format=DATETIME_FORMAT):\r\n",
    "    dt = (datetime.utcfromtimestamp(int(ts))\r\n",
    "                    .replace(tzinfo=tz.tzutc())\r\n",
    "                    # .astimezone(tz.tzlocal())\r\n",
    "                    .astimezone(tz.gettz(TIME_ZONE)))\r\n",
    "    return dt.strftime(format), dt\r\n",
    "\r\n",
    "_, newest_dt = ts2dt(newest_ts)\r\n",
    "print(f\"Recent query happens at {newest_dt.strftime(DATETIME_FORMAT)} ({newest_dt.tzname()}).\")"
   ]
  },
  {
   "cell_type": "code",
   "execution_count": 4,
   "metadata": {
    "execution": {
     "iopub.execute_input": "2021-09-01T09:39:56.807350Z",
     "iopub.status.busy": "2021-09-01T09:39:56.805961Z",
     "iopub.status.idle": "2021-09-01T09:39:56.808009Z",
     "shell.execute_reply": "2021-09-01T09:39:56.808442Z"
    }
   },
   "outputs": [],
   "source": [
    "def degrees_to_cardinal(d):\r\n",
    "  dirs = ['N', 'NNE', 'NE', 'ENE', 'E', 'ESE', 'SE', 'SSE', 'S', 'SSW', 'SW', 'WSW', 'W', 'WNW', 'NW', 'NNW']\r\n",
    "  ix = int(round(d / (360. / len(dirs))))\r\n",
    "  return dirs[ix % len(dirs)]"
   ]
  },
  {
   "cell_type": "code",
   "execution_count": 5,
   "metadata": {
    "execution": {
     "iopub.execute_input": "2021-09-01T09:39:56.812797Z",
     "iopub.status.busy": "2021-09-01T09:39:56.811365Z",
     "iopub.status.idle": "2021-09-01T09:39:56.813405Z",
     "shell.execute_reply": "2021-09-01T09:39:56.813850Z"
    }
   },
   "outputs": [],
   "source": [
    "# data.keys()"
   ]
  },
  {
   "cell_type": "code",
   "execution_count": 6,
   "metadata": {
    "execution": {
     "iopub.execute_input": "2021-09-01T09:39:56.818114Z",
     "iopub.status.busy": "2021-09-01T09:39:56.816835Z",
     "iopub.status.idle": "2021-09-01T09:39:56.818704Z",
     "shell.execute_reply": "2021-09-01T09:39:56.819183Z"
    }
   },
   "outputs": [],
   "source": [
    "# data['current']"
   ]
  },
  {
   "cell_type": "code",
   "execution_count": 7,
   "metadata": {
    "execution": {
     "iopub.execute_input": "2021-09-01T09:39:56.838563Z",
     "iopub.status.busy": "2021-09-01T09:39:56.837965Z",
     "iopub.status.idle": "2021-09-01T09:40:01.074408Z",
     "shell.execute_reply": "2021-09-01T09:40:01.075624Z"
    }
   },
   "outputs": [
    {
     "data": {
      "image/png": "[encoded data removed]",
      "text/plain": [
       "<Figure size 216x216 with 1 Axes>"
      ]
     },
     "metadata": {
      "needs_background": "light"
     },
     "output_type": "display_data"
    },
    {
     "name": "stdout",
     "output_type": "stream",
     "text": [
      "Today, sun rises at 06:05 and sets at 18:40.\n",
      "Currently, the weather is Clear (clear sky).\n",
      "The temperature is 29.96°C and it feels like 36.96°C.\n",
      "The UV index is 0.21, humidity is 80%.\n",
      "The pressure is 1008 hPa, percentage of cloud cover is 9%\n",
      "The wind comes from E direction with a speed 5.56 m/s.\n"
     ]
    }
   ],
   "source": [
    "current = data['current']\r\n",
    "\r\n",
    "fig, ax = plt.subplots(figsize=(3, 3))\r\n",
    "icon = requests.get(f\"http://openweathermap.org/img/wn/{current['weather'][0]['icon']}@2x.png\")\r\n",
    "im = Image.open(BytesIO(icon.content))\r\n",
    "plt.imshow(im)\r\n",
    "ax.set_axis_off()\r\n",
    "plt.show()\r\n",
    "\r\n",
    "print(f\"Today, sun rises at {ts2dt(current['sunrise'], '%H:%M')[0]} \\\r\n",
    "and sets at {ts2dt(current['sunset'], '%H:%M')[0]}.\\n\\\r\n",
    "Currently, the weather is {current['weather'][0]['main']} ({current['weather'][0]['description']}).\\n\\\r\n",
    "The temperature is {current['temp']}°C and it feels like {current['feels_like']}°C.\\n\\\r\n",
    "The UV index is {current['uvi']}, humidity is {current['humidity']}%.\\n\\\r\n",
    "The pressure is {current['pressure']} hPa, percentage of cloud cover is {current['clouds']}%\\n\\\r\n",
    "The wind comes from {degrees_to_cardinal(current['wind_deg'])} direction with a speed {current['wind_speed']} m/s.\")"
   ]
  },
  {
   "cell_type": "code",
   "execution_count": 8,
   "metadata": {
    "execution": {
     "iopub.execute_input": "2021-09-01T09:40:01.080008Z",
     "iopub.status.busy": "2021-09-01T09:40:01.078684Z",
     "iopub.status.idle": "2021-09-01T09:40:01.088065Z",
     "shell.execute_reply": "2021-09-01T09:40:01.088807Z"
    }
   },
   "outputs": [],
   "source": [
    "df_hourly = pd.DataFrame(data['hourly'])\r\n",
    "df_daily = pd.DataFrame(data['daily'])"
   ]
  },
  {
   "cell_type": "code",
   "execution_count": 9,
   "metadata": {
    "execution": {
     "iopub.execute_input": "2021-09-01T09:40:01.092252Z",
     "iopub.status.busy": "2021-09-01T09:40:01.091680Z",
     "iopub.status.idle": "2021-09-01T09:40:01.444424Z",
     "shell.execute_reply": "2021-09-01T09:40:01.443886Z"
    }
   },
   "outputs": [
    {
     "data": {
      "image/png": "[encoded data removed]",
      "text/plain": [
       "<Figure size 864x432 with 1 Axes>"
      ]
     },
     "metadata": {
      "needs_background": "light"
     },
     "output_type": "display_data"
    }
   ],
   "source": [
    "fig, ax = plt.subplots(figsize=(12, 6))\r\n",
    "plt.plot(df_hourly.temp, '.-', label='Temperature')\r\n",
    "plt.plot(df_hourly.feels_like, '.-', label='Feels Like')\r\n",
    "ax.set(title='Temperature in future 48 hours', xlabel='Time', ylabel='Temperature')\r\n",
    "ax.set_xticks(list(range(0, len(df_hourly), 2)))\r\n",
    "ax.set_xticklabels([ts2dt(ts, '%m-%d %H:%M')[0] for i, ts in enumerate(df_hourly.dt) if i%2==0], \r\n",
    "                   rotation=45, ha=\"right\")\r\n",
    "ax.locator_params(nbins=15, axis='y')\r\n",
    "plt.legend()\r\n",
    "plt.show()"
   ]
  },
  {
   "cell_type": "code",
   "execution_count": 10,
   "metadata": {
    "execution": {
     "iopub.execute_input": "2021-09-01T09:40:01.456360Z",
     "iopub.status.busy": "2021-09-01T09:40:01.448566Z",
     "iopub.status.idle": "2021-09-01T09:40:01.467748Z",
     "shell.execute_reply": "2021-09-01T09:40:01.468697Z"
    }
   },
   "outputs": [
    {
     "data": {
      "text/html": [
       "<div>\n",
       "<style scoped>\n",
       "    .dataframe tbody tr th:only-of-type {\n",
       "        vertical-align: middle;\n",
       "    }\n",
       "\n",
       "    .dataframe tbody tr th {\n",
       "        vertical-align: top;\n",
       "    }\n",
       "\n",
       "    .dataframe thead th {\n",
       "        text-align: right;\n",
       "    }\n",
       "</style>\n",
       "<table border=\"1\" class=\"dataframe\">\n",
       "  <thead>\n",
       "    <tr style=\"text-align: right;\">\n",
       "      <th></th>\n",
       "      <th>dt</th>\n",
       "      <th>temp</th>\n",
       "      <th>feels_like</th>\n",
       "      <th>pressure</th>\n",
       "      <th>humidity</th>\n",
       "      <th>dew_point</th>\n",
       "      <th>uvi</th>\n",
       "      <th>clouds</th>\n",
       "      <th>visibility</th>\n",
       "      <th>wind_speed</th>\n",
       "      <th>wind_deg</th>\n",
       "      <th>wind_gust</th>\n",
       "      <th>weather</th>\n",
       "      <th>pop</th>\n",
       "      <th>rain</th>\n",
       "    </tr>\n",
       "  </thead>\n",
       "  <tbody>\n",
       "    <tr>\n",
       "      <th>0</th>\n",
       "      <td>1630486800</td>\n",
       "      <td>29.75</td>\n",
       "      <td>36.64</td>\n",
       "      <td>1008</td>\n",
       "      <td>79</td>\n",
       "      <td>25.71</td>\n",
       "      <td>1.19</td>\n",
       "      <td>9</td>\n",
       "      <td>10000</td>\n",
       "      <td>5.93</td>\n",
       "      <td>97</td>\n",
       "      <td>7.35</td>\n",
       "      <td>[{'id': 800, 'main': 'Clear', 'description': '...</td>\n",
       "      <td>0.55</td>\n",
       "      <td>NaN</td>\n",
       "    </tr>\n",
       "    <tr>\n",
       "      <th>1</th>\n",
       "      <td>1630490400</td>\n",
       "      <td>29.96</td>\n",
       "      <td>36.96</td>\n",
       "      <td>1008</td>\n",
       "      <td>80</td>\n",
       "      <td>26.13</td>\n",
       "      <td>0.21</td>\n",
       "      <td>9</td>\n",
       "      <td>10000</td>\n",
       "      <td>5.56</td>\n",
       "      <td>97</td>\n",
       "      <td>7.65</td>\n",
       "      <td>[{'id': 800, 'main': 'Clear', 'description': '...</td>\n",
       "      <td>0.51</td>\n",
       "      <td>NaN</td>\n",
       "    </tr>\n",
       "    <tr>\n",
       "      <th>2</th>\n",
       "      <td>1630494000</td>\n",
       "      <td>29.54</td>\n",
       "      <td>36.29</td>\n",
       "      <td>1008</td>\n",
       "      <td>80</td>\n",
       "      <td>25.72</td>\n",
       "      <td>0.00</td>\n",
       "      <td>9</td>\n",
       "      <td>10000</td>\n",
       "      <td>5.46</td>\n",
       "      <td>100</td>\n",
       "      <td>7.64</td>\n",
       "      <td>[{'id': 800, 'main': 'Clear', 'description': '...</td>\n",
       "      <td>0.59</td>\n",
       "      <td>NaN</td>\n",
       "    </tr>\n",
       "    <tr>\n",
       "      <th>3</th>\n",
       "      <td>1630497600</td>\n",
       "      <td>29.04</td>\n",
       "      <td>35.07</td>\n",
       "      <td>1008</td>\n",
       "      <td>81</td>\n",
       "      <td>25.44</td>\n",
       "      <td>0.00</td>\n",
       "      <td>9</td>\n",
       "      <td>10000</td>\n",
       "      <td>5.19</td>\n",
       "      <td>100</td>\n",
       "      <td>7.42</td>\n",
       "      <td>[{'id': 800, 'main': 'Clear', 'description': '...</td>\n",
       "      <td>0.59</td>\n",
       "      <td>NaN</td>\n",
       "    </tr>\n",
       "    <tr>\n",
       "      <th>4</th>\n",
       "      <td>1630501200</td>\n",
       "      <td>28.53</td>\n",
       "      <td>33.84</td>\n",
       "      <td>1009</td>\n",
       "      <td>82</td>\n",
       "      <td>25.15</td>\n",
       "      <td>0.00</td>\n",
       "      <td>25</td>\n",
       "      <td>10000</td>\n",
       "      <td>5.00</td>\n",
       "      <td>100</td>\n",
       "      <td>7.32</td>\n",
       "      <td>[{'id': 500, 'main': 'Rain', 'description': 'l...</td>\n",
       "      <td>0.66</td>\n",
       "      <td>{'1h': 0.98}</td>\n",
       "    </tr>\n",
       "  </tbody>\n",
       "</table>\n",
       "</div>"
      ],
      "text/plain": [
       "           dt   temp  feels_like  pressure  humidity  dew_point   uvi  clouds  \\\n",
       "0  1630486800  29.75       36.64      1008        79      25.71  1.19       9   \n",
       "1  1630490400  29.96       36.96      1008        80      26.13  0.21       9   \n",
       "2  1630494000  29.54       36.29      1008        80      25.72  0.00       9   \n",
       "3  1630497600  29.04       35.07      1008        81      25.44  0.00       9   \n",
       "4  1630501200  28.53       33.84      1009        82      25.15  0.00      25   \n",
       "\n",
       "   visibility  wind_speed  wind_deg  wind_gust  \\\n",
       "0       10000        5.93        97       7.35   \n",
       "1       10000        5.56        97       7.65   \n",
       "2       10000        5.46       100       7.64   \n",
       "3       10000        5.19       100       7.42   \n",
       "4       10000        5.00       100       7.32   \n",
       "\n",
       "                                             weather   pop          rain  \n",
       "0  [{'id': 800, 'main': 'Clear', 'description': '...  0.55           NaN  \n",
       "1  [{'id': 800, 'main': 'Clear', 'description': '...  0.51           NaN  \n",
       "2  [{'id': 800, 'main': 'Clear', 'description': '...  0.59           NaN  \n",
       "3  [{'id': 800, 'main': 'Clear', 'description': '...  0.59           NaN  \n",
       "4  [{'id': 500, 'main': 'Rain', 'description': 'l...  0.66  {'1h': 0.98}  "
      ]
     },
     "execution_count": 10,
     "metadata": {},
     "output_type": "execute_result"
    }
   ],
   "source": [
    "df_hourly.head()"
   ]
  },
  {
   "cell_type": "code",
   "execution_count": null,
   "metadata": {},
   "outputs": [],
   "source": []
  }
 ],
 "metadata": {
  "interpreter": {
   "hash": "c1b4cfe941b6d2466ad1fb5979e97da9cda8801728c8091b097ab734208fc00c"
  },
  "kernelspec": {
   "display_name": "Python 3.8.3 64-bit ('base': conda)",
   "name": "python3"
  },
  "language_info": {
   "codemirror_mode": {
    "name": "ipython",
    "version": 3
   },
   "file_extension": ".py",
   "mimetype": "text/x-python",
   "name": "python",
   "nbconvert_exporter": "python",
   "pygments_lexer": "ipython3",
   "version": "3.8.11"
  }
 },
 "nbformat": 4,
 "nbformat_minor": 2
}
