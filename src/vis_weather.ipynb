{
 "cells": [
  {
   "cell_type": "code",
   "execution_count": 1,
   "metadata": {
    "execution": {
     "iopub.execute_input": "2021-09-22T09:11:17.906503Z",
     "iopub.status.busy": "2021-09-22T09:11:17.905679Z",
     "iopub.status.idle": "2021-09-22T09:11:19.179061Z",
     "shell.execute_reply": "2021-09-22T09:11:19.178075Z"
    }
   },
   "outputs": [],
   "source": [
    "import json, yaml, requests\r\n",
    "from datetime import datetime\r\n",
    "from dateutil import tz\r\n",
    "import pandas as pd\r\n",
    "from PIL import Image\r\n",
    "from io import BytesIO\r\n",
    "import matplotlib.pyplot as plt\r\n",
    "import seaborn\r\n",
    "\r\n",
    "CONFIG_PATH = \"../config/config.yaml\""
   ]
  },
  {
   "cell_type": "code",
   "execution_count": 2,
   "metadata": {
    "execution": {
     "iopub.execute_input": "2021-09-22T09:11:19.183390Z",
     "iopub.status.busy": "2021-09-22T09:11:19.182968Z",
     "iopub.status.idle": "2021-09-22T09:11:19.187604Z",
     "shell.execute_reply": "2021-09-22T09:11:19.187233Z"
    }
   },
   "outputs": [],
   "source": [
    "with open('../newest_ts', 'r') as f:\r\n",
    "    newest_ts = f.read()\r\n",
    "\r\n",
    "data_path = f\"../data/data_{newest_ts}.json\"\r\n",
    "with open(data_path, 'r') as f:\r\n",
    "    data = json.load(f)\r\n",
    "\r\n",
    "with open(CONFIG_PATH, \"r\") as stream:\r\n",
    "    config = yaml.safe_load(stream)\r\n",
    "\r\n",
    "TIME_ZONE = config['time_zone']\r\n",
    "DATETIME_FORMAT = config['dt_format']"
   ]
  },
  {
   "cell_type": "code",
   "execution_count": 3,
   "metadata": {
    "execution": {
     "iopub.execute_input": "2021-09-22T09:11:19.191531Z",
     "iopub.status.busy": "2021-09-22T09:11:19.191082Z",
     "iopub.status.idle": "2021-09-22T09:11:19.201730Z",
     "shell.execute_reply": "2021-09-22T09:11:19.202044Z"
    }
   },
   "outputs": [
    {
     "name": "stdout",
     "output_type": "stream",
     "text": [
      "Recent query happens at 2021-09-22 17:11:14 (CST).\n"
     ]
    }
   ],
   "source": [
    "def ts2dt(ts, format=DATETIME_FORMAT):\r\n",
    "    dt = (datetime.utcfromtimestamp(int(ts))\r\n",
    "                    .replace(tzinfo=tz.tzutc())\r\n",
    "                    # .astimezone(tz.tzlocal())\r\n",
    "                    .astimezone(tz.gettz(TIME_ZONE)))\r\n",
    "    return dt.strftime(format), dt\r\n",
    "\r\n",
    "_, newest_dt = ts2dt(newest_ts)\r\n",
    "print(f\"Recent query happens at {newest_dt.strftime(DATETIME_FORMAT)} ({newest_dt.tzname()}).\")"
   ]
  },
  {
   "cell_type": "code",
   "execution_count": 4,
   "metadata": {
    "execution": {
     "iopub.execute_input": "2021-09-22T09:11:19.206164Z",
     "iopub.status.busy": "2021-09-22T09:11:19.205452Z",
     "iopub.status.idle": "2021-09-22T09:11:19.206855Z",
     "shell.execute_reply": "2021-09-22T09:11:19.207156Z"
    }
   },
   "outputs": [],
   "source": [
    "def degrees_to_cardinal(d):\r\n",
    "  dirs = ['N', 'NNE', 'NE', 'ENE', 'E', 'ESE', 'SE', 'SSE', 'S', 'SSW', 'SW', 'WSW', 'W', 'WNW', 'NW', 'NNW']\r\n",
    "  ix = int(round(d / (360. / len(dirs))))\r\n",
    "  return dirs[ix % len(dirs)]"
   ]
  },
  {
   "cell_type": "code",
   "execution_count": 5,
   "metadata": {
    "execution": {
     "iopub.execute_input": "2021-09-22T09:11:19.210898Z",
     "iopub.status.busy": "2021-09-22T09:11:19.209988Z",
     "iopub.status.idle": "2021-09-22T09:11:19.211355Z",
     "shell.execute_reply": "2021-09-22T09:11:19.211696Z"
    }
   },
   "outputs": [],
   "source": [
    "# data.keys()"
   ]
  },
  {
   "cell_type": "code",
   "execution_count": 6,
   "metadata": {
    "execution": {
     "iopub.execute_input": "2021-09-22T09:11:19.214863Z",
     "iopub.status.busy": "2021-09-22T09:11:19.214190Z",
     "iopub.status.idle": "2021-09-22T09:11:19.215777Z",
     "shell.execute_reply": "2021-09-22T09:11:19.215468Z"
    }
   },
   "outputs": [],
   "source": [
    "# data['current']"
   ]
  },
  {
   "cell_type": "code",
   "execution_count": 7,
   "metadata": {
    "execution": {
     "iopub.execute_input": "2021-09-22T09:11:19.221558Z",
     "iopub.status.busy": "2021-09-22T09:11:19.221120Z",
     "iopub.status.idle": "2021-09-22T09:11:19.671325Z",
     "shell.execute_reply": "2021-09-22T09:11:19.671738Z"
    }
   },
   "outputs": [
    {
     "data": {
      "image/png": "[encoded data removed]",
      "text/plain": [
       "<Figure size 216x216 with 1 Axes>"
      ]
     },
     "metadata": {
      "needs_background": "light"
     },
     "output_type": "display_data"
    },
    {
     "name": "stdout",
     "output_type": "stream",
     "text": [
      "Today, sun rises at 06:11 and sets at 18:19.\n",
      "Currently, the weather is Clouds (broken clouds).\n",
      "The temperature is 32.12°C and it feels like 39.12°C.\n",
      "The UV index is 0.85, humidity is 73%.\n",
      "The pressure is 1009 hPa, percentage of cloud cover is 61%\n",
      "The wind comes from ESE direction with a speed 4.1 m/s.\n"
     ]
    }
   ],
   "source": [
    "current = data['current']\r\n",
    "\r\n",
    "fig, ax = plt.subplots(figsize=(3, 3))\r\n",
    "icon = requests.get(f\"http://openweathermap.org/img/wn/{current['weather'][0]['icon']}@2x.png\")\r\n",
    "im = Image.open(BytesIO(icon.content))\r\n",
    "plt.imshow(im)\r\n",
    "ax.set_axis_off()\r\n",
    "plt.show()\r\n",
    "\r\n",
    "print(f\"Today, sun rises at {ts2dt(current['sunrise'], '%H:%M')[0]} \\\r\n",
    "and sets at {ts2dt(current['sunset'], '%H:%M')[0]}.\\n\\\r\n",
    "Currently, the weather is {current['weather'][0]['main']} ({current['weather'][0]['description']}).\\n\\\r\n",
    "The temperature is {current['temp']}°C and it feels like {current['feels_like']}°C.\\n\\\r\n",
    "The UV index is {current['uvi']}, humidity is {current['humidity']}%.\\n\\\r\n",
    "The pressure is {current['pressure']} hPa, percentage of cloud cover is {current['clouds']}%\\n\\\r\n",
    "The wind comes from {degrees_to_cardinal(current['wind_deg'])} direction with a speed {current['wind_speed']} m/s.\")"
   ]
  },
  {
   "cell_type": "code",
   "execution_count": 8,
   "metadata": {
    "execution": {
     "iopub.execute_input": "2021-09-22T09:11:19.674248Z",
     "iopub.status.busy": "2021-09-22T09:11:19.673777Z",
     "iopub.status.idle": "2021-09-22T09:11:19.678826Z",
     "shell.execute_reply": "2021-09-22T09:11:19.679244Z"
    }
   },
   "outputs": [],
   "source": [
    "df_hourly = pd.DataFrame(data['hourly'])\r\n",
    "df_daily = pd.DataFrame(data['daily'])"
   ]
  },
  {
   "cell_type": "code",
   "execution_count": 9,
   "metadata": {
    "execution": {
     "iopub.execute_input": "2021-09-22T09:11:19.681520Z",
     "iopub.status.busy": "2021-09-22T09:11:19.680998Z",
     "iopub.status.idle": "2021-09-22T09:11:19.908343Z",
     "shell.execute_reply": "2021-09-22T09:11:19.908860Z"
    }
   },
   "outputs": [
    {
     "data": {
      "image/png": "[encoded data removed]",
      "text/plain": [
       "<Figure size 864x432 with 1 Axes>"
      ]
     },
     "metadata": {
      "needs_background": "light"
     },
     "output_type": "display_data"
    }
   ],
   "source": [
    "fig, ax = plt.subplots(figsize=(12, 6))\r\n",
    "plt.plot(df_hourly.temp, '.-', label='Temperature')\r\n",
    "plt.plot(df_hourly.feels_like, '.-', label='Feels Like')\r\n",
    "ax.set(title='Temperature in future 48 hours', xlabel='Time', ylabel='Temperature')\r\n",
    "ax.set_xticks(list(range(0, len(df_hourly), 2)))\r\n",
    "ax.set_xticklabels([ts2dt(ts, '%m-%d %H:%M')[0] for i, ts in enumerate(df_hourly.dt) if i%2==0], \r\n",
    "                   rotation=45, ha=\"right\")\r\n",
    "ax.locator_params(nbins=15, axis='y')\r\n",
    "plt.legend()\r\n",
    "plt.show()"
   ]
  },
  {
   "cell_type": "code",
   "execution_count": 10,
   "metadata": {
    "execution": {
     "iopub.execute_input": "2021-09-22T09:11:19.920027Z",
     "iopub.status.busy": "2021-09-22T09:11:19.912663Z",
     "iopub.status.idle": "2021-09-22T09:11:19.929982Z",
     "shell.execute_reply": "2021-09-22T09:11:19.929556Z"
    }
   },
   "outputs": [
    {
     "data": {
      "text/html": [
       "<div>\n",
       "<style scoped>\n",
       "    .dataframe tbody tr th:only-of-type {\n",
       "        vertical-align: middle;\n",
       "    }\n",
       "\n",
       "    .dataframe tbody tr th {\n",
       "        vertical-align: top;\n",
       "    }\n",
       "\n",
       "    .dataframe thead th {\n",
       "        text-align: right;\n",
       "    }\n",
       "</style>\n",
       "<table border=\"1\" class=\"dataframe\">\n",
       "  <thead>\n",
       "    <tr style=\"text-align: right;\">\n",
       "      <th></th>\n",
       "      <th>dt</th>\n",
       "      <th>temp</th>\n",
       "      <th>feels_like</th>\n",
       "      <th>pressure</th>\n",
       "      <th>humidity</th>\n",
       "      <th>dew_point</th>\n",
       "      <th>uvi</th>\n",
       "      <th>clouds</th>\n",
       "      <th>visibility</th>\n",
       "      <th>wind_speed</th>\n",
       "      <th>wind_deg</th>\n",
       "      <th>wind_gust</th>\n",
       "      <th>weather</th>\n",
       "      <th>pop</th>\n",
       "      <th>rain</th>\n",
       "    </tr>\n",
       "  </thead>\n",
       "  <tbody>\n",
       "    <tr>\n",
       "      <th>0</th>\n",
       "      <td>1632301200</td>\n",
       "      <td>32.12</td>\n",
       "      <td>39.12</td>\n",
       "      <td>1009</td>\n",
       "      <td>73</td>\n",
       "      <td>26.66</td>\n",
       "      <td>0.85</td>\n",
       "      <td>61</td>\n",
       "      <td>10000</td>\n",
       "      <td>4.10</td>\n",
       "      <td>111</td>\n",
       "      <td>4.94</td>\n",
       "      <td>[{'id': 803, 'main': 'Clouds', 'description': ...</td>\n",
       "      <td>0.23</td>\n",
       "      <td>NaN</td>\n",
       "    </tr>\n",
       "    <tr>\n",
       "      <th>1</th>\n",
       "      <td>1632304800</td>\n",
       "      <td>31.58</td>\n",
       "      <td>38.58</td>\n",
       "      <td>1009</td>\n",
       "      <td>74</td>\n",
       "      <td>26.38</td>\n",
       "      <td>0.11</td>\n",
       "      <td>61</td>\n",
       "      <td>10000</td>\n",
       "      <td>3.71</td>\n",
       "      <td>114</td>\n",
       "      <td>4.77</td>\n",
       "      <td>[{'id': 803, 'main': 'Clouds', 'description': ...</td>\n",
       "      <td>0.20</td>\n",
       "      <td>NaN</td>\n",
       "    </tr>\n",
       "    <tr>\n",
       "      <th>2</th>\n",
       "      <td>1632308400</td>\n",
       "      <td>30.86</td>\n",
       "      <td>37.86</td>\n",
       "      <td>1009</td>\n",
       "      <td>75</td>\n",
       "      <td>25.91</td>\n",
       "      <td>0.00</td>\n",
       "      <td>58</td>\n",
       "      <td>10000</td>\n",
       "      <td>3.67</td>\n",
       "      <td>112</td>\n",
       "      <td>4.94</td>\n",
       "      <td>[{'id': 803, 'main': 'Clouds', 'description': ...</td>\n",
       "      <td>0.27</td>\n",
       "      <td>NaN</td>\n",
       "    </tr>\n",
       "    <tr>\n",
       "      <th>3</th>\n",
       "      <td>1632312000</td>\n",
       "      <td>30.14</td>\n",
       "      <td>37.14</td>\n",
       "      <td>1010</td>\n",
       "      <td>77</td>\n",
       "      <td>25.66</td>\n",
       "      <td>0.00</td>\n",
       "      <td>53</td>\n",
       "      <td>10000</td>\n",
       "      <td>3.97</td>\n",
       "      <td>105</td>\n",
       "      <td>5.67</td>\n",
       "      <td>[{'id': 803, 'main': 'Clouds', 'description': ...</td>\n",
       "      <td>0.44</td>\n",
       "      <td>NaN</td>\n",
       "    </tr>\n",
       "    <tr>\n",
       "      <th>4</th>\n",
       "      <td>1632315600</td>\n",
       "      <td>29.37</td>\n",
       "      <td>35.55</td>\n",
       "      <td>1011</td>\n",
       "      <td>79</td>\n",
       "      <td>25.34</td>\n",
       "      <td>0.00</td>\n",
       "      <td>20</td>\n",
       "      <td>10000</td>\n",
       "      <td>4.22</td>\n",
       "      <td>103</td>\n",
       "      <td>6.09</td>\n",
       "      <td>[{'id': 500, 'main': 'Rain', 'description': 'l...</td>\n",
       "      <td>0.69</td>\n",
       "      <td>{'1h': 0.1}</td>\n",
       "    </tr>\n",
       "  </tbody>\n",
       "</table>\n",
       "</div>"
      ],
      "text/plain": [
       "           dt   temp  feels_like  pressure  humidity  dew_point   uvi  clouds  \\\n",
       "0  1632301200  32.12       39.12      1009        73      26.66  0.85      61   \n",
       "1  1632304800  31.58       38.58      1009        74      26.38  0.11      61   \n",
       "2  1632308400  30.86       37.86      1009        75      25.91  0.00      58   \n",
       "3  1632312000  30.14       37.14      1010        77      25.66  0.00      53   \n",
       "4  1632315600  29.37       35.55      1011        79      25.34  0.00      20   \n",
       "\n",
       "   visibility  wind_speed  wind_deg  wind_gust  \\\n",
       "0       10000        4.10       111       4.94   \n",
       "1       10000        3.71       114       4.77   \n",
       "2       10000        3.67       112       4.94   \n",
       "3       10000        3.97       105       5.67   \n",
       "4       10000        4.22       103       6.09   \n",
       "\n",
       "                                             weather   pop         rain  \n",
       "0  [{'id': 803, 'main': 'Clouds', 'description': ...  0.23          NaN  \n",
       "1  [{'id': 803, 'main': 'Clouds', 'description': ...  0.20          NaN  \n",
       "2  [{'id': 803, 'main': 'Clouds', 'description': ...  0.27          NaN  \n",
       "3  [{'id': 803, 'main': 'Clouds', 'description': ...  0.44          NaN  \n",
       "4  [{'id': 500, 'main': 'Rain', 'description': 'l...  0.69  {'1h': 0.1}  "
      ]
     },
     "execution_count": 10,
     "metadata": {},
     "output_type": "execute_result"
    }
   ],
   "source": [
    "df_hourly.head()"
   ]
  },
  {
   "cell_type": "code",
   "execution_count": null,
   "metadata": {},
   "outputs": [],
   "source": []
  }
 ],
 "metadata": {
  "interpreter": {
   "hash": "c1b4cfe941b6d2466ad1fb5979e97da9cda8801728c8091b097ab734208fc00c"
  },
  "kernelspec": {
   "display_name": "Python 3.8.3 64-bit ('base': conda)",
   "name": "python3"
  },
  "language_info": {
   "codemirror_mode": {
    "name": "ipython",
    "version": 3
   },
   "file_extension": ".py",
   "mimetype": "text/x-python",
   "name": "python",
   "nbconvert_exporter": "python",
   "pygments_lexer": "ipython3",
   "version": "3.8.11"
  }
 },
 "nbformat": 4,
 "nbformat_minor": 2
}
