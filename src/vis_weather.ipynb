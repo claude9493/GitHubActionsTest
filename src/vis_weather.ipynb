{
 "cells": [
  {
   "cell_type": "code",
   "execution_count": 1,
   "metadata": {
    "execution": {
     "iopub.execute_input": "2021-09-15T01:54:37.330210Z",
     "iopub.status.busy": "2021-09-15T01:54:37.323610Z",
     "iopub.status.idle": "2021-09-15T01:54:38.646559Z",
     "shell.execute_reply": "2021-09-15T01:54:38.645597Z"
    }
   },
   "outputs": [],
   "source": [
    "import json, yaml, requests\r\n",
    "from datetime import datetime\r\n",
    "from dateutil import tz\r\n",
    "import pandas as pd\r\n",
    "from PIL import Image\r\n",
    "from io import BytesIO\r\n",
    "import matplotlib.pyplot as plt\r\n",
    "import seaborn\r\n",
    "\r\n",
    "CONFIG_PATH = \"../config/config.yaml\""
   ]
  },
  {
   "cell_type": "code",
   "execution_count": 2,
   "metadata": {
    "execution": {
     "iopub.execute_input": "2021-09-15T01:54:38.655681Z",
     "iopub.status.busy": "2021-09-15T01:54:38.652203Z",
     "iopub.status.idle": "2021-09-15T01:54:38.657586Z",
     "shell.execute_reply": "2021-09-15T01:54:38.657146Z"
    }
   },
   "outputs": [],
   "source": [
    "with open('../newest_ts', 'r') as f:\r\n",
    "    newest_ts = f.read()\r\n",
    "\r\n",
    "data_path = f\"../data/data_{newest_ts}.json\"\r\n",
    "with open(data_path, 'r') as f:\r\n",
    "    data = json.load(f)\r\n",
    "\r\n",
    "with open(CONFIG_PATH, \"r\") as stream:\r\n",
    "    config = yaml.safe_load(stream)\r\n",
    "\r\n",
    "TIME_ZONE = config['time_zone']\r\n",
    "DATETIME_FORMAT = config['dt_format']"
   ]
  },
  {
   "cell_type": "code",
   "execution_count": 3,
   "metadata": {
    "execution": {
     "iopub.execute_input": "2021-09-15T01:54:38.662052Z",
     "iopub.status.busy": "2021-09-15T01:54:38.659586Z",
     "iopub.status.idle": "2021-09-15T01:54:38.666684Z",
     "shell.execute_reply": "2021-09-15T01:54:38.667153Z"
    }
   },
   "outputs": [
    {
     "name": "stdout",
     "output_type": "stream",
     "text": [
      "Recent query happens at 2021-09-15 09:54:34 (CST).\n"
     ]
    }
   ],
   "source": [
    "def ts2dt(ts, format=DATETIME_FORMAT):\r\n",
    "    dt = (datetime.utcfromtimestamp(int(ts))\r\n",
    "                    .replace(tzinfo=tz.tzutc())\r\n",
    "                    # .astimezone(tz.tzlocal())\r\n",
    "                    .astimezone(tz.gettz(TIME_ZONE)))\r\n",
    "    return dt.strftime(format), dt\r\n",
    "\r\n",
    "_, newest_dt = ts2dt(newest_ts)\r\n",
    "print(f\"Recent query happens at {newest_dt.strftime(DATETIME_FORMAT)} ({newest_dt.tzname()}).\")"
   ]
  },
  {
   "cell_type": "code",
   "execution_count": 4,
   "metadata": {
    "execution": {
     "iopub.execute_input": "2021-09-15T01:54:38.672802Z",
     "iopub.status.busy": "2021-09-15T01:54:38.671511Z",
     "iopub.status.idle": "2021-09-15T01:54:38.673390Z",
     "shell.execute_reply": "2021-09-15T01:54:38.673810Z"
    }
   },
   "outputs": [],
   "source": [
    "def degrees_to_cardinal(d):\r\n",
    "  dirs = ['N', 'NNE', 'NE', 'ENE', 'E', 'ESE', 'SE', 'SSE', 'S', 'SSW', 'SW', 'WSW', 'W', 'WNW', 'NW', 'NNW']\r\n",
    "  ix = int(round(d / (360. / len(dirs))))\r\n",
    "  return dirs[ix % len(dirs)]"
   ]
  },
  {
   "cell_type": "code",
   "execution_count": 5,
   "metadata": {
    "execution": {
     "iopub.execute_input": "2021-09-15T01:54:38.678318Z",
     "iopub.status.busy": "2021-09-15T01:54:38.677129Z",
     "iopub.status.idle": "2021-09-15T01:54:38.678946Z",
     "shell.execute_reply": "2021-09-15T01:54:38.679456Z"
    }
   },
   "outputs": [],
   "source": [
    "# data.keys()"
   ]
  },
  {
   "cell_type": "code",
   "execution_count": 6,
   "metadata": {
    "execution": {
     "iopub.execute_input": "2021-09-15T01:54:38.682416Z",
     "iopub.status.busy": "2021-09-15T01:54:38.681368Z",
     "iopub.status.idle": "2021-09-15T01:54:38.684405Z",
     "shell.execute_reply": "2021-09-15T01:54:38.683981Z"
    }
   },
   "outputs": [],
   "source": [
    "# data['current']"
   ]
  },
  {
   "cell_type": "code",
   "execution_count": 7,
   "metadata": {
    "execution": {
     "iopub.execute_input": "2021-09-15T01:54:38.703108Z",
     "iopub.status.busy": "2021-09-15T01:54:38.702530Z",
     "iopub.status.idle": "2021-09-15T01:54:38.983164Z",
     "shell.execute_reply": "2021-09-15T01:54:38.982649Z"
    }
   },
   "outputs": [
    {
     "data": {
      "image/png": "[encoded data removed]",
      "text/plain": [
       "<Figure size 216x216 with 1 Axes>"
      ]
     },
     "metadata": {
      "needs_background": "light"
     },
     "output_type": "display_data"
    },
    {
     "name": "stdout",
     "output_type": "stream",
     "text": [
      "Today, sun rises at 06:09 and sets at 18:27.\n",
      "Currently, the weather is Clouds (scattered clouds).\n",
      "The temperature is 31.71°C and it feels like 38.71°C.\n",
      "The UV index is 6.36, humidity is 73%.\n",
      "The pressure is 1012 hPa, percentage of cloud cover is 43%\n",
      "The wind comes from W direction with a speed 2.41 m/s.\n"
     ]
    }
   ],
   "source": [
    "current = data['current']\r\n",
    "\r\n",
    "fig, ax = plt.subplots(figsize=(3, 3))\r\n",
    "icon = requests.get(f\"http://openweathermap.org/img/wn/{current['weather'][0]['icon']}@2x.png\")\r\n",
    "im = Image.open(BytesIO(icon.content))\r\n",
    "plt.imshow(im)\r\n",
    "ax.set_axis_off()\r\n",
    "plt.show()\r\n",
    "\r\n",
    "print(f\"Today, sun rises at {ts2dt(current['sunrise'], '%H:%M')[0]} \\\r\n",
    "and sets at {ts2dt(current['sunset'], '%H:%M')[0]}.\\n\\\r\n",
    "Currently, the weather is {current['weather'][0]['main']} ({current['weather'][0]['description']}).\\n\\\r\n",
    "The temperature is {current['temp']}°C and it feels like {current['feels_like']}°C.\\n\\\r\n",
    "The UV index is {current['uvi']}, humidity is {current['humidity']}%.\\n\\\r\n",
    "The pressure is {current['pressure']} hPa, percentage of cloud cover is {current['clouds']}%\\n\\\r\n",
    "The wind comes from {degrees_to_cardinal(current['wind_deg'])} direction with a speed {current['wind_speed']} m/s.\")"
   ]
  },
  {
   "cell_type": "code",
   "execution_count": 8,
   "metadata": {
    "execution": {
     "iopub.execute_input": "2021-09-15T01:54:38.988107Z",
     "iopub.status.busy": "2021-09-15T01:54:38.987590Z",
     "iopub.status.idle": "2021-09-15T01:54:38.991404Z",
     "shell.execute_reply": "2021-09-15T01:54:38.992029Z"
    }
   },
   "outputs": [],
   "source": [
    "df_hourly = pd.DataFrame(data['hourly'])\r\n",
    "df_daily = pd.DataFrame(data['daily'])"
   ]
  },
  {
   "cell_type": "code",
   "execution_count": 9,
   "metadata": {
    "execution": {
     "iopub.execute_input": "2021-09-15T01:54:38.994589Z",
     "iopub.status.busy": "2021-09-15T01:54:38.993937Z",
     "iopub.status.idle": "2021-09-15T01:54:39.282443Z",
     "shell.execute_reply": "2021-09-15T01:54:39.281975Z"
    }
   },
   "outputs": [
    {
     "data": {
      "image/png": "[encoded data removed]",
      "text/plain": [
       "<Figure size 864x432 with 1 Axes>"
      ]
     },
     "metadata": {
      "needs_background": "light"
     },
     "output_type": "display_data"
    }
   ],
   "source": [
    "fig, ax = plt.subplots(figsize=(12, 6))\r\n",
    "plt.plot(df_hourly.temp, '.-', label='Temperature')\r\n",
    "plt.plot(df_hourly.feels_like, '.-', label='Feels Like')\r\n",
    "ax.set(title='Temperature in future 48 hours', xlabel='Time', ylabel='Temperature')\r\n",
    "ax.set_xticks(list(range(0, len(df_hourly), 2)))\r\n",
    "ax.set_xticklabels([ts2dt(ts, '%m-%d %H:%M')[0] for i, ts in enumerate(df_hourly.dt) if i%2==0], \r\n",
    "                   rotation=45, ha=\"right\")\r\n",
    "ax.locator_params(nbins=15, axis='y')\r\n",
    "plt.legend()\r\n",
    "plt.show()"
   ]
  },
  {
   "cell_type": "code",
   "execution_count": 10,
   "metadata": {
    "execution": {
     "iopub.execute_input": "2021-09-15T01:54:39.294817Z",
     "iopub.status.busy": "2021-09-15T01:54:39.286617Z",
     "iopub.status.idle": "2021-09-15T01:54:39.307973Z",
     "shell.execute_reply": "2021-09-15T01:54:39.308409Z"
    }
   },
   "outputs": [
    {
     "data": {
      "text/html": [
       "<div>\n",
       "<style scoped>\n",
       "    .dataframe tbody tr th:only-of-type {\n",
       "        vertical-align: middle;\n",
       "    }\n",
       "\n",
       "    .dataframe tbody tr th {\n",
       "        vertical-align: top;\n",
       "    }\n",
       "\n",
       "    .dataframe thead th {\n",
       "        text-align: right;\n",
       "    }\n",
       "</style>\n",
       "<table border=\"1\" class=\"dataframe\">\n",
       "  <thead>\n",
       "    <tr style=\"text-align: right;\">\n",
       "      <th></th>\n",
       "      <th>dt</th>\n",
       "      <th>temp</th>\n",
       "      <th>feels_like</th>\n",
       "      <th>pressure</th>\n",
       "      <th>humidity</th>\n",
       "      <th>dew_point</th>\n",
       "      <th>uvi</th>\n",
       "      <th>clouds</th>\n",
       "      <th>visibility</th>\n",
       "      <th>wind_speed</th>\n",
       "      <th>wind_deg</th>\n",
       "      <th>wind_gust</th>\n",
       "      <th>weather</th>\n",
       "      <th>pop</th>\n",
       "      <th>rain</th>\n",
       "    </tr>\n",
       "  </thead>\n",
       "  <tbody>\n",
       "    <tr>\n",
       "      <th>0</th>\n",
       "      <td>1631667600</td>\n",
       "      <td>31.30</td>\n",
       "      <td>38.30</td>\n",
       "      <td>1012</td>\n",
       "      <td>73</td>\n",
       "      <td>25.88</td>\n",
       "      <td>3.44</td>\n",
       "      <td>44</td>\n",
       "      <td>10000</td>\n",
       "      <td>2.50</td>\n",
       "      <td>278</td>\n",
       "      <td>2.77</td>\n",
       "      <td>[{'id': 802, 'main': 'Clouds', 'description': ...</td>\n",
       "      <td>0.37</td>\n",
       "      <td>NaN</td>\n",
       "    </tr>\n",
       "    <tr>\n",
       "      <th>1</th>\n",
       "      <td>1631671200</td>\n",
       "      <td>31.71</td>\n",
       "      <td>38.71</td>\n",
       "      <td>1012</td>\n",
       "      <td>73</td>\n",
       "      <td>26.27</td>\n",
       "      <td>6.36</td>\n",
       "      <td>43</td>\n",
       "      <td>10000</td>\n",
       "      <td>2.41</td>\n",
       "      <td>279</td>\n",
       "      <td>2.66</td>\n",
       "      <td>[{'id': 802, 'main': 'Clouds', 'description': ...</td>\n",
       "      <td>0.33</td>\n",
       "      <td>NaN</td>\n",
       "    </tr>\n",
       "    <tr>\n",
       "      <th>2</th>\n",
       "      <td>1631674800</td>\n",
       "      <td>31.59</td>\n",
       "      <td>38.59</td>\n",
       "      <td>1012</td>\n",
       "      <td>71</td>\n",
       "      <td>25.69</td>\n",
       "      <td>9.11</td>\n",
       "      <td>42</td>\n",
       "      <td>10000</td>\n",
       "      <td>2.45</td>\n",
       "      <td>268</td>\n",
       "      <td>2.65</td>\n",
       "      <td>[{'id': 802, 'main': 'Clouds', 'description': ...</td>\n",
       "      <td>0.37</td>\n",
       "      <td>NaN</td>\n",
       "    </tr>\n",
       "    <tr>\n",
       "      <th>3</th>\n",
       "      <td>1631678400</td>\n",
       "      <td>31.63</td>\n",
       "      <td>38.63</td>\n",
       "      <td>1012</td>\n",
       "      <td>69</td>\n",
       "      <td>25.24</td>\n",
       "      <td>10.65</td>\n",
       "      <td>43</td>\n",
       "      <td>10000</td>\n",
       "      <td>2.93</td>\n",
       "      <td>253</td>\n",
       "      <td>3.02</td>\n",
       "      <td>[{'id': 802, 'main': 'Clouds', 'description': ...</td>\n",
       "      <td>0.29</td>\n",
       "      <td>NaN</td>\n",
       "    </tr>\n",
       "    <tr>\n",
       "      <th>4</th>\n",
       "      <td>1631682000</td>\n",
       "      <td>31.57</td>\n",
       "      <td>38.51</td>\n",
       "      <td>1011</td>\n",
       "      <td>68</td>\n",
       "      <td>24.94</td>\n",
       "      <td>10.47</td>\n",
       "      <td>50</td>\n",
       "      <td>10000</td>\n",
       "      <td>3.80</td>\n",
       "      <td>246</td>\n",
       "      <td>3.76</td>\n",
       "      <td>[{'id': 500, 'main': 'Rain', 'description': 'l...</td>\n",
       "      <td>0.33</td>\n",
       "      <td>{'1h': 0.18}</td>\n",
       "    </tr>\n",
       "  </tbody>\n",
       "</table>\n",
       "</div>"
      ],
      "text/plain": [
       "           dt   temp  feels_like  pressure  humidity  dew_point    uvi  \\\n",
       "0  1631667600  31.30       38.30      1012        73      25.88   3.44   \n",
       "1  1631671200  31.71       38.71      1012        73      26.27   6.36   \n",
       "2  1631674800  31.59       38.59      1012        71      25.69   9.11   \n",
       "3  1631678400  31.63       38.63      1012        69      25.24  10.65   \n",
       "4  1631682000  31.57       38.51      1011        68      24.94  10.47   \n",
       "\n",
       "   clouds  visibility  wind_speed  wind_deg  wind_gust  \\\n",
       "0      44       10000        2.50       278       2.77   \n",
       "1      43       10000        2.41       279       2.66   \n",
       "2      42       10000        2.45       268       2.65   \n",
       "3      43       10000        2.93       253       3.02   \n",
       "4      50       10000        3.80       246       3.76   \n",
       "\n",
       "                                             weather   pop          rain  \n",
       "0  [{'id': 802, 'main': 'Clouds', 'description': ...  0.37           NaN  \n",
       "1  [{'id': 802, 'main': 'Clouds', 'description': ...  0.33           NaN  \n",
       "2  [{'id': 802, 'main': 'Clouds', 'description': ...  0.37           NaN  \n",
       "3  [{'id': 802, 'main': 'Clouds', 'description': ...  0.29           NaN  \n",
       "4  [{'id': 500, 'main': 'Rain', 'description': 'l...  0.33  {'1h': 0.18}  "
      ]
     },
     "execution_count": 10,
     "metadata": {},
     "output_type": "execute_result"
    }
   ],
   "source": [
    "df_hourly.head()"
   ]
  },
  {
   "cell_type": "code",
   "execution_count": null,
   "metadata": {},
   "outputs": [],
   "source": []
  }
 ],
 "metadata": {
  "interpreter": {
   "hash": "c1b4cfe941b6d2466ad1fb5979e97da9cda8801728c8091b097ab734208fc00c"
  },
  "kernelspec": {
   "display_name": "Python 3.8.3 64-bit ('base': conda)",
   "name": "python3"
  },
  "language_info": {
   "codemirror_mode": {
    "name": "ipython",
    "version": 3
   },
   "file_extension": ".py",
   "mimetype": "text/x-python",
   "name": "python",
   "nbconvert_exporter": "python",
   "pygments_lexer": "ipython3",
   "version": "3.8.11"
  }
 },
 "nbformat": 4,
 "nbformat_minor": 2
}
