{
 "cells": [
  {
   "cell_type": "code",
   "execution_count": 1,
   "metadata": {
    "execution": {
     "iopub.execute_input": "2021-08-23T10:41:30.463494Z",
     "iopub.status.busy": "2021-08-23T10:41:30.462814Z",
     "iopub.status.idle": "2021-08-23T10:41:33.018607Z",
     "shell.execute_reply": "2021-08-23T10:41:33.019126Z"
    }
   },
   "outputs": [],
   "source": [
    "import json, yaml, requests\r\n",
    "from datetime import datetime\r\n",
    "from dateutil import tz\r\n",
    "import pandas as pd\r\n",
    "from PIL import Image\r\n",
    "from io import BytesIO\r\n",
    "import matplotlib.pyplot as plt\r\n",
    "import seaborn\r\n",
    "\r\n",
    "CONFIG_PATH = \"../config/config.yaml\""
   ]
  },
  {
   "cell_type": "code",
   "execution_count": 2,
   "metadata": {
    "execution": {
     "iopub.execute_input": "2021-08-23T10:41:33.024934Z",
     "iopub.status.busy": "2021-08-23T10:41:33.021826Z",
     "iopub.status.idle": "2021-08-23T10:41:33.031663Z",
     "shell.execute_reply": "2021-08-23T10:41:33.030697Z"
    }
   },
   "outputs": [],
   "source": [
    "with open('../newest_ts', 'r') as f:\r\n",
    "    newest_ts = f.read()\r\n",
    "\r\n",
    "data_path = f\"../data/data_{newest_ts}.json\"\r\n",
    "with open(data_path, 'r') as f:\r\n",
    "    data = json.load(f)\r\n",
    "\r\n",
    "with open(CONFIG_PATH, \"r\") as stream:\r\n",
    "    config = yaml.safe_load(stream)\r\n",
    "\r\n",
    "TIME_ZONE = config['time_zone']\r\n",
    "DATETIME_FORMAT = config['dt_format']"
   ]
  },
  {
   "cell_type": "code",
   "execution_count": 3,
   "metadata": {
    "execution": {
     "iopub.execute_input": "2021-08-23T10:41:33.039019Z",
     "iopub.status.busy": "2021-08-23T10:41:33.036738Z",
     "iopub.status.idle": "2021-08-23T10:41:33.042652Z",
     "shell.execute_reply": "2021-08-23T10:41:33.043255Z"
    }
   },
   "outputs": [
    {
     "name": "stdout",
     "output_type": "stream",
     "text": [
      "Recent query happens at 2021-08-23 18:41:27 (CST).\n"
     ]
    }
   ],
   "source": [
    "def ts2dt(ts, format=DATETIME_FORMAT):\r\n",
    "    dt = (datetime.utcfromtimestamp(int(ts))\r\n",
    "                    .replace(tzinfo=tz.tzutc())\r\n",
    "                    # .astimezone(tz.tzlocal())\r\n",
    "                    .astimezone(tz.gettz(TIME_ZONE)))\r\n",
    "    return dt.strftime(format), dt\r\n",
    "\r\n",
    "_, newest_dt = ts2dt(newest_ts)\r\n",
    "print(f\"Recent query happens at {newest_dt.strftime(DATETIME_FORMAT)} ({newest_dt.tzname()}).\")"
   ]
  },
  {
   "cell_type": "code",
   "execution_count": 4,
   "metadata": {
    "execution": {
     "iopub.execute_input": "2021-08-23T10:41:33.050144Z",
     "iopub.status.busy": "2021-08-23T10:41:33.048505Z",
     "iopub.status.idle": "2021-08-23T10:41:33.050837Z",
     "shell.execute_reply": "2021-08-23T10:41:33.051368Z"
    }
   },
   "outputs": [],
   "source": [
    "def degrees_to_cardinal(d):\r\n",
    "  dirs = ['N', 'NNE', 'NE', 'ENE', 'E', 'ESE', 'SE', 'SSE', 'S', 'SSW', 'SW', 'WSW', 'W', 'WNW', 'NW', 'NNW']\r\n",
    "  ix = int(round(d / (360. / len(dirs))))\r\n",
    "  return dirs[ix % len(dirs)]"
   ]
  },
  {
   "cell_type": "code",
   "execution_count": 5,
   "metadata": {
    "execution": {
     "iopub.execute_input": "2021-08-23T10:41:33.056837Z",
     "iopub.status.busy": "2021-08-23T10:41:33.055377Z",
     "iopub.status.idle": "2021-08-23T10:41:33.057575Z",
     "shell.execute_reply": "2021-08-23T10:41:33.058166Z"
    }
   },
   "outputs": [],
   "source": [
    "# data.keys()"
   ]
  },
  {
   "cell_type": "code",
   "execution_count": 6,
   "metadata": {
    "execution": {
     "iopub.execute_input": "2021-08-23T10:41:33.062434Z",
     "iopub.status.busy": "2021-08-23T10:41:33.061790Z",
     "iopub.status.idle": "2021-08-23T10:41:33.064294Z",
     "shell.execute_reply": "2021-08-23T10:41:33.063769Z"
    }
   },
   "outputs": [],
   "source": [
    "# data['current']"
   ]
  },
  {
   "cell_type": "code",
   "execution_count": 7,
   "metadata": {
    "execution": {
     "iopub.execute_input": "2021-08-23T10:41:33.087563Z",
     "iopub.status.busy": "2021-08-23T10:41:33.086889Z",
     "iopub.status.idle": "2021-08-23T10:41:33.555234Z",
     "shell.execute_reply": "2021-08-23T10:41:33.556091Z"
    }
   },
   "outputs": [
    {
     "data": {
      "image/png": "[encoded data removed]",
      "text/plain": [
       "<Figure size 216x216 with 1 Axes>"
      ]
     },
     "metadata": {
      "needs_background": "light"
     },
     "output_type": "display_data"
    },
    {
     "name": "stdout",
     "output_type": "stream",
     "text": [
      "Today, sun rises at 06:03 and sets at 18:48.\n",
      "Currently, the weather is Clouds (overcast clouds).\n",
      "The temperature is 30.95°C and it feels like 37.95°C.\n",
      "The UV index is 0, humidity is 75%.\n",
      "The pressure is 1006 hPa, percentage of cloud cover is 95%\n",
      "The wind comes from S direction with a speed 3.35 m/s.\n"
     ]
    }
   ],
   "source": [
    "current = data['current']\r\n",
    "\r\n",
    "fig, ax = plt.subplots(figsize=(3, 3))\r\n",
    "icon = requests.get(f\"http://openweathermap.org/img/wn/{current['weather'][0]['icon']}@2x.png\")\r\n",
    "im = Image.open(BytesIO(icon.content))\r\n",
    "plt.imshow(im)\r\n",
    "ax.set_axis_off()\r\n",
    "plt.show()\r\n",
    "\r\n",
    "print(f\"Today, sun rises at {ts2dt(current['sunrise'], '%H:%M')[0]} \\\r\n",
    "and sets at {ts2dt(current['sunset'], '%H:%M')[0]}.\\n\\\r\n",
    "Currently, the weather is {current['weather'][0]['main']} ({current['weather'][0]['description']}).\\n\\\r\n",
    "The temperature is {current['temp']}°C and it feels like {current['feels_like']}°C.\\n\\\r\n",
    "The UV index is {current['uvi']}, humidity is {current['humidity']}%.\\n\\\r\n",
    "The pressure is {current['pressure']} hPa, percentage of cloud cover is {current['clouds']}%\\n\\\r\n",
    "The wind comes from {degrees_to_cardinal(current['wind_deg'])} direction with a speed {current['wind_speed']} m/s.\")"
   ]
  },
  {
   "cell_type": "code",
   "execution_count": 8,
   "metadata": {
    "execution": {
     "iopub.execute_input": "2021-08-23T10:41:33.559969Z",
     "iopub.status.busy": "2021-08-23T10:41:33.558837Z",
     "iopub.status.idle": "2021-08-23T10:41:33.567457Z",
     "shell.execute_reply": "2021-08-23T10:41:33.568248Z"
    }
   },
   "outputs": [],
   "source": [
    "df_hourly = pd.DataFrame(data['hourly'])\r\n",
    "df_daily = pd.DataFrame(data['daily'])"
   ]
  },
  {
   "cell_type": "code",
   "execution_count": 9,
   "metadata": {
    "execution": {
     "iopub.execute_input": "2021-08-23T10:41:33.571971Z",
     "iopub.status.busy": "2021-08-23T10:41:33.570762Z",
     "iopub.status.idle": "2021-08-23T10:41:33.917125Z",
     "shell.execute_reply": "2021-08-23T10:41:33.916072Z"
    }
   },
   "outputs": [
    {
     "data": {
      "image/png": "[encoded data removed]",
      "text/plain": [
       "<Figure size 864x432 with 1 Axes>"
      ]
     },
     "metadata": {
      "needs_background": "light"
     },
     "output_type": "display_data"
    }
   ],
   "source": [
    "fig, ax = plt.subplots(figsize=(12, 6))\r\n",
    "plt.plot(df_hourly.temp, '.-', label='Temperature')\r\n",
    "plt.plot(df_hourly.feels_like, '.-', label='Feels Like')\r\n",
    "ax.set(title='Temperature in future 48 hours', xlabel='Time', ylabel='Temperature')\r\n",
    "ax.set_xticks(list(range(0, len(df_hourly), 2)))\r\n",
    "ax.set_xticklabels([ts2dt(ts, '%m-%d %H:%M')[0] for i, ts in enumerate(df_hourly.dt) if i%2==0], \r\n",
    "                   rotation=45, ha=\"right\")\r\n",
    "ax.locator_params(nbins=15, axis='y')\r\n",
    "plt.legend()\r\n",
    "plt.show()"
   ]
  },
  {
   "cell_type": "code",
   "execution_count": 10,
   "metadata": {
    "execution": {
     "iopub.execute_input": "2021-08-23T10:41:33.930706Z",
     "iopub.status.busy": "2021-08-23T10:41:33.921828Z",
     "iopub.status.idle": "2021-08-23T10:41:33.943504Z",
     "shell.execute_reply": "2021-08-23T10:41:33.944053Z"
    }
   },
   "outputs": [
    {
     "data": {
      "text/html": [
       "<div>\n",
       "<style scoped>\n",
       "    .dataframe tbody tr th:only-of-type {\n",
       "        vertical-align: middle;\n",
       "    }\n",
       "\n",
       "    .dataframe tbody tr th {\n",
       "        vertical-align: top;\n",
       "    }\n",
       "\n",
       "    .dataframe thead th {\n",
       "        text-align: right;\n",
       "    }\n",
       "</style>\n",
       "<table border=\"1\" class=\"dataframe\">\n",
       "  <thead>\n",
       "    <tr style=\"text-align: right;\">\n",
       "      <th></th>\n",
       "      <th>dt</th>\n",
       "      <th>temp</th>\n",
       "      <th>feels_like</th>\n",
       "      <th>pressure</th>\n",
       "      <th>humidity</th>\n",
       "      <th>dew_point</th>\n",
       "      <th>uvi</th>\n",
       "      <th>clouds</th>\n",
       "      <th>visibility</th>\n",
       "      <th>wind_speed</th>\n",
       "      <th>wind_deg</th>\n",
       "      <th>wind_gust</th>\n",
       "      <th>weather</th>\n",
       "      <th>pop</th>\n",
       "      <th>rain</th>\n",
       "    </tr>\n",
       "  </thead>\n",
       "  <tbody>\n",
       "    <tr>\n",
       "      <th>0</th>\n",
       "      <td>1629712800</td>\n",
       "      <td>30.65</td>\n",
       "      <td>37.65</td>\n",
       "      <td>1006</td>\n",
       "      <td>74</td>\n",
       "      <td>25.48</td>\n",
       "      <td>0.25</td>\n",
       "      <td>95</td>\n",
       "      <td>10000</td>\n",
       "      <td>3.74</td>\n",
       "      <td>190</td>\n",
       "      <td>4.73</td>\n",
       "      <td>[{'id': 804, 'main': 'Clouds', 'description': ...</td>\n",
       "      <td>0.00</td>\n",
       "      <td>NaN</td>\n",
       "    </tr>\n",
       "    <tr>\n",
       "      <th>1</th>\n",
       "      <td>1629716400</td>\n",
       "      <td>30.95</td>\n",
       "      <td>37.95</td>\n",
       "      <td>1006</td>\n",
       "      <td>75</td>\n",
       "      <td>26.00</td>\n",
       "      <td>0.00</td>\n",
       "      <td>95</td>\n",
       "      <td>10000</td>\n",
       "      <td>3.35</td>\n",
       "      <td>182</td>\n",
       "      <td>4.86</td>\n",
       "      <td>[{'id': 804, 'main': 'Clouds', 'description': ...</td>\n",
       "      <td>0.00</td>\n",
       "      <td>NaN</td>\n",
       "    </tr>\n",
       "    <tr>\n",
       "      <th>2</th>\n",
       "      <td>1629720000</td>\n",
       "      <td>30.48</td>\n",
       "      <td>37.48</td>\n",
       "      <td>1006</td>\n",
       "      <td>76</td>\n",
       "      <td>25.77</td>\n",
       "      <td>0.00</td>\n",
       "      <td>95</td>\n",
       "      <td>10000</td>\n",
       "      <td>2.83</td>\n",
       "      <td>182</td>\n",
       "      <td>4.34</td>\n",
       "      <td>[{'id': 804, 'main': 'Clouds', 'description': ...</td>\n",
       "      <td>0.00</td>\n",
       "      <td>NaN</td>\n",
       "    </tr>\n",
       "    <tr>\n",
       "      <th>3</th>\n",
       "      <td>1629723600</td>\n",
       "      <td>30.01</td>\n",
       "      <td>36.86</td>\n",
       "      <td>1007</td>\n",
       "      <td>77</td>\n",
       "      <td>25.53</td>\n",
       "      <td>0.00</td>\n",
       "      <td>97</td>\n",
       "      <td>10000</td>\n",
       "      <td>3.21</td>\n",
       "      <td>167</td>\n",
       "      <td>4.79</td>\n",
       "      <td>[{'id': 804, 'main': 'Clouds', 'description': ...</td>\n",
       "      <td>0.02</td>\n",
       "      <td>NaN</td>\n",
       "    </tr>\n",
       "    <tr>\n",
       "      <th>4</th>\n",
       "      <td>1629727200</td>\n",
       "      <td>29.50</td>\n",
       "      <td>35.68</td>\n",
       "      <td>1007</td>\n",
       "      <td>78</td>\n",
       "      <td>25.26</td>\n",
       "      <td>0.00</td>\n",
       "      <td>98</td>\n",
       "      <td>10000</td>\n",
       "      <td>3.72</td>\n",
       "      <td>160</td>\n",
       "      <td>5.04</td>\n",
       "      <td>[{'id': 804, 'main': 'Clouds', 'description': ...</td>\n",
       "      <td>0.10</td>\n",
       "      <td>NaN</td>\n",
       "    </tr>\n",
       "  </tbody>\n",
       "</table>\n",
       "</div>"
      ],
      "text/plain": [
       "           dt   temp  feels_like  pressure  humidity  dew_point   uvi  clouds  \\\n",
       "0  1629712800  30.65       37.65      1006        74      25.48  0.25      95   \n",
       "1  1629716400  30.95       37.95      1006        75      26.00  0.00      95   \n",
       "2  1629720000  30.48       37.48      1006        76      25.77  0.00      95   \n",
       "3  1629723600  30.01       36.86      1007        77      25.53  0.00      97   \n",
       "4  1629727200  29.50       35.68      1007        78      25.26  0.00      98   \n",
       "\n",
       "   visibility  wind_speed  wind_deg  wind_gust  \\\n",
       "0       10000        3.74       190       4.73   \n",
       "1       10000        3.35       182       4.86   \n",
       "2       10000        2.83       182       4.34   \n",
       "3       10000        3.21       167       4.79   \n",
       "4       10000        3.72       160       5.04   \n",
       "\n",
       "                                             weather   pop rain  \n",
       "0  [{'id': 804, 'main': 'Clouds', 'description': ...  0.00  NaN  \n",
       "1  [{'id': 804, 'main': 'Clouds', 'description': ...  0.00  NaN  \n",
       "2  [{'id': 804, 'main': 'Clouds', 'description': ...  0.00  NaN  \n",
       "3  [{'id': 804, 'main': 'Clouds', 'description': ...  0.02  NaN  \n",
       "4  [{'id': 804, 'main': 'Clouds', 'description': ...  0.10  NaN  "
      ]
     },
     "execution_count": 10,
     "metadata": {},
     "output_type": "execute_result"
    }
   ],
   "source": [
    "df_hourly.head()"
   ]
  },
  {
   "cell_type": "code",
   "execution_count": null,
   "metadata": {},
   "outputs": [],
   "source": []
  }
 ],
 "metadata": {
  "interpreter": {
   "hash": "c1b4cfe941b6d2466ad1fb5979e97da9cda8801728c8091b097ab734208fc00c"
  },
  "kernelspec": {
   "display_name": "Python 3.8.3 64-bit ('base': conda)",
   "name": "python3"
  },
  "language_info": {
   "codemirror_mode": {
    "name": "ipython",
    "version": 3
   },
   "file_extension": ".py",
   "mimetype": "text/x-python",
   "name": "python",
   "nbconvert_exporter": "python",
   "pygments_lexer": "ipython3",
   "version": "3.8.11"
  }
 },
 "nbformat": 4,
 "nbformat_minor": 2
}
