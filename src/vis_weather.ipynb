{
 "cells": [
  {
   "cell_type": "code",
   "execution_count": 1,
   "metadata": {
    "execution": {
     "iopub.execute_input": "2021-10-10T02:25:56.283419Z",
     "iopub.status.busy": "2021-10-10T02:25:56.282884Z",
     "iopub.status.idle": "2021-10-10T02:25:57.415302Z",
     "shell.execute_reply": "2021-10-10T02:25:57.414675Z"
    }
   },
   "outputs": [],
   "source": [
    "import json, yaml, requests\r\n",
    "from datetime import datetime\r\n",
    "from dateutil import tz\r\n",
    "import pandas as pd\r\n",
    "from PIL import Image\r\n",
    "from io import BytesIO\r\n",
    "import matplotlib.pyplot as plt\r\n",
    "import seaborn\r\n",
    "\r\n",
    "CONFIG_PATH = \"../config/config.yaml\""
   ]
  },
  {
   "cell_type": "code",
   "execution_count": 2,
   "metadata": {
    "execution": {
     "iopub.execute_input": "2021-10-10T02:25:57.422535Z",
     "iopub.status.busy": "2021-10-10T02:25:57.419523Z",
     "iopub.status.idle": "2021-10-10T02:25:57.425074Z",
     "shell.execute_reply": "2021-10-10T02:25:57.424672Z"
    }
   },
   "outputs": [],
   "source": [
    "with open('../newest_ts', 'r') as f:\r\n",
    "    newest_ts = f.read()\r\n",
    "\r\n",
    "data_path = f\"../data/data_{newest_ts}.json\"\r\n",
    "with open(data_path, 'r') as f:\r\n",
    "    data = json.load(f)\r\n",
    "\r\n",
    "with open(CONFIG_PATH, \"r\") as stream:\r\n",
    "    config = yaml.safe_load(stream)\r\n",
    "\r\n",
    "TIME_ZONE = config['time_zone']\r\n",
    "DATETIME_FORMAT = config['dt_format']"
   ]
  },
  {
   "cell_type": "code",
   "execution_count": 3,
   "metadata": {
    "execution": {
     "iopub.execute_input": "2021-10-10T02:25:57.429243Z",
     "iopub.status.busy": "2021-10-10T02:25:57.428783Z",
     "iopub.status.idle": "2021-10-10T02:25:57.444509Z",
     "shell.execute_reply": "2021-10-10T02:25:57.444109Z"
    }
   },
   "outputs": [
    {
     "name": "stdout",
     "output_type": "stream",
     "text": [
      "Recent query happens at 2021-10-10 10:25:53 (CST).\n"
     ]
    }
   ],
   "source": [
    "def ts2dt(ts, format=DATETIME_FORMAT):\r\n",
    "    dt = (datetime.utcfromtimestamp(int(ts))\r\n",
    "                    .replace(tzinfo=tz.tzutc())\r\n",
    "                    # .astimezone(tz.tzlocal())\r\n",
    "                    .astimezone(tz.gettz(TIME_ZONE)))\r\n",
    "    return dt.strftime(format), dt\r\n",
    "\r\n",
    "_, newest_dt = ts2dt(newest_ts)\r\n",
    "print(f\"Recent query happens at {newest_dt.strftime(DATETIME_FORMAT)} ({newest_dt.tzname()}).\")"
   ]
  },
  {
   "cell_type": "code",
   "execution_count": 4,
   "metadata": {
    "execution": {
     "iopub.execute_input": "2021-10-10T02:25:57.449222Z",
     "iopub.status.busy": "2021-10-10T02:25:57.448196Z",
     "iopub.status.idle": "2021-10-10T02:25:57.449742Z",
     "shell.execute_reply": "2021-10-10T02:25:57.450104Z"
    }
   },
   "outputs": [],
   "source": [
    "def degrees_to_cardinal(d):\r\n",
    "  dirs = ['N', 'NNE', 'NE', 'ENE', 'E', 'ESE', 'SE', 'SSE', 'S', 'SSW', 'SW', 'WSW', 'W', 'WNW', 'NW', 'NNW']\r\n",
    "  ix = int(round(d / (360. / len(dirs))))\r\n",
    "  return dirs[ix % len(dirs)]"
   ]
  },
  {
   "cell_type": "code",
   "execution_count": 5,
   "metadata": {
    "execution": {
     "iopub.execute_input": "2021-10-10T02:25:57.453084Z",
     "iopub.status.busy": "2021-10-10T02:25:57.452635Z",
     "iopub.status.idle": "2021-10-10T02:25:57.454820Z",
     "shell.execute_reply": "2021-10-10T02:25:57.454425Z"
    }
   },
   "outputs": [],
   "source": [
    "# data.keys()"
   ]
  },
  {
   "cell_type": "code",
   "execution_count": 6,
   "metadata": {
    "execution": {
     "iopub.execute_input": "2021-10-10T02:25:57.458319Z",
     "iopub.status.busy": "2021-10-10T02:25:57.457335Z",
     "iopub.status.idle": "2021-10-10T02:25:57.458883Z",
     "shell.execute_reply": "2021-10-10T02:25:57.459243Z"
    }
   },
   "outputs": [],
   "source": [
    "# data['current']"
   ]
  },
  {
   "cell_type": "code",
   "execution_count": 7,
   "metadata": {
    "execution": {
     "iopub.execute_input": "2021-10-10T02:25:57.475722Z",
     "iopub.status.busy": "2021-10-10T02:25:57.475251Z",
     "iopub.status.idle": "2021-10-10T02:25:57.986600Z",
     "shell.execute_reply": "2021-10-10T02:25:57.987275Z"
    }
   },
   "outputs": [
    {
     "data": {
      "image/png": "[encoded data removed]",
      "text/plain": [
       "<Figure size 216x216 with 1 Axes>"
      ]
     },
     "metadata": {
      "needs_background": "light"
     },
     "output_type": "display_data"
    },
    {
     "name": "stdout",
     "output_type": "stream",
     "text": [
      "Today, sun rises at 06:17 and sets at 18:02.\n",
      "Currently, the weather is Clouds (overcast clouds).\n",
      "The temperature is 26.72°C and it feels like 29.53°C.\n",
      "The UV index is 0.44, humidity is 85%.\n",
      "The pressure is 1010 hPa, percentage of cloud cover is 100%\n",
      "The wind comes from W direction with a speed 0.89 m/s.\n"
     ]
    }
   ],
   "source": [
    "current = data['current']\r\n",
    "\r\n",
    "fig, ax = plt.subplots(figsize=(3, 3))\r\n",
    "icon = requests.get(f\"http://openweathermap.org/img/wn/{current['weather'][0]['icon']}@2x.png\")\r\n",
    "im = Image.open(BytesIO(icon.content))\r\n",
    "plt.imshow(im)\r\n",
    "ax.set_axis_off()\r\n",
    "plt.show()\r\n",
    "\r\n",
    "print(f\"Today, sun rises at {ts2dt(current['sunrise'], '%H:%M')[0]} \\\r\n",
    "and sets at {ts2dt(current['sunset'], '%H:%M')[0]}.\\n\\\r\n",
    "Currently, the weather is {current['weather'][0]['main']} ({current['weather'][0]['description']}).\\n\\\r\n",
    "The temperature is {current['temp']}°C and it feels like {current['feels_like']}°C.\\n\\\r\n",
    "The UV index is {current['uvi']}, humidity is {current['humidity']}%.\\n\\\r\n",
    "The pressure is {current['pressure']} hPa, percentage of cloud cover is {current['clouds']}%\\n\\\r\n",
    "The wind comes from {degrees_to_cardinal(current['wind_deg'])} direction with a speed {current['wind_speed']} m/s.\")"
   ]
  },
  {
   "cell_type": "code",
   "execution_count": 8,
   "metadata": {
    "execution": {
     "iopub.execute_input": "2021-10-10T02:25:57.990385Z",
     "iopub.status.busy": "2021-10-10T02:25:57.989906Z",
     "iopub.status.idle": "2021-10-10T02:25:57.996306Z",
     "shell.execute_reply": "2021-10-10T02:25:57.996956Z"
    }
   },
   "outputs": [],
   "source": [
    "df_hourly = pd.DataFrame(data['hourly'])\r\n",
    "df_daily = pd.DataFrame(data['daily'])"
   ]
  },
  {
   "cell_type": "code",
   "execution_count": 9,
   "metadata": {
    "execution": {
     "iopub.execute_input": "2021-10-10T02:25:57.999993Z",
     "iopub.status.busy": "2021-10-10T02:25:57.999050Z",
     "iopub.status.idle": "2021-10-10T02:25:58.239858Z",
     "shell.execute_reply": "2021-10-10T02:25:58.239446Z"
    }
   },
   "outputs": [
    {
     "data": {
      "image/png": "[encoded data removed]",
      "text/plain": [
       "<Figure size 864x432 with 1 Axes>"
      ]
     },
     "metadata": {
      "needs_background": "light"
     },
     "output_type": "display_data"
    }
   ],
   "source": [
    "fig, ax = plt.subplots(figsize=(12, 6))\r\n",
    "plt.plot(df_hourly.temp, '.-', label='Temperature')\r\n",
    "plt.plot(df_hourly.feels_like, '.-', label='Feels Like')\r\n",
    "ax.set(title='Temperature in future 48 hours', xlabel='Time', ylabel='Temperature')\r\n",
    "ax.set_xticks(list(range(0, len(df_hourly), 2)))\r\n",
    "ax.set_xticklabels([ts2dt(ts, '%m-%d %H:%M')[0] for i, ts in enumerate(df_hourly.dt) if i%2==0], \r\n",
    "                   rotation=45, ha=\"right\")\r\n",
    "ax.locator_params(nbins=15, axis='y')\r\n",
    "plt.legend()\r\n",
    "plt.show()"
   ]
  },
  {
   "cell_type": "code",
   "execution_count": 10,
   "metadata": {
    "execution": {
     "iopub.execute_input": "2021-10-10T02:25:58.250671Z",
     "iopub.status.busy": "2021-10-10T02:25:58.243433Z",
     "iopub.status.idle": "2021-10-10T02:25:58.260568Z",
     "shell.execute_reply": "2021-10-10T02:25:58.260925Z"
    }
   },
   "outputs": [
    {
     "data": {
      "text/html": [
       "<div>\n",
       "<style scoped>\n",
       "    .dataframe tbody tr th:only-of-type {\n",
       "        vertical-align: middle;\n",
       "    }\n",
       "\n",
       "    .dataframe tbody tr th {\n",
       "        vertical-align: top;\n",
       "    }\n",
       "\n",
       "    .dataframe thead th {\n",
       "        text-align: right;\n",
       "    }\n",
       "</style>\n",
       "<table border=\"1\" class=\"dataframe\">\n",
       "  <thead>\n",
       "    <tr style=\"text-align: right;\">\n",
       "      <th></th>\n",
       "      <th>dt</th>\n",
       "      <th>temp</th>\n",
       "      <th>feels_like</th>\n",
       "      <th>pressure</th>\n",
       "      <th>humidity</th>\n",
       "      <th>dew_point</th>\n",
       "      <th>uvi</th>\n",
       "      <th>clouds</th>\n",
       "      <th>visibility</th>\n",
       "      <th>wind_speed</th>\n",
       "      <th>wind_deg</th>\n",
       "      <th>wind_gust</th>\n",
       "      <th>weather</th>\n",
       "      <th>pop</th>\n",
       "      <th>rain</th>\n",
       "    </tr>\n",
       "  </thead>\n",
       "  <tbody>\n",
       "    <tr>\n",
       "      <th>0</th>\n",
       "      <td>1633831200</td>\n",
       "      <td>26.72</td>\n",
       "      <td>29.53</td>\n",
       "      <td>1010</td>\n",
       "      <td>85</td>\n",
       "      <td>23.99</td>\n",
       "      <td>0.44</td>\n",
       "      <td>100</td>\n",
       "      <td>10000</td>\n",
       "      <td>9.16</td>\n",
       "      <td>86</td>\n",
       "      <td>12.54</td>\n",
       "      <td>[{'id': 500, 'main': 'Rain', 'description': 'l...</td>\n",
       "      <td>0.69</td>\n",
       "      <td>{'1h': 0.98}</td>\n",
       "    </tr>\n",
       "    <tr>\n",
       "      <th>1</th>\n",
       "      <td>1633834800</td>\n",
       "      <td>26.70</td>\n",
       "      <td>29.40</td>\n",
       "      <td>1010</td>\n",
       "      <td>84</td>\n",
       "      <td>23.77</td>\n",
       "      <td>0.65</td>\n",
       "      <td>100</td>\n",
       "      <td>10000</td>\n",
       "      <td>8.59</td>\n",
       "      <td>82</td>\n",
       "      <td>12.16</td>\n",
       "      <td>[{'id': 804, 'main': 'Clouds', 'description': ...</td>\n",
       "      <td>0.69</td>\n",
       "      <td>NaN</td>\n",
       "    </tr>\n",
       "    <tr>\n",
       "      <th>2</th>\n",
       "      <td>1633838400</td>\n",
       "      <td>26.78</td>\n",
       "      <td>29.51</td>\n",
       "      <td>1010</td>\n",
       "      <td>83</td>\n",
       "      <td>23.65</td>\n",
       "      <td>1.33</td>\n",
       "      <td>100</td>\n",
       "      <td>10000</td>\n",
       "      <td>8.08</td>\n",
       "      <td>84</td>\n",
       "      <td>11.89</td>\n",
       "      <td>[{'id': 804, 'main': 'Clouds', 'description': ...</td>\n",
       "      <td>0.69</td>\n",
       "      <td>NaN</td>\n",
       "    </tr>\n",
       "    <tr>\n",
       "      <th>3</th>\n",
       "      <td>1633842000</td>\n",
       "      <td>27.19</td>\n",
       "      <td>30.17</td>\n",
       "      <td>1009</td>\n",
       "      <td>80</td>\n",
       "      <td>23.44</td>\n",
       "      <td>1.30</td>\n",
       "      <td>100</td>\n",
       "      <td>10000</td>\n",
       "      <td>8.28</td>\n",
       "      <td>88</td>\n",
       "      <td>11.38</td>\n",
       "      <td>[{'id': 500, 'main': 'Rain', 'description': 'l...</td>\n",
       "      <td>0.65</td>\n",
       "      <td>{'1h': 0.17}</td>\n",
       "    </tr>\n",
       "    <tr>\n",
       "      <th>4</th>\n",
       "      <td>1633845600</td>\n",
       "      <td>27.47</td>\n",
       "      <td>30.57</td>\n",
       "      <td>1008</td>\n",
       "      <td>78</td>\n",
       "      <td>23.29</td>\n",
       "      <td>1.05</td>\n",
       "      <td>100</td>\n",
       "      <td>10000</td>\n",
       "      <td>8.32</td>\n",
       "      <td>92</td>\n",
       "      <td>10.97</td>\n",
       "      <td>[{'id': 500, 'main': 'Rain', 'description': 'l...</td>\n",
       "      <td>0.74</td>\n",
       "      <td>{'1h': 0.27}</td>\n",
       "    </tr>\n",
       "  </tbody>\n",
       "</table>\n",
       "</div>"
      ],
      "text/plain": [
       "           dt   temp  feels_like  pressure  humidity  dew_point   uvi  clouds  \\\n",
       "0  1633831200  26.72       29.53      1010        85      23.99  0.44     100   \n",
       "1  1633834800  26.70       29.40      1010        84      23.77  0.65     100   \n",
       "2  1633838400  26.78       29.51      1010        83      23.65  1.33     100   \n",
       "3  1633842000  27.19       30.17      1009        80      23.44  1.30     100   \n",
       "4  1633845600  27.47       30.57      1008        78      23.29  1.05     100   \n",
       "\n",
       "   visibility  wind_speed  wind_deg  wind_gust  \\\n",
       "0       10000        9.16        86      12.54   \n",
       "1       10000        8.59        82      12.16   \n",
       "2       10000        8.08        84      11.89   \n",
       "3       10000        8.28        88      11.38   \n",
       "4       10000        8.32        92      10.97   \n",
       "\n",
       "                                             weather   pop          rain  \n",
       "0  [{'id': 500, 'main': 'Rain', 'description': 'l...  0.69  {'1h': 0.98}  \n",
       "1  [{'id': 804, 'main': 'Clouds', 'description': ...  0.69           NaN  \n",
       "2  [{'id': 804, 'main': 'Clouds', 'description': ...  0.69           NaN  \n",
       "3  [{'id': 500, 'main': 'Rain', 'description': 'l...  0.65  {'1h': 0.17}  \n",
       "4  [{'id': 500, 'main': 'Rain', 'description': 'l...  0.74  {'1h': 0.27}  "
      ]
     },
     "execution_count": 10,
     "metadata": {},
     "output_type": "execute_result"
    }
   ],
   "source": [
    "df_hourly.head()"
   ]
  },
  {
   "cell_type": "code",
   "execution_count": null,
   "metadata": {},
   "outputs": [],
   "source": []
  }
 ],
 "metadata": {
  "interpreter": {
   "hash": "c1b4cfe941b6d2466ad1fb5979e97da9cda8801728c8091b097ab734208fc00c"
  },
  "kernelspec": {
   "display_name": "Python 3.8.3 64-bit ('base': conda)",
   "name": "python3"
  },
  "language_info": {
   "codemirror_mode": {
    "name": "ipython",
    "version": 3
   },
   "file_extension": ".py",
   "mimetype": "text/x-python",
   "name": "python",
   "nbconvert_exporter": "python",
   "pygments_lexer": "ipython3",
   "version": "3.8.12"
  }
 },
 "nbformat": 4,
 "nbformat_minor": 2
}
