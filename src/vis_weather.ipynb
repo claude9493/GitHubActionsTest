{
 "cells": [
  {
   "cell_type": "code",
   "execution_count": 1,
   "metadata": {
    "execution": {
     "iopub.execute_input": "2021-09-04T04:50:44.073309Z",
     "iopub.status.busy": "2021-09-04T04:50:44.072673Z",
     "iopub.status.idle": "2021-09-04T04:50:47.199416Z",
     "shell.execute_reply": "2021-09-04T04:50:47.198375Z"
    }
   },
   "outputs": [],
   "source": [
    "import json, yaml, requests\r\n",
    "from datetime import datetime\r\n",
    "from dateutil import tz\r\n",
    "import pandas as pd\r\n",
    "from PIL import Image\r\n",
    "from io import BytesIO\r\n",
    "import matplotlib.pyplot as plt\r\n",
    "import seaborn\r\n",
    "\r\n",
    "CONFIG_PATH = \"../config/config.yaml\""
   ]
  },
  {
   "cell_type": "code",
   "execution_count": 2,
   "metadata": {
    "execution": {
     "iopub.execute_input": "2021-09-04T04:50:47.208028Z",
     "iopub.status.busy": "2021-09-04T04:50:47.204638Z",
     "iopub.status.idle": "2021-09-04T04:50:47.211047Z",
     "shell.execute_reply": "2021-09-04T04:50:47.210593Z"
    }
   },
   "outputs": [],
   "source": [
    "with open('../newest_ts', 'r') as f:\r\n",
    "    newest_ts = f.read()\r\n",
    "\r\n",
    "data_path = f\"../data/data_{newest_ts}.json\"\r\n",
    "with open(data_path, 'r') as f:\r\n",
    "    data = json.load(f)\r\n",
    "\r\n",
    "with open(CONFIG_PATH, \"r\") as stream:\r\n",
    "    config = yaml.safe_load(stream)\r\n",
    "\r\n",
    "TIME_ZONE = config['time_zone']\r\n",
    "DATETIME_FORMAT = config['dt_format']"
   ]
  },
  {
   "cell_type": "code",
   "execution_count": 3,
   "metadata": {
    "execution": {
     "iopub.execute_input": "2021-09-04T04:50:47.215917Z",
     "iopub.status.busy": "2021-09-04T04:50:47.215373Z",
     "iopub.status.idle": "2021-09-04T04:50:47.233084Z",
     "shell.execute_reply": "2021-09-04T04:50:47.232589Z"
    }
   },
   "outputs": [
    {
     "name": "stdout",
     "output_type": "stream",
     "text": [
      "Recent query happens at 2021-09-04 12:50:40 (CST).\n"
     ]
    }
   ],
   "source": [
    "def ts2dt(ts, format=DATETIME_FORMAT):\r\n",
    "    dt = (datetime.utcfromtimestamp(int(ts))\r\n",
    "                    .replace(tzinfo=tz.tzutc())\r\n",
    "                    # .astimezone(tz.tzlocal())\r\n",
    "                    .astimezone(tz.gettz(TIME_ZONE)))\r\n",
    "    return dt.strftime(format), dt\r\n",
    "\r\n",
    "_, newest_dt = ts2dt(newest_ts)\r\n",
    "print(f\"Recent query happens at {newest_dt.strftime(DATETIME_FORMAT)} ({newest_dt.tzname()}).\")"
   ]
  },
  {
   "cell_type": "code",
   "execution_count": 4,
   "metadata": {
    "execution": {
     "iopub.execute_input": "2021-09-04T04:50:47.238280Z",
     "iopub.status.busy": "2021-09-04T04:50:47.237545Z",
     "iopub.status.idle": "2021-09-04T04:50:47.240860Z",
     "shell.execute_reply": "2021-09-04T04:50:47.239810Z"
    }
   },
   "outputs": [],
   "source": [
    "def degrees_to_cardinal(d):\r\n",
    "  dirs = ['N', 'NNE', 'NE', 'ENE', 'E', 'ESE', 'SE', 'SSE', 'S', 'SSW', 'SW', 'WSW', 'W', 'WNW', 'NW', 'NNW']\r\n",
    "  ix = int(round(d / (360. / len(dirs))))\r\n",
    "  return dirs[ix % len(dirs)]"
   ]
  },
  {
   "cell_type": "code",
   "execution_count": 5,
   "metadata": {
    "execution": {
     "iopub.execute_input": "2021-09-04T04:50:47.245128Z",
     "iopub.status.busy": "2021-09-04T04:50:47.244517Z",
     "iopub.status.idle": "2021-09-04T04:50:47.247060Z",
     "shell.execute_reply": "2021-09-04T04:50:47.246302Z"
    }
   },
   "outputs": [],
   "source": [
    "# data.keys()"
   ]
  },
  {
   "cell_type": "code",
   "execution_count": 6,
   "metadata": {
    "execution": {
     "iopub.execute_input": "2021-09-04T04:50:47.251785Z",
     "iopub.status.busy": "2021-09-04T04:50:47.251216Z",
     "iopub.status.idle": "2021-09-04T04:50:47.254575Z",
     "shell.execute_reply": "2021-09-04T04:50:47.255044Z"
    }
   },
   "outputs": [],
   "source": [
    "# data['current']"
   ]
  },
  {
   "cell_type": "code",
   "execution_count": 7,
   "metadata": {
    "execution": {
     "iopub.execute_input": "2021-09-04T04:50:47.283908Z",
     "iopub.status.busy": "2021-09-04T04:50:47.275669Z",
     "iopub.status.idle": "2021-09-04T04:50:47.749173Z",
     "shell.execute_reply": "2021-09-04T04:50:47.749958Z"
    }
   },
   "outputs": [
    {
     "data": {
      "image/png": "[encoded data removed]",
      "text/plain": [
       "<Figure size 216x216 with 1 Axes>"
      ]
     },
     "metadata": {
      "needs_background": "light"
     },
     "output_type": "display_data"
    },
    {
     "name": "stdout",
     "output_type": "stream",
     "text": [
      "Today, sun rises at 06:06 and sets at 18:37.\n",
      "Currently, the weather is Clouds (few clouds).\n",
      "The temperature is 30.51°C and it feels like 37.51°C.\n",
      "The UV index is 11.26, humidity is 79%.\n",
      "The pressure is 1008 hPa, percentage of cloud cover is 17%\n",
      "The wind comes from ESE direction with a speed 3.05 m/s.\n"
     ]
    }
   ],
   "source": [
    "current = data['current']\r\n",
    "\r\n",
    "fig, ax = plt.subplots(figsize=(3, 3))\r\n",
    "icon = requests.get(f\"http://openweathermap.org/img/wn/{current['weather'][0]['icon']}@2x.png\")\r\n",
    "im = Image.open(BytesIO(icon.content))\r\n",
    "plt.imshow(im)\r\n",
    "ax.set_axis_off()\r\n",
    "plt.show()\r\n",
    "\r\n",
    "print(f\"Today, sun rises at {ts2dt(current['sunrise'], '%H:%M')[0]} \\\r\n",
    "and sets at {ts2dt(current['sunset'], '%H:%M')[0]}.\\n\\\r\n",
    "Currently, the weather is {current['weather'][0]['main']} ({current['weather'][0]['description']}).\\n\\\r\n",
    "The temperature is {current['temp']}°C and it feels like {current['feels_like']}°C.\\n\\\r\n",
    "The UV index is {current['uvi']}, humidity is {current['humidity']}%.\\n\\\r\n",
    "The pressure is {current['pressure']} hPa, percentage of cloud cover is {current['clouds']}%\\n\\\r\n",
    "The wind comes from {degrees_to_cardinal(current['wind_deg'])} direction with a speed {current['wind_speed']} m/s.\")"
   ]
  },
  {
   "cell_type": "code",
   "execution_count": 8,
   "metadata": {
    "execution": {
     "iopub.execute_input": "2021-09-04T04:50:47.753742Z",
     "iopub.status.busy": "2021-09-04T04:50:47.752507Z",
     "iopub.status.idle": "2021-09-04T04:50:47.760732Z",
     "shell.execute_reply": "2021-09-04T04:50:47.761472Z"
    }
   },
   "outputs": [],
   "source": [
    "df_hourly = pd.DataFrame(data['hourly'])\r\n",
    "df_daily = pd.DataFrame(data['daily'])"
   ]
  },
  {
   "cell_type": "code",
   "execution_count": 9,
   "metadata": {
    "execution": {
     "iopub.execute_input": "2021-09-04T04:50:47.764860Z",
     "iopub.status.busy": "2021-09-04T04:50:47.763854Z",
     "iopub.status.idle": "2021-09-04T04:50:48.103951Z",
     "shell.execute_reply": "2021-09-04T04:50:48.104941Z"
    }
   },
   "outputs": [
    {
     "data": {
      "image/png": "[encoded data removed]",
      "text/plain": [
       "<Figure size 864x432 with 1 Axes>"
      ]
     },
     "metadata": {
      "needs_background": "light"
     },
     "output_type": "display_data"
    }
   ],
   "source": [
    "fig, ax = plt.subplots(figsize=(12, 6))\r\n",
    "plt.plot(df_hourly.temp, '.-', label='Temperature')\r\n",
    "plt.plot(df_hourly.feels_like, '.-', label='Feels Like')\r\n",
    "ax.set(title='Temperature in future 48 hours', xlabel='Time', ylabel='Temperature')\r\n",
    "ax.set_xticks(list(range(0, len(df_hourly), 2)))\r\n",
    "ax.set_xticklabels([ts2dt(ts, '%m-%d %H:%M')[0] for i, ts in enumerate(df_hourly.dt) if i%2==0], \r\n",
    "                   rotation=45, ha=\"right\")\r\n",
    "ax.locator_params(nbins=15, axis='y')\r\n",
    "plt.legend()\r\n",
    "plt.show()"
   ]
  },
  {
   "cell_type": "code",
   "execution_count": 10,
   "metadata": {
    "execution": {
     "iopub.execute_input": "2021-09-04T04:50:48.111693Z",
     "iopub.status.busy": "2021-09-04T04:50:48.110702Z",
     "iopub.status.idle": "2021-09-04T04:50:48.135354Z",
     "shell.execute_reply": "2021-09-04T04:50:48.135851Z"
    }
   },
   "outputs": [
    {
     "data": {
      "text/html": [
       "<div>\n",
       "<style scoped>\n",
       "    .dataframe tbody tr th:only-of-type {\n",
       "        vertical-align: middle;\n",
       "    }\n",
       "\n",
       "    .dataframe tbody tr th {\n",
       "        vertical-align: top;\n",
       "    }\n",
       "\n",
       "    .dataframe thead th {\n",
       "        text-align: right;\n",
       "    }\n",
       "</style>\n",
       "<table border=\"1\" class=\"dataframe\">\n",
       "  <thead>\n",
       "    <tr style=\"text-align: right;\">\n",
       "      <th></th>\n",
       "      <th>dt</th>\n",
       "      <th>temp</th>\n",
       "      <th>feels_like</th>\n",
       "      <th>pressure</th>\n",
       "      <th>humidity</th>\n",
       "      <th>dew_point</th>\n",
       "      <th>uvi</th>\n",
       "      <th>clouds</th>\n",
       "      <th>visibility</th>\n",
       "      <th>wind_speed</th>\n",
       "      <th>wind_deg</th>\n",
       "      <th>wind_gust</th>\n",
       "      <th>weather</th>\n",
       "      <th>pop</th>\n",
       "      <th>rain</th>\n",
       "    </tr>\n",
       "  </thead>\n",
       "  <tbody>\n",
       "    <tr>\n",
       "      <th>0</th>\n",
       "      <td>1630728000</td>\n",
       "      <td>30.39</td>\n",
       "      <td>37.39</td>\n",
       "      <td>1008</td>\n",
       "      <td>76</td>\n",
       "      <td>25.68</td>\n",
       "      <td>11.46</td>\n",
       "      <td>17</td>\n",
       "      <td>10000</td>\n",
       "      <td>2.38</td>\n",
       "      <td>111</td>\n",
       "      <td>2.15</td>\n",
       "      <td>[{'id': 500, 'main': 'Rain', 'description': 'l...</td>\n",
       "      <td>0.77</td>\n",
       "      <td>{'1h': 0.12}</td>\n",
       "    </tr>\n",
       "    <tr>\n",
       "      <th>1</th>\n",
       "      <td>1630731600</td>\n",
       "      <td>30.51</td>\n",
       "      <td>37.51</td>\n",
       "      <td>1008</td>\n",
       "      <td>79</td>\n",
       "      <td>26.45</td>\n",
       "      <td>11.26</td>\n",
       "      <td>17</td>\n",
       "      <td>10000</td>\n",
       "      <td>3.05</td>\n",
       "      <td>107</td>\n",
       "      <td>2.58</td>\n",
       "      <td>[{'id': 801, 'main': 'Clouds', 'description': ...</td>\n",
       "      <td>0.73</td>\n",
       "      <td>NaN</td>\n",
       "    </tr>\n",
       "    <tr>\n",
       "      <th>2</th>\n",
       "      <td>1630735200</td>\n",
       "      <td>30.47</td>\n",
       "      <td>37.47</td>\n",
       "      <td>1008</td>\n",
       "      <td>76</td>\n",
       "      <td>25.76</td>\n",
       "      <td>9.32</td>\n",
       "      <td>17</td>\n",
       "      <td>10000</td>\n",
       "      <td>3.50</td>\n",
       "      <td>108</td>\n",
       "      <td>2.90</td>\n",
       "      <td>[{'id': 801, 'main': 'Clouds', 'description': ...</td>\n",
       "      <td>0.64</td>\n",
       "      <td>NaN</td>\n",
       "    </tr>\n",
       "    <tr>\n",
       "      <th>3</th>\n",
       "      <td>1630738800</td>\n",
       "      <td>30.39</td>\n",
       "      <td>36.82</td>\n",
       "      <td>1008</td>\n",
       "      <td>73</td>\n",
       "      <td>25.00</td>\n",
       "      <td>6.42</td>\n",
       "      <td>12</td>\n",
       "      <td>10000</td>\n",
       "      <td>3.89</td>\n",
       "      <td>112</td>\n",
       "      <td>3.45</td>\n",
       "      <td>[{'id': 801, 'main': 'Clouds', 'description': ...</td>\n",
       "      <td>0.01</td>\n",
       "      <td>NaN</td>\n",
       "    </tr>\n",
       "    <tr>\n",
       "      <th>4</th>\n",
       "      <td>1630742400</td>\n",
       "      <td>30.16</td>\n",
       "      <td>35.68</td>\n",
       "      <td>1007</td>\n",
       "      <td>71</td>\n",
       "      <td>24.32</td>\n",
       "      <td>3.33</td>\n",
       "      <td>8</td>\n",
       "      <td>10000</td>\n",
       "      <td>4.07</td>\n",
       "      <td>109</td>\n",
       "      <td>4.05</td>\n",
       "      <td>[{'id': 800, 'main': 'Clear', 'description': '...</td>\n",
       "      <td>0.01</td>\n",
       "      <td>NaN</td>\n",
       "    </tr>\n",
       "  </tbody>\n",
       "</table>\n",
       "</div>"
      ],
      "text/plain": [
       "           dt   temp  feels_like  pressure  humidity  dew_point    uvi  \\\n",
       "0  1630728000  30.39       37.39      1008        76      25.68  11.46   \n",
       "1  1630731600  30.51       37.51      1008        79      26.45  11.26   \n",
       "2  1630735200  30.47       37.47      1008        76      25.76   9.32   \n",
       "3  1630738800  30.39       36.82      1008        73      25.00   6.42   \n",
       "4  1630742400  30.16       35.68      1007        71      24.32   3.33   \n",
       "\n",
       "   clouds  visibility  wind_speed  wind_deg  wind_gust  \\\n",
       "0      17       10000        2.38       111       2.15   \n",
       "1      17       10000        3.05       107       2.58   \n",
       "2      17       10000        3.50       108       2.90   \n",
       "3      12       10000        3.89       112       3.45   \n",
       "4       8       10000        4.07       109       4.05   \n",
       "\n",
       "                                             weather   pop          rain  \n",
       "0  [{'id': 500, 'main': 'Rain', 'description': 'l...  0.77  {'1h': 0.12}  \n",
       "1  [{'id': 801, 'main': 'Clouds', 'description': ...  0.73           NaN  \n",
       "2  [{'id': 801, 'main': 'Clouds', 'description': ...  0.64           NaN  \n",
       "3  [{'id': 801, 'main': 'Clouds', 'description': ...  0.01           NaN  \n",
       "4  [{'id': 800, 'main': 'Clear', 'description': '...  0.01           NaN  "
      ]
     },
     "execution_count": 10,
     "metadata": {},
     "output_type": "execute_result"
    }
   ],
   "source": [
    "df_hourly.head()"
   ]
  },
  {
   "cell_type": "code",
   "execution_count": null,
   "metadata": {},
   "outputs": [],
   "source": []
  }
 ],
 "metadata": {
  "interpreter": {
   "hash": "c1b4cfe941b6d2466ad1fb5979e97da9cda8801728c8091b097ab734208fc00c"
  },
  "kernelspec": {
   "display_name": "Python 3.8.3 64-bit ('base': conda)",
   "name": "python3"
  },
  "language_info": {
   "codemirror_mode": {
    "name": "ipython",
    "version": 3
   },
   "file_extension": ".py",
   "mimetype": "text/x-python",
   "name": "python",
   "nbconvert_exporter": "python",
   "pygments_lexer": "ipython3",
   "version": "3.8.11"
  }
 },
 "nbformat": 4,
 "nbformat_minor": 2
}
