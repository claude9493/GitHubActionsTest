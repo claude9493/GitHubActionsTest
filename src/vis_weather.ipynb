{
 "cells": [
  {
   "cell_type": "code",
   "execution_count": 1,
   "metadata": {
    "execution": {
     "iopub.execute_input": "2021-09-05T17:24:39.506724Z",
     "iopub.status.busy": "2021-09-05T17:24:39.506117Z",
     "iopub.status.idle": "2021-09-05T17:24:40.919814Z",
     "shell.execute_reply": "2021-09-05T17:24:40.919186Z"
    }
   },
   "outputs": [],
   "source": [
    "import json, yaml, requests\r\n",
    "from datetime import datetime\r\n",
    "from dateutil import tz\r\n",
    "import pandas as pd\r\n",
    "from PIL import Image\r\n",
    "from io import BytesIO\r\n",
    "import matplotlib.pyplot as plt\r\n",
    "import seaborn\r\n",
    "\r\n",
    "CONFIG_PATH = \"../config/config.yaml\""
   ]
  },
  {
   "cell_type": "code",
   "execution_count": 2,
   "metadata": {
    "execution": {
     "iopub.execute_input": "2021-09-05T17:24:40.924949Z",
     "iopub.status.busy": "2021-09-05T17:24:40.922379Z",
     "iopub.status.idle": "2021-09-05T17:24:40.930815Z",
     "shell.execute_reply": "2021-09-05T17:24:40.930017Z"
    }
   },
   "outputs": [],
   "source": [
    "with open('../newest_ts', 'r') as f:\r\n",
    "    newest_ts = f.read()\r\n",
    "\r\n",
    "data_path = f\"../data/data_{newest_ts}.json\"\r\n",
    "with open(data_path, 'r') as f:\r\n",
    "    data = json.load(f)\r\n",
    "\r\n",
    "with open(CONFIG_PATH, \"r\") as stream:\r\n",
    "    config = yaml.safe_load(stream)\r\n",
    "\r\n",
    "TIME_ZONE = config['time_zone']\r\n",
    "DATETIME_FORMAT = config['dt_format']"
   ]
  },
  {
   "cell_type": "code",
   "execution_count": 3,
   "metadata": {
    "execution": {
     "iopub.execute_input": "2021-09-05T17:24:40.935883Z",
     "iopub.status.busy": "2021-09-05T17:24:40.935290Z",
     "iopub.status.idle": "2021-09-05T17:24:40.940038Z",
     "shell.execute_reply": "2021-09-05T17:24:40.940479Z"
    }
   },
   "outputs": [
    {
     "name": "stdout",
     "output_type": "stream",
     "text": [
      "Recent query happens at 2021-09-06 01:24:36 (CST).\n"
     ]
    }
   ],
   "source": [
    "def ts2dt(ts, format=DATETIME_FORMAT):\r\n",
    "    dt = (datetime.utcfromtimestamp(int(ts))\r\n",
    "                    .replace(tzinfo=tz.tzutc())\r\n",
    "                    # .astimezone(tz.tzlocal())\r\n",
    "                    .astimezone(tz.gettz(TIME_ZONE)))\r\n",
    "    return dt.strftime(format), dt\r\n",
    "\r\n",
    "_, newest_dt = ts2dt(newest_ts)\r\n",
    "print(f\"Recent query happens at {newest_dt.strftime(DATETIME_FORMAT)} ({newest_dt.tzname()}).\")"
   ]
  },
  {
   "cell_type": "code",
   "execution_count": 4,
   "metadata": {
    "execution": {
     "iopub.execute_input": "2021-09-05T17:24:40.946066Z",
     "iopub.status.busy": "2021-09-05T17:24:40.944911Z",
     "iopub.status.idle": "2021-09-05T17:24:40.946665Z",
     "shell.execute_reply": "2021-09-05T17:24:40.947091Z"
    }
   },
   "outputs": [],
   "source": [
    "def degrees_to_cardinal(d):\r\n",
    "  dirs = ['N', 'NNE', 'NE', 'ENE', 'E', 'ESE', 'SE', 'SSE', 'S', 'SSW', 'SW', 'WSW', 'W', 'WNW', 'NW', 'NNW']\r\n",
    "  ix = int(round(d / (360. / len(dirs))))\r\n",
    "  return dirs[ix % len(dirs)]"
   ]
  },
  {
   "cell_type": "code",
   "execution_count": 5,
   "metadata": {
    "execution": {
     "iopub.execute_input": "2021-09-05T17:24:40.951606Z",
     "iopub.status.busy": "2021-09-05T17:24:40.950461Z",
     "iopub.status.idle": "2021-09-05T17:24:40.952224Z",
     "shell.execute_reply": "2021-09-05T17:24:40.952651Z"
    }
   },
   "outputs": [],
   "source": [
    "# data.keys()"
   ]
  },
  {
   "cell_type": "code",
   "execution_count": 6,
   "metadata": {
    "execution": {
     "iopub.execute_input": "2021-09-05T17:24:40.956927Z",
     "iopub.status.busy": "2021-09-05T17:24:40.955731Z",
     "iopub.status.idle": "2021-09-05T17:24:40.957526Z",
     "shell.execute_reply": "2021-09-05T17:24:40.957951Z"
    }
   },
   "outputs": [],
   "source": [
    "# data['current']"
   ]
  },
  {
   "cell_type": "code",
   "execution_count": 7,
   "metadata": {
    "execution": {
     "iopub.execute_input": "2021-09-05T17:24:40.978027Z",
     "iopub.status.busy": "2021-09-05T17:24:40.977474Z",
     "iopub.status.idle": "2021-09-05T17:24:41.262095Z",
     "shell.execute_reply": "2021-09-05T17:24:41.262813Z"
    }
   },
   "outputs": [
    {
     "data": {
      "image/png": "[encoded data removed]",
      "text/plain": [
       "<Figure size 216x216 with 1 Axes>"
      ]
     },
     "metadata": {
      "needs_background": "light"
     },
     "output_type": "display_data"
    },
    {
     "name": "stdout",
     "output_type": "stream",
     "text": [
      "Today, sun rises at 06:07 and sets at 18:35.\n",
      "Currently, the weather is Clouds (scattered clouds).\n",
      "The temperature is 28.57°C and it feels like 34.35°C.\n",
      "The UV index is 0, humidity is 84%.\n",
      "The pressure is 1011 hPa, percentage of cloud cover is 30%\n",
      "The wind comes from ESE direction with a speed 2.39 m/s.\n"
     ]
    }
   ],
   "source": [
    "current = data['current']\r\n",
    "\r\n",
    "fig, ax = plt.subplots(figsize=(3, 3))\r\n",
    "icon = requests.get(f\"http://openweathermap.org/img/wn/{current['weather'][0]['icon']}@2x.png\")\r\n",
    "im = Image.open(BytesIO(icon.content))\r\n",
    "plt.imshow(im)\r\n",
    "ax.set_axis_off()\r\n",
    "plt.show()\r\n",
    "\r\n",
    "print(f\"Today, sun rises at {ts2dt(current['sunrise'], '%H:%M')[0]} \\\r\n",
    "and sets at {ts2dt(current['sunset'], '%H:%M')[0]}.\\n\\\r\n",
    "Currently, the weather is {current['weather'][0]['main']} ({current['weather'][0]['description']}).\\n\\\r\n",
    "The temperature is {current['temp']}°C and it feels like {current['feels_like']}°C.\\n\\\r\n",
    "The UV index is {current['uvi']}, humidity is {current['humidity']}%.\\n\\\r\n",
    "The pressure is {current['pressure']} hPa, percentage of cloud cover is {current['clouds']}%\\n\\\r\n",
    "The wind comes from {degrees_to_cardinal(current['wind_deg'])} direction with a speed {current['wind_speed']} m/s.\")"
   ]
  },
  {
   "cell_type": "code",
   "execution_count": 8,
   "metadata": {
    "execution": {
     "iopub.execute_input": "2021-09-05T17:24:41.266156Z",
     "iopub.status.busy": "2021-09-05T17:24:41.265121Z",
     "iopub.status.idle": "2021-09-05T17:24:41.272640Z",
     "shell.execute_reply": "2021-09-05T17:24:41.273362Z"
    }
   },
   "outputs": [],
   "source": [
    "df_hourly = pd.DataFrame(data['hourly'])\r\n",
    "df_daily = pd.DataFrame(data['daily'])"
   ]
  },
  {
   "cell_type": "code",
   "execution_count": 9,
   "metadata": {
    "execution": {
     "iopub.execute_input": "2021-09-05T17:24:41.276665Z",
     "iopub.status.busy": "2021-09-05T17:24:41.275627Z",
     "iopub.status.idle": "2021-09-05T17:24:41.549777Z",
     "shell.execute_reply": "2021-09-05T17:24:41.549296Z"
    }
   },
   "outputs": [
    {
     "data": {
      "image/png": "[encoded data removed]",
      "text/plain": [
       "<Figure size 864x432 with 1 Axes>"
      ]
     },
     "metadata": {
      "needs_background": "light"
     },
     "output_type": "display_data"
    }
   ],
   "source": [
    "fig, ax = plt.subplots(figsize=(12, 6))\r\n",
    "plt.plot(df_hourly.temp, '.-', label='Temperature')\r\n",
    "plt.plot(df_hourly.feels_like, '.-', label='Feels Like')\r\n",
    "ax.set(title='Temperature in future 48 hours', xlabel='Time', ylabel='Temperature')\r\n",
    "ax.set_xticks(list(range(0, len(df_hourly), 2)))\r\n",
    "ax.set_xticklabels([ts2dt(ts, '%m-%d %H:%M')[0] for i, ts in enumerate(df_hourly.dt) if i%2==0], \r\n",
    "                   rotation=45, ha=\"right\")\r\n",
    "ax.locator_params(nbins=15, axis='y')\r\n",
    "plt.legend()\r\n",
    "plt.show()"
   ]
  },
  {
   "cell_type": "code",
   "execution_count": 10,
   "metadata": {
    "execution": {
     "iopub.execute_input": "2021-09-05T17:24:41.569911Z",
     "iopub.status.busy": "2021-09-05T17:24:41.553751Z",
     "iopub.status.idle": "2021-09-05T17:24:41.574023Z",
     "shell.execute_reply": "2021-09-05T17:24:41.574435Z"
    }
   },
   "outputs": [
    {
     "data": {
      "text/html": [
       "<div>\n",
       "<style scoped>\n",
       "    .dataframe tbody tr th:only-of-type {\n",
       "        vertical-align: middle;\n",
       "    }\n",
       "\n",
       "    .dataframe tbody tr th {\n",
       "        vertical-align: top;\n",
       "    }\n",
       "\n",
       "    .dataframe thead th {\n",
       "        text-align: right;\n",
       "    }\n",
       "</style>\n",
       "<table border=\"1\" class=\"dataframe\">\n",
       "  <thead>\n",
       "    <tr style=\"text-align: right;\">\n",
       "      <th></th>\n",
       "      <th>dt</th>\n",
       "      <th>temp</th>\n",
       "      <th>feels_like</th>\n",
       "      <th>pressure</th>\n",
       "      <th>humidity</th>\n",
       "      <th>dew_point</th>\n",
       "      <th>uvi</th>\n",
       "      <th>clouds</th>\n",
       "      <th>visibility</th>\n",
       "      <th>wind_speed</th>\n",
       "      <th>wind_deg</th>\n",
       "      <th>wind_gust</th>\n",
       "      <th>weather</th>\n",
       "      <th>pop</th>\n",
       "      <th>rain</th>\n",
       "    </tr>\n",
       "  </thead>\n",
       "  <tbody>\n",
       "    <tr>\n",
       "      <th>0</th>\n",
       "      <td>1630861200</td>\n",
       "      <td>28.57</td>\n",
       "      <td>34.35</td>\n",
       "      <td>1011</td>\n",
       "      <td>84</td>\n",
       "      <td>25.60</td>\n",
       "      <td>0.0</td>\n",
       "      <td>30</td>\n",
       "      <td>10000</td>\n",
       "      <td>2.39</td>\n",
       "      <td>104</td>\n",
       "      <td>3.11</td>\n",
       "      <td>[{'id': 802, 'main': 'Clouds', 'description': ...</td>\n",
       "      <td>0.00</td>\n",
       "      <td>NaN</td>\n",
       "    </tr>\n",
       "    <tr>\n",
       "      <th>1</th>\n",
       "      <td>1630864800</td>\n",
       "      <td>28.41</td>\n",
       "      <td>33.70</td>\n",
       "      <td>1011</td>\n",
       "      <td>83</td>\n",
       "      <td>25.24</td>\n",
       "      <td>0.0</td>\n",
       "      <td>29</td>\n",
       "      <td>10000</td>\n",
       "      <td>2.40</td>\n",
       "      <td>99</td>\n",
       "      <td>3.19</td>\n",
       "      <td>[{'id': 802, 'main': 'Clouds', 'description': ...</td>\n",
       "      <td>0.00</td>\n",
       "      <td>NaN</td>\n",
       "    </tr>\n",
       "    <tr>\n",
       "      <th>2</th>\n",
       "      <td>1630868400</td>\n",
       "      <td>28.23</td>\n",
       "      <td>33.02</td>\n",
       "      <td>1011</td>\n",
       "      <td>82</td>\n",
       "      <td>24.86</td>\n",
       "      <td>0.0</td>\n",
       "      <td>22</td>\n",
       "      <td>10000</td>\n",
       "      <td>1.44</td>\n",
       "      <td>94</td>\n",
       "      <td>1.98</td>\n",
       "      <td>[{'id': 801, 'main': 'Clouds', 'description': ...</td>\n",
       "      <td>0.13</td>\n",
       "      <td>NaN</td>\n",
       "    </tr>\n",
       "    <tr>\n",
       "      <th>3</th>\n",
       "      <td>1630872000</td>\n",
       "      <td>27.96</td>\n",
       "      <td>32.31</td>\n",
       "      <td>1010</td>\n",
       "      <td>82</td>\n",
       "      <td>24.60</td>\n",
       "      <td>0.0</td>\n",
       "      <td>18</td>\n",
       "      <td>10000</td>\n",
       "      <td>1.56</td>\n",
       "      <td>74</td>\n",
       "      <td>1.95</td>\n",
       "      <td>[{'id': 500, 'main': 'Rain', 'description': 'l...</td>\n",
       "      <td>0.21</td>\n",
       "      <td>{'1h': 0.13}</td>\n",
       "    </tr>\n",
       "    <tr>\n",
       "      <th>4</th>\n",
       "      <td>1630875600</td>\n",
       "      <td>27.24</td>\n",
       "      <td>30.72</td>\n",
       "      <td>1010</td>\n",
       "      <td>84</td>\n",
       "      <td>24.30</td>\n",
       "      <td>0.0</td>\n",
       "      <td>25</td>\n",
       "      <td>10000</td>\n",
       "      <td>1.78</td>\n",
       "      <td>75</td>\n",
       "      <td>1.96</td>\n",
       "      <td>[{'id': 500, 'main': 'Rain', 'description': 'l...</td>\n",
       "      <td>0.25</td>\n",
       "      <td>{'1h': 0.93}</td>\n",
       "    </tr>\n",
       "  </tbody>\n",
       "</table>\n",
       "</div>"
      ],
      "text/plain": [
       "           dt   temp  feels_like  pressure  humidity  dew_point  uvi  clouds  \\\n",
       "0  1630861200  28.57       34.35      1011        84      25.60  0.0      30   \n",
       "1  1630864800  28.41       33.70      1011        83      25.24  0.0      29   \n",
       "2  1630868400  28.23       33.02      1011        82      24.86  0.0      22   \n",
       "3  1630872000  27.96       32.31      1010        82      24.60  0.0      18   \n",
       "4  1630875600  27.24       30.72      1010        84      24.30  0.0      25   \n",
       "\n",
       "   visibility  wind_speed  wind_deg  wind_gust  \\\n",
       "0       10000        2.39       104       3.11   \n",
       "1       10000        2.40        99       3.19   \n",
       "2       10000        1.44        94       1.98   \n",
       "3       10000        1.56        74       1.95   \n",
       "4       10000        1.78        75       1.96   \n",
       "\n",
       "                                             weather   pop          rain  \n",
       "0  [{'id': 802, 'main': 'Clouds', 'description': ...  0.00           NaN  \n",
       "1  [{'id': 802, 'main': 'Clouds', 'description': ...  0.00           NaN  \n",
       "2  [{'id': 801, 'main': 'Clouds', 'description': ...  0.13           NaN  \n",
       "3  [{'id': 500, 'main': 'Rain', 'description': 'l...  0.21  {'1h': 0.13}  \n",
       "4  [{'id': 500, 'main': 'Rain', 'description': 'l...  0.25  {'1h': 0.93}  "
      ]
     },
     "execution_count": 10,
     "metadata": {},
     "output_type": "execute_result"
    }
   ],
   "source": [
    "df_hourly.head()"
   ]
  },
  {
   "cell_type": "code",
   "execution_count": null,
   "metadata": {},
   "outputs": [],
   "source": []
  }
 ],
 "metadata": {
  "interpreter": {
   "hash": "c1b4cfe941b6d2466ad1fb5979e97da9cda8801728c8091b097ab734208fc00c"
  },
  "kernelspec": {
   "display_name": "Python 3.8.3 64-bit ('base': conda)",
   "name": "python3"
  },
  "language_info": {
   "codemirror_mode": {
    "name": "ipython",
    "version": 3
   },
   "file_extension": ".py",
   "mimetype": "text/x-python",
   "name": "python",
   "nbconvert_exporter": "python",
   "pygments_lexer": "ipython3",
   "version": "3.8.11"
  }
 },
 "nbformat": 4,
 "nbformat_minor": 2
}
