{
 "cells": [
  {
   "cell_type": "code",
   "execution_count": 1,
   "metadata": {
    "execution": {
     "iopub.execute_input": "2021-10-05T05:10:43.180968Z",
     "iopub.status.busy": "2021-10-05T05:10:43.180246Z",
     "iopub.status.idle": "2021-10-05T05:10:45.968875Z",
     "shell.execute_reply": "2021-10-05T05:10:45.968113Z"
    }
   },
   "outputs": [],
   "source": [
    "import json, yaml, requests\r\n",
    "from datetime import datetime\r\n",
    "from dateutil import tz\r\n",
    "import pandas as pd\r\n",
    "from PIL import Image\r\n",
    "from io import BytesIO\r\n",
    "import matplotlib.pyplot as plt\r\n",
    "import seaborn\r\n",
    "\r\n",
    "CONFIG_PATH = \"../config/config.yaml\""
   ]
  },
  {
   "cell_type": "code",
   "execution_count": 2,
   "metadata": {
    "execution": {
     "iopub.execute_input": "2021-10-05T05:10:45.975037Z",
     "iopub.status.busy": "2021-10-05T05:10:45.973960Z",
     "iopub.status.idle": "2021-10-05T05:10:45.979965Z",
     "shell.execute_reply": "2021-10-05T05:10:45.979501Z"
    }
   },
   "outputs": [],
   "source": [
    "with open('../newest_ts', 'r') as f:\r\n",
    "    newest_ts = f.read()\r\n",
    "\r\n",
    "data_path = f\"../data/data_{newest_ts}.json\"\r\n",
    "with open(data_path, 'r') as f:\r\n",
    "    data = json.load(f)\r\n",
    "\r\n",
    "with open(CONFIG_PATH, \"r\") as stream:\r\n",
    "    config = yaml.safe_load(stream)\r\n",
    "\r\n",
    "TIME_ZONE = config['time_zone']\r\n",
    "DATETIME_FORMAT = config['dt_format']"
   ]
  },
  {
   "cell_type": "code",
   "execution_count": 3,
   "metadata": {
    "execution": {
     "iopub.execute_input": "2021-10-05T05:10:45.984934Z",
     "iopub.status.busy": "2021-10-05T05:10:45.984386Z",
     "iopub.status.idle": "2021-10-05T05:10:46.007130Z",
     "shell.execute_reply": "2021-10-05T05:10:46.007713Z"
    }
   },
   "outputs": [
    {
     "name": "stdout",
     "output_type": "stream",
     "text": [
      "Recent query happens at 2021-10-05 13:10:39 (CST).\n"
     ]
    }
   ],
   "source": [
    "def ts2dt(ts, format=DATETIME_FORMAT):\r\n",
    "    dt = (datetime.utcfromtimestamp(int(ts))\r\n",
    "                    .replace(tzinfo=tz.tzutc())\r\n",
    "                    # .astimezone(tz.tzlocal())\r\n",
    "                    .astimezone(tz.gettz(TIME_ZONE)))\r\n",
    "    return dt.strftime(format), dt\r\n",
    "\r\n",
    "_, newest_dt = ts2dt(newest_ts)\r\n",
    "print(f\"Recent query happens at {newest_dt.strftime(DATETIME_FORMAT)} ({newest_dt.tzname()}).\")"
   ]
  },
  {
   "cell_type": "code",
   "execution_count": 4,
   "metadata": {
    "execution": {
     "iopub.execute_input": "2021-10-05T05:10:46.012886Z",
     "iopub.status.busy": "2021-10-05T05:10:46.012155Z",
     "iopub.status.idle": "2021-10-05T05:10:46.014614Z",
     "shell.execute_reply": "2021-10-05T05:10:46.014193Z"
    }
   },
   "outputs": [],
   "source": [
    "def degrees_to_cardinal(d):\r\n",
    "  dirs = ['N', 'NNE', 'NE', 'ENE', 'E', 'ESE', 'SE', 'SSE', 'S', 'SSW', 'SW', 'WSW', 'W', 'WNW', 'NW', 'NNW']\r\n",
    "  ix = int(round(d / (360. / len(dirs))))\r\n",
    "  return dirs[ix % len(dirs)]"
   ]
  },
  {
   "cell_type": "code",
   "execution_count": 5,
   "metadata": {
    "execution": {
     "iopub.execute_input": "2021-10-05T05:10:46.019378Z",
     "iopub.status.busy": "2021-10-05T05:10:46.018037Z",
     "iopub.status.idle": "2021-10-05T05:10:46.019988Z",
     "shell.execute_reply": "2021-10-05T05:10:46.020565Z"
    }
   },
   "outputs": [],
   "source": [
    "# data.keys()"
   ]
  },
  {
   "cell_type": "code",
   "execution_count": 6,
   "metadata": {
    "execution": {
     "iopub.execute_input": "2021-10-05T05:10:46.025281Z",
     "iopub.status.busy": "2021-10-05T05:10:46.023706Z",
     "iopub.status.idle": "2021-10-05T05:10:46.025984Z",
     "shell.execute_reply": "2021-10-05T05:10:46.026512Z"
    }
   },
   "outputs": [],
   "source": [
    "# data['current']"
   ]
  },
  {
   "cell_type": "code",
   "execution_count": 7,
   "metadata": {
    "execution": {
     "iopub.execute_input": "2021-10-05T05:10:46.047452Z",
     "iopub.status.busy": "2021-10-05T05:10:46.046748Z",
     "iopub.status.idle": "2021-10-05T05:10:46.461804Z",
     "shell.execute_reply": "2021-10-05T05:10:46.462437Z"
    }
   },
   "outputs": [
    {
     "data": {
      "image/png": "[encoded data removed]",
      "text/plain": [
       "<Figure size 216x216 with 1 Axes>"
      ]
     },
     "metadata": {
      "needs_background": "light"
     },
     "output_type": "display_data"
    },
    {
     "name": "stdout",
     "output_type": "stream",
     "text": [
      "Today, sun rises at 06:15 and sets at 18:07.\n",
      "Currently, the weather is Clouds (scattered clouds).\n",
      "The temperature is 30.9°C and it feels like 37.9°C.\n",
      "The UV index is 8.95, humidity is 74%.\n",
      "The pressure is 1011 hPa, percentage of cloud cover is 27%\n",
      "The wind comes from E direction with a speed 8.82 m/s.\n"
     ]
    }
   ],
   "source": [
    "current = data['current']\r\n",
    "\r\n",
    "fig, ax = plt.subplots(figsize=(3, 3))\r\n",
    "icon = requests.get(f\"http://openweathermap.org/img/wn/{current['weather'][0]['icon']}@2x.png\")\r\n",
    "im = Image.open(BytesIO(icon.content))\r\n",
    "plt.imshow(im)\r\n",
    "ax.set_axis_off()\r\n",
    "plt.show()\r\n",
    "\r\n",
    "print(f\"Today, sun rises at {ts2dt(current['sunrise'], '%H:%M')[0]} \\\r\n",
    "and sets at {ts2dt(current['sunset'], '%H:%M')[0]}.\\n\\\r\n",
    "Currently, the weather is {current['weather'][0]['main']} ({current['weather'][0]['description']}).\\n\\\r\n",
    "The temperature is {current['temp']}°C and it feels like {current['feels_like']}°C.\\n\\\r\n",
    "The UV index is {current['uvi']}, humidity is {current['humidity']}%.\\n\\\r\n",
    "The pressure is {current['pressure']} hPa, percentage of cloud cover is {current['clouds']}%\\n\\\r\n",
    "The wind comes from {degrees_to_cardinal(current['wind_deg'])} direction with a speed {current['wind_speed']} m/s.\")"
   ]
  },
  {
   "cell_type": "code",
   "execution_count": 8,
   "metadata": {
    "execution": {
     "iopub.execute_input": "2021-10-05T05:10:46.465540Z",
     "iopub.status.busy": "2021-10-05T05:10:46.464894Z",
     "iopub.status.idle": "2021-10-05T05:10:46.471676Z",
     "shell.execute_reply": "2021-10-05T05:10:46.472419Z"
    }
   },
   "outputs": [],
   "source": [
    "df_hourly = pd.DataFrame(data['hourly'])\r\n",
    "df_daily = pd.DataFrame(data['daily'])"
   ]
  },
  {
   "cell_type": "code",
   "execution_count": 9,
   "metadata": {
    "execution": {
     "iopub.execute_input": "2021-10-05T05:10:46.475549Z",
     "iopub.status.busy": "2021-10-05T05:10:46.474993Z",
     "iopub.status.idle": "2021-10-05T05:10:46.813121Z",
     "shell.execute_reply": "2021-10-05T05:10:46.812512Z"
    }
   },
   "outputs": [
    {
     "data": {
      "image/png": "[encoded data removed]",
      "text/plain": [
       "<Figure size 864x432 with 1 Axes>"
      ]
     },
     "metadata": {
      "needs_background": "light"
     },
     "output_type": "display_data"
    }
   ],
   "source": [
    "fig, ax = plt.subplots(figsize=(12, 6))\r\n",
    "plt.plot(df_hourly.temp, '.-', label='Temperature')\r\n",
    "plt.plot(df_hourly.feels_like, '.-', label='Feels Like')\r\n",
    "ax.set(title='Temperature in future 48 hours', xlabel='Time', ylabel='Temperature')\r\n",
    "ax.set_xticks(list(range(0, len(df_hourly), 2)))\r\n",
    "ax.set_xticklabels([ts2dt(ts, '%m-%d %H:%M')[0] for i, ts in enumerate(df_hourly.dt) if i%2==0], \r\n",
    "                   rotation=45, ha=\"right\")\r\n",
    "ax.locator_params(nbins=15, axis='y')\r\n",
    "plt.legend()\r\n",
    "plt.show()"
   ]
  },
  {
   "cell_type": "code",
   "execution_count": 10,
   "metadata": {
    "execution": {
     "iopub.execute_input": "2021-10-05T05:10:46.827417Z",
     "iopub.status.busy": "2021-10-05T05:10:46.818099Z",
     "iopub.status.idle": "2021-10-05T05:10:46.840658Z",
     "shell.execute_reply": "2021-10-05T05:10:46.841144Z"
    }
   },
   "outputs": [
    {
     "data": {
      "text/html": [
       "<div>\n",
       "<style scoped>\n",
       "    .dataframe tbody tr th:only-of-type {\n",
       "        vertical-align: middle;\n",
       "    }\n",
       "\n",
       "    .dataframe tbody tr th {\n",
       "        vertical-align: top;\n",
       "    }\n",
       "\n",
       "    .dataframe thead th {\n",
       "        text-align: right;\n",
       "    }\n",
       "</style>\n",
       "<table border=\"1\" class=\"dataframe\">\n",
       "  <thead>\n",
       "    <tr style=\"text-align: right;\">\n",
       "      <th></th>\n",
       "      <th>dt</th>\n",
       "      <th>temp</th>\n",
       "      <th>feels_like</th>\n",
       "      <th>pressure</th>\n",
       "      <th>humidity</th>\n",
       "      <th>dew_point</th>\n",
       "      <th>uvi</th>\n",
       "      <th>clouds</th>\n",
       "      <th>visibility</th>\n",
       "      <th>wind_speed</th>\n",
       "      <th>wind_deg</th>\n",
       "      <th>wind_gust</th>\n",
       "      <th>weather</th>\n",
       "      <th>pop</th>\n",
       "      <th>rain</th>\n",
       "    </tr>\n",
       "  </thead>\n",
       "  <tbody>\n",
       "    <tr>\n",
       "      <th>0</th>\n",
       "      <td>1633410000</td>\n",
       "      <td>30.90</td>\n",
       "      <td>37.90</td>\n",
       "      <td>1011</td>\n",
       "      <td>74</td>\n",
       "      <td>25.72</td>\n",
       "      <td>8.95</td>\n",
       "      <td>27</td>\n",
       "      <td>10000</td>\n",
       "      <td>8.82</td>\n",
       "      <td>80</td>\n",
       "      <td>9.41</td>\n",
       "      <td>[{'id': 802, 'main': 'Clouds', 'description': ...</td>\n",
       "      <td>0.13</td>\n",
       "      <td>NaN</td>\n",
       "    </tr>\n",
       "    <tr>\n",
       "      <th>1</th>\n",
       "      <td>1633413600</td>\n",
       "      <td>30.59</td>\n",
       "      <td>37.08</td>\n",
       "      <td>1011</td>\n",
       "      <td>72</td>\n",
       "      <td>24.96</td>\n",
       "      <td>7.26</td>\n",
       "      <td>28</td>\n",
       "      <td>10000</td>\n",
       "      <td>8.48</td>\n",
       "      <td>82</td>\n",
       "      <td>9.17</td>\n",
       "      <td>[{'id': 802, 'main': 'Clouds', 'description': ...</td>\n",
       "      <td>0.11</td>\n",
       "      <td>NaN</td>\n",
       "    </tr>\n",
       "    <tr>\n",
       "      <th>2</th>\n",
       "      <td>1633417200</td>\n",
       "      <td>30.25</td>\n",
       "      <td>35.91</td>\n",
       "      <td>1011</td>\n",
       "      <td>71</td>\n",
       "      <td>24.40</td>\n",
       "      <td>4.75</td>\n",
       "      <td>18</td>\n",
       "      <td>10000</td>\n",
       "      <td>8.02</td>\n",
       "      <td>86</td>\n",
       "      <td>8.84</td>\n",
       "      <td>[{'id': 801, 'main': 'Clouds', 'description': ...</td>\n",
       "      <td>0.00</td>\n",
       "      <td>NaN</td>\n",
       "    </tr>\n",
       "    <tr>\n",
       "      <th>3</th>\n",
       "      <td>1633420800</td>\n",
       "      <td>29.76</td>\n",
       "      <td>34.01</td>\n",
       "      <td>1010</td>\n",
       "      <td>68</td>\n",
       "      <td>23.22</td>\n",
       "      <td>2.28</td>\n",
       "      <td>13</td>\n",
       "      <td>10000</td>\n",
       "      <td>7.99</td>\n",
       "      <td>93</td>\n",
       "      <td>8.91</td>\n",
       "      <td>[{'id': 801, 'main': 'Clouds', 'description': ...</td>\n",
       "      <td>0.00</td>\n",
       "      <td>NaN</td>\n",
       "    </tr>\n",
       "    <tr>\n",
       "      <th>4</th>\n",
       "      <td>1633424400</td>\n",
       "      <td>29.12</td>\n",
       "      <td>32.25</td>\n",
       "      <td>1010</td>\n",
       "      <td>66</td>\n",
       "      <td>22.12</td>\n",
       "      <td>0.69</td>\n",
       "      <td>7</td>\n",
       "      <td>10000</td>\n",
       "      <td>7.68</td>\n",
       "      <td>97</td>\n",
       "      <td>8.81</td>\n",
       "      <td>[{'id': 800, 'main': 'Clear', 'description': '...</td>\n",
       "      <td>0.00</td>\n",
       "      <td>NaN</td>\n",
       "    </tr>\n",
       "  </tbody>\n",
       "</table>\n",
       "</div>"
      ],
      "text/plain": [
       "           dt   temp  feels_like  pressure  humidity  dew_point   uvi  clouds  \\\n",
       "0  1633410000  30.90       37.90      1011        74      25.72  8.95      27   \n",
       "1  1633413600  30.59       37.08      1011        72      24.96  7.26      28   \n",
       "2  1633417200  30.25       35.91      1011        71      24.40  4.75      18   \n",
       "3  1633420800  29.76       34.01      1010        68      23.22  2.28      13   \n",
       "4  1633424400  29.12       32.25      1010        66      22.12  0.69       7   \n",
       "\n",
       "   visibility  wind_speed  wind_deg  wind_gust  \\\n",
       "0       10000        8.82        80       9.41   \n",
       "1       10000        8.48        82       9.17   \n",
       "2       10000        8.02        86       8.84   \n",
       "3       10000        7.99        93       8.91   \n",
       "4       10000        7.68        97       8.81   \n",
       "\n",
       "                                             weather   pop rain  \n",
       "0  [{'id': 802, 'main': 'Clouds', 'description': ...  0.13  NaN  \n",
       "1  [{'id': 802, 'main': 'Clouds', 'description': ...  0.11  NaN  \n",
       "2  [{'id': 801, 'main': 'Clouds', 'description': ...  0.00  NaN  \n",
       "3  [{'id': 801, 'main': 'Clouds', 'description': ...  0.00  NaN  \n",
       "4  [{'id': 800, 'main': 'Clear', 'description': '...  0.00  NaN  "
      ]
     },
     "execution_count": 10,
     "metadata": {},
     "output_type": "execute_result"
    }
   ],
   "source": [
    "df_hourly.head()"
   ]
  },
  {
   "cell_type": "code",
   "execution_count": null,
   "metadata": {},
   "outputs": [],
   "source": []
  }
 ],
 "metadata": {
  "interpreter": {
   "hash": "c1b4cfe941b6d2466ad1fb5979e97da9cda8801728c8091b097ab734208fc00c"
  },
  "kernelspec": {
   "display_name": "Python 3.8.3 64-bit ('base': conda)",
   "name": "python3"
  },
  "language_info": {
   "codemirror_mode": {
    "name": "ipython",
    "version": 3
   },
   "file_extension": ".py",
   "mimetype": "text/x-python",
   "name": "python",
   "nbconvert_exporter": "python",
   "pygments_lexer": "ipython3",
   "version": "3.8.12"
  }
 },
 "nbformat": 4,
 "nbformat_minor": 2
}
