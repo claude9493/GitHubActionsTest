{
 "cells": [
  {
   "cell_type": "code",
   "execution_count": 1,
   "metadata": {
    "execution": {
     "iopub.execute_input": "2021-10-11T09:11:50.747858Z",
     "iopub.status.busy": "2021-10-11T09:11:50.747058Z",
     "iopub.status.idle": "2021-10-11T09:11:52.137045Z",
     "shell.execute_reply": "2021-10-11T09:11:52.137538Z"
    }
   },
   "outputs": [],
   "source": [
    "import json, yaml, requests\r\n",
    "from datetime import datetime\r\n",
    "from dateutil import tz\r\n",
    "import pandas as pd\r\n",
    "from PIL import Image\r\n",
    "from io import BytesIO\r\n",
    "import matplotlib.pyplot as plt\r\n",
    "import seaborn\r\n",
    "\r\n",
    "CONFIG_PATH = \"../config/config.yaml\""
   ]
  },
  {
   "cell_type": "code",
   "execution_count": 2,
   "metadata": {
    "execution": {
     "iopub.execute_input": "2021-10-11T09:11:52.145689Z",
     "iopub.status.busy": "2021-10-11T09:11:52.142426Z",
     "iopub.status.idle": "2021-10-11T09:11:52.149172Z",
     "shell.execute_reply": "2021-10-11T09:11:52.148128Z"
    }
   },
   "outputs": [],
   "source": [
    "with open('../newest_ts', 'r') as f:\r\n",
    "    newest_ts = f.read()\r\n",
    "\r\n",
    "data_path = f\"../data/data_{newest_ts}.json\"\r\n",
    "with open(data_path, 'r') as f:\r\n",
    "    data = json.load(f)\r\n",
    "\r\n",
    "with open(CONFIG_PATH, \"r\") as stream:\r\n",
    "    config = yaml.safe_load(stream)\r\n",
    "\r\n",
    "TIME_ZONE = config['time_zone']\r\n",
    "DATETIME_FORMAT = config['dt_format']"
   ]
  },
  {
   "cell_type": "code",
   "execution_count": 3,
   "metadata": {
    "execution": {
     "iopub.execute_input": "2021-10-11T09:11:52.154498Z",
     "iopub.status.busy": "2021-10-11T09:11:52.153726Z",
     "iopub.status.idle": "2021-10-11T09:11:52.194649Z",
     "shell.execute_reply": "2021-10-11T09:11:52.195062Z"
    }
   },
   "outputs": [
    {
     "name": "stdout",
     "output_type": "stream",
     "text": [
      "Recent query happens at 2021-10-11 17:11:47 (CST).\n"
     ]
    }
   ],
   "source": [
    "def ts2dt(ts, format=DATETIME_FORMAT):\r\n",
    "    dt = (datetime.utcfromtimestamp(int(ts))\r\n",
    "                    .replace(tzinfo=tz.tzutc())\r\n",
    "                    # .astimezone(tz.tzlocal())\r\n",
    "                    .astimezone(tz.gettz(TIME_ZONE)))\r\n",
    "    return dt.strftime(format), dt\r\n",
    "\r\n",
    "_, newest_dt = ts2dt(newest_ts)\r\n",
    "print(f\"Recent query happens at {newest_dt.strftime(DATETIME_FORMAT)} ({newest_dt.tzname()}).\")"
   ]
  },
  {
   "cell_type": "code",
   "execution_count": 4,
   "metadata": {
    "execution": {
     "iopub.execute_input": "2021-10-11T09:11:52.199592Z",
     "iopub.status.busy": "2021-10-11T09:11:52.198906Z",
     "iopub.status.idle": "2021-10-11T09:11:52.200926Z",
     "shell.execute_reply": "2021-10-11T09:11:52.201448Z"
    }
   },
   "outputs": [],
   "source": [
    "def degrees_to_cardinal(d):\r\n",
    "  dirs = ['N', 'NNE', 'NE', 'ENE', 'E', 'ESE', 'SE', 'SSE', 'S', 'SSW', 'SW', 'WSW', 'W', 'WNW', 'NW', 'NNW']\r\n",
    "  ix = int(round(d / (360. / len(dirs))))\r\n",
    "  return dirs[ix % len(dirs)]"
   ]
  },
  {
   "cell_type": "code",
   "execution_count": 5,
   "metadata": {
    "execution": {
     "iopub.execute_input": "2021-10-11T09:11:52.205366Z",
     "iopub.status.busy": "2021-10-11T09:11:52.203598Z",
     "iopub.status.idle": "2021-10-11T09:11:52.207049Z",
     "shell.execute_reply": "2021-10-11T09:11:52.207460Z"
    }
   },
   "outputs": [],
   "source": [
    "# data.keys()"
   ]
  },
  {
   "cell_type": "code",
   "execution_count": 6,
   "metadata": {
    "execution": {
     "iopub.execute_input": "2021-10-11T09:11:52.212042Z",
     "iopub.status.busy": "2021-10-11T09:11:52.210793Z",
     "iopub.status.idle": "2021-10-11T09:11:52.212744Z",
     "shell.execute_reply": "2021-10-11T09:11:52.213232Z"
    }
   },
   "outputs": [],
   "source": [
    "# data['current']"
   ]
  },
  {
   "cell_type": "code",
   "execution_count": 7,
   "metadata": {
    "execution": {
     "iopub.execute_input": "2021-10-11T09:11:52.234246Z",
     "iopub.status.busy": "2021-10-11T09:11:52.218741Z",
     "iopub.status.idle": "2021-10-11T09:11:52.661372Z",
     "shell.execute_reply": "2021-10-11T09:11:52.662266Z"
    }
   },
   "outputs": [
    {
     "data": {
      "image/png": "[encoded data removed]",
      "text/plain": [
       "<Figure size 216x216 with 1 Axes>"
      ]
     },
     "metadata": {
      "needs_background": "light"
     },
     "output_type": "display_data"
    },
    {
     "name": "stdout",
     "output_type": "stream",
     "text": [
      "Today, sun rises at 06:17 and sets at 18:01.\n",
      "Currently, the weather is Clouds (scattered clouds).\n",
      "The temperature is 30.82°C and it feels like 34.96°C.\n",
      "The UV index is 0.64, humidity is 62%.\n",
      "The pressure is 1002 hPa, percentage of cloud cover is 40%\n",
      "The wind comes from WNW direction with a speed 0.45 m/s.\n"
     ]
    }
   ],
   "source": [
    "current = data['current']\r\n",
    "\r\n",
    "fig, ax = plt.subplots(figsize=(3, 3))\r\n",
    "icon = requests.get(f\"http://openweathermap.org/img/wn/{current['weather'][0]['icon']}@2x.png\")\r\n",
    "im = Image.open(BytesIO(icon.content))\r\n",
    "plt.imshow(im)\r\n",
    "ax.set_axis_off()\r\n",
    "plt.show()\r\n",
    "\r\n",
    "print(f\"Today, sun rises at {ts2dt(current['sunrise'], '%H:%M')[0]} \\\r\n",
    "and sets at {ts2dt(current['sunset'], '%H:%M')[0]}.\\n\\\r\n",
    "Currently, the weather is {current['weather'][0]['main']} ({current['weather'][0]['description']}).\\n\\\r\n",
    "The temperature is {current['temp']}°C and it feels like {current['feels_like']}°C.\\n\\\r\n",
    "The UV index is {current['uvi']}, humidity is {current['humidity']}%.\\n\\\r\n",
    "The pressure is {current['pressure']} hPa, percentage of cloud cover is {current['clouds']}%\\n\\\r\n",
    "The wind comes from {degrees_to_cardinal(current['wind_deg'])} direction with a speed {current['wind_speed']} m/s.\")"
   ]
  },
  {
   "cell_type": "code",
   "execution_count": 8,
   "metadata": {
    "execution": {
     "iopub.execute_input": "2021-10-11T09:11:52.666407Z",
     "iopub.status.busy": "2021-10-11T09:11:52.665331Z",
     "iopub.status.idle": "2021-10-11T09:11:52.673484Z",
     "shell.execute_reply": "2021-10-11T09:11:52.674548Z"
    }
   },
   "outputs": [],
   "source": [
    "df_hourly = pd.DataFrame(data['hourly'])\r\n",
    "df_daily = pd.DataFrame(data['daily'])"
   ]
  },
  {
   "cell_type": "code",
   "execution_count": 9,
   "metadata": {
    "execution": {
     "iopub.execute_input": "2021-10-11T09:11:52.677949Z",
     "iopub.status.busy": "2021-10-11T09:11:52.676933Z",
     "iopub.status.idle": "2021-10-11T09:11:53.027930Z",
     "shell.execute_reply": "2021-10-11T09:11:53.028628Z"
    }
   },
   "outputs": [
    {
     "data": {
      "image/png": "[encoded data removed]",
      "text/plain": [
       "<Figure size 864x432 with 1 Axes>"
      ]
     },
     "metadata": {
      "needs_background": "light"
     },
     "output_type": "display_data"
    }
   ],
   "source": [
    "fig, ax = plt.subplots(figsize=(12, 6))\r\n",
    "plt.plot(df_hourly.temp, '.-', label='Temperature')\r\n",
    "plt.plot(df_hourly.feels_like, '.-', label='Feels Like')\r\n",
    "ax.set(title='Temperature in future 48 hours', xlabel='Time', ylabel='Temperature')\r\n",
    "ax.set_xticks(list(range(0, len(df_hourly), 2)))\r\n",
    "ax.set_xticklabels([ts2dt(ts, '%m-%d %H:%M')[0] for i, ts in enumerate(df_hourly.dt) if i%2==0], \r\n",
    "                   rotation=45, ha=\"right\")\r\n",
    "ax.locator_params(nbins=15, axis='y')\r\n",
    "plt.legend()\r\n",
    "plt.show()"
   ]
  },
  {
   "cell_type": "code",
   "execution_count": 10,
   "metadata": {
    "execution": {
     "iopub.execute_input": "2021-10-11T09:11:53.033690Z",
     "iopub.status.busy": "2021-10-11T09:11:53.033161Z",
     "iopub.status.idle": "2021-10-11T09:11:53.052919Z",
     "shell.execute_reply": "2021-10-11T09:11:53.053327Z"
    }
   },
   "outputs": [
    {
     "data": {
      "text/html": [
       "<div>\n",
       "<style scoped>\n",
       "    .dataframe tbody tr th:only-of-type {\n",
       "        vertical-align: middle;\n",
       "    }\n",
       "\n",
       "    .dataframe tbody tr th {\n",
       "        vertical-align: top;\n",
       "    }\n",
       "\n",
       "    .dataframe thead th {\n",
       "        text-align: right;\n",
       "    }\n",
       "</style>\n",
       "<table border=\"1\" class=\"dataframe\">\n",
       "  <thead>\n",
       "    <tr style=\"text-align: right;\">\n",
       "      <th></th>\n",
       "      <th>dt</th>\n",
       "      <th>temp</th>\n",
       "      <th>feels_like</th>\n",
       "      <th>pressure</th>\n",
       "      <th>humidity</th>\n",
       "      <th>dew_point</th>\n",
       "      <th>uvi</th>\n",
       "      <th>clouds</th>\n",
       "      <th>visibility</th>\n",
       "      <th>wind_speed</th>\n",
       "      <th>wind_deg</th>\n",
       "      <th>wind_gust</th>\n",
       "      <th>weather</th>\n",
       "      <th>pop</th>\n",
       "      <th>rain</th>\n",
       "    </tr>\n",
       "  </thead>\n",
       "  <tbody>\n",
       "    <tr>\n",
       "      <th>0</th>\n",
       "      <td>1633942800</td>\n",
       "      <td>30.82</td>\n",
       "      <td>34.96</td>\n",
       "      <td>1002</td>\n",
       "      <td>62</td>\n",
       "      <td>22.69</td>\n",
       "      <td>0.64</td>\n",
       "      <td>40</td>\n",
       "      <td>10000</td>\n",
       "      <td>8.75</td>\n",
       "      <td>0</td>\n",
       "      <td>12.66</td>\n",
       "      <td>[{'id': 802, 'main': 'Clouds', 'description': ...</td>\n",
       "      <td>0.0</td>\n",
       "      <td>NaN</td>\n",
       "    </tr>\n",
       "    <tr>\n",
       "      <th>1</th>\n",
       "      <td>1633946400</td>\n",
       "      <td>29.96</td>\n",
       "      <td>33.58</td>\n",
       "      <td>1002</td>\n",
       "      <td>64</td>\n",
       "      <td>22.41</td>\n",
       "      <td>0.00</td>\n",
       "      <td>38</td>\n",
       "      <td>10000</td>\n",
       "      <td>8.33</td>\n",
       "      <td>357</td>\n",
       "      <td>13.46</td>\n",
       "      <td>[{'id': 802, 'main': 'Clouds', 'description': ...</td>\n",
       "      <td>0.0</td>\n",
       "      <td>NaN</td>\n",
       "    </tr>\n",
       "    <tr>\n",
       "      <th>2</th>\n",
       "      <td>1633950000</td>\n",
       "      <td>28.75</td>\n",
       "      <td>31.52</td>\n",
       "      <td>1003</td>\n",
       "      <td>66</td>\n",
       "      <td>21.77</td>\n",
       "      <td>0.00</td>\n",
       "      <td>42</td>\n",
       "      <td>10000</td>\n",
       "      <td>8.31</td>\n",
       "      <td>356</td>\n",
       "      <td>14.97</td>\n",
       "      <td>[{'id': 802, 'main': 'Clouds', 'description': ...</td>\n",
       "      <td>0.0</td>\n",
       "      <td>NaN</td>\n",
       "    </tr>\n",
       "    <tr>\n",
       "      <th>3</th>\n",
       "      <td>1633953600</td>\n",
       "      <td>27.44</td>\n",
       "      <td>29.32</td>\n",
       "      <td>1004</td>\n",
       "      <td>67</td>\n",
       "      <td>20.77</td>\n",
       "      <td>0.00</td>\n",
       "      <td>48</td>\n",
       "      <td>10000</td>\n",
       "      <td>8.05</td>\n",
       "      <td>357</td>\n",
       "      <td>15.91</td>\n",
       "      <td>[{'id': 802, 'main': 'Clouds', 'description': ...</td>\n",
       "      <td>0.0</td>\n",
       "      <td>NaN</td>\n",
       "    </tr>\n",
       "    <tr>\n",
       "      <th>4</th>\n",
       "      <td>1633957200</td>\n",
       "      <td>25.96</td>\n",
       "      <td>25.96</td>\n",
       "      <td>1004</td>\n",
       "      <td>69</td>\n",
       "      <td>19.84</td>\n",
       "      <td>0.00</td>\n",
       "      <td>39</td>\n",
       "      <td>10000</td>\n",
       "      <td>8.09</td>\n",
       "      <td>357</td>\n",
       "      <td>16.38</td>\n",
       "      <td>[{'id': 802, 'main': 'Clouds', 'description': ...</td>\n",
       "      <td>0.0</td>\n",
       "      <td>NaN</td>\n",
       "    </tr>\n",
       "  </tbody>\n",
       "</table>\n",
       "</div>"
      ],
      "text/plain": [
       "           dt   temp  feels_like  pressure  humidity  dew_point   uvi  clouds  \\\n",
       "0  1633942800  30.82       34.96      1002        62      22.69  0.64      40   \n",
       "1  1633946400  29.96       33.58      1002        64      22.41  0.00      38   \n",
       "2  1633950000  28.75       31.52      1003        66      21.77  0.00      42   \n",
       "3  1633953600  27.44       29.32      1004        67      20.77  0.00      48   \n",
       "4  1633957200  25.96       25.96      1004        69      19.84  0.00      39   \n",
       "\n",
       "   visibility  wind_speed  wind_deg  wind_gust  \\\n",
       "0       10000        8.75         0      12.66   \n",
       "1       10000        8.33       357      13.46   \n",
       "2       10000        8.31       356      14.97   \n",
       "3       10000        8.05       357      15.91   \n",
       "4       10000        8.09       357      16.38   \n",
       "\n",
       "                                             weather  pop rain  \n",
       "0  [{'id': 802, 'main': 'Clouds', 'description': ...  0.0  NaN  \n",
       "1  [{'id': 802, 'main': 'Clouds', 'description': ...  0.0  NaN  \n",
       "2  [{'id': 802, 'main': 'Clouds', 'description': ...  0.0  NaN  \n",
       "3  [{'id': 802, 'main': 'Clouds', 'description': ...  0.0  NaN  \n",
       "4  [{'id': 802, 'main': 'Clouds', 'description': ...  0.0  NaN  "
      ]
     },
     "execution_count": 10,
     "metadata": {},
     "output_type": "execute_result"
    }
   ],
   "source": [
    "df_hourly.head()"
   ]
  },
  {
   "cell_type": "code",
   "execution_count": null,
   "metadata": {},
   "outputs": [],
   "source": []
  }
 ],
 "metadata": {
  "interpreter": {
   "hash": "c1b4cfe941b6d2466ad1fb5979e97da9cda8801728c8091b097ab734208fc00c"
  },
  "kernelspec": {
   "display_name": "Python 3.8.3 64-bit ('base': conda)",
   "name": "python3"
  },
  "language_info": {
   "codemirror_mode": {
    "name": "ipython",
    "version": 3
   },
   "file_extension": ".py",
   "mimetype": "text/x-python",
   "name": "python",
   "nbconvert_exporter": "python",
   "pygments_lexer": "ipython3",
   "version": "3.8.12"
  }
 },
 "nbformat": 4,
 "nbformat_minor": 2
}
