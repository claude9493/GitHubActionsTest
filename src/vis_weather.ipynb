{
 "cells": [
  {
   "cell_type": "code",
   "execution_count": 1,
   "metadata": {
    "execution": {
     "iopub.execute_input": "2021-09-28T22:11:36.042084Z",
     "iopub.status.busy": "2021-09-28T22:11:36.041367Z",
     "iopub.status.idle": "2021-09-28T22:11:38.714812Z",
     "shell.execute_reply": "2021-09-28T22:11:38.715276Z"
    }
   },
   "outputs": [],
   "source": [
    "import json, yaml, requests\r\n",
    "from datetime import datetime\r\n",
    "from dateutil import tz\r\n",
    "import pandas as pd\r\n",
    "from PIL import Image\r\n",
    "from io import BytesIO\r\n",
    "import matplotlib.pyplot as plt\r\n",
    "import seaborn\r\n",
    "\r\n",
    "CONFIG_PATH = \"../config/config.yaml\""
   ]
  },
  {
   "cell_type": "code",
   "execution_count": 2,
   "metadata": {
    "execution": {
     "iopub.execute_input": "2021-09-28T22:11:38.721794Z",
     "iopub.status.busy": "2021-09-28T22:11:38.720615Z",
     "iopub.status.idle": "2021-09-28T22:11:38.728568Z",
     "shell.execute_reply": "2021-09-28T22:11:38.728025Z"
    }
   },
   "outputs": [],
   "source": [
    "with open('../newest_ts', 'r') as f:\r\n",
    "    newest_ts = f.read()\r\n",
    "\r\n",
    "data_path = f\"../data/data_{newest_ts}.json\"\r\n",
    "with open(data_path, 'r') as f:\r\n",
    "    data = json.load(f)\r\n",
    "\r\n",
    "with open(CONFIG_PATH, \"r\") as stream:\r\n",
    "    config = yaml.safe_load(stream)\r\n",
    "\r\n",
    "TIME_ZONE = config['time_zone']\r\n",
    "DATETIME_FORMAT = config['dt_format']"
   ]
  },
  {
   "cell_type": "code",
   "execution_count": 3,
   "metadata": {
    "execution": {
     "iopub.execute_input": "2021-09-28T22:11:38.734242Z",
     "iopub.status.busy": "2021-09-28T22:11:38.733594Z",
     "iopub.status.idle": "2021-09-28T22:11:38.762146Z",
     "shell.execute_reply": "2021-09-28T22:11:38.762895Z"
    }
   },
   "outputs": [
    {
     "name": "stdout",
     "output_type": "stream",
     "text": [
      "Recent query happens at 2021-09-29 06:11:32 (CST).\n"
     ]
    }
   ],
   "source": [
    "def ts2dt(ts, format=DATETIME_FORMAT):\r\n",
    "    dt = (datetime.utcfromtimestamp(int(ts))\r\n",
    "                    .replace(tzinfo=tz.tzutc())\r\n",
    "                    # .astimezone(tz.tzlocal())\r\n",
    "                    .astimezone(tz.gettz(TIME_ZONE)))\r\n",
    "    return dt.strftime(format), dt\r\n",
    "\r\n",
    "_, newest_dt = ts2dt(newest_ts)\r\n",
    "print(f\"Recent query happens at {newest_dt.strftime(DATETIME_FORMAT)} ({newest_dt.tzname()}).\")"
   ]
  },
  {
   "cell_type": "code",
   "execution_count": 4,
   "metadata": {
    "execution": {
     "iopub.execute_input": "2021-09-28T22:11:38.768626Z",
     "iopub.status.busy": "2021-09-28T22:11:38.768015Z",
     "iopub.status.idle": "2021-09-28T22:11:38.770642Z",
     "shell.execute_reply": "2021-09-28T22:11:38.769988Z"
    }
   },
   "outputs": [],
   "source": [
    "def degrees_to_cardinal(d):\r\n",
    "  dirs = ['N', 'NNE', 'NE', 'ENE', 'E', 'ESE', 'SE', 'SSE', 'S', 'SSW', 'SW', 'WSW', 'W', 'WNW', 'NW', 'NNW']\r\n",
    "  ix = int(round(d / (360. / len(dirs))))\r\n",
    "  return dirs[ix % len(dirs)]"
   ]
  },
  {
   "cell_type": "code",
   "execution_count": 5,
   "metadata": {
    "execution": {
     "iopub.execute_input": "2021-09-28T22:11:38.776293Z",
     "iopub.status.busy": "2021-09-28T22:11:38.774846Z",
     "iopub.status.idle": "2021-09-28T22:11:38.777050Z",
     "shell.execute_reply": "2021-09-28T22:11:38.777606Z"
    }
   },
   "outputs": [],
   "source": [
    "# data.keys()"
   ]
  },
  {
   "cell_type": "code",
   "execution_count": 6,
   "metadata": {
    "execution": {
     "iopub.execute_input": "2021-09-28T22:11:38.782315Z",
     "iopub.status.busy": "2021-09-28T22:11:38.780908Z",
     "iopub.status.idle": "2021-09-28T22:11:38.783402Z",
     "shell.execute_reply": "2021-09-28T22:11:38.783912Z"
    }
   },
   "outputs": [],
   "source": [
    "# data['current']"
   ]
  },
  {
   "cell_type": "code",
   "execution_count": 7,
   "metadata": {
    "execution": {
     "iopub.execute_input": "2021-09-28T22:11:38.807381Z",
     "iopub.status.busy": "2021-09-28T22:11:38.804254Z",
     "iopub.status.idle": "2021-09-28T22:11:39.318447Z",
     "shell.execute_reply": "2021-09-28T22:11:39.319256Z"
    }
   },
   "outputs": [
    {
     "data": {
      "image/png": "[encoded data removed]",
      "text/plain": [
       "<Figure size 216x216 with 1 Axes>"
      ]
     },
     "metadata": {
      "needs_background": "light"
     },
     "output_type": "display_data"
    },
    {
     "name": "stdout",
     "output_type": "stream",
     "text": [
      "Today, sun rises at 06:13 and sets at 18:12.\n",
      "Currently, the weather is Clouds (few clouds).\n",
      "The temperature is 27.7°C and it feels like 32.36°C.\n",
      "The UV index is 0, humidity is 87%.\n",
      "The pressure is 1007 hPa, percentage of cloud cover is 14%\n",
      "The wind comes from W direction with a speed 0.62 m/s.\n"
     ]
    }
   ],
   "source": [
    "current = data['current']\r\n",
    "\r\n",
    "fig, ax = plt.subplots(figsize=(3, 3))\r\n",
    "icon = requests.get(f\"http://openweathermap.org/img/wn/{current['weather'][0]['icon']}@2x.png\")\r\n",
    "im = Image.open(BytesIO(icon.content))\r\n",
    "plt.imshow(im)\r\n",
    "ax.set_axis_off()\r\n",
    "plt.show()\r\n",
    "\r\n",
    "print(f\"Today, sun rises at {ts2dt(current['sunrise'], '%H:%M')[0]} \\\r\n",
    "and sets at {ts2dt(current['sunset'], '%H:%M')[0]}.\\n\\\r\n",
    "Currently, the weather is {current['weather'][0]['main']} ({current['weather'][0]['description']}).\\n\\\r\n",
    "The temperature is {current['temp']}°C and it feels like {current['feels_like']}°C.\\n\\\r\n",
    "The UV index is {current['uvi']}, humidity is {current['humidity']}%.\\n\\\r\n",
    "The pressure is {current['pressure']} hPa, percentage of cloud cover is {current['clouds']}%\\n\\\r\n",
    "The wind comes from {degrees_to_cardinal(current['wind_deg'])} direction with a speed {current['wind_speed']} m/s.\")"
   ]
  },
  {
   "cell_type": "code",
   "execution_count": 8,
   "metadata": {
    "execution": {
     "iopub.execute_input": "2021-09-28T22:11:39.323587Z",
     "iopub.status.busy": "2021-09-28T22:11:39.322271Z",
     "iopub.status.idle": "2021-09-28T22:11:39.331411Z",
     "shell.execute_reply": "2021-09-28T22:11:39.332227Z"
    }
   },
   "outputs": [],
   "source": [
    "df_hourly = pd.DataFrame(data['hourly'])\r\n",
    "df_daily = pd.DataFrame(data['daily'])"
   ]
  },
  {
   "cell_type": "code",
   "execution_count": 9,
   "metadata": {
    "execution": {
     "iopub.execute_input": "2021-09-28T22:11:39.335956Z",
     "iopub.status.busy": "2021-09-28T22:11:39.334783Z",
     "iopub.status.idle": "2021-09-28T22:11:39.663359Z",
     "shell.execute_reply": "2021-09-28T22:11:39.662799Z"
    }
   },
   "outputs": [
    {
     "data": {
      "image/png": "[encoded data removed]",
      "text/plain": [
       "<Figure size 864x432 with 1 Axes>"
      ]
     },
     "metadata": {
      "needs_background": "light"
     },
     "output_type": "display_data"
    }
   ],
   "source": [
    "fig, ax = plt.subplots(figsize=(12, 6))\r\n",
    "plt.plot(df_hourly.temp, '.-', label='Temperature')\r\n",
    "plt.plot(df_hourly.feels_like, '.-', label='Feels Like')\r\n",
    "ax.set(title='Temperature in future 48 hours', xlabel='Time', ylabel='Temperature')\r\n",
    "ax.set_xticks(list(range(0, len(df_hourly), 2)))\r\n",
    "ax.set_xticklabels([ts2dt(ts, '%m-%d %H:%M')[0] for i, ts in enumerate(df_hourly.dt) if i%2==0], \r\n",
    "                   rotation=45, ha=\"right\")\r\n",
    "ax.locator_params(nbins=15, axis='y')\r\n",
    "plt.legend()\r\n",
    "plt.show()"
   ]
  },
  {
   "cell_type": "code",
   "execution_count": 10,
   "metadata": {
    "execution": {
     "iopub.execute_input": "2021-09-28T22:11:39.668388Z",
     "iopub.status.busy": "2021-09-28T22:11:39.667781Z",
     "iopub.status.idle": "2021-09-28T22:11:39.690136Z",
     "shell.execute_reply": "2021-09-28T22:11:39.690932Z"
    }
   },
   "outputs": [
    {
     "data": {
      "text/html": [
       "<div>\n",
       "<style scoped>\n",
       "    .dataframe tbody tr th:only-of-type {\n",
       "        vertical-align: middle;\n",
       "    }\n",
       "\n",
       "    .dataframe tbody tr th {\n",
       "        vertical-align: top;\n",
       "    }\n",
       "\n",
       "    .dataframe thead th {\n",
       "        text-align: right;\n",
       "    }\n",
       "</style>\n",
       "<table border=\"1\" class=\"dataframe\">\n",
       "  <thead>\n",
       "    <tr style=\"text-align: right;\">\n",
       "      <th></th>\n",
       "      <th>dt</th>\n",
       "      <th>temp</th>\n",
       "      <th>feels_like</th>\n",
       "      <th>pressure</th>\n",
       "      <th>humidity</th>\n",
       "      <th>dew_point</th>\n",
       "      <th>uvi</th>\n",
       "      <th>clouds</th>\n",
       "      <th>visibility</th>\n",
       "      <th>wind_speed</th>\n",
       "      <th>wind_deg</th>\n",
       "      <th>wind_gust</th>\n",
       "      <th>weather</th>\n",
       "      <th>pop</th>\n",
       "      <th>rain</th>\n",
       "    </tr>\n",
       "  </thead>\n",
       "  <tbody>\n",
       "    <tr>\n",
       "      <th>0</th>\n",
       "      <td>1632866400</td>\n",
       "      <td>27.70</td>\n",
       "      <td>32.36</td>\n",
       "      <td>1007</td>\n",
       "      <td>87</td>\n",
       "      <td>25.34</td>\n",
       "      <td>0.00</td>\n",
       "      <td>14</td>\n",
       "      <td>10000</td>\n",
       "      <td>0.62</td>\n",
       "      <td>275</td>\n",
       "      <td>0.83</td>\n",
       "      <td>[{'id': 801, 'main': 'Clouds', 'description': ...</td>\n",
       "      <td>0.04</td>\n",
       "      <td>NaN</td>\n",
       "    </tr>\n",
       "    <tr>\n",
       "      <th>1</th>\n",
       "      <td>1632870000</td>\n",
       "      <td>27.56</td>\n",
       "      <td>31.68</td>\n",
       "      <td>1007</td>\n",
       "      <td>85</td>\n",
       "      <td>24.81</td>\n",
       "      <td>0.17</td>\n",
       "      <td>13</td>\n",
       "      <td>10000</td>\n",
       "      <td>0.62</td>\n",
       "      <td>293</td>\n",
       "      <td>0.83</td>\n",
       "      <td>[{'id': 801, 'main': 'Clouds', 'description': ...</td>\n",
       "      <td>0.04</td>\n",
       "      <td>NaN</td>\n",
       "    </tr>\n",
       "    <tr>\n",
       "      <th>2</th>\n",
       "      <td>1632873600</td>\n",
       "      <td>27.76</td>\n",
       "      <td>31.79</td>\n",
       "      <td>1008</td>\n",
       "      <td>82</td>\n",
       "      <td>24.40</td>\n",
       "      <td>1.01</td>\n",
       "      <td>12</td>\n",
       "      <td>10000</td>\n",
       "      <td>0.67</td>\n",
       "      <td>275</td>\n",
       "      <td>0.99</td>\n",
       "      <td>[{'id': 801, 'main': 'Clouds', 'description': ...</td>\n",
       "      <td>0.04</td>\n",
       "      <td>NaN</td>\n",
       "    </tr>\n",
       "    <tr>\n",
       "      <th>3</th>\n",
       "      <td>1632877200</td>\n",
       "      <td>28.34</td>\n",
       "      <td>32.62</td>\n",
       "      <td>1009</td>\n",
       "      <td>78</td>\n",
       "      <td>24.13</td>\n",
       "      <td>2.92</td>\n",
       "      <td>6</td>\n",
       "      <td>10000</td>\n",
       "      <td>1.01</td>\n",
       "      <td>232</td>\n",
       "      <td>1.28</td>\n",
       "      <td>[{'id': 800, 'main': 'Clear', 'description': '...</td>\n",
       "      <td>0.00</td>\n",
       "      <td>NaN</td>\n",
       "    </tr>\n",
       "    <tr>\n",
       "      <th>4</th>\n",
       "      <td>1632880800</td>\n",
       "      <td>29.19</td>\n",
       "      <td>33.55</td>\n",
       "      <td>1009</td>\n",
       "      <td>72</td>\n",
       "      <td>23.62</td>\n",
       "      <td>5.57</td>\n",
       "      <td>3</td>\n",
       "      <td>10000</td>\n",
       "      <td>1.56</td>\n",
       "      <td>216</td>\n",
       "      <td>1.61</td>\n",
       "      <td>[{'id': 800, 'main': 'Clear', 'description': '...</td>\n",
       "      <td>0.00</td>\n",
       "      <td>NaN</td>\n",
       "    </tr>\n",
       "  </tbody>\n",
       "</table>\n",
       "</div>"
      ],
      "text/plain": [
       "           dt   temp  feels_like  pressure  humidity  dew_point   uvi  clouds  \\\n",
       "0  1632866400  27.70       32.36      1007        87      25.34  0.00      14   \n",
       "1  1632870000  27.56       31.68      1007        85      24.81  0.17      13   \n",
       "2  1632873600  27.76       31.79      1008        82      24.40  1.01      12   \n",
       "3  1632877200  28.34       32.62      1009        78      24.13  2.92       6   \n",
       "4  1632880800  29.19       33.55      1009        72      23.62  5.57       3   \n",
       "\n",
       "   visibility  wind_speed  wind_deg  wind_gust  \\\n",
       "0       10000        0.62       275       0.83   \n",
       "1       10000        0.62       293       0.83   \n",
       "2       10000        0.67       275       0.99   \n",
       "3       10000        1.01       232       1.28   \n",
       "4       10000        1.56       216       1.61   \n",
       "\n",
       "                                             weather   pop rain  \n",
       "0  [{'id': 801, 'main': 'Clouds', 'description': ...  0.04  NaN  \n",
       "1  [{'id': 801, 'main': 'Clouds', 'description': ...  0.04  NaN  \n",
       "2  [{'id': 801, 'main': 'Clouds', 'description': ...  0.04  NaN  \n",
       "3  [{'id': 800, 'main': 'Clear', 'description': '...  0.00  NaN  \n",
       "4  [{'id': 800, 'main': 'Clear', 'description': '...  0.00  NaN  "
      ]
     },
     "execution_count": 10,
     "metadata": {},
     "output_type": "execute_result"
    }
   ],
   "source": [
    "df_hourly.head()"
   ]
  },
  {
   "cell_type": "code",
   "execution_count": null,
   "metadata": {},
   "outputs": [],
   "source": []
  }
 ],
 "metadata": {
  "interpreter": {
   "hash": "c1b4cfe941b6d2466ad1fb5979e97da9cda8801728c8091b097ab734208fc00c"
  },
  "kernelspec": {
   "display_name": "Python 3.8.3 64-bit ('base': conda)",
   "name": "python3"
  },
  "language_info": {
   "codemirror_mode": {
    "name": "ipython",
    "version": 3
   },
   "file_extension": ".py",
   "mimetype": "text/x-python",
   "name": "python",
   "nbconvert_exporter": "python",
   "pygments_lexer": "ipython3",
   "version": "3.8.12"
  }
 },
 "nbformat": 4,
 "nbformat_minor": 2
}
