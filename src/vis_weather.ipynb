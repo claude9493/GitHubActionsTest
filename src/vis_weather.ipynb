{
 "cells": [
  {
   "cell_type": "code",
   "execution_count": 1,
   "metadata": {
    "execution": {
     "iopub.execute_input": "2021-10-11T02:35:20.291065Z",
     "iopub.status.busy": "2021-10-11T02:35:20.290389Z",
     "iopub.status.idle": "2021-10-11T02:35:21.788254Z",
     "shell.execute_reply": "2021-10-11T02:35:21.788745Z"
    }
   },
   "outputs": [],
   "source": [
    "import json, yaml, requests\r\n",
    "from datetime import datetime\r\n",
    "from dateutil import tz\r\n",
    "import pandas as pd\r\n",
    "from PIL import Image\r\n",
    "from io import BytesIO\r\n",
    "import matplotlib.pyplot as plt\r\n",
    "import seaborn\r\n",
    "\r\n",
    "CONFIG_PATH = \"../config/config.yaml\""
   ]
  },
  {
   "cell_type": "code",
   "execution_count": 2,
   "metadata": {
    "execution": {
     "iopub.execute_input": "2021-10-11T02:35:21.795004Z",
     "iopub.status.busy": "2021-10-11T02:35:21.791732Z",
     "iopub.status.idle": "2021-10-11T02:35:21.801867Z",
     "shell.execute_reply": "2021-10-11T02:35:21.802321Z"
    }
   },
   "outputs": [],
   "source": [
    "with open('../newest_ts', 'r') as f:\r\n",
    "    newest_ts = f.read()\r\n",
    "\r\n",
    "data_path = f\"../data/data_{newest_ts}.json\"\r\n",
    "with open(data_path, 'r') as f:\r\n",
    "    data = json.load(f)\r\n",
    "\r\n",
    "with open(CONFIG_PATH, \"r\") as stream:\r\n",
    "    config = yaml.safe_load(stream)\r\n",
    "\r\n",
    "TIME_ZONE = config['time_zone']\r\n",
    "DATETIME_FORMAT = config['dt_format']"
   ]
  },
  {
   "cell_type": "code",
   "execution_count": 3,
   "metadata": {
    "execution": {
     "iopub.execute_input": "2021-10-11T02:35:21.806109Z",
     "iopub.status.busy": "2021-10-11T02:35:21.805354Z",
     "iopub.status.idle": "2021-10-11T02:35:21.879439Z",
     "shell.execute_reply": "2021-10-11T02:35:21.879870Z"
    }
   },
   "outputs": [
    {
     "name": "stdout",
     "output_type": "stream",
     "text": [
      "Recent query happens at 2021-10-11 10:35:16 (CST).\n"
     ]
    }
   ],
   "source": [
    "def ts2dt(ts, format=DATETIME_FORMAT):\r\n",
    "    dt = (datetime.utcfromtimestamp(int(ts))\r\n",
    "                    .replace(tzinfo=tz.tzutc())\r\n",
    "                    # .astimezone(tz.tzlocal())\r\n",
    "                    .astimezone(tz.gettz(TIME_ZONE)))\r\n",
    "    return dt.strftime(format), dt\r\n",
    "\r\n",
    "_, newest_dt = ts2dt(newest_ts)\r\n",
    "print(f\"Recent query happens at {newest_dt.strftime(DATETIME_FORMAT)} ({newest_dt.tzname()}).\")"
   ]
  },
  {
   "cell_type": "code",
   "execution_count": 4,
   "metadata": {
    "execution": {
     "iopub.execute_input": "2021-10-11T02:35:21.885700Z",
     "iopub.status.busy": "2021-10-11T02:35:21.885126Z",
     "iopub.status.idle": "2021-10-11T02:35:21.887194Z",
     "shell.execute_reply": "2021-10-11T02:35:21.887659Z"
    }
   },
   "outputs": [],
   "source": [
    "def degrees_to_cardinal(d):\r\n",
    "  dirs = ['N', 'NNE', 'NE', 'ENE', 'E', 'ESE', 'SE', 'SSE', 'S', 'SSW', 'SW', 'WSW', 'W', 'WNW', 'NW', 'NNW']\r\n",
    "  ix = int(round(d / (360. / len(dirs))))\r\n",
    "  return dirs[ix % len(dirs)]"
   ]
  },
  {
   "cell_type": "code",
   "execution_count": 5,
   "metadata": {
    "execution": {
     "iopub.execute_input": "2021-10-11T02:35:21.892479Z",
     "iopub.status.busy": "2021-10-11T02:35:21.891872Z",
     "iopub.status.idle": "2021-10-11T02:35:21.893374Z",
     "shell.execute_reply": "2021-10-11T02:35:21.893893Z"
    }
   },
   "outputs": [],
   "source": [
    "# data.keys()"
   ]
  },
  {
   "cell_type": "code",
   "execution_count": 6,
   "metadata": {
    "execution": {
     "iopub.execute_input": "2021-10-11T02:35:21.897535Z",
     "iopub.status.busy": "2021-10-11T02:35:21.896983Z",
     "iopub.status.idle": "2021-10-11T02:35:21.900340Z",
     "shell.execute_reply": "2021-10-11T02:35:21.900782Z"
    }
   },
   "outputs": [],
   "source": [
    "# data['current']"
   ]
  },
  {
   "cell_type": "code",
   "execution_count": 7,
   "metadata": {
    "execution": {
     "iopub.execute_input": "2021-10-11T02:35:21.936395Z",
     "iopub.status.busy": "2021-10-11T02:35:21.932065Z",
     "iopub.status.idle": "2021-10-11T02:35:22.365455Z",
     "shell.execute_reply": "2021-10-11T02:35:22.366245Z"
    }
   },
   "outputs": [
    {
     "data": {
      "image/png": "[encoded data removed]",
      "text/plain": [
       "<Figure size 216x216 with 1 Axes>"
      ]
     },
     "metadata": {
      "needs_background": "light"
     },
     "output_type": "display_data"
    },
    {
     "name": "stdout",
     "output_type": "stream",
     "text": [
      "Today, sun rises at 06:17 and sets at 18:01.\n",
      "Currently, the weather is Clouds (scattered clouds).\n",
      "The temperature is 30.4°C and it feels like 35.26°C.\n",
      "The UV index is 7.47, humidity is 67%.\n",
      "The pressure is 1007 hPa, percentage of cloud cover is 43%\n",
      "The wind comes from ENE direction with a speed 1.79 m/s.\n"
     ]
    }
   ],
   "source": [
    "current = data['current']\r\n",
    "\r\n",
    "fig, ax = plt.subplots(figsize=(3, 3))\r\n",
    "icon = requests.get(f\"http://openweathermap.org/img/wn/{current['weather'][0]['icon']}@2x.png\")\r\n",
    "im = Image.open(BytesIO(icon.content))\r\n",
    "plt.imshow(im)\r\n",
    "ax.set_axis_off()\r\n",
    "plt.show()\r\n",
    "\r\n",
    "print(f\"Today, sun rises at {ts2dt(current['sunrise'], '%H:%M')[0]} \\\r\n",
    "and sets at {ts2dt(current['sunset'], '%H:%M')[0]}.\\n\\\r\n",
    "Currently, the weather is {current['weather'][0]['main']} ({current['weather'][0]['description']}).\\n\\\r\n",
    "The temperature is {current['temp']}°C and it feels like {current['feels_like']}°C.\\n\\\r\n",
    "The UV index is {current['uvi']}, humidity is {current['humidity']}%.\\n\\\r\n",
    "The pressure is {current['pressure']} hPa, percentage of cloud cover is {current['clouds']}%\\n\\\r\n",
    "The wind comes from {degrees_to_cardinal(current['wind_deg'])} direction with a speed {current['wind_speed']} m/s.\")"
   ]
  },
  {
   "cell_type": "code",
   "execution_count": 8,
   "metadata": {
    "execution": {
     "iopub.execute_input": "2021-10-11T02:35:22.372975Z",
     "iopub.status.busy": "2021-10-11T02:35:22.369104Z",
     "iopub.status.idle": "2021-10-11T02:35:22.379094Z",
     "shell.execute_reply": "2021-10-11T02:35:22.380068Z"
    }
   },
   "outputs": [],
   "source": [
    "df_hourly = pd.DataFrame(data['hourly'])\r\n",
    "df_daily = pd.DataFrame(data['daily'])"
   ]
  },
  {
   "cell_type": "code",
   "execution_count": 9,
   "metadata": {
    "execution": {
     "iopub.execute_input": "2021-10-11T02:35:22.383327Z",
     "iopub.status.busy": "2021-10-11T02:35:22.382318Z",
     "iopub.status.idle": "2021-10-11T02:35:22.731210Z",
     "shell.execute_reply": "2021-10-11T02:35:22.730556Z"
    }
   },
   "outputs": [
    {
     "data": {
      "image/png": "[encoded data removed]",
      "text/plain": [
       "<Figure size 864x432 with 1 Axes>"
      ]
     },
     "metadata": {
      "needs_background": "light"
     },
     "output_type": "display_data"
    }
   ],
   "source": [
    "fig, ax = plt.subplots(figsize=(12, 6))\r\n",
    "plt.plot(df_hourly.temp, '.-', label='Temperature')\r\n",
    "plt.plot(df_hourly.feels_like, '.-', label='Feels Like')\r\n",
    "ax.set(title='Temperature in future 48 hours', xlabel='Time', ylabel='Temperature')\r\n",
    "ax.set_xticks(list(range(0, len(df_hourly), 2)))\r\n",
    "ax.set_xticklabels([ts2dt(ts, '%m-%d %H:%M')[0] for i, ts in enumerate(df_hourly.dt) if i%2==0], \r\n",
    "                   rotation=45, ha=\"right\")\r\n",
    "ax.locator_params(nbins=15, axis='y')\r\n",
    "plt.legend()\r\n",
    "plt.show()"
   ]
  },
  {
   "cell_type": "code",
   "execution_count": 10,
   "metadata": {
    "execution": {
     "iopub.execute_input": "2021-10-11T02:35:22.736762Z",
     "iopub.status.busy": "2021-10-11T02:35:22.736193Z",
     "iopub.status.idle": "2021-10-11T02:35:22.756790Z",
     "shell.execute_reply": "2021-10-11T02:35:22.757270Z"
    }
   },
   "outputs": [
    {
     "data": {
      "text/html": [
       "<div>\n",
       "<style scoped>\n",
       "    .dataframe tbody tr th:only-of-type {\n",
       "        vertical-align: middle;\n",
       "    }\n",
       "\n",
       "    .dataframe tbody tr th {\n",
       "        vertical-align: top;\n",
       "    }\n",
       "\n",
       "    .dataframe thead th {\n",
       "        text-align: right;\n",
       "    }\n",
       "</style>\n",
       "<table border=\"1\" class=\"dataframe\">\n",
       "  <thead>\n",
       "    <tr style=\"text-align: right;\">\n",
       "      <th></th>\n",
       "      <th>dt</th>\n",
       "      <th>temp</th>\n",
       "      <th>feels_like</th>\n",
       "      <th>pressure</th>\n",
       "      <th>humidity</th>\n",
       "      <th>dew_point</th>\n",
       "      <th>uvi</th>\n",
       "      <th>clouds</th>\n",
       "      <th>visibility</th>\n",
       "      <th>wind_speed</th>\n",
       "      <th>wind_deg</th>\n",
       "      <th>wind_gust</th>\n",
       "      <th>weather</th>\n",
       "      <th>pop</th>\n",
       "      <th>rain</th>\n",
       "    </tr>\n",
       "  </thead>\n",
       "  <tbody>\n",
       "    <tr>\n",
       "      <th>0</th>\n",
       "      <td>1633917600</td>\n",
       "      <td>29.84</td>\n",
       "      <td>34.19</td>\n",
       "      <td>1007</td>\n",
       "      <td>68</td>\n",
       "      <td>23.29</td>\n",
       "      <td>5.06</td>\n",
       "      <td>43</td>\n",
       "      <td>10000</td>\n",
       "      <td>8.47</td>\n",
       "      <td>12</td>\n",
       "      <td>11.18</td>\n",
       "      <td>[{'id': 802, 'main': 'Clouds', 'description': ...</td>\n",
       "      <td>0.0</td>\n",
       "      <td>NaN</td>\n",
       "    </tr>\n",
       "    <tr>\n",
       "      <th>1</th>\n",
       "      <td>1633921200</td>\n",
       "      <td>30.40</td>\n",
       "      <td>35.26</td>\n",
       "      <td>1007</td>\n",
       "      <td>67</td>\n",
       "      <td>23.58</td>\n",
       "      <td>7.47</td>\n",
       "      <td>43</td>\n",
       "      <td>10000</td>\n",
       "      <td>8.43</td>\n",
       "      <td>6</td>\n",
       "      <td>10.83</td>\n",
       "      <td>[{'id': 802, 'main': 'Clouds', 'description': ...</td>\n",
       "      <td>0.0</td>\n",
       "      <td>NaN</td>\n",
       "    </tr>\n",
       "    <tr>\n",
       "      <th>2</th>\n",
       "      <td>1633924800</td>\n",
       "      <td>30.04</td>\n",
       "      <td>34.19</td>\n",
       "      <td>1007</td>\n",
       "      <td>66</td>\n",
       "      <td>22.99</td>\n",
       "      <td>8.69</td>\n",
       "      <td>46</td>\n",
       "      <td>10000</td>\n",
       "      <td>8.14</td>\n",
       "      <td>6</td>\n",
       "      <td>10.60</td>\n",
       "      <td>[{'id': 802, 'main': 'Clouds', 'description': ...</td>\n",
       "      <td>0.0</td>\n",
       "      <td>NaN</td>\n",
       "    </tr>\n",
       "    <tr>\n",
       "      <th>3</th>\n",
       "      <td>1633928400</td>\n",
       "      <td>29.77</td>\n",
       "      <td>33.39</td>\n",
       "      <td>1007</td>\n",
       "      <td>65</td>\n",
       "      <td>22.48</td>\n",
       "      <td>8.53</td>\n",
       "      <td>52</td>\n",
       "      <td>10000</td>\n",
       "      <td>8.68</td>\n",
       "      <td>4</td>\n",
       "      <td>10.94</td>\n",
       "      <td>[{'id': 803, 'main': 'Clouds', 'description': ...</td>\n",
       "      <td>0.0</td>\n",
       "      <td>NaN</td>\n",
       "    </tr>\n",
       "    <tr>\n",
       "      <th>4</th>\n",
       "      <td>1633932000</td>\n",
       "      <td>29.52</td>\n",
       "      <td>32.68</td>\n",
       "      <td>1006</td>\n",
       "      <td>64</td>\n",
       "      <td>21.99</td>\n",
       "      <td>6.89</td>\n",
       "      <td>56</td>\n",
       "      <td>10000</td>\n",
       "      <td>8.71</td>\n",
       "      <td>10</td>\n",
       "      <td>10.97</td>\n",
       "      <td>[{'id': 803, 'main': 'Clouds', 'description': ...</td>\n",
       "      <td>0.0</td>\n",
       "      <td>NaN</td>\n",
       "    </tr>\n",
       "  </tbody>\n",
       "</table>\n",
       "</div>"
      ],
      "text/plain": [
       "           dt   temp  feels_like  pressure  humidity  dew_point   uvi  clouds  \\\n",
       "0  1633917600  29.84       34.19      1007        68      23.29  5.06      43   \n",
       "1  1633921200  30.40       35.26      1007        67      23.58  7.47      43   \n",
       "2  1633924800  30.04       34.19      1007        66      22.99  8.69      46   \n",
       "3  1633928400  29.77       33.39      1007        65      22.48  8.53      52   \n",
       "4  1633932000  29.52       32.68      1006        64      21.99  6.89      56   \n",
       "\n",
       "   visibility  wind_speed  wind_deg  wind_gust  \\\n",
       "0       10000        8.47        12      11.18   \n",
       "1       10000        8.43         6      10.83   \n",
       "2       10000        8.14         6      10.60   \n",
       "3       10000        8.68         4      10.94   \n",
       "4       10000        8.71        10      10.97   \n",
       "\n",
       "                                             weather  pop rain  \n",
       "0  [{'id': 802, 'main': 'Clouds', 'description': ...  0.0  NaN  \n",
       "1  [{'id': 802, 'main': 'Clouds', 'description': ...  0.0  NaN  \n",
       "2  [{'id': 802, 'main': 'Clouds', 'description': ...  0.0  NaN  \n",
       "3  [{'id': 803, 'main': 'Clouds', 'description': ...  0.0  NaN  \n",
       "4  [{'id': 803, 'main': 'Clouds', 'description': ...  0.0  NaN  "
      ]
     },
     "execution_count": 10,
     "metadata": {},
     "output_type": "execute_result"
    }
   ],
   "source": [
    "df_hourly.head()"
   ]
  },
  {
   "cell_type": "code",
   "execution_count": null,
   "metadata": {},
   "outputs": [],
   "source": []
  }
 ],
 "metadata": {
  "interpreter": {
   "hash": "c1b4cfe941b6d2466ad1fb5979e97da9cda8801728c8091b097ab734208fc00c"
  },
  "kernelspec": {
   "display_name": "Python 3.8.3 64-bit ('base': conda)",
   "name": "python3"
  },
  "language_info": {
   "codemirror_mode": {
    "name": "ipython",
    "version": 3
   },
   "file_extension": ".py",
   "mimetype": "text/x-python",
   "name": "python",
   "nbconvert_exporter": "python",
   "pygments_lexer": "ipython3",
   "version": "3.8.12"
  }
 },
 "nbformat": 4,
 "nbformat_minor": 2
}
