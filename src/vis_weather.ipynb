{
 "cells": [
  {
   "cell_type": "code",
   "execution_count": 1,
   "metadata": {
    "execution": {
     "iopub.execute_input": "2021-08-25T18:45:33.254099Z",
     "iopub.status.busy": "2021-08-25T18:45:33.252738Z",
     "iopub.status.idle": "2021-08-25T18:45:34.835544Z",
     "shell.execute_reply": "2021-08-25T18:45:34.834899Z"
    }
   },
   "outputs": [],
   "source": [
    "import json, yaml, requests\r\n",
    "from datetime import datetime\r\n",
    "from dateutil import tz\r\n",
    "import pandas as pd\r\n",
    "from PIL import Image\r\n",
    "from io import BytesIO\r\n",
    "import matplotlib.pyplot as plt\r\n",
    "import seaborn\r\n",
    "\r\n",
    "CONFIG_PATH = \"../config/config.yaml\""
   ]
  },
  {
   "cell_type": "code",
   "execution_count": 2,
   "metadata": {
    "execution": {
     "iopub.execute_input": "2021-08-25T18:45:34.841437Z",
     "iopub.status.busy": "2021-08-25T18:45:34.840126Z",
     "iopub.status.idle": "2021-08-25T18:45:34.846488Z",
     "shell.execute_reply": "2021-08-25T18:45:34.845894Z"
    }
   },
   "outputs": [],
   "source": [
    "with open('../newest_ts', 'r') as f:\r\n",
    "    newest_ts = f.read()\r\n",
    "\r\n",
    "data_path = f\"../data/data_{newest_ts}.json\"\r\n",
    "with open(data_path, 'r') as f:\r\n",
    "    data = json.load(f)\r\n",
    "\r\n",
    "with open(CONFIG_PATH, \"r\") as stream:\r\n",
    "    config = yaml.safe_load(stream)\r\n",
    "\r\n",
    "TIME_ZONE = config['time_zone']\r\n",
    "DATETIME_FORMAT = config['dt_format']"
   ]
  },
  {
   "cell_type": "code",
   "execution_count": 3,
   "metadata": {
    "execution": {
     "iopub.execute_input": "2021-08-25T18:45:34.851528Z",
     "iopub.status.busy": "2021-08-25T18:45:34.850629Z",
     "iopub.status.idle": "2021-08-25T18:45:35.002576Z",
     "shell.execute_reply": "2021-08-25T18:45:35.002055Z"
    }
   },
   "outputs": [
    {
     "name": "stdout",
     "output_type": "stream",
     "text": [
      "Recent query happens at 2021-08-26 02:45:29 (CST).\n"
     ]
    }
   ],
   "source": [
    "def ts2dt(ts, format=DATETIME_FORMAT):\r\n",
    "    dt = (datetime.utcfromtimestamp(int(ts))\r\n",
    "                    .replace(tzinfo=tz.tzutc())\r\n",
    "                    # .astimezone(tz.tzlocal())\r\n",
    "                    .astimezone(tz.gettz(TIME_ZONE)))\r\n",
    "    return dt.strftime(format), dt\r\n",
    "\r\n",
    "_, newest_dt = ts2dt(newest_ts)\r\n",
    "print(f\"Recent query happens at {newest_dt.strftime(DATETIME_FORMAT)} ({newest_dt.tzname()}).\")"
   ]
  },
  {
   "cell_type": "code",
   "execution_count": 4,
   "metadata": {
    "execution": {
     "iopub.execute_input": "2021-08-25T18:45:35.008294Z",
     "iopub.status.busy": "2021-08-25T18:45:35.007753Z",
     "iopub.status.idle": "2021-08-25T18:45:35.009945Z",
     "shell.execute_reply": "2021-08-25T18:45:35.009408Z"
    }
   },
   "outputs": [],
   "source": [
    "def degrees_to_cardinal(d):\r\n",
    "  dirs = ['N', 'NNE', 'NE', 'ENE', 'E', 'ESE', 'SE', 'SSE', 'S', 'SSW', 'SW', 'WSW', 'W', 'WNW', 'NW', 'NNW']\r\n",
    "  ix = int(round(d / (360. / len(dirs))))\r\n",
    "  return dirs[ix % len(dirs)]"
   ]
  },
  {
   "cell_type": "code",
   "execution_count": 5,
   "metadata": {
    "execution": {
     "iopub.execute_input": "2021-08-25T18:45:35.013393Z",
     "iopub.status.busy": "2021-08-25T18:45:35.012872Z",
     "iopub.status.idle": "2021-08-25T18:45:35.016499Z",
     "shell.execute_reply": "2021-08-25T18:45:35.016057Z"
    }
   },
   "outputs": [],
   "source": [
    "# data.keys()"
   ]
  },
  {
   "cell_type": "code",
   "execution_count": 6,
   "metadata": {
    "execution": {
     "iopub.execute_input": "2021-08-25T18:45:35.020832Z",
     "iopub.status.busy": "2021-08-25T18:45:35.020109Z",
     "iopub.status.idle": "2021-08-25T18:45:35.023604Z",
     "shell.execute_reply": "2021-08-25T18:45:35.024047Z"
    }
   },
   "outputs": [],
   "source": [
    "# data['current']"
   ]
  },
  {
   "cell_type": "code",
   "execution_count": 7,
   "metadata": {
    "execution": {
     "iopub.execute_input": "2021-08-25T18:45:35.031282Z",
     "iopub.status.busy": "2021-08-25T18:45:35.030673Z",
     "iopub.status.idle": "2021-08-25T18:45:35.566628Z",
     "shell.execute_reply": "2021-08-25T18:45:35.567441Z"
    }
   },
   "outputs": [
    {
     "data": {
      "image/png": "[encoded data removed]",
      "text/plain": [
       "<Figure size 216x216 with 1 Axes>"
      ]
     },
     "metadata": {
      "needs_background": "light"
     },
     "output_type": "display_data"
    },
    {
     "name": "stdout",
     "output_type": "stream",
     "text": [
      "Today, sun rises at 06:03 and sets at 18:46.\n",
      "Currently, the weather is Clouds (overcast clouds).\n",
      "The temperature is 29.2°C and it feels like 36.01°C.\n",
      "The UV index is 0, humidity is 83%.\n",
      "The pressure is 1010 hPa, percentage of cloud cover is 100%\n",
      "The wind comes from SE direction with a speed 2.62 m/s.\n"
     ]
    }
   ],
   "source": [
    "current = data['current']\r\n",
    "\r\n",
    "fig, ax = plt.subplots(figsize=(3, 3))\r\n",
    "icon = requests.get(f\"http://openweathermap.org/img/wn/{current['weather'][0]['icon']}@2x.png\")\r\n",
    "im = Image.open(BytesIO(icon.content))\r\n",
    "plt.imshow(im)\r\n",
    "ax.set_axis_off()\r\n",
    "plt.show()\r\n",
    "\r\n",
    "print(f\"Today, sun rises at {ts2dt(current['sunrise'], '%H:%M')[0]} \\\r\n",
    "and sets at {ts2dt(current['sunset'], '%H:%M')[0]}.\\n\\\r\n",
    "Currently, the weather is {current['weather'][0]['main']} ({current['weather'][0]['description']}).\\n\\\r\n",
    "The temperature is {current['temp']}°C and it feels like {current['feels_like']}°C.\\n\\\r\n",
    "The UV index is {current['uvi']}, humidity is {current['humidity']}%.\\n\\\r\n",
    "The pressure is {current['pressure']} hPa, percentage of cloud cover is {current['clouds']}%\\n\\\r\n",
    "The wind comes from {degrees_to_cardinal(current['wind_deg'])} direction with a speed {current['wind_speed']} m/s.\")"
   ]
  },
  {
   "cell_type": "code",
   "execution_count": 8,
   "metadata": {
    "execution": {
     "iopub.execute_input": "2021-08-25T18:45:35.572626Z",
     "iopub.status.busy": "2021-08-25T18:45:35.571402Z",
     "iopub.status.idle": "2021-08-25T18:45:35.581084Z",
     "shell.execute_reply": "2021-08-25T18:45:35.581883Z"
    }
   },
   "outputs": [],
   "source": [
    "df_hourly = pd.DataFrame(data['hourly'])\r\n",
    "df_daily = pd.DataFrame(data['daily'])"
   ]
  },
  {
   "cell_type": "code",
   "execution_count": 9,
   "metadata": {
    "execution": {
     "iopub.execute_input": "2021-08-25T18:45:35.585876Z",
     "iopub.status.busy": "2021-08-25T18:45:35.584681Z",
     "iopub.status.idle": "2021-08-25T18:45:35.961366Z",
     "shell.execute_reply": "2021-08-25T18:45:35.961953Z"
    }
   },
   "outputs": [
    {
     "data": {
      "image/png": "[encoded data removed]",
      "text/plain": [
       "<Figure size 864x432 with 1 Axes>"
      ]
     },
     "metadata": {
      "needs_background": "light"
     },
     "output_type": "display_data"
    }
   ],
   "source": [
    "fig, ax = plt.subplots(figsize=(12, 6))\r\n",
    "plt.plot(df_hourly.temp, '.-', label='Temperature')\r\n",
    "plt.plot(df_hourly.feels_like, '.-', label='Feels Like')\r\n",
    "ax.set(title='Temperature in future 48 hours', xlabel='Time', ylabel='Temperature')\r\n",
    "ax.set_xticks(list(range(0, len(df_hourly), 2)))\r\n",
    "ax.set_xticklabels([ts2dt(ts, '%m-%d %H:%M')[0] for i, ts in enumerate(df_hourly.dt) if i%2==0], \r\n",
    "                   rotation=45, ha=\"right\")\r\n",
    "ax.locator_params(nbins=15, axis='y')\r\n",
    "plt.legend()\r\n",
    "plt.show()"
   ]
  },
  {
   "cell_type": "code",
   "execution_count": 10,
   "metadata": {
    "execution": {
     "iopub.execute_input": "2021-08-25T18:45:35.968608Z",
     "iopub.status.busy": "2021-08-25T18:45:35.967759Z",
     "iopub.status.idle": "2021-08-25T18:45:35.996523Z",
     "shell.execute_reply": "2021-08-25T18:45:35.997570Z"
    }
   },
   "outputs": [
    {
     "data": {
      "text/html": [
       "<div>\n",
       "<style scoped>\n",
       "    .dataframe tbody tr th:only-of-type {\n",
       "        vertical-align: middle;\n",
       "    }\n",
       "\n",
       "    .dataframe tbody tr th {\n",
       "        vertical-align: top;\n",
       "    }\n",
       "\n",
       "    .dataframe thead th {\n",
       "        text-align: right;\n",
       "    }\n",
       "</style>\n",
       "<table border=\"1\" class=\"dataframe\">\n",
       "  <thead>\n",
       "    <tr style=\"text-align: right;\">\n",
       "      <th></th>\n",
       "      <th>dt</th>\n",
       "      <th>temp</th>\n",
       "      <th>feels_like</th>\n",
       "      <th>pressure</th>\n",
       "      <th>humidity</th>\n",
       "      <th>dew_point</th>\n",
       "      <th>uvi</th>\n",
       "      <th>clouds</th>\n",
       "      <th>visibility</th>\n",
       "      <th>wind_speed</th>\n",
       "      <th>wind_deg</th>\n",
       "      <th>wind_gust</th>\n",
       "      <th>weather</th>\n",
       "      <th>pop</th>\n",
       "      <th>rain</th>\n",
       "    </tr>\n",
       "  </thead>\n",
       "  <tbody>\n",
       "    <tr>\n",
       "      <th>0</th>\n",
       "      <td>1629914400</td>\n",
       "      <td>28.82</td>\n",
       "      <td>35.09</td>\n",
       "      <td>1010</td>\n",
       "      <td>84</td>\n",
       "      <td>25.84</td>\n",
       "      <td>0.0</td>\n",
       "      <td>99</td>\n",
       "      <td>10000</td>\n",
       "      <td>3.05</td>\n",
       "      <td>139</td>\n",
       "      <td>4.05</td>\n",
       "      <td>[{'id': 500, 'main': 'Rain', 'description': 'l...</td>\n",
       "      <td>0.93</td>\n",
       "      <td>{'1h': 0.68}</td>\n",
       "    </tr>\n",
       "    <tr>\n",
       "      <th>1</th>\n",
       "      <td>1629918000</td>\n",
       "      <td>29.20</td>\n",
       "      <td>36.01</td>\n",
       "      <td>1010</td>\n",
       "      <td>83</td>\n",
       "      <td>26.01</td>\n",
       "      <td>0.0</td>\n",
       "      <td>100</td>\n",
       "      <td>10000</td>\n",
       "      <td>2.62</td>\n",
       "      <td>141</td>\n",
       "      <td>3.57</td>\n",
       "      <td>[{'id': 804, 'main': 'Clouds', 'description': ...</td>\n",
       "      <td>0.65</td>\n",
       "      <td>NaN</td>\n",
       "    </tr>\n",
       "    <tr>\n",
       "      <th>2</th>\n",
       "      <td>1629921600</td>\n",
       "      <td>28.86</td>\n",
       "      <td>34.78</td>\n",
       "      <td>1010</td>\n",
       "      <td>82</td>\n",
       "      <td>25.48</td>\n",
       "      <td>0.0</td>\n",
       "      <td>99</td>\n",
       "      <td>10000</td>\n",
       "      <td>2.24</td>\n",
       "      <td>146</td>\n",
       "      <td>3.21</td>\n",
       "      <td>[{'id': 804, 'main': 'Clouds', 'description': ...</td>\n",
       "      <td>0.63</td>\n",
       "      <td>NaN</td>\n",
       "    </tr>\n",
       "    <tr>\n",
       "      <th>3</th>\n",
       "      <td>1629925200</td>\n",
       "      <td>28.58</td>\n",
       "      <td>33.98</td>\n",
       "      <td>1010</td>\n",
       "      <td>82</td>\n",
       "      <td>25.20</td>\n",
       "      <td>0.0</td>\n",
       "      <td>91</td>\n",
       "      <td>10000</td>\n",
       "      <td>1.95</td>\n",
       "      <td>145</td>\n",
       "      <td>2.81</td>\n",
       "      <td>[{'id': 804, 'main': 'Clouds', 'description': ...</td>\n",
       "      <td>0.63</td>\n",
       "      <td>NaN</td>\n",
       "    </tr>\n",
       "    <tr>\n",
       "      <th>4</th>\n",
       "      <td>1629928800</td>\n",
       "      <td>28.25</td>\n",
       "      <td>32.90</td>\n",
       "      <td>1010</td>\n",
       "      <td>81</td>\n",
       "      <td>24.68</td>\n",
       "      <td>0.0</td>\n",
       "      <td>90</td>\n",
       "      <td>10000</td>\n",
       "      <td>1.91</td>\n",
       "      <td>129</td>\n",
       "      <td>2.71</td>\n",
       "      <td>[{'id': 804, 'main': 'Clouds', 'description': ...</td>\n",
       "      <td>0.51</td>\n",
       "      <td>NaN</td>\n",
       "    </tr>\n",
       "  </tbody>\n",
       "</table>\n",
       "</div>"
      ],
      "text/plain": [
       "           dt   temp  feels_like  pressure  humidity  dew_point  uvi  clouds  \\\n",
       "0  1629914400  28.82       35.09      1010        84      25.84  0.0      99   \n",
       "1  1629918000  29.20       36.01      1010        83      26.01  0.0     100   \n",
       "2  1629921600  28.86       34.78      1010        82      25.48  0.0      99   \n",
       "3  1629925200  28.58       33.98      1010        82      25.20  0.0      91   \n",
       "4  1629928800  28.25       32.90      1010        81      24.68  0.0      90   \n",
       "\n",
       "   visibility  wind_speed  wind_deg  wind_gust  \\\n",
       "0       10000        3.05       139       4.05   \n",
       "1       10000        2.62       141       3.57   \n",
       "2       10000        2.24       146       3.21   \n",
       "3       10000        1.95       145       2.81   \n",
       "4       10000        1.91       129       2.71   \n",
       "\n",
       "                                             weather   pop          rain  \n",
       "0  [{'id': 500, 'main': 'Rain', 'description': 'l...  0.93  {'1h': 0.68}  \n",
       "1  [{'id': 804, 'main': 'Clouds', 'description': ...  0.65           NaN  \n",
       "2  [{'id': 804, 'main': 'Clouds', 'description': ...  0.63           NaN  \n",
       "3  [{'id': 804, 'main': 'Clouds', 'description': ...  0.63           NaN  \n",
       "4  [{'id': 804, 'main': 'Clouds', 'description': ...  0.51           NaN  "
      ]
     },
     "execution_count": 10,
     "metadata": {},
     "output_type": "execute_result"
    }
   ],
   "source": [
    "df_hourly.head()"
   ]
  },
  {
   "cell_type": "code",
   "execution_count": null,
   "metadata": {},
   "outputs": [],
   "source": []
  }
 ],
 "metadata": {
  "interpreter": {
   "hash": "c1b4cfe941b6d2466ad1fb5979e97da9cda8801728c8091b097ab734208fc00c"
  },
  "kernelspec": {
   "display_name": "Python 3.8.3 64-bit ('base': conda)",
   "name": "python3"
  },
  "language_info": {
   "codemirror_mode": {
    "name": "ipython",
    "version": 3
   },
   "file_extension": ".py",
   "mimetype": "text/x-python",
   "name": "python",
   "nbconvert_exporter": "python",
   "pygments_lexer": "ipython3",
   "version": "3.8.11"
  }
 },
 "nbformat": 4,
 "nbformat_minor": 2
}
