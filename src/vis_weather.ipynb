{
 "cells": [
  {
   "cell_type": "code",
   "execution_count": 1,
   "metadata": {
    "execution": {
     "iopub.execute_input": "2021-09-14T14:10:41.414801Z",
     "iopub.status.busy": "2021-09-14T14:10:41.414266Z",
     "iopub.status.idle": "2021-09-14T14:10:43.781798Z",
     "shell.execute_reply": "2021-09-14T14:10:43.780955Z"
    }
   },
   "outputs": [],
   "source": [
    "import json, yaml, requests\r\n",
    "from datetime import datetime\r\n",
    "from dateutil import tz\r\n",
    "import pandas as pd\r\n",
    "from PIL import Image\r\n",
    "from io import BytesIO\r\n",
    "import matplotlib.pyplot as plt\r\n",
    "import seaborn\r\n",
    "\r\n",
    "CONFIG_PATH = \"../config/config.yaml\""
   ]
  },
  {
   "cell_type": "code",
   "execution_count": 2,
   "metadata": {
    "execution": {
     "iopub.execute_input": "2021-09-14T14:10:43.786494Z",
     "iopub.status.busy": "2021-09-14T14:10:43.786026Z",
     "iopub.status.idle": "2021-09-14T14:10:43.790968Z",
     "shell.execute_reply": "2021-09-14T14:10:43.790568Z"
    }
   },
   "outputs": [],
   "source": [
    "with open('../newest_ts', 'r') as f:\r\n",
    "    newest_ts = f.read()\r\n",
    "\r\n",
    "data_path = f\"../data/data_{newest_ts}.json\"\r\n",
    "with open(data_path, 'r') as f:\r\n",
    "    data = json.load(f)\r\n",
    "\r\n",
    "with open(CONFIG_PATH, \"r\") as stream:\r\n",
    "    config = yaml.safe_load(stream)\r\n",
    "\r\n",
    "TIME_ZONE = config['time_zone']\r\n",
    "DATETIME_FORMAT = config['dt_format']"
   ]
  },
  {
   "cell_type": "code",
   "execution_count": 3,
   "metadata": {
    "execution": {
     "iopub.execute_input": "2021-09-14T14:10:43.795106Z",
     "iopub.status.busy": "2021-09-14T14:10:43.794655Z",
     "iopub.status.idle": "2021-09-14T14:10:43.814214Z",
     "shell.execute_reply": "2021-09-14T14:10:43.814583Z"
    }
   },
   "outputs": [
    {
     "name": "stdout",
     "output_type": "stream",
     "text": [
      "Recent query happens at 2021-09-14 22:10:38 (CST).\n"
     ]
    }
   ],
   "source": [
    "def ts2dt(ts, format=DATETIME_FORMAT):\r\n",
    "    dt = (datetime.utcfromtimestamp(int(ts))\r\n",
    "                    .replace(tzinfo=tz.tzutc())\r\n",
    "                    # .astimezone(tz.tzlocal())\r\n",
    "                    .astimezone(tz.gettz(TIME_ZONE)))\r\n",
    "    return dt.strftime(format), dt\r\n",
    "\r\n",
    "_, newest_dt = ts2dt(newest_ts)\r\n",
    "print(f\"Recent query happens at {newest_dt.strftime(DATETIME_FORMAT)} ({newest_dt.tzname()}).\")"
   ]
  },
  {
   "cell_type": "code",
   "execution_count": 4,
   "metadata": {
    "execution": {
     "iopub.execute_input": "2021-09-14T14:10:43.819206Z",
     "iopub.status.busy": "2021-09-14T14:10:43.818167Z",
     "iopub.status.idle": "2021-09-14T14:10:43.819722Z",
     "shell.execute_reply": "2021-09-14T14:10:43.820082Z"
    }
   },
   "outputs": [],
   "source": [
    "def degrees_to_cardinal(d):\r\n",
    "  dirs = ['N', 'NNE', 'NE', 'ENE', 'E', 'ESE', 'SE', 'SSE', 'S', 'SSW', 'SW', 'WSW', 'W', 'WNW', 'NW', 'NNW']\r\n",
    "  ix = int(round(d / (360. / len(dirs))))\r\n",
    "  return dirs[ix % len(dirs)]"
   ]
  },
  {
   "cell_type": "code",
   "execution_count": 5,
   "metadata": {
    "execution": {
     "iopub.execute_input": "2021-09-14T14:10:43.823743Z",
     "iopub.status.busy": "2021-09-14T14:10:43.822792Z",
     "iopub.status.idle": "2021-09-14T14:10:43.824253Z",
     "shell.execute_reply": "2021-09-14T14:10:43.824610Z"
    }
   },
   "outputs": [],
   "source": [
    "# data.keys()"
   ]
  },
  {
   "cell_type": "code",
   "execution_count": 6,
   "metadata": {
    "execution": {
     "iopub.execute_input": "2021-09-14T14:10:43.828122Z",
     "iopub.status.busy": "2021-09-14T14:10:43.827118Z",
     "iopub.status.idle": "2021-09-14T14:10:43.828743Z",
     "shell.execute_reply": "2021-09-14T14:10:43.829112Z"
    }
   },
   "outputs": [],
   "source": [
    "# data['current']"
   ]
  },
  {
   "cell_type": "code",
   "execution_count": 7,
   "metadata": {
    "execution": {
     "iopub.execute_input": "2021-09-14T14:10:43.850924Z",
     "iopub.status.busy": "2021-09-14T14:10:43.844937Z",
     "iopub.status.idle": "2021-09-14T14:10:44.258725Z",
     "shell.execute_reply": "2021-09-14T14:10:44.259410Z"
    }
   },
   "outputs": [
    {
     "data": {
      "image/png": "[encoded data removed]",
      "text/plain": [
       "<Figure size 216x216 with 1 Axes>"
      ]
     },
     "metadata": {
      "needs_background": "light"
     },
     "output_type": "display_data"
    },
    {
     "name": "stdout",
     "output_type": "stream",
     "text": [
      "Today, sun rises at 06:09 and sets at 18:28.\n",
      "Currently, the weather is Rain (moderate rain).\n",
      "The temperature is 29.23°C and it feels like 36.1°C.\n",
      "The UV index is 0, humidity is 83%.\n",
      "The pressure is 1013 hPa, percentage of cloud cover is 97%\n",
      "The wind comes from SW direction with a speed 2.79 m/s.\n"
     ]
    }
   ],
   "source": [
    "current = data['current']\r\n",
    "\r\n",
    "fig, ax = plt.subplots(figsize=(3, 3))\r\n",
    "icon = requests.get(f\"http://openweathermap.org/img/wn/{current['weather'][0]['icon']}@2x.png\")\r\n",
    "im = Image.open(BytesIO(icon.content))\r\n",
    "plt.imshow(im)\r\n",
    "ax.set_axis_off()\r\n",
    "plt.show()\r\n",
    "\r\n",
    "print(f\"Today, sun rises at {ts2dt(current['sunrise'], '%H:%M')[0]} \\\r\n",
    "and sets at {ts2dt(current['sunset'], '%H:%M')[0]}.\\n\\\r\n",
    "Currently, the weather is {current['weather'][0]['main']} ({current['weather'][0]['description']}).\\n\\\r\n",
    "The temperature is {current['temp']}°C and it feels like {current['feels_like']}°C.\\n\\\r\n",
    "The UV index is {current['uvi']}, humidity is {current['humidity']}%.\\n\\\r\n",
    "The pressure is {current['pressure']} hPa, percentage of cloud cover is {current['clouds']}%\\n\\\r\n",
    "The wind comes from {degrees_to_cardinal(current['wind_deg'])} direction with a speed {current['wind_speed']} m/s.\")"
   ]
  },
  {
   "cell_type": "code",
   "execution_count": 8,
   "metadata": {
    "execution": {
     "iopub.execute_input": "2021-09-14T14:10:44.265915Z",
     "iopub.status.busy": "2021-09-14T14:10:44.265463Z",
     "iopub.status.idle": "2021-09-14T14:10:44.268264Z",
     "shell.execute_reply": "2021-09-14T14:10:44.268895Z"
    }
   },
   "outputs": [],
   "source": [
    "df_hourly = pd.DataFrame(data['hourly'])\r\n",
    "df_daily = pd.DataFrame(data['daily'])"
   ]
  },
  {
   "cell_type": "code",
   "execution_count": 9,
   "metadata": {
    "execution": {
     "iopub.execute_input": "2021-09-14T14:10:44.271789Z",
     "iopub.status.busy": "2021-09-14T14:10:44.270880Z",
     "iopub.status.idle": "2021-09-14T14:10:44.514250Z",
     "shell.execute_reply": "2021-09-14T14:10:44.514632Z"
    }
   },
   "outputs": [
    {
     "data": {
      "image/png": "[encoded data removed]",
      "text/plain": [
       "<Figure size 864x432 with 1 Axes>"
      ]
     },
     "metadata": {
      "needs_background": "light"
     },
     "output_type": "display_data"
    }
   ],
   "source": [
    "fig, ax = plt.subplots(figsize=(12, 6))\r\n",
    "plt.plot(df_hourly.temp, '.-', label='Temperature')\r\n",
    "plt.plot(df_hourly.feels_like, '.-', label='Feels Like')\r\n",
    "ax.set(title='Temperature in future 48 hours', xlabel='Time', ylabel='Temperature')\r\n",
    "ax.set_xticks(list(range(0, len(df_hourly), 2)))\r\n",
    "ax.set_xticklabels([ts2dt(ts, '%m-%d %H:%M')[0] for i, ts in enumerate(df_hourly.dt) if i%2==0], \r\n",
    "                   rotation=45, ha=\"right\")\r\n",
    "ax.locator_params(nbins=15, axis='y')\r\n",
    "plt.legend()\r\n",
    "plt.show()"
   ]
  },
  {
   "cell_type": "code",
   "execution_count": 10,
   "metadata": {
    "execution": {
     "iopub.execute_input": "2021-09-14T14:10:44.525459Z",
     "iopub.status.busy": "2021-09-14T14:10:44.518310Z",
     "iopub.status.idle": "2021-09-14T14:10:44.534435Z",
     "shell.execute_reply": "2021-09-14T14:10:44.534804Z"
    }
   },
   "outputs": [
    {
     "data": {
      "text/html": [
       "<div>\n",
       "<style scoped>\n",
       "    .dataframe tbody tr th:only-of-type {\n",
       "        vertical-align: middle;\n",
       "    }\n",
       "\n",
       "    .dataframe tbody tr th {\n",
       "        vertical-align: top;\n",
       "    }\n",
       "\n",
       "    .dataframe thead th {\n",
       "        text-align: right;\n",
       "    }\n",
       "</style>\n",
       "<table border=\"1\" class=\"dataframe\">\n",
       "  <thead>\n",
       "    <tr style=\"text-align: right;\">\n",
       "      <th></th>\n",
       "      <th>dt</th>\n",
       "      <th>temp</th>\n",
       "      <th>feels_like</th>\n",
       "      <th>pressure</th>\n",
       "      <th>humidity</th>\n",
       "      <th>dew_point</th>\n",
       "      <th>uvi</th>\n",
       "      <th>clouds</th>\n",
       "      <th>visibility</th>\n",
       "      <th>wind_speed</th>\n",
       "      <th>wind_deg</th>\n",
       "      <th>wind_gust</th>\n",
       "      <th>weather</th>\n",
       "      <th>pop</th>\n",
       "      <th>rain</th>\n",
       "    </tr>\n",
       "  </thead>\n",
       "  <tbody>\n",
       "    <tr>\n",
       "      <th>0</th>\n",
       "      <td>1631628000</td>\n",
       "      <td>29.23</td>\n",
       "      <td>36.10</td>\n",
       "      <td>1013</td>\n",
       "      <td>83</td>\n",
       "      <td>26.04</td>\n",
       "      <td>0.0</td>\n",
       "      <td>97</td>\n",
       "      <td>10000</td>\n",
       "      <td>2.79</td>\n",
       "      <td>218</td>\n",
       "      <td>3.38</td>\n",
       "      <td>[{'id': 500, 'main': 'Rain', 'description': 'l...</td>\n",
       "      <td>0.92</td>\n",
       "      <td>{'1h': 0.49}</td>\n",
       "    </tr>\n",
       "    <tr>\n",
       "      <th>1</th>\n",
       "      <td>1631631600</td>\n",
       "      <td>29.09</td>\n",
       "      <td>35.45</td>\n",
       "      <td>1013</td>\n",
       "      <td>82</td>\n",
       "      <td>25.70</td>\n",
       "      <td>0.0</td>\n",
       "      <td>97</td>\n",
       "      <td>10000</td>\n",
       "      <td>2.73</td>\n",
       "      <td>231</td>\n",
       "      <td>3.37</td>\n",
       "      <td>[{'id': 500, 'main': 'Rain', 'description': 'l...</td>\n",
       "      <td>1.00</td>\n",
       "      <td>{'1h': 0.15}</td>\n",
       "    </tr>\n",
       "    <tr>\n",
       "      <th>2</th>\n",
       "      <td>1631635200</td>\n",
       "      <td>28.95</td>\n",
       "      <td>35.04</td>\n",
       "      <td>1013</td>\n",
       "      <td>82</td>\n",
       "      <td>25.56</td>\n",
       "      <td>0.0</td>\n",
       "      <td>97</td>\n",
       "      <td>10000</td>\n",
       "      <td>2.52</td>\n",
       "      <td>243</td>\n",
       "      <td>3.19</td>\n",
       "      <td>[{'id': 500, 'main': 'Rain', 'description': 'l...</td>\n",
       "      <td>1.00</td>\n",
       "      <td>{'1h': 0.13}</td>\n",
       "    </tr>\n",
       "    <tr>\n",
       "      <th>3</th>\n",
       "      <td>1631638800</td>\n",
       "      <td>28.74</td>\n",
       "      <td>34.43</td>\n",
       "      <td>1012</td>\n",
       "      <td>82</td>\n",
       "      <td>25.36</td>\n",
       "      <td>0.0</td>\n",
       "      <td>98</td>\n",
       "      <td>10000</td>\n",
       "      <td>2.65</td>\n",
       "      <td>260</td>\n",
       "      <td>3.24</td>\n",
       "      <td>[{'id': 804, 'main': 'Clouds', 'description': ...</td>\n",
       "      <td>0.80</td>\n",
       "      <td>NaN</td>\n",
       "    </tr>\n",
       "    <tr>\n",
       "      <th>4</th>\n",
       "      <td>1631642400</td>\n",
       "      <td>28.44</td>\n",
       "      <td>33.78</td>\n",
       "      <td>1011</td>\n",
       "      <td>83</td>\n",
       "      <td>25.27</td>\n",
       "      <td>0.0</td>\n",
       "      <td>98</td>\n",
       "      <td>10000</td>\n",
       "      <td>2.74</td>\n",
       "      <td>274</td>\n",
       "      <td>3.29</td>\n",
       "      <td>[{'id': 804, 'main': 'Clouds', 'description': ...</td>\n",
       "      <td>0.80</td>\n",
       "      <td>NaN</td>\n",
       "    </tr>\n",
       "  </tbody>\n",
       "</table>\n",
       "</div>"
      ],
      "text/plain": [
       "           dt   temp  feels_like  pressure  humidity  dew_point  uvi  clouds  \\\n",
       "0  1631628000  29.23       36.10      1013        83      26.04  0.0      97   \n",
       "1  1631631600  29.09       35.45      1013        82      25.70  0.0      97   \n",
       "2  1631635200  28.95       35.04      1013        82      25.56  0.0      97   \n",
       "3  1631638800  28.74       34.43      1012        82      25.36  0.0      98   \n",
       "4  1631642400  28.44       33.78      1011        83      25.27  0.0      98   \n",
       "\n",
       "   visibility  wind_speed  wind_deg  wind_gust  \\\n",
       "0       10000        2.79       218       3.38   \n",
       "1       10000        2.73       231       3.37   \n",
       "2       10000        2.52       243       3.19   \n",
       "3       10000        2.65       260       3.24   \n",
       "4       10000        2.74       274       3.29   \n",
       "\n",
       "                                             weather   pop          rain  \n",
       "0  [{'id': 500, 'main': 'Rain', 'description': 'l...  0.92  {'1h': 0.49}  \n",
       "1  [{'id': 500, 'main': 'Rain', 'description': 'l...  1.00  {'1h': 0.15}  \n",
       "2  [{'id': 500, 'main': 'Rain', 'description': 'l...  1.00  {'1h': 0.13}  \n",
       "3  [{'id': 804, 'main': 'Clouds', 'description': ...  0.80           NaN  \n",
       "4  [{'id': 804, 'main': 'Clouds', 'description': ...  0.80           NaN  "
      ]
     },
     "execution_count": 10,
     "metadata": {},
     "output_type": "execute_result"
    }
   ],
   "source": [
    "df_hourly.head()"
   ]
  },
  {
   "cell_type": "code",
   "execution_count": null,
   "metadata": {},
   "outputs": [],
   "source": []
  }
 ],
 "metadata": {
  "interpreter": {
   "hash": "c1b4cfe941b6d2466ad1fb5979e97da9cda8801728c8091b097ab734208fc00c"
  },
  "kernelspec": {
   "display_name": "Python 3.8.3 64-bit ('base': conda)",
   "name": "python3"
  },
  "language_info": {
   "codemirror_mode": {
    "name": "ipython",
    "version": 3
   },
   "file_extension": ".py",
   "mimetype": "text/x-python",
   "name": "python",
   "nbconvert_exporter": "python",
   "pygments_lexer": "ipython3",
   "version": "3.8.11"
  }
 },
 "nbformat": 4,
 "nbformat_minor": 2
}
