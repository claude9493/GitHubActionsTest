{
 "cells": [
  {
   "cell_type": "code",
   "execution_count": 1,
   "metadata": {
    "execution": {
     "iopub.execute_input": "2021-10-18T07:12:11.566142Z",
     "iopub.status.busy": "2021-10-18T07:12:11.565511Z",
     "iopub.status.idle": "2021-10-18T07:12:14.493734Z",
     "shell.execute_reply": "2021-10-18T07:12:14.494330Z"
    }
   },
   "outputs": [],
   "source": [
    "import json, yaml, requests\r\n",
    "from datetime import datetime\r\n",
    "from dateutil import tz\r\n",
    "import pandas as pd\r\n",
    "from PIL import Image\r\n",
    "from io import BytesIO\r\n",
    "import matplotlib.pyplot as plt\r\n",
    "import seaborn\r\n",
    "\r\n",
    "CONFIG_PATH = \"../config/config.yaml\""
   ]
  },
  {
   "cell_type": "code",
   "execution_count": 2,
   "metadata": {
    "execution": {
     "iopub.execute_input": "2021-10-18T07:12:14.502342Z",
     "iopub.status.busy": "2021-10-18T07:12:14.498868Z",
     "iopub.status.idle": "2021-10-18T07:12:14.505094Z",
     "shell.execute_reply": "2021-10-18T07:12:14.505529Z"
    }
   },
   "outputs": [],
   "source": [
    "with open('../newest_ts', 'r') as f:\r\n",
    "    newest_ts = f.read()\r\n",
    "\r\n",
    "data_path = f\"../data/data_{newest_ts}.json\"\r\n",
    "with open(data_path, 'r') as f:\r\n",
    "    data = json.load(f)\r\n",
    "\r\n",
    "with open(CONFIG_PATH, \"r\") as stream:\r\n",
    "    config = yaml.safe_load(stream)\r\n",
    "\r\n",
    "TIME_ZONE = config['time_zone']\r\n",
    "DATETIME_FORMAT = config['dt_format']"
   ]
  },
  {
   "cell_type": "code",
   "execution_count": 3,
   "metadata": {
    "execution": {
     "iopub.execute_input": "2021-10-18T07:12:14.510173Z",
     "iopub.status.busy": "2021-10-18T07:12:14.509558Z",
     "iopub.status.idle": "2021-10-18T07:12:14.515625Z",
     "shell.execute_reply": "2021-10-18T07:12:14.516069Z"
    }
   },
   "outputs": [
    {
     "name": "stdout",
     "output_type": "stream",
     "text": [
      "Recent query happens at 2021-10-18 15:12:07 (CST).\n"
     ]
    }
   ],
   "source": [
    "def ts2dt(ts, format=DATETIME_FORMAT):\r\n",
    "    dt = (datetime.utcfromtimestamp(int(ts))\r\n",
    "                    .replace(tzinfo=tz.tzutc())\r\n",
    "                    # .astimezone(tz.tzlocal())\r\n",
    "                    .astimezone(tz.gettz(TIME_ZONE)))\r\n",
    "    return dt.strftime(format), dt\r\n",
    "\r\n",
    "_, newest_dt = ts2dt(newest_ts)\r\n",
    "print(f\"Recent query happens at {newest_dt.strftime(DATETIME_FORMAT)} ({newest_dt.tzname()}).\")"
   ]
  },
  {
   "cell_type": "code",
   "execution_count": 4,
   "metadata": {
    "execution": {
     "iopub.execute_input": "2021-10-18T07:12:14.520194Z",
     "iopub.status.busy": "2021-10-18T07:12:14.518085Z",
     "iopub.status.idle": "2021-10-18T07:12:14.522867Z",
     "shell.execute_reply": "2021-10-18T07:12:14.522211Z"
    }
   },
   "outputs": [],
   "source": [
    "def degrees_to_cardinal(d):\r\n",
    "  dirs = ['N', 'NNE', 'NE', 'ENE', 'E', 'ESE', 'SE', 'SSE', 'S', 'SSW', 'SW', 'WSW', 'W', 'WNW', 'NW', 'NNW']\r\n",
    "  ix = int(round(d / (360. / len(dirs))))\r\n",
    "  return dirs[ix % len(dirs)]"
   ]
  },
  {
   "cell_type": "code",
   "execution_count": 5,
   "metadata": {
    "execution": {
     "iopub.execute_input": "2021-10-18T07:12:14.527358Z",
     "iopub.status.busy": "2021-10-18T07:12:14.526094Z",
     "iopub.status.idle": "2021-10-18T07:12:14.527962Z",
     "shell.execute_reply": "2021-10-18T07:12:14.528398Z"
    }
   },
   "outputs": [],
   "source": [
    "# data.keys()"
   ]
  },
  {
   "cell_type": "code",
   "execution_count": 6,
   "metadata": {
    "execution": {
     "iopub.execute_input": "2021-10-18T07:12:14.531547Z",
     "iopub.status.busy": "2021-10-18T07:12:14.531027Z",
     "iopub.status.idle": "2021-10-18T07:12:14.533747Z",
     "shell.execute_reply": "2021-10-18T07:12:14.533259Z"
    }
   },
   "outputs": [],
   "source": [
    "# data['current']"
   ]
  },
  {
   "cell_type": "code",
   "execution_count": 7,
   "metadata": {
    "execution": {
     "iopub.execute_input": "2021-10-18T07:12:14.553669Z",
     "iopub.status.busy": "2021-10-18T07:12:14.545918Z",
     "iopub.status.idle": "2021-10-18T07:12:14.980427Z",
     "shell.execute_reply": "2021-10-18T07:12:14.981190Z"
    }
   },
   "outputs": [
    {
     "data": {
      "image/png": "[encoded data removed]",
      "text/plain": [
       "<Figure size 216x216 with 1 Axes>"
      ]
     },
     "metadata": {
      "needs_background": "light"
     },
     "output_type": "display_data"
    },
    {
     "name": "stdout",
     "output_type": "stream",
     "text": [
      "Today, sun rises at 06:20 and sets at 17:55.\n",
      "Currently, the weather is Clouds (broken clouds).\n",
      "The temperature is 26.15°C and it feels like 26.15°C.\n",
      "The UV index is 4.29, humidity is 57%.\n",
      "The pressure is 1016 hPa, percentage of cloud cover is 61%\n",
      "The wind comes from NW direction with a speed 3.58 m/s.\n"
     ]
    }
   ],
   "source": [
    "current = data['current']\r\n",
    "\r\n",
    "fig, ax = plt.subplots(figsize=(3, 3))\r\n",
    "icon = requests.get(f\"http://openweathermap.org/img/wn/{current['weather'][0]['icon']}@2x.png\")\r\n",
    "im = Image.open(BytesIO(icon.content))\r\n",
    "plt.imshow(im)\r\n",
    "ax.set_axis_off()\r\n",
    "plt.show()\r\n",
    "\r\n",
    "print(f\"Today, sun rises at {ts2dt(current['sunrise'], '%H:%M')[0]} \\\r\n",
    "and sets at {ts2dt(current['sunset'], '%H:%M')[0]}.\\n\\\r\n",
    "Currently, the weather is {current['weather'][0]['main']} ({current['weather'][0]['description']}).\\n\\\r\n",
    "The temperature is {current['temp']}°C and it feels like {current['feels_like']}°C.\\n\\\r\n",
    "The UV index is {current['uvi']}, humidity is {current['humidity']}%.\\n\\\r\n",
    "The pressure is {current['pressure']} hPa, percentage of cloud cover is {current['clouds']}%\\n\\\r\n",
    "The wind comes from {degrees_to_cardinal(current['wind_deg'])} direction with a speed {current['wind_speed']} m/s.\")"
   ]
  },
  {
   "cell_type": "code",
   "execution_count": 8,
   "metadata": {
    "execution": {
     "iopub.execute_input": "2021-10-18T07:12:14.984617Z",
     "iopub.status.busy": "2021-10-18T07:12:14.984063Z",
     "iopub.status.idle": "2021-10-18T07:12:14.991720Z",
     "shell.execute_reply": "2021-10-18T07:12:14.992464Z"
    }
   },
   "outputs": [],
   "source": [
    "df_hourly = pd.DataFrame(data['hourly'])\r\n",
    "df_daily = pd.DataFrame(data['daily'])"
   ]
  },
  {
   "cell_type": "code",
   "execution_count": 9,
   "metadata": {
    "execution": {
     "iopub.execute_input": "2021-10-18T07:12:14.995647Z",
     "iopub.status.busy": "2021-10-18T07:12:14.995092Z",
     "iopub.status.idle": "2021-10-18T07:12:15.328304Z",
     "shell.execute_reply": "2021-10-18T07:12:15.327834Z"
    }
   },
   "outputs": [
    {
     "data": {
      "image/png": "[encoded data removed]",
      "text/plain": [
       "<Figure size 864x432 with 1 Axes>"
      ]
     },
     "metadata": {
      "needs_background": "light"
     },
     "output_type": "display_data"
    }
   ],
   "source": [
    "fig, ax = plt.subplots(figsize=(12, 6))\r\n",
    "plt.plot(df_hourly.temp, '.-', label='Temperature')\r\n",
    "plt.plot(df_hourly.feels_like, '.-', label='Feels Like')\r\n",
    "ax.set(title='Temperature in future 48 hours', xlabel='Time', ylabel='Temperature')\r\n",
    "ax.set_xticks(list(range(0, len(df_hourly), 2)))\r\n",
    "ax.set_xticklabels([ts2dt(ts, '%m-%d %H:%M')[0] for i, ts in enumerate(df_hourly.dt) if i%2==0], \r\n",
    "                   rotation=45, ha=\"right\")\r\n",
    "ax.locator_params(nbins=15, axis='y')\r\n",
    "plt.legend()\r\n",
    "plt.show()"
   ]
  },
  {
   "cell_type": "code",
   "execution_count": 10,
   "metadata": {
    "execution": {
     "iopub.execute_input": "2021-10-18T07:12:15.332987Z",
     "iopub.status.busy": "2021-10-18T07:12:15.332479Z",
     "iopub.status.idle": "2021-10-18T07:12:15.351227Z",
     "shell.execute_reply": "2021-10-18T07:12:15.351654Z"
    }
   },
   "outputs": [
    {
     "data": {
      "text/html": [
       "<div>\n",
       "<style scoped>\n",
       "    .dataframe tbody tr th:only-of-type {\n",
       "        vertical-align: middle;\n",
       "    }\n",
       "\n",
       "    .dataframe tbody tr th {\n",
       "        vertical-align: top;\n",
       "    }\n",
       "\n",
       "    .dataframe thead th {\n",
       "        text-align: right;\n",
       "    }\n",
       "</style>\n",
       "<table border=\"1\" class=\"dataframe\">\n",
       "  <thead>\n",
       "    <tr style=\"text-align: right;\">\n",
       "      <th></th>\n",
       "      <th>dt</th>\n",
       "      <th>temp</th>\n",
       "      <th>feels_like</th>\n",
       "      <th>pressure</th>\n",
       "      <th>humidity</th>\n",
       "      <th>dew_point</th>\n",
       "      <th>uvi</th>\n",
       "      <th>clouds</th>\n",
       "      <th>visibility</th>\n",
       "      <th>wind_speed</th>\n",
       "      <th>wind_deg</th>\n",
       "      <th>wind_gust</th>\n",
       "      <th>weather</th>\n",
       "      <th>pop</th>\n",
       "      <th>rain</th>\n",
       "    </tr>\n",
       "  </thead>\n",
       "  <tbody>\n",
       "    <tr>\n",
       "      <th>0</th>\n",
       "      <td>1634540400</td>\n",
       "      <td>26.15</td>\n",
       "      <td>26.15</td>\n",
       "      <td>1016</td>\n",
       "      <td>57</td>\n",
       "      <td>16.97</td>\n",
       "      <td>4.29</td>\n",
       "      <td>61</td>\n",
       "      <td>10000</td>\n",
       "      <td>3.90</td>\n",
       "      <td>88</td>\n",
       "      <td>3.90</td>\n",
       "      <td>[{'id': 803, 'main': 'Clouds', 'description': ...</td>\n",
       "      <td>0.0</td>\n",
       "      <td>NaN</td>\n",
       "    </tr>\n",
       "    <tr>\n",
       "      <th>1</th>\n",
       "      <td>1634544000</td>\n",
       "      <td>25.75</td>\n",
       "      <td>25.95</td>\n",
       "      <td>1016</td>\n",
       "      <td>60</td>\n",
       "      <td>17.40</td>\n",
       "      <td>2.00</td>\n",
       "      <td>56</td>\n",
       "      <td>10000</td>\n",
       "      <td>4.42</td>\n",
       "      <td>87</td>\n",
       "      <td>4.33</td>\n",
       "      <td>[{'id': 803, 'main': 'Clouds', 'description': ...</td>\n",
       "      <td>0.0</td>\n",
       "      <td>NaN</td>\n",
       "    </tr>\n",
       "    <tr>\n",
       "      <th>2</th>\n",
       "      <td>1634547600</td>\n",
       "      <td>25.22</td>\n",
       "      <td>25.44</td>\n",
       "      <td>1016</td>\n",
       "      <td>63</td>\n",
       "      <td>17.68</td>\n",
       "      <td>0.55</td>\n",
       "      <td>48</td>\n",
       "      <td>10000</td>\n",
       "      <td>4.50</td>\n",
       "      <td>87</td>\n",
       "      <td>4.67</td>\n",
       "      <td>[{'id': 802, 'main': 'Clouds', 'description': ...</td>\n",
       "      <td>0.0</td>\n",
       "      <td>NaN</td>\n",
       "    </tr>\n",
       "    <tr>\n",
       "      <th>3</th>\n",
       "      <td>1634551200</td>\n",
       "      <td>24.43</td>\n",
       "      <td>24.70</td>\n",
       "      <td>1017</td>\n",
       "      <td>68</td>\n",
       "      <td>18.14</td>\n",
       "      <td>0.00</td>\n",
       "      <td>39</td>\n",
       "      <td>10000</td>\n",
       "      <td>4.04</td>\n",
       "      <td>83</td>\n",
       "      <td>4.77</td>\n",
       "      <td>[{'id': 802, 'main': 'Clouds', 'description': ...</td>\n",
       "      <td>0.0</td>\n",
       "      <td>NaN</td>\n",
       "    </tr>\n",
       "    <tr>\n",
       "      <th>4</th>\n",
       "      <td>1634554800</td>\n",
       "      <td>23.96</td>\n",
       "      <td>24.29</td>\n",
       "      <td>1018</td>\n",
       "      <td>72</td>\n",
       "      <td>18.60</td>\n",
       "      <td>0.00</td>\n",
       "      <td>30</td>\n",
       "      <td>10000</td>\n",
       "      <td>3.83</td>\n",
       "      <td>79</td>\n",
       "      <td>4.78</td>\n",
       "      <td>[{'id': 802, 'main': 'Clouds', 'description': ...</td>\n",
       "      <td>0.0</td>\n",
       "      <td>NaN</td>\n",
       "    </tr>\n",
       "  </tbody>\n",
       "</table>\n",
       "</div>"
      ],
      "text/plain": [
       "           dt   temp  feels_like  pressure  humidity  dew_point   uvi  clouds  \\\n",
       "0  1634540400  26.15       26.15      1016        57      16.97  4.29      61   \n",
       "1  1634544000  25.75       25.95      1016        60      17.40  2.00      56   \n",
       "2  1634547600  25.22       25.44      1016        63      17.68  0.55      48   \n",
       "3  1634551200  24.43       24.70      1017        68      18.14  0.00      39   \n",
       "4  1634554800  23.96       24.29      1018        72      18.60  0.00      30   \n",
       "\n",
       "   visibility  wind_speed  wind_deg  wind_gust  \\\n",
       "0       10000        3.90        88       3.90   \n",
       "1       10000        4.42        87       4.33   \n",
       "2       10000        4.50        87       4.67   \n",
       "3       10000        4.04        83       4.77   \n",
       "4       10000        3.83        79       4.78   \n",
       "\n",
       "                                             weather  pop rain  \n",
       "0  [{'id': 803, 'main': 'Clouds', 'description': ...  0.0  NaN  \n",
       "1  [{'id': 803, 'main': 'Clouds', 'description': ...  0.0  NaN  \n",
       "2  [{'id': 802, 'main': 'Clouds', 'description': ...  0.0  NaN  \n",
       "3  [{'id': 802, 'main': 'Clouds', 'description': ...  0.0  NaN  \n",
       "4  [{'id': 802, 'main': 'Clouds', 'description': ...  0.0  NaN  "
      ]
     },
     "execution_count": 10,
     "metadata": {},
     "output_type": "execute_result"
    }
   ],
   "source": [
    "df_hourly.head()"
   ]
  },
  {
   "cell_type": "code",
   "execution_count": null,
   "metadata": {},
   "outputs": [],
   "source": []
  }
 ],
 "metadata": {
  "interpreter": {
   "hash": "c1b4cfe941b6d2466ad1fb5979e97da9cda8801728c8091b097ab734208fc00c"
  },
  "kernelspec": {
   "display_name": "Python 3.8.3 64-bit ('base': conda)",
   "name": "python3"
  },
  "language_info": {
   "codemirror_mode": {
    "name": "ipython",
    "version": 3
   },
   "file_extension": ".py",
   "mimetype": "text/x-python",
   "name": "python",
   "nbconvert_exporter": "python",
   "pygments_lexer": "ipython3",
   "version": "3.8.12"
  }
 },
 "nbformat": 4,
 "nbformat_minor": 2
}
