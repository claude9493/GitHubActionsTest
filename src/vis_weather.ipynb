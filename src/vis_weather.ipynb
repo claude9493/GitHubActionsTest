{
 "cells": [
  {
   "cell_type": "code",
   "execution_count": 1,
   "metadata": {
    "execution": {
     "iopub.execute_input": "2021-10-05T06:14:00.033627Z",
     "iopub.status.busy": "2021-10-05T06:14:00.032964Z",
     "iopub.status.idle": "2021-10-05T06:14:02.088890Z",
     "shell.execute_reply": "2021-10-05T06:14:02.088245Z"
    }
   },
   "outputs": [],
   "source": [
    "import json, yaml, requests\r\n",
    "from datetime import datetime\r\n",
    "from dateutil import tz\r\n",
    "import pandas as pd\r\n",
    "from PIL import Image\r\n",
    "from io import BytesIO\r\n",
    "import matplotlib.pyplot as plt\r\n",
    "import seaborn\r\n",
    "\r\n",
    "CONFIG_PATH = \"../config/config.yaml\""
   ]
  },
  {
   "cell_type": "code",
   "execution_count": 2,
   "metadata": {
    "execution": {
     "iopub.execute_input": "2021-10-05T06:14:02.093903Z",
     "iopub.status.busy": "2021-10-05T06:14:02.093421Z",
     "iopub.status.idle": "2021-10-05T06:14:02.099760Z",
     "shell.execute_reply": "2021-10-05T06:14:02.099352Z"
    }
   },
   "outputs": [],
   "source": [
    "with open('../newest_ts', 'r') as f:\r\n",
    "    newest_ts = f.read()\r\n",
    "\r\n",
    "data_path = f\"../data/data_{newest_ts}.json\"\r\n",
    "with open(data_path, 'r') as f:\r\n",
    "    data = json.load(f)\r\n",
    "\r\n",
    "with open(CONFIG_PATH, \"r\") as stream:\r\n",
    "    config = yaml.safe_load(stream)\r\n",
    "\r\n",
    "TIME_ZONE = config['time_zone']\r\n",
    "DATETIME_FORMAT = config['dt_format']"
   ]
  },
  {
   "cell_type": "code",
   "execution_count": 3,
   "metadata": {
    "execution": {
     "iopub.execute_input": "2021-10-05T06:14:02.104485Z",
     "iopub.status.busy": "2021-10-05T06:14:02.104020Z",
     "iopub.status.idle": "2021-10-05T06:14:02.143489Z",
     "shell.execute_reply": "2021-10-05T06:14:02.143872Z"
    }
   },
   "outputs": [
    {
     "name": "stdout",
     "output_type": "stream",
     "text": [
      "Recent query happens at 2021-10-05 14:13:57 (CST).\n"
     ]
    }
   ],
   "source": [
    "def ts2dt(ts, format=DATETIME_FORMAT):\r\n",
    "    dt = (datetime.utcfromtimestamp(int(ts))\r\n",
    "                    .replace(tzinfo=tz.tzutc())\r\n",
    "                    # .astimezone(tz.tzlocal())\r\n",
    "                    .astimezone(tz.gettz(TIME_ZONE)))\r\n",
    "    return dt.strftime(format), dt\r\n",
    "\r\n",
    "_, newest_dt = ts2dt(newest_ts)\r\n",
    "print(f\"Recent query happens at {newest_dt.strftime(DATETIME_FORMAT)} ({newest_dt.tzname()}).\")"
   ]
  },
  {
   "cell_type": "code",
   "execution_count": 4,
   "metadata": {
    "execution": {
     "iopub.execute_input": "2021-10-05T06:14:02.149474Z",
     "iopub.status.busy": "2021-10-05T06:14:02.148417Z",
     "iopub.status.idle": "2021-10-05T06:14:02.149996Z",
     "shell.execute_reply": "2021-10-05T06:14:02.150359Z"
    }
   },
   "outputs": [],
   "source": [
    "def degrees_to_cardinal(d):\r\n",
    "  dirs = ['N', 'NNE', 'NE', 'ENE', 'E', 'ESE', 'SE', 'SSE', 'S', 'SSW', 'SW', 'WSW', 'W', 'WNW', 'NW', 'NNW']\r\n",
    "  ix = int(round(d / (360. / len(dirs))))\r\n",
    "  return dirs[ix % len(dirs)]"
   ]
  },
  {
   "cell_type": "code",
   "execution_count": 5,
   "metadata": {
    "execution": {
     "iopub.execute_input": "2021-10-05T06:14:02.154545Z",
     "iopub.status.busy": "2021-10-05T06:14:02.153536Z",
     "iopub.status.idle": "2021-10-05T06:14:02.155061Z",
     "shell.execute_reply": "2021-10-05T06:14:02.155419Z"
    }
   },
   "outputs": [],
   "source": [
    "# data.keys()"
   ]
  },
  {
   "cell_type": "code",
   "execution_count": 6,
   "metadata": {
    "execution": {
     "iopub.execute_input": "2021-10-05T06:14:02.159299Z",
     "iopub.status.busy": "2021-10-05T06:14:02.158298Z",
     "iopub.status.idle": "2021-10-05T06:14:02.159821Z",
     "shell.execute_reply": "2021-10-05T06:14:02.160180Z"
    }
   },
   "outputs": [],
   "source": [
    "# data['current']"
   ]
  },
  {
   "cell_type": "code",
   "execution_count": 7,
   "metadata": {
    "execution": {
     "iopub.execute_input": "2021-10-05T06:14:02.176809Z",
     "iopub.status.busy": "2021-10-05T06:14:02.176330Z",
     "iopub.status.idle": "2021-10-05T06:14:02.548625Z",
     "shell.execute_reply": "2021-10-05T06:14:02.549325Z"
    }
   },
   "outputs": [
    {
     "data": {
      "image/png": "[encoded data removed]",
      "text/plain": [
       "<Figure size 216x216 with 1 Axes>"
      ]
     },
     "metadata": {
      "needs_background": "light"
     },
     "output_type": "display_data"
    },
    {
     "name": "stdout",
     "output_type": "stream",
     "text": [
      "Today, sun rises at 06:15 and sets at 18:07.\n",
      "Currently, the weather is Clouds (scattered clouds).\n",
      "The temperature is 31.12°C and it feels like 38.12°C.\n",
      "The UV index is 7.26, humidity is 71%.\n",
      "The pressure is 1010 hPa, percentage of cloud cover is 30%\n",
      "The wind comes from E direction with a speed 8.48 m/s.\n"
     ]
    }
   ],
   "source": [
    "current = data['current']\r\n",
    "\r\n",
    "fig, ax = plt.subplots(figsize=(3, 3))\r\n",
    "icon = requests.get(f\"http://openweathermap.org/img/wn/{current['weather'][0]['icon']}@2x.png\")\r\n",
    "im = Image.open(BytesIO(icon.content))\r\n",
    "plt.imshow(im)\r\n",
    "ax.set_axis_off()\r\n",
    "plt.show()\r\n",
    "\r\n",
    "print(f\"Today, sun rises at {ts2dt(current['sunrise'], '%H:%M')[0]} \\\r\n",
    "and sets at {ts2dt(current['sunset'], '%H:%M')[0]}.\\n\\\r\n",
    "Currently, the weather is {current['weather'][0]['main']} ({current['weather'][0]['description']}).\\n\\\r\n",
    "The temperature is {current['temp']}°C and it feels like {current['feels_like']}°C.\\n\\\r\n",
    "The UV index is {current['uvi']}, humidity is {current['humidity']}%.\\n\\\r\n",
    "The pressure is {current['pressure']} hPa, percentage of cloud cover is {current['clouds']}%\\n\\\r\n",
    "The wind comes from {degrees_to_cardinal(current['wind_deg'])} direction with a speed {current['wind_speed']} m/s.\")"
   ]
  },
  {
   "cell_type": "code",
   "execution_count": 8,
   "metadata": {
    "execution": {
     "iopub.execute_input": "2021-10-05T06:14:02.552448Z",
     "iopub.status.busy": "2021-10-05T06:14:02.551988Z",
     "iopub.status.idle": "2021-10-05T06:14:02.558710Z",
     "shell.execute_reply": "2021-10-05T06:14:02.559373Z"
    }
   },
   "outputs": [],
   "source": [
    "df_hourly = pd.DataFrame(data['hourly'])\r\n",
    "df_daily = pd.DataFrame(data['daily'])"
   ]
  },
  {
   "cell_type": "code",
   "execution_count": 9,
   "metadata": {
    "execution": {
     "iopub.execute_input": "2021-10-05T06:14:02.562548Z",
     "iopub.status.busy": "2021-10-05T06:14:02.561610Z",
     "iopub.status.idle": "2021-10-05T06:14:02.856522Z",
     "shell.execute_reply": "2021-10-05T06:14:02.856894Z"
    }
   },
   "outputs": [
    {
     "data": {
      "image/png": "[encoded data removed]",
      "text/plain": [
       "<Figure size 864x432 with 1 Axes>"
      ]
     },
     "metadata": {
      "needs_background": "light"
     },
     "output_type": "display_data"
    }
   ],
   "source": [
    "fig, ax = plt.subplots(figsize=(12, 6))\r\n",
    "plt.plot(df_hourly.temp, '.-', label='Temperature')\r\n",
    "plt.plot(df_hourly.feels_like, '.-', label='Feels Like')\r\n",
    "ax.set(title='Temperature in future 48 hours', xlabel='Time', ylabel='Temperature')\r\n",
    "ax.set_xticks(list(range(0, len(df_hourly), 2)))\r\n",
    "ax.set_xticklabels([ts2dt(ts, '%m-%d %H:%M')[0] for i, ts in enumerate(df_hourly.dt) if i%2==0], \r\n",
    "                   rotation=45, ha=\"right\")\r\n",
    "ax.locator_params(nbins=15, axis='y')\r\n",
    "plt.legend()\r\n",
    "plt.show()"
   ]
  },
  {
   "cell_type": "code",
   "execution_count": 10,
   "metadata": {
    "execution": {
     "iopub.execute_input": "2021-10-05T06:14:02.868799Z",
     "iopub.status.busy": "2021-10-05T06:14:02.860974Z",
     "iopub.status.idle": "2021-10-05T06:14:02.879541Z",
     "shell.execute_reply": "2021-10-05T06:14:02.879898Z"
    }
   },
   "outputs": [
    {
     "data": {
      "text/html": [
       "<div>\n",
       "<style scoped>\n",
       "    .dataframe tbody tr th:only-of-type {\n",
       "        vertical-align: middle;\n",
       "    }\n",
       "\n",
       "    .dataframe tbody tr th {\n",
       "        vertical-align: top;\n",
       "    }\n",
       "\n",
       "    .dataframe thead th {\n",
       "        text-align: right;\n",
       "    }\n",
       "</style>\n",
       "<table border=\"1\" class=\"dataframe\">\n",
       "  <thead>\n",
       "    <tr style=\"text-align: right;\">\n",
       "      <th></th>\n",
       "      <th>dt</th>\n",
       "      <th>temp</th>\n",
       "      <th>feels_like</th>\n",
       "      <th>pressure</th>\n",
       "      <th>humidity</th>\n",
       "      <th>dew_point</th>\n",
       "      <th>uvi</th>\n",
       "      <th>clouds</th>\n",
       "      <th>visibility</th>\n",
       "      <th>wind_speed</th>\n",
       "      <th>wind_deg</th>\n",
       "      <th>wind_gust</th>\n",
       "      <th>weather</th>\n",
       "      <th>pop</th>\n",
       "      <th>rain</th>\n",
       "    </tr>\n",
       "  </thead>\n",
       "  <tbody>\n",
       "    <tr>\n",
       "      <th>0</th>\n",
       "      <td>1633413600</td>\n",
       "      <td>31.12</td>\n",
       "      <td>38.12</td>\n",
       "      <td>1010</td>\n",
       "      <td>71</td>\n",
       "      <td>25.24</td>\n",
       "      <td>7.26</td>\n",
       "      <td>30</td>\n",
       "      <td>10000</td>\n",
       "      <td>8.48</td>\n",
       "      <td>82</td>\n",
       "      <td>9.17</td>\n",
       "      <td>[{'id': 802, 'main': 'Clouds', 'description': ...</td>\n",
       "      <td>0.11</td>\n",
       "      <td>NaN</td>\n",
       "    </tr>\n",
       "    <tr>\n",
       "      <th>1</th>\n",
       "      <td>1633417200</td>\n",
       "      <td>30.75</td>\n",
       "      <td>36.94</td>\n",
       "      <td>1010</td>\n",
       "      <td>70</td>\n",
       "      <td>24.64</td>\n",
       "      <td>4.75</td>\n",
       "      <td>25</td>\n",
       "      <td>10000</td>\n",
       "      <td>8.02</td>\n",
       "      <td>86</td>\n",
       "      <td>8.84</td>\n",
       "      <td>[{'id': 500, 'main': 'Rain', 'description': 'l...</td>\n",
       "      <td>0.20</td>\n",
       "      <td>{'1h': 0.12}</td>\n",
       "    </tr>\n",
       "    <tr>\n",
       "      <th>2</th>\n",
       "      <td>1633420800</td>\n",
       "      <td>30.27</td>\n",
       "      <td>35.20</td>\n",
       "      <td>1010</td>\n",
       "      <td>68</td>\n",
       "      <td>23.70</td>\n",
       "      <td>2.28</td>\n",
       "      <td>19</td>\n",
       "      <td>10000</td>\n",
       "      <td>7.99</td>\n",
       "      <td>93</td>\n",
       "      <td>8.91</td>\n",
       "      <td>[{'id': 500, 'main': 'Rain', 'description': 'l...</td>\n",
       "      <td>0.20</td>\n",
       "      <td>{'1h': 0.15}</td>\n",
       "    </tr>\n",
       "    <tr>\n",
       "      <th>3</th>\n",
       "      <td>1633424400</td>\n",
       "      <td>29.65</td>\n",
       "      <td>33.55</td>\n",
       "      <td>1010</td>\n",
       "      <td>67</td>\n",
       "      <td>22.87</td>\n",
       "      <td>0.69</td>\n",
       "      <td>13</td>\n",
       "      <td>10000</td>\n",
       "      <td>7.68</td>\n",
       "      <td>97</td>\n",
       "      <td>8.81</td>\n",
       "      <td>[{'id': 801, 'main': 'Clouds', 'description': ...</td>\n",
       "      <td>0.00</td>\n",
       "      <td>NaN</td>\n",
       "    </tr>\n",
       "    <tr>\n",
       "      <th>4</th>\n",
       "      <td>1633428000</td>\n",
       "      <td>28.74</td>\n",
       "      <td>31.83</td>\n",
       "      <td>1010</td>\n",
       "      <td>68</td>\n",
       "      <td>22.25</td>\n",
       "      <td>0.00</td>\n",
       "      <td>7</td>\n",
       "      <td>10000</td>\n",
       "      <td>7.15</td>\n",
       "      <td>100</td>\n",
       "      <td>8.62</td>\n",
       "      <td>[{'id': 800, 'main': 'Clear', 'description': '...</td>\n",
       "      <td>0.00</td>\n",
       "      <td>NaN</td>\n",
       "    </tr>\n",
       "  </tbody>\n",
       "</table>\n",
       "</div>"
      ],
      "text/plain": [
       "           dt   temp  feels_like  pressure  humidity  dew_point   uvi  clouds  \\\n",
       "0  1633413600  31.12       38.12      1010        71      25.24  7.26      30   \n",
       "1  1633417200  30.75       36.94      1010        70      24.64  4.75      25   \n",
       "2  1633420800  30.27       35.20      1010        68      23.70  2.28      19   \n",
       "3  1633424400  29.65       33.55      1010        67      22.87  0.69      13   \n",
       "4  1633428000  28.74       31.83      1010        68      22.25  0.00       7   \n",
       "\n",
       "   visibility  wind_speed  wind_deg  wind_gust  \\\n",
       "0       10000        8.48        82       9.17   \n",
       "1       10000        8.02        86       8.84   \n",
       "2       10000        7.99        93       8.91   \n",
       "3       10000        7.68        97       8.81   \n",
       "4       10000        7.15       100       8.62   \n",
       "\n",
       "                                             weather   pop          rain  \n",
       "0  [{'id': 802, 'main': 'Clouds', 'description': ...  0.11           NaN  \n",
       "1  [{'id': 500, 'main': 'Rain', 'description': 'l...  0.20  {'1h': 0.12}  \n",
       "2  [{'id': 500, 'main': 'Rain', 'description': 'l...  0.20  {'1h': 0.15}  \n",
       "3  [{'id': 801, 'main': 'Clouds', 'description': ...  0.00           NaN  \n",
       "4  [{'id': 800, 'main': 'Clear', 'description': '...  0.00           NaN  "
      ]
     },
     "execution_count": 10,
     "metadata": {},
     "output_type": "execute_result"
    }
   ],
   "source": [
    "df_hourly.head()"
   ]
  },
  {
   "cell_type": "code",
   "execution_count": null,
   "metadata": {},
   "outputs": [],
   "source": []
  }
 ],
 "metadata": {
  "interpreter": {
   "hash": "c1b4cfe941b6d2466ad1fb5979e97da9cda8801728c8091b097ab734208fc00c"
  },
  "kernelspec": {
   "display_name": "Python 3.8.3 64-bit ('base': conda)",
   "name": "python3"
  },
  "language_info": {
   "codemirror_mode": {
    "name": "ipython",
    "version": 3
   },
   "file_extension": ".py",
   "mimetype": "text/x-python",
   "name": "python",
   "nbconvert_exporter": "python",
   "pygments_lexer": "ipython3",
   "version": "3.8.12"
  }
 },
 "nbformat": 4,
 "nbformat_minor": 2
}
