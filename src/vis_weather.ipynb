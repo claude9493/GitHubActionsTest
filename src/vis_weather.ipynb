{
 "cells": [
  {
   "cell_type": "code",
   "execution_count": 1,
   "metadata": {
    "execution": {
     "iopub.execute_input": "2021-09-13T21:10:18.865661Z",
     "iopub.status.busy": "2021-09-13T21:10:18.864852Z",
     "iopub.status.idle": "2021-09-13T21:10:24.540546Z",
     "shell.execute_reply": "2021-09-13T21:10:24.541088Z"
    }
   },
   "outputs": [],
   "source": [
    "import json, yaml, requests\r\n",
    "from datetime import datetime\r\n",
    "from dateutil import tz\r\n",
    "import pandas as pd\r\n",
    "from PIL import Image\r\n",
    "from io import BytesIO\r\n",
    "import matplotlib.pyplot as plt\r\n",
    "import seaborn\r\n",
    "\r\n",
    "CONFIG_PATH = \"../config/config.yaml\""
   ]
  },
  {
   "cell_type": "code",
   "execution_count": 2,
   "metadata": {
    "execution": {
     "iopub.execute_input": "2021-09-13T21:10:24.549568Z",
     "iopub.status.busy": "2021-09-13T21:10:24.548822Z",
     "iopub.status.idle": "2021-09-13T21:10:24.559133Z",
     "shell.execute_reply": "2021-09-13T21:10:24.558330Z"
    }
   },
   "outputs": [],
   "source": [
    "with open('../newest_ts', 'r') as f:\r\n",
    "    newest_ts = f.read()\r\n",
    "\r\n",
    "data_path = f\"../data/data_{newest_ts}.json\"\r\n",
    "with open(data_path, 'r') as f:\r\n",
    "    data = json.load(f)\r\n",
    "\r\n",
    "with open(CONFIG_PATH, \"r\") as stream:\r\n",
    "    config = yaml.safe_load(stream)\r\n",
    "\r\n",
    "TIME_ZONE = config['time_zone']\r\n",
    "DATETIME_FORMAT = config['dt_format']"
   ]
  },
  {
   "cell_type": "code",
   "execution_count": 3,
   "metadata": {
    "execution": {
     "iopub.execute_input": "2021-09-13T21:10:24.564935Z",
     "iopub.status.busy": "2021-09-13T21:10:24.564279Z",
     "iopub.status.idle": "2021-09-13T21:10:24.595179Z",
     "shell.execute_reply": "2021-09-13T21:10:24.594634Z"
    }
   },
   "outputs": [
    {
     "name": "stdout",
     "output_type": "stream",
     "text": [
      "Recent query happens at 2021-09-14 05:10:14 (CST).\n"
     ]
    }
   ],
   "source": [
    "def ts2dt(ts, format=DATETIME_FORMAT):\r\n",
    "    dt = (datetime.utcfromtimestamp(int(ts))\r\n",
    "                    .replace(tzinfo=tz.tzutc())\r\n",
    "                    # .astimezone(tz.tzlocal())\r\n",
    "                    .astimezone(tz.gettz(TIME_ZONE)))\r\n",
    "    return dt.strftime(format), dt\r\n",
    "\r\n",
    "_, newest_dt = ts2dt(newest_ts)\r\n",
    "print(f\"Recent query happens at {newest_dt.strftime(DATETIME_FORMAT)} ({newest_dt.tzname()}).\")"
   ]
  },
  {
   "cell_type": "code",
   "execution_count": 4,
   "metadata": {
    "execution": {
     "iopub.execute_input": "2021-09-13T21:10:24.601814Z",
     "iopub.status.busy": "2021-09-13T21:10:24.600239Z",
     "iopub.status.idle": "2021-09-13T21:10:24.602484Z",
     "shell.execute_reply": "2021-09-13T21:10:24.603061Z"
    }
   },
   "outputs": [],
   "source": [
    "def degrees_to_cardinal(d):\r\n",
    "  dirs = ['N', 'NNE', 'NE', 'ENE', 'E', 'ESE', 'SE', 'SSE', 'S', 'SSW', 'SW', 'WSW', 'W', 'WNW', 'NW', 'NNW']\r\n",
    "  ix = int(round(d / (360. / len(dirs))))\r\n",
    "  return dirs[ix % len(dirs)]"
   ]
  },
  {
   "cell_type": "code",
   "execution_count": 5,
   "metadata": {
    "execution": {
     "iopub.execute_input": "2021-09-13T21:10:24.608271Z",
     "iopub.status.busy": "2021-09-13T21:10:24.606749Z",
     "iopub.status.idle": "2021-09-13T21:10:24.608893Z",
     "shell.execute_reply": "2021-09-13T21:10:24.609432Z"
    }
   },
   "outputs": [],
   "source": [
    "# data.keys()"
   ]
  },
  {
   "cell_type": "code",
   "execution_count": 6,
   "metadata": {
    "execution": {
     "iopub.execute_input": "2021-09-13T21:10:24.613379Z",
     "iopub.status.busy": "2021-09-13T21:10:24.612671Z",
     "iopub.status.idle": "2021-09-13T21:10:24.615191Z",
     "shell.execute_reply": "2021-09-13T21:10:24.614641Z"
    }
   },
   "outputs": [],
   "source": [
    "# data['current']"
   ]
  },
  {
   "cell_type": "code",
   "execution_count": 7,
   "metadata": {
    "execution": {
     "iopub.execute_input": "2021-09-13T21:10:24.647898Z",
     "iopub.status.busy": "2021-09-13T21:10:24.639215Z",
     "iopub.status.idle": "2021-09-13T21:10:25.097080Z",
     "shell.execute_reply": "2021-09-13T21:10:25.097909Z"
    }
   },
   "outputs": [
    {
     "data": {
      "image/png": "[encoded data removed]",
      "text/plain": [
       "<Figure size 216x216 with 1 Axes>"
      ]
     },
     "metadata": {
      "needs_background": "light"
     },
     "output_type": "display_data"
    },
    {
     "name": "stdout",
     "output_type": "stream",
     "text": [
      "Today, sun rises at 06:09 and sets at 18:28.\n",
      "Currently, the weather is Clouds (overcast clouds).\n",
      "The temperature is 29.79°C and it feels like 36.79°C.\n",
      "The UV index is 0, humidity is 83%.\n",
      "The pressure is 1010 hPa, percentage of cloud cover is 97%\n",
      "The wind comes from SW direction with a speed 1.28 m/s.\n"
     ]
    }
   ],
   "source": [
    "current = data['current']\r\n",
    "\r\n",
    "fig, ax = plt.subplots(figsize=(3, 3))\r\n",
    "icon = requests.get(f\"http://openweathermap.org/img/wn/{current['weather'][0]['icon']}@2x.png\")\r\n",
    "im = Image.open(BytesIO(icon.content))\r\n",
    "plt.imshow(im)\r\n",
    "ax.set_axis_off()\r\n",
    "plt.show()\r\n",
    "\r\n",
    "print(f\"Today, sun rises at {ts2dt(current['sunrise'], '%H:%M')[0]} \\\r\n",
    "and sets at {ts2dt(current['sunset'], '%H:%M')[0]}.\\n\\\r\n",
    "Currently, the weather is {current['weather'][0]['main']} ({current['weather'][0]['description']}).\\n\\\r\n",
    "The temperature is {current['temp']}°C and it feels like {current['feels_like']}°C.\\n\\\r\n",
    "The UV index is {current['uvi']}, humidity is {current['humidity']}%.\\n\\\r\n",
    "The pressure is {current['pressure']} hPa, percentage of cloud cover is {current['clouds']}%\\n\\\r\n",
    "The wind comes from {degrees_to_cardinal(current['wind_deg'])} direction with a speed {current['wind_speed']} m/s.\")"
   ]
  },
  {
   "cell_type": "code",
   "execution_count": 8,
   "metadata": {
    "execution": {
     "iopub.execute_input": "2021-09-13T21:10:25.108017Z",
     "iopub.status.busy": "2021-09-13T21:10:25.106568Z",
     "iopub.status.idle": "2021-09-13T21:10:25.111034Z",
     "shell.execute_reply": "2021-09-13T21:10:25.111835Z"
    }
   },
   "outputs": [],
   "source": [
    "df_hourly = pd.DataFrame(data['hourly'])\r\n",
    "df_daily = pd.DataFrame(data['daily'])"
   ]
  },
  {
   "cell_type": "code",
   "execution_count": 9,
   "metadata": {
    "execution": {
     "iopub.execute_input": "2021-09-13T21:10:25.129543Z",
     "iopub.status.busy": "2021-09-13T21:10:25.128709Z",
     "iopub.status.idle": "2021-09-13T21:10:25.462096Z",
     "shell.execute_reply": "2021-09-13T21:10:25.461502Z"
    }
   },
   "outputs": [
    {
     "data": {
      "image/png": "[encoded data removed]",
      "text/plain": [
       "<Figure size 864x432 with 1 Axes>"
      ]
     },
     "metadata": {
      "needs_background": "light"
     },
     "output_type": "display_data"
    }
   ],
   "source": [
    "fig, ax = plt.subplots(figsize=(12, 6))\r\n",
    "plt.plot(df_hourly.temp, '.-', label='Temperature')\r\n",
    "plt.plot(df_hourly.feels_like, '.-', label='Feels Like')\r\n",
    "ax.set(title='Temperature in future 48 hours', xlabel='Time', ylabel='Temperature')\r\n",
    "ax.set_xticks(list(range(0, len(df_hourly), 2)))\r\n",
    "ax.set_xticklabels([ts2dt(ts, '%m-%d %H:%M')[0] for i, ts in enumerate(df_hourly.dt) if i%2==0], \r\n",
    "                   rotation=45, ha=\"right\")\r\n",
    "ax.locator_params(nbins=15, axis='y')\r\n",
    "plt.legend()\r\n",
    "plt.show()"
   ]
  },
  {
   "cell_type": "code",
   "execution_count": 10,
   "metadata": {
    "execution": {
     "iopub.execute_input": "2021-09-13T21:10:25.476322Z",
     "iopub.status.busy": "2021-09-13T21:10:25.466920Z",
     "iopub.status.idle": "2021-09-13T21:10:25.490345Z",
     "shell.execute_reply": "2021-09-13T21:10:25.489314Z"
    }
   },
   "outputs": [
    {
     "data": {
      "text/html": [
       "<div>\n",
       "<style scoped>\n",
       "    .dataframe tbody tr th:only-of-type {\n",
       "        vertical-align: middle;\n",
       "    }\n",
       "\n",
       "    .dataframe tbody tr th {\n",
       "        vertical-align: top;\n",
       "    }\n",
       "\n",
       "    .dataframe thead th {\n",
       "        text-align: right;\n",
       "    }\n",
       "</style>\n",
       "<table border=\"1\" class=\"dataframe\">\n",
       "  <thead>\n",
       "    <tr style=\"text-align: right;\">\n",
       "      <th></th>\n",
       "      <th>dt</th>\n",
       "      <th>temp</th>\n",
       "      <th>feels_like</th>\n",
       "      <th>pressure</th>\n",
       "      <th>humidity</th>\n",
       "      <th>dew_point</th>\n",
       "      <th>uvi</th>\n",
       "      <th>clouds</th>\n",
       "      <th>visibility</th>\n",
       "      <th>wind_speed</th>\n",
       "      <th>wind_deg</th>\n",
       "      <th>wind_gust</th>\n",
       "      <th>weather</th>\n",
       "      <th>pop</th>\n",
       "      <th>rain</th>\n",
       "    </tr>\n",
       "  </thead>\n",
       "  <tbody>\n",
       "    <tr>\n",
       "      <th>0</th>\n",
       "      <td>1631566800</td>\n",
       "      <td>29.79</td>\n",
       "      <td>36.79</td>\n",
       "      <td>1010</td>\n",
       "      <td>83</td>\n",
       "      <td>26.59</td>\n",
       "      <td>0.00</td>\n",
       "      <td>97</td>\n",
       "      <td>10000</td>\n",
       "      <td>1.28</td>\n",
       "      <td>219</td>\n",
       "      <td>1.61</td>\n",
       "      <td>[{'id': 501, 'main': 'Rain', 'description': 'm...</td>\n",
       "      <td>1.00</td>\n",
       "      <td>{'1h': 1.2}</td>\n",
       "    </tr>\n",
       "    <tr>\n",
       "      <th>1</th>\n",
       "      <td>1631570400</td>\n",
       "      <td>29.43</td>\n",
       "      <td>36.43</td>\n",
       "      <td>1010</td>\n",
       "      <td>84</td>\n",
       "      <td>26.44</td>\n",
       "      <td>0.00</td>\n",
       "      <td>96</td>\n",
       "      <td>10000</td>\n",
       "      <td>0.79</td>\n",
       "      <td>247</td>\n",
       "      <td>0.99</td>\n",
       "      <td>[{'id': 804, 'main': 'Clouds', 'description': ...</td>\n",
       "      <td>0.80</td>\n",
       "      <td>NaN</td>\n",
       "    </tr>\n",
       "    <tr>\n",
       "      <th>2</th>\n",
       "      <td>1631574000</td>\n",
       "      <td>29.23</td>\n",
       "      <td>35.86</td>\n",
       "      <td>1010</td>\n",
       "      <td>82</td>\n",
       "      <td>25.84</td>\n",
       "      <td>0.22</td>\n",
       "      <td>96</td>\n",
       "      <td>10000</td>\n",
       "      <td>0.37</td>\n",
       "      <td>249</td>\n",
       "      <td>0.65</td>\n",
       "      <td>[{'id': 804, 'main': 'Clouds', 'description': ...</td>\n",
       "      <td>0.80</td>\n",
       "      <td>NaN</td>\n",
       "    </tr>\n",
       "    <tr>\n",
       "      <th>3</th>\n",
       "      <td>1631577600</td>\n",
       "      <td>29.38</td>\n",
       "      <td>35.82</td>\n",
       "      <td>1011</td>\n",
       "      <td>80</td>\n",
       "      <td>25.57</td>\n",
       "      <td>1.21</td>\n",
       "      <td>95</td>\n",
       "      <td>10000</td>\n",
       "      <td>0.54</td>\n",
       "      <td>205</td>\n",
       "      <td>0.74</td>\n",
       "      <td>[{'id': 804, 'main': 'Clouds', 'description': ...</td>\n",
       "      <td>0.80</td>\n",
       "      <td>NaN</td>\n",
       "    </tr>\n",
       "    <tr>\n",
       "      <th>4</th>\n",
       "      <td>1631581200</td>\n",
       "      <td>29.89</td>\n",
       "      <td>36.00</td>\n",
       "      <td>1012</td>\n",
       "      <td>75</td>\n",
       "      <td>24.97</td>\n",
       "      <td>3.37</td>\n",
       "      <td>89</td>\n",
       "      <td>10000</td>\n",
       "      <td>0.79</td>\n",
       "      <td>188</td>\n",
       "      <td>0.88</td>\n",
       "      <td>[{'id': 804, 'main': 'Clouds', 'description': ...</td>\n",
       "      <td>0.54</td>\n",
       "      <td>NaN</td>\n",
       "    </tr>\n",
       "  </tbody>\n",
       "</table>\n",
       "</div>"
      ],
      "text/plain": [
       "           dt   temp  feels_like  pressure  humidity  dew_point   uvi  clouds  \\\n",
       "0  1631566800  29.79       36.79      1010        83      26.59  0.00      97   \n",
       "1  1631570400  29.43       36.43      1010        84      26.44  0.00      96   \n",
       "2  1631574000  29.23       35.86      1010        82      25.84  0.22      96   \n",
       "3  1631577600  29.38       35.82      1011        80      25.57  1.21      95   \n",
       "4  1631581200  29.89       36.00      1012        75      24.97  3.37      89   \n",
       "\n",
       "   visibility  wind_speed  wind_deg  wind_gust  \\\n",
       "0       10000        1.28       219       1.61   \n",
       "1       10000        0.79       247       0.99   \n",
       "2       10000        0.37       249       0.65   \n",
       "3       10000        0.54       205       0.74   \n",
       "4       10000        0.79       188       0.88   \n",
       "\n",
       "                                             weather   pop         rain  \n",
       "0  [{'id': 501, 'main': 'Rain', 'description': 'm...  1.00  {'1h': 1.2}  \n",
       "1  [{'id': 804, 'main': 'Clouds', 'description': ...  0.80          NaN  \n",
       "2  [{'id': 804, 'main': 'Clouds', 'description': ...  0.80          NaN  \n",
       "3  [{'id': 804, 'main': 'Clouds', 'description': ...  0.80          NaN  \n",
       "4  [{'id': 804, 'main': 'Clouds', 'description': ...  0.54          NaN  "
      ]
     },
     "execution_count": 10,
     "metadata": {},
     "output_type": "execute_result"
    }
   ],
   "source": [
    "df_hourly.head()"
   ]
  },
  {
   "cell_type": "code",
   "execution_count": null,
   "metadata": {},
   "outputs": [],
   "source": []
  }
 ],
 "metadata": {
  "interpreter": {
   "hash": "c1b4cfe941b6d2466ad1fb5979e97da9cda8801728c8091b097ab734208fc00c"
  },
  "kernelspec": {
   "display_name": "Python 3.8.3 64-bit ('base': conda)",
   "name": "python3"
  },
  "language_info": {
   "codemirror_mode": {
    "name": "ipython",
    "version": 3
   },
   "file_extension": ".py",
   "mimetype": "text/x-python",
   "name": "python",
   "nbconvert_exporter": "python",
   "pygments_lexer": "ipython3",
   "version": "3.8.11"
  }
 },
 "nbformat": 4,
 "nbformat_minor": 2
}
