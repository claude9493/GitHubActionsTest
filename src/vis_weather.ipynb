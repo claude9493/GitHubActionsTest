{
 "cells": [
  {
   "cell_type": "code",
   "execution_count": 1,
   "metadata": {
    "execution": {
     "iopub.execute_input": "2021-09-17T12:18:07.012749Z",
     "iopub.status.busy": "2021-09-17T12:18:07.012214Z",
     "iopub.status.idle": "2021-09-17T12:18:08.349592Z",
     "shell.execute_reply": "2021-09-17T12:18:08.349012Z"
    }
   },
   "outputs": [],
   "source": [
    "import json, yaml, requests\r\n",
    "from datetime import datetime\r\n",
    "from dateutil import tz\r\n",
    "import pandas as pd\r\n",
    "from PIL import Image\r\n",
    "from io import BytesIO\r\n",
    "import matplotlib.pyplot as plt\r\n",
    "import seaborn\r\n",
    "\r\n",
    "CONFIG_PATH = \"../config/config.yaml\""
   ]
  },
  {
   "cell_type": "code",
   "execution_count": 2,
   "metadata": {
    "execution": {
     "iopub.execute_input": "2021-09-17T12:18:08.355060Z",
     "iopub.status.busy": "2021-09-17T12:18:08.354546Z",
     "iopub.status.idle": "2021-09-17T12:18:08.361716Z",
     "shell.execute_reply": "2021-09-17T12:18:08.361186Z"
    }
   },
   "outputs": [],
   "source": [
    "with open('../newest_ts', 'r') as f:\r\n",
    "    newest_ts = f.read()\r\n",
    "\r\n",
    "data_path = f\"../data/data_{newest_ts}.json\"\r\n",
    "with open(data_path, 'r') as f:\r\n",
    "    data = json.load(f)\r\n",
    "\r\n",
    "with open(CONFIG_PATH, \"r\") as stream:\r\n",
    "    config = yaml.safe_load(stream)\r\n",
    "\r\n",
    "TIME_ZONE = config['time_zone']\r\n",
    "DATETIME_FORMAT = config['dt_format']"
   ]
  },
  {
   "cell_type": "code",
   "execution_count": 3,
   "metadata": {
    "execution": {
     "iopub.execute_input": "2021-09-17T12:18:08.367202Z",
     "iopub.status.busy": "2021-09-17T12:18:08.366665Z",
     "iopub.status.idle": "2021-09-17T12:18:08.434011Z",
     "shell.execute_reply": "2021-09-17T12:18:08.434477Z"
    }
   },
   "outputs": [
    {
     "name": "stdout",
     "output_type": "stream",
     "text": [
      "Recent query happens at 2021-09-17 20:18:03 (CST).\n"
     ]
    }
   ],
   "source": [
    "def ts2dt(ts, format=DATETIME_FORMAT):\r\n",
    "    dt = (datetime.utcfromtimestamp(int(ts))\r\n",
    "                    .replace(tzinfo=tz.tzutc())\r\n",
    "                    # .astimezone(tz.tzlocal())\r\n",
    "                    .astimezone(tz.gettz(TIME_ZONE)))\r\n",
    "    return dt.strftime(format), dt\r\n",
    "\r\n",
    "_, newest_dt = ts2dt(newest_ts)\r\n",
    "print(f\"Recent query happens at {newest_dt.strftime(DATETIME_FORMAT)} ({newest_dt.tzname()}).\")"
   ]
  },
  {
   "cell_type": "code",
   "execution_count": 4,
   "metadata": {
    "execution": {
     "iopub.execute_input": "2021-09-17T12:18:08.436927Z",
     "iopub.status.busy": "2021-09-17T12:18:08.436370Z",
     "iopub.status.idle": "2021-09-17T12:18:08.440588Z",
     "shell.execute_reply": "2021-09-17T12:18:08.440167Z"
    }
   },
   "outputs": [],
   "source": [
    "def degrees_to_cardinal(d):\r\n",
    "  dirs = ['N', 'NNE', 'NE', 'ENE', 'E', 'ESE', 'SE', 'SSE', 'S', 'SSW', 'SW', 'WSW', 'W', 'WNW', 'NW', 'NNW']\r\n",
    "  ix = int(round(d / (360. / len(dirs))))\r\n",
    "  return dirs[ix % len(dirs)]"
   ]
  },
  {
   "cell_type": "code",
   "execution_count": 5,
   "metadata": {
    "execution": {
     "iopub.execute_input": "2021-09-17T12:18:08.444764Z",
     "iopub.status.busy": "2021-09-17T12:18:08.444090Z",
     "iopub.status.idle": "2021-09-17T12:18:08.447464Z",
     "shell.execute_reply": "2021-09-17T12:18:08.447828Z"
    }
   },
   "outputs": [],
   "source": [
    "# data.keys()"
   ]
  },
  {
   "cell_type": "code",
   "execution_count": 6,
   "metadata": {
    "execution": {
     "iopub.execute_input": "2021-09-17T12:18:08.451809Z",
     "iopub.status.busy": "2021-09-17T12:18:08.450703Z",
     "iopub.status.idle": "2021-09-17T12:18:08.453634Z",
     "shell.execute_reply": "2021-09-17T12:18:08.454209Z"
    }
   },
   "outputs": [],
   "source": [
    "# data['current']"
   ]
  },
  {
   "cell_type": "code",
   "execution_count": 7,
   "metadata": {
    "execution": {
     "iopub.execute_input": "2021-09-17T12:18:08.473971Z",
     "iopub.status.busy": "2021-09-17T12:18:08.464030Z",
     "iopub.status.idle": "2021-09-17T12:18:08.907518Z",
     "shell.execute_reply": "2021-09-17T12:18:08.908147Z"
    }
   },
   "outputs": [
    {
     "data": {
      "image/png": "[encoded data removed]",
      "text/plain": [
       "<Figure size 216x216 with 1 Axes>"
      ]
     },
     "metadata": {
      "needs_background": "light"
     },
     "output_type": "display_data"
    },
    {
     "name": "stdout",
     "output_type": "stream",
     "text": [
      "Today, sun rises at 06:10 and sets at 18:25.\n",
      "Currently, the weather is Rain (light rain).\n",
      "The temperature is 29.51°C and it feels like 35.95°C.\n",
      "The UV index is 0, humidity is 79%.\n",
      "The pressure is 1009 hPa, percentage of cloud cover is 3%\n",
      "The wind comes from ESE direction with a speed 3.04 m/s.\n"
     ]
    }
   ],
   "source": [
    "current = data['current']\r\n",
    "\r\n",
    "fig, ax = plt.subplots(figsize=(3, 3))\r\n",
    "icon = requests.get(f\"http://openweathermap.org/img/wn/{current['weather'][0]['icon']}@2x.png\")\r\n",
    "im = Image.open(BytesIO(icon.content))\r\n",
    "plt.imshow(im)\r\n",
    "ax.set_axis_off()\r\n",
    "plt.show()\r\n",
    "\r\n",
    "print(f\"Today, sun rises at {ts2dt(current['sunrise'], '%H:%M')[0]} \\\r\n",
    "and sets at {ts2dt(current['sunset'], '%H:%M')[0]}.\\n\\\r\n",
    "Currently, the weather is {current['weather'][0]['main']} ({current['weather'][0]['description']}).\\n\\\r\n",
    "The temperature is {current['temp']}°C and it feels like {current['feels_like']}°C.\\n\\\r\n",
    "The UV index is {current['uvi']}, humidity is {current['humidity']}%.\\n\\\r\n",
    "The pressure is {current['pressure']} hPa, percentage of cloud cover is {current['clouds']}%\\n\\\r\n",
    "The wind comes from {degrees_to_cardinal(current['wind_deg'])} direction with a speed {current['wind_speed']} m/s.\")"
   ]
  },
  {
   "cell_type": "code",
   "execution_count": 8,
   "metadata": {
    "execution": {
     "iopub.execute_input": "2021-09-17T12:18:08.911230Z",
     "iopub.status.busy": "2021-09-17T12:18:08.910357Z",
     "iopub.status.idle": "2021-09-17T12:18:08.918005Z",
     "shell.execute_reply": "2021-09-17T12:18:08.918653Z"
    }
   },
   "outputs": [],
   "source": [
    "df_hourly = pd.DataFrame(data['hourly'])\r\n",
    "df_daily = pd.DataFrame(data['daily'])"
   ]
  },
  {
   "cell_type": "code",
   "execution_count": 9,
   "metadata": {
    "execution": {
     "iopub.execute_input": "2021-09-17T12:18:08.921737Z",
     "iopub.status.busy": "2021-09-17T12:18:08.920618Z",
     "iopub.status.idle": "2021-09-17T12:18:09.223501Z",
     "shell.execute_reply": "2021-09-17T12:18:09.223066Z"
    }
   },
   "outputs": [
    {
     "data": {
      "image/png": "[encoded data removed]",
      "text/plain": [
       "<Figure size 864x432 with 1 Axes>"
      ]
     },
     "metadata": {
      "needs_background": "light"
     },
     "output_type": "display_data"
    }
   ],
   "source": [
    "fig, ax = plt.subplots(figsize=(12, 6))\r\n",
    "plt.plot(df_hourly.temp, '.-', label='Temperature')\r\n",
    "plt.plot(df_hourly.feels_like, '.-', label='Feels Like')\r\n",
    "ax.set(title='Temperature in future 48 hours', xlabel='Time', ylabel='Temperature')\r\n",
    "ax.set_xticks(list(range(0, len(df_hourly), 2)))\r\n",
    "ax.set_xticklabels([ts2dt(ts, '%m-%d %H:%M')[0] for i, ts in enumerate(df_hourly.dt) if i%2==0], \r\n",
    "                   rotation=45, ha=\"right\")\r\n",
    "ax.locator_params(nbins=15, axis='y')\r\n",
    "plt.legend()\r\n",
    "plt.show()"
   ]
  },
  {
   "cell_type": "code",
   "execution_count": 10,
   "metadata": {
    "execution": {
     "iopub.execute_input": "2021-09-17T12:18:09.227950Z",
     "iopub.status.busy": "2021-09-17T12:18:09.227470Z",
     "iopub.status.idle": "2021-09-17T12:18:09.247398Z",
     "shell.execute_reply": "2021-09-17T12:18:09.246999Z"
    }
   },
   "outputs": [
    {
     "data": {
      "text/html": [
       "<div>\n",
       "<style scoped>\n",
       "    .dataframe tbody tr th:only-of-type {\n",
       "        vertical-align: middle;\n",
       "    }\n",
       "\n",
       "    .dataframe tbody tr th {\n",
       "        vertical-align: top;\n",
       "    }\n",
       "\n",
       "    .dataframe thead th {\n",
       "        text-align: right;\n",
       "    }\n",
       "</style>\n",
       "<table border=\"1\" class=\"dataframe\">\n",
       "  <thead>\n",
       "    <tr style=\"text-align: right;\">\n",
       "      <th></th>\n",
       "      <th>dt</th>\n",
       "      <th>temp</th>\n",
       "      <th>feels_like</th>\n",
       "      <th>pressure</th>\n",
       "      <th>humidity</th>\n",
       "      <th>dew_point</th>\n",
       "      <th>uvi</th>\n",
       "      <th>clouds</th>\n",
       "      <th>visibility</th>\n",
       "      <th>wind_speed</th>\n",
       "      <th>wind_deg</th>\n",
       "      <th>wind_gust</th>\n",
       "      <th>weather</th>\n",
       "      <th>pop</th>\n",
       "      <th>rain</th>\n",
       "    </tr>\n",
       "  </thead>\n",
       "  <tbody>\n",
       "    <tr>\n",
       "      <th>0</th>\n",
       "      <td>1631880000</td>\n",
       "      <td>29.51</td>\n",
       "      <td>35.95</td>\n",
       "      <td>1009</td>\n",
       "      <td>79</td>\n",
       "      <td>25.48</td>\n",
       "      <td>0.0</td>\n",
       "      <td>3</td>\n",
       "      <td>10000</td>\n",
       "      <td>3.04</td>\n",
       "      <td>114</td>\n",
       "      <td>3.82</td>\n",
       "      <td>[{'id': 500, 'main': 'Rain', 'description': 'l...</td>\n",
       "      <td>0.38</td>\n",
       "      <td>{'1h': 0.42}</td>\n",
       "    </tr>\n",
       "    <tr>\n",
       "      <th>1</th>\n",
       "      <td>1631883600</td>\n",
       "      <td>29.29</td>\n",
       "      <td>35.09</td>\n",
       "      <td>1009</td>\n",
       "      <td>78</td>\n",
       "      <td>25.05</td>\n",
       "      <td>0.0</td>\n",
       "      <td>3</td>\n",
       "      <td>10000</td>\n",
       "      <td>3.03</td>\n",
       "      <td>112</td>\n",
       "      <td>4.06</td>\n",
       "      <td>[{'id': 500, 'main': 'Rain', 'description': 'l...</td>\n",
       "      <td>0.93</td>\n",
       "      <td>{'1h': 0.42}</td>\n",
       "    </tr>\n",
       "    <tr>\n",
       "      <th>2</th>\n",
       "      <td>1631887200</td>\n",
       "      <td>29.05</td>\n",
       "      <td>34.66</td>\n",
       "      <td>1009</td>\n",
       "      <td>79</td>\n",
       "      <td>25.03</td>\n",
       "      <td>0.0</td>\n",
       "      <td>2</td>\n",
       "      <td>10000</td>\n",
       "      <td>2.83</td>\n",
       "      <td>110</td>\n",
       "      <td>4.08</td>\n",
       "      <td>[{'id': 500, 'main': 'Rain', 'description': 'l...</td>\n",
       "      <td>0.94</td>\n",
       "      <td>{'1h': 0.42}</td>\n",
       "    </tr>\n",
       "    <tr>\n",
       "      <th>3</th>\n",
       "      <td>1631890800</td>\n",
       "      <td>28.80</td>\n",
       "      <td>34.19</td>\n",
       "      <td>1010</td>\n",
       "      <td>80</td>\n",
       "      <td>25.00</td>\n",
       "      <td>0.0</td>\n",
       "      <td>2</td>\n",
       "      <td>10000</td>\n",
       "      <td>2.81</td>\n",
       "      <td>111</td>\n",
       "      <td>4.23</td>\n",
       "      <td>[{'id': 800, 'main': 'Clear', 'description': '...</td>\n",
       "      <td>0.88</td>\n",
       "      <td>NaN</td>\n",
       "    </tr>\n",
       "    <tr>\n",
       "      <th>4</th>\n",
       "      <td>1631894400</td>\n",
       "      <td>28.37</td>\n",
       "      <td>33.40</td>\n",
       "      <td>1010</td>\n",
       "      <td>82</td>\n",
       "      <td>25.00</td>\n",
       "      <td>0.0</td>\n",
       "      <td>2</td>\n",
       "      <td>10000</td>\n",
       "      <td>2.81</td>\n",
       "      <td>116</td>\n",
       "      <td>4.00</td>\n",
       "      <td>[{'id': 500, 'main': 'Rain', 'description': 'l...</td>\n",
       "      <td>1.00</td>\n",
       "      <td>{'1h': 0.29}</td>\n",
       "    </tr>\n",
       "  </tbody>\n",
       "</table>\n",
       "</div>"
      ],
      "text/plain": [
       "           dt   temp  feels_like  pressure  humidity  dew_point  uvi  clouds  \\\n",
       "0  1631880000  29.51       35.95      1009        79      25.48  0.0       3   \n",
       "1  1631883600  29.29       35.09      1009        78      25.05  0.0       3   \n",
       "2  1631887200  29.05       34.66      1009        79      25.03  0.0       2   \n",
       "3  1631890800  28.80       34.19      1010        80      25.00  0.0       2   \n",
       "4  1631894400  28.37       33.40      1010        82      25.00  0.0       2   \n",
       "\n",
       "   visibility  wind_speed  wind_deg  wind_gust  \\\n",
       "0       10000        3.04       114       3.82   \n",
       "1       10000        3.03       112       4.06   \n",
       "2       10000        2.83       110       4.08   \n",
       "3       10000        2.81       111       4.23   \n",
       "4       10000        2.81       116       4.00   \n",
       "\n",
       "                                             weather   pop          rain  \n",
       "0  [{'id': 500, 'main': 'Rain', 'description': 'l...  0.38  {'1h': 0.42}  \n",
       "1  [{'id': 500, 'main': 'Rain', 'description': 'l...  0.93  {'1h': 0.42}  \n",
       "2  [{'id': 500, 'main': 'Rain', 'description': 'l...  0.94  {'1h': 0.42}  \n",
       "3  [{'id': 800, 'main': 'Clear', 'description': '...  0.88           NaN  \n",
       "4  [{'id': 500, 'main': 'Rain', 'description': 'l...  1.00  {'1h': 0.29}  "
      ]
     },
     "execution_count": 10,
     "metadata": {},
     "output_type": "execute_result"
    }
   ],
   "source": [
    "df_hourly.head()"
   ]
  },
  {
   "cell_type": "code",
   "execution_count": null,
   "metadata": {},
   "outputs": [],
   "source": []
  }
 ],
 "metadata": {
  "interpreter": {
   "hash": "c1b4cfe941b6d2466ad1fb5979e97da9cda8801728c8091b097ab734208fc00c"
  },
  "kernelspec": {
   "display_name": "Python 3.8.3 64-bit ('base': conda)",
   "name": "python3"
  },
  "language_info": {
   "codemirror_mode": {
    "name": "ipython",
    "version": 3
   },
   "file_extension": ".py",
   "mimetype": "text/x-python",
   "name": "python",
   "nbconvert_exporter": "python",
   "pygments_lexer": "ipython3",
   "version": "3.8.11"
  }
 },
 "nbformat": 4,
 "nbformat_minor": 2
}
