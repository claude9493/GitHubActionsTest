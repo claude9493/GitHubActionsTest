{
 "cells": [
  {
   "cell_type": "code",
   "execution_count": 1,
   "metadata": {
    "execution": {
     "iopub.execute_input": "2021-08-30T05:36:23.859808Z",
     "iopub.status.busy": "2021-08-30T05:36:23.859063Z",
     "iopub.status.idle": "2021-08-30T05:36:27.724743Z",
     "shell.execute_reply": "2021-08-30T05:36:27.723894Z"
    }
   },
   "outputs": [],
   "source": [
    "import json, yaml, requests\r\n",
    "from datetime import datetime\r\n",
    "from dateutil import tz\r\n",
    "import pandas as pd\r\n",
    "from PIL import Image\r\n",
    "from io import BytesIO\r\n",
    "import matplotlib.pyplot as plt\r\n",
    "import seaborn\r\n",
    "\r\n",
    "CONFIG_PATH = \"../config/config.yaml\""
   ]
  },
  {
   "cell_type": "code",
   "execution_count": 2,
   "metadata": {
    "execution": {
     "iopub.execute_input": "2021-08-30T05:36:27.735871Z",
     "iopub.status.busy": "2021-08-30T05:36:27.730109Z",
     "iopub.status.idle": "2021-08-30T05:36:27.736964Z",
     "shell.execute_reply": "2021-08-30T05:36:27.736465Z"
    }
   },
   "outputs": [],
   "source": [
    "with open('../newest_ts', 'r') as f:\r\n",
    "    newest_ts = f.read()\r\n",
    "\r\n",
    "data_path = f\"../data/data_{newest_ts}.json\"\r\n",
    "with open(data_path, 'r') as f:\r\n",
    "    data = json.load(f)\r\n",
    "\r\n",
    "with open(CONFIG_PATH, \"r\") as stream:\r\n",
    "    config = yaml.safe_load(stream)\r\n",
    "\r\n",
    "TIME_ZONE = config['time_zone']\r\n",
    "DATETIME_FORMAT = config['dt_format']"
   ]
  },
  {
   "cell_type": "code",
   "execution_count": 3,
   "metadata": {
    "execution": {
     "iopub.execute_input": "2021-08-30T05:36:27.746861Z",
     "iopub.status.busy": "2021-08-30T05:36:27.746116Z",
     "iopub.status.idle": "2021-08-30T05:36:27.758893Z",
     "shell.execute_reply": "2021-08-30T05:36:27.759491Z"
    }
   },
   "outputs": [
    {
     "name": "stdout",
     "output_type": "stream",
     "text": [
      "Recent query happens at 2021-08-30 13:36:20 (CST).\n"
     ]
    }
   ],
   "source": [
    "def ts2dt(ts, format=DATETIME_FORMAT):\r\n",
    "    dt = (datetime.utcfromtimestamp(int(ts))\r\n",
    "                    .replace(tzinfo=tz.tzutc())\r\n",
    "                    # .astimezone(tz.tzlocal())\r\n",
    "                    .astimezone(tz.gettz(TIME_ZONE)))\r\n",
    "    return dt.strftime(format), dt\r\n",
    "\r\n",
    "_, newest_dt = ts2dt(newest_ts)\r\n",
    "print(f\"Recent query happens at {newest_dt.strftime(DATETIME_FORMAT)} ({newest_dt.tzname()}).\")"
   ]
  },
  {
   "cell_type": "code",
   "execution_count": 4,
   "metadata": {
    "execution": {
     "iopub.execute_input": "2021-08-30T05:36:27.766301Z",
     "iopub.status.busy": "2021-08-30T05:36:27.764778Z",
     "iopub.status.idle": "2021-08-30T05:36:27.766907Z",
     "shell.execute_reply": "2021-08-30T05:36:27.767370Z"
    }
   },
   "outputs": [],
   "source": [
    "def degrees_to_cardinal(d):\r\n",
    "  dirs = ['N', 'NNE', 'NE', 'ENE', 'E', 'ESE', 'SE', 'SSE', 'S', 'SSW', 'SW', 'WSW', 'W', 'WNW', 'NW', 'NNW']\r\n",
    "  ix = int(round(d / (360. / len(dirs))))\r\n",
    "  return dirs[ix % len(dirs)]"
   ]
  },
  {
   "cell_type": "code",
   "execution_count": 5,
   "metadata": {
    "execution": {
     "iopub.execute_input": "2021-08-30T05:36:27.772060Z",
     "iopub.status.busy": "2021-08-30T05:36:27.771323Z",
     "iopub.status.idle": "2021-08-30T05:36:27.780895Z",
     "shell.execute_reply": "2021-08-30T05:36:27.780344Z"
    }
   },
   "outputs": [],
   "source": [
    "# data.keys()"
   ]
  },
  {
   "cell_type": "code",
   "execution_count": 6,
   "metadata": {
    "execution": {
     "iopub.execute_input": "2021-08-30T05:36:27.784875Z",
     "iopub.status.busy": "2021-08-30T05:36:27.784292Z",
     "iopub.status.idle": "2021-08-30T05:36:27.787612Z",
     "shell.execute_reply": "2021-08-30T05:36:27.788149Z"
    }
   },
   "outputs": [],
   "source": [
    "# data['current']"
   ]
  },
  {
   "cell_type": "code",
   "execution_count": 7,
   "metadata": {
    "execution": {
     "iopub.execute_input": "2021-08-30T05:36:27.795251Z",
     "iopub.status.busy": "2021-08-30T05:36:27.794584Z",
     "iopub.status.idle": "2021-08-30T05:36:28.240592Z",
     "shell.execute_reply": "2021-08-30T05:36:28.241485Z"
    }
   },
   "outputs": [
    {
     "data": {
      "image/png": "[encoded data removed]",
      "text/plain": [
       "<Figure size 216x216 with 1 Axes>"
      ]
     },
     "metadata": {
      "needs_background": "light"
     },
     "output_type": "display_data"
    },
    {
     "name": "stdout",
     "output_type": "stream",
     "text": [
      "Today, sun rises at 06:05 and sets at 18:42.\n",
      "Currently, the weather is Clouds (few clouds).\n",
      "The temperature is 32.64°C and it feels like 39.64°C.\n",
      "The UV index is 9.64, humidity is 69%.\n",
      "The pressure is 1011 hPa, percentage of cloud cover is 11%\n",
      "The wind comes from E direction with a speed 5.57 m/s.\n"
     ]
    }
   ],
   "source": [
    "current = data['current']\r\n",
    "\r\n",
    "fig, ax = plt.subplots(figsize=(3, 3))\r\n",
    "icon = requests.get(f\"http://openweathermap.org/img/wn/{current['weather'][0]['icon']}@2x.png\")\r\n",
    "im = Image.open(BytesIO(icon.content))\r\n",
    "plt.imshow(im)\r\n",
    "ax.set_axis_off()\r\n",
    "plt.show()\r\n",
    "\r\n",
    "print(f\"Today, sun rises at {ts2dt(current['sunrise'], '%H:%M')[0]} \\\r\n",
    "and sets at {ts2dt(current['sunset'], '%H:%M')[0]}.\\n\\\r\n",
    "Currently, the weather is {current['weather'][0]['main']} ({current['weather'][0]['description']}).\\n\\\r\n",
    "The temperature is {current['temp']}°C and it feels like {current['feels_like']}°C.\\n\\\r\n",
    "The UV index is {current['uvi']}, humidity is {current['humidity']}%.\\n\\\r\n",
    "The pressure is {current['pressure']} hPa, percentage of cloud cover is {current['clouds']}%\\n\\\r\n",
    "The wind comes from {degrees_to_cardinal(current['wind_deg'])} direction with a speed {current['wind_speed']} m/s.\")"
   ]
  },
  {
   "cell_type": "code",
   "execution_count": 8,
   "metadata": {
    "execution": {
     "iopub.execute_input": "2021-08-30T05:36:28.245883Z",
     "iopub.status.busy": "2021-08-30T05:36:28.244590Z",
     "iopub.status.idle": "2021-08-30T05:36:28.253130Z",
     "shell.execute_reply": "2021-08-30T05:36:28.254021Z"
    }
   },
   "outputs": [],
   "source": [
    "df_hourly = pd.DataFrame(data['hourly'])\r\n",
    "df_daily = pd.DataFrame(data['daily'])"
   ]
  },
  {
   "cell_type": "code",
   "execution_count": 9,
   "metadata": {
    "execution": {
     "iopub.execute_input": "2021-08-30T05:36:28.257699Z",
     "iopub.status.busy": "2021-08-30T05:36:28.256451Z",
     "iopub.status.idle": "2021-08-30T05:36:28.662617Z",
     "shell.execute_reply": "2021-08-30T05:36:28.662043Z"
    }
   },
   "outputs": [
    {
     "data": {
      "image/png": "[encoded data removed]",
      "text/plain": [
       "<Figure size 864x432 with 1 Axes>"
      ]
     },
     "metadata": {
      "needs_background": "light"
     },
     "output_type": "display_data"
    }
   ],
   "source": [
    "fig, ax = plt.subplots(figsize=(12, 6))\r\n",
    "plt.plot(df_hourly.temp, '.-', label='Temperature')\r\n",
    "plt.plot(df_hourly.feels_like, '.-', label='Feels Like')\r\n",
    "ax.set(title='Temperature in future 48 hours', xlabel='Time', ylabel='Temperature')\r\n",
    "ax.set_xticks(list(range(0, len(df_hourly), 2)))\r\n",
    "ax.set_xticklabels([ts2dt(ts, '%m-%d %H:%M')[0] for i, ts in enumerate(df_hourly.dt) if i%2==0], \r\n",
    "                   rotation=45, ha=\"right\")\r\n",
    "ax.locator_params(nbins=15, axis='y')\r\n",
    "plt.legend()\r\n",
    "plt.show()"
   ]
  },
  {
   "cell_type": "code",
   "execution_count": 10,
   "metadata": {
    "execution": {
     "iopub.execute_input": "2021-08-30T05:36:28.678064Z",
     "iopub.status.busy": "2021-08-30T05:36:28.666939Z",
     "iopub.status.idle": "2021-08-30T05:36:28.694350Z",
     "shell.execute_reply": "2021-08-30T05:36:28.693830Z"
    }
   },
   "outputs": [
    {
     "data": {
      "text/html": [
       "<div>\n",
       "<style scoped>\n",
       "    .dataframe tbody tr th:only-of-type {\n",
       "        vertical-align: middle;\n",
       "    }\n",
       "\n",
       "    .dataframe tbody tr th {\n",
       "        vertical-align: top;\n",
       "    }\n",
       "\n",
       "    .dataframe thead th {\n",
       "        text-align: right;\n",
       "    }\n",
       "</style>\n",
       "<table border=\"1\" class=\"dataframe\">\n",
       "  <thead>\n",
       "    <tr style=\"text-align: right;\">\n",
       "      <th></th>\n",
       "      <th>dt</th>\n",
       "      <th>temp</th>\n",
       "      <th>feels_like</th>\n",
       "      <th>pressure</th>\n",
       "      <th>humidity</th>\n",
       "      <th>dew_point</th>\n",
       "      <th>uvi</th>\n",
       "      <th>clouds</th>\n",
       "      <th>visibility</th>\n",
       "      <th>wind_speed</th>\n",
       "      <th>wind_deg</th>\n",
       "      <th>wind_gust</th>\n",
       "      <th>weather</th>\n",
       "      <th>pop</th>\n",
       "      <th>rain</th>\n",
       "    </tr>\n",
       "  </thead>\n",
       "  <tbody>\n",
       "    <tr>\n",
       "      <th>0</th>\n",
       "      <td>1630299600</td>\n",
       "      <td>32.14</td>\n",
       "      <td>39.14</td>\n",
       "      <td>1011</td>\n",
       "      <td>68</td>\n",
       "      <td>25.48</td>\n",
       "      <td>11.63</td>\n",
       "      <td>11</td>\n",
       "      <td>10000</td>\n",
       "      <td>5.35</td>\n",
       "      <td>81</td>\n",
       "      <td>6.08</td>\n",
       "      <td>[{'id': 801, 'main': 'Clouds', 'description': ...</td>\n",
       "      <td>0.07</td>\n",
       "      <td>NaN</td>\n",
       "    </tr>\n",
       "    <tr>\n",
       "      <th>1</th>\n",
       "      <td>1630303200</td>\n",
       "      <td>32.64</td>\n",
       "      <td>39.64</td>\n",
       "      <td>1011</td>\n",
       "      <td>69</td>\n",
       "      <td>26.20</td>\n",
       "      <td>9.64</td>\n",
       "      <td>11</td>\n",
       "      <td>10000</td>\n",
       "      <td>5.57</td>\n",
       "      <td>88</td>\n",
       "      <td>6.28</td>\n",
       "      <td>[{'id': 801, 'main': 'Clouds', 'description': ...</td>\n",
       "      <td>0.07</td>\n",
       "      <td>NaN</td>\n",
       "    </tr>\n",
       "    <tr>\n",
       "      <th>2</th>\n",
       "      <td>1630306800</td>\n",
       "      <td>32.15</td>\n",
       "      <td>39.15</td>\n",
       "      <td>1011</td>\n",
       "      <td>68</td>\n",
       "      <td>25.49</td>\n",
       "      <td>6.45</td>\n",
       "      <td>11</td>\n",
       "      <td>10000</td>\n",
       "      <td>5.47</td>\n",
       "      <td>94</td>\n",
       "      <td>6.45</td>\n",
       "      <td>[{'id': 501, 'main': 'Rain', 'description': 'm...</td>\n",
       "      <td>0.20</td>\n",
       "      <td>{'1h': 1.54}</td>\n",
       "    </tr>\n",
       "    <tr>\n",
       "      <th>3</th>\n",
       "      <td>1630310400</td>\n",
       "      <td>31.54</td>\n",
       "      <td>38.43</td>\n",
       "      <td>1011</td>\n",
       "      <td>68</td>\n",
       "      <td>24.91</td>\n",
       "      <td>3.40</td>\n",
       "      <td>16</td>\n",
       "      <td>10000</td>\n",
       "      <td>5.43</td>\n",
       "      <td>100</td>\n",
       "      <td>6.72</td>\n",
       "      <td>[{'id': 801, 'main': 'Clouds', 'description': ...</td>\n",
       "      <td>0.07</td>\n",
       "      <td>NaN</td>\n",
       "    </tr>\n",
       "    <tr>\n",
       "      <th>4</th>\n",
       "      <td>1630314000</td>\n",
       "      <td>30.77</td>\n",
       "      <td>37.28</td>\n",
       "      <td>1010</td>\n",
       "      <td>71</td>\n",
       "      <td>24.90</td>\n",
       "      <td>1.23</td>\n",
       "      <td>24</td>\n",
       "      <td>10000</td>\n",
       "      <td>4.93</td>\n",
       "      <td>104</td>\n",
       "      <td>6.89</td>\n",
       "      <td>[{'id': 801, 'main': 'Clouds', 'description': ...</td>\n",
       "      <td>0.22</td>\n",
       "      <td>NaN</td>\n",
       "    </tr>\n",
       "  </tbody>\n",
       "</table>\n",
       "</div>"
      ],
      "text/plain": [
       "           dt   temp  feels_like  pressure  humidity  dew_point    uvi  \\\n",
       "0  1630299600  32.14       39.14      1011        68      25.48  11.63   \n",
       "1  1630303200  32.64       39.64      1011        69      26.20   9.64   \n",
       "2  1630306800  32.15       39.15      1011        68      25.49   6.45   \n",
       "3  1630310400  31.54       38.43      1011        68      24.91   3.40   \n",
       "4  1630314000  30.77       37.28      1010        71      24.90   1.23   \n",
       "\n",
       "   clouds  visibility  wind_speed  wind_deg  wind_gust  \\\n",
       "0      11       10000        5.35        81       6.08   \n",
       "1      11       10000        5.57        88       6.28   \n",
       "2      11       10000        5.47        94       6.45   \n",
       "3      16       10000        5.43       100       6.72   \n",
       "4      24       10000        4.93       104       6.89   \n",
       "\n",
       "                                             weather   pop          rain  \n",
       "0  [{'id': 801, 'main': 'Clouds', 'description': ...  0.07           NaN  \n",
       "1  [{'id': 801, 'main': 'Clouds', 'description': ...  0.07           NaN  \n",
       "2  [{'id': 501, 'main': 'Rain', 'description': 'm...  0.20  {'1h': 1.54}  \n",
       "3  [{'id': 801, 'main': 'Clouds', 'description': ...  0.07           NaN  \n",
       "4  [{'id': 801, 'main': 'Clouds', 'description': ...  0.22           NaN  "
      ]
     },
     "execution_count": 10,
     "metadata": {},
     "output_type": "execute_result"
    }
   ],
   "source": [
    "df_hourly.head()"
   ]
  },
  {
   "cell_type": "code",
   "execution_count": null,
   "metadata": {},
   "outputs": [],
   "source": []
  }
 ],
 "metadata": {
  "interpreter": {
   "hash": "c1b4cfe941b6d2466ad1fb5979e97da9cda8801728c8091b097ab734208fc00c"
  },
  "kernelspec": {
   "display_name": "Python 3.8.3 64-bit ('base': conda)",
   "name": "python3"
  },
  "language_info": {
   "codemirror_mode": {
    "name": "ipython",
    "version": 3
   },
   "file_extension": ".py",
   "mimetype": "text/x-python",
   "name": "python",
   "nbconvert_exporter": "python",
   "pygments_lexer": "ipython3",
   "version": "3.8.11"
  }
 },
 "nbformat": 4,
 "nbformat_minor": 2
}
