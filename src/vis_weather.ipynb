{
 "cells": [
  {
   "cell_type": "code",
   "execution_count": 1,
   "metadata": {
    "execution": {
     "iopub.execute_input": "2021-09-30T11:09:57.352218Z",
     "iopub.status.busy": "2021-09-30T11:09:57.351671Z",
     "iopub.status.idle": "2021-09-30T11:09:59.783585Z",
     "shell.execute_reply": "2021-09-30T11:09:59.782977Z"
    }
   },
   "outputs": [],
   "source": [
    "import json, yaml, requests\r\n",
    "from datetime import datetime\r\n",
    "from dateutil import tz\r\n",
    "import pandas as pd\r\n",
    "from PIL import Image\r\n",
    "from io import BytesIO\r\n",
    "import matplotlib.pyplot as plt\r\n",
    "import seaborn\r\n",
    "\r\n",
    "CONFIG_PATH = \"../config/config.yaml\""
   ]
  },
  {
   "cell_type": "code",
   "execution_count": 2,
   "metadata": {
    "execution": {
     "iopub.execute_input": "2021-09-30T11:09:59.788979Z",
     "iopub.status.busy": "2021-09-30T11:09:59.788090Z",
     "iopub.status.idle": "2021-09-30T11:09:59.793206Z",
     "shell.execute_reply": "2021-09-30T11:09:59.792578Z"
    }
   },
   "outputs": [],
   "source": [
    "with open('../newest_ts', 'r') as f:\r\n",
    "    newest_ts = f.read()\r\n",
    "\r\n",
    "data_path = f\"../data/data_{newest_ts}.json\"\r\n",
    "with open(data_path, 'r') as f:\r\n",
    "    data = json.load(f)\r\n",
    "\r\n",
    "with open(CONFIG_PATH, \"r\") as stream:\r\n",
    "    config = yaml.safe_load(stream)\r\n",
    "\r\n",
    "TIME_ZONE = config['time_zone']\r\n",
    "DATETIME_FORMAT = config['dt_format']"
   ]
  },
  {
   "cell_type": "code",
   "execution_count": 3,
   "metadata": {
    "execution": {
     "iopub.execute_input": "2021-09-30T11:09:59.797312Z",
     "iopub.status.busy": "2021-09-30T11:09:59.796823Z",
     "iopub.status.idle": "2021-09-30T11:09:59.825178Z",
     "shell.execute_reply": "2021-09-30T11:09:59.824717Z"
    }
   },
   "outputs": [
    {
     "name": "stdout",
     "output_type": "stream",
     "text": [
      "Recent query happens at 2021-09-30 19:09:54 (CST).\n"
     ]
    }
   ],
   "source": [
    "def ts2dt(ts, format=DATETIME_FORMAT):\r\n",
    "    dt = (datetime.utcfromtimestamp(int(ts))\r\n",
    "                    .replace(tzinfo=tz.tzutc())\r\n",
    "                    # .astimezone(tz.tzlocal())\r\n",
    "                    .astimezone(tz.gettz(TIME_ZONE)))\r\n",
    "    return dt.strftime(format), dt\r\n",
    "\r\n",
    "_, newest_dt = ts2dt(newest_ts)\r\n",
    "print(f\"Recent query happens at {newest_dt.strftime(DATETIME_FORMAT)} ({newest_dt.tzname()}).\")"
   ]
  },
  {
   "cell_type": "code",
   "execution_count": 4,
   "metadata": {
    "execution": {
     "iopub.execute_input": "2021-09-30T11:09:59.830358Z",
     "iopub.status.busy": "2021-09-30T11:09:59.829316Z",
     "iopub.status.idle": "2021-09-30T11:09:59.830987Z",
     "shell.execute_reply": "2021-09-30T11:09:59.831354Z"
    }
   },
   "outputs": [],
   "source": [
    "def degrees_to_cardinal(d):\r\n",
    "  dirs = ['N', 'NNE', 'NE', 'ENE', 'E', 'ESE', 'SE', 'SSE', 'S', 'SSW', 'SW', 'WSW', 'W', 'WNW', 'NW', 'NNW']\r\n",
    "  ix = int(round(d / (360. / len(dirs))))\r\n",
    "  return dirs[ix % len(dirs)]"
   ]
  },
  {
   "cell_type": "code",
   "execution_count": 5,
   "metadata": {
    "execution": {
     "iopub.execute_input": "2021-09-30T11:09:59.835207Z",
     "iopub.status.busy": "2021-09-30T11:09:59.834117Z",
     "iopub.status.idle": "2021-09-30T11:09:59.835725Z",
     "shell.execute_reply": "2021-09-30T11:09:59.836086Z"
    }
   },
   "outputs": [],
   "source": [
    "# data.keys()"
   ]
  },
  {
   "cell_type": "code",
   "execution_count": 6,
   "metadata": {
    "execution": {
     "iopub.execute_input": "2021-09-30T11:09:59.839871Z",
     "iopub.status.busy": "2021-09-30T11:09:59.838738Z",
     "iopub.status.idle": "2021-09-30T11:09:59.840383Z",
     "shell.execute_reply": "2021-09-30T11:09:59.840742Z"
    }
   },
   "outputs": [],
   "source": [
    "# data['current']"
   ]
  },
  {
   "cell_type": "code",
   "execution_count": 7,
   "metadata": {
    "execution": {
     "iopub.execute_input": "2021-09-30T11:09:59.857440Z",
     "iopub.status.busy": "2021-09-30T11:09:59.856978Z",
     "iopub.status.idle": "2021-09-30T11:10:00.246627Z",
     "shell.execute_reply": "2021-09-30T11:10:00.247313Z"
    }
   },
   "outputs": [
    {
     "data": {
      "image/png": "[encoded data removed]",
      "text/plain": [
       "<Figure size 216x216 with 1 Axes>"
      ]
     },
     "metadata": {
      "needs_background": "light"
     },
     "output_type": "display_data"
    },
    {
     "name": "stdout",
     "output_type": "stream",
     "text": [
      "Today, sun rises at 06:13 and sets at 18:12.\n",
      "Currently, the weather is Clouds (few clouds).\n",
      "The temperature is 30.11°C and it feels like 37.11°C.\n",
      "The UV index is 0, humidity is 82%.\n",
      "The pressure is 1010 hPa, percentage of cloud cover is 18%\n",
      "The wind comes from SSW direction with a speed 0.45 m/s.\n"
     ]
    }
   ],
   "source": [
    "current = data['current']\r\n",
    "\r\n",
    "fig, ax = plt.subplots(figsize=(3, 3))\r\n",
    "icon = requests.get(f\"http://openweathermap.org/img/wn/{current['weather'][0]['icon']}@2x.png\")\r\n",
    "im = Image.open(BytesIO(icon.content))\r\n",
    "plt.imshow(im)\r\n",
    "ax.set_axis_off()\r\n",
    "plt.show()\r\n",
    "\r\n",
    "print(f\"Today, sun rises at {ts2dt(current['sunrise'], '%H:%M')[0]} \\\r\n",
    "and sets at {ts2dt(current['sunset'], '%H:%M')[0]}.\\n\\\r\n",
    "Currently, the weather is {current['weather'][0]['main']} ({current['weather'][0]['description']}).\\n\\\r\n",
    "The temperature is {current['temp']}°C and it feels like {current['feels_like']}°C.\\n\\\r\n",
    "The UV index is {current['uvi']}, humidity is {current['humidity']}%.\\n\\\r\n",
    "The pressure is {current['pressure']} hPa, percentage of cloud cover is {current['clouds']}%\\n\\\r\n",
    "The wind comes from {degrees_to_cardinal(current['wind_deg'])} direction with a speed {current['wind_speed']} m/s.\")"
   ]
  },
  {
   "cell_type": "code",
   "execution_count": 8,
   "metadata": {
    "execution": {
     "iopub.execute_input": "2021-09-30T11:10:00.250333Z",
     "iopub.status.busy": "2021-09-30T11:10:00.249886Z",
     "iopub.status.idle": "2021-09-30T11:10:00.256294Z",
     "shell.execute_reply": "2021-09-30T11:10:00.256935Z"
    }
   },
   "outputs": [],
   "source": [
    "df_hourly = pd.DataFrame(data['hourly'])\r\n",
    "df_daily = pd.DataFrame(data['daily'])"
   ]
  },
  {
   "cell_type": "code",
   "execution_count": 9,
   "metadata": {
    "execution": {
     "iopub.execute_input": "2021-09-30T11:10:00.259933Z",
     "iopub.status.busy": "2021-09-30T11:10:00.259008Z",
     "iopub.status.idle": "2021-09-30T11:10:00.499526Z",
     "shell.execute_reply": "2021-09-30T11:10:00.499951Z"
    }
   },
   "outputs": [
    {
     "data": {
      "image/png": "[encoded data removed]",
      "text/plain": [
       "<Figure size 864x432 with 1 Axes>"
      ]
     },
     "metadata": {
      "needs_background": "light"
     },
     "output_type": "display_data"
    }
   ],
   "source": [
    "fig, ax = plt.subplots(figsize=(12, 6))\r\n",
    "plt.plot(df_hourly.temp, '.-', label='Temperature')\r\n",
    "plt.plot(df_hourly.feels_like, '.-', label='Feels Like')\r\n",
    "ax.set(title='Temperature in future 48 hours', xlabel='Time', ylabel='Temperature')\r\n",
    "ax.set_xticks(list(range(0, len(df_hourly), 2)))\r\n",
    "ax.set_xticklabels([ts2dt(ts, '%m-%d %H:%M')[0] for i, ts in enumerate(df_hourly.dt) if i%2==0], \r\n",
    "                   rotation=45, ha=\"right\")\r\n",
    "ax.locator_params(nbins=15, axis='y')\r\n",
    "plt.legend()\r\n",
    "plt.show()"
   ]
  },
  {
   "cell_type": "code",
   "execution_count": 10,
   "metadata": {
    "execution": {
     "iopub.execute_input": "2021-09-30T11:10:00.510915Z",
     "iopub.status.busy": "2021-09-30T11:10:00.503806Z",
     "iopub.status.idle": "2021-09-30T11:10:00.521423Z",
     "shell.execute_reply": "2021-09-30T11:10:00.521038Z"
    }
   },
   "outputs": [
    {
     "data": {
      "text/html": [
       "<div>\n",
       "<style scoped>\n",
       "    .dataframe tbody tr th:only-of-type {\n",
       "        vertical-align: middle;\n",
       "    }\n",
       "\n",
       "    .dataframe tbody tr th {\n",
       "        vertical-align: top;\n",
       "    }\n",
       "\n",
       "    .dataframe thead th {\n",
       "        text-align: right;\n",
       "    }\n",
       "</style>\n",
       "<table border=\"1\" class=\"dataframe\">\n",
       "  <thead>\n",
       "    <tr style=\"text-align: right;\">\n",
       "      <th></th>\n",
       "      <th>dt</th>\n",
       "      <th>temp</th>\n",
       "      <th>feels_like</th>\n",
       "      <th>pressure</th>\n",
       "      <th>humidity</th>\n",
       "      <th>dew_point</th>\n",
       "      <th>uvi</th>\n",
       "      <th>clouds</th>\n",
       "      <th>visibility</th>\n",
       "      <th>wind_speed</th>\n",
       "      <th>wind_deg</th>\n",
       "      <th>wind_gust</th>\n",
       "      <th>weather</th>\n",
       "      <th>pop</th>\n",
       "      <th>rain</th>\n",
       "    </tr>\n",
       "  </thead>\n",
       "  <tbody>\n",
       "    <tr>\n",
       "      <th>0</th>\n",
       "      <td>1632999600</td>\n",
       "      <td>30.11</td>\n",
       "      <td>37.11</td>\n",
       "      <td>1010</td>\n",
       "      <td>82</td>\n",
       "      <td>26.69</td>\n",
       "      <td>0.0</td>\n",
       "      <td>18</td>\n",
       "      <td>10000</td>\n",
       "      <td>3.63</td>\n",
       "      <td>214</td>\n",
       "      <td>4.03</td>\n",
       "      <td>[{'id': 801, 'main': 'Clouds', 'description': ...</td>\n",
       "      <td>0.03</td>\n",
       "      <td>NaN</td>\n",
       "    </tr>\n",
       "    <tr>\n",
       "      <th>1</th>\n",
       "      <td>1633003200</td>\n",
       "      <td>29.84</td>\n",
       "      <td>36.84</td>\n",
       "      <td>1010</td>\n",
       "      <td>81</td>\n",
       "      <td>26.22</td>\n",
       "      <td>0.0</td>\n",
       "      <td>18</td>\n",
       "      <td>10000</td>\n",
       "      <td>3.68</td>\n",
       "      <td>219</td>\n",
       "      <td>4.09</td>\n",
       "      <td>[{'id': 801, 'main': 'Clouds', 'description': ...</td>\n",
       "      <td>0.03</td>\n",
       "      <td>NaN</td>\n",
       "    </tr>\n",
       "    <tr>\n",
       "      <th>2</th>\n",
       "      <td>1633006800</td>\n",
       "      <td>29.50</td>\n",
       "      <td>36.42</td>\n",
       "      <td>1009</td>\n",
       "      <td>81</td>\n",
       "      <td>25.89</td>\n",
       "      <td>0.0</td>\n",
       "      <td>11</td>\n",
       "      <td>10000</td>\n",
       "      <td>3.36</td>\n",
       "      <td>224</td>\n",
       "      <td>3.82</td>\n",
       "      <td>[{'id': 801, 'main': 'Clouds', 'description': ...</td>\n",
       "      <td>0.21</td>\n",
       "      <td>NaN</td>\n",
       "    </tr>\n",
       "    <tr>\n",
       "      <th>3</th>\n",
       "      <td>1633010400</td>\n",
       "      <td>29.11</td>\n",
       "      <td>35.05</td>\n",
       "      <td>1009</td>\n",
       "      <td>80</td>\n",
       "      <td>25.30</td>\n",
       "      <td>0.0</td>\n",
       "      <td>8</td>\n",
       "      <td>10000</td>\n",
       "      <td>2.64</td>\n",
       "      <td>217</td>\n",
       "      <td>3.02</td>\n",
       "      <td>[{'id': 500, 'main': 'Rain', 'description': 'l...</td>\n",
       "      <td>0.39</td>\n",
       "      <td>{'1h': 0.11}</td>\n",
       "    </tr>\n",
       "    <tr>\n",
       "      <th>4</th>\n",
       "      <td>1633014000</td>\n",
       "      <td>28.69</td>\n",
       "      <td>34.09</td>\n",
       "      <td>1009</td>\n",
       "      <td>81</td>\n",
       "      <td>25.10</td>\n",
       "      <td>0.0</td>\n",
       "      <td>4</td>\n",
       "      <td>10000</td>\n",
       "      <td>2.66</td>\n",
       "      <td>213</td>\n",
       "      <td>2.87</td>\n",
       "      <td>[{'id': 800, 'main': 'Clear', 'description': '...</td>\n",
       "      <td>0.35</td>\n",
       "      <td>NaN</td>\n",
       "    </tr>\n",
       "  </tbody>\n",
       "</table>\n",
       "</div>"
      ],
      "text/plain": [
       "           dt   temp  feels_like  pressure  humidity  dew_point  uvi  clouds  \\\n",
       "0  1632999600  30.11       37.11      1010        82      26.69  0.0      18   \n",
       "1  1633003200  29.84       36.84      1010        81      26.22  0.0      18   \n",
       "2  1633006800  29.50       36.42      1009        81      25.89  0.0      11   \n",
       "3  1633010400  29.11       35.05      1009        80      25.30  0.0       8   \n",
       "4  1633014000  28.69       34.09      1009        81      25.10  0.0       4   \n",
       "\n",
       "   visibility  wind_speed  wind_deg  wind_gust  \\\n",
       "0       10000        3.63       214       4.03   \n",
       "1       10000        3.68       219       4.09   \n",
       "2       10000        3.36       224       3.82   \n",
       "3       10000        2.64       217       3.02   \n",
       "4       10000        2.66       213       2.87   \n",
       "\n",
       "                                             weather   pop          rain  \n",
       "0  [{'id': 801, 'main': 'Clouds', 'description': ...  0.03           NaN  \n",
       "1  [{'id': 801, 'main': 'Clouds', 'description': ...  0.03           NaN  \n",
       "2  [{'id': 801, 'main': 'Clouds', 'description': ...  0.21           NaN  \n",
       "3  [{'id': 500, 'main': 'Rain', 'description': 'l...  0.39  {'1h': 0.11}  \n",
       "4  [{'id': 800, 'main': 'Clear', 'description': '...  0.35           NaN  "
      ]
     },
     "execution_count": 10,
     "metadata": {},
     "output_type": "execute_result"
    }
   ],
   "source": [
    "df_hourly.head()"
   ]
  },
  {
   "cell_type": "code",
   "execution_count": null,
   "metadata": {},
   "outputs": [],
   "source": []
  }
 ],
 "metadata": {
  "interpreter": {
   "hash": "c1b4cfe941b6d2466ad1fb5979e97da9cda8801728c8091b097ab734208fc00c"
  },
  "kernelspec": {
   "display_name": "Python 3.8.3 64-bit ('base': conda)",
   "name": "python3"
  },
  "language_info": {
   "codemirror_mode": {
    "name": "ipython",
    "version": 3
   },
   "file_extension": ".py",
   "mimetype": "text/x-python",
   "name": "python",
   "nbconvert_exporter": "python",
   "pygments_lexer": "ipython3",
   "version": "3.8.12"
  }
 },
 "nbformat": 4,
 "nbformat_minor": 2
}
