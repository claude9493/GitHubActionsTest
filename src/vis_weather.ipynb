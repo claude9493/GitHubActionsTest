{
 "cells": [
  {
   "cell_type": "code",
   "execution_count": 1,
   "metadata": {
    "execution": {
     "iopub.execute_input": "2021-09-10T11:36:45.109395Z",
     "iopub.status.busy": "2021-09-10T11:36:45.108757Z",
     "iopub.status.idle": "2021-09-10T11:36:50.031064Z",
     "shell.execute_reply": "2021-09-10T11:36:50.030109Z"
    }
   },
   "outputs": [],
   "source": [
    "import json, yaml, requests\r\n",
    "from datetime import datetime\r\n",
    "from dateutil import tz\r\n",
    "import pandas as pd\r\n",
    "from PIL import Image\r\n",
    "from io import BytesIO\r\n",
    "import matplotlib.pyplot as plt\r\n",
    "import seaborn\r\n",
    "\r\n",
    "CONFIG_PATH = \"../config/config.yaml\""
   ]
  },
  {
   "cell_type": "code",
   "execution_count": 2,
   "metadata": {
    "execution": {
     "iopub.execute_input": "2021-09-10T11:36:50.036573Z",
     "iopub.status.busy": "2021-09-10T11:36:50.035569Z",
     "iopub.status.idle": "2021-09-10T11:36:50.041248Z",
     "shell.execute_reply": "2021-09-10T11:36:50.040828Z"
    }
   },
   "outputs": [],
   "source": [
    "with open('../newest_ts', 'r') as f:\r\n",
    "    newest_ts = f.read()\r\n",
    "\r\n",
    "data_path = f\"../data/data_{newest_ts}.json\"\r\n",
    "with open(data_path, 'r') as f:\r\n",
    "    data = json.load(f)\r\n",
    "\r\n",
    "with open(CONFIG_PATH, \"r\") as stream:\r\n",
    "    config = yaml.safe_load(stream)\r\n",
    "\r\n",
    "TIME_ZONE = config['time_zone']\r\n",
    "DATETIME_FORMAT = config['dt_format']"
   ]
  },
  {
   "cell_type": "code",
   "execution_count": 3,
   "metadata": {
    "execution": {
     "iopub.execute_input": "2021-09-10T11:36:50.045423Z",
     "iopub.status.busy": "2021-09-10T11:36:50.044972Z",
     "iopub.status.idle": "2021-09-10T11:36:50.072286Z",
     "shell.execute_reply": "2021-09-10T11:36:50.071899Z"
    }
   },
   "outputs": [
    {
     "name": "stdout",
     "output_type": "stream",
     "text": [
      "Recent query happens at 2021-09-10 19:36:41 (CST).\n"
     ]
    }
   ],
   "source": [
    "def ts2dt(ts, format=DATETIME_FORMAT):\r\n",
    "    dt = (datetime.utcfromtimestamp(int(ts))\r\n",
    "                    .replace(tzinfo=tz.tzutc())\r\n",
    "                    # .astimezone(tz.tzlocal())\r\n",
    "                    .astimezone(tz.gettz(TIME_ZONE)))\r\n",
    "    return dt.strftime(format), dt\r\n",
    "\r\n",
    "_, newest_dt = ts2dt(newest_ts)\r\n",
    "print(f\"Recent query happens at {newest_dt.strftime(DATETIME_FORMAT)} ({newest_dt.tzname()}).\")"
   ]
  },
  {
   "cell_type": "code",
   "execution_count": 4,
   "metadata": {
    "execution": {
     "iopub.execute_input": "2021-09-10T11:36:50.076833Z",
     "iopub.status.busy": "2021-09-10T11:36:50.075835Z",
     "iopub.status.idle": "2021-09-10T11:36:50.077448Z",
     "shell.execute_reply": "2021-09-10T11:36:50.077816Z"
    }
   },
   "outputs": [],
   "source": [
    "def degrees_to_cardinal(d):\r\n",
    "  dirs = ['N', 'NNE', 'NE', 'ENE', 'E', 'ESE', 'SE', 'SSE', 'S', 'SSW', 'SW', 'WSW', 'W', 'WNW', 'NW', 'NNW']\r\n",
    "  ix = int(round(d / (360. / len(dirs))))\r\n",
    "  return dirs[ix % len(dirs)]"
   ]
  },
  {
   "cell_type": "code",
   "execution_count": 5,
   "metadata": {
    "execution": {
     "iopub.execute_input": "2021-09-10T11:36:50.081594Z",
     "iopub.status.busy": "2021-09-10T11:36:50.080624Z",
     "iopub.status.idle": "2021-09-10T11:36:50.082098Z",
     "shell.execute_reply": "2021-09-10T11:36:50.082456Z"
    }
   },
   "outputs": [],
   "source": [
    "# data.keys()"
   ]
  },
  {
   "cell_type": "code",
   "execution_count": 6,
   "metadata": {
    "execution": {
     "iopub.execute_input": "2021-09-10T11:36:50.085889Z",
     "iopub.status.busy": "2021-09-10T11:36:50.084927Z",
     "iopub.status.idle": "2021-09-10T11:36:50.086396Z",
     "shell.execute_reply": "2021-09-10T11:36:50.086753Z"
    }
   },
   "outputs": [],
   "source": [
    "# data['current']"
   ]
  },
  {
   "cell_type": "code",
   "execution_count": 7,
   "metadata": {
    "execution": {
     "iopub.execute_input": "2021-09-10T11:36:50.102245Z",
     "iopub.status.busy": "2021-09-10T11:36:50.091950Z",
     "iopub.status.idle": "2021-09-10T11:36:50.434479Z",
     "shell.execute_reply": "2021-09-10T11:36:50.434913Z"
    }
   },
   "outputs": [
    {
     "data": {
      "image/png": "[encoded data removed]",
      "text/plain": [
       "<Figure size 216x216 with 1 Axes>"
      ]
     },
     "metadata": {
      "needs_background": "light"
     },
     "output_type": "display_data"
    },
    {
     "name": "stdout",
     "output_type": "stream",
     "text": [
      "Today, sun rises at 06:08 and sets at 18:32.\n",
      "Currently, the weather is Clouds (scattered clouds).\n",
      "The temperature is 31.24°C and it feels like 37.33°C.\n",
      "The UV index is 0, humidity is 67%.\n",
      "The pressure is 1007 hPa, percentage of cloud cover is 30%\n",
      "The wind comes from E direction with a speed 2.76 m/s.\n"
     ]
    }
   ],
   "source": [
    "current = data['current']\r\n",
    "\r\n",
    "fig, ax = plt.subplots(figsize=(3, 3))\r\n",
    "icon = requests.get(f\"http://openweathermap.org/img/wn/{current['weather'][0]['icon']}@2x.png\")\r\n",
    "im = Image.open(BytesIO(icon.content))\r\n",
    "plt.imshow(im)\r\n",
    "ax.set_axis_off()\r\n",
    "plt.show()\r\n",
    "\r\n",
    "print(f\"Today, sun rises at {ts2dt(current['sunrise'], '%H:%M')[0]} \\\r\n",
    "and sets at {ts2dt(current['sunset'], '%H:%M')[0]}.\\n\\\r\n",
    "Currently, the weather is {current['weather'][0]['main']} ({current['weather'][0]['description']}).\\n\\\r\n",
    "The temperature is {current['temp']}°C and it feels like {current['feels_like']}°C.\\n\\\r\n",
    "The UV index is {current['uvi']}, humidity is {current['humidity']}%.\\n\\\r\n",
    "The pressure is {current['pressure']} hPa, percentage of cloud cover is {current['clouds']}%\\n\\\r\n",
    "The wind comes from {degrees_to_cardinal(current['wind_deg'])} direction with a speed {current['wind_speed']} m/s.\")"
   ]
  },
  {
   "cell_type": "code",
   "execution_count": 8,
   "metadata": {
    "execution": {
     "iopub.execute_input": "2021-09-10T11:36:50.437424Z",
     "iopub.status.busy": "2021-09-10T11:36:50.436978Z",
     "iopub.status.idle": "2021-09-10T11:36:50.442854Z",
     "shell.execute_reply": "2021-09-10T11:36:50.443276Z"
    }
   },
   "outputs": [],
   "source": [
    "df_hourly = pd.DataFrame(data['hourly'])\r\n",
    "df_daily = pd.DataFrame(data['daily'])"
   ]
  },
  {
   "cell_type": "code",
   "execution_count": 9,
   "metadata": {
    "execution": {
     "iopub.execute_input": "2021-09-10T11:36:50.445394Z",
     "iopub.status.busy": "2021-09-10T11:36:50.444951Z",
     "iopub.status.idle": "2021-09-10T11:36:50.700365Z",
     "shell.execute_reply": "2021-09-10T11:36:50.699930Z"
    }
   },
   "outputs": [
    {
     "data": {
      "image/png": "[encoded data removed]",
      "text/plain": [
       "<Figure size 864x432 with 1 Axes>"
      ]
     },
     "metadata": {
      "needs_background": "light"
     },
     "output_type": "display_data"
    }
   ],
   "source": [
    "fig, ax = plt.subplots(figsize=(12, 6))\r\n",
    "plt.plot(df_hourly.temp, '.-', label='Temperature')\r\n",
    "plt.plot(df_hourly.feels_like, '.-', label='Feels Like')\r\n",
    "ax.set(title='Temperature in future 48 hours', xlabel='Time', ylabel='Temperature')\r\n",
    "ax.set_xticks(list(range(0, len(df_hourly), 2)))\r\n",
    "ax.set_xticklabels([ts2dt(ts, '%m-%d %H:%M')[0] for i, ts in enumerate(df_hourly.dt) if i%2==0], \r\n",
    "                   rotation=45, ha=\"right\")\r\n",
    "ax.locator_params(nbins=15, axis='y')\r\n",
    "plt.legend()\r\n",
    "plt.show()"
   ]
  },
  {
   "cell_type": "code",
   "execution_count": 10,
   "metadata": {
    "execution": {
     "iopub.execute_input": "2021-09-10T11:36:50.710762Z",
     "iopub.status.busy": "2021-09-10T11:36:50.703668Z",
     "iopub.status.idle": "2021-09-10T11:36:50.721368Z",
     "shell.execute_reply": "2021-09-10T11:36:50.720967Z"
    }
   },
   "outputs": [
    {
     "data": {
      "text/html": [
       "<div>\n",
       "<style scoped>\n",
       "    .dataframe tbody tr th:only-of-type {\n",
       "        vertical-align: middle;\n",
       "    }\n",
       "\n",
       "    .dataframe tbody tr th {\n",
       "        vertical-align: top;\n",
       "    }\n",
       "\n",
       "    .dataframe thead th {\n",
       "        text-align: right;\n",
       "    }\n",
       "</style>\n",
       "<table border=\"1\" class=\"dataframe\">\n",
       "  <thead>\n",
       "    <tr style=\"text-align: right;\">\n",
       "      <th></th>\n",
       "      <th>dt</th>\n",
       "      <th>temp</th>\n",
       "      <th>feels_like</th>\n",
       "      <th>pressure</th>\n",
       "      <th>humidity</th>\n",
       "      <th>dew_point</th>\n",
       "      <th>uvi</th>\n",
       "      <th>clouds</th>\n",
       "      <th>visibility</th>\n",
       "      <th>wind_speed</th>\n",
       "      <th>wind_deg</th>\n",
       "      <th>wind_gust</th>\n",
       "      <th>weather</th>\n",
       "      <th>pop</th>\n",
       "      <th>rain</th>\n",
       "    </tr>\n",
       "  </thead>\n",
       "  <tbody>\n",
       "    <tr>\n",
       "      <th>0</th>\n",
       "      <td>1631271600</td>\n",
       "      <td>30.64</td>\n",
       "      <td>36.65</td>\n",
       "      <td>1007</td>\n",
       "      <td>70</td>\n",
       "      <td>24.54</td>\n",
       "      <td>0.0</td>\n",
       "      <td>31</td>\n",
       "      <td>10000</td>\n",
       "      <td>2.67</td>\n",
       "      <td>104</td>\n",
       "      <td>3.99</td>\n",
       "      <td>[{'id': 802, 'main': 'Clouds', 'description': ...</td>\n",
       "      <td>0.18</td>\n",
       "      <td>NaN</td>\n",
       "    </tr>\n",
       "    <tr>\n",
       "      <th>1</th>\n",
       "      <td>1631275200</td>\n",
       "      <td>31.24</td>\n",
       "      <td>37.33</td>\n",
       "      <td>1007</td>\n",
       "      <td>67</td>\n",
       "      <td>24.38</td>\n",
       "      <td>0.0</td>\n",
       "      <td>30</td>\n",
       "      <td>10000</td>\n",
       "      <td>2.76</td>\n",
       "      <td>97</td>\n",
       "      <td>3.94</td>\n",
       "      <td>[{'id': 802, 'main': 'Clouds', 'description': ...</td>\n",
       "      <td>0.27</td>\n",
       "      <td>NaN</td>\n",
       "    </tr>\n",
       "    <tr>\n",
       "      <th>2</th>\n",
       "      <td>1631278800</td>\n",
       "      <td>30.64</td>\n",
       "      <td>36.93</td>\n",
       "      <td>1007</td>\n",
       "      <td>71</td>\n",
       "      <td>24.78</td>\n",
       "      <td>0.0</td>\n",
       "      <td>25</td>\n",
       "      <td>10000</td>\n",
       "      <td>2.88</td>\n",
       "      <td>91</td>\n",
       "      <td>4.04</td>\n",
       "      <td>[{'id': 802, 'main': 'Clouds', 'description': ...</td>\n",
       "      <td>0.14</td>\n",
       "      <td>NaN</td>\n",
       "    </tr>\n",
       "    <tr>\n",
       "      <th>3</th>\n",
       "      <td>1631282400</td>\n",
       "      <td>29.95</td>\n",
       "      <td>35.91</td>\n",
       "      <td>1007</td>\n",
       "      <td>74</td>\n",
       "      <td>24.81</td>\n",
       "      <td>0.0</td>\n",
       "      <td>20</td>\n",
       "      <td>10000</td>\n",
       "      <td>2.92</td>\n",
       "      <td>96</td>\n",
       "      <td>3.81</td>\n",
       "      <td>[{'id': 500, 'main': 'Rain', 'description': 'l...</td>\n",
       "      <td>0.55</td>\n",
       "      <td>{'1h': 0.28}</td>\n",
       "    </tr>\n",
       "    <tr>\n",
       "      <th>4</th>\n",
       "      <td>1631286000</td>\n",
       "      <td>29.34</td>\n",
       "      <td>35.00</td>\n",
       "      <td>1008</td>\n",
       "      <td>77</td>\n",
       "      <td>24.89</td>\n",
       "      <td>0.0</td>\n",
       "      <td>16</td>\n",
       "      <td>10000</td>\n",
       "      <td>2.70</td>\n",
       "      <td>103</td>\n",
       "      <td>3.45</td>\n",
       "      <td>[{'id': 500, 'main': 'Rain', 'description': 'l...</td>\n",
       "      <td>0.64</td>\n",
       "      <td>{'1h': 0.27}</td>\n",
       "    </tr>\n",
       "  </tbody>\n",
       "</table>\n",
       "</div>"
      ],
      "text/plain": [
       "           dt   temp  feels_like  pressure  humidity  dew_point  uvi  clouds  \\\n",
       "0  1631271600  30.64       36.65      1007        70      24.54  0.0      31   \n",
       "1  1631275200  31.24       37.33      1007        67      24.38  0.0      30   \n",
       "2  1631278800  30.64       36.93      1007        71      24.78  0.0      25   \n",
       "3  1631282400  29.95       35.91      1007        74      24.81  0.0      20   \n",
       "4  1631286000  29.34       35.00      1008        77      24.89  0.0      16   \n",
       "\n",
       "   visibility  wind_speed  wind_deg  wind_gust  \\\n",
       "0       10000        2.67       104       3.99   \n",
       "1       10000        2.76        97       3.94   \n",
       "2       10000        2.88        91       4.04   \n",
       "3       10000        2.92        96       3.81   \n",
       "4       10000        2.70       103       3.45   \n",
       "\n",
       "                                             weather   pop          rain  \n",
       "0  [{'id': 802, 'main': 'Clouds', 'description': ...  0.18           NaN  \n",
       "1  [{'id': 802, 'main': 'Clouds', 'description': ...  0.27           NaN  \n",
       "2  [{'id': 802, 'main': 'Clouds', 'description': ...  0.14           NaN  \n",
       "3  [{'id': 500, 'main': 'Rain', 'description': 'l...  0.55  {'1h': 0.28}  \n",
       "4  [{'id': 500, 'main': 'Rain', 'description': 'l...  0.64  {'1h': 0.27}  "
      ]
     },
     "execution_count": 10,
     "metadata": {},
     "output_type": "execute_result"
    }
   ],
   "source": [
    "df_hourly.head()"
   ]
  },
  {
   "cell_type": "code",
   "execution_count": null,
   "metadata": {},
   "outputs": [],
   "source": []
  }
 ],
 "metadata": {
  "interpreter": {
   "hash": "c1b4cfe941b6d2466ad1fb5979e97da9cda8801728c8091b097ab734208fc00c"
  },
  "kernelspec": {
   "display_name": "Python 3.8.3 64-bit ('base': conda)",
   "name": "python3"
  },
  "language_info": {
   "codemirror_mode": {
    "name": "ipython",
    "version": 3
   },
   "file_extension": ".py",
   "mimetype": "text/x-python",
   "name": "python",
   "nbconvert_exporter": "python",
   "pygments_lexer": "ipython3",
   "version": "3.8.11"
  }
 },
 "nbformat": 4,
 "nbformat_minor": 2
}
