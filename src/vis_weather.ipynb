{
 "cells": [
  {
   "cell_type": "code",
   "execution_count": 1,
   "metadata": {
    "execution": {
     "iopub.execute_input": "2021-09-01T08:41:46.632022Z",
     "iopub.status.busy": "2021-09-01T08:41:46.631391Z",
     "iopub.status.idle": "2021-09-01T08:41:50.357554Z",
     "shell.execute_reply": "2021-09-01T08:41:50.356920Z"
    }
   },
   "outputs": [],
   "source": [
    "import json, yaml, requests\r\n",
    "from datetime import datetime\r\n",
    "from dateutil import tz\r\n",
    "import pandas as pd\r\n",
    "from PIL import Image\r\n",
    "from io import BytesIO\r\n",
    "import matplotlib.pyplot as plt\r\n",
    "import seaborn\r\n",
    "\r\n",
    "CONFIG_PATH = \"../config/config.yaml\""
   ]
  },
  {
   "cell_type": "code",
   "execution_count": 2,
   "metadata": {
    "execution": {
     "iopub.execute_input": "2021-09-01T08:41:50.366805Z",
     "iopub.status.busy": "2021-09-01T08:41:50.363637Z",
     "iopub.status.idle": "2021-09-01T08:41:50.370542Z",
     "shell.execute_reply": "2021-09-01T08:41:50.370083Z"
    }
   },
   "outputs": [],
   "source": [
    "with open('../newest_ts', 'r') as f:\r\n",
    "    newest_ts = f.read()\r\n",
    "\r\n",
    "data_path = f\"../data/data_{newest_ts}.json\"\r\n",
    "with open(data_path, 'r') as f:\r\n",
    "    data = json.load(f)\r\n",
    "\r\n",
    "with open(CONFIG_PATH, \"r\") as stream:\r\n",
    "    config = yaml.safe_load(stream)\r\n",
    "\r\n",
    "TIME_ZONE = config['time_zone']\r\n",
    "DATETIME_FORMAT = config['dt_format']"
   ]
  },
  {
   "cell_type": "code",
   "execution_count": 3,
   "metadata": {
    "execution": {
     "iopub.execute_input": "2021-09-01T08:41:50.375895Z",
     "iopub.status.busy": "2021-09-01T08:41:50.375337Z",
     "iopub.status.idle": "2021-09-01T08:41:50.385902Z",
     "shell.execute_reply": "2021-09-01T08:41:50.386285Z"
    }
   },
   "outputs": [
    {
     "name": "stdout",
     "output_type": "stream",
     "text": [
      "Recent query happens at 2021-09-01 16:41:43 (CST).\n"
     ]
    }
   ],
   "source": [
    "def ts2dt(ts, format=DATETIME_FORMAT):\r\n",
    "    dt = (datetime.utcfromtimestamp(int(ts))\r\n",
    "                    .replace(tzinfo=tz.tzutc())\r\n",
    "                    # .astimezone(tz.tzlocal())\r\n",
    "                    .astimezone(tz.gettz(TIME_ZONE)))\r\n",
    "    return dt.strftime(format), dt\r\n",
    "\r\n",
    "_, newest_dt = ts2dt(newest_ts)\r\n",
    "print(f\"Recent query happens at {newest_dt.strftime(DATETIME_FORMAT)} ({newest_dt.tzname()}).\")"
   ]
  },
  {
   "cell_type": "code",
   "execution_count": 4,
   "metadata": {
    "execution": {
     "iopub.execute_input": "2021-09-01T08:41:50.392116Z",
     "iopub.status.busy": "2021-09-01T08:41:50.391021Z",
     "iopub.status.idle": "2021-09-01T08:41:50.393501Z",
     "shell.execute_reply": "2021-09-01T08:41:50.393057Z"
    }
   },
   "outputs": [],
   "source": [
    "def degrees_to_cardinal(d):\r\n",
    "  dirs = ['N', 'NNE', 'NE', 'ENE', 'E', 'ESE', 'SE', 'SSE', 'S', 'SSW', 'SW', 'WSW', 'W', 'WNW', 'NW', 'NNW']\r\n",
    "  ix = int(round(d / (360. / len(dirs))))\r\n",
    "  return dirs[ix % len(dirs)]"
   ]
  },
  {
   "cell_type": "code",
   "execution_count": 5,
   "metadata": {
    "execution": {
     "iopub.execute_input": "2021-09-01T08:41:50.397796Z",
     "iopub.status.busy": "2021-09-01T08:41:50.396709Z",
     "iopub.status.idle": "2021-09-01T08:41:50.398478Z",
     "shell.execute_reply": "2021-09-01T08:41:50.398923Z"
    }
   },
   "outputs": [],
   "source": [
    "# data.keys()"
   ]
  },
  {
   "cell_type": "code",
   "execution_count": 6,
   "metadata": {
    "execution": {
     "iopub.execute_input": "2021-09-01T08:41:50.403420Z",
     "iopub.status.busy": "2021-09-01T08:41:50.402126Z",
     "iopub.status.idle": "2021-09-01T08:41:50.404067Z",
     "shell.execute_reply": "2021-09-01T08:41:50.404500Z"
    }
   },
   "outputs": [],
   "source": [
    "# data['current']"
   ]
  },
  {
   "cell_type": "code",
   "execution_count": 7,
   "metadata": {
    "execution": {
     "iopub.execute_input": "2021-09-01T08:41:50.424980Z",
     "iopub.status.busy": "2021-09-01T08:41:50.424426Z",
     "iopub.status.idle": "2021-09-01T08:41:50.730428Z",
     "shell.execute_reply": "2021-09-01T08:41:50.731166Z"
    }
   },
   "outputs": [
    {
     "data": {
      "image/png": "[encoded data removed]",
      "text/plain": [
       "<Figure size 216x216 with 1 Axes>"
      ]
     },
     "metadata": {
      "needs_background": "light"
     },
     "output_type": "display_data"
    },
    {
     "name": "stdout",
     "output_type": "stream",
     "text": [
      "Today, sun rises at 06:05 and sets at 18:40.\n",
      "Currently, the weather is Clear (clear sky).\n",
      "The temperature is 31.07°C and it feels like 38.07°C.\n",
      "The UV index is 1.19, humidity is 77%.\n",
      "The pressure is 1008 hPa, percentage of cloud cover is 10%\n",
      "The wind comes from E direction with a speed 5.93 m/s.\n"
     ]
    }
   ],
   "source": [
    "current = data['current']\r\n",
    "\r\n",
    "fig, ax = plt.subplots(figsize=(3, 3))\r\n",
    "icon = requests.get(f\"http://openweathermap.org/img/wn/{current['weather'][0]['icon']}@2x.png\")\r\n",
    "im = Image.open(BytesIO(icon.content))\r\n",
    "plt.imshow(im)\r\n",
    "ax.set_axis_off()\r\n",
    "plt.show()\r\n",
    "\r\n",
    "print(f\"Today, sun rises at {ts2dt(current['sunrise'], '%H:%M')[0]} \\\r\n",
    "and sets at {ts2dt(current['sunset'], '%H:%M')[0]}.\\n\\\r\n",
    "Currently, the weather is {current['weather'][0]['main']} ({current['weather'][0]['description']}).\\n\\\r\n",
    "The temperature is {current['temp']}°C and it feels like {current['feels_like']}°C.\\n\\\r\n",
    "The UV index is {current['uvi']}, humidity is {current['humidity']}%.\\n\\\r\n",
    "The pressure is {current['pressure']} hPa, percentage of cloud cover is {current['clouds']}%\\n\\\r\n",
    "The wind comes from {degrees_to_cardinal(current['wind_deg'])} direction with a speed {current['wind_speed']} m/s.\")"
   ]
  },
  {
   "cell_type": "code",
   "execution_count": 8,
   "metadata": {
    "execution": {
     "iopub.execute_input": "2021-09-01T08:41:50.734828Z",
     "iopub.status.busy": "2021-09-01T08:41:50.733762Z",
     "iopub.status.idle": "2021-09-01T08:41:50.741478Z",
     "shell.execute_reply": "2021-09-01T08:41:50.742196Z"
    }
   },
   "outputs": [],
   "source": [
    "df_hourly = pd.DataFrame(data['hourly'])\r\n",
    "df_daily = pd.DataFrame(data['daily'])"
   ]
  },
  {
   "cell_type": "code",
   "execution_count": 9,
   "metadata": {
    "execution": {
     "iopub.execute_input": "2021-09-01T08:41:50.745690Z",
     "iopub.status.busy": "2021-09-01T08:41:50.744635Z",
     "iopub.status.idle": "2021-09-01T08:41:51.046197Z",
     "shell.execute_reply": "2021-09-01T08:41:51.045701Z"
    }
   },
   "outputs": [
    {
     "data": {
      "image/png": "[encoded data removed]",
      "text/plain": [
       "<Figure size 864x432 with 1 Axes>"
      ]
     },
     "metadata": {
      "needs_background": "light"
     },
     "output_type": "display_data"
    }
   ],
   "source": [
    "fig, ax = plt.subplots(figsize=(12, 6))\r\n",
    "plt.plot(df_hourly.temp, '.-', label='Temperature')\r\n",
    "plt.plot(df_hourly.feels_like, '.-', label='Feels Like')\r\n",
    "ax.set(title='Temperature in future 48 hours', xlabel='Time', ylabel='Temperature')\r\n",
    "ax.set_xticks(list(range(0, len(df_hourly), 2)))\r\n",
    "ax.set_xticklabels([ts2dt(ts, '%m-%d %H:%M')[0] for i, ts in enumerate(df_hourly.dt) if i%2==0], \r\n",
    "                   rotation=45, ha=\"right\")\r\n",
    "ax.locator_params(nbins=15, axis='y')\r\n",
    "plt.legend()\r\n",
    "plt.show()"
   ]
  },
  {
   "cell_type": "code",
   "execution_count": 10,
   "metadata": {
    "execution": {
     "iopub.execute_input": "2021-09-01T08:41:51.058870Z",
     "iopub.status.busy": "2021-09-01T08:41:51.050725Z",
     "iopub.status.idle": "2021-09-01T08:41:51.069864Z",
     "shell.execute_reply": "2021-09-01T08:41:51.070305Z"
    }
   },
   "outputs": [
    {
     "data": {
      "text/html": [
       "<div>\n",
       "<style scoped>\n",
       "    .dataframe tbody tr th:only-of-type {\n",
       "        vertical-align: middle;\n",
       "    }\n",
       "\n",
       "    .dataframe tbody tr th {\n",
       "        vertical-align: top;\n",
       "    }\n",
       "\n",
       "    .dataframe thead th {\n",
       "        text-align: right;\n",
       "    }\n",
       "</style>\n",
       "<table border=\"1\" class=\"dataframe\">\n",
       "  <thead>\n",
       "    <tr style=\"text-align: right;\">\n",
       "      <th></th>\n",
       "      <th>dt</th>\n",
       "      <th>temp</th>\n",
       "      <th>feels_like</th>\n",
       "      <th>pressure</th>\n",
       "      <th>humidity</th>\n",
       "      <th>dew_point</th>\n",
       "      <th>uvi</th>\n",
       "      <th>clouds</th>\n",
       "      <th>visibility</th>\n",
       "      <th>wind_speed</th>\n",
       "      <th>wind_deg</th>\n",
       "      <th>wind_gust</th>\n",
       "      <th>weather</th>\n",
       "      <th>pop</th>\n",
       "      <th>rain</th>\n",
       "    </tr>\n",
       "  </thead>\n",
       "  <tbody>\n",
       "    <tr>\n",
       "      <th>0</th>\n",
       "      <td>1630483200</td>\n",
       "      <td>30.71</td>\n",
       "      <td>37.71</td>\n",
       "      <td>1008</td>\n",
       "      <td>76</td>\n",
       "      <td>25.99</td>\n",
       "      <td>3.31</td>\n",
       "      <td>10</td>\n",
       "      <td>10000</td>\n",
       "      <td>6.23</td>\n",
       "      <td>97</td>\n",
       "      <td>7.53</td>\n",
       "      <td>[{'id': 800, 'main': 'Clear', 'description': '...</td>\n",
       "      <td>0.55</td>\n",
       "      <td>NaN</td>\n",
       "    </tr>\n",
       "    <tr>\n",
       "      <th>1</th>\n",
       "      <td>1630486800</td>\n",
       "      <td>31.07</td>\n",
       "      <td>38.07</td>\n",
       "      <td>1008</td>\n",
       "      <td>77</td>\n",
       "      <td>26.56</td>\n",
       "      <td>1.19</td>\n",
       "      <td>10</td>\n",
       "      <td>10000</td>\n",
       "      <td>5.93</td>\n",
       "      <td>97</td>\n",
       "      <td>7.35</td>\n",
       "      <td>[{'id': 800, 'main': 'Clear', 'description': '...</td>\n",
       "      <td>0.55</td>\n",
       "      <td>NaN</td>\n",
       "    </tr>\n",
       "    <tr>\n",
       "      <th>2</th>\n",
       "      <td>1630490400</td>\n",
       "      <td>30.55</td>\n",
       "      <td>37.55</td>\n",
       "      <td>1008</td>\n",
       "      <td>78</td>\n",
       "      <td>26.27</td>\n",
       "      <td>0.21</td>\n",
       "      <td>10</td>\n",
       "      <td>10000</td>\n",
       "      <td>5.56</td>\n",
       "      <td>97</td>\n",
       "      <td>7.65</td>\n",
       "      <td>[{'id': 800, 'main': 'Clear', 'description': '...</td>\n",
       "      <td>0.51</td>\n",
       "      <td>NaN</td>\n",
       "    </tr>\n",
       "    <tr>\n",
       "      <th>3</th>\n",
       "      <td>1630494000</td>\n",
       "      <td>29.79</td>\n",
       "      <td>36.76</td>\n",
       "      <td>1008</td>\n",
       "      <td>79</td>\n",
       "      <td>25.75</td>\n",
       "      <td>0.00</td>\n",
       "      <td>10</td>\n",
       "      <td>10000</td>\n",
       "      <td>5.46</td>\n",
       "      <td>100</td>\n",
       "      <td>7.64</td>\n",
       "      <td>[{'id': 500, 'main': 'Rain', 'description': 'l...</td>\n",
       "      <td>0.59</td>\n",
       "      <td>{'1h': 0.12}</td>\n",
       "    </tr>\n",
       "    <tr>\n",
       "      <th>4</th>\n",
       "      <td>1630497600</td>\n",
       "      <td>29.03</td>\n",
       "      <td>34.82</td>\n",
       "      <td>1009</td>\n",
       "      <td>80</td>\n",
       "      <td>25.23</td>\n",
       "      <td>0.00</td>\n",
       "      <td>10</td>\n",
       "      <td>10000</td>\n",
       "      <td>5.19</td>\n",
       "      <td>100</td>\n",
       "      <td>7.42</td>\n",
       "      <td>[{'id': 500, 'main': 'Rain', 'description': 'l...</td>\n",
       "      <td>0.59</td>\n",
       "      <td>{'1h': 0.81}</td>\n",
       "    </tr>\n",
       "  </tbody>\n",
       "</table>\n",
       "</div>"
      ],
      "text/plain": [
       "           dt   temp  feels_like  pressure  humidity  dew_point   uvi  clouds  \\\n",
       "0  1630483200  30.71       37.71      1008        76      25.99  3.31      10   \n",
       "1  1630486800  31.07       38.07      1008        77      26.56  1.19      10   \n",
       "2  1630490400  30.55       37.55      1008        78      26.27  0.21      10   \n",
       "3  1630494000  29.79       36.76      1008        79      25.75  0.00      10   \n",
       "4  1630497600  29.03       34.82      1009        80      25.23  0.00      10   \n",
       "\n",
       "   visibility  wind_speed  wind_deg  wind_gust  \\\n",
       "0       10000        6.23        97       7.53   \n",
       "1       10000        5.93        97       7.35   \n",
       "2       10000        5.56        97       7.65   \n",
       "3       10000        5.46       100       7.64   \n",
       "4       10000        5.19       100       7.42   \n",
       "\n",
       "                                             weather   pop          rain  \n",
       "0  [{'id': 800, 'main': 'Clear', 'description': '...  0.55           NaN  \n",
       "1  [{'id': 800, 'main': 'Clear', 'description': '...  0.55           NaN  \n",
       "2  [{'id': 800, 'main': 'Clear', 'description': '...  0.51           NaN  \n",
       "3  [{'id': 500, 'main': 'Rain', 'description': 'l...  0.59  {'1h': 0.12}  \n",
       "4  [{'id': 500, 'main': 'Rain', 'description': 'l...  0.59  {'1h': 0.81}  "
      ]
     },
     "execution_count": 10,
     "metadata": {},
     "output_type": "execute_result"
    }
   ],
   "source": [
    "df_hourly.head()"
   ]
  },
  {
   "cell_type": "code",
   "execution_count": null,
   "metadata": {},
   "outputs": [],
   "source": []
  }
 ],
 "metadata": {
  "interpreter": {
   "hash": "c1b4cfe941b6d2466ad1fb5979e97da9cda8801728c8091b097ab734208fc00c"
  },
  "kernelspec": {
   "display_name": "Python 3.8.3 64-bit ('base': conda)",
   "name": "python3"
  },
  "language_info": {
   "codemirror_mode": {
    "name": "ipython",
    "version": 3
   },
   "file_extension": ".py",
   "mimetype": "text/x-python",
   "name": "python",
   "nbconvert_exporter": "python",
   "pygments_lexer": "ipython3",
   "version": "3.8.11"
  }
 },
 "nbformat": 4,
 "nbformat_minor": 2
}
