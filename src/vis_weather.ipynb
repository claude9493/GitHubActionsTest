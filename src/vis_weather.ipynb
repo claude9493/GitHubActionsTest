{
 "cells": [
  {
   "cell_type": "code",
   "execution_count": 1,
   "metadata": {
    "execution": {
     "iopub.execute_input": "2021-09-07T23:15:42.504885Z",
     "iopub.status.busy": "2021-09-07T23:15:42.504188Z",
     "iopub.status.idle": "2021-09-07T23:15:44.129530Z",
     "shell.execute_reply": "2021-09-07T23:15:44.128440Z"
    }
   },
   "outputs": [],
   "source": [
    "import json, yaml, requests\r\n",
    "from datetime import datetime\r\n",
    "from dateutil import tz\r\n",
    "import pandas as pd\r\n",
    "from PIL import Image\r\n",
    "from io import BytesIO\r\n",
    "import matplotlib.pyplot as plt\r\n",
    "import seaborn\r\n",
    "\r\n",
    "CONFIG_PATH = \"../config/config.yaml\""
   ]
  },
  {
   "cell_type": "code",
   "execution_count": 2,
   "metadata": {
    "execution": {
     "iopub.execute_input": "2021-09-07T23:15:44.149976Z",
     "iopub.status.busy": "2021-09-07T23:15:44.149332Z",
     "iopub.status.idle": "2021-09-07T23:15:44.158471Z",
     "shell.execute_reply": "2021-09-07T23:15:44.157684Z"
    }
   },
   "outputs": [],
   "source": [
    "with open('../newest_ts', 'r') as f:\r\n",
    "    newest_ts = f.read()\r\n",
    "\r\n",
    "data_path = f\"../data/data_{newest_ts}.json\"\r\n",
    "with open(data_path, 'r') as f:\r\n",
    "    data = json.load(f)\r\n",
    "\r\n",
    "with open(CONFIG_PATH, \"r\") as stream:\r\n",
    "    config = yaml.safe_load(stream)\r\n",
    "\r\n",
    "TIME_ZONE = config['time_zone']\r\n",
    "DATETIME_FORMAT = config['dt_format']"
   ]
  },
  {
   "cell_type": "code",
   "execution_count": 3,
   "metadata": {
    "execution": {
     "iopub.execute_input": "2021-09-07T23:15:44.164810Z",
     "iopub.status.busy": "2021-09-07T23:15:44.164038Z",
     "iopub.status.idle": "2021-09-07T23:15:44.284437Z",
     "shell.execute_reply": "2021-09-07T23:15:44.285490Z"
    }
   },
   "outputs": [
    {
     "name": "stdout",
     "output_type": "stream",
     "text": [
      "Recent query happens at 2021-09-08 07:15:38 (CST).\n"
     ]
    }
   ],
   "source": [
    "def ts2dt(ts, format=DATETIME_FORMAT):\r\n",
    "    dt = (datetime.utcfromtimestamp(int(ts))\r\n",
    "                    .replace(tzinfo=tz.tzutc())\r\n",
    "                    # .astimezone(tz.tzlocal())\r\n",
    "                    .astimezone(tz.gettz(TIME_ZONE)))\r\n",
    "    return dt.strftime(format), dt\r\n",
    "\r\n",
    "_, newest_dt = ts2dt(newest_ts)\r\n",
    "print(f\"Recent query happens at {newest_dt.strftime(DATETIME_FORMAT)} ({newest_dt.tzname()}).\")"
   ]
  },
  {
   "cell_type": "code",
   "execution_count": 4,
   "metadata": {
    "execution": {
     "iopub.execute_input": "2021-09-07T23:15:44.292516Z",
     "iopub.status.busy": "2021-09-07T23:15:44.291060Z",
     "iopub.status.idle": "2021-09-07T23:15:44.293362Z",
     "shell.execute_reply": "2021-09-07T23:15:44.293901Z"
    }
   },
   "outputs": [],
   "source": [
    "def degrees_to_cardinal(d):\r\n",
    "  dirs = ['N', 'NNE', 'NE', 'ENE', 'E', 'ESE', 'SE', 'SSE', 'S', 'SSW', 'SW', 'WSW', 'W', 'WNW', 'NW', 'NNW']\r\n",
    "  ix = int(round(d / (360. / len(dirs))))\r\n",
    "  return dirs[ix % len(dirs)]"
   ]
  },
  {
   "cell_type": "code",
   "execution_count": 5,
   "metadata": {
    "execution": {
     "iopub.execute_input": "2021-09-07T23:15:44.299958Z",
     "iopub.status.busy": "2021-09-07T23:15:44.298361Z",
     "iopub.status.idle": "2021-09-07T23:15:44.300686Z",
     "shell.execute_reply": "2021-09-07T23:15:44.301260Z"
    }
   },
   "outputs": [],
   "source": [
    "# data.keys()"
   ]
  },
  {
   "cell_type": "code",
   "execution_count": 6,
   "metadata": {
    "execution": {
     "iopub.execute_input": "2021-09-07T23:15:44.305995Z",
     "iopub.status.busy": "2021-09-07T23:15:44.305269Z",
     "iopub.status.idle": "2021-09-07T23:15:44.308078Z",
     "shell.execute_reply": "2021-09-07T23:15:44.308714Z"
    }
   },
   "outputs": [],
   "source": [
    "# data['current']"
   ]
  },
  {
   "cell_type": "code",
   "execution_count": 7,
   "metadata": {
    "execution": {
     "iopub.execute_input": "2021-09-07T23:15:44.315803Z",
     "iopub.status.busy": "2021-09-07T23:15:44.315141Z",
     "iopub.status.idle": "2021-09-07T23:15:44.848382Z",
     "shell.execute_reply": "2021-09-07T23:15:44.849241Z"
    }
   },
   "outputs": [
    {
     "data": {
      "image/png": "[encoded data removed]",
      "text/plain": [
       "<Figure size 216x216 with 1 Axes>"
      ]
     },
     "metadata": {
      "needs_background": "light"
     },
     "output_type": "display_data"
    },
    {
     "name": "stdout",
     "output_type": "stream",
     "text": [
      "Today, sun rises at 06:07 and sets at 18:33.\n",
      "Currently, the weather is Clouds (scattered clouds).\n",
      "The temperature is 29.05°C and it feels like 35.56°C.\n",
      "The UV index is 0.27, humidity is 83%.\n",
      "The pressure is 1010 hPa, percentage of cloud cover is 44%\n",
      "The wind comes from NE direction with a speed 2.19 m/s.\n"
     ]
    }
   ],
   "source": [
    "current = data['current']\r\n",
    "\r\n",
    "fig, ax = plt.subplots(figsize=(3, 3))\r\n",
    "icon = requests.get(f\"http://openweathermap.org/img/wn/{current['weather'][0]['icon']}@2x.png\")\r\n",
    "im = Image.open(BytesIO(icon.content))\r\n",
    "plt.imshow(im)\r\n",
    "ax.set_axis_off()\r\n",
    "plt.show()\r\n",
    "\r\n",
    "print(f\"Today, sun rises at {ts2dt(current['sunrise'], '%H:%M')[0]} \\\r\n",
    "and sets at {ts2dt(current['sunset'], '%H:%M')[0]}.\\n\\\r\n",
    "Currently, the weather is {current['weather'][0]['main']} ({current['weather'][0]['description']}).\\n\\\r\n",
    "The temperature is {current['temp']}°C and it feels like {current['feels_like']}°C.\\n\\\r\n",
    "The UV index is {current['uvi']}, humidity is {current['humidity']}%.\\n\\\r\n",
    "The pressure is {current['pressure']} hPa, percentage of cloud cover is {current['clouds']}%\\n\\\r\n",
    "The wind comes from {degrees_to_cardinal(current['wind_deg'])} direction with a speed {current['wind_speed']} m/s.\")"
   ]
  },
  {
   "cell_type": "code",
   "execution_count": 8,
   "metadata": {
    "execution": {
     "iopub.execute_input": "2021-09-07T23:15:44.853224Z",
     "iopub.status.busy": "2021-09-07T23:15:44.852050Z",
     "iopub.status.idle": "2021-09-07T23:15:44.861717Z",
     "shell.execute_reply": "2021-09-07T23:15:44.862546Z"
    }
   },
   "outputs": [],
   "source": [
    "df_hourly = pd.DataFrame(data['hourly'])\r\n",
    "df_daily = pd.DataFrame(data['daily'])"
   ]
  },
  {
   "cell_type": "code",
   "execution_count": 9,
   "metadata": {
    "execution": {
     "iopub.execute_input": "2021-09-07T23:15:44.866564Z",
     "iopub.status.busy": "2021-09-07T23:15:44.865333Z",
     "iopub.status.idle": "2021-09-07T23:15:45.225431Z",
     "shell.execute_reply": "2021-09-07T23:15:45.225975Z"
    }
   },
   "outputs": [
    {
     "data": {
      "image/png": "[encoded data removed]",
      "text/plain": [
       "<Figure size 864x432 with 1 Axes>"
      ]
     },
     "metadata": {
      "needs_background": "light"
     },
     "output_type": "display_data"
    }
   ],
   "source": [
    "fig, ax = plt.subplots(figsize=(12, 6))\r\n",
    "plt.plot(df_hourly.temp, '.-', label='Temperature')\r\n",
    "plt.plot(df_hourly.feels_like, '.-', label='Feels Like')\r\n",
    "ax.set(title='Temperature in future 48 hours', xlabel='Time', ylabel='Temperature')\r\n",
    "ax.set_xticks(list(range(0, len(df_hourly), 2)))\r\n",
    "ax.set_xticklabels([ts2dt(ts, '%m-%d %H:%M')[0] for i, ts in enumerate(df_hourly.dt) if i%2==0], \r\n",
    "                   rotation=45, ha=\"right\")\r\n",
    "ax.locator_params(nbins=15, axis='y')\r\n",
    "plt.legend()\r\n",
    "plt.show()"
   ]
  },
  {
   "cell_type": "code",
   "execution_count": 10,
   "metadata": {
    "execution": {
     "iopub.execute_input": "2021-09-07T23:15:45.240369Z",
     "iopub.status.busy": "2021-09-07T23:15:45.231150Z",
     "iopub.status.idle": "2021-09-07T23:15:45.253718Z",
     "shell.execute_reply": "2021-09-07T23:15:45.254203Z"
    }
   },
   "outputs": [
    {
     "data": {
      "text/html": [
       "<div>\n",
       "<style scoped>\n",
       "    .dataframe tbody tr th:only-of-type {\n",
       "        vertical-align: middle;\n",
       "    }\n",
       "\n",
       "    .dataframe tbody tr th {\n",
       "        vertical-align: top;\n",
       "    }\n",
       "\n",
       "    .dataframe thead th {\n",
       "        text-align: right;\n",
       "    }\n",
       "</style>\n",
       "<table border=\"1\" class=\"dataframe\">\n",
       "  <thead>\n",
       "    <tr style=\"text-align: right;\">\n",
       "      <th></th>\n",
       "      <th>dt</th>\n",
       "      <th>temp</th>\n",
       "      <th>feels_like</th>\n",
       "      <th>pressure</th>\n",
       "      <th>humidity</th>\n",
       "      <th>dew_point</th>\n",
       "      <th>uvi</th>\n",
       "      <th>clouds</th>\n",
       "      <th>visibility</th>\n",
       "      <th>wind_speed</th>\n",
       "      <th>wind_deg</th>\n",
       "      <th>wind_gust</th>\n",
       "      <th>weather</th>\n",
       "      <th>pop</th>\n",
       "      <th>rain</th>\n",
       "    </tr>\n",
       "  </thead>\n",
       "  <tbody>\n",
       "    <tr>\n",
       "      <th>0</th>\n",
       "      <td>1631055600</td>\n",
       "      <td>29.05</td>\n",
       "      <td>35.56</td>\n",
       "      <td>1010</td>\n",
       "      <td>83</td>\n",
       "      <td>25.87</td>\n",
       "      <td>0.27</td>\n",
       "      <td>44</td>\n",
       "      <td>10000</td>\n",
       "      <td>2.19</td>\n",
       "      <td>52</td>\n",
       "      <td>2.56</td>\n",
       "      <td>[{'id': 802, 'main': 'Clouds', 'description': ...</td>\n",
       "      <td>0.0</td>\n",
       "      <td>NaN</td>\n",
       "    </tr>\n",
       "    <tr>\n",
       "      <th>1</th>\n",
       "      <td>1631059200</td>\n",
       "      <td>28.84</td>\n",
       "      <td>34.72</td>\n",
       "      <td>1010</td>\n",
       "      <td>82</td>\n",
       "      <td>25.46</td>\n",
       "      <td>1.37</td>\n",
       "      <td>44</td>\n",
       "      <td>10000</td>\n",
       "      <td>2.60</td>\n",
       "      <td>54</td>\n",
       "      <td>3.11</td>\n",
       "      <td>[{'id': 802, 'main': 'Clouds', 'description': ...</td>\n",
       "      <td>0.0</td>\n",
       "      <td>NaN</td>\n",
       "    </tr>\n",
       "    <tr>\n",
       "      <th>2</th>\n",
       "      <td>1631062800</td>\n",
       "      <td>28.93</td>\n",
       "      <td>34.34</td>\n",
       "      <td>1010</td>\n",
       "      <td>79</td>\n",
       "      <td>24.92</td>\n",
       "      <td>3.58</td>\n",
       "      <td>43</td>\n",
       "      <td>10000</td>\n",
       "      <td>2.73</td>\n",
       "      <td>63</td>\n",
       "      <td>3.17</td>\n",
       "      <td>[{'id': 802, 'main': 'Clouds', 'description': ...</td>\n",
       "      <td>0.0</td>\n",
       "      <td>NaN</td>\n",
       "    </tr>\n",
       "    <tr>\n",
       "      <th>3</th>\n",
       "      <td>1631066400</td>\n",
       "      <td>29.27</td>\n",
       "      <td>34.37</td>\n",
       "      <td>1010</td>\n",
       "      <td>75</td>\n",
       "      <td>24.38</td>\n",
       "      <td>6.52</td>\n",
       "      <td>37</td>\n",
       "      <td>10000</td>\n",
       "      <td>2.83</td>\n",
       "      <td>73</td>\n",
       "      <td>3.13</td>\n",
       "      <td>[{'id': 802, 'main': 'Clouds', 'description': ...</td>\n",
       "      <td>0.0</td>\n",
       "      <td>NaN</td>\n",
       "    </tr>\n",
       "    <tr>\n",
       "      <th>4</th>\n",
       "      <td>1631070000</td>\n",
       "      <td>29.71</td>\n",
       "      <td>34.57</td>\n",
       "      <td>1010</td>\n",
       "      <td>71</td>\n",
       "      <td>23.89</td>\n",
       "      <td>9.25</td>\n",
       "      <td>29</td>\n",
       "      <td>10000</td>\n",
       "      <td>2.98</td>\n",
       "      <td>82</td>\n",
       "      <td>3.09</td>\n",
       "      <td>[{'id': 802, 'main': 'Clouds', 'description': ...</td>\n",
       "      <td>0.0</td>\n",
       "      <td>NaN</td>\n",
       "    </tr>\n",
       "  </tbody>\n",
       "</table>\n",
       "</div>"
      ],
      "text/plain": [
       "           dt   temp  feels_like  pressure  humidity  dew_point   uvi  clouds  \\\n",
       "0  1631055600  29.05       35.56      1010        83      25.87  0.27      44   \n",
       "1  1631059200  28.84       34.72      1010        82      25.46  1.37      44   \n",
       "2  1631062800  28.93       34.34      1010        79      24.92  3.58      43   \n",
       "3  1631066400  29.27       34.37      1010        75      24.38  6.52      37   \n",
       "4  1631070000  29.71       34.57      1010        71      23.89  9.25      29   \n",
       "\n",
       "   visibility  wind_speed  wind_deg  wind_gust  \\\n",
       "0       10000        2.19        52       2.56   \n",
       "1       10000        2.60        54       3.11   \n",
       "2       10000        2.73        63       3.17   \n",
       "3       10000        2.83        73       3.13   \n",
       "4       10000        2.98        82       3.09   \n",
       "\n",
       "                                             weather  pop rain  \n",
       "0  [{'id': 802, 'main': 'Clouds', 'description': ...  0.0  NaN  \n",
       "1  [{'id': 802, 'main': 'Clouds', 'description': ...  0.0  NaN  \n",
       "2  [{'id': 802, 'main': 'Clouds', 'description': ...  0.0  NaN  \n",
       "3  [{'id': 802, 'main': 'Clouds', 'description': ...  0.0  NaN  \n",
       "4  [{'id': 802, 'main': 'Clouds', 'description': ...  0.0  NaN  "
      ]
     },
     "execution_count": 10,
     "metadata": {},
     "output_type": "execute_result"
    }
   ],
   "source": [
    "df_hourly.head()"
   ]
  },
  {
   "cell_type": "code",
   "execution_count": null,
   "metadata": {},
   "outputs": [],
   "source": []
  }
 ],
 "metadata": {
  "interpreter": {
   "hash": "c1b4cfe941b6d2466ad1fb5979e97da9cda8801728c8091b097ab734208fc00c"
  },
  "kernelspec": {
   "display_name": "Python 3.8.3 64-bit ('base': conda)",
   "name": "python3"
  },
  "language_info": {
   "codemirror_mode": {
    "name": "ipython",
    "version": 3
   },
   "file_extension": ".py",
   "mimetype": "text/x-python",
   "name": "python",
   "nbconvert_exporter": "python",
   "pygments_lexer": "ipython3",
   "version": "3.8.11"
  }
 },
 "nbformat": 4,
 "nbformat_minor": 2
}
