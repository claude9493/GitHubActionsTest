{
 "cells": [
  {
   "cell_type": "code",
   "execution_count": 1,
   "metadata": {
    "execution": {
     "iopub.execute_input": "2021-10-05T07:11:50.433048Z",
     "iopub.status.busy": "2021-10-05T07:11:50.432363Z",
     "iopub.status.idle": "2021-10-05T07:11:51.811048Z",
     "shell.execute_reply": "2021-10-05T07:11:51.810044Z"
    }
   },
   "outputs": [],
   "source": [
    "import json, yaml, requests\r\n",
    "from datetime import datetime\r\n",
    "from dateutil import tz\r\n",
    "import pandas as pd\r\n",
    "from PIL import Image\r\n",
    "from io import BytesIO\r\n",
    "import matplotlib.pyplot as plt\r\n",
    "import seaborn\r\n",
    "\r\n",
    "CONFIG_PATH = \"../config/config.yaml\""
   ]
  },
  {
   "cell_type": "code",
   "execution_count": 2,
   "metadata": {
    "execution": {
     "iopub.execute_input": "2021-10-05T07:11:51.816651Z",
     "iopub.status.busy": "2021-10-05T07:11:51.813797Z",
     "iopub.status.idle": "2021-10-05T07:11:51.822633Z",
     "shell.execute_reply": "2021-10-05T07:11:51.822165Z"
    }
   },
   "outputs": [],
   "source": [
    "with open('../newest_ts', 'r') as f:\r\n",
    "    newest_ts = f.read()\r\n",
    "\r\n",
    "data_path = f\"../data/data_{newest_ts}.json\"\r\n",
    "with open(data_path, 'r') as f:\r\n",
    "    data = json.load(f)\r\n",
    "\r\n",
    "with open(CONFIG_PATH, \"r\") as stream:\r\n",
    "    config = yaml.safe_load(stream)\r\n",
    "\r\n",
    "TIME_ZONE = config['time_zone']\r\n",
    "DATETIME_FORMAT = config['dt_format']"
   ]
  },
  {
   "cell_type": "code",
   "execution_count": 3,
   "metadata": {
    "execution": {
     "iopub.execute_input": "2021-10-05T07:11:51.828111Z",
     "iopub.status.busy": "2021-10-05T07:11:51.827560Z",
     "iopub.status.idle": "2021-10-05T07:11:51.832929Z",
     "shell.execute_reply": "2021-10-05T07:11:51.833325Z"
    }
   },
   "outputs": [
    {
     "name": "stdout",
     "output_type": "stream",
     "text": [
      "Recent query happens at 2021-10-05 15:11:47 (CST).\n"
     ]
    }
   ],
   "source": [
    "def ts2dt(ts, format=DATETIME_FORMAT):\r\n",
    "    dt = (datetime.utcfromtimestamp(int(ts))\r\n",
    "                    .replace(tzinfo=tz.tzutc())\r\n",
    "                    # .astimezone(tz.tzlocal())\r\n",
    "                    .astimezone(tz.gettz(TIME_ZONE)))\r\n",
    "    return dt.strftime(format), dt\r\n",
    "\r\n",
    "_, newest_dt = ts2dt(newest_ts)\r\n",
    "print(f\"Recent query happens at {newest_dt.strftime(DATETIME_FORMAT)} ({newest_dt.tzname()}).\")"
   ]
  },
  {
   "cell_type": "code",
   "execution_count": 4,
   "metadata": {
    "execution": {
     "iopub.execute_input": "2021-10-05T07:11:51.838772Z",
     "iopub.status.busy": "2021-10-05T07:11:51.838256Z",
     "iopub.status.idle": "2021-10-05T07:11:51.840480Z",
     "shell.execute_reply": "2021-10-05T07:11:51.840043Z"
    }
   },
   "outputs": [],
   "source": [
    "def degrees_to_cardinal(d):\r\n",
    "  dirs = ['N', 'NNE', 'NE', 'ENE', 'E', 'ESE', 'SE', 'SSE', 'S', 'SSW', 'SW', 'WSW', 'W', 'WNW', 'NW', 'NNW']\r\n",
    "  ix = int(round(d / (360. / len(dirs))))\r\n",
    "  return dirs[ix % len(dirs)]"
   ]
  },
  {
   "cell_type": "code",
   "execution_count": 5,
   "metadata": {
    "execution": {
     "iopub.execute_input": "2021-10-05T07:11:51.845664Z",
     "iopub.status.busy": "2021-10-05T07:11:51.844486Z",
     "iopub.status.idle": "2021-10-05T07:11:51.846234Z",
     "shell.execute_reply": "2021-10-05T07:11:51.846614Z"
    }
   },
   "outputs": [],
   "source": [
    "# data.keys()"
   ]
  },
  {
   "cell_type": "code",
   "execution_count": 6,
   "metadata": {
    "execution": {
     "iopub.execute_input": "2021-10-05T07:11:51.851442Z",
     "iopub.status.busy": "2021-10-05T07:11:51.850268Z",
     "iopub.status.idle": "2021-10-05T07:11:51.852012Z",
     "shell.execute_reply": "2021-10-05T07:11:51.852406Z"
    }
   },
   "outputs": [],
   "source": [
    "# data['current']"
   ]
  },
  {
   "cell_type": "code",
   "execution_count": 7,
   "metadata": {
    "execution": {
     "iopub.execute_input": "2021-10-05T07:11:51.871376Z",
     "iopub.status.busy": "2021-10-05T07:11:51.870831Z",
     "iopub.status.idle": "2021-10-05T07:11:52.254173Z",
     "shell.execute_reply": "2021-10-05T07:11:52.254579Z"
    }
   },
   "outputs": [
    {
     "data": {
      "image/png": "[encoded data removed]",
      "text/plain": [
       "<Figure size 216x216 with 1 Axes>"
      ]
     },
     "metadata": {
      "needs_background": "light"
     },
     "output_type": "display_data"
    },
    {
     "name": "stdout",
     "output_type": "stream",
     "text": [
      "Today, sun rises at 06:15 and sets at 18:07.\n",
      "Currently, the weather is Clear (clear sky).\n",
      "The temperature is 30.88°C and it feels like 37.88°C.\n",
      "The UV index is 4.75, humidity is 81%.\n",
      "The pressure is 1008 hPa, percentage of cloud cover is 2%\n",
      "The wind comes from NNE direction with a speed 0.89 m/s.\n"
     ]
    }
   ],
   "source": [
    "current = data['current']\r\n",
    "\r\n",
    "fig, ax = plt.subplots(figsize=(3, 3))\r\n",
    "icon = requests.get(f\"http://openweathermap.org/img/wn/{current['weather'][0]['icon']}@2x.png\")\r\n",
    "im = Image.open(BytesIO(icon.content))\r\n",
    "plt.imshow(im)\r\n",
    "ax.set_axis_off()\r\n",
    "plt.show()\r\n",
    "\r\n",
    "print(f\"Today, sun rises at {ts2dt(current['sunrise'], '%H:%M')[0]} \\\r\n",
    "and sets at {ts2dt(current['sunset'], '%H:%M')[0]}.\\n\\\r\n",
    "Currently, the weather is {current['weather'][0]['main']} ({current['weather'][0]['description']}).\\n\\\r\n",
    "The temperature is {current['temp']}°C and it feels like {current['feels_like']}°C.\\n\\\r\n",
    "The UV index is {current['uvi']}, humidity is {current['humidity']}%.\\n\\\r\n",
    "The pressure is {current['pressure']} hPa, percentage of cloud cover is {current['clouds']}%\\n\\\r\n",
    "The wind comes from {degrees_to_cardinal(current['wind_deg'])} direction with a speed {current['wind_speed']} m/s.\")"
   ]
  },
  {
   "cell_type": "code",
   "execution_count": 8,
   "metadata": {
    "execution": {
     "iopub.execute_input": "2021-10-05T07:11:52.264564Z",
     "iopub.status.busy": "2021-10-05T07:11:52.264020Z",
     "iopub.status.idle": "2021-10-05T07:11:52.267107Z",
     "shell.execute_reply": "2021-10-05T07:11:52.267853Z"
    }
   },
   "outputs": [],
   "source": [
    "df_hourly = pd.DataFrame(data['hourly'])\r\n",
    "df_daily = pd.DataFrame(data['daily'])"
   ]
  },
  {
   "cell_type": "code",
   "execution_count": 9,
   "metadata": {
    "execution": {
     "iopub.execute_input": "2021-10-05T07:11:52.272055Z",
     "iopub.status.busy": "2021-10-05T07:11:52.270926Z",
     "iopub.status.idle": "2021-10-05T07:11:52.546328Z",
     "shell.execute_reply": "2021-10-05T07:11:52.546744Z"
    }
   },
   "outputs": [
    {
     "data": {
      "image/png": "[encoded data removed]",
      "text/plain": [
       "<Figure size 864x432 with 1 Axes>"
      ]
     },
     "metadata": {
      "needs_background": "light"
     },
     "output_type": "display_data"
    }
   ],
   "source": [
    "fig, ax = plt.subplots(figsize=(12, 6))\r\n",
    "plt.plot(df_hourly.temp, '.-', label='Temperature')\r\n",
    "plt.plot(df_hourly.feels_like, '.-', label='Feels Like')\r\n",
    "ax.set(title='Temperature in future 48 hours', xlabel='Time', ylabel='Temperature')\r\n",
    "ax.set_xticks(list(range(0, len(df_hourly), 2)))\r\n",
    "ax.set_xticklabels([ts2dt(ts, '%m-%d %H:%M')[0] for i, ts in enumerate(df_hourly.dt) if i%2==0], \r\n",
    "                   rotation=45, ha=\"right\")\r\n",
    "ax.locator_params(nbins=15, axis='y')\r\n",
    "plt.legend()\r\n",
    "plt.show()"
   ]
  },
  {
   "cell_type": "code",
   "execution_count": 10,
   "metadata": {
    "execution": {
     "iopub.execute_input": "2021-10-05T07:11:52.561014Z",
     "iopub.status.busy": "2021-10-05T07:11:52.552090Z",
     "iopub.status.idle": "2021-10-05T07:11:52.574557Z",
     "shell.execute_reply": "2021-10-05T07:11:52.575218Z"
    }
   },
   "outputs": [
    {
     "data": {
      "text/html": [
       "<div>\n",
       "<style scoped>\n",
       "    .dataframe tbody tr th:only-of-type {\n",
       "        vertical-align: middle;\n",
       "    }\n",
       "\n",
       "    .dataframe tbody tr th {\n",
       "        vertical-align: top;\n",
       "    }\n",
       "\n",
       "    .dataframe thead th {\n",
       "        text-align: right;\n",
       "    }\n",
       "</style>\n",
       "<table border=\"1\" class=\"dataframe\">\n",
       "  <thead>\n",
       "    <tr style=\"text-align: right;\">\n",
       "      <th></th>\n",
       "      <th>dt</th>\n",
       "      <th>temp</th>\n",
       "      <th>feels_like</th>\n",
       "      <th>pressure</th>\n",
       "      <th>humidity</th>\n",
       "      <th>dew_point</th>\n",
       "      <th>uvi</th>\n",
       "      <th>clouds</th>\n",
       "      <th>visibility</th>\n",
       "      <th>wind_speed</th>\n",
       "      <th>wind_deg</th>\n",
       "      <th>wind_gust</th>\n",
       "      <th>weather</th>\n",
       "      <th>pop</th>\n",
       "      <th>rain</th>\n",
       "    </tr>\n",
       "  </thead>\n",
       "  <tbody>\n",
       "    <tr>\n",
       "      <th>0</th>\n",
       "      <td>1633417200</td>\n",
       "      <td>30.88</td>\n",
       "      <td>37.88</td>\n",
       "      <td>1008</td>\n",
       "      <td>81</td>\n",
       "      <td>27.24</td>\n",
       "      <td>4.75</td>\n",
       "      <td>2</td>\n",
       "      <td>10000</td>\n",
       "      <td>8.05</td>\n",
       "      <td>91</td>\n",
       "      <td>9.26</td>\n",
       "      <td>[{'id': 800, 'main': 'Clear', 'description': '...</td>\n",
       "      <td>0.0</td>\n",
       "      <td>NaN</td>\n",
       "    </tr>\n",
       "    <tr>\n",
       "      <th>1</th>\n",
       "      <td>1633420800</td>\n",
       "      <td>30.52</td>\n",
       "      <td>37.52</td>\n",
       "      <td>1008</td>\n",
       "      <td>77</td>\n",
       "      <td>26.03</td>\n",
       "      <td>2.28</td>\n",
       "      <td>2</td>\n",
       "      <td>10000</td>\n",
       "      <td>7.92</td>\n",
       "      <td>96</td>\n",
       "      <td>9.26</td>\n",
       "      <td>[{'id': 800, 'main': 'Clear', 'description': '...</td>\n",
       "      <td>0.0</td>\n",
       "      <td>NaN</td>\n",
       "    </tr>\n",
       "    <tr>\n",
       "      <th>2</th>\n",
       "      <td>1633424400</td>\n",
       "      <td>30.04</td>\n",
       "      <td>36.41</td>\n",
       "      <td>1009</td>\n",
       "      <td>75</td>\n",
       "      <td>25.12</td>\n",
       "      <td>0.69</td>\n",
       "      <td>2</td>\n",
       "      <td>10000</td>\n",
       "      <td>7.69</td>\n",
       "      <td>98</td>\n",
       "      <td>8.98</td>\n",
       "      <td>[{'id': 800, 'main': 'Clear', 'description': '...</td>\n",
       "      <td>0.0</td>\n",
       "      <td>NaN</td>\n",
       "    </tr>\n",
       "    <tr>\n",
       "      <th>3</th>\n",
       "      <td>1633428000</td>\n",
       "      <td>29.36</td>\n",
       "      <td>34.16</td>\n",
       "      <td>1009</td>\n",
       "      <td>73</td>\n",
       "      <td>24.01</td>\n",
       "      <td>0.00</td>\n",
       "      <td>1</td>\n",
       "      <td>10000</td>\n",
       "      <td>7.34</td>\n",
       "      <td>95</td>\n",
       "      <td>8.75</td>\n",
       "      <td>[{'id': 800, 'main': 'Clear', 'description': '...</td>\n",
       "      <td>0.0</td>\n",
       "      <td>NaN</td>\n",
       "    </tr>\n",
       "    <tr>\n",
       "      <th>4</th>\n",
       "      <td>1633431600</td>\n",
       "      <td>28.70</td>\n",
       "      <td>32.60</td>\n",
       "      <td>1010</td>\n",
       "      <td>73</td>\n",
       "      <td>23.38</td>\n",
       "      <td>0.00</td>\n",
       "      <td>0</td>\n",
       "      <td>10000</td>\n",
       "      <td>7.37</td>\n",
       "      <td>93</td>\n",
       "      <td>9.27</td>\n",
       "      <td>[{'id': 800, 'main': 'Clear', 'description': '...</td>\n",
       "      <td>0.0</td>\n",
       "      <td>NaN</td>\n",
       "    </tr>\n",
       "  </tbody>\n",
       "</table>\n",
       "</div>"
      ],
      "text/plain": [
       "           dt   temp  feels_like  pressure  humidity  dew_point   uvi  clouds  \\\n",
       "0  1633417200  30.88       37.88      1008        81      27.24  4.75       2   \n",
       "1  1633420800  30.52       37.52      1008        77      26.03  2.28       2   \n",
       "2  1633424400  30.04       36.41      1009        75      25.12  0.69       2   \n",
       "3  1633428000  29.36       34.16      1009        73      24.01  0.00       1   \n",
       "4  1633431600  28.70       32.60      1010        73      23.38  0.00       0   \n",
       "\n",
       "   visibility  wind_speed  wind_deg  wind_gust  \\\n",
       "0       10000        8.05        91       9.26   \n",
       "1       10000        7.92        96       9.26   \n",
       "2       10000        7.69        98       8.98   \n",
       "3       10000        7.34        95       8.75   \n",
       "4       10000        7.37        93       9.27   \n",
       "\n",
       "                                             weather  pop rain  \n",
       "0  [{'id': 800, 'main': 'Clear', 'description': '...  0.0  NaN  \n",
       "1  [{'id': 800, 'main': 'Clear', 'description': '...  0.0  NaN  \n",
       "2  [{'id': 800, 'main': 'Clear', 'description': '...  0.0  NaN  \n",
       "3  [{'id': 800, 'main': 'Clear', 'description': '...  0.0  NaN  \n",
       "4  [{'id': 800, 'main': 'Clear', 'description': '...  0.0  NaN  "
      ]
     },
     "execution_count": 10,
     "metadata": {},
     "output_type": "execute_result"
    }
   ],
   "source": [
    "df_hourly.head()"
   ]
  },
  {
   "cell_type": "code",
   "execution_count": null,
   "metadata": {},
   "outputs": [],
   "source": []
  }
 ],
 "metadata": {
  "interpreter": {
   "hash": "c1b4cfe941b6d2466ad1fb5979e97da9cda8801728c8091b097ab734208fc00c"
  },
  "kernelspec": {
   "display_name": "Python 3.8.3 64-bit ('base': conda)",
   "name": "python3"
  },
  "language_info": {
   "codemirror_mode": {
    "name": "ipython",
    "version": 3
   },
   "file_extension": ".py",
   "mimetype": "text/x-python",
   "name": "python",
   "nbconvert_exporter": "python",
   "pygments_lexer": "ipython3",
   "version": "3.8.12"
  }
 },
 "nbformat": 4,
 "nbformat_minor": 2
}
