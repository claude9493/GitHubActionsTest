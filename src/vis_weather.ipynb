{
 "cells": [
  {
   "cell_type": "code",
   "execution_count": 1,
   "metadata": {
    "execution": {
     "iopub.execute_input": "2021-10-14T03:12:35.747944Z",
     "iopub.status.busy": "2021-10-14T03:12:35.747132Z",
     "iopub.status.idle": "2021-10-14T03:12:38.644556Z",
     "shell.execute_reply": "2021-10-14T03:12:38.643906Z"
    }
   },
   "outputs": [],
   "source": [
    "import json, yaml, requests\r\n",
    "from datetime import datetime\r\n",
    "from dateutil import tz\r\n",
    "import pandas as pd\r\n",
    "from PIL import Image\r\n",
    "from io import BytesIO\r\n",
    "import matplotlib.pyplot as plt\r\n",
    "import seaborn\r\n",
    "\r\n",
    "CONFIG_PATH = \"../config/config.yaml\""
   ]
  },
  {
   "cell_type": "code",
   "execution_count": 2,
   "metadata": {
    "execution": {
     "iopub.execute_input": "2021-10-14T03:12:38.652727Z",
     "iopub.status.busy": "2021-10-14T03:12:38.649261Z",
     "iopub.status.idle": "2021-10-14T03:12:38.655315Z",
     "shell.execute_reply": "2021-10-14T03:12:38.655812Z"
    }
   },
   "outputs": [],
   "source": [
    "with open('../newest_ts', 'r') as f:\r\n",
    "    newest_ts = f.read()\r\n",
    "\r\n",
    "data_path = f\"../data/data_{newest_ts}.json\"\r\n",
    "with open(data_path, 'r') as f:\r\n",
    "    data = json.load(f)\r\n",
    "\r\n",
    "with open(CONFIG_PATH, \"r\") as stream:\r\n",
    "    config = yaml.safe_load(stream)\r\n",
    "\r\n",
    "TIME_ZONE = config['time_zone']\r\n",
    "DATETIME_FORMAT = config['dt_format']"
   ]
  },
  {
   "cell_type": "code",
   "execution_count": 3,
   "metadata": {
    "execution": {
     "iopub.execute_input": "2021-10-14T03:12:38.661923Z",
     "iopub.status.busy": "2021-10-14T03:12:38.660183Z",
     "iopub.status.idle": "2021-10-14T03:12:38.666164Z",
     "shell.execute_reply": "2021-10-14T03:12:38.666669Z"
    }
   },
   "outputs": [
    {
     "name": "stdout",
     "output_type": "stream",
     "text": [
      "Recent query happens at 2021-10-14 11:12:32 (CST).\n"
     ]
    }
   ],
   "source": [
    "def ts2dt(ts, format=DATETIME_FORMAT):\r\n",
    "    dt = (datetime.utcfromtimestamp(int(ts))\r\n",
    "                    .replace(tzinfo=tz.tzutc())\r\n",
    "                    # .astimezone(tz.tzlocal())\r\n",
    "                    .astimezone(tz.gettz(TIME_ZONE)))\r\n",
    "    return dt.strftime(format), dt\r\n",
    "\r\n",
    "_, newest_dt = ts2dt(newest_ts)\r\n",
    "print(f\"Recent query happens at {newest_dt.strftime(DATETIME_FORMAT)} ({newest_dt.tzname()}).\")"
   ]
  },
  {
   "cell_type": "code",
   "execution_count": 4,
   "metadata": {
    "execution": {
     "iopub.execute_input": "2021-10-14T03:12:38.672692Z",
     "iopub.status.busy": "2021-10-14T03:12:38.671178Z",
     "iopub.status.idle": "2021-10-14T03:12:38.673301Z",
     "shell.execute_reply": "2021-10-14T03:12:38.673847Z"
    }
   },
   "outputs": [],
   "source": [
    "def degrees_to_cardinal(d):\r\n",
    "  dirs = ['N', 'NNE', 'NE', 'ENE', 'E', 'ESE', 'SE', 'SSE', 'S', 'SSW', 'SW', 'WSW', 'W', 'WNW', 'NW', 'NNW']\r\n",
    "  ix = int(round(d / (360. / len(dirs))))\r\n",
    "  return dirs[ix % len(dirs)]"
   ]
  },
  {
   "cell_type": "code",
   "execution_count": 5,
   "metadata": {
    "execution": {
     "iopub.execute_input": "2021-10-14T03:12:38.678643Z",
     "iopub.status.busy": "2021-10-14T03:12:38.677233Z",
     "iopub.status.idle": "2021-10-14T03:12:38.679402Z",
     "shell.execute_reply": "2021-10-14T03:12:38.679902Z"
    }
   },
   "outputs": [],
   "source": [
    "# data.keys()"
   ]
  },
  {
   "cell_type": "code",
   "execution_count": 6,
   "metadata": {
    "execution": {
     "iopub.execute_input": "2021-10-14T03:12:38.685354Z",
     "iopub.status.busy": "2021-10-14T03:12:38.683922Z",
     "iopub.status.idle": "2021-10-14T03:12:38.686030Z",
     "shell.execute_reply": "2021-10-14T03:12:38.686511Z"
    }
   },
   "outputs": [],
   "source": [
    "# data['current']"
   ]
  },
  {
   "cell_type": "code",
   "execution_count": 7,
   "metadata": {
    "execution": {
     "iopub.execute_input": "2021-10-14T03:12:38.707482Z",
     "iopub.status.busy": "2021-10-14T03:12:38.703102Z",
     "iopub.status.idle": "2021-10-14T03:12:38.999563Z",
     "shell.execute_reply": "2021-10-14T03:12:38.999004Z"
    }
   },
   "outputs": [
    {
     "data": {
      "image/png": "[encoded data removed]",
      "text/plain": [
       "<Figure size 216x216 with 1 Axes>"
      ]
     },
     "metadata": {
      "needs_background": "light"
     },
     "output_type": "display_data"
    },
    {
     "name": "stdout",
     "output_type": "stream",
     "text": [
      "Today, sun rises at 06:18 and sets at 17:59.\n",
      "Currently, the weather is Clouds (overcast clouds).\n",
      "The temperature is 29.07°C and it feels like 36.07°C.\n",
      "The UV index is 7.5, humidity is 85%.\n",
      "The pressure is 1021 hPa, percentage of cloud cover is 93%\n",
      "The wind comes from ENE direction with a speed 1.34 m/s.\n"
     ]
    }
   ],
   "source": [
    "current = data['current']\r\n",
    "\r\n",
    "fig, ax = plt.subplots(figsize=(3, 3))\r\n",
    "icon = requests.get(f\"http://openweathermap.org/img/wn/{current['weather'][0]['icon']}@2x.png\")\r\n",
    "im = Image.open(BytesIO(icon.content))\r\n",
    "plt.imshow(im)\r\n",
    "ax.set_axis_off()\r\n",
    "plt.show()\r\n",
    "\r\n",
    "print(f\"Today, sun rises at {ts2dt(current['sunrise'], '%H:%M')[0]} \\\r\n",
    "and sets at {ts2dt(current['sunset'], '%H:%M')[0]}.\\n\\\r\n",
    "Currently, the weather is {current['weather'][0]['main']} ({current['weather'][0]['description']}).\\n\\\r\n",
    "The temperature is {current['temp']}°C and it feels like {current['feels_like']}°C.\\n\\\r\n",
    "The UV index is {current['uvi']}, humidity is {current['humidity']}%.\\n\\\r\n",
    "The pressure is {current['pressure']} hPa, percentage of cloud cover is {current['clouds']}%\\n\\\r\n",
    "The wind comes from {degrees_to_cardinal(current['wind_deg'])} direction with a speed {current['wind_speed']} m/s.\")"
   ]
  },
  {
   "cell_type": "code",
   "execution_count": 8,
   "metadata": {
    "execution": {
     "iopub.execute_input": "2021-10-14T03:12:39.007928Z",
     "iopub.status.busy": "2021-10-14T03:12:39.007290Z",
     "iopub.status.idle": "2021-10-14T03:12:39.010417Z",
     "shell.execute_reply": "2021-10-14T03:12:39.011202Z"
    }
   },
   "outputs": [],
   "source": [
    "df_hourly = pd.DataFrame(data['hourly'])\r\n",
    "df_daily = pd.DataFrame(data['daily'])"
   ]
  },
  {
   "cell_type": "code",
   "execution_count": 9,
   "metadata": {
    "execution": {
     "iopub.execute_input": "2021-10-14T03:12:39.020782Z",
     "iopub.status.busy": "2021-10-14T03:12:39.013705Z",
     "iopub.status.idle": "2021-10-14T03:12:39.346766Z",
     "shell.execute_reply": "2021-10-14T03:12:39.347326Z"
    }
   },
   "outputs": [
    {
     "data": {
      "image/png": "[encoded data removed]",
      "text/plain": [
       "<Figure size 864x432 with 1 Axes>"
      ]
     },
     "metadata": {
      "needs_background": "light"
     },
     "output_type": "display_data"
    }
   ],
   "source": [
    "fig, ax = plt.subplots(figsize=(12, 6))\r\n",
    "plt.plot(df_hourly.temp, '.-', label='Temperature')\r\n",
    "plt.plot(df_hourly.feels_like, '.-', label='Feels Like')\r\n",
    "ax.set(title='Temperature in future 48 hours', xlabel='Time', ylabel='Temperature')\r\n",
    "ax.set_xticks(list(range(0, len(df_hourly), 2)))\r\n",
    "ax.set_xticklabels([ts2dt(ts, '%m-%d %H:%M')[0] for i, ts in enumerate(df_hourly.dt) if i%2==0], \r\n",
    "                   rotation=45, ha=\"right\")\r\n",
    "ax.locator_params(nbins=15, axis='y')\r\n",
    "plt.legend()\r\n",
    "plt.show()"
   ]
  },
  {
   "cell_type": "code",
   "execution_count": 10,
   "metadata": {
    "execution": {
     "iopub.execute_input": "2021-10-14T03:12:39.352254Z",
     "iopub.status.busy": "2021-10-14T03:12:39.349867Z",
     "iopub.status.idle": "2021-10-14T03:12:39.374108Z",
     "shell.execute_reply": "2021-10-14T03:12:39.374607Z"
    }
   },
   "outputs": [
    {
     "data": {
      "text/html": [
       "<div>\n",
       "<style scoped>\n",
       "    .dataframe tbody tr th:only-of-type {\n",
       "        vertical-align: middle;\n",
       "    }\n",
       "\n",
       "    .dataframe tbody tr th {\n",
       "        vertical-align: top;\n",
       "    }\n",
       "\n",
       "    .dataframe thead th {\n",
       "        text-align: right;\n",
       "    }\n",
       "</style>\n",
       "<table border=\"1\" class=\"dataframe\">\n",
       "  <thead>\n",
       "    <tr style=\"text-align: right;\">\n",
       "      <th></th>\n",
       "      <th>dt</th>\n",
       "      <th>temp</th>\n",
       "      <th>feels_like</th>\n",
       "      <th>pressure</th>\n",
       "      <th>humidity</th>\n",
       "      <th>dew_point</th>\n",
       "      <th>uvi</th>\n",
       "      <th>clouds</th>\n",
       "      <th>visibility</th>\n",
       "      <th>wind_speed</th>\n",
       "      <th>wind_deg</th>\n",
       "      <th>wind_gust</th>\n",
       "      <th>weather</th>\n",
       "      <th>pop</th>\n",
       "      <th>rain</th>\n",
       "    </tr>\n",
       "  </thead>\n",
       "  <tbody>\n",
       "    <tr>\n",
       "      <th>0</th>\n",
       "      <td>1634180400</td>\n",
       "      <td>29.07</td>\n",
       "      <td>36.07</td>\n",
       "      <td>1021</td>\n",
       "      <td>85</td>\n",
       "      <td>26.29</td>\n",
       "      <td>7.50</td>\n",
       "      <td>93</td>\n",
       "      <td>10000</td>\n",
       "      <td>4.86</td>\n",
       "      <td>53</td>\n",
       "      <td>6.44</td>\n",
       "      <td>[{'id': 804, 'main': 'Clouds', 'description': ...</td>\n",
       "      <td>0.43</td>\n",
       "      <td>NaN</td>\n",
       "    </tr>\n",
       "    <tr>\n",
       "      <th>1</th>\n",
       "      <td>1634184000</td>\n",
       "      <td>28.85</td>\n",
       "      <td>34.96</td>\n",
       "      <td>1019</td>\n",
       "      <td>83</td>\n",
       "      <td>25.67</td>\n",
       "      <td>8.61</td>\n",
       "      <td>92</td>\n",
       "      <td>10000</td>\n",
       "      <td>4.44</td>\n",
       "      <td>56</td>\n",
       "      <td>5.99</td>\n",
       "      <td>[{'id': 804, 'main': 'Clouds', 'description': ...</td>\n",
       "      <td>0.39</td>\n",
       "      <td>NaN</td>\n",
       "    </tr>\n",
       "    <tr>\n",
       "      <th>2</th>\n",
       "      <td>1634187600</td>\n",
       "      <td>28.82</td>\n",
       "      <td>34.24</td>\n",
       "      <td>1016</td>\n",
       "      <td>80</td>\n",
       "      <td>25.02</td>\n",
       "      <td>8.46</td>\n",
       "      <td>87</td>\n",
       "      <td>10000</td>\n",
       "      <td>3.93</td>\n",
       "      <td>66</td>\n",
       "      <td>5.10</td>\n",
       "      <td>[{'id': 804, 'main': 'Clouds', 'description': ...</td>\n",
       "      <td>0.31</td>\n",
       "      <td>NaN</td>\n",
       "    </tr>\n",
       "    <tr>\n",
       "      <th>3</th>\n",
       "      <td>1634191200</td>\n",
       "      <td>28.72</td>\n",
       "      <td>33.78</td>\n",
       "      <td>1013</td>\n",
       "      <td>79</td>\n",
       "      <td>24.71</td>\n",
       "      <td>6.83</td>\n",
       "      <td>86</td>\n",
       "      <td>10000</td>\n",
       "      <td>4.34</td>\n",
       "      <td>70</td>\n",
       "      <td>5.49</td>\n",
       "      <td>[{'id': 804, 'main': 'Clouds', 'description': ...</td>\n",
       "      <td>0.31</td>\n",
       "      <td>NaN</td>\n",
       "    </tr>\n",
       "    <tr>\n",
       "      <th>4</th>\n",
       "      <td>1634194800</td>\n",
       "      <td>28.45</td>\n",
       "      <td>32.72</td>\n",
       "      <td>1011</td>\n",
       "      <td>77</td>\n",
       "      <td>24.02</td>\n",
       "      <td>3.70</td>\n",
       "      <td>90</td>\n",
       "      <td>10000</td>\n",
       "      <td>4.61</td>\n",
       "      <td>69</td>\n",
       "      <td>5.54</td>\n",
       "      <td>[{'id': 804, 'main': 'Clouds', 'description': ...</td>\n",
       "      <td>0.50</td>\n",
       "      <td>NaN</td>\n",
       "    </tr>\n",
       "  </tbody>\n",
       "</table>\n",
       "</div>"
      ],
      "text/plain": [
       "           dt   temp  feels_like  pressure  humidity  dew_point   uvi  clouds  \\\n",
       "0  1634180400  29.07       36.07      1021        85      26.29  7.50      93   \n",
       "1  1634184000  28.85       34.96      1019        83      25.67  8.61      92   \n",
       "2  1634187600  28.82       34.24      1016        80      25.02  8.46      87   \n",
       "3  1634191200  28.72       33.78      1013        79      24.71  6.83      86   \n",
       "4  1634194800  28.45       32.72      1011        77      24.02  3.70      90   \n",
       "\n",
       "   visibility  wind_speed  wind_deg  wind_gust  \\\n",
       "0       10000        4.86        53       6.44   \n",
       "1       10000        4.44        56       5.99   \n",
       "2       10000        3.93        66       5.10   \n",
       "3       10000        4.34        70       5.49   \n",
       "4       10000        4.61        69       5.54   \n",
       "\n",
       "                                             weather   pop rain  \n",
       "0  [{'id': 804, 'main': 'Clouds', 'description': ...  0.43  NaN  \n",
       "1  [{'id': 804, 'main': 'Clouds', 'description': ...  0.39  NaN  \n",
       "2  [{'id': 804, 'main': 'Clouds', 'description': ...  0.31  NaN  \n",
       "3  [{'id': 804, 'main': 'Clouds', 'description': ...  0.31  NaN  \n",
       "4  [{'id': 804, 'main': 'Clouds', 'description': ...  0.50  NaN  "
      ]
     },
     "execution_count": 10,
     "metadata": {},
     "output_type": "execute_result"
    }
   ],
   "source": [
    "df_hourly.head()"
   ]
  },
  {
   "cell_type": "code",
   "execution_count": null,
   "metadata": {},
   "outputs": [],
   "source": []
  }
 ],
 "metadata": {
  "interpreter": {
   "hash": "c1b4cfe941b6d2466ad1fb5979e97da9cda8801728c8091b097ab734208fc00c"
  },
  "kernelspec": {
   "display_name": "Python 3.8.3 64-bit ('base': conda)",
   "name": "python3"
  },
  "language_info": {
   "codemirror_mode": {
    "name": "ipython",
    "version": 3
   },
   "file_extension": ".py",
   "mimetype": "text/x-python",
   "name": "python",
   "nbconvert_exporter": "python",
   "pygments_lexer": "ipython3",
   "version": "3.8.12"
  }
 },
 "nbformat": 4,
 "nbformat_minor": 2
}
