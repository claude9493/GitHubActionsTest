{
 "cells": [
  {
   "cell_type": "code",
   "execution_count": 1,
   "metadata": {
    "execution": {
     "iopub.execute_input": "2021-10-15T13:18:29.321308Z",
     "iopub.status.busy": "2021-10-15T13:18:29.320757Z",
     "iopub.status.idle": "2021-10-15T13:18:31.594004Z",
     "shell.execute_reply": "2021-10-15T13:18:31.593017Z"
    }
   },
   "outputs": [],
   "source": [
    "import json, yaml, requests\r\n",
    "from datetime import datetime\r\n",
    "from dateutil import tz\r\n",
    "import pandas as pd\r\n",
    "from PIL import Image\r\n",
    "from io import BytesIO\r\n",
    "import matplotlib.pyplot as plt\r\n",
    "import seaborn\r\n",
    "\r\n",
    "CONFIG_PATH = \"../config/config.yaml\""
   ]
  },
  {
   "cell_type": "code",
   "execution_count": 2,
   "metadata": {
    "execution": {
     "iopub.execute_input": "2021-10-15T13:18:31.601837Z",
     "iopub.status.busy": "2021-10-15T13:18:31.598449Z",
     "iopub.status.idle": "2021-10-15T13:18:31.604025Z",
     "shell.execute_reply": "2021-10-15T13:18:31.604372Z"
    }
   },
   "outputs": [],
   "source": [
    "with open('../newest_ts', 'r') as f:\r\n",
    "    newest_ts = f.read()\r\n",
    "\r\n",
    "data_path = f\"../data/data_{newest_ts}.json\"\r\n",
    "with open(data_path, 'r') as f:\r\n",
    "    data = json.load(f)\r\n",
    "\r\n",
    "with open(CONFIG_PATH, \"r\") as stream:\r\n",
    "    config = yaml.safe_load(stream)\r\n",
    "\r\n",
    "TIME_ZONE = config['time_zone']\r\n",
    "DATETIME_FORMAT = config['dt_format']"
   ]
  },
  {
   "cell_type": "code",
   "execution_count": 3,
   "metadata": {
    "execution": {
     "iopub.execute_input": "2021-10-15T13:18:31.608740Z",
     "iopub.status.busy": "2021-10-15T13:18:31.608068Z",
     "iopub.status.idle": "2021-10-15T13:18:31.613748Z",
     "shell.execute_reply": "2021-10-15T13:18:31.613352Z"
    }
   },
   "outputs": [
    {
     "name": "stdout",
     "output_type": "stream",
     "text": [
      "Recent query happens at 2021-10-15 21:18:26 (CST).\n"
     ]
    }
   ],
   "source": [
    "def ts2dt(ts, format=DATETIME_FORMAT):\r\n",
    "    dt = (datetime.utcfromtimestamp(int(ts))\r\n",
    "                    .replace(tzinfo=tz.tzutc())\r\n",
    "                    # .astimezone(tz.tzlocal())\r\n",
    "                    .astimezone(tz.gettz(TIME_ZONE)))\r\n",
    "    return dt.strftime(format), dt\r\n",
    "\r\n",
    "_, newest_dt = ts2dt(newest_ts)\r\n",
    "print(f\"Recent query happens at {newest_dt.strftime(DATETIME_FORMAT)} ({newest_dt.tzname()}).\")"
   ]
  },
  {
   "cell_type": "code",
   "execution_count": 4,
   "metadata": {
    "execution": {
     "iopub.execute_input": "2021-10-15T13:18:31.618488Z",
     "iopub.status.busy": "2021-10-15T13:18:31.617428Z",
     "iopub.status.idle": "2021-10-15T13:18:31.619077Z",
     "shell.execute_reply": "2021-10-15T13:18:31.619438Z"
    }
   },
   "outputs": [],
   "source": [
    "def degrees_to_cardinal(d):\r\n",
    "  dirs = ['N', 'NNE', 'NE', 'ENE', 'E', 'ESE', 'SE', 'SSE', 'S', 'SSW', 'SW', 'WSW', 'W', 'WNW', 'NW', 'NNW']\r\n",
    "  ix = int(round(d / (360. / len(dirs))))\r\n",
    "  return dirs[ix % len(dirs)]"
   ]
  },
  {
   "cell_type": "code",
   "execution_count": 5,
   "metadata": {
    "execution": {
     "iopub.execute_input": "2021-10-15T13:18:31.623399Z",
     "iopub.status.busy": "2021-10-15T13:18:31.622330Z",
     "iopub.status.idle": "2021-10-15T13:18:31.623917Z",
     "shell.execute_reply": "2021-10-15T13:18:31.624272Z"
    }
   },
   "outputs": [],
   "source": [
    "# data.keys()"
   ]
  },
  {
   "cell_type": "code",
   "execution_count": 6,
   "metadata": {
    "execution": {
     "iopub.execute_input": "2021-10-15T13:18:31.628005Z",
     "iopub.status.busy": "2021-10-15T13:18:31.626962Z",
     "iopub.status.idle": "2021-10-15T13:18:31.628595Z",
     "shell.execute_reply": "2021-10-15T13:18:31.628989Z"
    }
   },
   "outputs": [],
   "source": [
    "# data['current']"
   ]
  },
  {
   "cell_type": "code",
   "execution_count": 7,
   "metadata": {
    "execution": {
     "iopub.execute_input": "2021-10-15T13:18:31.637664Z",
     "iopub.status.busy": "2021-10-15T13:18:31.637197Z",
     "iopub.status.idle": "2021-10-15T13:18:32.018016Z",
     "shell.execute_reply": "2021-10-15T13:18:32.018402Z"
    }
   },
   "outputs": [
    {
     "data": {
      "image/png": "[encoded data removed]",
      "text/plain": [
       "<Figure size 216x216 with 1 Axes>"
      ]
     },
     "metadata": {
      "needs_background": "light"
     },
     "output_type": "display_data"
    },
    {
     "name": "stdout",
     "output_type": "stream",
     "text": [
      "Today, sun rises at 06:18 and sets at 17:58.\n",
      "Currently, the weather is Clouds (overcast clouds).\n",
      "The temperature is 25.84°C and it feels like 26.8°C.\n",
      "The UV index is 0, humidity is 89%.\n",
      "The pressure is 1011 hPa, percentage of cloud cover is 100%\n",
      "The wind comes from NE direction with a speed 2.68 m/s.\n"
     ]
    }
   ],
   "source": [
    "current = data['current']\r\n",
    "\r\n",
    "fig, ax = plt.subplots(figsize=(3, 3))\r\n",
    "icon = requests.get(f\"http://openweathermap.org/img/wn/{current['weather'][0]['icon']}@2x.png\")\r\n",
    "im = Image.open(BytesIO(icon.content))\r\n",
    "plt.imshow(im)\r\n",
    "ax.set_axis_off()\r\n",
    "plt.show()\r\n",
    "\r\n",
    "print(f\"Today, sun rises at {ts2dt(current['sunrise'], '%H:%M')[0]} \\\r\n",
    "and sets at {ts2dt(current['sunset'], '%H:%M')[0]}.\\n\\\r\n",
    "Currently, the weather is {current['weather'][0]['main']} ({current['weather'][0]['description']}).\\n\\\r\n",
    "The temperature is {current['temp']}°C and it feels like {current['feels_like']}°C.\\n\\\r\n",
    "The UV index is {current['uvi']}, humidity is {current['humidity']}%.\\n\\\r\n",
    "The pressure is {current['pressure']} hPa, percentage of cloud cover is {current['clouds']}%\\n\\\r\n",
    "The wind comes from {degrees_to_cardinal(current['wind_deg'])} direction with a speed {current['wind_speed']} m/s.\")"
   ]
  },
  {
   "cell_type": "code",
   "execution_count": 8,
   "metadata": {
    "execution": {
     "iopub.execute_input": "2021-10-15T13:18:32.023174Z",
     "iopub.status.busy": "2021-10-15T13:18:32.022721Z",
     "iopub.status.idle": "2021-10-15T13:18:32.026041Z",
     "shell.execute_reply": "2021-10-15T13:18:32.026468Z"
    }
   },
   "outputs": [],
   "source": [
    "df_hourly = pd.DataFrame(data['hourly'])\r\n",
    "df_daily = pd.DataFrame(data['daily'])"
   ]
  },
  {
   "cell_type": "code",
   "execution_count": 9,
   "metadata": {
    "execution": {
     "iopub.execute_input": "2021-10-15T13:18:32.028591Z",
     "iopub.status.busy": "2021-10-15T13:18:32.028145Z",
     "iopub.status.idle": "2021-10-15T13:18:32.260642Z",
     "shell.execute_reply": "2021-10-15T13:18:32.260214Z"
    }
   },
   "outputs": [
    {
     "data": {
      "image/png": "[encoded data removed]",
      "text/plain": [
       "<Figure size 864x432 with 1 Axes>"
      ]
     },
     "metadata": {
      "needs_background": "light"
     },
     "output_type": "display_data"
    }
   ],
   "source": [
    "fig, ax = plt.subplots(figsize=(12, 6))\r\n",
    "plt.plot(df_hourly.temp, '.-', label='Temperature')\r\n",
    "plt.plot(df_hourly.feels_like, '.-', label='Feels Like')\r\n",
    "ax.set(title='Temperature in future 48 hours', xlabel='Time', ylabel='Temperature')\r\n",
    "ax.set_xticks(list(range(0, len(df_hourly), 2)))\r\n",
    "ax.set_xticklabels([ts2dt(ts, '%m-%d %H:%M')[0] for i, ts in enumerate(df_hourly.dt) if i%2==0], \r\n",
    "                   rotation=45, ha=\"right\")\r\n",
    "ax.locator_params(nbins=15, axis='y')\r\n",
    "plt.legend()\r\n",
    "plt.show()"
   ]
  },
  {
   "cell_type": "code",
   "execution_count": 10,
   "metadata": {
    "execution": {
     "iopub.execute_input": "2021-10-15T13:18:32.265295Z",
     "iopub.status.busy": "2021-10-15T13:18:32.264825Z",
     "iopub.status.idle": "2021-10-15T13:18:32.283143Z",
     "shell.execute_reply": "2021-10-15T13:18:32.282711Z"
    }
   },
   "outputs": [
    {
     "data": {
      "text/html": [
       "<div>\n",
       "<style scoped>\n",
       "    .dataframe tbody tr th:only-of-type {\n",
       "        vertical-align: middle;\n",
       "    }\n",
       "\n",
       "    .dataframe tbody tr th {\n",
       "        vertical-align: top;\n",
       "    }\n",
       "\n",
       "    .dataframe thead th {\n",
       "        text-align: right;\n",
       "    }\n",
       "</style>\n",
       "<table border=\"1\" class=\"dataframe\">\n",
       "  <thead>\n",
       "    <tr style=\"text-align: right;\">\n",
       "      <th></th>\n",
       "      <th>dt</th>\n",
       "      <th>temp</th>\n",
       "      <th>feels_like</th>\n",
       "      <th>pressure</th>\n",
       "      <th>humidity</th>\n",
       "      <th>dew_point</th>\n",
       "      <th>uvi</th>\n",
       "      <th>clouds</th>\n",
       "      <th>visibility</th>\n",
       "      <th>wind_speed</th>\n",
       "      <th>wind_deg</th>\n",
       "      <th>wind_gust</th>\n",
       "      <th>weather</th>\n",
       "      <th>pop</th>\n",
       "    </tr>\n",
       "  </thead>\n",
       "  <tbody>\n",
       "    <tr>\n",
       "      <th>0</th>\n",
       "      <td>1634302800</td>\n",
       "      <td>25.84</td>\n",
       "      <td>26.80</td>\n",
       "      <td>1011</td>\n",
       "      <td>89</td>\n",
       "      <td>23.89</td>\n",
       "      <td>0.0</td>\n",
       "      <td>100</td>\n",
       "      <td>10000</td>\n",
       "      <td>3.08</td>\n",
       "      <td>359</td>\n",
       "      <td>3.95</td>\n",
       "      <td>[{'id': 804, 'main': 'Clouds', 'description': ...</td>\n",
       "      <td>0.65</td>\n",
       "    </tr>\n",
       "    <tr>\n",
       "      <th>1</th>\n",
       "      <td>1634306400</td>\n",
       "      <td>25.51</td>\n",
       "      <td>26.47</td>\n",
       "      <td>1011</td>\n",
       "      <td>90</td>\n",
       "      <td>23.75</td>\n",
       "      <td>0.0</td>\n",
       "      <td>100</td>\n",
       "      <td>10000</td>\n",
       "      <td>3.43</td>\n",
       "      <td>354</td>\n",
       "      <td>4.40</td>\n",
       "      <td>[{'id': 804, 'main': 'Clouds', 'description': ...</td>\n",
       "      <td>0.63</td>\n",
       "    </tr>\n",
       "    <tr>\n",
       "      <th>2</th>\n",
       "      <td>1634310000</td>\n",
       "      <td>25.19</td>\n",
       "      <td>26.11</td>\n",
       "      <td>1011</td>\n",
       "      <td>90</td>\n",
       "      <td>23.43</td>\n",
       "      <td>0.0</td>\n",
       "      <td>100</td>\n",
       "      <td>10000</td>\n",
       "      <td>3.35</td>\n",
       "      <td>4</td>\n",
       "      <td>4.88</td>\n",
       "      <td>[{'id': 804, 'main': 'Clouds', 'description': ...</td>\n",
       "      <td>0.59</td>\n",
       "    </tr>\n",
       "    <tr>\n",
       "      <th>3</th>\n",
       "      <td>1634313600</td>\n",
       "      <td>24.79</td>\n",
       "      <td>25.67</td>\n",
       "      <td>1012</td>\n",
       "      <td>90</td>\n",
       "      <td>23.04</td>\n",
       "      <td>0.0</td>\n",
       "      <td>100</td>\n",
       "      <td>10000</td>\n",
       "      <td>3.01</td>\n",
       "      <td>6</td>\n",
       "      <td>4.11</td>\n",
       "      <td>[{'id': 804, 'main': 'Clouds', 'description': ...</td>\n",
       "      <td>0.53</td>\n",
       "    </tr>\n",
       "    <tr>\n",
       "      <th>4</th>\n",
       "      <td>1634317200</td>\n",
       "      <td>24.44</td>\n",
       "      <td>25.26</td>\n",
       "      <td>1012</td>\n",
       "      <td>89</td>\n",
       "      <td>22.51</td>\n",
       "      <td>0.0</td>\n",
       "      <td>100</td>\n",
       "      <td>10000</td>\n",
       "      <td>3.16</td>\n",
       "      <td>3</td>\n",
       "      <td>4.30</td>\n",
       "      <td>[{'id': 804, 'main': 'Clouds', 'description': ...</td>\n",
       "      <td>0.57</td>\n",
       "    </tr>\n",
       "  </tbody>\n",
       "</table>\n",
       "</div>"
      ],
      "text/plain": [
       "           dt   temp  feels_like  pressure  humidity  dew_point  uvi  clouds  \\\n",
       "0  1634302800  25.84       26.80      1011        89      23.89  0.0     100   \n",
       "1  1634306400  25.51       26.47      1011        90      23.75  0.0     100   \n",
       "2  1634310000  25.19       26.11      1011        90      23.43  0.0     100   \n",
       "3  1634313600  24.79       25.67      1012        90      23.04  0.0     100   \n",
       "4  1634317200  24.44       25.26      1012        89      22.51  0.0     100   \n",
       "\n",
       "   visibility  wind_speed  wind_deg  wind_gust  \\\n",
       "0       10000        3.08       359       3.95   \n",
       "1       10000        3.43       354       4.40   \n",
       "2       10000        3.35         4       4.88   \n",
       "3       10000        3.01         6       4.11   \n",
       "4       10000        3.16         3       4.30   \n",
       "\n",
       "                                             weather   pop  \n",
       "0  [{'id': 804, 'main': 'Clouds', 'description': ...  0.65  \n",
       "1  [{'id': 804, 'main': 'Clouds', 'description': ...  0.63  \n",
       "2  [{'id': 804, 'main': 'Clouds', 'description': ...  0.59  \n",
       "3  [{'id': 804, 'main': 'Clouds', 'description': ...  0.53  \n",
       "4  [{'id': 804, 'main': 'Clouds', 'description': ...  0.57  "
      ]
     },
     "execution_count": 10,
     "metadata": {},
     "output_type": "execute_result"
    }
   ],
   "source": [
    "df_hourly.head()"
   ]
  },
  {
   "cell_type": "code",
   "execution_count": null,
   "metadata": {},
   "outputs": [],
   "source": []
  }
 ],
 "metadata": {
  "interpreter": {
   "hash": "c1b4cfe941b6d2466ad1fb5979e97da9cda8801728c8091b097ab734208fc00c"
  },
  "kernelspec": {
   "display_name": "Python 3.8.3 64-bit ('base': conda)",
   "name": "python3"
  },
  "language_info": {
   "codemirror_mode": {
    "name": "ipython",
    "version": 3
   },
   "file_extension": ".py",
   "mimetype": "text/x-python",
   "name": "python",
   "nbconvert_exporter": "python",
   "pygments_lexer": "ipython3",
   "version": "3.8.12"
  }
 },
 "nbformat": 4,
 "nbformat_minor": 2
}
