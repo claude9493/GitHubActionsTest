{
 "cells": [
  {
   "cell_type": "code",
   "execution_count": 1,
   "metadata": {
    "execution": {
     "iopub.execute_input": "2021-08-26T14:36:51.865914Z",
     "iopub.status.busy": "2021-08-26T14:36:51.865402Z",
     "iopub.status.idle": "2021-08-26T14:36:53.226405Z",
     "shell.execute_reply": "2021-08-26T14:36:53.225747Z"
    }
   },
   "outputs": [],
   "source": [
    "import json, yaml, requests\r\n",
    "from datetime import datetime\r\n",
    "from dateutil import tz\r\n",
    "import pandas as pd\r\n",
    "from PIL import Image\r\n",
    "from io import BytesIO\r\n",
    "import matplotlib.pyplot as plt\r\n",
    "import seaborn\r\n",
    "\r\n",
    "CONFIG_PATH = \"../config/config.yaml\""
   ]
  },
  {
   "cell_type": "code",
   "execution_count": 2,
   "metadata": {
    "execution": {
     "iopub.execute_input": "2021-08-26T14:36:53.231883Z",
     "iopub.status.busy": "2021-08-26T14:36:53.231369Z",
     "iopub.status.idle": "2021-08-26T14:36:53.235971Z",
     "shell.execute_reply": "2021-08-26T14:36:53.235574Z"
    }
   },
   "outputs": [],
   "source": [
    "with open('../newest_ts', 'r') as f:\r\n",
    "    newest_ts = f.read()\r\n",
    "\r\n",
    "data_path = f\"../data/data_{newest_ts}.json\"\r\n",
    "with open(data_path, 'r') as f:\r\n",
    "    data = json.load(f)\r\n",
    "\r\n",
    "with open(CONFIG_PATH, \"r\") as stream:\r\n",
    "    config = yaml.safe_load(stream)\r\n",
    "\r\n",
    "TIME_ZONE = config['time_zone']\r\n",
    "DATETIME_FORMAT = config['dt_format']"
   ]
  },
  {
   "cell_type": "code",
   "execution_count": 3,
   "metadata": {
    "execution": {
     "iopub.execute_input": "2021-08-26T14:36:53.240086Z",
     "iopub.status.busy": "2021-08-26T14:36:53.239630Z",
     "iopub.status.idle": "2021-08-26T14:36:53.251423Z",
     "shell.execute_reply": "2021-08-26T14:36:53.251792Z"
    }
   },
   "outputs": [
    {
     "name": "stdout",
     "output_type": "stream",
     "text": [
      "Recent query happens at 2021-08-26 22:36:49 (CST).\n"
     ]
    }
   ],
   "source": [
    "def ts2dt(ts, format=DATETIME_FORMAT):\r\n",
    "    dt = (datetime.utcfromtimestamp(int(ts))\r\n",
    "                    .replace(tzinfo=tz.tzutc())\r\n",
    "                    # .astimezone(tz.tzlocal())\r\n",
    "                    .astimezone(tz.gettz(TIME_ZONE)))\r\n",
    "    return dt.strftime(format), dt\r\n",
    "\r\n",
    "_, newest_dt = ts2dt(newest_ts)\r\n",
    "print(f\"Recent query happens at {newest_dt.strftime(DATETIME_FORMAT)} ({newest_dt.tzname()}).\")"
   ]
  },
  {
   "cell_type": "code",
   "execution_count": 4,
   "metadata": {
    "execution": {
     "iopub.execute_input": "2021-08-26T14:36:53.256550Z",
     "iopub.status.busy": "2021-08-26T14:36:53.255484Z",
     "iopub.status.idle": "2021-08-26T14:36:53.257156Z",
     "shell.execute_reply": "2021-08-26T14:36:53.257522Z"
    }
   },
   "outputs": [],
   "source": [
    "def degrees_to_cardinal(d):\r\n",
    "  dirs = ['N', 'NNE', 'NE', 'ENE', 'E', 'ESE', 'SE', 'SSE', 'S', 'SSW', 'SW', 'WSW', 'W', 'WNW', 'NW', 'NNW']\r\n",
    "  ix = int(round(d / (360. / len(dirs))))\r\n",
    "  return dirs[ix % len(dirs)]"
   ]
  },
  {
   "cell_type": "code",
   "execution_count": 5,
   "metadata": {
    "execution": {
     "iopub.execute_input": "2021-08-26T14:36:53.261228Z",
     "iopub.status.busy": "2021-08-26T14:36:53.260234Z",
     "iopub.status.idle": "2021-08-26T14:36:53.261749Z",
     "shell.execute_reply": "2021-08-26T14:36:53.262111Z"
    }
   },
   "outputs": [],
   "source": [
    "# data.keys()"
   ]
  },
  {
   "cell_type": "code",
   "execution_count": 6,
   "metadata": {
    "execution": {
     "iopub.execute_input": "2021-08-26T14:36:53.265639Z",
     "iopub.status.busy": "2021-08-26T14:36:53.264601Z",
     "iopub.status.idle": "2021-08-26T14:36:53.266218Z",
     "shell.execute_reply": "2021-08-26T14:36:53.266582Z"
    }
   },
   "outputs": [],
   "source": [
    "# data['current']"
   ]
  },
  {
   "cell_type": "code",
   "execution_count": 7,
   "metadata": {
    "execution": {
     "iopub.execute_input": "2021-08-26T14:36:53.282908Z",
     "iopub.status.busy": "2021-08-26T14:36:53.282420Z",
     "iopub.status.idle": "2021-08-26T14:36:53.584694Z",
     "shell.execute_reply": "2021-08-26T14:36:53.585352Z"
    }
   },
   "outputs": [
    {
     "data": {
      "image/png": "[encoded data removed]",
      "text/plain": [
       "<Figure size 216x216 with 1 Axes>"
      ]
     },
     "metadata": {
      "needs_background": "light"
     },
     "output_type": "display_data"
    },
    {
     "name": "stdout",
     "output_type": "stream",
     "text": [
      "Today, sun rises at 06:03 and sets at 18:46.\n",
      "Currently, the weather is Clouds (few clouds).\n",
      "The temperature is 30.3°C and it feels like 37.3°C.\n",
      "The UV index is 0, humidity is 79%.\n",
      "The pressure is 1012 hPa, percentage of cloud cover is 22%\n",
      "The wind comes from E direction with a speed 4.29 m/s.\n"
     ]
    }
   ],
   "source": [
    "current = data['current']\r\n",
    "\r\n",
    "fig, ax = plt.subplots(figsize=(3, 3))\r\n",
    "icon = requests.get(f\"http://openweathermap.org/img/wn/{current['weather'][0]['icon']}@2x.png\")\r\n",
    "im = Image.open(BytesIO(icon.content))\r\n",
    "plt.imshow(im)\r\n",
    "ax.set_axis_off()\r\n",
    "plt.show()\r\n",
    "\r\n",
    "print(f\"Today, sun rises at {ts2dt(current['sunrise'], '%H:%M')[0]} \\\r\n",
    "and sets at {ts2dt(current['sunset'], '%H:%M')[0]}.\\n\\\r\n",
    "Currently, the weather is {current['weather'][0]['main']} ({current['weather'][0]['description']}).\\n\\\r\n",
    "The temperature is {current['temp']}°C and it feels like {current['feels_like']}°C.\\n\\\r\n",
    "The UV index is {current['uvi']}, humidity is {current['humidity']}%.\\n\\\r\n",
    "The pressure is {current['pressure']} hPa, percentage of cloud cover is {current['clouds']}%\\n\\\r\n",
    "The wind comes from {degrees_to_cardinal(current['wind_deg'])} direction with a speed {current['wind_speed']} m/s.\")"
   ]
  },
  {
   "cell_type": "code",
   "execution_count": 8,
   "metadata": {
    "execution": {
     "iopub.execute_input": "2021-08-26T14:36:53.588527Z",
     "iopub.status.busy": "2021-08-26T14:36:53.587599Z",
     "iopub.status.idle": "2021-08-26T14:36:53.594492Z",
     "shell.execute_reply": "2021-08-26T14:36:53.595146Z"
    }
   },
   "outputs": [],
   "source": [
    "df_hourly = pd.DataFrame(data['hourly'])\r\n",
    "df_daily = pd.DataFrame(data['daily'])"
   ]
  },
  {
   "cell_type": "code",
   "execution_count": 9,
   "metadata": {
    "execution": {
     "iopub.execute_input": "2021-08-26T14:36:53.598143Z",
     "iopub.status.busy": "2021-08-26T14:36:53.597248Z",
     "iopub.status.idle": "2021-08-26T14:36:53.840957Z",
     "shell.execute_reply": "2021-08-26T14:36:53.841382Z"
    }
   },
   "outputs": [
    {
     "data": {
      "image/png": "[encoded data removed]",
      "text/plain": [
       "<Figure size 864x432 with 1 Axes>"
      ]
     },
     "metadata": {
      "needs_background": "light"
     },
     "output_type": "display_data"
    }
   ],
   "source": [
    "fig, ax = plt.subplots(figsize=(12, 6))\r\n",
    "plt.plot(df_hourly.temp, '.-', label='Temperature')\r\n",
    "plt.plot(df_hourly.feels_like, '.-', label='Feels Like')\r\n",
    "ax.set(title='Temperature in future 48 hours', xlabel='Time', ylabel='Temperature')\r\n",
    "ax.set_xticks(list(range(0, len(df_hourly), 2)))\r\n",
    "ax.set_xticklabels([ts2dt(ts, '%m-%d %H:%M')[0] for i, ts in enumerate(df_hourly.dt) if i%2==0], \r\n",
    "                   rotation=45, ha=\"right\")\r\n",
    "ax.locator_params(nbins=15, axis='y')\r\n",
    "plt.legend()\r\n",
    "plt.show()"
   ]
  },
  {
   "cell_type": "code",
   "execution_count": 10,
   "metadata": {
    "execution": {
     "iopub.execute_input": "2021-08-26T14:36:53.845622Z",
     "iopub.status.busy": "2021-08-26T14:36:53.845169Z",
     "iopub.status.idle": "2021-08-26T14:36:53.862050Z",
     "shell.execute_reply": "2021-08-26T14:36:53.862428Z"
    }
   },
   "outputs": [
    {
     "data": {
      "text/html": [
       "<div>\n",
       "<style scoped>\n",
       "    .dataframe tbody tr th:only-of-type {\n",
       "        vertical-align: middle;\n",
       "    }\n",
       "\n",
       "    .dataframe tbody tr th {\n",
       "        vertical-align: top;\n",
       "    }\n",
       "\n",
       "    .dataframe thead th {\n",
       "        text-align: right;\n",
       "    }\n",
       "</style>\n",
       "<table border=\"1\" class=\"dataframe\">\n",
       "  <thead>\n",
       "    <tr style=\"text-align: right;\">\n",
       "      <th></th>\n",
       "      <th>dt</th>\n",
       "      <th>temp</th>\n",
       "      <th>feels_like</th>\n",
       "      <th>pressure</th>\n",
       "      <th>humidity</th>\n",
       "      <th>dew_point</th>\n",
       "      <th>uvi</th>\n",
       "      <th>clouds</th>\n",
       "      <th>visibility</th>\n",
       "      <th>wind_speed</th>\n",
       "      <th>wind_deg</th>\n",
       "      <th>wind_gust</th>\n",
       "      <th>weather</th>\n",
       "      <th>pop</th>\n",
       "      <th>rain</th>\n",
       "    </tr>\n",
       "  </thead>\n",
       "  <tbody>\n",
       "    <tr>\n",
       "      <th>0</th>\n",
       "      <td>1629986400</td>\n",
       "      <td>29.87</td>\n",
       "      <td>36.87</td>\n",
       "      <td>1012</td>\n",
       "      <td>80</td>\n",
       "      <td>26.04</td>\n",
       "      <td>0.0</td>\n",
       "      <td>23</td>\n",
       "      <td>10000</td>\n",
       "      <td>4.53</td>\n",
       "      <td>103</td>\n",
       "      <td>6.26</td>\n",
       "      <td>[{'id': 801, 'main': 'Clouds', 'description': ...</td>\n",
       "      <td>0.00</td>\n",
       "      <td>NaN</td>\n",
       "    </tr>\n",
       "    <tr>\n",
       "      <th>1</th>\n",
       "      <td>1629990000</td>\n",
       "      <td>30.30</td>\n",
       "      <td>37.30</td>\n",
       "      <td>1012</td>\n",
       "      <td>79</td>\n",
       "      <td>26.25</td>\n",
       "      <td>0.0</td>\n",
       "      <td>22</td>\n",
       "      <td>10000</td>\n",
       "      <td>4.29</td>\n",
       "      <td>97</td>\n",
       "      <td>6.03</td>\n",
       "      <td>[{'id': 801, 'main': 'Clouds', 'description': ...</td>\n",
       "      <td>0.00</td>\n",
       "      <td>NaN</td>\n",
       "    </tr>\n",
       "    <tr>\n",
       "      <th>2</th>\n",
       "      <td>1629993600</td>\n",
       "      <td>29.82</td>\n",
       "      <td>36.82</td>\n",
       "      <td>1012</td>\n",
       "      <td>80</td>\n",
       "      <td>25.99</td>\n",
       "      <td>0.0</td>\n",
       "      <td>25</td>\n",
       "      <td>10000</td>\n",
       "      <td>4.29</td>\n",
       "      <td>95</td>\n",
       "      <td>5.77</td>\n",
       "      <td>[{'id': 802, 'main': 'Clouds', 'description': ...</td>\n",
       "      <td>0.00</td>\n",
       "      <td>NaN</td>\n",
       "    </tr>\n",
       "    <tr>\n",
       "      <th>3</th>\n",
       "      <td>1629997200</td>\n",
       "      <td>29.29</td>\n",
       "      <td>35.80</td>\n",
       "      <td>1012</td>\n",
       "      <td>81</td>\n",
       "      <td>25.69</td>\n",
       "      <td>0.0</td>\n",
       "      <td>33</td>\n",
       "      <td>10000</td>\n",
       "      <td>4.03</td>\n",
       "      <td>88</td>\n",
       "      <td>5.22</td>\n",
       "      <td>[{'id': 802, 'main': 'Clouds', 'description': ...</td>\n",
       "      <td>0.00</td>\n",
       "      <td>NaN</td>\n",
       "    </tr>\n",
       "    <tr>\n",
       "      <th>4</th>\n",
       "      <td>1630000800</td>\n",
       "      <td>28.66</td>\n",
       "      <td>34.01</td>\n",
       "      <td>1011</td>\n",
       "      <td>81</td>\n",
       "      <td>25.07</td>\n",
       "      <td>0.0</td>\n",
       "      <td>39</td>\n",
       "      <td>10000</td>\n",
       "      <td>4.18</td>\n",
       "      <td>85</td>\n",
       "      <td>5.39</td>\n",
       "      <td>[{'id': 802, 'main': 'Clouds', 'description': ...</td>\n",
       "      <td>0.08</td>\n",
       "      <td>NaN</td>\n",
       "    </tr>\n",
       "  </tbody>\n",
       "</table>\n",
       "</div>"
      ],
      "text/plain": [
       "           dt   temp  feels_like  pressure  humidity  dew_point  uvi  clouds  \\\n",
       "0  1629986400  29.87       36.87      1012        80      26.04  0.0      23   \n",
       "1  1629990000  30.30       37.30      1012        79      26.25  0.0      22   \n",
       "2  1629993600  29.82       36.82      1012        80      25.99  0.0      25   \n",
       "3  1629997200  29.29       35.80      1012        81      25.69  0.0      33   \n",
       "4  1630000800  28.66       34.01      1011        81      25.07  0.0      39   \n",
       "\n",
       "   visibility  wind_speed  wind_deg  wind_gust  \\\n",
       "0       10000        4.53       103       6.26   \n",
       "1       10000        4.29        97       6.03   \n",
       "2       10000        4.29        95       5.77   \n",
       "3       10000        4.03        88       5.22   \n",
       "4       10000        4.18        85       5.39   \n",
       "\n",
       "                                             weather   pop rain  \n",
       "0  [{'id': 801, 'main': 'Clouds', 'description': ...  0.00  NaN  \n",
       "1  [{'id': 801, 'main': 'Clouds', 'description': ...  0.00  NaN  \n",
       "2  [{'id': 802, 'main': 'Clouds', 'description': ...  0.00  NaN  \n",
       "3  [{'id': 802, 'main': 'Clouds', 'description': ...  0.00  NaN  \n",
       "4  [{'id': 802, 'main': 'Clouds', 'description': ...  0.08  NaN  "
      ]
     },
     "execution_count": 10,
     "metadata": {},
     "output_type": "execute_result"
    }
   ],
   "source": [
    "df_hourly.head()"
   ]
  },
  {
   "cell_type": "code",
   "execution_count": null,
   "metadata": {},
   "outputs": [],
   "source": []
  }
 ],
 "metadata": {
  "interpreter": {
   "hash": "c1b4cfe941b6d2466ad1fb5979e97da9cda8801728c8091b097ab734208fc00c"
  },
  "kernelspec": {
   "display_name": "Python 3.8.3 64-bit ('base': conda)",
   "name": "python3"
  },
  "language_info": {
   "codemirror_mode": {
    "name": "ipython",
    "version": 3
   },
   "file_extension": ".py",
   "mimetype": "text/x-python",
   "name": "python",
   "nbconvert_exporter": "python",
   "pygments_lexer": "ipython3",
   "version": "3.8.11"
  }
 },
 "nbformat": 4,
 "nbformat_minor": 2
}
