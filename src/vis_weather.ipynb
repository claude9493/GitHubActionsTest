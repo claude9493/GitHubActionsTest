{
 "cells": [
  {
   "cell_type": "code",
   "execution_count": 1,
   "metadata": {
    "execution": {
     "iopub.execute_input": "2021-08-28T06:46:07.224656Z",
     "iopub.status.busy": "2021-08-28T06:46:07.224101Z",
     "iopub.status.idle": "2021-08-28T06:46:08.371123Z",
     "shell.execute_reply": "2021-08-28T06:46:08.370546Z"
    }
   },
   "outputs": [],
   "source": [
    "import json, yaml, requests\r\n",
    "from datetime import datetime\r\n",
    "from dateutil import tz\r\n",
    "import pandas as pd\r\n",
    "from PIL import Image\r\n",
    "from io import BytesIO\r\n",
    "import matplotlib.pyplot as plt\r\n",
    "import seaborn\r\n",
    "\r\n",
    "CONFIG_PATH = \"../config/config.yaml\""
   ]
  },
  {
   "cell_type": "code",
   "execution_count": 2,
   "metadata": {
    "execution": {
     "iopub.execute_input": "2021-08-28T06:46:08.377886Z",
     "iopub.status.busy": "2021-08-28T06:46:08.375159Z",
     "iopub.status.idle": "2021-08-28T06:46:08.381066Z",
     "shell.execute_reply": "2021-08-28T06:46:08.380697Z"
    }
   },
   "outputs": [],
   "source": [
    "with open('../newest_ts', 'r') as f:\r\n",
    "    newest_ts = f.read()\r\n",
    "\r\n",
    "data_path = f\"../data/data_{newest_ts}.json\"\r\n",
    "with open(data_path, 'r') as f:\r\n",
    "    data = json.load(f)\r\n",
    "\r\n",
    "with open(CONFIG_PATH, \"r\") as stream:\r\n",
    "    config = yaml.safe_load(stream)\r\n",
    "\r\n",
    "TIME_ZONE = config['time_zone']\r\n",
    "DATETIME_FORMAT = config['dt_format']"
   ]
  },
  {
   "cell_type": "code",
   "execution_count": 3,
   "metadata": {
    "execution": {
     "iopub.execute_input": "2021-08-28T06:46:08.385219Z",
     "iopub.status.busy": "2021-08-28T06:46:08.384702Z",
     "iopub.status.idle": "2021-08-28T06:46:08.388633Z",
     "shell.execute_reply": "2021-08-28T06:46:08.389003Z"
    }
   },
   "outputs": [
    {
     "name": "stdout",
     "output_type": "stream",
     "text": [
      "Recent query happens at 2021-08-28 14:46:04 (CST).\n"
     ]
    }
   ],
   "source": [
    "def ts2dt(ts, format=DATETIME_FORMAT):\r\n",
    "    dt = (datetime.utcfromtimestamp(int(ts))\r\n",
    "                    .replace(tzinfo=tz.tzutc())\r\n",
    "                    # .astimezone(tz.tzlocal())\r\n",
    "                    .astimezone(tz.gettz(TIME_ZONE)))\r\n",
    "    return dt.strftime(format), dt\r\n",
    "\r\n",
    "_, newest_dt = ts2dt(newest_ts)\r\n",
    "print(f\"Recent query happens at {newest_dt.strftime(DATETIME_FORMAT)} ({newest_dt.tzname()}).\")"
   ]
  },
  {
   "cell_type": "code",
   "execution_count": 4,
   "metadata": {
    "execution": {
     "iopub.execute_input": "2021-08-28T06:46:08.393559Z",
     "iopub.status.busy": "2021-08-28T06:46:08.392593Z",
     "iopub.status.idle": "2021-08-28T06:46:08.394074Z",
     "shell.execute_reply": "2021-08-28T06:46:08.394437Z"
    }
   },
   "outputs": [],
   "source": [
    "def degrees_to_cardinal(d):\r\n",
    "  dirs = ['N', 'NNE', 'NE', 'ENE', 'E', 'ESE', 'SE', 'SSE', 'S', 'SSW', 'SW', 'WSW', 'W', 'WNW', 'NW', 'NNW']\r\n",
    "  ix = int(round(d / (360. / len(dirs))))\r\n",
    "  return dirs[ix % len(dirs)]"
   ]
  },
  {
   "cell_type": "code",
   "execution_count": 5,
   "metadata": {
    "execution": {
     "iopub.execute_input": "2021-08-28T06:46:08.398037Z",
     "iopub.status.busy": "2021-08-28T06:46:08.397108Z",
     "iopub.status.idle": "2021-08-28T06:46:08.399086Z",
     "shell.execute_reply": "2021-08-28T06:46:08.398695Z"
    }
   },
   "outputs": [],
   "source": [
    "# data.keys()"
   ]
  },
  {
   "cell_type": "code",
   "execution_count": 6,
   "metadata": {
    "execution": {
     "iopub.execute_input": "2021-08-28T06:46:08.402569Z",
     "iopub.status.busy": "2021-08-28T06:46:08.401549Z",
     "iopub.status.idle": "2021-08-28T06:46:08.403171Z",
     "shell.execute_reply": "2021-08-28T06:46:08.403558Z"
    }
   },
   "outputs": [],
   "source": [
    "# data['current']"
   ]
  },
  {
   "cell_type": "code",
   "execution_count": 7,
   "metadata": {
    "execution": {
     "iopub.execute_input": "2021-08-28T06:46:08.420311Z",
     "iopub.status.busy": "2021-08-28T06:46:08.418755Z",
     "iopub.status.idle": "2021-08-28T06:46:08.694590Z",
     "shell.execute_reply": "2021-08-28T06:46:08.695024Z"
    }
   },
   "outputs": [
    {
     "data": {
      "image/png": "[encoded data removed]",
      "text/plain": [
       "<Figure size 216x216 with 1 Axes>"
      ]
     },
     "metadata": {
      "needs_background": "light"
     },
     "output_type": "display_data"
    },
    {
     "name": "stdout",
     "output_type": "stream",
     "text": [
      "Today, sun rises at 06:04 and sets at 18:44.\n",
      "Currently, the weather is Clouds (few clouds).\n",
      "The temperature is 28.59°C and it feels like 34.21°C.\n",
      "The UV index is 5.99, humidity is 83%.\n",
      "The pressure is 1010 hPa, percentage of cloud cover is 16%\n",
      "The wind comes from E direction with a speed 4.86 m/s.\n"
     ]
    }
   ],
   "source": [
    "current = data['current']\r\n",
    "\r\n",
    "fig, ax = plt.subplots(figsize=(3, 3))\r\n",
    "icon = requests.get(f\"http://openweathermap.org/img/wn/{current['weather'][0]['icon']}@2x.png\")\r\n",
    "im = Image.open(BytesIO(icon.content))\r\n",
    "plt.imshow(im)\r\n",
    "ax.set_axis_off()\r\n",
    "plt.show()\r\n",
    "\r\n",
    "print(f\"Today, sun rises at {ts2dt(current['sunrise'], '%H:%M')[0]} \\\r\n",
    "and sets at {ts2dt(current['sunset'], '%H:%M')[0]}.\\n\\\r\n",
    "Currently, the weather is {current['weather'][0]['main']} ({current['weather'][0]['description']}).\\n\\\r\n",
    "The temperature is {current['temp']}°C and it feels like {current['feels_like']}°C.\\n\\\r\n",
    "The UV index is {current['uvi']}, humidity is {current['humidity']}%.\\n\\\r\n",
    "The pressure is {current['pressure']} hPa, percentage of cloud cover is {current['clouds']}%\\n\\\r\n",
    "The wind comes from {degrees_to_cardinal(current['wind_deg'])} direction with a speed {current['wind_speed']} m/s.\")"
   ]
  },
  {
   "cell_type": "code",
   "execution_count": 8,
   "metadata": {
    "execution": {
     "iopub.execute_input": "2021-08-28T06:46:08.697269Z",
     "iopub.status.busy": "2021-08-28T06:46:08.696826Z",
     "iopub.status.idle": "2021-08-28T06:46:08.702086Z",
     "shell.execute_reply": "2021-08-28T06:46:08.702513Z"
    }
   },
   "outputs": [],
   "source": [
    "df_hourly = pd.DataFrame(data['hourly'])\r\n",
    "df_daily = pd.DataFrame(data['daily'])"
   ]
  },
  {
   "cell_type": "code",
   "execution_count": 9,
   "metadata": {
    "execution": {
     "iopub.execute_input": "2021-08-28T06:46:08.704834Z",
     "iopub.status.busy": "2021-08-28T06:46:08.704383Z",
     "iopub.status.idle": "2021-08-28T06:46:08.938704Z",
     "shell.execute_reply": "2021-08-28T06:46:08.938251Z"
    }
   },
   "outputs": [
    {
     "data": {
      "image/png": "[encoded data removed]",
      "text/plain": [
       "<Figure size 864x432 with 1 Axes>"
      ]
     },
     "metadata": {
      "needs_background": "light"
     },
     "output_type": "display_data"
    }
   ],
   "source": [
    "fig, ax = plt.subplots(figsize=(12, 6))\r\n",
    "plt.plot(df_hourly.temp, '.-', label='Temperature')\r\n",
    "plt.plot(df_hourly.feels_like, '.-', label='Feels Like')\r\n",
    "ax.set(title='Temperature in future 48 hours', xlabel='Time', ylabel='Temperature')\r\n",
    "ax.set_xticks(list(range(0, len(df_hourly), 2)))\r\n",
    "ax.set_xticklabels([ts2dt(ts, '%m-%d %H:%M')[0] for i, ts in enumerate(df_hourly.dt) if i%2==0], \r\n",
    "                   rotation=45, ha=\"right\")\r\n",
    "ax.locator_params(nbins=15, axis='y')\r\n",
    "plt.legend()\r\n",
    "plt.show()"
   ]
  },
  {
   "cell_type": "code",
   "execution_count": 10,
   "metadata": {
    "execution": {
     "iopub.execute_input": "2021-08-28T06:46:08.948784Z",
     "iopub.status.busy": "2021-08-28T06:46:08.941705Z",
     "iopub.status.idle": "2021-08-28T06:46:08.957949Z",
     "shell.execute_reply": "2021-08-28T06:46:08.957483Z"
    }
   },
   "outputs": [
    {
     "data": {
      "text/html": [
       "<div>\n",
       "<style scoped>\n",
       "    .dataframe tbody tr th:only-of-type {\n",
       "        vertical-align: middle;\n",
       "    }\n",
       "\n",
       "    .dataframe tbody tr th {\n",
       "        vertical-align: top;\n",
       "    }\n",
       "\n",
       "    .dataframe thead th {\n",
       "        text-align: right;\n",
       "    }\n",
       "</style>\n",
       "<table border=\"1\" class=\"dataframe\">\n",
       "  <thead>\n",
       "    <tr style=\"text-align: right;\">\n",
       "      <th></th>\n",
       "      <th>dt</th>\n",
       "      <th>temp</th>\n",
       "      <th>feels_like</th>\n",
       "      <th>pressure</th>\n",
       "      <th>humidity</th>\n",
       "      <th>dew_point</th>\n",
       "      <th>uvi</th>\n",
       "      <th>clouds</th>\n",
       "      <th>visibility</th>\n",
       "      <th>wind_speed</th>\n",
       "      <th>wind_deg</th>\n",
       "      <th>wind_gust</th>\n",
       "      <th>weather</th>\n",
       "      <th>pop</th>\n",
       "      <th>rain</th>\n",
       "    </tr>\n",
       "  </thead>\n",
       "  <tbody>\n",
       "    <tr>\n",
       "      <th>0</th>\n",
       "      <td>1630130400</td>\n",
       "      <td>28.92</td>\n",
       "      <td>34.10</td>\n",
       "      <td>1010</td>\n",
       "      <td>78</td>\n",
       "      <td>24.69</td>\n",
       "      <td>9.57</td>\n",
       "      <td>19</td>\n",
       "      <td>10000</td>\n",
       "      <td>4.73</td>\n",
       "      <td>91</td>\n",
       "      <td>6.14</td>\n",
       "      <td>[{'id': 801, 'main': 'Clouds', 'description': ...</td>\n",
       "      <td>0.64</td>\n",
       "      <td>NaN</td>\n",
       "    </tr>\n",
       "    <tr>\n",
       "      <th>1</th>\n",
       "      <td>1630134000</td>\n",
       "      <td>28.59</td>\n",
       "      <td>34.21</td>\n",
       "      <td>1010</td>\n",
       "      <td>83</td>\n",
       "      <td>25.42</td>\n",
       "      <td>5.99</td>\n",
       "      <td>16</td>\n",
       "      <td>10000</td>\n",
       "      <td>4.86</td>\n",
       "      <td>90</td>\n",
       "      <td>6.25</td>\n",
       "      <td>[{'id': 801, 'main': 'Clouds', 'description': ...</td>\n",
       "      <td>0.42</td>\n",
       "      <td>NaN</td>\n",
       "    </tr>\n",
       "    <tr>\n",
       "      <th>2</th>\n",
       "      <td>1630137600</td>\n",
       "      <td>28.79</td>\n",
       "      <td>33.96</td>\n",
       "      <td>1010</td>\n",
       "      <td>79</td>\n",
       "      <td>24.78</td>\n",
       "      <td>3.17</td>\n",
       "      <td>17</td>\n",
       "      <td>10000</td>\n",
       "      <td>4.94</td>\n",
       "      <td>92</td>\n",
       "      <td>6.48</td>\n",
       "      <td>[{'id': 500, 'main': 'Rain', 'description': 'l...</td>\n",
       "      <td>0.46</td>\n",
       "      <td>{'1h': 0.27}</td>\n",
       "    </tr>\n",
       "    <tr>\n",
       "      <th>3</th>\n",
       "      <td>1630141200</td>\n",
       "      <td>28.93</td>\n",
       "      <td>33.52</td>\n",
       "      <td>1010</td>\n",
       "      <td>75</td>\n",
       "      <td>24.05</td>\n",
       "      <td>1.15</td>\n",
       "      <td>22</td>\n",
       "      <td>10000</td>\n",
       "      <td>4.37</td>\n",
       "      <td>94</td>\n",
       "      <td>6.16</td>\n",
       "      <td>[{'id': 500, 'main': 'Rain', 'description': 'l...</td>\n",
       "      <td>0.47</td>\n",
       "      <td>{'1h': 0.65}</td>\n",
       "    </tr>\n",
       "    <tr>\n",
       "      <th>4</th>\n",
       "      <td>1630144800</td>\n",
       "      <td>28.83</td>\n",
       "      <td>33.09</td>\n",
       "      <td>1009</td>\n",
       "      <td>74</td>\n",
       "      <td>23.73</td>\n",
       "      <td>0.07</td>\n",
       "      <td>30</td>\n",
       "      <td>10000</td>\n",
       "      <td>3.93</td>\n",
       "      <td>94</td>\n",
       "      <td>5.95</td>\n",
       "      <td>[{'id': 802, 'main': 'Clouds', 'description': ...</td>\n",
       "      <td>0.47</td>\n",
       "      <td>NaN</td>\n",
       "    </tr>\n",
       "  </tbody>\n",
       "</table>\n",
       "</div>"
      ],
      "text/plain": [
       "           dt   temp  feels_like  pressure  humidity  dew_point   uvi  clouds  \\\n",
       "0  1630130400  28.92       34.10      1010        78      24.69  9.57      19   \n",
       "1  1630134000  28.59       34.21      1010        83      25.42  5.99      16   \n",
       "2  1630137600  28.79       33.96      1010        79      24.78  3.17      17   \n",
       "3  1630141200  28.93       33.52      1010        75      24.05  1.15      22   \n",
       "4  1630144800  28.83       33.09      1009        74      23.73  0.07      30   \n",
       "\n",
       "   visibility  wind_speed  wind_deg  wind_gust  \\\n",
       "0       10000        4.73        91       6.14   \n",
       "1       10000        4.86        90       6.25   \n",
       "2       10000        4.94        92       6.48   \n",
       "3       10000        4.37        94       6.16   \n",
       "4       10000        3.93        94       5.95   \n",
       "\n",
       "                                             weather   pop          rain  \n",
       "0  [{'id': 801, 'main': 'Clouds', 'description': ...  0.64           NaN  \n",
       "1  [{'id': 801, 'main': 'Clouds', 'description': ...  0.42           NaN  \n",
       "2  [{'id': 500, 'main': 'Rain', 'description': 'l...  0.46  {'1h': 0.27}  \n",
       "3  [{'id': 500, 'main': 'Rain', 'description': 'l...  0.47  {'1h': 0.65}  \n",
       "4  [{'id': 802, 'main': 'Clouds', 'description': ...  0.47           NaN  "
      ]
     },
     "execution_count": 10,
     "metadata": {},
     "output_type": "execute_result"
    }
   ],
   "source": [
    "df_hourly.head()"
   ]
  },
  {
   "cell_type": "code",
   "execution_count": null,
   "metadata": {},
   "outputs": [],
   "source": []
  }
 ],
 "metadata": {
  "interpreter": {
   "hash": "c1b4cfe941b6d2466ad1fb5979e97da9cda8801728c8091b097ab734208fc00c"
  },
  "kernelspec": {
   "display_name": "Python 3.8.3 64-bit ('base': conda)",
   "name": "python3"
  },
  "language_info": {
   "codemirror_mode": {
    "name": "ipython",
    "version": 3
   },
   "file_extension": ".py",
   "mimetype": "text/x-python",
   "name": "python",
   "nbconvert_exporter": "python",
   "pygments_lexer": "ipython3",
   "version": "3.8.11"
  }
 },
 "nbformat": 4,
 "nbformat_minor": 2
}
