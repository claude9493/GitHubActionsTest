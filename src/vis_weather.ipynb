{
 "cells": [
  {
   "cell_type": "code",
   "execution_count": 1,
   "metadata": {
    "execution": {
     "iopub.execute_input": "2021-09-23T03:12:12.129209Z",
     "iopub.status.busy": "2021-09-23T03:12:12.128425Z",
     "iopub.status.idle": "2021-09-23T03:12:13.386950Z",
     "shell.execute_reply": "2021-09-23T03:12:13.387370Z"
    }
   },
   "outputs": [],
   "source": [
    "import json, yaml, requests\r\n",
    "from datetime import datetime\r\n",
    "from dateutil import tz\r\n",
    "import pandas as pd\r\n",
    "from PIL import Image\r\n",
    "from io import BytesIO\r\n",
    "import matplotlib.pyplot as plt\r\n",
    "import seaborn\r\n",
    "\r\n",
    "CONFIG_PATH = \"../config/config.yaml\""
   ]
  },
  {
   "cell_type": "code",
   "execution_count": 2,
   "metadata": {
    "execution": {
     "iopub.execute_input": "2021-09-23T03:12:13.392928Z",
     "iopub.status.busy": "2021-09-23T03:12:13.392306Z",
     "iopub.status.idle": "2021-09-23T03:12:13.399522Z",
     "shell.execute_reply": "2021-09-23T03:12:13.400016Z"
    }
   },
   "outputs": [],
   "source": [
    "with open('../newest_ts', 'r') as f:\r\n",
    "    newest_ts = f.read()\r\n",
    "\r\n",
    "data_path = f\"../data/data_{newest_ts}.json\"\r\n",
    "with open(data_path, 'r') as f:\r\n",
    "    data = json.load(f)\r\n",
    "\r\n",
    "with open(CONFIG_PATH, \"r\") as stream:\r\n",
    "    config = yaml.safe_load(stream)\r\n",
    "\r\n",
    "TIME_ZONE = config['time_zone']\r\n",
    "DATETIME_FORMAT = config['dt_format']"
   ]
  },
  {
   "cell_type": "code",
   "execution_count": 3,
   "metadata": {
    "execution": {
     "iopub.execute_input": "2021-09-23T03:12:13.405832Z",
     "iopub.status.busy": "2021-09-23T03:12:13.405178Z",
     "iopub.status.idle": "2021-09-23T03:12:13.419230Z",
     "shell.execute_reply": "2021-09-23T03:12:13.418413Z"
    }
   },
   "outputs": [
    {
     "name": "stdout",
     "output_type": "stream",
     "text": [
      "Recent query happens at 2021-09-23 11:12:08 (CST).\n"
     ]
    }
   ],
   "source": [
    "def ts2dt(ts, format=DATETIME_FORMAT):\r\n",
    "    dt = (datetime.utcfromtimestamp(int(ts))\r\n",
    "                    .replace(tzinfo=tz.tzutc())\r\n",
    "                    # .astimezone(tz.tzlocal())\r\n",
    "                    .astimezone(tz.gettz(TIME_ZONE)))\r\n",
    "    return dt.strftime(format), dt\r\n",
    "\r\n",
    "_, newest_dt = ts2dt(newest_ts)\r\n",
    "print(f\"Recent query happens at {newest_dt.strftime(DATETIME_FORMAT)} ({newest_dt.tzname()}).\")"
   ]
  },
  {
   "cell_type": "code",
   "execution_count": 4,
   "metadata": {
    "execution": {
     "iopub.execute_input": "2021-09-23T03:12:13.424507Z",
     "iopub.status.busy": "2021-09-23T03:12:13.423764Z",
     "iopub.status.idle": "2021-09-23T03:12:13.428157Z",
     "shell.execute_reply": "2021-09-23T03:12:13.427139Z"
    }
   },
   "outputs": [],
   "source": [
    "def degrees_to_cardinal(d):\r\n",
    "  dirs = ['N', 'NNE', 'NE', 'ENE', 'E', 'ESE', 'SE', 'SSE', 'S', 'SSW', 'SW', 'WSW', 'W', 'WNW', 'NW', 'NNW']\r\n",
    "  ix = int(round(d / (360. / len(dirs))))\r\n",
    "  return dirs[ix % len(dirs)]"
   ]
  },
  {
   "cell_type": "code",
   "execution_count": 5,
   "metadata": {
    "execution": {
     "iopub.execute_input": "2021-09-23T03:12:13.432019Z",
     "iopub.status.busy": "2021-09-23T03:12:13.431505Z",
     "iopub.status.idle": "2021-09-23T03:12:13.435017Z",
     "shell.execute_reply": "2021-09-23T03:12:13.435540Z"
    }
   },
   "outputs": [],
   "source": [
    "# data.keys()"
   ]
  },
  {
   "cell_type": "code",
   "execution_count": 6,
   "metadata": {
    "execution": {
     "iopub.execute_input": "2021-09-23T03:12:13.439657Z",
     "iopub.status.busy": "2021-09-23T03:12:13.439085Z",
     "iopub.status.idle": "2021-09-23T03:12:13.442508Z",
     "shell.execute_reply": "2021-09-23T03:12:13.443224Z"
    }
   },
   "outputs": [],
   "source": [
    "# data['current']"
   ]
  },
  {
   "cell_type": "code",
   "execution_count": 7,
   "metadata": {
    "execution": {
     "iopub.execute_input": "2021-09-23T03:12:13.455484Z",
     "iopub.status.busy": "2021-09-23T03:12:13.454863Z",
     "iopub.status.idle": "2021-09-23T03:12:13.879574Z",
     "shell.execute_reply": "2021-09-23T03:12:13.880446Z"
    }
   },
   "outputs": [
    {
     "data": {
      "image/png": "[encoded data removed]",
      "text/plain": [
       "<Figure size 216x216 with 1 Axes>"
      ]
     },
     "metadata": {
      "needs_background": "light"
     },
     "output_type": "display_data"
    },
    {
     "name": "stdout",
     "output_type": "stream",
     "text": [
      "Today, sun rises at 06:11 and sets at 18:18.\n",
      "Currently, the weather is Rain (moderate rain).\n",
      "The temperature is 27.97°C and it feels like 33.14°C.\n",
      "The UV index is 8.24, humidity is 87%.\n",
      "The pressure is 1014 hPa, percentage of cloud cover is 97%\n",
      "The wind comes from E direction with a speed 6.44 m/s.\n"
     ]
    }
   ],
   "source": [
    "current = data['current']\r\n",
    "\r\n",
    "fig, ax = plt.subplots(figsize=(3, 3))\r\n",
    "icon = requests.get(f\"http://openweathermap.org/img/wn/{current['weather'][0]['icon']}@2x.png\")\r\n",
    "im = Image.open(BytesIO(icon.content))\r\n",
    "plt.imshow(im)\r\n",
    "ax.set_axis_off()\r\n",
    "plt.show()\r\n",
    "\r\n",
    "print(f\"Today, sun rises at {ts2dt(current['sunrise'], '%H:%M')[0]} \\\r\n",
    "and sets at {ts2dt(current['sunset'], '%H:%M')[0]}.\\n\\\r\n",
    "Currently, the weather is {current['weather'][0]['main']} ({current['weather'][0]['description']}).\\n\\\r\n",
    "The temperature is {current['temp']}°C and it feels like {current['feels_like']}°C.\\n\\\r\n",
    "The UV index is {current['uvi']}, humidity is {current['humidity']}%.\\n\\\r\n",
    "The pressure is {current['pressure']} hPa, percentage of cloud cover is {current['clouds']}%\\n\\\r\n",
    "The wind comes from {degrees_to_cardinal(current['wind_deg'])} direction with a speed {current['wind_speed']} m/s.\")"
   ]
  },
  {
   "cell_type": "code",
   "execution_count": 8,
   "metadata": {
    "execution": {
     "iopub.execute_input": "2021-09-23T03:12:13.884364Z",
     "iopub.status.busy": "2021-09-23T03:12:13.883223Z",
     "iopub.status.idle": "2021-09-23T03:12:13.891017Z",
     "shell.execute_reply": "2021-09-23T03:12:13.891707Z"
    }
   },
   "outputs": [],
   "source": [
    "df_hourly = pd.DataFrame(data['hourly'])\r\n",
    "df_daily = pd.DataFrame(data['daily'])"
   ]
  },
  {
   "cell_type": "code",
   "execution_count": 9,
   "metadata": {
    "execution": {
     "iopub.execute_input": "2021-09-23T03:12:13.895131Z",
     "iopub.status.busy": "2021-09-23T03:12:13.894014Z",
     "iopub.status.idle": "2021-09-23T03:12:14.219586Z",
     "shell.execute_reply": "2021-09-23T03:12:14.218825Z"
    }
   },
   "outputs": [
    {
     "data": {
      "image/png": "[encoded data removed]",
      "text/plain": [
       "<Figure size 864x432 with 1 Axes>"
      ]
     },
     "metadata": {
      "needs_background": "light"
     },
     "output_type": "display_data"
    }
   ],
   "source": [
    "fig, ax = plt.subplots(figsize=(12, 6))\r\n",
    "plt.plot(df_hourly.temp, '.-', label='Temperature')\r\n",
    "plt.plot(df_hourly.feels_like, '.-', label='Feels Like')\r\n",
    "ax.set(title='Temperature in future 48 hours', xlabel='Time', ylabel='Temperature')\r\n",
    "ax.set_xticks(list(range(0, len(df_hourly), 2)))\r\n",
    "ax.set_xticklabels([ts2dt(ts, '%m-%d %H:%M')[0] for i, ts in enumerate(df_hourly.dt) if i%2==0], \r\n",
    "                   rotation=45, ha=\"right\")\r\n",
    "ax.locator_params(nbins=15, axis='y')\r\n",
    "plt.legend()\r\n",
    "plt.show()"
   ]
  },
  {
   "cell_type": "code",
   "execution_count": 10,
   "metadata": {
    "execution": {
     "iopub.execute_input": "2021-09-23T03:12:14.233650Z",
     "iopub.status.busy": "2021-09-23T03:12:14.224824Z",
     "iopub.status.idle": "2021-09-23T03:12:14.246025Z",
     "shell.execute_reply": "2021-09-23T03:12:14.246778Z"
    }
   },
   "outputs": [
    {
     "data": {
      "text/html": [
       "<div>\n",
       "<style scoped>\n",
       "    .dataframe tbody tr th:only-of-type {\n",
       "        vertical-align: middle;\n",
       "    }\n",
       "\n",
       "    .dataframe tbody tr th {\n",
       "        vertical-align: top;\n",
       "    }\n",
       "\n",
       "    .dataframe thead th {\n",
       "        text-align: right;\n",
       "    }\n",
       "</style>\n",
       "<table border=\"1\" class=\"dataframe\">\n",
       "  <thead>\n",
       "    <tr style=\"text-align: right;\">\n",
       "      <th></th>\n",
       "      <th>dt</th>\n",
       "      <th>temp</th>\n",
       "      <th>feels_like</th>\n",
       "      <th>pressure</th>\n",
       "      <th>humidity</th>\n",
       "      <th>dew_point</th>\n",
       "      <th>uvi</th>\n",
       "      <th>clouds</th>\n",
       "      <th>visibility</th>\n",
       "      <th>wind_speed</th>\n",
       "      <th>wind_deg</th>\n",
       "      <th>wind_gust</th>\n",
       "      <th>weather</th>\n",
       "      <th>pop</th>\n",
       "      <th>rain</th>\n",
       "    </tr>\n",
       "  </thead>\n",
       "  <tbody>\n",
       "    <tr>\n",
       "      <th>0</th>\n",
       "      <td>1632366000</td>\n",
       "      <td>27.97</td>\n",
       "      <td>33.14</td>\n",
       "      <td>1014</td>\n",
       "      <td>87</td>\n",
       "      <td>25.60</td>\n",
       "      <td>8.24</td>\n",
       "      <td>97</td>\n",
       "      <td>10000</td>\n",
       "      <td>6.44</td>\n",
       "      <td>85</td>\n",
       "      <td>7.47</td>\n",
       "      <td>[{'id': 500, 'main': 'Rain', 'description': 'l...</td>\n",
       "      <td>0.73</td>\n",
       "      <td>{'1h': 0.22}</td>\n",
       "    </tr>\n",
       "    <tr>\n",
       "      <th>1</th>\n",
       "      <td>1632369600</td>\n",
       "      <td>28.28</td>\n",
       "      <td>33.52</td>\n",
       "      <td>1014</td>\n",
       "      <td>84</td>\n",
       "      <td>25.32</td>\n",
       "      <td>9.61</td>\n",
       "      <td>96</td>\n",
       "      <td>10000</td>\n",
       "      <td>6.53</td>\n",
       "      <td>89</td>\n",
       "      <td>7.71</td>\n",
       "      <td>[{'id': 500, 'main': 'Rain', 'description': 'l...</td>\n",
       "      <td>0.85</td>\n",
       "      <td>{'1h': 0.12}</td>\n",
       "    </tr>\n",
       "    <tr>\n",
       "      <th>2</th>\n",
       "      <td>1632373200</td>\n",
       "      <td>28.71</td>\n",
       "      <td>33.95</td>\n",
       "      <td>1014</td>\n",
       "      <td>80</td>\n",
       "      <td>24.92</td>\n",
       "      <td>9.44</td>\n",
       "      <td>92</td>\n",
       "      <td>10000</td>\n",
       "      <td>6.26</td>\n",
       "      <td>88</td>\n",
       "      <td>7.62</td>\n",
       "      <td>[{'id': 804, 'main': 'Clouds', 'description': ...</td>\n",
       "      <td>0.73</td>\n",
       "      <td>NaN</td>\n",
       "    </tr>\n",
       "    <tr>\n",
       "      <th>3</th>\n",
       "      <td>1632376800</td>\n",
       "      <td>29.17</td>\n",
       "      <td>34.33</td>\n",
       "      <td>1013</td>\n",
       "      <td>76</td>\n",
       "      <td>24.50</td>\n",
       "      <td>7.72</td>\n",
       "      <td>89</td>\n",
       "      <td>10000</td>\n",
       "      <td>6.60</td>\n",
       "      <td>86</td>\n",
       "      <td>7.82</td>\n",
       "      <td>[{'id': 804, 'main': 'Clouds', 'description': ...</td>\n",
       "      <td>0.89</td>\n",
       "      <td>NaN</td>\n",
       "    </tr>\n",
       "    <tr>\n",
       "      <th>4</th>\n",
       "      <td>1632380400</td>\n",
       "      <td>29.52</td>\n",
       "      <td>34.56</td>\n",
       "      <td>1012</td>\n",
       "      <td>73</td>\n",
       "      <td>24.17</td>\n",
       "      <td>4.92</td>\n",
       "      <td>99</td>\n",
       "      <td>10000</td>\n",
       "      <td>6.79</td>\n",
       "      <td>88</td>\n",
       "      <td>7.92</td>\n",
       "      <td>[{'id': 804, 'main': 'Clouds', 'description': ...</td>\n",
       "      <td>0.57</td>\n",
       "      <td>NaN</td>\n",
       "    </tr>\n",
       "  </tbody>\n",
       "</table>\n",
       "</div>"
      ],
      "text/plain": [
       "           dt   temp  feels_like  pressure  humidity  dew_point   uvi  clouds  \\\n",
       "0  1632366000  27.97       33.14      1014        87      25.60  8.24      97   \n",
       "1  1632369600  28.28       33.52      1014        84      25.32  9.61      96   \n",
       "2  1632373200  28.71       33.95      1014        80      24.92  9.44      92   \n",
       "3  1632376800  29.17       34.33      1013        76      24.50  7.72      89   \n",
       "4  1632380400  29.52       34.56      1012        73      24.17  4.92      99   \n",
       "\n",
       "   visibility  wind_speed  wind_deg  wind_gust  \\\n",
       "0       10000        6.44        85       7.47   \n",
       "1       10000        6.53        89       7.71   \n",
       "2       10000        6.26        88       7.62   \n",
       "3       10000        6.60        86       7.82   \n",
       "4       10000        6.79        88       7.92   \n",
       "\n",
       "                                             weather   pop          rain  \n",
       "0  [{'id': 500, 'main': 'Rain', 'description': 'l...  0.73  {'1h': 0.22}  \n",
       "1  [{'id': 500, 'main': 'Rain', 'description': 'l...  0.85  {'1h': 0.12}  \n",
       "2  [{'id': 804, 'main': 'Clouds', 'description': ...  0.73           NaN  \n",
       "3  [{'id': 804, 'main': 'Clouds', 'description': ...  0.89           NaN  \n",
       "4  [{'id': 804, 'main': 'Clouds', 'description': ...  0.57           NaN  "
      ]
     },
     "execution_count": 10,
     "metadata": {},
     "output_type": "execute_result"
    }
   ],
   "source": [
    "df_hourly.head()"
   ]
  },
  {
   "cell_type": "code",
   "execution_count": null,
   "metadata": {},
   "outputs": [],
   "source": []
  }
 ],
 "metadata": {
  "interpreter": {
   "hash": "c1b4cfe941b6d2466ad1fb5979e97da9cda8801728c8091b097ab734208fc00c"
  },
  "kernelspec": {
   "display_name": "Python 3.8.3 64-bit ('base': conda)",
   "name": "python3"
  },
  "language_info": {
   "codemirror_mode": {
    "name": "ipython",
    "version": 3
   },
   "file_extension": ".py",
   "mimetype": "text/x-python",
   "name": "python",
   "nbconvert_exporter": "python",
   "pygments_lexer": "ipython3",
   "version": "3.8.11"
  }
 },
 "nbformat": 4,
 "nbformat_minor": 2
}
