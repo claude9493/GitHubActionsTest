{
 "cells": [
  {
   "cell_type": "code",
   "execution_count": 1,
   "metadata": {
    "execution": {
     "iopub.execute_input": "2021-10-09T08:13:10.271982Z",
     "iopub.status.busy": "2021-10-09T08:13:10.271201Z",
     "iopub.status.idle": "2021-10-09T08:13:11.596183Z",
     "shell.execute_reply": "2021-10-09T08:13:11.595253Z"
    }
   },
   "outputs": [],
   "source": [
    "import json, yaml, requests\r\n",
    "from datetime import datetime\r\n",
    "from dateutil import tz\r\n",
    "import pandas as pd\r\n",
    "from PIL import Image\r\n",
    "from io import BytesIO\r\n",
    "import matplotlib.pyplot as plt\r\n",
    "import seaborn\r\n",
    "\r\n",
    "CONFIG_PATH = \"../config/config.yaml\""
   ]
  },
  {
   "cell_type": "code",
   "execution_count": 2,
   "metadata": {
    "execution": {
     "iopub.execute_input": "2021-10-09T08:13:11.605115Z",
     "iopub.status.busy": "2021-10-09T08:13:11.601333Z",
     "iopub.status.idle": "2021-10-09T08:13:11.607144Z",
     "shell.execute_reply": "2021-10-09T08:13:11.606708Z"
    }
   },
   "outputs": [],
   "source": [
    "with open('../newest_ts', 'r') as f:\r\n",
    "    newest_ts = f.read()\r\n",
    "\r\n",
    "data_path = f\"../data/data_{newest_ts}.json\"\r\n",
    "with open(data_path, 'r') as f:\r\n",
    "    data = json.load(f)\r\n",
    "\r\n",
    "with open(CONFIG_PATH, \"r\") as stream:\r\n",
    "    config = yaml.safe_load(stream)\r\n",
    "\r\n",
    "TIME_ZONE = config['time_zone']\r\n",
    "DATETIME_FORMAT = config['dt_format']"
   ]
  },
  {
   "cell_type": "code",
   "execution_count": 3,
   "metadata": {
    "execution": {
     "iopub.execute_input": "2021-10-09T08:13:11.612006Z",
     "iopub.status.busy": "2021-10-09T08:13:11.611483Z",
     "iopub.status.idle": "2021-10-09T08:13:11.618373Z",
     "shell.execute_reply": "2021-10-09T08:13:11.618777Z"
    }
   },
   "outputs": [
    {
     "name": "stdout",
     "output_type": "stream",
     "text": [
      "Recent query happens at 2021-10-09 16:13:07 (CST).\n"
     ]
    }
   ],
   "source": [
    "def ts2dt(ts, format=DATETIME_FORMAT):\r\n",
    "    dt = (datetime.utcfromtimestamp(int(ts))\r\n",
    "                    .replace(tzinfo=tz.tzutc())\r\n",
    "                    # .astimezone(tz.tzlocal())\r\n",
    "                    .astimezone(tz.gettz(TIME_ZONE)))\r\n",
    "    return dt.strftime(format), dt\r\n",
    "\r\n",
    "_, newest_dt = ts2dt(newest_ts)\r\n",
    "print(f\"Recent query happens at {newest_dt.strftime(DATETIME_FORMAT)} ({newest_dt.tzname()}).\")"
   ]
  },
  {
   "cell_type": "code",
   "execution_count": 4,
   "metadata": {
    "execution": {
     "iopub.execute_input": "2021-10-09T08:13:11.625095Z",
     "iopub.status.busy": "2021-10-09T08:13:11.623478Z",
     "iopub.status.idle": "2021-10-09T08:13:11.625803Z",
     "shell.execute_reply": "2021-10-09T08:13:11.626374Z"
    }
   },
   "outputs": [],
   "source": [
    "def degrees_to_cardinal(d):\r\n",
    "  dirs = ['N', 'NNE', 'NE', 'ENE', 'E', 'ESE', 'SE', 'SSE', 'S', 'SSW', 'SW', 'WSW', 'W', 'WNW', 'NW', 'NNW']\r\n",
    "  ix = int(round(d / (360. / len(dirs))))\r\n",
    "  return dirs[ix % len(dirs)]"
   ]
  },
  {
   "cell_type": "code",
   "execution_count": 5,
   "metadata": {
    "execution": {
     "iopub.execute_input": "2021-10-09T08:13:11.632177Z",
     "iopub.status.busy": "2021-10-09T08:13:11.630518Z",
     "iopub.status.idle": "2021-10-09T08:13:11.632971Z",
     "shell.execute_reply": "2021-10-09T08:13:11.633675Z"
    }
   },
   "outputs": [],
   "source": [
    "# data.keys()"
   ]
  },
  {
   "cell_type": "code",
   "execution_count": 6,
   "metadata": {
    "execution": {
     "iopub.execute_input": "2021-10-09T08:13:11.638029Z",
     "iopub.status.busy": "2021-10-09T08:13:11.637161Z",
     "iopub.status.idle": "2021-10-09T08:13:11.640167Z",
     "shell.execute_reply": "2021-10-09T08:13:11.639688Z"
    }
   },
   "outputs": [],
   "source": [
    "# data['current']"
   ]
  },
  {
   "cell_type": "code",
   "execution_count": 7,
   "metadata": {
    "execution": {
     "iopub.execute_input": "2021-10-09T08:13:11.666857Z",
     "iopub.status.busy": "2021-10-09T08:13:11.665282Z",
     "iopub.status.idle": "2021-10-09T08:13:12.083554Z",
     "shell.execute_reply": "2021-10-09T08:13:12.084015Z"
    }
   },
   "outputs": [
    {
     "data": {
      "image/png": "[encoded data removed]",
      "text/plain": [
       "<Figure size 216x216 with 1 Axes>"
      ]
     },
     "metadata": {
      "needs_background": "light"
     },
     "output_type": "display_data"
    },
    {
     "name": "stdout",
     "output_type": "stream",
     "text": [
      "Today, sun rises at 06:16 and sets at 18:03.\n",
      "Currently, the weather is Rain (moderate rain).\n",
      "The temperature is 25.88°C and it feels like 27°C.\n",
      "The UV index is 0.12, humidity is 95%.\n",
      "The pressure is 1003 hPa, percentage of cloud cover is 100%\n",
      "The wind comes from WNW direction with a speed 1.79 m/s.\n"
     ]
    }
   ],
   "source": [
    "current = data['current']\r\n",
    "\r\n",
    "fig, ax = plt.subplots(figsize=(3, 3))\r\n",
    "icon = requests.get(f\"http://openweathermap.org/img/wn/{current['weather'][0]['icon']}@2x.png\")\r\n",
    "im = Image.open(BytesIO(icon.content))\r\n",
    "plt.imshow(im)\r\n",
    "ax.set_axis_off()\r\n",
    "plt.show()\r\n",
    "\r\n",
    "print(f\"Today, sun rises at {ts2dt(current['sunrise'], '%H:%M')[0]} \\\r\n",
    "and sets at {ts2dt(current['sunset'], '%H:%M')[0]}.\\n\\\r\n",
    "Currently, the weather is {current['weather'][0]['main']} ({current['weather'][0]['description']}).\\n\\\r\n",
    "The temperature is {current['temp']}°C and it feels like {current['feels_like']}°C.\\n\\\r\n",
    "The UV index is {current['uvi']}, humidity is {current['humidity']}%.\\n\\\r\n",
    "The pressure is {current['pressure']} hPa, percentage of cloud cover is {current['clouds']}%\\n\\\r\n",
    "The wind comes from {degrees_to_cardinal(current['wind_deg'])} direction with a speed {current['wind_speed']} m/s.\")"
   ]
  },
  {
   "cell_type": "code",
   "execution_count": 8,
   "metadata": {
    "execution": {
     "iopub.execute_input": "2021-10-09T08:13:12.089752Z",
     "iopub.status.busy": "2021-10-09T08:13:12.089082Z",
     "iopub.status.idle": "2021-10-09T08:13:12.094340Z",
     "shell.execute_reply": "2021-10-09T08:13:12.093891Z"
    }
   },
   "outputs": [],
   "source": [
    "df_hourly = pd.DataFrame(data['hourly'])\r\n",
    "df_daily = pd.DataFrame(data['daily'])"
   ]
  },
  {
   "cell_type": "code",
   "execution_count": 9,
   "metadata": {
    "execution": {
     "iopub.execute_input": "2021-10-09T08:13:12.118626Z",
     "iopub.status.busy": "2021-10-09T08:13:12.117821Z",
     "iopub.status.idle": "2021-10-09T08:13:12.457855Z",
     "shell.execute_reply": "2021-10-09T08:13:12.458304Z"
    }
   },
   "outputs": [
    {
     "data": {
      "image/png": "[encoded data removed]",
      "text/plain": [
       "<Figure size 864x432 with 1 Axes>"
      ]
     },
     "metadata": {
      "needs_background": "light"
     },
     "output_type": "display_data"
    }
   ],
   "source": [
    "fig, ax = plt.subplots(figsize=(12, 6))\r\n",
    "plt.plot(df_hourly.temp, '.-', label='Temperature')\r\n",
    "plt.plot(df_hourly.feels_like, '.-', label='Feels Like')\r\n",
    "ax.set(title='Temperature in future 48 hours', xlabel='Time', ylabel='Temperature')\r\n",
    "ax.set_xticks(list(range(0, len(df_hourly), 2)))\r\n",
    "ax.set_xticklabels([ts2dt(ts, '%m-%d %H:%M')[0] for i, ts in enumerate(df_hourly.dt) if i%2==0], \r\n",
    "                   rotation=45, ha=\"right\")\r\n",
    "ax.locator_params(nbins=15, axis='y')\r\n",
    "plt.legend()\r\n",
    "plt.show()"
   ]
  },
  {
   "cell_type": "code",
   "execution_count": 10,
   "metadata": {
    "execution": {
     "iopub.execute_input": "2021-10-09T08:13:12.471699Z",
     "iopub.status.busy": "2021-10-09T08:13:12.462754Z",
     "iopub.status.idle": "2021-10-09T08:13:12.485883Z",
     "shell.execute_reply": "2021-10-09T08:13:12.486308Z"
    }
   },
   "outputs": [
    {
     "data": {
      "text/html": [
       "<div>\n",
       "<style scoped>\n",
       "    .dataframe tbody tr th:only-of-type {\n",
       "        vertical-align: middle;\n",
       "    }\n",
       "\n",
       "    .dataframe tbody tr th {\n",
       "        vertical-align: top;\n",
       "    }\n",
       "\n",
       "    .dataframe thead th {\n",
       "        text-align: right;\n",
       "    }\n",
       "</style>\n",
       "<table border=\"1\" class=\"dataframe\">\n",
       "  <thead>\n",
       "    <tr style=\"text-align: right;\">\n",
       "      <th></th>\n",
       "      <th>dt</th>\n",
       "      <th>temp</th>\n",
       "      <th>feels_like</th>\n",
       "      <th>pressure</th>\n",
       "      <th>humidity</th>\n",
       "      <th>dew_point</th>\n",
       "      <th>uvi</th>\n",
       "      <th>clouds</th>\n",
       "      <th>visibility</th>\n",
       "      <th>wind_speed</th>\n",
       "      <th>wind_deg</th>\n",
       "      <th>wind_gust</th>\n",
       "      <th>weather</th>\n",
       "      <th>pop</th>\n",
       "      <th>rain</th>\n",
       "    </tr>\n",
       "  </thead>\n",
       "  <tbody>\n",
       "    <tr>\n",
       "      <th>0</th>\n",
       "      <td>1633766400</td>\n",
       "      <td>25.88</td>\n",
       "      <td>27.00</td>\n",
       "      <td>1003</td>\n",
       "      <td>95</td>\n",
       "      <td>25.02</td>\n",
       "      <td>0.12</td>\n",
       "      <td>100</td>\n",
       "      <td>10000</td>\n",
       "      <td>13.60</td>\n",
       "      <td>88</td>\n",
       "      <td>19.75</td>\n",
       "      <td>[{'id': 501, 'main': 'Rain', 'description': 'm...</td>\n",
       "      <td>0.97</td>\n",
       "      <td>{'1h': 1.14}</td>\n",
       "    </tr>\n",
       "    <tr>\n",
       "      <th>1</th>\n",
       "      <td>1633770000</td>\n",
       "      <td>26.00</td>\n",
       "      <td>26.00</td>\n",
       "      <td>1003</td>\n",
       "      <td>93</td>\n",
       "      <td>24.78</td>\n",
       "      <td>0.03</td>\n",
       "      <td>100</td>\n",
       "      <td>6484</td>\n",
       "      <td>13.75</td>\n",
       "      <td>90</td>\n",
       "      <td>19.79</td>\n",
       "      <td>[{'id': 502, 'main': 'Rain', 'description': 'h...</td>\n",
       "      <td>0.97</td>\n",
       "      <td>{'1h': 11.53}</td>\n",
       "    </tr>\n",
       "    <tr>\n",
       "      <th>2</th>\n",
       "      <td>1633773600</td>\n",
       "      <td>26.09</td>\n",
       "      <td>26.09</td>\n",
       "      <td>1004</td>\n",
       "      <td>93</td>\n",
       "      <td>24.87</td>\n",
       "      <td>0.00</td>\n",
       "      <td>100</td>\n",
       "      <td>10000</td>\n",
       "      <td>13.26</td>\n",
       "      <td>92</td>\n",
       "      <td>19.04</td>\n",
       "      <td>[{'id': 501, 'main': 'Rain', 'description': 'm...</td>\n",
       "      <td>0.96</td>\n",
       "      <td>{'1h': 3.16}</td>\n",
       "    </tr>\n",
       "    <tr>\n",
       "      <th>3</th>\n",
       "      <td>1633777200</td>\n",
       "      <td>26.12</td>\n",
       "      <td>26.12</td>\n",
       "      <td>1004</td>\n",
       "      <td>92</td>\n",
       "      <td>24.72</td>\n",
       "      <td>0.00</td>\n",
       "      <td>100</td>\n",
       "      <td>5592</td>\n",
       "      <td>12.82</td>\n",
       "      <td>91</td>\n",
       "      <td>18.36</td>\n",
       "      <td>[{'id': 501, 'main': 'Rain', 'description': 'm...</td>\n",
       "      <td>0.96</td>\n",
       "      <td>{'1h': 2.79}</td>\n",
       "    </tr>\n",
       "    <tr>\n",
       "      <th>4</th>\n",
       "      <td>1633780800</td>\n",
       "      <td>26.06</td>\n",
       "      <td>26.06</td>\n",
       "      <td>1005</td>\n",
       "      <td>92</td>\n",
       "      <td>24.66</td>\n",
       "      <td>0.00</td>\n",
       "      <td>100</td>\n",
       "      <td>3350</td>\n",
       "      <td>12.64</td>\n",
       "      <td>93</td>\n",
       "      <td>18.18</td>\n",
       "      <td>[{'id': 502, 'main': 'Rain', 'description': 'h...</td>\n",
       "      <td>0.96</td>\n",
       "      <td>{'1h': 5.69}</td>\n",
       "    </tr>\n",
       "  </tbody>\n",
       "</table>\n",
       "</div>"
      ],
      "text/plain": [
       "           dt   temp  feels_like  pressure  humidity  dew_point   uvi  clouds  \\\n",
       "0  1633766400  25.88       27.00      1003        95      25.02  0.12     100   \n",
       "1  1633770000  26.00       26.00      1003        93      24.78  0.03     100   \n",
       "2  1633773600  26.09       26.09      1004        93      24.87  0.00     100   \n",
       "3  1633777200  26.12       26.12      1004        92      24.72  0.00     100   \n",
       "4  1633780800  26.06       26.06      1005        92      24.66  0.00     100   \n",
       "\n",
       "   visibility  wind_speed  wind_deg  wind_gust  \\\n",
       "0       10000       13.60        88      19.75   \n",
       "1        6484       13.75        90      19.79   \n",
       "2       10000       13.26        92      19.04   \n",
       "3        5592       12.82        91      18.36   \n",
       "4        3350       12.64        93      18.18   \n",
       "\n",
       "                                             weather   pop           rain  \n",
       "0  [{'id': 501, 'main': 'Rain', 'description': 'm...  0.97   {'1h': 1.14}  \n",
       "1  [{'id': 502, 'main': 'Rain', 'description': 'h...  0.97  {'1h': 11.53}  \n",
       "2  [{'id': 501, 'main': 'Rain', 'description': 'm...  0.96   {'1h': 3.16}  \n",
       "3  [{'id': 501, 'main': 'Rain', 'description': 'm...  0.96   {'1h': 2.79}  \n",
       "4  [{'id': 502, 'main': 'Rain', 'description': 'h...  0.96   {'1h': 5.69}  "
      ]
     },
     "execution_count": 10,
     "metadata": {},
     "output_type": "execute_result"
    }
   ],
   "source": [
    "df_hourly.head()"
   ]
  },
  {
   "cell_type": "code",
   "execution_count": null,
   "metadata": {},
   "outputs": [],
   "source": []
  }
 ],
 "metadata": {
  "interpreter": {
   "hash": "c1b4cfe941b6d2466ad1fb5979e97da9cda8801728c8091b097ab734208fc00c"
  },
  "kernelspec": {
   "display_name": "Python 3.8.3 64-bit ('base': conda)",
   "name": "python3"
  },
  "language_info": {
   "codemirror_mode": {
    "name": "ipython",
    "version": 3
   },
   "file_extension": ".py",
   "mimetype": "text/x-python",
   "name": "python",
   "nbconvert_exporter": "python",
   "pygments_lexer": "ipython3",
   "version": "3.8.12"
  }
 },
 "nbformat": 4,
 "nbformat_minor": 2
}
