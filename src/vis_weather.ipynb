{
 "cells": [
  {
   "cell_type": "code",
   "execution_count": 1,
   "metadata": {
    "execution": {
     "iopub.execute_input": "2021-09-10T03:40:34.496102Z",
     "iopub.status.busy": "2021-09-10T03:40:34.495351Z",
     "iopub.status.idle": "2021-09-10T03:40:36.021622Z",
     "shell.execute_reply": "2021-09-10T03:40:36.020667Z"
    }
   },
   "outputs": [],
   "source": [
    "import json, yaml, requests\r\n",
    "from datetime import datetime\r\n",
    "from dateutil import tz\r\n",
    "import pandas as pd\r\n",
    "from PIL import Image\r\n",
    "from io import BytesIO\r\n",
    "import matplotlib.pyplot as plt\r\n",
    "import seaborn\r\n",
    "\r\n",
    "CONFIG_PATH = \"../config/config.yaml\""
   ]
  },
  {
   "cell_type": "code",
   "execution_count": 2,
   "metadata": {
    "execution": {
     "iopub.execute_input": "2021-09-10T03:40:36.030073Z",
     "iopub.status.busy": "2021-09-10T03:40:36.027006Z",
     "iopub.status.idle": "2021-09-10T03:40:36.032986Z",
     "shell.execute_reply": "2021-09-10T03:40:36.032532Z"
    }
   },
   "outputs": [],
   "source": [
    "with open('../newest_ts', 'r') as f:\r\n",
    "    newest_ts = f.read()\r\n",
    "\r\n",
    "data_path = f\"../data/data_{newest_ts}.json\"\r\n",
    "with open(data_path, 'r') as f:\r\n",
    "    data = json.load(f)\r\n",
    "\r\n",
    "with open(CONFIG_PATH, \"r\") as stream:\r\n",
    "    config = yaml.safe_load(stream)\r\n",
    "\r\n",
    "TIME_ZONE = config['time_zone']\r\n",
    "DATETIME_FORMAT = config['dt_format']"
   ]
  },
  {
   "cell_type": "code",
   "execution_count": 3,
   "metadata": {
    "execution": {
     "iopub.execute_input": "2021-09-10T03:40:36.038992Z",
     "iopub.status.busy": "2021-09-10T03:40:36.035538Z",
     "iopub.status.idle": "2021-09-10T03:40:36.046860Z",
     "shell.execute_reply": "2021-09-10T03:40:36.046399Z"
    }
   },
   "outputs": [
    {
     "name": "stdout",
     "output_type": "stream",
     "text": [
      "Recent query happens at 2021-09-10 11:40:31 (CST).\n"
     ]
    }
   ],
   "source": [
    "def ts2dt(ts, format=DATETIME_FORMAT):\r\n",
    "    dt = (datetime.utcfromtimestamp(int(ts))\r\n",
    "                    .replace(tzinfo=tz.tzutc())\r\n",
    "                    # .astimezone(tz.tzlocal())\r\n",
    "                    .astimezone(tz.gettz(TIME_ZONE)))\r\n",
    "    return dt.strftime(format), dt\r\n",
    "\r\n",
    "_, newest_dt = ts2dt(newest_ts)\r\n",
    "print(f\"Recent query happens at {newest_dt.strftime(DATETIME_FORMAT)} ({newest_dt.tzname()}).\")"
   ]
  },
  {
   "cell_type": "code",
   "execution_count": 4,
   "metadata": {
    "execution": {
     "iopub.execute_input": "2021-09-10T03:40:36.050987Z",
     "iopub.status.busy": "2021-09-10T03:40:36.048969Z",
     "iopub.status.idle": "2021-09-10T03:40:36.053102Z",
     "shell.execute_reply": "2021-09-10T03:40:36.052631Z"
    }
   },
   "outputs": [],
   "source": [
    "def degrees_to_cardinal(d):\r\n",
    "  dirs = ['N', 'NNE', 'NE', 'ENE', 'E', 'ESE', 'SE', 'SSE', 'S', 'SSW', 'SW', 'WSW', 'W', 'WNW', 'NW', 'NNW']\r\n",
    "  ix = int(round(d / (360. / len(dirs))))\r\n",
    "  return dirs[ix % len(dirs)]"
   ]
  },
  {
   "cell_type": "code",
   "execution_count": 5,
   "metadata": {
    "execution": {
     "iopub.execute_input": "2021-09-10T03:40:36.058777Z",
     "iopub.status.busy": "2021-09-10T03:40:36.057296Z",
     "iopub.status.idle": "2021-09-10T03:40:36.059350Z",
     "shell.execute_reply": "2021-09-10T03:40:36.059767Z"
    }
   },
   "outputs": [],
   "source": [
    "# data.keys()"
   ]
  },
  {
   "cell_type": "code",
   "execution_count": 6,
   "metadata": {
    "execution": {
     "iopub.execute_input": "2021-09-10T03:40:36.062918Z",
     "iopub.status.busy": "2021-09-10T03:40:36.061820Z",
     "iopub.status.idle": "2021-09-10T03:40:36.065396Z",
     "shell.execute_reply": "2021-09-10T03:40:36.064924Z"
    }
   },
   "outputs": [],
   "source": [
    "# data['current']"
   ]
  },
  {
   "cell_type": "code",
   "execution_count": 7,
   "metadata": {
    "execution": {
     "iopub.execute_input": "2021-09-10T03:40:36.087226Z",
     "iopub.status.busy": "2021-09-10T03:40:36.086239Z",
     "iopub.status.idle": "2021-09-10T03:40:36.516460Z",
     "shell.execute_reply": "2021-09-10T03:40:36.517212Z"
    }
   },
   "outputs": [
    {
     "data": {
      "image/png": "[encoded data removed]",
      "text/plain": [
       "<Figure size 216x216 with 1 Axes>"
      ]
     },
     "metadata": {
      "needs_background": "light"
     },
     "output_type": "display_data"
    },
    {
     "name": "stdout",
     "output_type": "stream",
     "text": [
      "Today, sun rises at 06:08 and sets at 18:32.\n",
      "Currently, the weather is Clouds (broken clouds).\n",
      "The temperature is 32.59°C and it feels like 39.59°C.\n",
      "The UV index is 10.69, humidity is 72%.\n",
      "The pressure is 1009 hPa, percentage of cloud cover is 83%\n",
      "The wind comes from E direction with a speed 5.63 m/s.\n"
     ]
    }
   ],
   "source": [
    "current = data['current']\r\n",
    "\r\n",
    "fig, ax = plt.subplots(figsize=(3, 3))\r\n",
    "icon = requests.get(f\"http://openweathermap.org/img/wn/{current['weather'][0]['icon']}@2x.png\")\r\n",
    "im = Image.open(BytesIO(icon.content))\r\n",
    "plt.imshow(im)\r\n",
    "ax.set_axis_off()\r\n",
    "plt.show()\r\n",
    "\r\n",
    "print(f\"Today, sun rises at {ts2dt(current['sunrise'], '%H:%M')[0]} \\\r\n",
    "and sets at {ts2dt(current['sunset'], '%H:%M')[0]}.\\n\\\r\n",
    "Currently, the weather is {current['weather'][0]['main']} ({current['weather'][0]['description']}).\\n\\\r\n",
    "The temperature is {current['temp']}°C and it feels like {current['feels_like']}°C.\\n\\\r\n",
    "The UV index is {current['uvi']}, humidity is {current['humidity']}%.\\n\\\r\n",
    "The pressure is {current['pressure']} hPa, percentage of cloud cover is {current['clouds']}%\\n\\\r\n",
    "The wind comes from {degrees_to_cardinal(current['wind_deg'])} direction with a speed {current['wind_speed']} m/s.\")"
   ]
  },
  {
   "cell_type": "code",
   "execution_count": 8,
   "metadata": {
    "execution": {
     "iopub.execute_input": "2021-09-10T03:40:36.520629Z",
     "iopub.status.busy": "2021-09-10T03:40:36.520093Z",
     "iopub.status.idle": "2021-09-10T03:40:36.527489Z",
     "shell.execute_reply": "2021-09-10T03:40:36.528238Z"
    }
   },
   "outputs": [],
   "source": [
    "df_hourly = pd.DataFrame(data['hourly'])\r\n",
    "df_daily = pd.DataFrame(data['daily'])"
   ]
  },
  {
   "cell_type": "code",
   "execution_count": 9,
   "metadata": {
    "execution": {
     "iopub.execute_input": "2021-09-10T03:40:36.531620Z",
     "iopub.status.busy": "2021-09-10T03:40:36.530555Z",
     "iopub.status.idle": "2021-09-10T03:40:36.823383Z",
     "shell.execute_reply": "2021-09-10T03:40:36.822913Z"
    }
   },
   "outputs": [
    {
     "data": {
      "image/png": "[encoded data removed]",
      "text/plain": [
       "<Figure size 864x432 with 1 Axes>"
      ]
     },
     "metadata": {
      "needs_background": "light"
     },
     "output_type": "display_data"
    }
   ],
   "source": [
    "fig, ax = plt.subplots(figsize=(12, 6))\r\n",
    "plt.plot(df_hourly.temp, '.-', label='Temperature')\r\n",
    "plt.plot(df_hourly.feels_like, '.-', label='Feels Like')\r\n",
    "ax.set(title='Temperature in future 48 hours', xlabel='Time', ylabel='Temperature')\r\n",
    "ax.set_xticks(list(range(0, len(df_hourly), 2)))\r\n",
    "ax.set_xticklabels([ts2dt(ts, '%m-%d %H:%M')[0] for i, ts in enumerate(df_hourly.dt) if i%2==0], \r\n",
    "                   rotation=45, ha=\"right\")\r\n",
    "ax.locator_params(nbins=15, axis='y')\r\n",
    "plt.legend()\r\n",
    "plt.show()"
   ]
  },
  {
   "cell_type": "code",
   "execution_count": 10,
   "metadata": {
    "execution": {
     "iopub.execute_input": "2021-09-10T03:40:36.828169Z",
     "iopub.status.busy": "2021-09-10T03:40:36.827621Z",
     "iopub.status.idle": "2021-09-10T03:40:36.847870Z",
     "shell.execute_reply": "2021-09-10T03:40:36.846937Z"
    }
   },
   "outputs": [
    {
     "data": {
      "text/html": [
       "<div>\n",
       "<style scoped>\n",
       "    .dataframe tbody tr th:only-of-type {\n",
       "        vertical-align: middle;\n",
       "    }\n",
       "\n",
       "    .dataframe tbody tr th {\n",
       "        vertical-align: top;\n",
       "    }\n",
       "\n",
       "    .dataframe thead th {\n",
       "        text-align: right;\n",
       "    }\n",
       "</style>\n",
       "<table border=\"1\" class=\"dataframe\">\n",
       "  <thead>\n",
       "    <tr style=\"text-align: right;\">\n",
       "      <th></th>\n",
       "      <th>dt</th>\n",
       "      <th>temp</th>\n",
       "      <th>feels_like</th>\n",
       "      <th>pressure</th>\n",
       "      <th>humidity</th>\n",
       "      <th>dew_point</th>\n",
       "      <th>uvi</th>\n",
       "      <th>clouds</th>\n",
       "      <th>visibility</th>\n",
       "      <th>wind_speed</th>\n",
       "      <th>wind_deg</th>\n",
       "      <th>wind_gust</th>\n",
       "      <th>weather</th>\n",
       "      <th>pop</th>\n",
       "      <th>rain</th>\n",
       "    </tr>\n",
       "  </thead>\n",
       "  <tbody>\n",
       "    <tr>\n",
       "      <th>0</th>\n",
       "      <td>1631242800</td>\n",
       "      <td>32.00</td>\n",
       "      <td>39.00</td>\n",
       "      <td>1009</td>\n",
       "      <td>72</td>\n",
       "      <td>26.31</td>\n",
       "      <td>8.80</td>\n",
       "      <td>85</td>\n",
       "      <td>10000</td>\n",
       "      <td>5.77</td>\n",
       "      <td>72</td>\n",
       "      <td>6.73</td>\n",
       "      <td>[{'id': 804, 'main': 'Clouds', 'description': ...</td>\n",
       "      <td>0.37</td>\n",
       "      <td>NaN</td>\n",
       "    </tr>\n",
       "    <tr>\n",
       "      <th>1</th>\n",
       "      <td>1631246400</td>\n",
       "      <td>32.59</td>\n",
       "      <td>39.59</td>\n",
       "      <td>1009</td>\n",
       "      <td>72</td>\n",
       "      <td>26.88</td>\n",
       "      <td>10.69</td>\n",
       "      <td>83</td>\n",
       "      <td>10000</td>\n",
       "      <td>5.63</td>\n",
       "      <td>79</td>\n",
       "      <td>6.62</td>\n",
       "      <td>[{'id': 803, 'main': 'Clouds', 'description': ...</td>\n",
       "      <td>0.37</td>\n",
       "      <td>NaN</td>\n",
       "    </tr>\n",
       "    <tr>\n",
       "      <th>2</th>\n",
       "      <td>1631250000</td>\n",
       "      <td>32.10</td>\n",
       "      <td>39.10</td>\n",
       "      <td>1009</td>\n",
       "      <td>71</td>\n",
       "      <td>26.17</td>\n",
       "      <td>10.51</td>\n",
       "      <td>82</td>\n",
       "      <td>10000</td>\n",
       "      <td>5.56</td>\n",
       "      <td>88</td>\n",
       "      <td>6.34</td>\n",
       "      <td>[{'id': 803, 'main': 'Clouds', 'description': ...</td>\n",
       "      <td>0.38</td>\n",
       "      <td>NaN</td>\n",
       "    </tr>\n",
       "    <tr>\n",
       "      <th>3</th>\n",
       "      <td>1631253600</td>\n",
       "      <td>31.57</td>\n",
       "      <td>38.57</td>\n",
       "      <td>1009</td>\n",
       "      <td>71</td>\n",
       "      <td>25.67</td>\n",
       "      <td>8.66</td>\n",
       "      <td>82</td>\n",
       "      <td>10000</td>\n",
       "      <td>5.56</td>\n",
       "      <td>90</td>\n",
       "      <td>6.40</td>\n",
       "      <td>[{'id': 803, 'main': 'Clouds', 'description': ...</td>\n",
       "      <td>0.38</td>\n",
       "      <td>NaN</td>\n",
       "    </tr>\n",
       "    <tr>\n",
       "      <th>4</th>\n",
       "      <td>1631257200</td>\n",
       "      <td>30.94</td>\n",
       "      <td>37.74</td>\n",
       "      <td>1008</td>\n",
       "      <td>71</td>\n",
       "      <td>25.06</td>\n",
       "      <td>4.81</td>\n",
       "      <td>92</td>\n",
       "      <td>10000</td>\n",
       "      <td>5.02</td>\n",
       "      <td>90</td>\n",
       "      <td>6.22</td>\n",
       "      <td>[{'id': 804, 'main': 'Clouds', 'description': ...</td>\n",
       "      <td>0.20</td>\n",
       "      <td>NaN</td>\n",
       "    </tr>\n",
       "  </tbody>\n",
       "</table>\n",
       "</div>"
      ],
      "text/plain": [
       "           dt   temp  feels_like  pressure  humidity  dew_point    uvi  \\\n",
       "0  1631242800  32.00       39.00      1009        72      26.31   8.80   \n",
       "1  1631246400  32.59       39.59      1009        72      26.88  10.69   \n",
       "2  1631250000  32.10       39.10      1009        71      26.17  10.51   \n",
       "3  1631253600  31.57       38.57      1009        71      25.67   8.66   \n",
       "4  1631257200  30.94       37.74      1008        71      25.06   4.81   \n",
       "\n",
       "   clouds  visibility  wind_speed  wind_deg  wind_gust  \\\n",
       "0      85       10000        5.77        72       6.73   \n",
       "1      83       10000        5.63        79       6.62   \n",
       "2      82       10000        5.56        88       6.34   \n",
       "3      82       10000        5.56        90       6.40   \n",
       "4      92       10000        5.02        90       6.22   \n",
       "\n",
       "                                             weather   pop rain  \n",
       "0  [{'id': 804, 'main': 'Clouds', 'description': ...  0.37  NaN  \n",
       "1  [{'id': 803, 'main': 'Clouds', 'description': ...  0.37  NaN  \n",
       "2  [{'id': 803, 'main': 'Clouds', 'description': ...  0.38  NaN  \n",
       "3  [{'id': 803, 'main': 'Clouds', 'description': ...  0.38  NaN  \n",
       "4  [{'id': 804, 'main': 'Clouds', 'description': ...  0.20  NaN  "
      ]
     },
     "execution_count": 10,
     "metadata": {},
     "output_type": "execute_result"
    }
   ],
   "source": [
    "df_hourly.head()"
   ]
  },
  {
   "cell_type": "code",
   "execution_count": null,
   "metadata": {},
   "outputs": [],
   "source": []
  }
 ],
 "metadata": {
  "interpreter": {
   "hash": "c1b4cfe941b6d2466ad1fb5979e97da9cda8801728c8091b097ab734208fc00c"
  },
  "kernelspec": {
   "display_name": "Python 3.8.3 64-bit ('base': conda)",
   "name": "python3"
  },
  "language_info": {
   "codemirror_mode": {
    "name": "ipython",
    "version": 3
   },
   "file_extension": ".py",
   "mimetype": "text/x-python",
   "name": "python",
   "nbconvert_exporter": "python",
   "pygments_lexer": "ipython3",
   "version": "3.8.11"
  }
 },
 "nbformat": 4,
 "nbformat_minor": 2
}
