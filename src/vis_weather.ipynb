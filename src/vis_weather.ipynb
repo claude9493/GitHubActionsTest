{
 "cells": [
  {
   "cell_type": "code",
   "execution_count": 1,
   "metadata": {
    "execution": {
     "iopub.execute_input": "2021-09-17T08:13:41.423766Z",
     "iopub.status.busy": "2021-09-17T08:13:41.423247Z",
     "iopub.status.idle": "2021-09-17T08:13:42.645747Z",
     "shell.execute_reply": "2021-09-17T08:13:42.645150Z"
    }
   },
   "outputs": [],
   "source": [
    "import json, yaml, requests\r\n",
    "from datetime import datetime\r\n",
    "from dateutil import tz\r\n",
    "import pandas as pd\r\n",
    "from PIL import Image\r\n",
    "from io import BytesIO\r\n",
    "import matplotlib.pyplot as plt\r\n",
    "import seaborn\r\n",
    "\r\n",
    "CONFIG_PATH = \"../config/config.yaml\""
   ]
  },
  {
   "cell_type": "code",
   "execution_count": 2,
   "metadata": {
    "execution": {
     "iopub.execute_input": "2021-09-17T08:13:42.650391Z",
     "iopub.status.busy": "2021-09-17T08:13:42.649910Z",
     "iopub.status.idle": "2021-09-17T08:13:42.655443Z",
     "shell.execute_reply": "2021-09-17T08:13:42.654831Z"
    }
   },
   "outputs": [],
   "source": [
    "with open('../newest_ts', 'r') as f:\r\n",
    "    newest_ts = f.read()\r\n",
    "\r\n",
    "data_path = f\"../data/data_{newest_ts}.json\"\r\n",
    "with open(data_path, 'r') as f:\r\n",
    "    data = json.load(f)\r\n",
    "\r\n",
    "with open(CONFIG_PATH, \"r\") as stream:\r\n",
    "    config = yaml.safe_load(stream)\r\n",
    "\r\n",
    "TIME_ZONE = config['time_zone']\r\n",
    "DATETIME_FORMAT = config['dt_format']"
   ]
  },
  {
   "cell_type": "code",
   "execution_count": 3,
   "metadata": {
    "execution": {
     "iopub.execute_input": "2021-09-17T08:13:42.659523Z",
     "iopub.status.busy": "2021-09-17T08:13:42.659063Z",
     "iopub.status.idle": "2021-09-17T08:13:42.667368Z",
     "shell.execute_reply": "2021-09-17T08:13:42.667760Z"
    }
   },
   "outputs": [
    {
     "name": "stdout",
     "output_type": "stream",
     "text": [
      "Recent query happens at 2021-09-17 16:13:38 (CST).\n"
     ]
    }
   ],
   "source": [
    "def ts2dt(ts, format=DATETIME_FORMAT):\r\n",
    "    dt = (datetime.utcfromtimestamp(int(ts))\r\n",
    "                    .replace(tzinfo=tz.tzutc())\r\n",
    "                    # .astimezone(tz.tzlocal())\r\n",
    "                    .astimezone(tz.gettz(TIME_ZONE)))\r\n",
    "    return dt.strftime(format), dt\r\n",
    "\r\n",
    "_, newest_dt = ts2dt(newest_ts)\r\n",
    "print(f\"Recent query happens at {newest_dt.strftime(DATETIME_FORMAT)} ({newest_dt.tzname()}).\")"
   ]
  },
  {
   "cell_type": "code",
   "execution_count": 4,
   "metadata": {
    "execution": {
     "iopub.execute_input": "2021-09-17T08:13:42.672729Z",
     "iopub.status.busy": "2021-09-17T08:13:42.671619Z",
     "iopub.status.idle": "2021-09-17T08:13:42.673248Z",
     "shell.execute_reply": "2021-09-17T08:13:42.673611Z"
    }
   },
   "outputs": [],
   "source": [
    "def degrees_to_cardinal(d):\r\n",
    "  dirs = ['N', 'NNE', 'NE', 'ENE', 'E', 'ESE', 'SE', 'SSE', 'S', 'SSW', 'SW', 'WSW', 'W', 'WNW', 'NW', 'NNW']\r\n",
    "  ix = int(round(d / (360. / len(dirs))))\r\n",
    "  return dirs[ix % len(dirs)]"
   ]
  },
  {
   "cell_type": "code",
   "execution_count": 5,
   "metadata": {
    "execution": {
     "iopub.execute_input": "2021-09-17T08:13:42.677251Z",
     "iopub.status.busy": "2021-09-17T08:13:42.676276Z",
     "iopub.status.idle": "2021-09-17T08:13:42.677791Z",
     "shell.execute_reply": "2021-09-17T08:13:42.678160Z"
    }
   },
   "outputs": [],
   "source": [
    "# data.keys()"
   ]
  },
  {
   "cell_type": "code",
   "execution_count": 6,
   "metadata": {
    "execution": {
     "iopub.execute_input": "2021-09-17T08:13:42.681590Z",
     "iopub.status.busy": "2021-09-17T08:13:42.680630Z",
     "iopub.status.idle": "2021-09-17T08:13:42.682125Z",
     "shell.execute_reply": "2021-09-17T08:13:42.682488Z"
    }
   },
   "outputs": [],
   "source": [
    "# data['current']"
   ]
  },
  {
   "cell_type": "code",
   "execution_count": 7,
   "metadata": {
    "execution": {
     "iopub.execute_input": "2021-09-17T08:13:42.698584Z",
     "iopub.status.busy": "2021-09-17T08:13:42.698115Z",
     "iopub.status.idle": "2021-09-17T08:13:43.081260Z",
     "shell.execute_reply": "2021-09-17T08:13:43.081902Z"
    }
   },
   "outputs": [
    {
     "data": {
      "image/png": "[encoded data removed]",
      "text/plain": [
       "<Figure size 216x216 with 1 Axes>"
      ]
     },
     "metadata": {
      "needs_background": "light"
     },
     "output_type": "display_data"
    },
    {
     "name": "stdout",
     "output_type": "stream",
     "text": [
      "Today, sun rises at 06:10 and sets at 18:25.\n",
      "Currently, the weather is Clear (clear sky).\n",
      "The temperature is 32.41°C and it feels like 39.41°C.\n",
      "The UV index is 2.9, humidity is 68%.\n",
      "The pressure is 1007 hPa, percentage of cloud cover is 10%\n",
      "The wind comes from SE direction with a speed 2.17 m/s.\n"
     ]
    }
   ],
   "source": [
    "current = data['current']\r\n",
    "\r\n",
    "fig, ax = plt.subplots(figsize=(3, 3))\r\n",
    "icon = requests.get(f\"http://openweathermap.org/img/wn/{current['weather'][0]['icon']}@2x.png\")\r\n",
    "im = Image.open(BytesIO(icon.content))\r\n",
    "plt.imshow(im)\r\n",
    "ax.set_axis_off()\r\n",
    "plt.show()\r\n",
    "\r\n",
    "print(f\"Today, sun rises at {ts2dt(current['sunrise'], '%H:%M')[0]} \\\r\n",
    "and sets at {ts2dt(current['sunset'], '%H:%M')[0]}.\\n\\\r\n",
    "Currently, the weather is {current['weather'][0]['main']} ({current['weather'][0]['description']}).\\n\\\r\n",
    "The temperature is {current['temp']}°C and it feels like {current['feels_like']}°C.\\n\\\r\n",
    "The UV index is {current['uvi']}, humidity is {current['humidity']}%.\\n\\\r\n",
    "The pressure is {current['pressure']} hPa, percentage of cloud cover is {current['clouds']}%\\n\\\r\n",
    "The wind comes from {degrees_to_cardinal(current['wind_deg'])} direction with a speed {current['wind_speed']} m/s.\")"
   ]
  },
  {
   "cell_type": "code",
   "execution_count": 8,
   "metadata": {
    "execution": {
     "iopub.execute_input": "2021-09-17T08:13:43.088726Z",
     "iopub.status.busy": "2021-09-17T08:13:43.087680Z",
     "iopub.status.idle": "2021-09-17T08:13:43.091620Z",
     "shell.execute_reply": "2021-09-17T08:13:43.091239Z"
    }
   },
   "outputs": [],
   "source": [
    "df_hourly = pd.DataFrame(data['hourly'])\r\n",
    "df_daily = pd.DataFrame(data['daily'])"
   ]
  },
  {
   "cell_type": "code",
   "execution_count": 9,
   "metadata": {
    "execution": {
     "iopub.execute_input": "2021-09-17T08:13:43.107560Z",
     "iopub.status.busy": "2021-09-17T08:13:43.100723Z",
     "iopub.status.idle": "2021-09-17T08:13:43.343453Z",
     "shell.execute_reply": "2021-09-17T08:13:43.343035Z"
    }
   },
   "outputs": [
    {
     "data": {
      "image/png": "[encoded data removed]",
      "text/plain": [
       "<Figure size 864x432 with 1 Axes>"
      ]
     },
     "metadata": {
      "needs_background": "light"
     },
     "output_type": "display_data"
    }
   ],
   "source": [
    "fig, ax = plt.subplots(figsize=(12, 6))\r\n",
    "plt.plot(df_hourly.temp, '.-', label='Temperature')\r\n",
    "plt.plot(df_hourly.feels_like, '.-', label='Feels Like')\r\n",
    "ax.set(title='Temperature in future 48 hours', xlabel='Time', ylabel='Temperature')\r\n",
    "ax.set_xticks(list(range(0, len(df_hourly), 2)))\r\n",
    "ax.set_xticklabels([ts2dt(ts, '%m-%d %H:%M')[0] for i, ts in enumerate(df_hourly.dt) if i%2==0], \r\n",
    "                   rotation=45, ha=\"right\")\r\n",
    "ax.locator_params(nbins=15, axis='y')\r\n",
    "plt.legend()\r\n",
    "plt.show()"
   ]
  },
  {
   "cell_type": "code",
   "execution_count": 10,
   "metadata": {
    "execution": {
     "iopub.execute_input": "2021-09-17T08:13:43.347426Z",
     "iopub.status.busy": "2021-09-17T08:13:43.346977Z",
     "iopub.status.idle": "2021-09-17T08:13:43.362948Z",
     "shell.execute_reply": "2021-09-17T08:13:43.363317Z"
    }
   },
   "outputs": [
    {
     "data": {
      "text/html": [
       "<div>\n",
       "<style scoped>\n",
       "    .dataframe tbody tr th:only-of-type {\n",
       "        vertical-align: middle;\n",
       "    }\n",
       "\n",
       "    .dataframe tbody tr th {\n",
       "        vertical-align: top;\n",
       "    }\n",
       "\n",
       "    .dataframe thead th {\n",
       "        text-align: right;\n",
       "    }\n",
       "</style>\n",
       "<table border=\"1\" class=\"dataframe\">\n",
       "  <thead>\n",
       "    <tr style=\"text-align: right;\">\n",
       "      <th></th>\n",
       "      <th>dt</th>\n",
       "      <th>temp</th>\n",
       "      <th>feels_like</th>\n",
       "      <th>pressure</th>\n",
       "      <th>humidity</th>\n",
       "      <th>dew_point</th>\n",
       "      <th>uvi</th>\n",
       "      <th>clouds</th>\n",
       "      <th>visibility</th>\n",
       "      <th>wind_speed</th>\n",
       "      <th>wind_deg</th>\n",
       "      <th>wind_gust</th>\n",
       "      <th>weather</th>\n",
       "      <th>pop</th>\n",
       "      <th>rain</th>\n",
       "    </tr>\n",
       "  </thead>\n",
       "  <tbody>\n",
       "    <tr>\n",
       "      <th>0</th>\n",
       "      <td>1631865600</td>\n",
       "      <td>32.41</td>\n",
       "      <td>39.41</td>\n",
       "      <td>1007</td>\n",
       "      <td>68</td>\n",
       "      <td>25.74</td>\n",
       "      <td>2.90</td>\n",
       "      <td>10</td>\n",
       "      <td>10000</td>\n",
       "      <td>2.17</td>\n",
       "      <td>141</td>\n",
       "      <td>1.91</td>\n",
       "      <td>[{'id': 800, 'main': 'Clear', 'description': '...</td>\n",
       "      <td>0.03</td>\n",
       "      <td>NaN</td>\n",
       "    </tr>\n",
       "    <tr>\n",
       "      <th>1</th>\n",
       "      <td>1631869200</td>\n",
       "      <td>32.02</td>\n",
       "      <td>39.02</td>\n",
       "      <td>1007</td>\n",
       "      <td>67</td>\n",
       "      <td>25.12</td>\n",
       "      <td>0.94</td>\n",
       "      <td>10</td>\n",
       "      <td>10000</td>\n",
       "      <td>2.24</td>\n",
       "      <td>149</td>\n",
       "      <td>2.02</td>\n",
       "      <td>[{'id': 800, 'main': 'Clear', 'description': '...</td>\n",
       "      <td>0.03</td>\n",
       "      <td>NaN</td>\n",
       "    </tr>\n",
       "    <tr>\n",
       "      <th>2</th>\n",
       "      <td>1631872800</td>\n",
       "      <td>31.31</td>\n",
       "      <td>38.13</td>\n",
       "      <td>1007</td>\n",
       "      <td>69</td>\n",
       "      <td>24.94</td>\n",
       "      <td>0.14</td>\n",
       "      <td>9</td>\n",
       "      <td>10000</td>\n",
       "      <td>2.09</td>\n",
       "      <td>142</td>\n",
       "      <td>2.21</td>\n",
       "      <td>[{'id': 500, 'main': 'Rain', 'description': 'l...</td>\n",
       "      <td>0.22</td>\n",
       "      <td>{'1h': 0.49}</td>\n",
       "    </tr>\n",
       "    <tr>\n",
       "      <th>3</th>\n",
       "      <td>1631876400</td>\n",
       "      <td>30.39</td>\n",
       "      <td>36.27</td>\n",
       "      <td>1008</td>\n",
       "      <td>71</td>\n",
       "      <td>24.54</td>\n",
       "      <td>0.00</td>\n",
       "      <td>8</td>\n",
       "      <td>10000</td>\n",
       "      <td>2.24</td>\n",
       "      <td>129</td>\n",
       "      <td>2.51</td>\n",
       "      <td>[{'id': 800, 'main': 'Clear', 'description': '...</td>\n",
       "      <td>0.03</td>\n",
       "      <td>NaN</td>\n",
       "    </tr>\n",
       "    <tr>\n",
       "      <th>4</th>\n",
       "      <td>1631880000</td>\n",
       "      <td>29.50</td>\n",
       "      <td>34.96</td>\n",
       "      <td>1009</td>\n",
       "      <td>75</td>\n",
       "      <td>24.60</td>\n",
       "      <td>0.00</td>\n",
       "      <td>7</td>\n",
       "      <td>10000</td>\n",
       "      <td>2.95</td>\n",
       "      <td>119</td>\n",
       "      <td>3.40</td>\n",
       "      <td>[{'id': 800, 'main': 'Clear', 'description': '...</td>\n",
       "      <td>0.03</td>\n",
       "      <td>NaN</td>\n",
       "    </tr>\n",
       "  </tbody>\n",
       "</table>\n",
       "</div>"
      ],
      "text/plain": [
       "           dt   temp  feels_like  pressure  humidity  dew_point   uvi  clouds  \\\n",
       "0  1631865600  32.41       39.41      1007        68      25.74  2.90      10   \n",
       "1  1631869200  32.02       39.02      1007        67      25.12  0.94      10   \n",
       "2  1631872800  31.31       38.13      1007        69      24.94  0.14       9   \n",
       "3  1631876400  30.39       36.27      1008        71      24.54  0.00       8   \n",
       "4  1631880000  29.50       34.96      1009        75      24.60  0.00       7   \n",
       "\n",
       "   visibility  wind_speed  wind_deg  wind_gust  \\\n",
       "0       10000        2.17       141       1.91   \n",
       "1       10000        2.24       149       2.02   \n",
       "2       10000        2.09       142       2.21   \n",
       "3       10000        2.24       129       2.51   \n",
       "4       10000        2.95       119       3.40   \n",
       "\n",
       "                                             weather   pop          rain  \n",
       "0  [{'id': 800, 'main': 'Clear', 'description': '...  0.03           NaN  \n",
       "1  [{'id': 800, 'main': 'Clear', 'description': '...  0.03           NaN  \n",
       "2  [{'id': 500, 'main': 'Rain', 'description': 'l...  0.22  {'1h': 0.49}  \n",
       "3  [{'id': 800, 'main': 'Clear', 'description': '...  0.03           NaN  \n",
       "4  [{'id': 800, 'main': 'Clear', 'description': '...  0.03           NaN  "
      ]
     },
     "execution_count": 10,
     "metadata": {},
     "output_type": "execute_result"
    }
   ],
   "source": [
    "df_hourly.head()"
   ]
  },
  {
   "cell_type": "code",
   "execution_count": null,
   "metadata": {},
   "outputs": [],
   "source": []
  }
 ],
 "metadata": {
  "interpreter": {
   "hash": "c1b4cfe941b6d2466ad1fb5979e97da9cda8801728c8091b097ab734208fc00c"
  },
  "kernelspec": {
   "display_name": "Python 3.8.3 64-bit ('base': conda)",
   "name": "python3"
  },
  "language_info": {
   "codemirror_mode": {
    "name": "ipython",
    "version": 3
   },
   "file_extension": ".py",
   "mimetype": "text/x-python",
   "name": "python",
   "nbconvert_exporter": "python",
   "pygments_lexer": "ipython3",
   "version": "3.8.11"
  }
 },
 "nbformat": 4,
 "nbformat_minor": 2
}
