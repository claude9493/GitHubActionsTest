{
 "cells": [
  {
   "cell_type": "code",
   "execution_count": 1,
   "metadata": {
    "execution": {
     "iopub.execute_input": "2021-10-04T18:13:34.250444Z",
     "iopub.status.busy": "2021-10-04T18:13:34.249493Z",
     "iopub.status.idle": "2021-10-04T18:13:36.641067Z",
     "shell.execute_reply": "2021-10-04T18:13:36.640502Z"
    }
   },
   "outputs": [],
   "source": [
    "import json, yaml, requests\r\n",
    "from datetime import datetime\r\n",
    "from dateutil import tz\r\n",
    "import pandas as pd\r\n",
    "from PIL import Image\r\n",
    "from io import BytesIO\r\n",
    "import matplotlib.pyplot as plt\r\n",
    "import seaborn\r\n",
    "\r\n",
    "CONFIG_PATH = \"../config/config.yaml\""
   ]
  },
  {
   "cell_type": "code",
   "execution_count": 2,
   "metadata": {
    "execution": {
     "iopub.execute_input": "2021-10-04T18:13:36.645931Z",
     "iopub.status.busy": "2021-10-04T18:13:36.645369Z",
     "iopub.status.idle": "2021-10-04T18:13:36.650156Z",
     "shell.execute_reply": "2021-10-04T18:13:36.650534Z"
    }
   },
   "outputs": [],
   "source": [
    "with open('../newest_ts', 'r') as f:\r\n",
    "    newest_ts = f.read()\r\n",
    "\r\n",
    "data_path = f\"../data/data_{newest_ts}.json\"\r\n",
    "with open(data_path, 'r') as f:\r\n",
    "    data = json.load(f)\r\n",
    "\r\n",
    "with open(CONFIG_PATH, \"r\") as stream:\r\n",
    "    config = yaml.safe_load(stream)\r\n",
    "\r\n",
    "TIME_ZONE = config['time_zone']\r\n",
    "DATETIME_FORMAT = config['dt_format']"
   ]
  },
  {
   "cell_type": "code",
   "execution_count": 3,
   "metadata": {
    "execution": {
     "iopub.execute_input": "2021-10-04T18:13:36.655638Z",
     "iopub.status.busy": "2021-10-04T18:13:36.655081Z",
     "iopub.status.idle": "2021-10-04T18:13:36.666356Z",
     "shell.execute_reply": "2021-10-04T18:13:36.666760Z"
    }
   },
   "outputs": [
    {
     "name": "stdout",
     "output_type": "stream",
     "text": [
      "Recent query happens at 2021-10-05 02:13:31 (CST).\n"
     ]
    }
   ],
   "source": [
    "def ts2dt(ts, format=DATETIME_FORMAT):\r\n",
    "    dt = (datetime.utcfromtimestamp(int(ts))\r\n",
    "                    .replace(tzinfo=tz.tzutc())\r\n",
    "                    # .astimezone(tz.tzlocal())\r\n",
    "                    .astimezone(tz.gettz(TIME_ZONE)))\r\n",
    "    return dt.strftime(format), dt\r\n",
    "\r\n",
    "_, newest_dt = ts2dt(newest_ts)\r\n",
    "print(f\"Recent query happens at {newest_dt.strftime(DATETIME_FORMAT)} ({newest_dt.tzname()}).\")"
   ]
  },
  {
   "cell_type": "code",
   "execution_count": 4,
   "metadata": {
    "execution": {
     "iopub.execute_input": "2021-10-04T18:13:36.673066Z",
     "iopub.status.busy": "2021-10-04T18:13:36.671586Z",
     "iopub.status.idle": "2021-10-04T18:13:36.674100Z",
     "shell.execute_reply": "2021-10-04T18:13:36.674726Z"
    }
   },
   "outputs": [],
   "source": [
    "def degrees_to_cardinal(d):\r\n",
    "  dirs = ['N', 'NNE', 'NE', 'ENE', 'E', 'ESE', 'SE', 'SSE', 'S', 'SSW', 'SW', 'WSW', 'W', 'WNW', 'NW', 'NNW']\r\n",
    "  ix = int(round(d / (360. / len(dirs))))\r\n",
    "  return dirs[ix % len(dirs)]"
   ]
  },
  {
   "cell_type": "code",
   "execution_count": 5,
   "metadata": {
    "execution": {
     "iopub.execute_input": "2021-10-04T18:13:36.679454Z",
     "iopub.status.busy": "2021-10-04T18:13:36.678172Z",
     "iopub.status.idle": "2021-10-04T18:13:36.680042Z",
     "shell.execute_reply": "2021-10-04T18:13:36.680490Z"
    }
   },
   "outputs": [],
   "source": [
    "# data.keys()"
   ]
  },
  {
   "cell_type": "code",
   "execution_count": 6,
   "metadata": {
    "execution": {
     "iopub.execute_input": "2021-10-04T18:13:36.685325Z",
     "iopub.status.busy": "2021-10-04T18:13:36.683792Z",
     "iopub.status.idle": "2021-10-04T18:13:36.685966Z",
     "shell.execute_reply": "2021-10-04T18:13:36.686460Z"
    }
   },
   "outputs": [],
   "source": [
    "# data['current']"
   ]
  },
  {
   "cell_type": "code",
   "execution_count": 7,
   "metadata": {
    "execution": {
     "iopub.execute_input": "2021-10-04T18:13:36.705123Z",
     "iopub.status.busy": "2021-10-04T18:13:36.691975Z",
     "iopub.status.idle": "2021-10-04T18:13:37.120909Z",
     "shell.execute_reply": "2021-10-04T18:13:37.121315Z"
    }
   },
   "outputs": [
    {
     "data": {
      "image/png": "[encoded data removed]",
      "text/plain": [
       "<Figure size 216x216 with 1 Axes>"
      ]
     },
     "metadata": {
      "needs_background": "light"
     },
     "output_type": "display_data"
    },
    {
     "name": "stdout",
     "output_type": "stream",
     "text": [
      "Today, sun rises at 06:15 and sets at 18:07.\n",
      "Currently, the weather is Rain (light rain).\n",
      "The temperature is 28.83°C and it feels like 34.07°C.\n",
      "The UV index is 0, humidity is 79%.\n",
      "The pressure is 1010 hPa, percentage of cloud cover is 5%\n",
      "The wind comes from SW direction with a speed 0.45 m/s.\n"
     ]
    }
   ],
   "source": [
    "current = data['current']\r\n",
    "\r\n",
    "fig, ax = plt.subplots(figsize=(3, 3))\r\n",
    "icon = requests.get(f\"http://openweathermap.org/img/wn/{current['weather'][0]['icon']}@2x.png\")\r\n",
    "im = Image.open(BytesIO(icon.content))\r\n",
    "plt.imshow(im)\r\n",
    "ax.set_axis_off()\r\n",
    "plt.show()\r\n",
    "\r\n",
    "print(f\"Today, sun rises at {ts2dt(current['sunrise'], '%H:%M')[0]} \\\r\n",
    "and sets at {ts2dt(current['sunset'], '%H:%M')[0]}.\\n\\\r\n",
    "Currently, the weather is {current['weather'][0]['main']} ({current['weather'][0]['description']}).\\n\\\r\n",
    "The temperature is {current['temp']}°C and it feels like {current['feels_like']}°C.\\n\\\r\n",
    "The UV index is {current['uvi']}, humidity is {current['humidity']}%.\\n\\\r\n",
    "The pressure is {current['pressure']} hPa, percentage of cloud cover is {current['clouds']}%\\n\\\r\n",
    "The wind comes from {degrees_to_cardinal(current['wind_deg'])} direction with a speed {current['wind_speed']} m/s.\")"
   ]
  },
  {
   "cell_type": "code",
   "execution_count": 8,
   "metadata": {
    "execution": {
     "iopub.execute_input": "2021-10-04T18:13:37.123941Z",
     "iopub.status.busy": "2021-10-04T18:13:37.123456Z",
     "iopub.status.idle": "2021-10-04T18:13:37.129165Z",
     "shell.execute_reply": "2021-10-04T18:13:37.129835Z"
    }
   },
   "outputs": [],
   "source": [
    "df_hourly = pd.DataFrame(data['hourly'])\r\n",
    "df_daily = pd.DataFrame(data['daily'])"
   ]
  },
  {
   "cell_type": "code",
   "execution_count": 9,
   "metadata": {
    "execution": {
     "iopub.execute_input": "2021-10-04T18:13:37.132797Z",
     "iopub.status.busy": "2021-10-04T18:13:37.131801Z",
     "iopub.status.idle": "2021-10-04T18:13:37.423641Z",
     "shell.execute_reply": "2021-10-04T18:13:37.423190Z"
    }
   },
   "outputs": [
    {
     "data": {
      "image/png": "[encoded data removed]",
      "text/plain": [
       "<Figure size 864x432 with 1 Axes>"
      ]
     },
     "metadata": {
      "needs_background": "light"
     },
     "output_type": "display_data"
    }
   ],
   "source": [
    "fig, ax = plt.subplots(figsize=(12, 6))\r\n",
    "plt.plot(df_hourly.temp, '.-', label='Temperature')\r\n",
    "plt.plot(df_hourly.feels_like, '.-', label='Feels Like')\r\n",
    "ax.set(title='Temperature in future 48 hours', xlabel='Time', ylabel='Temperature')\r\n",
    "ax.set_xticks(list(range(0, len(df_hourly), 2)))\r\n",
    "ax.set_xticklabels([ts2dt(ts, '%m-%d %H:%M')[0] for i, ts in enumerate(df_hourly.dt) if i%2==0], \r\n",
    "                   rotation=45, ha=\"right\")\r\n",
    "ax.locator_params(nbins=15, axis='y')\r\n",
    "plt.legend()\r\n",
    "plt.show()"
   ]
  },
  {
   "cell_type": "code",
   "execution_count": 10,
   "metadata": {
    "execution": {
     "iopub.execute_input": "2021-10-04T18:13:37.427885Z",
     "iopub.status.busy": "2021-10-04T18:13:37.427386Z",
     "iopub.status.idle": "2021-10-04T18:13:37.446317Z",
     "shell.execute_reply": "2021-10-04T18:13:37.445828Z"
    }
   },
   "outputs": [
    {
     "data": {
      "text/html": [
       "<div>\n",
       "<style scoped>\n",
       "    .dataframe tbody tr th:only-of-type {\n",
       "        vertical-align: middle;\n",
       "    }\n",
       "\n",
       "    .dataframe tbody tr th {\n",
       "        vertical-align: top;\n",
       "    }\n",
       "\n",
       "    .dataframe thead th {\n",
       "        text-align: right;\n",
       "    }\n",
       "</style>\n",
       "<table border=\"1\" class=\"dataframe\">\n",
       "  <thead>\n",
       "    <tr style=\"text-align: right;\">\n",
       "      <th></th>\n",
       "      <th>dt</th>\n",
       "      <th>temp</th>\n",
       "      <th>feels_like</th>\n",
       "      <th>pressure</th>\n",
       "      <th>humidity</th>\n",
       "      <th>dew_point</th>\n",
       "      <th>uvi</th>\n",
       "      <th>clouds</th>\n",
       "      <th>visibility</th>\n",
       "      <th>wind_speed</th>\n",
       "      <th>wind_deg</th>\n",
       "      <th>wind_gust</th>\n",
       "      <th>weather</th>\n",
       "      <th>pop</th>\n",
       "      <th>rain</th>\n",
       "    </tr>\n",
       "  </thead>\n",
       "  <tbody>\n",
       "    <tr>\n",
       "      <th>0</th>\n",
       "      <td>1633370400</td>\n",
       "      <td>28.83</td>\n",
       "      <td>34.07</td>\n",
       "      <td>1010</td>\n",
       "      <td>79</td>\n",
       "      <td>24.82</td>\n",
       "      <td>0.0</td>\n",
       "      <td>5</td>\n",
       "      <td>10000</td>\n",
       "      <td>7.87</td>\n",
       "      <td>74</td>\n",
       "      <td>10.27</td>\n",
       "      <td>[{'id': 800, 'main': 'Clear', 'description': '...</td>\n",
       "      <td>0.21</td>\n",
       "      <td>NaN</td>\n",
       "    </tr>\n",
       "    <tr>\n",
       "      <th>1</th>\n",
       "      <td>1633374000</td>\n",
       "      <td>28.56</td>\n",
       "      <td>33.54</td>\n",
       "      <td>1010</td>\n",
       "      <td>80</td>\n",
       "      <td>24.77</td>\n",
       "      <td>0.0</td>\n",
       "      <td>9</td>\n",
       "      <td>10000</td>\n",
       "      <td>8.01</td>\n",
       "      <td>75</td>\n",
       "      <td>10.24</td>\n",
       "      <td>[{'id': 500, 'main': 'Rain', 'description': 'l...</td>\n",
       "      <td>0.33</td>\n",
       "      <td>{'1h': 0.12}</td>\n",
       "    </tr>\n",
       "    <tr>\n",
       "      <th>2</th>\n",
       "      <td>1633377600</td>\n",
       "      <td>28.26</td>\n",
       "      <td>32.76</td>\n",
       "      <td>1010</td>\n",
       "      <td>80</td>\n",
       "      <td>24.48</td>\n",
       "      <td>0.0</td>\n",
       "      <td>15</td>\n",
       "      <td>10000</td>\n",
       "      <td>7.88</td>\n",
       "      <td>78</td>\n",
       "      <td>9.91</td>\n",
       "      <td>[{'id': 801, 'main': 'Clouds', 'description': ...</td>\n",
       "      <td>0.08</td>\n",
       "      <td>NaN</td>\n",
       "    </tr>\n",
       "    <tr>\n",
       "      <th>3</th>\n",
       "      <td>1633381200</td>\n",
       "      <td>27.97</td>\n",
       "      <td>32.02</td>\n",
       "      <td>1011</td>\n",
       "      <td>80</td>\n",
       "      <td>24.20</td>\n",
       "      <td>0.0</td>\n",
       "      <td>22</td>\n",
       "      <td>10000</td>\n",
       "      <td>7.93</td>\n",
       "      <td>78</td>\n",
       "      <td>9.76</td>\n",
       "      <td>[{'id': 801, 'main': 'Clouds', 'description': ...</td>\n",
       "      <td>0.08</td>\n",
       "      <td>NaN</td>\n",
       "    </tr>\n",
       "    <tr>\n",
       "      <th>4</th>\n",
       "      <td>1633384800</td>\n",
       "      <td>27.60</td>\n",
       "      <td>31.12</td>\n",
       "      <td>1012</td>\n",
       "      <td>80</td>\n",
       "      <td>23.84</td>\n",
       "      <td>0.0</td>\n",
       "      <td>27</td>\n",
       "      <td>10000</td>\n",
       "      <td>7.93</td>\n",
       "      <td>75</td>\n",
       "      <td>9.87</td>\n",
       "      <td>[{'id': 802, 'main': 'Clouds', 'description': ...</td>\n",
       "      <td>0.05</td>\n",
       "      <td>NaN</td>\n",
       "    </tr>\n",
       "  </tbody>\n",
       "</table>\n",
       "</div>"
      ],
      "text/plain": [
       "           dt   temp  feels_like  pressure  humidity  dew_point  uvi  clouds  \\\n",
       "0  1633370400  28.83       34.07      1010        79      24.82  0.0       5   \n",
       "1  1633374000  28.56       33.54      1010        80      24.77  0.0       9   \n",
       "2  1633377600  28.26       32.76      1010        80      24.48  0.0      15   \n",
       "3  1633381200  27.97       32.02      1011        80      24.20  0.0      22   \n",
       "4  1633384800  27.60       31.12      1012        80      23.84  0.0      27   \n",
       "\n",
       "   visibility  wind_speed  wind_deg  wind_gust  \\\n",
       "0       10000        7.87        74      10.27   \n",
       "1       10000        8.01        75      10.24   \n",
       "2       10000        7.88        78       9.91   \n",
       "3       10000        7.93        78       9.76   \n",
       "4       10000        7.93        75       9.87   \n",
       "\n",
       "                                             weather   pop          rain  \n",
       "0  [{'id': 800, 'main': 'Clear', 'description': '...  0.21           NaN  \n",
       "1  [{'id': 500, 'main': 'Rain', 'description': 'l...  0.33  {'1h': 0.12}  \n",
       "2  [{'id': 801, 'main': 'Clouds', 'description': ...  0.08           NaN  \n",
       "3  [{'id': 801, 'main': 'Clouds', 'description': ...  0.08           NaN  \n",
       "4  [{'id': 802, 'main': 'Clouds', 'description': ...  0.05           NaN  "
      ]
     },
     "execution_count": 10,
     "metadata": {},
     "output_type": "execute_result"
    }
   ],
   "source": [
    "df_hourly.head()"
   ]
  },
  {
   "cell_type": "code",
   "execution_count": null,
   "metadata": {},
   "outputs": [],
   "source": []
  }
 ],
 "metadata": {
  "interpreter": {
   "hash": "c1b4cfe941b6d2466ad1fb5979e97da9cda8801728c8091b097ab734208fc00c"
  },
  "kernelspec": {
   "display_name": "Python 3.8.3 64-bit ('base': conda)",
   "name": "python3"
  },
  "language_info": {
   "codemirror_mode": {
    "name": "ipython",
    "version": 3
   },
   "file_extension": ".py",
   "mimetype": "text/x-python",
   "name": "python",
   "nbconvert_exporter": "python",
   "pygments_lexer": "ipython3",
   "version": "3.8.12"
  }
 },
 "nbformat": 4,
 "nbformat_minor": 2
}
