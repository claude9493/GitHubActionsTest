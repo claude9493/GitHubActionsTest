{
 "cells": [
  {
   "cell_type": "code",
   "execution_count": 1,
   "metadata": {
    "execution": {
     "iopub.execute_input": "2021-08-29T09:39:04.777072Z",
     "iopub.status.busy": "2021-08-29T09:39:04.776430Z",
     "iopub.status.idle": "2021-08-29T09:39:07.897796Z",
     "shell.execute_reply": "2021-08-29T09:39:07.896700Z"
    }
   },
   "outputs": [],
   "source": [
    "import json, yaml, requests\r\n",
    "from datetime import datetime\r\n",
    "from dateutil import tz\r\n",
    "import pandas as pd\r\n",
    "from PIL import Image\r\n",
    "from io import BytesIO\r\n",
    "import matplotlib.pyplot as plt\r\n",
    "import seaborn\r\n",
    "\r\n",
    "CONFIG_PATH = \"../config/config.yaml\""
   ]
  },
  {
   "cell_type": "code",
   "execution_count": 2,
   "metadata": {
    "execution": {
     "iopub.execute_input": "2021-08-29T09:39:07.903828Z",
     "iopub.status.busy": "2021-08-29T09:39:07.903034Z",
     "iopub.status.idle": "2021-08-29T09:39:07.909298Z",
     "shell.execute_reply": "2021-08-29T09:39:07.909779Z"
    }
   },
   "outputs": [],
   "source": [
    "with open('../newest_ts', 'r') as f:\r\n",
    "    newest_ts = f.read()\r\n",
    "\r\n",
    "data_path = f\"../data/data_{newest_ts}.json\"\r\n",
    "with open(data_path, 'r') as f:\r\n",
    "    data = json.load(f)\r\n",
    "\r\n",
    "with open(CONFIG_PATH, \"r\") as stream:\r\n",
    "    config = yaml.safe_load(stream)\r\n",
    "\r\n",
    "TIME_ZONE = config['time_zone']\r\n",
    "DATETIME_FORMAT = config['dt_format']"
   ]
  },
  {
   "cell_type": "code",
   "execution_count": 3,
   "metadata": {
    "execution": {
     "iopub.execute_input": "2021-08-29T09:39:07.915294Z",
     "iopub.status.busy": "2021-08-29T09:39:07.914664Z",
     "iopub.status.idle": "2021-08-29T09:39:07.929802Z",
     "shell.execute_reply": "2021-08-29T09:39:07.930361Z"
    }
   },
   "outputs": [
    {
     "name": "stdout",
     "output_type": "stream",
     "text": [
      "Recent query happens at 2021-08-29 17:39:01 (CST).\n"
     ]
    }
   ],
   "source": [
    "def ts2dt(ts, format=DATETIME_FORMAT):\r\n",
    "    dt = (datetime.utcfromtimestamp(int(ts))\r\n",
    "                    .replace(tzinfo=tz.tzutc())\r\n",
    "                    # .astimezone(tz.tzlocal())\r\n",
    "                    .astimezone(tz.gettz(TIME_ZONE)))\r\n",
    "    return dt.strftime(format), dt\r\n",
    "\r\n",
    "_, newest_dt = ts2dt(newest_ts)\r\n",
    "print(f\"Recent query happens at {newest_dt.strftime(DATETIME_FORMAT)} ({newest_dt.tzname()}).\")"
   ]
  },
  {
   "cell_type": "code",
   "execution_count": 4,
   "metadata": {
    "execution": {
     "iopub.execute_input": "2021-08-29T09:39:07.937242Z",
     "iopub.status.busy": "2021-08-29T09:39:07.935579Z",
     "iopub.status.idle": "2021-08-29T09:39:07.938562Z",
     "shell.execute_reply": "2021-08-29T09:39:07.939139Z"
    }
   },
   "outputs": [],
   "source": [
    "def degrees_to_cardinal(d):\r\n",
    "  dirs = ['N', 'NNE', 'NE', 'ENE', 'E', 'ESE', 'SE', 'SSE', 'S', 'SSW', 'SW', 'WSW', 'W', 'WNW', 'NW', 'NNW']\r\n",
    "  ix = int(round(d / (360. / len(dirs))))\r\n",
    "  return dirs[ix % len(dirs)]"
   ]
  },
  {
   "cell_type": "code",
   "execution_count": 5,
   "metadata": {
    "execution": {
     "iopub.execute_input": "2021-08-29T09:39:07.944409Z",
     "iopub.status.busy": "2021-08-29T09:39:07.942894Z",
     "iopub.status.idle": "2021-08-29T09:39:07.945080Z",
     "shell.execute_reply": "2021-08-29T09:39:07.945578Z"
    }
   },
   "outputs": [],
   "source": [
    "# data.keys()"
   ]
  },
  {
   "cell_type": "code",
   "execution_count": 6,
   "metadata": {
    "execution": {
     "iopub.execute_input": "2021-08-29T09:39:07.951059Z",
     "iopub.status.busy": "2021-08-29T09:39:07.949160Z",
     "iopub.status.idle": "2021-08-29T09:39:07.951706Z",
     "shell.execute_reply": "2021-08-29T09:39:07.952502Z"
    }
   },
   "outputs": [],
   "source": [
    "# data['current']"
   ]
  },
  {
   "cell_type": "code",
   "execution_count": 7,
   "metadata": {
    "execution": {
     "iopub.execute_input": "2021-08-29T09:39:07.976234Z",
     "iopub.status.busy": "2021-08-29T09:39:07.975446Z",
     "iopub.status.idle": "2021-08-29T09:39:08.590849Z",
     "shell.execute_reply": "2021-08-29T09:39:08.591620Z"
    }
   },
   "outputs": [
    {
     "data": {
      "image/png": "[encoded data removed]",
      "text/plain": [
       "<Figure size 216x216 with 1 Axes>"
      ]
     },
     "metadata": {
      "needs_background": "light"
     },
     "output_type": "display_data"
    },
    {
     "name": "stdout",
     "output_type": "stream",
     "text": [
      "Today, sun rises at 06:04 and sets at 18:43.\n",
      "Currently, the weather is Clouds (overcast clouds).\n",
      "The temperature is 30.13°C and it feels like 37.13°C.\n",
      "The UV index is 0.22, humidity is 77%.\n",
      "The pressure is 1010 hPa, percentage of cloud cover is 97%\n",
      "The wind comes from E direction with a speed 4.07 m/s.\n"
     ]
    }
   ],
   "source": [
    "current = data['current']\r\n",
    "\r\n",
    "fig, ax = plt.subplots(figsize=(3, 3))\r\n",
    "icon = requests.get(f\"http://openweathermap.org/img/wn/{current['weather'][0]['icon']}@2x.png\")\r\n",
    "im = Image.open(BytesIO(icon.content))\r\n",
    "plt.imshow(im)\r\n",
    "ax.set_axis_off()\r\n",
    "plt.show()\r\n",
    "\r\n",
    "print(f\"Today, sun rises at {ts2dt(current['sunrise'], '%H:%M')[0]} \\\r\n",
    "and sets at {ts2dt(current['sunset'], '%H:%M')[0]}.\\n\\\r\n",
    "Currently, the weather is {current['weather'][0]['main']} ({current['weather'][0]['description']}).\\n\\\r\n",
    "The temperature is {current['temp']}°C and it feels like {current['feels_like']}°C.\\n\\\r\n",
    "The UV index is {current['uvi']}, humidity is {current['humidity']}%.\\n\\\r\n",
    "The pressure is {current['pressure']} hPa, percentage of cloud cover is {current['clouds']}%\\n\\\r\n",
    "The wind comes from {degrees_to_cardinal(current['wind_deg'])} direction with a speed {current['wind_speed']} m/s.\")"
   ]
  },
  {
   "cell_type": "code",
   "execution_count": 8,
   "metadata": {
    "execution": {
     "iopub.execute_input": "2021-08-29T09:39:08.596203Z",
     "iopub.status.busy": "2021-08-29T09:39:08.595014Z",
     "iopub.status.idle": "2021-08-29T09:39:08.603399Z",
     "shell.execute_reply": "2021-08-29T09:39:08.604351Z"
    }
   },
   "outputs": [],
   "source": [
    "df_hourly = pd.DataFrame(data['hourly'])\r\n",
    "df_daily = pd.DataFrame(data['daily'])"
   ]
  },
  {
   "cell_type": "code",
   "execution_count": 9,
   "metadata": {
    "execution": {
     "iopub.execute_input": "2021-08-29T09:39:08.608010Z",
     "iopub.status.busy": "2021-08-29T09:39:08.606727Z",
     "iopub.status.idle": "2021-08-29T09:39:08.952390Z",
     "shell.execute_reply": "2021-08-29T09:39:08.951719Z"
    }
   },
   "outputs": [
    {
     "data": {
      "image/png": "[encoded data removed]",
      "text/plain": [
       "<Figure size 864x432 with 1 Axes>"
      ]
     },
     "metadata": {
      "needs_background": "light"
     },
     "output_type": "display_data"
    }
   ],
   "source": [
    "fig, ax = plt.subplots(figsize=(12, 6))\r\n",
    "plt.plot(df_hourly.temp, '.-', label='Temperature')\r\n",
    "plt.plot(df_hourly.feels_like, '.-', label='Feels Like')\r\n",
    "ax.set(title='Temperature in future 48 hours', xlabel='Time', ylabel='Temperature')\r\n",
    "ax.set_xticks(list(range(0, len(df_hourly), 2)))\r\n",
    "ax.set_xticklabels([ts2dt(ts, '%m-%d %H:%M')[0] for i, ts in enumerate(df_hourly.dt) if i%2==0], \r\n",
    "                   rotation=45, ha=\"right\")\r\n",
    "ax.locator_params(nbins=15, axis='y')\r\n",
    "plt.legend()\r\n",
    "plt.show()"
   ]
  },
  {
   "cell_type": "code",
   "execution_count": 10,
   "metadata": {
    "execution": {
     "iopub.execute_input": "2021-08-29T09:39:08.975578Z",
     "iopub.status.busy": "2021-08-29T09:39:08.957238Z",
     "iopub.status.idle": "2021-08-29T09:39:08.979158Z",
     "shell.execute_reply": "2021-08-29T09:39:08.979784Z"
    }
   },
   "outputs": [
    {
     "data": {
      "text/html": [
       "<div>\n",
       "<style scoped>\n",
       "    .dataframe tbody tr th:only-of-type {\n",
       "        vertical-align: middle;\n",
       "    }\n",
       "\n",
       "    .dataframe tbody tr th {\n",
       "        vertical-align: top;\n",
       "    }\n",
       "\n",
       "    .dataframe thead th {\n",
       "        text-align: right;\n",
       "    }\n",
       "</style>\n",
       "<table border=\"1\" class=\"dataframe\">\n",
       "  <thead>\n",
       "    <tr style=\"text-align: right;\">\n",
       "      <th></th>\n",
       "      <th>dt</th>\n",
       "      <th>temp</th>\n",
       "      <th>feels_like</th>\n",
       "      <th>pressure</th>\n",
       "      <th>humidity</th>\n",
       "      <th>dew_point</th>\n",
       "      <th>uvi</th>\n",
       "      <th>clouds</th>\n",
       "      <th>visibility</th>\n",
       "      <th>wind_speed</th>\n",
       "      <th>wind_deg</th>\n",
       "      <th>wind_gust</th>\n",
       "      <th>weather</th>\n",
       "      <th>pop</th>\n",
       "      <th>rain</th>\n",
       "    </tr>\n",
       "  </thead>\n",
       "  <tbody>\n",
       "    <tr>\n",
       "      <th>0</th>\n",
       "      <td>1630227600</td>\n",
       "      <td>29.99</td>\n",
       "      <td>36.27</td>\n",
       "      <td>1010</td>\n",
       "      <td>75</td>\n",
       "      <td>25.07</td>\n",
       "      <td>1.21</td>\n",
       "      <td>97</td>\n",
       "      <td>10000</td>\n",
       "      <td>4.37</td>\n",
       "      <td>96</td>\n",
       "      <td>5.72</td>\n",
       "      <td>[{'id': 804, 'main': 'Clouds', 'description': ...</td>\n",
       "      <td>0.58</td>\n",
       "      <td>NaN</td>\n",
       "    </tr>\n",
       "    <tr>\n",
       "      <th>1</th>\n",
       "      <td>1630231200</td>\n",
       "      <td>30.13</td>\n",
       "      <td>37.13</td>\n",
       "      <td>1010</td>\n",
       "      <td>77</td>\n",
       "      <td>25.65</td>\n",
       "      <td>0.22</td>\n",
       "      <td>97</td>\n",
       "      <td>10000</td>\n",
       "      <td>4.07</td>\n",
       "      <td>95</td>\n",
       "      <td>6.08</td>\n",
       "      <td>[{'id': 804, 'main': 'Clouds', 'description': ...</td>\n",
       "      <td>0.58</td>\n",
       "      <td>NaN</td>\n",
       "    </tr>\n",
       "    <tr>\n",
       "      <th>2</th>\n",
       "      <td>1630234800</td>\n",
       "      <td>29.77</td>\n",
       "      <td>36.44</td>\n",
       "      <td>1010</td>\n",
       "      <td>78</td>\n",
       "      <td>25.52</td>\n",
       "      <td>0.00</td>\n",
       "      <td>95</td>\n",
       "      <td>10000</td>\n",
       "      <td>4.11</td>\n",
       "      <td>98</td>\n",
       "      <td>6.09</td>\n",
       "      <td>[{'id': 804, 'main': 'Clouds', 'description': ...</td>\n",
       "      <td>0.51</td>\n",
       "      <td>NaN</td>\n",
       "    </tr>\n",
       "    <tr>\n",
       "      <th>3</th>\n",
       "      <td>1630238400</td>\n",
       "      <td>29.37</td>\n",
       "      <td>35.55</td>\n",
       "      <td>1010</td>\n",
       "      <td>79</td>\n",
       "      <td>25.34</td>\n",
       "      <td>0.00</td>\n",
       "      <td>93</td>\n",
       "      <td>10000</td>\n",
       "      <td>4.83</td>\n",
       "      <td>94</td>\n",
       "      <td>7.32</td>\n",
       "      <td>[{'id': 804, 'main': 'Clouds', 'description': ...</td>\n",
       "      <td>0.43</td>\n",
       "      <td>NaN</td>\n",
       "    </tr>\n",
       "    <tr>\n",
       "      <th>4</th>\n",
       "      <td>1630242000</td>\n",
       "      <td>28.95</td>\n",
       "      <td>34.60</td>\n",
       "      <td>1011</td>\n",
       "      <td>80</td>\n",
       "      <td>25.15</td>\n",
       "      <td>0.00</td>\n",
       "      <td>58</td>\n",
       "      <td>10000</td>\n",
       "      <td>5.54</td>\n",
       "      <td>92</td>\n",
       "      <td>8.12</td>\n",
       "      <td>[{'id': 803, 'main': 'Clouds', 'description': ...</td>\n",
       "      <td>0.05</td>\n",
       "      <td>NaN</td>\n",
       "    </tr>\n",
       "  </tbody>\n",
       "</table>\n",
       "</div>"
      ],
      "text/plain": [
       "           dt   temp  feels_like  pressure  humidity  dew_point   uvi  clouds  \\\n",
       "0  1630227600  29.99       36.27      1010        75      25.07  1.21      97   \n",
       "1  1630231200  30.13       37.13      1010        77      25.65  0.22      97   \n",
       "2  1630234800  29.77       36.44      1010        78      25.52  0.00      95   \n",
       "3  1630238400  29.37       35.55      1010        79      25.34  0.00      93   \n",
       "4  1630242000  28.95       34.60      1011        80      25.15  0.00      58   \n",
       "\n",
       "   visibility  wind_speed  wind_deg  wind_gust  \\\n",
       "0       10000        4.37        96       5.72   \n",
       "1       10000        4.07        95       6.08   \n",
       "2       10000        4.11        98       6.09   \n",
       "3       10000        4.83        94       7.32   \n",
       "4       10000        5.54        92       8.12   \n",
       "\n",
       "                                             weather   pop rain  \n",
       "0  [{'id': 804, 'main': 'Clouds', 'description': ...  0.58  NaN  \n",
       "1  [{'id': 804, 'main': 'Clouds', 'description': ...  0.58  NaN  \n",
       "2  [{'id': 804, 'main': 'Clouds', 'description': ...  0.51  NaN  \n",
       "3  [{'id': 804, 'main': 'Clouds', 'description': ...  0.43  NaN  \n",
       "4  [{'id': 803, 'main': 'Clouds', 'description': ...  0.05  NaN  "
      ]
     },
     "execution_count": 10,
     "metadata": {},
     "output_type": "execute_result"
    }
   ],
   "source": [
    "df_hourly.head()"
   ]
  },
  {
   "cell_type": "code",
   "execution_count": null,
   "metadata": {},
   "outputs": [],
   "source": []
  }
 ],
 "metadata": {
  "interpreter": {
   "hash": "c1b4cfe941b6d2466ad1fb5979e97da9cda8801728c8091b097ab734208fc00c"
  },
  "kernelspec": {
   "display_name": "Python 3.8.3 64-bit ('base': conda)",
   "name": "python3"
  },
  "language_info": {
   "codemirror_mode": {
    "name": "ipython",
    "version": 3
   },
   "file_extension": ".py",
   "mimetype": "text/x-python",
   "name": "python",
   "nbconvert_exporter": "python",
   "pygments_lexer": "ipython3",
   "version": "3.8.11"
  }
 },
 "nbformat": 4,
 "nbformat_minor": 2
}
