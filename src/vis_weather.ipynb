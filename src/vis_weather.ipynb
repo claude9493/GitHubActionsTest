{
 "cells": [
  {
   "cell_type": "code",
   "execution_count": 1,
   "metadata": {
    "execution": {
     "iopub.execute_input": "2021-08-25T12:24:33.343178Z",
     "iopub.status.busy": "2021-08-25T12:24:33.342356Z",
     "iopub.status.idle": "2021-08-25T12:24:35.913822Z",
     "shell.execute_reply": "2021-08-25T12:24:35.913212Z"
    }
   },
   "outputs": [],
   "source": [
    "import json, yaml, requests\r\n",
    "from datetime import datetime\r\n",
    "from dateutil import tz\r\n",
    "import pandas as pd\r\n",
    "from PIL import Image\r\n",
    "from io import BytesIO\r\n",
    "import matplotlib.pyplot as plt\r\n",
    "import seaborn\r\n",
    "\r\n",
    "CONFIG_PATH = \"../config/config.yaml\""
   ]
  },
  {
   "cell_type": "code",
   "execution_count": 2,
   "metadata": {
    "execution": {
     "iopub.execute_input": "2021-08-25T12:24:35.922978Z",
     "iopub.status.busy": "2021-08-25T12:24:35.919157Z",
     "iopub.status.idle": "2021-08-25T12:24:35.926497Z",
     "shell.execute_reply": "2021-08-25T12:24:35.925505Z"
    }
   },
   "outputs": [],
   "source": [
    "with open('../newest_ts', 'r') as f:\r\n",
    "    newest_ts = f.read()\r\n",
    "\r\n",
    "data_path = f\"../data/data_{newest_ts}.json\"\r\n",
    "with open(data_path, 'r') as f:\r\n",
    "    data = json.load(f)\r\n",
    "\r\n",
    "with open(CONFIG_PATH, \"r\") as stream:\r\n",
    "    config = yaml.safe_load(stream)\r\n",
    "\r\n",
    "TIME_ZONE = config['time_zone']\r\n",
    "DATETIME_FORMAT = config['dt_format']"
   ]
  },
  {
   "cell_type": "code",
   "execution_count": 3,
   "metadata": {
    "execution": {
     "iopub.execute_input": "2021-08-25T12:24:35.931794Z",
     "iopub.status.busy": "2021-08-25T12:24:35.928883Z",
     "iopub.status.idle": "2021-08-25T12:24:35.936676Z",
     "shell.execute_reply": "2021-08-25T12:24:35.937227Z"
    }
   },
   "outputs": [
    {
     "name": "stdout",
     "output_type": "stream",
     "text": [
      "Recent query happens at 2021-08-25 20:24:30 (CST).\n"
     ]
    }
   ],
   "source": [
    "def ts2dt(ts, format=DATETIME_FORMAT):\r\n",
    "    dt = (datetime.utcfromtimestamp(int(ts))\r\n",
    "                    .replace(tzinfo=tz.tzutc())\r\n",
    "                    # .astimezone(tz.tzlocal())\r\n",
    "                    .astimezone(tz.gettz(TIME_ZONE)))\r\n",
    "    return dt.strftime(format), dt\r\n",
    "\r\n",
    "_, newest_dt = ts2dt(newest_ts)\r\n",
    "print(f\"Recent query happens at {newest_dt.strftime(DATETIME_FORMAT)} ({newest_dt.tzname()}).\")"
   ]
  },
  {
   "cell_type": "code",
   "execution_count": 4,
   "metadata": {
    "execution": {
     "iopub.execute_input": "2021-08-25T12:24:35.942677Z",
     "iopub.status.busy": "2021-08-25T12:24:35.942065Z",
     "iopub.status.idle": "2021-08-25T12:24:35.944180Z",
     "shell.execute_reply": "2021-08-25T12:24:35.944668Z"
    }
   },
   "outputs": [],
   "source": [
    "def degrees_to_cardinal(d):\r\n",
    "  dirs = ['N', 'NNE', 'NE', 'ENE', 'E', 'ESE', 'SE', 'SSE', 'S', 'SSW', 'SW', 'WSW', 'W', 'WNW', 'NW', 'NNW']\r\n",
    "  ix = int(round(d / (360. / len(dirs))))\r\n",
    "  return dirs[ix % len(dirs)]"
   ]
  },
  {
   "cell_type": "code",
   "execution_count": 5,
   "metadata": {
    "execution": {
     "iopub.execute_input": "2021-08-25T12:24:35.949929Z",
     "iopub.status.busy": "2021-08-25T12:24:35.948397Z",
     "iopub.status.idle": "2021-08-25T12:24:35.950764Z",
     "shell.execute_reply": "2021-08-25T12:24:35.951299Z"
    }
   },
   "outputs": [],
   "source": [
    "# data.keys()"
   ]
  },
  {
   "cell_type": "code",
   "execution_count": 6,
   "metadata": {
    "execution": {
     "iopub.execute_input": "2021-08-25T12:24:35.956651Z",
     "iopub.status.busy": "2021-08-25T12:24:35.955021Z",
     "iopub.status.idle": "2021-08-25T12:24:35.957342Z",
     "shell.execute_reply": "2021-08-25T12:24:35.957876Z"
    }
   },
   "outputs": [],
   "source": [
    "# data['current']"
   ]
  },
  {
   "cell_type": "code",
   "execution_count": 7,
   "metadata": {
    "execution": {
     "iopub.execute_input": "2021-08-25T12:24:35.966076Z",
     "iopub.status.busy": "2021-08-25T12:24:35.965352Z",
     "iopub.status.idle": "2021-08-25T12:24:36.398627Z",
     "shell.execute_reply": "2021-08-25T12:24:36.399532Z"
    }
   },
   "outputs": [
    {
     "data": {
      "image/png": "[encoded data removed]",
      "text/plain": [
       "<Figure size 216x216 with 1 Axes>"
      ]
     },
     "metadata": {
      "needs_background": "light"
     },
     "output_type": "display_data"
    },
    {
     "name": "stdout",
     "output_type": "stream",
     "text": [
      "Today, sun rises at 06:03 and sets at 18:46.\n",
      "Currently, the weather is Clouds (broken clouds).\n",
      "The temperature is 29.68°C and it feels like 36.44°C.\n",
      "The UV index is 0, humidity is 79%.\n",
      "The pressure is 1009 hPa, percentage of cloud cover is 78%\n",
      "The wind comes from SE direction with a speed 2.91 m/s.\n"
     ]
    }
   ],
   "source": [
    "current = data['current']\r\n",
    "\r\n",
    "fig, ax = plt.subplots(figsize=(3, 3))\r\n",
    "icon = requests.get(f\"http://openweathermap.org/img/wn/{current['weather'][0]['icon']}@2x.png\")\r\n",
    "im = Image.open(BytesIO(icon.content))\r\n",
    "plt.imshow(im)\r\n",
    "ax.set_axis_off()\r\n",
    "plt.show()\r\n",
    "\r\n",
    "print(f\"Today, sun rises at {ts2dt(current['sunrise'], '%H:%M')[0]} \\\r\n",
    "and sets at {ts2dt(current['sunset'], '%H:%M')[0]}.\\n\\\r\n",
    "Currently, the weather is {current['weather'][0]['main']} ({current['weather'][0]['description']}).\\n\\\r\n",
    "The temperature is {current['temp']}°C and it feels like {current['feels_like']}°C.\\n\\\r\n",
    "The UV index is {current['uvi']}, humidity is {current['humidity']}%.\\n\\\r\n",
    "The pressure is {current['pressure']} hPa, percentage of cloud cover is {current['clouds']}%\\n\\\r\n",
    "The wind comes from {degrees_to_cardinal(current['wind_deg'])} direction with a speed {current['wind_speed']} m/s.\")"
   ]
  },
  {
   "cell_type": "code",
   "execution_count": 8,
   "metadata": {
    "execution": {
     "iopub.execute_input": "2021-08-25T12:24:36.403424Z",
     "iopub.status.busy": "2021-08-25T12:24:36.402185Z",
     "iopub.status.idle": "2021-08-25T12:24:36.410980Z",
     "shell.execute_reply": "2021-08-25T12:24:36.411804Z"
    }
   },
   "outputs": [],
   "source": [
    "df_hourly = pd.DataFrame(data['hourly'])\r\n",
    "df_daily = pd.DataFrame(data['daily'])"
   ]
  },
  {
   "cell_type": "code",
   "execution_count": 9,
   "metadata": {
    "execution": {
     "iopub.execute_input": "2021-08-25T12:24:36.415246Z",
     "iopub.status.busy": "2021-08-25T12:24:36.414176Z",
     "iopub.status.idle": "2021-08-25T12:24:36.755121Z",
     "shell.execute_reply": "2021-08-25T12:24:36.754628Z"
    }
   },
   "outputs": [
    {
     "data": {
      "image/png": "[encoded data removed]",
      "text/plain": [
       "<Figure size 864x432 with 1 Axes>"
      ]
     },
     "metadata": {
      "needs_background": "light"
     },
     "output_type": "display_data"
    }
   ],
   "source": [
    "fig, ax = plt.subplots(figsize=(12, 6))\r\n",
    "plt.plot(df_hourly.temp, '.-', label='Temperature')\r\n",
    "plt.plot(df_hourly.feels_like, '.-', label='Feels Like')\r\n",
    "ax.set(title='Temperature in future 48 hours', xlabel='Time', ylabel='Temperature')\r\n",
    "ax.set_xticks(list(range(0, len(df_hourly), 2)))\r\n",
    "ax.set_xticklabels([ts2dt(ts, '%m-%d %H:%M')[0] for i, ts in enumerate(df_hourly.dt) if i%2==0], \r\n",
    "                   rotation=45, ha=\"right\")\r\n",
    "ax.locator_params(nbins=15, axis='y')\r\n",
    "plt.legend()\r\n",
    "plt.show()"
   ]
  },
  {
   "cell_type": "code",
   "execution_count": 10,
   "metadata": {
    "execution": {
     "iopub.execute_input": "2021-08-25T12:24:36.760214Z",
     "iopub.status.busy": "2021-08-25T12:24:36.759620Z",
     "iopub.status.idle": "2021-08-25T12:24:36.780787Z",
     "shell.execute_reply": "2021-08-25T12:24:36.781321Z"
    }
   },
   "outputs": [
    {
     "data": {
      "text/html": [
       "<div>\n",
       "<style scoped>\n",
       "    .dataframe tbody tr th:only-of-type {\n",
       "        vertical-align: middle;\n",
       "    }\n",
       "\n",
       "    .dataframe tbody tr th {\n",
       "        vertical-align: top;\n",
       "    }\n",
       "\n",
       "    .dataframe thead th {\n",
       "        text-align: right;\n",
       "    }\n",
       "</style>\n",
       "<table border=\"1\" class=\"dataframe\">\n",
       "  <thead>\n",
       "    <tr style=\"text-align: right;\">\n",
       "      <th></th>\n",
       "      <th>dt</th>\n",
       "      <th>temp</th>\n",
       "      <th>feels_like</th>\n",
       "      <th>pressure</th>\n",
       "      <th>humidity</th>\n",
       "      <th>dew_point</th>\n",
       "      <th>uvi</th>\n",
       "      <th>clouds</th>\n",
       "      <th>visibility</th>\n",
       "      <th>wind_speed</th>\n",
       "      <th>wind_deg</th>\n",
       "      <th>wind_gust</th>\n",
       "      <th>weather</th>\n",
       "      <th>pop</th>\n",
       "      <th>rain</th>\n",
       "    </tr>\n",
       "  </thead>\n",
       "  <tbody>\n",
       "    <tr>\n",
       "      <th>0</th>\n",
       "      <td>1629892800</td>\n",
       "      <td>29.68</td>\n",
       "      <td>36.44</td>\n",
       "      <td>1009</td>\n",
       "      <td>79</td>\n",
       "      <td>25.65</td>\n",
       "      <td>0.0</td>\n",
       "      <td>78</td>\n",
       "      <td>10000</td>\n",
       "      <td>2.91</td>\n",
       "      <td>124</td>\n",
       "      <td>3.79</td>\n",
       "      <td>[{'id': 803, 'main': 'Clouds', 'description': ...</td>\n",
       "      <td>0.66</td>\n",
       "      <td>NaN</td>\n",
       "    </tr>\n",
       "    <tr>\n",
       "      <th>1</th>\n",
       "      <td>1629896400</td>\n",
       "      <td>29.36</td>\n",
       "      <td>35.76</td>\n",
       "      <td>1009</td>\n",
       "      <td>80</td>\n",
       "      <td>25.55</td>\n",
       "      <td>0.0</td>\n",
       "      <td>82</td>\n",
       "      <td>10000</td>\n",
       "      <td>2.65</td>\n",
       "      <td>114</td>\n",
       "      <td>3.53</td>\n",
       "      <td>[{'id': 803, 'main': 'Clouds', 'description': ...</td>\n",
       "      <td>0.13</td>\n",
       "      <td>NaN</td>\n",
       "    </tr>\n",
       "    <tr>\n",
       "      <th>2</th>\n",
       "      <td>1629900000</td>\n",
       "      <td>28.98</td>\n",
       "      <td>34.90</td>\n",
       "      <td>1010</td>\n",
       "      <td>81</td>\n",
       "      <td>25.39</td>\n",
       "      <td>0.0</td>\n",
       "      <td>85</td>\n",
       "      <td>10000</td>\n",
       "      <td>2.89</td>\n",
       "      <td>118</td>\n",
       "      <td>4.00</td>\n",
       "      <td>[{'id': 804, 'main': 'Clouds', 'description': ...</td>\n",
       "      <td>0.24</td>\n",
       "      <td>NaN</td>\n",
       "    </tr>\n",
       "    <tr>\n",
       "      <th>3</th>\n",
       "      <td>1629903600</td>\n",
       "      <td>28.58</td>\n",
       "      <td>33.79</td>\n",
       "      <td>1010</td>\n",
       "      <td>81</td>\n",
       "      <td>25.00</td>\n",
       "      <td>0.0</td>\n",
       "      <td>89</td>\n",
       "      <td>10000</td>\n",
       "      <td>2.84</td>\n",
       "      <td>122</td>\n",
       "      <td>3.88</td>\n",
       "      <td>[{'id': 804, 'main': 'Clouds', 'description': ...</td>\n",
       "      <td>0.25</td>\n",
       "      <td>NaN</td>\n",
       "    </tr>\n",
       "    <tr>\n",
       "      <th>4</th>\n",
       "      <td>1629907200</td>\n",
       "      <td>27.99</td>\n",
       "      <td>32.54</td>\n",
       "      <td>1011</td>\n",
       "      <td>83</td>\n",
       "      <td>24.83</td>\n",
       "      <td>0.0</td>\n",
       "      <td>88</td>\n",
       "      <td>10000</td>\n",
       "      <td>3.27</td>\n",
       "      <td>128</td>\n",
       "      <td>4.30</td>\n",
       "      <td>[{'id': 500, 'main': 'Rain', 'description': 'l...</td>\n",
       "      <td>0.40</td>\n",
       "      <td>{'1h': 0.34}</td>\n",
       "    </tr>\n",
       "  </tbody>\n",
       "</table>\n",
       "</div>"
      ],
      "text/plain": [
       "           dt   temp  feels_like  pressure  humidity  dew_point  uvi  clouds  \\\n",
       "0  1629892800  29.68       36.44      1009        79      25.65  0.0      78   \n",
       "1  1629896400  29.36       35.76      1009        80      25.55  0.0      82   \n",
       "2  1629900000  28.98       34.90      1010        81      25.39  0.0      85   \n",
       "3  1629903600  28.58       33.79      1010        81      25.00  0.0      89   \n",
       "4  1629907200  27.99       32.54      1011        83      24.83  0.0      88   \n",
       "\n",
       "   visibility  wind_speed  wind_deg  wind_gust  \\\n",
       "0       10000        2.91       124       3.79   \n",
       "1       10000        2.65       114       3.53   \n",
       "2       10000        2.89       118       4.00   \n",
       "3       10000        2.84       122       3.88   \n",
       "4       10000        3.27       128       4.30   \n",
       "\n",
       "                                             weather   pop          rain  \n",
       "0  [{'id': 803, 'main': 'Clouds', 'description': ...  0.66           NaN  \n",
       "1  [{'id': 803, 'main': 'Clouds', 'description': ...  0.13           NaN  \n",
       "2  [{'id': 804, 'main': 'Clouds', 'description': ...  0.24           NaN  \n",
       "3  [{'id': 804, 'main': 'Clouds', 'description': ...  0.25           NaN  \n",
       "4  [{'id': 500, 'main': 'Rain', 'description': 'l...  0.40  {'1h': 0.34}  "
      ]
     },
     "execution_count": 10,
     "metadata": {},
     "output_type": "execute_result"
    }
   ],
   "source": [
    "df_hourly.head()"
   ]
  },
  {
   "cell_type": "code",
   "execution_count": null,
   "metadata": {},
   "outputs": [],
   "source": []
  }
 ],
 "metadata": {
  "interpreter": {
   "hash": "c1b4cfe941b6d2466ad1fb5979e97da9cda8801728c8091b097ab734208fc00c"
  },
  "kernelspec": {
   "display_name": "Python 3.8.3 64-bit ('base': conda)",
   "name": "python3"
  },
  "language_info": {
   "codemirror_mode": {
    "name": "ipython",
    "version": 3
   },
   "file_extension": ".py",
   "mimetype": "text/x-python",
   "name": "python",
   "nbconvert_exporter": "python",
   "pygments_lexer": "ipython3",
   "version": "3.8.11"
  }
 },
 "nbformat": 4,
 "nbformat_minor": 2
}
