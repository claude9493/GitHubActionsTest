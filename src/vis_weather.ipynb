{
 "cells": [
  {
   "cell_type": "code",
   "execution_count": 1,
   "metadata": {
    "execution": {
     "iopub.execute_input": "2021-10-17T04:14:49.681671Z",
     "iopub.status.busy": "2021-10-17T04:14:49.681075Z",
     "iopub.status.idle": "2021-10-17T04:14:51.056755Z",
     "shell.execute_reply": "2021-10-17T04:14:51.055784Z"
    }
   },
   "outputs": [],
   "source": [
    "import json, yaml, requests\r\n",
    "from datetime import datetime\r\n",
    "from dateutil import tz\r\n",
    "import pandas as pd\r\n",
    "from PIL import Image\r\n",
    "from io import BytesIO\r\n",
    "import matplotlib.pyplot as plt\r\n",
    "import seaborn\r\n",
    "\r\n",
    "CONFIG_PATH = \"../config/config.yaml\""
   ]
  },
  {
   "cell_type": "code",
   "execution_count": 2,
   "metadata": {
    "execution": {
     "iopub.execute_input": "2021-10-17T04:14:51.065077Z",
     "iopub.status.busy": "2021-10-17T04:14:51.061736Z",
     "iopub.status.idle": "2021-10-17T04:14:51.068220Z",
     "shell.execute_reply": "2021-10-17T04:14:51.067721Z"
    }
   },
   "outputs": [],
   "source": [
    "with open('../newest_ts', 'r') as f:\r\n",
    "    newest_ts = f.read()\r\n",
    "\r\n",
    "data_path = f\"../data/data_{newest_ts}.json\"\r\n",
    "with open(data_path, 'r') as f:\r\n",
    "    data = json.load(f)\r\n",
    "\r\n",
    "with open(CONFIG_PATH, \"r\") as stream:\r\n",
    "    config = yaml.safe_load(stream)\r\n",
    "\r\n",
    "TIME_ZONE = config['time_zone']\r\n",
    "DATETIME_FORMAT = config['dt_format']"
   ]
  },
  {
   "cell_type": "code",
   "execution_count": 3,
   "metadata": {
    "execution": {
     "iopub.execute_input": "2021-10-17T04:14:51.073697Z",
     "iopub.status.busy": "2021-10-17T04:14:51.073129Z",
     "iopub.status.idle": "2021-10-17T04:14:51.081625Z",
     "shell.execute_reply": "2021-10-17T04:14:51.081147Z"
    }
   },
   "outputs": [
    {
     "name": "stdout",
     "output_type": "stream",
     "text": [
      "Recent query happens at 2021-10-17 12:14:46 (CST).\n"
     ]
    }
   ],
   "source": [
    "def ts2dt(ts, format=DATETIME_FORMAT):\r\n",
    "    dt = (datetime.utcfromtimestamp(int(ts))\r\n",
    "                    .replace(tzinfo=tz.tzutc())\r\n",
    "                    # .astimezone(tz.tzlocal())\r\n",
    "                    .astimezone(tz.gettz(TIME_ZONE)))\r\n",
    "    return dt.strftime(format), dt\r\n",
    "\r\n",
    "_, newest_dt = ts2dt(newest_ts)\r\n",
    "print(f\"Recent query happens at {newest_dt.strftime(DATETIME_FORMAT)} ({newest_dt.tzname()}).\")"
   ]
  },
  {
   "cell_type": "code",
   "execution_count": 4,
   "metadata": {
    "execution": {
     "iopub.execute_input": "2021-10-17T04:14:51.087404Z",
     "iopub.status.busy": "2021-10-17T04:14:51.086174Z",
     "iopub.status.idle": "2021-10-17T04:14:51.088003Z",
     "shell.execute_reply": "2021-10-17T04:14:51.088422Z"
    }
   },
   "outputs": [],
   "source": [
    "def degrees_to_cardinal(d):\r\n",
    "  dirs = ['N', 'NNE', 'NE', 'ENE', 'E', 'ESE', 'SE', 'SSE', 'S', 'SSW', 'SW', 'WSW', 'W', 'WNW', 'NW', 'NNW']\r\n",
    "  ix = int(round(d / (360. / len(dirs))))\r\n",
    "  return dirs[ix % len(dirs)]"
   ]
  },
  {
   "cell_type": "code",
   "execution_count": 5,
   "metadata": {
    "execution": {
     "iopub.execute_input": "2021-10-17T04:14:51.092956Z",
     "iopub.status.busy": "2021-10-17T04:14:51.091783Z",
     "iopub.status.idle": "2021-10-17T04:14:51.093582Z",
     "shell.execute_reply": "2021-10-17T04:14:51.093998Z"
    }
   },
   "outputs": [],
   "source": [
    "# data.keys()"
   ]
  },
  {
   "cell_type": "code",
   "execution_count": 6,
   "metadata": {
    "execution": {
     "iopub.execute_input": "2021-10-17T04:14:51.098078Z",
     "iopub.status.busy": "2021-10-17T04:14:51.096829Z",
     "iopub.status.idle": "2021-10-17T04:14:51.098685Z",
     "shell.execute_reply": "2021-10-17T04:14:51.099107Z"
    }
   },
   "outputs": [],
   "source": [
    "# data['current']"
   ]
  },
  {
   "cell_type": "code",
   "execution_count": 7,
   "metadata": {
    "execution": {
     "iopub.execute_input": "2021-10-17T04:14:51.117570Z",
     "iopub.status.busy": "2021-10-17T04:14:51.116994Z",
     "iopub.status.idle": "2021-10-17T04:14:51.683678Z",
     "shell.execute_reply": "2021-10-17T04:14:51.684447Z"
    }
   },
   "outputs": [
    {
     "data": {
      "image/png": "[encoded data removed]",
      "text/plain": [
       "<Figure size 216x216 with 1 Axes>"
      ]
     },
     "metadata": {
      "needs_background": "light"
     },
     "output_type": "display_data"
    },
    {
     "name": "stdout",
     "output_type": "stream",
     "text": [
      "Today, sun rises at 06:19 and sets at 17:56.\n",
      "Currently, the weather is Clouds (few clouds).\n",
      "The temperature is 25.9°C and it feels like 26.37°C.\n",
      "The UV index is 8.23, humidity is 70%.\n",
      "The pressure is 1028 hPa, percentage of cloud cover is 11%\n",
      "The wind comes from NNE direction with a speed 4.92 m/s.\n"
     ]
    }
   ],
   "source": [
    "current = data['current']\r\n",
    "\r\n",
    "fig, ax = plt.subplots(figsize=(3, 3))\r\n",
    "icon = requests.get(f\"http://openweathermap.org/img/wn/{current['weather'][0]['icon']}@2x.png\")\r\n",
    "im = Image.open(BytesIO(icon.content))\r\n",
    "plt.imshow(im)\r\n",
    "ax.set_axis_off()\r\n",
    "plt.show()\r\n",
    "\r\n",
    "print(f\"Today, sun rises at {ts2dt(current['sunrise'], '%H:%M')[0]} \\\r\n",
    "and sets at {ts2dt(current['sunset'], '%H:%M')[0]}.\\n\\\r\n",
    "Currently, the weather is {current['weather'][0]['main']} ({current['weather'][0]['description']}).\\n\\\r\n",
    "The temperature is {current['temp']}°C and it feels like {current['feels_like']}°C.\\n\\\r\n",
    "The UV index is {current['uvi']}, humidity is {current['humidity']}%.\\n\\\r\n",
    "The pressure is {current['pressure']} hPa, percentage of cloud cover is {current['clouds']}%\\n\\\r\n",
    "The wind comes from {degrees_to_cardinal(current['wind_deg'])} direction with a speed {current['wind_speed']} m/s.\")"
   ]
  },
  {
   "cell_type": "code",
   "execution_count": 8,
   "metadata": {
    "execution": {
     "iopub.execute_input": "2021-10-17T04:14:51.687996Z",
     "iopub.status.busy": "2021-10-17T04:14:51.687463Z",
     "iopub.status.idle": "2021-10-17T04:14:51.694689Z",
     "shell.execute_reply": "2021-10-17T04:14:51.695394Z"
    }
   },
   "outputs": [],
   "source": [
    "df_hourly = pd.DataFrame(data['hourly'])\r\n",
    "df_daily = pd.DataFrame(data['daily'])"
   ]
  },
  {
   "cell_type": "code",
   "execution_count": 9,
   "metadata": {
    "execution": {
     "iopub.execute_input": "2021-10-17T04:14:51.698847Z",
     "iopub.status.busy": "2021-10-17T04:14:51.697845Z",
     "iopub.status.idle": "2021-10-17T04:14:51.992206Z",
     "shell.execute_reply": "2021-10-17T04:14:51.992733Z"
    }
   },
   "outputs": [
    {
     "data": {
      "image/png": "[encoded data removed]",
      "text/plain": [
       "<Figure size 864x432 with 1 Axes>"
      ]
     },
     "metadata": {
      "needs_background": "light"
     },
     "output_type": "display_data"
    }
   ],
   "source": [
    "fig, ax = plt.subplots(figsize=(12, 6))\r\n",
    "plt.plot(df_hourly.temp, '.-', label='Temperature')\r\n",
    "plt.plot(df_hourly.feels_like, '.-', label='Feels Like')\r\n",
    "ax.set(title='Temperature in future 48 hours', xlabel='Time', ylabel='Temperature')\r\n",
    "ax.set_xticks(list(range(0, len(df_hourly), 2)))\r\n",
    "ax.set_xticklabels([ts2dt(ts, '%m-%d %H:%M')[0] for i, ts in enumerate(df_hourly.dt) if i%2==0], \r\n",
    "                   rotation=45, ha=\"right\")\r\n",
    "ax.locator_params(nbins=15, axis='y')\r\n",
    "plt.legend()\r\n",
    "plt.show()"
   ]
  },
  {
   "cell_type": "code",
   "execution_count": 10,
   "metadata": {
    "execution": {
     "iopub.execute_input": "2021-10-17T04:14:52.004420Z",
     "iopub.status.busy": "2021-10-17T04:14:51.997149Z",
     "iopub.status.idle": "2021-10-17T04:14:52.016357Z",
     "shell.execute_reply": "2021-10-17T04:14:52.015516Z"
    }
   },
   "outputs": [
    {
     "data": {
      "text/html": [
       "<div>\n",
       "<style scoped>\n",
       "    .dataframe tbody tr th:only-of-type {\n",
       "        vertical-align: middle;\n",
       "    }\n",
       "\n",
       "    .dataframe tbody tr th {\n",
       "        vertical-align: top;\n",
       "    }\n",
       "\n",
       "    .dataframe thead th {\n",
       "        text-align: right;\n",
       "    }\n",
       "</style>\n",
       "<table border=\"1\" class=\"dataframe\">\n",
       "  <thead>\n",
       "    <tr style=\"text-align: right;\">\n",
       "      <th></th>\n",
       "      <th>dt</th>\n",
       "      <th>temp</th>\n",
       "      <th>feels_like</th>\n",
       "      <th>pressure</th>\n",
       "      <th>humidity</th>\n",
       "      <th>dew_point</th>\n",
       "      <th>uvi</th>\n",
       "      <th>clouds</th>\n",
       "      <th>visibility</th>\n",
       "      <th>wind_speed</th>\n",
       "      <th>wind_deg</th>\n",
       "      <th>wind_gust</th>\n",
       "      <th>weather</th>\n",
       "      <th>pop</th>\n",
       "    </tr>\n",
       "  </thead>\n",
       "  <tbody>\n",
       "    <tr>\n",
       "      <th>0</th>\n",
       "      <td>1634443200</td>\n",
       "      <td>25.90</td>\n",
       "      <td>26.37</td>\n",
       "      <td>1028</td>\n",
       "      <td>70</td>\n",
       "      <td>20.01</td>\n",
       "      <td>8.23</td>\n",
       "      <td>11</td>\n",
       "      <td>10000</td>\n",
       "      <td>6.52</td>\n",
       "      <td>36</td>\n",
       "      <td>8.70</td>\n",
       "      <td>[{'id': 801, 'main': 'Clouds', 'description': ...</td>\n",
       "      <td>0.03</td>\n",
       "    </tr>\n",
       "    <tr>\n",
       "      <th>1</th>\n",
       "      <td>1634446800</td>\n",
       "      <td>25.56</td>\n",
       "      <td>25.97</td>\n",
       "      <td>1026</td>\n",
       "      <td>69</td>\n",
       "      <td>19.45</td>\n",
       "      <td>8.08</td>\n",
       "      <td>12</td>\n",
       "      <td>10000</td>\n",
       "      <td>6.78</td>\n",
       "      <td>34</td>\n",
       "      <td>8.55</td>\n",
       "      <td>[{'id': 801, 'main': 'Clouds', 'description': ...</td>\n",
       "      <td>0.03</td>\n",
       "    </tr>\n",
       "    <tr>\n",
       "      <th>2</th>\n",
       "      <td>1634450400</td>\n",
       "      <td>25.23</td>\n",
       "      <td>25.58</td>\n",
       "      <td>1024</td>\n",
       "      <td>68</td>\n",
       "      <td>18.90</td>\n",
       "      <td>6.51</td>\n",
       "      <td>17</td>\n",
       "      <td>10000</td>\n",
       "      <td>6.80</td>\n",
       "      <td>30</td>\n",
       "      <td>7.81</td>\n",
       "      <td>[{'id': 801, 'main': 'Clouds', 'description': ...</td>\n",
       "      <td>0.03</td>\n",
       "    </tr>\n",
       "    <tr>\n",
       "      <th>3</th>\n",
       "      <td>1634454000</td>\n",
       "      <td>24.90</td>\n",
       "      <td>25.22</td>\n",
       "      <td>1021</td>\n",
       "      <td>68</td>\n",
       "      <td>18.59</td>\n",
       "      <td>4.08</td>\n",
       "      <td>55</td>\n",
       "      <td>10000</td>\n",
       "      <td>6.47</td>\n",
       "      <td>32</td>\n",
       "      <td>7.21</td>\n",
       "      <td>[{'id': 803, 'main': 'Clouds', 'description': ...</td>\n",
       "      <td>0.16</td>\n",
       "    </tr>\n",
       "    <tr>\n",
       "      <th>4</th>\n",
       "      <td>1634457600</td>\n",
       "      <td>24.48</td>\n",
       "      <td>24.76</td>\n",
       "      <td>1019</td>\n",
       "      <td>68</td>\n",
       "      <td>18.19</td>\n",
       "      <td>1.91</td>\n",
       "      <td>73</td>\n",
       "      <td>10000</td>\n",
       "      <td>5.93</td>\n",
       "      <td>34</td>\n",
       "      <td>7.05</td>\n",
       "      <td>[{'id': 803, 'main': 'Clouds', 'description': ...</td>\n",
       "      <td>0.12</td>\n",
       "    </tr>\n",
       "  </tbody>\n",
       "</table>\n",
       "</div>"
      ],
      "text/plain": [
       "           dt   temp  feels_like  pressure  humidity  dew_point   uvi  clouds  \\\n",
       "0  1634443200  25.90       26.37      1028        70      20.01  8.23      11   \n",
       "1  1634446800  25.56       25.97      1026        69      19.45  8.08      12   \n",
       "2  1634450400  25.23       25.58      1024        68      18.90  6.51      17   \n",
       "3  1634454000  24.90       25.22      1021        68      18.59  4.08      55   \n",
       "4  1634457600  24.48       24.76      1019        68      18.19  1.91      73   \n",
       "\n",
       "   visibility  wind_speed  wind_deg  wind_gust  \\\n",
       "0       10000        6.52        36       8.70   \n",
       "1       10000        6.78        34       8.55   \n",
       "2       10000        6.80        30       7.81   \n",
       "3       10000        6.47        32       7.21   \n",
       "4       10000        5.93        34       7.05   \n",
       "\n",
       "                                             weather   pop  \n",
       "0  [{'id': 801, 'main': 'Clouds', 'description': ...  0.03  \n",
       "1  [{'id': 801, 'main': 'Clouds', 'description': ...  0.03  \n",
       "2  [{'id': 801, 'main': 'Clouds', 'description': ...  0.03  \n",
       "3  [{'id': 803, 'main': 'Clouds', 'description': ...  0.16  \n",
       "4  [{'id': 803, 'main': 'Clouds', 'description': ...  0.12  "
      ]
     },
     "execution_count": 10,
     "metadata": {},
     "output_type": "execute_result"
    }
   ],
   "source": [
    "df_hourly.head()"
   ]
  },
  {
   "cell_type": "code",
   "execution_count": null,
   "metadata": {},
   "outputs": [],
   "source": []
  }
 ],
 "metadata": {
  "interpreter": {
   "hash": "c1b4cfe941b6d2466ad1fb5979e97da9cda8801728c8091b097ab734208fc00c"
  },
  "kernelspec": {
   "display_name": "Python 3.8.3 64-bit ('base': conda)",
   "name": "python3"
  },
  "language_info": {
   "codemirror_mode": {
    "name": "ipython",
    "version": 3
   },
   "file_extension": ".py",
   "mimetype": "text/x-python",
   "name": "python",
   "nbconvert_exporter": "python",
   "pygments_lexer": "ipython3",
   "version": "3.8.12"
  }
 },
 "nbformat": 4,
 "nbformat_minor": 2
}
