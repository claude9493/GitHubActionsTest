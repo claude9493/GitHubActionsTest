{
 "cells": [
  {
   "cell_type": "code",
   "execution_count": 1,
   "metadata": {
    "execution": {
     "iopub.execute_input": "2021-10-04T09:11:49.957908Z",
     "iopub.status.busy": "2021-10-04T09:11:49.957275Z",
     "iopub.status.idle": "2021-10-04T09:11:52.215377Z",
     "shell.execute_reply": "2021-10-04T09:11:52.215925Z"
    }
   },
   "outputs": [],
   "source": [
    "import json, yaml, requests\r\n",
    "from datetime import datetime\r\n",
    "from dateutil import tz\r\n",
    "import pandas as pd\r\n",
    "from PIL import Image\r\n",
    "from io import BytesIO\r\n",
    "import matplotlib.pyplot as plt\r\n",
    "import seaborn\r\n",
    "\r\n",
    "CONFIG_PATH = \"../config/config.yaml\""
   ]
  },
  {
   "cell_type": "code",
   "execution_count": 2,
   "metadata": {
    "execution": {
     "iopub.execute_input": "2021-10-04T09:11:52.222736Z",
     "iopub.status.busy": "2021-10-04T09:11:52.221713Z",
     "iopub.status.idle": "2021-10-04T09:11:52.227878Z",
     "shell.execute_reply": "2021-10-04T09:11:52.227325Z"
    }
   },
   "outputs": [],
   "source": [
    "with open('../newest_ts', 'r') as f:\r\n",
    "    newest_ts = f.read()\r\n",
    "\r\n",
    "data_path = f\"../data/data_{newest_ts}.json\"\r\n",
    "with open(data_path, 'r') as f:\r\n",
    "    data = json.load(f)\r\n",
    "\r\n",
    "with open(CONFIG_PATH, \"r\") as stream:\r\n",
    "    config = yaml.safe_load(stream)\r\n",
    "\r\n",
    "TIME_ZONE = config['time_zone']\r\n",
    "DATETIME_FORMAT = config['dt_format']"
   ]
  },
  {
   "cell_type": "code",
   "execution_count": 3,
   "metadata": {
    "execution": {
     "iopub.execute_input": "2021-10-04T09:11:52.233189Z",
     "iopub.status.busy": "2021-10-04T09:11:52.232630Z",
     "iopub.status.idle": "2021-10-04T09:11:52.238749Z",
     "shell.execute_reply": "2021-10-04T09:11:52.239172Z"
    }
   },
   "outputs": [
    {
     "name": "stdout",
     "output_type": "stream",
     "text": [
      "Recent query happens at 2021-10-04 17:11:46 (CST).\n"
     ]
    }
   ],
   "source": [
    "def ts2dt(ts, format=DATETIME_FORMAT):\r\n",
    "    dt = (datetime.utcfromtimestamp(int(ts))\r\n",
    "                    .replace(tzinfo=tz.tzutc())\r\n",
    "                    # .astimezone(tz.tzlocal())\r\n",
    "                    .astimezone(tz.gettz(TIME_ZONE)))\r\n",
    "    return dt.strftime(format), dt\r\n",
    "\r\n",
    "_, newest_dt = ts2dt(newest_ts)\r\n",
    "print(f\"Recent query happens at {newest_dt.strftime(DATETIME_FORMAT)} ({newest_dt.tzname()}).\")"
   ]
  },
  {
   "cell_type": "code",
   "execution_count": 4,
   "metadata": {
    "execution": {
     "iopub.execute_input": "2021-10-04T09:11:52.245112Z",
     "iopub.status.busy": "2021-10-04T09:11:52.243569Z",
     "iopub.status.idle": "2021-10-04T09:11:52.245831Z",
     "shell.execute_reply": "2021-10-04T09:11:52.246435Z"
    }
   },
   "outputs": [],
   "source": [
    "def degrees_to_cardinal(d):\r\n",
    "  dirs = ['N', 'NNE', 'NE', 'ENE', 'E', 'ESE', 'SE', 'SSE', 'S', 'SSW', 'SW', 'WSW', 'W', 'WNW', 'NW', 'NNW']\r\n",
    "  ix = int(round(d / (360. / len(dirs))))\r\n",
    "  return dirs[ix % len(dirs)]"
   ]
  },
  {
   "cell_type": "code",
   "execution_count": 5,
   "metadata": {
    "execution": {
     "iopub.execute_input": "2021-10-04T09:11:52.251639Z",
     "iopub.status.busy": "2021-10-04T09:11:52.250290Z",
     "iopub.status.idle": "2021-10-04T09:11:52.252250Z",
     "shell.execute_reply": "2021-10-04T09:11:52.252811Z"
    }
   },
   "outputs": [],
   "source": [
    "# data.keys()"
   ]
  },
  {
   "cell_type": "code",
   "execution_count": 6,
   "metadata": {
    "execution": {
     "iopub.execute_input": "2021-10-04T09:11:52.257466Z",
     "iopub.status.busy": "2021-10-04T09:11:52.256085Z",
     "iopub.status.idle": "2021-10-04T09:11:52.258158Z",
     "shell.execute_reply": "2021-10-04T09:11:52.258583Z"
    }
   },
   "outputs": [],
   "source": [
    "# data['current']"
   ]
  },
  {
   "cell_type": "code",
   "execution_count": 7,
   "metadata": {
    "execution": {
     "iopub.execute_input": "2021-10-04T09:11:52.280047Z",
     "iopub.status.busy": "2021-10-04T09:11:52.264900Z",
     "iopub.status.idle": "2021-10-04T09:11:52.700273Z",
     "shell.execute_reply": "2021-10-04T09:11:52.700999Z"
    }
   },
   "outputs": [
    {
     "data": {
      "image/png": "[encoded data removed]",
      "text/plain": [
       "<Figure size 216x216 with 1 Axes>"
      ]
     },
     "metadata": {
      "needs_background": "light"
     },
     "output_type": "display_data"
    },
    {
     "name": "stdout",
     "output_type": "stream",
     "text": [
      "Today, sun rises at 06:15 and sets at 18:08.\n",
      "Currently, the weather is Clear (clear sky).\n",
      "The temperature is 31.23°C and it feels like 36.43°C.\n",
      "The UV index is 0.71, humidity is 64%.\n",
      "The pressure is 1010 hPa, percentage of cloud cover is 1%\n",
      "The wind comes from W direction with a speed 0.45 m/s.\n"
     ]
    }
   ],
   "source": [
    "current = data['current']\r\n",
    "\r\n",
    "fig, ax = plt.subplots(figsize=(3, 3))\r\n",
    "icon = requests.get(f\"http://openweathermap.org/img/wn/{current['weather'][0]['icon']}@2x.png\")\r\n",
    "im = Image.open(BytesIO(icon.content))\r\n",
    "plt.imshow(im)\r\n",
    "ax.set_axis_off()\r\n",
    "plt.show()\r\n",
    "\r\n",
    "print(f\"Today, sun rises at {ts2dt(current['sunrise'], '%H:%M')[0]} \\\r\n",
    "and sets at {ts2dt(current['sunset'], '%H:%M')[0]}.\\n\\\r\n",
    "Currently, the weather is {current['weather'][0]['main']} ({current['weather'][0]['description']}).\\n\\\r\n",
    "The temperature is {current['temp']}°C and it feels like {current['feels_like']}°C.\\n\\\r\n",
    "The UV index is {current['uvi']}, humidity is {current['humidity']}%.\\n\\\r\n",
    "The pressure is {current['pressure']} hPa, percentage of cloud cover is {current['clouds']}%\\n\\\r\n",
    "The wind comes from {degrees_to_cardinal(current['wind_deg'])} direction with a speed {current['wind_speed']} m/s.\")"
   ]
  },
  {
   "cell_type": "code",
   "execution_count": 8,
   "metadata": {
    "execution": {
     "iopub.execute_input": "2021-10-04T09:11:52.704992Z",
     "iopub.status.busy": "2021-10-04T09:11:52.703810Z",
     "iopub.status.idle": "2021-10-04T09:11:52.711749Z",
     "shell.execute_reply": "2021-10-04T09:11:52.712739Z"
    }
   },
   "outputs": [],
   "source": [
    "df_hourly = pd.DataFrame(data['hourly'])\r\n",
    "df_daily = pd.DataFrame(data['daily'])"
   ]
  },
  {
   "cell_type": "code",
   "execution_count": 9,
   "metadata": {
    "execution": {
     "iopub.execute_input": "2021-10-04T09:11:52.716215Z",
     "iopub.status.busy": "2021-10-04T09:11:52.715173Z",
     "iopub.status.idle": "2021-10-04T09:11:53.038757Z",
     "shell.execute_reply": "2021-10-04T09:11:53.038289Z"
    }
   },
   "outputs": [
    {
     "data": {
      "image/png": "[encoded data removed]",
      "text/plain": [
       "<Figure size 864x432 with 1 Axes>"
      ]
     },
     "metadata": {
      "needs_background": "light"
     },
     "output_type": "display_data"
    }
   ],
   "source": [
    "fig, ax = plt.subplots(figsize=(12, 6))\r\n",
    "plt.plot(df_hourly.temp, '.-', label='Temperature')\r\n",
    "plt.plot(df_hourly.feels_like, '.-', label='Feels Like')\r\n",
    "ax.set(title='Temperature in future 48 hours', xlabel='Time', ylabel='Temperature')\r\n",
    "ax.set_xticks(list(range(0, len(df_hourly), 2)))\r\n",
    "ax.set_xticklabels([ts2dt(ts, '%m-%d %H:%M')[0] for i, ts in enumerate(df_hourly.dt) if i%2==0], \r\n",
    "                   rotation=45, ha=\"right\")\r\n",
    "ax.locator_params(nbins=15, axis='y')\r\n",
    "plt.legend()\r\n",
    "plt.show()"
   ]
  },
  {
   "cell_type": "code",
   "execution_count": 10,
   "metadata": {
    "execution": {
     "iopub.execute_input": "2021-10-04T09:11:53.044744Z",
     "iopub.status.busy": "2021-10-04T09:11:53.044075Z",
     "iopub.status.idle": "2021-10-04T09:11:53.068595Z",
     "shell.execute_reply": "2021-10-04T09:11:53.068103Z"
    }
   },
   "outputs": [
    {
     "data": {
      "text/html": [
       "<div>\n",
       "<style scoped>\n",
       "    .dataframe tbody tr th:only-of-type {\n",
       "        vertical-align: middle;\n",
       "    }\n",
       "\n",
       "    .dataframe tbody tr th {\n",
       "        vertical-align: top;\n",
       "    }\n",
       "\n",
       "    .dataframe thead th {\n",
       "        text-align: right;\n",
       "    }\n",
       "</style>\n",
       "<table border=\"1\" class=\"dataframe\">\n",
       "  <thead>\n",
       "    <tr style=\"text-align: right;\">\n",
       "      <th></th>\n",
       "      <th>dt</th>\n",
       "      <th>temp</th>\n",
       "      <th>feels_like</th>\n",
       "      <th>pressure</th>\n",
       "      <th>humidity</th>\n",
       "      <th>dew_point</th>\n",
       "      <th>uvi</th>\n",
       "      <th>clouds</th>\n",
       "      <th>visibility</th>\n",
       "      <th>wind_speed</th>\n",
       "      <th>wind_deg</th>\n",
       "      <th>wind_gust</th>\n",
       "      <th>weather</th>\n",
       "      <th>pop</th>\n",
       "    </tr>\n",
       "  </thead>\n",
       "  <tbody>\n",
       "    <tr>\n",
       "      <th>0</th>\n",
       "      <td>1633338000</td>\n",
       "      <td>31.23</td>\n",
       "      <td>36.43</td>\n",
       "      <td>1010</td>\n",
       "      <td>64</td>\n",
       "      <td>23.61</td>\n",
       "      <td>0.71</td>\n",
       "      <td>1</td>\n",
       "      <td>10000</td>\n",
       "      <td>5.54</td>\n",
       "      <td>97</td>\n",
       "      <td>7.07</td>\n",
       "      <td>[{'id': 800, 'main': 'Clear', 'description': '...</td>\n",
       "      <td>0.0</td>\n",
       "    </tr>\n",
       "    <tr>\n",
       "      <th>1</th>\n",
       "      <td>1633341600</td>\n",
       "      <td>30.58</td>\n",
       "      <td>35.43</td>\n",
       "      <td>1010</td>\n",
       "      <td>66</td>\n",
       "      <td>23.50</td>\n",
       "      <td>0.00</td>\n",
       "      <td>1</td>\n",
       "      <td>10000</td>\n",
       "      <td>5.21</td>\n",
       "      <td>97</td>\n",
       "      <td>6.84</td>\n",
       "      <td>[{'id': 800, 'main': 'Clear', 'description': '...</td>\n",
       "      <td>0.0</td>\n",
       "    </tr>\n",
       "    <tr>\n",
       "      <th>2</th>\n",
       "      <td>1633345200</td>\n",
       "      <td>29.86</td>\n",
       "      <td>34.24</td>\n",
       "      <td>1011</td>\n",
       "      <td>68</td>\n",
       "      <td>23.31</td>\n",
       "      <td>0.00</td>\n",
       "      <td>1</td>\n",
       "      <td>10000</td>\n",
       "      <td>5.23</td>\n",
       "      <td>91</td>\n",
       "      <td>7.19</td>\n",
       "      <td>[{'id': 800, 'main': 'Clear', 'description': '...</td>\n",
       "      <td>0.0</td>\n",
       "    </tr>\n",
       "    <tr>\n",
       "      <th>3</th>\n",
       "      <td>1633348800</td>\n",
       "      <td>29.24</td>\n",
       "      <td>33.26</td>\n",
       "      <td>1011</td>\n",
       "      <td>70</td>\n",
       "      <td>23.20</td>\n",
       "      <td>0.00</td>\n",
       "      <td>1</td>\n",
       "      <td>10000</td>\n",
       "      <td>5.10</td>\n",
       "      <td>88</td>\n",
       "      <td>7.46</td>\n",
       "      <td>[{'id': 800, 'main': 'Clear', 'description': '...</td>\n",
       "      <td>0.0</td>\n",
       "    </tr>\n",
       "    <tr>\n",
       "      <th>4</th>\n",
       "      <td>1633352400</td>\n",
       "      <td>28.54</td>\n",
       "      <td>32.24</td>\n",
       "      <td>1012</td>\n",
       "      <td>73</td>\n",
       "      <td>23.23</td>\n",
       "      <td>0.00</td>\n",
       "      <td>0</td>\n",
       "      <td>10000</td>\n",
       "      <td>5.10</td>\n",
       "      <td>87</td>\n",
       "      <td>7.40</td>\n",
       "      <td>[{'id': 800, 'main': 'Clear', 'description': '...</td>\n",
       "      <td>0.0</td>\n",
       "    </tr>\n",
       "  </tbody>\n",
       "</table>\n",
       "</div>"
      ],
      "text/plain": [
       "           dt   temp  feels_like  pressure  humidity  dew_point   uvi  clouds  \\\n",
       "0  1633338000  31.23       36.43      1010        64      23.61  0.71       1   \n",
       "1  1633341600  30.58       35.43      1010        66      23.50  0.00       1   \n",
       "2  1633345200  29.86       34.24      1011        68      23.31  0.00       1   \n",
       "3  1633348800  29.24       33.26      1011        70      23.20  0.00       1   \n",
       "4  1633352400  28.54       32.24      1012        73      23.23  0.00       0   \n",
       "\n",
       "   visibility  wind_speed  wind_deg  wind_gust  \\\n",
       "0       10000        5.54        97       7.07   \n",
       "1       10000        5.21        97       6.84   \n",
       "2       10000        5.23        91       7.19   \n",
       "3       10000        5.10        88       7.46   \n",
       "4       10000        5.10        87       7.40   \n",
       "\n",
       "                                             weather  pop  \n",
       "0  [{'id': 800, 'main': 'Clear', 'description': '...  0.0  \n",
       "1  [{'id': 800, 'main': 'Clear', 'description': '...  0.0  \n",
       "2  [{'id': 800, 'main': 'Clear', 'description': '...  0.0  \n",
       "3  [{'id': 800, 'main': 'Clear', 'description': '...  0.0  \n",
       "4  [{'id': 800, 'main': 'Clear', 'description': '...  0.0  "
      ]
     },
     "execution_count": 10,
     "metadata": {},
     "output_type": "execute_result"
    }
   ],
   "source": [
    "df_hourly.head()"
   ]
  },
  {
   "cell_type": "code",
   "execution_count": null,
   "metadata": {},
   "outputs": [],
   "source": []
  }
 ],
 "metadata": {
  "interpreter": {
   "hash": "c1b4cfe941b6d2466ad1fb5979e97da9cda8801728c8091b097ab734208fc00c"
  },
  "kernelspec": {
   "display_name": "Python 3.8.3 64-bit ('base': conda)",
   "name": "python3"
  },
  "language_info": {
   "codemirror_mode": {
    "name": "ipython",
    "version": 3
   },
   "file_extension": ".py",
   "mimetype": "text/x-python",
   "name": "python",
   "nbconvert_exporter": "python",
   "pygments_lexer": "ipython3",
   "version": "3.8.12"
  }
 },
 "nbformat": 4,
 "nbformat_minor": 2
}
