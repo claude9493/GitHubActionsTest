{
 "cells": [
  {
   "cell_type": "code",
   "execution_count": 1,
   "metadata": {
    "execution": {
     "iopub.execute_input": "2021-09-09T11:13:03.417216Z",
     "iopub.status.busy": "2021-09-09T11:13:03.416680Z",
     "iopub.status.idle": "2021-09-09T11:13:06.295575Z",
     "shell.execute_reply": "2021-09-09T11:13:06.295005Z"
    }
   },
   "outputs": [],
   "source": [
    "import json, yaml, requests\r\n",
    "from datetime import datetime\r\n",
    "from dateutil import tz\r\n",
    "import pandas as pd\r\n",
    "from PIL import Image\r\n",
    "from io import BytesIO\r\n",
    "import matplotlib.pyplot as plt\r\n",
    "import seaborn\r\n",
    "\r\n",
    "CONFIG_PATH = \"../config/config.yaml\""
   ]
  },
  {
   "cell_type": "code",
   "execution_count": 2,
   "metadata": {
    "execution": {
     "iopub.execute_input": "2021-09-09T11:13:06.301399Z",
     "iopub.status.busy": "2021-09-09T11:13:06.300475Z",
     "iopub.status.idle": "2021-09-09T11:13:06.307186Z",
     "shell.execute_reply": "2021-09-09T11:13:06.306278Z"
    }
   },
   "outputs": [],
   "source": [
    "with open('../newest_ts', 'r') as f:\r\n",
    "    newest_ts = f.read()\r\n",
    "\r\n",
    "data_path = f\"../data/data_{newest_ts}.json\"\r\n",
    "with open(data_path, 'r') as f:\r\n",
    "    data = json.load(f)\r\n",
    "\r\n",
    "with open(CONFIG_PATH, \"r\") as stream:\r\n",
    "    config = yaml.safe_load(stream)\r\n",
    "\r\n",
    "TIME_ZONE = config['time_zone']\r\n",
    "DATETIME_FORMAT = config['dt_format']"
   ]
  },
  {
   "cell_type": "code",
   "execution_count": 3,
   "metadata": {
    "execution": {
     "iopub.execute_input": "2021-09-09T11:13:06.311729Z",
     "iopub.status.busy": "2021-09-09T11:13:06.311131Z",
     "iopub.status.idle": "2021-09-09T11:13:06.322043Z",
     "shell.execute_reply": "2021-09-09T11:13:06.322887Z"
    }
   },
   "outputs": [
    {
     "name": "stdout",
     "output_type": "stream",
     "text": [
      "Recent query happens at 2021-09-09 19:13:00 (CST).\n"
     ]
    }
   ],
   "source": [
    "def ts2dt(ts, format=DATETIME_FORMAT):\r\n",
    "    dt = (datetime.utcfromtimestamp(int(ts))\r\n",
    "                    .replace(tzinfo=tz.tzutc())\r\n",
    "                    # .astimezone(tz.tzlocal())\r\n",
    "                    .astimezone(tz.gettz(TIME_ZONE)))\r\n",
    "    return dt.strftime(format), dt\r\n",
    "\r\n",
    "_, newest_dt = ts2dt(newest_ts)\r\n",
    "print(f\"Recent query happens at {newest_dt.strftime(DATETIME_FORMAT)} ({newest_dt.tzname()}).\")"
   ]
  },
  {
   "cell_type": "code",
   "execution_count": 4,
   "metadata": {
    "execution": {
     "iopub.execute_input": "2021-09-09T11:13:06.328240Z",
     "iopub.status.busy": "2021-09-09T11:13:06.327696Z",
     "iopub.status.idle": "2021-09-09T11:13:06.330029Z",
     "shell.execute_reply": "2021-09-09T11:13:06.330596Z"
    }
   },
   "outputs": [],
   "source": [
    "def degrees_to_cardinal(d):\r\n",
    "  dirs = ['N', 'NNE', 'NE', 'ENE', 'E', 'ESE', 'SE', 'SSE', 'S', 'SSW', 'SW', 'WSW', 'W', 'WNW', 'NW', 'NNW']\r\n",
    "  ix = int(round(d / (360. / len(dirs))))\r\n",
    "  return dirs[ix % len(dirs)]"
   ]
  },
  {
   "cell_type": "code",
   "execution_count": 5,
   "metadata": {
    "execution": {
     "iopub.execute_input": "2021-09-09T11:13:06.336227Z",
     "iopub.status.busy": "2021-09-09T11:13:06.334580Z",
     "iopub.status.idle": "2021-09-09T11:13:06.336933Z",
     "shell.execute_reply": "2021-09-09T11:13:06.337433Z"
    }
   },
   "outputs": [],
   "source": [
    "# data.keys()"
   ]
  },
  {
   "cell_type": "code",
   "execution_count": 6,
   "metadata": {
    "execution": {
     "iopub.execute_input": "2021-09-09T11:13:06.342064Z",
     "iopub.status.busy": "2021-09-09T11:13:06.340794Z",
     "iopub.status.idle": "2021-09-09T11:13:06.342631Z",
     "shell.execute_reply": "2021-09-09T11:13:06.343218Z"
    }
   },
   "outputs": [],
   "source": [
    "# data['current']"
   ]
  },
  {
   "cell_type": "code",
   "execution_count": 7,
   "metadata": {
    "execution": {
     "iopub.execute_input": "2021-09-09T11:13:06.363598Z",
     "iopub.status.busy": "2021-09-09T11:13:06.362888Z",
     "iopub.status.idle": "2021-09-09T11:13:06.959238Z",
     "shell.execute_reply": "2021-09-09T11:13:06.959881Z"
    }
   },
   "outputs": [
    {
     "data": {
      "image/png": "[encoded data removed]",
      "text/plain": [
       "<Figure size 216x216 with 1 Axes>"
      ]
     },
     "metadata": {
      "needs_background": "light"
     },
     "output_type": "display_data"
    },
    {
     "name": "stdout",
     "output_type": "stream",
     "text": [
      "Today, sun rises at 06:08 and sets at 18:32.\n",
      "Currently, the weather is Clouds (scattered clouds).\n",
      "The temperature is 30.98°C and it feels like 37.85°C.\n",
      "The UV index is 0, humidity is 71%.\n",
      "The pressure is 1008 hPa, percentage of cloud cover is 44%\n",
      "The wind comes from E direction with a speed 3.87 m/s.\n"
     ]
    }
   ],
   "source": [
    "current = data['current']\r\n",
    "\r\n",
    "fig, ax = plt.subplots(figsize=(3, 3))\r\n",
    "icon = requests.get(f\"http://openweathermap.org/img/wn/{current['weather'][0]['icon']}@2x.png\")\r\n",
    "im = Image.open(BytesIO(icon.content))\r\n",
    "plt.imshow(im)\r\n",
    "ax.set_axis_off()\r\n",
    "plt.show()\r\n",
    "\r\n",
    "print(f\"Today, sun rises at {ts2dt(current['sunrise'], '%H:%M')[0]} \\\r\n",
    "and sets at {ts2dt(current['sunset'], '%H:%M')[0]}.\\n\\\r\n",
    "Currently, the weather is {current['weather'][0]['main']} ({current['weather'][0]['description']}).\\n\\\r\n",
    "The temperature is {current['temp']}°C and it feels like {current['feels_like']}°C.\\n\\\r\n",
    "The UV index is {current['uvi']}, humidity is {current['humidity']}%.\\n\\\r\n",
    "The pressure is {current['pressure']} hPa, percentage of cloud cover is {current['clouds']}%\\n\\\r\n",
    "The wind comes from {degrees_to_cardinal(current['wind_deg'])} direction with a speed {current['wind_speed']} m/s.\")"
   ]
  },
  {
   "cell_type": "code",
   "execution_count": 8,
   "metadata": {
    "execution": {
     "iopub.execute_input": "2021-09-09T11:13:06.962863Z",
     "iopub.status.busy": "2021-09-09T11:13:06.962341Z",
     "iopub.status.idle": "2021-09-09T11:13:06.967956Z",
     "shell.execute_reply": "2021-09-09T11:13:06.968400Z"
    }
   },
   "outputs": [],
   "source": [
    "df_hourly = pd.DataFrame(data['hourly'])\r\n",
    "df_daily = pd.DataFrame(data['daily'])"
   ]
  },
  {
   "cell_type": "code",
   "execution_count": 9,
   "metadata": {
    "execution": {
     "iopub.execute_input": "2021-09-09T11:13:06.971035Z",
     "iopub.status.busy": "2021-09-09T11:13:06.970569Z",
     "iopub.status.idle": "2021-09-09T11:13:07.279218Z",
     "shell.execute_reply": "2021-09-09T11:13:07.278268Z"
    }
   },
   "outputs": [
    {
     "data": {
      "image/png": "[encoded data removed]",
      "text/plain": [
       "<Figure size 864x432 with 1 Axes>"
      ]
     },
     "metadata": {
      "needs_background": "light"
     },
     "output_type": "display_data"
    }
   ],
   "source": [
    "fig, ax = plt.subplots(figsize=(12, 6))\r\n",
    "plt.plot(df_hourly.temp, '.-', label='Temperature')\r\n",
    "plt.plot(df_hourly.feels_like, '.-', label='Feels Like')\r\n",
    "ax.set(title='Temperature in future 48 hours', xlabel='Time', ylabel='Temperature')\r\n",
    "ax.set_xticks(list(range(0, len(df_hourly), 2)))\r\n",
    "ax.set_xticklabels([ts2dt(ts, '%m-%d %H:%M')[0] for i, ts in enumerate(df_hourly.dt) if i%2==0], \r\n",
    "                   rotation=45, ha=\"right\")\r\n",
    "ax.locator_params(nbins=15, axis='y')\r\n",
    "plt.legend()\r\n",
    "plt.show()"
   ]
  },
  {
   "cell_type": "code",
   "execution_count": 10,
   "metadata": {
    "execution": {
     "iopub.execute_input": "2021-09-09T11:13:07.301247Z",
     "iopub.status.busy": "2021-09-09T11:13:07.283559Z",
     "iopub.status.idle": "2021-09-09T11:13:07.306167Z",
     "shell.execute_reply": "2021-09-09T11:13:07.305480Z"
    }
   },
   "outputs": [
    {
     "data": {
      "text/html": [
       "<div>\n",
       "<style scoped>\n",
       "    .dataframe tbody tr th:only-of-type {\n",
       "        vertical-align: middle;\n",
       "    }\n",
       "\n",
       "    .dataframe tbody tr th {\n",
       "        vertical-align: top;\n",
       "    }\n",
       "\n",
       "    .dataframe thead th {\n",
       "        text-align: right;\n",
       "    }\n",
       "</style>\n",
       "<table border=\"1\" class=\"dataframe\">\n",
       "  <thead>\n",
       "    <tr style=\"text-align: right;\">\n",
       "      <th></th>\n",
       "      <th>dt</th>\n",
       "      <th>temp</th>\n",
       "      <th>feels_like</th>\n",
       "      <th>pressure</th>\n",
       "      <th>humidity</th>\n",
       "      <th>dew_point</th>\n",
       "      <th>uvi</th>\n",
       "      <th>clouds</th>\n",
       "      <th>visibility</th>\n",
       "      <th>wind_speed</th>\n",
       "      <th>wind_deg</th>\n",
       "      <th>wind_gust</th>\n",
       "      <th>weather</th>\n",
       "      <th>pop</th>\n",
       "      <th>rain</th>\n",
       "    </tr>\n",
       "  </thead>\n",
       "  <tbody>\n",
       "    <tr>\n",
       "      <th>0</th>\n",
       "      <td>1631185200</td>\n",
       "      <td>30.98</td>\n",
       "      <td>37.85</td>\n",
       "      <td>1008</td>\n",
       "      <td>71</td>\n",
       "      <td>25.10</td>\n",
       "      <td>0.0</td>\n",
       "      <td>44</td>\n",
       "      <td>10000</td>\n",
       "      <td>3.87</td>\n",
       "      <td>98</td>\n",
       "      <td>5.37</td>\n",
       "      <td>[{'id': 802, 'main': 'Clouds', 'description': ...</td>\n",
       "      <td>0.01</td>\n",
       "      <td>NaN</td>\n",
       "    </tr>\n",
       "    <tr>\n",
       "      <th>1</th>\n",
       "      <td>1631188800</td>\n",
       "      <td>30.44</td>\n",
       "      <td>37.24</td>\n",
       "      <td>1008</td>\n",
       "      <td>74</td>\n",
       "      <td>25.28</td>\n",
       "      <td>0.0</td>\n",
       "      <td>43</td>\n",
       "      <td>10000</td>\n",
       "      <td>3.85</td>\n",
       "      <td>94</td>\n",
       "      <td>5.72</td>\n",
       "      <td>[{'id': 500, 'main': 'Rain', 'description': 'l...</td>\n",
       "      <td>0.28</td>\n",
       "      <td>{'1h': 0.1}</td>\n",
       "    </tr>\n",
       "    <tr>\n",
       "      <th>2</th>\n",
       "      <td>1631192400</td>\n",
       "      <td>29.86</td>\n",
       "      <td>36.17</td>\n",
       "      <td>1008</td>\n",
       "      <td>76</td>\n",
       "      <td>25.17</td>\n",
       "      <td>0.0</td>\n",
       "      <td>28</td>\n",
       "      <td>10000</td>\n",
       "      <td>4.07</td>\n",
       "      <td>91</td>\n",
       "      <td>6.06</td>\n",
       "      <td>[{'id': 802, 'main': 'Clouds', 'description': ...</td>\n",
       "      <td>0.63</td>\n",
       "      <td>NaN</td>\n",
       "    </tr>\n",
       "    <tr>\n",
       "      <th>3</th>\n",
       "      <td>1631196000</td>\n",
       "      <td>29.26</td>\n",
       "      <td>35.24</td>\n",
       "      <td>1009</td>\n",
       "      <td>79</td>\n",
       "      <td>25.24</td>\n",
       "      <td>0.0</td>\n",
       "      <td>28</td>\n",
       "      <td>10000</td>\n",
       "      <td>3.85</td>\n",
       "      <td>86</td>\n",
       "      <td>5.88</td>\n",
       "      <td>[{'id': 500, 'main': 'Rain', 'description': 'l...</td>\n",
       "      <td>0.62</td>\n",
       "      <td>{'1h': 0.12}</td>\n",
       "    </tr>\n",
       "    <tr>\n",
       "      <th>4</th>\n",
       "      <td>1631199600</td>\n",
       "      <td>28.52</td>\n",
       "      <td>33.82</td>\n",
       "      <td>1010</td>\n",
       "      <td>82</td>\n",
       "      <td>25.14</td>\n",
       "      <td>0.0</td>\n",
       "      <td>34</td>\n",
       "      <td>10000</td>\n",
       "      <td>3.63</td>\n",
       "      <td>77</td>\n",
       "      <td>5.58</td>\n",
       "      <td>[{'id': 500, 'main': 'Rain', 'description': 'l...</td>\n",
       "      <td>0.72</td>\n",
       "      <td>{'1h': 0.51}</td>\n",
       "    </tr>\n",
       "  </tbody>\n",
       "</table>\n",
       "</div>"
      ],
      "text/plain": [
       "           dt   temp  feels_like  pressure  humidity  dew_point  uvi  clouds  \\\n",
       "0  1631185200  30.98       37.85      1008        71      25.10  0.0      44   \n",
       "1  1631188800  30.44       37.24      1008        74      25.28  0.0      43   \n",
       "2  1631192400  29.86       36.17      1008        76      25.17  0.0      28   \n",
       "3  1631196000  29.26       35.24      1009        79      25.24  0.0      28   \n",
       "4  1631199600  28.52       33.82      1010        82      25.14  0.0      34   \n",
       "\n",
       "   visibility  wind_speed  wind_deg  wind_gust  \\\n",
       "0       10000        3.87        98       5.37   \n",
       "1       10000        3.85        94       5.72   \n",
       "2       10000        4.07        91       6.06   \n",
       "3       10000        3.85        86       5.88   \n",
       "4       10000        3.63        77       5.58   \n",
       "\n",
       "                                             weather   pop          rain  \n",
       "0  [{'id': 802, 'main': 'Clouds', 'description': ...  0.01           NaN  \n",
       "1  [{'id': 500, 'main': 'Rain', 'description': 'l...  0.28   {'1h': 0.1}  \n",
       "2  [{'id': 802, 'main': 'Clouds', 'description': ...  0.63           NaN  \n",
       "3  [{'id': 500, 'main': 'Rain', 'description': 'l...  0.62  {'1h': 0.12}  \n",
       "4  [{'id': 500, 'main': 'Rain', 'description': 'l...  0.72  {'1h': 0.51}  "
      ]
     },
     "execution_count": 10,
     "metadata": {},
     "output_type": "execute_result"
    }
   ],
   "source": [
    "df_hourly.head()"
   ]
  },
  {
   "cell_type": "code",
   "execution_count": null,
   "metadata": {},
   "outputs": [],
   "source": []
  }
 ],
 "metadata": {
  "interpreter": {
   "hash": "c1b4cfe941b6d2466ad1fb5979e97da9cda8801728c8091b097ab734208fc00c"
  },
  "kernelspec": {
   "display_name": "Python 3.8.3 64-bit ('base': conda)",
   "name": "python3"
  },
  "language_info": {
   "codemirror_mode": {
    "name": "ipython",
    "version": 3
   },
   "file_extension": ".py",
   "mimetype": "text/x-python",
   "name": "python",
   "nbconvert_exporter": "python",
   "pygments_lexer": "ipython3",
   "version": "3.8.11"
  }
 },
 "nbformat": 4,
 "nbformat_minor": 2
}
