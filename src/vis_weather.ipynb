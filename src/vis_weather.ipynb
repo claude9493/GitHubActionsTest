{
 "cells": [
  {
   "cell_type": "code",
   "execution_count": 1,
   "metadata": {
    "execution": {
     "iopub.execute_input": "2021-09-15T07:11:43.703529Z",
     "iopub.status.busy": "2021-09-15T07:11:43.701910Z",
     "iopub.status.idle": "2021-09-15T07:11:45.425787Z",
     "shell.execute_reply": "2021-09-15T07:11:45.426388Z"
    }
   },
   "outputs": [],
   "source": [
    "import json, yaml, requests\r\n",
    "from datetime import datetime\r\n",
    "from dateutil import tz\r\n",
    "import pandas as pd\r\n",
    "from PIL import Image\r\n",
    "from io import BytesIO\r\n",
    "import matplotlib.pyplot as plt\r\n",
    "import seaborn\r\n",
    "\r\n",
    "CONFIG_PATH = \"../config/config.yaml\""
   ]
  },
  {
   "cell_type": "code",
   "execution_count": 2,
   "metadata": {
    "execution": {
     "iopub.execute_input": "2021-09-15T07:11:45.433654Z",
     "iopub.status.busy": "2021-09-15T07:11:45.432568Z",
     "iopub.status.idle": "2021-09-15T07:11:45.438868Z",
     "shell.execute_reply": "2021-09-15T07:11:45.438083Z"
    }
   },
   "outputs": [],
   "source": [
    "with open('../newest_ts', 'r') as f:\r\n",
    "    newest_ts = f.read()\r\n",
    "\r\n",
    "data_path = f\"../data/data_{newest_ts}.json\"\r\n",
    "with open(data_path, 'r') as f:\r\n",
    "    data = json.load(f)\r\n",
    "\r\n",
    "with open(CONFIG_PATH, \"r\") as stream:\r\n",
    "    config = yaml.safe_load(stream)\r\n",
    "\r\n",
    "TIME_ZONE = config['time_zone']\r\n",
    "DATETIME_FORMAT = config['dt_format']"
   ]
  },
  {
   "cell_type": "code",
   "execution_count": 3,
   "metadata": {
    "execution": {
     "iopub.execute_input": "2021-09-15T07:11:45.444032Z",
     "iopub.status.busy": "2021-09-15T07:11:45.443392Z",
     "iopub.status.idle": "2021-09-15T07:11:45.462594Z",
     "shell.execute_reply": "2021-09-15T07:11:45.463022Z"
    }
   },
   "outputs": [
    {
     "name": "stdout",
     "output_type": "stream",
     "text": [
      "Recent query happens at 2021-09-15 15:11:39 (CST).\n"
     ]
    }
   ],
   "source": [
    "def ts2dt(ts, format=DATETIME_FORMAT):\r\n",
    "    dt = (datetime.utcfromtimestamp(int(ts))\r\n",
    "                    .replace(tzinfo=tz.tzutc())\r\n",
    "                    # .astimezone(tz.tzlocal())\r\n",
    "                    .astimezone(tz.gettz(TIME_ZONE)))\r\n",
    "    return dt.strftime(format), dt\r\n",
    "\r\n",
    "_, newest_dt = ts2dt(newest_ts)\r\n",
    "print(f\"Recent query happens at {newest_dt.strftime(DATETIME_FORMAT)} ({newest_dt.tzname()}).\")"
   ]
  },
  {
   "cell_type": "code",
   "execution_count": 4,
   "metadata": {
    "execution": {
     "iopub.execute_input": "2021-09-15T07:11:45.469280Z",
     "iopub.status.busy": "2021-09-15T07:11:45.468722Z",
     "iopub.status.idle": "2021-09-15T07:11:45.471892Z",
     "shell.execute_reply": "2021-09-15T07:11:45.472394Z"
    }
   },
   "outputs": [],
   "source": [
    "def degrees_to_cardinal(d):\r\n",
    "  dirs = ['N', 'NNE', 'NE', 'ENE', 'E', 'ESE', 'SE', 'SSE', 'S', 'SSW', 'SW', 'WSW', 'W', 'WNW', 'NW', 'NNW']\r\n",
    "  ix = int(round(d / (360. / len(dirs))))\r\n",
    "  return dirs[ix % len(dirs)]"
   ]
  },
  {
   "cell_type": "code",
   "execution_count": 5,
   "metadata": {
    "execution": {
     "iopub.execute_input": "2021-09-15T07:11:45.478172Z",
     "iopub.status.busy": "2021-09-15T07:11:45.476642Z",
     "iopub.status.idle": "2021-09-15T07:11:45.479008Z",
     "shell.execute_reply": "2021-09-15T07:11:45.479480Z"
    }
   },
   "outputs": [],
   "source": [
    "# data.keys()"
   ]
  },
  {
   "cell_type": "code",
   "execution_count": 6,
   "metadata": {
    "execution": {
     "iopub.execute_input": "2021-09-15T07:11:45.484329Z",
     "iopub.status.busy": "2021-09-15T07:11:45.482734Z",
     "iopub.status.idle": "2021-09-15T07:11:45.484982Z",
     "shell.execute_reply": "2021-09-15T07:11:45.486309Z"
    }
   },
   "outputs": [],
   "source": [
    "# data['current']"
   ]
  },
  {
   "cell_type": "code",
   "execution_count": 7,
   "metadata": {
    "execution": {
     "iopub.execute_input": "2021-09-15T07:11:45.508898Z",
     "iopub.status.busy": "2021-09-15T07:11:45.508297Z",
     "iopub.status.idle": "2021-09-15T07:11:45.955795Z",
     "shell.execute_reply": "2021-09-15T07:11:45.956607Z"
    }
   },
   "outputs": [
    {
     "data": {
      "image/png": "[encoded data removed]",
      "text/plain": [
       "<Figure size 216x216 with 1 Axes>"
      ]
     },
     "metadata": {
      "needs_background": "light"
     },
     "output_type": "display_data"
    },
    {
     "name": "stdout",
     "output_type": "stream",
     "text": [
      "Today, sun rises at 06:09 and sets at 18:27.\n",
      "Currently, the weather is Clouds (overcast clouds).\n",
      "The temperature is 32.75°C and it feels like 39.75°C.\n",
      "The UV index is 5.67, humidity is 68%.\n",
      "The pressure is 1010 hPa, percentage of cloud cover is 88%\n",
      "The wind comes from WSW direction with a speed 4.63 m/s.\n"
     ]
    }
   ],
   "source": [
    "current = data['current']\r\n",
    "\r\n",
    "fig, ax = plt.subplots(figsize=(3, 3))\r\n",
    "icon = requests.get(f\"http://openweathermap.org/img/wn/{current['weather'][0]['icon']}@2x.png\")\r\n",
    "im = Image.open(BytesIO(icon.content))\r\n",
    "plt.imshow(im)\r\n",
    "ax.set_axis_off()\r\n",
    "plt.show()\r\n",
    "\r\n",
    "print(f\"Today, sun rises at {ts2dt(current['sunrise'], '%H:%M')[0]} \\\r\n",
    "and sets at {ts2dt(current['sunset'], '%H:%M')[0]}.\\n\\\r\n",
    "Currently, the weather is {current['weather'][0]['main']} ({current['weather'][0]['description']}).\\n\\\r\n",
    "The temperature is {current['temp']}°C and it feels like {current['feels_like']}°C.\\n\\\r\n",
    "The UV index is {current['uvi']}, humidity is {current['humidity']}%.\\n\\\r\n",
    "The pressure is {current['pressure']} hPa, percentage of cloud cover is {current['clouds']}%\\n\\\r\n",
    "The wind comes from {degrees_to_cardinal(current['wind_deg'])} direction with a speed {current['wind_speed']} m/s.\")"
   ]
  },
  {
   "cell_type": "code",
   "execution_count": 8,
   "metadata": {
    "execution": {
     "iopub.execute_input": "2021-09-15T07:11:45.961638Z",
     "iopub.status.busy": "2021-09-15T07:11:45.959469Z",
     "iopub.status.idle": "2021-09-15T07:11:45.969203Z",
     "shell.execute_reply": "2021-09-15T07:11:45.970073Z"
    }
   },
   "outputs": [],
   "source": [
    "df_hourly = pd.DataFrame(data['hourly'])\r\n",
    "df_daily = pd.DataFrame(data['daily'])"
   ]
  },
  {
   "cell_type": "code",
   "execution_count": 9,
   "metadata": {
    "execution": {
     "iopub.execute_input": "2021-09-15T07:11:45.974538Z",
     "iopub.status.busy": "2021-09-15T07:11:45.972878Z",
     "iopub.status.idle": "2021-09-15T07:11:46.336317Z",
     "shell.execute_reply": "2021-09-15T07:11:46.336967Z"
    }
   },
   "outputs": [
    {
     "data": {
      "image/png": "[encoded data removed]",
      "text/plain": [
       "<Figure size 864x432 with 1 Axes>"
      ]
     },
     "metadata": {
      "needs_background": "light"
     },
     "output_type": "display_data"
    }
   ],
   "source": [
    "fig, ax = plt.subplots(figsize=(12, 6))\r\n",
    "plt.plot(df_hourly.temp, '.-', label='Temperature')\r\n",
    "plt.plot(df_hourly.feels_like, '.-', label='Feels Like')\r\n",
    "ax.set(title='Temperature in future 48 hours', xlabel='Time', ylabel='Temperature')\r\n",
    "ax.set_xticks(list(range(0, len(df_hourly), 2)))\r\n",
    "ax.set_xticklabels([ts2dt(ts, '%m-%d %H:%M')[0] for i, ts in enumerate(df_hourly.dt) if i%2==0], \r\n",
    "                   rotation=45, ha=\"right\")\r\n",
    "ax.locator_params(nbins=15, axis='y')\r\n",
    "plt.legend()\r\n",
    "plt.show()"
   ]
  },
  {
   "cell_type": "code",
   "execution_count": 10,
   "metadata": {
    "execution": {
     "iopub.execute_input": "2021-09-15T07:11:46.342293Z",
     "iopub.status.busy": "2021-09-15T07:11:46.341566Z",
     "iopub.status.idle": "2021-09-15T07:11:46.368827Z",
     "shell.execute_reply": "2021-09-15T07:11:46.369576Z"
    }
   },
   "outputs": [
    {
     "data": {
      "text/html": [
       "<div>\n",
       "<style scoped>\n",
       "    .dataframe tbody tr th:only-of-type {\n",
       "        vertical-align: middle;\n",
       "    }\n",
       "\n",
       "    .dataframe tbody tr th {\n",
       "        vertical-align: top;\n",
       "    }\n",
       "\n",
       "    .dataframe thead th {\n",
       "        text-align: right;\n",
       "    }\n",
       "</style>\n",
       "<table border=\"1\" class=\"dataframe\">\n",
       "  <thead>\n",
       "    <tr style=\"text-align: right;\">\n",
       "      <th></th>\n",
       "      <th>dt</th>\n",
       "      <th>temp</th>\n",
       "      <th>feels_like</th>\n",
       "      <th>pressure</th>\n",
       "      <th>humidity</th>\n",
       "      <th>dew_point</th>\n",
       "      <th>uvi</th>\n",
       "      <th>clouds</th>\n",
       "      <th>visibility</th>\n",
       "      <th>wind_speed</th>\n",
       "      <th>wind_deg</th>\n",
       "      <th>wind_gust</th>\n",
       "      <th>weather</th>\n",
       "      <th>pop</th>\n",
       "      <th>rain</th>\n",
       "    </tr>\n",
       "  </thead>\n",
       "  <tbody>\n",
       "    <tr>\n",
       "      <th>0</th>\n",
       "      <td>1631689200</td>\n",
       "      <td>32.75</td>\n",
       "      <td>39.75</td>\n",
       "      <td>1010</td>\n",
       "      <td>68</td>\n",
       "      <td>26.06</td>\n",
       "      <td>5.67</td>\n",
       "      <td>88</td>\n",
       "      <td>10000</td>\n",
       "      <td>4.63</td>\n",
       "      <td>245</td>\n",
       "      <td>4.68</td>\n",
       "      <td>[{'id': 500, 'main': 'Rain', 'description': 'l...</td>\n",
       "      <td>0.32</td>\n",
       "      <td>{'1h': 0.25}</td>\n",
       "    </tr>\n",
       "    <tr>\n",
       "      <th>1</th>\n",
       "      <td>1631692800</td>\n",
       "      <td>32.37</td>\n",
       "      <td>39.37</td>\n",
       "      <td>1010</td>\n",
       "      <td>69</td>\n",
       "      <td>25.95</td>\n",
       "      <td>2.88</td>\n",
       "      <td>82</td>\n",
       "      <td>10000</td>\n",
       "      <td>4.97</td>\n",
       "      <td>242</td>\n",
       "      <td>5.13</td>\n",
       "      <td>[{'id': 803, 'main': 'Clouds', 'description': ...</td>\n",
       "      <td>0.16</td>\n",
       "      <td>NaN</td>\n",
       "    </tr>\n",
       "    <tr>\n",
       "      <th>2</th>\n",
       "      <td>1631696400</td>\n",
       "      <td>31.72</td>\n",
       "      <td>38.72</td>\n",
       "      <td>1010</td>\n",
       "      <td>70</td>\n",
       "      <td>25.57</td>\n",
       "      <td>0.94</td>\n",
       "      <td>72</td>\n",
       "      <td>10000</td>\n",
       "      <td>5.27</td>\n",
       "      <td>244</td>\n",
       "      <td>5.79</td>\n",
       "      <td>[{'id': 803, 'main': 'Clouds', 'description': ...</td>\n",
       "      <td>0.36</td>\n",
       "      <td>NaN</td>\n",
       "    </tr>\n",
       "    <tr>\n",
       "      <th>3</th>\n",
       "      <td>1631700000</td>\n",
       "      <td>30.78</td>\n",
       "      <td>37.78</td>\n",
       "      <td>1009</td>\n",
       "      <td>74</td>\n",
       "      <td>25.61</td>\n",
       "      <td>0.15</td>\n",
       "      <td>71</td>\n",
       "      <td>10000</td>\n",
       "      <td>5.02</td>\n",
       "      <td>246</td>\n",
       "      <td>6.54</td>\n",
       "      <td>[{'id': 500, 'main': 'Rain', 'description': 'l...</td>\n",
       "      <td>0.64</td>\n",
       "      <td>{'1h': 0.39}</td>\n",
       "    </tr>\n",
       "    <tr>\n",
       "      <th>4</th>\n",
       "      <td>1631703600</td>\n",
       "      <td>29.66</td>\n",
       "      <td>35.87</td>\n",
       "      <td>1009</td>\n",
       "      <td>77</td>\n",
       "      <td>25.19</td>\n",
       "      <td>0.00</td>\n",
       "      <td>71</td>\n",
       "      <td>10000</td>\n",
       "      <td>4.16</td>\n",
       "      <td>242</td>\n",
       "      <td>5.39</td>\n",
       "      <td>[{'id': 500, 'main': 'Rain', 'description': 'l...</td>\n",
       "      <td>0.67</td>\n",
       "      <td>{'1h': 0.39}</td>\n",
       "    </tr>\n",
       "  </tbody>\n",
       "</table>\n",
       "</div>"
      ],
      "text/plain": [
       "           dt   temp  feels_like  pressure  humidity  dew_point   uvi  clouds  \\\n",
       "0  1631689200  32.75       39.75      1010        68      26.06  5.67      88   \n",
       "1  1631692800  32.37       39.37      1010        69      25.95  2.88      82   \n",
       "2  1631696400  31.72       38.72      1010        70      25.57  0.94      72   \n",
       "3  1631700000  30.78       37.78      1009        74      25.61  0.15      71   \n",
       "4  1631703600  29.66       35.87      1009        77      25.19  0.00      71   \n",
       "\n",
       "   visibility  wind_speed  wind_deg  wind_gust  \\\n",
       "0       10000        4.63       245       4.68   \n",
       "1       10000        4.97       242       5.13   \n",
       "2       10000        5.27       244       5.79   \n",
       "3       10000        5.02       246       6.54   \n",
       "4       10000        4.16       242       5.39   \n",
       "\n",
       "                                             weather   pop          rain  \n",
       "0  [{'id': 500, 'main': 'Rain', 'description': 'l...  0.32  {'1h': 0.25}  \n",
       "1  [{'id': 803, 'main': 'Clouds', 'description': ...  0.16           NaN  \n",
       "2  [{'id': 803, 'main': 'Clouds', 'description': ...  0.36           NaN  \n",
       "3  [{'id': 500, 'main': 'Rain', 'description': 'l...  0.64  {'1h': 0.39}  \n",
       "4  [{'id': 500, 'main': 'Rain', 'description': 'l...  0.67  {'1h': 0.39}  "
      ]
     },
     "execution_count": 10,
     "metadata": {},
     "output_type": "execute_result"
    }
   ],
   "source": [
    "df_hourly.head()"
   ]
  },
  {
   "cell_type": "code",
   "execution_count": null,
   "metadata": {},
   "outputs": [],
   "source": []
  }
 ],
 "metadata": {
  "interpreter": {
   "hash": "c1b4cfe941b6d2466ad1fb5979e97da9cda8801728c8091b097ab734208fc00c"
  },
  "kernelspec": {
   "display_name": "Python 3.8.3 64-bit ('base': conda)",
   "name": "python3"
  },
  "language_info": {
   "codemirror_mode": {
    "name": "ipython",
    "version": 3
   },
   "file_extension": ".py",
   "mimetype": "text/x-python",
   "name": "python",
   "nbconvert_exporter": "python",
   "pygments_lexer": "ipython3",
   "version": "3.8.11"
  }
 },
 "nbformat": 4,
 "nbformat_minor": 2
}
