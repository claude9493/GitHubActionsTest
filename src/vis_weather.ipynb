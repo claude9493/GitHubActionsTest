{
 "cells": [
  {
   "cell_type": "code",
   "execution_count": 1,
   "metadata": {
    "execution": {
     "iopub.execute_input": "2021-09-28T03:12:27.472942Z",
     "iopub.status.busy": "2021-09-28T03:12:27.471174Z",
     "iopub.status.idle": "2021-09-28T03:12:30.491314Z",
     "shell.execute_reply": "2021-09-28T03:12:30.490549Z"
    }
   },
   "outputs": [],
   "source": [
    "import json, yaml, requests\r\n",
    "from datetime import datetime\r\n",
    "from dateutil import tz\r\n",
    "import pandas as pd\r\n",
    "from PIL import Image\r\n",
    "from io import BytesIO\r\n",
    "import matplotlib.pyplot as plt\r\n",
    "import seaborn\r\n",
    "\r\n",
    "CONFIG_PATH = \"../config/config.yaml\""
   ]
  },
  {
   "cell_type": "code",
   "execution_count": 2,
   "metadata": {
    "execution": {
     "iopub.execute_input": "2021-09-28T03:12:30.498863Z",
     "iopub.status.busy": "2021-09-28T03:12:30.498035Z",
     "iopub.status.idle": "2021-09-28T03:12:30.505230Z",
     "shell.execute_reply": "2021-09-28T03:12:30.504522Z"
    }
   },
   "outputs": [],
   "source": [
    "with open('../newest_ts', 'r') as f:\r\n",
    "    newest_ts = f.read()\r\n",
    "\r\n",
    "data_path = f\"../data/data_{newest_ts}.json\"\r\n",
    "with open(data_path, 'r') as f:\r\n",
    "    data = json.load(f)\r\n",
    "\r\n",
    "with open(CONFIG_PATH, \"r\") as stream:\r\n",
    "    config = yaml.safe_load(stream)\r\n",
    "\r\n",
    "TIME_ZONE = config['time_zone']\r\n",
    "DATETIME_FORMAT = config['dt_format']"
   ]
  },
  {
   "cell_type": "code",
   "execution_count": 3,
   "metadata": {
    "execution": {
     "iopub.execute_input": "2021-09-28T03:12:30.511310Z",
     "iopub.status.busy": "2021-09-28T03:12:30.510598Z",
     "iopub.status.idle": "2021-09-28T03:12:30.522808Z",
     "shell.execute_reply": "2021-09-28T03:12:30.523454Z"
    }
   },
   "outputs": [
    {
     "name": "stdout",
     "output_type": "stream",
     "text": [
      "Recent query happens at 2021-09-28 11:12:24 (CST).\n"
     ]
    }
   ],
   "source": [
    "def ts2dt(ts, format=DATETIME_FORMAT):\r\n",
    "    dt = (datetime.utcfromtimestamp(int(ts))\r\n",
    "                    .replace(tzinfo=tz.tzutc())\r\n",
    "                    # .astimezone(tz.tzlocal())\r\n",
    "                    .astimezone(tz.gettz(TIME_ZONE)))\r\n",
    "    return dt.strftime(format), dt\r\n",
    "\r\n",
    "_, newest_dt = ts2dt(newest_ts)\r\n",
    "print(f\"Recent query happens at {newest_dt.strftime(DATETIME_FORMAT)} ({newest_dt.tzname()}).\")"
   ]
  },
  {
   "cell_type": "code",
   "execution_count": 4,
   "metadata": {
    "execution": {
     "iopub.execute_input": "2021-09-28T03:12:30.529910Z",
     "iopub.status.busy": "2021-09-28T03:12:30.528274Z",
     "iopub.status.idle": "2021-09-28T03:12:30.530627Z",
     "shell.execute_reply": "2021-09-28T03:12:30.531112Z"
    }
   },
   "outputs": [],
   "source": [
    "def degrees_to_cardinal(d):\r\n",
    "  dirs = ['N', 'NNE', 'NE', 'ENE', 'E', 'ESE', 'SE', 'SSE', 'S', 'SSW', 'SW', 'WSW', 'W', 'WNW', 'NW', 'NNW']\r\n",
    "  ix = int(round(d / (360. / len(dirs))))\r\n",
    "  return dirs[ix % len(dirs)]"
   ]
  },
  {
   "cell_type": "code",
   "execution_count": 5,
   "metadata": {
    "execution": {
     "iopub.execute_input": "2021-09-28T03:12:30.535578Z",
     "iopub.status.busy": "2021-09-28T03:12:30.534869Z",
     "iopub.status.idle": "2021-09-28T03:12:30.539953Z",
     "shell.execute_reply": "2021-09-28T03:12:30.540462Z"
    }
   },
   "outputs": [],
   "source": [
    "# data.keys()"
   ]
  },
  {
   "cell_type": "code",
   "execution_count": 6,
   "metadata": {
    "execution": {
     "iopub.execute_input": "2021-09-28T03:12:30.546317Z",
     "iopub.status.busy": "2021-09-28T03:12:30.544557Z",
     "iopub.status.idle": "2021-09-28T03:12:30.547183Z",
     "shell.execute_reply": "2021-09-28T03:12:30.547710Z"
    }
   },
   "outputs": [],
   "source": [
    "# data['current']"
   ]
  },
  {
   "cell_type": "code",
   "execution_count": 7,
   "metadata": {
    "execution": {
     "iopub.execute_input": "2021-09-28T03:12:30.571696Z",
     "iopub.status.busy": "2021-09-28T03:12:30.570853Z",
     "iopub.status.idle": "2021-09-28T03:12:30.874605Z",
     "shell.execute_reply": "2021-09-28T03:12:30.875455Z"
    }
   },
   "outputs": [
    {
     "data": {
      "image/png": "[encoded data removed]",
      "text/plain": [
       "<Figure size 216x216 with 1 Axes>"
      ]
     },
     "metadata": {
      "needs_background": "light"
     },
     "output_type": "display_data"
    },
    {
     "name": "stdout",
     "output_type": "stream",
     "text": [
      "Today, sun rises at 06:13 and sets at 18:13.\n",
      "Currently, the weather is Clear (clear sky).\n",
      "The temperature is 30.94°C and it feels like 37.94°C.\n",
      "The UV index is 8.28, humidity is 75%.\n",
      "The pressure is 1010 hPa, percentage of cloud cover is 8%\n",
      "The wind comes from S direction with a speed 1.34 m/s.\n"
     ]
    }
   ],
   "source": [
    "current = data['current']\r\n",
    "\r\n",
    "fig, ax = plt.subplots(figsize=(3, 3))\r\n",
    "icon = requests.get(f\"http://openweathermap.org/img/wn/{current['weather'][0]['icon']}@2x.png\")\r\n",
    "im = Image.open(BytesIO(icon.content))\r\n",
    "plt.imshow(im)\r\n",
    "ax.set_axis_off()\r\n",
    "plt.show()\r\n",
    "\r\n",
    "print(f\"Today, sun rises at {ts2dt(current['sunrise'], '%H:%M')[0]} \\\r\n",
    "and sets at {ts2dt(current['sunset'], '%H:%M')[0]}.\\n\\\r\n",
    "Currently, the weather is {current['weather'][0]['main']} ({current['weather'][0]['description']}).\\n\\\r\n",
    "The temperature is {current['temp']}°C and it feels like {current['feels_like']}°C.\\n\\\r\n",
    "The UV index is {current['uvi']}, humidity is {current['humidity']}%.\\n\\\r\n",
    "The pressure is {current['pressure']} hPa, percentage of cloud cover is {current['clouds']}%\\n\\\r\n",
    "The wind comes from {degrees_to_cardinal(current['wind_deg'])} direction with a speed {current['wind_speed']} m/s.\")"
   ]
  },
  {
   "cell_type": "code",
   "execution_count": 8,
   "metadata": {
    "execution": {
     "iopub.execute_input": "2021-09-28T03:12:30.879885Z",
     "iopub.status.busy": "2021-09-28T03:12:30.878607Z",
     "iopub.status.idle": "2021-09-28T03:12:30.888400Z",
     "shell.execute_reply": "2021-09-28T03:12:30.889274Z"
    }
   },
   "outputs": [],
   "source": [
    "df_hourly = pd.DataFrame(data['hourly'])\r\n",
    "df_daily = pd.DataFrame(data['daily'])"
   ]
  },
  {
   "cell_type": "code",
   "execution_count": 9,
   "metadata": {
    "execution": {
     "iopub.execute_input": "2021-09-28T03:12:30.893569Z",
     "iopub.status.busy": "2021-09-28T03:12:30.892021Z",
     "iopub.status.idle": "2021-09-28T03:12:31.268780Z",
     "shell.execute_reply": "2021-09-28T03:12:31.268162Z"
    }
   },
   "outputs": [
    {
     "data": {
      "image/png": "[encoded data removed]",
      "text/plain": [
       "<Figure size 864x432 with 1 Axes>"
      ]
     },
     "metadata": {
      "needs_background": "light"
     },
     "output_type": "display_data"
    }
   ],
   "source": [
    "fig, ax = plt.subplots(figsize=(12, 6))\r\n",
    "plt.plot(df_hourly.temp, '.-', label='Temperature')\r\n",
    "plt.plot(df_hourly.feels_like, '.-', label='Feels Like')\r\n",
    "ax.set(title='Temperature in future 48 hours', xlabel='Time', ylabel='Temperature')\r\n",
    "ax.set_xticks(list(range(0, len(df_hourly), 2)))\r\n",
    "ax.set_xticklabels([ts2dt(ts, '%m-%d %H:%M')[0] for i, ts in enumerate(df_hourly.dt) if i%2==0], \r\n",
    "                   rotation=45, ha=\"right\")\r\n",
    "ax.locator_params(nbins=15, axis='y')\r\n",
    "plt.legend()\r\n",
    "plt.show()"
   ]
  },
  {
   "cell_type": "code",
   "execution_count": 10,
   "metadata": {
    "execution": {
     "iopub.execute_input": "2021-09-28T03:12:31.283522Z",
     "iopub.status.busy": "2021-09-28T03:12:31.273631Z",
     "iopub.status.idle": "2021-09-28T03:12:31.297796Z",
     "shell.execute_reply": "2021-09-28T03:12:31.298328Z"
    }
   },
   "outputs": [
    {
     "data": {
      "text/html": [
       "<div>\n",
       "<style scoped>\n",
       "    .dataframe tbody tr th:only-of-type {\n",
       "        vertical-align: middle;\n",
       "    }\n",
       "\n",
       "    .dataframe tbody tr th {\n",
       "        vertical-align: top;\n",
       "    }\n",
       "\n",
       "    .dataframe thead th {\n",
       "        text-align: right;\n",
       "    }\n",
       "</style>\n",
       "<table border=\"1\" class=\"dataframe\">\n",
       "  <thead>\n",
       "    <tr style=\"text-align: right;\">\n",
       "      <th></th>\n",
       "      <th>dt</th>\n",
       "      <th>temp</th>\n",
       "      <th>feels_like</th>\n",
       "      <th>pressure</th>\n",
       "      <th>humidity</th>\n",
       "      <th>dew_point</th>\n",
       "      <th>uvi</th>\n",
       "      <th>clouds</th>\n",
       "      <th>visibility</th>\n",
       "      <th>wind_speed</th>\n",
       "      <th>wind_deg</th>\n",
       "      <th>wind_gust</th>\n",
       "      <th>weather</th>\n",
       "      <th>pop</th>\n",
       "      <th>rain</th>\n",
       "    </tr>\n",
       "  </thead>\n",
       "  <tbody>\n",
       "    <tr>\n",
       "      <th>0</th>\n",
       "      <td>1632798000</td>\n",
       "      <td>30.94</td>\n",
       "      <td>37.94</td>\n",
       "      <td>1010</td>\n",
       "      <td>75</td>\n",
       "      <td>25.99</td>\n",
       "      <td>8.28</td>\n",
       "      <td>8</td>\n",
       "      <td>10000</td>\n",
       "      <td>2.95</td>\n",
       "      <td>105</td>\n",
       "      <td>2.47</td>\n",
       "      <td>[{'id': 800, 'main': 'Clear', 'description': '...</td>\n",
       "      <td>0.0</td>\n",
       "      <td>NaN</td>\n",
       "    </tr>\n",
       "    <tr>\n",
       "      <th>1</th>\n",
       "      <td>1632801600</td>\n",
       "      <td>30.74</td>\n",
       "      <td>37.74</td>\n",
       "      <td>1010</td>\n",
       "      <td>73</td>\n",
       "      <td>25.34</td>\n",
       "      <td>9.47</td>\n",
       "      <td>9</td>\n",
       "      <td>10000</td>\n",
       "      <td>3.07</td>\n",
       "      <td>113</td>\n",
       "      <td>2.69</td>\n",
       "      <td>[{'id': 500, 'main': 'Rain', 'description': 'l...</td>\n",
       "      <td>0.2</td>\n",
       "      <td>{'1h': 0.1}</td>\n",
       "    </tr>\n",
       "    <tr>\n",
       "      <th>2</th>\n",
       "      <td>1632805200</td>\n",
       "      <td>30.50</td>\n",
       "      <td>36.56</td>\n",
       "      <td>1010</td>\n",
       "      <td>71</td>\n",
       "      <td>24.64</td>\n",
       "      <td>9.30</td>\n",
       "      <td>13</td>\n",
       "      <td>10000</td>\n",
       "      <td>2.99</td>\n",
       "      <td>120</td>\n",
       "      <td>2.59</td>\n",
       "      <td>[{'id': 500, 'main': 'Rain', 'description': 'l...</td>\n",
       "      <td>0.2</td>\n",
       "      <td>{'1h': 0.12}</td>\n",
       "    </tr>\n",
       "    <tr>\n",
       "      <th>3</th>\n",
       "      <td>1632808800</td>\n",
       "      <td>30.35</td>\n",
       "      <td>35.91</td>\n",
       "      <td>1009</td>\n",
       "      <td>70</td>\n",
       "      <td>24.26</td>\n",
       "      <td>7.59</td>\n",
       "      <td>15</td>\n",
       "      <td>10000</td>\n",
       "      <td>2.82</td>\n",
       "      <td>132</td>\n",
       "      <td>2.66</td>\n",
       "      <td>[{'id': 801, 'main': 'Clouds', 'description': ...</td>\n",
       "      <td>0.0</td>\n",
       "      <td>NaN</td>\n",
       "    </tr>\n",
       "    <tr>\n",
       "      <th>4</th>\n",
       "      <td>1632812400</td>\n",
       "      <td>30.11</td>\n",
       "      <td>34.82</td>\n",
       "      <td>1008</td>\n",
       "      <td>68</td>\n",
       "      <td>23.55</td>\n",
       "      <td>4.98</td>\n",
       "      <td>13</td>\n",
       "      <td>10000</td>\n",
       "      <td>2.95</td>\n",
       "      <td>143</td>\n",
       "      <td>2.45</td>\n",
       "      <td>[{'id': 801, 'main': 'Clouds', 'description': ...</td>\n",
       "      <td>0.0</td>\n",
       "      <td>NaN</td>\n",
       "    </tr>\n",
       "  </tbody>\n",
       "</table>\n",
       "</div>"
      ],
      "text/plain": [
       "           dt   temp  feels_like  pressure  humidity  dew_point   uvi  clouds  \\\n",
       "0  1632798000  30.94       37.94      1010        75      25.99  8.28       8   \n",
       "1  1632801600  30.74       37.74      1010        73      25.34  9.47       9   \n",
       "2  1632805200  30.50       36.56      1010        71      24.64  9.30      13   \n",
       "3  1632808800  30.35       35.91      1009        70      24.26  7.59      15   \n",
       "4  1632812400  30.11       34.82      1008        68      23.55  4.98      13   \n",
       "\n",
       "   visibility  wind_speed  wind_deg  wind_gust  \\\n",
       "0       10000        2.95       105       2.47   \n",
       "1       10000        3.07       113       2.69   \n",
       "2       10000        2.99       120       2.59   \n",
       "3       10000        2.82       132       2.66   \n",
       "4       10000        2.95       143       2.45   \n",
       "\n",
       "                                             weather  pop          rain  \n",
       "0  [{'id': 800, 'main': 'Clear', 'description': '...  0.0           NaN  \n",
       "1  [{'id': 500, 'main': 'Rain', 'description': 'l...  0.2   {'1h': 0.1}  \n",
       "2  [{'id': 500, 'main': 'Rain', 'description': 'l...  0.2  {'1h': 0.12}  \n",
       "3  [{'id': 801, 'main': 'Clouds', 'description': ...  0.0           NaN  \n",
       "4  [{'id': 801, 'main': 'Clouds', 'description': ...  0.0           NaN  "
      ]
     },
     "execution_count": 10,
     "metadata": {},
     "output_type": "execute_result"
    }
   ],
   "source": [
    "df_hourly.head()"
   ]
  },
  {
   "cell_type": "code",
   "execution_count": null,
   "metadata": {},
   "outputs": [],
   "source": []
  }
 ],
 "metadata": {
  "interpreter": {
   "hash": "c1b4cfe941b6d2466ad1fb5979e97da9cda8801728c8091b097ab734208fc00c"
  },
  "kernelspec": {
   "display_name": "Python 3.8.3 64-bit ('base': conda)",
   "name": "python3"
  },
  "language_info": {
   "codemirror_mode": {
    "name": "ipython",
    "version": 3
   },
   "file_extension": ".py",
   "mimetype": "text/x-python",
   "name": "python",
   "nbconvert_exporter": "python",
   "pygments_lexer": "ipython3",
   "version": "3.8.12"
  }
 },
 "nbformat": 4,
 "nbformat_minor": 2
}
