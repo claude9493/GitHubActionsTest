{
 "cells": [
  {
   "cell_type": "code",
   "execution_count": 1,
   "metadata": {
    "execution": {
     "iopub.execute_input": "2021-09-12T22:14:41.796009Z",
     "iopub.status.busy": "2021-09-12T22:14:41.795344Z",
     "iopub.status.idle": "2021-09-12T22:14:45.467201Z",
     "shell.execute_reply": "2021-09-12T22:14:45.466624Z"
    }
   },
   "outputs": [],
   "source": [
    "import json, yaml, requests\r\n",
    "from datetime import datetime\r\n",
    "from dateutil import tz\r\n",
    "import pandas as pd\r\n",
    "from PIL import Image\r\n",
    "from io import BytesIO\r\n",
    "import matplotlib.pyplot as plt\r\n",
    "import seaborn\r\n",
    "\r\n",
    "CONFIG_PATH = \"../config/config.yaml\""
   ]
  },
  {
   "cell_type": "code",
   "execution_count": 2,
   "metadata": {
    "execution": {
     "iopub.execute_input": "2021-09-12T22:14:45.472702Z",
     "iopub.status.busy": "2021-09-12T22:14:45.471765Z",
     "iopub.status.idle": "2021-09-12T22:14:45.478232Z",
     "shell.execute_reply": "2021-09-12T22:14:45.477627Z"
    }
   },
   "outputs": [],
   "source": [
    "with open('../newest_ts', 'r') as f:\r\n",
    "    newest_ts = f.read()\r\n",
    "\r\n",
    "data_path = f\"../data/data_{newest_ts}.json\"\r\n",
    "with open(data_path, 'r') as f:\r\n",
    "    data = json.load(f)\r\n",
    "\r\n",
    "with open(CONFIG_PATH, \"r\") as stream:\r\n",
    "    config = yaml.safe_load(stream)\r\n",
    "\r\n",
    "TIME_ZONE = config['time_zone']\r\n",
    "DATETIME_FORMAT = config['dt_format']"
   ]
  },
  {
   "cell_type": "code",
   "execution_count": 3,
   "metadata": {
    "execution": {
     "iopub.execute_input": "2021-09-12T22:14:45.482600Z",
     "iopub.status.busy": "2021-09-12T22:14:45.482120Z",
     "iopub.status.idle": "2021-09-12T22:14:45.486147Z",
     "shell.execute_reply": "2021-09-12T22:14:45.486498Z"
    }
   },
   "outputs": [
    {
     "name": "stdout",
     "output_type": "stream",
     "text": [
      "Recent query happens at 2021-09-13 06:14:38 (CST).\n"
     ]
    }
   ],
   "source": [
    "def ts2dt(ts, format=DATETIME_FORMAT):\r\n",
    "    dt = (datetime.utcfromtimestamp(int(ts))\r\n",
    "                    .replace(tzinfo=tz.tzutc())\r\n",
    "                    # .astimezone(tz.tzlocal())\r\n",
    "                    .astimezone(tz.gettz(TIME_ZONE)))\r\n",
    "    return dt.strftime(format), dt\r\n",
    "\r\n",
    "_, newest_dt = ts2dt(newest_ts)\r\n",
    "print(f\"Recent query happens at {newest_dt.strftime(DATETIME_FORMAT)} ({newest_dt.tzname()}).\")"
   ]
  },
  {
   "cell_type": "code",
   "execution_count": 4,
   "metadata": {
    "execution": {
     "iopub.execute_input": "2021-09-12T22:14:45.490303Z",
     "iopub.status.busy": "2021-09-12T22:14:45.489857Z",
     "iopub.status.idle": "2021-09-12T22:14:45.492953Z",
     "shell.execute_reply": "2021-09-12T22:14:45.492567Z"
    }
   },
   "outputs": [],
   "source": [
    "def degrees_to_cardinal(d):\r\n",
    "  dirs = ['N', 'NNE', 'NE', 'ENE', 'E', 'ESE', 'SE', 'SSE', 'S', 'SSW', 'SW', 'WSW', 'W', 'WNW', 'NW', 'NNW']\r\n",
    "  ix = int(round(d / (360. / len(dirs))))\r\n",
    "  return dirs[ix % len(dirs)]"
   ]
  },
  {
   "cell_type": "code",
   "execution_count": 5,
   "metadata": {
    "execution": {
     "iopub.execute_input": "2021-09-12T22:14:45.496134Z",
     "iopub.status.busy": "2021-09-12T22:14:45.495677Z",
     "iopub.status.idle": "2021-09-12T22:14:45.498061Z",
     "shell.execute_reply": "2021-09-12T22:14:45.498400Z"
    }
   },
   "outputs": [],
   "source": [
    "# data.keys()"
   ]
  },
  {
   "cell_type": "code",
   "execution_count": 6,
   "metadata": {
    "execution": {
     "iopub.execute_input": "2021-09-12T22:14:45.501204Z",
     "iopub.status.busy": "2021-09-12T22:14:45.500767Z",
     "iopub.status.idle": "2021-09-12T22:14:45.503251Z",
     "shell.execute_reply": "2021-09-12T22:14:45.503591Z"
    }
   },
   "outputs": [],
   "source": [
    "# data['current']"
   ]
  },
  {
   "cell_type": "code",
   "execution_count": 7,
   "metadata": {
    "execution": {
     "iopub.execute_input": "2021-09-12T22:14:45.519851Z",
     "iopub.status.busy": "2021-09-12T22:14:45.519382Z",
     "iopub.status.idle": "2021-09-12T22:14:45.817576Z",
     "shell.execute_reply": "2021-09-12T22:14:45.818228Z"
    }
   },
   "outputs": [
    {
     "data": {
      "image/png": "[encoded data removed]",
      "text/plain": [
       "<Figure size 216x216 with 1 Axes>"
      ]
     },
     "metadata": {
      "needs_background": "light"
     },
     "output_type": "display_data"
    },
    {
     "name": "stdout",
     "output_type": "stream",
     "text": [
      "Today, sun rises at 06:09 and sets at 18:29.\n",
      "Currently, the weather is Clouds (broken clouds).\n",
      "The temperature is 29.95°C and it feels like 36.95°C.\n",
      "The UV index is 0, humidity is 86%.\n",
      "The pressure is 1004 hPa, percentage of cloud cover is 69%\n",
      "The wind comes from WSW direction with a speed 2.19 m/s.\n"
     ]
    }
   ],
   "source": [
    "current = data['current']\r\n",
    "\r\n",
    "fig, ax = plt.subplots(figsize=(3, 3))\r\n",
    "icon = requests.get(f\"http://openweathermap.org/img/wn/{current['weather'][0]['icon']}@2x.png\")\r\n",
    "im = Image.open(BytesIO(icon.content))\r\n",
    "plt.imshow(im)\r\n",
    "ax.set_axis_off()\r\n",
    "plt.show()\r\n",
    "\r\n",
    "print(f\"Today, sun rises at {ts2dt(current['sunrise'], '%H:%M')[0]} \\\r\n",
    "and sets at {ts2dt(current['sunset'], '%H:%M')[0]}.\\n\\\r\n",
    "Currently, the weather is {current['weather'][0]['main']} ({current['weather'][0]['description']}).\\n\\\r\n",
    "The temperature is {current['temp']}°C and it feels like {current['feels_like']}°C.\\n\\\r\n",
    "The UV index is {current['uvi']}, humidity is {current['humidity']}%.\\n\\\r\n",
    "The pressure is {current['pressure']} hPa, percentage of cloud cover is {current['clouds']}%\\n\\\r\n",
    "The wind comes from {degrees_to_cardinal(current['wind_deg'])} direction with a speed {current['wind_speed']} m/s.\")"
   ]
  },
  {
   "cell_type": "code",
   "execution_count": 8,
   "metadata": {
    "execution": {
     "iopub.execute_input": "2021-09-12T22:14:45.821338Z",
     "iopub.status.busy": "2021-09-12T22:14:45.820439Z",
     "iopub.status.idle": "2021-09-12T22:14:45.827093Z",
     "shell.execute_reply": "2021-09-12T22:14:45.827720Z"
    }
   },
   "outputs": [],
   "source": [
    "df_hourly = pd.DataFrame(data['hourly'])\r\n",
    "df_daily = pd.DataFrame(data['daily'])"
   ]
  },
  {
   "cell_type": "code",
   "execution_count": 9,
   "metadata": {
    "execution": {
     "iopub.execute_input": "2021-09-12T22:14:45.830653Z",
     "iopub.status.busy": "2021-09-12T22:14:45.829761Z",
     "iopub.status.idle": "2021-09-12T22:14:46.079653Z",
     "shell.execute_reply": "2021-09-12T22:14:46.075217Z"
    }
   },
   "outputs": [
    {
     "data": {
      "image/png": "[encoded data removed]",
      "text/plain": [
       "<Figure size 864x432 with 1 Axes>"
      ]
     },
     "metadata": {
      "needs_background": "light"
     },
     "output_type": "display_data"
    }
   ],
   "source": [
    "fig, ax = plt.subplots(figsize=(12, 6))\r\n",
    "plt.plot(df_hourly.temp, '.-', label='Temperature')\r\n",
    "plt.plot(df_hourly.feels_like, '.-', label='Feels Like')\r\n",
    "ax.set(title='Temperature in future 48 hours', xlabel='Time', ylabel='Temperature')\r\n",
    "ax.set_xticks(list(range(0, len(df_hourly), 2)))\r\n",
    "ax.set_xticklabels([ts2dt(ts, '%m-%d %H:%M')[0] for i, ts in enumerate(df_hourly.dt) if i%2==0], \r\n",
    "                   rotation=45, ha=\"right\")\r\n",
    "ax.locator_params(nbins=15, axis='y')\r\n",
    "plt.legend()\r\n",
    "plt.show()"
   ]
  },
  {
   "cell_type": "code",
   "execution_count": 10,
   "metadata": {
    "execution": {
     "iopub.execute_input": "2021-09-12T22:14:46.083970Z",
     "iopub.status.busy": "2021-09-12T22:14:46.083517Z",
     "iopub.status.idle": "2021-09-12T22:14:46.101607Z",
     "shell.execute_reply": "2021-09-12T22:14:46.101220Z"
    }
   },
   "outputs": [
    {
     "data": {
      "text/html": [
       "<div>\n",
       "<style scoped>\n",
       "    .dataframe tbody tr th:only-of-type {\n",
       "        vertical-align: middle;\n",
       "    }\n",
       "\n",
       "    .dataframe tbody tr th {\n",
       "        vertical-align: top;\n",
       "    }\n",
       "\n",
       "    .dataframe thead th {\n",
       "        text-align: right;\n",
       "    }\n",
       "</style>\n",
       "<table border=\"1\" class=\"dataframe\">\n",
       "  <thead>\n",
       "    <tr style=\"text-align: right;\">\n",
       "      <th></th>\n",
       "      <th>dt</th>\n",
       "      <th>temp</th>\n",
       "      <th>feels_like</th>\n",
       "      <th>pressure</th>\n",
       "      <th>humidity</th>\n",
       "      <th>dew_point</th>\n",
       "      <th>uvi</th>\n",
       "      <th>clouds</th>\n",
       "      <th>visibility</th>\n",
       "      <th>wind_speed</th>\n",
       "      <th>wind_deg</th>\n",
       "      <th>wind_gust</th>\n",
       "      <th>weather</th>\n",
       "      <th>pop</th>\n",
       "      <th>rain</th>\n",
       "    </tr>\n",
       "  </thead>\n",
       "  <tbody>\n",
       "    <tr>\n",
       "      <th>0</th>\n",
       "      <td>1631484000</td>\n",
       "      <td>29.95</td>\n",
       "      <td>36.95</td>\n",
       "      <td>1004</td>\n",
       "      <td>86</td>\n",
       "      <td>27.35</td>\n",
       "      <td>0.00</td>\n",
       "      <td>69</td>\n",
       "      <td>10000</td>\n",
       "      <td>2.19</td>\n",
       "      <td>249</td>\n",
       "      <td>2.72</td>\n",
       "      <td>[{'id': 803, 'main': 'Clouds', 'description': ...</td>\n",
       "      <td>0.90</td>\n",
       "      <td>NaN</td>\n",
       "    </tr>\n",
       "    <tr>\n",
       "      <th>1</th>\n",
       "      <td>1631487600</td>\n",
       "      <td>29.77</td>\n",
       "      <td>36.77</td>\n",
       "      <td>1004</td>\n",
       "      <td>84</td>\n",
       "      <td>26.77</td>\n",
       "      <td>0.25</td>\n",
       "      <td>67</td>\n",
       "      <td>10000</td>\n",
       "      <td>2.20</td>\n",
       "      <td>241</td>\n",
       "      <td>2.75</td>\n",
       "      <td>[{'id': 803, 'main': 'Clouds', 'description': ...</td>\n",
       "      <td>0.86</td>\n",
       "      <td>NaN</td>\n",
       "    </tr>\n",
       "    <tr>\n",
       "      <th>2</th>\n",
       "      <td>1631491200</td>\n",
       "      <td>29.85</td>\n",
       "      <td>36.85</td>\n",
       "      <td>1005</td>\n",
       "      <td>80</td>\n",
       "      <td>26.02</td>\n",
       "      <td>1.33</td>\n",
       "      <td>61</td>\n",
       "      <td>10000</td>\n",
       "      <td>2.36</td>\n",
       "      <td>233</td>\n",
       "      <td>3.06</td>\n",
       "      <td>[{'id': 803, 'main': 'Clouds', 'description': ...</td>\n",
       "      <td>0.71</td>\n",
       "      <td>NaN</td>\n",
       "    </tr>\n",
       "    <tr>\n",
       "      <th>3</th>\n",
       "      <td>1631494800</td>\n",
       "      <td>30.22</td>\n",
       "      <td>37.22</td>\n",
       "      <td>1005</td>\n",
       "      <td>77</td>\n",
       "      <td>25.74</td>\n",
       "      <td>3.50</td>\n",
       "      <td>34</td>\n",
       "      <td>10000</td>\n",
       "      <td>3.13</td>\n",
       "      <td>226</td>\n",
       "      <td>3.73</td>\n",
       "      <td>[{'id': 500, 'main': 'Rain', 'description': 'l...</td>\n",
       "      <td>0.88</td>\n",
       "      <td>{'1h': 0.27}</td>\n",
       "    </tr>\n",
       "    <tr>\n",
       "      <th>4</th>\n",
       "      <td>1631498400</td>\n",
       "      <td>30.57</td>\n",
       "      <td>37.31</td>\n",
       "      <td>1006</td>\n",
       "      <td>73</td>\n",
       "      <td>25.18</td>\n",
       "      <td>6.44</td>\n",
       "      <td>23</td>\n",
       "      <td>10000</td>\n",
       "      <td>3.26</td>\n",
       "      <td>226</td>\n",
       "      <td>3.72</td>\n",
       "      <td>[{'id': 500, 'main': 'Rain', 'description': 'l...</td>\n",
       "      <td>0.96</td>\n",
       "      <td>{'1h': 0.5}</td>\n",
       "    </tr>\n",
       "  </tbody>\n",
       "</table>\n",
       "</div>"
      ],
      "text/plain": [
       "           dt   temp  feels_like  pressure  humidity  dew_point   uvi  clouds  \\\n",
       "0  1631484000  29.95       36.95      1004        86      27.35  0.00      69   \n",
       "1  1631487600  29.77       36.77      1004        84      26.77  0.25      67   \n",
       "2  1631491200  29.85       36.85      1005        80      26.02  1.33      61   \n",
       "3  1631494800  30.22       37.22      1005        77      25.74  3.50      34   \n",
       "4  1631498400  30.57       37.31      1006        73      25.18  6.44      23   \n",
       "\n",
       "   visibility  wind_speed  wind_deg  wind_gust  \\\n",
       "0       10000        2.19       249       2.72   \n",
       "1       10000        2.20       241       2.75   \n",
       "2       10000        2.36       233       3.06   \n",
       "3       10000        3.13       226       3.73   \n",
       "4       10000        3.26       226       3.72   \n",
       "\n",
       "                                             weather   pop          rain  \n",
       "0  [{'id': 803, 'main': 'Clouds', 'description': ...  0.90           NaN  \n",
       "1  [{'id': 803, 'main': 'Clouds', 'description': ...  0.86           NaN  \n",
       "2  [{'id': 803, 'main': 'Clouds', 'description': ...  0.71           NaN  \n",
       "3  [{'id': 500, 'main': 'Rain', 'description': 'l...  0.88  {'1h': 0.27}  \n",
       "4  [{'id': 500, 'main': 'Rain', 'description': 'l...  0.96   {'1h': 0.5}  "
      ]
     },
     "execution_count": 10,
     "metadata": {},
     "output_type": "execute_result"
    }
   ],
   "source": [
    "df_hourly.head()"
   ]
  },
  {
   "cell_type": "code",
   "execution_count": null,
   "metadata": {},
   "outputs": [],
   "source": []
  }
 ],
 "metadata": {
  "interpreter": {
   "hash": "c1b4cfe941b6d2466ad1fb5979e97da9cda8801728c8091b097ab734208fc00c"
  },
  "kernelspec": {
   "display_name": "Python 3.8.3 64-bit ('base': conda)",
   "name": "python3"
  },
  "language_info": {
   "codemirror_mode": {
    "name": "ipython",
    "version": 3
   },
   "file_extension": ".py",
   "mimetype": "text/x-python",
   "name": "python",
   "nbconvert_exporter": "python",
   "pygments_lexer": "ipython3",
   "version": "3.8.11"
  }
 },
 "nbformat": 4,
 "nbformat_minor": 2
}
