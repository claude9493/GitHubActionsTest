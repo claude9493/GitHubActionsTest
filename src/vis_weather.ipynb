{
 "cells": [
  {
   "cell_type": "code",
   "execution_count": 1,
   "metadata": {
    "execution": {
     "iopub.execute_input": "2021-09-01T05:36:20.189694Z",
     "iopub.status.busy": "2021-09-01T05:36:20.189064Z",
     "iopub.status.idle": "2021-09-01T05:36:21.575963Z",
     "shell.execute_reply": "2021-09-01T05:36:21.575148Z"
    }
   },
   "outputs": [],
   "source": [
    "import json, yaml, requests\r\n",
    "from datetime import datetime\r\n",
    "from dateutil import tz\r\n",
    "import pandas as pd\r\n",
    "from PIL import Image\r\n",
    "from io import BytesIO\r\n",
    "import matplotlib.pyplot as plt\r\n",
    "import seaborn\r\n",
    "\r\n",
    "CONFIG_PATH = \"../config/config.yaml\""
   ]
  },
  {
   "cell_type": "code",
   "execution_count": 2,
   "metadata": {
    "execution": {
     "iopub.execute_input": "2021-09-01T05:36:21.582707Z",
     "iopub.status.busy": "2021-09-01T05:36:21.581483Z",
     "iopub.status.idle": "2021-09-01T05:36:21.587941Z",
     "shell.execute_reply": "2021-09-01T05:36:21.586927Z"
    }
   },
   "outputs": [],
   "source": [
    "with open('../newest_ts', 'r') as f:\r\n",
    "    newest_ts = f.read()\r\n",
    "\r\n",
    "data_path = f\"../data/data_{newest_ts}.json\"\r\n",
    "with open(data_path, 'r') as f:\r\n",
    "    data = json.load(f)\r\n",
    "\r\n",
    "with open(CONFIG_PATH, \"r\") as stream:\r\n",
    "    config = yaml.safe_load(stream)\r\n",
    "\r\n",
    "TIME_ZONE = config['time_zone']\r\n",
    "DATETIME_FORMAT = config['dt_format']"
   ]
  },
  {
   "cell_type": "code",
   "execution_count": 3,
   "metadata": {
    "execution": {
     "iopub.execute_input": "2021-09-01T05:36:21.594276Z",
     "iopub.status.busy": "2021-09-01T05:36:21.592830Z",
     "iopub.status.idle": "2021-09-01T05:36:21.599141Z",
     "shell.execute_reply": "2021-09-01T05:36:21.599628Z"
    }
   },
   "outputs": [
    {
     "name": "stdout",
     "output_type": "stream",
     "text": [
      "Recent query happens at 2021-09-01 13:36:17 (CST).\n"
     ]
    }
   ],
   "source": [
    "def ts2dt(ts, format=DATETIME_FORMAT):\r\n",
    "    dt = (datetime.utcfromtimestamp(int(ts))\r\n",
    "                    .replace(tzinfo=tz.tzutc())\r\n",
    "                    # .astimezone(tz.tzlocal())\r\n",
    "                    .astimezone(tz.gettz(TIME_ZONE)))\r\n",
    "    return dt.strftime(format), dt\r\n",
    "\r\n",
    "_, newest_dt = ts2dt(newest_ts)\r\n",
    "print(f\"Recent query happens at {newest_dt.strftime(DATETIME_FORMAT)} ({newest_dt.tzname()}).\")"
   ]
  },
  {
   "cell_type": "code",
   "execution_count": 4,
   "metadata": {
    "execution": {
     "iopub.execute_input": "2021-09-01T05:36:21.604974Z",
     "iopub.status.busy": "2021-09-01T05:36:21.604321Z",
     "iopub.status.idle": "2021-09-01T05:36:21.608396Z",
     "shell.execute_reply": "2021-09-01T05:36:21.607880Z"
    }
   },
   "outputs": [],
   "source": [
    "def degrees_to_cardinal(d):\r\n",
    "  dirs = ['N', 'NNE', 'NE', 'ENE', 'E', 'ESE', 'SE', 'SSE', 'S', 'SSW', 'SW', 'WSW', 'W', 'WNW', 'NW', 'NNW']\r\n",
    "  ix = int(round(d / (360. / len(dirs))))\r\n",
    "  return dirs[ix % len(dirs)]"
   ]
  },
  {
   "cell_type": "code",
   "execution_count": 5,
   "metadata": {
    "execution": {
     "iopub.execute_input": "2021-09-01T05:36:21.612797Z",
     "iopub.status.busy": "2021-09-01T05:36:21.612197Z",
     "iopub.status.idle": "2021-09-01T05:36:21.615644Z",
     "shell.execute_reply": "2021-09-01T05:36:21.616128Z"
    }
   },
   "outputs": [],
   "source": [
    "# data.keys()"
   ]
  },
  {
   "cell_type": "code",
   "execution_count": 6,
   "metadata": {
    "execution": {
     "iopub.execute_input": "2021-09-01T05:36:21.620232Z",
     "iopub.status.busy": "2021-09-01T05:36:21.619631Z",
     "iopub.status.idle": "2021-09-01T05:36:21.623750Z",
     "shell.execute_reply": "2021-09-01T05:36:21.623221Z"
    }
   },
   "outputs": [],
   "source": [
    "# data['current']"
   ]
  },
  {
   "cell_type": "code",
   "execution_count": 7,
   "metadata": {
    "execution": {
     "iopub.execute_input": "2021-09-01T05:36:21.630766Z",
     "iopub.status.busy": "2021-09-01T05:36:21.630125Z",
     "iopub.status.idle": "2021-09-01T05:36:22.066165Z",
     "shell.execute_reply": "2021-09-01T05:36:22.066740Z"
    }
   },
   "outputs": [
    {
     "data": {
      "image/png": "[encoded data removed]",
      "text/plain": [
       "<Figure size 216x216 with 1 Axes>"
      ]
     },
     "metadata": {
      "needs_background": "light"
     },
     "output_type": "display_data"
    },
    {
     "name": "stdout",
     "output_type": "stream",
     "text": [
      "Today, sun rises at 06:05 and sets at 18:40.\n",
      "Currently, the weather is Clouds (overcast clouds).\n",
      "The temperature is 30.64°C and it feels like 37.64°C.\n",
      "The UV index is 8.98, humidity is 79%.\n",
      "The pressure is 1009 hPa, percentage of cloud cover is 85%\n",
      "The wind comes from E direction with a speed 6.1 m/s.\n"
     ]
    }
   ],
   "source": [
    "current = data['current']\r\n",
    "\r\n",
    "fig, ax = plt.subplots(figsize=(3, 3))\r\n",
    "icon = requests.get(f\"http://openweathermap.org/img/wn/{current['weather'][0]['icon']}@2x.png\")\r\n",
    "im = Image.open(BytesIO(icon.content))\r\n",
    "plt.imshow(im)\r\n",
    "ax.set_axis_off()\r\n",
    "plt.show()\r\n",
    "\r\n",
    "print(f\"Today, sun rises at {ts2dt(current['sunrise'], '%H:%M')[0]} \\\r\n",
    "and sets at {ts2dt(current['sunset'], '%H:%M')[0]}.\\n\\\r\n",
    "Currently, the weather is {current['weather'][0]['main']} ({current['weather'][0]['description']}).\\n\\\r\n",
    "The temperature is {current['temp']}°C and it feels like {current['feels_like']}°C.\\n\\\r\n",
    "The UV index is {current['uvi']}, humidity is {current['humidity']}%.\\n\\\r\n",
    "The pressure is {current['pressure']} hPa, percentage of cloud cover is {current['clouds']}%\\n\\\r\n",
    "The wind comes from {degrees_to_cardinal(current['wind_deg'])} direction with a speed {current['wind_speed']} m/s.\")"
   ]
  },
  {
   "cell_type": "code",
   "execution_count": 8,
   "metadata": {
    "execution": {
     "iopub.execute_input": "2021-09-01T05:36:22.070223Z",
     "iopub.status.busy": "2021-09-01T05:36:22.069618Z",
     "iopub.status.idle": "2021-09-01T05:36:22.076481Z",
     "shell.execute_reply": "2021-09-01T05:36:22.077023Z"
    }
   },
   "outputs": [],
   "source": [
    "df_hourly = pd.DataFrame(data['hourly'])\r\n",
    "df_daily = pd.DataFrame(data['daily'])"
   ]
  },
  {
   "cell_type": "code",
   "execution_count": 9,
   "metadata": {
    "execution": {
     "iopub.execute_input": "2021-09-01T05:36:22.079549Z",
     "iopub.status.busy": "2021-09-01T05:36:22.079004Z",
     "iopub.status.idle": "2021-09-01T05:36:22.427848Z",
     "shell.execute_reply": "2021-09-01T05:36:22.427167Z"
    }
   },
   "outputs": [
    {
     "data": {
      "image/png": "[encoded data removed]",
      "text/plain": [
       "<Figure size 864x432 with 1 Axes>"
      ]
     },
     "metadata": {
      "needs_background": "light"
     },
     "output_type": "display_data"
    }
   ],
   "source": [
    "fig, ax = plt.subplots(figsize=(12, 6))\r\n",
    "plt.plot(df_hourly.temp, '.-', label='Temperature')\r\n",
    "plt.plot(df_hourly.feels_like, '.-', label='Feels Like')\r\n",
    "ax.set(title='Temperature in future 48 hours', xlabel='Time', ylabel='Temperature')\r\n",
    "ax.set_xticks(list(range(0, len(df_hourly), 2)))\r\n",
    "ax.set_xticklabels([ts2dt(ts, '%m-%d %H:%M')[0] for i, ts in enumerate(df_hourly.dt) if i%2==0], \r\n",
    "                   rotation=45, ha=\"right\")\r\n",
    "ax.locator_params(nbins=15, axis='y')\r\n",
    "plt.legend()\r\n",
    "plt.show()"
   ]
  },
  {
   "cell_type": "code",
   "execution_count": 10,
   "metadata": {
    "execution": {
     "iopub.execute_input": "2021-09-01T05:36:22.442319Z",
     "iopub.status.busy": "2021-09-01T05:36:22.432320Z",
     "iopub.status.idle": "2021-09-01T05:36:22.456191Z",
     "shell.execute_reply": "2021-09-01T05:36:22.455703Z"
    }
   },
   "outputs": [
    {
     "data": {
      "text/html": [
       "<div>\n",
       "<style scoped>\n",
       "    .dataframe tbody tr th:only-of-type {\n",
       "        vertical-align: middle;\n",
       "    }\n",
       "\n",
       "    .dataframe tbody tr th {\n",
       "        vertical-align: top;\n",
       "    }\n",
       "\n",
       "    .dataframe thead th {\n",
       "        text-align: right;\n",
       "    }\n",
       "</style>\n",
       "<table border=\"1\" class=\"dataframe\">\n",
       "  <thead>\n",
       "    <tr style=\"text-align: right;\">\n",
       "      <th></th>\n",
       "      <th>dt</th>\n",
       "      <th>temp</th>\n",
       "      <th>feels_like</th>\n",
       "      <th>pressure</th>\n",
       "      <th>humidity</th>\n",
       "      <th>dew_point</th>\n",
       "      <th>uvi</th>\n",
       "      <th>clouds</th>\n",
       "      <th>visibility</th>\n",
       "      <th>wind_speed</th>\n",
       "      <th>wind_deg</th>\n",
       "      <th>wind_gust</th>\n",
       "      <th>weather</th>\n",
       "      <th>pop</th>\n",
       "      <th>rain</th>\n",
       "    </tr>\n",
       "  </thead>\n",
       "  <tbody>\n",
       "    <tr>\n",
       "      <th>0</th>\n",
       "      <td>1630472400</td>\n",
       "      <td>30.42</td>\n",
       "      <td>37.42</td>\n",
       "      <td>1009</td>\n",
       "      <td>77</td>\n",
       "      <td>25.93</td>\n",
       "      <td>10.84</td>\n",
       "      <td>86</td>\n",
       "      <td>10000</td>\n",
       "      <td>6.19</td>\n",
       "      <td>90</td>\n",
       "      <td>7.15</td>\n",
       "      <td>[{'id': 500, 'main': 'Rain', 'description': 'l...</td>\n",
       "      <td>0.84</td>\n",
       "      <td>{'1h': 0.12}</td>\n",
       "    </tr>\n",
       "    <tr>\n",
       "      <th>1</th>\n",
       "      <td>1630476000</td>\n",
       "      <td>30.64</td>\n",
       "      <td>37.64</td>\n",
       "      <td>1009</td>\n",
       "      <td>79</td>\n",
       "      <td>26.58</td>\n",
       "      <td>8.98</td>\n",
       "      <td>85</td>\n",
       "      <td>10000</td>\n",
       "      <td>6.10</td>\n",
       "      <td>94</td>\n",
       "      <td>6.93</td>\n",
       "      <td>[{'id': 804, 'main': 'Clouds', 'description': ...</td>\n",
       "      <td>0.80</td>\n",
       "      <td>NaN</td>\n",
       "    </tr>\n",
       "    <tr>\n",
       "      <th>2</th>\n",
       "      <td>1630479600</td>\n",
       "      <td>30.40</td>\n",
       "      <td>37.40</td>\n",
       "      <td>1009</td>\n",
       "      <td>77</td>\n",
       "      <td>25.91</td>\n",
       "      <td>6.29</td>\n",
       "      <td>78</td>\n",
       "      <td>10000</td>\n",
       "      <td>6.26</td>\n",
       "      <td>96</td>\n",
       "      <td>7.13</td>\n",
       "      <td>[{'id': 803, 'main': 'Clouds', 'description': ...</td>\n",
       "      <td>0.43</td>\n",
       "      <td>NaN</td>\n",
       "    </tr>\n",
       "    <tr>\n",
       "      <th>3</th>\n",
       "      <td>1630483200</td>\n",
       "      <td>30.07</td>\n",
       "      <td>36.76</td>\n",
       "      <td>1009</td>\n",
       "      <td>76</td>\n",
       "      <td>25.37</td>\n",
       "      <td>3.31</td>\n",
       "      <td>71</td>\n",
       "      <td>10000</td>\n",
       "      <td>6.02</td>\n",
       "      <td>98</td>\n",
       "      <td>6.94</td>\n",
       "      <td>[{'id': 803, 'main': 'Clouds', 'description': ...</td>\n",
       "      <td>0.45</td>\n",
       "      <td>NaN</td>\n",
       "    </tr>\n",
       "    <tr>\n",
       "      <th>4</th>\n",
       "      <td>1630486800</td>\n",
       "      <td>29.61</td>\n",
       "      <td>35.49</td>\n",
       "      <td>1008</td>\n",
       "      <td>76</td>\n",
       "      <td>24.93</td>\n",
       "      <td>1.19</td>\n",
       "      <td>68</td>\n",
       "      <td>10000</td>\n",
       "      <td>5.72</td>\n",
       "      <td>98</td>\n",
       "      <td>6.85</td>\n",
       "      <td>[{'id': 803, 'main': 'Clouds', 'description': ...</td>\n",
       "      <td>0.44</td>\n",
       "      <td>NaN</td>\n",
       "    </tr>\n",
       "  </tbody>\n",
       "</table>\n",
       "</div>"
      ],
      "text/plain": [
       "           dt   temp  feels_like  pressure  humidity  dew_point    uvi  \\\n",
       "0  1630472400  30.42       37.42      1009        77      25.93  10.84   \n",
       "1  1630476000  30.64       37.64      1009        79      26.58   8.98   \n",
       "2  1630479600  30.40       37.40      1009        77      25.91   6.29   \n",
       "3  1630483200  30.07       36.76      1009        76      25.37   3.31   \n",
       "4  1630486800  29.61       35.49      1008        76      24.93   1.19   \n",
       "\n",
       "   clouds  visibility  wind_speed  wind_deg  wind_gust  \\\n",
       "0      86       10000        6.19        90       7.15   \n",
       "1      85       10000        6.10        94       6.93   \n",
       "2      78       10000        6.26        96       7.13   \n",
       "3      71       10000        6.02        98       6.94   \n",
       "4      68       10000        5.72        98       6.85   \n",
       "\n",
       "                                             weather   pop          rain  \n",
       "0  [{'id': 500, 'main': 'Rain', 'description': 'l...  0.84  {'1h': 0.12}  \n",
       "1  [{'id': 804, 'main': 'Clouds', 'description': ...  0.80           NaN  \n",
       "2  [{'id': 803, 'main': 'Clouds', 'description': ...  0.43           NaN  \n",
       "3  [{'id': 803, 'main': 'Clouds', 'description': ...  0.45           NaN  \n",
       "4  [{'id': 803, 'main': 'Clouds', 'description': ...  0.44           NaN  "
      ]
     },
     "execution_count": 10,
     "metadata": {},
     "output_type": "execute_result"
    }
   ],
   "source": [
    "df_hourly.head()"
   ]
  },
  {
   "cell_type": "code",
   "execution_count": null,
   "metadata": {},
   "outputs": [],
   "source": []
  }
 ],
 "metadata": {
  "interpreter": {
   "hash": "c1b4cfe941b6d2466ad1fb5979e97da9cda8801728c8091b097ab734208fc00c"
  },
  "kernelspec": {
   "display_name": "Python 3.8.3 64-bit ('base': conda)",
   "name": "python3"
  },
  "language_info": {
   "codemirror_mode": {
    "name": "ipython",
    "version": 3
   },
   "file_extension": ".py",
   "mimetype": "text/x-python",
   "name": "python",
   "nbconvert_exporter": "python",
   "pygments_lexer": "ipython3",
   "version": "3.8.11"
  }
 },
 "nbformat": 4,
 "nbformat_minor": 2
}
