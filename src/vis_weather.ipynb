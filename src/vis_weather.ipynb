{
 "cells": [
  {
   "cell_type": "code",
   "execution_count": 1,
   "metadata": {
    "execution": {
     "iopub.execute_input": "2021-10-01T02:02:37.253212Z",
     "iopub.status.busy": "2021-10-01T02:02:37.252570Z",
     "iopub.status.idle": "2021-10-01T02:02:42.962956Z",
     "shell.execute_reply": "2021-10-01T02:02:42.961887Z"
    }
   },
   "outputs": [],
   "source": [
    "import json, yaml, requests\r\n",
    "from datetime import datetime\r\n",
    "from dateutil import tz\r\n",
    "import pandas as pd\r\n",
    "from PIL import Image\r\n",
    "from io import BytesIO\r\n",
    "import matplotlib.pyplot as plt\r\n",
    "import seaborn\r\n",
    "\r\n",
    "CONFIG_PATH = \"../config/config.yaml\""
   ]
  },
  {
   "cell_type": "code",
   "execution_count": 2,
   "metadata": {
    "execution": {
     "iopub.execute_input": "2021-10-01T02:02:42.967827Z",
     "iopub.status.busy": "2021-10-01T02:02:42.965514Z",
     "iopub.status.idle": "2021-10-01T02:02:42.973489Z",
     "shell.execute_reply": "2021-10-01T02:02:42.973900Z"
    }
   },
   "outputs": [],
   "source": [
    "with open('../newest_ts', 'r') as f:\r\n",
    "    newest_ts = f.read()\r\n",
    "\r\n",
    "data_path = f\"../data/data_{newest_ts}.json\"\r\n",
    "with open(data_path, 'r') as f:\r\n",
    "    data = json.load(f)\r\n",
    "\r\n",
    "with open(CONFIG_PATH, \"r\") as stream:\r\n",
    "    config = yaml.safe_load(stream)\r\n",
    "\r\n",
    "TIME_ZONE = config['time_zone']\r\n",
    "DATETIME_FORMAT = config['dt_format']"
   ]
  },
  {
   "cell_type": "code",
   "execution_count": 3,
   "metadata": {
    "execution": {
     "iopub.execute_input": "2021-10-01T02:02:42.979019Z",
     "iopub.status.busy": "2021-10-01T02:02:42.978427Z",
     "iopub.status.idle": "2021-10-01T02:02:43.005140Z",
     "shell.execute_reply": "2021-10-01T02:02:43.005588Z"
    }
   },
   "outputs": [
    {
     "name": "stdout",
     "output_type": "stream",
     "text": [
      "Recent query happens at 2021-10-01 10:02:32 (CST).\n"
     ]
    }
   ],
   "source": [
    "def ts2dt(ts, format=DATETIME_FORMAT):\r\n",
    "    dt = (datetime.utcfromtimestamp(int(ts))\r\n",
    "                    .replace(tzinfo=tz.tzutc())\r\n",
    "                    # .astimezone(tz.tzlocal())\r\n",
    "                    .astimezone(tz.gettz(TIME_ZONE)))\r\n",
    "    return dt.strftime(format), dt\r\n",
    "\r\n",
    "_, newest_dt = ts2dt(newest_ts)\r\n",
    "print(f\"Recent query happens at {newest_dt.strftime(DATETIME_FORMAT)} ({newest_dt.tzname()}).\")"
   ]
  },
  {
   "cell_type": "code",
   "execution_count": 4,
   "metadata": {
    "execution": {
     "iopub.execute_input": "2021-10-01T02:02:43.011022Z",
     "iopub.status.busy": "2021-10-01T02:02:43.009951Z",
     "iopub.status.idle": "2021-10-01T02:02:43.014386Z",
     "shell.execute_reply": "2021-10-01T02:02:43.014952Z"
    }
   },
   "outputs": [],
   "source": [
    "def degrees_to_cardinal(d):\r\n",
    "  dirs = ['N', 'NNE', 'NE', 'ENE', 'E', 'ESE', 'SE', 'SSE', 'S', 'SSW', 'SW', 'WSW', 'W', 'WNW', 'NW', 'NNW']\r\n",
    "  ix = int(round(d / (360. / len(dirs))))\r\n",
    "  return dirs[ix % len(dirs)]"
   ]
  },
  {
   "cell_type": "code",
   "execution_count": 5,
   "metadata": {
    "execution": {
     "iopub.execute_input": "2021-10-01T02:02:43.020943Z",
     "iopub.status.busy": "2021-10-01T02:02:43.019509Z",
     "iopub.status.idle": "2021-10-01T02:02:43.021562Z",
     "shell.execute_reply": "2021-10-01T02:02:43.022111Z"
    }
   },
   "outputs": [],
   "source": [
    "# data.keys()"
   ]
  },
  {
   "cell_type": "code",
   "execution_count": 6,
   "metadata": {
    "execution": {
     "iopub.execute_input": "2021-10-01T02:02:43.026170Z",
     "iopub.status.busy": "2021-10-01T02:02:43.025422Z",
     "iopub.status.idle": "2021-10-01T02:02:43.028334Z",
     "shell.execute_reply": "2021-10-01T02:02:43.027584Z"
    }
   },
   "outputs": [],
   "source": [
    "# data['current']"
   ]
  },
  {
   "cell_type": "code",
   "execution_count": 7,
   "metadata": {
    "execution": {
     "iopub.execute_input": "2021-10-01T02:02:43.038363Z",
     "iopub.status.busy": "2021-10-01T02:02:43.037636Z",
     "iopub.status.idle": "2021-10-01T02:02:43.466503Z",
     "shell.execute_reply": "2021-10-01T02:02:43.467348Z"
    }
   },
   "outputs": [
    {
     "data": {
      "image/png": "[encoded data removed]",
      "text/plain": [
       "<Figure size 216x216 with 1 Axes>"
      ]
     },
     "metadata": {
      "needs_background": "light"
     },
     "output_type": "display_data"
    },
    {
     "name": "stdout",
     "output_type": "stream",
     "text": [
      "Today, sun rises at 06:14 and sets at 18:11.\n",
      "Currently, the weather is Clear (clear sky).\n",
      "The temperature is 30.86°C and it feels like 37.86°C.\n",
      "The UV index is 5.82, humidity is 84%.\n",
      "The pressure is 1010 hPa, percentage of cloud cover is 4%\n",
      "The wind comes from SW direction with a speed 3.07 m/s.\n"
     ]
    }
   ],
   "source": [
    "current = data['current']\r\n",
    "\r\n",
    "fig, ax = plt.subplots(figsize=(3, 3))\r\n",
    "icon = requests.get(f\"http://openweathermap.org/img/wn/{current['weather'][0]['icon']}@2x.png\")\r\n",
    "im = Image.open(BytesIO(icon.content))\r\n",
    "plt.imshow(im)\r\n",
    "ax.set_axis_off()\r\n",
    "plt.show()\r\n",
    "\r\n",
    "print(f\"Today, sun rises at {ts2dt(current['sunrise'], '%H:%M')[0]} \\\r\n",
    "and sets at {ts2dt(current['sunset'], '%H:%M')[0]}.\\n\\\r\n",
    "Currently, the weather is {current['weather'][0]['main']} ({current['weather'][0]['description']}).\\n\\\r\n",
    "The temperature is {current['temp']}°C and it feels like {current['feels_like']}°C.\\n\\\r\n",
    "The UV index is {current['uvi']}, humidity is {current['humidity']}%.\\n\\\r\n",
    "The pressure is {current['pressure']} hPa, percentage of cloud cover is {current['clouds']}%\\n\\\r\n",
    "The wind comes from {degrees_to_cardinal(current['wind_deg'])} direction with a speed {current['wind_speed']} m/s.\")"
   ]
  },
  {
   "cell_type": "code",
   "execution_count": 8,
   "metadata": {
    "execution": {
     "iopub.execute_input": "2021-10-01T02:02:43.471461Z",
     "iopub.status.busy": "2021-10-01T02:02:43.470198Z",
     "iopub.status.idle": "2021-10-01T02:02:43.479114Z",
     "shell.execute_reply": "2021-10-01T02:02:43.479868Z"
    }
   },
   "outputs": [],
   "source": [
    "df_hourly = pd.DataFrame(data['hourly'])\r\n",
    "df_daily = pd.DataFrame(data['daily'])"
   ]
  },
  {
   "cell_type": "code",
   "execution_count": 9,
   "metadata": {
    "execution": {
     "iopub.execute_input": "2021-10-01T02:02:43.483089Z",
     "iopub.status.busy": "2021-10-01T02:02:43.482519Z",
     "iopub.status.idle": "2021-10-01T02:02:43.826038Z",
     "shell.execute_reply": "2021-10-01T02:02:43.826454Z"
    }
   },
   "outputs": [
    {
     "data": {
      "image/png": "[encoded data removed]",
      "text/plain": [
       "<Figure size 864x432 with 1 Axes>"
      ]
     },
     "metadata": {
      "needs_background": "light"
     },
     "output_type": "display_data"
    }
   ],
   "source": [
    "fig, ax = plt.subplots(figsize=(12, 6))\r\n",
    "plt.plot(df_hourly.temp, '.-', label='Temperature')\r\n",
    "plt.plot(df_hourly.feels_like, '.-', label='Feels Like')\r\n",
    "ax.set(title='Temperature in future 48 hours', xlabel='Time', ylabel='Temperature')\r\n",
    "ax.set_xticks(list(range(0, len(df_hourly), 2)))\r\n",
    "ax.set_xticklabels([ts2dt(ts, '%m-%d %H:%M')[0] for i, ts in enumerate(df_hourly.dt) if i%2==0], \r\n",
    "                   rotation=45, ha=\"right\")\r\n",
    "ax.locator_params(nbins=15, axis='y')\r\n",
    "plt.legend()\r\n",
    "plt.show()"
   ]
  },
  {
   "cell_type": "code",
   "execution_count": 10,
   "metadata": {
    "execution": {
     "iopub.execute_input": "2021-10-01T02:02:43.831906Z",
     "iopub.status.busy": "2021-10-01T02:02:43.831305Z",
     "iopub.status.idle": "2021-10-01T02:02:43.851705Z",
     "shell.execute_reply": "2021-10-01T02:02:43.852201Z"
    }
   },
   "outputs": [
    {
     "data": {
      "text/html": [
       "<div>\n",
       "<style scoped>\n",
       "    .dataframe tbody tr th:only-of-type {\n",
       "        vertical-align: middle;\n",
       "    }\n",
       "\n",
       "    .dataframe tbody tr th {\n",
       "        vertical-align: top;\n",
       "    }\n",
       "\n",
       "    .dataframe thead th {\n",
       "        text-align: right;\n",
       "    }\n",
       "</style>\n",
       "<table border=\"1\" class=\"dataframe\">\n",
       "  <thead>\n",
       "    <tr style=\"text-align: right;\">\n",
       "      <th></th>\n",
       "      <th>dt</th>\n",
       "      <th>temp</th>\n",
       "      <th>feels_like</th>\n",
       "      <th>pressure</th>\n",
       "      <th>humidity</th>\n",
       "      <th>dew_point</th>\n",
       "      <th>uvi</th>\n",
       "      <th>clouds</th>\n",
       "      <th>visibility</th>\n",
       "      <th>wind_speed</th>\n",
       "      <th>wind_deg</th>\n",
       "      <th>wind_gust</th>\n",
       "      <th>weather</th>\n",
       "      <th>pop</th>\n",
       "      <th>rain</th>\n",
       "    </tr>\n",
       "  </thead>\n",
       "  <tbody>\n",
       "    <tr>\n",
       "      <th>0</th>\n",
       "      <td>1633053600</td>\n",
       "      <td>30.86</td>\n",
       "      <td>37.86</td>\n",
       "      <td>1010</td>\n",
       "      <td>84</td>\n",
       "      <td>27.84</td>\n",
       "      <td>5.82</td>\n",
       "      <td>4</td>\n",
       "      <td>10000</td>\n",
       "      <td>3.07</td>\n",
       "      <td>217</td>\n",
       "      <td>2.61</td>\n",
       "      <td>[{'id': 800, 'main': 'Clear', 'description': '...</td>\n",
       "      <td>0.33</td>\n",
       "      <td>NaN</td>\n",
       "    </tr>\n",
       "    <tr>\n",
       "      <th>1</th>\n",
       "      <td>1633057200</td>\n",
       "      <td>30.78</td>\n",
       "      <td>37.78</td>\n",
       "      <td>1010</td>\n",
       "      <td>81</td>\n",
       "      <td>27.14</td>\n",
       "      <td>8.49</td>\n",
       "      <td>5</td>\n",
       "      <td>10000</td>\n",
       "      <td>3.42</td>\n",
       "      <td>212</td>\n",
       "      <td>2.63</td>\n",
       "      <td>[{'id': 800, 'main': 'Clear', 'description': '...</td>\n",
       "      <td>0.27</td>\n",
       "      <td>NaN</td>\n",
       "    </tr>\n",
       "    <tr>\n",
       "      <th>2</th>\n",
       "      <td>1633060800</td>\n",
       "      <td>30.78</td>\n",
       "      <td>37.78</td>\n",
       "      <td>1010</td>\n",
       "      <td>77</td>\n",
       "      <td>26.28</td>\n",
       "      <td>9.58</td>\n",
       "      <td>10</td>\n",
       "      <td>10000</td>\n",
       "      <td>3.99</td>\n",
       "      <td>209</td>\n",
       "      <td>3.13</td>\n",
       "      <td>[{'id': 800, 'main': 'Clear', 'description': '...</td>\n",
       "      <td>0.22</td>\n",
       "      <td>NaN</td>\n",
       "    </tr>\n",
       "    <tr>\n",
       "      <th>3</th>\n",
       "      <td>1633064400</td>\n",
       "      <td>30.64</td>\n",
       "      <td>37.64</td>\n",
       "      <td>1009</td>\n",
       "      <td>75</td>\n",
       "      <td>25.70</td>\n",
       "      <td>9.40</td>\n",
       "      <td>16</td>\n",
       "      <td>10000</td>\n",
       "      <td>3.92</td>\n",
       "      <td>221</td>\n",
       "      <td>3.26</td>\n",
       "      <td>[{'id': 801, 'main': 'Clouds', 'description': ...</td>\n",
       "      <td>0.21</td>\n",
       "      <td>NaN</td>\n",
       "    </tr>\n",
       "    <tr>\n",
       "      <th>4</th>\n",
       "      <td>1633068000</td>\n",
       "      <td>30.77</td>\n",
       "      <td>37.28</td>\n",
       "      <td>1008</td>\n",
       "      <td>71</td>\n",
       "      <td>24.90</td>\n",
       "      <td>7.66</td>\n",
       "      <td>18</td>\n",
       "      <td>10000</td>\n",
       "      <td>4.33</td>\n",
       "      <td>217</td>\n",
       "      <td>3.38</td>\n",
       "      <td>[{'id': 801, 'main': 'Clouds', 'description': ...</td>\n",
       "      <td>0.13</td>\n",
       "      <td>NaN</td>\n",
       "    </tr>\n",
       "  </tbody>\n",
       "</table>\n",
       "</div>"
      ],
      "text/plain": [
       "           dt   temp  feels_like  pressure  humidity  dew_point   uvi  clouds  \\\n",
       "0  1633053600  30.86       37.86      1010        84      27.84  5.82       4   \n",
       "1  1633057200  30.78       37.78      1010        81      27.14  8.49       5   \n",
       "2  1633060800  30.78       37.78      1010        77      26.28  9.58      10   \n",
       "3  1633064400  30.64       37.64      1009        75      25.70  9.40      16   \n",
       "4  1633068000  30.77       37.28      1008        71      24.90  7.66      18   \n",
       "\n",
       "   visibility  wind_speed  wind_deg  wind_gust  \\\n",
       "0       10000        3.07       217       2.61   \n",
       "1       10000        3.42       212       2.63   \n",
       "2       10000        3.99       209       3.13   \n",
       "3       10000        3.92       221       3.26   \n",
       "4       10000        4.33       217       3.38   \n",
       "\n",
       "                                             weather   pop rain  \n",
       "0  [{'id': 800, 'main': 'Clear', 'description': '...  0.33  NaN  \n",
       "1  [{'id': 800, 'main': 'Clear', 'description': '...  0.27  NaN  \n",
       "2  [{'id': 800, 'main': 'Clear', 'description': '...  0.22  NaN  \n",
       "3  [{'id': 801, 'main': 'Clouds', 'description': ...  0.21  NaN  \n",
       "4  [{'id': 801, 'main': 'Clouds', 'description': ...  0.13  NaN  "
      ]
     },
     "execution_count": 10,
     "metadata": {},
     "output_type": "execute_result"
    }
   ],
   "source": [
    "df_hourly.head()"
   ]
  },
  {
   "cell_type": "code",
   "execution_count": null,
   "metadata": {},
   "outputs": [],
   "source": []
  }
 ],
 "metadata": {
  "interpreter": {
   "hash": "c1b4cfe941b6d2466ad1fb5979e97da9cda8801728c8091b097ab734208fc00c"
  },
  "kernelspec": {
   "display_name": "Python 3.8.3 64-bit ('base': conda)",
   "name": "python3"
  },
  "language_info": {
   "codemirror_mode": {
    "name": "ipython",
    "version": 3
   },
   "file_extension": ".py",
   "mimetype": "text/x-python",
   "name": "python",
   "nbconvert_exporter": "python",
   "pygments_lexer": "ipython3",
   "version": "3.8.12"
  }
 },
 "nbformat": 4,
 "nbformat_minor": 2
}
