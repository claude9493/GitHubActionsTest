{
 "cells": [
  {
   "cell_type": "code",
   "execution_count": 1,
   "metadata": {
    "execution": {
     "iopub.execute_input": "2021-09-13T10:13:00.880770Z",
     "iopub.status.busy": "2021-09-13T10:13:00.880149Z",
     "iopub.status.idle": "2021-09-13T10:13:02.136598Z",
     "shell.execute_reply": "2021-09-13T10:13:02.135710Z"
    }
   },
   "outputs": [],
   "source": [
    "import json, yaml, requests\r\n",
    "from datetime import datetime\r\n",
    "from dateutil import tz\r\n",
    "import pandas as pd\r\n",
    "from PIL import Image\r\n",
    "from io import BytesIO\r\n",
    "import matplotlib.pyplot as plt\r\n",
    "import seaborn\r\n",
    "\r\n",
    "CONFIG_PATH = \"../config/config.yaml\""
   ]
  },
  {
   "cell_type": "code",
   "execution_count": 2,
   "metadata": {
    "execution": {
     "iopub.execute_input": "2021-09-13T10:13:02.145352Z",
     "iopub.status.busy": "2021-09-13T10:13:02.141377Z",
     "iopub.status.idle": "2021-09-13T10:13:02.147820Z",
     "shell.execute_reply": "2021-09-13T10:13:02.148214Z"
    }
   },
   "outputs": [],
   "source": [
    "with open('../newest_ts', 'r') as f:\r\n",
    "    newest_ts = f.read()\r\n",
    "\r\n",
    "data_path = f\"../data/data_{newest_ts}.json\"\r\n",
    "with open(data_path, 'r') as f:\r\n",
    "    data = json.load(f)\r\n",
    "\r\n",
    "with open(CONFIG_PATH, \"r\") as stream:\r\n",
    "    config = yaml.safe_load(stream)\r\n",
    "\r\n",
    "TIME_ZONE = config['time_zone']\r\n",
    "DATETIME_FORMAT = config['dt_format']"
   ]
  },
  {
   "cell_type": "code",
   "execution_count": 3,
   "metadata": {
    "execution": {
     "iopub.execute_input": "2021-09-13T10:13:02.153525Z",
     "iopub.status.busy": "2021-09-13T10:13:02.152971Z",
     "iopub.status.idle": "2021-09-13T10:13:02.158943Z",
     "shell.execute_reply": "2021-09-13T10:13:02.158537Z"
    }
   },
   "outputs": [
    {
     "name": "stdout",
     "output_type": "stream",
     "text": [
      "Recent query happens at 2021-09-13 18:12:58 (CST).\n"
     ]
    }
   ],
   "source": [
    "def ts2dt(ts, format=DATETIME_FORMAT):\r\n",
    "    dt = (datetime.utcfromtimestamp(int(ts))\r\n",
    "                    .replace(tzinfo=tz.tzutc())\r\n",
    "                    # .astimezone(tz.tzlocal())\r\n",
    "                    .astimezone(tz.gettz(TIME_ZONE)))\r\n",
    "    return dt.strftime(format), dt\r\n",
    "\r\n",
    "_, newest_dt = ts2dt(newest_ts)\r\n",
    "print(f\"Recent query happens at {newest_dt.strftime(DATETIME_FORMAT)} ({newest_dt.tzname()}).\")"
   ]
  },
  {
   "cell_type": "code",
   "execution_count": 4,
   "metadata": {
    "execution": {
     "iopub.execute_input": "2021-09-13T10:13:02.164477Z",
     "iopub.status.busy": "2021-09-13T10:13:02.163973Z",
     "iopub.status.idle": "2021-09-13T10:13:02.167223Z",
     "shell.execute_reply": "2021-09-13T10:13:02.166830Z"
    }
   },
   "outputs": [],
   "source": [
    "def degrees_to_cardinal(d):\r\n",
    "  dirs = ['N', 'NNE', 'NE', 'ENE', 'E', 'ESE', 'SE', 'SSE', 'S', 'SSW', 'SW', 'WSW', 'W', 'WNW', 'NW', 'NNW']\r\n",
    "  ix = int(round(d / (360. / len(dirs))))\r\n",
    "  return dirs[ix % len(dirs)]"
   ]
  },
  {
   "cell_type": "code",
   "execution_count": 5,
   "metadata": {
    "execution": {
     "iopub.execute_input": "2021-09-13T10:13:02.170940Z",
     "iopub.status.busy": "2021-09-13T10:13:02.170463Z",
     "iopub.status.idle": "2021-09-13T10:13:02.173828Z",
     "shell.execute_reply": "2021-09-13T10:13:02.173371Z"
    }
   },
   "outputs": [],
   "source": [
    "# data.keys()"
   ]
  },
  {
   "cell_type": "code",
   "execution_count": 6,
   "metadata": {
    "execution": {
     "iopub.execute_input": "2021-09-13T10:13:02.178288Z",
     "iopub.status.busy": "2021-09-13T10:13:02.176857Z",
     "iopub.status.idle": "2021-09-13T10:13:02.178837Z",
     "shell.execute_reply": "2021-09-13T10:13:02.179235Z"
    }
   },
   "outputs": [],
   "source": [
    "# data['current']"
   ]
  },
  {
   "cell_type": "code",
   "execution_count": 7,
   "metadata": {
    "execution": {
     "iopub.execute_input": "2021-09-13T10:13:02.196960Z",
     "iopub.status.busy": "2021-09-13T10:13:02.196459Z",
     "iopub.status.idle": "2021-09-13T10:13:02.615532Z",
     "shell.execute_reply": "2021-09-13T10:13:02.616274Z"
    }
   },
   "outputs": [
    {
     "data": {
      "image/png": "[encoded data removed]",
      "text/plain": [
       "<Figure size 216x216 with 1 Axes>"
      ]
     },
     "metadata": {
      "needs_background": "light"
     },
     "output_type": "display_data"
    },
    {
     "name": "stdout",
     "output_type": "stream",
     "text": [
      "Today, sun rises at 06:09 and sets at 18:29.\n",
      "Currently, the weather is Clouds (broken clouds).\n",
      "The temperature is 31.06°C and it feels like 38.06°C.\n",
      "The UV index is 0.16, humidity is 81%.\n",
      "The pressure is 1007 hPa, percentage of cloud cover is 75%\n",
      "The wind comes from SSW direction with a speed 3.72 m/s.\n"
     ]
    }
   ],
   "source": [
    "current = data['current']\r\n",
    "\r\n",
    "fig, ax = plt.subplots(figsize=(3, 3))\r\n",
    "icon = requests.get(f\"http://openweathermap.org/img/wn/{current['weather'][0]['icon']}@2x.png\")\r\n",
    "im = Image.open(BytesIO(icon.content))\r\n",
    "plt.imshow(im)\r\n",
    "ax.set_axis_off()\r\n",
    "plt.show()\r\n",
    "\r\n",
    "print(f\"Today, sun rises at {ts2dt(current['sunrise'], '%H:%M')[0]} \\\r\n",
    "and sets at {ts2dt(current['sunset'], '%H:%M')[0]}.\\n\\\r\n",
    "Currently, the weather is {current['weather'][0]['main']} ({current['weather'][0]['description']}).\\n\\\r\n",
    "The temperature is {current['temp']}°C and it feels like {current['feels_like']}°C.\\n\\\r\n",
    "The UV index is {current['uvi']}, humidity is {current['humidity']}%.\\n\\\r\n",
    "The pressure is {current['pressure']} hPa, percentage of cloud cover is {current['clouds']}%\\n\\\r\n",
    "The wind comes from {degrees_to_cardinal(current['wind_deg'])} direction with a speed {current['wind_speed']} m/s.\")"
   ]
  },
  {
   "cell_type": "code",
   "execution_count": 8,
   "metadata": {
    "execution": {
     "iopub.execute_input": "2021-09-13T10:13:02.619577Z",
     "iopub.status.busy": "2021-09-13T10:13:02.618638Z",
     "iopub.status.idle": "2021-09-13T10:13:02.625865Z",
     "shell.execute_reply": "2021-09-13T10:13:02.626504Z"
    }
   },
   "outputs": [],
   "source": [
    "df_hourly = pd.DataFrame(data['hourly'])\r\n",
    "df_daily = pd.DataFrame(data['daily'])"
   ]
  },
  {
   "cell_type": "code",
   "execution_count": 9,
   "metadata": {
    "execution": {
     "iopub.execute_input": "2021-09-13T10:13:02.629356Z",
     "iopub.status.busy": "2021-09-13T10:13:02.628436Z",
     "iopub.status.idle": "2021-09-13T10:13:02.945592Z",
     "shell.execute_reply": "2021-09-13T10:13:02.945155Z"
    }
   },
   "outputs": [
    {
     "data": {
      "image/png": "[encoded data removed]",
      "text/plain": [
       "<Figure size 864x432 with 1 Axes>"
      ]
     },
     "metadata": {
      "needs_background": "light"
     },
     "output_type": "display_data"
    }
   ],
   "source": [
    "fig, ax = plt.subplots(figsize=(12, 6))\r\n",
    "plt.plot(df_hourly.temp, '.-', label='Temperature')\r\n",
    "plt.plot(df_hourly.feels_like, '.-', label='Feels Like')\r\n",
    "ax.set(title='Temperature in future 48 hours', xlabel='Time', ylabel='Temperature')\r\n",
    "ax.set_xticks(list(range(0, len(df_hourly), 2)))\r\n",
    "ax.set_xticklabels([ts2dt(ts, '%m-%d %H:%M')[0] for i, ts in enumerate(df_hourly.dt) if i%2==0], \r\n",
    "                   rotation=45, ha=\"right\")\r\n",
    "ax.locator_params(nbins=15, axis='y')\r\n",
    "plt.legend()\r\n",
    "plt.show()"
   ]
  },
  {
   "cell_type": "code",
   "execution_count": 10,
   "metadata": {
    "execution": {
     "iopub.execute_input": "2021-09-13T10:13:02.950709Z",
     "iopub.status.busy": "2021-09-13T10:13:02.949572Z",
     "iopub.status.idle": "2021-09-13T10:13:02.968622Z",
     "shell.execute_reply": "2021-09-13T10:13:02.969198Z"
    }
   },
   "outputs": [
    {
     "data": {
      "text/html": [
       "<div>\n",
       "<style scoped>\n",
       "    .dataframe tbody tr th:only-of-type {\n",
       "        vertical-align: middle;\n",
       "    }\n",
       "\n",
       "    .dataframe tbody tr th {\n",
       "        vertical-align: top;\n",
       "    }\n",
       "\n",
       "    .dataframe thead th {\n",
       "        text-align: right;\n",
       "    }\n",
       "</style>\n",
       "<table border=\"1\" class=\"dataframe\">\n",
       "  <thead>\n",
       "    <tr style=\"text-align: right;\">\n",
       "      <th></th>\n",
       "      <th>dt</th>\n",
       "      <th>temp</th>\n",
       "      <th>feels_like</th>\n",
       "      <th>pressure</th>\n",
       "      <th>humidity</th>\n",
       "      <th>dew_point</th>\n",
       "      <th>uvi</th>\n",
       "      <th>clouds</th>\n",
       "      <th>visibility</th>\n",
       "      <th>wind_speed</th>\n",
       "      <th>wind_deg</th>\n",
       "      <th>wind_gust</th>\n",
       "      <th>weather</th>\n",
       "      <th>pop</th>\n",
       "      <th>rain</th>\n",
       "    </tr>\n",
       "  </thead>\n",
       "  <tbody>\n",
       "    <tr>\n",
       "      <th>0</th>\n",
       "      <td>1631527200</td>\n",
       "      <td>31.06</td>\n",
       "      <td>38.06</td>\n",
       "      <td>1007</td>\n",
       "      <td>81</td>\n",
       "      <td>27.41</td>\n",
       "      <td>0.16</td>\n",
       "      <td>75</td>\n",
       "      <td>10000</td>\n",
       "      <td>3.72</td>\n",
       "      <td>203</td>\n",
       "      <td>4.14</td>\n",
       "      <td>[{'id': 803, 'main': 'Clouds', 'description': ...</td>\n",
       "      <td>0.00</td>\n",
       "      <td>NaN</td>\n",
       "    </tr>\n",
       "    <tr>\n",
       "      <th>1</th>\n",
       "      <td>1631530800</td>\n",
       "      <td>30.63</td>\n",
       "      <td>37.63</td>\n",
       "      <td>1007</td>\n",
       "      <td>80</td>\n",
       "      <td>26.78</td>\n",
       "      <td>0.00</td>\n",
       "      <td>76</td>\n",
       "      <td>10000</td>\n",
       "      <td>3.04</td>\n",
       "      <td>202</td>\n",
       "      <td>3.56</td>\n",
       "      <td>[{'id': 803, 'main': 'Clouds', 'description': ...</td>\n",
       "      <td>0.00</td>\n",
       "      <td>NaN</td>\n",
       "    </tr>\n",
       "    <tr>\n",
       "      <th>2</th>\n",
       "      <td>1631534400</td>\n",
       "      <td>30.10</td>\n",
       "      <td>37.10</td>\n",
       "      <td>1007</td>\n",
       "      <td>81</td>\n",
       "      <td>26.48</td>\n",
       "      <td>0.00</td>\n",
       "      <td>76</td>\n",
       "      <td>10000</td>\n",
       "      <td>3.01</td>\n",
       "      <td>203</td>\n",
       "      <td>3.73</td>\n",
       "      <td>[{'id': 803, 'main': 'Clouds', 'description': ...</td>\n",
       "      <td>0.00</td>\n",
       "      <td>NaN</td>\n",
       "    </tr>\n",
       "    <tr>\n",
       "      <th>3</th>\n",
       "      <td>1631538000</td>\n",
       "      <td>29.53</td>\n",
       "      <td>36.53</td>\n",
       "      <td>1008</td>\n",
       "      <td>82</td>\n",
       "      <td>26.13</td>\n",
       "      <td>0.00</td>\n",
       "      <td>48</td>\n",
       "      <td>10000</td>\n",
       "      <td>2.90</td>\n",
       "      <td>201</td>\n",
       "      <td>3.77</td>\n",
       "      <td>[{'id': 802, 'main': 'Clouds', 'description': ...</td>\n",
       "      <td>0.38</td>\n",
       "      <td>NaN</td>\n",
       "    </tr>\n",
       "    <tr>\n",
       "      <th>4</th>\n",
       "      <td>1631541600</td>\n",
       "      <td>28.95</td>\n",
       "      <td>35.04</td>\n",
       "      <td>1009</td>\n",
       "      <td>82</td>\n",
       "      <td>25.56</td>\n",
       "      <td>0.00</td>\n",
       "      <td>55</td>\n",
       "      <td>10000</td>\n",
       "      <td>2.58</td>\n",
       "      <td>199</td>\n",
       "      <td>3.56</td>\n",
       "      <td>[{'id': 500, 'main': 'Rain', 'description': 'l...</td>\n",
       "      <td>0.51</td>\n",
       "      <td>{'1h': 0.29}</td>\n",
       "    </tr>\n",
       "  </tbody>\n",
       "</table>\n",
       "</div>"
      ],
      "text/plain": [
       "           dt   temp  feels_like  pressure  humidity  dew_point   uvi  clouds  \\\n",
       "0  1631527200  31.06       38.06      1007        81      27.41  0.16      75   \n",
       "1  1631530800  30.63       37.63      1007        80      26.78  0.00      76   \n",
       "2  1631534400  30.10       37.10      1007        81      26.48  0.00      76   \n",
       "3  1631538000  29.53       36.53      1008        82      26.13  0.00      48   \n",
       "4  1631541600  28.95       35.04      1009        82      25.56  0.00      55   \n",
       "\n",
       "   visibility  wind_speed  wind_deg  wind_gust  \\\n",
       "0       10000        3.72       203       4.14   \n",
       "1       10000        3.04       202       3.56   \n",
       "2       10000        3.01       203       3.73   \n",
       "3       10000        2.90       201       3.77   \n",
       "4       10000        2.58       199       3.56   \n",
       "\n",
       "                                             weather   pop          rain  \n",
       "0  [{'id': 803, 'main': 'Clouds', 'description': ...  0.00           NaN  \n",
       "1  [{'id': 803, 'main': 'Clouds', 'description': ...  0.00           NaN  \n",
       "2  [{'id': 803, 'main': 'Clouds', 'description': ...  0.00           NaN  \n",
       "3  [{'id': 802, 'main': 'Clouds', 'description': ...  0.38           NaN  \n",
       "4  [{'id': 500, 'main': 'Rain', 'description': 'l...  0.51  {'1h': 0.29}  "
      ]
     },
     "execution_count": 10,
     "metadata": {},
     "output_type": "execute_result"
    }
   ],
   "source": [
    "df_hourly.head()"
   ]
  },
  {
   "cell_type": "code",
   "execution_count": null,
   "metadata": {},
   "outputs": [],
   "source": []
  }
 ],
 "metadata": {
  "interpreter": {
   "hash": "c1b4cfe941b6d2466ad1fb5979e97da9cda8801728c8091b097ab734208fc00c"
  },
  "kernelspec": {
   "display_name": "Python 3.8.3 64-bit ('base': conda)",
   "name": "python3"
  },
  "language_info": {
   "codemirror_mode": {
    "name": "ipython",
    "version": 3
   },
   "file_extension": ".py",
   "mimetype": "text/x-python",
   "name": "python",
   "nbconvert_exporter": "python",
   "pygments_lexer": "ipython3",
   "version": "3.8.11"
  }
 },
 "nbformat": 4,
 "nbformat_minor": 2
}
