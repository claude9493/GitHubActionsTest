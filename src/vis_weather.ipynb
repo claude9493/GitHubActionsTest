{
 "cells": [
  {
   "cell_type": "code",
   "execution_count": 1,
   "metadata": {
    "execution": {
     "iopub.execute_input": "2021-09-05T07:36:11.687334Z",
     "iopub.status.busy": "2021-09-05T07:36:11.686846Z",
     "iopub.status.idle": "2021-09-05T07:36:13.923492Z",
     "shell.execute_reply": "2021-09-05T07:36:13.922577Z"
    }
   },
   "outputs": [],
   "source": [
    "import json, yaml, requests\r\n",
    "from datetime import datetime\r\n",
    "from dateutil import tz\r\n",
    "import pandas as pd\r\n",
    "from PIL import Image\r\n",
    "from io import BytesIO\r\n",
    "import matplotlib.pyplot as plt\r\n",
    "import seaborn\r\n",
    "\r\n",
    "CONFIG_PATH = \"../config/config.yaml\""
   ]
  },
  {
   "cell_type": "code",
   "execution_count": 2,
   "metadata": {
    "execution": {
     "iopub.execute_input": "2021-09-05T07:36:13.928380Z",
     "iopub.status.busy": "2021-09-05T07:36:13.925526Z",
     "iopub.status.idle": "2021-09-05T07:36:13.932774Z",
     "shell.execute_reply": "2021-09-05T07:36:13.932164Z"
    }
   },
   "outputs": [],
   "source": [
    "with open('../newest_ts', 'r') as f:\r\n",
    "    newest_ts = f.read()\r\n",
    "\r\n",
    "data_path = f\"../data/data_{newest_ts}.json\"\r\n",
    "with open(data_path, 'r') as f:\r\n",
    "    data = json.load(f)\r\n",
    "\r\n",
    "with open(CONFIG_PATH, \"r\") as stream:\r\n",
    "    config = yaml.safe_load(stream)\r\n",
    "\r\n",
    "TIME_ZONE = config['time_zone']\r\n",
    "DATETIME_FORMAT = config['dt_format']"
   ]
  },
  {
   "cell_type": "code",
   "execution_count": 3,
   "metadata": {
    "execution": {
     "iopub.execute_input": "2021-09-05T07:36:13.936637Z",
     "iopub.status.busy": "2021-09-05T07:36:13.936234Z",
     "iopub.status.idle": "2021-09-05T07:36:13.959779Z",
     "shell.execute_reply": "2021-09-05T07:36:13.959217Z"
    }
   },
   "outputs": [
    {
     "name": "stdout",
     "output_type": "stream",
     "text": [
      "Recent query happens at 2021-09-05 15:36:08 (CST).\n"
     ]
    }
   ],
   "source": [
    "def ts2dt(ts, format=DATETIME_FORMAT):\r\n",
    "    dt = (datetime.utcfromtimestamp(int(ts))\r\n",
    "                    .replace(tzinfo=tz.tzutc())\r\n",
    "                    # .astimezone(tz.tzlocal())\r\n",
    "                    .astimezone(tz.gettz(TIME_ZONE)))\r\n",
    "    return dt.strftime(format), dt\r\n",
    "\r\n",
    "_, newest_dt = ts2dt(newest_ts)\r\n",
    "print(f\"Recent query happens at {newest_dt.strftime(DATETIME_FORMAT)} ({newest_dt.tzname()}).\")"
   ]
  },
  {
   "cell_type": "code",
   "execution_count": 4,
   "metadata": {
    "execution": {
     "iopub.execute_input": "2021-09-05T07:36:13.963949Z",
     "iopub.status.busy": "2021-09-05T07:36:13.963221Z",
     "iopub.status.idle": "2021-09-05T07:36:13.964548Z",
     "shell.execute_reply": "2021-09-05T07:36:13.964870Z"
    }
   },
   "outputs": [],
   "source": [
    "def degrees_to_cardinal(d):\r\n",
    "  dirs = ['N', 'NNE', 'NE', 'ENE', 'E', 'ESE', 'SE', 'SSE', 'S', 'SSW', 'SW', 'WSW', 'W', 'WNW', 'NW', 'NNW']\r\n",
    "  ix = int(round(d / (360. / len(dirs))))\r\n",
    "  return dirs[ix % len(dirs)]"
   ]
  },
  {
   "cell_type": "code",
   "execution_count": 5,
   "metadata": {
    "execution": {
     "iopub.execute_input": "2021-09-05T07:36:13.968021Z",
     "iopub.status.busy": "2021-09-05T07:36:13.967327Z",
     "iopub.status.idle": "2021-09-05T07:36:13.969036Z",
     "shell.execute_reply": "2021-09-05T07:36:13.968708Z"
    }
   },
   "outputs": [],
   "source": [
    "# data.keys()"
   ]
  },
  {
   "cell_type": "code",
   "execution_count": 6,
   "metadata": {
    "execution": {
     "iopub.execute_input": "2021-09-05T07:36:13.971970Z",
     "iopub.status.busy": "2021-09-05T07:36:13.971275Z",
     "iopub.status.idle": "2021-09-05T07:36:13.972997Z",
     "shell.execute_reply": "2021-09-05T07:36:13.972674Z"
    }
   },
   "outputs": [],
   "source": [
    "# data['current']"
   ]
  },
  {
   "cell_type": "code",
   "execution_count": 7,
   "metadata": {
    "execution": {
     "iopub.execute_input": "2021-09-05T07:36:13.987602Z",
     "iopub.status.busy": "2021-09-05T07:36:13.987172Z",
     "iopub.status.idle": "2021-09-05T07:36:14.439036Z",
     "shell.execute_reply": "2021-09-05T07:36:14.439621Z"
    }
   },
   "outputs": [
    {
     "data": {
      "image/png": "[encoded data removed]",
      "text/plain": [
       "<Figure size 216x216 with 1 Axes>"
      ]
     },
     "metadata": {
      "needs_background": "light"
     },
     "output_type": "display_data"
    },
    {
     "name": "stdout",
     "output_type": "stream",
     "text": [
      "Today, sun rises at 06:06 and sets at 18:36.\n",
      "Currently, the weather is Clouds (scattered clouds).\n",
      "The temperature is 30.6°C and it feels like 37.6°C.\n",
      "The UV index is 3.08, humidity is 79%.\n",
      "The pressure is 1009 hPa, percentage of cloud cover is 28%\n",
      "The wind comes from ESE direction with a speed 3.45 m/s.\n"
     ]
    }
   ],
   "source": [
    "current = data['current']\r\n",
    "\r\n",
    "fig, ax = plt.subplots(figsize=(3, 3))\r\n",
    "icon = requests.get(f\"http://openweathermap.org/img/wn/{current['weather'][0]['icon']}@2x.png\")\r\n",
    "im = Image.open(BytesIO(icon.content))\r\n",
    "plt.imshow(im)\r\n",
    "ax.set_axis_off()\r\n",
    "plt.show()\r\n",
    "\r\n",
    "print(f\"Today, sun rises at {ts2dt(current['sunrise'], '%H:%M')[0]} \\\r\n",
    "and sets at {ts2dt(current['sunset'], '%H:%M')[0]}.\\n\\\r\n",
    "Currently, the weather is {current['weather'][0]['main']} ({current['weather'][0]['description']}).\\n\\\r\n",
    "The temperature is {current['temp']}°C and it feels like {current['feels_like']}°C.\\n\\\r\n",
    "The UV index is {current['uvi']}, humidity is {current['humidity']}%.\\n\\\r\n",
    "The pressure is {current['pressure']} hPa, percentage of cloud cover is {current['clouds']}%\\n\\\r\n",
    "The wind comes from {degrees_to_cardinal(current['wind_deg'])} direction with a speed {current['wind_speed']} m/s.\")"
   ]
  },
  {
   "cell_type": "code",
   "execution_count": 8,
   "metadata": {
    "execution": {
     "iopub.execute_input": "2021-09-05T07:36:14.442434Z",
     "iopub.status.busy": "2021-09-05T07:36:14.441615Z",
     "iopub.status.idle": "2021-09-05T07:36:14.447651Z",
     "shell.execute_reply": "2021-09-05T07:36:14.448202Z"
    }
   },
   "outputs": [],
   "source": [
    "df_hourly = pd.DataFrame(data['hourly'])\r\n",
    "df_daily = pd.DataFrame(data['daily'])"
   ]
  },
  {
   "cell_type": "code",
   "execution_count": 9,
   "metadata": {
    "execution": {
     "iopub.execute_input": "2021-09-05T07:36:14.450830Z",
     "iopub.status.busy": "2021-09-05T07:36:14.450002Z",
     "iopub.status.idle": "2021-09-05T07:36:14.666925Z",
     "shell.execute_reply": "2021-09-05T07:36:14.667350Z"
    }
   },
   "outputs": [
    {
     "data": {
      "image/png": "[encoded data removed]",
      "text/plain": [
       "<Figure size 864x432 with 1 Axes>"
      ]
     },
     "metadata": {
      "needs_background": "light"
     },
     "output_type": "display_data"
    }
   ],
   "source": [
    "fig, ax = plt.subplots(figsize=(12, 6))\r\n",
    "plt.plot(df_hourly.temp, '.-', label='Temperature')\r\n",
    "plt.plot(df_hourly.feels_like, '.-', label='Feels Like')\r\n",
    "ax.set(title='Temperature in future 48 hours', xlabel='Time', ylabel='Temperature')\r\n",
    "ax.set_xticks(list(range(0, len(df_hourly), 2)))\r\n",
    "ax.set_xticklabels([ts2dt(ts, '%m-%d %H:%M')[0] for i, ts in enumerate(df_hourly.dt) if i%2==0], \r\n",
    "                   rotation=45, ha=\"right\")\r\n",
    "ax.locator_params(nbins=15, axis='y')\r\n",
    "plt.legend()\r\n",
    "plt.show()"
   ]
  },
  {
   "cell_type": "code",
   "execution_count": 10,
   "metadata": {
    "execution": {
     "iopub.execute_input": "2021-09-05T07:36:14.671233Z",
     "iopub.status.busy": "2021-09-05T07:36:14.670830Z",
     "iopub.status.idle": "2021-09-05T07:36:14.684891Z",
     "shell.execute_reply": "2021-09-05T07:36:14.685216Z"
    }
   },
   "outputs": [
    {
     "data": {
      "text/html": [
       "<div>\n",
       "<style scoped>\n",
       "    .dataframe tbody tr th:only-of-type {\n",
       "        vertical-align: middle;\n",
       "    }\n",
       "\n",
       "    .dataframe tbody tr th {\n",
       "        vertical-align: top;\n",
       "    }\n",
       "\n",
       "    .dataframe thead th {\n",
       "        text-align: right;\n",
       "    }\n",
       "</style>\n",
       "<table border=\"1\" class=\"dataframe\">\n",
       "  <thead>\n",
       "    <tr style=\"text-align: right;\">\n",
       "      <th></th>\n",
       "      <th>dt</th>\n",
       "      <th>temp</th>\n",
       "      <th>feels_like</th>\n",
       "      <th>pressure</th>\n",
       "      <th>humidity</th>\n",
       "      <th>dew_point</th>\n",
       "      <th>uvi</th>\n",
       "      <th>clouds</th>\n",
       "      <th>visibility</th>\n",
       "      <th>wind_speed</th>\n",
       "      <th>wind_deg</th>\n",
       "      <th>wind_gust</th>\n",
       "      <th>weather</th>\n",
       "      <th>pop</th>\n",
       "      <th>rain</th>\n",
       "    </tr>\n",
       "  </thead>\n",
       "  <tbody>\n",
       "    <tr>\n",
       "      <th>0</th>\n",
       "      <td>1630825200</td>\n",
       "      <td>30.54</td>\n",
       "      <td>37.54</td>\n",
       "      <td>1009</td>\n",
       "      <td>76</td>\n",
       "      <td>25.82</td>\n",
       "      <td>5.93</td>\n",
       "      <td>29</td>\n",
       "      <td>10000</td>\n",
       "      <td>3.47</td>\n",
       "      <td>118</td>\n",
       "      <td>3.17</td>\n",
       "      <td>[{'id': 500, 'main': 'Rain', 'description': 'l...</td>\n",
       "      <td>0.58</td>\n",
       "      <td>{'1h': 0.23}</td>\n",
       "    </tr>\n",
       "    <tr>\n",
       "      <th>1</th>\n",
       "      <td>1630828800</td>\n",
       "      <td>30.60</td>\n",
       "      <td>37.60</td>\n",
       "      <td>1009</td>\n",
       "      <td>79</td>\n",
       "      <td>26.54</td>\n",
       "      <td>3.08</td>\n",
       "      <td>28</td>\n",
       "      <td>10000</td>\n",
       "      <td>3.45</td>\n",
       "      <td>111</td>\n",
       "      <td>3.16</td>\n",
       "      <td>[{'id': 802, 'main': 'Clouds', 'description': ...</td>\n",
       "      <td>0.62</td>\n",
       "      <td>NaN</td>\n",
       "    </tr>\n",
       "    <tr>\n",
       "      <th>2</th>\n",
       "      <td>1630832400</td>\n",
       "      <td>30.43</td>\n",
       "      <td>37.43</td>\n",
       "      <td>1009</td>\n",
       "      <td>76</td>\n",
       "      <td>25.72</td>\n",
       "      <td>1.08</td>\n",
       "      <td>32</td>\n",
       "      <td>10000</td>\n",
       "      <td>3.21</td>\n",
       "      <td>109</td>\n",
       "      <td>3.07</td>\n",
       "      <td>[{'id': 802, 'main': 'Clouds', 'description': ...</td>\n",
       "      <td>0.49</td>\n",
       "      <td>NaN</td>\n",
       "    </tr>\n",
       "    <tr>\n",
       "      <th>3</th>\n",
       "      <td>1630836000</td>\n",
       "      <td>30.03</td>\n",
       "      <td>36.65</td>\n",
       "      <td>1009</td>\n",
       "      <td>76</td>\n",
       "      <td>25.33</td>\n",
       "      <td>0.19</td>\n",
       "      <td>35</td>\n",
       "      <td>10000</td>\n",
       "      <td>3.04</td>\n",
       "      <td>104</td>\n",
       "      <td>3.37</td>\n",
       "      <td>[{'id': 802, 'main': 'Clouds', 'description': ...</td>\n",
       "      <td>0.41</td>\n",
       "      <td>NaN</td>\n",
       "    </tr>\n",
       "    <tr>\n",
       "      <th>4</th>\n",
       "      <td>1630839600</td>\n",
       "      <td>29.30</td>\n",
       "      <td>34.89</td>\n",
       "      <td>1009</td>\n",
       "      <td>77</td>\n",
       "      <td>24.85</td>\n",
       "      <td>0.00</td>\n",
       "      <td>35</td>\n",
       "      <td>10000</td>\n",
       "      <td>2.97</td>\n",
       "      <td>104</td>\n",
       "      <td>3.54</td>\n",
       "      <td>[{'id': 802, 'main': 'Clouds', 'description': ...</td>\n",
       "      <td>0.37</td>\n",
       "      <td>NaN</td>\n",
       "    </tr>\n",
       "  </tbody>\n",
       "</table>\n",
       "</div>"
      ],
      "text/plain": [
       "           dt   temp  feels_like  pressure  humidity  dew_point   uvi  clouds  \\\n",
       "0  1630825200  30.54       37.54      1009        76      25.82  5.93      29   \n",
       "1  1630828800  30.60       37.60      1009        79      26.54  3.08      28   \n",
       "2  1630832400  30.43       37.43      1009        76      25.72  1.08      32   \n",
       "3  1630836000  30.03       36.65      1009        76      25.33  0.19      35   \n",
       "4  1630839600  29.30       34.89      1009        77      24.85  0.00      35   \n",
       "\n",
       "   visibility  wind_speed  wind_deg  wind_gust  \\\n",
       "0       10000        3.47       118       3.17   \n",
       "1       10000        3.45       111       3.16   \n",
       "2       10000        3.21       109       3.07   \n",
       "3       10000        3.04       104       3.37   \n",
       "4       10000        2.97       104       3.54   \n",
       "\n",
       "                                             weather   pop          rain  \n",
       "0  [{'id': 500, 'main': 'Rain', 'description': 'l...  0.58  {'1h': 0.23}  \n",
       "1  [{'id': 802, 'main': 'Clouds', 'description': ...  0.62           NaN  \n",
       "2  [{'id': 802, 'main': 'Clouds', 'description': ...  0.49           NaN  \n",
       "3  [{'id': 802, 'main': 'Clouds', 'description': ...  0.41           NaN  \n",
       "4  [{'id': 802, 'main': 'Clouds', 'description': ...  0.37           NaN  "
      ]
     },
     "execution_count": 10,
     "metadata": {},
     "output_type": "execute_result"
    }
   ],
   "source": [
    "df_hourly.head()"
   ]
  },
  {
   "cell_type": "code",
   "execution_count": null,
   "metadata": {},
   "outputs": [],
   "source": []
  }
 ],
 "metadata": {
  "interpreter": {
   "hash": "c1b4cfe941b6d2466ad1fb5979e97da9cda8801728c8091b097ab734208fc00c"
  },
  "kernelspec": {
   "display_name": "Python 3.8.3 64-bit ('base': conda)",
   "name": "python3"
  },
  "language_info": {
   "codemirror_mode": {
    "name": "ipython",
    "version": 3
   },
   "file_extension": ".py",
   "mimetype": "text/x-python",
   "name": "python",
   "nbconvert_exporter": "python",
   "pygments_lexer": "ipython3",
   "version": "3.8.11"
  }
 },
 "nbformat": 4,
 "nbformat_minor": 2
}
