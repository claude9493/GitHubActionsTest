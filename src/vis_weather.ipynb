{
 "cells": [
  {
   "cell_type": "code",
   "execution_count": 1,
   "metadata": {
    "execution": {
     "iopub.execute_input": "2021-10-23T07:11:35.063482Z",
     "iopub.status.busy": "2021-10-23T07:11:35.062589Z",
     "iopub.status.idle": "2021-10-23T07:11:38.020667Z",
     "shell.execute_reply": "2021-10-23T07:11:38.019967Z"
    }
   },
   "outputs": [],
   "source": [
    "import json, yaml, requests\r\n",
    "from datetime import datetime\r\n",
    "from dateutil import tz\r\n",
    "import pandas as pd\r\n",
    "from PIL import Image\r\n",
    "from io import BytesIO\r\n",
    "import matplotlib.pyplot as plt\r\n",
    "import seaborn\r\n",
    "\r\n",
    "CONFIG_PATH = \"../config/config.yaml\""
   ]
  },
  {
   "cell_type": "code",
   "execution_count": 2,
   "metadata": {
    "execution": {
     "iopub.execute_input": "2021-10-23T07:11:38.027949Z",
     "iopub.status.busy": "2021-10-23T07:11:38.027208Z",
     "iopub.status.idle": "2021-10-23T07:11:38.035796Z",
     "shell.execute_reply": "2021-10-23T07:11:38.034974Z"
    }
   },
   "outputs": [],
   "source": [
    "with open('../newest_ts', 'r') as f:\r\n",
    "    newest_ts = f.read()\r\n",
    "\r\n",
    "data_path = f\"../data/data_{newest_ts}.json\"\r\n",
    "with open(data_path, 'r') as f:\r\n",
    "    data = json.load(f)\r\n",
    "\r\n",
    "with open(CONFIG_PATH, \"r\") as stream:\r\n",
    "    config = yaml.safe_load(stream)\r\n",
    "\r\n",
    "TIME_ZONE = config['time_zone']\r\n",
    "DATETIME_FORMAT = config['dt_format']"
   ]
  },
  {
   "cell_type": "code",
   "execution_count": 3,
   "metadata": {
    "execution": {
     "iopub.execute_input": "2021-10-23T07:11:38.041930Z",
     "iopub.status.busy": "2021-10-23T07:11:38.041302Z",
     "iopub.status.idle": "2021-10-23T07:11:38.048228Z",
     "shell.execute_reply": "2021-10-23T07:11:38.048877Z"
    }
   },
   "outputs": [
    {
     "name": "stdout",
     "output_type": "stream",
     "text": [
      "Recent query happens at 2021-10-23 15:11:31 (CST).\n"
     ]
    }
   ],
   "source": [
    "def ts2dt(ts, format=DATETIME_FORMAT):\r\n",
    "    dt = (datetime.utcfromtimestamp(int(ts))\r\n",
    "                    .replace(tzinfo=tz.tzutc())\r\n",
    "                    # .astimezone(tz.tzlocal())\r\n",
    "                    .astimezone(tz.gettz(TIME_ZONE)))\r\n",
    "    return dt.strftime(format), dt\r\n",
    "\r\n",
    "_, newest_dt = ts2dt(newest_ts)\r\n",
    "print(f\"Recent query happens at {newest_dt.strftime(DATETIME_FORMAT)} ({newest_dt.tzname()}).\")"
   ]
  },
  {
   "cell_type": "code",
   "execution_count": 4,
   "metadata": {
    "execution": {
     "iopub.execute_input": "2021-10-23T07:11:38.060369Z",
     "iopub.status.busy": "2021-10-23T07:11:38.059618Z",
     "iopub.status.idle": "2021-10-23T07:11:38.061458Z",
     "shell.execute_reply": "2021-10-23T07:11:38.060954Z"
    }
   },
   "outputs": [],
   "source": [
    "def degrees_to_cardinal(d):\r\n",
    "  dirs = ['N', 'NNE', 'NE', 'ENE', 'E', 'ESE', 'SE', 'SSE', 'S', 'SSW', 'SW', 'WSW', 'W', 'WNW', 'NW', 'NNW']\r\n",
    "  ix = int(round(d / (360. / len(dirs))))\r\n",
    "  return dirs[ix % len(dirs)]"
   ]
  },
  {
   "cell_type": "code",
   "execution_count": 5,
   "metadata": {
    "execution": {
     "iopub.execute_input": "2021-10-23T07:11:38.065382Z",
     "iopub.status.busy": "2021-10-23T07:11:38.064756Z",
     "iopub.status.idle": "2021-10-23T07:11:38.067427Z",
     "shell.execute_reply": "2021-10-23T07:11:38.067925Z"
    }
   },
   "outputs": [],
   "source": [
    "# data.keys()"
   ]
  },
  {
   "cell_type": "code",
   "execution_count": 6,
   "metadata": {
    "execution": {
     "iopub.execute_input": "2021-10-23T07:11:38.072979Z",
     "iopub.status.busy": "2021-10-23T07:11:38.071652Z",
     "iopub.status.idle": "2021-10-23T07:11:38.073633Z",
     "shell.execute_reply": "2021-10-23T07:11:38.074330Z"
    }
   },
   "outputs": [],
   "source": [
    "# data['current']"
   ]
  },
  {
   "cell_type": "code",
   "execution_count": 7,
   "metadata": {
    "execution": {
     "iopub.execute_input": "2021-10-23T07:11:38.096334Z",
     "iopub.status.busy": "2021-10-23T07:11:38.095669Z",
     "iopub.status.idle": "2021-10-23T07:11:38.514824Z",
     "shell.execute_reply": "2021-10-23T07:11:38.515282Z"
    }
   },
   "outputs": [
    {
     "data": {
      "image/png": "[encoded data removed]",
      "text/plain": [
       "<Figure size 216x216 with 1 Axes>"
      ]
     },
     "metadata": {
      "needs_background": "light"
     },
     "output_type": "display_data"
    },
    {
     "name": "stdout",
     "output_type": "stream",
     "text": [
      "Today, sun rises at 06:22 and sets at 17:51.\n",
      "Currently, the weather is Clouds (scattered clouds).\n",
      "The temperature is 22.92°C and it feels like 23.23°C.\n",
      "The UV index is 3.88, humidity is 75%.\n",
      "The pressure is 1017 hPa, percentage of cloud cover is 41%\n",
      "The wind comes from NE direction with a speed 2.77 m/s.\n"
     ]
    }
   ],
   "source": [
    "current = data['current']\r\n",
    "\r\n",
    "fig, ax = plt.subplots(figsize=(3, 3))\r\n",
    "icon = requests.get(f\"http://openweathermap.org/img/wn/{current['weather'][0]['icon']}@2x.png\")\r\n",
    "im = Image.open(BytesIO(icon.content))\r\n",
    "plt.imshow(im)\r\n",
    "ax.set_axis_off()\r\n",
    "plt.show()\r\n",
    "\r\n",
    "print(f\"Today, sun rises at {ts2dt(current['sunrise'], '%H:%M')[0]} \\\r\n",
    "and sets at {ts2dt(current['sunset'], '%H:%M')[0]}.\\n\\\r\n",
    "Currently, the weather is {current['weather'][0]['main']} ({current['weather'][0]['description']}).\\n\\\r\n",
    "The temperature is {current['temp']}°C and it feels like {current['feels_like']}°C.\\n\\\r\n",
    "The UV index is {current['uvi']}, humidity is {current['humidity']}%.\\n\\\r\n",
    "The pressure is {current['pressure']} hPa, percentage of cloud cover is {current['clouds']}%\\n\\\r\n",
    "The wind comes from {degrees_to_cardinal(current['wind_deg'])} direction with a speed {current['wind_speed']} m/s.\")"
   ]
  },
  {
   "cell_type": "code",
   "execution_count": 8,
   "metadata": {
    "execution": {
     "iopub.execute_input": "2021-10-23T07:11:38.519362Z",
     "iopub.status.busy": "2021-10-23T07:11:38.518381Z",
     "iopub.status.idle": "2021-10-23T07:11:38.525485Z",
     "shell.execute_reply": "2021-10-23T07:11:38.525969Z"
    }
   },
   "outputs": [],
   "source": [
    "df_hourly = pd.DataFrame(data['hourly'])\r\n",
    "df_daily = pd.DataFrame(data['daily'])"
   ]
  },
  {
   "cell_type": "code",
   "execution_count": 9,
   "metadata": {
    "execution": {
     "iopub.execute_input": "2021-10-23T07:11:38.529313Z",
     "iopub.status.busy": "2021-10-23T07:11:38.528533Z",
     "iopub.status.idle": "2021-10-23T07:11:38.886811Z",
     "shell.execute_reply": "2021-10-23T07:11:38.886243Z"
    }
   },
   "outputs": [
    {
     "data": {
      "image/png": "[encoded data removed]",
      "text/plain": [
       "<Figure size 864x432 with 1 Axes>"
      ]
     },
     "metadata": {
      "needs_background": "light"
     },
     "output_type": "display_data"
    }
   ],
   "source": [
    "fig, ax = plt.subplots(figsize=(12, 6))\r\n",
    "plt.plot(df_hourly.temp, '.-', label='Temperature')\r\n",
    "plt.plot(df_hourly.feels_like, '.-', label='Feels Like')\r\n",
    "ax.set(title='Temperature in future 48 hours', xlabel='Time', ylabel='Temperature')\r\n",
    "ax.set_xticks(list(range(0, len(df_hourly), 2)))\r\n",
    "ax.set_xticklabels([ts2dt(ts, '%m-%d %H:%M')[0] for i, ts in enumerate(df_hourly.dt) if i%2==0], \r\n",
    "                   rotation=45, ha=\"right\")\r\n",
    "ax.locator_params(nbins=15, axis='y')\r\n",
    "plt.legend()\r\n",
    "plt.show()"
   ]
  },
  {
   "cell_type": "code",
   "execution_count": 10,
   "metadata": {
    "execution": {
     "iopub.execute_input": "2021-10-23T07:11:38.892971Z",
     "iopub.status.busy": "2021-10-23T07:11:38.892190Z",
     "iopub.status.idle": "2021-10-23T07:11:38.915318Z",
     "shell.execute_reply": "2021-10-23T07:11:38.915853Z"
    }
   },
   "outputs": [
    {
     "data": {
      "text/html": [
       "<div>\n",
       "<style scoped>\n",
       "    .dataframe tbody tr th:only-of-type {\n",
       "        vertical-align: middle;\n",
       "    }\n",
       "\n",
       "    .dataframe tbody tr th {\n",
       "        vertical-align: top;\n",
       "    }\n",
       "\n",
       "    .dataframe thead th {\n",
       "        text-align: right;\n",
       "    }\n",
       "</style>\n",
       "<table border=\"1\" class=\"dataframe\">\n",
       "  <thead>\n",
       "    <tr style=\"text-align: right;\">\n",
       "      <th></th>\n",
       "      <th>dt</th>\n",
       "      <th>temp</th>\n",
       "      <th>feels_like</th>\n",
       "      <th>pressure</th>\n",
       "      <th>humidity</th>\n",
       "      <th>dew_point</th>\n",
       "      <th>uvi</th>\n",
       "      <th>clouds</th>\n",
       "      <th>visibility</th>\n",
       "      <th>wind_speed</th>\n",
       "      <th>wind_deg</th>\n",
       "      <th>wind_gust</th>\n",
       "      <th>weather</th>\n",
       "      <th>pop</th>\n",
       "    </tr>\n",
       "  </thead>\n",
       "  <tbody>\n",
       "    <tr>\n",
       "      <th>0</th>\n",
       "      <td>1634972400</td>\n",
       "      <td>22.92</td>\n",
       "      <td>23.23</td>\n",
       "      <td>1017</td>\n",
       "      <td>75</td>\n",
       "      <td>18.26</td>\n",
       "      <td>3.88</td>\n",
       "      <td>41</td>\n",
       "      <td>10000</td>\n",
       "      <td>2.77</td>\n",
       "      <td>45</td>\n",
       "      <td>2.85</td>\n",
       "      <td>[{'id': 802, 'main': 'Clouds', 'description': ...</td>\n",
       "      <td>0.0</td>\n",
       "    </tr>\n",
       "    <tr>\n",
       "      <th>1</th>\n",
       "      <td>1634976000</td>\n",
       "      <td>22.93</td>\n",
       "      <td>23.16</td>\n",
       "      <td>1017</td>\n",
       "      <td>72</td>\n",
       "      <td>17.62</td>\n",
       "      <td>1.78</td>\n",
       "      <td>42</td>\n",
       "      <td>10000</td>\n",
       "      <td>2.98</td>\n",
       "      <td>56</td>\n",
       "      <td>3.06</td>\n",
       "      <td>[{'id': 802, 'main': 'Clouds', 'description': ...</td>\n",
       "      <td>0.0</td>\n",
       "    </tr>\n",
       "    <tr>\n",
       "      <th>2</th>\n",
       "      <td>1634979600</td>\n",
       "      <td>22.74</td>\n",
       "      <td>22.92</td>\n",
       "      <td>1018</td>\n",
       "      <td>71</td>\n",
       "      <td>17.21</td>\n",
       "      <td>0.48</td>\n",
       "      <td>43</td>\n",
       "      <td>10000</td>\n",
       "      <td>3.20</td>\n",
       "      <td>59</td>\n",
       "      <td>3.33</td>\n",
       "      <td>[{'id': 802, 'main': 'Clouds', 'description': ...</td>\n",
       "      <td>0.0</td>\n",
       "    </tr>\n",
       "    <tr>\n",
       "      <th>3</th>\n",
       "      <td>1634983200</td>\n",
       "      <td>22.15</td>\n",
       "      <td>22.30</td>\n",
       "      <td>1018</td>\n",
       "      <td>72</td>\n",
       "      <td>16.87</td>\n",
       "      <td>0.00</td>\n",
       "      <td>41</td>\n",
       "      <td>10000</td>\n",
       "      <td>3.24</td>\n",
       "      <td>53</td>\n",
       "      <td>3.46</td>\n",
       "      <td>[{'id': 802, 'main': 'Clouds', 'description': ...</td>\n",
       "      <td>0.0</td>\n",
       "    </tr>\n",
       "    <tr>\n",
       "      <th>4</th>\n",
       "      <td>1634986800</td>\n",
       "      <td>21.50</td>\n",
       "      <td>21.59</td>\n",
       "      <td>1019</td>\n",
       "      <td>72</td>\n",
       "      <td>16.24</td>\n",
       "      <td>0.00</td>\n",
       "      <td>37</td>\n",
       "      <td>10000</td>\n",
       "      <td>3.39</td>\n",
       "      <td>37</td>\n",
       "      <td>3.58</td>\n",
       "      <td>[{'id': 802, 'main': 'Clouds', 'description': ...</td>\n",
       "      <td>0.0</td>\n",
       "    </tr>\n",
       "  </tbody>\n",
       "</table>\n",
       "</div>"
      ],
      "text/plain": [
       "           dt   temp  feels_like  pressure  humidity  dew_point   uvi  clouds  \\\n",
       "0  1634972400  22.92       23.23      1017        75      18.26  3.88      41   \n",
       "1  1634976000  22.93       23.16      1017        72      17.62  1.78      42   \n",
       "2  1634979600  22.74       22.92      1018        71      17.21  0.48      43   \n",
       "3  1634983200  22.15       22.30      1018        72      16.87  0.00      41   \n",
       "4  1634986800  21.50       21.59      1019        72      16.24  0.00      37   \n",
       "\n",
       "   visibility  wind_speed  wind_deg  wind_gust  \\\n",
       "0       10000        2.77        45       2.85   \n",
       "1       10000        2.98        56       3.06   \n",
       "2       10000        3.20        59       3.33   \n",
       "3       10000        3.24        53       3.46   \n",
       "4       10000        3.39        37       3.58   \n",
       "\n",
       "                                             weather  pop  \n",
       "0  [{'id': 802, 'main': 'Clouds', 'description': ...  0.0  \n",
       "1  [{'id': 802, 'main': 'Clouds', 'description': ...  0.0  \n",
       "2  [{'id': 802, 'main': 'Clouds', 'description': ...  0.0  \n",
       "3  [{'id': 802, 'main': 'Clouds', 'description': ...  0.0  \n",
       "4  [{'id': 802, 'main': 'Clouds', 'description': ...  0.0  "
      ]
     },
     "execution_count": 10,
     "metadata": {},
     "output_type": "execute_result"
    }
   ],
   "source": [
    "df_hourly.head()"
   ]
  },
  {
   "cell_type": "code",
   "execution_count": null,
   "metadata": {},
   "outputs": [],
   "source": []
  }
 ],
 "metadata": {
  "interpreter": {
   "hash": "c1b4cfe941b6d2466ad1fb5979e97da9cda8801728c8091b097ab734208fc00c"
  },
  "kernelspec": {
   "display_name": "Python 3.8.3 64-bit ('base': conda)",
   "name": "python3"
  },
  "language_info": {
   "codemirror_mode": {
    "name": "ipython",
    "version": 3
   },
   "file_extension": ".py",
   "mimetype": "text/x-python",
   "name": "python",
   "nbconvert_exporter": "python",
   "pygments_lexer": "ipython3",
   "version": "3.8.12"
  }
 },
 "nbformat": 4,
 "nbformat_minor": 2
}
