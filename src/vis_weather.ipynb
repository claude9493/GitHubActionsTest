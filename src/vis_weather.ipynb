{
 "cells": [
  {
   "cell_type": "code",
   "execution_count": 1,
   "metadata": {
    "execution": {
     "iopub.execute_input": "2021-09-06T08:18:29.061647Z",
     "iopub.status.busy": "2021-09-06T08:18:29.060849Z",
     "iopub.status.idle": "2021-09-06T08:18:31.841428Z",
     "shell.execute_reply": "2021-09-06T08:18:31.840400Z"
    }
   },
   "outputs": [],
   "source": [
    "import json, yaml, requests\r\n",
    "from datetime import datetime\r\n",
    "from dateutil import tz\r\n",
    "import pandas as pd\r\n",
    "from PIL import Image\r\n",
    "from io import BytesIO\r\n",
    "import matplotlib.pyplot as plt\r\n",
    "import seaborn\r\n",
    "\r\n",
    "CONFIG_PATH = \"../config/config.yaml\""
   ]
  },
  {
   "cell_type": "code",
   "execution_count": 2,
   "metadata": {
    "execution": {
     "iopub.execute_input": "2021-09-06T08:18:31.847097Z",
     "iopub.status.busy": "2021-09-06T08:18:31.844125Z",
     "iopub.status.idle": "2021-09-06T08:18:31.852652Z",
     "shell.execute_reply": "2021-09-06T08:18:31.852208Z"
    }
   },
   "outputs": [],
   "source": [
    "with open('../newest_ts', 'r') as f:\r\n",
    "    newest_ts = f.read()\r\n",
    "\r\n",
    "data_path = f\"../data/data_{newest_ts}.json\"\r\n",
    "with open(data_path, 'r') as f:\r\n",
    "    data = json.load(f)\r\n",
    "\r\n",
    "with open(CONFIG_PATH, \"r\") as stream:\r\n",
    "    config = yaml.safe_load(stream)\r\n",
    "\r\n",
    "TIME_ZONE = config['time_zone']\r\n",
    "DATETIME_FORMAT = config['dt_format']"
   ]
  },
  {
   "cell_type": "code",
   "execution_count": 3,
   "metadata": {
    "execution": {
     "iopub.execute_input": "2021-09-06T08:18:31.857155Z",
     "iopub.status.busy": "2021-09-06T08:18:31.856605Z",
     "iopub.status.idle": "2021-09-06T08:18:31.868103Z",
     "shell.execute_reply": "2021-09-06T08:18:31.868768Z"
    }
   },
   "outputs": [
    {
     "name": "stdout",
     "output_type": "stream",
     "text": [
      "Recent query happens at 2021-09-06 16:18:25 (CST).\n"
     ]
    }
   ],
   "source": [
    "def ts2dt(ts, format=DATETIME_FORMAT):\r\n",
    "    dt = (datetime.utcfromtimestamp(int(ts))\r\n",
    "                    .replace(tzinfo=tz.tzutc())\r\n",
    "                    # .astimezone(tz.tzlocal())\r\n",
    "                    .astimezone(tz.gettz(TIME_ZONE)))\r\n",
    "    return dt.strftime(format), dt\r\n",
    "\r\n",
    "_, newest_dt = ts2dt(newest_ts)\r\n",
    "print(f\"Recent query happens at {newest_dt.strftime(DATETIME_FORMAT)} ({newest_dt.tzname()}).\")"
   ]
  },
  {
   "cell_type": "code",
   "execution_count": 4,
   "metadata": {
    "execution": {
     "iopub.execute_input": "2021-09-06T08:18:31.874440Z",
     "iopub.status.busy": "2021-09-06T08:18:31.873148Z",
     "iopub.status.idle": "2021-09-06T08:18:31.875053Z",
     "shell.execute_reply": "2021-09-06T08:18:31.875518Z"
    }
   },
   "outputs": [],
   "source": [
    "def degrees_to_cardinal(d):\r\n",
    "  dirs = ['N', 'NNE', 'NE', 'ENE', 'E', 'ESE', 'SE', 'SSE', 'S', 'SSW', 'SW', 'WSW', 'W', 'WNW', 'NW', 'NNW']\r\n",
    "  ix = int(round(d / (360. / len(dirs))))\r\n",
    "  return dirs[ix % len(dirs)]"
   ]
  },
  {
   "cell_type": "code",
   "execution_count": 5,
   "metadata": {
    "execution": {
     "iopub.execute_input": "2021-09-06T08:18:31.880448Z",
     "iopub.status.busy": "2021-09-06T08:18:31.879221Z",
     "iopub.status.idle": "2021-09-06T08:18:31.881044Z",
     "shell.execute_reply": "2021-09-06T08:18:31.881530Z"
    }
   },
   "outputs": [],
   "source": [
    "# data.keys()"
   ]
  },
  {
   "cell_type": "code",
   "execution_count": 6,
   "metadata": {
    "execution": {
     "iopub.execute_input": "2021-09-06T08:18:31.885651Z",
     "iopub.status.busy": "2021-09-06T08:18:31.884391Z",
     "iopub.status.idle": "2021-09-06T08:18:31.886283Z",
     "shell.execute_reply": "2021-09-06T08:18:31.886776Z"
    }
   },
   "outputs": [],
   "source": [
    "# data['current']"
   ]
  },
  {
   "cell_type": "code",
   "execution_count": 7,
   "metadata": {
    "execution": {
     "iopub.execute_input": "2021-09-06T08:18:31.908912Z",
     "iopub.status.busy": "2021-09-06T08:18:31.908205Z",
     "iopub.status.idle": "2021-09-06T08:18:32.583426Z",
     "shell.execute_reply": "2021-09-06T08:18:32.584144Z"
    }
   },
   "outputs": [
    {
     "data": {
      "image/png": "[encoded data removed]",
      "text/plain": [
       "<Figure size 216x216 with 1 Axes>"
      ]
     },
     "metadata": {
      "needs_background": "light"
     },
     "output_type": "display_data"
    },
    {
     "name": "stdout",
     "output_type": "stream",
     "text": [
      "Today, sun rises at 06:07 and sets at 18:35.\n",
      "Currently, the weather is Clouds (scattered clouds).\n",
      "The temperature is 31.54°C and it feels like 38.54°C.\n",
      "The UV index is 3.18, humidity is 74%.\n",
      "The pressure is 1009 hPa, percentage of cloud cover is 44%\n",
      "The wind comes from E direction with a speed 4.28 m/s.\n"
     ]
    }
   ],
   "source": [
    "current = data['current']\r\n",
    "\r\n",
    "fig, ax = plt.subplots(figsize=(3, 3))\r\n",
    "icon = requests.get(f\"http://openweathermap.org/img/wn/{current['weather'][0]['icon']}@2x.png\")\r\n",
    "im = Image.open(BytesIO(icon.content))\r\n",
    "plt.imshow(im)\r\n",
    "ax.set_axis_off()\r\n",
    "plt.show()\r\n",
    "\r\n",
    "print(f\"Today, sun rises at {ts2dt(current['sunrise'], '%H:%M')[0]} \\\r\n",
    "and sets at {ts2dt(current['sunset'], '%H:%M')[0]}.\\n\\\r\n",
    "Currently, the weather is {current['weather'][0]['main']} ({current['weather'][0]['description']}).\\n\\\r\n",
    "The temperature is {current['temp']}°C and it feels like {current['feels_like']}°C.\\n\\\r\n",
    "The UV index is {current['uvi']}, humidity is {current['humidity']}%.\\n\\\r\n",
    "The pressure is {current['pressure']} hPa, percentage of cloud cover is {current['clouds']}%\\n\\\r\n",
    "The wind comes from {degrees_to_cardinal(current['wind_deg'])} direction with a speed {current['wind_speed']} m/s.\")"
   ]
  },
  {
   "cell_type": "code",
   "execution_count": 8,
   "metadata": {
    "execution": {
     "iopub.execute_input": "2021-09-06T08:18:32.587835Z",
     "iopub.status.busy": "2021-09-06T08:18:32.587216Z",
     "iopub.status.idle": "2021-09-06T08:18:32.594522Z",
     "shell.execute_reply": "2021-09-06T08:18:32.595246Z"
    }
   },
   "outputs": [],
   "source": [
    "df_hourly = pd.DataFrame(data['hourly'])\r\n",
    "df_daily = pd.DataFrame(data['daily'])"
   ]
  },
  {
   "cell_type": "code",
   "execution_count": 9,
   "metadata": {
    "execution": {
     "iopub.execute_input": "2021-09-06T08:18:32.598905Z",
     "iopub.status.busy": "2021-09-06T08:18:32.597794Z",
     "iopub.status.idle": "2021-09-06T08:18:32.993003Z",
     "shell.execute_reply": "2021-09-06T08:18:32.992337Z"
    }
   },
   "outputs": [
    {
     "data": {
      "image/png": "[encoded data removed]",
      "text/plain": [
       "<Figure size 864x432 with 1 Axes>"
      ]
     },
     "metadata": {
      "needs_background": "light"
     },
     "output_type": "display_data"
    }
   ],
   "source": [
    "fig, ax = plt.subplots(figsize=(12, 6))\r\n",
    "plt.plot(df_hourly.temp, '.-', label='Temperature')\r\n",
    "plt.plot(df_hourly.feels_like, '.-', label='Feels Like')\r\n",
    "ax.set(title='Temperature in future 48 hours', xlabel='Time', ylabel='Temperature')\r\n",
    "ax.set_xticks(list(range(0, len(df_hourly), 2)))\r\n",
    "ax.set_xticklabels([ts2dt(ts, '%m-%d %H:%M')[0] for i, ts in enumerate(df_hourly.dt) if i%2==0], \r\n",
    "                   rotation=45, ha=\"right\")\r\n",
    "ax.locator_params(nbins=15, axis='y')\r\n",
    "plt.legend()\r\n",
    "plt.show()"
   ]
  },
  {
   "cell_type": "code",
   "execution_count": 10,
   "metadata": {
    "execution": {
     "iopub.execute_input": "2021-09-06T08:18:33.006765Z",
     "iopub.status.busy": "2021-09-06T08:18:32.997086Z",
     "iopub.status.idle": "2021-09-06T08:18:33.028105Z",
     "shell.execute_reply": "2021-09-06T08:18:33.027621Z"
    }
   },
   "outputs": [
    {
     "data": {
      "text/html": [
       "<div>\n",
       "<style scoped>\n",
       "    .dataframe tbody tr th:only-of-type {\n",
       "        vertical-align: middle;\n",
       "    }\n",
       "\n",
       "    .dataframe tbody tr th {\n",
       "        vertical-align: top;\n",
       "    }\n",
       "\n",
       "    .dataframe thead th {\n",
       "        text-align: right;\n",
       "    }\n",
       "</style>\n",
       "<table border=\"1\" class=\"dataframe\">\n",
       "  <thead>\n",
       "    <tr style=\"text-align: right;\">\n",
       "      <th></th>\n",
       "      <th>dt</th>\n",
       "      <th>temp</th>\n",
       "      <th>feels_like</th>\n",
       "      <th>pressure</th>\n",
       "      <th>humidity</th>\n",
       "      <th>dew_point</th>\n",
       "      <th>uvi</th>\n",
       "      <th>clouds</th>\n",
       "      <th>visibility</th>\n",
       "      <th>wind_speed</th>\n",
       "      <th>wind_deg</th>\n",
       "      <th>wind_gust</th>\n",
       "      <th>weather</th>\n",
       "      <th>pop</th>\n",
       "      <th>rain</th>\n",
       "    </tr>\n",
       "  </thead>\n",
       "  <tbody>\n",
       "    <tr>\n",
       "      <th>0</th>\n",
       "      <td>1630915200</td>\n",
       "      <td>31.54</td>\n",
       "      <td>38.54</td>\n",
       "      <td>1009</td>\n",
       "      <td>74</td>\n",
       "      <td>26.34</td>\n",
       "      <td>3.18</td>\n",
       "      <td>44</td>\n",
       "      <td>10000</td>\n",
       "      <td>4.28</td>\n",
       "      <td>95</td>\n",
       "      <td>5.38</td>\n",
       "      <td>[{'id': 500, 'main': 'Rain', 'description': 'l...</td>\n",
       "      <td>0.53</td>\n",
       "      <td>{'1h': 0.3}</td>\n",
       "    </tr>\n",
       "    <tr>\n",
       "      <th>1</th>\n",
       "      <td>1630918800</td>\n",
       "      <td>31.11</td>\n",
       "      <td>38.11</td>\n",
       "      <td>1009</td>\n",
       "      <td>75</td>\n",
       "      <td>26.15</td>\n",
       "      <td>1.11</td>\n",
       "      <td>43</td>\n",
       "      <td>10000</td>\n",
       "      <td>4.24</td>\n",
       "      <td>90</td>\n",
       "      <td>5.59</td>\n",
       "      <td>[{'id': 802, 'main': 'Clouds', 'description': ...</td>\n",
       "      <td>0.46</td>\n",
       "      <td>NaN</td>\n",
       "    </tr>\n",
       "    <tr>\n",
       "      <th>2</th>\n",
       "      <td>1630922400</td>\n",
       "      <td>30.44</td>\n",
       "      <td>37.44</td>\n",
       "      <td>1009</td>\n",
       "      <td>76</td>\n",
       "      <td>25.73</td>\n",
       "      <td>0.19</td>\n",
       "      <td>41</td>\n",
       "      <td>10000</td>\n",
       "      <td>4.28</td>\n",
       "      <td>88</td>\n",
       "      <td>6.05</td>\n",
       "      <td>[{'id': 802, 'main': 'Clouds', 'description': ...</td>\n",
       "      <td>0.50</td>\n",
       "      <td>NaN</td>\n",
       "    </tr>\n",
       "    <tr>\n",
       "      <th>3</th>\n",
       "      <td>1630926000</td>\n",
       "      <td>29.42</td>\n",
       "      <td>35.94</td>\n",
       "      <td>1009</td>\n",
       "      <td>80</td>\n",
       "      <td>25.60</td>\n",
       "      <td>0.00</td>\n",
       "      <td>37</td>\n",
       "      <td>10000</td>\n",
       "      <td>4.18</td>\n",
       "      <td>87</td>\n",
       "      <td>6.34</td>\n",
       "      <td>[{'id': 500, 'main': 'Rain', 'description': 'l...</td>\n",
       "      <td>0.58</td>\n",
       "      <td>{'1h': 0.64}</td>\n",
       "    </tr>\n",
       "    <tr>\n",
       "      <th>4</th>\n",
       "      <td>1630929600</td>\n",
       "      <td>28.66</td>\n",
       "      <td>34.41</td>\n",
       "      <td>1009</td>\n",
       "      <td>83</td>\n",
       "      <td>25.48</td>\n",
       "      <td>0.00</td>\n",
       "      <td>38</td>\n",
       "      <td>10000</td>\n",
       "      <td>4.36</td>\n",
       "      <td>91</td>\n",
       "      <td>6.91</td>\n",
       "      <td>[{'id': 500, 'main': 'Rain', 'description': 'l...</td>\n",
       "      <td>0.70</td>\n",
       "      <td>{'1h': 0.27}</td>\n",
       "    </tr>\n",
       "  </tbody>\n",
       "</table>\n",
       "</div>"
      ],
      "text/plain": [
       "           dt   temp  feels_like  pressure  humidity  dew_point   uvi  clouds  \\\n",
       "0  1630915200  31.54       38.54      1009        74      26.34  3.18      44   \n",
       "1  1630918800  31.11       38.11      1009        75      26.15  1.11      43   \n",
       "2  1630922400  30.44       37.44      1009        76      25.73  0.19      41   \n",
       "3  1630926000  29.42       35.94      1009        80      25.60  0.00      37   \n",
       "4  1630929600  28.66       34.41      1009        83      25.48  0.00      38   \n",
       "\n",
       "   visibility  wind_speed  wind_deg  wind_gust  \\\n",
       "0       10000        4.28        95       5.38   \n",
       "1       10000        4.24        90       5.59   \n",
       "2       10000        4.28        88       6.05   \n",
       "3       10000        4.18        87       6.34   \n",
       "4       10000        4.36        91       6.91   \n",
       "\n",
       "                                             weather   pop          rain  \n",
       "0  [{'id': 500, 'main': 'Rain', 'description': 'l...  0.53   {'1h': 0.3}  \n",
       "1  [{'id': 802, 'main': 'Clouds', 'description': ...  0.46           NaN  \n",
       "2  [{'id': 802, 'main': 'Clouds', 'description': ...  0.50           NaN  \n",
       "3  [{'id': 500, 'main': 'Rain', 'description': 'l...  0.58  {'1h': 0.64}  \n",
       "4  [{'id': 500, 'main': 'Rain', 'description': 'l...  0.70  {'1h': 0.27}  "
      ]
     },
     "execution_count": 10,
     "metadata": {},
     "output_type": "execute_result"
    }
   ],
   "source": [
    "df_hourly.head()"
   ]
  },
  {
   "cell_type": "code",
   "execution_count": null,
   "metadata": {},
   "outputs": [],
   "source": []
  }
 ],
 "metadata": {
  "interpreter": {
   "hash": "c1b4cfe941b6d2466ad1fb5979e97da9cda8801728c8091b097ab734208fc00c"
  },
  "kernelspec": {
   "display_name": "Python 3.8.3 64-bit ('base': conda)",
   "name": "python3"
  },
  "language_info": {
   "codemirror_mode": {
    "name": "ipython",
    "version": 3
   },
   "file_extension": ".py",
   "mimetype": "text/x-python",
   "name": "python",
   "nbconvert_exporter": "python",
   "pygments_lexer": "ipython3",
   "version": "3.8.11"
  }
 },
 "nbformat": 4,
 "nbformat_minor": 2
}
