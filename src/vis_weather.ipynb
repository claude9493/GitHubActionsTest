{
 "cells": [
  {
   "cell_type": "code",
   "execution_count": 1,
   "metadata": {
    "execution": {
     "iopub.execute_input": "2021-10-11T12:18:19.147362Z",
     "iopub.status.busy": "2021-10-11T12:18:19.146667Z",
     "iopub.status.idle": "2021-10-11T12:18:20.480265Z",
     "shell.execute_reply": "2021-10-11T12:18:20.480834Z"
    }
   },
   "outputs": [],
   "source": [
    "import json, yaml, requests\r\n",
    "from datetime import datetime\r\n",
    "from dateutil import tz\r\n",
    "import pandas as pd\r\n",
    "from PIL import Image\r\n",
    "from io import BytesIO\r\n",
    "import matplotlib.pyplot as plt\r\n",
    "import seaborn\r\n",
    "\r\n",
    "CONFIG_PATH = \"../config/config.yaml\""
   ]
  },
  {
   "cell_type": "code",
   "execution_count": 2,
   "metadata": {
    "execution": {
     "iopub.execute_input": "2021-10-11T12:18:20.486659Z",
     "iopub.status.busy": "2021-10-11T12:18:20.485520Z",
     "iopub.status.idle": "2021-10-11T12:18:20.491505Z",
     "shell.execute_reply": "2021-10-11T12:18:20.490709Z"
    }
   },
   "outputs": [],
   "source": [
    "with open('../newest_ts', 'r') as f:\r\n",
    "    newest_ts = f.read()\r\n",
    "\r\n",
    "data_path = f\"../data/data_{newest_ts}.json\"\r\n",
    "with open(data_path, 'r') as f:\r\n",
    "    data = json.load(f)\r\n",
    "\r\n",
    "with open(CONFIG_PATH, \"r\") as stream:\r\n",
    "    config = yaml.safe_load(stream)\r\n",
    "\r\n",
    "TIME_ZONE = config['time_zone']\r\n",
    "DATETIME_FORMAT = config['dt_format']"
   ]
  },
  {
   "cell_type": "code",
   "execution_count": 3,
   "metadata": {
    "execution": {
     "iopub.execute_input": "2021-10-11T12:18:20.496390Z",
     "iopub.status.busy": "2021-10-11T12:18:20.495782Z",
     "iopub.status.idle": "2021-10-11T12:18:20.511296Z",
     "shell.execute_reply": "2021-10-11T12:18:20.512324Z"
    }
   },
   "outputs": [
    {
     "name": "stdout",
     "output_type": "stream",
     "text": [
      "Recent query happens at 2021-10-11 20:18:15 (CST).\n"
     ]
    }
   ],
   "source": [
    "def ts2dt(ts, format=DATETIME_FORMAT):\r\n",
    "    dt = (datetime.utcfromtimestamp(int(ts))\r\n",
    "                    .replace(tzinfo=tz.tzutc())\r\n",
    "                    # .astimezone(tz.tzlocal())\r\n",
    "                    .astimezone(tz.gettz(TIME_ZONE)))\r\n",
    "    return dt.strftime(format), dt\r\n",
    "\r\n",
    "_, newest_dt = ts2dt(newest_ts)\r\n",
    "print(f\"Recent query happens at {newest_dt.strftime(DATETIME_FORMAT)} ({newest_dt.tzname()}).\")"
   ]
  },
  {
   "cell_type": "code",
   "execution_count": 4,
   "metadata": {
    "execution": {
     "iopub.execute_input": "2021-10-11T12:18:20.517396Z",
     "iopub.status.busy": "2021-10-11T12:18:20.516830Z",
     "iopub.status.idle": "2021-10-11T12:18:20.520892Z",
     "shell.execute_reply": "2021-10-11T12:18:20.520370Z"
    }
   },
   "outputs": [],
   "source": [
    "def degrees_to_cardinal(d):\r\n",
    "  dirs = ['N', 'NNE', 'NE', 'ENE', 'E', 'ESE', 'SE', 'SSE', 'S', 'SSW', 'SW', 'WSW', 'W', 'WNW', 'NW', 'NNW']\r\n",
    "  ix = int(round(d / (360. / len(dirs))))\r\n",
    "  return dirs[ix % len(dirs)]"
   ]
  },
  {
   "cell_type": "code",
   "execution_count": 5,
   "metadata": {
    "execution": {
     "iopub.execute_input": "2021-10-11T12:18:20.526733Z",
     "iopub.status.busy": "2021-10-11T12:18:20.524862Z",
     "iopub.status.idle": "2021-10-11T12:18:20.527393Z",
     "shell.execute_reply": "2021-10-11T12:18:20.527896Z"
    }
   },
   "outputs": [],
   "source": [
    "# data.keys()"
   ]
  },
  {
   "cell_type": "code",
   "execution_count": 6,
   "metadata": {
    "execution": {
     "iopub.execute_input": "2021-10-11T12:18:20.531630Z",
     "iopub.status.busy": "2021-10-11T12:18:20.531016Z",
     "iopub.status.idle": "2021-10-11T12:18:20.534594Z",
     "shell.execute_reply": "2021-10-11T12:18:20.535037Z"
    }
   },
   "outputs": [],
   "source": [
    "# data['current']"
   ]
  },
  {
   "cell_type": "code",
   "execution_count": 7,
   "metadata": {
    "execution": {
     "iopub.execute_input": "2021-10-11T12:18:20.560134Z",
     "iopub.status.busy": "2021-10-11T12:18:20.554312Z",
     "iopub.status.idle": "2021-10-11T12:18:21.103155Z",
     "shell.execute_reply": "2021-10-11T12:18:21.103883Z"
    }
   },
   "outputs": [
    {
     "data": {
      "image/png": "[encoded data removed]",
      "text/plain": [
       "<Figure size 216x216 with 1 Axes>"
      ]
     },
     "metadata": {
      "needs_background": "light"
     },
     "output_type": "display_data"
    },
    {
     "name": "stdout",
     "output_type": "stream",
     "text": [
      "Today, sun rises at 06:17 and sets at 18:01.\n",
      "Currently, the weather is Rain (light rain).\n",
      "The temperature is 27.89°C and it feels like 29.85°C.\n",
      "The UV index is 0, humidity is 65%.\n",
      "The pressure is 1004 hPa, percentage of cloud cover is 53%\n",
      "The wind comes from N direction with a speed 1.34 m/s.\n"
     ]
    }
   ],
   "source": [
    "current = data['current']\r\n",
    "\r\n",
    "fig, ax = plt.subplots(figsize=(3, 3))\r\n",
    "icon = requests.get(f\"http://openweathermap.org/img/wn/{current['weather'][0]['icon']}@2x.png\")\r\n",
    "im = Image.open(BytesIO(icon.content))\r\n",
    "plt.imshow(im)\r\n",
    "ax.set_axis_off()\r\n",
    "plt.show()\r\n",
    "\r\n",
    "print(f\"Today, sun rises at {ts2dt(current['sunrise'], '%H:%M')[0]} \\\r\n",
    "and sets at {ts2dt(current['sunset'], '%H:%M')[0]}.\\n\\\r\n",
    "Currently, the weather is {current['weather'][0]['main']} ({current['weather'][0]['description']}).\\n\\\r\n",
    "The temperature is {current['temp']}°C and it feels like {current['feels_like']}°C.\\n\\\r\n",
    "The UV index is {current['uvi']}, humidity is {current['humidity']}%.\\n\\\r\n",
    "The pressure is {current['pressure']} hPa, percentage of cloud cover is {current['clouds']}%\\n\\\r\n",
    "The wind comes from {degrees_to_cardinal(current['wind_deg'])} direction with a speed {current['wind_speed']} m/s.\")"
   ]
  },
  {
   "cell_type": "code",
   "execution_count": 8,
   "metadata": {
    "execution": {
     "iopub.execute_input": "2021-10-11T12:18:21.107473Z",
     "iopub.status.busy": "2021-10-11T12:18:21.106906Z",
     "iopub.status.idle": "2021-10-11T12:18:21.115217Z",
     "shell.execute_reply": "2021-10-11T12:18:21.115979Z"
    }
   },
   "outputs": [],
   "source": [
    "df_hourly = pd.DataFrame(data['hourly'])\r\n",
    "df_daily = pd.DataFrame(data['daily'])"
   ]
  },
  {
   "cell_type": "code",
   "execution_count": 9,
   "metadata": {
    "execution": {
     "iopub.execute_input": "2021-10-11T12:18:21.119383Z",
     "iopub.status.busy": "2021-10-11T12:18:21.118144Z",
     "iopub.status.idle": "2021-10-11T12:18:21.421330Z",
     "shell.execute_reply": "2021-10-11T12:18:21.420559Z"
    }
   },
   "outputs": [
    {
     "data": {
      "image/png": "[encoded data removed]",
      "text/plain": [
       "<Figure size 864x432 with 1 Axes>"
      ]
     },
     "metadata": {
      "needs_background": "light"
     },
     "output_type": "display_data"
    }
   ],
   "source": [
    "fig, ax = plt.subplots(figsize=(12, 6))\r\n",
    "plt.plot(df_hourly.temp, '.-', label='Temperature')\r\n",
    "plt.plot(df_hourly.feels_like, '.-', label='Feels Like')\r\n",
    "ax.set(title='Temperature in future 48 hours', xlabel='Time', ylabel='Temperature')\r\n",
    "ax.set_xticks(list(range(0, len(df_hourly), 2)))\r\n",
    "ax.set_xticklabels([ts2dt(ts, '%m-%d %H:%M')[0] for i, ts in enumerate(df_hourly.dt) if i%2==0], \r\n",
    "                   rotation=45, ha=\"right\")\r\n",
    "ax.locator_params(nbins=15, axis='y')\r\n",
    "plt.legend()\r\n",
    "plt.show()"
   ]
  },
  {
   "cell_type": "code",
   "execution_count": 10,
   "metadata": {
    "execution": {
     "iopub.execute_input": "2021-10-11T12:18:21.425923Z",
     "iopub.status.busy": "2021-10-11T12:18:21.425295Z",
     "iopub.status.idle": "2021-10-11T12:18:21.445052Z",
     "shell.execute_reply": "2021-10-11T12:18:21.445548Z"
    }
   },
   "outputs": [
    {
     "data": {
      "text/html": [
       "<div>\n",
       "<style scoped>\n",
       "    .dataframe tbody tr th:only-of-type {\n",
       "        vertical-align: middle;\n",
       "    }\n",
       "\n",
       "    .dataframe tbody tr th {\n",
       "        vertical-align: top;\n",
       "    }\n",
       "\n",
       "    .dataframe thead th {\n",
       "        text-align: right;\n",
       "    }\n",
       "</style>\n",
       "<table border=\"1\" class=\"dataframe\">\n",
       "  <thead>\n",
       "    <tr style=\"text-align: right;\">\n",
       "      <th></th>\n",
       "      <th>dt</th>\n",
       "      <th>temp</th>\n",
       "      <th>feels_like</th>\n",
       "      <th>pressure</th>\n",
       "      <th>humidity</th>\n",
       "      <th>dew_point</th>\n",
       "      <th>uvi</th>\n",
       "      <th>clouds</th>\n",
       "      <th>visibility</th>\n",
       "      <th>wind_speed</th>\n",
       "      <th>wind_deg</th>\n",
       "      <th>wind_gust</th>\n",
       "      <th>weather</th>\n",
       "      <th>pop</th>\n",
       "      <th>rain</th>\n",
       "    </tr>\n",
       "  </thead>\n",
       "  <tbody>\n",
       "    <tr>\n",
       "      <th>0</th>\n",
       "      <td>1633953600</td>\n",
       "      <td>27.89</td>\n",
       "      <td>29.85</td>\n",
       "      <td>1004</td>\n",
       "      <td>65</td>\n",
       "      <td>20.70</td>\n",
       "      <td>0.0</td>\n",
       "      <td>53</td>\n",
       "      <td>10000</td>\n",
       "      <td>8.05</td>\n",
       "      <td>357</td>\n",
       "      <td>15.91</td>\n",
       "      <td>[{'id': 803, 'main': 'Clouds', 'description': ...</td>\n",
       "      <td>0.0</td>\n",
       "      <td>NaN</td>\n",
       "    </tr>\n",
       "    <tr>\n",
       "      <th>1</th>\n",
       "      <td>1633957200</td>\n",
       "      <td>27.26</td>\n",
       "      <td>28.93</td>\n",
       "      <td>1004</td>\n",
       "      <td>66</td>\n",
       "      <td>20.35</td>\n",
       "      <td>0.0</td>\n",
       "      <td>50</td>\n",
       "      <td>10000</td>\n",
       "      <td>8.09</td>\n",
       "      <td>357</td>\n",
       "      <td>16.38</td>\n",
       "      <td>[{'id': 500, 'main': 'Rain', 'description': 'l...</td>\n",
       "      <td>0.2</td>\n",
       "      <td>{'1h': 0.49}</td>\n",
       "    </tr>\n",
       "    <tr>\n",
       "      <th>2</th>\n",
       "      <td>1633960800</td>\n",
       "      <td>26.47</td>\n",
       "      <td>26.47</td>\n",
       "      <td>1004</td>\n",
       "      <td>67</td>\n",
       "      <td>19.85</td>\n",
       "      <td>0.0</td>\n",
       "      <td>49</td>\n",
       "      <td>10000</td>\n",
       "      <td>8.10</td>\n",
       "      <td>355</td>\n",
       "      <td>16.20</td>\n",
       "      <td>[{'id': 500, 'main': 'Rain', 'description': 'l...</td>\n",
       "      <td>0.2</td>\n",
       "      <td>{'1h': 0.56}</td>\n",
       "    </tr>\n",
       "    <tr>\n",
       "      <th>3</th>\n",
       "      <td>1633964400</td>\n",
       "      <td>25.51</td>\n",
       "      <td>25.89</td>\n",
       "      <td>1005</td>\n",
       "      <td>68</td>\n",
       "      <td>19.17</td>\n",
       "      <td>0.0</td>\n",
       "      <td>57</td>\n",
       "      <td>10000</td>\n",
       "      <td>8.26</td>\n",
       "      <td>358</td>\n",
       "      <td>16.38</td>\n",
       "      <td>[{'id': 803, 'main': 'Clouds', 'description': ...</td>\n",
       "      <td>0.0</td>\n",
       "      <td>NaN</td>\n",
       "    </tr>\n",
       "    <tr>\n",
       "      <th>4</th>\n",
       "      <td>1633968000</td>\n",
       "      <td>24.42</td>\n",
       "      <td>24.75</td>\n",
       "      <td>1005</td>\n",
       "      <td>70</td>\n",
       "      <td>18.60</td>\n",
       "      <td>0.0</td>\n",
       "      <td>66</td>\n",
       "      <td>10000</td>\n",
       "      <td>8.79</td>\n",
       "      <td>355</td>\n",
       "      <td>17.09</td>\n",
       "      <td>[{'id': 803, 'main': 'Clouds', 'description': ...</td>\n",
       "      <td>0.0</td>\n",
       "      <td>NaN</td>\n",
       "    </tr>\n",
       "  </tbody>\n",
       "</table>\n",
       "</div>"
      ],
      "text/plain": [
       "           dt   temp  feels_like  pressure  humidity  dew_point  uvi  clouds  \\\n",
       "0  1633953600  27.89       29.85      1004        65      20.70  0.0      53   \n",
       "1  1633957200  27.26       28.93      1004        66      20.35  0.0      50   \n",
       "2  1633960800  26.47       26.47      1004        67      19.85  0.0      49   \n",
       "3  1633964400  25.51       25.89      1005        68      19.17  0.0      57   \n",
       "4  1633968000  24.42       24.75      1005        70      18.60  0.0      66   \n",
       "\n",
       "   visibility  wind_speed  wind_deg  wind_gust  \\\n",
       "0       10000        8.05       357      15.91   \n",
       "1       10000        8.09       357      16.38   \n",
       "2       10000        8.10       355      16.20   \n",
       "3       10000        8.26       358      16.38   \n",
       "4       10000        8.79       355      17.09   \n",
       "\n",
       "                                             weather  pop          rain  \n",
       "0  [{'id': 803, 'main': 'Clouds', 'description': ...  0.0           NaN  \n",
       "1  [{'id': 500, 'main': 'Rain', 'description': 'l...  0.2  {'1h': 0.49}  \n",
       "2  [{'id': 500, 'main': 'Rain', 'description': 'l...  0.2  {'1h': 0.56}  \n",
       "3  [{'id': 803, 'main': 'Clouds', 'description': ...  0.0           NaN  \n",
       "4  [{'id': 803, 'main': 'Clouds', 'description': ...  0.0           NaN  "
      ]
     },
     "execution_count": 10,
     "metadata": {},
     "output_type": "execute_result"
    }
   ],
   "source": [
    "df_hourly.head()"
   ]
  },
  {
   "cell_type": "code",
   "execution_count": null,
   "metadata": {},
   "outputs": [],
   "source": []
  }
 ],
 "metadata": {
  "interpreter": {
   "hash": "c1b4cfe941b6d2466ad1fb5979e97da9cda8801728c8091b097ab734208fc00c"
  },
  "kernelspec": {
   "display_name": "Python 3.8.3 64-bit ('base': conda)",
   "name": "python3"
  },
  "language_info": {
   "codemirror_mode": {
    "name": "ipython",
    "version": 3
   },
   "file_extension": ".py",
   "mimetype": "text/x-python",
   "name": "python",
   "nbconvert_exporter": "python",
   "pygments_lexer": "ipython3",
   "version": "3.8.12"
  }
 },
 "nbformat": 4,
 "nbformat_minor": 2
}
