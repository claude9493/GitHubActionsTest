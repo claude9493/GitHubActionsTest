{
 "cells": [
  {
   "cell_type": "code",
   "execution_count": 1,
   "metadata": {
    "execution": {
     "iopub.execute_input": "2021-09-22T07:11:34.561994Z",
     "iopub.status.busy": "2021-09-22T07:11:34.561357Z",
     "iopub.status.idle": "2021-09-22T07:11:37.402347Z",
     "shell.execute_reply": "2021-09-22T07:11:37.401800Z"
    }
   },
   "outputs": [],
   "source": [
    "import json, yaml, requests\r\n",
    "from datetime import datetime\r\n",
    "from dateutil import tz\r\n",
    "import pandas as pd\r\n",
    "from PIL import Image\r\n",
    "from io import BytesIO\r\n",
    "import matplotlib.pyplot as plt\r\n",
    "import seaborn\r\n",
    "\r\n",
    "CONFIG_PATH = \"../config/config.yaml\""
   ]
  },
  {
   "cell_type": "code",
   "execution_count": 2,
   "metadata": {
    "execution": {
     "iopub.execute_input": "2021-09-22T07:11:37.407741Z",
     "iopub.status.busy": "2021-09-22T07:11:37.407232Z",
     "iopub.status.idle": "2021-09-22T07:11:37.411673Z",
     "shell.execute_reply": "2021-09-22T07:11:37.412068Z"
    }
   },
   "outputs": [],
   "source": [
    "with open('../newest_ts', 'r') as f:\r\n",
    "    newest_ts = f.read()\r\n",
    "\r\n",
    "data_path = f\"../data/data_{newest_ts}.json\"\r\n",
    "with open(data_path, 'r') as f:\r\n",
    "    data = json.load(f)\r\n",
    "\r\n",
    "with open(CONFIG_PATH, \"r\") as stream:\r\n",
    "    config = yaml.safe_load(stream)\r\n",
    "\r\n",
    "TIME_ZONE = config['time_zone']\r\n",
    "DATETIME_FORMAT = config['dt_format']"
   ]
  },
  {
   "cell_type": "code",
   "execution_count": 3,
   "metadata": {
    "execution": {
     "iopub.execute_input": "2021-09-22T07:11:37.417046Z",
     "iopub.status.busy": "2021-09-22T07:11:37.416469Z",
     "iopub.status.idle": "2021-09-22T07:11:37.427605Z",
     "shell.execute_reply": "2021-09-22T07:11:37.428031Z"
    }
   },
   "outputs": [
    {
     "name": "stdout",
     "output_type": "stream",
     "text": [
      "Recent query happens at 2021-09-22 15:11:31 (CST).\n"
     ]
    }
   ],
   "source": [
    "def ts2dt(ts, format=DATETIME_FORMAT):\r\n",
    "    dt = (datetime.utcfromtimestamp(int(ts))\r\n",
    "                    .replace(tzinfo=tz.tzutc())\r\n",
    "                    # .astimezone(tz.tzlocal())\r\n",
    "                    .astimezone(tz.gettz(TIME_ZONE)))\r\n",
    "    return dt.strftime(format), dt\r\n",
    "\r\n",
    "_, newest_dt = ts2dt(newest_ts)\r\n",
    "print(f\"Recent query happens at {newest_dt.strftime(DATETIME_FORMAT)} ({newest_dt.tzname()}).\")"
   ]
  },
  {
   "cell_type": "code",
   "execution_count": 4,
   "metadata": {
    "execution": {
     "iopub.execute_input": "2021-09-22T07:11:37.434126Z",
     "iopub.status.busy": "2021-09-22T07:11:37.432646Z",
     "iopub.status.idle": "2021-09-22T07:11:37.434876Z",
     "shell.execute_reply": "2021-09-22T07:11:37.435432Z"
    }
   },
   "outputs": [],
   "source": [
    "def degrees_to_cardinal(d):\r\n",
    "  dirs = ['N', 'NNE', 'NE', 'ENE', 'E', 'ESE', 'SE', 'SSE', 'S', 'SSW', 'SW', 'WSW', 'W', 'WNW', 'NW', 'NNW']\r\n",
    "  ix = int(round(d / (360. / len(dirs))))\r\n",
    "  return dirs[ix % len(dirs)]"
   ]
  },
  {
   "cell_type": "code",
   "execution_count": 5,
   "metadata": {
    "execution": {
     "iopub.execute_input": "2021-09-22T07:11:37.440029Z",
     "iopub.status.busy": "2021-09-22T07:11:37.438756Z",
     "iopub.status.idle": "2021-09-22T07:11:37.440593Z",
     "shell.execute_reply": "2021-09-22T07:11:37.441006Z"
    }
   },
   "outputs": [],
   "source": [
    "# data.keys()"
   ]
  },
  {
   "cell_type": "code",
   "execution_count": 6,
   "metadata": {
    "execution": {
     "iopub.execute_input": "2021-09-22T07:11:37.446025Z",
     "iopub.status.busy": "2021-09-22T07:11:37.444410Z",
     "iopub.status.idle": "2021-09-22T07:11:37.446745Z",
     "shell.execute_reply": "2021-09-22T07:11:37.447161Z"
    }
   },
   "outputs": [],
   "source": [
    "# data['current']"
   ]
  },
  {
   "cell_type": "code",
   "execution_count": 7,
   "metadata": {
    "execution": {
     "iopub.execute_input": "2021-09-22T07:11:37.467228Z",
     "iopub.status.busy": "2021-09-22T07:11:37.453721Z",
     "iopub.status.idle": "2021-09-22T07:11:37.905092Z",
     "shell.execute_reply": "2021-09-22T07:11:37.905624Z"
    }
   },
   "outputs": [
    {
     "data": {
      "image/png": "[encoded data removed]",
      "text/plain": [
       "<Figure size 216x216 with 1 Axes>"
      ]
     },
     "metadata": {
      "needs_background": "light"
     },
     "output_type": "display_data"
    },
    {
     "name": "stdout",
     "output_type": "stream",
     "text": [
      "Today, sun rises at 06:11 and sets at 18:19.\n",
      "Currently, the weather is Clouds (scattered clouds).\n",
      "The temperature is 34.14°C and it feels like 41.14°C.\n",
      "The UV index is 5.33, humidity is 67%.\n",
      "The pressure is 1009 hPa, percentage of cloud cover is 44%\n",
      "The wind comes from ESE direction with a speed 4.14 m/s.\n"
     ]
    }
   ],
   "source": [
    "current = data['current']\r\n",
    "\r\n",
    "fig, ax = plt.subplots(figsize=(3, 3))\r\n",
    "icon = requests.get(f\"http://openweathermap.org/img/wn/{current['weather'][0]['icon']}@2x.png\")\r\n",
    "im = Image.open(BytesIO(icon.content))\r\n",
    "plt.imshow(im)\r\n",
    "ax.set_axis_off()\r\n",
    "plt.show()\r\n",
    "\r\n",
    "print(f\"Today, sun rises at {ts2dt(current['sunrise'], '%H:%M')[0]} \\\r\n",
    "and sets at {ts2dt(current['sunset'], '%H:%M')[0]}.\\n\\\r\n",
    "Currently, the weather is {current['weather'][0]['main']} ({current['weather'][0]['description']}).\\n\\\r\n",
    "The temperature is {current['temp']}°C and it feels like {current['feels_like']}°C.\\n\\\r\n",
    "The UV index is {current['uvi']}, humidity is {current['humidity']}%.\\n\\\r\n",
    "The pressure is {current['pressure']} hPa, percentage of cloud cover is {current['clouds']}%\\n\\\r\n",
    "The wind comes from {degrees_to_cardinal(current['wind_deg'])} direction with a speed {current['wind_speed']} m/s.\")"
   ]
  },
  {
   "cell_type": "code",
   "execution_count": 8,
   "metadata": {
    "execution": {
     "iopub.execute_input": "2021-09-22T07:11:37.908309Z",
     "iopub.status.busy": "2021-09-22T07:11:37.907805Z",
     "iopub.status.idle": "2021-09-22T07:11:37.914219Z",
     "shell.execute_reply": "2021-09-22T07:11:37.914722Z"
    }
   },
   "outputs": [],
   "source": [
    "df_hourly = pd.DataFrame(data['hourly'])\r\n",
    "df_daily = pd.DataFrame(data['daily'])"
   ]
  },
  {
   "cell_type": "code",
   "execution_count": 9,
   "metadata": {
    "execution": {
     "iopub.execute_input": "2021-09-22T07:11:37.917521Z",
     "iopub.status.busy": "2021-09-22T07:11:37.916994Z",
     "iopub.status.idle": "2021-09-22T07:11:38.211937Z",
     "shell.execute_reply": "2021-09-22T07:11:38.211430Z"
    }
   },
   "outputs": [
    {
     "data": {
      "image/png": "[encoded data removed]",
      "text/plain": [
       "<Figure size 864x432 with 1 Axes>"
      ]
     },
     "metadata": {
      "needs_background": "light"
     },
     "output_type": "display_data"
    }
   ],
   "source": [
    "fig, ax = plt.subplots(figsize=(12, 6))\r\n",
    "plt.plot(df_hourly.temp, '.-', label='Temperature')\r\n",
    "plt.plot(df_hourly.feels_like, '.-', label='Feels Like')\r\n",
    "ax.set(title='Temperature in future 48 hours', xlabel='Time', ylabel='Temperature')\r\n",
    "ax.set_xticks(list(range(0, len(df_hourly), 2)))\r\n",
    "ax.set_xticklabels([ts2dt(ts, '%m-%d %H:%M')[0] for i, ts in enumerate(df_hourly.dt) if i%2==0], \r\n",
    "                   rotation=45, ha=\"right\")\r\n",
    "ax.locator_params(nbins=15, axis='y')\r\n",
    "plt.legend()\r\n",
    "plt.show()"
   ]
  },
  {
   "cell_type": "code",
   "execution_count": 10,
   "metadata": {
    "execution": {
     "iopub.execute_input": "2021-09-22T07:11:38.221643Z",
     "iopub.status.busy": "2021-09-22T07:11:38.215776Z",
     "iopub.status.idle": "2021-09-22T07:11:38.233777Z",
     "shell.execute_reply": "2021-09-22T07:11:38.233260Z"
    }
   },
   "outputs": [
    {
     "data": {
      "text/html": [
       "<div>\n",
       "<style scoped>\n",
       "    .dataframe tbody tr th:only-of-type {\n",
       "        vertical-align: middle;\n",
       "    }\n",
       "\n",
       "    .dataframe tbody tr th {\n",
       "        vertical-align: top;\n",
       "    }\n",
       "\n",
       "    .dataframe thead th {\n",
       "        text-align: right;\n",
       "    }\n",
       "</style>\n",
       "<table border=\"1\" class=\"dataframe\">\n",
       "  <thead>\n",
       "    <tr style=\"text-align: right;\">\n",
       "      <th></th>\n",
       "      <th>dt</th>\n",
       "      <th>temp</th>\n",
       "      <th>feels_like</th>\n",
       "      <th>pressure</th>\n",
       "      <th>humidity</th>\n",
       "      <th>dew_point</th>\n",
       "      <th>uvi</th>\n",
       "      <th>clouds</th>\n",
       "      <th>visibility</th>\n",
       "      <th>wind_speed</th>\n",
       "      <th>wind_deg</th>\n",
       "      <th>wind_gust</th>\n",
       "      <th>weather</th>\n",
       "      <th>pop</th>\n",
       "      <th>rain</th>\n",
       "    </tr>\n",
       "  </thead>\n",
       "  <tbody>\n",
       "    <tr>\n",
       "      <th>0</th>\n",
       "      <td>1632294000</td>\n",
       "      <td>34.14</td>\n",
       "      <td>41.14</td>\n",
       "      <td>1009</td>\n",
       "      <td>67</td>\n",
       "      <td>27.13</td>\n",
       "      <td>5.33</td>\n",
       "      <td>44</td>\n",
       "      <td>10000</td>\n",
       "      <td>4.14</td>\n",
       "      <td>104</td>\n",
       "      <td>4.06</td>\n",
       "      <td>[{'id': 802, 'main': 'Clouds', 'description': ...</td>\n",
       "      <td>0.19</td>\n",
       "      <td>NaN</td>\n",
       "    </tr>\n",
       "    <tr>\n",
       "      <th>1</th>\n",
       "      <td>1632297600</td>\n",
       "      <td>33.39</td>\n",
       "      <td>40.39</td>\n",
       "      <td>1009</td>\n",
       "      <td>68</td>\n",
       "      <td>26.67</td>\n",
       "      <td>2.67</td>\n",
       "      <td>46</td>\n",
       "      <td>10000</td>\n",
       "      <td>4.38</td>\n",
       "      <td>108</td>\n",
       "      <td>4.60</td>\n",
       "      <td>[{'id': 802, 'main': 'Clouds', 'description': ...</td>\n",
       "      <td>0.22</td>\n",
       "      <td>NaN</td>\n",
       "    </tr>\n",
       "    <tr>\n",
       "      <th>2</th>\n",
       "      <td>1632301200</td>\n",
       "      <td>32.48</td>\n",
       "      <td>39.48</td>\n",
       "      <td>1009</td>\n",
       "      <td>69</td>\n",
       "      <td>26.05</td>\n",
       "      <td>0.85</td>\n",
       "      <td>51</td>\n",
       "      <td>10000</td>\n",
       "      <td>4.10</td>\n",
       "      <td>111</td>\n",
       "      <td>4.94</td>\n",
       "      <td>[{'id': 803, 'main': 'Clouds', 'description': ...</td>\n",
       "      <td>0.23</td>\n",
       "      <td>NaN</td>\n",
       "    </tr>\n",
       "    <tr>\n",
       "      <th>3</th>\n",
       "      <td>1632304800</td>\n",
       "      <td>31.30</td>\n",
       "      <td>38.30</td>\n",
       "      <td>1009</td>\n",
       "      <td>72</td>\n",
       "      <td>25.64</td>\n",
       "      <td>0.11</td>\n",
       "      <td>55</td>\n",
       "      <td>10000</td>\n",
       "      <td>3.71</td>\n",
       "      <td>114</td>\n",
       "      <td>4.77</td>\n",
       "      <td>[{'id': 803, 'main': 'Clouds', 'description': ...</td>\n",
       "      <td>0.20</td>\n",
       "      <td>NaN</td>\n",
       "    </tr>\n",
       "    <tr>\n",
       "      <th>4</th>\n",
       "      <td>1632308400</td>\n",
       "      <td>30.00</td>\n",
       "      <td>36.56</td>\n",
       "      <td>1010</td>\n",
       "      <td>76</td>\n",
       "      <td>25.30</td>\n",
       "      <td>0.00</td>\n",
       "      <td>51</td>\n",
       "      <td>10000</td>\n",
       "      <td>3.67</td>\n",
       "      <td>112</td>\n",
       "      <td>4.94</td>\n",
       "      <td>[{'id': 803, 'main': 'Clouds', 'description': ...</td>\n",
       "      <td>0.27</td>\n",
       "      <td>NaN</td>\n",
       "    </tr>\n",
       "  </tbody>\n",
       "</table>\n",
       "</div>"
      ],
      "text/plain": [
       "           dt   temp  feels_like  pressure  humidity  dew_point   uvi  clouds  \\\n",
       "0  1632294000  34.14       41.14      1009        67      27.13  5.33      44   \n",
       "1  1632297600  33.39       40.39      1009        68      26.67  2.67      46   \n",
       "2  1632301200  32.48       39.48      1009        69      26.05  0.85      51   \n",
       "3  1632304800  31.30       38.30      1009        72      25.64  0.11      55   \n",
       "4  1632308400  30.00       36.56      1010        76      25.30  0.00      51   \n",
       "\n",
       "   visibility  wind_speed  wind_deg  wind_gust  \\\n",
       "0       10000        4.14       104       4.06   \n",
       "1       10000        4.38       108       4.60   \n",
       "2       10000        4.10       111       4.94   \n",
       "3       10000        3.71       114       4.77   \n",
       "4       10000        3.67       112       4.94   \n",
       "\n",
       "                                             weather   pop rain  \n",
       "0  [{'id': 802, 'main': 'Clouds', 'description': ...  0.19  NaN  \n",
       "1  [{'id': 802, 'main': 'Clouds', 'description': ...  0.22  NaN  \n",
       "2  [{'id': 803, 'main': 'Clouds', 'description': ...  0.23  NaN  \n",
       "3  [{'id': 803, 'main': 'Clouds', 'description': ...  0.20  NaN  \n",
       "4  [{'id': 803, 'main': 'Clouds', 'description': ...  0.27  NaN  "
      ]
     },
     "execution_count": 10,
     "metadata": {},
     "output_type": "execute_result"
    }
   ],
   "source": [
    "df_hourly.head()"
   ]
  },
  {
   "cell_type": "code",
   "execution_count": null,
   "metadata": {},
   "outputs": [],
   "source": []
  }
 ],
 "metadata": {
  "interpreter": {
   "hash": "c1b4cfe941b6d2466ad1fb5979e97da9cda8801728c8091b097ab734208fc00c"
  },
  "kernelspec": {
   "display_name": "Python 3.8.3 64-bit ('base': conda)",
   "name": "python3"
  },
  "language_info": {
   "codemirror_mode": {
    "name": "ipython",
    "version": 3
   },
   "file_extension": ".py",
   "mimetype": "text/x-python",
   "name": "python",
   "nbconvert_exporter": "python",
   "pygments_lexer": "ipython3",
   "version": "3.8.11"
  }
 },
 "nbformat": 4,
 "nbformat_minor": 2
}
