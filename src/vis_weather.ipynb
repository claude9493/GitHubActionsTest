{
 "cells": [
  {
   "cell_type": "code",
   "execution_count": 1,
   "metadata": {
    "execution": {
     "iopub.execute_input": "2021-08-28T07:36:15.103138Z",
     "iopub.status.busy": "2021-08-28T07:36:15.102490Z",
     "iopub.status.idle": "2021-08-28T07:36:16.444887Z",
     "shell.execute_reply": "2021-08-28T07:36:16.444248Z"
    }
   },
   "outputs": [],
   "source": [
    "import json, yaml, requests\r\n",
    "from datetime import datetime\r\n",
    "from dateutil import tz\r\n",
    "import pandas as pd\r\n",
    "from PIL import Image\r\n",
    "from io import BytesIO\r\n",
    "import matplotlib.pyplot as plt\r\n",
    "import seaborn\r\n",
    "\r\n",
    "CONFIG_PATH = \"../config/config.yaml\""
   ]
  },
  {
   "cell_type": "code",
   "execution_count": 2,
   "metadata": {
    "execution": {
     "iopub.execute_input": "2021-08-28T07:36:16.452306Z",
     "iopub.status.busy": "2021-08-28T07:36:16.451166Z",
     "iopub.status.idle": "2021-08-28T07:36:16.457233Z",
     "shell.execute_reply": "2021-08-28T07:36:16.456720Z"
    }
   },
   "outputs": [],
   "source": [
    "with open('../newest_ts', 'r') as f:\r\n",
    "    newest_ts = f.read()\r\n",
    "\r\n",
    "data_path = f\"../data/data_{newest_ts}.json\"\r\n",
    "with open(data_path, 'r') as f:\r\n",
    "    data = json.load(f)\r\n",
    "\r\n",
    "with open(CONFIG_PATH, \"r\") as stream:\r\n",
    "    config = yaml.safe_load(stream)\r\n",
    "\r\n",
    "TIME_ZONE = config['time_zone']\r\n",
    "DATETIME_FORMAT = config['dt_format']"
   ]
  },
  {
   "cell_type": "code",
   "execution_count": 3,
   "metadata": {
    "execution": {
     "iopub.execute_input": "2021-08-28T07:36:16.462274Z",
     "iopub.status.busy": "2021-08-28T07:36:16.461684Z",
     "iopub.status.idle": "2021-08-28T07:36:16.467120Z",
     "shell.execute_reply": "2021-08-28T07:36:16.466625Z"
    }
   },
   "outputs": [
    {
     "name": "stdout",
     "output_type": "stream",
     "text": [
      "Recent query happens at 2021-08-28 15:36:12 (CST).\n"
     ]
    }
   ],
   "source": [
    "def ts2dt(ts, format=DATETIME_FORMAT):\r\n",
    "    dt = (datetime.utcfromtimestamp(int(ts))\r\n",
    "                    .replace(tzinfo=tz.tzutc())\r\n",
    "                    # .astimezone(tz.tzlocal())\r\n",
    "                    .astimezone(tz.gettz(TIME_ZONE)))\r\n",
    "    return dt.strftime(format), dt\r\n",
    "\r\n",
    "_, newest_dt = ts2dt(newest_ts)\r\n",
    "print(f\"Recent query happens at {newest_dt.strftime(DATETIME_FORMAT)} ({newest_dt.tzname()}).\")"
   ]
  },
  {
   "cell_type": "code",
   "execution_count": 4,
   "metadata": {
    "execution": {
     "iopub.execute_input": "2021-08-28T07:36:16.473177Z",
     "iopub.status.busy": "2021-08-28T07:36:16.471702Z",
     "iopub.status.idle": "2021-08-28T07:36:16.473786Z",
     "shell.execute_reply": "2021-08-28T07:36:16.474254Z"
    }
   },
   "outputs": [],
   "source": [
    "def degrees_to_cardinal(d):\r\n",
    "  dirs = ['N', 'NNE', 'NE', 'ENE', 'E', 'ESE', 'SE', 'SSE', 'S', 'SSW', 'SW', 'WSW', 'W', 'WNW', 'NW', 'NNW']\r\n",
    "  ix = int(round(d / (360. / len(dirs))))\r\n",
    "  return dirs[ix % len(dirs)]"
   ]
  },
  {
   "cell_type": "code",
   "execution_count": 5,
   "metadata": {
    "execution": {
     "iopub.execute_input": "2021-08-28T07:36:16.478801Z",
     "iopub.status.busy": "2021-08-28T07:36:16.477590Z",
     "iopub.status.idle": "2021-08-28T07:36:16.479431Z",
     "shell.execute_reply": "2021-08-28T07:36:16.479908Z"
    }
   },
   "outputs": [],
   "source": [
    "# data.keys()"
   ]
  },
  {
   "cell_type": "code",
   "execution_count": 6,
   "metadata": {
    "execution": {
     "iopub.execute_input": "2021-08-28T07:36:16.483416Z",
     "iopub.status.busy": "2021-08-28T07:36:16.482807Z",
     "iopub.status.idle": "2021-08-28T07:36:16.484939Z",
     "shell.execute_reply": "2021-08-28T07:36:16.485377Z"
    }
   },
   "outputs": [],
   "source": [
    "# data['current']"
   ]
  },
  {
   "cell_type": "code",
   "execution_count": 7,
   "metadata": {
    "execution": {
     "iopub.execute_input": "2021-08-28T07:36:16.516433Z",
     "iopub.status.busy": "2021-08-28T07:36:16.513010Z",
     "iopub.status.idle": "2021-08-28T07:36:16.927075Z",
     "shell.execute_reply": "2021-08-28T07:36:16.927795Z"
    }
   },
   "outputs": [
    {
     "data": {
      "image/png": "[encoded data removed]",
      "text/plain": [
       "<Figure size 216x216 with 1 Axes>"
      ]
     },
     "metadata": {
      "needs_background": "light"
     },
     "output_type": "display_data"
    },
    {
     "name": "stdout",
     "output_type": "stream",
     "text": [
      "Today, sun rises at 06:04 and sets at 18:44.\n",
      "Currently, the weather is Clouds (few clouds).\n",
      "The temperature is 29.2°C and it feels like 34.63°C.\n",
      "The UV index is 3.17, humidity is 77%.\n",
      "The pressure is 1009 hPa, percentage of cloud cover is 19%\n",
      "The wind comes from E direction with a speed 4.94 m/s.\n"
     ]
    }
   ],
   "source": [
    "current = data['current']\r\n",
    "\r\n",
    "fig, ax = plt.subplots(figsize=(3, 3))\r\n",
    "icon = requests.get(f\"http://openweathermap.org/img/wn/{current['weather'][0]['icon']}@2x.png\")\r\n",
    "im = Image.open(BytesIO(icon.content))\r\n",
    "plt.imshow(im)\r\n",
    "ax.set_axis_off()\r\n",
    "plt.show()\r\n",
    "\r\n",
    "print(f\"Today, sun rises at {ts2dt(current['sunrise'], '%H:%M')[0]} \\\r\n",
    "and sets at {ts2dt(current['sunset'], '%H:%M')[0]}.\\n\\\r\n",
    "Currently, the weather is {current['weather'][0]['main']} ({current['weather'][0]['description']}).\\n\\\r\n",
    "The temperature is {current['temp']}°C and it feels like {current['feels_like']}°C.\\n\\\r\n",
    "The UV index is {current['uvi']}, humidity is {current['humidity']}%.\\n\\\r\n",
    "The pressure is {current['pressure']} hPa, percentage of cloud cover is {current['clouds']}%\\n\\\r\n",
    "The wind comes from {degrees_to_cardinal(current['wind_deg'])} direction with a speed {current['wind_speed']} m/s.\")"
   ]
  },
  {
   "cell_type": "code",
   "execution_count": 8,
   "metadata": {
    "execution": {
     "iopub.execute_input": "2021-08-28T07:36:16.934415Z",
     "iopub.status.busy": "2021-08-28T07:36:16.930345Z",
     "iopub.status.idle": "2021-08-28T07:36:16.939338Z",
     "shell.execute_reply": "2021-08-28T07:36:16.940118Z"
    }
   },
   "outputs": [],
   "source": [
    "df_hourly = pd.DataFrame(data['hourly'])\r\n",
    "df_daily = pd.DataFrame(data['daily'])"
   ]
  },
  {
   "cell_type": "code",
   "execution_count": 9,
   "metadata": {
    "execution": {
     "iopub.execute_input": "2021-08-28T07:36:16.943727Z",
     "iopub.status.busy": "2021-08-28T07:36:16.942612Z",
     "iopub.status.idle": "2021-08-28T07:36:17.256361Z",
     "shell.execute_reply": "2021-08-28T07:36:17.255784Z"
    }
   },
   "outputs": [
    {
     "data": {
      "image/png": "[encoded data removed]",
      "text/plain": [
       "<Figure size 864x432 with 1 Axes>"
      ]
     },
     "metadata": {
      "needs_background": "light"
     },
     "output_type": "display_data"
    }
   ],
   "source": [
    "fig, ax = plt.subplots(figsize=(12, 6))\r\n",
    "plt.plot(df_hourly.temp, '.-', label='Temperature')\r\n",
    "plt.plot(df_hourly.feels_like, '.-', label='Feels Like')\r\n",
    "ax.set(title='Temperature in future 48 hours', xlabel='Time', ylabel='Temperature')\r\n",
    "ax.set_xticks(list(range(0, len(df_hourly), 2)))\r\n",
    "ax.set_xticklabels([ts2dt(ts, '%m-%d %H:%M')[0] for i, ts in enumerate(df_hourly.dt) if i%2==0], \r\n",
    "                   rotation=45, ha=\"right\")\r\n",
    "ax.locator_params(nbins=15, axis='y')\r\n",
    "plt.legend()\r\n",
    "plt.show()"
   ]
  },
  {
   "cell_type": "code",
   "execution_count": 10,
   "metadata": {
    "execution": {
     "iopub.execute_input": "2021-08-28T07:36:17.262732Z",
     "iopub.status.busy": "2021-08-28T07:36:17.262130Z",
     "iopub.status.idle": "2021-08-28T07:36:17.282346Z",
     "shell.execute_reply": "2021-08-28T07:36:17.281821Z"
    }
   },
   "outputs": [
    {
     "data": {
      "text/html": [
       "<div>\n",
       "<style scoped>\n",
       "    .dataframe tbody tr th:only-of-type {\n",
       "        vertical-align: middle;\n",
       "    }\n",
       "\n",
       "    .dataframe tbody tr th {\n",
       "        vertical-align: top;\n",
       "    }\n",
       "\n",
       "    .dataframe thead th {\n",
       "        text-align: right;\n",
       "    }\n",
       "</style>\n",
       "<table border=\"1\" class=\"dataframe\">\n",
       "  <thead>\n",
       "    <tr style=\"text-align: right;\">\n",
       "      <th></th>\n",
       "      <th>dt</th>\n",
       "      <th>temp</th>\n",
       "      <th>feels_like</th>\n",
       "      <th>pressure</th>\n",
       "      <th>humidity</th>\n",
       "      <th>dew_point</th>\n",
       "      <th>uvi</th>\n",
       "      <th>clouds</th>\n",
       "      <th>visibility</th>\n",
       "      <th>wind_speed</th>\n",
       "      <th>wind_deg</th>\n",
       "      <th>wind_gust</th>\n",
       "      <th>weather</th>\n",
       "      <th>pop</th>\n",
       "      <th>rain</th>\n",
       "    </tr>\n",
       "  </thead>\n",
       "  <tbody>\n",
       "    <tr>\n",
       "      <th>0</th>\n",
       "      <td>1630134000</td>\n",
       "      <td>29.36</td>\n",
       "      <td>34.38</td>\n",
       "      <td>1009</td>\n",
       "      <td>74</td>\n",
       "      <td>24.24</td>\n",
       "      <td>5.99</td>\n",
       "      <td>18</td>\n",
       "      <td>10000</td>\n",
       "      <td>4.86</td>\n",
       "      <td>90</td>\n",
       "      <td>6.25</td>\n",
       "      <td>[{'id': 500, 'main': 'Rain', 'description': 'l...</td>\n",
       "      <td>0.42</td>\n",
       "      <td>{'1h': 0.17}</td>\n",
       "    </tr>\n",
       "    <tr>\n",
       "      <th>1</th>\n",
       "      <td>1630137600</td>\n",
       "      <td>29.20</td>\n",
       "      <td>34.63</td>\n",
       "      <td>1009</td>\n",
       "      <td>77</td>\n",
       "      <td>24.75</td>\n",
       "      <td>3.17</td>\n",
       "      <td>19</td>\n",
       "      <td>10000</td>\n",
       "      <td>4.94</td>\n",
       "      <td>92</td>\n",
       "      <td>6.48</td>\n",
       "      <td>[{'id': 801, 'main': 'Clouds', 'description': ...</td>\n",
       "      <td>0.46</td>\n",
       "      <td>NaN</td>\n",
       "    </tr>\n",
       "    <tr>\n",
       "      <th>2</th>\n",
       "      <td>1630141200</td>\n",
       "      <td>29.25</td>\n",
       "      <td>34.11</td>\n",
       "      <td>1009</td>\n",
       "      <td>74</td>\n",
       "      <td>24.13</td>\n",
       "      <td>1.15</td>\n",
       "      <td>21</td>\n",
       "      <td>10000</td>\n",
       "      <td>4.37</td>\n",
       "      <td>94</td>\n",
       "      <td>6.16</td>\n",
       "      <td>[{'id': 801, 'main': 'Clouds', 'description': ...</td>\n",
       "      <td>0.47</td>\n",
       "      <td>NaN</td>\n",
       "    </tr>\n",
       "    <tr>\n",
       "      <th>3</th>\n",
       "      <td>1630144800</td>\n",
       "      <td>29.12</td>\n",
       "      <td>33.58</td>\n",
       "      <td>1009</td>\n",
       "      <td>73</td>\n",
       "      <td>23.78</td>\n",
       "      <td>0.07</td>\n",
       "      <td>27</td>\n",
       "      <td>10000</td>\n",
       "      <td>3.93</td>\n",
       "      <td>94</td>\n",
       "      <td>5.95</td>\n",
       "      <td>[{'id': 802, 'main': 'Clouds', 'description': ...</td>\n",
       "      <td>0.47</td>\n",
       "      <td>NaN</td>\n",
       "    </tr>\n",
       "    <tr>\n",
       "      <th>4</th>\n",
       "      <td>1630148400</td>\n",
       "      <td>28.66</td>\n",
       "      <td>32.69</td>\n",
       "      <td>1009</td>\n",
       "      <td>74</td>\n",
       "      <td>23.57</td>\n",
       "      <td>0.00</td>\n",
       "      <td>31</td>\n",
       "      <td>10000</td>\n",
       "      <td>3.84</td>\n",
       "      <td>93</td>\n",
       "      <td>5.38</td>\n",
       "      <td>[{'id': 500, 'main': 'Rain', 'description': 'l...</td>\n",
       "      <td>0.47</td>\n",
       "      <td>{'1h': 0.21}</td>\n",
       "    </tr>\n",
       "  </tbody>\n",
       "</table>\n",
       "</div>"
      ],
      "text/plain": [
       "           dt   temp  feels_like  pressure  humidity  dew_point   uvi  clouds  \\\n",
       "0  1630134000  29.36       34.38      1009        74      24.24  5.99      18   \n",
       "1  1630137600  29.20       34.63      1009        77      24.75  3.17      19   \n",
       "2  1630141200  29.25       34.11      1009        74      24.13  1.15      21   \n",
       "3  1630144800  29.12       33.58      1009        73      23.78  0.07      27   \n",
       "4  1630148400  28.66       32.69      1009        74      23.57  0.00      31   \n",
       "\n",
       "   visibility  wind_speed  wind_deg  wind_gust  \\\n",
       "0       10000        4.86        90       6.25   \n",
       "1       10000        4.94        92       6.48   \n",
       "2       10000        4.37        94       6.16   \n",
       "3       10000        3.93        94       5.95   \n",
       "4       10000        3.84        93       5.38   \n",
       "\n",
       "                                             weather   pop          rain  \n",
       "0  [{'id': 500, 'main': 'Rain', 'description': 'l...  0.42  {'1h': 0.17}  \n",
       "1  [{'id': 801, 'main': 'Clouds', 'description': ...  0.46           NaN  \n",
       "2  [{'id': 801, 'main': 'Clouds', 'description': ...  0.47           NaN  \n",
       "3  [{'id': 802, 'main': 'Clouds', 'description': ...  0.47           NaN  \n",
       "4  [{'id': 500, 'main': 'Rain', 'description': 'l...  0.47  {'1h': 0.21}  "
      ]
     },
     "execution_count": 10,
     "metadata": {},
     "output_type": "execute_result"
    }
   ],
   "source": [
    "df_hourly.head()"
   ]
  },
  {
   "cell_type": "code",
   "execution_count": null,
   "metadata": {},
   "outputs": [],
   "source": []
  }
 ],
 "metadata": {
  "interpreter": {
   "hash": "c1b4cfe941b6d2466ad1fb5979e97da9cda8801728c8091b097ab734208fc00c"
  },
  "kernelspec": {
   "display_name": "Python 3.8.3 64-bit ('base': conda)",
   "name": "python3"
  },
  "language_info": {
   "codemirror_mode": {
    "name": "ipython",
    "version": 3
   },
   "file_extension": ".py",
   "mimetype": "text/x-python",
   "name": "python",
   "nbconvert_exporter": "python",
   "pygments_lexer": "ipython3",
   "version": "3.8.11"
  }
 },
 "nbformat": 4,
 "nbformat_minor": 2
}
