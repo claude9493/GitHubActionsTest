{
 "cells": [
  {
   "cell_type": "code",
   "execution_count": 1,
   "metadata": {
    "execution": {
     "iopub.execute_input": "2021-09-29T00:37:50.144773Z",
     "iopub.status.busy": "2021-09-29T00:37:50.144216Z",
     "iopub.status.idle": "2021-09-29T00:37:52.275613Z",
     "shell.execute_reply": "2021-09-29T00:37:52.274649Z"
    }
   },
   "outputs": [],
   "source": [
    "import json, yaml, requests\r\n",
    "from datetime import datetime\r\n",
    "from dateutil import tz\r\n",
    "import pandas as pd\r\n",
    "from PIL import Image\r\n",
    "from io import BytesIO\r\n",
    "import matplotlib.pyplot as plt\r\n",
    "import seaborn\r\n",
    "\r\n",
    "CONFIG_PATH = \"../config/config.yaml\""
   ]
  },
  {
   "cell_type": "code",
   "execution_count": 2,
   "metadata": {
    "execution": {
     "iopub.execute_input": "2021-09-29T00:37:52.281988Z",
     "iopub.status.busy": "2021-09-29T00:37:52.280295Z",
     "iopub.status.idle": "2021-09-29T00:37:52.286798Z",
     "shell.execute_reply": "2021-09-29T00:37:52.287214Z"
    }
   },
   "outputs": [],
   "source": [
    "with open('../newest_ts', 'r') as f:\r\n",
    "    newest_ts = f.read()\r\n",
    "\r\n",
    "data_path = f\"../data/data_{newest_ts}.json\"\r\n",
    "with open(data_path, 'r') as f:\r\n",
    "    data = json.load(f)\r\n",
    "\r\n",
    "with open(CONFIG_PATH, \"r\") as stream:\r\n",
    "    config = yaml.safe_load(stream)\r\n",
    "\r\n",
    "TIME_ZONE = config['time_zone']\r\n",
    "DATETIME_FORMAT = config['dt_format']"
   ]
  },
  {
   "cell_type": "code",
   "execution_count": 3,
   "metadata": {
    "execution": {
     "iopub.execute_input": "2021-09-29T00:37:52.294752Z",
     "iopub.status.busy": "2021-09-29T00:37:52.291664Z",
     "iopub.status.idle": "2021-09-29T00:37:52.304974Z",
     "shell.execute_reply": "2021-09-29T00:37:52.305375Z"
    }
   },
   "outputs": [
    {
     "name": "stdout",
     "output_type": "stream",
     "text": [
      "Recent query happens at 2021-09-29 08:37:47 (CST).\n"
     ]
    }
   ],
   "source": [
    "def ts2dt(ts, format=DATETIME_FORMAT):\r\n",
    "    dt = (datetime.utcfromtimestamp(int(ts))\r\n",
    "                    .replace(tzinfo=tz.tzutc())\r\n",
    "                    # .astimezone(tz.tzlocal())\r\n",
    "                    .astimezone(tz.gettz(TIME_ZONE)))\r\n",
    "    return dt.strftime(format), dt\r\n",
    "\r\n",
    "_, newest_dt = ts2dt(newest_ts)\r\n",
    "print(f\"Recent query happens at {newest_dt.strftime(DATETIME_FORMAT)} ({newest_dt.tzname()}).\")"
   ]
  },
  {
   "cell_type": "code",
   "execution_count": 4,
   "metadata": {
    "execution": {
     "iopub.execute_input": "2021-09-29T00:37:52.309840Z",
     "iopub.status.busy": "2021-09-29T00:37:52.309242Z",
     "iopub.status.idle": "2021-09-29T00:37:52.312457Z",
     "shell.execute_reply": "2021-09-29T00:37:52.312861Z"
    }
   },
   "outputs": [],
   "source": [
    "def degrees_to_cardinal(d):\r\n",
    "  dirs = ['N', 'NNE', 'NE', 'ENE', 'E', 'ESE', 'SE', 'SSE', 'S', 'SSW', 'SW', 'WSW', 'W', 'WNW', 'NW', 'NNW']\r\n",
    "  ix = int(round(d / (360. / len(dirs))))\r\n",
    "  return dirs[ix % len(dirs)]"
   ]
  },
  {
   "cell_type": "code",
   "execution_count": 5,
   "metadata": {
    "execution": {
     "iopub.execute_input": "2021-09-29T00:37:52.316545Z",
     "iopub.status.busy": "2021-09-29T00:37:52.316051Z",
     "iopub.status.idle": "2021-09-29T00:37:52.319488Z",
     "shell.execute_reply": "2021-09-29T00:37:52.319023Z"
    }
   },
   "outputs": [],
   "source": [
    "# data.keys()"
   ]
  },
  {
   "cell_type": "code",
   "execution_count": 6,
   "metadata": {
    "execution": {
     "iopub.execute_input": "2021-09-29T00:37:52.322757Z",
     "iopub.status.busy": "2021-09-29T00:37:52.322258Z",
     "iopub.status.idle": "2021-09-29T00:37:52.324087Z",
     "shell.execute_reply": "2021-09-29T00:37:52.324692Z"
    }
   },
   "outputs": [],
   "source": [
    "# data['current']"
   ]
  },
  {
   "cell_type": "code",
   "execution_count": 7,
   "metadata": {
    "execution": {
     "iopub.execute_input": "2021-09-29T00:37:52.344728Z",
     "iopub.status.busy": "2021-09-29T00:37:52.344119Z",
     "iopub.status.idle": "2021-09-29T00:37:52.776488Z",
     "shell.execute_reply": "2021-09-29T00:37:52.776991Z"
    }
   },
   "outputs": [
    {
     "data": {
      "image/png": "[encoded data removed]",
      "text/plain": [
       "<Figure size 216x216 with 1 Axes>"
      ]
     },
     "metadata": {
      "needs_background": "light"
     },
     "output_type": "display_data"
    },
    {
     "name": "stdout",
     "output_type": "stream",
     "text": [
      "Today, sun rises at 06:13 and sets at 18:12.\n",
      "Currently, the weather is Clear (clear sky).\n",
      "The temperature is 29.6°C and it feels like 36.6°C.\n",
      "The UV index is 2.92, humidity is 83%.\n",
      "The pressure is 1008 hPa, percentage of cloud cover is 0%\n",
      "The wind comes from SW direction with a speed 0.45 m/s.\n"
     ]
    }
   ],
   "source": [
    "current = data['current']\r\n",
    "\r\n",
    "fig, ax = plt.subplots(figsize=(3, 3))\r\n",
    "icon = requests.get(f\"http://openweathermap.org/img/wn/{current['weather'][0]['icon']}@2x.png\")\r\n",
    "im = Image.open(BytesIO(icon.content))\r\n",
    "plt.imshow(im)\r\n",
    "ax.set_axis_off()\r\n",
    "plt.show()\r\n",
    "\r\n",
    "print(f\"Today, sun rises at {ts2dt(current['sunrise'], '%H:%M')[0]} \\\r\n",
    "and sets at {ts2dt(current['sunset'], '%H:%M')[0]}.\\n\\\r\n",
    "Currently, the weather is {current['weather'][0]['main']} ({current['weather'][0]['description']}).\\n\\\r\n",
    "The temperature is {current['temp']}°C and it feels like {current['feels_like']}°C.\\n\\\r\n",
    "The UV index is {current['uvi']}, humidity is {current['humidity']}%.\\n\\\r\n",
    "The pressure is {current['pressure']} hPa, percentage of cloud cover is {current['clouds']}%\\n\\\r\n",
    "The wind comes from {degrees_to_cardinal(current['wind_deg'])} direction with a speed {current['wind_speed']} m/s.\")"
   ]
  },
  {
   "cell_type": "code",
   "execution_count": 8,
   "metadata": {
    "execution": {
     "iopub.execute_input": "2021-09-29T00:37:52.779768Z",
     "iopub.status.busy": "2021-09-29T00:37:52.779229Z",
     "iopub.status.idle": "2021-09-29T00:37:52.785358Z",
     "shell.execute_reply": "2021-09-29T00:37:52.785804Z"
    }
   },
   "outputs": [],
   "source": [
    "df_hourly = pd.DataFrame(data['hourly'])\r\n",
    "df_daily = pd.DataFrame(data['daily'])"
   ]
  },
  {
   "cell_type": "code",
   "execution_count": 9,
   "metadata": {
    "execution": {
     "iopub.execute_input": "2021-09-29T00:37:52.788150Z",
     "iopub.status.busy": "2021-09-29T00:37:52.787585Z",
     "iopub.status.idle": "2021-09-29T00:37:53.100021Z",
     "shell.execute_reply": "2021-09-29T00:37:53.099075Z"
    }
   },
   "outputs": [
    {
     "data": {
      "image/png": "[encoded data removed]",
      "text/plain": [
       "<Figure size 864x432 with 1 Axes>"
      ]
     },
     "metadata": {
      "needs_background": "light"
     },
     "output_type": "display_data"
    }
   ],
   "source": [
    "fig, ax = plt.subplots(figsize=(12, 6))\r\n",
    "plt.plot(df_hourly.temp, '.-', label='Temperature')\r\n",
    "plt.plot(df_hourly.feels_like, '.-', label='Feels Like')\r\n",
    "ax.set(title='Temperature in future 48 hours', xlabel='Time', ylabel='Temperature')\r\n",
    "ax.set_xticks(list(range(0, len(df_hourly), 2)))\r\n",
    "ax.set_xticklabels([ts2dt(ts, '%m-%d %H:%M')[0] for i, ts in enumerate(df_hourly.dt) if i%2==0], \r\n",
    "                   rotation=45, ha=\"right\")\r\n",
    "ax.locator_params(nbins=15, axis='y')\r\n",
    "plt.legend()\r\n",
    "plt.show()"
   ]
  },
  {
   "cell_type": "code",
   "execution_count": 10,
   "metadata": {
    "execution": {
     "iopub.execute_input": "2021-09-29T00:37:53.105012Z",
     "iopub.status.busy": "2021-09-29T00:37:53.104439Z",
     "iopub.status.idle": "2021-09-29T00:37:53.125339Z",
     "shell.execute_reply": "2021-09-29T00:37:53.125762Z"
    }
   },
   "outputs": [
    {
     "data": {
      "text/html": [
       "<div>\n",
       "<style scoped>\n",
       "    .dataframe tbody tr th:only-of-type {\n",
       "        vertical-align: middle;\n",
       "    }\n",
       "\n",
       "    .dataframe tbody tr th {\n",
       "        vertical-align: top;\n",
       "    }\n",
       "\n",
       "    .dataframe thead th {\n",
       "        text-align: right;\n",
       "    }\n",
       "</style>\n",
       "<table border=\"1\" class=\"dataframe\">\n",
       "  <thead>\n",
       "    <tr style=\"text-align: right;\">\n",
       "      <th></th>\n",
       "      <th>dt</th>\n",
       "      <th>temp</th>\n",
       "      <th>feels_like</th>\n",
       "      <th>pressure</th>\n",
       "      <th>humidity</th>\n",
       "      <th>dew_point</th>\n",
       "      <th>uvi</th>\n",
       "      <th>clouds</th>\n",
       "      <th>visibility</th>\n",
       "      <th>wind_speed</th>\n",
       "      <th>wind_deg</th>\n",
       "      <th>wind_gust</th>\n",
       "      <th>weather</th>\n",
       "      <th>pop</th>\n",
       "      <th>rain</th>\n",
       "    </tr>\n",
       "  </thead>\n",
       "  <tbody>\n",
       "    <tr>\n",
       "      <th>0</th>\n",
       "      <td>1632873600</td>\n",
       "      <td>29.26</td>\n",
       "      <td>35.95</td>\n",
       "      <td>1008</td>\n",
       "      <td>82</td>\n",
       "      <td>25.87</td>\n",
       "      <td>1.01</td>\n",
       "      <td>2</td>\n",
       "      <td>10000</td>\n",
       "      <td>0.73</td>\n",
       "      <td>227</td>\n",
       "      <td>0.97</td>\n",
       "      <td>[{'id': 800, 'main': 'Clear', 'description': '...</td>\n",
       "      <td>0.11</td>\n",
       "      <td>NaN</td>\n",
       "    </tr>\n",
       "    <tr>\n",
       "      <th>1</th>\n",
       "      <td>1632877200</td>\n",
       "      <td>29.60</td>\n",
       "      <td>36.60</td>\n",
       "      <td>1008</td>\n",
       "      <td>83</td>\n",
       "      <td>26.40</td>\n",
       "      <td>2.92</td>\n",
       "      <td>0</td>\n",
       "      <td>10000</td>\n",
       "      <td>1.43</td>\n",
       "      <td>216</td>\n",
       "      <td>1.51</td>\n",
       "      <td>[{'id': 500, 'main': 'Rain', 'description': 'l...</td>\n",
       "      <td>0.20</td>\n",
       "      <td>{'1h': 0.1}</td>\n",
       "    </tr>\n",
       "    <tr>\n",
       "      <th>2</th>\n",
       "      <td>1632880800</td>\n",
       "      <td>29.60</td>\n",
       "      <td>36.46</td>\n",
       "      <td>1008</td>\n",
       "      <td>80</td>\n",
       "      <td>25.78</td>\n",
       "      <td>5.57</td>\n",
       "      <td>0</td>\n",
       "      <td>10000</td>\n",
       "      <td>1.90</td>\n",
       "      <td>213</td>\n",
       "      <td>1.93</td>\n",
       "      <td>[{'id': 500, 'main': 'Rain', 'description': 'l...</td>\n",
       "      <td>0.20</td>\n",
       "      <td>{'1h': 0.12}</td>\n",
       "    </tr>\n",
       "    <tr>\n",
       "      <th>3</th>\n",
       "      <td>1632884400</td>\n",
       "      <td>29.84</td>\n",
       "      <td>36.38</td>\n",
       "      <td>1008</td>\n",
       "      <td>77</td>\n",
       "      <td>25.37</td>\n",
       "      <td>8.10</td>\n",
       "      <td>2</td>\n",
       "      <td>10000</td>\n",
       "      <td>2.29</td>\n",
       "      <td>215</td>\n",
       "      <td>2.30</td>\n",
       "      <td>[{'id': 500, 'main': 'Rain', 'description': 'l...</td>\n",
       "      <td>0.20</td>\n",
       "      <td>{'1h': 0.12}</td>\n",
       "    </tr>\n",
       "    <tr>\n",
       "      <th>4</th>\n",
       "      <td>1632888000</td>\n",
       "      <td>30.14</td>\n",
       "      <td>36.42</td>\n",
       "      <td>1009</td>\n",
       "      <td>74</td>\n",
       "      <td>24.99</td>\n",
       "      <td>9.51</td>\n",
       "      <td>5</td>\n",
       "      <td>10000</td>\n",
       "      <td>3.11</td>\n",
       "      <td>215</td>\n",
       "      <td>3.03</td>\n",
       "      <td>[{'id': 800, 'main': 'Clear', 'description': '...</td>\n",
       "      <td>0.00</td>\n",
       "      <td>NaN</td>\n",
       "    </tr>\n",
       "  </tbody>\n",
       "</table>\n",
       "</div>"
      ],
      "text/plain": [
       "           dt   temp  feels_like  pressure  humidity  dew_point   uvi  clouds  \\\n",
       "0  1632873600  29.26       35.95      1008        82      25.87  1.01       2   \n",
       "1  1632877200  29.60       36.60      1008        83      26.40  2.92       0   \n",
       "2  1632880800  29.60       36.46      1008        80      25.78  5.57       0   \n",
       "3  1632884400  29.84       36.38      1008        77      25.37  8.10       2   \n",
       "4  1632888000  30.14       36.42      1009        74      24.99  9.51       5   \n",
       "\n",
       "   visibility  wind_speed  wind_deg  wind_gust  \\\n",
       "0       10000        0.73       227       0.97   \n",
       "1       10000        1.43       216       1.51   \n",
       "2       10000        1.90       213       1.93   \n",
       "3       10000        2.29       215       2.30   \n",
       "4       10000        3.11       215       3.03   \n",
       "\n",
       "                                             weather   pop          rain  \n",
       "0  [{'id': 800, 'main': 'Clear', 'description': '...  0.11           NaN  \n",
       "1  [{'id': 500, 'main': 'Rain', 'description': 'l...  0.20   {'1h': 0.1}  \n",
       "2  [{'id': 500, 'main': 'Rain', 'description': 'l...  0.20  {'1h': 0.12}  \n",
       "3  [{'id': 500, 'main': 'Rain', 'description': 'l...  0.20  {'1h': 0.12}  \n",
       "4  [{'id': 800, 'main': 'Clear', 'description': '...  0.00           NaN  "
      ]
     },
     "execution_count": 10,
     "metadata": {},
     "output_type": "execute_result"
    }
   ],
   "source": [
    "df_hourly.head()"
   ]
  },
  {
   "cell_type": "code",
   "execution_count": null,
   "metadata": {},
   "outputs": [],
   "source": []
  }
 ],
 "metadata": {
  "interpreter": {
   "hash": "c1b4cfe941b6d2466ad1fb5979e97da9cda8801728c8091b097ab734208fc00c"
  },
  "kernelspec": {
   "display_name": "Python 3.8.3 64-bit ('base': conda)",
   "name": "python3"
  },
  "language_info": {
   "codemirror_mode": {
    "name": "ipython",
    "version": 3
   },
   "file_extension": ".py",
   "mimetype": "text/x-python",
   "name": "python",
   "nbconvert_exporter": "python",
   "pygments_lexer": "ipython3",
   "version": "3.8.12"
  }
 },
 "nbformat": 4,
 "nbformat_minor": 2
}
