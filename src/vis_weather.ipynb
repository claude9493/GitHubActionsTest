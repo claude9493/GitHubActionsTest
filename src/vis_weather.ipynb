{
 "cells": [
  {
   "cell_type": "code",
   "execution_count": 1,
   "metadata": {
    "execution": {
     "iopub.execute_input": "2021-08-31T02:25:44.490684Z",
     "iopub.status.busy": "2021-08-31T02:25:44.490000Z",
     "iopub.status.idle": "2021-08-31T02:25:46.238478Z",
     "shell.execute_reply": "2021-08-31T02:25:46.238968Z"
    }
   },
   "outputs": [],
   "source": [
    "import json, yaml, requests\r\n",
    "from datetime import datetime\r\n",
    "from dateutil import tz\r\n",
    "import pandas as pd\r\n",
    "from PIL import Image\r\n",
    "from io import BytesIO\r\n",
    "import matplotlib.pyplot as plt\r\n",
    "import seaborn\r\n",
    "\r\n",
    "CONFIG_PATH = \"../config/config.yaml\""
   ]
  },
  {
   "cell_type": "code",
   "execution_count": 2,
   "metadata": {
    "execution": {
     "iopub.execute_input": "2021-08-31T02:25:46.245335Z",
     "iopub.status.busy": "2021-08-31T02:25:46.244704Z",
     "iopub.status.idle": "2021-08-31T02:25:46.250289Z",
     "shell.execute_reply": "2021-08-31T02:25:46.250744Z"
    }
   },
   "outputs": [],
   "source": [
    "with open('../newest_ts', 'r') as f:\r\n",
    "    newest_ts = f.read()\r\n",
    "\r\n",
    "data_path = f\"../data/data_{newest_ts}.json\"\r\n",
    "with open(data_path, 'r') as f:\r\n",
    "    data = json.load(f)\r\n",
    "\r\n",
    "with open(CONFIG_PATH, \"r\") as stream:\r\n",
    "    config = yaml.safe_load(stream)\r\n",
    "\r\n",
    "TIME_ZONE = config['time_zone']\r\n",
    "DATETIME_FORMAT = config['dt_format']"
   ]
  },
  {
   "cell_type": "code",
   "execution_count": 3,
   "metadata": {
    "execution": {
     "iopub.execute_input": "2021-08-31T02:25:46.256177Z",
     "iopub.status.busy": "2021-08-31T02:25:46.255394Z",
     "iopub.status.idle": "2021-08-31T02:25:46.261188Z",
     "shell.execute_reply": "2021-08-31T02:25:46.261684Z"
    }
   },
   "outputs": [
    {
     "name": "stdout",
     "output_type": "stream",
     "text": [
      "Recent query happens at 2021-08-31 10:25:41 (CST).\n"
     ]
    }
   ],
   "source": [
    "def ts2dt(ts, format=DATETIME_FORMAT):\r\n",
    "    dt = (datetime.utcfromtimestamp(int(ts))\r\n",
    "                    .replace(tzinfo=tz.tzutc())\r\n",
    "                    # .astimezone(tz.tzlocal())\r\n",
    "                    .astimezone(tz.gettz(TIME_ZONE)))\r\n",
    "    return dt.strftime(format), dt\r\n",
    "\r\n",
    "_, newest_dt = ts2dt(newest_ts)\r\n",
    "print(f\"Recent query happens at {newest_dt.strftime(DATETIME_FORMAT)} ({newest_dt.tzname()}).\")"
   ]
  },
  {
   "cell_type": "code",
   "execution_count": 4,
   "metadata": {
    "execution": {
     "iopub.execute_input": "2021-08-31T02:25:46.268207Z",
     "iopub.status.busy": "2021-08-31T02:25:46.266780Z",
     "iopub.status.idle": "2021-08-31T02:25:46.268867Z",
     "shell.execute_reply": "2021-08-31T02:25:46.269356Z"
    }
   },
   "outputs": [],
   "source": [
    "def degrees_to_cardinal(d):\r\n",
    "  dirs = ['N', 'NNE', 'NE', 'ENE', 'E', 'ESE', 'SE', 'SSE', 'S', 'SSW', 'SW', 'WSW', 'W', 'WNW', 'NW', 'NNW']\r\n",
    "  ix = int(round(d / (360. / len(dirs))))\r\n",
    "  return dirs[ix % len(dirs)]"
   ]
  },
  {
   "cell_type": "code",
   "execution_count": 5,
   "metadata": {
    "execution": {
     "iopub.execute_input": "2021-08-31T02:25:46.274514Z",
     "iopub.status.busy": "2021-08-31T02:25:46.273082Z",
     "iopub.status.idle": "2021-08-31T02:25:46.275246Z",
     "shell.execute_reply": "2021-08-31T02:25:46.275681Z"
    }
   },
   "outputs": [],
   "source": [
    "# data.keys()"
   ]
  },
  {
   "cell_type": "code",
   "execution_count": 6,
   "metadata": {
    "execution": {
     "iopub.execute_input": "2021-08-31T02:25:46.280348Z",
     "iopub.status.busy": "2021-08-31T02:25:46.278998Z",
     "iopub.status.idle": "2021-08-31T02:25:46.281509Z",
     "shell.execute_reply": "2021-08-31T02:25:46.282001Z"
    }
   },
   "outputs": [],
   "source": [
    "# data['current']"
   ]
  },
  {
   "cell_type": "code",
   "execution_count": 7,
   "metadata": {
    "execution": {
     "iopub.execute_input": "2021-08-31T02:25:46.315548Z",
     "iopub.status.busy": "2021-08-31T02:25:46.314753Z",
     "iopub.status.idle": "2021-08-31T02:25:46.721956Z",
     "shell.execute_reply": "2021-08-31T02:25:46.722780Z"
    }
   },
   "outputs": [
    {
     "data": {
      "image/png": "[encoded data removed]",
      "text/plain": [
       "<Figure size 216x216 with 1 Axes>"
      ]
     },
     "metadata": {
      "needs_background": "light"
     },
     "output_type": "display_data"
    },
    {
     "name": "stdout",
     "output_type": "stream",
     "text": [
      "Today, sun rises at 06:05 and sets at 18:41.\n",
      "Currently, the weather is Rain (light rain).\n",
      "The temperature is 29.82°C and it feels like 36.06°C.\n",
      "The UV index is 6.87, humidity is 76%.\n",
      "The pressure is 1012 hPa, percentage of cloud cover is 61%\n",
      "The wind comes from ENE direction with a speed 3.1 m/s.\n"
     ]
    }
   ],
   "source": [
    "current = data['current']\r\n",
    "\r\n",
    "fig, ax = plt.subplots(figsize=(3, 3))\r\n",
    "icon = requests.get(f\"http://openweathermap.org/img/wn/{current['weather'][0]['icon']}@2x.png\")\r\n",
    "im = Image.open(BytesIO(icon.content))\r\n",
    "plt.imshow(im)\r\n",
    "ax.set_axis_off()\r\n",
    "plt.show()\r\n",
    "\r\n",
    "print(f\"Today, sun rises at {ts2dt(current['sunrise'], '%H:%M')[0]} \\\r\n",
    "and sets at {ts2dt(current['sunset'], '%H:%M')[0]}.\\n\\\r\n",
    "Currently, the weather is {current['weather'][0]['main']} ({current['weather'][0]['description']}).\\n\\\r\n",
    "The temperature is {current['temp']}°C and it feels like {current['feels_like']}°C.\\n\\\r\n",
    "The UV index is {current['uvi']}, humidity is {current['humidity']}%.\\n\\\r\n",
    "The pressure is {current['pressure']} hPa, percentage of cloud cover is {current['clouds']}%\\n\\\r\n",
    "The wind comes from {degrees_to_cardinal(current['wind_deg'])} direction with a speed {current['wind_speed']} m/s.\")"
   ]
  },
  {
   "cell_type": "code",
   "execution_count": 8,
   "metadata": {
    "execution": {
     "iopub.execute_input": "2021-08-31T02:25:46.728708Z",
     "iopub.status.busy": "2021-08-31T02:25:46.728081Z",
     "iopub.status.idle": "2021-08-31T02:25:46.736319Z",
     "shell.execute_reply": "2021-08-31T02:25:46.737142Z"
    }
   },
   "outputs": [],
   "source": [
    "df_hourly = pd.DataFrame(data['hourly'])\r\n",
    "df_daily = pd.DataFrame(data['daily'])"
   ]
  },
  {
   "cell_type": "code",
   "execution_count": 9,
   "metadata": {
    "execution": {
     "iopub.execute_input": "2021-08-31T02:25:46.740852Z",
     "iopub.status.busy": "2021-08-31T02:25:46.739717Z",
     "iopub.status.idle": "2021-08-31T02:25:47.063063Z",
     "shell.execute_reply": "2021-08-31T02:25:47.062520Z"
    }
   },
   "outputs": [
    {
     "data": {
      "image/png": "[encoded data removed]",
      "text/plain": [
       "<Figure size 864x432 with 1 Axes>"
      ]
     },
     "metadata": {
      "needs_background": "light"
     },
     "output_type": "display_data"
    }
   ],
   "source": [
    "fig, ax = plt.subplots(figsize=(12, 6))\r\n",
    "plt.plot(df_hourly.temp, '.-', label='Temperature')\r\n",
    "plt.plot(df_hourly.feels_like, '.-', label='Feels Like')\r\n",
    "ax.set(title='Temperature in future 48 hours', xlabel='Time', ylabel='Temperature')\r\n",
    "ax.set_xticks(list(range(0, len(df_hourly), 2)))\r\n",
    "ax.set_xticklabels([ts2dt(ts, '%m-%d %H:%M')[0] for i, ts in enumerate(df_hourly.dt) if i%2==0], \r\n",
    "                   rotation=45, ha=\"right\")\r\n",
    "ax.locator_params(nbins=15, axis='y')\r\n",
    "plt.legend()\r\n",
    "plt.show()"
   ]
  },
  {
   "cell_type": "code",
   "execution_count": 10,
   "metadata": {
    "execution": {
     "iopub.execute_input": "2021-08-31T02:25:47.078638Z",
     "iopub.status.busy": "2021-08-31T02:25:47.067335Z",
     "iopub.status.idle": "2021-08-31T02:25:47.091978Z",
     "shell.execute_reply": "2021-08-31T02:25:47.091452Z"
    }
   },
   "outputs": [
    {
     "data": {
      "text/html": [
       "<div>\n",
       "<style scoped>\n",
       "    .dataframe tbody tr th:only-of-type {\n",
       "        vertical-align: middle;\n",
       "    }\n",
       "\n",
       "    .dataframe tbody tr th {\n",
       "        vertical-align: top;\n",
       "    }\n",
       "\n",
       "    .dataframe thead th {\n",
       "        text-align: right;\n",
       "    }\n",
       "</style>\n",
       "<table border=\"1\" class=\"dataframe\">\n",
       "  <thead>\n",
       "    <tr style=\"text-align: right;\">\n",
       "      <th></th>\n",
       "      <th>dt</th>\n",
       "      <th>temp</th>\n",
       "      <th>feels_like</th>\n",
       "      <th>pressure</th>\n",
       "      <th>humidity</th>\n",
       "      <th>dew_point</th>\n",
       "      <th>uvi</th>\n",
       "      <th>clouds</th>\n",
       "      <th>visibility</th>\n",
       "      <th>wind_speed</th>\n",
       "      <th>wind_deg</th>\n",
       "      <th>wind_gust</th>\n",
       "      <th>weather</th>\n",
       "      <th>pop</th>\n",
       "      <th>rain</th>\n",
       "    </tr>\n",
       "  </thead>\n",
       "  <tbody>\n",
       "    <tr>\n",
       "      <th>0</th>\n",
       "      <td>1630375200</td>\n",
       "      <td>29.82</td>\n",
       "      <td>36.06</td>\n",
       "      <td>1012</td>\n",
       "      <td>76</td>\n",
       "      <td>25.13</td>\n",
       "      <td>6.87</td>\n",
       "      <td>61</td>\n",
       "      <td>10000</td>\n",
       "      <td>3.10</td>\n",
       "      <td>71</td>\n",
       "      <td>3.55</td>\n",
       "      <td>[{'id': 500, 'main': 'Rain', 'description': 'l...</td>\n",
       "      <td>0.72</td>\n",
       "      <td>{'1h': 0.54}</td>\n",
       "    </tr>\n",
       "    <tr>\n",
       "      <th>1</th>\n",
       "      <td>1630378800</td>\n",
       "      <td>29.50</td>\n",
       "      <td>34.96</td>\n",
       "      <td>1012</td>\n",
       "      <td>75</td>\n",
       "      <td>24.60</td>\n",
       "      <td>9.67</td>\n",
       "      <td>63</td>\n",
       "      <td>9768</td>\n",
       "      <td>3.65</td>\n",
       "      <td>79</td>\n",
       "      <td>4.69</td>\n",
       "      <td>[{'id': 500, 'main': 'Rain', 'description': 'l...</td>\n",
       "      <td>0.78</td>\n",
       "      <td>{'1h': 0.24}</td>\n",
       "    </tr>\n",
       "    <tr>\n",
       "      <th>2</th>\n",
       "      <td>1630382400</td>\n",
       "      <td>29.69</td>\n",
       "      <td>34.75</td>\n",
       "      <td>1012</td>\n",
       "      <td>72</td>\n",
       "      <td>24.10</td>\n",
       "      <td>9.90</td>\n",
       "      <td>61</td>\n",
       "      <td>10000</td>\n",
       "      <td>4.02</td>\n",
       "      <td>75</td>\n",
       "      <td>4.12</td>\n",
       "      <td>[{'id': 500, 'main': 'Rain', 'description': 'l...</td>\n",
       "      <td>0.92</td>\n",
       "      <td>{'1h': 0.21}</td>\n",
       "    </tr>\n",
       "    <tr>\n",
       "      <th>3</th>\n",
       "      <td>1630386000</td>\n",
       "      <td>29.50</td>\n",
       "      <td>34.07</td>\n",
       "      <td>1011</td>\n",
       "      <td>71</td>\n",
       "      <td>23.69</td>\n",
       "      <td>9.73</td>\n",
       "      <td>58</td>\n",
       "      <td>10000</td>\n",
       "      <td>4.50</td>\n",
       "      <td>76</td>\n",
       "      <td>4.91</td>\n",
       "      <td>[{'id': 500, 'main': 'Rain', 'description': 'l...</td>\n",
       "      <td>0.89</td>\n",
       "      <td>{'1h': 0.41}</td>\n",
       "    </tr>\n",
       "    <tr>\n",
       "      <th>4</th>\n",
       "      <td>1630389600</td>\n",
       "      <td>29.72</td>\n",
       "      <td>33.71</td>\n",
       "      <td>1011</td>\n",
       "      <td>67</td>\n",
       "      <td>22.93</td>\n",
       "      <td>8.07</td>\n",
       "      <td>57</td>\n",
       "      <td>10000</td>\n",
       "      <td>4.99</td>\n",
       "      <td>78</td>\n",
       "      <td>5.49</td>\n",
       "      <td>[{'id': 500, 'main': 'Rain', 'description': 'l...</td>\n",
       "      <td>0.81</td>\n",
       "      <td>{'1h': 0.23}</td>\n",
       "    </tr>\n",
       "  </tbody>\n",
       "</table>\n",
       "</div>"
      ],
      "text/plain": [
       "           dt   temp  feels_like  pressure  humidity  dew_point   uvi  clouds  \\\n",
       "0  1630375200  29.82       36.06      1012        76      25.13  6.87      61   \n",
       "1  1630378800  29.50       34.96      1012        75      24.60  9.67      63   \n",
       "2  1630382400  29.69       34.75      1012        72      24.10  9.90      61   \n",
       "3  1630386000  29.50       34.07      1011        71      23.69  9.73      58   \n",
       "4  1630389600  29.72       33.71      1011        67      22.93  8.07      57   \n",
       "\n",
       "   visibility  wind_speed  wind_deg  wind_gust  \\\n",
       "0       10000        3.10        71       3.55   \n",
       "1        9768        3.65        79       4.69   \n",
       "2       10000        4.02        75       4.12   \n",
       "3       10000        4.50        76       4.91   \n",
       "4       10000        4.99        78       5.49   \n",
       "\n",
       "                                             weather   pop          rain  \n",
       "0  [{'id': 500, 'main': 'Rain', 'description': 'l...  0.72  {'1h': 0.54}  \n",
       "1  [{'id': 500, 'main': 'Rain', 'description': 'l...  0.78  {'1h': 0.24}  \n",
       "2  [{'id': 500, 'main': 'Rain', 'description': 'l...  0.92  {'1h': 0.21}  \n",
       "3  [{'id': 500, 'main': 'Rain', 'description': 'l...  0.89  {'1h': 0.41}  \n",
       "4  [{'id': 500, 'main': 'Rain', 'description': 'l...  0.81  {'1h': 0.23}  "
      ]
     },
     "execution_count": 10,
     "metadata": {},
     "output_type": "execute_result"
    }
   ],
   "source": [
    "df_hourly.head()"
   ]
  },
  {
   "cell_type": "code",
   "execution_count": null,
   "metadata": {},
   "outputs": [],
   "source": []
  }
 ],
 "metadata": {
  "interpreter": {
   "hash": "c1b4cfe941b6d2466ad1fb5979e97da9cda8801728c8091b097ab734208fc00c"
  },
  "kernelspec": {
   "display_name": "Python 3.8.3 64-bit ('base': conda)",
   "name": "python3"
  },
  "language_info": {
   "codemirror_mode": {
    "name": "ipython",
    "version": 3
   },
   "file_extension": ".py",
   "mimetype": "text/x-python",
   "name": "python",
   "nbconvert_exporter": "python",
   "pygments_lexer": "ipython3",
   "version": "3.8.11"
  }
 },
 "nbformat": 4,
 "nbformat_minor": 2
}
