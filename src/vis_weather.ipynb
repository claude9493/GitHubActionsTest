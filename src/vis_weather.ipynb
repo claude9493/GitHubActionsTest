{
 "cells": [
  {
   "cell_type": "code",
   "execution_count": 1,
   "metadata": {
    "execution": {
     "iopub.execute_input": "2021-10-12T20:12:09.383284Z",
     "iopub.status.busy": "2021-10-12T20:12:09.382718Z",
     "iopub.status.idle": "2021-10-12T20:12:10.450661Z",
     "shell.execute_reply": "2021-10-12T20:12:10.450091Z"
    }
   },
   "outputs": [],
   "source": [
    "import json, yaml, requests\r\n",
    "from datetime import datetime\r\n",
    "from dateutil import tz\r\n",
    "import pandas as pd\r\n",
    "from PIL import Image\r\n",
    "from io import BytesIO\r\n",
    "import matplotlib.pyplot as plt\r\n",
    "import seaborn\r\n",
    "\r\n",
    "CONFIG_PATH = \"../config/config.yaml\""
   ]
  },
  {
   "cell_type": "code",
   "execution_count": 2,
   "metadata": {
    "execution": {
     "iopub.execute_input": "2021-10-12T20:12:10.457877Z",
     "iopub.status.busy": "2021-10-12T20:12:10.454886Z",
     "iopub.status.idle": "2021-10-12T20:12:10.460464Z",
     "shell.execute_reply": "2021-10-12T20:12:10.460021Z"
    }
   },
   "outputs": [],
   "source": [
    "with open('../newest_ts', 'r') as f:\r\n",
    "    newest_ts = f.read()\r\n",
    "\r\n",
    "data_path = f\"../data/data_{newest_ts}.json\"\r\n",
    "with open(data_path, 'r') as f:\r\n",
    "    data = json.load(f)\r\n",
    "\r\n",
    "with open(CONFIG_PATH, \"r\") as stream:\r\n",
    "    config = yaml.safe_load(stream)\r\n",
    "\r\n",
    "TIME_ZONE = config['time_zone']\r\n",
    "DATETIME_FORMAT = config['dt_format']"
   ]
  },
  {
   "cell_type": "code",
   "execution_count": 3,
   "metadata": {
    "execution": {
     "iopub.execute_input": "2021-10-12T20:12:10.465168Z",
     "iopub.status.busy": "2021-10-12T20:12:10.464703Z",
     "iopub.status.idle": "2021-10-12T20:12:10.472463Z",
     "shell.execute_reply": "2021-10-12T20:12:10.471756Z"
    }
   },
   "outputs": [
    {
     "name": "stdout",
     "output_type": "stream",
     "text": [
      "Recent query happens at 2021-10-13 04:12:06 (CST).\n"
     ]
    }
   ],
   "source": [
    "def ts2dt(ts, format=DATETIME_FORMAT):\r\n",
    "    dt = (datetime.utcfromtimestamp(int(ts))\r\n",
    "                    .replace(tzinfo=tz.tzutc())\r\n",
    "                    # .astimezone(tz.tzlocal())\r\n",
    "                    .astimezone(tz.gettz(TIME_ZONE)))\r\n",
    "    return dt.strftime(format), dt\r\n",
    "\r\n",
    "_, newest_dt = ts2dt(newest_ts)\r\n",
    "print(f\"Recent query happens at {newest_dt.strftime(DATETIME_FORMAT)} ({newest_dt.tzname()}).\")"
   ]
  },
  {
   "cell_type": "code",
   "execution_count": 4,
   "metadata": {
    "execution": {
     "iopub.execute_input": "2021-10-12T20:12:10.476572Z",
     "iopub.status.busy": "2021-10-12T20:12:10.476115Z",
     "iopub.status.idle": "2021-10-12T20:12:10.479079Z",
     "shell.execute_reply": "2021-10-12T20:12:10.478707Z"
    }
   },
   "outputs": [],
   "source": [
    "def degrees_to_cardinal(d):\r\n",
    "  dirs = ['N', 'NNE', 'NE', 'ENE', 'E', 'ESE', 'SE', 'SSE', 'S', 'SSW', 'SW', 'WSW', 'W', 'WNW', 'NW', 'NNW']\r\n",
    "  ix = int(round(d / (360. / len(dirs))))\r\n",
    "  return dirs[ix % len(dirs)]"
   ]
  },
  {
   "cell_type": "code",
   "execution_count": 5,
   "metadata": {
    "execution": {
     "iopub.execute_input": "2021-10-12T20:12:10.482191Z",
     "iopub.status.busy": "2021-10-12T20:12:10.481695Z",
     "iopub.status.idle": "2021-10-12T20:12:10.484890Z",
     "shell.execute_reply": "2021-10-12T20:12:10.484468Z"
    }
   },
   "outputs": [],
   "source": [
    "# data.keys()"
   ]
  },
  {
   "cell_type": "code",
   "execution_count": 6,
   "metadata": {
    "execution": {
     "iopub.execute_input": "2021-10-12T20:12:10.488075Z",
     "iopub.status.busy": "2021-10-12T20:12:10.487337Z",
     "iopub.status.idle": "2021-10-12T20:12:10.490324Z",
     "shell.execute_reply": "2021-10-12T20:12:10.489689Z"
    }
   },
   "outputs": [],
   "source": [
    "# data['current']"
   ]
  },
  {
   "cell_type": "code",
   "execution_count": 7,
   "metadata": {
    "execution": {
     "iopub.execute_input": "2021-10-12T20:12:10.506728Z",
     "iopub.status.busy": "2021-10-12T20:12:10.506256Z",
     "iopub.status.idle": "2021-10-12T20:12:10.883495Z",
     "shell.execute_reply": "2021-10-12T20:12:10.883030Z"
    }
   },
   "outputs": [
    {
     "data": {
      "image/png": "[encoded data removed]",
      "text/plain": [
       "<Figure size 216x216 with 1 Axes>"
      ]
     },
     "metadata": {
      "needs_background": "light"
     },
     "output_type": "display_data"
    },
    {
     "name": "stdout",
     "output_type": "stream",
     "text": [
      "Today, sun rises at 06:18 and sets at 17:59.\n",
      "Currently, the weather is Rain (light rain).\n",
      "The temperature is 23.7°C and it feels like 24.37°C.\n",
      "The UV index is 0, humidity is 86%.\n",
      "The pressure is 1010 hPa, percentage of cloud cover is 100%\n",
      "The wind comes from WNW direction with a speed 1.34 m/s.\n"
     ]
    }
   ],
   "source": [
    "current = data['current']\r\n",
    "\r\n",
    "fig, ax = plt.subplots(figsize=(3, 3))\r\n",
    "icon = requests.get(f\"http://openweathermap.org/img/wn/{current['weather'][0]['icon']}@2x.png\")\r\n",
    "im = Image.open(BytesIO(icon.content))\r\n",
    "plt.imshow(im)\r\n",
    "ax.set_axis_off()\r\n",
    "plt.show()\r\n",
    "\r\n",
    "print(f\"Today, sun rises at {ts2dt(current['sunrise'], '%H:%M')[0]} \\\r\n",
    "and sets at {ts2dt(current['sunset'], '%H:%M')[0]}.\\n\\\r\n",
    "Currently, the weather is {current['weather'][0]['main']} ({current['weather'][0]['description']}).\\n\\\r\n",
    "The temperature is {current['temp']}°C and it feels like {current['feels_like']}°C.\\n\\\r\n",
    "The UV index is {current['uvi']}, humidity is {current['humidity']}%.\\n\\\r\n",
    "The pressure is {current['pressure']} hPa, percentage of cloud cover is {current['clouds']}%\\n\\\r\n",
    "The wind comes from {degrees_to_cardinal(current['wind_deg'])} direction with a speed {current['wind_speed']} m/s.\")"
   ]
  },
  {
   "cell_type": "code",
   "execution_count": 8,
   "metadata": {
    "execution": {
     "iopub.execute_input": "2021-10-12T20:12:10.888800Z",
     "iopub.status.busy": "2021-10-12T20:12:10.888346Z",
     "iopub.status.idle": "2021-10-12T20:12:10.891619Z",
     "shell.execute_reply": "2021-10-12T20:12:10.891992Z"
    }
   },
   "outputs": [],
   "source": [
    "df_hourly = pd.DataFrame(data['hourly'])\r\n",
    "df_daily = pd.DataFrame(data['daily'])"
   ]
  },
  {
   "cell_type": "code",
   "execution_count": 9,
   "metadata": {
    "execution": {
     "iopub.execute_input": "2021-10-12T20:12:10.907239Z",
     "iopub.status.busy": "2021-10-12T20:12:10.906755Z",
     "iopub.status.idle": "2021-10-12T20:12:11.125827Z",
     "shell.execute_reply": "2021-10-12T20:12:11.125422Z"
    }
   },
   "outputs": [
    {
     "data": {
      "image/png": "[encoded data removed]",
      "text/plain": [
       "<Figure size 864x432 with 1 Axes>"
      ]
     },
     "metadata": {
      "needs_background": "light"
     },
     "output_type": "display_data"
    }
   ],
   "source": [
    "fig, ax = plt.subplots(figsize=(12, 6))\r\n",
    "plt.plot(df_hourly.temp, '.-', label='Temperature')\r\n",
    "plt.plot(df_hourly.feels_like, '.-', label='Feels Like')\r\n",
    "ax.set(title='Temperature in future 48 hours', xlabel='Time', ylabel='Temperature')\r\n",
    "ax.set_xticks(list(range(0, len(df_hourly), 2)))\r\n",
    "ax.set_xticklabels([ts2dt(ts, '%m-%d %H:%M')[0] for i, ts in enumerate(df_hourly.dt) if i%2==0], \r\n",
    "                   rotation=45, ha=\"right\")\r\n",
    "ax.locator_params(nbins=15, axis='y')\r\n",
    "plt.legend()\r\n",
    "plt.show()"
   ]
  },
  {
   "cell_type": "code",
   "execution_count": 10,
   "metadata": {
    "execution": {
     "iopub.execute_input": "2021-10-12T20:12:11.130355Z",
     "iopub.status.busy": "2021-10-12T20:12:11.129888Z",
     "iopub.status.idle": "2021-10-12T20:12:11.147483Z",
     "shell.execute_reply": "2021-10-12T20:12:11.147867Z"
    }
   },
   "outputs": [
    {
     "data": {
      "text/html": [
       "<div>\n",
       "<style scoped>\n",
       "    .dataframe tbody tr th:only-of-type {\n",
       "        vertical-align: middle;\n",
       "    }\n",
       "\n",
       "    .dataframe tbody tr th {\n",
       "        vertical-align: top;\n",
       "    }\n",
       "\n",
       "    .dataframe thead th {\n",
       "        text-align: right;\n",
       "    }\n",
       "</style>\n",
       "<table border=\"1\" class=\"dataframe\">\n",
       "  <thead>\n",
       "    <tr style=\"text-align: right;\">\n",
       "      <th></th>\n",
       "      <th>dt</th>\n",
       "      <th>temp</th>\n",
       "      <th>feels_like</th>\n",
       "      <th>pressure</th>\n",
       "      <th>humidity</th>\n",
       "      <th>dew_point</th>\n",
       "      <th>uvi</th>\n",
       "      <th>clouds</th>\n",
       "      <th>visibility</th>\n",
       "      <th>wind_speed</th>\n",
       "      <th>wind_deg</th>\n",
       "      <th>wind_gust</th>\n",
       "      <th>weather</th>\n",
       "      <th>pop</th>\n",
       "      <th>rain</th>\n",
       "    </tr>\n",
       "  </thead>\n",
       "  <tbody>\n",
       "    <tr>\n",
       "      <th>0</th>\n",
       "      <td>1634068800</td>\n",
       "      <td>23.70</td>\n",
       "      <td>24.37</td>\n",
       "      <td>1010</td>\n",
       "      <td>86</td>\n",
       "      <td>21.22</td>\n",
       "      <td>0.00</td>\n",
       "      <td>100</td>\n",
       "      <td>10000</td>\n",
       "      <td>14.46</td>\n",
       "      <td>50</td>\n",
       "      <td>22.77</td>\n",
       "      <td>[{'id': 501, 'main': 'Rain', 'description': 'm...</td>\n",
       "      <td>0.75</td>\n",
       "      <td>{'1h': 1.04}</td>\n",
       "    </tr>\n",
       "    <tr>\n",
       "      <th>1</th>\n",
       "      <td>1634072400</td>\n",
       "      <td>23.76</td>\n",
       "      <td>24.46</td>\n",
       "      <td>1008</td>\n",
       "      <td>87</td>\n",
       "      <td>21.47</td>\n",
       "      <td>0.00</td>\n",
       "      <td>100</td>\n",
       "      <td>10000</td>\n",
       "      <td>14.29</td>\n",
       "      <td>45</td>\n",
       "      <td>23.59</td>\n",
       "      <td>[{'id': 500, 'main': 'Rain', 'description': 'l...</td>\n",
       "      <td>0.75</td>\n",
       "      <td>{'1h': 0.24}</td>\n",
       "    </tr>\n",
       "    <tr>\n",
       "      <th>2</th>\n",
       "      <td>1634076000</td>\n",
       "      <td>23.89</td>\n",
       "      <td>24.61</td>\n",
       "      <td>1006</td>\n",
       "      <td>87</td>\n",
       "      <td>21.59</td>\n",
       "      <td>0.00</td>\n",
       "      <td>100</td>\n",
       "      <td>4371</td>\n",
       "      <td>15.09</td>\n",
       "      <td>50</td>\n",
       "      <td>24.59</td>\n",
       "      <td>[{'id': 501, 'main': 'Rain', 'description': 'm...</td>\n",
       "      <td>0.79</td>\n",
       "      <td>{'1h': 1.54}</td>\n",
       "    </tr>\n",
       "    <tr>\n",
       "      <th>3</th>\n",
       "      <td>1634079600</td>\n",
       "      <td>23.99</td>\n",
       "      <td>24.79</td>\n",
       "      <td>1003</td>\n",
       "      <td>90</td>\n",
       "      <td>22.25</td>\n",
       "      <td>0.00</td>\n",
       "      <td>100</td>\n",
       "      <td>2268</td>\n",
       "      <td>15.16</td>\n",
       "      <td>63</td>\n",
       "      <td>23.84</td>\n",
       "      <td>[{'id': 502, 'main': 'Rain', 'description': 'h...</td>\n",
       "      <td>0.83</td>\n",
       "      <td>{'1h': 14.3}</td>\n",
       "    </tr>\n",
       "    <tr>\n",
       "      <th>4</th>\n",
       "      <td>1634083200</td>\n",
       "      <td>24.75</td>\n",
       "      <td>25.68</td>\n",
       "      <td>1004</td>\n",
       "      <td>92</td>\n",
       "      <td>23.36</td>\n",
       "      <td>0.16</td>\n",
       "      <td>100</td>\n",
       "      <td>7126</td>\n",
       "      <td>13.76</td>\n",
       "      <td>79</td>\n",
       "      <td>20.53</td>\n",
       "      <td>[{'id': 502, 'main': 'Rain', 'description': 'h...</td>\n",
       "      <td>0.95</td>\n",
       "      <td>{'1h': 13.89}</td>\n",
       "    </tr>\n",
       "  </tbody>\n",
       "</table>\n",
       "</div>"
      ],
      "text/plain": [
       "           dt   temp  feels_like  pressure  humidity  dew_point   uvi  clouds  \\\n",
       "0  1634068800  23.70       24.37      1010        86      21.22  0.00     100   \n",
       "1  1634072400  23.76       24.46      1008        87      21.47  0.00     100   \n",
       "2  1634076000  23.89       24.61      1006        87      21.59  0.00     100   \n",
       "3  1634079600  23.99       24.79      1003        90      22.25  0.00     100   \n",
       "4  1634083200  24.75       25.68      1004        92      23.36  0.16     100   \n",
       "\n",
       "   visibility  wind_speed  wind_deg  wind_gust  \\\n",
       "0       10000       14.46        50      22.77   \n",
       "1       10000       14.29        45      23.59   \n",
       "2        4371       15.09        50      24.59   \n",
       "3        2268       15.16        63      23.84   \n",
       "4        7126       13.76        79      20.53   \n",
       "\n",
       "                                             weather   pop           rain  \n",
       "0  [{'id': 501, 'main': 'Rain', 'description': 'm...  0.75   {'1h': 1.04}  \n",
       "1  [{'id': 500, 'main': 'Rain', 'description': 'l...  0.75   {'1h': 0.24}  \n",
       "2  [{'id': 501, 'main': 'Rain', 'description': 'm...  0.79   {'1h': 1.54}  \n",
       "3  [{'id': 502, 'main': 'Rain', 'description': 'h...  0.83   {'1h': 14.3}  \n",
       "4  [{'id': 502, 'main': 'Rain', 'description': 'h...  0.95  {'1h': 13.89}  "
      ]
     },
     "execution_count": 10,
     "metadata": {},
     "output_type": "execute_result"
    }
   ],
   "source": [
    "df_hourly.head()"
   ]
  },
  {
   "cell_type": "code",
   "execution_count": null,
   "metadata": {},
   "outputs": [],
   "source": []
  }
 ],
 "metadata": {
  "interpreter": {
   "hash": "c1b4cfe941b6d2466ad1fb5979e97da9cda8801728c8091b097ab734208fc00c"
  },
  "kernelspec": {
   "display_name": "Python 3.8.3 64-bit ('base': conda)",
   "name": "python3"
  },
  "language_info": {
   "codemirror_mode": {
    "name": "ipython",
    "version": 3
   },
   "file_extension": ".py",
   "mimetype": "text/x-python",
   "name": "python",
   "nbconvert_exporter": "python",
   "pygments_lexer": "ipython3",
   "version": "3.8.12"
  }
 },
 "nbformat": 4,
 "nbformat_minor": 2
}
