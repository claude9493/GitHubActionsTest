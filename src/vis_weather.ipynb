{
 "cells": [
  {
   "cell_type": "code",
   "execution_count": 1,
   "metadata": {
    "execution": {
     "iopub.execute_input": "2021-08-25T10:19:00.369194Z",
     "iopub.status.busy": "2021-08-25T10:19:00.368391Z",
     "iopub.status.idle": "2021-08-25T10:19:04.422554Z",
     "shell.execute_reply": "2021-08-25T10:19:04.421475Z"
    }
   },
   "outputs": [],
   "source": [
    "import json, yaml, requests\r\n",
    "from datetime import datetime\r\n",
    "from dateutil import tz\r\n",
    "import pandas as pd\r\n",
    "from PIL import Image\r\n",
    "from io import BytesIO\r\n",
    "import matplotlib.pyplot as plt\r\n",
    "import seaborn\r\n",
    "\r\n",
    "CONFIG_PATH = \"../config/config.yaml\""
   ]
  },
  {
   "cell_type": "code",
   "execution_count": 2,
   "metadata": {
    "execution": {
     "iopub.execute_input": "2021-08-25T10:19:04.433408Z",
     "iopub.status.busy": "2021-08-25T10:19:04.432641Z",
     "iopub.status.idle": "2021-08-25T10:19:04.439374Z",
     "shell.execute_reply": "2021-08-25T10:19:04.438704Z"
    }
   },
   "outputs": [],
   "source": [
    "with open('../newest_ts', 'r') as f:\r\n",
    "    newest_ts = f.read()\r\n",
    "\r\n",
    "data_path = f\"../data/data_{newest_ts}.json\"\r\n",
    "with open(data_path, 'r') as f:\r\n",
    "    data = json.load(f)\r\n",
    "\r\n",
    "with open(CONFIG_PATH, \"r\") as stream:\r\n",
    "    config = yaml.safe_load(stream)\r\n",
    "\r\n",
    "TIME_ZONE = config['time_zone']\r\n",
    "DATETIME_FORMAT = config['dt_format']"
   ]
  },
  {
   "cell_type": "code",
   "execution_count": 3,
   "metadata": {
    "execution": {
     "iopub.execute_input": "2021-08-25T10:19:04.445032Z",
     "iopub.status.busy": "2021-08-25T10:19:04.444339Z",
     "iopub.status.idle": "2021-08-25T10:19:04.449492Z",
     "shell.execute_reply": "2021-08-25T10:19:04.449990Z"
    }
   },
   "outputs": [
    {
     "name": "stdout",
     "output_type": "stream",
     "text": [
      "Recent query happens at 2021-08-25 18:18:57 (CST).\n"
     ]
    }
   ],
   "source": [
    "def ts2dt(ts, format=DATETIME_FORMAT):\r\n",
    "    dt = (datetime.utcfromtimestamp(int(ts))\r\n",
    "                    .replace(tzinfo=tz.tzutc())\r\n",
    "                    # .astimezone(tz.tzlocal())\r\n",
    "                    .astimezone(tz.gettz(TIME_ZONE)))\r\n",
    "    return dt.strftime(format), dt\r\n",
    "\r\n",
    "_, newest_dt = ts2dt(newest_ts)\r\n",
    "print(f\"Recent query happens at {newest_dt.strftime(DATETIME_FORMAT)} ({newest_dt.tzname()}).\")"
   ]
  },
  {
   "cell_type": "code",
   "execution_count": 4,
   "metadata": {
    "execution": {
     "iopub.execute_input": "2021-08-25T10:19:04.456537Z",
     "iopub.status.busy": "2021-08-25T10:19:04.455067Z",
     "iopub.status.idle": "2021-08-25T10:19:04.457225Z",
     "shell.execute_reply": "2021-08-25T10:19:04.457850Z"
    }
   },
   "outputs": [],
   "source": [
    "def degrees_to_cardinal(d):\r\n",
    "  dirs = ['N', 'NNE', 'NE', 'ENE', 'E', 'ESE', 'SE', 'SSE', 'S', 'SSW', 'SW', 'WSW', 'W', 'WNW', 'NW', 'NNW']\r\n",
    "  ix = int(round(d / (360. / len(dirs))))\r\n",
    "  return dirs[ix % len(dirs)]"
   ]
  },
  {
   "cell_type": "code",
   "execution_count": 5,
   "metadata": {
    "execution": {
     "iopub.execute_input": "2021-08-25T10:19:04.462190Z",
     "iopub.status.busy": "2021-08-25T10:19:04.461368Z",
     "iopub.status.idle": "2021-08-25T10:19:04.464219Z",
     "shell.execute_reply": "2021-08-25T10:19:04.463616Z"
    }
   },
   "outputs": [],
   "source": [
    "# data.keys()"
   ]
  },
  {
   "cell_type": "code",
   "execution_count": 6,
   "metadata": {
    "execution": {
     "iopub.execute_input": "2021-08-25T10:19:04.469253Z",
     "iopub.status.busy": "2021-08-25T10:19:04.467738Z",
     "iopub.status.idle": "2021-08-25T10:19:04.469919Z",
     "shell.execute_reply": "2021-08-25T10:19:04.470410Z"
    }
   },
   "outputs": [],
   "source": [
    "# data['current']"
   ]
  },
  {
   "cell_type": "code",
   "execution_count": 7,
   "metadata": {
    "execution": {
     "iopub.execute_input": "2021-08-25T10:19:04.475372Z",
     "iopub.status.busy": "2021-08-25T10:19:04.474745Z",
     "iopub.status.idle": "2021-08-25T10:19:05.074351Z",
     "shell.execute_reply": "2021-08-25T10:19:05.075199Z"
    }
   },
   "outputs": [
    {
     "data": {
      "image/png": "[encoded data removed]",
      "text/plain": [
       "<Figure size 216x216 with 1 Axes>"
      ]
     },
     "metadata": {
      "needs_background": "light"
     },
     "output_type": "display_data"
    },
    {
     "name": "stdout",
     "output_type": "stream",
     "text": [
      "Today, sun rises at 06:03 and sets at 18:46.\n",
      "Currently, the weather is Clouds (broken clouds).\n",
      "The temperature is 30.62°C and it feels like 37.62°C.\n",
      "The UV index is 0.23, humidity is 77%.\n",
      "The pressure is 1008 hPa, percentage of cloud cover is 70%\n",
      "The wind comes from SE direction with a speed 3.36 m/s.\n"
     ]
    }
   ],
   "source": [
    "current = data['current']\r\n",
    "\r\n",
    "fig, ax = plt.subplots(figsize=(3, 3))\r\n",
    "icon = requests.get(f\"http://openweathermap.org/img/wn/{current['weather'][0]['icon']}@2x.png\")\r\n",
    "im = Image.open(BytesIO(icon.content))\r\n",
    "plt.imshow(im)\r\n",
    "ax.set_axis_off()\r\n",
    "plt.show()\r\n",
    "\r\n",
    "print(f\"Today, sun rises at {ts2dt(current['sunrise'], '%H:%M')[0]} \\\r\n",
    "and sets at {ts2dt(current['sunset'], '%H:%M')[0]}.\\n\\\r\n",
    "Currently, the weather is {current['weather'][0]['main']} ({current['weather'][0]['description']}).\\n\\\r\n",
    "The temperature is {current['temp']}°C and it feels like {current['feels_like']}°C.\\n\\\r\n",
    "The UV index is {current['uvi']}, humidity is {current['humidity']}%.\\n\\\r\n",
    "The pressure is {current['pressure']} hPa, percentage of cloud cover is {current['clouds']}%\\n\\\r\n",
    "The wind comes from {degrees_to_cardinal(current['wind_deg'])} direction with a speed {current['wind_speed']} m/s.\")"
   ]
  },
  {
   "cell_type": "code",
   "execution_count": 8,
   "metadata": {
    "execution": {
     "iopub.execute_input": "2021-08-25T10:19:05.079450Z",
     "iopub.status.busy": "2021-08-25T10:19:05.078273Z",
     "iopub.status.idle": "2021-08-25T10:19:05.087233Z",
     "shell.execute_reply": "2021-08-25T10:19:05.088035Z"
    }
   },
   "outputs": [],
   "source": [
    "df_hourly = pd.DataFrame(data['hourly'])\r\n",
    "df_daily = pd.DataFrame(data['daily'])"
   ]
  },
  {
   "cell_type": "code",
   "execution_count": 9,
   "metadata": {
    "execution": {
     "iopub.execute_input": "2021-08-25T10:19:05.092045Z",
     "iopub.status.busy": "2021-08-25T10:19:05.090869Z",
     "iopub.status.idle": "2021-08-25T10:19:05.451242Z",
     "shell.execute_reply": "2021-08-25T10:19:05.451796Z"
    }
   },
   "outputs": [
    {
     "data": {
      "image/png": "[encoded data removed]",
      "text/plain": [
       "<Figure size 864x432 with 1 Axes>"
      ]
     },
     "metadata": {
      "needs_background": "light"
     },
     "output_type": "display_data"
    }
   ],
   "source": [
    "fig, ax = plt.subplots(figsize=(12, 6))\r\n",
    "plt.plot(df_hourly.temp, '.-', label='Temperature')\r\n",
    "plt.plot(df_hourly.feels_like, '.-', label='Feels Like')\r\n",
    "ax.set(title='Temperature in future 48 hours', xlabel='Time', ylabel='Temperature')\r\n",
    "ax.set_xticks(list(range(0, len(df_hourly), 2)))\r\n",
    "ax.set_xticklabels([ts2dt(ts, '%m-%d %H:%M')[0] for i, ts in enumerate(df_hourly.dt) if i%2==0], \r\n",
    "                   rotation=45, ha=\"right\")\r\n",
    "ax.locator_params(nbins=15, axis='y')\r\n",
    "plt.legend()\r\n",
    "plt.show()"
   ]
  },
  {
   "cell_type": "code",
   "execution_count": 10,
   "metadata": {
    "execution": {
     "iopub.execute_input": "2021-08-25T10:19:05.458904Z",
     "iopub.status.busy": "2021-08-25T10:19:05.458051Z",
     "iopub.status.idle": "2021-08-25T10:19:05.478292Z",
     "shell.execute_reply": "2021-08-25T10:19:05.478835Z"
    }
   },
   "outputs": [
    {
     "data": {
      "text/html": [
       "<div>\n",
       "<style scoped>\n",
       "    .dataframe tbody tr th:only-of-type {\n",
       "        vertical-align: middle;\n",
       "    }\n",
       "\n",
       "    .dataframe tbody tr th {\n",
       "        vertical-align: top;\n",
       "    }\n",
       "\n",
       "    .dataframe thead th {\n",
       "        text-align: right;\n",
       "    }\n",
       "</style>\n",
       "<table border=\"1\" class=\"dataframe\">\n",
       "  <thead>\n",
       "    <tr style=\"text-align: right;\">\n",
       "      <th></th>\n",
       "      <th>dt</th>\n",
       "      <th>temp</th>\n",
       "      <th>feels_like</th>\n",
       "      <th>pressure</th>\n",
       "      <th>humidity</th>\n",
       "      <th>dew_point</th>\n",
       "      <th>uvi</th>\n",
       "      <th>clouds</th>\n",
       "      <th>visibility</th>\n",
       "      <th>wind_speed</th>\n",
       "      <th>wind_deg</th>\n",
       "      <th>wind_gust</th>\n",
       "      <th>weather</th>\n",
       "      <th>pop</th>\n",
       "      <th>rain</th>\n",
       "    </tr>\n",
       "  </thead>\n",
       "  <tbody>\n",
       "    <tr>\n",
       "      <th>0</th>\n",
       "      <td>1629885600</td>\n",
       "      <td>30.62</td>\n",
       "      <td>37.62</td>\n",
       "      <td>1008</td>\n",
       "      <td>77</td>\n",
       "      <td>26.12</td>\n",
       "      <td>0.23</td>\n",
       "      <td>70</td>\n",
       "      <td>10000</td>\n",
       "      <td>3.36</td>\n",
       "      <td>130</td>\n",
       "      <td>4.20</td>\n",
       "      <td>[{'id': 803, 'main': 'Clouds', 'description': ...</td>\n",
       "      <td>0.62</td>\n",
       "      <td>NaN</td>\n",
       "    </tr>\n",
       "    <tr>\n",
       "      <th>1</th>\n",
       "      <td>1629889200</td>\n",
       "      <td>30.18</td>\n",
       "      <td>37.18</td>\n",
       "      <td>1008</td>\n",
       "      <td>78</td>\n",
       "      <td>25.92</td>\n",
       "      <td>0.00</td>\n",
       "      <td>71</td>\n",
       "      <td>10000</td>\n",
       "      <td>3.00</td>\n",
       "      <td>126</td>\n",
       "      <td>3.90</td>\n",
       "      <td>[{'id': 803, 'main': 'Clouds', 'description': ...</td>\n",
       "      <td>0.61</td>\n",
       "      <td>NaN</td>\n",
       "    </tr>\n",
       "    <tr>\n",
       "      <th>2</th>\n",
       "      <td>1629892800</td>\n",
       "      <td>29.65</td>\n",
       "      <td>36.35</td>\n",
       "      <td>1008</td>\n",
       "      <td>79</td>\n",
       "      <td>25.62</td>\n",
       "      <td>0.00</td>\n",
       "      <td>69</td>\n",
       "      <td>10000</td>\n",
       "      <td>2.93</td>\n",
       "      <td>119</td>\n",
       "      <td>3.94</td>\n",
       "      <td>[{'id': 803, 'main': 'Clouds', 'description': ...</td>\n",
       "      <td>0.61</td>\n",
       "      <td>NaN</td>\n",
       "    </tr>\n",
       "    <tr>\n",
       "      <th>3</th>\n",
       "      <td>1629896400</td>\n",
       "      <td>29.14</td>\n",
       "      <td>35.13</td>\n",
       "      <td>1009</td>\n",
       "      <td>80</td>\n",
       "      <td>25.33</td>\n",
       "      <td>0.00</td>\n",
       "      <td>67</td>\n",
       "      <td>10000</td>\n",
       "      <td>2.80</td>\n",
       "      <td>116</td>\n",
       "      <td>3.86</td>\n",
       "      <td>[{'id': 803, 'main': 'Clouds', 'description': ...</td>\n",
       "      <td>0.03</td>\n",
       "      <td>NaN</td>\n",
       "    </tr>\n",
       "    <tr>\n",
       "      <th>4</th>\n",
       "      <td>1629900000</td>\n",
       "      <td>28.59</td>\n",
       "      <td>34.01</td>\n",
       "      <td>1010</td>\n",
       "      <td>82</td>\n",
       "      <td>25.21</td>\n",
       "      <td>0.00</td>\n",
       "      <td>74</td>\n",
       "      <td>10000</td>\n",
       "      <td>2.72</td>\n",
       "      <td>120</td>\n",
       "      <td>3.77</td>\n",
       "      <td>[{'id': 803, 'main': 'Clouds', 'description': ...</td>\n",
       "      <td>0.04</td>\n",
       "      <td>NaN</td>\n",
       "    </tr>\n",
       "  </tbody>\n",
       "</table>\n",
       "</div>"
      ],
      "text/plain": [
       "           dt   temp  feels_like  pressure  humidity  dew_point   uvi  clouds  \\\n",
       "0  1629885600  30.62       37.62      1008        77      26.12  0.23      70   \n",
       "1  1629889200  30.18       37.18      1008        78      25.92  0.00      71   \n",
       "2  1629892800  29.65       36.35      1008        79      25.62  0.00      69   \n",
       "3  1629896400  29.14       35.13      1009        80      25.33  0.00      67   \n",
       "4  1629900000  28.59       34.01      1010        82      25.21  0.00      74   \n",
       "\n",
       "   visibility  wind_speed  wind_deg  wind_gust  \\\n",
       "0       10000        3.36       130       4.20   \n",
       "1       10000        3.00       126       3.90   \n",
       "2       10000        2.93       119       3.94   \n",
       "3       10000        2.80       116       3.86   \n",
       "4       10000        2.72       120       3.77   \n",
       "\n",
       "                                             weather   pop rain  \n",
       "0  [{'id': 803, 'main': 'Clouds', 'description': ...  0.62  NaN  \n",
       "1  [{'id': 803, 'main': 'Clouds', 'description': ...  0.61  NaN  \n",
       "2  [{'id': 803, 'main': 'Clouds', 'description': ...  0.61  NaN  \n",
       "3  [{'id': 803, 'main': 'Clouds', 'description': ...  0.03  NaN  \n",
       "4  [{'id': 803, 'main': 'Clouds', 'description': ...  0.04  NaN  "
      ]
     },
     "execution_count": 10,
     "metadata": {},
     "output_type": "execute_result"
    }
   ],
   "source": [
    "df_hourly.head()"
   ]
  },
  {
   "cell_type": "code",
   "execution_count": null,
   "metadata": {},
   "outputs": [],
   "source": []
  }
 ],
 "metadata": {
  "interpreter": {
   "hash": "c1b4cfe941b6d2466ad1fb5979e97da9cda8801728c8091b097ab734208fc00c"
  },
  "kernelspec": {
   "display_name": "Python 3.8.3 64-bit ('base': conda)",
   "name": "python3"
  },
  "language_info": {
   "codemirror_mode": {
    "name": "ipython",
    "version": 3
   },
   "file_extension": ".py",
   "mimetype": "text/x-python",
   "name": "python",
   "nbconvert_exporter": "python",
   "pygments_lexer": "ipython3",
   "version": "3.8.11"
  }
 },
 "nbformat": 4,
 "nbformat_minor": 2
}
