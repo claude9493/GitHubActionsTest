{
 "cells": [
  {
   "cell_type": "code",
   "execution_count": 1,
   "metadata": {
    "execution": {
     "iopub.execute_input": "2021-09-30T06:13:57.090150Z",
     "iopub.status.busy": "2021-09-30T06:13:57.089591Z",
     "iopub.status.idle": "2021-09-30T06:13:59.429805Z",
     "shell.execute_reply": "2021-09-30T06:13:59.428797Z"
    }
   },
   "outputs": [],
   "source": [
    "import json, yaml, requests\r\n",
    "from datetime import datetime\r\n",
    "from dateutil import tz\r\n",
    "import pandas as pd\r\n",
    "from PIL import Image\r\n",
    "from io import BytesIO\r\n",
    "import matplotlib.pyplot as plt\r\n",
    "import seaborn\r\n",
    "\r\n",
    "CONFIG_PATH = \"../config/config.yaml\""
   ]
  },
  {
   "cell_type": "code",
   "execution_count": 2,
   "metadata": {
    "execution": {
     "iopub.execute_input": "2021-09-30T06:13:59.435176Z",
     "iopub.status.busy": "2021-09-30T06:13:59.434682Z",
     "iopub.status.idle": "2021-09-30T06:13:59.439821Z",
     "shell.execute_reply": "2021-09-30T06:13:59.439419Z"
    }
   },
   "outputs": [],
   "source": [
    "with open('../newest_ts', 'r') as f:\r\n",
    "    newest_ts = f.read()\r\n",
    "\r\n",
    "data_path = f\"../data/data_{newest_ts}.json\"\r\n",
    "with open(data_path, 'r') as f:\r\n",
    "    data = json.load(f)\r\n",
    "\r\n",
    "with open(CONFIG_PATH, \"r\") as stream:\r\n",
    "    config = yaml.safe_load(stream)\r\n",
    "\r\n",
    "TIME_ZONE = config['time_zone']\r\n",
    "DATETIME_FORMAT = config['dt_format']"
   ]
  },
  {
   "cell_type": "code",
   "execution_count": 3,
   "metadata": {
    "execution": {
     "iopub.execute_input": "2021-09-30T06:13:59.444065Z",
     "iopub.status.busy": "2021-09-30T06:13:59.443614Z",
     "iopub.status.idle": "2021-09-30T06:13:59.474398Z",
     "shell.execute_reply": "2021-09-30T06:13:59.474791Z"
    }
   },
   "outputs": [
    {
     "name": "stdout",
     "output_type": "stream",
     "text": [
      "Recent query happens at 2021-09-30 14:13:54 (CST).\n"
     ]
    }
   ],
   "source": [
    "def ts2dt(ts, format=DATETIME_FORMAT):\r\n",
    "    dt = (datetime.utcfromtimestamp(int(ts))\r\n",
    "                    .replace(tzinfo=tz.tzutc())\r\n",
    "                    # .astimezone(tz.tzlocal())\r\n",
    "                    .astimezone(tz.gettz(TIME_ZONE)))\r\n",
    "    return dt.strftime(format), dt\r\n",
    "\r\n",
    "_, newest_dt = ts2dt(newest_ts)\r\n",
    "print(f\"Recent query happens at {newest_dt.strftime(DATETIME_FORMAT)} ({newest_dt.tzname()}).\")"
   ]
  },
  {
   "cell_type": "code",
   "execution_count": 4,
   "metadata": {
    "execution": {
     "iopub.execute_input": "2021-09-30T06:13:59.479810Z",
     "iopub.status.busy": "2021-09-30T06:13:59.478677Z",
     "iopub.status.idle": "2021-09-30T06:13:59.480328Z",
     "shell.execute_reply": "2021-09-30T06:13:59.480689Z"
    }
   },
   "outputs": [],
   "source": [
    "def degrees_to_cardinal(d):\r\n",
    "  dirs = ['N', 'NNE', 'NE', 'ENE', 'E', 'ESE', 'SE', 'SSE', 'S', 'SSW', 'SW', 'WSW', 'W', 'WNW', 'NW', 'NNW']\r\n",
    "  ix = int(round(d / (360. / len(dirs))))\r\n",
    "  return dirs[ix % len(dirs)]"
   ]
  },
  {
   "cell_type": "code",
   "execution_count": 5,
   "metadata": {
    "execution": {
     "iopub.execute_input": "2021-09-30T06:13:59.483826Z",
     "iopub.status.busy": "2021-09-30T06:13:59.483382Z",
     "iopub.status.idle": "2021-09-30T06:13:59.485558Z",
     "shell.execute_reply": "2021-09-30T06:13:59.485158Z"
    }
   },
   "outputs": [],
   "source": [
    "# data.keys()"
   ]
  },
  {
   "cell_type": "code",
   "execution_count": 6,
   "metadata": {
    "execution": {
     "iopub.execute_input": "2021-09-30T06:13:59.488733Z",
     "iopub.status.busy": "2021-09-30T06:13:59.488079Z",
     "iopub.status.idle": "2021-09-30T06:13:59.495282Z",
     "shell.execute_reply": "2021-09-30T06:13:59.495630Z"
    }
   },
   "outputs": [],
   "source": [
    "# data['current']"
   ]
  },
  {
   "cell_type": "code",
   "execution_count": 7,
   "metadata": {
    "execution": {
     "iopub.execute_input": "2021-09-30T06:13:59.512378Z",
     "iopub.status.busy": "2021-09-30T06:13:59.511915Z",
     "iopub.status.idle": "2021-09-30T06:14:00.025925Z",
     "shell.execute_reply": "2021-09-30T06:14:00.026602Z"
    }
   },
   "outputs": [
    {
     "data": {
      "image/png": "[encoded data removed]",
      "text/plain": [
       "<Figure size 216x216 with 1 Axes>"
      ]
     },
     "metadata": {
      "needs_background": "light"
     },
     "output_type": "display_data"
    },
    {
     "name": "stdout",
     "output_type": "stream",
     "text": [
      "Today, sun rises at 06:13 and sets at 18:12.\n",
      "Currently, the weather is Clouds (few clouds).\n",
      "The temperature is 32.13°C and it feels like 39.13°C.\n",
      "The UV index is 7.9, humidity is 77%.\n",
      "The pressure is 1006 hPa, percentage of cloud cover is 15%\n",
      "The wind comes from SW direction with a speed 0.89 m/s.\n"
     ]
    }
   ],
   "source": [
    "current = data['current']\r\n",
    "\r\n",
    "fig, ax = plt.subplots(figsize=(3, 3))\r\n",
    "icon = requests.get(f\"http://openweathermap.org/img/wn/{current['weather'][0]['icon']}@2x.png\")\r\n",
    "im = Image.open(BytesIO(icon.content))\r\n",
    "plt.imshow(im)\r\n",
    "ax.set_axis_off()\r\n",
    "plt.show()\r\n",
    "\r\n",
    "print(f\"Today, sun rises at {ts2dt(current['sunrise'], '%H:%M')[0]} \\\r\n",
    "and sets at {ts2dt(current['sunset'], '%H:%M')[0]}.\\n\\\r\n",
    "Currently, the weather is {current['weather'][0]['main']} ({current['weather'][0]['description']}).\\n\\\r\n",
    "The temperature is {current['temp']}°C and it feels like {current['feels_like']}°C.\\n\\\r\n",
    "The UV index is {current['uvi']}, humidity is {current['humidity']}%.\\n\\\r\n",
    "The pressure is {current['pressure']} hPa, percentage of cloud cover is {current['clouds']}%\\n\\\r\n",
    "The wind comes from {degrees_to_cardinal(current['wind_deg'])} direction with a speed {current['wind_speed']} m/s.\")"
   ]
  },
  {
   "cell_type": "code",
   "execution_count": 8,
   "metadata": {
    "execution": {
     "iopub.execute_input": "2021-09-30T06:14:00.029863Z",
     "iopub.status.busy": "2021-09-30T06:14:00.028912Z",
     "iopub.status.idle": "2021-09-30T06:14:00.035878Z",
     "shell.execute_reply": "2021-09-30T06:14:00.036520Z"
    }
   },
   "outputs": [],
   "source": [
    "df_hourly = pd.DataFrame(data['hourly'])\r\n",
    "df_daily = pd.DataFrame(data['daily'])"
   ]
  },
  {
   "cell_type": "code",
   "execution_count": 9,
   "metadata": {
    "execution": {
     "iopub.execute_input": "2021-09-30T06:14:00.039720Z",
     "iopub.status.busy": "2021-09-30T06:14:00.038674Z",
     "iopub.status.idle": "2021-09-30T06:14:00.286118Z",
     "shell.execute_reply": "2021-09-30T06:14:00.285694Z"
    }
   },
   "outputs": [
    {
     "data": {
      "image/png": "[encoded data removed]",
      "text/plain": [
       "<Figure size 864x432 with 1 Axes>"
      ]
     },
     "metadata": {
      "needs_background": "light"
     },
     "output_type": "display_data"
    }
   ],
   "source": [
    "fig, ax = plt.subplots(figsize=(12, 6))\r\n",
    "plt.plot(df_hourly.temp, '.-', label='Temperature')\r\n",
    "plt.plot(df_hourly.feels_like, '.-', label='Feels Like')\r\n",
    "ax.set(title='Temperature in future 48 hours', xlabel='Time', ylabel='Temperature')\r\n",
    "ax.set_xticks(list(range(0, len(df_hourly), 2)))\r\n",
    "ax.set_xticklabels([ts2dt(ts, '%m-%d %H:%M')[0] for i, ts in enumerate(df_hourly.dt) if i%2==0], \r\n",
    "                   rotation=45, ha=\"right\")\r\n",
    "ax.locator_params(nbins=15, axis='y')\r\n",
    "plt.legend()\r\n",
    "plt.show()"
   ]
  },
  {
   "cell_type": "code",
   "execution_count": 10,
   "metadata": {
    "execution": {
     "iopub.execute_input": "2021-09-30T06:14:00.304020Z",
     "iopub.status.busy": "2021-09-30T06:14:00.296970Z",
     "iopub.status.idle": "2021-09-30T06:14:00.309209Z",
     "shell.execute_reply": "2021-09-30T06:14:00.308798Z"
    }
   },
   "outputs": [
    {
     "data": {
      "text/html": [
       "<div>\n",
       "<style scoped>\n",
       "    .dataframe tbody tr th:only-of-type {\n",
       "        vertical-align: middle;\n",
       "    }\n",
       "\n",
       "    .dataframe tbody tr th {\n",
       "        vertical-align: top;\n",
       "    }\n",
       "\n",
       "    .dataframe thead th {\n",
       "        text-align: right;\n",
       "    }\n",
       "</style>\n",
       "<table border=\"1\" class=\"dataframe\">\n",
       "  <thead>\n",
       "    <tr style=\"text-align: right;\">\n",
       "      <th></th>\n",
       "      <th>dt</th>\n",
       "      <th>temp</th>\n",
       "      <th>feels_like</th>\n",
       "      <th>pressure</th>\n",
       "      <th>humidity</th>\n",
       "      <th>dew_point</th>\n",
       "      <th>uvi</th>\n",
       "      <th>clouds</th>\n",
       "      <th>visibility</th>\n",
       "      <th>wind_speed</th>\n",
       "      <th>wind_deg</th>\n",
       "      <th>wind_gust</th>\n",
       "      <th>weather</th>\n",
       "      <th>pop</th>\n",
       "      <th>rain</th>\n",
       "    </tr>\n",
       "  </thead>\n",
       "  <tbody>\n",
       "    <tr>\n",
       "      <th>0</th>\n",
       "      <td>1632981600</td>\n",
       "      <td>32.13</td>\n",
       "      <td>39.13</td>\n",
       "      <td>1006</td>\n",
       "      <td>77</td>\n",
       "      <td>27.58</td>\n",
       "      <td>7.90</td>\n",
       "      <td>15</td>\n",
       "      <td>10000</td>\n",
       "      <td>4.12</td>\n",
       "      <td>213</td>\n",
       "      <td>3.37</td>\n",
       "      <td>[{'id': 801, 'main': 'Clouds', 'description': ...</td>\n",
       "      <td>0.11</td>\n",
       "      <td>NaN</td>\n",
       "    </tr>\n",
       "    <tr>\n",
       "      <th>1</th>\n",
       "      <td>1632985200</td>\n",
       "      <td>31.82</td>\n",
       "      <td>38.82</td>\n",
       "      <td>1006</td>\n",
       "      <td>75</td>\n",
       "      <td>26.83</td>\n",
       "      <td>5.19</td>\n",
       "      <td>19</td>\n",
       "      <td>10000</td>\n",
       "      <td>4.50</td>\n",
       "      <td>208</td>\n",
       "      <td>4.04</td>\n",
       "      <td>[{'id': 801, 'main': 'Clouds', 'description': ...</td>\n",
       "      <td>0.08</td>\n",
       "      <td>NaN</td>\n",
       "    </tr>\n",
       "    <tr>\n",
       "      <th>2</th>\n",
       "      <td>1632988800</td>\n",
       "      <td>31.42</td>\n",
       "      <td>38.42</td>\n",
       "      <td>1006</td>\n",
       "      <td>74</td>\n",
       "      <td>26.22</td>\n",
       "      <td>2.53</td>\n",
       "      <td>23</td>\n",
       "      <td>10000</td>\n",
       "      <td>4.45</td>\n",
       "      <td>203</td>\n",
       "      <td>4.36</td>\n",
       "      <td>[{'id': 801, 'main': 'Clouds', 'description': ...</td>\n",
       "      <td>0.04</td>\n",
       "      <td>NaN</td>\n",
       "    </tr>\n",
       "    <tr>\n",
       "      <th>3</th>\n",
       "      <td>1632992400</td>\n",
       "      <td>30.91</td>\n",
       "      <td>37.91</td>\n",
       "      <td>1006</td>\n",
       "      <td>74</td>\n",
       "      <td>25.73</td>\n",
       "      <td>0.78</td>\n",
       "      <td>24</td>\n",
       "      <td>10000</td>\n",
       "      <td>4.18</td>\n",
       "      <td>204</td>\n",
       "      <td>4.27</td>\n",
       "      <td>[{'id': 801, 'main': 'Clouds', 'description': ...</td>\n",
       "      <td>0.08</td>\n",
       "      <td>NaN</td>\n",
       "    </tr>\n",
       "    <tr>\n",
       "      <th>4</th>\n",
       "      <td>1632996000</td>\n",
       "      <td>29.91</td>\n",
       "      <td>36.58</td>\n",
       "      <td>1007</td>\n",
       "      <td>77</td>\n",
       "      <td>25.44</td>\n",
       "      <td>0.00</td>\n",
       "      <td>21</td>\n",
       "      <td>10000</td>\n",
       "      <td>3.39</td>\n",
       "      <td>208</td>\n",
       "      <td>3.74</td>\n",
       "      <td>[{'id': 801, 'main': 'Clouds', 'description': ...</td>\n",
       "      <td>0.05</td>\n",
       "      <td>NaN</td>\n",
       "    </tr>\n",
       "  </tbody>\n",
       "</table>\n",
       "</div>"
      ],
      "text/plain": [
       "           dt   temp  feels_like  pressure  humidity  dew_point   uvi  clouds  \\\n",
       "0  1632981600  32.13       39.13      1006        77      27.58  7.90      15   \n",
       "1  1632985200  31.82       38.82      1006        75      26.83  5.19      19   \n",
       "2  1632988800  31.42       38.42      1006        74      26.22  2.53      23   \n",
       "3  1632992400  30.91       37.91      1006        74      25.73  0.78      24   \n",
       "4  1632996000  29.91       36.58      1007        77      25.44  0.00      21   \n",
       "\n",
       "   visibility  wind_speed  wind_deg  wind_gust  \\\n",
       "0       10000        4.12       213       3.37   \n",
       "1       10000        4.50       208       4.04   \n",
       "2       10000        4.45       203       4.36   \n",
       "3       10000        4.18       204       4.27   \n",
       "4       10000        3.39       208       3.74   \n",
       "\n",
       "                                             weather   pop rain  \n",
       "0  [{'id': 801, 'main': 'Clouds', 'description': ...  0.11  NaN  \n",
       "1  [{'id': 801, 'main': 'Clouds', 'description': ...  0.08  NaN  \n",
       "2  [{'id': 801, 'main': 'Clouds', 'description': ...  0.04  NaN  \n",
       "3  [{'id': 801, 'main': 'Clouds', 'description': ...  0.08  NaN  \n",
       "4  [{'id': 801, 'main': 'Clouds', 'description': ...  0.05  NaN  "
      ]
     },
     "execution_count": 10,
     "metadata": {},
     "output_type": "execute_result"
    }
   ],
   "source": [
    "df_hourly.head()"
   ]
  },
  {
   "cell_type": "code",
   "execution_count": null,
   "metadata": {},
   "outputs": [],
   "source": []
  }
 ],
 "metadata": {
  "interpreter": {
   "hash": "c1b4cfe941b6d2466ad1fb5979e97da9cda8801728c8091b097ab734208fc00c"
  },
  "kernelspec": {
   "display_name": "Python 3.8.3 64-bit ('base': conda)",
   "name": "python3"
  },
  "language_info": {
   "codemirror_mode": {
    "name": "ipython",
    "version": 3
   },
   "file_extension": ".py",
   "mimetype": "text/x-python",
   "name": "python",
   "nbconvert_exporter": "python",
   "pygments_lexer": "ipython3",
   "version": "3.8.12"
  }
 },
 "nbformat": 4,
 "nbformat_minor": 2
}
