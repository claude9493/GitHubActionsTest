{
 "cells": [
  {
   "cell_type": "code",
   "execution_count": 1,
   "metadata": {
    "execution": {
     "iopub.execute_input": "2021-09-25T00:37:36.430050Z",
     "iopub.status.busy": "2021-09-25T00:37:36.429482Z",
     "iopub.status.idle": "2021-09-25T00:37:39.719401Z",
     "shell.execute_reply": "2021-09-25T00:37:39.718367Z"
    }
   },
   "outputs": [],
   "source": [
    "import json, yaml, requests\r\n",
    "from datetime import datetime\r\n",
    "from dateutil import tz\r\n",
    "import pandas as pd\r\n",
    "from PIL import Image\r\n",
    "from io import BytesIO\r\n",
    "import matplotlib.pyplot as plt\r\n",
    "import seaborn\r\n",
    "\r\n",
    "CONFIG_PATH = \"../config/config.yaml\""
   ]
  },
  {
   "cell_type": "code",
   "execution_count": 2,
   "metadata": {
    "execution": {
     "iopub.execute_input": "2021-09-25T00:37:39.727067Z",
     "iopub.status.busy": "2021-09-25T00:37:39.724575Z",
     "iopub.status.idle": "2021-09-25T00:37:39.729646Z",
     "shell.execute_reply": "2021-09-25T00:37:39.729259Z"
    }
   },
   "outputs": [],
   "source": [
    "with open('../newest_ts', 'r') as f:\r\n",
    "    newest_ts = f.read()\r\n",
    "\r\n",
    "data_path = f\"../data/data_{newest_ts}.json\"\r\n",
    "with open(data_path, 'r') as f:\r\n",
    "    data = json.load(f)\r\n",
    "\r\n",
    "with open(CONFIG_PATH, \"r\") as stream:\r\n",
    "    config = yaml.safe_load(stream)\r\n",
    "\r\n",
    "TIME_ZONE = config['time_zone']\r\n",
    "DATETIME_FORMAT = config['dt_format']"
   ]
  },
  {
   "cell_type": "code",
   "execution_count": 3,
   "metadata": {
    "execution": {
     "iopub.execute_input": "2021-09-25T00:37:39.734404Z",
     "iopub.status.busy": "2021-09-25T00:37:39.733863Z",
     "iopub.status.idle": "2021-09-25T00:37:39.744120Z",
     "shell.execute_reply": "2021-09-25T00:37:39.744557Z"
    }
   },
   "outputs": [
    {
     "name": "stdout",
     "output_type": "stream",
     "text": [
      "Recent query happens at 2021-09-25 08:37:33 (CST).\n"
     ]
    }
   ],
   "source": [
    "def ts2dt(ts, format=DATETIME_FORMAT):\r\n",
    "    dt = (datetime.utcfromtimestamp(int(ts))\r\n",
    "                    .replace(tzinfo=tz.tzutc())\r\n",
    "                    # .astimezone(tz.tzlocal())\r\n",
    "                    .astimezone(tz.gettz(TIME_ZONE)))\r\n",
    "    return dt.strftime(format), dt\r\n",
    "\r\n",
    "_, newest_dt = ts2dt(newest_ts)\r\n",
    "print(f\"Recent query happens at {newest_dt.strftime(DATETIME_FORMAT)} ({newest_dt.tzname()}).\")"
   ]
  },
  {
   "cell_type": "code",
   "execution_count": 4,
   "metadata": {
    "execution": {
     "iopub.execute_input": "2021-09-25T00:37:39.749316Z",
     "iopub.status.busy": "2021-09-25T00:37:39.748779Z",
     "iopub.status.idle": "2021-09-25T00:37:39.750947Z",
     "shell.execute_reply": "2021-09-25T00:37:39.750424Z"
    }
   },
   "outputs": [],
   "source": [
    "def degrees_to_cardinal(d):\r\n",
    "  dirs = ['N', 'NNE', 'NE', 'ENE', 'E', 'ESE', 'SE', 'SSE', 'S', 'SSW', 'SW', 'WSW', 'W', 'WNW', 'NW', 'NNW']\r\n",
    "  ix = int(round(d / (360. / len(dirs))))\r\n",
    "  return dirs[ix % len(dirs)]"
   ]
  },
  {
   "cell_type": "code",
   "execution_count": 5,
   "metadata": {
    "execution": {
     "iopub.execute_input": "2021-09-25T00:37:39.755561Z",
     "iopub.status.busy": "2021-09-25T00:37:39.754187Z",
     "iopub.status.idle": "2021-09-25T00:37:39.756165Z",
     "shell.execute_reply": "2021-09-25T00:37:39.756589Z"
    }
   },
   "outputs": [],
   "source": [
    "# data.keys()"
   ]
  },
  {
   "cell_type": "code",
   "execution_count": 6,
   "metadata": {
    "execution": {
     "iopub.execute_input": "2021-09-25T00:37:39.760819Z",
     "iopub.status.busy": "2021-09-25T00:37:39.759637Z",
     "iopub.status.idle": "2021-09-25T00:37:39.761418Z",
     "shell.execute_reply": "2021-09-25T00:37:39.761842Z"
    }
   },
   "outputs": [],
   "source": [
    "# data['current']"
   ]
  },
  {
   "cell_type": "code",
   "execution_count": 7,
   "metadata": {
    "execution": {
     "iopub.execute_input": "2021-09-25T00:37:39.780413Z",
     "iopub.status.busy": "2021-09-25T00:37:39.779850Z",
     "iopub.status.idle": "2021-09-25T00:37:40.058182Z",
     "shell.execute_reply": "2021-09-25T00:37:40.058936Z"
    }
   },
   "outputs": [
    {
     "data": {
      "image/png": "[encoded data removed]",
      "text/plain": [
       "<Figure size 216x216 with 1 Axes>"
      ]
     },
     "metadata": {
      "needs_background": "light"
     },
     "output_type": "display_data"
    },
    {
     "name": "stdout",
     "output_type": "stream",
     "text": [
      "Today, sun rises at 06:12 and sets at 18:16.\n",
      "Currently, the weather is Clouds (broken clouds).\n",
      "The temperature is 28.8°C and it feels like 34.4°C.\n",
      "The UV index is 3.02, humidity is 81%.\n",
      "The pressure is 1012 hPa, percentage of cloud cover is 71%\n",
      "The wind comes from NNE direction with a speed 0.45 m/s.\n"
     ]
    }
   ],
   "source": [
    "current = data['current']\r\n",
    "\r\n",
    "fig, ax = plt.subplots(figsize=(3, 3))\r\n",
    "icon = requests.get(f\"http://openweathermap.org/img/wn/{current['weather'][0]['icon']}@2x.png\")\r\n",
    "im = Image.open(BytesIO(icon.content))\r\n",
    "plt.imshow(im)\r\n",
    "ax.set_axis_off()\r\n",
    "plt.show()\r\n",
    "\r\n",
    "print(f\"Today, sun rises at {ts2dt(current['sunrise'], '%H:%M')[0]} \\\r\n",
    "and sets at {ts2dt(current['sunset'], '%H:%M')[0]}.\\n\\\r\n",
    "Currently, the weather is {current['weather'][0]['main']} ({current['weather'][0]['description']}).\\n\\\r\n",
    "The temperature is {current['temp']}°C and it feels like {current['feels_like']}°C.\\n\\\r\n",
    "The UV index is {current['uvi']}, humidity is {current['humidity']}%.\\n\\\r\n",
    "The pressure is {current['pressure']} hPa, percentage of cloud cover is {current['clouds']}%\\n\\\r\n",
    "The wind comes from {degrees_to_cardinal(current['wind_deg'])} direction with a speed {current['wind_speed']} m/s.\")"
   ]
  },
  {
   "cell_type": "code",
   "execution_count": 8,
   "metadata": {
    "execution": {
     "iopub.execute_input": "2021-09-25T00:37:40.062434Z",
     "iopub.status.busy": "2021-09-25T00:37:40.061916Z",
     "iopub.status.idle": "2021-09-25T00:37:40.068895Z",
     "shell.execute_reply": "2021-09-25T00:37:40.069637Z"
    }
   },
   "outputs": [],
   "source": [
    "df_hourly = pd.DataFrame(data['hourly'])\r\n",
    "df_daily = pd.DataFrame(data['daily'])"
   ]
  },
  {
   "cell_type": "code",
   "execution_count": 9,
   "metadata": {
    "execution": {
     "iopub.execute_input": "2021-09-25T00:37:40.073232Z",
     "iopub.status.busy": "2021-09-25T00:37:40.072139Z",
     "iopub.status.idle": "2021-09-25T00:37:40.340749Z",
     "shell.execute_reply": "2021-09-25T00:37:40.341269Z"
    }
   },
   "outputs": [
    {
     "data": {
      "image/png": "[encoded data removed]",
      "text/plain": [
       "<Figure size 864x432 with 1 Axes>"
      ]
     },
     "metadata": {
      "needs_background": "light"
     },
     "output_type": "display_data"
    }
   ],
   "source": [
    "fig, ax = plt.subplots(figsize=(12, 6))\r\n",
    "plt.plot(df_hourly.temp, '.-', label='Temperature')\r\n",
    "plt.plot(df_hourly.feels_like, '.-', label='Feels Like')\r\n",
    "ax.set(title='Temperature in future 48 hours', xlabel='Time', ylabel='Temperature')\r\n",
    "ax.set_xticks(list(range(0, len(df_hourly), 2)))\r\n",
    "ax.set_xticklabels([ts2dt(ts, '%m-%d %H:%M')[0] for i, ts in enumerate(df_hourly.dt) if i%2==0], \r\n",
    "                   rotation=45, ha=\"right\")\r\n",
    "ax.locator_params(nbins=15, axis='y')\r\n",
    "plt.legend()\r\n",
    "plt.show()"
   ]
  },
  {
   "cell_type": "code",
   "execution_count": 10,
   "metadata": {
    "execution": {
     "iopub.execute_input": "2021-09-25T00:37:40.346191Z",
     "iopub.status.busy": "2021-09-25T00:37:40.345653Z",
     "iopub.status.idle": "2021-09-25T00:37:40.365655Z",
     "shell.execute_reply": "2021-09-25T00:37:40.365161Z"
    }
   },
   "outputs": [
    {
     "data": {
      "text/html": [
       "<div>\n",
       "<style scoped>\n",
       "    .dataframe tbody tr th:only-of-type {\n",
       "        vertical-align: middle;\n",
       "    }\n",
       "\n",
       "    .dataframe tbody tr th {\n",
       "        vertical-align: top;\n",
       "    }\n",
       "\n",
       "    .dataframe thead th {\n",
       "        text-align: right;\n",
       "    }\n",
       "</style>\n",
       "<table border=\"1\" class=\"dataframe\">\n",
       "  <thead>\n",
       "    <tr style=\"text-align: right;\">\n",
       "      <th></th>\n",
       "      <th>dt</th>\n",
       "      <th>temp</th>\n",
       "      <th>feels_like</th>\n",
       "      <th>pressure</th>\n",
       "      <th>humidity</th>\n",
       "      <th>dew_point</th>\n",
       "      <th>uvi</th>\n",
       "      <th>clouds</th>\n",
       "      <th>visibility</th>\n",
       "      <th>wind_speed</th>\n",
       "      <th>wind_deg</th>\n",
       "      <th>wind_gust</th>\n",
       "      <th>weather</th>\n",
       "      <th>pop</th>\n",
       "      <th>rain</th>\n",
       "    </tr>\n",
       "  </thead>\n",
       "  <tbody>\n",
       "    <tr>\n",
       "      <th>0</th>\n",
       "      <td>1632528000</td>\n",
       "      <td>28.55</td>\n",
       "      <td>33.71</td>\n",
       "      <td>1012</td>\n",
       "      <td>81</td>\n",
       "      <td>24.97</td>\n",
       "      <td>1.05</td>\n",
       "      <td>66</td>\n",
       "      <td>10000</td>\n",
       "      <td>7.03</td>\n",
       "      <td>69</td>\n",
       "      <td>9.39</td>\n",
       "      <td>[{'id': 500, 'main': 'Rain', 'description': 'l...</td>\n",
       "      <td>0.49</td>\n",
       "      <td>{'1h': 0.18}</td>\n",
       "    </tr>\n",
       "    <tr>\n",
       "      <th>1</th>\n",
       "      <td>1632531600</td>\n",
       "      <td>28.80</td>\n",
       "      <td>34.40</td>\n",
       "      <td>1012</td>\n",
       "      <td>81</td>\n",
       "      <td>25.21</td>\n",
       "      <td>3.02</td>\n",
       "      <td>71</td>\n",
       "      <td>10000</td>\n",
       "      <td>7.20</td>\n",
       "      <td>71</td>\n",
       "      <td>9.05</td>\n",
       "      <td>[{'id': 803, 'main': 'Clouds', 'description': ...</td>\n",
       "      <td>0.40</td>\n",
       "      <td>NaN</td>\n",
       "    </tr>\n",
       "    <tr>\n",
       "      <th>2</th>\n",
       "      <td>1632535200</td>\n",
       "      <td>28.76</td>\n",
       "      <td>33.88</td>\n",
       "      <td>1012</td>\n",
       "      <td>79</td>\n",
       "      <td>24.75</td>\n",
       "      <td>5.72</td>\n",
       "      <td>70</td>\n",
       "      <td>10000</td>\n",
       "      <td>7.17</td>\n",
       "      <td>72</td>\n",
       "      <td>8.18</td>\n",
       "      <td>[{'id': 803, 'main': 'Clouds', 'description': ...</td>\n",
       "      <td>0.31</td>\n",
       "      <td>NaN</td>\n",
       "    </tr>\n",
       "    <tr>\n",
       "      <th>3</th>\n",
       "      <td>1632538800</td>\n",
       "      <td>28.83</td>\n",
       "      <td>33.67</td>\n",
       "      <td>1013</td>\n",
       "      <td>77</td>\n",
       "      <td>24.39</td>\n",
       "      <td>8.28</td>\n",
       "      <td>66</td>\n",
       "      <td>10000</td>\n",
       "      <td>7.62</td>\n",
       "      <td>72</td>\n",
       "      <td>8.53</td>\n",
       "      <td>[{'id': 803, 'main': 'Clouds', 'description': ...</td>\n",
       "      <td>0.35</td>\n",
       "      <td>NaN</td>\n",
       "    </tr>\n",
       "    <tr>\n",
       "      <th>4</th>\n",
       "      <td>1632542400</td>\n",
       "      <td>29.03</td>\n",
       "      <td>33.77</td>\n",
       "      <td>1013</td>\n",
       "      <td>75</td>\n",
       "      <td>24.15</td>\n",
       "      <td>9.74</td>\n",
       "      <td>63</td>\n",
       "      <td>10000</td>\n",
       "      <td>7.30</td>\n",
       "      <td>76</td>\n",
       "      <td>8.22</td>\n",
       "      <td>[{'id': 803, 'main': 'Clouds', 'description': ...</td>\n",
       "      <td>0.36</td>\n",
       "      <td>NaN</td>\n",
       "    </tr>\n",
       "  </tbody>\n",
       "</table>\n",
       "</div>"
      ],
      "text/plain": [
       "           dt   temp  feels_like  pressure  humidity  dew_point   uvi  clouds  \\\n",
       "0  1632528000  28.55       33.71      1012        81      24.97  1.05      66   \n",
       "1  1632531600  28.80       34.40      1012        81      25.21  3.02      71   \n",
       "2  1632535200  28.76       33.88      1012        79      24.75  5.72      70   \n",
       "3  1632538800  28.83       33.67      1013        77      24.39  8.28      66   \n",
       "4  1632542400  29.03       33.77      1013        75      24.15  9.74      63   \n",
       "\n",
       "   visibility  wind_speed  wind_deg  wind_gust  \\\n",
       "0       10000        7.03        69       9.39   \n",
       "1       10000        7.20        71       9.05   \n",
       "2       10000        7.17        72       8.18   \n",
       "3       10000        7.62        72       8.53   \n",
       "4       10000        7.30        76       8.22   \n",
       "\n",
       "                                             weather   pop          rain  \n",
       "0  [{'id': 500, 'main': 'Rain', 'description': 'l...  0.49  {'1h': 0.18}  \n",
       "1  [{'id': 803, 'main': 'Clouds', 'description': ...  0.40           NaN  \n",
       "2  [{'id': 803, 'main': 'Clouds', 'description': ...  0.31           NaN  \n",
       "3  [{'id': 803, 'main': 'Clouds', 'description': ...  0.35           NaN  \n",
       "4  [{'id': 803, 'main': 'Clouds', 'description': ...  0.36           NaN  "
      ]
     },
     "execution_count": 10,
     "metadata": {},
     "output_type": "execute_result"
    }
   ],
   "source": [
    "df_hourly.head()"
   ]
  },
  {
   "cell_type": "code",
   "execution_count": null,
   "metadata": {},
   "outputs": [],
   "source": []
  }
 ],
 "metadata": {
  "interpreter": {
   "hash": "c1b4cfe941b6d2466ad1fb5979e97da9cda8801728c8091b097ab734208fc00c"
  },
  "kernelspec": {
   "display_name": "Python 3.8.3 64-bit ('base': conda)",
   "name": "python3"
  },
  "language_info": {
   "codemirror_mode": {
    "name": "ipython",
    "version": 3
   },
   "file_extension": ".py",
   "mimetype": "text/x-python",
   "name": "python",
   "nbconvert_exporter": "python",
   "pygments_lexer": "ipython3",
   "version": "3.8.12"
  }
 },
 "nbformat": 4,
 "nbformat_minor": 2
}
