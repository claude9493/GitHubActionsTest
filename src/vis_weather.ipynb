{
 "cells": [
  {
   "cell_type": "code",
   "execution_count": 1,
   "metadata": {
    "execution": {
     "iopub.execute_input": "2021-08-26T01:53:04.022047Z",
     "iopub.status.busy": "2021-08-26T01:53:04.021389Z",
     "iopub.status.idle": "2021-08-26T01:53:08.642905Z",
     "shell.execute_reply": "2021-08-26T01:53:08.642291Z"
    }
   },
   "outputs": [],
   "source": [
    "import json, yaml, requests\r\n",
    "from datetime import datetime\r\n",
    "from dateutil import tz\r\n",
    "import pandas as pd\r\n",
    "from PIL import Image\r\n",
    "from io import BytesIO\r\n",
    "import matplotlib.pyplot as plt\r\n",
    "import seaborn\r\n",
    "\r\n",
    "CONFIG_PATH = \"../config/config.yaml\""
   ]
  },
  {
   "cell_type": "code",
   "execution_count": 2,
   "metadata": {
    "execution": {
     "iopub.execute_input": "2021-08-26T01:53:08.648549Z",
     "iopub.status.busy": "2021-08-26T01:53:08.647387Z",
     "iopub.status.idle": "2021-08-26T01:53:08.653621Z",
     "shell.execute_reply": "2021-08-26T01:53:08.652868Z"
    }
   },
   "outputs": [],
   "source": [
    "with open('../newest_ts', 'r') as f:\r\n",
    "    newest_ts = f.read()\r\n",
    "\r\n",
    "data_path = f\"../data/data_{newest_ts}.json\"\r\n",
    "with open(data_path, 'r') as f:\r\n",
    "    data = json.load(f)\r\n",
    "\r\n",
    "with open(CONFIG_PATH, \"r\") as stream:\r\n",
    "    config = yaml.safe_load(stream)\r\n",
    "\r\n",
    "TIME_ZONE = config['time_zone']\r\n",
    "DATETIME_FORMAT = config['dt_format']"
   ]
  },
  {
   "cell_type": "code",
   "execution_count": 3,
   "metadata": {
    "execution": {
     "iopub.execute_input": "2021-08-26T01:53:08.658449Z",
     "iopub.status.busy": "2021-08-26T01:53:08.657857Z",
     "iopub.status.idle": "2021-08-26T01:53:08.737438Z",
     "shell.execute_reply": "2021-08-26T01:53:08.737928Z"
    }
   },
   "outputs": [
    {
     "name": "stdout",
     "output_type": "stream",
     "text": [
      "Recent query happens at 2021-08-26 09:53:00 (CST).\n"
     ]
    }
   ],
   "source": [
    "def ts2dt(ts, format=DATETIME_FORMAT):\r\n",
    "    dt = (datetime.utcfromtimestamp(int(ts))\r\n",
    "                    .replace(tzinfo=tz.tzutc())\r\n",
    "                    # .astimezone(tz.tzlocal())\r\n",
    "                    .astimezone(tz.gettz(TIME_ZONE)))\r\n",
    "    return dt.strftime(format), dt\r\n",
    "\r\n",
    "_, newest_dt = ts2dt(newest_ts)\r\n",
    "print(f\"Recent query happens at {newest_dt.strftime(DATETIME_FORMAT)} ({newest_dt.tzname()}).\")"
   ]
  },
  {
   "cell_type": "code",
   "execution_count": 4,
   "metadata": {
    "execution": {
     "iopub.execute_input": "2021-08-26T01:53:08.744174Z",
     "iopub.status.busy": "2021-08-26T01:53:08.742784Z",
     "iopub.status.idle": "2021-08-26T01:53:08.744834Z",
     "shell.execute_reply": "2021-08-26T01:53:08.745318Z"
    }
   },
   "outputs": [],
   "source": [
    "def degrees_to_cardinal(d):\r\n",
    "  dirs = ['N', 'NNE', 'NE', 'ENE', 'E', 'ESE', 'SE', 'SSE', 'S', 'SSW', 'SW', 'WSW', 'W', 'WNW', 'NW', 'NNW']\r\n",
    "  ix = int(round(d / (360. / len(dirs))))\r\n",
    "  return dirs[ix % len(dirs)]"
   ]
  },
  {
   "cell_type": "code",
   "execution_count": 5,
   "metadata": {
    "execution": {
     "iopub.execute_input": "2021-08-26T01:53:08.750149Z",
     "iopub.status.busy": "2021-08-26T01:53:08.748744Z",
     "iopub.status.idle": "2021-08-26T01:53:08.750841Z",
     "shell.execute_reply": "2021-08-26T01:53:08.751328Z"
    }
   },
   "outputs": [],
   "source": [
    "# data.keys()"
   ]
  },
  {
   "cell_type": "code",
   "execution_count": 6,
   "metadata": {
    "execution": {
     "iopub.execute_input": "2021-08-26T01:53:08.754751Z",
     "iopub.status.busy": "2021-08-26T01:53:08.754161Z",
     "iopub.status.idle": "2021-08-26T01:53:08.756373Z",
     "shell.execute_reply": "2021-08-26T01:53:08.756858Z"
    }
   },
   "outputs": [],
   "source": [
    "# data['current']"
   ]
  },
  {
   "cell_type": "code",
   "execution_count": 7,
   "metadata": {
    "execution": {
     "iopub.execute_input": "2021-08-26T01:53:08.777150Z",
     "iopub.status.busy": "2021-08-26T01:53:08.776548Z",
     "iopub.status.idle": "2021-08-26T01:53:09.219971Z",
     "shell.execute_reply": "2021-08-26T01:53:09.220771Z"
    }
   },
   "outputs": [
    {
     "data": {
      "image/png": "[encoded data removed]",
      "text/plain": [
       "<Figure size 216x216 with 1 Axes>"
      ]
     },
     "metadata": {
      "needs_background": "light"
     },
     "output_type": "display_data"
    },
    {
     "name": "stdout",
     "output_type": "stream",
     "text": [
      "Today, sun rises at 06:03 and sets at 18:46.\n",
      "Currently, the weather is Clouds (broken clouds).\n",
      "The temperature is 30.75°C and it feels like 37.75°C.\n",
      "The UV index is 7.18, humidity is 79%.\n",
      "The pressure is 1012 hPa, percentage of cloud cover is 66%\n",
      "The wind comes from SE direction with a speed 2.45 m/s.\n"
     ]
    }
   ],
   "source": [
    "current = data['current']\r\n",
    "\r\n",
    "fig, ax = plt.subplots(figsize=(3, 3))\r\n",
    "icon = requests.get(f\"http://openweathermap.org/img/wn/{current['weather'][0]['icon']}@2x.png\")\r\n",
    "im = Image.open(BytesIO(icon.content))\r\n",
    "plt.imshow(im)\r\n",
    "ax.set_axis_off()\r\n",
    "plt.show()\r\n",
    "\r\n",
    "print(f\"Today, sun rises at {ts2dt(current['sunrise'], '%H:%M')[0]} \\\r\n",
    "and sets at {ts2dt(current['sunset'], '%H:%M')[0]}.\\n\\\r\n",
    "Currently, the weather is {current['weather'][0]['main']} ({current['weather'][0]['description']}).\\n\\\r\n",
    "The temperature is {current['temp']}°C and it feels like {current['feels_like']}°C.\\n\\\r\n",
    "The UV index is {current['uvi']}, humidity is {current['humidity']}%.\\n\\\r\n",
    "The pressure is {current['pressure']} hPa, percentage of cloud cover is {current['clouds']}%\\n\\\r\n",
    "The wind comes from {degrees_to_cardinal(current['wind_deg'])} direction with a speed {current['wind_speed']} m/s.\")"
   ]
  },
  {
   "cell_type": "code",
   "execution_count": 8,
   "metadata": {
    "execution": {
     "iopub.execute_input": "2021-08-26T01:53:09.224212Z",
     "iopub.status.busy": "2021-08-26T01:53:09.223636Z",
     "iopub.status.idle": "2021-08-26T01:53:09.231254Z",
     "shell.execute_reply": "2021-08-26T01:53:09.232005Z"
    }
   },
   "outputs": [],
   "source": [
    "df_hourly = pd.DataFrame(data['hourly'])\r\n",
    "df_daily = pd.DataFrame(data['daily'])"
   ]
  },
  {
   "cell_type": "code",
   "execution_count": 9,
   "metadata": {
    "execution": {
     "iopub.execute_input": "2021-08-26T01:53:09.235227Z",
     "iopub.status.busy": "2021-08-26T01:53:09.234637Z",
     "iopub.status.idle": "2021-08-26T01:53:09.581125Z",
     "shell.execute_reply": "2021-08-26T01:53:09.581599Z"
    }
   },
   "outputs": [
    {
     "data": {
      "image/png": "[encoded data removed]",
      "text/plain": [
       "<Figure size 864x432 with 1 Axes>"
      ]
     },
     "metadata": {
      "needs_background": "light"
     },
     "output_type": "display_data"
    }
   ],
   "source": [
    "fig, ax = plt.subplots(figsize=(12, 6))\r\n",
    "plt.plot(df_hourly.temp, '.-', label='Temperature')\r\n",
    "plt.plot(df_hourly.feels_like, '.-', label='Feels Like')\r\n",
    "ax.set(title='Temperature in future 48 hours', xlabel='Time', ylabel='Temperature')\r\n",
    "ax.set_xticks(list(range(0, len(df_hourly), 2)))\r\n",
    "ax.set_xticklabels([ts2dt(ts, '%m-%d %H:%M')[0] for i, ts in enumerate(df_hourly.dt) if i%2==0], \r\n",
    "                   rotation=45, ha=\"right\")\r\n",
    "ax.locator_params(nbins=15, axis='y')\r\n",
    "plt.legend()\r\n",
    "plt.show()"
   ]
  },
  {
   "cell_type": "code",
   "execution_count": 10,
   "metadata": {
    "execution": {
     "iopub.execute_input": "2021-08-26T01:53:09.586498Z",
     "iopub.status.busy": "2021-08-26T01:53:09.585922Z",
     "iopub.status.idle": "2021-08-26T01:53:09.606946Z",
     "shell.execute_reply": "2021-08-26T01:53:09.606456Z"
    }
   },
   "outputs": [
    {
     "data": {
      "text/html": [
       "<div>\n",
       "<style scoped>\n",
       "    .dataframe tbody tr th:only-of-type {\n",
       "        vertical-align: middle;\n",
       "    }\n",
       "\n",
       "    .dataframe tbody tr th {\n",
       "        vertical-align: top;\n",
       "    }\n",
       "\n",
       "    .dataframe thead th {\n",
       "        text-align: right;\n",
       "    }\n",
       "</style>\n",
       "<table border=\"1\" class=\"dataframe\">\n",
       "  <thead>\n",
       "    <tr style=\"text-align: right;\">\n",
       "      <th></th>\n",
       "      <th>dt</th>\n",
       "      <th>temp</th>\n",
       "      <th>feels_like</th>\n",
       "      <th>pressure</th>\n",
       "      <th>humidity</th>\n",
       "      <th>dew_point</th>\n",
       "      <th>uvi</th>\n",
       "      <th>clouds</th>\n",
       "      <th>visibility</th>\n",
       "      <th>wind_speed</th>\n",
       "      <th>wind_deg</th>\n",
       "      <th>wind_gust</th>\n",
       "      <th>weather</th>\n",
       "      <th>pop</th>\n",
       "      <th>rain</th>\n",
       "    </tr>\n",
       "  </thead>\n",
       "  <tbody>\n",
       "    <tr>\n",
       "      <th>0</th>\n",
       "      <td>1629939600</td>\n",
       "      <td>30.38</td>\n",
       "      <td>37.38</td>\n",
       "      <td>1012</td>\n",
       "      <td>78</td>\n",
       "      <td>26.11</td>\n",
       "      <td>4.04</td>\n",
       "      <td>72</td>\n",
       "      <td>10000</td>\n",
       "      <td>2.58</td>\n",
       "      <td>126</td>\n",
       "      <td>2.95</td>\n",
       "      <td>[{'id': 500, 'main': 'Rain', 'description': 'l...</td>\n",
       "      <td>0.70</td>\n",
       "      <td>{'1h': 0.12}</td>\n",
       "    </tr>\n",
       "    <tr>\n",
       "      <th>1</th>\n",
       "      <td>1629943200</td>\n",
       "      <td>30.75</td>\n",
       "      <td>37.75</td>\n",
       "      <td>1012</td>\n",
       "      <td>79</td>\n",
       "      <td>26.68</td>\n",
       "      <td>7.18</td>\n",
       "      <td>66</td>\n",
       "      <td>10000</td>\n",
       "      <td>2.45</td>\n",
       "      <td>135</td>\n",
       "      <td>2.81</td>\n",
       "      <td>[{'id': 803, 'main': 'Clouds', 'description': ...</td>\n",
       "      <td>0.73</td>\n",
       "      <td>NaN</td>\n",
       "    </tr>\n",
       "    <tr>\n",
       "      <th>2</th>\n",
       "      <td>1629946800</td>\n",
       "      <td>30.57</td>\n",
       "      <td>37.57</td>\n",
       "      <td>1012</td>\n",
       "      <td>77</td>\n",
       "      <td>26.07</td>\n",
       "      <td>10.05</td>\n",
       "      <td>65</td>\n",
       "      <td>10000</td>\n",
       "      <td>2.53</td>\n",
       "      <td>129</td>\n",
       "      <td>2.76</td>\n",
       "      <td>[{'id': 803, 'main': 'Clouds', 'description': ...</td>\n",
       "      <td>0.80</td>\n",
       "      <td>NaN</td>\n",
       "    </tr>\n",
       "    <tr>\n",
       "      <th>3</th>\n",
       "      <td>1629950400</td>\n",
       "      <td>30.37</td>\n",
       "      <td>37.33</td>\n",
       "      <td>1012</td>\n",
       "      <td>75</td>\n",
       "      <td>25.44</td>\n",
       "      <td>11.20</td>\n",
       "      <td>66</td>\n",
       "      <td>10000</td>\n",
       "      <td>3.27</td>\n",
       "      <td>128</td>\n",
       "      <td>3.25</td>\n",
       "      <td>[{'id': 803, 'main': 'Clouds', 'description': ...</td>\n",
       "      <td>0.86</td>\n",
       "      <td>NaN</td>\n",
       "    </tr>\n",
       "    <tr>\n",
       "      <th>4</th>\n",
       "      <td>1629954000</td>\n",
       "      <td>30.30</td>\n",
       "      <td>36.58</td>\n",
       "      <td>1011</td>\n",
       "      <td>73</td>\n",
       "      <td>24.92</td>\n",
       "      <td>11.03</td>\n",
       "      <td>70</td>\n",
       "      <td>10000</td>\n",
       "      <td>3.88</td>\n",
       "      <td>125</td>\n",
       "      <td>3.67</td>\n",
       "      <td>[{'id': 803, 'main': 'Clouds', 'description': ...</td>\n",
       "      <td>0.88</td>\n",
       "      <td>NaN</td>\n",
       "    </tr>\n",
       "  </tbody>\n",
       "</table>\n",
       "</div>"
      ],
      "text/plain": [
       "           dt   temp  feels_like  pressure  humidity  dew_point    uvi  \\\n",
       "0  1629939600  30.38       37.38      1012        78      26.11   4.04   \n",
       "1  1629943200  30.75       37.75      1012        79      26.68   7.18   \n",
       "2  1629946800  30.57       37.57      1012        77      26.07  10.05   \n",
       "3  1629950400  30.37       37.33      1012        75      25.44  11.20   \n",
       "4  1629954000  30.30       36.58      1011        73      24.92  11.03   \n",
       "\n",
       "   clouds  visibility  wind_speed  wind_deg  wind_gust  \\\n",
       "0      72       10000        2.58       126       2.95   \n",
       "1      66       10000        2.45       135       2.81   \n",
       "2      65       10000        2.53       129       2.76   \n",
       "3      66       10000        3.27       128       3.25   \n",
       "4      70       10000        3.88       125       3.67   \n",
       "\n",
       "                                             weather   pop          rain  \n",
       "0  [{'id': 500, 'main': 'Rain', 'description': 'l...  0.70  {'1h': 0.12}  \n",
       "1  [{'id': 803, 'main': 'Clouds', 'description': ...  0.73           NaN  \n",
       "2  [{'id': 803, 'main': 'Clouds', 'description': ...  0.80           NaN  \n",
       "3  [{'id': 803, 'main': 'Clouds', 'description': ...  0.86           NaN  \n",
       "4  [{'id': 803, 'main': 'Clouds', 'description': ...  0.88           NaN  "
      ]
     },
     "execution_count": 10,
     "metadata": {},
     "output_type": "execute_result"
    }
   ],
   "source": [
    "df_hourly.head()"
   ]
  },
  {
   "cell_type": "code",
   "execution_count": null,
   "metadata": {},
   "outputs": [],
   "source": []
  }
 ],
 "metadata": {
  "interpreter": {
   "hash": "c1b4cfe941b6d2466ad1fb5979e97da9cda8801728c8091b097ab734208fc00c"
  },
  "kernelspec": {
   "display_name": "Python 3.8.3 64-bit ('base': conda)",
   "name": "python3"
  },
  "language_info": {
   "codemirror_mode": {
    "name": "ipython",
    "version": 3
   },
   "file_extension": ".py",
   "mimetype": "text/x-python",
   "name": "python",
   "nbconvert_exporter": "python",
   "pygments_lexer": "ipython3",
   "version": "3.8.11"
  }
 },
 "nbformat": 4,
 "nbformat_minor": 2
}
