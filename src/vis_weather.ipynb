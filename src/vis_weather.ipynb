{
 "cells": [
  {
   "cell_type": "code",
   "execution_count": 1,
   "metadata": {
    "execution": {
     "iopub.execute_input": "2021-10-20T21:10:17.902567Z",
     "iopub.status.busy": "2021-10-20T21:10:17.901988Z",
     "iopub.status.idle": "2021-10-20T21:10:19.101166Z",
     "shell.execute_reply": "2021-10-20T21:10:19.100620Z"
    }
   },
   "outputs": [],
   "source": [
    "import json, yaml, requests\r\n",
    "from datetime import datetime\r\n",
    "from dateutil import tz\r\n",
    "import pandas as pd\r\n",
    "from PIL import Image\r\n",
    "from io import BytesIO\r\n",
    "import matplotlib.pyplot as plt\r\n",
    "import seaborn\r\n",
    "\r\n",
    "CONFIG_PATH = \"../config/config.yaml\""
   ]
  },
  {
   "cell_type": "code",
   "execution_count": 2,
   "metadata": {
    "execution": {
     "iopub.execute_input": "2021-10-20T21:10:19.108481Z",
     "iopub.status.busy": "2021-10-20T21:10:19.105694Z",
     "iopub.status.idle": "2021-10-20T21:10:19.111348Z",
     "shell.execute_reply": "2021-10-20T21:10:19.110614Z"
    }
   },
   "outputs": [],
   "source": [
    "with open('../newest_ts', 'r') as f:\r\n",
    "    newest_ts = f.read()\r\n",
    "\r\n",
    "data_path = f\"../data/data_{newest_ts}.json\"\r\n",
    "with open(data_path, 'r') as f:\r\n",
    "    data = json.load(f)\r\n",
    "\r\n",
    "with open(CONFIG_PATH, \"r\") as stream:\r\n",
    "    config = yaml.safe_load(stream)\r\n",
    "\r\n",
    "TIME_ZONE = config['time_zone']\r\n",
    "DATETIME_FORMAT = config['dt_format']"
   ]
  },
  {
   "cell_type": "code",
   "execution_count": 3,
   "metadata": {
    "execution": {
     "iopub.execute_input": "2021-10-20T21:10:19.115850Z",
     "iopub.status.busy": "2021-10-20T21:10:19.115372Z",
     "iopub.status.idle": "2021-10-20T21:10:19.122594Z",
     "shell.execute_reply": "2021-10-20T21:10:19.122950Z"
    }
   },
   "outputs": [
    {
     "name": "stdout",
     "output_type": "stream",
     "text": [
      "Recent query happens at 2021-10-21 05:10:15 (CST).\n"
     ]
    }
   ],
   "source": [
    "def ts2dt(ts, format=DATETIME_FORMAT):\r\n",
    "    dt = (datetime.utcfromtimestamp(int(ts))\r\n",
    "                    .replace(tzinfo=tz.tzutc())\r\n",
    "                    # .astimezone(tz.tzlocal())\r\n",
    "                    .astimezone(tz.gettz(TIME_ZONE)))\r\n",
    "    return dt.strftime(format), dt\r\n",
    "\r\n",
    "_, newest_dt = ts2dt(newest_ts)\r\n",
    "print(f\"Recent query happens at {newest_dt.strftime(DATETIME_FORMAT)} ({newest_dt.tzname()}).\")"
   ]
  },
  {
   "cell_type": "code",
   "execution_count": 4,
   "metadata": {
    "execution": {
     "iopub.execute_input": "2021-10-20T21:10:19.128285Z",
     "iopub.status.busy": "2021-10-20T21:10:19.127115Z",
     "iopub.status.idle": "2021-10-20T21:10:19.128829Z",
     "shell.execute_reply": "2021-10-20T21:10:19.129195Z"
    }
   },
   "outputs": [],
   "source": [
    "def degrees_to_cardinal(d):\r\n",
    "  dirs = ['N', 'NNE', 'NE', 'ENE', 'E', 'ESE', 'SE', 'SSE', 'S', 'SSW', 'SW', 'WSW', 'W', 'WNW', 'NW', 'NNW']\r\n",
    "  ix = int(round(d / (360. / len(dirs))))\r\n",
    "  return dirs[ix % len(dirs)]"
   ]
  },
  {
   "cell_type": "code",
   "execution_count": 5,
   "metadata": {
    "execution": {
     "iopub.execute_input": "2021-10-20T21:10:19.132382Z",
     "iopub.status.busy": "2021-10-20T21:10:19.131154Z",
     "iopub.status.idle": "2021-10-20T21:10:19.133908Z",
     "shell.execute_reply": "2021-10-20T21:10:19.134255Z"
    }
   },
   "outputs": [],
   "source": [
    "# data.keys()"
   ]
  },
  {
   "cell_type": "code",
   "execution_count": 6,
   "metadata": {
    "execution": {
     "iopub.execute_input": "2021-10-20T21:10:19.138480Z",
     "iopub.status.busy": "2021-10-20T21:10:19.137229Z",
     "iopub.status.idle": "2021-10-20T21:10:19.139001Z",
     "shell.execute_reply": "2021-10-20T21:10:19.139363Z"
    }
   },
   "outputs": [],
   "source": [
    "# data['current']"
   ]
  },
  {
   "cell_type": "code",
   "execution_count": 7,
   "metadata": {
    "execution": {
     "iopub.execute_input": "2021-10-20T21:10:19.156222Z",
     "iopub.status.busy": "2021-10-20T21:10:19.155747Z",
     "iopub.status.idle": "2021-10-20T21:10:19.534596Z",
     "shell.execute_reply": "2021-10-20T21:10:19.535273Z"
    }
   },
   "outputs": [
    {
     "data": {
      "image/png": "[encoded data removed]",
      "text/plain": [
       "<Figure size 216x216 with 1 Axes>"
      ]
     },
     "metadata": {
      "needs_background": "light"
     },
     "output_type": "display_data"
    },
    {
     "name": "stdout",
     "output_type": "stream",
     "text": [
      "Today, sun rises at 06:21 and sets at 17:53.\n",
      "Currently, the weather is Clouds (overcast clouds).\n",
      "The temperature is 25.37°C and it feels like 26.21°C.\n",
      "The UV index is 0, humidity is 86%.\n",
      "The pressure is 1012 hPa, percentage of cloud cover is 90%\n",
      "The wind comes from ENE direction with a speed 1.79 m/s.\n"
     ]
    }
   ],
   "source": [
    "current = data['current']\r\n",
    "\r\n",
    "fig, ax = plt.subplots(figsize=(3, 3))\r\n",
    "icon = requests.get(f\"http://openweathermap.org/img/wn/{current['weather'][0]['icon']}@2x.png\")\r\n",
    "im = Image.open(BytesIO(icon.content))\r\n",
    "plt.imshow(im)\r\n",
    "ax.set_axis_off()\r\n",
    "plt.show()\r\n",
    "\r\n",
    "print(f\"Today, sun rises at {ts2dt(current['sunrise'], '%H:%M')[0]} \\\r\n",
    "and sets at {ts2dt(current['sunset'], '%H:%M')[0]}.\\n\\\r\n",
    "Currently, the weather is {current['weather'][0]['main']} ({current['weather'][0]['description']}).\\n\\\r\n",
    "The temperature is {current['temp']}°C and it feels like {current['feels_like']}°C.\\n\\\r\n",
    "The UV index is {current['uvi']}, humidity is {current['humidity']}%.\\n\\\r\n",
    "The pressure is {current['pressure']} hPa, percentage of cloud cover is {current['clouds']}%\\n\\\r\n",
    "The wind comes from {degrees_to_cardinal(current['wind_deg'])} direction with a speed {current['wind_speed']} m/s.\")"
   ]
  },
  {
   "cell_type": "code",
   "execution_count": 8,
   "metadata": {
    "execution": {
     "iopub.execute_input": "2021-10-20T21:10:19.538367Z",
     "iopub.status.busy": "2021-10-20T21:10:19.537910Z",
     "iopub.status.idle": "2021-10-20T21:10:19.544377Z",
     "shell.execute_reply": "2021-10-20T21:10:19.545024Z"
    }
   },
   "outputs": [],
   "source": [
    "df_hourly = pd.DataFrame(data['hourly'])\r\n",
    "df_daily = pd.DataFrame(data['daily'])"
   ]
  },
  {
   "cell_type": "code",
   "execution_count": 9,
   "metadata": {
    "execution": {
     "iopub.execute_input": "2021-10-20T21:10:19.548154Z",
     "iopub.status.busy": "2021-10-20T21:10:19.547221Z",
     "iopub.status.idle": "2021-10-20T21:10:19.797560Z",
     "shell.execute_reply": "2021-10-20T21:10:19.797070Z"
    }
   },
   "outputs": [
    {
     "data": {
      "image/png": "[encoded data removed]",
      "text/plain": [
       "<Figure size 864x432 with 1 Axes>"
      ]
     },
     "metadata": {
      "needs_background": "light"
     },
     "output_type": "display_data"
    }
   ],
   "source": [
    "fig, ax = plt.subplots(figsize=(12, 6))\r\n",
    "plt.plot(df_hourly.temp, '.-', label='Temperature')\r\n",
    "plt.plot(df_hourly.feels_like, '.-', label='Feels Like')\r\n",
    "ax.set(title='Temperature in future 48 hours', xlabel='Time', ylabel='Temperature')\r\n",
    "ax.set_xticks(list(range(0, len(df_hourly), 2)))\r\n",
    "ax.set_xticklabels([ts2dt(ts, '%m-%d %H:%M')[0] for i, ts in enumerate(df_hourly.dt) if i%2==0], \r\n",
    "                   rotation=45, ha=\"right\")\r\n",
    "ax.locator_params(nbins=15, axis='y')\r\n",
    "plt.legend()\r\n",
    "plt.show()"
   ]
  },
  {
   "cell_type": "code",
   "execution_count": 10,
   "metadata": {
    "execution": {
     "iopub.execute_input": "2021-10-20T21:10:19.801539Z",
     "iopub.status.busy": "2021-10-20T21:10:19.799622Z",
     "iopub.status.idle": "2021-10-20T21:10:19.819410Z",
     "shell.execute_reply": "2021-10-20T21:10:19.819763Z"
    }
   },
   "outputs": [
    {
     "data": {
      "text/html": [
       "<div>\n",
       "<style scoped>\n",
       "    .dataframe tbody tr th:only-of-type {\n",
       "        vertical-align: middle;\n",
       "    }\n",
       "\n",
       "    .dataframe tbody tr th {\n",
       "        vertical-align: top;\n",
       "    }\n",
       "\n",
       "    .dataframe thead th {\n",
       "        text-align: right;\n",
       "    }\n",
       "</style>\n",
       "<table border=\"1\" class=\"dataframe\">\n",
       "  <thead>\n",
       "    <tr style=\"text-align: right;\">\n",
       "      <th></th>\n",
       "      <th>dt</th>\n",
       "      <th>temp</th>\n",
       "      <th>feels_like</th>\n",
       "      <th>pressure</th>\n",
       "      <th>humidity</th>\n",
       "      <th>dew_point</th>\n",
       "      <th>uvi</th>\n",
       "      <th>clouds</th>\n",
       "      <th>visibility</th>\n",
       "      <th>wind_speed</th>\n",
       "      <th>wind_deg</th>\n",
       "      <th>wind_gust</th>\n",
       "      <th>weather</th>\n",
       "      <th>pop</th>\n",
       "      <th>rain</th>\n",
       "    </tr>\n",
       "  </thead>\n",
       "  <tbody>\n",
       "    <tr>\n",
       "      <th>0</th>\n",
       "      <td>1634763600</td>\n",
       "      <td>25.37</td>\n",
       "      <td>26.21</td>\n",
       "      <td>1012</td>\n",
       "      <td>86</td>\n",
       "      <td>22.86</td>\n",
       "      <td>0.00</td>\n",
       "      <td>90</td>\n",
       "      <td>10000</td>\n",
       "      <td>1.89</td>\n",
       "      <td>20</td>\n",
       "      <td>1.91</td>\n",
       "      <td>[{'id': 804, 'main': 'Clouds', 'description': ...</td>\n",
       "      <td>0.40</td>\n",
       "      <td>NaN</td>\n",
       "    </tr>\n",
       "    <tr>\n",
       "      <th>1</th>\n",
       "      <td>1634767200</td>\n",
       "      <td>25.27</td>\n",
       "      <td>26.12</td>\n",
       "      <td>1012</td>\n",
       "      <td>87</td>\n",
       "      <td>22.95</td>\n",
       "      <td>0.00</td>\n",
       "      <td>90</td>\n",
       "      <td>10000</td>\n",
       "      <td>2.25</td>\n",
       "      <td>24</td>\n",
       "      <td>2.23</td>\n",
       "      <td>[{'id': 804, 'main': 'Clouds', 'description': ...</td>\n",
       "      <td>0.47</td>\n",
       "      <td>NaN</td>\n",
       "    </tr>\n",
       "    <tr>\n",
       "      <th>2</th>\n",
       "      <td>1634770800</td>\n",
       "      <td>25.21</td>\n",
       "      <td>26.06</td>\n",
       "      <td>1013</td>\n",
       "      <td>87</td>\n",
       "      <td>22.89</td>\n",
       "      <td>0.00</td>\n",
       "      <td>90</td>\n",
       "      <td>10000</td>\n",
       "      <td>2.42</td>\n",
       "      <td>28</td>\n",
       "      <td>2.50</td>\n",
       "      <td>[{'id': 804, 'main': 'Clouds', 'description': ...</td>\n",
       "      <td>0.41</td>\n",
       "      <td>NaN</td>\n",
       "    </tr>\n",
       "    <tr>\n",
       "      <th>3</th>\n",
       "      <td>1634774400</td>\n",
       "      <td>25.45</td>\n",
       "      <td>26.24</td>\n",
       "      <td>1014</td>\n",
       "      <td>84</td>\n",
       "      <td>22.55</td>\n",
       "      <td>0.69</td>\n",
       "      <td>90</td>\n",
       "      <td>10000</td>\n",
       "      <td>2.43</td>\n",
       "      <td>36</td>\n",
       "      <td>2.54</td>\n",
       "      <td>[{'id': 804, 'main': 'Clouds', 'description': ...</td>\n",
       "      <td>0.40</td>\n",
       "      <td>NaN</td>\n",
       "    </tr>\n",
       "    <tr>\n",
       "      <th>4</th>\n",
       "      <td>1634778000</td>\n",
       "      <td>26.04</td>\n",
       "      <td>26.04</td>\n",
       "      <td>1014</td>\n",
       "      <td>81</td>\n",
       "      <td>22.52</td>\n",
       "      <td>2.20</td>\n",
       "      <td>98</td>\n",
       "      <td>10000</td>\n",
       "      <td>2.19</td>\n",
       "      <td>39</td>\n",
       "      <td>2.33</td>\n",
       "      <td>[{'id': 500, 'main': 'Rain', 'description': 'l...</td>\n",
       "      <td>0.48</td>\n",
       "      <td>{'1h': 0.13}</td>\n",
       "    </tr>\n",
       "  </tbody>\n",
       "</table>\n",
       "</div>"
      ],
      "text/plain": [
       "           dt   temp  feels_like  pressure  humidity  dew_point   uvi  clouds  \\\n",
       "0  1634763600  25.37       26.21      1012        86      22.86  0.00      90   \n",
       "1  1634767200  25.27       26.12      1012        87      22.95  0.00      90   \n",
       "2  1634770800  25.21       26.06      1013        87      22.89  0.00      90   \n",
       "3  1634774400  25.45       26.24      1014        84      22.55  0.69      90   \n",
       "4  1634778000  26.04       26.04      1014        81      22.52  2.20      98   \n",
       "\n",
       "   visibility  wind_speed  wind_deg  wind_gust  \\\n",
       "0       10000        1.89        20       1.91   \n",
       "1       10000        2.25        24       2.23   \n",
       "2       10000        2.42        28       2.50   \n",
       "3       10000        2.43        36       2.54   \n",
       "4       10000        2.19        39       2.33   \n",
       "\n",
       "                                             weather   pop          rain  \n",
       "0  [{'id': 804, 'main': 'Clouds', 'description': ...  0.40           NaN  \n",
       "1  [{'id': 804, 'main': 'Clouds', 'description': ...  0.47           NaN  \n",
       "2  [{'id': 804, 'main': 'Clouds', 'description': ...  0.41           NaN  \n",
       "3  [{'id': 804, 'main': 'Clouds', 'description': ...  0.40           NaN  \n",
       "4  [{'id': 500, 'main': 'Rain', 'description': 'l...  0.48  {'1h': 0.13}  "
      ]
     },
     "execution_count": 10,
     "metadata": {},
     "output_type": "execute_result"
    }
   ],
   "source": [
    "df_hourly.head()"
   ]
  },
  {
   "cell_type": "code",
   "execution_count": null,
   "metadata": {},
   "outputs": [],
   "source": []
  }
 ],
 "metadata": {
  "interpreter": {
   "hash": "c1b4cfe941b6d2466ad1fb5979e97da9cda8801728c8091b097ab734208fc00c"
  },
  "kernelspec": {
   "display_name": "Python 3.8.3 64-bit ('base': conda)",
   "name": "python3"
  },
  "language_info": {
   "codemirror_mode": {
    "name": "ipython",
    "version": 3
   },
   "file_extension": ".py",
   "mimetype": "text/x-python",
   "name": "python",
   "nbconvert_exporter": "python",
   "pygments_lexer": "ipython3",
   "version": "3.8.12"
  }
 },
 "nbformat": 4,
 "nbformat_minor": 2
}
