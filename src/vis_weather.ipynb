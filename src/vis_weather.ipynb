{
 "cells": [
  {
   "cell_type": "code",
   "execution_count": 1,
   "metadata": {
    "execution": {
     "iopub.execute_input": "2021-10-24T04:15:13.240085Z",
     "iopub.status.busy": "2021-10-24T04:15:13.239317Z",
     "iopub.status.idle": "2021-10-24T04:15:17.295545Z",
     "shell.execute_reply": "2021-10-24T04:15:17.294990Z"
    }
   },
   "outputs": [],
   "source": [
    "import json, yaml, requests\r\n",
    "from datetime import datetime\r\n",
    "from dateutil import tz\r\n",
    "import pandas as pd\r\n",
    "from PIL import Image\r\n",
    "from io import BytesIO\r\n",
    "import matplotlib.pyplot as plt\r\n",
    "import seaborn\r\n",
    "\r\n",
    "CONFIG_PATH = \"../config/config.yaml\""
   ]
  },
  {
   "cell_type": "code",
   "execution_count": 2,
   "metadata": {
    "execution": {
     "iopub.execute_input": "2021-10-24T04:15:17.303115Z",
     "iopub.status.busy": "2021-10-24T04:15:17.300184Z",
     "iopub.status.idle": "2021-10-24T04:15:17.306055Z",
     "shell.execute_reply": "2021-10-24T04:15:17.305643Z"
    }
   },
   "outputs": [],
   "source": [
    "with open('../newest_ts', 'r') as f:\r\n",
    "    newest_ts = f.read()\r\n",
    "\r\n",
    "data_path = f\"../data/data_{newest_ts}.json\"\r\n",
    "with open(data_path, 'r') as f:\r\n",
    "    data = json.load(f)\r\n",
    "\r\n",
    "with open(CONFIG_PATH, \"r\") as stream:\r\n",
    "    config = yaml.safe_load(stream)\r\n",
    "\r\n",
    "TIME_ZONE = config['time_zone']\r\n",
    "DATETIME_FORMAT = config['dt_format']"
   ]
  },
  {
   "cell_type": "code",
   "execution_count": 3,
   "metadata": {
    "execution": {
     "iopub.execute_input": "2021-10-24T04:15:17.310676Z",
     "iopub.status.busy": "2021-10-24T04:15:17.310091Z",
     "iopub.status.idle": "2021-10-24T04:15:17.338257Z",
     "shell.execute_reply": "2021-10-24T04:15:17.338805Z"
    }
   },
   "outputs": [
    {
     "name": "stdout",
     "output_type": "stream",
     "text": [
      "Recent query happens at 2021-10-24 12:15:09 (CST).\n"
     ]
    }
   ],
   "source": [
    "def ts2dt(ts, format=DATETIME_FORMAT):\r\n",
    "    dt = (datetime.utcfromtimestamp(int(ts))\r\n",
    "                    .replace(tzinfo=tz.tzutc())\r\n",
    "                    # .astimezone(tz.tzlocal())\r\n",
    "                    .astimezone(tz.gettz(TIME_ZONE)))\r\n",
    "    return dt.strftime(format), dt\r\n",
    "\r\n",
    "_, newest_dt = ts2dt(newest_ts)\r\n",
    "print(f\"Recent query happens at {newest_dt.strftime(DATETIME_FORMAT)} ({newest_dt.tzname()}).\")"
   ]
  },
  {
   "cell_type": "code",
   "execution_count": 4,
   "metadata": {
    "execution": {
     "iopub.execute_input": "2021-10-24T04:15:17.344892Z",
     "iopub.status.busy": "2021-10-24T04:15:17.343134Z",
     "iopub.status.idle": "2021-10-24T04:15:17.345482Z",
     "shell.execute_reply": "2021-10-24T04:15:17.345943Z"
    }
   },
   "outputs": [],
   "source": [
    "def degrees_to_cardinal(d):\r\n",
    "  dirs = ['N', 'NNE', 'NE', 'ENE', 'E', 'ESE', 'SE', 'SSE', 'S', 'SSW', 'SW', 'WSW', 'W', 'WNW', 'NW', 'NNW']\r\n",
    "  ix = int(round(d / (360. / len(dirs))))\r\n",
    "  return dirs[ix % len(dirs)]"
   ]
  },
  {
   "cell_type": "code",
   "execution_count": 5,
   "metadata": {
    "execution": {
     "iopub.execute_input": "2021-10-24T04:15:17.351514Z",
     "iopub.status.busy": "2021-10-24T04:15:17.350857Z",
     "iopub.status.idle": "2021-10-24T04:15:17.352610Z",
     "shell.execute_reply": "2021-10-24T04:15:17.352078Z"
    }
   },
   "outputs": [],
   "source": [
    "# data.keys()"
   ]
  },
  {
   "cell_type": "code",
   "execution_count": 6,
   "metadata": {
    "execution": {
     "iopub.execute_input": "2021-10-24T04:15:17.357452Z",
     "iopub.status.busy": "2021-10-24T04:15:17.355933Z",
     "iopub.status.idle": "2021-10-24T04:15:17.358091Z",
     "shell.execute_reply": "2021-10-24T04:15:17.358530Z"
    }
   },
   "outputs": [],
   "source": [
    "# data['current']"
   ]
  },
  {
   "cell_type": "code",
   "execution_count": 7,
   "metadata": {
    "execution": {
     "iopub.execute_input": "2021-10-24T04:15:17.378355Z",
     "iopub.status.busy": "2021-10-24T04:15:17.377751Z",
     "iopub.status.idle": "2021-10-24T04:15:17.782882Z",
     "shell.execute_reply": "2021-10-24T04:15:17.783798Z"
    }
   },
   "outputs": [
    {
     "data": {
      "image/png": "[encoded data removed]",
      "text/plain": [
       "<Figure size 216x216 with 1 Axes>"
      ]
     },
     "metadata": {
      "needs_background": "light"
     },
     "output_type": "display_data"
    },
    {
     "name": "stdout",
     "output_type": "stream",
     "text": [
      "Today, sun rises at 06:22 and sets at 17:51.\n",
      "Currently, the weather is Clouds (few clouds).\n",
      "The temperature is 25.34°C and it feels like 25.73°C.\n",
      "The UV index is 7.62, humidity is 69%.\n",
      "The pressure is 1017 hPa, percentage of cloud cover is 11%\n",
      "The wind comes from W direction with a speed 0.45 m/s.\n"
     ]
    }
   ],
   "source": [
    "current = data['current']\r\n",
    "\r\n",
    "fig, ax = plt.subplots(figsize=(3, 3))\r\n",
    "icon = requests.get(f\"http://openweathermap.org/img/wn/{current['weather'][0]['icon']}@2x.png\")\r\n",
    "im = Image.open(BytesIO(icon.content))\r\n",
    "plt.imshow(im)\r\n",
    "ax.set_axis_off()\r\n",
    "plt.show()\r\n",
    "\r\n",
    "print(f\"Today, sun rises at {ts2dt(current['sunrise'], '%H:%M')[0]} \\\r\n",
    "and sets at {ts2dt(current['sunset'], '%H:%M')[0]}.\\n\\\r\n",
    "Currently, the weather is {current['weather'][0]['main']} ({current['weather'][0]['description']}).\\n\\\r\n",
    "The temperature is {current['temp']}°C and it feels like {current['feels_like']}°C.\\n\\\r\n",
    "The UV index is {current['uvi']}, humidity is {current['humidity']}%.\\n\\\r\n",
    "The pressure is {current['pressure']} hPa, percentage of cloud cover is {current['clouds']}%\\n\\\r\n",
    "The wind comes from {degrees_to_cardinal(current['wind_deg'])} direction with a speed {current['wind_speed']} m/s.\")"
   ]
  },
  {
   "cell_type": "code",
   "execution_count": 8,
   "metadata": {
    "execution": {
     "iopub.execute_input": "2021-10-24T04:15:17.787200Z",
     "iopub.status.busy": "2021-10-24T04:15:17.786166Z",
     "iopub.status.idle": "2021-10-24T04:15:17.794231Z",
     "shell.execute_reply": "2021-10-24T04:15:17.794893Z"
    }
   },
   "outputs": [],
   "source": [
    "df_hourly = pd.DataFrame(data['hourly'])\r\n",
    "df_daily = pd.DataFrame(data['daily'])"
   ]
  },
  {
   "cell_type": "code",
   "execution_count": 9,
   "metadata": {
    "execution": {
     "iopub.execute_input": "2021-10-24T04:15:17.797969Z",
     "iopub.status.busy": "2021-10-24T04:15:17.796876Z",
     "iopub.status.idle": "2021-10-24T04:15:18.150372Z",
     "shell.execute_reply": "2021-10-24T04:15:18.149621Z"
    }
   },
   "outputs": [
    {
     "data": {
      "image/png": "[encoded data removed]",
      "text/plain": [
       "<Figure size 864x432 with 1 Axes>"
      ]
     },
     "metadata": {
      "needs_background": "light"
     },
     "output_type": "display_data"
    }
   ],
   "source": [
    "fig, ax = plt.subplots(figsize=(12, 6))\r\n",
    "plt.plot(df_hourly.temp, '.-', label='Temperature')\r\n",
    "plt.plot(df_hourly.feels_like, '.-', label='Feels Like')\r\n",
    "ax.set(title='Temperature in future 48 hours', xlabel='Time', ylabel='Temperature')\r\n",
    "ax.set_xticks(list(range(0, len(df_hourly), 2)))\r\n",
    "ax.set_xticklabels([ts2dt(ts, '%m-%d %H:%M')[0] for i, ts in enumerate(df_hourly.dt) if i%2==0], \r\n",
    "                   rotation=45, ha=\"right\")\r\n",
    "ax.locator_params(nbins=15, axis='y')\r\n",
    "plt.legend()\r\n",
    "plt.show()"
   ]
  },
  {
   "cell_type": "code",
   "execution_count": 10,
   "metadata": {
    "execution": {
     "iopub.execute_input": "2021-10-24T04:15:18.155076Z",
     "iopub.status.busy": "2021-10-24T04:15:18.154569Z",
     "iopub.status.idle": "2021-10-24T04:15:18.173712Z",
     "shell.execute_reply": "2021-10-24T04:15:18.174105Z"
    }
   },
   "outputs": [
    {
     "data": {
      "text/html": [
       "<div>\n",
       "<style scoped>\n",
       "    .dataframe tbody tr th:only-of-type {\n",
       "        vertical-align: middle;\n",
       "    }\n",
       "\n",
       "    .dataframe tbody tr th {\n",
       "        vertical-align: top;\n",
       "    }\n",
       "\n",
       "    .dataframe thead th {\n",
       "        text-align: right;\n",
       "    }\n",
       "</style>\n",
       "<table border=\"1\" class=\"dataframe\">\n",
       "  <thead>\n",
       "    <tr style=\"text-align: right;\">\n",
       "      <th></th>\n",
       "      <th>dt</th>\n",
       "      <th>temp</th>\n",
       "      <th>feels_like</th>\n",
       "      <th>pressure</th>\n",
       "      <th>humidity</th>\n",
       "      <th>dew_point</th>\n",
       "      <th>uvi</th>\n",
       "      <th>clouds</th>\n",
       "      <th>visibility</th>\n",
       "      <th>wind_speed</th>\n",
       "      <th>wind_deg</th>\n",
       "      <th>wind_gust</th>\n",
       "      <th>weather</th>\n",
       "      <th>pop</th>\n",
       "      <th>rain</th>\n",
       "    </tr>\n",
       "  </thead>\n",
       "  <tbody>\n",
       "    <tr>\n",
       "      <th>0</th>\n",
       "      <td>1635048000</td>\n",
       "      <td>25.34</td>\n",
       "      <td>25.73</td>\n",
       "      <td>1017</td>\n",
       "      <td>69</td>\n",
       "      <td>19.24</td>\n",
       "      <td>7.62</td>\n",
       "      <td>11</td>\n",
       "      <td>10000</td>\n",
       "      <td>3.06</td>\n",
       "      <td>32</td>\n",
       "      <td>3.65</td>\n",
       "      <td>[{'id': 801, 'main': 'Clouds', 'description': ...</td>\n",
       "      <td>0.0</td>\n",
       "      <td>NaN</td>\n",
       "    </tr>\n",
       "    <tr>\n",
       "      <th>1</th>\n",
       "      <td>1635051600</td>\n",
       "      <td>25.02</td>\n",
       "      <td>25.33</td>\n",
       "      <td>1017</td>\n",
       "      <td>67</td>\n",
       "      <td>18.47</td>\n",
       "      <td>7.47</td>\n",
       "      <td>11</td>\n",
       "      <td>10000</td>\n",
       "      <td>3.84</td>\n",
       "      <td>38</td>\n",
       "      <td>4.20</td>\n",
       "      <td>[{'id': 801, 'main': 'Clouds', 'description': ...</td>\n",
       "      <td>0.0</td>\n",
       "      <td>NaN</td>\n",
       "    </tr>\n",
       "    <tr>\n",
       "      <th>2</th>\n",
       "      <td>1635055200</td>\n",
       "      <td>24.82</td>\n",
       "      <td>25.05</td>\n",
       "      <td>1017</td>\n",
       "      <td>65</td>\n",
       "      <td>17.80</td>\n",
       "      <td>6.00</td>\n",
       "      <td>10</td>\n",
       "      <td>10000</td>\n",
       "      <td>4.03</td>\n",
       "      <td>42</td>\n",
       "      <td>4.57</td>\n",
       "      <td>[{'id': 800, 'main': 'Clear', 'description': '...</td>\n",
       "      <td>0.0</td>\n",
       "      <td>NaN</td>\n",
       "    </tr>\n",
       "    <tr>\n",
       "      <th>3</th>\n",
       "      <td>1635058800</td>\n",
       "      <td>24.80</td>\n",
       "      <td>24.98</td>\n",
       "      <td>1016</td>\n",
       "      <td>63</td>\n",
       "      <td>17.28</td>\n",
       "      <td>3.84</td>\n",
       "      <td>9</td>\n",
       "      <td>10000</td>\n",
       "      <td>4.12</td>\n",
       "      <td>39</td>\n",
       "      <td>4.87</td>\n",
       "      <td>[{'id': 800, 'main': 'Clear', 'description': '...</td>\n",
       "      <td>0.0</td>\n",
       "      <td>NaN</td>\n",
       "    </tr>\n",
       "    <tr>\n",
       "      <th>4</th>\n",
       "      <td>1635062400</td>\n",
       "      <td>24.80</td>\n",
       "      <td>24.90</td>\n",
       "      <td>1016</td>\n",
       "      <td>60</td>\n",
       "      <td>16.51</td>\n",
       "      <td>1.76</td>\n",
       "      <td>9</td>\n",
       "      <td>10000</td>\n",
       "      <td>4.73</td>\n",
       "      <td>35</td>\n",
       "      <td>5.63</td>\n",
       "      <td>[{'id': 800, 'main': 'Clear', 'description': '...</td>\n",
       "      <td>0.0</td>\n",
       "      <td>NaN</td>\n",
       "    </tr>\n",
       "  </tbody>\n",
       "</table>\n",
       "</div>"
      ],
      "text/plain": [
       "           dt   temp  feels_like  pressure  humidity  dew_point   uvi  clouds  \\\n",
       "0  1635048000  25.34       25.73      1017        69      19.24  7.62      11   \n",
       "1  1635051600  25.02       25.33      1017        67      18.47  7.47      11   \n",
       "2  1635055200  24.82       25.05      1017        65      17.80  6.00      10   \n",
       "3  1635058800  24.80       24.98      1016        63      17.28  3.84       9   \n",
       "4  1635062400  24.80       24.90      1016        60      16.51  1.76       9   \n",
       "\n",
       "   visibility  wind_speed  wind_deg  wind_gust  \\\n",
       "0       10000        3.06        32       3.65   \n",
       "1       10000        3.84        38       4.20   \n",
       "2       10000        4.03        42       4.57   \n",
       "3       10000        4.12        39       4.87   \n",
       "4       10000        4.73        35       5.63   \n",
       "\n",
       "                                             weather  pop rain  \n",
       "0  [{'id': 801, 'main': 'Clouds', 'description': ...  0.0  NaN  \n",
       "1  [{'id': 801, 'main': 'Clouds', 'description': ...  0.0  NaN  \n",
       "2  [{'id': 800, 'main': 'Clear', 'description': '...  0.0  NaN  \n",
       "3  [{'id': 800, 'main': 'Clear', 'description': '...  0.0  NaN  \n",
       "4  [{'id': 800, 'main': 'Clear', 'description': '...  0.0  NaN  "
      ]
     },
     "execution_count": 10,
     "metadata": {},
     "output_type": "execute_result"
    }
   ],
   "source": [
    "df_hourly.head()"
   ]
  },
  {
   "cell_type": "code",
   "execution_count": null,
   "metadata": {},
   "outputs": [],
   "source": []
  }
 ],
 "metadata": {
  "interpreter": {
   "hash": "c1b4cfe941b6d2466ad1fb5979e97da9cda8801728c8091b097ab734208fc00c"
  },
  "kernelspec": {
   "display_name": "Python 3.8.3 64-bit ('base': conda)",
   "name": "python3"
  },
  "language_info": {
   "codemirror_mode": {
    "name": "ipython",
    "version": 3
   },
   "file_extension": ".py",
   "mimetype": "text/x-python",
   "name": "python",
   "nbconvert_exporter": "python",
   "pygments_lexer": "ipython3",
   "version": "3.8.12"
  }
 },
 "nbformat": 4,
 "nbformat_minor": 2
}
