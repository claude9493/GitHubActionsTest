{
 "cells": [
  {
   "cell_type": "code",
   "execution_count": 1,
   "metadata": {
    "execution": {
     "iopub.execute_input": "2021-10-16T03:11:54.424833Z",
     "iopub.status.busy": "2021-10-16T03:11:54.424306Z",
     "iopub.status.idle": "2021-10-16T03:11:55.749906Z",
     "shell.execute_reply": "2021-10-16T03:11:55.749318Z"
    }
   },
   "outputs": [],
   "source": [
    "import json, yaml, requests\r\n",
    "from datetime import datetime\r\n",
    "from dateutil import tz\r\n",
    "import pandas as pd\r\n",
    "from PIL import Image\r\n",
    "from io import BytesIO\r\n",
    "import matplotlib.pyplot as plt\r\n",
    "import seaborn\r\n",
    "\r\n",
    "CONFIG_PATH = \"../config/config.yaml\""
   ]
  },
  {
   "cell_type": "code",
   "execution_count": 2,
   "metadata": {
    "execution": {
     "iopub.execute_input": "2021-10-16T03:11:55.757021Z",
     "iopub.status.busy": "2021-10-16T03:11:55.754279Z",
     "iopub.status.idle": "2021-10-16T03:11:55.760073Z",
     "shell.execute_reply": "2021-10-16T03:11:55.759700Z"
    }
   },
   "outputs": [],
   "source": [
    "with open('../newest_ts', 'r') as f:\r\n",
    "    newest_ts = f.read()\r\n",
    "\r\n",
    "data_path = f\"../data/data_{newest_ts}.json\"\r\n",
    "with open(data_path, 'r') as f:\r\n",
    "    data = json.load(f)\r\n",
    "\r\n",
    "with open(CONFIG_PATH, \"r\") as stream:\r\n",
    "    config = yaml.safe_load(stream)\r\n",
    "\r\n",
    "TIME_ZONE = config['time_zone']\r\n",
    "DATETIME_FORMAT = config['dt_format']"
   ]
  },
  {
   "cell_type": "code",
   "execution_count": 3,
   "metadata": {
    "execution": {
     "iopub.execute_input": "2021-10-16T03:11:55.764183Z",
     "iopub.status.busy": "2021-10-16T03:11:55.763729Z",
     "iopub.status.idle": "2021-10-16T03:11:55.770388Z",
     "shell.execute_reply": "2021-10-16T03:11:55.770804Z"
    }
   },
   "outputs": [
    {
     "name": "stdout",
     "output_type": "stream",
     "text": [
      "Recent query happens at 2021-10-16 11:11:51 (CST).\n"
     ]
    }
   ],
   "source": [
    "def ts2dt(ts, format=DATETIME_FORMAT):\r\n",
    "    dt = (datetime.utcfromtimestamp(int(ts))\r\n",
    "                    .replace(tzinfo=tz.tzutc())\r\n",
    "                    # .astimezone(tz.tzlocal())\r\n",
    "                    .astimezone(tz.gettz(TIME_ZONE)))\r\n",
    "    return dt.strftime(format), dt\r\n",
    "\r\n",
    "_, newest_dt = ts2dt(newest_ts)\r\n",
    "print(f\"Recent query happens at {newest_dt.strftime(DATETIME_FORMAT)} ({newest_dt.tzname()}).\")"
   ]
  },
  {
   "cell_type": "code",
   "execution_count": 4,
   "metadata": {
    "execution": {
     "iopub.execute_input": "2021-10-16T03:11:55.780687Z",
     "iopub.status.busy": "2021-10-16T03:11:55.780047Z",
     "iopub.status.idle": "2021-10-16T03:11:55.781184Z",
     "shell.execute_reply": "2021-10-16T03:11:55.781523Z"
    }
   },
   "outputs": [],
   "source": [
    "def degrees_to_cardinal(d):\r\n",
    "  dirs = ['N', 'NNE', 'NE', 'ENE', 'E', 'ESE', 'SE', 'SSE', 'S', 'SSW', 'SW', 'WSW', 'W', 'WNW', 'NW', 'NNW']\r\n",
    "  ix = int(round(d / (360. / len(dirs))))\r\n",
    "  return dirs[ix % len(dirs)]"
   ]
  },
  {
   "cell_type": "code",
   "execution_count": 5,
   "metadata": {
    "execution": {
     "iopub.execute_input": "2021-10-16T03:11:55.785334Z",
     "iopub.status.busy": "2021-10-16T03:11:55.784334Z",
     "iopub.status.idle": "2021-10-16T03:11:55.785847Z",
     "shell.execute_reply": "2021-10-16T03:11:55.786208Z"
    }
   },
   "outputs": [],
   "source": [
    "# data.keys()"
   ]
  },
  {
   "cell_type": "code",
   "execution_count": 6,
   "metadata": {
    "execution": {
     "iopub.execute_input": "2021-10-16T03:11:55.789743Z",
     "iopub.status.busy": "2021-10-16T03:11:55.788740Z",
     "iopub.status.idle": "2021-10-16T03:11:55.790256Z",
     "shell.execute_reply": "2021-10-16T03:11:55.790638Z"
    }
   },
   "outputs": [],
   "source": [
    "# data['current']"
   ]
  },
  {
   "cell_type": "code",
   "execution_count": 7,
   "metadata": {
    "execution": {
     "iopub.execute_input": "2021-10-16T03:11:55.807237Z",
     "iopub.status.busy": "2021-10-16T03:11:55.806767Z",
     "iopub.status.idle": "2021-10-16T03:11:56.202926Z",
     "shell.execute_reply": "2021-10-16T03:11:56.203591Z"
    }
   },
   "outputs": [
    {
     "data": {
      "image/png": "[encoded data removed]",
      "text/plain": [
       "<Figure size 216x216 with 1 Axes>"
      ]
     },
     "metadata": {
      "needs_background": "light"
     },
     "output_type": "display_data"
    },
    {
     "name": "stdout",
     "output_type": "stream",
     "text": [
      "Today, sun rises at 06:19 and sets at 17:57.\n",
      "Currently, the weather is Clouds (broken clouds).\n",
      "The temperature is 27.14°C and it feels like 29.85°C.\n",
      "The UV index is 7.05, humidity is 78%.\n",
      "The pressure is 1015 hPa, percentage of cloud cover is 57%\n",
      "The wind comes from N direction with a speed 2.24 m/s.\n"
     ]
    }
   ],
   "source": [
    "current = data['current']\r\n",
    "\r\n",
    "fig, ax = plt.subplots(figsize=(3, 3))\r\n",
    "icon = requests.get(f\"http://openweathermap.org/img/wn/{current['weather'][0]['icon']}@2x.png\")\r\n",
    "im = Image.open(BytesIO(icon.content))\r\n",
    "plt.imshow(im)\r\n",
    "ax.set_axis_off()\r\n",
    "plt.show()\r\n",
    "\r\n",
    "print(f\"Today, sun rises at {ts2dt(current['sunrise'], '%H:%M')[0]} \\\r\n",
    "and sets at {ts2dt(current['sunset'], '%H:%M')[0]}.\\n\\\r\n",
    "Currently, the weather is {current['weather'][0]['main']} ({current['weather'][0]['description']}).\\n\\\r\n",
    "The temperature is {current['temp']}°C and it feels like {current['feels_like']}°C.\\n\\\r\n",
    "The UV index is {current['uvi']}, humidity is {current['humidity']}%.\\n\\\r\n",
    "The pressure is {current['pressure']} hPa, percentage of cloud cover is {current['clouds']}%\\n\\\r\n",
    "The wind comes from {degrees_to_cardinal(current['wind_deg'])} direction with a speed {current['wind_speed']} m/s.\")"
   ]
  },
  {
   "cell_type": "code",
   "execution_count": 8,
   "metadata": {
    "execution": {
     "iopub.execute_input": "2021-10-16T03:11:56.208336Z",
     "iopub.status.busy": "2021-10-16T03:11:56.207882Z",
     "iopub.status.idle": "2021-10-16T03:11:56.212456Z",
     "shell.execute_reply": "2021-10-16T03:11:56.213126Z"
    }
   },
   "outputs": [],
   "source": [
    "df_hourly = pd.DataFrame(data['hourly'])\r\n",
    "df_daily = pd.DataFrame(data['daily'])"
   ]
  },
  {
   "cell_type": "code",
   "execution_count": 9,
   "metadata": {
    "execution": {
     "iopub.execute_input": "2021-10-16T03:11:56.226734Z",
     "iopub.status.busy": "2021-10-16T03:11:56.220005Z",
     "iopub.status.idle": "2021-10-16T03:11:56.456508Z",
     "shell.execute_reply": "2021-10-16T03:11:56.456094Z"
    }
   },
   "outputs": [
    {
     "data": {
      "image/png": "[encoded data removed]",
      "text/plain": [
       "<Figure size 864x432 with 1 Axes>"
      ]
     },
     "metadata": {
      "needs_background": "light"
     },
     "output_type": "display_data"
    }
   ],
   "source": [
    "fig, ax = plt.subplots(figsize=(12, 6))\r\n",
    "plt.plot(df_hourly.temp, '.-', label='Temperature')\r\n",
    "plt.plot(df_hourly.feels_like, '.-', label='Feels Like')\r\n",
    "ax.set(title='Temperature in future 48 hours', xlabel='Time', ylabel='Temperature')\r\n",
    "ax.set_xticks(list(range(0, len(df_hourly), 2)))\r\n",
    "ax.set_xticklabels([ts2dt(ts, '%m-%d %H:%M')[0] for i, ts in enumerate(df_hourly.dt) if i%2==0], \r\n",
    "                   rotation=45, ha=\"right\")\r\n",
    "ax.locator_params(nbins=15, axis='y')\r\n",
    "plt.legend()\r\n",
    "plt.show()"
   ]
  },
  {
   "cell_type": "code",
   "execution_count": 10,
   "metadata": {
    "execution": {
     "iopub.execute_input": "2021-10-16T03:11:56.460671Z",
     "iopub.status.busy": "2021-10-16T03:11:56.460214Z",
     "iopub.status.idle": "2021-10-16T03:11:56.476782Z",
     "shell.execute_reply": "2021-10-16T03:11:56.477136Z"
    }
   },
   "outputs": [
    {
     "data": {
      "text/html": [
       "<div>\n",
       "<style scoped>\n",
       "    .dataframe tbody tr th:only-of-type {\n",
       "        vertical-align: middle;\n",
       "    }\n",
       "\n",
       "    .dataframe tbody tr th {\n",
       "        vertical-align: top;\n",
       "    }\n",
       "\n",
       "    .dataframe thead th {\n",
       "        text-align: right;\n",
       "    }\n",
       "</style>\n",
       "<table border=\"1\" class=\"dataframe\">\n",
       "  <thead>\n",
       "    <tr style=\"text-align: right;\">\n",
       "      <th></th>\n",
       "      <th>dt</th>\n",
       "      <th>temp</th>\n",
       "      <th>feels_like</th>\n",
       "      <th>pressure</th>\n",
       "      <th>humidity</th>\n",
       "      <th>dew_point</th>\n",
       "      <th>uvi</th>\n",
       "      <th>clouds</th>\n",
       "      <th>visibility</th>\n",
       "      <th>wind_speed</th>\n",
       "      <th>wind_deg</th>\n",
       "      <th>wind_gust</th>\n",
       "      <th>weather</th>\n",
       "      <th>pop</th>\n",
       "    </tr>\n",
       "  </thead>\n",
       "  <tbody>\n",
       "    <tr>\n",
       "      <th>0</th>\n",
       "      <td>1634353200</td>\n",
       "      <td>27.14</td>\n",
       "      <td>29.85</td>\n",
       "      <td>1015</td>\n",
       "      <td>78</td>\n",
       "      <td>22.97</td>\n",
       "      <td>7.05</td>\n",
       "      <td>57</td>\n",
       "      <td>10000</td>\n",
       "      <td>7.67</td>\n",
       "      <td>13</td>\n",
       "      <td>8.77</td>\n",
       "      <td>[{'id': 803, 'main': 'Clouds', 'description': ...</td>\n",
       "      <td>0.00</td>\n",
       "    </tr>\n",
       "    <tr>\n",
       "      <th>1</th>\n",
       "      <td>1634356800</td>\n",
       "      <td>27.10</td>\n",
       "      <td>29.57</td>\n",
       "      <td>1015</td>\n",
       "      <td>76</td>\n",
       "      <td>22.50</td>\n",
       "      <td>8.15</td>\n",
       "      <td>55</td>\n",
       "      <td>10000</td>\n",
       "      <td>7.72</td>\n",
       "      <td>20</td>\n",
       "      <td>8.51</td>\n",
       "      <td>[{'id': 803, 'main': 'Clouds', 'description': ...</td>\n",
       "      <td>0.00</td>\n",
       "    </tr>\n",
       "    <tr>\n",
       "      <th>2</th>\n",
       "      <td>1634360400</td>\n",
       "      <td>27.23</td>\n",
       "      <td>29.54</td>\n",
       "      <td>1015</td>\n",
       "      <td>73</td>\n",
       "      <td>21.97</td>\n",
       "      <td>7.99</td>\n",
       "      <td>54</td>\n",
       "      <td>10000</td>\n",
       "      <td>7.47</td>\n",
       "      <td>23</td>\n",
       "      <td>8.12</td>\n",
       "      <td>[{'id': 803, 'main': 'Clouds', 'description': ...</td>\n",
       "      <td>0.00</td>\n",
       "    </tr>\n",
       "    <tr>\n",
       "      <th>3</th>\n",
       "      <td>1634364000</td>\n",
       "      <td>27.38</td>\n",
       "      <td>29.51</td>\n",
       "      <td>1014</td>\n",
       "      <td>70</td>\n",
       "      <td>21.42</td>\n",
       "      <td>6.45</td>\n",
       "      <td>50</td>\n",
       "      <td>10000</td>\n",
       "      <td>7.51</td>\n",
       "      <td>23</td>\n",
       "      <td>8.17</td>\n",
       "      <td>[{'id': 802, 'main': 'Clouds', 'description': ...</td>\n",
       "      <td>0.04</td>\n",
       "    </tr>\n",
       "    <tr>\n",
       "      <th>4</th>\n",
       "      <td>1634367600</td>\n",
       "      <td>27.45</td>\n",
       "      <td>29.54</td>\n",
       "      <td>1013</td>\n",
       "      <td>69</td>\n",
       "      <td>21.26</td>\n",
       "      <td>3.69</td>\n",
       "      <td>47</td>\n",
       "      <td>10000</td>\n",
       "      <td>7.58</td>\n",
       "      <td>20</td>\n",
       "      <td>8.16</td>\n",
       "      <td>[{'id': 802, 'main': 'Clouds', 'description': ...</td>\n",
       "      <td>0.16</td>\n",
       "    </tr>\n",
       "  </tbody>\n",
       "</table>\n",
       "</div>"
      ],
      "text/plain": [
       "           dt   temp  feels_like  pressure  humidity  dew_point   uvi  clouds  \\\n",
       "0  1634353200  27.14       29.85      1015        78      22.97  7.05      57   \n",
       "1  1634356800  27.10       29.57      1015        76      22.50  8.15      55   \n",
       "2  1634360400  27.23       29.54      1015        73      21.97  7.99      54   \n",
       "3  1634364000  27.38       29.51      1014        70      21.42  6.45      50   \n",
       "4  1634367600  27.45       29.54      1013        69      21.26  3.69      47   \n",
       "\n",
       "   visibility  wind_speed  wind_deg  wind_gust  \\\n",
       "0       10000        7.67        13       8.77   \n",
       "1       10000        7.72        20       8.51   \n",
       "2       10000        7.47        23       8.12   \n",
       "3       10000        7.51        23       8.17   \n",
       "4       10000        7.58        20       8.16   \n",
       "\n",
       "                                             weather   pop  \n",
       "0  [{'id': 803, 'main': 'Clouds', 'description': ...  0.00  \n",
       "1  [{'id': 803, 'main': 'Clouds', 'description': ...  0.00  \n",
       "2  [{'id': 803, 'main': 'Clouds', 'description': ...  0.00  \n",
       "3  [{'id': 802, 'main': 'Clouds', 'description': ...  0.04  \n",
       "4  [{'id': 802, 'main': 'Clouds', 'description': ...  0.16  "
      ]
     },
     "execution_count": 10,
     "metadata": {},
     "output_type": "execute_result"
    }
   ],
   "source": [
    "df_hourly.head()"
   ]
  },
  {
   "cell_type": "code",
   "execution_count": null,
   "metadata": {},
   "outputs": [],
   "source": []
  }
 ],
 "metadata": {
  "interpreter": {
   "hash": "c1b4cfe941b6d2466ad1fb5979e97da9cda8801728c8091b097ab734208fc00c"
  },
  "kernelspec": {
   "display_name": "Python 3.8.3 64-bit ('base': conda)",
   "name": "python3"
  },
  "language_info": {
   "codemirror_mode": {
    "name": "ipython",
    "version": 3
   },
   "file_extension": ".py",
   "mimetype": "text/x-python",
   "name": "python",
   "nbconvert_exporter": "python",
   "pygments_lexer": "ipython3",
   "version": "3.8.12"
  }
 },
 "nbformat": 4,
 "nbformat_minor": 2
}
