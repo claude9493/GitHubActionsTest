{
 "cells": [
  {
   "cell_type": "code",
   "execution_count": 1,
   "metadata": {
    "execution": {
     "iopub.execute_input": "2021-09-23T11:10:06.727035Z",
     "iopub.status.busy": "2021-09-23T11:10:06.726247Z",
     "iopub.status.idle": "2021-09-23T11:10:11.512116Z",
     "shell.execute_reply": "2021-09-23T11:10:11.512567Z"
    }
   },
   "outputs": [],
   "source": [
    "import json, yaml, requests\r\n",
    "from datetime import datetime\r\n",
    "from dateutil import tz\r\n",
    "import pandas as pd\r\n",
    "from PIL import Image\r\n",
    "from io import BytesIO\r\n",
    "import matplotlib.pyplot as plt\r\n",
    "import seaborn\r\n",
    "\r\n",
    "CONFIG_PATH = \"../config/config.yaml\""
   ]
  },
  {
   "cell_type": "code",
   "execution_count": 2,
   "metadata": {
    "execution": {
     "iopub.execute_input": "2021-09-23T11:10:11.520238Z",
     "iopub.status.busy": "2021-09-23T11:10:11.517154Z",
     "iopub.status.idle": "2021-09-23T11:10:11.523072Z",
     "shell.execute_reply": "2021-09-23T11:10:11.523491Z"
    }
   },
   "outputs": [],
   "source": [
    "with open('../newest_ts', 'r') as f:\r\n",
    "    newest_ts = f.read()\r\n",
    "\r\n",
    "data_path = f\"../data/data_{newest_ts}.json\"\r\n",
    "with open(data_path, 'r') as f:\r\n",
    "    data = json.load(f)\r\n",
    "\r\n",
    "with open(CONFIG_PATH, \"r\") as stream:\r\n",
    "    config = yaml.safe_load(stream)\r\n",
    "\r\n",
    "TIME_ZONE = config['time_zone']\r\n",
    "DATETIME_FORMAT = config['dt_format']"
   ]
  },
  {
   "cell_type": "code",
   "execution_count": 3,
   "metadata": {
    "execution": {
     "iopub.execute_input": "2021-09-23T11:10:11.528214Z",
     "iopub.status.busy": "2021-09-23T11:10:11.527577Z",
     "iopub.status.idle": "2021-09-23T11:10:11.556157Z",
     "shell.execute_reply": "2021-09-23T11:10:11.555392Z"
    }
   },
   "outputs": [
    {
     "name": "stdout",
     "output_type": "stream",
     "text": [
      "Recent query happens at 2021-09-23 19:10:01 (CST).\n"
     ]
    }
   ],
   "source": [
    "def ts2dt(ts, format=DATETIME_FORMAT):\r\n",
    "    dt = (datetime.utcfromtimestamp(int(ts))\r\n",
    "                    .replace(tzinfo=tz.tzutc())\r\n",
    "                    # .astimezone(tz.tzlocal())\r\n",
    "                    .astimezone(tz.gettz(TIME_ZONE)))\r\n",
    "    return dt.strftime(format), dt\r\n",
    "\r\n",
    "_, newest_dt = ts2dt(newest_ts)\r\n",
    "print(f\"Recent query happens at {newest_dt.strftime(DATETIME_FORMAT)} ({newest_dt.tzname()}).\")"
   ]
  },
  {
   "cell_type": "code",
   "execution_count": 4,
   "metadata": {
    "execution": {
     "iopub.execute_input": "2021-09-23T11:10:11.562324Z",
     "iopub.status.busy": "2021-09-23T11:10:11.560535Z",
     "iopub.status.idle": "2021-09-23T11:10:11.563146Z",
     "shell.execute_reply": "2021-09-23T11:10:11.563667Z"
    }
   },
   "outputs": [],
   "source": [
    "def degrees_to_cardinal(d):\r\n",
    "  dirs = ['N', 'NNE', 'NE', 'ENE', 'E', 'ESE', 'SE', 'SSE', 'S', 'SSW', 'SW', 'WSW', 'W', 'WNW', 'NW', 'NNW']\r\n",
    "  ix = int(round(d / (360. / len(dirs))))\r\n",
    "  return dirs[ix % len(dirs)]"
   ]
  },
  {
   "cell_type": "code",
   "execution_count": 5,
   "metadata": {
    "execution": {
     "iopub.execute_input": "2021-09-23T11:10:11.568613Z",
     "iopub.status.busy": "2021-09-23T11:10:11.567428Z",
     "iopub.status.idle": "2021-09-23T11:10:11.569187Z",
     "shell.execute_reply": "2021-09-23T11:10:11.569623Z"
    }
   },
   "outputs": [],
   "source": [
    "# data.keys()"
   ]
  },
  {
   "cell_type": "code",
   "execution_count": 6,
   "metadata": {
    "execution": {
     "iopub.execute_input": "2021-09-23T11:10:11.574391Z",
     "iopub.status.busy": "2021-09-23T11:10:11.573020Z",
     "iopub.status.idle": "2021-09-23T11:10:11.574967Z",
     "shell.execute_reply": "2021-09-23T11:10:11.575401Z"
    }
   },
   "outputs": [],
   "source": [
    "# data['current']"
   ]
  },
  {
   "cell_type": "code",
   "execution_count": 7,
   "metadata": {
    "execution": {
     "iopub.execute_input": "2021-09-23T11:10:11.598871Z",
     "iopub.status.busy": "2021-09-23T11:10:11.581888Z",
     "iopub.status.idle": "2021-09-23T11:10:12.155271Z",
     "shell.execute_reply": "2021-09-23T11:10:12.156076Z"
    }
   },
   "outputs": [
    {
     "data": {
      "image/png": "[encoded data removed]",
      "text/plain": [
       "<Figure size 216x216 with 1 Axes>"
      ]
     },
     "metadata": {
      "needs_background": "light"
     },
     "output_type": "display_data"
    },
    {
     "name": "stdout",
     "output_type": "stream",
     "text": [
      "Today, sun rises at 06:11 and sets at 18:18.\n",
      "Currently, the weather is Rain (light rain).\n",
      "The temperature is 28.04°C and it feels like 32.52°C.\n",
      "The UV index is 0, humidity is 82%.\n",
      "The pressure is 1013 hPa, percentage of cloud cover is 98%\n",
      "The wind comes from E direction with a speed 6.37 m/s.\n"
     ]
    }
   ],
   "source": [
    "current = data['current']\r\n",
    "\r\n",
    "fig, ax = plt.subplots(figsize=(3, 3))\r\n",
    "icon = requests.get(f\"http://openweathermap.org/img/wn/{current['weather'][0]['icon']}@2x.png\")\r\n",
    "im = Image.open(BytesIO(icon.content))\r\n",
    "plt.imshow(im)\r\n",
    "ax.set_axis_off()\r\n",
    "plt.show()\r\n",
    "\r\n",
    "print(f\"Today, sun rises at {ts2dt(current['sunrise'], '%H:%M')[0]} \\\r\n",
    "and sets at {ts2dt(current['sunset'], '%H:%M')[0]}.\\n\\\r\n",
    "Currently, the weather is {current['weather'][0]['main']} ({current['weather'][0]['description']}).\\n\\\r\n",
    "The temperature is {current['temp']}°C and it feels like {current['feels_like']}°C.\\n\\\r\n",
    "The UV index is {current['uvi']}, humidity is {current['humidity']}%.\\n\\\r\n",
    "The pressure is {current['pressure']} hPa, percentage of cloud cover is {current['clouds']}%\\n\\\r\n",
    "The wind comes from {degrees_to_cardinal(current['wind_deg'])} direction with a speed {current['wind_speed']} m/s.\")"
   ]
  },
  {
   "cell_type": "code",
   "execution_count": 8,
   "metadata": {
    "execution": {
     "iopub.execute_input": "2021-09-23T11:10:12.159359Z",
     "iopub.status.busy": "2021-09-23T11:10:12.158840Z",
     "iopub.status.idle": "2021-09-23T11:10:12.166175Z",
     "shell.execute_reply": "2021-09-23T11:10:12.166961Z"
    }
   },
   "outputs": [],
   "source": [
    "df_hourly = pd.DataFrame(data['hourly'])\r\n",
    "df_daily = pd.DataFrame(data['daily'])"
   ]
  },
  {
   "cell_type": "code",
   "execution_count": 9,
   "metadata": {
    "execution": {
     "iopub.execute_input": "2021-09-23T11:10:12.170188Z",
     "iopub.status.busy": "2021-09-23T11:10:12.169631Z",
     "iopub.status.idle": "2021-09-23T11:10:12.468843Z",
     "shell.execute_reply": "2021-09-23T11:10:12.468308Z"
    }
   },
   "outputs": [
    {
     "data": {
      "image/png": "[encoded data removed]",
      "text/plain": [
       "<Figure size 864x432 with 1 Axes>"
      ]
     },
     "metadata": {
      "needs_background": "light"
     },
     "output_type": "display_data"
    }
   ],
   "source": [
    "fig, ax = plt.subplots(figsize=(12, 6))\r\n",
    "plt.plot(df_hourly.temp, '.-', label='Temperature')\r\n",
    "plt.plot(df_hourly.feels_like, '.-', label='Feels Like')\r\n",
    "ax.set(title='Temperature in future 48 hours', xlabel='Time', ylabel='Temperature')\r\n",
    "ax.set_xticks(list(range(0, len(df_hourly), 2)))\r\n",
    "ax.set_xticklabels([ts2dt(ts, '%m-%d %H:%M')[0] for i, ts in enumerate(df_hourly.dt) if i%2==0], \r\n",
    "                   rotation=45, ha=\"right\")\r\n",
    "ax.locator_params(nbins=15, axis='y')\r\n",
    "plt.legend()\r\n",
    "plt.show()"
   ]
  },
  {
   "cell_type": "code",
   "execution_count": 10,
   "metadata": {
    "execution": {
     "iopub.execute_input": "2021-09-23T11:10:12.473969Z",
     "iopub.status.busy": "2021-09-23T11:10:12.473314Z",
     "iopub.status.idle": "2021-09-23T11:10:12.495904Z",
     "shell.execute_reply": "2021-09-23T11:10:12.495354Z"
    }
   },
   "outputs": [
    {
     "data": {
      "text/html": [
       "<div>\n",
       "<style scoped>\n",
       "    .dataframe tbody tr th:only-of-type {\n",
       "        vertical-align: middle;\n",
       "    }\n",
       "\n",
       "    .dataframe tbody tr th {\n",
       "        vertical-align: top;\n",
       "    }\n",
       "\n",
       "    .dataframe thead th {\n",
       "        text-align: right;\n",
       "    }\n",
       "</style>\n",
       "<table border=\"1\" class=\"dataframe\">\n",
       "  <thead>\n",
       "    <tr style=\"text-align: right;\">\n",
       "      <th></th>\n",
       "      <th>dt</th>\n",
       "      <th>temp</th>\n",
       "      <th>feels_like</th>\n",
       "      <th>pressure</th>\n",
       "      <th>humidity</th>\n",
       "      <th>dew_point</th>\n",
       "      <th>uvi</th>\n",
       "      <th>clouds</th>\n",
       "      <th>visibility</th>\n",
       "      <th>wind_speed</th>\n",
       "      <th>wind_deg</th>\n",
       "      <th>wind_gust</th>\n",
       "      <th>weather</th>\n",
       "      <th>pop</th>\n",
       "      <th>rain</th>\n",
       "    </tr>\n",
       "  </thead>\n",
       "  <tbody>\n",
       "    <tr>\n",
       "      <th>0</th>\n",
       "      <td>1632394800</td>\n",
       "      <td>28.04</td>\n",
       "      <td>32.52</td>\n",
       "      <td>1013</td>\n",
       "      <td>82</td>\n",
       "      <td>24.68</td>\n",
       "      <td>0.0</td>\n",
       "      <td>98</td>\n",
       "      <td>10000</td>\n",
       "      <td>6.37</td>\n",
       "      <td>95</td>\n",
       "      <td>8.76</td>\n",
       "      <td>[{'id': 500, 'main': 'Rain', 'description': 'l...</td>\n",
       "      <td>0.69</td>\n",
       "      <td>{'1h': 0.32}</td>\n",
       "    </tr>\n",
       "    <tr>\n",
       "      <th>1</th>\n",
       "      <td>1632398400</td>\n",
       "      <td>28.08</td>\n",
       "      <td>32.46</td>\n",
       "      <td>1013</td>\n",
       "      <td>81</td>\n",
       "      <td>24.51</td>\n",
       "      <td>0.0</td>\n",
       "      <td>98</td>\n",
       "      <td>10000</td>\n",
       "      <td>6.70</td>\n",
       "      <td>97</td>\n",
       "      <td>9.05</td>\n",
       "      <td>[{'id': 500, 'main': 'Rain', 'description': 'l...</td>\n",
       "      <td>0.65</td>\n",
       "      <td>{'1h': 0.49}</td>\n",
       "    </tr>\n",
       "    <tr>\n",
       "      <th>2</th>\n",
       "      <td>1632402000</td>\n",
       "      <td>28.13</td>\n",
       "      <td>32.59</td>\n",
       "      <td>1013</td>\n",
       "      <td>81</td>\n",
       "      <td>24.56</td>\n",
       "      <td>0.0</td>\n",
       "      <td>97</td>\n",
       "      <td>10000</td>\n",
       "      <td>7.21</td>\n",
       "      <td>97</td>\n",
       "      <td>9.39</td>\n",
       "      <td>[{'id': 804, 'main': 'Clouds', 'description': ...</td>\n",
       "      <td>0.61</td>\n",
       "      <td>NaN</td>\n",
       "    </tr>\n",
       "    <tr>\n",
       "      <th>3</th>\n",
       "      <td>1632405600</td>\n",
       "      <td>28.08</td>\n",
       "      <td>32.46</td>\n",
       "      <td>1014</td>\n",
       "      <td>81</td>\n",
       "      <td>24.51</td>\n",
       "      <td>0.0</td>\n",
       "      <td>97</td>\n",
       "      <td>10000</td>\n",
       "      <td>7.42</td>\n",
       "      <td>98</td>\n",
       "      <td>9.76</td>\n",
       "      <td>[{'id': 500, 'main': 'Rain', 'description': 'l...</td>\n",
       "      <td>0.62</td>\n",
       "      <td>{'1h': 0.18}</td>\n",
       "    </tr>\n",
       "    <tr>\n",
       "      <th>4</th>\n",
       "      <td>1632409200</td>\n",
       "      <td>28.02</td>\n",
       "      <td>32.31</td>\n",
       "      <td>1015</td>\n",
       "      <td>81</td>\n",
       "      <td>24.45</td>\n",
       "      <td>0.0</td>\n",
       "      <td>93</td>\n",
       "      <td>10000</td>\n",
       "      <td>7.38</td>\n",
       "      <td>97</td>\n",
       "      <td>9.68</td>\n",
       "      <td>[{'id': 500, 'main': 'Rain', 'description': 'l...</td>\n",
       "      <td>0.62</td>\n",
       "      <td>{'1h': 0.29}</td>\n",
       "    </tr>\n",
       "  </tbody>\n",
       "</table>\n",
       "</div>"
      ],
      "text/plain": [
       "           dt   temp  feels_like  pressure  humidity  dew_point  uvi  clouds  \\\n",
       "0  1632394800  28.04       32.52      1013        82      24.68  0.0      98   \n",
       "1  1632398400  28.08       32.46      1013        81      24.51  0.0      98   \n",
       "2  1632402000  28.13       32.59      1013        81      24.56  0.0      97   \n",
       "3  1632405600  28.08       32.46      1014        81      24.51  0.0      97   \n",
       "4  1632409200  28.02       32.31      1015        81      24.45  0.0      93   \n",
       "\n",
       "   visibility  wind_speed  wind_deg  wind_gust  \\\n",
       "0       10000        6.37        95       8.76   \n",
       "1       10000        6.70        97       9.05   \n",
       "2       10000        7.21        97       9.39   \n",
       "3       10000        7.42        98       9.76   \n",
       "4       10000        7.38        97       9.68   \n",
       "\n",
       "                                             weather   pop          rain  \n",
       "0  [{'id': 500, 'main': 'Rain', 'description': 'l...  0.69  {'1h': 0.32}  \n",
       "1  [{'id': 500, 'main': 'Rain', 'description': 'l...  0.65  {'1h': 0.49}  \n",
       "2  [{'id': 804, 'main': 'Clouds', 'description': ...  0.61           NaN  \n",
       "3  [{'id': 500, 'main': 'Rain', 'description': 'l...  0.62  {'1h': 0.18}  \n",
       "4  [{'id': 500, 'main': 'Rain', 'description': 'l...  0.62  {'1h': 0.29}  "
      ]
     },
     "execution_count": 10,
     "metadata": {},
     "output_type": "execute_result"
    }
   ],
   "source": [
    "df_hourly.head()"
   ]
  },
  {
   "cell_type": "code",
   "execution_count": null,
   "metadata": {},
   "outputs": [],
   "source": []
  }
 ],
 "metadata": {
  "interpreter": {
   "hash": "c1b4cfe941b6d2466ad1fb5979e97da9cda8801728c8091b097ab734208fc00c"
  },
  "kernelspec": {
   "display_name": "Python 3.8.3 64-bit ('base': conda)",
   "name": "python3"
  },
  "language_info": {
   "codemirror_mode": {
    "name": "ipython",
    "version": 3
   },
   "file_extension": ".py",
   "mimetype": "text/x-python",
   "name": "python",
   "nbconvert_exporter": "python",
   "pygments_lexer": "ipython3",
   "version": "3.8.12"
  }
 },
 "nbformat": 4,
 "nbformat_minor": 2
}
