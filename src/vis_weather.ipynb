{
 "cells": [
  {
   "cell_type": "code",
   "execution_count": 1,
   "metadata": {
    "execution": {
     "iopub.execute_input": "2021-10-04T04:14:54.648908Z",
     "iopub.status.busy": "2021-10-04T04:14:54.648087Z",
     "iopub.status.idle": "2021-10-04T04:14:57.496309Z",
     "shell.execute_reply": "2021-10-04T04:14:57.495751Z"
    }
   },
   "outputs": [],
   "source": [
    "import json, yaml, requests\r\n",
    "from datetime import datetime\r\n",
    "from dateutil import tz\r\n",
    "import pandas as pd\r\n",
    "from PIL import Image\r\n",
    "from io import BytesIO\r\n",
    "import matplotlib.pyplot as plt\r\n",
    "import seaborn\r\n",
    "\r\n",
    "CONFIG_PATH = \"../config/config.yaml\""
   ]
  },
  {
   "cell_type": "code",
   "execution_count": 2,
   "metadata": {
    "execution": {
     "iopub.execute_input": "2021-10-04T04:14:57.502129Z",
     "iopub.status.busy": "2021-10-04T04:14:57.501547Z",
     "iopub.status.idle": "2021-10-04T04:14:57.506087Z",
     "shell.execute_reply": "2021-10-04T04:14:57.506697Z"
    }
   },
   "outputs": [],
   "source": [
    "with open('../newest_ts', 'r') as f:\r\n",
    "    newest_ts = f.read()\r\n",
    "\r\n",
    "data_path = f\"../data/data_{newest_ts}.json\"\r\n",
    "with open(data_path, 'r') as f:\r\n",
    "    data = json.load(f)\r\n",
    "\r\n",
    "with open(CONFIG_PATH, \"r\") as stream:\r\n",
    "    config = yaml.safe_load(stream)\r\n",
    "\r\n",
    "TIME_ZONE = config['time_zone']\r\n",
    "DATETIME_FORMAT = config['dt_format']"
   ]
  },
  {
   "cell_type": "code",
   "execution_count": 3,
   "metadata": {
    "execution": {
     "iopub.execute_input": "2021-10-04T04:14:57.509450Z",
     "iopub.status.busy": "2021-10-04T04:14:57.508858Z",
     "iopub.status.idle": "2021-10-04T04:14:57.516966Z",
     "shell.execute_reply": "2021-10-04T04:14:57.517467Z"
    }
   },
   "outputs": [
    {
     "name": "stdout",
     "output_type": "stream",
     "text": [
      "Recent query happens at 2021-10-04 12:14:51 (CST).\n"
     ]
    }
   ],
   "source": [
    "def ts2dt(ts, format=DATETIME_FORMAT):\r\n",
    "    dt = (datetime.utcfromtimestamp(int(ts))\r\n",
    "                    .replace(tzinfo=tz.tzutc())\r\n",
    "                    # .astimezone(tz.tzlocal())\r\n",
    "                    .astimezone(tz.gettz(TIME_ZONE)))\r\n",
    "    return dt.strftime(format), dt\r\n",
    "\r\n",
    "_, newest_dt = ts2dt(newest_ts)\r\n",
    "print(f\"Recent query happens at {newest_dt.strftime(DATETIME_FORMAT)} ({newest_dt.tzname()}).\")"
   ]
  },
  {
   "cell_type": "code",
   "execution_count": 4,
   "metadata": {
    "execution": {
     "iopub.execute_input": "2021-10-04T04:14:57.522360Z",
     "iopub.status.busy": "2021-10-04T04:14:57.521786Z",
     "iopub.status.idle": "2021-10-04T04:14:57.524432Z",
     "shell.execute_reply": "2021-10-04T04:14:57.523754Z"
    }
   },
   "outputs": [],
   "source": [
    "def degrees_to_cardinal(d):\r\n",
    "  dirs = ['N', 'NNE', 'NE', 'ENE', 'E', 'ESE', 'SE', 'SSE', 'S', 'SSW', 'SW', 'WSW', 'W', 'WNW', 'NW', 'NNW']\r\n",
    "  ix = int(round(d / (360. / len(dirs))))\r\n",
    "  return dirs[ix % len(dirs)]"
   ]
  },
  {
   "cell_type": "code",
   "execution_count": 5,
   "metadata": {
    "execution": {
     "iopub.execute_input": "2021-10-04T04:14:57.529117Z",
     "iopub.status.busy": "2021-10-04T04:14:57.527658Z",
     "iopub.status.idle": "2021-10-04T04:14:57.529738Z",
     "shell.execute_reply": "2021-10-04T04:14:57.530254Z"
    }
   },
   "outputs": [],
   "source": [
    "# data.keys()"
   ]
  },
  {
   "cell_type": "code",
   "execution_count": 6,
   "metadata": {
    "execution": {
     "iopub.execute_input": "2021-10-04T04:14:57.533374Z",
     "iopub.status.busy": "2021-10-04T04:14:57.532886Z",
     "iopub.status.idle": "2021-10-04T04:14:57.534870Z",
     "shell.execute_reply": "2021-10-04T04:14:57.535252Z"
    }
   },
   "outputs": [],
   "source": [
    "# data['current']"
   ]
  },
  {
   "cell_type": "code",
   "execution_count": 7,
   "metadata": {
    "execution": {
     "iopub.execute_input": "2021-10-04T04:14:57.556004Z",
     "iopub.status.busy": "2021-10-04T04:14:57.555502Z",
     "iopub.status.idle": "2021-10-04T04:14:57.972154Z",
     "shell.execute_reply": "2021-10-04T04:14:57.972987Z"
    }
   },
   "outputs": [
    {
     "data": {
      "image/png": "[encoded data removed]",
      "text/plain": [
       "<Figure size 216x216 with 1 Axes>"
      ]
     },
     "metadata": {
      "needs_background": "light"
     },
     "output_type": "display_data"
    },
    {
     "name": "stdout",
     "output_type": "stream",
     "text": [
      "Today, sun rises at 06:15 and sets at 18:08.\n",
      "Currently, the weather is Clouds (scattered clouds).\n",
      "The temperature is 30.32°C and it feels like 37.32°C.\n",
      "The UV index is 9.25, humidity is 76%.\n",
      "The pressure is 1014 hPa, percentage of cloud cover is 38%\n",
      "The wind comes from ENE direction with a speed 7.27 m/s.\n"
     ]
    }
   ],
   "source": [
    "current = data['current']\r\n",
    "\r\n",
    "fig, ax = plt.subplots(figsize=(3, 3))\r\n",
    "icon = requests.get(f\"http://openweathermap.org/img/wn/{current['weather'][0]['icon']}@2x.png\")\r\n",
    "im = Image.open(BytesIO(icon.content))\r\n",
    "plt.imshow(im)\r\n",
    "ax.set_axis_off()\r\n",
    "plt.show()\r\n",
    "\r\n",
    "print(f\"Today, sun rises at {ts2dt(current['sunrise'], '%H:%M')[0]} \\\r\n",
    "and sets at {ts2dt(current['sunset'], '%H:%M')[0]}.\\n\\\r\n",
    "Currently, the weather is {current['weather'][0]['main']} ({current['weather'][0]['description']}).\\n\\\r\n",
    "The temperature is {current['temp']}°C and it feels like {current['feels_like']}°C.\\n\\\r\n",
    "The UV index is {current['uvi']}, humidity is {current['humidity']}%.\\n\\\r\n",
    "The pressure is {current['pressure']} hPa, percentage of cloud cover is {current['clouds']}%\\n\\\r\n",
    "The wind comes from {degrees_to_cardinal(current['wind_deg'])} direction with a speed {current['wind_speed']} m/s.\")"
   ]
  },
  {
   "cell_type": "code",
   "execution_count": 8,
   "metadata": {
    "execution": {
     "iopub.execute_input": "2021-10-04T04:14:57.976667Z",
     "iopub.status.busy": "2021-10-04T04:14:57.975931Z",
     "iopub.status.idle": "2021-10-04T04:14:57.984323Z",
     "shell.execute_reply": "2021-10-04T04:14:57.985104Z"
    }
   },
   "outputs": [],
   "source": [
    "df_hourly = pd.DataFrame(data['hourly'])\r\n",
    "df_daily = pd.DataFrame(data['daily'])"
   ]
  },
  {
   "cell_type": "code",
   "execution_count": 9,
   "metadata": {
    "execution": {
     "iopub.execute_input": "2021-10-04T04:14:57.989312Z",
     "iopub.status.busy": "2021-10-04T04:14:57.988682Z",
     "iopub.status.idle": "2021-10-04T04:14:58.300517Z",
     "shell.execute_reply": "2021-10-04T04:14:58.300905Z"
    }
   },
   "outputs": [
    {
     "data": {
      "image/png": "[encoded data removed]",
      "text/plain": [
       "<Figure size 864x432 with 1 Axes>"
      ]
     },
     "metadata": {
      "needs_background": "light"
     },
     "output_type": "display_data"
    }
   ],
   "source": [
    "fig, ax = plt.subplots(figsize=(12, 6))\r\n",
    "plt.plot(df_hourly.temp, '.-', label='Temperature')\r\n",
    "plt.plot(df_hourly.feels_like, '.-', label='Feels Like')\r\n",
    "ax.set(title='Temperature in future 48 hours', xlabel='Time', ylabel='Temperature')\r\n",
    "ax.set_xticks(list(range(0, len(df_hourly), 2)))\r\n",
    "ax.set_xticklabels([ts2dt(ts, '%m-%d %H:%M')[0] for i, ts in enumerate(df_hourly.dt) if i%2==0], \r\n",
    "                   rotation=45, ha=\"right\")\r\n",
    "ax.locator_params(nbins=15, axis='y')\r\n",
    "plt.legend()\r\n",
    "plt.show()"
   ]
  },
  {
   "cell_type": "code",
   "execution_count": 10,
   "metadata": {
    "execution": {
     "iopub.execute_input": "2021-10-04T04:14:58.305497Z",
     "iopub.status.busy": "2021-10-04T04:14:58.304545Z",
     "iopub.status.idle": "2021-10-04T04:14:58.325853Z",
     "shell.execute_reply": "2021-10-04T04:14:58.326362Z"
    }
   },
   "outputs": [
    {
     "data": {
      "text/html": [
       "<div>\n",
       "<style scoped>\n",
       "    .dataframe tbody tr th:only-of-type {\n",
       "        vertical-align: middle;\n",
       "    }\n",
       "\n",
       "    .dataframe tbody tr th {\n",
       "        vertical-align: top;\n",
       "    }\n",
       "\n",
       "    .dataframe thead th {\n",
       "        text-align: right;\n",
       "    }\n",
       "</style>\n",
       "<table border=\"1\" class=\"dataframe\">\n",
       "  <thead>\n",
       "    <tr style=\"text-align: right;\">\n",
       "      <th></th>\n",
       "      <th>dt</th>\n",
       "      <th>temp</th>\n",
       "      <th>feels_like</th>\n",
       "      <th>pressure</th>\n",
       "      <th>humidity</th>\n",
       "      <th>dew_point</th>\n",
       "      <th>uvi</th>\n",
       "      <th>clouds</th>\n",
       "      <th>visibility</th>\n",
       "      <th>wind_speed</th>\n",
       "      <th>wind_deg</th>\n",
       "      <th>wind_gust</th>\n",
       "      <th>weather</th>\n",
       "      <th>pop</th>\n",
       "      <th>rain</th>\n",
       "    </tr>\n",
       "  </thead>\n",
       "  <tbody>\n",
       "    <tr>\n",
       "      <th>0</th>\n",
       "      <td>1633320000</td>\n",
       "      <td>30.32</td>\n",
       "      <td>37.32</td>\n",
       "      <td>1014</td>\n",
       "      <td>76</td>\n",
       "      <td>25.61</td>\n",
       "      <td>9.25</td>\n",
       "      <td>38</td>\n",
       "      <td>10000</td>\n",
       "      <td>7.27</td>\n",
       "      <td>74</td>\n",
       "      <td>8.13</td>\n",
       "      <td>[{'id': 802, 'main': 'Clouds', 'description': ...</td>\n",
       "      <td>0.0</td>\n",
       "      <td>NaN</td>\n",
       "    </tr>\n",
       "    <tr>\n",
       "      <th>1</th>\n",
       "      <td>1633323600</td>\n",
       "      <td>30.10</td>\n",
       "      <td>36.05</td>\n",
       "      <td>1014</td>\n",
       "      <td>73</td>\n",
       "      <td>24.72</td>\n",
       "      <td>9.09</td>\n",
       "      <td>37</td>\n",
       "      <td>10000</td>\n",
       "      <td>6.88</td>\n",
       "      <td>77</td>\n",
       "      <td>7.96</td>\n",
       "      <td>[{'id': 802, 'main': 'Clouds', 'description': ...</td>\n",
       "      <td>0.0</td>\n",
       "      <td>NaN</td>\n",
       "    </tr>\n",
       "    <tr>\n",
       "      <th>2</th>\n",
       "      <td>1633327200</td>\n",
       "      <td>29.93</td>\n",
       "      <td>35.11</td>\n",
       "      <td>1013</td>\n",
       "      <td>71</td>\n",
       "      <td>24.10</td>\n",
       "      <td>7.38</td>\n",
       "      <td>33</td>\n",
       "      <td>10000</td>\n",
       "      <td>6.69</td>\n",
       "      <td>79</td>\n",
       "      <td>7.83</td>\n",
       "      <td>[{'id': 500, 'main': 'Rain', 'description': 'l...</td>\n",
       "      <td>0.2</td>\n",
       "      <td>{'1h': 0.12}</td>\n",
       "    </tr>\n",
       "    <tr>\n",
       "      <th>3</th>\n",
       "      <td>1633330800</td>\n",
       "      <td>29.65</td>\n",
       "      <td>33.77</td>\n",
       "      <td>1012</td>\n",
       "      <td>68</td>\n",
       "      <td>23.11</td>\n",
       "      <td>4.85</td>\n",
       "      <td>16</td>\n",
       "      <td>10000</td>\n",
       "      <td>6.40</td>\n",
       "      <td>86</td>\n",
       "      <td>7.80</td>\n",
       "      <td>[{'id': 801, 'main': 'Clouds', 'description': ...</td>\n",
       "      <td>0.0</td>\n",
       "      <td>NaN</td>\n",
       "    </tr>\n",
       "    <tr>\n",
       "      <th>4</th>\n",
       "      <td>1633334400</td>\n",
       "      <td>29.20</td>\n",
       "      <td>32.78</td>\n",
       "      <td>1012</td>\n",
       "      <td>68</td>\n",
       "      <td>22.68</td>\n",
       "      <td>2.33</td>\n",
       "      <td>9</td>\n",
       "      <td>10000</td>\n",
       "      <td>5.96</td>\n",
       "      <td>94</td>\n",
       "      <td>7.49</td>\n",
       "      <td>[{'id': 800, 'main': 'Clear', 'description': '...</td>\n",
       "      <td>0.0</td>\n",
       "      <td>NaN</td>\n",
       "    </tr>\n",
       "  </tbody>\n",
       "</table>\n",
       "</div>"
      ],
      "text/plain": [
       "           dt   temp  feels_like  pressure  humidity  dew_point   uvi  clouds  \\\n",
       "0  1633320000  30.32       37.32      1014        76      25.61  9.25      38   \n",
       "1  1633323600  30.10       36.05      1014        73      24.72  9.09      37   \n",
       "2  1633327200  29.93       35.11      1013        71      24.10  7.38      33   \n",
       "3  1633330800  29.65       33.77      1012        68      23.11  4.85      16   \n",
       "4  1633334400  29.20       32.78      1012        68      22.68  2.33       9   \n",
       "\n",
       "   visibility  wind_speed  wind_deg  wind_gust  \\\n",
       "0       10000        7.27        74       8.13   \n",
       "1       10000        6.88        77       7.96   \n",
       "2       10000        6.69        79       7.83   \n",
       "3       10000        6.40        86       7.80   \n",
       "4       10000        5.96        94       7.49   \n",
       "\n",
       "                                             weather  pop          rain  \n",
       "0  [{'id': 802, 'main': 'Clouds', 'description': ...  0.0           NaN  \n",
       "1  [{'id': 802, 'main': 'Clouds', 'description': ...  0.0           NaN  \n",
       "2  [{'id': 500, 'main': 'Rain', 'description': 'l...  0.2  {'1h': 0.12}  \n",
       "3  [{'id': 801, 'main': 'Clouds', 'description': ...  0.0           NaN  \n",
       "4  [{'id': 800, 'main': 'Clear', 'description': '...  0.0           NaN  "
      ]
     },
     "execution_count": 10,
     "metadata": {},
     "output_type": "execute_result"
    }
   ],
   "source": [
    "df_hourly.head()"
   ]
  },
  {
   "cell_type": "code",
   "execution_count": null,
   "metadata": {},
   "outputs": [],
   "source": []
  }
 ],
 "metadata": {
  "interpreter": {
   "hash": "c1b4cfe941b6d2466ad1fb5979e97da9cda8801728c8091b097ab734208fc00c"
  },
  "kernelspec": {
   "display_name": "Python 3.8.3 64-bit ('base': conda)",
   "name": "python3"
  },
  "language_info": {
   "codemirror_mode": {
    "name": "ipython",
    "version": 3
   },
   "file_extension": ".py",
   "mimetype": "text/x-python",
   "name": "python",
   "nbconvert_exporter": "python",
   "pygments_lexer": "ipython3",
   "version": "3.8.12"
  }
 },
 "nbformat": 4,
 "nbformat_minor": 2
}
