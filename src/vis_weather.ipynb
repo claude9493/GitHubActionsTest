{
 "cells": [
  {
   "cell_type": "code",
   "execution_count": 1,
   "metadata": {
    "execution": {
     "iopub.execute_input": "2021-09-24T02:24:43.828316Z",
     "iopub.status.busy": "2021-09-24T02:24:43.827629Z",
     "iopub.status.idle": "2021-09-24T02:24:45.715789Z",
     "shell.execute_reply": "2021-09-24T02:24:45.716381Z"
    }
   },
   "outputs": [],
   "source": [
    "import json, yaml, requests\r\n",
    "from datetime import datetime\r\n",
    "from dateutil import tz\r\n",
    "import pandas as pd\r\n",
    "from PIL import Image\r\n",
    "from io import BytesIO\r\n",
    "import matplotlib.pyplot as plt\r\n",
    "import seaborn\r\n",
    "\r\n",
    "CONFIG_PATH = \"../config/config.yaml\""
   ]
  },
  {
   "cell_type": "code",
   "execution_count": 2,
   "metadata": {
    "execution": {
     "iopub.execute_input": "2021-09-24T02:24:45.726049Z",
     "iopub.status.busy": "2021-09-24T02:24:45.721701Z",
     "iopub.status.idle": "2021-09-24T02:24:45.728847Z",
     "shell.execute_reply": "2021-09-24T02:24:45.727990Z"
    }
   },
   "outputs": [],
   "source": [
    "with open('../newest_ts', 'r') as f:\r\n",
    "    newest_ts = f.read()\r\n",
    "\r\n",
    "data_path = f\"../data/data_{newest_ts}.json\"\r\n",
    "with open(data_path, 'r') as f:\r\n",
    "    data = json.load(f)\r\n",
    "\r\n",
    "with open(CONFIG_PATH, \"r\") as stream:\r\n",
    "    config = yaml.safe_load(stream)\r\n",
    "\r\n",
    "TIME_ZONE = config['time_zone']\r\n",
    "DATETIME_FORMAT = config['dt_format']"
   ]
  },
  {
   "cell_type": "code",
   "execution_count": 3,
   "metadata": {
    "execution": {
     "iopub.execute_input": "2021-09-24T02:24:45.734339Z",
     "iopub.status.busy": "2021-09-24T02:24:45.733682Z",
     "iopub.status.idle": "2021-09-24T02:24:45.741047Z",
     "shell.execute_reply": "2021-09-24T02:24:45.740378Z"
    }
   },
   "outputs": [
    {
     "name": "stdout",
     "output_type": "stream",
     "text": [
      "Recent query happens at 2021-09-24 10:24:39 (CST).\n"
     ]
    }
   ],
   "source": [
    "def ts2dt(ts, format=DATETIME_FORMAT):\r\n",
    "    dt = (datetime.utcfromtimestamp(int(ts))\r\n",
    "                    .replace(tzinfo=tz.tzutc())\r\n",
    "                    # .astimezone(tz.tzlocal())\r\n",
    "                    .astimezone(tz.gettz(TIME_ZONE)))\r\n",
    "    return dt.strftime(format), dt\r\n",
    "\r\n",
    "_, newest_dt = ts2dt(newest_ts)\r\n",
    "print(f\"Recent query happens at {newest_dt.strftime(DATETIME_FORMAT)} ({newest_dt.tzname()}).\")"
   ]
  },
  {
   "cell_type": "code",
   "execution_count": 4,
   "metadata": {
    "execution": {
     "iopub.execute_input": "2021-09-24T02:24:45.746565Z",
     "iopub.status.busy": "2021-09-24T02:24:45.745861Z",
     "iopub.status.idle": "2021-09-24T02:24:45.750029Z",
     "shell.execute_reply": "2021-09-24T02:24:45.750506Z"
    }
   },
   "outputs": [],
   "source": [
    "def degrees_to_cardinal(d):\r\n",
    "  dirs = ['N', 'NNE', 'NE', 'ENE', 'E', 'ESE', 'SE', 'SSE', 'S', 'SSW', 'SW', 'WSW', 'W', 'WNW', 'NW', 'NNW']\r\n",
    "  ix = int(round(d / (360. / len(dirs))))\r\n",
    "  return dirs[ix % len(dirs)]"
   ]
  },
  {
   "cell_type": "code",
   "execution_count": 5,
   "metadata": {
    "execution": {
     "iopub.execute_input": "2021-09-24T02:24:45.754626Z",
     "iopub.status.busy": "2021-09-24T02:24:45.753868Z",
     "iopub.status.idle": "2021-09-24T02:24:45.758364Z",
     "shell.execute_reply": "2021-09-24T02:24:45.757779Z"
    }
   },
   "outputs": [],
   "source": [
    "# data.keys()"
   ]
  },
  {
   "cell_type": "code",
   "execution_count": 6,
   "metadata": {
    "execution": {
     "iopub.execute_input": "2021-09-24T02:24:45.762222Z",
     "iopub.status.busy": "2021-09-24T02:24:45.761589Z",
     "iopub.status.idle": "2021-09-24T02:24:45.765406Z",
     "shell.execute_reply": "2021-09-24T02:24:45.765934Z"
    }
   },
   "outputs": [],
   "source": [
    "# data['current']"
   ]
  },
  {
   "cell_type": "code",
   "execution_count": 7,
   "metadata": {
    "execution": {
     "iopub.execute_input": "2021-09-24T02:24:45.787800Z",
     "iopub.status.busy": "2021-09-24T02:24:45.787207Z",
     "iopub.status.idle": "2021-09-24T02:24:46.223288Z",
     "shell.execute_reply": "2021-09-24T02:24:46.223976Z"
    }
   },
   "outputs": [
    {
     "data": {
      "image/png": "[encoded data removed]",
      "text/plain": [
       "<Figure size 216x216 with 1 Axes>"
      ]
     },
     "metadata": {
      "needs_background": "light"
     },
     "output_type": "display_data"
    },
    {
     "name": "stdout",
     "output_type": "stream",
     "text": [
      "Today, sun rises at 06:12 and sets at 18:17.\n",
      "Currently, the weather is Rain (light rain).\n",
      "The temperature is 30.24°C and it feels like 37.24°C.\n",
      "The UV index is 5.83, humidity is 82%.\n",
      "The pressure is 1015 hPa, percentage of cloud cover is 44%\n",
      "The wind comes from E direction with a speed 6.72 m/s.\n"
     ]
    }
   ],
   "source": [
    "current = data['current']\r\n",
    "\r\n",
    "fig, ax = plt.subplots(figsize=(3, 3))\r\n",
    "icon = requests.get(f\"http://openweathermap.org/img/wn/{current['weather'][0]['icon']}@2x.png\")\r\n",
    "im = Image.open(BytesIO(icon.content))\r\n",
    "plt.imshow(im)\r\n",
    "ax.set_axis_off()\r\n",
    "plt.show()\r\n",
    "\r\n",
    "print(f\"Today, sun rises at {ts2dt(current['sunrise'], '%H:%M')[0]} \\\r\n",
    "and sets at {ts2dt(current['sunset'], '%H:%M')[0]}.\\n\\\r\n",
    "Currently, the weather is {current['weather'][0]['main']} ({current['weather'][0]['description']}).\\n\\\r\n",
    "The temperature is {current['temp']}°C and it feels like {current['feels_like']}°C.\\n\\\r\n",
    "The UV index is {current['uvi']}, humidity is {current['humidity']}%.\\n\\\r\n",
    "The pressure is {current['pressure']} hPa, percentage of cloud cover is {current['clouds']}%\\n\\\r\n",
    "The wind comes from {degrees_to_cardinal(current['wind_deg'])} direction with a speed {current['wind_speed']} m/s.\")"
   ]
  },
  {
   "cell_type": "code",
   "execution_count": 8,
   "metadata": {
    "execution": {
     "iopub.execute_input": "2021-09-24T02:24:46.230931Z",
     "iopub.status.busy": "2021-09-24T02:24:46.230392Z",
     "iopub.status.idle": "2021-09-24T02:24:46.235549Z",
     "shell.execute_reply": "2021-09-24T02:24:46.236254Z"
    }
   },
   "outputs": [],
   "source": [
    "df_hourly = pd.DataFrame(data['hourly'])\r\n",
    "df_daily = pd.DataFrame(data['daily'])"
   ]
  },
  {
   "cell_type": "code",
   "execution_count": 9,
   "metadata": {
    "execution": {
     "iopub.execute_input": "2021-09-24T02:24:46.252126Z",
     "iopub.status.busy": "2021-09-24T02:24:46.238918Z",
     "iopub.status.idle": "2021-09-24T02:24:46.586671Z",
     "shell.execute_reply": "2021-09-24T02:24:46.585836Z"
    }
   },
   "outputs": [
    {
     "data": {
      "image/png": "[encoded data removed]",
      "text/plain": [
       "<Figure size 864x432 with 1 Axes>"
      ]
     },
     "metadata": {
      "needs_background": "light"
     },
     "output_type": "display_data"
    }
   ],
   "source": [
    "fig, ax = plt.subplots(figsize=(12, 6))\r\n",
    "plt.plot(df_hourly.temp, '.-', label='Temperature')\r\n",
    "plt.plot(df_hourly.feels_like, '.-', label='Feels Like')\r\n",
    "ax.set(title='Temperature in future 48 hours', xlabel='Time', ylabel='Temperature')\r\n",
    "ax.set_xticks(list(range(0, len(df_hourly), 2)))\r\n",
    "ax.set_xticklabels([ts2dt(ts, '%m-%d %H:%M')[0] for i, ts in enumerate(df_hourly.dt) if i%2==0], \r\n",
    "                   rotation=45, ha=\"right\")\r\n",
    "ax.locator_params(nbins=15, axis='y')\r\n",
    "plt.legend()\r\n",
    "plt.show()"
   ]
  },
  {
   "cell_type": "code",
   "execution_count": 10,
   "metadata": {
    "execution": {
     "iopub.execute_input": "2021-09-24T02:24:46.591688Z",
     "iopub.status.busy": "2021-09-24T02:24:46.591076Z",
     "iopub.status.idle": "2021-09-24T02:24:46.611328Z",
     "shell.execute_reply": "2021-09-24T02:24:46.611842Z"
    }
   },
   "outputs": [
    {
     "data": {
      "text/html": [
       "<div>\n",
       "<style scoped>\n",
       "    .dataframe tbody tr th:only-of-type {\n",
       "        vertical-align: middle;\n",
       "    }\n",
       "\n",
       "    .dataframe tbody tr th {\n",
       "        vertical-align: top;\n",
       "    }\n",
       "\n",
       "    .dataframe thead th {\n",
       "        text-align: right;\n",
       "    }\n",
       "</style>\n",
       "<table border=\"1\" class=\"dataframe\">\n",
       "  <thead>\n",
       "    <tr style=\"text-align: right;\">\n",
       "      <th></th>\n",
       "      <th>dt</th>\n",
       "      <th>temp</th>\n",
       "      <th>feels_like</th>\n",
       "      <th>pressure</th>\n",
       "      <th>humidity</th>\n",
       "      <th>dew_point</th>\n",
       "      <th>uvi</th>\n",
       "      <th>clouds</th>\n",
       "      <th>visibility</th>\n",
       "      <th>wind_speed</th>\n",
       "      <th>wind_deg</th>\n",
       "      <th>wind_gust</th>\n",
       "      <th>weather</th>\n",
       "      <th>pop</th>\n",
       "      <th>rain</th>\n",
       "    </tr>\n",
       "  </thead>\n",
       "  <tbody>\n",
       "    <tr>\n",
       "      <th>0</th>\n",
       "      <td>1632448800</td>\n",
       "      <td>30.24</td>\n",
       "      <td>37.24</td>\n",
       "      <td>1015</td>\n",
       "      <td>82</td>\n",
       "      <td>26.82</td>\n",
       "      <td>5.83</td>\n",
       "      <td>44</td>\n",
       "      <td>10000</td>\n",
       "      <td>6.72</td>\n",
       "      <td>88</td>\n",
       "      <td>8.38</td>\n",
       "      <td>[{'id': 802, 'main': 'Clouds', 'description': ...</td>\n",
       "      <td>0.62</td>\n",
       "      <td>NaN</td>\n",
       "    </tr>\n",
       "    <tr>\n",
       "      <th>1</th>\n",
       "      <td>1632452400</td>\n",
       "      <td>30.06</td>\n",
       "      <td>37.06</td>\n",
       "      <td>1015</td>\n",
       "      <td>80</td>\n",
       "      <td>26.23</td>\n",
       "      <td>8.42</td>\n",
       "      <td>44</td>\n",
       "      <td>10000</td>\n",
       "      <td>6.67</td>\n",
       "      <td>89</td>\n",
       "      <td>8.09</td>\n",
       "      <td>[{'id': 802, 'main': 'Clouds', 'description': ...</td>\n",
       "      <td>0.57</td>\n",
       "      <td>NaN</td>\n",
       "    </tr>\n",
       "    <tr>\n",
       "      <th>2</th>\n",
       "      <td>1632456000</td>\n",
       "      <td>29.94</td>\n",
       "      <td>36.93</td>\n",
       "      <td>1015</td>\n",
       "      <td>78</td>\n",
       "      <td>25.68</td>\n",
       "      <td>10.09</td>\n",
       "      <td>43</td>\n",
       "      <td>10000</td>\n",
       "      <td>6.81</td>\n",
       "      <td>89</td>\n",
       "      <td>7.91</td>\n",
       "      <td>[{'id': 802, 'main': 'Clouds', 'description': ...</td>\n",
       "      <td>0.49</td>\n",
       "      <td>NaN</td>\n",
       "    </tr>\n",
       "    <tr>\n",
       "      <th>3</th>\n",
       "      <td>1632459600</td>\n",
       "      <td>29.95</td>\n",
       "      <td>36.42</td>\n",
       "      <td>1014</td>\n",
       "      <td>76</td>\n",
       "      <td>25.25</td>\n",
       "      <td>9.91</td>\n",
       "      <td>40</td>\n",
       "      <td>10000</td>\n",
       "      <td>6.57</td>\n",
       "      <td>88</td>\n",
       "      <td>7.61</td>\n",
       "      <td>[{'id': 802, 'main': 'Clouds', 'description': ...</td>\n",
       "      <td>0.46</td>\n",
       "      <td>NaN</td>\n",
       "    </tr>\n",
       "    <tr>\n",
       "      <th>4</th>\n",
       "      <td>1632463200</td>\n",
       "      <td>29.94</td>\n",
       "      <td>35.63</td>\n",
       "      <td>1013</td>\n",
       "      <td>73</td>\n",
       "      <td>24.57</td>\n",
       "      <td>8.10</td>\n",
       "      <td>37</td>\n",
       "      <td>10000</td>\n",
       "      <td>6.29</td>\n",
       "      <td>87</td>\n",
       "      <td>7.50</td>\n",
       "      <td>[{'id': 802, 'main': 'Clouds', 'description': ...</td>\n",
       "      <td>0.46</td>\n",
       "      <td>NaN</td>\n",
       "    </tr>\n",
       "  </tbody>\n",
       "</table>\n",
       "</div>"
      ],
      "text/plain": [
       "           dt   temp  feels_like  pressure  humidity  dew_point    uvi  \\\n",
       "0  1632448800  30.24       37.24      1015        82      26.82   5.83   \n",
       "1  1632452400  30.06       37.06      1015        80      26.23   8.42   \n",
       "2  1632456000  29.94       36.93      1015        78      25.68  10.09   \n",
       "3  1632459600  29.95       36.42      1014        76      25.25   9.91   \n",
       "4  1632463200  29.94       35.63      1013        73      24.57   8.10   \n",
       "\n",
       "   clouds  visibility  wind_speed  wind_deg  wind_gust  \\\n",
       "0      44       10000        6.72        88       8.38   \n",
       "1      44       10000        6.67        89       8.09   \n",
       "2      43       10000        6.81        89       7.91   \n",
       "3      40       10000        6.57        88       7.61   \n",
       "4      37       10000        6.29        87       7.50   \n",
       "\n",
       "                                             weather   pop rain  \n",
       "0  [{'id': 802, 'main': 'Clouds', 'description': ...  0.62  NaN  \n",
       "1  [{'id': 802, 'main': 'Clouds', 'description': ...  0.57  NaN  \n",
       "2  [{'id': 802, 'main': 'Clouds', 'description': ...  0.49  NaN  \n",
       "3  [{'id': 802, 'main': 'Clouds', 'description': ...  0.46  NaN  \n",
       "4  [{'id': 802, 'main': 'Clouds', 'description': ...  0.46  NaN  "
      ]
     },
     "execution_count": 10,
     "metadata": {},
     "output_type": "execute_result"
    }
   ],
   "source": [
    "df_hourly.head()"
   ]
  },
  {
   "cell_type": "code",
   "execution_count": null,
   "metadata": {},
   "outputs": [],
   "source": []
  }
 ],
 "metadata": {
  "interpreter": {
   "hash": "c1b4cfe941b6d2466ad1fb5979e97da9cda8801728c8091b097ab734208fc00c"
  },
  "kernelspec": {
   "display_name": "Python 3.8.3 64-bit ('base': conda)",
   "name": "python3"
  },
  "language_info": {
   "codemirror_mode": {
    "name": "ipython",
    "version": 3
   },
   "file_extension": ".py",
   "mimetype": "text/x-python",
   "name": "python",
   "nbconvert_exporter": "python",
   "pygments_lexer": "ipython3",
   "version": "3.8.12"
  }
 },
 "nbformat": 4,
 "nbformat_minor": 2
}
