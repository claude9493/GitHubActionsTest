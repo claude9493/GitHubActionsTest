{
 "cells": [
  {
   "cell_type": "code",
   "execution_count": 1,
   "metadata": {
    "execution": {
     "iopub.execute_input": "2021-10-18T05:10:39.741770Z",
     "iopub.status.busy": "2021-10-18T05:10:39.741240Z",
     "iopub.status.idle": "2021-10-18T05:10:41.740848Z",
     "shell.execute_reply": "2021-10-18T05:10:41.740238Z"
    }
   },
   "outputs": [],
   "source": [
    "import json, yaml, requests\r\n",
    "from datetime import datetime\r\n",
    "from dateutil import tz\r\n",
    "import pandas as pd\r\n",
    "from PIL import Image\r\n",
    "from io import BytesIO\r\n",
    "import matplotlib.pyplot as plt\r\n",
    "import seaborn\r\n",
    "\r\n",
    "CONFIG_PATH = \"../config/config.yaml\""
   ]
  },
  {
   "cell_type": "code",
   "execution_count": 2,
   "metadata": {
    "execution": {
     "iopub.execute_input": "2021-10-18T05:10:41.748175Z",
     "iopub.status.busy": "2021-10-18T05:10:41.745166Z",
     "iopub.status.idle": "2021-10-18T05:10:41.750667Z",
     "shell.execute_reply": "2021-10-18T05:10:41.750291Z"
    }
   },
   "outputs": [],
   "source": [
    "with open('../newest_ts', 'r') as f:\r\n",
    "    newest_ts = f.read()\r\n",
    "\r\n",
    "data_path = f\"../data/data_{newest_ts}.json\"\r\n",
    "with open(data_path, 'r') as f:\r\n",
    "    data = json.load(f)\r\n",
    "\r\n",
    "with open(CONFIG_PATH, \"r\") as stream:\r\n",
    "    config = yaml.safe_load(stream)\r\n",
    "\r\n",
    "TIME_ZONE = config['time_zone']\r\n",
    "DATETIME_FORMAT = config['dt_format']"
   ]
  },
  {
   "cell_type": "code",
   "execution_count": 3,
   "metadata": {
    "execution": {
     "iopub.execute_input": "2021-10-18T05:10:41.754909Z",
     "iopub.status.busy": "2021-10-18T05:10:41.754405Z",
     "iopub.status.idle": "2021-10-18T05:10:41.760351Z",
     "shell.execute_reply": "2021-10-18T05:10:41.760725Z"
    }
   },
   "outputs": [
    {
     "name": "stdout",
     "output_type": "stream",
     "text": [
      "Recent query happens at 2021-10-18 13:10:36 (CST).\n"
     ]
    }
   ],
   "source": [
    "def ts2dt(ts, format=DATETIME_FORMAT):\r\n",
    "    dt = (datetime.utcfromtimestamp(int(ts))\r\n",
    "                    .replace(tzinfo=tz.tzutc())\r\n",
    "                    # .astimezone(tz.tzlocal())\r\n",
    "                    .astimezone(tz.gettz(TIME_ZONE)))\r\n",
    "    return dt.strftime(format), dt\r\n",
    "\r\n",
    "_, newest_dt = ts2dt(newest_ts)\r\n",
    "print(f\"Recent query happens at {newest_dt.strftime(DATETIME_FORMAT)} ({newest_dt.tzname()}).\")"
   ]
  },
  {
   "cell_type": "code",
   "execution_count": 4,
   "metadata": {
    "execution": {
     "iopub.execute_input": "2021-10-18T05:10:41.765562Z",
     "iopub.status.busy": "2021-10-18T05:10:41.764410Z",
     "iopub.status.idle": "2021-10-18T05:10:41.766085Z",
     "shell.execute_reply": "2021-10-18T05:10:41.766449Z"
    }
   },
   "outputs": [],
   "source": [
    "def degrees_to_cardinal(d):\r\n",
    "  dirs = ['N', 'NNE', 'NE', 'ENE', 'E', 'ESE', 'SE', 'SSE', 'S', 'SSW', 'SW', 'WSW', 'W', 'WNW', 'NW', 'NNW']\r\n",
    "  ix = int(round(d / (360. / len(dirs))))\r\n",
    "  return dirs[ix % len(dirs)]"
   ]
  },
  {
   "cell_type": "code",
   "execution_count": 5,
   "metadata": {
    "execution": {
     "iopub.execute_input": "2021-10-18T05:10:41.770236Z",
     "iopub.status.busy": "2021-10-18T05:10:41.769249Z",
     "iopub.status.idle": "2021-10-18T05:10:41.770761Z",
     "shell.execute_reply": "2021-10-18T05:10:41.771151Z"
    }
   },
   "outputs": [],
   "source": [
    "# data.keys()"
   ]
  },
  {
   "cell_type": "code",
   "execution_count": 6,
   "metadata": {
    "execution": {
     "iopub.execute_input": "2021-10-18T05:10:41.774796Z",
     "iopub.status.busy": "2021-10-18T05:10:41.773675Z",
     "iopub.status.idle": "2021-10-18T05:10:41.775340Z",
     "shell.execute_reply": "2021-10-18T05:10:41.775703Z"
    }
   },
   "outputs": [],
   "source": [
    "# data['current']"
   ]
  },
  {
   "cell_type": "code",
   "execution_count": 7,
   "metadata": {
    "execution": {
     "iopub.execute_input": "2021-10-18T05:10:41.792234Z",
     "iopub.status.busy": "2021-10-18T05:10:41.791753Z",
     "iopub.status.idle": "2021-10-18T05:10:42.180320Z",
     "shell.execute_reply": "2021-10-18T05:10:42.180934Z"
    }
   },
   "outputs": [
    {
     "data": {
      "image/png": "[encoded data removed]",
      "text/plain": [
       "<Figure size 216x216 with 1 Axes>"
      ]
     },
     "metadata": {
      "needs_background": "light"
     },
     "output_type": "display_data"
    },
    {
     "name": "stdout",
     "output_type": "stream",
     "text": [
      "Today, sun rises at 06:20 and sets at 17:55.\n",
      "Currently, the weather is Clouds (broken clouds).\n",
      "The temperature is 25.28°C and it feels like 25.48°C.\n",
      "The UV index is 8.33, humidity is 62%.\n",
      "The pressure is 1018 hPa, percentage of cloud cover is 64%\n",
      "The wind comes from NNW direction with a speed 3.58 m/s.\n"
     ]
    }
   ],
   "source": [
    "current = data['current']\r\n",
    "\r\n",
    "fig, ax = plt.subplots(figsize=(3, 3))\r\n",
    "icon = requests.get(f\"http://openweathermap.org/img/wn/{current['weather'][0]['icon']}@2x.png\")\r\n",
    "im = Image.open(BytesIO(icon.content))\r\n",
    "plt.imshow(im)\r\n",
    "ax.set_axis_off()\r\n",
    "plt.show()\r\n",
    "\r\n",
    "print(f\"Today, sun rises at {ts2dt(current['sunrise'], '%H:%M')[0]} \\\r\n",
    "and sets at {ts2dt(current['sunset'], '%H:%M')[0]}.\\n\\\r\n",
    "Currently, the weather is {current['weather'][0]['main']} ({current['weather'][0]['description']}).\\n\\\r\n",
    "The temperature is {current['temp']}°C and it feels like {current['feels_like']}°C.\\n\\\r\n",
    "The UV index is {current['uvi']}, humidity is {current['humidity']}%.\\n\\\r\n",
    "The pressure is {current['pressure']} hPa, percentage of cloud cover is {current['clouds']}%\\n\\\r\n",
    "The wind comes from {degrees_to_cardinal(current['wind_deg'])} direction with a speed {current['wind_speed']} m/s.\")"
   ]
  },
  {
   "cell_type": "code",
   "execution_count": 8,
   "metadata": {
    "execution": {
     "iopub.execute_input": "2021-10-18T05:10:42.186735Z",
     "iopub.status.busy": "2021-10-18T05:10:42.183305Z",
     "iopub.status.idle": "2021-10-18T05:10:42.190548Z",
     "shell.execute_reply": "2021-10-18T05:10:42.191189Z"
    }
   },
   "outputs": [],
   "source": [
    "df_hourly = pd.DataFrame(data['hourly'])\r\n",
    "df_daily = pd.DataFrame(data['daily'])"
   ]
  },
  {
   "cell_type": "code",
   "execution_count": 9,
   "metadata": {
    "execution": {
     "iopub.execute_input": "2021-10-18T05:10:42.208707Z",
     "iopub.status.busy": "2021-10-18T05:10:42.206536Z",
     "iopub.status.idle": "2021-10-18T05:10:42.450627Z",
     "shell.execute_reply": "2021-10-18T05:10:42.450153Z"
    }
   },
   "outputs": [
    {
     "data": {
      "image/png": "[encoded data removed]",
      "text/plain": [
       "<Figure size 864x432 with 1 Axes>"
      ]
     },
     "metadata": {
      "needs_background": "light"
     },
     "output_type": "display_data"
    }
   ],
   "source": [
    "fig, ax = plt.subplots(figsize=(12, 6))\r\n",
    "plt.plot(df_hourly.temp, '.-', label='Temperature')\r\n",
    "plt.plot(df_hourly.feels_like, '.-', label='Feels Like')\r\n",
    "ax.set(title='Temperature in future 48 hours', xlabel='Time', ylabel='Temperature')\r\n",
    "ax.set_xticks(list(range(0, len(df_hourly), 2)))\r\n",
    "ax.set_xticklabels([ts2dt(ts, '%m-%d %H:%M')[0] for i, ts in enumerate(df_hourly.dt) if i%2==0], \r\n",
    "                   rotation=45, ha=\"right\")\r\n",
    "ax.locator_params(nbins=15, axis='y')\r\n",
    "plt.legend()\r\n",
    "plt.show()"
   ]
  },
  {
   "cell_type": "code",
   "execution_count": 10,
   "metadata": {
    "execution": {
     "iopub.execute_input": "2021-10-18T05:10:42.455208Z",
     "iopub.status.busy": "2021-10-18T05:10:42.454630Z",
     "iopub.status.idle": "2021-10-18T05:10:42.471298Z",
     "shell.execute_reply": "2021-10-18T05:10:42.471712Z"
    }
   },
   "outputs": [
    {
     "data": {
      "text/html": [
       "<div>\n",
       "<style scoped>\n",
       "    .dataframe tbody tr th:only-of-type {\n",
       "        vertical-align: middle;\n",
       "    }\n",
       "\n",
       "    .dataframe tbody tr th {\n",
       "        vertical-align: top;\n",
       "    }\n",
       "\n",
       "    .dataframe thead th {\n",
       "        text-align: right;\n",
       "    }\n",
       "</style>\n",
       "<table border=\"1\" class=\"dataframe\">\n",
       "  <thead>\n",
       "    <tr style=\"text-align: right;\">\n",
       "      <th></th>\n",
       "      <th>dt</th>\n",
       "      <th>temp</th>\n",
       "      <th>feels_like</th>\n",
       "      <th>pressure</th>\n",
       "      <th>humidity</th>\n",
       "      <th>dew_point</th>\n",
       "      <th>uvi</th>\n",
       "      <th>clouds</th>\n",
       "      <th>visibility</th>\n",
       "      <th>wind_speed</th>\n",
       "      <th>wind_deg</th>\n",
       "      <th>wind_gust</th>\n",
       "      <th>weather</th>\n",
       "      <th>pop</th>\n",
       "      <th>rain</th>\n",
       "    </tr>\n",
       "  </thead>\n",
       "  <tbody>\n",
       "    <tr>\n",
       "      <th>0</th>\n",
       "      <td>1634533200</td>\n",
       "      <td>25.28</td>\n",
       "      <td>25.48</td>\n",
       "      <td>1018</td>\n",
       "      <td>62</td>\n",
       "      <td>17.48</td>\n",
       "      <td>8.33</td>\n",
       "      <td>64</td>\n",
       "      <td>10000</td>\n",
       "      <td>2.45</td>\n",
       "      <td>73</td>\n",
       "      <td>2.78</td>\n",
       "      <td>[{'id': 803, 'main': 'Clouds', 'description': ...</td>\n",
       "      <td>0.0</td>\n",
       "      <td>NaN</td>\n",
       "    </tr>\n",
       "    <tr>\n",
       "      <th>1</th>\n",
       "      <td>1634536800</td>\n",
       "      <td>25.03</td>\n",
       "      <td>25.23</td>\n",
       "      <td>1018</td>\n",
       "      <td>63</td>\n",
       "      <td>17.50</td>\n",
       "      <td>6.71</td>\n",
       "      <td>62</td>\n",
       "      <td>10000</td>\n",
       "      <td>2.99</td>\n",
       "      <td>84</td>\n",
       "      <td>3.05</td>\n",
       "      <td>[{'id': 803, 'main': 'Clouds', 'description': ...</td>\n",
       "      <td>0.0</td>\n",
       "      <td>NaN</td>\n",
       "    </tr>\n",
       "    <tr>\n",
       "      <th>2</th>\n",
       "      <td>1634540400</td>\n",
       "      <td>24.80</td>\n",
       "      <td>25.01</td>\n",
       "      <td>1017</td>\n",
       "      <td>64</td>\n",
       "      <td>17.53</td>\n",
       "      <td>4.29</td>\n",
       "      <td>48</td>\n",
       "      <td>10000</td>\n",
       "      <td>3.50</td>\n",
       "      <td>90</td>\n",
       "      <td>3.50</td>\n",
       "      <td>[{'id': 802, 'main': 'Clouds', 'description': ...</td>\n",
       "      <td>0.0</td>\n",
       "      <td>NaN</td>\n",
       "    </tr>\n",
       "    <tr>\n",
       "      <th>3</th>\n",
       "      <td>1634544000</td>\n",
       "      <td>24.56</td>\n",
       "      <td>24.77</td>\n",
       "      <td>1017</td>\n",
       "      <td>65</td>\n",
       "      <td>17.55</td>\n",
       "      <td>2.00</td>\n",
       "      <td>35</td>\n",
       "      <td>10000</td>\n",
       "      <td>3.97</td>\n",
       "      <td>89</td>\n",
       "      <td>3.93</td>\n",
       "      <td>[{'id': 802, 'main': 'Clouds', 'description': ...</td>\n",
       "      <td>0.0</td>\n",
       "      <td>NaN</td>\n",
       "    </tr>\n",
       "    <tr>\n",
       "      <th>4</th>\n",
       "      <td>1634547600</td>\n",
       "      <td>24.13</td>\n",
       "      <td>24.40</td>\n",
       "      <td>1017</td>\n",
       "      <td>69</td>\n",
       "      <td>18.09</td>\n",
       "      <td>0.55</td>\n",
       "      <td>23</td>\n",
       "      <td>10000</td>\n",
       "      <td>4.00</td>\n",
       "      <td>87</td>\n",
       "      <td>4.04</td>\n",
       "      <td>[{'id': 801, 'main': 'Clouds', 'description': ...</td>\n",
       "      <td>0.0</td>\n",
       "      <td>NaN</td>\n",
       "    </tr>\n",
       "  </tbody>\n",
       "</table>\n",
       "</div>"
      ],
      "text/plain": [
       "           dt   temp  feels_like  pressure  humidity  dew_point   uvi  clouds  \\\n",
       "0  1634533200  25.28       25.48      1018        62      17.48  8.33      64   \n",
       "1  1634536800  25.03       25.23      1018        63      17.50  6.71      62   \n",
       "2  1634540400  24.80       25.01      1017        64      17.53  4.29      48   \n",
       "3  1634544000  24.56       24.77      1017        65      17.55  2.00      35   \n",
       "4  1634547600  24.13       24.40      1017        69      18.09  0.55      23   \n",
       "\n",
       "   visibility  wind_speed  wind_deg  wind_gust  \\\n",
       "0       10000        2.45        73       2.78   \n",
       "1       10000        2.99        84       3.05   \n",
       "2       10000        3.50        90       3.50   \n",
       "3       10000        3.97        89       3.93   \n",
       "4       10000        4.00        87       4.04   \n",
       "\n",
       "                                             weather  pop rain  \n",
       "0  [{'id': 803, 'main': 'Clouds', 'description': ...  0.0  NaN  \n",
       "1  [{'id': 803, 'main': 'Clouds', 'description': ...  0.0  NaN  \n",
       "2  [{'id': 802, 'main': 'Clouds', 'description': ...  0.0  NaN  \n",
       "3  [{'id': 802, 'main': 'Clouds', 'description': ...  0.0  NaN  \n",
       "4  [{'id': 801, 'main': 'Clouds', 'description': ...  0.0  NaN  "
      ]
     },
     "execution_count": 10,
     "metadata": {},
     "output_type": "execute_result"
    }
   ],
   "source": [
    "df_hourly.head()"
   ]
  },
  {
   "cell_type": "code",
   "execution_count": null,
   "metadata": {},
   "outputs": [],
   "source": []
  }
 ],
 "metadata": {
  "interpreter": {
   "hash": "c1b4cfe941b6d2466ad1fb5979e97da9cda8801728c8091b097ab734208fc00c"
  },
  "kernelspec": {
   "display_name": "Python 3.8.3 64-bit ('base': conda)",
   "name": "python3"
  },
  "language_info": {
   "codemirror_mode": {
    "name": "ipython",
    "version": 3
   },
   "file_extension": ".py",
   "mimetype": "text/x-python",
   "name": "python",
   "nbconvert_exporter": "python",
   "pygments_lexer": "ipython3",
   "version": "3.8.12"
  }
 },
 "nbformat": 4,
 "nbformat_minor": 2
}
