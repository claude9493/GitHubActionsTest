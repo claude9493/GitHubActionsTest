{
 "cells": [
  {
   "cell_type": "code",
   "execution_count": 1,
   "metadata": {
    "execution": {
     "iopub.execute_input": "2021-08-22T18:01:58.190985Z",
     "iopub.status.busy": "2021-08-22T18:01:58.190257Z",
     "iopub.status.idle": "2021-08-22T18:01:59.723742Z",
     "shell.execute_reply": "2021-08-22T18:01:59.724214Z"
    }
   },
   "outputs": [],
   "source": [
    "import json\r\n",
    "from datetime import datetime\r\n",
    "from dateutil import tz\r\n",
    "import pandas as pd\r\n",
    "import matplotlib.pyplot as plt\r\n",
    "import seaborn\r\n"
   ]
  },
  {
   "cell_type": "code",
   "execution_count": 2,
   "metadata": {
    "execution": {
     "iopub.execute_input": "2021-08-22T18:01:59.730306Z",
     "iopub.status.busy": "2021-08-22T18:01:59.729045Z",
     "iopub.status.idle": "2021-08-22T18:01:59.733324Z",
     "shell.execute_reply": "2021-08-22T18:01:59.732775Z"
    }
   },
   "outputs": [],
   "source": [
    "with open('../newest_ts', 'r') as f:\r\n",
    "    ts = f.read()\r\n",
    "\r\n",
    "data_path = f\"../data/data_{ts}.json\"\r\n",
    "with open(data_path, 'r') as f:\r\n",
    "    data = json.load(f)"
   ]
  },
  {
   "cell_type": "code",
   "execution_count": 3,
   "metadata": {
    "execution": {
     "iopub.execute_input": "2021-08-22T18:01:59.738888Z",
     "iopub.status.busy": "2021-08-22T18:01:59.737732Z",
     "iopub.status.idle": "2021-08-22T18:01:59.741724Z",
     "shell.execute_reply": "2021-08-22T18:01:59.742225Z"
    }
   },
   "outputs": [
    {
     "name": "stdout",
     "output_type": "stream",
     "text": [
      "Recent query happens at 2021-08-22 18:01:54\n"
     ]
    }
   ],
   "source": [
    "def ts2dt(ts, format='%Y-%m-%d %H:%M:%S'):\r\n",
    "    return (datetime.utcfromtimestamp(int(ts))\r\n",
    "                    .replace(tzinfo=tz.tzutc())\r\n",
    "                    .astimezone(tz.tzlocal())\r\n",
    "                    .strftime(format))\r\n",
    "\r\n",
    "print(f\"Recent query happens at {ts2dt(ts)}\")"
   ]
  },
  {
   "cell_type": "code",
   "execution_count": 4,
   "metadata": {
    "execution": {
     "iopub.execute_input": "2021-08-22T18:01:59.751357Z",
     "iopub.status.busy": "2021-08-22T18:01:59.750183Z",
     "iopub.status.idle": "2021-08-22T18:01:59.753884Z",
     "shell.execute_reply": "2021-08-22T18:01:59.754434Z"
    }
   },
   "outputs": [
    {
     "data": {
      "text/plain": [
       "dict_keys(['lat', 'lon', 'timezone', 'timezone_offset', 'current', 'hourly', 'daily'])"
      ]
     },
     "execution_count": 4,
     "metadata": {},
     "output_type": "execute_result"
    }
   ],
   "source": [
    "data.keys()"
   ]
  },
  {
   "cell_type": "code",
   "execution_count": 5,
   "metadata": {
    "execution": {
     "iopub.execute_input": "2021-08-22T18:01:59.762371Z",
     "iopub.status.busy": "2021-08-22T18:01:59.760986Z",
     "iopub.status.idle": "2021-08-22T18:01:59.764466Z",
     "shell.execute_reply": "2021-08-22T18:01:59.763889Z"
    }
   },
   "outputs": [
    {
     "data": {
      "text/plain": [
       "{'dt': 1629655314,\n",
       " 'sunrise': 1629669780,\n",
       " 'sunset': 1629715720,\n",
       " 'temp': 29.71,\n",
       " 'feels_like': 36.71,\n",
       " 'pressure': 1007,\n",
       " 'humidity': 82,\n",
       " 'dew_point': 26.3,\n",
       " 'uvi': 0,\n",
       " 'clouds': 68,\n",
       " 'visibility': 10000,\n",
       " 'wind_speed': 3.61,\n",
       " 'wind_deg': 217,\n",
       " 'wind_gust': 5.02,\n",
       " 'weather': [{'id': 803,\n",
       "   'main': 'Clouds',\n",
       "   'description': 'broken clouds',\n",
       "   'icon': '04n'}]}"
      ]
     },
     "execution_count": 5,
     "metadata": {},
     "output_type": "execute_result"
    }
   ],
   "source": [
    "data['current']"
   ]
  },
  {
   "cell_type": "code",
   "execution_count": 6,
   "metadata": {
    "execution": {
     "iopub.execute_input": "2021-08-22T18:01:59.771069Z",
     "iopub.status.busy": "2021-08-22T18:01:59.770481Z",
     "iopub.status.idle": "2021-08-22T18:01:59.773242Z",
     "shell.execute_reply": "2021-08-22T18:01:59.773750Z"
    }
   },
   "outputs": [
    {
     "data": {
      "text/plain": [
       "{'dt': 1629655200,\n",
       " 'temp': 29.71,\n",
       " 'feels_like': 36.71,\n",
       " 'pressure': 1007,\n",
       " 'humidity': 82,\n",
       " 'dew_point': 26.3,\n",
       " 'uvi': 0,\n",
       " 'clouds': 68,\n",
       " 'visibility': 10000,\n",
       " 'wind_speed': 3.61,\n",
       " 'wind_deg': 217,\n",
       " 'wind_gust': 5.02,\n",
       " 'weather': [{'id': 803,\n",
       "   'main': 'Clouds',\n",
       "   'description': 'broken clouds',\n",
       "   'icon': '04n'}],\n",
       " 'pop': 0.09}"
      ]
     },
     "execution_count": 6,
     "metadata": {},
     "output_type": "execute_result"
    }
   ],
   "source": [
    "data['hourly'][0]"
   ]
  },
  {
   "cell_type": "code",
   "execution_count": 7,
   "metadata": {
    "execution": {
     "iopub.execute_input": "2021-08-22T18:01:59.784577Z",
     "iopub.status.busy": "2021-08-22T18:01:59.783107Z",
     "iopub.status.idle": "2021-08-22T18:01:59.785251Z",
     "shell.execute_reply": "2021-08-22T18:01:59.785781Z"
    }
   },
   "outputs": [],
   "source": [
    "df_hourly = pd.DataFrame(data['hourly'])\r\n",
    "df_daily = pd.DataFrame(data['daily'])"
   ]
  },
  {
   "cell_type": "code",
   "execution_count": 8,
   "metadata": {
    "execution": {
     "iopub.execute_input": "2021-08-22T18:01:59.791023Z",
     "iopub.status.busy": "2021-08-22T18:01:59.790431Z",
     "iopub.status.idle": "2021-08-22T18:01:59.813279Z",
     "shell.execute_reply": "2021-08-22T18:01:59.812475Z"
    }
   },
   "outputs": [
    {
     "data": {
      "text/html": [
       "<div>\n",
       "<style scoped>\n",
       "    .dataframe tbody tr th:only-of-type {\n",
       "        vertical-align: middle;\n",
       "    }\n",
       "\n",
       "    .dataframe tbody tr th {\n",
       "        vertical-align: top;\n",
       "    }\n",
       "\n",
       "    .dataframe thead th {\n",
       "        text-align: right;\n",
       "    }\n",
       "</style>\n",
       "<table border=\"1\" class=\"dataframe\">\n",
       "  <thead>\n",
       "    <tr style=\"text-align: right;\">\n",
       "      <th></th>\n",
       "      <th>dt</th>\n",
       "      <th>temp</th>\n",
       "      <th>feels_like</th>\n",
       "      <th>pressure</th>\n",
       "      <th>humidity</th>\n",
       "      <th>dew_point</th>\n",
       "      <th>uvi</th>\n",
       "      <th>clouds</th>\n",
       "      <th>visibility</th>\n",
       "      <th>wind_speed</th>\n",
       "      <th>wind_deg</th>\n",
       "      <th>wind_gust</th>\n",
       "      <th>weather</th>\n",
       "      <th>pop</th>\n",
       "      <th>rain</th>\n",
       "    </tr>\n",
       "  </thead>\n",
       "  <tbody>\n",
       "    <tr>\n",
       "      <th>0</th>\n",
       "      <td>1629655200</td>\n",
       "      <td>29.71</td>\n",
       "      <td>36.71</td>\n",
       "      <td>1007</td>\n",
       "      <td>82</td>\n",
       "      <td>26.30</td>\n",
       "      <td>0.0</td>\n",
       "      <td>68</td>\n",
       "      <td>10000</td>\n",
       "      <td>3.61</td>\n",
       "      <td>217</td>\n",
       "      <td>5.02</td>\n",
       "      <td>[{'id': 803, 'main': 'Clouds', 'description': ...</td>\n",
       "      <td>0.09</td>\n",
       "      <td>NaN</td>\n",
       "    </tr>\n",
       "    <tr>\n",
       "      <th>1</th>\n",
       "      <td>1629658800</td>\n",
       "      <td>29.28</td>\n",
       "      <td>36.25</td>\n",
       "      <td>1007</td>\n",
       "      <td>83</td>\n",
       "      <td>26.09</td>\n",
       "      <td>0.0</td>\n",
       "      <td>74</td>\n",
       "      <td>10000</td>\n",
       "      <td>3.47</td>\n",
       "      <td>217</td>\n",
       "      <td>4.77</td>\n",
       "      <td>[{'id': 803, 'main': 'Clouds', 'description': ...</td>\n",
       "      <td>0.61</td>\n",
       "      <td>NaN</td>\n",
       "    </tr>\n",
       "    <tr>\n",
       "      <th>2</th>\n",
       "      <td>1629662400</td>\n",
       "      <td>28.89</td>\n",
       "      <td>35.08</td>\n",
       "      <td>1007</td>\n",
       "      <td>83</td>\n",
       "      <td>25.71</td>\n",
       "      <td>0.0</td>\n",
       "      <td>76</td>\n",
       "      <td>10000</td>\n",
       "      <td>3.49</td>\n",
       "      <td>221</td>\n",
       "      <td>4.79</td>\n",
       "      <td>[{'id': 803, 'main': 'Clouds', 'description': ...</td>\n",
       "      <td>0.65</td>\n",
       "      <td>NaN</td>\n",
       "    </tr>\n",
       "    <tr>\n",
       "      <th>3</th>\n",
       "      <td>1629666000</td>\n",
       "      <td>28.41</td>\n",
       "      <td>33.89</td>\n",
       "      <td>1007</td>\n",
       "      <td>84</td>\n",
       "      <td>25.44</td>\n",
       "      <td>0.0</td>\n",
       "      <td>82</td>\n",
       "      <td>10000</td>\n",
       "      <td>2.77</td>\n",
       "      <td>220</td>\n",
       "      <td>3.90</td>\n",
       "      <td>[{'id': 500, 'main': 'Rain', 'description': 'l...</td>\n",
       "      <td>0.72</td>\n",
       "      <td>{'1h': 0.4}</td>\n",
       "    </tr>\n",
       "    <tr>\n",
       "      <th>4</th>\n",
       "      <td>1629669600</td>\n",
       "      <td>28.05</td>\n",
       "      <td>32.87</td>\n",
       "      <td>1007</td>\n",
       "      <td>84</td>\n",
       "      <td>25.09</td>\n",
       "      <td>0.0</td>\n",
       "      <td>76</td>\n",
       "      <td>10000</td>\n",
       "      <td>3.63</td>\n",
       "      <td>218</td>\n",
       "      <td>4.70</td>\n",
       "      <td>[{'id': 500, 'main': 'Rain', 'description': 'l...</td>\n",
       "      <td>0.67</td>\n",
       "      <td>{'1h': 0.12}</td>\n",
       "    </tr>\n",
       "  </tbody>\n",
       "</table>\n",
       "</div>"
      ],
      "text/plain": [
       "           dt   temp  feels_like  pressure  humidity  dew_point  uvi  clouds  \\\n",
       "0  1629655200  29.71       36.71      1007        82      26.30  0.0      68   \n",
       "1  1629658800  29.28       36.25      1007        83      26.09  0.0      74   \n",
       "2  1629662400  28.89       35.08      1007        83      25.71  0.0      76   \n",
       "3  1629666000  28.41       33.89      1007        84      25.44  0.0      82   \n",
       "4  1629669600  28.05       32.87      1007        84      25.09  0.0      76   \n",
       "\n",
       "   visibility  wind_speed  wind_deg  wind_gust  \\\n",
       "0       10000        3.61       217       5.02   \n",
       "1       10000        3.47       217       4.77   \n",
       "2       10000        3.49       221       4.79   \n",
       "3       10000        2.77       220       3.90   \n",
       "4       10000        3.63       218       4.70   \n",
       "\n",
       "                                             weather   pop          rain  \n",
       "0  [{'id': 803, 'main': 'Clouds', 'description': ...  0.09           NaN  \n",
       "1  [{'id': 803, 'main': 'Clouds', 'description': ...  0.61           NaN  \n",
       "2  [{'id': 803, 'main': 'Clouds', 'description': ...  0.65           NaN  \n",
       "3  [{'id': 500, 'main': 'Rain', 'description': 'l...  0.72   {'1h': 0.4}  \n",
       "4  [{'id': 500, 'main': 'Rain', 'description': 'l...  0.67  {'1h': 0.12}  "
      ]
     },
     "execution_count": 8,
     "metadata": {},
     "output_type": "execute_result"
    }
   ],
   "source": [
    "df_hourly.head()"
   ]
  },
  {
   "cell_type": "code",
   "execution_count": 9,
   "metadata": {
    "execution": {
     "iopub.execute_input": "2021-08-22T18:01:59.835093Z",
     "iopub.status.busy": "2021-08-22T18:01:59.834531Z",
     "iopub.status.idle": "2021-08-22T18:02:00.179219Z",
     "shell.execute_reply": "2021-08-22T18:02:00.180185Z"
    }
   },
   "outputs": [
    {
     "data": {
      "image/png": "[encoded data removed]",
      "text/plain": [
       "<Figure size 864x432 with 1 Axes>"
      ]
     },
     "metadata": {
      "needs_background": "light"
     },
     "output_type": "display_data"
    }
   ],
   "source": [
    "fig, ax = plt.subplots(figsize=(12, 6))\r\n",
    "plt.plot(df_hourly.temp, '.-')\r\n",
    "ax.set(title='Temperature in future 48 hours', xlabel='Time', ylabel='Temperature')\r\n",
    "ax.set_xticks(list(range(0, len(df_hourly), 2)))\r\n",
    "ax.set_xticklabels([ts2dt(ts, '%m-%d %H:%M') for i, ts in enumerate(df_hourly.dt) if i%2==0], \r\n",
    "                   rotation=45, ha=\"right\")\r\n",
    "plt.show()"
   ]
  },
  {
   "cell_type": "code",
   "execution_count": null,
   "metadata": {},
   "outputs": [],
   "source": []
  }
 ],
 "metadata": {
  "interpreter": {
   "hash": "c1b4cfe941b6d2466ad1fb5979e97da9cda8801728c8091b097ab734208fc00c"
  },
  "kernelspec": {
   "display_name": "Python 3.8.3 64-bit ('base': conda)",
   "name": "python3"
  },
  "language_info": {
   "codemirror_mode": {
    "name": "ipython",
    "version": 3
   },
   "file_extension": ".py",
   "mimetype": "text/x-python",
   "name": "python",
   "nbconvert_exporter": "python",
   "pygments_lexer": "ipython3",
   "version": "3.8.11"
  }
 },
 "nbformat": 4,
 "nbformat_minor": 2
}
