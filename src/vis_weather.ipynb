{
 "cells": [
  {
   "cell_type": "code",
   "execution_count": 1,
   "metadata": {
    "execution": {
     "iopub.execute_input": "2021-09-06T09:15:28.209522Z",
     "iopub.status.busy": "2021-09-06T09:15:28.208834Z",
     "iopub.status.idle": "2021-09-06T09:15:30.082386Z",
     "shell.execute_reply": "2021-09-06T09:15:30.082882Z"
    }
   },
   "outputs": [],
   "source": [
    "import json, yaml, requests\r\n",
    "from datetime import datetime\r\n",
    "from dateutil import tz\r\n",
    "import pandas as pd\r\n",
    "from PIL import Image\r\n",
    "from io import BytesIO\r\n",
    "import matplotlib.pyplot as plt\r\n",
    "import seaborn\r\n",
    "\r\n",
    "CONFIG_PATH = \"../config/config.yaml\""
   ]
  },
  {
   "cell_type": "code",
   "execution_count": 2,
   "metadata": {
    "execution": {
     "iopub.execute_input": "2021-09-06T09:15:30.092001Z",
     "iopub.status.busy": "2021-09-06T09:15:30.088484Z",
     "iopub.status.idle": "2021-09-06T09:15:30.094667Z",
     "shell.execute_reply": "2021-09-06T09:15:30.095137Z"
    }
   },
   "outputs": [],
   "source": [
    "with open('../newest_ts', 'r') as f:\r\n",
    "    newest_ts = f.read()\r\n",
    "\r\n",
    "data_path = f\"../data/data_{newest_ts}.json\"\r\n",
    "with open(data_path, 'r') as f:\r\n",
    "    data = json.load(f)\r\n",
    "\r\n",
    "with open(CONFIG_PATH, \"r\") as stream:\r\n",
    "    config = yaml.safe_load(stream)\r\n",
    "\r\n",
    "TIME_ZONE = config['time_zone']\r\n",
    "DATETIME_FORMAT = config['dt_format']"
   ]
  },
  {
   "cell_type": "code",
   "execution_count": 3,
   "metadata": {
    "execution": {
     "iopub.execute_input": "2021-09-06T09:15:30.100666Z",
     "iopub.status.busy": "2021-09-06T09:15:30.099751Z",
     "iopub.status.idle": "2021-09-06T09:15:30.104780Z",
     "shell.execute_reply": "2021-09-06T09:15:30.105303Z"
    }
   },
   "outputs": [
    {
     "name": "stdout",
     "output_type": "stream",
     "text": [
      "Recent query happens at 2021-09-06 17:15:24 (CST).\n"
     ]
    }
   ],
   "source": [
    "def ts2dt(ts, format=DATETIME_FORMAT):\r\n",
    "    dt = (datetime.utcfromtimestamp(int(ts))\r\n",
    "                    .replace(tzinfo=tz.tzutc())\r\n",
    "                    # .astimezone(tz.tzlocal())\r\n",
    "                    .astimezone(tz.gettz(TIME_ZONE)))\r\n",
    "    return dt.strftime(format), dt\r\n",
    "\r\n",
    "_, newest_dt = ts2dt(newest_ts)\r\n",
    "print(f\"Recent query happens at {newest_dt.strftime(DATETIME_FORMAT)} ({newest_dt.tzname()}).\")"
   ]
  },
  {
   "cell_type": "code",
   "execution_count": 4,
   "metadata": {
    "execution": {
     "iopub.execute_input": "2021-09-06T09:15:30.111032Z",
     "iopub.status.busy": "2021-09-06T09:15:30.109696Z",
     "iopub.status.idle": "2021-09-06T09:15:30.111677Z",
     "shell.execute_reply": "2021-09-06T09:15:30.112166Z"
    }
   },
   "outputs": [],
   "source": [
    "def degrees_to_cardinal(d):\r\n",
    "  dirs = ['N', 'NNE', 'NE', 'ENE', 'E', 'ESE', 'SE', 'SSE', 'S', 'SSW', 'SW', 'WSW', 'W', 'WNW', 'NW', 'NNW']\r\n",
    "  ix = int(round(d / (360. / len(dirs))))\r\n",
    "  return dirs[ix % len(dirs)]"
   ]
  },
  {
   "cell_type": "code",
   "execution_count": 5,
   "metadata": {
    "execution": {
     "iopub.execute_input": "2021-09-06T09:15:30.117055Z",
     "iopub.status.busy": "2021-09-06T09:15:30.115750Z",
     "iopub.status.idle": "2021-09-06T09:15:30.117696Z",
     "shell.execute_reply": "2021-09-06T09:15:30.118194Z"
    }
   },
   "outputs": [],
   "source": [
    "# data.keys()"
   ]
  },
  {
   "cell_type": "code",
   "execution_count": 6,
   "metadata": {
    "execution": {
     "iopub.execute_input": "2021-09-06T09:15:30.122776Z",
     "iopub.status.busy": "2021-09-06T09:15:30.121414Z",
     "iopub.status.idle": "2021-09-06T09:15:30.123416Z",
     "shell.execute_reply": "2021-09-06T09:15:30.123904Z"
    }
   },
   "outputs": [],
   "source": [
    "# data['current']"
   ]
  },
  {
   "cell_type": "code",
   "execution_count": 7,
   "metadata": {
    "execution": {
     "iopub.execute_input": "2021-09-06T09:15:30.145058Z",
     "iopub.status.busy": "2021-09-06T09:15:30.144405Z",
     "iopub.status.idle": "2021-09-06T09:15:30.560801Z",
     "shell.execute_reply": "2021-09-06T09:15:30.561606Z"
    }
   },
   "outputs": [
    {
     "data": {
      "image/png": "[encoded data removed]",
      "text/plain": [
       "<Figure size 216x216 with 1 Axes>"
      ]
     },
     "metadata": {
      "needs_background": "light"
     },
     "output_type": "display_data"
    },
    {
     "name": "stdout",
     "output_type": "stream",
     "text": [
      "Today, sun rises at 06:07 and sets at 18:35.\n",
      "Currently, the weather is Clouds (scattered clouds).\n",
      "The temperature is 31.54°C and it feels like 38.43°C.\n",
      "The UV index is 1.11, humidity is 68%.\n",
      "The pressure is 1009 hPa, percentage of cloud cover is 40%\n",
      "The wind comes from E direction with a speed 4.24 m/s.\n"
     ]
    }
   ],
   "source": [
    "current = data['current']\r\n",
    "\r\n",
    "fig, ax = plt.subplots(figsize=(3, 3))\r\n",
    "icon = requests.get(f\"http://openweathermap.org/img/wn/{current['weather'][0]['icon']}@2x.png\")\r\n",
    "im = Image.open(BytesIO(icon.content))\r\n",
    "plt.imshow(im)\r\n",
    "ax.set_axis_off()\r\n",
    "plt.show()\r\n",
    "\r\n",
    "print(f\"Today, sun rises at {ts2dt(current['sunrise'], '%H:%M')[0]} \\\r\n",
    "and sets at {ts2dt(current['sunset'], '%H:%M')[0]}.\\n\\\r\n",
    "Currently, the weather is {current['weather'][0]['main']} ({current['weather'][0]['description']}).\\n\\\r\n",
    "The temperature is {current['temp']}°C and it feels like {current['feels_like']}°C.\\n\\\r\n",
    "The UV index is {current['uvi']}, humidity is {current['humidity']}%.\\n\\\r\n",
    "The pressure is {current['pressure']} hPa, percentage of cloud cover is {current['clouds']}%\\n\\\r\n",
    "The wind comes from {degrees_to_cardinal(current['wind_deg'])} direction with a speed {current['wind_speed']} m/s.\")"
   ]
  },
  {
   "cell_type": "code",
   "execution_count": 8,
   "metadata": {
    "execution": {
     "iopub.execute_input": "2021-09-06T09:15:30.565313Z",
     "iopub.status.busy": "2021-09-06T09:15:30.564194Z",
     "iopub.status.idle": "2021-09-06T09:15:30.572750Z",
     "shell.execute_reply": "2021-09-06T09:15:30.573973Z"
    }
   },
   "outputs": [],
   "source": [
    "df_hourly = pd.DataFrame(data['hourly'])\r\n",
    "df_daily = pd.DataFrame(data['daily'])"
   ]
  },
  {
   "cell_type": "code",
   "execution_count": 9,
   "metadata": {
    "execution": {
     "iopub.execute_input": "2021-09-06T09:15:30.579592Z",
     "iopub.status.busy": "2021-09-06T09:15:30.576441Z",
     "iopub.status.idle": "2021-09-06T09:15:30.902388Z",
     "shell.execute_reply": "2021-09-06T09:15:30.901837Z"
    }
   },
   "outputs": [
    {
     "data": {
      "image/png": "[encoded data removed]",
      "text/plain": [
       "<Figure size 864x432 with 1 Axes>"
      ]
     },
     "metadata": {
      "needs_background": "light"
     },
     "output_type": "display_data"
    }
   ],
   "source": [
    "fig, ax = plt.subplots(figsize=(12, 6))\r\n",
    "plt.plot(df_hourly.temp, '.-', label='Temperature')\r\n",
    "plt.plot(df_hourly.feels_like, '.-', label='Feels Like')\r\n",
    "ax.set(title='Temperature in future 48 hours', xlabel='Time', ylabel='Temperature')\r\n",
    "ax.set_xticks(list(range(0, len(df_hourly), 2)))\r\n",
    "ax.set_xticklabels([ts2dt(ts, '%m-%d %H:%M')[0] for i, ts in enumerate(df_hourly.dt) if i%2==0], \r\n",
    "                   rotation=45, ha=\"right\")\r\n",
    "ax.locator_params(nbins=15, axis='y')\r\n",
    "plt.legend()\r\n",
    "plt.show()"
   ]
  },
  {
   "cell_type": "code",
   "execution_count": 10,
   "metadata": {
    "execution": {
     "iopub.execute_input": "2021-09-06T09:15:30.916027Z",
     "iopub.status.busy": "2021-09-06T09:15:30.906629Z",
     "iopub.status.idle": "2021-09-06T09:15:30.930149Z",
     "shell.execute_reply": "2021-09-06T09:15:30.929587Z"
    }
   },
   "outputs": [
    {
     "data": {
      "text/html": [
       "<div>\n",
       "<style scoped>\n",
       "    .dataframe tbody tr th:only-of-type {\n",
       "        vertical-align: middle;\n",
       "    }\n",
       "\n",
       "    .dataframe tbody tr th {\n",
       "        vertical-align: top;\n",
       "    }\n",
       "\n",
       "    .dataframe thead th {\n",
       "        text-align: right;\n",
       "    }\n",
       "</style>\n",
       "<table border=\"1\" class=\"dataframe\">\n",
       "  <thead>\n",
       "    <tr style=\"text-align: right;\">\n",
       "      <th></th>\n",
       "      <th>dt</th>\n",
       "      <th>temp</th>\n",
       "      <th>feels_like</th>\n",
       "      <th>pressure</th>\n",
       "      <th>humidity</th>\n",
       "      <th>dew_point</th>\n",
       "      <th>uvi</th>\n",
       "      <th>clouds</th>\n",
       "      <th>visibility</th>\n",
       "      <th>wind_speed</th>\n",
       "      <th>wind_deg</th>\n",
       "      <th>wind_gust</th>\n",
       "      <th>weather</th>\n",
       "      <th>pop</th>\n",
       "      <th>rain</th>\n",
       "    </tr>\n",
       "  </thead>\n",
       "  <tbody>\n",
       "    <tr>\n",
       "      <th>0</th>\n",
       "      <td>1630918800</td>\n",
       "      <td>31.54</td>\n",
       "      <td>38.43</td>\n",
       "      <td>1009</td>\n",
       "      <td>68</td>\n",
       "      <td>24.91</td>\n",
       "      <td>1.11</td>\n",
       "      <td>40</td>\n",
       "      <td>10000</td>\n",
       "      <td>4.24</td>\n",
       "      <td>90</td>\n",
       "      <td>5.59</td>\n",
       "      <td>[{'id': 500, 'main': 'Rain', 'description': 'l...</td>\n",
       "      <td>0.46</td>\n",
       "      <td>{'1h': 0.39}</td>\n",
       "    </tr>\n",
       "    <tr>\n",
       "      <th>1</th>\n",
       "      <td>1630922400</td>\n",
       "      <td>30.99</td>\n",
       "      <td>37.88</td>\n",
       "      <td>1009</td>\n",
       "      <td>71</td>\n",
       "      <td>25.11</td>\n",
       "      <td>0.19</td>\n",
       "      <td>39</td>\n",
       "      <td>10000</td>\n",
       "      <td>4.28</td>\n",
       "      <td>88</td>\n",
       "      <td>6.05</td>\n",
       "      <td>[{'id': 802, 'main': 'Clouds', 'description': ...</td>\n",
       "      <td>0.50</td>\n",
       "      <td>NaN</td>\n",
       "    </tr>\n",
       "    <tr>\n",
       "      <th>2</th>\n",
       "      <td>1630926000</td>\n",
       "      <td>30.13</td>\n",
       "      <td>36.66</td>\n",
       "      <td>1009</td>\n",
       "      <td>75</td>\n",
       "      <td>25.21</td>\n",
       "      <td>0.00</td>\n",
       "      <td>37</td>\n",
       "      <td>10000</td>\n",
       "      <td>4.18</td>\n",
       "      <td>87</td>\n",
       "      <td>6.34</td>\n",
       "      <td>[{'id': 802, 'main': 'Clouds', 'description': ...</td>\n",
       "      <td>0.58</td>\n",
       "      <td>NaN</td>\n",
       "    </tr>\n",
       "    <tr>\n",
       "      <th>3</th>\n",
       "      <td>1630929600</td>\n",
       "      <td>29.38</td>\n",
       "      <td>35.58</td>\n",
       "      <td>1009</td>\n",
       "      <td>79</td>\n",
       "      <td>25.35</td>\n",
       "      <td>0.00</td>\n",
       "      <td>38</td>\n",
       "      <td>10000</td>\n",
       "      <td>4.36</td>\n",
       "      <td>91</td>\n",
       "      <td>6.91</td>\n",
       "      <td>[{'id': 500, 'main': 'Rain', 'description': 'l...</td>\n",
       "      <td>0.70</td>\n",
       "      <td>{'1h': 0.27}</td>\n",
       "    </tr>\n",
       "    <tr>\n",
       "      <th>4</th>\n",
       "      <td>1630933200</td>\n",
       "      <td>28.70</td>\n",
       "      <td>34.32</td>\n",
       "      <td>1010</td>\n",
       "      <td>82</td>\n",
       "      <td>25.32</td>\n",
       "      <td>0.00</td>\n",
       "      <td>33</td>\n",
       "      <td>10000</td>\n",
       "      <td>4.47</td>\n",
       "      <td>84</td>\n",
       "      <td>7.01</td>\n",
       "      <td>[{'id': 802, 'main': 'Clouds', 'description': ...</td>\n",
       "      <td>0.52</td>\n",
       "      <td>NaN</td>\n",
       "    </tr>\n",
       "  </tbody>\n",
       "</table>\n",
       "</div>"
      ],
      "text/plain": [
       "           dt   temp  feels_like  pressure  humidity  dew_point   uvi  clouds  \\\n",
       "0  1630918800  31.54       38.43      1009        68      24.91  1.11      40   \n",
       "1  1630922400  30.99       37.88      1009        71      25.11  0.19      39   \n",
       "2  1630926000  30.13       36.66      1009        75      25.21  0.00      37   \n",
       "3  1630929600  29.38       35.58      1009        79      25.35  0.00      38   \n",
       "4  1630933200  28.70       34.32      1010        82      25.32  0.00      33   \n",
       "\n",
       "   visibility  wind_speed  wind_deg  wind_gust  \\\n",
       "0       10000        4.24        90       5.59   \n",
       "1       10000        4.28        88       6.05   \n",
       "2       10000        4.18        87       6.34   \n",
       "3       10000        4.36        91       6.91   \n",
       "4       10000        4.47        84       7.01   \n",
       "\n",
       "                                             weather   pop          rain  \n",
       "0  [{'id': 500, 'main': 'Rain', 'description': 'l...  0.46  {'1h': 0.39}  \n",
       "1  [{'id': 802, 'main': 'Clouds', 'description': ...  0.50           NaN  \n",
       "2  [{'id': 802, 'main': 'Clouds', 'description': ...  0.58           NaN  \n",
       "3  [{'id': 500, 'main': 'Rain', 'description': 'l...  0.70  {'1h': 0.27}  \n",
       "4  [{'id': 802, 'main': 'Clouds', 'description': ...  0.52           NaN  "
      ]
     },
     "execution_count": 10,
     "metadata": {},
     "output_type": "execute_result"
    }
   ],
   "source": [
    "df_hourly.head()"
   ]
  },
  {
   "cell_type": "code",
   "execution_count": null,
   "metadata": {},
   "outputs": [],
   "source": []
  }
 ],
 "metadata": {
  "interpreter": {
   "hash": "c1b4cfe941b6d2466ad1fb5979e97da9cda8801728c8091b097ab734208fc00c"
  },
  "kernelspec": {
   "display_name": "Python 3.8.3 64-bit ('base': conda)",
   "name": "python3"
  },
  "language_info": {
   "codemirror_mode": {
    "name": "ipython",
    "version": 3
   },
   "file_extension": ".py",
   "mimetype": "text/x-python",
   "name": "python",
   "nbconvert_exporter": "python",
   "pygments_lexer": "ipython3",
   "version": "3.8.11"
  }
 },
 "nbformat": 4,
 "nbformat_minor": 2
}
