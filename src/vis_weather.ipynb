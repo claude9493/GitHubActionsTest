{
 "cells": [
  {
   "cell_type": "code",
   "execution_count": 1,
   "metadata": {
    "execution": {
     "iopub.execute_input": "2021-09-10T04:20:32.412417Z",
     "iopub.status.busy": "2021-09-10T04:20:32.411686Z",
     "iopub.status.idle": "2021-09-10T04:20:36.589809Z",
     "shell.execute_reply": "2021-09-10T04:20:36.590236Z"
    }
   },
   "outputs": [],
   "source": [
    "import json, yaml, requests\r\n",
    "from datetime import datetime\r\n",
    "from dateutil import tz\r\n",
    "import pandas as pd\r\n",
    "from PIL import Image\r\n",
    "from io import BytesIO\r\n",
    "import matplotlib.pyplot as plt\r\n",
    "import seaborn\r\n",
    "\r\n",
    "CONFIG_PATH = \"../config/config.yaml\""
   ]
  },
  {
   "cell_type": "code",
   "execution_count": 2,
   "metadata": {
    "execution": {
     "iopub.execute_input": "2021-09-10T04:20:36.596510Z",
     "iopub.status.busy": "2021-09-10T04:20:36.595916Z",
     "iopub.status.idle": "2021-09-10T04:20:36.601704Z",
     "shell.execute_reply": "2021-09-10T04:20:36.601237Z"
    }
   },
   "outputs": [],
   "source": [
    "with open('../newest_ts', 'r') as f:\r\n",
    "    newest_ts = f.read()\r\n",
    "\r\n",
    "data_path = f\"../data/data_{newest_ts}.json\"\r\n",
    "with open(data_path, 'r') as f:\r\n",
    "    data = json.load(f)\r\n",
    "\r\n",
    "with open(CONFIG_PATH, \"r\") as stream:\r\n",
    "    config = yaml.safe_load(stream)\r\n",
    "\r\n",
    "TIME_ZONE = config['time_zone']\r\n",
    "DATETIME_FORMAT = config['dt_format']"
   ]
  },
  {
   "cell_type": "code",
   "execution_count": 3,
   "metadata": {
    "execution": {
     "iopub.execute_input": "2021-09-10T04:20:36.606750Z",
     "iopub.status.busy": "2021-09-10T04:20:36.606199Z",
     "iopub.status.idle": "2021-09-10T04:20:36.610299Z",
     "shell.execute_reply": "2021-09-10T04:20:36.610749Z"
    }
   },
   "outputs": [
    {
     "name": "stdout",
     "output_type": "stream",
     "text": [
      "Recent query happens at 2021-09-10 12:20:29 (CST).\n"
     ]
    }
   ],
   "source": [
    "def ts2dt(ts, format=DATETIME_FORMAT):\r\n",
    "    dt = (datetime.utcfromtimestamp(int(ts))\r\n",
    "                    .replace(tzinfo=tz.tzutc())\r\n",
    "                    # .astimezone(tz.tzlocal())\r\n",
    "                    .astimezone(tz.gettz(TIME_ZONE)))\r\n",
    "    return dt.strftime(format), dt\r\n",
    "\r\n",
    "_, newest_dt = ts2dt(newest_ts)\r\n",
    "print(f\"Recent query happens at {newest_dt.strftime(DATETIME_FORMAT)} ({newest_dt.tzname()}).\")"
   ]
  },
  {
   "cell_type": "code",
   "execution_count": 4,
   "metadata": {
    "execution": {
     "iopub.execute_input": "2021-09-10T04:20:36.616907Z",
     "iopub.status.busy": "2021-09-10T04:20:36.615188Z",
     "iopub.status.idle": "2021-09-10T04:20:36.617499Z",
     "shell.execute_reply": "2021-09-10T04:20:36.617940Z"
    }
   },
   "outputs": [],
   "source": [
    "def degrees_to_cardinal(d):\r\n",
    "  dirs = ['N', 'NNE', 'NE', 'ENE', 'E', 'ESE', 'SE', 'SSE', 'S', 'SSW', 'SW', 'WSW', 'W', 'WNW', 'NW', 'NNW']\r\n",
    "  ix = int(round(d / (360. / len(dirs))))\r\n",
    "  return dirs[ix % len(dirs)]"
   ]
  },
  {
   "cell_type": "code",
   "execution_count": 5,
   "metadata": {
    "execution": {
     "iopub.execute_input": "2021-09-10T04:20:36.622533Z",
     "iopub.status.busy": "2021-09-10T04:20:36.621158Z",
     "iopub.status.idle": "2021-09-10T04:20:36.623226Z",
     "shell.execute_reply": "2021-09-10T04:20:36.623768Z"
    }
   },
   "outputs": [],
   "source": [
    "# data.keys()"
   ]
  },
  {
   "cell_type": "code",
   "execution_count": 6,
   "metadata": {
    "execution": {
     "iopub.execute_input": "2021-09-10T04:20:36.628732Z",
     "iopub.status.busy": "2021-09-10T04:20:36.627512Z",
     "iopub.status.idle": "2021-09-10T04:20:36.637905Z",
     "shell.execute_reply": "2021-09-10T04:20:36.637387Z"
    }
   },
   "outputs": [],
   "source": [
    "# data['current']"
   ]
  },
  {
   "cell_type": "code",
   "execution_count": 7,
   "metadata": {
    "execution": {
     "iopub.execute_input": "2021-09-10T04:20:36.643661Z",
     "iopub.status.busy": "2021-09-10T04:20:36.640379Z",
     "iopub.status.idle": "2021-09-10T04:20:37.105588Z",
     "shell.execute_reply": "2021-09-10T04:20:37.106311Z"
    }
   },
   "outputs": [
    {
     "data": {
      "image/png": "[encoded data removed]",
      "text/plain": [
       "<Figure size 216x216 with 1 Axes>"
      ]
     },
     "metadata": {
      "needs_background": "light"
     },
     "output_type": "display_data"
    },
    {
     "name": "stdout",
     "output_type": "stream",
     "text": [
      "Today, sun rises at 06:08 and sets at 18:32.\n",
      "Currently, the weather is Clouds (broken clouds).\n",
      "The temperature is 32.75°C and it feels like 39.75°C.\n",
      "The UV index is 10.69, humidity is 71%.\n",
      "The pressure is 1009 hPa, percentage of cloud cover is 83%\n",
      "The wind comes from E direction with a speed 5.63 m/s.\n"
     ]
    }
   ],
   "source": [
    "current = data['current']\r\n",
    "\r\n",
    "fig, ax = plt.subplots(figsize=(3, 3))\r\n",
    "icon = requests.get(f\"http://openweathermap.org/img/wn/{current['weather'][0]['icon']}@2x.png\")\r\n",
    "im = Image.open(BytesIO(icon.content))\r\n",
    "plt.imshow(im)\r\n",
    "ax.set_axis_off()\r\n",
    "plt.show()\r\n",
    "\r\n",
    "print(f\"Today, sun rises at {ts2dt(current['sunrise'], '%H:%M')[0]} \\\r\n",
    "and sets at {ts2dt(current['sunset'], '%H:%M')[0]}.\\n\\\r\n",
    "Currently, the weather is {current['weather'][0]['main']} ({current['weather'][0]['description']}).\\n\\\r\n",
    "The temperature is {current['temp']}°C and it feels like {current['feels_like']}°C.\\n\\\r\n",
    "The UV index is {current['uvi']}, humidity is {current['humidity']}%.\\n\\\r\n",
    "The pressure is {current['pressure']} hPa, percentage of cloud cover is {current['clouds']}%\\n\\\r\n",
    "The wind comes from {degrees_to_cardinal(current['wind_deg'])} direction with a speed {current['wind_speed']} m/s.\")"
   ]
  },
  {
   "cell_type": "code",
   "execution_count": 8,
   "metadata": {
    "execution": {
     "iopub.execute_input": "2021-09-10T04:20:37.109801Z",
     "iopub.status.busy": "2021-09-10T04:20:37.108837Z",
     "iopub.status.idle": "2021-09-10T04:20:37.117220Z",
     "shell.execute_reply": "2021-09-10T04:20:37.118014Z"
    }
   },
   "outputs": [],
   "source": [
    "df_hourly = pd.DataFrame(data['hourly'])\r\n",
    "df_daily = pd.DataFrame(data['daily'])"
   ]
  },
  {
   "cell_type": "code",
   "execution_count": 9,
   "metadata": {
    "execution": {
     "iopub.execute_input": "2021-09-10T04:20:37.121555Z",
     "iopub.status.busy": "2021-09-10T04:20:37.120276Z",
     "iopub.status.idle": "2021-09-10T04:20:37.475151Z",
     "shell.execute_reply": "2021-09-10T04:20:37.473913Z"
    }
   },
   "outputs": [
    {
     "data": {
      "image/png": "[encoded data removed]",
      "text/plain": [
       "<Figure size 864x432 with 1 Axes>"
      ]
     },
     "metadata": {
      "needs_background": "light"
     },
     "output_type": "display_data"
    }
   ],
   "source": [
    "fig, ax = plt.subplots(figsize=(12, 6))\r\n",
    "plt.plot(df_hourly.temp, '.-', label='Temperature')\r\n",
    "plt.plot(df_hourly.feels_like, '.-', label='Feels Like')\r\n",
    "ax.set(title='Temperature in future 48 hours', xlabel='Time', ylabel='Temperature')\r\n",
    "ax.set_xticks(list(range(0, len(df_hourly), 2)))\r\n",
    "ax.set_xticklabels([ts2dt(ts, '%m-%d %H:%M')[0] for i, ts in enumerate(df_hourly.dt) if i%2==0], \r\n",
    "                   rotation=45, ha=\"right\")\r\n",
    "ax.locator_params(nbins=15, axis='y')\r\n",
    "plt.legend()\r\n",
    "plt.show()"
   ]
  },
  {
   "cell_type": "code",
   "execution_count": 10,
   "metadata": {
    "execution": {
     "iopub.execute_input": "2021-09-10T04:20:37.491739Z",
     "iopub.status.busy": "2021-09-10T04:20:37.481576Z",
     "iopub.status.idle": "2021-09-10T04:20:37.506068Z",
     "shell.execute_reply": "2021-09-10T04:20:37.505500Z"
    }
   },
   "outputs": [
    {
     "data": {
      "text/html": [
       "<div>\n",
       "<style scoped>\n",
       "    .dataframe tbody tr th:only-of-type {\n",
       "        vertical-align: middle;\n",
       "    }\n",
       "\n",
       "    .dataframe tbody tr th {\n",
       "        vertical-align: top;\n",
       "    }\n",
       "\n",
       "    .dataframe thead th {\n",
       "        text-align: right;\n",
       "    }\n",
       "</style>\n",
       "<table border=\"1\" class=\"dataframe\">\n",
       "  <thead>\n",
       "    <tr style=\"text-align: right;\">\n",
       "      <th></th>\n",
       "      <th>dt</th>\n",
       "      <th>temp</th>\n",
       "      <th>feels_like</th>\n",
       "      <th>pressure</th>\n",
       "      <th>humidity</th>\n",
       "      <th>dew_point</th>\n",
       "      <th>uvi</th>\n",
       "      <th>clouds</th>\n",
       "      <th>visibility</th>\n",
       "      <th>wind_speed</th>\n",
       "      <th>wind_deg</th>\n",
       "      <th>wind_gust</th>\n",
       "      <th>weather</th>\n",
       "      <th>pop</th>\n",
       "      <th>rain</th>\n",
       "    </tr>\n",
       "  </thead>\n",
       "  <tbody>\n",
       "    <tr>\n",
       "      <th>0</th>\n",
       "      <td>1631246400</td>\n",
       "      <td>32.75</td>\n",
       "      <td>39.75</td>\n",
       "      <td>1009</td>\n",
       "      <td>71</td>\n",
       "      <td>26.79</td>\n",
       "      <td>10.69</td>\n",
       "      <td>83</td>\n",
       "      <td>10000</td>\n",
       "      <td>5.63</td>\n",
       "      <td>79</td>\n",
       "      <td>6.62</td>\n",
       "      <td>[{'id': 803, 'main': 'Clouds', 'description': ...</td>\n",
       "      <td>0.37</td>\n",
       "      <td>NaN</td>\n",
       "    </tr>\n",
       "    <tr>\n",
       "      <th>1</th>\n",
       "      <td>1631250000</td>\n",
       "      <td>32.23</td>\n",
       "      <td>39.23</td>\n",
       "      <td>1009</td>\n",
       "      <td>70</td>\n",
       "      <td>26.06</td>\n",
       "      <td>10.51</td>\n",
       "      <td>82</td>\n",
       "      <td>10000</td>\n",
       "      <td>5.56</td>\n",
       "      <td>88</td>\n",
       "      <td>6.34</td>\n",
       "      <td>[{'id': 803, 'main': 'Clouds', 'description': ...</td>\n",
       "      <td>0.38</td>\n",
       "      <td>NaN</td>\n",
       "    </tr>\n",
       "    <tr>\n",
       "      <th>2</th>\n",
       "      <td>1631253600</td>\n",
       "      <td>31.67</td>\n",
       "      <td>38.67</td>\n",
       "      <td>1009</td>\n",
       "      <td>70</td>\n",
       "      <td>25.52</td>\n",
       "      <td>8.66</td>\n",
       "      <td>82</td>\n",
       "      <td>10000</td>\n",
       "      <td>5.56</td>\n",
       "      <td>90</td>\n",
       "      <td>6.40</td>\n",
       "      <td>[{'id': 500, 'main': 'Rain', 'description': 'l...</td>\n",
       "      <td>0.38</td>\n",
       "      <td>{'1h': 0.1}</td>\n",
       "    </tr>\n",
       "    <tr>\n",
       "      <th>3</th>\n",
       "      <td>1631257200</td>\n",
       "      <td>31.00</td>\n",
       "      <td>37.90</td>\n",
       "      <td>1008</td>\n",
       "      <td>71</td>\n",
       "      <td>25.12</td>\n",
       "      <td>4.81</td>\n",
       "      <td>92</td>\n",
       "      <td>10000</td>\n",
       "      <td>5.02</td>\n",
       "      <td>90</td>\n",
       "      <td>6.22</td>\n",
       "      <td>[{'id': 804, 'main': 'Clouds', 'description': ...</td>\n",
       "      <td>0.20</td>\n",
       "      <td>NaN</td>\n",
       "    </tr>\n",
       "    <tr>\n",
       "      <th>4</th>\n",
       "      <td>1631260800</td>\n",
       "      <td>30.33</td>\n",
       "      <td>36.39</td>\n",
       "      <td>1007</td>\n",
       "      <td>72</td>\n",
       "      <td>24.71</td>\n",
       "      <td>2.47</td>\n",
       "      <td>89</td>\n",
       "      <td>10000</td>\n",
       "      <td>4.60</td>\n",
       "      <td>97</td>\n",
       "      <td>5.93</td>\n",
       "      <td>[{'id': 804, 'main': 'Clouds', 'description': ...</td>\n",
       "      <td>0.09</td>\n",
       "      <td>NaN</td>\n",
       "    </tr>\n",
       "  </tbody>\n",
       "</table>\n",
       "</div>"
      ],
      "text/plain": [
       "           dt   temp  feels_like  pressure  humidity  dew_point    uvi  \\\n",
       "0  1631246400  32.75       39.75      1009        71      26.79  10.69   \n",
       "1  1631250000  32.23       39.23      1009        70      26.06  10.51   \n",
       "2  1631253600  31.67       38.67      1009        70      25.52   8.66   \n",
       "3  1631257200  31.00       37.90      1008        71      25.12   4.81   \n",
       "4  1631260800  30.33       36.39      1007        72      24.71   2.47   \n",
       "\n",
       "   clouds  visibility  wind_speed  wind_deg  wind_gust  \\\n",
       "0      83       10000        5.63        79       6.62   \n",
       "1      82       10000        5.56        88       6.34   \n",
       "2      82       10000        5.56        90       6.40   \n",
       "3      92       10000        5.02        90       6.22   \n",
       "4      89       10000        4.60        97       5.93   \n",
       "\n",
       "                                             weather   pop         rain  \n",
       "0  [{'id': 803, 'main': 'Clouds', 'description': ...  0.37          NaN  \n",
       "1  [{'id': 803, 'main': 'Clouds', 'description': ...  0.38          NaN  \n",
       "2  [{'id': 500, 'main': 'Rain', 'description': 'l...  0.38  {'1h': 0.1}  \n",
       "3  [{'id': 804, 'main': 'Clouds', 'description': ...  0.20          NaN  \n",
       "4  [{'id': 804, 'main': 'Clouds', 'description': ...  0.09          NaN  "
      ]
     },
     "execution_count": 10,
     "metadata": {},
     "output_type": "execute_result"
    }
   ],
   "source": [
    "df_hourly.head()"
   ]
  },
  {
   "cell_type": "code",
   "execution_count": null,
   "metadata": {},
   "outputs": [],
   "source": []
  }
 ],
 "metadata": {
  "interpreter": {
   "hash": "c1b4cfe941b6d2466ad1fb5979e97da9cda8801728c8091b097ab734208fc00c"
  },
  "kernelspec": {
   "display_name": "Python 3.8.3 64-bit ('base': conda)",
   "name": "python3"
  },
  "language_info": {
   "codemirror_mode": {
    "name": "ipython",
    "version": 3
   },
   "file_extension": ".py",
   "mimetype": "text/x-python",
   "name": "python",
   "nbconvert_exporter": "python",
   "pygments_lexer": "ipython3",
   "version": "3.8.11"
  }
 },
 "nbformat": 4,
 "nbformat_minor": 2
}
