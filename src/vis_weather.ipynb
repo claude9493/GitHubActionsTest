{
 "cells": [
  {
   "cell_type": "code",
   "execution_count": 1,
   "metadata": {
    "execution": {
     "iopub.execute_input": "2021-10-06T16:14:57.028187Z",
     "iopub.status.busy": "2021-10-06T16:14:57.027584Z",
     "iopub.status.idle": "2021-10-06T16:14:58.148059Z",
     "shell.execute_reply": "2021-10-06T16:14:58.147154Z"
    }
   },
   "outputs": [],
   "source": [
    "import json, yaml, requests\r\n",
    "from datetime import datetime\r\n",
    "from dateutil import tz\r\n",
    "import pandas as pd\r\n",
    "from PIL import Image\r\n",
    "from io import BytesIO\r\n",
    "import matplotlib.pyplot as plt\r\n",
    "import seaborn\r\n",
    "\r\n",
    "CONFIG_PATH = \"../config/config.yaml\""
   ]
  },
  {
   "cell_type": "code",
   "execution_count": 2,
   "metadata": {
    "execution": {
     "iopub.execute_input": "2021-10-06T16:14:58.153114Z",
     "iopub.status.busy": "2021-10-06T16:14:58.152470Z",
     "iopub.status.idle": "2021-10-06T16:14:58.157341Z",
     "shell.execute_reply": "2021-10-06T16:14:58.156946Z"
    }
   },
   "outputs": [],
   "source": [
    "with open('../newest_ts', 'r') as f:\r\n",
    "    newest_ts = f.read()\r\n",
    "\r\n",
    "data_path = f\"../data/data_{newest_ts}.json\"\r\n",
    "with open(data_path, 'r') as f:\r\n",
    "    data = json.load(f)\r\n",
    "\r\n",
    "with open(CONFIG_PATH, \"r\") as stream:\r\n",
    "    config = yaml.safe_load(stream)\r\n",
    "\r\n",
    "TIME_ZONE = config['time_zone']\r\n",
    "DATETIME_FORMAT = config['dt_format']"
   ]
  },
  {
   "cell_type": "code",
   "execution_count": 3,
   "metadata": {
    "execution": {
     "iopub.execute_input": "2021-10-06T16:14:58.161562Z",
     "iopub.status.busy": "2021-10-06T16:14:58.161104Z",
     "iopub.status.idle": "2021-10-06T16:14:58.193692Z",
     "shell.execute_reply": "2021-10-06T16:14:58.194118Z"
    }
   },
   "outputs": [
    {
     "name": "stdout",
     "output_type": "stream",
     "text": [
      "Recent query happens at 2021-10-07 00:14:54 (CST).\n"
     ]
    }
   ],
   "source": [
    "def ts2dt(ts, format=DATETIME_FORMAT):\r\n",
    "    dt = (datetime.utcfromtimestamp(int(ts))\r\n",
    "                    .replace(tzinfo=tz.tzutc())\r\n",
    "                    # .astimezone(tz.tzlocal())\r\n",
    "                    .astimezone(tz.gettz(TIME_ZONE)))\r\n",
    "    return dt.strftime(format), dt\r\n",
    "\r\n",
    "_, newest_dt = ts2dt(newest_ts)\r\n",
    "print(f\"Recent query happens at {newest_dt.strftime(DATETIME_FORMAT)} ({newest_dt.tzname()}).\")"
   ]
  },
  {
   "cell_type": "code",
   "execution_count": 4,
   "metadata": {
    "execution": {
     "iopub.execute_input": "2021-10-06T16:14:58.198937Z",
     "iopub.status.busy": "2021-10-06T16:14:58.197944Z",
     "iopub.status.idle": "2021-10-06T16:14:58.199963Z",
     "shell.execute_reply": "2021-10-06T16:14:58.199601Z"
    }
   },
   "outputs": [],
   "source": [
    "def degrees_to_cardinal(d):\r\n",
    "  dirs = ['N', 'NNE', 'NE', 'ENE', 'E', 'ESE', 'SE', 'SSE', 'S', 'SSW', 'SW', 'WSW', 'W', 'WNW', 'NW', 'NNW']\r\n",
    "  ix = int(round(d / (360. / len(dirs))))\r\n",
    "  return dirs[ix % len(dirs)]"
   ]
  },
  {
   "cell_type": "code",
   "execution_count": 5,
   "metadata": {
    "execution": {
     "iopub.execute_input": "2021-10-06T16:14:58.203850Z",
     "iopub.status.busy": "2021-10-06T16:14:58.202836Z",
     "iopub.status.idle": "2021-10-06T16:14:58.204362Z",
     "shell.execute_reply": "2021-10-06T16:14:58.204717Z"
    }
   },
   "outputs": [],
   "source": [
    "# data.keys()"
   ]
  },
  {
   "cell_type": "code",
   "execution_count": 6,
   "metadata": {
    "execution": {
     "iopub.execute_input": "2021-10-06T16:14:58.208359Z",
     "iopub.status.busy": "2021-10-06T16:14:58.207289Z",
     "iopub.status.idle": "2021-10-06T16:14:58.208876Z",
     "shell.execute_reply": "2021-10-06T16:14:58.209237Z"
    }
   },
   "outputs": [],
   "source": [
    "# data['current']"
   ]
  },
  {
   "cell_type": "code",
   "execution_count": 7,
   "metadata": {
    "execution": {
     "iopub.execute_input": "2021-10-06T16:14:58.226046Z",
     "iopub.status.busy": "2021-10-06T16:14:58.225574Z",
     "iopub.status.idle": "2021-10-06T16:14:58.803794Z",
     "shell.execute_reply": "2021-10-06T16:14:58.803394Z"
    }
   },
   "outputs": [
    {
     "data": {
      "image/png": "[encoded data removed]",
      "text/plain": [
       "<Figure size 216x216 with 1 Axes>"
      ]
     },
     "metadata": {
      "needs_background": "light"
     },
     "output_type": "display_data"
    },
    {
     "name": "stdout",
     "output_type": "stream",
     "text": [
      "Today, sun rises at 06:16 and sets at 18:05.\n",
      "Currently, the weather is Rain (light rain).\n",
      "The temperature is 29.36°C and it feels like 35.52°C.\n",
      "The UV index is 0, humidity is 79%.\n",
      "The pressure is 1012 hPa, percentage of cloud cover is 6%\n",
      "The wind comes from NNW direction with a speed 1.79 m/s.\n"
     ]
    }
   ],
   "source": [
    "current = data['current']\r\n",
    "\r\n",
    "fig, ax = plt.subplots(figsize=(3, 3))\r\n",
    "icon = requests.get(f\"http://openweathermap.org/img/wn/{current['weather'][0]['icon']}@2x.png\")\r\n",
    "im = Image.open(BytesIO(icon.content))\r\n",
    "plt.imshow(im)\r\n",
    "ax.set_axis_off()\r\n",
    "plt.show()\r\n",
    "\r\n",
    "print(f\"Today, sun rises at {ts2dt(current['sunrise'], '%H:%M')[0]} \\\r\n",
    "and sets at {ts2dt(current['sunset'], '%H:%M')[0]}.\\n\\\r\n",
    "Currently, the weather is {current['weather'][0]['main']} ({current['weather'][0]['description']}).\\n\\\r\n",
    "The temperature is {current['temp']}°C and it feels like {current['feels_like']}°C.\\n\\\r\n",
    "The UV index is {current['uvi']}, humidity is {current['humidity']}%.\\n\\\r\n",
    "The pressure is {current['pressure']} hPa, percentage of cloud cover is {current['clouds']}%\\n\\\r\n",
    "The wind comes from {degrees_to_cardinal(current['wind_deg'])} direction with a speed {current['wind_speed']} m/s.\")"
   ]
  },
  {
   "cell_type": "code",
   "execution_count": 8,
   "metadata": {
    "execution": {
     "iopub.execute_input": "2021-10-06T16:14:58.808257Z",
     "iopub.status.busy": "2021-10-06T16:14:58.807811Z",
     "iopub.status.idle": "2021-10-06T16:14:58.811207Z",
     "shell.execute_reply": "2021-10-06T16:14:58.811634Z"
    }
   },
   "outputs": [],
   "source": [
    "df_hourly = pd.DataFrame(data['hourly'])\r\n",
    "df_daily = pd.DataFrame(data['daily'])"
   ]
  },
  {
   "cell_type": "code",
   "execution_count": 9,
   "metadata": {
    "execution": {
     "iopub.execute_input": "2021-10-06T16:14:58.813729Z",
     "iopub.status.busy": "2021-10-06T16:14:58.813283Z",
     "iopub.status.idle": "2021-10-06T16:14:59.045009Z",
     "shell.execute_reply": "2021-10-06T16:14:59.044614Z"
    }
   },
   "outputs": [
    {
     "data": {
      "image/png": "[encoded data removed]",
      "text/plain": [
       "<Figure size 864x432 with 1 Axes>"
      ]
     },
     "metadata": {
      "needs_background": "light"
     },
     "output_type": "display_data"
    }
   ],
   "source": [
    "fig, ax = plt.subplots(figsize=(12, 6))\r\n",
    "plt.plot(df_hourly.temp, '.-', label='Temperature')\r\n",
    "plt.plot(df_hourly.feels_like, '.-', label='Feels Like')\r\n",
    "ax.set(title='Temperature in future 48 hours', xlabel='Time', ylabel='Temperature')\r\n",
    "ax.set_xticks(list(range(0, len(df_hourly), 2)))\r\n",
    "ax.set_xticklabels([ts2dt(ts, '%m-%d %H:%M')[0] for i, ts in enumerate(df_hourly.dt) if i%2==0], \r\n",
    "                   rotation=45, ha=\"right\")\r\n",
    "ax.locator_params(nbins=15, axis='y')\r\n",
    "plt.legend()\r\n",
    "plt.show()"
   ]
  },
  {
   "cell_type": "code",
   "execution_count": 10,
   "metadata": {
    "execution": {
     "iopub.execute_input": "2021-10-06T16:14:59.055608Z",
     "iopub.status.busy": "2021-10-06T16:14:59.048470Z",
     "iopub.status.idle": "2021-10-06T16:14:59.067026Z",
     "shell.execute_reply": "2021-10-06T16:14:59.066608Z"
    }
   },
   "outputs": [
    {
     "data": {
      "text/html": [
       "<div>\n",
       "<style scoped>\n",
       "    .dataframe tbody tr th:only-of-type {\n",
       "        vertical-align: middle;\n",
       "    }\n",
       "\n",
       "    .dataframe tbody tr th {\n",
       "        vertical-align: top;\n",
       "    }\n",
       "\n",
       "    .dataframe thead th {\n",
       "        text-align: right;\n",
       "    }\n",
       "</style>\n",
       "<table border=\"1\" class=\"dataframe\">\n",
       "  <thead>\n",
       "    <tr style=\"text-align: right;\">\n",
       "      <th></th>\n",
       "      <th>dt</th>\n",
       "      <th>temp</th>\n",
       "      <th>feels_like</th>\n",
       "      <th>pressure</th>\n",
       "      <th>humidity</th>\n",
       "      <th>dew_point</th>\n",
       "      <th>uvi</th>\n",
       "      <th>clouds</th>\n",
       "      <th>visibility</th>\n",
       "      <th>wind_speed</th>\n",
       "      <th>wind_deg</th>\n",
       "      <th>wind_gust</th>\n",
       "      <th>weather</th>\n",
       "      <th>pop</th>\n",
       "      <th>rain</th>\n",
       "    </tr>\n",
       "  </thead>\n",
       "  <tbody>\n",
       "    <tr>\n",
       "      <th>0</th>\n",
       "      <td>1633536000</td>\n",
       "      <td>29.36</td>\n",
       "      <td>35.52</td>\n",
       "      <td>1012</td>\n",
       "      <td>79</td>\n",
       "      <td>25.33</td>\n",
       "      <td>0.0</td>\n",
       "      <td>6</td>\n",
       "      <td>10000</td>\n",
       "      <td>7.72</td>\n",
       "      <td>77</td>\n",
       "      <td>11.73</td>\n",
       "      <td>[{'id': 500, 'main': 'Rain', 'description': 'l...</td>\n",
       "      <td>0.77</td>\n",
       "      <td>{'1h': 0.23}</td>\n",
       "    </tr>\n",
       "    <tr>\n",
       "      <th>1</th>\n",
       "      <td>1633539600</td>\n",
       "      <td>28.98</td>\n",
       "      <td>34.69</td>\n",
       "      <td>1011</td>\n",
       "      <td>80</td>\n",
       "      <td>25.18</td>\n",
       "      <td>0.0</td>\n",
       "      <td>6</td>\n",
       "      <td>10000</td>\n",
       "      <td>8.44</td>\n",
       "      <td>75</td>\n",
       "      <td>11.95</td>\n",
       "      <td>[{'id': 500, 'main': 'Rain', 'description': 'l...</td>\n",
       "      <td>0.77</td>\n",
       "      <td>{'1h': 0.12}</td>\n",
       "    </tr>\n",
       "    <tr>\n",
       "      <th>2</th>\n",
       "      <td>1633543200</td>\n",
       "      <td>28.51</td>\n",
       "      <td>33.60</td>\n",
       "      <td>1010</td>\n",
       "      <td>81</td>\n",
       "      <td>24.93</td>\n",
       "      <td>0.0</td>\n",
       "      <td>6</td>\n",
       "      <td>10000</td>\n",
       "      <td>8.93</td>\n",
       "      <td>74</td>\n",
       "      <td>12.24</td>\n",
       "      <td>[{'id': 800, 'main': 'Clear', 'description': '...</td>\n",
       "      <td>0.77</td>\n",
       "      <td>NaN</td>\n",
       "    </tr>\n",
       "    <tr>\n",
       "      <th>3</th>\n",
       "      <td>1633546800</td>\n",
       "      <td>28.05</td>\n",
       "      <td>32.54</td>\n",
       "      <td>1009</td>\n",
       "      <td>82</td>\n",
       "      <td>24.69</td>\n",
       "      <td>0.0</td>\n",
       "      <td>8</td>\n",
       "      <td>10000</td>\n",
       "      <td>9.24</td>\n",
       "      <td>74</td>\n",
       "      <td>12.42</td>\n",
       "      <td>[{'id': 500, 'main': 'Rain', 'description': 'l...</td>\n",
       "      <td>0.65</td>\n",
       "      <td>{'1h': 0.38}</td>\n",
       "    </tr>\n",
       "    <tr>\n",
       "      <th>4</th>\n",
       "      <td>1633550400</td>\n",
       "      <td>27.74</td>\n",
       "      <td>31.88</td>\n",
       "      <td>1008</td>\n",
       "      <td>83</td>\n",
       "      <td>24.59</td>\n",
       "      <td>0.0</td>\n",
       "      <td>8</td>\n",
       "      <td>10000</td>\n",
       "      <td>9.79</td>\n",
       "      <td>74</td>\n",
       "      <td>13.39</td>\n",
       "      <td>[{'id': 500, 'main': 'Rain', 'description': 'l...</td>\n",
       "      <td>0.73</td>\n",
       "      <td>{'1h': 0.29}</td>\n",
       "    </tr>\n",
       "  </tbody>\n",
       "</table>\n",
       "</div>"
      ],
      "text/plain": [
       "           dt   temp  feels_like  pressure  humidity  dew_point  uvi  clouds  \\\n",
       "0  1633536000  29.36       35.52      1012        79      25.33  0.0       6   \n",
       "1  1633539600  28.98       34.69      1011        80      25.18  0.0       6   \n",
       "2  1633543200  28.51       33.60      1010        81      24.93  0.0       6   \n",
       "3  1633546800  28.05       32.54      1009        82      24.69  0.0       8   \n",
       "4  1633550400  27.74       31.88      1008        83      24.59  0.0       8   \n",
       "\n",
       "   visibility  wind_speed  wind_deg  wind_gust  \\\n",
       "0       10000        7.72        77      11.73   \n",
       "1       10000        8.44        75      11.95   \n",
       "2       10000        8.93        74      12.24   \n",
       "3       10000        9.24        74      12.42   \n",
       "4       10000        9.79        74      13.39   \n",
       "\n",
       "                                             weather   pop          rain  \n",
       "0  [{'id': 500, 'main': 'Rain', 'description': 'l...  0.77  {'1h': 0.23}  \n",
       "1  [{'id': 500, 'main': 'Rain', 'description': 'l...  0.77  {'1h': 0.12}  \n",
       "2  [{'id': 800, 'main': 'Clear', 'description': '...  0.77           NaN  \n",
       "3  [{'id': 500, 'main': 'Rain', 'description': 'l...  0.65  {'1h': 0.38}  \n",
       "4  [{'id': 500, 'main': 'Rain', 'description': 'l...  0.73  {'1h': 0.29}  "
      ]
     },
     "execution_count": 10,
     "metadata": {},
     "output_type": "execute_result"
    }
   ],
   "source": [
    "df_hourly.head()"
   ]
  },
  {
   "cell_type": "code",
   "execution_count": null,
   "metadata": {},
   "outputs": [],
   "source": []
  }
 ],
 "metadata": {
  "interpreter": {
   "hash": "c1b4cfe941b6d2466ad1fb5979e97da9cda8801728c8091b097ab734208fc00c"
  },
  "kernelspec": {
   "display_name": "Python 3.8.3 64-bit ('base': conda)",
   "name": "python3"
  },
  "language_info": {
   "codemirror_mode": {
    "name": "ipython",
    "version": 3
   },
   "file_extension": ".py",
   "mimetype": "text/x-python",
   "name": "python",
   "nbconvert_exporter": "python",
   "pygments_lexer": "ipython3",
   "version": "3.8.12"
  }
 },
 "nbformat": 4,
 "nbformat_minor": 2
}
