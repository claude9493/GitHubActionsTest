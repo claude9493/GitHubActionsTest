{
 "cells": [
  {
   "cell_type": "code",
   "execution_count": 1,
   "metadata": {
    "execution": {
     "iopub.execute_input": "2021-09-24T21:10:07.987555Z",
     "iopub.status.busy": "2021-09-24T21:10:07.986944Z",
     "iopub.status.idle": "2021-09-24T21:10:10.503976Z",
     "shell.execute_reply": "2021-09-24T21:10:10.503343Z"
    }
   },
   "outputs": [],
   "source": [
    "import json, yaml, requests\r\n",
    "from datetime import datetime\r\n",
    "from dateutil import tz\r\n",
    "import pandas as pd\r\n",
    "from PIL import Image\r\n",
    "from io import BytesIO\r\n",
    "import matplotlib.pyplot as plt\r\n",
    "import seaborn\r\n",
    "\r\n",
    "CONFIG_PATH = \"../config/config.yaml\""
   ]
  },
  {
   "cell_type": "code",
   "execution_count": 2,
   "metadata": {
    "execution": {
     "iopub.execute_input": "2021-09-24T21:10:10.511472Z",
     "iopub.status.busy": "2021-09-24T21:10:10.508657Z",
     "iopub.status.idle": "2021-09-24T21:10:10.514008Z",
     "shell.execute_reply": "2021-09-24T21:10:10.513623Z"
    }
   },
   "outputs": [],
   "source": [
    "with open('../newest_ts', 'r') as f:\r\n",
    "    newest_ts = f.read()\r\n",
    "\r\n",
    "data_path = f\"../data/data_{newest_ts}.json\"\r\n",
    "with open(data_path, 'r') as f:\r\n",
    "    data = json.load(f)\r\n",
    "\r\n",
    "with open(CONFIG_PATH, \"r\") as stream:\r\n",
    "    config = yaml.safe_load(stream)\r\n",
    "\r\n",
    "TIME_ZONE = config['time_zone']\r\n",
    "DATETIME_FORMAT = config['dt_format']"
   ]
  },
  {
   "cell_type": "code",
   "execution_count": 3,
   "metadata": {
    "execution": {
     "iopub.execute_input": "2021-09-24T21:10:10.518292Z",
     "iopub.status.busy": "2021-09-24T21:10:10.517800Z",
     "iopub.status.idle": "2021-09-24T21:10:10.544397Z",
     "shell.execute_reply": "2021-09-24T21:10:10.544830Z"
    }
   },
   "outputs": [
    {
     "name": "stdout",
     "output_type": "stream",
     "text": [
      "Recent query happens at 2021-09-25 05:10:04 (CST).\n"
     ]
    }
   ],
   "source": [
    "def ts2dt(ts, format=DATETIME_FORMAT):\r\n",
    "    dt = (datetime.utcfromtimestamp(int(ts))\r\n",
    "                    .replace(tzinfo=tz.tzutc())\r\n",
    "                    # .astimezone(tz.tzlocal())\r\n",
    "                    .astimezone(tz.gettz(TIME_ZONE)))\r\n",
    "    return dt.strftime(format), dt\r\n",
    "\r\n",
    "_, newest_dt = ts2dt(newest_ts)\r\n",
    "print(f\"Recent query happens at {newest_dt.strftime(DATETIME_FORMAT)} ({newest_dt.tzname()}).\")"
   ]
  },
  {
   "cell_type": "code",
   "execution_count": 4,
   "metadata": {
    "execution": {
     "iopub.execute_input": "2021-09-24T21:10:10.550205Z",
     "iopub.status.busy": "2021-09-24T21:10:10.549012Z",
     "iopub.status.idle": "2021-09-24T21:10:10.550747Z",
     "shell.execute_reply": "2021-09-24T21:10:10.551119Z"
    }
   },
   "outputs": [],
   "source": [
    "def degrees_to_cardinal(d):\r\n",
    "  dirs = ['N', 'NNE', 'NE', 'ENE', 'E', 'ESE', 'SE', 'SSE', 'S', 'SSW', 'SW', 'WSW', 'W', 'WNW', 'NW', 'NNW']\r\n",
    "  ix = int(round(d / (360. / len(dirs))))\r\n",
    "  return dirs[ix % len(dirs)]"
   ]
  },
  {
   "cell_type": "code",
   "execution_count": 5,
   "metadata": {
    "execution": {
     "iopub.execute_input": "2021-09-24T21:10:10.555247Z",
     "iopub.status.busy": "2021-09-24T21:10:10.554217Z",
     "iopub.status.idle": "2021-09-24T21:10:10.555784Z",
     "shell.execute_reply": "2021-09-24T21:10:10.556155Z"
    }
   },
   "outputs": [],
   "source": [
    "# data.keys()"
   ]
  },
  {
   "cell_type": "code",
   "execution_count": 6,
   "metadata": {
    "execution": {
     "iopub.execute_input": "2021-09-24T21:10:10.560177Z",
     "iopub.status.busy": "2021-09-24T21:10:10.559037Z",
     "iopub.status.idle": "2021-09-24T21:10:10.560702Z",
     "shell.execute_reply": "2021-09-24T21:10:10.561069Z"
    }
   },
   "outputs": [],
   "source": [
    "# data['current']"
   ]
  },
  {
   "cell_type": "code",
   "execution_count": 7,
   "metadata": {
    "execution": {
     "iopub.execute_input": "2021-09-24T21:10:10.578232Z",
     "iopub.status.busy": "2021-09-24T21:10:10.577716Z",
     "iopub.status.idle": "2021-09-24T21:10:10.970426Z",
     "shell.execute_reply": "2021-09-24T21:10:10.971105Z"
    }
   },
   "outputs": [
    {
     "data": {
      "image/png": "[encoded data removed]",
      "text/plain": [
       "<Figure size 216x216 with 1 Axes>"
      ]
     },
     "metadata": {
      "needs_background": "light"
     },
     "output_type": "display_data"
    },
    {
     "name": "stdout",
     "output_type": "stream",
     "text": [
      "Today, sun rises at 06:12 and sets at 18:16.\n",
      "Currently, the weather is Clouds (scattered clouds).\n",
      "The temperature is 28.32°C and it feels like 33.45°C.\n",
      "The UV index is 0, humidity is 83%.\n",
      "The pressure is 1017 hPa, percentage of cloud cover is 26%\n",
      "The wind comes from E direction with a speed 4.02 m/s.\n"
     ]
    }
   ],
   "source": [
    "current = data['current']\r\n",
    "\r\n",
    "fig, ax = plt.subplots(figsize=(3, 3))\r\n",
    "icon = requests.get(f\"http://openweathermap.org/img/wn/{current['weather'][0]['icon']}@2x.png\")\r\n",
    "im = Image.open(BytesIO(icon.content))\r\n",
    "plt.imshow(im)\r\n",
    "ax.set_axis_off()\r\n",
    "plt.show()\r\n",
    "\r\n",
    "print(f\"Today, sun rises at {ts2dt(current['sunrise'], '%H:%M')[0]} \\\r\n",
    "and sets at {ts2dt(current['sunset'], '%H:%M')[0]}.\\n\\\r\n",
    "Currently, the weather is {current['weather'][0]['main']} ({current['weather'][0]['description']}).\\n\\\r\n",
    "The temperature is {current['temp']}°C and it feels like {current['feels_like']}°C.\\n\\\r\n",
    "The UV index is {current['uvi']}, humidity is {current['humidity']}%.\\n\\\r\n",
    "The pressure is {current['pressure']} hPa, percentage of cloud cover is {current['clouds']}%\\n\\\r\n",
    "The wind comes from {degrees_to_cardinal(current['wind_deg'])} direction with a speed {current['wind_speed']} m/s.\")"
   ]
  },
  {
   "cell_type": "code",
   "execution_count": 8,
   "metadata": {
    "execution": {
     "iopub.execute_input": "2021-09-24T21:10:10.974407Z",
     "iopub.status.busy": "2021-09-24T21:10:10.973456Z",
     "iopub.status.idle": "2021-09-24T21:10:10.980397Z",
     "shell.execute_reply": "2021-09-24T21:10:10.981041Z"
    }
   },
   "outputs": [],
   "source": [
    "df_hourly = pd.DataFrame(data['hourly'])\r\n",
    "df_daily = pd.DataFrame(data['daily'])"
   ]
  },
  {
   "cell_type": "code",
   "execution_count": 9,
   "metadata": {
    "execution": {
     "iopub.execute_input": "2021-09-24T21:10:10.984145Z",
     "iopub.status.busy": "2021-09-24T21:10:10.983213Z",
     "iopub.status.idle": "2021-09-24T21:10:11.216171Z",
     "shell.execute_reply": "2021-09-24T21:10:11.215737Z"
    }
   },
   "outputs": [
    {
     "data": {
      "image/png": "[encoded data removed]",
      "text/plain": [
       "<Figure size 864x432 with 1 Axes>"
      ]
     },
     "metadata": {
      "needs_background": "light"
     },
     "output_type": "display_data"
    }
   ],
   "source": [
    "fig, ax = plt.subplots(figsize=(12, 6))\r\n",
    "plt.plot(df_hourly.temp, '.-', label='Temperature')\r\n",
    "plt.plot(df_hourly.feels_like, '.-', label='Feels Like')\r\n",
    "ax.set(title='Temperature in future 48 hours', xlabel='Time', ylabel='Temperature')\r\n",
    "ax.set_xticks(list(range(0, len(df_hourly), 2)))\r\n",
    "ax.set_xticklabels([ts2dt(ts, '%m-%d %H:%M')[0] for i, ts in enumerate(df_hourly.dt) if i%2==0], \r\n",
    "                   rotation=45, ha=\"right\")\r\n",
    "ax.locator_params(nbins=15, axis='y')\r\n",
    "plt.legend()\r\n",
    "plt.show()"
   ]
  },
  {
   "cell_type": "code",
   "execution_count": 10,
   "metadata": {
    "execution": {
     "iopub.execute_input": "2021-09-24T21:10:11.218935Z",
     "iopub.status.busy": "2021-09-24T21:10:11.218474Z",
     "iopub.status.idle": "2021-09-24T21:10:11.237528Z",
     "shell.execute_reply": "2021-09-24T21:10:11.237099Z"
    }
   },
   "outputs": [
    {
     "data": {
      "text/html": [
       "<div>\n",
       "<style scoped>\n",
       "    .dataframe tbody tr th:only-of-type {\n",
       "        vertical-align: middle;\n",
       "    }\n",
       "\n",
       "    .dataframe tbody tr th {\n",
       "        vertical-align: top;\n",
       "    }\n",
       "\n",
       "    .dataframe thead th {\n",
       "        text-align: right;\n",
       "    }\n",
       "</style>\n",
       "<table border=\"1\" class=\"dataframe\">\n",
       "  <thead>\n",
       "    <tr style=\"text-align: right;\">\n",
       "      <th></th>\n",
       "      <th>dt</th>\n",
       "      <th>temp</th>\n",
       "      <th>feels_like</th>\n",
       "      <th>pressure</th>\n",
       "      <th>humidity</th>\n",
       "      <th>dew_point</th>\n",
       "      <th>uvi</th>\n",
       "      <th>clouds</th>\n",
       "      <th>visibility</th>\n",
       "      <th>wind_speed</th>\n",
       "      <th>wind_deg</th>\n",
       "      <th>wind_gust</th>\n",
       "      <th>weather</th>\n",
       "      <th>pop</th>\n",
       "      <th>rain</th>\n",
       "    </tr>\n",
       "  </thead>\n",
       "  <tbody>\n",
       "    <tr>\n",
       "      <th>0</th>\n",
       "      <td>1632517200</td>\n",
       "      <td>28.32</td>\n",
       "      <td>33.45</td>\n",
       "      <td>1017</td>\n",
       "      <td>83</td>\n",
       "      <td>25.15</td>\n",
       "      <td>0.00</td>\n",
       "      <td>26</td>\n",
       "      <td>10000</td>\n",
       "      <td>7.03</td>\n",
       "      <td>71</td>\n",
       "      <td>9.21</td>\n",
       "      <td>[{'id': 802, 'main': 'Clouds', 'description': ...</td>\n",
       "      <td>0.45</td>\n",
       "      <td>NaN</td>\n",
       "    </tr>\n",
       "    <tr>\n",
       "      <th>1</th>\n",
       "      <td>1632520800</td>\n",
       "      <td>28.07</td>\n",
       "      <td>32.76</td>\n",
       "      <td>1016</td>\n",
       "      <td>83</td>\n",
       "      <td>24.91</td>\n",
       "      <td>0.00</td>\n",
       "      <td>27</td>\n",
       "      <td>10000</td>\n",
       "      <td>7.25</td>\n",
       "      <td>72</td>\n",
       "      <td>9.25</td>\n",
       "      <td>[{'id': 802, 'main': 'Clouds', 'description': ...</td>\n",
       "      <td>0.49</td>\n",
       "      <td>NaN</td>\n",
       "    </tr>\n",
       "    <tr>\n",
       "      <th>2</th>\n",
       "      <td>1632524400</td>\n",
       "      <td>27.86</td>\n",
       "      <td>32.20</td>\n",
       "      <td>1015</td>\n",
       "      <td>83</td>\n",
       "      <td>24.70</td>\n",
       "      <td>0.18</td>\n",
       "      <td>31</td>\n",
       "      <td>10000</td>\n",
       "      <td>7.03</td>\n",
       "      <td>70</td>\n",
       "      <td>9.38</td>\n",
       "      <td>[{'id': 802, 'main': 'Clouds', 'description': ...</td>\n",
       "      <td>0.49</td>\n",
       "      <td>NaN</td>\n",
       "    </tr>\n",
       "    <tr>\n",
       "      <th>3</th>\n",
       "      <td>1632528000</td>\n",
       "      <td>27.86</td>\n",
       "      <td>31.90</td>\n",
       "      <td>1015</td>\n",
       "      <td>81</td>\n",
       "      <td>24.30</td>\n",
       "      <td>1.05</td>\n",
       "      <td>38</td>\n",
       "      <td>10000</td>\n",
       "      <td>7.03</td>\n",
       "      <td>69</td>\n",
       "      <td>9.39</td>\n",
       "      <td>[{'id': 500, 'main': 'Rain', 'description': 'l...</td>\n",
       "      <td>0.49</td>\n",
       "      <td>{'1h': 0.18}</td>\n",
       "    </tr>\n",
       "    <tr>\n",
       "      <th>4</th>\n",
       "      <td>1632531600</td>\n",
       "      <td>28.08</td>\n",
       "      <td>32.14</td>\n",
       "      <td>1015</td>\n",
       "      <td>79</td>\n",
       "      <td>24.09</td>\n",
       "      <td>3.02</td>\n",
       "      <td>62</td>\n",
       "      <td>10000</td>\n",
       "      <td>7.20</td>\n",
       "      <td>71</td>\n",
       "      <td>9.05</td>\n",
       "      <td>[{'id': 500, 'main': 'Rain', 'description': 'l...</td>\n",
       "      <td>0.40</td>\n",
       "      <td>{'1h': 0.2}</td>\n",
       "    </tr>\n",
       "  </tbody>\n",
       "</table>\n",
       "</div>"
      ],
      "text/plain": [
       "           dt   temp  feels_like  pressure  humidity  dew_point   uvi  clouds  \\\n",
       "0  1632517200  28.32       33.45      1017        83      25.15  0.00      26   \n",
       "1  1632520800  28.07       32.76      1016        83      24.91  0.00      27   \n",
       "2  1632524400  27.86       32.20      1015        83      24.70  0.18      31   \n",
       "3  1632528000  27.86       31.90      1015        81      24.30  1.05      38   \n",
       "4  1632531600  28.08       32.14      1015        79      24.09  3.02      62   \n",
       "\n",
       "   visibility  wind_speed  wind_deg  wind_gust  \\\n",
       "0       10000        7.03        71       9.21   \n",
       "1       10000        7.25        72       9.25   \n",
       "2       10000        7.03        70       9.38   \n",
       "3       10000        7.03        69       9.39   \n",
       "4       10000        7.20        71       9.05   \n",
       "\n",
       "                                             weather   pop          rain  \n",
       "0  [{'id': 802, 'main': 'Clouds', 'description': ...  0.45           NaN  \n",
       "1  [{'id': 802, 'main': 'Clouds', 'description': ...  0.49           NaN  \n",
       "2  [{'id': 802, 'main': 'Clouds', 'description': ...  0.49           NaN  \n",
       "3  [{'id': 500, 'main': 'Rain', 'description': 'l...  0.49  {'1h': 0.18}  \n",
       "4  [{'id': 500, 'main': 'Rain', 'description': 'l...  0.40   {'1h': 0.2}  "
      ]
     },
     "execution_count": 10,
     "metadata": {},
     "output_type": "execute_result"
    }
   ],
   "source": [
    "df_hourly.head()"
   ]
  },
  {
   "cell_type": "code",
   "execution_count": null,
   "metadata": {},
   "outputs": [],
   "source": []
  }
 ],
 "metadata": {
  "interpreter": {
   "hash": "c1b4cfe941b6d2466ad1fb5979e97da9cda8801728c8091b097ab734208fc00c"
  },
  "kernelspec": {
   "display_name": "Python 3.8.3 64-bit ('base': conda)",
   "name": "python3"
  },
  "language_info": {
   "codemirror_mode": {
    "name": "ipython",
    "version": 3
   },
   "file_extension": ".py",
   "mimetype": "text/x-python",
   "name": "python",
   "nbconvert_exporter": "python",
   "pygments_lexer": "ipython3",
   "version": "3.8.12"
  }
 },
 "nbformat": 4,
 "nbformat_minor": 2
}
