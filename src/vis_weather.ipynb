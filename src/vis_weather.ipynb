{
 "cells": [
  {
   "cell_type": "code",
   "execution_count": 1,
   "metadata": {
    "execution": {
     "iopub.execute_input": "2021-08-29T10:16:49.067668Z",
     "iopub.status.busy": "2021-08-29T10:16:49.067006Z",
     "iopub.status.idle": "2021-08-29T10:16:50.192586Z",
     "shell.execute_reply": "2021-08-29T10:16:50.192069Z"
    }
   },
   "outputs": [],
   "source": [
    "import json, yaml, requests\r\n",
    "from datetime import datetime\r\n",
    "from dateutil import tz\r\n",
    "import pandas as pd\r\n",
    "from PIL import Image\r\n",
    "from io import BytesIO\r\n",
    "import matplotlib.pyplot as plt\r\n",
    "import seaborn\r\n",
    "\r\n",
    "CONFIG_PATH = \"../config/config.yaml\""
   ]
  },
  {
   "cell_type": "code",
   "execution_count": 2,
   "metadata": {
    "execution": {
     "iopub.execute_input": "2021-08-29T10:16:50.199333Z",
     "iopub.status.busy": "2021-08-29T10:16:50.196540Z",
     "iopub.status.idle": "2021-08-29T10:16:50.202009Z",
     "shell.execute_reply": "2021-08-29T10:16:50.202382Z"
    }
   },
   "outputs": [],
   "source": [
    "with open('../newest_ts', 'r') as f:\r\n",
    "    newest_ts = f.read()\r\n",
    "\r\n",
    "data_path = f\"../data/data_{newest_ts}.json\"\r\n",
    "with open(data_path, 'r') as f:\r\n",
    "    data = json.load(f)\r\n",
    "\r\n",
    "with open(CONFIG_PATH, \"r\") as stream:\r\n",
    "    config = yaml.safe_load(stream)\r\n",
    "\r\n",
    "TIME_ZONE = config['time_zone']\r\n",
    "DATETIME_FORMAT = config['dt_format']"
   ]
  },
  {
   "cell_type": "code",
   "execution_count": 3,
   "metadata": {
    "execution": {
     "iopub.execute_input": "2021-08-29T10:16:50.207261Z",
     "iopub.status.busy": "2021-08-29T10:16:50.205988Z",
     "iopub.status.idle": "2021-08-29T10:16:50.210349Z",
     "shell.execute_reply": "2021-08-29T10:16:50.210907Z"
    }
   },
   "outputs": [
    {
     "name": "stdout",
     "output_type": "stream",
     "text": [
      "Recent query happens at 2021-08-29 18:16:46 (CST).\n"
     ]
    }
   ],
   "source": [
    "def ts2dt(ts, format=DATETIME_FORMAT):\r\n",
    "    dt = (datetime.utcfromtimestamp(int(ts))\r\n",
    "                    .replace(tzinfo=tz.tzutc())\r\n",
    "                    # .astimezone(tz.tzlocal())\r\n",
    "                    .astimezone(tz.gettz(TIME_ZONE)))\r\n",
    "    return dt.strftime(format), dt\r\n",
    "\r\n",
    "_, newest_dt = ts2dt(newest_ts)\r\n",
    "print(f\"Recent query happens at {newest_dt.strftime(DATETIME_FORMAT)} ({newest_dt.tzname()}).\")"
   ]
  },
  {
   "cell_type": "code",
   "execution_count": 4,
   "metadata": {
    "execution": {
     "iopub.execute_input": "2021-08-29T10:16:50.215772Z",
     "iopub.status.busy": "2021-08-29T10:16:50.214544Z",
     "iopub.status.idle": "2021-08-29T10:16:50.216304Z",
     "shell.execute_reply": "2021-08-29T10:16:50.216701Z"
    }
   },
   "outputs": [],
   "source": [
    "def degrees_to_cardinal(d):\r\n",
    "  dirs = ['N', 'NNE', 'NE', 'ENE', 'E', 'ESE', 'SE', 'SSE', 'S', 'SSW', 'SW', 'WSW', 'W', 'WNW', 'NW', 'NNW']\r\n",
    "  ix = int(round(d / (360. / len(dirs))))\r\n",
    "  return dirs[ix % len(dirs)]"
   ]
  },
  {
   "cell_type": "code",
   "execution_count": 5,
   "metadata": {
    "execution": {
     "iopub.execute_input": "2021-08-29T10:16:50.220885Z",
     "iopub.status.busy": "2021-08-29T10:16:50.219524Z",
     "iopub.status.idle": "2021-08-29T10:16:50.221512Z",
     "shell.execute_reply": "2021-08-29T10:16:50.221904Z"
    }
   },
   "outputs": [],
   "source": [
    "# data.keys()"
   ]
  },
  {
   "cell_type": "code",
   "execution_count": 6,
   "metadata": {
    "execution": {
     "iopub.execute_input": "2021-08-29T10:16:50.225734Z",
     "iopub.status.busy": "2021-08-29T10:16:50.224537Z",
     "iopub.status.idle": "2021-08-29T10:16:50.226277Z",
     "shell.execute_reply": "2021-08-29T10:16:50.226669Z"
    }
   },
   "outputs": [],
   "source": [
    "# data['current']"
   ]
  },
  {
   "cell_type": "code",
   "execution_count": 7,
   "metadata": {
    "execution": {
     "iopub.execute_input": "2021-08-29T10:16:50.244673Z",
     "iopub.status.busy": "2021-08-29T10:16:50.244169Z",
     "iopub.status.idle": "2021-08-29T10:16:50.659932Z",
     "shell.execute_reply": "2021-08-29T10:16:50.660646Z"
    }
   },
   "outputs": [
    {
     "data": {
      "image/png": "[encoded data removed]",
      "text/plain": [
       "<Figure size 216x216 with 1 Axes>"
      ]
     },
     "metadata": {
      "needs_background": "light"
     },
     "output_type": "display_data"
    },
    {
     "name": "stdout",
     "output_type": "stream",
     "text": [
      "Today, sun rises at 06:04 and sets at 18:43.\n",
      "Currently, the weather is Clouds (overcast clouds).\n",
      "The temperature is 29.87°C and it feels like 36.46°C.\n",
      "The UV index is 0.22, humidity is 77%.\n",
      "The pressure is 1010 hPa, percentage of cloud cover is 97%\n",
      "The wind comes from E direction with a speed 4.07 m/s.\n"
     ]
    }
   ],
   "source": [
    "current = data['current']\r\n",
    "\r\n",
    "fig, ax = plt.subplots(figsize=(3, 3))\r\n",
    "icon = requests.get(f\"http://openweathermap.org/img/wn/{current['weather'][0]['icon']}@2x.png\")\r\n",
    "im = Image.open(BytesIO(icon.content))\r\n",
    "plt.imshow(im)\r\n",
    "ax.set_axis_off()\r\n",
    "plt.show()\r\n",
    "\r\n",
    "print(f\"Today, sun rises at {ts2dt(current['sunrise'], '%H:%M')[0]} \\\r\n",
    "and sets at {ts2dt(current['sunset'], '%H:%M')[0]}.\\n\\\r\n",
    "Currently, the weather is {current['weather'][0]['main']} ({current['weather'][0]['description']}).\\n\\\r\n",
    "The temperature is {current['temp']}°C and it feels like {current['feels_like']}°C.\\n\\\r\n",
    "The UV index is {current['uvi']}, humidity is {current['humidity']}%.\\n\\\r\n",
    "The pressure is {current['pressure']} hPa, percentage of cloud cover is {current['clouds']}%\\n\\\r\n",
    "The wind comes from {degrees_to_cardinal(current['wind_deg'])} direction with a speed {current['wind_speed']} m/s.\")"
   ]
  },
  {
   "cell_type": "code",
   "execution_count": 8,
   "metadata": {
    "execution": {
     "iopub.execute_input": "2021-08-29T10:16:50.663927Z",
     "iopub.status.busy": "2021-08-29T10:16:50.662939Z",
     "iopub.status.idle": "2021-08-29T10:16:50.670689Z",
     "shell.execute_reply": "2021-08-29T10:16:50.671388Z"
    }
   },
   "outputs": [],
   "source": [
    "df_hourly = pd.DataFrame(data['hourly'])\r\n",
    "df_daily = pd.DataFrame(data['daily'])"
   ]
  },
  {
   "cell_type": "code",
   "execution_count": 9,
   "metadata": {
    "execution": {
     "iopub.execute_input": "2021-08-29T10:16:50.674488Z",
     "iopub.status.busy": "2021-08-29T10:16:50.673504Z",
     "iopub.status.idle": "2021-08-29T10:16:50.950220Z",
     "shell.execute_reply": "2021-08-29T10:16:50.950597Z"
    }
   },
   "outputs": [
    {
     "data": {
      "image/png": "[encoded data removed]",
      "text/plain": [
       "<Figure size 864x432 with 1 Axes>"
      ]
     },
     "metadata": {
      "needs_background": "light"
     },
     "output_type": "display_data"
    }
   ],
   "source": [
    "fig, ax = plt.subplots(figsize=(12, 6))\r\n",
    "plt.plot(df_hourly.temp, '.-', label='Temperature')\r\n",
    "plt.plot(df_hourly.feels_like, '.-', label='Feels Like')\r\n",
    "ax.set(title='Temperature in future 48 hours', xlabel='Time', ylabel='Temperature')\r\n",
    "ax.set_xticks(list(range(0, len(df_hourly), 2)))\r\n",
    "ax.set_xticklabels([ts2dt(ts, '%m-%d %H:%M')[0] for i, ts in enumerate(df_hourly.dt) if i%2==0], \r\n",
    "                   rotation=45, ha=\"right\")\r\n",
    "ax.locator_params(nbins=15, axis='y')\r\n",
    "plt.legend()\r\n",
    "plt.show()"
   ]
  },
  {
   "cell_type": "code",
   "execution_count": 10,
   "metadata": {
    "execution": {
     "iopub.execute_input": "2021-08-29T10:16:50.954240Z",
     "iopub.status.busy": "2021-08-29T10:16:50.953771Z",
     "iopub.status.idle": "2021-08-29T10:16:50.970657Z",
     "shell.execute_reply": "2021-08-29T10:16:50.971067Z"
    }
   },
   "outputs": [
    {
     "data": {
      "text/html": [
       "<div>\n",
       "<style scoped>\n",
       "    .dataframe tbody tr th:only-of-type {\n",
       "        vertical-align: middle;\n",
       "    }\n",
       "\n",
       "    .dataframe tbody tr th {\n",
       "        vertical-align: top;\n",
       "    }\n",
       "\n",
       "    .dataframe thead th {\n",
       "        text-align: right;\n",
       "    }\n",
       "</style>\n",
       "<table border=\"1\" class=\"dataframe\">\n",
       "  <thead>\n",
       "    <tr style=\"text-align: right;\">\n",
       "      <th></th>\n",
       "      <th>dt</th>\n",
       "      <th>temp</th>\n",
       "      <th>feels_like</th>\n",
       "      <th>pressure</th>\n",
       "      <th>humidity</th>\n",
       "      <th>dew_point</th>\n",
       "      <th>uvi</th>\n",
       "      <th>clouds</th>\n",
       "      <th>visibility</th>\n",
       "      <th>wind_speed</th>\n",
       "      <th>wind_deg</th>\n",
       "      <th>wind_gust</th>\n",
       "      <th>weather</th>\n",
       "      <th>pop</th>\n",
       "      <th>rain</th>\n",
       "    </tr>\n",
       "  </thead>\n",
       "  <tbody>\n",
       "    <tr>\n",
       "      <th>0</th>\n",
       "      <td>1630231200</td>\n",
       "      <td>29.87</td>\n",
       "      <td>36.46</td>\n",
       "      <td>1010</td>\n",
       "      <td>77</td>\n",
       "      <td>25.40</td>\n",
       "      <td>0.22</td>\n",
       "      <td>97</td>\n",
       "      <td>10000</td>\n",
       "      <td>4.07</td>\n",
       "      <td>95</td>\n",
       "      <td>6.08</td>\n",
       "      <td>[{'id': 804, 'main': 'Clouds', 'description': ...</td>\n",
       "      <td>0.58</td>\n",
       "      <td>NaN</td>\n",
       "    </tr>\n",
       "    <tr>\n",
       "      <th>1</th>\n",
       "      <td>1630234800</td>\n",
       "      <td>29.56</td>\n",
       "      <td>35.84</td>\n",
       "      <td>1010</td>\n",
       "      <td>78</td>\n",
       "      <td>25.31</td>\n",
       "      <td>0.00</td>\n",
       "      <td>95</td>\n",
       "      <td>10000</td>\n",
       "      <td>4.11</td>\n",
       "      <td>98</td>\n",
       "      <td>6.09</td>\n",
       "      <td>[{'id': 501, 'main': 'Rain', 'description': 'm...</td>\n",
       "      <td>0.51</td>\n",
       "      <td>{'1h': 1.54}</td>\n",
       "    </tr>\n",
       "    <tr>\n",
       "      <th>2</th>\n",
       "      <td>1630238400</td>\n",
       "      <td>29.21</td>\n",
       "      <td>35.10</td>\n",
       "      <td>1010</td>\n",
       "      <td>79</td>\n",
       "      <td>25.19</td>\n",
       "      <td>0.00</td>\n",
       "      <td>93</td>\n",
       "      <td>10000</td>\n",
       "      <td>4.83</td>\n",
       "      <td>94</td>\n",
       "      <td>7.32</td>\n",
       "      <td>[{'id': 500, 'main': 'Rain', 'description': 'l...</td>\n",
       "      <td>0.43</td>\n",
       "      <td>{'1h': 0.18}</td>\n",
       "    </tr>\n",
       "    <tr>\n",
       "      <th>3</th>\n",
       "      <td>1630242000</td>\n",
       "      <td>28.85</td>\n",
       "      <td>34.33</td>\n",
       "      <td>1011</td>\n",
       "      <td>80</td>\n",
       "      <td>25.05</td>\n",
       "      <td>0.00</td>\n",
       "      <td>58</td>\n",
       "      <td>10000</td>\n",
       "      <td>5.54</td>\n",
       "      <td>92</td>\n",
       "      <td>8.12</td>\n",
       "      <td>[{'id': 803, 'main': 'Clouds', 'description': ...</td>\n",
       "      <td>0.05</td>\n",
       "      <td>NaN</td>\n",
       "    </tr>\n",
       "    <tr>\n",
       "      <th>4</th>\n",
       "      <td>1630245600</td>\n",
       "      <td>28.42</td>\n",
       "      <td>33.54</td>\n",
       "      <td>1012</td>\n",
       "      <td>82</td>\n",
       "      <td>25.05</td>\n",
       "      <td>0.00</td>\n",
       "      <td>45</td>\n",
       "      <td>10000</td>\n",
       "      <td>5.50</td>\n",
       "      <td>95</td>\n",
       "      <td>8.35</td>\n",
       "      <td>[{'id': 802, 'main': 'Clouds', 'description': ...</td>\n",
       "      <td>0.03</td>\n",
       "      <td>NaN</td>\n",
       "    </tr>\n",
       "  </tbody>\n",
       "</table>\n",
       "</div>"
      ],
      "text/plain": [
       "           dt   temp  feels_like  pressure  humidity  dew_point   uvi  clouds  \\\n",
       "0  1630231200  29.87       36.46      1010        77      25.40  0.22      97   \n",
       "1  1630234800  29.56       35.84      1010        78      25.31  0.00      95   \n",
       "2  1630238400  29.21       35.10      1010        79      25.19  0.00      93   \n",
       "3  1630242000  28.85       34.33      1011        80      25.05  0.00      58   \n",
       "4  1630245600  28.42       33.54      1012        82      25.05  0.00      45   \n",
       "\n",
       "   visibility  wind_speed  wind_deg  wind_gust  \\\n",
       "0       10000        4.07        95       6.08   \n",
       "1       10000        4.11        98       6.09   \n",
       "2       10000        4.83        94       7.32   \n",
       "3       10000        5.54        92       8.12   \n",
       "4       10000        5.50        95       8.35   \n",
       "\n",
       "                                             weather   pop          rain  \n",
       "0  [{'id': 804, 'main': 'Clouds', 'description': ...  0.58           NaN  \n",
       "1  [{'id': 501, 'main': 'Rain', 'description': 'm...  0.51  {'1h': 1.54}  \n",
       "2  [{'id': 500, 'main': 'Rain', 'description': 'l...  0.43  {'1h': 0.18}  \n",
       "3  [{'id': 803, 'main': 'Clouds', 'description': ...  0.05           NaN  \n",
       "4  [{'id': 802, 'main': 'Clouds', 'description': ...  0.03           NaN  "
      ]
     },
     "execution_count": 10,
     "metadata": {},
     "output_type": "execute_result"
    }
   ],
   "source": [
    "df_hourly.head()"
   ]
  },
  {
   "cell_type": "code",
   "execution_count": null,
   "metadata": {},
   "outputs": [],
   "source": []
  }
 ],
 "metadata": {
  "interpreter": {
   "hash": "c1b4cfe941b6d2466ad1fb5979e97da9cda8801728c8091b097ab734208fc00c"
  },
  "kernelspec": {
   "display_name": "Python 3.8.3 64-bit ('base': conda)",
   "name": "python3"
  },
  "language_info": {
   "codemirror_mode": {
    "name": "ipython",
    "version": 3
   },
   "file_extension": ".py",
   "mimetype": "text/x-python",
   "name": "python",
   "nbconvert_exporter": "python",
   "pygments_lexer": "ipython3",
   "version": "3.8.11"
  }
 },
 "nbformat": 4,
 "nbformat_minor": 2
}
