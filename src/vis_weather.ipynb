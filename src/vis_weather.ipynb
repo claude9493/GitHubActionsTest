{
 "cells": [
  {
   "cell_type": "code",
   "execution_count": 1,
   "metadata": {
    "execution": {
     "iopub.execute_input": "2021-09-07T03:16:18.620881Z",
     "iopub.status.busy": "2021-09-07T03:16:18.620221Z",
     "iopub.status.idle": "2021-09-07T03:16:20.220007Z",
     "shell.execute_reply": "2021-09-07T03:16:20.219230Z"
    }
   },
   "outputs": [],
   "source": [
    "import json, yaml, requests\r\n",
    "from datetime import datetime\r\n",
    "from dateutil import tz\r\n",
    "import pandas as pd\r\n",
    "from PIL import Image\r\n",
    "from io import BytesIO\r\n",
    "import matplotlib.pyplot as plt\r\n",
    "import seaborn\r\n",
    "\r\n",
    "CONFIG_PATH = \"../config/config.yaml\""
   ]
  },
  {
   "cell_type": "code",
   "execution_count": 2,
   "metadata": {
    "execution": {
     "iopub.execute_input": "2021-09-07T03:16:20.225446Z",
     "iopub.status.busy": "2021-09-07T03:16:20.224844Z",
     "iopub.status.idle": "2021-09-07T03:16:20.230653Z",
     "shell.execute_reply": "2021-09-07T03:16:20.230178Z"
    }
   },
   "outputs": [],
   "source": [
    "with open('../newest_ts', 'r') as f:\r\n",
    "    newest_ts = f.read()\r\n",
    "\r\n",
    "data_path = f\"../data/data_{newest_ts}.json\"\r\n",
    "with open(data_path, 'r') as f:\r\n",
    "    data = json.load(f)\r\n",
    "\r\n",
    "with open(CONFIG_PATH, \"r\") as stream:\r\n",
    "    config = yaml.safe_load(stream)\r\n",
    "\r\n",
    "TIME_ZONE = config['time_zone']\r\n",
    "DATETIME_FORMAT = config['dt_format']"
   ]
  },
  {
   "cell_type": "code",
   "execution_count": 3,
   "metadata": {
    "execution": {
     "iopub.execute_input": "2021-09-07T03:16:20.236578Z",
     "iopub.status.busy": "2021-09-07T03:16:20.235424Z",
     "iopub.status.idle": "2021-09-07T03:16:20.245517Z",
     "shell.execute_reply": "2021-09-07T03:16:20.246045Z"
    }
   },
   "outputs": [
    {
     "name": "stdout",
     "output_type": "stream",
     "text": [
      "Recent query happens at 2021-09-07 11:16:15 (CST).\n"
     ]
    }
   ],
   "source": [
    "def ts2dt(ts, format=DATETIME_FORMAT):\r\n",
    "    dt = (datetime.utcfromtimestamp(int(ts))\r\n",
    "                    .replace(tzinfo=tz.tzutc())\r\n",
    "                    # .astimezone(tz.tzlocal())\r\n",
    "                    .astimezone(tz.gettz(TIME_ZONE)))\r\n",
    "    return dt.strftime(format), dt\r\n",
    "\r\n",
    "_, newest_dt = ts2dt(newest_ts)\r\n",
    "print(f\"Recent query happens at {newest_dt.strftime(DATETIME_FORMAT)} ({newest_dt.tzname()}).\")"
   ]
  },
  {
   "cell_type": "code",
   "execution_count": 4,
   "metadata": {
    "execution": {
     "iopub.execute_input": "2021-09-07T03:16:20.250602Z",
     "iopub.status.busy": "2021-09-07T03:16:20.250076Z",
     "iopub.status.idle": "2021-09-07T03:16:20.252424Z",
     "shell.execute_reply": "2021-09-07T03:16:20.251958Z"
    }
   },
   "outputs": [],
   "source": [
    "def degrees_to_cardinal(d):\r\n",
    "  dirs = ['N', 'NNE', 'NE', 'ENE', 'E', 'ESE', 'SE', 'SSE', 'S', 'SSW', 'SW', 'WSW', 'W', 'WNW', 'NW', 'NNW']\r\n",
    "  ix = int(round(d / (360. / len(dirs))))\r\n",
    "  return dirs[ix % len(dirs)]"
   ]
  },
  {
   "cell_type": "code",
   "execution_count": 5,
   "metadata": {
    "execution": {
     "iopub.execute_input": "2021-09-07T03:16:20.257027Z",
     "iopub.status.busy": "2021-09-07T03:16:20.255608Z",
     "iopub.status.idle": "2021-09-07T03:16:20.257618Z",
     "shell.execute_reply": "2021-09-07T03:16:20.258046Z"
    }
   },
   "outputs": [],
   "source": [
    "# data.keys()"
   ]
  },
  {
   "cell_type": "code",
   "execution_count": 6,
   "metadata": {
    "execution": {
     "iopub.execute_input": "2021-09-07T03:16:20.262177Z",
     "iopub.status.busy": "2021-09-07T03:16:20.261024Z",
     "iopub.status.idle": "2021-09-07T03:16:20.262769Z",
     "shell.execute_reply": "2021-09-07T03:16:20.263210Z"
    }
   },
   "outputs": [],
   "source": [
    "# data['current']"
   ]
  },
  {
   "cell_type": "code",
   "execution_count": 7,
   "metadata": {
    "execution": {
     "iopub.execute_input": "2021-09-07T03:16:20.284052Z",
     "iopub.status.busy": "2021-09-07T03:16:20.281462Z",
     "iopub.status.idle": "2021-09-07T03:16:20.569597Z",
     "shell.execute_reply": "2021-09-07T03:16:20.570380Z"
    }
   },
   "outputs": [
    {
     "data": {
      "image/png": "[encoded data removed]",
      "text/plain": [
       "<Figure size 216x216 with 1 Axes>"
      ]
     },
     "metadata": {
      "needs_background": "light"
     },
     "output_type": "display_data"
    },
    {
     "name": "stdout",
     "output_type": "stream",
     "text": [
      "Today, sun rises at 06:07 and sets at 18:34.\n",
      "Currently, the weather is Clouds (scattered clouds).\n",
      "The temperature is 31.37°C and it feels like 38.37°C.\n",
      "The UV index is 9.76, humidity is 76%.\n",
      "The pressure is 1011 hPa, percentage of cloud cover is 50%\n",
      "The wind comes from ENE direction with a speed 6.16 m/s.\n"
     ]
    }
   ],
   "source": [
    "current = data['current']\r\n",
    "\r\n",
    "fig, ax = plt.subplots(figsize=(3, 3))\r\n",
    "icon = requests.get(f\"http://openweathermap.org/img/wn/{current['weather'][0]['icon']}@2x.png\")\r\n",
    "im = Image.open(BytesIO(icon.content))\r\n",
    "plt.imshow(im)\r\n",
    "ax.set_axis_off()\r\n",
    "plt.show()\r\n",
    "\r\n",
    "print(f\"Today, sun rises at {ts2dt(current['sunrise'], '%H:%M')[0]} \\\r\n",
    "and sets at {ts2dt(current['sunset'], '%H:%M')[0]}.\\n\\\r\n",
    "Currently, the weather is {current['weather'][0]['main']} ({current['weather'][0]['description']}).\\n\\\r\n",
    "The temperature is {current['temp']}°C and it feels like {current['feels_like']}°C.\\n\\\r\n",
    "The UV index is {current['uvi']}, humidity is {current['humidity']}%.\\n\\\r\n",
    "The pressure is {current['pressure']} hPa, percentage of cloud cover is {current['clouds']}%\\n\\\r\n",
    "The wind comes from {degrees_to_cardinal(current['wind_deg'])} direction with a speed {current['wind_speed']} m/s.\")"
   ]
  },
  {
   "cell_type": "code",
   "execution_count": 8,
   "metadata": {
    "execution": {
     "iopub.execute_input": "2021-09-07T03:16:20.576883Z",
     "iopub.status.busy": "2021-09-07T03:16:20.575273Z",
     "iopub.status.idle": "2021-09-07T03:16:20.581210Z",
     "shell.execute_reply": "2021-09-07T03:16:20.581968Z"
    }
   },
   "outputs": [],
   "source": [
    "df_hourly = pd.DataFrame(data['hourly'])\r\n",
    "df_daily = pd.DataFrame(data['daily'])"
   ]
  },
  {
   "cell_type": "code",
   "execution_count": 9,
   "metadata": {
    "execution": {
     "iopub.execute_input": "2021-09-07T03:16:20.598207Z",
     "iopub.status.busy": "2021-09-07T03:16:20.584385Z",
     "iopub.status.idle": "2021-09-07T03:16:20.887747Z",
     "shell.execute_reply": "2021-09-07T03:16:20.888494Z"
    }
   },
   "outputs": [
    {
     "data": {
      "image/png": "[encoded data removed]",
      "text/plain": [
       "<Figure size 864x432 with 1 Axes>"
      ]
     },
     "metadata": {
      "needs_background": "light"
     },
     "output_type": "display_data"
    }
   ],
   "source": [
    "fig, ax = plt.subplots(figsize=(12, 6))\r\n",
    "plt.plot(df_hourly.temp, '.-', label='Temperature')\r\n",
    "plt.plot(df_hourly.feels_like, '.-', label='Feels Like')\r\n",
    "ax.set(title='Temperature in future 48 hours', xlabel='Time', ylabel='Temperature')\r\n",
    "ax.set_xticks(list(range(0, len(df_hourly), 2)))\r\n",
    "ax.set_xticklabels([ts2dt(ts, '%m-%d %H:%M')[0] for i, ts in enumerate(df_hourly.dt) if i%2==0], \r\n",
    "                   rotation=45, ha=\"right\")\r\n",
    "ax.locator_params(nbins=15, axis='y')\r\n",
    "plt.legend()\r\n",
    "plt.show()"
   ]
  },
  {
   "cell_type": "code",
   "execution_count": 10,
   "metadata": {
    "execution": {
     "iopub.execute_input": "2021-09-07T03:16:20.893530Z",
     "iopub.status.busy": "2021-09-07T03:16:20.892995Z",
     "iopub.status.idle": "2021-09-07T03:16:20.914298Z",
     "shell.execute_reply": "2021-09-07T03:16:20.913820Z"
    }
   },
   "outputs": [
    {
     "data": {
      "text/html": [
       "<div>\n",
       "<style scoped>\n",
       "    .dataframe tbody tr th:only-of-type {\n",
       "        vertical-align: middle;\n",
       "    }\n",
       "\n",
       "    .dataframe tbody tr th {\n",
       "        vertical-align: top;\n",
       "    }\n",
       "\n",
       "    .dataframe thead th {\n",
       "        text-align: right;\n",
       "    }\n",
       "</style>\n",
       "<table border=\"1\" class=\"dataframe\">\n",
       "  <thead>\n",
       "    <tr style=\"text-align: right;\">\n",
       "      <th></th>\n",
       "      <th>dt</th>\n",
       "      <th>temp</th>\n",
       "      <th>feels_like</th>\n",
       "      <th>pressure</th>\n",
       "      <th>humidity</th>\n",
       "      <th>dew_point</th>\n",
       "      <th>uvi</th>\n",
       "      <th>clouds</th>\n",
       "      <th>visibility</th>\n",
       "      <th>wind_speed</th>\n",
       "      <th>wind_deg</th>\n",
       "      <th>wind_gust</th>\n",
       "      <th>weather</th>\n",
       "      <th>pop</th>\n",
       "      <th>rain</th>\n",
       "    </tr>\n",
       "  </thead>\n",
       "  <tbody>\n",
       "    <tr>\n",
       "      <th>0</th>\n",
       "      <td>1630983600</td>\n",
       "      <td>31.37</td>\n",
       "      <td>38.37</td>\n",
       "      <td>1011</td>\n",
       "      <td>76</td>\n",
       "      <td>26.63</td>\n",
       "      <td>9.76</td>\n",
       "      <td>50</td>\n",
       "      <td>10000</td>\n",
       "      <td>6.16</td>\n",
       "      <td>75</td>\n",
       "      <td>7.20</td>\n",
       "      <td>[{'id': 500, 'main': 'Rain', 'description': 'l...</td>\n",
       "      <td>0.57</td>\n",
       "      <td>{'1h': 0.13}</td>\n",
       "    </tr>\n",
       "    <tr>\n",
       "      <th>1</th>\n",
       "      <td>1630987200</td>\n",
       "      <td>31.05</td>\n",
       "      <td>38.05</td>\n",
       "      <td>1011</td>\n",
       "      <td>75</td>\n",
       "      <td>26.09</td>\n",
       "      <td>11.19</td>\n",
       "      <td>48</td>\n",
       "      <td>10000</td>\n",
       "      <td>5.87</td>\n",
       "      <td>82</td>\n",
       "      <td>6.82</td>\n",
       "      <td>[{'id': 802, 'main': 'Clouds', 'description': ...</td>\n",
       "      <td>0.61</td>\n",
       "      <td>NaN</td>\n",
       "    </tr>\n",
       "    <tr>\n",
       "      <th>2</th>\n",
       "      <td>1630990800</td>\n",
       "      <td>30.77</td>\n",
       "      <td>37.77</td>\n",
       "      <td>1011</td>\n",
       "      <td>74</td>\n",
       "      <td>25.60</td>\n",
       "      <td>11.01</td>\n",
       "      <td>44</td>\n",
       "      <td>10000</td>\n",
       "      <td>5.52</td>\n",
       "      <td>89</td>\n",
       "      <td>6.48</td>\n",
       "      <td>[{'id': 500, 'main': 'Rain', 'description': 'l...</td>\n",
       "      <td>0.61</td>\n",
       "      <td>{'1h': 0.1}</td>\n",
       "    </tr>\n",
       "    <tr>\n",
       "      <th>3</th>\n",
       "      <td>1630994400</td>\n",
       "      <td>30.56</td>\n",
       "      <td>37.29</td>\n",
       "      <td>1010</td>\n",
       "      <td>73</td>\n",
       "      <td>25.17</td>\n",
       "      <td>9.09</td>\n",
       "      <td>39</td>\n",
       "      <td>10000</td>\n",
       "      <td>5.13</td>\n",
       "      <td>93</td>\n",
       "      <td>6.07</td>\n",
       "      <td>[{'id': 802, 'main': 'Clouds', 'description': ...</td>\n",
       "      <td>0.57</td>\n",
       "      <td>NaN</td>\n",
       "    </tr>\n",
       "    <tr>\n",
       "      <th>4</th>\n",
       "      <td>1630998000</td>\n",
       "      <td>30.16</td>\n",
       "      <td>35.94</td>\n",
       "      <td>1009</td>\n",
       "      <td>72</td>\n",
       "      <td>24.55</td>\n",
       "      <td>6.16</td>\n",
       "      <td>17</td>\n",
       "      <td>10000</td>\n",
       "      <td>4.87</td>\n",
       "      <td>98</td>\n",
       "      <td>5.84</td>\n",
       "      <td>[{'id': 801, 'main': 'Clouds', 'description': ...</td>\n",
       "      <td>0.44</td>\n",
       "      <td>NaN</td>\n",
       "    </tr>\n",
       "  </tbody>\n",
       "</table>\n",
       "</div>"
      ],
      "text/plain": [
       "           dt   temp  feels_like  pressure  humidity  dew_point    uvi  \\\n",
       "0  1630983600  31.37       38.37      1011        76      26.63   9.76   \n",
       "1  1630987200  31.05       38.05      1011        75      26.09  11.19   \n",
       "2  1630990800  30.77       37.77      1011        74      25.60  11.01   \n",
       "3  1630994400  30.56       37.29      1010        73      25.17   9.09   \n",
       "4  1630998000  30.16       35.94      1009        72      24.55   6.16   \n",
       "\n",
       "   clouds  visibility  wind_speed  wind_deg  wind_gust  \\\n",
       "0      50       10000        6.16        75       7.20   \n",
       "1      48       10000        5.87        82       6.82   \n",
       "2      44       10000        5.52        89       6.48   \n",
       "3      39       10000        5.13        93       6.07   \n",
       "4      17       10000        4.87        98       5.84   \n",
       "\n",
       "                                             weather   pop          rain  \n",
       "0  [{'id': 500, 'main': 'Rain', 'description': 'l...  0.57  {'1h': 0.13}  \n",
       "1  [{'id': 802, 'main': 'Clouds', 'description': ...  0.61           NaN  \n",
       "2  [{'id': 500, 'main': 'Rain', 'description': 'l...  0.61   {'1h': 0.1}  \n",
       "3  [{'id': 802, 'main': 'Clouds', 'description': ...  0.57           NaN  \n",
       "4  [{'id': 801, 'main': 'Clouds', 'description': ...  0.44           NaN  "
      ]
     },
     "execution_count": 10,
     "metadata": {},
     "output_type": "execute_result"
    }
   ],
   "source": [
    "df_hourly.head()"
   ]
  },
  {
   "cell_type": "code",
   "execution_count": null,
   "metadata": {},
   "outputs": [],
   "source": []
  }
 ],
 "metadata": {
  "interpreter": {
   "hash": "c1b4cfe941b6d2466ad1fb5979e97da9cda8801728c8091b097ab734208fc00c"
  },
  "kernelspec": {
   "display_name": "Python 3.8.3 64-bit ('base': conda)",
   "name": "python3"
  },
  "language_info": {
   "codemirror_mode": {
    "name": "ipython",
    "version": 3
   },
   "file_extension": ".py",
   "mimetype": "text/x-python",
   "name": "python",
   "nbconvert_exporter": "python",
   "pygments_lexer": "ipython3",
   "version": "3.8.11"
  }
 },
 "nbformat": 4,
 "nbformat_minor": 2
}
