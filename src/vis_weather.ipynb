{
 "cells": [
  {
   "cell_type": "code",
   "execution_count": 1,
   "metadata": {
    "execution": {
     "iopub.execute_input": "2021-09-18T05:10:16.067857Z",
     "iopub.status.busy": "2021-09-18T05:10:16.067211Z",
     "iopub.status.idle": "2021-09-18T05:10:19.442297Z",
     "shell.execute_reply": "2021-09-18T05:10:19.442830Z"
    }
   },
   "outputs": [],
   "source": [
    "import json, yaml, requests\r\n",
    "from datetime import datetime\r\n",
    "from dateutil import tz\r\n",
    "import pandas as pd\r\n",
    "from PIL import Image\r\n",
    "from io import BytesIO\r\n",
    "import matplotlib.pyplot as plt\r\n",
    "import seaborn\r\n",
    "\r\n",
    "CONFIG_PATH = \"../config/config.yaml\""
   ]
  },
  {
   "cell_type": "code",
   "execution_count": 2,
   "metadata": {
    "execution": {
     "iopub.execute_input": "2021-09-18T05:10:19.450910Z",
     "iopub.status.busy": "2021-09-18T05:10:19.450244Z",
     "iopub.status.idle": "2021-09-18T05:10:19.455887Z",
     "shell.execute_reply": "2021-09-18T05:10:19.456436Z"
    }
   },
   "outputs": [],
   "source": [
    "with open('../newest_ts', 'r') as f:\r\n",
    "    newest_ts = f.read()\r\n",
    "\r\n",
    "data_path = f\"../data/data_{newest_ts}.json\"\r\n",
    "with open(data_path, 'r') as f:\r\n",
    "    data = json.load(f)\r\n",
    "\r\n",
    "with open(CONFIG_PATH, \"r\") as stream:\r\n",
    "    config = yaml.safe_load(stream)\r\n",
    "\r\n",
    "TIME_ZONE = config['time_zone']\r\n",
    "DATETIME_FORMAT = config['dt_format']"
   ]
  },
  {
   "cell_type": "code",
   "execution_count": 3,
   "metadata": {
    "execution": {
     "iopub.execute_input": "2021-09-18T05:10:19.463477Z",
     "iopub.status.busy": "2021-09-18T05:10:19.461507Z",
     "iopub.status.idle": "2021-09-18T05:10:19.466885Z",
     "shell.execute_reply": "2021-09-18T05:10:19.467392Z"
    }
   },
   "outputs": [
    {
     "name": "stdout",
     "output_type": "stream",
     "text": [
      "Recent query happens at 2021-09-18 13:10:12 (CST).\n"
     ]
    }
   ],
   "source": [
    "def ts2dt(ts, format=DATETIME_FORMAT):\r\n",
    "    dt = (datetime.utcfromtimestamp(int(ts))\r\n",
    "                    .replace(tzinfo=tz.tzutc())\r\n",
    "                    # .astimezone(tz.tzlocal())\r\n",
    "                    .astimezone(tz.gettz(TIME_ZONE)))\r\n",
    "    return dt.strftime(format), dt\r\n",
    "\r\n",
    "_, newest_dt = ts2dt(newest_ts)\r\n",
    "print(f\"Recent query happens at {newest_dt.strftime(DATETIME_FORMAT)} ({newest_dt.tzname()}).\")"
   ]
  },
  {
   "cell_type": "code",
   "execution_count": 4,
   "metadata": {
    "execution": {
     "iopub.execute_input": "2021-09-18T05:10:19.472805Z",
     "iopub.status.busy": "2021-09-18T05:10:19.472178Z",
     "iopub.status.idle": "2021-09-18T05:10:19.474113Z",
     "shell.execute_reply": "2021-09-18T05:10:19.474613Z"
    }
   },
   "outputs": [],
   "source": [
    "def degrees_to_cardinal(d):\r\n",
    "  dirs = ['N', 'NNE', 'NE', 'ENE', 'E', 'ESE', 'SE', 'SSE', 'S', 'SSW', 'SW', 'WSW', 'W', 'WNW', 'NW', 'NNW']\r\n",
    "  ix = int(round(d / (360. / len(dirs))))\r\n",
    "  return dirs[ix % len(dirs)]"
   ]
  },
  {
   "cell_type": "code",
   "execution_count": 5,
   "metadata": {
    "execution": {
     "iopub.execute_input": "2021-09-18T05:10:19.480167Z",
     "iopub.status.busy": "2021-09-18T05:10:19.478574Z",
     "iopub.status.idle": "2021-09-18T05:10:19.480840Z",
     "shell.execute_reply": "2021-09-18T05:10:19.481351Z"
    }
   },
   "outputs": [],
   "source": [
    "# data.keys()"
   ]
  },
  {
   "cell_type": "code",
   "execution_count": 6,
   "metadata": {
    "execution": {
     "iopub.execute_input": "2021-09-18T05:10:19.486335Z",
     "iopub.status.busy": "2021-09-18T05:10:19.484905Z",
     "iopub.status.idle": "2021-09-18T05:10:19.487071Z",
     "shell.execute_reply": "2021-09-18T05:10:19.487561Z"
    }
   },
   "outputs": [],
   "source": [
    "# data['current']"
   ]
  },
  {
   "cell_type": "code",
   "execution_count": 7,
   "metadata": {
    "execution": {
     "iopub.execute_input": "2021-09-18T05:10:19.519604Z",
     "iopub.status.busy": "2021-09-18T05:10:19.511049Z",
     "iopub.status.idle": "2021-09-18T05:10:19.927316Z",
     "shell.execute_reply": "2021-09-18T05:10:19.927900Z"
    }
   },
   "outputs": [
    {
     "data": {
      "image/png": "[encoded data removed]",
      "text/plain": [
       "<Figure size 216x216 with 1 Axes>"
      ]
     },
     "metadata": {
      "needs_background": "light"
     },
     "output_type": "display_data"
    },
    {
     "name": "stdout",
     "output_type": "stream",
     "text": [
      "Today, sun rises at 06:10 and sets at 18:24.\n",
      "Currently, the weather is Clouds (overcast clouds).\n",
      "The temperature is 31.57°C and it feels like 38.57°C.\n",
      "The UV index is 8.82, humidity is 74%.\n",
      "The pressure is 1011 hPa, percentage of cloud cover is 90%\n",
      "The wind comes from E direction with a speed 5.67 m/s.\n"
     ]
    }
   ],
   "source": [
    "current = data['current']\r\n",
    "\r\n",
    "fig, ax = plt.subplots(figsize=(3, 3))\r\n",
    "icon = requests.get(f\"http://openweathermap.org/img/wn/{current['weather'][0]['icon']}@2x.png\")\r\n",
    "im = Image.open(BytesIO(icon.content))\r\n",
    "plt.imshow(im)\r\n",
    "ax.set_axis_off()\r\n",
    "plt.show()\r\n",
    "\r\n",
    "print(f\"Today, sun rises at {ts2dt(current['sunrise'], '%H:%M')[0]} \\\r\n",
    "and sets at {ts2dt(current['sunset'], '%H:%M')[0]}.\\n\\\r\n",
    "Currently, the weather is {current['weather'][0]['main']} ({current['weather'][0]['description']}).\\n\\\r\n",
    "The temperature is {current['temp']}°C and it feels like {current['feels_like']}°C.\\n\\\r\n",
    "The UV index is {current['uvi']}, humidity is {current['humidity']}%.\\n\\\r\n",
    "The pressure is {current['pressure']} hPa, percentage of cloud cover is {current['clouds']}%\\n\\\r\n",
    "The wind comes from {degrees_to_cardinal(current['wind_deg'])} direction with a speed {current['wind_speed']} m/s.\")"
   ]
  },
  {
   "cell_type": "code",
   "execution_count": 8,
   "metadata": {
    "execution": {
     "iopub.execute_input": "2021-09-18T05:10:19.934273Z",
     "iopub.status.busy": "2021-09-18T05:10:19.933391Z",
     "iopub.status.idle": "2021-09-18T05:10:19.937901Z",
     "shell.execute_reply": "2021-09-18T05:10:19.938492Z"
    }
   },
   "outputs": [],
   "source": [
    "df_hourly = pd.DataFrame(data['hourly'])\r\n",
    "df_daily = pd.DataFrame(data['daily'])"
   ]
  },
  {
   "cell_type": "code",
   "execution_count": 9,
   "metadata": {
    "execution": {
     "iopub.execute_input": "2021-09-18T05:10:19.941632Z",
     "iopub.status.busy": "2021-09-18T05:10:19.940945Z",
     "iopub.status.idle": "2021-09-18T05:10:20.309423Z",
     "shell.execute_reply": "2021-09-18T05:10:20.310083Z"
    }
   },
   "outputs": [
    {
     "data": {
      "image/png": "[encoded data removed]",
      "text/plain": [
       "<Figure size 864x432 with 1 Axes>"
      ]
     },
     "metadata": {
      "needs_background": "light"
     },
     "output_type": "display_data"
    }
   ],
   "source": [
    "fig, ax = plt.subplots(figsize=(12, 6))\r\n",
    "plt.plot(df_hourly.temp, '.-', label='Temperature')\r\n",
    "plt.plot(df_hourly.feels_like, '.-', label='Feels Like')\r\n",
    "ax.set(title='Temperature in future 48 hours', xlabel='Time', ylabel='Temperature')\r\n",
    "ax.set_xticks(list(range(0, len(df_hourly), 2)))\r\n",
    "ax.set_xticklabels([ts2dt(ts, '%m-%d %H:%M')[0] for i, ts in enumerate(df_hourly.dt) if i%2==0], \r\n",
    "                   rotation=45, ha=\"right\")\r\n",
    "ax.locator_params(nbins=15, axis='y')\r\n",
    "plt.legend()\r\n",
    "plt.show()"
   ]
  },
  {
   "cell_type": "code",
   "execution_count": 10,
   "metadata": {
    "execution": {
     "iopub.execute_input": "2021-09-18T05:10:20.314994Z",
     "iopub.status.busy": "2021-09-18T05:10:20.312815Z",
     "iopub.status.idle": "2021-09-18T05:10:20.341466Z",
     "shell.execute_reply": "2021-09-18T05:10:20.341960Z"
    }
   },
   "outputs": [
    {
     "data": {
      "text/html": [
       "<div>\n",
       "<style scoped>\n",
       "    .dataframe tbody tr th:only-of-type {\n",
       "        vertical-align: middle;\n",
       "    }\n",
       "\n",
       "    .dataframe tbody tr th {\n",
       "        vertical-align: top;\n",
       "    }\n",
       "\n",
       "    .dataframe thead th {\n",
       "        text-align: right;\n",
       "    }\n",
       "</style>\n",
       "<table border=\"1\" class=\"dataframe\">\n",
       "  <thead>\n",
       "    <tr style=\"text-align: right;\">\n",
       "      <th></th>\n",
       "      <th>dt</th>\n",
       "      <th>temp</th>\n",
       "      <th>feels_like</th>\n",
       "      <th>pressure</th>\n",
       "      <th>humidity</th>\n",
       "      <th>dew_point</th>\n",
       "      <th>uvi</th>\n",
       "      <th>clouds</th>\n",
       "      <th>visibility</th>\n",
       "      <th>wind_speed</th>\n",
       "      <th>wind_deg</th>\n",
       "      <th>wind_gust</th>\n",
       "      <th>weather</th>\n",
       "      <th>pop</th>\n",
       "      <th>rain</th>\n",
       "    </tr>\n",
       "  </thead>\n",
       "  <tbody>\n",
       "    <tr>\n",
       "      <th>0</th>\n",
       "      <td>1631941200</td>\n",
       "      <td>31.57</td>\n",
       "      <td>38.57</td>\n",
       "      <td>1011</td>\n",
       "      <td>74</td>\n",
       "      <td>26.37</td>\n",
       "      <td>8.82</td>\n",
       "      <td>90</td>\n",
       "      <td>10000</td>\n",
       "      <td>5.67</td>\n",
       "      <td>90</td>\n",
       "      <td>5.75</td>\n",
       "      <td>[{'id': 804, 'main': 'Clouds', 'description': ...</td>\n",
       "      <td>0.64</td>\n",
       "      <td>NaN</td>\n",
       "    </tr>\n",
       "    <tr>\n",
       "      <th>1</th>\n",
       "      <td>1631944800</td>\n",
       "      <td>31.19</td>\n",
       "      <td>38.19</td>\n",
       "      <td>1011</td>\n",
       "      <td>73</td>\n",
       "      <td>25.77</td>\n",
       "      <td>7.24</td>\n",
       "      <td>90</td>\n",
       "      <td>10000</td>\n",
       "      <td>5.90</td>\n",
       "      <td>92</td>\n",
       "      <td>6.02</td>\n",
       "      <td>[{'id': 500, 'main': 'Rain', 'description': 'l...</td>\n",
       "      <td>0.59</td>\n",
       "      <td>{'1h': 0.13}</td>\n",
       "    </tr>\n",
       "    <tr>\n",
       "      <th>2</th>\n",
       "      <td>1631948400</td>\n",
       "      <td>30.68</td>\n",
       "      <td>37.68</td>\n",
       "      <td>1011</td>\n",
       "      <td>75</td>\n",
       "      <td>25.74</td>\n",
       "      <td>4.85</td>\n",
       "      <td>94</td>\n",
       "      <td>10000</td>\n",
       "      <td>5.42</td>\n",
       "      <td>96</td>\n",
       "      <td>5.97</td>\n",
       "      <td>[{'id': 500, 'main': 'Rain', 'description': 'l...</td>\n",
       "      <td>0.37</td>\n",
       "      <td>{'1h': 0.13}</td>\n",
       "    </tr>\n",
       "    <tr>\n",
       "      <th>3</th>\n",
       "      <td>1631952000</td>\n",
       "      <td>30.17</td>\n",
       "      <td>36.77</td>\n",
       "      <td>1010</td>\n",
       "      <td>75</td>\n",
       "      <td>25.24</td>\n",
       "      <td>2.45</td>\n",
       "      <td>96</td>\n",
       "      <td>10000</td>\n",
       "      <td>5.15</td>\n",
       "      <td>99</td>\n",
       "      <td>6.16</td>\n",
       "      <td>[{'id': 804, 'main': 'Clouds', 'description': ...</td>\n",
       "      <td>0.24</td>\n",
       "      <td>NaN</td>\n",
       "    </tr>\n",
       "    <tr>\n",
       "      <th>4</th>\n",
       "      <td>1631955600</td>\n",
       "      <td>29.53</td>\n",
       "      <td>35.76</td>\n",
       "      <td>1010</td>\n",
       "      <td>78</td>\n",
       "      <td>25.29</td>\n",
       "      <td>0.79</td>\n",
       "      <td>98</td>\n",
       "      <td>10000</td>\n",
       "      <td>5.15</td>\n",
       "      <td>104</td>\n",
       "      <td>6.32</td>\n",
       "      <td>[{'id': 804, 'main': 'Clouds', 'description': ...</td>\n",
       "      <td>0.30</td>\n",
       "      <td>NaN</td>\n",
       "    </tr>\n",
       "  </tbody>\n",
       "</table>\n",
       "</div>"
      ],
      "text/plain": [
       "           dt   temp  feels_like  pressure  humidity  dew_point   uvi  clouds  \\\n",
       "0  1631941200  31.57       38.57      1011        74      26.37  8.82      90   \n",
       "1  1631944800  31.19       38.19      1011        73      25.77  7.24      90   \n",
       "2  1631948400  30.68       37.68      1011        75      25.74  4.85      94   \n",
       "3  1631952000  30.17       36.77      1010        75      25.24  2.45      96   \n",
       "4  1631955600  29.53       35.76      1010        78      25.29  0.79      98   \n",
       "\n",
       "   visibility  wind_speed  wind_deg  wind_gust  \\\n",
       "0       10000        5.67        90       5.75   \n",
       "1       10000        5.90        92       6.02   \n",
       "2       10000        5.42        96       5.97   \n",
       "3       10000        5.15        99       6.16   \n",
       "4       10000        5.15       104       6.32   \n",
       "\n",
       "                                             weather   pop          rain  \n",
       "0  [{'id': 804, 'main': 'Clouds', 'description': ...  0.64           NaN  \n",
       "1  [{'id': 500, 'main': 'Rain', 'description': 'l...  0.59  {'1h': 0.13}  \n",
       "2  [{'id': 500, 'main': 'Rain', 'description': 'l...  0.37  {'1h': 0.13}  \n",
       "3  [{'id': 804, 'main': 'Clouds', 'description': ...  0.24           NaN  \n",
       "4  [{'id': 804, 'main': 'Clouds', 'description': ...  0.30           NaN  "
      ]
     },
     "execution_count": 10,
     "metadata": {},
     "output_type": "execute_result"
    }
   ],
   "source": [
    "df_hourly.head()"
   ]
  },
  {
   "cell_type": "code",
   "execution_count": null,
   "metadata": {},
   "outputs": [],
   "source": []
  }
 ],
 "metadata": {
  "interpreter": {
   "hash": "c1b4cfe941b6d2466ad1fb5979e97da9cda8801728c8091b097ab734208fc00c"
  },
  "kernelspec": {
   "display_name": "Python 3.8.3 64-bit ('base': conda)",
   "name": "python3"
  },
  "language_info": {
   "codemirror_mode": {
    "name": "ipython",
    "version": 3
   },
   "file_extension": ".py",
   "mimetype": "text/x-python",
   "name": "python",
   "nbconvert_exporter": "python",
   "pygments_lexer": "ipython3",
   "version": "3.8.11"
  }
 },
 "nbformat": 4,
 "nbformat_minor": 2
}
