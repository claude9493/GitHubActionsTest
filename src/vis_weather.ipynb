{
 "cells": [
  {
   "cell_type": "code",
   "execution_count": 1,
   "metadata": {
    "execution": {
     "iopub.execute_input": "2021-10-08T00:42:34.103831Z",
     "iopub.status.busy": "2021-10-08T00:42:34.103257Z",
     "iopub.status.idle": "2021-10-08T00:42:36.924008Z",
     "shell.execute_reply": "2021-10-08T00:42:36.923016Z"
    }
   },
   "outputs": [],
   "source": [
    "import json, yaml, requests\r\n",
    "from datetime import datetime\r\n",
    "from dateutil import tz\r\n",
    "import pandas as pd\r\n",
    "from PIL import Image\r\n",
    "from io import BytesIO\r\n",
    "import matplotlib.pyplot as plt\r\n",
    "import seaborn\r\n",
    "\r\n",
    "CONFIG_PATH = \"../config/config.yaml\""
   ]
  },
  {
   "cell_type": "code",
   "execution_count": 2,
   "metadata": {
    "execution": {
     "iopub.execute_input": "2021-10-08T00:42:36.929165Z",
     "iopub.status.busy": "2021-10-08T00:42:36.928686Z",
     "iopub.status.idle": "2021-10-08T00:42:36.934451Z",
     "shell.execute_reply": "2021-10-08T00:42:36.933806Z"
    }
   },
   "outputs": [],
   "source": [
    "with open('../newest_ts', 'r') as f:\r\n",
    "    newest_ts = f.read()\r\n",
    "\r\n",
    "data_path = f\"../data/data_{newest_ts}.json\"\r\n",
    "with open(data_path, 'r') as f:\r\n",
    "    data = json.load(f)\r\n",
    "\r\n",
    "with open(CONFIG_PATH, \"r\") as stream:\r\n",
    "    config = yaml.safe_load(stream)\r\n",
    "\r\n",
    "TIME_ZONE = config['time_zone']\r\n",
    "DATETIME_FORMAT = config['dt_format']"
   ]
  },
  {
   "cell_type": "code",
   "execution_count": 3,
   "metadata": {
    "execution": {
     "iopub.execute_input": "2021-10-08T00:42:36.938617Z",
     "iopub.status.busy": "2021-10-08T00:42:36.938162Z",
     "iopub.status.idle": "2021-10-08T00:42:36.947721Z",
     "shell.execute_reply": "2021-10-08T00:42:36.948095Z"
    }
   },
   "outputs": [
    {
     "name": "stdout",
     "output_type": "stream",
     "text": [
      "Recent query happens at 2021-10-08 08:42:31 (CST).\n"
     ]
    }
   ],
   "source": [
    "def ts2dt(ts, format=DATETIME_FORMAT):\r\n",
    "    dt = (datetime.utcfromtimestamp(int(ts))\r\n",
    "                    .replace(tzinfo=tz.tzutc())\r\n",
    "                    # .astimezone(tz.tzlocal())\r\n",
    "                    .astimezone(tz.gettz(TIME_ZONE)))\r\n",
    "    return dt.strftime(format), dt\r\n",
    "\r\n",
    "_, newest_dt = ts2dt(newest_ts)\r\n",
    "print(f\"Recent query happens at {newest_dt.strftime(DATETIME_FORMAT)} ({newest_dt.tzname()}).\")"
   ]
  },
  {
   "cell_type": "code",
   "execution_count": 4,
   "metadata": {
    "execution": {
     "iopub.execute_input": "2021-10-08T00:42:36.952972Z",
     "iopub.status.busy": "2021-10-08T00:42:36.951835Z",
     "iopub.status.idle": "2021-10-08T00:42:36.953503Z",
     "shell.execute_reply": "2021-10-08T00:42:36.953867Z"
    }
   },
   "outputs": [],
   "source": [
    "def degrees_to_cardinal(d):\r\n",
    "  dirs = ['N', 'NNE', 'NE', 'ENE', 'E', 'ESE', 'SE', 'SSE', 'S', 'SSW', 'SW', 'WSW', 'W', 'WNW', 'NW', 'NNW']\r\n",
    "  ix = int(round(d / (360. / len(dirs))))\r\n",
    "  return dirs[ix % len(dirs)]"
   ]
  },
  {
   "cell_type": "code",
   "execution_count": 5,
   "metadata": {
    "execution": {
     "iopub.execute_input": "2021-10-08T00:42:36.957809Z",
     "iopub.status.busy": "2021-10-08T00:42:36.956756Z",
     "iopub.status.idle": "2021-10-08T00:42:36.958424Z",
     "shell.execute_reply": "2021-10-08T00:42:36.958790Z"
    }
   },
   "outputs": [],
   "source": [
    "# data.keys()"
   ]
  },
  {
   "cell_type": "code",
   "execution_count": 6,
   "metadata": {
    "execution": {
     "iopub.execute_input": "2021-10-08T00:42:36.962608Z",
     "iopub.status.busy": "2021-10-08T00:42:36.961516Z",
     "iopub.status.idle": "2021-10-08T00:42:36.963127Z",
     "shell.execute_reply": "2021-10-08T00:42:36.963518Z"
    }
   },
   "outputs": [],
   "source": [
    "# data['current']"
   ]
  },
  {
   "cell_type": "code",
   "execution_count": 7,
   "metadata": {
    "execution": {
     "iopub.execute_input": "2021-10-08T00:42:36.979696Z",
     "iopub.status.busy": "2021-10-08T00:42:36.979213Z",
     "iopub.status.idle": "2021-10-08T00:42:37.503201Z",
     "shell.execute_reply": "2021-10-08T00:42:37.503589Z"
    }
   },
   "outputs": [
    {
     "data": {
      "image/png": "[encoded data removed]",
      "text/plain": [
       "<Figure size 216x216 with 1 Axes>"
      ]
     },
     "metadata": {
      "needs_background": "light"
     },
     "output_type": "display_data"
    },
    {
     "name": "stdout",
     "output_type": "stream",
     "text": [
      "Today, sun rises at 06:16 and sets at 18:04.\n",
      "Currently, the weather is Rain (moderate rain).\n",
      "The temperature is 25.18°C and it feels like 26.26°C.\n",
      "The UV index is 0.07, humidity is 96%.\n",
      "The pressure is 1004 hPa, percentage of cloud cover is 100%\n",
      "The wind comes from SW direction with a speed 0.89 m/s.\n"
     ]
    }
   ],
   "source": [
    "current = data['current']\r\n",
    "\r\n",
    "fig, ax = plt.subplots(figsize=(3, 3))\r\n",
    "icon = requests.get(f\"http://openweathermap.org/img/wn/{current['weather'][0]['icon']}@2x.png\")\r\n",
    "im = Image.open(BytesIO(icon.content))\r\n",
    "plt.imshow(im)\r\n",
    "ax.set_axis_off()\r\n",
    "plt.show()\r\n",
    "\r\n",
    "print(f\"Today, sun rises at {ts2dt(current['sunrise'], '%H:%M')[0]} \\\r\n",
    "and sets at {ts2dt(current['sunset'], '%H:%M')[0]}.\\n\\\r\n",
    "Currently, the weather is {current['weather'][0]['main']} ({current['weather'][0]['description']}).\\n\\\r\n",
    "The temperature is {current['temp']}°C and it feels like {current['feels_like']}°C.\\n\\\r\n",
    "The UV index is {current['uvi']}, humidity is {current['humidity']}%.\\n\\\r\n",
    "The pressure is {current['pressure']} hPa, percentage of cloud cover is {current['clouds']}%\\n\\\r\n",
    "The wind comes from {degrees_to_cardinal(current['wind_deg'])} direction with a speed {current['wind_speed']} m/s.\")"
   ]
  },
  {
   "cell_type": "code",
   "execution_count": 8,
   "metadata": {
    "execution": {
     "iopub.execute_input": "2021-10-08T00:42:37.506237Z",
     "iopub.status.busy": "2021-10-08T00:42:37.505789Z",
     "iopub.status.idle": "2021-10-08T00:42:37.511976Z",
     "shell.execute_reply": "2021-10-08T00:42:37.512631Z"
    }
   },
   "outputs": [],
   "source": [
    "df_hourly = pd.DataFrame(data['hourly'])\r\n",
    "df_daily = pd.DataFrame(data['daily'])"
   ]
  },
  {
   "cell_type": "code",
   "execution_count": 9,
   "metadata": {
    "execution": {
     "iopub.execute_input": "2021-10-08T00:42:37.515618Z",
     "iopub.status.busy": "2021-10-08T00:42:37.514663Z",
     "iopub.status.idle": "2021-10-08T00:42:37.754494Z",
     "shell.execute_reply": "2021-10-08T00:42:37.754107Z"
    }
   },
   "outputs": [
    {
     "data": {
      "image/png": "[encoded data removed]",
      "text/plain": [
       "<Figure size 864x432 with 1 Axes>"
      ]
     },
     "metadata": {
      "needs_background": "light"
     },
     "output_type": "display_data"
    }
   ],
   "source": [
    "fig, ax = plt.subplots(figsize=(12, 6))\r\n",
    "plt.plot(df_hourly.temp, '.-', label='Temperature')\r\n",
    "plt.plot(df_hourly.feels_like, '.-', label='Feels Like')\r\n",
    "ax.set(title='Temperature in future 48 hours', xlabel='Time', ylabel='Temperature')\r\n",
    "ax.set_xticks(list(range(0, len(df_hourly), 2)))\r\n",
    "ax.set_xticklabels([ts2dt(ts, '%m-%d %H:%M')[0] for i, ts in enumerate(df_hourly.dt) if i%2==0], \r\n",
    "                   rotation=45, ha=\"right\")\r\n",
    "ax.locator_params(nbins=15, axis='y')\r\n",
    "plt.legend()\r\n",
    "plt.show()"
   ]
  },
  {
   "cell_type": "code",
   "execution_count": 10,
   "metadata": {
    "execution": {
     "iopub.execute_input": "2021-10-08T00:42:37.764901Z",
     "iopub.status.busy": "2021-10-08T00:42:37.757739Z",
     "iopub.status.idle": "2021-10-08T00:42:37.776362Z",
     "shell.execute_reply": "2021-10-08T00:42:37.776714Z"
    }
   },
   "outputs": [
    {
     "data": {
      "text/html": [
       "<div>\n",
       "<style scoped>\n",
       "    .dataframe tbody tr th:only-of-type {\n",
       "        vertical-align: middle;\n",
       "    }\n",
       "\n",
       "    .dataframe tbody tr th {\n",
       "        vertical-align: top;\n",
       "    }\n",
       "\n",
       "    .dataframe thead th {\n",
       "        text-align: right;\n",
       "    }\n",
       "</style>\n",
       "<table border=\"1\" class=\"dataframe\">\n",
       "  <thead>\n",
       "    <tr style=\"text-align: right;\">\n",
       "      <th></th>\n",
       "      <th>dt</th>\n",
       "      <th>temp</th>\n",
       "      <th>feels_like</th>\n",
       "      <th>pressure</th>\n",
       "      <th>humidity</th>\n",
       "      <th>dew_point</th>\n",
       "      <th>uvi</th>\n",
       "      <th>clouds</th>\n",
       "      <th>visibility</th>\n",
       "      <th>wind_speed</th>\n",
       "      <th>wind_deg</th>\n",
       "      <th>wind_gust</th>\n",
       "      <th>weather</th>\n",
       "      <th>pop</th>\n",
       "      <th>rain</th>\n",
       "    </tr>\n",
       "  </thead>\n",
       "  <tbody>\n",
       "    <tr>\n",
       "      <th>0</th>\n",
       "      <td>1633651200</td>\n",
       "      <td>25.23</td>\n",
       "      <td>26.32</td>\n",
       "      <td>1004</td>\n",
       "      <td>96</td>\n",
       "      <td>24.55</td>\n",
       "      <td>0.05</td>\n",
       "      <td>100</td>\n",
       "      <td>2311</td>\n",
       "      <td>9.94</td>\n",
       "      <td>111</td>\n",
       "      <td>15.70</td>\n",
       "      <td>[{'id': 503, 'main': 'Rain', 'description': 'v...</td>\n",
       "      <td>1.0</td>\n",
       "      <td>{'1h': 25.54}</td>\n",
       "    </tr>\n",
       "    <tr>\n",
       "      <th>1</th>\n",
       "      <td>1633654800</td>\n",
       "      <td>25.18</td>\n",
       "      <td>26.26</td>\n",
       "      <td>1004</td>\n",
       "      <td>96</td>\n",
       "      <td>24.50</td>\n",
       "      <td>0.07</td>\n",
       "      <td>100</td>\n",
       "      <td>2581</td>\n",
       "      <td>8.76</td>\n",
       "      <td>123</td>\n",
       "      <td>12.58</td>\n",
       "      <td>[{'id': 501, 'main': 'Rain', 'description': 'm...</td>\n",
       "      <td>1.0</td>\n",
       "      <td>{'1h': 2.37}</td>\n",
       "    </tr>\n",
       "    <tr>\n",
       "      <th>2</th>\n",
       "      <td>1633658400</td>\n",
       "      <td>25.36</td>\n",
       "      <td>26.41</td>\n",
       "      <td>1004</td>\n",
       "      <td>94</td>\n",
       "      <td>24.32</td>\n",
       "      <td>0.13</td>\n",
       "      <td>100</td>\n",
       "      <td>3606</td>\n",
       "      <td>10.49</td>\n",
       "      <td>117</td>\n",
       "      <td>14.35</td>\n",
       "      <td>[{'id': 500, 'main': 'Rain', 'description': 'l...</td>\n",
       "      <td>1.0</td>\n",
       "      <td>{'1h': 0.37}</td>\n",
       "    </tr>\n",
       "    <tr>\n",
       "      <th>3</th>\n",
       "      <td>1633662000</td>\n",
       "      <td>25.45</td>\n",
       "      <td>26.51</td>\n",
       "      <td>1005</td>\n",
       "      <td>94</td>\n",
       "      <td>24.41</td>\n",
       "      <td>0.19</td>\n",
       "      <td>100</td>\n",
       "      <td>3688</td>\n",
       "      <td>9.16</td>\n",
       "      <td>118</td>\n",
       "      <td>13.53</td>\n",
       "      <td>[{'id': 502, 'main': 'Rain', 'description': 'h...</td>\n",
       "      <td>1.0</td>\n",
       "      <td>{'1h': 11.53}</td>\n",
       "    </tr>\n",
       "    <tr>\n",
       "      <th>4</th>\n",
       "      <td>1633665600</td>\n",
       "      <td>25.58</td>\n",
       "      <td>26.62</td>\n",
       "      <td>1005</td>\n",
       "      <td>93</td>\n",
       "      <td>24.36</td>\n",
       "      <td>0.42</td>\n",
       "      <td>100</td>\n",
       "      <td>4108</td>\n",
       "      <td>8.62</td>\n",
       "      <td>112</td>\n",
       "      <td>12.27</td>\n",
       "      <td>[{'id': 502, 'main': 'Rain', 'description': 'h...</td>\n",
       "      <td>1.0</td>\n",
       "      <td>{'1h': 4.99}</td>\n",
       "    </tr>\n",
       "  </tbody>\n",
       "</table>\n",
       "</div>"
      ],
      "text/plain": [
       "           dt   temp  feels_like  pressure  humidity  dew_point   uvi  clouds  \\\n",
       "0  1633651200  25.23       26.32      1004        96      24.55  0.05     100   \n",
       "1  1633654800  25.18       26.26      1004        96      24.50  0.07     100   \n",
       "2  1633658400  25.36       26.41      1004        94      24.32  0.13     100   \n",
       "3  1633662000  25.45       26.51      1005        94      24.41  0.19     100   \n",
       "4  1633665600  25.58       26.62      1005        93      24.36  0.42     100   \n",
       "\n",
       "   visibility  wind_speed  wind_deg  wind_gust  \\\n",
       "0        2311        9.94       111      15.70   \n",
       "1        2581        8.76       123      12.58   \n",
       "2        3606       10.49       117      14.35   \n",
       "3        3688        9.16       118      13.53   \n",
       "4        4108        8.62       112      12.27   \n",
       "\n",
       "                                             weather  pop           rain  \n",
       "0  [{'id': 503, 'main': 'Rain', 'description': 'v...  1.0  {'1h': 25.54}  \n",
       "1  [{'id': 501, 'main': 'Rain', 'description': 'm...  1.0   {'1h': 2.37}  \n",
       "2  [{'id': 500, 'main': 'Rain', 'description': 'l...  1.0   {'1h': 0.37}  \n",
       "3  [{'id': 502, 'main': 'Rain', 'description': 'h...  1.0  {'1h': 11.53}  \n",
       "4  [{'id': 502, 'main': 'Rain', 'description': 'h...  1.0   {'1h': 4.99}  "
      ]
     },
     "execution_count": 10,
     "metadata": {},
     "output_type": "execute_result"
    }
   ],
   "source": [
    "df_hourly.head()"
   ]
  },
  {
   "cell_type": "code",
   "execution_count": null,
   "metadata": {},
   "outputs": [],
   "source": []
  }
 ],
 "metadata": {
  "interpreter": {
   "hash": "c1b4cfe941b6d2466ad1fb5979e97da9cda8801728c8091b097ab734208fc00c"
  },
  "kernelspec": {
   "display_name": "Python 3.8.3 64-bit ('base': conda)",
   "name": "python3"
  },
  "language_info": {
   "codemirror_mode": {
    "name": "ipython",
    "version": 3
   },
   "file_extension": ".py",
   "mimetype": "text/x-python",
   "name": "python",
   "nbconvert_exporter": "python",
   "pygments_lexer": "ipython3",
   "version": "3.8.12"
  }
 },
 "nbformat": 4,
 "nbformat_minor": 2
}
