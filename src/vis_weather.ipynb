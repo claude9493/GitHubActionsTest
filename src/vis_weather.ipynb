{
 "cells": [
  {
   "cell_type": "code",
   "execution_count": 1,
   "metadata": {
    "execution": {
     "iopub.execute_input": "2021-09-23T05:10:30.815016Z",
     "iopub.status.busy": "2021-09-23T05:10:30.814155Z",
     "iopub.status.idle": "2021-09-23T05:10:32.012005Z",
     "shell.execute_reply": "2021-09-23T05:10:32.011373Z"
    }
   },
   "outputs": [],
   "source": [
    "import json, yaml, requests\r\n",
    "from datetime import datetime\r\n",
    "from dateutil import tz\r\n",
    "import pandas as pd\r\n",
    "from PIL import Image\r\n",
    "from io import BytesIO\r\n",
    "import matplotlib.pyplot as plt\r\n",
    "import seaborn\r\n",
    "\r\n",
    "CONFIG_PATH = \"../config/config.yaml\""
   ]
  },
  {
   "cell_type": "code",
   "execution_count": 2,
   "metadata": {
    "execution": {
     "iopub.execute_input": "2021-09-23T05:10:32.020602Z",
     "iopub.status.busy": "2021-09-23T05:10:32.016563Z",
     "iopub.status.idle": "2021-09-23T05:10:32.023500Z",
     "shell.execute_reply": "2021-09-23T05:10:32.024051Z"
    }
   },
   "outputs": [],
   "source": [
    "with open('../newest_ts', 'r') as f:\r\n",
    "    newest_ts = f.read()\r\n",
    "\r\n",
    "data_path = f\"../data/data_{newest_ts}.json\"\r\n",
    "with open(data_path, 'r') as f:\r\n",
    "    data = json.load(f)\r\n",
    "\r\n",
    "with open(CONFIG_PATH, \"r\") as stream:\r\n",
    "    config = yaml.safe_load(stream)\r\n",
    "\r\n",
    "TIME_ZONE = config['time_zone']\r\n",
    "DATETIME_FORMAT = config['dt_format']"
   ]
  },
  {
   "cell_type": "code",
   "execution_count": 3,
   "metadata": {
    "execution": {
     "iopub.execute_input": "2021-09-23T05:10:32.029519Z",
     "iopub.status.busy": "2021-09-23T05:10:32.028742Z",
     "iopub.status.idle": "2021-09-23T05:10:32.034696Z",
     "shell.execute_reply": "2021-09-23T05:10:32.035136Z"
    }
   },
   "outputs": [
    {
     "name": "stdout",
     "output_type": "stream",
     "text": [
      "Recent query happens at 2021-09-23 13:10:28 (CST).\n"
     ]
    }
   ],
   "source": [
    "def ts2dt(ts, format=DATETIME_FORMAT):\r\n",
    "    dt = (datetime.utcfromtimestamp(int(ts))\r\n",
    "                    .replace(tzinfo=tz.tzutc())\r\n",
    "                    # .astimezone(tz.tzlocal())\r\n",
    "                    .astimezone(tz.gettz(TIME_ZONE)))\r\n",
    "    return dt.strftime(format), dt\r\n",
    "\r\n",
    "_, newest_dt = ts2dt(newest_ts)\r\n",
    "print(f\"Recent query happens at {newest_dt.strftime(DATETIME_FORMAT)} ({newest_dt.tzname()}).\")"
   ]
  },
  {
   "cell_type": "code",
   "execution_count": 4,
   "metadata": {
    "execution": {
     "iopub.execute_input": "2021-09-23T05:10:32.042073Z",
     "iopub.status.busy": "2021-09-23T05:10:32.040463Z",
     "iopub.status.idle": "2021-09-23T05:10:32.042775Z",
     "shell.execute_reply": "2021-09-23T05:10:32.043237Z"
    }
   },
   "outputs": [],
   "source": [
    "def degrees_to_cardinal(d):\r\n",
    "  dirs = ['N', 'NNE', 'NE', 'ENE', 'E', 'ESE', 'SE', 'SSE', 'S', 'SSW', 'SW', 'WSW', 'W', 'WNW', 'NW', 'NNW']\r\n",
    "  ix = int(round(d / (360. / len(dirs))))\r\n",
    "  return dirs[ix % len(dirs)]"
   ]
  },
  {
   "cell_type": "code",
   "execution_count": 5,
   "metadata": {
    "execution": {
     "iopub.execute_input": "2021-09-23T05:10:32.047623Z",
     "iopub.status.busy": "2021-09-23T05:10:32.047011Z",
     "iopub.status.idle": "2021-09-23T05:10:32.050547Z",
     "shell.execute_reply": "2021-09-23T05:10:32.050999Z"
    }
   },
   "outputs": [],
   "source": [
    "# data.keys()"
   ]
  },
  {
   "cell_type": "code",
   "execution_count": 6,
   "metadata": {
    "execution": {
     "iopub.execute_input": "2021-09-23T05:10:32.054442Z",
     "iopub.status.busy": "2021-09-23T05:10:32.053151Z",
     "iopub.status.idle": "2021-09-23T05:10:32.056354Z",
     "shell.execute_reply": "2021-09-23T05:10:32.056840Z"
    }
   },
   "outputs": [],
   "source": [
    "# data['current']"
   ]
  },
  {
   "cell_type": "code",
   "execution_count": 7,
   "metadata": {
    "execution": {
     "iopub.execute_input": "2021-09-23T05:10:32.079856Z",
     "iopub.status.busy": "2021-09-23T05:10:32.079231Z",
     "iopub.status.idle": "2021-09-23T05:10:32.364317Z",
     "shell.execute_reply": "2021-09-23T05:10:32.363842Z"
    }
   },
   "outputs": [
    {
     "data": {
      "image/png": "[encoded data removed]",
      "text/plain": [
       "<Figure size 216x216 with 1 Axes>"
      ]
     },
     "metadata": {
      "needs_background": "light"
     },
     "output_type": "display_data"
    },
    {
     "name": "stdout",
     "output_type": "stream",
     "text": [
      "Today, sun rises at 06:11 and sets at 18:18.\n",
      "Currently, the weather is Rain (moderate rain).\n",
      "The temperature is 29.34°C and it feels like 36.34°C.\n",
      "The UV index is 9.44, humidity is 84%.\n",
      "The pressure is 1013 hPa, percentage of cloud cover is 84%\n",
      "The wind comes from E direction with a speed 6.26 m/s.\n"
     ]
    }
   ],
   "source": [
    "current = data['current']\r\n",
    "\r\n",
    "fig, ax = plt.subplots(figsize=(3, 3))\r\n",
    "icon = requests.get(f\"http://openweathermap.org/img/wn/{current['weather'][0]['icon']}@2x.png\")\r\n",
    "im = Image.open(BytesIO(icon.content))\r\n",
    "plt.imshow(im)\r\n",
    "ax.set_axis_off()\r\n",
    "plt.show()\r\n",
    "\r\n",
    "print(f\"Today, sun rises at {ts2dt(current['sunrise'], '%H:%M')[0]} \\\r\n",
    "and sets at {ts2dt(current['sunset'], '%H:%M')[0]}.\\n\\\r\n",
    "Currently, the weather is {current['weather'][0]['main']} ({current['weather'][0]['description']}).\\n\\\r\n",
    "The temperature is {current['temp']}°C and it feels like {current['feels_like']}°C.\\n\\\r\n",
    "The UV index is {current['uvi']}, humidity is {current['humidity']}%.\\n\\\r\n",
    "The pressure is {current['pressure']} hPa, percentage of cloud cover is {current['clouds']}%\\n\\\r\n",
    "The wind comes from {degrees_to_cardinal(current['wind_deg'])} direction with a speed {current['wind_speed']} m/s.\")"
   ]
  },
  {
   "cell_type": "code",
   "execution_count": 8,
   "metadata": {
    "execution": {
     "iopub.execute_input": "2021-09-23T05:10:32.369890Z",
     "iopub.status.busy": "2021-09-23T05:10:32.369311Z",
     "iopub.status.idle": "2021-09-23T05:10:32.373781Z",
     "shell.execute_reply": "2021-09-23T05:10:32.374290Z"
    }
   },
   "outputs": [],
   "source": [
    "df_hourly = pd.DataFrame(data['hourly'])\r\n",
    "df_daily = pd.DataFrame(data['daily'])"
   ]
  },
  {
   "cell_type": "code",
   "execution_count": 9,
   "metadata": {
    "execution": {
     "iopub.execute_input": "2021-09-23T05:10:32.384609Z",
     "iopub.status.busy": "2021-09-23T05:10:32.383329Z",
     "iopub.status.idle": "2021-09-23T05:10:32.680966Z",
     "shell.execute_reply": "2021-09-23T05:10:32.681746Z"
    }
   },
   "outputs": [
    {
     "data": {
      "image/png": "[encoded data removed]",
      "text/plain": [
       "<Figure size 864x432 with 1 Axes>"
      ]
     },
     "metadata": {
      "needs_background": "light"
     },
     "output_type": "display_data"
    }
   ],
   "source": [
    "fig, ax = plt.subplots(figsize=(12, 6))\r\n",
    "plt.plot(df_hourly.temp, '.-', label='Temperature')\r\n",
    "plt.plot(df_hourly.feels_like, '.-', label='Feels Like')\r\n",
    "ax.set(title='Temperature in future 48 hours', xlabel='Time', ylabel='Temperature')\r\n",
    "ax.set_xticks(list(range(0, len(df_hourly), 2)))\r\n",
    "ax.set_xticklabels([ts2dt(ts, '%m-%d %H:%M')[0] for i, ts in enumerate(df_hourly.dt) if i%2==0], \r\n",
    "                   rotation=45, ha=\"right\")\r\n",
    "ax.locator_params(nbins=15, axis='y')\r\n",
    "plt.legend()\r\n",
    "plt.show()"
   ]
  },
  {
   "cell_type": "code",
   "execution_count": 10,
   "metadata": {
    "execution": {
     "iopub.execute_input": "2021-09-23T05:10:32.687165Z",
     "iopub.status.busy": "2021-09-23T05:10:32.686538Z",
     "iopub.status.idle": "2021-09-23T05:10:32.708435Z",
     "shell.execute_reply": "2021-09-23T05:10:32.707936Z"
    }
   },
   "outputs": [
    {
     "data": {
      "text/html": [
       "<div>\n",
       "<style scoped>\n",
       "    .dataframe tbody tr th:only-of-type {\n",
       "        vertical-align: middle;\n",
       "    }\n",
       "\n",
       "    .dataframe tbody tr th {\n",
       "        vertical-align: top;\n",
       "    }\n",
       "\n",
       "    .dataframe thead th {\n",
       "        text-align: right;\n",
       "    }\n",
       "</style>\n",
       "<table border=\"1\" class=\"dataframe\">\n",
       "  <thead>\n",
       "    <tr style=\"text-align: right;\">\n",
       "      <th></th>\n",
       "      <th>dt</th>\n",
       "      <th>temp</th>\n",
       "      <th>feels_like</th>\n",
       "      <th>pressure</th>\n",
       "      <th>humidity</th>\n",
       "      <th>dew_point</th>\n",
       "      <th>uvi</th>\n",
       "      <th>clouds</th>\n",
       "      <th>visibility</th>\n",
       "      <th>wind_speed</th>\n",
       "      <th>wind_deg</th>\n",
       "      <th>wind_gust</th>\n",
       "      <th>weather</th>\n",
       "      <th>pop</th>\n",
       "      <th>rain</th>\n",
       "    </tr>\n",
       "  </thead>\n",
       "  <tbody>\n",
       "    <tr>\n",
       "      <th>0</th>\n",
       "      <td>1632373200</td>\n",
       "      <td>29.34</td>\n",
       "      <td>36.34</td>\n",
       "      <td>1013</td>\n",
       "      <td>84</td>\n",
       "      <td>26.35</td>\n",
       "      <td>9.44</td>\n",
       "      <td>84</td>\n",
       "      <td>10000</td>\n",
       "      <td>6.26</td>\n",
       "      <td>88</td>\n",
       "      <td>7.62</td>\n",
       "      <td>[{'id': 803, 'main': 'Clouds', 'description': ...</td>\n",
       "      <td>0.73</td>\n",
       "      <td>NaN</td>\n",
       "    </tr>\n",
       "    <tr>\n",
       "      <th>1</th>\n",
       "      <td>1632376800</td>\n",
       "      <td>29.47</td>\n",
       "      <td>36.33</td>\n",
       "      <td>1013</td>\n",
       "      <td>81</td>\n",
       "      <td>25.86</td>\n",
       "      <td>7.72</td>\n",
       "      <td>84</td>\n",
       "      <td>10000</td>\n",
       "      <td>6.60</td>\n",
       "      <td>86</td>\n",
       "      <td>7.82</td>\n",
       "      <td>[{'id': 501, 'main': 'Rain', 'description': 'm...</td>\n",
       "      <td>0.89</td>\n",
       "      <td>{'1h': 3.65}</td>\n",
       "    </tr>\n",
       "    <tr>\n",
       "      <th>2</th>\n",
       "      <td>1632380400</td>\n",
       "      <td>29.57</td>\n",
       "      <td>35.87</td>\n",
       "      <td>1013</td>\n",
       "      <td>78</td>\n",
       "      <td>25.32</td>\n",
       "      <td>4.92</td>\n",
       "      <td>90</td>\n",
       "      <td>10000</td>\n",
       "      <td>6.79</td>\n",
       "      <td>88</td>\n",
       "      <td>7.92</td>\n",
       "      <td>[{'id': 500, 'main': 'Rain', 'description': 'l...</td>\n",
       "      <td>0.57</td>\n",
       "      <td>{'1h': 0.65}</td>\n",
       "    </tr>\n",
       "    <tr>\n",
       "      <th>3</th>\n",
       "      <td>1632384000</td>\n",
       "      <td>29.49</td>\n",
       "      <td>35.17</td>\n",
       "      <td>1012</td>\n",
       "      <td>76</td>\n",
       "      <td>24.81</td>\n",
       "      <td>2.45</td>\n",
       "      <td>94</td>\n",
       "      <td>10000</td>\n",
       "      <td>6.98</td>\n",
       "      <td>92</td>\n",
       "      <td>8.15</td>\n",
       "      <td>[{'id': 500, 'main': 'Rain', 'description': 'l...</td>\n",
       "      <td>0.61</td>\n",
       "      <td>{'1h': 0.14}</td>\n",
       "    </tr>\n",
       "    <tr>\n",
       "      <th>4</th>\n",
       "      <td>1632387600</td>\n",
       "      <td>29.32</td>\n",
       "      <td>34.72</td>\n",
       "      <td>1012</td>\n",
       "      <td>76</td>\n",
       "      <td>24.65</td>\n",
       "      <td>0.78</td>\n",
       "      <td>97</td>\n",
       "      <td>10000</td>\n",
       "      <td>6.89</td>\n",
       "      <td>92</td>\n",
       "      <td>8.64</td>\n",
       "      <td>[{'id': 804, 'main': 'Clouds', 'description': ...</td>\n",
       "      <td>0.56</td>\n",
       "      <td>NaN</td>\n",
       "    </tr>\n",
       "  </tbody>\n",
       "</table>\n",
       "</div>"
      ],
      "text/plain": [
       "           dt   temp  feels_like  pressure  humidity  dew_point   uvi  clouds  \\\n",
       "0  1632373200  29.34       36.34      1013        84      26.35  9.44      84   \n",
       "1  1632376800  29.47       36.33      1013        81      25.86  7.72      84   \n",
       "2  1632380400  29.57       35.87      1013        78      25.32  4.92      90   \n",
       "3  1632384000  29.49       35.17      1012        76      24.81  2.45      94   \n",
       "4  1632387600  29.32       34.72      1012        76      24.65  0.78      97   \n",
       "\n",
       "   visibility  wind_speed  wind_deg  wind_gust  \\\n",
       "0       10000        6.26        88       7.62   \n",
       "1       10000        6.60        86       7.82   \n",
       "2       10000        6.79        88       7.92   \n",
       "3       10000        6.98        92       8.15   \n",
       "4       10000        6.89        92       8.64   \n",
       "\n",
       "                                             weather   pop          rain  \n",
       "0  [{'id': 803, 'main': 'Clouds', 'description': ...  0.73           NaN  \n",
       "1  [{'id': 501, 'main': 'Rain', 'description': 'm...  0.89  {'1h': 3.65}  \n",
       "2  [{'id': 500, 'main': 'Rain', 'description': 'l...  0.57  {'1h': 0.65}  \n",
       "3  [{'id': 500, 'main': 'Rain', 'description': 'l...  0.61  {'1h': 0.14}  \n",
       "4  [{'id': 804, 'main': 'Clouds', 'description': ...  0.56           NaN  "
      ]
     },
     "execution_count": 10,
     "metadata": {},
     "output_type": "execute_result"
    }
   ],
   "source": [
    "df_hourly.head()"
   ]
  },
  {
   "cell_type": "code",
   "execution_count": null,
   "metadata": {},
   "outputs": [],
   "source": []
  }
 ],
 "metadata": {
  "interpreter": {
   "hash": "c1b4cfe941b6d2466ad1fb5979e97da9cda8801728c8091b097ab734208fc00c"
  },
  "kernelspec": {
   "display_name": "Python 3.8.3 64-bit ('base': conda)",
   "name": "python3"
  },
  "language_info": {
   "codemirror_mode": {
    "name": "ipython",
    "version": 3
   },
   "file_extension": ".py",
   "mimetype": "text/x-python",
   "name": "python",
   "nbconvert_exporter": "python",
   "pygments_lexer": "ipython3",
   "version": "3.8.11"
  }
 },
 "nbformat": 4,
 "nbformat_minor": 2
}
