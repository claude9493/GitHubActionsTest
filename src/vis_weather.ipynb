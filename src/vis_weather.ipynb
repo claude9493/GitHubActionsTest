{
 "cells": [
  {
   "cell_type": "code",
   "execution_count": 1,
   "metadata": {
    "execution": {
     "iopub.execute_input": "2021-08-26T06:18:21.101035Z",
     "iopub.status.busy": "2021-08-26T06:18:21.100351Z",
     "iopub.status.idle": "2021-08-26T06:18:24.242199Z",
     "shell.execute_reply": "2021-08-26T06:18:24.242673Z"
    }
   },
   "outputs": [],
   "source": [
    "import json, yaml, requests\r\n",
    "from datetime import datetime\r\n",
    "from dateutil import tz\r\n",
    "import pandas as pd\r\n",
    "from PIL import Image\r\n",
    "from io import BytesIO\r\n",
    "import matplotlib.pyplot as plt\r\n",
    "import seaborn\r\n",
    "\r\n",
    "CONFIG_PATH = \"../config/config.yaml\""
   ]
  },
  {
   "cell_type": "code",
   "execution_count": 2,
   "metadata": {
    "execution": {
     "iopub.execute_input": "2021-08-26T06:18:24.248850Z",
     "iopub.status.busy": "2021-08-26T06:18:24.247749Z",
     "iopub.status.idle": "2021-08-26T06:18:24.253896Z",
     "shell.execute_reply": "2021-08-26T06:18:24.253135Z"
    }
   },
   "outputs": [],
   "source": [
    "with open('../newest_ts', 'r') as f:\r\n",
    "    newest_ts = f.read()\r\n",
    "\r\n",
    "data_path = f\"../data/data_{newest_ts}.json\"\r\n",
    "with open(data_path, 'r') as f:\r\n",
    "    data = json.load(f)\r\n",
    "\r\n",
    "with open(CONFIG_PATH, \"r\") as stream:\r\n",
    "    config = yaml.safe_load(stream)\r\n",
    "\r\n",
    "TIME_ZONE = config['time_zone']\r\n",
    "DATETIME_FORMAT = config['dt_format']"
   ]
  },
  {
   "cell_type": "code",
   "execution_count": 3,
   "metadata": {
    "execution": {
     "iopub.execute_input": "2021-08-26T06:18:24.258775Z",
     "iopub.status.busy": "2021-08-26T06:18:24.258115Z",
     "iopub.status.idle": "2021-08-26T06:18:24.268819Z",
     "shell.execute_reply": "2021-08-26T06:18:24.269293Z"
    }
   },
   "outputs": [
    {
     "name": "stdout",
     "output_type": "stream",
     "text": [
      "Recent query happens at 2021-08-26 14:18:18 (CST).\n"
     ]
    }
   ],
   "source": [
    "def ts2dt(ts, format=DATETIME_FORMAT):\r\n",
    "    dt = (datetime.utcfromtimestamp(int(ts))\r\n",
    "                    .replace(tzinfo=tz.tzutc())\r\n",
    "                    # .astimezone(tz.tzlocal())\r\n",
    "                    .astimezone(tz.gettz(TIME_ZONE)))\r\n",
    "    return dt.strftime(format), dt\r\n",
    "\r\n",
    "_, newest_dt = ts2dt(newest_ts)\r\n",
    "print(f\"Recent query happens at {newest_dt.strftime(DATETIME_FORMAT)} ({newest_dt.tzname()}).\")"
   ]
  },
  {
   "cell_type": "code",
   "execution_count": 4,
   "metadata": {
    "execution": {
     "iopub.execute_input": "2021-08-26T06:18:24.274833Z",
     "iopub.status.busy": "2021-08-26T06:18:24.273519Z",
     "iopub.status.idle": "2021-08-26T06:18:24.275606Z",
     "shell.execute_reply": "2021-08-26T06:18:24.276139Z"
    }
   },
   "outputs": [],
   "source": [
    "def degrees_to_cardinal(d):\r\n",
    "  dirs = ['N', 'NNE', 'NE', 'ENE', 'E', 'ESE', 'SE', 'SSE', 'S', 'SSW', 'SW', 'WSW', 'W', 'WNW', 'NW', 'NNW']\r\n",
    "  ix = int(round(d / (360. / len(dirs))))\r\n",
    "  return dirs[ix % len(dirs)]"
   ]
  },
  {
   "cell_type": "code",
   "execution_count": 5,
   "metadata": {
    "execution": {
     "iopub.execute_input": "2021-08-26T06:18:24.281066Z",
     "iopub.status.busy": "2021-08-26T06:18:24.279608Z",
     "iopub.status.idle": "2021-08-26T06:18:24.281690Z",
     "shell.execute_reply": "2021-08-26T06:18:24.282168Z"
    }
   },
   "outputs": [],
   "source": [
    "# data.keys()"
   ]
  },
  {
   "cell_type": "code",
   "execution_count": 6,
   "metadata": {
    "execution": {
     "iopub.execute_input": "2021-08-26T06:18:24.285864Z",
     "iopub.status.busy": "2021-08-26T06:18:24.285203Z",
     "iopub.status.idle": "2021-08-26T06:18:24.288841Z",
     "shell.execute_reply": "2021-08-26T06:18:24.289286Z"
    }
   },
   "outputs": [],
   "source": [
    "# data['current']"
   ]
  },
  {
   "cell_type": "code",
   "execution_count": 7,
   "metadata": {
    "execution": {
     "iopub.execute_input": "2021-08-26T06:18:24.306943Z",
     "iopub.status.busy": "2021-08-26T06:18:24.306294Z",
     "iopub.status.idle": "2021-08-26T06:18:24.605665Z",
     "shell.execute_reply": "2021-08-26T06:18:24.606401Z"
    }
   },
   "outputs": [
    {
     "data": {
      "image/png": "[encoded data removed]",
      "text/plain": [
       "<Figure size 216x216 with 1 Axes>"
      ]
     },
     "metadata": {
      "needs_background": "light"
     },
     "output_type": "display_data"
    },
    {
     "name": "stdout",
     "output_type": "stream",
     "text": [
      "Today, sun rises at 06:03 and sets at 18:46.\n",
      "Currently, the weather is Clouds (overcast clouds).\n",
      "The temperature is 32.75°C and it feels like 39.75°C.\n",
      "The UV index is 9.16, humidity is 68%.\n",
      "The pressure is 1011 hPa, percentage of cloud cover is 86%\n",
      "The wind comes from ESE direction with a speed 4.09 m/s.\n"
     ]
    }
   ],
   "source": [
    "current = data['current']\r\n",
    "\r\n",
    "fig, ax = plt.subplots(figsize=(3, 3))\r\n",
    "icon = requests.get(f\"http://openweathermap.org/img/wn/{current['weather'][0]['icon']}@2x.png\")\r\n",
    "im = Image.open(BytesIO(icon.content))\r\n",
    "plt.imshow(im)\r\n",
    "ax.set_axis_off()\r\n",
    "plt.show()\r\n",
    "\r\n",
    "print(f\"Today, sun rises at {ts2dt(current['sunrise'], '%H:%M')[0]} \\\r\n",
    "and sets at {ts2dt(current['sunset'], '%H:%M')[0]}.\\n\\\r\n",
    "Currently, the weather is {current['weather'][0]['main']} ({current['weather'][0]['description']}).\\n\\\r\n",
    "The temperature is {current['temp']}°C and it feels like {current['feels_like']}°C.\\n\\\r\n",
    "The UV index is {current['uvi']}, humidity is {current['humidity']}%.\\n\\\r\n",
    "The pressure is {current['pressure']} hPa, percentage of cloud cover is {current['clouds']}%\\n\\\r\n",
    "The wind comes from {degrees_to_cardinal(current['wind_deg'])} direction with a speed {current['wind_speed']} m/s.\")"
   ]
  },
  {
   "cell_type": "code",
   "execution_count": 8,
   "metadata": {
    "execution": {
     "iopub.execute_input": "2021-08-26T06:18:24.610097Z",
     "iopub.status.busy": "2021-08-26T06:18:24.609063Z",
     "iopub.status.idle": "2021-08-26T06:18:24.616830Z",
     "shell.execute_reply": "2021-08-26T06:18:24.617545Z"
    }
   },
   "outputs": [],
   "source": [
    "df_hourly = pd.DataFrame(data['hourly'])\r\n",
    "df_daily = pd.DataFrame(data['daily'])"
   ]
  },
  {
   "cell_type": "code",
   "execution_count": 9,
   "metadata": {
    "execution": {
     "iopub.execute_input": "2021-08-26T06:18:24.620955Z",
     "iopub.status.busy": "2021-08-26T06:18:24.619923Z",
     "iopub.status.idle": "2021-08-26T06:18:24.926194Z",
     "shell.execute_reply": "2021-08-26T06:18:24.925718Z"
    }
   },
   "outputs": [
    {
     "data": {
      "image/png": "[encoded data removed]",
      "text/plain": [
       "<Figure size 864x432 with 1 Axes>"
      ]
     },
     "metadata": {
      "needs_background": "light"
     },
     "output_type": "display_data"
    }
   ],
   "source": [
    "fig, ax = plt.subplots(figsize=(12, 6))\r\n",
    "plt.plot(df_hourly.temp, '.-', label='Temperature')\r\n",
    "plt.plot(df_hourly.feels_like, '.-', label='Feels Like')\r\n",
    "ax.set(title='Temperature in future 48 hours', xlabel='Time', ylabel='Temperature')\r\n",
    "ax.set_xticks(list(range(0, len(df_hourly), 2)))\r\n",
    "ax.set_xticklabels([ts2dt(ts, '%m-%d %H:%M')[0] for i, ts in enumerate(df_hourly.dt) if i%2==0], \r\n",
    "                   rotation=45, ha=\"right\")\r\n",
    "ax.locator_params(nbins=15, axis='y')\r\n",
    "plt.legend()\r\n",
    "plt.show()"
   ]
  },
  {
   "cell_type": "code",
   "execution_count": 10,
   "metadata": {
    "execution": {
     "iopub.execute_input": "2021-08-26T06:18:24.939484Z",
     "iopub.status.busy": "2021-08-26T06:18:24.930330Z",
     "iopub.status.idle": "2021-08-26T06:18:24.951916Z",
     "shell.execute_reply": "2021-08-26T06:18:24.951219Z"
    }
   },
   "outputs": [
    {
     "data": {
      "text/html": [
       "<div>\n",
       "<style scoped>\n",
       "    .dataframe tbody tr th:only-of-type {\n",
       "        vertical-align: middle;\n",
       "    }\n",
       "\n",
       "    .dataframe tbody tr th {\n",
       "        vertical-align: top;\n",
       "    }\n",
       "\n",
       "    .dataframe thead th {\n",
       "        text-align: right;\n",
       "    }\n",
       "</style>\n",
       "<table border=\"1\" class=\"dataframe\">\n",
       "  <thead>\n",
       "    <tr style=\"text-align: right;\">\n",
       "      <th></th>\n",
       "      <th>dt</th>\n",
       "      <th>temp</th>\n",
       "      <th>feels_like</th>\n",
       "      <th>pressure</th>\n",
       "      <th>humidity</th>\n",
       "      <th>dew_point</th>\n",
       "      <th>uvi</th>\n",
       "      <th>clouds</th>\n",
       "      <th>visibility</th>\n",
       "      <th>wind_speed</th>\n",
       "      <th>wind_deg</th>\n",
       "      <th>wind_gust</th>\n",
       "      <th>weather</th>\n",
       "      <th>pop</th>\n",
       "      <th>rain</th>\n",
       "    </tr>\n",
       "  </thead>\n",
       "  <tbody>\n",
       "    <tr>\n",
       "      <th>0</th>\n",
       "      <td>1629957600</td>\n",
       "      <td>32.75</td>\n",
       "      <td>39.75</td>\n",
       "      <td>1011</td>\n",
       "      <td>68</td>\n",
       "      <td>26.06</td>\n",
       "      <td>9.16</td>\n",
       "      <td>86</td>\n",
       "      <td>10000</td>\n",
       "      <td>4.09</td>\n",
       "      <td>118</td>\n",
       "      <td>4.04</td>\n",
       "      <td>[{'id': 804, 'main': 'Clouds', 'description': ...</td>\n",
       "      <td>0.75</td>\n",
       "      <td>NaN</td>\n",
       "    </tr>\n",
       "    <tr>\n",
       "      <th>1</th>\n",
       "      <td>1629961200</td>\n",
       "      <td>32.16</td>\n",
       "      <td>39.16</td>\n",
       "      <td>1011</td>\n",
       "      <td>68</td>\n",
       "      <td>25.50</td>\n",
       "      <td>5.96</td>\n",
       "      <td>89</td>\n",
       "      <td>10000</td>\n",
       "      <td>3.99</td>\n",
       "      <td>115</td>\n",
       "      <td>4.19</td>\n",
       "      <td>[{'id': 804, 'main': 'Clouds', 'description': ...</td>\n",
       "      <td>0.03</td>\n",
       "      <td>NaN</td>\n",
       "    </tr>\n",
       "    <tr>\n",
       "      <th>2</th>\n",
       "      <td>1629964800</td>\n",
       "      <td>31.50</td>\n",
       "      <td>38.50</td>\n",
       "      <td>1011</td>\n",
       "      <td>69</td>\n",
       "      <td>25.12</td>\n",
       "      <td>3.17</td>\n",
       "      <td>92</td>\n",
       "      <td>10000</td>\n",
       "      <td>4.16</td>\n",
       "      <td>116</td>\n",
       "      <td>4.54</td>\n",
       "      <td>[{'id': 804, 'main': 'Clouds', 'description': ...</td>\n",
       "      <td>0.03</td>\n",
       "      <td>NaN</td>\n",
       "    </tr>\n",
       "    <tr>\n",
       "      <th>3</th>\n",
       "      <td>1629968400</td>\n",
       "      <td>30.72</td>\n",
       "      <td>36.86</td>\n",
       "      <td>1010</td>\n",
       "      <td>70</td>\n",
       "      <td>24.62</td>\n",
       "      <td>1.16</td>\n",
       "      <td>94</td>\n",
       "      <td>10000</td>\n",
       "      <td>3.91</td>\n",
       "      <td>112</td>\n",
       "      <td>4.62</td>\n",
       "      <td>[{'id': 804, 'main': 'Clouds', 'description': ...</td>\n",
       "      <td>0.01</td>\n",
       "      <td>NaN</td>\n",
       "    </tr>\n",
       "    <tr>\n",
       "      <th>4</th>\n",
       "      <td>1629972000</td>\n",
       "      <td>29.68</td>\n",
       "      <td>34.96</td>\n",
       "      <td>1010</td>\n",
       "      <td>73</td>\n",
       "      <td>24.32</td>\n",
       "      <td>0.23</td>\n",
       "      <td>97</td>\n",
       "      <td>10000</td>\n",
       "      <td>3.60</td>\n",
       "      <td>109</td>\n",
       "      <td>4.89</td>\n",
       "      <td>[{'id': 804, 'main': 'Clouds', 'description': ...</td>\n",
       "      <td>0.01</td>\n",
       "      <td>NaN</td>\n",
       "    </tr>\n",
       "  </tbody>\n",
       "</table>\n",
       "</div>"
      ],
      "text/plain": [
       "           dt   temp  feels_like  pressure  humidity  dew_point   uvi  clouds  \\\n",
       "0  1629957600  32.75       39.75      1011        68      26.06  9.16      86   \n",
       "1  1629961200  32.16       39.16      1011        68      25.50  5.96      89   \n",
       "2  1629964800  31.50       38.50      1011        69      25.12  3.17      92   \n",
       "3  1629968400  30.72       36.86      1010        70      24.62  1.16      94   \n",
       "4  1629972000  29.68       34.96      1010        73      24.32  0.23      97   \n",
       "\n",
       "   visibility  wind_speed  wind_deg  wind_gust  \\\n",
       "0       10000        4.09       118       4.04   \n",
       "1       10000        3.99       115       4.19   \n",
       "2       10000        4.16       116       4.54   \n",
       "3       10000        3.91       112       4.62   \n",
       "4       10000        3.60       109       4.89   \n",
       "\n",
       "                                             weather   pop rain  \n",
       "0  [{'id': 804, 'main': 'Clouds', 'description': ...  0.75  NaN  \n",
       "1  [{'id': 804, 'main': 'Clouds', 'description': ...  0.03  NaN  \n",
       "2  [{'id': 804, 'main': 'Clouds', 'description': ...  0.03  NaN  \n",
       "3  [{'id': 804, 'main': 'Clouds', 'description': ...  0.01  NaN  \n",
       "4  [{'id': 804, 'main': 'Clouds', 'description': ...  0.01  NaN  "
      ]
     },
     "execution_count": 10,
     "metadata": {},
     "output_type": "execute_result"
    }
   ],
   "source": [
    "df_hourly.head()"
   ]
  },
  {
   "cell_type": "code",
   "execution_count": null,
   "metadata": {},
   "outputs": [],
   "source": []
  }
 ],
 "metadata": {
  "interpreter": {
   "hash": "c1b4cfe941b6d2466ad1fb5979e97da9cda8801728c8091b097ab734208fc00c"
  },
  "kernelspec": {
   "display_name": "Python 3.8.3 64-bit ('base': conda)",
   "name": "python3"
  },
  "language_info": {
   "codemirror_mode": {
    "name": "ipython",
    "version": 3
   },
   "file_extension": ".py",
   "mimetype": "text/x-python",
   "name": "python",
   "nbconvert_exporter": "python",
   "pygments_lexer": "ipython3",
   "version": "3.8.11"
  }
 },
 "nbformat": 4,
 "nbformat_minor": 2
}
