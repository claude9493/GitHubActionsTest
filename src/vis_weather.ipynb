{
 "cells": [
  {
   "cell_type": "code",
   "execution_count": 1,
   "metadata": {
    "execution": {
     "iopub.execute_input": "2021-09-22T01:58:08.489573Z",
     "iopub.status.busy": "2021-09-22T01:58:08.488913Z",
     "iopub.status.idle": "2021-09-22T01:58:11.931469Z",
     "shell.execute_reply": "2021-09-22T01:58:11.930880Z"
    }
   },
   "outputs": [],
   "source": [
    "import json, yaml, requests\r\n",
    "from datetime import datetime\r\n",
    "from dateutil import tz\r\n",
    "import pandas as pd\r\n",
    "from PIL import Image\r\n",
    "from io import BytesIO\r\n",
    "import matplotlib.pyplot as plt\r\n",
    "import seaborn\r\n",
    "\r\n",
    "CONFIG_PATH = \"../config/config.yaml\""
   ]
  },
  {
   "cell_type": "code",
   "execution_count": 2,
   "metadata": {
    "execution": {
     "iopub.execute_input": "2021-09-22T01:58:11.940080Z",
     "iopub.status.busy": "2021-09-22T01:58:11.936638Z",
     "iopub.status.idle": "2021-09-22T01:58:11.943482Z",
     "shell.execute_reply": "2021-09-22T01:58:11.942541Z"
    }
   },
   "outputs": [],
   "source": [
    "with open('../newest_ts', 'r') as f:\r\n",
    "    newest_ts = f.read()\r\n",
    "\r\n",
    "data_path = f\"../data/data_{newest_ts}.json\"\r\n",
    "with open(data_path, 'r') as f:\r\n",
    "    data = json.load(f)\r\n",
    "\r\n",
    "with open(CONFIG_PATH, \"r\") as stream:\r\n",
    "    config = yaml.safe_load(stream)\r\n",
    "\r\n",
    "TIME_ZONE = config['time_zone']\r\n",
    "DATETIME_FORMAT = config['dt_format']"
   ]
  },
  {
   "cell_type": "code",
   "execution_count": 3,
   "metadata": {
    "execution": {
     "iopub.execute_input": "2021-09-22T01:58:11.948107Z",
     "iopub.status.busy": "2021-09-22T01:58:11.947560Z",
     "iopub.status.idle": "2021-09-22T01:58:11.971267Z",
     "shell.execute_reply": "2021-09-22T01:58:11.971698Z"
    }
   },
   "outputs": [
    {
     "name": "stdout",
     "output_type": "stream",
     "text": [
      "Recent query happens at 2021-09-22 09:58:04 (CST).\n"
     ]
    }
   ],
   "source": [
    "def ts2dt(ts, format=DATETIME_FORMAT):\r\n",
    "    dt = (datetime.utcfromtimestamp(int(ts))\r\n",
    "                    .replace(tzinfo=tz.tzutc())\r\n",
    "                    # .astimezone(tz.tzlocal())\r\n",
    "                    .astimezone(tz.gettz(TIME_ZONE)))\r\n",
    "    return dt.strftime(format), dt\r\n",
    "\r\n",
    "_, newest_dt = ts2dt(newest_ts)\r\n",
    "print(f\"Recent query happens at {newest_dt.strftime(DATETIME_FORMAT)} ({newest_dt.tzname()}).\")"
   ]
  },
  {
   "cell_type": "code",
   "execution_count": 4,
   "metadata": {
    "execution": {
     "iopub.execute_input": "2021-09-22T01:58:11.978006Z",
     "iopub.status.busy": "2021-09-22T01:58:11.976638Z",
     "iopub.status.idle": "2021-09-22T01:58:11.978584Z",
     "shell.execute_reply": "2021-09-22T01:58:11.979003Z"
    }
   },
   "outputs": [],
   "source": [
    "def degrees_to_cardinal(d):\r\n",
    "  dirs = ['N', 'NNE', 'NE', 'ENE', 'E', 'ESE', 'SE', 'SSE', 'S', 'SSW', 'SW', 'WSW', 'W', 'WNW', 'NW', 'NNW']\r\n",
    "  ix = int(round(d / (360. / len(dirs))))\r\n",
    "  return dirs[ix % len(dirs)]"
   ]
  },
  {
   "cell_type": "code",
   "execution_count": 5,
   "metadata": {
    "execution": {
     "iopub.execute_input": "2021-09-22T01:58:11.983515Z",
     "iopub.status.busy": "2021-09-22T01:58:11.982310Z",
     "iopub.status.idle": "2021-09-22T01:58:11.984546Z",
     "shell.execute_reply": "2021-09-22T01:58:11.985403Z"
    }
   },
   "outputs": [],
   "source": [
    "# data.keys()"
   ]
  },
  {
   "cell_type": "code",
   "execution_count": 6,
   "metadata": {
    "execution": {
     "iopub.execute_input": "2021-09-22T01:58:11.990153Z",
     "iopub.status.busy": "2021-09-22T01:58:11.988734Z",
     "iopub.status.idle": "2021-09-22T01:58:11.990767Z",
     "shell.execute_reply": "2021-09-22T01:58:11.991258Z"
    }
   },
   "outputs": [],
   "source": [
    "# data['current']"
   ]
  },
  {
   "cell_type": "code",
   "execution_count": 7,
   "metadata": {
    "execution": {
     "iopub.execute_input": "2021-09-22T01:58:12.021453Z",
     "iopub.status.busy": "2021-09-22T01:58:12.017891Z",
     "iopub.status.idle": "2021-09-22T01:58:12.462843Z",
     "shell.execute_reply": "2021-09-22T01:58:12.463527Z"
    }
   },
   "outputs": [
    {
     "data": {
      "image/png": "[encoded data removed]",
      "text/plain": [
       "<Figure size 216x216 with 1 Axes>"
      ]
     },
     "metadata": {
      "needs_background": "light"
     },
     "output_type": "display_data"
    },
    {
     "name": "stdout",
     "output_type": "stream",
     "text": [
      "Today, sun rises at 06:11 and sets at 18:19.\n",
      "Currently, the weather is Clouds (broken clouds).\n",
      "The temperature is 31.23°C and it feels like 38.23°C.\n",
      "The UV index is 5.8, humidity is 74%.\n",
      "The pressure is 1012 hPa, percentage of cloud cover is 59%\n",
      "The wind comes from E direction with a speed 3.08 m/s.\n"
     ]
    }
   ],
   "source": [
    "current = data['current']\r\n",
    "\r\n",
    "fig, ax = plt.subplots(figsize=(3, 3))\r\n",
    "icon = requests.get(f\"http://openweathermap.org/img/wn/{current['weather'][0]['icon']}@2x.png\")\r\n",
    "im = Image.open(BytesIO(icon.content))\r\n",
    "plt.imshow(im)\r\n",
    "ax.set_axis_off()\r\n",
    "plt.show()\r\n",
    "\r\n",
    "print(f\"Today, sun rises at {ts2dt(current['sunrise'], '%H:%M')[0]} \\\r\n",
    "and sets at {ts2dt(current['sunset'], '%H:%M')[0]}.\\n\\\r\n",
    "Currently, the weather is {current['weather'][0]['main']} ({current['weather'][0]['description']}).\\n\\\r\n",
    "The temperature is {current['temp']}°C and it feels like {current['feels_like']}°C.\\n\\\r\n",
    "The UV index is {current['uvi']}, humidity is {current['humidity']}%.\\n\\\r\n",
    "The pressure is {current['pressure']} hPa, percentage of cloud cover is {current['clouds']}%\\n\\\r\n",
    "The wind comes from {degrees_to_cardinal(current['wind_deg'])} direction with a speed {current['wind_speed']} m/s.\")"
   ]
  },
  {
   "cell_type": "code",
   "execution_count": 8,
   "metadata": {
    "execution": {
     "iopub.execute_input": "2021-09-22T01:58:12.466691Z",
     "iopub.status.busy": "2021-09-22T01:58:12.466179Z",
     "iopub.status.idle": "2021-09-22T01:58:12.473642Z",
     "shell.execute_reply": "2021-09-22T01:58:12.474281Z"
    }
   },
   "outputs": [],
   "source": [
    "df_hourly = pd.DataFrame(data['hourly'])\r\n",
    "df_daily = pd.DataFrame(data['daily'])"
   ]
  },
  {
   "cell_type": "code",
   "execution_count": 9,
   "metadata": {
    "execution": {
     "iopub.execute_input": "2021-09-22T01:58:12.477695Z",
     "iopub.status.busy": "2021-09-22T01:58:12.476692Z",
     "iopub.status.idle": "2021-09-22T01:58:12.789345Z",
     "shell.execute_reply": "2021-09-22T01:58:12.788871Z"
    }
   },
   "outputs": [
    {
     "data": {
      "image/png": "[encoded data removed]",
      "text/plain": [
       "<Figure size 864x432 with 1 Axes>"
      ]
     },
     "metadata": {
      "needs_background": "light"
     },
     "output_type": "display_data"
    }
   ],
   "source": [
    "fig, ax = plt.subplots(figsize=(12, 6))\r\n",
    "plt.plot(df_hourly.temp, '.-', label='Temperature')\r\n",
    "plt.plot(df_hourly.feels_like, '.-', label='Feels Like')\r\n",
    "ax.set(title='Temperature in future 48 hours', xlabel='Time', ylabel='Temperature')\r\n",
    "ax.set_xticks(list(range(0, len(df_hourly), 2)))\r\n",
    "ax.set_xticklabels([ts2dt(ts, '%m-%d %H:%M')[0] for i, ts in enumerate(df_hourly.dt) if i%2==0], \r\n",
    "                   rotation=45, ha=\"right\")\r\n",
    "ax.locator_params(nbins=15, axis='y')\r\n",
    "plt.legend()\r\n",
    "plt.show()"
   ]
  },
  {
   "cell_type": "code",
   "execution_count": 10,
   "metadata": {
    "execution": {
     "iopub.execute_input": "2021-09-22T01:58:12.793873Z",
     "iopub.status.busy": "2021-09-22T01:58:12.793123Z",
     "iopub.status.idle": "2021-09-22T01:58:12.810608Z",
     "shell.execute_reply": "2021-09-22T01:58:12.811096Z"
    }
   },
   "outputs": [
    {
     "data": {
      "text/html": [
       "<div>\n",
       "<style scoped>\n",
       "    .dataframe tbody tr th:only-of-type {\n",
       "        vertical-align: middle;\n",
       "    }\n",
       "\n",
       "    .dataframe tbody tr th {\n",
       "        vertical-align: top;\n",
       "    }\n",
       "\n",
       "    .dataframe thead th {\n",
       "        text-align: right;\n",
       "    }\n",
       "</style>\n",
       "<table border=\"1\" class=\"dataframe\">\n",
       "  <thead>\n",
       "    <tr style=\"text-align: right;\">\n",
       "      <th></th>\n",
       "      <th>dt</th>\n",
       "      <th>temp</th>\n",
       "      <th>feels_like</th>\n",
       "      <th>pressure</th>\n",
       "      <th>humidity</th>\n",
       "      <th>dew_point</th>\n",
       "      <th>uvi</th>\n",
       "      <th>clouds</th>\n",
       "      <th>visibility</th>\n",
       "      <th>wind_speed</th>\n",
       "      <th>wind_deg</th>\n",
       "      <th>wind_gust</th>\n",
       "      <th>weather</th>\n",
       "      <th>pop</th>\n",
       "      <th>rain</th>\n",
       "    </tr>\n",
       "  </thead>\n",
       "  <tbody>\n",
       "    <tr>\n",
       "      <th>0</th>\n",
       "      <td>1632272400</td>\n",
       "      <td>30.87</td>\n",
       "      <td>37.87</td>\n",
       "      <td>1012</td>\n",
       "      <td>73</td>\n",
       "      <td>25.46</td>\n",
       "      <td>3.08</td>\n",
       "      <td>61</td>\n",
       "      <td>10000</td>\n",
       "      <td>2.56</td>\n",
       "      <td>75</td>\n",
       "      <td>2.98</td>\n",
       "      <td>[{'id': 803, 'main': 'Clouds', 'description': ...</td>\n",
       "      <td>0.0</td>\n",
       "      <td>NaN</td>\n",
       "    </tr>\n",
       "    <tr>\n",
       "      <th>1</th>\n",
       "      <td>1632276000</td>\n",
       "      <td>31.23</td>\n",
       "      <td>38.23</td>\n",
       "      <td>1012</td>\n",
       "      <td>74</td>\n",
       "      <td>26.04</td>\n",
       "      <td>5.80</td>\n",
       "      <td>59</td>\n",
       "      <td>10000</td>\n",
       "      <td>3.08</td>\n",
       "      <td>90</td>\n",
       "      <td>3.37</td>\n",
       "      <td>[{'id': 803, 'main': 'Clouds', 'description': ...</td>\n",
       "      <td>0.0</td>\n",
       "      <td>NaN</td>\n",
       "    </tr>\n",
       "    <tr>\n",
       "      <th>2</th>\n",
       "      <td>1632279600</td>\n",
       "      <td>31.04</td>\n",
       "      <td>38.04</td>\n",
       "      <td>1012</td>\n",
       "      <td>73</td>\n",
       "      <td>25.63</td>\n",
       "      <td>8.36</td>\n",
       "      <td>58</td>\n",
       "      <td>10000</td>\n",
       "      <td>3.50</td>\n",
       "      <td>101</td>\n",
       "      <td>3.45</td>\n",
       "      <td>[{'id': 803, 'main': 'Clouds', 'description': ...</td>\n",
       "      <td>0.0</td>\n",
       "      <td>NaN</td>\n",
       "    </tr>\n",
       "    <tr>\n",
       "      <th>3</th>\n",
       "      <td>1632283200</td>\n",
       "      <td>30.95</td>\n",
       "      <td>37.77</td>\n",
       "      <td>1012</td>\n",
       "      <td>71</td>\n",
       "      <td>25.07</td>\n",
       "      <td>9.98</td>\n",
       "      <td>53</td>\n",
       "      <td>10000</td>\n",
       "      <td>3.54</td>\n",
       "      <td>103</td>\n",
       "      <td>3.32</td>\n",
       "      <td>[{'id': 803, 'main': 'Clouds', 'description': ...</td>\n",
       "      <td>0.0</td>\n",
       "      <td>NaN</td>\n",
       "    </tr>\n",
       "    <tr>\n",
       "      <th>4</th>\n",
       "      <td>1632286800</td>\n",
       "      <td>30.89</td>\n",
       "      <td>37.01</td>\n",
       "      <td>1011</td>\n",
       "      <td>69</td>\n",
       "      <td>24.54</td>\n",
       "      <td>9.80</td>\n",
       "      <td>48</td>\n",
       "      <td>10000</td>\n",
       "      <td>3.59</td>\n",
       "      <td>103</td>\n",
       "      <td>3.41</td>\n",
       "      <td>[{'id': 802, 'main': 'Clouds', 'description': ...</td>\n",
       "      <td>0.0</td>\n",
       "      <td>NaN</td>\n",
       "    </tr>\n",
       "  </tbody>\n",
       "</table>\n",
       "</div>"
      ],
      "text/plain": [
       "           dt   temp  feels_like  pressure  humidity  dew_point   uvi  clouds  \\\n",
       "0  1632272400  30.87       37.87      1012        73      25.46  3.08      61   \n",
       "1  1632276000  31.23       38.23      1012        74      26.04  5.80      59   \n",
       "2  1632279600  31.04       38.04      1012        73      25.63  8.36      58   \n",
       "3  1632283200  30.95       37.77      1012        71      25.07  9.98      53   \n",
       "4  1632286800  30.89       37.01      1011        69      24.54  9.80      48   \n",
       "\n",
       "   visibility  wind_speed  wind_deg  wind_gust  \\\n",
       "0       10000        2.56        75       2.98   \n",
       "1       10000        3.08        90       3.37   \n",
       "2       10000        3.50       101       3.45   \n",
       "3       10000        3.54       103       3.32   \n",
       "4       10000        3.59       103       3.41   \n",
       "\n",
       "                                             weather  pop rain  \n",
       "0  [{'id': 803, 'main': 'Clouds', 'description': ...  0.0  NaN  \n",
       "1  [{'id': 803, 'main': 'Clouds', 'description': ...  0.0  NaN  \n",
       "2  [{'id': 803, 'main': 'Clouds', 'description': ...  0.0  NaN  \n",
       "3  [{'id': 803, 'main': 'Clouds', 'description': ...  0.0  NaN  \n",
       "4  [{'id': 802, 'main': 'Clouds', 'description': ...  0.0  NaN  "
      ]
     },
     "execution_count": 10,
     "metadata": {},
     "output_type": "execute_result"
    }
   ],
   "source": [
    "df_hourly.head()"
   ]
  },
  {
   "cell_type": "code",
   "execution_count": null,
   "metadata": {},
   "outputs": [],
   "source": []
  }
 ],
 "metadata": {
  "interpreter": {
   "hash": "c1b4cfe941b6d2466ad1fb5979e97da9cda8801728c8091b097ab734208fc00c"
  },
  "kernelspec": {
   "display_name": "Python 3.8.3 64-bit ('base': conda)",
   "name": "python3"
  },
  "language_info": {
   "codemirror_mode": {
    "name": "ipython",
    "version": 3
   },
   "file_extension": ".py",
   "mimetype": "text/x-python",
   "name": "python",
   "nbconvert_exporter": "python",
   "pygments_lexer": "ipython3",
   "version": "3.8.11"
  }
 },
 "nbformat": 4,
 "nbformat_minor": 2
}
