{
 "cells": [
  {
   "cell_type": "code",
   "execution_count": 1,
   "metadata": {
    "execution": {
     "iopub.execute_input": "2021-08-24T03:40:47.920864Z",
     "iopub.status.busy": "2021-08-24T03:40:47.920242Z",
     "iopub.status.idle": "2021-08-24T03:40:49.774226Z",
     "shell.execute_reply": "2021-08-24T03:40:49.773532Z"
    }
   },
   "outputs": [],
   "source": [
    "import json, yaml, requests\r\n",
    "from datetime import datetime\r\n",
    "from dateutil import tz\r\n",
    "import pandas as pd\r\n",
    "from PIL import Image\r\n",
    "from io import BytesIO\r\n",
    "import matplotlib.pyplot as plt\r\n",
    "import seaborn\r\n",
    "\r\n",
    "CONFIG_PATH = \"../config/config.yaml\""
   ]
  },
  {
   "cell_type": "code",
   "execution_count": 2,
   "metadata": {
    "execution": {
     "iopub.execute_input": "2021-08-24T03:40:49.781116Z",
     "iopub.status.busy": "2021-08-24T03:40:49.780004Z",
     "iopub.status.idle": "2021-08-24T03:40:49.787041Z",
     "shell.execute_reply": "2021-08-24T03:40:49.786278Z"
    }
   },
   "outputs": [],
   "source": [
    "with open('../newest_ts', 'r') as f:\r\n",
    "    newest_ts = f.read()\r\n",
    "\r\n",
    "data_path = f\"../data/data_{newest_ts}.json\"\r\n",
    "with open(data_path, 'r') as f:\r\n",
    "    data = json.load(f)\r\n",
    "\r\n",
    "with open(CONFIG_PATH, \"r\") as stream:\r\n",
    "    config = yaml.safe_load(stream)\r\n",
    "\r\n",
    "TIME_ZONE = config['time_zone']\r\n",
    "DATETIME_FORMAT = config['dt_format']"
   ]
  },
  {
   "cell_type": "code",
   "execution_count": 3,
   "metadata": {
    "execution": {
     "iopub.execute_input": "2021-08-24T03:40:49.792341Z",
     "iopub.status.busy": "2021-08-24T03:40:49.791636Z",
     "iopub.status.idle": "2021-08-24T03:40:49.797214Z",
     "shell.execute_reply": "2021-08-24T03:40:49.797675Z"
    }
   },
   "outputs": [
    {
     "name": "stdout",
     "output_type": "stream",
     "text": [
      "Recent query happens at 2021-08-24 11:40:44 (CST).\n"
     ]
    }
   ],
   "source": [
    "def ts2dt(ts, format=DATETIME_FORMAT):\r\n",
    "    dt = (datetime.utcfromtimestamp(int(ts))\r\n",
    "                    .replace(tzinfo=tz.tzutc())\r\n",
    "                    # .astimezone(tz.tzlocal())\r\n",
    "                    .astimezone(tz.gettz(TIME_ZONE)))\r\n",
    "    return dt.strftime(format), dt\r\n",
    "\r\n",
    "_, newest_dt = ts2dt(newest_ts)\r\n",
    "print(f\"Recent query happens at {newest_dt.strftime(DATETIME_FORMAT)} ({newest_dt.tzname()}).\")"
   ]
  },
  {
   "cell_type": "code",
   "execution_count": 4,
   "metadata": {
    "execution": {
     "iopub.execute_input": "2021-08-24T03:40:49.803951Z",
     "iopub.status.busy": "2021-08-24T03:40:49.802502Z",
     "iopub.status.idle": "2021-08-24T03:40:49.804747Z",
     "shell.execute_reply": "2021-08-24T03:40:49.805356Z"
    }
   },
   "outputs": [],
   "source": [
    "def degrees_to_cardinal(d):\r\n",
    "  dirs = ['N', 'NNE', 'NE', 'ENE', 'E', 'ESE', 'SE', 'SSE', 'S', 'SSW', 'SW', 'WSW', 'W', 'WNW', 'NW', 'NNW']\r\n",
    "  ix = int(round(d / (360. / len(dirs))))\r\n",
    "  return dirs[ix % len(dirs)]"
   ]
  },
  {
   "cell_type": "code",
   "execution_count": 5,
   "metadata": {
    "execution": {
     "iopub.execute_input": "2021-08-24T03:40:49.810989Z",
     "iopub.status.busy": "2021-08-24T03:40:49.809319Z",
     "iopub.status.idle": "2021-08-24T03:40:49.811719Z",
     "shell.execute_reply": "2021-08-24T03:40:49.812192Z"
    }
   },
   "outputs": [],
   "source": [
    "# data.keys()"
   ]
  },
  {
   "cell_type": "code",
   "execution_count": 6,
   "metadata": {
    "execution": {
     "iopub.execute_input": "2021-08-24T03:40:49.817102Z",
     "iopub.status.busy": "2021-08-24T03:40:49.815386Z",
     "iopub.status.idle": "2021-08-24T03:40:49.817758Z",
     "shell.execute_reply": "2021-08-24T03:40:49.818198Z"
    }
   },
   "outputs": [],
   "source": [
    "# data['current']"
   ]
  },
  {
   "cell_type": "code",
   "execution_count": 7,
   "metadata": {
    "execution": {
     "iopub.execute_input": "2021-08-24T03:40:49.851265Z",
     "iopub.status.busy": "2021-08-24T03:40:49.847589Z",
     "iopub.status.idle": "2021-08-24T03:40:50.287505Z",
     "shell.execute_reply": "2021-08-24T03:40:50.288305Z"
    }
   },
   "outputs": [
    {
     "data": {
      "image/png": "[encoded data removed]",
      "text/plain": [
       "<Figure size 216x216 with 1 Axes>"
      ]
     },
     "metadata": {
      "needs_background": "light"
     },
     "output_type": "display_data"
    },
    {
     "name": "stdout",
     "output_type": "stream",
     "text": [
      "Today, sun rises at 06:03 and sets at 18:47.\n",
      "Currently, the weather is Clouds (overcast clouds).\n",
      "The temperature is 30.96°C and it feels like 37.96°C.\n",
      "The UV index is 12.09, humidity is 77%.\n",
      "The pressure is 1008 hPa, percentage of cloud cover is 100%\n",
      "The wind comes from SSW direction with a speed 3.17 m/s.\n"
     ]
    }
   ],
   "source": [
    "current = data['current']\r\n",
    "\r\n",
    "fig, ax = plt.subplots(figsize=(3, 3))\r\n",
    "icon = requests.get(f\"http://openweathermap.org/img/wn/{current['weather'][0]['icon']}@2x.png\")\r\n",
    "im = Image.open(BytesIO(icon.content))\r\n",
    "plt.imshow(im)\r\n",
    "ax.set_axis_off()\r\n",
    "plt.show()\r\n",
    "\r\n",
    "print(f\"Today, sun rises at {ts2dt(current['sunrise'], '%H:%M')[0]} \\\r\n",
    "and sets at {ts2dt(current['sunset'], '%H:%M')[0]}.\\n\\\r\n",
    "Currently, the weather is {current['weather'][0]['main']} ({current['weather'][0]['description']}).\\n\\\r\n",
    "The temperature is {current['temp']}°C and it feels like {current['feels_like']}°C.\\n\\\r\n",
    "The UV index is {current['uvi']}, humidity is {current['humidity']}%.\\n\\\r\n",
    "The pressure is {current['pressure']} hPa, percentage of cloud cover is {current['clouds']}%\\n\\\r\n",
    "The wind comes from {degrees_to_cardinal(current['wind_deg'])} direction with a speed {current['wind_speed']} m/s.\")"
   ]
  },
  {
   "cell_type": "code",
   "execution_count": 8,
   "metadata": {
    "execution": {
     "iopub.execute_input": "2021-08-24T03:40:50.292986Z",
     "iopub.status.busy": "2021-08-24T03:40:50.291588Z",
     "iopub.status.idle": "2021-08-24T03:40:50.300529Z",
     "shell.execute_reply": "2021-08-24T03:40:50.301703Z"
    }
   },
   "outputs": [],
   "source": [
    "df_hourly = pd.DataFrame(data['hourly'])\r\n",
    "df_daily = pd.DataFrame(data['daily'])"
   ]
  },
  {
   "cell_type": "code",
   "execution_count": 9,
   "metadata": {
    "execution": {
     "iopub.execute_input": "2021-08-24T03:40:50.305384Z",
     "iopub.status.busy": "2021-08-24T03:40:50.304186Z",
     "iopub.status.idle": "2021-08-24T03:40:50.661604Z",
     "shell.execute_reply": "2021-08-24T03:40:50.661037Z"
    }
   },
   "outputs": [
    {
     "data": {
      "image/png": "[encoded data removed]",
      "text/plain": [
       "<Figure size 864x432 with 1 Axes>"
      ]
     },
     "metadata": {
      "needs_background": "light"
     },
     "output_type": "display_data"
    }
   ],
   "source": [
    "fig, ax = plt.subplots(figsize=(12, 6))\r\n",
    "plt.plot(df_hourly.temp, '.-', label='Temperature')\r\n",
    "plt.plot(df_hourly.feels_like, '.-', label='Feels Like')\r\n",
    "ax.set(title='Temperature in future 48 hours', xlabel='Time', ylabel='Temperature')\r\n",
    "ax.set_xticks(list(range(0, len(df_hourly), 2)))\r\n",
    "ax.set_xticklabels([ts2dt(ts, '%m-%d %H:%M')[0] for i, ts in enumerate(df_hourly.dt) if i%2==0], \r\n",
    "                   rotation=45, ha=\"right\")\r\n",
    "ax.locator_params(nbins=15, axis='y')\r\n",
    "plt.legend()\r\n",
    "plt.show()"
   ]
  },
  {
   "cell_type": "code",
   "execution_count": 10,
   "metadata": {
    "execution": {
     "iopub.execute_input": "2021-08-24T03:40:50.675323Z",
     "iopub.status.busy": "2021-08-24T03:40:50.666502Z",
     "iopub.status.idle": "2021-08-24T03:40:50.689398Z",
     "shell.execute_reply": "2021-08-24T03:40:50.688784Z"
    }
   },
   "outputs": [
    {
     "data": {
      "text/html": [
       "<div>\n",
       "<style scoped>\n",
       "    .dataframe tbody tr th:only-of-type {\n",
       "        vertical-align: middle;\n",
       "    }\n",
       "\n",
       "    .dataframe tbody tr th {\n",
       "        vertical-align: top;\n",
       "    }\n",
       "\n",
       "    .dataframe thead th {\n",
       "        text-align: right;\n",
       "    }\n",
       "</style>\n",
       "<table border=\"1\" class=\"dataframe\">\n",
       "  <thead>\n",
       "    <tr style=\"text-align: right;\">\n",
       "      <th></th>\n",
       "      <th>dt</th>\n",
       "      <th>temp</th>\n",
       "      <th>feels_like</th>\n",
       "      <th>pressure</th>\n",
       "      <th>humidity</th>\n",
       "      <th>dew_point</th>\n",
       "      <th>uvi</th>\n",
       "      <th>clouds</th>\n",
       "      <th>visibility</th>\n",
       "      <th>wind_speed</th>\n",
       "      <th>wind_deg</th>\n",
       "      <th>wind_gust</th>\n",
       "      <th>weather</th>\n",
       "      <th>pop</th>\n",
       "      <th>rain</th>\n",
       "    </tr>\n",
       "  </thead>\n",
       "  <tbody>\n",
       "    <tr>\n",
       "      <th>0</th>\n",
       "      <td>1629774000</td>\n",
       "      <td>30.75</td>\n",
       "      <td>37.75</td>\n",
       "      <td>1008</td>\n",
       "      <td>75</td>\n",
       "      <td>25.80</td>\n",
       "      <td>10.17</td>\n",
       "      <td>100</td>\n",
       "      <td>10000</td>\n",
       "      <td>2.73</td>\n",
       "      <td>206</td>\n",
       "      <td>3.37</td>\n",
       "      <td>[{'id': 804, 'main': 'Clouds', 'description': ...</td>\n",
       "      <td>0.23</td>\n",
       "      <td>NaN</td>\n",
       "    </tr>\n",
       "    <tr>\n",
       "      <th>1</th>\n",
       "      <td>1629777600</td>\n",
       "      <td>30.96</td>\n",
       "      <td>37.96</td>\n",
       "      <td>1008</td>\n",
       "      <td>77</td>\n",
       "      <td>26.45</td>\n",
       "      <td>12.09</td>\n",
       "      <td>100</td>\n",
       "      <td>10000</td>\n",
       "      <td>3.17</td>\n",
       "      <td>206</td>\n",
       "      <td>3.60</td>\n",
       "      <td>[{'id': 804, 'main': 'Clouds', 'description': ...</td>\n",
       "      <td>0.32</td>\n",
       "      <td>NaN</td>\n",
       "    </tr>\n",
       "    <tr>\n",
       "      <th>2</th>\n",
       "      <td>1629781200</td>\n",
       "      <td>30.83</td>\n",
       "      <td>37.83</td>\n",
       "      <td>1008</td>\n",
       "      <td>75</td>\n",
       "      <td>25.88</td>\n",
       "      <td>11.91</td>\n",
       "      <td>100</td>\n",
       "      <td>10000</td>\n",
       "      <td>3.18</td>\n",
       "      <td>207</td>\n",
       "      <td>3.45</td>\n",
       "      <td>[{'id': 804, 'main': 'Clouds', 'description': ...</td>\n",
       "      <td>0.31</td>\n",
       "      <td>NaN</td>\n",
       "    </tr>\n",
       "    <tr>\n",
       "      <th>3</th>\n",
       "      <td>1629784800</td>\n",
       "      <td>30.74</td>\n",
       "      <td>37.74</td>\n",
       "      <td>1008</td>\n",
       "      <td>73</td>\n",
       "      <td>25.34</td>\n",
       "      <td>9.90</td>\n",
       "      <td>100</td>\n",
       "      <td>10000</td>\n",
       "      <td>3.35</td>\n",
       "      <td>197</td>\n",
       "      <td>3.35</td>\n",
       "      <td>[{'id': 804, 'main': 'Clouds', 'description': ...</td>\n",
       "      <td>0.31</td>\n",
       "      <td>NaN</td>\n",
       "    </tr>\n",
       "    <tr>\n",
       "      <th>4</th>\n",
       "      <td>1629788400</td>\n",
       "      <td>30.57</td>\n",
       "      <td>36.74</td>\n",
       "      <td>1007</td>\n",
       "      <td>71</td>\n",
       "      <td>24.71</td>\n",
       "      <td>6.42</td>\n",
       "      <td>100</td>\n",
       "      <td>10000</td>\n",
       "      <td>3.72</td>\n",
       "      <td>189</td>\n",
       "      <td>3.70</td>\n",
       "      <td>[{'id': 804, 'main': 'Clouds', 'description': ...</td>\n",
       "      <td>0.12</td>\n",
       "      <td>NaN</td>\n",
       "    </tr>\n",
       "  </tbody>\n",
       "</table>\n",
       "</div>"
      ],
      "text/plain": [
       "           dt   temp  feels_like  pressure  humidity  dew_point    uvi  \\\n",
       "0  1629774000  30.75       37.75      1008        75      25.80  10.17   \n",
       "1  1629777600  30.96       37.96      1008        77      26.45  12.09   \n",
       "2  1629781200  30.83       37.83      1008        75      25.88  11.91   \n",
       "3  1629784800  30.74       37.74      1008        73      25.34   9.90   \n",
       "4  1629788400  30.57       36.74      1007        71      24.71   6.42   \n",
       "\n",
       "   clouds  visibility  wind_speed  wind_deg  wind_gust  \\\n",
       "0     100       10000        2.73       206       3.37   \n",
       "1     100       10000        3.17       206       3.60   \n",
       "2     100       10000        3.18       207       3.45   \n",
       "3     100       10000        3.35       197       3.35   \n",
       "4     100       10000        3.72       189       3.70   \n",
       "\n",
       "                                             weather   pop rain  \n",
       "0  [{'id': 804, 'main': 'Clouds', 'description': ...  0.23  NaN  \n",
       "1  [{'id': 804, 'main': 'Clouds', 'description': ...  0.32  NaN  \n",
       "2  [{'id': 804, 'main': 'Clouds', 'description': ...  0.31  NaN  \n",
       "3  [{'id': 804, 'main': 'Clouds', 'description': ...  0.31  NaN  \n",
       "4  [{'id': 804, 'main': 'Clouds', 'description': ...  0.12  NaN  "
      ]
     },
     "execution_count": 10,
     "metadata": {},
     "output_type": "execute_result"
    }
   ],
   "source": [
    "df_hourly.head()"
   ]
  },
  {
   "cell_type": "code",
   "execution_count": null,
   "metadata": {},
   "outputs": [],
   "source": []
  }
 ],
 "metadata": {
  "interpreter": {
   "hash": "c1b4cfe941b6d2466ad1fb5979e97da9cda8801728c8091b097ab734208fc00c"
  },
  "kernelspec": {
   "display_name": "Python 3.8.3 64-bit ('base': conda)",
   "name": "python3"
  },
  "language_info": {
   "codemirror_mode": {
    "name": "ipython",
    "version": 3
   },
   "file_extension": ".py",
   "mimetype": "text/x-python",
   "name": "python",
   "nbconvert_exporter": "python",
   "pygments_lexer": "ipython3",
   "version": "3.8.11"
  }
 },
 "nbformat": 4,
 "nbformat_minor": 2
}
