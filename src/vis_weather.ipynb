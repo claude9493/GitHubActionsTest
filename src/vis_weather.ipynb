{
 "cells": [
  {
   "cell_type": "code",
   "execution_count": 1,
   "metadata": {
    "execution": {
     "iopub.execute_input": "2021-09-17T10:12:26.216716Z",
     "iopub.status.busy": "2021-09-17T10:12:26.216130Z",
     "iopub.status.idle": "2021-09-17T10:12:27.353215Z",
     "shell.execute_reply": "2021-09-17T10:12:27.353645Z"
    }
   },
   "outputs": [],
   "source": [
    "import json, yaml, requests\r\n",
    "from datetime import datetime\r\n",
    "from dateutil import tz\r\n",
    "import pandas as pd\r\n",
    "from PIL import Image\r\n",
    "from io import BytesIO\r\n",
    "import matplotlib.pyplot as plt\r\n",
    "import seaborn\r\n",
    "\r\n",
    "CONFIG_PATH = \"../config/config.yaml\""
   ]
  },
  {
   "cell_type": "code",
   "execution_count": 2,
   "metadata": {
    "execution": {
     "iopub.execute_input": "2021-09-17T10:12:27.360848Z",
     "iopub.status.busy": "2021-09-17T10:12:27.358088Z",
     "iopub.status.idle": "2021-09-17T10:12:27.364373Z",
     "shell.execute_reply": "2021-09-17T10:12:27.363993Z"
    }
   },
   "outputs": [],
   "source": [
    "with open('../newest_ts', 'r') as f:\r\n",
    "    newest_ts = f.read()\r\n",
    "\r\n",
    "data_path = f\"../data/data_{newest_ts}.json\"\r\n",
    "with open(data_path, 'r') as f:\r\n",
    "    data = json.load(f)\r\n",
    "\r\n",
    "with open(CONFIG_PATH, \"r\") as stream:\r\n",
    "    config = yaml.safe_load(stream)\r\n",
    "\r\n",
    "TIME_ZONE = config['time_zone']\r\n",
    "DATETIME_FORMAT = config['dt_format']"
   ]
  },
  {
   "cell_type": "code",
   "execution_count": 3,
   "metadata": {
    "execution": {
     "iopub.execute_input": "2021-09-17T10:12:27.369467Z",
     "iopub.status.busy": "2021-09-17T10:12:27.368045Z",
     "iopub.status.idle": "2021-09-17T10:12:27.372078Z",
     "shell.execute_reply": "2021-09-17T10:12:27.372451Z"
    }
   },
   "outputs": [
    {
     "name": "stdout",
     "output_type": "stream",
     "text": [
      "Recent query happens at 2021-09-17 18:12:23 (CST).\n"
     ]
    }
   ],
   "source": [
    "def ts2dt(ts, format=DATETIME_FORMAT):\r\n",
    "    dt = (datetime.utcfromtimestamp(int(ts))\r\n",
    "                    .replace(tzinfo=tz.tzutc())\r\n",
    "                    # .astimezone(tz.tzlocal())\r\n",
    "                    .astimezone(tz.gettz(TIME_ZONE)))\r\n",
    "    return dt.strftime(format), dt\r\n",
    "\r\n",
    "_, newest_dt = ts2dt(newest_ts)\r\n",
    "print(f\"Recent query happens at {newest_dt.strftime(DATETIME_FORMAT)} ({newest_dt.tzname()}).\")"
   ]
  },
  {
   "cell_type": "code",
   "execution_count": 4,
   "metadata": {
    "execution": {
     "iopub.execute_input": "2021-09-17T10:12:27.376434Z",
     "iopub.status.busy": "2021-09-17T10:12:27.375977Z",
     "iopub.status.idle": "2021-09-17T10:12:27.377740Z",
     "shell.execute_reply": "2021-09-17T10:12:27.378097Z"
    }
   },
   "outputs": [],
   "source": [
    "def degrees_to_cardinal(d):\r\n",
    "  dirs = ['N', 'NNE', 'NE', 'ENE', 'E', 'ESE', 'SE', 'SSE', 'S', 'SSW', 'SW', 'WSW', 'W', 'WNW', 'NW', 'NNW']\r\n",
    "  ix = int(round(d / (360. / len(dirs))))\r\n",
    "  return dirs[ix % len(dirs)]"
   ]
  },
  {
   "cell_type": "code",
   "execution_count": 5,
   "metadata": {
    "execution": {
     "iopub.execute_input": "2021-09-17T10:12:27.381789Z",
     "iopub.status.busy": "2021-09-17T10:12:27.380828Z",
     "iopub.status.idle": "2021-09-17T10:12:27.382867Z",
     "shell.execute_reply": "2021-09-17T10:12:27.382486Z"
    }
   },
   "outputs": [],
   "source": [
    "# data.keys()"
   ]
  },
  {
   "cell_type": "code",
   "execution_count": 6,
   "metadata": {
    "execution": {
     "iopub.execute_input": "2021-09-17T10:12:27.386516Z",
     "iopub.status.busy": "2021-09-17T10:12:27.385381Z",
     "iopub.status.idle": "2021-09-17T10:12:27.387029Z",
     "shell.execute_reply": "2021-09-17T10:12:27.387392Z"
    }
   },
   "outputs": [],
   "source": [
    "# data['current']"
   ]
  },
  {
   "cell_type": "code",
   "execution_count": 7,
   "metadata": {
    "execution": {
     "iopub.execute_input": "2021-09-17T10:12:27.403138Z",
     "iopub.status.busy": "2021-09-17T10:12:27.389059Z",
     "iopub.status.idle": "2021-09-17T10:12:27.806584Z",
     "shell.execute_reply": "2021-09-17T10:12:27.807234Z"
    }
   },
   "outputs": [
    {
     "data": {
      "image/png": "[encoded data removed]",
      "text/plain": [
       "<Figure size 216x216 with 1 Axes>"
      ]
     },
     "metadata": {
      "needs_background": "light"
     },
     "output_type": "display_data"
    },
    {
     "name": "stdout",
     "output_type": "stream",
     "text": [
      "Today, sun rises at 06:10 and sets at 18:25.\n",
      "Currently, the weather is Clear (clear sky).\n",
      "The temperature is 30.9°C and it feels like 37.9°C.\n",
      "The UV index is 0.14, humidity is 74%.\n",
      "The pressure is 1008 hPa, percentage of cloud cover is 8%\n",
      "The wind comes from SE direction with a speed 2.09 m/s.\n"
     ]
    }
   ],
   "source": [
    "current = data['current']\r\n",
    "\r\n",
    "fig, ax = plt.subplots(figsize=(3, 3))\r\n",
    "icon = requests.get(f\"http://openweathermap.org/img/wn/{current['weather'][0]['icon']}@2x.png\")\r\n",
    "im = Image.open(BytesIO(icon.content))\r\n",
    "plt.imshow(im)\r\n",
    "ax.set_axis_off()\r\n",
    "plt.show()\r\n",
    "\r\n",
    "print(f\"Today, sun rises at {ts2dt(current['sunrise'], '%H:%M')[0]} \\\r\n",
    "and sets at {ts2dt(current['sunset'], '%H:%M')[0]}.\\n\\\r\n",
    "Currently, the weather is {current['weather'][0]['main']} ({current['weather'][0]['description']}).\\n\\\r\n",
    "The temperature is {current['temp']}°C and it feels like {current['feels_like']}°C.\\n\\\r\n",
    "The UV index is {current['uvi']}, humidity is {current['humidity']}%.\\n\\\r\n",
    "The pressure is {current['pressure']} hPa, percentage of cloud cover is {current['clouds']}%\\n\\\r\n",
    "The wind comes from {degrees_to_cardinal(current['wind_deg'])} direction with a speed {current['wind_speed']} m/s.\")"
   ]
  },
  {
   "cell_type": "code",
   "execution_count": 8,
   "metadata": {
    "execution": {
     "iopub.execute_input": "2021-09-17T10:12:27.810402Z",
     "iopub.status.busy": "2021-09-17T10:12:27.809471Z",
     "iopub.status.idle": "2021-09-17T10:12:27.816116Z",
     "shell.execute_reply": "2021-09-17T10:12:27.816745Z"
    }
   },
   "outputs": [],
   "source": [
    "df_hourly = pd.DataFrame(data['hourly'])\r\n",
    "df_daily = pd.DataFrame(data['daily'])"
   ]
  },
  {
   "cell_type": "code",
   "execution_count": 9,
   "metadata": {
    "execution": {
     "iopub.execute_input": "2021-09-17T10:12:27.819785Z",
     "iopub.status.busy": "2021-09-17T10:12:27.818777Z",
     "iopub.status.idle": "2021-09-17T10:12:28.061248Z",
     "shell.execute_reply": "2021-09-17T10:12:28.060476Z"
    }
   },
   "outputs": [
    {
     "data": {
      "image/png": "[encoded data removed]",
      "text/plain": [
       "<Figure size 864x432 with 1 Axes>"
      ]
     },
     "metadata": {
      "needs_background": "light"
     },
     "output_type": "display_data"
    }
   ],
   "source": [
    "fig, ax = plt.subplots(figsize=(12, 6))\r\n",
    "plt.plot(df_hourly.temp, '.-', label='Temperature')\r\n",
    "plt.plot(df_hourly.feels_like, '.-', label='Feels Like')\r\n",
    "ax.set(title='Temperature in future 48 hours', xlabel='Time', ylabel='Temperature')\r\n",
    "ax.set_xticks(list(range(0, len(df_hourly), 2)))\r\n",
    "ax.set_xticklabels([ts2dt(ts, '%m-%d %H:%M')[0] for i, ts in enumerate(df_hourly.dt) if i%2==0], \r\n",
    "                   rotation=45, ha=\"right\")\r\n",
    "ax.locator_params(nbins=15, axis='y')\r\n",
    "plt.legend()\r\n",
    "plt.show()"
   ]
  },
  {
   "cell_type": "code",
   "execution_count": 10,
   "metadata": {
    "execution": {
     "iopub.execute_input": "2021-09-17T10:12:28.073010Z",
     "iopub.status.busy": "2021-09-17T10:12:28.065122Z",
     "iopub.status.idle": "2021-09-17T10:12:28.084086Z",
     "shell.execute_reply": "2021-09-17T10:12:28.083685Z"
    }
   },
   "outputs": [
    {
     "data": {
      "text/html": [
       "<div>\n",
       "<style scoped>\n",
       "    .dataframe tbody tr th:only-of-type {\n",
       "        vertical-align: middle;\n",
       "    }\n",
       "\n",
       "    .dataframe tbody tr th {\n",
       "        vertical-align: top;\n",
       "    }\n",
       "\n",
       "    .dataframe thead th {\n",
       "        text-align: right;\n",
       "    }\n",
       "</style>\n",
       "<table border=\"1\" class=\"dataframe\">\n",
       "  <thead>\n",
       "    <tr style=\"text-align: right;\">\n",
       "      <th></th>\n",
       "      <th>dt</th>\n",
       "      <th>temp</th>\n",
       "      <th>feels_like</th>\n",
       "      <th>pressure</th>\n",
       "      <th>humidity</th>\n",
       "      <th>dew_point</th>\n",
       "      <th>uvi</th>\n",
       "      <th>clouds</th>\n",
       "      <th>visibility</th>\n",
       "      <th>wind_speed</th>\n",
       "      <th>wind_deg</th>\n",
       "      <th>wind_gust</th>\n",
       "      <th>weather</th>\n",
       "      <th>pop</th>\n",
       "      <th>rain</th>\n",
       "    </tr>\n",
       "  </thead>\n",
       "  <tbody>\n",
       "    <tr>\n",
       "      <th>0</th>\n",
       "      <td>1631872800</td>\n",
       "      <td>30.90</td>\n",
       "      <td>37.90</td>\n",
       "      <td>1008</td>\n",
       "      <td>74</td>\n",
       "      <td>25.72</td>\n",
       "      <td>0.14</td>\n",
       "      <td>8</td>\n",
       "      <td>10000</td>\n",
       "      <td>2.09</td>\n",
       "      <td>142</td>\n",
       "      <td>2.21</td>\n",
       "      <td>[{'id': 800, 'main': 'Clear', 'description': '...</td>\n",
       "      <td>0.02</td>\n",
       "      <td>NaN</td>\n",
       "    </tr>\n",
       "    <tr>\n",
       "      <th>1</th>\n",
       "      <td>1631876400</td>\n",
       "      <td>30.53</td>\n",
       "      <td>37.20</td>\n",
       "      <td>1008</td>\n",
       "      <td>73</td>\n",
       "      <td>25.14</td>\n",
       "      <td>0.00</td>\n",
       "      <td>8</td>\n",
       "      <td>10000</td>\n",
       "      <td>2.24</td>\n",
       "      <td>129</td>\n",
       "      <td>2.51</td>\n",
       "      <td>[{'id': 800, 'main': 'Clear', 'description': '...</td>\n",
       "      <td>0.03</td>\n",
       "      <td>NaN</td>\n",
       "    </tr>\n",
       "    <tr>\n",
       "      <th>2</th>\n",
       "      <td>1631880000</td>\n",
       "      <td>30.05</td>\n",
       "      <td>36.44</td>\n",
       "      <td>1008</td>\n",
       "      <td>75</td>\n",
       "      <td>25.13</td>\n",
       "      <td>0.00</td>\n",
       "      <td>7</td>\n",
       "      <td>10000</td>\n",
       "      <td>2.95</td>\n",
       "      <td>119</td>\n",
       "      <td>3.40</td>\n",
       "      <td>[{'id': 501, 'main': 'Rain', 'description': 'm...</td>\n",
       "      <td>0.23</td>\n",
       "      <td>{'1h': 1.33}</td>\n",
       "    </tr>\n",
       "    <tr>\n",
       "      <th>3</th>\n",
       "      <td>1631883600</td>\n",
       "      <td>29.42</td>\n",
       "      <td>35.22</td>\n",
       "      <td>1009</td>\n",
       "      <td>77</td>\n",
       "      <td>24.96</td>\n",
       "      <td>0.00</td>\n",
       "      <td>3</td>\n",
       "      <td>10000</td>\n",
       "      <td>3.17</td>\n",
       "      <td>113</td>\n",
       "      <td>4.12</td>\n",
       "      <td>[{'id': 800, 'main': 'Clear', 'description': '...</td>\n",
       "      <td>0.39</td>\n",
       "      <td>NaN</td>\n",
       "    </tr>\n",
       "    <tr>\n",
       "      <th>4</th>\n",
       "      <td>1631887200</td>\n",
       "      <td>28.78</td>\n",
       "      <td>33.93</td>\n",
       "      <td>1010</td>\n",
       "      <td>79</td>\n",
       "      <td>24.77</td>\n",
       "      <td>0.00</td>\n",
       "      <td>2</td>\n",
       "      <td>10000</td>\n",
       "      <td>2.86</td>\n",
       "      <td>114</td>\n",
       "      <td>3.97</td>\n",
       "      <td>[{'id': 500, 'main': 'Rain', 'description': 'l...</td>\n",
       "      <td>0.58</td>\n",
       "      <td>{'1h': 0.12}</td>\n",
       "    </tr>\n",
       "  </tbody>\n",
       "</table>\n",
       "</div>"
      ],
      "text/plain": [
       "           dt   temp  feels_like  pressure  humidity  dew_point   uvi  clouds  \\\n",
       "0  1631872800  30.90       37.90      1008        74      25.72  0.14       8   \n",
       "1  1631876400  30.53       37.20      1008        73      25.14  0.00       8   \n",
       "2  1631880000  30.05       36.44      1008        75      25.13  0.00       7   \n",
       "3  1631883600  29.42       35.22      1009        77      24.96  0.00       3   \n",
       "4  1631887200  28.78       33.93      1010        79      24.77  0.00       2   \n",
       "\n",
       "   visibility  wind_speed  wind_deg  wind_gust  \\\n",
       "0       10000        2.09       142       2.21   \n",
       "1       10000        2.24       129       2.51   \n",
       "2       10000        2.95       119       3.40   \n",
       "3       10000        3.17       113       4.12   \n",
       "4       10000        2.86       114       3.97   \n",
       "\n",
       "                                             weather   pop          rain  \n",
       "0  [{'id': 800, 'main': 'Clear', 'description': '...  0.02           NaN  \n",
       "1  [{'id': 800, 'main': 'Clear', 'description': '...  0.03           NaN  \n",
       "2  [{'id': 501, 'main': 'Rain', 'description': 'm...  0.23  {'1h': 1.33}  \n",
       "3  [{'id': 800, 'main': 'Clear', 'description': '...  0.39           NaN  \n",
       "4  [{'id': 500, 'main': 'Rain', 'description': 'l...  0.58  {'1h': 0.12}  "
      ]
     },
     "execution_count": 10,
     "metadata": {},
     "output_type": "execute_result"
    }
   ],
   "source": [
    "df_hourly.head()"
   ]
  },
  {
   "cell_type": "code",
   "execution_count": null,
   "metadata": {},
   "outputs": [],
   "source": []
  }
 ],
 "metadata": {
  "interpreter": {
   "hash": "c1b4cfe941b6d2466ad1fb5979e97da9cda8801728c8091b097ab734208fc00c"
  },
  "kernelspec": {
   "display_name": "Python 3.8.3 64-bit ('base': conda)",
   "name": "python3"
  },
  "language_info": {
   "codemirror_mode": {
    "name": "ipython",
    "version": 3
   },
   "file_extension": ".py",
   "mimetype": "text/x-python",
   "name": "python",
   "nbconvert_exporter": "python",
   "pygments_lexer": "ipython3",
   "version": "3.8.11"
  }
 },
 "nbformat": 4,
 "nbformat_minor": 2
}
