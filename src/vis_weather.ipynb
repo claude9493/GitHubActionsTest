{
 "cells": [
  {
   "cell_type": "code",
   "execution_count": 1,
   "metadata": {
    "execution": {
     "iopub.execute_input": "2021-10-25T08:14:20.901458Z",
     "iopub.status.busy": "2021-10-25T08:14:20.900919Z",
     "iopub.status.idle": "2021-10-25T08:14:23.274961Z",
     "shell.execute_reply": "2021-10-25T08:14:23.274339Z"
    }
   },
   "outputs": [],
   "source": [
    "import json, yaml, requests\r\n",
    "from datetime import datetime\r\n",
    "from dateutil import tz\r\n",
    "import pandas as pd\r\n",
    "from PIL import Image\r\n",
    "from io import BytesIO\r\n",
    "import matplotlib.pyplot as plt\r\n",
    "import seaborn\r\n",
    "\r\n",
    "CONFIG_PATH = \"../config/config.yaml\""
   ]
  },
  {
   "cell_type": "code",
   "execution_count": 2,
   "metadata": {
    "execution": {
     "iopub.execute_input": "2021-10-25T08:14:23.279994Z",
     "iopub.status.busy": "2021-10-25T08:14:23.279519Z",
     "iopub.status.idle": "2021-10-25T08:14:23.284494Z",
     "shell.execute_reply": "2021-10-25T08:14:23.284096Z"
    }
   },
   "outputs": [],
   "source": [
    "with open('../newest_ts', 'r') as f:\r\n",
    "    newest_ts = f.read()\r\n",
    "\r\n",
    "data_path = f\"../data/data_{newest_ts}.json\"\r\n",
    "with open(data_path, 'r') as f:\r\n",
    "    data = json.load(f)\r\n",
    "\r\n",
    "with open(CONFIG_PATH, \"r\") as stream:\r\n",
    "    config = yaml.safe_load(stream)\r\n",
    "\r\n",
    "TIME_ZONE = config['time_zone']\r\n",
    "DATETIME_FORMAT = config['dt_format']"
   ]
  },
  {
   "cell_type": "code",
   "execution_count": 3,
   "metadata": {
    "execution": {
     "iopub.execute_input": "2021-10-25T08:14:23.288600Z",
     "iopub.status.busy": "2021-10-25T08:14:23.288144Z",
     "iopub.status.idle": "2021-10-25T08:14:23.297750Z",
     "shell.execute_reply": "2021-10-25T08:14:23.298122Z"
    }
   },
   "outputs": [
    {
     "name": "stdout",
     "output_type": "stream",
     "text": [
      "Recent query happens at 2021-10-25 16:14:18 (CST).\n"
     ]
    }
   ],
   "source": [
    "def ts2dt(ts, format=DATETIME_FORMAT):\r\n",
    "    dt = (datetime.utcfromtimestamp(int(ts))\r\n",
    "                    .replace(tzinfo=tz.tzutc())\r\n",
    "                    # .astimezone(tz.tzlocal())\r\n",
    "                    .astimezone(tz.gettz(TIME_ZONE)))\r\n",
    "    return dt.strftime(format), dt\r\n",
    "\r\n",
    "_, newest_dt = ts2dt(newest_ts)\r\n",
    "print(f\"Recent query happens at {newest_dt.strftime(DATETIME_FORMAT)} ({newest_dt.tzname()}).\")"
   ]
  },
  {
   "cell_type": "code",
   "execution_count": 4,
   "metadata": {
    "execution": {
     "iopub.execute_input": "2021-10-25T08:14:23.303121Z",
     "iopub.status.busy": "2021-10-25T08:14:23.302066Z",
     "iopub.status.idle": "2021-10-25T08:14:23.303738Z",
     "shell.execute_reply": "2021-10-25T08:14:23.304100Z"
    }
   },
   "outputs": [],
   "source": [
    "def degrees_to_cardinal(d):\r\n",
    "  dirs = ['N', 'NNE', 'NE', 'ENE', 'E', 'ESE', 'SE', 'SSE', 'S', 'SSW', 'SW', 'WSW', 'W', 'WNW', 'NW', 'NNW']\r\n",
    "  ix = int(round(d / (360. / len(dirs))))\r\n",
    "  return dirs[ix % len(dirs)]"
   ]
  },
  {
   "cell_type": "code",
   "execution_count": 5,
   "metadata": {
    "execution": {
     "iopub.execute_input": "2021-10-25T08:14:23.308162Z",
     "iopub.status.busy": "2021-10-25T08:14:23.307144Z",
     "iopub.status.idle": "2021-10-25T08:14:23.308680Z",
     "shell.execute_reply": "2021-10-25T08:14:23.309073Z"
    }
   },
   "outputs": [],
   "source": [
    "# data.keys()"
   ]
  },
  {
   "cell_type": "code",
   "execution_count": 6,
   "metadata": {
    "execution": {
     "iopub.execute_input": "2021-10-25T08:14:23.312769Z",
     "iopub.status.busy": "2021-10-25T08:14:23.311659Z",
     "iopub.status.idle": "2021-10-25T08:14:23.313288Z",
     "shell.execute_reply": "2021-10-25T08:14:23.313647Z"
    }
   },
   "outputs": [],
   "source": [
    "# data['current']"
   ]
  },
  {
   "cell_type": "code",
   "execution_count": 7,
   "metadata": {
    "execution": {
     "iopub.execute_input": "2021-10-25T08:14:23.331565Z",
     "iopub.status.busy": "2021-10-25T08:14:23.329820Z",
     "iopub.status.idle": "2021-10-25T08:14:23.715138Z",
     "shell.execute_reply": "2021-10-25T08:14:23.715804Z"
    }
   },
   "outputs": [
    {
     "data": {
      "image/png": "[encoded data removed]",
      "text/plain": [
       "<Figure size 216x216 with 1 Axes>"
      ]
     },
     "metadata": {
      "needs_background": "light"
     },
     "output_type": "display_data"
    },
    {
     "name": "stdout",
     "output_type": "stream",
     "text": [
      "Today, sun rises at 06:23 and sets at 17:50.\n",
      "Currently, the weather is Clouds (overcast clouds).\n",
      "The temperature is 25.87°C and it feels like 26.31°C.\n",
      "The UV index is 1.65, humidity is 69%.\n",
      "The pressure is 1013 hPa, percentage of cloud cover is 94%\n",
      "The wind comes from E direction with a speed 0.45 m/s.\n"
     ]
    }
   ],
   "source": [
    "current = data['current']\r\n",
    "\r\n",
    "fig, ax = plt.subplots(figsize=(3, 3))\r\n",
    "icon = requests.get(f\"http://openweathermap.org/img/wn/{current['weather'][0]['icon']}@2x.png\")\r\n",
    "im = Image.open(BytesIO(icon.content))\r\n",
    "plt.imshow(im)\r\n",
    "ax.set_axis_off()\r\n",
    "plt.show()\r\n",
    "\r\n",
    "print(f\"Today, sun rises at {ts2dt(current['sunrise'], '%H:%M')[0]} \\\r\n",
    "and sets at {ts2dt(current['sunset'], '%H:%M')[0]}.\\n\\\r\n",
    "Currently, the weather is {current['weather'][0]['main']} ({current['weather'][0]['description']}).\\n\\\r\n",
    "The temperature is {current['temp']}°C and it feels like {current['feels_like']}°C.\\n\\\r\n",
    "The UV index is {current['uvi']}, humidity is {current['humidity']}%.\\n\\\r\n",
    "The pressure is {current['pressure']} hPa, percentage of cloud cover is {current['clouds']}%\\n\\\r\n",
    "The wind comes from {degrees_to_cardinal(current['wind_deg'])} direction with a speed {current['wind_speed']} m/s.\")"
   ]
  },
  {
   "cell_type": "code",
   "execution_count": 8,
   "metadata": {
    "execution": {
     "iopub.execute_input": "2021-10-25T08:14:23.719110Z",
     "iopub.status.busy": "2021-10-25T08:14:23.718186Z",
     "iopub.status.idle": "2021-10-25T08:14:23.725132Z",
     "shell.execute_reply": "2021-10-25T08:14:23.725772Z"
    }
   },
   "outputs": [],
   "source": [
    "df_hourly = pd.DataFrame(data['hourly'])\r\n",
    "df_daily = pd.DataFrame(data['daily'])"
   ]
  },
  {
   "cell_type": "code",
   "execution_count": 9,
   "metadata": {
    "execution": {
     "iopub.execute_input": "2021-10-25T08:14:23.728780Z",
     "iopub.status.busy": "2021-10-25T08:14:23.727838Z",
     "iopub.status.idle": "2021-10-25T08:14:24.026078Z",
     "shell.execute_reply": "2021-10-25T08:14:24.025605Z"
    }
   },
   "outputs": [
    {
     "data": {
      "image/png": "[encoded data removed]",
      "text/plain": [
       "<Figure size 864x432 with 1 Axes>"
      ]
     },
     "metadata": {
      "needs_background": "light"
     },
     "output_type": "display_data"
    }
   ],
   "source": [
    "fig, ax = plt.subplots(figsize=(12, 6))\r\n",
    "plt.plot(df_hourly.temp, '.-', label='Temperature')\r\n",
    "plt.plot(df_hourly.feels_like, '.-', label='Feels Like')\r\n",
    "ax.set(title='Temperature in future 48 hours', xlabel='Time', ylabel='Temperature')\r\n",
    "ax.set_xticks(list(range(0, len(df_hourly), 2)))\r\n",
    "ax.set_xticklabels([ts2dt(ts, '%m-%d %H:%M')[0] for i, ts in enumerate(df_hourly.dt) if i%2==0], \r\n",
    "                   rotation=45, ha=\"right\")\r\n",
    "ax.locator_params(nbins=15, axis='y')\r\n",
    "plt.legend()\r\n",
    "plt.show()"
   ]
  },
  {
   "cell_type": "code",
   "execution_count": 10,
   "metadata": {
    "execution": {
     "iopub.execute_input": "2021-10-25T08:14:24.030713Z",
     "iopub.status.busy": "2021-10-25T08:14:24.030245Z",
     "iopub.status.idle": "2021-10-25T08:14:24.046867Z",
     "shell.execute_reply": "2021-10-25T08:14:24.047238Z"
    }
   },
   "outputs": [
    {
     "data": {
      "text/html": [
       "<div>\n",
       "<style scoped>\n",
       "    .dataframe tbody tr th:only-of-type {\n",
       "        vertical-align: middle;\n",
       "    }\n",
       "\n",
       "    .dataframe tbody tr th {\n",
       "        vertical-align: top;\n",
       "    }\n",
       "\n",
       "    .dataframe thead th {\n",
       "        text-align: right;\n",
       "    }\n",
       "</style>\n",
       "<table border=\"1\" class=\"dataframe\">\n",
       "  <thead>\n",
       "    <tr style=\"text-align: right;\">\n",
       "      <th></th>\n",
       "      <th>dt</th>\n",
       "      <th>temp</th>\n",
       "      <th>feels_like</th>\n",
       "      <th>pressure</th>\n",
       "      <th>humidity</th>\n",
       "      <th>dew_point</th>\n",
       "      <th>uvi</th>\n",
       "      <th>clouds</th>\n",
       "      <th>visibility</th>\n",
       "      <th>wind_speed</th>\n",
       "      <th>wind_deg</th>\n",
       "      <th>wind_gust</th>\n",
       "      <th>weather</th>\n",
       "      <th>pop</th>\n",
       "      <th>rain</th>\n",
       "    </tr>\n",
       "  </thead>\n",
       "  <tbody>\n",
       "    <tr>\n",
       "      <th>0</th>\n",
       "      <td>1635148800</td>\n",
       "      <td>25.87</td>\n",
       "      <td>26.31</td>\n",
       "      <td>1013</td>\n",
       "      <td>69</td>\n",
       "      <td>19.75</td>\n",
       "      <td>1.65</td>\n",
       "      <td>94</td>\n",
       "      <td>10000</td>\n",
       "      <td>3.66</td>\n",
       "      <td>43</td>\n",
       "      <td>4.18</td>\n",
       "      <td>[{'id': 804, 'main': 'Clouds', 'description': ...</td>\n",
       "      <td>0.0</td>\n",
       "      <td>NaN</td>\n",
       "    </tr>\n",
       "    <tr>\n",
       "      <th>1</th>\n",
       "      <td>1635152400</td>\n",
       "      <td>25.55</td>\n",
       "      <td>25.91</td>\n",
       "      <td>1013</td>\n",
       "      <td>67</td>\n",
       "      <td>18.97</td>\n",
       "      <td>0.44</td>\n",
       "      <td>92</td>\n",
       "      <td>10000</td>\n",
       "      <td>3.86</td>\n",
       "      <td>35</td>\n",
       "      <td>4.68</td>\n",
       "      <td>[{'id': 804, 'main': 'Clouds', 'description': ...</td>\n",
       "      <td>0.0</td>\n",
       "      <td>NaN</td>\n",
       "    </tr>\n",
       "    <tr>\n",
       "      <th>2</th>\n",
       "      <td>1635156000</td>\n",
       "      <td>24.99</td>\n",
       "      <td>25.29</td>\n",
       "      <td>1014</td>\n",
       "      <td>67</td>\n",
       "      <td>18.44</td>\n",
       "      <td>0.00</td>\n",
       "      <td>87</td>\n",
       "      <td>10000</td>\n",
       "      <td>3.96</td>\n",
       "      <td>32</td>\n",
       "      <td>4.87</td>\n",
       "      <td>[{'id': 500, 'main': 'Rain', 'description': 'l...</td>\n",
       "      <td>0.2</td>\n",
       "      <td>{'1h': 0.13}</td>\n",
       "    </tr>\n",
       "    <tr>\n",
       "      <th>3</th>\n",
       "      <td>1635159600</td>\n",
       "      <td>24.36</td>\n",
       "      <td>24.60</td>\n",
       "      <td>1014</td>\n",
       "      <td>67</td>\n",
       "      <td>17.84</td>\n",
       "      <td>0.00</td>\n",
       "      <td>80</td>\n",
       "      <td>10000</td>\n",
       "      <td>3.82</td>\n",
       "      <td>34</td>\n",
       "      <td>4.78</td>\n",
       "      <td>[{'id': 803, 'main': 'Clouds', 'description': ...</td>\n",
       "      <td>0.0</td>\n",
       "      <td>NaN</td>\n",
       "    </tr>\n",
       "    <tr>\n",
       "      <th>4</th>\n",
       "      <td>1635163200</td>\n",
       "      <td>23.70</td>\n",
       "      <td>23.85</td>\n",
       "      <td>1015</td>\n",
       "      <td>66</td>\n",
       "      <td>16.98</td>\n",
       "      <td>0.00</td>\n",
       "      <td>72</td>\n",
       "      <td>10000</td>\n",
       "      <td>3.29</td>\n",
       "      <td>40</td>\n",
       "      <td>4.50</td>\n",
       "      <td>[{'id': 803, 'main': 'Clouds', 'description': ...</td>\n",
       "      <td>0.0</td>\n",
       "      <td>NaN</td>\n",
       "    </tr>\n",
       "  </tbody>\n",
       "</table>\n",
       "</div>"
      ],
      "text/plain": [
       "           dt   temp  feels_like  pressure  humidity  dew_point   uvi  clouds  \\\n",
       "0  1635148800  25.87       26.31      1013        69      19.75  1.65      94   \n",
       "1  1635152400  25.55       25.91      1013        67      18.97  0.44      92   \n",
       "2  1635156000  24.99       25.29      1014        67      18.44  0.00      87   \n",
       "3  1635159600  24.36       24.60      1014        67      17.84  0.00      80   \n",
       "4  1635163200  23.70       23.85      1015        66      16.98  0.00      72   \n",
       "\n",
       "   visibility  wind_speed  wind_deg  wind_gust  \\\n",
       "0       10000        3.66        43       4.18   \n",
       "1       10000        3.86        35       4.68   \n",
       "2       10000        3.96        32       4.87   \n",
       "3       10000        3.82        34       4.78   \n",
       "4       10000        3.29        40       4.50   \n",
       "\n",
       "                                             weather  pop          rain  \n",
       "0  [{'id': 804, 'main': 'Clouds', 'description': ...  0.0           NaN  \n",
       "1  [{'id': 804, 'main': 'Clouds', 'description': ...  0.0           NaN  \n",
       "2  [{'id': 500, 'main': 'Rain', 'description': 'l...  0.2  {'1h': 0.13}  \n",
       "3  [{'id': 803, 'main': 'Clouds', 'description': ...  0.0           NaN  \n",
       "4  [{'id': 803, 'main': 'Clouds', 'description': ...  0.0           NaN  "
      ]
     },
     "execution_count": 10,
     "metadata": {},
     "output_type": "execute_result"
    }
   ],
   "source": [
    "df_hourly.head()"
   ]
  },
  {
   "cell_type": "code",
   "execution_count": null,
   "metadata": {},
   "outputs": [],
   "source": []
  }
 ],
 "metadata": {
  "interpreter": {
   "hash": "c1b4cfe941b6d2466ad1fb5979e97da9cda8801728c8091b097ab734208fc00c"
  },
  "kernelspec": {
   "display_name": "Python 3.8.3 64-bit ('base': conda)",
   "name": "python3"
  },
  "language_info": {
   "codemirror_mode": {
    "name": "ipython",
    "version": 3
   },
   "file_extension": ".py",
   "mimetype": "text/x-python",
   "name": "python",
   "nbconvert_exporter": "python",
   "pygments_lexer": "ipython3",
   "version": "3.8.12"
  }
 },
 "nbformat": 4,
 "nbformat_minor": 2
}
