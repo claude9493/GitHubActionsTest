{
 "cells": [
  {
   "cell_type": "code",
   "execution_count": 1,
   "metadata": {
    "execution": {
     "iopub.execute_input": "2021-10-16T23:11:53.794437Z",
     "iopub.status.busy": "2021-10-16T23:11:53.793750Z",
     "iopub.status.idle": "2021-10-16T23:11:57.487741Z",
     "shell.execute_reply": "2021-10-16T23:11:57.487114Z"
    }
   },
   "outputs": [],
   "source": [
    "import json, yaml, requests\r\n",
    "from datetime import datetime\r\n",
    "from dateutil import tz\r\n",
    "import pandas as pd\r\n",
    "from PIL import Image\r\n",
    "from io import BytesIO\r\n",
    "import matplotlib.pyplot as plt\r\n",
    "import seaborn\r\n",
    "\r\n",
    "CONFIG_PATH = \"../config/config.yaml\""
   ]
  },
  {
   "cell_type": "code",
   "execution_count": 2,
   "metadata": {
    "execution": {
     "iopub.execute_input": "2021-10-16T23:11:57.494550Z",
     "iopub.status.busy": "2021-10-16T23:11:57.493621Z",
     "iopub.status.idle": "2021-10-16T23:11:57.499564Z",
     "shell.execute_reply": "2021-10-16T23:11:57.500150Z"
    }
   },
   "outputs": [],
   "source": [
    "with open('../newest_ts', 'r') as f:\r\n",
    "    newest_ts = f.read()\r\n",
    "\r\n",
    "data_path = f\"../data/data_{newest_ts}.json\"\r\n",
    "with open(data_path, 'r') as f:\r\n",
    "    data = json.load(f)\r\n",
    "\r\n",
    "with open(CONFIG_PATH, \"r\") as stream:\r\n",
    "    config = yaml.safe_load(stream)\r\n",
    "\r\n",
    "TIME_ZONE = config['time_zone']\r\n",
    "DATETIME_FORMAT = config['dt_format']"
   ]
  },
  {
   "cell_type": "code",
   "execution_count": 3,
   "metadata": {
    "execution": {
     "iopub.execute_input": "2021-10-16T23:11:57.505291Z",
     "iopub.status.busy": "2021-10-16T23:11:57.504690Z",
     "iopub.status.idle": "2021-10-16T23:11:57.510860Z",
     "shell.execute_reply": "2021-10-16T23:11:57.511321Z"
    }
   },
   "outputs": [
    {
     "name": "stdout",
     "output_type": "stream",
     "text": [
      "Recent query happens at 2021-10-17 07:11:49 (CST).\n"
     ]
    }
   ],
   "source": [
    "def ts2dt(ts, format=DATETIME_FORMAT):\r\n",
    "    dt = (datetime.utcfromtimestamp(int(ts))\r\n",
    "                    .replace(tzinfo=tz.tzutc())\r\n",
    "                    # .astimezone(tz.tzlocal())\r\n",
    "                    .astimezone(tz.gettz(TIME_ZONE)))\r\n",
    "    return dt.strftime(format), dt\r\n",
    "\r\n",
    "_, newest_dt = ts2dt(newest_ts)\r\n",
    "print(f\"Recent query happens at {newest_dt.strftime(DATETIME_FORMAT)} ({newest_dt.tzname()}).\")"
   ]
  },
  {
   "cell_type": "code",
   "execution_count": 4,
   "metadata": {
    "execution": {
     "iopub.execute_input": "2021-10-16T23:11:57.517191Z",
     "iopub.status.busy": "2021-10-16T23:11:57.515936Z",
     "iopub.status.idle": "2021-10-16T23:11:57.517998Z",
     "shell.execute_reply": "2021-10-16T23:11:57.518543Z"
    }
   },
   "outputs": [],
   "source": [
    "def degrees_to_cardinal(d):\r\n",
    "  dirs = ['N', 'NNE', 'NE', 'ENE', 'E', 'ESE', 'SE', 'SSE', 'S', 'SSW', 'SW', 'WSW', 'W', 'WNW', 'NW', 'NNW']\r\n",
    "  ix = int(round(d / (360. / len(dirs))))\r\n",
    "  return dirs[ix % len(dirs)]"
   ]
  },
  {
   "cell_type": "code",
   "execution_count": 5,
   "metadata": {
    "execution": {
     "iopub.execute_input": "2021-10-16T23:11:57.524340Z",
     "iopub.status.busy": "2021-10-16T23:11:57.522475Z",
     "iopub.status.idle": "2021-10-16T23:11:57.525156Z",
     "shell.execute_reply": "2021-10-16T23:11:57.525601Z"
    }
   },
   "outputs": [],
   "source": [
    "# data.keys()"
   ]
  },
  {
   "cell_type": "code",
   "execution_count": 6,
   "metadata": {
    "execution": {
     "iopub.execute_input": "2021-10-16T23:11:57.529078Z",
     "iopub.status.busy": "2021-10-16T23:11:57.528576Z",
     "iopub.status.idle": "2021-10-16T23:11:57.532467Z",
     "shell.execute_reply": "2021-10-16T23:11:57.531764Z"
    }
   },
   "outputs": [],
   "source": [
    "# data['current']"
   ]
  },
  {
   "cell_type": "code",
   "execution_count": 7,
   "metadata": {
    "execution": {
     "iopub.execute_input": "2021-10-16T23:11:57.554469Z",
     "iopub.status.busy": "2021-10-16T23:11:57.553858Z",
     "iopub.status.idle": "2021-10-16T23:11:57.985134Z",
     "shell.execute_reply": "2021-10-16T23:11:57.985688Z"
    }
   },
   "outputs": [
    {
     "data": {
      "image/png": "[encoded data removed]",
      "text/plain": [
       "<Figure size 216x216 with 1 Axes>"
      ]
     },
     "metadata": {
      "needs_background": "light"
     },
     "output_type": "display_data"
    },
    {
     "name": "stdout",
     "output_type": "stream",
     "text": [
      "Today, sun rises at 06:19 and sets at 17:56.\n",
      "Currently, the weather is Clouds (broken clouds).\n",
      "The temperature is 22.9°C and it feels like 23.26°C.\n",
      "The UV index is 0, humidity is 77%.\n",
      "The pressure is 1017 hPa, percentage of cloud cover is 56%\n",
      "The wind comes from NNE direction with a speed 0.45 m/s.\n"
     ]
    }
   ],
   "source": [
    "current = data['current']\r\n",
    "\r\n",
    "fig, ax = plt.subplots(figsize=(3, 3))\r\n",
    "icon = requests.get(f\"http://openweathermap.org/img/wn/{current['weather'][0]['icon']}@2x.png\")\r\n",
    "im = Image.open(BytesIO(icon.content))\r\n",
    "plt.imshow(im)\r\n",
    "ax.set_axis_off()\r\n",
    "plt.show()\r\n",
    "\r\n",
    "print(f\"Today, sun rises at {ts2dt(current['sunrise'], '%H:%M')[0]} \\\r\n",
    "and sets at {ts2dt(current['sunset'], '%H:%M')[0]}.\\n\\\r\n",
    "Currently, the weather is {current['weather'][0]['main']} ({current['weather'][0]['description']}).\\n\\\r\n",
    "The temperature is {current['temp']}°C and it feels like {current['feels_like']}°C.\\n\\\r\n",
    "The UV index is {current['uvi']}, humidity is {current['humidity']}%.\\n\\\r\n",
    "The pressure is {current['pressure']} hPa, percentage of cloud cover is {current['clouds']}%\\n\\\r\n",
    "The wind comes from {degrees_to_cardinal(current['wind_deg'])} direction with a speed {current['wind_speed']} m/s.\")"
   ]
  },
  {
   "cell_type": "code",
   "execution_count": 8,
   "metadata": {
    "execution": {
     "iopub.execute_input": "2021-10-16T23:11:57.988854Z",
     "iopub.status.busy": "2021-10-16T23:11:57.988302Z",
     "iopub.status.idle": "2021-10-16T23:11:57.995984Z",
     "shell.execute_reply": "2021-10-16T23:11:57.996914Z"
    }
   },
   "outputs": [],
   "source": [
    "df_hourly = pd.DataFrame(data['hourly'])\r\n",
    "df_daily = pd.DataFrame(data['daily'])"
   ]
  },
  {
   "cell_type": "code",
   "execution_count": 9,
   "metadata": {
    "execution": {
     "iopub.execute_input": "2021-10-16T23:11:58.001093Z",
     "iopub.status.busy": "2021-10-16T23:11:57.999829Z",
     "iopub.status.idle": "2021-10-16T23:11:58.366342Z",
     "shell.execute_reply": "2021-10-16T23:11:58.366863Z"
    }
   },
   "outputs": [
    {
     "data": {
      "image/png": "[encoded data removed]",
      "text/plain": [
       "<Figure size 864x432 with 1 Axes>"
      ]
     },
     "metadata": {
      "needs_background": "light"
     },
     "output_type": "display_data"
    }
   ],
   "source": [
    "fig, ax = plt.subplots(figsize=(12, 6))\r\n",
    "plt.plot(df_hourly.temp, '.-', label='Temperature')\r\n",
    "plt.plot(df_hourly.feels_like, '.-', label='Feels Like')\r\n",
    "ax.set(title='Temperature in future 48 hours', xlabel='Time', ylabel='Temperature')\r\n",
    "ax.set_xticks(list(range(0, len(df_hourly), 2)))\r\n",
    "ax.set_xticklabels([ts2dt(ts, '%m-%d %H:%M')[0] for i, ts in enumerate(df_hourly.dt) if i%2==0], \r\n",
    "                   rotation=45, ha=\"right\")\r\n",
    "ax.locator_params(nbins=15, axis='y')\r\n",
    "plt.legend()\r\n",
    "plt.show()"
   ]
  },
  {
   "cell_type": "code",
   "execution_count": 10,
   "metadata": {
    "execution": {
     "iopub.execute_input": "2021-10-16T23:11:58.370232Z",
     "iopub.status.busy": "2021-10-16T23:11:58.369641Z",
     "iopub.status.idle": "2021-10-16T23:11:58.392895Z",
     "shell.execute_reply": "2021-10-16T23:11:58.393340Z"
    }
   },
   "outputs": [
    {
     "data": {
      "text/html": [
       "<div>\n",
       "<style scoped>\n",
       "    .dataframe tbody tr th:only-of-type {\n",
       "        vertical-align: middle;\n",
       "    }\n",
       "\n",
       "    .dataframe tbody tr th {\n",
       "        vertical-align: top;\n",
       "    }\n",
       "\n",
       "    .dataframe thead th {\n",
       "        text-align: right;\n",
       "    }\n",
       "</style>\n",
       "<table border=\"1\" class=\"dataframe\">\n",
       "  <thead>\n",
       "    <tr style=\"text-align: right;\">\n",
       "      <th></th>\n",
       "      <th>dt</th>\n",
       "      <th>temp</th>\n",
       "      <th>feels_like</th>\n",
       "      <th>pressure</th>\n",
       "      <th>humidity</th>\n",
       "      <th>dew_point</th>\n",
       "      <th>uvi</th>\n",
       "      <th>clouds</th>\n",
       "      <th>visibility</th>\n",
       "      <th>wind_speed</th>\n",
       "      <th>wind_deg</th>\n",
       "      <th>wind_gust</th>\n",
       "      <th>weather</th>\n",
       "      <th>pop</th>\n",
       "    </tr>\n",
       "  </thead>\n",
       "  <tbody>\n",
       "    <tr>\n",
       "      <th>0</th>\n",
       "      <td>1634425200</td>\n",
       "      <td>22.90</td>\n",
       "      <td>23.26</td>\n",
       "      <td>1017</td>\n",
       "      <td>77</td>\n",
       "      <td>18.66</td>\n",
       "      <td>0.00</td>\n",
       "      <td>56</td>\n",
       "      <td>10000</td>\n",
       "      <td>5.02</td>\n",
       "      <td>24</td>\n",
       "      <td>8.57</td>\n",
       "      <td>[{'id': 803, 'main': 'Clouds', 'description': ...</td>\n",
       "      <td>0.05</td>\n",
       "    </tr>\n",
       "    <tr>\n",
       "      <th>1</th>\n",
       "      <td>1634428800</td>\n",
       "      <td>22.54</td>\n",
       "      <td>22.83</td>\n",
       "      <td>1017</td>\n",
       "      <td>76</td>\n",
       "      <td>18.10</td>\n",
       "      <td>0.72</td>\n",
       "      <td>56</td>\n",
       "      <td>10000</td>\n",
       "      <td>5.36</td>\n",
       "      <td>27</td>\n",
       "      <td>9.55</td>\n",
       "      <td>[{'id': 803, 'main': 'Clouds', 'description': ...</td>\n",
       "      <td>0.05</td>\n",
       "    </tr>\n",
       "    <tr>\n",
       "      <th>2</th>\n",
       "      <td>1634432400</td>\n",
       "      <td>22.63</td>\n",
       "      <td>22.91</td>\n",
       "      <td>1018</td>\n",
       "      <td>75</td>\n",
       "      <td>17.98</td>\n",
       "      <td>2.34</td>\n",
       "      <td>45</td>\n",
       "      <td>10000</td>\n",
       "      <td>6.09</td>\n",
       "      <td>36</td>\n",
       "      <td>10.76</td>\n",
       "      <td>[{'id': 802, 'main': 'Clouds', 'description': ...</td>\n",
       "      <td>0.03</td>\n",
       "    </tr>\n",
       "    <tr>\n",
       "      <th>3</th>\n",
       "      <td>1634436000</td>\n",
       "      <td>22.94</td>\n",
       "      <td>23.20</td>\n",
       "      <td>1019</td>\n",
       "      <td>73</td>\n",
       "      <td>17.84</td>\n",
       "      <td>4.69</td>\n",
       "      <td>35</td>\n",
       "      <td>10000</td>\n",
       "      <td>6.43</td>\n",
       "      <td>42</td>\n",
       "      <td>10.74</td>\n",
       "      <td>[{'id': 802, 'main': 'Clouds', 'description': ...</td>\n",
       "      <td>0.03</td>\n",
       "    </tr>\n",
       "    <tr>\n",
       "      <th>4</th>\n",
       "      <td>1634439600</td>\n",
       "      <td>23.32</td>\n",
       "      <td>23.56</td>\n",
       "      <td>1019</td>\n",
       "      <td>71</td>\n",
       "      <td>17.77</td>\n",
       "      <td>6.97</td>\n",
       "      <td>25</td>\n",
       "      <td>10000</td>\n",
       "      <td>6.45</td>\n",
       "      <td>38</td>\n",
       "      <td>9.41</td>\n",
       "      <td>[{'id': 802, 'main': 'Clouds', 'description': ...</td>\n",
       "      <td>0.05</td>\n",
       "    </tr>\n",
       "  </tbody>\n",
       "</table>\n",
       "</div>"
      ],
      "text/plain": [
       "           dt   temp  feels_like  pressure  humidity  dew_point   uvi  clouds  \\\n",
       "0  1634425200  22.90       23.26      1017        77      18.66  0.00      56   \n",
       "1  1634428800  22.54       22.83      1017        76      18.10  0.72      56   \n",
       "2  1634432400  22.63       22.91      1018        75      17.98  2.34      45   \n",
       "3  1634436000  22.94       23.20      1019        73      17.84  4.69      35   \n",
       "4  1634439600  23.32       23.56      1019        71      17.77  6.97      25   \n",
       "\n",
       "   visibility  wind_speed  wind_deg  wind_gust  \\\n",
       "0       10000        5.02        24       8.57   \n",
       "1       10000        5.36        27       9.55   \n",
       "2       10000        6.09        36      10.76   \n",
       "3       10000        6.43        42      10.74   \n",
       "4       10000        6.45        38       9.41   \n",
       "\n",
       "                                             weather   pop  \n",
       "0  [{'id': 803, 'main': 'Clouds', 'description': ...  0.05  \n",
       "1  [{'id': 803, 'main': 'Clouds', 'description': ...  0.05  \n",
       "2  [{'id': 802, 'main': 'Clouds', 'description': ...  0.03  \n",
       "3  [{'id': 802, 'main': 'Clouds', 'description': ...  0.03  \n",
       "4  [{'id': 802, 'main': 'Clouds', 'description': ...  0.05  "
      ]
     },
     "execution_count": 10,
     "metadata": {},
     "output_type": "execute_result"
    }
   ],
   "source": [
    "df_hourly.head()"
   ]
  },
  {
   "cell_type": "code",
   "execution_count": null,
   "metadata": {},
   "outputs": [],
   "source": []
  }
 ],
 "metadata": {
  "interpreter": {
   "hash": "c1b4cfe941b6d2466ad1fb5979e97da9cda8801728c8091b097ab734208fc00c"
  },
  "kernelspec": {
   "display_name": "Python 3.8.3 64-bit ('base': conda)",
   "name": "python3"
  },
  "language_info": {
   "codemirror_mode": {
    "name": "ipython",
    "version": 3
   },
   "file_extension": ".py",
   "mimetype": "text/x-python",
   "name": "python",
   "nbconvert_exporter": "python",
   "pygments_lexer": "ipython3",
   "version": "3.8.12"
  }
 },
 "nbformat": 4,
 "nbformat_minor": 2
}
