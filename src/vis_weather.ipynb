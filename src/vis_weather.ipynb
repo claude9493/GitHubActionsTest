{
 "cells": [
  {
   "cell_type": "code",
   "execution_count": 1,
   "metadata": {
    "execution": {
     "iopub.execute_input": "2021-10-11T00:41:02.680863Z",
     "iopub.status.busy": "2021-10-11T00:41:02.680291Z",
     "iopub.status.idle": "2021-10-11T00:41:03.889273Z",
     "shell.execute_reply": "2021-10-11T00:41:03.888602Z"
    }
   },
   "outputs": [],
   "source": [
    "import json, yaml, requests\r\n",
    "from datetime import datetime\r\n",
    "from dateutil import tz\r\n",
    "import pandas as pd\r\n",
    "from PIL import Image\r\n",
    "from io import BytesIO\r\n",
    "import matplotlib.pyplot as plt\r\n",
    "import seaborn\r\n",
    "\r\n",
    "CONFIG_PATH = \"../config/config.yaml\""
   ]
  },
  {
   "cell_type": "code",
   "execution_count": 2,
   "metadata": {
    "execution": {
     "iopub.execute_input": "2021-10-11T00:41:03.894695Z",
     "iopub.status.busy": "2021-10-11T00:41:03.893861Z",
     "iopub.status.idle": "2021-10-11T00:41:03.898778Z",
     "shell.execute_reply": "2021-10-11T00:41:03.898401Z"
    }
   },
   "outputs": [],
   "source": [
    "with open('../newest_ts', 'r') as f:\r\n",
    "    newest_ts = f.read()\r\n",
    "\r\n",
    "data_path = f\"../data/data_{newest_ts}.json\"\r\n",
    "with open(data_path, 'r') as f:\r\n",
    "    data = json.load(f)\r\n",
    "\r\n",
    "with open(CONFIG_PATH, \"r\") as stream:\r\n",
    "    config = yaml.safe_load(stream)\r\n",
    "\r\n",
    "TIME_ZONE = config['time_zone']\r\n",
    "DATETIME_FORMAT = config['dt_format']"
   ]
  },
  {
   "cell_type": "code",
   "execution_count": 3,
   "metadata": {
    "execution": {
     "iopub.execute_input": "2021-10-11T00:41:03.902886Z",
     "iopub.status.busy": "2021-10-11T00:41:03.902433Z",
     "iopub.status.idle": "2021-10-11T00:41:03.912221Z",
     "shell.execute_reply": "2021-10-11T00:41:03.912595Z"
    }
   },
   "outputs": [
    {
     "name": "stdout",
     "output_type": "stream",
     "text": [
      "Recent query happens at 2021-10-11 08:40:59 (CST).\n"
     ]
    }
   ],
   "source": [
    "def ts2dt(ts, format=DATETIME_FORMAT):\r\n",
    "    dt = (datetime.utcfromtimestamp(int(ts))\r\n",
    "                    .replace(tzinfo=tz.tzutc())\r\n",
    "                    # .astimezone(tz.tzlocal())\r\n",
    "                    .astimezone(tz.gettz(TIME_ZONE)))\r\n",
    "    return dt.strftime(format), dt\r\n",
    "\r\n",
    "_, newest_dt = ts2dt(newest_ts)\r\n",
    "print(f\"Recent query happens at {newest_dt.strftime(DATETIME_FORMAT)} ({newest_dt.tzname()}).\")"
   ]
  },
  {
   "cell_type": "code",
   "execution_count": 4,
   "metadata": {
    "execution": {
     "iopub.execute_input": "2021-10-11T00:41:03.917391Z",
     "iopub.status.busy": "2021-10-11T00:41:03.916374Z",
     "iopub.status.idle": "2021-10-11T00:41:03.917908Z",
     "shell.execute_reply": "2021-10-11T00:41:03.918269Z"
    }
   },
   "outputs": [],
   "source": [
    "def degrees_to_cardinal(d):\r\n",
    "  dirs = ['N', 'NNE', 'NE', 'ENE', 'E', 'ESE', 'SE', 'SSE', 'S', 'SSW', 'SW', 'WSW', 'W', 'WNW', 'NW', 'NNW']\r\n",
    "  ix = int(round(d / (360. / len(dirs))))\r\n",
    "  return dirs[ix % len(dirs)]"
   ]
  },
  {
   "cell_type": "code",
   "execution_count": 5,
   "metadata": {
    "execution": {
     "iopub.execute_input": "2021-10-11T00:41:03.921367Z",
     "iopub.status.busy": "2021-10-11T00:41:03.920877Z",
     "iopub.status.idle": "2021-10-11T00:41:03.922571Z",
     "shell.execute_reply": "2021-10-11T00:41:03.922917Z"
    }
   },
   "outputs": [],
   "source": [
    "# data.keys()"
   ]
  },
  {
   "cell_type": "code",
   "execution_count": 6,
   "metadata": {
    "execution": {
     "iopub.execute_input": "2021-10-11T00:41:03.926520Z",
     "iopub.status.busy": "2021-10-11T00:41:03.925524Z",
     "iopub.status.idle": "2021-10-11T00:41:03.927037Z",
     "shell.execute_reply": "2021-10-11T00:41:03.927396Z"
    }
   },
   "outputs": [],
   "source": [
    "# data['current']"
   ]
  },
  {
   "cell_type": "code",
   "execution_count": 7,
   "metadata": {
    "execution": {
     "iopub.execute_input": "2021-10-11T00:41:03.945224Z",
     "iopub.status.busy": "2021-10-11T00:41:03.944720Z",
     "iopub.status.idle": "2021-10-11T00:41:04.333718Z",
     "shell.execute_reply": "2021-10-11T00:41:04.333294Z"
    }
   },
   "outputs": [
    {
     "data": {
      "image/png": "[encoded data removed]",
      "text/plain": [
       "<Figure size 216x216 with 1 Axes>"
      ]
     },
     "metadata": {
      "needs_background": "light"
     },
     "output_type": "display_data"
    },
    {
     "name": "stdout",
     "output_type": "stream",
     "text": [
      "Today, sun rises at 06:17 and sets at 18:01.\n",
      "Currently, the weather is Clouds (few clouds).\n",
      "The temperature is 28.53°C and it feels like 32.22°C.\n",
      "The UV index is 2.57, humidity is 73%.\n",
      "The pressure is 1009 hPa, percentage of cloud cover is 16%\n",
      "The wind comes from SSW direction with a speed 0.89 m/s.\n"
     ]
    }
   ],
   "source": [
    "current = data['current']\r\n",
    "\r\n",
    "fig, ax = plt.subplots(figsize=(3, 3))\r\n",
    "icon = requests.get(f\"http://openweathermap.org/img/wn/{current['weather'][0]['icon']}@2x.png\")\r\n",
    "im = Image.open(BytesIO(icon.content))\r\n",
    "plt.imshow(im)\r\n",
    "ax.set_axis_off()\r\n",
    "plt.show()\r\n",
    "\r\n",
    "print(f\"Today, sun rises at {ts2dt(current['sunrise'], '%H:%M')[0]} \\\r\n",
    "and sets at {ts2dt(current['sunset'], '%H:%M')[0]}.\\n\\\r\n",
    "Currently, the weather is {current['weather'][0]['main']} ({current['weather'][0]['description']}).\\n\\\r\n",
    "The temperature is {current['temp']}°C and it feels like {current['feels_like']}°C.\\n\\\r\n",
    "The UV index is {current['uvi']}, humidity is {current['humidity']}%.\\n\\\r\n",
    "The pressure is {current['pressure']} hPa, percentage of cloud cover is {current['clouds']}%\\n\\\r\n",
    "The wind comes from {degrees_to_cardinal(current['wind_deg'])} direction with a speed {current['wind_speed']} m/s.\")"
   ]
  },
  {
   "cell_type": "code",
   "execution_count": 8,
   "metadata": {
    "execution": {
     "iopub.execute_input": "2021-10-11T00:41:04.336134Z",
     "iopub.status.busy": "2021-10-11T00:41:04.335680Z",
     "iopub.status.idle": "2021-10-11T00:41:04.342036Z",
     "shell.execute_reply": "2021-10-11T00:41:04.342617Z"
    }
   },
   "outputs": [],
   "source": [
    "df_hourly = pd.DataFrame(data['hourly'])\r\n",
    "df_daily = pd.DataFrame(data['daily'])"
   ]
  },
  {
   "cell_type": "code",
   "execution_count": 9,
   "metadata": {
    "execution": {
     "iopub.execute_input": "2021-10-11T00:41:04.345449Z",
     "iopub.status.busy": "2021-10-11T00:41:04.344562Z",
     "iopub.status.idle": "2021-10-11T00:41:04.592489Z",
     "shell.execute_reply": "2021-10-11T00:41:04.592065Z"
    }
   },
   "outputs": [
    {
     "data": {
      "image/png": "[encoded data removed]",
      "text/plain": [
       "<Figure size 864x432 with 1 Axes>"
      ]
     },
     "metadata": {
      "needs_background": "light"
     },
     "output_type": "display_data"
    }
   ],
   "source": [
    "fig, ax = plt.subplots(figsize=(12, 6))\r\n",
    "plt.plot(df_hourly.temp, '.-', label='Temperature')\r\n",
    "plt.plot(df_hourly.feels_like, '.-', label='Feels Like')\r\n",
    "ax.set(title='Temperature in future 48 hours', xlabel='Time', ylabel='Temperature')\r\n",
    "ax.set_xticks(list(range(0, len(df_hourly), 2)))\r\n",
    "ax.set_xticklabels([ts2dt(ts, '%m-%d %H:%M')[0] for i, ts in enumerate(df_hourly.dt) if i%2==0], \r\n",
    "                   rotation=45, ha=\"right\")\r\n",
    "ax.locator_params(nbins=15, axis='y')\r\n",
    "plt.legend()\r\n",
    "plt.show()"
   ]
  },
  {
   "cell_type": "code",
   "execution_count": 10,
   "metadata": {
    "execution": {
     "iopub.execute_input": "2021-10-11T00:41:04.604299Z",
     "iopub.status.busy": "2021-10-11T00:41:04.596541Z",
     "iopub.status.idle": "2021-10-11T00:41:04.616291Z",
     "shell.execute_reply": "2021-10-11T00:41:04.615506Z"
    }
   },
   "outputs": [
    {
     "data": {
      "text/html": [
       "<div>\n",
       "<style scoped>\n",
       "    .dataframe tbody tr th:only-of-type {\n",
       "        vertical-align: middle;\n",
       "    }\n",
       "\n",
       "    .dataframe tbody tr th {\n",
       "        vertical-align: top;\n",
       "    }\n",
       "\n",
       "    .dataframe thead th {\n",
       "        text-align: right;\n",
       "    }\n",
       "</style>\n",
       "<table border=\"1\" class=\"dataframe\">\n",
       "  <thead>\n",
       "    <tr style=\"text-align: right;\">\n",
       "      <th></th>\n",
       "      <th>dt</th>\n",
       "      <th>temp</th>\n",
       "      <th>feels_like</th>\n",
       "      <th>pressure</th>\n",
       "      <th>humidity</th>\n",
       "      <th>dew_point</th>\n",
       "      <th>uvi</th>\n",
       "      <th>clouds</th>\n",
       "      <th>visibility</th>\n",
       "      <th>wind_speed</th>\n",
       "      <th>wind_deg</th>\n",
       "      <th>wind_gust</th>\n",
       "      <th>weather</th>\n",
       "      <th>pop</th>\n",
       "      <th>rain</th>\n",
       "    </tr>\n",
       "  </thead>\n",
       "  <tbody>\n",
       "    <tr>\n",
       "      <th>0</th>\n",
       "      <td>1633910400</td>\n",
       "      <td>28.18</td>\n",
       "      <td>31.60</td>\n",
       "      <td>1009</td>\n",
       "      <td>74</td>\n",
       "      <td>23.10</td>\n",
       "      <td>0.86</td>\n",
       "      <td>29</td>\n",
       "      <td>10000</td>\n",
       "      <td>8.20</td>\n",
       "      <td>4</td>\n",
       "      <td>12.45</td>\n",
       "      <td>[{'id': 802, 'main': 'Clouds', 'description': ...</td>\n",
       "      <td>0.0</td>\n",
       "      <td>NaN</td>\n",
       "    </tr>\n",
       "    <tr>\n",
       "      <th>1</th>\n",
       "      <td>1633914000</td>\n",
       "      <td>28.53</td>\n",
       "      <td>32.22</td>\n",
       "      <td>1009</td>\n",
       "      <td>73</td>\n",
       "      <td>23.22</td>\n",
       "      <td>2.57</td>\n",
       "      <td>16</td>\n",
       "      <td>10000</td>\n",
       "      <td>8.52</td>\n",
       "      <td>5</td>\n",
       "      <td>12.10</td>\n",
       "      <td>[{'id': 801, 'main': 'Clouds', 'description': ...</td>\n",
       "      <td>0.0</td>\n",
       "      <td>NaN</td>\n",
       "    </tr>\n",
       "    <tr>\n",
       "      <th>2</th>\n",
       "      <td>1633917600</td>\n",
       "      <td>28.34</td>\n",
       "      <td>31.64</td>\n",
       "      <td>1009</td>\n",
       "      <td>72</td>\n",
       "      <td>22.81</td>\n",
       "      <td>5.06</td>\n",
       "      <td>21</td>\n",
       "      <td>10000</td>\n",
       "      <td>8.47</td>\n",
       "      <td>12</td>\n",
       "      <td>11.18</td>\n",
       "      <td>[{'id': 801, 'main': 'Clouds', 'description': ...</td>\n",
       "      <td>0.0</td>\n",
       "      <td>NaN</td>\n",
       "    </tr>\n",
       "    <tr>\n",
       "      <th>3</th>\n",
       "      <td>1633921200</td>\n",
       "      <td>28.37</td>\n",
       "      <td>31.40</td>\n",
       "      <td>1009</td>\n",
       "      <td>70</td>\n",
       "      <td>22.37</td>\n",
       "      <td>7.47</td>\n",
       "      <td>27</td>\n",
       "      <td>10000</td>\n",
       "      <td>8.43</td>\n",
       "      <td>6</td>\n",
       "      <td>10.83</td>\n",
       "      <td>[{'id': 802, 'main': 'Clouds', 'description': ...</td>\n",
       "      <td>0.0</td>\n",
       "      <td>NaN</td>\n",
       "    </tr>\n",
       "    <tr>\n",
       "      <th>4</th>\n",
       "      <td>1633924800</td>\n",
       "      <td>28.56</td>\n",
       "      <td>31.47</td>\n",
       "      <td>1008</td>\n",
       "      <td>68</td>\n",
       "      <td>22.08</td>\n",
       "      <td>8.69</td>\n",
       "      <td>40</td>\n",
       "      <td>10000</td>\n",
       "      <td>8.14</td>\n",
       "      <td>6</td>\n",
       "      <td>10.60</td>\n",
       "      <td>[{'id': 802, 'main': 'Clouds', 'description': ...</td>\n",
       "      <td>0.0</td>\n",
       "      <td>NaN</td>\n",
       "    </tr>\n",
       "  </tbody>\n",
       "</table>\n",
       "</div>"
      ],
      "text/plain": [
       "           dt   temp  feels_like  pressure  humidity  dew_point   uvi  clouds  \\\n",
       "0  1633910400  28.18       31.60      1009        74      23.10  0.86      29   \n",
       "1  1633914000  28.53       32.22      1009        73      23.22  2.57      16   \n",
       "2  1633917600  28.34       31.64      1009        72      22.81  5.06      21   \n",
       "3  1633921200  28.37       31.40      1009        70      22.37  7.47      27   \n",
       "4  1633924800  28.56       31.47      1008        68      22.08  8.69      40   \n",
       "\n",
       "   visibility  wind_speed  wind_deg  wind_gust  \\\n",
       "0       10000        8.20         4      12.45   \n",
       "1       10000        8.52         5      12.10   \n",
       "2       10000        8.47        12      11.18   \n",
       "3       10000        8.43         6      10.83   \n",
       "4       10000        8.14         6      10.60   \n",
       "\n",
       "                                             weather  pop rain  \n",
       "0  [{'id': 802, 'main': 'Clouds', 'description': ...  0.0  NaN  \n",
       "1  [{'id': 801, 'main': 'Clouds', 'description': ...  0.0  NaN  \n",
       "2  [{'id': 801, 'main': 'Clouds', 'description': ...  0.0  NaN  \n",
       "3  [{'id': 802, 'main': 'Clouds', 'description': ...  0.0  NaN  \n",
       "4  [{'id': 802, 'main': 'Clouds', 'description': ...  0.0  NaN  "
      ]
     },
     "execution_count": 10,
     "metadata": {},
     "output_type": "execute_result"
    }
   ],
   "source": [
    "df_hourly.head()"
   ]
  },
  {
   "cell_type": "code",
   "execution_count": null,
   "metadata": {},
   "outputs": [],
   "source": []
  }
 ],
 "metadata": {
  "interpreter": {
   "hash": "c1b4cfe941b6d2466ad1fb5979e97da9cda8801728c8091b097ab734208fc00c"
  },
  "kernelspec": {
   "display_name": "Python 3.8.3 64-bit ('base': conda)",
   "name": "python3"
  },
  "language_info": {
   "codemirror_mode": {
    "name": "ipython",
    "version": 3
   },
   "file_extension": ".py",
   "mimetype": "text/x-python",
   "name": "python",
   "nbconvert_exporter": "python",
   "pygments_lexer": "ipython3",
   "version": "3.8.12"
  }
 },
 "nbformat": 4,
 "nbformat_minor": 2
}
