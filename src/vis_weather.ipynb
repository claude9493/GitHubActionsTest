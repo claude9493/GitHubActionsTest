{
 "cells": [
  {
   "cell_type": "code",
   "execution_count": 1,
   "metadata": {
    "execution": {
     "iopub.execute_input": "2021-08-23T03:40:47.443080Z",
     "iopub.status.busy": "2021-08-23T03:40:47.442326Z",
     "iopub.status.idle": "2021-08-23T03:40:50.158818Z",
     "shell.execute_reply": "2021-08-23T03:40:50.157727Z"
    }
   },
   "outputs": [],
   "source": [
    "import json\r\n",
    "from datetime import datetime\r\n",
    "from dateutil import tz\r\n",
    "import pandas as pd\r\n",
    "import matplotlib.pyplot as plt\r\n",
    "import seaborn\r\n"
   ]
  },
  {
   "cell_type": "code",
   "execution_count": 2,
   "metadata": {
    "execution": {
     "iopub.execute_input": "2021-08-23T03:40:50.164550Z",
     "iopub.status.busy": "2021-08-23T03:40:50.163210Z",
     "iopub.status.idle": "2021-08-23T03:40:50.167803Z",
     "shell.execute_reply": "2021-08-23T03:40:50.167304Z"
    }
   },
   "outputs": [],
   "source": [
    "with open('../newest_ts', 'r') as f:\r\n",
    "    ts = f.read()\r\n",
    "\r\n",
    "data_path = f\"../data/data_{ts}.json\"\r\n",
    "with open(data_path, 'r') as f:\r\n",
    "    data = json.load(f)"
   ]
  },
  {
   "cell_type": "code",
   "execution_count": 3,
   "metadata": {
    "execution": {
     "iopub.execute_input": "2021-08-23T03:40:50.173764Z",
     "iopub.status.busy": "2021-08-23T03:40:50.172998Z",
     "iopub.status.idle": "2021-08-23T03:40:50.177726Z",
     "shell.execute_reply": "2021-08-23T03:40:50.178210Z"
    }
   },
   "outputs": [
    {
     "name": "stdout",
     "output_type": "stream",
     "text": [
      "Recent query happens at 2021-08-23 03:40:44\n"
     ]
    }
   ],
   "source": [
    "def ts2dt(ts, format='%Y-%m-%d %H:%M:%S'):\r\n",
    "    return (datetime.utcfromtimestamp(int(ts))\r\n",
    "                    .replace(tzinfo=tz.tzutc())\r\n",
    "                    .astimezone(tz.tzlocal())\r\n",
    "                    .strftime(format))\r\n",
    "\r\n",
    "print(f\"Recent query happens at {ts2dt(ts)}\")"
   ]
  },
  {
   "cell_type": "code",
   "execution_count": 4,
   "metadata": {
    "execution": {
     "iopub.execute_input": "2021-08-23T03:40:50.185020Z",
     "iopub.status.busy": "2021-08-23T03:40:50.184457Z",
     "iopub.status.idle": "2021-08-23T03:40:50.188581Z",
     "shell.execute_reply": "2021-08-23T03:40:50.189111Z"
    }
   },
   "outputs": [
    {
     "data": {
      "text/plain": [
       "dict_keys(['lat', 'lon', 'timezone', 'timezone_offset', 'current', 'hourly', 'daily'])"
      ]
     },
     "execution_count": 4,
     "metadata": {},
     "output_type": "execute_result"
    }
   ],
   "source": [
    "data.keys()"
   ]
  },
  {
   "cell_type": "code",
   "execution_count": 5,
   "metadata": {
    "execution": {
     "iopub.execute_input": "2021-08-23T03:40:50.195943Z",
     "iopub.status.busy": "2021-08-23T03:40:50.194791Z",
     "iopub.status.idle": "2021-08-23T03:40:50.198489Z",
     "shell.execute_reply": "2021-08-23T03:40:50.197957Z"
    }
   },
   "outputs": [
    {
     "data": {
      "text/plain": [
       "{'dt': 1629690044,\n",
       " 'sunrise': 1629669780,\n",
       " 'sunset': 1629715720,\n",
       " 'temp': 32.24,\n",
       " 'feels_like': 39.24,\n",
       " 'pressure': 1008,\n",
       " 'humidity': 69,\n",
       " 'dew_point': 25.82,\n",
       " 'uvi': 12.06,\n",
       " 'clouds': 26,\n",
       " 'visibility': 10000,\n",
       " 'wind_speed': 4.66,\n",
       " 'wind_deg': 219,\n",
       " 'wind_gust': 4.81,\n",
       " 'weather': [{'id': 802,\n",
       "   'main': 'Clouds',\n",
       "   'description': 'scattered clouds',\n",
       "   'icon': '03d'}]}"
      ]
     },
     "execution_count": 5,
     "metadata": {},
     "output_type": "execute_result"
    }
   ],
   "source": [
    "data['current']"
   ]
  },
  {
   "cell_type": "code",
   "execution_count": 6,
   "metadata": {
    "execution": {
     "iopub.execute_input": "2021-08-23T03:40:50.203546Z",
     "iopub.status.busy": "2021-08-23T03:40:50.202976Z",
     "iopub.status.idle": "2021-08-23T03:40:50.208587Z",
     "shell.execute_reply": "2021-08-23T03:40:50.208082Z"
    }
   },
   "outputs": [
    {
     "data": {
      "text/plain": [
       "{'dt': 1629687600,\n",
       " 'temp': 31.84,\n",
       " 'feels_like': 38.84,\n",
       " 'pressure': 1008,\n",
       " 'humidity': 69,\n",
       " 'dew_point': 25.44,\n",
       " 'uvi': 10.47,\n",
       " 'clouds': 26,\n",
       " 'visibility': 10000,\n",
       " 'wind_speed': 3.79,\n",
       " 'wind_deg': 218,\n",
       " 'wind_gust': 4.5,\n",
       " 'weather': [{'id': 802,\n",
       "   'main': 'Clouds',\n",
       "   'description': 'scattered clouds',\n",
       "   'icon': '03d'}],\n",
       " 'pop': 0.5}"
      ]
     },
     "execution_count": 6,
     "metadata": {},
     "output_type": "execute_result"
    }
   ],
   "source": [
    "data['hourly'][0]"
   ]
  },
  {
   "cell_type": "code",
   "execution_count": 7,
   "metadata": {
    "execution": {
     "iopub.execute_input": "2021-08-23T03:40:50.216672Z",
     "iopub.status.busy": "2021-08-23T03:40:50.214247Z",
     "iopub.status.idle": "2021-08-23T03:40:50.218938Z",
     "shell.execute_reply": "2021-08-23T03:40:50.218324Z"
    }
   },
   "outputs": [],
   "source": [
    "df_hourly = pd.DataFrame(data['hourly'])\r\n",
    "df_daily = pd.DataFrame(data['daily'])"
   ]
  },
  {
   "cell_type": "code",
   "execution_count": 8,
   "metadata": {
    "execution": {
     "iopub.execute_input": "2021-08-23T03:40:50.231215Z",
     "iopub.status.busy": "2021-08-23T03:40:50.223068Z",
     "iopub.status.idle": "2021-08-23T03:40:50.242434Z",
     "shell.execute_reply": "2021-08-23T03:40:50.242984Z"
    }
   },
   "outputs": [
    {
     "data": {
      "text/html": [
       "<div>\n",
       "<style scoped>\n",
       "    .dataframe tbody tr th:only-of-type {\n",
       "        vertical-align: middle;\n",
       "    }\n",
       "\n",
       "    .dataframe tbody tr th {\n",
       "        vertical-align: top;\n",
       "    }\n",
       "\n",
       "    .dataframe thead th {\n",
       "        text-align: right;\n",
       "    }\n",
       "</style>\n",
       "<table border=\"1\" class=\"dataframe\">\n",
       "  <thead>\n",
       "    <tr style=\"text-align: right;\">\n",
       "      <th></th>\n",
       "      <th>dt</th>\n",
       "      <th>temp</th>\n",
       "      <th>feels_like</th>\n",
       "      <th>pressure</th>\n",
       "      <th>humidity</th>\n",
       "      <th>dew_point</th>\n",
       "      <th>uvi</th>\n",
       "      <th>clouds</th>\n",
       "      <th>visibility</th>\n",
       "      <th>wind_speed</th>\n",
       "      <th>wind_deg</th>\n",
       "      <th>wind_gust</th>\n",
       "      <th>weather</th>\n",
       "      <th>pop</th>\n",
       "      <th>rain</th>\n",
       "    </tr>\n",
       "  </thead>\n",
       "  <tbody>\n",
       "    <tr>\n",
       "      <th>0</th>\n",
       "      <td>1629687600</td>\n",
       "      <td>31.84</td>\n",
       "      <td>38.84</td>\n",
       "      <td>1008</td>\n",
       "      <td>69</td>\n",
       "      <td>25.44</td>\n",
       "      <td>10.47</td>\n",
       "      <td>26</td>\n",
       "      <td>10000</td>\n",
       "      <td>3.79</td>\n",
       "      <td>218</td>\n",
       "      <td>4.50</td>\n",
       "      <td>[{'id': 802, 'main': 'Clouds', 'description': ...</td>\n",
       "      <td>0.50</td>\n",
       "      <td>NaN</td>\n",
       "    </tr>\n",
       "    <tr>\n",
       "      <th>1</th>\n",
       "      <td>1629691200</td>\n",
       "      <td>32.24</td>\n",
       "      <td>39.24</td>\n",
       "      <td>1008</td>\n",
       "      <td>69</td>\n",
       "      <td>25.82</td>\n",
       "      <td>12.06</td>\n",
       "      <td>26</td>\n",
       "      <td>10000</td>\n",
       "      <td>4.66</td>\n",
       "      <td>219</td>\n",
       "      <td>4.81</td>\n",
       "      <td>[{'id': 802, 'main': 'Clouds', 'description': ...</td>\n",
       "      <td>0.49</td>\n",
       "      <td>NaN</td>\n",
       "    </tr>\n",
       "    <tr>\n",
       "      <th>2</th>\n",
       "      <td>1629694800</td>\n",
       "      <td>31.89</td>\n",
       "      <td>38.89</td>\n",
       "      <td>1008</td>\n",
       "      <td>69</td>\n",
       "      <td>25.49</td>\n",
       "      <td>11.88</td>\n",
       "      <td>29</td>\n",
       "      <td>10000</td>\n",
       "      <td>4.48</td>\n",
       "      <td>219</td>\n",
       "      <td>4.48</td>\n",
       "      <td>[{'id': 802, 'main': 'Clouds', 'description': ...</td>\n",
       "      <td>0.41</td>\n",
       "      <td>NaN</td>\n",
       "    </tr>\n",
       "    <tr>\n",
       "      <th>3</th>\n",
       "      <td>1629698400</td>\n",
       "      <td>31.53</td>\n",
       "      <td>38.40</td>\n",
       "      <td>1008</td>\n",
       "      <td>68</td>\n",
       "      <td>24.90</td>\n",
       "      <td>9.88</td>\n",
       "      <td>36</td>\n",
       "      <td>10000</td>\n",
       "      <td>4.33</td>\n",
       "      <td>207</td>\n",
       "      <td>4.33</td>\n",
       "      <td>[{'id': 802, 'main': 'Clouds', 'description': ...</td>\n",
       "      <td>0.46</td>\n",
       "      <td>NaN</td>\n",
       "    </tr>\n",
       "    <tr>\n",
       "      <th>4</th>\n",
       "      <td>1629702000</td>\n",
       "      <td>31.11</td>\n",
       "      <td>37.29</td>\n",
       "      <td>1007</td>\n",
       "      <td>68</td>\n",
       "      <td>24.50</td>\n",
       "      <td>6.78</td>\n",
       "      <td>70</td>\n",
       "      <td>10000</td>\n",
       "      <td>4.00</td>\n",
       "      <td>201</td>\n",
       "      <td>4.19</td>\n",
       "      <td>[{'id': 803, 'main': 'Clouds', 'description': ...</td>\n",
       "      <td>0.05</td>\n",
       "      <td>NaN</td>\n",
       "    </tr>\n",
       "  </tbody>\n",
       "</table>\n",
       "</div>"
      ],
      "text/plain": [
       "           dt   temp  feels_like  pressure  humidity  dew_point    uvi  \\\n",
       "0  1629687600  31.84       38.84      1008        69      25.44  10.47   \n",
       "1  1629691200  32.24       39.24      1008        69      25.82  12.06   \n",
       "2  1629694800  31.89       38.89      1008        69      25.49  11.88   \n",
       "3  1629698400  31.53       38.40      1008        68      24.90   9.88   \n",
       "4  1629702000  31.11       37.29      1007        68      24.50   6.78   \n",
       "\n",
       "   clouds  visibility  wind_speed  wind_deg  wind_gust  \\\n",
       "0      26       10000        3.79       218       4.50   \n",
       "1      26       10000        4.66       219       4.81   \n",
       "2      29       10000        4.48       219       4.48   \n",
       "3      36       10000        4.33       207       4.33   \n",
       "4      70       10000        4.00       201       4.19   \n",
       "\n",
       "                                             weather   pop rain  \n",
       "0  [{'id': 802, 'main': 'Clouds', 'description': ...  0.50  NaN  \n",
       "1  [{'id': 802, 'main': 'Clouds', 'description': ...  0.49  NaN  \n",
       "2  [{'id': 802, 'main': 'Clouds', 'description': ...  0.41  NaN  \n",
       "3  [{'id': 802, 'main': 'Clouds', 'description': ...  0.46  NaN  \n",
       "4  [{'id': 803, 'main': 'Clouds', 'description': ...  0.05  NaN  "
      ]
     },
     "execution_count": 8,
     "metadata": {},
     "output_type": "execute_result"
    }
   ],
   "source": [
    "df_hourly.head()"
   ]
  },
  {
   "cell_type": "code",
   "execution_count": 9,
   "metadata": {
    "execution": {
     "iopub.execute_input": "2021-08-23T03:40:50.263599Z",
     "iopub.status.busy": "2021-08-23T03:40:50.262771Z",
     "iopub.status.idle": "2021-08-23T03:40:50.556227Z",
     "shell.execute_reply": "2021-08-23T03:40:50.556686Z"
    }
   },
   "outputs": [
    {
     "data": {
      "image/png": "[encoded data removed]",
      "text/plain": [
       "<Figure size 864x432 with 1 Axes>"
      ]
     },
     "metadata": {
      "needs_background": "light"
     },
     "output_type": "display_data"
    }
   ],
   "source": [
    "fig, ax = plt.subplots(figsize=(12, 6))\r\n",
    "plt.plot(df_hourly.temp, '.-')\r\n",
    "ax.set(title='Temperature in future 48 hours', xlabel='Time', ylabel='Temperature')\r\n",
    "ax.set_xticks(list(range(0, len(df_hourly), 2)))\r\n",
    "ax.set_xticklabels([ts2dt(ts, '%m-%d %H:%M') for i, ts in enumerate(df_hourly.dt) if i%2==0], \r\n",
    "                   rotation=45, ha=\"right\")\r\n",
    "plt.show()"
   ]
  },
  {
   "cell_type": "code",
   "execution_count": null,
   "metadata": {},
   "outputs": [],
   "source": []
  }
 ],
 "metadata": {
  "interpreter": {
   "hash": "c1b4cfe941b6d2466ad1fb5979e97da9cda8801728c8091b097ab734208fc00c"
  },
  "kernelspec": {
   "display_name": "Python 3.8.3 64-bit ('base': conda)",
   "name": "python3"
  },
  "language_info": {
   "codemirror_mode": {
    "name": "ipython",
    "version": 3
   },
   "file_extension": ".py",
   "mimetype": "text/x-python",
   "name": "python",
   "nbconvert_exporter": "python",
   "pygments_lexer": "ipython3",
   "version": "3.8.11"
  }
 },
 "nbformat": 4,
 "nbformat_minor": 2
}
