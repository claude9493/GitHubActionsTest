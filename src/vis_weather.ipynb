{
 "cells": [
  {
   "cell_type": "code",
   "execution_count": 1,
   "metadata": {
    "execution": {
     "iopub.execute_input": "2021-10-07T06:13:46.461450Z",
     "iopub.status.busy": "2021-10-07T06:13:46.460884Z",
     "iopub.status.idle": "2021-10-07T06:13:47.667226Z",
     "shell.execute_reply": "2021-10-07T06:13:47.666623Z"
    }
   },
   "outputs": [],
   "source": [
    "import json, yaml, requests\r\n",
    "from datetime import datetime\r\n",
    "from dateutil import tz\r\n",
    "import pandas as pd\r\n",
    "from PIL import Image\r\n",
    "from io import BytesIO\r\n",
    "import matplotlib.pyplot as plt\r\n",
    "import seaborn\r\n",
    "\r\n",
    "CONFIG_PATH = \"../config/config.yaml\""
   ]
  },
  {
   "cell_type": "code",
   "execution_count": 2,
   "metadata": {
    "execution": {
     "iopub.execute_input": "2021-10-07T06:13:47.672074Z",
     "iopub.status.busy": "2021-10-07T06:13:47.671595Z",
     "iopub.status.idle": "2021-10-07T06:13:47.676779Z",
     "shell.execute_reply": "2021-10-07T06:13:47.676074Z"
    }
   },
   "outputs": [],
   "source": [
    "with open('../newest_ts', 'r') as f:\r\n",
    "    newest_ts = f.read()\r\n",
    "\r\n",
    "data_path = f\"../data/data_{newest_ts}.json\"\r\n",
    "with open(data_path, 'r') as f:\r\n",
    "    data = json.load(f)\r\n",
    "\r\n",
    "with open(CONFIG_PATH, \"r\") as stream:\r\n",
    "    config = yaml.safe_load(stream)\r\n",
    "\r\n",
    "TIME_ZONE = config['time_zone']\r\n",
    "DATETIME_FORMAT = config['dt_format']"
   ]
  },
  {
   "cell_type": "code",
   "execution_count": 3,
   "metadata": {
    "execution": {
     "iopub.execute_input": "2021-10-07T06:13:47.680931Z",
     "iopub.status.busy": "2021-10-07T06:13:47.680468Z",
     "iopub.status.idle": "2021-10-07T06:13:47.692132Z",
     "shell.execute_reply": "2021-10-07T06:13:47.691739Z"
    }
   },
   "outputs": [
    {
     "name": "stdout",
     "output_type": "stream",
     "text": [
      "Recent query happens at 2021-10-07 14:13:43 (CST).\n"
     ]
    }
   ],
   "source": [
    "def ts2dt(ts, format=DATETIME_FORMAT):\r\n",
    "    dt = (datetime.utcfromtimestamp(int(ts))\r\n",
    "                    .replace(tzinfo=tz.tzutc())\r\n",
    "                    # .astimezone(tz.tzlocal())\r\n",
    "                    .astimezone(tz.gettz(TIME_ZONE)))\r\n",
    "    return dt.strftime(format), dt\r\n",
    "\r\n",
    "_, newest_dt = ts2dt(newest_ts)\r\n",
    "print(f\"Recent query happens at {newest_dt.strftime(DATETIME_FORMAT)} ({newest_dt.tzname()}).\")"
   ]
  },
  {
   "cell_type": "code",
   "execution_count": 4,
   "metadata": {
    "execution": {
     "iopub.execute_input": "2021-10-07T06:13:47.696788Z",
     "iopub.status.busy": "2021-10-07T06:13:47.695780Z",
     "iopub.status.idle": "2021-10-07T06:13:47.697305Z",
     "shell.execute_reply": "2021-10-07T06:13:47.697664Z"
    }
   },
   "outputs": [],
   "source": [
    "def degrees_to_cardinal(d):\r\n",
    "  dirs = ['N', 'NNE', 'NE', 'ENE', 'E', 'ESE', 'SE', 'SSE', 'S', 'SSW', 'SW', 'WSW', 'W', 'WNW', 'NW', 'NNW']\r\n",
    "  ix = int(round(d / (360. / len(dirs))))\r\n",
    "  return dirs[ix % len(dirs)]"
   ]
  },
  {
   "cell_type": "code",
   "execution_count": 5,
   "metadata": {
    "execution": {
     "iopub.execute_input": "2021-10-07T06:13:47.701376Z",
     "iopub.status.busy": "2021-10-07T06:13:47.700403Z",
     "iopub.status.idle": "2021-10-07T06:13:47.701891Z",
     "shell.execute_reply": "2021-10-07T06:13:47.702246Z"
    }
   },
   "outputs": [],
   "source": [
    "# data.keys()"
   ]
  },
  {
   "cell_type": "code",
   "execution_count": 6,
   "metadata": {
    "execution": {
     "iopub.execute_input": "2021-10-07T06:13:47.705937Z",
     "iopub.status.busy": "2021-10-07T06:13:47.704828Z",
     "iopub.status.idle": "2021-10-07T06:13:47.706462Z",
     "shell.execute_reply": "2021-10-07T06:13:47.706863Z"
    }
   },
   "outputs": [],
   "source": [
    "# data['current']"
   ]
  },
  {
   "cell_type": "code",
   "execution_count": 7,
   "metadata": {
    "execution": {
     "iopub.execute_input": "2021-10-07T06:13:47.712731Z",
     "iopub.status.busy": "2021-10-07T06:13:47.712260Z",
     "iopub.status.idle": "2021-10-07T06:13:48.101201Z",
     "shell.execute_reply": "2021-10-07T06:13:48.101863Z"
    }
   },
   "outputs": [
    {
     "data": {
      "image/png": "[encoded data removed]",
      "text/plain": [
       "<Figure size 216x216 with 1 Axes>"
      ]
     },
     "metadata": {
      "needs_background": "light"
     },
     "output_type": "display_data"
    },
    {
     "name": "stdout",
     "output_type": "stream",
     "text": [
      "Today, sun rises at 06:16 and sets at 18:05.\n",
      "Currently, the weather is Rain (moderate rain).\n",
      "The temperature is 31.22°C and it feels like 37.27°C.\n",
      "The UV index is 7.16, humidity is 67%.\n",
      "The pressure is 1009 hPa, percentage of cloud cover is 15%\n",
      "The wind comes from E direction with a speed 0.89 m/s.\n"
     ]
    }
   ],
   "source": [
    "current = data['current']\r\n",
    "\r\n",
    "fig, ax = plt.subplots(figsize=(3, 3))\r\n",
    "icon = requests.get(f\"http://openweathermap.org/img/wn/{current['weather'][0]['icon']}@2x.png\")\r\n",
    "im = Image.open(BytesIO(icon.content))\r\n",
    "plt.imshow(im)\r\n",
    "ax.set_axis_off()\r\n",
    "plt.show()\r\n",
    "\r\n",
    "print(f\"Today, sun rises at {ts2dt(current['sunrise'], '%H:%M')[0]} \\\r\n",
    "and sets at {ts2dt(current['sunset'], '%H:%M')[0]}.\\n\\\r\n",
    "Currently, the weather is {current['weather'][0]['main']} ({current['weather'][0]['description']}).\\n\\\r\n",
    "The temperature is {current['temp']}°C and it feels like {current['feels_like']}°C.\\n\\\r\n",
    "The UV index is {current['uvi']}, humidity is {current['humidity']}%.\\n\\\r\n",
    "The pressure is {current['pressure']} hPa, percentage of cloud cover is {current['clouds']}%\\n\\\r\n",
    "The wind comes from {degrees_to_cardinal(current['wind_deg'])} direction with a speed {current['wind_speed']} m/s.\")"
   ]
  },
  {
   "cell_type": "code",
   "execution_count": 8,
   "metadata": {
    "execution": {
     "iopub.execute_input": "2021-10-07T06:13:48.104955Z",
     "iopub.status.busy": "2021-10-07T06:13:48.104053Z",
     "iopub.status.idle": "2021-10-07T06:13:48.110714Z",
     "shell.execute_reply": "2021-10-07T06:13:48.111354Z"
    }
   },
   "outputs": [],
   "source": [
    "df_hourly = pd.DataFrame(data['hourly'])\r\n",
    "df_daily = pd.DataFrame(data['daily'])"
   ]
  },
  {
   "cell_type": "code",
   "execution_count": 9,
   "metadata": {
    "execution": {
     "iopub.execute_input": "2021-10-07T06:13:48.114292Z",
     "iopub.status.busy": "2021-10-07T06:13:48.113383Z",
     "iopub.status.idle": "2021-10-07T06:13:48.358858Z",
     "shell.execute_reply": "2021-10-07T06:13:48.357964Z"
    }
   },
   "outputs": [
    {
     "data": {
      "image/png": "[encoded data removed]",
      "text/plain": [
       "<Figure size 864x432 with 1 Axes>"
      ]
     },
     "metadata": {
      "needs_background": "light"
     },
     "output_type": "display_data"
    }
   ],
   "source": [
    "fig, ax = plt.subplots(figsize=(12, 6))\r\n",
    "plt.plot(df_hourly.temp, '.-', label='Temperature')\r\n",
    "plt.plot(df_hourly.feels_like, '.-', label='Feels Like')\r\n",
    "ax.set(title='Temperature in future 48 hours', xlabel='Time', ylabel='Temperature')\r\n",
    "ax.set_xticks(list(range(0, len(df_hourly), 2)))\r\n",
    "ax.set_xticklabels([ts2dt(ts, '%m-%d %H:%M')[0] for i, ts in enumerate(df_hourly.dt) if i%2==0], \r\n",
    "                   rotation=45, ha=\"right\")\r\n",
    "ax.locator_params(nbins=15, axis='y')\r\n",
    "plt.legend()\r\n",
    "plt.show()"
   ]
  },
  {
   "cell_type": "code",
   "execution_count": 10,
   "metadata": {
    "execution": {
     "iopub.execute_input": "2021-10-07T06:13:48.370530Z",
     "iopub.status.busy": "2021-10-07T06:13:48.362644Z",
     "iopub.status.idle": "2021-10-07T06:13:48.380286Z",
     "shell.execute_reply": "2021-10-07T06:13:48.380722Z"
    }
   },
   "outputs": [
    {
     "data": {
      "text/html": [
       "<div>\n",
       "<style scoped>\n",
       "    .dataframe tbody tr th:only-of-type {\n",
       "        vertical-align: middle;\n",
       "    }\n",
       "\n",
       "    .dataframe tbody tr th {\n",
       "        vertical-align: top;\n",
       "    }\n",
       "\n",
       "    .dataframe thead th {\n",
       "        text-align: right;\n",
       "    }\n",
       "</style>\n",
       "<table border=\"1\" class=\"dataframe\">\n",
       "  <thead>\n",
       "    <tr style=\"text-align: right;\">\n",
       "      <th></th>\n",
       "      <th>dt</th>\n",
       "      <th>temp</th>\n",
       "      <th>feels_like</th>\n",
       "      <th>pressure</th>\n",
       "      <th>humidity</th>\n",
       "      <th>dew_point</th>\n",
       "      <th>uvi</th>\n",
       "      <th>clouds</th>\n",
       "      <th>visibility</th>\n",
       "      <th>wind_speed</th>\n",
       "      <th>wind_deg</th>\n",
       "      <th>wind_gust</th>\n",
       "      <th>weather</th>\n",
       "      <th>pop</th>\n",
       "      <th>rain</th>\n",
       "    </tr>\n",
       "  </thead>\n",
       "  <tbody>\n",
       "    <tr>\n",
       "      <th>0</th>\n",
       "      <td>1633586400</td>\n",
       "      <td>31.22</td>\n",
       "      <td>37.27</td>\n",
       "      <td>1009</td>\n",
       "      <td>67</td>\n",
       "      <td>24.36</td>\n",
       "      <td>7.16</td>\n",
       "      <td>15</td>\n",
       "      <td>10000</td>\n",
       "      <td>10.87</td>\n",
       "      <td>84</td>\n",
       "      <td>14.23</td>\n",
       "      <td>[{'id': 500, 'main': 'Rain', 'description': 'l...</td>\n",
       "      <td>0.42</td>\n",
       "      <td>{'1h': 0.36}</td>\n",
       "    </tr>\n",
       "    <tr>\n",
       "      <th>1</th>\n",
       "      <td>1633590000</td>\n",
       "      <td>30.76</td>\n",
       "      <td>36.68</td>\n",
       "      <td>1008</td>\n",
       "      <td>69</td>\n",
       "      <td>24.41</td>\n",
       "      <td>4.37</td>\n",
       "      <td>29</td>\n",
       "      <td>10000</td>\n",
       "      <td>11.20</td>\n",
       "      <td>85</td>\n",
       "      <td>14.83</td>\n",
       "      <td>[{'id': 500, 'main': 'Rain', 'description': 'l...</td>\n",
       "      <td>0.66</td>\n",
       "      <td>{'1h': 0.75}</td>\n",
       "    </tr>\n",
       "    <tr>\n",
       "      <th>2</th>\n",
       "      <td>1633593600</td>\n",
       "      <td>29.96</td>\n",
       "      <td>35.43</td>\n",
       "      <td>1007</td>\n",
       "      <td>72</td>\n",
       "      <td>24.36</td>\n",
       "      <td>2.08</td>\n",
       "      <td>45</td>\n",
       "      <td>10000</td>\n",
       "      <td>11.28</td>\n",
       "      <td>85</td>\n",
       "      <td>15.14</td>\n",
       "      <td>[{'id': 501, 'main': 'Rain', 'description': 'm...</td>\n",
       "      <td>0.70</td>\n",
       "      <td>{'1h': 1.54}</td>\n",
       "    </tr>\n",
       "    <tr>\n",
       "      <th>3</th>\n",
       "      <td>1633597200</td>\n",
       "      <td>29.04</td>\n",
       "      <td>33.79</td>\n",
       "      <td>1006</td>\n",
       "      <td>75</td>\n",
       "      <td>24.16</td>\n",
       "      <td>0.63</td>\n",
       "      <td>62</td>\n",
       "      <td>10000</td>\n",
       "      <td>10.93</td>\n",
       "      <td>86</td>\n",
       "      <td>14.94</td>\n",
       "      <td>[{'id': 501, 'main': 'Rain', 'description': 'm...</td>\n",
       "      <td>0.74</td>\n",
       "      <td>{'1h': 1.23}</td>\n",
       "    </tr>\n",
       "    <tr>\n",
       "      <th>4</th>\n",
       "      <td>1633600800</td>\n",
       "      <td>28.12</td>\n",
       "      <td>32.24</td>\n",
       "      <td>1006</td>\n",
       "      <td>79</td>\n",
       "      <td>24.13</td>\n",
       "      <td>0.00</td>\n",
       "      <td>79</td>\n",
       "      <td>10000</td>\n",
       "      <td>10.93</td>\n",
       "      <td>87</td>\n",
       "      <td>15.21</td>\n",
       "      <td>[{'id': 501, 'main': 'Rain', 'description': 'm...</td>\n",
       "      <td>0.74</td>\n",
       "      <td>{'1h': 1.25}</td>\n",
       "    </tr>\n",
       "  </tbody>\n",
       "</table>\n",
       "</div>"
      ],
      "text/plain": [
       "           dt   temp  feels_like  pressure  humidity  dew_point   uvi  clouds  \\\n",
       "0  1633586400  31.22       37.27      1009        67      24.36  7.16      15   \n",
       "1  1633590000  30.76       36.68      1008        69      24.41  4.37      29   \n",
       "2  1633593600  29.96       35.43      1007        72      24.36  2.08      45   \n",
       "3  1633597200  29.04       33.79      1006        75      24.16  0.63      62   \n",
       "4  1633600800  28.12       32.24      1006        79      24.13  0.00      79   \n",
       "\n",
       "   visibility  wind_speed  wind_deg  wind_gust  \\\n",
       "0       10000       10.87        84      14.23   \n",
       "1       10000       11.20        85      14.83   \n",
       "2       10000       11.28        85      15.14   \n",
       "3       10000       10.93        86      14.94   \n",
       "4       10000       10.93        87      15.21   \n",
       "\n",
       "                                             weather   pop          rain  \n",
       "0  [{'id': 500, 'main': 'Rain', 'description': 'l...  0.42  {'1h': 0.36}  \n",
       "1  [{'id': 500, 'main': 'Rain', 'description': 'l...  0.66  {'1h': 0.75}  \n",
       "2  [{'id': 501, 'main': 'Rain', 'description': 'm...  0.70  {'1h': 1.54}  \n",
       "3  [{'id': 501, 'main': 'Rain', 'description': 'm...  0.74  {'1h': 1.23}  \n",
       "4  [{'id': 501, 'main': 'Rain', 'description': 'm...  0.74  {'1h': 1.25}  "
      ]
     },
     "execution_count": 10,
     "metadata": {},
     "output_type": "execute_result"
    }
   ],
   "source": [
    "df_hourly.head()"
   ]
  },
  {
   "cell_type": "code",
   "execution_count": null,
   "metadata": {},
   "outputs": [],
   "source": []
  }
 ],
 "metadata": {
  "interpreter": {
   "hash": "c1b4cfe941b6d2466ad1fb5979e97da9cda8801728c8091b097ab734208fc00c"
  },
  "kernelspec": {
   "display_name": "Python 3.8.3 64-bit ('base': conda)",
   "name": "python3"
  },
  "language_info": {
   "codemirror_mode": {
    "name": "ipython",
    "version": 3
   },
   "file_extension": ".py",
   "mimetype": "text/x-python",
   "name": "python",
   "nbconvert_exporter": "python",
   "pygments_lexer": "ipython3",
   "version": "3.8.12"
  }
 },
 "nbformat": 4,
 "nbformat_minor": 2
}
