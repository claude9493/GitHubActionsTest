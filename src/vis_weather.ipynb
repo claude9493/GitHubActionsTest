{
 "cells": [
  {
   "cell_type": "code",
   "execution_count": 1,
   "metadata": {
    "execution": {
     "iopub.execute_input": "2021-09-06T05:13:54.233611Z",
     "iopub.status.busy": "2021-09-06T05:13:54.233064Z",
     "iopub.status.idle": "2021-09-06T05:13:56.880043Z",
     "shell.execute_reply": "2021-09-06T05:13:56.879138Z"
    }
   },
   "outputs": [],
   "source": [
    "import json, yaml, requests\r\n",
    "from datetime import datetime\r\n",
    "from dateutil import tz\r\n",
    "import pandas as pd\r\n",
    "from PIL import Image\r\n",
    "from io import BytesIO\r\n",
    "import matplotlib.pyplot as plt\r\n",
    "import seaborn\r\n",
    "\r\n",
    "CONFIG_PATH = \"../config/config.yaml\""
   ]
  },
  {
   "cell_type": "code",
   "execution_count": 2,
   "metadata": {
    "execution": {
     "iopub.execute_input": "2021-09-06T05:13:56.882949Z",
     "iopub.status.busy": "2021-09-06T05:13:56.882468Z",
     "iopub.status.idle": "2021-09-06T05:13:56.889025Z",
     "shell.execute_reply": "2021-09-06T05:13:56.889372Z"
    }
   },
   "outputs": [],
   "source": [
    "with open('../newest_ts', 'r') as f:\r\n",
    "    newest_ts = f.read()\r\n",
    "\r\n",
    "data_path = f\"../data/data_{newest_ts}.json\"\r\n",
    "with open(data_path, 'r') as f:\r\n",
    "    data = json.load(f)\r\n",
    "\r\n",
    "with open(CONFIG_PATH, \"r\") as stream:\r\n",
    "    config = yaml.safe_load(stream)\r\n",
    "\r\n",
    "TIME_ZONE = config['time_zone']\r\n",
    "DATETIME_FORMAT = config['dt_format']"
   ]
  },
  {
   "cell_type": "code",
   "execution_count": 3,
   "metadata": {
    "execution": {
     "iopub.execute_input": "2021-09-06T05:13:56.893561Z",
     "iopub.status.busy": "2021-09-06T05:13:56.893109Z",
     "iopub.status.idle": "2021-09-06T05:13:56.902953Z",
     "shell.execute_reply": "2021-09-06T05:13:56.903321Z"
    }
   },
   "outputs": [
    {
     "name": "stdout",
     "output_type": "stream",
     "text": [
      "Recent query happens at 2021-09-06 13:13:51 (CST).\n"
     ]
    }
   ],
   "source": [
    "def ts2dt(ts, format=DATETIME_FORMAT):\r\n",
    "    dt = (datetime.utcfromtimestamp(int(ts))\r\n",
    "                    .replace(tzinfo=tz.tzutc())\r\n",
    "                    # .astimezone(tz.tzlocal())\r\n",
    "                    .astimezone(tz.gettz(TIME_ZONE)))\r\n",
    "    return dt.strftime(format), dt\r\n",
    "\r\n",
    "_, newest_dt = ts2dt(newest_ts)\r\n",
    "print(f\"Recent query happens at {newest_dt.strftime(DATETIME_FORMAT)} ({newest_dt.tzname()}).\")"
   ]
  },
  {
   "cell_type": "code",
   "execution_count": 4,
   "metadata": {
    "execution": {
     "iopub.execute_input": "2021-09-06T05:13:56.908069Z",
     "iopub.status.busy": "2021-09-06T05:13:56.907136Z",
     "iopub.status.idle": "2021-09-06T05:13:56.908655Z",
     "shell.execute_reply": "2021-09-06T05:13:56.909020Z"
    }
   },
   "outputs": [],
   "source": [
    "def degrees_to_cardinal(d):\r\n",
    "  dirs = ['N', 'NNE', 'NE', 'ENE', 'E', 'ESE', 'SE', 'SSE', 'S', 'SSW', 'SW', 'WSW', 'W', 'WNW', 'NW', 'NNW']\r\n",
    "  ix = int(round(d / (360. / len(dirs))))\r\n",
    "  return dirs[ix % len(dirs)]"
   ]
  },
  {
   "cell_type": "code",
   "execution_count": 5,
   "metadata": {
    "execution": {
     "iopub.execute_input": "2021-09-06T05:13:56.912288Z",
     "iopub.status.busy": "2021-09-06T05:13:56.911830Z",
     "iopub.status.idle": "2021-09-06T05:13:56.913840Z",
     "shell.execute_reply": "2021-09-06T05:13:56.913446Z"
    }
   },
   "outputs": [],
   "source": [
    "# data.keys()"
   ]
  },
  {
   "cell_type": "code",
   "execution_count": 6,
   "metadata": {
    "execution": {
     "iopub.execute_input": "2021-09-06T05:13:56.917286Z",
     "iopub.status.busy": "2021-09-06T05:13:56.916390Z",
     "iopub.status.idle": "2021-09-06T05:13:56.917871Z",
     "shell.execute_reply": "2021-09-06T05:13:56.918289Z"
    }
   },
   "outputs": [],
   "source": [
    "# data['current']"
   ]
  },
  {
   "cell_type": "code",
   "execution_count": 7,
   "metadata": {
    "execution": {
     "iopub.execute_input": "2021-09-06T05:13:56.934727Z",
     "iopub.status.busy": "2021-09-06T05:13:56.934260Z",
     "iopub.status.idle": "2021-09-06T05:13:57.239172Z",
     "shell.execute_reply": "2021-09-06T05:13:57.239768Z"
    }
   },
   "outputs": [
    {
     "data": {
      "image/png": "[encoded data removed]",
      "text/plain": [
       "<Figure size 216x216 with 1 Axes>"
      ]
     },
     "metadata": {
      "needs_background": "light"
     },
     "output_type": "display_data"
    },
    {
     "name": "stdout",
     "output_type": "stream",
     "text": [
      "Today, sun rises at 06:07 and sets at 18:35.\n",
      "Currently, the weather is Clouds (few clouds).\n",
      "The temperature is 31.86°C and it feels like 38.86°C.\n",
      "The UV index is 10.32, humidity is 74%.\n",
      "The pressure is 1010 hPa, percentage of cloud cover is 22%\n",
      "The wind comes from E direction with a speed 4.59 m/s.\n"
     ]
    }
   ],
   "source": [
    "current = data['current']\r\n",
    "\r\n",
    "fig, ax = plt.subplots(figsize=(3, 3))\r\n",
    "icon = requests.get(f\"http://openweathermap.org/img/wn/{current['weather'][0]['icon']}@2x.png\")\r\n",
    "im = Image.open(BytesIO(icon.content))\r\n",
    "plt.imshow(im)\r\n",
    "ax.set_axis_off()\r\n",
    "plt.show()\r\n",
    "\r\n",
    "print(f\"Today, sun rises at {ts2dt(current['sunrise'], '%H:%M')[0]} \\\r\n",
    "and sets at {ts2dt(current['sunset'], '%H:%M')[0]}.\\n\\\r\n",
    "Currently, the weather is {current['weather'][0]['main']} ({current['weather'][0]['description']}).\\n\\\r\n",
    "The temperature is {current['temp']}°C and it feels like {current['feels_like']}°C.\\n\\\r\n",
    "The UV index is {current['uvi']}, humidity is {current['humidity']}%.\\n\\\r\n",
    "The pressure is {current['pressure']} hPa, percentage of cloud cover is {current['clouds']}%\\n\\\r\n",
    "The wind comes from {degrees_to_cardinal(current['wind_deg'])} direction with a speed {current['wind_speed']} m/s.\")"
   ]
  },
  {
   "cell_type": "code",
   "execution_count": 8,
   "metadata": {
    "execution": {
     "iopub.execute_input": "2021-09-06T05:13:57.245062Z",
     "iopub.status.busy": "2021-09-06T05:13:57.244475Z",
     "iopub.status.idle": "2021-09-06T05:13:57.248984Z",
     "shell.execute_reply": "2021-09-06T05:13:57.249568Z"
    }
   },
   "outputs": [],
   "source": [
    "df_hourly = pd.DataFrame(data['hourly'])\r\n",
    "df_daily = pd.DataFrame(data['daily'])"
   ]
  },
  {
   "cell_type": "code",
   "execution_count": 9,
   "metadata": {
    "execution": {
     "iopub.execute_input": "2021-09-06T05:13:57.262144Z",
     "iopub.status.busy": "2021-09-06T05:13:57.251753Z",
     "iopub.status.idle": "2021-09-06T05:13:57.495713Z",
     "shell.execute_reply": "2021-09-06T05:13:57.495001Z"
    }
   },
   "outputs": [
    {
     "data": {
      "image/png": "[encoded data removed]",
      "text/plain": [
       "<Figure size 864x432 with 1 Axes>"
      ]
     },
     "metadata": {
      "needs_background": "light"
     },
     "output_type": "display_data"
    }
   ],
   "source": [
    "fig, ax = plt.subplots(figsize=(12, 6))\r\n",
    "plt.plot(df_hourly.temp, '.-', label='Temperature')\r\n",
    "plt.plot(df_hourly.feels_like, '.-', label='Feels Like')\r\n",
    "ax.set(title='Temperature in future 48 hours', xlabel='Time', ylabel='Temperature')\r\n",
    "ax.set_xticks(list(range(0, len(df_hourly), 2)))\r\n",
    "ax.set_xticklabels([ts2dt(ts, '%m-%d %H:%M')[0] for i, ts in enumerate(df_hourly.dt) if i%2==0], \r\n",
    "                   rotation=45, ha=\"right\")\r\n",
    "ax.locator_params(nbins=15, axis='y')\r\n",
    "plt.legend()\r\n",
    "plt.show()"
   ]
  },
  {
   "cell_type": "code",
   "execution_count": 10,
   "metadata": {
    "execution": {
     "iopub.execute_input": "2021-09-06T05:13:57.499766Z",
     "iopub.status.busy": "2021-09-06T05:13:57.499258Z",
     "iopub.status.idle": "2021-09-06T05:13:57.516644Z",
     "shell.execute_reply": "2021-09-06T05:13:57.516246Z"
    }
   },
   "outputs": [
    {
     "data": {
      "text/html": [
       "<div>\n",
       "<style scoped>\n",
       "    .dataframe tbody tr th:only-of-type {\n",
       "        vertical-align: middle;\n",
       "    }\n",
       "\n",
       "    .dataframe tbody tr th {\n",
       "        vertical-align: top;\n",
       "    }\n",
       "\n",
       "    .dataframe thead th {\n",
       "        text-align: right;\n",
       "    }\n",
       "</style>\n",
       "<table border=\"1\" class=\"dataframe\">\n",
       "  <thead>\n",
       "    <tr style=\"text-align: right;\">\n",
       "      <th></th>\n",
       "      <th>dt</th>\n",
       "      <th>temp</th>\n",
       "      <th>feels_like</th>\n",
       "      <th>pressure</th>\n",
       "      <th>humidity</th>\n",
       "      <th>dew_point</th>\n",
       "      <th>uvi</th>\n",
       "      <th>clouds</th>\n",
       "      <th>visibility</th>\n",
       "      <th>wind_speed</th>\n",
       "      <th>wind_deg</th>\n",
       "      <th>wind_gust</th>\n",
       "      <th>weather</th>\n",
       "      <th>pop</th>\n",
       "      <th>rain</th>\n",
       "    </tr>\n",
       "  </thead>\n",
       "  <tbody>\n",
       "    <tr>\n",
       "      <th>0</th>\n",
       "      <td>1630904400</td>\n",
       "      <td>31.86</td>\n",
       "      <td>38.86</td>\n",
       "      <td>1010</td>\n",
       "      <td>74</td>\n",
       "      <td>26.64</td>\n",
       "      <td>10.32</td>\n",
       "      <td>22</td>\n",
       "      <td>10000</td>\n",
       "      <td>4.59</td>\n",
       "      <td>93</td>\n",
       "      <td>5.22</td>\n",
       "      <td>[{'id': 801, 'main': 'Clouds', 'description': ...</td>\n",
       "      <td>0.73</td>\n",
       "      <td>NaN</td>\n",
       "    </tr>\n",
       "    <tr>\n",
       "      <th>1</th>\n",
       "      <td>1630908000</td>\n",
       "      <td>31.53</td>\n",
       "      <td>38.53</td>\n",
       "      <td>1010</td>\n",
       "      <td>73</td>\n",
       "      <td>26.10</td>\n",
       "      <td>8.53</td>\n",
       "      <td>24</td>\n",
       "      <td>10000</td>\n",
       "      <td>4.51</td>\n",
       "      <td>94</td>\n",
       "      <td>5.34</td>\n",
       "      <td>[{'id': 801, 'main': 'Clouds', 'description': ...</td>\n",
       "      <td>0.66</td>\n",
       "      <td>NaN</td>\n",
       "    </tr>\n",
       "    <tr>\n",
       "      <th>2</th>\n",
       "      <td>1630911600</td>\n",
       "      <td>31.13</td>\n",
       "      <td>38.13</td>\n",
       "      <td>1010</td>\n",
       "      <td>72</td>\n",
       "      <td>25.48</td>\n",
       "      <td>6.16</td>\n",
       "      <td>46</td>\n",
       "      <td>10000</td>\n",
       "      <td>4.35</td>\n",
       "      <td>95</td>\n",
       "      <td>5.45</td>\n",
       "      <td>[{'id': 802, 'main': 'Clouds', 'description': ...</td>\n",
       "      <td>0.70</td>\n",
       "      <td>NaN</td>\n",
       "    </tr>\n",
       "    <tr>\n",
       "      <th>3</th>\n",
       "      <td>1630915200</td>\n",
       "      <td>30.65</td>\n",
       "      <td>37.24</td>\n",
       "      <td>1009</td>\n",
       "      <td>72</td>\n",
       "      <td>25.02</td>\n",
       "      <td>3.18</td>\n",
       "      <td>39</td>\n",
       "      <td>10000</td>\n",
       "      <td>4.43</td>\n",
       "      <td>92</td>\n",
       "      <td>5.90</td>\n",
       "      <td>[{'id': 500, 'main': 'Rain', 'description': 'l...</td>\n",
       "      <td>0.63</td>\n",
       "      <td>{'1h': 0.1}</td>\n",
       "    </tr>\n",
       "    <tr>\n",
       "      <th>4</th>\n",
       "      <td>1630918800</td>\n",
       "      <td>30.04</td>\n",
       "      <td>35.89</td>\n",
       "      <td>1009</td>\n",
       "      <td>73</td>\n",
       "      <td>24.67</td>\n",
       "      <td>1.11</td>\n",
       "      <td>36</td>\n",
       "      <td>10000</td>\n",
       "      <td>4.30</td>\n",
       "      <td>86</td>\n",
       "      <td>5.87</td>\n",
       "      <td>[{'id': 500, 'main': 'Rain', 'description': 'l...</td>\n",
       "      <td>0.62</td>\n",
       "      <td>{'1h': 0.18}</td>\n",
       "    </tr>\n",
       "  </tbody>\n",
       "</table>\n",
       "</div>"
      ],
      "text/plain": [
       "           dt   temp  feels_like  pressure  humidity  dew_point    uvi  \\\n",
       "0  1630904400  31.86       38.86      1010        74      26.64  10.32   \n",
       "1  1630908000  31.53       38.53      1010        73      26.10   8.53   \n",
       "2  1630911600  31.13       38.13      1010        72      25.48   6.16   \n",
       "3  1630915200  30.65       37.24      1009        72      25.02   3.18   \n",
       "4  1630918800  30.04       35.89      1009        73      24.67   1.11   \n",
       "\n",
       "   clouds  visibility  wind_speed  wind_deg  wind_gust  \\\n",
       "0      22       10000        4.59        93       5.22   \n",
       "1      24       10000        4.51        94       5.34   \n",
       "2      46       10000        4.35        95       5.45   \n",
       "3      39       10000        4.43        92       5.90   \n",
       "4      36       10000        4.30        86       5.87   \n",
       "\n",
       "                                             weather   pop          rain  \n",
       "0  [{'id': 801, 'main': 'Clouds', 'description': ...  0.73           NaN  \n",
       "1  [{'id': 801, 'main': 'Clouds', 'description': ...  0.66           NaN  \n",
       "2  [{'id': 802, 'main': 'Clouds', 'description': ...  0.70           NaN  \n",
       "3  [{'id': 500, 'main': 'Rain', 'description': 'l...  0.63   {'1h': 0.1}  \n",
       "4  [{'id': 500, 'main': 'Rain', 'description': 'l...  0.62  {'1h': 0.18}  "
      ]
     },
     "execution_count": 10,
     "metadata": {},
     "output_type": "execute_result"
    }
   ],
   "source": [
    "df_hourly.head()"
   ]
  },
  {
   "cell_type": "code",
   "execution_count": null,
   "metadata": {},
   "outputs": [],
   "source": []
  }
 ],
 "metadata": {
  "interpreter": {
   "hash": "c1b4cfe941b6d2466ad1fb5979e97da9cda8801728c8091b097ab734208fc00c"
  },
  "kernelspec": {
   "display_name": "Python 3.8.3 64-bit ('base': conda)",
   "name": "python3"
  },
  "language_info": {
   "codemirror_mode": {
    "name": "ipython",
    "version": 3
   },
   "file_extension": ".py",
   "mimetype": "text/x-python",
   "name": "python",
   "nbconvert_exporter": "python",
   "pygments_lexer": "ipython3",
   "version": "3.8.11"
  }
 },
 "nbformat": 4,
 "nbformat_minor": 2
}
