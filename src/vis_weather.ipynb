{
 "cells": [
  {
   "cell_type": "code",
   "execution_count": 1,
   "metadata": {
    "execution": {
     "iopub.execute_input": "2021-09-11T08:41:05.915015Z",
     "iopub.status.busy": "2021-09-11T08:41:05.914190Z",
     "iopub.status.idle": "2021-09-11T08:41:08.269640Z",
     "shell.execute_reply": "2021-09-11T08:41:08.268964Z"
    }
   },
   "outputs": [],
   "source": [
    "import json, yaml, requests\r\n",
    "from datetime import datetime\r\n",
    "from dateutil import tz\r\n",
    "import pandas as pd\r\n",
    "from PIL import Image\r\n",
    "from io import BytesIO\r\n",
    "import matplotlib.pyplot as plt\r\n",
    "import seaborn\r\n",
    "\r\n",
    "CONFIG_PATH = \"../config/config.yaml\""
   ]
  },
  {
   "cell_type": "code",
   "execution_count": 2,
   "metadata": {
    "execution": {
     "iopub.execute_input": "2021-09-11T08:41:08.276779Z",
     "iopub.status.busy": "2021-09-11T08:41:08.273767Z",
     "iopub.status.idle": "2021-09-11T08:41:08.279191Z",
     "shell.execute_reply": "2021-09-11T08:41:08.278834Z"
    }
   },
   "outputs": [],
   "source": [
    "with open('../newest_ts', 'r') as f:\r\n",
    "    newest_ts = f.read()\r\n",
    "\r\n",
    "data_path = f\"../data/data_{newest_ts}.json\"\r\n",
    "with open(data_path, 'r') as f:\r\n",
    "    data = json.load(f)\r\n",
    "\r\n",
    "with open(CONFIG_PATH, \"r\") as stream:\r\n",
    "    config = yaml.safe_load(stream)\r\n",
    "\r\n",
    "TIME_ZONE = config['time_zone']\r\n",
    "DATETIME_FORMAT = config['dt_format']"
   ]
  },
  {
   "cell_type": "code",
   "execution_count": 3,
   "metadata": {
    "execution": {
     "iopub.execute_input": "2021-09-11T08:41:08.283252Z",
     "iopub.status.busy": "2021-09-11T08:41:08.282721Z",
     "iopub.status.idle": "2021-09-11T08:41:08.309615Z",
     "shell.execute_reply": "2021-09-11T08:41:08.309259Z"
    }
   },
   "outputs": [
    {
     "name": "stdout",
     "output_type": "stream",
     "text": [
      "Recent query happens at 2021-09-11 16:41:03 (CST).\n"
     ]
    }
   ],
   "source": [
    "def ts2dt(ts, format=DATETIME_FORMAT):\r\n",
    "    dt = (datetime.utcfromtimestamp(int(ts))\r\n",
    "                    .replace(tzinfo=tz.tzutc())\r\n",
    "                    # .astimezone(tz.tzlocal())\r\n",
    "                    .astimezone(tz.gettz(TIME_ZONE)))\r\n",
    "    return dt.strftime(format), dt\r\n",
    "\r\n",
    "_, newest_dt = ts2dt(newest_ts)\r\n",
    "print(f\"Recent query happens at {newest_dt.strftime(DATETIME_FORMAT)} ({newest_dt.tzname()}).\")"
   ]
  },
  {
   "cell_type": "code",
   "execution_count": 4,
   "metadata": {
    "execution": {
     "iopub.execute_input": "2021-09-11T08:41:08.313781Z",
     "iopub.status.busy": "2021-09-11T08:41:08.313277Z",
     "iopub.status.idle": "2021-09-11T08:41:08.316454Z",
     "shell.execute_reply": "2021-09-11T08:41:08.316085Z"
    }
   },
   "outputs": [],
   "source": [
    "def degrees_to_cardinal(d):\r\n",
    "  dirs = ['N', 'NNE', 'NE', 'ENE', 'E', 'ESE', 'SE', 'SSE', 'S', 'SSW', 'SW', 'WSW', 'W', 'WNW', 'NW', 'NNW']\r\n",
    "  ix = int(round(d / (360. / len(dirs))))\r\n",
    "  return dirs[ix % len(dirs)]"
   ]
  },
  {
   "cell_type": "code",
   "execution_count": 5,
   "metadata": {
    "execution": {
     "iopub.execute_input": "2021-09-11T08:41:08.319653Z",
     "iopub.status.busy": "2021-09-11T08:41:08.318885Z",
     "iopub.status.idle": "2021-09-11T08:41:08.320614Z",
     "shell.execute_reply": "2021-09-11T08:41:08.320962Z"
    }
   },
   "outputs": [],
   "source": [
    "# data.keys()"
   ]
  },
  {
   "cell_type": "code",
   "execution_count": 6,
   "metadata": {
    "execution": {
     "iopub.execute_input": "2021-09-11T08:41:08.323509Z",
     "iopub.status.busy": "2021-09-11T08:41:08.322509Z",
     "iopub.status.idle": "2021-09-11T08:41:08.325139Z",
     "shell.execute_reply": "2021-09-11T08:41:08.325479Z"
    }
   },
   "outputs": [],
   "source": [
    "# data['current']"
   ]
  },
  {
   "cell_type": "code",
   "execution_count": 7,
   "metadata": {
    "execution": {
     "iopub.execute_input": "2021-09-11T08:41:08.340690Z",
     "iopub.status.busy": "2021-09-11T08:41:08.327189Z",
     "iopub.status.idle": "2021-09-11T08:41:08.651683Z",
     "shell.execute_reply": "2021-09-11T08:41:08.652360Z"
    }
   },
   "outputs": [
    {
     "data": {
      "image/png": "[encoded data removed]",
      "text/plain": [
       "<Figure size 216x216 with 1 Axes>"
      ]
     },
     "metadata": {
      "needs_background": "light"
     },
     "output_type": "display_data"
    },
    {
     "name": "stdout",
     "output_type": "stream",
     "text": [
      "Today, sun rises at 06:08 and sets at 18:31.\n",
      "Currently, the weather is Clouds (broken clouds).\n",
      "The temperature is 32.88°C and it feels like 39.88°C.\n",
      "The UV index is 0.76, humidity is 76%.\n",
      "The pressure is 1001 hPa, percentage of cloud cover is 61%\n",
      "The wind comes from WSW direction with a speed 3.82 m/s.\n"
     ]
    }
   ],
   "source": [
    "current = data['current']\r\n",
    "\r\n",
    "fig, ax = plt.subplots(figsize=(3, 3))\r\n",
    "icon = requests.get(f\"http://openweathermap.org/img/wn/{current['weather'][0]['icon']}@2x.png\")\r\n",
    "im = Image.open(BytesIO(icon.content))\r\n",
    "plt.imshow(im)\r\n",
    "ax.set_axis_off()\r\n",
    "plt.show()\r\n",
    "\r\n",
    "print(f\"Today, sun rises at {ts2dt(current['sunrise'], '%H:%M')[0]} \\\r\n",
    "and sets at {ts2dt(current['sunset'], '%H:%M')[0]}.\\n\\\r\n",
    "Currently, the weather is {current['weather'][0]['main']} ({current['weather'][0]['description']}).\\n\\\r\n",
    "The temperature is {current['temp']}°C and it feels like {current['feels_like']}°C.\\n\\\r\n",
    "The UV index is {current['uvi']}, humidity is {current['humidity']}%.\\n\\\r\n",
    "The pressure is {current['pressure']} hPa, percentage of cloud cover is {current['clouds']}%\\n\\\r\n",
    "The wind comes from {degrees_to_cardinal(current['wind_deg'])} direction with a speed {current['wind_speed']} m/s.\")"
   ]
  },
  {
   "cell_type": "code",
   "execution_count": 8,
   "metadata": {
    "execution": {
     "iopub.execute_input": "2021-09-11T08:41:08.655520Z",
     "iopub.status.busy": "2021-09-11T08:41:08.654651Z",
     "iopub.status.idle": "2021-09-11T08:41:08.661471Z",
     "shell.execute_reply": "2021-09-11T08:41:08.662132Z"
    }
   },
   "outputs": [],
   "source": [
    "df_hourly = pd.DataFrame(data['hourly'])\r\n",
    "df_daily = pd.DataFrame(data['daily'])"
   ]
  },
  {
   "cell_type": "code",
   "execution_count": 9,
   "metadata": {
    "execution": {
     "iopub.execute_input": "2021-09-11T08:41:08.665401Z",
     "iopub.status.busy": "2021-09-11T08:41:08.664452Z",
     "iopub.status.idle": "2021-09-11T08:41:08.925576Z",
     "shell.execute_reply": "2021-09-11T08:41:08.925012Z"
    }
   },
   "outputs": [
    {
     "data": {
      "image/png": "[encoded data removed]",
      "text/plain": [
       "<Figure size 864x432 with 1 Axes>"
      ]
     },
     "metadata": {
      "needs_background": "light"
     },
     "output_type": "display_data"
    }
   ],
   "source": [
    "fig, ax = plt.subplots(figsize=(12, 6))\r\n",
    "plt.plot(df_hourly.temp, '.-', label='Temperature')\r\n",
    "plt.plot(df_hourly.feels_like, '.-', label='Feels Like')\r\n",
    "ax.set(title='Temperature in future 48 hours', xlabel='Time', ylabel='Temperature')\r\n",
    "ax.set_xticks(list(range(0, len(df_hourly), 2)))\r\n",
    "ax.set_xticklabels([ts2dt(ts, '%m-%d %H:%M')[0] for i, ts in enumerate(df_hourly.dt) if i%2==0], \r\n",
    "                   rotation=45, ha=\"right\")\r\n",
    "ax.locator_params(nbins=15, axis='y')\r\n",
    "plt.legend()\r\n",
    "plt.show()"
   ]
  },
  {
   "cell_type": "code",
   "execution_count": 10,
   "metadata": {
    "execution": {
     "iopub.execute_input": "2021-09-11T08:41:08.936749Z",
     "iopub.status.busy": "2021-09-11T08:41:08.929348Z",
     "iopub.status.idle": "2021-09-11T08:41:08.946219Z",
     "shell.execute_reply": "2021-09-11T08:41:08.945782Z"
    }
   },
   "outputs": [
    {
     "data": {
      "text/html": [
       "<div>\n",
       "<style scoped>\n",
       "    .dataframe tbody tr th:only-of-type {\n",
       "        vertical-align: middle;\n",
       "    }\n",
       "\n",
       "    .dataframe tbody tr th {\n",
       "        vertical-align: top;\n",
       "    }\n",
       "\n",
       "    .dataframe thead th {\n",
       "        text-align: right;\n",
       "    }\n",
       "</style>\n",
       "<table border=\"1\" class=\"dataframe\">\n",
       "  <thead>\n",
       "    <tr style=\"text-align: right;\">\n",
       "      <th></th>\n",
       "      <th>dt</th>\n",
       "      <th>temp</th>\n",
       "      <th>feels_like</th>\n",
       "      <th>pressure</th>\n",
       "      <th>humidity</th>\n",
       "      <th>dew_point</th>\n",
       "      <th>uvi</th>\n",
       "      <th>clouds</th>\n",
       "      <th>visibility</th>\n",
       "      <th>wind_speed</th>\n",
       "      <th>wind_deg</th>\n",
       "      <th>wind_gust</th>\n",
       "      <th>weather</th>\n",
       "      <th>pop</th>\n",
       "      <th>rain</th>\n",
       "    </tr>\n",
       "  </thead>\n",
       "  <tbody>\n",
       "    <tr>\n",
       "      <th>0</th>\n",
       "      <td>1631347200</td>\n",
       "      <td>32.35</td>\n",
       "      <td>39.35</td>\n",
       "      <td>1001</td>\n",
       "      <td>75</td>\n",
       "      <td>27.34</td>\n",
       "      <td>2.23</td>\n",
       "      <td>64</td>\n",
       "      <td>10000</td>\n",
       "      <td>3.96</td>\n",
       "      <td>255</td>\n",
       "      <td>4.51</td>\n",
       "      <td>[{'id': 803, 'main': 'Clouds', 'description': ...</td>\n",
       "      <td>0.12</td>\n",
       "      <td>NaN</td>\n",
       "    </tr>\n",
       "    <tr>\n",
       "      <th>1</th>\n",
       "      <td>1631350800</td>\n",
       "      <td>32.88</td>\n",
       "      <td>39.88</td>\n",
       "      <td>1001</td>\n",
       "      <td>76</td>\n",
       "      <td>28.08</td>\n",
       "      <td>0.76</td>\n",
       "      <td>61</td>\n",
       "      <td>10000</td>\n",
       "      <td>3.82</td>\n",
       "      <td>253</td>\n",
       "      <td>4.51</td>\n",
       "      <td>[{'id': 803, 'main': 'Clouds', 'description': ...</td>\n",
       "      <td>0.05</td>\n",
       "      <td>NaN</td>\n",
       "    </tr>\n",
       "    <tr>\n",
       "      <th>2</th>\n",
       "      <td>1631354400</td>\n",
       "      <td>32.31</td>\n",
       "      <td>39.31</td>\n",
       "      <td>1001</td>\n",
       "      <td>75</td>\n",
       "      <td>27.31</td>\n",
       "      <td>0.12</td>\n",
       "      <td>58</td>\n",
       "      <td>10000</td>\n",
       "      <td>3.60</td>\n",
       "      <td>235</td>\n",
       "      <td>4.14</td>\n",
       "      <td>[{'id': 803, 'main': 'Clouds', 'description': ...</td>\n",
       "      <td>0.10</td>\n",
       "      <td>NaN</td>\n",
       "    </tr>\n",
       "    <tr>\n",
       "      <th>3</th>\n",
       "      <td>1631358000</td>\n",
       "      <td>31.46</td>\n",
       "      <td>38.46</td>\n",
       "      <td>1001</td>\n",
       "      <td>77</td>\n",
       "      <td>26.93</td>\n",
       "      <td>0.00</td>\n",
       "      <td>53</td>\n",
       "      <td>10000</td>\n",
       "      <td>3.67</td>\n",
       "      <td>244</td>\n",
       "      <td>4.54</td>\n",
       "      <td>[{'id': 803, 'main': 'Clouds', 'description': ...</td>\n",
       "      <td>0.14</td>\n",
       "      <td>NaN</td>\n",
       "    </tr>\n",
       "    <tr>\n",
       "      <th>4</th>\n",
       "      <td>1631361600</td>\n",
       "      <td>30.69</td>\n",
       "      <td>37.69</td>\n",
       "      <td>1002</td>\n",
       "      <td>78</td>\n",
       "      <td>26.41</td>\n",
       "      <td>0.00</td>\n",
       "      <td>54</td>\n",
       "      <td>10000</td>\n",
       "      <td>2.87</td>\n",
       "      <td>241</td>\n",
       "      <td>3.43</td>\n",
       "      <td>[{'id': 803, 'main': 'Clouds', 'description': ...</td>\n",
       "      <td>0.14</td>\n",
       "      <td>NaN</td>\n",
       "    </tr>\n",
       "  </tbody>\n",
       "</table>\n",
       "</div>"
      ],
      "text/plain": [
       "           dt   temp  feels_like  pressure  humidity  dew_point   uvi  clouds  \\\n",
       "0  1631347200  32.35       39.35      1001        75      27.34  2.23      64   \n",
       "1  1631350800  32.88       39.88      1001        76      28.08  0.76      61   \n",
       "2  1631354400  32.31       39.31      1001        75      27.31  0.12      58   \n",
       "3  1631358000  31.46       38.46      1001        77      26.93  0.00      53   \n",
       "4  1631361600  30.69       37.69      1002        78      26.41  0.00      54   \n",
       "\n",
       "   visibility  wind_speed  wind_deg  wind_gust  \\\n",
       "0       10000        3.96       255       4.51   \n",
       "1       10000        3.82       253       4.51   \n",
       "2       10000        3.60       235       4.14   \n",
       "3       10000        3.67       244       4.54   \n",
       "4       10000        2.87       241       3.43   \n",
       "\n",
       "                                             weather   pop rain  \n",
       "0  [{'id': 803, 'main': 'Clouds', 'description': ...  0.12  NaN  \n",
       "1  [{'id': 803, 'main': 'Clouds', 'description': ...  0.05  NaN  \n",
       "2  [{'id': 803, 'main': 'Clouds', 'description': ...  0.10  NaN  \n",
       "3  [{'id': 803, 'main': 'Clouds', 'description': ...  0.14  NaN  \n",
       "4  [{'id': 803, 'main': 'Clouds', 'description': ...  0.14  NaN  "
      ]
     },
     "execution_count": 10,
     "metadata": {},
     "output_type": "execute_result"
    }
   ],
   "source": [
    "df_hourly.head()"
   ]
  },
  {
   "cell_type": "code",
   "execution_count": null,
   "metadata": {},
   "outputs": [],
   "source": []
  }
 ],
 "metadata": {
  "interpreter": {
   "hash": "c1b4cfe941b6d2466ad1fb5979e97da9cda8801728c8091b097ab734208fc00c"
  },
  "kernelspec": {
   "display_name": "Python 3.8.3 64-bit ('base': conda)",
   "name": "python3"
  },
  "language_info": {
   "codemirror_mode": {
    "name": "ipython",
    "version": 3
   },
   "file_extension": ".py",
   "mimetype": "text/x-python",
   "name": "python",
   "nbconvert_exporter": "python",
   "pygments_lexer": "ipython3",
   "version": "3.8.11"
  }
 },
 "nbformat": 4,
 "nbformat_minor": 2
}
