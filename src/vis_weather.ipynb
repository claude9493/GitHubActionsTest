{
 "cells": [
  {
   "cell_type": "code",
   "execution_count": 1,
   "metadata": {
    "execution": {
     "iopub.execute_input": "2021-09-16T21:10:11.993594Z",
     "iopub.status.busy": "2021-09-16T21:10:11.992254Z",
     "iopub.status.idle": "2021-09-16T21:10:13.847159Z",
     "shell.execute_reply": "2021-09-16T21:10:13.847750Z"
    }
   },
   "outputs": [],
   "source": [
    "import json, yaml, requests\r\n",
    "from datetime import datetime\r\n",
    "from dateutil import tz\r\n",
    "import pandas as pd\r\n",
    "from PIL import Image\r\n",
    "from io import BytesIO\r\n",
    "import matplotlib.pyplot as plt\r\n",
    "import seaborn\r\n",
    "\r\n",
    "CONFIG_PATH = \"../config/config.yaml\""
   ]
  },
  {
   "cell_type": "code",
   "execution_count": 2,
   "metadata": {
    "execution": {
     "iopub.execute_input": "2021-09-16T21:10:13.858635Z",
     "iopub.status.busy": "2021-09-16T21:10:13.856885Z",
     "iopub.status.idle": "2021-09-16T21:10:13.859549Z",
     "shell.execute_reply": "2021-09-16T21:10:13.860147Z"
    }
   },
   "outputs": [],
   "source": [
    "with open('../newest_ts', 'r') as f:\r\n",
    "    newest_ts = f.read()\r\n",
    "\r\n",
    "data_path = f\"../data/data_{newest_ts}.json\"\r\n",
    "with open(data_path, 'r') as f:\r\n",
    "    data = json.load(f)\r\n",
    "\r\n",
    "with open(CONFIG_PATH, \"r\") as stream:\r\n",
    "    config = yaml.safe_load(stream)\r\n",
    "\r\n",
    "TIME_ZONE = config['time_zone']\r\n",
    "DATETIME_FORMAT = config['dt_format']"
   ]
  },
  {
   "cell_type": "code",
   "execution_count": 3,
   "metadata": {
    "execution": {
     "iopub.execute_input": "2021-09-16T21:10:13.870380Z",
     "iopub.status.busy": "2021-09-16T21:10:13.869596Z",
     "iopub.status.idle": "2021-09-16T21:10:14.036829Z",
     "shell.execute_reply": "2021-09-16T21:10:14.037270Z"
    }
   },
   "outputs": [
    {
     "name": "stdout",
     "output_type": "stream",
     "text": [
      "Recent query happens at 2021-09-17 05:10:07 (CST).\n"
     ]
    }
   ],
   "source": [
    "def ts2dt(ts, format=DATETIME_FORMAT):\r\n",
    "    dt = (datetime.utcfromtimestamp(int(ts))\r\n",
    "                    .replace(tzinfo=tz.tzutc())\r\n",
    "                    # .astimezone(tz.tzlocal())\r\n",
    "                    .astimezone(tz.gettz(TIME_ZONE)))\r\n",
    "    return dt.strftime(format), dt\r\n",
    "\r\n",
    "_, newest_dt = ts2dt(newest_ts)\r\n",
    "print(f\"Recent query happens at {newest_dt.strftime(DATETIME_FORMAT)} ({newest_dt.tzname()}).\")"
   ]
  },
  {
   "cell_type": "code",
   "execution_count": 4,
   "metadata": {
    "execution": {
     "iopub.execute_input": "2021-09-16T21:10:14.042668Z",
     "iopub.status.busy": "2021-09-16T21:10:14.040140Z",
     "iopub.status.idle": "2021-09-16T21:10:14.044686Z",
     "shell.execute_reply": "2021-09-16T21:10:14.044216Z"
    }
   },
   "outputs": [],
   "source": [
    "def degrees_to_cardinal(d):\r\n",
    "  dirs = ['N', 'NNE', 'NE', 'ENE', 'E', 'ESE', 'SE', 'SSE', 'S', 'SSW', 'SW', 'WSW', 'W', 'WNW', 'NW', 'NNW']\r\n",
    "  ix = int(round(d / (360. / len(dirs))))\r\n",
    "  return dirs[ix % len(dirs)]"
   ]
  },
  {
   "cell_type": "code",
   "execution_count": 5,
   "metadata": {
    "execution": {
     "iopub.execute_input": "2021-09-16T21:10:14.049405Z",
     "iopub.status.busy": "2021-09-16T21:10:14.048213Z",
     "iopub.status.idle": "2021-09-16T21:10:14.050008Z",
     "shell.execute_reply": "2021-09-16T21:10:14.050433Z"
    }
   },
   "outputs": [],
   "source": [
    "# data.keys()"
   ]
  },
  {
   "cell_type": "code",
   "execution_count": 6,
   "metadata": {
    "execution": {
     "iopub.execute_input": "2021-09-16T21:10:14.053997Z",
     "iopub.status.busy": "2021-09-16T21:10:14.053480Z",
     "iopub.status.idle": "2021-09-16T21:10:14.058474Z",
     "shell.execute_reply": "2021-09-16T21:10:14.057967Z"
    }
   },
   "outputs": [],
   "source": [
    "# data['current']"
   ]
  },
  {
   "cell_type": "code",
   "execution_count": 7,
   "metadata": {
    "execution": {
     "iopub.execute_input": "2021-09-16T21:10:14.079183Z",
     "iopub.status.busy": "2021-09-16T21:10:14.076955Z",
     "iopub.status.idle": "2021-09-16T21:10:14.401824Z",
     "shell.execute_reply": "2021-09-16T21:10:14.402562Z"
    }
   },
   "outputs": [
    {
     "data": {
      "image/png": "[encoded data removed]",
      "text/plain": [
       "<Figure size 216x216 with 1 Axes>"
      ]
     },
     "metadata": {
      "needs_background": "light"
     },
     "output_type": "display_data"
    },
    {
     "name": "stdout",
     "output_type": "stream",
     "text": [
      "Today, sun rises at 06:10 and sets at 18:25.\n",
      "Currently, the weather is Rain (light rain).\n",
      "The temperature is 27.96°C and it feels like 32.62°C.\n",
      "The UV index is 0, humidity is 84%.\n",
      "The pressure is 1008 hPa, percentage of cloud cover is 82%\n",
      "The wind comes from WNW direction with a speed 1.63 m/s.\n"
     ]
    }
   ],
   "source": [
    "current = data['current']\r\n",
    "\r\n",
    "fig, ax = plt.subplots(figsize=(3, 3))\r\n",
    "icon = requests.get(f\"http://openweathermap.org/img/wn/{current['weather'][0]['icon']}@2x.png\")\r\n",
    "im = Image.open(BytesIO(icon.content))\r\n",
    "plt.imshow(im)\r\n",
    "ax.set_axis_off()\r\n",
    "plt.show()\r\n",
    "\r\n",
    "print(f\"Today, sun rises at {ts2dt(current['sunrise'], '%H:%M')[0]} \\\r\n",
    "and sets at {ts2dt(current['sunset'], '%H:%M')[0]}.\\n\\\r\n",
    "Currently, the weather is {current['weather'][0]['main']} ({current['weather'][0]['description']}).\\n\\\r\n",
    "The temperature is {current['temp']}°C and it feels like {current['feels_like']}°C.\\n\\\r\n",
    "The UV index is {current['uvi']}, humidity is {current['humidity']}%.\\n\\\r\n",
    "The pressure is {current['pressure']} hPa, percentage of cloud cover is {current['clouds']}%\\n\\\r\n",
    "The wind comes from {degrees_to_cardinal(current['wind_deg'])} direction with a speed {current['wind_speed']} m/s.\")"
   ]
  },
  {
   "cell_type": "code",
   "execution_count": 8,
   "metadata": {
    "execution": {
     "iopub.execute_input": "2021-09-16T21:10:14.406238Z",
     "iopub.status.busy": "2021-09-16T21:10:14.405201Z",
     "iopub.status.idle": "2021-09-16T21:10:14.413069Z",
     "shell.execute_reply": "2021-09-16T21:10:14.413791Z"
    }
   },
   "outputs": [],
   "source": [
    "df_hourly = pd.DataFrame(data['hourly'])\r\n",
    "df_daily = pd.DataFrame(data['daily'])"
   ]
  },
  {
   "cell_type": "code",
   "execution_count": 9,
   "metadata": {
    "execution": {
     "iopub.execute_input": "2021-09-16T21:10:14.417276Z",
     "iopub.status.busy": "2021-09-16T21:10:14.416240Z",
     "iopub.status.idle": "2021-09-16T21:10:14.695469Z",
     "shell.execute_reply": "2021-09-16T21:10:14.695886Z"
    }
   },
   "outputs": [
    {
     "data": {
      "image/png": "[encoded data removed]",
      "text/plain": [
       "<Figure size 864x432 with 1 Axes>"
      ]
     },
     "metadata": {
      "needs_background": "light"
     },
     "output_type": "display_data"
    }
   ],
   "source": [
    "fig, ax = plt.subplots(figsize=(12, 6))\r\n",
    "plt.plot(df_hourly.temp, '.-', label='Temperature')\r\n",
    "plt.plot(df_hourly.feels_like, '.-', label='Feels Like')\r\n",
    "ax.set(title='Temperature in future 48 hours', xlabel='Time', ylabel='Temperature')\r\n",
    "ax.set_xticks(list(range(0, len(df_hourly), 2)))\r\n",
    "ax.set_xticklabels([ts2dt(ts, '%m-%d %H:%M')[0] for i, ts in enumerate(df_hourly.dt) if i%2==0], \r\n",
    "                   rotation=45, ha=\"right\")\r\n",
    "ax.locator_params(nbins=15, axis='y')\r\n",
    "plt.legend()\r\n",
    "plt.show()"
   ]
  },
  {
   "cell_type": "code",
   "execution_count": 10,
   "metadata": {
    "execution": {
     "iopub.execute_input": "2021-09-16T21:10:14.699289Z",
     "iopub.status.busy": "2021-09-16T21:10:14.698233Z",
     "iopub.status.idle": "2021-09-16T21:10:14.721865Z",
     "shell.execute_reply": "2021-09-16T21:10:14.722289Z"
    }
   },
   "outputs": [
    {
     "data": {
      "text/html": [
       "<div>\n",
       "<style scoped>\n",
       "    .dataframe tbody tr th:only-of-type {\n",
       "        vertical-align: middle;\n",
       "    }\n",
       "\n",
       "    .dataframe tbody tr th {\n",
       "        vertical-align: top;\n",
       "    }\n",
       "\n",
       "    .dataframe thead th {\n",
       "        text-align: right;\n",
       "    }\n",
       "</style>\n",
       "<table border=\"1\" class=\"dataframe\">\n",
       "  <thead>\n",
       "    <tr style=\"text-align: right;\">\n",
       "      <th></th>\n",
       "      <th>dt</th>\n",
       "      <th>temp</th>\n",
       "      <th>feels_like</th>\n",
       "      <th>pressure</th>\n",
       "      <th>humidity</th>\n",
       "      <th>dew_point</th>\n",
       "      <th>uvi</th>\n",
       "      <th>clouds</th>\n",
       "      <th>visibility</th>\n",
       "      <th>wind_speed</th>\n",
       "      <th>wind_deg</th>\n",
       "      <th>wind_gust</th>\n",
       "      <th>weather</th>\n",
       "      <th>pop</th>\n",
       "      <th>rain</th>\n",
       "    </tr>\n",
       "  </thead>\n",
       "  <tbody>\n",
       "    <tr>\n",
       "      <th>0</th>\n",
       "      <td>1631826000</td>\n",
       "      <td>27.96</td>\n",
       "      <td>32.62</td>\n",
       "      <td>1008</td>\n",
       "      <td>84</td>\n",
       "      <td>25.00</td>\n",
       "      <td>0.00</td>\n",
       "      <td>82</td>\n",
       "      <td>10000</td>\n",
       "      <td>1.63</td>\n",
       "      <td>283</td>\n",
       "      <td>1.71</td>\n",
       "      <td>[{'id': 500, 'main': 'Rain', 'description': 'l...</td>\n",
       "      <td>0.47</td>\n",
       "      <td>{'1h': 0.32}</td>\n",
       "    </tr>\n",
       "    <tr>\n",
       "      <th>1</th>\n",
       "      <td>1631829600</td>\n",
       "      <td>27.89</td>\n",
       "      <td>32.28</td>\n",
       "      <td>1008</td>\n",
       "      <td>83</td>\n",
       "      <td>24.73</td>\n",
       "      <td>0.00</td>\n",
       "      <td>80</td>\n",
       "      <td>10000</td>\n",
       "      <td>1.85</td>\n",
       "      <td>285</td>\n",
       "      <td>2.01</td>\n",
       "      <td>[{'id': 500, 'main': 'Rain', 'description': 'l...</td>\n",
       "      <td>0.58</td>\n",
       "      <td>{'1h': 0.1}</td>\n",
       "    </tr>\n",
       "    <tr>\n",
       "      <th>2</th>\n",
       "      <td>1631833200</td>\n",
       "      <td>28.04</td>\n",
       "      <td>32.52</td>\n",
       "      <td>1008</td>\n",
       "      <td>82</td>\n",
       "      <td>24.68</td>\n",
       "      <td>0.23</td>\n",
       "      <td>74</td>\n",
       "      <td>10000</td>\n",
       "      <td>1.18</td>\n",
       "      <td>319</td>\n",
       "      <td>1.37</td>\n",
       "      <td>[{'id': 803, 'main': 'Clouds', 'description': ...</td>\n",
       "      <td>0.70</td>\n",
       "      <td>NaN</td>\n",
       "    </tr>\n",
       "    <tr>\n",
       "      <th>3</th>\n",
       "      <td>1631836800</td>\n",
       "      <td>28.52</td>\n",
       "      <td>33.07</td>\n",
       "      <td>1009</td>\n",
       "      <td>78</td>\n",
       "      <td>24.31</td>\n",
       "      <td>1.26</td>\n",
       "      <td>65</td>\n",
       "      <td>10000</td>\n",
       "      <td>1.18</td>\n",
       "      <td>345</td>\n",
       "      <td>1.36</td>\n",
       "      <td>[{'id': 803, 'main': 'Clouds', 'description': ...</td>\n",
       "      <td>0.68</td>\n",
       "      <td>NaN</td>\n",
       "    </tr>\n",
       "    <tr>\n",
       "      <th>4</th>\n",
       "      <td>1631840400</td>\n",
       "      <td>29.25</td>\n",
       "      <td>34.11</td>\n",
       "      <td>1010</td>\n",
       "      <td>74</td>\n",
       "      <td>24.13</td>\n",
       "      <td>3.36</td>\n",
       "      <td>36</td>\n",
       "      <td>10000</td>\n",
       "      <td>0.73</td>\n",
       "      <td>36</td>\n",
       "      <td>1.03</td>\n",
       "      <td>[{'id': 500, 'main': 'Rain', 'description': 'l...</td>\n",
       "      <td>0.71</td>\n",
       "      <td>{'1h': 0.37}</td>\n",
       "    </tr>\n",
       "  </tbody>\n",
       "</table>\n",
       "</div>"
      ],
      "text/plain": [
       "           dt   temp  feels_like  pressure  humidity  dew_point   uvi  clouds  \\\n",
       "0  1631826000  27.96       32.62      1008        84      25.00  0.00      82   \n",
       "1  1631829600  27.89       32.28      1008        83      24.73  0.00      80   \n",
       "2  1631833200  28.04       32.52      1008        82      24.68  0.23      74   \n",
       "3  1631836800  28.52       33.07      1009        78      24.31  1.26      65   \n",
       "4  1631840400  29.25       34.11      1010        74      24.13  3.36      36   \n",
       "\n",
       "   visibility  wind_speed  wind_deg  wind_gust  \\\n",
       "0       10000        1.63       283       1.71   \n",
       "1       10000        1.85       285       2.01   \n",
       "2       10000        1.18       319       1.37   \n",
       "3       10000        1.18       345       1.36   \n",
       "4       10000        0.73        36       1.03   \n",
       "\n",
       "                                             weather   pop          rain  \n",
       "0  [{'id': 500, 'main': 'Rain', 'description': 'l...  0.47  {'1h': 0.32}  \n",
       "1  [{'id': 500, 'main': 'Rain', 'description': 'l...  0.58   {'1h': 0.1}  \n",
       "2  [{'id': 803, 'main': 'Clouds', 'description': ...  0.70           NaN  \n",
       "3  [{'id': 803, 'main': 'Clouds', 'description': ...  0.68           NaN  \n",
       "4  [{'id': 500, 'main': 'Rain', 'description': 'l...  0.71  {'1h': 0.37}  "
      ]
     },
     "execution_count": 10,
     "metadata": {},
     "output_type": "execute_result"
    }
   ],
   "source": [
    "df_hourly.head()"
   ]
  },
  {
   "cell_type": "code",
   "execution_count": null,
   "metadata": {},
   "outputs": [],
   "source": []
  }
 ],
 "metadata": {
  "interpreter": {
   "hash": "c1b4cfe941b6d2466ad1fb5979e97da9cda8801728c8091b097ab734208fc00c"
  },
  "kernelspec": {
   "display_name": "Python 3.8.3 64-bit ('base': conda)",
   "name": "python3"
  },
  "language_info": {
   "codemirror_mode": {
    "name": "ipython",
    "version": 3
   },
   "file_extension": ".py",
   "mimetype": "text/x-python",
   "name": "python",
   "nbconvert_exporter": "python",
   "pygments_lexer": "ipython3",
   "version": "3.8.11"
  }
 },
 "nbformat": 4,
 "nbformat_minor": 2
}
