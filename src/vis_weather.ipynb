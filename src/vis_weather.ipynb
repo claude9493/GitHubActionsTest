{
 "cells": [
  {
   "cell_type": "code",
   "execution_count": 1,
   "metadata": {
    "execution": {
     "iopub.execute_input": "2021-09-06T03:40:49.954753Z",
     "iopub.status.busy": "2021-09-06T03:40:49.954079Z",
     "iopub.status.idle": "2021-09-06T03:40:52.708513Z",
     "shell.execute_reply": "2021-09-06T03:40:52.707417Z"
    }
   },
   "outputs": [],
   "source": [
    "import json, yaml, requests\r\n",
    "from datetime import datetime\r\n",
    "from dateutil import tz\r\n",
    "import pandas as pd\r\n",
    "from PIL import Image\r\n",
    "from io import BytesIO\r\n",
    "import matplotlib.pyplot as plt\r\n",
    "import seaborn\r\n",
    "\r\n",
    "CONFIG_PATH = \"../config/config.yaml\""
   ]
  },
  {
   "cell_type": "code",
   "execution_count": 2,
   "metadata": {
    "execution": {
     "iopub.execute_input": "2021-09-06T03:40:52.713913Z",
     "iopub.status.busy": "2021-09-06T03:40:52.712892Z",
     "iopub.status.idle": "2021-09-06T03:40:52.719200Z",
     "shell.execute_reply": "2021-09-06T03:40:52.718544Z"
    }
   },
   "outputs": [],
   "source": [
    "with open('../newest_ts', 'r') as f:\r\n",
    "    newest_ts = f.read()\r\n",
    "\r\n",
    "data_path = f\"../data/data_{newest_ts}.json\"\r\n",
    "with open(data_path, 'r') as f:\r\n",
    "    data = json.load(f)\r\n",
    "\r\n",
    "with open(CONFIG_PATH, \"r\") as stream:\r\n",
    "    config = yaml.safe_load(stream)\r\n",
    "\r\n",
    "TIME_ZONE = config['time_zone']\r\n",
    "DATETIME_FORMAT = config['dt_format']"
   ]
  },
  {
   "cell_type": "code",
   "execution_count": 3,
   "metadata": {
    "execution": {
     "iopub.execute_input": "2021-09-06T03:40:52.723663Z",
     "iopub.status.busy": "2021-09-06T03:40:52.723091Z",
     "iopub.status.idle": "2021-09-06T03:40:52.748012Z",
     "shell.execute_reply": "2021-09-06T03:40:52.748606Z"
    }
   },
   "outputs": [
    {
     "name": "stdout",
     "output_type": "stream",
     "text": [
      "Recent query happens at 2021-09-06 11:40:46 (CST).\n"
     ]
    }
   ],
   "source": [
    "def ts2dt(ts, format=DATETIME_FORMAT):\r\n",
    "    dt = (datetime.utcfromtimestamp(int(ts))\r\n",
    "                    .replace(tzinfo=tz.tzutc())\r\n",
    "                    # .astimezone(tz.tzlocal())\r\n",
    "                    .astimezone(tz.gettz(TIME_ZONE)))\r\n",
    "    return dt.strftime(format), dt\r\n",
    "\r\n",
    "_, newest_dt = ts2dt(newest_ts)\r\n",
    "print(f\"Recent query happens at {newest_dt.strftime(DATETIME_FORMAT)} ({newest_dt.tzname()}).\")"
   ]
  },
  {
   "cell_type": "code",
   "execution_count": 4,
   "metadata": {
    "execution": {
     "iopub.execute_input": "2021-09-06T03:40:52.753219Z",
     "iopub.status.busy": "2021-09-06T03:40:52.752366Z",
     "iopub.status.idle": "2021-09-06T03:40:52.754428Z",
     "shell.execute_reply": "2021-09-06T03:40:52.754031Z"
    }
   },
   "outputs": [],
   "source": [
    "def degrees_to_cardinal(d):\r\n",
    "  dirs = ['N', 'NNE', 'NE', 'ENE', 'E', 'ESE', 'SE', 'SSE', 'S', 'SSW', 'SW', 'WSW', 'W', 'WNW', 'NW', 'NNW']\r\n",
    "  ix = int(round(d / (360. / len(dirs))))\r\n",
    "  return dirs[ix % len(dirs)]"
   ]
  },
  {
   "cell_type": "code",
   "execution_count": 5,
   "metadata": {
    "execution": {
     "iopub.execute_input": "2021-09-06T03:40:52.758595Z",
     "iopub.status.busy": "2021-09-06T03:40:52.757284Z",
     "iopub.status.idle": "2021-09-06T03:40:52.759472Z",
     "shell.execute_reply": "2021-09-06T03:40:52.759954Z"
    }
   },
   "outputs": [],
   "source": [
    "# data.keys()"
   ]
  },
  {
   "cell_type": "code",
   "execution_count": 6,
   "metadata": {
    "execution": {
     "iopub.execute_input": "2021-09-06T03:40:52.763884Z",
     "iopub.status.busy": "2021-09-06T03:40:52.763046Z",
     "iopub.status.idle": "2021-09-06T03:40:52.766369Z",
     "shell.execute_reply": "2021-09-06T03:40:52.766788Z"
    }
   },
   "outputs": [],
   "source": [
    "# data['current']"
   ]
  },
  {
   "cell_type": "code",
   "execution_count": 7,
   "metadata": {
    "execution": {
     "iopub.execute_input": "2021-09-06T03:40:52.788628Z",
     "iopub.status.busy": "2021-09-06T03:40:52.787799Z",
     "iopub.status.idle": "2021-09-06T03:40:53.227323Z",
     "shell.execute_reply": "2021-09-06T03:40:53.228212Z"
    }
   },
   "outputs": [
    {
     "data": {
      "image/png": "[encoded data removed]",
      "text/plain": [
       "<Figure size 216x216 with 1 Axes>"
      ]
     },
     "metadata": {
      "needs_background": "light"
     },
     "output_type": "display_data"
    },
    {
     "name": "stdout",
     "output_type": "stream",
     "text": [
      "Today, sun rises at 06:07 and sets at 18:35.\n",
      "Currently, the weather is Clouds (few clouds).\n",
      "The temperature is 33.03°C and it feels like 40.03°C.\n",
      "The UV index is 10.49, humidity is 68%.\n",
      "The pressure is 1011 hPa, percentage of cloud cover is 15%\n",
      "The wind comes from E direction with a speed 4.22 m/s.\n"
     ]
    }
   ],
   "source": [
    "current = data['current']\r\n",
    "\r\n",
    "fig, ax = plt.subplots(figsize=(3, 3))\r\n",
    "icon = requests.get(f\"http://openweathermap.org/img/wn/{current['weather'][0]['icon']}@2x.png\")\r\n",
    "im = Image.open(BytesIO(icon.content))\r\n",
    "plt.imshow(im)\r\n",
    "ax.set_axis_off()\r\n",
    "plt.show()\r\n",
    "\r\n",
    "print(f\"Today, sun rises at {ts2dt(current['sunrise'], '%H:%M')[0]} \\\r\n",
    "and sets at {ts2dt(current['sunset'], '%H:%M')[0]}.\\n\\\r\n",
    "Currently, the weather is {current['weather'][0]['main']} ({current['weather'][0]['description']}).\\n\\\r\n",
    "The temperature is {current['temp']}°C and it feels like {current['feels_like']}°C.\\n\\\r\n",
    "The UV index is {current['uvi']}, humidity is {current['humidity']}%.\\n\\\r\n",
    "The pressure is {current['pressure']} hPa, percentage of cloud cover is {current['clouds']}%\\n\\\r\n",
    "The wind comes from {degrees_to_cardinal(current['wind_deg'])} direction with a speed {current['wind_speed']} m/s.\")"
   ]
  },
  {
   "cell_type": "code",
   "execution_count": 8,
   "metadata": {
    "execution": {
     "iopub.execute_input": "2021-09-06T03:40:53.232141Z",
     "iopub.status.busy": "2021-09-06T03:40:53.231065Z",
     "iopub.status.idle": "2021-09-06T03:40:53.240163Z",
     "shell.execute_reply": "2021-09-06T03:40:53.241081Z"
    }
   },
   "outputs": [],
   "source": [
    "df_hourly = pd.DataFrame(data['hourly'])\r\n",
    "df_daily = pd.DataFrame(data['daily'])"
   ]
  },
  {
   "cell_type": "code",
   "execution_count": 9,
   "metadata": {
    "execution": {
     "iopub.execute_input": "2021-09-06T03:40:53.244796Z",
     "iopub.status.busy": "2021-09-06T03:40:53.243605Z",
     "iopub.status.idle": "2021-09-06T03:40:53.578040Z",
     "shell.execute_reply": "2021-09-06T03:40:53.577338Z"
    }
   },
   "outputs": [
    {
     "data": {
      "image/png": "[encoded data removed]",
      "text/plain": [
       "<Figure size 864x432 with 1 Axes>"
      ]
     },
     "metadata": {
      "needs_background": "light"
     },
     "output_type": "display_data"
    }
   ],
   "source": [
    "fig, ax = plt.subplots(figsize=(12, 6))\r\n",
    "plt.plot(df_hourly.temp, '.-', label='Temperature')\r\n",
    "plt.plot(df_hourly.feels_like, '.-', label='Feels Like')\r\n",
    "ax.set(title='Temperature in future 48 hours', xlabel='Time', ylabel='Temperature')\r\n",
    "ax.set_xticks(list(range(0, len(df_hourly), 2)))\r\n",
    "ax.set_xticklabels([ts2dt(ts, '%m-%d %H:%M')[0] for i, ts in enumerate(df_hourly.dt) if i%2==0], \r\n",
    "                   rotation=45, ha=\"right\")\r\n",
    "ax.locator_params(nbins=15, axis='y')\r\n",
    "plt.legend()\r\n",
    "plt.show()"
   ]
  },
  {
   "cell_type": "code",
   "execution_count": 10,
   "metadata": {
    "execution": {
     "iopub.execute_input": "2021-09-06T03:40:53.583398Z",
     "iopub.status.busy": "2021-09-06T03:40:53.582803Z",
     "iopub.status.idle": "2021-09-06T03:40:53.602169Z",
     "shell.execute_reply": "2021-09-06T03:40:53.602683Z"
    }
   },
   "outputs": [
    {
     "data": {
      "text/html": [
       "<div>\n",
       "<style scoped>\n",
       "    .dataframe tbody tr th:only-of-type {\n",
       "        vertical-align: middle;\n",
       "    }\n",
       "\n",
       "    .dataframe tbody tr th {\n",
       "        vertical-align: top;\n",
       "    }\n",
       "\n",
       "    .dataframe thead th {\n",
       "        text-align: right;\n",
       "    }\n",
       "</style>\n",
       "<table border=\"1\" class=\"dataframe\">\n",
       "  <thead>\n",
       "    <tr style=\"text-align: right;\">\n",
       "      <th></th>\n",
       "      <th>dt</th>\n",
       "      <th>temp</th>\n",
       "      <th>feels_like</th>\n",
       "      <th>pressure</th>\n",
       "      <th>humidity</th>\n",
       "      <th>dew_point</th>\n",
       "      <th>uvi</th>\n",
       "      <th>clouds</th>\n",
       "      <th>visibility</th>\n",
       "      <th>wind_speed</th>\n",
       "      <th>wind_deg</th>\n",
       "      <th>wind_gust</th>\n",
       "      <th>weather</th>\n",
       "      <th>pop</th>\n",
       "      <th>rain</th>\n",
       "    </tr>\n",
       "  </thead>\n",
       "  <tbody>\n",
       "    <tr>\n",
       "      <th>0</th>\n",
       "      <td>1630897200</td>\n",
       "      <td>32.41</td>\n",
       "      <td>39.41</td>\n",
       "      <td>1011</td>\n",
       "      <td>69</td>\n",
       "      <td>25.99</td>\n",
       "      <td>9.65</td>\n",
       "      <td>15</td>\n",
       "      <td>10000</td>\n",
       "      <td>4.18</td>\n",
       "      <td>84</td>\n",
       "      <td>5.01</td>\n",
       "      <td>[{'id': 801, 'main': 'Clouds', 'description': ...</td>\n",
       "      <td>0.77</td>\n",
       "      <td>NaN</td>\n",
       "    </tr>\n",
       "    <tr>\n",
       "      <th>1</th>\n",
       "      <td>1630900800</td>\n",
       "      <td>33.03</td>\n",
       "      <td>40.03</td>\n",
       "      <td>1011</td>\n",
       "      <td>68</td>\n",
       "      <td>26.33</td>\n",
       "      <td>10.49</td>\n",
       "      <td>15</td>\n",
       "      <td>10000</td>\n",
       "      <td>4.22</td>\n",
       "      <td>86</td>\n",
       "      <td>5.00</td>\n",
       "      <td>[{'id': 801, 'main': 'Clouds', 'description': ...</td>\n",
       "      <td>0.73</td>\n",
       "      <td>NaN</td>\n",
       "    </tr>\n",
       "    <tr>\n",
       "      <th>2</th>\n",
       "      <td>1630904400</td>\n",
       "      <td>32.49</td>\n",
       "      <td>39.49</td>\n",
       "      <td>1011</td>\n",
       "      <td>68</td>\n",
       "      <td>25.82</td>\n",
       "      <td>10.32</td>\n",
       "      <td>16</td>\n",
       "      <td>10000</td>\n",
       "      <td>4.59</td>\n",
       "      <td>93</td>\n",
       "      <td>5.22</td>\n",
       "      <td>[{'id': 801, 'main': 'Clouds', 'description': ...</td>\n",
       "      <td>0.73</td>\n",
       "      <td>NaN</td>\n",
       "    </tr>\n",
       "    <tr>\n",
       "      <th>3</th>\n",
       "      <td>1630908000</td>\n",
       "      <td>31.90</td>\n",
       "      <td>38.90</td>\n",
       "      <td>1011</td>\n",
       "      <td>69</td>\n",
       "      <td>25.50</td>\n",
       "      <td>8.53</td>\n",
       "      <td>22</td>\n",
       "      <td>10000</td>\n",
       "      <td>4.51</td>\n",
       "      <td>94</td>\n",
       "      <td>5.34</td>\n",
       "      <td>[{'id': 801, 'main': 'Clouds', 'description': ...</td>\n",
       "      <td>0.66</td>\n",
       "      <td>NaN</td>\n",
       "    </tr>\n",
       "    <tr>\n",
       "      <th>4</th>\n",
       "      <td>1630911600</td>\n",
       "      <td>31.23</td>\n",
       "      <td>38.22</td>\n",
       "      <td>1010</td>\n",
       "      <td>70</td>\n",
       "      <td>25.10</td>\n",
       "      <td>6.16</td>\n",
       "      <td>56</td>\n",
       "      <td>10000</td>\n",
       "      <td>4.35</td>\n",
       "      <td>95</td>\n",
       "      <td>5.45</td>\n",
       "      <td>[{'id': 803, 'main': 'Clouds', 'description': ...</td>\n",
       "      <td>0.70</td>\n",
       "      <td>NaN</td>\n",
       "    </tr>\n",
       "  </tbody>\n",
       "</table>\n",
       "</div>"
      ],
      "text/plain": [
       "           dt   temp  feels_like  pressure  humidity  dew_point    uvi  \\\n",
       "0  1630897200  32.41       39.41      1011        69      25.99   9.65   \n",
       "1  1630900800  33.03       40.03      1011        68      26.33  10.49   \n",
       "2  1630904400  32.49       39.49      1011        68      25.82  10.32   \n",
       "3  1630908000  31.90       38.90      1011        69      25.50   8.53   \n",
       "4  1630911600  31.23       38.22      1010        70      25.10   6.16   \n",
       "\n",
       "   clouds  visibility  wind_speed  wind_deg  wind_gust  \\\n",
       "0      15       10000        4.18        84       5.01   \n",
       "1      15       10000        4.22        86       5.00   \n",
       "2      16       10000        4.59        93       5.22   \n",
       "3      22       10000        4.51        94       5.34   \n",
       "4      56       10000        4.35        95       5.45   \n",
       "\n",
       "                                             weather   pop rain  \n",
       "0  [{'id': 801, 'main': 'Clouds', 'description': ...  0.77  NaN  \n",
       "1  [{'id': 801, 'main': 'Clouds', 'description': ...  0.73  NaN  \n",
       "2  [{'id': 801, 'main': 'Clouds', 'description': ...  0.73  NaN  \n",
       "3  [{'id': 801, 'main': 'Clouds', 'description': ...  0.66  NaN  \n",
       "4  [{'id': 803, 'main': 'Clouds', 'description': ...  0.70  NaN  "
      ]
     },
     "execution_count": 10,
     "metadata": {},
     "output_type": "execute_result"
    }
   ],
   "source": [
    "df_hourly.head()"
   ]
  },
  {
   "cell_type": "code",
   "execution_count": null,
   "metadata": {},
   "outputs": [],
   "source": []
  }
 ],
 "metadata": {
  "interpreter": {
   "hash": "c1b4cfe941b6d2466ad1fb5979e97da9cda8801728c8091b097ab734208fc00c"
  },
  "kernelspec": {
   "display_name": "Python 3.8.3 64-bit ('base': conda)",
   "name": "python3"
  },
  "language_info": {
   "codemirror_mode": {
    "name": "ipython",
    "version": 3
   },
   "file_extension": ".py",
   "mimetype": "text/x-python",
   "name": "python",
   "nbconvert_exporter": "python",
   "pygments_lexer": "ipython3",
   "version": "3.8.11"
  }
 },
 "nbformat": 4,
 "nbformat_minor": 2
}
