{
 "cells": [
  {
   "cell_type": "code",
   "execution_count": 1,
   "metadata": {
    "execution": {
     "iopub.execute_input": "2021-10-18T00:42:59.386410Z",
     "iopub.status.busy": "2021-10-18T00:42:59.385864Z",
     "iopub.status.idle": "2021-10-18T00:43:02.376912Z",
     "shell.execute_reply": "2021-10-18T00:43:02.376304Z"
    }
   },
   "outputs": [],
   "source": [
    "import json, yaml, requests\r\n",
    "from datetime import datetime\r\n",
    "from dateutil import tz\r\n",
    "import pandas as pd\r\n",
    "from PIL import Image\r\n",
    "from io import BytesIO\r\n",
    "import matplotlib.pyplot as plt\r\n",
    "import seaborn\r\n",
    "\r\n",
    "CONFIG_PATH = \"../config/config.yaml\""
   ]
  },
  {
   "cell_type": "code",
   "execution_count": 2,
   "metadata": {
    "execution": {
     "iopub.execute_input": "2021-10-18T00:43:02.383919Z",
     "iopub.status.busy": "2021-10-18T00:43:02.381224Z",
     "iopub.status.idle": "2021-10-18T00:43:02.386393Z",
     "shell.execute_reply": "2021-10-18T00:43:02.386018Z"
    }
   },
   "outputs": [],
   "source": [
    "with open('../newest_ts', 'r') as f:\r\n",
    "    newest_ts = f.read()\r\n",
    "\r\n",
    "data_path = f\"../data/data_{newest_ts}.json\"\r\n",
    "with open(data_path, 'r') as f:\r\n",
    "    data = json.load(f)\r\n",
    "\r\n",
    "with open(CONFIG_PATH, \"r\") as stream:\r\n",
    "    config = yaml.safe_load(stream)\r\n",
    "\r\n",
    "TIME_ZONE = config['time_zone']\r\n",
    "DATETIME_FORMAT = config['dt_format']"
   ]
  },
  {
   "cell_type": "code",
   "execution_count": 3,
   "metadata": {
    "execution": {
     "iopub.execute_input": "2021-10-18T00:43:02.390597Z",
     "iopub.status.busy": "2021-10-18T00:43:02.390081Z",
     "iopub.status.idle": "2021-10-18T00:43:02.395591Z",
     "shell.execute_reply": "2021-10-18T00:43:02.395991Z"
    }
   },
   "outputs": [
    {
     "name": "stdout",
     "output_type": "stream",
     "text": [
      "Recent query happens at 2021-10-18 08:42:56 (CST).\n"
     ]
    }
   ],
   "source": [
    "def ts2dt(ts, format=DATETIME_FORMAT):\r\n",
    "    dt = (datetime.utcfromtimestamp(int(ts))\r\n",
    "                    .replace(tzinfo=tz.tzutc())\r\n",
    "                    # .astimezone(tz.tzlocal())\r\n",
    "                    .astimezone(tz.gettz(TIME_ZONE)))\r\n",
    "    return dt.strftime(format), dt\r\n",
    "\r\n",
    "_, newest_dt = ts2dt(newest_ts)\r\n",
    "print(f\"Recent query happens at {newest_dt.strftime(DATETIME_FORMAT)} ({newest_dt.tzname()}).\")"
   ]
  },
  {
   "cell_type": "code",
   "execution_count": 4,
   "metadata": {
    "execution": {
     "iopub.execute_input": "2021-10-18T00:43:02.400801Z",
     "iopub.status.busy": "2021-10-18T00:43:02.399755Z",
     "iopub.status.idle": "2021-10-18T00:43:02.401316Z",
     "shell.execute_reply": "2021-10-18T00:43:02.401674Z"
    }
   },
   "outputs": [],
   "source": [
    "def degrees_to_cardinal(d):\r\n",
    "  dirs = ['N', 'NNE', 'NE', 'ENE', 'E', 'ESE', 'SE', 'SSE', 'S', 'SSW', 'SW', 'WSW', 'W', 'WNW', 'NW', 'NNW']\r\n",
    "  ix = int(round(d / (360. / len(dirs))))\r\n",
    "  return dirs[ix % len(dirs)]"
   ]
  },
  {
   "cell_type": "code",
   "execution_count": 5,
   "metadata": {
    "execution": {
     "iopub.execute_input": "2021-10-18T00:43:02.405429Z",
     "iopub.status.busy": "2021-10-18T00:43:02.404431Z",
     "iopub.status.idle": "2021-10-18T00:43:02.405944Z",
     "shell.execute_reply": "2021-10-18T00:43:02.406300Z"
    }
   },
   "outputs": [],
   "source": [
    "# data.keys()"
   ]
  },
  {
   "cell_type": "code",
   "execution_count": 6,
   "metadata": {
    "execution": {
     "iopub.execute_input": "2021-10-18T00:43:02.409877Z",
     "iopub.status.busy": "2021-10-18T00:43:02.408849Z",
     "iopub.status.idle": "2021-10-18T00:43:02.410485Z",
     "shell.execute_reply": "2021-10-18T00:43:02.410849Z"
    }
   },
   "outputs": [],
   "source": [
    "# data['current']"
   ]
  },
  {
   "cell_type": "code",
   "execution_count": 7,
   "metadata": {
    "execution": {
     "iopub.execute_input": "2021-10-18T00:43:02.427120Z",
     "iopub.status.busy": "2021-10-18T00:43:02.426651Z",
     "iopub.status.idle": "2021-10-18T00:43:02.701739Z",
     "shell.execute_reply": "2021-10-18T00:43:02.702084Z"
    }
   },
   "outputs": [
    {
     "data": {
      "image/png": "[encoded data removed]",
      "text/plain": [
       "<Figure size 216x216 with 1 Axes>"
      ]
     },
     "metadata": {
      "needs_background": "light"
     },
     "output_type": "display_data"
    },
    {
     "name": "stdout",
     "output_type": "stream",
     "text": [
      "Today, sun rises at 06:20 and sets at 17:55.\n",
      "Currently, the weather is Clouds (overcast clouds).\n",
      "The temperature is 21.43°C and it feels like 21.67°C.\n",
      "The UV index is 2.38, humidity is 78%.\n",
      "The pressure is 1018 hPa, percentage of cloud cover is 85%\n",
      "The wind comes from NE direction with a speed 0.45 m/s.\n"
     ]
    }
   ],
   "source": [
    "current = data['current']\r\n",
    "\r\n",
    "fig, ax = plt.subplots(figsize=(3, 3))\r\n",
    "icon = requests.get(f\"http://openweathermap.org/img/wn/{current['weather'][0]['icon']}@2x.png\")\r\n",
    "im = Image.open(BytesIO(icon.content))\r\n",
    "plt.imshow(im)\r\n",
    "ax.set_axis_off()\r\n",
    "plt.show()\r\n",
    "\r\n",
    "print(f\"Today, sun rises at {ts2dt(current['sunrise'], '%H:%M')[0]} \\\r\n",
    "and sets at {ts2dt(current['sunset'], '%H:%M')[0]}.\\n\\\r\n",
    "Currently, the weather is {current['weather'][0]['main']} ({current['weather'][0]['description']}).\\n\\\r\n",
    "The temperature is {current['temp']}°C and it feels like {current['feels_like']}°C.\\n\\\r\n",
    "The UV index is {current['uvi']}, humidity is {current['humidity']}%.\\n\\\r\n",
    "The pressure is {current['pressure']} hPa, percentage of cloud cover is {current['clouds']}%\\n\\\r\n",
    "The wind comes from {degrees_to_cardinal(current['wind_deg'])} direction with a speed {current['wind_speed']} m/s.\")"
   ]
  },
  {
   "cell_type": "code",
   "execution_count": 8,
   "metadata": {
    "execution": {
     "iopub.execute_input": "2021-10-18T00:43:02.706148Z",
     "iopub.status.busy": "2021-10-18T00:43:02.705701Z",
     "iopub.status.idle": "2021-10-18T00:43:02.710756Z",
     "shell.execute_reply": "2021-10-18T00:43:02.711394Z"
    }
   },
   "outputs": [],
   "source": [
    "df_hourly = pd.DataFrame(data['hourly'])\r\n",
    "df_daily = pd.DataFrame(data['daily'])"
   ]
  },
  {
   "cell_type": "code",
   "execution_count": 9,
   "metadata": {
    "execution": {
     "iopub.execute_input": "2021-10-18T00:43:02.714386Z",
     "iopub.status.busy": "2021-10-18T00:43:02.713463Z",
     "iopub.status.idle": "2021-10-18T00:43:02.956420Z",
     "shell.execute_reply": "2021-10-18T00:43:02.956000Z"
    }
   },
   "outputs": [
    {
     "data": {
      "image/png": "[encoded data removed]",
      "text/plain": [
       "<Figure size 864x432 with 1 Axes>"
      ]
     },
     "metadata": {
      "needs_background": "light"
     },
     "output_type": "display_data"
    }
   ],
   "source": [
    "fig, ax = plt.subplots(figsize=(12, 6))\r\n",
    "plt.plot(df_hourly.temp, '.-', label='Temperature')\r\n",
    "plt.plot(df_hourly.feels_like, '.-', label='Feels Like')\r\n",
    "ax.set(title='Temperature in future 48 hours', xlabel='Time', ylabel='Temperature')\r\n",
    "ax.set_xticks(list(range(0, len(df_hourly), 2)))\r\n",
    "ax.set_xticklabels([ts2dt(ts, '%m-%d %H:%M')[0] for i, ts in enumerate(df_hourly.dt) if i%2==0], \r\n",
    "                   rotation=45, ha=\"right\")\r\n",
    "ax.locator_params(nbins=15, axis='y')\r\n",
    "plt.legend()\r\n",
    "plt.show()"
   ]
  },
  {
   "cell_type": "code",
   "execution_count": 10,
   "metadata": {
    "execution": {
     "iopub.execute_input": "2021-10-18T00:43:02.967847Z",
     "iopub.status.busy": "2021-10-18T00:43:02.960259Z",
     "iopub.status.idle": "2021-10-18T00:43:02.977400Z",
     "shell.execute_reply": "2021-10-18T00:43:02.977964Z"
    }
   },
   "outputs": [
    {
     "data": {
      "text/html": [
       "<div>\n",
       "<style scoped>\n",
       "    .dataframe tbody tr th:only-of-type {\n",
       "        vertical-align: middle;\n",
       "    }\n",
       "\n",
       "    .dataframe tbody tr th {\n",
       "        vertical-align: top;\n",
       "    }\n",
       "\n",
       "    .dataframe thead th {\n",
       "        text-align: right;\n",
       "    }\n",
       "</style>\n",
       "<table border=\"1\" class=\"dataframe\">\n",
       "  <thead>\n",
       "    <tr style=\"text-align: right;\">\n",
       "      <th></th>\n",
       "      <th>dt</th>\n",
       "      <th>temp</th>\n",
       "      <th>feels_like</th>\n",
       "      <th>pressure</th>\n",
       "      <th>humidity</th>\n",
       "      <th>dew_point</th>\n",
       "      <th>uvi</th>\n",
       "      <th>clouds</th>\n",
       "      <th>visibility</th>\n",
       "      <th>wind_speed</th>\n",
       "      <th>wind_deg</th>\n",
       "      <th>wind_gust</th>\n",
       "      <th>weather</th>\n",
       "      <th>pop</th>\n",
       "      <th>rain</th>\n",
       "    </tr>\n",
       "  </thead>\n",
       "  <tbody>\n",
       "    <tr>\n",
       "      <th>0</th>\n",
       "      <td>1634515200</td>\n",
       "      <td>21.21</td>\n",
       "      <td>21.40</td>\n",
       "      <td>1018</td>\n",
       "      <td>77</td>\n",
       "      <td>17.02</td>\n",
       "      <td>0.76</td>\n",
       "      <td>84</td>\n",
       "      <td>10000</td>\n",
       "      <td>4.45</td>\n",
       "      <td>39</td>\n",
       "      <td>5.73</td>\n",
       "      <td>[{'id': 803, 'main': 'Clouds', 'description': ...</td>\n",
       "      <td>0.0</td>\n",
       "      <td>NaN</td>\n",
       "    </tr>\n",
       "    <tr>\n",
       "      <th>1</th>\n",
       "      <td>1634518800</td>\n",
       "      <td>21.43</td>\n",
       "      <td>21.67</td>\n",
       "      <td>1018</td>\n",
       "      <td>78</td>\n",
       "      <td>17.44</td>\n",
       "      <td>2.38</td>\n",
       "      <td>85</td>\n",
       "      <td>10000</td>\n",
       "      <td>3.99</td>\n",
       "      <td>37</td>\n",
       "      <td>5.10</td>\n",
       "      <td>[{'id': 804, 'main': 'Clouds', 'description': ...</td>\n",
       "      <td>0.0</td>\n",
       "      <td>NaN</td>\n",
       "    </tr>\n",
       "    <tr>\n",
       "      <th>2</th>\n",
       "      <td>1634522400</td>\n",
       "      <td>21.55</td>\n",
       "      <td>21.75</td>\n",
       "      <td>1018</td>\n",
       "      <td>76</td>\n",
       "      <td>17.14</td>\n",
       "      <td>4.77</td>\n",
       "      <td>84</td>\n",
       "      <td>10000</td>\n",
       "      <td>3.25</td>\n",
       "      <td>42</td>\n",
       "      <td>4.08</td>\n",
       "      <td>[{'id': 803, 'main': 'Clouds', 'description': ...</td>\n",
       "      <td>0.0</td>\n",
       "      <td>NaN</td>\n",
       "    </tr>\n",
       "    <tr>\n",
       "      <th>3</th>\n",
       "      <td>1634526000</td>\n",
       "      <td>21.99</td>\n",
       "      <td>22.15</td>\n",
       "      <td>1019</td>\n",
       "      <td>73</td>\n",
       "      <td>16.93</td>\n",
       "      <td>7.09</td>\n",
       "      <td>82</td>\n",
       "      <td>10000</td>\n",
       "      <td>2.67</td>\n",
       "      <td>52</td>\n",
       "      <td>3.41</td>\n",
       "      <td>[{'id': 803, 'main': 'Clouds', 'description': ...</td>\n",
       "      <td>0.0</td>\n",
       "      <td>NaN</td>\n",
       "    </tr>\n",
       "    <tr>\n",
       "      <th>4</th>\n",
       "      <td>1634529600</td>\n",
       "      <td>22.70</td>\n",
       "      <td>22.83</td>\n",
       "      <td>1019</td>\n",
       "      <td>69</td>\n",
       "      <td>16.72</td>\n",
       "      <td>8.49</td>\n",
       "      <td>78</td>\n",
       "      <td>10000</td>\n",
       "      <td>2.26</td>\n",
       "      <td>60</td>\n",
       "      <td>2.88</td>\n",
       "      <td>[{'id': 803, 'main': 'Clouds', 'description': ...</td>\n",
       "      <td>0.0</td>\n",
       "      <td>NaN</td>\n",
       "    </tr>\n",
       "  </tbody>\n",
       "</table>\n",
       "</div>"
      ],
      "text/plain": [
       "           dt   temp  feels_like  pressure  humidity  dew_point   uvi  clouds  \\\n",
       "0  1634515200  21.21       21.40      1018        77      17.02  0.76      84   \n",
       "1  1634518800  21.43       21.67      1018        78      17.44  2.38      85   \n",
       "2  1634522400  21.55       21.75      1018        76      17.14  4.77      84   \n",
       "3  1634526000  21.99       22.15      1019        73      16.93  7.09      82   \n",
       "4  1634529600  22.70       22.83      1019        69      16.72  8.49      78   \n",
       "\n",
       "   visibility  wind_speed  wind_deg  wind_gust  \\\n",
       "0       10000        4.45        39       5.73   \n",
       "1       10000        3.99        37       5.10   \n",
       "2       10000        3.25        42       4.08   \n",
       "3       10000        2.67        52       3.41   \n",
       "4       10000        2.26        60       2.88   \n",
       "\n",
       "                                             weather  pop rain  \n",
       "0  [{'id': 803, 'main': 'Clouds', 'description': ...  0.0  NaN  \n",
       "1  [{'id': 804, 'main': 'Clouds', 'description': ...  0.0  NaN  \n",
       "2  [{'id': 803, 'main': 'Clouds', 'description': ...  0.0  NaN  \n",
       "3  [{'id': 803, 'main': 'Clouds', 'description': ...  0.0  NaN  \n",
       "4  [{'id': 803, 'main': 'Clouds', 'description': ...  0.0  NaN  "
      ]
     },
     "execution_count": 10,
     "metadata": {},
     "output_type": "execute_result"
    }
   ],
   "source": [
    "df_hourly.head()"
   ]
  },
  {
   "cell_type": "code",
   "execution_count": null,
   "metadata": {},
   "outputs": [],
   "source": []
  }
 ],
 "metadata": {
  "interpreter": {
   "hash": "c1b4cfe941b6d2466ad1fb5979e97da9cda8801728c8091b097ab734208fc00c"
  },
  "kernelspec": {
   "display_name": "Python 3.8.3 64-bit ('base': conda)",
   "name": "python3"
  },
  "language_info": {
   "codemirror_mode": {
    "name": "ipython",
    "version": 3
   },
   "file_extension": ".py",
   "mimetype": "text/x-python",
   "name": "python",
   "nbconvert_exporter": "python",
   "pygments_lexer": "ipython3",
   "version": "3.8.12"
  }
 },
 "nbformat": 4,
 "nbformat_minor": 2
}
