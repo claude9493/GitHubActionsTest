{
 "cells": [
  {
   "cell_type": "code",
   "execution_count": 1,
   "metadata": {
    "execution": {
     "iopub.execute_input": "2021-08-25T19:36:22.514549Z",
     "iopub.status.busy": "2021-08-25T19:36:22.504957Z",
     "iopub.status.idle": "2021-08-25T19:36:24.036616Z",
     "shell.execute_reply": "2021-08-25T19:36:24.037110Z"
    }
   },
   "outputs": [],
   "source": [
    "import json, yaml, requests\r\n",
    "from datetime import datetime\r\n",
    "from dateutil import tz\r\n",
    "import pandas as pd\r\n",
    "from PIL import Image\r\n",
    "from io import BytesIO\r\n",
    "import matplotlib.pyplot as plt\r\n",
    "import seaborn\r\n",
    "\r\n",
    "CONFIG_PATH = \"../config/config.yaml\""
   ]
  },
  {
   "cell_type": "code",
   "execution_count": 2,
   "metadata": {
    "execution": {
     "iopub.execute_input": "2021-08-25T19:36:24.044396Z",
     "iopub.status.busy": "2021-08-25T19:36:24.040465Z",
     "iopub.status.idle": "2021-08-25T19:36:24.050863Z",
     "shell.execute_reply": "2021-08-25T19:36:24.050295Z"
    }
   },
   "outputs": [],
   "source": [
    "with open('../newest_ts', 'r') as f:\r\n",
    "    newest_ts = f.read()\r\n",
    "\r\n",
    "data_path = f\"../data/data_{newest_ts}.json\"\r\n",
    "with open(data_path, 'r') as f:\r\n",
    "    data = json.load(f)\r\n",
    "\r\n",
    "with open(CONFIG_PATH, \"r\") as stream:\r\n",
    "    config = yaml.safe_load(stream)\r\n",
    "\r\n",
    "TIME_ZONE = config['time_zone']\r\n",
    "DATETIME_FORMAT = config['dt_format']"
   ]
  },
  {
   "cell_type": "code",
   "execution_count": 3,
   "metadata": {
    "execution": {
     "iopub.execute_input": "2021-08-25T19:36:24.057772Z",
     "iopub.status.busy": "2021-08-25T19:36:24.056877Z",
     "iopub.status.idle": "2021-08-25T19:36:24.067757Z",
     "shell.execute_reply": "2021-08-25T19:36:24.068273Z"
    }
   },
   "outputs": [
    {
     "name": "stdout",
     "output_type": "stream",
     "text": [
      "Recent query happens at 2021-08-26 03:36:19 (CST).\n"
     ]
    }
   ],
   "source": [
    "def ts2dt(ts, format=DATETIME_FORMAT):\r\n",
    "    dt = (datetime.utcfromtimestamp(int(ts))\r\n",
    "                    .replace(tzinfo=tz.tzutc())\r\n",
    "                    # .astimezone(tz.tzlocal())\r\n",
    "                    .astimezone(tz.gettz(TIME_ZONE)))\r\n",
    "    return dt.strftime(format), dt\r\n",
    "\r\n",
    "_, newest_dt = ts2dt(newest_ts)\r\n",
    "print(f\"Recent query happens at {newest_dt.strftime(DATETIME_FORMAT)} ({newest_dt.tzname()}).\")"
   ]
  },
  {
   "cell_type": "code",
   "execution_count": 4,
   "metadata": {
    "execution": {
     "iopub.execute_input": "2021-08-25T19:36:24.075183Z",
     "iopub.status.busy": "2021-08-25T19:36:24.074559Z",
     "iopub.status.idle": "2021-08-25T19:36:24.077199Z",
     "shell.execute_reply": "2021-08-25T19:36:24.076666Z"
    }
   },
   "outputs": [],
   "source": [
    "def degrees_to_cardinal(d):\r\n",
    "  dirs = ['N', 'NNE', 'NE', 'ENE', 'E', 'ESE', 'SE', 'SSE', 'S', 'SSW', 'SW', 'WSW', 'W', 'WNW', 'NW', 'NNW']\r\n",
    "  ix = int(round(d / (360. / len(dirs))))\r\n",
    "  return dirs[ix % len(dirs)]"
   ]
  },
  {
   "cell_type": "code",
   "execution_count": 5,
   "metadata": {
    "execution": {
     "iopub.execute_input": "2021-08-25T19:36:24.083551Z",
     "iopub.status.busy": "2021-08-25T19:36:24.082078Z",
     "iopub.status.idle": "2021-08-25T19:36:24.084215Z",
     "shell.execute_reply": "2021-08-25T19:36:24.084707Z"
    }
   },
   "outputs": [],
   "source": [
    "# data.keys()"
   ]
  },
  {
   "cell_type": "code",
   "execution_count": 6,
   "metadata": {
    "execution": {
     "iopub.execute_input": "2021-08-25T19:36:24.089984Z",
     "iopub.status.busy": "2021-08-25T19:36:24.088638Z",
     "iopub.status.idle": "2021-08-25T19:36:24.090736Z",
     "shell.execute_reply": "2021-08-25T19:36:24.091228Z"
    }
   },
   "outputs": [],
   "source": [
    "# data['current']"
   ]
  },
  {
   "cell_type": "code",
   "execution_count": 7,
   "metadata": {
    "execution": {
     "iopub.execute_input": "2021-08-25T19:36:24.122067Z",
     "iopub.status.busy": "2021-08-25T19:36:24.121309Z",
     "iopub.status.idle": "2021-08-25T19:36:24.666838Z",
     "shell.execute_reply": "2021-08-25T19:36:24.668270Z"
    }
   },
   "outputs": [
    {
     "data": {
      "image/png": "[encoded data removed]",
      "text/plain": [
       "<Figure size 216x216 with 1 Axes>"
      ]
     },
     "metadata": {
      "needs_background": "light"
     },
     "output_type": "display_data"
    },
    {
     "name": "stdout",
     "output_type": "stream",
     "text": [
      "Today, sun rises at 06:03 and sets at 18:46.\n",
      "Currently, the weather is Clouds (overcast clouds).\n",
      "The temperature is 28.89°C and it feels like 34.86°C.\n",
      "The UV index is 0, humidity is 82%.\n",
      "The pressure is 1010 hPa, percentage of cloud cover is 93%\n",
      "The wind comes from SE direction with a speed 2.24 m/s.\n"
     ]
    }
   ],
   "source": [
    "current = data['current']\r\n",
    "\r\n",
    "fig, ax = plt.subplots(figsize=(3, 3))\r\n",
    "icon = requests.get(f\"http://openweathermap.org/img/wn/{current['weather'][0]['icon']}@2x.png\")\r\n",
    "im = Image.open(BytesIO(icon.content))\r\n",
    "plt.imshow(im)\r\n",
    "ax.set_axis_off()\r\n",
    "plt.show()\r\n",
    "\r\n",
    "print(f\"Today, sun rises at {ts2dt(current['sunrise'], '%H:%M')[0]} \\\r\n",
    "and sets at {ts2dt(current['sunset'], '%H:%M')[0]}.\\n\\\r\n",
    "Currently, the weather is {current['weather'][0]['main']} ({current['weather'][0]['description']}).\\n\\\r\n",
    "The temperature is {current['temp']}°C and it feels like {current['feels_like']}°C.\\n\\\r\n",
    "The UV index is {current['uvi']}, humidity is {current['humidity']}%.\\n\\\r\n",
    "The pressure is {current['pressure']} hPa, percentage of cloud cover is {current['clouds']}%\\n\\\r\n",
    "The wind comes from {degrees_to_cardinal(current['wind_deg'])} direction with a speed {current['wind_speed']} m/s.\")"
   ]
  },
  {
   "cell_type": "code",
   "execution_count": 8,
   "metadata": {
    "execution": {
     "iopub.execute_input": "2021-08-25T19:36:24.678913Z",
     "iopub.status.busy": "2021-08-25T19:36:24.671632Z",
     "iopub.status.idle": "2021-08-25T19:36:24.683679Z",
     "shell.execute_reply": "2021-08-25T19:36:24.684462Z"
    }
   },
   "outputs": [],
   "source": [
    "df_hourly = pd.DataFrame(data['hourly'])\r\n",
    "df_daily = pd.DataFrame(data['daily'])"
   ]
  },
  {
   "cell_type": "code",
   "execution_count": 9,
   "metadata": {
    "execution": {
     "iopub.execute_input": "2021-08-25T19:36:24.724249Z",
     "iopub.status.busy": "2021-08-25T19:36:24.710221Z",
     "iopub.status.idle": "2021-08-25T19:36:25.048666Z",
     "shell.execute_reply": "2021-08-25T19:36:25.048155Z"
    }
   },
   "outputs": [
    {
     "data": {
      "image/png": "[encoded data removed]",
      "text/plain": [
       "<Figure size 864x432 with 1 Axes>"
      ]
     },
     "metadata": {
      "needs_background": "light"
     },
     "output_type": "display_data"
    }
   ],
   "source": [
    "fig, ax = plt.subplots(figsize=(12, 6))\r\n",
    "plt.plot(df_hourly.temp, '.-', label='Temperature')\r\n",
    "plt.plot(df_hourly.feels_like, '.-', label='Feels Like')\r\n",
    "ax.set(title='Temperature in future 48 hours', xlabel='Time', ylabel='Temperature')\r\n",
    "ax.set_xticks(list(range(0, len(df_hourly), 2)))\r\n",
    "ax.set_xticklabels([ts2dt(ts, '%m-%d %H:%M')[0] for i, ts in enumerate(df_hourly.dt) if i%2==0], \r\n",
    "                   rotation=45, ha=\"right\")\r\n",
    "ax.locator_params(nbins=15, axis='y')\r\n",
    "plt.legend()\r\n",
    "plt.show()"
   ]
  },
  {
   "cell_type": "code",
   "execution_count": 10,
   "metadata": {
    "execution": {
     "iopub.execute_input": "2021-08-25T19:36:25.072938Z",
     "iopub.status.busy": "2021-08-25T19:36:25.063503Z",
     "iopub.status.idle": "2021-08-25T19:36:25.079576Z",
     "shell.execute_reply": "2021-08-25T19:36:25.080141Z"
    }
   },
   "outputs": [
    {
     "data": {
      "text/html": [
       "<div>\n",
       "<style scoped>\n",
       "    .dataframe tbody tr th:only-of-type {\n",
       "        vertical-align: middle;\n",
       "    }\n",
       "\n",
       "    .dataframe tbody tr th {\n",
       "        vertical-align: top;\n",
       "    }\n",
       "\n",
       "    .dataframe thead th {\n",
       "        text-align: right;\n",
       "    }\n",
       "</style>\n",
       "<table border=\"1\" class=\"dataframe\">\n",
       "  <thead>\n",
       "    <tr style=\"text-align: right;\">\n",
       "      <th></th>\n",
       "      <th>dt</th>\n",
       "      <th>temp</th>\n",
       "      <th>feels_like</th>\n",
       "      <th>pressure</th>\n",
       "      <th>humidity</th>\n",
       "      <th>dew_point</th>\n",
       "      <th>uvi</th>\n",
       "      <th>clouds</th>\n",
       "      <th>visibility</th>\n",
       "      <th>wind_speed</th>\n",
       "      <th>wind_deg</th>\n",
       "      <th>wind_gust</th>\n",
       "      <th>weather</th>\n",
       "      <th>pop</th>\n",
       "      <th>rain</th>\n",
       "    </tr>\n",
       "  </thead>\n",
       "  <tbody>\n",
       "    <tr>\n",
       "      <th>0</th>\n",
       "      <td>1629918000</td>\n",
       "      <td>28.57</td>\n",
       "      <td>34.15</td>\n",
       "      <td>1010</td>\n",
       "      <td>83</td>\n",
       "      <td>25.40</td>\n",
       "      <td>0.00</td>\n",
       "      <td>94</td>\n",
       "      <td>10000</td>\n",
       "      <td>2.62</td>\n",
       "      <td>141</td>\n",
       "      <td>3.57</td>\n",
       "      <td>[{'id': 500, 'main': 'Rain', 'description': 'l...</td>\n",
       "      <td>0.65</td>\n",
       "      <td>{'1h': 0.53}</td>\n",
       "    </tr>\n",
       "    <tr>\n",
       "      <th>1</th>\n",
       "      <td>1629921600</td>\n",
       "      <td>28.89</td>\n",
       "      <td>34.86</td>\n",
       "      <td>1010</td>\n",
       "      <td>82</td>\n",
       "      <td>25.51</td>\n",
       "      <td>0.00</td>\n",
       "      <td>93</td>\n",
       "      <td>10000</td>\n",
       "      <td>2.24</td>\n",
       "      <td>146</td>\n",
       "      <td>3.21</td>\n",
       "      <td>[{'id': 804, 'main': 'Clouds', 'description': ...</td>\n",
       "      <td>0.63</td>\n",
       "      <td>NaN</td>\n",
       "    </tr>\n",
       "    <tr>\n",
       "      <th>2</th>\n",
       "      <td>1629925200</td>\n",
       "      <td>28.64</td>\n",
       "      <td>33.95</td>\n",
       "      <td>1010</td>\n",
       "      <td>81</td>\n",
       "      <td>25.06</td>\n",
       "      <td>0.00</td>\n",
       "      <td>90</td>\n",
       "      <td>10000</td>\n",
       "      <td>1.95</td>\n",
       "      <td>145</td>\n",
       "      <td>2.81</td>\n",
       "      <td>[{'id': 804, 'main': 'Clouds', 'description': ...</td>\n",
       "      <td>0.63</td>\n",
       "      <td>NaN</td>\n",
       "    </tr>\n",
       "    <tr>\n",
       "      <th>3</th>\n",
       "      <td>1629928800</td>\n",
       "      <td>28.38</td>\n",
       "      <td>33.25</td>\n",
       "      <td>1010</td>\n",
       "      <td>81</td>\n",
       "      <td>24.80</td>\n",
       "      <td>0.00</td>\n",
       "      <td>89</td>\n",
       "      <td>10000</td>\n",
       "      <td>1.91</td>\n",
       "      <td>129</td>\n",
       "      <td>2.71</td>\n",
       "      <td>[{'id': 804, 'main': 'Clouds', 'description': ...</td>\n",
       "      <td>0.51</td>\n",
       "      <td>NaN</td>\n",
       "    </tr>\n",
       "    <tr>\n",
       "      <th>4</th>\n",
       "      <td>1629932400</td>\n",
       "      <td>28.38</td>\n",
       "      <td>33.07</td>\n",
       "      <td>1011</td>\n",
       "      <td>80</td>\n",
       "      <td>24.59</td>\n",
       "      <td>0.37</td>\n",
       "      <td>89</td>\n",
       "      <td>10000</td>\n",
       "      <td>2.14</td>\n",
       "      <td>130</td>\n",
       "      <td>2.87</td>\n",
       "      <td>[{'id': 804, 'main': 'Clouds', 'description': ...</td>\n",
       "      <td>0.45</td>\n",
       "      <td>NaN</td>\n",
       "    </tr>\n",
       "  </tbody>\n",
       "</table>\n",
       "</div>"
      ],
      "text/plain": [
       "           dt   temp  feels_like  pressure  humidity  dew_point   uvi  clouds  \\\n",
       "0  1629918000  28.57       34.15      1010        83      25.40  0.00      94   \n",
       "1  1629921600  28.89       34.86      1010        82      25.51  0.00      93   \n",
       "2  1629925200  28.64       33.95      1010        81      25.06  0.00      90   \n",
       "3  1629928800  28.38       33.25      1010        81      24.80  0.00      89   \n",
       "4  1629932400  28.38       33.07      1011        80      24.59  0.37      89   \n",
       "\n",
       "   visibility  wind_speed  wind_deg  wind_gust  \\\n",
       "0       10000        2.62       141       3.57   \n",
       "1       10000        2.24       146       3.21   \n",
       "2       10000        1.95       145       2.81   \n",
       "3       10000        1.91       129       2.71   \n",
       "4       10000        2.14       130       2.87   \n",
       "\n",
       "                                             weather   pop          rain  \n",
       "0  [{'id': 500, 'main': 'Rain', 'description': 'l...  0.65  {'1h': 0.53}  \n",
       "1  [{'id': 804, 'main': 'Clouds', 'description': ...  0.63           NaN  \n",
       "2  [{'id': 804, 'main': 'Clouds', 'description': ...  0.63           NaN  \n",
       "3  [{'id': 804, 'main': 'Clouds', 'description': ...  0.51           NaN  \n",
       "4  [{'id': 804, 'main': 'Clouds', 'description': ...  0.45           NaN  "
      ]
     },
     "execution_count": 10,
     "metadata": {},
     "output_type": "execute_result"
    }
   ],
   "source": [
    "df_hourly.head()"
   ]
  },
  {
   "cell_type": "code",
   "execution_count": null,
   "metadata": {},
   "outputs": [],
   "source": []
  }
 ],
 "metadata": {
  "interpreter": {
   "hash": "c1b4cfe941b6d2466ad1fb5979e97da9cda8801728c8091b097ab734208fc00c"
  },
  "kernelspec": {
   "display_name": "Python 3.8.3 64-bit ('base': conda)",
   "name": "python3"
  },
  "language_info": {
   "codemirror_mode": {
    "name": "ipython",
    "version": 3
   },
   "file_extension": ".py",
   "mimetype": "text/x-python",
   "name": "python",
   "nbconvert_exporter": "python",
   "pygments_lexer": "ipython3",
   "version": "3.8.11"
  }
 },
 "nbformat": 4,
 "nbformat_minor": 2
}
