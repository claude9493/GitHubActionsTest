{
 "cells": [
  {
   "cell_type": "code",
   "execution_count": 1,
   "metadata": {
    "execution": {
     "iopub.execute_input": "2021-08-30T21:37:36.880460Z",
     "iopub.status.busy": "2021-08-30T21:37:36.879882Z",
     "iopub.status.idle": "2021-08-30T21:37:41.400615Z",
     "shell.execute_reply": "2021-08-30T21:37:41.399631Z"
    }
   },
   "outputs": [],
   "source": [
    "import json, yaml, requests\r\n",
    "from datetime import datetime\r\n",
    "from dateutil import tz\r\n",
    "import pandas as pd\r\n",
    "from PIL import Image\r\n",
    "from io import BytesIO\r\n",
    "import matplotlib.pyplot as plt\r\n",
    "import seaborn\r\n",
    "\r\n",
    "CONFIG_PATH = \"../config/config.yaml\""
   ]
  },
  {
   "cell_type": "code",
   "execution_count": 2,
   "metadata": {
    "execution": {
     "iopub.execute_input": "2021-08-30T21:37:41.407975Z",
     "iopub.status.busy": "2021-08-30T21:37:41.404905Z",
     "iopub.status.idle": "2021-08-30T21:37:41.409927Z",
     "shell.execute_reply": "2021-08-30T21:37:41.409483Z"
    }
   },
   "outputs": [],
   "source": [
    "with open('../newest_ts', 'r') as f:\r\n",
    "    newest_ts = f.read()\r\n",
    "\r\n",
    "data_path = f\"../data/data_{newest_ts}.json\"\r\n",
    "with open(data_path, 'r') as f:\r\n",
    "    data = json.load(f)\r\n",
    "\r\n",
    "with open(CONFIG_PATH, \"r\") as stream:\r\n",
    "    config = yaml.safe_load(stream)\r\n",
    "\r\n",
    "TIME_ZONE = config['time_zone']\r\n",
    "DATETIME_FORMAT = config['dt_format']"
   ]
  },
  {
   "cell_type": "code",
   "execution_count": 3,
   "metadata": {
    "execution": {
     "iopub.execute_input": "2021-08-30T21:37:41.413993Z",
     "iopub.status.busy": "2021-08-30T21:37:41.413497Z",
     "iopub.status.idle": "2021-08-30T21:37:41.424034Z",
     "shell.execute_reply": "2021-08-30T21:37:41.424413Z"
    }
   },
   "outputs": [
    {
     "name": "stdout",
     "output_type": "stream",
     "text": [
      "Recent query happens at 2021-08-31 05:37:33 (CST).\n"
     ]
    }
   ],
   "source": [
    "def ts2dt(ts, format=DATETIME_FORMAT):\r\n",
    "    dt = (datetime.utcfromtimestamp(int(ts))\r\n",
    "                    .replace(tzinfo=tz.tzutc())\r\n",
    "                    # .astimezone(tz.tzlocal())\r\n",
    "                    .astimezone(tz.gettz(TIME_ZONE)))\r\n",
    "    return dt.strftime(format), dt\r\n",
    "\r\n",
    "_, newest_dt = ts2dt(newest_ts)\r\n",
    "print(f\"Recent query happens at {newest_dt.strftime(DATETIME_FORMAT)} ({newest_dt.tzname()}).\")"
   ]
  },
  {
   "cell_type": "code",
   "execution_count": 4,
   "metadata": {
    "execution": {
     "iopub.execute_input": "2021-08-30T21:37:41.429325Z",
     "iopub.status.busy": "2021-08-30T21:37:41.428346Z",
     "iopub.status.idle": "2021-08-30T21:37:41.429866Z",
     "shell.execute_reply": "2021-08-30T21:37:41.430239Z"
    }
   },
   "outputs": [],
   "source": [
    "def degrees_to_cardinal(d):\r\n",
    "  dirs = ['N', 'NNE', 'NE', 'ENE', 'E', 'ESE', 'SE', 'SSE', 'S', 'SSW', 'SW', 'WSW', 'W', 'WNW', 'NW', 'NNW']\r\n",
    "  ix = int(round(d / (360. / len(dirs))))\r\n",
    "  return dirs[ix % len(dirs)]"
   ]
  },
  {
   "cell_type": "code",
   "execution_count": 5,
   "metadata": {
    "execution": {
     "iopub.execute_input": "2021-08-30T21:37:41.434101Z",
     "iopub.status.busy": "2021-08-30T21:37:41.433019Z",
     "iopub.status.idle": "2021-08-30T21:37:41.434628Z",
     "shell.execute_reply": "2021-08-30T21:37:41.434999Z"
    }
   },
   "outputs": [],
   "source": [
    "# data.keys()"
   ]
  },
  {
   "cell_type": "code",
   "execution_count": 6,
   "metadata": {
    "execution": {
     "iopub.execute_input": "2021-08-30T21:37:41.438782Z",
     "iopub.status.busy": "2021-08-30T21:37:41.437791Z",
     "iopub.status.idle": "2021-08-30T21:37:41.439301Z",
     "shell.execute_reply": "2021-08-30T21:37:41.439667Z"
    }
   },
   "outputs": [],
   "source": [
    "# data['current']"
   ]
  },
  {
   "cell_type": "code",
   "execution_count": 7,
   "metadata": {
    "execution": {
     "iopub.execute_input": "2021-08-30T21:37:41.457805Z",
     "iopub.status.busy": "2021-08-30T21:37:41.454683Z",
     "iopub.status.idle": "2021-08-30T21:37:41.899196Z",
     "shell.execute_reply": "2021-08-30T21:37:41.899785Z"
    }
   },
   "outputs": [
    {
     "data": {
      "image/png": "[encoded data removed]",
      "text/plain": [
       "<Figure size 216x216 with 1 Axes>"
      ]
     },
     "metadata": {
      "needs_background": "light"
     },
     "output_type": "display_data"
    },
    {
     "name": "stdout",
     "output_type": "stream",
     "text": [
      "Today, sun rises at 06:05 and sets at 18:41.\n",
      "Currently, the weather is Clouds (broken clouds).\n",
      "The temperature is 27.63°C and it feels like 32.6°C.\n",
      "The UV index is 0, humidity is 90%.\n",
      "The pressure is 1011 hPa, percentage of cloud cover is 74%\n",
      "The wind comes from E direction with a speed 2.05 m/s.\n"
     ]
    }
   ],
   "source": [
    "current = data['current']\r\n",
    "\r\n",
    "fig, ax = plt.subplots(figsize=(3, 3))\r\n",
    "icon = requests.get(f\"http://openweathermap.org/img/wn/{current['weather'][0]['icon']}@2x.png\")\r\n",
    "im = Image.open(BytesIO(icon.content))\r\n",
    "plt.imshow(im)\r\n",
    "ax.set_axis_off()\r\n",
    "plt.show()\r\n",
    "\r\n",
    "print(f\"Today, sun rises at {ts2dt(current['sunrise'], '%H:%M')[0]} \\\r\n",
    "and sets at {ts2dt(current['sunset'], '%H:%M')[0]}.\\n\\\r\n",
    "Currently, the weather is {current['weather'][0]['main']} ({current['weather'][0]['description']}).\\n\\\r\n",
    "The temperature is {current['temp']}°C and it feels like {current['feels_like']}°C.\\n\\\r\n",
    "The UV index is {current['uvi']}, humidity is {current['humidity']}%.\\n\\\r\n",
    "The pressure is {current['pressure']} hPa, percentage of cloud cover is {current['clouds']}%\\n\\\r\n",
    "The wind comes from {degrees_to_cardinal(current['wind_deg'])} direction with a speed {current['wind_speed']} m/s.\")"
   ]
  },
  {
   "cell_type": "code",
   "execution_count": 8,
   "metadata": {
    "execution": {
     "iopub.execute_input": "2021-08-30T21:37:41.902623Z",
     "iopub.status.busy": "2021-08-30T21:37:41.901801Z",
     "iopub.status.idle": "2021-08-30T21:37:41.908021Z",
     "shell.execute_reply": "2021-08-30T21:37:41.908582Z"
    }
   },
   "outputs": [],
   "source": [
    "df_hourly = pd.DataFrame(data['hourly'])\r\n",
    "df_daily = pd.DataFrame(data['daily'])"
   ]
  },
  {
   "cell_type": "code",
   "execution_count": 9,
   "metadata": {
    "execution": {
     "iopub.execute_input": "2021-08-30T21:37:41.911352Z",
     "iopub.status.busy": "2021-08-30T21:37:41.910529Z",
     "iopub.status.idle": "2021-08-30T21:37:42.129646Z",
     "shell.execute_reply": "2021-08-30T21:37:42.129178Z"
    }
   },
   "outputs": [
    {
     "data": {
      "image/png": "[encoded data removed]",
      "text/plain": [
       "<Figure size 864x432 with 1 Axes>"
      ]
     },
     "metadata": {
      "needs_background": "light"
     },
     "output_type": "display_data"
    }
   ],
   "source": [
    "fig, ax = plt.subplots(figsize=(12, 6))\r\n",
    "plt.plot(df_hourly.temp, '.-', label='Temperature')\r\n",
    "plt.plot(df_hourly.feels_like, '.-', label='Feels Like')\r\n",
    "ax.set(title='Temperature in future 48 hours', xlabel='Time', ylabel='Temperature')\r\n",
    "ax.set_xticks(list(range(0, len(df_hourly), 2)))\r\n",
    "ax.set_xticklabels([ts2dt(ts, '%m-%d %H:%M')[0] for i, ts in enumerate(df_hourly.dt) if i%2==0], \r\n",
    "                   rotation=45, ha=\"right\")\r\n",
    "ax.locator_params(nbins=15, axis='y')\r\n",
    "plt.legend()\r\n",
    "plt.show()"
   ]
  },
  {
   "cell_type": "code",
   "execution_count": 10,
   "metadata": {
    "execution": {
     "iopub.execute_input": "2021-08-30T21:37:42.141542Z",
     "iopub.status.busy": "2021-08-30T21:37:42.133469Z",
     "iopub.status.idle": "2021-08-30T21:37:42.154134Z",
     "shell.execute_reply": "2021-08-30T21:37:42.154521Z"
    }
   },
   "outputs": [
    {
     "data": {
      "text/html": [
       "<div>\n",
       "<style scoped>\n",
       "    .dataframe tbody tr th:only-of-type {\n",
       "        vertical-align: middle;\n",
       "    }\n",
       "\n",
       "    .dataframe tbody tr th {\n",
       "        vertical-align: top;\n",
       "    }\n",
       "\n",
       "    .dataframe thead th {\n",
       "        text-align: right;\n",
       "    }\n",
       "</style>\n",
       "<table border=\"1\" class=\"dataframe\">\n",
       "  <thead>\n",
       "    <tr style=\"text-align: right;\">\n",
       "      <th></th>\n",
       "      <th>dt</th>\n",
       "      <th>temp</th>\n",
       "      <th>feels_like</th>\n",
       "      <th>pressure</th>\n",
       "      <th>humidity</th>\n",
       "      <th>dew_point</th>\n",
       "      <th>uvi</th>\n",
       "      <th>clouds</th>\n",
       "      <th>visibility</th>\n",
       "      <th>wind_speed</th>\n",
       "      <th>wind_deg</th>\n",
       "      <th>wind_gust</th>\n",
       "      <th>weather</th>\n",
       "      <th>pop</th>\n",
       "      <th>rain</th>\n",
       "    </tr>\n",
       "  </thead>\n",
       "  <tbody>\n",
       "    <tr>\n",
       "      <th>0</th>\n",
       "      <td>1630357200</td>\n",
       "      <td>27.55</td>\n",
       "      <td>32.07</td>\n",
       "      <td>1011</td>\n",
       "      <td>88</td>\n",
       "      <td>25.38</td>\n",
       "      <td>0.00</td>\n",
       "      <td>72</td>\n",
       "      <td>10000</td>\n",
       "      <td>2.51</td>\n",
       "      <td>97</td>\n",
       "      <td>3.07</td>\n",
       "      <td>[{'id': 500, 'main': 'Rain', 'description': 'l...</td>\n",
       "      <td>0.95</td>\n",
       "      <td>{'1h': 0.78}</td>\n",
       "    </tr>\n",
       "    <tr>\n",
       "      <th>1</th>\n",
       "      <td>1630360800</td>\n",
       "      <td>27.63</td>\n",
       "      <td>32.60</td>\n",
       "      <td>1011</td>\n",
       "      <td>90</td>\n",
       "      <td>25.84</td>\n",
       "      <td>0.00</td>\n",
       "      <td>74</td>\n",
       "      <td>10000</td>\n",
       "      <td>2.05</td>\n",
       "      <td>95</td>\n",
       "      <td>2.32</td>\n",
       "      <td>[{'id': 803, 'main': 'Clouds', 'description': ...</td>\n",
       "      <td>0.79</td>\n",
       "      <td>NaN</td>\n",
       "    </tr>\n",
       "    <tr>\n",
       "      <th>2</th>\n",
       "      <td>1630364400</td>\n",
       "      <td>27.52</td>\n",
       "      <td>31.98</td>\n",
       "      <td>1011</td>\n",
       "      <td>88</td>\n",
       "      <td>25.35</td>\n",
       "      <td>0.18</td>\n",
       "      <td>74</td>\n",
       "      <td>10000</td>\n",
       "      <td>2.30</td>\n",
       "      <td>90</td>\n",
       "      <td>2.69</td>\n",
       "      <td>[{'id': 803, 'main': 'Clouds', 'description': ...</td>\n",
       "      <td>0.80</td>\n",
       "      <td>NaN</td>\n",
       "    </tr>\n",
       "    <tr>\n",
       "      <th>3</th>\n",
       "      <td>1630368000</td>\n",
       "      <td>27.62</td>\n",
       "      <td>31.85</td>\n",
       "      <td>1011</td>\n",
       "      <td>85</td>\n",
       "      <td>24.87</td>\n",
       "      <td>0.80</td>\n",
       "      <td>73</td>\n",
       "      <td>10000</td>\n",
       "      <td>2.67</td>\n",
       "      <td>82</td>\n",
       "      <td>3.25</td>\n",
       "      <td>[{'id': 803, 'main': 'Clouds', 'description': ...</td>\n",
       "      <td>0.80</td>\n",
       "      <td>NaN</td>\n",
       "    </tr>\n",
       "    <tr>\n",
       "      <th>4</th>\n",
       "      <td>1630371600</td>\n",
       "      <td>28.25</td>\n",
       "      <td>32.40</td>\n",
       "      <td>1012</td>\n",
       "      <td>78</td>\n",
       "      <td>24.05</td>\n",
       "      <td>3.83</td>\n",
       "      <td>42</td>\n",
       "      <td>10000</td>\n",
       "      <td>2.79</td>\n",
       "      <td>73</td>\n",
       "      <td>3.57</td>\n",
       "      <td>[{'id': 500, 'main': 'Rain', 'description': 'l...</td>\n",
       "      <td>0.58</td>\n",
       "      <td>{'1h': 0.29}</td>\n",
       "    </tr>\n",
       "  </tbody>\n",
       "</table>\n",
       "</div>"
      ],
      "text/plain": [
       "           dt   temp  feels_like  pressure  humidity  dew_point   uvi  clouds  \\\n",
       "0  1630357200  27.55       32.07      1011        88      25.38  0.00      72   \n",
       "1  1630360800  27.63       32.60      1011        90      25.84  0.00      74   \n",
       "2  1630364400  27.52       31.98      1011        88      25.35  0.18      74   \n",
       "3  1630368000  27.62       31.85      1011        85      24.87  0.80      73   \n",
       "4  1630371600  28.25       32.40      1012        78      24.05  3.83      42   \n",
       "\n",
       "   visibility  wind_speed  wind_deg  wind_gust  \\\n",
       "0       10000        2.51        97       3.07   \n",
       "1       10000        2.05        95       2.32   \n",
       "2       10000        2.30        90       2.69   \n",
       "3       10000        2.67        82       3.25   \n",
       "4       10000        2.79        73       3.57   \n",
       "\n",
       "                                             weather   pop          rain  \n",
       "0  [{'id': 500, 'main': 'Rain', 'description': 'l...  0.95  {'1h': 0.78}  \n",
       "1  [{'id': 803, 'main': 'Clouds', 'description': ...  0.79           NaN  \n",
       "2  [{'id': 803, 'main': 'Clouds', 'description': ...  0.80           NaN  \n",
       "3  [{'id': 803, 'main': 'Clouds', 'description': ...  0.80           NaN  \n",
       "4  [{'id': 500, 'main': 'Rain', 'description': 'l...  0.58  {'1h': 0.29}  "
      ]
     },
     "execution_count": 10,
     "metadata": {},
     "output_type": "execute_result"
    }
   ],
   "source": [
    "df_hourly.head()"
   ]
  },
  {
   "cell_type": "code",
   "execution_count": null,
   "metadata": {},
   "outputs": [],
   "source": []
  }
 ],
 "metadata": {
  "interpreter": {
   "hash": "c1b4cfe941b6d2466ad1fb5979e97da9cda8801728c8091b097ab734208fc00c"
  },
  "kernelspec": {
   "display_name": "Python 3.8.3 64-bit ('base': conda)",
   "name": "python3"
  },
  "language_info": {
   "codemirror_mode": {
    "name": "ipython",
    "version": 3
   },
   "file_extension": ".py",
   "mimetype": "text/x-python",
   "name": "python",
   "nbconvert_exporter": "python",
   "pygments_lexer": "ipython3",
   "version": "3.8.11"
  }
 },
 "nbformat": 4,
 "nbformat_minor": 2
}
