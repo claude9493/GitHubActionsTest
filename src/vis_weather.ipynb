{
 "cells": [
  {
   "cell_type": "code",
   "execution_count": 1,
   "metadata": {
    "execution": {
     "iopub.execute_input": "2021-09-11T23:37:36.476267Z",
     "iopub.status.busy": "2021-09-11T23:37:36.475614Z",
     "iopub.status.idle": "2021-09-11T23:37:41.005487Z",
     "shell.execute_reply": "2021-09-11T23:37:41.004886Z"
    }
   },
   "outputs": [],
   "source": [
    "import json, yaml, requests\r\n",
    "from datetime import datetime\r\n",
    "from dateutil import tz\r\n",
    "import pandas as pd\r\n",
    "from PIL import Image\r\n",
    "from io import BytesIO\r\n",
    "import matplotlib.pyplot as plt\r\n",
    "import seaborn\r\n",
    "\r\n",
    "CONFIG_PATH = \"../config/config.yaml\""
   ]
  },
  {
   "cell_type": "code",
   "execution_count": 2,
   "metadata": {
    "execution": {
     "iopub.execute_input": "2021-09-11T23:37:41.010446Z",
     "iopub.status.busy": "2021-09-11T23:37:41.009974Z",
     "iopub.status.idle": "2021-09-11T23:37:41.014587Z",
     "shell.execute_reply": "2021-09-11T23:37:41.014936Z"
    }
   },
   "outputs": [],
   "source": [
    "with open('../newest_ts', 'r') as f:\r\n",
    "    newest_ts = f.read()\r\n",
    "\r\n",
    "data_path = f\"../data/data_{newest_ts}.json\"\r\n",
    "with open(data_path, 'r') as f:\r\n",
    "    data = json.load(f)\r\n",
    "\r\n",
    "with open(CONFIG_PATH, \"r\") as stream:\r\n",
    "    config = yaml.safe_load(stream)\r\n",
    "\r\n",
    "TIME_ZONE = config['time_zone']\r\n",
    "DATETIME_FORMAT = config['dt_format']"
   ]
  },
  {
   "cell_type": "code",
   "execution_count": 3,
   "metadata": {
    "execution": {
     "iopub.execute_input": "2021-09-11T23:37:41.019362Z",
     "iopub.status.busy": "2021-09-11T23:37:41.018889Z",
     "iopub.status.idle": "2021-09-11T23:37:41.030379Z",
     "shell.execute_reply": "2021-09-11T23:37:41.029969Z"
    }
   },
   "outputs": [
    {
     "name": "stdout",
     "output_type": "stream",
     "text": [
      "Recent query happens at 2021-09-12 07:37:32 (CST).\n"
     ]
    }
   ],
   "source": [
    "def ts2dt(ts, format=DATETIME_FORMAT):\r\n",
    "    dt = (datetime.utcfromtimestamp(int(ts))\r\n",
    "                    .replace(tzinfo=tz.tzutc())\r\n",
    "                    # .astimezone(tz.tzlocal())\r\n",
    "                    .astimezone(tz.gettz(TIME_ZONE)))\r\n",
    "    return dt.strftime(format), dt\r\n",
    "\r\n",
    "_, newest_dt = ts2dt(newest_ts)\r\n",
    "print(f\"Recent query happens at {newest_dt.strftime(DATETIME_FORMAT)} ({newest_dt.tzname()}).\")"
   ]
  },
  {
   "cell_type": "code",
   "execution_count": 4,
   "metadata": {
    "execution": {
     "iopub.execute_input": "2021-09-11T23:37:41.036873Z",
     "iopub.status.busy": "2021-09-11T23:37:41.035713Z",
     "iopub.status.idle": "2021-09-11T23:37:41.037392Z",
     "shell.execute_reply": "2021-09-11T23:37:41.037780Z"
    }
   },
   "outputs": [],
   "source": [
    "def degrees_to_cardinal(d):\r\n",
    "  dirs = ['N', 'NNE', 'NE', 'ENE', 'E', 'ESE', 'SE', 'SSE', 'S', 'SSW', 'SW', 'WSW', 'W', 'WNW', 'NW', 'NNW']\r\n",
    "  ix = int(round(d / (360. / len(dirs))))\r\n",
    "  return dirs[ix % len(dirs)]"
   ]
  },
  {
   "cell_type": "code",
   "execution_count": 5,
   "metadata": {
    "execution": {
     "iopub.execute_input": "2021-09-11T23:37:41.041947Z",
     "iopub.status.busy": "2021-09-11T23:37:41.040963Z",
     "iopub.status.idle": "2021-09-11T23:37:41.042473Z",
     "shell.execute_reply": "2021-09-11T23:37:41.042834Z"
    }
   },
   "outputs": [],
   "source": [
    "# data.keys()"
   ]
  },
  {
   "cell_type": "code",
   "execution_count": 6,
   "metadata": {
    "execution": {
     "iopub.execute_input": "2021-09-11T23:37:41.047196Z",
     "iopub.status.busy": "2021-09-11T23:37:41.045638Z",
     "iopub.status.idle": "2021-09-11T23:37:41.048222Z",
     "shell.execute_reply": "2021-09-11T23:37:41.047717Z"
    }
   },
   "outputs": [],
   "source": [
    "# data['current']"
   ]
  },
  {
   "cell_type": "code",
   "execution_count": 7,
   "metadata": {
    "execution": {
     "iopub.execute_input": "2021-09-11T23:37:41.065215Z",
     "iopub.status.busy": "2021-09-11T23:37:41.064746Z",
     "iopub.status.idle": "2021-09-11T23:37:41.441962Z",
     "shell.execute_reply": "2021-09-11T23:37:41.442659Z"
    }
   },
   "outputs": [
    {
     "data": {
      "image/png": "[encoded data removed]",
      "text/plain": [
       "<Figure size 216x216 with 1 Axes>"
      ]
     },
     "metadata": {
      "needs_background": "light"
     },
     "output_type": "display_data"
    },
    {
     "name": "stdout",
     "output_type": "stream",
     "text": [
      "Today, sun rises at 06:08 and sets at 18:30.\n",
      "Currently, the weather is Clouds (scattered clouds).\n",
      "The temperature is 30.46°C and it feels like 37.46°C.\n",
      "The UV index is 1.33, humidity is 85%.\n",
      "The pressure is 1002 hPa, percentage of cloud cover is 50%\n",
      "The wind comes from WNW direction with a speed 3.27 m/s.\n"
     ]
    }
   ],
   "source": [
    "current = data['current']\r\n",
    "\r\n",
    "fig, ax = plt.subplots(figsize=(3, 3))\r\n",
    "icon = requests.get(f\"http://openweathermap.org/img/wn/{current['weather'][0]['icon']}@2x.png\")\r\n",
    "im = Image.open(BytesIO(icon.content))\r\n",
    "plt.imshow(im)\r\n",
    "ax.set_axis_off()\r\n",
    "plt.show()\r\n",
    "\r\n",
    "print(f\"Today, sun rises at {ts2dt(current['sunrise'], '%H:%M')[0]} \\\r\n",
    "and sets at {ts2dt(current['sunset'], '%H:%M')[0]}.\\n\\\r\n",
    "Currently, the weather is {current['weather'][0]['main']} ({current['weather'][0]['description']}).\\n\\\r\n",
    "The temperature is {current['temp']}°C and it feels like {current['feels_like']}°C.\\n\\\r\n",
    "The UV index is {current['uvi']}, humidity is {current['humidity']}%.\\n\\\r\n",
    "The pressure is {current['pressure']} hPa, percentage of cloud cover is {current['clouds']}%\\n\\\r\n",
    "The wind comes from {degrees_to_cardinal(current['wind_deg'])} direction with a speed {current['wind_speed']} m/s.\")"
   ]
  },
  {
   "cell_type": "code",
   "execution_count": 8,
   "metadata": {
    "execution": {
     "iopub.execute_input": "2021-09-11T23:37:41.451383Z",
     "iopub.status.busy": "2021-09-11T23:37:41.449745Z",
     "iopub.status.idle": "2021-09-11T23:37:41.453750Z",
     "shell.execute_reply": "2021-09-11T23:37:41.454430Z"
    }
   },
   "outputs": [],
   "source": [
    "df_hourly = pd.DataFrame(data['hourly'])\r\n",
    "df_daily = pd.DataFrame(data['daily'])"
   ]
  },
  {
   "cell_type": "code",
   "execution_count": 9,
   "metadata": {
    "execution": {
     "iopub.execute_input": "2021-09-11T23:37:41.467964Z",
     "iopub.status.busy": "2021-09-11T23:37:41.467471Z",
     "iopub.status.idle": "2021-09-11T23:37:41.712882Z",
     "shell.execute_reply": "2021-09-11T23:37:41.712458Z"
    }
   },
   "outputs": [
    {
     "data": {
      "image/png": "[encoded data removed]",
      "text/plain": [
       "<Figure size 864x432 with 1 Axes>"
      ]
     },
     "metadata": {
      "needs_background": "light"
     },
     "output_type": "display_data"
    }
   ],
   "source": [
    "fig, ax = plt.subplots(figsize=(12, 6))\r\n",
    "plt.plot(df_hourly.temp, '.-', label='Temperature')\r\n",
    "plt.plot(df_hourly.feels_like, '.-', label='Feels Like')\r\n",
    "ax.set(title='Temperature in future 48 hours', xlabel='Time', ylabel='Temperature')\r\n",
    "ax.set_xticks(list(range(0, len(df_hourly), 2)))\r\n",
    "ax.set_xticklabels([ts2dt(ts, '%m-%d %H:%M')[0] for i, ts in enumerate(df_hourly.dt) if i%2==0], \r\n",
    "                   rotation=45, ha=\"right\")\r\n",
    "ax.locator_params(nbins=15, axis='y')\r\n",
    "plt.legend()\r\n",
    "plt.show()"
   ]
  },
  {
   "cell_type": "code",
   "execution_count": 10,
   "metadata": {
    "execution": {
     "iopub.execute_input": "2021-09-11T23:37:41.724123Z",
     "iopub.status.busy": "2021-09-11T23:37:41.716751Z",
     "iopub.status.idle": "2021-09-11T23:37:41.734017Z",
     "shell.execute_reply": "2021-09-11T23:37:41.733376Z"
    }
   },
   "outputs": [
    {
     "data": {
      "text/html": [
       "<div>\n",
       "<style scoped>\n",
       "    .dataframe tbody tr th:only-of-type {\n",
       "        vertical-align: middle;\n",
       "    }\n",
       "\n",
       "    .dataframe tbody tr th {\n",
       "        vertical-align: top;\n",
       "    }\n",
       "\n",
       "    .dataframe thead th {\n",
       "        text-align: right;\n",
       "    }\n",
       "</style>\n",
       "<table border=\"1\" class=\"dataframe\">\n",
       "  <thead>\n",
       "    <tr style=\"text-align: right;\">\n",
       "      <th></th>\n",
       "      <th>dt</th>\n",
       "      <th>temp</th>\n",
       "      <th>feels_like</th>\n",
       "      <th>pressure</th>\n",
       "      <th>humidity</th>\n",
       "      <th>dew_point</th>\n",
       "      <th>uvi</th>\n",
       "      <th>clouds</th>\n",
       "      <th>visibility</th>\n",
       "      <th>wind_speed</th>\n",
       "      <th>wind_deg</th>\n",
       "      <th>wind_gust</th>\n",
       "      <th>weather</th>\n",
       "      <th>pop</th>\n",
       "      <th>rain</th>\n",
       "    </tr>\n",
       "  </thead>\n",
       "  <tbody>\n",
       "    <tr>\n",
       "      <th>0</th>\n",
       "      <td>1631401200</td>\n",
       "      <td>30.14</td>\n",
       "      <td>37.14</td>\n",
       "      <td>1002</td>\n",
       "      <td>84</td>\n",
       "      <td>27.13</td>\n",
       "      <td>0.25</td>\n",
       "      <td>49</td>\n",
       "      <td>10000</td>\n",
       "      <td>3.46</td>\n",
       "      <td>279</td>\n",
       "      <td>4.60</td>\n",
       "      <td>[{'id': 500, 'main': 'Rain', 'description': 'l...</td>\n",
       "      <td>0.84</td>\n",
       "      <td>{'1h': 0.17}</td>\n",
       "    </tr>\n",
       "    <tr>\n",
       "      <th>1</th>\n",
       "      <td>1631404800</td>\n",
       "      <td>30.46</td>\n",
       "      <td>37.46</td>\n",
       "      <td>1002</td>\n",
       "      <td>85</td>\n",
       "      <td>27.65</td>\n",
       "      <td>1.33</td>\n",
       "      <td>50</td>\n",
       "      <td>10000</td>\n",
       "      <td>3.27</td>\n",
       "      <td>288</td>\n",
       "      <td>4.16</td>\n",
       "      <td>[{'id': 802, 'main': 'Clouds', 'description': ...</td>\n",
       "      <td>0.85</td>\n",
       "      <td>NaN</td>\n",
       "    </tr>\n",
       "    <tr>\n",
       "      <th>2</th>\n",
       "      <td>1631408400</td>\n",
       "      <td>30.39</td>\n",
       "      <td>37.39</td>\n",
       "      <td>1002</td>\n",
       "      <td>83</td>\n",
       "      <td>27.17</td>\n",
       "      <td>3.60</td>\n",
       "      <td>55</td>\n",
       "      <td>10000</td>\n",
       "      <td>3.33</td>\n",
       "      <td>289</td>\n",
       "      <td>4.12</td>\n",
       "      <td>[{'id': 803, 'main': 'Clouds', 'description': ...</td>\n",
       "      <td>0.57</td>\n",
       "      <td>NaN</td>\n",
       "    </tr>\n",
       "    <tr>\n",
       "      <th>3</th>\n",
       "      <td>1631412000</td>\n",
       "      <td>30.68</td>\n",
       "      <td>37.68</td>\n",
       "      <td>1002</td>\n",
       "      <td>79</td>\n",
       "      <td>26.62</td>\n",
       "      <td>6.62</td>\n",
       "      <td>49</td>\n",
       "      <td>10000</td>\n",
       "      <td>3.23</td>\n",
       "      <td>291</td>\n",
       "      <td>3.96</td>\n",
       "      <td>[{'id': 802, 'main': 'Clouds', 'description': ...</td>\n",
       "      <td>0.72</td>\n",
       "      <td>NaN</td>\n",
       "    </tr>\n",
       "    <tr>\n",
       "      <th>4</th>\n",
       "      <td>1631415600</td>\n",
       "      <td>31.39</td>\n",
       "      <td>38.39</td>\n",
       "      <td>1002</td>\n",
       "      <td>74</td>\n",
       "      <td>26.19</td>\n",
       "      <td>9.44</td>\n",
       "      <td>46</td>\n",
       "      <td>10000</td>\n",
       "      <td>3.26</td>\n",
       "      <td>281</td>\n",
       "      <td>4.04</td>\n",
       "      <td>[{'id': 802, 'main': 'Clouds', 'description': ...</td>\n",
       "      <td>0.72</td>\n",
       "      <td>NaN</td>\n",
       "    </tr>\n",
       "  </tbody>\n",
       "</table>\n",
       "</div>"
      ],
      "text/plain": [
       "           dt   temp  feels_like  pressure  humidity  dew_point   uvi  clouds  \\\n",
       "0  1631401200  30.14       37.14      1002        84      27.13  0.25      49   \n",
       "1  1631404800  30.46       37.46      1002        85      27.65  1.33      50   \n",
       "2  1631408400  30.39       37.39      1002        83      27.17  3.60      55   \n",
       "3  1631412000  30.68       37.68      1002        79      26.62  6.62      49   \n",
       "4  1631415600  31.39       38.39      1002        74      26.19  9.44      46   \n",
       "\n",
       "   visibility  wind_speed  wind_deg  wind_gust  \\\n",
       "0       10000        3.46       279       4.60   \n",
       "1       10000        3.27       288       4.16   \n",
       "2       10000        3.33       289       4.12   \n",
       "3       10000        3.23       291       3.96   \n",
       "4       10000        3.26       281       4.04   \n",
       "\n",
       "                                             weather   pop          rain  \n",
       "0  [{'id': 500, 'main': 'Rain', 'description': 'l...  0.84  {'1h': 0.17}  \n",
       "1  [{'id': 802, 'main': 'Clouds', 'description': ...  0.85           NaN  \n",
       "2  [{'id': 803, 'main': 'Clouds', 'description': ...  0.57           NaN  \n",
       "3  [{'id': 802, 'main': 'Clouds', 'description': ...  0.72           NaN  \n",
       "4  [{'id': 802, 'main': 'Clouds', 'description': ...  0.72           NaN  "
      ]
     },
     "execution_count": 10,
     "metadata": {},
     "output_type": "execute_result"
    }
   ],
   "source": [
    "df_hourly.head()"
   ]
  },
  {
   "cell_type": "code",
   "execution_count": null,
   "metadata": {},
   "outputs": [],
   "source": []
  }
 ],
 "metadata": {
  "interpreter": {
   "hash": "c1b4cfe941b6d2466ad1fb5979e97da9cda8801728c8091b097ab734208fc00c"
  },
  "kernelspec": {
   "display_name": "Python 3.8.3 64-bit ('base': conda)",
   "name": "python3"
  },
  "language_info": {
   "codemirror_mode": {
    "name": "ipython",
    "version": 3
   },
   "file_extension": ".py",
   "mimetype": "text/x-python",
   "name": "python",
   "nbconvert_exporter": "python",
   "pygments_lexer": "ipython3",
   "version": "3.8.11"
  }
 },
 "nbformat": 4,
 "nbformat_minor": 2
}
