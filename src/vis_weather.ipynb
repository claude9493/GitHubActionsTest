{
 "cells": [
  {
   "cell_type": "code",
   "execution_count": 1,
   "metadata": {
    "execution": {
     "iopub.execute_input": "2021-09-06T06:18:46.543862Z",
     "iopub.status.busy": "2021-09-06T06:18:46.543104Z",
     "iopub.status.idle": "2021-09-06T06:18:48.203482Z",
     "shell.execute_reply": "2021-09-06T06:18:48.202244Z"
    }
   },
   "outputs": [],
   "source": [
    "import json, yaml, requests\r\n",
    "from datetime import datetime\r\n",
    "from dateutil import tz\r\n",
    "import pandas as pd\r\n",
    "from PIL import Image\r\n",
    "from io import BytesIO\r\n",
    "import matplotlib.pyplot as plt\r\n",
    "import seaborn\r\n",
    "\r\n",
    "CONFIG_PATH = \"../config/config.yaml\""
   ]
  },
  {
   "cell_type": "code",
   "execution_count": 2,
   "metadata": {
    "execution": {
     "iopub.execute_input": "2021-09-06T06:18:48.211874Z",
     "iopub.status.busy": "2021-09-06T06:18:48.208962Z",
     "iopub.status.idle": "2021-09-06T06:18:48.214625Z",
     "shell.execute_reply": "2021-09-06T06:18:48.215048Z"
    }
   },
   "outputs": [],
   "source": [
    "with open('../newest_ts', 'r') as f:\r\n",
    "    newest_ts = f.read()\r\n",
    "\r\n",
    "data_path = f\"../data/data_{newest_ts}.json\"\r\n",
    "with open(data_path, 'r') as f:\r\n",
    "    data = json.load(f)\r\n",
    "\r\n",
    "with open(CONFIG_PATH, \"r\") as stream:\r\n",
    "    config = yaml.safe_load(stream)\r\n",
    "\r\n",
    "TIME_ZONE = config['time_zone']\r\n",
    "DATETIME_FORMAT = config['dt_format']"
   ]
  },
  {
   "cell_type": "code",
   "execution_count": 3,
   "metadata": {
    "execution": {
     "iopub.execute_input": "2021-09-06T06:18:48.219859Z",
     "iopub.status.busy": "2021-09-06T06:18:48.219290Z",
     "iopub.status.idle": "2021-09-06T06:18:48.224641Z",
     "shell.execute_reply": "2021-09-06T06:18:48.225101Z"
    }
   },
   "outputs": [
    {
     "name": "stdout",
     "output_type": "stream",
     "text": [
      "Recent query happens at 2021-09-06 14:18:44 (CST).\n"
     ]
    }
   ],
   "source": [
    "def ts2dt(ts, format=DATETIME_FORMAT):\r\n",
    "    dt = (datetime.utcfromtimestamp(int(ts))\r\n",
    "                    .replace(tzinfo=tz.tzutc())\r\n",
    "                    # .astimezone(tz.tzlocal())\r\n",
    "                    .astimezone(tz.gettz(TIME_ZONE)))\r\n",
    "    return dt.strftime(format), dt\r\n",
    "\r\n",
    "_, newest_dt = ts2dt(newest_ts)\r\n",
    "print(f\"Recent query happens at {newest_dt.strftime(DATETIME_FORMAT)} ({newest_dt.tzname()}).\")"
   ]
  },
  {
   "cell_type": "code",
   "execution_count": 4,
   "metadata": {
    "execution": {
     "iopub.execute_input": "2021-09-06T06:18:48.230742Z",
     "iopub.status.busy": "2021-09-06T06:18:48.229389Z",
     "iopub.status.idle": "2021-09-06T06:18:48.231320Z",
     "shell.execute_reply": "2021-09-06T06:18:48.231934Z"
    }
   },
   "outputs": [],
   "source": [
    "def degrees_to_cardinal(d):\r\n",
    "  dirs = ['N', 'NNE', 'NE', 'ENE', 'E', 'ESE', 'SE', 'SSE', 'S', 'SSW', 'SW', 'WSW', 'W', 'WNW', 'NW', 'NNW']\r\n",
    "  ix = int(round(d / (360. / len(dirs))))\r\n",
    "  return dirs[ix % len(dirs)]"
   ]
  },
  {
   "cell_type": "code",
   "execution_count": 5,
   "metadata": {
    "execution": {
     "iopub.execute_input": "2021-09-06T06:18:48.236142Z",
     "iopub.status.busy": "2021-09-06T06:18:48.235391Z",
     "iopub.status.idle": "2021-09-06T06:18:48.238531Z",
     "shell.execute_reply": "2021-09-06T06:18:48.237860Z"
    }
   },
   "outputs": [],
   "source": [
    "# data.keys()"
   ]
  },
  {
   "cell_type": "code",
   "execution_count": 6,
   "metadata": {
    "execution": {
     "iopub.execute_input": "2021-09-06T06:18:48.242931Z",
     "iopub.status.busy": "2021-09-06T06:18:48.241568Z",
     "iopub.status.idle": "2021-09-06T06:18:48.243593Z",
     "shell.execute_reply": "2021-09-06T06:18:48.244045Z"
    }
   },
   "outputs": [],
   "source": [
    "# data['current']"
   ]
  },
  {
   "cell_type": "code",
   "execution_count": 7,
   "metadata": {
    "execution": {
     "iopub.execute_input": "2021-09-06T06:18:48.265244Z",
     "iopub.status.busy": "2021-09-06T06:18:48.254091Z",
     "iopub.status.idle": "2021-09-06T06:18:48.681093Z",
     "shell.execute_reply": "2021-09-06T06:18:48.681771Z"
    }
   },
   "outputs": [
    {
     "data": {
      "image/png": "[encoded data removed]",
      "text/plain": [
       "<Figure size 216x216 with 1 Axes>"
      ]
     },
     "metadata": {
      "needs_background": "light"
     },
     "output_type": "display_data"
    },
    {
     "name": "stdout",
     "output_type": "stream",
     "text": [
      "Today, sun rises at 06:07 and sets at 18:35.\n",
      "Currently, the weather is Rain (moderate rain).\n",
      "The temperature is 31.51°C and it feels like 38.51°C.\n",
      "The UV index is 8.53, humidity is 74%.\n",
      "The pressure is 1010 hPa, percentage of cloud cover is 28%\n",
      "The wind comes from E direction with a speed 4.32 m/s.\n"
     ]
    }
   ],
   "source": [
    "current = data['current']\r\n",
    "\r\n",
    "fig, ax = plt.subplots(figsize=(3, 3))\r\n",
    "icon = requests.get(f\"http://openweathermap.org/img/wn/{current['weather'][0]['icon']}@2x.png\")\r\n",
    "im = Image.open(BytesIO(icon.content))\r\n",
    "plt.imshow(im)\r\n",
    "ax.set_axis_off()\r\n",
    "plt.show()\r\n",
    "\r\n",
    "print(f\"Today, sun rises at {ts2dt(current['sunrise'], '%H:%M')[0]} \\\r\n",
    "and sets at {ts2dt(current['sunset'], '%H:%M')[0]}.\\n\\\r\n",
    "Currently, the weather is {current['weather'][0]['main']} ({current['weather'][0]['description']}).\\n\\\r\n",
    "The temperature is {current['temp']}°C and it feels like {current['feels_like']}°C.\\n\\\r\n",
    "The UV index is {current['uvi']}, humidity is {current['humidity']}%.\\n\\\r\n",
    "The pressure is {current['pressure']} hPa, percentage of cloud cover is {current['clouds']}%\\n\\\r\n",
    "The wind comes from {degrees_to_cardinal(current['wind_deg'])} direction with a speed {current['wind_speed']} m/s.\")"
   ]
  },
  {
   "cell_type": "code",
   "execution_count": 8,
   "metadata": {
    "execution": {
     "iopub.execute_input": "2021-09-06T06:18:48.685249Z",
     "iopub.status.busy": "2021-09-06T06:18:48.684310Z",
     "iopub.status.idle": "2021-09-06T06:18:48.692268Z",
     "shell.execute_reply": "2021-09-06T06:18:48.693015Z"
    }
   },
   "outputs": [],
   "source": [
    "df_hourly = pd.DataFrame(data['hourly'])\r\n",
    "df_daily = pd.DataFrame(data['daily'])"
   ]
  },
  {
   "cell_type": "code",
   "execution_count": 9,
   "metadata": {
    "execution": {
     "iopub.execute_input": "2021-09-06T06:18:48.696173Z",
     "iopub.status.busy": "2021-09-06T06:18:48.695225Z",
     "iopub.status.idle": "2021-09-06T06:18:49.033882Z",
     "shell.execute_reply": "2021-09-06T06:18:49.034333Z"
    }
   },
   "outputs": [
    {
     "data": {
      "image/png": "[encoded data removed]",
      "text/plain": [
       "<Figure size 864x432 with 1 Axes>"
      ]
     },
     "metadata": {
      "needs_background": "light"
     },
     "output_type": "display_data"
    }
   ],
   "source": [
    "fig, ax = plt.subplots(figsize=(12, 6))\r\n",
    "plt.plot(df_hourly.temp, '.-', label='Temperature')\r\n",
    "plt.plot(df_hourly.feels_like, '.-', label='Feels Like')\r\n",
    "ax.set(title='Temperature in future 48 hours', xlabel='Time', ylabel='Temperature')\r\n",
    "ax.set_xticks(list(range(0, len(df_hourly), 2)))\r\n",
    "ax.set_xticklabels([ts2dt(ts, '%m-%d %H:%M')[0] for i, ts in enumerate(df_hourly.dt) if i%2==0], \r\n",
    "                   rotation=45, ha=\"right\")\r\n",
    "ax.locator_params(nbins=15, axis='y')\r\n",
    "plt.legend()\r\n",
    "plt.show()"
   ]
  },
  {
   "cell_type": "code",
   "execution_count": 10,
   "metadata": {
    "execution": {
     "iopub.execute_input": "2021-09-06T06:18:49.048311Z",
     "iopub.status.busy": "2021-09-06T06:18:49.038770Z",
     "iopub.status.idle": "2021-09-06T06:18:49.062313Z",
     "shell.execute_reply": "2021-09-06T06:18:49.061655Z"
    }
   },
   "outputs": [
    {
     "data": {
      "text/html": [
       "<div>\n",
       "<style scoped>\n",
       "    .dataframe tbody tr th:only-of-type {\n",
       "        vertical-align: middle;\n",
       "    }\n",
       "\n",
       "    .dataframe tbody tr th {\n",
       "        vertical-align: top;\n",
       "    }\n",
       "\n",
       "    .dataframe thead th {\n",
       "        text-align: right;\n",
       "    }\n",
       "</style>\n",
       "<table border=\"1\" class=\"dataframe\">\n",
       "  <thead>\n",
       "    <tr style=\"text-align: right;\">\n",
       "      <th></th>\n",
       "      <th>dt</th>\n",
       "      <th>temp</th>\n",
       "      <th>feels_like</th>\n",
       "      <th>pressure</th>\n",
       "      <th>humidity</th>\n",
       "      <th>dew_point</th>\n",
       "      <th>uvi</th>\n",
       "      <th>clouds</th>\n",
       "      <th>visibility</th>\n",
       "      <th>wind_speed</th>\n",
       "      <th>wind_deg</th>\n",
       "      <th>wind_gust</th>\n",
       "      <th>weather</th>\n",
       "      <th>pop</th>\n",
       "      <th>rain</th>\n",
       "    </tr>\n",
       "  </thead>\n",
       "  <tbody>\n",
       "    <tr>\n",
       "      <th>0</th>\n",
       "      <td>1630908000</td>\n",
       "      <td>31.51</td>\n",
       "      <td>38.51</td>\n",
       "      <td>1010</td>\n",
       "      <td>74</td>\n",
       "      <td>26.31</td>\n",
       "      <td>8.53</td>\n",
       "      <td>28</td>\n",
       "      <td>10000</td>\n",
       "      <td>4.32</td>\n",
       "      <td>97</td>\n",
       "      <td>4.97</td>\n",
       "      <td>[{'id': 500, 'main': 'Rain', 'description': 'l...</td>\n",
       "      <td>0.88</td>\n",
       "      <td>{'1h': 0.11}</td>\n",
       "    </tr>\n",
       "    <tr>\n",
       "      <th>1</th>\n",
       "      <td>1630911600</td>\n",
       "      <td>31.22</td>\n",
       "      <td>38.22</td>\n",
       "      <td>1010</td>\n",
       "      <td>73</td>\n",
       "      <td>25.80</td>\n",
       "      <td>6.16</td>\n",
       "      <td>30</td>\n",
       "      <td>10000</td>\n",
       "      <td>4.28</td>\n",
       "      <td>100</td>\n",
       "      <td>4.97</td>\n",
       "      <td>[{'id': 502, 'main': 'Rain', 'description': 'h...</td>\n",
       "      <td>0.61</td>\n",
       "      <td>{'1h': 15.38}</td>\n",
       "    </tr>\n",
       "    <tr>\n",
       "      <th>2</th>\n",
       "      <td>1630915200</td>\n",
       "      <td>30.79</td>\n",
       "      <td>37.79</td>\n",
       "      <td>1010</td>\n",
       "      <td>73</td>\n",
       "      <td>25.39</td>\n",
       "      <td>3.18</td>\n",
       "      <td>34</td>\n",
       "      <td>10000</td>\n",
       "      <td>4.28</td>\n",
       "      <td>95</td>\n",
       "      <td>5.38</td>\n",
       "      <td>[{'id': 802, 'main': 'Clouds', 'description': ...</td>\n",
       "      <td>0.53</td>\n",
       "      <td>NaN</td>\n",
       "    </tr>\n",
       "    <tr>\n",
       "      <th>3</th>\n",
       "      <td>1630918800</td>\n",
       "      <td>30.24</td>\n",
       "      <td>36.96</td>\n",
       "      <td>1009</td>\n",
       "      <td>75</td>\n",
       "      <td>25.31</td>\n",
       "      <td>1.11</td>\n",
       "      <td>35</td>\n",
       "      <td>10000</td>\n",
       "      <td>4.24</td>\n",
       "      <td>90</td>\n",
       "      <td>5.59</td>\n",
       "      <td>[{'id': 500, 'main': 'Rain', 'description': 'l...</td>\n",
       "      <td>0.46</td>\n",
       "      <td>{'1h': 0.39}</td>\n",
       "    </tr>\n",
       "    <tr>\n",
       "      <th>4</th>\n",
       "      <td>1630922400</td>\n",
       "      <td>29.33</td>\n",
       "      <td>35.20</td>\n",
       "      <td>1009</td>\n",
       "      <td>78</td>\n",
       "      <td>25.09</td>\n",
       "      <td>0.19</td>\n",
       "      <td>35</td>\n",
       "      <td>10000</td>\n",
       "      <td>4.28</td>\n",
       "      <td>88</td>\n",
       "      <td>6.05</td>\n",
       "      <td>[{'id': 500, 'main': 'Rain', 'description': 'l...</td>\n",
       "      <td>0.50</td>\n",
       "      <td>{'1h': 0.44}</td>\n",
       "    </tr>\n",
       "  </tbody>\n",
       "</table>\n",
       "</div>"
      ],
      "text/plain": [
       "           dt   temp  feels_like  pressure  humidity  dew_point   uvi  clouds  \\\n",
       "0  1630908000  31.51       38.51      1010        74      26.31  8.53      28   \n",
       "1  1630911600  31.22       38.22      1010        73      25.80  6.16      30   \n",
       "2  1630915200  30.79       37.79      1010        73      25.39  3.18      34   \n",
       "3  1630918800  30.24       36.96      1009        75      25.31  1.11      35   \n",
       "4  1630922400  29.33       35.20      1009        78      25.09  0.19      35   \n",
       "\n",
       "   visibility  wind_speed  wind_deg  wind_gust  \\\n",
       "0       10000        4.32        97       4.97   \n",
       "1       10000        4.28       100       4.97   \n",
       "2       10000        4.28        95       5.38   \n",
       "3       10000        4.24        90       5.59   \n",
       "4       10000        4.28        88       6.05   \n",
       "\n",
       "                                             weather   pop           rain  \n",
       "0  [{'id': 500, 'main': 'Rain', 'description': 'l...  0.88   {'1h': 0.11}  \n",
       "1  [{'id': 502, 'main': 'Rain', 'description': 'h...  0.61  {'1h': 15.38}  \n",
       "2  [{'id': 802, 'main': 'Clouds', 'description': ...  0.53            NaN  \n",
       "3  [{'id': 500, 'main': 'Rain', 'description': 'l...  0.46   {'1h': 0.39}  \n",
       "4  [{'id': 500, 'main': 'Rain', 'description': 'l...  0.50   {'1h': 0.44}  "
      ]
     },
     "execution_count": 10,
     "metadata": {},
     "output_type": "execute_result"
    }
   ],
   "source": [
    "df_hourly.head()"
   ]
  },
  {
   "cell_type": "code",
   "execution_count": null,
   "metadata": {},
   "outputs": [],
   "source": []
  }
 ],
 "metadata": {
  "interpreter": {
   "hash": "c1b4cfe941b6d2466ad1fb5979e97da9cda8801728c8091b097ab734208fc00c"
  },
  "kernelspec": {
   "display_name": "Python 3.8.3 64-bit ('base': conda)",
   "name": "python3"
  },
  "language_info": {
   "codemirror_mode": {
    "name": "ipython",
    "version": 3
   },
   "file_extension": ".py",
   "mimetype": "text/x-python",
   "name": "python",
   "nbconvert_exporter": "python",
   "pygments_lexer": "ipython3",
   "version": "3.8.11"
  }
 },
 "nbformat": 4,
 "nbformat_minor": 2
}
