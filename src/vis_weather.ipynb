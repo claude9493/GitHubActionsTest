{
 "cells": [
  {
   "cell_type": "code",
   "execution_count": 1,
   "metadata": {
    "execution": {
     "iopub.execute_input": "2021-09-30T10:13:01.380072Z",
     "iopub.status.busy": "2021-09-30T10:13:01.378667Z",
     "iopub.status.idle": "2021-09-30T10:13:02.757452Z",
     "shell.execute_reply": "2021-09-30T10:13:02.756447Z"
    }
   },
   "outputs": [],
   "source": [
    "import json, yaml, requests\r\n",
    "from datetime import datetime\r\n",
    "from dateutil import tz\r\n",
    "import pandas as pd\r\n",
    "from PIL import Image\r\n",
    "from io import BytesIO\r\n",
    "import matplotlib.pyplot as plt\r\n",
    "import seaborn\r\n",
    "\r\n",
    "CONFIG_PATH = \"../config/config.yaml\""
   ]
  },
  {
   "cell_type": "code",
   "execution_count": 2,
   "metadata": {
    "execution": {
     "iopub.execute_input": "2021-09-30T10:13:02.762443Z",
     "iopub.status.busy": "2021-09-30T10:13:02.760047Z",
     "iopub.status.idle": "2021-09-30T10:13:02.767783Z",
     "shell.execute_reply": "2021-09-30T10:13:02.768243Z"
    }
   },
   "outputs": [],
   "source": [
    "with open('../newest_ts', 'r') as f:\r\n",
    "    newest_ts = f.read()\r\n",
    "\r\n",
    "data_path = f\"../data/data_{newest_ts}.json\"\r\n",
    "with open(data_path, 'r') as f:\r\n",
    "    data = json.load(f)\r\n",
    "\r\n",
    "with open(CONFIG_PATH, \"r\") as stream:\r\n",
    "    config = yaml.safe_load(stream)\r\n",
    "\r\n",
    "TIME_ZONE = config['time_zone']\r\n",
    "DATETIME_FORMAT = config['dt_format']"
   ]
  },
  {
   "cell_type": "code",
   "execution_count": 3,
   "metadata": {
    "execution": {
     "iopub.execute_input": "2021-09-30T10:13:02.773556Z",
     "iopub.status.busy": "2021-09-30T10:13:02.772931Z",
     "iopub.status.idle": "2021-09-30T10:13:02.784640Z",
     "shell.execute_reply": "2021-09-30T10:13:02.785131Z"
    }
   },
   "outputs": [
    {
     "name": "stdout",
     "output_type": "stream",
     "text": [
      "Recent query happens at 2021-09-30 18:12:58 (CST).\n"
     ]
    }
   ],
   "source": [
    "def ts2dt(ts, format=DATETIME_FORMAT):\r\n",
    "    dt = (datetime.utcfromtimestamp(int(ts))\r\n",
    "                    .replace(tzinfo=tz.tzutc())\r\n",
    "                    # .astimezone(tz.tzlocal())\r\n",
    "                    .astimezone(tz.gettz(TIME_ZONE)))\r\n",
    "    return dt.strftime(format), dt\r\n",
    "\r\n",
    "_, newest_dt = ts2dt(newest_ts)\r\n",
    "print(f\"Recent query happens at {newest_dt.strftime(DATETIME_FORMAT)} ({newest_dt.tzname()}).\")"
   ]
  },
  {
   "cell_type": "code",
   "execution_count": 4,
   "metadata": {
    "execution": {
     "iopub.execute_input": "2021-09-30T10:13:02.790818Z",
     "iopub.status.busy": "2021-09-30T10:13:02.790001Z",
     "iopub.status.idle": "2021-09-30T10:13:02.793559Z",
     "shell.execute_reply": "2021-09-30T10:13:02.793947Z"
    }
   },
   "outputs": [],
   "source": [
    "def degrees_to_cardinal(d):\r\n",
    "  dirs = ['N', 'NNE', 'NE', 'ENE', 'E', 'ESE', 'SE', 'SSE', 'S', 'SSW', 'SW', 'WSW', 'W', 'WNW', 'NW', 'NNW']\r\n",
    "  ix = int(round(d / (360. / len(dirs))))\r\n",
    "  return dirs[ix % len(dirs)]"
   ]
  },
  {
   "cell_type": "code",
   "execution_count": 5,
   "metadata": {
    "execution": {
     "iopub.execute_input": "2021-09-30T10:13:02.797952Z",
     "iopub.status.busy": "2021-09-30T10:13:02.797357Z",
     "iopub.status.idle": "2021-09-30T10:13:02.799923Z",
     "shell.execute_reply": "2021-09-30T10:13:02.799475Z"
    }
   },
   "outputs": [],
   "source": [
    "# data.keys()"
   ]
  },
  {
   "cell_type": "code",
   "execution_count": 6,
   "metadata": {
    "execution": {
     "iopub.execute_input": "2021-09-30T10:13:02.804384Z",
     "iopub.status.busy": "2021-09-30T10:13:02.803048Z",
     "iopub.status.idle": "2021-09-30T10:13:02.804981Z",
     "shell.execute_reply": "2021-09-30T10:13:02.805409Z"
    }
   },
   "outputs": [],
   "source": [
    "# data['current']"
   ]
  },
  {
   "cell_type": "code",
   "execution_count": 7,
   "metadata": {
    "execution": {
     "iopub.execute_input": "2021-09-30T10:13:02.814947Z",
     "iopub.status.busy": "2021-09-30T10:13:02.814431Z",
     "iopub.status.idle": "2021-09-30T10:13:03.222264Z",
     "shell.execute_reply": "2021-09-30T10:13:03.222729Z"
    }
   },
   "outputs": [
    {
     "data": {
      "image/png": "[encoded data removed]",
      "text/plain": [
       "<Figure size 216x216 with 1 Axes>"
      ]
     },
     "metadata": {
      "needs_background": "light"
     },
     "output_type": "display_data"
    },
    {
     "name": "stdout",
     "output_type": "stream",
     "text": [
      "Today, sun rises at 06:13 and sets at 18:12.\n",
      "Currently, the weather is Clouds (few clouds).\n",
      "The temperature is 30.81°C and it feels like 37.81°C.\n",
      "The UV index is 0, humidity is 80%.\n",
      "The pressure is 1009 hPa, percentage of cloud cover is 19%\n",
      "The wind comes from SSW direction with a speed 1.34 m/s.\n"
     ]
    }
   ],
   "source": [
    "current = data['current']\r\n",
    "\r\n",
    "fig, ax = plt.subplots(figsize=(3, 3))\r\n",
    "icon = requests.get(f\"http://openweathermap.org/img/wn/{current['weather'][0]['icon']}@2x.png\")\r\n",
    "im = Image.open(BytesIO(icon.content))\r\n",
    "plt.imshow(im)\r\n",
    "ax.set_axis_off()\r\n",
    "plt.show()\r\n",
    "\r\n",
    "print(f\"Today, sun rises at {ts2dt(current['sunrise'], '%H:%M')[0]} \\\r\n",
    "and sets at {ts2dt(current['sunset'], '%H:%M')[0]}.\\n\\\r\n",
    "Currently, the weather is {current['weather'][0]['main']} ({current['weather'][0]['description']}).\\n\\\r\n",
    "The temperature is {current['temp']}°C and it feels like {current['feels_like']}°C.\\n\\\r\n",
    "The UV index is {current['uvi']}, humidity is {current['humidity']}%.\\n\\\r\n",
    "The pressure is {current['pressure']} hPa, percentage of cloud cover is {current['clouds']}%\\n\\\r\n",
    "The wind comes from {degrees_to_cardinal(current['wind_deg'])} direction with a speed {current['wind_speed']} m/s.\")"
   ]
  },
  {
   "cell_type": "code",
   "execution_count": 8,
   "metadata": {
    "execution": {
     "iopub.execute_input": "2021-09-30T10:13:03.230587Z",
     "iopub.status.busy": "2021-09-30T10:13:03.227814Z",
     "iopub.status.idle": "2021-09-30T10:13:03.232388Z",
     "shell.execute_reply": "2021-09-30T10:13:03.232858Z"
    }
   },
   "outputs": [],
   "source": [
    "df_hourly = pd.DataFrame(data['hourly'])\r\n",
    "df_daily = pd.DataFrame(data['daily'])"
   ]
  },
  {
   "cell_type": "code",
   "execution_count": 9,
   "metadata": {
    "execution": {
     "iopub.execute_input": "2021-09-30T10:13:03.256819Z",
     "iopub.status.busy": "2021-09-30T10:13:03.250192Z",
     "iopub.status.idle": "2021-09-30T10:13:03.591992Z",
     "shell.execute_reply": "2021-09-30T10:13:03.592635Z"
    }
   },
   "outputs": [
    {
     "data": {
      "image/png": "[encoded data removed]",
      "text/plain": [
       "<Figure size 864x432 with 1 Axes>"
      ]
     },
     "metadata": {
      "needs_background": "light"
     },
     "output_type": "display_data"
    }
   ],
   "source": [
    "fig, ax = plt.subplots(figsize=(12, 6))\r\n",
    "plt.plot(df_hourly.temp, '.-', label='Temperature')\r\n",
    "plt.plot(df_hourly.feels_like, '.-', label='Feels Like')\r\n",
    "ax.set(title='Temperature in future 48 hours', xlabel='Time', ylabel='Temperature')\r\n",
    "ax.set_xticks(list(range(0, len(df_hourly), 2)))\r\n",
    "ax.set_xticklabels([ts2dt(ts, '%m-%d %H:%M')[0] for i, ts in enumerate(df_hourly.dt) if i%2==0], \r\n",
    "                   rotation=45, ha=\"right\")\r\n",
    "ax.locator_params(nbins=15, axis='y')\r\n",
    "plt.legend()\r\n",
    "plt.show()"
   ]
  },
  {
   "cell_type": "code",
   "execution_count": 10,
   "metadata": {
    "execution": {
     "iopub.execute_input": "2021-09-30T10:13:03.608711Z",
     "iopub.status.busy": "2021-09-30T10:13:03.603812Z",
     "iopub.status.idle": "2021-09-30T10:13:03.621468Z",
     "shell.execute_reply": "2021-09-30T10:13:03.621888Z"
    }
   },
   "outputs": [
    {
     "data": {
      "text/html": [
       "<div>\n",
       "<style scoped>\n",
       "    .dataframe tbody tr th:only-of-type {\n",
       "        vertical-align: middle;\n",
       "    }\n",
       "\n",
       "    .dataframe tbody tr th {\n",
       "        vertical-align: top;\n",
       "    }\n",
       "\n",
       "    .dataframe thead th {\n",
       "        text-align: right;\n",
       "    }\n",
       "</style>\n",
       "<table border=\"1\" class=\"dataframe\">\n",
       "  <thead>\n",
       "    <tr style=\"text-align: right;\">\n",
       "      <th></th>\n",
       "      <th>dt</th>\n",
       "      <th>temp</th>\n",
       "      <th>feels_like</th>\n",
       "      <th>pressure</th>\n",
       "      <th>humidity</th>\n",
       "      <th>dew_point</th>\n",
       "      <th>uvi</th>\n",
       "      <th>clouds</th>\n",
       "      <th>visibility</th>\n",
       "      <th>wind_speed</th>\n",
       "      <th>wind_deg</th>\n",
       "      <th>wind_gust</th>\n",
       "      <th>weather</th>\n",
       "      <th>pop</th>\n",
       "      <th>rain</th>\n",
       "    </tr>\n",
       "  </thead>\n",
       "  <tbody>\n",
       "    <tr>\n",
       "      <th>0</th>\n",
       "      <td>1632996000</td>\n",
       "      <td>30.81</td>\n",
       "      <td>37.81</td>\n",
       "      <td>1009</td>\n",
       "      <td>80</td>\n",
       "      <td>26.96</td>\n",
       "      <td>0.0</td>\n",
       "      <td>19</td>\n",
       "      <td>10000</td>\n",
       "      <td>3.60</td>\n",
       "      <td>213</td>\n",
       "      <td>4.07</td>\n",
       "      <td>[{'id': 801, 'main': 'Clouds', 'description': ...</td>\n",
       "      <td>0.01</td>\n",
       "      <td>NaN</td>\n",
       "    </tr>\n",
       "    <tr>\n",
       "      <th>1</th>\n",
       "      <td>1632999600</td>\n",
       "      <td>30.44</td>\n",
       "      <td>37.44</td>\n",
       "      <td>1009</td>\n",
       "      <td>79</td>\n",
       "      <td>26.38</td>\n",
       "      <td>0.0</td>\n",
       "      <td>19</td>\n",
       "      <td>10000</td>\n",
       "      <td>3.63</td>\n",
       "      <td>214</td>\n",
       "      <td>4.03</td>\n",
       "      <td>[{'id': 801, 'main': 'Clouds', 'description': ...</td>\n",
       "      <td>0.03</td>\n",
       "      <td>NaN</td>\n",
       "    </tr>\n",
       "    <tr>\n",
       "      <th>2</th>\n",
       "      <td>1633003200</td>\n",
       "      <td>29.99</td>\n",
       "      <td>36.99</td>\n",
       "      <td>1009</td>\n",
       "      <td>80</td>\n",
       "      <td>26.16</td>\n",
       "      <td>0.0</td>\n",
       "      <td>18</td>\n",
       "      <td>10000</td>\n",
       "      <td>3.68</td>\n",
       "      <td>219</td>\n",
       "      <td>4.09</td>\n",
       "      <td>[{'id': 801, 'main': 'Clouds', 'description': ...</td>\n",
       "      <td>0.03</td>\n",
       "      <td>NaN</td>\n",
       "    </tr>\n",
       "    <tr>\n",
       "      <th>3</th>\n",
       "      <td>1633006800</td>\n",
       "      <td>29.47</td>\n",
       "      <td>36.33</td>\n",
       "      <td>1008</td>\n",
       "      <td>81</td>\n",
       "      <td>25.86</td>\n",
       "      <td>0.0</td>\n",
       "      <td>8</td>\n",
       "      <td>10000</td>\n",
       "      <td>3.36</td>\n",
       "      <td>224</td>\n",
       "      <td>3.82</td>\n",
       "      <td>[{'id': 800, 'main': 'Clear', 'description': '...</td>\n",
       "      <td>0.21</td>\n",
       "      <td>NaN</td>\n",
       "    </tr>\n",
       "    <tr>\n",
       "      <th>4</th>\n",
       "      <td>1633010400</td>\n",
       "      <td>28.92</td>\n",
       "      <td>34.52</td>\n",
       "      <td>1009</td>\n",
       "      <td>80</td>\n",
       "      <td>25.12</td>\n",
       "      <td>0.0</td>\n",
       "      <td>5</td>\n",
       "      <td>10000</td>\n",
       "      <td>2.64</td>\n",
       "      <td>217</td>\n",
       "      <td>3.02</td>\n",
       "      <td>[{'id': 500, 'main': 'Rain', 'description': 'l...</td>\n",
       "      <td>0.39</td>\n",
       "      <td>{'1h': 0.11}</td>\n",
       "    </tr>\n",
       "  </tbody>\n",
       "</table>\n",
       "</div>"
      ],
      "text/plain": [
       "           dt   temp  feels_like  pressure  humidity  dew_point  uvi  clouds  \\\n",
       "0  1632996000  30.81       37.81      1009        80      26.96  0.0      19   \n",
       "1  1632999600  30.44       37.44      1009        79      26.38  0.0      19   \n",
       "2  1633003200  29.99       36.99      1009        80      26.16  0.0      18   \n",
       "3  1633006800  29.47       36.33      1008        81      25.86  0.0       8   \n",
       "4  1633010400  28.92       34.52      1009        80      25.12  0.0       5   \n",
       "\n",
       "   visibility  wind_speed  wind_deg  wind_gust  \\\n",
       "0       10000        3.60       213       4.07   \n",
       "1       10000        3.63       214       4.03   \n",
       "2       10000        3.68       219       4.09   \n",
       "3       10000        3.36       224       3.82   \n",
       "4       10000        2.64       217       3.02   \n",
       "\n",
       "                                             weather   pop          rain  \n",
       "0  [{'id': 801, 'main': 'Clouds', 'description': ...  0.01           NaN  \n",
       "1  [{'id': 801, 'main': 'Clouds', 'description': ...  0.03           NaN  \n",
       "2  [{'id': 801, 'main': 'Clouds', 'description': ...  0.03           NaN  \n",
       "3  [{'id': 800, 'main': 'Clear', 'description': '...  0.21           NaN  \n",
       "4  [{'id': 500, 'main': 'Rain', 'description': 'l...  0.39  {'1h': 0.11}  "
      ]
     },
     "execution_count": 10,
     "metadata": {},
     "output_type": "execute_result"
    }
   ],
   "source": [
    "df_hourly.head()"
   ]
  },
  {
   "cell_type": "code",
   "execution_count": null,
   "metadata": {},
   "outputs": [],
   "source": []
  }
 ],
 "metadata": {
  "interpreter": {
   "hash": "c1b4cfe941b6d2466ad1fb5979e97da9cda8801728c8091b097ab734208fc00c"
  },
  "kernelspec": {
   "display_name": "Python 3.8.3 64-bit ('base': conda)",
   "name": "python3"
  },
  "language_info": {
   "codemirror_mode": {
    "name": "ipython",
    "version": 3
   },
   "file_extension": ".py",
   "mimetype": "text/x-python",
   "name": "python",
   "nbconvert_exporter": "python",
   "pygments_lexer": "ipython3",
   "version": "3.8.12"
  }
 },
 "nbformat": 4,
 "nbformat_minor": 2
}
