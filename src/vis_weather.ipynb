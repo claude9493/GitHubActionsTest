{
 "cells": [
  {
   "cell_type": "code",
   "execution_count": 1,
   "metadata": {
    "execution": {
     "iopub.execute_input": "2021-08-24T01:52:56.773458Z",
     "iopub.status.busy": "2021-08-24T01:52:56.772760Z",
     "iopub.status.idle": "2021-08-24T01:53:00.862044Z",
     "shell.execute_reply": "2021-08-24T01:53:00.860901Z"
    }
   },
   "outputs": [],
   "source": [
    "import json, yaml, requests\r\n",
    "from datetime import datetime\r\n",
    "from dateutil import tz\r\n",
    "import pandas as pd\r\n",
    "from PIL import Image\r\n",
    "from io import BytesIO\r\n",
    "import matplotlib.pyplot as plt\r\n",
    "import seaborn\r\n",
    "\r\n",
    "CONFIG_PATH = \"../config/config.yaml\""
   ]
  },
  {
   "cell_type": "code",
   "execution_count": 2,
   "metadata": {
    "execution": {
     "iopub.execute_input": "2021-08-24T01:53:00.867883Z",
     "iopub.status.busy": "2021-08-24T01:53:00.867088Z",
     "iopub.status.idle": "2021-08-24T01:53:00.873436Z",
     "shell.execute_reply": "2021-08-24T01:53:00.872834Z"
    }
   },
   "outputs": [],
   "source": [
    "with open('../newest_ts', 'r') as f:\r\n",
    "    newest_ts = f.read()\r\n",
    "\r\n",
    "data_path = f\"../data/data_{newest_ts}.json\"\r\n",
    "with open(data_path, 'r') as f:\r\n",
    "    data = json.load(f)\r\n",
    "\r\n",
    "with open(CONFIG_PATH, \"r\") as stream:\r\n",
    "    config = yaml.safe_load(stream)\r\n",
    "\r\n",
    "TIME_ZONE = config['time_zone']\r\n",
    "DATETIME_FORMAT = config['dt_format']"
   ]
  },
  {
   "cell_type": "code",
   "execution_count": 3,
   "metadata": {
    "execution": {
     "iopub.execute_input": "2021-08-24T01:53:00.880503Z",
     "iopub.status.busy": "2021-08-24T01:53:00.879771Z",
     "iopub.status.idle": "2021-08-24T01:53:00.907604Z",
     "shell.execute_reply": "2021-08-24T01:53:00.907055Z"
    }
   },
   "outputs": [
    {
     "name": "stdout",
     "output_type": "stream",
     "text": [
      "Recent query happens at 2021-08-24 09:52:53 (CST).\n"
     ]
    }
   ],
   "source": [
    "def ts2dt(ts, format=DATETIME_FORMAT):\r\n",
    "    dt = (datetime.utcfromtimestamp(int(ts))\r\n",
    "                    .replace(tzinfo=tz.tzutc())\r\n",
    "                    # .astimezone(tz.tzlocal())\r\n",
    "                    .astimezone(tz.gettz(TIME_ZONE)))\r\n",
    "    return dt.strftime(format), dt\r\n",
    "\r\n",
    "_, newest_dt = ts2dt(newest_ts)\r\n",
    "print(f\"Recent query happens at {newest_dt.strftime(DATETIME_FORMAT)} ({newest_dt.tzname()}).\")"
   ]
  },
  {
   "cell_type": "code",
   "execution_count": 4,
   "metadata": {
    "execution": {
     "iopub.execute_input": "2021-08-24T01:53:00.914224Z",
     "iopub.status.busy": "2021-08-24T01:53:00.912797Z",
     "iopub.status.idle": "2021-08-24T01:53:00.914868Z",
     "shell.execute_reply": "2021-08-24T01:53:00.915384Z"
    }
   },
   "outputs": [],
   "source": [
    "def degrees_to_cardinal(d):\r\n",
    "  dirs = ['N', 'NNE', 'NE', 'ENE', 'E', 'ESE', 'SE', 'SSE', 'S', 'SSW', 'SW', 'WSW', 'W', 'WNW', 'NW', 'NNW']\r\n",
    "  ix = int(round(d / (360. / len(dirs))))\r\n",
    "  return dirs[ix % len(dirs)]"
   ]
  },
  {
   "cell_type": "code",
   "execution_count": 5,
   "metadata": {
    "execution": {
     "iopub.execute_input": "2021-08-24T01:53:00.920830Z",
     "iopub.status.busy": "2021-08-24T01:53:00.919983Z",
     "iopub.status.idle": "2021-08-24T01:53:00.921484Z",
     "shell.execute_reply": "2021-08-24T01:53:00.921962Z"
    }
   },
   "outputs": [],
   "source": [
    "# data.keys()"
   ]
  },
  {
   "cell_type": "code",
   "execution_count": 6,
   "metadata": {
    "execution": {
     "iopub.execute_input": "2021-08-24T01:53:00.925675Z",
     "iopub.status.busy": "2021-08-24T01:53:00.925029Z",
     "iopub.status.idle": "2021-08-24T01:53:00.927278Z",
     "shell.execute_reply": "2021-08-24T01:53:00.927714Z"
    }
   },
   "outputs": [],
   "source": [
    "# data['current']"
   ]
  },
  {
   "cell_type": "code",
   "execution_count": 7,
   "metadata": {
    "execution": {
     "iopub.execute_input": "2021-08-24T01:53:00.948995Z",
     "iopub.status.busy": "2021-08-24T01:53:00.944580Z",
     "iopub.status.idle": "2021-08-24T01:53:01.258092Z",
     "shell.execute_reply": "2021-08-24T01:53:01.258862Z"
    }
   },
   "outputs": [
    {
     "data": {
      "image/png": "[encoded data removed]",
      "text/plain": [
       "<Figure size 216x216 with 1 Axes>"
      ]
     },
     "metadata": {
      "needs_background": "light"
     },
     "output_type": "display_data"
    },
    {
     "name": "stdout",
     "output_type": "stream",
     "text": [
      "Today, sun rises at 06:03 and sets at 18:47.\n",
      "Currently, the weather is Rain (light rain).\n",
      "The temperature is 28.35°C and it feels like 34.28°C.\n",
      "The UV index is 7.28, humidity is 87%.\n",
      "The pressure is 1008 hPa, percentage of cloud cover is 100%\n",
      "The wind comes from SW direction with a speed 2.58 m/s.\n"
     ]
    }
   ],
   "source": [
    "current = data['current']\r\n",
    "\r\n",
    "fig, ax = plt.subplots(figsize=(3, 3))\r\n",
    "icon = requests.get(f\"http://openweathermap.org/img/wn/{current['weather'][0]['icon']}@2x.png\")\r\n",
    "im = Image.open(BytesIO(icon.content))\r\n",
    "plt.imshow(im)\r\n",
    "ax.set_axis_off()\r\n",
    "plt.show()\r\n",
    "\r\n",
    "print(f\"Today, sun rises at {ts2dt(current['sunrise'], '%H:%M')[0]} \\\r\n",
    "and sets at {ts2dt(current['sunset'], '%H:%M')[0]}.\\n\\\r\n",
    "Currently, the weather is {current['weather'][0]['main']} ({current['weather'][0]['description']}).\\n\\\r\n",
    "The temperature is {current['temp']}°C and it feels like {current['feels_like']}°C.\\n\\\r\n",
    "The UV index is {current['uvi']}, humidity is {current['humidity']}%.\\n\\\r\n",
    "The pressure is {current['pressure']} hPa, percentage of cloud cover is {current['clouds']}%\\n\\\r\n",
    "The wind comes from {degrees_to_cardinal(current['wind_deg'])} direction with a speed {current['wind_speed']} m/s.\")"
   ]
  },
  {
   "cell_type": "code",
   "execution_count": 8,
   "metadata": {
    "execution": {
     "iopub.execute_input": "2021-08-24T01:53:01.262411Z",
     "iopub.status.busy": "2021-08-24T01:53:01.261350Z",
     "iopub.status.idle": "2021-08-24T01:53:01.269629Z",
     "shell.execute_reply": "2021-08-24T01:53:01.270386Z"
    }
   },
   "outputs": [],
   "source": [
    "df_hourly = pd.DataFrame(data['hourly'])\r\n",
    "df_daily = pd.DataFrame(data['daily'])"
   ]
  },
  {
   "cell_type": "code",
   "execution_count": 9,
   "metadata": {
    "execution": {
     "iopub.execute_input": "2021-08-24T01:53:01.273933Z",
     "iopub.status.busy": "2021-08-24T01:53:01.272796Z",
     "iopub.status.idle": "2021-08-24T01:53:01.594175Z",
     "shell.execute_reply": "2021-08-24T01:53:01.594662Z"
    }
   },
   "outputs": [
    {
     "data": {
      "image/png": "[encoded data removed]",
      "text/plain": [
       "<Figure size 864x432 with 1 Axes>"
      ]
     },
     "metadata": {
      "needs_background": "light"
     },
     "output_type": "display_data"
    }
   ],
   "source": [
    "fig, ax = plt.subplots(figsize=(12, 6))\r\n",
    "plt.plot(df_hourly.temp, '.-', label='Temperature')\r\n",
    "plt.plot(df_hourly.feels_like, '.-', label='Feels Like')\r\n",
    "ax.set(title='Temperature in future 48 hours', xlabel='Time', ylabel='Temperature')\r\n",
    "ax.set_xticks(list(range(0, len(df_hourly), 2)))\r\n",
    "ax.set_xticklabels([ts2dt(ts, '%m-%d %H:%M')[0] for i, ts in enumerate(df_hourly.dt) if i%2==0], \r\n",
    "                   rotation=45, ha=\"right\")\r\n",
    "ax.locator_params(nbins=15, axis='y')\r\n",
    "plt.legend()\r\n",
    "plt.show()"
   ]
  },
  {
   "cell_type": "code",
   "execution_count": 10,
   "metadata": {
    "execution": {
     "iopub.execute_input": "2021-08-24T01:53:01.609430Z",
     "iopub.status.busy": "2021-08-24T01:53:01.599200Z",
     "iopub.status.idle": "2021-08-24T01:53:01.620956Z",
     "shell.execute_reply": "2021-08-24T01:53:01.621483Z"
    }
   },
   "outputs": [
    {
     "data": {
      "text/html": [
       "<div>\n",
       "<style scoped>\n",
       "    .dataframe tbody tr th:only-of-type {\n",
       "        vertical-align: middle;\n",
       "    }\n",
       "\n",
       "    .dataframe tbody tr th {\n",
       "        vertical-align: top;\n",
       "    }\n",
       "\n",
       "    .dataframe thead th {\n",
       "        text-align: right;\n",
       "    }\n",
       "</style>\n",
       "<table border=\"1\" class=\"dataframe\">\n",
       "  <thead>\n",
       "    <tr style=\"text-align: right;\">\n",
       "      <th></th>\n",
       "      <th>dt</th>\n",
       "      <th>temp</th>\n",
       "      <th>feels_like</th>\n",
       "      <th>pressure</th>\n",
       "      <th>humidity</th>\n",
       "      <th>dew_point</th>\n",
       "      <th>uvi</th>\n",
       "      <th>clouds</th>\n",
       "      <th>visibility</th>\n",
       "      <th>wind_speed</th>\n",
       "      <th>wind_deg</th>\n",
       "      <th>wind_gust</th>\n",
       "      <th>weather</th>\n",
       "      <th>pop</th>\n",
       "      <th>rain</th>\n",
       "    </tr>\n",
       "  </thead>\n",
       "  <tbody>\n",
       "    <tr>\n",
       "      <th>0</th>\n",
       "      <td>1629766800</td>\n",
       "      <td>28.43</td>\n",
       "      <td>33.95</td>\n",
       "      <td>1008</td>\n",
       "      <td>84</td>\n",
       "      <td>25.46</td>\n",
       "      <td>4.11</td>\n",
       "      <td>100</td>\n",
       "      <td>10000</td>\n",
       "      <td>2.29</td>\n",
       "      <td>213</td>\n",
       "      <td>3.26</td>\n",
       "      <td>[{'id': 804, 'main': 'Clouds', 'description': ...</td>\n",
       "      <td>0.40</td>\n",
       "      <td>NaN</td>\n",
       "    </tr>\n",
       "    <tr>\n",
       "      <th>1</th>\n",
       "      <td>1629770400</td>\n",
       "      <td>28.35</td>\n",
       "      <td>34.28</td>\n",
       "      <td>1008</td>\n",
       "      <td>87</td>\n",
       "      <td>25.98</td>\n",
       "      <td>7.28</td>\n",
       "      <td>100</td>\n",
       "      <td>10000</td>\n",
       "      <td>2.58</td>\n",
       "      <td>214</td>\n",
       "      <td>3.41</td>\n",
       "      <td>[{'id': 804, 'main': 'Clouds', 'description': ...</td>\n",
       "      <td>0.35</td>\n",
       "      <td>NaN</td>\n",
       "    </tr>\n",
       "    <tr>\n",
       "      <th>2</th>\n",
       "      <td>1629774000</td>\n",
       "      <td>28.66</td>\n",
       "      <td>34.41</td>\n",
       "      <td>1008</td>\n",
       "      <td>83</td>\n",
       "      <td>25.48</td>\n",
       "      <td>10.17</td>\n",
       "      <td>100</td>\n",
       "      <td>10000</td>\n",
       "      <td>2.73</td>\n",
       "      <td>206</td>\n",
       "      <td>3.37</td>\n",
       "      <td>[{'id': 804, 'main': 'Clouds', 'description': ...</td>\n",
       "      <td>0.23</td>\n",
       "      <td>NaN</td>\n",
       "    </tr>\n",
       "    <tr>\n",
       "      <th>3</th>\n",
       "      <td>1629777600</td>\n",
       "      <td>29.06</td>\n",
       "      <td>34.69</td>\n",
       "      <td>1008</td>\n",
       "      <td>79</td>\n",
       "      <td>25.04</td>\n",
       "      <td>12.09</td>\n",
       "      <td>100</td>\n",
       "      <td>10000</td>\n",
       "      <td>3.17</td>\n",
       "      <td>206</td>\n",
       "      <td>3.60</td>\n",
       "      <td>[{'id': 804, 'main': 'Clouds', 'description': ...</td>\n",
       "      <td>0.32</td>\n",
       "      <td>NaN</td>\n",
       "    </tr>\n",
       "    <tr>\n",
       "      <th>4</th>\n",
       "      <td>1629781200</td>\n",
       "      <td>29.53</td>\n",
       "      <td>35.04</td>\n",
       "      <td>1007</td>\n",
       "      <td>75</td>\n",
       "      <td>24.63</td>\n",
       "      <td>11.91</td>\n",
       "      <td>100</td>\n",
       "      <td>10000</td>\n",
       "      <td>3.18</td>\n",
       "      <td>207</td>\n",
       "      <td>3.45</td>\n",
       "      <td>[{'id': 804, 'main': 'Clouds', 'description': ...</td>\n",
       "      <td>0.31</td>\n",
       "      <td>NaN</td>\n",
       "    </tr>\n",
       "  </tbody>\n",
       "</table>\n",
       "</div>"
      ],
      "text/plain": [
       "           dt   temp  feels_like  pressure  humidity  dew_point    uvi  \\\n",
       "0  1629766800  28.43       33.95      1008        84      25.46   4.11   \n",
       "1  1629770400  28.35       34.28      1008        87      25.98   7.28   \n",
       "2  1629774000  28.66       34.41      1008        83      25.48  10.17   \n",
       "3  1629777600  29.06       34.69      1008        79      25.04  12.09   \n",
       "4  1629781200  29.53       35.04      1007        75      24.63  11.91   \n",
       "\n",
       "   clouds  visibility  wind_speed  wind_deg  wind_gust  \\\n",
       "0     100       10000        2.29       213       3.26   \n",
       "1     100       10000        2.58       214       3.41   \n",
       "2     100       10000        2.73       206       3.37   \n",
       "3     100       10000        3.17       206       3.60   \n",
       "4     100       10000        3.18       207       3.45   \n",
       "\n",
       "                                             weather   pop rain  \n",
       "0  [{'id': 804, 'main': 'Clouds', 'description': ...  0.40  NaN  \n",
       "1  [{'id': 804, 'main': 'Clouds', 'description': ...  0.35  NaN  \n",
       "2  [{'id': 804, 'main': 'Clouds', 'description': ...  0.23  NaN  \n",
       "3  [{'id': 804, 'main': 'Clouds', 'description': ...  0.32  NaN  \n",
       "4  [{'id': 804, 'main': 'Clouds', 'description': ...  0.31  NaN  "
      ]
     },
     "execution_count": 10,
     "metadata": {},
     "output_type": "execute_result"
    }
   ],
   "source": [
    "df_hourly.head()"
   ]
  },
  {
   "cell_type": "code",
   "execution_count": null,
   "metadata": {},
   "outputs": [],
   "source": []
  }
 ],
 "metadata": {
  "interpreter": {
   "hash": "c1b4cfe941b6d2466ad1fb5979e97da9cda8801728c8091b097ab734208fc00c"
  },
  "kernelspec": {
   "display_name": "Python 3.8.3 64-bit ('base': conda)",
   "name": "python3"
  },
  "language_info": {
   "codemirror_mode": {
    "name": "ipython",
    "version": 3
   },
   "file_extension": ".py",
   "mimetype": "text/x-python",
   "name": "python",
   "nbconvert_exporter": "python",
   "pygments_lexer": "ipython3",
   "version": "3.8.11"
  }
 },
 "nbformat": 4,
 "nbformat_minor": 2
}
