{
 "cells": [
  {
   "cell_type": "code",
   "execution_count": 1,
   "metadata": {
    "execution": {
     "iopub.execute_input": "2021-09-12T00:52:59.729393Z",
     "iopub.status.busy": "2021-09-12T00:52:59.727782Z",
     "iopub.status.idle": "2021-09-12T00:53:02.758680Z",
     "shell.execute_reply": "2021-09-12T00:53:02.758119Z"
    }
   },
   "outputs": [],
   "source": [
    "import json, yaml, requests\r\n",
    "from datetime import datetime\r\n",
    "from dateutil import tz\r\n",
    "import pandas as pd\r\n",
    "from PIL import Image\r\n",
    "from io import BytesIO\r\n",
    "import matplotlib.pyplot as plt\r\n",
    "import seaborn\r\n",
    "\r\n",
    "CONFIG_PATH = \"../config/config.yaml\""
   ]
  },
  {
   "cell_type": "code",
   "execution_count": 2,
   "metadata": {
    "execution": {
     "iopub.execute_input": "2021-09-12T00:53:02.764024Z",
     "iopub.status.busy": "2021-09-12T00:53:02.763124Z",
     "iopub.status.idle": "2021-09-12T00:53:02.768902Z",
     "shell.execute_reply": "2021-09-12T00:53:02.768195Z"
    }
   },
   "outputs": [],
   "source": [
    "with open('../newest_ts', 'r') as f:\r\n",
    "    newest_ts = f.read()\r\n",
    "\r\n",
    "data_path = f\"../data/data_{newest_ts}.json\"\r\n",
    "with open(data_path, 'r') as f:\r\n",
    "    data = json.load(f)\r\n",
    "\r\n",
    "with open(CONFIG_PATH, \"r\") as stream:\r\n",
    "    config = yaml.safe_load(stream)\r\n",
    "\r\n",
    "TIME_ZONE = config['time_zone']\r\n",
    "DATETIME_FORMAT = config['dt_format']"
   ]
  },
  {
   "cell_type": "code",
   "execution_count": 3,
   "metadata": {
    "execution": {
     "iopub.execute_input": "2021-09-12T00:53:02.773899Z",
     "iopub.status.busy": "2021-09-12T00:53:02.773292Z",
     "iopub.status.idle": "2021-09-12T00:53:02.785441Z",
     "shell.execute_reply": "2021-09-12T00:53:02.785812Z"
    }
   },
   "outputs": [
    {
     "name": "stdout",
     "output_type": "stream",
     "text": [
      "Recent query happens at 2021-09-12 08:52:55 (CST).\n"
     ]
    }
   ],
   "source": [
    "def ts2dt(ts, format=DATETIME_FORMAT):\r\n",
    "    dt = (datetime.utcfromtimestamp(int(ts))\r\n",
    "                    .replace(tzinfo=tz.tzutc())\r\n",
    "                    # .astimezone(tz.tzlocal())\r\n",
    "                    .astimezone(tz.gettz(TIME_ZONE)))\r\n",
    "    return dt.strftime(format), dt\r\n",
    "\r\n",
    "_, newest_dt = ts2dt(newest_ts)\r\n",
    "print(f\"Recent query happens at {newest_dt.strftime(DATETIME_FORMAT)} ({newest_dt.tzname()}).\")"
   ]
  },
  {
   "cell_type": "code",
   "execution_count": 4,
   "metadata": {
    "execution": {
     "iopub.execute_input": "2021-09-12T00:53:02.791199Z",
     "iopub.status.busy": "2021-09-12T00:53:02.790150Z",
     "iopub.status.idle": "2021-09-12T00:53:02.794304Z",
     "shell.execute_reply": "2021-09-12T00:53:02.793810Z"
    }
   },
   "outputs": [],
   "source": [
    "def degrees_to_cardinal(d):\r\n",
    "  dirs = ['N', 'NNE', 'NE', 'ENE', 'E', 'ESE', 'SE', 'SSE', 'S', 'SSW', 'SW', 'WSW', 'W', 'WNW', 'NW', 'NNW']\r\n",
    "  ix = int(round(d / (360. / len(dirs))))\r\n",
    "  return dirs[ix % len(dirs)]"
   ]
  },
  {
   "cell_type": "code",
   "execution_count": 5,
   "metadata": {
    "execution": {
     "iopub.execute_input": "2021-09-12T00:53:02.798066Z",
     "iopub.status.busy": "2021-09-12T00:53:02.797552Z",
     "iopub.status.idle": "2021-09-12T00:53:02.801640Z",
     "shell.execute_reply": "2021-09-12T00:53:02.801231Z"
    }
   },
   "outputs": [],
   "source": [
    "# data.keys()"
   ]
  },
  {
   "cell_type": "code",
   "execution_count": 6,
   "metadata": {
    "execution": {
     "iopub.execute_input": "2021-09-12T00:53:02.806975Z",
     "iopub.status.busy": "2021-09-12T00:53:02.805576Z",
     "iopub.status.idle": "2021-09-12T00:53:02.807704Z",
     "shell.execute_reply": "2021-09-12T00:53:02.808146Z"
    }
   },
   "outputs": [],
   "source": [
    "# data['current']"
   ]
  },
  {
   "cell_type": "code",
   "execution_count": 7,
   "metadata": {
    "execution": {
     "iopub.execute_input": "2021-09-12T00:53:02.828227Z",
     "iopub.status.busy": "2021-09-12T00:53:02.825290Z",
     "iopub.status.idle": "2021-09-12T00:53:03.421991Z",
     "shell.execute_reply": "2021-09-12T00:53:03.422780Z"
    }
   },
   "outputs": [
    {
     "data": {
      "image/png": "[encoded data removed]",
      "text/plain": [
       "<Figure size 216x216 with 1 Axes>"
      ]
     },
     "metadata": {
      "needs_background": "light"
     },
     "output_type": "display_data"
    },
    {
     "name": "stdout",
     "output_type": "stream",
     "text": [
      "Today, sun rises at 06:08 and sets at 18:30.\n",
      "Currently, the weather is Clouds (overcast clouds).\n",
      "The temperature is 30.6°C and it feels like 37.6°C.\n",
      "The UV index is 3.6, humidity is 85%.\n",
      "The pressure is 1003 hPa, percentage of cloud cover is 94%\n",
      "The wind comes from W direction with a speed 3.65 m/s.\n"
     ]
    }
   ],
   "source": [
    "current = data['current']\r\n",
    "\r\n",
    "fig, ax = plt.subplots(figsize=(3, 3))\r\n",
    "icon = requests.get(f\"http://openweathermap.org/img/wn/{current['weather'][0]['icon']}@2x.png\")\r\n",
    "im = Image.open(BytesIO(icon.content))\r\n",
    "plt.imshow(im)\r\n",
    "ax.set_axis_off()\r\n",
    "plt.show()\r\n",
    "\r\n",
    "print(f\"Today, sun rises at {ts2dt(current['sunrise'], '%H:%M')[0]} \\\r\n",
    "and sets at {ts2dt(current['sunset'], '%H:%M')[0]}.\\n\\\r\n",
    "Currently, the weather is {current['weather'][0]['main']} ({current['weather'][0]['description']}).\\n\\\r\n",
    "The temperature is {current['temp']}°C and it feels like {current['feels_like']}°C.\\n\\\r\n",
    "The UV index is {current['uvi']}, humidity is {current['humidity']}%.\\n\\\r\n",
    "The pressure is {current['pressure']} hPa, percentage of cloud cover is {current['clouds']}%\\n\\\r\n",
    "The wind comes from {degrees_to_cardinal(current['wind_deg'])} direction with a speed {current['wind_speed']} m/s.\")"
   ]
  },
  {
   "cell_type": "code",
   "execution_count": 8,
   "metadata": {
    "execution": {
     "iopub.execute_input": "2021-09-12T00:53:03.426156Z",
     "iopub.status.busy": "2021-09-12T00:53:03.425268Z",
     "iopub.status.idle": "2021-09-12T00:53:03.433030Z",
     "shell.execute_reply": "2021-09-12T00:53:03.433795Z"
    }
   },
   "outputs": [],
   "source": [
    "df_hourly = pd.DataFrame(data['hourly'])\r\n",
    "df_daily = pd.DataFrame(data['daily'])"
   ]
  },
  {
   "cell_type": "code",
   "execution_count": 9,
   "metadata": {
    "execution": {
     "iopub.execute_input": "2021-09-12T00:53:03.437305Z",
     "iopub.status.busy": "2021-09-12T00:53:03.436023Z",
     "iopub.status.idle": "2021-09-12T00:53:03.783396Z",
     "shell.execute_reply": "2021-09-12T00:53:03.784068Z"
    }
   },
   "outputs": [
    {
     "data": {
      "image/png": "[encoded data removed]",
      "text/plain": [
       "<Figure size 864x432 with 1 Axes>"
      ]
     },
     "metadata": {
      "needs_background": "light"
     },
     "output_type": "display_data"
    }
   ],
   "source": [
    "fig, ax = plt.subplots(figsize=(12, 6))\r\n",
    "plt.plot(df_hourly.temp, '.-', label='Temperature')\r\n",
    "plt.plot(df_hourly.feels_like, '.-', label='Feels Like')\r\n",
    "ax.set(title='Temperature in future 48 hours', xlabel='Time', ylabel='Temperature')\r\n",
    "ax.set_xticks(list(range(0, len(df_hourly), 2)))\r\n",
    "ax.set_xticklabels([ts2dt(ts, '%m-%d %H:%M')[0] for i, ts in enumerate(df_hourly.dt) if i%2==0], \r\n",
    "                   rotation=45, ha=\"right\")\r\n",
    "ax.locator_params(nbins=15, axis='y')\r\n",
    "plt.legend()\r\n",
    "plt.show()"
   ]
  },
  {
   "cell_type": "code",
   "execution_count": 10,
   "metadata": {
    "execution": {
     "iopub.execute_input": "2021-09-12T00:53:03.790486Z",
     "iopub.status.busy": "2021-09-12T00:53:03.787675Z",
     "iopub.status.idle": "2021-09-12T00:53:03.811632Z",
     "shell.execute_reply": "2021-09-12T00:53:03.811052Z"
    }
   },
   "outputs": [
    {
     "data": {
      "text/html": [
       "<div>\n",
       "<style scoped>\n",
       "    .dataframe tbody tr th:only-of-type {\n",
       "        vertical-align: middle;\n",
       "    }\n",
       "\n",
       "    .dataframe tbody tr th {\n",
       "        vertical-align: top;\n",
       "    }\n",
       "\n",
       "    .dataframe thead th {\n",
       "        text-align: right;\n",
       "    }\n",
       "</style>\n",
       "<table border=\"1\" class=\"dataframe\">\n",
       "  <thead>\n",
       "    <tr style=\"text-align: right;\">\n",
       "      <th></th>\n",
       "      <th>dt</th>\n",
       "      <th>temp</th>\n",
       "      <th>feels_like</th>\n",
       "      <th>pressure</th>\n",
       "      <th>humidity</th>\n",
       "      <th>dew_point</th>\n",
       "      <th>uvi</th>\n",
       "      <th>clouds</th>\n",
       "      <th>visibility</th>\n",
       "      <th>wind_speed</th>\n",
       "      <th>wind_deg</th>\n",
       "      <th>wind_gust</th>\n",
       "      <th>weather</th>\n",
       "      <th>pop</th>\n",
       "      <th>rain</th>\n",
       "    </tr>\n",
       "  </thead>\n",
       "  <tbody>\n",
       "    <tr>\n",
       "      <th>0</th>\n",
       "      <td>1631404800</td>\n",
       "      <td>30.38</td>\n",
       "      <td>37.38</td>\n",
       "      <td>1003</td>\n",
       "      <td>83</td>\n",
       "      <td>27.16</td>\n",
       "      <td>1.33</td>\n",
       "      <td>89</td>\n",
       "      <td>10000</td>\n",
       "      <td>3.50</td>\n",
       "      <td>266</td>\n",
       "      <td>4.40</td>\n",
       "      <td>[{'id': 500, 'main': 'Rain', 'description': 'l...</td>\n",
       "      <td>1.00</td>\n",
       "      <td>{'1h': 0.65}</td>\n",
       "    </tr>\n",
       "    <tr>\n",
       "      <th>1</th>\n",
       "      <td>1631408400</td>\n",
       "      <td>30.60</td>\n",
       "      <td>37.60</td>\n",
       "      <td>1003</td>\n",
       "      <td>85</td>\n",
       "      <td>27.79</td>\n",
       "      <td>3.60</td>\n",
       "      <td>94</td>\n",
       "      <td>10000</td>\n",
       "      <td>3.65</td>\n",
       "      <td>270</td>\n",
       "      <td>4.55</td>\n",
       "      <td>[{'id': 804, 'main': 'Clouds', 'description': ...</td>\n",
       "      <td>0.79</td>\n",
       "      <td>NaN</td>\n",
       "    </tr>\n",
       "    <tr>\n",
       "      <th>2</th>\n",
       "      <td>1631412000</td>\n",
       "      <td>30.67</td>\n",
       "      <td>37.67</td>\n",
       "      <td>1003</td>\n",
       "      <td>82</td>\n",
       "      <td>27.24</td>\n",
       "      <td>6.62</td>\n",
       "      <td>94</td>\n",
       "      <td>10000</td>\n",
       "      <td>3.16</td>\n",
       "      <td>277</td>\n",
       "      <td>3.94</td>\n",
       "      <td>[{'id': 804, 'main': 'Clouds', 'description': ...</td>\n",
       "      <td>0.71</td>\n",
       "      <td>NaN</td>\n",
       "    </tr>\n",
       "    <tr>\n",
       "      <th>3</th>\n",
       "      <td>1631415600</td>\n",
       "      <td>31.10</td>\n",
       "      <td>38.10</td>\n",
       "      <td>1003</td>\n",
       "      <td>77</td>\n",
       "      <td>26.59</td>\n",
       "      <td>9.44</td>\n",
       "      <td>95</td>\n",
       "      <td>10000</td>\n",
       "      <td>3.25</td>\n",
       "      <td>274</td>\n",
       "      <td>3.93</td>\n",
       "      <td>[{'id': 804, 'main': 'Clouds', 'description': ...</td>\n",
       "      <td>0.87</td>\n",
       "      <td>NaN</td>\n",
       "    </tr>\n",
       "    <tr>\n",
       "      <th>4</th>\n",
       "      <td>1631419200</td>\n",
       "      <td>31.64</td>\n",
       "      <td>38.64</td>\n",
       "      <td>1002</td>\n",
       "      <td>73</td>\n",
       "      <td>26.20</td>\n",
       "      <td>11.16</td>\n",
       "      <td>96</td>\n",
       "      <td>10000</td>\n",
       "      <td>3.78</td>\n",
       "      <td>261</td>\n",
       "      <td>4.55</td>\n",
       "      <td>[{'id': 804, 'main': 'Clouds', 'description': ...</td>\n",
       "      <td>0.79</td>\n",
       "      <td>NaN</td>\n",
       "    </tr>\n",
       "  </tbody>\n",
       "</table>\n",
       "</div>"
      ],
      "text/plain": [
       "           dt   temp  feels_like  pressure  humidity  dew_point    uvi  \\\n",
       "0  1631404800  30.38       37.38      1003        83      27.16   1.33   \n",
       "1  1631408400  30.60       37.60      1003        85      27.79   3.60   \n",
       "2  1631412000  30.67       37.67      1003        82      27.24   6.62   \n",
       "3  1631415600  31.10       38.10      1003        77      26.59   9.44   \n",
       "4  1631419200  31.64       38.64      1002        73      26.20  11.16   \n",
       "\n",
       "   clouds  visibility  wind_speed  wind_deg  wind_gust  \\\n",
       "0      89       10000        3.50       266       4.40   \n",
       "1      94       10000        3.65       270       4.55   \n",
       "2      94       10000        3.16       277       3.94   \n",
       "3      95       10000        3.25       274       3.93   \n",
       "4      96       10000        3.78       261       4.55   \n",
       "\n",
       "                                             weather   pop          rain  \n",
       "0  [{'id': 500, 'main': 'Rain', 'description': 'l...  1.00  {'1h': 0.65}  \n",
       "1  [{'id': 804, 'main': 'Clouds', 'description': ...  0.79           NaN  \n",
       "2  [{'id': 804, 'main': 'Clouds', 'description': ...  0.71           NaN  \n",
       "3  [{'id': 804, 'main': 'Clouds', 'description': ...  0.87           NaN  \n",
       "4  [{'id': 804, 'main': 'Clouds', 'description': ...  0.79           NaN  "
      ]
     },
     "execution_count": 10,
     "metadata": {},
     "output_type": "execute_result"
    }
   ],
   "source": [
    "df_hourly.head()"
   ]
  },
  {
   "cell_type": "code",
   "execution_count": null,
   "metadata": {},
   "outputs": [],
   "source": []
  }
 ],
 "metadata": {
  "interpreter": {
   "hash": "c1b4cfe941b6d2466ad1fb5979e97da9cda8801728c8091b097ab734208fc00c"
  },
  "kernelspec": {
   "display_name": "Python 3.8.3 64-bit ('base': conda)",
   "name": "python3"
  },
  "language_info": {
   "codemirror_mode": {
    "name": "ipython",
    "version": 3
   },
   "file_extension": ".py",
   "mimetype": "text/x-python",
   "name": "python",
   "nbconvert_exporter": "python",
   "pygments_lexer": "ipython3",
   "version": "3.8.11"
  }
 },
 "nbformat": 4,
 "nbformat_minor": 2
}
