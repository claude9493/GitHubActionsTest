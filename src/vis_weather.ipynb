{
 "cells": [
  {
   "cell_type": "code",
   "execution_count": 1,
   "metadata": {
    "execution": {
     "iopub.execute_input": "2021-09-17T00:41:58.282405Z",
     "iopub.status.busy": "2021-09-17T00:41:58.281756Z",
     "iopub.status.idle": "2021-09-17T00:41:59.492874Z",
     "shell.execute_reply": "2021-09-17T00:41:59.492259Z"
    }
   },
   "outputs": [],
   "source": [
    "import json, yaml, requests\r\n",
    "from datetime import datetime\r\n",
    "from dateutil import tz\r\n",
    "import pandas as pd\r\n",
    "from PIL import Image\r\n",
    "from io import BytesIO\r\n",
    "import matplotlib.pyplot as plt\r\n",
    "import seaborn\r\n",
    "\r\n",
    "CONFIG_PATH = \"../config/config.yaml\""
   ]
  },
  {
   "cell_type": "code",
   "execution_count": 2,
   "metadata": {
    "execution": {
     "iopub.execute_input": "2021-09-17T00:41:59.501012Z",
     "iopub.status.busy": "2021-09-17T00:41:59.497720Z",
     "iopub.status.idle": "2021-09-17T00:41:59.504303Z",
     "shell.execute_reply": "2021-09-17T00:41:59.503447Z"
    }
   },
   "outputs": [],
   "source": [
    "with open('../newest_ts', 'r') as f:\r\n",
    "    newest_ts = f.read()\r\n",
    "\r\n",
    "data_path = f\"../data/data_{newest_ts}.json\"\r\n",
    "with open(data_path, 'r') as f:\r\n",
    "    data = json.load(f)\r\n",
    "\r\n",
    "with open(CONFIG_PATH, \"r\") as stream:\r\n",
    "    config = yaml.safe_load(stream)\r\n",
    "\r\n",
    "TIME_ZONE = config['time_zone']\r\n",
    "DATETIME_FORMAT = config['dt_format']"
   ]
  },
  {
   "cell_type": "code",
   "execution_count": 3,
   "metadata": {
    "execution": {
     "iopub.execute_input": "2021-09-17T00:41:59.509098Z",
     "iopub.status.busy": "2021-09-17T00:41:59.508275Z",
     "iopub.status.idle": "2021-09-17T00:41:59.520553Z",
     "shell.execute_reply": "2021-09-17T00:41:59.521012Z"
    }
   },
   "outputs": [
    {
     "name": "stdout",
     "output_type": "stream",
     "text": [
      "Recent query happens at 2021-09-17 08:41:55 (CST).\n"
     ]
    }
   ],
   "source": [
    "def ts2dt(ts, format=DATETIME_FORMAT):\r\n",
    "    dt = (datetime.utcfromtimestamp(int(ts))\r\n",
    "                    .replace(tzinfo=tz.tzutc())\r\n",
    "                    # .astimezone(tz.tzlocal())\r\n",
    "                    .astimezone(tz.gettz(TIME_ZONE)))\r\n",
    "    return dt.strftime(format), dt\r\n",
    "\r\n",
    "_, newest_dt = ts2dt(newest_ts)\r\n",
    "print(f\"Recent query happens at {newest_dt.strftime(DATETIME_FORMAT)} ({newest_dt.tzname()}).\")"
   ]
  },
  {
   "cell_type": "code",
   "execution_count": 4,
   "metadata": {
    "execution": {
     "iopub.execute_input": "2021-09-17T00:41:59.525903Z",
     "iopub.status.busy": "2021-09-17T00:41:59.525379Z",
     "iopub.status.idle": "2021-09-17T00:41:59.529166Z",
     "shell.execute_reply": "2021-09-17T00:41:59.528394Z"
    }
   },
   "outputs": [],
   "source": [
    "def degrees_to_cardinal(d):\r\n",
    "  dirs = ['N', 'NNE', 'NE', 'ENE', 'E', 'ESE', 'SE', 'SSE', 'S', 'SSW', 'SW', 'WSW', 'W', 'WNW', 'NW', 'NNW']\r\n",
    "  ix = int(round(d / (360. / len(dirs))))\r\n",
    "  return dirs[ix % len(dirs)]"
   ]
  },
  {
   "cell_type": "code",
   "execution_count": 5,
   "metadata": {
    "execution": {
     "iopub.execute_input": "2021-09-17T00:41:59.532946Z",
     "iopub.status.busy": "2021-09-17T00:41:59.532432Z",
     "iopub.status.idle": "2021-09-17T00:41:59.535672Z",
     "shell.execute_reply": "2021-09-17T00:41:59.536234Z"
    }
   },
   "outputs": [],
   "source": [
    "# data.keys()"
   ]
  },
  {
   "cell_type": "code",
   "execution_count": 6,
   "metadata": {
    "execution": {
     "iopub.execute_input": "2021-09-17T00:41:59.539652Z",
     "iopub.status.busy": "2021-09-17T00:41:59.539090Z",
     "iopub.status.idle": "2021-09-17T00:41:59.541054Z",
     "shell.execute_reply": "2021-09-17T00:41:59.541504Z"
    }
   },
   "outputs": [],
   "source": [
    "# data['current']"
   ]
  },
  {
   "cell_type": "code",
   "execution_count": 7,
   "metadata": {
    "execution": {
     "iopub.execute_input": "2021-09-17T00:41:59.562179Z",
     "iopub.status.busy": "2021-09-17T00:41:59.561497Z",
     "iopub.status.idle": "2021-09-17T00:41:59.981582Z",
     "shell.execute_reply": "2021-09-17T00:41:59.982272Z"
    }
   },
   "outputs": [
    {
     "data": {
      "image/png": "[encoded data removed]",
      "text/plain": [
       "<Figure size 216x216 with 1 Axes>"
      ]
     },
     "metadata": {
      "needs_background": "light"
     },
     "output_type": "display_data"
    },
    {
     "name": "stdout",
     "output_type": "stream",
     "text": [
      "Today, sun rises at 06:10 and sets at 18:25.\n",
      "Currently, the weather is Clouds (broken clouds).\n",
      "The temperature is 29.36°C and it feels like 36°C.\n",
      "The UV index is 3.36, humidity is 81%.\n",
      "The pressure is 1010 hPa, percentage of cloud cover is 55%\n",
      "The wind comes from ENE direction with a speed 1.82 m/s.\n"
     ]
    }
   ],
   "source": [
    "current = data['current']\r\n",
    "\r\n",
    "fig, ax = plt.subplots(figsize=(3, 3))\r\n",
    "icon = requests.get(f\"http://openweathermap.org/img/wn/{current['weather'][0]['icon']}@2x.png\")\r\n",
    "im = Image.open(BytesIO(icon.content))\r\n",
    "plt.imshow(im)\r\n",
    "ax.set_axis_off()\r\n",
    "plt.show()\r\n",
    "\r\n",
    "print(f\"Today, sun rises at {ts2dt(current['sunrise'], '%H:%M')[0]} \\\r\n",
    "and sets at {ts2dt(current['sunset'], '%H:%M')[0]}.\\n\\\r\n",
    "Currently, the weather is {current['weather'][0]['main']} ({current['weather'][0]['description']}).\\n\\\r\n",
    "The temperature is {current['temp']}°C and it feels like {current['feels_like']}°C.\\n\\\r\n",
    "The UV index is {current['uvi']}, humidity is {current['humidity']}%.\\n\\\r\n",
    "The pressure is {current['pressure']} hPa, percentage of cloud cover is {current['clouds']}%\\n\\\r\n",
    "The wind comes from {degrees_to_cardinal(current['wind_deg'])} direction with a speed {current['wind_speed']} m/s.\")"
   ]
  },
  {
   "cell_type": "code",
   "execution_count": 8,
   "metadata": {
    "execution": {
     "iopub.execute_input": "2021-09-17T00:41:59.989953Z",
     "iopub.status.busy": "2021-09-17T00:41:59.989337Z",
     "iopub.status.idle": "2021-09-17T00:41:59.993116Z",
     "shell.execute_reply": "2021-09-17T00:41:59.993865Z"
    }
   },
   "outputs": [],
   "source": [
    "df_hourly = pd.DataFrame(data['hourly'])\r\n",
    "df_daily = pd.DataFrame(data['daily'])"
   ]
  },
  {
   "cell_type": "code",
   "execution_count": 9,
   "metadata": {
    "execution": {
     "iopub.execute_input": "2021-09-17T00:41:59.997590Z",
     "iopub.status.busy": "2021-09-17T00:41:59.996384Z",
     "iopub.status.idle": "2021-09-17T00:42:00.300534Z",
     "shell.execute_reply": "2021-09-17T00:42:00.300046Z"
    }
   },
   "outputs": [
    {
     "data": {
      "image/png": "[encoded data removed]",
      "text/plain": [
       "<Figure size 864x432 with 1 Axes>"
      ]
     },
     "metadata": {
      "needs_background": "light"
     },
     "output_type": "display_data"
    }
   ],
   "source": [
    "fig, ax = plt.subplots(figsize=(12, 6))\r\n",
    "plt.plot(df_hourly.temp, '.-', label='Temperature')\r\n",
    "plt.plot(df_hourly.feels_like, '.-', label='Feels Like')\r\n",
    "ax.set(title='Temperature in future 48 hours', xlabel='Time', ylabel='Temperature')\r\n",
    "ax.set_xticks(list(range(0, len(df_hourly), 2)))\r\n",
    "ax.set_xticklabels([ts2dt(ts, '%m-%d %H:%M')[0] for i, ts in enumerate(df_hourly.dt) if i%2==0], \r\n",
    "                   rotation=45, ha=\"right\")\r\n",
    "ax.locator_params(nbins=15, axis='y')\r\n",
    "plt.legend()\r\n",
    "plt.show()"
   ]
  },
  {
   "cell_type": "code",
   "execution_count": 10,
   "metadata": {
    "execution": {
     "iopub.execute_input": "2021-09-17T00:42:00.312033Z",
     "iopub.status.busy": "2021-09-17T00:42:00.304352Z",
     "iopub.status.idle": "2021-09-17T00:42:00.324263Z",
     "shell.execute_reply": "2021-09-17T00:42:00.323823Z"
    }
   },
   "outputs": [
    {
     "data": {
      "text/html": [
       "<div>\n",
       "<style scoped>\n",
       "    .dataframe tbody tr th:only-of-type {\n",
       "        vertical-align: middle;\n",
       "    }\n",
       "\n",
       "    .dataframe tbody tr th {\n",
       "        vertical-align: top;\n",
       "    }\n",
       "\n",
       "    .dataframe thead th {\n",
       "        text-align: right;\n",
       "    }\n",
       "</style>\n",
       "<table border=\"1\" class=\"dataframe\">\n",
       "  <thead>\n",
       "    <tr style=\"text-align: right;\">\n",
       "      <th></th>\n",
       "      <th>dt</th>\n",
       "      <th>temp</th>\n",
       "      <th>feels_like</th>\n",
       "      <th>pressure</th>\n",
       "      <th>humidity</th>\n",
       "      <th>dew_point</th>\n",
       "      <th>uvi</th>\n",
       "      <th>clouds</th>\n",
       "      <th>visibility</th>\n",
       "      <th>wind_speed</th>\n",
       "      <th>wind_deg</th>\n",
       "      <th>wind_gust</th>\n",
       "      <th>weather</th>\n",
       "      <th>pop</th>\n",
       "      <th>rain</th>\n",
       "    </tr>\n",
       "  </thead>\n",
       "  <tbody>\n",
       "    <tr>\n",
       "      <th>0</th>\n",
       "      <td>1631836800</td>\n",
       "      <td>29.23</td>\n",
       "      <td>35.16</td>\n",
       "      <td>1010</td>\n",
       "      <td>79</td>\n",
       "      <td>25.21</td>\n",
       "      <td>1.26</td>\n",
       "      <td>54</td>\n",
       "      <td>10000</td>\n",
       "      <td>1.39</td>\n",
       "      <td>13</td>\n",
       "      <td>1.55</td>\n",
       "      <td>[{'id': 803, 'main': 'Clouds', 'description': ...</td>\n",
       "      <td>0.54</td>\n",
       "      <td>NaN</td>\n",
       "    </tr>\n",
       "    <tr>\n",
       "      <th>1</th>\n",
       "      <td>1631840400</td>\n",
       "      <td>29.36</td>\n",
       "      <td>36.00</td>\n",
       "      <td>1010</td>\n",
       "      <td>81</td>\n",
       "      <td>25.76</td>\n",
       "      <td>3.36</td>\n",
       "      <td>55</td>\n",
       "      <td>10000</td>\n",
       "      <td>1.82</td>\n",
       "      <td>62</td>\n",
       "      <td>2.11</td>\n",
       "      <td>[{'id': 803, 'main': 'Clouds', 'description': ...</td>\n",
       "      <td>0.79</td>\n",
       "      <td>NaN</td>\n",
       "    </tr>\n",
       "    <tr>\n",
       "      <th>2</th>\n",
       "      <td>1631844000</td>\n",
       "      <td>29.29</td>\n",
       "      <td>35.33</td>\n",
       "      <td>1010</td>\n",
       "      <td>79</td>\n",
       "      <td>25.27</td>\n",
       "      <td>6.26</td>\n",
       "      <td>55</td>\n",
       "      <td>4889</td>\n",
       "      <td>2.33</td>\n",
       "      <td>84</td>\n",
       "      <td>2.65</td>\n",
       "      <td>[{'id': 803, 'main': 'Clouds', 'description': ...</td>\n",
       "      <td>0.89</td>\n",
       "      <td>NaN</td>\n",
       "    </tr>\n",
       "    <tr>\n",
       "      <th>3</th>\n",
       "      <td>1631847600</td>\n",
       "      <td>29.49</td>\n",
       "      <td>35.17</td>\n",
       "      <td>1010</td>\n",
       "      <td>76</td>\n",
       "      <td>24.81</td>\n",
       "      <td>8.98</td>\n",
       "      <td>51</td>\n",
       "      <td>10000</td>\n",
       "      <td>1.99</td>\n",
       "      <td>86</td>\n",
       "      <td>2.11</td>\n",
       "      <td>[{'id': 803, 'main': 'Clouds', 'description': ...</td>\n",
       "      <td>0.74</td>\n",
       "      <td>NaN</td>\n",
       "    </tr>\n",
       "    <tr>\n",
       "      <th>4</th>\n",
       "      <td>1631851200</td>\n",
       "      <td>29.85</td>\n",
       "      <td>35.15</td>\n",
       "      <td>1010</td>\n",
       "      <td>72</td>\n",
       "      <td>24.25</td>\n",
       "      <td>10.55</td>\n",
       "      <td>56</td>\n",
       "      <td>10000</td>\n",
       "      <td>1.73</td>\n",
       "      <td>84</td>\n",
       "      <td>1.67</td>\n",
       "      <td>[{'id': 803, 'main': 'Clouds', 'description': ...</td>\n",
       "      <td>0.74</td>\n",
       "      <td>NaN</td>\n",
       "    </tr>\n",
       "  </tbody>\n",
       "</table>\n",
       "</div>"
      ],
      "text/plain": [
       "           dt   temp  feels_like  pressure  humidity  dew_point    uvi  \\\n",
       "0  1631836800  29.23       35.16      1010        79      25.21   1.26   \n",
       "1  1631840400  29.36       36.00      1010        81      25.76   3.36   \n",
       "2  1631844000  29.29       35.33      1010        79      25.27   6.26   \n",
       "3  1631847600  29.49       35.17      1010        76      24.81   8.98   \n",
       "4  1631851200  29.85       35.15      1010        72      24.25  10.55   \n",
       "\n",
       "   clouds  visibility  wind_speed  wind_deg  wind_gust  \\\n",
       "0      54       10000        1.39        13       1.55   \n",
       "1      55       10000        1.82        62       2.11   \n",
       "2      55        4889        2.33        84       2.65   \n",
       "3      51       10000        1.99        86       2.11   \n",
       "4      56       10000        1.73        84       1.67   \n",
       "\n",
       "                                             weather   pop rain  \n",
       "0  [{'id': 803, 'main': 'Clouds', 'description': ...  0.54  NaN  \n",
       "1  [{'id': 803, 'main': 'Clouds', 'description': ...  0.79  NaN  \n",
       "2  [{'id': 803, 'main': 'Clouds', 'description': ...  0.89  NaN  \n",
       "3  [{'id': 803, 'main': 'Clouds', 'description': ...  0.74  NaN  \n",
       "4  [{'id': 803, 'main': 'Clouds', 'description': ...  0.74  NaN  "
      ]
     },
     "execution_count": 10,
     "metadata": {},
     "output_type": "execute_result"
    }
   ],
   "source": [
    "df_hourly.head()"
   ]
  },
  {
   "cell_type": "code",
   "execution_count": null,
   "metadata": {},
   "outputs": [],
   "source": []
  }
 ],
 "metadata": {
  "interpreter": {
   "hash": "c1b4cfe941b6d2466ad1fb5979e97da9cda8801728c8091b097ab734208fc00c"
  },
  "kernelspec": {
   "display_name": "Python 3.8.3 64-bit ('base': conda)",
   "name": "python3"
  },
  "language_info": {
   "codemirror_mode": {
    "name": "ipython",
    "version": 3
   },
   "file_extension": ".py",
   "mimetype": "text/x-python",
   "name": "python",
   "nbconvert_exporter": "python",
   "pygments_lexer": "ipython3",
   "version": "3.8.11"
  }
 },
 "nbformat": 4,
 "nbformat_minor": 2
}
