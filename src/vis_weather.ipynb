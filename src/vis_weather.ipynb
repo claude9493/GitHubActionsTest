{
 "cells": [
  {
   "cell_type": "code",
   "execution_count": 1,
   "metadata": {
    "execution": {
     "iopub.execute_input": "2021-08-23T03:46:14.795322Z",
     "iopub.status.busy": "2021-08-23T03:46:14.794181Z",
     "iopub.status.idle": "2021-08-23T03:46:17.925246Z",
     "shell.execute_reply": "2021-08-23T03:46:17.924065Z"
    }
   },
   "outputs": [],
   "source": [
    "import json, yaml, requests\r\n",
    "from datetime import datetime\r\n",
    "from dateutil import tz\r\n",
    "import pandas as pd\r\n",
    "from PIL import Image\r\n",
    "from io import BytesIO\r\n",
    "import matplotlib.pyplot as plt\r\n",
    "import seaborn\r\n",
    "\r\n",
    "CONFIG_PATH = \"../config/config.yaml\""
   ]
  },
  {
   "cell_type": "code",
   "execution_count": 2,
   "metadata": {
    "execution": {
     "iopub.execute_input": "2021-08-23T03:46:17.931111Z",
     "iopub.status.busy": "2021-08-23T03:46:17.930041Z",
     "iopub.status.idle": "2021-08-23T03:46:17.935878Z",
     "shell.execute_reply": "2021-08-23T03:46:17.935210Z"
    }
   },
   "outputs": [],
   "source": [
    "with open('../newest_ts', 'r') as f:\r\n",
    "    newest_ts = f.read()\r\n",
    "\r\n",
    "data_path = f\"../data/data_{newest_ts}.json\"\r\n",
    "with open(data_path, 'r') as f:\r\n",
    "    data = json.load(f)\r\n",
    "\r\n",
    "with open(CONFIG_PATH, \"r\") as stream:\r\n",
    "    config = yaml.safe_load(stream)\r\n",
    "\r\n",
    "TIME_ZONE = config['time_zone']\r\n",
    "DATETIME_FORMAT = config['dt_format']"
   ]
  },
  {
   "cell_type": "code",
   "execution_count": 3,
   "metadata": {
    "execution": {
     "iopub.execute_input": "2021-08-23T03:46:17.941080Z",
     "iopub.status.busy": "2021-08-23T03:46:17.940581Z",
     "iopub.status.idle": "2021-08-23T03:46:18.074907Z",
     "shell.execute_reply": "2021-08-23T03:46:18.074488Z"
    }
   },
   "outputs": [
    {
     "name": "stdout",
     "output_type": "stream",
     "text": [
      "Recent query happens at 2021-08-23 11:58:29 (CST).\n"
     ]
    }
   ],
   "source": [
    "def ts2dt(ts, format=DATETIME_FORMAT):\r\n",
    "    dt = (datetime.utcfromtimestamp(int(ts))\r\n",
    "                    .replace(tzinfo=tz.tzutc())\r\n",
    "                    # .astimezone(tz.tzlocal())\r\n",
    "                    .astimezone(tz.gettz(TIME_ZONE)))\r\n",
    "    return dt.strftime(format), dt\r\n",
    "\r\n",
    "_, newest_dt = ts2dt(newest_ts)\r\n",
    "print(f\"Recent query happens at {newest_dt.strftime(DATETIME_FORMAT)} ({newest_dt.tzname()}).\")"
   ]
  },
  {
   "cell_type": "code",
   "execution_count": 4,
   "metadata": {
    "execution": {
     "iopub.execute_input": "2021-08-23T03:46:18.079670Z",
     "iopub.status.busy": "2021-08-23T03:46:18.079141Z",
     "iopub.status.idle": "2021-08-23T03:46:18.082584Z",
     "shell.execute_reply": "2021-08-23T03:46:18.082126Z"
    }
   },
   "outputs": [],
   "source": [
    "def degrees_to_cardinal(d):\r\n",
    "  dirs = ['N', 'NNE', 'NE', 'ENE', 'E', 'ESE', 'SE', 'SSE', 'S', 'SSW', 'SW', 'WSW', 'W', 'WNW', 'NW', 'NNW']\r\n",
    "  ix = int(round(d / (360. / len(dirs))))\r\n",
    "  return dirs[ix % len(dirs)]"
   ]
  },
  {
   "cell_type": "code",
   "execution_count": 5,
   "metadata": {
    "execution": {
     "iopub.execute_input": "2021-08-23T03:46:18.088057Z",
     "iopub.status.busy": "2021-08-23T03:46:18.087607Z",
     "iopub.status.idle": "2021-08-23T03:46:18.092657Z",
     "shell.execute_reply": "2021-08-23T03:46:18.091945Z"
    }
   },
   "outputs": [],
   "source": [
    "# data.keys()"
   ]
  },
  {
   "cell_type": "code",
   "execution_count": 6,
   "metadata": {
    "execution": {
     "iopub.execute_input": "2021-08-23T03:46:18.095849Z",
     "iopub.status.busy": "2021-08-23T03:46:18.095332Z",
     "iopub.status.idle": "2021-08-23T03:46:18.098637Z",
     "shell.execute_reply": "2021-08-23T03:46:18.098266Z"
    }
   },
   "outputs": [],
   "source": [
    "# data['current']"
   ]
  },
  {
   "cell_type": "code",
   "execution_count": 7,
   "metadata": {
    "execution": {
     "iopub.execute_input": "2021-08-23T03:46:18.115258Z",
     "iopub.status.busy": "2021-08-23T03:46:18.114744Z",
     "iopub.status.idle": "2021-08-23T03:46:18.459178Z",
     "shell.execute_reply": "2021-08-23T03:46:18.459867Z"
    }
   },
   "outputs": [
    {
     "data": {
      "image/png": "[encoded data removed]",
      "text/plain": [
       "<Figure size 216x216 with 1 Axes>"
      ]
     },
     "metadata": {
      "needs_background": "light"
     },
     "output_type": "display_data"
    },
    {
     "name": "stdout",
     "output_type": "stream",
     "text": [
      "Today, sun rises at 06:03 and sets at 18:48.\n",
      "Currently, the weather is Clouds (scattered clouds).\n",
      "The UV index is 12.06, humidity is 69%.\n",
      "The pressure is 1008 hPa, percentage of cloud cover is 26%\n",
      "The wind comes from SW direction with a speed 4.66 m/s.\n"
     ]
    }
   ],
   "source": [
    "current = data['current']\r\n",
    "\r\n",
    "fig, ax = plt.subplots(figsize=(3, 3))\r\n",
    "icon = requests.get(f\"http://openweathermap.org/img/wn/{current['weather'][0]['icon']}@2x.png\")\r\n",
    "im = Image.open(BytesIO(icon.content))\r\n",
    "plt.imshow(im)\r\n",
    "ax.set_axis_off()\r\n",
    "plt.show()\r\n",
    "\r\n",
    "print(f\"Today, sun rises at {ts2dt(current['sunrise'], '%H:%M')[0]} \\\r\n",
    "and sets at {ts2dt(current['sunset'], '%H:%M')[0]}.\\n\\\r\n",
    "Currently, the weather is {current['weather'][0]['main']} ({current['weather'][0]['description']}).\\n\\\r\n",
    "The UV index is {current['uvi']}, humidity is {current['humidity']}%.\\n\\\r\n",
    "The pressure is {current['pressure']} hPa, percentage of cloud cover is {current['clouds']}%\\n\\\r\n",
    "The wind comes from {degrees_to_cardinal(current['wind_deg'])} direction with a speed {current['wind_speed']} m/s.\")"
   ]
  },
  {
   "cell_type": "code",
   "execution_count": 8,
   "metadata": {
    "execution": {
     "iopub.execute_input": "2021-08-23T03:46:18.463143Z",
     "iopub.status.busy": "2021-08-23T03:46:18.462176Z",
     "iopub.status.idle": "2021-08-23T03:46:18.469372Z",
     "shell.execute_reply": "2021-08-23T03:46:18.470120Z"
    }
   },
   "outputs": [],
   "source": [
    "df_hourly = pd.DataFrame(data['hourly'])\r\n",
    "df_daily = pd.DataFrame(data['daily'])"
   ]
  },
  {
   "cell_type": "code",
   "execution_count": 9,
   "metadata": {
    "execution": {
     "iopub.execute_input": "2021-08-23T03:46:18.473376Z",
     "iopub.status.busy": "2021-08-23T03:46:18.472407Z",
     "iopub.status.idle": "2021-08-23T03:46:18.747140Z",
     "shell.execute_reply": "2021-08-23T03:46:18.746682Z"
    }
   },
   "outputs": [
    {
     "data": {
      "image/png": "[encoded data removed]",
      "text/plain": [
       "<Figure size 864x432 with 1 Axes>"
      ]
     },
     "metadata": {
      "needs_background": "light"
     },
     "output_type": "display_data"
    }
   ],
   "source": [
    "fig, ax = plt.subplots(figsize=(12, 6))\r\n",
    "plt.plot(df_hourly.temp, '.-', label='Temperature')\r\n",
    "plt.plot(df_hourly.feels_like, '.-', label='Feels Like')\r\n",
    "ax.set(title='Temperature in future 48 hours', xlabel='Time', ylabel='Temperature')\r\n",
    "ax.set_xticks(list(range(0, len(df_hourly), 2)))\r\n",
    "ax.set_xticklabels([ts2dt(ts, '%m-%d %H:%M')[0] for i, ts in enumerate(df_hourly.dt) if i%2==0], \r\n",
    "                   rotation=45, ha=\"right\")\r\n",
    "ax.locator_params(nbins=15, axis='y')\r\n",
    "plt.legend()\r\n",
    "plt.show()"
   ]
  },
  {
   "cell_type": "code",
   "execution_count": 10,
   "metadata": {
    "execution": {
     "iopub.execute_input": "2021-08-23T03:46:18.766226Z",
     "iopub.status.busy": "2021-08-23T03:46:18.751313Z",
     "iopub.status.idle": "2021-08-23T03:46:18.771161Z",
     "shell.execute_reply": "2021-08-23T03:46:18.770685Z"
    }
   },
   "outputs": [
    {
     "data": {
      "text/html": [
       "<div>\n",
       "<style scoped>\n",
       "    .dataframe tbody tr th:only-of-type {\n",
       "        vertical-align: middle;\n",
       "    }\n",
       "\n",
       "    .dataframe tbody tr th {\n",
       "        vertical-align: top;\n",
       "    }\n",
       "\n",
       "    .dataframe thead th {\n",
       "        text-align: right;\n",
       "    }\n",
       "</style>\n",
       "<table border=\"1\" class=\"dataframe\">\n",
       "  <thead>\n",
       "    <tr style=\"text-align: right;\">\n",
       "      <th></th>\n",
       "      <th>dt</th>\n",
       "      <th>temp</th>\n",
       "      <th>feels_like</th>\n",
       "      <th>pressure</th>\n",
       "      <th>humidity</th>\n",
       "      <th>dew_point</th>\n",
       "      <th>uvi</th>\n",
       "      <th>clouds</th>\n",
       "      <th>visibility</th>\n",
       "      <th>wind_speed</th>\n",
       "      <th>wind_deg</th>\n",
       "      <th>wind_gust</th>\n",
       "      <th>weather</th>\n",
       "      <th>pop</th>\n",
       "      <th>rain</th>\n",
       "    </tr>\n",
       "  </thead>\n",
       "  <tbody>\n",
       "    <tr>\n",
       "      <th>0</th>\n",
       "      <td>1629687600</td>\n",
       "      <td>31.84</td>\n",
       "      <td>38.84</td>\n",
       "      <td>1008</td>\n",
       "      <td>69</td>\n",
       "      <td>25.44</td>\n",
       "      <td>10.47</td>\n",
       "      <td>26</td>\n",
       "      <td>10000</td>\n",
       "      <td>3.79</td>\n",
       "      <td>218</td>\n",
       "      <td>4.50</td>\n",
       "      <td>[{'id': 802, 'main': 'Clouds', 'description': ...</td>\n",
       "      <td>0.50</td>\n",
       "      <td>NaN</td>\n",
       "    </tr>\n",
       "    <tr>\n",
       "      <th>1</th>\n",
       "      <td>1629691200</td>\n",
       "      <td>32.24</td>\n",
       "      <td>39.24</td>\n",
       "      <td>1008</td>\n",
       "      <td>69</td>\n",
       "      <td>25.82</td>\n",
       "      <td>12.06</td>\n",
       "      <td>26</td>\n",
       "      <td>10000</td>\n",
       "      <td>4.66</td>\n",
       "      <td>219</td>\n",
       "      <td>4.81</td>\n",
       "      <td>[{'id': 802, 'main': 'Clouds', 'description': ...</td>\n",
       "      <td>0.49</td>\n",
       "      <td>NaN</td>\n",
       "    </tr>\n",
       "    <tr>\n",
       "      <th>2</th>\n",
       "      <td>1629694800</td>\n",
       "      <td>31.89</td>\n",
       "      <td>38.89</td>\n",
       "      <td>1008</td>\n",
       "      <td>69</td>\n",
       "      <td>25.49</td>\n",
       "      <td>11.88</td>\n",
       "      <td>29</td>\n",
       "      <td>10000</td>\n",
       "      <td>4.48</td>\n",
       "      <td>219</td>\n",
       "      <td>4.48</td>\n",
       "      <td>[{'id': 802, 'main': 'Clouds', 'description': ...</td>\n",
       "      <td>0.41</td>\n",
       "      <td>NaN</td>\n",
       "    </tr>\n",
       "    <tr>\n",
       "      <th>3</th>\n",
       "      <td>1629698400</td>\n",
       "      <td>31.53</td>\n",
       "      <td>38.40</td>\n",
       "      <td>1008</td>\n",
       "      <td>68</td>\n",
       "      <td>24.90</td>\n",
       "      <td>9.88</td>\n",
       "      <td>36</td>\n",
       "      <td>10000</td>\n",
       "      <td>4.33</td>\n",
       "      <td>207</td>\n",
       "      <td>4.33</td>\n",
       "      <td>[{'id': 802, 'main': 'Clouds', 'description': ...</td>\n",
       "      <td>0.46</td>\n",
       "      <td>NaN</td>\n",
       "    </tr>\n",
       "    <tr>\n",
       "      <th>4</th>\n",
       "      <td>1629702000</td>\n",
       "      <td>31.11</td>\n",
       "      <td>37.29</td>\n",
       "      <td>1007</td>\n",
       "      <td>68</td>\n",
       "      <td>24.50</td>\n",
       "      <td>6.78</td>\n",
       "      <td>70</td>\n",
       "      <td>10000</td>\n",
       "      <td>4.00</td>\n",
       "      <td>201</td>\n",
       "      <td>4.19</td>\n",
       "      <td>[{'id': 803, 'main': 'Clouds', 'description': ...</td>\n",
       "      <td>0.05</td>\n",
       "      <td>NaN</td>\n",
       "    </tr>\n",
       "  </tbody>\n",
       "</table>\n",
       "</div>"
      ],
      "text/plain": [
       "           dt   temp  feels_like  pressure  humidity  dew_point    uvi  \\\n",
       "0  1629687600  31.84       38.84      1008        69      25.44  10.47   \n",
       "1  1629691200  32.24       39.24      1008        69      25.82  12.06   \n",
       "2  1629694800  31.89       38.89      1008        69      25.49  11.88   \n",
       "3  1629698400  31.53       38.40      1008        68      24.90   9.88   \n",
       "4  1629702000  31.11       37.29      1007        68      24.50   6.78   \n",
       "\n",
       "   clouds  visibility  wind_speed  wind_deg  wind_gust  \\\n",
       "0      26       10000        3.79       218       4.50   \n",
       "1      26       10000        4.66       219       4.81   \n",
       "2      29       10000        4.48       219       4.48   \n",
       "3      36       10000        4.33       207       4.33   \n",
       "4      70       10000        4.00       201       4.19   \n",
       "\n",
       "                                             weather   pop rain  \n",
       "0  [{'id': 802, 'main': 'Clouds', 'description': ...  0.50  NaN  \n",
       "1  [{'id': 802, 'main': 'Clouds', 'description': ...  0.49  NaN  \n",
       "2  [{'id': 802, 'main': 'Clouds', 'description': ...  0.41  NaN  \n",
       "3  [{'id': 802, 'main': 'Clouds', 'description': ...  0.46  NaN  \n",
       "4  [{'id': 803, 'main': 'Clouds', 'description': ...  0.05  NaN  "
      ]
     },
     "execution_count": 10,
     "metadata": {},
     "output_type": "execute_result"
    }
   ],
   "source": [
    "df_hourly.head()"
   ]
  },
  {
   "cell_type": "code",
   "execution_count": null,
   "metadata": {},
   "outputs": [],
   "source": []
  }
 ],
 "metadata": {
  "interpreter": {
   "hash": "c1b4cfe941b6d2466ad1fb5979e97da9cda8801728c8091b097ab734208fc00c"
  },
  "kernelspec": {
   "display_name": "Python 3.8.3 64-bit ('base': conda)",
   "name": "python3"
  },
  "language_info": {
   "codemirror_mode": {
    "name": "ipython",
    "version": 3
   },
   "file_extension": ".py",
   "mimetype": "text/x-python",
   "name": "python",
   "nbconvert_exporter": "python",
   "pygments_lexer": "ipython3",
   "version": "3.8.3"
  }
 },
 "nbformat": 4,
 "nbformat_minor": 2
}
