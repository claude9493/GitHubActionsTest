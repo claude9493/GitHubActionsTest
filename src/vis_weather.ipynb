{
 "cells": [
  {
   "cell_type": "code",
   "execution_count": 1,
   "metadata": {
    "execution": {
     "iopub.execute_input": "2021-09-02T19:12:24.533451Z",
     "iopub.status.busy": "2021-09-02T19:12:24.532450Z",
     "iopub.status.idle": "2021-09-02T19:12:26.010372Z",
     "shell.execute_reply": "2021-09-02T19:12:26.009364Z"
    }
   },
   "outputs": [],
   "source": [
    "import json, yaml, requests\r\n",
    "from datetime import datetime\r\n",
    "from dateutil import tz\r\n",
    "import pandas as pd\r\n",
    "from PIL import Image\r\n",
    "from io import BytesIO\r\n",
    "import matplotlib.pyplot as plt\r\n",
    "import seaborn\r\n",
    "\r\n",
    "CONFIG_PATH = \"../config/config.yaml\""
   ]
  },
  {
   "cell_type": "code",
   "execution_count": 2,
   "metadata": {
    "execution": {
     "iopub.execute_input": "2021-09-02T19:12:26.015891Z",
     "iopub.status.busy": "2021-09-02T19:12:26.015374Z",
     "iopub.status.idle": "2021-09-02T19:12:26.020822Z",
     "shell.execute_reply": "2021-09-02T19:12:26.020369Z"
    }
   },
   "outputs": [],
   "source": [
    "with open('../newest_ts', 'r') as f:\r\n",
    "    newest_ts = f.read()\r\n",
    "\r\n",
    "data_path = f\"../data/data_{newest_ts}.json\"\r\n",
    "with open(data_path, 'r') as f:\r\n",
    "    data = json.load(f)\r\n",
    "\r\n",
    "with open(CONFIG_PATH, \"r\") as stream:\r\n",
    "    config = yaml.safe_load(stream)\r\n",
    "\r\n",
    "TIME_ZONE = config['time_zone']\r\n",
    "DATETIME_FORMAT = config['dt_format']"
   ]
  },
  {
   "cell_type": "code",
   "execution_count": 3,
   "metadata": {
    "execution": {
     "iopub.execute_input": "2021-09-02T19:12:26.025881Z",
     "iopub.status.busy": "2021-09-02T19:12:26.025356Z",
     "iopub.status.idle": "2021-09-02T19:12:26.059013Z",
     "shell.execute_reply": "2021-09-02T19:12:26.059480Z"
    }
   },
   "outputs": [
    {
     "name": "stdout",
     "output_type": "stream",
     "text": [
      "Recent query happens at 2021-09-03 03:12:21 (CST).\n"
     ]
    }
   ],
   "source": [
    "def ts2dt(ts, format=DATETIME_FORMAT):\r\n",
    "    dt = (datetime.utcfromtimestamp(int(ts))\r\n",
    "                    .replace(tzinfo=tz.tzutc())\r\n",
    "                    # .astimezone(tz.tzlocal())\r\n",
    "                    .astimezone(tz.gettz(TIME_ZONE)))\r\n",
    "    return dt.strftime(format), dt\r\n",
    "\r\n",
    "_, newest_dt = ts2dt(newest_ts)\r\n",
    "print(f\"Recent query happens at {newest_dt.strftime(DATETIME_FORMAT)} ({newest_dt.tzname()}).\")"
   ]
  },
  {
   "cell_type": "code",
   "execution_count": 4,
   "metadata": {
    "execution": {
     "iopub.execute_input": "2021-09-02T19:12:26.065464Z",
     "iopub.status.busy": "2021-09-02T19:12:26.064161Z",
     "iopub.status.idle": "2021-09-02T19:12:26.066070Z",
     "shell.execute_reply": "2021-09-02T19:12:26.066497Z"
    }
   },
   "outputs": [],
   "source": [
    "def degrees_to_cardinal(d):\r\n",
    "  dirs = ['N', 'NNE', 'NE', 'ENE', 'E', 'ESE', 'SE', 'SSE', 'S', 'SSW', 'SW', 'WSW', 'W', 'WNW', 'NW', 'NNW']\r\n",
    "  ix = int(round(d / (360. / len(dirs))))\r\n",
    "  return dirs[ix % len(dirs)]"
   ]
  },
  {
   "cell_type": "code",
   "execution_count": 5,
   "metadata": {
    "execution": {
     "iopub.execute_input": "2021-09-02T19:12:26.071176Z",
     "iopub.status.busy": "2021-09-02T19:12:26.069927Z",
     "iopub.status.idle": "2021-09-02T19:12:26.071774Z",
     "shell.execute_reply": "2021-09-02T19:12:26.072196Z"
    }
   },
   "outputs": [],
   "source": [
    "# data.keys()"
   ]
  },
  {
   "cell_type": "code",
   "execution_count": 6,
   "metadata": {
    "execution": {
     "iopub.execute_input": "2021-09-02T19:12:26.076718Z",
     "iopub.status.busy": "2021-09-02T19:12:26.075404Z",
     "iopub.status.idle": "2021-09-02T19:12:26.077320Z",
     "shell.execute_reply": "2021-09-02T19:12:26.077747Z"
    }
   },
   "outputs": [],
   "source": [
    "# data['current']"
   ]
  },
  {
   "cell_type": "code",
   "execution_count": 7,
   "metadata": {
    "execution": {
     "iopub.execute_input": "2021-09-02T19:12:26.103695Z",
     "iopub.status.busy": "2021-09-02T19:12:26.103160Z",
     "iopub.status.idle": "2021-09-02T19:12:26.410665Z",
     "shell.execute_reply": "2021-09-02T19:12:26.411447Z"
    }
   },
   "outputs": [
    {
     "data": {
      "image/png": "[encoded data removed]",
      "text/plain": [
       "<Figure size 216x216 with 1 Axes>"
      ]
     },
     "metadata": {
      "needs_background": "light"
     },
     "output_type": "display_data"
    },
    {
     "name": "stdout",
     "output_type": "stream",
     "text": [
      "Today, sun rises at 06:06 and sets at 18:38.\n",
      "Currently, the weather is Clouds (scattered clouds).\n",
      "The temperature is 28.03°C and it feels like 32.17°C.\n",
      "The UV index is 0, humidity is 80%.\n",
      "The pressure is 1007 hPa, percentage of cloud cover is 46%\n",
      "The wind comes from SE direction with a speed 1.52 m/s.\n"
     ]
    }
   ],
   "source": [
    "current = data['current']\r\n",
    "\r\n",
    "fig, ax = plt.subplots(figsize=(3, 3))\r\n",
    "icon = requests.get(f\"http://openweathermap.org/img/wn/{current['weather'][0]['icon']}@2x.png\")\r\n",
    "im = Image.open(BytesIO(icon.content))\r\n",
    "plt.imshow(im)\r\n",
    "ax.set_axis_off()\r\n",
    "plt.show()\r\n",
    "\r\n",
    "print(f\"Today, sun rises at {ts2dt(current['sunrise'], '%H:%M')[0]} \\\r\n",
    "and sets at {ts2dt(current['sunset'], '%H:%M')[0]}.\\n\\\r\n",
    "Currently, the weather is {current['weather'][0]['main']} ({current['weather'][0]['description']}).\\n\\\r\n",
    "The temperature is {current['temp']}°C and it feels like {current['feels_like']}°C.\\n\\\r\n",
    "The UV index is {current['uvi']}, humidity is {current['humidity']}%.\\n\\\r\n",
    "The pressure is {current['pressure']} hPa, percentage of cloud cover is {current['clouds']}%\\n\\\r\n",
    "The wind comes from {degrees_to_cardinal(current['wind_deg'])} direction with a speed {current['wind_speed']} m/s.\")"
   ]
  },
  {
   "cell_type": "code",
   "execution_count": 8,
   "metadata": {
    "execution": {
     "iopub.execute_input": "2021-09-02T19:12:26.414798Z",
     "iopub.status.busy": "2021-09-02T19:12:26.414267Z",
     "iopub.status.idle": "2021-09-02T19:12:26.421571Z",
     "shell.execute_reply": "2021-09-02T19:12:26.422295Z"
    }
   },
   "outputs": [],
   "source": [
    "df_hourly = pd.DataFrame(data['hourly'])\r\n",
    "df_daily = pd.DataFrame(data['daily'])"
   ]
  },
  {
   "cell_type": "code",
   "execution_count": 9,
   "metadata": {
    "execution": {
     "iopub.execute_input": "2021-09-02T19:12:26.425807Z",
     "iopub.status.busy": "2021-09-02T19:12:26.424747Z",
     "iopub.status.idle": "2021-09-02T19:12:26.700565Z",
     "shell.execute_reply": "2021-09-02T19:12:26.700922Z"
    }
   },
   "outputs": [
    {
     "data": {
      "image/png": "[encoded data removed]",
      "text/plain": [
       "<Figure size 864x432 with 1 Axes>"
      ]
     },
     "metadata": {
      "needs_background": "light"
     },
     "output_type": "display_data"
    }
   ],
   "source": [
    "fig, ax = plt.subplots(figsize=(12, 6))\r\n",
    "plt.plot(df_hourly.temp, '.-', label='Temperature')\r\n",
    "plt.plot(df_hourly.feels_like, '.-', label='Feels Like')\r\n",
    "ax.set(title='Temperature in future 48 hours', xlabel='Time', ylabel='Temperature')\r\n",
    "ax.set_xticks(list(range(0, len(df_hourly), 2)))\r\n",
    "ax.set_xticklabels([ts2dt(ts, '%m-%d %H:%M')[0] for i, ts in enumerate(df_hourly.dt) if i%2==0], \r\n",
    "                   rotation=45, ha=\"right\")\r\n",
    "ax.locator_params(nbins=15, axis='y')\r\n",
    "plt.legend()\r\n",
    "plt.show()"
   ]
  },
  {
   "cell_type": "code",
   "execution_count": 10,
   "metadata": {
    "execution": {
     "iopub.execute_input": "2021-09-02T19:12:26.704732Z",
     "iopub.status.busy": "2021-09-02T19:12:26.702919Z",
     "iopub.status.idle": "2021-09-02T19:12:26.721667Z",
     "shell.execute_reply": "2021-09-02T19:12:26.721251Z"
    }
   },
   "outputs": [
    {
     "data": {
      "text/html": [
       "<div>\n",
       "<style scoped>\n",
       "    .dataframe tbody tr th:only-of-type {\n",
       "        vertical-align: middle;\n",
       "    }\n",
       "\n",
       "    .dataframe tbody tr th {\n",
       "        vertical-align: top;\n",
       "    }\n",
       "\n",
       "    .dataframe thead th {\n",
       "        text-align: right;\n",
       "    }\n",
       "</style>\n",
       "<table border=\"1\" class=\"dataframe\">\n",
       "  <thead>\n",
       "    <tr style=\"text-align: right;\">\n",
       "      <th></th>\n",
       "      <th>dt</th>\n",
       "      <th>temp</th>\n",
       "      <th>feels_like</th>\n",
       "      <th>pressure</th>\n",
       "      <th>humidity</th>\n",
       "      <th>dew_point</th>\n",
       "      <th>uvi</th>\n",
       "      <th>clouds</th>\n",
       "      <th>visibility</th>\n",
       "      <th>wind_speed</th>\n",
       "      <th>wind_deg</th>\n",
       "      <th>wind_gust</th>\n",
       "      <th>weather</th>\n",
       "      <th>pop</th>\n",
       "      <th>rain</th>\n",
       "    </tr>\n",
       "  </thead>\n",
       "  <tbody>\n",
       "    <tr>\n",
       "      <th>0</th>\n",
       "      <td>1630609200</td>\n",
       "      <td>28.03</td>\n",
       "      <td>32.17</td>\n",
       "      <td>1007</td>\n",
       "      <td>80</td>\n",
       "      <td>24.25</td>\n",
       "      <td>0.00</td>\n",
       "      <td>46</td>\n",
       "      <td>10000</td>\n",
       "      <td>1.52</td>\n",
       "      <td>125</td>\n",
       "      <td>2.07</td>\n",
       "      <td>[{'id': 802, 'main': 'Clouds', 'description': ...</td>\n",
       "      <td>0.0</td>\n",
       "      <td>NaN</td>\n",
       "    </tr>\n",
       "    <tr>\n",
       "      <th>1</th>\n",
       "      <td>1630612800</td>\n",
       "      <td>27.92</td>\n",
       "      <td>32.05</td>\n",
       "      <td>1007</td>\n",
       "      <td>81</td>\n",
       "      <td>24.35</td>\n",
       "      <td>0.00</td>\n",
       "      <td>51</td>\n",
       "      <td>10000</td>\n",
       "      <td>1.16</td>\n",
       "      <td>129</td>\n",
       "      <td>1.57</td>\n",
       "      <td>[{'id': 803, 'main': 'Clouds', 'description': ...</td>\n",
       "      <td>0.0</td>\n",
       "      <td>NaN</td>\n",
       "    </tr>\n",
       "    <tr>\n",
       "      <th>2</th>\n",
       "      <td>1630616400</td>\n",
       "      <td>27.77</td>\n",
       "      <td>31.67</td>\n",
       "      <td>1007</td>\n",
       "      <td>81</td>\n",
       "      <td>24.21</td>\n",
       "      <td>0.00</td>\n",
       "      <td>55</td>\n",
       "      <td>10000</td>\n",
       "      <td>0.57</td>\n",
       "      <td>114</td>\n",
       "      <td>0.98</td>\n",
       "      <td>[{'id': 803, 'main': 'Clouds', 'description': ...</td>\n",
       "      <td>0.0</td>\n",
       "      <td>NaN</td>\n",
       "    </tr>\n",
       "    <tr>\n",
       "      <th>3</th>\n",
       "      <td>1630620000</td>\n",
       "      <td>27.56</td>\n",
       "      <td>31.15</td>\n",
       "      <td>1007</td>\n",
       "      <td>81</td>\n",
       "      <td>24.00</td>\n",
       "      <td>0.00</td>\n",
       "      <td>56</td>\n",
       "      <td>10000</td>\n",
       "      <td>0.43</td>\n",
       "      <td>122</td>\n",
       "      <td>0.71</td>\n",
       "      <td>[{'id': 803, 'main': 'Clouds', 'description': ...</td>\n",
       "      <td>0.0</td>\n",
       "      <td>NaN</td>\n",
       "    </tr>\n",
       "    <tr>\n",
       "      <th>4</th>\n",
       "      <td>1630623600</td>\n",
       "      <td>27.60</td>\n",
       "      <td>31.12</td>\n",
       "      <td>1007</td>\n",
       "      <td>80</td>\n",
       "      <td>23.84</td>\n",
       "      <td>0.32</td>\n",
       "      <td>53</td>\n",
       "      <td>10000</td>\n",
       "      <td>0.35</td>\n",
       "      <td>84</td>\n",
       "      <td>0.60</td>\n",
       "      <td>[{'id': 803, 'main': 'Clouds', 'description': ...</td>\n",
       "      <td>0.0</td>\n",
       "      <td>NaN</td>\n",
       "    </tr>\n",
       "  </tbody>\n",
       "</table>\n",
       "</div>"
      ],
      "text/plain": [
       "           dt   temp  feels_like  pressure  humidity  dew_point   uvi  clouds  \\\n",
       "0  1630609200  28.03       32.17      1007        80      24.25  0.00      46   \n",
       "1  1630612800  27.92       32.05      1007        81      24.35  0.00      51   \n",
       "2  1630616400  27.77       31.67      1007        81      24.21  0.00      55   \n",
       "3  1630620000  27.56       31.15      1007        81      24.00  0.00      56   \n",
       "4  1630623600  27.60       31.12      1007        80      23.84  0.32      53   \n",
       "\n",
       "   visibility  wind_speed  wind_deg  wind_gust  \\\n",
       "0       10000        1.52       125       2.07   \n",
       "1       10000        1.16       129       1.57   \n",
       "2       10000        0.57       114       0.98   \n",
       "3       10000        0.43       122       0.71   \n",
       "4       10000        0.35        84       0.60   \n",
       "\n",
       "                                             weather  pop rain  \n",
       "0  [{'id': 802, 'main': 'Clouds', 'description': ...  0.0  NaN  \n",
       "1  [{'id': 803, 'main': 'Clouds', 'description': ...  0.0  NaN  \n",
       "2  [{'id': 803, 'main': 'Clouds', 'description': ...  0.0  NaN  \n",
       "3  [{'id': 803, 'main': 'Clouds', 'description': ...  0.0  NaN  \n",
       "4  [{'id': 803, 'main': 'Clouds', 'description': ...  0.0  NaN  "
      ]
     },
     "execution_count": 10,
     "metadata": {},
     "output_type": "execute_result"
    }
   ],
   "source": [
    "df_hourly.head()"
   ]
  },
  {
   "cell_type": "code",
   "execution_count": null,
   "metadata": {},
   "outputs": [],
   "source": []
  }
 ],
 "metadata": {
  "interpreter": {
   "hash": "c1b4cfe941b6d2466ad1fb5979e97da9cda8801728c8091b097ab734208fc00c"
  },
  "kernelspec": {
   "display_name": "Python 3.8.3 64-bit ('base': conda)",
   "name": "python3"
  },
  "language_info": {
   "codemirror_mode": {
    "name": "ipython",
    "version": 3
   },
   "file_extension": ".py",
   "mimetype": "text/x-python",
   "name": "python",
   "nbconvert_exporter": "python",
   "pygments_lexer": "ipython3",
   "version": "3.8.11"
  }
 },
 "nbformat": 4,
 "nbformat_minor": 2
}
