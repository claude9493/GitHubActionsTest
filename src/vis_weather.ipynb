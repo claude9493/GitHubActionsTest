{
 "cells": [
  {
   "cell_type": "code",
   "execution_count": 1,
   "metadata": {
    "execution": {
     "iopub.execute_input": "2021-09-26T22:11:15.528050Z",
     "iopub.status.busy": "2021-09-26T22:11:15.527335Z",
     "iopub.status.idle": "2021-09-26T22:11:19.578266Z",
     "shell.execute_reply": "2021-09-26T22:11:19.577547Z"
    }
   },
   "outputs": [],
   "source": [
    "import json, yaml, requests\r\n",
    "from datetime import datetime\r\n",
    "from dateutil import tz\r\n",
    "import pandas as pd\r\n",
    "from PIL import Image\r\n",
    "from io import BytesIO\r\n",
    "import matplotlib.pyplot as plt\r\n",
    "import seaborn\r\n",
    "\r\n",
    "CONFIG_PATH = \"../config/config.yaml\""
   ]
  },
  {
   "cell_type": "code",
   "execution_count": 2,
   "metadata": {
    "execution": {
     "iopub.execute_input": "2021-09-26T22:11:19.584718Z",
     "iopub.status.busy": "2021-09-26T22:11:19.584008Z",
     "iopub.status.idle": "2021-09-26T22:11:19.590069Z",
     "shell.execute_reply": "2021-09-26T22:11:19.590630Z"
    }
   },
   "outputs": [],
   "source": [
    "with open('../newest_ts', 'r') as f:\r\n",
    "    newest_ts = f.read()\r\n",
    "\r\n",
    "data_path = f\"../data/data_{newest_ts}.json\"\r\n",
    "with open(data_path, 'r') as f:\r\n",
    "    data = json.load(f)\r\n",
    "\r\n",
    "with open(CONFIG_PATH, \"r\") as stream:\r\n",
    "    config = yaml.safe_load(stream)\r\n",
    "\r\n",
    "TIME_ZONE = config['time_zone']\r\n",
    "DATETIME_FORMAT = config['dt_format']"
   ]
  },
  {
   "cell_type": "code",
   "execution_count": 3,
   "metadata": {
    "execution": {
     "iopub.execute_input": "2021-09-26T22:11:19.596421Z",
     "iopub.status.busy": "2021-09-26T22:11:19.595728Z",
     "iopub.status.idle": "2021-09-26T22:11:19.609609Z",
     "shell.execute_reply": "2021-09-26T22:11:19.610193Z"
    }
   },
   "outputs": [
    {
     "name": "stdout",
     "output_type": "stream",
     "text": [
      "Recent query happens at 2021-09-27 06:11:11 (CST).\n"
     ]
    }
   ],
   "source": [
    "def ts2dt(ts, format=DATETIME_FORMAT):\r\n",
    "    dt = (datetime.utcfromtimestamp(int(ts))\r\n",
    "                    .replace(tzinfo=tz.tzutc())\r\n",
    "                    # .astimezone(tz.tzlocal())\r\n",
    "                    .astimezone(tz.gettz(TIME_ZONE)))\r\n",
    "    return dt.strftime(format), dt\r\n",
    "\r\n",
    "_, newest_dt = ts2dt(newest_ts)\r\n",
    "print(f\"Recent query happens at {newest_dt.strftime(DATETIME_FORMAT)} ({newest_dt.tzname()}).\")"
   ]
  },
  {
   "cell_type": "code",
   "execution_count": 4,
   "metadata": {
    "execution": {
     "iopub.execute_input": "2021-09-26T22:11:19.617492Z",
     "iopub.status.busy": "2021-09-26T22:11:19.615897Z",
     "iopub.status.idle": "2021-09-26T22:11:19.618229Z",
     "shell.execute_reply": "2021-09-26T22:11:19.618780Z"
    }
   },
   "outputs": [],
   "source": [
    "def degrees_to_cardinal(d):\r\n",
    "  dirs = ['N', 'NNE', 'NE', 'ENE', 'E', 'ESE', 'SE', 'SSE', 'S', 'SSW', 'SW', 'WSW', 'W', 'WNW', 'NW', 'NNW']\r\n",
    "  ix = int(round(d / (360. / len(dirs))))\r\n",
    "  return dirs[ix % len(dirs)]"
   ]
  },
  {
   "cell_type": "code",
   "execution_count": 5,
   "metadata": {
    "execution": {
     "iopub.execute_input": "2021-09-26T22:11:19.625534Z",
     "iopub.status.busy": "2021-09-26T22:11:19.623649Z",
     "iopub.status.idle": "2021-09-26T22:11:19.626350Z",
     "shell.execute_reply": "2021-09-26T22:11:19.626878Z"
    }
   },
   "outputs": [],
   "source": [
    "# data.keys()"
   ]
  },
  {
   "cell_type": "code",
   "execution_count": 6,
   "metadata": {
    "execution": {
     "iopub.execute_input": "2021-09-26T22:11:19.632571Z",
     "iopub.status.busy": "2021-09-26T22:11:19.630955Z",
     "iopub.status.idle": "2021-09-26T22:11:19.633299Z",
     "shell.execute_reply": "2021-09-26T22:11:19.633836Z"
    }
   },
   "outputs": [],
   "source": [
    "# data['current']"
   ]
  },
  {
   "cell_type": "code",
   "execution_count": 7,
   "metadata": {
    "execution": {
     "iopub.execute_input": "2021-09-26T22:11:19.657187Z",
     "iopub.status.busy": "2021-09-26T22:11:19.652092Z",
     "iopub.status.idle": "2021-09-26T22:11:20.010148Z",
     "shell.execute_reply": "2021-09-26T22:11:20.011049Z"
    }
   },
   "outputs": [
    {
     "data": {
      "image/png": "[encoded data removed]",
      "text/plain": [
       "<Figure size 216x216 with 1 Axes>"
      ]
     },
     "metadata": {
      "needs_background": "light"
     },
     "output_type": "display_data"
    },
    {
     "name": "stdout",
     "output_type": "stream",
     "text": [
      "Today, sun rises at 06:13 and sets at 18:14.\n",
      "Currently, the weather is Clouds (few clouds).\n",
      "The temperature is 27.46°C and it feels like 31.29°C.\n",
      "The UV index is 0, humidity is 84%.\n",
      "The pressure is 1010 hPa, percentage of cloud cover is 13%\n",
      "The wind comes from N direction with a speed 0.45 m/s.\n"
     ]
    }
   ],
   "source": [
    "current = data['current']\r\n",
    "\r\n",
    "fig, ax = plt.subplots(figsize=(3, 3))\r\n",
    "icon = requests.get(f\"http://openweathermap.org/img/wn/{current['weather'][0]['icon']}@2x.png\")\r\n",
    "im = Image.open(BytesIO(icon.content))\r\n",
    "plt.imshow(im)\r\n",
    "ax.set_axis_off()\r\n",
    "plt.show()\r\n",
    "\r\n",
    "print(f\"Today, sun rises at {ts2dt(current['sunrise'], '%H:%M')[0]} \\\r\n",
    "and sets at {ts2dt(current['sunset'], '%H:%M')[0]}.\\n\\\r\n",
    "Currently, the weather is {current['weather'][0]['main']} ({current['weather'][0]['description']}).\\n\\\r\n",
    "The temperature is {current['temp']}°C and it feels like {current['feels_like']}°C.\\n\\\r\n",
    "The UV index is {current['uvi']}, humidity is {current['humidity']}%.\\n\\\r\n",
    "The pressure is {current['pressure']} hPa, percentage of cloud cover is {current['clouds']}%\\n\\\r\n",
    "The wind comes from {degrees_to_cardinal(current['wind_deg'])} direction with a speed {current['wind_speed']} m/s.\")"
   ]
  },
  {
   "cell_type": "code",
   "execution_count": 8,
   "metadata": {
    "execution": {
     "iopub.execute_input": "2021-09-26T22:11:20.015581Z",
     "iopub.status.busy": "2021-09-26T22:11:20.014243Z",
     "iopub.status.idle": "2021-09-26T22:11:20.023472Z",
     "shell.execute_reply": "2021-09-26T22:11:20.024599Z"
    }
   },
   "outputs": [],
   "source": [
    "df_hourly = pd.DataFrame(data['hourly'])\r\n",
    "df_daily = pd.DataFrame(data['daily'])"
   ]
  },
  {
   "cell_type": "code",
   "execution_count": 9,
   "metadata": {
    "execution": {
     "iopub.execute_input": "2021-09-26T22:11:20.028592Z",
     "iopub.status.busy": "2021-09-26T22:11:20.027357Z",
     "iopub.status.idle": "2021-09-26T22:11:20.387859Z",
     "shell.execute_reply": "2021-09-26T22:11:20.388371Z"
    }
   },
   "outputs": [
    {
     "data": {
      "image/png": "[encoded data removed]",
      "text/plain": [
       "<Figure size 864x432 with 1 Axes>"
      ]
     },
     "metadata": {
      "needs_background": "light"
     },
     "output_type": "display_data"
    }
   ],
   "source": [
    "fig, ax = plt.subplots(figsize=(12, 6))\r\n",
    "plt.plot(df_hourly.temp, '.-', label='Temperature')\r\n",
    "plt.plot(df_hourly.feels_like, '.-', label='Feels Like')\r\n",
    "ax.set(title='Temperature in future 48 hours', xlabel='Time', ylabel='Temperature')\r\n",
    "ax.set_xticks(list(range(0, len(df_hourly), 2)))\r\n",
    "ax.set_xticklabels([ts2dt(ts, '%m-%d %H:%M')[0] for i, ts in enumerate(df_hourly.dt) if i%2==0], \r\n",
    "                   rotation=45, ha=\"right\")\r\n",
    "ax.locator_params(nbins=15, axis='y')\r\n",
    "plt.legend()\r\n",
    "plt.show()"
   ]
  },
  {
   "cell_type": "code",
   "execution_count": 10,
   "metadata": {
    "execution": {
     "iopub.execute_input": "2021-09-26T22:11:20.394681Z",
     "iopub.status.busy": "2021-09-26T22:11:20.393958Z",
     "iopub.status.idle": "2021-09-26T22:11:20.417438Z",
     "shell.execute_reply": "2021-09-26T22:11:20.416882Z"
    }
   },
   "outputs": [
    {
     "data": {
      "text/html": [
       "<div>\n",
       "<style scoped>\n",
       "    .dataframe tbody tr th:only-of-type {\n",
       "        vertical-align: middle;\n",
       "    }\n",
       "\n",
       "    .dataframe tbody tr th {\n",
       "        vertical-align: top;\n",
       "    }\n",
       "\n",
       "    .dataframe thead th {\n",
       "        text-align: right;\n",
       "    }\n",
       "</style>\n",
       "<table border=\"1\" class=\"dataframe\">\n",
       "  <thead>\n",
       "    <tr style=\"text-align: right;\">\n",
       "      <th></th>\n",
       "      <th>dt</th>\n",
       "      <th>temp</th>\n",
       "      <th>feels_like</th>\n",
       "      <th>pressure</th>\n",
       "      <th>humidity</th>\n",
       "      <th>dew_point</th>\n",
       "      <th>uvi</th>\n",
       "      <th>clouds</th>\n",
       "      <th>visibility</th>\n",
       "      <th>wind_speed</th>\n",
       "      <th>wind_deg</th>\n",
       "      <th>wind_gust</th>\n",
       "      <th>weather</th>\n",
       "      <th>pop</th>\n",
       "    </tr>\n",
       "  </thead>\n",
       "  <tbody>\n",
       "    <tr>\n",
       "      <th>0</th>\n",
       "      <td>1632693600</td>\n",
       "      <td>27.46</td>\n",
       "      <td>31.29</td>\n",
       "      <td>1010</td>\n",
       "      <td>84</td>\n",
       "      <td>24.51</td>\n",
       "      <td>0.00</td>\n",
       "      <td>13</td>\n",
       "      <td>10000</td>\n",
       "      <td>3.17</td>\n",
       "      <td>68</td>\n",
       "      <td>3.80</td>\n",
       "      <td>[{'id': 801, 'main': 'Clouds', 'description': ...</td>\n",
       "      <td>0</td>\n",
       "    </tr>\n",
       "    <tr>\n",
       "      <th>1</th>\n",
       "      <td>1632697200</td>\n",
       "      <td>27.40</td>\n",
       "      <td>31.01</td>\n",
       "      <td>1010</td>\n",
       "      <td>83</td>\n",
       "      <td>24.25</td>\n",
       "      <td>0.19</td>\n",
       "      <td>15</td>\n",
       "      <td>10000</td>\n",
       "      <td>3.28</td>\n",
       "      <td>71</td>\n",
       "      <td>3.90</td>\n",
       "      <td>[{'id': 801, 'main': 'Clouds', 'description': ...</td>\n",
       "      <td>0</td>\n",
       "    </tr>\n",
       "    <tr>\n",
       "      <th>2</th>\n",
       "      <td>1632700800</td>\n",
       "      <td>27.59</td>\n",
       "      <td>31.23</td>\n",
       "      <td>1011</td>\n",
       "      <td>81</td>\n",
       "      <td>24.03</td>\n",
       "      <td>1.09</td>\n",
       "      <td>19</td>\n",
       "      <td>10000</td>\n",
       "      <td>3.77</td>\n",
       "      <td>74</td>\n",
       "      <td>4.16</td>\n",
       "      <td>[{'id': 801, 'main': 'Clouds', 'description': ...</td>\n",
       "      <td>0</td>\n",
       "    </tr>\n",
       "    <tr>\n",
       "      <th>3</th>\n",
       "      <td>1632704400</td>\n",
       "      <td>28.08</td>\n",
       "      <td>31.83</td>\n",
       "      <td>1011</td>\n",
       "      <td>77</td>\n",
       "      <td>23.67</td>\n",
       "      <td>3.10</td>\n",
       "      <td>31</td>\n",
       "      <td>10000</td>\n",
       "      <td>4.14</td>\n",
       "      <td>76</td>\n",
       "      <td>4.15</td>\n",
       "      <td>[{'id': 802, 'main': 'Clouds', 'description': ...</td>\n",
       "      <td>0</td>\n",
       "    </tr>\n",
       "    <tr>\n",
       "      <th>4</th>\n",
       "      <td>1632708000</td>\n",
       "      <td>28.60</td>\n",
       "      <td>32.38</td>\n",
       "      <td>1012</td>\n",
       "      <td>73</td>\n",
       "      <td>23.28</td>\n",
       "      <td>5.90</td>\n",
       "      <td>35</td>\n",
       "      <td>10000</td>\n",
       "      <td>4.29</td>\n",
       "      <td>78</td>\n",
       "      <td>3.94</td>\n",
       "      <td>[{'id': 802, 'main': 'Clouds', 'description': ...</td>\n",
       "      <td>0</td>\n",
       "    </tr>\n",
       "  </tbody>\n",
       "</table>\n",
       "</div>"
      ],
      "text/plain": [
       "           dt   temp  feels_like  pressure  humidity  dew_point   uvi  clouds  \\\n",
       "0  1632693600  27.46       31.29      1010        84      24.51  0.00      13   \n",
       "1  1632697200  27.40       31.01      1010        83      24.25  0.19      15   \n",
       "2  1632700800  27.59       31.23      1011        81      24.03  1.09      19   \n",
       "3  1632704400  28.08       31.83      1011        77      23.67  3.10      31   \n",
       "4  1632708000  28.60       32.38      1012        73      23.28  5.90      35   \n",
       "\n",
       "   visibility  wind_speed  wind_deg  wind_gust  \\\n",
       "0       10000        3.17        68       3.80   \n",
       "1       10000        3.28        71       3.90   \n",
       "2       10000        3.77        74       4.16   \n",
       "3       10000        4.14        76       4.15   \n",
       "4       10000        4.29        78       3.94   \n",
       "\n",
       "                                             weather  pop  \n",
       "0  [{'id': 801, 'main': 'Clouds', 'description': ...    0  \n",
       "1  [{'id': 801, 'main': 'Clouds', 'description': ...    0  \n",
       "2  [{'id': 801, 'main': 'Clouds', 'description': ...    0  \n",
       "3  [{'id': 802, 'main': 'Clouds', 'description': ...    0  \n",
       "4  [{'id': 802, 'main': 'Clouds', 'description': ...    0  "
      ]
     },
     "execution_count": 10,
     "metadata": {},
     "output_type": "execute_result"
    }
   ],
   "source": [
    "df_hourly.head()"
   ]
  },
  {
   "cell_type": "code",
   "execution_count": null,
   "metadata": {},
   "outputs": [],
   "source": []
  }
 ],
 "metadata": {
  "interpreter": {
   "hash": "c1b4cfe941b6d2466ad1fb5979e97da9cda8801728c8091b097ab734208fc00c"
  },
  "kernelspec": {
   "display_name": "Python 3.8.3 64-bit ('base': conda)",
   "name": "python3"
  },
  "language_info": {
   "codemirror_mode": {
    "name": "ipython",
    "version": 3
   },
   "file_extension": ".py",
   "mimetype": "text/x-python",
   "name": "python",
   "nbconvert_exporter": "python",
   "pygments_lexer": "ipython3",
   "version": "3.8.12"
  }
 },
 "nbformat": 4,
 "nbformat_minor": 2
}
