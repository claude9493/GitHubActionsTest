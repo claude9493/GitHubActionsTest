{
 "cells": [
  {
   "cell_type": "code",
   "execution_count": 1,
   "metadata": {
    "execution": {
     "iopub.execute_input": "2021-10-03T16:16:10.339326Z",
     "iopub.status.busy": "2021-10-03T16:16:10.338714Z",
     "iopub.status.idle": "2021-10-03T16:16:11.646480Z",
     "shell.execute_reply": "2021-10-03T16:16:11.645937Z"
    }
   },
   "outputs": [],
   "source": [
    "import json, yaml, requests\r\n",
    "from datetime import datetime\r\n",
    "from dateutil import tz\r\n",
    "import pandas as pd\r\n",
    "from PIL import Image\r\n",
    "from io import BytesIO\r\n",
    "import matplotlib.pyplot as plt\r\n",
    "import seaborn\r\n",
    "\r\n",
    "CONFIG_PATH = \"../config/config.yaml\""
   ]
  },
  {
   "cell_type": "code",
   "execution_count": 2,
   "metadata": {
    "execution": {
     "iopub.execute_input": "2021-10-03T16:16:11.651610Z",
     "iopub.status.busy": "2021-10-03T16:16:11.650736Z",
     "iopub.status.idle": "2021-10-03T16:16:11.655861Z",
     "shell.execute_reply": "2021-10-03T16:16:11.655153Z"
    }
   },
   "outputs": [],
   "source": [
    "with open('../newest_ts', 'r') as f:\r\n",
    "    newest_ts = f.read()\r\n",
    "\r\n",
    "data_path = f\"../data/data_{newest_ts}.json\"\r\n",
    "with open(data_path, 'r') as f:\r\n",
    "    data = json.load(f)\r\n",
    "\r\n",
    "with open(CONFIG_PATH, \"r\") as stream:\r\n",
    "    config = yaml.safe_load(stream)\r\n",
    "\r\n",
    "TIME_ZONE = config['time_zone']\r\n",
    "DATETIME_FORMAT = config['dt_format']"
   ]
  },
  {
   "cell_type": "code",
   "execution_count": 3,
   "metadata": {
    "execution": {
     "iopub.execute_input": "2021-10-03T16:16:11.660256Z",
     "iopub.status.busy": "2021-10-03T16:16:11.659768Z",
     "iopub.status.idle": "2021-10-03T16:16:11.665255Z",
     "shell.execute_reply": "2021-10-03T16:16:11.665612Z"
    }
   },
   "outputs": [
    {
     "name": "stdout",
     "output_type": "stream",
     "text": [
      "Recent query happens at 2021-10-04 00:16:07 (CST).\n"
     ]
    }
   ],
   "source": [
    "def ts2dt(ts, format=DATETIME_FORMAT):\r\n",
    "    dt = (datetime.utcfromtimestamp(int(ts))\r\n",
    "                    .replace(tzinfo=tz.tzutc())\r\n",
    "                    # .astimezone(tz.tzlocal())\r\n",
    "                    .astimezone(tz.gettz(TIME_ZONE)))\r\n",
    "    return dt.strftime(format), dt\r\n",
    "\r\n",
    "_, newest_dt = ts2dt(newest_ts)\r\n",
    "print(f\"Recent query happens at {newest_dt.strftime(DATETIME_FORMAT)} ({newest_dt.tzname()}).\")"
   ]
  },
  {
   "cell_type": "code",
   "execution_count": 4,
   "metadata": {
    "execution": {
     "iopub.execute_input": "2021-10-03T16:16:11.669763Z",
     "iopub.status.busy": "2021-10-03T16:16:11.669304Z",
     "iopub.status.idle": "2021-10-03T16:16:11.672272Z",
     "shell.execute_reply": "2021-10-03T16:16:11.671892Z"
    }
   },
   "outputs": [],
   "source": [
    "def degrees_to_cardinal(d):\r\n",
    "  dirs = ['N', 'NNE', 'NE', 'ENE', 'E', 'ESE', 'SE', 'SSE', 'S', 'SSW', 'SW', 'WSW', 'W', 'WNW', 'NW', 'NNW']\r\n",
    "  ix = int(round(d / (360. / len(dirs))))\r\n",
    "  return dirs[ix % len(dirs)]"
   ]
  },
  {
   "cell_type": "code",
   "execution_count": 5,
   "metadata": {
    "execution": {
     "iopub.execute_input": "2021-10-03T16:16:11.676034Z",
     "iopub.status.busy": "2021-10-03T16:16:11.675083Z",
     "iopub.status.idle": "2021-10-03T16:16:11.677149Z",
     "shell.execute_reply": "2021-10-03T16:16:11.676730Z"
    }
   },
   "outputs": [],
   "source": [
    "# data.keys()"
   ]
  },
  {
   "cell_type": "code",
   "execution_count": 6,
   "metadata": {
    "execution": {
     "iopub.execute_input": "2021-10-03T16:16:11.680830Z",
     "iopub.status.busy": "2021-10-03T16:16:11.679680Z",
     "iopub.status.idle": "2021-10-03T16:16:11.681374Z",
     "shell.execute_reply": "2021-10-03T16:16:11.681738Z"
    }
   },
   "outputs": [],
   "source": [
    "# data['current']"
   ]
  },
  {
   "cell_type": "code",
   "execution_count": 7,
   "metadata": {
    "execution": {
     "iopub.execute_input": "2021-10-03T16:16:11.698219Z",
     "iopub.status.busy": "2021-10-03T16:16:11.697754Z",
     "iopub.status.idle": "2021-10-03T16:16:12.074674Z",
     "shell.execute_reply": "2021-10-03T16:16:12.075354Z"
    }
   },
   "outputs": [
    {
     "data": {
      "image/png": "[encoded data removed]",
      "text/plain": [
       "<Figure size 216x216 with 1 Axes>"
      ]
     },
     "metadata": {
      "needs_background": "light"
     },
     "output_type": "display_data"
    },
    {
     "name": "stdout",
     "output_type": "stream",
     "text": [
      "Today, sun rises at 06:15 and sets at 18:08.\n",
      "Currently, the weather is Rain (light rain).\n",
      "The temperature is 28.73°C and it feels like 33.8°C.\n",
      "The UV index is 0, humidity is 79%.\n",
      "The pressure is 1011 hPa, percentage of cloud cover is 58%\n",
      "The wind comes from W direction with a speed 0.89 m/s.\n"
     ]
    }
   ],
   "source": [
    "current = data['current']\r\n",
    "\r\n",
    "fig, ax = plt.subplots(figsize=(3, 3))\r\n",
    "icon = requests.get(f\"http://openweathermap.org/img/wn/{current['weather'][0]['icon']}@2x.png\")\r\n",
    "im = Image.open(BytesIO(icon.content))\r\n",
    "plt.imshow(im)\r\n",
    "ax.set_axis_off()\r\n",
    "plt.show()\r\n",
    "\r\n",
    "print(f\"Today, sun rises at {ts2dt(current['sunrise'], '%H:%M')[0]} \\\r\n",
    "and sets at {ts2dt(current['sunset'], '%H:%M')[0]}.\\n\\\r\n",
    "Currently, the weather is {current['weather'][0]['main']} ({current['weather'][0]['description']}).\\n\\\r\n",
    "The temperature is {current['temp']}°C and it feels like {current['feels_like']}°C.\\n\\\r\n",
    "The UV index is {current['uvi']}, humidity is {current['humidity']}%.\\n\\\r\n",
    "The pressure is {current['pressure']} hPa, percentage of cloud cover is {current['clouds']}%\\n\\\r\n",
    "The wind comes from {degrees_to_cardinal(current['wind_deg'])} direction with a speed {current['wind_speed']} m/s.\")"
   ]
  },
  {
   "cell_type": "code",
   "execution_count": 8,
   "metadata": {
    "execution": {
     "iopub.execute_input": "2021-10-03T16:16:12.078414Z",
     "iopub.status.busy": "2021-10-03T16:16:12.077951Z",
     "iopub.status.idle": "2021-10-03T16:16:12.084337Z",
     "shell.execute_reply": "2021-10-03T16:16:12.084980Z"
    }
   },
   "outputs": [],
   "source": [
    "df_hourly = pd.DataFrame(data['hourly'])\r\n",
    "df_daily = pd.DataFrame(data['daily'])"
   ]
  },
  {
   "cell_type": "code",
   "execution_count": 9,
   "metadata": {
    "execution": {
     "iopub.execute_input": "2021-10-03T16:16:12.088093Z",
     "iopub.status.busy": "2021-10-03T16:16:12.087060Z",
     "iopub.status.idle": "2021-10-03T16:16:12.320446Z",
     "shell.execute_reply": "2021-10-03T16:16:12.320017Z"
    }
   },
   "outputs": [
    {
     "data": {
      "image/png": "[encoded data removed]",
      "text/plain": [
       "<Figure size 864x432 with 1 Axes>"
      ]
     },
     "metadata": {
      "needs_background": "light"
     },
     "output_type": "display_data"
    }
   ],
   "source": [
    "fig, ax = plt.subplots(figsize=(12, 6))\r\n",
    "plt.plot(df_hourly.temp, '.-', label='Temperature')\r\n",
    "plt.plot(df_hourly.feels_like, '.-', label='Feels Like')\r\n",
    "ax.set(title='Temperature in future 48 hours', xlabel='Time', ylabel='Temperature')\r\n",
    "ax.set_xticks(list(range(0, len(df_hourly), 2)))\r\n",
    "ax.set_xticklabels([ts2dt(ts, '%m-%d %H:%M')[0] for i, ts in enumerate(df_hourly.dt) if i%2==0], \r\n",
    "                   rotation=45, ha=\"right\")\r\n",
    "ax.locator_params(nbins=15, axis='y')\r\n",
    "plt.legend()\r\n",
    "plt.show()"
   ]
  },
  {
   "cell_type": "code",
   "execution_count": 10,
   "metadata": {
    "execution": {
     "iopub.execute_input": "2021-10-03T16:16:12.325069Z",
     "iopub.status.busy": "2021-10-03T16:16:12.324573Z",
     "iopub.status.idle": "2021-10-03T16:16:12.343899Z",
     "shell.execute_reply": "2021-10-03T16:16:12.343497Z"
    }
   },
   "outputs": [
    {
     "data": {
      "text/html": [
       "<div>\n",
       "<style scoped>\n",
       "    .dataframe tbody tr th:only-of-type {\n",
       "        vertical-align: middle;\n",
       "    }\n",
       "\n",
       "    .dataframe tbody tr th {\n",
       "        vertical-align: top;\n",
       "    }\n",
       "\n",
       "    .dataframe thead th {\n",
       "        text-align: right;\n",
       "    }\n",
       "</style>\n",
       "<table border=\"1\" class=\"dataframe\">\n",
       "  <thead>\n",
       "    <tr style=\"text-align: right;\">\n",
       "      <th></th>\n",
       "      <th>dt</th>\n",
       "      <th>temp</th>\n",
       "      <th>feels_like</th>\n",
       "      <th>pressure</th>\n",
       "      <th>humidity</th>\n",
       "      <th>dew_point</th>\n",
       "      <th>uvi</th>\n",
       "      <th>clouds</th>\n",
       "      <th>visibility</th>\n",
       "      <th>wind_speed</th>\n",
       "      <th>wind_deg</th>\n",
       "      <th>wind_gust</th>\n",
       "      <th>weather</th>\n",
       "      <th>pop</th>\n",
       "      <th>rain</th>\n",
       "    </tr>\n",
       "  </thead>\n",
       "  <tbody>\n",
       "    <tr>\n",
       "      <th>0</th>\n",
       "      <td>1633276800</td>\n",
       "      <td>28.73</td>\n",
       "      <td>33.80</td>\n",
       "      <td>1011</td>\n",
       "      <td>79</td>\n",
       "      <td>24.72</td>\n",
       "      <td>0.0</td>\n",
       "      <td>58</td>\n",
       "      <td>10000</td>\n",
       "      <td>7.48</td>\n",
       "      <td>92</td>\n",
       "      <td>9.33</td>\n",
       "      <td>[{'id': 803, 'main': 'Clouds', 'description': ...</td>\n",
       "      <td>0.06</td>\n",
       "      <td>NaN</td>\n",
       "    </tr>\n",
       "    <tr>\n",
       "      <th>1</th>\n",
       "      <td>1633280400</td>\n",
       "      <td>28.52</td>\n",
       "      <td>32.89</td>\n",
       "      <td>1011</td>\n",
       "      <td>77</td>\n",
       "      <td>24.09</td>\n",
       "      <td>0.0</td>\n",
       "      <td>60</td>\n",
       "      <td>10000</td>\n",
       "      <td>7.81</td>\n",
       "      <td>89</td>\n",
       "      <td>9.70</td>\n",
       "      <td>[{'id': 500, 'main': 'Rain', 'description': 'l...</td>\n",
       "      <td>0.22</td>\n",
       "      <td>{'1h': 0.12}</td>\n",
       "    </tr>\n",
       "    <tr>\n",
       "      <th>2</th>\n",
       "      <td>1633284000</td>\n",
       "      <td>28.31</td>\n",
       "      <td>32.21</td>\n",
       "      <td>1011</td>\n",
       "      <td>76</td>\n",
       "      <td>23.67</td>\n",
       "      <td>0.0</td>\n",
       "      <td>63</td>\n",
       "      <td>10000</td>\n",
       "      <td>7.89</td>\n",
       "      <td>90</td>\n",
       "      <td>9.84</td>\n",
       "      <td>[{'id': 500, 'main': 'Rain', 'description': 'l...</td>\n",
       "      <td>0.22</td>\n",
       "      <td>{'1h': 0.12}</td>\n",
       "    </tr>\n",
       "    <tr>\n",
       "      <th>3</th>\n",
       "      <td>1633287600</td>\n",
       "      <td>27.90</td>\n",
       "      <td>31.28</td>\n",
       "      <td>1012</td>\n",
       "      <td>76</td>\n",
       "      <td>23.28</td>\n",
       "      <td>0.0</td>\n",
       "      <td>83</td>\n",
       "      <td>10000</td>\n",
       "      <td>7.41</td>\n",
       "      <td>87</td>\n",
       "      <td>9.68</td>\n",
       "      <td>[{'id': 803, 'main': 'Clouds', 'description': ...</td>\n",
       "      <td>0.08</td>\n",
       "      <td>NaN</td>\n",
       "    </tr>\n",
       "    <tr>\n",
       "      <th>4</th>\n",
       "      <td>1633291200</td>\n",
       "      <td>27.50</td>\n",
       "      <td>30.76</td>\n",
       "      <td>1012</td>\n",
       "      <td>79</td>\n",
       "      <td>23.53</td>\n",
       "      <td>0.0</td>\n",
       "      <td>92</td>\n",
       "      <td>10000</td>\n",
       "      <td>7.08</td>\n",
       "      <td>79</td>\n",
       "      <td>9.58</td>\n",
       "      <td>[{'id': 500, 'main': 'Rain', 'description': 'l...</td>\n",
       "      <td>0.36</td>\n",
       "      <td>{'1h': 0.12}</td>\n",
       "    </tr>\n",
       "  </tbody>\n",
       "</table>\n",
       "</div>"
      ],
      "text/plain": [
       "           dt   temp  feels_like  pressure  humidity  dew_point  uvi  clouds  \\\n",
       "0  1633276800  28.73       33.80      1011        79      24.72  0.0      58   \n",
       "1  1633280400  28.52       32.89      1011        77      24.09  0.0      60   \n",
       "2  1633284000  28.31       32.21      1011        76      23.67  0.0      63   \n",
       "3  1633287600  27.90       31.28      1012        76      23.28  0.0      83   \n",
       "4  1633291200  27.50       30.76      1012        79      23.53  0.0      92   \n",
       "\n",
       "   visibility  wind_speed  wind_deg  wind_gust  \\\n",
       "0       10000        7.48        92       9.33   \n",
       "1       10000        7.81        89       9.70   \n",
       "2       10000        7.89        90       9.84   \n",
       "3       10000        7.41        87       9.68   \n",
       "4       10000        7.08        79       9.58   \n",
       "\n",
       "                                             weather   pop          rain  \n",
       "0  [{'id': 803, 'main': 'Clouds', 'description': ...  0.06           NaN  \n",
       "1  [{'id': 500, 'main': 'Rain', 'description': 'l...  0.22  {'1h': 0.12}  \n",
       "2  [{'id': 500, 'main': 'Rain', 'description': 'l...  0.22  {'1h': 0.12}  \n",
       "3  [{'id': 803, 'main': 'Clouds', 'description': ...  0.08           NaN  \n",
       "4  [{'id': 500, 'main': 'Rain', 'description': 'l...  0.36  {'1h': 0.12}  "
      ]
     },
     "execution_count": 10,
     "metadata": {},
     "output_type": "execute_result"
    }
   ],
   "source": [
    "df_hourly.head()"
   ]
  },
  {
   "cell_type": "code",
   "execution_count": null,
   "metadata": {},
   "outputs": [],
   "source": []
  }
 ],
 "metadata": {
  "interpreter": {
   "hash": "c1b4cfe941b6d2466ad1fb5979e97da9cda8801728c8091b097ab734208fc00c"
  },
  "kernelspec": {
   "display_name": "Python 3.8.3 64-bit ('base': conda)",
   "name": "python3"
  },
  "language_info": {
   "codemirror_mode": {
    "name": "ipython",
    "version": 3
   },
   "file_extension": ".py",
   "mimetype": "text/x-python",
   "name": "python",
   "nbconvert_exporter": "python",
   "pygments_lexer": "ipython3",
   "version": "3.8.12"
  }
 },
 "nbformat": 4,
 "nbformat_minor": 2
}
