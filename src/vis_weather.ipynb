{
 "cells": [
  {
   "cell_type": "code",
   "execution_count": 1,
   "metadata": {
    "execution": {
     "iopub.execute_input": "2021-08-29T02:28:57.112444Z",
     "iopub.status.busy": "2021-08-29T02:28:57.111578Z",
     "iopub.status.idle": "2021-08-29T02:28:58.593398Z",
     "shell.execute_reply": "2021-08-29T02:28:58.592841Z"
    }
   },
   "outputs": [],
   "source": [
    "import json, yaml, requests\r\n",
    "from datetime import datetime\r\n",
    "from dateutil import tz\r\n",
    "import pandas as pd\r\n",
    "from PIL import Image\r\n",
    "from io import BytesIO\r\n",
    "import matplotlib.pyplot as plt\r\n",
    "import seaborn\r\n",
    "\r\n",
    "CONFIG_PATH = \"../config/config.yaml\""
   ]
  },
  {
   "cell_type": "code",
   "execution_count": 2,
   "metadata": {
    "execution": {
     "iopub.execute_input": "2021-08-29T02:28:58.599186Z",
     "iopub.status.busy": "2021-08-29T02:28:58.598048Z",
     "iopub.status.idle": "2021-08-29T02:28:58.604031Z",
     "shell.execute_reply": "2021-08-29T02:28:58.603258Z"
    }
   },
   "outputs": [],
   "source": [
    "with open('../newest_ts', 'r') as f:\r\n",
    "    newest_ts = f.read()\r\n",
    "\r\n",
    "data_path = f\"../data/data_{newest_ts}.json\"\r\n",
    "with open(data_path, 'r') as f:\r\n",
    "    data = json.load(f)\r\n",
    "\r\n",
    "with open(CONFIG_PATH, \"r\") as stream:\r\n",
    "    config = yaml.safe_load(stream)\r\n",
    "\r\n",
    "TIME_ZONE = config['time_zone']\r\n",
    "DATETIME_FORMAT = config['dt_format']"
   ]
  },
  {
   "cell_type": "code",
   "execution_count": 3,
   "metadata": {
    "execution": {
     "iopub.execute_input": "2021-08-29T02:28:58.609148Z",
     "iopub.status.busy": "2021-08-29T02:28:58.608291Z",
     "iopub.status.idle": "2021-08-29T02:28:58.632925Z",
     "shell.execute_reply": "2021-08-29T02:28:58.633353Z"
    }
   },
   "outputs": [
    {
     "name": "stdout",
     "output_type": "stream",
     "text": [
      "Recent query happens at 2021-08-29 10:28:53 (CST).\n"
     ]
    }
   ],
   "source": [
    "def ts2dt(ts, format=DATETIME_FORMAT):\r\n",
    "    dt = (datetime.utcfromtimestamp(int(ts))\r\n",
    "                    .replace(tzinfo=tz.tzutc())\r\n",
    "                    # .astimezone(tz.tzlocal())\r\n",
    "                    .astimezone(tz.gettz(TIME_ZONE)))\r\n",
    "    return dt.strftime(format), dt\r\n",
    "\r\n",
    "_, newest_dt = ts2dt(newest_ts)\r\n",
    "print(f\"Recent query happens at {newest_dt.strftime(DATETIME_FORMAT)} ({newest_dt.tzname()}).\")"
   ]
  },
  {
   "cell_type": "code",
   "execution_count": 4,
   "metadata": {
    "execution": {
     "iopub.execute_input": "2021-08-29T02:28:58.638868Z",
     "iopub.status.busy": "2021-08-29T02:28:58.637591Z",
     "iopub.status.idle": "2021-08-29T02:28:58.639626Z",
     "shell.execute_reply": "2021-08-29T02:28:58.640060Z"
    }
   },
   "outputs": [],
   "source": [
    "def degrees_to_cardinal(d):\r\n",
    "  dirs = ['N', 'NNE', 'NE', 'ENE', 'E', 'ESE', 'SE', 'SSE', 'S', 'SSW', 'SW', 'WSW', 'W', 'WNW', 'NW', 'NNW']\r\n",
    "  ix = int(round(d / (360. / len(dirs))))\r\n",
    "  return dirs[ix % len(dirs)]"
   ]
  },
  {
   "cell_type": "code",
   "execution_count": 5,
   "metadata": {
    "execution": {
     "iopub.execute_input": "2021-08-29T02:28:58.643492Z",
     "iopub.status.busy": "2021-08-29T02:28:58.642957Z",
     "iopub.status.idle": "2021-08-29T02:28:58.645520Z",
     "shell.execute_reply": "2021-08-29T02:28:58.645046Z"
    }
   },
   "outputs": [],
   "source": [
    "# data.keys()"
   ]
  },
  {
   "cell_type": "code",
   "execution_count": 6,
   "metadata": {
    "execution": {
     "iopub.execute_input": "2021-08-29T02:28:58.648832Z",
     "iopub.status.busy": "2021-08-29T02:28:58.648250Z",
     "iopub.status.idle": "2021-08-29T02:28:58.652916Z",
     "shell.execute_reply": "2021-08-29T02:28:58.652428Z"
    }
   },
   "outputs": [],
   "source": [
    "# data['current']"
   ]
  },
  {
   "cell_type": "code",
   "execution_count": 7,
   "metadata": {
    "execution": {
     "iopub.execute_input": "2021-08-29T02:28:58.674709Z",
     "iopub.status.busy": "2021-08-29T02:28:58.674152Z",
     "iopub.status.idle": "2021-08-29T02:28:59.383104Z",
     "shell.execute_reply": "2021-08-29T02:28:59.383669Z"
    }
   },
   "outputs": [
    {
     "data": {
      "image/png": "[encoded data removed]",
      "text/plain": [
       "<Figure size 216x216 with 1 Axes>"
      ]
     },
     "metadata": {
      "needs_background": "light"
     },
     "output_type": "display_data"
    },
    {
     "name": "stdout",
     "output_type": "stream",
     "text": [
      "Today, sun rises at 06:04 and sets at 18:43.\n",
      "Currently, the weather is Rain (moderate rain).\n",
      "The temperature is 27.81°C and it feels like 32.37°C.\n",
      "The UV index is 7.21, humidity is 85%.\n",
      "The pressure is 1012 hPa, percentage of cloud cover is 96%\n",
      "The wind comes from E direction with a speed 6.19 m/s.\n"
     ]
    }
   ],
   "source": [
    "current = data['current']\r\n",
    "\r\n",
    "fig, ax = plt.subplots(figsize=(3, 3))\r\n",
    "icon = requests.get(f\"http://openweathermap.org/img/wn/{current['weather'][0]['icon']}@2x.png\")\r\n",
    "im = Image.open(BytesIO(icon.content))\r\n",
    "plt.imshow(im)\r\n",
    "ax.set_axis_off()\r\n",
    "plt.show()\r\n",
    "\r\n",
    "print(f\"Today, sun rises at {ts2dt(current['sunrise'], '%H:%M')[0]} \\\r\n",
    "and sets at {ts2dt(current['sunset'], '%H:%M')[0]}.\\n\\\r\n",
    "Currently, the weather is {current['weather'][0]['main']} ({current['weather'][0]['description']}).\\n\\\r\n",
    "The temperature is {current['temp']}°C and it feels like {current['feels_like']}°C.\\n\\\r\n",
    "The UV index is {current['uvi']}, humidity is {current['humidity']}%.\\n\\\r\n",
    "The pressure is {current['pressure']} hPa, percentage of cloud cover is {current['clouds']}%\\n\\\r\n",
    "The wind comes from {degrees_to_cardinal(current['wind_deg'])} direction with a speed {current['wind_speed']} m/s.\")"
   ]
  },
  {
   "cell_type": "code",
   "execution_count": 8,
   "metadata": {
    "execution": {
     "iopub.execute_input": "2021-08-29T02:28:59.392500Z",
     "iopub.status.busy": "2021-08-29T02:28:59.390763Z",
     "iopub.status.idle": "2021-08-29T02:28:59.396000Z",
     "shell.execute_reply": "2021-08-29T02:28:59.396718Z"
    }
   },
   "outputs": [],
   "source": [
    "df_hourly = pd.DataFrame(data['hourly'])\r\n",
    "df_daily = pd.DataFrame(data['daily'])"
   ]
  },
  {
   "cell_type": "code",
   "execution_count": 9,
   "metadata": {
    "execution": {
     "iopub.execute_input": "2021-08-29T02:28:59.423002Z",
     "iopub.status.busy": "2021-08-29T02:28:59.399096Z",
     "iopub.status.idle": "2021-08-29T02:28:59.774235Z",
     "shell.execute_reply": "2021-08-29T02:28:59.773790Z"
    }
   },
   "outputs": [
    {
     "data": {
      "image/png": "[encoded data removed]",
      "text/plain": [
       "<Figure size 864x432 with 1 Axes>"
      ]
     },
     "metadata": {
      "needs_background": "light"
     },
     "output_type": "display_data"
    }
   ],
   "source": [
    "fig, ax = plt.subplots(figsize=(12, 6))\r\n",
    "plt.plot(df_hourly.temp, '.-', label='Temperature')\r\n",
    "plt.plot(df_hourly.feels_like, '.-', label='Feels Like')\r\n",
    "ax.set(title='Temperature in future 48 hours', xlabel='Time', ylabel='Temperature')\r\n",
    "ax.set_xticks(list(range(0, len(df_hourly), 2)))\r\n",
    "ax.set_xticklabels([ts2dt(ts, '%m-%d %H:%M')[0] for i, ts in enumerate(df_hourly.dt) if i%2==0], \r\n",
    "                   rotation=45, ha=\"right\")\r\n",
    "ax.locator_params(nbins=15, axis='y')\r\n",
    "plt.legend()\r\n",
    "plt.show()"
   ]
  },
  {
   "cell_type": "code",
   "execution_count": 10,
   "metadata": {
    "execution": {
     "iopub.execute_input": "2021-08-29T02:28:59.783973Z",
     "iopub.status.busy": "2021-08-29T02:28:59.777950Z",
     "iopub.status.idle": "2021-08-29T02:28:59.801776Z",
     "shell.execute_reply": "2021-08-29T02:28:59.802626Z"
    }
   },
   "outputs": [
    {
     "data": {
      "text/html": [
       "<div>\n",
       "<style scoped>\n",
       "    .dataframe tbody tr th:only-of-type {\n",
       "        vertical-align: middle;\n",
       "    }\n",
       "\n",
       "    .dataframe tbody tr th {\n",
       "        vertical-align: top;\n",
       "    }\n",
       "\n",
       "    .dataframe thead th {\n",
       "        text-align: right;\n",
       "    }\n",
       "</style>\n",
       "<table border=\"1\" class=\"dataframe\">\n",
       "  <thead>\n",
       "    <tr style=\"text-align: right;\">\n",
       "      <th></th>\n",
       "      <th>dt</th>\n",
       "      <th>temp</th>\n",
       "      <th>feels_like</th>\n",
       "      <th>pressure</th>\n",
       "      <th>humidity</th>\n",
       "      <th>dew_point</th>\n",
       "      <th>uvi</th>\n",
       "      <th>clouds</th>\n",
       "      <th>visibility</th>\n",
       "      <th>wind_speed</th>\n",
       "      <th>wind_deg</th>\n",
       "      <th>wind_gust</th>\n",
       "      <th>weather</th>\n",
       "      <th>pop</th>\n",
       "      <th>rain</th>\n",
       "    </tr>\n",
       "  </thead>\n",
       "  <tbody>\n",
       "    <tr>\n",
       "      <th>0</th>\n",
       "      <td>1630202400</td>\n",
       "      <td>27.81</td>\n",
       "      <td>32.37</td>\n",
       "      <td>1012</td>\n",
       "      <td>85</td>\n",
       "      <td>25.05</td>\n",
       "      <td>7.21</td>\n",
       "      <td>96</td>\n",
       "      <td>10000</td>\n",
       "      <td>6.19</td>\n",
       "      <td>88</td>\n",
       "      <td>7.60</td>\n",
       "      <td>[{'id': 500, 'main': 'Rain', 'description': 'l...</td>\n",
       "      <td>0.65</td>\n",
       "      <td>{'1h': 0.44}</td>\n",
       "    </tr>\n",
       "    <tr>\n",
       "      <th>1</th>\n",
       "      <td>1630206000</td>\n",
       "      <td>27.99</td>\n",
       "      <td>32.54</td>\n",
       "      <td>1012</td>\n",
       "      <td>83</td>\n",
       "      <td>24.83</td>\n",
       "      <td>10.13</td>\n",
       "      <td>96</td>\n",
       "      <td>10000</td>\n",
       "      <td>5.76</td>\n",
       "      <td>97</td>\n",
       "      <td>7.32</td>\n",
       "      <td>[{'id': 500, 'main': 'Rain', 'description': 'l...</td>\n",
       "      <td>0.69</td>\n",
       "      <td>{'1h': 0.24}</td>\n",
       "    </tr>\n",
       "    <tr>\n",
       "      <th>2</th>\n",
       "      <td>1630209600</td>\n",
       "      <td>28.04</td>\n",
       "      <td>32.52</td>\n",
       "      <td>1012</td>\n",
       "      <td>82</td>\n",
       "      <td>24.68</td>\n",
       "      <td>8.55</td>\n",
       "      <td>97</td>\n",
       "      <td>10000</td>\n",
       "      <td>5.26</td>\n",
       "      <td>99</td>\n",
       "      <td>7.21</td>\n",
       "      <td>[{'id': 500, 'main': 'Rain', 'description': 'l...</td>\n",
       "      <td>0.69</td>\n",
       "      <td>{'1h': 0.75}</td>\n",
       "    </tr>\n",
       "    <tr>\n",
       "      <th>3</th>\n",
       "      <td>1630213200</td>\n",
       "      <td>28.88</td>\n",
       "      <td>33.79</td>\n",
       "      <td>1011</td>\n",
       "      <td>77</td>\n",
       "      <td>24.44</td>\n",
       "      <td>8.39</td>\n",
       "      <td>97</td>\n",
       "      <td>10000</td>\n",
       "      <td>5.30</td>\n",
       "      <td>105</td>\n",
       "      <td>7.38</td>\n",
       "      <td>[{'id': 500, 'main': 'Rain', 'description': 'l...</td>\n",
       "      <td>0.77</td>\n",
       "      <td>{'1h': 0.81}</td>\n",
       "    </tr>\n",
       "    <tr>\n",
       "      <th>4</th>\n",
       "      <td>1630216800</td>\n",
       "      <td>29.35</td>\n",
       "      <td>34.14</td>\n",
       "      <td>1011</td>\n",
       "      <td>73</td>\n",
       "      <td>24.00</td>\n",
       "      <td>6.97</td>\n",
       "      <td>95</td>\n",
       "      <td>10000</td>\n",
       "      <td>4.93</td>\n",
       "      <td>110</td>\n",
       "      <td>6.81</td>\n",
       "      <td>[{'id': 500, 'main': 'Rain', 'description': 'l...</td>\n",
       "      <td>0.77</td>\n",
       "      <td>{'1h': 0.64}</td>\n",
       "    </tr>\n",
       "  </tbody>\n",
       "</table>\n",
       "</div>"
      ],
      "text/plain": [
       "           dt   temp  feels_like  pressure  humidity  dew_point    uvi  \\\n",
       "0  1630202400  27.81       32.37      1012        85      25.05   7.21   \n",
       "1  1630206000  27.99       32.54      1012        83      24.83  10.13   \n",
       "2  1630209600  28.04       32.52      1012        82      24.68   8.55   \n",
       "3  1630213200  28.88       33.79      1011        77      24.44   8.39   \n",
       "4  1630216800  29.35       34.14      1011        73      24.00   6.97   \n",
       "\n",
       "   clouds  visibility  wind_speed  wind_deg  wind_gust  \\\n",
       "0      96       10000        6.19        88       7.60   \n",
       "1      96       10000        5.76        97       7.32   \n",
       "2      97       10000        5.26        99       7.21   \n",
       "3      97       10000        5.30       105       7.38   \n",
       "4      95       10000        4.93       110       6.81   \n",
       "\n",
       "                                             weather   pop          rain  \n",
       "0  [{'id': 500, 'main': 'Rain', 'description': 'l...  0.65  {'1h': 0.44}  \n",
       "1  [{'id': 500, 'main': 'Rain', 'description': 'l...  0.69  {'1h': 0.24}  \n",
       "2  [{'id': 500, 'main': 'Rain', 'description': 'l...  0.69  {'1h': 0.75}  \n",
       "3  [{'id': 500, 'main': 'Rain', 'description': 'l...  0.77  {'1h': 0.81}  \n",
       "4  [{'id': 500, 'main': 'Rain', 'description': 'l...  0.77  {'1h': 0.64}  "
      ]
     },
     "execution_count": 10,
     "metadata": {},
     "output_type": "execute_result"
    }
   ],
   "source": [
    "df_hourly.head()"
   ]
  },
  {
   "cell_type": "code",
   "execution_count": null,
   "metadata": {},
   "outputs": [],
   "source": []
  }
 ],
 "metadata": {
  "interpreter": {
   "hash": "c1b4cfe941b6d2466ad1fb5979e97da9cda8801728c8091b097ab734208fc00c"
  },
  "kernelspec": {
   "display_name": "Python 3.8.3 64-bit ('base': conda)",
   "name": "python3"
  },
  "language_info": {
   "codemirror_mode": {
    "name": "ipython",
    "version": 3
   },
   "file_extension": ".py",
   "mimetype": "text/x-python",
   "name": "python",
   "nbconvert_exporter": "python",
   "pygments_lexer": "ipython3",
   "version": "3.8.11"
  }
 },
 "nbformat": 4,
 "nbformat_minor": 2
}
