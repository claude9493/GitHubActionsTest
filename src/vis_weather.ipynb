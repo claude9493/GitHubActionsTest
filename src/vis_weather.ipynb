{
 "cells": [
  {
   "cell_type": "code",
   "execution_count": 1,
   "metadata": {
    "execution": {
     "iopub.execute_input": "2021-09-19T08:12:46.033479Z",
     "iopub.status.busy": "2021-09-19T08:12:46.032746Z",
     "iopub.status.idle": "2021-09-19T08:12:49.112100Z",
     "shell.execute_reply": "2021-09-19T08:12:49.110528Z"
    }
   },
   "outputs": [],
   "source": [
    "import json, yaml, requests\r\n",
    "from datetime import datetime\r\n",
    "from dateutil import tz\r\n",
    "import pandas as pd\r\n",
    "from PIL import Image\r\n",
    "from io import BytesIO\r\n",
    "import matplotlib.pyplot as plt\r\n",
    "import seaborn\r\n",
    "\r\n",
    "CONFIG_PATH = \"../config/config.yaml\""
   ]
  },
  {
   "cell_type": "code",
   "execution_count": 2,
   "metadata": {
    "execution": {
     "iopub.execute_input": "2021-09-19T08:12:49.121613Z",
     "iopub.status.busy": "2021-09-19T08:12:49.118303Z",
     "iopub.status.idle": "2021-09-19T08:12:49.127671Z",
     "shell.execute_reply": "2021-09-19T08:12:49.126981Z"
    }
   },
   "outputs": [],
   "source": [
    "with open('../newest_ts', 'r') as f:\r\n",
    "    newest_ts = f.read()\r\n",
    "\r\n",
    "data_path = f\"../data/data_{newest_ts}.json\"\r\n",
    "with open(data_path, 'r') as f:\r\n",
    "    data = json.load(f)\r\n",
    "\r\n",
    "with open(CONFIG_PATH, \"r\") as stream:\r\n",
    "    config = yaml.safe_load(stream)\r\n",
    "\r\n",
    "TIME_ZONE = config['time_zone']\r\n",
    "DATETIME_FORMAT = config['dt_format']"
   ]
  },
  {
   "cell_type": "code",
   "execution_count": 3,
   "metadata": {
    "execution": {
     "iopub.execute_input": "2021-09-19T08:12:49.133366Z",
     "iopub.status.busy": "2021-09-19T08:12:49.132722Z",
     "iopub.status.idle": "2021-09-19T08:12:49.145130Z",
     "shell.execute_reply": "2021-09-19T08:12:49.144569Z"
    }
   },
   "outputs": [
    {
     "name": "stdout",
     "output_type": "stream",
     "text": [
      "Recent query happens at 2021-09-19 16:12:42 (CST).\n"
     ]
    }
   ],
   "source": [
    "def ts2dt(ts, format=DATETIME_FORMAT):\r\n",
    "    dt = (datetime.utcfromtimestamp(int(ts))\r\n",
    "                    .replace(tzinfo=tz.tzutc())\r\n",
    "                    # .astimezone(tz.tzlocal())\r\n",
    "                    .astimezone(tz.gettz(TIME_ZONE)))\r\n",
    "    return dt.strftime(format), dt\r\n",
    "\r\n",
    "_, newest_dt = ts2dt(newest_ts)\r\n",
    "print(f\"Recent query happens at {newest_dt.strftime(DATETIME_FORMAT)} ({newest_dt.tzname()}).\")"
   ]
  },
  {
   "cell_type": "code",
   "execution_count": 4,
   "metadata": {
    "execution": {
     "iopub.execute_input": "2021-09-19T08:12:49.152485Z",
     "iopub.status.busy": "2021-09-19T08:12:49.151853Z",
     "iopub.status.idle": "2021-09-19T08:12:49.155617Z",
     "shell.execute_reply": "2021-09-19T08:12:49.156095Z"
    }
   },
   "outputs": [],
   "source": [
    "def degrees_to_cardinal(d):\r\n",
    "  dirs = ['N', 'NNE', 'NE', 'ENE', 'E', 'ESE', 'SE', 'SSE', 'S', 'SSW', 'SW', 'WSW', 'W', 'WNW', 'NW', 'NNW']\r\n",
    "  ix = int(round(d / (360. / len(dirs))))\r\n",
    "  return dirs[ix % len(dirs)]"
   ]
  },
  {
   "cell_type": "code",
   "execution_count": 5,
   "metadata": {
    "execution": {
     "iopub.execute_input": "2021-09-19T08:12:49.161587Z",
     "iopub.status.busy": "2021-09-19T08:12:49.158445Z",
     "iopub.status.idle": "2021-09-19T08:12:49.163948Z",
     "shell.execute_reply": "2021-09-19T08:12:49.163427Z"
    }
   },
   "outputs": [],
   "source": [
    "# data.keys()"
   ]
  },
  {
   "cell_type": "code",
   "execution_count": 6,
   "metadata": {
    "execution": {
     "iopub.execute_input": "2021-09-19T08:12:49.168771Z",
     "iopub.status.busy": "2021-09-19T08:12:49.167322Z",
     "iopub.status.idle": "2021-09-19T08:12:49.169566Z",
     "shell.execute_reply": "2021-09-19T08:12:49.170068Z"
    }
   },
   "outputs": [],
   "source": [
    "# data['current']"
   ]
  },
  {
   "cell_type": "code",
   "execution_count": 7,
   "metadata": {
    "execution": {
     "iopub.execute_input": "2021-09-19T08:12:49.193149Z",
     "iopub.status.busy": "2021-09-19T08:12:49.184613Z",
     "iopub.status.idle": "2021-09-19T08:12:49.802207Z",
     "shell.execute_reply": "2021-09-19T08:12:49.803009Z"
    }
   },
   "outputs": [
    {
     "data": {
      "image/png": "[encoded data removed]",
      "text/plain": [
       "<Figure size 216x216 with 1 Axes>"
      ]
     },
     "metadata": {
      "needs_background": "light"
     },
     "output_type": "display_data"
    },
    {
     "name": "stdout",
     "output_type": "stream",
     "text": [
      "Today, sun rises at 06:10 and sets at 18:22.\n",
      "Currently, the weather is Rain (light rain).\n",
      "The temperature is 31.78°C and it feels like 38.78°C.\n",
      "The UV index is 2.79, humidity is 79%.\n",
      "The pressure is 1010 hPa, percentage of cloud cover is 33%\n",
      "The wind comes from ESE direction with a speed 4.71 m/s.\n"
     ]
    }
   ],
   "source": [
    "current = data['current']\r\n",
    "\r\n",
    "fig, ax = plt.subplots(figsize=(3, 3))\r\n",
    "icon = requests.get(f\"http://openweathermap.org/img/wn/{current['weather'][0]['icon']}@2x.png\")\r\n",
    "im = Image.open(BytesIO(icon.content))\r\n",
    "plt.imshow(im)\r\n",
    "ax.set_axis_off()\r\n",
    "plt.show()\r\n",
    "\r\n",
    "print(f\"Today, sun rises at {ts2dt(current['sunrise'], '%H:%M')[0]} \\\r\n",
    "and sets at {ts2dt(current['sunset'], '%H:%M')[0]}.\\n\\\r\n",
    "Currently, the weather is {current['weather'][0]['main']} ({current['weather'][0]['description']}).\\n\\\r\n",
    "The temperature is {current['temp']}°C and it feels like {current['feels_like']}°C.\\n\\\r\n",
    "The UV index is {current['uvi']}, humidity is {current['humidity']}%.\\n\\\r\n",
    "The pressure is {current['pressure']} hPa, percentage of cloud cover is {current['clouds']}%\\n\\\r\n",
    "The wind comes from {degrees_to_cardinal(current['wind_deg'])} direction with a speed {current['wind_speed']} m/s.\")"
   ]
  },
  {
   "cell_type": "code",
   "execution_count": 8,
   "metadata": {
    "execution": {
     "iopub.execute_input": "2021-09-19T08:12:49.806934Z",
     "iopub.status.busy": "2021-09-19T08:12:49.805691Z",
     "iopub.status.idle": "2021-09-19T08:12:49.814359Z",
     "shell.execute_reply": "2021-09-19T08:12:49.815145Z"
    }
   },
   "outputs": [],
   "source": [
    "df_hourly = pd.DataFrame(data['hourly'])\r\n",
    "df_daily = pd.DataFrame(data['daily'])"
   ]
  },
  {
   "cell_type": "code",
   "execution_count": 9,
   "metadata": {
    "execution": {
     "iopub.execute_input": "2021-09-19T08:12:49.818810Z",
     "iopub.status.busy": "2021-09-19T08:12:49.817598Z",
     "iopub.status.idle": "2021-09-19T08:12:50.196366Z",
     "shell.execute_reply": "2021-09-19T08:12:50.195798Z"
    }
   },
   "outputs": [
    {
     "data": {
      "image/png": "[encoded data removed]",
      "text/plain": [
       "<Figure size 864x432 with 1 Axes>"
      ]
     },
     "metadata": {
      "needs_background": "light"
     },
     "output_type": "display_data"
    }
   ],
   "source": [
    "fig, ax = plt.subplots(figsize=(12, 6))\r\n",
    "plt.plot(df_hourly.temp, '.-', label='Temperature')\r\n",
    "plt.plot(df_hourly.feels_like, '.-', label='Feels Like')\r\n",
    "ax.set(title='Temperature in future 48 hours', xlabel='Time', ylabel='Temperature')\r\n",
    "ax.set_xticks(list(range(0, len(df_hourly), 2)))\r\n",
    "ax.set_xticklabels([ts2dt(ts, '%m-%d %H:%M')[0] for i, ts in enumerate(df_hourly.dt) if i%2==0], \r\n",
    "                   rotation=45, ha=\"right\")\r\n",
    "ax.locator_params(nbins=15, axis='y')\r\n",
    "plt.legend()\r\n",
    "plt.show()"
   ]
  },
  {
   "cell_type": "code",
   "execution_count": 10,
   "metadata": {
    "execution": {
     "iopub.execute_input": "2021-09-19T08:12:50.225400Z",
     "iopub.status.busy": "2021-09-19T08:12:50.201165Z",
     "iopub.status.idle": "2021-09-19T08:12:50.230252Z",
     "shell.execute_reply": "2021-09-19T08:12:50.230746Z"
    }
   },
   "outputs": [
    {
     "data": {
      "text/html": [
       "<div>\n",
       "<style scoped>\n",
       "    .dataframe tbody tr th:only-of-type {\n",
       "        vertical-align: middle;\n",
       "    }\n",
       "\n",
       "    .dataframe tbody tr th {\n",
       "        vertical-align: top;\n",
       "    }\n",
       "\n",
       "    .dataframe thead th {\n",
       "        text-align: right;\n",
       "    }\n",
       "</style>\n",
       "<table border=\"1\" class=\"dataframe\">\n",
       "  <thead>\n",
       "    <tr style=\"text-align: right;\">\n",
       "      <th></th>\n",
       "      <th>dt</th>\n",
       "      <th>temp</th>\n",
       "      <th>feels_like</th>\n",
       "      <th>pressure</th>\n",
       "      <th>humidity</th>\n",
       "      <th>dew_point</th>\n",
       "      <th>uvi</th>\n",
       "      <th>clouds</th>\n",
       "      <th>visibility</th>\n",
       "      <th>wind_speed</th>\n",
       "      <th>wind_deg</th>\n",
       "      <th>wind_gust</th>\n",
       "      <th>weather</th>\n",
       "      <th>pop</th>\n",
       "      <th>rain</th>\n",
       "    </tr>\n",
       "  </thead>\n",
       "  <tbody>\n",
       "    <tr>\n",
       "      <th>0</th>\n",
       "      <td>1632038400</td>\n",
       "      <td>31.78</td>\n",
       "      <td>38.78</td>\n",
       "      <td>1010</td>\n",
       "      <td>79</td>\n",
       "      <td>27.68</td>\n",
       "      <td>2.79</td>\n",
       "      <td>33</td>\n",
       "      <td>10000</td>\n",
       "      <td>4.71</td>\n",
       "      <td>108</td>\n",
       "      <td>5.81</td>\n",
       "      <td>[{'id': 500, 'main': 'Rain', 'description': 'l...</td>\n",
       "      <td>0.71</td>\n",
       "      <td>{'1h': 0.2}</td>\n",
       "    </tr>\n",
       "    <tr>\n",
       "      <th>1</th>\n",
       "      <td>1632042000</td>\n",
       "      <td>31.20</td>\n",
       "      <td>38.20</td>\n",
       "      <td>1010</td>\n",
       "      <td>78</td>\n",
       "      <td>26.90</td>\n",
       "      <td>0.90</td>\n",
       "      <td>33</td>\n",
       "      <td>10000</td>\n",
       "      <td>4.52</td>\n",
       "      <td>106</td>\n",
       "      <td>5.66</td>\n",
       "      <td>[{'id': 500, 'main': 'Rain', 'description': 'l...</td>\n",
       "      <td>0.82</td>\n",
       "      <td>{'1h': 0.22}</td>\n",
       "    </tr>\n",
       "    <tr>\n",
       "      <th>2</th>\n",
       "      <td>1632045600</td>\n",
       "      <td>30.52</td>\n",
       "      <td>37.52</td>\n",
       "      <td>1010</td>\n",
       "      <td>80</td>\n",
       "      <td>26.67</td>\n",
       "      <td>0.12</td>\n",
       "      <td>33</td>\n",
       "      <td>10000</td>\n",
       "      <td>4.21</td>\n",
       "      <td>107</td>\n",
       "      <td>5.75</td>\n",
       "      <td>[{'id': 500, 'main': 'Rain', 'description': 'l...</td>\n",
       "      <td>0.78</td>\n",
       "      <td>{'1h': 0.18}</td>\n",
       "    </tr>\n",
       "    <tr>\n",
       "      <th>3</th>\n",
       "      <td>1632049200</td>\n",
       "      <td>29.70</td>\n",
       "      <td>36.70</td>\n",
       "      <td>1011</td>\n",
       "      <td>81</td>\n",
       "      <td>26.09</td>\n",
       "      <td>0.00</td>\n",
       "      <td>32</td>\n",
       "      <td>10000</td>\n",
       "      <td>4.20</td>\n",
       "      <td>108</td>\n",
       "      <td>5.59</td>\n",
       "      <td>[{'id': 802, 'main': 'Clouds', 'description': ...</td>\n",
       "      <td>0.78</td>\n",
       "      <td>NaN</td>\n",
       "    </tr>\n",
       "    <tr>\n",
       "      <th>4</th>\n",
       "      <td>1632052800</td>\n",
       "      <td>28.87</td>\n",
       "      <td>35.02</td>\n",
       "      <td>1011</td>\n",
       "      <td>83</td>\n",
       "      <td>25.69</td>\n",
       "      <td>0.00</td>\n",
       "      <td>33</td>\n",
       "      <td>10000</td>\n",
       "      <td>4.13</td>\n",
       "      <td>108</td>\n",
       "      <td>5.49</td>\n",
       "      <td>[{'id': 802, 'main': 'Clouds', 'description': ...</td>\n",
       "      <td>0.74</td>\n",
       "      <td>NaN</td>\n",
       "    </tr>\n",
       "  </tbody>\n",
       "</table>\n",
       "</div>"
      ],
      "text/plain": [
       "           dt   temp  feels_like  pressure  humidity  dew_point   uvi  clouds  \\\n",
       "0  1632038400  31.78       38.78      1010        79      27.68  2.79      33   \n",
       "1  1632042000  31.20       38.20      1010        78      26.90  0.90      33   \n",
       "2  1632045600  30.52       37.52      1010        80      26.67  0.12      33   \n",
       "3  1632049200  29.70       36.70      1011        81      26.09  0.00      32   \n",
       "4  1632052800  28.87       35.02      1011        83      25.69  0.00      33   \n",
       "\n",
       "   visibility  wind_speed  wind_deg  wind_gust  \\\n",
       "0       10000        4.71       108       5.81   \n",
       "1       10000        4.52       106       5.66   \n",
       "2       10000        4.21       107       5.75   \n",
       "3       10000        4.20       108       5.59   \n",
       "4       10000        4.13       108       5.49   \n",
       "\n",
       "                                             weather   pop          rain  \n",
       "0  [{'id': 500, 'main': 'Rain', 'description': 'l...  0.71   {'1h': 0.2}  \n",
       "1  [{'id': 500, 'main': 'Rain', 'description': 'l...  0.82  {'1h': 0.22}  \n",
       "2  [{'id': 500, 'main': 'Rain', 'description': 'l...  0.78  {'1h': 0.18}  \n",
       "3  [{'id': 802, 'main': 'Clouds', 'description': ...  0.78           NaN  \n",
       "4  [{'id': 802, 'main': 'Clouds', 'description': ...  0.74           NaN  "
      ]
     },
     "execution_count": 10,
     "metadata": {},
     "output_type": "execute_result"
    }
   ],
   "source": [
    "df_hourly.head()"
   ]
  },
  {
   "cell_type": "code",
   "execution_count": null,
   "metadata": {},
   "outputs": [],
   "source": []
  }
 ],
 "metadata": {
  "interpreter": {
   "hash": "c1b4cfe941b6d2466ad1fb5979e97da9cda8801728c8091b097ab734208fc00c"
  },
  "kernelspec": {
   "display_name": "Python 3.8.3 64-bit ('base': conda)",
   "name": "python3"
  },
  "language_info": {
   "codemirror_mode": {
    "name": "ipython",
    "version": 3
   },
   "file_extension": ".py",
   "mimetype": "text/x-python",
   "name": "python",
   "nbconvert_exporter": "python",
   "pygments_lexer": "ipython3",
   "version": "3.8.11"
  }
 },
 "nbformat": 4,
 "nbformat_minor": 2
}
