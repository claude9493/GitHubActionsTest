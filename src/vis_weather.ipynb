{
 "cells": [
  {
   "cell_type": "code",
   "execution_count": 1,
   "metadata": {
    "execution": {
     "iopub.execute_input": "2021-10-22T18:13:30.266660Z",
     "iopub.status.busy": "2021-10-22T18:13:30.266018Z",
     "iopub.status.idle": "2021-10-22T18:13:31.580329Z",
     "shell.execute_reply": "2021-10-22T18:13:31.579743Z"
    }
   },
   "outputs": [],
   "source": [
    "import json, yaml, requests\r\n",
    "from datetime import datetime\r\n",
    "from dateutil import tz\r\n",
    "import pandas as pd\r\n",
    "from PIL import Image\r\n",
    "from io import BytesIO\r\n",
    "import matplotlib.pyplot as plt\r\n",
    "import seaborn\r\n",
    "\r\n",
    "CONFIG_PATH = \"../config/config.yaml\""
   ]
  },
  {
   "cell_type": "code",
   "execution_count": 2,
   "metadata": {
    "execution": {
     "iopub.execute_input": "2021-10-22T18:13:31.585690Z",
     "iopub.status.busy": "2021-10-22T18:13:31.585178Z",
     "iopub.status.idle": "2021-10-22T18:13:31.591654Z",
     "shell.execute_reply": "2021-10-22T18:13:31.590908Z"
    }
   },
   "outputs": [],
   "source": [
    "with open('../newest_ts', 'r') as f:\r\n",
    "    newest_ts = f.read()\r\n",
    "\r\n",
    "data_path = f\"../data/data_{newest_ts}.json\"\r\n",
    "with open(data_path, 'r') as f:\r\n",
    "    data = json.load(f)\r\n",
    "\r\n",
    "with open(CONFIG_PATH, \"r\") as stream:\r\n",
    "    config = yaml.safe_load(stream)\r\n",
    "\r\n",
    "TIME_ZONE = config['time_zone']\r\n",
    "DATETIME_FORMAT = config['dt_format']"
   ]
  },
  {
   "cell_type": "code",
   "execution_count": 3,
   "metadata": {
    "execution": {
     "iopub.execute_input": "2021-10-22T18:13:31.597661Z",
     "iopub.status.busy": "2021-10-22T18:13:31.597025Z",
     "iopub.status.idle": "2021-10-22T18:13:31.603251Z",
     "shell.execute_reply": "2021-10-22T18:13:31.603649Z"
    }
   },
   "outputs": [
    {
     "name": "stdout",
     "output_type": "stream",
     "text": [
      "Recent query happens at 2021-10-23 02:13:26 (CST).\n"
     ]
    }
   ],
   "source": [
    "def ts2dt(ts, format=DATETIME_FORMAT):\r\n",
    "    dt = (datetime.utcfromtimestamp(int(ts))\r\n",
    "                    .replace(tzinfo=tz.tzutc())\r\n",
    "                    # .astimezone(tz.tzlocal())\r\n",
    "                    .astimezone(tz.gettz(TIME_ZONE)))\r\n",
    "    return dt.strftime(format), dt\r\n",
    "\r\n",
    "_, newest_dt = ts2dt(newest_ts)\r\n",
    "print(f\"Recent query happens at {newest_dt.strftime(DATETIME_FORMAT)} ({newest_dt.tzname()}).\")"
   ]
  },
  {
   "cell_type": "code",
   "execution_count": 4,
   "metadata": {
    "execution": {
     "iopub.execute_input": "2021-10-22T18:13:31.609558Z",
     "iopub.status.busy": "2021-10-22T18:13:31.608151Z",
     "iopub.status.idle": "2021-10-22T18:13:31.610179Z",
     "shell.execute_reply": "2021-10-22T18:13:31.610585Z"
    }
   },
   "outputs": [],
   "source": [
    "def degrees_to_cardinal(d):\r\n",
    "  dirs = ['N', 'NNE', 'NE', 'ENE', 'E', 'ESE', 'SE', 'SSE', 'S', 'SSW', 'SW', 'WSW', 'W', 'WNW', 'NW', 'NNW']\r\n",
    "  ix = int(round(d / (360. / len(dirs))))\r\n",
    "  return dirs[ix % len(dirs)]"
   ]
  },
  {
   "cell_type": "code",
   "execution_count": 5,
   "metadata": {
    "execution": {
     "iopub.execute_input": "2021-10-22T18:13:31.619415Z",
     "iopub.status.busy": "2021-10-22T18:13:31.617936Z",
     "iopub.status.idle": "2021-10-22T18:13:31.620016Z",
     "shell.execute_reply": "2021-10-22T18:13:31.620549Z"
    }
   },
   "outputs": [],
   "source": [
    "# data.keys()"
   ]
  },
  {
   "cell_type": "code",
   "execution_count": 6,
   "metadata": {
    "execution": {
     "iopub.execute_input": "2021-10-22T18:13:31.625104Z",
     "iopub.status.busy": "2021-10-22T18:13:31.623638Z",
     "iopub.status.idle": "2021-10-22T18:13:31.625931Z",
     "shell.execute_reply": "2021-10-22T18:13:31.626357Z"
    }
   },
   "outputs": [],
   "source": [
    "# data['current']"
   ]
  },
  {
   "cell_type": "code",
   "execution_count": 7,
   "metadata": {
    "execution": {
     "iopub.execute_input": "2021-10-22T18:13:31.654389Z",
     "iopub.status.busy": "2021-10-22T18:13:31.646088Z",
     "iopub.status.idle": "2021-10-22T18:13:32.048747Z",
     "shell.execute_reply": "2021-10-22T18:13:32.049459Z"
    }
   },
   "outputs": [
    {
     "data": {
      "image/png": "[encoded data removed]",
      "text/plain": [
       "<Figure size 216x216 with 1 Axes>"
      ]
     },
     "metadata": {
      "needs_background": "light"
     },
     "output_type": "display_data"
    },
    {
     "name": "stdout",
     "output_type": "stream",
     "text": [
      "Today, sun rises at 06:22 and sets at 17:51.\n",
      "Currently, the weather is Clouds (overcast clouds).\n",
      "The temperature is 19.21°C and it feels like 19.2°C.\n",
      "The UV index is 0, humidity is 77%.\n",
      "The pressure is 1019 hPa, percentage of cloud cover is 96%\n",
      "The wind comes from NE direction with a speed 2.24 m/s.\n"
     ]
    }
   ],
   "source": [
    "current = data['current']\r\n",
    "\r\n",
    "fig, ax = plt.subplots(figsize=(3, 3))\r\n",
    "icon = requests.get(f\"http://openweathermap.org/img/wn/{current['weather'][0]['icon']}@2x.png\")\r\n",
    "im = Image.open(BytesIO(icon.content))\r\n",
    "plt.imshow(im)\r\n",
    "ax.set_axis_off()\r\n",
    "plt.show()\r\n",
    "\r\n",
    "print(f\"Today, sun rises at {ts2dt(current['sunrise'], '%H:%M')[0]} \\\r\n",
    "and sets at {ts2dt(current['sunset'], '%H:%M')[0]}.\\n\\\r\n",
    "Currently, the weather is {current['weather'][0]['main']} ({current['weather'][0]['description']}).\\n\\\r\n",
    "The temperature is {current['temp']}°C and it feels like {current['feels_like']}°C.\\n\\\r\n",
    "The UV index is {current['uvi']}, humidity is {current['humidity']}%.\\n\\\r\n",
    "The pressure is {current['pressure']} hPa, percentage of cloud cover is {current['clouds']}%\\n\\\r\n",
    "The wind comes from {degrees_to_cardinal(current['wind_deg'])} direction with a speed {current['wind_speed']} m/s.\")"
   ]
  },
  {
   "cell_type": "code",
   "execution_count": 8,
   "metadata": {
    "execution": {
     "iopub.execute_input": "2021-10-22T18:13:32.053133Z",
     "iopub.status.busy": "2021-10-22T18:13:32.052087Z",
     "iopub.status.idle": "2021-10-22T18:13:32.059724Z",
     "shell.execute_reply": "2021-10-22T18:13:32.063537Z"
    }
   },
   "outputs": [],
   "source": [
    "df_hourly = pd.DataFrame(data['hourly'])\r\n",
    "df_daily = pd.DataFrame(data['daily'])"
   ]
  },
  {
   "cell_type": "code",
   "execution_count": 9,
   "metadata": {
    "execution": {
     "iopub.execute_input": "2021-10-22T18:13:32.067035Z",
     "iopub.status.busy": "2021-10-22T18:13:32.066064Z",
     "iopub.status.idle": "2021-10-22T18:13:32.396392Z",
     "shell.execute_reply": "2021-10-22T18:13:32.395911Z"
    }
   },
   "outputs": [
    {
     "data": {
      "image/png": "[encoded data removed]",
      "text/plain": [
       "<Figure size 864x432 with 1 Axes>"
      ]
     },
     "metadata": {
      "needs_background": "light"
     },
     "output_type": "display_data"
    }
   ],
   "source": [
    "fig, ax = plt.subplots(figsize=(12, 6))\r\n",
    "plt.plot(df_hourly.temp, '.-', label='Temperature')\r\n",
    "plt.plot(df_hourly.feels_like, '.-', label='Feels Like')\r\n",
    "ax.set(title='Temperature in future 48 hours', xlabel='Time', ylabel='Temperature')\r\n",
    "ax.set_xticks(list(range(0, len(df_hourly), 2)))\r\n",
    "ax.set_xticklabels([ts2dt(ts, '%m-%d %H:%M')[0] for i, ts in enumerate(df_hourly.dt) if i%2==0], \r\n",
    "                   rotation=45, ha=\"right\")\r\n",
    "ax.locator_params(nbins=15, axis='y')\r\n",
    "plt.legend()\r\n",
    "plt.show()"
   ]
  },
  {
   "cell_type": "code",
   "execution_count": 10,
   "metadata": {
    "execution": {
     "iopub.execute_input": "2021-10-22T18:13:32.400907Z",
     "iopub.status.busy": "2021-10-22T18:13:32.400407Z",
     "iopub.status.idle": "2021-10-22T18:13:32.422193Z",
     "shell.execute_reply": "2021-10-22T18:13:32.421676Z"
    }
   },
   "outputs": [
    {
     "data": {
      "text/html": [
       "<div>\n",
       "<style scoped>\n",
       "    .dataframe tbody tr th:only-of-type {\n",
       "        vertical-align: middle;\n",
       "    }\n",
       "\n",
       "    .dataframe tbody tr th {\n",
       "        vertical-align: top;\n",
       "    }\n",
       "\n",
       "    .dataframe thead th {\n",
       "        text-align: right;\n",
       "    }\n",
       "</style>\n",
       "<table border=\"1\" class=\"dataframe\">\n",
       "  <thead>\n",
       "    <tr style=\"text-align: right;\">\n",
       "      <th></th>\n",
       "      <th>dt</th>\n",
       "      <th>temp</th>\n",
       "      <th>feels_like</th>\n",
       "      <th>pressure</th>\n",
       "      <th>humidity</th>\n",
       "      <th>dew_point</th>\n",
       "      <th>uvi</th>\n",
       "      <th>clouds</th>\n",
       "      <th>visibility</th>\n",
       "      <th>wind_speed</th>\n",
       "      <th>wind_deg</th>\n",
       "      <th>wind_gust</th>\n",
       "      <th>weather</th>\n",
       "      <th>pop</th>\n",
       "      <th>rain</th>\n",
       "    </tr>\n",
       "  </thead>\n",
       "  <tbody>\n",
       "    <tr>\n",
       "      <th>0</th>\n",
       "      <td>1634925600</td>\n",
       "      <td>19.21</td>\n",
       "      <td>19.20</td>\n",
       "      <td>1019</td>\n",
       "      <td>77</td>\n",
       "      <td>15.08</td>\n",
       "      <td>0.0</td>\n",
       "      <td>96</td>\n",
       "      <td>10000</td>\n",
       "      <td>3.26</td>\n",
       "      <td>15</td>\n",
       "      <td>4.14</td>\n",
       "      <td>[{'id': 804, 'main': 'Clouds', 'description': ...</td>\n",
       "      <td>0.00</td>\n",
       "      <td>NaN</td>\n",
       "    </tr>\n",
       "    <tr>\n",
       "      <th>1</th>\n",
       "      <td>1634929200</td>\n",
       "      <td>18.92</td>\n",
       "      <td>18.83</td>\n",
       "      <td>1019</td>\n",
       "      <td>75</td>\n",
       "      <td>14.40</td>\n",
       "      <td>0.0</td>\n",
       "      <td>94</td>\n",
       "      <td>10000</td>\n",
       "      <td>3.17</td>\n",
       "      <td>18</td>\n",
       "      <td>4.02</td>\n",
       "      <td>[{'id': 804, 'main': 'Clouds', 'description': ...</td>\n",
       "      <td>0.00</td>\n",
       "      <td>NaN</td>\n",
       "    </tr>\n",
       "    <tr>\n",
       "      <th>2</th>\n",
       "      <td>1634932800</td>\n",
       "      <td>18.67</td>\n",
       "      <td>18.50</td>\n",
       "      <td>1019</td>\n",
       "      <td>73</td>\n",
       "      <td>13.74</td>\n",
       "      <td>0.0</td>\n",
       "      <td>94</td>\n",
       "      <td>10000</td>\n",
       "      <td>3.08</td>\n",
       "      <td>23</td>\n",
       "      <td>4.08</td>\n",
       "      <td>[{'id': 500, 'main': 'Rain', 'description': 'l...</td>\n",
       "      <td>0.23</td>\n",
       "      <td>{'1h': 0.15}</td>\n",
       "    </tr>\n",
       "    <tr>\n",
       "      <th>3</th>\n",
       "      <td>1634936400</td>\n",
       "      <td>18.51</td>\n",
       "      <td>18.30</td>\n",
       "      <td>1020</td>\n",
       "      <td>72</td>\n",
       "      <td>13.37</td>\n",
       "      <td>0.0</td>\n",
       "      <td>94</td>\n",
       "      <td>10000</td>\n",
       "      <td>3.23</td>\n",
       "      <td>26</td>\n",
       "      <td>4.29</td>\n",
       "      <td>[{'id': 804, 'main': 'Clouds', 'description': ...</td>\n",
       "      <td>0.03</td>\n",
       "      <td>NaN</td>\n",
       "    </tr>\n",
       "    <tr>\n",
       "      <th>4</th>\n",
       "      <td>1634940000</td>\n",
       "      <td>18.28</td>\n",
       "      <td>17.99</td>\n",
       "      <td>1021</td>\n",
       "      <td>70</td>\n",
       "      <td>12.72</td>\n",
       "      <td>0.0</td>\n",
       "      <td>95</td>\n",
       "      <td>10000</td>\n",
       "      <td>3.38</td>\n",
       "      <td>24</td>\n",
       "      <td>4.37</td>\n",
       "      <td>[{'id': 804, 'main': 'Clouds', 'description': ...</td>\n",
       "      <td>0.03</td>\n",
       "      <td>NaN</td>\n",
       "    </tr>\n",
       "  </tbody>\n",
       "</table>\n",
       "</div>"
      ],
      "text/plain": [
       "           dt   temp  feels_like  pressure  humidity  dew_point  uvi  clouds  \\\n",
       "0  1634925600  19.21       19.20      1019        77      15.08  0.0      96   \n",
       "1  1634929200  18.92       18.83      1019        75      14.40  0.0      94   \n",
       "2  1634932800  18.67       18.50      1019        73      13.74  0.0      94   \n",
       "3  1634936400  18.51       18.30      1020        72      13.37  0.0      94   \n",
       "4  1634940000  18.28       17.99      1021        70      12.72  0.0      95   \n",
       "\n",
       "   visibility  wind_speed  wind_deg  wind_gust  \\\n",
       "0       10000        3.26        15       4.14   \n",
       "1       10000        3.17        18       4.02   \n",
       "2       10000        3.08        23       4.08   \n",
       "3       10000        3.23        26       4.29   \n",
       "4       10000        3.38        24       4.37   \n",
       "\n",
       "                                             weather   pop          rain  \n",
       "0  [{'id': 804, 'main': 'Clouds', 'description': ...  0.00           NaN  \n",
       "1  [{'id': 804, 'main': 'Clouds', 'description': ...  0.00           NaN  \n",
       "2  [{'id': 500, 'main': 'Rain', 'description': 'l...  0.23  {'1h': 0.15}  \n",
       "3  [{'id': 804, 'main': 'Clouds', 'description': ...  0.03           NaN  \n",
       "4  [{'id': 804, 'main': 'Clouds', 'description': ...  0.03           NaN  "
      ]
     },
     "execution_count": 10,
     "metadata": {},
     "output_type": "execute_result"
    }
   ],
   "source": [
    "df_hourly.head()"
   ]
  },
  {
   "cell_type": "code",
   "execution_count": null,
   "metadata": {},
   "outputs": [],
   "source": []
  }
 ],
 "metadata": {
  "interpreter": {
   "hash": "c1b4cfe941b6d2466ad1fb5979e97da9cda8801728c8091b097ab734208fc00c"
  },
  "kernelspec": {
   "display_name": "Python 3.8.3 64-bit ('base': conda)",
   "name": "python3"
  },
  "language_info": {
   "codemirror_mode": {
    "name": "ipython",
    "version": 3
   },
   "file_extension": ".py",
   "mimetype": "text/x-python",
   "name": "python",
   "nbconvert_exporter": "python",
   "pygments_lexer": "ipython3",
   "version": "3.8.12"
  }
 },
 "nbformat": 4,
 "nbformat_minor": 2
}
