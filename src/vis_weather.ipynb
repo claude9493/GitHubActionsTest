{
 "cells": [
  {
   "cell_type": "code",
   "execution_count": 1,
   "metadata": {
    "execution": {
     "iopub.execute_input": "2021-10-15T01:59:04.317071Z",
     "iopub.status.busy": "2021-10-15T01:59:04.316475Z",
     "iopub.status.idle": "2021-10-15T01:59:05.583731Z",
     "shell.execute_reply": "2021-10-15T01:59:05.582692Z"
    }
   },
   "outputs": [],
   "source": [
    "import json, yaml, requests\r\n",
    "from datetime import datetime\r\n",
    "from dateutil import tz\r\n",
    "import pandas as pd\r\n",
    "from PIL import Image\r\n",
    "from io import BytesIO\r\n",
    "import matplotlib.pyplot as plt\r\n",
    "import seaborn\r\n",
    "\r\n",
    "CONFIG_PATH = \"../config/config.yaml\""
   ]
  },
  {
   "cell_type": "code",
   "execution_count": 2,
   "metadata": {
    "execution": {
     "iopub.execute_input": "2021-10-15T01:59:05.589044Z",
     "iopub.status.busy": "2021-10-15T01:59:05.588279Z",
     "iopub.status.idle": "2021-10-15T01:59:05.593103Z",
     "shell.execute_reply": "2021-10-15T01:59:05.592722Z"
    }
   },
   "outputs": [],
   "source": [
    "with open('../newest_ts', 'r') as f:\r\n",
    "    newest_ts = f.read()\r\n",
    "\r\n",
    "data_path = f\"../data/data_{newest_ts}.json\"\r\n",
    "with open(data_path, 'r') as f:\r\n",
    "    data = json.load(f)\r\n",
    "\r\n",
    "with open(CONFIG_PATH, \"r\") as stream:\r\n",
    "    config = yaml.safe_load(stream)\r\n",
    "\r\n",
    "TIME_ZONE = config['time_zone']\r\n",
    "DATETIME_FORMAT = config['dt_format']"
   ]
  },
  {
   "cell_type": "code",
   "execution_count": 3,
   "metadata": {
    "execution": {
     "iopub.execute_input": "2021-10-15T01:59:05.597426Z",
     "iopub.status.busy": "2021-10-15T01:59:05.596933Z",
     "iopub.status.idle": "2021-10-15T01:59:05.603227Z",
     "shell.execute_reply": "2021-10-15T01:59:05.603595Z"
    }
   },
   "outputs": [
    {
     "name": "stdout",
     "output_type": "stream",
     "text": [
      "Recent query happens at 2021-10-15 09:59:01 (CST).\n"
     ]
    }
   ],
   "source": [
    "def ts2dt(ts, format=DATETIME_FORMAT):\r\n",
    "    dt = (datetime.utcfromtimestamp(int(ts))\r\n",
    "                    .replace(tzinfo=tz.tzutc())\r\n",
    "                    # .astimezone(tz.tzlocal())\r\n",
    "                    .astimezone(tz.gettz(TIME_ZONE)))\r\n",
    "    return dt.strftime(format), dt\r\n",
    "\r\n",
    "_, newest_dt = ts2dt(newest_ts)\r\n",
    "print(f\"Recent query happens at {newest_dt.strftime(DATETIME_FORMAT)} ({newest_dt.tzname()}).\")"
   ]
  },
  {
   "cell_type": "code",
   "execution_count": 4,
   "metadata": {
    "execution": {
     "iopub.execute_input": "2021-10-15T01:59:05.608523Z",
     "iopub.status.busy": "2021-10-15T01:59:05.607340Z",
     "iopub.status.idle": "2021-10-15T01:59:05.609057Z",
     "shell.execute_reply": "2021-10-15T01:59:05.609422Z"
    }
   },
   "outputs": [],
   "source": [
    "def degrees_to_cardinal(d):\r\n",
    "  dirs = ['N', 'NNE', 'NE', 'ENE', 'E', 'ESE', 'SE', 'SSE', 'S', 'SSW', 'SW', 'WSW', 'W', 'WNW', 'NW', 'NNW']\r\n",
    "  ix = int(round(d / (360. / len(dirs))))\r\n",
    "  return dirs[ix % len(dirs)]"
   ]
  },
  {
   "cell_type": "code",
   "execution_count": 5,
   "metadata": {
    "execution": {
     "iopub.execute_input": "2021-10-15T01:59:05.613446Z",
     "iopub.status.busy": "2021-10-15T01:59:05.612293Z",
     "iopub.status.idle": "2021-10-15T01:59:05.613997Z",
     "shell.execute_reply": "2021-10-15T01:59:05.614361Z"
    }
   },
   "outputs": [],
   "source": [
    "# data.keys()"
   ]
  },
  {
   "cell_type": "code",
   "execution_count": 6,
   "metadata": {
    "execution": {
     "iopub.execute_input": "2021-10-15T01:59:05.618045Z",
     "iopub.status.busy": "2021-10-15T01:59:05.616938Z",
     "iopub.status.idle": "2021-10-15T01:59:05.618564Z",
     "shell.execute_reply": "2021-10-15T01:59:05.618927Z"
    }
   },
   "outputs": [],
   "source": [
    "# data['current']"
   ]
  },
  {
   "cell_type": "code",
   "execution_count": 7,
   "metadata": {
    "execution": {
     "iopub.execute_input": "2021-10-15T01:59:05.641133Z",
     "iopub.status.busy": "2021-10-15T01:59:05.640667Z",
     "iopub.status.idle": "2021-10-15T01:59:05.898739Z",
     "shell.execute_reply": "2021-10-15T01:59:05.899114Z"
    }
   },
   "outputs": [
    {
     "data": {
      "image/png": "[encoded data removed]",
      "text/plain": [
       "<Figure size 216x216 with 1 Axes>"
      ]
     },
     "metadata": {
      "needs_background": "light"
     },
     "output_type": "display_data"
    },
    {
     "name": "stdout",
     "output_type": "stream",
     "text": [
      "Today, sun rises at 06:18 and sets at 17:58.\n",
      "Currently, the weather is Clouds (overcast clouds).\n",
      "The temperature is 26.67°C and it feels like 29.1°C.\n",
      "The UV index is 1.72, humidity is 81%.\n",
      "The pressure is 1026 hPa, percentage of cloud cover is 100%\n",
      "The wind comes from NNE direction with a speed 0.89 m/s.\n"
     ]
    }
   ],
   "source": [
    "current = data['current']\r\n",
    "\r\n",
    "fig, ax = plt.subplots(figsize=(3, 3))\r\n",
    "icon = requests.get(f\"http://openweathermap.org/img/wn/{current['weather'][0]['icon']}@2x.png\")\r\n",
    "im = Image.open(BytesIO(icon.content))\r\n",
    "plt.imshow(im)\r\n",
    "ax.set_axis_off()\r\n",
    "plt.show()\r\n",
    "\r\n",
    "print(f\"Today, sun rises at {ts2dt(current['sunrise'], '%H:%M')[0]} \\\r\n",
    "and sets at {ts2dt(current['sunset'], '%H:%M')[0]}.\\n\\\r\n",
    "Currently, the weather is {current['weather'][0]['main']} ({current['weather'][0]['description']}).\\n\\\r\n",
    "The temperature is {current['temp']}°C and it feels like {current['feels_like']}°C.\\n\\\r\n",
    "The UV index is {current['uvi']}, humidity is {current['humidity']}%.\\n\\\r\n",
    "The pressure is {current['pressure']} hPa, percentage of cloud cover is {current['clouds']}%\\n\\\r\n",
    "The wind comes from {degrees_to_cardinal(current['wind_deg'])} direction with a speed {current['wind_speed']} m/s.\")"
   ]
  },
  {
   "cell_type": "code",
   "execution_count": 8,
   "metadata": {
    "execution": {
     "iopub.execute_input": "2021-10-15T01:59:05.905786Z",
     "iopub.status.busy": "2021-10-15T01:59:05.905310Z",
     "iopub.status.idle": "2021-10-15T01:59:05.907831Z",
     "shell.execute_reply": "2021-10-15T01:59:05.908483Z"
    }
   },
   "outputs": [],
   "source": [
    "df_hourly = pd.DataFrame(data['hourly'])\r\n",
    "df_daily = pd.DataFrame(data['daily'])"
   ]
  },
  {
   "cell_type": "code",
   "execution_count": 9,
   "metadata": {
    "execution": {
     "iopub.execute_input": "2021-10-15T01:59:05.911541Z",
     "iopub.status.busy": "2021-10-15T01:59:05.910602Z",
     "iopub.status.idle": "2021-10-15T01:59:06.146322Z",
     "shell.execute_reply": "2021-10-15T01:59:06.145471Z"
    }
   },
   "outputs": [
    {
     "data": {
      "image/png": "[encoded data removed]",
      "text/plain": [
       "<Figure size 864x432 with 1 Axes>"
      ]
     },
     "metadata": {
      "needs_background": "light"
     },
     "output_type": "display_data"
    }
   ],
   "source": [
    "fig, ax = plt.subplots(figsize=(12, 6))\r\n",
    "plt.plot(df_hourly.temp, '.-', label='Temperature')\r\n",
    "plt.plot(df_hourly.feels_like, '.-', label='Feels Like')\r\n",
    "ax.set(title='Temperature in future 48 hours', xlabel='Time', ylabel='Temperature')\r\n",
    "ax.set_xticks(list(range(0, len(df_hourly), 2)))\r\n",
    "ax.set_xticklabels([ts2dt(ts, '%m-%d %H:%M')[0] for i, ts in enumerate(df_hourly.dt) if i%2==0], \r\n",
    "                   rotation=45, ha=\"right\")\r\n",
    "ax.locator_params(nbins=15, axis='y')\r\n",
    "plt.legend()\r\n",
    "plt.show()"
   ]
  },
  {
   "cell_type": "code",
   "execution_count": 10,
   "metadata": {
    "execution": {
     "iopub.execute_input": "2021-10-15T01:59:06.158066Z",
     "iopub.status.busy": "2021-10-15T01:59:06.150146Z",
     "iopub.status.idle": "2021-10-15T01:59:06.170777Z",
     "shell.execute_reply": "2021-10-15T01:59:06.170373Z"
    }
   },
   "outputs": [
    {
     "data": {
      "text/html": [
       "<div>\n",
       "<style scoped>\n",
       "    .dataframe tbody tr th:only-of-type {\n",
       "        vertical-align: middle;\n",
       "    }\n",
       "\n",
       "    .dataframe tbody tr th {\n",
       "        vertical-align: top;\n",
       "    }\n",
       "\n",
       "    .dataframe thead th {\n",
       "        text-align: right;\n",
       "    }\n",
       "</style>\n",
       "<table border=\"1\" class=\"dataframe\">\n",
       "  <thead>\n",
       "    <tr style=\"text-align: right;\">\n",
       "      <th></th>\n",
       "      <th>dt</th>\n",
       "      <th>temp</th>\n",
       "      <th>feels_like</th>\n",
       "      <th>pressure</th>\n",
       "      <th>humidity</th>\n",
       "      <th>dew_point</th>\n",
       "      <th>uvi</th>\n",
       "      <th>clouds</th>\n",
       "      <th>visibility</th>\n",
       "      <th>wind_speed</th>\n",
       "      <th>wind_deg</th>\n",
       "      <th>wind_gust</th>\n",
       "      <th>weather</th>\n",
       "      <th>pop</th>\n",
       "      <th>rain</th>\n",
       "    </tr>\n",
       "  </thead>\n",
       "  <tbody>\n",
       "    <tr>\n",
       "      <th>0</th>\n",
       "      <td>1634259600</td>\n",
       "      <td>26.20</td>\n",
       "      <td>26.20</td>\n",
       "      <td>1023</td>\n",
       "      <td>83</td>\n",
       "      <td>23.08</td>\n",
       "      <td>0.86</td>\n",
       "      <td>100</td>\n",
       "      <td>10000</td>\n",
       "      <td>3.00</td>\n",
       "      <td>30</td>\n",
       "      <td>3.72</td>\n",
       "      <td>[{'id': 500, 'main': 'Rain', 'description': 'l...</td>\n",
       "      <td>0.71</td>\n",
       "      <td>{'1h': 0.19}</td>\n",
       "    </tr>\n",
       "    <tr>\n",
       "      <th>1</th>\n",
       "      <td>1634263200</td>\n",
       "      <td>26.67</td>\n",
       "      <td>29.10</td>\n",
       "      <td>1026</td>\n",
       "      <td>81</td>\n",
       "      <td>23.14</td>\n",
       "      <td>1.72</td>\n",
       "      <td>100</td>\n",
       "      <td>10000</td>\n",
       "      <td>3.15</td>\n",
       "      <td>30</td>\n",
       "      <td>3.96</td>\n",
       "      <td>[{'id': 804, 'main': 'Clouds', 'description': ...</td>\n",
       "      <td>0.64</td>\n",
       "      <td>NaN</td>\n",
       "    </tr>\n",
       "    <tr>\n",
       "      <th>2</th>\n",
       "      <td>1634266800</td>\n",
       "      <td>26.34</td>\n",
       "      <td>26.34</td>\n",
       "      <td>1023</td>\n",
       "      <td>82</td>\n",
       "      <td>23.02</td>\n",
       "      <td>2.55</td>\n",
       "      <td>100</td>\n",
       "      <td>10000</td>\n",
       "      <td>3.60</td>\n",
       "      <td>36</td>\n",
       "      <td>4.87</td>\n",
       "      <td>[{'id': 500, 'main': 'Rain', 'description': 'l...</td>\n",
       "      <td>0.57</td>\n",
       "      <td>{'1h': 0.21}</td>\n",
       "    </tr>\n",
       "    <tr>\n",
       "      <th>3</th>\n",
       "      <td>1634270400</td>\n",
       "      <td>26.14</td>\n",
       "      <td>26.14</td>\n",
       "      <td>1020</td>\n",
       "      <td>83</td>\n",
       "      <td>23.02</td>\n",
       "      <td>3.28</td>\n",
       "      <td>100</td>\n",
       "      <td>10000</td>\n",
       "      <td>3.72</td>\n",
       "      <td>34</td>\n",
       "      <td>5.33</td>\n",
       "      <td>[{'id': 500, 'main': 'Rain', 'description': 'l...</td>\n",
       "      <td>0.67</td>\n",
       "      <td>{'1h': 0.15}</td>\n",
       "    </tr>\n",
       "    <tr>\n",
       "      <th>4</th>\n",
       "      <td>1634274000</td>\n",
       "      <td>25.46</td>\n",
       "      <td>26.31</td>\n",
       "      <td>1016</td>\n",
       "      <td>86</td>\n",
       "      <td>22.95</td>\n",
       "      <td>3.22</td>\n",
       "      <td>100</td>\n",
       "      <td>10000</td>\n",
       "      <td>3.36</td>\n",
       "      <td>38</td>\n",
       "      <td>5.12</td>\n",
       "      <td>[{'id': 500, 'main': 'Rain', 'description': 'l...</td>\n",
       "      <td>0.82</td>\n",
       "      <td>{'1h': 0.84}</td>\n",
       "    </tr>\n",
       "  </tbody>\n",
       "</table>\n",
       "</div>"
      ],
      "text/plain": [
       "           dt   temp  feels_like  pressure  humidity  dew_point   uvi  clouds  \\\n",
       "0  1634259600  26.20       26.20      1023        83      23.08  0.86     100   \n",
       "1  1634263200  26.67       29.10      1026        81      23.14  1.72     100   \n",
       "2  1634266800  26.34       26.34      1023        82      23.02  2.55     100   \n",
       "3  1634270400  26.14       26.14      1020        83      23.02  3.28     100   \n",
       "4  1634274000  25.46       26.31      1016        86      22.95  3.22     100   \n",
       "\n",
       "   visibility  wind_speed  wind_deg  wind_gust  \\\n",
       "0       10000        3.00        30       3.72   \n",
       "1       10000        3.15        30       3.96   \n",
       "2       10000        3.60        36       4.87   \n",
       "3       10000        3.72        34       5.33   \n",
       "4       10000        3.36        38       5.12   \n",
       "\n",
       "                                             weather   pop          rain  \n",
       "0  [{'id': 500, 'main': 'Rain', 'description': 'l...  0.71  {'1h': 0.19}  \n",
       "1  [{'id': 804, 'main': 'Clouds', 'description': ...  0.64           NaN  \n",
       "2  [{'id': 500, 'main': 'Rain', 'description': 'l...  0.57  {'1h': 0.21}  \n",
       "3  [{'id': 500, 'main': 'Rain', 'description': 'l...  0.67  {'1h': 0.15}  \n",
       "4  [{'id': 500, 'main': 'Rain', 'description': 'l...  0.82  {'1h': 0.84}  "
      ]
     },
     "execution_count": 10,
     "metadata": {},
     "output_type": "execute_result"
    }
   ],
   "source": [
    "df_hourly.head()"
   ]
  },
  {
   "cell_type": "code",
   "execution_count": null,
   "metadata": {},
   "outputs": [],
   "source": []
  }
 ],
 "metadata": {
  "interpreter": {
   "hash": "c1b4cfe941b6d2466ad1fb5979e97da9cda8801728c8091b097ab734208fc00c"
  },
  "kernelspec": {
   "display_name": "Python 3.8.3 64-bit ('base': conda)",
   "name": "python3"
  },
  "language_info": {
   "codemirror_mode": {
    "name": "ipython",
    "version": 3
   },
   "file_extension": ".py",
   "mimetype": "text/x-python",
   "name": "python",
   "nbconvert_exporter": "python",
   "pygments_lexer": "ipython3",
   "version": "3.8.12"
  }
 },
 "nbformat": 4,
 "nbformat_minor": 2
}
