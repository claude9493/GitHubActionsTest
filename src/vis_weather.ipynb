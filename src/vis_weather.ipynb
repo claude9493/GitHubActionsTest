{
 "cells": [
  {
   "cell_type": "code",
   "execution_count": 1,
   "metadata": {
    "execution": {
     "iopub.execute_input": "2021-10-05T18:13:37.532278Z",
     "iopub.status.busy": "2021-10-05T18:13:37.531513Z",
     "iopub.status.idle": "2021-10-05T18:13:41.477256Z",
     "shell.execute_reply": "2021-10-05T18:13:41.476553Z"
    }
   },
   "outputs": [],
   "source": [
    "import json, yaml, requests\r\n",
    "from datetime import datetime\r\n",
    "from dateutil import tz\r\n",
    "import pandas as pd\r\n",
    "from PIL import Image\r\n",
    "from io import BytesIO\r\n",
    "import matplotlib.pyplot as plt\r\n",
    "import seaborn\r\n",
    "\r\n",
    "CONFIG_PATH = \"../config/config.yaml\""
   ]
  },
  {
   "cell_type": "code",
   "execution_count": 2,
   "metadata": {
    "execution": {
     "iopub.execute_input": "2021-10-05T18:13:41.486779Z",
     "iopub.status.busy": "2021-10-05T18:13:41.482747Z",
     "iopub.status.idle": "2021-10-05T18:13:41.489520Z",
     "shell.execute_reply": "2021-10-05T18:13:41.490365Z"
    }
   },
   "outputs": [],
   "source": [
    "with open('../newest_ts', 'r') as f:\r\n",
    "    newest_ts = f.read()\r\n",
    "\r\n",
    "data_path = f\"../data/data_{newest_ts}.json\"\r\n",
    "with open(data_path, 'r') as f:\r\n",
    "    data = json.load(f)\r\n",
    "\r\n",
    "with open(CONFIG_PATH, \"r\") as stream:\r\n",
    "    config = yaml.safe_load(stream)\r\n",
    "\r\n",
    "TIME_ZONE = config['time_zone']\r\n",
    "DATETIME_FORMAT = config['dt_format']"
   ]
  },
  {
   "cell_type": "code",
   "execution_count": 3,
   "metadata": {
    "execution": {
     "iopub.execute_input": "2021-10-05T18:13:41.499525Z",
     "iopub.status.busy": "2021-10-05T18:13:41.498780Z",
     "iopub.status.idle": "2021-10-05T18:13:41.626532Z",
     "shell.execute_reply": "2021-10-05T18:13:41.627166Z"
    }
   },
   "outputs": [
    {
     "name": "stdout",
     "output_type": "stream",
     "text": [
      "Recent query happens at 2021-10-06 02:13:33 (CST).\n"
     ]
    }
   ],
   "source": [
    "def ts2dt(ts, format=DATETIME_FORMAT):\r\n",
    "    dt = (datetime.utcfromtimestamp(int(ts))\r\n",
    "                    .replace(tzinfo=tz.tzutc())\r\n",
    "                    # .astimezone(tz.tzlocal())\r\n",
    "                    .astimezone(tz.gettz(TIME_ZONE)))\r\n",
    "    return dt.strftime(format), dt\r\n",
    "\r\n",
    "_, newest_dt = ts2dt(newest_ts)\r\n",
    "print(f\"Recent query happens at {newest_dt.strftime(DATETIME_FORMAT)} ({newest_dt.tzname()}).\")"
   ]
  },
  {
   "cell_type": "code",
   "execution_count": 4,
   "metadata": {
    "execution": {
     "iopub.execute_input": "2021-10-05T18:13:41.633367Z",
     "iopub.status.busy": "2021-10-05T18:13:41.632680Z",
     "iopub.status.idle": "2021-10-05T18:13:41.635753Z",
     "shell.execute_reply": "2021-10-05T18:13:41.634890Z"
    }
   },
   "outputs": [],
   "source": [
    "def degrees_to_cardinal(d):\r\n",
    "  dirs = ['N', 'NNE', 'NE', 'ENE', 'E', 'ESE', 'SE', 'SSE', 'S', 'SSW', 'SW', 'WSW', 'W', 'WNW', 'NW', 'NNW']\r\n",
    "  ix = int(round(d / (360. / len(dirs))))\r\n",
    "  return dirs[ix % len(dirs)]"
   ]
  },
  {
   "cell_type": "code",
   "execution_count": 5,
   "metadata": {
    "execution": {
     "iopub.execute_input": "2021-10-05T18:13:41.639650Z",
     "iopub.status.busy": "2021-10-05T18:13:41.639047Z",
     "iopub.status.idle": "2021-10-05T18:13:41.643067Z",
     "shell.execute_reply": "2021-10-05T18:13:41.642491Z"
    }
   },
   "outputs": [],
   "source": [
    "# data.keys()"
   ]
  },
  {
   "cell_type": "code",
   "execution_count": 6,
   "metadata": {
    "execution": {
     "iopub.execute_input": "2021-10-05T18:13:41.655713Z",
     "iopub.status.busy": "2021-10-05T18:13:41.655056Z",
     "iopub.status.idle": "2021-10-05T18:13:41.660679Z",
     "shell.execute_reply": "2021-10-05T18:13:41.660169Z"
    }
   },
   "outputs": [],
   "source": [
    "# data['current']"
   ]
  },
  {
   "cell_type": "code",
   "execution_count": 7,
   "metadata": {
    "execution": {
     "iopub.execute_input": "2021-10-05T18:13:41.692169Z",
     "iopub.status.busy": "2021-10-05T18:13:41.691552Z",
     "iopub.status.idle": "2021-10-05T18:13:42.123711Z",
     "shell.execute_reply": "2021-10-05T18:13:42.124201Z"
    }
   },
   "outputs": [
    {
     "data": {
      "image/png": "[encoded data removed]",
      "text/plain": [
       "<Figure size 216x216 with 1 Axes>"
      ]
     },
     "metadata": {
      "needs_background": "light"
     },
     "output_type": "display_data"
    },
    {
     "name": "stdout",
     "output_type": "stream",
     "text": [
      "Today, sun rises at 06:15 and sets at 18:06.\n",
      "Currently, the weather is Rain (light rain).\n",
      "The temperature is 28.73°C and it feels like 32.67°C.\n",
      "The UV index is 0, humidity is 73%.\n",
      "The pressure is 1009 hPa, percentage of cloud cover is 1%\n",
      "The wind comes from E direction with a speed 5.81 m/s.\n"
     ]
    }
   ],
   "source": [
    "current = data['current']\r\n",
    "\r\n",
    "fig, ax = plt.subplots(figsize=(3, 3))\r\n",
    "icon = requests.get(f\"http://openweathermap.org/img/wn/{current['weather'][0]['icon']}@2x.png\")\r\n",
    "im = Image.open(BytesIO(icon.content))\r\n",
    "plt.imshow(im)\r\n",
    "ax.set_axis_off()\r\n",
    "plt.show()\r\n",
    "\r\n",
    "print(f\"Today, sun rises at {ts2dt(current['sunrise'], '%H:%M')[0]} \\\r\n",
    "and sets at {ts2dt(current['sunset'], '%H:%M')[0]}.\\n\\\r\n",
    "Currently, the weather is {current['weather'][0]['main']} ({current['weather'][0]['description']}).\\n\\\r\n",
    "The temperature is {current['temp']}°C and it feels like {current['feels_like']}°C.\\n\\\r\n",
    "The UV index is {current['uvi']}, humidity is {current['humidity']}%.\\n\\\r\n",
    "The pressure is {current['pressure']} hPa, percentage of cloud cover is {current['clouds']}%\\n\\\r\n",
    "The wind comes from {degrees_to_cardinal(current['wind_deg'])} direction with a speed {current['wind_speed']} m/s.\")"
   ]
  },
  {
   "cell_type": "code",
   "execution_count": 8,
   "metadata": {
    "execution": {
     "iopub.execute_input": "2021-10-05T18:13:42.128249Z",
     "iopub.status.busy": "2021-10-05T18:13:42.127577Z",
     "iopub.status.idle": "2021-10-05T18:13:42.138097Z",
     "shell.execute_reply": "2021-10-05T18:13:42.138540Z"
    }
   },
   "outputs": [],
   "source": [
    "df_hourly = pd.DataFrame(data['hourly'])\r\n",
    "df_daily = pd.DataFrame(data['daily'])"
   ]
  },
  {
   "cell_type": "code",
   "execution_count": 9,
   "metadata": {
    "execution": {
     "iopub.execute_input": "2021-10-05T18:13:42.142871Z",
     "iopub.status.busy": "2021-10-05T18:13:42.141512Z",
     "iopub.status.idle": "2021-10-05T18:13:42.477811Z",
     "shell.execute_reply": "2021-10-05T18:13:42.476645Z"
    }
   },
   "outputs": [
    {
     "data": {
      "image/png": "[encoded data removed]",
      "text/plain": [
       "<Figure size 864x432 with 1 Axes>"
      ]
     },
     "metadata": {
      "needs_background": "light"
     },
     "output_type": "display_data"
    }
   ],
   "source": [
    "fig, ax = plt.subplots(figsize=(12, 6))\r\n",
    "plt.plot(df_hourly.temp, '.-', label='Temperature')\r\n",
    "plt.plot(df_hourly.feels_like, '.-', label='Feels Like')\r\n",
    "ax.set(title='Temperature in future 48 hours', xlabel='Time', ylabel='Temperature')\r\n",
    "ax.set_xticks(list(range(0, len(df_hourly), 2)))\r\n",
    "ax.set_xticklabels([ts2dt(ts, '%m-%d %H:%M')[0] for i, ts in enumerate(df_hourly.dt) if i%2==0], \r\n",
    "                   rotation=45, ha=\"right\")\r\n",
    "ax.locator_params(nbins=15, axis='y')\r\n",
    "plt.legend()\r\n",
    "plt.show()"
   ]
  },
  {
   "cell_type": "code",
   "execution_count": 10,
   "metadata": {
    "execution": {
     "iopub.execute_input": "2021-10-05T18:13:42.491776Z",
     "iopub.status.busy": "2021-10-05T18:13:42.491186Z",
     "iopub.status.idle": "2021-10-05T18:13:42.504083Z",
     "shell.execute_reply": "2021-10-05T18:13:42.504615Z"
    }
   },
   "outputs": [
    {
     "data": {
      "text/html": [
       "<div>\n",
       "<style scoped>\n",
       "    .dataframe tbody tr th:only-of-type {\n",
       "        vertical-align: middle;\n",
       "    }\n",
       "\n",
       "    .dataframe tbody tr th {\n",
       "        vertical-align: top;\n",
       "    }\n",
       "\n",
       "    .dataframe thead th {\n",
       "        text-align: right;\n",
       "    }\n",
       "</style>\n",
       "<table border=\"1\" class=\"dataframe\">\n",
       "  <thead>\n",
       "    <tr style=\"text-align: right;\">\n",
       "      <th></th>\n",
       "      <th>dt</th>\n",
       "      <th>temp</th>\n",
       "      <th>feels_like</th>\n",
       "      <th>pressure</th>\n",
       "      <th>humidity</th>\n",
       "      <th>dew_point</th>\n",
       "      <th>uvi</th>\n",
       "      <th>clouds</th>\n",
       "      <th>visibility</th>\n",
       "      <th>wind_speed</th>\n",
       "      <th>wind_deg</th>\n",
       "      <th>wind_gust</th>\n",
       "      <th>weather</th>\n",
       "      <th>pop</th>\n",
       "      <th>rain</th>\n",
       "    </tr>\n",
       "  </thead>\n",
       "  <tbody>\n",
       "    <tr>\n",
       "      <th>0</th>\n",
       "      <td>1633456800</td>\n",
       "      <td>28.73</td>\n",
       "      <td>32.67</td>\n",
       "      <td>1009</td>\n",
       "      <td>73</td>\n",
       "      <td>23.41</td>\n",
       "      <td>0.0</td>\n",
       "      <td>1</td>\n",
       "      <td>10000</td>\n",
       "      <td>9.54</td>\n",
       "      <td>71</td>\n",
       "      <td>12.57</td>\n",
       "      <td>[{'id': 800, 'main': 'Clear', 'description': '...</td>\n",
       "      <td>0.0</td>\n",
       "      <td>NaN</td>\n",
       "    </tr>\n",
       "    <tr>\n",
       "      <th>1</th>\n",
       "      <td>1633460400</td>\n",
       "      <td>28.37</td>\n",
       "      <td>32.03</td>\n",
       "      <td>1009</td>\n",
       "      <td>74</td>\n",
       "      <td>23.29</td>\n",
       "      <td>0.0</td>\n",
       "      <td>1</td>\n",
       "      <td>10000</td>\n",
       "      <td>8.94</td>\n",
       "      <td>67</td>\n",
       "      <td>11.95</td>\n",
       "      <td>[{'id': 800, 'main': 'Clear', 'description': '...</td>\n",
       "      <td>0.0</td>\n",
       "      <td>NaN</td>\n",
       "    </tr>\n",
       "    <tr>\n",
       "      <th>2</th>\n",
       "      <td>1633464000</td>\n",
       "      <td>27.91</td>\n",
       "      <td>31.02</td>\n",
       "      <td>1009</td>\n",
       "      <td>74</td>\n",
       "      <td>22.84</td>\n",
       "      <td>0.0</td>\n",
       "      <td>1</td>\n",
       "      <td>10000</td>\n",
       "      <td>8.43</td>\n",
       "      <td>67</td>\n",
       "      <td>11.08</td>\n",
       "      <td>[{'id': 800, 'main': 'Clear', 'description': '...</td>\n",
       "      <td>0.0</td>\n",
       "      <td>NaN</td>\n",
       "    </tr>\n",
       "    <tr>\n",
       "      <th>3</th>\n",
       "      <td>1633467600</td>\n",
       "      <td>27.37</td>\n",
       "      <td>29.91</td>\n",
       "      <td>1009</td>\n",
       "      <td>74</td>\n",
       "      <td>22.33</td>\n",
       "      <td>0.0</td>\n",
       "      <td>1</td>\n",
       "      <td>10000</td>\n",
       "      <td>8.12</td>\n",
       "      <td>68</td>\n",
       "      <td>10.45</td>\n",
       "      <td>[{'id': 800, 'main': 'Clear', 'description': '...</td>\n",
       "      <td>0.0</td>\n",
       "      <td>NaN</td>\n",
       "    </tr>\n",
       "    <tr>\n",
       "      <th>4</th>\n",
       "      <td>1633471200</td>\n",
       "      <td>26.82</td>\n",
       "      <td>28.94</td>\n",
       "      <td>1010</td>\n",
       "      <td>75</td>\n",
       "      <td>22.02</td>\n",
       "      <td>0.0</td>\n",
       "      <td>1</td>\n",
       "      <td>10000</td>\n",
       "      <td>8.05</td>\n",
       "      <td>70</td>\n",
       "      <td>10.25</td>\n",
       "      <td>[{'id': 800, 'main': 'Clear', 'description': '...</td>\n",
       "      <td>0.0</td>\n",
       "      <td>NaN</td>\n",
       "    </tr>\n",
       "  </tbody>\n",
       "</table>\n",
       "</div>"
      ],
      "text/plain": [
       "           dt   temp  feels_like  pressure  humidity  dew_point  uvi  clouds  \\\n",
       "0  1633456800  28.73       32.67      1009        73      23.41  0.0       1   \n",
       "1  1633460400  28.37       32.03      1009        74      23.29  0.0       1   \n",
       "2  1633464000  27.91       31.02      1009        74      22.84  0.0       1   \n",
       "3  1633467600  27.37       29.91      1009        74      22.33  0.0       1   \n",
       "4  1633471200  26.82       28.94      1010        75      22.02  0.0       1   \n",
       "\n",
       "   visibility  wind_speed  wind_deg  wind_gust  \\\n",
       "0       10000        9.54        71      12.57   \n",
       "1       10000        8.94        67      11.95   \n",
       "2       10000        8.43        67      11.08   \n",
       "3       10000        8.12        68      10.45   \n",
       "4       10000        8.05        70      10.25   \n",
       "\n",
       "                                             weather  pop rain  \n",
       "0  [{'id': 800, 'main': 'Clear', 'description': '...  0.0  NaN  \n",
       "1  [{'id': 800, 'main': 'Clear', 'description': '...  0.0  NaN  \n",
       "2  [{'id': 800, 'main': 'Clear', 'description': '...  0.0  NaN  \n",
       "3  [{'id': 800, 'main': 'Clear', 'description': '...  0.0  NaN  \n",
       "4  [{'id': 800, 'main': 'Clear', 'description': '...  0.0  NaN  "
      ]
     },
     "execution_count": 10,
     "metadata": {},
     "output_type": "execute_result"
    }
   ],
   "source": [
    "df_hourly.head()"
   ]
  },
  {
   "cell_type": "code",
   "execution_count": null,
   "metadata": {},
   "outputs": [],
   "source": []
  }
 ],
 "metadata": {
  "interpreter": {
   "hash": "c1b4cfe941b6d2466ad1fb5979e97da9cda8801728c8091b097ab734208fc00c"
  },
  "kernelspec": {
   "display_name": "Python 3.8.3 64-bit ('base': conda)",
   "name": "python3"
  },
  "language_info": {
   "codemirror_mode": {
    "name": "ipython",
    "version": 3
   },
   "file_extension": ".py",
   "mimetype": "text/x-python",
   "name": "python",
   "nbconvert_exporter": "python",
   "pygments_lexer": "ipython3",
   "version": "3.8.12"
  }
 },
 "nbformat": 4,
 "nbformat_minor": 2
}
