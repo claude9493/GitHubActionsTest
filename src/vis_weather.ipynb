{
 "cells": [
  {
   "cell_type": "code",
   "execution_count": 1,
   "metadata": {
    "execution": {
     "iopub.execute_input": "2021-10-23T05:10:35.073453Z",
     "iopub.status.busy": "2021-10-23T05:10:35.072838Z",
     "iopub.status.idle": "2021-10-23T05:10:36.277646Z",
     "shell.execute_reply": "2021-10-23T05:10:36.277025Z"
    }
   },
   "outputs": [],
   "source": [
    "import json, yaml, requests\r\n",
    "from datetime import datetime\r\n",
    "from dateutil import tz\r\n",
    "import pandas as pd\r\n",
    "from PIL import Image\r\n",
    "from io import BytesIO\r\n",
    "import matplotlib.pyplot as plt\r\n",
    "import seaborn\r\n",
    "\r\n",
    "CONFIG_PATH = \"../config/config.yaml\""
   ]
  },
  {
   "cell_type": "code",
   "execution_count": 2,
   "metadata": {
    "execution": {
     "iopub.execute_input": "2021-10-23T05:10:36.285170Z",
     "iopub.status.busy": "2021-10-23T05:10:36.282278Z",
     "iopub.status.idle": "2021-10-23T05:10:36.287778Z",
     "shell.execute_reply": "2021-10-23T05:10:36.287389Z"
    }
   },
   "outputs": [],
   "source": [
    "with open('../newest_ts', 'r') as f:\r\n",
    "    newest_ts = f.read()\r\n",
    "\r\n",
    "data_path = f\"../data/data_{newest_ts}.json\"\r\n",
    "with open(data_path, 'r') as f:\r\n",
    "    data = json.load(f)\r\n",
    "\r\n",
    "with open(CONFIG_PATH, \"r\") as stream:\r\n",
    "    config = yaml.safe_load(stream)\r\n",
    "\r\n",
    "TIME_ZONE = config['time_zone']\r\n",
    "DATETIME_FORMAT = config['dt_format']"
   ]
  },
  {
   "cell_type": "code",
   "execution_count": 3,
   "metadata": {
    "execution": {
     "iopub.execute_input": "2021-10-23T05:10:36.292026Z",
     "iopub.status.busy": "2021-10-23T05:10:36.291522Z",
     "iopub.status.idle": "2021-10-23T05:10:36.297549Z",
     "shell.execute_reply": "2021-10-23T05:10:36.298034Z"
    }
   },
   "outputs": [
    {
     "name": "stdout",
     "output_type": "stream",
     "text": [
      "Recent query happens at 2021-10-23 13:10:32 (CST).\n"
     ]
    }
   ],
   "source": [
    "def ts2dt(ts, format=DATETIME_FORMAT):\r\n",
    "    dt = (datetime.utcfromtimestamp(int(ts))\r\n",
    "                    .replace(tzinfo=tz.tzutc())\r\n",
    "                    # .astimezone(tz.tzlocal())\r\n",
    "                    .astimezone(tz.gettz(TIME_ZONE)))\r\n",
    "    return dt.strftime(format), dt\r\n",
    "\r\n",
    "_, newest_dt = ts2dt(newest_ts)\r\n",
    "print(f\"Recent query happens at {newest_dt.strftime(DATETIME_FORMAT)} ({newest_dt.tzname()}).\")"
   ]
  },
  {
   "cell_type": "code",
   "execution_count": 4,
   "metadata": {
    "execution": {
     "iopub.execute_input": "2021-10-23T05:10:36.303367Z",
     "iopub.status.busy": "2021-10-23T05:10:36.302252Z",
     "iopub.status.idle": "2021-10-23T05:10:36.303886Z",
     "shell.execute_reply": "2021-10-23T05:10:36.304247Z"
    }
   },
   "outputs": [],
   "source": [
    "def degrees_to_cardinal(d):\r\n",
    "  dirs = ['N', 'NNE', 'NE', 'ENE', 'E', 'ESE', 'SE', 'SSE', 'S', 'SSW', 'SW', 'WSW', 'W', 'WNW', 'NW', 'NNW']\r\n",
    "  ix = int(round(d / (360. / len(dirs))))\r\n",
    "  return dirs[ix % len(dirs)]"
   ]
  },
  {
   "cell_type": "code",
   "execution_count": 5,
   "metadata": {
    "execution": {
     "iopub.execute_input": "2021-10-23T05:10:36.308434Z",
     "iopub.status.busy": "2021-10-23T05:10:36.307297Z",
     "iopub.status.idle": "2021-10-23T05:10:36.308960Z",
     "shell.execute_reply": "2021-10-23T05:10:36.309321Z"
    }
   },
   "outputs": [],
   "source": [
    "# data.keys()"
   ]
  },
  {
   "cell_type": "code",
   "execution_count": 6,
   "metadata": {
    "execution": {
     "iopub.execute_input": "2021-10-23T05:10:36.313144Z",
     "iopub.status.busy": "2021-10-23T05:10:36.312084Z",
     "iopub.status.idle": "2021-10-23T05:10:36.313662Z",
     "shell.execute_reply": "2021-10-23T05:10:36.314024Z"
    }
   },
   "outputs": [],
   "source": [
    "# data['current']"
   ]
  },
  {
   "cell_type": "code",
   "execution_count": 7,
   "metadata": {
    "execution": {
     "iopub.execute_input": "2021-10-23T05:10:36.331241Z",
     "iopub.status.busy": "2021-10-23T05:10:36.330729Z",
     "iopub.status.idle": "2021-10-23T05:10:36.724110Z",
     "shell.execute_reply": "2021-10-23T05:10:36.724787Z"
    }
   },
   "outputs": [
    {
     "data": {
      "image/png": "[encoded data removed]",
      "text/plain": [
       "<Figure size 216x216 with 1 Axes>"
      ]
     },
     "metadata": {
      "needs_background": "light"
     },
     "output_type": "display_data"
    },
    {
     "name": "stdout",
     "output_type": "stream",
     "text": [
      "Today, sun rises at 06:22 and sets at 17:51.\n",
      "Currently, the weather is Clouds (broken clouds).\n",
      "The temperature is 22.52°C and it feels like 22.79°C.\n",
      "The UV index is 7.49, humidity is 75%.\n",
      "The pressure is 1018 hPa, percentage of cloud cover is 55%\n",
      "The wind comes from NE direction with a speed 3.15 m/s.\n"
     ]
    }
   ],
   "source": [
    "current = data['current']\r\n",
    "\r\n",
    "fig, ax = plt.subplots(figsize=(3, 3))\r\n",
    "icon = requests.get(f\"http://openweathermap.org/img/wn/{current['weather'][0]['icon']}@2x.png\")\r\n",
    "im = Image.open(BytesIO(icon.content))\r\n",
    "plt.imshow(im)\r\n",
    "ax.set_axis_off()\r\n",
    "plt.show()\r\n",
    "\r\n",
    "print(f\"Today, sun rises at {ts2dt(current['sunrise'], '%H:%M')[0]} \\\r\n",
    "and sets at {ts2dt(current['sunset'], '%H:%M')[0]}.\\n\\\r\n",
    "Currently, the weather is {current['weather'][0]['main']} ({current['weather'][0]['description']}).\\n\\\r\n",
    "The temperature is {current['temp']}°C and it feels like {current['feels_like']}°C.\\n\\\r\n",
    "The UV index is {current['uvi']}, humidity is {current['humidity']}%.\\n\\\r\n",
    "The pressure is {current['pressure']} hPa, percentage of cloud cover is {current['clouds']}%\\n\\\r\n",
    "The wind comes from {degrees_to_cardinal(current['wind_deg'])} direction with a speed {current['wind_speed']} m/s.\")"
   ]
  },
  {
   "cell_type": "code",
   "execution_count": 8,
   "metadata": {
    "execution": {
     "iopub.execute_input": "2021-10-23T05:10:36.727936Z",
     "iopub.status.busy": "2021-10-23T05:10:36.727470Z",
     "iopub.status.idle": "2021-10-23T05:10:36.736061Z",
     "shell.execute_reply": "2021-10-23T05:10:36.737136Z"
    }
   },
   "outputs": [],
   "source": [
    "df_hourly = pd.DataFrame(data['hourly'])\r\n",
    "df_daily = pd.DataFrame(data['daily'])"
   ]
  },
  {
   "cell_type": "code",
   "execution_count": 9,
   "metadata": {
    "execution": {
     "iopub.execute_input": "2021-10-23T05:10:36.741030Z",
     "iopub.status.busy": "2021-10-23T05:10:36.739939Z",
     "iopub.status.idle": "2021-10-23T05:10:36.996393Z",
     "shell.execute_reply": "2021-10-23T05:10:36.995587Z"
    }
   },
   "outputs": [
    {
     "data": {
      "image/png": "[encoded data removed]",
      "text/plain": [
       "<Figure size 864x432 with 1 Axes>"
      ]
     },
     "metadata": {
      "needs_background": "light"
     },
     "output_type": "display_data"
    }
   ],
   "source": [
    "fig, ax = plt.subplots(figsize=(12, 6))\r\n",
    "plt.plot(df_hourly.temp, '.-', label='Temperature')\r\n",
    "plt.plot(df_hourly.feels_like, '.-', label='Feels Like')\r\n",
    "ax.set(title='Temperature in future 48 hours', xlabel='Time', ylabel='Temperature')\r\n",
    "ax.set_xticks(list(range(0, len(df_hourly), 2)))\r\n",
    "ax.set_xticklabels([ts2dt(ts, '%m-%d %H:%M')[0] for i, ts in enumerate(df_hourly.dt) if i%2==0], \r\n",
    "                   rotation=45, ha=\"right\")\r\n",
    "ax.locator_params(nbins=15, axis='y')\r\n",
    "plt.legend()\r\n",
    "plt.show()"
   ]
  },
  {
   "cell_type": "code",
   "execution_count": 10,
   "metadata": {
    "execution": {
     "iopub.execute_input": "2021-10-23T05:10:37.007770Z",
     "iopub.status.busy": "2021-10-23T05:10:37.000330Z",
     "iopub.status.idle": "2021-10-23T05:10:37.019466Z",
     "shell.execute_reply": "2021-10-23T05:10:37.019017Z"
    }
   },
   "outputs": [
    {
     "data": {
      "text/html": [
       "<div>\n",
       "<style scoped>\n",
       "    .dataframe tbody tr th:only-of-type {\n",
       "        vertical-align: middle;\n",
       "    }\n",
       "\n",
       "    .dataframe tbody tr th {\n",
       "        vertical-align: top;\n",
       "    }\n",
       "\n",
       "    .dataframe thead th {\n",
       "        text-align: right;\n",
       "    }\n",
       "</style>\n",
       "<table border=\"1\" class=\"dataframe\">\n",
       "  <thead>\n",
       "    <tr style=\"text-align: right;\">\n",
       "      <th></th>\n",
       "      <th>dt</th>\n",
       "      <th>temp</th>\n",
       "      <th>feels_like</th>\n",
       "      <th>pressure</th>\n",
       "      <th>humidity</th>\n",
       "      <th>dew_point</th>\n",
       "      <th>uvi</th>\n",
       "      <th>clouds</th>\n",
       "      <th>visibility</th>\n",
       "      <th>wind_speed</th>\n",
       "      <th>wind_deg</th>\n",
       "      <th>wind_gust</th>\n",
       "      <th>weather</th>\n",
       "      <th>pop</th>\n",
       "    </tr>\n",
       "  </thead>\n",
       "  <tbody>\n",
       "    <tr>\n",
       "      <th>0</th>\n",
       "      <td>1634965200</td>\n",
       "      <td>22.52</td>\n",
       "      <td>22.79</td>\n",
       "      <td>1018</td>\n",
       "      <td>75</td>\n",
       "      <td>17.87</td>\n",
       "      <td>7.49</td>\n",
       "      <td>55</td>\n",
       "      <td>10000</td>\n",
       "      <td>3.15</td>\n",
       "      <td>46</td>\n",
       "      <td>3.52</td>\n",
       "      <td>[{'id': 803, 'main': 'Clouds', 'description': ...</td>\n",
       "      <td>0.0</td>\n",
       "    </tr>\n",
       "    <tr>\n",
       "      <th>1</th>\n",
       "      <td>1634968800</td>\n",
       "      <td>22.63</td>\n",
       "      <td>22.83</td>\n",
       "      <td>1018</td>\n",
       "      <td>72</td>\n",
       "      <td>17.33</td>\n",
       "      <td>6.02</td>\n",
       "      <td>54</td>\n",
       "      <td>10000</td>\n",
       "      <td>2.97</td>\n",
       "      <td>57</td>\n",
       "      <td>3.09</td>\n",
       "      <td>[{'id': 803, 'main': 'Clouds', 'description': ...</td>\n",
       "      <td>0.0</td>\n",
       "    </tr>\n",
       "    <tr>\n",
       "      <th>2</th>\n",
       "      <td>1634972400</td>\n",
       "      <td>22.71</td>\n",
       "      <td>22.84</td>\n",
       "      <td>1018</td>\n",
       "      <td>69</td>\n",
       "      <td>16.73</td>\n",
       "      <td>3.88</td>\n",
       "      <td>53</td>\n",
       "      <td>10000</td>\n",
       "      <td>2.62</td>\n",
       "      <td>62</td>\n",
       "      <td>2.98</td>\n",
       "      <td>[{'id': 803, 'main': 'Clouds', 'description': ...</td>\n",
       "      <td>0.0</td>\n",
       "    </tr>\n",
       "    <tr>\n",
       "      <th>3</th>\n",
       "      <td>1634976000</td>\n",
       "      <td>22.72</td>\n",
       "      <td>22.80</td>\n",
       "      <td>1018</td>\n",
       "      <td>67</td>\n",
       "      <td>16.28</td>\n",
       "      <td>1.78</td>\n",
       "      <td>56</td>\n",
       "      <td>10000</td>\n",
       "      <td>2.83</td>\n",
       "      <td>58</td>\n",
       "      <td>3.14</td>\n",
       "      <td>[{'id': 803, 'main': 'Clouds', 'description': ...</td>\n",
       "      <td>0.0</td>\n",
       "    </tr>\n",
       "    <tr>\n",
       "      <th>4</th>\n",
       "      <td>1634979600</td>\n",
       "      <td>22.53</td>\n",
       "      <td>22.59</td>\n",
       "      <td>1019</td>\n",
       "      <td>67</td>\n",
       "      <td>16.10</td>\n",
       "      <td>0.48</td>\n",
       "      <td>58</td>\n",
       "      <td>10000</td>\n",
       "      <td>3.57</td>\n",
       "      <td>51</td>\n",
       "      <td>3.73</td>\n",
       "      <td>[{'id': 803, 'main': 'Clouds', 'description': ...</td>\n",
       "      <td>0.0</td>\n",
       "    </tr>\n",
       "  </tbody>\n",
       "</table>\n",
       "</div>"
      ],
      "text/plain": [
       "           dt   temp  feels_like  pressure  humidity  dew_point   uvi  clouds  \\\n",
       "0  1634965200  22.52       22.79      1018        75      17.87  7.49      55   \n",
       "1  1634968800  22.63       22.83      1018        72      17.33  6.02      54   \n",
       "2  1634972400  22.71       22.84      1018        69      16.73  3.88      53   \n",
       "3  1634976000  22.72       22.80      1018        67      16.28  1.78      56   \n",
       "4  1634979600  22.53       22.59      1019        67      16.10  0.48      58   \n",
       "\n",
       "   visibility  wind_speed  wind_deg  wind_gust  \\\n",
       "0       10000        3.15        46       3.52   \n",
       "1       10000        2.97        57       3.09   \n",
       "2       10000        2.62        62       2.98   \n",
       "3       10000        2.83        58       3.14   \n",
       "4       10000        3.57        51       3.73   \n",
       "\n",
       "                                             weather  pop  \n",
       "0  [{'id': 803, 'main': 'Clouds', 'description': ...  0.0  \n",
       "1  [{'id': 803, 'main': 'Clouds', 'description': ...  0.0  \n",
       "2  [{'id': 803, 'main': 'Clouds', 'description': ...  0.0  \n",
       "3  [{'id': 803, 'main': 'Clouds', 'description': ...  0.0  \n",
       "4  [{'id': 803, 'main': 'Clouds', 'description': ...  0.0  "
      ]
     },
     "execution_count": 10,
     "metadata": {},
     "output_type": "execute_result"
    }
   ],
   "source": [
    "df_hourly.head()"
   ]
  },
  {
   "cell_type": "code",
   "execution_count": null,
   "metadata": {},
   "outputs": [],
   "source": []
  }
 ],
 "metadata": {
  "interpreter": {
   "hash": "c1b4cfe941b6d2466ad1fb5979e97da9cda8801728c8091b097ab734208fc00c"
  },
  "kernelspec": {
   "display_name": "Python 3.8.3 64-bit ('base': conda)",
   "name": "python3"
  },
  "language_info": {
   "codemirror_mode": {
    "name": "ipython",
    "version": 3
   },
   "file_extension": ".py",
   "mimetype": "text/x-python",
   "name": "python",
   "nbconvert_exporter": "python",
   "pygments_lexer": "ipython3",
   "version": "3.8.12"
  }
 },
 "nbformat": 4,
 "nbformat_minor": 2
}
