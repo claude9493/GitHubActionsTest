{
 "cells": [
  {
   "cell_type": "code",
   "execution_count": 1,
   "metadata": {
    "execution": {
     "iopub.execute_input": "2021-10-01T13:18:38.614393Z",
     "iopub.status.busy": "2021-10-01T13:18:38.613710Z",
     "iopub.status.idle": "2021-10-01T13:18:42.060063Z",
     "shell.execute_reply": "2021-10-01T13:18:42.060557Z"
    }
   },
   "outputs": [],
   "source": [
    "import json, yaml, requests\r\n",
    "from datetime import datetime\r\n",
    "from dateutil import tz\r\n",
    "import pandas as pd\r\n",
    "from PIL import Image\r\n",
    "from io import BytesIO\r\n",
    "import matplotlib.pyplot as plt\r\n",
    "import seaborn\r\n",
    "\r\n",
    "CONFIG_PATH = \"../config/config.yaml\""
   ]
  },
  {
   "cell_type": "code",
   "execution_count": 2,
   "metadata": {
    "execution": {
     "iopub.execute_input": "2021-10-01T13:18:42.067153Z",
     "iopub.status.busy": "2021-10-01T13:18:42.066169Z",
     "iopub.status.idle": "2021-10-01T13:18:42.075438Z",
     "shell.execute_reply": "2021-10-01T13:18:42.075939Z"
    }
   },
   "outputs": [],
   "source": [
    "with open('../newest_ts', 'r') as f:\r\n",
    "    newest_ts = f.read()\r\n",
    "\r\n",
    "data_path = f\"../data/data_{newest_ts}.json\"\r\n",
    "with open(data_path, 'r') as f:\r\n",
    "    data = json.load(f)\r\n",
    "\r\n",
    "with open(CONFIG_PATH, \"r\") as stream:\r\n",
    "    config = yaml.safe_load(stream)\r\n",
    "\r\n",
    "TIME_ZONE = config['time_zone']\r\n",
    "DATETIME_FORMAT = config['dt_format']"
   ]
  },
  {
   "cell_type": "code",
   "execution_count": 3,
   "metadata": {
    "execution": {
     "iopub.execute_input": "2021-10-01T13:18:42.082063Z",
     "iopub.status.busy": "2021-10-01T13:18:42.081080Z",
     "iopub.status.idle": "2021-10-01T13:18:42.114764Z",
     "shell.execute_reply": "2021-10-01T13:18:42.115268Z"
    }
   },
   "outputs": [
    {
     "name": "stdout",
     "output_type": "stream",
     "text": [
      "Recent query happens at 2021-10-01 21:18:34 (CST).\n"
     ]
    }
   ],
   "source": [
    "def ts2dt(ts, format=DATETIME_FORMAT):\r\n",
    "    dt = (datetime.utcfromtimestamp(int(ts))\r\n",
    "                    .replace(tzinfo=tz.tzutc())\r\n",
    "                    # .astimezone(tz.tzlocal())\r\n",
    "                    .astimezone(tz.gettz(TIME_ZONE)))\r\n",
    "    return dt.strftime(format), dt\r\n",
    "\r\n",
    "_, newest_dt = ts2dt(newest_ts)\r\n",
    "print(f\"Recent query happens at {newest_dt.strftime(DATETIME_FORMAT)} ({newest_dt.tzname()}).\")"
   ]
  },
  {
   "cell_type": "code",
   "execution_count": 4,
   "metadata": {
    "execution": {
     "iopub.execute_input": "2021-10-01T13:18:42.122102Z",
     "iopub.status.busy": "2021-10-01T13:18:42.120684Z",
     "iopub.status.idle": "2021-10-01T13:18:42.124319Z",
     "shell.execute_reply": "2021-10-01T13:18:42.123580Z"
    }
   },
   "outputs": [],
   "source": [
    "def degrees_to_cardinal(d):\r\n",
    "  dirs = ['N', 'NNE', 'NE', 'ENE', 'E', 'ESE', 'SE', 'SSE', 'S', 'SSW', 'SW', 'WSW', 'W', 'WNW', 'NW', 'NNW']\r\n",
    "  ix = int(round(d / (360. / len(dirs))))\r\n",
    "  return dirs[ix % len(dirs)]"
   ]
  },
  {
   "cell_type": "code",
   "execution_count": 5,
   "metadata": {
    "execution": {
     "iopub.execute_input": "2021-10-01T13:18:42.129028Z",
     "iopub.status.busy": "2021-10-01T13:18:42.128379Z",
     "iopub.status.idle": "2021-10-01T13:18:42.130861Z",
     "shell.execute_reply": "2021-10-01T13:18:42.130328Z"
    }
   },
   "outputs": [],
   "source": [
    "# data.keys()"
   ]
  },
  {
   "cell_type": "code",
   "execution_count": 6,
   "metadata": {
    "execution": {
     "iopub.execute_input": "2021-10-01T13:18:42.134771Z",
     "iopub.status.busy": "2021-10-01T13:18:42.134166Z",
     "iopub.status.idle": "2021-10-01T13:18:42.136826Z",
     "shell.execute_reply": "2021-10-01T13:18:42.136309Z"
    }
   },
   "outputs": [],
   "source": [
    "# data['current']"
   ]
  },
  {
   "cell_type": "code",
   "execution_count": 7,
   "metadata": {
    "execution": {
     "iopub.execute_input": "2021-10-01T13:18:42.160506Z",
     "iopub.status.busy": "2021-10-01T13:18:42.139180Z",
     "iopub.status.idle": "2021-10-01T13:18:42.625566Z",
     "shell.execute_reply": "2021-10-01T13:18:42.626899Z"
    }
   },
   "outputs": [
    {
     "data": {
      "image/png": "[encoded data removed]",
      "text/plain": [
       "<Figure size 216x216 with 1 Axes>"
      ]
     },
     "metadata": {
      "needs_background": "light"
     },
     "output_type": "display_data"
    },
    {
     "name": "stdout",
     "output_type": "stream",
     "text": [
      "Today, sun rises at 06:14 and sets at 18:11.\n",
      "Currently, the weather is Rain (light rain).\n",
      "The temperature is 29.59°C and it feels like 36.59°C.\n",
      "The UV index is 0, humidity is 81%.\n",
      "The pressure is 1006 hPa, percentage of cloud cover is 0%\n",
      "The wind comes from S direction with a speed 0.45 m/s.\n"
     ]
    }
   ],
   "source": [
    "current = data['current']\r\n",
    "\r\n",
    "fig, ax = plt.subplots(figsize=(3, 3))\r\n",
    "icon = requests.get(f\"http://openweathermap.org/img/wn/{current['weather'][0]['icon']}@2x.png\")\r\n",
    "im = Image.open(BytesIO(icon.content))\r\n",
    "plt.imshow(im)\r\n",
    "ax.set_axis_off()\r\n",
    "plt.show()\r\n",
    "\r\n",
    "print(f\"Today, sun rises at {ts2dt(current['sunrise'], '%H:%M')[0]} \\\r\n",
    "and sets at {ts2dt(current['sunset'], '%H:%M')[0]}.\\n\\\r\n",
    "Currently, the weather is {current['weather'][0]['main']} ({current['weather'][0]['description']}).\\n\\\r\n",
    "The temperature is {current['temp']}°C and it feels like {current['feels_like']}°C.\\n\\\r\n",
    "The UV index is {current['uvi']}, humidity is {current['humidity']}%.\\n\\\r\n",
    "The pressure is {current['pressure']} hPa, percentage of cloud cover is {current['clouds']}%\\n\\\r\n",
    "The wind comes from {degrees_to_cardinal(current['wind_deg'])} direction with a speed {current['wind_speed']} m/s.\")"
   ]
  },
  {
   "cell_type": "code",
   "execution_count": 8,
   "metadata": {
    "execution": {
     "iopub.execute_input": "2021-10-01T13:18:42.636507Z",
     "iopub.status.busy": "2021-10-01T13:18:42.634019Z",
     "iopub.status.idle": "2021-10-01T13:18:42.640534Z",
     "shell.execute_reply": "2021-10-01T13:18:42.641339Z"
    }
   },
   "outputs": [],
   "source": [
    "df_hourly = pd.DataFrame(data['hourly'])\r\n",
    "df_daily = pd.DataFrame(data['daily'])"
   ]
  },
  {
   "cell_type": "code",
   "execution_count": 9,
   "metadata": {
    "execution": {
     "iopub.execute_input": "2021-10-01T13:18:42.659762Z",
     "iopub.status.busy": "2021-10-01T13:18:42.648130Z",
     "iopub.status.idle": "2021-10-01T13:18:42.999380Z",
     "shell.execute_reply": "2021-10-01T13:18:42.999925Z"
    }
   },
   "outputs": [
    {
     "data": {
      "image/png": "[encoded data removed]",
      "text/plain": [
       "<Figure size 864x432 with 1 Axes>"
      ]
     },
     "metadata": {
      "needs_background": "light"
     },
     "output_type": "display_data"
    }
   ],
   "source": [
    "fig, ax = plt.subplots(figsize=(12, 6))\r\n",
    "plt.plot(df_hourly.temp, '.-', label='Temperature')\r\n",
    "plt.plot(df_hourly.feels_like, '.-', label='Feels Like')\r\n",
    "ax.set(title='Temperature in future 48 hours', xlabel='Time', ylabel='Temperature')\r\n",
    "ax.set_xticks(list(range(0, len(df_hourly), 2)))\r\n",
    "ax.set_xticklabels([ts2dt(ts, '%m-%d %H:%M')[0] for i, ts in enumerate(df_hourly.dt) if i%2==0], \r\n",
    "                   rotation=45, ha=\"right\")\r\n",
    "ax.locator_params(nbins=15, axis='y')\r\n",
    "plt.legend()\r\n",
    "plt.show()"
   ]
  },
  {
   "cell_type": "code",
   "execution_count": 10,
   "metadata": {
    "execution": {
     "iopub.execute_input": "2021-10-01T13:18:43.004515Z",
     "iopub.status.busy": "2021-10-01T13:18:43.003980Z",
     "iopub.status.idle": "2021-10-01T13:18:43.024313Z",
     "shell.execute_reply": "2021-10-01T13:18:43.024875Z"
    }
   },
   "outputs": [
    {
     "data": {
      "text/html": [
       "<div>\n",
       "<style scoped>\n",
       "    .dataframe tbody tr th:only-of-type {\n",
       "        vertical-align: middle;\n",
       "    }\n",
       "\n",
       "    .dataframe tbody tr th {\n",
       "        vertical-align: top;\n",
       "    }\n",
       "\n",
       "    .dataframe thead th {\n",
       "        text-align: right;\n",
       "    }\n",
       "</style>\n",
       "<table border=\"1\" class=\"dataframe\">\n",
       "  <thead>\n",
       "    <tr style=\"text-align: right;\">\n",
       "      <th></th>\n",
       "      <th>dt</th>\n",
       "      <th>temp</th>\n",
       "      <th>feels_like</th>\n",
       "      <th>pressure</th>\n",
       "      <th>humidity</th>\n",
       "      <th>dew_point</th>\n",
       "      <th>uvi</th>\n",
       "      <th>clouds</th>\n",
       "      <th>visibility</th>\n",
       "      <th>wind_speed</th>\n",
       "      <th>wind_deg</th>\n",
       "      <th>wind_gust</th>\n",
       "      <th>weather</th>\n",
       "      <th>pop</th>\n",
       "      <th>rain</th>\n",
       "    </tr>\n",
       "  </thead>\n",
       "  <tbody>\n",
       "    <tr>\n",
       "      <th>0</th>\n",
       "      <td>1633093200</td>\n",
       "      <td>29.59</td>\n",
       "      <td>36.59</td>\n",
       "      <td>1006</td>\n",
       "      <td>81</td>\n",
       "      <td>25.98</td>\n",
       "      <td>0.0</td>\n",
       "      <td>0</td>\n",
       "      <td>10000</td>\n",
       "      <td>2.51</td>\n",
       "      <td>196</td>\n",
       "      <td>2.52</td>\n",
       "      <td>[{'id': 501, 'main': 'Rain', 'description': 'm...</td>\n",
       "      <td>0.49</td>\n",
       "      <td>{'1h': 1.01}</td>\n",
       "    </tr>\n",
       "    <tr>\n",
       "      <th>1</th>\n",
       "      <td>1633096800</td>\n",
       "      <td>29.29</td>\n",
       "      <td>35.80</td>\n",
       "      <td>1007</td>\n",
       "      <td>81</td>\n",
       "      <td>25.69</td>\n",
       "      <td>0.0</td>\n",
       "      <td>0</td>\n",
       "      <td>10000</td>\n",
       "      <td>2.29</td>\n",
       "      <td>199</td>\n",
       "      <td>2.34</td>\n",
       "      <td>[{'id': 500, 'main': 'Rain', 'description': 'l...</td>\n",
       "      <td>0.47</td>\n",
       "      <td>{'1h': 0.13}</td>\n",
       "    </tr>\n",
       "    <tr>\n",
       "      <th>2</th>\n",
       "      <td>1633100400</td>\n",
       "      <td>28.97</td>\n",
       "      <td>34.88</td>\n",
       "      <td>1008</td>\n",
       "      <td>81</td>\n",
       "      <td>25.38</td>\n",
       "      <td>0.0</td>\n",
       "      <td>0</td>\n",
       "      <td>10000</td>\n",
       "      <td>2.24</td>\n",
       "      <td>195</td>\n",
       "      <td>2.29</td>\n",
       "      <td>[{'id': 500, 'main': 'Rain', 'description': 'l...</td>\n",
       "      <td>0.40</td>\n",
       "      <td>{'1h': 0.15}</td>\n",
       "    </tr>\n",
       "    <tr>\n",
       "      <th>3</th>\n",
       "      <td>1633104000</td>\n",
       "      <td>28.58</td>\n",
       "      <td>33.79</td>\n",
       "      <td>1009</td>\n",
       "      <td>81</td>\n",
       "      <td>25.00</td>\n",
       "      <td>0.0</td>\n",
       "      <td>1</td>\n",
       "      <td>10000</td>\n",
       "      <td>2.08</td>\n",
       "      <td>198</td>\n",
       "      <td>2.13</td>\n",
       "      <td>[{'id': 800, 'main': 'Clear', 'description': '...</td>\n",
       "      <td>0.37</td>\n",
       "      <td>NaN</td>\n",
       "    </tr>\n",
       "    <tr>\n",
       "      <th>4</th>\n",
       "      <td>1633107600</td>\n",
       "      <td>28.15</td>\n",
       "      <td>32.64</td>\n",
       "      <td>1010</td>\n",
       "      <td>81</td>\n",
       "      <td>24.58</td>\n",
       "      <td>0.0</td>\n",
       "      <td>1</td>\n",
       "      <td>10000</td>\n",
       "      <td>1.89</td>\n",
       "      <td>200</td>\n",
       "      <td>1.95</td>\n",
       "      <td>[{'id': 800, 'main': 'Clear', 'description': '...</td>\n",
       "      <td>0.41</td>\n",
       "      <td>NaN</td>\n",
       "    </tr>\n",
       "  </tbody>\n",
       "</table>\n",
       "</div>"
      ],
      "text/plain": [
       "           dt   temp  feels_like  pressure  humidity  dew_point  uvi  clouds  \\\n",
       "0  1633093200  29.59       36.59      1006        81      25.98  0.0       0   \n",
       "1  1633096800  29.29       35.80      1007        81      25.69  0.0       0   \n",
       "2  1633100400  28.97       34.88      1008        81      25.38  0.0       0   \n",
       "3  1633104000  28.58       33.79      1009        81      25.00  0.0       1   \n",
       "4  1633107600  28.15       32.64      1010        81      24.58  0.0       1   \n",
       "\n",
       "   visibility  wind_speed  wind_deg  wind_gust  \\\n",
       "0       10000        2.51       196       2.52   \n",
       "1       10000        2.29       199       2.34   \n",
       "2       10000        2.24       195       2.29   \n",
       "3       10000        2.08       198       2.13   \n",
       "4       10000        1.89       200       1.95   \n",
       "\n",
       "                                             weather   pop          rain  \n",
       "0  [{'id': 501, 'main': 'Rain', 'description': 'm...  0.49  {'1h': 1.01}  \n",
       "1  [{'id': 500, 'main': 'Rain', 'description': 'l...  0.47  {'1h': 0.13}  \n",
       "2  [{'id': 500, 'main': 'Rain', 'description': 'l...  0.40  {'1h': 0.15}  \n",
       "3  [{'id': 800, 'main': 'Clear', 'description': '...  0.37           NaN  \n",
       "4  [{'id': 800, 'main': 'Clear', 'description': '...  0.41           NaN  "
      ]
     },
     "execution_count": 10,
     "metadata": {},
     "output_type": "execute_result"
    }
   ],
   "source": [
    "df_hourly.head()"
   ]
  },
  {
   "cell_type": "code",
   "execution_count": null,
   "metadata": {},
   "outputs": [],
   "source": []
  }
 ],
 "metadata": {
  "interpreter": {
   "hash": "c1b4cfe941b6d2466ad1fb5979e97da9cda8801728c8091b097ab734208fc00c"
  },
  "kernelspec": {
   "display_name": "Python 3.8.3 64-bit ('base': conda)",
   "name": "python3"
  },
  "language_info": {
   "codemirror_mode": {
    "name": "ipython",
    "version": 3
   },
   "file_extension": ".py",
   "mimetype": "text/x-python",
   "name": "python",
   "nbconvert_exporter": "python",
   "pygments_lexer": "ipython3",
   "version": "3.8.12"
  }
 },
 "nbformat": 4,
 "nbformat_minor": 2
}
