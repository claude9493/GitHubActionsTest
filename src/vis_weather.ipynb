{
 "cells": [
  {
   "cell_type": "code",
   "execution_count": 1,
   "metadata": {
    "execution": {
     "iopub.execute_input": "2021-10-10T20:11:41.376000Z",
     "iopub.status.busy": "2021-10-10T20:11:41.375362Z",
     "iopub.status.idle": "2021-10-10T20:11:42.534441Z",
     "shell.execute_reply": "2021-10-10T20:11:42.533578Z"
    }
   },
   "outputs": [],
   "source": [
    "import json, yaml, requests\r\n",
    "from datetime import datetime\r\n",
    "from dateutil import tz\r\n",
    "import pandas as pd\r\n",
    "from PIL import Image\r\n",
    "from io import BytesIO\r\n",
    "import matplotlib.pyplot as plt\r\n",
    "import seaborn\r\n",
    "\r\n",
    "CONFIG_PATH = \"../config/config.yaml\""
   ]
  },
  {
   "cell_type": "code",
   "execution_count": 2,
   "metadata": {
    "execution": {
     "iopub.execute_input": "2021-10-10T20:11:42.541687Z",
     "iopub.status.busy": "2021-10-10T20:11:42.538935Z",
     "iopub.status.idle": "2021-10-10T20:11:42.545078Z",
     "shell.execute_reply": "2021-10-10T20:11:42.544514Z"
    }
   },
   "outputs": [],
   "source": [
    "with open('../newest_ts', 'r') as f:\r\n",
    "    newest_ts = f.read()\r\n",
    "\r\n",
    "data_path = f\"../data/data_{newest_ts}.json\"\r\n",
    "with open(data_path, 'r') as f:\r\n",
    "    data = json.load(f)\r\n",
    "\r\n",
    "with open(CONFIG_PATH, \"r\") as stream:\r\n",
    "    config = yaml.safe_load(stream)\r\n",
    "\r\n",
    "TIME_ZONE = config['time_zone']\r\n",
    "DATETIME_FORMAT = config['dt_format']"
   ]
  },
  {
   "cell_type": "code",
   "execution_count": 3,
   "metadata": {
    "execution": {
     "iopub.execute_input": "2021-10-10T20:11:42.551712Z",
     "iopub.status.busy": "2021-10-10T20:11:42.550135Z",
     "iopub.status.idle": "2021-10-10T20:11:42.556942Z",
     "shell.execute_reply": "2021-10-10T20:11:42.557325Z"
    }
   },
   "outputs": [
    {
     "name": "stdout",
     "output_type": "stream",
     "text": [
      "Recent query happens at 2021-10-11 04:11:38 (CST).\n"
     ]
    }
   ],
   "source": [
    "def ts2dt(ts, format=DATETIME_FORMAT):\r\n",
    "    dt = (datetime.utcfromtimestamp(int(ts))\r\n",
    "                    .replace(tzinfo=tz.tzutc())\r\n",
    "                    # .astimezone(tz.tzlocal())\r\n",
    "                    .astimezone(tz.gettz(TIME_ZONE)))\r\n",
    "    return dt.strftime(format), dt\r\n",
    "\r\n",
    "_, newest_dt = ts2dt(newest_ts)\r\n",
    "print(f\"Recent query happens at {newest_dt.strftime(DATETIME_FORMAT)} ({newest_dt.tzname()}).\")"
   ]
  },
  {
   "cell_type": "code",
   "execution_count": 4,
   "metadata": {
    "execution": {
     "iopub.execute_input": "2021-10-10T20:11:42.561882Z",
     "iopub.status.busy": "2021-10-10T20:11:42.561297Z",
     "iopub.status.idle": "2021-10-10T20:11:42.566356Z",
     "shell.execute_reply": "2021-10-10T20:11:42.565863Z"
    }
   },
   "outputs": [],
   "source": [
    "def degrees_to_cardinal(d):\r\n",
    "  dirs = ['N', 'NNE', 'NE', 'ENE', 'E', 'ESE', 'SE', 'SSE', 'S', 'SSW', 'SW', 'WSW', 'W', 'WNW', 'NW', 'NNW']\r\n",
    "  ix = int(round(d / (360. / len(dirs))))\r\n",
    "  return dirs[ix % len(dirs)]"
   ]
  },
  {
   "cell_type": "code",
   "execution_count": 5,
   "metadata": {
    "execution": {
     "iopub.execute_input": "2021-10-10T20:11:42.571173Z",
     "iopub.status.busy": "2021-10-10T20:11:42.569920Z",
     "iopub.status.idle": "2021-10-10T20:11:42.571769Z",
     "shell.execute_reply": "2021-10-10T20:11:42.572589Z"
    }
   },
   "outputs": [],
   "source": [
    "# data.keys()"
   ]
  },
  {
   "cell_type": "code",
   "execution_count": 6,
   "metadata": {
    "execution": {
     "iopub.execute_input": "2021-10-10T20:11:42.577761Z",
     "iopub.status.busy": "2021-10-10T20:11:42.576306Z",
     "iopub.status.idle": "2021-10-10T20:11:42.578566Z",
     "shell.execute_reply": "2021-10-10T20:11:42.579205Z"
    }
   },
   "outputs": [],
   "source": [
    "# data['current']"
   ]
  },
  {
   "cell_type": "code",
   "execution_count": 7,
   "metadata": {
    "execution": {
     "iopub.execute_input": "2021-10-10T20:11:42.598940Z",
     "iopub.status.busy": "2021-10-10T20:11:42.598364Z",
     "iopub.status.idle": "2021-10-10T20:11:43.202032Z",
     "shell.execute_reply": "2021-10-10T20:11:43.202866Z"
    }
   },
   "outputs": [
    {
     "data": {
      "image/png": "[encoded data removed]",
      "text/plain": [
       "<Figure size 216x216 with 1 Axes>"
      ]
     },
     "metadata": {
      "needs_background": "light"
     },
     "output_type": "display_data"
    },
    {
     "name": "stdout",
     "output_type": "stream",
     "text": [
      "Today, sun rises at 06:17 and sets at 18:01.\n",
      "Currently, the weather is Clouds (overcast clouds).\n",
      "The temperature is 26.41°C and it feels like 26.41°C.\n",
      "The UV index is 0, humidity is 88%.\n",
      "The pressure is 1005 hPa, percentage of cloud cover is 100%\n",
      "The wind comes from N direction with a speed 3.56 m/s.\n"
     ]
    }
   ],
   "source": [
    "current = data['current']\r\n",
    "\r\n",
    "fig, ax = plt.subplots(figsize=(3, 3))\r\n",
    "icon = requests.get(f\"http://openweathermap.org/img/wn/{current['weather'][0]['icon']}@2x.png\")\r\n",
    "im = Image.open(BytesIO(icon.content))\r\n",
    "plt.imshow(im)\r\n",
    "ax.set_axis_off()\r\n",
    "plt.show()\r\n",
    "\r\n",
    "print(f\"Today, sun rises at {ts2dt(current['sunrise'], '%H:%M')[0]} \\\r\n",
    "and sets at {ts2dt(current['sunset'], '%H:%M')[0]}.\\n\\\r\n",
    "Currently, the weather is {current['weather'][0]['main']} ({current['weather'][0]['description']}).\\n\\\r\n",
    "The temperature is {current['temp']}°C and it feels like {current['feels_like']}°C.\\n\\\r\n",
    "The UV index is {current['uvi']}, humidity is {current['humidity']}%.\\n\\\r\n",
    "The pressure is {current['pressure']} hPa, percentage of cloud cover is {current['clouds']}%\\n\\\r\n",
    "The wind comes from {degrees_to_cardinal(current['wind_deg'])} direction with a speed {current['wind_speed']} m/s.\")"
   ]
  },
  {
   "cell_type": "code",
   "execution_count": 8,
   "metadata": {
    "execution": {
     "iopub.execute_input": "2021-10-10T20:11:43.207057Z",
     "iopub.status.busy": "2021-10-10T20:11:43.206059Z",
     "iopub.status.idle": "2021-10-10T20:11:43.214173Z",
     "shell.execute_reply": "2021-10-10T20:11:43.214894Z"
    }
   },
   "outputs": [],
   "source": [
    "df_hourly = pd.DataFrame(data['hourly'])\r\n",
    "df_daily = pd.DataFrame(data['daily'])"
   ]
  },
  {
   "cell_type": "code",
   "execution_count": 9,
   "metadata": {
    "execution": {
     "iopub.execute_input": "2021-10-10T20:11:43.218531Z",
     "iopub.status.busy": "2021-10-10T20:11:43.217278Z",
     "iopub.status.idle": "2021-10-10T20:11:43.528204Z",
     "shell.execute_reply": "2021-10-10T20:11:43.528592Z"
    }
   },
   "outputs": [
    {
     "data": {
      "image/png": "[encoded data removed]",
      "text/plain": [
       "<Figure size 864x432 with 1 Axes>"
      ]
     },
     "metadata": {
      "needs_background": "light"
     },
     "output_type": "display_data"
    }
   ],
   "source": [
    "fig, ax = plt.subplots(figsize=(12, 6))\r\n",
    "plt.plot(df_hourly.temp, '.-', label='Temperature')\r\n",
    "plt.plot(df_hourly.feels_like, '.-', label='Feels Like')\r\n",
    "ax.set(title='Temperature in future 48 hours', xlabel='Time', ylabel='Temperature')\r\n",
    "ax.set_xticks(list(range(0, len(df_hourly), 2)))\r\n",
    "ax.set_xticklabels([ts2dt(ts, '%m-%d %H:%M')[0] for i, ts in enumerate(df_hourly.dt) if i%2==0], \r\n",
    "                   rotation=45, ha=\"right\")\r\n",
    "ax.locator_params(nbins=15, axis='y')\r\n",
    "plt.legend()\r\n",
    "plt.show()"
   ]
  },
  {
   "cell_type": "code",
   "execution_count": 10,
   "metadata": {
    "execution": {
     "iopub.execute_input": "2021-10-10T20:11:43.540574Z",
     "iopub.status.busy": "2021-10-10T20:11:43.532474Z",
     "iopub.status.idle": "2021-10-10T20:11:43.552761Z",
     "shell.execute_reply": "2021-10-10T20:11:43.552343Z"
    }
   },
   "outputs": [
    {
     "data": {
      "text/html": [
       "<div>\n",
       "<style scoped>\n",
       "    .dataframe tbody tr th:only-of-type {\n",
       "        vertical-align: middle;\n",
       "    }\n",
       "\n",
       "    .dataframe tbody tr th {\n",
       "        vertical-align: top;\n",
       "    }\n",
       "\n",
       "    .dataframe thead th {\n",
       "        text-align: right;\n",
       "    }\n",
       "</style>\n",
       "<table border=\"1\" class=\"dataframe\">\n",
       "  <thead>\n",
       "    <tr style=\"text-align: right;\">\n",
       "      <th></th>\n",
       "      <th>dt</th>\n",
       "      <th>temp</th>\n",
       "      <th>feels_like</th>\n",
       "      <th>pressure</th>\n",
       "      <th>humidity</th>\n",
       "      <th>dew_point</th>\n",
       "      <th>uvi</th>\n",
       "      <th>clouds</th>\n",
       "      <th>visibility</th>\n",
       "      <th>wind_speed</th>\n",
       "      <th>wind_deg</th>\n",
       "      <th>wind_gust</th>\n",
       "      <th>weather</th>\n",
       "      <th>pop</th>\n",
       "      <th>rain</th>\n",
       "    </tr>\n",
       "  </thead>\n",
       "  <tbody>\n",
       "    <tr>\n",
       "      <th>0</th>\n",
       "      <td>1633896000</td>\n",
       "      <td>26.41</td>\n",
       "      <td>26.41</td>\n",
       "      <td>1005</td>\n",
       "      <td>88</td>\n",
       "      <td>24.26</td>\n",
       "      <td>0.00</td>\n",
       "      <td>100</td>\n",
       "      <td>10000</td>\n",
       "      <td>3.56</td>\n",
       "      <td>349</td>\n",
       "      <td>7.27</td>\n",
       "      <td>[{'id': 804, 'main': 'Clouds', 'description': ...</td>\n",
       "      <td>0.02</td>\n",
       "      <td>NaN</td>\n",
       "    </tr>\n",
       "    <tr>\n",
       "      <th>1</th>\n",
       "      <td>1633899600</td>\n",
       "      <td>26.45</td>\n",
       "      <td>26.45</td>\n",
       "      <td>1005</td>\n",
       "      <td>86</td>\n",
       "      <td>23.92</td>\n",
       "      <td>0.00</td>\n",
       "      <td>100</td>\n",
       "      <td>10000</td>\n",
       "      <td>4.78</td>\n",
       "      <td>353</td>\n",
       "      <td>8.90</td>\n",
       "      <td>[{'id': 804, 'main': 'Clouds', 'description': ...</td>\n",
       "      <td>0.00</td>\n",
       "      <td>NaN</td>\n",
       "    </tr>\n",
       "    <tr>\n",
       "      <th>2</th>\n",
       "      <td>1633903200</td>\n",
       "      <td>26.39</td>\n",
       "      <td>26.39</td>\n",
       "      <td>1005</td>\n",
       "      <td>84</td>\n",
       "      <td>23.47</td>\n",
       "      <td>0.00</td>\n",
       "      <td>100</td>\n",
       "      <td>10000</td>\n",
       "      <td>5.71</td>\n",
       "      <td>360</td>\n",
       "      <td>10.67</td>\n",
       "      <td>[{'id': 804, 'main': 'Clouds', 'description': ...</td>\n",
       "      <td>0.00</td>\n",
       "      <td>NaN</td>\n",
       "    </tr>\n",
       "    <tr>\n",
       "      <th>3</th>\n",
       "      <td>1633906800</td>\n",
       "      <td>26.30</td>\n",
       "      <td>26.30</td>\n",
       "      <td>1006</td>\n",
       "      <td>82</td>\n",
       "      <td>22.98</td>\n",
       "      <td>0.11</td>\n",
       "      <td>93</td>\n",
       "      <td>10000</td>\n",
       "      <td>7.07</td>\n",
       "      <td>1</td>\n",
       "      <td>11.78</td>\n",
       "      <td>[{'id': 804, 'main': 'Clouds', 'description': ...</td>\n",
       "      <td>0.00</td>\n",
       "      <td>NaN</td>\n",
       "    </tr>\n",
       "    <tr>\n",
       "      <th>4</th>\n",
       "      <td>1633910400</td>\n",
       "      <td>26.60</td>\n",
       "      <td>26.60</td>\n",
       "      <td>1007</td>\n",
       "      <td>77</td>\n",
       "      <td>22.24</td>\n",
       "      <td>0.86</td>\n",
       "      <td>87</td>\n",
       "      <td>10000</td>\n",
       "      <td>8.01</td>\n",
       "      <td>4</td>\n",
       "      <td>11.98</td>\n",
       "      <td>[{'id': 804, 'main': 'Clouds', 'description': ...</td>\n",
       "      <td>0.00</td>\n",
       "      <td>NaN</td>\n",
       "    </tr>\n",
       "  </tbody>\n",
       "</table>\n",
       "</div>"
      ],
      "text/plain": [
       "           dt   temp  feels_like  pressure  humidity  dew_point   uvi  clouds  \\\n",
       "0  1633896000  26.41       26.41      1005        88      24.26  0.00     100   \n",
       "1  1633899600  26.45       26.45      1005        86      23.92  0.00     100   \n",
       "2  1633903200  26.39       26.39      1005        84      23.47  0.00     100   \n",
       "3  1633906800  26.30       26.30      1006        82      22.98  0.11      93   \n",
       "4  1633910400  26.60       26.60      1007        77      22.24  0.86      87   \n",
       "\n",
       "   visibility  wind_speed  wind_deg  wind_gust  \\\n",
       "0       10000        3.56       349       7.27   \n",
       "1       10000        4.78       353       8.90   \n",
       "2       10000        5.71       360      10.67   \n",
       "3       10000        7.07         1      11.78   \n",
       "4       10000        8.01         4      11.98   \n",
       "\n",
       "                                             weather   pop rain  \n",
       "0  [{'id': 804, 'main': 'Clouds', 'description': ...  0.02  NaN  \n",
       "1  [{'id': 804, 'main': 'Clouds', 'description': ...  0.00  NaN  \n",
       "2  [{'id': 804, 'main': 'Clouds', 'description': ...  0.00  NaN  \n",
       "3  [{'id': 804, 'main': 'Clouds', 'description': ...  0.00  NaN  \n",
       "4  [{'id': 804, 'main': 'Clouds', 'description': ...  0.00  NaN  "
      ]
     },
     "execution_count": 10,
     "metadata": {},
     "output_type": "execute_result"
    }
   ],
   "source": [
    "df_hourly.head()"
   ]
  },
  {
   "cell_type": "code",
   "execution_count": null,
   "metadata": {},
   "outputs": [],
   "source": []
  }
 ],
 "metadata": {
  "interpreter": {
   "hash": "c1b4cfe941b6d2466ad1fb5979e97da9cda8801728c8091b097ab734208fc00c"
  },
  "kernelspec": {
   "display_name": "Python 3.8.3 64-bit ('base': conda)",
   "name": "python3"
  },
  "language_info": {
   "codemirror_mode": {
    "name": "ipython",
    "version": 3
   },
   "file_extension": ".py",
   "mimetype": "text/x-python",
   "name": "python",
   "nbconvert_exporter": "python",
   "pygments_lexer": "ipython3",
   "version": "3.8.12"
  }
 },
 "nbformat": 4,
 "nbformat_minor": 2
}
