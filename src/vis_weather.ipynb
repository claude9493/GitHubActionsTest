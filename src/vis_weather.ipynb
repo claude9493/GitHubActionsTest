{
 "cells": [
  {
   "cell_type": "code",
   "execution_count": 1,
   "metadata": {
    "execution": {
     "iopub.execute_input": "2021-08-25T19:12:22.769584Z",
     "iopub.status.busy": "2021-08-25T19:12:22.768992Z",
     "iopub.status.idle": "2021-08-25T19:12:23.961898Z",
     "shell.execute_reply": "2021-08-25T19:12:23.961277Z"
    }
   },
   "outputs": [],
   "source": [
    "import json, yaml, requests\r\n",
    "from datetime import datetime\r\n",
    "from dateutil import tz\r\n",
    "import pandas as pd\r\n",
    "from PIL import Image\r\n",
    "from io import BytesIO\r\n",
    "import matplotlib.pyplot as plt\r\n",
    "import seaborn\r\n",
    "\r\n",
    "CONFIG_PATH = \"../config/config.yaml\""
   ]
  },
  {
   "cell_type": "code",
   "execution_count": 2,
   "metadata": {
    "execution": {
     "iopub.execute_input": "2021-08-25T19:12:23.966659Z",
     "iopub.status.busy": "2021-08-25T19:12:23.966183Z",
     "iopub.status.idle": "2021-08-25T19:12:23.971395Z",
     "shell.execute_reply": "2021-08-25T19:12:23.970711Z"
    }
   },
   "outputs": [],
   "source": [
    "with open('../newest_ts', 'r') as f:\r\n",
    "    newest_ts = f.read()\r\n",
    "\r\n",
    "data_path = f\"../data/data_{newest_ts}.json\"\r\n",
    "with open(data_path, 'r') as f:\r\n",
    "    data = json.load(f)\r\n",
    "\r\n",
    "with open(CONFIG_PATH, \"r\") as stream:\r\n",
    "    config = yaml.safe_load(stream)\r\n",
    "\r\n",
    "TIME_ZONE = config['time_zone']\r\n",
    "DATETIME_FORMAT = config['dt_format']"
   ]
  },
  {
   "cell_type": "code",
   "execution_count": 3,
   "metadata": {
    "execution": {
     "iopub.execute_input": "2021-08-25T19:12:23.975801Z",
     "iopub.status.busy": "2021-08-25T19:12:23.975203Z",
     "iopub.status.idle": "2021-08-25T19:12:23.995001Z",
     "shell.execute_reply": "2021-08-25T19:12:23.995355Z"
    }
   },
   "outputs": [
    {
     "name": "stdout",
     "output_type": "stream",
     "text": [
      "Recent query happens at 2021-08-26 03:12:20 (CST).\n"
     ]
    }
   ],
   "source": [
    "def ts2dt(ts, format=DATETIME_FORMAT):\r\n",
    "    dt = (datetime.utcfromtimestamp(int(ts))\r\n",
    "                    .replace(tzinfo=tz.tzutc())\r\n",
    "                    # .astimezone(tz.tzlocal())\r\n",
    "                    .astimezone(tz.gettz(TIME_ZONE)))\r\n",
    "    return dt.strftime(format), dt\r\n",
    "\r\n",
    "_, newest_dt = ts2dt(newest_ts)\r\n",
    "print(f\"Recent query happens at {newest_dt.strftime(DATETIME_FORMAT)} ({newest_dt.tzname()}).\")"
   ]
  },
  {
   "cell_type": "code",
   "execution_count": 4,
   "metadata": {
    "execution": {
     "iopub.execute_input": "2021-08-25T19:12:23.999077Z",
     "iopub.status.busy": "2021-08-25T19:12:23.997194Z",
     "iopub.status.idle": "2021-08-25T19:12:24.001576Z",
     "shell.execute_reply": "2021-08-25T19:12:24.001198Z"
    }
   },
   "outputs": [],
   "source": [
    "def degrees_to_cardinal(d):\r\n",
    "  dirs = ['N', 'NNE', 'NE', 'ENE', 'E', 'ESE', 'SE', 'SSE', 'S', 'SSW', 'SW', 'WSW', 'W', 'WNW', 'NW', 'NNW']\r\n",
    "  ix = int(round(d / (360. / len(dirs))))\r\n",
    "  return dirs[ix % len(dirs)]"
   ]
  },
  {
   "cell_type": "code",
   "execution_count": 5,
   "metadata": {
    "execution": {
     "iopub.execute_input": "2021-08-25T19:12:24.005372Z",
     "iopub.status.busy": "2021-08-25T19:12:24.004345Z",
     "iopub.status.idle": "2021-08-25T19:12:24.005896Z",
     "shell.execute_reply": "2021-08-25T19:12:24.006262Z"
    }
   },
   "outputs": [],
   "source": [
    "# data.keys()"
   ]
  },
  {
   "cell_type": "code",
   "execution_count": 6,
   "metadata": {
    "execution": {
     "iopub.execute_input": "2021-08-25T19:12:24.009769Z",
     "iopub.status.busy": "2021-08-25T19:12:24.008718Z",
     "iopub.status.idle": "2021-08-25T19:12:24.010284Z",
     "shell.execute_reply": "2021-08-25T19:12:24.010648Z"
    }
   },
   "outputs": [],
   "source": [
    "# data['current']"
   ]
  },
  {
   "cell_type": "code",
   "execution_count": 7,
   "metadata": {
    "execution": {
     "iopub.execute_input": "2021-08-25T19:12:24.027378Z",
     "iopub.status.busy": "2021-08-25T19:12:24.026900Z",
     "iopub.status.idle": "2021-08-25T19:12:24.313670Z",
     "shell.execute_reply": "2021-08-25T19:12:24.314296Z"
    }
   },
   "outputs": [
    {
     "data": {
      "image/png": "[encoded data removed]",
      "text/plain": [
       "<Figure size 216x216 with 1 Axes>"
      ]
     },
     "metadata": {
      "needs_background": "light"
     },
     "output_type": "display_data"
    },
    {
     "name": "stdout",
     "output_type": "stream",
     "text": [
      "Today, sun rises at 06:03 and sets at 18:46.\n",
      "Currently, the weather is Clouds (overcast clouds).\n",
      "The temperature is 29.23°C and it feels like 36.1°C.\n",
      "The UV index is 0, humidity is 83%.\n",
      "The pressure is 1010 hPa, percentage of cloud cover is 100%\n",
      "The wind comes from SE direction with a speed 2.62 m/s.\n"
     ]
    }
   ],
   "source": [
    "current = data['current']\r\n",
    "\r\n",
    "fig, ax = plt.subplots(figsize=(3, 3))\r\n",
    "icon = requests.get(f\"http://openweathermap.org/img/wn/{current['weather'][0]['icon']}@2x.png\")\r\n",
    "im = Image.open(BytesIO(icon.content))\r\n",
    "plt.imshow(im)\r\n",
    "ax.set_axis_off()\r\n",
    "plt.show()\r\n",
    "\r\n",
    "print(f\"Today, sun rises at {ts2dt(current['sunrise'], '%H:%M')[0]} \\\r\n",
    "and sets at {ts2dt(current['sunset'], '%H:%M')[0]}.\\n\\\r\n",
    "Currently, the weather is {current['weather'][0]['main']} ({current['weather'][0]['description']}).\\n\\\r\n",
    "The temperature is {current['temp']}°C and it feels like {current['feels_like']}°C.\\n\\\r\n",
    "The UV index is {current['uvi']}, humidity is {current['humidity']}%.\\n\\\r\n",
    "The pressure is {current['pressure']} hPa, percentage of cloud cover is {current['clouds']}%\\n\\\r\n",
    "The wind comes from {degrees_to_cardinal(current['wind_deg'])} direction with a speed {current['wind_speed']} m/s.\")"
   ]
  },
  {
   "cell_type": "code",
   "execution_count": 8,
   "metadata": {
    "execution": {
     "iopub.execute_input": "2021-08-25T19:12:24.321106Z",
     "iopub.status.busy": "2021-08-25T19:12:24.319026Z",
     "iopub.status.idle": "2021-08-25T19:12:24.323896Z",
     "shell.execute_reply": "2021-08-25T19:12:24.324493Z"
    }
   },
   "outputs": [],
   "source": [
    "df_hourly = pd.DataFrame(data['hourly'])\r\n",
    "df_daily = pd.DataFrame(data['daily'])"
   ]
  },
  {
   "cell_type": "code",
   "execution_count": 9,
   "metadata": {
    "execution": {
     "iopub.execute_input": "2021-08-25T19:12:24.338779Z",
     "iopub.status.busy": "2021-08-25T19:12:24.335362Z",
     "iopub.status.idle": "2021-08-25T19:12:24.566576Z",
     "shell.execute_reply": "2021-08-25T19:12:24.567219Z"
    }
   },
   "outputs": [
    {
     "data": {
      "image/png": "[encoded data removed]",
      "text/plain": [
       "<Figure size 864x432 with 1 Axes>"
      ]
     },
     "metadata": {
      "needs_background": "light"
     },
     "output_type": "display_data"
    }
   ],
   "source": [
    "fig, ax = plt.subplots(figsize=(12, 6))\r\n",
    "plt.plot(df_hourly.temp, '.-', label='Temperature')\r\n",
    "plt.plot(df_hourly.feels_like, '.-', label='Feels Like')\r\n",
    "ax.set(title='Temperature in future 48 hours', xlabel='Time', ylabel='Temperature')\r\n",
    "ax.set_xticks(list(range(0, len(df_hourly), 2)))\r\n",
    "ax.set_xticklabels([ts2dt(ts, '%m-%d %H:%M')[0] for i, ts in enumerate(df_hourly.dt) if i%2==0], \r\n",
    "                   rotation=45, ha=\"right\")\r\n",
    "ax.locator_params(nbins=15, axis='y')\r\n",
    "plt.legend()\r\n",
    "plt.show()"
   ]
  },
  {
   "cell_type": "code",
   "execution_count": 10,
   "metadata": {
    "execution": {
     "iopub.execute_input": "2021-08-25T19:12:24.578289Z",
     "iopub.status.busy": "2021-08-25T19:12:24.571223Z",
     "iopub.status.idle": "2021-08-25T19:12:24.588254Z",
     "shell.execute_reply": "2021-08-25T19:12:24.588850Z"
    }
   },
   "outputs": [
    {
     "data": {
      "text/html": [
       "<div>\n",
       "<style scoped>\n",
       "    .dataframe tbody tr th:only-of-type {\n",
       "        vertical-align: middle;\n",
       "    }\n",
       "\n",
       "    .dataframe tbody tr th {\n",
       "        vertical-align: top;\n",
       "    }\n",
       "\n",
       "    .dataframe thead th {\n",
       "        text-align: right;\n",
       "    }\n",
       "</style>\n",
       "<table border=\"1\" class=\"dataframe\">\n",
       "  <thead>\n",
       "    <tr style=\"text-align: right;\">\n",
       "      <th></th>\n",
       "      <th>dt</th>\n",
       "      <th>temp</th>\n",
       "      <th>feels_like</th>\n",
       "      <th>pressure</th>\n",
       "      <th>humidity</th>\n",
       "      <th>dew_point</th>\n",
       "      <th>uvi</th>\n",
       "      <th>clouds</th>\n",
       "      <th>visibility</th>\n",
       "      <th>wind_speed</th>\n",
       "      <th>wind_deg</th>\n",
       "      <th>wind_gust</th>\n",
       "      <th>weather</th>\n",
       "      <th>pop</th>\n",
       "      <th>rain</th>\n",
       "    </tr>\n",
       "  </thead>\n",
       "  <tbody>\n",
       "    <tr>\n",
       "      <th>0</th>\n",
       "      <td>1629918000</td>\n",
       "      <td>29.23</td>\n",
       "      <td>36.10</td>\n",
       "      <td>1010</td>\n",
       "      <td>83</td>\n",
       "      <td>26.04</td>\n",
       "      <td>0.00</td>\n",
       "      <td>100</td>\n",
       "      <td>10000</td>\n",
       "      <td>2.62</td>\n",
       "      <td>141</td>\n",
       "      <td>3.57</td>\n",
       "      <td>[{'id': 500, 'main': 'Rain', 'description': 'l...</td>\n",
       "      <td>0.65</td>\n",
       "      <td>{'1h': 0.53}</td>\n",
       "    </tr>\n",
       "    <tr>\n",
       "      <th>1</th>\n",
       "      <td>1629921600</td>\n",
       "      <td>28.89</td>\n",
       "      <td>34.86</td>\n",
       "      <td>1010</td>\n",
       "      <td>82</td>\n",
       "      <td>25.51</td>\n",
       "      <td>0.00</td>\n",
       "      <td>99</td>\n",
       "      <td>10000</td>\n",
       "      <td>2.24</td>\n",
       "      <td>146</td>\n",
       "      <td>3.21</td>\n",
       "      <td>[{'id': 804, 'main': 'Clouds', 'description': ...</td>\n",
       "      <td>0.63</td>\n",
       "      <td>NaN</td>\n",
       "    </tr>\n",
       "    <tr>\n",
       "      <th>2</th>\n",
       "      <td>1629925200</td>\n",
       "      <td>28.59</td>\n",
       "      <td>34.01</td>\n",
       "      <td>1010</td>\n",
       "      <td>82</td>\n",
       "      <td>25.21</td>\n",
       "      <td>0.00</td>\n",
       "      <td>91</td>\n",
       "      <td>10000</td>\n",
       "      <td>1.95</td>\n",
       "      <td>145</td>\n",
       "      <td>2.81</td>\n",
       "      <td>[{'id': 804, 'main': 'Clouds', 'description': ...</td>\n",
       "      <td>0.63</td>\n",
       "      <td>NaN</td>\n",
       "    </tr>\n",
       "    <tr>\n",
       "      <th>3</th>\n",
       "      <td>1629928800</td>\n",
       "      <td>28.26</td>\n",
       "      <td>32.93</td>\n",
       "      <td>1010</td>\n",
       "      <td>81</td>\n",
       "      <td>24.69</td>\n",
       "      <td>0.00</td>\n",
       "      <td>90</td>\n",
       "      <td>10000</td>\n",
       "      <td>1.91</td>\n",
       "      <td>129</td>\n",
       "      <td>2.71</td>\n",
       "      <td>[{'id': 804, 'main': 'Clouds', 'description': ...</td>\n",
       "      <td>0.51</td>\n",
       "      <td>NaN</td>\n",
       "    </tr>\n",
       "    <tr>\n",
       "      <th>4</th>\n",
       "      <td>1629932400</td>\n",
       "      <td>28.28</td>\n",
       "      <td>32.81</td>\n",
       "      <td>1011</td>\n",
       "      <td>80</td>\n",
       "      <td>24.50</td>\n",
       "      <td>0.37</td>\n",
       "      <td>90</td>\n",
       "      <td>10000</td>\n",
       "      <td>2.14</td>\n",
       "      <td>130</td>\n",
       "      <td>2.87</td>\n",
       "      <td>[{'id': 804, 'main': 'Clouds', 'description': ...</td>\n",
       "      <td>0.45</td>\n",
       "      <td>NaN</td>\n",
       "    </tr>\n",
       "  </tbody>\n",
       "</table>\n",
       "</div>"
      ],
      "text/plain": [
       "           dt   temp  feels_like  pressure  humidity  dew_point   uvi  clouds  \\\n",
       "0  1629918000  29.23       36.10      1010        83      26.04  0.00     100   \n",
       "1  1629921600  28.89       34.86      1010        82      25.51  0.00      99   \n",
       "2  1629925200  28.59       34.01      1010        82      25.21  0.00      91   \n",
       "3  1629928800  28.26       32.93      1010        81      24.69  0.00      90   \n",
       "4  1629932400  28.28       32.81      1011        80      24.50  0.37      90   \n",
       "\n",
       "   visibility  wind_speed  wind_deg  wind_gust  \\\n",
       "0       10000        2.62       141       3.57   \n",
       "1       10000        2.24       146       3.21   \n",
       "2       10000        1.95       145       2.81   \n",
       "3       10000        1.91       129       2.71   \n",
       "4       10000        2.14       130       2.87   \n",
       "\n",
       "                                             weather   pop          rain  \n",
       "0  [{'id': 500, 'main': 'Rain', 'description': 'l...  0.65  {'1h': 0.53}  \n",
       "1  [{'id': 804, 'main': 'Clouds', 'description': ...  0.63           NaN  \n",
       "2  [{'id': 804, 'main': 'Clouds', 'description': ...  0.63           NaN  \n",
       "3  [{'id': 804, 'main': 'Clouds', 'description': ...  0.51           NaN  \n",
       "4  [{'id': 804, 'main': 'Clouds', 'description': ...  0.45           NaN  "
      ]
     },
     "execution_count": 10,
     "metadata": {},
     "output_type": "execute_result"
    }
   ],
   "source": [
    "df_hourly.head()"
   ]
  },
  {
   "cell_type": "code",
   "execution_count": null,
   "metadata": {},
   "outputs": [],
   "source": []
  }
 ],
 "metadata": {
  "interpreter": {
   "hash": "c1b4cfe941b6d2466ad1fb5979e97da9cda8801728c8091b097ab734208fc00c"
  },
  "kernelspec": {
   "display_name": "Python 3.8.3 64-bit ('base': conda)",
   "name": "python3"
  },
  "language_info": {
   "codemirror_mode": {
    "name": "ipython",
    "version": 3
   },
   "file_extension": ".py",
   "mimetype": "text/x-python",
   "name": "python",
   "nbconvert_exporter": "python",
   "pygments_lexer": "ipython3",
   "version": "3.8.11"
  }
 },
 "nbformat": 4,
 "nbformat_minor": 2
}
