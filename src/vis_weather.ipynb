{
 "cells": [
  {
   "cell_type": "code",
   "execution_count": 1,
   "metadata": {
    "execution": {
     "iopub.execute_input": "2021-08-31T22:38:34.436428Z",
     "iopub.status.busy": "2021-08-31T22:38:34.435542Z",
     "iopub.status.idle": "2021-08-31T22:38:36.278690Z",
     "shell.execute_reply": "2021-08-31T22:38:36.277429Z"
    }
   },
   "outputs": [],
   "source": [
    "import json, yaml, requests\r\n",
    "from datetime import datetime\r\n",
    "from dateutil import tz\r\n",
    "import pandas as pd\r\n",
    "from PIL import Image\r\n",
    "from io import BytesIO\r\n",
    "import matplotlib.pyplot as plt\r\n",
    "import seaborn\r\n",
    "\r\n",
    "CONFIG_PATH = \"../config/config.yaml\""
   ]
  },
  {
   "cell_type": "code",
   "execution_count": 2,
   "metadata": {
    "execution": {
     "iopub.execute_input": "2021-08-31T22:38:36.289565Z",
     "iopub.status.busy": "2021-08-31T22:38:36.288755Z",
     "iopub.status.idle": "2021-08-31T22:38:36.291869Z",
     "shell.execute_reply": "2021-08-31T22:38:36.290745Z"
    }
   },
   "outputs": [],
   "source": [
    "with open('../newest_ts', 'r') as f:\r\n",
    "    newest_ts = f.read()\r\n",
    "\r\n",
    "data_path = f\"../data/data_{newest_ts}.json\"\r\n",
    "with open(data_path, 'r') as f:\r\n",
    "    data = json.load(f)\r\n",
    "\r\n",
    "with open(CONFIG_PATH, \"r\") as stream:\r\n",
    "    config = yaml.safe_load(stream)\r\n",
    "\r\n",
    "TIME_ZONE = config['time_zone']\r\n",
    "DATETIME_FORMAT = config['dt_format']"
   ]
  },
  {
   "cell_type": "code",
   "execution_count": 3,
   "metadata": {
    "execution": {
     "iopub.execute_input": "2021-08-31T22:38:36.296856Z",
     "iopub.status.busy": "2021-08-31T22:38:36.294146Z",
     "iopub.status.idle": "2021-08-31T22:38:36.329874Z",
     "shell.execute_reply": "2021-08-31T22:38:36.330408Z"
    }
   },
   "outputs": [
    {
     "name": "stdout",
     "output_type": "stream",
     "text": [
      "Recent query happens at 2021-09-01 06:38:30 (CST).\n"
     ]
    }
   ],
   "source": [
    "def ts2dt(ts, format=DATETIME_FORMAT):\r\n",
    "    dt = (datetime.utcfromtimestamp(int(ts))\r\n",
    "                    .replace(tzinfo=tz.tzutc())\r\n",
    "                    # .astimezone(tz.tzlocal())\r\n",
    "                    .astimezone(tz.gettz(TIME_ZONE)))\r\n",
    "    return dt.strftime(format), dt\r\n",
    "\r\n",
    "_, newest_dt = ts2dt(newest_ts)\r\n",
    "print(f\"Recent query happens at {newest_dt.strftime(DATETIME_FORMAT)} ({newest_dt.tzname()}).\")"
   ]
  },
  {
   "cell_type": "code",
   "execution_count": 4,
   "metadata": {
    "execution": {
     "iopub.execute_input": "2021-08-31T22:38:36.338863Z",
     "iopub.status.busy": "2021-08-31T22:38:36.336216Z",
     "iopub.status.idle": "2021-08-31T22:38:36.339709Z",
     "shell.execute_reply": "2021-08-31T22:38:36.340324Z"
    }
   },
   "outputs": [],
   "source": [
    "def degrees_to_cardinal(d):\r\n",
    "  dirs = ['N', 'NNE', 'NE', 'ENE', 'E', 'ESE', 'SE', 'SSE', 'S', 'SSW', 'SW', 'WSW', 'W', 'WNW', 'NW', 'NNW']\r\n",
    "  ix = int(round(d / (360. / len(dirs))))\r\n",
    "  return dirs[ix % len(dirs)]"
   ]
  },
  {
   "cell_type": "code",
   "execution_count": 5,
   "metadata": {
    "execution": {
     "iopub.execute_input": "2021-08-31T22:38:36.344889Z",
     "iopub.status.busy": "2021-08-31T22:38:36.344179Z",
     "iopub.status.idle": "2021-08-31T22:38:36.346657Z",
     "shell.execute_reply": "2021-08-31T22:38:36.347460Z"
    }
   },
   "outputs": [],
   "source": [
    "# data.keys()"
   ]
  },
  {
   "cell_type": "code",
   "execution_count": 6,
   "metadata": {
    "execution": {
     "iopub.execute_input": "2021-08-31T22:38:36.352865Z",
     "iopub.status.busy": "2021-08-31T22:38:36.351427Z",
     "iopub.status.idle": "2021-08-31T22:38:36.353490Z",
     "shell.execute_reply": "2021-08-31T22:38:36.353960Z"
    }
   },
   "outputs": [],
   "source": [
    "# data['current']"
   ]
  },
  {
   "cell_type": "code",
   "execution_count": 7,
   "metadata": {
    "execution": {
     "iopub.execute_input": "2021-08-31T22:38:36.376982Z",
     "iopub.status.busy": "2021-08-31T22:38:36.376346Z",
     "iopub.status.idle": "2021-08-31T22:38:36.990241Z",
     "shell.execute_reply": "2021-08-31T22:38:36.991098Z"
    }
   },
   "outputs": [
    {
     "data": {
      "image/png": "[encoded data removed]",
      "text/plain": [
       "<Figure size 216x216 with 1 Axes>"
      ]
     },
     "metadata": {
      "needs_background": "light"
     },
     "output_type": "display_data"
    },
    {
     "name": "stdout",
     "output_type": "stream",
     "text": [
      "Today, sun rises at 06:05 and sets at 18:40.\n",
      "Currently, the weather is Rain (moderate rain).\n",
      "The temperature is 27.34°C and it feels like 31.47°C.\n",
      "The UV index is 0.33, humidity is 88%.\n",
      "The pressure is 1010 hPa, percentage of cloud cover is 95%\n",
      "The wind comes from E direction with a speed 6.1 m/s.\n"
     ]
    }
   ],
   "source": [
    "current = data['current']\r\n",
    "\r\n",
    "fig, ax = plt.subplots(figsize=(3, 3))\r\n",
    "icon = requests.get(f\"http://openweathermap.org/img/wn/{current['weather'][0]['icon']}@2x.png\")\r\n",
    "im = Image.open(BytesIO(icon.content))\r\n",
    "plt.imshow(im)\r\n",
    "ax.set_axis_off()\r\n",
    "plt.show()\r\n",
    "\r\n",
    "print(f\"Today, sun rises at {ts2dt(current['sunrise'], '%H:%M')[0]} \\\r\n",
    "and sets at {ts2dt(current['sunset'], '%H:%M')[0]}.\\n\\\r\n",
    "Currently, the weather is {current['weather'][0]['main']} ({current['weather'][0]['description']}).\\n\\\r\n",
    "The temperature is {current['temp']}°C and it feels like {current['feels_like']}°C.\\n\\\r\n",
    "The UV index is {current['uvi']}, humidity is {current['humidity']}%.\\n\\\r\n",
    "The pressure is {current['pressure']} hPa, percentage of cloud cover is {current['clouds']}%\\n\\\r\n",
    "The wind comes from {degrees_to_cardinal(current['wind_deg'])} direction with a speed {current['wind_speed']} m/s.\")"
   ]
  },
  {
   "cell_type": "code",
   "execution_count": 8,
   "metadata": {
    "execution": {
     "iopub.execute_input": "2021-08-31T22:38:36.994851Z",
     "iopub.status.busy": "2021-08-31T22:38:36.994256Z",
     "iopub.status.idle": "2021-08-31T22:38:37.002430Z",
     "shell.execute_reply": "2021-08-31T22:38:37.003247Z"
    }
   },
   "outputs": [],
   "source": [
    "df_hourly = pd.DataFrame(data['hourly'])\r\n",
    "df_daily = pd.DataFrame(data['daily'])"
   ]
  },
  {
   "cell_type": "code",
   "execution_count": 9,
   "metadata": {
    "execution": {
     "iopub.execute_input": "2021-08-31T22:38:37.007165Z",
     "iopub.status.busy": "2021-08-31T22:38:37.005888Z",
     "iopub.status.idle": "2021-08-31T22:38:37.342481Z",
     "shell.execute_reply": "2021-08-31T22:38:37.342004Z"
    }
   },
   "outputs": [
    {
     "data": {
      "image/png": "[encoded data removed]",
      "text/plain": [
       "<Figure size 864x432 with 1 Axes>"
      ]
     },
     "metadata": {
      "needs_background": "light"
     },
     "output_type": "display_data"
    }
   ],
   "source": [
    "fig, ax = plt.subplots(figsize=(12, 6))\r\n",
    "plt.plot(df_hourly.temp, '.-', label='Temperature')\r\n",
    "plt.plot(df_hourly.feels_like, '.-', label='Feels Like')\r\n",
    "ax.set(title='Temperature in future 48 hours', xlabel='Time', ylabel='Temperature')\r\n",
    "ax.set_xticks(list(range(0, len(df_hourly), 2)))\r\n",
    "ax.set_xticklabels([ts2dt(ts, '%m-%d %H:%M')[0] for i, ts in enumerate(df_hourly.dt) if i%2==0], \r\n",
    "                   rotation=45, ha=\"right\")\r\n",
    "ax.locator_params(nbins=15, axis='y')\r\n",
    "plt.legend()\r\n",
    "plt.show()"
   ]
  },
  {
   "cell_type": "code",
   "execution_count": 10,
   "metadata": {
    "execution": {
     "iopub.execute_input": "2021-08-31T22:38:37.357672Z",
     "iopub.status.busy": "2021-08-31T22:38:37.346982Z",
     "iopub.status.idle": "2021-08-31T22:38:37.371135Z",
     "shell.execute_reply": "2021-08-31T22:38:37.370634Z"
    }
   },
   "outputs": [
    {
     "data": {
      "text/html": [
       "<div>\n",
       "<style scoped>\n",
       "    .dataframe tbody tr th:only-of-type {\n",
       "        vertical-align: middle;\n",
       "    }\n",
       "\n",
       "    .dataframe tbody tr th {\n",
       "        vertical-align: top;\n",
       "    }\n",
       "\n",
       "    .dataframe thead th {\n",
       "        text-align: right;\n",
       "    }\n",
       "</style>\n",
       "<table border=\"1\" class=\"dataframe\">\n",
       "  <thead>\n",
       "    <tr style=\"text-align: right;\">\n",
       "      <th></th>\n",
       "      <th>dt</th>\n",
       "      <th>temp</th>\n",
       "      <th>feels_like</th>\n",
       "      <th>pressure</th>\n",
       "      <th>humidity</th>\n",
       "      <th>dew_point</th>\n",
       "      <th>uvi</th>\n",
       "      <th>clouds</th>\n",
       "      <th>visibility</th>\n",
       "      <th>wind_speed</th>\n",
       "      <th>wind_deg</th>\n",
       "      <th>wind_gust</th>\n",
       "      <th>weather</th>\n",
       "      <th>pop</th>\n",
       "      <th>rain</th>\n",
       "    </tr>\n",
       "  </thead>\n",
       "  <tbody>\n",
       "    <tr>\n",
       "      <th>0</th>\n",
       "      <td>1630447200</td>\n",
       "      <td>27.22</td>\n",
       "      <td>31.02</td>\n",
       "      <td>1010</td>\n",
       "      <td>87</td>\n",
       "      <td>24.87</td>\n",
       "      <td>0.00</td>\n",
       "      <td>95</td>\n",
       "      <td>10000</td>\n",
       "      <td>6.08</td>\n",
       "      <td>75</td>\n",
       "      <td>8.30</td>\n",
       "      <td>[{'id': 501, 'main': 'Rain', 'description': 'm...</td>\n",
       "      <td>0.70</td>\n",
       "      <td>{'1h': 1.05}</td>\n",
       "    </tr>\n",
       "    <tr>\n",
       "      <th>1</th>\n",
       "      <td>1630450800</td>\n",
       "      <td>27.34</td>\n",
       "      <td>31.47</td>\n",
       "      <td>1010</td>\n",
       "      <td>88</td>\n",
       "      <td>25.18</td>\n",
       "      <td>0.33</td>\n",
       "      <td>95</td>\n",
       "      <td>10000</td>\n",
       "      <td>6.10</td>\n",
       "      <td>83</td>\n",
       "      <td>8.66</td>\n",
       "      <td>[{'id': 501, 'main': 'Rain', 'description': 'm...</td>\n",
       "      <td>0.70</td>\n",
       "      <td>{'1h': 2.73}</td>\n",
       "    </tr>\n",
       "    <tr>\n",
       "      <th>2</th>\n",
       "      <td>1630454400</td>\n",
       "      <td>27.41</td>\n",
       "      <td>31.41</td>\n",
       "      <td>1010</td>\n",
       "      <td>86</td>\n",
       "      <td>24.86</td>\n",
       "      <td>1.48</td>\n",
       "      <td>95</td>\n",
       "      <td>10000</td>\n",
       "      <td>6.22</td>\n",
       "      <td>85</td>\n",
       "      <td>8.50</td>\n",
       "      <td>[{'id': 804, 'main': 'Clouds', 'description': ...</td>\n",
       "      <td>0.74</td>\n",
       "      <td>NaN</td>\n",
       "    </tr>\n",
       "    <tr>\n",
       "      <th>3</th>\n",
       "      <td>1630458000</td>\n",
       "      <td>27.64</td>\n",
       "      <td>31.90</td>\n",
       "      <td>1010</td>\n",
       "      <td>85</td>\n",
       "      <td>24.89</td>\n",
       "      <td>3.67</td>\n",
       "      <td>94</td>\n",
       "      <td>10000</td>\n",
       "      <td>6.20</td>\n",
       "      <td>81</td>\n",
       "      <td>8.15</td>\n",
       "      <td>[{'id': 804, 'main': 'Clouds', 'description': ...</td>\n",
       "      <td>0.61</td>\n",
       "      <td>NaN</td>\n",
       "    </tr>\n",
       "    <tr>\n",
       "      <th>4</th>\n",
       "      <td>1630461600</td>\n",
       "      <td>27.98</td>\n",
       "      <td>32.36</td>\n",
       "      <td>1010</td>\n",
       "      <td>82</td>\n",
       "      <td>24.62</td>\n",
       "      <td>6.58</td>\n",
       "      <td>88</td>\n",
       "      <td>10000</td>\n",
       "      <td>6.12</td>\n",
       "      <td>81</td>\n",
       "      <td>7.79</td>\n",
       "      <td>[{'id': 500, 'main': 'Rain', 'description': 'l...</td>\n",
       "      <td>0.63</td>\n",
       "      <td>{'1h': 0.84}</td>\n",
       "    </tr>\n",
       "  </tbody>\n",
       "</table>\n",
       "</div>"
      ],
      "text/plain": [
       "           dt   temp  feels_like  pressure  humidity  dew_point   uvi  clouds  \\\n",
       "0  1630447200  27.22       31.02      1010        87      24.87  0.00      95   \n",
       "1  1630450800  27.34       31.47      1010        88      25.18  0.33      95   \n",
       "2  1630454400  27.41       31.41      1010        86      24.86  1.48      95   \n",
       "3  1630458000  27.64       31.90      1010        85      24.89  3.67      94   \n",
       "4  1630461600  27.98       32.36      1010        82      24.62  6.58      88   \n",
       "\n",
       "   visibility  wind_speed  wind_deg  wind_gust  \\\n",
       "0       10000        6.08        75       8.30   \n",
       "1       10000        6.10        83       8.66   \n",
       "2       10000        6.22        85       8.50   \n",
       "3       10000        6.20        81       8.15   \n",
       "4       10000        6.12        81       7.79   \n",
       "\n",
       "                                             weather   pop          rain  \n",
       "0  [{'id': 501, 'main': 'Rain', 'description': 'm...  0.70  {'1h': 1.05}  \n",
       "1  [{'id': 501, 'main': 'Rain', 'description': 'm...  0.70  {'1h': 2.73}  \n",
       "2  [{'id': 804, 'main': 'Clouds', 'description': ...  0.74           NaN  \n",
       "3  [{'id': 804, 'main': 'Clouds', 'description': ...  0.61           NaN  \n",
       "4  [{'id': 500, 'main': 'Rain', 'description': 'l...  0.63  {'1h': 0.84}  "
      ]
     },
     "execution_count": 10,
     "metadata": {},
     "output_type": "execute_result"
    }
   ],
   "source": [
    "df_hourly.head()"
   ]
  },
  {
   "cell_type": "code",
   "execution_count": null,
   "metadata": {},
   "outputs": [],
   "source": []
  }
 ],
 "metadata": {
  "interpreter": {
   "hash": "c1b4cfe941b6d2466ad1fb5979e97da9cda8801728c8091b097ab734208fc00c"
  },
  "kernelspec": {
   "display_name": "Python 3.8.3 64-bit ('base': conda)",
   "name": "python3"
  },
  "language_info": {
   "codemirror_mode": {
    "name": "ipython",
    "version": 3
   },
   "file_extension": ".py",
   "mimetype": "text/x-python",
   "name": "python",
   "nbconvert_exporter": "python",
   "pygments_lexer": "ipython3",
   "version": "3.8.11"
  }
 },
 "nbformat": 4,
 "nbformat_minor": 2
}
