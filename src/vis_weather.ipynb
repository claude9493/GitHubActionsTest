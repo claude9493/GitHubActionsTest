{
 "cells": [
  {
   "cell_type": "code",
   "execution_count": 1,
   "metadata": {
    "execution": {
     "iopub.execute_input": "2021-09-18T06:12:53.992072Z",
     "iopub.status.busy": "2021-09-18T06:12:53.991487Z",
     "iopub.status.idle": "2021-09-18T06:12:55.004858Z",
     "shell.execute_reply": "2021-09-18T06:12:55.004218Z"
    }
   },
   "outputs": [],
   "source": [
    "import json, yaml, requests\r\n",
    "from datetime import datetime\r\n",
    "from dateutil import tz\r\n",
    "import pandas as pd\r\n",
    "from PIL import Image\r\n",
    "from io import BytesIO\r\n",
    "import matplotlib.pyplot as plt\r\n",
    "import seaborn\r\n",
    "\r\n",
    "CONFIG_PATH = \"../config/config.yaml\""
   ]
  },
  {
   "cell_type": "code",
   "execution_count": 2,
   "metadata": {
    "execution": {
     "iopub.execute_input": "2021-09-18T06:12:55.011102Z",
     "iopub.status.busy": "2021-09-18T06:12:55.008993Z",
     "iopub.status.idle": "2021-09-18T06:12:55.013855Z",
     "shell.execute_reply": "2021-09-18T06:12:55.013481Z"
    }
   },
   "outputs": [],
   "source": [
    "with open('../newest_ts', 'r') as f:\r\n",
    "    newest_ts = f.read()\r\n",
    "\r\n",
    "data_path = f\"../data/data_{newest_ts}.json\"\r\n",
    "with open(data_path, 'r') as f:\r\n",
    "    data = json.load(f)\r\n",
    "\r\n",
    "with open(CONFIG_PATH, \"r\") as stream:\r\n",
    "    config = yaml.safe_load(stream)\r\n",
    "\r\n",
    "TIME_ZONE = config['time_zone']\r\n",
    "DATETIME_FORMAT = config['dt_format']"
   ]
  },
  {
   "cell_type": "code",
   "execution_count": 3,
   "metadata": {
    "execution": {
     "iopub.execute_input": "2021-09-18T06:12:55.017544Z",
     "iopub.status.busy": "2021-09-18T06:12:55.017075Z",
     "iopub.status.idle": "2021-09-18T06:12:55.027215Z",
     "shell.execute_reply": "2021-09-18T06:12:55.027591Z"
    }
   },
   "outputs": [
    {
     "name": "stdout",
     "output_type": "stream",
     "text": [
      "Recent query happens at 2021-09-18 14:12:51 (CST).\n"
     ]
    }
   ],
   "source": [
    "def ts2dt(ts, format=DATETIME_FORMAT):\r\n",
    "    dt = (datetime.utcfromtimestamp(int(ts))\r\n",
    "                    .replace(tzinfo=tz.tzutc())\r\n",
    "                    # .astimezone(tz.tzlocal())\r\n",
    "                    .astimezone(tz.gettz(TIME_ZONE)))\r\n",
    "    return dt.strftime(format), dt\r\n",
    "\r\n",
    "_, newest_dt = ts2dt(newest_ts)\r\n",
    "print(f\"Recent query happens at {newest_dt.strftime(DATETIME_FORMAT)} ({newest_dt.tzname()}).\")"
   ]
  },
  {
   "cell_type": "code",
   "execution_count": 4,
   "metadata": {
    "execution": {
     "iopub.execute_input": "2021-09-18T06:12:55.032021Z",
     "iopub.status.busy": "2021-09-18T06:12:55.031046Z",
     "iopub.status.idle": "2021-09-18T06:12:55.032526Z",
     "shell.execute_reply": "2021-09-18T06:12:55.032915Z"
    }
   },
   "outputs": [],
   "source": [
    "def degrees_to_cardinal(d):\r\n",
    "  dirs = ['N', 'NNE', 'NE', 'ENE', 'E', 'ESE', 'SE', 'SSE', 'S', 'SSW', 'SW', 'WSW', 'W', 'WNW', 'NW', 'NNW']\r\n",
    "  ix = int(round(d / (360. / len(dirs))))\r\n",
    "  return dirs[ix % len(dirs)]"
   ]
  },
  {
   "cell_type": "code",
   "execution_count": 5,
   "metadata": {
    "execution": {
     "iopub.execute_input": "2021-09-18T06:12:55.036847Z",
     "iopub.status.busy": "2021-09-18T06:12:55.035698Z",
     "iopub.status.idle": "2021-09-18T06:12:55.037352Z",
     "shell.execute_reply": "2021-09-18T06:12:55.037719Z"
    }
   },
   "outputs": [],
   "source": [
    "# data.keys()"
   ]
  },
  {
   "cell_type": "code",
   "execution_count": 6,
   "metadata": {
    "execution": {
     "iopub.execute_input": "2021-09-18T06:12:55.041115Z",
     "iopub.status.busy": "2021-09-18T06:12:55.040025Z",
     "iopub.status.idle": "2021-09-18T06:12:55.041628Z",
     "shell.execute_reply": "2021-09-18T06:12:55.041988Z"
    }
   },
   "outputs": [],
   "source": [
    "# data['current']"
   ]
  },
  {
   "cell_type": "code",
   "execution_count": 7,
   "metadata": {
    "execution": {
     "iopub.execute_input": "2021-09-18T06:12:55.057369Z",
     "iopub.status.busy": "2021-09-18T06:12:55.056868Z",
     "iopub.status.idle": "2021-09-18T06:12:55.439377Z",
     "shell.execute_reply": "2021-09-18T06:12:55.439959Z"
    }
   },
   "outputs": [
    {
     "data": {
      "image/png": "[encoded data removed]",
      "text/plain": [
       "<Figure size 216x216 with 1 Axes>"
      ]
     },
     "metadata": {
      "needs_background": "light"
     },
     "output_type": "display_data"
    },
    {
     "name": "stdout",
     "output_type": "stream",
     "text": [
      "Today, sun rises at 06:10 and sets at 18:24.\n",
      "Currently, the weather is Clouds (broken clouds).\n",
      "The temperature is 32.41°C and it feels like 39.41°C.\n",
      "The UV index is 7.24, humidity is 72%.\n",
      "The pressure is 1010 hPa, percentage of cloud cover is 77%\n",
      "The wind comes from E direction with a speed 5.82 m/s.\n"
     ]
    }
   ],
   "source": [
    "current = data['current']\r\n",
    "\r\n",
    "fig, ax = plt.subplots(figsize=(3, 3))\r\n",
    "icon = requests.get(f\"http://openweathermap.org/img/wn/{current['weather'][0]['icon']}@2x.png\")\r\n",
    "im = Image.open(BytesIO(icon.content))\r\n",
    "plt.imshow(im)\r\n",
    "ax.set_axis_off()\r\n",
    "plt.show()\r\n",
    "\r\n",
    "print(f\"Today, sun rises at {ts2dt(current['sunrise'], '%H:%M')[0]} \\\r\n",
    "and sets at {ts2dt(current['sunset'], '%H:%M')[0]}.\\n\\\r\n",
    "Currently, the weather is {current['weather'][0]['main']} ({current['weather'][0]['description']}).\\n\\\r\n",
    "The temperature is {current['temp']}°C and it feels like {current['feels_like']}°C.\\n\\\r\n",
    "The UV index is {current['uvi']}, humidity is {current['humidity']}%.\\n\\\r\n",
    "The pressure is {current['pressure']} hPa, percentage of cloud cover is {current['clouds']}%\\n\\\r\n",
    "The wind comes from {degrees_to_cardinal(current['wind_deg'])} direction with a speed {current['wind_speed']} m/s.\")"
   ]
  },
  {
   "cell_type": "code",
   "execution_count": 8,
   "metadata": {
    "execution": {
     "iopub.execute_input": "2021-09-18T06:12:55.442815Z",
     "iopub.status.busy": "2021-09-18T06:12:55.442002Z",
     "iopub.status.idle": "2021-09-18T06:12:55.448019Z",
     "shell.execute_reply": "2021-09-18T06:12:55.448565Z"
    }
   },
   "outputs": [],
   "source": [
    "df_hourly = pd.DataFrame(data['hourly'])\r\n",
    "df_daily = pd.DataFrame(data['daily'])"
   ]
  },
  {
   "cell_type": "code",
   "execution_count": 9,
   "metadata": {
    "execution": {
     "iopub.execute_input": "2021-09-18T06:12:55.451283Z",
     "iopub.status.busy": "2021-09-18T06:12:55.450388Z",
     "iopub.status.idle": "2021-09-18T06:12:55.674121Z",
     "shell.execute_reply": "2021-09-18T06:12:55.673629Z"
    }
   },
   "outputs": [
    {
     "data": {
      "image/png": "[encoded data removed]",
      "text/plain": [
       "<Figure size 864x432 with 1 Axes>"
      ]
     },
     "metadata": {
      "needs_background": "light"
     },
     "output_type": "display_data"
    }
   ],
   "source": [
    "fig, ax = plt.subplots(figsize=(12, 6))\r\n",
    "plt.plot(df_hourly.temp, '.-', label='Temperature')\r\n",
    "plt.plot(df_hourly.feels_like, '.-', label='Feels Like')\r\n",
    "ax.set(title='Temperature in future 48 hours', xlabel='Time', ylabel='Temperature')\r\n",
    "ax.set_xticks(list(range(0, len(df_hourly), 2)))\r\n",
    "ax.set_xticklabels([ts2dt(ts, '%m-%d %H:%M')[0] for i, ts in enumerate(df_hourly.dt) if i%2==0], \r\n",
    "                   rotation=45, ha=\"right\")\r\n",
    "ax.locator_params(nbins=15, axis='y')\r\n",
    "plt.legend()\r\n",
    "plt.show()"
   ]
  },
  {
   "cell_type": "code",
   "execution_count": 10,
   "metadata": {
    "execution": {
     "iopub.execute_input": "2021-09-18T06:12:55.684136Z",
     "iopub.status.busy": "2021-09-18T06:12:55.677592Z",
     "iopub.status.idle": "2021-09-18T06:12:55.693421Z",
     "shell.execute_reply": "2021-09-18T06:12:55.693041Z"
    }
   },
   "outputs": [
    {
     "data": {
      "text/html": [
       "<div>\n",
       "<style scoped>\n",
       "    .dataframe tbody tr th:only-of-type {\n",
       "        vertical-align: middle;\n",
       "    }\n",
       "\n",
       "    .dataframe tbody tr th {\n",
       "        vertical-align: top;\n",
       "    }\n",
       "\n",
       "    .dataframe thead th {\n",
       "        text-align: right;\n",
       "    }\n",
       "</style>\n",
       "<table border=\"1\" class=\"dataframe\">\n",
       "  <thead>\n",
       "    <tr style=\"text-align: right;\">\n",
       "      <th></th>\n",
       "      <th>dt</th>\n",
       "      <th>temp</th>\n",
       "      <th>feels_like</th>\n",
       "      <th>pressure</th>\n",
       "      <th>humidity</th>\n",
       "      <th>dew_point</th>\n",
       "      <th>uvi</th>\n",
       "      <th>clouds</th>\n",
       "      <th>visibility</th>\n",
       "      <th>wind_speed</th>\n",
       "      <th>wind_deg</th>\n",
       "      <th>wind_gust</th>\n",
       "      <th>weather</th>\n",
       "      <th>pop</th>\n",
       "      <th>rain</th>\n",
       "    </tr>\n",
       "  </thead>\n",
       "  <tbody>\n",
       "    <tr>\n",
       "      <th>0</th>\n",
       "      <td>1631944800</td>\n",
       "      <td>32.41</td>\n",
       "      <td>39.41</td>\n",
       "      <td>1010</td>\n",
       "      <td>72</td>\n",
       "      <td>26.71</td>\n",
       "      <td>7.24</td>\n",
       "      <td>77</td>\n",
       "      <td>10000</td>\n",
       "      <td>5.82</td>\n",
       "      <td>90</td>\n",
       "      <td>5.99</td>\n",
       "      <td>[{'id': 803, 'main': 'Clouds', 'description': ...</td>\n",
       "      <td>0.44</td>\n",
       "      <td>NaN</td>\n",
       "    </tr>\n",
       "    <tr>\n",
       "      <th>1</th>\n",
       "      <td>1631948400</td>\n",
       "      <td>31.88</td>\n",
       "      <td>38.88</td>\n",
       "      <td>1010</td>\n",
       "      <td>73</td>\n",
       "      <td>26.43</td>\n",
       "      <td>4.85</td>\n",
       "      <td>81</td>\n",
       "      <td>10000</td>\n",
       "      <td>5.85</td>\n",
       "      <td>92</td>\n",
       "      <td>6.33</td>\n",
       "      <td>[{'id': 500, 'main': 'Rain', 'description': 'l...</td>\n",
       "      <td>0.29</td>\n",
       "      <td>{'1h': 0.18}</td>\n",
       "    </tr>\n",
       "    <tr>\n",
       "      <th>2</th>\n",
       "      <td>1631952000</td>\n",
       "      <td>31.25</td>\n",
       "      <td>38.25</td>\n",
       "      <td>1010</td>\n",
       "      <td>74</td>\n",
       "      <td>26.06</td>\n",
       "      <td>2.45</td>\n",
       "      <td>85</td>\n",
       "      <td>10000</td>\n",
       "      <td>5.86</td>\n",
       "      <td>97</td>\n",
       "      <td>6.69</td>\n",
       "      <td>[{'id': 500, 'main': 'Rain', 'description': 'l...</td>\n",
       "      <td>0.32</td>\n",
       "      <td>{'1h': 0.15}</td>\n",
       "    </tr>\n",
       "    <tr>\n",
       "      <th>3</th>\n",
       "      <td>1631955600</td>\n",
       "      <td>30.47</td>\n",
       "      <td>37.47</td>\n",
       "      <td>1009</td>\n",
       "      <td>75</td>\n",
       "      <td>25.53</td>\n",
       "      <td>0.79</td>\n",
       "      <td>88</td>\n",
       "      <td>10000</td>\n",
       "      <td>5.75</td>\n",
       "      <td>99</td>\n",
       "      <td>6.83</td>\n",
       "      <td>[{'id': 804, 'main': 'Clouds', 'description': ...</td>\n",
       "      <td>0.26</td>\n",
       "      <td>NaN</td>\n",
       "    </tr>\n",
       "    <tr>\n",
       "      <th>4</th>\n",
       "      <td>1631959200</td>\n",
       "      <td>29.43</td>\n",
       "      <td>35.96</td>\n",
       "      <td>1010</td>\n",
       "      <td>80</td>\n",
       "      <td>25.61</td>\n",
       "      <td>0.12</td>\n",
       "      <td>88</td>\n",
       "      <td>10000</td>\n",
       "      <td>5.45</td>\n",
       "      <td>100</td>\n",
       "      <td>6.97</td>\n",
       "      <td>[{'id': 500, 'main': 'Rain', 'description': 'l...</td>\n",
       "      <td>0.35</td>\n",
       "      <td>{'1h': 0.18}</td>\n",
       "    </tr>\n",
       "  </tbody>\n",
       "</table>\n",
       "</div>"
      ],
      "text/plain": [
       "           dt   temp  feels_like  pressure  humidity  dew_point   uvi  clouds  \\\n",
       "0  1631944800  32.41       39.41      1010        72      26.71  7.24      77   \n",
       "1  1631948400  31.88       38.88      1010        73      26.43  4.85      81   \n",
       "2  1631952000  31.25       38.25      1010        74      26.06  2.45      85   \n",
       "3  1631955600  30.47       37.47      1009        75      25.53  0.79      88   \n",
       "4  1631959200  29.43       35.96      1010        80      25.61  0.12      88   \n",
       "\n",
       "   visibility  wind_speed  wind_deg  wind_gust  \\\n",
       "0       10000        5.82        90       5.99   \n",
       "1       10000        5.85        92       6.33   \n",
       "2       10000        5.86        97       6.69   \n",
       "3       10000        5.75        99       6.83   \n",
       "4       10000        5.45       100       6.97   \n",
       "\n",
       "                                             weather   pop          rain  \n",
       "0  [{'id': 803, 'main': 'Clouds', 'description': ...  0.44           NaN  \n",
       "1  [{'id': 500, 'main': 'Rain', 'description': 'l...  0.29  {'1h': 0.18}  \n",
       "2  [{'id': 500, 'main': 'Rain', 'description': 'l...  0.32  {'1h': 0.15}  \n",
       "3  [{'id': 804, 'main': 'Clouds', 'description': ...  0.26           NaN  \n",
       "4  [{'id': 500, 'main': 'Rain', 'description': 'l...  0.35  {'1h': 0.18}  "
      ]
     },
     "execution_count": 10,
     "metadata": {},
     "output_type": "execute_result"
    }
   ],
   "source": [
    "df_hourly.head()"
   ]
  },
  {
   "cell_type": "code",
   "execution_count": null,
   "metadata": {},
   "outputs": [],
   "source": []
  }
 ],
 "metadata": {
  "interpreter": {
   "hash": "c1b4cfe941b6d2466ad1fb5979e97da9cda8801728c8091b097ab734208fc00c"
  },
  "kernelspec": {
   "display_name": "Python 3.8.3 64-bit ('base': conda)",
   "name": "python3"
  },
  "language_info": {
   "codemirror_mode": {
    "name": "ipython",
    "version": 3
   },
   "file_extension": ".py",
   "mimetype": "text/x-python",
   "name": "python",
   "nbconvert_exporter": "python",
   "pygments_lexer": "ipython3",
   "version": "3.8.11"
  }
 },
 "nbformat": 4,
 "nbformat_minor": 2
}
