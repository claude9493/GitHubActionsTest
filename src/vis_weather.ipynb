{
 "cells": [
  {
   "cell_type": "code",
   "execution_count": 1,
   "metadata": {
    "execution": {
     "iopub.execute_input": "2021-08-27T00:53:10.961758Z",
     "iopub.status.busy": "2021-08-27T00:53:10.961081Z",
     "iopub.status.idle": "2021-08-27T00:53:12.274272Z",
     "shell.execute_reply": "2021-08-27T00:53:12.273647Z"
    }
   },
   "outputs": [],
   "source": [
    "import json, yaml, requests\r\n",
    "from datetime import datetime\r\n",
    "from dateutil import tz\r\n",
    "import pandas as pd\r\n",
    "from PIL import Image\r\n",
    "from io import BytesIO\r\n",
    "import matplotlib.pyplot as plt\r\n",
    "import seaborn\r\n",
    "\r\n",
    "CONFIG_PATH = \"../config/config.yaml\""
   ]
  },
  {
   "cell_type": "code",
   "execution_count": 2,
   "metadata": {
    "execution": {
     "iopub.execute_input": "2021-08-27T00:53:12.277631Z",
     "iopub.status.busy": "2021-08-27T00:53:12.277031Z",
     "iopub.status.idle": "2021-08-27T00:53:12.284966Z",
     "shell.execute_reply": "2021-08-27T00:53:12.285376Z"
    }
   },
   "outputs": [],
   "source": [
    "with open('../newest_ts', 'r') as f:\r\n",
    "    newest_ts = f.read()\r\n",
    "\r\n",
    "data_path = f\"../data/data_{newest_ts}.json\"\r\n",
    "with open(data_path, 'r') as f:\r\n",
    "    data = json.load(f)\r\n",
    "\r\n",
    "with open(CONFIG_PATH, \"r\") as stream:\r\n",
    "    config = yaml.safe_load(stream)\r\n",
    "\r\n",
    "TIME_ZONE = config['time_zone']\r\n",
    "DATETIME_FORMAT = config['dt_format']"
   ]
  },
  {
   "cell_type": "code",
   "execution_count": 3,
   "metadata": {
    "execution": {
     "iopub.execute_input": "2021-08-27T00:53:12.290300Z",
     "iopub.status.busy": "2021-08-27T00:53:12.289767Z",
     "iopub.status.idle": "2021-08-27T00:53:12.294656Z",
     "shell.execute_reply": "2021-08-27T00:53:12.295090Z"
    }
   },
   "outputs": [
    {
     "name": "stdout",
     "output_type": "stream",
     "text": [
      "Recent query happens at 2021-08-27 08:53:07 (CST).\n"
     ]
    }
   ],
   "source": [
    "def ts2dt(ts, format=DATETIME_FORMAT):\r\n",
    "    dt = (datetime.utcfromtimestamp(int(ts))\r\n",
    "                    .replace(tzinfo=tz.tzutc())\r\n",
    "                    # .astimezone(tz.tzlocal())\r\n",
    "                    .astimezone(tz.gettz(TIME_ZONE)))\r\n",
    "    return dt.strftime(format), dt\r\n",
    "\r\n",
    "_, newest_dt = ts2dt(newest_ts)\r\n",
    "print(f\"Recent query happens at {newest_dt.strftime(DATETIME_FORMAT)} ({newest_dt.tzname()}).\")"
   ]
  },
  {
   "cell_type": "code",
   "execution_count": 4,
   "metadata": {
    "execution": {
     "iopub.execute_input": "2021-08-27T00:53:12.301238Z",
     "iopub.status.busy": "2021-08-27T00:53:12.300385Z",
     "iopub.status.idle": "2021-08-27T00:53:12.302798Z",
     "shell.execute_reply": "2021-08-27T00:53:12.302343Z"
    }
   },
   "outputs": [],
   "source": [
    "def degrees_to_cardinal(d):\r\n",
    "  dirs = ['N', 'NNE', 'NE', 'ENE', 'E', 'ESE', 'SE', 'SSE', 'S', 'SSW', 'SW', 'WSW', 'W', 'WNW', 'NW', 'NNW']\r\n",
    "  ix = int(round(d / (360. / len(dirs))))\r\n",
    "  return dirs[ix % len(dirs)]"
   ]
  },
  {
   "cell_type": "code",
   "execution_count": 5,
   "metadata": {
    "execution": {
     "iopub.execute_input": "2021-08-27T00:53:12.307372Z",
     "iopub.status.busy": "2021-08-27T00:53:12.306066Z",
     "iopub.status.idle": "2021-08-27T00:53:12.307972Z",
     "shell.execute_reply": "2021-08-27T00:53:12.308391Z"
    }
   },
   "outputs": [],
   "source": [
    "# data.keys()"
   ]
  },
  {
   "cell_type": "code",
   "execution_count": 6,
   "metadata": {
    "execution": {
     "iopub.execute_input": "2021-08-27T00:53:12.312736Z",
     "iopub.status.busy": "2021-08-27T00:53:12.311499Z",
     "iopub.status.idle": "2021-08-27T00:53:12.313302Z",
     "shell.execute_reply": "2021-08-27T00:53:12.313726Z"
    }
   },
   "outputs": [],
   "source": [
    "# data['current']"
   ]
  },
  {
   "cell_type": "code",
   "execution_count": 7,
   "metadata": {
    "execution": {
     "iopub.execute_input": "2021-08-27T00:53:12.332191Z",
     "iopub.status.busy": "2021-08-27T00:53:12.331669Z",
     "iopub.status.idle": "2021-08-27T00:53:12.620441Z",
     "shell.execute_reply": "2021-08-27T00:53:12.621183Z"
    }
   },
   "outputs": [
    {
     "data": {
      "image/png": "[encoded data removed]",
      "text/plain": [
       "<Figure size 216x216 with 1 Axes>"
      ]
     },
     "metadata": {
      "needs_background": "light"
     },
     "output_type": "display_data"
    },
    {
     "name": "stdout",
     "output_type": "stream",
     "text": [
      "Today, sun rises at 06:04 and sets at 18:45.\n",
      "Currently, the weather is Rain (light rain).\n",
      "The temperature is 28.75°C and it feels like 33.08°C.\n",
      "The UV index is 3.94, humidity is 75%.\n",
      "The pressure is 1012 hPa, percentage of cloud cover is 18%\n",
      "The wind comes from ENE direction with a speed 5.55 m/s.\n"
     ]
    }
   ],
   "source": [
    "current = data['current']\r\n",
    "\r\n",
    "fig, ax = plt.subplots(figsize=(3, 3))\r\n",
    "icon = requests.get(f\"http://openweathermap.org/img/wn/{current['weather'][0]['icon']}@2x.png\")\r\n",
    "im = Image.open(BytesIO(icon.content))\r\n",
    "plt.imshow(im)\r\n",
    "ax.set_axis_off()\r\n",
    "plt.show()\r\n",
    "\r\n",
    "print(f\"Today, sun rises at {ts2dt(current['sunrise'], '%H:%M')[0]} \\\r\n",
    "and sets at {ts2dt(current['sunset'], '%H:%M')[0]}.\\n\\\r\n",
    "Currently, the weather is {current['weather'][0]['main']} ({current['weather'][0]['description']}).\\n\\\r\n",
    "The temperature is {current['temp']}°C and it feels like {current['feels_like']}°C.\\n\\\r\n",
    "The UV index is {current['uvi']}, humidity is {current['humidity']}%.\\n\\\r\n",
    "The pressure is {current['pressure']} hPa, percentage of cloud cover is {current['clouds']}%\\n\\\r\n",
    "The wind comes from {degrees_to_cardinal(current['wind_deg'])} direction with a speed {current['wind_speed']} m/s.\")"
   ]
  },
  {
   "cell_type": "code",
   "execution_count": 8,
   "metadata": {
    "execution": {
     "iopub.execute_input": "2021-08-27T00:53:12.624544Z",
     "iopub.status.busy": "2021-08-27T00:53:12.623569Z",
     "iopub.status.idle": "2021-08-27T00:53:12.630920Z",
     "shell.execute_reply": "2021-08-27T00:53:12.631649Z"
    }
   },
   "outputs": [],
   "source": [
    "df_hourly = pd.DataFrame(data['hourly'])\r\n",
    "df_daily = pd.DataFrame(data['daily'])"
   ]
  },
  {
   "cell_type": "code",
   "execution_count": 9,
   "metadata": {
    "execution": {
     "iopub.execute_input": "2021-08-27T00:53:12.634959Z",
     "iopub.status.busy": "2021-08-27T00:53:12.633977Z",
     "iopub.status.idle": "2021-08-27T00:53:12.904177Z",
     "shell.execute_reply": "2021-08-27T00:53:12.904577Z"
    }
   },
   "outputs": [
    {
     "data": {
      "image/png": "[encoded data removed]",
      "text/plain": [
       "<Figure size 864x432 with 1 Axes>"
      ]
     },
     "metadata": {
      "needs_background": "light"
     },
     "output_type": "display_data"
    }
   ],
   "source": [
    "fig, ax = plt.subplots(figsize=(12, 6))\r\n",
    "plt.plot(df_hourly.temp, '.-', label='Temperature')\r\n",
    "plt.plot(df_hourly.feels_like, '.-', label='Feels Like')\r\n",
    "ax.set(title='Temperature in future 48 hours', xlabel='Time', ylabel='Temperature')\r\n",
    "ax.set_xticks(list(range(0, len(df_hourly), 2)))\r\n",
    "ax.set_xticklabels([ts2dt(ts, '%m-%d %H:%M')[0] for i, ts in enumerate(df_hourly.dt) if i%2==0], \r\n",
    "                   rotation=45, ha=\"right\")\r\n",
    "ax.locator_params(nbins=15, axis='y')\r\n",
    "plt.legend()\r\n",
    "plt.show()"
   ]
  },
  {
   "cell_type": "code",
   "execution_count": 10,
   "metadata": {
    "execution": {
     "iopub.execute_input": "2021-08-27T00:53:12.917250Z",
     "iopub.status.busy": "2021-08-27T00:53:12.908952Z",
     "iopub.status.idle": "2021-08-27T00:53:12.929292Z",
     "shell.execute_reply": "2021-08-27T00:53:12.928812Z"
    }
   },
   "outputs": [
    {
     "data": {
      "text/html": [
       "<div>\n",
       "<style scoped>\n",
       "    .dataframe tbody tr th:only-of-type {\n",
       "        vertical-align: middle;\n",
       "    }\n",
       "\n",
       "    .dataframe tbody tr th {\n",
       "        vertical-align: top;\n",
       "    }\n",
       "\n",
       "    .dataframe thead th {\n",
       "        text-align: right;\n",
       "    }\n",
       "</style>\n",
       "<table border=\"1\" class=\"dataframe\">\n",
       "  <thead>\n",
       "    <tr style=\"text-align: right;\">\n",
       "      <th></th>\n",
       "      <th>dt</th>\n",
       "      <th>temp</th>\n",
       "      <th>feels_like</th>\n",
       "      <th>pressure</th>\n",
       "      <th>humidity</th>\n",
       "      <th>dew_point</th>\n",
       "      <th>uvi</th>\n",
       "      <th>clouds</th>\n",
       "      <th>visibility</th>\n",
       "      <th>wind_speed</th>\n",
       "      <th>wind_deg</th>\n",
       "      <th>wind_gust</th>\n",
       "      <th>weather</th>\n",
       "      <th>pop</th>\n",
       "      <th>rain</th>\n",
       "    </tr>\n",
       "  </thead>\n",
       "  <tbody>\n",
       "    <tr>\n",
       "      <th>0</th>\n",
       "      <td>1630022400</td>\n",
       "      <td>28.62</td>\n",
       "      <td>32.95</td>\n",
       "      <td>1012</td>\n",
       "      <td>76</td>\n",
       "      <td>23.97</td>\n",
       "      <td>1.58</td>\n",
       "      <td>15</td>\n",
       "      <td>10000</td>\n",
       "      <td>5.31</td>\n",
       "      <td>72</td>\n",
       "      <td>6.45</td>\n",
       "      <td>[{'id': 500, 'main': 'Rain', 'description': 'l...</td>\n",
       "      <td>0.89</td>\n",
       "      <td>{'1h': 0.24}</td>\n",
       "    </tr>\n",
       "    <tr>\n",
       "      <th>1</th>\n",
       "      <td>1630026000</td>\n",
       "      <td>28.75</td>\n",
       "      <td>33.08</td>\n",
       "      <td>1012</td>\n",
       "      <td>75</td>\n",
       "      <td>23.88</td>\n",
       "      <td>3.94</td>\n",
       "      <td>18</td>\n",
       "      <td>10000</td>\n",
       "      <td>5.55</td>\n",
       "      <td>73</td>\n",
       "      <td>6.59</td>\n",
       "      <td>[{'id': 500, 'main': 'Rain', 'description': 'l...</td>\n",
       "      <td>0.76</td>\n",
       "      <td>{'1h': 0.21}</td>\n",
       "    </tr>\n",
       "    <tr>\n",
       "      <th>2</th>\n",
       "      <td>1630029600</td>\n",
       "      <td>28.80</td>\n",
       "      <td>33.02</td>\n",
       "      <td>1012</td>\n",
       "      <td>74</td>\n",
       "      <td>23.70</td>\n",
       "      <td>7.01</td>\n",
       "      <td>17</td>\n",
       "      <td>10000</td>\n",
       "      <td>6.13</td>\n",
       "      <td>76</td>\n",
       "      <td>6.92</td>\n",
       "      <td>[{'id': 500, 'main': 'Rain', 'description': 'l...</td>\n",
       "      <td>0.66</td>\n",
       "      <td>{'1h': 0.1}</td>\n",
       "    </tr>\n",
       "    <tr>\n",
       "      <th>3</th>\n",
       "      <td>1630033200</td>\n",
       "      <td>29.09</td>\n",
       "      <td>33.51</td>\n",
       "      <td>1012</td>\n",
       "      <td>73</td>\n",
       "      <td>23.75</td>\n",
       "      <td>9.83</td>\n",
       "      <td>15</td>\n",
       "      <td>10000</td>\n",
       "      <td>6.15</td>\n",
       "      <td>76</td>\n",
       "      <td>7.08</td>\n",
       "      <td>[{'id': 500, 'main': 'Rain', 'description': 'l...</td>\n",
       "      <td>0.63</td>\n",
       "      <td>{'1h': 0.27}</td>\n",
       "    </tr>\n",
       "    <tr>\n",
       "      <th>4</th>\n",
       "      <td>1630036800</td>\n",
       "      <td>29.52</td>\n",
       "      <td>33.90</td>\n",
       "      <td>1012</td>\n",
       "      <td>70</td>\n",
       "      <td>23.47</td>\n",
       "      <td>11.55</td>\n",
       "      <td>14</td>\n",
       "      <td>10000</td>\n",
       "      <td>6.39</td>\n",
       "      <td>82</td>\n",
       "      <td>7.27</td>\n",
       "      <td>[{'id': 801, 'main': 'Clouds', 'description': ...</td>\n",
       "      <td>0.60</td>\n",
       "      <td>NaN</td>\n",
       "    </tr>\n",
       "  </tbody>\n",
       "</table>\n",
       "</div>"
      ],
      "text/plain": [
       "           dt   temp  feels_like  pressure  humidity  dew_point    uvi  \\\n",
       "0  1630022400  28.62       32.95      1012        76      23.97   1.58   \n",
       "1  1630026000  28.75       33.08      1012        75      23.88   3.94   \n",
       "2  1630029600  28.80       33.02      1012        74      23.70   7.01   \n",
       "3  1630033200  29.09       33.51      1012        73      23.75   9.83   \n",
       "4  1630036800  29.52       33.90      1012        70      23.47  11.55   \n",
       "\n",
       "   clouds  visibility  wind_speed  wind_deg  wind_gust  \\\n",
       "0      15       10000        5.31        72       6.45   \n",
       "1      18       10000        5.55        73       6.59   \n",
       "2      17       10000        6.13        76       6.92   \n",
       "3      15       10000        6.15        76       7.08   \n",
       "4      14       10000        6.39        82       7.27   \n",
       "\n",
       "                                             weather   pop          rain  \n",
       "0  [{'id': 500, 'main': 'Rain', 'description': 'l...  0.89  {'1h': 0.24}  \n",
       "1  [{'id': 500, 'main': 'Rain', 'description': 'l...  0.76  {'1h': 0.21}  \n",
       "2  [{'id': 500, 'main': 'Rain', 'description': 'l...  0.66   {'1h': 0.1}  \n",
       "3  [{'id': 500, 'main': 'Rain', 'description': 'l...  0.63  {'1h': 0.27}  \n",
       "4  [{'id': 801, 'main': 'Clouds', 'description': ...  0.60           NaN  "
      ]
     },
     "execution_count": 10,
     "metadata": {},
     "output_type": "execute_result"
    }
   ],
   "source": [
    "df_hourly.head()"
   ]
  },
  {
   "cell_type": "code",
   "execution_count": null,
   "metadata": {},
   "outputs": [],
   "source": []
  }
 ],
 "metadata": {
  "interpreter": {
   "hash": "c1b4cfe941b6d2466ad1fb5979e97da9cda8801728c8091b097ab734208fc00c"
  },
  "kernelspec": {
   "display_name": "Python 3.8.3 64-bit ('base': conda)",
   "name": "python3"
  },
  "language_info": {
   "codemirror_mode": {
    "name": "ipython",
    "version": 3
   },
   "file_extension": ".py",
   "mimetype": "text/x-python",
   "name": "python",
   "nbconvert_exporter": "python",
   "pygments_lexer": "ipython3",
   "version": "3.8.11"
  }
 },
 "nbformat": 4,
 "nbformat_minor": 2
}
