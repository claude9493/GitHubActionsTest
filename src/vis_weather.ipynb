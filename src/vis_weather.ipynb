{
 "cells": [
  {
   "cell_type": "code",
   "execution_count": 1,
   "metadata": {
    "execution": {
     "iopub.execute_input": "2021-09-07T19:12:29.077061Z",
     "iopub.status.busy": "2021-09-07T19:12:29.075186Z",
     "iopub.status.idle": "2021-09-07T19:12:30.606956Z",
     "shell.execute_reply": "2021-09-07T19:12:30.606411Z"
    }
   },
   "outputs": [],
   "source": [
    "import json, yaml, requests\r\n",
    "from datetime import datetime\r\n",
    "from dateutil import tz\r\n",
    "import pandas as pd\r\n",
    "from PIL import Image\r\n",
    "from io import BytesIO\r\n",
    "import matplotlib.pyplot as plt\r\n",
    "import seaborn\r\n",
    "\r\n",
    "CONFIG_PATH = \"../config/config.yaml\""
   ]
  },
  {
   "cell_type": "code",
   "execution_count": 2,
   "metadata": {
    "execution": {
     "iopub.execute_input": "2021-09-07T19:12:30.614263Z",
     "iopub.status.busy": "2021-09-07T19:12:30.611456Z",
     "iopub.status.idle": "2021-09-07T19:12:30.617088Z",
     "shell.execute_reply": "2021-09-07T19:12:30.616592Z"
    }
   },
   "outputs": [],
   "source": [
    "with open('../newest_ts', 'r') as f:\r\n",
    "    newest_ts = f.read()\r\n",
    "\r\n",
    "data_path = f\"../data/data_{newest_ts}.json\"\r\n",
    "with open(data_path, 'r') as f:\r\n",
    "    data = json.load(f)\r\n",
    "\r\n",
    "with open(CONFIG_PATH, \"r\") as stream:\r\n",
    "    config = yaml.safe_load(stream)\r\n",
    "\r\n",
    "TIME_ZONE = config['time_zone']\r\n",
    "DATETIME_FORMAT = config['dt_format']"
   ]
  },
  {
   "cell_type": "code",
   "execution_count": 3,
   "metadata": {
    "execution": {
     "iopub.execute_input": "2021-09-07T19:12:30.622202Z",
     "iopub.status.busy": "2021-09-07T19:12:30.621354Z",
     "iopub.status.idle": "2021-09-07T19:12:30.639741Z",
     "shell.execute_reply": "2021-09-07T19:12:30.639045Z"
    }
   },
   "outputs": [
    {
     "name": "stdout",
     "output_type": "stream",
     "text": [
      "Recent query happens at 2021-09-08 03:12:25 (CST).\n"
     ]
    }
   ],
   "source": [
    "def ts2dt(ts, format=DATETIME_FORMAT):\r\n",
    "    dt = (datetime.utcfromtimestamp(int(ts))\r\n",
    "                    .replace(tzinfo=tz.tzutc())\r\n",
    "                    # .astimezone(tz.tzlocal())\r\n",
    "                    .astimezone(tz.gettz(TIME_ZONE)))\r\n",
    "    return dt.strftime(format), dt\r\n",
    "\r\n",
    "_, newest_dt = ts2dt(newest_ts)\r\n",
    "print(f\"Recent query happens at {newest_dt.strftime(DATETIME_FORMAT)} ({newest_dt.tzname()}).\")"
   ]
  },
  {
   "cell_type": "code",
   "execution_count": 4,
   "metadata": {
    "execution": {
     "iopub.execute_input": "2021-09-07T19:12:30.645251Z",
     "iopub.status.busy": "2021-09-07T19:12:30.643979Z",
     "iopub.status.idle": "2021-09-07T19:12:30.646917Z",
     "shell.execute_reply": "2021-09-07T19:12:30.647327Z"
    }
   },
   "outputs": [],
   "source": [
    "def degrees_to_cardinal(d):\r\n",
    "  dirs = ['N', 'NNE', 'NE', 'ENE', 'E', 'ESE', 'SE', 'SSE', 'S', 'SSW', 'SW', 'WSW', 'W', 'WNW', 'NW', 'NNW']\r\n",
    "  ix = int(round(d / (360. / len(dirs))))\r\n",
    "  return dirs[ix % len(dirs)]"
   ]
  },
  {
   "cell_type": "code",
   "execution_count": 5,
   "metadata": {
    "execution": {
     "iopub.execute_input": "2021-09-07T19:12:30.650983Z",
     "iopub.status.busy": "2021-09-07T19:12:30.650200Z",
     "iopub.status.idle": "2021-09-07T19:12:30.651766Z",
     "shell.execute_reply": "2021-09-07T19:12:30.652121Z"
    }
   },
   "outputs": [],
   "source": [
    "# data.keys()"
   ]
  },
  {
   "cell_type": "code",
   "execution_count": 6,
   "metadata": {
    "execution": {
     "iopub.execute_input": "2021-09-07T19:12:30.656176Z",
     "iopub.status.busy": "2021-09-07T19:12:30.655010Z",
     "iopub.status.idle": "2021-09-07T19:12:30.656683Z",
     "shell.execute_reply": "2021-09-07T19:12:30.657107Z"
    }
   },
   "outputs": [],
   "source": [
    "# data['current']"
   ]
  },
  {
   "cell_type": "code",
   "execution_count": 7,
   "metadata": {
    "execution": {
     "iopub.execute_input": "2021-09-07T19:12:30.674679Z",
     "iopub.status.busy": "2021-09-07T19:12:30.663144Z",
     "iopub.status.idle": "2021-09-07T19:12:31.144264Z",
     "shell.execute_reply": "2021-09-07T19:12:31.144986Z"
    }
   },
   "outputs": [
    {
     "data": {
      "image/png": "[encoded data removed]",
      "text/plain": [
       "<Figure size 216x216 with 1 Axes>"
      ]
     },
     "metadata": {
      "needs_background": "light"
     },
     "output_type": "display_data"
    },
    {
     "name": "stdout",
     "output_type": "stream",
     "text": [
      "Today, sun rises at 06:07 and sets at 18:33.\n",
      "Currently, the weather is Clouds (few clouds).\n",
      "The temperature is 29.15°C and it feels like 36.15°C.\n",
      "The UV index is 0, humidity is 85%.\n",
      "The pressure is 1009 hPa, percentage of cloud cover is 18%\n",
      "The wind comes from ENE direction with a speed 1.72 m/s.\n"
     ]
    }
   ],
   "source": [
    "current = data['current']\r\n",
    "\r\n",
    "fig, ax = plt.subplots(figsize=(3, 3))\r\n",
    "icon = requests.get(f\"http://openweathermap.org/img/wn/{current['weather'][0]['icon']}@2x.png\")\r\n",
    "im = Image.open(BytesIO(icon.content))\r\n",
    "plt.imshow(im)\r\n",
    "ax.set_axis_off()\r\n",
    "plt.show()\r\n",
    "\r\n",
    "print(f\"Today, sun rises at {ts2dt(current['sunrise'], '%H:%M')[0]} \\\r\n",
    "and sets at {ts2dt(current['sunset'], '%H:%M')[0]}.\\n\\\r\n",
    "Currently, the weather is {current['weather'][0]['main']} ({current['weather'][0]['description']}).\\n\\\r\n",
    "The temperature is {current['temp']}°C and it feels like {current['feels_like']}°C.\\n\\\r\n",
    "The UV index is {current['uvi']}, humidity is {current['humidity']}%.\\n\\\r\n",
    "The pressure is {current['pressure']} hPa, percentage of cloud cover is {current['clouds']}%\\n\\\r\n",
    "The wind comes from {degrees_to_cardinal(current['wind_deg'])} direction with a speed {current['wind_speed']} m/s.\")"
   ]
  },
  {
   "cell_type": "code",
   "execution_count": 8,
   "metadata": {
    "execution": {
     "iopub.execute_input": "2021-09-07T19:12:31.148706Z",
     "iopub.status.busy": "2021-09-07T19:12:31.147625Z",
     "iopub.status.idle": "2021-09-07T19:12:31.155621Z",
     "shell.execute_reply": "2021-09-07T19:12:31.156340Z"
    }
   },
   "outputs": [],
   "source": [
    "df_hourly = pd.DataFrame(data['hourly'])\r\n",
    "df_daily = pd.DataFrame(data['daily'])"
   ]
  },
  {
   "cell_type": "code",
   "execution_count": 9,
   "metadata": {
    "execution": {
     "iopub.execute_input": "2021-09-07T19:12:31.159597Z",
     "iopub.status.busy": "2021-09-07T19:12:31.158612Z",
     "iopub.status.idle": "2021-09-07T19:12:31.434592Z",
     "shell.execute_reply": "2021-09-07T19:12:31.435270Z"
    }
   },
   "outputs": [
    {
     "data": {
      "image/png": "[encoded data removed]",
      "text/plain": [
       "<Figure size 864x432 with 1 Axes>"
      ]
     },
     "metadata": {
      "needs_background": "light"
     },
     "output_type": "display_data"
    }
   ],
   "source": [
    "fig, ax = plt.subplots(figsize=(12, 6))\r\n",
    "plt.plot(df_hourly.temp, '.-', label='Temperature')\r\n",
    "plt.plot(df_hourly.feels_like, '.-', label='Feels Like')\r\n",
    "ax.set(title='Temperature in future 48 hours', xlabel='Time', ylabel='Temperature')\r\n",
    "ax.set_xticks(list(range(0, len(df_hourly), 2)))\r\n",
    "ax.set_xticklabels([ts2dt(ts, '%m-%d %H:%M')[0] for i, ts in enumerate(df_hourly.dt) if i%2==0], \r\n",
    "                   rotation=45, ha=\"right\")\r\n",
    "ax.locator_params(nbins=15, axis='y')\r\n",
    "plt.legend()\r\n",
    "plt.show()"
   ]
  },
  {
   "cell_type": "code",
   "execution_count": 10,
   "metadata": {
    "execution": {
     "iopub.execute_input": "2021-09-07T19:12:31.454027Z",
     "iopub.status.busy": "2021-09-07T19:12:31.446944Z",
     "iopub.status.idle": "2021-09-07T19:12:31.458948Z",
     "shell.execute_reply": "2021-09-07T19:12:31.458479Z"
    }
   },
   "outputs": [
    {
     "data": {
      "text/html": [
       "<div>\n",
       "<style scoped>\n",
       "    .dataframe tbody tr th:only-of-type {\n",
       "        vertical-align: middle;\n",
       "    }\n",
       "\n",
       "    .dataframe tbody tr th {\n",
       "        vertical-align: top;\n",
       "    }\n",
       "\n",
       "    .dataframe thead th {\n",
       "        text-align: right;\n",
       "    }\n",
       "</style>\n",
       "<table border=\"1\" class=\"dataframe\">\n",
       "  <thead>\n",
       "    <tr style=\"text-align: right;\">\n",
       "      <th></th>\n",
       "      <th>dt</th>\n",
       "      <th>temp</th>\n",
       "      <th>feels_like</th>\n",
       "      <th>pressure</th>\n",
       "      <th>humidity</th>\n",
       "      <th>dew_point</th>\n",
       "      <th>uvi</th>\n",
       "      <th>clouds</th>\n",
       "      <th>visibility</th>\n",
       "      <th>wind_speed</th>\n",
       "      <th>wind_deg</th>\n",
       "      <th>wind_gust</th>\n",
       "      <th>weather</th>\n",
       "      <th>pop</th>\n",
       "      <th>rain</th>\n",
       "    </tr>\n",
       "  </thead>\n",
       "  <tbody>\n",
       "    <tr>\n",
       "      <th>0</th>\n",
       "      <td>1631041200</td>\n",
       "      <td>29.15</td>\n",
       "      <td>36.15</td>\n",
       "      <td>1009</td>\n",
       "      <td>85</td>\n",
       "      <td>26.37</td>\n",
       "      <td>0.00</td>\n",
       "      <td>18</td>\n",
       "      <td>10000</td>\n",
       "      <td>1.72</td>\n",
       "      <td>75</td>\n",
       "      <td>2.18</td>\n",
       "      <td>[{'id': 801, 'main': 'Clouds', 'description': ...</td>\n",
       "      <td>0.12</td>\n",
       "      <td>NaN</td>\n",
       "    </tr>\n",
       "    <tr>\n",
       "      <th>1</th>\n",
       "      <td>1631044800</td>\n",
       "      <td>28.76</td>\n",
       "      <td>34.91</td>\n",
       "      <td>1009</td>\n",
       "      <td>84</td>\n",
       "      <td>25.78</td>\n",
       "      <td>0.00</td>\n",
       "      <td>18</td>\n",
       "      <td>10000</td>\n",
       "      <td>1.48</td>\n",
       "      <td>48</td>\n",
       "      <td>1.75</td>\n",
       "      <td>[{'id': 801, 'main': 'Clouds', 'description': ...</td>\n",
       "      <td>0.08</td>\n",
       "      <td>NaN</td>\n",
       "    </tr>\n",
       "    <tr>\n",
       "      <th>2</th>\n",
       "      <td>1631048400</td>\n",
       "      <td>28.31</td>\n",
       "      <td>33.60</td>\n",
       "      <td>1009</td>\n",
       "      <td>84</td>\n",
       "      <td>25.34</td>\n",
       "      <td>0.00</td>\n",
       "      <td>23</td>\n",
       "      <td>10000</td>\n",
       "      <td>1.65</td>\n",
       "      <td>50</td>\n",
       "      <td>1.84</td>\n",
       "      <td>[{'id': 801, 'main': 'Clouds', 'description': ...</td>\n",
       "      <td>0.04</td>\n",
       "      <td>NaN</td>\n",
       "    </tr>\n",
       "    <tr>\n",
       "      <th>3</th>\n",
       "      <td>1631052000</td>\n",
       "      <td>27.84</td>\n",
       "      <td>32.30</td>\n",
       "      <td>1009</td>\n",
       "      <td>84</td>\n",
       "      <td>24.88</td>\n",
       "      <td>0.00</td>\n",
       "      <td>30</td>\n",
       "      <td>10000</td>\n",
       "      <td>1.88</td>\n",
       "      <td>50</td>\n",
       "      <td>2.10</td>\n",
       "      <td>[{'id': 802, 'main': 'Clouds', 'description': ...</td>\n",
       "      <td>0.00</td>\n",
       "      <td>NaN</td>\n",
       "    </tr>\n",
       "    <tr>\n",
       "      <th>4</th>\n",
       "      <td>1631055600</td>\n",
       "      <td>27.66</td>\n",
       "      <td>31.67</td>\n",
       "      <td>1010</td>\n",
       "      <td>83</td>\n",
       "      <td>24.51</td>\n",
       "      <td>0.27</td>\n",
       "      <td>39</td>\n",
       "      <td>10000</td>\n",
       "      <td>2.19</td>\n",
       "      <td>52</td>\n",
       "      <td>2.56</td>\n",
       "      <td>[{'id': 802, 'main': 'Clouds', 'description': ...</td>\n",
       "      <td>0.00</td>\n",
       "      <td>NaN</td>\n",
       "    </tr>\n",
       "  </tbody>\n",
       "</table>\n",
       "</div>"
      ],
      "text/plain": [
       "           dt   temp  feels_like  pressure  humidity  dew_point   uvi  clouds  \\\n",
       "0  1631041200  29.15       36.15      1009        85      26.37  0.00      18   \n",
       "1  1631044800  28.76       34.91      1009        84      25.78  0.00      18   \n",
       "2  1631048400  28.31       33.60      1009        84      25.34  0.00      23   \n",
       "3  1631052000  27.84       32.30      1009        84      24.88  0.00      30   \n",
       "4  1631055600  27.66       31.67      1010        83      24.51  0.27      39   \n",
       "\n",
       "   visibility  wind_speed  wind_deg  wind_gust  \\\n",
       "0       10000        1.72        75       2.18   \n",
       "1       10000        1.48        48       1.75   \n",
       "2       10000        1.65        50       1.84   \n",
       "3       10000        1.88        50       2.10   \n",
       "4       10000        2.19        52       2.56   \n",
       "\n",
       "                                             weather   pop rain  \n",
       "0  [{'id': 801, 'main': 'Clouds', 'description': ...  0.12  NaN  \n",
       "1  [{'id': 801, 'main': 'Clouds', 'description': ...  0.08  NaN  \n",
       "2  [{'id': 801, 'main': 'Clouds', 'description': ...  0.04  NaN  \n",
       "3  [{'id': 802, 'main': 'Clouds', 'description': ...  0.00  NaN  \n",
       "4  [{'id': 802, 'main': 'Clouds', 'description': ...  0.00  NaN  "
      ]
     },
     "execution_count": 10,
     "metadata": {},
     "output_type": "execute_result"
    }
   ],
   "source": [
    "df_hourly.head()"
   ]
  },
  {
   "cell_type": "code",
   "execution_count": null,
   "metadata": {},
   "outputs": [],
   "source": []
  }
 ],
 "metadata": {
  "interpreter": {
   "hash": "c1b4cfe941b6d2466ad1fb5979e97da9cda8801728c8091b097ab734208fc00c"
  },
  "kernelspec": {
   "display_name": "Python 3.8.3 64-bit ('base': conda)",
   "name": "python3"
  },
  "language_info": {
   "codemirror_mode": {
    "name": "ipython",
    "version": 3
   },
   "file_extension": ".py",
   "mimetype": "text/x-python",
   "name": "python",
   "nbconvert_exporter": "python",
   "pygments_lexer": "ipython3",
   "version": "3.8.11"
  }
 },
 "nbformat": 4,
 "nbformat_minor": 2
}
