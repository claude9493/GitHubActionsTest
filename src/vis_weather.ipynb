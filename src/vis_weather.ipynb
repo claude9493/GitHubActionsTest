{
 "cells": [
  {
   "cell_type": "code",
   "execution_count": 1,
   "metadata": {
    "execution": {
     "iopub.execute_input": "2021-10-10T04:14:53.637895Z",
     "iopub.status.busy": "2021-10-10T04:14:53.637288Z",
     "iopub.status.idle": "2021-10-10T04:14:55.198756Z",
     "shell.execute_reply": "2021-10-10T04:14:55.199144Z"
    }
   },
   "outputs": [],
   "source": [
    "import json, yaml, requests\r\n",
    "from datetime import datetime\r\n",
    "from dateutil import tz\r\n",
    "import pandas as pd\r\n",
    "from PIL import Image\r\n",
    "from io import BytesIO\r\n",
    "import matplotlib.pyplot as plt\r\n",
    "import seaborn\r\n",
    "\r\n",
    "CONFIG_PATH = \"../config/config.yaml\""
   ]
  },
  {
   "cell_type": "code",
   "execution_count": 2,
   "metadata": {
    "execution": {
     "iopub.execute_input": "2021-10-10T04:14:55.204597Z",
     "iopub.status.busy": "2021-10-10T04:14:55.203519Z",
     "iopub.status.idle": "2021-10-10T04:14:55.208967Z",
     "shell.execute_reply": "2021-10-10T04:14:55.208240Z"
    }
   },
   "outputs": [],
   "source": [
    "with open('../newest_ts', 'r') as f:\r\n",
    "    newest_ts = f.read()\r\n",
    "\r\n",
    "data_path = f\"../data/data_{newest_ts}.json\"\r\n",
    "with open(data_path, 'r') as f:\r\n",
    "    data = json.load(f)\r\n",
    "\r\n",
    "with open(CONFIG_PATH, \"r\") as stream:\r\n",
    "    config = yaml.safe_load(stream)\r\n",
    "\r\n",
    "TIME_ZONE = config['time_zone']\r\n",
    "DATETIME_FORMAT = config['dt_format']"
   ]
  },
  {
   "cell_type": "code",
   "execution_count": 3,
   "metadata": {
    "execution": {
     "iopub.execute_input": "2021-10-10T04:14:55.213680Z",
     "iopub.status.busy": "2021-10-10T04:14:55.213082Z",
     "iopub.status.idle": "2021-10-10T04:14:55.218497Z",
     "shell.execute_reply": "2021-10-10T04:14:55.219069Z"
    }
   },
   "outputs": [
    {
     "name": "stdout",
     "output_type": "stream",
     "text": [
      "Recent query happens at 2021-10-10 12:14:49 (CST).\n"
     ]
    }
   ],
   "source": [
    "def ts2dt(ts, format=DATETIME_FORMAT):\r\n",
    "    dt = (datetime.utcfromtimestamp(int(ts))\r\n",
    "                    .replace(tzinfo=tz.tzutc())\r\n",
    "                    # .astimezone(tz.tzlocal())\r\n",
    "                    .astimezone(tz.gettz(TIME_ZONE)))\r\n",
    "    return dt.strftime(format), dt\r\n",
    "\r\n",
    "_, newest_dt = ts2dt(newest_ts)\r\n",
    "print(f\"Recent query happens at {newest_dt.strftime(DATETIME_FORMAT)} ({newest_dt.tzname()}).\")"
   ]
  },
  {
   "cell_type": "code",
   "execution_count": 4,
   "metadata": {
    "execution": {
     "iopub.execute_input": "2021-10-10T04:14:55.225191Z",
     "iopub.status.busy": "2021-10-10T04:14:55.223708Z",
     "iopub.status.idle": "2021-10-10T04:14:55.225740Z",
     "shell.execute_reply": "2021-10-10T04:14:55.226125Z"
    }
   },
   "outputs": [],
   "source": [
    "def degrees_to_cardinal(d):\r\n",
    "  dirs = ['N', 'NNE', 'NE', 'ENE', 'E', 'ESE', 'SE', 'SSE', 'S', 'SSW', 'SW', 'WSW', 'W', 'WNW', 'NW', 'NNW']\r\n",
    "  ix = int(round(d / (360. / len(dirs))))\r\n",
    "  return dirs[ix % len(dirs)]"
   ]
  },
  {
   "cell_type": "code",
   "execution_count": 5,
   "metadata": {
    "execution": {
     "iopub.execute_input": "2021-10-10T04:14:55.230421Z",
     "iopub.status.busy": "2021-10-10T04:14:55.229236Z",
     "iopub.status.idle": "2021-10-10T04:14:55.230947Z",
     "shell.execute_reply": "2021-10-10T04:14:55.231485Z"
    }
   },
   "outputs": [],
   "source": [
    "# data.keys()"
   ]
  },
  {
   "cell_type": "code",
   "execution_count": 6,
   "metadata": {
    "execution": {
     "iopub.execute_input": "2021-10-10T04:14:55.235927Z",
     "iopub.status.busy": "2021-10-10T04:14:55.234759Z",
     "iopub.status.idle": "2021-10-10T04:14:55.236469Z",
     "shell.execute_reply": "2021-10-10T04:14:55.236850Z"
    }
   },
   "outputs": [],
   "source": [
    "# data['current']"
   ]
  },
  {
   "cell_type": "code",
   "execution_count": 7,
   "metadata": {
    "execution": {
     "iopub.execute_input": "2021-10-10T04:14:55.255560Z",
     "iopub.status.busy": "2021-10-10T04:14:55.254980Z",
     "iopub.status.idle": "2021-10-10T04:14:55.676617Z",
     "shell.execute_reply": "2021-10-10T04:14:55.677406Z"
    }
   },
   "outputs": [
    {
     "data": {
      "image/png": "[encoded data removed]",
      "text/plain": [
       "<Figure size 216x216 with 1 Axes>"
      ]
     },
     "metadata": {
      "needs_background": "light"
     },
     "output_type": "display_data"
    },
    {
     "name": "stdout",
     "output_type": "stream",
     "text": [
      "Today, sun rises at 06:17 and sets at 18:02.\n",
      "Currently, the weather is Rain (light rain).\n",
      "The temperature is 26.18°C and it feels like 26.18°C.\n",
      "The UV index is 1.33, humidity is 92%.\n",
      "The pressure is 1010 hPa, percentage of cloud cover is 100%\n",
      "The wind comes from NE direction with a speed 0.89 m/s.\n"
     ]
    }
   ],
   "source": [
    "current = data['current']\r\n",
    "\r\n",
    "fig, ax = plt.subplots(figsize=(3, 3))\r\n",
    "icon = requests.get(f\"http://openweathermap.org/img/wn/{current['weather'][0]['icon']}@2x.png\")\r\n",
    "im = Image.open(BytesIO(icon.content))\r\n",
    "plt.imshow(im)\r\n",
    "ax.set_axis_off()\r\n",
    "plt.show()\r\n",
    "\r\n",
    "print(f\"Today, sun rises at {ts2dt(current['sunrise'], '%H:%M')[0]} \\\r\n",
    "and sets at {ts2dt(current['sunset'], '%H:%M')[0]}.\\n\\\r\n",
    "Currently, the weather is {current['weather'][0]['main']} ({current['weather'][0]['description']}).\\n\\\r\n",
    "The temperature is {current['temp']}°C and it feels like {current['feels_like']}°C.\\n\\\r\n",
    "The UV index is {current['uvi']}, humidity is {current['humidity']}%.\\n\\\r\n",
    "The pressure is {current['pressure']} hPa, percentage of cloud cover is {current['clouds']}%\\n\\\r\n",
    "The wind comes from {degrees_to_cardinal(current['wind_deg'])} direction with a speed {current['wind_speed']} m/s.\")"
   ]
  },
  {
   "cell_type": "code",
   "execution_count": 8,
   "metadata": {
    "execution": {
     "iopub.execute_input": "2021-10-10T04:14:55.681951Z",
     "iopub.status.busy": "2021-10-10T04:14:55.680951Z",
     "iopub.status.idle": "2021-10-10T04:14:55.689001Z",
     "shell.execute_reply": "2021-10-10T04:14:55.689804Z"
    }
   },
   "outputs": [],
   "source": [
    "df_hourly = pd.DataFrame(data['hourly'])\r\n",
    "df_daily = pd.DataFrame(data['daily'])"
   ]
  },
  {
   "cell_type": "code",
   "execution_count": 9,
   "metadata": {
    "execution": {
     "iopub.execute_input": "2021-10-10T04:14:55.693086Z",
     "iopub.status.busy": "2021-10-10T04:14:55.691975Z",
     "iopub.status.idle": "2021-10-10T04:14:56.017496Z",
     "shell.execute_reply": "2021-10-10T04:14:56.017029Z"
    }
   },
   "outputs": [
    {
     "data": {
      "image/png": "[encoded data removed]",
      "text/plain": [
       "<Figure size 864x432 with 1 Axes>"
      ]
     },
     "metadata": {
      "needs_background": "light"
     },
     "output_type": "display_data"
    }
   ],
   "source": [
    "fig, ax = plt.subplots(figsize=(12, 6))\r\n",
    "plt.plot(df_hourly.temp, '.-', label='Temperature')\r\n",
    "plt.plot(df_hourly.feels_like, '.-', label='Feels Like')\r\n",
    "ax.set(title='Temperature in future 48 hours', xlabel='Time', ylabel='Temperature')\r\n",
    "ax.set_xticks(list(range(0, len(df_hourly), 2)))\r\n",
    "ax.set_xticklabels([ts2dt(ts, '%m-%d %H:%M')[0] for i, ts in enumerate(df_hourly.dt) if i%2==0], \r\n",
    "                   rotation=45, ha=\"right\")\r\n",
    "ax.locator_params(nbins=15, axis='y')\r\n",
    "plt.legend()\r\n",
    "plt.show()"
   ]
  },
  {
   "cell_type": "code",
   "execution_count": 10,
   "metadata": {
    "execution": {
     "iopub.execute_input": "2021-10-10T04:14:56.030755Z",
     "iopub.status.busy": "2021-10-10T04:14:56.021714Z",
     "iopub.status.idle": "2021-10-10T04:14:56.042711Z",
     "shell.execute_reply": "2021-10-10T04:14:56.043270Z"
    }
   },
   "outputs": [
    {
     "data": {
      "text/html": [
       "<div>\n",
       "<style scoped>\n",
       "    .dataframe tbody tr th:only-of-type {\n",
       "        vertical-align: middle;\n",
       "    }\n",
       "\n",
       "    .dataframe tbody tr th {\n",
       "        vertical-align: top;\n",
       "    }\n",
       "\n",
       "    .dataframe thead th {\n",
       "        text-align: right;\n",
       "    }\n",
       "</style>\n",
       "<table border=\"1\" class=\"dataframe\">\n",
       "  <thead>\n",
       "    <tr style=\"text-align: right;\">\n",
       "      <th></th>\n",
       "      <th>dt</th>\n",
       "      <th>temp</th>\n",
       "      <th>feels_like</th>\n",
       "      <th>pressure</th>\n",
       "      <th>humidity</th>\n",
       "      <th>dew_point</th>\n",
       "      <th>uvi</th>\n",
       "      <th>clouds</th>\n",
       "      <th>visibility</th>\n",
       "      <th>wind_speed</th>\n",
       "      <th>wind_deg</th>\n",
       "      <th>wind_gust</th>\n",
       "      <th>weather</th>\n",
       "      <th>pop</th>\n",
       "      <th>rain</th>\n",
       "    </tr>\n",
       "  </thead>\n",
       "  <tbody>\n",
       "    <tr>\n",
       "      <th>0</th>\n",
       "      <td>1633838400</td>\n",
       "      <td>26.18</td>\n",
       "      <td>26.18</td>\n",
       "      <td>1010</td>\n",
       "      <td>92</td>\n",
       "      <td>24.78</td>\n",
       "      <td>1.33</td>\n",
       "      <td>100</td>\n",
       "      <td>10000</td>\n",
       "      <td>8.79</td>\n",
       "      <td>85</td>\n",
       "      <td>12.15</td>\n",
       "      <td>[{'id': 500, 'main': 'Rain', 'description': 'l...</td>\n",
       "      <td>0.61</td>\n",
       "      <td>{'1h': 0.23}</td>\n",
       "    </tr>\n",
       "    <tr>\n",
       "      <th>1</th>\n",
       "      <td>1633842000</td>\n",
       "      <td>26.55</td>\n",
       "      <td>26.55</td>\n",
       "      <td>1010</td>\n",
       "      <td>88</td>\n",
       "      <td>24.40</td>\n",
       "      <td>1.30</td>\n",
       "      <td>100</td>\n",
       "      <td>10000</td>\n",
       "      <td>8.94</td>\n",
       "      <td>87</td>\n",
       "      <td>11.59</td>\n",
       "      <td>[{'id': 804, 'main': 'Clouds', 'description': ...</td>\n",
       "      <td>0.64</td>\n",
       "      <td>NaN</td>\n",
       "    </tr>\n",
       "    <tr>\n",
       "      <th>2</th>\n",
       "      <td>1633845600</td>\n",
       "      <td>26.92</td>\n",
       "      <td>30.02</td>\n",
       "      <td>1009</td>\n",
       "      <td>85</td>\n",
       "      <td>24.18</td>\n",
       "      <td>1.05</td>\n",
       "      <td>100</td>\n",
       "      <td>10000</td>\n",
       "      <td>8.67</td>\n",
       "      <td>92</td>\n",
       "      <td>11.07</td>\n",
       "      <td>[{'id': 804, 'main': 'Clouds', 'description': ...</td>\n",
       "      <td>0.80</td>\n",
       "      <td>NaN</td>\n",
       "    </tr>\n",
       "    <tr>\n",
       "      <th>3</th>\n",
       "      <td>1633849200</td>\n",
       "      <td>27.15</td>\n",
       "      <td>30.39</td>\n",
       "      <td>1009</td>\n",
       "      <td>83</td>\n",
       "      <td>24.01</td>\n",
       "      <td>2.98</td>\n",
       "      <td>100</td>\n",
       "      <td>10000</td>\n",
       "      <td>8.12</td>\n",
       "      <td>95</td>\n",
       "      <td>10.63</td>\n",
       "      <td>[{'id': 500, 'main': 'Rain', 'description': 'l...</td>\n",
       "      <td>1.00</td>\n",
       "      <td>{'1h': 0.45}</td>\n",
       "    </tr>\n",
       "    <tr>\n",
       "      <th>4</th>\n",
       "      <td>1633852800</td>\n",
       "      <td>27.20</td>\n",
       "      <td>30.40</td>\n",
       "      <td>1008</td>\n",
       "      <td>82</td>\n",
       "      <td>23.86</td>\n",
       "      <td>1.42</td>\n",
       "      <td>100</td>\n",
       "      <td>10000</td>\n",
       "      <td>7.14</td>\n",
       "      <td>96</td>\n",
       "      <td>10.30</td>\n",
       "      <td>[{'id': 500, 'main': 'Rain', 'description': 'l...</td>\n",
       "      <td>1.00</td>\n",
       "      <td>{'1h': 0.87}</td>\n",
       "    </tr>\n",
       "  </tbody>\n",
       "</table>\n",
       "</div>"
      ],
      "text/plain": [
       "           dt   temp  feels_like  pressure  humidity  dew_point   uvi  clouds  \\\n",
       "0  1633838400  26.18       26.18      1010        92      24.78  1.33     100   \n",
       "1  1633842000  26.55       26.55      1010        88      24.40  1.30     100   \n",
       "2  1633845600  26.92       30.02      1009        85      24.18  1.05     100   \n",
       "3  1633849200  27.15       30.39      1009        83      24.01  2.98     100   \n",
       "4  1633852800  27.20       30.40      1008        82      23.86  1.42     100   \n",
       "\n",
       "   visibility  wind_speed  wind_deg  wind_gust  \\\n",
       "0       10000        8.79        85      12.15   \n",
       "1       10000        8.94        87      11.59   \n",
       "2       10000        8.67        92      11.07   \n",
       "3       10000        8.12        95      10.63   \n",
       "4       10000        7.14        96      10.30   \n",
       "\n",
       "                                             weather   pop          rain  \n",
       "0  [{'id': 500, 'main': 'Rain', 'description': 'l...  0.61  {'1h': 0.23}  \n",
       "1  [{'id': 804, 'main': 'Clouds', 'description': ...  0.64           NaN  \n",
       "2  [{'id': 804, 'main': 'Clouds', 'description': ...  0.80           NaN  \n",
       "3  [{'id': 500, 'main': 'Rain', 'description': 'l...  1.00  {'1h': 0.45}  \n",
       "4  [{'id': 500, 'main': 'Rain', 'description': 'l...  1.00  {'1h': 0.87}  "
      ]
     },
     "execution_count": 10,
     "metadata": {},
     "output_type": "execute_result"
    }
   ],
   "source": [
    "df_hourly.head()"
   ]
  },
  {
   "cell_type": "code",
   "execution_count": null,
   "metadata": {},
   "outputs": [],
   "source": []
  }
 ],
 "metadata": {
  "interpreter": {
   "hash": "c1b4cfe941b6d2466ad1fb5979e97da9cda8801728c8091b097ab734208fc00c"
  },
  "kernelspec": {
   "display_name": "Python 3.8.3 64-bit ('base': conda)",
   "name": "python3"
  },
  "language_info": {
   "codemirror_mode": {
    "name": "ipython",
    "version": 3
   },
   "file_extension": ".py",
   "mimetype": "text/x-python",
   "name": "python",
   "nbconvert_exporter": "python",
   "pygments_lexer": "ipython3",
   "version": "3.8.12"
  }
 },
 "nbformat": 4,
 "nbformat_minor": 2
}
