{
 "cells": [
  {
   "cell_type": "code",
   "execution_count": 1,
   "metadata": {
    "execution": {
     "iopub.execute_input": "2021-08-30T06:18:34.297663Z",
     "iopub.status.busy": "2021-08-30T06:18:34.296940Z",
     "iopub.status.idle": "2021-08-30T06:18:35.542156Z",
     "shell.execute_reply": "2021-08-30T06:18:35.541139Z"
    }
   },
   "outputs": [],
   "source": [
    "import json, yaml, requests\r\n",
    "from datetime import datetime\r\n",
    "from dateutil import tz\r\n",
    "import pandas as pd\r\n",
    "from PIL import Image\r\n",
    "from io import BytesIO\r\n",
    "import matplotlib.pyplot as plt\r\n",
    "import seaborn\r\n",
    "\r\n",
    "CONFIG_PATH = \"../config/config.yaml\""
   ]
  },
  {
   "cell_type": "code",
   "execution_count": 2,
   "metadata": {
    "execution": {
     "iopub.execute_input": "2021-08-30T06:18:35.547814Z",
     "iopub.status.busy": "2021-08-30T06:18:35.547221Z",
     "iopub.status.idle": "2021-08-30T06:18:35.554092Z",
     "shell.execute_reply": "2021-08-30T06:18:35.553640Z"
    }
   },
   "outputs": [],
   "source": [
    "with open('../newest_ts', 'r') as f:\r\n",
    "    newest_ts = f.read()\r\n",
    "\r\n",
    "data_path = f\"../data/data_{newest_ts}.json\"\r\n",
    "with open(data_path, 'r') as f:\r\n",
    "    data = json.load(f)\r\n",
    "\r\n",
    "with open(CONFIG_PATH, \"r\") as stream:\r\n",
    "    config = yaml.safe_load(stream)\r\n",
    "\r\n",
    "TIME_ZONE = config['time_zone']\r\n",
    "DATETIME_FORMAT = config['dt_format']"
   ]
  },
  {
   "cell_type": "code",
   "execution_count": 3,
   "metadata": {
    "execution": {
     "iopub.execute_input": "2021-08-30T06:18:35.559031Z",
     "iopub.status.busy": "2021-08-30T06:18:35.558332Z",
     "iopub.status.idle": "2021-08-30T06:18:35.564341Z",
     "shell.execute_reply": "2021-08-30T06:18:35.564753Z"
    }
   },
   "outputs": [
    {
     "name": "stdout",
     "output_type": "stream",
     "text": [
      "Recent query happens at 2021-08-30 14:18:31 (CST).\n"
     ]
    }
   ],
   "source": [
    "def ts2dt(ts, format=DATETIME_FORMAT):\r\n",
    "    dt = (datetime.utcfromtimestamp(int(ts))\r\n",
    "                    .replace(tzinfo=tz.tzutc())\r\n",
    "                    # .astimezone(tz.tzlocal())\r\n",
    "                    .astimezone(tz.gettz(TIME_ZONE)))\r\n",
    "    return dt.strftime(format), dt\r\n",
    "\r\n",
    "_, newest_dt = ts2dt(newest_ts)\r\n",
    "print(f\"Recent query happens at {newest_dt.strftime(DATETIME_FORMAT)} ({newest_dt.tzname()}).\")"
   ]
  },
  {
   "cell_type": "code",
   "execution_count": 4,
   "metadata": {
    "execution": {
     "iopub.execute_input": "2021-08-30T06:18:35.569783Z",
     "iopub.status.busy": "2021-08-30T06:18:35.569261Z",
     "iopub.status.idle": "2021-08-30T06:18:35.573371Z",
     "shell.execute_reply": "2021-08-30T06:18:35.572916Z"
    }
   },
   "outputs": [],
   "source": [
    "def degrees_to_cardinal(d):\r\n",
    "  dirs = ['N', 'NNE', 'NE', 'ENE', 'E', 'ESE', 'SE', 'SSE', 'S', 'SSW', 'SW', 'WSW', 'W', 'WNW', 'NW', 'NNW']\r\n",
    "  ix = int(round(d / (360. / len(dirs))))\r\n",
    "  return dirs[ix % len(dirs)]"
   ]
  },
  {
   "cell_type": "code",
   "execution_count": 5,
   "metadata": {
    "execution": {
     "iopub.execute_input": "2021-08-30T06:18:35.576772Z",
     "iopub.status.busy": "2021-08-30T06:18:35.576253Z",
     "iopub.status.idle": "2021-08-30T06:18:35.579713Z",
     "shell.execute_reply": "2021-08-30T06:18:35.579255Z"
    }
   },
   "outputs": [],
   "source": [
    "# data.keys()"
   ]
  },
  {
   "cell_type": "code",
   "execution_count": 6,
   "metadata": {
    "execution": {
     "iopub.execute_input": "2021-08-30T06:18:35.584218Z",
     "iopub.status.busy": "2021-08-30T06:18:35.582943Z",
     "iopub.status.idle": "2021-08-30T06:18:35.584869Z",
     "shell.execute_reply": "2021-08-30T06:18:35.585304Z"
    }
   },
   "outputs": [],
   "source": [
    "# data['current']"
   ]
  },
  {
   "cell_type": "code",
   "execution_count": 7,
   "metadata": {
    "execution": {
     "iopub.execute_input": "2021-08-30T06:18:35.614596Z",
     "iopub.status.busy": "2021-08-30T06:18:35.610993Z",
     "iopub.status.idle": "2021-08-30T06:18:36.025932Z",
     "shell.execute_reply": "2021-08-30T06:18:36.025316Z"
    }
   },
   "outputs": [
    {
     "data": {
      "image/png": "[encoded data removed]",
      "text/plain": [
       "<Figure size 216x216 with 1 Axes>"
      ]
     },
     "metadata": {
      "needs_background": "light"
     },
     "output_type": "display_data"
    },
    {
     "name": "stdout",
     "output_type": "stream",
     "text": [
      "Today, sun rises at 06:05 and sets at 18:42.\n",
      "Currently, the weather is Clouds (few clouds).\n",
      "The temperature is 31.68°C and it feels like 38.68°C.\n",
      "The UV index is 9.64, humidity is 72%.\n",
      "The pressure is 1011 hPa, percentage of cloud cover is 24%\n",
      "The wind comes from E direction with a speed 5.49 m/s.\n"
     ]
    }
   ],
   "source": [
    "current = data['current']\r\n",
    "\r\n",
    "fig, ax = plt.subplots(figsize=(3, 3))\r\n",
    "icon = requests.get(f\"http://openweathermap.org/img/wn/{current['weather'][0]['icon']}@2x.png\")\r\n",
    "im = Image.open(BytesIO(icon.content))\r\n",
    "plt.imshow(im)\r\n",
    "ax.set_axis_off()\r\n",
    "plt.show()\r\n",
    "\r\n",
    "print(f\"Today, sun rises at {ts2dt(current['sunrise'], '%H:%M')[0]} \\\r\n",
    "and sets at {ts2dt(current['sunset'], '%H:%M')[0]}.\\n\\\r\n",
    "Currently, the weather is {current['weather'][0]['main']} ({current['weather'][0]['description']}).\\n\\\r\n",
    "The temperature is {current['temp']}°C and it feels like {current['feels_like']}°C.\\n\\\r\n",
    "The UV index is {current['uvi']}, humidity is {current['humidity']}%.\\n\\\r\n",
    "The pressure is {current['pressure']} hPa, percentage of cloud cover is {current['clouds']}%\\n\\\r\n",
    "The wind comes from {degrees_to_cardinal(current['wind_deg'])} direction with a speed {current['wind_speed']} m/s.\")"
   ]
  },
  {
   "cell_type": "code",
   "execution_count": 8,
   "metadata": {
    "execution": {
     "iopub.execute_input": "2021-08-30T06:18:36.031212Z",
     "iopub.status.busy": "2021-08-30T06:18:36.030667Z",
     "iopub.status.idle": "2021-08-30T06:18:36.034913Z",
     "shell.execute_reply": "2021-08-30T06:18:36.035381Z"
    }
   },
   "outputs": [],
   "source": [
    "df_hourly = pd.DataFrame(data['hourly'])\r\n",
    "df_daily = pd.DataFrame(data['daily'])"
   ]
  },
  {
   "cell_type": "code",
   "execution_count": 9,
   "metadata": {
    "execution": {
     "iopub.execute_input": "2021-08-30T06:18:36.052971Z",
     "iopub.status.busy": "2021-08-30T06:18:36.052352Z",
     "iopub.status.idle": "2021-08-30T06:18:36.356170Z",
     "shell.execute_reply": "2021-08-30T06:18:36.355645Z"
    }
   },
   "outputs": [
    {
     "data": {
      "image/png": "[encoded data removed]",
      "text/plain": [
       "<Figure size 864x432 with 1 Axes>"
      ]
     },
     "metadata": {
      "needs_background": "light"
     },
     "output_type": "display_data"
    }
   ],
   "source": [
    "fig, ax = plt.subplots(figsize=(12, 6))\r\n",
    "plt.plot(df_hourly.temp, '.-', label='Temperature')\r\n",
    "plt.plot(df_hourly.feels_like, '.-', label='Feels Like')\r\n",
    "ax.set(title='Temperature in future 48 hours', xlabel='Time', ylabel='Temperature')\r\n",
    "ax.set_xticks(list(range(0, len(df_hourly), 2)))\r\n",
    "ax.set_xticklabels([ts2dt(ts, '%m-%d %H:%M')[0] for i, ts in enumerate(df_hourly.dt) if i%2==0], \r\n",
    "                   rotation=45, ha=\"right\")\r\n",
    "ax.locator_params(nbins=15, axis='y')\r\n",
    "plt.legend()\r\n",
    "plt.show()"
   ]
  },
  {
   "cell_type": "code",
   "execution_count": 10,
   "metadata": {
    "execution": {
     "iopub.execute_input": "2021-08-30T06:18:36.361055Z",
     "iopub.status.busy": "2021-08-30T06:18:36.360490Z",
     "iopub.status.idle": "2021-08-30T06:18:36.380172Z",
     "shell.execute_reply": "2021-08-30T06:18:36.380644Z"
    }
   },
   "outputs": [
    {
     "data": {
      "text/html": [
       "<div>\n",
       "<style scoped>\n",
       "    .dataframe tbody tr th:only-of-type {\n",
       "        vertical-align: middle;\n",
       "    }\n",
       "\n",
       "    .dataframe tbody tr th {\n",
       "        vertical-align: top;\n",
       "    }\n",
       "\n",
       "    .dataframe thead th {\n",
       "        text-align: right;\n",
       "    }\n",
       "</style>\n",
       "<table border=\"1\" class=\"dataframe\">\n",
       "  <thead>\n",
       "    <tr style=\"text-align: right;\">\n",
       "      <th></th>\n",
       "      <th>dt</th>\n",
       "      <th>temp</th>\n",
       "      <th>feels_like</th>\n",
       "      <th>pressure</th>\n",
       "      <th>humidity</th>\n",
       "      <th>dew_point</th>\n",
       "      <th>uvi</th>\n",
       "      <th>clouds</th>\n",
       "      <th>visibility</th>\n",
       "      <th>wind_speed</th>\n",
       "      <th>wind_deg</th>\n",
       "      <th>wind_gust</th>\n",
       "      <th>weather</th>\n",
       "      <th>pop</th>\n",
       "      <th>rain</th>\n",
       "    </tr>\n",
       "  </thead>\n",
       "  <tbody>\n",
       "    <tr>\n",
       "      <th>0</th>\n",
       "      <td>1630303200</td>\n",
       "      <td>31.68</td>\n",
       "      <td>38.68</td>\n",
       "      <td>1011</td>\n",
       "      <td>72</td>\n",
       "      <td>26.01</td>\n",
       "      <td>9.64</td>\n",
       "      <td>24</td>\n",
       "      <td>10000</td>\n",
       "      <td>5.49</td>\n",
       "      <td>91</td>\n",
       "      <td>6.19</td>\n",
       "      <td>[{'id': 801, 'main': 'Clouds', 'description': ...</td>\n",
       "      <td>0.18</td>\n",
       "      <td>NaN</td>\n",
       "    </tr>\n",
       "    <tr>\n",
       "      <th>1</th>\n",
       "      <td>1630306800</td>\n",
       "      <td>31.37</td>\n",
       "      <td>38.37</td>\n",
       "      <td>1011</td>\n",
       "      <td>71</td>\n",
       "      <td>25.47</td>\n",
       "      <td>6.45</td>\n",
       "      <td>22</td>\n",
       "      <td>10000</td>\n",
       "      <td>5.41</td>\n",
       "      <td>94</td>\n",
       "      <td>6.59</td>\n",
       "      <td>[{'id': 801, 'main': 'Clouds', 'description': ...</td>\n",
       "      <td>0.04</td>\n",
       "      <td>NaN</td>\n",
       "    </tr>\n",
       "    <tr>\n",
       "      <th>2</th>\n",
       "      <td>1630310400</td>\n",
       "      <td>30.99</td>\n",
       "      <td>37.57</td>\n",
       "      <td>1011</td>\n",
       "      <td>70</td>\n",
       "      <td>24.87</td>\n",
       "      <td>3.40</td>\n",
       "      <td>19</td>\n",
       "      <td>10000</td>\n",
       "      <td>5.23</td>\n",
       "      <td>97</td>\n",
       "      <td>6.69</td>\n",
       "      <td>[{'id': 801, 'main': 'Clouds', 'description': ...</td>\n",
       "      <td>0.07</td>\n",
       "      <td>NaN</td>\n",
       "    </tr>\n",
       "    <tr>\n",
       "      <th>3</th>\n",
       "      <td>1630314000</td>\n",
       "      <td>30.37</td>\n",
       "      <td>36.22</td>\n",
       "      <td>1010</td>\n",
       "      <td>71</td>\n",
       "      <td>24.52</td>\n",
       "      <td>1.23</td>\n",
       "      <td>17</td>\n",
       "      <td>10000</td>\n",
       "      <td>4.93</td>\n",
       "      <td>104</td>\n",
       "      <td>6.71</td>\n",
       "      <td>[{'id': 801, 'main': 'Clouds', 'description': ...</td>\n",
       "      <td>0.13</td>\n",
       "      <td>NaN</td>\n",
       "    </tr>\n",
       "    <tr>\n",
       "      <th>4</th>\n",
       "      <td>1630317600</td>\n",
       "      <td>29.51</td>\n",
       "      <td>35.22</td>\n",
       "      <td>1010</td>\n",
       "      <td>76</td>\n",
       "      <td>24.83</td>\n",
       "      <td>0.22</td>\n",
       "      <td>19</td>\n",
       "      <td>10000</td>\n",
       "      <td>4.60</td>\n",
       "      <td>107</td>\n",
       "      <td>7.01</td>\n",
       "      <td>[{'id': 801, 'main': 'Clouds', 'description': ...</td>\n",
       "      <td>0.13</td>\n",
       "      <td>NaN</td>\n",
       "    </tr>\n",
       "  </tbody>\n",
       "</table>\n",
       "</div>"
      ],
      "text/plain": [
       "           dt   temp  feels_like  pressure  humidity  dew_point   uvi  clouds  \\\n",
       "0  1630303200  31.68       38.68      1011        72      26.01  9.64      24   \n",
       "1  1630306800  31.37       38.37      1011        71      25.47  6.45      22   \n",
       "2  1630310400  30.99       37.57      1011        70      24.87  3.40      19   \n",
       "3  1630314000  30.37       36.22      1010        71      24.52  1.23      17   \n",
       "4  1630317600  29.51       35.22      1010        76      24.83  0.22      19   \n",
       "\n",
       "   visibility  wind_speed  wind_deg  wind_gust  \\\n",
       "0       10000        5.49        91       6.19   \n",
       "1       10000        5.41        94       6.59   \n",
       "2       10000        5.23        97       6.69   \n",
       "3       10000        4.93       104       6.71   \n",
       "4       10000        4.60       107       7.01   \n",
       "\n",
       "                                             weather   pop rain  \n",
       "0  [{'id': 801, 'main': 'Clouds', 'description': ...  0.18  NaN  \n",
       "1  [{'id': 801, 'main': 'Clouds', 'description': ...  0.04  NaN  \n",
       "2  [{'id': 801, 'main': 'Clouds', 'description': ...  0.07  NaN  \n",
       "3  [{'id': 801, 'main': 'Clouds', 'description': ...  0.13  NaN  \n",
       "4  [{'id': 801, 'main': 'Clouds', 'description': ...  0.13  NaN  "
      ]
     },
     "execution_count": 10,
     "metadata": {},
     "output_type": "execute_result"
    }
   ],
   "source": [
    "df_hourly.head()"
   ]
  },
  {
   "cell_type": "code",
   "execution_count": null,
   "metadata": {},
   "outputs": [],
   "source": []
  }
 ],
 "metadata": {
  "interpreter": {
   "hash": "c1b4cfe941b6d2466ad1fb5979e97da9cda8801728c8091b097ab734208fc00c"
  },
  "kernelspec": {
   "display_name": "Python 3.8.3 64-bit ('base': conda)",
   "name": "python3"
  },
  "language_info": {
   "codemirror_mode": {
    "name": "ipython",
    "version": 3
   },
   "file_extension": ".py",
   "mimetype": "text/x-python",
   "name": "python",
   "nbconvert_exporter": "python",
   "pygments_lexer": "ipython3",
   "version": "3.8.11"
  }
 },
 "nbformat": 4,
 "nbformat_minor": 2
}
