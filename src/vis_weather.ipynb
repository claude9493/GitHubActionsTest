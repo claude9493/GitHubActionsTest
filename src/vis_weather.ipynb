{
 "cells": [
  {
   "cell_type": "code",
   "execution_count": 1,
   "metadata": {
    "execution": {
     "iopub.execute_input": "2021-09-18T21:10:45.339628Z",
     "iopub.status.busy": "2021-09-18T21:10:45.339025Z",
     "iopub.status.idle": "2021-09-18T21:10:46.512430Z",
     "shell.execute_reply": "2021-09-18T21:10:46.511833Z"
    }
   },
   "outputs": [],
   "source": [
    "import json, yaml, requests\r\n",
    "from datetime import datetime\r\n",
    "from dateutil import tz\r\n",
    "import pandas as pd\r\n",
    "from PIL import Image\r\n",
    "from io import BytesIO\r\n",
    "import matplotlib.pyplot as plt\r\n",
    "import seaborn\r\n",
    "\r\n",
    "CONFIG_PATH = \"../config/config.yaml\""
   ]
  },
  {
   "cell_type": "code",
   "execution_count": 2,
   "metadata": {
    "execution": {
     "iopub.execute_input": "2021-09-18T21:10:46.519617Z",
     "iopub.status.busy": "2021-09-18T21:10:46.516827Z",
     "iopub.status.idle": "2021-09-18T21:10:46.522341Z",
     "shell.execute_reply": "2021-09-18T21:10:46.522701Z"
    }
   },
   "outputs": [],
   "source": [
    "with open('../newest_ts', 'r') as f:\r\n",
    "    newest_ts = f.read()\r\n",
    "\r\n",
    "data_path = f\"../data/data_{newest_ts}.json\"\r\n",
    "with open(data_path, 'r') as f:\r\n",
    "    data = json.load(f)\r\n",
    "\r\n",
    "with open(CONFIG_PATH, \"r\") as stream:\r\n",
    "    config = yaml.safe_load(stream)\r\n",
    "\r\n",
    "TIME_ZONE = config['time_zone']\r\n",
    "DATETIME_FORMAT = config['dt_format']"
   ]
  },
  {
   "cell_type": "code",
   "execution_count": 3,
   "metadata": {
    "execution": {
     "iopub.execute_input": "2021-09-18T21:10:46.526701Z",
     "iopub.status.busy": "2021-09-18T21:10:46.526211Z",
     "iopub.status.idle": "2021-09-18T21:10:46.536214Z",
     "shell.execute_reply": "2021-09-18T21:10:46.536585Z"
    }
   },
   "outputs": [
    {
     "name": "stdout",
     "output_type": "stream",
     "text": [
      "Recent query happens at 2021-09-19 05:10:42 (CST).\n"
     ]
    }
   ],
   "source": [
    "def ts2dt(ts, format=DATETIME_FORMAT):\r\n",
    "    dt = (datetime.utcfromtimestamp(int(ts))\r\n",
    "                    .replace(tzinfo=tz.tzutc())\r\n",
    "                    # .astimezone(tz.tzlocal())\r\n",
    "                    .astimezone(tz.gettz(TIME_ZONE)))\r\n",
    "    return dt.strftime(format), dt\r\n",
    "\r\n",
    "_, newest_dt = ts2dt(newest_ts)\r\n",
    "print(f\"Recent query happens at {newest_dt.strftime(DATETIME_FORMAT)} ({newest_dt.tzname()}).\")"
   ]
  },
  {
   "cell_type": "code",
   "execution_count": 4,
   "metadata": {
    "execution": {
     "iopub.execute_input": "2021-09-18T21:10:46.541098Z",
     "iopub.status.busy": "2021-09-18T21:10:46.540108Z",
     "iopub.status.idle": "2021-09-18T21:10:46.541612Z",
     "shell.execute_reply": "2021-09-18T21:10:46.541976Z"
    }
   },
   "outputs": [],
   "source": [
    "def degrees_to_cardinal(d):\r\n",
    "  dirs = ['N', 'NNE', 'NE', 'ENE', 'E', 'ESE', 'SE', 'SSE', 'S', 'SSW', 'SW', 'WSW', 'W', 'WNW', 'NW', 'NNW']\r\n",
    "  ix = int(round(d / (360. / len(dirs))))\r\n",
    "  return dirs[ix % len(dirs)]"
   ]
  },
  {
   "cell_type": "code",
   "execution_count": 5,
   "metadata": {
    "execution": {
     "iopub.execute_input": "2021-09-18T21:10:46.545767Z",
     "iopub.status.busy": "2021-09-18T21:10:46.544656Z",
     "iopub.status.idle": "2021-09-18T21:10:46.546307Z",
     "shell.execute_reply": "2021-09-18T21:10:46.546758Z"
    }
   },
   "outputs": [],
   "source": [
    "# data.keys()"
   ]
  },
  {
   "cell_type": "code",
   "execution_count": 6,
   "metadata": {
    "execution": {
     "iopub.execute_input": "2021-09-18T21:10:46.550522Z",
     "iopub.status.busy": "2021-09-18T21:10:46.549388Z",
     "iopub.status.idle": "2021-09-18T21:10:46.551043Z",
     "shell.execute_reply": "2021-09-18T21:10:46.551407Z"
    }
   },
   "outputs": [],
   "source": [
    "# data['current']"
   ]
  },
  {
   "cell_type": "code",
   "execution_count": 7,
   "metadata": {
    "execution": {
     "iopub.execute_input": "2021-09-18T21:10:46.567281Z",
     "iopub.status.busy": "2021-09-18T21:10:46.566810Z",
     "iopub.status.idle": "2021-09-18T21:10:47.076692Z",
     "shell.execute_reply": "2021-09-18T21:10:47.077340Z"
    }
   },
   "outputs": [
    {
     "data": {
      "image/png": "[encoded data removed]",
      "text/plain": [
       "<Figure size 216x216 with 1 Axes>"
      ]
     },
     "metadata": {
      "needs_background": "light"
     },
     "output_type": "display_data"
    },
    {
     "name": "stdout",
     "output_type": "stream",
     "text": [
      "Today, sun rises at 06:10 and sets at 18:22.\n",
      "Currently, the weather is Clouds (broken clouds).\n",
      "The temperature is 29.15°C and it feels like 36.15°C.\n",
      "The UV index is 0, humidity is 85%.\n",
      "The pressure is 1011 hPa, percentage of cloud cover is 79%\n",
      "The wind comes from E direction with a speed 4.1 m/s.\n"
     ]
    }
   ],
   "source": [
    "current = data['current']\r\n",
    "\r\n",
    "fig, ax = plt.subplots(figsize=(3, 3))\r\n",
    "icon = requests.get(f\"http://openweathermap.org/img/wn/{current['weather'][0]['icon']}@2x.png\")\r\n",
    "im = Image.open(BytesIO(icon.content))\r\n",
    "plt.imshow(im)\r\n",
    "ax.set_axis_off()\r\n",
    "plt.show()\r\n",
    "\r\n",
    "print(f\"Today, sun rises at {ts2dt(current['sunrise'], '%H:%M')[0]} \\\r\n",
    "and sets at {ts2dt(current['sunset'], '%H:%M')[0]}.\\n\\\r\n",
    "Currently, the weather is {current['weather'][0]['main']} ({current['weather'][0]['description']}).\\n\\\r\n",
    "The temperature is {current['temp']}°C and it feels like {current['feels_like']}°C.\\n\\\r\n",
    "The UV index is {current['uvi']}, humidity is {current['humidity']}%.\\n\\\r\n",
    "The pressure is {current['pressure']} hPa, percentage of cloud cover is {current['clouds']}%\\n\\\r\n",
    "The wind comes from {degrees_to_cardinal(current['wind_deg'])} direction with a speed {current['wind_speed']} m/s.\")"
   ]
  },
  {
   "cell_type": "code",
   "execution_count": 8,
   "metadata": {
    "execution": {
     "iopub.execute_input": "2021-09-18T21:10:47.080449Z",
     "iopub.status.busy": "2021-09-18T21:10:47.079548Z",
     "iopub.status.idle": "2021-09-18T21:10:47.086100Z",
     "shell.execute_reply": "2021-09-18T21:10:47.086733Z"
    }
   },
   "outputs": [],
   "source": [
    "df_hourly = pd.DataFrame(data['hourly'])\r\n",
    "df_daily = pd.DataFrame(data['daily'])"
   ]
  },
  {
   "cell_type": "code",
   "execution_count": 9,
   "metadata": {
    "execution": {
     "iopub.execute_input": "2021-09-18T21:10:47.089727Z",
     "iopub.status.busy": "2021-09-18T21:10:47.088731Z",
     "iopub.status.idle": "2021-09-18T21:10:47.321636Z",
     "shell.execute_reply": "2021-09-18T21:10:47.320910Z"
    }
   },
   "outputs": [
    {
     "data": {
      "image/png": "[encoded data removed]",
      "text/plain": [
       "<Figure size 864x432 with 1 Axes>"
      ]
     },
     "metadata": {
      "needs_background": "light"
     },
     "output_type": "display_data"
    }
   ],
   "source": [
    "fig, ax = plt.subplots(figsize=(12, 6))\r\n",
    "plt.plot(df_hourly.temp, '.-', label='Temperature')\r\n",
    "plt.plot(df_hourly.feels_like, '.-', label='Feels Like')\r\n",
    "ax.set(title='Temperature in future 48 hours', xlabel='Time', ylabel='Temperature')\r\n",
    "ax.set_xticks(list(range(0, len(df_hourly), 2)))\r\n",
    "ax.set_xticklabels([ts2dt(ts, '%m-%d %H:%M')[0] for i, ts in enumerate(df_hourly.dt) if i%2==0], \r\n",
    "                   rotation=45, ha=\"right\")\r\n",
    "ax.locator_params(nbins=15, axis='y')\r\n",
    "plt.legend()\r\n",
    "plt.show()"
   ]
  },
  {
   "cell_type": "code",
   "execution_count": 10,
   "metadata": {
    "execution": {
     "iopub.execute_input": "2021-09-18T21:10:47.332973Z",
     "iopub.status.busy": "2021-09-18T21:10:47.325396Z",
     "iopub.status.idle": "2021-09-18T21:10:47.343818Z",
     "shell.execute_reply": "2021-09-18T21:10:47.343412Z"
    }
   },
   "outputs": [
    {
     "data": {
      "text/html": [
       "<div>\n",
       "<style scoped>\n",
       "    .dataframe tbody tr th:only-of-type {\n",
       "        vertical-align: middle;\n",
       "    }\n",
       "\n",
       "    .dataframe tbody tr th {\n",
       "        vertical-align: top;\n",
       "    }\n",
       "\n",
       "    .dataframe thead th {\n",
       "        text-align: right;\n",
       "    }\n",
       "</style>\n",
       "<table border=\"1\" class=\"dataframe\">\n",
       "  <thead>\n",
       "    <tr style=\"text-align: right;\">\n",
       "      <th></th>\n",
       "      <th>dt</th>\n",
       "      <th>temp</th>\n",
       "      <th>feels_like</th>\n",
       "      <th>pressure</th>\n",
       "      <th>humidity</th>\n",
       "      <th>dew_point</th>\n",
       "      <th>uvi</th>\n",
       "      <th>clouds</th>\n",
       "      <th>visibility</th>\n",
       "      <th>wind_speed</th>\n",
       "      <th>wind_deg</th>\n",
       "      <th>wind_gust</th>\n",
       "      <th>weather</th>\n",
       "      <th>pop</th>\n",
       "      <th>rain</th>\n",
       "    </tr>\n",
       "  </thead>\n",
       "  <tbody>\n",
       "    <tr>\n",
       "      <th>0</th>\n",
       "      <td>1631998800</td>\n",
       "      <td>29.15</td>\n",
       "      <td>36.15</td>\n",
       "      <td>1011</td>\n",
       "      <td>85</td>\n",
       "      <td>26.37</td>\n",
       "      <td>0.00</td>\n",
       "      <td>79</td>\n",
       "      <td>10000</td>\n",
       "      <td>4.10</td>\n",
       "      <td>87</td>\n",
       "      <td>5.72</td>\n",
       "      <td>[{'id': 500, 'main': 'Rain', 'description': 'l...</td>\n",
       "      <td>0.63</td>\n",
       "      <td>{'1h': 0.12}</td>\n",
       "    </tr>\n",
       "    <tr>\n",
       "      <th>1</th>\n",
       "      <td>1632002400</td>\n",
       "      <td>28.90</td>\n",
       "      <td>35.33</td>\n",
       "      <td>1011</td>\n",
       "      <td>84</td>\n",
       "      <td>25.92</td>\n",
       "      <td>0.00</td>\n",
       "      <td>80</td>\n",
       "      <td>10000</td>\n",
       "      <td>4.35</td>\n",
       "      <td>86</td>\n",
       "      <td>5.63</td>\n",
       "      <td>[{'id': 803, 'main': 'Clouds', 'description': ...</td>\n",
       "      <td>0.63</td>\n",
       "      <td>NaN</td>\n",
       "    </tr>\n",
       "    <tr>\n",
       "      <th>2</th>\n",
       "      <td>1632006000</td>\n",
       "      <td>28.73</td>\n",
       "      <td>34.61</td>\n",
       "      <td>1011</td>\n",
       "      <td>83</td>\n",
       "      <td>25.55</td>\n",
       "      <td>0.21</td>\n",
       "      <td>82</td>\n",
       "      <td>10000</td>\n",
       "      <td>4.48</td>\n",
       "      <td>82</td>\n",
       "      <td>5.70</td>\n",
       "      <td>[{'id': 803, 'main': 'Clouds', 'description': ...</td>\n",
       "      <td>0.63</td>\n",
       "      <td>NaN</td>\n",
       "    </tr>\n",
       "    <tr>\n",
       "      <th>3</th>\n",
       "      <td>1632009600</td>\n",
       "      <td>28.81</td>\n",
       "      <td>34.22</td>\n",
       "      <td>1012</td>\n",
       "      <td>80</td>\n",
       "      <td>25.01</td>\n",
       "      <td>1.17</td>\n",
       "      <td>85</td>\n",
       "      <td>10000</td>\n",
       "      <td>5.09</td>\n",
       "      <td>83</td>\n",
       "      <td>6.25</td>\n",
       "      <td>[{'id': 500, 'main': 'Rain', 'description': 'l...</td>\n",
       "      <td>0.63</td>\n",
       "      <td>{'1h': 0.11}</td>\n",
       "    </tr>\n",
       "    <tr>\n",
       "      <th>4</th>\n",
       "      <td>1632013200</td>\n",
       "      <td>28.97</td>\n",
       "      <td>34.23</td>\n",
       "      <td>1012</td>\n",
       "      <td>78</td>\n",
       "      <td>24.74</td>\n",
       "      <td>3.26</td>\n",
       "      <td>96</td>\n",
       "      <td>10000</td>\n",
       "      <td>5.71</td>\n",
       "      <td>88</td>\n",
       "      <td>6.62</td>\n",
       "      <td>[{'id': 804, 'main': 'Clouds', 'description': ...</td>\n",
       "      <td>0.53</td>\n",
       "      <td>NaN</td>\n",
       "    </tr>\n",
       "  </tbody>\n",
       "</table>\n",
       "</div>"
      ],
      "text/plain": [
       "           dt   temp  feels_like  pressure  humidity  dew_point   uvi  clouds  \\\n",
       "0  1631998800  29.15       36.15      1011        85      26.37  0.00      79   \n",
       "1  1632002400  28.90       35.33      1011        84      25.92  0.00      80   \n",
       "2  1632006000  28.73       34.61      1011        83      25.55  0.21      82   \n",
       "3  1632009600  28.81       34.22      1012        80      25.01  1.17      85   \n",
       "4  1632013200  28.97       34.23      1012        78      24.74  3.26      96   \n",
       "\n",
       "   visibility  wind_speed  wind_deg  wind_gust  \\\n",
       "0       10000        4.10        87       5.72   \n",
       "1       10000        4.35        86       5.63   \n",
       "2       10000        4.48        82       5.70   \n",
       "3       10000        5.09        83       6.25   \n",
       "4       10000        5.71        88       6.62   \n",
       "\n",
       "                                             weather   pop          rain  \n",
       "0  [{'id': 500, 'main': 'Rain', 'description': 'l...  0.63  {'1h': 0.12}  \n",
       "1  [{'id': 803, 'main': 'Clouds', 'description': ...  0.63           NaN  \n",
       "2  [{'id': 803, 'main': 'Clouds', 'description': ...  0.63           NaN  \n",
       "3  [{'id': 500, 'main': 'Rain', 'description': 'l...  0.63  {'1h': 0.11}  \n",
       "4  [{'id': 804, 'main': 'Clouds', 'description': ...  0.53           NaN  "
      ]
     },
     "execution_count": 10,
     "metadata": {},
     "output_type": "execute_result"
    }
   ],
   "source": [
    "df_hourly.head()"
   ]
  },
  {
   "cell_type": "code",
   "execution_count": null,
   "metadata": {},
   "outputs": [],
   "source": []
  }
 ],
 "metadata": {
  "interpreter": {
   "hash": "c1b4cfe941b6d2466ad1fb5979e97da9cda8801728c8091b097ab734208fc00c"
  },
  "kernelspec": {
   "display_name": "Python 3.8.3 64-bit ('base': conda)",
   "name": "python3"
  },
  "language_info": {
   "codemirror_mode": {
    "name": "ipython",
    "version": 3
   },
   "file_extension": ".py",
   "mimetype": "text/x-python",
   "name": "python",
   "nbconvert_exporter": "python",
   "pygments_lexer": "ipython3",
   "version": "3.8.11"
  }
 },
 "nbformat": 4,
 "nbformat_minor": 2
}
