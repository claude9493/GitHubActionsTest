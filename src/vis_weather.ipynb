{
 "cells": [
  {
   "cell_type": "code",
   "execution_count": 1,
   "metadata": {
    "execution": {
     "iopub.execute_input": "2021-09-03T22:39:40.026785Z",
     "iopub.status.busy": "2021-09-03T22:39:40.026146Z",
     "iopub.status.idle": "2021-09-03T22:39:42.477807Z",
     "shell.execute_reply": "2021-09-03T22:39:42.476708Z"
    }
   },
   "outputs": [],
   "source": [
    "import json, yaml, requests\r\n",
    "from datetime import datetime\r\n",
    "from dateutil import tz\r\n",
    "import pandas as pd\r\n",
    "from PIL import Image\r\n",
    "from io import BytesIO\r\n",
    "import matplotlib.pyplot as plt\r\n",
    "import seaborn\r\n",
    "\r\n",
    "CONFIG_PATH = \"../config/config.yaml\""
   ]
  },
  {
   "cell_type": "code",
   "execution_count": 2,
   "metadata": {
    "execution": {
     "iopub.execute_input": "2021-09-03T22:39:42.485912Z",
     "iopub.status.busy": "2021-09-03T22:39:42.483024Z",
     "iopub.status.idle": "2021-09-03T22:39:42.488785Z",
     "shell.execute_reply": "2021-09-03T22:39:42.488369Z"
    }
   },
   "outputs": [],
   "source": [
    "with open('../newest_ts', 'r') as f:\r\n",
    "    newest_ts = f.read()\r\n",
    "\r\n",
    "data_path = f\"../data/data_{newest_ts}.json\"\r\n",
    "with open(data_path, 'r') as f:\r\n",
    "    data = json.load(f)\r\n",
    "\r\n",
    "with open(CONFIG_PATH, \"r\") as stream:\r\n",
    "    config = yaml.safe_load(stream)\r\n",
    "\r\n",
    "TIME_ZONE = config['time_zone']\r\n",
    "DATETIME_FORMAT = config['dt_format']"
   ]
  },
  {
   "cell_type": "code",
   "execution_count": 3,
   "metadata": {
    "execution": {
     "iopub.execute_input": "2021-09-03T22:39:42.493463Z",
     "iopub.status.busy": "2021-09-03T22:39:42.492937Z",
     "iopub.status.idle": "2021-09-03T22:39:42.496763Z",
     "shell.execute_reply": "2021-09-03T22:39:42.497166Z"
    }
   },
   "outputs": [
    {
     "name": "stdout",
     "output_type": "stream",
     "text": [
      "Recent query happens at 2021-09-04 06:39:37 (CST).\n"
     ]
    }
   ],
   "source": [
    "def ts2dt(ts, format=DATETIME_FORMAT):\r\n",
    "    dt = (datetime.utcfromtimestamp(int(ts))\r\n",
    "                    .replace(tzinfo=tz.tzutc())\r\n",
    "                    # .astimezone(tz.tzlocal())\r\n",
    "                    .astimezone(tz.gettz(TIME_ZONE)))\r\n",
    "    return dt.strftime(format), dt\r\n",
    "\r\n",
    "_, newest_dt = ts2dt(newest_ts)\r\n",
    "print(f\"Recent query happens at {newest_dt.strftime(DATETIME_FORMAT)} ({newest_dt.tzname()}).\")"
   ]
  },
  {
   "cell_type": "code",
   "execution_count": 4,
   "metadata": {
    "execution": {
     "iopub.execute_input": "2021-09-03T22:39:42.502594Z",
     "iopub.status.busy": "2021-09-03T22:39:42.501316Z",
     "iopub.status.idle": "2021-09-03T22:39:42.503159Z",
     "shell.execute_reply": "2021-09-03T22:39:42.503575Z"
    }
   },
   "outputs": [],
   "source": [
    "def degrees_to_cardinal(d):\r\n",
    "  dirs = ['N', 'NNE', 'NE', 'ENE', 'E', 'ESE', 'SE', 'SSE', 'S', 'SSW', 'SW', 'WSW', 'W', 'WNW', 'NW', 'NNW']\r\n",
    "  ix = int(round(d / (360. / len(dirs))))\r\n",
    "  return dirs[ix % len(dirs)]"
   ]
  },
  {
   "cell_type": "code",
   "execution_count": 5,
   "metadata": {
    "execution": {
     "iopub.execute_input": "2021-09-03T22:39:42.507610Z",
     "iopub.status.busy": "2021-09-03T22:39:42.506534Z",
     "iopub.status.idle": "2021-09-03T22:39:42.508177Z",
     "shell.execute_reply": "2021-09-03T22:39:42.508555Z"
    }
   },
   "outputs": [],
   "source": [
    "# data.keys()"
   ]
  },
  {
   "cell_type": "code",
   "execution_count": 6,
   "metadata": {
    "execution": {
     "iopub.execute_input": "2021-09-03T22:39:42.512496Z",
     "iopub.status.busy": "2021-09-03T22:39:42.511215Z",
     "iopub.status.idle": "2021-09-03T22:39:42.513055Z",
     "shell.execute_reply": "2021-09-03T22:39:42.513454Z"
    }
   },
   "outputs": [],
   "source": [
    "# data['current']"
   ]
  },
  {
   "cell_type": "code",
   "execution_count": 7,
   "metadata": {
    "execution": {
     "iopub.execute_input": "2021-09-03T22:39:42.530767Z",
     "iopub.status.busy": "2021-09-03T22:39:42.530256Z",
     "iopub.status.idle": "2021-09-03T22:39:42.951972Z",
     "shell.execute_reply": "2021-09-03T22:39:42.952699Z"
    }
   },
   "outputs": [
    {
     "data": {
      "image/png": "[encoded data removed]",
      "text/plain": [
       "<Figure size 216x216 with 1 Axes>"
      ]
     },
     "metadata": {
      "needs_background": "light"
     },
     "output_type": "display_data"
    },
    {
     "name": "stdout",
     "output_type": "stream",
     "text": [
      "Today, sun rises at 06:06 and sets at 18:37.\n",
      "Currently, the weather is Clear (clear sky).\n",
      "The temperature is 28.43°C and it feels like 33.75°C.\n",
      "The UV index is 0.31, humidity is 83%.\n",
      "The pressure is 1008 hPa, percentage of cloud cover is 2%\n",
      "The wind comes from SE direction with a speed 1.47 m/s.\n"
     ]
    }
   ],
   "source": [
    "current = data['current']\r\n",
    "\r\n",
    "fig, ax = plt.subplots(figsize=(3, 3))\r\n",
    "icon = requests.get(f\"http://openweathermap.org/img/wn/{current['weather'][0]['icon']}@2x.png\")\r\n",
    "im = Image.open(BytesIO(icon.content))\r\n",
    "plt.imshow(im)\r\n",
    "ax.set_axis_off()\r\n",
    "plt.show()\r\n",
    "\r\n",
    "print(f\"Today, sun rises at {ts2dt(current['sunrise'], '%H:%M')[0]} \\\r\n",
    "and sets at {ts2dt(current['sunset'], '%H:%M')[0]}.\\n\\\r\n",
    "Currently, the weather is {current['weather'][0]['main']} ({current['weather'][0]['description']}).\\n\\\r\n",
    "The temperature is {current['temp']}°C and it feels like {current['feels_like']}°C.\\n\\\r\n",
    "The UV index is {current['uvi']}, humidity is {current['humidity']}%.\\n\\\r\n",
    "The pressure is {current['pressure']} hPa, percentage of cloud cover is {current['clouds']}%\\n\\\r\n",
    "The wind comes from {degrees_to_cardinal(current['wind_deg'])} direction with a speed {current['wind_speed']} m/s.\")"
   ]
  },
  {
   "cell_type": "code",
   "execution_count": 8,
   "metadata": {
    "execution": {
     "iopub.execute_input": "2021-09-03T22:39:42.955984Z",
     "iopub.status.busy": "2021-09-03T22:39:42.954977Z",
     "iopub.status.idle": "2021-09-03T22:39:42.962238Z",
     "shell.execute_reply": "2021-09-03T22:39:42.962897Z"
    }
   },
   "outputs": [],
   "source": [
    "df_hourly = pd.DataFrame(data['hourly'])\r\n",
    "df_daily = pd.DataFrame(data['daily'])"
   ]
  },
  {
   "cell_type": "code",
   "execution_count": 9,
   "metadata": {
    "execution": {
     "iopub.execute_input": "2021-09-03T22:39:42.966066Z",
     "iopub.status.busy": "2021-09-03T22:39:42.965082Z",
     "iopub.status.idle": "2021-09-03T22:39:43.220468Z",
     "shell.execute_reply": "2021-09-03T22:39:43.220889Z"
    }
   },
   "outputs": [
    {
     "data": {
      "image/png": "[encoded data removed]",
      "text/plain": [
       "<Figure size 864x432 with 1 Axes>"
      ]
     },
     "metadata": {
      "needs_background": "light"
     },
     "output_type": "display_data"
    }
   ],
   "source": [
    "fig, ax = plt.subplots(figsize=(12, 6))\r\n",
    "plt.plot(df_hourly.temp, '.-', label='Temperature')\r\n",
    "plt.plot(df_hourly.feels_like, '.-', label='Feels Like')\r\n",
    "ax.set(title='Temperature in future 48 hours', xlabel='Time', ylabel='Temperature')\r\n",
    "ax.set_xticks(list(range(0, len(df_hourly), 2)))\r\n",
    "ax.set_xticklabels([ts2dt(ts, '%m-%d %H:%M')[0] for i, ts in enumerate(df_hourly.dt) if i%2==0], \r\n",
    "                   rotation=45, ha=\"right\")\r\n",
    "ax.locator_params(nbins=15, axis='y')\r\n",
    "plt.legend()\r\n",
    "plt.show()"
   ]
  },
  {
   "cell_type": "code",
   "execution_count": 10,
   "metadata": {
    "execution": {
     "iopub.execute_input": "2021-09-03T22:39:43.234122Z",
     "iopub.status.busy": "2021-09-03T22:39:43.225332Z",
     "iopub.status.idle": "2021-09-03T22:39:43.245840Z",
     "shell.execute_reply": "2021-09-03T22:39:43.246226Z"
    }
   },
   "outputs": [
    {
     "data": {
      "text/html": [
       "<div>\n",
       "<style scoped>\n",
       "    .dataframe tbody tr th:only-of-type {\n",
       "        vertical-align: middle;\n",
       "    }\n",
       "\n",
       "    .dataframe tbody tr th {\n",
       "        vertical-align: top;\n",
       "    }\n",
       "\n",
       "    .dataframe thead th {\n",
       "        text-align: right;\n",
       "    }\n",
       "</style>\n",
       "<table border=\"1\" class=\"dataframe\">\n",
       "  <thead>\n",
       "    <tr style=\"text-align: right;\">\n",
       "      <th></th>\n",
       "      <th>dt</th>\n",
       "      <th>temp</th>\n",
       "      <th>feels_like</th>\n",
       "      <th>pressure</th>\n",
       "      <th>humidity</th>\n",
       "      <th>dew_point</th>\n",
       "      <th>uvi</th>\n",
       "      <th>clouds</th>\n",
       "      <th>visibility</th>\n",
       "      <th>wind_speed</th>\n",
       "      <th>wind_deg</th>\n",
       "      <th>wind_gust</th>\n",
       "      <th>weather</th>\n",
       "      <th>pop</th>\n",
       "      <th>rain</th>\n",
       "    </tr>\n",
       "  </thead>\n",
       "  <tbody>\n",
       "    <tr>\n",
       "      <th>0</th>\n",
       "      <td>1630706400</td>\n",
       "      <td>28.22</td>\n",
       "      <td>33.17</td>\n",
       "      <td>1008</td>\n",
       "      <td>83</td>\n",
       "      <td>25.06</td>\n",
       "      <td>0.00</td>\n",
       "      <td>2</td>\n",
       "      <td>10000</td>\n",
       "      <td>1.46</td>\n",
       "      <td>162</td>\n",
       "      <td>1.74</td>\n",
       "      <td>[{'id': 500, 'main': 'Rain', 'description': 'l...</td>\n",
       "      <td>0.70</td>\n",
       "      <td>{'1h': 0.45}</td>\n",
       "    </tr>\n",
       "    <tr>\n",
       "      <th>1</th>\n",
       "      <td>1630710000</td>\n",
       "      <td>28.43</td>\n",
       "      <td>33.75</td>\n",
       "      <td>1008</td>\n",
       "      <td>83</td>\n",
       "      <td>25.26</td>\n",
       "      <td>0.31</td>\n",
       "      <td>2</td>\n",
       "      <td>10000</td>\n",
       "      <td>1.47</td>\n",
       "      <td>145</td>\n",
       "      <td>1.79</td>\n",
       "      <td>[{'id': 800, 'main': 'Clear', 'description': '...</td>\n",
       "      <td>0.74</td>\n",
       "      <td>NaN</td>\n",
       "    </tr>\n",
       "    <tr>\n",
       "      <th>2</th>\n",
       "      <td>1630713600</td>\n",
       "      <td>28.36</td>\n",
       "      <td>33.20</td>\n",
       "      <td>1008</td>\n",
       "      <td>81</td>\n",
       "      <td>24.78</td>\n",
       "      <td>1.46</td>\n",
       "      <td>2</td>\n",
       "      <td>10000</td>\n",
       "      <td>1.17</td>\n",
       "      <td>137</td>\n",
       "      <td>1.47</td>\n",
       "      <td>[{'id': 500, 'main': 'Rain', 'description': 'l...</td>\n",
       "      <td>0.97</td>\n",
       "      <td>{'1h': 0.27}</td>\n",
       "    </tr>\n",
       "    <tr>\n",
       "      <th>3</th>\n",
       "      <td>1630717200</td>\n",
       "      <td>28.53</td>\n",
       "      <td>33.28</td>\n",
       "      <td>1008</td>\n",
       "      <td>79</td>\n",
       "      <td>24.53</td>\n",
       "      <td>3.81</td>\n",
       "      <td>4</td>\n",
       "      <td>10000</td>\n",
       "      <td>1.21</td>\n",
       "      <td>141</td>\n",
       "      <td>1.43</td>\n",
       "      <td>[{'id': 800, 'main': 'Clear', 'description': '...</td>\n",
       "      <td>0.84</td>\n",
       "      <td>NaN</td>\n",
       "    </tr>\n",
       "    <tr>\n",
       "      <th>4</th>\n",
       "      <td>1630720800</td>\n",
       "      <td>28.91</td>\n",
       "      <td>33.47</td>\n",
       "      <td>1009</td>\n",
       "      <td>75</td>\n",
       "      <td>24.03</td>\n",
       "      <td>6.89</td>\n",
       "      <td>10</td>\n",
       "      <td>10000</td>\n",
       "      <td>1.31</td>\n",
       "      <td>121</td>\n",
       "      <td>1.45</td>\n",
       "      <td>[{'id': 500, 'main': 'Rain', 'description': 'l...</td>\n",
       "      <td>0.73</td>\n",
       "      <td>{'1h': 0.13}</td>\n",
       "    </tr>\n",
       "  </tbody>\n",
       "</table>\n",
       "</div>"
      ],
      "text/plain": [
       "           dt   temp  feels_like  pressure  humidity  dew_point   uvi  clouds  \\\n",
       "0  1630706400  28.22       33.17      1008        83      25.06  0.00       2   \n",
       "1  1630710000  28.43       33.75      1008        83      25.26  0.31       2   \n",
       "2  1630713600  28.36       33.20      1008        81      24.78  1.46       2   \n",
       "3  1630717200  28.53       33.28      1008        79      24.53  3.81       4   \n",
       "4  1630720800  28.91       33.47      1009        75      24.03  6.89      10   \n",
       "\n",
       "   visibility  wind_speed  wind_deg  wind_gust  \\\n",
       "0       10000        1.46       162       1.74   \n",
       "1       10000        1.47       145       1.79   \n",
       "2       10000        1.17       137       1.47   \n",
       "3       10000        1.21       141       1.43   \n",
       "4       10000        1.31       121       1.45   \n",
       "\n",
       "                                             weather   pop          rain  \n",
       "0  [{'id': 500, 'main': 'Rain', 'description': 'l...  0.70  {'1h': 0.45}  \n",
       "1  [{'id': 800, 'main': 'Clear', 'description': '...  0.74           NaN  \n",
       "2  [{'id': 500, 'main': 'Rain', 'description': 'l...  0.97  {'1h': 0.27}  \n",
       "3  [{'id': 800, 'main': 'Clear', 'description': '...  0.84           NaN  \n",
       "4  [{'id': 500, 'main': 'Rain', 'description': 'l...  0.73  {'1h': 0.13}  "
      ]
     },
     "execution_count": 10,
     "metadata": {},
     "output_type": "execute_result"
    }
   ],
   "source": [
    "df_hourly.head()"
   ]
  },
  {
   "cell_type": "code",
   "execution_count": null,
   "metadata": {},
   "outputs": [],
   "source": []
  }
 ],
 "metadata": {
  "interpreter": {
   "hash": "c1b4cfe941b6d2466ad1fb5979e97da9cda8801728c8091b097ab734208fc00c"
  },
  "kernelspec": {
   "display_name": "Python 3.8.3 64-bit ('base': conda)",
   "name": "python3"
  },
  "language_info": {
   "codemirror_mode": {
    "name": "ipython",
    "version": 3
   },
   "file_extension": ".py",
   "mimetype": "text/x-python",
   "name": "python",
   "nbconvert_exporter": "python",
   "pygments_lexer": "ipython3",
   "version": "3.8.11"
  }
 },
 "nbformat": 4,
 "nbformat_minor": 2
}
