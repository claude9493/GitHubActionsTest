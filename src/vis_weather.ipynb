{
 "cells": [
  {
   "cell_type": "code",
   "execution_count": 1,
   "metadata": {
    "execution": {
     "iopub.execute_input": "2021-09-23T14:10:56.629701Z",
     "iopub.status.busy": "2021-09-23T14:10:56.629073Z",
     "iopub.status.idle": "2021-09-23T14:10:57.763162Z",
     "shell.execute_reply": "2021-09-23T14:10:57.762573Z"
    }
   },
   "outputs": [],
   "source": [
    "import json, yaml, requests\r\n",
    "from datetime import datetime\r\n",
    "from dateutil import tz\r\n",
    "import pandas as pd\r\n",
    "from PIL import Image\r\n",
    "from io import BytesIO\r\n",
    "import matplotlib.pyplot as plt\r\n",
    "import seaborn\r\n",
    "\r\n",
    "CONFIG_PATH = \"../config/config.yaml\""
   ]
  },
  {
   "cell_type": "code",
   "execution_count": 2,
   "metadata": {
    "execution": {
     "iopub.execute_input": "2021-09-23T14:10:57.768140Z",
     "iopub.status.busy": "2021-09-23T14:10:57.767666Z",
     "iopub.status.idle": "2021-09-23T14:10:57.772958Z",
     "shell.execute_reply": "2021-09-23T14:10:57.772308Z"
    }
   },
   "outputs": [],
   "source": [
    "with open('../newest_ts', 'r') as f:\r\n",
    "    newest_ts = f.read()\r\n",
    "\r\n",
    "data_path = f\"../data/data_{newest_ts}.json\"\r\n",
    "with open(data_path, 'r') as f:\r\n",
    "    data = json.load(f)\r\n",
    "\r\n",
    "with open(CONFIG_PATH, \"r\") as stream:\r\n",
    "    config = yaml.safe_load(stream)\r\n",
    "\r\n",
    "TIME_ZONE = config['time_zone']\r\n",
    "DATETIME_FORMAT = config['dt_format']"
   ]
  },
  {
   "cell_type": "code",
   "execution_count": 3,
   "metadata": {
    "execution": {
     "iopub.execute_input": "2021-09-23T14:10:57.777057Z",
     "iopub.status.busy": "2021-09-23T14:10:57.776570Z",
     "iopub.status.idle": "2021-09-23T14:10:57.815138Z",
     "shell.execute_reply": "2021-09-23T14:10:57.815561Z"
    }
   },
   "outputs": [
    {
     "name": "stdout",
     "output_type": "stream",
     "text": [
      "Recent query happens at 2021-09-23 22:10:53 (CST).\n"
     ]
    }
   ],
   "source": [
    "def ts2dt(ts, format=DATETIME_FORMAT):\r\n",
    "    dt = (datetime.utcfromtimestamp(int(ts))\r\n",
    "                    .replace(tzinfo=tz.tzutc())\r\n",
    "                    # .astimezone(tz.tzlocal())\r\n",
    "                    .astimezone(tz.gettz(TIME_ZONE)))\r\n",
    "    return dt.strftime(format), dt\r\n",
    "\r\n",
    "_, newest_dt = ts2dt(newest_ts)\r\n",
    "print(f\"Recent query happens at {newest_dt.strftime(DATETIME_FORMAT)} ({newest_dt.tzname()}).\")"
   ]
  },
  {
   "cell_type": "code",
   "execution_count": 4,
   "metadata": {
    "execution": {
     "iopub.execute_input": "2021-09-23T14:10:57.820436Z",
     "iopub.status.busy": "2021-09-23T14:10:57.819431Z",
     "iopub.status.idle": "2021-09-23T14:10:57.820958Z",
     "shell.execute_reply": "2021-09-23T14:10:57.821319Z"
    }
   },
   "outputs": [],
   "source": [
    "def degrees_to_cardinal(d):\r\n",
    "  dirs = ['N', 'NNE', 'NE', 'ENE', 'E', 'ESE', 'SE', 'SSE', 'S', 'SSW', 'SW', 'WSW', 'W', 'WNW', 'NW', 'NNW']\r\n",
    "  ix = int(round(d / (360. / len(dirs))))\r\n",
    "  return dirs[ix % len(dirs)]"
   ]
  },
  {
   "cell_type": "code",
   "execution_count": 5,
   "metadata": {
    "execution": {
     "iopub.execute_input": "2021-09-23T14:10:57.824294Z",
     "iopub.status.busy": "2021-09-23T14:10:57.823844Z",
     "iopub.status.idle": "2021-09-23T14:10:57.826038Z",
     "shell.execute_reply": "2021-09-23T14:10:57.825630Z"
    }
   },
   "outputs": [],
   "source": [
    "# data.keys()"
   ]
  },
  {
   "cell_type": "code",
   "execution_count": 6,
   "metadata": {
    "execution": {
     "iopub.execute_input": "2021-09-23T14:10:57.829726Z",
     "iopub.status.busy": "2021-09-23T14:10:57.828573Z",
     "iopub.status.idle": "2021-09-23T14:10:57.830247Z",
     "shell.execute_reply": "2021-09-23T14:10:57.830649Z"
    }
   },
   "outputs": [],
   "source": [
    "# data['current']"
   ]
  },
  {
   "cell_type": "code",
   "execution_count": 7,
   "metadata": {
    "execution": {
     "iopub.execute_input": "2021-09-23T14:10:57.847859Z",
     "iopub.status.busy": "2021-09-23T14:10:57.835942Z",
     "iopub.status.idle": "2021-09-23T14:10:58.356018Z",
     "shell.execute_reply": "2021-09-23T14:10:58.356470Z"
    }
   },
   "outputs": [
    {
     "data": {
      "image/png": "[encoded data removed]",
      "text/plain": [
       "<Figure size 216x216 with 1 Axes>"
      ]
     },
     "metadata": {
      "needs_background": "light"
     },
     "output_type": "display_data"
    },
    {
     "name": "stdout",
     "output_type": "stream",
     "text": [
      "Today, sun rises at 06:11 and sets at 18:18.\n",
      "Currently, the weather is Rain (light rain).\n",
      "The temperature is 28.68°C and it feels like 34.68°C.\n",
      "The UV index is 0, humidity is 84%.\n",
      "The pressure is 1015 hPa, percentage of cloud cover is 98%\n",
      "The wind comes from E direction with a speed 6.73 m/s.\n"
     ]
    }
   ],
   "source": [
    "current = data['current']\r\n",
    "\r\n",
    "fig, ax = plt.subplots(figsize=(3, 3))\r\n",
    "icon = requests.get(f\"http://openweathermap.org/img/wn/{current['weather'][0]['icon']}@2x.png\")\r\n",
    "im = Image.open(BytesIO(icon.content))\r\n",
    "plt.imshow(im)\r\n",
    "ax.set_axis_off()\r\n",
    "plt.show()\r\n",
    "\r\n",
    "print(f\"Today, sun rises at {ts2dt(current['sunrise'], '%H:%M')[0]} \\\r\n",
    "and sets at {ts2dt(current['sunset'], '%H:%M')[0]}.\\n\\\r\n",
    "Currently, the weather is {current['weather'][0]['main']} ({current['weather'][0]['description']}).\\n\\\r\n",
    "The temperature is {current['temp']}°C and it feels like {current['feels_like']}°C.\\n\\\r\n",
    "The UV index is {current['uvi']}, humidity is {current['humidity']}%.\\n\\\r\n",
    "The pressure is {current['pressure']} hPa, percentage of cloud cover is {current['clouds']}%\\n\\\r\n",
    "The wind comes from {degrees_to_cardinal(current['wind_deg'])} direction with a speed {current['wind_speed']} m/s.\")"
   ]
  },
  {
   "cell_type": "code",
   "execution_count": 8,
   "metadata": {
    "execution": {
     "iopub.execute_input": "2021-09-23T14:10:58.358728Z",
     "iopub.status.busy": "2021-09-23T14:10:58.358220Z",
     "iopub.status.idle": "2021-09-23T14:10:58.363761Z",
     "shell.execute_reply": "2021-09-23T14:10:58.364204Z"
    }
   },
   "outputs": [],
   "source": [
    "df_hourly = pd.DataFrame(data['hourly'])\r\n",
    "df_daily = pd.DataFrame(data['daily'])"
   ]
  },
  {
   "cell_type": "code",
   "execution_count": 9,
   "metadata": {
    "execution": {
     "iopub.execute_input": "2021-09-23T14:10:58.366489Z",
     "iopub.status.busy": "2021-09-23T14:10:58.365897Z",
     "iopub.status.idle": "2021-09-23T14:10:58.612085Z",
     "shell.execute_reply": "2021-09-23T14:10:58.611634Z"
    }
   },
   "outputs": [
    {
     "data": {
      "image/png": "[encoded data removed]",
      "text/plain": [
       "<Figure size 864x432 with 1 Axes>"
      ]
     },
     "metadata": {
      "needs_background": "light"
     },
     "output_type": "display_data"
    }
   ],
   "source": [
    "fig, ax = plt.subplots(figsize=(12, 6))\r\n",
    "plt.plot(df_hourly.temp, '.-', label='Temperature')\r\n",
    "plt.plot(df_hourly.feels_like, '.-', label='Feels Like')\r\n",
    "ax.set(title='Temperature in future 48 hours', xlabel='Time', ylabel='Temperature')\r\n",
    "ax.set_xticks(list(range(0, len(df_hourly), 2)))\r\n",
    "ax.set_xticklabels([ts2dt(ts, '%m-%d %H:%M')[0] for i, ts in enumerate(df_hourly.dt) if i%2==0], \r\n",
    "                   rotation=45, ha=\"right\")\r\n",
    "ax.locator_params(nbins=15, axis='y')\r\n",
    "plt.legend()\r\n",
    "plt.show()"
   ]
  },
  {
   "cell_type": "code",
   "execution_count": 10,
   "metadata": {
    "execution": {
     "iopub.execute_input": "2021-09-23T14:10:58.622529Z",
     "iopub.status.busy": "2021-09-23T14:10:58.615555Z",
     "iopub.status.idle": "2021-09-23T14:10:58.632973Z",
     "shell.execute_reply": "2021-09-23T14:10:58.632597Z"
    }
   },
   "outputs": [
    {
     "data": {
      "text/html": [
       "<div>\n",
       "<style scoped>\n",
       "    .dataframe tbody tr th:only-of-type {\n",
       "        vertical-align: middle;\n",
       "    }\n",
       "\n",
       "    .dataframe tbody tr th {\n",
       "        vertical-align: top;\n",
       "    }\n",
       "\n",
       "    .dataframe thead th {\n",
       "        text-align: right;\n",
       "    }\n",
       "</style>\n",
       "<table border=\"1\" class=\"dataframe\">\n",
       "  <thead>\n",
       "    <tr style=\"text-align: right;\">\n",
       "      <th></th>\n",
       "      <th>dt</th>\n",
       "      <th>temp</th>\n",
       "      <th>feels_like</th>\n",
       "      <th>pressure</th>\n",
       "      <th>humidity</th>\n",
       "      <th>dew_point</th>\n",
       "      <th>uvi</th>\n",
       "      <th>clouds</th>\n",
       "      <th>visibility</th>\n",
       "      <th>wind_speed</th>\n",
       "      <th>wind_deg</th>\n",
       "      <th>wind_gust</th>\n",
       "      <th>weather</th>\n",
       "      <th>pop</th>\n",
       "      <th>rain</th>\n",
       "    </tr>\n",
       "  </thead>\n",
       "  <tbody>\n",
       "    <tr>\n",
       "      <th>0</th>\n",
       "      <td>1632405600</td>\n",
       "      <td>28.68</td>\n",
       "      <td>34.68</td>\n",
       "      <td>1015</td>\n",
       "      <td>84</td>\n",
       "      <td>25.71</td>\n",
       "      <td>0.0</td>\n",
       "      <td>98</td>\n",
       "      <td>10000</td>\n",
       "      <td>6.73</td>\n",
       "      <td>97</td>\n",
       "      <td>9.00</td>\n",
       "      <td>[{'id': 500, 'main': 'Rain', 'description': 'l...</td>\n",
       "      <td>0.65</td>\n",
       "      <td>{'1h': 0.35}</td>\n",
       "    </tr>\n",
       "    <tr>\n",
       "      <th>1</th>\n",
       "      <td>1632409200</td>\n",
       "      <td>28.52</td>\n",
       "      <td>34.01</td>\n",
       "      <td>1015</td>\n",
       "      <td>83</td>\n",
       "      <td>25.35</td>\n",
       "      <td>0.0</td>\n",
       "      <td>96</td>\n",
       "      <td>10000</td>\n",
       "      <td>6.97</td>\n",
       "      <td>95</td>\n",
       "      <td>9.19</td>\n",
       "      <td>[{'id': 804, 'main': 'Clouds', 'description': ...</td>\n",
       "      <td>0.69</td>\n",
       "      <td>NaN</td>\n",
       "    </tr>\n",
       "    <tr>\n",
       "      <th>2</th>\n",
       "      <td>1632412800</td>\n",
       "      <td>28.33</td>\n",
       "      <td>33.47</td>\n",
       "      <td>1015</td>\n",
       "      <td>83</td>\n",
       "      <td>25.16</td>\n",
       "      <td>0.0</td>\n",
       "      <td>90</td>\n",
       "      <td>10000</td>\n",
       "      <td>6.65</td>\n",
       "      <td>94</td>\n",
       "      <td>8.96</td>\n",
       "      <td>[{'id': 804, 'main': 'Clouds', 'description': ...</td>\n",
       "      <td>0.58</td>\n",
       "      <td>NaN</td>\n",
       "    </tr>\n",
       "    <tr>\n",
       "      <th>3</th>\n",
       "      <td>1632416400</td>\n",
       "      <td>28.15</td>\n",
       "      <td>32.81</td>\n",
       "      <td>1014</td>\n",
       "      <td>82</td>\n",
       "      <td>24.78</td>\n",
       "      <td>0.0</td>\n",
       "      <td>84</td>\n",
       "      <td>10000</td>\n",
       "      <td>6.58</td>\n",
       "      <td>95</td>\n",
       "      <td>8.81</td>\n",
       "      <td>[{'id': 500, 'main': 'Rain', 'description': 'l...</td>\n",
       "      <td>0.54</td>\n",
       "      <td>{'1h': 0.27}</td>\n",
       "    </tr>\n",
       "    <tr>\n",
       "      <th>4</th>\n",
       "      <td>1632420000</td>\n",
       "      <td>27.94</td>\n",
       "      <td>32.25</td>\n",
       "      <td>1014</td>\n",
       "      <td>82</td>\n",
       "      <td>24.58</td>\n",
       "      <td>0.0</td>\n",
       "      <td>76</td>\n",
       "      <td>10000</td>\n",
       "      <td>6.24</td>\n",
       "      <td>92</td>\n",
       "      <td>8.38</td>\n",
       "      <td>[{'id': 500, 'main': 'Rain', 'description': 'l...</td>\n",
       "      <td>0.58</td>\n",
       "      <td>{'1h': 0.33}</td>\n",
       "    </tr>\n",
       "  </tbody>\n",
       "</table>\n",
       "</div>"
      ],
      "text/plain": [
       "           dt   temp  feels_like  pressure  humidity  dew_point  uvi  clouds  \\\n",
       "0  1632405600  28.68       34.68      1015        84      25.71  0.0      98   \n",
       "1  1632409200  28.52       34.01      1015        83      25.35  0.0      96   \n",
       "2  1632412800  28.33       33.47      1015        83      25.16  0.0      90   \n",
       "3  1632416400  28.15       32.81      1014        82      24.78  0.0      84   \n",
       "4  1632420000  27.94       32.25      1014        82      24.58  0.0      76   \n",
       "\n",
       "   visibility  wind_speed  wind_deg  wind_gust  \\\n",
       "0       10000        6.73        97       9.00   \n",
       "1       10000        6.97        95       9.19   \n",
       "2       10000        6.65        94       8.96   \n",
       "3       10000        6.58        95       8.81   \n",
       "4       10000        6.24        92       8.38   \n",
       "\n",
       "                                             weather   pop          rain  \n",
       "0  [{'id': 500, 'main': 'Rain', 'description': 'l...  0.65  {'1h': 0.35}  \n",
       "1  [{'id': 804, 'main': 'Clouds', 'description': ...  0.69           NaN  \n",
       "2  [{'id': 804, 'main': 'Clouds', 'description': ...  0.58           NaN  \n",
       "3  [{'id': 500, 'main': 'Rain', 'description': 'l...  0.54  {'1h': 0.27}  \n",
       "4  [{'id': 500, 'main': 'Rain', 'description': 'l...  0.58  {'1h': 0.33}  "
      ]
     },
     "execution_count": 10,
     "metadata": {},
     "output_type": "execute_result"
    }
   ],
   "source": [
    "df_hourly.head()"
   ]
  },
  {
   "cell_type": "code",
   "execution_count": null,
   "metadata": {},
   "outputs": [],
   "source": []
  }
 ],
 "metadata": {
  "interpreter": {
   "hash": "c1b4cfe941b6d2466ad1fb5979e97da9cda8801728c8091b097ab734208fc00c"
  },
  "kernelspec": {
   "display_name": "Python 3.8.3 64-bit ('base': conda)",
   "name": "python3"
  },
  "language_info": {
   "codemirror_mode": {
    "name": "ipython",
    "version": 3
   },
   "file_extension": ".py",
   "mimetype": "text/x-python",
   "name": "python",
   "nbconvert_exporter": "python",
   "pygments_lexer": "ipython3",
   "version": "3.8.12"
  }
 },
 "nbformat": 4,
 "nbformat_minor": 2
}
