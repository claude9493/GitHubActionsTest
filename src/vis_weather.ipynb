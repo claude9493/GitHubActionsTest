{
 "cells": [
  {
   "cell_type": "code",
   "execution_count": 1,
   "metadata": {
    "execution": {
     "iopub.execute_input": "2021-09-25T06:13:15.212128Z",
     "iopub.status.busy": "2021-09-25T06:13:15.211508Z",
     "iopub.status.idle": "2021-09-25T06:13:16.873835Z",
     "shell.execute_reply": "2021-09-25T06:13:16.872752Z"
    }
   },
   "outputs": [],
   "source": [
    "import json, yaml, requests\r\n",
    "from datetime import datetime\r\n",
    "from dateutil import tz\r\n",
    "import pandas as pd\r\n",
    "from PIL import Image\r\n",
    "from io import BytesIO\r\n",
    "import matplotlib.pyplot as plt\r\n",
    "import seaborn\r\n",
    "\r\n",
    "CONFIG_PATH = \"../config/config.yaml\""
   ]
  },
  {
   "cell_type": "code",
   "execution_count": 2,
   "metadata": {
    "execution": {
     "iopub.execute_input": "2021-09-25T06:13:16.880604Z",
     "iopub.status.busy": "2021-09-25T06:13:16.879555Z",
     "iopub.status.idle": "2021-09-25T06:13:16.885412Z",
     "shell.execute_reply": "2021-09-25T06:13:16.884914Z"
    }
   },
   "outputs": [],
   "source": [
    "with open('../newest_ts', 'r') as f:\r\n",
    "    newest_ts = f.read()\r\n",
    "\r\n",
    "data_path = f\"../data/data_{newest_ts}.json\"\r\n",
    "with open(data_path, 'r') as f:\r\n",
    "    data = json.load(f)\r\n",
    "\r\n",
    "with open(CONFIG_PATH, \"r\") as stream:\r\n",
    "    config = yaml.safe_load(stream)\r\n",
    "\r\n",
    "TIME_ZONE = config['time_zone']\r\n",
    "DATETIME_FORMAT = config['dt_format']"
   ]
  },
  {
   "cell_type": "code",
   "execution_count": 3,
   "metadata": {
    "execution": {
     "iopub.execute_input": "2021-09-25T06:13:16.890275Z",
     "iopub.status.busy": "2021-09-25T06:13:16.889738Z",
     "iopub.status.idle": "2021-09-25T06:13:16.916895Z",
     "shell.execute_reply": "2021-09-25T06:13:16.917386Z"
    }
   },
   "outputs": [
    {
     "name": "stdout",
     "output_type": "stream",
     "text": [
      "Recent query happens at 2021-09-25 14:13:11 (CST).\n"
     ]
    }
   ],
   "source": [
    "def ts2dt(ts, format=DATETIME_FORMAT):\r\n",
    "    dt = (datetime.utcfromtimestamp(int(ts))\r\n",
    "                    .replace(tzinfo=tz.tzutc())\r\n",
    "                    # .astimezone(tz.tzlocal())\r\n",
    "                    .astimezone(tz.gettz(TIME_ZONE)))\r\n",
    "    return dt.strftime(format), dt\r\n",
    "\r\n",
    "_, newest_dt = ts2dt(newest_ts)\r\n",
    "print(f\"Recent query happens at {newest_dt.strftime(DATETIME_FORMAT)} ({newest_dt.tzname()}).\")"
   ]
  },
  {
   "cell_type": "code",
   "execution_count": 4,
   "metadata": {
    "execution": {
     "iopub.execute_input": "2021-09-25T06:13:16.922411Z",
     "iopub.status.busy": "2021-09-25T06:13:16.921857Z",
     "iopub.status.idle": "2021-09-25T06:13:16.925159Z",
     "shell.execute_reply": "2021-09-25T06:13:16.925605Z"
    }
   },
   "outputs": [],
   "source": [
    "def degrees_to_cardinal(d):\r\n",
    "  dirs = ['N', 'NNE', 'NE', 'ENE', 'E', 'ESE', 'SE', 'SSE', 'S', 'SSW', 'SW', 'WSW', 'W', 'WNW', 'NW', 'NNW']\r\n",
    "  ix = int(round(d / (360. / len(dirs))))\r\n",
    "  return dirs[ix % len(dirs)]"
   ]
  },
  {
   "cell_type": "code",
   "execution_count": 5,
   "metadata": {
    "execution": {
     "iopub.execute_input": "2021-09-25T06:13:16.930598Z",
     "iopub.status.busy": "2021-09-25T06:13:16.929208Z",
     "iopub.status.idle": "2021-09-25T06:13:16.931202Z",
     "shell.execute_reply": "2021-09-25T06:13:16.931628Z"
    }
   },
   "outputs": [],
   "source": [
    "# data.keys()"
   ]
  },
  {
   "cell_type": "code",
   "execution_count": 6,
   "metadata": {
    "execution": {
     "iopub.execute_input": "2021-09-25T06:13:16.936143Z",
     "iopub.status.busy": "2021-09-25T06:13:16.934811Z",
     "iopub.status.idle": "2021-09-25T06:13:16.936744Z",
     "shell.execute_reply": "2021-09-25T06:13:16.937388Z"
    }
   },
   "outputs": [],
   "source": [
    "# data['current']"
   ]
  },
  {
   "cell_type": "code",
   "execution_count": 7,
   "metadata": {
    "execution": {
     "iopub.execute_input": "2021-09-25T06:13:16.956984Z",
     "iopub.status.busy": "2021-09-25T06:13:16.956402Z",
     "iopub.status.idle": "2021-09-25T06:13:17.550670Z",
     "shell.execute_reply": "2021-09-25T06:13:17.551456Z"
    }
   },
   "outputs": [
    {
     "data": {
      "image/png": "[encoded data removed]",
      "text/plain": [
       "<Figure size 216x216 with 1 Axes>"
      ]
     },
     "metadata": {
      "needs_background": "light"
     },
     "output_type": "display_data"
    },
    {
     "name": "stdout",
     "output_type": "stream",
     "text": [
      "Today, sun rises at 06:12 and sets at 18:16.\n",
      "Currently, the weather is Clouds (scattered clouds).\n",
      "The temperature is 31.46°C and it feels like 38.46°C.\n",
      "The UV index is 7.81, humidity is 76%.\n",
      "The pressure is 1011 hPa, percentage of cloud cover is 28%\n",
      "The wind comes from WNW direction with a speed 0.45 m/s.\n"
     ]
    }
   ],
   "source": [
    "current = data['current']\r\n",
    "\r\n",
    "fig, ax = plt.subplots(figsize=(3, 3))\r\n",
    "icon = requests.get(f\"http://openweathermap.org/img/wn/{current['weather'][0]['icon']}@2x.png\")\r\n",
    "im = Image.open(BytesIO(icon.content))\r\n",
    "plt.imshow(im)\r\n",
    "ax.set_axis_off()\r\n",
    "plt.show()\r\n",
    "\r\n",
    "print(f\"Today, sun rises at {ts2dt(current['sunrise'], '%H:%M')[0]} \\\r\n",
    "and sets at {ts2dt(current['sunset'], '%H:%M')[0]}.\\n\\\r\n",
    "Currently, the weather is {current['weather'][0]['main']} ({current['weather'][0]['description']}).\\n\\\r\n",
    "The temperature is {current['temp']}°C and it feels like {current['feels_like']}°C.\\n\\\r\n",
    "The UV index is {current['uvi']}, humidity is {current['humidity']}%.\\n\\\r\n",
    "The pressure is {current['pressure']} hPa, percentage of cloud cover is {current['clouds']}%\\n\\\r\n",
    "The wind comes from {degrees_to_cardinal(current['wind_deg'])} direction with a speed {current['wind_speed']} m/s.\")"
   ]
  },
  {
   "cell_type": "code",
   "execution_count": 8,
   "metadata": {
    "execution": {
     "iopub.execute_input": "2021-09-25T06:13:17.555250Z",
     "iopub.status.busy": "2021-09-25T06:13:17.554166Z",
     "iopub.status.idle": "2021-09-25T06:13:17.561972Z",
     "shell.execute_reply": "2021-09-25T06:13:17.562729Z"
    }
   },
   "outputs": [],
   "source": [
    "df_hourly = pd.DataFrame(data['hourly'])\r\n",
    "df_daily = pd.DataFrame(data['daily'])"
   ]
  },
  {
   "cell_type": "code",
   "execution_count": 9,
   "metadata": {
    "execution": {
     "iopub.execute_input": "2021-09-25T06:13:17.566362Z",
     "iopub.status.busy": "2021-09-25T06:13:17.565127Z",
     "iopub.status.idle": "2021-09-25T06:13:17.858533Z",
     "shell.execute_reply": "2021-09-25T06:13:17.859211Z"
    }
   },
   "outputs": [
    {
     "data": {
      "image/png": "[encoded data removed]",
      "text/plain": [
       "<Figure size 864x432 with 1 Axes>"
      ]
     },
     "metadata": {
      "needs_background": "light"
     },
     "output_type": "display_data"
    }
   ],
   "source": [
    "fig, ax = plt.subplots(figsize=(12, 6))\r\n",
    "plt.plot(df_hourly.temp, '.-', label='Temperature')\r\n",
    "plt.plot(df_hourly.feels_like, '.-', label='Feels Like')\r\n",
    "ax.set(title='Temperature in future 48 hours', xlabel='Time', ylabel='Temperature')\r\n",
    "ax.set_xticks(list(range(0, len(df_hourly), 2)))\r\n",
    "ax.set_xticklabels([ts2dt(ts, '%m-%d %H:%M')[0] for i, ts in enumerate(df_hourly.dt) if i%2==0], \r\n",
    "                   rotation=45, ha=\"right\")\r\n",
    "ax.locator_params(nbins=15, axis='y')\r\n",
    "plt.legend()\r\n",
    "plt.show()"
   ]
  },
  {
   "cell_type": "code",
   "execution_count": 10,
   "metadata": {
    "execution": {
     "iopub.execute_input": "2021-09-25T06:13:17.871576Z",
     "iopub.status.busy": "2021-09-25T06:13:17.863681Z",
     "iopub.status.idle": "2021-09-25T06:13:17.881676Z",
     "shell.execute_reply": "2021-09-25T06:13:17.882122Z"
    }
   },
   "outputs": [
    {
     "data": {
      "text/html": [
       "<div>\n",
       "<style scoped>\n",
       "    .dataframe tbody tr th:only-of-type {\n",
       "        vertical-align: middle;\n",
       "    }\n",
       "\n",
       "    .dataframe tbody tr th {\n",
       "        vertical-align: top;\n",
       "    }\n",
       "\n",
       "    .dataframe thead th {\n",
       "        text-align: right;\n",
       "    }\n",
       "</style>\n",
       "<table border=\"1\" class=\"dataframe\">\n",
       "  <thead>\n",
       "    <tr style=\"text-align: right;\">\n",
       "      <th></th>\n",
       "      <th>dt</th>\n",
       "      <th>temp</th>\n",
       "      <th>feels_like</th>\n",
       "      <th>pressure</th>\n",
       "      <th>humidity</th>\n",
       "      <th>dew_point</th>\n",
       "      <th>uvi</th>\n",
       "      <th>clouds</th>\n",
       "      <th>visibility</th>\n",
       "      <th>wind_speed</th>\n",
       "      <th>wind_deg</th>\n",
       "      <th>wind_gust</th>\n",
       "      <th>weather</th>\n",
       "      <th>pop</th>\n",
       "    </tr>\n",
       "  </thead>\n",
       "  <tbody>\n",
       "    <tr>\n",
       "      <th>0</th>\n",
       "      <td>1632549600</td>\n",
       "      <td>31.46</td>\n",
       "      <td>38.46</td>\n",
       "      <td>1011</td>\n",
       "      <td>76</td>\n",
       "      <td>26.71</td>\n",
       "      <td>7.81</td>\n",
       "      <td>28</td>\n",
       "      <td>10000</td>\n",
       "      <td>6.41</td>\n",
       "      <td>85</td>\n",
       "      <td>7.31</td>\n",
       "      <td>[{'id': 802, 'main': 'Clouds', 'description': ...</td>\n",
       "      <td>0.21</td>\n",
       "    </tr>\n",
       "    <tr>\n",
       "      <th>1</th>\n",
       "      <td>1632553200</td>\n",
       "      <td>31.05</td>\n",
       "      <td>38.05</td>\n",
       "      <td>1011</td>\n",
       "      <td>74</td>\n",
       "      <td>25.87</td>\n",
       "      <td>5.19</td>\n",
       "      <td>22</td>\n",
       "      <td>10000</td>\n",
       "      <td>6.26</td>\n",
       "      <td>88</td>\n",
       "      <td>7.52</td>\n",
       "      <td>[{'id': 801, 'main': 'Clouds', 'description': ...</td>\n",
       "      <td>0.02</td>\n",
       "    </tr>\n",
       "    <tr>\n",
       "      <th>2</th>\n",
       "      <td>1632556800</td>\n",
       "      <td>30.52</td>\n",
       "      <td>36.89</td>\n",
       "      <td>1011</td>\n",
       "      <td>72</td>\n",
       "      <td>24.90</td>\n",
       "      <td>2.57</td>\n",
       "      <td>17</td>\n",
       "      <td>10000</td>\n",
       "      <td>5.98</td>\n",
       "      <td>93</td>\n",
       "      <td>7.36</td>\n",
       "      <td>[{'id': 801, 'main': 'Clouds', 'description': ...</td>\n",
       "      <td>0.00</td>\n",
       "    </tr>\n",
       "    <tr>\n",
       "      <th>3</th>\n",
       "      <td>1632560400</td>\n",
       "      <td>29.82</td>\n",
       "      <td>35.32</td>\n",
       "      <td>1011</td>\n",
       "      <td>73</td>\n",
       "      <td>24.46</td>\n",
       "      <td>0.82</td>\n",
       "      <td>11</td>\n",
       "      <td>10000</td>\n",
       "      <td>6.21</td>\n",
       "      <td>94</td>\n",
       "      <td>7.84</td>\n",
       "      <td>[{'id': 801, 'main': 'Clouds', 'description': ...</td>\n",
       "      <td>0.00</td>\n",
       "    </tr>\n",
       "    <tr>\n",
       "      <th>4</th>\n",
       "      <td>1632564000</td>\n",
       "      <td>28.80</td>\n",
       "      <td>33.21</td>\n",
       "      <td>1012</td>\n",
       "      <td>75</td>\n",
       "      <td>23.92</td>\n",
       "      <td>0.00</td>\n",
       "      <td>6</td>\n",
       "      <td>10000</td>\n",
       "      <td>6.12</td>\n",
       "      <td>93</td>\n",
       "      <td>7.91</td>\n",
       "      <td>[{'id': 800, 'main': 'Clear', 'description': '...</td>\n",
       "      <td>0.00</td>\n",
       "    </tr>\n",
       "  </tbody>\n",
       "</table>\n",
       "</div>"
      ],
      "text/plain": [
       "           dt   temp  feels_like  pressure  humidity  dew_point   uvi  clouds  \\\n",
       "0  1632549600  31.46       38.46      1011        76      26.71  7.81      28   \n",
       "1  1632553200  31.05       38.05      1011        74      25.87  5.19      22   \n",
       "2  1632556800  30.52       36.89      1011        72      24.90  2.57      17   \n",
       "3  1632560400  29.82       35.32      1011        73      24.46  0.82      11   \n",
       "4  1632564000  28.80       33.21      1012        75      23.92  0.00       6   \n",
       "\n",
       "   visibility  wind_speed  wind_deg  wind_gust  \\\n",
       "0       10000        6.41        85       7.31   \n",
       "1       10000        6.26        88       7.52   \n",
       "2       10000        5.98        93       7.36   \n",
       "3       10000        6.21        94       7.84   \n",
       "4       10000        6.12        93       7.91   \n",
       "\n",
       "                                             weather   pop  \n",
       "0  [{'id': 802, 'main': 'Clouds', 'description': ...  0.21  \n",
       "1  [{'id': 801, 'main': 'Clouds', 'description': ...  0.02  \n",
       "2  [{'id': 801, 'main': 'Clouds', 'description': ...  0.00  \n",
       "3  [{'id': 801, 'main': 'Clouds', 'description': ...  0.00  \n",
       "4  [{'id': 800, 'main': 'Clear', 'description': '...  0.00  "
      ]
     },
     "execution_count": 10,
     "metadata": {},
     "output_type": "execute_result"
    }
   ],
   "source": [
    "df_hourly.head()"
   ]
  },
  {
   "cell_type": "code",
   "execution_count": null,
   "metadata": {},
   "outputs": [],
   "source": []
  }
 ],
 "metadata": {
  "interpreter": {
   "hash": "c1b4cfe941b6d2466ad1fb5979e97da9cda8801728c8091b097ab734208fc00c"
  },
  "kernelspec": {
   "display_name": "Python 3.8.3 64-bit ('base': conda)",
   "name": "python3"
  },
  "language_info": {
   "codemirror_mode": {
    "name": "ipython",
    "version": 3
   },
   "file_extension": ".py",
   "mimetype": "text/x-python",
   "name": "python",
   "nbconvert_exporter": "python",
   "pygments_lexer": "ipython3",
   "version": "3.8.12"
  }
 },
 "nbformat": 4,
 "nbformat_minor": 2
}
