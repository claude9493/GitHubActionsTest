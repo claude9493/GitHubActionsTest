{
 "cells": [
  {
   "cell_type": "code",
   "execution_count": 1,
   "metadata": {
    "execution": {
     "iopub.execute_input": "2021-10-04T08:14:11.289060Z",
     "iopub.status.busy": "2021-10-04T08:14:11.288454Z",
     "iopub.status.idle": "2021-10-04T08:14:12.592679Z",
     "shell.execute_reply": "2021-10-04T08:14:12.592053Z"
    }
   },
   "outputs": [],
   "source": [
    "import json, yaml, requests\r\n",
    "from datetime import datetime\r\n",
    "from dateutil import tz\r\n",
    "import pandas as pd\r\n",
    "from PIL import Image\r\n",
    "from io import BytesIO\r\n",
    "import matplotlib.pyplot as plt\r\n",
    "import seaborn\r\n",
    "\r\n",
    "CONFIG_PATH = \"../config/config.yaml\""
   ]
  },
  {
   "cell_type": "code",
   "execution_count": 2,
   "metadata": {
    "execution": {
     "iopub.execute_input": "2021-10-04T08:14:12.600046Z",
     "iopub.status.busy": "2021-10-04T08:14:12.596894Z",
     "iopub.status.idle": "2021-10-04T08:14:12.602583Z",
     "shell.execute_reply": "2021-10-04T08:14:12.602185Z"
    }
   },
   "outputs": [],
   "source": [
    "with open('../newest_ts', 'r') as f:\r\n",
    "    newest_ts = f.read()\r\n",
    "\r\n",
    "data_path = f\"../data/data_{newest_ts}.json\"\r\n",
    "with open(data_path, 'r') as f:\r\n",
    "    data = json.load(f)\r\n",
    "\r\n",
    "with open(CONFIG_PATH, \"r\") as stream:\r\n",
    "    config = yaml.safe_load(stream)\r\n",
    "\r\n",
    "TIME_ZONE = config['time_zone']\r\n",
    "DATETIME_FORMAT = config['dt_format']"
   ]
  },
  {
   "cell_type": "code",
   "execution_count": 3,
   "metadata": {
    "execution": {
     "iopub.execute_input": "2021-10-04T08:14:12.606901Z",
     "iopub.status.busy": "2021-10-04T08:14:12.606442Z",
     "iopub.status.idle": "2021-10-04T08:14:12.619024Z",
     "shell.execute_reply": "2021-10-04T08:14:12.619427Z"
    }
   },
   "outputs": [
    {
     "name": "stdout",
     "output_type": "stream",
     "text": [
      "Recent query happens at 2021-10-04 16:14:08 (CST).\n"
     ]
    }
   ],
   "source": [
    "def ts2dt(ts, format=DATETIME_FORMAT):\r\n",
    "    dt = (datetime.utcfromtimestamp(int(ts))\r\n",
    "                    .replace(tzinfo=tz.tzutc())\r\n",
    "                    # .astimezone(tz.tzlocal())\r\n",
    "                    .astimezone(tz.gettz(TIME_ZONE)))\r\n",
    "    return dt.strftime(format), dt\r\n",
    "\r\n",
    "_, newest_dt = ts2dt(newest_ts)\r\n",
    "print(f\"Recent query happens at {newest_dt.strftime(DATETIME_FORMAT)} ({newest_dt.tzname()}).\")"
   ]
  },
  {
   "cell_type": "code",
   "execution_count": 4,
   "metadata": {
    "execution": {
     "iopub.execute_input": "2021-10-04T08:14:12.624705Z",
     "iopub.status.busy": "2021-10-04T08:14:12.623648Z",
     "iopub.status.idle": "2021-10-04T08:14:12.625229Z",
     "shell.execute_reply": "2021-10-04T08:14:12.625596Z"
    }
   },
   "outputs": [],
   "source": [
    "def degrees_to_cardinal(d):\r\n",
    "  dirs = ['N', 'NNE', 'NE', 'ENE', 'E', 'ESE', 'SE', 'SSE', 'S', 'SSW', 'SW', 'WSW', 'W', 'WNW', 'NW', 'NNW']\r\n",
    "  ix = int(round(d / (360. / len(dirs))))\r\n",
    "  return dirs[ix % len(dirs)]"
   ]
  },
  {
   "cell_type": "code",
   "execution_count": 5,
   "metadata": {
    "execution": {
     "iopub.execute_input": "2021-10-04T08:14:12.629519Z",
     "iopub.status.busy": "2021-10-04T08:14:12.628554Z",
     "iopub.status.idle": "2021-10-04T08:14:12.630591Z",
     "shell.execute_reply": "2021-10-04T08:14:12.630205Z"
    }
   },
   "outputs": [],
   "source": [
    "# data.keys()"
   ]
  },
  {
   "cell_type": "code",
   "execution_count": 6,
   "metadata": {
    "execution": {
     "iopub.execute_input": "2021-10-04T08:14:12.634233Z",
     "iopub.status.busy": "2021-10-04T08:14:12.633257Z",
     "iopub.status.idle": "2021-10-04T08:14:12.634872Z",
     "shell.execute_reply": "2021-10-04T08:14:12.635240Z"
    }
   },
   "outputs": [],
   "source": [
    "# data['current']"
   ]
  },
  {
   "cell_type": "code",
   "execution_count": 7,
   "metadata": {
    "execution": {
     "iopub.execute_input": "2021-10-04T08:14:12.652039Z",
     "iopub.status.busy": "2021-10-04T08:14:12.637042Z",
     "iopub.status.idle": "2021-10-04T08:14:13.035254Z",
     "shell.execute_reply": "2021-10-04T08:14:13.035968Z"
    }
   },
   "outputs": [
    {
     "data": {
      "image/png": "[encoded data removed]",
      "text/plain": [
       "<Figure size 216x216 with 1 Axes>"
      ]
     },
     "metadata": {
      "needs_background": "light"
     },
     "output_type": "display_data"
    },
    {
     "name": "stdout",
     "output_type": "stream",
     "text": [
      "Today, sun rises at 06:15 and sets at 18:08.\n",
      "Currently, the weather is Clear (clear sky).\n",
      "The temperature is 28.58°C and it feels like 35.58°C.\n",
      "The UV index is 2.33, humidity is 97%.\n",
      "The pressure is 1011 hPa, percentage of cloud cover is 2%\n",
      "The wind comes from E direction with a speed 5.96 m/s.\n"
     ]
    }
   ],
   "source": [
    "current = data['current']\r\n",
    "\r\n",
    "fig, ax = plt.subplots(figsize=(3, 3))\r\n",
    "icon = requests.get(f\"http://openweathermap.org/img/wn/{current['weather'][0]['icon']}@2x.png\")\r\n",
    "im = Image.open(BytesIO(icon.content))\r\n",
    "plt.imshow(im)\r\n",
    "ax.set_axis_off()\r\n",
    "plt.show()\r\n",
    "\r\n",
    "print(f\"Today, sun rises at {ts2dt(current['sunrise'], '%H:%M')[0]} \\\r\n",
    "and sets at {ts2dt(current['sunset'], '%H:%M')[0]}.\\n\\\r\n",
    "Currently, the weather is {current['weather'][0]['main']} ({current['weather'][0]['description']}).\\n\\\r\n",
    "The temperature is {current['temp']}°C and it feels like {current['feels_like']}°C.\\n\\\r\n",
    "The UV index is {current['uvi']}, humidity is {current['humidity']}%.\\n\\\r\n",
    "The pressure is {current['pressure']} hPa, percentage of cloud cover is {current['clouds']}%\\n\\\r\n",
    "The wind comes from {degrees_to_cardinal(current['wind_deg'])} direction with a speed {current['wind_speed']} m/s.\")"
   ]
  },
  {
   "cell_type": "code",
   "execution_count": 8,
   "metadata": {
    "execution": {
     "iopub.execute_input": "2021-10-04T08:14:13.039226Z",
     "iopub.status.busy": "2021-10-04T08:14:13.038279Z",
     "iopub.status.idle": "2021-10-04T08:14:13.045340Z",
     "shell.execute_reply": "2021-10-04T08:14:13.045995Z"
    }
   },
   "outputs": [],
   "source": [
    "df_hourly = pd.DataFrame(data['hourly'])\r\n",
    "df_daily = pd.DataFrame(data['daily'])"
   ]
  },
  {
   "cell_type": "code",
   "execution_count": 9,
   "metadata": {
    "execution": {
     "iopub.execute_input": "2021-10-04T08:14:13.049395Z",
     "iopub.status.busy": "2021-10-04T08:14:13.048339Z",
     "iopub.status.idle": "2021-10-04T08:14:13.293777Z",
     "shell.execute_reply": "2021-10-04T08:14:13.293337Z"
    }
   },
   "outputs": [
    {
     "data": {
      "image/png": "[encoded data removed]",
      "text/plain": [
       "<Figure size 864x432 with 1 Axes>"
      ]
     },
     "metadata": {
      "needs_background": "light"
     },
     "output_type": "display_data"
    }
   ],
   "source": [
    "fig, ax = plt.subplots(figsize=(12, 6))\r\n",
    "plt.plot(df_hourly.temp, '.-', label='Temperature')\r\n",
    "plt.plot(df_hourly.feels_like, '.-', label='Feels Like')\r\n",
    "ax.set(title='Temperature in future 48 hours', xlabel='Time', ylabel='Temperature')\r\n",
    "ax.set_xticks(list(range(0, len(df_hourly), 2)))\r\n",
    "ax.set_xticklabels([ts2dt(ts, '%m-%d %H:%M')[0] for i, ts in enumerate(df_hourly.dt) if i%2==0], \r\n",
    "                   rotation=45, ha=\"right\")\r\n",
    "ax.locator_params(nbins=15, axis='y')\r\n",
    "plt.legend()\r\n",
    "plt.show()"
   ]
  },
  {
   "cell_type": "code",
   "execution_count": 10,
   "metadata": {
    "execution": {
     "iopub.execute_input": "2021-10-04T08:14:13.305580Z",
     "iopub.status.busy": "2021-10-04T08:14:13.298095Z",
     "iopub.status.idle": "2021-10-04T08:14:13.317306Z",
     "shell.execute_reply": "2021-10-04T08:14:13.316877Z"
    }
   },
   "outputs": [
    {
     "data": {
      "text/html": [
       "<div>\n",
       "<style scoped>\n",
       "    .dataframe tbody tr th:only-of-type {\n",
       "        vertical-align: middle;\n",
       "    }\n",
       "\n",
       "    .dataframe tbody tr th {\n",
       "        vertical-align: top;\n",
       "    }\n",
       "\n",
       "    .dataframe thead th {\n",
       "        text-align: right;\n",
       "    }\n",
       "</style>\n",
       "<table border=\"1\" class=\"dataframe\">\n",
       "  <thead>\n",
       "    <tr style=\"text-align: right;\">\n",
       "      <th></th>\n",
       "      <th>dt</th>\n",
       "      <th>temp</th>\n",
       "      <th>feels_like</th>\n",
       "      <th>pressure</th>\n",
       "      <th>humidity</th>\n",
       "      <th>dew_point</th>\n",
       "      <th>uvi</th>\n",
       "      <th>clouds</th>\n",
       "      <th>visibility</th>\n",
       "      <th>wind_speed</th>\n",
       "      <th>wind_deg</th>\n",
       "      <th>wind_gust</th>\n",
       "      <th>weather</th>\n",
       "      <th>pop</th>\n",
       "    </tr>\n",
       "  </thead>\n",
       "  <tbody>\n",
       "    <tr>\n",
       "      <th>0</th>\n",
       "      <td>1633334400</td>\n",
       "      <td>28.58</td>\n",
       "      <td>35.58</td>\n",
       "      <td>1011</td>\n",
       "      <td>97</td>\n",
       "      <td>28.06</td>\n",
       "      <td>2.33</td>\n",
       "      <td>2</td>\n",
       "      <td>10000</td>\n",
       "      <td>5.96</td>\n",
       "      <td>94</td>\n",
       "      <td>7.49</td>\n",
       "      <td>[{'id': 800, 'main': 'Clear', 'description': '...</td>\n",
       "      <td>0.0</td>\n",
       "    </tr>\n",
       "    <tr>\n",
       "      <th>1</th>\n",
       "      <td>1633338000</td>\n",
       "      <td>28.56</td>\n",
       "      <td>35.56</td>\n",
       "      <td>1011</td>\n",
       "      <td>91</td>\n",
       "      <td>26.94</td>\n",
       "      <td>0.71</td>\n",
       "      <td>2</td>\n",
       "      <td>10000</td>\n",
       "      <td>5.54</td>\n",
       "      <td>97</td>\n",
       "      <td>7.07</td>\n",
       "      <td>[{'id': 800, 'main': 'Clear', 'description': '...</td>\n",
       "      <td>0.0</td>\n",
       "    </tr>\n",
       "    <tr>\n",
       "      <th>2</th>\n",
       "      <td>1633341600</td>\n",
       "      <td>28.33</td>\n",
       "      <td>34.03</td>\n",
       "      <td>1011</td>\n",
       "      <td>86</td>\n",
       "      <td>25.76</td>\n",
       "      <td>0.00</td>\n",
       "      <td>2</td>\n",
       "      <td>10000</td>\n",
       "      <td>5.21</td>\n",
       "      <td>97</td>\n",
       "      <td>6.84</td>\n",
       "      <td>[{'id': 800, 'main': 'Clear', 'description': '...</td>\n",
       "      <td>0.0</td>\n",
       "    </tr>\n",
       "    <tr>\n",
       "      <th>3</th>\n",
       "      <td>1633345200</td>\n",
       "      <td>28.11</td>\n",
       "      <td>32.70</td>\n",
       "      <td>1012</td>\n",
       "      <td>82</td>\n",
       "      <td>24.74</td>\n",
       "      <td>0.00</td>\n",
       "      <td>1</td>\n",
       "      <td>10000</td>\n",
       "      <td>5.23</td>\n",
       "      <td>91</td>\n",
       "      <td>7.19</td>\n",
       "      <td>[{'id': 800, 'main': 'Clear', 'description': '...</td>\n",
       "      <td>0.0</td>\n",
       "    </tr>\n",
       "    <tr>\n",
       "      <th>4</th>\n",
       "      <td>1633348800</td>\n",
       "      <td>28.04</td>\n",
       "      <td>31.74</td>\n",
       "      <td>1012</td>\n",
       "      <td>77</td>\n",
       "      <td>23.63</td>\n",
       "      <td>0.00</td>\n",
       "      <td>1</td>\n",
       "      <td>10000</td>\n",
       "      <td>5.10</td>\n",
       "      <td>88</td>\n",
       "      <td>7.46</td>\n",
       "      <td>[{'id': 800, 'main': 'Clear', 'description': '...</td>\n",
       "      <td>0.0</td>\n",
       "    </tr>\n",
       "  </tbody>\n",
       "</table>\n",
       "</div>"
      ],
      "text/plain": [
       "           dt   temp  feels_like  pressure  humidity  dew_point   uvi  clouds  \\\n",
       "0  1633334400  28.58       35.58      1011        97      28.06  2.33       2   \n",
       "1  1633338000  28.56       35.56      1011        91      26.94  0.71       2   \n",
       "2  1633341600  28.33       34.03      1011        86      25.76  0.00       2   \n",
       "3  1633345200  28.11       32.70      1012        82      24.74  0.00       1   \n",
       "4  1633348800  28.04       31.74      1012        77      23.63  0.00       1   \n",
       "\n",
       "   visibility  wind_speed  wind_deg  wind_gust  \\\n",
       "0       10000        5.96        94       7.49   \n",
       "1       10000        5.54        97       7.07   \n",
       "2       10000        5.21        97       6.84   \n",
       "3       10000        5.23        91       7.19   \n",
       "4       10000        5.10        88       7.46   \n",
       "\n",
       "                                             weather  pop  \n",
       "0  [{'id': 800, 'main': 'Clear', 'description': '...  0.0  \n",
       "1  [{'id': 800, 'main': 'Clear', 'description': '...  0.0  \n",
       "2  [{'id': 800, 'main': 'Clear', 'description': '...  0.0  \n",
       "3  [{'id': 800, 'main': 'Clear', 'description': '...  0.0  \n",
       "4  [{'id': 800, 'main': 'Clear', 'description': '...  0.0  "
      ]
     },
     "execution_count": 10,
     "metadata": {},
     "output_type": "execute_result"
    }
   ],
   "source": [
    "df_hourly.head()"
   ]
  },
  {
   "cell_type": "code",
   "execution_count": null,
   "metadata": {},
   "outputs": [],
   "source": []
  }
 ],
 "metadata": {
  "interpreter": {
   "hash": "c1b4cfe941b6d2466ad1fb5979e97da9cda8801728c8091b097ab734208fc00c"
  },
  "kernelspec": {
   "display_name": "Python 3.8.3 64-bit ('base': conda)",
   "name": "python3"
  },
  "language_info": {
   "codemirror_mode": {
    "name": "ipython",
    "version": 3
   },
   "file_extension": ".py",
   "mimetype": "text/x-python",
   "name": "python",
   "nbconvert_exporter": "python",
   "pygments_lexer": "ipython3",
   "version": "3.8.12"
  }
 },
 "nbformat": 4,
 "nbformat_minor": 2
}
