{
 "cells": [
  {
   "cell_type": "code",
   "execution_count": 1,
   "metadata": {
    "execution": {
     "iopub.execute_input": "2021-10-09T04:14:46.622821Z",
     "iopub.status.busy": "2021-10-09T04:14:46.622177Z",
     "iopub.status.idle": "2021-10-09T04:14:47.914429Z",
     "shell.execute_reply": "2021-10-09T04:14:47.913286Z"
    }
   },
   "outputs": [],
   "source": [
    "import json, yaml, requests\r\n",
    "from datetime import datetime\r\n",
    "from dateutil import tz\r\n",
    "import pandas as pd\r\n",
    "from PIL import Image\r\n",
    "from io import BytesIO\r\n",
    "import matplotlib.pyplot as plt\r\n",
    "import seaborn\r\n",
    "\r\n",
    "CONFIG_PATH = \"../config/config.yaml\""
   ]
  },
  {
   "cell_type": "code",
   "execution_count": 2,
   "metadata": {
    "execution": {
     "iopub.execute_input": "2021-10-09T04:14:47.923595Z",
     "iopub.status.busy": "2021-10-09T04:14:47.920258Z",
     "iopub.status.idle": "2021-10-09T04:14:47.926675Z",
     "shell.execute_reply": "2021-10-09T04:14:47.926256Z"
    }
   },
   "outputs": [],
   "source": [
    "with open('../newest_ts', 'r') as f:\r\n",
    "    newest_ts = f.read()\r\n",
    "\r\n",
    "data_path = f\"../data/data_{newest_ts}.json\"\r\n",
    "with open(data_path, 'r') as f:\r\n",
    "    data = json.load(f)\r\n",
    "\r\n",
    "with open(CONFIG_PATH, \"r\") as stream:\r\n",
    "    config = yaml.safe_load(stream)\r\n",
    "\r\n",
    "TIME_ZONE = config['time_zone']\r\n",
    "DATETIME_FORMAT = config['dt_format']"
   ]
  },
  {
   "cell_type": "code",
   "execution_count": 3,
   "metadata": {
    "execution": {
     "iopub.execute_input": "2021-10-09T04:14:47.932060Z",
     "iopub.status.busy": "2021-10-09T04:14:47.931293Z",
     "iopub.status.idle": "2021-10-09T04:14:47.937103Z",
     "shell.execute_reply": "2021-10-09T04:14:47.937553Z"
    }
   },
   "outputs": [
    {
     "name": "stdout",
     "output_type": "stream",
     "text": [
      "Recent query happens at 2021-10-09 12:14:43 (CST).\n"
     ]
    }
   ],
   "source": [
    "def ts2dt(ts, format=DATETIME_FORMAT):\r\n",
    "    dt = (datetime.utcfromtimestamp(int(ts))\r\n",
    "                    .replace(tzinfo=tz.tzutc())\r\n",
    "                    # .astimezone(tz.tzlocal())\r\n",
    "                    .astimezone(tz.gettz(TIME_ZONE)))\r\n",
    "    return dt.strftime(format), dt\r\n",
    "\r\n",
    "_, newest_dt = ts2dt(newest_ts)\r\n",
    "print(f\"Recent query happens at {newest_dt.strftime(DATETIME_FORMAT)} ({newest_dt.tzname()}).\")"
   ]
  },
  {
   "cell_type": "code",
   "execution_count": 4,
   "metadata": {
    "execution": {
     "iopub.execute_input": "2021-10-09T04:14:47.942368Z",
     "iopub.status.busy": "2021-10-09T04:14:47.940046Z",
     "iopub.status.idle": "2021-10-09T04:14:47.945440Z",
     "shell.execute_reply": "2021-10-09T04:14:47.945917Z"
    }
   },
   "outputs": [],
   "source": [
    "def degrees_to_cardinal(d):\r\n",
    "  dirs = ['N', 'NNE', 'NE', 'ENE', 'E', 'ESE', 'SE', 'SSE', 'S', 'SSW', 'SW', 'WSW', 'W', 'WNW', 'NW', 'NNW']\r\n",
    "  ix = int(round(d / (360. / len(dirs))))\r\n",
    "  return dirs[ix % len(dirs)]"
   ]
  },
  {
   "cell_type": "code",
   "execution_count": 5,
   "metadata": {
    "execution": {
     "iopub.execute_input": "2021-10-09T04:14:47.951243Z",
     "iopub.status.busy": "2021-10-09T04:14:47.949752Z",
     "iopub.status.idle": "2021-10-09T04:14:47.951991Z",
     "shell.execute_reply": "2021-10-09T04:14:47.953340Z"
    }
   },
   "outputs": [],
   "source": [
    "# data.keys()"
   ]
  },
  {
   "cell_type": "code",
   "execution_count": 6,
   "metadata": {
    "execution": {
     "iopub.execute_input": "2021-10-09T04:14:47.958991Z",
     "iopub.status.busy": "2021-10-09T04:14:47.957311Z",
     "iopub.status.idle": "2021-10-09T04:14:47.959714Z",
     "shell.execute_reply": "2021-10-09T04:14:47.960172Z"
    }
   },
   "outputs": [],
   "source": [
    "# data['current']"
   ]
  },
  {
   "cell_type": "code",
   "execution_count": 7,
   "metadata": {
    "execution": {
     "iopub.execute_input": "2021-10-09T04:14:47.982116Z",
     "iopub.status.busy": "2021-10-09T04:14:47.981500Z",
     "iopub.status.idle": "2021-10-09T04:14:48.407002Z",
     "shell.execute_reply": "2021-10-09T04:14:48.407857Z"
    }
   },
   "outputs": [
    {
     "data": {
      "image/png": "[encoded data removed]",
      "text/plain": [
       "<Figure size 216x216 with 1 Axes>"
      ]
     },
     "metadata": {
      "needs_background": "light"
     },
     "output_type": "display_data"
    },
    {
     "name": "stdout",
     "output_type": "stream",
     "text": [
      "Today, sun rises at 06:16 and sets at 18:03.\n",
      "Currently, the weather is Rain (light rain).\n",
      "The temperature is 27.99°C and it feels like 33.2°C.\n",
      "The UV index is 0.65, humidity is 87%.\n",
      "The pressure is 1010 hPa, percentage of cloud cover is 100%\n",
      "The wind comes from N direction with a speed 2.24 m/s.\n"
     ]
    }
   ],
   "source": [
    "current = data['current']\r\n",
    "\r\n",
    "fig, ax = plt.subplots(figsize=(3, 3))\r\n",
    "icon = requests.get(f\"http://openweathermap.org/img/wn/{current['weather'][0]['icon']}@2x.png\")\r\n",
    "im = Image.open(BytesIO(icon.content))\r\n",
    "plt.imshow(im)\r\n",
    "ax.set_axis_off()\r\n",
    "plt.show()\r\n",
    "\r\n",
    "print(f\"Today, sun rises at {ts2dt(current['sunrise'], '%H:%M')[0]} \\\r\n",
    "and sets at {ts2dt(current['sunset'], '%H:%M')[0]}.\\n\\\r\n",
    "Currently, the weather is {current['weather'][0]['main']} ({current['weather'][0]['description']}).\\n\\\r\n",
    "The temperature is {current['temp']}°C and it feels like {current['feels_like']}°C.\\n\\\r\n",
    "The UV index is {current['uvi']}, humidity is {current['humidity']}%.\\n\\\r\n",
    "The pressure is {current['pressure']} hPa, percentage of cloud cover is {current['clouds']}%\\n\\\r\n",
    "The wind comes from {degrees_to_cardinal(current['wind_deg'])} direction with a speed {current['wind_speed']} m/s.\")"
   ]
  },
  {
   "cell_type": "code",
   "execution_count": 8,
   "metadata": {
    "execution": {
     "iopub.execute_input": "2021-10-09T04:14:48.411910Z",
     "iopub.status.busy": "2021-10-09T04:14:48.410812Z",
     "iopub.status.idle": "2021-10-09T04:14:48.419118Z",
     "shell.execute_reply": "2021-10-09T04:14:48.419921Z"
    }
   },
   "outputs": [],
   "source": [
    "df_hourly = pd.DataFrame(data['hourly'])\r\n",
    "df_daily = pd.DataFrame(data['daily'])"
   ]
  },
  {
   "cell_type": "code",
   "execution_count": 9,
   "metadata": {
    "execution": {
     "iopub.execute_input": "2021-10-09T04:14:48.423376Z",
     "iopub.status.busy": "2021-10-09T04:14:48.422293Z",
     "iopub.status.idle": "2021-10-09T04:14:48.741367Z",
     "shell.execute_reply": "2021-10-09T04:14:48.741801Z"
    }
   },
   "outputs": [
    {
     "data": {
      "image/png": "[encoded data removed]",
      "text/plain": [
       "<Figure size 864x432 with 1 Axes>"
      ]
     },
     "metadata": {
      "needs_background": "light"
     },
     "output_type": "display_data"
    }
   ],
   "source": [
    "fig, ax = plt.subplots(figsize=(12, 6))\r\n",
    "plt.plot(df_hourly.temp, '.-', label='Temperature')\r\n",
    "plt.plot(df_hourly.feels_like, '.-', label='Feels Like')\r\n",
    "ax.set(title='Temperature in future 48 hours', xlabel='Time', ylabel='Temperature')\r\n",
    "ax.set_xticks(list(range(0, len(df_hourly), 2)))\r\n",
    "ax.set_xticklabels([ts2dt(ts, '%m-%d %H:%M')[0] for i, ts in enumerate(df_hourly.dt) if i%2==0], \r\n",
    "                   rotation=45, ha=\"right\")\r\n",
    "ax.locator_params(nbins=15, axis='y')\r\n",
    "plt.legend()\r\n",
    "plt.show()"
   ]
  },
  {
   "cell_type": "code",
   "execution_count": 10,
   "metadata": {
    "execution": {
     "iopub.execute_input": "2021-10-09T04:14:48.746452Z",
     "iopub.status.busy": "2021-10-09T04:14:48.745825Z",
     "iopub.status.idle": "2021-10-09T04:14:48.768621Z",
     "shell.execute_reply": "2021-10-09T04:14:48.768131Z"
    }
   },
   "outputs": [
    {
     "data": {
      "text/html": [
       "<div>\n",
       "<style scoped>\n",
       "    .dataframe tbody tr th:only-of-type {\n",
       "        vertical-align: middle;\n",
       "    }\n",
       "\n",
       "    .dataframe tbody tr th {\n",
       "        vertical-align: top;\n",
       "    }\n",
       "\n",
       "    .dataframe thead th {\n",
       "        text-align: right;\n",
       "    }\n",
       "</style>\n",
       "<table border=\"1\" class=\"dataframe\">\n",
       "  <thead>\n",
       "    <tr style=\"text-align: right;\">\n",
       "      <th></th>\n",
       "      <th>dt</th>\n",
       "      <th>temp</th>\n",
       "      <th>feels_like</th>\n",
       "      <th>pressure</th>\n",
       "      <th>humidity</th>\n",
       "      <th>dew_point</th>\n",
       "      <th>uvi</th>\n",
       "      <th>clouds</th>\n",
       "      <th>visibility</th>\n",
       "      <th>wind_speed</th>\n",
       "      <th>wind_deg</th>\n",
       "      <th>wind_gust</th>\n",
       "      <th>weather</th>\n",
       "      <th>pop</th>\n",
       "      <th>rain</th>\n",
       "    </tr>\n",
       "  </thead>\n",
       "  <tbody>\n",
       "    <tr>\n",
       "      <th>0</th>\n",
       "      <td>1633752000</td>\n",
       "      <td>27.99</td>\n",
       "      <td>33.20</td>\n",
       "      <td>1010</td>\n",
       "      <td>87</td>\n",
       "      <td>25.62</td>\n",
       "      <td>0.65</td>\n",
       "      <td>100</td>\n",
       "      <td>7991</td>\n",
       "      <td>13.05</td>\n",
       "      <td>98</td>\n",
       "      <td>19.10</td>\n",
       "      <td>[{'id': 501, 'main': 'Rain', 'description': 'm...</td>\n",
       "      <td>1.00</td>\n",
       "      <td>{'1h': 1.59}</td>\n",
       "    </tr>\n",
       "    <tr>\n",
       "      <th>1</th>\n",
       "      <td>1633755600</td>\n",
       "      <td>27.70</td>\n",
       "      <td>32.51</td>\n",
       "      <td>1009</td>\n",
       "      <td>88</td>\n",
       "      <td>25.53</td>\n",
       "      <td>0.64</td>\n",
       "      <td>100</td>\n",
       "      <td>7757</td>\n",
       "      <td>13.10</td>\n",
       "      <td>98</td>\n",
       "      <td>19.04</td>\n",
       "      <td>[{'id': 804, 'main': 'Clouds', 'description': ...</td>\n",
       "      <td>0.80</td>\n",
       "      <td>NaN</td>\n",
       "    </tr>\n",
       "    <tr>\n",
       "      <th>2</th>\n",
       "      <td>1633759200</td>\n",
       "      <td>27.40</td>\n",
       "      <td>31.77</td>\n",
       "      <td>1008</td>\n",
       "      <td>89</td>\n",
       "      <td>25.42</td>\n",
       "      <td>0.52</td>\n",
       "      <td>100</td>\n",
       "      <td>6121</td>\n",
       "      <td>13.77</td>\n",
       "      <td>100</td>\n",
       "      <td>19.66</td>\n",
       "      <td>[{'id': 500, 'main': 'Rain', 'description': 'l...</td>\n",
       "      <td>1.00</td>\n",
       "      <td>{'1h': 0.56}</td>\n",
       "    </tr>\n",
       "    <tr>\n",
       "      <th>3</th>\n",
       "      <td>1633762800</td>\n",
       "      <td>27.01</td>\n",
       "      <td>30.76</td>\n",
       "      <td>1006</td>\n",
       "      <td>90</td>\n",
       "      <td>25.23</td>\n",
       "      <td>0.26</td>\n",
       "      <td>100</td>\n",
       "      <td>6347</td>\n",
       "      <td>14.23</td>\n",
       "      <td>97</td>\n",
       "      <td>20.34</td>\n",
       "      <td>[{'id': 501, 'main': 'Rain', 'description': 'm...</td>\n",
       "      <td>0.99</td>\n",
       "      <td>{'1h': 1.73}</td>\n",
       "    </tr>\n",
       "    <tr>\n",
       "      <th>4</th>\n",
       "      <td>1633766400</td>\n",
       "      <td>26.45</td>\n",
       "      <td>26.45</td>\n",
       "      <td>1005</td>\n",
       "      <td>91</td>\n",
       "      <td>24.86</td>\n",
       "      <td>0.12</td>\n",
       "      <td>100</td>\n",
       "      <td>4038</td>\n",
       "      <td>13.70</td>\n",
       "      <td>94</td>\n",
       "      <td>20.12</td>\n",
       "      <td>[{'id': 501, 'main': 'Rain', 'description': 'm...</td>\n",
       "      <td>1.00</td>\n",
       "      <td>{'1h': 3.09}</td>\n",
       "    </tr>\n",
       "  </tbody>\n",
       "</table>\n",
       "</div>"
      ],
      "text/plain": [
       "           dt   temp  feels_like  pressure  humidity  dew_point   uvi  clouds  \\\n",
       "0  1633752000  27.99       33.20      1010        87      25.62  0.65     100   \n",
       "1  1633755600  27.70       32.51      1009        88      25.53  0.64     100   \n",
       "2  1633759200  27.40       31.77      1008        89      25.42  0.52     100   \n",
       "3  1633762800  27.01       30.76      1006        90      25.23  0.26     100   \n",
       "4  1633766400  26.45       26.45      1005        91      24.86  0.12     100   \n",
       "\n",
       "   visibility  wind_speed  wind_deg  wind_gust  \\\n",
       "0        7991       13.05        98      19.10   \n",
       "1        7757       13.10        98      19.04   \n",
       "2        6121       13.77       100      19.66   \n",
       "3        6347       14.23        97      20.34   \n",
       "4        4038       13.70        94      20.12   \n",
       "\n",
       "                                             weather   pop          rain  \n",
       "0  [{'id': 501, 'main': 'Rain', 'description': 'm...  1.00  {'1h': 1.59}  \n",
       "1  [{'id': 804, 'main': 'Clouds', 'description': ...  0.80           NaN  \n",
       "2  [{'id': 500, 'main': 'Rain', 'description': 'l...  1.00  {'1h': 0.56}  \n",
       "3  [{'id': 501, 'main': 'Rain', 'description': 'm...  0.99  {'1h': 1.73}  \n",
       "4  [{'id': 501, 'main': 'Rain', 'description': 'm...  1.00  {'1h': 3.09}  "
      ]
     },
     "execution_count": 10,
     "metadata": {},
     "output_type": "execute_result"
    }
   ],
   "source": [
    "df_hourly.head()"
   ]
  },
  {
   "cell_type": "code",
   "execution_count": null,
   "metadata": {},
   "outputs": [],
   "source": []
  }
 ],
 "metadata": {
  "interpreter": {
   "hash": "c1b4cfe941b6d2466ad1fb5979e97da9cda8801728c8091b097ab734208fc00c"
  },
  "kernelspec": {
   "display_name": "Python 3.8.3 64-bit ('base': conda)",
   "name": "python3"
  },
  "language_info": {
   "codemirror_mode": {
    "name": "ipython",
    "version": 3
   },
   "file_extension": ".py",
   "mimetype": "text/x-python",
   "name": "python",
   "nbconvert_exporter": "python",
   "pygments_lexer": "ipython3",
   "version": "3.8.12"
  }
 },
 "nbformat": 4,
 "nbformat_minor": 2
}
