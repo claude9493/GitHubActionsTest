{
 "cells": [
  {
   "cell_type": "code",
   "execution_count": 1,
   "metadata": {
    "execution": {
     "iopub.execute_input": "2021-09-19T23:11:24.499725Z",
     "iopub.status.busy": "2021-09-19T23:11:24.499097Z",
     "iopub.status.idle": "2021-09-19T23:11:26.126730Z",
     "shell.execute_reply": "2021-09-19T23:11:26.127156Z"
    }
   },
   "outputs": [],
   "source": [
    "import json, yaml, requests\r\n",
    "from datetime import datetime\r\n",
    "from dateutil import tz\r\n",
    "import pandas as pd\r\n",
    "from PIL import Image\r\n",
    "from io import BytesIO\r\n",
    "import matplotlib.pyplot as plt\r\n",
    "import seaborn\r\n",
    "\r\n",
    "CONFIG_PATH = \"../config/config.yaml\""
   ]
  },
  {
   "cell_type": "code",
   "execution_count": 2,
   "metadata": {
    "execution": {
     "iopub.execute_input": "2021-09-19T23:11:26.133198Z",
     "iopub.status.busy": "2021-09-19T23:11:26.132469Z",
     "iopub.status.idle": "2021-09-19T23:11:26.137992Z",
     "shell.execute_reply": "2021-09-19T23:11:26.138422Z"
    }
   },
   "outputs": [],
   "source": [
    "with open('../newest_ts', 'r') as f:\r\n",
    "    newest_ts = f.read()\r\n",
    "\r\n",
    "data_path = f\"../data/data_{newest_ts}.json\"\r\n",
    "with open(data_path, 'r') as f:\r\n",
    "    data = json.load(f)\r\n",
    "\r\n",
    "with open(CONFIG_PATH, \"r\") as stream:\r\n",
    "    config = yaml.safe_load(stream)\r\n",
    "\r\n",
    "TIME_ZONE = config['time_zone']\r\n",
    "DATETIME_FORMAT = config['dt_format']"
   ]
  },
  {
   "cell_type": "code",
   "execution_count": 3,
   "metadata": {
    "execution": {
     "iopub.execute_input": "2021-09-19T23:11:26.143431Z",
     "iopub.status.busy": "2021-09-19T23:11:26.142834Z",
     "iopub.status.idle": "2021-09-19T23:11:26.146624Z",
     "shell.execute_reply": "2021-09-19T23:11:26.147078Z"
    }
   },
   "outputs": [
    {
     "name": "stdout",
     "output_type": "stream",
     "text": [
      "Recent query happens at 2021-09-20 07:11:21 (CST).\n"
     ]
    }
   ],
   "source": [
    "def ts2dt(ts, format=DATETIME_FORMAT):\r\n",
    "    dt = (datetime.utcfromtimestamp(int(ts))\r\n",
    "                    .replace(tzinfo=tz.tzutc())\r\n",
    "                    # .astimezone(tz.tzlocal())\r\n",
    "                    .astimezone(tz.gettz(TIME_ZONE)))\r\n",
    "    return dt.strftime(format), dt\r\n",
    "\r\n",
    "_, newest_dt = ts2dt(newest_ts)\r\n",
    "print(f\"Recent query happens at {newest_dt.strftime(DATETIME_FORMAT)} ({newest_dt.tzname()}).\")"
   ]
  },
  {
   "cell_type": "code",
   "execution_count": 4,
   "metadata": {
    "execution": {
     "iopub.execute_input": "2021-09-19T23:11:26.150384Z",
     "iopub.status.busy": "2021-09-19T23:11:26.149820Z",
     "iopub.status.idle": "2021-09-19T23:11:26.154638Z",
     "shell.execute_reply": "2021-09-19T23:11:26.154130Z"
    }
   },
   "outputs": [],
   "source": [
    "def degrees_to_cardinal(d):\r\n",
    "  dirs = ['N', 'NNE', 'NE', 'ENE', 'E', 'ESE', 'SE', 'SSE', 'S', 'SSW', 'SW', 'WSW', 'W', 'WNW', 'NW', 'NNW']\r\n",
    "  ix = int(round(d / (360. / len(dirs))))\r\n",
    "  return dirs[ix % len(dirs)]"
   ]
  },
  {
   "cell_type": "code",
   "execution_count": 5,
   "metadata": {
    "execution": {
     "iopub.execute_input": "2021-09-19T23:11:26.159321Z",
     "iopub.status.busy": "2021-09-19T23:11:26.158005Z",
     "iopub.status.idle": "2021-09-19T23:11:26.159893Z",
     "shell.execute_reply": "2021-09-19T23:11:26.160322Z"
    }
   },
   "outputs": [],
   "source": [
    "# data.keys()"
   ]
  },
  {
   "cell_type": "code",
   "execution_count": 6,
   "metadata": {
    "execution": {
     "iopub.execute_input": "2021-09-19T23:11:26.165525Z",
     "iopub.status.busy": "2021-09-19T23:11:26.164254Z",
     "iopub.status.idle": "2021-09-19T23:11:26.166118Z",
     "shell.execute_reply": "2021-09-19T23:11:26.166544Z"
    }
   },
   "outputs": [],
   "source": [
    "# data['current']"
   ]
  },
  {
   "cell_type": "code",
   "execution_count": 7,
   "metadata": {
    "execution": {
     "iopub.execute_input": "2021-09-19T23:11:26.187692Z",
     "iopub.status.busy": "2021-09-19T23:11:26.187074Z",
     "iopub.status.idle": "2021-09-19T23:11:26.608560Z",
     "shell.execute_reply": "2021-09-19T23:11:26.609144Z"
    }
   },
   "outputs": [
    {
     "data": {
      "image/png": "[encoded data removed]",
      "text/plain": [
       "<Figure size 216x216 with 1 Axes>"
      ]
     },
     "metadata": {
      "needs_background": "light"
     },
     "output_type": "display_data"
    },
    {
     "name": "stdout",
     "output_type": "stream",
     "text": [
      "Today, sun rises at 06:11 and sets at 18:21.\n",
      "Currently, the weather is Clouds (few clouds).\n",
      "The temperature is 29.15°C and it feels like 36.15°C.\n",
      "The UV index is 0.22, humidity is 86%.\n",
      "The pressure is 1011 hPa, percentage of cloud cover is 18%\n",
      "The wind comes from ENE direction with a speed 2.09 m/s.\n"
     ]
    }
   ],
   "source": [
    "current = data['current']\r\n",
    "\r\n",
    "fig, ax = plt.subplots(figsize=(3, 3))\r\n",
    "icon = requests.get(f\"http://openweathermap.org/img/wn/{current['weather'][0]['icon']}@2x.png\")\r\n",
    "im = Image.open(BytesIO(icon.content))\r\n",
    "plt.imshow(im)\r\n",
    "ax.set_axis_off()\r\n",
    "plt.show()\r\n",
    "\r\n",
    "print(f\"Today, sun rises at {ts2dt(current['sunrise'], '%H:%M')[0]} \\\r\n",
    "and sets at {ts2dt(current['sunset'], '%H:%M')[0]}.\\n\\\r\n",
    "Currently, the weather is {current['weather'][0]['main']} ({current['weather'][0]['description']}).\\n\\\r\n",
    "The temperature is {current['temp']}°C and it feels like {current['feels_like']}°C.\\n\\\r\n",
    "The UV index is {current['uvi']}, humidity is {current['humidity']}%.\\n\\\r\n",
    "The pressure is {current['pressure']} hPa, percentage of cloud cover is {current['clouds']}%\\n\\\r\n",
    "The wind comes from {degrees_to_cardinal(current['wind_deg'])} direction with a speed {current['wind_speed']} m/s.\")"
   ]
  },
  {
   "cell_type": "code",
   "execution_count": 8,
   "metadata": {
    "execution": {
     "iopub.execute_input": "2021-09-19T23:11:26.617068Z",
     "iopub.status.busy": "2021-09-19T23:11:26.615873Z",
     "iopub.status.idle": "2021-09-19T23:11:26.620093Z",
     "shell.execute_reply": "2021-09-19T23:11:26.619661Z"
    }
   },
   "outputs": [],
   "source": [
    "df_hourly = pd.DataFrame(data['hourly'])\r\n",
    "df_daily = pd.DataFrame(data['daily'])"
   ]
  },
  {
   "cell_type": "code",
   "execution_count": 9,
   "metadata": {
    "execution": {
     "iopub.execute_input": "2021-09-19T23:11:26.627843Z",
     "iopub.status.busy": "2021-09-19T23:11:26.627179Z",
     "iopub.status.idle": "2021-09-19T23:11:26.954662Z",
     "shell.execute_reply": "2021-09-19T23:11:26.954177Z"
    }
   },
   "outputs": [
    {
     "data": {
      "image/png": "[encoded data removed]",
      "text/plain": [
       "<Figure size 864x432 with 1 Axes>"
      ]
     },
     "metadata": {
      "needs_background": "light"
     },
     "output_type": "display_data"
    }
   ],
   "source": [
    "fig, ax = plt.subplots(figsize=(12, 6))\r\n",
    "plt.plot(df_hourly.temp, '.-', label='Temperature')\r\n",
    "plt.plot(df_hourly.feels_like, '.-', label='Feels Like')\r\n",
    "ax.set(title='Temperature in future 48 hours', xlabel='Time', ylabel='Temperature')\r\n",
    "ax.set_xticks(list(range(0, len(df_hourly), 2)))\r\n",
    "ax.set_xticklabels([ts2dt(ts, '%m-%d %H:%M')[0] for i, ts in enumerate(df_hourly.dt) if i%2==0], \r\n",
    "                   rotation=45, ha=\"right\")\r\n",
    "ax.locator_params(nbins=15, axis='y')\r\n",
    "plt.legend()\r\n",
    "plt.show()"
   ]
  },
  {
   "cell_type": "code",
   "execution_count": 10,
   "metadata": {
    "execution": {
     "iopub.execute_input": "2021-09-19T23:11:26.966748Z",
     "iopub.status.busy": "2021-09-19T23:11:26.958739Z",
     "iopub.status.idle": "2021-09-19T23:11:26.980177Z",
     "shell.execute_reply": "2021-09-19T23:11:26.979323Z"
    }
   },
   "outputs": [
    {
     "data": {
      "text/html": [
       "<div>\n",
       "<style scoped>\n",
       "    .dataframe tbody tr th:only-of-type {\n",
       "        vertical-align: middle;\n",
       "    }\n",
       "\n",
       "    .dataframe tbody tr th {\n",
       "        vertical-align: top;\n",
       "    }\n",
       "\n",
       "    .dataframe thead th {\n",
       "        text-align: right;\n",
       "    }\n",
       "</style>\n",
       "<table border=\"1\" class=\"dataframe\">\n",
       "  <thead>\n",
       "    <tr style=\"text-align: right;\">\n",
       "      <th></th>\n",
       "      <th>dt</th>\n",
       "      <th>temp</th>\n",
       "      <th>feels_like</th>\n",
       "      <th>pressure</th>\n",
       "      <th>humidity</th>\n",
       "      <th>dew_point</th>\n",
       "      <th>uvi</th>\n",
       "      <th>clouds</th>\n",
       "      <th>visibility</th>\n",
       "      <th>wind_speed</th>\n",
       "      <th>wind_deg</th>\n",
       "      <th>wind_gust</th>\n",
       "      <th>weather</th>\n",
       "      <th>pop</th>\n",
       "      <th>rain</th>\n",
       "    </tr>\n",
       "  </thead>\n",
       "  <tbody>\n",
       "    <tr>\n",
       "      <th>0</th>\n",
       "      <td>1632092400</td>\n",
       "      <td>29.15</td>\n",
       "      <td>36.15</td>\n",
       "      <td>1011</td>\n",
       "      <td>86</td>\n",
       "      <td>26.56</td>\n",
       "      <td>0.22</td>\n",
       "      <td>18</td>\n",
       "      <td>10000</td>\n",
       "      <td>2.09</td>\n",
       "      <td>72</td>\n",
       "      <td>2.51</td>\n",
       "      <td>[{'id': 801, 'main': 'Clouds', 'description': ...</td>\n",
       "      <td>0.77</td>\n",
       "      <td>NaN</td>\n",
       "    </tr>\n",
       "    <tr>\n",
       "      <th>1</th>\n",
       "      <td>1632096000</td>\n",
       "      <td>28.99</td>\n",
       "      <td>35.61</td>\n",
       "      <td>1011</td>\n",
       "      <td>84</td>\n",
       "      <td>26.01</td>\n",
       "      <td>1.24</td>\n",
       "      <td>17</td>\n",
       "      <td>10000</td>\n",
       "      <td>2.38</td>\n",
       "      <td>78</td>\n",
       "      <td>2.76</td>\n",
       "      <td>[{'id': 801, 'main': 'Clouds', 'description': ...</td>\n",
       "      <td>0.73</td>\n",
       "      <td>NaN</td>\n",
       "    </tr>\n",
       "    <tr>\n",
       "      <th>2</th>\n",
       "      <td>1632099600</td>\n",
       "      <td>29.09</td>\n",
       "      <td>35.45</td>\n",
       "      <td>1011</td>\n",
       "      <td>82</td>\n",
       "      <td>25.70</td>\n",
       "      <td>3.37</td>\n",
       "      <td>12</td>\n",
       "      <td>10000</td>\n",
       "      <td>2.73</td>\n",
       "      <td>83</td>\n",
       "      <td>2.93</td>\n",
       "      <td>[{'id': 801, 'main': 'Clouds', 'description': ...</td>\n",
       "      <td>0.04</td>\n",
       "      <td>NaN</td>\n",
       "    </tr>\n",
       "    <tr>\n",
       "      <th>3</th>\n",
       "      <td>1632103200</td>\n",
       "      <td>29.37</td>\n",
       "      <td>35.31</td>\n",
       "      <td>1012</td>\n",
       "      <td>78</td>\n",
       "      <td>25.13</td>\n",
       "      <td>6.33</td>\n",
       "      <td>13</td>\n",
       "      <td>10000</td>\n",
       "      <td>3.13</td>\n",
       "      <td>91</td>\n",
       "      <td>2.96</td>\n",
       "      <td>[{'id': 801, 'main': 'Clouds', 'description': ...</td>\n",
       "      <td>0.00</td>\n",
       "      <td>NaN</td>\n",
       "    </tr>\n",
       "    <tr>\n",
       "      <th>4</th>\n",
       "      <td>1632106800</td>\n",
       "      <td>29.73</td>\n",
       "      <td>35.33</td>\n",
       "      <td>1012</td>\n",
       "      <td>74</td>\n",
       "      <td>24.60</td>\n",
       "      <td>9.12</td>\n",
       "      <td>17</td>\n",
       "      <td>10000</td>\n",
       "      <td>3.41</td>\n",
       "      <td>97</td>\n",
       "      <td>2.99</td>\n",
       "      <td>[{'id': 801, 'main': 'Clouds', 'description': ...</td>\n",
       "      <td>0.00</td>\n",
       "      <td>NaN</td>\n",
       "    </tr>\n",
       "  </tbody>\n",
       "</table>\n",
       "</div>"
      ],
      "text/plain": [
       "           dt   temp  feels_like  pressure  humidity  dew_point   uvi  clouds  \\\n",
       "0  1632092400  29.15       36.15      1011        86      26.56  0.22      18   \n",
       "1  1632096000  28.99       35.61      1011        84      26.01  1.24      17   \n",
       "2  1632099600  29.09       35.45      1011        82      25.70  3.37      12   \n",
       "3  1632103200  29.37       35.31      1012        78      25.13  6.33      13   \n",
       "4  1632106800  29.73       35.33      1012        74      24.60  9.12      17   \n",
       "\n",
       "   visibility  wind_speed  wind_deg  wind_gust  \\\n",
       "0       10000        2.09        72       2.51   \n",
       "1       10000        2.38        78       2.76   \n",
       "2       10000        2.73        83       2.93   \n",
       "3       10000        3.13        91       2.96   \n",
       "4       10000        3.41        97       2.99   \n",
       "\n",
       "                                             weather   pop rain  \n",
       "0  [{'id': 801, 'main': 'Clouds', 'description': ...  0.77  NaN  \n",
       "1  [{'id': 801, 'main': 'Clouds', 'description': ...  0.73  NaN  \n",
       "2  [{'id': 801, 'main': 'Clouds', 'description': ...  0.04  NaN  \n",
       "3  [{'id': 801, 'main': 'Clouds', 'description': ...  0.00  NaN  \n",
       "4  [{'id': 801, 'main': 'Clouds', 'description': ...  0.00  NaN  "
      ]
     },
     "execution_count": 10,
     "metadata": {},
     "output_type": "execute_result"
    }
   ],
   "source": [
    "df_hourly.head()"
   ]
  },
  {
   "cell_type": "code",
   "execution_count": null,
   "metadata": {},
   "outputs": [],
   "source": []
  }
 ],
 "metadata": {
  "interpreter": {
   "hash": "c1b4cfe941b6d2466ad1fb5979e97da9cda8801728c8091b097ab734208fc00c"
  },
  "kernelspec": {
   "display_name": "Python 3.8.3 64-bit ('base': conda)",
   "name": "python3"
  },
  "language_info": {
   "codemirror_mode": {
    "name": "ipython",
    "version": 3
   },
   "file_extension": ".py",
   "mimetype": "text/x-python",
   "name": "python",
   "nbconvert_exporter": "python",
   "pygments_lexer": "ipython3",
   "version": "3.8.11"
  }
 },
 "nbformat": 4,
 "nbformat_minor": 2
}
