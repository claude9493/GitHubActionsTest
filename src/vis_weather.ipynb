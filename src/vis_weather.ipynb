{
 "cells": [
  {
   "cell_type": "code",
   "execution_count": 1,
   "metadata": {
    "execution": {
     "iopub.execute_input": "2021-08-22T19:12:07.001543Z",
     "iopub.status.busy": "2021-08-22T19:12:07.000796Z",
     "iopub.status.idle": "2021-08-22T19:12:09.599924Z",
     "shell.execute_reply": "2021-08-22T19:12:09.599158Z"
    }
   },
   "outputs": [],
   "source": [
    "import json\r\n",
    "from datetime import datetime\r\n",
    "from dateutil import tz\r\n",
    "import pandas as pd\r\n",
    "import matplotlib.pyplot as plt\r\n",
    "import seaborn\r\n"
   ]
  },
  {
   "cell_type": "code",
   "execution_count": 2,
   "metadata": {
    "execution": {
     "iopub.execute_input": "2021-08-22T19:12:09.607125Z",
     "iopub.status.busy": "2021-08-22T19:12:09.605879Z",
     "iopub.status.idle": "2021-08-22T19:12:09.608468Z",
     "shell.execute_reply": "2021-08-22T19:12:09.608988Z"
    }
   },
   "outputs": [],
   "source": [
    "with open('../newest_ts', 'r') as f:\r\n",
    "    ts = f.read()\r\n",
    "\r\n",
    "data_path = f\"../data/data_{ts}.json\"\r\n",
    "with open(data_path, 'r') as f:\r\n",
    "    data = json.load(f)"
   ]
  },
  {
   "cell_type": "code",
   "execution_count": 3,
   "metadata": {
    "execution": {
     "iopub.execute_input": "2021-08-22T19:12:09.616259Z",
     "iopub.status.busy": "2021-08-22T19:12:09.615085Z",
     "iopub.status.idle": "2021-08-22T19:12:09.619678Z",
     "shell.execute_reply": "2021-08-22T19:12:09.620282Z"
    }
   },
   "outputs": [
    {
     "name": "stdout",
     "output_type": "stream",
     "text": [
      "Recent query happens at 2021-08-22 19:12:03\n"
     ]
    }
   ],
   "source": [
    "def ts2dt(ts, format='%Y-%m-%d %H:%M:%S'):\r\n",
    "    return (datetime.utcfromtimestamp(int(ts))\r\n",
    "                    .replace(tzinfo=tz.tzutc())\r\n",
    "                    .astimezone(tz.tzlocal())\r\n",
    "                    .strftime(format))\r\n",
    "\r\n",
    "print(f\"Recent query happens at {ts2dt(ts)}\")"
   ]
  },
  {
   "cell_type": "code",
   "execution_count": 4,
   "metadata": {
    "execution": {
     "iopub.execute_input": "2021-08-22T19:12:09.630571Z",
     "iopub.status.busy": "2021-08-22T19:12:09.629750Z",
     "iopub.status.idle": "2021-08-22T19:12:09.633062Z",
     "shell.execute_reply": "2021-08-22T19:12:09.633593Z"
    }
   },
   "outputs": [
    {
     "data": {
      "text/plain": [
       "dict_keys(['lat', 'lon', 'timezone', 'timezone_offset', 'current', 'hourly', 'daily'])"
      ]
     },
     "execution_count": 4,
     "metadata": {},
     "output_type": "execute_result"
    }
   ],
   "source": [
    "data.keys()"
   ]
  },
  {
   "cell_type": "code",
   "execution_count": 5,
   "metadata": {
    "execution": {
     "iopub.execute_input": "2021-08-22T19:12:09.639084Z",
     "iopub.status.busy": "2021-08-22T19:12:09.638466Z",
     "iopub.status.idle": "2021-08-22T19:12:09.641131Z",
     "shell.execute_reply": "2021-08-22T19:12:09.641587Z"
    }
   },
   "outputs": [
    {
     "data": {
      "text/plain": [
       "{'dt': 1629659523,\n",
       " 'sunrise': 1629669780,\n",
       " 'sunset': 1629715720,\n",
       " 'temp': 29.71,\n",
       " 'feels_like': 36.71,\n",
       " 'pressure': 1007,\n",
       " 'humidity': 82,\n",
       " 'dew_point': 26.3,\n",
       " 'uvi': 0,\n",
       " 'clouds': 100,\n",
       " 'visibility': 10000,\n",
       " 'wind_speed': 3.47,\n",
       " 'wind_deg': 217,\n",
       " 'wind_gust': 4.77,\n",
       " 'weather': [{'id': 804,\n",
       "   'main': 'Clouds',\n",
       "   'description': 'overcast clouds',\n",
       "   'icon': '04n'}]}"
      ]
     },
     "execution_count": 5,
     "metadata": {},
     "output_type": "execute_result"
    }
   ],
   "source": [
    "data['current']"
   ]
  },
  {
   "cell_type": "code",
   "execution_count": 6,
   "metadata": {
    "execution": {
     "iopub.execute_input": "2021-08-22T19:12:09.648527Z",
     "iopub.status.busy": "2021-08-22T19:12:09.647514Z",
     "iopub.status.idle": "2021-08-22T19:12:09.650649Z",
     "shell.execute_reply": "2021-08-22T19:12:09.651104Z"
    }
   },
   "outputs": [
    {
     "data": {
      "text/plain": [
       "{'dt': 1629658800,\n",
       " 'temp': 29.71,\n",
       " 'feels_like': 36.71,\n",
       " 'pressure': 1007,\n",
       " 'humidity': 82,\n",
       " 'dew_point': 26.3,\n",
       " 'uvi': 0,\n",
       " 'clouds': 100,\n",
       " 'visibility': 10000,\n",
       " 'wind_speed': 3.47,\n",
       " 'wind_deg': 217,\n",
       " 'wind_gust': 4.77,\n",
       " 'weather': [{'id': 500,\n",
       "   'main': 'Rain',\n",
       "   'description': 'light rain',\n",
       "   'icon': '10n'}],\n",
       " 'pop': 0.61,\n",
       " 'rain': {'1h': 0.45}}"
      ]
     },
     "execution_count": 6,
     "metadata": {},
     "output_type": "execute_result"
    }
   ],
   "source": [
    "data['hourly'][0]"
   ]
  },
  {
   "cell_type": "code",
   "execution_count": 7,
   "metadata": {
    "execution": {
     "iopub.execute_input": "2021-08-22T19:12:09.662095Z",
     "iopub.status.busy": "2021-08-22T19:12:09.660395Z",
     "iopub.status.idle": "2021-08-22T19:12:09.662809Z",
     "shell.execute_reply": "2021-08-22T19:12:09.663462Z"
    }
   },
   "outputs": [],
   "source": [
    "df_hourly = pd.DataFrame(data['hourly'])\r\n",
    "df_daily = pd.DataFrame(data['daily'])"
   ]
  },
  {
   "cell_type": "code",
   "execution_count": 8,
   "metadata": {
    "execution": {
     "iopub.execute_input": "2021-08-22T19:12:09.668347Z",
     "iopub.status.busy": "2021-08-22T19:12:09.667772Z",
     "iopub.status.idle": "2021-08-22T19:12:09.689066Z",
     "shell.execute_reply": "2021-08-22T19:12:09.689662Z"
    }
   },
   "outputs": [
    {
     "data": {
      "text/html": [
       "<div>\n",
       "<style scoped>\n",
       "    .dataframe tbody tr th:only-of-type {\n",
       "        vertical-align: middle;\n",
       "    }\n",
       "\n",
       "    .dataframe tbody tr th {\n",
       "        vertical-align: top;\n",
       "    }\n",
       "\n",
       "    .dataframe thead th {\n",
       "        text-align: right;\n",
       "    }\n",
       "</style>\n",
       "<table border=\"1\" class=\"dataframe\">\n",
       "  <thead>\n",
       "    <tr style=\"text-align: right;\">\n",
       "      <th></th>\n",
       "      <th>dt</th>\n",
       "      <th>temp</th>\n",
       "      <th>feels_like</th>\n",
       "      <th>pressure</th>\n",
       "      <th>humidity</th>\n",
       "      <th>dew_point</th>\n",
       "      <th>uvi</th>\n",
       "      <th>clouds</th>\n",
       "      <th>visibility</th>\n",
       "      <th>wind_speed</th>\n",
       "      <th>wind_deg</th>\n",
       "      <th>wind_gust</th>\n",
       "      <th>weather</th>\n",
       "      <th>pop</th>\n",
       "      <th>rain</th>\n",
       "    </tr>\n",
       "  </thead>\n",
       "  <tbody>\n",
       "    <tr>\n",
       "      <th>0</th>\n",
       "      <td>1629658800</td>\n",
       "      <td>29.71</td>\n",
       "      <td>36.71</td>\n",
       "      <td>1007</td>\n",
       "      <td>82</td>\n",
       "      <td>26.30</td>\n",
       "      <td>0.0</td>\n",
       "      <td>100</td>\n",
       "      <td>10000</td>\n",
       "      <td>3.47</td>\n",
       "      <td>217</td>\n",
       "      <td>4.77</td>\n",
       "      <td>[{'id': 500, 'main': 'Rain', 'description': 'l...</td>\n",
       "      <td>0.61</td>\n",
       "      <td>{'1h': 0.45}</td>\n",
       "    </tr>\n",
       "    <tr>\n",
       "      <th>1</th>\n",
       "      <td>1629662400</td>\n",
       "      <td>29.30</td>\n",
       "      <td>36.30</td>\n",
       "      <td>1007</td>\n",
       "      <td>83</td>\n",
       "      <td>26.11</td>\n",
       "      <td>0.0</td>\n",
       "      <td>98</td>\n",
       "      <td>10000</td>\n",
       "      <td>3.49</td>\n",
       "      <td>221</td>\n",
       "      <td>4.79</td>\n",
       "      <td>[{'id': 804, 'main': 'Clouds', 'description': ...</td>\n",
       "      <td>0.65</td>\n",
       "      <td>NaN</td>\n",
       "    </tr>\n",
       "    <tr>\n",
       "      <th>2</th>\n",
       "      <td>1629666000</td>\n",
       "      <td>28.84</td>\n",
       "      <td>34.93</td>\n",
       "      <td>1007</td>\n",
       "      <td>83</td>\n",
       "      <td>25.66</td>\n",
       "      <td>0.0</td>\n",
       "      <td>96</td>\n",
       "      <td>10000</td>\n",
       "      <td>2.77</td>\n",
       "      <td>220</td>\n",
       "      <td>3.90</td>\n",
       "      <td>[{'id': 804, 'main': 'Clouds', 'description': ...</td>\n",
       "      <td>0.72</td>\n",
       "      <td>NaN</td>\n",
       "    </tr>\n",
       "    <tr>\n",
       "      <th>3</th>\n",
       "      <td>1629669600</td>\n",
       "      <td>28.47</td>\n",
       "      <td>34.06</td>\n",
       "      <td>1007</td>\n",
       "      <td>84</td>\n",
       "      <td>25.50</td>\n",
       "      <td>0.0</td>\n",
       "      <td>87</td>\n",
       "      <td>10000</td>\n",
       "      <td>3.63</td>\n",
       "      <td>218</td>\n",
       "      <td>4.70</td>\n",
       "      <td>[{'id': 500, 'main': 'Rain', 'description': 'l...</td>\n",
       "      <td>0.67</td>\n",
       "      <td>{'1h': 0.12}</td>\n",
       "    </tr>\n",
       "    <tr>\n",
       "      <th>4</th>\n",
       "      <td>1629673200</td>\n",
       "      <td>28.38</td>\n",
       "      <td>33.43</td>\n",
       "      <td>1007</td>\n",
       "      <td>82</td>\n",
       "      <td>25.01</td>\n",
       "      <td>0.4</td>\n",
       "      <td>85</td>\n",
       "      <td>10000</td>\n",
       "      <td>3.73</td>\n",
       "      <td>224</td>\n",
       "      <td>5.11</td>\n",
       "      <td>[{'id': 500, 'main': 'Rain', 'description': 'l...</td>\n",
       "      <td>0.70</td>\n",
       "      <td>{'1h': 0.11}</td>\n",
       "    </tr>\n",
       "  </tbody>\n",
       "</table>\n",
       "</div>"
      ],
      "text/plain": [
       "           dt   temp  feels_like  pressure  humidity  dew_point  uvi  clouds  \\\n",
       "0  1629658800  29.71       36.71      1007        82      26.30  0.0     100   \n",
       "1  1629662400  29.30       36.30      1007        83      26.11  0.0      98   \n",
       "2  1629666000  28.84       34.93      1007        83      25.66  0.0      96   \n",
       "3  1629669600  28.47       34.06      1007        84      25.50  0.0      87   \n",
       "4  1629673200  28.38       33.43      1007        82      25.01  0.4      85   \n",
       "\n",
       "   visibility  wind_speed  wind_deg  wind_gust  \\\n",
       "0       10000        3.47       217       4.77   \n",
       "1       10000        3.49       221       4.79   \n",
       "2       10000        2.77       220       3.90   \n",
       "3       10000        3.63       218       4.70   \n",
       "4       10000        3.73       224       5.11   \n",
       "\n",
       "                                             weather   pop          rain  \n",
       "0  [{'id': 500, 'main': 'Rain', 'description': 'l...  0.61  {'1h': 0.45}  \n",
       "1  [{'id': 804, 'main': 'Clouds', 'description': ...  0.65           NaN  \n",
       "2  [{'id': 804, 'main': 'Clouds', 'description': ...  0.72           NaN  \n",
       "3  [{'id': 500, 'main': 'Rain', 'description': 'l...  0.67  {'1h': 0.12}  \n",
       "4  [{'id': 500, 'main': 'Rain', 'description': 'l...  0.70  {'1h': 0.11}  "
      ]
     },
     "execution_count": 8,
     "metadata": {},
     "output_type": "execute_result"
    }
   ],
   "source": [
    "df_hourly.head()"
   ]
  },
  {
   "cell_type": "code",
   "execution_count": 9,
   "metadata": {
    "execution": {
     "iopub.execute_input": "2021-08-22T19:12:09.714967Z",
     "iopub.status.busy": "2021-08-22T19:12:09.712647Z",
     "iopub.status.idle": "2021-08-22T19:12:10.019626Z",
     "shell.execute_reply": "2021-08-22T19:12:10.020111Z"
    }
   },
   "outputs": [
    {
     "data": {
      "image/png": "[encoded data removed]",
      "text/plain": [
       "<Figure size 864x432 with 1 Axes>"
      ]
     },
     "metadata": {
      "needs_background": "light"
     },
     "output_type": "display_data"
    }
   ],
   "source": [
    "fig, ax = plt.subplots(figsize=(12, 6))\r\n",
    "plt.plot(df_hourly.temp, '.-')\r\n",
    "ax.set(title='Temperature in future 48 hours', xlabel='Time', ylabel='Temperature')\r\n",
    "ax.set_xticks(list(range(0, len(df_hourly), 2)))\r\n",
    "ax.set_xticklabels([ts2dt(ts, '%m-%d %H:%M') for i, ts in enumerate(df_hourly.dt) if i%2==0], \r\n",
    "                   rotation=45, ha=\"right\")\r\n",
    "plt.show()"
   ]
  },
  {
   "cell_type": "code",
   "execution_count": null,
   "metadata": {},
   "outputs": [],
   "source": []
  }
 ],
 "metadata": {
  "interpreter": {
   "hash": "c1b4cfe941b6d2466ad1fb5979e97da9cda8801728c8091b097ab734208fc00c"
  },
  "kernelspec": {
   "display_name": "Python 3.8.3 64-bit ('base': conda)",
   "name": "python3"
  },
  "language_info": {
   "codemirror_mode": {
    "name": "ipython",
    "version": 3
   },
   "file_extension": ".py",
   "mimetype": "text/x-python",
   "name": "python",
   "nbconvert_exporter": "python",
   "pygments_lexer": "ipython3",
   "version": "3.8.11"
  }
 },
 "nbformat": 4,
 "nbformat_minor": 2
}
