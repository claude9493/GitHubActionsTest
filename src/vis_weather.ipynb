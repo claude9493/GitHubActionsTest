{
 "cells": [
  {
   "cell_type": "code",
   "execution_count": 1,
   "metadata": {
    "execution": {
     "iopub.execute_input": "2021-08-27T20:38:34.940379Z",
     "iopub.status.busy": "2021-08-27T20:38:34.939726Z",
     "iopub.status.idle": "2021-08-27T20:38:36.437058Z",
     "shell.execute_reply": "2021-08-27T20:38:36.437531Z"
    }
   },
   "outputs": [],
   "source": [
    "import json, yaml, requests\r\n",
    "from datetime import datetime\r\n",
    "from dateutil import tz\r\n",
    "import pandas as pd\r\n",
    "from PIL import Image\r\n",
    "from io import BytesIO\r\n",
    "import matplotlib.pyplot as plt\r\n",
    "import seaborn\r\n",
    "\r\n",
    "CONFIG_PATH = \"../config/config.yaml\""
   ]
  },
  {
   "cell_type": "code",
   "execution_count": 2,
   "metadata": {
    "execution": {
     "iopub.execute_input": "2021-08-27T20:38:36.446043Z",
     "iopub.status.busy": "2021-08-27T20:38:36.443004Z",
     "iopub.status.idle": "2021-08-27T20:38:36.448547Z",
     "shell.execute_reply": "2021-08-27T20:38:36.449064Z"
    }
   },
   "outputs": [],
   "source": [
    "with open('../newest_ts', 'r') as f:\r\n",
    "    newest_ts = f.read()\r\n",
    "\r\n",
    "data_path = f\"../data/data_{newest_ts}.json\"\r\n",
    "with open(data_path, 'r') as f:\r\n",
    "    data = json.load(f)\r\n",
    "\r\n",
    "with open(CONFIG_PATH, \"r\") as stream:\r\n",
    "    config = yaml.safe_load(stream)\r\n",
    "\r\n",
    "TIME_ZONE = config['time_zone']\r\n",
    "DATETIME_FORMAT = config['dt_format']"
   ]
  },
  {
   "cell_type": "code",
   "execution_count": 3,
   "metadata": {
    "execution": {
     "iopub.execute_input": "2021-08-27T20:38:36.456687Z",
     "iopub.status.busy": "2021-08-27T20:38:36.454558Z",
     "iopub.status.idle": "2021-08-27T20:38:36.459919Z",
     "shell.execute_reply": "2021-08-27T20:38:36.460392Z"
    }
   },
   "outputs": [
    {
     "name": "stdout",
     "output_type": "stream",
     "text": [
      "Recent query happens at 2021-08-28 04:38:32 (CST).\n"
     ]
    }
   ],
   "source": [
    "def ts2dt(ts, format=DATETIME_FORMAT):\r\n",
    "    dt = (datetime.utcfromtimestamp(int(ts))\r\n",
    "                    .replace(tzinfo=tz.tzutc())\r\n",
    "                    # .astimezone(tz.tzlocal())\r\n",
    "                    .astimezone(tz.gettz(TIME_ZONE)))\r\n",
    "    return dt.strftime(format), dt\r\n",
    "\r\n",
    "_, newest_dt = ts2dt(newest_ts)\r\n",
    "print(f\"Recent query happens at {newest_dt.strftime(DATETIME_FORMAT)} ({newest_dt.tzname()}).\")"
   ]
  },
  {
   "cell_type": "code",
   "execution_count": 4,
   "metadata": {
    "execution": {
     "iopub.execute_input": "2021-08-27T20:38:36.467170Z",
     "iopub.status.busy": "2021-08-27T20:38:36.465623Z",
     "iopub.status.idle": "2021-08-27T20:38:36.467874Z",
     "shell.execute_reply": "2021-08-27T20:38:36.468324Z"
    }
   },
   "outputs": [],
   "source": [
    "def degrees_to_cardinal(d):\r\n",
    "  dirs = ['N', 'NNE', 'NE', 'ENE', 'E', 'ESE', 'SE', 'SSE', 'S', 'SSW', 'SW', 'WSW', 'W', 'WNW', 'NW', 'NNW']\r\n",
    "  ix = int(round(d / (360. / len(dirs))))\r\n",
    "  return dirs[ix % len(dirs)]"
   ]
  },
  {
   "cell_type": "code",
   "execution_count": 5,
   "metadata": {
    "execution": {
     "iopub.execute_input": "2021-08-27T20:38:36.474187Z",
     "iopub.status.busy": "2021-08-27T20:38:36.472013Z",
     "iopub.status.idle": "2021-08-27T20:38:36.474938Z",
     "shell.execute_reply": "2021-08-27T20:38:36.475476Z"
    }
   },
   "outputs": [],
   "source": [
    "# data.keys()"
   ]
  },
  {
   "cell_type": "code",
   "execution_count": 6,
   "metadata": {
    "execution": {
     "iopub.execute_input": "2021-08-27T20:38:36.480345Z",
     "iopub.status.busy": "2021-08-27T20:38:36.478935Z",
     "iopub.status.idle": "2021-08-27T20:38:36.481084Z",
     "shell.execute_reply": "2021-08-27T20:38:36.481657Z"
    }
   },
   "outputs": [],
   "source": [
    "# data['current']"
   ]
  },
  {
   "cell_type": "code",
   "execution_count": 7,
   "metadata": {
    "execution": {
     "iopub.execute_input": "2021-08-27T20:38:36.505183Z",
     "iopub.status.busy": "2021-08-27T20:38:36.488949Z",
     "iopub.status.idle": "2021-08-27T20:38:36.931570Z",
     "shell.execute_reply": "2021-08-27T20:38:36.932377Z"
    }
   },
   "outputs": [
    {
     "data": {
      "image/png": "[encoded data removed]",
      "text/plain": [
       "<Figure size 216x216 with 1 Axes>"
      ]
     },
     "metadata": {
      "needs_background": "light"
     },
     "output_type": "display_data"
    },
    {
     "name": "stdout",
     "output_type": "stream",
     "text": [
      "Today, sun rises at 06:04 and sets at 18:44.\n",
      "Currently, the weather is Clouds (scattered clouds).\n",
      "The temperature is 25.63°C and it feels like 26.34°C.\n",
      "The UV index is 0, humidity is 80%.\n",
      "The pressure is 1010 hPa, percentage of cloud cover is 30%\n",
      "The wind comes from E direction with a speed 4.79 m/s.\n"
     ]
    }
   ],
   "source": [
    "current = data['current']\r\n",
    "\r\n",
    "fig, ax = plt.subplots(figsize=(3, 3))\r\n",
    "icon = requests.get(f\"http://openweathermap.org/img/wn/{current['weather'][0]['icon']}@2x.png\")\r\n",
    "im = Image.open(BytesIO(icon.content))\r\n",
    "plt.imshow(im)\r\n",
    "ax.set_axis_off()\r\n",
    "plt.show()\r\n",
    "\r\n",
    "print(f\"Today, sun rises at {ts2dt(current['sunrise'], '%H:%M')[0]} \\\r\n",
    "and sets at {ts2dt(current['sunset'], '%H:%M')[0]}.\\n\\\r\n",
    "Currently, the weather is {current['weather'][0]['main']} ({current['weather'][0]['description']}).\\n\\\r\n",
    "The temperature is {current['temp']}°C and it feels like {current['feels_like']}°C.\\n\\\r\n",
    "The UV index is {current['uvi']}, humidity is {current['humidity']}%.\\n\\\r\n",
    "The pressure is {current['pressure']} hPa, percentage of cloud cover is {current['clouds']}%\\n\\\r\n",
    "The wind comes from {degrees_to_cardinal(current['wind_deg'])} direction with a speed {current['wind_speed']} m/s.\")"
   ]
  },
  {
   "cell_type": "code",
   "execution_count": 8,
   "metadata": {
    "execution": {
     "iopub.execute_input": "2021-08-27T20:38:36.935848Z",
     "iopub.status.busy": "2021-08-27T20:38:36.935308Z",
     "iopub.status.idle": "2021-08-27T20:38:36.942863Z",
     "shell.execute_reply": "2021-08-27T20:38:36.943674Z"
    }
   },
   "outputs": [],
   "source": [
    "df_hourly = pd.DataFrame(data['hourly'])\r\n",
    "df_daily = pd.DataFrame(data['daily'])"
   ]
  },
  {
   "cell_type": "code",
   "execution_count": 9,
   "metadata": {
    "execution": {
     "iopub.execute_input": "2021-08-27T20:38:36.947578Z",
     "iopub.status.busy": "2021-08-27T20:38:36.946487Z",
     "iopub.status.idle": "2021-08-27T20:38:37.284192Z",
     "shell.execute_reply": "2021-08-27T20:38:37.284690Z"
    }
   },
   "outputs": [
    {
     "data": {
      "image/png": "[encoded data removed]",
      "text/plain": [
       "<Figure size 864x432 with 1 Axes>"
      ]
     },
     "metadata": {
      "needs_background": "light"
     },
     "output_type": "display_data"
    }
   ],
   "source": [
    "fig, ax = plt.subplots(figsize=(12, 6))\r\n",
    "plt.plot(df_hourly.temp, '.-', label='Temperature')\r\n",
    "plt.plot(df_hourly.feels_like, '.-', label='Feels Like')\r\n",
    "ax.set(title='Temperature in future 48 hours', xlabel='Time', ylabel='Temperature')\r\n",
    "ax.set_xticks(list(range(0, len(df_hourly), 2)))\r\n",
    "ax.set_xticklabels([ts2dt(ts, '%m-%d %H:%M')[0] for i, ts in enumerate(df_hourly.dt) if i%2==0], \r\n",
    "                   rotation=45, ha=\"right\")\r\n",
    "ax.locator_params(nbins=15, axis='y')\r\n",
    "plt.legend()\r\n",
    "plt.show()"
   ]
  },
  {
   "cell_type": "code",
   "execution_count": 10,
   "metadata": {
    "execution": {
     "iopub.execute_input": "2021-08-27T20:38:37.290486Z",
     "iopub.status.busy": "2021-08-27T20:38:37.289744Z",
     "iopub.status.idle": "2021-08-27T20:38:37.311141Z",
     "shell.execute_reply": "2021-08-27T20:38:37.311730Z"
    }
   },
   "outputs": [
    {
     "data": {
      "text/html": [
       "<div>\n",
       "<style scoped>\n",
       "    .dataframe tbody tr th:only-of-type {\n",
       "        vertical-align: middle;\n",
       "    }\n",
       "\n",
       "    .dataframe tbody tr th {\n",
       "        vertical-align: top;\n",
       "    }\n",
       "\n",
       "    .dataframe thead th {\n",
       "        text-align: right;\n",
       "    }\n",
       "</style>\n",
       "<table border=\"1\" class=\"dataframe\">\n",
       "  <thead>\n",
       "    <tr style=\"text-align: right;\">\n",
       "      <th></th>\n",
       "      <th>dt</th>\n",
       "      <th>temp</th>\n",
       "      <th>feels_like</th>\n",
       "      <th>pressure</th>\n",
       "      <th>humidity</th>\n",
       "      <th>dew_point</th>\n",
       "      <th>uvi</th>\n",
       "      <th>clouds</th>\n",
       "      <th>visibility</th>\n",
       "      <th>wind_speed</th>\n",
       "      <th>wind_deg</th>\n",
       "      <th>wind_gust</th>\n",
       "      <th>weather</th>\n",
       "      <th>pop</th>\n",
       "      <th>rain</th>\n",
       "    </tr>\n",
       "  </thead>\n",
       "  <tbody>\n",
       "    <tr>\n",
       "      <th>0</th>\n",
       "      <td>1630094400</td>\n",
       "      <td>25.98</td>\n",
       "      <td>25.98</td>\n",
       "      <td>1010</td>\n",
       "      <td>81</td>\n",
       "      <td>22.47</td>\n",
       "      <td>0.00</td>\n",
       "      <td>27</td>\n",
       "      <td>10000</td>\n",
       "      <td>4.95</td>\n",
       "      <td>92</td>\n",
       "      <td>6.97</td>\n",
       "      <td>[{'id': 500, 'main': 'Rain', 'description': 'l...</td>\n",
       "      <td>0.65</td>\n",
       "      <td>{'1h': 0.5}</td>\n",
       "    </tr>\n",
       "    <tr>\n",
       "      <th>1</th>\n",
       "      <td>1630098000</td>\n",
       "      <td>25.63</td>\n",
       "      <td>26.34</td>\n",
       "      <td>1010</td>\n",
       "      <td>80</td>\n",
       "      <td>21.92</td>\n",
       "      <td>0.00</td>\n",
       "      <td>30</td>\n",
       "      <td>10000</td>\n",
       "      <td>4.79</td>\n",
       "      <td>89</td>\n",
       "      <td>6.53</td>\n",
       "      <td>[{'id': 802, 'main': 'Clouds', 'description': ...</td>\n",
       "      <td>0.85</td>\n",
       "      <td>NaN</td>\n",
       "    </tr>\n",
       "    <tr>\n",
       "      <th>2</th>\n",
       "      <td>1630101600</td>\n",
       "      <td>26.00</td>\n",
       "      <td>26.00</td>\n",
       "      <td>1010</td>\n",
       "      <td>81</td>\n",
       "      <td>22.49</td>\n",
       "      <td>0.00</td>\n",
       "      <td>32</td>\n",
       "      <td>10000</td>\n",
       "      <td>5.05</td>\n",
       "      <td>89</td>\n",
       "      <td>6.74</td>\n",
       "      <td>[{'id': 802, 'main': 'Clouds', 'description': ...</td>\n",
       "      <td>0.85</td>\n",
       "      <td>NaN</td>\n",
       "    </tr>\n",
       "    <tr>\n",
       "      <th>3</th>\n",
       "      <td>1630105200</td>\n",
       "      <td>26.44</td>\n",
       "      <td>26.44</td>\n",
       "      <td>1010</td>\n",
       "      <td>81</td>\n",
       "      <td>22.91</td>\n",
       "      <td>0.35</td>\n",
       "      <td>34</td>\n",
       "      <td>10000</td>\n",
       "      <td>5.35</td>\n",
       "      <td>89</td>\n",
       "      <td>7.22</td>\n",
       "      <td>[{'id': 802, 'main': 'Clouds', 'description': ...</td>\n",
       "      <td>0.85</td>\n",
       "      <td>NaN</td>\n",
       "    </tr>\n",
       "    <tr>\n",
       "      <th>4</th>\n",
       "      <td>1630108800</td>\n",
       "      <td>26.99</td>\n",
       "      <td>29.81</td>\n",
       "      <td>1011</td>\n",
       "      <td>81</td>\n",
       "      <td>23.45</td>\n",
       "      <td>1.55</td>\n",
       "      <td>42</td>\n",
       "      <td>10000</td>\n",
       "      <td>5.63</td>\n",
       "      <td>91</td>\n",
       "      <td>7.30</td>\n",
       "      <td>[{'id': 500, 'main': 'Rain', 'description': 'l...</td>\n",
       "      <td>0.85</td>\n",
       "      <td>{'1h': 0.48}</td>\n",
       "    </tr>\n",
       "  </tbody>\n",
       "</table>\n",
       "</div>"
      ],
      "text/plain": [
       "           dt   temp  feels_like  pressure  humidity  dew_point   uvi  clouds  \\\n",
       "0  1630094400  25.98       25.98      1010        81      22.47  0.00      27   \n",
       "1  1630098000  25.63       26.34      1010        80      21.92  0.00      30   \n",
       "2  1630101600  26.00       26.00      1010        81      22.49  0.00      32   \n",
       "3  1630105200  26.44       26.44      1010        81      22.91  0.35      34   \n",
       "4  1630108800  26.99       29.81      1011        81      23.45  1.55      42   \n",
       "\n",
       "   visibility  wind_speed  wind_deg  wind_gust  \\\n",
       "0       10000        4.95        92       6.97   \n",
       "1       10000        4.79        89       6.53   \n",
       "2       10000        5.05        89       6.74   \n",
       "3       10000        5.35        89       7.22   \n",
       "4       10000        5.63        91       7.30   \n",
       "\n",
       "                                             weather   pop          rain  \n",
       "0  [{'id': 500, 'main': 'Rain', 'description': 'l...  0.65   {'1h': 0.5}  \n",
       "1  [{'id': 802, 'main': 'Clouds', 'description': ...  0.85           NaN  \n",
       "2  [{'id': 802, 'main': 'Clouds', 'description': ...  0.85           NaN  \n",
       "3  [{'id': 802, 'main': 'Clouds', 'description': ...  0.85           NaN  \n",
       "4  [{'id': 500, 'main': 'Rain', 'description': 'l...  0.85  {'1h': 0.48}  "
      ]
     },
     "execution_count": 10,
     "metadata": {},
     "output_type": "execute_result"
    }
   ],
   "source": [
    "df_hourly.head()"
   ]
  },
  {
   "cell_type": "code",
   "execution_count": null,
   "metadata": {},
   "outputs": [],
   "source": []
  }
 ],
 "metadata": {
  "interpreter": {
   "hash": "c1b4cfe941b6d2466ad1fb5979e97da9cda8801728c8091b097ab734208fc00c"
  },
  "kernelspec": {
   "display_name": "Python 3.8.3 64-bit ('base': conda)",
   "name": "python3"
  },
  "language_info": {
   "codemirror_mode": {
    "name": "ipython",
    "version": 3
   },
   "file_extension": ".py",
   "mimetype": "text/x-python",
   "name": "python",
   "nbconvert_exporter": "python",
   "pygments_lexer": "ipython3",
   "version": "3.8.11"
  }
 },
 "nbformat": 4,
 "nbformat_minor": 2
}
