{
 "cells": [
  {
   "cell_type": "code",
   "execution_count": 1,
   "metadata": {
    "execution": {
     "iopub.execute_input": "2021-10-15T04:15:02.021195Z",
     "iopub.status.busy": "2021-10-15T04:15:02.020671Z",
     "iopub.status.idle": "2021-10-15T04:15:03.180151Z",
     "shell.execute_reply": "2021-10-15T04:15:03.179182Z"
    }
   },
   "outputs": [],
   "source": [
    "import json, yaml, requests\r\n",
    "from datetime import datetime\r\n",
    "from dateutil import tz\r\n",
    "import pandas as pd\r\n",
    "from PIL import Image\r\n",
    "from io import BytesIO\r\n",
    "import matplotlib.pyplot as plt\r\n",
    "import seaborn\r\n",
    "\r\n",
    "CONFIG_PATH = \"../config/config.yaml\""
   ]
  },
  {
   "cell_type": "code",
   "execution_count": 2,
   "metadata": {
    "execution": {
     "iopub.execute_input": "2021-10-15T04:15:03.185314Z",
     "iopub.status.busy": "2021-10-15T04:15:03.184504Z",
     "iopub.status.idle": "2021-10-15T04:15:03.189647Z",
     "shell.execute_reply": "2021-10-15T04:15:03.188953Z"
    }
   },
   "outputs": [],
   "source": [
    "with open('../newest_ts', 'r') as f:\r\n",
    "    newest_ts = f.read()\r\n",
    "\r\n",
    "data_path = f\"../data/data_{newest_ts}.json\"\r\n",
    "with open(data_path, 'r') as f:\r\n",
    "    data = json.load(f)\r\n",
    "\r\n",
    "with open(CONFIG_PATH, \"r\") as stream:\r\n",
    "    config = yaml.safe_load(stream)\r\n",
    "\r\n",
    "TIME_ZONE = config['time_zone']\r\n",
    "DATETIME_FORMAT = config['dt_format']"
   ]
  },
  {
   "cell_type": "code",
   "execution_count": 3,
   "metadata": {
    "execution": {
     "iopub.execute_input": "2021-10-15T04:15:03.194090Z",
     "iopub.status.busy": "2021-10-15T04:15:03.193604Z",
     "iopub.status.idle": "2021-10-15T04:15:03.201375Z",
     "shell.execute_reply": "2021-10-15T04:15:03.200937Z"
    }
   },
   "outputs": [
    {
     "name": "stdout",
     "output_type": "stream",
     "text": [
      "Recent query happens at 2021-10-15 12:14:59 (CST).\n"
     ]
    }
   ],
   "source": [
    "def ts2dt(ts, format=DATETIME_FORMAT):\r\n",
    "    dt = (datetime.utcfromtimestamp(int(ts))\r\n",
    "                    .replace(tzinfo=tz.tzutc())\r\n",
    "                    # .astimezone(tz.tzlocal())\r\n",
    "                    .astimezone(tz.gettz(TIME_ZONE)))\r\n",
    "    return dt.strftime(format), dt\r\n",
    "\r\n",
    "_, newest_dt = ts2dt(newest_ts)\r\n",
    "print(f\"Recent query happens at {newest_dt.strftime(DATETIME_FORMAT)} ({newest_dt.tzname()}).\")"
   ]
  },
  {
   "cell_type": "code",
   "execution_count": 4,
   "metadata": {
    "execution": {
     "iopub.execute_input": "2021-10-15T04:15:03.205656Z",
     "iopub.status.busy": "2021-10-15T04:15:03.205199Z",
     "iopub.status.idle": "2021-10-15T04:15:03.208212Z",
     "shell.execute_reply": "2021-10-15T04:15:03.207812Z"
    }
   },
   "outputs": [],
   "source": [
    "def degrees_to_cardinal(d):\r\n",
    "  dirs = ['N', 'NNE', 'NE', 'ENE', 'E', 'ESE', 'SE', 'SSE', 'S', 'SSW', 'SW', 'WSW', 'W', 'WNW', 'NW', 'NNW']\r\n",
    "  ix = int(round(d / (360. / len(dirs))))\r\n",
    "  return dirs[ix % len(dirs)]"
   ]
  },
  {
   "cell_type": "code",
   "execution_count": 5,
   "metadata": {
    "execution": {
     "iopub.execute_input": "2021-10-15T04:15:03.211281Z",
     "iopub.status.busy": "2021-10-15T04:15:03.210833Z",
     "iopub.status.idle": "2021-10-15T04:15:03.213753Z",
     "shell.execute_reply": "2021-10-15T04:15:03.213380Z"
    }
   },
   "outputs": [],
   "source": [
    "# data.keys()"
   ]
  },
  {
   "cell_type": "code",
   "execution_count": 6,
   "metadata": {
    "execution": {
     "iopub.execute_input": "2021-10-15T04:15:03.216975Z",
     "iopub.status.busy": "2021-10-15T04:15:03.216148Z",
     "iopub.status.idle": "2021-10-15T04:15:03.219061Z",
     "shell.execute_reply": "2021-10-15T04:15:03.218694Z"
    }
   },
   "outputs": [],
   "source": [
    "# data['current']"
   ]
  },
  {
   "cell_type": "code",
   "execution_count": 7,
   "metadata": {
    "execution": {
     "iopub.execute_input": "2021-10-15T04:15:03.235374Z",
     "iopub.status.busy": "2021-10-15T04:15:03.234909Z",
     "iopub.status.idle": "2021-10-15T04:15:03.772081Z",
     "shell.execute_reply": "2021-10-15T04:15:03.771643Z"
    }
   },
   "outputs": [
    {
     "data": {
      "image/png": "[encoded data removed]",
      "text/plain": [
       "<Figure size 216x216 with 1 Axes>"
      ]
     },
     "metadata": {
      "needs_background": "light"
     },
     "output_type": "display_data"
    },
    {
     "name": "stdout",
     "output_type": "stream",
     "text": [
      "Today, sun rises at 06:18 and sets at 17:58.\n",
      "Currently, the weather is Rain (light rain).\n",
      "The temperature is 26.07°C and it feels like 26.07°C.\n",
      "The UV index is 3.28, humidity is 88%.\n",
      "The pressure is 1010 hPa, percentage of cloud cover is 100%\n",
      "The wind comes from WSW direction with a speed 0.45 m/s.\n"
     ]
    }
   ],
   "source": [
    "current = data['current']\r\n",
    "\r\n",
    "fig, ax = plt.subplots(figsize=(3, 3))\r\n",
    "icon = requests.get(f\"http://openweathermap.org/img/wn/{current['weather'][0]['icon']}@2x.png\")\r\n",
    "im = Image.open(BytesIO(icon.content))\r\n",
    "plt.imshow(im)\r\n",
    "ax.set_axis_off()\r\n",
    "plt.show()\r\n",
    "\r\n",
    "print(f\"Today, sun rises at {ts2dt(current['sunrise'], '%H:%M')[0]} \\\r\n",
    "and sets at {ts2dt(current['sunset'], '%H:%M')[0]}.\\n\\\r\n",
    "Currently, the weather is {current['weather'][0]['main']} ({current['weather'][0]['description']}).\\n\\\r\n",
    "The temperature is {current['temp']}°C and it feels like {current['feels_like']}°C.\\n\\\r\n",
    "The UV index is {current['uvi']}, humidity is {current['humidity']}%.\\n\\\r\n",
    "The pressure is {current['pressure']} hPa, percentage of cloud cover is {current['clouds']}%\\n\\\r\n",
    "The wind comes from {degrees_to_cardinal(current['wind_deg'])} direction with a speed {current['wind_speed']} m/s.\")"
   ]
  },
  {
   "cell_type": "code",
   "execution_count": 8,
   "metadata": {
    "execution": {
     "iopub.execute_input": "2021-10-15T04:15:03.774681Z",
     "iopub.status.busy": "2021-10-15T04:15:03.774221Z",
     "iopub.status.idle": "2021-10-15T04:15:03.780597Z",
     "shell.execute_reply": "2021-10-15T04:15:03.781238Z"
    }
   },
   "outputs": [],
   "source": [
    "df_hourly = pd.DataFrame(data['hourly'])\r\n",
    "df_daily = pd.DataFrame(data['daily'])"
   ]
  },
  {
   "cell_type": "code",
   "execution_count": 9,
   "metadata": {
    "execution": {
     "iopub.execute_input": "2021-10-15T04:15:03.784347Z",
     "iopub.status.busy": "2021-10-15T04:15:03.783386Z",
     "iopub.status.idle": "2021-10-15T04:15:04.013900Z",
     "shell.execute_reply": "2021-10-15T04:15:04.013026Z"
    }
   },
   "outputs": [
    {
     "data": {
      "image/png": "[encoded data removed]",
      "text/plain": [
       "<Figure size 864x432 with 1 Axes>"
      ]
     },
     "metadata": {
      "needs_background": "light"
     },
     "output_type": "display_data"
    }
   ],
   "source": [
    "fig, ax = plt.subplots(figsize=(12, 6))\r\n",
    "plt.plot(df_hourly.temp, '.-', label='Temperature')\r\n",
    "plt.plot(df_hourly.feels_like, '.-', label='Feels Like')\r\n",
    "ax.set(title='Temperature in future 48 hours', xlabel='Time', ylabel='Temperature')\r\n",
    "ax.set_xticks(list(range(0, len(df_hourly), 2)))\r\n",
    "ax.set_xticklabels([ts2dt(ts, '%m-%d %H:%M')[0] for i, ts in enumerate(df_hourly.dt) if i%2==0], \r\n",
    "                   rotation=45, ha=\"right\")\r\n",
    "ax.locator_params(nbins=15, axis='y')\r\n",
    "plt.legend()\r\n",
    "plt.show()"
   ]
  },
  {
   "cell_type": "code",
   "execution_count": 10,
   "metadata": {
    "execution": {
     "iopub.execute_input": "2021-10-15T04:15:04.025289Z",
     "iopub.status.busy": "2021-10-15T04:15:04.017641Z",
     "iopub.status.idle": "2021-10-15T04:15:04.037074Z",
     "shell.execute_reply": "2021-10-15T04:15:04.036676Z"
    }
   },
   "outputs": [
    {
     "data": {
      "text/html": [
       "<div>\n",
       "<style scoped>\n",
       "    .dataframe tbody tr th:only-of-type {\n",
       "        vertical-align: middle;\n",
       "    }\n",
       "\n",
       "    .dataframe tbody tr th {\n",
       "        vertical-align: top;\n",
       "    }\n",
       "\n",
       "    .dataframe thead th {\n",
       "        text-align: right;\n",
       "    }\n",
       "</style>\n",
       "<table border=\"1\" class=\"dataframe\">\n",
       "  <thead>\n",
       "    <tr style=\"text-align: right;\">\n",
       "      <th></th>\n",
       "      <th>dt</th>\n",
       "      <th>temp</th>\n",
       "      <th>feels_like</th>\n",
       "      <th>pressure</th>\n",
       "      <th>humidity</th>\n",
       "      <th>dew_point</th>\n",
       "      <th>uvi</th>\n",
       "      <th>clouds</th>\n",
       "      <th>visibility</th>\n",
       "      <th>wind_speed</th>\n",
       "      <th>wind_deg</th>\n",
       "      <th>wind_gust</th>\n",
       "      <th>weather</th>\n",
       "      <th>pop</th>\n",
       "      <th>rain</th>\n",
       "    </tr>\n",
       "  </thead>\n",
       "  <tbody>\n",
       "    <tr>\n",
       "      <th>0</th>\n",
       "      <td>1634270400</td>\n",
       "      <td>26.07</td>\n",
       "      <td>26.07</td>\n",
       "      <td>1010</td>\n",
       "      <td>88</td>\n",
       "      <td>23.93</td>\n",
       "      <td>3.28</td>\n",
       "      <td>100</td>\n",
       "      <td>10000</td>\n",
       "      <td>3.72</td>\n",
       "      <td>34</td>\n",
       "      <td>5.33</td>\n",
       "      <td>[{'id': 500, 'main': 'Rain', 'description': 'l...</td>\n",
       "      <td>0.67</td>\n",
       "      <td>{'1h': 0.4}</td>\n",
       "    </tr>\n",
       "    <tr>\n",
       "      <th>1</th>\n",
       "      <td>1634274000</td>\n",
       "      <td>25.79</td>\n",
       "      <td>26.72</td>\n",
       "      <td>1010</td>\n",
       "      <td>88</td>\n",
       "      <td>23.65</td>\n",
       "      <td>3.22</td>\n",
       "      <td>100</td>\n",
       "      <td>10000</td>\n",
       "      <td>3.36</td>\n",
       "      <td>38</td>\n",
       "      <td>5.12</td>\n",
       "      <td>[{'id': 804, 'main': 'Clouds', 'description': ...</td>\n",
       "      <td>0.82</td>\n",
       "      <td>NaN</td>\n",
       "    </tr>\n",
       "    <tr>\n",
       "      <th>2</th>\n",
       "      <td>1634277600</td>\n",
       "      <td>25.25</td>\n",
       "      <td>26.18</td>\n",
       "      <td>1010</td>\n",
       "      <td>90</td>\n",
       "      <td>23.49</td>\n",
       "      <td>2.60</td>\n",
       "      <td>100</td>\n",
       "      <td>10000</td>\n",
       "      <td>3.12</td>\n",
       "      <td>27</td>\n",
       "      <td>4.89</td>\n",
       "      <td>[{'id': 804, 'main': 'Clouds', 'description': ...</td>\n",
       "      <td>0.87</td>\n",
       "      <td>NaN</td>\n",
       "    </tr>\n",
       "    <tr>\n",
       "      <th>3</th>\n",
       "      <td>1634281200</td>\n",
       "      <td>24.74</td>\n",
       "      <td>25.67</td>\n",
       "      <td>1009</td>\n",
       "      <td>92</td>\n",
       "      <td>23.35</td>\n",
       "      <td>0.38</td>\n",
       "      <td>100</td>\n",
       "      <td>7549</td>\n",
       "      <td>3.24</td>\n",
       "      <td>38</td>\n",
       "      <td>4.73</td>\n",
       "      <td>[{'id': 501, 'main': 'Rain', 'description': 'm...</td>\n",
       "      <td>0.90</td>\n",
       "      <td>{'1h': 2.47}</td>\n",
       "    </tr>\n",
       "    <tr>\n",
       "      <th>4</th>\n",
       "      <td>1634284800</td>\n",
       "      <td>24.46</td>\n",
       "      <td>25.39</td>\n",
       "      <td>1009</td>\n",
       "      <td>93</td>\n",
       "      <td>23.25</td>\n",
       "      <td>0.18</td>\n",
       "      <td>100</td>\n",
       "      <td>8132</td>\n",
       "      <td>4.76</td>\n",
       "      <td>64</td>\n",
       "      <td>6.90</td>\n",
       "      <td>[{'id': 501, 'main': 'Rain', 'description': 'm...</td>\n",
       "      <td>0.96</td>\n",
       "      <td>{'1h': 3.63}</td>\n",
       "    </tr>\n",
       "  </tbody>\n",
       "</table>\n",
       "</div>"
      ],
      "text/plain": [
       "           dt   temp  feels_like  pressure  humidity  dew_point   uvi  clouds  \\\n",
       "0  1634270400  26.07       26.07      1010        88      23.93  3.28     100   \n",
       "1  1634274000  25.79       26.72      1010        88      23.65  3.22     100   \n",
       "2  1634277600  25.25       26.18      1010        90      23.49  2.60     100   \n",
       "3  1634281200  24.74       25.67      1009        92      23.35  0.38     100   \n",
       "4  1634284800  24.46       25.39      1009        93      23.25  0.18     100   \n",
       "\n",
       "   visibility  wind_speed  wind_deg  wind_gust  \\\n",
       "0       10000        3.72        34       5.33   \n",
       "1       10000        3.36        38       5.12   \n",
       "2       10000        3.12        27       4.89   \n",
       "3        7549        3.24        38       4.73   \n",
       "4        8132        4.76        64       6.90   \n",
       "\n",
       "                                             weather   pop          rain  \n",
       "0  [{'id': 500, 'main': 'Rain', 'description': 'l...  0.67   {'1h': 0.4}  \n",
       "1  [{'id': 804, 'main': 'Clouds', 'description': ...  0.82           NaN  \n",
       "2  [{'id': 804, 'main': 'Clouds', 'description': ...  0.87           NaN  \n",
       "3  [{'id': 501, 'main': 'Rain', 'description': 'm...  0.90  {'1h': 2.47}  \n",
       "4  [{'id': 501, 'main': 'Rain', 'description': 'm...  0.96  {'1h': 3.63}  "
      ]
     },
     "execution_count": 10,
     "metadata": {},
     "output_type": "execute_result"
    }
   ],
   "source": [
    "df_hourly.head()"
   ]
  },
  {
   "cell_type": "code",
   "execution_count": null,
   "metadata": {},
   "outputs": [],
   "source": []
  }
 ],
 "metadata": {
  "interpreter": {
   "hash": "c1b4cfe941b6d2466ad1fb5979e97da9cda8801728c8091b097ab734208fc00c"
  },
  "kernelspec": {
   "display_name": "Python 3.8.3 64-bit ('base': conda)",
   "name": "python3"
  },
  "language_info": {
   "codemirror_mode": {
    "name": "ipython",
    "version": 3
   },
   "file_extension": ".py",
   "mimetype": "text/x-python",
   "name": "python",
   "nbconvert_exporter": "python",
   "pygments_lexer": "ipython3",
   "version": "3.8.12"
  }
 },
 "nbformat": 4,
 "nbformat_minor": 2
}
