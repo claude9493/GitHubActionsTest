{
 "cells": [
  {
   "cell_type": "code",
   "execution_count": 1,
   "metadata": {
    "execution": {
     "iopub.execute_input": "2021-08-22T23:38:02.741596Z",
     "iopub.status.busy": "2021-08-22T23:38:02.741064Z",
     "iopub.status.idle": "2021-08-22T23:38:03.987752Z",
     "shell.execute_reply": "2021-08-22T23:38:03.988153Z"
    }
   },
   "outputs": [],
   "source": [
    "import json\r\n",
    "from datetime import datetime\r\n",
    "from dateutil import tz\r\n",
    "import pandas as pd\r\n",
    "import matplotlib.pyplot as plt\r\n",
    "import seaborn\r\n"
   ]
  },
  {
   "cell_type": "code",
   "execution_count": 2,
   "metadata": {
    "execution": {
     "iopub.execute_input": "2021-08-22T23:38:03.993962Z",
     "iopub.status.busy": "2021-08-22T23:38:03.992067Z",
     "iopub.status.idle": "2021-08-22T23:38:03.996680Z",
     "shell.execute_reply": "2021-08-22T23:38:03.995970Z"
    }
   },
   "outputs": [],
   "source": [
    "with open('../newest_ts', 'r') as f:\r\n",
    "    ts = f.read()\r\n",
    "\r\n",
    "data_path = f\"../data/data_{ts}.json\"\r\n",
    "with open(data_path, 'r') as f:\r\n",
    "    data = json.load(f)"
   ]
  },
  {
   "cell_type": "code",
   "execution_count": 3,
   "metadata": {
    "execution": {
     "iopub.execute_input": "2021-08-22T23:38:04.001185Z",
     "iopub.status.busy": "2021-08-22T23:38:04.000625Z",
     "iopub.status.idle": "2021-08-22T23:38:04.003863Z",
     "shell.execute_reply": "2021-08-22T23:38:04.004266Z"
    }
   },
   "outputs": [
    {
     "name": "stdout",
     "output_type": "stream",
     "text": [
      "Recent query happens at 2021-08-22 23:38:00\n"
     ]
    }
   ],
   "source": [
    "def ts2dt(ts, format='%Y-%m-%d %H:%M:%S'):\r\n",
    "    return (datetime.utcfromtimestamp(int(ts))\r\n",
    "                    .replace(tzinfo=tz.tzutc())\r\n",
    "                    .astimezone(tz.tzlocal())\r\n",
    "                    .strftime(format))\r\n",
    "\r\n",
    "print(f\"Recent query happens at {ts2dt(ts)}\")"
   ]
  },
  {
   "cell_type": "code",
   "execution_count": 4,
   "metadata": {
    "execution": {
     "iopub.execute_input": "2021-08-22T23:38:04.009410Z",
     "iopub.status.busy": "2021-08-22T23:38:04.006189Z",
     "iopub.status.idle": "2021-08-22T23:38:04.015445Z",
     "shell.execute_reply": "2021-08-22T23:38:04.015036Z"
    }
   },
   "outputs": [
    {
     "data": {
      "text/plain": [
       "dict_keys(['lat', 'lon', 'timezone', 'timezone_offset', 'current', 'hourly', 'daily'])"
      ]
     },
     "execution_count": 4,
     "metadata": {},
     "output_type": "execute_result"
    }
   ],
   "source": [
    "data.keys()"
   ]
  },
  {
   "cell_type": "code",
   "execution_count": 5,
   "metadata": {
    "execution": {
     "iopub.execute_input": "2021-08-22T23:38:04.020964Z",
     "iopub.status.busy": "2021-08-22T23:38:04.020092Z",
     "iopub.status.idle": "2021-08-22T23:38:04.023463Z",
     "shell.execute_reply": "2021-08-22T23:38:04.023938Z"
    }
   },
   "outputs": [
    {
     "data": {
      "text/plain": [
       "{'dt': 1629675480,\n",
       " 'sunrise': 1629669780,\n",
       " 'sunset': 1629715720,\n",
       " 'temp': 29.97,\n",
       " 'feels_like': 36.97,\n",
       " 'pressure': 1008,\n",
       " 'humidity': 84,\n",
       " 'dew_point': 26.97,\n",
       " 'uvi': 1.7,\n",
       " 'clouds': 83,\n",
       " 'visibility': 10000,\n",
       " 'wind_speed': 3.48,\n",
       " 'wind_deg': 222,\n",
       " 'wind_gust': 4.91,\n",
       " 'weather': [{'id': 803,\n",
       "   'main': 'Clouds',\n",
       "   'description': 'broken clouds',\n",
       "   'icon': '04d'}]}"
      ]
     },
     "execution_count": 5,
     "metadata": {},
     "output_type": "execute_result"
    }
   ],
   "source": [
    "data['current']"
   ]
  },
  {
   "cell_type": "code",
   "execution_count": 6,
   "metadata": {
    "execution": {
     "iopub.execute_input": "2021-08-22T23:38:04.029598Z",
     "iopub.status.busy": "2021-08-22T23:38:04.028637Z",
     "iopub.status.idle": "2021-08-22T23:38:04.031647Z",
     "shell.execute_reply": "2021-08-22T23:38:04.031239Z"
    }
   },
   "outputs": [
    {
     "data": {
      "text/plain": [
       "{'dt': 1629673200,\n",
       " 'temp': 29.59,\n",
       " 'feels_like': 36.59,\n",
       " 'pressure': 1008,\n",
       " 'humidity': 83,\n",
       " 'dew_point': 26.39,\n",
       " 'uvi': 0.4,\n",
       " 'clouds': 83,\n",
       " 'visibility': 10000,\n",
       " 'wind_speed': 3.73,\n",
       " 'wind_deg': 224,\n",
       " 'wind_gust': 5.11,\n",
       " 'weather': [{'id': 500,\n",
       "   'main': 'Rain',\n",
       "   'description': 'light rain',\n",
       "   'icon': '10d'}],\n",
       " 'pop': 0.7,\n",
       " 'rain': {'1h': 0.11}}"
      ]
     },
     "execution_count": 6,
     "metadata": {},
     "output_type": "execute_result"
    }
   ],
   "source": [
    "data['hourly'][0]"
   ]
  },
  {
   "cell_type": "code",
   "execution_count": 7,
   "metadata": {
    "execution": {
     "iopub.execute_input": "2021-08-22T23:38:04.040833Z",
     "iopub.status.busy": "2021-08-22T23:38:04.039180Z",
     "iopub.status.idle": "2021-08-22T23:38:04.041460Z",
     "shell.execute_reply": "2021-08-22T23:38:04.042159Z"
    }
   },
   "outputs": [],
   "source": [
    "df_hourly = pd.DataFrame(data['hourly'])\r\n",
    "df_daily = pd.DataFrame(data['daily'])"
   ]
  },
  {
   "cell_type": "code",
   "execution_count": 8,
   "metadata": {
    "execution": {
     "iopub.execute_input": "2021-08-22T23:38:04.055051Z",
     "iopub.status.busy": "2021-08-22T23:38:04.046444Z",
     "iopub.status.idle": "2021-08-22T23:38:04.068632Z",
     "shell.execute_reply": "2021-08-22T23:38:04.069330Z"
    }
   },
   "outputs": [
    {
     "data": {
      "text/html": [
       "<div>\n",
       "<style scoped>\n",
       "    .dataframe tbody tr th:only-of-type {\n",
       "        vertical-align: middle;\n",
       "    }\n",
       "\n",
       "    .dataframe tbody tr th {\n",
       "        vertical-align: top;\n",
       "    }\n",
       "\n",
       "    .dataframe thead th {\n",
       "        text-align: right;\n",
       "    }\n",
       "</style>\n",
       "<table border=\"1\" class=\"dataframe\">\n",
       "  <thead>\n",
       "    <tr style=\"text-align: right;\">\n",
       "      <th></th>\n",
       "      <th>dt</th>\n",
       "      <th>temp</th>\n",
       "      <th>feels_like</th>\n",
       "      <th>pressure</th>\n",
       "      <th>humidity</th>\n",
       "      <th>dew_point</th>\n",
       "      <th>uvi</th>\n",
       "      <th>clouds</th>\n",
       "      <th>visibility</th>\n",
       "      <th>wind_speed</th>\n",
       "      <th>wind_deg</th>\n",
       "      <th>wind_gust</th>\n",
       "      <th>weather</th>\n",
       "      <th>pop</th>\n",
       "      <th>rain</th>\n",
       "    </tr>\n",
       "  </thead>\n",
       "  <tbody>\n",
       "    <tr>\n",
       "      <th>0</th>\n",
       "      <td>1629673200</td>\n",
       "      <td>29.59</td>\n",
       "      <td>36.59</td>\n",
       "      <td>1008</td>\n",
       "      <td>83</td>\n",
       "      <td>26.39</td>\n",
       "      <td>0.40</td>\n",
       "      <td>83</td>\n",
       "      <td>10000</td>\n",
       "      <td>3.73</td>\n",
       "      <td>224</td>\n",
       "      <td>5.11</td>\n",
       "      <td>[{'id': 500, 'main': 'Rain', 'description': 'l...</td>\n",
       "      <td>0.70</td>\n",
       "      <td>{'1h': 0.11}</td>\n",
       "    </tr>\n",
       "    <tr>\n",
       "      <th>1</th>\n",
       "      <td>1629676800</td>\n",
       "      <td>29.97</td>\n",
       "      <td>36.97</td>\n",
       "      <td>1008</td>\n",
       "      <td>84</td>\n",
       "      <td>26.97</td>\n",
       "      <td>1.70</td>\n",
       "      <td>83</td>\n",
       "      <td>10000</td>\n",
       "      <td>3.48</td>\n",
       "      <td>222</td>\n",
       "      <td>4.91</td>\n",
       "      <td>[{'id': 803, 'main': 'Clouds', 'description': ...</td>\n",
       "      <td>0.66</td>\n",
       "      <td>NaN</td>\n",
       "    </tr>\n",
       "    <tr>\n",
       "      <th>2</th>\n",
       "      <td>1629680400</td>\n",
       "      <td>29.84</td>\n",
       "      <td>36.84</td>\n",
       "      <td>1008</td>\n",
       "      <td>82</td>\n",
       "      <td>26.43</td>\n",
       "      <td>4.24</td>\n",
       "      <td>72</td>\n",
       "      <td>10000</td>\n",
       "      <td>3.55</td>\n",
       "      <td>228</td>\n",
       "      <td>4.73</td>\n",
       "      <td>[{'id': 803, 'main': 'Clouds', 'description': ...</td>\n",
       "      <td>0.58</td>\n",
       "      <td>NaN</td>\n",
       "    </tr>\n",
       "    <tr>\n",
       "      <th>3</th>\n",
       "      <td>1629684000</td>\n",
       "      <td>29.91</td>\n",
       "      <td>36.84</td>\n",
       "      <td>1008</td>\n",
       "      <td>78</td>\n",
       "      <td>25.65</td>\n",
       "      <td>7.50</td>\n",
       "      <td>59</td>\n",
       "      <td>10000</td>\n",
       "      <td>3.46</td>\n",
       "      <td>223</td>\n",
       "      <td>4.33</td>\n",
       "      <td>[{'id': 803, 'main': 'Clouds', 'description': ...</td>\n",
       "      <td>0.63</td>\n",
       "      <td>NaN</td>\n",
       "    </tr>\n",
       "    <tr>\n",
       "      <th>4</th>\n",
       "      <td>1629687600</td>\n",
       "      <td>30.10</td>\n",
       "      <td>36.57</td>\n",
       "      <td>1008</td>\n",
       "      <td>75</td>\n",
       "      <td>25.18</td>\n",
       "      <td>10.47</td>\n",
       "      <td>45</td>\n",
       "      <td>10000</td>\n",
       "      <td>4.07</td>\n",
       "      <td>223</td>\n",
       "      <td>4.59</td>\n",
       "      <td>[{'id': 500, 'main': 'Rain', 'description': 'l...</td>\n",
       "      <td>0.64</td>\n",
       "      <td>{'1h': 0.23}</td>\n",
       "    </tr>\n",
       "  </tbody>\n",
       "</table>\n",
       "</div>"
      ],
      "text/plain": [
       "           dt   temp  feels_like  pressure  humidity  dew_point    uvi  \\\n",
       "0  1629673200  29.59       36.59      1008        83      26.39   0.40   \n",
       "1  1629676800  29.97       36.97      1008        84      26.97   1.70   \n",
       "2  1629680400  29.84       36.84      1008        82      26.43   4.24   \n",
       "3  1629684000  29.91       36.84      1008        78      25.65   7.50   \n",
       "4  1629687600  30.10       36.57      1008        75      25.18  10.47   \n",
       "\n",
       "   clouds  visibility  wind_speed  wind_deg  wind_gust  \\\n",
       "0      83       10000        3.73       224       5.11   \n",
       "1      83       10000        3.48       222       4.91   \n",
       "2      72       10000        3.55       228       4.73   \n",
       "3      59       10000        3.46       223       4.33   \n",
       "4      45       10000        4.07       223       4.59   \n",
       "\n",
       "                                             weather   pop          rain  \n",
       "0  [{'id': 500, 'main': 'Rain', 'description': 'l...  0.70  {'1h': 0.11}  \n",
       "1  [{'id': 803, 'main': 'Clouds', 'description': ...  0.66           NaN  \n",
       "2  [{'id': 803, 'main': 'Clouds', 'description': ...  0.58           NaN  \n",
       "3  [{'id': 803, 'main': 'Clouds', 'description': ...  0.63           NaN  \n",
       "4  [{'id': 500, 'main': 'Rain', 'description': 'l...  0.64  {'1h': 0.23}  "
      ]
     },
     "execution_count": 8,
     "metadata": {},
     "output_type": "execute_result"
    }
   ],
   "source": [
    "df_hourly.head()"
   ]
  },
  {
   "cell_type": "code",
   "execution_count": 9,
   "metadata": {
    "execution": {
     "iopub.execute_input": "2021-08-22T23:38:04.098285Z",
     "iopub.status.busy": "2021-08-22T23:38:04.088585Z",
     "iopub.status.idle": "2021-08-22T23:38:04.385454Z",
     "shell.execute_reply": "2021-08-22T23:38:04.384552Z"
    }
   },
   "outputs": [
    {
     "data": {
      "image/png": "[encoded data removed]",
      "text/plain": [
       "<Figure size 864x432 with 1 Axes>"
      ]
     },
     "metadata": {
      "needs_background": "light"
     },
     "output_type": "display_data"
    }
   ],
   "source": [
    "fig, ax = plt.subplots(figsize=(12, 6))\r\n",
    "plt.plot(df_hourly.temp, '.-')\r\n",
    "ax.set(title='Temperature in future 48 hours', xlabel='Time', ylabel='Temperature')\r\n",
    "ax.set_xticks(list(range(0, len(df_hourly), 2)))\r\n",
    "ax.set_xticklabels([ts2dt(ts, '%m-%d %H:%M') for i, ts in enumerate(df_hourly.dt) if i%2==0], \r\n",
    "                   rotation=45, ha=\"right\")\r\n",
    "plt.show()"
   ]
  },
  {
   "cell_type": "code",
   "execution_count": null,
   "metadata": {},
   "outputs": [],
   "source": []
  }
 ],
 "metadata": {
  "interpreter": {
   "hash": "c1b4cfe941b6d2466ad1fb5979e97da9cda8801728c8091b097ab734208fc00c"
  },
  "kernelspec": {
   "display_name": "Python 3.8.3 64-bit ('base': conda)",
   "name": "python3"
  },
  "language_info": {
   "codemirror_mode": {
    "name": "ipython",
    "version": 3
   },
   "file_extension": ".py",
   "mimetype": "text/x-python",
   "name": "python",
   "nbconvert_exporter": "python",
   "pygments_lexer": "ipython3",
   "version": "3.8.11"
  }
 },
 "nbformat": 4,
 "nbformat_minor": 2
}
