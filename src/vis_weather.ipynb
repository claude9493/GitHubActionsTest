{
 "cells": [
  {
   "cell_type": "code",
   "execution_count": 1,
   "metadata": {
    "execution": {
     "iopub.execute_input": "2021-09-09T22:38:55.155429Z",
     "iopub.status.busy": "2021-09-09T22:38:55.154519Z",
     "iopub.status.idle": "2021-09-09T22:38:58.491167Z",
     "shell.execute_reply": "2021-09-09T22:38:58.490300Z"
    }
   },
   "outputs": [],
   "source": [
    "import json, yaml, requests\r\n",
    "from datetime import datetime\r\n",
    "from dateutil import tz\r\n",
    "import pandas as pd\r\n",
    "from PIL import Image\r\n",
    "from io import BytesIO\r\n",
    "import matplotlib.pyplot as plt\r\n",
    "import seaborn\r\n",
    "\r\n",
    "CONFIG_PATH = \"../config/config.yaml\""
   ]
  },
  {
   "cell_type": "code",
   "execution_count": 2,
   "metadata": {
    "execution": {
     "iopub.execute_input": "2021-09-09T22:38:58.496459Z",
     "iopub.status.busy": "2021-09-09T22:38:58.495384Z",
     "iopub.status.idle": "2021-09-09T22:38:58.500384Z",
     "shell.execute_reply": "2021-09-09T22:38:58.500749Z"
    }
   },
   "outputs": [],
   "source": [
    "with open('../newest_ts', 'r') as f:\r\n",
    "    newest_ts = f.read()\r\n",
    "\r\n",
    "data_path = f\"../data/data_{newest_ts}.json\"\r\n",
    "with open(data_path, 'r') as f:\r\n",
    "    data = json.load(f)\r\n",
    "\r\n",
    "with open(CONFIG_PATH, \"r\") as stream:\r\n",
    "    config = yaml.safe_load(stream)\r\n",
    "\r\n",
    "TIME_ZONE = config['time_zone']\r\n",
    "DATETIME_FORMAT = config['dt_format']"
   ]
  },
  {
   "cell_type": "code",
   "execution_count": 3,
   "metadata": {
    "execution": {
     "iopub.execute_input": "2021-09-09T22:38:58.505426Z",
     "iopub.status.busy": "2021-09-09T22:38:58.504876Z",
     "iopub.status.idle": "2021-09-09T22:38:58.528385Z",
     "shell.execute_reply": "2021-09-09T22:38:58.527962Z"
    }
   },
   "outputs": [
    {
     "name": "stdout",
     "output_type": "stream",
     "text": [
      "Recent query happens at 2021-09-10 06:38:51 (CST).\n"
     ]
    }
   ],
   "source": [
    "def ts2dt(ts, format=DATETIME_FORMAT):\r\n",
    "    dt = (datetime.utcfromtimestamp(int(ts))\r\n",
    "                    .replace(tzinfo=tz.tzutc())\r\n",
    "                    # .astimezone(tz.tzlocal())\r\n",
    "                    .astimezone(tz.gettz(TIME_ZONE)))\r\n",
    "    return dt.strftime(format), dt\r\n",
    "\r\n",
    "_, newest_dt = ts2dt(newest_ts)\r\n",
    "print(f\"Recent query happens at {newest_dt.strftime(DATETIME_FORMAT)} ({newest_dt.tzname()}).\")"
   ]
  },
  {
   "cell_type": "code",
   "execution_count": 4,
   "metadata": {
    "execution": {
     "iopub.execute_input": "2021-09-09T22:38:58.533901Z",
     "iopub.status.busy": "2021-09-09T22:38:58.532629Z",
     "iopub.status.idle": "2021-09-09T22:38:58.534472Z",
     "shell.execute_reply": "2021-09-09T22:38:58.534870Z"
    }
   },
   "outputs": [],
   "source": [
    "def degrees_to_cardinal(d):\r\n",
    "  dirs = ['N', 'NNE', 'NE', 'ENE', 'E', 'ESE', 'SE', 'SSE', 'S', 'SSW', 'SW', 'WSW', 'W', 'WNW', 'NW', 'NNW']\r\n",
    "  ix = int(round(d / (360. / len(dirs))))\r\n",
    "  return dirs[ix % len(dirs)]"
   ]
  },
  {
   "cell_type": "code",
   "execution_count": 5,
   "metadata": {
    "execution": {
     "iopub.execute_input": "2021-09-09T22:38:58.539362Z",
     "iopub.status.busy": "2021-09-09T22:38:58.537748Z",
     "iopub.status.idle": "2021-09-09T22:38:58.540202Z",
     "shell.execute_reply": "2021-09-09T22:38:58.540751Z"
    }
   },
   "outputs": [],
   "source": [
    "# data.keys()"
   ]
  },
  {
   "cell_type": "code",
   "execution_count": 6,
   "metadata": {
    "execution": {
     "iopub.execute_input": "2021-09-09T22:38:58.545109Z",
     "iopub.status.busy": "2021-09-09T22:38:58.544606Z",
     "iopub.status.idle": "2021-09-09T22:38:58.550662Z",
     "shell.execute_reply": "2021-09-09T22:38:58.549862Z"
    }
   },
   "outputs": [],
   "source": [
    "# data['current']"
   ]
  },
  {
   "cell_type": "code",
   "execution_count": 7,
   "metadata": {
    "execution": {
     "iopub.execute_input": "2021-09-09T22:38:58.554296Z",
     "iopub.status.busy": "2021-09-09T22:38:58.553782Z",
     "iopub.status.idle": "2021-09-09T22:38:58.998034Z",
     "shell.execute_reply": "2021-09-09T22:38:58.998765Z"
    }
   },
   "outputs": [
    {
     "data": {
      "image/png": "[encoded data removed]",
      "text/plain": [
       "<Figure size 216x216 with 1 Axes>"
      ]
     },
     "metadata": {
      "needs_background": "light"
     },
     "output_type": "display_data"
    },
    {
     "name": "stdout",
     "output_type": "stream",
     "text": [
      "Today, sun rises at 06:08 and sets at 18:32.\n",
      "Currently, the weather is Clouds (overcast clouds).\n",
      "The temperature is 29.05°C and it feels like 34.88°C.\n",
      "The UV index is 0.25, humidity is 80%.\n",
      "The pressure is 1009 hPa, percentage of cloud cover is 89%\n",
      "The wind comes from ENE direction with a speed 4.72 m/s.\n"
     ]
    }
   ],
   "source": [
    "current = data['current']\r\n",
    "\r\n",
    "fig, ax = plt.subplots(figsize=(3, 3))\r\n",
    "icon = requests.get(f\"http://openweathermap.org/img/wn/{current['weather'][0]['icon']}@2x.png\")\r\n",
    "im = Image.open(BytesIO(icon.content))\r\n",
    "plt.imshow(im)\r\n",
    "ax.set_axis_off()\r\n",
    "plt.show()\r\n",
    "\r\n",
    "print(f\"Today, sun rises at {ts2dt(current['sunrise'], '%H:%M')[0]} \\\r\n",
    "and sets at {ts2dt(current['sunset'], '%H:%M')[0]}.\\n\\\r\n",
    "Currently, the weather is {current['weather'][0]['main']} ({current['weather'][0]['description']}).\\n\\\r\n",
    "The temperature is {current['temp']}°C and it feels like {current['feels_like']}°C.\\n\\\r\n",
    "The UV index is {current['uvi']}, humidity is {current['humidity']}%.\\n\\\r\n",
    "The pressure is {current['pressure']} hPa, percentage of cloud cover is {current['clouds']}%\\n\\\r\n",
    "The wind comes from {degrees_to_cardinal(current['wind_deg'])} direction with a speed {current['wind_speed']} m/s.\")"
   ]
  },
  {
   "cell_type": "code",
   "execution_count": 8,
   "metadata": {
    "execution": {
     "iopub.execute_input": "2021-09-09T22:38:59.002101Z",
     "iopub.status.busy": "2021-09-09T22:38:59.001144Z",
     "iopub.status.idle": "2021-09-09T22:38:59.008905Z",
     "shell.execute_reply": "2021-09-09T22:38:59.009549Z"
    }
   },
   "outputs": [],
   "source": [
    "df_hourly = pd.DataFrame(data['hourly'])\r\n",
    "df_daily = pd.DataFrame(data['daily'])"
   ]
  },
  {
   "cell_type": "code",
   "execution_count": 9,
   "metadata": {
    "execution": {
     "iopub.execute_input": "2021-09-09T22:38:59.012629Z",
     "iopub.status.busy": "2021-09-09T22:38:59.011635Z",
     "iopub.status.idle": "2021-09-09T22:38:59.324625Z",
     "shell.execute_reply": "2021-09-09T22:38:59.325067Z"
    }
   },
   "outputs": [
    {
     "data": {
      "image/png": "[encoded data removed]",
      "text/plain": [
       "<Figure size 864x432 with 1 Axes>"
      ]
     },
     "metadata": {
      "needs_background": "light"
     },
     "output_type": "display_data"
    }
   ],
   "source": [
    "fig, ax = plt.subplots(figsize=(12, 6))\r\n",
    "plt.plot(df_hourly.temp, '.-', label='Temperature')\r\n",
    "plt.plot(df_hourly.feels_like, '.-', label='Feels Like')\r\n",
    "ax.set(title='Temperature in future 48 hours', xlabel='Time', ylabel='Temperature')\r\n",
    "ax.set_xticks(list(range(0, len(df_hourly), 2)))\r\n",
    "ax.set_xticklabels([ts2dt(ts, '%m-%d %H:%M')[0] for i, ts in enumerate(df_hourly.dt) if i%2==0], \r\n",
    "                   rotation=45, ha=\"right\")\r\n",
    "ax.locator_params(nbins=15, axis='y')\r\n",
    "plt.legend()\r\n",
    "plt.show()"
   ]
  },
  {
   "cell_type": "code",
   "execution_count": 10,
   "metadata": {
    "execution": {
     "iopub.execute_input": "2021-09-09T22:38:59.335876Z",
     "iopub.status.busy": "2021-09-09T22:38:59.328996Z",
     "iopub.status.idle": "2021-09-09T22:38:59.346659Z",
     "shell.execute_reply": "2021-09-09T22:38:59.347033Z"
    }
   },
   "outputs": [
    {
     "data": {
      "text/html": [
       "<div>\n",
       "<style scoped>\n",
       "    .dataframe tbody tr th:only-of-type {\n",
       "        vertical-align: middle;\n",
       "    }\n",
       "\n",
       "    .dataframe tbody tr th {\n",
       "        vertical-align: top;\n",
       "    }\n",
       "\n",
       "    .dataframe thead th {\n",
       "        text-align: right;\n",
       "    }\n",
       "</style>\n",
       "<table border=\"1\" class=\"dataframe\">\n",
       "  <thead>\n",
       "    <tr style=\"text-align: right;\">\n",
       "      <th></th>\n",
       "      <th>dt</th>\n",
       "      <th>temp</th>\n",
       "      <th>feels_like</th>\n",
       "      <th>pressure</th>\n",
       "      <th>humidity</th>\n",
       "      <th>dew_point</th>\n",
       "      <th>uvi</th>\n",
       "      <th>clouds</th>\n",
       "      <th>visibility</th>\n",
       "      <th>wind_speed</th>\n",
       "      <th>wind_deg</th>\n",
       "      <th>wind_gust</th>\n",
       "      <th>weather</th>\n",
       "      <th>pop</th>\n",
       "      <th>rain</th>\n",
       "    </tr>\n",
       "  </thead>\n",
       "  <tbody>\n",
       "    <tr>\n",
       "      <th>0</th>\n",
       "      <td>1631224800</td>\n",
       "      <td>28.72</td>\n",
       "      <td>34.17</td>\n",
       "      <td>1009</td>\n",
       "      <td>81</td>\n",
       "      <td>25.13</td>\n",
       "      <td>0.00</td>\n",
       "      <td>89</td>\n",
       "      <td>10000</td>\n",
       "      <td>4.24</td>\n",
       "      <td>66</td>\n",
       "      <td>6.34</td>\n",
       "      <td>[{'id': 804, 'main': 'Clouds', 'description': ...</td>\n",
       "      <td>0.77</td>\n",
       "      <td>NaN</td>\n",
       "    </tr>\n",
       "    <tr>\n",
       "      <th>1</th>\n",
       "      <td>1631228400</td>\n",
       "      <td>29.05</td>\n",
       "      <td>34.88</td>\n",
       "      <td>1009</td>\n",
       "      <td>80</td>\n",
       "      <td>25.25</td>\n",
       "      <td>0.25</td>\n",
       "      <td>89</td>\n",
       "      <td>10000</td>\n",
       "      <td>4.72</td>\n",
       "      <td>65</td>\n",
       "      <td>6.51</td>\n",
       "      <td>[{'id': 804, 'main': 'Clouds', 'description': ...</td>\n",
       "      <td>0.73</td>\n",
       "      <td>NaN</td>\n",
       "    </tr>\n",
       "    <tr>\n",
       "      <th>2</th>\n",
       "      <td>1631232000</td>\n",
       "      <td>28.86</td>\n",
       "      <td>34.56</td>\n",
       "      <td>1009</td>\n",
       "      <td>81</td>\n",
       "      <td>25.27</td>\n",
       "      <td>1.32</td>\n",
       "      <td>89</td>\n",
       "      <td>10000</td>\n",
       "      <td>5.29</td>\n",
       "      <td>67</td>\n",
       "      <td>6.55</td>\n",
       "      <td>[{'id': 804, 'main': 'Clouds', 'description': ...</td>\n",
       "      <td>0.87</td>\n",
       "      <td>NaN</td>\n",
       "    </tr>\n",
       "    <tr>\n",
       "      <th>3</th>\n",
       "      <td>1631235600</td>\n",
       "      <td>28.89</td>\n",
       "      <td>34.23</td>\n",
       "      <td>1009</td>\n",
       "      <td>79</td>\n",
       "      <td>24.88</td>\n",
       "      <td>3.38</td>\n",
       "      <td>93</td>\n",
       "      <td>10000</td>\n",
       "      <td>5.35</td>\n",
       "      <td>69</td>\n",
       "      <td>6.32</td>\n",
       "      <td>[{'id': 804, 'main': 'Clouds', 'description': ...</td>\n",
       "      <td>0.29</td>\n",
       "      <td>NaN</td>\n",
       "    </tr>\n",
       "    <tr>\n",
       "      <th>4</th>\n",
       "      <td>1631239200</td>\n",
       "      <td>29.06</td>\n",
       "      <td>34.26</td>\n",
       "      <td>1010</td>\n",
       "      <td>77</td>\n",
       "      <td>24.61</td>\n",
       "      <td>6.19</td>\n",
       "      <td>96</td>\n",
       "      <td>10000</td>\n",
       "      <td>5.77</td>\n",
       "      <td>71</td>\n",
       "      <td>6.71</td>\n",
       "      <td>[{'id': 804, 'main': 'Clouds', 'description': ...</td>\n",
       "      <td>0.21</td>\n",
       "      <td>NaN</td>\n",
       "    </tr>\n",
       "  </tbody>\n",
       "</table>\n",
       "</div>"
      ],
      "text/plain": [
       "           dt   temp  feels_like  pressure  humidity  dew_point   uvi  clouds  \\\n",
       "0  1631224800  28.72       34.17      1009        81      25.13  0.00      89   \n",
       "1  1631228400  29.05       34.88      1009        80      25.25  0.25      89   \n",
       "2  1631232000  28.86       34.56      1009        81      25.27  1.32      89   \n",
       "3  1631235600  28.89       34.23      1009        79      24.88  3.38      93   \n",
       "4  1631239200  29.06       34.26      1010        77      24.61  6.19      96   \n",
       "\n",
       "   visibility  wind_speed  wind_deg  wind_gust  \\\n",
       "0       10000        4.24        66       6.34   \n",
       "1       10000        4.72        65       6.51   \n",
       "2       10000        5.29        67       6.55   \n",
       "3       10000        5.35        69       6.32   \n",
       "4       10000        5.77        71       6.71   \n",
       "\n",
       "                                             weather   pop rain  \n",
       "0  [{'id': 804, 'main': 'Clouds', 'description': ...  0.77  NaN  \n",
       "1  [{'id': 804, 'main': 'Clouds', 'description': ...  0.73  NaN  \n",
       "2  [{'id': 804, 'main': 'Clouds', 'description': ...  0.87  NaN  \n",
       "3  [{'id': 804, 'main': 'Clouds', 'description': ...  0.29  NaN  \n",
       "4  [{'id': 804, 'main': 'Clouds', 'description': ...  0.21  NaN  "
      ]
     },
     "execution_count": 10,
     "metadata": {},
     "output_type": "execute_result"
    }
   ],
   "source": [
    "df_hourly.head()"
   ]
  },
  {
   "cell_type": "code",
   "execution_count": null,
   "metadata": {},
   "outputs": [],
   "source": []
  }
 ],
 "metadata": {
  "interpreter": {
   "hash": "c1b4cfe941b6d2466ad1fb5979e97da9cda8801728c8091b097ab734208fc00c"
  },
  "kernelspec": {
   "display_name": "Python 3.8.3 64-bit ('base': conda)",
   "name": "python3"
  },
  "language_info": {
   "codemirror_mode": {
    "name": "ipython",
    "version": 3
   },
   "file_extension": ".py",
   "mimetype": "text/x-python",
   "name": "python",
   "nbconvert_exporter": "python",
   "pygments_lexer": "ipython3",
   "version": "3.8.11"
  }
 },
 "nbformat": 4,
 "nbformat_minor": 2
}
