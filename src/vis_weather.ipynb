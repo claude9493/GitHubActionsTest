{
 "cells": [
  {
   "cell_type": "code",
   "execution_count": 1,
   "metadata": {
    "execution": {
     "iopub.execute_input": "2021-09-08T06:18:51.694306Z",
     "iopub.status.busy": "2021-09-08T06:18:51.693567Z",
     "iopub.status.idle": "2021-09-08T06:18:54.266113Z",
     "shell.execute_reply": "2021-09-08T06:18:54.266634Z"
    }
   },
   "outputs": [],
   "source": [
    "import json, yaml, requests\r\n",
    "from datetime import datetime\r\n",
    "from dateutil import tz\r\n",
    "import pandas as pd\r\n",
    "from PIL import Image\r\n",
    "from io import BytesIO\r\n",
    "import matplotlib.pyplot as plt\r\n",
    "import seaborn\r\n",
    "\r\n",
    "CONFIG_PATH = \"../config/config.yaml\""
   ]
  },
  {
   "cell_type": "code",
   "execution_count": 2,
   "metadata": {
    "execution": {
     "iopub.execute_input": "2021-09-08T06:18:54.275296Z",
     "iopub.status.busy": "2021-09-08T06:18:54.271869Z",
     "iopub.status.idle": "2021-09-08T06:18:54.279956Z",
     "shell.execute_reply": "2021-09-08T06:18:54.279223Z"
    }
   },
   "outputs": [],
   "source": [
    "with open('../newest_ts', 'r') as f:\r\n",
    "    newest_ts = f.read()\r\n",
    "\r\n",
    "data_path = f\"../data/data_{newest_ts}.json\"\r\n",
    "with open(data_path, 'r') as f:\r\n",
    "    data = json.load(f)\r\n",
    "\r\n",
    "with open(CONFIG_PATH, \"r\") as stream:\r\n",
    "    config = yaml.safe_load(stream)\r\n",
    "\r\n",
    "TIME_ZONE = config['time_zone']\r\n",
    "DATETIME_FORMAT = config['dt_format']"
   ]
  },
  {
   "cell_type": "code",
   "execution_count": 3,
   "metadata": {
    "execution": {
     "iopub.execute_input": "2021-09-08T06:18:54.293799Z",
     "iopub.status.busy": "2021-09-08T06:18:54.293004Z",
     "iopub.status.idle": "2021-09-08T06:18:54.325393Z",
     "shell.execute_reply": "2021-09-08T06:18:54.326156Z"
    }
   },
   "outputs": [
    {
     "name": "stdout",
     "output_type": "stream",
     "text": [
      "Recent query happens at 2021-09-08 14:18:48 (CST).\n"
     ]
    }
   ],
   "source": [
    "def ts2dt(ts, format=DATETIME_FORMAT):\r\n",
    "    dt = (datetime.utcfromtimestamp(int(ts))\r\n",
    "                    .replace(tzinfo=tz.tzutc())\r\n",
    "                    # .astimezone(tz.tzlocal())\r\n",
    "                    .astimezone(tz.gettz(TIME_ZONE)))\r\n",
    "    return dt.strftime(format), dt\r\n",
    "\r\n",
    "_, newest_dt = ts2dt(newest_ts)\r\n",
    "print(f\"Recent query happens at {newest_dt.strftime(DATETIME_FORMAT)} ({newest_dt.tzname()}).\")"
   ]
  },
  {
   "cell_type": "code",
   "execution_count": 4,
   "metadata": {
    "execution": {
     "iopub.execute_input": "2021-09-08T06:18:54.335378Z",
     "iopub.status.busy": "2021-09-08T06:18:54.333690Z",
     "iopub.status.idle": "2021-09-08T06:18:54.339942Z",
     "shell.execute_reply": "2021-09-08T06:18:54.339406Z"
    }
   },
   "outputs": [],
   "source": [
    "def degrees_to_cardinal(d):\r\n",
    "  dirs = ['N', 'NNE', 'NE', 'ENE', 'E', 'ESE', 'SE', 'SSE', 'S', 'SSW', 'SW', 'WSW', 'W', 'WNW', 'NW', 'NNW']\r\n",
    "  ix = int(round(d / (360. / len(dirs))))\r\n",
    "  return dirs[ix % len(dirs)]"
   ]
  },
  {
   "cell_type": "code",
   "execution_count": 5,
   "metadata": {
    "execution": {
     "iopub.execute_input": "2021-09-08T06:18:54.349748Z",
     "iopub.status.busy": "2021-09-08T06:18:54.345291Z",
     "iopub.status.idle": "2021-09-08T06:18:54.350400Z",
     "shell.execute_reply": "2021-09-08T06:18:54.350873Z"
    }
   },
   "outputs": [],
   "source": [
    "# data.keys()"
   ]
  },
  {
   "cell_type": "code",
   "execution_count": 6,
   "metadata": {
    "execution": {
     "iopub.execute_input": "2021-09-08T06:18:54.356269Z",
     "iopub.status.busy": "2021-09-08T06:18:54.354920Z",
     "iopub.status.idle": "2021-09-08T06:18:54.356976Z",
     "shell.execute_reply": "2021-09-08T06:18:54.357447Z"
    }
   },
   "outputs": [],
   "source": [
    "# data['current']"
   ]
  },
  {
   "cell_type": "code",
   "execution_count": 7,
   "metadata": {
    "execution": {
     "iopub.execute_input": "2021-09-08T06:18:54.382813Z",
     "iopub.status.busy": "2021-09-08T06:18:54.380357Z",
     "iopub.status.idle": "2021-09-08T06:18:54.864818Z",
     "shell.execute_reply": "2021-09-08T06:18:54.865343Z"
    }
   },
   "outputs": [
    {
     "data": {
      "image/png": "[encoded data removed]",
      "text/plain": [
       "<Figure size 216x216 with 1 Axes>"
      ]
     },
     "metadata": {
      "needs_background": "light"
     },
     "output_type": "display_data"
    },
    {
     "name": "stdout",
     "output_type": "stream",
     "text": [
      "Today, sun rises at 06:07 and sets at 18:33.\n",
      "Currently, the weather is Clouds (scattered clouds).\n",
      "The temperature is 32.49°C and it feels like 39.49°C.\n",
      "The UV index is 8.62, humidity is 71%.\n",
      "The pressure is 1008 hPa, percentage of cloud cover is 33%\n",
      "The wind comes from ESE direction with a speed 3.71 m/s.\n"
     ]
    }
   ],
   "source": [
    "current = data['current']\r\n",
    "\r\n",
    "fig, ax = plt.subplots(figsize=(3, 3))\r\n",
    "icon = requests.get(f\"http://openweathermap.org/img/wn/{current['weather'][0]['icon']}@2x.png\")\r\n",
    "im = Image.open(BytesIO(icon.content))\r\n",
    "plt.imshow(im)\r\n",
    "ax.set_axis_off()\r\n",
    "plt.show()\r\n",
    "\r\n",
    "print(f\"Today, sun rises at {ts2dt(current['sunrise'], '%H:%M')[0]} \\\r\n",
    "and sets at {ts2dt(current['sunset'], '%H:%M')[0]}.\\n\\\r\n",
    "Currently, the weather is {current['weather'][0]['main']} ({current['weather'][0]['description']}).\\n\\\r\n",
    "The temperature is {current['temp']}°C and it feels like {current['feels_like']}°C.\\n\\\r\n",
    "The UV index is {current['uvi']}, humidity is {current['humidity']}%.\\n\\\r\n",
    "The pressure is {current['pressure']} hPa, percentage of cloud cover is {current['clouds']}%\\n\\\r\n",
    "The wind comes from {degrees_to_cardinal(current['wind_deg'])} direction with a speed {current['wind_speed']} m/s.\")"
   ]
  },
  {
   "cell_type": "code",
   "execution_count": 8,
   "metadata": {
    "execution": {
     "iopub.execute_input": "2021-09-08T06:18:54.877126Z",
     "iopub.status.busy": "2021-09-08T06:18:54.875502Z",
     "iopub.status.idle": "2021-09-08T06:18:54.880778Z",
     "shell.execute_reply": "2021-09-08T06:18:54.881505Z"
    }
   },
   "outputs": [],
   "source": [
    "df_hourly = pd.DataFrame(data['hourly'])\r\n",
    "df_daily = pd.DataFrame(data['daily'])"
   ]
  },
  {
   "cell_type": "code",
   "execution_count": 9,
   "metadata": {
    "execution": {
     "iopub.execute_input": "2021-09-08T06:18:54.891981Z",
     "iopub.status.busy": "2021-09-08T06:18:54.891348Z",
     "iopub.status.idle": "2021-09-08T06:18:55.279854Z",
     "shell.execute_reply": "2021-09-08T06:18:55.279215Z"
    }
   },
   "outputs": [
    {
     "data": {
      "image/png": "[encoded data removed]",
      "text/plain": [
       "<Figure size 864x432 with 1 Axes>"
      ]
     },
     "metadata": {
      "needs_background": "light"
     },
     "output_type": "display_data"
    }
   ],
   "source": [
    "fig, ax = plt.subplots(figsize=(12, 6))\r\n",
    "plt.plot(df_hourly.temp, '.-', label='Temperature')\r\n",
    "plt.plot(df_hourly.feels_like, '.-', label='Feels Like')\r\n",
    "ax.set(title='Temperature in future 48 hours', xlabel='Time', ylabel='Temperature')\r\n",
    "ax.set_xticks(list(range(0, len(df_hourly), 2)))\r\n",
    "ax.set_xticklabels([ts2dt(ts, '%m-%d %H:%M')[0] for i, ts in enumerate(df_hourly.dt) if i%2==0], \r\n",
    "                   rotation=45, ha=\"right\")\r\n",
    "ax.locator_params(nbins=15, axis='y')\r\n",
    "plt.legend()\r\n",
    "plt.show()"
   ]
  },
  {
   "cell_type": "code",
   "execution_count": 10,
   "metadata": {
    "execution": {
     "iopub.execute_input": "2021-09-08T06:18:55.294540Z",
     "iopub.status.busy": "2021-09-08T06:18:55.287424Z",
     "iopub.status.idle": "2021-09-08T06:18:55.313943Z",
     "shell.execute_reply": "2021-09-08T06:18:55.313368Z"
    }
   },
   "outputs": [
    {
     "data": {
      "text/html": [
       "<div>\n",
       "<style scoped>\n",
       "    .dataframe tbody tr th:only-of-type {\n",
       "        vertical-align: middle;\n",
       "    }\n",
       "\n",
       "    .dataframe tbody tr th {\n",
       "        vertical-align: top;\n",
       "    }\n",
       "\n",
       "    .dataframe thead th {\n",
       "        text-align: right;\n",
       "    }\n",
       "</style>\n",
       "<table border=\"1\" class=\"dataframe\">\n",
       "  <thead>\n",
       "    <tr style=\"text-align: right;\">\n",
       "      <th></th>\n",
       "      <th>dt</th>\n",
       "      <th>temp</th>\n",
       "      <th>feels_like</th>\n",
       "      <th>pressure</th>\n",
       "      <th>humidity</th>\n",
       "      <th>dew_point</th>\n",
       "      <th>uvi</th>\n",
       "      <th>clouds</th>\n",
       "      <th>visibility</th>\n",
       "      <th>wind_speed</th>\n",
       "      <th>wind_deg</th>\n",
       "      <th>wind_gust</th>\n",
       "      <th>weather</th>\n",
       "      <th>pop</th>\n",
       "      <th>rain</th>\n",
       "    </tr>\n",
       "  </thead>\n",
       "  <tbody>\n",
       "    <tr>\n",
       "      <th>0</th>\n",
       "      <td>1631080800</td>\n",
       "      <td>32.49</td>\n",
       "      <td>39.49</td>\n",
       "      <td>1008</td>\n",
       "      <td>71</td>\n",
       "      <td>26.55</td>\n",
       "      <td>8.62</td>\n",
       "      <td>33</td>\n",
       "      <td>10000</td>\n",
       "      <td>3.71</td>\n",
       "      <td>109</td>\n",
       "      <td>3.45</td>\n",
       "      <td>[{'id': 802, 'main': 'Clouds', 'description': ...</td>\n",
       "      <td>0.04</td>\n",
       "      <td>NaN</td>\n",
       "    </tr>\n",
       "    <tr>\n",
       "      <th>1</th>\n",
       "      <td>1631084400</td>\n",
       "      <td>32.06</td>\n",
       "      <td>39.06</td>\n",
       "      <td>1008</td>\n",
       "      <td>70</td>\n",
       "      <td>25.89</td>\n",
       "      <td>5.71</td>\n",
       "      <td>30</td>\n",
       "      <td>10000</td>\n",
       "      <td>3.87</td>\n",
       "      <td>119</td>\n",
       "      <td>3.32</td>\n",
       "      <td>[{'id': 500, 'main': 'Rain', 'description': 'l...</td>\n",
       "      <td>0.22</td>\n",
       "      <td>{'1h': 0.24}</td>\n",
       "    </tr>\n",
       "    <tr>\n",
       "      <th>2</th>\n",
       "      <td>1631088000</td>\n",
       "      <td>31.55</td>\n",
       "      <td>38.55</td>\n",
       "      <td>1008</td>\n",
       "      <td>69</td>\n",
       "      <td>25.17</td>\n",
       "      <td>2.94</td>\n",
       "      <td>35</td>\n",
       "      <td>10000</td>\n",
       "      <td>3.58</td>\n",
       "      <td>126</td>\n",
       "      <td>3.17</td>\n",
       "      <td>[{'id': 802, 'main': 'Clouds', 'description': ...</td>\n",
       "      <td>0.02</td>\n",
       "      <td>NaN</td>\n",
       "    </tr>\n",
       "    <tr>\n",
       "      <th>3</th>\n",
       "      <td>1631091600</td>\n",
       "      <td>30.86</td>\n",
       "      <td>36.93</td>\n",
       "      <td>1007</td>\n",
       "      <td>69</td>\n",
       "      <td>24.51</td>\n",
       "      <td>1.02</td>\n",
       "      <td>48</td>\n",
       "      <td>10000</td>\n",
       "      <td>3.36</td>\n",
       "      <td>132</td>\n",
       "      <td>3.01</td>\n",
       "      <td>[{'id': 802, 'main': 'Clouds', 'description': ...</td>\n",
       "      <td>0.02</td>\n",
       "      <td>NaN</td>\n",
       "    </tr>\n",
       "    <tr>\n",
       "      <th>4</th>\n",
       "      <td>1631095200</td>\n",
       "      <td>29.79</td>\n",
       "      <td>35.48</td>\n",
       "      <td>1008</td>\n",
       "      <td>74</td>\n",
       "      <td>24.65</td>\n",
       "      <td>0.18</td>\n",
       "      <td>61</td>\n",
       "      <td>10000</td>\n",
       "      <td>3.42</td>\n",
       "      <td>138</td>\n",
       "      <td>3.52</td>\n",
       "      <td>[{'id': 803, 'main': 'Clouds', 'description': ...</td>\n",
       "      <td>0.02</td>\n",
       "      <td>NaN</td>\n",
       "    </tr>\n",
       "  </tbody>\n",
       "</table>\n",
       "</div>"
      ],
      "text/plain": [
       "           dt   temp  feels_like  pressure  humidity  dew_point   uvi  clouds  \\\n",
       "0  1631080800  32.49       39.49      1008        71      26.55  8.62      33   \n",
       "1  1631084400  32.06       39.06      1008        70      25.89  5.71      30   \n",
       "2  1631088000  31.55       38.55      1008        69      25.17  2.94      35   \n",
       "3  1631091600  30.86       36.93      1007        69      24.51  1.02      48   \n",
       "4  1631095200  29.79       35.48      1008        74      24.65  0.18      61   \n",
       "\n",
       "   visibility  wind_speed  wind_deg  wind_gust  \\\n",
       "0       10000        3.71       109       3.45   \n",
       "1       10000        3.87       119       3.32   \n",
       "2       10000        3.58       126       3.17   \n",
       "3       10000        3.36       132       3.01   \n",
       "4       10000        3.42       138       3.52   \n",
       "\n",
       "                                             weather   pop          rain  \n",
       "0  [{'id': 802, 'main': 'Clouds', 'description': ...  0.04           NaN  \n",
       "1  [{'id': 500, 'main': 'Rain', 'description': 'l...  0.22  {'1h': 0.24}  \n",
       "2  [{'id': 802, 'main': 'Clouds', 'description': ...  0.02           NaN  \n",
       "3  [{'id': 802, 'main': 'Clouds', 'description': ...  0.02           NaN  \n",
       "4  [{'id': 803, 'main': 'Clouds', 'description': ...  0.02           NaN  "
      ]
     },
     "execution_count": 10,
     "metadata": {},
     "output_type": "execute_result"
    }
   ],
   "source": [
    "df_hourly.head()"
   ]
  },
  {
   "cell_type": "code",
   "execution_count": null,
   "metadata": {},
   "outputs": [],
   "source": []
  }
 ],
 "metadata": {
  "interpreter": {
   "hash": "c1b4cfe941b6d2466ad1fb5979e97da9cda8801728c8091b097ab734208fc00c"
  },
  "kernelspec": {
   "display_name": "Python 3.8.3 64-bit ('base': conda)",
   "name": "python3"
  },
  "language_info": {
   "codemirror_mode": {
    "name": "ipython",
    "version": 3
   },
   "file_extension": ".py",
   "mimetype": "text/x-python",
   "name": "python",
   "nbconvert_exporter": "python",
   "pygments_lexer": "ipython3",
   "version": "3.8.11"
  }
 },
 "nbformat": 4,
 "nbformat_minor": 2
}
