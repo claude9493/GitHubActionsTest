{
 "cells": [
  {
   "cell_type": "code",
   "execution_count": 1,
   "metadata": {
    "execution": {
     "iopub.execute_input": "2021-09-09T05:14:36.381136Z",
     "iopub.status.busy": "2021-09-09T05:14:36.376245Z",
     "iopub.status.idle": "2021-09-09T05:14:41.062275Z",
     "shell.execute_reply": "2021-09-09T05:14:41.061090Z"
    }
   },
   "outputs": [],
   "source": [
    "import json, yaml, requests\r\n",
    "from datetime import datetime\r\n",
    "from dateutil import tz\r\n",
    "import pandas as pd\r\n",
    "from PIL import Image\r\n",
    "from io import BytesIO\r\n",
    "import matplotlib.pyplot as plt\r\n",
    "import seaborn\r\n",
    "\r\n",
    "CONFIG_PATH = \"../config/config.yaml\""
   ]
  },
  {
   "cell_type": "code",
   "execution_count": 2,
   "metadata": {
    "execution": {
     "iopub.execute_input": "2021-09-09T05:14:41.068140Z",
     "iopub.status.busy": "2021-09-09T05:14:41.065209Z",
     "iopub.status.idle": "2021-09-09T05:14:41.075571Z",
     "shell.execute_reply": "2021-09-09T05:14:41.074649Z"
    }
   },
   "outputs": [],
   "source": [
    "with open('../newest_ts', 'r') as f:\r\n",
    "    newest_ts = f.read()\r\n",
    "\r\n",
    "data_path = f\"../data/data_{newest_ts}.json\"\r\n",
    "with open(data_path, 'r') as f:\r\n",
    "    data = json.load(f)\r\n",
    "\r\n",
    "with open(CONFIG_PATH, \"r\") as stream:\r\n",
    "    config = yaml.safe_load(stream)\r\n",
    "\r\n",
    "TIME_ZONE = config['time_zone']\r\n",
    "DATETIME_FORMAT = config['dt_format']"
   ]
  },
  {
   "cell_type": "code",
   "execution_count": 3,
   "metadata": {
    "execution": {
     "iopub.execute_input": "2021-09-09T05:14:41.079597Z",
     "iopub.status.busy": "2021-09-09T05:14:41.078747Z",
     "iopub.status.idle": "2021-09-09T05:14:41.108395Z",
     "shell.execute_reply": "2021-09-09T05:14:41.107834Z"
    }
   },
   "outputs": [
    {
     "name": "stdout",
     "output_type": "stream",
     "text": [
      "Recent query happens at 2021-09-09 13:14:32 (CST).\n"
     ]
    }
   ],
   "source": [
    "def ts2dt(ts, format=DATETIME_FORMAT):\r\n",
    "    dt = (datetime.utcfromtimestamp(int(ts))\r\n",
    "                    .replace(tzinfo=tz.tzutc())\r\n",
    "                    # .astimezone(tz.tzlocal())\r\n",
    "                    .astimezone(tz.gettz(TIME_ZONE)))\r\n",
    "    return dt.strftime(format), dt\r\n",
    "\r\n",
    "_, newest_dt = ts2dt(newest_ts)\r\n",
    "print(f\"Recent query happens at {newest_dt.strftime(DATETIME_FORMAT)} ({newest_dt.tzname()}).\")"
   ]
  },
  {
   "cell_type": "code",
   "execution_count": 4,
   "metadata": {
    "execution": {
     "iopub.execute_input": "2021-09-09T05:14:41.114782Z",
     "iopub.status.busy": "2021-09-09T05:14:41.114157Z",
     "iopub.status.idle": "2021-09-09T05:14:41.131009Z",
     "shell.execute_reply": "2021-09-09T05:14:41.131596Z"
    }
   },
   "outputs": [],
   "source": [
    "def degrees_to_cardinal(d):\r\n",
    "  dirs = ['N', 'NNE', 'NE', 'ENE', 'E', 'ESE', 'SE', 'SSE', 'S', 'SSW', 'SW', 'WSW', 'W', 'WNW', 'NW', 'NNW']\r\n",
    "  ix = int(round(d / (360. / len(dirs))))\r\n",
    "  return dirs[ix % len(dirs)]"
   ]
  },
  {
   "cell_type": "code",
   "execution_count": 5,
   "metadata": {
    "execution": {
     "iopub.execute_input": "2021-09-09T05:14:41.137708Z",
     "iopub.status.busy": "2021-09-09T05:14:41.136072Z",
     "iopub.status.idle": "2021-09-09T05:14:41.138491Z",
     "shell.execute_reply": "2021-09-09T05:14:41.139083Z"
    }
   },
   "outputs": [],
   "source": [
    "# data.keys()"
   ]
  },
  {
   "cell_type": "code",
   "execution_count": 6,
   "metadata": {
    "execution": {
     "iopub.execute_input": "2021-09-09T05:14:41.147882Z",
     "iopub.status.busy": "2021-09-09T05:14:41.146359Z",
     "iopub.status.idle": "2021-09-09T05:14:41.148622Z",
     "shell.execute_reply": "2021-09-09T05:14:41.149236Z"
    }
   },
   "outputs": [],
   "source": [
    "# data['current']"
   ]
  },
  {
   "cell_type": "code",
   "execution_count": 7,
   "metadata": {
    "execution": {
     "iopub.execute_input": "2021-09-09T05:14:41.163102Z",
     "iopub.status.busy": "2021-09-09T05:14:41.162401Z",
     "iopub.status.idle": "2021-09-09T05:14:41.630580Z",
     "shell.execute_reply": "2021-09-09T05:14:41.631446Z"
    }
   },
   "outputs": [
    {
     "data": {
      "image/png": "[encoded data removed]",
      "text/plain": [
       "<Figure size 216x216 with 1 Axes>"
      ]
     },
     "metadata": {
      "needs_background": "light"
     },
     "output_type": "display_data"
    },
    {
     "name": "stdout",
     "output_type": "stream",
     "text": [
      "Today, sun rises at 06:08 and sets at 18:32.\n",
      "Currently, the weather is Clouds (few clouds).\n",
      "The temperature is 31.57°C and it feels like 38.57°C.\n",
      "The UV index is 8.8, humidity is 73%.\n",
      "The pressure is 1009 hPa, percentage of cloud cover is 19%\n",
      "The wind comes from E direction with a speed 3.53 m/s.\n"
     ]
    }
   ],
   "source": [
    "current = data['current']\r\n",
    "\r\n",
    "fig, ax = plt.subplots(figsize=(3, 3))\r\n",
    "icon = requests.get(f\"http://openweathermap.org/img/wn/{current['weather'][0]['icon']}@2x.png\")\r\n",
    "im = Image.open(BytesIO(icon.content))\r\n",
    "plt.imshow(im)\r\n",
    "ax.set_axis_off()\r\n",
    "plt.show()\r\n",
    "\r\n",
    "print(f\"Today, sun rises at {ts2dt(current['sunrise'], '%H:%M')[0]} \\\r\n",
    "and sets at {ts2dt(current['sunset'], '%H:%M')[0]}.\\n\\\r\n",
    "Currently, the weather is {current['weather'][0]['main']} ({current['weather'][0]['description']}).\\n\\\r\n",
    "The temperature is {current['temp']}°C and it feels like {current['feels_like']}°C.\\n\\\r\n",
    "The UV index is {current['uvi']}, humidity is {current['humidity']}%.\\n\\\r\n",
    "The pressure is {current['pressure']} hPa, percentage of cloud cover is {current['clouds']}%\\n\\\r\n",
    "The wind comes from {degrees_to_cardinal(current['wind_deg'])} direction with a speed {current['wind_speed']} m/s.\")"
   ]
  },
  {
   "cell_type": "code",
   "execution_count": 8,
   "metadata": {
    "execution": {
     "iopub.execute_input": "2021-09-09T05:14:41.635306Z",
     "iopub.status.busy": "2021-09-09T05:14:41.634696Z",
     "iopub.status.idle": "2021-09-09T05:14:41.643848Z",
     "shell.execute_reply": "2021-09-09T05:14:41.644672Z"
    }
   },
   "outputs": [],
   "source": [
    "df_hourly = pd.DataFrame(data['hourly'])\r\n",
    "df_daily = pd.DataFrame(data['daily'])"
   ]
  },
  {
   "cell_type": "code",
   "execution_count": 9,
   "metadata": {
    "execution": {
     "iopub.execute_input": "2021-09-09T05:14:41.649200Z",
     "iopub.status.busy": "2021-09-09T05:14:41.648035Z",
     "iopub.status.idle": "2021-09-09T05:14:42.035830Z",
     "shell.execute_reply": "2021-09-09T05:14:42.035282Z"
    }
   },
   "outputs": [
    {
     "data": {
      "image/png": "[encoded data removed]",
      "text/plain": [
       "<Figure size 864x432 with 1 Axes>"
      ]
     },
     "metadata": {
      "needs_background": "light"
     },
     "output_type": "display_data"
    }
   ],
   "source": [
    "fig, ax = plt.subplots(figsize=(12, 6))\r\n",
    "plt.plot(df_hourly.temp, '.-', label='Temperature')\r\n",
    "plt.plot(df_hourly.feels_like, '.-', label='Feels Like')\r\n",
    "ax.set(title='Temperature in future 48 hours', xlabel='Time', ylabel='Temperature')\r\n",
    "ax.set_xticks(list(range(0, len(df_hourly), 2)))\r\n",
    "ax.set_xticklabels([ts2dt(ts, '%m-%d %H:%M')[0] for i, ts in enumerate(df_hourly.dt) if i%2==0], \r\n",
    "                   rotation=45, ha=\"right\")\r\n",
    "ax.locator_params(nbins=15, axis='y')\r\n",
    "plt.legend()\r\n",
    "plt.show()"
   ]
  },
  {
   "cell_type": "code",
   "execution_count": 10,
   "metadata": {
    "execution": {
     "iopub.execute_input": "2021-09-09T05:14:42.047600Z",
     "iopub.status.busy": "2021-09-09T05:14:42.046759Z",
     "iopub.status.idle": "2021-09-09T05:14:42.070140Z",
     "shell.execute_reply": "2021-09-09T05:14:42.069527Z"
    }
   },
   "outputs": [
    {
     "data": {
      "text/html": [
       "<div>\n",
       "<style scoped>\n",
       "    .dataframe tbody tr th:only-of-type {\n",
       "        vertical-align: middle;\n",
       "    }\n",
       "\n",
       "    .dataframe tbody tr th {\n",
       "        vertical-align: top;\n",
       "    }\n",
       "\n",
       "    .dataframe thead th {\n",
       "        text-align: right;\n",
       "    }\n",
       "</style>\n",
       "<table border=\"1\" class=\"dataframe\">\n",
       "  <thead>\n",
       "    <tr style=\"text-align: right;\">\n",
       "      <th></th>\n",
       "      <th>dt</th>\n",
       "      <th>temp</th>\n",
       "      <th>feels_like</th>\n",
       "      <th>pressure</th>\n",
       "      <th>humidity</th>\n",
       "      <th>dew_point</th>\n",
       "      <th>uvi</th>\n",
       "      <th>clouds</th>\n",
       "      <th>visibility</th>\n",
       "      <th>wind_speed</th>\n",
       "      <th>wind_deg</th>\n",
       "      <th>wind_gust</th>\n",
       "      <th>weather</th>\n",
       "      <th>pop</th>\n",
       "      <th>rain</th>\n",
       "    </tr>\n",
       "  </thead>\n",
       "  <tbody>\n",
       "    <tr>\n",
       "      <th>0</th>\n",
       "      <td>1631163600</td>\n",
       "      <td>31.57</td>\n",
       "      <td>38.57</td>\n",
       "      <td>1009</td>\n",
       "      <td>73</td>\n",
       "      <td>26.14</td>\n",
       "      <td>8.80</td>\n",
       "      <td>19</td>\n",
       "      <td>10000</td>\n",
       "      <td>3.53</td>\n",
       "      <td>98</td>\n",
       "      <td>3.56</td>\n",
       "      <td>[{'id': 801, 'main': 'Clouds', 'description': ...</td>\n",
       "      <td>0.01</td>\n",
       "      <td>NaN</td>\n",
       "    </tr>\n",
       "    <tr>\n",
       "      <th>1</th>\n",
       "      <td>1631167200</td>\n",
       "      <td>31.36</td>\n",
       "      <td>38.36</td>\n",
       "      <td>1009</td>\n",
       "      <td>71</td>\n",
       "      <td>25.47</td>\n",
       "      <td>7.26</td>\n",
       "      <td>20</td>\n",
       "      <td>10000</td>\n",
       "      <td>4.17</td>\n",
       "      <td>110</td>\n",
       "      <td>3.77</td>\n",
       "      <td>[{'id': 801, 'main': 'Clouds', 'description': ...</td>\n",
       "      <td>0.06</td>\n",
       "      <td>NaN</td>\n",
       "    </tr>\n",
       "    <tr>\n",
       "      <th>2</th>\n",
       "      <td>1631170800</td>\n",
       "      <td>31.11</td>\n",
       "      <td>37.90</td>\n",
       "      <td>1009</td>\n",
       "      <td>70</td>\n",
       "      <td>24.99</td>\n",
       "      <td>4.60</td>\n",
       "      <td>39</td>\n",
       "      <td>10000</td>\n",
       "      <td>4.18</td>\n",
       "      <td>114</td>\n",
       "      <td>3.76</td>\n",
       "      <td>[{'id': 802, 'main': 'Clouds', 'description': ...</td>\n",
       "      <td>0.14</td>\n",
       "      <td>NaN</td>\n",
       "    </tr>\n",
       "    <tr>\n",
       "      <th>3</th>\n",
       "      <td>1631174400</td>\n",
       "      <td>30.77</td>\n",
       "      <td>36.99</td>\n",
       "      <td>1008</td>\n",
       "      <td>70</td>\n",
       "      <td>24.66</td>\n",
       "      <td>2.36</td>\n",
       "      <td>53</td>\n",
       "      <td>10000</td>\n",
       "      <td>3.85</td>\n",
       "      <td>113</td>\n",
       "      <td>3.64</td>\n",
       "      <td>[{'id': 803, 'main': 'Clouds', 'description': ...</td>\n",
       "      <td>0.06</td>\n",
       "      <td>NaN</td>\n",
       "    </tr>\n",
       "    <tr>\n",
       "      <th>4</th>\n",
       "      <td>1631178000</td>\n",
       "      <td>30.19</td>\n",
       "      <td>35.51</td>\n",
       "      <td>1008</td>\n",
       "      <td>70</td>\n",
       "      <td>24.11</td>\n",
       "      <td>0.81</td>\n",
       "      <td>62</td>\n",
       "      <td>10000</td>\n",
       "      <td>3.18</td>\n",
       "      <td>107</td>\n",
       "      <td>3.26</td>\n",
       "      <td>[{'id': 803, 'main': 'Clouds', 'description': ...</td>\n",
       "      <td>0.02</td>\n",
       "      <td>NaN</td>\n",
       "    </tr>\n",
       "  </tbody>\n",
       "</table>\n",
       "</div>"
      ],
      "text/plain": [
       "           dt   temp  feels_like  pressure  humidity  dew_point   uvi  clouds  \\\n",
       "0  1631163600  31.57       38.57      1009        73      26.14  8.80      19   \n",
       "1  1631167200  31.36       38.36      1009        71      25.47  7.26      20   \n",
       "2  1631170800  31.11       37.90      1009        70      24.99  4.60      39   \n",
       "3  1631174400  30.77       36.99      1008        70      24.66  2.36      53   \n",
       "4  1631178000  30.19       35.51      1008        70      24.11  0.81      62   \n",
       "\n",
       "   visibility  wind_speed  wind_deg  wind_gust  \\\n",
       "0       10000        3.53        98       3.56   \n",
       "1       10000        4.17       110       3.77   \n",
       "2       10000        4.18       114       3.76   \n",
       "3       10000        3.85       113       3.64   \n",
       "4       10000        3.18       107       3.26   \n",
       "\n",
       "                                             weather   pop rain  \n",
       "0  [{'id': 801, 'main': 'Clouds', 'description': ...  0.01  NaN  \n",
       "1  [{'id': 801, 'main': 'Clouds', 'description': ...  0.06  NaN  \n",
       "2  [{'id': 802, 'main': 'Clouds', 'description': ...  0.14  NaN  \n",
       "3  [{'id': 803, 'main': 'Clouds', 'description': ...  0.06  NaN  \n",
       "4  [{'id': 803, 'main': 'Clouds', 'description': ...  0.02  NaN  "
      ]
     },
     "execution_count": 10,
     "metadata": {},
     "output_type": "execute_result"
    }
   ],
   "source": [
    "df_hourly.head()"
   ]
  },
  {
   "cell_type": "code",
   "execution_count": null,
   "metadata": {},
   "outputs": [],
   "source": []
  }
 ],
 "metadata": {
  "interpreter": {
   "hash": "c1b4cfe941b6d2466ad1fb5979e97da9cda8801728c8091b097ab734208fc00c"
  },
  "kernelspec": {
   "display_name": "Python 3.8.3 64-bit ('base': conda)",
   "name": "python3"
  },
  "language_info": {
   "codemirror_mode": {
    "name": "ipython",
    "version": 3
   },
   "file_extension": ".py",
   "mimetype": "text/x-python",
   "name": "python",
   "nbconvert_exporter": "python",
   "pygments_lexer": "ipython3",
   "version": "3.8.11"
  }
 },
 "nbformat": 4,
 "nbformat_minor": 2
}
