{
 "cells": [
  {
   "cell_type": "code",
   "execution_count": 1,
   "metadata": {
    "execution": {
     "iopub.execute_input": "2021-09-06T13:41:31.247849Z",
     "iopub.status.busy": "2021-09-06T13:41:31.247098Z",
     "iopub.status.idle": "2021-09-06T13:41:34.445975Z",
     "shell.execute_reply": "2021-09-06T13:41:34.445383Z"
    }
   },
   "outputs": [],
   "source": [
    "import json, yaml, requests\r\n",
    "from datetime import datetime\r\n",
    "from dateutil import tz\r\n",
    "import pandas as pd\r\n",
    "from PIL import Image\r\n",
    "from io import BytesIO\r\n",
    "import matplotlib.pyplot as plt\r\n",
    "import seaborn\r\n",
    "\r\n",
    "CONFIG_PATH = \"../config/config.yaml\""
   ]
  },
  {
   "cell_type": "code",
   "execution_count": 2,
   "metadata": {
    "execution": {
     "iopub.execute_input": "2021-09-06T13:41:34.451278Z",
     "iopub.status.busy": "2021-09-06T13:41:34.450685Z",
     "iopub.status.idle": "2021-09-06T13:41:34.455494Z",
     "shell.execute_reply": "2021-09-06T13:41:34.455892Z"
    }
   },
   "outputs": [],
   "source": [
    "with open('../newest_ts', 'r') as f:\r\n",
    "    newest_ts = f.read()\r\n",
    "\r\n",
    "data_path = f\"../data/data_{newest_ts}.json\"\r\n",
    "with open(data_path, 'r') as f:\r\n",
    "    data = json.load(f)\r\n",
    "\r\n",
    "with open(CONFIG_PATH, \"r\") as stream:\r\n",
    "    config = yaml.safe_load(stream)\r\n",
    "\r\n",
    "TIME_ZONE = config['time_zone']\r\n",
    "DATETIME_FORMAT = config['dt_format']"
   ]
  },
  {
   "cell_type": "code",
   "execution_count": 3,
   "metadata": {
    "execution": {
     "iopub.execute_input": "2021-09-06T13:41:34.460635Z",
     "iopub.status.busy": "2021-09-06T13:41:34.460121Z",
     "iopub.status.idle": "2021-09-06T13:41:34.473708Z",
     "shell.execute_reply": "2021-09-06T13:41:34.473316Z"
    }
   },
   "outputs": [
    {
     "name": "stdout",
     "output_type": "stream",
     "text": [
      "Recent query happens at 2021-09-06 21:41:28 (CST).\n"
     ]
    }
   ],
   "source": [
    "def ts2dt(ts, format=DATETIME_FORMAT):\r\n",
    "    dt = (datetime.utcfromtimestamp(int(ts))\r\n",
    "                    .replace(tzinfo=tz.tzutc())\r\n",
    "                    # .astimezone(tz.tzlocal())\r\n",
    "                    .astimezone(tz.gettz(TIME_ZONE)))\r\n",
    "    return dt.strftime(format), dt\r\n",
    "\r\n",
    "_, newest_dt = ts2dt(newest_ts)\r\n",
    "print(f\"Recent query happens at {newest_dt.strftime(DATETIME_FORMAT)} ({newest_dt.tzname()}).\")"
   ]
  },
  {
   "cell_type": "code",
   "execution_count": 4,
   "metadata": {
    "execution": {
     "iopub.execute_input": "2021-09-06T13:41:34.480436Z",
     "iopub.status.busy": "2021-09-06T13:41:34.479099Z",
     "iopub.status.idle": "2021-09-06T13:41:34.481411Z",
     "shell.execute_reply": "2021-09-06T13:41:34.480995Z"
    }
   },
   "outputs": [],
   "source": [
    "def degrees_to_cardinal(d):\r\n",
    "  dirs = ['N', 'NNE', 'NE', 'ENE', 'E', 'ESE', 'SE', 'SSE', 'S', 'SSW', 'SW', 'WSW', 'W', 'WNW', 'NW', 'NNW']\r\n",
    "  ix = int(round(d / (360. / len(dirs))))\r\n",
    "  return dirs[ix % len(dirs)]"
   ]
  },
  {
   "cell_type": "code",
   "execution_count": 5,
   "metadata": {
    "execution": {
     "iopub.execute_input": "2021-09-06T13:41:34.492591Z",
     "iopub.status.busy": "2021-09-06T13:41:34.483757Z",
     "iopub.status.idle": "2021-09-06T13:41:34.495177Z",
     "shell.execute_reply": "2021-09-06T13:41:34.494773Z"
    }
   },
   "outputs": [],
   "source": [
    "# data.keys()"
   ]
  },
  {
   "cell_type": "code",
   "execution_count": 6,
   "metadata": {
    "execution": {
     "iopub.execute_input": "2021-09-06T13:41:34.500466Z",
     "iopub.status.busy": "2021-09-06T13:41:34.499195Z",
     "iopub.status.idle": "2021-09-06T13:41:34.502383Z",
     "shell.execute_reply": "2021-09-06T13:41:34.501575Z"
    }
   },
   "outputs": [],
   "source": [
    "# data['current']"
   ]
  },
  {
   "cell_type": "code",
   "execution_count": 7,
   "metadata": {
    "execution": {
     "iopub.execute_input": "2021-09-06T13:41:34.527346Z",
     "iopub.status.busy": "2021-09-06T13:41:34.513867Z",
     "iopub.status.idle": "2021-09-06T13:41:35.199850Z",
     "shell.execute_reply": "2021-09-06T13:41:35.200577Z"
    }
   },
   "outputs": [
    {
     "data": {
      "image/png": "[encoded data removed]",
      "text/plain": [
       "<Figure size 216x216 with 1 Axes>"
      ]
     },
     "metadata": {
      "needs_background": "light"
     },
     "output_type": "display_data"
    },
    {
     "name": "stdout",
     "output_type": "stream",
     "text": [
      "Today, sun rises at 06:07 and sets at 18:35.\n",
      "Currently, the weather is Rain (light rain).\n",
      "The temperature is 29.82°C and it feels like 36.82°C.\n",
      "The UV index is 0, humidity is 80%.\n",
      "The pressure is 1011 hPa, percentage of cloud cover is 55%\n",
      "The wind comes from E direction with a speed 4.28 m/s.\n"
     ]
    }
   ],
   "source": [
    "current = data['current']\r\n",
    "\r\n",
    "fig, ax = plt.subplots(figsize=(3, 3))\r\n",
    "icon = requests.get(f\"http://openweathermap.org/img/wn/{current['weather'][0]['icon']}@2x.png\")\r\n",
    "im = Image.open(BytesIO(icon.content))\r\n",
    "plt.imshow(im)\r\n",
    "ax.set_axis_off()\r\n",
    "plt.show()\r\n",
    "\r\n",
    "print(f\"Today, sun rises at {ts2dt(current['sunrise'], '%H:%M')[0]} \\\r\n",
    "and sets at {ts2dt(current['sunset'], '%H:%M')[0]}.\\n\\\r\n",
    "Currently, the weather is {current['weather'][0]['main']} ({current['weather'][0]['description']}).\\n\\\r\n",
    "The temperature is {current['temp']}°C and it feels like {current['feels_like']}°C.\\n\\\r\n",
    "The UV index is {current['uvi']}, humidity is {current['humidity']}%.\\n\\\r\n",
    "The pressure is {current['pressure']} hPa, percentage of cloud cover is {current['clouds']}%\\n\\\r\n",
    "The wind comes from {degrees_to_cardinal(current['wind_deg'])} direction with a speed {current['wind_speed']} m/s.\")"
   ]
  },
  {
   "cell_type": "code",
   "execution_count": 8,
   "metadata": {
    "execution": {
     "iopub.execute_input": "2021-09-06T13:41:35.203748Z",
     "iopub.status.busy": "2021-09-06T13:41:35.203264Z",
     "iopub.status.idle": "2021-09-06T13:41:35.210694Z",
     "shell.execute_reply": "2021-09-06T13:41:35.211362Z"
    }
   },
   "outputs": [],
   "source": [
    "df_hourly = pd.DataFrame(data['hourly'])\r\n",
    "df_daily = pd.DataFrame(data['daily'])"
   ]
  },
  {
   "cell_type": "code",
   "execution_count": 9,
   "metadata": {
    "execution": {
     "iopub.execute_input": "2021-09-06T13:41:35.215353Z",
     "iopub.status.busy": "2021-09-06T13:41:35.214044Z",
     "iopub.status.idle": "2021-09-06T13:41:35.545666Z",
     "shell.execute_reply": "2021-09-06T13:41:35.546092Z"
    }
   },
   "outputs": [
    {
     "data": {
      "image/png": "[encoded data removed]",
      "text/plain": [
       "<Figure size 864x432 with 1 Axes>"
      ]
     },
     "metadata": {
      "needs_background": "light"
     },
     "output_type": "display_data"
    }
   ],
   "source": [
    "fig, ax = plt.subplots(figsize=(12, 6))\r\n",
    "plt.plot(df_hourly.temp, '.-', label='Temperature')\r\n",
    "plt.plot(df_hourly.feels_like, '.-', label='Feels Like')\r\n",
    "ax.set(title='Temperature in future 48 hours', xlabel='Time', ylabel='Temperature')\r\n",
    "ax.set_xticks(list(range(0, len(df_hourly), 2)))\r\n",
    "ax.set_xticklabels([ts2dt(ts, '%m-%d %H:%M')[0] for i, ts in enumerate(df_hourly.dt) if i%2==0], \r\n",
    "                   rotation=45, ha=\"right\")\r\n",
    "ax.locator_params(nbins=15, axis='y')\r\n",
    "plt.legend()\r\n",
    "plt.show()"
   ]
  },
  {
   "cell_type": "code",
   "execution_count": 10,
   "metadata": {
    "execution": {
     "iopub.execute_input": "2021-09-06T13:41:35.551430Z",
     "iopub.status.busy": "2021-09-06T13:41:35.548297Z",
     "iopub.status.idle": "2021-09-06T13:41:35.573973Z",
     "shell.execute_reply": "2021-09-06T13:41:35.573523Z"
    }
   },
   "outputs": [
    {
     "data": {
      "text/html": [
       "<div>\n",
       "<style scoped>\n",
       "    .dataframe tbody tr th:only-of-type {\n",
       "        vertical-align: middle;\n",
       "    }\n",
       "\n",
       "    .dataframe tbody tr th {\n",
       "        vertical-align: top;\n",
       "    }\n",
       "\n",
       "    .dataframe thead th {\n",
       "        text-align: right;\n",
       "    }\n",
       "</style>\n",
       "<table border=\"1\" class=\"dataframe\">\n",
       "  <thead>\n",
       "    <tr style=\"text-align: right;\">\n",
       "      <th></th>\n",
       "      <th>dt</th>\n",
       "      <th>temp</th>\n",
       "      <th>feels_like</th>\n",
       "      <th>pressure</th>\n",
       "      <th>humidity</th>\n",
       "      <th>dew_point</th>\n",
       "      <th>uvi</th>\n",
       "      <th>clouds</th>\n",
       "      <th>visibility</th>\n",
       "      <th>wind_speed</th>\n",
       "      <th>wind_deg</th>\n",
       "      <th>wind_gust</th>\n",
       "      <th>weather</th>\n",
       "      <th>pop</th>\n",
       "      <th>rain</th>\n",
       "    </tr>\n",
       "  </thead>\n",
       "  <tbody>\n",
       "    <tr>\n",
       "      <th>0</th>\n",
       "      <td>1630933200</td>\n",
       "      <td>29.44</td>\n",
       "      <td>36.24</td>\n",
       "      <td>1011</td>\n",
       "      <td>81</td>\n",
       "      <td>25.83</td>\n",
       "      <td>0.0</td>\n",
       "      <td>61</td>\n",
       "      <td>10000</td>\n",
       "      <td>4.00</td>\n",
       "      <td>77</td>\n",
       "      <td>6.19</td>\n",
       "      <td>[{'id': 500, 'main': 'Rain', 'description': 'l...</td>\n",
       "      <td>0.77</td>\n",
       "      <td>{'1h': 0.13}</td>\n",
       "    </tr>\n",
       "    <tr>\n",
       "      <th>1</th>\n",
       "      <td>1630936800</td>\n",
       "      <td>29.82</td>\n",
       "      <td>36.82</td>\n",
       "      <td>1011</td>\n",
       "      <td>80</td>\n",
       "      <td>25.99</td>\n",
       "      <td>0.0</td>\n",
       "      <td>55</td>\n",
       "      <td>10000</td>\n",
       "      <td>4.28</td>\n",
       "      <td>86</td>\n",
       "      <td>6.63</td>\n",
       "      <td>[{'id': 803, 'main': 'Clouds', 'description': ...</td>\n",
       "      <td>0.68</td>\n",
       "      <td>NaN</td>\n",
       "    </tr>\n",
       "    <tr>\n",
       "      <th>2</th>\n",
       "      <td>1630940400</td>\n",
       "      <td>29.42</td>\n",
       "      <td>36.42</td>\n",
       "      <td>1011</td>\n",
       "      <td>82</td>\n",
       "      <td>26.02</td>\n",
       "      <td>0.0</td>\n",
       "      <td>58</td>\n",
       "      <td>10000</td>\n",
       "      <td>4.29</td>\n",
       "      <td>77</td>\n",
       "      <td>6.20</td>\n",
       "      <td>[{'id': 803, 'main': 'Clouds', 'description': ...</td>\n",
       "      <td>0.55</td>\n",
       "      <td>NaN</td>\n",
       "    </tr>\n",
       "    <tr>\n",
       "      <th>3</th>\n",
       "      <td>1630944000</td>\n",
       "      <td>28.96</td>\n",
       "      <td>35.29</td>\n",
       "      <td>1011</td>\n",
       "      <td>83</td>\n",
       "      <td>25.78</td>\n",
       "      <td>0.0</td>\n",
       "      <td>64</td>\n",
       "      <td>10000</td>\n",
       "      <td>4.79</td>\n",
       "      <td>74</td>\n",
       "      <td>6.77</td>\n",
       "      <td>[{'id': 803, 'main': 'Clouds', 'description': ...</td>\n",
       "      <td>0.60</td>\n",
       "      <td>NaN</td>\n",
       "    </tr>\n",
       "    <tr>\n",
       "      <th>4</th>\n",
       "      <td>1630947600</td>\n",
       "      <td>28.46</td>\n",
       "      <td>33.84</td>\n",
       "      <td>1011</td>\n",
       "      <td>83</td>\n",
       "      <td>25.29</td>\n",
       "      <td>0.0</td>\n",
       "      <td>71</td>\n",
       "      <td>10000</td>\n",
       "      <td>5.21</td>\n",
       "      <td>81</td>\n",
       "      <td>7.45</td>\n",
       "      <td>[{'id': 803, 'main': 'Clouds', 'description': ...</td>\n",
       "      <td>0.64</td>\n",
       "      <td>NaN</td>\n",
       "    </tr>\n",
       "  </tbody>\n",
       "</table>\n",
       "</div>"
      ],
      "text/plain": [
       "           dt   temp  feels_like  pressure  humidity  dew_point  uvi  clouds  \\\n",
       "0  1630933200  29.44       36.24      1011        81      25.83  0.0      61   \n",
       "1  1630936800  29.82       36.82      1011        80      25.99  0.0      55   \n",
       "2  1630940400  29.42       36.42      1011        82      26.02  0.0      58   \n",
       "3  1630944000  28.96       35.29      1011        83      25.78  0.0      64   \n",
       "4  1630947600  28.46       33.84      1011        83      25.29  0.0      71   \n",
       "\n",
       "   visibility  wind_speed  wind_deg  wind_gust  \\\n",
       "0       10000        4.00        77       6.19   \n",
       "1       10000        4.28        86       6.63   \n",
       "2       10000        4.29        77       6.20   \n",
       "3       10000        4.79        74       6.77   \n",
       "4       10000        5.21        81       7.45   \n",
       "\n",
       "                                             weather   pop          rain  \n",
       "0  [{'id': 500, 'main': 'Rain', 'description': 'l...  0.77  {'1h': 0.13}  \n",
       "1  [{'id': 803, 'main': 'Clouds', 'description': ...  0.68           NaN  \n",
       "2  [{'id': 803, 'main': 'Clouds', 'description': ...  0.55           NaN  \n",
       "3  [{'id': 803, 'main': 'Clouds', 'description': ...  0.60           NaN  \n",
       "4  [{'id': 803, 'main': 'Clouds', 'description': ...  0.64           NaN  "
      ]
     },
     "execution_count": 10,
     "metadata": {},
     "output_type": "execute_result"
    }
   ],
   "source": [
    "df_hourly.head()"
   ]
  },
  {
   "cell_type": "code",
   "execution_count": null,
   "metadata": {},
   "outputs": [],
   "source": []
  }
 ],
 "metadata": {
  "interpreter": {
   "hash": "c1b4cfe941b6d2466ad1fb5979e97da9cda8801728c8091b097ab734208fc00c"
  },
  "kernelspec": {
   "display_name": "Python 3.8.3 64-bit ('base': conda)",
   "name": "python3"
  },
  "language_info": {
   "codemirror_mode": {
    "name": "ipython",
    "version": 3
   },
   "file_extension": ".py",
   "mimetype": "text/x-python",
   "name": "python",
   "nbconvert_exporter": "python",
   "pygments_lexer": "ipython3",
   "version": "3.8.11"
  }
 },
 "nbformat": 4,
 "nbformat_minor": 2
}
