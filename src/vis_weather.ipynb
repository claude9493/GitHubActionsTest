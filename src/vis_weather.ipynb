{
 "cells": [
  {
   "cell_type": "code",
   "execution_count": 1,
   "metadata": {
    "execution": {
     "iopub.execute_input": "2021-10-09T03:12:20.774069Z",
     "iopub.status.busy": "2021-10-09T03:12:20.773487Z",
     "iopub.status.idle": "2021-10-09T03:12:23.201976Z",
     "shell.execute_reply": "2021-10-09T03:12:23.201159Z"
    }
   },
   "outputs": [],
   "source": [
    "import json, yaml, requests\r\n",
    "from datetime import datetime\r\n",
    "from dateutil import tz\r\n",
    "import pandas as pd\r\n",
    "from PIL import Image\r\n",
    "from io import BytesIO\r\n",
    "import matplotlib.pyplot as plt\r\n",
    "import seaborn\r\n",
    "\r\n",
    "CONFIG_PATH = \"../config/config.yaml\""
   ]
  },
  {
   "cell_type": "code",
   "execution_count": 2,
   "metadata": {
    "execution": {
     "iopub.execute_input": "2021-10-09T03:12:23.211796Z",
     "iopub.status.busy": "2021-10-09T03:12:23.208461Z",
     "iopub.status.idle": "2021-10-09T03:12:23.215329Z",
     "shell.execute_reply": "2021-10-09T03:12:23.214314Z"
    }
   },
   "outputs": [],
   "source": [
    "with open('../newest_ts', 'r') as f:\r\n",
    "    newest_ts = f.read()\r\n",
    "\r\n",
    "data_path = f\"../data/data_{newest_ts}.json\"\r\n",
    "with open(data_path, 'r') as f:\r\n",
    "    data = json.load(f)\r\n",
    "\r\n",
    "with open(CONFIG_PATH, \"r\") as stream:\r\n",
    "    config = yaml.safe_load(stream)\r\n",
    "\r\n",
    "TIME_ZONE = config['time_zone']\r\n",
    "DATETIME_FORMAT = config['dt_format']"
   ]
  },
  {
   "cell_type": "code",
   "execution_count": 3,
   "metadata": {
    "execution": {
     "iopub.execute_input": "2021-10-09T03:12:23.220757Z",
     "iopub.status.busy": "2021-10-09T03:12:23.220214Z",
     "iopub.status.idle": "2021-10-09T03:12:23.260983Z",
     "shell.execute_reply": "2021-10-09T03:12:23.261375Z"
    }
   },
   "outputs": [
    {
     "name": "stdout",
     "output_type": "stream",
     "text": [
      "Recent query happens at 2021-10-09 11:12:15 (CST).\n"
     ]
    }
   ],
   "source": [
    "def ts2dt(ts, format=DATETIME_FORMAT):\r\n",
    "    dt = (datetime.utcfromtimestamp(int(ts))\r\n",
    "                    .replace(tzinfo=tz.tzutc())\r\n",
    "                    # .astimezone(tz.tzlocal())\r\n",
    "                    .astimezone(tz.gettz(TIME_ZONE)))\r\n",
    "    return dt.strftime(format), dt\r\n",
    "\r\n",
    "_, newest_dt = ts2dt(newest_ts)\r\n",
    "print(f\"Recent query happens at {newest_dt.strftime(DATETIME_FORMAT)} ({newest_dt.tzname()}).\")"
   ]
  },
  {
   "cell_type": "code",
   "execution_count": 4,
   "metadata": {
    "execution": {
     "iopub.execute_input": "2021-10-09T03:12:23.269006Z",
     "iopub.status.busy": "2021-10-09T03:12:23.268103Z",
     "iopub.status.idle": "2021-10-09T03:12:23.272367Z",
     "shell.execute_reply": "2021-10-09T03:12:23.271905Z"
    }
   },
   "outputs": [],
   "source": [
    "def degrees_to_cardinal(d):\r\n",
    "  dirs = ['N', 'NNE', 'NE', 'ENE', 'E', 'ESE', 'SE', 'SSE', 'S', 'SSW', 'SW', 'WSW', 'W', 'WNW', 'NW', 'NNW']\r\n",
    "  ix = int(round(d / (360. / len(dirs))))\r\n",
    "  return dirs[ix % len(dirs)]"
   ]
  },
  {
   "cell_type": "code",
   "execution_count": 5,
   "metadata": {
    "execution": {
     "iopub.execute_input": "2021-10-09T03:12:23.276743Z",
     "iopub.status.busy": "2021-10-09T03:12:23.276020Z",
     "iopub.status.idle": "2021-10-09T03:12:23.280195Z",
     "shell.execute_reply": "2021-10-09T03:12:23.280689Z"
    }
   },
   "outputs": [],
   "source": [
    "# data.keys()"
   ]
  },
  {
   "cell_type": "code",
   "execution_count": 6,
   "metadata": {
    "execution": {
     "iopub.execute_input": "2021-10-09T03:12:23.284728Z",
     "iopub.status.busy": "2021-10-09T03:12:23.284132Z",
     "iopub.status.idle": "2021-10-09T03:12:23.289984Z",
     "shell.execute_reply": "2021-10-09T03:12:23.290448Z"
    }
   },
   "outputs": [],
   "source": [
    "# data['current']"
   ]
  },
  {
   "cell_type": "code",
   "execution_count": 7,
   "metadata": {
    "execution": {
     "iopub.execute_input": "2021-10-09T03:12:23.319974Z",
     "iopub.status.busy": "2021-10-09T03:12:23.312585Z",
     "iopub.status.idle": "2021-10-09T03:12:23.742706Z",
     "shell.execute_reply": "2021-10-09T03:12:23.743517Z"
    }
   },
   "outputs": [
    {
     "data": {
      "image/png": "[encoded data removed]",
      "text/plain": [
       "<Figure size 216x216 with 1 Axes>"
      ]
     },
     "metadata": {
      "needs_background": "light"
     },
     "output_type": "display_data"
    },
    {
     "name": "stdout",
     "output_type": "stream",
     "text": [
      "Today, sun rises at 06:16 and sets at 18:03.\n",
      "Currently, the weather is Clouds (overcast clouds).\n",
      "The temperature is 28.16°C and it feels like 33.53°C.\n",
      "The UV index is 0.73, humidity is 86%.\n",
      "The pressure is 1010 hPa, percentage of cloud cover is 100%\n",
      "The wind comes from NE direction with a speed 2.24 m/s.\n"
     ]
    }
   ],
   "source": [
    "current = data['current']\r\n",
    "\r\n",
    "fig, ax = plt.subplots(figsize=(3, 3))\r\n",
    "icon = requests.get(f\"http://openweathermap.org/img/wn/{current['weather'][0]['icon']}@2x.png\")\r\n",
    "im = Image.open(BytesIO(icon.content))\r\n",
    "plt.imshow(im)\r\n",
    "ax.set_axis_off()\r\n",
    "plt.show()\r\n",
    "\r\n",
    "print(f\"Today, sun rises at {ts2dt(current['sunrise'], '%H:%M')[0]} \\\r\n",
    "and sets at {ts2dt(current['sunset'], '%H:%M')[0]}.\\n\\\r\n",
    "Currently, the weather is {current['weather'][0]['main']} ({current['weather'][0]['description']}).\\n\\\r\n",
    "The temperature is {current['temp']}°C and it feels like {current['feels_like']}°C.\\n\\\r\n",
    "The UV index is {current['uvi']}, humidity is {current['humidity']}%.\\n\\\r\n",
    "The pressure is {current['pressure']} hPa, percentage of cloud cover is {current['clouds']}%\\n\\\r\n",
    "The wind comes from {degrees_to_cardinal(current['wind_deg'])} direction with a speed {current['wind_speed']} m/s.\")"
   ]
  },
  {
   "cell_type": "code",
   "execution_count": 8,
   "metadata": {
    "execution": {
     "iopub.execute_input": "2021-10-09T03:12:23.747329Z",
     "iopub.status.busy": "2021-10-09T03:12:23.746205Z",
     "iopub.status.idle": "2021-10-09T03:12:23.754612Z",
     "shell.execute_reply": "2021-10-09T03:12:23.755404Z"
    }
   },
   "outputs": [],
   "source": [
    "df_hourly = pd.DataFrame(data['hourly'])\r\n",
    "df_daily = pd.DataFrame(data['daily'])"
   ]
  },
  {
   "cell_type": "code",
   "execution_count": 9,
   "metadata": {
    "execution": {
     "iopub.execute_input": "2021-10-09T03:12:23.758977Z",
     "iopub.status.busy": "2021-10-09T03:12:23.757705Z",
     "iopub.status.idle": "2021-10-09T03:12:24.083971Z",
     "shell.execute_reply": "2021-10-09T03:12:24.083410Z"
    }
   },
   "outputs": [
    {
     "data": {
      "image/png": "[encoded data removed]",
      "text/plain": [
       "<Figure size 864x432 with 1 Axes>"
      ]
     },
     "metadata": {
      "needs_background": "light"
     },
     "output_type": "display_data"
    }
   ],
   "source": [
    "fig, ax = plt.subplots(figsize=(12, 6))\r\n",
    "plt.plot(df_hourly.temp, '.-', label='Temperature')\r\n",
    "plt.plot(df_hourly.feels_like, '.-', label='Feels Like')\r\n",
    "ax.set(title='Temperature in future 48 hours', xlabel='Time', ylabel='Temperature')\r\n",
    "ax.set_xticks(list(range(0, len(df_hourly), 2)))\r\n",
    "ax.set_xticklabels([ts2dt(ts, '%m-%d %H:%M')[0] for i, ts in enumerate(df_hourly.dt) if i%2==0], \r\n",
    "                   rotation=45, ha=\"right\")\r\n",
    "ax.locator_params(nbins=15, axis='y')\r\n",
    "plt.legend()\r\n",
    "plt.show()"
   ]
  },
  {
   "cell_type": "code",
   "execution_count": 10,
   "metadata": {
    "execution": {
     "iopub.execute_input": "2021-10-09T03:12:24.094650Z",
     "iopub.status.busy": "2021-10-09T03:12:24.088655Z",
     "iopub.status.idle": "2021-10-09T03:12:24.112730Z",
     "shell.execute_reply": "2021-10-09T03:12:24.112273Z"
    }
   },
   "outputs": [
    {
     "data": {
      "text/html": [
       "<div>\n",
       "<style scoped>\n",
       "    .dataframe tbody tr th:only-of-type {\n",
       "        vertical-align: middle;\n",
       "    }\n",
       "\n",
       "    .dataframe tbody tr th {\n",
       "        vertical-align: top;\n",
       "    }\n",
       "\n",
       "    .dataframe thead th {\n",
       "        text-align: right;\n",
       "    }\n",
       "</style>\n",
       "<table border=\"1\" class=\"dataframe\">\n",
       "  <thead>\n",
       "    <tr style=\"text-align: right;\">\n",
       "      <th></th>\n",
       "      <th>dt</th>\n",
       "      <th>temp</th>\n",
       "      <th>feels_like</th>\n",
       "      <th>pressure</th>\n",
       "      <th>humidity</th>\n",
       "      <th>dew_point</th>\n",
       "      <th>uvi</th>\n",
       "      <th>clouds</th>\n",
       "      <th>visibility</th>\n",
       "      <th>wind_speed</th>\n",
       "      <th>wind_deg</th>\n",
       "      <th>wind_gust</th>\n",
       "      <th>weather</th>\n",
       "      <th>pop</th>\n",
       "      <th>rain</th>\n",
       "    </tr>\n",
       "  </thead>\n",
       "  <tbody>\n",
       "    <tr>\n",
       "      <th>0</th>\n",
       "      <td>1633748400</td>\n",
       "      <td>28.16</td>\n",
       "      <td>33.53</td>\n",
       "      <td>1010</td>\n",
       "      <td>86</td>\n",
       "      <td>25.59</td>\n",
       "      <td>0.73</td>\n",
       "      <td>100</td>\n",
       "      <td>6463</td>\n",
       "      <td>12.59</td>\n",
       "      <td>101</td>\n",
       "      <td>18.34</td>\n",
       "      <td>[{'id': 501, 'main': 'Rain', 'description': 'm...</td>\n",
       "      <td>1.00</td>\n",
       "      <td>{'1h': 2.69}</td>\n",
       "    </tr>\n",
       "    <tr>\n",
       "      <th>1</th>\n",
       "      <td>1633752000</td>\n",
       "      <td>27.78</td>\n",
       "      <td>32.59</td>\n",
       "      <td>1009</td>\n",
       "      <td>87</td>\n",
       "      <td>25.42</td>\n",
       "      <td>0.65</td>\n",
       "      <td>100</td>\n",
       "      <td>7991</td>\n",
       "      <td>13.05</td>\n",
       "      <td>98</td>\n",
       "      <td>19.10</td>\n",
       "      <td>[{'id': 500, 'main': 'Rain', 'description': 'l...</td>\n",
       "      <td>1.00</td>\n",
       "      <td>{'1h': 0.15}</td>\n",
       "    </tr>\n",
       "    <tr>\n",
       "      <th>2</th>\n",
       "      <td>1633755600</td>\n",
       "      <td>27.50</td>\n",
       "      <td>31.93</td>\n",
       "      <td>1008</td>\n",
       "      <td>88</td>\n",
       "      <td>25.33</td>\n",
       "      <td>0.64</td>\n",
       "      <td>100</td>\n",
       "      <td>7757</td>\n",
       "      <td>13.10</td>\n",
       "      <td>98</td>\n",
       "      <td>19.04</td>\n",
       "      <td>[{'id': 500, 'main': 'Rain', 'description': 'l...</td>\n",
       "      <td>1.00</td>\n",
       "      <td>{'1h': 0.65}</td>\n",
       "    </tr>\n",
       "    <tr>\n",
       "      <th>3</th>\n",
       "      <td>1633759200</td>\n",
       "      <td>27.17</td>\n",
       "      <td>31.11</td>\n",
       "      <td>1006</td>\n",
       "      <td>89</td>\n",
       "      <td>25.20</td>\n",
       "      <td>0.52</td>\n",
       "      <td>100</td>\n",
       "      <td>6121</td>\n",
       "      <td>13.77</td>\n",
       "      <td>100</td>\n",
       "      <td>19.66</td>\n",
       "      <td>[{'id': 501, 'main': 'Rain', 'description': 'm...</td>\n",
       "      <td>1.00</td>\n",
       "      <td>{'1h': 1.72}</td>\n",
       "    </tr>\n",
       "    <tr>\n",
       "      <th>4</th>\n",
       "      <td>1633762800</td>\n",
       "      <td>26.72</td>\n",
       "      <td>29.95</td>\n",
       "      <td>1005</td>\n",
       "      <td>90</td>\n",
       "      <td>24.94</td>\n",
       "      <td>0.26</td>\n",
       "      <td>100</td>\n",
       "      <td>6347</td>\n",
       "      <td>14.23</td>\n",
       "      <td>97</td>\n",
       "      <td>20.34</td>\n",
       "      <td>[{'id': 501, 'main': 'Rain', 'description': 'm...</td>\n",
       "      <td>0.99</td>\n",
       "      <td>{'1h': 1.73}</td>\n",
       "    </tr>\n",
       "  </tbody>\n",
       "</table>\n",
       "</div>"
      ],
      "text/plain": [
       "           dt   temp  feels_like  pressure  humidity  dew_point   uvi  clouds  \\\n",
       "0  1633748400  28.16       33.53      1010        86      25.59  0.73     100   \n",
       "1  1633752000  27.78       32.59      1009        87      25.42  0.65     100   \n",
       "2  1633755600  27.50       31.93      1008        88      25.33  0.64     100   \n",
       "3  1633759200  27.17       31.11      1006        89      25.20  0.52     100   \n",
       "4  1633762800  26.72       29.95      1005        90      24.94  0.26     100   \n",
       "\n",
       "   visibility  wind_speed  wind_deg  wind_gust  \\\n",
       "0        6463       12.59       101      18.34   \n",
       "1        7991       13.05        98      19.10   \n",
       "2        7757       13.10        98      19.04   \n",
       "3        6121       13.77       100      19.66   \n",
       "4        6347       14.23        97      20.34   \n",
       "\n",
       "                                             weather   pop          rain  \n",
       "0  [{'id': 501, 'main': 'Rain', 'description': 'm...  1.00  {'1h': 2.69}  \n",
       "1  [{'id': 500, 'main': 'Rain', 'description': 'l...  1.00  {'1h': 0.15}  \n",
       "2  [{'id': 500, 'main': 'Rain', 'description': 'l...  1.00  {'1h': 0.65}  \n",
       "3  [{'id': 501, 'main': 'Rain', 'description': 'm...  1.00  {'1h': 1.72}  \n",
       "4  [{'id': 501, 'main': 'Rain', 'description': 'm...  0.99  {'1h': 1.73}  "
      ]
     },
     "execution_count": 10,
     "metadata": {},
     "output_type": "execute_result"
    }
   ],
   "source": [
    "df_hourly.head()"
   ]
  },
  {
   "cell_type": "code",
   "execution_count": null,
   "metadata": {},
   "outputs": [],
   "source": []
  }
 ],
 "metadata": {
  "interpreter": {
   "hash": "c1b4cfe941b6d2466ad1fb5979e97da9cda8801728c8091b097ab734208fc00c"
  },
  "kernelspec": {
   "display_name": "Python 3.8.3 64-bit ('base': conda)",
   "name": "python3"
  },
  "language_info": {
   "codemirror_mode": {
    "name": "ipython",
    "version": 3
   },
   "file_extension": ".py",
   "mimetype": "text/x-python",
   "name": "python",
   "nbconvert_exporter": "python",
   "pygments_lexer": "ipython3",
   "version": "3.8.12"
  }
 },
 "nbformat": 4,
 "nbformat_minor": 2
}
