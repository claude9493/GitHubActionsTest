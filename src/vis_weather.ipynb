{
 "cells": [
  {
   "cell_type": "code",
   "execution_count": 1,
   "metadata": {
    "execution": {
     "iopub.execute_input": "2021-09-08T20:16:45.207141Z",
     "iopub.status.busy": "2021-09-08T20:16:45.206467Z",
     "iopub.status.idle": "2021-09-08T20:16:48.255518Z",
     "shell.execute_reply": "2021-09-08T20:16:48.256209Z"
    }
   },
   "outputs": [],
   "source": [
    "import json, yaml, requests\r\n",
    "from datetime import datetime\r\n",
    "from dateutil import tz\r\n",
    "import pandas as pd\r\n",
    "from PIL import Image\r\n",
    "from io import BytesIO\r\n",
    "import matplotlib.pyplot as plt\r\n",
    "import seaborn\r\n",
    "\r\n",
    "CONFIG_PATH = \"../config/config.yaml\""
   ]
  },
  {
   "cell_type": "code",
   "execution_count": 2,
   "metadata": {
    "execution": {
     "iopub.execute_input": "2021-09-08T20:16:48.260004Z",
     "iopub.status.busy": "2021-09-08T20:16:48.259170Z",
     "iopub.status.idle": "2021-09-08T20:16:48.268950Z",
     "shell.execute_reply": "2021-09-08T20:16:48.268134Z"
    }
   },
   "outputs": [],
   "source": [
    "with open('../newest_ts', 'r') as f:\r\n",
    "    newest_ts = f.read()\r\n",
    "\r\n",
    "data_path = f\"../data/data_{newest_ts}.json\"\r\n",
    "with open(data_path, 'r') as f:\r\n",
    "    data = json.load(f)\r\n",
    "\r\n",
    "with open(CONFIG_PATH, \"r\") as stream:\r\n",
    "    config = yaml.safe_load(stream)\r\n",
    "\r\n",
    "TIME_ZONE = config['time_zone']\r\n",
    "DATETIME_FORMAT = config['dt_format']"
   ]
  },
  {
   "cell_type": "code",
   "execution_count": 3,
   "metadata": {
    "execution": {
     "iopub.execute_input": "2021-09-08T20:16:48.275743Z",
     "iopub.status.busy": "2021-09-08T20:16:48.273835Z",
     "iopub.status.idle": "2021-09-08T20:16:48.279128Z",
     "shell.execute_reply": "2021-09-08T20:16:48.279744Z"
    }
   },
   "outputs": [
    {
     "name": "stdout",
     "output_type": "stream",
     "text": [
      "Recent query happens at 2021-09-09 04:16:42 (CST).\n"
     ]
    }
   ],
   "source": [
    "def ts2dt(ts, format=DATETIME_FORMAT):\r\n",
    "    dt = (datetime.utcfromtimestamp(int(ts))\r\n",
    "                    .replace(tzinfo=tz.tzutc())\r\n",
    "                    # .astimezone(tz.tzlocal())\r\n",
    "                    .astimezone(tz.gettz(TIME_ZONE)))\r\n",
    "    return dt.strftime(format), dt\r\n",
    "\r\n",
    "_, newest_dt = ts2dt(newest_ts)\r\n",
    "print(f\"Recent query happens at {newest_dt.strftime(DATETIME_FORMAT)} ({newest_dt.tzname()}).\")"
   ]
  },
  {
   "cell_type": "code",
   "execution_count": 4,
   "metadata": {
    "execution": {
     "iopub.execute_input": "2021-09-08T20:16:48.286441Z",
     "iopub.status.busy": "2021-09-08T20:16:48.285023Z",
     "iopub.status.idle": "2021-09-08T20:16:48.287145Z",
     "shell.execute_reply": "2021-09-08T20:16:48.287758Z"
    }
   },
   "outputs": [],
   "source": [
    "def degrees_to_cardinal(d):\r\n",
    "  dirs = ['N', 'NNE', 'NE', 'ENE', 'E', 'ESE', 'SE', 'SSE', 'S', 'SSW', 'SW', 'WSW', 'W', 'WNW', 'NW', 'NNW']\r\n",
    "  ix = int(round(d / (360. / len(dirs))))\r\n",
    "  return dirs[ix % len(dirs)]"
   ]
  },
  {
   "cell_type": "code",
   "execution_count": 5,
   "metadata": {
    "execution": {
     "iopub.execute_input": "2021-09-08T20:16:48.293284Z",
     "iopub.status.busy": "2021-09-08T20:16:48.291630Z",
     "iopub.status.idle": "2021-09-08T20:16:48.293967Z",
     "shell.execute_reply": "2021-09-08T20:16:48.294462Z"
    }
   },
   "outputs": [],
   "source": [
    "# data.keys()"
   ]
  },
  {
   "cell_type": "code",
   "execution_count": 6,
   "metadata": {
    "execution": {
     "iopub.execute_input": "2021-09-08T20:16:48.299656Z",
     "iopub.status.busy": "2021-09-08T20:16:48.298101Z",
     "iopub.status.idle": "2021-09-08T20:16:48.300324Z",
     "shell.execute_reply": "2021-09-08T20:16:48.300823Z"
    }
   },
   "outputs": [],
   "source": [
    "# data['current']"
   ]
  },
  {
   "cell_type": "code",
   "execution_count": 7,
   "metadata": {
    "execution": {
     "iopub.execute_input": "2021-09-08T20:16:48.323811Z",
     "iopub.status.busy": "2021-09-08T20:16:48.303389Z",
     "iopub.status.idle": "2021-09-08T20:16:48.764383Z",
     "shell.execute_reply": "2021-09-08T20:16:48.765217Z"
    }
   },
   "outputs": [
    {
     "data": {
      "image/png": "[encoded data removed]",
      "text/plain": [
       "<Figure size 216x216 with 1 Axes>"
      ]
     },
     "metadata": {
      "needs_background": "light"
     },
     "output_type": "display_data"
    },
    {
     "name": "stdout",
     "output_type": "stream",
     "text": [
      "Today, sun rises at 06:08 and sets at 18:32.\n",
      "Currently, the weather is Clouds (scattered clouds).\n",
      "The temperature is 28.12°C and it feels like 31.77°C.\n",
      "The UV index is 0, humidity is 76%.\n",
      "The pressure is 1009 hPa, percentage of cloud cover is 38%\n",
      "The wind comes from ENE direction with a speed 1.04 m/s.\n"
     ]
    }
   ],
   "source": [
    "current = data['current']\r\n",
    "\r\n",
    "fig, ax = plt.subplots(figsize=(3, 3))\r\n",
    "icon = requests.get(f\"http://openweathermap.org/img/wn/{current['weather'][0]['icon']}@2x.png\")\r\n",
    "im = Image.open(BytesIO(icon.content))\r\n",
    "plt.imshow(im)\r\n",
    "ax.set_axis_off()\r\n",
    "plt.show()\r\n",
    "\r\n",
    "print(f\"Today, sun rises at {ts2dt(current['sunrise'], '%H:%M')[0]} \\\r\n",
    "and sets at {ts2dt(current['sunset'], '%H:%M')[0]}.\\n\\\r\n",
    "Currently, the weather is {current['weather'][0]['main']} ({current['weather'][0]['description']}).\\n\\\r\n",
    "The temperature is {current['temp']}°C and it feels like {current['feels_like']}°C.\\n\\\r\n",
    "The UV index is {current['uvi']}, humidity is {current['humidity']}%.\\n\\\r\n",
    "The pressure is {current['pressure']} hPa, percentage of cloud cover is {current['clouds']}%\\n\\\r\n",
    "The wind comes from {degrees_to_cardinal(current['wind_deg'])} direction with a speed {current['wind_speed']} m/s.\")"
   ]
  },
  {
   "cell_type": "code",
   "execution_count": 8,
   "metadata": {
    "execution": {
     "iopub.execute_input": "2021-09-08T20:16:48.769342Z",
     "iopub.status.busy": "2021-09-08T20:16:48.768143Z",
     "iopub.status.idle": "2021-09-08T20:16:48.777183Z",
     "shell.execute_reply": "2021-09-08T20:16:48.778131Z"
    }
   },
   "outputs": [],
   "source": [
    "df_hourly = pd.DataFrame(data['hourly'])\r\n",
    "df_daily = pd.DataFrame(data['daily'])"
   ]
  },
  {
   "cell_type": "code",
   "execution_count": 9,
   "metadata": {
    "execution": {
     "iopub.execute_input": "2021-09-08T20:16:48.781960Z",
     "iopub.status.busy": "2021-09-08T20:16:48.780822Z",
     "iopub.status.idle": "2021-09-08T20:16:49.136051Z",
     "shell.execute_reply": "2021-09-08T20:16:49.134939Z"
    }
   },
   "outputs": [
    {
     "data": {
      "image/png": "[encoded data removed]",
      "text/plain": [
       "<Figure size 864x432 with 1 Axes>"
      ]
     },
     "metadata": {
      "needs_background": "light"
     },
     "output_type": "display_data"
    }
   ],
   "source": [
    "fig, ax = plt.subplots(figsize=(12, 6))\r\n",
    "plt.plot(df_hourly.temp, '.-', label='Temperature')\r\n",
    "plt.plot(df_hourly.feels_like, '.-', label='Feels Like')\r\n",
    "ax.set(title='Temperature in future 48 hours', xlabel='Time', ylabel='Temperature')\r\n",
    "ax.set_xticks(list(range(0, len(df_hourly), 2)))\r\n",
    "ax.set_xticklabels([ts2dt(ts, '%m-%d %H:%M')[0] for i, ts in enumerate(df_hourly.dt) if i%2==0], \r\n",
    "                   rotation=45, ha=\"right\")\r\n",
    "ax.locator_params(nbins=15, axis='y')\r\n",
    "plt.legend()\r\n",
    "plt.show()"
   ]
  },
  {
   "cell_type": "code",
   "execution_count": 10,
   "metadata": {
    "execution": {
     "iopub.execute_input": "2021-09-08T20:16:49.141120Z",
     "iopub.status.busy": "2021-09-08T20:16:49.140531Z",
     "iopub.status.idle": "2021-09-08T20:16:49.161924Z",
     "shell.execute_reply": "2021-09-08T20:16:49.162504Z"
    }
   },
   "outputs": [
    {
     "data": {
      "text/html": [
       "<div>\n",
       "<style scoped>\n",
       "    .dataframe tbody tr th:only-of-type {\n",
       "        vertical-align: middle;\n",
       "    }\n",
       "\n",
       "    .dataframe tbody tr th {\n",
       "        vertical-align: top;\n",
       "    }\n",
       "\n",
       "    .dataframe thead th {\n",
       "        text-align: right;\n",
       "    }\n",
       "</style>\n",
       "<table border=\"1\" class=\"dataframe\">\n",
       "  <thead>\n",
       "    <tr style=\"text-align: right;\">\n",
       "      <th></th>\n",
       "      <th>dt</th>\n",
       "      <th>temp</th>\n",
       "      <th>feels_like</th>\n",
       "      <th>pressure</th>\n",
       "      <th>humidity</th>\n",
       "      <th>dew_point</th>\n",
       "      <th>uvi</th>\n",
       "      <th>clouds</th>\n",
       "      <th>visibility</th>\n",
       "      <th>wind_speed</th>\n",
       "      <th>wind_deg</th>\n",
       "      <th>wind_gust</th>\n",
       "      <th>weather</th>\n",
       "      <th>pop</th>\n",
       "      <th>rain</th>\n",
       "    </tr>\n",
       "  </thead>\n",
       "  <tbody>\n",
       "    <tr>\n",
       "      <th>0</th>\n",
       "      <td>1631131200</td>\n",
       "      <td>28.12</td>\n",
       "      <td>31.77</td>\n",
       "      <td>1009</td>\n",
       "      <td>76</td>\n",
       "      <td>23.49</td>\n",
       "      <td>0.00</td>\n",
       "      <td>38</td>\n",
       "      <td>10000</td>\n",
       "      <td>1.04</td>\n",
       "      <td>75</td>\n",
       "      <td>1.30</td>\n",
       "      <td>[{'id': 802, 'main': 'Clouds', 'description': ...</td>\n",
       "      <td>0.38</td>\n",
       "      <td>NaN</td>\n",
       "    </tr>\n",
       "    <tr>\n",
       "      <th>1</th>\n",
       "      <td>1631134800</td>\n",
       "      <td>27.99</td>\n",
       "      <td>31.62</td>\n",
       "      <td>1009</td>\n",
       "      <td>77</td>\n",
       "      <td>23.58</td>\n",
       "      <td>0.00</td>\n",
       "      <td>36</td>\n",
       "      <td>10000</td>\n",
       "      <td>0.91</td>\n",
       "      <td>59</td>\n",
       "      <td>1.04</td>\n",
       "      <td>[{'id': 500, 'main': 'Rain', 'description': 'l...</td>\n",
       "      <td>0.39</td>\n",
       "      <td>{'1h': 0.1}</td>\n",
       "    </tr>\n",
       "    <tr>\n",
       "      <th>2</th>\n",
       "      <td>1631138400</td>\n",
       "      <td>27.80</td>\n",
       "      <td>31.19</td>\n",
       "      <td>1009</td>\n",
       "      <td>77</td>\n",
       "      <td>23.40</td>\n",
       "      <td>0.00</td>\n",
       "      <td>39</td>\n",
       "      <td>10000</td>\n",
       "      <td>1.58</td>\n",
       "      <td>76</td>\n",
       "      <td>1.77</td>\n",
       "      <td>[{'id': 500, 'main': 'Rain', 'description': 'l...</td>\n",
       "      <td>0.51</td>\n",
       "      <td>{'1h': 0.13}</td>\n",
       "    </tr>\n",
       "    <tr>\n",
       "      <th>3</th>\n",
       "      <td>1631142000</td>\n",
       "      <td>27.86</td>\n",
       "      <td>31.32</td>\n",
       "      <td>1010</td>\n",
       "      <td>77</td>\n",
       "      <td>23.45</td>\n",
       "      <td>0.27</td>\n",
       "      <td>43</td>\n",
       "      <td>10000</td>\n",
       "      <td>1.87</td>\n",
       "      <td>74</td>\n",
       "      <td>2.22</td>\n",
       "      <td>[{'id': 500, 'main': 'Rain', 'description': 'l...</td>\n",
       "      <td>0.67</td>\n",
       "      <td>{'1h': 0.13}</td>\n",
       "    </tr>\n",
       "    <tr>\n",
       "      <th>4</th>\n",
       "      <td>1631145600</td>\n",
       "      <td>28.44</td>\n",
       "      <td>32.02</td>\n",
       "      <td>1010</td>\n",
       "      <td>73</td>\n",
       "      <td>23.13</td>\n",
       "      <td>1.37</td>\n",
       "      <td>42</td>\n",
       "      <td>10000</td>\n",
       "      <td>2.08</td>\n",
       "      <td>63</td>\n",
       "      <td>2.44</td>\n",
       "      <td>[{'id': 802, 'main': 'Clouds', 'description': ...</td>\n",
       "      <td>0.63</td>\n",
       "      <td>NaN</td>\n",
       "    </tr>\n",
       "  </tbody>\n",
       "</table>\n",
       "</div>"
      ],
      "text/plain": [
       "           dt   temp  feels_like  pressure  humidity  dew_point   uvi  clouds  \\\n",
       "0  1631131200  28.12       31.77      1009        76      23.49  0.00      38   \n",
       "1  1631134800  27.99       31.62      1009        77      23.58  0.00      36   \n",
       "2  1631138400  27.80       31.19      1009        77      23.40  0.00      39   \n",
       "3  1631142000  27.86       31.32      1010        77      23.45  0.27      43   \n",
       "4  1631145600  28.44       32.02      1010        73      23.13  1.37      42   \n",
       "\n",
       "   visibility  wind_speed  wind_deg  wind_gust  \\\n",
       "0       10000        1.04        75       1.30   \n",
       "1       10000        0.91        59       1.04   \n",
       "2       10000        1.58        76       1.77   \n",
       "3       10000        1.87        74       2.22   \n",
       "4       10000        2.08        63       2.44   \n",
       "\n",
       "                                             weather   pop          rain  \n",
       "0  [{'id': 802, 'main': 'Clouds', 'description': ...  0.38           NaN  \n",
       "1  [{'id': 500, 'main': 'Rain', 'description': 'l...  0.39   {'1h': 0.1}  \n",
       "2  [{'id': 500, 'main': 'Rain', 'description': 'l...  0.51  {'1h': 0.13}  \n",
       "3  [{'id': 500, 'main': 'Rain', 'description': 'l...  0.67  {'1h': 0.13}  \n",
       "4  [{'id': 802, 'main': 'Clouds', 'description': ...  0.63           NaN  "
      ]
     },
     "execution_count": 10,
     "metadata": {},
     "output_type": "execute_result"
    }
   ],
   "source": [
    "df_hourly.head()"
   ]
  },
  {
   "cell_type": "code",
   "execution_count": null,
   "metadata": {},
   "outputs": [],
   "source": []
  }
 ],
 "metadata": {
  "interpreter": {
   "hash": "c1b4cfe941b6d2466ad1fb5979e97da9cda8801728c8091b097ab734208fc00c"
  },
  "kernelspec": {
   "display_name": "Python 3.8.3 64-bit ('base': conda)",
   "name": "python3"
  },
  "language_info": {
   "codemirror_mode": {
    "name": "ipython",
    "version": 3
   },
   "file_extension": ".py",
   "mimetype": "text/x-python",
   "name": "python",
   "nbconvert_exporter": "python",
   "pygments_lexer": "ipython3",
   "version": "3.8.11"
  }
 },
 "nbformat": 4,
 "nbformat_minor": 2
}
