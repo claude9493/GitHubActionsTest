{
 "cells": [
  {
   "cell_type": "code",
   "execution_count": 1,
   "metadata": {
    "execution": {
     "iopub.execute_input": "2021-09-20T10:12:46.313342Z",
     "iopub.status.busy": "2021-09-20T10:12:46.311935Z",
     "iopub.status.idle": "2021-09-20T10:12:47.666028Z",
     "shell.execute_reply": "2021-09-20T10:12:47.666499Z"
    }
   },
   "outputs": [],
   "source": [
    "import json, yaml, requests\r\n",
    "from datetime import datetime\r\n",
    "from dateutil import tz\r\n",
    "import pandas as pd\r\n",
    "from PIL import Image\r\n",
    "from io import BytesIO\r\n",
    "import matplotlib.pyplot as plt\r\n",
    "import seaborn\r\n",
    "\r\n",
    "CONFIG_PATH = \"../config/config.yaml\""
   ]
  },
  {
   "cell_type": "code",
   "execution_count": 2,
   "metadata": {
    "execution": {
     "iopub.execute_input": "2021-09-20T10:12:47.673106Z",
     "iopub.status.busy": "2021-09-20T10:12:47.670904Z",
     "iopub.status.idle": "2021-09-20T10:12:47.677926Z",
     "shell.execute_reply": "2021-09-20T10:12:47.677136Z"
    }
   },
   "outputs": [],
   "source": [
    "with open('../newest_ts', 'r') as f:\r\n",
    "    newest_ts = f.read()\r\n",
    "\r\n",
    "data_path = f\"../data/data_{newest_ts}.json\"\r\n",
    "with open(data_path, 'r') as f:\r\n",
    "    data = json.load(f)\r\n",
    "\r\n",
    "with open(CONFIG_PATH, \"r\") as stream:\r\n",
    "    config = yaml.safe_load(stream)\r\n",
    "\r\n",
    "TIME_ZONE = config['time_zone']\r\n",
    "DATETIME_FORMAT = config['dt_format']"
   ]
  },
  {
   "cell_type": "code",
   "execution_count": 3,
   "metadata": {
    "execution": {
     "iopub.execute_input": "2021-09-20T10:12:47.683521Z",
     "iopub.status.busy": "2021-09-20T10:12:47.682877Z",
     "iopub.status.idle": "2021-09-20T10:12:47.689984Z",
     "shell.execute_reply": "2021-09-20T10:12:47.690474Z"
    }
   },
   "outputs": [
    {
     "name": "stdout",
     "output_type": "stream",
     "text": [
      "Recent query happens at 2021-09-20 18:12:43 (CST).\n"
     ]
    }
   ],
   "source": [
    "def ts2dt(ts, format=DATETIME_FORMAT):\r\n",
    "    dt = (datetime.utcfromtimestamp(int(ts))\r\n",
    "                    .replace(tzinfo=tz.tzutc())\r\n",
    "                    # .astimezone(tz.tzlocal())\r\n",
    "                    .astimezone(tz.gettz(TIME_ZONE)))\r\n",
    "    return dt.strftime(format), dt\r\n",
    "\r\n",
    "_, newest_dt = ts2dt(newest_ts)\r\n",
    "print(f\"Recent query happens at {newest_dt.strftime(DATETIME_FORMAT)} ({newest_dt.tzname()}).\")"
   ]
  },
  {
   "cell_type": "code",
   "execution_count": 4,
   "metadata": {
    "execution": {
     "iopub.execute_input": "2021-09-20T10:12:47.695708Z",
     "iopub.status.busy": "2021-09-20T10:12:47.694953Z",
     "iopub.status.idle": "2021-09-20T10:12:47.697540Z",
     "shell.execute_reply": "2021-09-20T10:12:47.696695Z"
    }
   },
   "outputs": [],
   "source": [
    "def degrees_to_cardinal(d):\r\n",
    "  dirs = ['N', 'NNE', 'NE', 'ENE', 'E', 'ESE', 'SE', 'SSE', 'S', 'SSW', 'SW', 'WSW', 'W', 'WNW', 'NW', 'NNW']\r\n",
    "  ix = int(round(d / (360. / len(dirs))))\r\n",
    "  return dirs[ix % len(dirs)]"
   ]
  },
  {
   "cell_type": "code",
   "execution_count": 5,
   "metadata": {
    "execution": {
     "iopub.execute_input": "2021-09-20T10:12:47.701181Z",
     "iopub.status.busy": "2021-09-20T10:12:47.700640Z",
     "iopub.status.idle": "2021-09-20T10:12:47.704114Z",
     "shell.execute_reply": "2021-09-20T10:12:47.704628Z"
    }
   },
   "outputs": [],
   "source": [
    "# data.keys()"
   ]
  },
  {
   "cell_type": "code",
   "execution_count": 6,
   "metadata": {
    "execution": {
     "iopub.execute_input": "2021-09-20T10:12:47.709152Z",
     "iopub.status.busy": "2021-09-20T10:12:47.708532Z",
     "iopub.status.idle": "2021-09-20T10:12:47.710221Z",
     "shell.execute_reply": "2021-09-20T10:12:47.710648Z"
    }
   },
   "outputs": [],
   "source": [
    "# data['current']"
   ]
  },
  {
   "cell_type": "code",
   "execution_count": 7,
   "metadata": {
    "execution": {
     "iopub.execute_input": "2021-09-20T10:12:47.731806Z",
     "iopub.status.busy": "2021-09-20T10:12:47.731207Z",
     "iopub.status.idle": "2021-09-20T10:12:48.015889Z",
     "shell.execute_reply": "2021-09-20T10:12:48.016431Z"
    }
   },
   "outputs": [
    {
     "data": {
      "image/png": "[encoded data removed]",
      "text/plain": [
       "<Figure size 216x216 with 1 Axes>"
      ]
     },
     "metadata": {
      "needs_background": "light"
     },
     "output_type": "display_data"
    },
    {
     "name": "stdout",
     "output_type": "stream",
     "text": [
      "Today, sun rises at 06:11 and sets at 18:21.\n",
      "Currently, the weather is Clouds (broken clouds).\n",
      "The temperature is 30.43°C and it feels like 37.43°C.\n",
      "The UV index is 0.12, humidity is 79%.\n",
      "The pressure is 1009 hPa, percentage of cloud cover is 62%\n",
      "The wind comes from ESE direction with a speed 3.03 m/s.\n"
     ]
    }
   ],
   "source": [
    "current = data['current']\r\n",
    "\r\n",
    "fig, ax = plt.subplots(figsize=(3, 3))\r\n",
    "icon = requests.get(f\"http://openweathermap.org/img/wn/{current['weather'][0]['icon']}@2x.png\")\r\n",
    "im = Image.open(BytesIO(icon.content))\r\n",
    "plt.imshow(im)\r\n",
    "ax.set_axis_off()\r\n",
    "plt.show()\r\n",
    "\r\n",
    "print(f\"Today, sun rises at {ts2dt(current['sunrise'], '%H:%M')[0]} \\\r\n",
    "and sets at {ts2dt(current['sunset'], '%H:%M')[0]}.\\n\\\r\n",
    "Currently, the weather is {current['weather'][0]['main']} ({current['weather'][0]['description']}).\\n\\\r\n",
    "The temperature is {current['temp']}°C and it feels like {current['feels_like']}°C.\\n\\\r\n",
    "The UV index is {current['uvi']}, humidity is {current['humidity']}%.\\n\\\r\n",
    "The pressure is {current['pressure']} hPa, percentage of cloud cover is {current['clouds']}%\\n\\\r\n",
    "The wind comes from {degrees_to_cardinal(current['wind_deg'])} direction with a speed {current['wind_speed']} m/s.\")"
   ]
  },
  {
   "cell_type": "code",
   "execution_count": 8,
   "metadata": {
    "execution": {
     "iopub.execute_input": "2021-09-20T10:12:48.022177Z",
     "iopub.status.busy": "2021-09-20T10:12:48.021593Z",
     "iopub.status.idle": "2021-09-20T10:12:48.025597Z",
     "shell.execute_reply": "2021-09-20T10:12:48.026463Z"
    }
   },
   "outputs": [],
   "source": [
    "df_hourly = pd.DataFrame(data['hourly'])\r\n",
    "df_daily = pd.DataFrame(data['daily'])"
   ]
  },
  {
   "cell_type": "code",
   "execution_count": 9,
   "metadata": {
    "execution": {
     "iopub.execute_input": "2021-09-20T10:12:48.029762Z",
     "iopub.status.busy": "2021-09-20T10:12:48.028982Z",
     "iopub.status.idle": "2021-09-20T10:12:48.345650Z",
     "shell.execute_reply": "2021-09-20T10:12:48.346059Z"
    }
   },
   "outputs": [
    {
     "data": {
      "image/png": "[encoded data removed]",
      "text/plain": [
       "<Figure size 864x432 with 1 Axes>"
      ]
     },
     "metadata": {
      "needs_background": "light"
     },
     "output_type": "display_data"
    }
   ],
   "source": [
    "fig, ax = plt.subplots(figsize=(12, 6))\r\n",
    "plt.plot(df_hourly.temp, '.-', label='Temperature')\r\n",
    "plt.plot(df_hourly.feels_like, '.-', label='Feels Like')\r\n",
    "ax.set(title='Temperature in future 48 hours', xlabel='Time', ylabel='Temperature')\r\n",
    "ax.set_xticks(list(range(0, len(df_hourly), 2)))\r\n",
    "ax.set_xticklabels([ts2dt(ts, '%m-%d %H:%M')[0] for i, ts in enumerate(df_hourly.dt) if i%2==0], \r\n",
    "                   rotation=45, ha=\"right\")\r\n",
    "ax.locator_params(nbins=15, axis='y')\r\n",
    "plt.legend()\r\n",
    "plt.show()"
   ]
  },
  {
   "cell_type": "code",
   "execution_count": 10,
   "metadata": {
    "execution": {
     "iopub.execute_input": "2021-09-20T10:12:48.350573Z",
     "iopub.status.busy": "2021-09-20T10:12:48.350085Z",
     "iopub.status.idle": "2021-09-20T10:12:48.369256Z",
     "shell.execute_reply": "2021-09-20T10:12:48.369906Z"
    }
   },
   "outputs": [
    {
     "data": {
      "text/html": [
       "<div>\n",
       "<style scoped>\n",
       "    .dataframe tbody tr th:only-of-type {\n",
       "        vertical-align: middle;\n",
       "    }\n",
       "\n",
       "    .dataframe tbody tr th {\n",
       "        vertical-align: top;\n",
       "    }\n",
       "\n",
       "    .dataframe thead th {\n",
       "        text-align: right;\n",
       "    }\n",
       "</style>\n",
       "<table border=\"1\" class=\"dataframe\">\n",
       "  <thead>\n",
       "    <tr style=\"text-align: right;\">\n",
       "      <th></th>\n",
       "      <th>dt</th>\n",
       "      <th>temp</th>\n",
       "      <th>feels_like</th>\n",
       "      <th>pressure</th>\n",
       "      <th>humidity</th>\n",
       "      <th>dew_point</th>\n",
       "      <th>uvi</th>\n",
       "      <th>clouds</th>\n",
       "      <th>visibility</th>\n",
       "      <th>wind_speed</th>\n",
       "      <th>wind_deg</th>\n",
       "      <th>wind_gust</th>\n",
       "      <th>weather</th>\n",
       "      <th>pop</th>\n",
       "      <th>rain</th>\n",
       "    </tr>\n",
       "  </thead>\n",
       "  <tbody>\n",
       "    <tr>\n",
       "      <th>0</th>\n",
       "      <td>1632132000</td>\n",
       "      <td>30.43</td>\n",
       "      <td>37.43</td>\n",
       "      <td>1009</td>\n",
       "      <td>79</td>\n",
       "      <td>26.37</td>\n",
       "      <td>0.12</td>\n",
       "      <td>62</td>\n",
       "      <td>10000</td>\n",
       "      <td>3.03</td>\n",
       "      <td>107</td>\n",
       "      <td>3.35</td>\n",
       "      <td>[{'id': 803, 'main': 'Clouds', 'description': ...</td>\n",
       "      <td>0.36</td>\n",
       "      <td>NaN</td>\n",
       "    </tr>\n",
       "    <tr>\n",
       "      <th>1</th>\n",
       "      <td>1632135600</td>\n",
       "      <td>30.06</td>\n",
       "      <td>37.06</td>\n",
       "      <td>1009</td>\n",
       "      <td>78</td>\n",
       "      <td>25.80</td>\n",
       "      <td>0.00</td>\n",
       "      <td>60</td>\n",
       "      <td>10000</td>\n",
       "      <td>2.91</td>\n",
       "      <td>113</td>\n",
       "      <td>3.53</td>\n",
       "      <td>[{'id': 803, 'main': 'Clouds', 'description': ...</td>\n",
       "      <td>0.28</td>\n",
       "      <td>NaN</td>\n",
       "    </tr>\n",
       "    <tr>\n",
       "      <th>2</th>\n",
       "      <td>1632139200</td>\n",
       "      <td>29.62</td>\n",
       "      <td>36.52</td>\n",
       "      <td>1009</td>\n",
       "      <td>80</td>\n",
       "      <td>25.80</td>\n",
       "      <td>0.00</td>\n",
       "      <td>58</td>\n",
       "      <td>10000</td>\n",
       "      <td>2.75</td>\n",
       "      <td>110</td>\n",
       "      <td>3.62</td>\n",
       "      <td>[{'id': 803, 'main': 'Clouds', 'description': ...</td>\n",
       "      <td>0.20</td>\n",
       "      <td>NaN</td>\n",
       "    </tr>\n",
       "    <tr>\n",
       "      <th>3</th>\n",
       "      <td>1632142800</td>\n",
       "      <td>29.24</td>\n",
       "      <td>35.65</td>\n",
       "      <td>1010</td>\n",
       "      <td>81</td>\n",
       "      <td>25.64</td>\n",
       "      <td>0.00</td>\n",
       "      <td>55</td>\n",
       "      <td>10000</td>\n",
       "      <td>2.44</td>\n",
       "      <td>106</td>\n",
       "      <td>3.25</td>\n",
       "      <td>[{'id': 803, 'main': 'Clouds', 'description': ...</td>\n",
       "      <td>0.04</td>\n",
       "      <td>NaN</td>\n",
       "    </tr>\n",
       "    <tr>\n",
       "      <th>4</th>\n",
       "      <td>1632146400</td>\n",
       "      <td>28.79</td>\n",
       "      <td>34.58</td>\n",
       "      <td>1011</td>\n",
       "      <td>82</td>\n",
       "      <td>25.41</td>\n",
       "      <td>0.00</td>\n",
       "      <td>49</td>\n",
       "      <td>10000</td>\n",
       "      <td>2.40</td>\n",
       "      <td>110</td>\n",
       "      <td>3.24</td>\n",
       "      <td>[{'id': 802, 'main': 'Clouds', 'description': ...</td>\n",
       "      <td>0.04</td>\n",
       "      <td>NaN</td>\n",
       "    </tr>\n",
       "  </tbody>\n",
       "</table>\n",
       "</div>"
      ],
      "text/plain": [
       "           dt   temp  feels_like  pressure  humidity  dew_point   uvi  clouds  \\\n",
       "0  1632132000  30.43       37.43      1009        79      26.37  0.12      62   \n",
       "1  1632135600  30.06       37.06      1009        78      25.80  0.00      60   \n",
       "2  1632139200  29.62       36.52      1009        80      25.80  0.00      58   \n",
       "3  1632142800  29.24       35.65      1010        81      25.64  0.00      55   \n",
       "4  1632146400  28.79       34.58      1011        82      25.41  0.00      49   \n",
       "\n",
       "   visibility  wind_speed  wind_deg  wind_gust  \\\n",
       "0       10000        3.03       107       3.35   \n",
       "1       10000        2.91       113       3.53   \n",
       "2       10000        2.75       110       3.62   \n",
       "3       10000        2.44       106       3.25   \n",
       "4       10000        2.40       110       3.24   \n",
       "\n",
       "                                             weather   pop rain  \n",
       "0  [{'id': 803, 'main': 'Clouds', 'description': ...  0.36  NaN  \n",
       "1  [{'id': 803, 'main': 'Clouds', 'description': ...  0.28  NaN  \n",
       "2  [{'id': 803, 'main': 'Clouds', 'description': ...  0.20  NaN  \n",
       "3  [{'id': 803, 'main': 'Clouds', 'description': ...  0.04  NaN  \n",
       "4  [{'id': 802, 'main': 'Clouds', 'description': ...  0.04  NaN  "
      ]
     },
     "execution_count": 10,
     "metadata": {},
     "output_type": "execute_result"
    }
   ],
   "source": [
    "df_hourly.head()"
   ]
  },
  {
   "cell_type": "code",
   "execution_count": null,
   "metadata": {},
   "outputs": [],
   "source": []
  }
 ],
 "metadata": {
  "interpreter": {
   "hash": "c1b4cfe941b6d2466ad1fb5979e97da9cda8801728c8091b097ab734208fc00c"
  },
  "kernelspec": {
   "display_name": "Python 3.8.3 64-bit ('base': conda)",
   "name": "python3"
  },
  "language_info": {
   "codemirror_mode": {
    "name": "ipython",
    "version": 3
   },
   "file_extension": ".py",
   "mimetype": "text/x-python",
   "name": "python",
   "nbconvert_exporter": "python",
   "pygments_lexer": "ipython3",
   "version": "3.8.11"
  }
 },
 "nbformat": 4,
 "nbformat_minor": 2
}
