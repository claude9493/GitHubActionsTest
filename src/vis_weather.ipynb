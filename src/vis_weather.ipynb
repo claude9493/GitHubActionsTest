{
 "cells": [
  {
   "cell_type": "code",
   "execution_count": 1,
   "metadata": {
    "execution": {
     "iopub.execute_input": "2021-09-25T03:12:16.993523Z",
     "iopub.status.busy": "2021-09-25T03:12:16.992832Z",
     "iopub.status.idle": "2021-09-25T03:12:22.935503Z",
     "shell.execute_reply": "2021-09-25T03:12:22.936016Z"
    }
   },
   "outputs": [],
   "source": [
    "import json, yaml, requests\r\n",
    "from datetime import datetime\r\n",
    "from dateutil import tz\r\n",
    "import pandas as pd\r\n",
    "from PIL import Image\r\n",
    "from io import BytesIO\r\n",
    "import matplotlib.pyplot as plt\r\n",
    "import seaborn\r\n",
    "\r\n",
    "CONFIG_PATH = \"../config/config.yaml\""
   ]
  },
  {
   "cell_type": "code",
   "execution_count": 2,
   "metadata": {
    "execution": {
     "iopub.execute_input": "2021-09-25T03:12:22.941442Z",
     "iopub.status.busy": "2021-09-25T03:12:22.939059Z",
     "iopub.status.idle": "2021-09-25T03:12:22.946876Z",
     "shell.execute_reply": "2021-09-25T03:12:22.947310Z"
    }
   },
   "outputs": [],
   "source": [
    "with open('../newest_ts', 'r') as f:\r\n",
    "    newest_ts = f.read()\r\n",
    "\r\n",
    "data_path = f\"../data/data_{newest_ts}.json\"\r\n",
    "with open(data_path, 'r') as f:\r\n",
    "    data = json.load(f)\r\n",
    "\r\n",
    "with open(CONFIG_PATH, \"r\") as stream:\r\n",
    "    config = yaml.safe_load(stream)\r\n",
    "\r\n",
    "TIME_ZONE = config['time_zone']\r\n",
    "DATETIME_FORMAT = config['dt_format']"
   ]
  },
  {
   "cell_type": "code",
   "execution_count": 3,
   "metadata": {
    "execution": {
     "iopub.execute_input": "2021-09-25T03:12:22.952210Z",
     "iopub.status.busy": "2021-09-25T03:12:22.951672Z",
     "iopub.status.idle": "2021-09-25T03:12:22.984162Z",
     "shell.execute_reply": "2021-09-25T03:12:22.984723Z"
    }
   },
   "outputs": [
    {
     "name": "stdout",
     "output_type": "stream",
     "text": [
      "Recent query happens at 2021-09-25 11:12:12 (CST).\n"
     ]
    }
   ],
   "source": [
    "def ts2dt(ts, format=DATETIME_FORMAT):\r\n",
    "    dt = (datetime.utcfromtimestamp(int(ts))\r\n",
    "                    .replace(tzinfo=tz.tzutc())\r\n",
    "                    # .astimezone(tz.tzlocal())\r\n",
    "                    .astimezone(tz.gettz(TIME_ZONE)))\r\n",
    "    return dt.strftime(format), dt\r\n",
    "\r\n",
    "_, newest_dt = ts2dt(newest_ts)\r\n",
    "print(f\"Recent query happens at {newest_dt.strftime(DATETIME_FORMAT)} ({newest_dt.tzname()}).\")"
   ]
  },
  {
   "cell_type": "code",
   "execution_count": 4,
   "metadata": {
    "execution": {
     "iopub.execute_input": "2021-09-25T03:12:22.990081Z",
     "iopub.status.busy": "2021-09-25T03:12:22.989288Z",
     "iopub.status.idle": "2021-09-25T03:12:22.991532Z",
     "shell.execute_reply": "2021-09-25T03:12:22.991976Z"
    }
   },
   "outputs": [],
   "source": [
    "def degrees_to_cardinal(d):\r\n",
    "  dirs = ['N', 'NNE', 'NE', 'ENE', 'E', 'ESE', 'SE', 'SSE', 'S', 'SSW', 'SW', 'WSW', 'W', 'WNW', 'NW', 'NNW']\r\n",
    "  ix = int(round(d / (360. / len(dirs))))\r\n",
    "  return dirs[ix % len(dirs)]"
   ]
  },
  {
   "cell_type": "code",
   "execution_count": 5,
   "metadata": {
    "execution": {
     "iopub.execute_input": "2021-09-25T03:12:22.997127Z",
     "iopub.status.busy": "2021-09-25T03:12:22.995501Z",
     "iopub.status.idle": "2021-09-25T03:12:22.998029Z",
     "shell.execute_reply": "2021-09-25T03:12:22.998566Z"
    }
   },
   "outputs": [],
   "source": [
    "# data.keys()"
   ]
  },
  {
   "cell_type": "code",
   "execution_count": 6,
   "metadata": {
    "execution": {
     "iopub.execute_input": "2021-09-25T03:12:23.002626Z",
     "iopub.status.busy": "2021-09-25T03:12:23.001998Z",
     "iopub.status.idle": "2021-09-25T03:12:23.004336Z",
     "shell.execute_reply": "2021-09-25T03:12:23.003858Z"
    }
   },
   "outputs": [],
   "source": [
    "# data['current']"
   ]
  },
  {
   "cell_type": "code",
   "execution_count": 7,
   "metadata": {
    "execution": {
     "iopub.execute_input": "2021-09-25T03:12:23.027509Z",
     "iopub.status.busy": "2021-09-25T03:12:23.026980Z",
     "iopub.status.idle": "2021-09-25T03:12:23.670962Z",
     "shell.execute_reply": "2021-09-25T03:12:23.671777Z"
    }
   },
   "outputs": [
    {
     "data": {
      "image/png": "[encoded data removed]",
      "text/plain": [
       "<Figure size 216x216 with 1 Axes>"
      ]
     },
     "metadata": {
      "needs_background": "light"
     },
     "output_type": "display_data"
    },
    {
     "name": "stdout",
     "output_type": "stream",
     "text": [
      "Today, sun rises at 06:12 and sets at 18:16.\n",
      "Currently, the weather is Clouds (broken clouds).\n",
      "The temperature is 30.8°C and it feels like 36.78°C.\n",
      "The UV index is 8.28, humidity is 69%.\n",
      "The pressure is 1024 hPa, percentage of cloud cover is 59%\n",
      "The wind comes from E direction with a speed 4.47 m/s.\n"
     ]
    }
   ],
   "source": [
    "current = data['current']\r\n",
    "\r\n",
    "fig, ax = plt.subplots(figsize=(3, 3))\r\n",
    "icon = requests.get(f\"http://openweathermap.org/img/wn/{current['weather'][0]['icon']}@2x.png\")\r\n",
    "im = Image.open(BytesIO(icon.content))\r\n",
    "plt.imshow(im)\r\n",
    "ax.set_axis_off()\r\n",
    "plt.show()\r\n",
    "\r\n",
    "print(f\"Today, sun rises at {ts2dt(current['sunrise'], '%H:%M')[0]} \\\r\n",
    "and sets at {ts2dt(current['sunset'], '%H:%M')[0]}.\\n\\\r\n",
    "Currently, the weather is {current['weather'][0]['main']} ({current['weather'][0]['description']}).\\n\\\r\n",
    "The temperature is {current['temp']}°C and it feels like {current['feels_like']}°C.\\n\\\r\n",
    "The UV index is {current['uvi']}, humidity is {current['humidity']}%.\\n\\\r\n",
    "The pressure is {current['pressure']} hPa, percentage of cloud cover is {current['clouds']}%\\n\\\r\n",
    "The wind comes from {degrees_to_cardinal(current['wind_deg'])} direction with a speed {current['wind_speed']} m/s.\")"
   ]
  },
  {
   "cell_type": "code",
   "execution_count": 8,
   "metadata": {
    "execution": {
     "iopub.execute_input": "2021-09-25T03:12:23.675570Z",
     "iopub.status.busy": "2021-09-25T03:12:23.674478Z",
     "iopub.status.idle": "2021-09-25T03:12:23.683155Z",
     "shell.execute_reply": "2021-09-25T03:12:23.683928Z"
    }
   },
   "outputs": [],
   "source": [
    "df_hourly = pd.DataFrame(data['hourly'])\r\n",
    "df_daily = pd.DataFrame(data['daily'])"
   ]
  },
  {
   "cell_type": "code",
   "execution_count": 9,
   "metadata": {
    "execution": {
     "iopub.execute_input": "2021-09-25T03:12:23.687673Z",
     "iopub.status.busy": "2021-09-25T03:12:23.686499Z",
     "iopub.status.idle": "2021-09-25T03:12:24.022703Z",
     "shell.execute_reply": "2021-09-25T03:12:24.023346Z"
    }
   },
   "outputs": [
    {
     "data": {
      "image/png": "[encoded data removed]",
      "text/plain": [
       "<Figure size 864x432 with 1 Axes>"
      ]
     },
     "metadata": {
      "needs_background": "light"
     },
     "output_type": "display_data"
    }
   ],
   "source": [
    "fig, ax = plt.subplots(figsize=(12, 6))\r\n",
    "plt.plot(df_hourly.temp, '.-', label='Temperature')\r\n",
    "plt.plot(df_hourly.feels_like, '.-', label='Feels Like')\r\n",
    "ax.set(title='Temperature in future 48 hours', xlabel='Time', ylabel='Temperature')\r\n",
    "ax.set_xticks(list(range(0, len(df_hourly), 2)))\r\n",
    "ax.set_xticklabels([ts2dt(ts, '%m-%d %H:%M')[0] for i, ts in enumerate(df_hourly.dt) if i%2==0], \r\n",
    "                   rotation=45, ha=\"right\")\r\n",
    "ax.locator_params(nbins=15, axis='y')\r\n",
    "plt.legend()\r\n",
    "plt.show()"
   ]
  },
  {
   "cell_type": "code",
   "execution_count": 10,
   "metadata": {
    "execution": {
     "iopub.execute_input": "2021-09-25T03:12:24.029027Z",
     "iopub.status.busy": "2021-09-25T03:12:24.028489Z",
     "iopub.status.idle": "2021-09-25T03:12:24.049027Z",
     "shell.execute_reply": "2021-09-25T03:12:24.049460Z"
    }
   },
   "outputs": [
    {
     "data": {
      "text/html": [
       "<div>\n",
       "<style scoped>\n",
       "    .dataframe tbody tr th:only-of-type {\n",
       "        vertical-align: middle;\n",
       "    }\n",
       "\n",
       "    .dataframe tbody tr th {\n",
       "        vertical-align: top;\n",
       "    }\n",
       "\n",
       "    .dataframe thead th {\n",
       "        text-align: right;\n",
       "    }\n",
       "</style>\n",
       "<table border=\"1\" class=\"dataframe\">\n",
       "  <thead>\n",
       "    <tr style=\"text-align: right;\">\n",
       "      <th></th>\n",
       "      <th>dt</th>\n",
       "      <th>temp</th>\n",
       "      <th>feels_like</th>\n",
       "      <th>pressure</th>\n",
       "      <th>humidity</th>\n",
       "      <th>dew_point</th>\n",
       "      <th>uvi</th>\n",
       "      <th>clouds</th>\n",
       "      <th>visibility</th>\n",
       "      <th>wind_speed</th>\n",
       "      <th>wind_deg</th>\n",
       "      <th>wind_gust</th>\n",
       "      <th>weather</th>\n",
       "      <th>pop</th>\n",
       "    </tr>\n",
       "  </thead>\n",
       "  <tbody>\n",
       "    <tr>\n",
       "      <th>0</th>\n",
       "      <td>1632538800</td>\n",
       "      <td>30.80</td>\n",
       "      <td>36.78</td>\n",
       "      <td>1024</td>\n",
       "      <td>69</td>\n",
       "      <td>24.45</td>\n",
       "      <td>8.28</td>\n",
       "      <td>59</td>\n",
       "      <td>10000</td>\n",
       "      <td>7.62</td>\n",
       "      <td>72</td>\n",
       "      <td>8.53</td>\n",
       "      <td>[{'id': 803, 'main': 'Clouds', 'description': ...</td>\n",
       "      <td>0.35</td>\n",
       "    </tr>\n",
       "    <tr>\n",
       "      <th>1</th>\n",
       "      <td>1632542400</td>\n",
       "      <td>30.48</td>\n",
       "      <td>36.24</td>\n",
       "      <td>1022</td>\n",
       "      <td>70</td>\n",
       "      <td>24.39</td>\n",
       "      <td>9.74</td>\n",
       "      <td>59</td>\n",
       "      <td>10000</td>\n",
       "      <td>7.30</td>\n",
       "      <td>76</td>\n",
       "      <td>8.22</td>\n",
       "      <td>[{'id': 803, 'main': 'Clouds', 'description': ...</td>\n",
       "      <td>0.36</td>\n",
       "    </tr>\n",
       "    <tr>\n",
       "      <th>2</th>\n",
       "      <td>1632546000</td>\n",
       "      <td>30.27</td>\n",
       "      <td>35.45</td>\n",
       "      <td>1020</td>\n",
       "      <td>69</td>\n",
       "      <td>23.95</td>\n",
       "      <td>9.56</td>\n",
       "      <td>57</td>\n",
       "      <td>10000</td>\n",
       "      <td>7.22</td>\n",
       "      <td>82</td>\n",
       "      <td>7.84</td>\n",
       "      <td>[{'id': 803, 'main': 'Clouds', 'description': ...</td>\n",
       "      <td>0.26</td>\n",
       "    </tr>\n",
       "    <tr>\n",
       "      <th>3</th>\n",
       "      <td>1632549600</td>\n",
       "      <td>29.98</td>\n",
       "      <td>34.52</td>\n",
       "      <td>1017</td>\n",
       "      <td>68</td>\n",
       "      <td>23.43</td>\n",
       "      <td>7.81</td>\n",
       "      <td>51</td>\n",
       "      <td>10000</td>\n",
       "      <td>6.99</td>\n",
       "      <td>85</td>\n",
       "      <td>7.93</td>\n",
       "      <td>[{'id': 803, 'main': 'Clouds', 'description': ...</td>\n",
       "      <td>0.25</td>\n",
       "    </tr>\n",
       "    <tr>\n",
       "      <th>4</th>\n",
       "      <td>1632553200</td>\n",
       "      <td>29.62</td>\n",
       "      <td>33.49</td>\n",
       "      <td>1014</td>\n",
       "      <td>67</td>\n",
       "      <td>22.84</td>\n",
       "      <td>5.19</td>\n",
       "      <td>12</td>\n",
       "      <td>10000</td>\n",
       "      <td>6.59</td>\n",
       "      <td>87</td>\n",
       "      <td>7.99</td>\n",
       "      <td>[{'id': 801, 'main': 'Clouds', 'description': ...</td>\n",
       "      <td>0.00</td>\n",
       "    </tr>\n",
       "  </tbody>\n",
       "</table>\n",
       "</div>"
      ],
      "text/plain": [
       "           dt   temp  feels_like  pressure  humidity  dew_point   uvi  clouds  \\\n",
       "0  1632538800  30.80       36.78      1024        69      24.45  8.28      59   \n",
       "1  1632542400  30.48       36.24      1022        70      24.39  9.74      59   \n",
       "2  1632546000  30.27       35.45      1020        69      23.95  9.56      57   \n",
       "3  1632549600  29.98       34.52      1017        68      23.43  7.81      51   \n",
       "4  1632553200  29.62       33.49      1014        67      22.84  5.19      12   \n",
       "\n",
       "   visibility  wind_speed  wind_deg  wind_gust  \\\n",
       "0       10000        7.62        72       8.53   \n",
       "1       10000        7.30        76       8.22   \n",
       "2       10000        7.22        82       7.84   \n",
       "3       10000        6.99        85       7.93   \n",
       "4       10000        6.59        87       7.99   \n",
       "\n",
       "                                             weather   pop  \n",
       "0  [{'id': 803, 'main': 'Clouds', 'description': ...  0.35  \n",
       "1  [{'id': 803, 'main': 'Clouds', 'description': ...  0.36  \n",
       "2  [{'id': 803, 'main': 'Clouds', 'description': ...  0.26  \n",
       "3  [{'id': 803, 'main': 'Clouds', 'description': ...  0.25  \n",
       "4  [{'id': 801, 'main': 'Clouds', 'description': ...  0.00  "
      ]
     },
     "execution_count": 10,
     "metadata": {},
     "output_type": "execute_result"
    }
   ],
   "source": [
    "df_hourly.head()"
   ]
  },
  {
   "cell_type": "code",
   "execution_count": null,
   "metadata": {},
   "outputs": [],
   "source": []
  }
 ],
 "metadata": {
  "interpreter": {
   "hash": "c1b4cfe941b6d2466ad1fb5979e97da9cda8801728c8091b097ab734208fc00c"
  },
  "kernelspec": {
   "display_name": "Python 3.8.3 64-bit ('base': conda)",
   "name": "python3"
  },
  "language_info": {
   "codemirror_mode": {
    "name": "ipython",
    "version": 3
   },
   "file_extension": ".py",
   "mimetype": "text/x-python",
   "name": "python",
   "nbconvert_exporter": "python",
   "pygments_lexer": "ipython3",
   "version": "3.8.12"
  }
 },
 "nbformat": 4,
 "nbformat_minor": 2
}
