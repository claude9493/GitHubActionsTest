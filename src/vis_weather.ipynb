{
 "cells": [
  {
   "cell_type": "code",
   "execution_count": 1,
   "metadata": {
    "execution": {
     "iopub.execute_input": "2021-08-30T01:55:29.721707Z",
     "iopub.status.busy": "2021-08-30T01:55:29.720663Z",
     "iopub.status.idle": "2021-08-30T01:55:32.550830Z",
     "shell.execute_reply": "2021-08-30T01:55:32.550211Z"
    }
   },
   "outputs": [],
   "source": [
    "import json, yaml, requests\r\n",
    "from datetime import datetime\r\n",
    "from dateutil import tz\r\n",
    "import pandas as pd\r\n",
    "from PIL import Image\r\n",
    "from io import BytesIO\r\n",
    "import matplotlib.pyplot as plt\r\n",
    "import seaborn\r\n",
    "\r\n",
    "CONFIG_PATH = \"../config/config.yaml\""
   ]
  },
  {
   "cell_type": "code",
   "execution_count": 2,
   "metadata": {
    "execution": {
     "iopub.execute_input": "2021-08-30T01:55:32.556572Z",
     "iopub.status.busy": "2021-08-30T01:55:32.555968Z",
     "iopub.status.idle": "2021-08-30T01:55:32.561822Z",
     "shell.execute_reply": "2021-08-30T01:55:32.561136Z"
    }
   },
   "outputs": [],
   "source": [
    "with open('../newest_ts', 'r') as f:\r\n",
    "    newest_ts = f.read()\r\n",
    "\r\n",
    "data_path = f\"../data/data_{newest_ts}.json\"\r\n",
    "with open(data_path, 'r') as f:\r\n",
    "    data = json.load(f)\r\n",
    "\r\n",
    "with open(CONFIG_PATH, \"r\") as stream:\r\n",
    "    config = yaml.safe_load(stream)\r\n",
    "\r\n",
    "TIME_ZONE = config['time_zone']\r\n",
    "DATETIME_FORMAT = config['dt_format']"
   ]
  },
  {
   "cell_type": "code",
   "execution_count": 3,
   "metadata": {
    "execution": {
     "iopub.execute_input": "2021-08-30T01:55:32.567612Z",
     "iopub.status.busy": "2021-08-30T01:55:32.566661Z",
     "iopub.status.idle": "2021-08-30T01:55:32.576688Z",
     "shell.execute_reply": "2021-08-30T01:55:32.577122Z"
    }
   },
   "outputs": [
    {
     "name": "stdout",
     "output_type": "stream",
     "text": [
      "Recent query happens at 2021-08-30 09:55:26 (CST).\n"
     ]
    }
   ],
   "source": [
    "def ts2dt(ts, format=DATETIME_FORMAT):\r\n",
    "    dt = (datetime.utcfromtimestamp(int(ts))\r\n",
    "                    .replace(tzinfo=tz.tzutc())\r\n",
    "                    # .astimezone(tz.tzlocal())\r\n",
    "                    .astimezone(tz.gettz(TIME_ZONE)))\r\n",
    "    return dt.strftime(format), dt\r\n",
    "\r\n",
    "_, newest_dt = ts2dt(newest_ts)\r\n",
    "print(f\"Recent query happens at {newest_dt.strftime(DATETIME_FORMAT)} ({newest_dt.tzname()}).\")"
   ]
  },
  {
   "cell_type": "code",
   "execution_count": 4,
   "metadata": {
    "execution": {
     "iopub.execute_input": "2021-08-30T01:55:32.583772Z",
     "iopub.status.busy": "2021-08-30T01:55:32.582351Z",
     "iopub.status.idle": "2021-08-30T01:55:32.584378Z",
     "shell.execute_reply": "2021-08-30T01:55:32.584833Z"
    }
   },
   "outputs": [],
   "source": [
    "def degrees_to_cardinal(d):\r\n",
    "  dirs = ['N', 'NNE', 'NE', 'ENE', 'E', 'ESE', 'SE', 'SSE', 'S', 'SSW', 'SW', 'WSW', 'W', 'WNW', 'NW', 'NNW']\r\n",
    "  ix = int(round(d / (360. / len(dirs))))\r\n",
    "  return dirs[ix % len(dirs)]"
   ]
  },
  {
   "cell_type": "code",
   "execution_count": 5,
   "metadata": {
    "execution": {
     "iopub.execute_input": "2021-08-30T01:55:32.590011Z",
     "iopub.status.busy": "2021-08-30T01:55:32.588528Z",
     "iopub.status.idle": "2021-08-30T01:55:32.591936Z",
     "shell.execute_reply": "2021-08-30T01:55:32.591308Z"
    }
   },
   "outputs": [],
   "source": [
    "# data.keys()"
   ]
  },
  {
   "cell_type": "code",
   "execution_count": 6,
   "metadata": {
    "execution": {
     "iopub.execute_input": "2021-08-30T01:55:32.596811Z",
     "iopub.status.busy": "2021-08-30T01:55:32.595352Z",
     "iopub.status.idle": "2021-08-30T01:55:32.597471Z",
     "shell.execute_reply": "2021-08-30T01:55:32.598180Z"
    }
   },
   "outputs": [],
   "source": [
    "# data['current']"
   ]
  },
  {
   "cell_type": "code",
   "execution_count": 7,
   "metadata": {
    "execution": {
     "iopub.execute_input": "2021-08-30T01:55:32.613355Z",
     "iopub.status.busy": "2021-08-30T01:55:32.612727Z",
     "iopub.status.idle": "2021-08-30T01:55:33.244002Z",
     "shell.execute_reply": "2021-08-30T01:55:33.244763Z"
    }
   },
   "outputs": [
    {
     "data": {
      "image/png": "[encoded data removed]",
      "text/plain": [
       "<Figure size 216x216 with 1 Axes>"
      ]
     },
     "metadata": {
      "needs_background": "light"
     },
     "output_type": "display_data"
    },
    {
     "name": "stdout",
     "output_type": "stream",
     "text": [
      "Today, sun rises at 06:05 and sets at 18:42.\n",
      "Currently, the weather is Clouds (few clouds).\n",
      "The temperature is 31.22°C and it feels like 38.22°C.\n",
      "The UV index is 7.12, humidity is 79%.\n",
      "The pressure is 1013 hPa, percentage of cloud cover is 16%\n",
      "The wind comes from ENE direction with a speed 4.83 m/s.\n"
     ]
    }
   ],
   "source": [
    "current = data['current']\r\n",
    "\r\n",
    "fig, ax = plt.subplots(figsize=(3, 3))\r\n",
    "icon = requests.get(f\"http://openweathermap.org/img/wn/{current['weather'][0]['icon']}@2x.png\")\r\n",
    "im = Image.open(BytesIO(icon.content))\r\n",
    "plt.imshow(im)\r\n",
    "ax.set_axis_off()\r\n",
    "plt.show()\r\n",
    "\r\n",
    "print(f\"Today, sun rises at {ts2dt(current['sunrise'], '%H:%M')[0]} \\\r\n",
    "and sets at {ts2dt(current['sunset'], '%H:%M')[0]}.\\n\\\r\n",
    "Currently, the weather is {current['weather'][0]['main']} ({current['weather'][0]['description']}).\\n\\\r\n",
    "The temperature is {current['temp']}°C and it feels like {current['feels_like']}°C.\\n\\\r\n",
    "The UV index is {current['uvi']}, humidity is {current['humidity']}%.\\n\\\r\n",
    "The pressure is {current['pressure']} hPa, percentage of cloud cover is {current['clouds']}%\\n\\\r\n",
    "The wind comes from {degrees_to_cardinal(current['wind_deg'])} direction with a speed {current['wind_speed']} m/s.\")"
   ]
  },
  {
   "cell_type": "code",
   "execution_count": 8,
   "metadata": {
    "execution": {
     "iopub.execute_input": "2021-08-30T01:55:33.247992Z",
     "iopub.status.busy": "2021-08-30T01:55:33.247010Z",
     "iopub.status.idle": "2021-08-30T01:55:33.256164Z",
     "shell.execute_reply": "2021-08-30T01:55:33.257224Z"
    }
   },
   "outputs": [],
   "source": [
    "df_hourly = pd.DataFrame(data['hourly'])\r\n",
    "df_daily = pd.DataFrame(data['daily'])"
   ]
  },
  {
   "cell_type": "code",
   "execution_count": 9,
   "metadata": {
    "execution": {
     "iopub.execute_input": "2021-08-30T01:55:33.261695Z",
     "iopub.status.busy": "2021-08-30T01:55:33.260201Z",
     "iopub.status.idle": "2021-08-30T01:55:33.619406Z",
     "shell.execute_reply": "2021-08-30T01:55:33.620203Z"
    }
   },
   "outputs": [
    {
     "data": {
      "image/png": "[encoded data removed]",
      "text/plain": [
       "<Figure size 864x432 with 1 Axes>"
      ]
     },
     "metadata": {
      "needs_background": "light"
     },
     "output_type": "display_data"
    }
   ],
   "source": [
    "fig, ax = plt.subplots(figsize=(12, 6))\r\n",
    "plt.plot(df_hourly.temp, '.-', label='Temperature')\r\n",
    "plt.plot(df_hourly.feels_like, '.-', label='Feels Like')\r\n",
    "ax.set(title='Temperature in future 48 hours', xlabel='Time', ylabel='Temperature')\r\n",
    "ax.set_xticks(list(range(0, len(df_hourly), 2)))\r\n",
    "ax.set_xticklabels([ts2dt(ts, '%m-%d %H:%M')[0] for i, ts in enumerate(df_hourly.dt) if i%2==0], \r\n",
    "                   rotation=45, ha=\"right\")\r\n",
    "ax.locator_params(nbins=15, axis='y')\r\n",
    "plt.legend()\r\n",
    "plt.show()"
   ]
  },
  {
   "cell_type": "code",
   "execution_count": 10,
   "metadata": {
    "execution": {
     "iopub.execute_input": "2021-08-30T01:55:33.634755Z",
     "iopub.status.busy": "2021-08-30T01:55:33.625618Z",
     "iopub.status.idle": "2021-08-30T01:55:33.646395Z",
     "shell.execute_reply": "2021-08-30T01:55:33.647060Z"
    }
   },
   "outputs": [
    {
     "data": {
      "text/html": [
       "<div>\n",
       "<style scoped>\n",
       "    .dataframe tbody tr th:only-of-type {\n",
       "        vertical-align: middle;\n",
       "    }\n",
       "\n",
       "    .dataframe tbody tr th {\n",
       "        vertical-align: top;\n",
       "    }\n",
       "\n",
       "    .dataframe thead th {\n",
       "        text-align: right;\n",
       "    }\n",
       "</style>\n",
       "<table border=\"1\" class=\"dataframe\">\n",
       "  <thead>\n",
       "    <tr style=\"text-align: right;\">\n",
       "      <th></th>\n",
       "      <th>dt</th>\n",
       "      <th>temp</th>\n",
       "      <th>feels_like</th>\n",
       "      <th>pressure</th>\n",
       "      <th>humidity</th>\n",
       "      <th>dew_point</th>\n",
       "      <th>uvi</th>\n",
       "      <th>clouds</th>\n",
       "      <th>visibility</th>\n",
       "      <th>wind_speed</th>\n",
       "      <th>wind_deg</th>\n",
       "      <th>wind_gust</th>\n",
       "      <th>weather</th>\n",
       "      <th>pop</th>\n",
       "      <th>rain</th>\n",
       "    </tr>\n",
       "  </thead>\n",
       "  <tbody>\n",
       "    <tr>\n",
       "      <th>0</th>\n",
       "      <td>1630285200</td>\n",
       "      <td>30.71</td>\n",
       "      <td>37.71</td>\n",
       "      <td>1013</td>\n",
       "      <td>78</td>\n",
       "      <td>26.43</td>\n",
       "      <td>3.98</td>\n",
       "      <td>14</td>\n",
       "      <td>10000</td>\n",
       "      <td>4.32</td>\n",
       "      <td>72</td>\n",
       "      <td>5.32</td>\n",
       "      <td>[{'id': 801, 'main': 'Clouds', 'description': ...</td>\n",
       "      <td>0.00</td>\n",
       "      <td>NaN</td>\n",
       "    </tr>\n",
       "    <tr>\n",
       "      <th>1</th>\n",
       "      <td>1630288800</td>\n",
       "      <td>31.22</td>\n",
       "      <td>38.22</td>\n",
       "      <td>1013</td>\n",
       "      <td>79</td>\n",
       "      <td>27.14</td>\n",
       "      <td>7.12</td>\n",
       "      <td>16</td>\n",
       "      <td>10000</td>\n",
       "      <td>4.83</td>\n",
       "      <td>75</td>\n",
       "      <td>5.76</td>\n",
       "      <td>[{'id': 801, 'main': 'Clouds', 'description': ...</td>\n",
       "      <td>0.05</td>\n",
       "      <td>NaN</td>\n",
       "    </tr>\n",
       "    <tr>\n",
       "      <th>2</th>\n",
       "      <td>1630292400</td>\n",
       "      <td>30.89</td>\n",
       "      <td>37.89</td>\n",
       "      <td>1013</td>\n",
       "      <td>77</td>\n",
       "      <td>26.38</td>\n",
       "      <td>10.02</td>\n",
       "      <td>16</td>\n",
       "      <td>10000</td>\n",
       "      <td>5.20</td>\n",
       "      <td>76</td>\n",
       "      <td>5.89</td>\n",
       "      <td>[{'id': 801, 'main': 'Clouds', 'description': ...</td>\n",
       "      <td>0.10</td>\n",
       "      <td>NaN</td>\n",
       "    </tr>\n",
       "    <tr>\n",
       "      <th>3</th>\n",
       "      <td>1630296000</td>\n",
       "      <td>30.70</td>\n",
       "      <td>37.70</td>\n",
       "      <td>1013</td>\n",
       "      <td>74</td>\n",
       "      <td>25.53</td>\n",
       "      <td>11.84</td>\n",
       "      <td>15</td>\n",
       "      <td>10000</td>\n",
       "      <td>5.39</td>\n",
       "      <td>77</td>\n",
       "      <td>6.05</td>\n",
       "      <td>[{'id': 801, 'main': 'Clouds', 'description': ...</td>\n",
       "      <td>0.07</td>\n",
       "      <td>NaN</td>\n",
       "    </tr>\n",
       "    <tr>\n",
       "      <th>4</th>\n",
       "      <td>1630299600</td>\n",
       "      <td>30.57</td>\n",
       "      <td>36.74</td>\n",
       "      <td>1012</td>\n",
       "      <td>71</td>\n",
       "      <td>24.71</td>\n",
       "      <td>11.63</td>\n",
       "      <td>14</td>\n",
       "      <td>10000</td>\n",
       "      <td>5.35</td>\n",
       "      <td>81</td>\n",
       "      <td>6.08</td>\n",
       "      <td>[{'id': 801, 'main': 'Clouds', 'description': ...</td>\n",
       "      <td>0.07</td>\n",
       "      <td>NaN</td>\n",
       "    </tr>\n",
       "  </tbody>\n",
       "</table>\n",
       "</div>"
      ],
      "text/plain": [
       "           dt   temp  feels_like  pressure  humidity  dew_point    uvi  \\\n",
       "0  1630285200  30.71       37.71      1013        78      26.43   3.98   \n",
       "1  1630288800  31.22       38.22      1013        79      27.14   7.12   \n",
       "2  1630292400  30.89       37.89      1013        77      26.38  10.02   \n",
       "3  1630296000  30.70       37.70      1013        74      25.53  11.84   \n",
       "4  1630299600  30.57       36.74      1012        71      24.71  11.63   \n",
       "\n",
       "   clouds  visibility  wind_speed  wind_deg  wind_gust  \\\n",
       "0      14       10000        4.32        72       5.32   \n",
       "1      16       10000        4.83        75       5.76   \n",
       "2      16       10000        5.20        76       5.89   \n",
       "3      15       10000        5.39        77       6.05   \n",
       "4      14       10000        5.35        81       6.08   \n",
       "\n",
       "                                             weather   pop rain  \n",
       "0  [{'id': 801, 'main': 'Clouds', 'description': ...  0.00  NaN  \n",
       "1  [{'id': 801, 'main': 'Clouds', 'description': ...  0.05  NaN  \n",
       "2  [{'id': 801, 'main': 'Clouds', 'description': ...  0.10  NaN  \n",
       "3  [{'id': 801, 'main': 'Clouds', 'description': ...  0.07  NaN  \n",
       "4  [{'id': 801, 'main': 'Clouds', 'description': ...  0.07  NaN  "
      ]
     },
     "execution_count": 10,
     "metadata": {},
     "output_type": "execute_result"
    }
   ],
   "source": [
    "df_hourly.head()"
   ]
  },
  {
   "cell_type": "code",
   "execution_count": null,
   "metadata": {},
   "outputs": [],
   "source": []
  }
 ],
 "metadata": {
  "interpreter": {
   "hash": "c1b4cfe941b6d2466ad1fb5979e97da9cda8801728c8091b097ab734208fc00c"
  },
  "kernelspec": {
   "display_name": "Python 3.8.3 64-bit ('base': conda)",
   "name": "python3"
  },
  "language_info": {
   "codemirror_mode": {
    "name": "ipython",
    "version": 3
   },
   "file_extension": ".py",
   "mimetype": "text/x-python",
   "name": "python",
   "nbconvert_exporter": "python",
   "pygments_lexer": "ipython3",
   "version": "3.8.11"
  }
 },
 "nbformat": 4,
 "nbformat_minor": 2
}
