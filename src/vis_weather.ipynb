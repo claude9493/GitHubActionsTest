{
 "cells": [
  {
   "cell_type": "code",
   "execution_count": 1,
   "metadata": {
    "execution": {
     "iopub.execute_input": "2021-10-07T15:10:51.998779Z",
     "iopub.status.busy": "2021-10-07T15:10:51.998101Z",
     "iopub.status.idle": "2021-10-07T15:10:53.794964Z",
     "shell.execute_reply": "2021-10-07T15:10:53.793837Z"
    }
   },
   "outputs": [],
   "source": [
    "import json, yaml, requests\r\n",
    "from datetime import datetime\r\n",
    "from dateutil import tz\r\n",
    "import pandas as pd\r\n",
    "from PIL import Image\r\n",
    "from io import BytesIO\r\n",
    "import matplotlib.pyplot as plt\r\n",
    "import seaborn\r\n",
    "\r\n",
    "CONFIG_PATH = \"../config/config.yaml\""
   ]
  },
  {
   "cell_type": "code",
   "execution_count": 2,
   "metadata": {
    "execution": {
     "iopub.execute_input": "2021-10-07T15:10:53.800784Z",
     "iopub.status.busy": "2021-10-07T15:10:53.799857Z",
     "iopub.status.idle": "2021-10-07T15:10:53.807003Z",
     "shell.execute_reply": "2021-10-07T15:10:53.806174Z"
    }
   },
   "outputs": [],
   "source": [
    "with open('../newest_ts', 'r') as f:\r\n",
    "    newest_ts = f.read()\r\n",
    "\r\n",
    "data_path = f\"../data/data_{newest_ts}.json\"\r\n",
    "with open(data_path, 'r') as f:\r\n",
    "    data = json.load(f)\r\n",
    "\r\n",
    "with open(CONFIG_PATH, \"r\") as stream:\r\n",
    "    config = yaml.safe_load(stream)\r\n",
    "\r\n",
    "TIME_ZONE = config['time_zone']\r\n",
    "DATETIME_FORMAT = config['dt_format']"
   ]
  },
  {
   "cell_type": "code",
   "execution_count": 3,
   "metadata": {
    "execution": {
     "iopub.execute_input": "2021-10-07T15:10:53.812140Z",
     "iopub.status.busy": "2021-10-07T15:10:53.811603Z",
     "iopub.status.idle": "2021-10-07T15:10:53.822985Z",
     "shell.execute_reply": "2021-10-07T15:10:53.823421Z"
    }
   },
   "outputs": [
    {
     "name": "stdout",
     "output_type": "stream",
     "text": [
      "Recent query happens at 2021-10-07 23:10:48 (CST).\n"
     ]
    }
   ],
   "source": [
    "def ts2dt(ts, format=DATETIME_FORMAT):\r\n",
    "    dt = (datetime.utcfromtimestamp(int(ts))\r\n",
    "                    .replace(tzinfo=tz.tzutc())\r\n",
    "                    # .astimezone(tz.tzlocal())\r\n",
    "                    .astimezone(tz.gettz(TIME_ZONE)))\r\n",
    "    return dt.strftime(format), dt\r\n",
    "\r\n",
    "_, newest_dt = ts2dt(newest_ts)\r\n",
    "print(f\"Recent query happens at {newest_dt.strftime(DATETIME_FORMAT)} ({newest_dt.tzname()}).\")"
   ]
  },
  {
   "cell_type": "code",
   "execution_count": 4,
   "metadata": {
    "execution": {
     "iopub.execute_input": "2021-10-07T15:10:53.829301Z",
     "iopub.status.busy": "2021-10-07T15:10:53.827941Z",
     "iopub.status.idle": "2021-10-07T15:10:53.829963Z",
     "shell.execute_reply": "2021-10-07T15:10:53.830454Z"
    }
   },
   "outputs": [],
   "source": [
    "def degrees_to_cardinal(d):\r\n",
    "  dirs = ['N', 'NNE', 'NE', 'ENE', 'E', 'ESE', 'SE', 'SSE', 'S', 'SSW', 'SW', 'WSW', 'W', 'WNW', 'NW', 'NNW']\r\n",
    "  ix = int(round(d / (360. / len(dirs))))\r\n",
    "  return dirs[ix % len(dirs)]"
   ]
  },
  {
   "cell_type": "code",
   "execution_count": 5,
   "metadata": {
    "execution": {
     "iopub.execute_input": "2021-10-07T15:10:53.836332Z",
     "iopub.status.busy": "2021-10-07T15:10:53.833674Z",
     "iopub.status.idle": "2021-10-07T15:10:53.836975Z",
     "shell.execute_reply": "2021-10-07T15:10:53.837413Z"
    }
   },
   "outputs": [],
   "source": [
    "# data.keys()"
   ]
  },
  {
   "cell_type": "code",
   "execution_count": 6,
   "metadata": {
    "execution": {
     "iopub.execute_input": "2021-10-07T15:10:53.841733Z",
     "iopub.status.busy": "2021-10-07T15:10:53.840462Z",
     "iopub.status.idle": "2021-10-07T15:10:53.842340Z",
     "shell.execute_reply": "2021-10-07T15:10:53.842765Z"
    }
   },
   "outputs": [],
   "source": [
    "# data['current']"
   ]
  },
  {
   "cell_type": "code",
   "execution_count": 7,
   "metadata": {
    "execution": {
     "iopub.execute_input": "2021-10-07T15:10:53.862329Z",
     "iopub.status.busy": "2021-10-07T15:10:53.861668Z",
     "iopub.status.idle": "2021-10-07T15:10:54.305850Z",
     "shell.execute_reply": "2021-10-07T15:10:54.306647Z"
    }
   },
   "outputs": [
    {
     "data": {
      "image/png": "[encoded data removed]",
      "text/plain": [
       "<Figure size 216x216 with 1 Axes>"
      ]
     },
     "metadata": {
      "needs_background": "light"
     },
     "output_type": "display_data"
    },
    {
     "name": "stdout",
     "output_type": "stream",
     "text": [
      "Today, sun rises at 06:16 and sets at 18:05.\n",
      "Currently, the weather is Rain (heavy intensity rain).\n",
      "The temperature is 25.75°C and it feels like 26.73°C.\n",
      "The UV index is 0, humidity is 90%.\n",
      "The pressure is 1010 hPa, percentage of cloud cover is 100%\n",
      "The wind comes from W direction with a speed 0.45 m/s.\n"
     ]
    }
   ],
   "source": [
    "current = data['current']\r\n",
    "\r\n",
    "fig, ax = plt.subplots(figsize=(3, 3))\r\n",
    "icon = requests.get(f\"http://openweathermap.org/img/wn/{current['weather'][0]['icon']}@2x.png\")\r\n",
    "im = Image.open(BytesIO(icon.content))\r\n",
    "plt.imshow(im)\r\n",
    "ax.set_axis_off()\r\n",
    "plt.show()\r\n",
    "\r\n",
    "print(f\"Today, sun rises at {ts2dt(current['sunrise'], '%H:%M')[0]} \\\r\n",
    "and sets at {ts2dt(current['sunset'], '%H:%M')[0]}.\\n\\\r\n",
    "Currently, the weather is {current['weather'][0]['main']} ({current['weather'][0]['description']}).\\n\\\r\n",
    "The temperature is {current['temp']}°C and it feels like {current['feels_like']}°C.\\n\\\r\n",
    "The UV index is {current['uvi']}, humidity is {current['humidity']}%.\\n\\\r\n",
    "The pressure is {current['pressure']} hPa, percentage of cloud cover is {current['clouds']}%\\n\\\r\n",
    "The wind comes from {degrees_to_cardinal(current['wind_deg'])} direction with a speed {current['wind_speed']} m/s.\")"
   ]
  },
  {
   "cell_type": "code",
   "execution_count": 8,
   "metadata": {
    "execution": {
     "iopub.execute_input": "2021-10-07T15:10:54.310880Z",
     "iopub.status.busy": "2021-10-07T15:10:54.309583Z",
     "iopub.status.idle": "2021-10-07T15:10:54.318489Z",
     "shell.execute_reply": "2021-10-07T15:10:54.319411Z"
    }
   },
   "outputs": [],
   "source": [
    "df_hourly = pd.DataFrame(data['hourly'])\r\n",
    "df_daily = pd.DataFrame(data['daily'])"
   ]
  },
  {
   "cell_type": "code",
   "execution_count": 9,
   "metadata": {
    "execution": {
     "iopub.execute_input": "2021-10-07T15:10:54.322866Z",
     "iopub.status.busy": "2021-10-07T15:10:54.321791Z",
     "iopub.status.idle": "2021-10-07T15:10:54.619330Z",
     "shell.execute_reply": "2021-10-07T15:10:54.618814Z"
    }
   },
   "outputs": [
    {
     "data": {
      "image/png": "[encoded data removed]",
      "text/plain": [
       "<Figure size 864x432 with 1 Axes>"
      ]
     },
     "metadata": {
      "needs_background": "light"
     },
     "output_type": "display_data"
    }
   ],
   "source": [
    "fig, ax = plt.subplots(figsize=(12, 6))\r\n",
    "plt.plot(df_hourly.temp, '.-', label='Temperature')\r\n",
    "plt.plot(df_hourly.feels_like, '.-', label='Feels Like')\r\n",
    "ax.set(title='Temperature in future 48 hours', xlabel='Time', ylabel='Temperature')\r\n",
    "ax.set_xticks(list(range(0, len(df_hourly), 2)))\r\n",
    "ax.set_xticklabels([ts2dt(ts, '%m-%d %H:%M')[0] for i, ts in enumerate(df_hourly.dt) if i%2==0], \r\n",
    "                   rotation=45, ha=\"right\")\r\n",
    "ax.locator_params(nbins=15, axis='y')\r\n",
    "plt.legend()\r\n",
    "plt.show()"
   ]
  },
  {
   "cell_type": "code",
   "execution_count": 10,
   "metadata": {
    "execution": {
     "iopub.execute_input": "2021-10-07T15:10:54.632579Z",
     "iopub.status.busy": "2021-10-07T15:10:54.623693Z",
     "iopub.status.idle": "2021-10-07T15:10:54.645646Z",
     "shell.execute_reply": "2021-10-07T15:10:54.646203Z"
    }
   },
   "outputs": [
    {
     "data": {
      "text/html": [
       "<div>\n",
       "<style scoped>\n",
       "    .dataframe tbody tr th:only-of-type {\n",
       "        vertical-align: middle;\n",
       "    }\n",
       "\n",
       "    .dataframe tbody tr th {\n",
       "        vertical-align: top;\n",
       "    }\n",
       "\n",
       "    .dataframe thead th {\n",
       "        text-align: right;\n",
       "    }\n",
       "</style>\n",
       "<table border=\"1\" class=\"dataframe\">\n",
       "  <thead>\n",
       "    <tr style=\"text-align: right;\">\n",
       "      <th></th>\n",
       "      <th>dt</th>\n",
       "      <th>temp</th>\n",
       "      <th>feels_like</th>\n",
       "      <th>pressure</th>\n",
       "      <th>humidity</th>\n",
       "      <th>dew_point</th>\n",
       "      <th>uvi</th>\n",
       "      <th>clouds</th>\n",
       "      <th>visibility</th>\n",
       "      <th>wind_speed</th>\n",
       "      <th>wind_deg</th>\n",
       "      <th>wind_gust</th>\n",
       "      <th>weather</th>\n",
       "      <th>pop</th>\n",
       "      <th>rain</th>\n",
       "    </tr>\n",
       "  </thead>\n",
       "  <tbody>\n",
       "    <tr>\n",
       "      <th>0</th>\n",
       "      <td>1633618800</td>\n",
       "      <td>25.75</td>\n",
       "      <td>26.73</td>\n",
       "      <td>1010</td>\n",
       "      <td>90</td>\n",
       "      <td>23.98</td>\n",
       "      <td>0.0</td>\n",
       "      <td>100</td>\n",
       "      <td>10000</td>\n",
       "      <td>10.99</td>\n",
       "      <td>72</td>\n",
       "      <td>14.61</td>\n",
       "      <td>[{'id': 500, 'main': 'Rain', 'description': 'l...</td>\n",
       "      <td>0.87</td>\n",
       "      <td>{'1h': 0.62}</td>\n",
       "    </tr>\n",
       "    <tr>\n",
       "      <th>1</th>\n",
       "      <td>1633622400</td>\n",
       "      <td>25.91</td>\n",
       "      <td>26.88</td>\n",
       "      <td>1009</td>\n",
       "      <td>89</td>\n",
       "      <td>23.96</td>\n",
       "      <td>0.0</td>\n",
       "      <td>100</td>\n",
       "      <td>10000</td>\n",
       "      <td>10.24</td>\n",
       "      <td>71</td>\n",
       "      <td>13.83</td>\n",
       "      <td>[{'id': 501, 'main': 'Rain', 'description': 'm...</td>\n",
       "      <td>0.87</td>\n",
       "      <td>{'1h': 3.65}</td>\n",
       "    </tr>\n",
       "    <tr>\n",
       "      <th>2</th>\n",
       "      <td>1633626000</td>\n",
       "      <td>26.09</td>\n",
       "      <td>26.09</td>\n",
       "      <td>1008</td>\n",
       "      <td>88</td>\n",
       "      <td>23.95</td>\n",
       "      <td>0.0</td>\n",
       "      <td>100</td>\n",
       "      <td>10000</td>\n",
       "      <td>10.12</td>\n",
       "      <td>75</td>\n",
       "      <td>13.53</td>\n",
       "      <td>[{'id': 500, 'main': 'Rain', 'description': 'l...</td>\n",
       "      <td>0.85</td>\n",
       "      <td>{'1h': 0.36}</td>\n",
       "    </tr>\n",
       "    <tr>\n",
       "      <th>3</th>\n",
       "      <td>1633629600</td>\n",
       "      <td>26.02</td>\n",
       "      <td>26.02</td>\n",
       "      <td>1007</td>\n",
       "      <td>88</td>\n",
       "      <td>23.88</td>\n",
       "      <td>0.0</td>\n",
       "      <td>100</td>\n",
       "      <td>6082</td>\n",
       "      <td>9.72</td>\n",
       "      <td>76</td>\n",
       "      <td>13.35</td>\n",
       "      <td>[{'id': 501, 'main': 'Rain', 'description': 'm...</td>\n",
       "      <td>0.81</td>\n",
       "      <td>{'1h': 1.36}</td>\n",
       "    </tr>\n",
       "    <tr>\n",
       "      <th>4</th>\n",
       "      <td>1633633200</td>\n",
       "      <td>25.93</td>\n",
       "      <td>26.93</td>\n",
       "      <td>1005</td>\n",
       "      <td>90</td>\n",
       "      <td>24.16</td>\n",
       "      <td>0.0</td>\n",
       "      <td>100</td>\n",
       "      <td>5479</td>\n",
       "      <td>9.50</td>\n",
       "      <td>70</td>\n",
       "      <td>13.10</td>\n",
       "      <td>[{'id': 501, 'main': 'Rain', 'description': 'm...</td>\n",
       "      <td>0.81</td>\n",
       "      <td>{'1h': 2.34}</td>\n",
       "    </tr>\n",
       "  </tbody>\n",
       "</table>\n",
       "</div>"
      ],
      "text/plain": [
       "           dt   temp  feels_like  pressure  humidity  dew_point  uvi  clouds  \\\n",
       "0  1633618800  25.75       26.73      1010        90      23.98  0.0     100   \n",
       "1  1633622400  25.91       26.88      1009        89      23.96  0.0     100   \n",
       "2  1633626000  26.09       26.09      1008        88      23.95  0.0     100   \n",
       "3  1633629600  26.02       26.02      1007        88      23.88  0.0     100   \n",
       "4  1633633200  25.93       26.93      1005        90      24.16  0.0     100   \n",
       "\n",
       "   visibility  wind_speed  wind_deg  wind_gust  \\\n",
       "0       10000       10.99        72      14.61   \n",
       "1       10000       10.24        71      13.83   \n",
       "2       10000       10.12        75      13.53   \n",
       "3        6082        9.72        76      13.35   \n",
       "4        5479        9.50        70      13.10   \n",
       "\n",
       "                                             weather   pop          rain  \n",
       "0  [{'id': 500, 'main': 'Rain', 'description': 'l...  0.87  {'1h': 0.62}  \n",
       "1  [{'id': 501, 'main': 'Rain', 'description': 'm...  0.87  {'1h': 3.65}  \n",
       "2  [{'id': 500, 'main': 'Rain', 'description': 'l...  0.85  {'1h': 0.36}  \n",
       "3  [{'id': 501, 'main': 'Rain', 'description': 'm...  0.81  {'1h': 1.36}  \n",
       "4  [{'id': 501, 'main': 'Rain', 'description': 'm...  0.81  {'1h': 2.34}  "
      ]
     },
     "execution_count": 10,
     "metadata": {},
     "output_type": "execute_result"
    }
   ],
   "source": [
    "df_hourly.head()"
   ]
  },
  {
   "cell_type": "code",
   "execution_count": null,
   "metadata": {},
   "outputs": [],
   "source": []
  }
 ],
 "metadata": {
  "interpreter": {
   "hash": "c1b4cfe941b6d2466ad1fb5979e97da9cda8801728c8091b097ab734208fc00c"
  },
  "kernelspec": {
   "display_name": "Python 3.8.3 64-bit ('base': conda)",
   "name": "python3"
  },
  "language_info": {
   "codemirror_mode": {
    "name": "ipython",
    "version": 3
   },
   "file_extension": ".py",
   "mimetype": "text/x-python",
   "name": "python",
   "nbconvert_exporter": "python",
   "pygments_lexer": "ipython3",
   "version": "3.8.12"
  }
 },
 "nbformat": 4,
 "nbformat_minor": 2
}
