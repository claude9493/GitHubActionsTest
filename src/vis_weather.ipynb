{
 "cells": [
  {
   "cell_type": "code",
   "execution_count": 1,
   "metadata": {
    "execution": {
     "iopub.execute_input": "2021-10-12T02:34:22.421934Z",
     "iopub.status.busy": "2021-10-12T02:34:22.421269Z",
     "iopub.status.idle": "2021-10-12T02:34:23.818595Z",
     "shell.execute_reply": "2021-10-12T02:34:23.817987Z"
    }
   },
   "outputs": [],
   "source": [
    "import json, yaml, requests\r\n",
    "from datetime import datetime\r\n",
    "from dateutil import tz\r\n",
    "import pandas as pd\r\n",
    "from PIL import Image\r\n",
    "from io import BytesIO\r\n",
    "import matplotlib.pyplot as plt\r\n",
    "import seaborn\r\n",
    "\r\n",
    "CONFIG_PATH = \"../config/config.yaml\""
   ]
  },
  {
   "cell_type": "code",
   "execution_count": 2,
   "metadata": {
    "execution": {
     "iopub.execute_input": "2021-10-12T02:34:23.823421Z",
     "iopub.status.busy": "2021-10-12T02:34:23.822906Z",
     "iopub.status.idle": "2021-10-12T02:34:23.828123Z",
     "shell.execute_reply": "2021-10-12T02:34:23.827724Z"
    }
   },
   "outputs": [],
   "source": [
    "with open('../newest_ts', 'r') as f:\r\n",
    "    newest_ts = f.read()\r\n",
    "\r\n",
    "data_path = f\"../data/data_{newest_ts}.json\"\r\n",
    "with open(data_path, 'r') as f:\r\n",
    "    data = json.load(f)\r\n",
    "\r\n",
    "with open(CONFIG_PATH, \"r\") as stream:\r\n",
    "    config = yaml.safe_load(stream)\r\n",
    "\r\n",
    "TIME_ZONE = config['time_zone']\r\n",
    "DATETIME_FORMAT = config['dt_format']"
   ]
  },
  {
   "cell_type": "code",
   "execution_count": 3,
   "metadata": {
    "execution": {
     "iopub.execute_input": "2021-10-12T02:34:23.832356Z",
     "iopub.status.busy": "2021-10-12T02:34:23.831902Z",
     "iopub.status.idle": "2021-10-12T02:34:23.846217Z",
     "shell.execute_reply": "2021-10-12T02:34:23.846594Z"
    }
   },
   "outputs": [
    {
     "name": "stdout",
     "output_type": "stream",
     "text": [
      "Recent query happens at 2021-10-12 10:34:18 (CST).\n"
     ]
    }
   ],
   "source": [
    "def ts2dt(ts, format=DATETIME_FORMAT):\r\n",
    "    dt = (datetime.utcfromtimestamp(int(ts))\r\n",
    "                    .replace(tzinfo=tz.tzutc())\r\n",
    "                    # .astimezone(tz.tzlocal())\r\n",
    "                    .astimezone(tz.gettz(TIME_ZONE)))\r\n",
    "    return dt.strftime(format), dt\r\n",
    "\r\n",
    "_, newest_dt = ts2dt(newest_ts)\r\n",
    "print(f\"Recent query happens at {newest_dt.strftime(DATETIME_FORMAT)} ({newest_dt.tzname()}).\")"
   ]
  },
  {
   "cell_type": "code",
   "execution_count": 4,
   "metadata": {
    "execution": {
     "iopub.execute_input": "2021-10-12T02:34:23.851516Z",
     "iopub.status.busy": "2021-10-12T02:34:23.850475Z",
     "iopub.status.idle": "2021-10-12T02:34:23.852038Z",
     "shell.execute_reply": "2021-10-12T02:34:23.852420Z"
    }
   },
   "outputs": [],
   "source": [
    "def degrees_to_cardinal(d):\r\n",
    "  dirs = ['N', 'NNE', 'NE', 'ENE', 'E', 'ESE', 'SE', 'SSE', 'S', 'SSW', 'SW', 'WSW', 'W', 'WNW', 'NW', 'NNW']\r\n",
    "  ix = int(round(d / (360. / len(dirs))))\r\n",
    "  return dirs[ix % len(dirs)]"
   ]
  },
  {
   "cell_type": "code",
   "execution_count": 5,
   "metadata": {
    "execution": {
     "iopub.execute_input": "2021-10-12T02:34:23.855632Z",
     "iopub.status.busy": "2021-10-12T02:34:23.855140Z",
     "iopub.status.idle": "2021-10-12T02:34:23.858386Z",
     "shell.execute_reply": "2021-10-12T02:34:23.858732Z"
    }
   },
   "outputs": [],
   "source": [
    "# data.keys()"
   ]
  },
  {
   "cell_type": "code",
   "execution_count": 6,
   "metadata": {
    "execution": {
     "iopub.execute_input": "2021-10-12T02:34:23.862383Z",
     "iopub.status.busy": "2021-10-12T02:34:23.861359Z",
     "iopub.status.idle": "2021-10-12T02:34:23.862903Z",
     "shell.execute_reply": "2021-10-12T02:34:23.863264Z"
    }
   },
   "outputs": [],
   "source": [
    "# data['current']"
   ]
  },
  {
   "cell_type": "code",
   "execution_count": 7,
   "metadata": {
    "execution": {
     "iopub.execute_input": "2021-10-12T02:34:23.879546Z",
     "iopub.status.busy": "2021-10-12T02:34:23.879047Z",
     "iopub.status.idle": "2021-10-12T02:34:24.143164Z",
     "shell.execute_reply": "2021-10-12T02:34:24.143566Z"
    }
   },
   "outputs": [
    {
     "data": {
      "image/png": "[encoded data removed]",
      "text/plain": [
       "<Figure size 216x216 with 1 Axes>"
      ]
     },
     "metadata": {
      "needs_background": "light"
     },
     "output_type": "display_data"
    },
    {
     "name": "stdout",
     "output_type": "stream",
     "text": [
      "Today, sun rises at 06:17 and sets at 18:00.\n",
      "Currently, the weather is Clouds (overcast clouds).\n",
      "The temperature is 25.63°C and it feels like 25.97°C.\n",
      "The UV index is 6.71, humidity is 66%.\n",
      "The pressure is 1012 hPa, percentage of cloud cover is 100%\n",
      "The wind comes from E direction with a speed 1.34 m/s.\n"
     ]
    }
   ],
   "source": [
    "current = data['current']\r\n",
    "\r\n",
    "fig, ax = plt.subplots(figsize=(3, 3))\r\n",
    "icon = requests.get(f\"http://openweathermap.org/img/wn/{current['weather'][0]['icon']}@2x.png\")\r\n",
    "im = Image.open(BytesIO(icon.content))\r\n",
    "plt.imshow(im)\r\n",
    "ax.set_axis_off()\r\n",
    "plt.show()\r\n",
    "\r\n",
    "print(f\"Today, sun rises at {ts2dt(current['sunrise'], '%H:%M')[0]} \\\r\n",
    "and sets at {ts2dt(current['sunset'], '%H:%M')[0]}.\\n\\\r\n",
    "Currently, the weather is {current['weather'][0]['main']} ({current['weather'][0]['description']}).\\n\\\r\n",
    "The temperature is {current['temp']}°C and it feels like {current['feels_like']}°C.\\n\\\r\n",
    "The UV index is {current['uvi']}, humidity is {current['humidity']}%.\\n\\\r\n",
    "The pressure is {current['pressure']} hPa, percentage of cloud cover is {current['clouds']}%\\n\\\r\n",
    "The wind comes from {degrees_to_cardinal(current['wind_deg'])} direction with a speed {current['wind_speed']} m/s.\")"
   ]
  },
  {
   "cell_type": "code",
   "execution_count": 8,
   "metadata": {
    "execution": {
     "iopub.execute_input": "2021-10-12T02:34:24.149999Z",
     "iopub.status.busy": "2021-10-12T02:34:24.147700Z",
     "iopub.status.idle": "2021-10-12T02:34:24.151703Z",
     "shell.execute_reply": "2021-10-12T02:34:24.152049Z"
    }
   },
   "outputs": [],
   "source": [
    "df_hourly = pd.DataFrame(data['hourly'])\r\n",
    "df_daily = pd.DataFrame(data['daily'])"
   ]
  },
  {
   "cell_type": "code",
   "execution_count": 9,
   "metadata": {
    "execution": {
     "iopub.execute_input": "2021-10-12T02:34:24.159855Z",
     "iopub.status.busy": "2021-10-12T02:34:24.158194Z",
     "iopub.status.idle": "2021-10-12T02:34:24.391224Z",
     "shell.execute_reply": "2021-10-12T02:34:24.390796Z"
    }
   },
   "outputs": [
    {
     "data": {
      "image/png": "[encoded data removed]",
      "text/plain": [
       "<Figure size 864x432 with 1 Axes>"
      ]
     },
     "metadata": {
      "needs_background": "light"
     },
     "output_type": "display_data"
    }
   ],
   "source": [
    "fig, ax = plt.subplots(figsize=(12, 6))\r\n",
    "plt.plot(df_hourly.temp, '.-', label='Temperature')\r\n",
    "plt.plot(df_hourly.feels_like, '.-', label='Feels Like')\r\n",
    "ax.set(title='Temperature in future 48 hours', xlabel='Time', ylabel='Temperature')\r\n",
    "ax.set_xticks(list(range(0, len(df_hourly), 2)))\r\n",
    "ax.set_xticklabels([ts2dt(ts, '%m-%d %H:%M')[0] for i, ts in enumerate(df_hourly.dt) if i%2==0], \r\n",
    "                   rotation=45, ha=\"right\")\r\n",
    "ax.locator_params(nbins=15, axis='y')\r\n",
    "plt.legend()\r\n",
    "plt.show()"
   ]
  },
  {
   "cell_type": "code",
   "execution_count": 10,
   "metadata": {
    "execution": {
     "iopub.execute_input": "2021-10-12T02:34:24.395532Z",
     "iopub.status.busy": "2021-10-12T02:34:24.395048Z",
     "iopub.status.idle": "2021-10-12T02:34:24.414554Z",
     "shell.execute_reply": "2021-10-12T02:34:24.413758Z"
    }
   },
   "outputs": [
    {
     "data": {
      "text/html": [
       "<div>\n",
       "<style scoped>\n",
       "    .dataframe tbody tr th:only-of-type {\n",
       "        vertical-align: middle;\n",
       "    }\n",
       "\n",
       "    .dataframe tbody tr th {\n",
       "        vertical-align: top;\n",
       "    }\n",
       "\n",
       "    .dataframe thead th {\n",
       "        text-align: right;\n",
       "    }\n",
       "</style>\n",
       "<table border=\"1\" class=\"dataframe\">\n",
       "  <thead>\n",
       "    <tr style=\"text-align: right;\">\n",
       "      <th></th>\n",
       "      <th>dt</th>\n",
       "      <th>temp</th>\n",
       "      <th>feels_like</th>\n",
       "      <th>pressure</th>\n",
       "      <th>humidity</th>\n",
       "      <th>dew_point</th>\n",
       "      <th>uvi</th>\n",
       "      <th>clouds</th>\n",
       "      <th>visibility</th>\n",
       "      <th>wind_speed</th>\n",
       "      <th>wind_deg</th>\n",
       "      <th>wind_gust</th>\n",
       "      <th>weather</th>\n",
       "      <th>pop</th>\n",
       "      <th>rain</th>\n",
       "    </tr>\n",
       "  </thead>\n",
       "  <tbody>\n",
       "    <tr>\n",
       "      <th>0</th>\n",
       "      <td>1634004000</td>\n",
       "      <td>25.36</td>\n",
       "      <td>25.70</td>\n",
       "      <td>1010</td>\n",
       "      <td>67</td>\n",
       "      <td>18.79</td>\n",
       "      <td>4.54</td>\n",
       "      <td>100</td>\n",
       "      <td>10000</td>\n",
       "      <td>12.19</td>\n",
       "      <td>3</td>\n",
       "      <td>19.17</td>\n",
       "      <td>[{'id': 804, 'main': 'Clouds', 'description': ...</td>\n",
       "      <td>0.0</td>\n",
       "      <td>NaN</td>\n",
       "    </tr>\n",
       "    <tr>\n",
       "      <th>1</th>\n",
       "      <td>1634007600</td>\n",
       "      <td>25.63</td>\n",
       "      <td>25.97</td>\n",
       "      <td>1012</td>\n",
       "      <td>66</td>\n",
       "      <td>18.81</td>\n",
       "      <td>6.71</td>\n",
       "      <td>100</td>\n",
       "      <td>10000</td>\n",
       "      <td>12.54</td>\n",
       "      <td>4</td>\n",
       "      <td>18.57</td>\n",
       "      <td>[{'id': 804, 'main': 'Clouds', 'description': ...</td>\n",
       "      <td>0.0</td>\n",
       "      <td>NaN</td>\n",
       "    </tr>\n",
       "    <tr>\n",
       "      <th>2</th>\n",
       "      <td>1634011200</td>\n",
       "      <td>25.48</td>\n",
       "      <td>25.83</td>\n",
       "      <td>1010</td>\n",
       "      <td>67</td>\n",
       "      <td>18.91</td>\n",
       "      <td>4.74</td>\n",
       "      <td>100</td>\n",
       "      <td>10000</td>\n",
       "      <td>12.91</td>\n",
       "      <td>8</td>\n",
       "      <td>18.65</td>\n",
       "      <td>[{'id': 804, 'main': 'Clouds', 'description': ...</td>\n",
       "      <td>0.0</td>\n",
       "      <td>NaN</td>\n",
       "    </tr>\n",
       "    <tr>\n",
       "      <th>3</th>\n",
       "      <td>1634014800</td>\n",
       "      <td>25.27</td>\n",
       "      <td>25.60</td>\n",
       "      <td>1008</td>\n",
       "      <td>67</td>\n",
       "      <td>18.71</td>\n",
       "      <td>4.65</td>\n",
       "      <td>100</td>\n",
       "      <td>10000</td>\n",
       "      <td>13.29</td>\n",
       "      <td>6</td>\n",
       "      <td>18.72</td>\n",
       "      <td>[{'id': 804, 'main': 'Clouds', 'description': ...</td>\n",
       "      <td>0.0</td>\n",
       "      <td>NaN</td>\n",
       "    </tr>\n",
       "    <tr>\n",
       "      <th>4</th>\n",
       "      <td>1634018400</td>\n",
       "      <td>24.69</td>\n",
       "      <td>24.99</td>\n",
       "      <td>1005</td>\n",
       "      <td>68</td>\n",
       "      <td>18.39</td>\n",
       "      <td>3.76</td>\n",
       "      <td>100</td>\n",
       "      <td>10000</td>\n",
       "      <td>13.93</td>\n",
       "      <td>4</td>\n",
       "      <td>20.05</td>\n",
       "      <td>[{'id': 804, 'main': 'Clouds', 'description': ...</td>\n",
       "      <td>0.0</td>\n",
       "      <td>NaN</td>\n",
       "    </tr>\n",
       "  </tbody>\n",
       "</table>\n",
       "</div>"
      ],
      "text/plain": [
       "           dt   temp  feels_like  pressure  humidity  dew_point   uvi  clouds  \\\n",
       "0  1634004000  25.36       25.70      1010        67      18.79  4.54     100   \n",
       "1  1634007600  25.63       25.97      1012        66      18.81  6.71     100   \n",
       "2  1634011200  25.48       25.83      1010        67      18.91  4.74     100   \n",
       "3  1634014800  25.27       25.60      1008        67      18.71  4.65     100   \n",
       "4  1634018400  24.69       24.99      1005        68      18.39  3.76     100   \n",
       "\n",
       "   visibility  wind_speed  wind_deg  wind_gust  \\\n",
       "0       10000       12.19         3      19.17   \n",
       "1       10000       12.54         4      18.57   \n",
       "2       10000       12.91         8      18.65   \n",
       "3       10000       13.29         6      18.72   \n",
       "4       10000       13.93         4      20.05   \n",
       "\n",
       "                                             weather  pop rain  \n",
       "0  [{'id': 804, 'main': 'Clouds', 'description': ...  0.0  NaN  \n",
       "1  [{'id': 804, 'main': 'Clouds', 'description': ...  0.0  NaN  \n",
       "2  [{'id': 804, 'main': 'Clouds', 'description': ...  0.0  NaN  \n",
       "3  [{'id': 804, 'main': 'Clouds', 'description': ...  0.0  NaN  \n",
       "4  [{'id': 804, 'main': 'Clouds', 'description': ...  0.0  NaN  "
      ]
     },
     "execution_count": 10,
     "metadata": {},
     "output_type": "execute_result"
    }
   ],
   "source": [
    "df_hourly.head()"
   ]
  },
  {
   "cell_type": "code",
   "execution_count": null,
   "metadata": {},
   "outputs": [],
   "source": []
  }
 ],
 "metadata": {
  "interpreter": {
   "hash": "c1b4cfe941b6d2466ad1fb5979e97da9cda8801728c8091b097ab734208fc00c"
  },
  "kernelspec": {
   "display_name": "Python 3.8.3 64-bit ('base': conda)",
   "name": "python3"
  },
  "language_info": {
   "codemirror_mode": {
    "name": "ipython",
    "version": 3
   },
   "file_extension": ".py",
   "mimetype": "text/x-python",
   "name": "python",
   "nbconvert_exporter": "python",
   "pygments_lexer": "ipython3",
   "version": "3.8.12"
  }
 },
 "nbformat": 4,
 "nbformat_minor": 2
}
