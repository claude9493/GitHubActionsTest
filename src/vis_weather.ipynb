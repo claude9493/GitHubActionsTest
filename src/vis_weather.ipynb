{
 "cells": [
  {
   "cell_type": "code",
   "execution_count": 1,
   "metadata": {
    "execution": {
     "iopub.execute_input": "2021-09-22T15:12:01.007860Z",
     "iopub.status.busy": "2021-09-22T15:12:01.007292Z",
     "iopub.status.idle": "2021-09-22T15:12:02.344342Z",
     "shell.execute_reply": "2021-09-22T15:12:02.343762Z"
    }
   },
   "outputs": [],
   "source": [
    "import json, yaml, requests\r\n",
    "from datetime import datetime\r\n",
    "from dateutil import tz\r\n",
    "import pandas as pd\r\n",
    "from PIL import Image\r\n",
    "from io import BytesIO\r\n",
    "import matplotlib.pyplot as plt\r\n",
    "import seaborn\r\n",
    "\r\n",
    "CONFIG_PATH = \"../config/config.yaml\""
   ]
  },
  {
   "cell_type": "code",
   "execution_count": 2,
   "metadata": {
    "execution": {
     "iopub.execute_input": "2021-09-22T15:12:02.349209Z",
     "iopub.status.busy": "2021-09-22T15:12:02.348640Z",
     "iopub.status.idle": "2021-09-22T15:12:02.354845Z",
     "shell.execute_reply": "2021-09-22T15:12:02.354440Z"
    }
   },
   "outputs": [],
   "source": [
    "with open('../newest_ts', 'r') as f:\r\n",
    "    newest_ts = f.read()\r\n",
    "\r\n",
    "data_path = f\"../data/data_{newest_ts}.json\"\r\n",
    "with open(data_path, 'r') as f:\r\n",
    "    data = json.load(f)\r\n",
    "\r\n",
    "with open(CONFIG_PATH, \"r\") as stream:\r\n",
    "    config = yaml.safe_load(stream)\r\n",
    "\r\n",
    "TIME_ZONE = config['time_zone']\r\n",
    "DATETIME_FORMAT = config['dt_format']"
   ]
  },
  {
   "cell_type": "code",
   "execution_count": 3,
   "metadata": {
    "execution": {
     "iopub.execute_input": "2021-09-22T15:12:02.358904Z",
     "iopub.status.busy": "2021-09-22T15:12:02.358444Z",
     "iopub.status.idle": "2021-09-22T15:12:02.369315Z",
     "shell.execute_reply": "2021-09-22T15:12:02.369692Z"
    }
   },
   "outputs": [
    {
     "name": "stdout",
     "output_type": "stream",
     "text": [
      "Recent query happens at 2021-09-22 23:11:58 (CST).\n"
     ]
    }
   ],
   "source": [
    "def ts2dt(ts, format=DATETIME_FORMAT):\r\n",
    "    dt = (datetime.utcfromtimestamp(int(ts))\r\n",
    "                    .replace(tzinfo=tz.tzutc())\r\n",
    "                    # .astimezone(tz.tzlocal())\r\n",
    "                    .astimezone(tz.gettz(TIME_ZONE)))\r\n",
    "    return dt.strftime(format), dt\r\n",
    "\r\n",
    "_, newest_dt = ts2dt(newest_ts)\r\n",
    "print(f\"Recent query happens at {newest_dt.strftime(DATETIME_FORMAT)} ({newest_dt.tzname()}).\")"
   ]
  },
  {
   "cell_type": "code",
   "execution_count": 4,
   "metadata": {
    "execution": {
     "iopub.execute_input": "2021-09-22T15:12:02.374623Z",
     "iopub.status.busy": "2021-09-22T15:12:02.373465Z",
     "iopub.status.idle": "2021-09-22T15:12:02.375149Z",
     "shell.execute_reply": "2021-09-22T15:12:02.375514Z"
    }
   },
   "outputs": [],
   "source": [
    "def degrees_to_cardinal(d):\r\n",
    "  dirs = ['N', 'NNE', 'NE', 'ENE', 'E', 'ESE', 'SE', 'SSE', 'S', 'SSW', 'SW', 'WSW', 'W', 'WNW', 'NW', 'NNW']\r\n",
    "  ix = int(round(d / (360. / len(dirs))))\r\n",
    "  return dirs[ix % len(dirs)]"
   ]
  },
  {
   "cell_type": "code",
   "execution_count": 5,
   "metadata": {
    "execution": {
     "iopub.execute_input": "2021-09-22T15:12:02.379325Z",
     "iopub.status.busy": "2021-09-22T15:12:02.378307Z",
     "iopub.status.idle": "2021-09-22T15:12:02.379844Z",
     "shell.execute_reply": "2021-09-22T15:12:02.380210Z"
    }
   },
   "outputs": [],
   "source": [
    "# data.keys()"
   ]
  },
  {
   "cell_type": "code",
   "execution_count": 6,
   "metadata": {
    "execution": {
     "iopub.execute_input": "2021-09-22T15:12:02.383893Z",
     "iopub.status.busy": "2021-09-22T15:12:02.382744Z",
     "iopub.status.idle": "2021-09-22T15:12:02.384419Z",
     "shell.execute_reply": "2021-09-22T15:12:02.384808Z"
    }
   },
   "outputs": [],
   "source": [
    "# data['current']"
   ]
  },
  {
   "cell_type": "code",
   "execution_count": 7,
   "metadata": {
    "execution": {
     "iopub.execute_input": "2021-09-22T15:12:02.400426Z",
     "iopub.status.busy": "2021-09-22T15:12:02.386564Z",
     "iopub.status.idle": "2021-09-22T15:12:02.679992Z",
     "shell.execute_reply": "2021-09-22T15:12:02.680672Z"
    }
   },
   "outputs": [
    {
     "data": {
      "image/png": "[encoded data removed]",
      "text/plain": [
       "<Figure size 216x216 with 1 Axes>"
      ]
     },
     "metadata": {
      "needs_background": "light"
     },
     "output_type": "display_data"
    },
    {
     "name": "stdout",
     "output_type": "stream",
     "text": [
      "Today, sun rises at 06:11 and sets at 18:19.\n",
      "Currently, the weather is Rain (light rain).\n",
      "The temperature is 30.46°C and it feels like 37.46°C.\n",
      "The UV index is 0, humidity is 80%.\n",
      "The pressure is 1012 hPa, percentage of cloud cover is 11%\n",
      "The wind comes from ESE direction with a speed 4.32 m/s.\n"
     ]
    }
   ],
   "source": [
    "current = data['current']\r\n",
    "\r\n",
    "fig, ax = plt.subplots(figsize=(3, 3))\r\n",
    "icon = requests.get(f\"http://openweathermap.org/img/wn/{current['weather'][0]['icon']}@2x.png\")\r\n",
    "im = Image.open(BytesIO(icon.content))\r\n",
    "plt.imshow(im)\r\n",
    "ax.set_axis_off()\r\n",
    "plt.show()\r\n",
    "\r\n",
    "print(f\"Today, sun rises at {ts2dt(current['sunrise'], '%H:%M')[0]} \\\r\n",
    "and sets at {ts2dt(current['sunset'], '%H:%M')[0]}.\\n\\\r\n",
    "Currently, the weather is {current['weather'][0]['main']} ({current['weather'][0]['description']}).\\n\\\r\n",
    "The temperature is {current['temp']}°C and it feels like {current['feels_like']}°C.\\n\\\r\n",
    "The UV index is {current['uvi']}, humidity is {current['humidity']}%.\\n\\\r\n",
    "The pressure is {current['pressure']} hPa, percentage of cloud cover is {current['clouds']}%\\n\\\r\n",
    "The wind comes from {degrees_to_cardinal(current['wind_deg'])} direction with a speed {current['wind_speed']} m/s.\")"
   ]
  },
  {
   "cell_type": "code",
   "execution_count": 8,
   "metadata": {
    "execution": {
     "iopub.execute_input": "2021-09-22T15:12:02.683774Z",
     "iopub.status.busy": "2021-09-22T15:12:02.682835Z",
     "iopub.status.idle": "2021-09-22T15:12:02.689439Z",
     "shell.execute_reply": "2021-09-22T15:12:02.690081Z"
    }
   },
   "outputs": [],
   "source": [
    "df_hourly = pd.DataFrame(data['hourly'])\r\n",
    "df_daily = pd.DataFrame(data['daily'])"
   ]
  },
  {
   "cell_type": "code",
   "execution_count": 9,
   "metadata": {
    "execution": {
     "iopub.execute_input": "2021-09-22T15:12:02.693090Z",
     "iopub.status.busy": "2021-09-22T15:12:02.692060Z",
     "iopub.status.idle": "2021-09-22T15:12:02.925299Z",
     "shell.execute_reply": "2021-09-22T15:12:02.924865Z"
    }
   },
   "outputs": [
    {
     "data": {
      "image/png": "[encoded data removed]",
      "text/plain": [
       "<Figure size 864x432 with 1 Axes>"
      ]
     },
     "metadata": {
      "needs_background": "light"
     },
     "output_type": "display_data"
    }
   ],
   "source": [
    "fig, ax = plt.subplots(figsize=(12, 6))\r\n",
    "plt.plot(df_hourly.temp, '.-', label='Temperature')\r\n",
    "plt.plot(df_hourly.feels_like, '.-', label='Feels Like')\r\n",
    "ax.set(title='Temperature in future 48 hours', xlabel='Time', ylabel='Temperature')\r\n",
    "ax.set_xticks(list(range(0, len(df_hourly), 2)))\r\n",
    "ax.set_xticklabels([ts2dt(ts, '%m-%d %H:%M')[0] for i, ts in enumerate(df_hourly.dt) if i%2==0], \r\n",
    "                   rotation=45, ha=\"right\")\r\n",
    "ax.locator_params(nbins=15, axis='y')\r\n",
    "plt.legend()\r\n",
    "plt.show()"
   ]
  },
  {
   "cell_type": "code",
   "execution_count": 10,
   "metadata": {
    "execution": {
     "iopub.execute_input": "2021-09-22T15:12:02.936623Z",
     "iopub.status.busy": "2021-09-22T15:12:02.929066Z",
     "iopub.status.idle": "2021-09-22T15:12:02.946720Z",
     "shell.execute_reply": "2021-09-22T15:12:02.947076Z"
    }
   },
   "outputs": [
    {
     "data": {
      "text/html": [
       "<div>\n",
       "<style scoped>\n",
       "    .dataframe tbody tr th:only-of-type {\n",
       "        vertical-align: middle;\n",
       "    }\n",
       "\n",
       "    .dataframe tbody tr th {\n",
       "        vertical-align: top;\n",
       "    }\n",
       "\n",
       "    .dataframe thead th {\n",
       "        text-align: right;\n",
       "    }\n",
       "</style>\n",
       "<table border=\"1\" class=\"dataframe\">\n",
       "  <thead>\n",
       "    <tr style=\"text-align: right;\">\n",
       "      <th></th>\n",
       "      <th>dt</th>\n",
       "      <th>temp</th>\n",
       "      <th>feels_like</th>\n",
       "      <th>pressure</th>\n",
       "      <th>humidity</th>\n",
       "      <th>dew_point</th>\n",
       "      <th>uvi</th>\n",
       "      <th>clouds</th>\n",
       "      <th>visibility</th>\n",
       "      <th>wind_speed</th>\n",
       "      <th>wind_deg</th>\n",
       "      <th>wind_gust</th>\n",
       "      <th>weather</th>\n",
       "      <th>pop</th>\n",
       "      <th>rain</th>\n",
       "    </tr>\n",
       "  </thead>\n",
       "  <tbody>\n",
       "    <tr>\n",
       "      <th>0</th>\n",
       "      <td>1632322800</td>\n",
       "      <td>30.46</td>\n",
       "      <td>37.46</td>\n",
       "      <td>1012</td>\n",
       "      <td>80</td>\n",
       "      <td>26.62</td>\n",
       "      <td>0.0</td>\n",
       "      <td>11</td>\n",
       "      <td>10000</td>\n",
       "      <td>4.32</td>\n",
       "      <td>106</td>\n",
       "      <td>6.06</td>\n",
       "      <td>[{'id': 801, 'main': 'Clouds', 'description': ...</td>\n",
       "      <td>0.60</td>\n",
       "      <td>NaN</td>\n",
       "    </tr>\n",
       "    <tr>\n",
       "      <th>1</th>\n",
       "      <td>1632326400</td>\n",
       "      <td>30.08</td>\n",
       "      <td>37.08</td>\n",
       "      <td>1012</td>\n",
       "      <td>80</td>\n",
       "      <td>26.25</td>\n",
       "      <td>0.0</td>\n",
       "      <td>15</td>\n",
       "      <td>10000</td>\n",
       "      <td>4.48</td>\n",
       "      <td>99</td>\n",
       "      <td>6.37</td>\n",
       "      <td>[{'id': 500, 'main': 'Rain', 'description': 'l...</td>\n",
       "      <td>0.61</td>\n",
       "      <td>{'1h': 0.15}</td>\n",
       "    </tr>\n",
       "    <tr>\n",
       "      <th>2</th>\n",
       "      <td>1632330000</td>\n",
       "      <td>29.65</td>\n",
       "      <td>36.61</td>\n",
       "      <td>1012</td>\n",
       "      <td>80</td>\n",
       "      <td>25.83</td>\n",
       "      <td>0.0</td>\n",
       "      <td>25</td>\n",
       "      <td>10000</td>\n",
       "      <td>4.39</td>\n",
       "      <td>96</td>\n",
       "      <td>6.36</td>\n",
       "      <td>[{'id': 500, 'main': 'Rain', 'description': 'l...</td>\n",
       "      <td>0.55</td>\n",
       "      <td>{'1h': 0.13}</td>\n",
       "    </tr>\n",
       "    <tr>\n",
       "      <th>3</th>\n",
       "      <td>1632333600</td>\n",
       "      <td>29.19</td>\n",
       "      <td>35.28</td>\n",
       "      <td>1011</td>\n",
       "      <td>80</td>\n",
       "      <td>25.38</td>\n",
       "      <td>0.0</td>\n",
       "      <td>33</td>\n",
       "      <td>10000</td>\n",
       "      <td>4.75</td>\n",
       "      <td>98</td>\n",
       "      <td>6.77</td>\n",
       "      <td>[{'id': 802, 'main': 'Clouds', 'description': ...</td>\n",
       "      <td>0.62</td>\n",
       "      <td>NaN</td>\n",
       "    </tr>\n",
       "    <tr>\n",
       "      <th>4</th>\n",
       "      <td>1632337200</td>\n",
       "      <td>28.85</td>\n",
       "      <td>33.92</td>\n",
       "      <td>1011</td>\n",
       "      <td>78</td>\n",
       "      <td>24.63</td>\n",
       "      <td>0.0</td>\n",
       "      <td>17</td>\n",
       "      <td>10000</td>\n",
       "      <td>4.66</td>\n",
       "      <td>107</td>\n",
       "      <td>6.70</td>\n",
       "      <td>[{'id': 801, 'main': 'Clouds', 'description': ...</td>\n",
       "      <td>0.51</td>\n",
       "      <td>NaN</td>\n",
       "    </tr>\n",
       "  </tbody>\n",
       "</table>\n",
       "</div>"
      ],
      "text/plain": [
       "           dt   temp  feels_like  pressure  humidity  dew_point  uvi  clouds  \\\n",
       "0  1632322800  30.46       37.46      1012        80      26.62  0.0      11   \n",
       "1  1632326400  30.08       37.08      1012        80      26.25  0.0      15   \n",
       "2  1632330000  29.65       36.61      1012        80      25.83  0.0      25   \n",
       "3  1632333600  29.19       35.28      1011        80      25.38  0.0      33   \n",
       "4  1632337200  28.85       33.92      1011        78      24.63  0.0      17   \n",
       "\n",
       "   visibility  wind_speed  wind_deg  wind_gust  \\\n",
       "0       10000        4.32       106       6.06   \n",
       "1       10000        4.48        99       6.37   \n",
       "2       10000        4.39        96       6.36   \n",
       "3       10000        4.75        98       6.77   \n",
       "4       10000        4.66       107       6.70   \n",
       "\n",
       "                                             weather   pop          rain  \n",
       "0  [{'id': 801, 'main': 'Clouds', 'description': ...  0.60           NaN  \n",
       "1  [{'id': 500, 'main': 'Rain', 'description': 'l...  0.61  {'1h': 0.15}  \n",
       "2  [{'id': 500, 'main': 'Rain', 'description': 'l...  0.55  {'1h': 0.13}  \n",
       "3  [{'id': 802, 'main': 'Clouds', 'description': ...  0.62           NaN  \n",
       "4  [{'id': 801, 'main': 'Clouds', 'description': ...  0.51           NaN  "
      ]
     },
     "execution_count": 10,
     "metadata": {},
     "output_type": "execute_result"
    }
   ],
   "source": [
    "df_hourly.head()"
   ]
  },
  {
   "cell_type": "code",
   "execution_count": null,
   "metadata": {},
   "outputs": [],
   "source": []
  }
 ],
 "metadata": {
  "interpreter": {
   "hash": "c1b4cfe941b6d2466ad1fb5979e97da9cda8801728c8091b097ab734208fc00c"
  },
  "kernelspec": {
   "display_name": "Python 3.8.3 64-bit ('base': conda)",
   "name": "python3"
  },
  "language_info": {
   "codemirror_mode": {
    "name": "ipython",
    "version": 3
   },
   "file_extension": ".py",
   "mimetype": "text/x-python",
   "name": "python",
   "nbconvert_exporter": "python",
   "pygments_lexer": "ipython3",
   "version": "3.8.11"
  }
 },
 "nbformat": 4,
 "nbformat_minor": 2
}
