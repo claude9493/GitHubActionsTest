{
 "cells": [
  {
   "cell_type": "code",
   "execution_count": 1,
   "metadata": {
    "execution": {
     "iopub.execute_input": "2021-08-27T04:50:26.088000Z",
     "iopub.status.busy": "2021-08-27T04:50:26.087342Z",
     "iopub.status.idle": "2021-08-27T04:50:29.752081Z",
     "shell.execute_reply": "2021-08-27T04:50:29.752714Z"
    }
   },
   "outputs": [],
   "source": [
    "import json, yaml, requests\r\n",
    "from datetime import datetime\r\n",
    "from dateutil import tz\r\n",
    "import pandas as pd\r\n",
    "from PIL import Image\r\n",
    "from io import BytesIO\r\n",
    "import matplotlib.pyplot as plt\r\n",
    "import seaborn\r\n",
    "\r\n",
    "CONFIG_PATH = \"../config/config.yaml\""
   ]
  },
  {
   "cell_type": "code",
   "execution_count": 2,
   "metadata": {
    "execution": {
     "iopub.execute_input": "2021-08-27T04:50:29.761093Z",
     "iopub.status.busy": "2021-08-27T04:50:29.755869Z",
     "iopub.status.idle": "2021-08-27T04:50:29.766408Z",
     "shell.execute_reply": "2021-08-27T04:50:29.766832Z"
    }
   },
   "outputs": [],
   "source": [
    "with open('../newest_ts', 'r') as f:\r\n",
    "    newest_ts = f.read()\r\n",
    "\r\n",
    "data_path = f\"../data/data_{newest_ts}.json\"\r\n",
    "with open(data_path, 'r') as f:\r\n",
    "    data = json.load(f)\r\n",
    "\r\n",
    "with open(CONFIG_PATH, \"r\") as stream:\r\n",
    "    config = yaml.safe_load(stream)\r\n",
    "\r\n",
    "TIME_ZONE = config['time_zone']\r\n",
    "DATETIME_FORMAT = config['dt_format']"
   ]
  },
  {
   "cell_type": "code",
   "execution_count": 3,
   "metadata": {
    "execution": {
     "iopub.execute_input": "2021-08-27T04:50:29.772602Z",
     "iopub.status.busy": "2021-08-27T04:50:29.771854Z",
     "iopub.status.idle": "2021-08-27T04:50:29.776561Z",
     "shell.execute_reply": "2021-08-27T04:50:29.777017Z"
    }
   },
   "outputs": [
    {
     "name": "stdout",
     "output_type": "stream",
     "text": [
      "Recent query happens at 2021-08-27 12:50:23 (CST).\n"
     ]
    }
   ],
   "source": [
    "def ts2dt(ts, format=DATETIME_FORMAT):\r\n",
    "    dt = (datetime.utcfromtimestamp(int(ts))\r\n",
    "                    .replace(tzinfo=tz.tzutc())\r\n",
    "                    # .astimezone(tz.tzlocal())\r\n",
    "                    .astimezone(tz.gettz(TIME_ZONE)))\r\n",
    "    return dt.strftime(format), dt\r\n",
    "\r\n",
    "_, newest_dt = ts2dt(newest_ts)\r\n",
    "print(f\"Recent query happens at {newest_dt.strftime(DATETIME_FORMAT)} ({newest_dt.tzname()}).\")"
   ]
  },
  {
   "cell_type": "code",
   "execution_count": 4,
   "metadata": {
    "execution": {
     "iopub.execute_input": "2021-08-27T04:50:29.781750Z",
     "iopub.status.busy": "2021-08-27T04:50:29.779261Z",
     "iopub.status.idle": "2021-08-27T04:50:29.784501Z",
     "shell.execute_reply": "2021-08-27T04:50:29.783998Z"
    }
   },
   "outputs": [],
   "source": [
    "def degrees_to_cardinal(d):\r\n",
    "  dirs = ['N', 'NNE', 'NE', 'ENE', 'E', 'ESE', 'SE', 'SSE', 'S', 'SSW', 'SW', 'WSW', 'W', 'WNW', 'NW', 'NNW']\r\n",
    "  ix = int(round(d / (360. / len(dirs))))\r\n",
    "  return dirs[ix % len(dirs)]"
   ]
  },
  {
   "cell_type": "code",
   "execution_count": 5,
   "metadata": {
    "execution": {
     "iopub.execute_input": "2021-08-27T04:50:29.790502Z",
     "iopub.status.busy": "2021-08-27T04:50:29.788343Z",
     "iopub.status.idle": "2021-08-27T04:50:29.791182Z",
     "shell.execute_reply": "2021-08-27T04:50:29.791685Z"
    }
   },
   "outputs": [],
   "source": [
    "# data.keys()"
   ]
  },
  {
   "cell_type": "code",
   "execution_count": 6,
   "metadata": {
    "execution": {
     "iopub.execute_input": "2021-08-27T04:50:29.807390Z",
     "iopub.status.busy": "2021-08-27T04:50:29.805949Z",
     "iopub.status.idle": "2021-08-27T04:50:29.808008Z",
     "shell.execute_reply": "2021-08-27T04:50:29.808436Z"
    }
   },
   "outputs": [],
   "source": [
    "# data['current']"
   ]
  },
  {
   "cell_type": "code",
   "execution_count": 7,
   "metadata": {
    "execution": {
     "iopub.execute_input": "2021-08-27T04:50:29.832189Z",
     "iopub.status.busy": "2021-08-27T04:50:29.818487Z",
     "iopub.status.idle": "2021-08-27T04:50:30.514412Z",
     "shell.execute_reply": "2021-08-27T04:50:30.515164Z"
    }
   },
   "outputs": [
    {
     "data": {
      "image/png": "[encoded data removed]",
      "text/plain": [
       "<Figure size 216x216 with 1 Axes>"
      ]
     },
     "metadata": {
      "needs_background": "light"
     },
     "output_type": "display_data"
    },
    {
     "name": "stdout",
     "output_type": "stream",
     "text": [
      "Today, sun rises at 06:04 and sets at 18:45.\n",
      "Currently, the weather is Rain (heavy intensity rain).\n",
      "The temperature is 24.75°C and it feels like 25°C.\n",
      "The UV index is 11.36, humidity is 66%.\n",
      "The pressure is 1011 hPa, percentage of cloud cover is 21%\n",
      "The wind comes from E direction with a speed 6.74 m/s.\n"
     ]
    }
   ],
   "source": [
    "current = data['current']\r\n",
    "\r\n",
    "fig, ax = plt.subplots(figsize=(3, 3))\r\n",
    "icon = requests.get(f\"http://openweathermap.org/img/wn/{current['weather'][0]['icon']}@2x.png\")\r\n",
    "im = Image.open(BytesIO(icon.content))\r\n",
    "plt.imshow(im)\r\n",
    "ax.set_axis_off()\r\n",
    "plt.show()\r\n",
    "\r\n",
    "print(f\"Today, sun rises at {ts2dt(current['sunrise'], '%H:%M')[0]} \\\r\n",
    "and sets at {ts2dt(current['sunset'], '%H:%M')[0]}.\\n\\\r\n",
    "Currently, the weather is {current['weather'][0]['main']} ({current['weather'][0]['description']}).\\n\\\r\n",
    "The temperature is {current['temp']}°C and it feels like {current['feels_like']}°C.\\n\\\r\n",
    "The UV index is {current['uvi']}, humidity is {current['humidity']}%.\\n\\\r\n",
    "The pressure is {current['pressure']} hPa, percentage of cloud cover is {current['clouds']}%\\n\\\r\n",
    "The wind comes from {degrees_to_cardinal(current['wind_deg'])} direction with a speed {current['wind_speed']} m/s.\")"
   ]
  },
  {
   "cell_type": "code",
   "execution_count": 8,
   "metadata": {
    "execution": {
     "iopub.execute_input": "2021-08-27T04:50:30.518720Z",
     "iopub.status.busy": "2021-08-27T04:50:30.517653Z",
     "iopub.status.idle": "2021-08-27T04:50:30.525344Z",
     "shell.execute_reply": "2021-08-27T04:50:30.526071Z"
    }
   },
   "outputs": [],
   "source": [
    "df_hourly = pd.DataFrame(data['hourly'])\r\n",
    "df_daily = pd.DataFrame(data['daily'])"
   ]
  },
  {
   "cell_type": "code",
   "execution_count": 9,
   "metadata": {
    "execution": {
     "iopub.execute_input": "2021-08-27T04:50:30.529498Z",
     "iopub.status.busy": "2021-08-27T04:50:30.528456Z",
     "iopub.status.idle": "2021-08-27T04:50:30.813276Z",
     "shell.execute_reply": "2021-08-27T04:50:30.812784Z"
    }
   },
   "outputs": [
    {
     "data": {
      "image/png": "[encoded data removed]",
      "text/plain": [
       "<Figure size 864x432 with 1 Axes>"
      ]
     },
     "metadata": {
      "needs_background": "light"
     },
     "output_type": "display_data"
    }
   ],
   "source": [
    "fig, ax = plt.subplots(figsize=(12, 6))\r\n",
    "plt.plot(df_hourly.temp, '.-', label='Temperature')\r\n",
    "plt.plot(df_hourly.feels_like, '.-', label='Feels Like')\r\n",
    "ax.set(title='Temperature in future 48 hours', xlabel='Time', ylabel='Temperature')\r\n",
    "ax.set_xticks(list(range(0, len(df_hourly), 2)))\r\n",
    "ax.set_xticklabels([ts2dt(ts, '%m-%d %H:%M')[0] for i, ts in enumerate(df_hourly.dt) if i%2==0], \r\n",
    "                   rotation=45, ha=\"right\")\r\n",
    "ax.locator_params(nbins=15, axis='y')\r\n",
    "plt.legend()\r\n",
    "plt.show()"
   ]
  },
  {
   "cell_type": "code",
   "execution_count": 10,
   "metadata": {
    "execution": {
     "iopub.execute_input": "2021-08-27T04:50:30.818187Z",
     "iopub.status.busy": "2021-08-27T04:50:30.817625Z",
     "iopub.status.idle": "2021-08-27T04:50:30.836794Z",
     "shell.execute_reply": "2021-08-27T04:50:30.837238Z"
    }
   },
   "outputs": [
    {
     "data": {
      "text/html": [
       "<div>\n",
       "<style scoped>\n",
       "    .dataframe tbody tr th:only-of-type {\n",
       "        vertical-align: middle;\n",
       "    }\n",
       "\n",
       "    .dataframe tbody tr th {\n",
       "        vertical-align: top;\n",
       "    }\n",
       "\n",
       "    .dataframe thead th {\n",
       "        text-align: right;\n",
       "    }\n",
       "</style>\n",
       "<table border=\"1\" class=\"dataframe\">\n",
       "  <thead>\n",
       "    <tr style=\"text-align: right;\">\n",
       "      <th></th>\n",
       "      <th>dt</th>\n",
       "      <th>temp</th>\n",
       "      <th>feels_like</th>\n",
       "      <th>pressure</th>\n",
       "      <th>humidity</th>\n",
       "      <th>dew_point</th>\n",
       "      <th>uvi</th>\n",
       "      <th>clouds</th>\n",
       "      <th>visibility</th>\n",
       "      <th>wind_speed</th>\n",
       "      <th>wind_deg</th>\n",
       "      <th>wind_gust</th>\n",
       "      <th>weather</th>\n",
       "      <th>pop</th>\n",
       "      <th>rain</th>\n",
       "    </tr>\n",
       "  </thead>\n",
       "  <tbody>\n",
       "    <tr>\n",
       "      <th>0</th>\n",
       "      <td>1630036800</td>\n",
       "      <td>25.81</td>\n",
       "      <td>26.20</td>\n",
       "      <td>1011</td>\n",
       "      <td>67</td>\n",
       "      <td>19.22</td>\n",
       "      <td>11.55</td>\n",
       "      <td>19</td>\n",
       "      <td>10000</td>\n",
       "      <td>6.39</td>\n",
       "      <td>82</td>\n",
       "      <td>7.27</td>\n",
       "      <td>[{'id': 801, 'main': 'Clouds', 'description': ...</td>\n",
       "      <td>0.60</td>\n",
       "      <td>NaN</td>\n",
       "    </tr>\n",
       "    <tr>\n",
       "      <th>1</th>\n",
       "      <td>1630040400</td>\n",
       "      <td>24.75</td>\n",
       "      <td>25.00</td>\n",
       "      <td>1011</td>\n",
       "      <td>66</td>\n",
       "      <td>17.97</td>\n",
       "      <td>11.36</td>\n",
       "      <td>21</td>\n",
       "      <td>10000</td>\n",
       "      <td>6.74</td>\n",
       "      <td>89</td>\n",
       "      <td>7.45</td>\n",
       "      <td>[{'id': 502, 'main': 'Rain', 'description': 'h...</td>\n",
       "      <td>0.60</td>\n",
       "      <td>{'1h': 6.48}</td>\n",
       "    </tr>\n",
       "    <tr>\n",
       "      <th>2</th>\n",
       "      <td>1630044000</td>\n",
       "      <td>25.81</td>\n",
       "      <td>26.20</td>\n",
       "      <td>1011</td>\n",
       "      <td>67</td>\n",
       "      <td>19.22</td>\n",
       "      <td>9.43</td>\n",
       "      <td>24</td>\n",
       "      <td>10000</td>\n",
       "      <td>7.04</td>\n",
       "      <td>94</td>\n",
       "      <td>8.08</td>\n",
       "      <td>[{'id': 501, 'main': 'Rain', 'description': 'm...</td>\n",
       "      <td>0.65</td>\n",
       "      <td>{'1h': 2.05}</td>\n",
       "    </tr>\n",
       "    <tr>\n",
       "      <th>3</th>\n",
       "      <td>1630047600</td>\n",
       "      <td>26.78</td>\n",
       "      <td>28.35</td>\n",
       "      <td>1011</td>\n",
       "      <td>68</td>\n",
       "      <td>20.38</td>\n",
       "      <td>5.71</td>\n",
       "      <td>52</td>\n",
       "      <td>10000</td>\n",
       "      <td>6.99</td>\n",
       "      <td>98</td>\n",
       "      <td>8.15</td>\n",
       "      <td>[{'id': 500, 'main': 'Rain', 'description': 'l...</td>\n",
       "      <td>0.23</td>\n",
       "      <td>{'1h': 0.87}</td>\n",
       "    </tr>\n",
       "    <tr>\n",
       "      <th>4</th>\n",
       "      <td>1630051200</td>\n",
       "      <td>27.54</td>\n",
       "      <td>29.69</td>\n",
       "      <td>1010</td>\n",
       "      <td>69</td>\n",
       "      <td>21.34</td>\n",
       "      <td>3.03</td>\n",
       "      <td>68</td>\n",
       "      <td>10000</td>\n",
       "      <td>6.55</td>\n",
       "      <td>96</td>\n",
       "      <td>8.02</td>\n",
       "      <td>[{'id': 803, 'main': 'Clouds', 'description': ...</td>\n",
       "      <td>0.19</td>\n",
       "      <td>NaN</td>\n",
       "    </tr>\n",
       "  </tbody>\n",
       "</table>\n",
       "</div>"
      ],
      "text/plain": [
       "           dt   temp  feels_like  pressure  humidity  dew_point    uvi  \\\n",
       "0  1630036800  25.81       26.20      1011        67      19.22  11.55   \n",
       "1  1630040400  24.75       25.00      1011        66      17.97  11.36   \n",
       "2  1630044000  25.81       26.20      1011        67      19.22   9.43   \n",
       "3  1630047600  26.78       28.35      1011        68      20.38   5.71   \n",
       "4  1630051200  27.54       29.69      1010        69      21.34   3.03   \n",
       "\n",
       "   clouds  visibility  wind_speed  wind_deg  wind_gust  \\\n",
       "0      19       10000        6.39        82       7.27   \n",
       "1      21       10000        6.74        89       7.45   \n",
       "2      24       10000        7.04        94       8.08   \n",
       "3      52       10000        6.99        98       8.15   \n",
       "4      68       10000        6.55        96       8.02   \n",
       "\n",
       "                                             weather   pop          rain  \n",
       "0  [{'id': 801, 'main': 'Clouds', 'description': ...  0.60           NaN  \n",
       "1  [{'id': 502, 'main': 'Rain', 'description': 'h...  0.60  {'1h': 6.48}  \n",
       "2  [{'id': 501, 'main': 'Rain', 'description': 'm...  0.65  {'1h': 2.05}  \n",
       "3  [{'id': 500, 'main': 'Rain', 'description': 'l...  0.23  {'1h': 0.87}  \n",
       "4  [{'id': 803, 'main': 'Clouds', 'description': ...  0.19           NaN  "
      ]
     },
     "execution_count": 10,
     "metadata": {},
     "output_type": "execute_result"
    }
   ],
   "source": [
    "df_hourly.head()"
   ]
  },
  {
   "cell_type": "code",
   "execution_count": null,
   "metadata": {},
   "outputs": [],
   "source": []
  }
 ],
 "metadata": {
  "interpreter": {
   "hash": "c1b4cfe941b6d2466ad1fb5979e97da9cda8801728c8091b097ab734208fc00c"
  },
  "kernelspec": {
   "display_name": "Python 3.8.3 64-bit ('base': conda)",
   "name": "python3"
  },
  "language_info": {
   "codemirror_mode": {
    "name": "ipython",
    "version": 3
   },
   "file_extension": ".py",
   "mimetype": "text/x-python",
   "name": "python",
   "nbconvert_exporter": "python",
   "pygments_lexer": "ipython3",
   "version": "3.8.11"
  }
 },
 "nbformat": 4,
 "nbformat_minor": 2
}
