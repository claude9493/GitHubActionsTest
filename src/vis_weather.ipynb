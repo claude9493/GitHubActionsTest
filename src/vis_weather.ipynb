{
 "cells": [
  {
   "cell_type": "code",
   "execution_count": 1,
   "metadata": {
    "execution": {
     "iopub.execute_input": "2021-10-12T05:10:34.681484Z",
     "iopub.status.busy": "2021-10-12T05:10:34.680913Z",
     "iopub.status.idle": "2021-10-12T05:10:35.808691Z",
     "shell.execute_reply": "2021-10-12T05:10:35.807986Z"
    }
   },
   "outputs": [],
   "source": [
    "import json, yaml, requests\r\n",
    "from datetime import datetime\r\n",
    "from dateutil import tz\r\n",
    "import pandas as pd\r\n",
    "from PIL import Image\r\n",
    "from io import BytesIO\r\n",
    "import matplotlib.pyplot as plt\r\n",
    "import seaborn\r\n",
    "\r\n",
    "CONFIG_PATH = \"../config/config.yaml\""
   ]
  },
  {
   "cell_type": "code",
   "execution_count": 2,
   "metadata": {
    "execution": {
     "iopub.execute_input": "2021-10-12T05:10:35.813932Z",
     "iopub.status.busy": "2021-10-12T05:10:35.813213Z",
     "iopub.status.idle": "2021-10-12T05:10:35.818216Z",
     "shell.execute_reply": "2021-10-12T05:10:35.817508Z"
    }
   },
   "outputs": [],
   "source": [
    "with open('../newest_ts', 'r') as f:\r\n",
    "    newest_ts = f.read()\r\n",
    "\r\n",
    "data_path = f\"../data/data_{newest_ts}.json\"\r\n",
    "with open(data_path, 'r') as f:\r\n",
    "    data = json.load(f)\r\n",
    "\r\n",
    "with open(CONFIG_PATH, \"r\") as stream:\r\n",
    "    config = yaml.safe_load(stream)\r\n",
    "\r\n",
    "TIME_ZONE = config['time_zone']\r\n",
    "DATETIME_FORMAT = config['dt_format']"
   ]
  },
  {
   "cell_type": "code",
   "execution_count": 3,
   "metadata": {
    "execution": {
     "iopub.execute_input": "2021-10-12T05:10:35.822645Z",
     "iopub.status.busy": "2021-10-12T05:10:35.822186Z",
     "iopub.status.idle": "2021-10-12T05:10:35.834613Z",
     "shell.execute_reply": "2021-10-12T05:10:35.834135Z"
    }
   },
   "outputs": [
    {
     "name": "stdout",
     "output_type": "stream",
     "text": [
      "Recent query happens at 2021-10-12 13:10:31 (CST).\n"
     ]
    }
   ],
   "source": [
    "def ts2dt(ts, format=DATETIME_FORMAT):\r\n",
    "    dt = (datetime.utcfromtimestamp(int(ts))\r\n",
    "                    .replace(tzinfo=tz.tzutc())\r\n",
    "                    # .astimezone(tz.tzlocal())\r\n",
    "                    .astimezone(tz.gettz(TIME_ZONE)))\r\n",
    "    return dt.strftime(format), dt\r\n",
    "\r\n",
    "_, newest_dt = ts2dt(newest_ts)\r\n",
    "print(f\"Recent query happens at {newest_dt.strftime(DATETIME_FORMAT)} ({newest_dt.tzname()}).\")"
   ]
  },
  {
   "cell_type": "code",
   "execution_count": 4,
   "metadata": {
    "execution": {
     "iopub.execute_input": "2021-10-12T05:10:35.839688Z",
     "iopub.status.busy": "2021-10-12T05:10:35.838556Z",
     "iopub.status.idle": "2021-10-12T05:10:35.840237Z",
     "shell.execute_reply": "2021-10-12T05:10:35.840605Z"
    }
   },
   "outputs": [],
   "source": [
    "def degrees_to_cardinal(d):\r\n",
    "  dirs = ['N', 'NNE', 'NE', 'ENE', 'E', 'ESE', 'SE', 'SSE', 'S', 'SSW', 'SW', 'WSW', 'W', 'WNW', 'NW', 'NNW']\r\n",
    "  ix = int(round(d / (360. / len(dirs))))\r\n",
    "  return dirs[ix % len(dirs)]"
   ]
  },
  {
   "cell_type": "code",
   "execution_count": 5,
   "metadata": {
    "execution": {
     "iopub.execute_input": "2021-10-12T05:10:35.844620Z",
     "iopub.status.busy": "2021-10-12T05:10:35.843598Z",
     "iopub.status.idle": "2021-10-12T05:10:35.845151Z",
     "shell.execute_reply": "2021-10-12T05:10:35.845513Z"
    }
   },
   "outputs": [],
   "source": [
    "# data.keys()"
   ]
  },
  {
   "cell_type": "code",
   "execution_count": 6,
   "metadata": {
    "execution": {
     "iopub.execute_input": "2021-10-12T05:10:35.849287Z",
     "iopub.status.busy": "2021-10-12T05:10:35.848209Z",
     "iopub.status.idle": "2021-10-12T05:10:35.849801Z",
     "shell.execute_reply": "2021-10-12T05:10:35.850157Z"
    }
   },
   "outputs": [],
   "source": [
    "# data['current']"
   ]
  },
  {
   "cell_type": "code",
   "execution_count": 7,
   "metadata": {
    "execution": {
     "iopub.execute_input": "2021-10-12T05:10:35.866394Z",
     "iopub.status.busy": "2021-10-12T05:10:35.855751Z",
     "iopub.status.idle": "2021-10-12T05:10:36.244887Z",
     "shell.execute_reply": "2021-10-12T05:10:36.245255Z"
    }
   },
   "outputs": [
    {
     "data": {
      "image/png": "[encoded data removed]",
      "text/plain": [
       "<Figure size 216x216 with 1 Axes>"
      ]
     },
     "metadata": {
      "needs_background": "light"
     },
     "output_type": "display_data"
    },
    {
     "name": "stdout",
     "output_type": "stream",
     "text": [
      "Today, sun rises at 06:17 and sets at 18:00.\n",
      "Currently, the weather is Clouds (overcast clouds).\n",
      "The temperature is 26.32°C and it feels like 26.32°C.\n",
      "The UV index is 4.65, humidity is 67%.\n",
      "The pressure is 1010 hPa, percentage of cloud cover is 100%\n",
      "The wind comes from NNW direction with a speed 0.89 m/s.\n"
     ]
    }
   ],
   "source": [
    "current = data['current']\r\n",
    "\r\n",
    "fig, ax = plt.subplots(figsize=(3, 3))\r\n",
    "icon = requests.get(f\"http://openweathermap.org/img/wn/{current['weather'][0]['icon']}@2x.png\")\r\n",
    "im = Image.open(BytesIO(icon.content))\r\n",
    "plt.imshow(im)\r\n",
    "ax.set_axis_off()\r\n",
    "plt.show()\r\n",
    "\r\n",
    "print(f\"Today, sun rises at {ts2dt(current['sunrise'], '%H:%M')[0]} \\\r\n",
    "and sets at {ts2dt(current['sunset'], '%H:%M')[0]}.\\n\\\r\n",
    "Currently, the weather is {current['weather'][0]['main']} ({current['weather'][0]['description']}).\\n\\\r\n",
    "The temperature is {current['temp']}°C and it feels like {current['feels_like']}°C.\\n\\\r\n",
    "The UV index is {current['uvi']}, humidity is {current['humidity']}%.\\n\\\r\n",
    "The pressure is {current['pressure']} hPa, percentage of cloud cover is {current['clouds']}%\\n\\\r\n",
    "The wind comes from {degrees_to_cardinal(current['wind_deg'])} direction with a speed {current['wind_speed']} m/s.\")"
   ]
  },
  {
   "cell_type": "code",
   "execution_count": 8,
   "metadata": {
    "execution": {
     "iopub.execute_input": "2021-10-12T05:10:36.249867Z",
     "iopub.status.busy": "2021-10-12T05:10:36.249421Z",
     "iopub.status.idle": "2021-10-12T05:10:36.252817Z",
     "shell.execute_reply": "2021-10-12T05:10:36.253252Z"
    }
   },
   "outputs": [],
   "source": [
    "df_hourly = pd.DataFrame(data['hourly'])\r\n",
    "df_daily = pd.DataFrame(data['daily'])"
   ]
  },
  {
   "cell_type": "code",
   "execution_count": 9,
   "metadata": {
    "execution": {
     "iopub.execute_input": "2021-10-12T05:10:36.255386Z",
     "iopub.status.busy": "2021-10-12T05:10:36.254942Z",
     "iopub.status.idle": "2021-10-12T05:10:36.491170Z",
     "shell.execute_reply": "2021-10-12T05:10:36.490744Z"
    }
   },
   "outputs": [
    {
     "data": {
      "image/png": "[encoded data removed]",
      "text/plain": [
       "<Figure size 864x432 with 1 Axes>"
      ]
     },
     "metadata": {
      "needs_background": "light"
     },
     "output_type": "display_data"
    }
   ],
   "source": [
    "fig, ax = plt.subplots(figsize=(12, 6))\r\n",
    "plt.plot(df_hourly.temp, '.-', label='Temperature')\r\n",
    "plt.plot(df_hourly.feels_like, '.-', label='Feels Like')\r\n",
    "ax.set(title='Temperature in future 48 hours', xlabel='Time', ylabel='Temperature')\r\n",
    "ax.set_xticks(list(range(0, len(df_hourly), 2)))\r\n",
    "ax.set_xticklabels([ts2dt(ts, '%m-%d %H:%M')[0] for i, ts in enumerate(df_hourly.dt) if i%2==0], \r\n",
    "                   rotation=45, ha=\"right\")\r\n",
    "ax.locator_params(nbins=15, axis='y')\r\n",
    "plt.legend()\r\n",
    "plt.show()"
   ]
  },
  {
   "cell_type": "code",
   "execution_count": 10,
   "metadata": {
    "execution": {
     "iopub.execute_input": "2021-10-12T05:10:36.503196Z",
     "iopub.status.busy": "2021-10-12T05:10:36.495214Z",
     "iopub.status.idle": "2021-10-12T05:10:36.514460Z",
     "shell.execute_reply": "2021-10-12T05:10:36.514815Z"
    }
   },
   "outputs": [
    {
     "data": {
      "text/html": [
       "<div>\n",
       "<style scoped>\n",
       "    .dataframe tbody tr th:only-of-type {\n",
       "        vertical-align: middle;\n",
       "    }\n",
       "\n",
       "    .dataframe tbody tr th {\n",
       "        vertical-align: top;\n",
       "    }\n",
       "\n",
       "    .dataframe thead th {\n",
       "        text-align: right;\n",
       "    }\n",
       "</style>\n",
       "<table border=\"1\" class=\"dataframe\">\n",
       "  <thead>\n",
       "    <tr style=\"text-align: right;\">\n",
       "      <th></th>\n",
       "      <th>dt</th>\n",
       "      <th>temp</th>\n",
       "      <th>feels_like</th>\n",
       "      <th>pressure</th>\n",
       "      <th>humidity</th>\n",
       "      <th>dew_point</th>\n",
       "      <th>uvi</th>\n",
       "      <th>clouds</th>\n",
       "      <th>visibility</th>\n",
       "      <th>wind_speed</th>\n",
       "      <th>wind_deg</th>\n",
       "      <th>wind_gust</th>\n",
       "      <th>weather</th>\n",
       "      <th>pop</th>\n",
       "      <th>rain</th>\n",
       "    </tr>\n",
       "  </thead>\n",
       "  <tbody>\n",
       "    <tr>\n",
       "      <th>0</th>\n",
       "      <td>1634014800</td>\n",
       "      <td>26.32</td>\n",
       "      <td>26.32</td>\n",
       "      <td>1010</td>\n",
       "      <td>67</td>\n",
       "      <td>19.70</td>\n",
       "      <td>4.65</td>\n",
       "      <td>100</td>\n",
       "      <td>10000</td>\n",
       "      <td>13.29</td>\n",
       "      <td>6</td>\n",
       "      <td>18.72</td>\n",
       "      <td>[{'id': 804, 'main': 'Clouds', 'description': ...</td>\n",
       "      <td>0.0</td>\n",
       "      <td>NaN</td>\n",
       "    </tr>\n",
       "    <tr>\n",
       "      <th>1</th>\n",
       "      <td>1634018400</td>\n",
       "      <td>25.87</td>\n",
       "      <td>26.29</td>\n",
       "      <td>1008</td>\n",
       "      <td>68</td>\n",
       "      <td>19.51</td>\n",
       "      <td>3.76</td>\n",
       "      <td>100</td>\n",
       "      <td>10000</td>\n",
       "      <td>13.93</td>\n",
       "      <td>4</td>\n",
       "      <td>20.05</td>\n",
       "      <td>[{'id': 500, 'main': 'Rain', 'description': 'l...</td>\n",
       "      <td>0.2</td>\n",
       "      <td>{'1h': 0.1}</td>\n",
       "    </tr>\n",
       "    <tr>\n",
       "      <th>2</th>\n",
       "      <td>1634022000</td>\n",
       "      <td>25.32</td>\n",
       "      <td>25.71</td>\n",
       "      <td>1006</td>\n",
       "      <td>69</td>\n",
       "      <td>19.22</td>\n",
       "      <td>0.92</td>\n",
       "      <td>100</td>\n",
       "      <td>10000</td>\n",
       "      <td>13.29</td>\n",
       "      <td>6</td>\n",
       "      <td>19.90</td>\n",
       "      <td>[{'id': 804, 'main': 'Clouds', 'description': ...</td>\n",
       "      <td>0.0</td>\n",
       "      <td>NaN</td>\n",
       "    </tr>\n",
       "    <tr>\n",
       "      <th>3</th>\n",
       "      <td>1634025600</td>\n",
       "      <td>24.88</td>\n",
       "      <td>25.23</td>\n",
       "      <td>1004</td>\n",
       "      <td>69</td>\n",
       "      <td>18.80</td>\n",
       "      <td>0.43</td>\n",
       "      <td>100</td>\n",
       "      <td>10000</td>\n",
       "      <td>14.44</td>\n",
       "      <td>9</td>\n",
       "      <td>19.81</td>\n",
       "      <td>[{'id': 804, 'main': 'Clouds', 'description': ...</td>\n",
       "      <td>0.0</td>\n",
       "      <td>NaN</td>\n",
       "    </tr>\n",
       "    <tr>\n",
       "      <th>4</th>\n",
       "      <td>1634029200</td>\n",
       "      <td>24.10</td>\n",
       "      <td>24.39</td>\n",
       "      <td>1001</td>\n",
       "      <td>70</td>\n",
       "      <td>18.29</td>\n",
       "      <td>0.12</td>\n",
       "      <td>100</td>\n",
       "      <td>10000</td>\n",
       "      <td>14.17</td>\n",
       "      <td>6</td>\n",
       "      <td>20.32</td>\n",
       "      <td>[{'id': 804, 'main': 'Clouds', 'description': ...</td>\n",
       "      <td>0.0</td>\n",
       "      <td>NaN</td>\n",
       "    </tr>\n",
       "  </tbody>\n",
       "</table>\n",
       "</div>"
      ],
      "text/plain": [
       "           dt   temp  feels_like  pressure  humidity  dew_point   uvi  clouds  \\\n",
       "0  1634014800  26.32       26.32      1010        67      19.70  4.65     100   \n",
       "1  1634018400  25.87       26.29      1008        68      19.51  3.76     100   \n",
       "2  1634022000  25.32       25.71      1006        69      19.22  0.92     100   \n",
       "3  1634025600  24.88       25.23      1004        69      18.80  0.43     100   \n",
       "4  1634029200  24.10       24.39      1001        70      18.29  0.12     100   \n",
       "\n",
       "   visibility  wind_speed  wind_deg  wind_gust  \\\n",
       "0       10000       13.29         6      18.72   \n",
       "1       10000       13.93         4      20.05   \n",
       "2       10000       13.29         6      19.90   \n",
       "3       10000       14.44         9      19.81   \n",
       "4       10000       14.17         6      20.32   \n",
       "\n",
       "                                             weather  pop         rain  \n",
       "0  [{'id': 804, 'main': 'Clouds', 'description': ...  0.0          NaN  \n",
       "1  [{'id': 500, 'main': 'Rain', 'description': 'l...  0.2  {'1h': 0.1}  \n",
       "2  [{'id': 804, 'main': 'Clouds', 'description': ...  0.0          NaN  \n",
       "3  [{'id': 804, 'main': 'Clouds', 'description': ...  0.0          NaN  \n",
       "4  [{'id': 804, 'main': 'Clouds', 'description': ...  0.0          NaN  "
      ]
     },
     "execution_count": 10,
     "metadata": {},
     "output_type": "execute_result"
    }
   ],
   "source": [
    "df_hourly.head()"
   ]
  },
  {
   "cell_type": "code",
   "execution_count": null,
   "metadata": {},
   "outputs": [],
   "source": []
  }
 ],
 "metadata": {
  "interpreter": {
   "hash": "c1b4cfe941b6d2466ad1fb5979e97da9cda8801728c8091b097ab734208fc00c"
  },
  "kernelspec": {
   "display_name": "Python 3.8.3 64-bit ('base': conda)",
   "name": "python3"
  },
  "language_info": {
   "codemirror_mode": {
    "name": "ipython",
    "version": 3
   },
   "file_extension": ".py",
   "mimetype": "text/x-python",
   "name": "python",
   "nbconvert_exporter": "python",
   "pygments_lexer": "ipython3",
   "version": "3.8.12"
  }
 },
 "nbformat": 4,
 "nbformat_minor": 2
}
