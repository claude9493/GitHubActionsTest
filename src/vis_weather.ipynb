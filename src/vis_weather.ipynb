{
 "cells": [
  {
   "cell_type": "code",
   "execution_count": 1,
   "metadata": {
    "execution": {
     "iopub.execute_input": "2021-09-05T15:15:51.656645Z",
     "iopub.status.busy": "2021-09-05T15:15:51.655612Z",
     "iopub.status.idle": "2021-09-05T15:15:54.648942Z",
     "shell.execute_reply": "2021-09-05T15:15:54.648128Z"
    }
   },
   "outputs": [],
   "source": [
    "import json, yaml, requests\r\n",
    "from datetime import datetime\r\n",
    "from dateutil import tz\r\n",
    "import pandas as pd\r\n",
    "from PIL import Image\r\n",
    "from io import BytesIO\r\n",
    "import matplotlib.pyplot as plt\r\n",
    "import seaborn\r\n",
    "\r\n",
    "CONFIG_PATH = \"../config/config.yaml\""
   ]
  },
  {
   "cell_type": "code",
   "execution_count": 2,
   "metadata": {
    "execution": {
     "iopub.execute_input": "2021-09-05T15:15:54.659873Z",
     "iopub.status.busy": "2021-09-05T15:15:54.655765Z",
     "iopub.status.idle": "2021-09-05T15:15:54.664539Z",
     "shell.execute_reply": "2021-09-05T15:15:54.663564Z"
    }
   },
   "outputs": [],
   "source": [
    "with open('../newest_ts', 'r') as f:\r\n",
    "    newest_ts = f.read()\r\n",
    "\r\n",
    "data_path = f\"../data/data_{newest_ts}.json\"\r\n",
    "with open(data_path, 'r') as f:\r\n",
    "    data = json.load(f)\r\n",
    "\r\n",
    "with open(CONFIG_PATH, \"r\") as stream:\r\n",
    "    config = yaml.safe_load(stream)\r\n",
    "\r\n",
    "TIME_ZONE = config['time_zone']\r\n",
    "DATETIME_FORMAT = config['dt_format']"
   ]
  },
  {
   "cell_type": "code",
   "execution_count": 3,
   "metadata": {
    "execution": {
     "iopub.execute_input": "2021-09-05T15:15:54.670063Z",
     "iopub.status.busy": "2021-09-05T15:15:54.669063Z",
     "iopub.status.idle": "2021-09-05T15:15:54.683124Z",
     "shell.execute_reply": "2021-09-05T15:15:54.683652Z"
    }
   },
   "outputs": [
    {
     "name": "stdout",
     "output_type": "stream",
     "text": [
      "Recent query happens at 2021-09-05 23:15:48 (CST).\n"
     ]
    }
   ],
   "source": [
    "def ts2dt(ts, format=DATETIME_FORMAT):\r\n",
    "    dt = (datetime.utcfromtimestamp(int(ts))\r\n",
    "                    .replace(tzinfo=tz.tzutc())\r\n",
    "                    # .astimezone(tz.tzlocal())\r\n",
    "                    .astimezone(tz.gettz(TIME_ZONE)))\r\n",
    "    return dt.strftime(format), dt\r\n",
    "\r\n",
    "_, newest_dt = ts2dt(newest_ts)\r\n",
    "print(f\"Recent query happens at {newest_dt.strftime(DATETIME_FORMAT)} ({newest_dt.tzname()}).\")"
   ]
  },
  {
   "cell_type": "code",
   "execution_count": 4,
   "metadata": {
    "execution": {
     "iopub.execute_input": "2021-09-05T15:15:54.692281Z",
     "iopub.status.busy": "2021-09-05T15:15:54.690618Z",
     "iopub.status.idle": "2021-09-05T15:15:54.692978Z",
     "shell.execute_reply": "2021-09-05T15:15:54.693483Z"
    }
   },
   "outputs": [],
   "source": [
    "def degrees_to_cardinal(d):\r\n",
    "  dirs = ['N', 'NNE', 'NE', 'ENE', 'E', 'ESE', 'SE', 'SSE', 'S', 'SSW', 'SW', 'WSW', 'W', 'WNW', 'NW', 'NNW']\r\n",
    "  ix = int(round(d / (360. / len(dirs))))\r\n",
    "  return dirs[ix % len(dirs)]"
   ]
  },
  {
   "cell_type": "code",
   "execution_count": 5,
   "metadata": {
    "execution": {
     "iopub.execute_input": "2021-09-05T15:15:54.698135Z",
     "iopub.status.busy": "2021-09-05T15:15:54.697459Z",
     "iopub.status.idle": "2021-09-05T15:15:54.699042Z",
     "shell.execute_reply": "2021-09-05T15:15:54.699531Z"
    }
   },
   "outputs": [],
   "source": [
    "# data.keys()"
   ]
  },
  {
   "cell_type": "code",
   "execution_count": 6,
   "metadata": {
    "execution": {
     "iopub.execute_input": "2021-09-05T15:15:54.703253Z",
     "iopub.status.busy": "2021-09-05T15:15:54.701968Z",
     "iopub.status.idle": "2021-09-05T15:15:54.705910Z",
     "shell.execute_reply": "2021-09-05T15:15:54.705293Z"
    }
   },
   "outputs": [],
   "source": [
    "# data['current']"
   ]
  },
  {
   "cell_type": "code",
   "execution_count": 7,
   "metadata": {
    "execution": {
     "iopub.execute_input": "2021-09-05T15:15:54.728710Z",
     "iopub.status.busy": "2021-09-05T15:15:54.728051Z",
     "iopub.status.idle": "2021-09-05T15:15:55.498525Z",
     "shell.execute_reply": "2021-09-05T15:15:55.499354Z"
    }
   },
   "outputs": [
    {
     "data": {
      "image/png": "[encoded data removed]",
      "text/plain": [
       "<Figure size 216x216 with 1 Axes>"
      ]
     },
     "metadata": {
      "needs_background": "light"
     },
     "output_type": "display_data"
    },
    {
     "name": "stdout",
     "output_type": "stream",
     "text": [
      "Today, sun rises at 06:06 and sets at 18:36.\n",
      "Currently, the weather is Clouds (scattered clouds).\n",
      "The temperature is 29.2°C and it feels like 35.08°C.\n",
      "The UV index is 0, humidity is 79%.\n",
      "The pressure is 1011 hPa, percentage of cloud cover is 40%\n",
      "The wind comes from E direction with a speed 3.02 m/s.\n"
     ]
    }
   ],
   "source": [
    "current = data['current']\r\n",
    "\r\n",
    "fig, ax = plt.subplots(figsize=(3, 3))\r\n",
    "icon = requests.get(f\"http://openweathermap.org/img/wn/{current['weather'][0]['icon']}@2x.png\")\r\n",
    "im = Image.open(BytesIO(icon.content))\r\n",
    "plt.imshow(im)\r\n",
    "ax.set_axis_off()\r\n",
    "plt.show()\r\n",
    "\r\n",
    "print(f\"Today, sun rises at {ts2dt(current['sunrise'], '%H:%M')[0]} \\\r\n",
    "and sets at {ts2dt(current['sunset'], '%H:%M')[0]}.\\n\\\r\n",
    "Currently, the weather is {current['weather'][0]['main']} ({current['weather'][0]['description']}).\\n\\\r\n",
    "The temperature is {current['temp']}°C and it feels like {current['feels_like']}°C.\\n\\\r\n",
    "The UV index is {current['uvi']}, humidity is {current['humidity']}%.\\n\\\r\n",
    "The pressure is {current['pressure']} hPa, percentage of cloud cover is {current['clouds']}%\\n\\\r\n",
    "The wind comes from {degrees_to_cardinal(current['wind_deg'])} direction with a speed {current['wind_speed']} m/s.\")"
   ]
  },
  {
   "cell_type": "code",
   "execution_count": 8,
   "metadata": {
    "execution": {
     "iopub.execute_input": "2021-09-05T15:15:55.503460Z",
     "iopub.status.busy": "2021-09-05T15:15:55.502284Z",
     "iopub.status.idle": "2021-09-05T15:15:55.510991Z",
     "shell.execute_reply": "2021-09-05T15:15:55.511839Z"
    }
   },
   "outputs": [],
   "source": [
    "df_hourly = pd.DataFrame(data['hourly'])\r\n",
    "df_daily = pd.DataFrame(data['daily'])"
   ]
  },
  {
   "cell_type": "code",
   "execution_count": 9,
   "metadata": {
    "execution": {
     "iopub.execute_input": "2021-09-05T15:15:55.515829Z",
     "iopub.status.busy": "2021-09-05T15:15:55.514675Z",
     "iopub.status.idle": "2021-09-05T15:15:55.875775Z",
     "shell.execute_reply": "2021-09-05T15:15:55.875224Z"
    }
   },
   "outputs": [
    {
     "data": {
      "image/png": "[encoded data removed]",
      "text/plain": [
       "<Figure size 864x432 with 1 Axes>"
      ]
     },
     "metadata": {
      "needs_background": "light"
     },
     "output_type": "display_data"
    }
   ],
   "source": [
    "fig, ax = plt.subplots(figsize=(12, 6))\r\n",
    "plt.plot(df_hourly.temp, '.-', label='Temperature')\r\n",
    "plt.plot(df_hourly.feels_like, '.-', label='Feels Like')\r\n",
    "ax.set(title='Temperature in future 48 hours', xlabel='Time', ylabel='Temperature')\r\n",
    "ax.set_xticks(list(range(0, len(df_hourly), 2)))\r\n",
    "ax.set_xticklabels([ts2dt(ts, '%m-%d %H:%M')[0] for i, ts in enumerate(df_hourly.dt) if i%2==0], \r\n",
    "                   rotation=45, ha=\"right\")\r\n",
    "ax.locator_params(nbins=15, axis='y')\r\n",
    "plt.legend()\r\n",
    "plt.show()"
   ]
  },
  {
   "cell_type": "code",
   "execution_count": 10,
   "metadata": {
    "execution": {
     "iopub.execute_input": "2021-09-05T15:15:55.889828Z",
     "iopub.status.busy": "2021-09-05T15:15:55.880493Z",
     "iopub.status.idle": "2021-09-05T15:15:55.904927Z",
     "shell.execute_reply": "2021-09-05T15:15:55.904360Z"
    }
   },
   "outputs": [
    {
     "data": {
      "text/html": [
       "<div>\n",
       "<style scoped>\n",
       "    .dataframe tbody tr th:only-of-type {\n",
       "        vertical-align: middle;\n",
       "    }\n",
       "\n",
       "    .dataframe tbody tr th {\n",
       "        vertical-align: top;\n",
       "    }\n",
       "\n",
       "    .dataframe thead th {\n",
       "        text-align: right;\n",
       "    }\n",
       "</style>\n",
       "<table border=\"1\" class=\"dataframe\">\n",
       "  <thead>\n",
       "    <tr style=\"text-align: right;\">\n",
       "      <th></th>\n",
       "      <th>dt</th>\n",
       "      <th>temp</th>\n",
       "      <th>feels_like</th>\n",
       "      <th>pressure</th>\n",
       "      <th>humidity</th>\n",
       "      <th>dew_point</th>\n",
       "      <th>uvi</th>\n",
       "      <th>clouds</th>\n",
       "      <th>visibility</th>\n",
       "      <th>wind_speed</th>\n",
       "      <th>wind_deg</th>\n",
       "      <th>wind_gust</th>\n",
       "      <th>weather</th>\n",
       "      <th>pop</th>\n",
       "      <th>rain</th>\n",
       "    </tr>\n",
       "  </thead>\n",
       "  <tbody>\n",
       "    <tr>\n",
       "      <th>0</th>\n",
       "      <td>1630854000</td>\n",
       "      <td>29.20</td>\n",
       "      <td>35.08</td>\n",
       "      <td>1011</td>\n",
       "      <td>79</td>\n",
       "      <td>25.18</td>\n",
       "      <td>0.0</td>\n",
       "      <td>40</td>\n",
       "      <td>10000</td>\n",
       "      <td>3.02</td>\n",
       "      <td>98</td>\n",
       "      <td>4.20</td>\n",
       "      <td>[{'id': 802, 'main': 'Clouds', 'description': ...</td>\n",
       "      <td>0.00</td>\n",
       "      <td>NaN</td>\n",
       "    </tr>\n",
       "    <tr>\n",
       "      <th>1</th>\n",
       "      <td>1630857600</td>\n",
       "      <td>28.94</td>\n",
       "      <td>34.57</td>\n",
       "      <td>1011</td>\n",
       "      <td>80</td>\n",
       "      <td>25.14</td>\n",
       "      <td>0.0</td>\n",
       "      <td>39</td>\n",
       "      <td>10000</td>\n",
       "      <td>2.29</td>\n",
       "      <td>102</td>\n",
       "      <td>3.28</td>\n",
       "      <td>[{'id': 802, 'main': 'Clouds', 'description': ...</td>\n",
       "      <td>0.00</td>\n",
       "      <td>NaN</td>\n",
       "    </tr>\n",
       "    <tr>\n",
       "      <th>2</th>\n",
       "      <td>1630861200</td>\n",
       "      <td>28.66</td>\n",
       "      <td>34.01</td>\n",
       "      <td>1011</td>\n",
       "      <td>81</td>\n",
       "      <td>25.07</td>\n",
       "      <td>0.0</td>\n",
       "      <td>36</td>\n",
       "      <td>10000</td>\n",
       "      <td>2.39</td>\n",
       "      <td>104</td>\n",
       "      <td>3.11</td>\n",
       "      <td>[{'id': 802, 'main': 'Clouds', 'description': ...</td>\n",
       "      <td>0.00</td>\n",
       "      <td>NaN</td>\n",
       "    </tr>\n",
       "    <tr>\n",
       "      <th>3</th>\n",
       "      <td>1630864800</td>\n",
       "      <td>28.34</td>\n",
       "      <td>33.14</td>\n",
       "      <td>1011</td>\n",
       "      <td>81</td>\n",
       "      <td>24.76</td>\n",
       "      <td>0.0</td>\n",
       "      <td>32</td>\n",
       "      <td>10000</td>\n",
       "      <td>2.40</td>\n",
       "      <td>99</td>\n",
       "      <td>3.19</td>\n",
       "      <td>[{'id': 802, 'main': 'Clouds', 'description': ...</td>\n",
       "      <td>0.00</td>\n",
       "      <td>NaN</td>\n",
       "    </tr>\n",
       "    <tr>\n",
       "      <th>4</th>\n",
       "      <td>1630868400</td>\n",
       "      <td>28.01</td>\n",
       "      <td>32.28</td>\n",
       "      <td>1010</td>\n",
       "      <td>81</td>\n",
       "      <td>24.44</td>\n",
       "      <td>0.0</td>\n",
       "      <td>16</td>\n",
       "      <td>10000</td>\n",
       "      <td>1.44</td>\n",
       "      <td>94</td>\n",
       "      <td>1.98</td>\n",
       "      <td>[{'id': 801, 'main': 'Clouds', 'description': ...</td>\n",
       "      <td>0.13</td>\n",
       "      <td>NaN</td>\n",
       "    </tr>\n",
       "  </tbody>\n",
       "</table>\n",
       "</div>"
      ],
      "text/plain": [
       "           dt   temp  feels_like  pressure  humidity  dew_point  uvi  clouds  \\\n",
       "0  1630854000  29.20       35.08      1011        79      25.18  0.0      40   \n",
       "1  1630857600  28.94       34.57      1011        80      25.14  0.0      39   \n",
       "2  1630861200  28.66       34.01      1011        81      25.07  0.0      36   \n",
       "3  1630864800  28.34       33.14      1011        81      24.76  0.0      32   \n",
       "4  1630868400  28.01       32.28      1010        81      24.44  0.0      16   \n",
       "\n",
       "   visibility  wind_speed  wind_deg  wind_gust  \\\n",
       "0       10000        3.02        98       4.20   \n",
       "1       10000        2.29       102       3.28   \n",
       "2       10000        2.39       104       3.11   \n",
       "3       10000        2.40        99       3.19   \n",
       "4       10000        1.44        94       1.98   \n",
       "\n",
       "                                             weather   pop rain  \n",
       "0  [{'id': 802, 'main': 'Clouds', 'description': ...  0.00  NaN  \n",
       "1  [{'id': 802, 'main': 'Clouds', 'description': ...  0.00  NaN  \n",
       "2  [{'id': 802, 'main': 'Clouds', 'description': ...  0.00  NaN  \n",
       "3  [{'id': 802, 'main': 'Clouds', 'description': ...  0.00  NaN  \n",
       "4  [{'id': 801, 'main': 'Clouds', 'description': ...  0.13  NaN  "
      ]
     },
     "execution_count": 10,
     "metadata": {},
     "output_type": "execute_result"
    }
   ],
   "source": [
    "df_hourly.head()"
   ]
  },
  {
   "cell_type": "code",
   "execution_count": null,
   "metadata": {},
   "outputs": [],
   "source": []
  }
 ],
 "metadata": {
  "interpreter": {
   "hash": "c1b4cfe941b6d2466ad1fb5979e97da9cda8801728c8091b097ab734208fc00c"
  },
  "kernelspec": {
   "display_name": "Python 3.8.3 64-bit ('base': conda)",
   "name": "python3"
  },
  "language_info": {
   "codemirror_mode": {
    "name": "ipython",
    "version": 3
   },
   "file_extension": ".py",
   "mimetype": "text/x-python",
   "name": "python",
   "nbconvert_exporter": "python",
   "pygments_lexer": "ipython3",
   "version": "3.8.11"
  }
 },
 "nbformat": 4,
 "nbformat_minor": 2
}
