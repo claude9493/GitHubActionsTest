{
 "cells": [
  {
   "cell_type": "code",
   "execution_count": 1,
   "metadata": {
    "execution": {
     "iopub.execute_input": "2021-09-19T05:11:07.299241Z",
     "iopub.status.busy": "2021-09-19T05:11:07.298489Z",
     "iopub.status.idle": "2021-09-19T05:11:10.135335Z",
     "shell.execute_reply": "2021-09-19T05:11:10.134284Z"
    }
   },
   "outputs": [],
   "source": [
    "import json, yaml, requests\r\n",
    "from datetime import datetime\r\n",
    "from dateutil import tz\r\n",
    "import pandas as pd\r\n",
    "from PIL import Image\r\n",
    "from io import BytesIO\r\n",
    "import matplotlib.pyplot as plt\r\n",
    "import seaborn\r\n",
    "\r\n",
    "CONFIG_PATH = \"../config/config.yaml\""
   ]
  },
  {
   "cell_type": "code",
   "execution_count": 2,
   "metadata": {
    "execution": {
     "iopub.execute_input": "2021-09-19T05:11:10.142640Z",
     "iopub.status.busy": "2021-09-19T05:11:10.141938Z",
     "iopub.status.idle": "2021-09-19T05:11:10.150367Z",
     "shell.execute_reply": "2021-09-19T05:11:10.149607Z"
    }
   },
   "outputs": [],
   "source": [
    "with open('../newest_ts', 'r') as f:\r\n",
    "    newest_ts = f.read()\r\n",
    "\r\n",
    "data_path = f\"../data/data_{newest_ts}.json\"\r\n",
    "with open(data_path, 'r') as f:\r\n",
    "    data = json.load(f)\r\n",
    "\r\n",
    "with open(CONFIG_PATH, \"r\") as stream:\r\n",
    "    config = yaml.safe_load(stream)\r\n",
    "\r\n",
    "TIME_ZONE = config['time_zone']\r\n",
    "DATETIME_FORMAT = config['dt_format']"
   ]
  },
  {
   "cell_type": "code",
   "execution_count": 3,
   "metadata": {
    "execution": {
     "iopub.execute_input": "2021-09-19T05:11:10.155915Z",
     "iopub.status.busy": "2021-09-19T05:11:10.154990Z",
     "iopub.status.idle": "2021-09-19T05:11:10.166781Z",
     "shell.execute_reply": "2021-09-19T05:11:10.166290Z"
    }
   },
   "outputs": [
    {
     "name": "stdout",
     "output_type": "stream",
     "text": [
      "Recent query happens at 2021-09-19 13:11:03 (CST).\n"
     ]
    }
   ],
   "source": [
    "def ts2dt(ts, format=DATETIME_FORMAT):\r\n",
    "    dt = (datetime.utcfromtimestamp(int(ts))\r\n",
    "                    .replace(tzinfo=tz.tzutc())\r\n",
    "                    # .astimezone(tz.tzlocal())\r\n",
    "                    .astimezone(tz.gettz(TIME_ZONE)))\r\n",
    "    return dt.strftime(format), dt\r\n",
    "\r\n",
    "_, newest_dt = ts2dt(newest_ts)\r\n",
    "print(f\"Recent query happens at {newest_dt.strftime(DATETIME_FORMAT)} ({newest_dt.tzname()}).\")"
   ]
  },
  {
   "cell_type": "code",
   "execution_count": 4,
   "metadata": {
    "execution": {
     "iopub.execute_input": "2021-09-19T05:11:10.171798Z",
     "iopub.status.busy": "2021-09-19T05:11:10.171122Z",
     "iopub.status.idle": "2021-09-19T05:11:10.174970Z",
     "shell.execute_reply": "2021-09-19T05:11:10.174452Z"
    }
   },
   "outputs": [],
   "source": [
    "def degrees_to_cardinal(d):\r\n",
    "  dirs = ['N', 'NNE', 'NE', 'ENE', 'E', 'ESE', 'SE', 'SSE', 'S', 'SSW', 'SW', 'WSW', 'W', 'WNW', 'NW', 'NNW']\r\n",
    "  ix = int(round(d / (360. / len(dirs))))\r\n",
    "  return dirs[ix % len(dirs)]"
   ]
  },
  {
   "cell_type": "code",
   "execution_count": 5,
   "metadata": {
    "execution": {
     "iopub.execute_input": "2021-09-19T05:11:10.179146Z",
     "iopub.status.busy": "2021-09-19T05:11:10.178639Z",
     "iopub.status.idle": "2021-09-19T05:11:10.182471Z",
     "shell.execute_reply": "2021-09-19T05:11:10.182020Z"
    }
   },
   "outputs": [],
   "source": [
    "# data.keys()"
   ]
  },
  {
   "cell_type": "code",
   "execution_count": 6,
   "metadata": {
    "execution": {
     "iopub.execute_input": "2021-09-19T05:11:10.186758Z",
     "iopub.status.busy": "2021-09-19T05:11:10.186083Z",
     "iopub.status.idle": "2021-09-19T05:11:10.189917Z",
     "shell.execute_reply": "2021-09-19T05:11:10.189429Z"
    }
   },
   "outputs": [],
   "source": [
    "# data['current']"
   ]
  },
  {
   "cell_type": "code",
   "execution_count": 7,
   "metadata": {
    "execution": {
     "iopub.execute_input": "2021-09-19T05:11:10.224240Z",
     "iopub.status.busy": "2021-09-19T05:11:10.220337Z",
     "iopub.status.idle": "2021-09-19T05:11:10.673669Z",
     "shell.execute_reply": "2021-09-19T05:11:10.674408Z"
    }
   },
   "outputs": [
    {
     "data": {
      "image/png": "[encoded data removed]",
      "text/plain": [
       "<Figure size 216x216 with 1 Axes>"
      ]
     },
     "metadata": {
      "needs_background": "light"
     },
     "output_type": "display_data"
    },
    {
     "name": "stdout",
     "output_type": "stream",
     "text": [
      "Today, sun rises at 06:10 and sets at 18:22.\n",
      "Currently, the weather is Rain (light rain).\n",
      "The temperature is 31.7°C and it feels like 38.7°C.\n",
      "The UV index is 9.98, humidity is 78%.\n",
      "The pressure is 1011 hPa, percentage of cloud cover is 66%\n",
      "The wind comes from E direction with a speed 5.88 m/s.\n"
     ]
    }
   ],
   "source": [
    "current = data['current']\r\n",
    "\r\n",
    "fig, ax = plt.subplots(figsize=(3, 3))\r\n",
    "icon = requests.get(f\"http://openweathermap.org/img/wn/{current['weather'][0]['icon']}@2x.png\")\r\n",
    "im = Image.open(BytesIO(icon.content))\r\n",
    "plt.imshow(im)\r\n",
    "ax.set_axis_off()\r\n",
    "plt.show()\r\n",
    "\r\n",
    "print(f\"Today, sun rises at {ts2dt(current['sunrise'], '%H:%M')[0]} \\\r\n",
    "and sets at {ts2dt(current['sunset'], '%H:%M')[0]}.\\n\\\r\n",
    "Currently, the weather is {current['weather'][0]['main']} ({current['weather'][0]['description']}).\\n\\\r\n",
    "The temperature is {current['temp']}°C and it feels like {current['feels_like']}°C.\\n\\\r\n",
    "The UV index is {current['uvi']}, humidity is {current['humidity']}%.\\n\\\r\n",
    "The pressure is {current['pressure']} hPa, percentage of cloud cover is {current['clouds']}%\\n\\\r\n",
    "The wind comes from {degrees_to_cardinal(current['wind_deg'])} direction with a speed {current['wind_speed']} m/s.\")"
   ]
  },
  {
   "cell_type": "code",
   "execution_count": 8,
   "metadata": {
    "execution": {
     "iopub.execute_input": "2021-09-19T05:11:10.677845Z",
     "iopub.status.busy": "2021-09-19T05:11:10.677232Z",
     "iopub.status.idle": "2021-09-19T05:11:10.685784Z",
     "shell.execute_reply": "2021-09-19T05:11:10.686597Z"
    }
   },
   "outputs": [],
   "source": [
    "df_hourly = pd.DataFrame(data['hourly'])\r\n",
    "df_daily = pd.DataFrame(data['daily'])"
   ]
  },
  {
   "cell_type": "code",
   "execution_count": 9,
   "metadata": {
    "execution": {
     "iopub.execute_input": "2021-09-19T05:11:10.690239Z",
     "iopub.status.busy": "2021-09-19T05:11:10.689110Z",
     "iopub.status.idle": "2021-09-19T05:11:11.064791Z",
     "shell.execute_reply": "2021-09-19T05:11:11.065398Z"
    }
   },
   "outputs": [
    {
     "data": {
      "image/png": "[encoded data removed]",
      "text/plain": [
       "<Figure size 864x432 with 1 Axes>"
      ]
     },
     "metadata": {
      "needs_background": "light"
     },
     "output_type": "display_data"
    }
   ],
   "source": [
    "fig, ax = plt.subplots(figsize=(12, 6))\r\n",
    "plt.plot(df_hourly.temp, '.-', label='Temperature')\r\n",
    "plt.plot(df_hourly.feels_like, '.-', label='Feels Like')\r\n",
    "ax.set(title='Temperature in future 48 hours', xlabel='Time', ylabel='Temperature')\r\n",
    "ax.set_xticks(list(range(0, len(df_hourly), 2)))\r\n",
    "ax.set_xticklabels([ts2dt(ts, '%m-%d %H:%M')[0] for i, ts in enumerate(df_hourly.dt) if i%2==0], \r\n",
    "                   rotation=45, ha=\"right\")\r\n",
    "ax.locator_params(nbins=15, axis='y')\r\n",
    "plt.legend()\r\n",
    "plt.show()"
   ]
  },
  {
   "cell_type": "code",
   "execution_count": 10,
   "metadata": {
    "execution": {
     "iopub.execute_input": "2021-09-19T05:11:11.071134Z",
     "iopub.status.busy": "2021-09-19T05:11:11.070591Z",
     "iopub.status.idle": "2021-09-19T05:11:11.099931Z",
     "shell.execute_reply": "2021-09-19T05:11:11.097294Z"
    }
   },
   "outputs": [
    {
     "data": {
      "text/html": [
       "<div>\n",
       "<style scoped>\n",
       "    .dataframe tbody tr th:only-of-type {\n",
       "        vertical-align: middle;\n",
       "    }\n",
       "\n",
       "    .dataframe tbody tr th {\n",
       "        vertical-align: top;\n",
       "    }\n",
       "\n",
       "    .dataframe thead th {\n",
       "        text-align: right;\n",
       "    }\n",
       "</style>\n",
       "<table border=\"1\" class=\"dataframe\">\n",
       "  <thead>\n",
       "    <tr style=\"text-align: right;\">\n",
       "      <th></th>\n",
       "      <th>dt</th>\n",
       "      <th>temp</th>\n",
       "      <th>feels_like</th>\n",
       "      <th>pressure</th>\n",
       "      <th>humidity</th>\n",
       "      <th>dew_point</th>\n",
       "      <th>uvi</th>\n",
       "      <th>clouds</th>\n",
       "      <th>visibility</th>\n",
       "      <th>wind_speed</th>\n",
       "      <th>wind_deg</th>\n",
       "      <th>wind_gust</th>\n",
       "      <th>weather</th>\n",
       "      <th>pop</th>\n",
       "      <th>rain</th>\n",
       "    </tr>\n",
       "  </thead>\n",
       "  <tbody>\n",
       "    <tr>\n",
       "      <th>0</th>\n",
       "      <td>1632027600</td>\n",
       "      <td>31.70</td>\n",
       "      <td>38.70</td>\n",
       "      <td>1011</td>\n",
       "      <td>78</td>\n",
       "      <td>27.39</td>\n",
       "      <td>9.98</td>\n",
       "      <td>66</td>\n",
       "      <td>10000</td>\n",
       "      <td>5.88</td>\n",
       "      <td>96</td>\n",
       "      <td>6.60</td>\n",
       "      <td>[{'id': 500, 'main': 'Rain', 'description': 'l...</td>\n",
       "      <td>0.57</td>\n",
       "      <td>{'1h': 0.21}</td>\n",
       "    </tr>\n",
       "    <tr>\n",
       "      <th>1</th>\n",
       "      <td>1632031200</td>\n",
       "      <td>31.28</td>\n",
       "      <td>38.28</td>\n",
       "      <td>1011</td>\n",
       "      <td>77</td>\n",
       "      <td>26.76</td>\n",
       "      <td>8.18</td>\n",
       "      <td>67</td>\n",
       "      <td>10000</td>\n",
       "      <td>5.55</td>\n",
       "      <td>100</td>\n",
       "      <td>6.39</td>\n",
       "      <td>[{'id': 500, 'main': 'Rain', 'description': 'l...</td>\n",
       "      <td>0.61</td>\n",
       "      <td>{'1h': 0.15}</td>\n",
       "    </tr>\n",
       "    <tr>\n",
       "      <th>2</th>\n",
       "      <td>1632034800</td>\n",
       "      <td>30.82</td>\n",
       "      <td>37.82</td>\n",
       "      <td>1011</td>\n",
       "      <td>76</td>\n",
       "      <td>26.09</td>\n",
       "      <td>5.55</td>\n",
       "      <td>79</td>\n",
       "      <td>10000</td>\n",
       "      <td>5.02</td>\n",
       "      <td>106</td>\n",
       "      <td>5.99</td>\n",
       "      <td>[{'id': 500, 'main': 'Rain', 'description': 'l...</td>\n",
       "      <td>0.60</td>\n",
       "      <td>{'1h': 0.22}</td>\n",
       "    </tr>\n",
       "    <tr>\n",
       "      <th>3</th>\n",
       "      <td>1632038400</td>\n",
       "      <td>30.25</td>\n",
       "      <td>37.25</td>\n",
       "      <td>1010</td>\n",
       "      <td>77</td>\n",
       "      <td>25.76</td>\n",
       "      <td>2.79</td>\n",
       "      <td>85</td>\n",
       "      <td>10000</td>\n",
       "      <td>4.75</td>\n",
       "      <td>108</td>\n",
       "      <td>5.77</td>\n",
       "      <td>[{'id': 500, 'main': 'Rain', 'description': 'l...</td>\n",
       "      <td>0.60</td>\n",
       "      <td>{'1h': 0.21}</td>\n",
       "    </tr>\n",
       "    <tr>\n",
       "      <th>4</th>\n",
       "      <td>1632042000</td>\n",
       "      <td>29.57</td>\n",
       "      <td>35.87</td>\n",
       "      <td>1010</td>\n",
       "      <td>78</td>\n",
       "      <td>25.32</td>\n",
       "      <td>0.90</td>\n",
       "      <td>87</td>\n",
       "      <td>10000</td>\n",
       "      <td>4.70</td>\n",
       "      <td>108</td>\n",
       "      <td>5.74</td>\n",
       "      <td>[{'id': 804, 'main': 'Clouds', 'description': ...</td>\n",
       "      <td>0.61</td>\n",
       "      <td>NaN</td>\n",
       "    </tr>\n",
       "  </tbody>\n",
       "</table>\n",
       "</div>"
      ],
      "text/plain": [
       "           dt   temp  feels_like  pressure  humidity  dew_point   uvi  clouds  \\\n",
       "0  1632027600  31.70       38.70      1011        78      27.39  9.98      66   \n",
       "1  1632031200  31.28       38.28      1011        77      26.76  8.18      67   \n",
       "2  1632034800  30.82       37.82      1011        76      26.09  5.55      79   \n",
       "3  1632038400  30.25       37.25      1010        77      25.76  2.79      85   \n",
       "4  1632042000  29.57       35.87      1010        78      25.32  0.90      87   \n",
       "\n",
       "   visibility  wind_speed  wind_deg  wind_gust  \\\n",
       "0       10000        5.88        96       6.60   \n",
       "1       10000        5.55       100       6.39   \n",
       "2       10000        5.02       106       5.99   \n",
       "3       10000        4.75       108       5.77   \n",
       "4       10000        4.70       108       5.74   \n",
       "\n",
       "                                             weather   pop          rain  \n",
       "0  [{'id': 500, 'main': 'Rain', 'description': 'l...  0.57  {'1h': 0.21}  \n",
       "1  [{'id': 500, 'main': 'Rain', 'description': 'l...  0.61  {'1h': 0.15}  \n",
       "2  [{'id': 500, 'main': 'Rain', 'description': 'l...  0.60  {'1h': 0.22}  \n",
       "3  [{'id': 500, 'main': 'Rain', 'description': 'l...  0.60  {'1h': 0.21}  \n",
       "4  [{'id': 804, 'main': 'Clouds', 'description': ...  0.61           NaN  "
      ]
     },
     "execution_count": 10,
     "metadata": {},
     "output_type": "execute_result"
    }
   ],
   "source": [
    "df_hourly.head()"
   ]
  },
  {
   "cell_type": "code",
   "execution_count": null,
   "metadata": {},
   "outputs": [],
   "source": []
  }
 ],
 "metadata": {
  "interpreter": {
   "hash": "c1b4cfe941b6d2466ad1fb5979e97da9cda8801728c8091b097ab734208fc00c"
  },
  "kernelspec": {
   "display_name": "Python 3.8.3 64-bit ('base': conda)",
   "name": "python3"
  },
  "language_info": {
   "codemirror_mode": {
    "name": "ipython",
    "version": 3
   },
   "file_extension": ".py",
   "mimetype": "text/x-python",
   "name": "python",
   "nbconvert_exporter": "python",
   "pygments_lexer": "ipython3",
   "version": "3.8.11"
  }
 },
 "nbformat": 4,
 "nbformat_minor": 2
}
