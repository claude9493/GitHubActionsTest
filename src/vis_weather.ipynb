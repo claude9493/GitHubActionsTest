{
 "cells": [
  {
   "cell_type": "code",
   "execution_count": 1,
   "metadata": {
    "execution": {
     "iopub.execute_input": "2021-09-13T03:40:26.358406Z",
     "iopub.status.busy": "2021-09-13T03:40:26.357611Z",
     "iopub.status.idle": "2021-09-13T03:40:27.789186Z",
     "shell.execute_reply": "2021-09-13T03:40:27.789730Z"
    }
   },
   "outputs": [],
   "source": [
    "import json, yaml, requests\r\n",
    "from datetime import datetime\r\n",
    "from dateutil import tz\r\n",
    "import pandas as pd\r\n",
    "from PIL import Image\r\n",
    "from io import BytesIO\r\n",
    "import matplotlib.pyplot as plt\r\n",
    "import seaborn\r\n",
    "\r\n",
    "CONFIG_PATH = \"../config/config.yaml\""
   ]
  },
  {
   "cell_type": "code",
   "execution_count": 2,
   "metadata": {
    "execution": {
     "iopub.execute_input": "2021-09-13T03:40:27.793177Z",
     "iopub.status.busy": "2021-09-13T03:40:27.792474Z",
     "iopub.status.idle": "2021-09-13T03:40:27.801779Z",
     "shell.execute_reply": "2021-09-13T03:40:27.802224Z"
    }
   },
   "outputs": [],
   "source": [
    "with open('../newest_ts', 'r') as f:\r\n",
    "    newest_ts = f.read()\r\n",
    "\r\n",
    "data_path = f\"../data/data_{newest_ts}.json\"\r\n",
    "with open(data_path, 'r') as f:\r\n",
    "    data = json.load(f)\r\n",
    "\r\n",
    "with open(CONFIG_PATH, \"r\") as stream:\r\n",
    "    config = yaml.safe_load(stream)\r\n",
    "\r\n",
    "TIME_ZONE = config['time_zone']\r\n",
    "DATETIME_FORMAT = config['dt_format']"
   ]
  },
  {
   "cell_type": "code",
   "execution_count": 3,
   "metadata": {
    "execution": {
     "iopub.execute_input": "2021-09-13T03:40:27.807238Z",
     "iopub.status.busy": "2021-09-13T03:40:27.806689Z",
     "iopub.status.idle": "2021-09-13T03:40:27.838369Z",
     "shell.execute_reply": "2021-09-13T03:40:27.838848Z"
    }
   },
   "outputs": [
    {
     "name": "stdout",
     "output_type": "stream",
     "text": [
      "Recent query happens at 2021-09-13 11:40:23 (CST).\n"
     ]
    }
   ],
   "source": [
    "def ts2dt(ts, format=DATETIME_FORMAT):\r\n",
    "    dt = (datetime.utcfromtimestamp(int(ts))\r\n",
    "                    .replace(tzinfo=tz.tzutc())\r\n",
    "                    # .astimezone(tz.tzlocal())\r\n",
    "                    .astimezone(tz.gettz(TIME_ZONE)))\r\n",
    "    return dt.strftime(format), dt\r\n",
    "\r\n",
    "_, newest_dt = ts2dt(newest_ts)\r\n",
    "print(f\"Recent query happens at {newest_dt.strftime(DATETIME_FORMAT)} ({newest_dt.tzname()}).\")"
   ]
  },
  {
   "cell_type": "code",
   "execution_count": 4,
   "metadata": {
    "execution": {
     "iopub.execute_input": "2021-09-13T03:40:27.845192Z",
     "iopub.status.busy": "2021-09-13T03:40:27.843675Z",
     "iopub.status.idle": "2021-09-13T03:40:27.845804Z",
     "shell.execute_reply": "2021-09-13T03:40:27.846298Z"
    }
   },
   "outputs": [],
   "source": [
    "def degrees_to_cardinal(d):\r\n",
    "  dirs = ['N', 'NNE', 'NE', 'ENE', 'E', 'ESE', 'SE', 'SSE', 'S', 'SSW', 'SW', 'WSW', 'W', 'WNW', 'NW', 'NNW']\r\n",
    "  ix = int(round(d / (360. / len(dirs))))\r\n",
    "  return dirs[ix % len(dirs)]"
   ]
  },
  {
   "cell_type": "code",
   "execution_count": 5,
   "metadata": {
    "execution": {
     "iopub.execute_input": "2021-09-13T03:40:27.851312Z",
     "iopub.status.busy": "2021-09-13T03:40:27.849907Z",
     "iopub.status.idle": "2021-09-13T03:40:27.851905Z",
     "shell.execute_reply": "2021-09-13T03:40:27.852362Z"
    }
   },
   "outputs": [],
   "source": [
    "# data.keys()"
   ]
  },
  {
   "cell_type": "code",
   "execution_count": 6,
   "metadata": {
    "execution": {
     "iopub.execute_input": "2021-09-13T03:40:27.857124Z",
     "iopub.status.busy": "2021-09-13T03:40:27.855651Z",
     "iopub.status.idle": "2021-09-13T03:40:27.857799Z",
     "shell.execute_reply": "2021-09-13T03:40:27.858320Z"
    }
   },
   "outputs": [],
   "source": [
    "# data['current']"
   ]
  },
  {
   "cell_type": "code",
   "execution_count": 7,
   "metadata": {
    "execution": {
     "iopub.execute_input": "2021-09-13T03:40:27.893614Z",
     "iopub.status.busy": "2021-09-13T03:40:27.888113Z",
     "iopub.status.idle": "2021-09-13T03:40:28.350319Z",
     "shell.execute_reply": "2021-09-13T03:40:28.350952Z"
    }
   },
   "outputs": [
    {
     "data": {
      "image/png": "[encoded data removed]",
      "text/plain": [
       "<Figure size 216x216 with 1 Axes>"
      ]
     },
     "metadata": {
      "needs_background": "light"
     },
     "output_type": "display_data"
    },
    {
     "name": "stdout",
     "output_type": "stream",
     "text": [
      "Today, sun rises at 06:09 and sets at 18:29.\n",
      "Currently, the weather is Clear (clear sky).\n",
      "The temperature is 32.57°C and it feels like 39.57°C.\n",
      "The UV index is 10.97, humidity is 69%.\n",
      "The pressure is 1007 hPa, percentage of cloud cover is 4%\n",
      "The wind comes from SW direction with a speed 3.6 m/s.\n"
     ]
    }
   ],
   "source": [
    "current = data['current']\r\n",
    "\r\n",
    "fig, ax = plt.subplots(figsize=(3, 3))\r\n",
    "icon = requests.get(f\"http://openweathermap.org/img/wn/{current['weather'][0]['icon']}@2x.png\")\r\n",
    "im = Image.open(BytesIO(icon.content))\r\n",
    "plt.imshow(im)\r\n",
    "ax.set_axis_off()\r\n",
    "plt.show()\r\n",
    "\r\n",
    "print(f\"Today, sun rises at {ts2dt(current['sunrise'], '%H:%M')[0]} \\\r\n",
    "and sets at {ts2dt(current['sunset'], '%H:%M')[0]}.\\n\\\r\n",
    "Currently, the weather is {current['weather'][0]['main']} ({current['weather'][0]['description']}).\\n\\\r\n",
    "The temperature is {current['temp']}°C and it feels like {current['feels_like']}°C.\\n\\\r\n",
    "The UV index is {current['uvi']}, humidity is {current['humidity']}%.\\n\\\r\n",
    "The pressure is {current['pressure']} hPa, percentage of cloud cover is {current['clouds']}%\\n\\\r\n",
    "The wind comes from {degrees_to_cardinal(current['wind_deg'])} direction with a speed {current['wind_speed']} m/s.\")"
   ]
  },
  {
   "cell_type": "code",
   "execution_count": 8,
   "metadata": {
    "execution": {
     "iopub.execute_input": "2021-09-13T03:40:28.354009Z",
     "iopub.status.busy": "2021-09-13T03:40:28.353388Z",
     "iopub.status.idle": "2021-09-13T03:40:28.361163Z",
     "shell.execute_reply": "2021-09-13T03:40:28.361855Z"
    }
   },
   "outputs": [],
   "source": [
    "df_hourly = pd.DataFrame(data['hourly'])\r\n",
    "df_daily = pd.DataFrame(data['daily'])"
   ]
  },
  {
   "cell_type": "code",
   "execution_count": 9,
   "metadata": {
    "execution": {
     "iopub.execute_input": "2021-09-13T03:40:28.365102Z",
     "iopub.status.busy": "2021-09-13T03:40:28.364168Z",
     "iopub.status.idle": "2021-09-13T03:40:28.720746Z",
     "shell.execute_reply": "2021-09-13T03:40:28.720113Z"
    }
   },
   "outputs": [
    {
     "data": {
      "image/png": "[encoded data removed]",
      "text/plain": [
       "<Figure size 864x432 with 1 Axes>"
      ]
     },
     "metadata": {
      "needs_background": "light"
     },
     "output_type": "display_data"
    }
   ],
   "source": [
    "fig, ax = plt.subplots(figsize=(12, 6))\r\n",
    "plt.plot(df_hourly.temp, '.-', label='Temperature')\r\n",
    "plt.plot(df_hourly.feels_like, '.-', label='Feels Like')\r\n",
    "ax.set(title='Temperature in future 48 hours', xlabel='Time', ylabel='Temperature')\r\n",
    "ax.set_xticks(list(range(0, len(df_hourly), 2)))\r\n",
    "ax.set_xticklabels([ts2dt(ts, '%m-%d %H:%M')[0] for i, ts in enumerate(df_hourly.dt) if i%2==0], \r\n",
    "                   rotation=45, ha=\"right\")\r\n",
    "ax.locator_params(nbins=15, axis='y')\r\n",
    "plt.legend()\r\n",
    "plt.show()"
   ]
  },
  {
   "cell_type": "code",
   "execution_count": 10,
   "metadata": {
    "execution": {
     "iopub.execute_input": "2021-09-13T03:40:28.736481Z",
     "iopub.status.busy": "2021-09-13T03:40:28.725891Z",
     "iopub.status.idle": "2021-09-13T03:40:28.750196Z",
     "shell.execute_reply": "2021-09-13T03:40:28.749605Z"
    }
   },
   "outputs": [
    {
     "data": {
      "text/html": [
       "<div>\n",
       "<style scoped>\n",
       "    .dataframe tbody tr th:only-of-type {\n",
       "        vertical-align: middle;\n",
       "    }\n",
       "\n",
       "    .dataframe tbody tr th {\n",
       "        vertical-align: top;\n",
       "    }\n",
       "\n",
       "    .dataframe thead th {\n",
       "        text-align: right;\n",
       "    }\n",
       "</style>\n",
       "<table border=\"1\" class=\"dataframe\">\n",
       "  <thead>\n",
       "    <tr style=\"text-align: right;\">\n",
       "      <th></th>\n",
       "      <th>dt</th>\n",
       "      <th>temp</th>\n",
       "      <th>feels_like</th>\n",
       "      <th>pressure</th>\n",
       "      <th>humidity</th>\n",
       "      <th>dew_point</th>\n",
       "      <th>uvi</th>\n",
       "      <th>clouds</th>\n",
       "      <th>visibility</th>\n",
       "      <th>wind_speed</th>\n",
       "      <th>wind_deg</th>\n",
       "      <th>wind_gust</th>\n",
       "      <th>weather</th>\n",
       "      <th>pop</th>\n",
       "      <th>rain</th>\n",
       "    </tr>\n",
       "  </thead>\n",
       "  <tbody>\n",
       "    <tr>\n",
       "      <th>0</th>\n",
       "      <td>1631502000</td>\n",
       "      <td>32.23</td>\n",
       "      <td>39.23</td>\n",
       "      <td>1007</td>\n",
       "      <td>70</td>\n",
       "      <td>26.06</td>\n",
       "      <td>9.18</td>\n",
       "      <td>4</td>\n",
       "      <td>10000</td>\n",
       "      <td>3.82</td>\n",
       "      <td>226</td>\n",
       "      <td>3.72</td>\n",
       "      <td>[{'id': 500, 'main': 'Rain', 'description': 'l...</td>\n",
       "      <td>0.96</td>\n",
       "      <td>{'1h': 0.55}</td>\n",
       "    </tr>\n",
       "    <tr>\n",
       "      <th>1</th>\n",
       "      <td>1631505600</td>\n",
       "      <td>32.57</td>\n",
       "      <td>39.57</td>\n",
       "      <td>1007</td>\n",
       "      <td>69</td>\n",
       "      <td>26.14</td>\n",
       "      <td>10.97</td>\n",
       "      <td>4</td>\n",
       "      <td>10000</td>\n",
       "      <td>3.60</td>\n",
       "      <td>225</td>\n",
       "      <td>3.43</td>\n",
       "      <td>[{'id': 800, 'main': 'Clear', 'description': '...</td>\n",
       "      <td>0.76</td>\n",
       "      <td>NaN</td>\n",
       "    </tr>\n",
       "    <tr>\n",
       "      <th>2</th>\n",
       "      <td>1631509200</td>\n",
       "      <td>32.32</td>\n",
       "      <td>39.32</td>\n",
       "      <td>1007</td>\n",
       "      <td>68</td>\n",
       "      <td>25.65</td>\n",
       "      <td>10.77</td>\n",
       "      <td>5</td>\n",
       "      <td>10000</td>\n",
       "      <td>3.52</td>\n",
       "      <td>216</td>\n",
       "      <td>3.10</td>\n",
       "      <td>[{'id': 800, 'main': 'Clear', 'description': '...</td>\n",
       "      <td>0.76</td>\n",
       "      <td>NaN</td>\n",
       "    </tr>\n",
       "    <tr>\n",
       "      <th>3</th>\n",
       "      <td>1631512800</td>\n",
       "      <td>32.06</td>\n",
       "      <td>39.06</td>\n",
       "      <td>1007</td>\n",
       "      <td>68</td>\n",
       "      <td>25.41</td>\n",
       "      <td>8.87</td>\n",
       "      <td>6</td>\n",
       "      <td>10000</td>\n",
       "      <td>3.92</td>\n",
       "      <td>207</td>\n",
       "      <td>3.20</td>\n",
       "      <td>[{'id': 800, 'main': 'Clear', 'description': '...</td>\n",
       "      <td>0.76</td>\n",
       "      <td>NaN</td>\n",
       "    </tr>\n",
       "    <tr>\n",
       "      <th>4</th>\n",
       "      <td>1631516400</td>\n",
       "      <td>31.63</td>\n",
       "      <td>38.63</td>\n",
       "      <td>1006</td>\n",
       "      <td>70</td>\n",
       "      <td>25.48</td>\n",
       "      <td>5.97</td>\n",
       "      <td>17</td>\n",
       "      <td>10000</td>\n",
       "      <td>3.93</td>\n",
       "      <td>203</td>\n",
       "      <td>3.21</td>\n",
       "      <td>[{'id': 500, 'main': 'Rain', 'description': 'l...</td>\n",
       "      <td>0.36</td>\n",
       "      <td>{'1h': 0.17}</td>\n",
       "    </tr>\n",
       "  </tbody>\n",
       "</table>\n",
       "</div>"
      ],
      "text/plain": [
       "           dt   temp  feels_like  pressure  humidity  dew_point    uvi  \\\n",
       "0  1631502000  32.23       39.23      1007        70      26.06   9.18   \n",
       "1  1631505600  32.57       39.57      1007        69      26.14  10.97   \n",
       "2  1631509200  32.32       39.32      1007        68      25.65  10.77   \n",
       "3  1631512800  32.06       39.06      1007        68      25.41   8.87   \n",
       "4  1631516400  31.63       38.63      1006        70      25.48   5.97   \n",
       "\n",
       "   clouds  visibility  wind_speed  wind_deg  wind_gust  \\\n",
       "0       4       10000        3.82       226       3.72   \n",
       "1       4       10000        3.60       225       3.43   \n",
       "2       5       10000        3.52       216       3.10   \n",
       "3       6       10000        3.92       207       3.20   \n",
       "4      17       10000        3.93       203       3.21   \n",
       "\n",
       "                                             weather   pop          rain  \n",
       "0  [{'id': 500, 'main': 'Rain', 'description': 'l...  0.96  {'1h': 0.55}  \n",
       "1  [{'id': 800, 'main': 'Clear', 'description': '...  0.76           NaN  \n",
       "2  [{'id': 800, 'main': 'Clear', 'description': '...  0.76           NaN  \n",
       "3  [{'id': 800, 'main': 'Clear', 'description': '...  0.76           NaN  \n",
       "4  [{'id': 500, 'main': 'Rain', 'description': 'l...  0.36  {'1h': 0.17}  "
      ]
     },
     "execution_count": 10,
     "metadata": {},
     "output_type": "execute_result"
    }
   ],
   "source": [
    "df_hourly.head()"
   ]
  },
  {
   "cell_type": "code",
   "execution_count": null,
   "metadata": {},
   "outputs": [],
   "source": []
  }
 ],
 "metadata": {
  "interpreter": {
   "hash": "c1b4cfe941b6d2466ad1fb5979e97da9cda8801728c8091b097ab734208fc00c"
  },
  "kernelspec": {
   "display_name": "Python 3.8.3 64-bit ('base': conda)",
   "name": "python3"
  },
  "language_info": {
   "codemirror_mode": {
    "name": "ipython",
    "version": 3
   },
   "file_extension": ".py",
   "mimetype": "text/x-python",
   "name": "python",
   "nbconvert_exporter": "python",
   "pygments_lexer": "ipython3",
   "version": "3.8.11"
  }
 },
 "nbformat": 4,
 "nbformat_minor": 2
}
