{
 "cells": [
  {
   "cell_type": "code",
   "execution_count": 1,
   "metadata": {
    "execution": {
     "iopub.execute_input": "2021-09-23T04:14:56.362974Z",
     "iopub.status.busy": "2021-09-23T04:14:56.362206Z",
     "iopub.status.idle": "2021-09-23T04:14:57.606378Z",
     "shell.execute_reply": "2021-09-23T04:14:57.605523Z"
    }
   },
   "outputs": [],
   "source": [
    "import json, yaml, requests\r\n",
    "from datetime import datetime\r\n",
    "from dateutil import tz\r\n",
    "import pandas as pd\r\n",
    "from PIL import Image\r\n",
    "from io import BytesIO\r\n",
    "import matplotlib.pyplot as plt\r\n",
    "import seaborn\r\n",
    "\r\n",
    "CONFIG_PATH = \"../config/config.yaml\""
   ]
  },
  {
   "cell_type": "code",
   "execution_count": 2,
   "metadata": {
    "execution": {
     "iopub.execute_input": "2021-09-23T04:14:57.609485Z",
     "iopub.status.busy": "2021-09-23T04:14:57.608931Z",
     "iopub.status.idle": "2021-09-23T04:14:57.616964Z",
     "shell.execute_reply": "2021-09-23T04:14:57.616240Z"
    }
   },
   "outputs": [],
   "source": [
    "with open('../newest_ts', 'r') as f:\r\n",
    "    newest_ts = f.read()\r\n",
    "\r\n",
    "data_path = f\"../data/data_{newest_ts}.json\"\r\n",
    "with open(data_path, 'r') as f:\r\n",
    "    data = json.load(f)\r\n",
    "\r\n",
    "with open(CONFIG_PATH, \"r\") as stream:\r\n",
    "    config = yaml.safe_load(stream)\r\n",
    "\r\n",
    "TIME_ZONE = config['time_zone']\r\n",
    "DATETIME_FORMAT = config['dt_format']"
   ]
  },
  {
   "cell_type": "code",
   "execution_count": 3,
   "metadata": {
    "execution": {
     "iopub.execute_input": "2021-09-23T04:14:57.622339Z",
     "iopub.status.busy": "2021-09-23T04:14:57.621779Z",
     "iopub.status.idle": "2021-09-23T04:14:57.627594Z",
     "shell.execute_reply": "2021-09-23T04:14:57.626765Z"
    }
   },
   "outputs": [
    {
     "name": "stdout",
     "output_type": "stream",
     "text": [
      "Recent query happens at 2021-09-23 12:14:53 (CST).\n"
     ]
    }
   ],
   "source": [
    "def ts2dt(ts, format=DATETIME_FORMAT):\r\n",
    "    dt = (datetime.utcfromtimestamp(int(ts))\r\n",
    "                    .replace(tzinfo=tz.tzutc())\r\n",
    "                    # .astimezone(tz.tzlocal())\r\n",
    "                    .astimezone(tz.gettz(TIME_ZONE)))\r\n",
    "    return dt.strftime(format), dt\r\n",
    "\r\n",
    "_, newest_dt = ts2dt(newest_ts)\r\n",
    "print(f\"Recent query happens at {newest_dt.strftime(DATETIME_FORMAT)} ({newest_dt.tzname()}).\")"
   ]
  },
  {
   "cell_type": "code",
   "execution_count": 4,
   "metadata": {
    "execution": {
     "iopub.execute_input": "2021-09-23T04:14:57.632509Z",
     "iopub.status.busy": "2021-09-23T04:14:57.631971Z",
     "iopub.status.idle": "2021-09-23T04:14:57.634237Z",
     "shell.execute_reply": "2021-09-23T04:14:57.633782Z"
    }
   },
   "outputs": [],
   "source": [
    "def degrees_to_cardinal(d):\r\n",
    "  dirs = ['N', 'NNE', 'NE', 'ENE', 'E', 'ESE', 'SE', 'SSE', 'S', 'SSW', 'SW', 'WSW', 'W', 'WNW', 'NW', 'NNW']\r\n",
    "  ix = int(round(d / (360. / len(dirs))))\r\n",
    "  return dirs[ix % len(dirs)]"
   ]
  },
  {
   "cell_type": "code",
   "execution_count": 5,
   "metadata": {
    "execution": {
     "iopub.execute_input": "2021-09-23T04:14:57.637925Z",
     "iopub.status.busy": "2021-09-23T04:14:57.637358Z",
     "iopub.status.idle": "2021-09-23T04:14:57.639943Z",
     "shell.execute_reply": "2021-09-23T04:14:57.640375Z"
    }
   },
   "outputs": [],
   "source": [
    "# data.keys()"
   ]
  },
  {
   "cell_type": "code",
   "execution_count": 6,
   "metadata": {
    "execution": {
     "iopub.execute_input": "2021-09-23T04:14:57.645121Z",
     "iopub.status.busy": "2021-09-23T04:14:57.643870Z",
     "iopub.status.idle": "2021-09-23T04:14:57.645732Z",
     "shell.execute_reply": "2021-09-23T04:14:57.646171Z"
    }
   },
   "outputs": [],
   "source": [
    "# data['current']"
   ]
  },
  {
   "cell_type": "code",
   "execution_count": 7,
   "metadata": {
    "execution": {
     "iopub.execute_input": "2021-09-23T04:14:57.666995Z",
     "iopub.status.busy": "2021-09-23T04:14:57.666440Z",
     "iopub.status.idle": "2021-09-23T04:14:58.086748Z",
     "shell.execute_reply": "2021-09-23T04:14:58.087577Z"
    }
   },
   "outputs": [
    {
     "data": {
      "image/png": "[encoded data removed]",
      "text/plain": [
       "<Figure size 216x216 with 1 Axes>"
      ]
     },
     "metadata": {
      "needs_background": "light"
     },
     "output_type": "display_data"
    },
    {
     "name": "stdout",
     "output_type": "stream",
     "text": [
      "Today, sun rises at 06:11 and sets at 18:18.\n",
      "Currently, the weather is Rain (light rain).\n",
      "The temperature is 27.68°C and it feels like 32.75°C.\n",
      "The UV index is 9.61, humidity is 90%.\n",
      "The pressure is 1014 hPa, percentage of cloud cover is 94%\n",
      "The wind comes from E direction with a speed 6.53 m/s.\n"
     ]
    }
   ],
   "source": [
    "current = data['current']\r\n",
    "\r\n",
    "fig, ax = plt.subplots(figsize=(3, 3))\r\n",
    "icon = requests.get(f\"http://openweathermap.org/img/wn/{current['weather'][0]['icon']}@2x.png\")\r\n",
    "im = Image.open(BytesIO(icon.content))\r\n",
    "plt.imshow(im)\r\n",
    "ax.set_axis_off()\r\n",
    "plt.show()\r\n",
    "\r\n",
    "print(f\"Today, sun rises at {ts2dt(current['sunrise'], '%H:%M')[0]} \\\r\n",
    "and sets at {ts2dt(current['sunset'], '%H:%M')[0]}.\\n\\\r\n",
    "Currently, the weather is {current['weather'][0]['main']} ({current['weather'][0]['description']}).\\n\\\r\n",
    "The temperature is {current['temp']}°C and it feels like {current['feels_like']}°C.\\n\\\r\n",
    "The UV index is {current['uvi']}, humidity is {current['humidity']}%.\\n\\\r\n",
    "The pressure is {current['pressure']} hPa, percentage of cloud cover is {current['clouds']}%\\n\\\r\n",
    "The wind comes from {degrees_to_cardinal(current['wind_deg'])} direction with a speed {current['wind_speed']} m/s.\")"
   ]
  },
  {
   "cell_type": "code",
   "execution_count": 8,
   "metadata": {
    "execution": {
     "iopub.execute_input": "2021-09-23T04:14:58.091790Z",
     "iopub.status.busy": "2021-09-23T04:14:58.090621Z",
     "iopub.status.idle": "2021-09-23T04:14:58.099108Z",
     "shell.execute_reply": "2021-09-23T04:14:58.099848Z"
    }
   },
   "outputs": [],
   "source": [
    "df_hourly = pd.DataFrame(data['hourly'])\r\n",
    "df_daily = pd.DataFrame(data['daily'])"
   ]
  },
  {
   "cell_type": "code",
   "execution_count": 9,
   "metadata": {
    "execution": {
     "iopub.execute_input": "2021-09-23T04:14:58.103574Z",
     "iopub.status.busy": "2021-09-23T04:14:58.102427Z",
     "iopub.status.idle": "2021-09-23T04:14:58.450875Z",
     "shell.execute_reply": "2021-09-23T04:14:58.451775Z"
    }
   },
   "outputs": [
    {
     "data": {
      "image/png": "[encoded data removed]",
      "text/plain": [
       "<Figure size 864x432 with 1 Axes>"
      ]
     },
     "metadata": {
      "needs_background": "light"
     },
     "output_type": "display_data"
    }
   ],
   "source": [
    "fig, ax = plt.subplots(figsize=(12, 6))\r\n",
    "plt.plot(df_hourly.temp, '.-', label='Temperature')\r\n",
    "plt.plot(df_hourly.feels_like, '.-', label='Feels Like')\r\n",
    "ax.set(title='Temperature in future 48 hours', xlabel='Time', ylabel='Temperature')\r\n",
    "ax.set_xticks(list(range(0, len(df_hourly), 2)))\r\n",
    "ax.set_xticklabels([ts2dt(ts, '%m-%d %H:%M')[0] for i, ts in enumerate(df_hourly.dt) if i%2==0], \r\n",
    "                   rotation=45, ha=\"right\")\r\n",
    "ax.locator_params(nbins=15, axis='y')\r\n",
    "plt.legend()\r\n",
    "plt.show()"
   ]
  },
  {
   "cell_type": "code",
   "execution_count": 10,
   "metadata": {
    "execution": {
     "iopub.execute_input": "2021-09-23T04:14:58.474492Z",
     "iopub.status.busy": "2021-09-23T04:14:58.465654Z",
     "iopub.status.idle": "2021-09-23T04:14:58.479696Z",
     "shell.execute_reply": "2021-09-23T04:14:58.480268Z"
    }
   },
   "outputs": [
    {
     "data": {
      "text/html": [
       "<div>\n",
       "<style scoped>\n",
       "    .dataframe tbody tr th:only-of-type {\n",
       "        vertical-align: middle;\n",
       "    }\n",
       "\n",
       "    .dataframe tbody tr th {\n",
       "        vertical-align: top;\n",
       "    }\n",
       "\n",
       "    .dataframe thead th {\n",
       "        text-align: right;\n",
       "    }\n",
       "</style>\n",
       "<table border=\"1\" class=\"dataframe\">\n",
       "  <thead>\n",
       "    <tr style=\"text-align: right;\">\n",
       "      <th></th>\n",
       "      <th>dt</th>\n",
       "      <th>temp</th>\n",
       "      <th>feels_like</th>\n",
       "      <th>pressure</th>\n",
       "      <th>humidity</th>\n",
       "      <th>dew_point</th>\n",
       "      <th>uvi</th>\n",
       "      <th>clouds</th>\n",
       "      <th>visibility</th>\n",
       "      <th>wind_speed</th>\n",
       "      <th>wind_deg</th>\n",
       "      <th>wind_gust</th>\n",
       "      <th>weather</th>\n",
       "      <th>pop</th>\n",
       "      <th>rain</th>\n",
       "    </tr>\n",
       "  </thead>\n",
       "  <tbody>\n",
       "    <tr>\n",
       "      <th>0</th>\n",
       "      <td>1632369600</td>\n",
       "      <td>27.68</td>\n",
       "      <td>32.75</td>\n",
       "      <td>1014</td>\n",
       "      <td>90</td>\n",
       "      <td>25.89</td>\n",
       "      <td>9.61</td>\n",
       "      <td>94</td>\n",
       "      <td>10000</td>\n",
       "      <td>6.53</td>\n",
       "      <td>89</td>\n",
       "      <td>7.71</td>\n",
       "      <td>[{'id': 500, 'main': 'Rain', 'description': 'l...</td>\n",
       "      <td>0.85</td>\n",
       "      <td>{'1h': 0.37}</td>\n",
       "    </tr>\n",
       "    <tr>\n",
       "      <th>1</th>\n",
       "      <td>1632373200</td>\n",
       "      <td>28.11</td>\n",
       "      <td>33.38</td>\n",
       "      <td>1014</td>\n",
       "      <td>86</td>\n",
       "      <td>25.54</td>\n",
       "      <td>9.44</td>\n",
       "      <td>92</td>\n",
       "      <td>10000</td>\n",
       "      <td>6.26</td>\n",
       "      <td>88</td>\n",
       "      <td>7.62</td>\n",
       "      <td>[{'id': 500, 'main': 'Rain', 'description': 'l...</td>\n",
       "      <td>0.93</td>\n",
       "      <td>{'1h': 0.87}</td>\n",
       "    </tr>\n",
       "    <tr>\n",
       "      <th>2</th>\n",
       "      <td>1632376800</td>\n",
       "      <td>28.60</td>\n",
       "      <td>34.04</td>\n",
       "      <td>1013</td>\n",
       "      <td>82</td>\n",
       "      <td>25.22</td>\n",
       "      <td>7.72</td>\n",
       "      <td>90</td>\n",
       "      <td>10000</td>\n",
       "      <td>6.60</td>\n",
       "      <td>86</td>\n",
       "      <td>7.82</td>\n",
       "      <td>[{'id': 500, 'main': 'Rain', 'description': 'l...</td>\n",
       "      <td>0.89</td>\n",
       "      <td>{'1h': 0.65}</td>\n",
       "    </tr>\n",
       "    <tr>\n",
       "      <th>3</th>\n",
       "      <td>1632380400</td>\n",
       "      <td>29.02</td>\n",
       "      <td>34.37</td>\n",
       "      <td>1013</td>\n",
       "      <td>78</td>\n",
       "      <td>24.79</td>\n",
       "      <td>4.92</td>\n",
       "      <td>98</td>\n",
       "      <td>10000</td>\n",
       "      <td>6.79</td>\n",
       "      <td>88</td>\n",
       "      <td>7.92</td>\n",
       "      <td>[{'id': 804, 'main': 'Clouds', 'description': ...</td>\n",
       "      <td>0.57</td>\n",
       "      <td>NaN</td>\n",
       "    </tr>\n",
       "    <tr>\n",
       "      <th>4</th>\n",
       "      <td>1632384000</td>\n",
       "      <td>29.21</td>\n",
       "      <td>34.01</td>\n",
       "      <td>1012</td>\n",
       "      <td>74</td>\n",
       "      <td>24.10</td>\n",
       "      <td>2.45</td>\n",
       "      <td>99</td>\n",
       "      <td>10000</td>\n",
       "      <td>6.98</td>\n",
       "      <td>92</td>\n",
       "      <td>8.15</td>\n",
       "      <td>[{'id': 500, 'main': 'Rain', 'description': 'l...</td>\n",
       "      <td>0.61</td>\n",
       "      <td>{'1h': 0.14}</td>\n",
       "    </tr>\n",
       "  </tbody>\n",
       "</table>\n",
       "</div>"
      ],
      "text/plain": [
       "           dt   temp  feels_like  pressure  humidity  dew_point   uvi  clouds  \\\n",
       "0  1632369600  27.68       32.75      1014        90      25.89  9.61      94   \n",
       "1  1632373200  28.11       33.38      1014        86      25.54  9.44      92   \n",
       "2  1632376800  28.60       34.04      1013        82      25.22  7.72      90   \n",
       "3  1632380400  29.02       34.37      1013        78      24.79  4.92      98   \n",
       "4  1632384000  29.21       34.01      1012        74      24.10  2.45      99   \n",
       "\n",
       "   visibility  wind_speed  wind_deg  wind_gust  \\\n",
       "0       10000        6.53        89       7.71   \n",
       "1       10000        6.26        88       7.62   \n",
       "2       10000        6.60        86       7.82   \n",
       "3       10000        6.79        88       7.92   \n",
       "4       10000        6.98        92       8.15   \n",
       "\n",
       "                                             weather   pop          rain  \n",
       "0  [{'id': 500, 'main': 'Rain', 'description': 'l...  0.85  {'1h': 0.37}  \n",
       "1  [{'id': 500, 'main': 'Rain', 'description': 'l...  0.93  {'1h': 0.87}  \n",
       "2  [{'id': 500, 'main': 'Rain', 'description': 'l...  0.89  {'1h': 0.65}  \n",
       "3  [{'id': 804, 'main': 'Clouds', 'description': ...  0.57           NaN  \n",
       "4  [{'id': 500, 'main': 'Rain', 'description': 'l...  0.61  {'1h': 0.14}  "
      ]
     },
     "execution_count": 10,
     "metadata": {},
     "output_type": "execute_result"
    }
   ],
   "source": [
    "df_hourly.head()"
   ]
  },
  {
   "cell_type": "code",
   "execution_count": null,
   "metadata": {},
   "outputs": [],
   "source": []
  }
 ],
 "metadata": {
  "interpreter": {
   "hash": "c1b4cfe941b6d2466ad1fb5979e97da9cda8801728c8091b097ab734208fc00c"
  },
  "kernelspec": {
   "display_name": "Python 3.8.3 64-bit ('base': conda)",
   "name": "python3"
  },
  "language_info": {
   "codemirror_mode": {
    "name": "ipython",
    "version": 3
   },
   "file_extension": ".py",
   "mimetype": "text/x-python",
   "name": "python",
   "nbconvert_exporter": "python",
   "pygments_lexer": "ipython3",
   "version": "3.8.11"
  }
 },
 "nbformat": 4,
 "nbformat_minor": 2
}
