{
 "cells": [
  {
   "cell_type": "code",
   "execution_count": 1,
   "metadata": {
    "execution": {
     "iopub.execute_input": "2021-09-20T00:42:18.038636Z",
     "iopub.status.busy": "2021-09-20T00:42:18.038017Z",
     "iopub.status.idle": "2021-09-20T00:42:19.279704Z",
     "shell.execute_reply": "2021-09-20T00:42:19.278800Z"
    }
   },
   "outputs": [],
   "source": [
    "import json, yaml, requests\r\n",
    "from datetime import datetime\r\n",
    "from dateutil import tz\r\n",
    "import pandas as pd\r\n",
    "from PIL import Image\r\n",
    "from io import BytesIO\r\n",
    "import matplotlib.pyplot as plt\r\n",
    "import seaborn\r\n",
    "\r\n",
    "CONFIG_PATH = \"../config/config.yaml\""
   ]
  },
  {
   "cell_type": "code",
   "execution_count": 2,
   "metadata": {
    "execution": {
     "iopub.execute_input": "2021-09-20T00:42:19.284678Z",
     "iopub.status.busy": "2021-09-20T00:42:19.283898Z",
     "iopub.status.idle": "2021-09-20T00:42:19.289055Z",
     "shell.execute_reply": "2021-09-20T00:42:19.288195Z"
    }
   },
   "outputs": [],
   "source": [
    "with open('../newest_ts', 'r') as f:\r\n",
    "    newest_ts = f.read()\r\n",
    "\r\n",
    "data_path = f\"../data/data_{newest_ts}.json\"\r\n",
    "with open(data_path, 'r') as f:\r\n",
    "    data = json.load(f)\r\n",
    "\r\n",
    "with open(CONFIG_PATH, \"r\") as stream:\r\n",
    "    config = yaml.safe_load(stream)\r\n",
    "\r\n",
    "TIME_ZONE = config['time_zone']\r\n",
    "DATETIME_FORMAT = config['dt_format']"
   ]
  },
  {
   "cell_type": "code",
   "execution_count": 3,
   "metadata": {
    "execution": {
     "iopub.execute_input": "2021-09-20T00:42:19.293374Z",
     "iopub.status.busy": "2021-09-20T00:42:19.292920Z",
     "iopub.status.idle": "2021-09-20T00:42:19.304253Z",
     "shell.execute_reply": "2021-09-20T00:42:19.303856Z"
    }
   },
   "outputs": [
    {
     "name": "stdout",
     "output_type": "stream",
     "text": [
      "Recent query happens at 2021-09-20 08:42:15 (CST).\n"
     ]
    }
   ],
   "source": [
    "def ts2dt(ts, format=DATETIME_FORMAT):\r\n",
    "    dt = (datetime.utcfromtimestamp(int(ts))\r\n",
    "                    .replace(tzinfo=tz.tzutc())\r\n",
    "                    # .astimezone(tz.tzlocal())\r\n",
    "                    .astimezone(tz.gettz(TIME_ZONE)))\r\n",
    "    return dt.strftime(format), dt\r\n",
    "\r\n",
    "_, newest_dt = ts2dt(newest_ts)\r\n",
    "print(f\"Recent query happens at {newest_dt.strftime(DATETIME_FORMAT)} ({newest_dt.tzname()}).\")"
   ]
  },
  {
   "cell_type": "code",
   "execution_count": 4,
   "metadata": {
    "execution": {
     "iopub.execute_input": "2021-09-20T00:42:19.308154Z",
     "iopub.status.busy": "2021-09-20T00:42:19.307704Z",
     "iopub.status.idle": "2021-09-20T00:42:19.310625Z",
     "shell.execute_reply": "2021-09-20T00:42:19.310228Z"
    }
   },
   "outputs": [],
   "source": [
    "def degrees_to_cardinal(d):\r\n",
    "  dirs = ['N', 'NNE', 'NE', 'ENE', 'E', 'ESE', 'SE', 'SSE', 'S', 'SSW', 'SW', 'WSW', 'W', 'WNW', 'NW', 'NNW']\r\n",
    "  ix = int(round(d / (360. / len(dirs))))\r\n",
    "  return dirs[ix % len(dirs)]"
   ]
  },
  {
   "cell_type": "code",
   "execution_count": 5,
   "metadata": {
    "execution": {
     "iopub.execute_input": "2021-09-20T00:42:19.314283Z",
     "iopub.status.busy": "2021-09-20T00:42:19.313290Z",
     "iopub.status.idle": "2021-09-20T00:42:19.314794Z",
     "shell.execute_reply": "2021-09-20T00:42:19.315155Z"
    }
   },
   "outputs": [],
   "source": [
    "# data.keys()"
   ]
  },
  {
   "cell_type": "code",
   "execution_count": 6,
   "metadata": {
    "execution": {
     "iopub.execute_input": "2021-09-20T00:42:19.318654Z",
     "iopub.status.busy": "2021-09-20T00:42:19.317615Z",
     "iopub.status.idle": "2021-09-20T00:42:19.319222Z",
     "shell.execute_reply": "2021-09-20T00:42:19.319585Z"
    }
   },
   "outputs": [],
   "source": [
    "# data['current']"
   ]
  },
  {
   "cell_type": "code",
   "execution_count": 7,
   "metadata": {
    "execution": {
     "iopub.execute_input": "2021-09-20T00:42:19.336057Z",
     "iopub.status.busy": "2021-09-20T00:42:19.335596Z",
     "iopub.status.idle": "2021-09-20T00:42:19.730115Z",
     "shell.execute_reply": "2021-09-20T00:42:19.730791Z"
    }
   },
   "outputs": [
    {
     "data": {
      "image/png": "[encoded data removed]",
      "text/plain": [
       "<Figure size 216x216 with 1 Axes>"
      ]
     },
     "metadata": {
      "needs_background": "light"
     },
     "output_type": "display_data"
    },
    {
     "name": "stdout",
     "output_type": "stream",
     "text": [
      "Today, sun rises at 06:11 and sets at 18:21.\n",
      "Currently, the weather is Clear (clear sky).\n",
      "The temperature is 30.1°C and it feels like 37.1°C.\n",
      "The UV index is 3.37, humidity is 85%.\n",
      "The pressure is 1012 hPa, percentage of cloud cover is 7%\n",
      "The wind comes from E direction with a speed 2.36 m/s.\n"
     ]
    }
   ],
   "source": [
    "current = data['current']\r\n",
    "\r\n",
    "fig, ax = plt.subplots(figsize=(3, 3))\r\n",
    "icon = requests.get(f\"http://openweathermap.org/img/wn/{current['weather'][0]['icon']}@2x.png\")\r\n",
    "im = Image.open(BytesIO(icon.content))\r\n",
    "plt.imshow(im)\r\n",
    "ax.set_axis_off()\r\n",
    "plt.show()\r\n",
    "\r\n",
    "print(f\"Today, sun rises at {ts2dt(current['sunrise'], '%H:%M')[0]} \\\r\n",
    "and sets at {ts2dt(current['sunset'], '%H:%M')[0]}.\\n\\\r\n",
    "Currently, the weather is {current['weather'][0]['main']} ({current['weather'][0]['description']}).\\n\\\r\n",
    "The temperature is {current['temp']}°C and it feels like {current['feels_like']}°C.\\n\\\r\n",
    "The UV index is {current['uvi']}, humidity is {current['humidity']}%.\\n\\\r\n",
    "The pressure is {current['pressure']} hPa, percentage of cloud cover is {current['clouds']}%\\n\\\r\n",
    "The wind comes from {degrees_to_cardinal(current['wind_deg'])} direction with a speed {current['wind_speed']} m/s.\")"
   ]
  },
  {
   "cell_type": "code",
   "execution_count": 8,
   "metadata": {
    "execution": {
     "iopub.execute_input": "2021-09-20T00:42:19.733886Z",
     "iopub.status.busy": "2021-09-20T00:42:19.732979Z",
     "iopub.status.idle": "2021-09-20T00:42:19.739578Z",
     "shell.execute_reply": "2021-09-20T00:42:19.740188Z"
    }
   },
   "outputs": [],
   "source": [
    "df_hourly = pd.DataFrame(data['hourly'])\r\n",
    "df_daily = pd.DataFrame(data['daily'])"
   ]
  },
  {
   "cell_type": "code",
   "execution_count": 9,
   "metadata": {
    "execution": {
     "iopub.execute_input": "2021-09-20T00:42:19.743075Z",
     "iopub.status.busy": "2021-09-20T00:42:19.742191Z",
     "iopub.status.idle": "2021-09-20T00:42:19.980987Z",
     "shell.execute_reply": "2021-09-20T00:42:19.981375Z"
    }
   },
   "outputs": [
    {
     "data": {
      "image/png": "[encoded data removed]",
      "text/plain": [
       "<Figure size 864x432 with 1 Axes>"
      ]
     },
     "metadata": {
      "needs_background": "light"
     },
     "output_type": "display_data"
    }
   ],
   "source": [
    "fig, ax = plt.subplots(figsize=(12, 6))\r\n",
    "plt.plot(df_hourly.temp, '.-', label='Temperature')\r\n",
    "plt.plot(df_hourly.feels_like, '.-', label='Feels Like')\r\n",
    "ax.set(title='Temperature in future 48 hours', xlabel='Time', ylabel='Temperature')\r\n",
    "ax.set_xticks(list(range(0, len(df_hourly), 2)))\r\n",
    "ax.set_xticklabels([ts2dt(ts, '%m-%d %H:%M')[0] for i, ts in enumerate(df_hourly.dt) if i%2==0], \r\n",
    "                   rotation=45, ha=\"right\")\r\n",
    "ax.locator_params(nbins=15, axis='y')\r\n",
    "plt.legend()\r\n",
    "plt.show()"
   ]
  },
  {
   "cell_type": "code",
   "execution_count": 10,
   "metadata": {
    "execution": {
     "iopub.execute_input": "2021-09-20T00:42:19.993145Z",
     "iopub.status.busy": "2021-09-20T00:42:19.985384Z",
     "iopub.status.idle": "2021-09-20T00:42:20.003629Z",
     "shell.execute_reply": "2021-09-20T00:42:20.004003Z"
    }
   },
   "outputs": [
    {
     "data": {
      "text/html": [
       "<div>\n",
       "<style scoped>\n",
       "    .dataframe tbody tr th:only-of-type {\n",
       "        vertical-align: middle;\n",
       "    }\n",
       "\n",
       "    .dataframe tbody tr th {\n",
       "        vertical-align: top;\n",
       "    }\n",
       "\n",
       "    .dataframe thead th {\n",
       "        text-align: right;\n",
       "    }\n",
       "</style>\n",
       "<table border=\"1\" class=\"dataframe\">\n",
       "  <thead>\n",
       "    <tr style=\"text-align: right;\">\n",
       "      <th></th>\n",
       "      <th>dt</th>\n",
       "      <th>temp</th>\n",
       "      <th>feels_like</th>\n",
       "      <th>pressure</th>\n",
       "      <th>humidity</th>\n",
       "      <th>dew_point</th>\n",
       "      <th>uvi</th>\n",
       "      <th>clouds</th>\n",
       "      <th>visibility</th>\n",
       "      <th>wind_speed</th>\n",
       "      <th>wind_deg</th>\n",
       "      <th>wind_gust</th>\n",
       "      <th>weather</th>\n",
       "      <th>pop</th>\n",
       "      <th>rain</th>\n",
       "    </tr>\n",
       "  </thead>\n",
       "  <tbody>\n",
       "    <tr>\n",
       "      <th>0</th>\n",
       "      <td>1632096000</td>\n",
       "      <td>29.77</td>\n",
       "      <td>36.77</td>\n",
       "      <td>1012</td>\n",
       "      <td>83</td>\n",
       "      <td>26.57</td>\n",
       "      <td>1.24</td>\n",
       "      <td>10</td>\n",
       "      <td>10000</td>\n",
       "      <td>2.12</td>\n",
       "      <td>79</td>\n",
       "      <td>2.65</td>\n",
       "      <td>[{'id': 800, 'main': 'Clear', 'description': '...</td>\n",
       "      <td>0.69</td>\n",
       "      <td>NaN</td>\n",
       "    </tr>\n",
       "    <tr>\n",
       "      <th>1</th>\n",
       "      <td>1632099600</td>\n",
       "      <td>30.10</td>\n",
       "      <td>37.10</td>\n",
       "      <td>1012</td>\n",
       "      <td>85</td>\n",
       "      <td>27.30</td>\n",
       "      <td>3.37</td>\n",
       "      <td>7</td>\n",
       "      <td>10000</td>\n",
       "      <td>2.36</td>\n",
       "      <td>82</td>\n",
       "      <td>2.64</td>\n",
       "      <td>[{'id': 800, 'main': 'Clear', 'description': '...</td>\n",
       "      <td>0.03</td>\n",
       "      <td>NaN</td>\n",
       "    </tr>\n",
       "    <tr>\n",
       "      <th>2</th>\n",
       "      <td>1632103200</td>\n",
       "      <td>30.00</td>\n",
       "      <td>37.00</td>\n",
       "      <td>1012</td>\n",
       "      <td>82</td>\n",
       "      <td>26.59</td>\n",
       "      <td>6.33</td>\n",
       "      <td>8</td>\n",
       "      <td>10000</td>\n",
       "      <td>2.79</td>\n",
       "      <td>91</td>\n",
       "      <td>2.61</td>\n",
       "      <td>[{'id': 800, 'main': 'Clear', 'description': '...</td>\n",
       "      <td>0.04</td>\n",
       "      <td>NaN</td>\n",
       "    </tr>\n",
       "    <tr>\n",
       "      <th>3</th>\n",
       "      <td>1632106800</td>\n",
       "      <td>30.03</td>\n",
       "      <td>37.03</td>\n",
       "      <td>1012</td>\n",
       "      <td>80</td>\n",
       "      <td>26.20</td>\n",
       "      <td>9.12</td>\n",
       "      <td>12</td>\n",
       "      <td>10000</td>\n",
       "      <td>3.12</td>\n",
       "      <td>97</td>\n",
       "      <td>2.67</td>\n",
       "      <td>[{'id': 801, 'main': 'Clouds', 'description': ...</td>\n",
       "      <td>0.08</td>\n",
       "      <td>NaN</td>\n",
       "    </tr>\n",
       "    <tr>\n",
       "      <th>4</th>\n",
       "      <td>1632110400</td>\n",
       "      <td>29.96</td>\n",
       "      <td>36.72</td>\n",
       "      <td>1012</td>\n",
       "      <td>77</td>\n",
       "      <td>25.48</td>\n",
       "      <td>8.32</td>\n",
       "      <td>18</td>\n",
       "      <td>10000</td>\n",
       "      <td>3.23</td>\n",
       "      <td>103</td>\n",
       "      <td>2.60</td>\n",
       "      <td>[{'id': 500, 'main': 'Rain', 'description': 'l...</td>\n",
       "      <td>0.39</td>\n",
       "      <td>{'1h': 0.26}</td>\n",
       "    </tr>\n",
       "  </tbody>\n",
       "</table>\n",
       "</div>"
      ],
      "text/plain": [
       "           dt   temp  feels_like  pressure  humidity  dew_point   uvi  clouds  \\\n",
       "0  1632096000  29.77       36.77      1012        83      26.57  1.24      10   \n",
       "1  1632099600  30.10       37.10      1012        85      27.30  3.37       7   \n",
       "2  1632103200  30.00       37.00      1012        82      26.59  6.33       8   \n",
       "3  1632106800  30.03       37.03      1012        80      26.20  9.12      12   \n",
       "4  1632110400  29.96       36.72      1012        77      25.48  8.32      18   \n",
       "\n",
       "   visibility  wind_speed  wind_deg  wind_gust  \\\n",
       "0       10000        2.12        79       2.65   \n",
       "1       10000        2.36        82       2.64   \n",
       "2       10000        2.79        91       2.61   \n",
       "3       10000        3.12        97       2.67   \n",
       "4       10000        3.23       103       2.60   \n",
       "\n",
       "                                             weather   pop          rain  \n",
       "0  [{'id': 800, 'main': 'Clear', 'description': '...  0.69           NaN  \n",
       "1  [{'id': 800, 'main': 'Clear', 'description': '...  0.03           NaN  \n",
       "2  [{'id': 800, 'main': 'Clear', 'description': '...  0.04           NaN  \n",
       "3  [{'id': 801, 'main': 'Clouds', 'description': ...  0.08           NaN  \n",
       "4  [{'id': 500, 'main': 'Rain', 'description': 'l...  0.39  {'1h': 0.26}  "
      ]
     },
     "execution_count": 10,
     "metadata": {},
     "output_type": "execute_result"
    }
   ],
   "source": [
    "df_hourly.head()"
   ]
  },
  {
   "cell_type": "code",
   "execution_count": null,
   "metadata": {},
   "outputs": [],
   "source": []
  }
 ],
 "metadata": {
  "interpreter": {
   "hash": "c1b4cfe941b6d2466ad1fb5979e97da9cda8801728c8091b097ab734208fc00c"
  },
  "kernelspec": {
   "display_name": "Python 3.8.3 64-bit ('base': conda)",
   "name": "python3"
  },
  "language_info": {
   "codemirror_mode": {
    "name": "ipython",
    "version": 3
   },
   "file_extension": ".py",
   "mimetype": "text/x-python",
   "name": "python",
   "nbconvert_exporter": "python",
   "pygments_lexer": "ipython3",
   "version": "3.8.11"
  }
 },
 "nbformat": 4,
 "nbformat_minor": 2
}
