{
 "cells": [
  {
   "cell_type": "code",
   "execution_count": 1,
   "metadata": {
    "execution": {
     "iopub.execute_input": "2021-09-04T06:46:16.026309Z",
     "iopub.status.busy": "2021-09-04T06:46:16.025568Z",
     "iopub.status.idle": "2021-09-04T06:46:18.673855Z",
     "shell.execute_reply": "2021-09-04T06:46:18.674286Z"
    }
   },
   "outputs": [],
   "source": [
    "import json, yaml, requests\r\n",
    "from datetime import datetime\r\n",
    "from dateutil import tz\r\n",
    "import pandas as pd\r\n",
    "from PIL import Image\r\n",
    "from io import BytesIO\r\n",
    "import matplotlib.pyplot as plt\r\n",
    "import seaborn\r\n",
    "\r\n",
    "CONFIG_PATH = \"../config/config.yaml\""
   ]
  },
  {
   "cell_type": "code",
   "execution_count": 2,
   "metadata": {
    "execution": {
     "iopub.execute_input": "2021-09-04T06:46:18.681861Z",
     "iopub.status.busy": "2021-09-04T06:46:18.678765Z",
     "iopub.status.idle": "2021-09-04T06:46:18.684348Z",
     "shell.execute_reply": "2021-09-04T06:46:18.684918Z"
    }
   },
   "outputs": [],
   "source": [
    "with open('../newest_ts', 'r') as f:\r\n",
    "    newest_ts = f.read()\r\n",
    "\r\n",
    "data_path = f\"../data/data_{newest_ts}.json\"\r\n",
    "with open(data_path, 'r') as f:\r\n",
    "    data = json.load(f)\r\n",
    "\r\n",
    "with open(CONFIG_PATH, \"r\") as stream:\r\n",
    "    config = yaml.safe_load(stream)\r\n",
    "\r\n",
    "TIME_ZONE = config['time_zone']\r\n",
    "DATETIME_FORMAT = config['dt_format']"
   ]
  },
  {
   "cell_type": "code",
   "execution_count": 3,
   "metadata": {
    "execution": {
     "iopub.execute_input": "2021-09-04T06:46:18.690000Z",
     "iopub.status.busy": "2021-09-04T06:46:18.689142Z",
     "iopub.status.idle": "2021-09-04T06:46:18.700447Z",
     "shell.execute_reply": "2021-09-04T06:46:18.701047Z"
    }
   },
   "outputs": [
    {
     "name": "stdout",
     "output_type": "stream",
     "text": [
      "Recent query happens at 2021-09-04 14:46:13 (CST).\n"
     ]
    }
   ],
   "source": [
    "def ts2dt(ts, format=DATETIME_FORMAT):\r\n",
    "    dt = (datetime.utcfromtimestamp(int(ts))\r\n",
    "                    .replace(tzinfo=tz.tzutc())\r\n",
    "                    # .astimezone(tz.tzlocal())\r\n",
    "                    .astimezone(tz.gettz(TIME_ZONE)))\r\n",
    "    return dt.strftime(format), dt\r\n",
    "\r\n",
    "_, newest_dt = ts2dt(newest_ts)\r\n",
    "print(f\"Recent query happens at {newest_dt.strftime(DATETIME_FORMAT)} ({newest_dt.tzname()}).\")"
   ]
  },
  {
   "cell_type": "code",
   "execution_count": 4,
   "metadata": {
    "execution": {
     "iopub.execute_input": "2021-09-04T06:46:18.705629Z",
     "iopub.status.busy": "2021-09-04T06:46:18.705107Z",
     "iopub.status.idle": "2021-09-04T06:46:18.708876Z",
     "shell.execute_reply": "2021-09-04T06:46:18.708366Z"
    }
   },
   "outputs": [],
   "source": [
    "def degrees_to_cardinal(d):\r\n",
    "  dirs = ['N', 'NNE', 'NE', 'ENE', 'E', 'ESE', 'SE', 'SSE', 'S', 'SSW', 'SW', 'WSW', 'W', 'WNW', 'NW', 'NNW']\r\n",
    "  ix = int(round(d / (360. / len(dirs))))\r\n",
    "  return dirs[ix % len(dirs)]"
   ]
  },
  {
   "cell_type": "code",
   "execution_count": 5,
   "metadata": {
    "execution": {
     "iopub.execute_input": "2021-09-04T06:46:18.712633Z",
     "iopub.status.busy": "2021-09-04T06:46:18.712085Z",
     "iopub.status.idle": "2021-09-04T06:46:18.715265Z",
     "shell.execute_reply": "2021-09-04T06:46:18.715716Z"
    }
   },
   "outputs": [],
   "source": [
    "# data.keys()"
   ]
  },
  {
   "cell_type": "code",
   "execution_count": 6,
   "metadata": {
    "execution": {
     "iopub.execute_input": "2021-09-04T06:46:18.719202Z",
     "iopub.status.busy": "2021-09-04T06:46:18.718705Z",
     "iopub.status.idle": "2021-09-04T06:46:18.721010Z",
     "shell.execute_reply": "2021-09-04T06:46:18.720552Z"
    }
   },
   "outputs": [],
   "source": [
    "# data['current']"
   ]
  },
  {
   "cell_type": "code",
   "execution_count": 7,
   "metadata": {
    "execution": {
     "iopub.execute_input": "2021-09-04T06:46:18.761437Z",
     "iopub.status.busy": "2021-09-04T06:46:18.757549Z",
     "iopub.status.idle": "2021-09-04T06:46:19.227569Z",
     "shell.execute_reply": "2021-09-04T06:46:19.228228Z"
    }
   },
   "outputs": [
    {
     "data": {
      "image/png": "[encoded data removed]",
      "text/plain": [
       "<Figure size 216x216 with 1 Axes>"
      ]
     },
     "metadata": {
      "needs_background": "light"
     },
     "output_type": "display_data"
    },
    {
     "name": "stdout",
     "output_type": "stream",
     "text": [
      "Today, sun rises at 06:06 and sets at 18:37.\n",
      "Currently, the weather is Clear (clear sky).\n",
      "The temperature is 31.75°C and it feels like 38.34°C.\n",
      "The UV index is 6.42, humidity is 66%.\n",
      "The pressure is 1007 hPa, percentage of cloud cover is 6%\n",
      "The wind comes from ESE direction with a speed 3.81 m/s.\n"
     ]
    }
   ],
   "source": [
    "current = data['current']\r\n",
    "\r\n",
    "fig, ax = plt.subplots(figsize=(3, 3))\r\n",
    "icon = requests.get(f\"http://openweathermap.org/img/wn/{current['weather'][0]['icon']}@2x.png\")\r\n",
    "im = Image.open(BytesIO(icon.content))\r\n",
    "plt.imshow(im)\r\n",
    "ax.set_axis_off()\r\n",
    "plt.show()\r\n",
    "\r\n",
    "print(f\"Today, sun rises at {ts2dt(current['sunrise'], '%H:%M')[0]} \\\r\n",
    "and sets at {ts2dt(current['sunset'], '%H:%M')[0]}.\\n\\\r\n",
    "Currently, the weather is {current['weather'][0]['main']} ({current['weather'][0]['description']}).\\n\\\r\n",
    "The temperature is {current['temp']}°C and it feels like {current['feels_like']}°C.\\n\\\r\n",
    "The UV index is {current['uvi']}, humidity is {current['humidity']}%.\\n\\\r\n",
    "The pressure is {current['pressure']} hPa, percentage of cloud cover is {current['clouds']}%\\n\\\r\n",
    "The wind comes from {degrees_to_cardinal(current['wind_deg'])} direction with a speed {current['wind_speed']} m/s.\")"
   ]
  },
  {
   "cell_type": "code",
   "execution_count": 8,
   "metadata": {
    "execution": {
     "iopub.execute_input": "2021-09-04T06:46:19.237515Z",
     "iopub.status.busy": "2021-09-04T06:46:19.236742Z",
     "iopub.status.idle": "2021-09-04T06:46:19.240003Z",
     "shell.execute_reply": "2021-09-04T06:46:19.240772Z"
    }
   },
   "outputs": [],
   "source": [
    "df_hourly = pd.DataFrame(data['hourly'])\r\n",
    "df_daily = pd.DataFrame(data['daily'])"
   ]
  },
  {
   "cell_type": "code",
   "execution_count": 9,
   "metadata": {
    "execution": {
     "iopub.execute_input": "2021-09-04T06:46:19.265097Z",
     "iopub.status.busy": "2021-09-04T06:46:19.261367Z",
     "iopub.status.idle": "2021-09-04T06:46:19.571246Z",
     "shell.execute_reply": "2021-09-04T06:46:19.570750Z"
    }
   },
   "outputs": [
    {
     "data": {
      "image/png": "[encoded data removed]",
      "text/plain": [
       "<Figure size 864x432 with 1 Axes>"
      ]
     },
     "metadata": {
      "needs_background": "light"
     },
     "output_type": "display_data"
    }
   ],
   "source": [
    "fig, ax = plt.subplots(figsize=(12, 6))\r\n",
    "plt.plot(df_hourly.temp, '.-', label='Temperature')\r\n",
    "plt.plot(df_hourly.feels_like, '.-', label='Feels Like')\r\n",
    "ax.set(title='Temperature in future 48 hours', xlabel='Time', ylabel='Temperature')\r\n",
    "ax.set_xticks(list(range(0, len(df_hourly), 2)))\r\n",
    "ax.set_xticklabels([ts2dt(ts, '%m-%d %H:%M')[0] for i, ts in enumerate(df_hourly.dt) if i%2==0], \r\n",
    "                   rotation=45, ha=\"right\")\r\n",
    "ax.locator_params(nbins=15, axis='y')\r\n",
    "plt.legend()\r\n",
    "plt.show()"
   ]
  },
  {
   "cell_type": "code",
   "execution_count": 10,
   "metadata": {
    "execution": {
     "iopub.execute_input": "2021-09-04T06:46:19.576074Z",
     "iopub.status.busy": "2021-09-04T06:46:19.573893Z",
     "iopub.status.idle": "2021-09-04T06:46:19.594875Z",
     "shell.execute_reply": "2021-09-04T06:46:19.595541Z"
    }
   },
   "outputs": [
    {
     "data": {
      "text/html": [
       "<div>\n",
       "<style scoped>\n",
       "    .dataframe tbody tr th:only-of-type {\n",
       "        vertical-align: middle;\n",
       "    }\n",
       "\n",
       "    .dataframe tbody tr th {\n",
       "        vertical-align: top;\n",
       "    }\n",
       "\n",
       "    .dataframe thead th {\n",
       "        text-align: right;\n",
       "    }\n",
       "</style>\n",
       "<table border=\"1\" class=\"dataframe\">\n",
       "  <thead>\n",
       "    <tr style=\"text-align: right;\">\n",
       "      <th></th>\n",
       "      <th>dt</th>\n",
       "      <th>temp</th>\n",
       "      <th>feels_like</th>\n",
       "      <th>pressure</th>\n",
       "      <th>humidity</th>\n",
       "      <th>dew_point</th>\n",
       "      <th>uvi</th>\n",
       "      <th>clouds</th>\n",
       "      <th>visibility</th>\n",
       "      <th>wind_speed</th>\n",
       "      <th>wind_deg</th>\n",
       "      <th>wind_gust</th>\n",
       "      <th>weather</th>\n",
       "      <th>pop</th>\n",
       "      <th>rain</th>\n",
       "    </tr>\n",
       "  </thead>\n",
       "  <tbody>\n",
       "    <tr>\n",
       "      <th>0</th>\n",
       "      <td>1630735200</td>\n",
       "      <td>31.45</td>\n",
       "      <td>37.26</td>\n",
       "      <td>1007</td>\n",
       "      <td>65</td>\n",
       "      <td>24.07</td>\n",
       "      <td>9.32</td>\n",
       "      <td>8</td>\n",
       "      <td>10000</td>\n",
       "      <td>3.58</td>\n",
       "      <td>110</td>\n",
       "      <td>2.94</td>\n",
       "      <td>[{'id': 800, 'main': 'Clear', 'description': '...</td>\n",
       "      <td>0.73</td>\n",
       "      <td>NaN</td>\n",
       "    </tr>\n",
       "    <tr>\n",
       "      <th>1</th>\n",
       "      <td>1630738800</td>\n",
       "      <td>31.75</td>\n",
       "      <td>38.34</td>\n",
       "      <td>1007</td>\n",
       "      <td>66</td>\n",
       "      <td>24.61</td>\n",
       "      <td>6.42</td>\n",
       "      <td>6</td>\n",
       "      <td>10000</td>\n",
       "      <td>3.81</td>\n",
       "      <td>113</td>\n",
       "      <td>3.29</td>\n",
       "      <td>[{'id': 800, 'main': 'Clear', 'description': '...</td>\n",
       "      <td>0.01</td>\n",
       "      <td>NaN</td>\n",
       "    </tr>\n",
       "    <tr>\n",
       "      <th>2</th>\n",
       "      <td>1630742400</td>\n",
       "      <td>31.39</td>\n",
       "      <td>37.71</td>\n",
       "      <td>1007</td>\n",
       "      <td>67</td>\n",
       "      <td>24.52</td>\n",
       "      <td>3.33</td>\n",
       "      <td>6</td>\n",
       "      <td>10000</td>\n",
       "      <td>3.97</td>\n",
       "      <td>111</td>\n",
       "      <td>3.84</td>\n",
       "      <td>[{'id': 800, 'main': 'Clear', 'description': '...</td>\n",
       "      <td>0.00</td>\n",
       "      <td>NaN</td>\n",
       "    </tr>\n",
       "    <tr>\n",
       "      <th>3</th>\n",
       "      <td>1630746000</td>\n",
       "      <td>30.88</td>\n",
       "      <td>36.70</td>\n",
       "      <td>1007</td>\n",
       "      <td>68</td>\n",
       "      <td>24.28</td>\n",
       "      <td>1.18</td>\n",
       "      <td>5</td>\n",
       "      <td>10000</td>\n",
       "      <td>3.64</td>\n",
       "      <td>109</td>\n",
       "      <td>4.02</td>\n",
       "      <td>[{'id': 800, 'main': 'Clear', 'description': '...</td>\n",
       "      <td>0.00</td>\n",
       "      <td>NaN</td>\n",
       "    </tr>\n",
       "    <tr>\n",
       "      <th>4</th>\n",
       "      <td>1630749600</td>\n",
       "      <td>30.07</td>\n",
       "      <td>35.46</td>\n",
       "      <td>1007</td>\n",
       "      <td>71</td>\n",
       "      <td>24.23</td>\n",
       "      <td>0.20</td>\n",
       "      <td>4</td>\n",
       "      <td>10000</td>\n",
       "      <td>3.59</td>\n",
       "      <td>112</td>\n",
       "      <td>4.45</td>\n",
       "      <td>[{'id': 800, 'main': 'Clear', 'description': '...</td>\n",
       "      <td>0.00</td>\n",
       "      <td>NaN</td>\n",
       "    </tr>\n",
       "  </tbody>\n",
       "</table>\n",
       "</div>"
      ],
      "text/plain": [
       "           dt   temp  feels_like  pressure  humidity  dew_point   uvi  clouds  \\\n",
       "0  1630735200  31.45       37.26      1007        65      24.07  9.32       8   \n",
       "1  1630738800  31.75       38.34      1007        66      24.61  6.42       6   \n",
       "2  1630742400  31.39       37.71      1007        67      24.52  3.33       6   \n",
       "3  1630746000  30.88       36.70      1007        68      24.28  1.18       5   \n",
       "4  1630749600  30.07       35.46      1007        71      24.23  0.20       4   \n",
       "\n",
       "   visibility  wind_speed  wind_deg  wind_gust  \\\n",
       "0       10000        3.58       110       2.94   \n",
       "1       10000        3.81       113       3.29   \n",
       "2       10000        3.97       111       3.84   \n",
       "3       10000        3.64       109       4.02   \n",
       "4       10000        3.59       112       4.45   \n",
       "\n",
       "                                             weather   pop rain  \n",
       "0  [{'id': 800, 'main': 'Clear', 'description': '...  0.73  NaN  \n",
       "1  [{'id': 800, 'main': 'Clear', 'description': '...  0.01  NaN  \n",
       "2  [{'id': 800, 'main': 'Clear', 'description': '...  0.00  NaN  \n",
       "3  [{'id': 800, 'main': 'Clear', 'description': '...  0.00  NaN  \n",
       "4  [{'id': 800, 'main': 'Clear', 'description': '...  0.00  NaN  "
      ]
     },
     "execution_count": 10,
     "metadata": {},
     "output_type": "execute_result"
    }
   ],
   "source": [
    "df_hourly.head()"
   ]
  },
  {
   "cell_type": "code",
   "execution_count": null,
   "metadata": {},
   "outputs": [],
   "source": []
  }
 ],
 "metadata": {
  "interpreter": {
   "hash": "c1b4cfe941b6d2466ad1fb5979e97da9cda8801728c8091b097ab734208fc00c"
  },
  "kernelspec": {
   "display_name": "Python 3.8.3 64-bit ('base': conda)",
   "name": "python3"
  },
  "language_info": {
   "codemirror_mode": {
    "name": "ipython",
    "version": 3
   },
   "file_extension": ".py",
   "mimetype": "text/x-python",
   "name": "python",
   "nbconvert_exporter": "python",
   "pygments_lexer": "ipython3",
   "version": "3.8.11"
  }
 },
 "nbformat": 4,
 "nbformat_minor": 2
}
