{
 "cells": [
  {
   "cell_type": "code",
   "execution_count": 1,
   "metadata": {
    "execution": {
     "iopub.execute_input": "2021-10-18T20:12:43.363585Z",
     "iopub.status.busy": "2021-10-18T20:12:43.362878Z",
     "iopub.status.idle": "2021-10-18T20:12:48.462274Z",
     "shell.execute_reply": "2021-10-18T20:12:48.462755Z"
    }
   },
   "outputs": [],
   "source": [
    "import json, yaml, requests\r\n",
    "from datetime import datetime\r\n",
    "from dateutil import tz\r\n",
    "import pandas as pd\r\n",
    "from PIL import Image\r\n",
    "from io import BytesIO\r\n",
    "import matplotlib.pyplot as plt\r\n",
    "import seaborn\r\n",
    "\r\n",
    "CONFIG_PATH = \"../config/config.yaml\""
   ]
  },
  {
   "cell_type": "code",
   "execution_count": 2,
   "metadata": {
    "execution": {
     "iopub.execute_input": "2021-10-18T20:12:48.473480Z",
     "iopub.status.busy": "2021-10-18T20:12:48.469799Z",
     "iopub.status.idle": "2021-10-18T20:12:48.476398Z",
     "shell.execute_reply": "2021-10-18T20:12:48.476869Z"
    }
   },
   "outputs": [],
   "source": [
    "with open('../newest_ts', 'r') as f:\r\n",
    "    newest_ts = f.read()\r\n",
    "\r\n",
    "data_path = f\"../data/data_{newest_ts}.json\"\r\n",
    "with open(data_path, 'r') as f:\r\n",
    "    data = json.load(f)\r\n",
    "\r\n",
    "with open(CONFIG_PATH, \"r\") as stream:\r\n",
    "    config = yaml.safe_load(stream)\r\n",
    "\r\n",
    "TIME_ZONE = config['time_zone']\r\n",
    "DATETIME_FORMAT = config['dt_format']"
   ]
  },
  {
   "cell_type": "code",
   "execution_count": 3,
   "metadata": {
    "execution": {
     "iopub.execute_input": "2021-10-18T20:12:48.482986Z",
     "iopub.status.busy": "2021-10-18T20:12:48.482313Z",
     "iopub.status.idle": "2021-10-18T20:12:48.491334Z",
     "shell.execute_reply": "2021-10-18T20:12:48.490412Z"
    }
   },
   "outputs": [
    {
     "name": "stdout",
     "output_type": "stream",
     "text": [
      "Recent query happens at 2021-10-19 04:12:39 (CST).\n"
     ]
    }
   ],
   "source": [
    "def ts2dt(ts, format=DATETIME_FORMAT):\r\n",
    "    dt = (datetime.utcfromtimestamp(int(ts))\r\n",
    "                    .replace(tzinfo=tz.tzutc())\r\n",
    "                    # .astimezone(tz.tzlocal())\r\n",
    "                    .astimezone(tz.gettz(TIME_ZONE)))\r\n",
    "    return dt.strftime(format), dt\r\n",
    "\r\n",
    "_, newest_dt = ts2dt(newest_ts)\r\n",
    "print(f\"Recent query happens at {newest_dt.strftime(DATETIME_FORMAT)} ({newest_dt.tzname()}).\")"
   ]
  },
  {
   "cell_type": "code",
   "execution_count": 4,
   "metadata": {
    "execution": {
     "iopub.execute_input": "2021-10-18T20:12:48.498807Z",
     "iopub.status.busy": "2021-10-18T20:12:48.497364Z",
     "iopub.status.idle": "2021-10-18T20:12:48.499561Z",
     "shell.execute_reply": "2021-10-18T20:12:48.500068Z"
    }
   },
   "outputs": [],
   "source": [
    "def degrees_to_cardinal(d):\r\n",
    "  dirs = ['N', 'NNE', 'NE', 'ENE', 'E', 'ESE', 'SE', 'SSE', 'S', 'SSW', 'SW', 'WSW', 'W', 'WNW', 'NW', 'NNW']\r\n",
    "  ix = int(round(d / (360. / len(dirs))))\r\n",
    "  return dirs[ix % len(dirs)]"
   ]
  },
  {
   "cell_type": "code",
   "execution_count": 5,
   "metadata": {
    "execution": {
     "iopub.execute_input": "2021-10-18T20:12:48.503784Z",
     "iopub.status.busy": "2021-10-18T20:12:48.502580Z",
     "iopub.status.idle": "2021-10-18T20:12:48.507352Z",
     "shell.execute_reply": "2021-10-18T20:12:48.506725Z"
    }
   },
   "outputs": [],
   "source": [
    "# data.keys()"
   ]
  },
  {
   "cell_type": "code",
   "execution_count": 6,
   "metadata": {
    "execution": {
     "iopub.execute_input": "2021-10-18T20:12:48.512657Z",
     "iopub.status.busy": "2021-10-18T20:12:48.511106Z",
     "iopub.status.idle": "2021-10-18T20:12:48.513319Z",
     "shell.execute_reply": "2021-10-18T20:12:48.513808Z"
    }
   },
   "outputs": [],
   "source": [
    "# data['current']"
   ]
  },
  {
   "cell_type": "code",
   "execution_count": 7,
   "metadata": {
    "execution": {
     "iopub.execute_input": "2021-10-18T20:12:48.536338Z",
     "iopub.status.busy": "2021-10-18T20:12:48.535699Z",
     "iopub.status.idle": "2021-10-18T20:12:48.957744Z",
     "shell.execute_reply": "2021-10-18T20:12:48.958207Z"
    }
   },
   "outputs": [
    {
     "data": {
      "image/png": "[encoded data removed]",
      "text/plain": [
       "<Figure size 216x216 with 1 Axes>"
      ]
     },
     "metadata": {
      "needs_background": "light"
     },
     "output_type": "display_data"
    },
    {
     "name": "stdout",
     "output_type": "stream",
     "text": [
      "Today, sun rises at 06:20 and sets at 17:54.\n",
      "Currently, the weather is Rain (light rain).\n",
      "The temperature is 23.29°C and it feels like 23.82°C.\n",
      "The UV index is 0, humidity is 82%.\n",
      "The pressure is 1016 hPa, percentage of cloud cover is 100%\n",
      "The wind comes from E direction with a speed 1.79 m/s.\n"
     ]
    }
   ],
   "source": [
    "current = data['current']\r\n",
    "\r\n",
    "fig, ax = plt.subplots(figsize=(3, 3))\r\n",
    "icon = requests.get(f\"http://openweathermap.org/img/wn/{current['weather'][0]['icon']}@2x.png\")\r\n",
    "im = Image.open(BytesIO(icon.content))\r\n",
    "plt.imshow(im)\r\n",
    "ax.set_axis_off()\r\n",
    "plt.show()\r\n",
    "\r\n",
    "print(f\"Today, sun rises at {ts2dt(current['sunrise'], '%H:%M')[0]} \\\r\n",
    "and sets at {ts2dt(current['sunset'], '%H:%M')[0]}.\\n\\\r\n",
    "Currently, the weather is {current['weather'][0]['main']} ({current['weather'][0]['description']}).\\n\\\r\n",
    "The temperature is {current['temp']}°C and it feels like {current['feels_like']}°C.\\n\\\r\n",
    "The UV index is {current['uvi']}, humidity is {current['humidity']}%.\\n\\\r\n",
    "The pressure is {current['pressure']} hPa, percentage of cloud cover is {current['clouds']}%\\n\\\r\n",
    "The wind comes from {degrees_to_cardinal(current['wind_deg'])} direction with a speed {current['wind_speed']} m/s.\")"
   ]
  },
  {
   "cell_type": "code",
   "execution_count": 8,
   "metadata": {
    "execution": {
     "iopub.execute_input": "2021-10-18T20:12:48.964608Z",
     "iopub.status.busy": "2021-10-18T20:12:48.964033Z",
     "iopub.status.idle": "2021-10-18T20:12:48.968701Z",
     "shell.execute_reply": "2021-10-18T20:12:48.968169Z"
    }
   },
   "outputs": [],
   "source": [
    "df_hourly = pd.DataFrame(data['hourly'])\r\n",
    "df_daily = pd.DataFrame(data['daily'])"
   ]
  },
  {
   "cell_type": "code",
   "execution_count": 9,
   "metadata": {
    "execution": {
     "iopub.execute_input": "2021-10-18T20:12:48.978785Z",
     "iopub.status.busy": "2021-10-18T20:12:48.976773Z",
     "iopub.status.idle": "2021-10-18T20:12:49.347071Z",
     "shell.execute_reply": "2021-10-18T20:12:49.347643Z"
    }
   },
   "outputs": [
    {
     "data": {
      "image/png": "[encoded data removed]",
      "text/plain": [
       "<Figure size 864x432 with 1 Axes>"
      ]
     },
     "metadata": {
      "needs_background": "light"
     },
     "output_type": "display_data"
    }
   ],
   "source": [
    "fig, ax = plt.subplots(figsize=(12, 6))\r\n",
    "plt.plot(df_hourly.temp, '.-', label='Temperature')\r\n",
    "plt.plot(df_hourly.feels_like, '.-', label='Feels Like')\r\n",
    "ax.set(title='Temperature in future 48 hours', xlabel='Time', ylabel='Temperature')\r\n",
    "ax.set_xticks(list(range(0, len(df_hourly), 2)))\r\n",
    "ax.set_xticklabels([ts2dt(ts, '%m-%d %H:%M')[0] for i, ts in enumerate(df_hourly.dt) if i%2==0], \r\n",
    "                   rotation=45, ha=\"right\")\r\n",
    "ax.locator_params(nbins=15, axis='y')\r\n",
    "plt.legend()\r\n",
    "plt.show()"
   ]
  },
  {
   "cell_type": "code",
   "execution_count": 10,
   "metadata": {
    "execution": {
     "iopub.execute_input": "2021-10-18T20:12:49.369817Z",
     "iopub.status.busy": "2021-10-18T20:12:49.361034Z",
     "iopub.status.idle": "2021-10-18T20:12:49.376654Z",
     "shell.execute_reply": "2021-10-18T20:12:49.376012Z"
    }
   },
   "outputs": [
    {
     "data": {
      "text/html": [
       "<div>\n",
       "<style scoped>\n",
       "    .dataframe tbody tr th:only-of-type {\n",
       "        vertical-align: middle;\n",
       "    }\n",
       "\n",
       "    .dataframe tbody tr th {\n",
       "        vertical-align: top;\n",
       "    }\n",
       "\n",
       "    .dataframe thead th {\n",
       "        text-align: right;\n",
       "    }\n",
       "</style>\n",
       "<table border=\"1\" class=\"dataframe\">\n",
       "  <thead>\n",
       "    <tr style=\"text-align: right;\">\n",
       "      <th></th>\n",
       "      <th>dt</th>\n",
       "      <th>temp</th>\n",
       "      <th>feels_like</th>\n",
       "      <th>pressure</th>\n",
       "      <th>humidity</th>\n",
       "      <th>dew_point</th>\n",
       "      <th>uvi</th>\n",
       "      <th>clouds</th>\n",
       "      <th>visibility</th>\n",
       "      <th>wind_speed</th>\n",
       "      <th>wind_deg</th>\n",
       "      <th>wind_gust</th>\n",
       "      <th>weather</th>\n",
       "      <th>pop</th>\n",
       "      <th>rain</th>\n",
       "    </tr>\n",
       "  </thead>\n",
       "  <tbody>\n",
       "    <tr>\n",
       "      <th>0</th>\n",
       "      <td>1634587200</td>\n",
       "      <td>23.29</td>\n",
       "      <td>23.82</td>\n",
       "      <td>1016</td>\n",
       "      <td>82</td>\n",
       "      <td>20.04</td>\n",
       "      <td>0</td>\n",
       "      <td>100</td>\n",
       "      <td>10000</td>\n",
       "      <td>3.74</td>\n",
       "      <td>59</td>\n",
       "      <td>4.18</td>\n",
       "      <td>[{'id': 804, 'main': 'Clouds', 'description': ...</td>\n",
       "      <td>0.0</td>\n",
       "      <td>NaN</td>\n",
       "    </tr>\n",
       "    <tr>\n",
       "      <th>1</th>\n",
       "      <td>1634590800</td>\n",
       "      <td>23.34</td>\n",
       "      <td>23.84</td>\n",
       "      <td>1016</td>\n",
       "      <td>81</td>\n",
       "      <td>19.90</td>\n",
       "      <td>0</td>\n",
       "      <td>100</td>\n",
       "      <td>10000</td>\n",
       "      <td>3.72</td>\n",
       "      <td>65</td>\n",
       "      <td>4.10</td>\n",
       "      <td>[{'id': 804, 'main': 'Clouds', 'description': ...</td>\n",
       "      <td>0.0</td>\n",
       "      <td>NaN</td>\n",
       "    </tr>\n",
       "    <tr>\n",
       "      <th>2</th>\n",
       "      <td>1634594400</td>\n",
       "      <td>23.35</td>\n",
       "      <td>23.86</td>\n",
       "      <td>1016</td>\n",
       "      <td>81</td>\n",
       "      <td>19.91</td>\n",
       "      <td>0</td>\n",
       "      <td>98</td>\n",
       "      <td>10000</td>\n",
       "      <td>3.90</td>\n",
       "      <td>63</td>\n",
       "      <td>4.30</td>\n",
       "      <td>[{'id': 804, 'main': 'Clouds', 'description': ...</td>\n",
       "      <td>0.0</td>\n",
       "      <td>NaN</td>\n",
       "    </tr>\n",
       "    <tr>\n",
       "      <th>3</th>\n",
       "      <td>1634598000</td>\n",
       "      <td>23.46</td>\n",
       "      <td>23.95</td>\n",
       "      <td>1017</td>\n",
       "      <td>80</td>\n",
       "      <td>19.81</td>\n",
       "      <td>0</td>\n",
       "      <td>92</td>\n",
       "      <td>10000</td>\n",
       "      <td>3.89</td>\n",
       "      <td>64</td>\n",
       "      <td>4.40</td>\n",
       "      <td>[{'id': 804, 'main': 'Clouds', 'description': ...</td>\n",
       "      <td>0.0</td>\n",
       "      <td>NaN</td>\n",
       "    </tr>\n",
       "    <tr>\n",
       "      <th>4</th>\n",
       "      <td>1634601600</td>\n",
       "      <td>24.01</td>\n",
       "      <td>24.50</td>\n",
       "      <td>1018</td>\n",
       "      <td>78</td>\n",
       "      <td>19.94</td>\n",
       "      <td>0</td>\n",
       "      <td>86</td>\n",
       "      <td>10000</td>\n",
       "      <td>4.06</td>\n",
       "      <td>72</td>\n",
       "      <td>4.15</td>\n",
       "      <td>[{'id': 804, 'main': 'Clouds', 'description': ...</td>\n",
       "      <td>0.0</td>\n",
       "      <td>NaN</td>\n",
       "    </tr>\n",
       "  </tbody>\n",
       "</table>\n",
       "</div>"
      ],
      "text/plain": [
       "           dt   temp  feels_like  pressure  humidity  dew_point  uvi  clouds  \\\n",
       "0  1634587200  23.29       23.82      1016        82      20.04    0     100   \n",
       "1  1634590800  23.34       23.84      1016        81      19.90    0     100   \n",
       "2  1634594400  23.35       23.86      1016        81      19.91    0      98   \n",
       "3  1634598000  23.46       23.95      1017        80      19.81    0      92   \n",
       "4  1634601600  24.01       24.50      1018        78      19.94    0      86   \n",
       "\n",
       "   visibility  wind_speed  wind_deg  wind_gust  \\\n",
       "0       10000        3.74        59       4.18   \n",
       "1       10000        3.72        65       4.10   \n",
       "2       10000        3.90        63       4.30   \n",
       "3       10000        3.89        64       4.40   \n",
       "4       10000        4.06        72       4.15   \n",
       "\n",
       "                                             weather  pop rain  \n",
       "0  [{'id': 804, 'main': 'Clouds', 'description': ...  0.0  NaN  \n",
       "1  [{'id': 804, 'main': 'Clouds', 'description': ...  0.0  NaN  \n",
       "2  [{'id': 804, 'main': 'Clouds', 'description': ...  0.0  NaN  \n",
       "3  [{'id': 804, 'main': 'Clouds', 'description': ...  0.0  NaN  \n",
       "4  [{'id': 804, 'main': 'Clouds', 'description': ...  0.0  NaN  "
      ]
     },
     "execution_count": 10,
     "metadata": {},
     "output_type": "execute_result"
    }
   ],
   "source": [
    "df_hourly.head()"
   ]
  },
  {
   "cell_type": "code",
   "execution_count": null,
   "metadata": {},
   "outputs": [],
   "source": []
  }
 ],
 "metadata": {
  "interpreter": {
   "hash": "c1b4cfe941b6d2466ad1fb5979e97da9cda8801728c8091b097ab734208fc00c"
  },
  "kernelspec": {
   "display_name": "Python 3.8.3 64-bit ('base': conda)",
   "name": "python3"
  },
  "language_info": {
   "codemirror_mode": {
    "name": "ipython",
    "version": 3
   },
   "file_extension": ".py",
   "mimetype": "text/x-python",
   "name": "python",
   "nbconvert_exporter": "python",
   "pygments_lexer": "ipython3",
   "version": "3.8.12"
  }
 },
 "nbformat": 4,
 "nbformat_minor": 2
}
