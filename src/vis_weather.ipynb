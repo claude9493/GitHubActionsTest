{
 "cells": [
  {
   "cell_type": "code",
   "execution_count": 1,
   "metadata": {
    "execution": {
     "iopub.execute_input": "2021-09-26T03:11:59.016650Z",
     "iopub.status.busy": "2021-09-26T03:11:59.016044Z",
     "iopub.status.idle": "2021-09-26T03:12:00.215115Z",
     "shell.execute_reply": "2021-09-26T03:12:00.214252Z"
    }
   },
   "outputs": [],
   "source": [
    "import json, yaml, requests\r\n",
    "from datetime import datetime\r\n",
    "from dateutil import tz\r\n",
    "import pandas as pd\r\n",
    "from PIL import Image\r\n",
    "from io import BytesIO\r\n",
    "import matplotlib.pyplot as plt\r\n",
    "import seaborn\r\n",
    "\r\n",
    "CONFIG_PATH = \"../config/config.yaml\""
   ]
  },
  {
   "cell_type": "code",
   "execution_count": 2,
   "metadata": {
    "execution": {
     "iopub.execute_input": "2021-09-26T03:12:00.220389Z",
     "iopub.status.busy": "2021-09-26T03:12:00.219561Z",
     "iopub.status.idle": "2021-09-26T03:12:00.225017Z",
     "shell.execute_reply": "2021-09-26T03:12:00.224307Z"
    }
   },
   "outputs": [],
   "source": [
    "with open('../newest_ts', 'r') as f:\r\n",
    "    newest_ts = f.read()\r\n",
    "\r\n",
    "data_path = f\"../data/data_{newest_ts}.json\"\r\n",
    "with open(data_path, 'r') as f:\r\n",
    "    data = json.load(f)\r\n",
    "\r\n",
    "with open(CONFIG_PATH, \"r\") as stream:\r\n",
    "    config = yaml.safe_load(stream)\r\n",
    "\r\n",
    "TIME_ZONE = config['time_zone']\r\n",
    "DATETIME_FORMAT = config['dt_format']"
   ]
  },
  {
   "cell_type": "code",
   "execution_count": 3,
   "metadata": {
    "execution": {
     "iopub.execute_input": "2021-09-26T03:12:00.229434Z",
     "iopub.status.busy": "2021-09-26T03:12:00.228966Z",
     "iopub.status.idle": "2021-09-26T03:12:00.233461Z",
     "shell.execute_reply": "2021-09-26T03:12:00.233830Z"
    }
   },
   "outputs": [
    {
     "name": "stdout",
     "output_type": "stream",
     "text": [
      "Recent query happens at 2021-09-26 11:11:56 (CST).\n"
     ]
    }
   ],
   "source": [
    "def ts2dt(ts, format=DATETIME_FORMAT):\r\n",
    "    dt = (datetime.utcfromtimestamp(int(ts))\r\n",
    "                    .replace(tzinfo=tz.tzutc())\r\n",
    "                    # .astimezone(tz.tzlocal())\r\n",
    "                    .astimezone(tz.gettz(TIME_ZONE)))\r\n",
    "    return dt.strftime(format), dt\r\n",
    "\r\n",
    "_, newest_dt = ts2dt(newest_ts)\r\n",
    "print(f\"Recent query happens at {newest_dt.strftime(DATETIME_FORMAT)} ({newest_dt.tzname()}).\")"
   ]
  },
  {
   "cell_type": "code",
   "execution_count": 4,
   "metadata": {
    "execution": {
     "iopub.execute_input": "2021-09-26T03:12:00.237930Z",
     "iopub.status.busy": "2021-09-26T03:12:00.237460Z",
     "iopub.status.idle": "2021-09-26T03:12:00.240066Z",
     "shell.execute_reply": "2021-09-26T03:12:00.240421Z"
    }
   },
   "outputs": [],
   "source": [
    "def degrees_to_cardinal(d):\r\n",
    "  dirs = ['N', 'NNE', 'NE', 'ENE', 'E', 'ESE', 'SE', 'SSE', 'S', 'SSW', 'SW', 'WSW', 'W', 'WNW', 'NW', 'NNW']\r\n",
    "  ix = int(round(d / (360. / len(dirs))))\r\n",
    "  return dirs[ix % len(dirs)]"
   ]
  },
  {
   "cell_type": "code",
   "execution_count": 5,
   "metadata": {
    "execution": {
     "iopub.execute_input": "2021-09-26T03:12:00.244521Z",
     "iopub.status.busy": "2021-09-26T03:12:00.243481Z",
     "iopub.status.idle": "2021-09-26T03:12:00.245042Z",
     "shell.execute_reply": "2021-09-26T03:12:00.245410Z"
    }
   },
   "outputs": [],
   "source": [
    "# data.keys()"
   ]
  },
  {
   "cell_type": "code",
   "execution_count": 6,
   "metadata": {
    "execution": {
     "iopub.execute_input": "2021-09-26T03:12:00.249240Z",
     "iopub.status.busy": "2021-09-26T03:12:00.248057Z",
     "iopub.status.idle": "2021-09-26T03:12:00.249809Z",
     "shell.execute_reply": "2021-09-26T03:12:00.250548Z"
    }
   },
   "outputs": [],
   "source": [
    "# data['current']"
   ]
  },
  {
   "cell_type": "code",
   "execution_count": 7,
   "metadata": {
    "execution": {
     "iopub.execute_input": "2021-09-26T03:12:00.270483Z",
     "iopub.status.busy": "2021-09-26T03:12:00.269988Z",
     "iopub.status.idle": "2021-09-26T03:12:00.689199Z",
     "shell.execute_reply": "2021-09-26T03:12:00.689877Z"
    }
   },
   "outputs": [
    {
     "data": {
      "image/png": "[encoded data removed]",
      "text/plain": [
       "<Figure size 216x216 with 1 Axes>"
      ]
     },
     "metadata": {
      "needs_background": "light"
     },
     "output_type": "display_data"
    },
    {
     "name": "stdout",
     "output_type": "stream",
     "text": [
      "Today, sun rises at 06:12 and sets at 18:15.\n",
      "Currently, the weather is Rain (light rain).\n",
      "The temperature is 29.33°C and it feels like 34.75°C.\n",
      "The UV index is 8.42, humidity is 76%.\n",
      "The pressure is 1013 hPa, percentage of cloud cover is 8%\n",
      "The wind comes from ENE direction with a speed 0.45 m/s.\n"
     ]
    }
   ],
   "source": [
    "current = data['current']\r\n",
    "\r\n",
    "fig, ax = plt.subplots(figsize=(3, 3))\r\n",
    "icon = requests.get(f\"http://openweathermap.org/img/wn/{current['weather'][0]['icon']}@2x.png\")\r\n",
    "im = Image.open(BytesIO(icon.content))\r\n",
    "plt.imshow(im)\r\n",
    "ax.set_axis_off()\r\n",
    "plt.show()\r\n",
    "\r\n",
    "print(f\"Today, sun rises at {ts2dt(current['sunrise'], '%H:%M')[0]} \\\r\n",
    "and sets at {ts2dt(current['sunset'], '%H:%M')[0]}.\\n\\\r\n",
    "Currently, the weather is {current['weather'][0]['main']} ({current['weather'][0]['description']}).\\n\\\r\n",
    "The temperature is {current['temp']}°C and it feels like {current['feels_like']}°C.\\n\\\r\n",
    "The UV index is {current['uvi']}, humidity is {current['humidity']}%.\\n\\\r\n",
    "The pressure is {current['pressure']} hPa, percentage of cloud cover is {current['clouds']}%\\n\\\r\n",
    "The wind comes from {degrees_to_cardinal(current['wind_deg'])} direction with a speed {current['wind_speed']} m/s.\")"
   ]
  },
  {
   "cell_type": "code",
   "execution_count": 8,
   "metadata": {
    "execution": {
     "iopub.execute_input": "2021-09-26T03:12:00.693126Z",
     "iopub.status.busy": "2021-09-26T03:12:00.692191Z",
     "iopub.status.idle": "2021-09-26T03:12:00.698947Z",
     "shell.execute_reply": "2021-09-26T03:12:00.699615Z"
    }
   },
   "outputs": [],
   "source": [
    "df_hourly = pd.DataFrame(data['hourly'])\r\n",
    "df_daily = pd.DataFrame(data['daily'])"
   ]
  },
  {
   "cell_type": "code",
   "execution_count": 9,
   "metadata": {
    "execution": {
     "iopub.execute_input": "2021-09-26T03:12:00.702778Z",
     "iopub.status.busy": "2021-09-26T03:12:00.701712Z",
     "iopub.status.idle": "2021-09-26T03:12:00.938842Z",
     "shell.execute_reply": "2021-09-26T03:12:00.938410Z"
    }
   },
   "outputs": [
    {
     "data": {
      "image/png": "[encoded data removed]",
      "text/plain": [
       "<Figure size 864x432 with 1 Axes>"
      ]
     },
     "metadata": {
      "needs_background": "light"
     },
     "output_type": "display_data"
    }
   ],
   "source": [
    "fig, ax = plt.subplots(figsize=(12, 6))\r\n",
    "plt.plot(df_hourly.temp, '.-', label='Temperature')\r\n",
    "plt.plot(df_hourly.feels_like, '.-', label='Feels Like')\r\n",
    "ax.set(title='Temperature in future 48 hours', xlabel='Time', ylabel='Temperature')\r\n",
    "ax.set_xticks(list(range(0, len(df_hourly), 2)))\r\n",
    "ax.set_xticklabels([ts2dt(ts, '%m-%d %H:%M')[0] for i, ts in enumerate(df_hourly.dt) if i%2==0], \r\n",
    "                   rotation=45, ha=\"right\")\r\n",
    "ax.locator_params(nbins=15, axis='y')\r\n",
    "plt.legend()\r\n",
    "plt.show()"
   ]
  },
  {
   "cell_type": "code",
   "execution_count": 10,
   "metadata": {
    "execution": {
     "iopub.execute_input": "2021-09-26T03:12:00.949645Z",
     "iopub.status.busy": "2021-09-26T03:12:00.942719Z",
     "iopub.status.idle": "2021-09-26T03:12:00.960750Z",
     "shell.execute_reply": "2021-09-26T03:12:00.960047Z"
    }
   },
   "outputs": [
    {
     "data": {
      "text/html": [
       "<div>\n",
       "<style scoped>\n",
       "    .dataframe tbody tr th:only-of-type {\n",
       "        vertical-align: middle;\n",
       "    }\n",
       "\n",
       "    .dataframe tbody tr th {\n",
       "        vertical-align: top;\n",
       "    }\n",
       "\n",
       "    .dataframe thead th {\n",
       "        text-align: right;\n",
       "    }\n",
       "</style>\n",
       "<table border=\"1\" class=\"dataframe\">\n",
       "  <thead>\n",
       "    <tr style=\"text-align: right;\">\n",
       "      <th></th>\n",
       "      <th>dt</th>\n",
       "      <th>temp</th>\n",
       "      <th>feels_like</th>\n",
       "      <th>pressure</th>\n",
       "      <th>humidity</th>\n",
       "      <th>dew_point</th>\n",
       "      <th>uvi</th>\n",
       "      <th>clouds</th>\n",
       "      <th>visibility</th>\n",
       "      <th>wind_speed</th>\n",
       "      <th>wind_deg</th>\n",
       "      <th>wind_gust</th>\n",
       "      <th>weather</th>\n",
       "      <th>pop</th>\n",
       "      <th>rain</th>\n",
       "    </tr>\n",
       "  </thead>\n",
       "  <tbody>\n",
       "    <tr>\n",
       "      <th>0</th>\n",
       "      <td>1632625200</td>\n",
       "      <td>29.33</td>\n",
       "      <td>34.75</td>\n",
       "      <td>1013</td>\n",
       "      <td>76</td>\n",
       "      <td>24.66</td>\n",
       "      <td>8.42</td>\n",
       "      <td>8</td>\n",
       "      <td>10000</td>\n",
       "      <td>6.61</td>\n",
       "      <td>74</td>\n",
       "      <td>7.62</td>\n",
       "      <td>[{'id': 800, 'main': 'Clear', 'description': '...</td>\n",
       "      <td>0.0</td>\n",
       "      <td>NaN</td>\n",
       "    </tr>\n",
       "    <tr>\n",
       "      <th>1</th>\n",
       "      <td>1632628800</td>\n",
       "      <td>29.30</td>\n",
       "      <td>34.02</td>\n",
       "      <td>1013</td>\n",
       "      <td>73</td>\n",
       "      <td>23.96</td>\n",
       "      <td>9.97</td>\n",
       "      <td>9</td>\n",
       "      <td>10000</td>\n",
       "      <td>6.44</td>\n",
       "      <td>79</td>\n",
       "      <td>7.31</td>\n",
       "      <td>[{'id': 500, 'main': 'Rain', 'description': 'l...</td>\n",
       "      <td>0.2</td>\n",
       "      <td>{'1h': 0.12}</td>\n",
       "    </tr>\n",
       "    <tr>\n",
       "      <th>2</th>\n",
       "      <td>1632632400</td>\n",
       "      <td>29.34</td>\n",
       "      <td>33.48</td>\n",
       "      <td>1013</td>\n",
       "      <td>70</td>\n",
       "      <td>23.30</td>\n",
       "      <td>9.79</td>\n",
       "      <td>10</td>\n",
       "      <td>10000</td>\n",
       "      <td>6.04</td>\n",
       "      <td>83</td>\n",
       "      <td>6.82</td>\n",
       "      <td>[{'id': 500, 'main': 'Rain', 'description': 'l...</td>\n",
       "      <td>0.2</td>\n",
       "      <td>{'1h': 0.15}</td>\n",
       "    </tr>\n",
       "    <tr>\n",
       "      <th>3</th>\n",
       "      <td>1632636000</td>\n",
       "      <td>29.40</td>\n",
       "      <td>33.02</td>\n",
       "      <td>1012</td>\n",
       "      <td>67</td>\n",
       "      <td>22.63</td>\n",
       "      <td>8.00</td>\n",
       "      <td>10</td>\n",
       "      <td>10000</td>\n",
       "      <td>5.82</td>\n",
       "      <td>87</td>\n",
       "      <td>6.61</td>\n",
       "      <td>[{'id': 800, 'main': 'Clear', 'description': '...</td>\n",
       "      <td>0.0</td>\n",
       "      <td>NaN</td>\n",
       "    </tr>\n",
       "    <tr>\n",
       "      <th>4</th>\n",
       "      <td>1632639600</td>\n",
       "      <td>29.31</td>\n",
       "      <td>32.27</td>\n",
       "      <td>1011</td>\n",
       "      <td>64</td>\n",
       "      <td>21.79</td>\n",
       "      <td>5.33</td>\n",
       "      <td>14</td>\n",
       "      <td>10000</td>\n",
       "      <td>5.49</td>\n",
       "      <td>90</td>\n",
       "      <td>6.27</td>\n",
       "      <td>[{'id': 801, 'main': 'Clouds', 'description': ...</td>\n",
       "      <td>0.0</td>\n",
       "      <td>NaN</td>\n",
       "    </tr>\n",
       "  </tbody>\n",
       "</table>\n",
       "</div>"
      ],
      "text/plain": [
       "           dt   temp  feels_like  pressure  humidity  dew_point   uvi  clouds  \\\n",
       "0  1632625200  29.33       34.75      1013        76      24.66  8.42       8   \n",
       "1  1632628800  29.30       34.02      1013        73      23.96  9.97       9   \n",
       "2  1632632400  29.34       33.48      1013        70      23.30  9.79      10   \n",
       "3  1632636000  29.40       33.02      1012        67      22.63  8.00      10   \n",
       "4  1632639600  29.31       32.27      1011        64      21.79  5.33      14   \n",
       "\n",
       "   visibility  wind_speed  wind_deg  wind_gust  \\\n",
       "0       10000        6.61        74       7.62   \n",
       "1       10000        6.44        79       7.31   \n",
       "2       10000        6.04        83       6.82   \n",
       "3       10000        5.82        87       6.61   \n",
       "4       10000        5.49        90       6.27   \n",
       "\n",
       "                                             weather  pop          rain  \n",
       "0  [{'id': 800, 'main': 'Clear', 'description': '...  0.0           NaN  \n",
       "1  [{'id': 500, 'main': 'Rain', 'description': 'l...  0.2  {'1h': 0.12}  \n",
       "2  [{'id': 500, 'main': 'Rain', 'description': 'l...  0.2  {'1h': 0.15}  \n",
       "3  [{'id': 800, 'main': 'Clear', 'description': '...  0.0           NaN  \n",
       "4  [{'id': 801, 'main': 'Clouds', 'description': ...  0.0           NaN  "
      ]
     },
     "execution_count": 10,
     "metadata": {},
     "output_type": "execute_result"
    }
   ],
   "source": [
    "df_hourly.head()"
   ]
  },
  {
   "cell_type": "code",
   "execution_count": null,
   "metadata": {},
   "outputs": [],
   "source": []
  }
 ],
 "metadata": {
  "interpreter": {
   "hash": "c1b4cfe941b6d2466ad1fb5979e97da9cda8801728c8091b097ab734208fc00c"
  },
  "kernelspec": {
   "display_name": "Python 3.8.3 64-bit ('base': conda)",
   "name": "python3"
  },
  "language_info": {
   "codemirror_mode": {
    "name": "ipython",
    "version": 3
   },
   "file_extension": ".py",
   "mimetype": "text/x-python",
   "name": "python",
   "nbconvert_exporter": "python",
   "pygments_lexer": "ipython3",
   "version": "3.8.12"
  }
 },
 "nbformat": 4,
 "nbformat_minor": 2
}
