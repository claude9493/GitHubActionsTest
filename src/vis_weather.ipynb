{
 "cells": [
  {
   "cell_type": "code",
   "execution_count": 1,
   "metadata": {
    "execution": {
     "iopub.execute_input": "2021-09-12T02:00:51.974164Z",
     "iopub.status.busy": "2021-09-12T02:00:51.972802Z",
     "iopub.status.idle": "2021-09-12T02:00:56.579043Z",
     "shell.execute_reply": "2021-09-12T02:00:56.578507Z"
    }
   },
   "outputs": [],
   "source": [
    "import json, yaml, requests\r\n",
    "from datetime import datetime\r\n",
    "from dateutil import tz\r\n",
    "import pandas as pd\r\n",
    "from PIL import Image\r\n",
    "from io import BytesIO\r\n",
    "import matplotlib.pyplot as plt\r\n",
    "import seaborn\r\n",
    "\r\n",
    "CONFIG_PATH = \"../config/config.yaml\""
   ]
  },
  {
   "cell_type": "code",
   "execution_count": 2,
   "metadata": {
    "execution": {
     "iopub.execute_input": "2021-09-12T02:00:56.584093Z",
     "iopub.status.busy": "2021-09-12T02:00:56.583550Z",
     "iopub.status.idle": "2021-09-12T02:00:56.588284Z",
     "shell.execute_reply": "2021-09-12T02:00:56.587912Z"
    }
   },
   "outputs": [],
   "source": [
    "with open('../newest_ts', 'r') as f:\r\n",
    "    newest_ts = f.read()\r\n",
    "\r\n",
    "data_path = f\"../data/data_{newest_ts}.json\"\r\n",
    "with open(data_path, 'r') as f:\r\n",
    "    data = json.load(f)\r\n",
    "\r\n",
    "with open(CONFIG_PATH, \"r\") as stream:\r\n",
    "    config = yaml.safe_load(stream)\r\n",
    "\r\n",
    "TIME_ZONE = config['time_zone']\r\n",
    "DATETIME_FORMAT = config['dt_format']"
   ]
  },
  {
   "cell_type": "code",
   "execution_count": 3,
   "metadata": {
    "execution": {
     "iopub.execute_input": "2021-09-12T02:00:56.592457Z",
     "iopub.status.busy": "2021-09-12T02:00:56.591991Z",
     "iopub.status.idle": "2021-09-12T02:00:56.602525Z",
     "shell.execute_reply": "2021-09-12T02:00:56.602127Z"
    }
   },
   "outputs": [
    {
     "name": "stdout",
     "output_type": "stream",
     "text": [
      "Recent query happens at 2021-09-12 10:00:47 (CST).\n"
     ]
    }
   ],
   "source": [
    "def ts2dt(ts, format=DATETIME_FORMAT):\r\n",
    "    dt = (datetime.utcfromtimestamp(int(ts))\r\n",
    "                    .replace(tzinfo=tz.tzutc())\r\n",
    "                    # .astimezone(tz.tzlocal())\r\n",
    "                    .astimezone(tz.gettz(TIME_ZONE)))\r\n",
    "    return dt.strftime(format), dt\r\n",
    "\r\n",
    "_, newest_dt = ts2dt(newest_ts)\r\n",
    "print(f\"Recent query happens at {newest_dt.strftime(DATETIME_FORMAT)} ({newest_dt.tzname()}).\")"
   ]
  },
  {
   "cell_type": "code",
   "execution_count": 4,
   "metadata": {
    "execution": {
     "iopub.execute_input": "2021-09-12T02:00:56.607377Z",
     "iopub.status.busy": "2021-09-12T02:00:56.606367Z",
     "iopub.status.idle": "2021-09-12T02:00:56.607888Z",
     "shell.execute_reply": "2021-09-12T02:00:56.608272Z"
    }
   },
   "outputs": [],
   "source": [
    "def degrees_to_cardinal(d):\r\n",
    "  dirs = ['N', 'NNE', 'NE', 'ENE', 'E', 'ESE', 'SE', 'SSE', 'S', 'SSW', 'SW', 'WSW', 'W', 'WNW', 'NW', 'NNW']\r\n",
    "  ix = int(round(d / (360. / len(dirs))))\r\n",
    "  return dirs[ix % len(dirs)]"
   ]
  },
  {
   "cell_type": "code",
   "execution_count": 5,
   "metadata": {
    "execution": {
     "iopub.execute_input": "2021-09-12T02:00:56.612167Z",
     "iopub.status.busy": "2021-09-12T02:00:56.611091Z",
     "iopub.status.idle": "2021-09-12T02:00:56.612731Z",
     "shell.execute_reply": "2021-09-12T02:00:56.613120Z"
    }
   },
   "outputs": [],
   "source": [
    "# data.keys()"
   ]
  },
  {
   "cell_type": "code",
   "execution_count": 6,
   "metadata": {
    "execution": {
     "iopub.execute_input": "2021-09-12T02:00:56.616884Z",
     "iopub.status.busy": "2021-09-12T02:00:56.615835Z",
     "iopub.status.idle": "2021-09-12T02:00:56.617384Z",
     "shell.execute_reply": "2021-09-12T02:00:56.617759Z"
    }
   },
   "outputs": [],
   "source": [
    "# data['current']"
   ]
  },
  {
   "cell_type": "code",
   "execution_count": 7,
   "metadata": {
    "execution": {
     "iopub.execute_input": "2021-09-12T02:00:56.633790Z",
     "iopub.status.busy": "2021-09-12T02:00:56.623393Z",
     "iopub.status.idle": "2021-09-12T02:00:56.912300Z",
     "shell.execute_reply": "2021-09-12T02:00:56.912948Z"
    }
   },
   "outputs": [
    {
     "data": {
      "image/png": "[encoded data removed]",
      "text/plain": [
       "<Figure size 216x216 with 1 Axes>"
      ]
     },
     "metadata": {
      "needs_background": "light"
     },
     "output_type": "display_data"
    },
    {
     "name": "stdout",
     "output_type": "stream",
     "text": [
      "Today, sun rises at 06:08 and sets at 18:30.\n",
      "Currently, the weather is Clouds (overcast clouds).\n",
      "The temperature is 31.7°C and it feels like 38.7°C.\n",
      "The UV index is 6.62, humidity is 81%.\n",
      "The pressure is 1003 hPa, percentage of cloud cover is 96%\n",
      "The wind comes from W direction with a speed 3.16 m/s.\n"
     ]
    }
   ],
   "source": [
    "current = data['current']\r\n",
    "\r\n",
    "fig, ax = plt.subplots(figsize=(3, 3))\r\n",
    "icon = requests.get(f\"http://openweathermap.org/img/wn/{current['weather'][0]['icon']}@2x.png\")\r\n",
    "im = Image.open(BytesIO(icon.content))\r\n",
    "plt.imshow(im)\r\n",
    "ax.set_axis_off()\r\n",
    "plt.show()\r\n",
    "\r\n",
    "print(f\"Today, sun rises at {ts2dt(current['sunrise'], '%H:%M')[0]} \\\r\n",
    "and sets at {ts2dt(current['sunset'], '%H:%M')[0]}.\\n\\\r\n",
    "Currently, the weather is {current['weather'][0]['main']} ({current['weather'][0]['description']}).\\n\\\r\n",
    "The temperature is {current['temp']}°C and it feels like {current['feels_like']}°C.\\n\\\r\n",
    "The UV index is {current['uvi']}, humidity is {current['humidity']}%.\\n\\\r\n",
    "The pressure is {current['pressure']} hPa, percentage of cloud cover is {current['clouds']}%\\n\\\r\n",
    "The wind comes from {degrees_to_cardinal(current['wind_deg'])} direction with a speed {current['wind_speed']} m/s.\")"
   ]
  },
  {
   "cell_type": "code",
   "execution_count": 8,
   "metadata": {
    "execution": {
     "iopub.execute_input": "2021-09-12T02:00:56.915970Z",
     "iopub.status.busy": "2021-09-12T02:00:56.915507Z",
     "iopub.status.idle": "2021-09-12T02:00:56.921764Z",
     "shell.execute_reply": "2021-09-12T02:00:56.922390Z"
    }
   },
   "outputs": [],
   "source": [
    "df_hourly = pd.DataFrame(data['hourly'])\r\n",
    "df_daily = pd.DataFrame(data['daily'])"
   ]
  },
  {
   "cell_type": "code",
   "execution_count": 9,
   "metadata": {
    "execution": {
     "iopub.execute_input": "2021-09-12T02:00:56.925283Z",
     "iopub.status.busy": "2021-09-12T02:00:56.924385Z",
     "iopub.status.idle": "2021-09-12T02:00:57.170533Z",
     "shell.execute_reply": "2021-09-12T02:00:57.170054Z"
    }
   },
   "outputs": [
    {
     "data": {
      "image/png": "[encoded data removed]",
      "text/plain": [
       "<Figure size 864x432 with 1 Axes>"
      ]
     },
     "metadata": {
      "needs_background": "light"
     },
     "output_type": "display_data"
    }
   ],
   "source": [
    "fig, ax = plt.subplots(figsize=(12, 6))\r\n",
    "plt.plot(df_hourly.temp, '.-', label='Temperature')\r\n",
    "plt.plot(df_hourly.feels_like, '.-', label='Feels Like')\r\n",
    "ax.set(title='Temperature in future 48 hours', xlabel='Time', ylabel='Temperature')\r\n",
    "ax.set_xticks(list(range(0, len(df_hourly), 2)))\r\n",
    "ax.set_xticklabels([ts2dt(ts, '%m-%d %H:%M')[0] for i, ts in enumerate(df_hourly.dt) if i%2==0], \r\n",
    "                   rotation=45, ha=\"right\")\r\n",
    "ax.locator_params(nbins=15, axis='y')\r\n",
    "plt.legend()\r\n",
    "plt.show()"
   ]
  },
  {
   "cell_type": "code",
   "execution_count": 10,
   "metadata": {
    "execution": {
     "iopub.execute_input": "2021-09-12T02:00:57.181136Z",
     "iopub.status.busy": "2021-09-12T02:00:57.174361Z",
     "iopub.status.idle": "2021-09-12T02:00:57.190983Z",
     "shell.execute_reply": "2021-09-12T02:00:57.190591Z"
    }
   },
   "outputs": [
    {
     "data": {
      "text/html": [
       "<div>\n",
       "<style scoped>\n",
       "    .dataframe tbody tr th:only-of-type {\n",
       "        vertical-align: middle;\n",
       "    }\n",
       "\n",
       "    .dataframe tbody tr th {\n",
       "        vertical-align: top;\n",
       "    }\n",
       "\n",
       "    .dataframe thead th {\n",
       "        text-align: right;\n",
       "    }\n",
       "</style>\n",
       "<table border=\"1\" class=\"dataframe\">\n",
       "  <thead>\n",
       "    <tr style=\"text-align: right;\">\n",
       "      <th></th>\n",
       "      <th>dt</th>\n",
       "      <th>temp</th>\n",
       "      <th>feels_like</th>\n",
       "      <th>pressure</th>\n",
       "      <th>humidity</th>\n",
       "      <th>dew_point</th>\n",
       "      <th>uvi</th>\n",
       "      <th>clouds</th>\n",
       "      <th>visibility</th>\n",
       "      <th>wind_speed</th>\n",
       "      <th>wind_deg</th>\n",
       "      <th>wind_gust</th>\n",
       "      <th>weather</th>\n",
       "      <th>pop</th>\n",
       "      <th>rain</th>\n",
       "    </tr>\n",
       "  </thead>\n",
       "  <tbody>\n",
       "    <tr>\n",
       "      <th>0</th>\n",
       "      <td>1631412000</td>\n",
       "      <td>31.70</td>\n",
       "      <td>38.70</td>\n",
       "      <td>1003</td>\n",
       "      <td>81</td>\n",
       "      <td>28.03</td>\n",
       "      <td>6.62</td>\n",
       "      <td>96</td>\n",
       "      <td>10000</td>\n",
       "      <td>3.16</td>\n",
       "      <td>277</td>\n",
       "      <td>3.94</td>\n",
       "      <td>[{'id': 804, 'main': 'Clouds', 'description': ...</td>\n",
       "      <td>0.71</td>\n",
       "      <td>NaN</td>\n",
       "    </tr>\n",
       "    <tr>\n",
       "      <th>1</th>\n",
       "      <td>1631415600</td>\n",
       "      <td>31.73</td>\n",
       "      <td>38.73</td>\n",
       "      <td>1003</td>\n",
       "      <td>78</td>\n",
       "      <td>27.42</td>\n",
       "      <td>9.44</td>\n",
       "      <td>96</td>\n",
       "      <td>10000</td>\n",
       "      <td>3.25</td>\n",
       "      <td>274</td>\n",
       "      <td>3.93</td>\n",
       "      <td>[{'id': 804, 'main': 'Clouds', 'description': ...</td>\n",
       "      <td>0.87</td>\n",
       "      <td>NaN</td>\n",
       "    </tr>\n",
       "    <tr>\n",
       "      <th>2</th>\n",
       "      <td>1631419200</td>\n",
       "      <td>31.96</td>\n",
       "      <td>38.96</td>\n",
       "      <td>1003</td>\n",
       "      <td>74</td>\n",
       "      <td>26.74</td>\n",
       "      <td>11.16</td>\n",
       "      <td>97</td>\n",
       "      <td>10000</td>\n",
       "      <td>3.78</td>\n",
       "      <td>261</td>\n",
       "      <td>4.55</td>\n",
       "      <td>[{'id': 804, 'main': 'Clouds', 'description': ...</td>\n",
       "      <td>0.79</td>\n",
       "      <td>NaN</td>\n",
       "    </tr>\n",
       "    <tr>\n",
       "      <th>3</th>\n",
       "      <td>1631422800</td>\n",
       "      <td>32.17</td>\n",
       "      <td>39.17</td>\n",
       "      <td>1002</td>\n",
       "      <td>71</td>\n",
       "      <td>26.24</td>\n",
       "      <td>10.95</td>\n",
       "      <td>97</td>\n",
       "      <td>10000</td>\n",
       "      <td>4.32</td>\n",
       "      <td>248</td>\n",
       "      <td>5.06</td>\n",
       "      <td>[{'id': 804, 'main': 'Clouds', 'description': ...</td>\n",
       "      <td>0.75</td>\n",
       "      <td>NaN</td>\n",
       "    </tr>\n",
       "    <tr>\n",
       "      <th>4</th>\n",
       "      <td>1631426400</td>\n",
       "      <td>32.11</td>\n",
       "      <td>39.11</td>\n",
       "      <td>1001</td>\n",
       "      <td>69</td>\n",
       "      <td>25.70</td>\n",
       "      <td>9.02</td>\n",
       "      <td>98</td>\n",
       "      <td>10000</td>\n",
       "      <td>4.97</td>\n",
       "      <td>241</td>\n",
       "      <td>5.23</td>\n",
       "      <td>[{'id': 804, 'main': 'Clouds', 'description': ...</td>\n",
       "      <td>0.67</td>\n",
       "      <td>NaN</td>\n",
       "    </tr>\n",
       "  </tbody>\n",
       "</table>\n",
       "</div>"
      ],
      "text/plain": [
       "           dt   temp  feels_like  pressure  humidity  dew_point    uvi  \\\n",
       "0  1631412000  31.70       38.70      1003        81      28.03   6.62   \n",
       "1  1631415600  31.73       38.73      1003        78      27.42   9.44   \n",
       "2  1631419200  31.96       38.96      1003        74      26.74  11.16   \n",
       "3  1631422800  32.17       39.17      1002        71      26.24  10.95   \n",
       "4  1631426400  32.11       39.11      1001        69      25.70   9.02   \n",
       "\n",
       "   clouds  visibility  wind_speed  wind_deg  wind_gust  \\\n",
       "0      96       10000        3.16       277       3.94   \n",
       "1      96       10000        3.25       274       3.93   \n",
       "2      97       10000        3.78       261       4.55   \n",
       "3      97       10000        4.32       248       5.06   \n",
       "4      98       10000        4.97       241       5.23   \n",
       "\n",
       "                                             weather   pop rain  \n",
       "0  [{'id': 804, 'main': 'Clouds', 'description': ...  0.71  NaN  \n",
       "1  [{'id': 804, 'main': 'Clouds', 'description': ...  0.87  NaN  \n",
       "2  [{'id': 804, 'main': 'Clouds', 'description': ...  0.79  NaN  \n",
       "3  [{'id': 804, 'main': 'Clouds', 'description': ...  0.75  NaN  \n",
       "4  [{'id': 804, 'main': 'Clouds', 'description': ...  0.67  NaN  "
      ]
     },
     "execution_count": 10,
     "metadata": {},
     "output_type": "execute_result"
    }
   ],
   "source": [
    "df_hourly.head()"
   ]
  },
  {
   "cell_type": "code",
   "execution_count": null,
   "metadata": {},
   "outputs": [],
   "source": []
  }
 ],
 "metadata": {
  "interpreter": {
   "hash": "c1b4cfe941b6d2466ad1fb5979e97da9cda8801728c8091b097ab734208fc00c"
  },
  "kernelspec": {
   "display_name": "Python 3.8.3 64-bit ('base': conda)",
   "name": "python3"
  },
  "language_info": {
   "codemirror_mode": {
    "name": "ipython",
    "version": 3
   },
   "file_extension": ".py",
   "mimetype": "text/x-python",
   "name": "python",
   "nbconvert_exporter": "python",
   "pygments_lexer": "ipython3",
   "version": "3.8.11"
  }
 },
 "nbformat": 4,
 "nbformat_minor": 2
}
