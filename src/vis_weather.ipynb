{
 "cells": [
  {
   "cell_type": "code",
   "execution_count": 1,
   "metadata": {
    "execution": {
     "iopub.execute_input": "2021-09-29T20:11:56.458256Z",
     "iopub.status.busy": "2021-09-29T20:11:56.457470Z",
     "iopub.status.idle": "2021-09-29T20:11:57.826825Z",
     "shell.execute_reply": "2021-09-29T20:11:57.826250Z"
    }
   },
   "outputs": [],
   "source": [
    "import json, yaml, requests\r\n",
    "from datetime import datetime\r\n",
    "from dateutil import tz\r\n",
    "import pandas as pd\r\n",
    "from PIL import Image\r\n",
    "from io import BytesIO\r\n",
    "import matplotlib.pyplot as plt\r\n",
    "import seaborn\r\n",
    "\r\n",
    "CONFIG_PATH = \"../config/config.yaml\""
   ]
  },
  {
   "cell_type": "code",
   "execution_count": 2,
   "metadata": {
    "execution": {
     "iopub.execute_input": "2021-09-29T20:11:57.835766Z",
     "iopub.status.busy": "2021-09-29T20:11:57.832148Z",
     "iopub.status.idle": "2021-09-29T20:11:57.838917Z",
     "shell.execute_reply": "2021-09-29T20:11:57.839431Z"
    }
   },
   "outputs": [],
   "source": [
    "with open('../newest_ts', 'r') as f:\r\n",
    "    newest_ts = f.read()\r\n",
    "\r\n",
    "data_path = f\"../data/data_{newest_ts}.json\"\r\n",
    "with open(data_path, 'r') as f:\r\n",
    "    data = json.load(f)\r\n",
    "\r\n",
    "with open(CONFIG_PATH, \"r\") as stream:\r\n",
    "    config = yaml.safe_load(stream)\r\n",
    "\r\n",
    "TIME_ZONE = config['time_zone']\r\n",
    "DATETIME_FORMAT = config['dt_format']"
   ]
  },
  {
   "cell_type": "code",
   "execution_count": 3,
   "metadata": {
    "execution": {
     "iopub.execute_input": "2021-09-29T20:11:57.846394Z",
     "iopub.status.busy": "2021-09-29T20:11:57.844732Z",
     "iopub.status.idle": "2021-09-29T20:11:57.850405Z",
     "shell.execute_reply": "2021-09-29T20:11:57.850884Z"
    }
   },
   "outputs": [
    {
     "name": "stdout",
     "output_type": "stream",
     "text": [
      "Recent query happens at 2021-09-30 04:11:52 (CST).\n"
     ]
    }
   ],
   "source": [
    "def ts2dt(ts, format=DATETIME_FORMAT):\r\n",
    "    dt = (datetime.utcfromtimestamp(int(ts))\r\n",
    "                    .replace(tzinfo=tz.tzutc())\r\n",
    "                    # .astimezone(tz.tzlocal())\r\n",
    "                    .astimezone(tz.gettz(TIME_ZONE)))\r\n",
    "    return dt.strftime(format), dt\r\n",
    "\r\n",
    "_, newest_dt = ts2dt(newest_ts)\r\n",
    "print(f\"Recent query happens at {newest_dt.strftime(DATETIME_FORMAT)} ({newest_dt.tzname()}).\")"
   ]
  },
  {
   "cell_type": "code",
   "execution_count": 4,
   "metadata": {
    "execution": {
     "iopub.execute_input": "2021-09-29T20:11:57.857731Z",
     "iopub.status.busy": "2021-09-29T20:11:57.855830Z",
     "iopub.status.idle": "2021-09-29T20:11:57.858566Z",
     "shell.execute_reply": "2021-09-29T20:11:57.859193Z"
    }
   },
   "outputs": [],
   "source": [
    "def degrees_to_cardinal(d):\r\n",
    "  dirs = ['N', 'NNE', 'NE', 'ENE', 'E', 'ESE', 'SE', 'SSE', 'S', 'SSW', 'SW', 'WSW', 'W', 'WNW', 'NW', 'NNW']\r\n",
    "  ix = int(round(d / (360. / len(dirs))))\r\n",
    "  return dirs[ix % len(dirs)]"
   ]
  },
  {
   "cell_type": "code",
   "execution_count": 5,
   "metadata": {
    "execution": {
     "iopub.execute_input": "2021-09-29T20:11:57.863620Z",
     "iopub.status.busy": "2021-09-29T20:11:57.862999Z",
     "iopub.status.idle": "2021-09-29T20:11:57.865742Z",
     "shell.execute_reply": "2021-09-29T20:11:57.865125Z"
    }
   },
   "outputs": [],
   "source": [
    "# data.keys()"
   ]
  },
  {
   "cell_type": "code",
   "execution_count": 6,
   "metadata": {
    "execution": {
     "iopub.execute_input": "2021-09-29T20:11:57.870657Z",
     "iopub.status.busy": "2021-09-29T20:11:57.869209Z",
     "iopub.status.idle": "2021-09-29T20:11:57.871257Z",
     "shell.execute_reply": "2021-09-29T20:11:57.871701Z"
    }
   },
   "outputs": [],
   "source": [
    "# data['current']"
   ]
  },
  {
   "cell_type": "code",
   "execution_count": 7,
   "metadata": {
    "execution": {
     "iopub.execute_input": "2021-09-29T20:11:57.892942Z",
     "iopub.status.busy": "2021-09-29T20:11:57.887706Z",
     "iopub.status.idle": "2021-09-29T20:11:58.478082Z",
     "shell.execute_reply": "2021-09-29T20:11:58.478815Z"
    }
   },
   "outputs": [
    {
     "data": {
      "image/png": "[encoded data removed]",
      "text/plain": [
       "<Figure size 216x216 with 1 Axes>"
      ]
     },
     "metadata": {
      "needs_background": "light"
     },
     "output_type": "display_data"
    },
    {
     "name": "stdout",
     "output_type": "stream",
     "text": [
      "Today, sun rises at 06:13 and sets at 18:12.\n",
      "Currently, the weather is Rain (light rain).\n",
      "The temperature is 28.75°C and it feels like 35.1°C.\n",
      "The UV index is 0, humidity is 85%.\n",
      "The pressure is 1011 hPa, percentage of cloud cover is 0%\n",
      "The wind comes from SW direction with a speed 0.45 m/s.\n"
     ]
    }
   ],
   "source": [
    "current = data['current']\r\n",
    "\r\n",
    "fig, ax = plt.subplots(figsize=(3, 3))\r\n",
    "icon = requests.get(f\"http://openweathermap.org/img/wn/{current['weather'][0]['icon']}@2x.png\")\r\n",
    "im = Image.open(BytesIO(icon.content))\r\n",
    "plt.imshow(im)\r\n",
    "ax.set_axis_off()\r\n",
    "plt.show()\r\n",
    "\r\n",
    "print(f\"Today, sun rises at {ts2dt(current['sunrise'], '%H:%M')[0]} \\\r\n",
    "and sets at {ts2dt(current['sunset'], '%H:%M')[0]}.\\n\\\r\n",
    "Currently, the weather is {current['weather'][0]['main']} ({current['weather'][0]['description']}).\\n\\\r\n",
    "The temperature is {current['temp']}°C and it feels like {current['feels_like']}°C.\\n\\\r\n",
    "The UV index is {current['uvi']}, humidity is {current['humidity']}%.\\n\\\r\n",
    "The pressure is {current['pressure']} hPa, percentage of cloud cover is {current['clouds']}%\\n\\\r\n",
    "The wind comes from {degrees_to_cardinal(current['wind_deg'])} direction with a speed {current['wind_speed']} m/s.\")"
   ]
  },
  {
   "cell_type": "code",
   "execution_count": 8,
   "metadata": {
    "execution": {
     "iopub.execute_input": "2021-09-29T20:11:58.482871Z",
     "iopub.status.busy": "2021-09-29T20:11:58.481737Z",
     "iopub.status.idle": "2021-09-29T20:11:58.489978Z",
     "shell.execute_reply": "2021-09-29T20:11:58.490707Z"
    }
   },
   "outputs": [],
   "source": [
    "df_hourly = pd.DataFrame(data['hourly'])\r\n",
    "df_daily = pd.DataFrame(data['daily'])"
   ]
  },
  {
   "cell_type": "code",
   "execution_count": 9,
   "metadata": {
    "execution": {
     "iopub.execute_input": "2021-09-29T20:11:58.496314Z",
     "iopub.status.busy": "2021-09-29T20:11:58.493346Z",
     "iopub.status.idle": "2021-09-29T20:11:58.824869Z",
     "shell.execute_reply": "2021-09-29T20:11:58.824276Z"
    }
   },
   "outputs": [
    {
     "data": {
      "image/png": "[encoded data removed]",
      "text/plain": [
       "<Figure size 864x432 with 1 Axes>"
      ]
     },
     "metadata": {
      "needs_background": "light"
     },
     "output_type": "display_data"
    }
   ],
   "source": [
    "fig, ax = plt.subplots(figsize=(12, 6))\r\n",
    "plt.plot(df_hourly.temp, '.-', label='Temperature')\r\n",
    "plt.plot(df_hourly.feels_like, '.-', label='Feels Like')\r\n",
    "ax.set(title='Temperature in future 48 hours', xlabel='Time', ylabel='Temperature')\r\n",
    "ax.set_xticks(list(range(0, len(df_hourly), 2)))\r\n",
    "ax.set_xticklabels([ts2dt(ts, '%m-%d %H:%M')[0] for i, ts in enumerate(df_hourly.dt) if i%2==0], \r\n",
    "                   rotation=45, ha=\"right\")\r\n",
    "ax.locator_params(nbins=15, axis='y')\r\n",
    "plt.legend()\r\n",
    "plt.show()"
   ]
  },
  {
   "cell_type": "code",
   "execution_count": 10,
   "metadata": {
    "execution": {
     "iopub.execute_input": "2021-09-29T20:11:58.838554Z",
     "iopub.status.busy": "2021-09-29T20:11:58.829708Z",
     "iopub.status.idle": "2021-09-29T20:11:58.855172Z",
     "shell.execute_reply": "2021-09-29T20:11:58.854667Z"
    }
   },
   "outputs": [
    {
     "data": {
      "text/html": [
       "<div>\n",
       "<style scoped>\n",
       "    .dataframe tbody tr th:only-of-type {\n",
       "        vertical-align: middle;\n",
       "    }\n",
       "\n",
       "    .dataframe tbody tr th {\n",
       "        vertical-align: top;\n",
       "    }\n",
       "\n",
       "    .dataframe thead th {\n",
       "        text-align: right;\n",
       "    }\n",
       "</style>\n",
       "<table border=\"1\" class=\"dataframe\">\n",
       "  <thead>\n",
       "    <tr style=\"text-align: right;\">\n",
       "      <th></th>\n",
       "      <th>dt</th>\n",
       "      <th>temp</th>\n",
       "      <th>feels_like</th>\n",
       "      <th>pressure</th>\n",
       "      <th>humidity</th>\n",
       "      <th>dew_point</th>\n",
       "      <th>uvi</th>\n",
       "      <th>clouds</th>\n",
       "      <th>visibility</th>\n",
       "      <th>wind_speed</th>\n",
       "      <th>wind_deg</th>\n",
       "      <th>wind_gust</th>\n",
       "      <th>weather</th>\n",
       "      <th>pop</th>\n",
       "      <th>rain</th>\n",
       "    </tr>\n",
       "  </thead>\n",
       "  <tbody>\n",
       "    <tr>\n",
       "      <th>0</th>\n",
       "      <td>1632945600</td>\n",
       "      <td>28.75</td>\n",
       "      <td>35.10</td>\n",
       "      <td>1011</td>\n",
       "      <td>85</td>\n",
       "      <td>25.97</td>\n",
       "      <td>0.00</td>\n",
       "      <td>0</td>\n",
       "      <td>10000</td>\n",
       "      <td>2.18</td>\n",
       "      <td>245</td>\n",
       "      <td>2.40</td>\n",
       "      <td>[{'id': 800, 'main': 'Clear', 'description': '...</td>\n",
       "      <td>0.00</td>\n",
       "      <td>NaN</td>\n",
       "    </tr>\n",
       "    <tr>\n",
       "      <th>1</th>\n",
       "      <td>1632949200</td>\n",
       "      <td>28.52</td>\n",
       "      <td>34.21</td>\n",
       "      <td>1010</td>\n",
       "      <td>84</td>\n",
       "      <td>25.55</td>\n",
       "      <td>0.00</td>\n",
       "      <td>1</td>\n",
       "      <td>10000</td>\n",
       "      <td>1.99</td>\n",
       "      <td>257</td>\n",
       "      <td>2.17</td>\n",
       "      <td>[{'id': 500, 'main': 'Rain', 'description': 'l...</td>\n",
       "      <td>0.24</td>\n",
       "      <td>{'1h': 0.12}</td>\n",
       "    </tr>\n",
       "    <tr>\n",
       "      <th>2</th>\n",
       "      <td>1632952800</td>\n",
       "      <td>28.27</td>\n",
       "      <td>33.31</td>\n",
       "      <td>1010</td>\n",
       "      <td>83</td>\n",
       "      <td>25.10</td>\n",
       "      <td>0.00</td>\n",
       "      <td>1</td>\n",
       "      <td>10000</td>\n",
       "      <td>1.91</td>\n",
       "      <td>260</td>\n",
       "      <td>2.15</td>\n",
       "      <td>[{'id': 500, 'main': 'Rain', 'description': 'l...</td>\n",
       "      <td>0.24</td>\n",
       "      <td>{'1h': 0.1}</td>\n",
       "    </tr>\n",
       "    <tr>\n",
       "      <th>3</th>\n",
       "      <td>1632956400</td>\n",
       "      <td>28.24</td>\n",
       "      <td>33.05</td>\n",
       "      <td>1010</td>\n",
       "      <td>82</td>\n",
       "      <td>24.87</td>\n",
       "      <td>0.17</td>\n",
       "      <td>2</td>\n",
       "      <td>10000</td>\n",
       "      <td>2.07</td>\n",
       "      <td>264</td>\n",
       "      <td>2.43</td>\n",
       "      <td>[{'id': 800, 'main': 'Clear', 'description': '...</td>\n",
       "      <td>0.00</td>\n",
       "      <td>NaN</td>\n",
       "    </tr>\n",
       "    <tr>\n",
       "      <th>4</th>\n",
       "      <td>1632960000</td>\n",
       "      <td>28.75</td>\n",
       "      <td>33.66</td>\n",
       "      <td>1009</td>\n",
       "      <td>78</td>\n",
       "      <td>24.53</td>\n",
       "      <td>1.03</td>\n",
       "      <td>2</td>\n",
       "      <td>10000</td>\n",
       "      <td>2.13</td>\n",
       "      <td>264</td>\n",
       "      <td>2.50</td>\n",
       "      <td>[{'id': 800, 'main': 'Clear', 'description': '...</td>\n",
       "      <td>0.04</td>\n",
       "      <td>NaN</td>\n",
       "    </tr>\n",
       "  </tbody>\n",
       "</table>\n",
       "</div>"
      ],
      "text/plain": [
       "           dt   temp  feels_like  pressure  humidity  dew_point   uvi  clouds  \\\n",
       "0  1632945600  28.75       35.10      1011        85      25.97  0.00       0   \n",
       "1  1632949200  28.52       34.21      1010        84      25.55  0.00       1   \n",
       "2  1632952800  28.27       33.31      1010        83      25.10  0.00       1   \n",
       "3  1632956400  28.24       33.05      1010        82      24.87  0.17       2   \n",
       "4  1632960000  28.75       33.66      1009        78      24.53  1.03       2   \n",
       "\n",
       "   visibility  wind_speed  wind_deg  wind_gust  \\\n",
       "0       10000        2.18       245       2.40   \n",
       "1       10000        1.99       257       2.17   \n",
       "2       10000        1.91       260       2.15   \n",
       "3       10000        2.07       264       2.43   \n",
       "4       10000        2.13       264       2.50   \n",
       "\n",
       "                                             weather   pop          rain  \n",
       "0  [{'id': 800, 'main': 'Clear', 'description': '...  0.00           NaN  \n",
       "1  [{'id': 500, 'main': 'Rain', 'description': 'l...  0.24  {'1h': 0.12}  \n",
       "2  [{'id': 500, 'main': 'Rain', 'description': 'l...  0.24   {'1h': 0.1}  \n",
       "3  [{'id': 800, 'main': 'Clear', 'description': '...  0.00           NaN  \n",
       "4  [{'id': 800, 'main': 'Clear', 'description': '...  0.04           NaN  "
      ]
     },
     "execution_count": 10,
     "metadata": {},
     "output_type": "execute_result"
    }
   ],
   "source": [
    "df_hourly.head()"
   ]
  },
  {
   "cell_type": "code",
   "execution_count": null,
   "metadata": {},
   "outputs": [],
   "source": []
  }
 ],
 "metadata": {
  "interpreter": {
   "hash": "c1b4cfe941b6d2466ad1fb5979e97da9cda8801728c8091b097ab734208fc00c"
  },
  "kernelspec": {
   "display_name": "Python 3.8.3 64-bit ('base': conda)",
   "name": "python3"
  },
  "language_info": {
   "codemirror_mode": {
    "name": "ipython",
    "version": 3
   },
   "file_extension": ".py",
   "mimetype": "text/x-python",
   "name": "python",
   "nbconvert_exporter": "python",
   "pygments_lexer": "ipython3",
   "version": "3.8.12"
  }
 },
 "nbformat": 4,
 "nbformat_minor": 2
}
