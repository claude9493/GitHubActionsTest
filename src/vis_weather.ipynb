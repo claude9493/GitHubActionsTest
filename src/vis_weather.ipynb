{
 "cells": [
  {
   "cell_type": "code",
   "execution_count": 1,
   "metadata": {
    "execution": {
     "iopub.execute_input": "2021-08-24T15:44:09.334788Z",
     "iopub.status.busy": "2021-08-24T15:44:09.334271Z",
     "iopub.status.idle": "2021-08-24T15:44:12.626149Z",
     "shell.execute_reply": "2021-08-24T15:44:12.625574Z"
    }
   },
   "outputs": [],
   "source": [
    "import json, yaml, requests\r\n",
    "from datetime import datetime\r\n",
    "from dateutil import tz\r\n",
    "import pandas as pd\r\n",
    "from PIL import Image\r\n",
    "from io import BytesIO\r\n",
    "import matplotlib.pyplot as plt\r\n",
    "import seaborn\r\n",
    "\r\n",
    "CONFIG_PATH = \"../config/config.yaml\""
   ]
  },
  {
   "cell_type": "code",
   "execution_count": 2,
   "metadata": {
    "execution": {
     "iopub.execute_input": "2021-08-24T15:44:12.630942Z",
     "iopub.status.busy": "2021-08-24T15:44:12.630330Z",
     "iopub.status.idle": "2021-08-24T15:44:12.635306Z",
     "shell.execute_reply": "2021-08-24T15:44:12.634932Z"
    }
   },
   "outputs": [],
   "source": [
    "with open('../newest_ts', 'r') as f:\r\n",
    "    newest_ts = f.read()\r\n",
    "\r\n",
    "data_path = f\"../data/data_{newest_ts}.json\"\r\n",
    "with open(data_path, 'r') as f:\r\n",
    "    data = json.load(f)\r\n",
    "\r\n",
    "with open(CONFIG_PATH, \"r\") as stream:\r\n",
    "    config = yaml.safe_load(stream)\r\n",
    "\r\n",
    "TIME_ZONE = config['time_zone']\r\n",
    "DATETIME_FORMAT = config['dt_format']"
   ]
  },
  {
   "cell_type": "code",
   "execution_count": 3,
   "metadata": {
    "execution": {
     "iopub.execute_input": "2021-08-24T15:44:12.640686Z",
     "iopub.status.busy": "2021-08-24T15:44:12.639262Z",
     "iopub.status.idle": "2021-08-24T15:44:12.643358Z",
     "shell.execute_reply": "2021-08-24T15:44:12.643735Z"
    }
   },
   "outputs": [
    {
     "name": "stdout",
     "output_type": "stream",
     "text": [
      "Recent query happens at 2021-08-24 23:44:06 (CST).\n"
     ]
    }
   ],
   "source": [
    "def ts2dt(ts, format=DATETIME_FORMAT):\r\n",
    "    dt = (datetime.utcfromtimestamp(int(ts))\r\n",
    "                    .replace(tzinfo=tz.tzutc())\r\n",
    "                    # .astimezone(tz.tzlocal())\r\n",
    "                    .astimezone(tz.gettz(TIME_ZONE)))\r\n",
    "    return dt.strftime(format), dt\r\n",
    "\r\n",
    "_, newest_dt = ts2dt(newest_ts)\r\n",
    "print(f\"Recent query happens at {newest_dt.strftime(DATETIME_FORMAT)} ({newest_dt.tzname()}).\")"
   ]
  },
  {
   "cell_type": "code",
   "execution_count": 4,
   "metadata": {
    "execution": {
     "iopub.execute_input": "2021-08-24T15:44:12.648807Z",
     "iopub.status.busy": "2021-08-24T15:44:12.647791Z",
     "iopub.status.idle": "2021-08-24T15:44:12.649417Z",
     "shell.execute_reply": "2021-08-24T15:44:12.649811Z"
    }
   },
   "outputs": [],
   "source": [
    "def degrees_to_cardinal(d):\r\n",
    "  dirs = ['N', 'NNE', 'NE', 'ENE', 'E', 'ESE', 'SE', 'SSE', 'S', 'SSW', 'SW', 'WSW', 'W', 'WNW', 'NW', 'NNW']\r\n",
    "  ix = int(round(d / (360. / len(dirs))))\r\n",
    "  return dirs[ix % len(dirs)]"
   ]
  },
  {
   "cell_type": "code",
   "execution_count": 5,
   "metadata": {
    "execution": {
     "iopub.execute_input": "2021-08-24T15:44:12.653599Z",
     "iopub.status.busy": "2021-08-24T15:44:12.652635Z",
     "iopub.status.idle": "2021-08-24T15:44:12.654147Z",
     "shell.execute_reply": "2021-08-24T15:44:12.654514Z"
    }
   },
   "outputs": [],
   "source": [
    "# data.keys()"
   ]
  },
  {
   "cell_type": "code",
   "execution_count": 6,
   "metadata": {
    "execution": {
     "iopub.execute_input": "2021-08-24T15:44:12.658139Z",
     "iopub.status.busy": "2021-08-24T15:44:12.657130Z",
     "iopub.status.idle": "2021-08-24T15:44:12.658669Z",
     "shell.execute_reply": "2021-08-24T15:44:12.659034Z"
    }
   },
   "outputs": [],
   "source": [
    "# data['current']"
   ]
  },
  {
   "cell_type": "code",
   "execution_count": 7,
   "metadata": {
    "execution": {
     "iopub.execute_input": "2021-08-24T15:44:12.681315Z",
     "iopub.status.busy": "2021-08-24T15:44:12.676928Z",
     "iopub.status.idle": "2021-08-24T15:44:12.979543Z",
     "shell.execute_reply": "2021-08-24T15:44:12.980183Z"
    }
   },
   "outputs": [
    {
     "data": {
      "image/png": "[encoded data removed]",
      "text/plain": [
       "<Figure size 216x216 with 1 Axes>"
      ]
     },
     "metadata": {
      "needs_background": "light"
     },
     "output_type": "display_data"
    },
    {
     "name": "stdout",
     "output_type": "stream",
     "text": [
      "Today, sun rises at 06:03 and sets at 18:47.\n",
      "Currently, the weather is Clouds (overcast clouds).\n",
      "The temperature is 29.53°C and it feels like 36.26°C.\n",
      "The UV index is 0, humidity is 80%.\n",
      "The pressure is 1009 hPa, percentage of cloud cover is 100%\n",
      "The wind comes from SSE direction with a speed 3.09 m/s.\n"
     ]
    }
   ],
   "source": [
    "current = data['current']\r\n",
    "\r\n",
    "fig, ax = plt.subplots(figsize=(3, 3))\r\n",
    "icon = requests.get(f\"http://openweathermap.org/img/wn/{current['weather'][0]['icon']}@2x.png\")\r\n",
    "im = Image.open(BytesIO(icon.content))\r\n",
    "plt.imshow(im)\r\n",
    "ax.set_axis_off()\r\n",
    "plt.show()\r\n",
    "\r\n",
    "print(f\"Today, sun rises at {ts2dt(current['sunrise'], '%H:%M')[0]} \\\r\n",
    "and sets at {ts2dt(current['sunset'], '%H:%M')[0]}.\\n\\\r\n",
    "Currently, the weather is {current['weather'][0]['main']} ({current['weather'][0]['description']}).\\n\\\r\n",
    "The temperature is {current['temp']}°C and it feels like {current['feels_like']}°C.\\n\\\r\n",
    "The UV index is {current['uvi']}, humidity is {current['humidity']}%.\\n\\\r\n",
    "The pressure is {current['pressure']} hPa, percentage of cloud cover is {current['clouds']}%\\n\\\r\n",
    "The wind comes from {degrees_to_cardinal(current['wind_deg'])} direction with a speed {current['wind_speed']} m/s.\")"
   ]
  },
  {
   "cell_type": "code",
   "execution_count": 8,
   "metadata": {
    "execution": {
     "iopub.execute_input": "2021-08-24T15:44:12.983296Z",
     "iopub.status.busy": "2021-08-24T15:44:12.982400Z",
     "iopub.status.idle": "2021-08-24T15:44:12.989205Z",
     "shell.execute_reply": "2021-08-24T15:44:12.989847Z"
    }
   },
   "outputs": [],
   "source": [
    "df_hourly = pd.DataFrame(data['hourly'])\r\n",
    "df_daily = pd.DataFrame(data['daily'])"
   ]
  },
  {
   "cell_type": "code",
   "execution_count": 9,
   "metadata": {
    "execution": {
     "iopub.execute_input": "2021-08-24T15:44:12.992825Z",
     "iopub.status.busy": "2021-08-24T15:44:12.991929Z",
     "iopub.status.idle": "2021-08-24T15:44:13.236093Z",
     "shell.execute_reply": "2021-08-24T15:44:13.236452Z"
    }
   },
   "outputs": [
    {
     "data": {
      "image/png": "[encoded data removed]",
      "text/plain": [
       "<Figure size 864x432 with 1 Axes>"
      ]
     },
     "metadata": {
      "needs_background": "light"
     },
     "output_type": "display_data"
    }
   ],
   "source": [
    "fig, ax = plt.subplots(figsize=(12, 6))\r\n",
    "plt.plot(df_hourly.temp, '.-', label='Temperature')\r\n",
    "plt.plot(df_hourly.feels_like, '.-', label='Feels Like')\r\n",
    "ax.set(title='Temperature in future 48 hours', xlabel='Time', ylabel='Temperature')\r\n",
    "ax.set_xticks(list(range(0, len(df_hourly), 2)))\r\n",
    "ax.set_xticklabels([ts2dt(ts, '%m-%d %H:%M')[0] for i, ts in enumerate(df_hourly.dt) if i%2==0], \r\n",
    "                   rotation=45, ha=\"right\")\r\n",
    "ax.locator_params(nbins=15, axis='y')\r\n",
    "plt.legend()\r\n",
    "plt.show()"
   ]
  },
  {
   "cell_type": "code",
   "execution_count": 10,
   "metadata": {
    "execution": {
     "iopub.execute_input": "2021-08-24T15:44:13.247555Z",
     "iopub.status.busy": "2021-08-24T15:44:13.240263Z",
     "iopub.status.idle": "2021-08-24T15:44:13.257636Z",
     "shell.execute_reply": "2021-08-24T15:44:13.258039Z"
    }
   },
   "outputs": [
    {
     "data": {
      "text/html": [
       "<div>\n",
       "<style scoped>\n",
       "    .dataframe tbody tr th:only-of-type {\n",
       "        vertical-align: middle;\n",
       "    }\n",
       "\n",
       "    .dataframe tbody tr th {\n",
       "        vertical-align: top;\n",
       "    }\n",
       "\n",
       "    .dataframe thead th {\n",
       "        text-align: right;\n",
       "    }\n",
       "</style>\n",
       "<table border=\"1\" class=\"dataframe\">\n",
       "  <thead>\n",
       "    <tr style=\"text-align: right;\">\n",
       "      <th></th>\n",
       "      <th>dt</th>\n",
       "      <th>temp</th>\n",
       "      <th>feels_like</th>\n",
       "      <th>pressure</th>\n",
       "      <th>humidity</th>\n",
       "      <th>dew_point</th>\n",
       "      <th>uvi</th>\n",
       "      <th>clouds</th>\n",
       "      <th>visibility</th>\n",
       "      <th>wind_speed</th>\n",
       "      <th>wind_deg</th>\n",
       "      <th>wind_gust</th>\n",
       "      <th>weather</th>\n",
       "      <th>pop</th>\n",
       "      <th>rain</th>\n",
       "    </tr>\n",
       "  </thead>\n",
       "  <tbody>\n",
       "    <tr>\n",
       "      <th>0</th>\n",
       "      <td>1629817200</td>\n",
       "      <td>29.26</td>\n",
       "      <td>35.71</td>\n",
       "      <td>1009</td>\n",
       "      <td>81</td>\n",
       "      <td>25.66</td>\n",
       "      <td>0.0</td>\n",
       "      <td>100</td>\n",
       "      <td>10000</td>\n",
       "      <td>2.69</td>\n",
       "      <td>161</td>\n",
       "      <td>3.81</td>\n",
       "      <td>[{'id': 804, 'main': 'Clouds', 'description': ...</td>\n",
       "      <td>0.13</td>\n",
       "      <td>NaN</td>\n",
       "    </tr>\n",
       "    <tr>\n",
       "      <th>1</th>\n",
       "      <td>1629820800</td>\n",
       "      <td>29.53</td>\n",
       "      <td>36.26</td>\n",
       "      <td>1009</td>\n",
       "      <td>80</td>\n",
       "      <td>25.71</td>\n",
       "      <td>0.0</td>\n",
       "      <td>100</td>\n",
       "      <td>10000</td>\n",
       "      <td>3.09</td>\n",
       "      <td>160</td>\n",
       "      <td>4.39</td>\n",
       "      <td>[{'id': 804, 'main': 'Clouds', 'description': ...</td>\n",
       "      <td>0.16</td>\n",
       "      <td>NaN</td>\n",
       "    </tr>\n",
       "    <tr>\n",
       "      <th>2</th>\n",
       "      <td>1629824400</td>\n",
       "      <td>29.21</td>\n",
       "      <td>35.57</td>\n",
       "      <td>1009</td>\n",
       "      <td>81</td>\n",
       "      <td>25.61</td>\n",
       "      <td>0.0</td>\n",
       "      <td>100</td>\n",
       "      <td>10000</td>\n",
       "      <td>3.25</td>\n",
       "      <td>168</td>\n",
       "      <td>4.65</td>\n",
       "      <td>[{'id': 804, 'main': 'Clouds', 'description': ...</td>\n",
       "      <td>0.21</td>\n",
       "      <td>NaN</td>\n",
       "    </tr>\n",
       "    <tr>\n",
       "      <th>3</th>\n",
       "      <td>1629828000</td>\n",
       "      <td>28.84</td>\n",
       "      <td>34.72</td>\n",
       "      <td>1009</td>\n",
       "      <td>82</td>\n",
       "      <td>25.46</td>\n",
       "      <td>0.0</td>\n",
       "      <td>100</td>\n",
       "      <td>10000</td>\n",
       "      <td>3.03</td>\n",
       "      <td>177</td>\n",
       "      <td>4.30</td>\n",
       "      <td>[{'id': 804, 'main': 'Clouds', 'description': ...</td>\n",
       "      <td>0.23</td>\n",
       "      <td>NaN</td>\n",
       "    </tr>\n",
       "    <tr>\n",
       "      <th>4</th>\n",
       "      <td>1629831600</td>\n",
       "      <td>28.43</td>\n",
       "      <td>33.57</td>\n",
       "      <td>1008</td>\n",
       "      <td>82</td>\n",
       "      <td>25.06</td>\n",
       "      <td>0.0</td>\n",
       "      <td>100</td>\n",
       "      <td>10000</td>\n",
       "      <td>2.77</td>\n",
       "      <td>186</td>\n",
       "      <td>4.12</td>\n",
       "      <td>[{'id': 500, 'main': 'Rain', 'description': 'l...</td>\n",
       "      <td>0.49</td>\n",
       "      <td>{'1h': 0.24}</td>\n",
       "    </tr>\n",
       "  </tbody>\n",
       "</table>\n",
       "</div>"
      ],
      "text/plain": [
       "           dt   temp  feels_like  pressure  humidity  dew_point  uvi  clouds  \\\n",
       "0  1629817200  29.26       35.71      1009        81      25.66  0.0     100   \n",
       "1  1629820800  29.53       36.26      1009        80      25.71  0.0     100   \n",
       "2  1629824400  29.21       35.57      1009        81      25.61  0.0     100   \n",
       "3  1629828000  28.84       34.72      1009        82      25.46  0.0     100   \n",
       "4  1629831600  28.43       33.57      1008        82      25.06  0.0     100   \n",
       "\n",
       "   visibility  wind_speed  wind_deg  wind_gust  \\\n",
       "0       10000        2.69       161       3.81   \n",
       "1       10000        3.09       160       4.39   \n",
       "2       10000        3.25       168       4.65   \n",
       "3       10000        3.03       177       4.30   \n",
       "4       10000        2.77       186       4.12   \n",
       "\n",
       "                                             weather   pop          rain  \n",
       "0  [{'id': 804, 'main': 'Clouds', 'description': ...  0.13           NaN  \n",
       "1  [{'id': 804, 'main': 'Clouds', 'description': ...  0.16           NaN  \n",
       "2  [{'id': 804, 'main': 'Clouds', 'description': ...  0.21           NaN  \n",
       "3  [{'id': 804, 'main': 'Clouds', 'description': ...  0.23           NaN  \n",
       "4  [{'id': 500, 'main': 'Rain', 'description': 'l...  0.49  {'1h': 0.24}  "
      ]
     },
     "execution_count": 10,
     "metadata": {},
     "output_type": "execute_result"
    }
   ],
   "source": [
    "df_hourly.head()"
   ]
  },
  {
   "cell_type": "code",
   "execution_count": null,
   "metadata": {},
   "outputs": [],
   "source": []
  }
 ],
 "metadata": {
  "interpreter": {
   "hash": "c1b4cfe941b6d2466ad1fb5979e97da9cda8801728c8091b097ab734208fc00c"
  },
  "kernelspec": {
   "display_name": "Python 3.8.3 64-bit ('base': conda)",
   "name": "python3"
  },
  "language_info": {
   "codemirror_mode": {
    "name": "ipython",
    "version": 3
   },
   "file_extension": ".py",
   "mimetype": "text/x-python",
   "name": "python",
   "nbconvert_exporter": "python",
   "pygments_lexer": "ipython3",
   "version": "3.8.11"
  }
 },
 "nbformat": 4,
 "nbformat_minor": 2
}
