{
 "cells": [
  {
   "cell_type": "code",
   "execution_count": 1,
   "metadata": {
    "execution": {
     "iopub.execute_input": "2021-10-13T04:15:03.571217Z",
     "iopub.status.busy": "2021-10-13T04:15:03.570696Z",
     "iopub.status.idle": "2021-10-13T04:15:04.666405Z",
     "shell.execute_reply": "2021-10-13T04:15:04.666819Z"
    }
   },
   "outputs": [],
   "source": [
    "import json, yaml, requests\r\n",
    "from datetime import datetime\r\n",
    "from dateutil import tz\r\n",
    "import pandas as pd\r\n",
    "from PIL import Image\r\n",
    "from io import BytesIO\r\n",
    "import matplotlib.pyplot as plt\r\n",
    "import seaborn\r\n",
    "\r\n",
    "CONFIG_PATH = \"../config/config.yaml\""
   ]
  },
  {
   "cell_type": "code",
   "execution_count": 2,
   "metadata": {
    "execution": {
     "iopub.execute_input": "2021-10-13T04:15:04.674110Z",
     "iopub.status.busy": "2021-10-13T04:15:04.671340Z",
     "iopub.status.idle": "2021-10-13T04:15:04.676735Z",
     "shell.execute_reply": "2021-10-13T04:15:04.676361Z"
    }
   },
   "outputs": [],
   "source": [
    "with open('../newest_ts', 'r') as f:\r\n",
    "    newest_ts = f.read()\r\n",
    "\r\n",
    "data_path = f\"../data/data_{newest_ts}.json\"\r\n",
    "with open(data_path, 'r') as f:\r\n",
    "    data = json.load(f)\r\n",
    "\r\n",
    "with open(CONFIG_PATH, \"r\") as stream:\r\n",
    "    config = yaml.safe_load(stream)\r\n",
    "\r\n",
    "TIME_ZONE = config['time_zone']\r\n",
    "DATETIME_FORMAT = config['dt_format']"
   ]
  },
  {
   "cell_type": "code",
   "execution_count": 3,
   "metadata": {
    "execution": {
     "iopub.execute_input": "2021-10-13T04:15:04.680580Z",
     "iopub.status.busy": "2021-10-13T04:15:04.678518Z",
     "iopub.status.idle": "2021-10-13T04:15:04.686068Z",
     "shell.execute_reply": "2021-10-13T04:15:04.686439Z"
    }
   },
   "outputs": [
    {
     "name": "stdout",
     "output_type": "stream",
     "text": [
      "Recent query happens at 2021-10-13 12:15:00 (CST).\n"
     ]
    }
   ],
   "source": [
    "def ts2dt(ts, format=DATETIME_FORMAT):\r\n",
    "    dt = (datetime.utcfromtimestamp(int(ts))\r\n",
    "                    .replace(tzinfo=tz.tzutc())\r\n",
    "                    # .astimezone(tz.tzlocal())\r\n",
    "                    .astimezone(tz.gettz(TIME_ZONE)))\r\n",
    "    return dt.strftime(format), dt\r\n",
    "\r\n",
    "_, newest_dt = ts2dt(newest_ts)\r\n",
    "print(f\"Recent query happens at {newest_dt.strftime(DATETIME_FORMAT)} ({newest_dt.tzname()}).\")"
   ]
  },
  {
   "cell_type": "code",
   "execution_count": 4,
   "metadata": {
    "execution": {
     "iopub.execute_input": "2021-10-13T04:15:04.691265Z",
     "iopub.status.busy": "2021-10-13T04:15:04.690235Z",
     "iopub.status.idle": "2021-10-13T04:15:04.691785Z",
     "shell.execute_reply": "2021-10-13T04:15:04.692145Z"
    }
   },
   "outputs": [],
   "source": [
    "def degrees_to_cardinal(d):\r\n",
    "  dirs = ['N', 'NNE', 'NE', 'ENE', 'E', 'ESE', 'SE', 'SSE', 'S', 'SSW', 'SW', 'WSW', 'W', 'WNW', 'NW', 'NNW']\r\n",
    "  ix = int(round(d / (360. / len(dirs))))\r\n",
    "  return dirs[ix % len(dirs)]"
   ]
  },
  {
   "cell_type": "code",
   "execution_count": 5,
   "metadata": {
    "execution": {
     "iopub.execute_input": "2021-10-13T04:15:04.695933Z",
     "iopub.status.busy": "2021-10-13T04:15:04.694938Z",
     "iopub.status.idle": "2021-10-13T04:15:04.696455Z",
     "shell.execute_reply": "2021-10-13T04:15:04.696816Z"
    }
   },
   "outputs": [],
   "source": [
    "# data.keys()"
   ]
  },
  {
   "cell_type": "code",
   "execution_count": 6,
   "metadata": {
    "execution": {
     "iopub.execute_input": "2021-10-13T04:15:04.700448Z",
     "iopub.status.busy": "2021-10-13T04:15:04.699365Z",
     "iopub.status.idle": "2021-10-13T04:15:04.700992Z",
     "shell.execute_reply": "2021-10-13T04:15:04.701363Z"
    }
   },
   "outputs": [],
   "source": [
    "# data['current']"
   ]
  },
  {
   "cell_type": "code",
   "execution_count": 7,
   "metadata": {
    "execution": {
     "iopub.execute_input": "2021-10-13T04:15:04.717110Z",
     "iopub.status.busy": "2021-10-13T04:15:04.706672Z",
     "iopub.status.idle": "2021-10-13T04:15:05.087571Z",
     "shell.execute_reply": "2021-10-13T04:15:05.087945Z"
    }
   },
   "outputs": [
    {
     "data": {
      "image/png": "[encoded data removed]",
      "text/plain": [
       "<Figure size 216x216 with 1 Axes>"
      ]
     },
     "metadata": {
      "needs_background": "light"
     },
     "output_type": "display_data"
    },
    {
     "name": "stdout",
     "output_type": "stream",
     "text": [
      "Today, sun rises at 06:18 and sets at 17:59.\n",
      "Currently, the weather is Rain (light rain).\n",
      "The temperature is 27.02°C and it feels like 30.79°C.\n",
      "The UV index is 0.68, humidity is 90%.\n",
      "The pressure is 1014 hPa, percentage of cloud cover is 100%\n",
      "The wind comes from E direction with a speed 2.24 m/s.\n"
     ]
    }
   ],
   "source": [
    "current = data['current']\r\n",
    "\r\n",
    "fig, ax = plt.subplots(figsize=(3, 3))\r\n",
    "icon = requests.get(f\"http://openweathermap.org/img/wn/{current['weather'][0]['icon']}@2x.png\")\r\n",
    "im = Image.open(BytesIO(icon.content))\r\n",
    "plt.imshow(im)\r\n",
    "ax.set_axis_off()\r\n",
    "plt.show()\r\n",
    "\r\n",
    "print(f\"Today, sun rises at {ts2dt(current['sunrise'], '%H:%M')[0]} \\\r\n",
    "and sets at {ts2dt(current['sunset'], '%H:%M')[0]}.\\n\\\r\n",
    "Currently, the weather is {current['weather'][0]['main']} ({current['weather'][0]['description']}).\\n\\\r\n",
    "The temperature is {current['temp']}°C and it feels like {current['feels_like']}°C.\\n\\\r\n",
    "The UV index is {current['uvi']}, humidity is {current['humidity']}%.\\n\\\r\n",
    "The pressure is {current['pressure']} hPa, percentage of cloud cover is {current['clouds']}%\\n\\\r\n",
    "The wind comes from {degrees_to_cardinal(current['wind_deg'])} direction with a speed {current['wind_speed']} m/s.\")"
   ]
  },
  {
   "cell_type": "code",
   "execution_count": 8,
   "metadata": {
    "execution": {
     "iopub.execute_input": "2021-10-13T04:15:05.090494Z",
     "iopub.status.busy": "2021-10-13T04:15:05.090047Z",
     "iopub.status.idle": "2021-10-13T04:15:05.095529Z",
     "shell.execute_reply": "2021-10-13T04:15:05.095957Z"
    }
   },
   "outputs": [],
   "source": [
    "df_hourly = pd.DataFrame(data['hourly'])\r\n",
    "df_daily = pd.DataFrame(data['daily'])"
   ]
  },
  {
   "cell_type": "code",
   "execution_count": 9,
   "metadata": {
    "execution": {
     "iopub.execute_input": "2021-10-13T04:15:05.098304Z",
     "iopub.status.busy": "2021-10-13T04:15:05.097845Z",
     "iopub.status.idle": "2021-10-13T04:15:05.327999Z",
     "shell.execute_reply": "2021-10-13T04:15:05.327575Z"
    }
   },
   "outputs": [
    {
     "data": {
      "image/png": "[encoded data removed]",
      "text/plain": [
       "<Figure size 864x432 with 1 Axes>"
      ]
     },
     "metadata": {
      "needs_background": "light"
     },
     "output_type": "display_data"
    }
   ],
   "source": [
    "fig, ax = plt.subplots(figsize=(12, 6))\r\n",
    "plt.plot(df_hourly.temp, '.-', label='Temperature')\r\n",
    "plt.plot(df_hourly.feels_like, '.-', label='Feels Like')\r\n",
    "ax.set(title='Temperature in future 48 hours', xlabel='Time', ylabel='Temperature')\r\n",
    "ax.set_xticks(list(range(0, len(df_hourly), 2)))\r\n",
    "ax.set_xticklabels([ts2dt(ts, '%m-%d %H:%M')[0] for i, ts in enumerate(df_hourly.dt) if i%2==0], \r\n",
    "                   rotation=45, ha=\"right\")\r\n",
    "ax.locator_params(nbins=15, axis='y')\r\n",
    "plt.legend()\r\n",
    "plt.show()"
   ]
  },
  {
   "cell_type": "code",
   "execution_count": 10,
   "metadata": {
    "execution": {
     "iopub.execute_input": "2021-10-13T04:15:05.332595Z",
     "iopub.status.busy": "2021-10-13T04:15:05.332138Z",
     "iopub.status.idle": "2021-10-13T04:15:05.351806Z",
     "shell.execute_reply": "2021-10-13T04:15:05.351072Z"
    }
   },
   "outputs": [
    {
     "data": {
      "text/html": [
       "<div>\n",
       "<style scoped>\n",
       "    .dataframe tbody tr th:only-of-type {\n",
       "        vertical-align: middle;\n",
       "    }\n",
       "\n",
       "    .dataframe tbody tr th {\n",
       "        vertical-align: top;\n",
       "    }\n",
       "\n",
       "    .dataframe thead th {\n",
       "        text-align: right;\n",
       "    }\n",
       "</style>\n",
       "<table border=\"1\" class=\"dataframe\">\n",
       "  <thead>\n",
       "    <tr style=\"text-align: right;\">\n",
       "      <th></th>\n",
       "      <th>dt</th>\n",
       "      <th>temp</th>\n",
       "      <th>feels_like</th>\n",
       "      <th>pressure</th>\n",
       "      <th>humidity</th>\n",
       "      <th>dew_point</th>\n",
       "      <th>uvi</th>\n",
       "      <th>clouds</th>\n",
       "      <th>visibility</th>\n",
       "      <th>wind_speed</th>\n",
       "      <th>wind_deg</th>\n",
       "      <th>wind_gust</th>\n",
       "      <th>weather</th>\n",
       "      <th>pop</th>\n",
       "      <th>rain</th>\n",
       "    </tr>\n",
       "  </thead>\n",
       "  <tbody>\n",
       "    <tr>\n",
       "      <th>0</th>\n",
       "      <td>1634097600</td>\n",
       "      <td>27.02</td>\n",
       "      <td>30.79</td>\n",
       "      <td>1014</td>\n",
       "      <td>90</td>\n",
       "      <td>25.24</td>\n",
       "      <td>0.68</td>\n",
       "      <td>100</td>\n",
       "      <td>5372</td>\n",
       "      <td>12.40</td>\n",
       "      <td>89</td>\n",
       "      <td>17.57</td>\n",
       "      <td>[{'id': 501, 'main': 'Rain', 'description': 'm...</td>\n",
       "      <td>1.0</td>\n",
       "      <td>{'1h': 3.82}</td>\n",
       "    </tr>\n",
       "    <tr>\n",
       "      <th>1</th>\n",
       "      <td>1634101200</td>\n",
       "      <td>26.84</td>\n",
       "      <td>30.38</td>\n",
       "      <td>1012</td>\n",
       "      <td>91</td>\n",
       "      <td>25.25</td>\n",
       "      <td>0.67</td>\n",
       "      <td>100</td>\n",
       "      <td>6661</td>\n",
       "      <td>12.62</td>\n",
       "      <td>88</td>\n",
       "      <td>18.08</td>\n",
       "      <td>[{'id': 500, 'main': 'Rain', 'description': 'l...</td>\n",
       "      <td>1.0</td>\n",
       "      <td>{'1h': 0.42}</td>\n",
       "    </tr>\n",
       "    <tr>\n",
       "      <th>2</th>\n",
       "      <td>1634104800</td>\n",
       "      <td>26.80</td>\n",
       "      <td>30.26</td>\n",
       "      <td>1010</td>\n",
       "      <td>91</td>\n",
       "      <td>25.21</td>\n",
       "      <td>0.54</td>\n",
       "      <td>100</td>\n",
       "      <td>7585</td>\n",
       "      <td>11.04</td>\n",
       "      <td>102</td>\n",
       "      <td>15.88</td>\n",
       "      <td>[{'id': 804, 'main': 'Clouds', 'description': ...</td>\n",
       "      <td>0.8</td>\n",
       "      <td>NaN</td>\n",
       "    </tr>\n",
       "    <tr>\n",
       "      <th>3</th>\n",
       "      <td>1634108400</td>\n",
       "      <td>26.59</td>\n",
       "      <td>26.59</td>\n",
       "      <td>1007</td>\n",
       "      <td>92</td>\n",
       "      <td>25.18</td>\n",
       "      <td>0.73</td>\n",
       "      <td>100</td>\n",
       "      <td>8488</td>\n",
       "      <td>11.24</td>\n",
       "      <td>96</td>\n",
       "      <td>15.23</td>\n",
       "      <td>[{'id': 501, 'main': 'Rain', 'description': 'm...</td>\n",
       "      <td>1.0</td>\n",
       "      <td>{'1h': 1.51}</td>\n",
       "    </tr>\n",
       "    <tr>\n",
       "      <th>4</th>\n",
       "      <td>1634112000</td>\n",
       "      <td>26.49</td>\n",
       "      <td>26.49</td>\n",
       "      <td>1005</td>\n",
       "      <td>88</td>\n",
       "      <td>24.34</td>\n",
       "      <td>0.35</td>\n",
       "      <td>100</td>\n",
       "      <td>9846</td>\n",
       "      <td>9.71</td>\n",
       "      <td>98</td>\n",
       "      <td>13.49</td>\n",
       "      <td>[{'id': 501, 'main': 'Rain', 'description': 'm...</td>\n",
       "      <td>1.0</td>\n",
       "      <td>{'1h': 1.05}</td>\n",
       "    </tr>\n",
       "  </tbody>\n",
       "</table>\n",
       "</div>"
      ],
      "text/plain": [
       "           dt   temp  feels_like  pressure  humidity  dew_point   uvi  clouds  \\\n",
       "0  1634097600  27.02       30.79      1014        90      25.24  0.68     100   \n",
       "1  1634101200  26.84       30.38      1012        91      25.25  0.67     100   \n",
       "2  1634104800  26.80       30.26      1010        91      25.21  0.54     100   \n",
       "3  1634108400  26.59       26.59      1007        92      25.18  0.73     100   \n",
       "4  1634112000  26.49       26.49      1005        88      24.34  0.35     100   \n",
       "\n",
       "   visibility  wind_speed  wind_deg  wind_gust  \\\n",
       "0        5372       12.40        89      17.57   \n",
       "1        6661       12.62        88      18.08   \n",
       "2        7585       11.04       102      15.88   \n",
       "3        8488       11.24        96      15.23   \n",
       "4        9846        9.71        98      13.49   \n",
       "\n",
       "                                             weather  pop          rain  \n",
       "0  [{'id': 501, 'main': 'Rain', 'description': 'm...  1.0  {'1h': 3.82}  \n",
       "1  [{'id': 500, 'main': 'Rain', 'description': 'l...  1.0  {'1h': 0.42}  \n",
       "2  [{'id': 804, 'main': 'Clouds', 'description': ...  0.8           NaN  \n",
       "3  [{'id': 501, 'main': 'Rain', 'description': 'm...  1.0  {'1h': 1.51}  \n",
       "4  [{'id': 501, 'main': 'Rain', 'description': 'm...  1.0  {'1h': 1.05}  "
      ]
     },
     "execution_count": 10,
     "metadata": {},
     "output_type": "execute_result"
    }
   ],
   "source": [
    "df_hourly.head()"
   ]
  },
  {
   "cell_type": "code",
   "execution_count": null,
   "metadata": {},
   "outputs": [],
   "source": []
  }
 ],
 "metadata": {
  "interpreter": {
   "hash": "c1b4cfe941b6d2466ad1fb5979e97da9cda8801728c8091b097ab734208fc00c"
  },
  "kernelspec": {
   "display_name": "Python 3.8.3 64-bit ('base': conda)",
   "name": "python3"
  },
  "language_info": {
   "codemirror_mode": {
    "name": "ipython",
    "version": 3
   },
   "file_extension": ".py",
   "mimetype": "text/x-python",
   "name": "python",
   "nbconvert_exporter": "python",
   "pygments_lexer": "ipython3",
   "version": "3.8.12"
  }
 },
 "nbformat": 4,
 "nbformat_minor": 2
}
