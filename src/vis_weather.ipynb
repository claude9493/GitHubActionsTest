{
 "cells": [
  {
   "cell_type": "code",
   "execution_count": 1,
   "metadata": {
    "execution": {
     "iopub.execute_input": "2021-10-06T22:11:33.591924Z",
     "iopub.status.busy": "2021-10-06T22:11:33.591280Z",
     "iopub.status.idle": "2021-10-06T22:11:36.298819Z",
     "shell.execute_reply": "2021-10-06T22:11:36.298164Z"
    }
   },
   "outputs": [],
   "source": [
    "import json, yaml, requests\r\n",
    "from datetime import datetime\r\n",
    "from dateutil import tz\r\n",
    "import pandas as pd\r\n",
    "from PIL import Image\r\n",
    "from io import BytesIO\r\n",
    "import matplotlib.pyplot as plt\r\n",
    "import seaborn\r\n",
    "\r\n",
    "CONFIG_PATH = \"../config/config.yaml\""
   ]
  },
  {
   "cell_type": "code",
   "execution_count": 2,
   "metadata": {
    "execution": {
     "iopub.execute_input": "2021-10-06T22:11:36.307585Z",
     "iopub.status.busy": "2021-10-06T22:11:36.304395Z",
     "iopub.status.idle": "2021-10-06T22:11:36.310624Z",
     "shell.execute_reply": "2021-10-06T22:11:36.309838Z"
    }
   },
   "outputs": [],
   "source": [
    "with open('../newest_ts', 'r') as f:\r\n",
    "    newest_ts = f.read()\r\n",
    "\r\n",
    "data_path = f\"../data/data_{newest_ts}.json\"\r\n",
    "with open(data_path, 'r') as f:\r\n",
    "    data = json.load(f)\r\n",
    "\r\n",
    "with open(CONFIG_PATH, \"r\") as stream:\r\n",
    "    config = yaml.safe_load(stream)\r\n",
    "\r\n",
    "TIME_ZONE = config['time_zone']\r\n",
    "DATETIME_FORMAT = config['dt_format']"
   ]
  },
  {
   "cell_type": "code",
   "execution_count": 3,
   "metadata": {
    "execution": {
     "iopub.execute_input": "2021-10-06T22:11:36.315693Z",
     "iopub.status.busy": "2021-10-06T22:11:36.315093Z",
     "iopub.status.idle": "2021-10-06T22:11:36.321021Z",
     "shell.execute_reply": "2021-10-06T22:11:36.320625Z"
    }
   },
   "outputs": [
    {
     "name": "stdout",
     "output_type": "stream",
     "text": [
      "Recent query happens at 2021-10-07 06:11:30 (CST).\n"
     ]
    }
   ],
   "source": [
    "def ts2dt(ts, format=DATETIME_FORMAT):\r\n",
    "    dt = (datetime.utcfromtimestamp(int(ts))\r\n",
    "                    .replace(tzinfo=tz.tzutc())\r\n",
    "                    # .astimezone(tz.tzlocal())\r\n",
    "                    .astimezone(tz.gettz(TIME_ZONE)))\r\n",
    "    return dt.strftime(format), dt\r\n",
    "\r\n",
    "_, newest_dt = ts2dt(newest_ts)\r\n",
    "print(f\"Recent query happens at {newest_dt.strftime(DATETIME_FORMAT)} ({newest_dt.tzname()}).\")"
   ]
  },
  {
   "cell_type": "code",
   "execution_count": 4,
   "metadata": {
    "execution": {
     "iopub.execute_input": "2021-10-06T22:11:36.325612Z",
     "iopub.status.busy": "2021-10-06T22:11:36.325084Z",
     "iopub.status.idle": "2021-10-06T22:11:36.328390Z",
     "shell.execute_reply": "2021-10-06T22:11:36.327952Z"
    }
   },
   "outputs": [],
   "source": [
    "def degrees_to_cardinal(d):\r\n",
    "  dirs = ['N', 'NNE', 'NE', 'ENE', 'E', 'ESE', 'SE', 'SSE', 'S', 'SSW', 'SW', 'WSW', 'W', 'WNW', 'NW', 'NNW']\r\n",
    "  ix = int(round(d / (360. / len(dirs))))\r\n",
    "  return dirs[ix % len(dirs)]"
   ]
  },
  {
   "cell_type": "code",
   "execution_count": 5,
   "metadata": {
    "execution": {
     "iopub.execute_input": "2021-10-06T22:11:36.332640Z",
     "iopub.status.busy": "2021-10-06T22:11:36.331527Z",
     "iopub.status.idle": "2021-10-06T22:11:36.333194Z",
     "shell.execute_reply": "2021-10-06T22:11:36.333585Z"
    }
   },
   "outputs": [],
   "source": [
    "# data.keys()"
   ]
  },
  {
   "cell_type": "code",
   "execution_count": 6,
   "metadata": {
    "execution": {
     "iopub.execute_input": "2021-10-06T22:11:36.337852Z",
     "iopub.status.busy": "2021-10-06T22:11:36.336558Z",
     "iopub.status.idle": "2021-10-06T22:11:36.338412Z",
     "shell.execute_reply": "2021-10-06T22:11:36.338805Z"
    }
   },
   "outputs": [],
   "source": [
    "# data['current']"
   ]
  },
  {
   "cell_type": "code",
   "execution_count": 7,
   "metadata": {
    "execution": {
     "iopub.execute_input": "2021-10-06T22:11:36.357061Z",
     "iopub.status.busy": "2021-10-06T22:11:36.344775Z",
     "iopub.status.idle": "2021-10-06T22:11:36.741619Z",
     "shell.execute_reply": "2021-10-06T22:11:36.742408Z"
    }
   },
   "outputs": [
    {
     "data": {
      "image/png": "[encoded data removed]",
      "text/plain": [
       "<Figure size 216x216 with 1 Axes>"
      ]
     },
     "metadata": {
      "needs_background": "light"
     },
     "output_type": "display_data"
    },
    {
     "name": "stdout",
     "output_type": "stream",
     "text": [
      "Today, sun rises at 06:16 and sets at 18:05.\n",
      "Currently, the weather is Clear (clear sky).\n",
      "The temperature is 28.71°C and it feels like 33.17°C.\n",
      "The UV index is 0, humidity is 76%.\n",
      "The pressure is 1005 hPa, percentage of cloud cover is 6%\n",
      "The wind comes from W direction with a speed 0.45 m/s.\n"
     ]
    }
   ],
   "source": [
    "current = data['current']\r\n",
    "\r\n",
    "fig, ax = plt.subplots(figsize=(3, 3))\r\n",
    "icon = requests.get(f\"http://openweathermap.org/img/wn/{current['weather'][0]['icon']}@2x.png\")\r\n",
    "im = Image.open(BytesIO(icon.content))\r\n",
    "plt.imshow(im)\r\n",
    "ax.set_axis_off()\r\n",
    "plt.show()\r\n",
    "\r\n",
    "print(f\"Today, sun rises at {ts2dt(current['sunrise'], '%H:%M')[0]} \\\r\n",
    "and sets at {ts2dt(current['sunset'], '%H:%M')[0]}.\\n\\\r\n",
    "Currently, the weather is {current['weather'][0]['main']} ({current['weather'][0]['description']}).\\n\\\r\n",
    "The temperature is {current['temp']}°C and it feels like {current['feels_like']}°C.\\n\\\r\n",
    "The UV index is {current['uvi']}, humidity is {current['humidity']}%.\\n\\\r\n",
    "The pressure is {current['pressure']} hPa, percentage of cloud cover is {current['clouds']}%\\n\\\r\n",
    "The wind comes from {degrees_to_cardinal(current['wind_deg'])} direction with a speed {current['wind_speed']} m/s.\")"
   ]
  },
  {
   "cell_type": "code",
   "execution_count": 8,
   "metadata": {
    "execution": {
     "iopub.execute_input": "2021-10-06T22:11:36.745737Z",
     "iopub.status.busy": "2021-10-06T22:11:36.744839Z",
     "iopub.status.idle": "2021-10-06T22:11:36.752028Z",
     "shell.execute_reply": "2021-10-06T22:11:36.752808Z"
    }
   },
   "outputs": [],
   "source": [
    "df_hourly = pd.DataFrame(data['hourly'])\r\n",
    "df_daily = pd.DataFrame(data['daily'])"
   ]
  },
  {
   "cell_type": "code",
   "execution_count": 9,
   "metadata": {
    "execution": {
     "iopub.execute_input": "2021-10-06T22:11:36.755814Z",
     "iopub.status.busy": "2021-10-06T22:11:36.754860Z",
     "iopub.status.idle": "2021-10-06T22:11:37.016172Z",
     "shell.execute_reply": "2021-10-06T22:11:37.015635Z"
    }
   },
   "outputs": [
    {
     "data": {
      "image/png": "[encoded data removed]",
      "text/plain": [
       "<Figure size 864x432 with 1 Axes>"
      ]
     },
     "metadata": {
      "needs_background": "light"
     },
     "output_type": "display_data"
    }
   ],
   "source": [
    "fig, ax = plt.subplots(figsize=(12, 6))\r\n",
    "plt.plot(df_hourly.temp, '.-', label='Temperature')\r\n",
    "plt.plot(df_hourly.feels_like, '.-', label='Feels Like')\r\n",
    "ax.set(title='Temperature in future 48 hours', xlabel='Time', ylabel='Temperature')\r\n",
    "ax.set_xticks(list(range(0, len(df_hourly), 2)))\r\n",
    "ax.set_xticklabels([ts2dt(ts, '%m-%d %H:%M')[0] for i, ts in enumerate(df_hourly.dt) if i%2==0], \r\n",
    "                   rotation=45, ha=\"right\")\r\n",
    "ax.locator_params(nbins=15, axis='y')\r\n",
    "plt.legend()\r\n",
    "plt.show()"
   ]
  },
  {
   "cell_type": "code",
   "execution_count": 10,
   "metadata": {
    "execution": {
     "iopub.execute_input": "2021-10-06T22:11:37.026990Z",
     "iopub.status.busy": "2021-10-06T22:11:37.019991Z",
     "iopub.status.idle": "2021-10-06T22:11:37.038786Z",
     "shell.execute_reply": "2021-10-06T22:11:37.038325Z"
    }
   },
   "outputs": [
    {
     "data": {
      "text/html": [
       "<div>\n",
       "<style scoped>\n",
       "    .dataframe tbody tr th:only-of-type {\n",
       "        vertical-align: middle;\n",
       "    }\n",
       "\n",
       "    .dataframe tbody tr th {\n",
       "        vertical-align: top;\n",
       "    }\n",
       "\n",
       "    .dataframe thead th {\n",
       "        text-align: right;\n",
       "    }\n",
       "</style>\n",
       "<table border=\"1\" class=\"dataframe\">\n",
       "  <thead>\n",
       "    <tr style=\"text-align: right;\">\n",
       "      <th></th>\n",
       "      <th>dt</th>\n",
       "      <th>temp</th>\n",
       "      <th>feels_like</th>\n",
       "      <th>pressure</th>\n",
       "      <th>humidity</th>\n",
       "      <th>dew_point</th>\n",
       "      <th>uvi</th>\n",
       "      <th>clouds</th>\n",
       "      <th>visibility</th>\n",
       "      <th>wind_speed</th>\n",
       "      <th>wind_deg</th>\n",
       "      <th>wind_gust</th>\n",
       "      <th>weather</th>\n",
       "      <th>pop</th>\n",
       "      <th>rain</th>\n",
       "    </tr>\n",
       "  </thead>\n",
       "  <tbody>\n",
       "    <tr>\n",
       "      <th>0</th>\n",
       "      <td>1633557600</td>\n",
       "      <td>28.71</td>\n",
       "      <td>33.17</td>\n",
       "      <td>1005</td>\n",
       "      <td>76</td>\n",
       "      <td>24.06</td>\n",
       "      <td>0.00</td>\n",
       "      <td>6</td>\n",
       "      <td>10000</td>\n",
       "      <td>9.47</td>\n",
       "      <td>68</td>\n",
       "      <td>13.42</td>\n",
       "      <td>[{'id': 500, 'main': 'Rain', 'description': 'l...</td>\n",
       "      <td>0.81</td>\n",
       "      <td>{'1h': 0.17}</td>\n",
       "    </tr>\n",
       "    <tr>\n",
       "      <th>1</th>\n",
       "      <td>1633561200</td>\n",
       "      <td>28.43</td>\n",
       "      <td>32.84</td>\n",
       "      <td>1005</td>\n",
       "      <td>78</td>\n",
       "      <td>24.22</td>\n",
       "      <td>0.13</td>\n",
       "      <td>6</td>\n",
       "      <td>10000</td>\n",
       "      <td>9.02</td>\n",
       "      <td>64</td>\n",
       "      <td>13.20</td>\n",
       "      <td>[{'id': 800, 'main': 'Clear', 'description': '...</td>\n",
       "      <td>0.81</td>\n",
       "      <td>NaN</td>\n",
       "    </tr>\n",
       "    <tr>\n",
       "      <th>2</th>\n",
       "      <td>1633564800</td>\n",
       "      <td>28.38</td>\n",
       "      <td>32.55</td>\n",
       "      <td>1006</td>\n",
       "      <td>77</td>\n",
       "      <td>23.96</td>\n",
       "      <td>0.88</td>\n",
       "      <td>6</td>\n",
       "      <td>10000</td>\n",
       "      <td>8.77</td>\n",
       "      <td>62</td>\n",
       "      <td>13.18</td>\n",
       "      <td>[{'id': 500, 'main': 'Rain', 'description': 'l...</td>\n",
       "      <td>0.77</td>\n",
       "      <td>{'1h': 0.12}</td>\n",
       "    </tr>\n",
       "    <tr>\n",
       "      <th>3</th>\n",
       "      <td>1633568400</td>\n",
       "      <td>28.61</td>\n",
       "      <td>32.57</td>\n",
       "      <td>1007</td>\n",
       "      <td>74</td>\n",
       "      <td>23.52</td>\n",
       "      <td>2.63</td>\n",
       "      <td>7</td>\n",
       "      <td>10000</td>\n",
       "      <td>8.76</td>\n",
       "      <td>64</td>\n",
       "      <td>13.19</td>\n",
       "      <td>[{'id': 800, 'main': 'Clear', 'description': '...</td>\n",
       "      <td>0.23</td>\n",
       "      <td>NaN</td>\n",
       "    </tr>\n",
       "    <tr>\n",
       "      <th>4</th>\n",
       "      <td>1633572000</td>\n",
       "      <td>29.12</td>\n",
       "      <td>33.19</td>\n",
       "      <td>1007</td>\n",
       "      <td>71</td>\n",
       "      <td>23.32</td>\n",
       "      <td>5.11</td>\n",
       "      <td>16</td>\n",
       "      <td>10000</td>\n",
       "      <td>9.11</td>\n",
       "      <td>64</td>\n",
       "      <td>13.25</td>\n",
       "      <td>[{'id': 801, 'main': 'Clouds', 'description': ...</td>\n",
       "      <td>0.21</td>\n",
       "      <td>NaN</td>\n",
       "    </tr>\n",
       "  </tbody>\n",
       "</table>\n",
       "</div>"
      ],
      "text/plain": [
       "           dt   temp  feels_like  pressure  humidity  dew_point   uvi  clouds  \\\n",
       "0  1633557600  28.71       33.17      1005        76      24.06  0.00       6   \n",
       "1  1633561200  28.43       32.84      1005        78      24.22  0.13       6   \n",
       "2  1633564800  28.38       32.55      1006        77      23.96  0.88       6   \n",
       "3  1633568400  28.61       32.57      1007        74      23.52  2.63       7   \n",
       "4  1633572000  29.12       33.19      1007        71      23.32  5.11      16   \n",
       "\n",
       "   visibility  wind_speed  wind_deg  wind_gust  \\\n",
       "0       10000        9.47        68      13.42   \n",
       "1       10000        9.02        64      13.20   \n",
       "2       10000        8.77        62      13.18   \n",
       "3       10000        8.76        64      13.19   \n",
       "4       10000        9.11        64      13.25   \n",
       "\n",
       "                                             weather   pop          rain  \n",
       "0  [{'id': 500, 'main': 'Rain', 'description': 'l...  0.81  {'1h': 0.17}  \n",
       "1  [{'id': 800, 'main': 'Clear', 'description': '...  0.81           NaN  \n",
       "2  [{'id': 500, 'main': 'Rain', 'description': 'l...  0.77  {'1h': 0.12}  \n",
       "3  [{'id': 800, 'main': 'Clear', 'description': '...  0.23           NaN  \n",
       "4  [{'id': 801, 'main': 'Clouds', 'description': ...  0.21           NaN  "
      ]
     },
     "execution_count": 10,
     "metadata": {},
     "output_type": "execute_result"
    }
   ],
   "source": [
    "df_hourly.head()"
   ]
  },
  {
   "cell_type": "code",
   "execution_count": null,
   "metadata": {},
   "outputs": [],
   "source": []
  }
 ],
 "metadata": {
  "interpreter": {
   "hash": "c1b4cfe941b6d2466ad1fb5979e97da9cda8801728c8091b097ab734208fc00c"
  },
  "kernelspec": {
   "display_name": "Python 3.8.3 64-bit ('base': conda)",
   "name": "python3"
  },
  "language_info": {
   "codemirror_mode": {
    "name": "ipython",
    "version": 3
   },
   "file_extension": ".py",
   "mimetype": "text/x-python",
   "name": "python",
   "nbconvert_exporter": "python",
   "pygments_lexer": "ipython3",
   "version": "3.8.12"
  }
 },
 "nbformat": 4,
 "nbformat_minor": 2
}
