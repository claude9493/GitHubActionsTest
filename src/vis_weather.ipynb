{
 "cells": [
  {
   "cell_type": "code",
   "execution_count": 1,
   "metadata": {
    "execution": {
     "iopub.execute_input": "2021-09-15T17:14:40.106968Z",
     "iopub.status.busy": "2021-09-15T17:14:40.106425Z",
     "iopub.status.idle": "2021-09-15T17:14:41.382448Z",
     "shell.execute_reply": "2021-09-15T17:14:41.381470Z"
    }
   },
   "outputs": [],
   "source": [
    "import json, yaml, requests\r\n",
    "from datetime import datetime\r\n",
    "from dateutil import tz\r\n",
    "import pandas as pd\r\n",
    "from PIL import Image\r\n",
    "from io import BytesIO\r\n",
    "import matplotlib.pyplot as plt\r\n",
    "import seaborn\r\n",
    "\r\n",
    "CONFIG_PATH = \"../config/config.yaml\""
   ]
  },
  {
   "cell_type": "code",
   "execution_count": 2,
   "metadata": {
    "execution": {
     "iopub.execute_input": "2021-09-15T17:14:41.387673Z",
     "iopub.status.busy": "2021-09-15T17:14:41.386761Z",
     "iopub.status.idle": "2021-09-15T17:14:41.392955Z",
     "shell.execute_reply": "2021-09-15T17:14:41.392551Z"
    }
   },
   "outputs": [],
   "source": [
    "with open('../newest_ts', 'r') as f:\r\n",
    "    newest_ts = f.read()\r\n",
    "\r\n",
    "data_path = f\"../data/data_{newest_ts}.json\"\r\n",
    "with open(data_path, 'r') as f:\r\n",
    "    data = json.load(f)\r\n",
    "\r\n",
    "with open(CONFIG_PATH, \"r\") as stream:\r\n",
    "    config = yaml.safe_load(stream)\r\n",
    "\r\n",
    "TIME_ZONE = config['time_zone']\r\n",
    "DATETIME_FORMAT = config['dt_format']"
   ]
  },
  {
   "cell_type": "code",
   "execution_count": 3,
   "metadata": {
    "execution": {
     "iopub.execute_input": "2021-09-15T17:14:41.397474Z",
     "iopub.status.busy": "2021-09-15T17:14:41.396988Z",
     "iopub.status.idle": "2021-09-15T17:14:41.401238Z",
     "shell.execute_reply": "2021-09-15T17:14:41.401595Z"
    }
   },
   "outputs": [
    {
     "name": "stdout",
     "output_type": "stream",
     "text": [
      "Recent query happens at 2021-09-16 01:14:37 (CST).\n"
     ]
    }
   ],
   "source": [
    "def ts2dt(ts, format=DATETIME_FORMAT):\r\n",
    "    dt = (datetime.utcfromtimestamp(int(ts))\r\n",
    "                    .replace(tzinfo=tz.tzutc())\r\n",
    "                    # .astimezone(tz.tzlocal())\r\n",
    "                    .astimezone(tz.gettz(TIME_ZONE)))\r\n",
    "    return dt.strftime(format), dt\r\n",
    "\r\n",
    "_, newest_dt = ts2dt(newest_ts)\r\n",
    "print(f\"Recent query happens at {newest_dt.strftime(DATETIME_FORMAT)} ({newest_dt.tzname()}).\")"
   ]
  },
  {
   "cell_type": "code",
   "execution_count": 4,
   "metadata": {
    "execution": {
     "iopub.execute_input": "2021-09-15T17:14:41.405500Z",
     "iopub.status.busy": "2021-09-15T17:14:41.405034Z",
     "iopub.status.idle": "2021-09-15T17:14:41.407121Z",
     "shell.execute_reply": "2021-09-15T17:14:41.406752Z"
    }
   },
   "outputs": [],
   "source": [
    "def degrees_to_cardinal(d):\r\n",
    "  dirs = ['N', 'NNE', 'NE', 'ENE', 'E', 'ESE', 'SE', 'SSE', 'S', 'SSW', 'SW', 'WSW', 'W', 'WNW', 'NW', 'NNW']\r\n",
    "  ix = int(round(d / (360. / len(dirs))))\r\n",
    "  return dirs[ix % len(dirs)]"
   ]
  },
  {
   "cell_type": "code",
   "execution_count": 5,
   "metadata": {
    "execution": {
     "iopub.execute_input": "2021-09-15T17:14:41.410088Z",
     "iopub.status.busy": "2021-09-15T17:14:41.409618Z",
     "iopub.status.idle": "2021-09-15T17:14:41.412297Z",
     "shell.execute_reply": "2021-09-15T17:14:41.411900Z"
    }
   },
   "outputs": [],
   "source": [
    "# data.keys()"
   ]
  },
  {
   "cell_type": "code",
   "execution_count": 6,
   "metadata": {
    "execution": {
     "iopub.execute_input": "2021-09-15T17:14:41.415093Z",
     "iopub.status.busy": "2021-09-15T17:14:41.414649Z",
     "iopub.status.idle": "2021-09-15T17:14:41.417483Z",
     "shell.execute_reply": "2021-09-15T17:14:41.417114Z"
    }
   },
   "outputs": [],
   "source": [
    "# data['current']"
   ]
  },
  {
   "cell_type": "code",
   "execution_count": 7,
   "metadata": {
    "execution": {
     "iopub.execute_input": "2021-09-15T17:14:41.433841Z",
     "iopub.status.busy": "2021-09-15T17:14:41.433375Z",
     "iopub.status.idle": "2021-09-15T17:14:41.696653Z",
     "shell.execute_reply": "2021-09-15T17:14:41.697325Z"
    }
   },
   "outputs": [
    {
     "data": {
      "image/png": "[encoded data removed]",
      "text/plain": [
       "<Figure size 216x216 with 1 Axes>"
      ]
     },
     "metadata": {
      "needs_background": "light"
     },
     "output_type": "display_data"
    },
    {
     "name": "stdout",
     "output_type": "stream",
     "text": [
      "Today, sun rises at 06:09 and sets at 18:26.\n",
      "Currently, the weather is Rain (light rain).\n",
      "The temperature is 30.98°C and it feels like 37.98°C.\n",
      "The UV index is 0, humidity is 79%.\n",
      "The pressure is 1010 hPa, percentage of cloud cover is 68%\n",
      "The wind comes from W direction with a speed 3.49 m/s.\n"
     ]
    }
   ],
   "source": [
    "current = data['current']\r\n",
    "\r\n",
    "fig, ax = plt.subplots(figsize=(3, 3))\r\n",
    "icon = requests.get(f\"http://openweathermap.org/img/wn/{current['weather'][0]['icon']}@2x.png\")\r\n",
    "im = Image.open(BytesIO(icon.content))\r\n",
    "plt.imshow(im)\r\n",
    "ax.set_axis_off()\r\n",
    "plt.show()\r\n",
    "\r\n",
    "print(f\"Today, sun rises at {ts2dt(current['sunrise'], '%H:%M')[0]} \\\r\n",
    "and sets at {ts2dt(current['sunset'], '%H:%M')[0]}.\\n\\\r\n",
    "Currently, the weather is {current['weather'][0]['main']} ({current['weather'][0]['description']}).\\n\\\r\n",
    "The temperature is {current['temp']}°C and it feels like {current['feels_like']}°C.\\n\\\r\n",
    "The UV index is {current['uvi']}, humidity is {current['humidity']}%.\\n\\\r\n",
    "The pressure is {current['pressure']} hPa, percentage of cloud cover is {current['clouds']}%\\n\\\r\n",
    "The wind comes from {degrees_to_cardinal(current['wind_deg'])} direction with a speed {current['wind_speed']} m/s.\")"
   ]
  },
  {
   "cell_type": "code",
   "execution_count": 8,
   "metadata": {
    "execution": {
     "iopub.execute_input": "2021-09-15T17:14:41.702722Z",
     "iopub.status.busy": "2021-09-15T17:14:41.702150Z",
     "iopub.status.idle": "2021-09-15T17:14:41.706444Z",
     "shell.execute_reply": "2021-09-15T17:14:41.707090Z"
    }
   },
   "outputs": [],
   "source": [
    "df_hourly = pd.DataFrame(data['hourly'])\r\n",
    "df_daily = pd.DataFrame(data['daily'])"
   ]
  },
  {
   "cell_type": "code",
   "execution_count": 9,
   "metadata": {
    "execution": {
     "iopub.execute_input": "2021-09-15T17:14:41.714449Z",
     "iopub.status.busy": "2021-09-15T17:14:41.713849Z",
     "iopub.status.idle": "2021-09-15T17:14:41.957837Z",
     "shell.execute_reply": "2021-09-15T17:14:41.957372Z"
    }
   },
   "outputs": [
    {
     "data": {
      "image/png": "[encoded data removed]",
      "text/plain": [
       "<Figure size 864x432 with 1 Axes>"
      ]
     },
     "metadata": {
      "needs_background": "light"
     },
     "output_type": "display_data"
    }
   ],
   "source": [
    "fig, ax = plt.subplots(figsize=(12, 6))\r\n",
    "plt.plot(df_hourly.temp, '.-', label='Temperature')\r\n",
    "plt.plot(df_hourly.feels_like, '.-', label='Feels Like')\r\n",
    "ax.set(title='Temperature in future 48 hours', xlabel='Time', ylabel='Temperature')\r\n",
    "ax.set_xticks(list(range(0, len(df_hourly), 2)))\r\n",
    "ax.set_xticklabels([ts2dt(ts, '%m-%d %H:%M')[0] for i, ts in enumerate(df_hourly.dt) if i%2==0], \r\n",
    "                   rotation=45, ha=\"right\")\r\n",
    "ax.locator_params(nbins=15, axis='y')\r\n",
    "plt.legend()\r\n",
    "plt.show()"
   ]
  },
  {
   "cell_type": "code",
   "execution_count": 10,
   "metadata": {
    "execution": {
     "iopub.execute_input": "2021-09-15T17:14:41.962404Z",
     "iopub.status.busy": "2021-09-15T17:14:41.961832Z",
     "iopub.status.idle": "2021-09-15T17:14:41.979947Z",
     "shell.execute_reply": "2021-09-15T17:14:41.979510Z"
    }
   },
   "outputs": [
    {
     "data": {
      "text/html": [
       "<div>\n",
       "<style scoped>\n",
       "    .dataframe tbody tr th:only-of-type {\n",
       "        vertical-align: middle;\n",
       "    }\n",
       "\n",
       "    .dataframe tbody tr th {\n",
       "        vertical-align: top;\n",
       "    }\n",
       "\n",
       "    .dataframe thead th {\n",
       "        text-align: right;\n",
       "    }\n",
       "</style>\n",
       "<table border=\"1\" class=\"dataframe\">\n",
       "  <thead>\n",
       "    <tr style=\"text-align: right;\">\n",
       "      <th></th>\n",
       "      <th>dt</th>\n",
       "      <th>temp</th>\n",
       "      <th>feels_like</th>\n",
       "      <th>pressure</th>\n",
       "      <th>humidity</th>\n",
       "      <th>dew_point</th>\n",
       "      <th>uvi</th>\n",
       "      <th>clouds</th>\n",
       "      <th>visibility</th>\n",
       "      <th>wind_speed</th>\n",
       "      <th>wind_deg</th>\n",
       "      <th>wind_gust</th>\n",
       "      <th>weather</th>\n",
       "      <th>pop</th>\n",
       "      <th>rain</th>\n",
       "    </tr>\n",
       "  </thead>\n",
       "  <tbody>\n",
       "    <tr>\n",
       "      <th>0</th>\n",
       "      <td>1631725200</td>\n",
       "      <td>30.98</td>\n",
       "      <td>37.98</td>\n",
       "      <td>1010</td>\n",
       "      <td>79</td>\n",
       "      <td>26.91</td>\n",
       "      <td>0.0</td>\n",
       "      <td>68</td>\n",
       "      <td>10000</td>\n",
       "      <td>3.49</td>\n",
       "      <td>267</td>\n",
       "      <td>4.27</td>\n",
       "      <td>[{'id': 500, 'main': 'Rain', 'description': 'l...</td>\n",
       "      <td>0.94</td>\n",
       "      <td>{'1h': 0.21}</td>\n",
       "    </tr>\n",
       "    <tr>\n",
       "      <th>1</th>\n",
       "      <td>1631728800</td>\n",
       "      <td>30.47</td>\n",
       "      <td>37.47</td>\n",
       "      <td>1010</td>\n",
       "      <td>80</td>\n",
       "      <td>26.63</td>\n",
       "      <td>0.0</td>\n",
       "      <td>69</td>\n",
       "      <td>10000</td>\n",
       "      <td>3.06</td>\n",
       "      <td>273</td>\n",
       "      <td>3.72</td>\n",
       "      <td>[{'id': 500, 'main': 'Rain', 'description': 'l...</td>\n",
       "      <td>0.94</td>\n",
       "      <td>{'1h': 0.37}</td>\n",
       "    </tr>\n",
       "    <tr>\n",
       "      <th>2</th>\n",
       "      <td>1631732400</td>\n",
       "      <td>29.89</td>\n",
       "      <td>36.89</td>\n",
       "      <td>1010</td>\n",
       "      <td>81</td>\n",
       "      <td>26.27</td>\n",
       "      <td>0.0</td>\n",
       "      <td>81</td>\n",
       "      <td>10000</td>\n",
       "      <td>2.85</td>\n",
       "      <td>281</td>\n",
       "      <td>3.34</td>\n",
       "      <td>[{'id': 500, 'main': 'Rain', 'description': 'l...</td>\n",
       "      <td>0.96</td>\n",
       "      <td>{'1h': 0.1}</td>\n",
       "    </tr>\n",
       "    <tr>\n",
       "      <th>3</th>\n",
       "      <td>1631736000</td>\n",
       "      <td>29.26</td>\n",
       "      <td>35.71</td>\n",
       "      <td>1009</td>\n",
       "      <td>81</td>\n",
       "      <td>25.66</td>\n",
       "      <td>0.0</td>\n",
       "      <td>87</td>\n",
       "      <td>10000</td>\n",
       "      <td>2.59</td>\n",
       "      <td>276</td>\n",
       "      <td>2.96</td>\n",
       "      <td>[{'id': 500, 'main': 'Rain', 'description': 'l...</td>\n",
       "      <td>0.92</td>\n",
       "      <td>{'1h': 0.85}</td>\n",
       "    </tr>\n",
       "    <tr>\n",
       "      <th>4</th>\n",
       "      <td>1631739600</td>\n",
       "      <td>28.60</td>\n",
       "      <td>33.84</td>\n",
       "      <td>1009</td>\n",
       "      <td>81</td>\n",
       "      <td>25.02</td>\n",
       "      <td>0.0</td>\n",
       "      <td>94</td>\n",
       "      <td>10000</td>\n",
       "      <td>3.20</td>\n",
       "      <td>269</td>\n",
       "      <td>3.61</td>\n",
       "      <td>[{'id': 501, 'main': 'Rain', 'description': 'm...</td>\n",
       "      <td>0.93</td>\n",
       "      <td>{'1h': 1.86}</td>\n",
       "    </tr>\n",
       "  </tbody>\n",
       "</table>\n",
       "</div>"
      ],
      "text/plain": [
       "           dt   temp  feels_like  pressure  humidity  dew_point  uvi  clouds  \\\n",
       "0  1631725200  30.98       37.98      1010        79      26.91  0.0      68   \n",
       "1  1631728800  30.47       37.47      1010        80      26.63  0.0      69   \n",
       "2  1631732400  29.89       36.89      1010        81      26.27  0.0      81   \n",
       "3  1631736000  29.26       35.71      1009        81      25.66  0.0      87   \n",
       "4  1631739600  28.60       33.84      1009        81      25.02  0.0      94   \n",
       "\n",
       "   visibility  wind_speed  wind_deg  wind_gust  \\\n",
       "0       10000        3.49       267       4.27   \n",
       "1       10000        3.06       273       3.72   \n",
       "2       10000        2.85       281       3.34   \n",
       "3       10000        2.59       276       2.96   \n",
       "4       10000        3.20       269       3.61   \n",
       "\n",
       "                                             weather   pop          rain  \n",
       "0  [{'id': 500, 'main': 'Rain', 'description': 'l...  0.94  {'1h': 0.21}  \n",
       "1  [{'id': 500, 'main': 'Rain', 'description': 'l...  0.94  {'1h': 0.37}  \n",
       "2  [{'id': 500, 'main': 'Rain', 'description': 'l...  0.96   {'1h': 0.1}  \n",
       "3  [{'id': 500, 'main': 'Rain', 'description': 'l...  0.92  {'1h': 0.85}  \n",
       "4  [{'id': 501, 'main': 'Rain', 'description': 'm...  0.93  {'1h': 1.86}  "
      ]
     },
     "execution_count": 10,
     "metadata": {},
     "output_type": "execute_result"
    }
   ],
   "source": [
    "df_hourly.head()"
   ]
  },
  {
   "cell_type": "code",
   "execution_count": null,
   "metadata": {},
   "outputs": [],
   "source": []
  }
 ],
 "metadata": {
  "interpreter": {
   "hash": "c1b4cfe941b6d2466ad1fb5979e97da9cda8801728c8091b097ab734208fc00c"
  },
  "kernelspec": {
   "display_name": "Python 3.8.3 64-bit ('base': conda)",
   "name": "python3"
  },
  "language_info": {
   "codemirror_mode": {
    "name": "ipython",
    "version": 3
   },
   "file_extension": ".py",
   "mimetype": "text/x-python",
   "name": "python",
   "nbconvert_exporter": "python",
   "pygments_lexer": "ipython3",
   "version": "3.8.11"
  }
 },
 "nbformat": 4,
 "nbformat_minor": 2
}
