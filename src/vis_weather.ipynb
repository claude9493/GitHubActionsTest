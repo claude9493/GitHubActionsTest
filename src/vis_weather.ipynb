{
 "cells": [
  {
   "cell_type": "code",
   "execution_count": 1,
   "metadata": {
    "execution": {
     "iopub.execute_input": "2021-09-10T06:18:41.694963Z",
     "iopub.status.busy": "2021-09-10T06:18:41.694146Z",
     "iopub.status.idle": "2021-09-10T06:18:44.598792Z",
     "shell.execute_reply": "2021-09-10T06:18:44.598204Z"
    }
   },
   "outputs": [],
   "source": [
    "import json, yaml, requests\r\n",
    "from datetime import datetime\r\n",
    "from dateutil import tz\r\n",
    "import pandas as pd\r\n",
    "from PIL import Image\r\n",
    "from io import BytesIO\r\n",
    "import matplotlib.pyplot as plt\r\n",
    "import seaborn\r\n",
    "\r\n",
    "CONFIG_PATH = \"../config/config.yaml\""
   ]
  },
  {
   "cell_type": "code",
   "execution_count": 2,
   "metadata": {
    "execution": {
     "iopub.execute_input": "2021-09-10T06:18:44.604393Z",
     "iopub.status.busy": "2021-09-10T06:18:44.603848Z",
     "iopub.status.idle": "2021-09-10T06:18:44.609694Z",
     "shell.execute_reply": "2021-09-10T06:18:44.608932Z"
    }
   },
   "outputs": [],
   "source": [
    "with open('../newest_ts', 'r') as f:\r\n",
    "    newest_ts = f.read()\r\n",
    "\r\n",
    "data_path = f\"../data/data_{newest_ts}.json\"\r\n",
    "with open(data_path, 'r') as f:\r\n",
    "    data = json.load(f)\r\n",
    "\r\n",
    "with open(CONFIG_PATH, \"r\") as stream:\r\n",
    "    config = yaml.safe_load(stream)\r\n",
    "\r\n",
    "TIME_ZONE = config['time_zone']\r\n",
    "DATETIME_FORMAT = config['dt_format']"
   ]
  },
  {
   "cell_type": "code",
   "execution_count": 3,
   "metadata": {
    "execution": {
     "iopub.execute_input": "2021-09-10T06:18:44.615710Z",
     "iopub.status.busy": "2021-09-10T06:18:44.615141Z",
     "iopub.status.idle": "2021-09-10T06:18:44.626048Z",
     "shell.execute_reply": "2021-09-10T06:18:44.626505Z"
    }
   },
   "outputs": [
    {
     "name": "stdout",
     "output_type": "stream",
     "text": [
      "Recent query happens at 2021-09-10 14:18:38 (CST).\n"
     ]
    }
   ],
   "source": [
    "def ts2dt(ts, format=DATETIME_FORMAT):\r\n",
    "    dt = (datetime.utcfromtimestamp(int(ts))\r\n",
    "                    .replace(tzinfo=tz.tzutc())\r\n",
    "                    # .astimezone(tz.tzlocal())\r\n",
    "                    .astimezone(tz.gettz(TIME_ZONE)))\r\n",
    "    return dt.strftime(format), dt\r\n",
    "\r\n",
    "_, newest_dt = ts2dt(newest_ts)\r\n",
    "print(f\"Recent query happens at {newest_dt.strftime(DATETIME_FORMAT)} ({newest_dt.tzname()}).\")"
   ]
  },
  {
   "cell_type": "code",
   "execution_count": 4,
   "metadata": {
    "execution": {
     "iopub.execute_input": "2021-09-10T06:18:44.632359Z",
     "iopub.status.busy": "2021-09-10T06:18:44.630943Z",
     "iopub.status.idle": "2021-09-10T06:18:44.633105Z",
     "shell.execute_reply": "2021-09-10T06:18:44.633504Z"
    }
   },
   "outputs": [],
   "source": [
    "def degrees_to_cardinal(d):\r\n",
    "  dirs = ['N', 'NNE', 'NE', 'ENE', 'E', 'ESE', 'SE', 'SSE', 'S', 'SSW', 'SW', 'WSW', 'W', 'WNW', 'NW', 'NNW']\r\n",
    "  ix = int(round(d / (360. / len(dirs))))\r\n",
    "  return dirs[ix % len(dirs)]"
   ]
  },
  {
   "cell_type": "code",
   "execution_count": 5,
   "metadata": {
    "execution": {
     "iopub.execute_input": "2021-09-10T06:18:44.638241Z",
     "iopub.status.busy": "2021-09-10T06:18:44.636822Z",
     "iopub.status.idle": "2021-09-10T06:18:44.638856Z",
     "shell.execute_reply": "2021-09-10T06:18:44.639265Z"
    }
   },
   "outputs": [],
   "source": [
    "# data.keys()"
   ]
  },
  {
   "cell_type": "code",
   "execution_count": 6,
   "metadata": {
    "execution": {
     "iopub.execute_input": "2021-09-10T06:18:44.644085Z",
     "iopub.status.busy": "2021-09-10T06:18:44.642634Z",
     "iopub.status.idle": "2021-09-10T06:18:44.644710Z",
     "shell.execute_reply": "2021-09-10T06:18:44.645124Z"
    }
   },
   "outputs": [],
   "source": [
    "# data['current']"
   ]
  },
  {
   "cell_type": "code",
   "execution_count": 7,
   "metadata": {
    "execution": {
     "iopub.execute_input": "2021-09-10T06:18:44.666546Z",
     "iopub.status.busy": "2021-09-10T06:18:44.665970Z",
     "iopub.status.idle": "2021-09-10T06:18:45.106023Z",
     "shell.execute_reply": "2021-09-10T06:18:45.106749Z"
    }
   },
   "outputs": [
    {
     "data": {
      "image/png": "[encoded data removed]",
      "text/plain": [
       "<Figure size 216x216 with 1 Axes>"
      ]
     },
     "metadata": {
      "needs_background": "light"
     },
     "output_type": "display_data"
    },
    {
     "name": "stdout",
     "output_type": "stream",
     "text": [
      "Today, sun rises at 06:08 and sets at 18:32.\n",
      "Currently, the weather is Clouds (broken clouds).\n",
      "The temperature is 32.75°C and it feels like 39.75°C.\n",
      "The UV index is 8.66, humidity is 68%.\n",
      "The pressure is 1007 hPa, percentage of cloud cover is 55%\n",
      "The wind comes from E direction with a speed 5.09 m/s.\n"
     ]
    }
   ],
   "source": [
    "current = data['current']\r\n",
    "\r\n",
    "fig, ax = plt.subplots(figsize=(3, 3))\r\n",
    "icon = requests.get(f\"http://openweathermap.org/img/wn/{current['weather'][0]['icon']}@2x.png\")\r\n",
    "im = Image.open(BytesIO(icon.content))\r\n",
    "plt.imshow(im)\r\n",
    "ax.set_axis_off()\r\n",
    "plt.show()\r\n",
    "\r\n",
    "print(f\"Today, sun rises at {ts2dt(current['sunrise'], '%H:%M')[0]} \\\r\n",
    "and sets at {ts2dt(current['sunset'], '%H:%M')[0]}.\\n\\\r\n",
    "Currently, the weather is {current['weather'][0]['main']} ({current['weather'][0]['description']}).\\n\\\r\n",
    "The temperature is {current['temp']}°C and it feels like {current['feels_like']}°C.\\n\\\r\n",
    "The UV index is {current['uvi']}, humidity is {current['humidity']}%.\\n\\\r\n",
    "The pressure is {current['pressure']} hPa, percentage of cloud cover is {current['clouds']}%\\n\\\r\n",
    "The wind comes from {degrees_to_cardinal(current['wind_deg'])} direction with a speed {current['wind_speed']} m/s.\")"
   ]
  },
  {
   "cell_type": "code",
   "execution_count": 8,
   "metadata": {
    "execution": {
     "iopub.execute_input": "2021-09-10T06:18:45.110456Z",
     "iopub.status.busy": "2021-09-10T06:18:45.109276Z",
     "iopub.status.idle": "2021-09-10T06:18:45.118290Z",
     "shell.execute_reply": "2021-09-10T06:18:45.119101Z"
    }
   },
   "outputs": [],
   "source": [
    "df_hourly = pd.DataFrame(data['hourly'])\r\n",
    "df_daily = pd.DataFrame(data['daily'])"
   ]
  },
  {
   "cell_type": "code",
   "execution_count": 9,
   "metadata": {
    "execution": {
     "iopub.execute_input": "2021-09-10T06:18:45.122738Z",
     "iopub.status.busy": "2021-09-10T06:18:45.121634Z",
     "iopub.status.idle": "2021-09-10T06:18:45.476688Z",
     "shell.execute_reply": "2021-09-10T06:18:45.475863Z"
    }
   },
   "outputs": [
    {
     "data": {
      "image/png": "[encoded data removed]",
      "text/plain": [
       "<Figure size 864x432 with 1 Axes>"
      ]
     },
     "metadata": {
      "needs_background": "light"
     },
     "output_type": "display_data"
    }
   ],
   "source": [
    "fig, ax = plt.subplots(figsize=(12, 6))\r\n",
    "plt.plot(df_hourly.temp, '.-', label='Temperature')\r\n",
    "plt.plot(df_hourly.feels_like, '.-', label='Feels Like')\r\n",
    "ax.set(title='Temperature in future 48 hours', xlabel='Time', ylabel='Temperature')\r\n",
    "ax.set_xticks(list(range(0, len(df_hourly), 2)))\r\n",
    "ax.set_xticklabels([ts2dt(ts, '%m-%d %H:%M')[0] for i, ts in enumerate(df_hourly.dt) if i%2==0], \r\n",
    "                   rotation=45, ha=\"right\")\r\n",
    "ax.locator_params(nbins=15, axis='y')\r\n",
    "plt.legend()\r\n",
    "plt.show()"
   ]
  },
  {
   "cell_type": "code",
   "execution_count": 10,
   "metadata": {
    "execution": {
     "iopub.execute_input": "2021-09-10T06:18:45.483006Z",
     "iopub.status.busy": "2021-09-10T06:18:45.482122Z",
     "iopub.status.idle": "2021-09-10T06:18:45.503316Z",
     "shell.execute_reply": "2021-09-10T06:18:45.503791Z"
    }
   },
   "outputs": [
    {
     "data": {
      "text/html": [
       "<div>\n",
       "<style scoped>\n",
       "    .dataframe tbody tr th:only-of-type {\n",
       "        vertical-align: middle;\n",
       "    }\n",
       "\n",
       "    .dataframe tbody tr th {\n",
       "        vertical-align: top;\n",
       "    }\n",
       "\n",
       "    .dataframe thead th {\n",
       "        text-align: right;\n",
       "    }\n",
       "</style>\n",
       "<table border=\"1\" class=\"dataframe\">\n",
       "  <thead>\n",
       "    <tr style=\"text-align: right;\">\n",
       "      <th></th>\n",
       "      <th>dt</th>\n",
       "      <th>temp</th>\n",
       "      <th>feels_like</th>\n",
       "      <th>pressure</th>\n",
       "      <th>humidity</th>\n",
       "      <th>dew_point</th>\n",
       "      <th>uvi</th>\n",
       "      <th>clouds</th>\n",
       "      <th>visibility</th>\n",
       "      <th>wind_speed</th>\n",
       "      <th>wind_deg</th>\n",
       "      <th>wind_gust</th>\n",
       "      <th>weather</th>\n",
       "      <th>pop</th>\n",
       "      <th>rain</th>\n",
       "    </tr>\n",
       "  </thead>\n",
       "  <tbody>\n",
       "    <tr>\n",
       "      <th>0</th>\n",
       "      <td>1631253600</td>\n",
       "      <td>32.75</td>\n",
       "      <td>39.75</td>\n",
       "      <td>1007</td>\n",
       "      <td>68</td>\n",
       "      <td>26.06</td>\n",
       "      <td>8.66</td>\n",
       "      <td>55</td>\n",
       "      <td>10000</td>\n",
       "      <td>5.09</td>\n",
       "      <td>94</td>\n",
       "      <td>5.62</td>\n",
       "      <td>[{'id': 803, 'main': 'Clouds', 'description': ...</td>\n",
       "      <td>0.18</td>\n",
       "      <td>NaN</td>\n",
       "    </tr>\n",
       "    <tr>\n",
       "      <th>1</th>\n",
       "      <td>1631257200</td>\n",
       "      <td>32.25</td>\n",
       "      <td>39.25</td>\n",
       "      <td>1007</td>\n",
       "      <td>69</td>\n",
       "      <td>25.83</td>\n",
       "      <td>4.81</td>\n",
       "      <td>46</td>\n",
       "      <td>10000</td>\n",
       "      <td>4.51</td>\n",
       "      <td>98</td>\n",
       "      <td>5.03</td>\n",
       "      <td>[{'id': 802, 'main': 'Clouds', 'description': ...</td>\n",
       "      <td>0.07</td>\n",
       "      <td>NaN</td>\n",
       "    </tr>\n",
       "    <tr>\n",
       "      <th>2</th>\n",
       "      <td>1631260800</td>\n",
       "      <td>31.60</td>\n",
       "      <td>38.60</td>\n",
       "      <td>1007</td>\n",
       "      <td>70</td>\n",
       "      <td>25.46</td>\n",
       "      <td>2.47</td>\n",
       "      <td>41</td>\n",
       "      <td>10000</td>\n",
       "      <td>4.67</td>\n",
       "      <td>110</td>\n",
       "      <td>5.38</td>\n",
       "      <td>[{'id': 802, 'main': 'Clouds', 'description': ...</td>\n",
       "      <td>0.15</td>\n",
       "      <td>NaN</td>\n",
       "    </tr>\n",
       "    <tr>\n",
       "      <th>3</th>\n",
       "      <td>1631264400</td>\n",
       "      <td>30.71</td>\n",
       "      <td>37.70</td>\n",
       "      <td>1006</td>\n",
       "      <td>73</td>\n",
       "      <td>25.31</td>\n",
       "      <td>0.84</td>\n",
       "      <td>45</td>\n",
       "      <td>10000</td>\n",
       "      <td>4.25</td>\n",
       "      <td>105</td>\n",
       "      <td>5.50</td>\n",
       "      <td>[{'id': 802, 'main': 'Clouds', 'description': ...</td>\n",
       "      <td>0.16</td>\n",
       "      <td>NaN</td>\n",
       "    </tr>\n",
       "    <tr>\n",
       "      <th>4</th>\n",
       "      <td>1631268000</td>\n",
       "      <td>29.58</td>\n",
       "      <td>35.41</td>\n",
       "      <td>1006</td>\n",
       "      <td>76</td>\n",
       "      <td>24.90</td>\n",
       "      <td>0.17</td>\n",
       "      <td>45</td>\n",
       "      <td>10000</td>\n",
       "      <td>3.40</td>\n",
       "      <td>98</td>\n",
       "      <td>4.85</td>\n",
       "      <td>[{'id': 802, 'main': 'Clouds', 'description': ...</td>\n",
       "      <td>0.16</td>\n",
       "      <td>NaN</td>\n",
       "    </tr>\n",
       "  </tbody>\n",
       "</table>\n",
       "</div>"
      ],
      "text/plain": [
       "           dt   temp  feels_like  pressure  humidity  dew_point   uvi  clouds  \\\n",
       "0  1631253600  32.75       39.75      1007        68      26.06  8.66      55   \n",
       "1  1631257200  32.25       39.25      1007        69      25.83  4.81      46   \n",
       "2  1631260800  31.60       38.60      1007        70      25.46  2.47      41   \n",
       "3  1631264400  30.71       37.70      1006        73      25.31  0.84      45   \n",
       "4  1631268000  29.58       35.41      1006        76      24.90  0.17      45   \n",
       "\n",
       "   visibility  wind_speed  wind_deg  wind_gust  \\\n",
       "0       10000        5.09        94       5.62   \n",
       "1       10000        4.51        98       5.03   \n",
       "2       10000        4.67       110       5.38   \n",
       "3       10000        4.25       105       5.50   \n",
       "4       10000        3.40        98       4.85   \n",
       "\n",
       "                                             weather   pop rain  \n",
       "0  [{'id': 803, 'main': 'Clouds', 'description': ...  0.18  NaN  \n",
       "1  [{'id': 802, 'main': 'Clouds', 'description': ...  0.07  NaN  \n",
       "2  [{'id': 802, 'main': 'Clouds', 'description': ...  0.15  NaN  \n",
       "3  [{'id': 802, 'main': 'Clouds', 'description': ...  0.16  NaN  \n",
       "4  [{'id': 802, 'main': 'Clouds', 'description': ...  0.16  NaN  "
      ]
     },
     "execution_count": 10,
     "metadata": {},
     "output_type": "execute_result"
    }
   ],
   "source": [
    "df_hourly.head()"
   ]
  },
  {
   "cell_type": "code",
   "execution_count": null,
   "metadata": {},
   "outputs": [],
   "source": []
  }
 ],
 "metadata": {
  "interpreter": {
   "hash": "c1b4cfe941b6d2466ad1fb5979e97da9cda8801728c8091b097ab734208fc00c"
  },
  "kernelspec": {
   "display_name": "Python 3.8.3 64-bit ('base': conda)",
   "name": "python3"
  },
  "language_info": {
   "codemirror_mode": {
    "name": "ipython",
    "version": 3
   },
   "file_extension": ".py",
   "mimetype": "text/x-python",
   "name": "python",
   "nbconvert_exporter": "python",
   "pygments_lexer": "ipython3",
   "version": "3.8.11"
  }
 },
 "nbformat": 4,
 "nbformat_minor": 2
}
