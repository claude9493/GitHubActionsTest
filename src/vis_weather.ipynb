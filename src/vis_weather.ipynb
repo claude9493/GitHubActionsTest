{
 "cells": [
  {
   "cell_type": "code",
   "execution_count": 1,
   "metadata": {
    "execution": {
     "iopub.execute_input": "2021-09-09T02:33:54.353341Z",
     "iopub.status.busy": "2021-09-09T02:33:54.352732Z",
     "iopub.status.idle": "2021-09-09T02:33:55.895603Z",
     "shell.execute_reply": "2021-09-09T02:33:55.894932Z"
    }
   },
   "outputs": [],
   "source": [
    "import json, yaml, requests\r\n",
    "from datetime import datetime\r\n",
    "from dateutil import tz\r\n",
    "import pandas as pd\r\n",
    "from PIL import Image\r\n",
    "from io import BytesIO\r\n",
    "import matplotlib.pyplot as plt\r\n",
    "import seaborn\r\n",
    "\r\n",
    "CONFIG_PATH = \"../config/config.yaml\""
   ]
  },
  {
   "cell_type": "code",
   "execution_count": 2,
   "metadata": {
    "execution": {
     "iopub.execute_input": "2021-09-09T02:33:55.902098Z",
     "iopub.status.busy": "2021-09-09T02:33:55.901393Z",
     "iopub.status.idle": "2021-09-09T02:33:55.908227Z",
     "shell.execute_reply": "2021-09-09T02:33:55.907606Z"
    }
   },
   "outputs": [],
   "source": [
    "with open('../newest_ts', 'r') as f:\r\n",
    "    newest_ts = f.read()\r\n",
    "\r\n",
    "data_path = f\"../data/data_{newest_ts}.json\"\r\n",
    "with open(data_path, 'r') as f:\r\n",
    "    data = json.load(f)\r\n",
    "\r\n",
    "with open(CONFIG_PATH, \"r\") as stream:\r\n",
    "    config = yaml.safe_load(stream)\r\n",
    "\r\n",
    "TIME_ZONE = config['time_zone']\r\n",
    "DATETIME_FORMAT = config['dt_format']"
   ]
  },
  {
   "cell_type": "code",
   "execution_count": 3,
   "metadata": {
    "execution": {
     "iopub.execute_input": "2021-09-09T02:33:55.914169Z",
     "iopub.status.busy": "2021-09-09T02:33:55.913548Z",
     "iopub.status.idle": "2021-09-09T02:33:55.918761Z",
     "shell.execute_reply": "2021-09-09T02:33:55.917897Z"
    }
   },
   "outputs": [
    {
     "name": "stdout",
     "output_type": "stream",
     "text": [
      "Recent query happens at 2021-09-09 10:33:50 (CST).\n"
     ]
    }
   ],
   "source": [
    "def ts2dt(ts, format=DATETIME_FORMAT):\r\n",
    "    dt = (datetime.utcfromtimestamp(int(ts))\r\n",
    "                    .replace(tzinfo=tz.tzutc())\r\n",
    "                    # .astimezone(tz.tzlocal())\r\n",
    "                    .astimezone(tz.gettz(TIME_ZONE)))\r\n",
    "    return dt.strftime(format), dt\r\n",
    "\r\n",
    "_, newest_dt = ts2dt(newest_ts)\r\n",
    "print(f\"Recent query happens at {newest_dt.strftime(DATETIME_FORMAT)} ({newest_dt.tzname()}).\")"
   ]
  },
  {
   "cell_type": "code",
   "execution_count": 4,
   "metadata": {
    "execution": {
     "iopub.execute_input": "2021-09-09T02:33:55.925858Z",
     "iopub.status.busy": "2021-09-09T02:33:55.924346Z",
     "iopub.status.idle": "2021-09-09T02:33:55.926667Z",
     "shell.execute_reply": "2021-09-09T02:33:55.927165Z"
    }
   },
   "outputs": [],
   "source": [
    "def degrees_to_cardinal(d):\r\n",
    "  dirs = ['N', 'NNE', 'NE', 'ENE', 'E', 'ESE', 'SE', 'SSE', 'S', 'SSW', 'SW', 'WSW', 'W', 'WNW', 'NW', 'NNW']\r\n",
    "  ix = int(round(d / (360. / len(dirs))))\r\n",
    "  return dirs[ix % len(dirs)]"
   ]
  },
  {
   "cell_type": "code",
   "execution_count": 5,
   "metadata": {
    "execution": {
     "iopub.execute_input": "2021-09-09T02:33:55.932864Z",
     "iopub.status.busy": "2021-09-09T02:33:55.931204Z",
     "iopub.status.idle": "2021-09-09T02:33:55.933788Z",
     "shell.execute_reply": "2021-09-09T02:33:55.934388Z"
    }
   },
   "outputs": [],
   "source": [
    "# data.keys()"
   ]
  },
  {
   "cell_type": "code",
   "execution_count": 6,
   "metadata": {
    "execution": {
     "iopub.execute_input": "2021-09-09T02:33:55.939429Z",
     "iopub.status.busy": "2021-09-09T02:33:55.938584Z",
     "iopub.status.idle": "2021-09-09T02:33:55.940077Z",
     "shell.execute_reply": "2021-09-09T02:33:55.941082Z"
    }
   },
   "outputs": [],
   "source": [
    "# data['current']"
   ]
  },
  {
   "cell_type": "code",
   "execution_count": 7,
   "metadata": {
    "execution": {
     "iopub.execute_input": "2021-09-09T02:33:55.965355Z",
     "iopub.status.busy": "2021-09-09T02:33:55.947006Z",
     "iopub.status.idle": "2021-09-09T02:33:56.450869Z",
     "shell.execute_reply": "2021-09-09T02:33:56.451796Z"
    }
   },
   "outputs": [
    {
     "data": {
      "image/png": "[encoded data removed]",
      "text/plain": [
       "<Figure size 216x216 with 1 Axes>"
      ]
     },
     "metadata": {
      "needs_background": "light"
     },
     "output_type": "display_data"
    },
    {
     "name": "stdout",
     "output_type": "stream",
     "text": [
      "Today, sun rises at 06:08 and sets at 18:32.\n",
      "Currently, the weather is Clear (clear sky).\n",
      "The temperature is 32.99°C and it feels like 39.99°C.\n",
      "The UV index is 9.25, humidity is 66%.\n",
      "The pressure is 1010 hPa, percentage of cloud cover is 3%\n",
      "The wind comes from E direction with a speed 3.34 m/s.\n"
     ]
    }
   ],
   "source": [
    "current = data['current']\r\n",
    "\r\n",
    "fig, ax = plt.subplots(figsize=(3, 3))\r\n",
    "icon = requests.get(f\"http://openweathermap.org/img/wn/{current['weather'][0]['icon']}@2x.png\")\r\n",
    "im = Image.open(BytesIO(icon.content))\r\n",
    "plt.imshow(im)\r\n",
    "ax.set_axis_off()\r\n",
    "plt.show()\r\n",
    "\r\n",
    "print(f\"Today, sun rises at {ts2dt(current['sunrise'], '%H:%M')[0]} \\\r\n",
    "and sets at {ts2dt(current['sunset'], '%H:%M')[0]}.\\n\\\r\n",
    "Currently, the weather is {current['weather'][0]['main']} ({current['weather'][0]['description']}).\\n\\\r\n",
    "The temperature is {current['temp']}°C and it feels like {current['feels_like']}°C.\\n\\\r\n",
    "The UV index is {current['uvi']}, humidity is {current['humidity']}%.\\n\\\r\n",
    "The pressure is {current['pressure']} hPa, percentage of cloud cover is {current['clouds']}%\\n\\\r\n",
    "The wind comes from {degrees_to_cardinal(current['wind_deg'])} direction with a speed {current['wind_speed']} m/s.\")"
   ]
  },
  {
   "cell_type": "code",
   "execution_count": 8,
   "metadata": {
    "execution": {
     "iopub.execute_input": "2021-09-09T02:33:56.455554Z",
     "iopub.status.busy": "2021-09-09T02:33:56.454878Z",
     "iopub.status.idle": "2021-09-09T02:33:56.464304Z",
     "shell.execute_reply": "2021-09-09T02:33:56.465189Z"
    }
   },
   "outputs": [],
   "source": [
    "df_hourly = pd.DataFrame(data['hourly'])\r\n",
    "df_daily = pd.DataFrame(data['daily'])"
   ]
  },
  {
   "cell_type": "code",
   "execution_count": 9,
   "metadata": {
    "execution": {
     "iopub.execute_input": "2021-09-09T02:33:56.469076Z",
     "iopub.status.busy": "2021-09-09T02:33:56.467872Z",
     "iopub.status.idle": "2021-09-09T02:33:56.858627Z",
     "shell.execute_reply": "2021-09-09T02:33:56.857267Z"
    }
   },
   "outputs": [
    {
     "data": {
      "image/png": "[encoded data removed]",
      "text/plain": [
       "<Figure size 864x432 with 1 Axes>"
      ]
     },
     "metadata": {
      "needs_background": "light"
     },
     "output_type": "display_data"
    }
   ],
   "source": [
    "fig, ax = plt.subplots(figsize=(12, 6))\r\n",
    "plt.plot(df_hourly.temp, '.-', label='Temperature')\r\n",
    "plt.plot(df_hourly.feels_like, '.-', label='Feels Like')\r\n",
    "ax.set(title='Temperature in future 48 hours', xlabel='Time', ylabel='Temperature')\r\n",
    "ax.set_xticks(list(range(0, len(df_hourly), 2)))\r\n",
    "ax.set_xticklabels([ts2dt(ts, '%m-%d %H:%M')[0] for i, ts in enumerate(df_hourly.dt) if i%2==0], \r\n",
    "                   rotation=45, ha=\"right\")\r\n",
    "ax.locator_params(nbins=15, axis='y')\r\n",
    "plt.legend()\r\n",
    "plt.show()"
   ]
  },
  {
   "cell_type": "code",
   "execution_count": 10,
   "metadata": {
    "execution": {
     "iopub.execute_input": "2021-09-09T02:33:56.864394Z",
     "iopub.status.busy": "2021-09-09T02:33:56.863767Z",
     "iopub.status.idle": "2021-09-09T02:33:56.885468Z",
     "shell.execute_reply": "2021-09-09T02:33:56.886085Z"
    }
   },
   "outputs": [
    {
     "data": {
      "text/html": [
       "<div>\n",
       "<style scoped>\n",
       "    .dataframe tbody tr th:only-of-type {\n",
       "        vertical-align: middle;\n",
       "    }\n",
       "\n",
       "    .dataframe tbody tr th {\n",
       "        vertical-align: top;\n",
       "    }\n",
       "\n",
       "    .dataframe thead th {\n",
       "        text-align: right;\n",
       "    }\n",
       "</style>\n",
       "<table border=\"1\" class=\"dataframe\">\n",
       "  <thead>\n",
       "    <tr style=\"text-align: right;\">\n",
       "      <th></th>\n",
       "      <th>dt</th>\n",
       "      <th>temp</th>\n",
       "      <th>feels_like</th>\n",
       "      <th>pressure</th>\n",
       "      <th>humidity</th>\n",
       "      <th>dew_point</th>\n",
       "      <th>uvi</th>\n",
       "      <th>clouds</th>\n",
       "      <th>visibility</th>\n",
       "      <th>wind_speed</th>\n",
       "      <th>wind_deg</th>\n",
       "      <th>wind_gust</th>\n",
       "      <th>weather</th>\n",
       "      <th>pop</th>\n",
       "      <th>rain</th>\n",
       "    </tr>\n",
       "  </thead>\n",
       "  <tbody>\n",
       "    <tr>\n",
       "      <th>0</th>\n",
       "      <td>1631152800</td>\n",
       "      <td>32.40</td>\n",
       "      <td>39.40</td>\n",
       "      <td>1010</td>\n",
       "      <td>67</td>\n",
       "      <td>25.48</td>\n",
       "      <td>6.51</td>\n",
       "      <td>3</td>\n",
       "      <td>10000</td>\n",
       "      <td>2.48</td>\n",
       "      <td>72</td>\n",
       "      <td>2.63</td>\n",
       "      <td>[{'id': 800, 'main': 'Clear', 'description': '...</td>\n",
       "      <td>0.00</td>\n",
       "      <td>NaN</td>\n",
       "    </tr>\n",
       "    <tr>\n",
       "      <th>1</th>\n",
       "      <td>1631156400</td>\n",
       "      <td>32.99</td>\n",
       "      <td>39.99</td>\n",
       "      <td>1010</td>\n",
       "      <td>66</td>\n",
       "      <td>25.79</td>\n",
       "      <td>9.25</td>\n",
       "      <td>3</td>\n",
       "      <td>10000</td>\n",
       "      <td>3.34</td>\n",
       "      <td>88</td>\n",
       "      <td>3.31</td>\n",
       "      <td>[{'id': 800, 'main': 'Clear', 'description': '...</td>\n",
       "      <td>0.00</td>\n",
       "      <td>NaN</td>\n",
       "    </tr>\n",
       "    <tr>\n",
       "      <th>2</th>\n",
       "      <td>1631160000</td>\n",
       "      <td>32.49</td>\n",
       "      <td>39.49</td>\n",
       "      <td>1010</td>\n",
       "      <td>66</td>\n",
       "      <td>25.31</td>\n",
       "      <td>8.94</td>\n",
       "      <td>4</td>\n",
       "      <td>10000</td>\n",
       "      <td>3.18</td>\n",
       "      <td>86</td>\n",
       "      <td>3.34</td>\n",
       "      <td>[{'id': 800, 'main': 'Clear', 'description': '...</td>\n",
       "      <td>0.00</td>\n",
       "      <td>NaN</td>\n",
       "    </tr>\n",
       "    <tr>\n",
       "      <th>3</th>\n",
       "      <td>1631163600</td>\n",
       "      <td>31.94</td>\n",
       "      <td>38.84</td>\n",
       "      <td>1010</td>\n",
       "      <td>66</td>\n",
       "      <td>24.79</td>\n",
       "      <td>8.80</td>\n",
       "      <td>9</td>\n",
       "      <td>10000</td>\n",
       "      <td>3.53</td>\n",
       "      <td>98</td>\n",
       "      <td>3.56</td>\n",
       "      <td>[{'id': 800, 'main': 'Clear', 'description': '...</td>\n",
       "      <td>0.01</td>\n",
       "      <td>NaN</td>\n",
       "    </tr>\n",
       "    <tr>\n",
       "      <th>4</th>\n",
       "      <td>1631167200</td>\n",
       "      <td>31.50</td>\n",
       "      <td>38.00</td>\n",
       "      <td>1009</td>\n",
       "      <td>67</td>\n",
       "      <td>24.63</td>\n",
       "      <td>7.26</td>\n",
       "      <td>16</td>\n",
       "      <td>10000</td>\n",
       "      <td>4.17</td>\n",
       "      <td>110</td>\n",
       "      <td>3.77</td>\n",
       "      <td>[{'id': 500, 'main': 'Rain', 'description': 'l...</td>\n",
       "      <td>0.26</td>\n",
       "      <td>{'1h': 0.1}</td>\n",
       "    </tr>\n",
       "  </tbody>\n",
       "</table>\n",
       "</div>"
      ],
      "text/plain": [
       "           dt   temp  feels_like  pressure  humidity  dew_point   uvi  clouds  \\\n",
       "0  1631152800  32.40       39.40      1010        67      25.48  6.51       3   \n",
       "1  1631156400  32.99       39.99      1010        66      25.79  9.25       3   \n",
       "2  1631160000  32.49       39.49      1010        66      25.31  8.94       4   \n",
       "3  1631163600  31.94       38.84      1010        66      24.79  8.80       9   \n",
       "4  1631167200  31.50       38.00      1009        67      24.63  7.26      16   \n",
       "\n",
       "   visibility  wind_speed  wind_deg  wind_gust  \\\n",
       "0       10000        2.48        72       2.63   \n",
       "1       10000        3.34        88       3.31   \n",
       "2       10000        3.18        86       3.34   \n",
       "3       10000        3.53        98       3.56   \n",
       "4       10000        4.17       110       3.77   \n",
       "\n",
       "                                             weather   pop         rain  \n",
       "0  [{'id': 800, 'main': 'Clear', 'description': '...  0.00          NaN  \n",
       "1  [{'id': 800, 'main': 'Clear', 'description': '...  0.00          NaN  \n",
       "2  [{'id': 800, 'main': 'Clear', 'description': '...  0.00          NaN  \n",
       "3  [{'id': 800, 'main': 'Clear', 'description': '...  0.01          NaN  \n",
       "4  [{'id': 500, 'main': 'Rain', 'description': 'l...  0.26  {'1h': 0.1}  "
      ]
     },
     "execution_count": 10,
     "metadata": {},
     "output_type": "execute_result"
    }
   ],
   "source": [
    "df_hourly.head()"
   ]
  },
  {
   "cell_type": "code",
   "execution_count": null,
   "metadata": {},
   "outputs": [],
   "source": []
  }
 ],
 "metadata": {
  "interpreter": {
   "hash": "c1b4cfe941b6d2466ad1fb5979e97da9cda8801728c8091b097ab734208fc00c"
  },
  "kernelspec": {
   "display_name": "Python 3.8.3 64-bit ('base': conda)",
   "name": "python3"
  },
  "language_info": {
   "codemirror_mode": {
    "name": "ipython",
    "version": 3
   },
   "file_extension": ".py",
   "mimetype": "text/x-python",
   "name": "python",
   "nbconvert_exporter": "python",
   "pygments_lexer": "ipython3",
   "version": "3.8.11"
  }
 },
 "nbformat": 4,
 "nbformat_minor": 2
}
