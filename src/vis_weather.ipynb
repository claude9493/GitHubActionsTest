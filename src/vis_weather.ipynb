{
 "cells": [
  {
   "cell_type": "code",
   "execution_count": 1,
   "metadata": {
    "execution": {
     "iopub.execute_input": "2021-09-15T10:12:32.088542Z",
     "iopub.status.busy": "2021-09-15T10:12:32.087946Z",
     "iopub.status.idle": "2021-09-15T10:12:33.380324Z",
     "shell.execute_reply": "2021-09-15T10:12:33.379575Z"
    }
   },
   "outputs": [],
   "source": [
    "import json, yaml, requests\r\n",
    "from datetime import datetime\r\n",
    "from dateutil import tz\r\n",
    "import pandas as pd\r\n",
    "from PIL import Image\r\n",
    "from io import BytesIO\r\n",
    "import matplotlib.pyplot as plt\r\n",
    "import seaborn\r\n",
    "\r\n",
    "CONFIG_PATH = \"../config/config.yaml\""
   ]
  },
  {
   "cell_type": "code",
   "execution_count": 2,
   "metadata": {
    "execution": {
     "iopub.execute_input": "2021-09-15T10:12:33.384877Z",
     "iopub.status.busy": "2021-09-15T10:12:33.382691Z",
     "iopub.status.idle": "2021-09-15T10:12:33.389597Z",
     "shell.execute_reply": "2021-09-15T10:12:33.389976Z"
    }
   },
   "outputs": [],
   "source": [
    "with open('../newest_ts', 'r') as f:\r\n",
    "    newest_ts = f.read()\r\n",
    "\r\n",
    "data_path = f\"../data/data_{newest_ts}.json\"\r\n",
    "with open(data_path, 'r') as f:\r\n",
    "    data = json.load(f)\r\n",
    "\r\n",
    "with open(CONFIG_PATH, \"r\") as stream:\r\n",
    "    config = yaml.safe_load(stream)\r\n",
    "\r\n",
    "TIME_ZONE = config['time_zone']\r\n",
    "DATETIME_FORMAT = config['dt_format']"
   ]
  },
  {
   "cell_type": "code",
   "execution_count": 3,
   "metadata": {
    "execution": {
     "iopub.execute_input": "2021-09-15T10:12:33.394656Z",
     "iopub.status.busy": "2021-09-15T10:12:33.394154Z",
     "iopub.status.idle": "2021-09-15T10:12:33.401162Z",
     "shell.execute_reply": "2021-09-15T10:12:33.401557Z"
    }
   },
   "outputs": [
    {
     "name": "stdout",
     "output_type": "stream",
     "text": [
      "Recent query happens at 2021-09-15 18:12:28 (CST).\n"
     ]
    }
   ],
   "source": [
    "def ts2dt(ts, format=DATETIME_FORMAT):\r\n",
    "    dt = (datetime.utcfromtimestamp(int(ts))\r\n",
    "                    .replace(tzinfo=tz.tzutc())\r\n",
    "                    # .astimezone(tz.tzlocal())\r\n",
    "                    .astimezone(tz.gettz(TIME_ZONE)))\r\n",
    "    return dt.strftime(format), dt\r\n",
    "\r\n",
    "_, newest_dt = ts2dt(newest_ts)\r\n",
    "print(f\"Recent query happens at {newest_dt.strftime(DATETIME_FORMAT)} ({newest_dt.tzname()}).\")"
   ]
  },
  {
   "cell_type": "code",
   "execution_count": 4,
   "metadata": {
    "execution": {
     "iopub.execute_input": "2021-09-15T10:12:33.406713Z",
     "iopub.status.busy": "2021-09-15T10:12:33.405510Z",
     "iopub.status.idle": "2021-09-15T10:12:33.407307Z",
     "shell.execute_reply": "2021-09-15T10:12:33.407952Z"
    }
   },
   "outputs": [],
   "source": [
    "def degrees_to_cardinal(d):\r\n",
    "  dirs = ['N', 'NNE', 'NE', 'ENE', 'E', 'ESE', 'SE', 'SSE', 'S', 'SSW', 'SW', 'WSW', 'W', 'WNW', 'NW', 'NNW']\r\n",
    "  ix = int(round(d / (360. / len(dirs))))\r\n",
    "  return dirs[ix % len(dirs)]"
   ]
  },
  {
   "cell_type": "code",
   "execution_count": 5,
   "metadata": {
    "execution": {
     "iopub.execute_input": "2021-09-15T10:12:33.412724Z",
     "iopub.status.busy": "2021-09-15T10:12:33.411185Z",
     "iopub.status.idle": "2021-09-15T10:12:33.413501Z",
     "shell.execute_reply": "2021-09-15T10:12:33.413922Z"
    }
   },
   "outputs": [],
   "source": [
    "# data.keys()"
   ]
  },
  {
   "cell_type": "code",
   "execution_count": 6,
   "metadata": {
    "execution": {
     "iopub.execute_input": "2021-09-15T10:12:33.419229Z",
     "iopub.status.busy": "2021-09-15T10:12:33.417316Z",
     "iopub.status.idle": "2021-09-15T10:12:33.419937Z",
     "shell.execute_reply": "2021-09-15T10:12:33.420551Z"
    }
   },
   "outputs": [],
   "source": [
    "# data['current']"
   ]
  },
  {
   "cell_type": "code",
   "execution_count": 7,
   "metadata": {
    "execution": {
     "iopub.execute_input": "2021-09-15T10:12:33.427138Z",
     "iopub.status.busy": "2021-09-15T10:12:33.425922Z",
     "iopub.status.idle": "2021-09-15T10:12:33.860694Z",
     "shell.execute_reply": "2021-09-15T10:12:33.861303Z"
    }
   },
   "outputs": [
    {
     "data": {
      "image/png": "[encoded data removed]",
      "text/plain": [
       "<Figure size 216x216 with 1 Axes>"
      ]
     },
     "metadata": {
      "needs_background": "light"
     },
     "output_type": "display_data"
    },
    {
     "name": "stdout",
     "output_type": "stream",
     "text": [
      "Today, sun rises at 06:09 and sets at 18:27.\n",
      "Currently, the weather is Clouds (broken clouds).\n",
      "The temperature is 31.01°C and it feels like 38.01°C.\n",
      "The UV index is 0.15, humidity is 81%.\n",
      "The pressure is 1009 hPa, percentage of cloud cover is 60%\n",
      "The wind comes from WSW direction with a speed 5.02 m/s.\n"
     ]
    }
   ],
   "source": [
    "current = data['current']\r\n",
    "\r\n",
    "fig, ax = plt.subplots(figsize=(3, 3))\r\n",
    "icon = requests.get(f\"http://openweathermap.org/img/wn/{current['weather'][0]['icon']}@2x.png\")\r\n",
    "im = Image.open(BytesIO(icon.content))\r\n",
    "plt.imshow(im)\r\n",
    "ax.set_axis_off()\r\n",
    "plt.show()\r\n",
    "\r\n",
    "print(f\"Today, sun rises at {ts2dt(current['sunrise'], '%H:%M')[0]} \\\r\n",
    "and sets at {ts2dt(current['sunset'], '%H:%M')[0]}.\\n\\\r\n",
    "Currently, the weather is {current['weather'][0]['main']} ({current['weather'][0]['description']}).\\n\\\r\n",
    "The temperature is {current['temp']}°C and it feels like {current['feels_like']}°C.\\n\\\r\n",
    "The UV index is {current['uvi']}, humidity is {current['humidity']}%.\\n\\\r\n",
    "The pressure is {current['pressure']} hPa, percentage of cloud cover is {current['clouds']}%\\n\\\r\n",
    "The wind comes from {degrees_to_cardinal(current['wind_deg'])} direction with a speed {current['wind_speed']} m/s.\")"
   ]
  },
  {
   "cell_type": "code",
   "execution_count": 8,
   "metadata": {
    "execution": {
     "iopub.execute_input": "2021-09-15T10:12:33.864517Z",
     "iopub.status.busy": "2021-09-15T10:12:33.863991Z",
     "iopub.status.idle": "2021-09-15T10:12:33.870107Z",
     "shell.execute_reply": "2021-09-15T10:12:33.870583Z"
    }
   },
   "outputs": [],
   "source": [
    "df_hourly = pd.DataFrame(data['hourly'])\r\n",
    "df_daily = pd.DataFrame(data['daily'])"
   ]
  },
  {
   "cell_type": "code",
   "execution_count": 9,
   "metadata": {
    "execution": {
     "iopub.execute_input": "2021-09-15T10:12:33.873084Z",
     "iopub.status.busy": "2021-09-15T10:12:33.872498Z",
     "iopub.status.idle": "2021-09-15T10:12:34.195347Z",
     "shell.execute_reply": "2021-09-15T10:12:34.195934Z"
    }
   },
   "outputs": [
    {
     "data": {
      "image/png": "[encoded data removed]",
      "text/plain": [
       "<Figure size 864x432 with 1 Axes>"
      ]
     },
     "metadata": {
      "needs_background": "light"
     },
     "output_type": "display_data"
    }
   ],
   "source": [
    "fig, ax = plt.subplots(figsize=(12, 6))\r\n",
    "plt.plot(df_hourly.temp, '.-', label='Temperature')\r\n",
    "plt.plot(df_hourly.feels_like, '.-', label='Feels Like')\r\n",
    "ax.set(title='Temperature in future 48 hours', xlabel='Time', ylabel='Temperature')\r\n",
    "ax.set_xticks(list(range(0, len(df_hourly), 2)))\r\n",
    "ax.set_xticklabels([ts2dt(ts, '%m-%d %H:%M')[0] for i, ts in enumerate(df_hourly.dt) if i%2==0], \r\n",
    "                   rotation=45, ha=\"right\")\r\n",
    "ax.locator_params(nbins=15, axis='y')\r\n",
    "plt.legend()\r\n",
    "plt.show()"
   ]
  },
  {
   "cell_type": "code",
   "execution_count": 10,
   "metadata": {
    "execution": {
     "iopub.execute_input": "2021-09-15T10:12:34.200457Z",
     "iopub.status.busy": "2021-09-15T10:12:34.199947Z",
     "iopub.status.idle": "2021-09-15T10:12:34.219584Z",
     "shell.execute_reply": "2021-09-15T10:12:34.220007Z"
    }
   },
   "outputs": [
    {
     "data": {
      "text/html": [
       "<div>\n",
       "<style scoped>\n",
       "    .dataframe tbody tr th:only-of-type {\n",
       "        vertical-align: middle;\n",
       "    }\n",
       "\n",
       "    .dataframe tbody tr th {\n",
       "        vertical-align: top;\n",
       "    }\n",
       "\n",
       "    .dataframe thead th {\n",
       "        text-align: right;\n",
       "    }\n",
       "</style>\n",
       "<table border=\"1\" class=\"dataframe\">\n",
       "  <thead>\n",
       "    <tr style=\"text-align: right;\">\n",
       "      <th></th>\n",
       "      <th>dt</th>\n",
       "      <th>temp</th>\n",
       "      <th>feels_like</th>\n",
       "      <th>pressure</th>\n",
       "      <th>humidity</th>\n",
       "      <th>dew_point</th>\n",
       "      <th>uvi</th>\n",
       "      <th>clouds</th>\n",
       "      <th>visibility</th>\n",
       "      <th>wind_speed</th>\n",
       "      <th>wind_deg</th>\n",
       "      <th>wind_gust</th>\n",
       "      <th>weather</th>\n",
       "      <th>pop</th>\n",
       "      <th>rain</th>\n",
       "    </tr>\n",
       "  </thead>\n",
       "  <tbody>\n",
       "    <tr>\n",
       "      <th>0</th>\n",
       "      <td>1631700000</td>\n",
       "      <td>31.01</td>\n",
       "      <td>38.01</td>\n",
       "      <td>1009</td>\n",
       "      <td>81</td>\n",
       "      <td>27.36</td>\n",
       "      <td>0.15</td>\n",
       "      <td>60</td>\n",
       "      <td>10000</td>\n",
       "      <td>5.02</td>\n",
       "      <td>246</td>\n",
       "      <td>6.54</td>\n",
       "      <td>[{'id': 500, 'main': 'Rain', 'description': 'l...</td>\n",
       "      <td>0.64</td>\n",
       "      <td>{'1h': 0.39}</td>\n",
       "    </tr>\n",
       "    <tr>\n",
       "      <th>1</th>\n",
       "      <td>1631703600</td>\n",
       "      <td>30.59</td>\n",
       "      <td>37.59</td>\n",
       "      <td>1009</td>\n",
       "      <td>80</td>\n",
       "      <td>26.74</td>\n",
       "      <td>0.00</td>\n",
       "      <td>61</td>\n",
       "      <td>10000</td>\n",
       "      <td>4.16</td>\n",
       "      <td>242</td>\n",
       "      <td>5.39</td>\n",
       "      <td>[{'id': 803, 'main': 'Clouds', 'description': ...</td>\n",
       "      <td>0.67</td>\n",
       "      <td>NaN</td>\n",
       "    </tr>\n",
       "    <tr>\n",
       "      <th>2</th>\n",
       "      <td>1631707200</td>\n",
       "      <td>30.04</td>\n",
       "      <td>37.04</td>\n",
       "      <td>1009</td>\n",
       "      <td>81</td>\n",
       "      <td>26.42</td>\n",
       "      <td>0.00</td>\n",
       "      <td>64</td>\n",
       "      <td>9036</td>\n",
       "      <td>3.97</td>\n",
       "      <td>240</td>\n",
       "      <td>5.03</td>\n",
       "      <td>[{'id': 803, 'main': 'Clouds', 'description': ...</td>\n",
       "      <td>0.73</td>\n",
       "      <td>NaN</td>\n",
       "    </tr>\n",
       "    <tr>\n",
       "      <th>3</th>\n",
       "      <td>1631710800</td>\n",
       "      <td>29.76</td>\n",
       "      <td>36.76</td>\n",
       "      <td>1010</td>\n",
       "      <td>80</td>\n",
       "      <td>25.94</td>\n",
       "      <td>0.00</td>\n",
       "      <td>80</td>\n",
       "      <td>10000</td>\n",
       "      <td>4.46</td>\n",
       "      <td>249</td>\n",
       "      <td>5.68</td>\n",
       "      <td>[{'id': 500, 'main': 'Rain', 'description': 'l...</td>\n",
       "      <td>0.84</td>\n",
       "      <td>{'1h': 0.41}</td>\n",
       "    </tr>\n",
       "    <tr>\n",
       "      <th>4</th>\n",
       "      <td>1631714400</td>\n",
       "      <td>29.10</td>\n",
       "      <td>35.48</td>\n",
       "      <td>1011</td>\n",
       "      <td>82</td>\n",
       "      <td>25.71</td>\n",
       "      <td>0.00</td>\n",
       "      <td>86</td>\n",
       "      <td>10000</td>\n",
       "      <td>4.53</td>\n",
       "      <td>258</td>\n",
       "      <td>5.93</td>\n",
       "      <td>[{'id': 500, 'main': 'Rain', 'description': 'l...</td>\n",
       "      <td>0.95</td>\n",
       "      <td>{'1h': 0.2}</td>\n",
       "    </tr>\n",
       "  </tbody>\n",
       "</table>\n",
       "</div>"
      ],
      "text/plain": [
       "           dt   temp  feels_like  pressure  humidity  dew_point   uvi  clouds  \\\n",
       "0  1631700000  31.01       38.01      1009        81      27.36  0.15      60   \n",
       "1  1631703600  30.59       37.59      1009        80      26.74  0.00      61   \n",
       "2  1631707200  30.04       37.04      1009        81      26.42  0.00      64   \n",
       "3  1631710800  29.76       36.76      1010        80      25.94  0.00      80   \n",
       "4  1631714400  29.10       35.48      1011        82      25.71  0.00      86   \n",
       "\n",
       "   visibility  wind_speed  wind_deg  wind_gust  \\\n",
       "0       10000        5.02       246       6.54   \n",
       "1       10000        4.16       242       5.39   \n",
       "2        9036        3.97       240       5.03   \n",
       "3       10000        4.46       249       5.68   \n",
       "4       10000        4.53       258       5.93   \n",
       "\n",
       "                                             weather   pop          rain  \n",
       "0  [{'id': 500, 'main': 'Rain', 'description': 'l...  0.64  {'1h': 0.39}  \n",
       "1  [{'id': 803, 'main': 'Clouds', 'description': ...  0.67           NaN  \n",
       "2  [{'id': 803, 'main': 'Clouds', 'description': ...  0.73           NaN  \n",
       "3  [{'id': 500, 'main': 'Rain', 'description': 'l...  0.84  {'1h': 0.41}  \n",
       "4  [{'id': 500, 'main': 'Rain', 'description': 'l...  0.95   {'1h': 0.2}  "
      ]
     },
     "execution_count": 10,
     "metadata": {},
     "output_type": "execute_result"
    }
   ],
   "source": [
    "df_hourly.head()"
   ]
  },
  {
   "cell_type": "code",
   "execution_count": null,
   "metadata": {},
   "outputs": [],
   "source": []
  }
 ],
 "metadata": {
  "interpreter": {
   "hash": "c1b4cfe941b6d2466ad1fb5979e97da9cda8801728c8091b097ab734208fc00c"
  },
  "kernelspec": {
   "display_name": "Python 3.8.3 64-bit ('base': conda)",
   "name": "python3"
  },
  "language_info": {
   "codemirror_mode": {
    "name": "ipython",
    "version": 3
   },
   "file_extension": ".py",
   "mimetype": "text/x-python",
   "name": "python",
   "nbconvert_exporter": "python",
   "pygments_lexer": "ipython3",
   "version": "3.8.11"
  }
 },
 "nbformat": 4,
 "nbformat_minor": 2
}
