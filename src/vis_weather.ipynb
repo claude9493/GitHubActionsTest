{
 "cells": [
  {
   "cell_type": "code",
   "execution_count": 1,
   "metadata": {
    "execution": {
     "iopub.execute_input": "2021-08-30T08:17:57.137588Z",
     "iopub.status.busy": "2021-08-30T08:17:57.136970Z",
     "iopub.status.idle": "2021-08-30T08:17:58.570911Z",
     "shell.execute_reply": "2021-08-30T08:17:58.570315Z"
    }
   },
   "outputs": [],
   "source": [
    "import json, yaml, requests\r\n",
    "from datetime import datetime\r\n",
    "from dateutil import tz\r\n",
    "import pandas as pd\r\n",
    "from PIL import Image\r\n",
    "from io import BytesIO\r\n",
    "import matplotlib.pyplot as plt\r\n",
    "import seaborn\r\n",
    "\r\n",
    "CONFIG_PATH = \"../config/config.yaml\""
   ]
  },
  {
   "cell_type": "code",
   "execution_count": 2,
   "metadata": {
    "execution": {
     "iopub.execute_input": "2021-08-30T08:17:58.576953Z",
     "iopub.status.busy": "2021-08-30T08:17:58.575896Z",
     "iopub.status.idle": "2021-08-30T08:17:58.583538Z",
     "shell.execute_reply": "2021-08-30T08:17:58.583045Z"
    }
   },
   "outputs": [],
   "source": [
    "with open('../newest_ts', 'r') as f:\r\n",
    "    newest_ts = f.read()\r\n",
    "\r\n",
    "data_path = f\"../data/data_{newest_ts}.json\"\r\n",
    "with open(data_path, 'r') as f:\r\n",
    "    data = json.load(f)\r\n",
    "\r\n",
    "with open(CONFIG_PATH, \"r\") as stream:\r\n",
    "    config = yaml.safe_load(stream)\r\n",
    "\r\n",
    "TIME_ZONE = config['time_zone']\r\n",
    "DATETIME_FORMAT = config['dt_format']"
   ]
  },
  {
   "cell_type": "code",
   "execution_count": 3,
   "metadata": {
    "execution": {
     "iopub.execute_input": "2021-08-30T08:17:58.588867Z",
     "iopub.status.busy": "2021-08-30T08:17:58.588270Z",
     "iopub.status.idle": "2021-08-30T08:17:58.594825Z",
     "shell.execute_reply": "2021-08-30T08:17:58.594183Z"
    }
   },
   "outputs": [
    {
     "name": "stdout",
     "output_type": "stream",
     "text": [
      "Recent query happens at 2021-08-30 16:17:54 (CST).\n"
     ]
    }
   ],
   "source": [
    "def ts2dt(ts, format=DATETIME_FORMAT):\r\n",
    "    dt = (datetime.utcfromtimestamp(int(ts))\r\n",
    "                    .replace(tzinfo=tz.tzutc())\r\n",
    "                    # .astimezone(tz.tzlocal())\r\n",
    "                    .astimezone(tz.gettz(TIME_ZONE)))\r\n",
    "    return dt.strftime(format), dt\r\n",
    "\r\n",
    "_, newest_dt = ts2dt(newest_ts)\r\n",
    "print(f\"Recent query happens at {newest_dt.strftime(DATETIME_FORMAT)} ({newest_dt.tzname()}).\")"
   ]
  },
  {
   "cell_type": "code",
   "execution_count": 4,
   "metadata": {
    "execution": {
     "iopub.execute_input": "2021-08-30T08:17:58.600141Z",
     "iopub.status.busy": "2021-08-30T08:17:58.599582Z",
     "iopub.status.idle": "2021-08-30T08:17:58.603358Z",
     "shell.execute_reply": "2021-08-30T08:17:58.602765Z"
    }
   },
   "outputs": [],
   "source": [
    "def degrees_to_cardinal(d):\r\n",
    "  dirs = ['N', 'NNE', 'NE', 'ENE', 'E', 'ESE', 'SE', 'SSE', 'S', 'SSW', 'SW', 'WSW', 'W', 'WNW', 'NW', 'NNW']\r\n",
    "  ix = int(round(d / (360. / len(dirs))))\r\n",
    "  return dirs[ix % len(dirs)]"
   ]
  },
  {
   "cell_type": "code",
   "execution_count": 5,
   "metadata": {
    "execution": {
     "iopub.execute_input": "2021-08-30T08:17:58.607521Z",
     "iopub.status.busy": "2021-08-30T08:17:58.606957Z",
     "iopub.status.idle": "2021-08-30T08:17:58.610658Z",
     "shell.execute_reply": "2021-08-30T08:17:58.610209Z"
    }
   },
   "outputs": [],
   "source": [
    "# data.keys()"
   ]
  },
  {
   "cell_type": "code",
   "execution_count": 6,
   "metadata": {
    "execution": {
     "iopub.execute_input": "2021-08-30T08:17:58.614266Z",
     "iopub.status.busy": "2021-08-30T08:17:58.613690Z",
     "iopub.status.idle": "2021-08-30T08:17:58.615873Z",
     "shell.execute_reply": "2021-08-30T08:17:58.616648Z"
    }
   },
   "outputs": [],
   "source": [
    "# data['current']"
   ]
  },
  {
   "cell_type": "code",
   "execution_count": 7,
   "metadata": {
    "execution": {
     "iopub.execute_input": "2021-08-30T08:17:58.644912Z",
     "iopub.status.busy": "2021-08-30T08:17:58.637175Z",
     "iopub.status.idle": "2021-08-30T08:17:59.061471Z",
     "shell.execute_reply": "2021-08-30T08:17:59.060236Z"
    }
   },
   "outputs": [
    {
     "data": {
      "image/png": "[encoded data removed]",
      "text/plain": [
       "<Figure size 216x216 with 1 Axes>"
      ]
     },
     "metadata": {
      "needs_background": "light"
     },
     "output_type": "display_data"
    },
    {
     "name": "stdout",
     "output_type": "stream",
     "text": [
      "Today, sun rises at 06:05 and sets at 18:42.\n",
      "Currently, the weather is Rain (moderate rain).\n",
      "The temperature is 30.75°C and it feels like 37.75°C.\n",
      "The UV index is 3.4, humidity is 73%.\n",
      "The pressure is 1010 hPa, percentage of cloud cover is 11%\n",
      "The wind comes from E direction with a speed 5.23 m/s.\n"
     ]
    }
   ],
   "source": [
    "current = data['current']\r\n",
    "\r\n",
    "fig, ax = plt.subplots(figsize=(3, 3))\r\n",
    "icon = requests.get(f\"http://openweathermap.org/img/wn/{current['weather'][0]['icon']}@2x.png\")\r\n",
    "im = Image.open(BytesIO(icon.content))\r\n",
    "plt.imshow(im)\r\n",
    "ax.set_axis_off()\r\n",
    "plt.show()\r\n",
    "\r\n",
    "print(f\"Today, sun rises at {ts2dt(current['sunrise'], '%H:%M')[0]} \\\r\n",
    "and sets at {ts2dt(current['sunset'], '%H:%M')[0]}.\\n\\\r\n",
    "Currently, the weather is {current['weather'][0]['main']} ({current['weather'][0]['description']}).\\n\\\r\n",
    "The temperature is {current['temp']}°C and it feels like {current['feels_like']}°C.\\n\\\r\n",
    "The UV index is {current['uvi']}, humidity is {current['humidity']}%.\\n\\\r\n",
    "The pressure is {current['pressure']} hPa, percentage of cloud cover is {current['clouds']}%\\n\\\r\n",
    "The wind comes from {degrees_to_cardinal(current['wind_deg'])} direction with a speed {current['wind_speed']} m/s.\")"
   ]
  },
  {
   "cell_type": "code",
   "execution_count": 8,
   "metadata": {
    "execution": {
     "iopub.execute_input": "2021-08-30T08:17:59.069948Z",
     "iopub.status.busy": "2021-08-30T08:17:59.067196Z",
     "iopub.status.idle": "2021-08-30T08:17:59.072897Z",
     "shell.execute_reply": "2021-08-30T08:17:59.073442Z"
    }
   },
   "outputs": [],
   "source": [
    "df_hourly = pd.DataFrame(data['hourly'])\r\n",
    "df_daily = pd.DataFrame(data['daily'])"
   ]
  },
  {
   "cell_type": "code",
   "execution_count": 9,
   "metadata": {
    "execution": {
     "iopub.execute_input": "2021-08-30T08:17:59.089746Z",
     "iopub.status.busy": "2021-08-30T08:17:59.081795Z",
     "iopub.status.idle": "2021-08-30T08:17:59.404023Z",
     "shell.execute_reply": "2021-08-30T08:17:59.404513Z"
    }
   },
   "outputs": [
    {
     "data": {
      "image/png": "[encoded data removed]",
      "text/plain": [
       "<Figure size 864x432 with 1 Axes>"
      ]
     },
     "metadata": {
      "needs_background": "light"
     },
     "output_type": "display_data"
    }
   ],
   "source": [
    "fig, ax = plt.subplots(figsize=(12, 6))\r\n",
    "plt.plot(df_hourly.temp, '.-', label='Temperature')\r\n",
    "plt.plot(df_hourly.feels_like, '.-', label='Feels Like')\r\n",
    "ax.set(title='Temperature in future 48 hours', xlabel='Time', ylabel='Temperature')\r\n",
    "ax.set_xticks(list(range(0, len(df_hourly), 2)))\r\n",
    "ax.set_xticklabels([ts2dt(ts, '%m-%d %H:%M')[0] for i, ts in enumerate(df_hourly.dt) if i%2==0], \r\n",
    "                   rotation=45, ha=\"right\")\r\n",
    "ax.locator_params(nbins=15, axis='y')\r\n",
    "plt.legend()\r\n",
    "plt.show()"
   ]
  },
  {
   "cell_type": "code",
   "execution_count": 10,
   "metadata": {
    "execution": {
     "iopub.execute_input": "2021-08-30T08:17:59.409524Z",
     "iopub.status.busy": "2021-08-30T08:17:59.408855Z",
     "iopub.status.idle": "2021-08-30T08:17:59.428579Z",
     "shell.execute_reply": "2021-08-30T08:17:59.429063Z"
    }
   },
   "outputs": [
    {
     "data": {
      "text/html": [
       "<div>\n",
       "<style scoped>\n",
       "    .dataframe tbody tr th:only-of-type {\n",
       "        vertical-align: middle;\n",
       "    }\n",
       "\n",
       "    .dataframe tbody tr th {\n",
       "        vertical-align: top;\n",
       "    }\n",
       "\n",
       "    .dataframe thead th {\n",
       "        text-align: right;\n",
       "    }\n",
       "</style>\n",
       "<table border=\"1\" class=\"dataframe\">\n",
       "  <thead>\n",
       "    <tr style=\"text-align: right;\">\n",
       "      <th></th>\n",
       "      <th>dt</th>\n",
       "      <th>temp</th>\n",
       "      <th>feels_like</th>\n",
       "      <th>pressure</th>\n",
       "      <th>humidity</th>\n",
       "      <th>dew_point</th>\n",
       "      <th>uvi</th>\n",
       "      <th>clouds</th>\n",
       "      <th>visibility</th>\n",
       "      <th>wind_speed</th>\n",
       "      <th>wind_deg</th>\n",
       "      <th>wind_gust</th>\n",
       "      <th>weather</th>\n",
       "      <th>pop</th>\n",
       "      <th>rain</th>\n",
       "    </tr>\n",
       "  </thead>\n",
       "  <tbody>\n",
       "    <tr>\n",
       "      <th>0</th>\n",
       "      <td>1630310400</td>\n",
       "      <td>30.75</td>\n",
       "      <td>37.75</td>\n",
       "      <td>1010</td>\n",
       "      <td>73</td>\n",
       "      <td>25.35</td>\n",
       "      <td>3.40</td>\n",
       "      <td>11</td>\n",
       "      <td>10000</td>\n",
       "      <td>5.23</td>\n",
       "      <td>97</td>\n",
       "      <td>6.69</td>\n",
       "      <td>[{'id': 801, 'main': 'Clouds', 'description': ...</td>\n",
       "      <td>0.07</td>\n",
       "      <td>NaN</td>\n",
       "    </tr>\n",
       "    <tr>\n",
       "      <th>1</th>\n",
       "      <td>1630314000</td>\n",
       "      <td>30.50</td>\n",
       "      <td>36.84</td>\n",
       "      <td>1010</td>\n",
       "      <td>72</td>\n",
       "      <td>24.88</td>\n",
       "      <td>1.23</td>\n",
       "      <td>11</td>\n",
       "      <td>10000</td>\n",
       "      <td>4.93</td>\n",
       "      <td>104</td>\n",
       "      <td>6.71</td>\n",
       "      <td>[{'id': 500, 'main': 'Rain', 'description': 'l...</td>\n",
       "      <td>0.33</td>\n",
       "      <td>{'1h': 0.56}</td>\n",
       "    </tr>\n",
       "    <tr>\n",
       "      <th>2</th>\n",
       "      <td>1630317600</td>\n",
       "      <td>30.04</td>\n",
       "      <td>36.41</td>\n",
       "      <td>1010</td>\n",
       "      <td>75</td>\n",
       "      <td>25.12</td>\n",
       "      <td>0.22</td>\n",
       "      <td>14</td>\n",
       "      <td>10000</td>\n",
       "      <td>4.60</td>\n",
       "      <td>107</td>\n",
       "      <td>7.01</td>\n",
       "      <td>[{'id': 801, 'main': 'Clouds', 'description': ...</td>\n",
       "      <td>0.13</td>\n",
       "      <td>NaN</td>\n",
       "    </tr>\n",
       "    <tr>\n",
       "      <th>3</th>\n",
       "      <td>1630321200</td>\n",
       "      <td>29.29</td>\n",
       "      <td>35.09</td>\n",
       "      <td>1010</td>\n",
       "      <td>78</td>\n",
       "      <td>25.05</td>\n",
       "      <td>0.00</td>\n",
       "      <td>25</td>\n",
       "      <td>10000</td>\n",
       "      <td>4.98</td>\n",
       "      <td>106</td>\n",
       "      <td>7.62</td>\n",
       "      <td>[{'id': 802, 'main': 'Clouds', 'description': ...</td>\n",
       "      <td>0.30</td>\n",
       "      <td>NaN</td>\n",
       "    </tr>\n",
       "    <tr>\n",
       "      <th>4</th>\n",
       "      <td>1630324800</td>\n",
       "      <td>28.78</td>\n",
       "      <td>34.14</td>\n",
       "      <td>1011</td>\n",
       "      <td>80</td>\n",
       "      <td>24.98</td>\n",
       "      <td>0.00</td>\n",
       "      <td>38</td>\n",
       "      <td>10000</td>\n",
       "      <td>5.35</td>\n",
       "      <td>107</td>\n",
       "      <td>8.52</td>\n",
       "      <td>[{'id': 802, 'main': 'Clouds', 'description': ...</td>\n",
       "      <td>0.39</td>\n",
       "      <td>NaN</td>\n",
       "    </tr>\n",
       "  </tbody>\n",
       "</table>\n",
       "</div>"
      ],
      "text/plain": [
       "           dt   temp  feels_like  pressure  humidity  dew_point   uvi  clouds  \\\n",
       "0  1630310400  30.75       37.75      1010        73      25.35  3.40      11   \n",
       "1  1630314000  30.50       36.84      1010        72      24.88  1.23      11   \n",
       "2  1630317600  30.04       36.41      1010        75      25.12  0.22      14   \n",
       "3  1630321200  29.29       35.09      1010        78      25.05  0.00      25   \n",
       "4  1630324800  28.78       34.14      1011        80      24.98  0.00      38   \n",
       "\n",
       "   visibility  wind_speed  wind_deg  wind_gust  \\\n",
       "0       10000        5.23        97       6.69   \n",
       "1       10000        4.93       104       6.71   \n",
       "2       10000        4.60       107       7.01   \n",
       "3       10000        4.98       106       7.62   \n",
       "4       10000        5.35       107       8.52   \n",
       "\n",
       "                                             weather   pop          rain  \n",
       "0  [{'id': 801, 'main': 'Clouds', 'description': ...  0.07           NaN  \n",
       "1  [{'id': 500, 'main': 'Rain', 'description': 'l...  0.33  {'1h': 0.56}  \n",
       "2  [{'id': 801, 'main': 'Clouds', 'description': ...  0.13           NaN  \n",
       "3  [{'id': 802, 'main': 'Clouds', 'description': ...  0.30           NaN  \n",
       "4  [{'id': 802, 'main': 'Clouds', 'description': ...  0.39           NaN  "
      ]
     },
     "execution_count": 10,
     "metadata": {},
     "output_type": "execute_result"
    }
   ],
   "source": [
    "df_hourly.head()"
   ]
  },
  {
   "cell_type": "code",
   "execution_count": null,
   "metadata": {},
   "outputs": [],
   "source": []
  }
 ],
 "metadata": {
  "interpreter": {
   "hash": "c1b4cfe941b6d2466ad1fb5979e97da9cda8801728c8091b097ab734208fc00c"
  },
  "kernelspec": {
   "display_name": "Python 3.8.3 64-bit ('base': conda)",
   "name": "python3"
  },
  "language_info": {
   "codemirror_mode": {
    "name": "ipython",
    "version": 3
   },
   "file_extension": ".py",
   "mimetype": "text/x-python",
   "name": "python",
   "nbconvert_exporter": "python",
   "pygments_lexer": "ipython3",
   "version": "3.8.11"
  }
 },
 "nbformat": 4,
 "nbformat_minor": 2
}
