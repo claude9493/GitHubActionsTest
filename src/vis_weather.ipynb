{
 "cells": [
  {
   "cell_type": "code",
   "execution_count": 1,
   "metadata": {
    "execution": {
     "iopub.execute_input": "2021-09-01T10:41:14.109201Z",
     "iopub.status.busy": "2021-09-01T10:41:14.108526Z",
     "iopub.status.idle": "2021-09-01T10:41:18.593125Z",
     "shell.execute_reply": "2021-09-01T10:41:18.593680Z"
    }
   },
   "outputs": [],
   "source": [
    "import json, yaml, requests\r\n",
    "from datetime import datetime\r\n",
    "from dateutil import tz\r\n",
    "import pandas as pd\r\n",
    "from PIL import Image\r\n",
    "from io import BytesIO\r\n",
    "import matplotlib.pyplot as plt\r\n",
    "import seaborn\r\n",
    "\r\n",
    "CONFIG_PATH = \"../config/config.yaml\""
   ]
  },
  {
   "cell_type": "code",
   "execution_count": 2,
   "metadata": {
    "execution": {
     "iopub.execute_input": "2021-09-01T10:41:18.599951Z",
     "iopub.status.busy": "2021-09-01T10:41:18.599120Z",
     "iopub.status.idle": "2021-09-01T10:41:18.608819Z",
     "shell.execute_reply": "2021-09-01T10:41:18.607472Z"
    }
   },
   "outputs": [],
   "source": [
    "with open('../newest_ts', 'r') as f:\r\n",
    "    newest_ts = f.read()\r\n",
    "\r\n",
    "data_path = f\"../data/data_{newest_ts}.json\"\r\n",
    "with open(data_path, 'r') as f:\r\n",
    "    data = json.load(f)\r\n",
    "\r\n",
    "with open(CONFIG_PATH, \"r\") as stream:\r\n",
    "    config = yaml.safe_load(stream)\r\n",
    "\r\n",
    "TIME_ZONE = config['time_zone']\r\n",
    "DATETIME_FORMAT = config['dt_format']"
   ]
  },
  {
   "cell_type": "code",
   "execution_count": 3,
   "metadata": {
    "execution": {
     "iopub.execute_input": "2021-09-01T10:41:18.614491Z",
     "iopub.status.busy": "2021-09-01T10:41:18.613914Z",
     "iopub.status.idle": "2021-09-01T10:41:18.639134Z",
     "shell.execute_reply": "2021-09-01T10:41:18.639596Z"
    }
   },
   "outputs": [
    {
     "name": "stdout",
     "output_type": "stream",
     "text": [
      "Recent query happens at 2021-09-01 18:41:10 (CST).\n"
     ]
    }
   ],
   "source": [
    "def ts2dt(ts, format=DATETIME_FORMAT):\r\n",
    "    dt = (datetime.utcfromtimestamp(int(ts))\r\n",
    "                    .replace(tzinfo=tz.tzutc())\r\n",
    "                    # .astimezone(tz.tzlocal())\r\n",
    "                    .astimezone(tz.gettz(TIME_ZONE)))\r\n",
    "    return dt.strftime(format), dt\r\n",
    "\r\n",
    "_, newest_dt = ts2dt(newest_ts)\r\n",
    "print(f\"Recent query happens at {newest_dt.strftime(DATETIME_FORMAT)} ({newest_dt.tzname()}).\")"
   ]
  },
  {
   "cell_type": "code",
   "execution_count": 4,
   "metadata": {
    "execution": {
     "iopub.execute_input": "2021-09-01T10:41:18.646255Z",
     "iopub.status.busy": "2021-09-01T10:41:18.644805Z",
     "iopub.status.idle": "2021-09-01T10:41:18.646941Z",
     "shell.execute_reply": "2021-09-01T10:41:18.647389Z"
    }
   },
   "outputs": [],
   "source": [
    "def degrees_to_cardinal(d):\r\n",
    "  dirs = ['N', 'NNE', 'NE', 'ENE', 'E', 'ESE', 'SE', 'SSE', 'S', 'SSW', 'SW', 'WSW', 'W', 'WNW', 'NW', 'NNW']\r\n",
    "  ix = int(round(d / (360. / len(dirs))))\r\n",
    "  return dirs[ix % len(dirs)]"
   ]
  },
  {
   "cell_type": "code",
   "execution_count": 5,
   "metadata": {
    "execution": {
     "iopub.execute_input": "2021-09-01T10:41:18.653438Z",
     "iopub.status.busy": "2021-09-01T10:41:18.652137Z",
     "iopub.status.idle": "2021-09-01T10:41:18.654058Z",
     "shell.execute_reply": "2021-09-01T10:41:18.654490Z"
    }
   },
   "outputs": [],
   "source": [
    "# data.keys()"
   ]
  },
  {
   "cell_type": "code",
   "execution_count": 6,
   "metadata": {
    "execution": {
     "iopub.execute_input": "2021-09-01T10:41:18.658950Z",
     "iopub.status.busy": "2021-09-01T10:41:18.657630Z",
     "iopub.status.idle": "2021-09-01T10:41:18.660113Z",
     "shell.execute_reply": "2021-09-01T10:41:18.660620Z"
    }
   },
   "outputs": [],
   "source": [
    "# data['current']"
   ]
  },
  {
   "cell_type": "code",
   "execution_count": 7,
   "metadata": {
    "execution": {
     "iopub.execute_input": "2021-09-01T10:41:18.680465Z",
     "iopub.status.busy": "2021-09-01T10:41:18.662836Z",
     "iopub.status.idle": "2021-09-01T10:41:18.998871Z",
     "shell.execute_reply": "2021-09-01T10:41:18.999671Z"
    }
   },
   "outputs": [
    {
     "data": {
      "image/png": "[encoded data removed]",
      "text/plain": [
       "<Figure size 216x216 with 1 Axes>"
      ]
     },
     "metadata": {
      "needs_background": "light"
     },
     "output_type": "display_data"
    },
    {
     "name": "stdout",
     "output_type": "stream",
     "text": [
      "Today, sun rises at 06:05 and sets at 18:40.\n",
      "Currently, the weather is Clear (clear sky).\n",
      "The temperature is 29.34°C and it feels like 36.34°C.\n",
      "The UV index is 0, humidity is 83%.\n",
      "The pressure is 1009 hPa, percentage of cloud cover is 9%\n",
      "The wind comes from E direction with a speed 5.46 m/s.\n"
     ]
    }
   ],
   "source": [
    "current = data['current']\r\n",
    "\r\n",
    "fig, ax = plt.subplots(figsize=(3, 3))\r\n",
    "icon = requests.get(f\"http://openweathermap.org/img/wn/{current['weather'][0]['icon']}@2x.png\")\r\n",
    "im = Image.open(BytesIO(icon.content))\r\n",
    "plt.imshow(im)\r\n",
    "ax.set_axis_off()\r\n",
    "plt.show()\r\n",
    "\r\n",
    "print(f\"Today, sun rises at {ts2dt(current['sunrise'], '%H:%M')[0]} \\\r\n",
    "and sets at {ts2dt(current['sunset'], '%H:%M')[0]}.\\n\\\r\n",
    "Currently, the weather is {current['weather'][0]['main']} ({current['weather'][0]['description']}).\\n\\\r\n",
    "The temperature is {current['temp']}°C and it feels like {current['feels_like']}°C.\\n\\\r\n",
    "The UV index is {current['uvi']}, humidity is {current['humidity']}%.\\n\\\r\n",
    "The pressure is {current['pressure']} hPa, percentage of cloud cover is {current['clouds']}%\\n\\\r\n",
    "The wind comes from {degrees_to_cardinal(current['wind_deg'])} direction with a speed {current['wind_speed']} m/s.\")"
   ]
  },
  {
   "cell_type": "code",
   "execution_count": 8,
   "metadata": {
    "execution": {
     "iopub.execute_input": "2021-09-01T10:41:19.003529Z",
     "iopub.status.busy": "2021-09-01T10:41:19.002399Z",
     "iopub.status.idle": "2021-09-01T10:41:19.010691Z",
     "shell.execute_reply": "2021-09-01T10:41:19.011485Z"
    }
   },
   "outputs": [],
   "source": [
    "df_hourly = pd.DataFrame(data['hourly'])\r\n",
    "df_daily = pd.DataFrame(data['daily'])"
   ]
  },
  {
   "cell_type": "code",
   "execution_count": 9,
   "metadata": {
    "execution": {
     "iopub.execute_input": "2021-09-01T10:41:19.015203Z",
     "iopub.status.busy": "2021-09-01T10:41:19.014071Z",
     "iopub.status.idle": "2021-09-01T10:41:19.312986Z",
     "shell.execute_reply": "2021-09-01T10:41:19.313453Z"
    }
   },
   "outputs": [
    {
     "data": {
      "image/png": "[encoded data removed]",
      "text/plain": [
       "<Figure size 864x432 with 1 Axes>"
      ]
     },
     "metadata": {
      "needs_background": "light"
     },
     "output_type": "display_data"
    }
   ],
   "source": [
    "fig, ax = plt.subplots(figsize=(12, 6))\r\n",
    "plt.plot(df_hourly.temp, '.-', label='Temperature')\r\n",
    "plt.plot(df_hourly.feels_like, '.-', label='Feels Like')\r\n",
    "ax.set(title='Temperature in future 48 hours', xlabel='Time', ylabel='Temperature')\r\n",
    "ax.set_xticks(list(range(0, len(df_hourly), 2)))\r\n",
    "ax.set_xticklabels([ts2dt(ts, '%m-%d %H:%M')[0] for i, ts in enumerate(df_hourly.dt) if i%2==0], \r\n",
    "                   rotation=45, ha=\"right\")\r\n",
    "ax.locator_params(nbins=15, axis='y')\r\n",
    "plt.legend()\r\n",
    "plt.show()"
   ]
  },
  {
   "cell_type": "code",
   "execution_count": 10,
   "metadata": {
    "execution": {
     "iopub.execute_input": "2021-09-01T10:41:19.328764Z",
     "iopub.status.busy": "2021-09-01T10:41:19.318718Z",
     "iopub.status.idle": "2021-09-01T10:41:19.341654Z",
     "shell.execute_reply": "2021-09-01T10:41:19.341151Z"
    }
   },
   "outputs": [
    {
     "data": {
      "text/html": [
       "<div>\n",
       "<style scoped>\n",
       "    .dataframe tbody tr th:only-of-type {\n",
       "        vertical-align: middle;\n",
       "    }\n",
       "\n",
       "    .dataframe tbody tr th {\n",
       "        vertical-align: top;\n",
       "    }\n",
       "\n",
       "    .dataframe thead th {\n",
       "        text-align: right;\n",
       "    }\n",
       "</style>\n",
       "<table border=\"1\" class=\"dataframe\">\n",
       "  <thead>\n",
       "    <tr style=\"text-align: right;\">\n",
       "      <th></th>\n",
       "      <th>dt</th>\n",
       "      <th>temp</th>\n",
       "      <th>feels_like</th>\n",
       "      <th>pressure</th>\n",
       "      <th>humidity</th>\n",
       "      <th>dew_point</th>\n",
       "      <th>uvi</th>\n",
       "      <th>clouds</th>\n",
       "      <th>visibility</th>\n",
       "      <th>wind_speed</th>\n",
       "      <th>wind_deg</th>\n",
       "      <th>wind_gust</th>\n",
       "      <th>weather</th>\n",
       "      <th>pop</th>\n",
       "      <th>rain</th>\n",
       "    </tr>\n",
       "  </thead>\n",
       "  <tbody>\n",
       "    <tr>\n",
       "      <th>0</th>\n",
       "      <td>1630490400</td>\n",
       "      <td>29.16</td>\n",
       "      <td>35.65</td>\n",
       "      <td>1009</td>\n",
       "      <td>82</td>\n",
       "      <td>25.77</td>\n",
       "      <td>0.21</td>\n",
       "      <td>9</td>\n",
       "      <td>10000</td>\n",
       "      <td>5.56</td>\n",
       "      <td>97</td>\n",
       "      <td>7.65</td>\n",
       "      <td>[{'id': 800, 'main': 'Clear', 'description': '...</td>\n",
       "      <td>0.51</td>\n",
       "      <td>NaN</td>\n",
       "    </tr>\n",
       "    <tr>\n",
       "      <th>1</th>\n",
       "      <td>1630494000</td>\n",
       "      <td>29.34</td>\n",
       "      <td>36.34</td>\n",
       "      <td>1009</td>\n",
       "      <td>83</td>\n",
       "      <td>26.15</td>\n",
       "      <td>0.00</td>\n",
       "      <td>9</td>\n",
       "      <td>10000</td>\n",
       "      <td>5.46</td>\n",
       "      <td>100</td>\n",
       "      <td>7.64</td>\n",
       "      <td>[{'id': 800, 'main': 'Clear', 'description': '...</td>\n",
       "      <td>0.59</td>\n",
       "      <td>NaN</td>\n",
       "    </tr>\n",
       "    <tr>\n",
       "      <th>2</th>\n",
       "      <td>1630497600</td>\n",
       "      <td>29.01</td>\n",
       "      <td>35.21</td>\n",
       "      <td>1009</td>\n",
       "      <td>82</td>\n",
       "      <td>25.62</td>\n",
       "      <td>0.00</td>\n",
       "      <td>9</td>\n",
       "      <td>10000</td>\n",
       "      <td>5.19</td>\n",
       "      <td>100</td>\n",
       "      <td>7.42</td>\n",
       "      <td>[{'id': 800, 'main': 'Clear', 'description': '...</td>\n",
       "      <td>0.59</td>\n",
       "      <td>NaN</td>\n",
       "    </tr>\n",
       "    <tr>\n",
       "      <th>3</th>\n",
       "      <td>1630501200</td>\n",
       "      <td>28.64</td>\n",
       "      <td>34.15</td>\n",
       "      <td>1009</td>\n",
       "      <td>82</td>\n",
       "      <td>25.26</td>\n",
       "      <td>0.00</td>\n",
       "      <td>20</td>\n",
       "      <td>10000</td>\n",
       "      <td>5.00</td>\n",
       "      <td>100</td>\n",
       "      <td>7.32</td>\n",
       "      <td>[{'id': 500, 'main': 'Rain', 'description': 'l...</td>\n",
       "      <td>0.66</td>\n",
       "      <td>{'1h': 0.13}</td>\n",
       "    </tr>\n",
       "    <tr>\n",
       "      <th>4</th>\n",
       "      <td>1630504800</td>\n",
       "      <td>28.29</td>\n",
       "      <td>33.19</td>\n",
       "      <td>1010</td>\n",
       "      <td>82</td>\n",
       "      <td>24.92</td>\n",
       "      <td>0.00</td>\n",
       "      <td>44</td>\n",
       "      <td>10000</td>\n",
       "      <td>4.88</td>\n",
       "      <td>103</td>\n",
       "      <td>7.25</td>\n",
       "      <td>[{'id': 501, 'main': 'Rain', 'description': 'm...</td>\n",
       "      <td>0.66</td>\n",
       "      <td>{'1h': 1.1}</td>\n",
       "    </tr>\n",
       "  </tbody>\n",
       "</table>\n",
       "</div>"
      ],
      "text/plain": [
       "           dt   temp  feels_like  pressure  humidity  dew_point   uvi  clouds  \\\n",
       "0  1630490400  29.16       35.65      1009        82      25.77  0.21       9   \n",
       "1  1630494000  29.34       36.34      1009        83      26.15  0.00       9   \n",
       "2  1630497600  29.01       35.21      1009        82      25.62  0.00       9   \n",
       "3  1630501200  28.64       34.15      1009        82      25.26  0.00      20   \n",
       "4  1630504800  28.29       33.19      1010        82      24.92  0.00      44   \n",
       "\n",
       "   visibility  wind_speed  wind_deg  wind_gust  \\\n",
       "0       10000        5.56        97       7.65   \n",
       "1       10000        5.46       100       7.64   \n",
       "2       10000        5.19       100       7.42   \n",
       "3       10000        5.00       100       7.32   \n",
       "4       10000        4.88       103       7.25   \n",
       "\n",
       "                                             weather   pop          rain  \n",
       "0  [{'id': 800, 'main': 'Clear', 'description': '...  0.51           NaN  \n",
       "1  [{'id': 800, 'main': 'Clear', 'description': '...  0.59           NaN  \n",
       "2  [{'id': 800, 'main': 'Clear', 'description': '...  0.59           NaN  \n",
       "3  [{'id': 500, 'main': 'Rain', 'description': 'l...  0.66  {'1h': 0.13}  \n",
       "4  [{'id': 501, 'main': 'Rain', 'description': 'm...  0.66   {'1h': 1.1}  "
      ]
     },
     "execution_count": 10,
     "metadata": {},
     "output_type": "execute_result"
    }
   ],
   "source": [
    "df_hourly.head()"
   ]
  },
  {
   "cell_type": "code",
   "execution_count": null,
   "metadata": {},
   "outputs": [],
   "source": []
  }
 ],
 "metadata": {
  "interpreter": {
   "hash": "c1b4cfe941b6d2466ad1fb5979e97da9cda8801728c8091b097ab734208fc00c"
  },
  "kernelspec": {
   "display_name": "Python 3.8.3 64-bit ('base': conda)",
   "name": "python3"
  },
  "language_info": {
   "codemirror_mode": {
    "name": "ipython",
    "version": 3
   },
   "file_extension": ".py",
   "mimetype": "text/x-python",
   "name": "python",
   "nbconvert_exporter": "python",
   "pygments_lexer": "ipython3",
   "version": "3.8.11"
  }
 },
 "nbformat": 4,
 "nbformat_minor": 2
}
