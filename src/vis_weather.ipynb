{
 "cells": [
  {
   "cell_type": "code",
   "execution_count": 1,
   "metadata": {
    "execution": {
     "iopub.execute_input": "2021-10-10T15:11:27.737520Z",
     "iopub.status.busy": "2021-10-10T15:11:27.736799Z",
     "iopub.status.idle": "2021-10-10T15:11:29.143443Z",
     "shell.execute_reply": "2021-10-10T15:11:29.142627Z"
    }
   },
   "outputs": [],
   "source": [
    "import json, yaml, requests\r\n",
    "from datetime import datetime\r\n",
    "from dateutil import tz\r\n",
    "import pandas as pd\r\n",
    "from PIL import Image\r\n",
    "from io import BytesIO\r\n",
    "import matplotlib.pyplot as plt\r\n",
    "import seaborn\r\n",
    "\r\n",
    "CONFIG_PATH = \"../config/config.yaml\""
   ]
  },
  {
   "cell_type": "code",
   "execution_count": 2,
   "metadata": {
    "execution": {
     "iopub.execute_input": "2021-10-10T15:11:29.152555Z",
     "iopub.status.busy": "2021-10-10T15:11:29.151852Z",
     "iopub.status.idle": "2021-10-10T15:11:29.161056Z",
     "shell.execute_reply": "2021-10-10T15:11:29.160239Z"
    }
   },
   "outputs": [],
   "source": [
    "with open('../newest_ts', 'r') as f:\r\n",
    "    newest_ts = f.read()\r\n",
    "\r\n",
    "data_path = f\"../data/data_{newest_ts}.json\"\r\n",
    "with open(data_path, 'r') as f:\r\n",
    "    data = json.load(f)\r\n",
    "\r\n",
    "with open(CONFIG_PATH, \"r\") as stream:\r\n",
    "    config = yaml.safe_load(stream)\r\n",
    "\r\n",
    "TIME_ZONE = config['time_zone']\r\n",
    "DATETIME_FORMAT = config['dt_format']"
   ]
  },
  {
   "cell_type": "code",
   "execution_count": 3,
   "metadata": {
    "execution": {
     "iopub.execute_input": "2021-10-10T15:11:29.168618Z",
     "iopub.status.busy": "2021-10-10T15:11:29.166102Z",
     "iopub.status.idle": "2021-10-10T15:11:29.174291Z",
     "shell.execute_reply": "2021-10-10T15:11:29.174788Z"
    }
   },
   "outputs": [
    {
     "name": "stdout",
     "output_type": "stream",
     "text": [
      "Recent query happens at 2021-10-10 23:11:24 (CST).\n"
     ]
    }
   ],
   "source": [
    "def ts2dt(ts, format=DATETIME_FORMAT):\r\n",
    "    dt = (datetime.utcfromtimestamp(int(ts))\r\n",
    "                    .replace(tzinfo=tz.tzutc())\r\n",
    "                    # .astimezone(tz.tzlocal())\r\n",
    "                    .astimezone(tz.gettz(TIME_ZONE)))\r\n",
    "    return dt.strftime(format), dt\r\n",
    "\r\n",
    "_, newest_dt = ts2dt(newest_ts)\r\n",
    "print(f\"Recent query happens at {newest_dt.strftime(DATETIME_FORMAT)} ({newest_dt.tzname()}).\")"
   ]
  },
  {
   "cell_type": "code",
   "execution_count": 4,
   "metadata": {
    "execution": {
     "iopub.execute_input": "2021-10-10T15:11:29.180257Z",
     "iopub.status.busy": "2021-10-10T15:11:29.179581Z",
     "iopub.status.idle": "2021-10-10T15:11:29.181318Z",
     "shell.execute_reply": "2021-10-10T15:11:29.181820Z"
    }
   },
   "outputs": [],
   "source": [
    "def degrees_to_cardinal(d):\r\n",
    "  dirs = ['N', 'NNE', 'NE', 'ENE', 'E', 'ESE', 'SE', 'SSE', 'S', 'SSW', 'SW', 'WSW', 'W', 'WNW', 'NW', 'NNW']\r\n",
    "  ix = int(round(d / (360. / len(dirs))))\r\n",
    "  return dirs[ix % len(dirs)]"
   ]
  },
  {
   "cell_type": "code",
   "execution_count": 5,
   "metadata": {
    "execution": {
     "iopub.execute_input": "2021-10-10T15:11:29.187229Z",
     "iopub.status.busy": "2021-10-10T15:11:29.185811Z",
     "iopub.status.idle": "2021-10-10T15:11:29.187957Z",
     "shell.execute_reply": "2021-10-10T15:11:29.188790Z"
    }
   },
   "outputs": [],
   "source": [
    "# data.keys()"
   ]
  },
  {
   "cell_type": "code",
   "execution_count": 6,
   "metadata": {
    "execution": {
     "iopub.execute_input": "2021-10-10T15:11:29.192927Z",
     "iopub.status.busy": "2021-10-10T15:11:29.192266Z",
     "iopub.status.idle": "2021-10-10T15:11:29.194658Z",
     "shell.execute_reply": "2021-10-10T15:11:29.194111Z"
    }
   },
   "outputs": [],
   "source": [
    "# data['current']"
   ]
  },
  {
   "cell_type": "code",
   "execution_count": 7,
   "metadata": {
    "execution": {
     "iopub.execute_input": "2021-10-10T15:11:29.216974Z",
     "iopub.status.busy": "2021-10-10T15:11:29.216321Z",
     "iopub.status.idle": "2021-10-10T15:11:29.499780Z",
     "shell.execute_reply": "2021-10-10T15:11:29.500321Z"
    }
   },
   "outputs": [
    {
     "data": {
      "image/png": "[encoded data removed]",
      "text/plain": [
       "<Figure size 216x216 with 1 Axes>"
      ]
     },
     "metadata": {
      "needs_background": "light"
     },
     "output_type": "display_data"
    },
    {
     "name": "stdout",
     "output_type": "stream",
     "text": [
      "Today, sun rises at 06:17 and sets at 18:02.\n",
      "Currently, the weather is Rain (light rain).\n",
      "The temperature is 26.97°C and it feels like 30.45°C.\n",
      "The UV index is 0, humidity is 88%.\n",
      "The pressure is 1007 hPa, percentage of cloud cover is 100%\n",
      "The wind comes from NNE direction with a speed 2.22 m/s.\n"
     ]
    }
   ],
   "source": [
    "current = data['current']\r\n",
    "\r\n",
    "fig, ax = plt.subplots(figsize=(3, 3))\r\n",
    "icon = requests.get(f\"http://openweathermap.org/img/wn/{current['weather'][0]['icon']}@2x.png\")\r\n",
    "im = Image.open(BytesIO(icon.content))\r\n",
    "plt.imshow(im)\r\n",
    "ax.set_axis_off()\r\n",
    "plt.show()\r\n",
    "\r\n",
    "print(f\"Today, sun rises at {ts2dt(current['sunrise'], '%H:%M')[0]} \\\r\n",
    "and sets at {ts2dt(current['sunset'], '%H:%M')[0]}.\\n\\\r\n",
    "Currently, the weather is {current['weather'][0]['main']} ({current['weather'][0]['description']}).\\n\\\r\n",
    "The temperature is {current['temp']}°C and it feels like {current['feels_like']}°C.\\n\\\r\n",
    "The UV index is {current['uvi']}, humidity is {current['humidity']}%.\\n\\\r\n",
    "The pressure is {current['pressure']} hPa, percentage of cloud cover is {current['clouds']}%\\n\\\r\n",
    "The wind comes from {degrees_to_cardinal(current['wind_deg'])} direction with a speed {current['wind_speed']} m/s.\")"
   ]
  },
  {
   "cell_type": "code",
   "execution_count": 8,
   "metadata": {
    "execution": {
     "iopub.execute_input": "2021-10-10T15:11:29.503862Z",
     "iopub.status.busy": "2021-10-10T15:11:29.503191Z",
     "iopub.status.idle": "2021-10-10T15:11:29.510056Z",
     "shell.execute_reply": "2021-10-10T15:11:29.510630Z"
    }
   },
   "outputs": [],
   "source": [
    "df_hourly = pd.DataFrame(data['hourly'])\r\n",
    "df_daily = pd.DataFrame(data['daily'])"
   ]
  },
  {
   "cell_type": "code",
   "execution_count": 9,
   "metadata": {
    "execution": {
     "iopub.execute_input": "2021-10-10T15:11:29.513979Z",
     "iopub.status.busy": "2021-10-10T15:11:29.513395Z",
     "iopub.status.idle": "2021-10-10T15:11:29.845517Z",
     "shell.execute_reply": "2021-10-10T15:11:29.844616Z"
    }
   },
   "outputs": [
    {
     "data": {
      "image/png": "[encoded data removed]",
      "text/plain": [
       "<Figure size 864x432 with 1 Axes>"
      ]
     },
     "metadata": {
      "needs_background": "light"
     },
     "output_type": "display_data"
    }
   ],
   "source": [
    "fig, ax = plt.subplots(figsize=(12, 6))\r\n",
    "plt.plot(df_hourly.temp, '.-', label='Temperature')\r\n",
    "plt.plot(df_hourly.feels_like, '.-', label='Feels Like')\r\n",
    "ax.set(title='Temperature in future 48 hours', xlabel='Time', ylabel='Temperature')\r\n",
    "ax.set_xticks(list(range(0, len(df_hourly), 2)))\r\n",
    "ax.set_xticklabels([ts2dt(ts, '%m-%d %H:%M')[0] for i, ts in enumerate(df_hourly.dt) if i%2==0], \r\n",
    "                   rotation=45, ha=\"right\")\r\n",
    "ax.locator_params(nbins=15, axis='y')\r\n",
    "plt.legend()\r\n",
    "plt.show()"
   ]
  },
  {
   "cell_type": "code",
   "execution_count": 10,
   "metadata": {
    "execution": {
     "iopub.execute_input": "2021-10-10T15:11:29.851069Z",
     "iopub.status.busy": "2021-10-10T15:11:29.850428Z",
     "iopub.status.idle": "2021-10-10T15:11:29.874939Z",
     "shell.execute_reply": "2021-10-10T15:11:29.878950Z"
    }
   },
   "outputs": [
    {
     "data": {
      "text/html": [
       "<div>\n",
       "<style scoped>\n",
       "    .dataframe tbody tr th:only-of-type {\n",
       "        vertical-align: middle;\n",
       "    }\n",
       "\n",
       "    .dataframe tbody tr th {\n",
       "        vertical-align: top;\n",
       "    }\n",
       "\n",
       "    .dataframe thead th {\n",
       "        text-align: right;\n",
       "    }\n",
       "</style>\n",
       "<table border=\"1\" class=\"dataframe\">\n",
       "  <thead>\n",
       "    <tr style=\"text-align: right;\">\n",
       "      <th></th>\n",
       "      <th>dt</th>\n",
       "      <th>temp</th>\n",
       "      <th>feels_like</th>\n",
       "      <th>pressure</th>\n",
       "      <th>humidity</th>\n",
       "      <th>dew_point</th>\n",
       "      <th>uvi</th>\n",
       "      <th>clouds</th>\n",
       "      <th>visibility</th>\n",
       "      <th>wind_speed</th>\n",
       "      <th>wind_deg</th>\n",
       "      <th>wind_gust</th>\n",
       "      <th>weather</th>\n",
       "      <th>pop</th>\n",
       "      <th>rain</th>\n",
       "    </tr>\n",
       "  </thead>\n",
       "  <tbody>\n",
       "    <tr>\n",
       "      <th>0</th>\n",
       "      <td>1633878000</td>\n",
       "      <td>26.97</td>\n",
       "      <td>30.45</td>\n",
       "      <td>1007</td>\n",
       "      <td>88</td>\n",
       "      <td>24.81</td>\n",
       "      <td>0.0</td>\n",
       "      <td>100</td>\n",
       "      <td>10000</td>\n",
       "      <td>2.22</td>\n",
       "      <td>22</td>\n",
       "      <td>2.80</td>\n",
       "      <td>[{'id': 804, 'main': 'Clouds', 'description': ...</td>\n",
       "      <td>0.15</td>\n",
       "      <td>NaN</td>\n",
       "    </tr>\n",
       "    <tr>\n",
       "      <th>1</th>\n",
       "      <td>1633881600</td>\n",
       "      <td>26.89</td>\n",
       "      <td>30.14</td>\n",
       "      <td>1007</td>\n",
       "      <td>87</td>\n",
       "      <td>24.54</td>\n",
       "      <td>0.0</td>\n",
       "      <td>100</td>\n",
       "      <td>10000</td>\n",
       "      <td>2.51</td>\n",
       "      <td>345</td>\n",
       "      <td>2.91</td>\n",
       "      <td>[{'id': 500, 'main': 'Rain', 'description': 'l...</td>\n",
       "      <td>0.23</td>\n",
       "      <td>{'1h': 0.36}</td>\n",
       "    </tr>\n",
       "    <tr>\n",
       "      <th>2</th>\n",
       "      <td>1633885200</td>\n",
       "      <td>26.80</td>\n",
       "      <td>29.73</td>\n",
       "      <td>1007</td>\n",
       "      <td>85</td>\n",
       "      <td>24.06</td>\n",
       "      <td>0.0</td>\n",
       "      <td>100</td>\n",
       "      <td>10000</td>\n",
       "      <td>2.44</td>\n",
       "      <td>321</td>\n",
       "      <td>2.69</td>\n",
       "      <td>[{'id': 804, 'main': 'Clouds', 'description': ...</td>\n",
       "      <td>0.25</td>\n",
       "      <td>NaN</td>\n",
       "    </tr>\n",
       "    <tr>\n",
       "      <th>3</th>\n",
       "      <td>1633888800</td>\n",
       "      <td>26.68</td>\n",
       "      <td>29.35</td>\n",
       "      <td>1008</td>\n",
       "      <td>84</td>\n",
       "      <td>23.75</td>\n",
       "      <td>0.0</td>\n",
       "      <td>100</td>\n",
       "      <td>10000</td>\n",
       "      <td>2.60</td>\n",
       "      <td>336</td>\n",
       "      <td>2.93</td>\n",
       "      <td>[{'id': 804, 'main': 'Clouds', 'description': ...</td>\n",
       "      <td>0.35</td>\n",
       "      <td>NaN</td>\n",
       "    </tr>\n",
       "    <tr>\n",
       "      <th>4</th>\n",
       "      <td>1633892400</td>\n",
       "      <td>26.54</td>\n",
       "      <td>26.54</td>\n",
       "      <td>1007</td>\n",
       "      <td>82</td>\n",
       "      <td>23.21</td>\n",
       "      <td>0.0</td>\n",
       "      <td>98</td>\n",
       "      <td>10000</td>\n",
       "      <td>2.79</td>\n",
       "      <td>333</td>\n",
       "      <td>3.85</td>\n",
       "      <td>[{'id': 804, 'main': 'Clouds', 'description': ...</td>\n",
       "      <td>0.26</td>\n",
       "      <td>NaN</td>\n",
       "    </tr>\n",
       "  </tbody>\n",
       "</table>\n",
       "</div>"
      ],
      "text/plain": [
       "           dt   temp  feels_like  pressure  humidity  dew_point  uvi  clouds  \\\n",
       "0  1633878000  26.97       30.45      1007        88      24.81  0.0     100   \n",
       "1  1633881600  26.89       30.14      1007        87      24.54  0.0     100   \n",
       "2  1633885200  26.80       29.73      1007        85      24.06  0.0     100   \n",
       "3  1633888800  26.68       29.35      1008        84      23.75  0.0     100   \n",
       "4  1633892400  26.54       26.54      1007        82      23.21  0.0      98   \n",
       "\n",
       "   visibility  wind_speed  wind_deg  wind_gust  \\\n",
       "0       10000        2.22        22       2.80   \n",
       "1       10000        2.51       345       2.91   \n",
       "2       10000        2.44       321       2.69   \n",
       "3       10000        2.60       336       2.93   \n",
       "4       10000        2.79       333       3.85   \n",
       "\n",
       "                                             weather   pop          rain  \n",
       "0  [{'id': 804, 'main': 'Clouds', 'description': ...  0.15           NaN  \n",
       "1  [{'id': 500, 'main': 'Rain', 'description': 'l...  0.23  {'1h': 0.36}  \n",
       "2  [{'id': 804, 'main': 'Clouds', 'description': ...  0.25           NaN  \n",
       "3  [{'id': 804, 'main': 'Clouds', 'description': ...  0.35           NaN  \n",
       "4  [{'id': 804, 'main': 'Clouds', 'description': ...  0.26           NaN  "
      ]
     },
     "execution_count": 10,
     "metadata": {},
     "output_type": "execute_result"
    }
   ],
   "source": [
    "df_hourly.head()"
   ]
  },
  {
   "cell_type": "code",
   "execution_count": null,
   "metadata": {},
   "outputs": [],
   "source": []
  }
 ],
 "metadata": {
  "interpreter": {
   "hash": "c1b4cfe941b6d2466ad1fb5979e97da9cda8801728c8091b097ab734208fc00c"
  },
  "kernelspec": {
   "display_name": "Python 3.8.3 64-bit ('base': conda)",
   "name": "python3"
  },
  "language_info": {
   "codemirror_mode": {
    "name": "ipython",
    "version": 3
   },
   "file_extension": ".py",
   "mimetype": "text/x-python",
   "name": "python",
   "nbconvert_exporter": "python",
   "pygments_lexer": "ipython3",
   "version": "3.8.12"
  }
 },
 "nbformat": 4,
 "nbformat_minor": 2
}
