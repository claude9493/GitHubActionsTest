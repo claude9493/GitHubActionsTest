{
 "cells": [
  {
   "cell_type": "code",
   "execution_count": 1,
   "metadata": {
    "execution": {
     "iopub.execute_input": "2021-09-02T23:17:01.122214Z",
     "iopub.status.busy": "2021-09-02T23:17:01.121539Z",
     "iopub.status.idle": "2021-09-02T23:17:04.456484Z",
     "shell.execute_reply": "2021-09-02T23:17:04.455606Z"
    }
   },
   "outputs": [],
   "source": [
    "import json, yaml, requests\r\n",
    "from datetime import datetime\r\n",
    "from dateutil import tz\r\n",
    "import pandas as pd\r\n",
    "from PIL import Image\r\n",
    "from io import BytesIO\r\n",
    "import matplotlib.pyplot as plt\r\n",
    "import seaborn\r\n",
    "\r\n",
    "CONFIG_PATH = \"../config/config.yaml\""
   ]
  },
  {
   "cell_type": "code",
   "execution_count": 2,
   "metadata": {
    "execution": {
     "iopub.execute_input": "2021-09-02T23:17:04.464722Z",
     "iopub.status.busy": "2021-09-02T23:17:04.461457Z",
     "iopub.status.idle": "2021-09-02T23:17:04.467088Z",
     "shell.execute_reply": "2021-09-02T23:17:04.467498Z"
    }
   },
   "outputs": [],
   "source": [
    "with open('../newest_ts', 'r') as f:\r\n",
    "    newest_ts = f.read()\r\n",
    "\r\n",
    "data_path = f\"../data/data_{newest_ts}.json\"\r\n",
    "with open(data_path, 'r') as f:\r\n",
    "    data = json.load(f)\r\n",
    "\r\n",
    "with open(CONFIG_PATH, \"r\") as stream:\r\n",
    "    config = yaml.safe_load(stream)\r\n",
    "\r\n",
    "TIME_ZONE = config['time_zone']\r\n",
    "DATETIME_FORMAT = config['dt_format']"
   ]
  },
  {
   "cell_type": "code",
   "execution_count": 3,
   "metadata": {
    "execution": {
     "iopub.execute_input": "2021-09-02T23:17:04.472397Z",
     "iopub.status.busy": "2021-09-02T23:17:04.471869Z",
     "iopub.status.idle": "2021-09-02T23:17:04.517159Z",
     "shell.execute_reply": "2021-09-02T23:17:04.517575Z"
    }
   },
   "outputs": [
    {
     "name": "stdout",
     "output_type": "stream",
     "text": [
      "Recent query happens at 2021-09-03 07:16:58 (CST).\n"
     ]
    }
   ],
   "source": [
    "def ts2dt(ts, format=DATETIME_FORMAT):\r\n",
    "    dt = (datetime.utcfromtimestamp(int(ts))\r\n",
    "                    .replace(tzinfo=tz.tzutc())\r\n",
    "                    # .astimezone(tz.tzlocal())\r\n",
    "                    .astimezone(tz.gettz(TIME_ZONE)))\r\n",
    "    return dt.strftime(format), dt\r\n",
    "\r\n",
    "_, newest_dt = ts2dt(newest_ts)\r\n",
    "print(f\"Recent query happens at {newest_dt.strftime(DATETIME_FORMAT)} ({newest_dt.tzname()}).\")"
   ]
  },
  {
   "cell_type": "code",
   "execution_count": 4,
   "metadata": {
    "execution": {
     "iopub.execute_input": "2021-09-02T23:17:04.523288Z",
     "iopub.status.busy": "2021-09-02T23:17:04.522140Z",
     "iopub.status.idle": "2021-09-02T23:17:04.523877Z",
     "shell.execute_reply": "2021-09-02T23:17:04.524301Z"
    }
   },
   "outputs": [],
   "source": [
    "def degrees_to_cardinal(d):\r\n",
    "  dirs = ['N', 'NNE', 'NE', 'ENE', 'E', 'ESE', 'SE', 'SSE', 'S', 'SSW', 'SW', 'WSW', 'W', 'WNW', 'NW', 'NNW']\r\n",
    "  ix = int(round(d / (360. / len(dirs))))\r\n",
    "  return dirs[ix % len(dirs)]"
   ]
  },
  {
   "cell_type": "code",
   "execution_count": 5,
   "metadata": {
    "execution": {
     "iopub.execute_input": "2021-09-02T23:17:04.528915Z",
     "iopub.status.busy": "2021-09-02T23:17:04.527689Z",
     "iopub.status.idle": "2021-09-02T23:17:04.529518Z",
     "shell.execute_reply": "2021-09-02T23:17:04.529968Z"
    }
   },
   "outputs": [],
   "source": [
    "# data.keys()"
   ]
  },
  {
   "cell_type": "code",
   "execution_count": 6,
   "metadata": {
    "execution": {
     "iopub.execute_input": "2021-09-02T23:17:04.534169Z",
     "iopub.status.busy": "2021-09-02T23:17:04.532890Z",
     "iopub.status.idle": "2021-09-02T23:17:04.534758Z",
     "shell.execute_reply": "2021-09-02T23:17:04.535178Z"
    }
   },
   "outputs": [],
   "source": [
    "# data['current']"
   ]
  },
  {
   "cell_type": "code",
   "execution_count": 7,
   "metadata": {
    "execution": {
     "iopub.execute_input": "2021-09-02T23:17:04.554081Z",
     "iopub.status.busy": "2021-09-02T23:17:04.553487Z",
     "iopub.status.idle": "2021-09-02T23:17:05.030486Z",
     "shell.execute_reply": "2021-09-02T23:17:05.031233Z"
    }
   },
   "outputs": [
    {
     "data": {
      "image/png": "[encoded data removed]",
      "text/plain": [
       "<Figure size 216x216 with 1 Axes>"
      ]
     },
     "metadata": {
      "needs_background": "light"
     },
     "output_type": "display_data"
    },
    {
     "name": "stdout",
     "output_type": "stream",
     "text": [
      "Today, sun rises at 06:06 and sets at 18:38.\n",
      "Currently, the weather is Clouds (broken clouds).\n",
      "The temperature is 28.09°C and it feels like 33.5°C.\n",
      "The UV index is 0.32, humidity is 87%.\n",
      "The pressure is 1007 hPa, percentage of cloud cover is 55%\n",
      "The wind comes from E direction with a speed 0.35 m/s.\n"
     ]
    }
   ],
   "source": [
    "current = data['current']\r\n",
    "\r\n",
    "fig, ax = plt.subplots(figsize=(3, 3))\r\n",
    "icon = requests.get(f\"http://openweathermap.org/img/wn/{current['weather'][0]['icon']}@2x.png\")\r\n",
    "im = Image.open(BytesIO(icon.content))\r\n",
    "plt.imshow(im)\r\n",
    "ax.set_axis_off()\r\n",
    "plt.show()\r\n",
    "\r\n",
    "print(f\"Today, sun rises at {ts2dt(current['sunrise'], '%H:%M')[0]} \\\r\n",
    "and sets at {ts2dt(current['sunset'], '%H:%M')[0]}.\\n\\\r\n",
    "Currently, the weather is {current['weather'][0]['main']} ({current['weather'][0]['description']}).\\n\\\r\n",
    "The temperature is {current['temp']}°C and it feels like {current['feels_like']}°C.\\n\\\r\n",
    "The UV index is {current['uvi']}, humidity is {current['humidity']}%.\\n\\\r\n",
    "The pressure is {current['pressure']} hPa, percentage of cloud cover is {current['clouds']}%\\n\\\r\n",
    "The wind comes from {degrees_to_cardinal(current['wind_deg'])} direction with a speed {current['wind_speed']} m/s.\")"
   ]
  },
  {
   "cell_type": "code",
   "execution_count": 8,
   "metadata": {
    "execution": {
     "iopub.execute_input": "2021-09-02T23:17:05.034777Z",
     "iopub.status.busy": "2021-09-02T23:17:05.033716Z",
     "iopub.status.idle": "2021-09-02T23:17:05.041519Z",
     "shell.execute_reply": "2021-09-02T23:17:05.042264Z"
    }
   },
   "outputs": [],
   "source": [
    "df_hourly = pd.DataFrame(data['hourly'])\r\n",
    "df_daily = pd.DataFrame(data['daily'])"
   ]
  },
  {
   "cell_type": "code",
   "execution_count": 9,
   "metadata": {
    "execution": {
     "iopub.execute_input": "2021-09-02T23:17:05.045674Z",
     "iopub.status.busy": "2021-09-02T23:17:05.044604Z",
     "iopub.status.idle": "2021-09-02T23:17:05.316368Z",
     "shell.execute_reply": "2021-09-02T23:17:05.315902Z"
    }
   },
   "outputs": [
    {
     "data": {
      "image/png": "[encoded data removed]",
      "text/plain": [
       "<Figure size 864x432 with 1 Axes>"
      ]
     },
     "metadata": {
      "needs_background": "light"
     },
     "output_type": "display_data"
    }
   ],
   "source": [
    "fig, ax = plt.subplots(figsize=(12, 6))\r\n",
    "plt.plot(df_hourly.temp, '.-', label='Temperature')\r\n",
    "plt.plot(df_hourly.feels_like, '.-', label='Feels Like')\r\n",
    "ax.set(title='Temperature in future 48 hours', xlabel='Time', ylabel='Temperature')\r\n",
    "ax.set_xticks(list(range(0, len(df_hourly), 2)))\r\n",
    "ax.set_xticklabels([ts2dt(ts, '%m-%d %H:%M')[0] for i, ts in enumerate(df_hourly.dt) if i%2==0], \r\n",
    "                   rotation=45, ha=\"right\")\r\n",
    "ax.locator_params(nbins=15, axis='y')\r\n",
    "plt.legend()\r\n",
    "plt.show()"
   ]
  },
  {
   "cell_type": "code",
   "execution_count": 10,
   "metadata": {
    "execution": {
     "iopub.execute_input": "2021-09-02T23:17:05.328880Z",
     "iopub.status.busy": "2021-09-02T23:17:05.320542Z",
     "iopub.status.idle": "2021-09-02T23:17:05.340438Z",
     "shell.execute_reply": "2021-09-02T23:17:05.339989Z"
    }
   },
   "outputs": [
    {
     "data": {
      "text/html": [
       "<div>\n",
       "<style scoped>\n",
       "    .dataframe tbody tr th:only-of-type {\n",
       "        vertical-align: middle;\n",
       "    }\n",
       "\n",
       "    .dataframe tbody tr th {\n",
       "        vertical-align: top;\n",
       "    }\n",
       "\n",
       "    .dataframe thead th {\n",
       "        text-align: right;\n",
       "    }\n",
       "</style>\n",
       "<table border=\"1\" class=\"dataframe\">\n",
       "  <thead>\n",
       "    <tr style=\"text-align: right;\">\n",
       "      <th></th>\n",
       "      <th>dt</th>\n",
       "      <th>temp</th>\n",
       "      <th>feels_like</th>\n",
       "      <th>pressure</th>\n",
       "      <th>humidity</th>\n",
       "      <th>dew_point</th>\n",
       "      <th>uvi</th>\n",
       "      <th>clouds</th>\n",
       "      <th>visibility</th>\n",
       "      <th>wind_speed</th>\n",
       "      <th>wind_deg</th>\n",
       "      <th>wind_gust</th>\n",
       "      <th>weather</th>\n",
       "      <th>pop</th>\n",
       "      <th>rain</th>\n",
       "    </tr>\n",
       "  </thead>\n",
       "  <tbody>\n",
       "    <tr>\n",
       "      <th>0</th>\n",
       "      <td>1630623600</td>\n",
       "      <td>28.09</td>\n",
       "      <td>33.50</td>\n",
       "      <td>1007</td>\n",
       "      <td>87</td>\n",
       "      <td>25.72</td>\n",
       "      <td>0.32</td>\n",
       "      <td>55</td>\n",
       "      <td>10000</td>\n",
       "      <td>0.35</td>\n",
       "      <td>84</td>\n",
       "      <td>0.60</td>\n",
       "      <td>[{'id': 803, 'main': 'Clouds', 'description': ...</td>\n",
       "      <td>0.00</td>\n",
       "      <td>NaN</td>\n",
       "    </tr>\n",
       "    <tr>\n",
       "      <th>1</th>\n",
       "      <td>1630627200</td>\n",
       "      <td>28.13</td>\n",
       "      <td>33.27</td>\n",
       "      <td>1007</td>\n",
       "      <td>85</td>\n",
       "      <td>25.37</td>\n",
       "      <td>1.48</td>\n",
       "      <td>56</td>\n",
       "      <td>10000</td>\n",
       "      <td>0.67</td>\n",
       "      <td>54</td>\n",
       "      <td>0.74</td>\n",
       "      <td>[{'id': 500, 'main': 'Rain', 'description': 'l...</td>\n",
       "      <td>0.20</td>\n",
       "      <td>{'1h': 0.1}</td>\n",
       "    </tr>\n",
       "    <tr>\n",
       "      <th>2</th>\n",
       "      <td>1630630800</td>\n",
       "      <td>28.51</td>\n",
       "      <td>33.60</td>\n",
       "      <td>1007</td>\n",
       "      <td>81</td>\n",
       "      <td>24.93</td>\n",
       "      <td>3.77</td>\n",
       "      <td>61</td>\n",
       "      <td>10000</td>\n",
       "      <td>1.05</td>\n",
       "      <td>64</td>\n",
       "      <td>1.03</td>\n",
       "      <td>[{'id': 803, 'main': 'Clouds', 'description': ...</td>\n",
       "      <td>0.39</td>\n",
       "      <td>NaN</td>\n",
       "    </tr>\n",
       "    <tr>\n",
       "      <th>3</th>\n",
       "      <td>1630634400</td>\n",
       "      <td>29.07</td>\n",
       "      <td>34.08</td>\n",
       "      <td>1008</td>\n",
       "      <td>76</td>\n",
       "      <td>24.41</td>\n",
       "      <td>6.80</td>\n",
       "      <td>70</td>\n",
       "      <td>10000</td>\n",
       "      <td>1.48</td>\n",
       "      <td>91</td>\n",
       "      <td>1.38</td>\n",
       "      <td>[{'id': 500, 'main': 'Rain', 'description': 'l...</td>\n",
       "      <td>0.55</td>\n",
       "      <td>{'1h': 0.1}</td>\n",
       "    </tr>\n",
       "    <tr>\n",
       "      <th>4</th>\n",
       "      <td>1630638000</td>\n",
       "      <td>29.63</td>\n",
       "      <td>34.60</td>\n",
       "      <td>1008</td>\n",
       "      <td>72</td>\n",
       "      <td>24.04</td>\n",
       "      <td>9.60</td>\n",
       "      <td>81</td>\n",
       "      <td>10000</td>\n",
       "      <td>2.18</td>\n",
       "      <td>110</td>\n",
       "      <td>1.91</td>\n",
       "      <td>[{'id': 500, 'main': 'Rain', 'description': 'l...</td>\n",
       "      <td>0.51</td>\n",
       "      <td>{'1h': 0.12}</td>\n",
       "    </tr>\n",
       "  </tbody>\n",
       "</table>\n",
       "</div>"
      ],
      "text/plain": [
       "           dt   temp  feels_like  pressure  humidity  dew_point   uvi  clouds  \\\n",
       "0  1630623600  28.09       33.50      1007        87      25.72  0.32      55   \n",
       "1  1630627200  28.13       33.27      1007        85      25.37  1.48      56   \n",
       "2  1630630800  28.51       33.60      1007        81      24.93  3.77      61   \n",
       "3  1630634400  29.07       34.08      1008        76      24.41  6.80      70   \n",
       "4  1630638000  29.63       34.60      1008        72      24.04  9.60      81   \n",
       "\n",
       "   visibility  wind_speed  wind_deg  wind_gust  \\\n",
       "0       10000        0.35        84       0.60   \n",
       "1       10000        0.67        54       0.74   \n",
       "2       10000        1.05        64       1.03   \n",
       "3       10000        1.48        91       1.38   \n",
       "4       10000        2.18       110       1.91   \n",
       "\n",
       "                                             weather   pop          rain  \n",
       "0  [{'id': 803, 'main': 'Clouds', 'description': ...  0.00           NaN  \n",
       "1  [{'id': 500, 'main': 'Rain', 'description': 'l...  0.20   {'1h': 0.1}  \n",
       "2  [{'id': 803, 'main': 'Clouds', 'description': ...  0.39           NaN  \n",
       "3  [{'id': 500, 'main': 'Rain', 'description': 'l...  0.55   {'1h': 0.1}  \n",
       "4  [{'id': 500, 'main': 'Rain', 'description': 'l...  0.51  {'1h': 0.12}  "
      ]
     },
     "execution_count": 10,
     "metadata": {},
     "output_type": "execute_result"
    }
   ],
   "source": [
    "df_hourly.head()"
   ]
  },
  {
   "cell_type": "code",
   "execution_count": null,
   "metadata": {},
   "outputs": [],
   "source": []
  }
 ],
 "metadata": {
  "interpreter": {
   "hash": "c1b4cfe941b6d2466ad1fb5979e97da9cda8801728c8091b097ab734208fc00c"
  },
  "kernelspec": {
   "display_name": "Python 3.8.3 64-bit ('base': conda)",
   "name": "python3"
  },
  "language_info": {
   "codemirror_mode": {
    "name": "ipython",
    "version": 3
   },
   "file_extension": ".py",
   "mimetype": "text/x-python",
   "name": "python",
   "nbconvert_exporter": "python",
   "pygments_lexer": "ipython3",
   "version": "3.8.11"
  }
 },
 "nbformat": 4,
 "nbformat_minor": 2
}
