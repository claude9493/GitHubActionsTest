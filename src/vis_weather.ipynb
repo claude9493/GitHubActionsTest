{
 "cells": [
  {
   "cell_type": "code",
   "execution_count": 1,
   "metadata": {
    "execution": {
     "iopub.execute_input": "2021-10-19T19:09:47.879010Z",
     "iopub.status.busy": "2021-10-19T19:09:47.878378Z",
     "iopub.status.idle": "2021-10-19T19:09:49.043779Z",
     "shell.execute_reply": "2021-10-19T19:09:49.042811Z"
    }
   },
   "outputs": [],
   "source": [
    "import json, yaml, requests\r\n",
    "from datetime import datetime\r\n",
    "from dateutil import tz\r\n",
    "import pandas as pd\r\n",
    "from PIL import Image\r\n",
    "from io import BytesIO\r\n",
    "import matplotlib.pyplot as plt\r\n",
    "import seaborn\r\n",
    "\r\n",
    "CONFIG_PATH = \"../config/config.yaml\""
   ]
  },
  {
   "cell_type": "code",
   "execution_count": 2,
   "metadata": {
    "execution": {
     "iopub.execute_input": "2021-10-19T19:09:49.048703Z",
     "iopub.status.busy": "2021-10-19T19:09:49.048211Z",
     "iopub.status.idle": "2021-10-19T19:09:49.052994Z",
     "shell.execute_reply": "2021-10-19T19:09:49.052609Z"
    }
   },
   "outputs": [],
   "source": [
    "with open('../newest_ts', 'r') as f:\r\n",
    "    newest_ts = f.read()\r\n",
    "\r\n",
    "data_path = f\"../data/data_{newest_ts}.json\"\r\n",
    "with open(data_path, 'r') as f:\r\n",
    "    data = json.load(f)\r\n",
    "\r\n",
    "with open(CONFIG_PATH, \"r\") as stream:\r\n",
    "    config = yaml.safe_load(stream)\r\n",
    "\r\n",
    "TIME_ZONE = config['time_zone']\r\n",
    "DATETIME_FORMAT = config['dt_format']"
   ]
  },
  {
   "cell_type": "code",
   "execution_count": 3,
   "metadata": {
    "execution": {
     "iopub.execute_input": "2021-10-19T19:09:49.057360Z",
     "iopub.status.busy": "2021-10-19T19:09:49.056842Z",
     "iopub.status.idle": "2021-10-19T19:09:49.062410Z",
     "shell.execute_reply": "2021-10-19T19:09:49.062793Z"
    }
   },
   "outputs": [
    {
     "name": "stdout",
     "output_type": "stream",
     "text": [
      "Recent query happens at 2021-10-20 03:09:45 (CST).\n"
     ]
    }
   ],
   "source": [
    "def ts2dt(ts, format=DATETIME_FORMAT):\r\n",
    "    dt = (datetime.utcfromtimestamp(int(ts))\r\n",
    "                    .replace(tzinfo=tz.tzutc())\r\n",
    "                    # .astimezone(tz.tzlocal())\r\n",
    "                    .astimezone(tz.gettz(TIME_ZONE)))\r\n",
    "    return dt.strftime(format), dt\r\n",
    "\r\n",
    "_, newest_dt = ts2dt(newest_ts)\r\n",
    "print(f\"Recent query happens at {newest_dt.strftime(DATETIME_FORMAT)} ({newest_dt.tzname()}).\")"
   ]
  },
  {
   "cell_type": "code",
   "execution_count": 4,
   "metadata": {
    "execution": {
     "iopub.execute_input": "2021-10-19T19:09:49.067598Z",
     "iopub.status.busy": "2021-10-19T19:09:49.066575Z",
     "iopub.status.idle": "2021-10-19T19:09:49.068124Z",
     "shell.execute_reply": "2021-10-19T19:09:49.068490Z"
    }
   },
   "outputs": [],
   "source": [
    "def degrees_to_cardinal(d):\r\n",
    "  dirs = ['N', 'NNE', 'NE', 'ENE', 'E', 'ESE', 'SE', 'SSE', 'S', 'SSW', 'SW', 'WSW', 'W', 'WNW', 'NW', 'NNW']\r\n",
    "  ix = int(round(d / (360. / len(dirs))))\r\n",
    "  return dirs[ix % len(dirs)]"
   ]
  },
  {
   "cell_type": "code",
   "execution_count": 5,
   "metadata": {
    "execution": {
     "iopub.execute_input": "2021-10-19T19:09:49.072698Z",
     "iopub.status.busy": "2021-10-19T19:09:49.071568Z",
     "iopub.status.idle": "2021-10-19T19:09:49.073225Z",
     "shell.execute_reply": "2021-10-19T19:09:49.073590Z"
    }
   },
   "outputs": [],
   "source": [
    "# data.keys()"
   ]
  },
  {
   "cell_type": "code",
   "execution_count": 6,
   "metadata": {
    "execution": {
     "iopub.execute_input": "2021-10-19T19:09:49.077400Z",
     "iopub.status.busy": "2021-10-19T19:09:49.076280Z",
     "iopub.status.idle": "2021-10-19T19:09:49.077925Z",
     "shell.execute_reply": "2021-10-19T19:09:49.078323Z"
    }
   },
   "outputs": [],
   "source": [
    "# data['current']"
   ]
  },
  {
   "cell_type": "code",
   "execution_count": 7,
   "metadata": {
    "execution": {
     "iopub.execute_input": "2021-10-19T19:09:49.095659Z",
     "iopub.status.busy": "2021-10-19T19:09:49.094008Z",
     "iopub.status.idle": "2021-10-19T19:09:49.646783Z",
     "shell.execute_reply": "2021-10-19T19:09:49.647453Z"
    }
   },
   "outputs": [
    {
     "data": {
      "image/png": "[encoded data removed]",
      "text/plain": [
       "<Figure size 216x216 with 1 Axes>"
      ]
     },
     "metadata": {
      "needs_background": "light"
     },
     "output_type": "display_data"
    },
    {
     "name": "stdout",
     "output_type": "stream",
     "text": [
      "Today, sun rises at 06:21 and sets at 17:54.\n",
      "Currently, the weather is Clouds (overcast clouds).\n",
      "The temperature is 25.45°C and it feels like 26.14°C.\n",
      "The UV index is 0, humidity is 80%.\n",
      "The pressure is 1015 hPa, percentage of cloud cover is 99%\n",
      "The wind comes from ESE direction with a speed 2.24 m/s.\n"
     ]
    }
   ],
   "source": [
    "current = data['current']\r\n",
    "\r\n",
    "fig, ax = plt.subplots(figsize=(3, 3))\r\n",
    "icon = requests.get(f\"http://openweathermap.org/img/wn/{current['weather'][0]['icon']}@2x.png\")\r\n",
    "im = Image.open(BytesIO(icon.content))\r\n",
    "plt.imshow(im)\r\n",
    "ax.set_axis_off()\r\n",
    "plt.show()\r\n",
    "\r\n",
    "print(f\"Today, sun rises at {ts2dt(current['sunrise'], '%H:%M')[0]} \\\r\n",
    "and sets at {ts2dt(current['sunset'], '%H:%M')[0]}.\\n\\\r\n",
    "Currently, the weather is {current['weather'][0]['main']} ({current['weather'][0]['description']}).\\n\\\r\n",
    "The temperature is {current['temp']}°C and it feels like {current['feels_like']}°C.\\n\\\r\n",
    "The UV index is {current['uvi']}, humidity is {current['humidity']}%.\\n\\\r\n",
    "The pressure is {current['pressure']} hPa, percentage of cloud cover is {current['clouds']}%\\n\\\r\n",
    "The wind comes from {degrees_to_cardinal(current['wind_deg'])} direction with a speed {current['wind_speed']} m/s.\")"
   ]
  },
  {
   "cell_type": "code",
   "execution_count": 8,
   "metadata": {
    "execution": {
     "iopub.execute_input": "2021-10-19T19:09:49.650639Z",
     "iopub.status.busy": "2021-10-19T19:09:49.649687Z",
     "iopub.status.idle": "2021-10-19T19:09:49.656431Z",
     "shell.execute_reply": "2021-10-19T19:09:49.657083Z"
    }
   },
   "outputs": [],
   "source": [
    "df_hourly = pd.DataFrame(data['hourly'])\r\n",
    "df_daily = pd.DataFrame(data['daily'])"
   ]
  },
  {
   "cell_type": "code",
   "execution_count": 9,
   "metadata": {
    "execution": {
     "iopub.execute_input": "2021-10-19T19:09:49.660115Z",
     "iopub.status.busy": "2021-10-19T19:09:49.659179Z",
     "iopub.status.idle": "2021-10-19T19:09:49.900918Z",
     "shell.execute_reply": "2021-10-19T19:09:49.900464Z"
    }
   },
   "outputs": [
    {
     "data": {
      "image/png": "[encoded data removed]",
      "text/plain": [
       "<Figure size 864x432 with 1 Axes>"
      ]
     },
     "metadata": {
      "needs_background": "light"
     },
     "output_type": "display_data"
    }
   ],
   "source": [
    "fig, ax = plt.subplots(figsize=(12, 6))\r\n",
    "plt.plot(df_hourly.temp, '.-', label='Temperature')\r\n",
    "plt.plot(df_hourly.feels_like, '.-', label='Feels Like')\r\n",
    "ax.set(title='Temperature in future 48 hours', xlabel='Time', ylabel='Temperature')\r\n",
    "ax.set_xticks(list(range(0, len(df_hourly), 2)))\r\n",
    "ax.set_xticklabels([ts2dt(ts, '%m-%d %H:%M')[0] for i, ts in enumerate(df_hourly.dt) if i%2==0], \r\n",
    "                   rotation=45, ha=\"right\")\r\n",
    "ax.locator_params(nbins=15, axis='y')\r\n",
    "plt.legend()\r\n",
    "plt.show()"
   ]
  },
  {
   "cell_type": "code",
   "execution_count": 10,
   "metadata": {
    "execution": {
     "iopub.execute_input": "2021-10-19T19:09:49.905163Z",
     "iopub.status.busy": "2021-10-19T19:09:49.904695Z",
     "iopub.status.idle": "2021-10-19T19:09:49.921466Z",
     "shell.execute_reply": "2021-10-19T19:09:49.921845Z"
    }
   },
   "outputs": [
    {
     "data": {
      "text/html": [
       "<div>\n",
       "<style scoped>\n",
       "    .dataframe tbody tr th:only-of-type {\n",
       "        vertical-align: middle;\n",
       "    }\n",
       "\n",
       "    .dataframe tbody tr th {\n",
       "        vertical-align: top;\n",
       "    }\n",
       "\n",
       "    .dataframe thead th {\n",
       "        text-align: right;\n",
       "    }\n",
       "</style>\n",
       "<table border=\"1\" class=\"dataframe\">\n",
       "  <thead>\n",
       "    <tr style=\"text-align: right;\">\n",
       "      <th></th>\n",
       "      <th>dt</th>\n",
       "      <th>temp</th>\n",
       "      <th>feels_like</th>\n",
       "      <th>pressure</th>\n",
       "      <th>humidity</th>\n",
       "      <th>dew_point</th>\n",
       "      <th>uvi</th>\n",
       "      <th>clouds</th>\n",
       "      <th>visibility</th>\n",
       "      <th>wind_speed</th>\n",
       "      <th>wind_deg</th>\n",
       "      <th>wind_gust</th>\n",
       "      <th>weather</th>\n",
       "      <th>pop</th>\n",
       "      <th>rain</th>\n",
       "    </tr>\n",
       "  </thead>\n",
       "  <tbody>\n",
       "    <tr>\n",
       "      <th>0</th>\n",
       "      <td>1634670000</td>\n",
       "      <td>25.45</td>\n",
       "      <td>26.14</td>\n",
       "      <td>1015</td>\n",
       "      <td>80</td>\n",
       "      <td>21.75</td>\n",
       "      <td>0.0</td>\n",
       "      <td>99</td>\n",
       "      <td>10000</td>\n",
       "      <td>5.34</td>\n",
       "      <td>92</td>\n",
       "      <td>6.65</td>\n",
       "      <td>[{'id': 804, 'main': 'Clouds', 'description': ...</td>\n",
       "      <td>0.0</td>\n",
       "      <td>NaN</td>\n",
       "    </tr>\n",
       "    <tr>\n",
       "      <th>1</th>\n",
       "      <td>1634673600</td>\n",
       "      <td>25.33</td>\n",
       "      <td>25.98</td>\n",
       "      <td>1015</td>\n",
       "      <td>79</td>\n",
       "      <td>21.42</td>\n",
       "      <td>0.0</td>\n",
       "      <td>99</td>\n",
       "      <td>10000</td>\n",
       "      <td>5.27</td>\n",
       "      <td>88</td>\n",
       "      <td>6.72</td>\n",
       "      <td>[{'id': 500, 'main': 'Rain', 'description': 'l...</td>\n",
       "      <td>0.2</td>\n",
       "      <td>{'1h': 0.12}</td>\n",
       "    </tr>\n",
       "    <tr>\n",
       "      <th>2</th>\n",
       "      <td>1634677200</td>\n",
       "      <td>25.17</td>\n",
       "      <td>25.86</td>\n",
       "      <td>1015</td>\n",
       "      <td>81</td>\n",
       "      <td>21.68</td>\n",
       "      <td>0.0</td>\n",
       "      <td>99</td>\n",
       "      <td>10000</td>\n",
       "      <td>5.73</td>\n",
       "      <td>88</td>\n",
       "      <td>7.23</td>\n",
       "      <td>[{'id': 804, 'main': 'Clouds', 'description': ...</td>\n",
       "      <td>0.0</td>\n",
       "      <td>NaN</td>\n",
       "    </tr>\n",
       "    <tr>\n",
       "      <th>3</th>\n",
       "      <td>1634680800</td>\n",
       "      <td>25.07</td>\n",
       "      <td>25.77</td>\n",
       "      <td>1016</td>\n",
       "      <td>82</td>\n",
       "      <td>21.78</td>\n",
       "      <td>0.0</td>\n",
       "      <td>100</td>\n",
       "      <td>10000</td>\n",
       "      <td>5.98</td>\n",
       "      <td>87</td>\n",
       "      <td>7.44</td>\n",
       "      <td>[{'id': 804, 'main': 'Clouds', 'description': ...</td>\n",
       "      <td>0.0</td>\n",
       "      <td>NaN</td>\n",
       "    </tr>\n",
       "    <tr>\n",
       "      <th>4</th>\n",
       "      <td>1634684400</td>\n",
       "      <td>24.94</td>\n",
       "      <td>25.63</td>\n",
       "      <td>1017</td>\n",
       "      <td>82</td>\n",
       "      <td>21.65</td>\n",
       "      <td>0.0</td>\n",
       "      <td>100</td>\n",
       "      <td>10000</td>\n",
       "      <td>5.96</td>\n",
       "      <td>85</td>\n",
       "      <td>7.33</td>\n",
       "      <td>[{'id': 500, 'main': 'Rain', 'description': 'l...</td>\n",
       "      <td>0.2</td>\n",
       "      <td>{'1h': 0.12}</td>\n",
       "    </tr>\n",
       "  </tbody>\n",
       "</table>\n",
       "</div>"
      ],
      "text/plain": [
       "           dt   temp  feels_like  pressure  humidity  dew_point  uvi  clouds  \\\n",
       "0  1634670000  25.45       26.14      1015        80      21.75  0.0      99   \n",
       "1  1634673600  25.33       25.98      1015        79      21.42  0.0      99   \n",
       "2  1634677200  25.17       25.86      1015        81      21.68  0.0      99   \n",
       "3  1634680800  25.07       25.77      1016        82      21.78  0.0     100   \n",
       "4  1634684400  24.94       25.63      1017        82      21.65  0.0     100   \n",
       "\n",
       "   visibility  wind_speed  wind_deg  wind_gust  \\\n",
       "0       10000        5.34        92       6.65   \n",
       "1       10000        5.27        88       6.72   \n",
       "2       10000        5.73        88       7.23   \n",
       "3       10000        5.98        87       7.44   \n",
       "4       10000        5.96        85       7.33   \n",
       "\n",
       "                                             weather  pop          rain  \n",
       "0  [{'id': 804, 'main': 'Clouds', 'description': ...  0.0           NaN  \n",
       "1  [{'id': 500, 'main': 'Rain', 'description': 'l...  0.2  {'1h': 0.12}  \n",
       "2  [{'id': 804, 'main': 'Clouds', 'description': ...  0.0           NaN  \n",
       "3  [{'id': 804, 'main': 'Clouds', 'description': ...  0.0           NaN  \n",
       "4  [{'id': 500, 'main': 'Rain', 'description': 'l...  0.2  {'1h': 0.12}  "
      ]
     },
     "execution_count": 10,
     "metadata": {},
     "output_type": "execute_result"
    }
   ],
   "source": [
    "df_hourly.head()"
   ]
  },
  {
   "cell_type": "code",
   "execution_count": null,
   "metadata": {},
   "outputs": [],
   "source": []
  }
 ],
 "metadata": {
  "interpreter": {
   "hash": "c1b4cfe941b6d2466ad1fb5979e97da9cda8801728c8091b097ab734208fc00c"
  },
  "kernelspec": {
   "display_name": "Python 3.8.3 64-bit ('base': conda)",
   "name": "python3"
  },
  "language_info": {
   "codemirror_mode": {
    "name": "ipython",
    "version": 3
   },
   "file_extension": ".py",
   "mimetype": "text/x-python",
   "name": "python",
   "nbconvert_exporter": "python",
   "pygments_lexer": "ipython3",
   "version": "3.8.12"
  }
 },
 "nbformat": 4,
 "nbformat_minor": 2
}
