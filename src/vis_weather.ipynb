{
 "cells": [
  {
   "cell_type": "code",
   "execution_count": 1,
   "metadata": {
    "execution": {
     "iopub.execute_input": "2021-09-02T23:38:39.389070Z",
     "iopub.status.busy": "2021-09-02T23:38:39.388370Z",
     "iopub.status.idle": "2021-09-02T23:38:42.160304Z",
     "shell.execute_reply": "2021-09-02T23:38:42.159417Z"
    }
   },
   "outputs": [],
   "source": [
    "import json, yaml, requests\r\n",
    "from datetime import datetime\r\n",
    "from dateutil import tz\r\n",
    "import pandas as pd\r\n",
    "from PIL import Image\r\n",
    "from io import BytesIO\r\n",
    "import matplotlib.pyplot as plt\r\n",
    "import seaborn\r\n",
    "\r\n",
    "CONFIG_PATH = \"../config/config.yaml\""
   ]
  },
  {
   "cell_type": "code",
   "execution_count": 2,
   "metadata": {
    "execution": {
     "iopub.execute_input": "2021-09-02T23:38:42.163323Z",
     "iopub.status.busy": "2021-09-02T23:38:42.162739Z",
     "iopub.status.idle": "2021-09-02T23:38:42.170733Z",
     "shell.execute_reply": "2021-09-02T23:38:42.170289Z"
    }
   },
   "outputs": [],
   "source": [
    "with open('../newest_ts', 'r') as f:\r\n",
    "    newest_ts = f.read()\r\n",
    "\r\n",
    "data_path = f\"../data/data_{newest_ts}.json\"\r\n",
    "with open(data_path, 'r') as f:\r\n",
    "    data = json.load(f)\r\n",
    "\r\n",
    "with open(CONFIG_PATH, \"r\") as stream:\r\n",
    "    config = yaml.safe_load(stream)\r\n",
    "\r\n",
    "TIME_ZONE = config['time_zone']\r\n",
    "DATETIME_FORMAT = config['dt_format']"
   ]
  },
  {
   "cell_type": "code",
   "execution_count": 3,
   "metadata": {
    "execution": {
     "iopub.execute_input": "2021-09-02T23:38:42.175360Z",
     "iopub.status.busy": "2021-09-02T23:38:42.174760Z",
     "iopub.status.idle": "2021-09-02T23:38:42.208486Z",
     "shell.execute_reply": "2021-09-02T23:38:42.208998Z"
    }
   },
   "outputs": [
    {
     "name": "stdout",
     "output_type": "stream",
     "text": [
      "Recent query happens at 2021-09-03 07:38:36 (CST).\n"
     ]
    }
   ],
   "source": [
    "def ts2dt(ts, format=DATETIME_FORMAT):\r\n",
    "    dt = (datetime.utcfromtimestamp(int(ts))\r\n",
    "                    .replace(tzinfo=tz.tzutc())\r\n",
    "                    # .astimezone(tz.tzlocal())\r\n",
    "                    .astimezone(tz.gettz(TIME_ZONE)))\r\n",
    "    return dt.strftime(format), dt\r\n",
    "\r\n",
    "_, newest_dt = ts2dt(newest_ts)\r\n",
    "print(f\"Recent query happens at {newest_dt.strftime(DATETIME_FORMAT)} ({newest_dt.tzname()}).\")"
   ]
  },
  {
   "cell_type": "code",
   "execution_count": 4,
   "metadata": {
    "execution": {
     "iopub.execute_input": "2021-09-02T23:38:42.214625Z",
     "iopub.status.busy": "2021-09-02T23:38:42.213345Z",
     "iopub.status.idle": "2021-09-02T23:38:42.215232Z",
     "shell.execute_reply": "2021-09-02T23:38:42.215674Z"
    }
   },
   "outputs": [],
   "source": [
    "def degrees_to_cardinal(d):\r\n",
    "  dirs = ['N', 'NNE', 'NE', 'ENE', 'E', 'ESE', 'SE', 'SSE', 'S', 'SSW', 'SW', 'WSW', 'W', 'WNW', 'NW', 'NNW']\r\n",
    "  ix = int(round(d / (360. / len(dirs))))\r\n",
    "  return dirs[ix % len(dirs)]"
   ]
  },
  {
   "cell_type": "code",
   "execution_count": 5,
   "metadata": {
    "execution": {
     "iopub.execute_input": "2021-09-02T23:38:42.219405Z",
     "iopub.status.busy": "2021-09-02T23:38:42.218846Z",
     "iopub.status.idle": "2021-09-02T23:38:42.221239Z",
     "shell.execute_reply": "2021-09-02T23:38:42.220754Z"
    }
   },
   "outputs": [],
   "source": [
    "# data.keys()"
   ]
  },
  {
   "cell_type": "code",
   "execution_count": 6,
   "metadata": {
    "execution": {
     "iopub.execute_input": "2021-09-02T23:38:42.225451Z",
     "iopub.status.busy": "2021-09-02T23:38:42.224152Z",
     "iopub.status.idle": "2021-09-02T23:38:42.226031Z",
     "shell.execute_reply": "2021-09-02T23:38:42.226508Z"
    }
   },
   "outputs": [],
   "source": [
    "# data['current']"
   ]
  },
  {
   "cell_type": "code",
   "execution_count": 7,
   "metadata": {
    "execution": {
     "iopub.execute_input": "2021-09-02T23:38:42.246525Z",
     "iopub.status.busy": "2021-09-02T23:38:42.245955Z",
     "iopub.status.idle": "2021-09-02T23:38:42.656647Z",
     "shell.execute_reply": "2021-09-02T23:38:42.657373Z"
    }
   },
   "outputs": [
    {
     "data": {
      "image/png": "[encoded data removed]",
      "text/plain": [
       "<Figure size 216x216 with 1 Axes>"
      ]
     },
     "metadata": {
      "needs_background": "light"
     },
     "output_type": "display_data"
    },
    {
     "name": "stdout",
     "output_type": "stream",
     "text": [
      "Today, sun rises at 06:06 and sets at 18:38.\n",
      "Currently, the weather is Clouds (broken clouds).\n",
      "The temperature is 28.56°C and it feels like 34.94°C.\n",
      "The UV index is 1.48, humidity is 87%.\n",
      "The pressure is 1008 hPa, percentage of cloud cover is 59%\n",
      "The wind comes from NE direction with a speed 0.67 m/s.\n"
     ]
    }
   ],
   "source": [
    "current = data['current']\r\n",
    "\r\n",
    "fig, ax = plt.subplots(figsize=(3, 3))\r\n",
    "icon = requests.get(f\"http://openweathermap.org/img/wn/{current['weather'][0]['icon']}@2x.png\")\r\n",
    "im = Image.open(BytesIO(icon.content))\r\n",
    "plt.imshow(im)\r\n",
    "ax.set_axis_off()\r\n",
    "plt.show()\r\n",
    "\r\n",
    "print(f\"Today, sun rises at {ts2dt(current['sunrise'], '%H:%M')[0]} \\\r\n",
    "and sets at {ts2dt(current['sunset'], '%H:%M')[0]}.\\n\\\r\n",
    "Currently, the weather is {current['weather'][0]['main']} ({current['weather'][0]['description']}).\\n\\\r\n",
    "The temperature is {current['temp']}°C and it feels like {current['feels_like']}°C.\\n\\\r\n",
    "The UV index is {current['uvi']}, humidity is {current['humidity']}%.\\n\\\r\n",
    "The pressure is {current['pressure']} hPa, percentage of cloud cover is {current['clouds']}%\\n\\\r\n",
    "The wind comes from {degrees_to_cardinal(current['wind_deg'])} direction with a speed {current['wind_speed']} m/s.\")"
   ]
  },
  {
   "cell_type": "code",
   "execution_count": 8,
   "metadata": {
    "execution": {
     "iopub.execute_input": "2021-09-02T23:38:42.660684Z",
     "iopub.status.busy": "2021-09-02T23:38:42.659732Z",
     "iopub.status.idle": "2021-09-02T23:38:42.668600Z",
     "shell.execute_reply": "2021-09-02T23:38:42.669285Z"
    }
   },
   "outputs": [],
   "source": [
    "df_hourly = pd.DataFrame(data['hourly'])\r\n",
    "df_daily = pd.DataFrame(data['daily'])"
   ]
  },
  {
   "cell_type": "code",
   "execution_count": 9,
   "metadata": {
    "execution": {
     "iopub.execute_input": "2021-09-02T23:38:42.672730Z",
     "iopub.status.busy": "2021-09-02T23:38:42.671705Z",
     "iopub.status.idle": "2021-09-02T23:38:42.969175Z",
     "shell.execute_reply": "2021-09-02T23:38:42.969974Z"
    }
   },
   "outputs": [
    {
     "data": {
      "image/png": "[encoded data removed]",
      "text/plain": [
       "<Figure size 864x432 with 1 Axes>"
      ]
     },
     "metadata": {
      "needs_background": "light"
     },
     "output_type": "display_data"
    }
   ],
   "source": [
    "fig, ax = plt.subplots(figsize=(12, 6))\r\n",
    "plt.plot(df_hourly.temp, '.-', label='Temperature')\r\n",
    "plt.plot(df_hourly.feels_like, '.-', label='Feels Like')\r\n",
    "ax.set(title='Temperature in future 48 hours', xlabel='Time', ylabel='Temperature')\r\n",
    "ax.set_xticks(list(range(0, len(df_hourly), 2)))\r\n",
    "ax.set_xticklabels([ts2dt(ts, '%m-%d %H:%M')[0] for i, ts in enumerate(df_hourly.dt) if i%2==0], \r\n",
    "                   rotation=45, ha=\"right\")\r\n",
    "ax.locator_params(nbins=15, axis='y')\r\n",
    "plt.legend()\r\n",
    "plt.show()"
   ]
  },
  {
   "cell_type": "code",
   "execution_count": 10,
   "metadata": {
    "execution": {
     "iopub.execute_input": "2021-09-02T23:38:42.984868Z",
     "iopub.status.busy": "2021-09-02T23:38:42.975183Z",
     "iopub.status.idle": "2021-09-02T23:38:42.997746Z",
     "shell.execute_reply": "2021-09-02T23:38:42.998265Z"
    }
   },
   "outputs": [
    {
     "data": {
      "text/html": [
       "<div>\n",
       "<style scoped>\n",
       "    .dataframe tbody tr th:only-of-type {\n",
       "        vertical-align: middle;\n",
       "    }\n",
       "\n",
       "    .dataframe tbody tr th {\n",
       "        vertical-align: top;\n",
       "    }\n",
       "\n",
       "    .dataframe thead th {\n",
       "        text-align: right;\n",
       "    }\n",
       "</style>\n",
       "<table border=\"1\" class=\"dataframe\">\n",
       "  <thead>\n",
       "    <tr style=\"text-align: right;\">\n",
       "      <th></th>\n",
       "      <th>dt</th>\n",
       "      <th>temp</th>\n",
       "      <th>feels_like</th>\n",
       "      <th>pressure</th>\n",
       "      <th>humidity</th>\n",
       "      <th>dew_point</th>\n",
       "      <th>uvi</th>\n",
       "      <th>clouds</th>\n",
       "      <th>visibility</th>\n",
       "      <th>wind_speed</th>\n",
       "      <th>wind_deg</th>\n",
       "      <th>wind_gust</th>\n",
       "      <th>weather</th>\n",
       "      <th>pop</th>\n",
       "      <th>rain</th>\n",
       "    </tr>\n",
       "  </thead>\n",
       "  <tbody>\n",
       "    <tr>\n",
       "      <th>0</th>\n",
       "      <td>1630623600</td>\n",
       "      <td>28.35</td>\n",
       "      <td>33.90</td>\n",
       "      <td>1008</td>\n",
       "      <td>85</td>\n",
       "      <td>25.58</td>\n",
       "      <td>0.32</td>\n",
       "      <td>58</td>\n",
       "      <td>10000</td>\n",
       "      <td>0.35</td>\n",
       "      <td>84</td>\n",
       "      <td>0.60</td>\n",
       "      <td>[{'id': 803, 'main': 'Clouds', 'description': ...</td>\n",
       "      <td>0.00</td>\n",
       "      <td>NaN</td>\n",
       "    </tr>\n",
       "    <tr>\n",
       "      <th>1</th>\n",
       "      <td>1630627200</td>\n",
       "      <td>28.56</td>\n",
       "      <td>34.94</td>\n",
       "      <td>1008</td>\n",
       "      <td>87</td>\n",
       "      <td>26.18</td>\n",
       "      <td>1.48</td>\n",
       "      <td>59</td>\n",
       "      <td>10000</td>\n",
       "      <td>0.67</td>\n",
       "      <td>54</td>\n",
       "      <td>0.74</td>\n",
       "      <td>[{'id': 803, 'main': 'Clouds', 'description': ...</td>\n",
       "      <td>0.00</td>\n",
       "      <td>NaN</td>\n",
       "    </tr>\n",
       "    <tr>\n",
       "      <th>2</th>\n",
       "      <td>1630630800</td>\n",
       "      <td>28.67</td>\n",
       "      <td>34.65</td>\n",
       "      <td>1008</td>\n",
       "      <td>84</td>\n",
       "      <td>25.70</td>\n",
       "      <td>3.77</td>\n",
       "      <td>61</td>\n",
       "      <td>10000</td>\n",
       "      <td>1.05</td>\n",
       "      <td>64</td>\n",
       "      <td>1.03</td>\n",
       "      <td>[{'id': 803, 'main': 'Clouds', 'description': ...</td>\n",
       "      <td>0.39</td>\n",
       "      <td>NaN</td>\n",
       "    </tr>\n",
       "    <tr>\n",
       "      <th>3</th>\n",
       "      <td>1630634400</td>\n",
       "      <td>29.03</td>\n",
       "      <td>34.82</td>\n",
       "      <td>1008</td>\n",
       "      <td>80</td>\n",
       "      <td>25.23</td>\n",
       "      <td>6.80</td>\n",
       "      <td>67</td>\n",
       "      <td>10000</td>\n",
       "      <td>1.48</td>\n",
       "      <td>91</td>\n",
       "      <td>1.38</td>\n",
       "      <td>[{'id': 803, 'main': 'Clouds', 'description': ...</td>\n",
       "      <td>0.55</td>\n",
       "      <td>NaN</td>\n",
       "    </tr>\n",
       "    <tr>\n",
       "      <th>4</th>\n",
       "      <td>1630638000</td>\n",
       "      <td>29.44</td>\n",
       "      <td>35.04</td>\n",
       "      <td>1008</td>\n",
       "      <td>76</td>\n",
       "      <td>24.76</td>\n",
       "      <td>9.60</td>\n",
       "      <td>76</td>\n",
       "      <td>10000</td>\n",
       "      <td>2.18</td>\n",
       "      <td>110</td>\n",
       "      <td>1.91</td>\n",
       "      <td>[{'id': 500, 'main': 'Rain', 'description': 'l...</td>\n",
       "      <td>0.51</td>\n",
       "      <td>{'1h': 0.12}</td>\n",
       "    </tr>\n",
       "  </tbody>\n",
       "</table>\n",
       "</div>"
      ],
      "text/plain": [
       "           dt   temp  feels_like  pressure  humidity  dew_point   uvi  clouds  \\\n",
       "0  1630623600  28.35       33.90      1008        85      25.58  0.32      58   \n",
       "1  1630627200  28.56       34.94      1008        87      26.18  1.48      59   \n",
       "2  1630630800  28.67       34.65      1008        84      25.70  3.77      61   \n",
       "3  1630634400  29.03       34.82      1008        80      25.23  6.80      67   \n",
       "4  1630638000  29.44       35.04      1008        76      24.76  9.60      76   \n",
       "\n",
       "   visibility  wind_speed  wind_deg  wind_gust  \\\n",
       "0       10000        0.35        84       0.60   \n",
       "1       10000        0.67        54       0.74   \n",
       "2       10000        1.05        64       1.03   \n",
       "3       10000        1.48        91       1.38   \n",
       "4       10000        2.18       110       1.91   \n",
       "\n",
       "                                             weather   pop          rain  \n",
       "0  [{'id': 803, 'main': 'Clouds', 'description': ...  0.00           NaN  \n",
       "1  [{'id': 803, 'main': 'Clouds', 'description': ...  0.00           NaN  \n",
       "2  [{'id': 803, 'main': 'Clouds', 'description': ...  0.39           NaN  \n",
       "3  [{'id': 803, 'main': 'Clouds', 'description': ...  0.55           NaN  \n",
       "4  [{'id': 500, 'main': 'Rain', 'description': 'l...  0.51  {'1h': 0.12}  "
      ]
     },
     "execution_count": 10,
     "metadata": {},
     "output_type": "execute_result"
    }
   ],
   "source": [
    "df_hourly.head()"
   ]
  },
  {
   "cell_type": "code",
   "execution_count": null,
   "metadata": {},
   "outputs": [],
   "source": []
  }
 ],
 "metadata": {
  "interpreter": {
   "hash": "c1b4cfe941b6d2466ad1fb5979e97da9cda8801728c8091b097ab734208fc00c"
  },
  "kernelspec": {
   "display_name": "Python 3.8.3 64-bit ('base': conda)",
   "name": "python3"
  },
  "language_info": {
   "codemirror_mode": {
    "name": "ipython",
    "version": 3
   },
   "file_extension": ".py",
   "mimetype": "text/x-python",
   "name": "python",
   "nbconvert_exporter": "python",
   "pygments_lexer": "ipython3",
   "version": "3.8.11"
  }
 },
 "nbformat": 4,
 "nbformat_minor": 2
}
