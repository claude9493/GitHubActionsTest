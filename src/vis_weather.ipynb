{
 "cells": [
  {
   "cell_type": "code",
   "execution_count": 1,
   "metadata": {
    "execution": {
     "iopub.execute_input": "2021-09-03T01:56:51.926760Z",
     "iopub.status.busy": "2021-09-03T01:56:51.926173Z",
     "iopub.status.idle": "2021-09-03T01:56:53.271768Z",
     "shell.execute_reply": "2021-09-03T01:56:53.271163Z"
    }
   },
   "outputs": [],
   "source": [
    "import json, yaml, requests\r\n",
    "from datetime import datetime\r\n",
    "from dateutil import tz\r\n",
    "import pandas as pd\r\n",
    "from PIL import Image\r\n",
    "from io import BytesIO\r\n",
    "import matplotlib.pyplot as plt\r\n",
    "import seaborn\r\n",
    "\r\n",
    "CONFIG_PATH = \"../config/config.yaml\""
   ]
  },
  {
   "cell_type": "code",
   "execution_count": 2,
   "metadata": {
    "execution": {
     "iopub.execute_input": "2021-09-03T01:56:53.279173Z",
     "iopub.status.busy": "2021-09-03T01:56:53.276186Z",
     "iopub.status.idle": "2021-09-03T01:56:53.281877Z",
     "shell.execute_reply": "2021-09-03T01:56:53.281483Z"
    }
   },
   "outputs": [],
   "source": [
    "with open('../newest_ts', 'r') as f:\r\n",
    "    newest_ts = f.read()\r\n",
    "\r\n",
    "data_path = f\"../data/data_{newest_ts}.json\"\r\n",
    "with open(data_path, 'r') as f:\r\n",
    "    data = json.load(f)\r\n",
    "\r\n",
    "with open(CONFIG_PATH, \"r\") as stream:\r\n",
    "    config = yaml.safe_load(stream)\r\n",
    "\r\n",
    "TIME_ZONE = config['time_zone']\r\n",
    "DATETIME_FORMAT = config['dt_format']"
   ]
  },
  {
   "cell_type": "code",
   "execution_count": 3,
   "metadata": {
    "execution": {
     "iopub.execute_input": "2021-09-03T01:56:53.286010Z",
     "iopub.status.busy": "2021-09-03T01:56:53.285490Z",
     "iopub.status.idle": "2021-09-03T01:56:53.289443Z",
     "shell.execute_reply": "2021-09-03T01:56:53.289810Z"
    }
   },
   "outputs": [
    {
     "name": "stdout",
     "output_type": "stream",
     "text": [
      "Recent query happens at 2021-09-03 09:56:49 (CST).\n"
     ]
    }
   ],
   "source": [
    "def ts2dt(ts, format=DATETIME_FORMAT):\r\n",
    "    dt = (datetime.utcfromtimestamp(int(ts))\r\n",
    "                    .replace(tzinfo=tz.tzutc())\r\n",
    "                    # .astimezone(tz.tzlocal())\r\n",
    "                    .astimezone(tz.gettz(TIME_ZONE)))\r\n",
    "    return dt.strftime(format), dt\r\n",
    "\r\n",
    "_, newest_dt = ts2dt(newest_ts)\r\n",
    "print(f\"Recent query happens at {newest_dt.strftime(DATETIME_FORMAT)} ({newest_dt.tzname()}).\")"
   ]
  },
  {
   "cell_type": "code",
   "execution_count": 4,
   "metadata": {
    "execution": {
     "iopub.execute_input": "2021-09-03T01:56:53.294527Z",
     "iopub.status.busy": "2021-09-03T01:56:53.293452Z",
     "iopub.status.idle": "2021-09-03T01:56:53.295042Z",
     "shell.execute_reply": "2021-09-03T01:56:53.295406Z"
    }
   },
   "outputs": [],
   "source": [
    "def degrees_to_cardinal(d):\r\n",
    "  dirs = ['N', 'NNE', 'NE', 'ENE', 'E', 'ESE', 'SE', 'SSE', 'S', 'SSW', 'SW', 'WSW', 'W', 'WNW', 'NW', 'NNW']\r\n",
    "  ix = int(round(d / (360. / len(dirs))))\r\n",
    "  return dirs[ix % len(dirs)]"
   ]
  },
  {
   "cell_type": "code",
   "execution_count": 5,
   "metadata": {
    "execution": {
     "iopub.execute_input": "2021-09-03T01:56:53.299104Z",
     "iopub.status.busy": "2021-09-03T01:56:53.298113Z",
     "iopub.status.idle": "2021-09-03T01:56:53.299616Z",
     "shell.execute_reply": "2021-09-03T01:56:53.299978Z"
    }
   },
   "outputs": [],
   "source": [
    "# data.keys()"
   ]
  },
  {
   "cell_type": "code",
   "execution_count": 6,
   "metadata": {
    "execution": {
     "iopub.execute_input": "2021-09-03T01:56:53.303421Z",
     "iopub.status.busy": "2021-09-03T01:56:53.302444Z",
     "iopub.status.idle": "2021-09-03T01:56:53.303938Z",
     "shell.execute_reply": "2021-09-03T01:56:53.304325Z"
    }
   },
   "outputs": [],
   "source": [
    "# data['current']"
   ]
  },
  {
   "cell_type": "code",
   "execution_count": 7,
   "metadata": {
    "execution": {
     "iopub.execute_input": "2021-09-03T01:56:53.320517Z",
     "iopub.status.busy": "2021-09-03T01:56:53.320050Z",
     "iopub.status.idle": "2021-09-03T01:56:53.666746Z",
     "shell.execute_reply": "2021-09-03T01:56:53.666340Z"
    }
   },
   "outputs": [
    {
     "data": {
      "image/png": "[encoded data removed]",
      "text/plain": [
       "<Figure size 216x216 with 1 Axes>"
      ]
     },
     "metadata": {
      "needs_background": "light"
     },
     "output_type": "display_data"
    },
    {
     "name": "stdout",
     "output_type": "stream",
     "text": [
      "Today, sun rises at 06:06 and sets at 18:38.\n",
      "Currently, the weather is Clouds (scattered clouds).\n",
      "The temperature is 30.45°C and it feels like 37.45°C.\n",
      "The UV index is 6.8, humidity is 82%.\n",
      "The pressure is 1008 hPa, percentage of cloud cover is 47%\n",
      "The wind comes from ESE direction with a speed 1.61 m/s.\n"
     ]
    }
   ],
   "source": [
    "current = data['current']\r\n",
    "\r\n",
    "fig, ax = plt.subplots(figsize=(3, 3))\r\n",
    "icon = requests.get(f\"http://openweathermap.org/img/wn/{current['weather'][0]['icon']}@2x.png\")\r\n",
    "im = Image.open(BytesIO(icon.content))\r\n",
    "plt.imshow(im)\r\n",
    "ax.set_axis_off()\r\n",
    "plt.show()\r\n",
    "\r\n",
    "print(f\"Today, sun rises at {ts2dt(current['sunrise'], '%H:%M')[0]} \\\r\n",
    "and sets at {ts2dt(current['sunset'], '%H:%M')[0]}.\\n\\\r\n",
    "Currently, the weather is {current['weather'][0]['main']} ({current['weather'][0]['description']}).\\n\\\r\n",
    "The temperature is {current['temp']}°C and it feels like {current['feels_like']}°C.\\n\\\r\n",
    "The UV index is {current['uvi']}, humidity is {current['humidity']}%.\\n\\\r\n",
    "The pressure is {current['pressure']} hPa, percentage of cloud cover is {current['clouds']}%\\n\\\r\n",
    "The wind comes from {degrees_to_cardinal(current['wind_deg'])} direction with a speed {current['wind_speed']} m/s.\")"
   ]
  },
  {
   "cell_type": "code",
   "execution_count": 8,
   "metadata": {
    "execution": {
     "iopub.execute_input": "2021-09-03T01:56:53.672053Z",
     "iopub.status.busy": "2021-09-03T01:56:53.671598Z",
     "iopub.status.idle": "2021-09-03T01:56:53.675758Z",
     "shell.execute_reply": "2021-09-03T01:56:53.676315Z"
    }
   },
   "outputs": [],
   "source": [
    "df_hourly = pd.DataFrame(data['hourly'])\r\n",
    "df_daily = pd.DataFrame(data['daily'])"
   ]
  },
  {
   "cell_type": "code",
   "execution_count": 9,
   "metadata": {
    "execution": {
     "iopub.execute_input": "2021-09-03T01:56:53.692511Z",
     "iopub.status.busy": "2021-09-03T01:56:53.686389Z",
     "iopub.status.idle": "2021-09-03T01:56:53.915309Z",
     "shell.execute_reply": "2021-09-03T01:56:53.915696Z"
    }
   },
   "outputs": [
    {
     "data": {
      "image/png": "[encoded data removed]",
      "text/plain": [
       "<Figure size 864x432 with 1 Axes>"
      ]
     },
     "metadata": {
      "needs_background": "light"
     },
     "output_type": "display_data"
    }
   ],
   "source": [
    "fig, ax = plt.subplots(figsize=(12, 6))\r\n",
    "plt.plot(df_hourly.temp, '.-', label='Temperature')\r\n",
    "plt.plot(df_hourly.feels_like, '.-', label='Feels Like')\r\n",
    "ax.set(title='Temperature in future 48 hours', xlabel='Time', ylabel='Temperature')\r\n",
    "ax.set_xticks(list(range(0, len(df_hourly), 2)))\r\n",
    "ax.set_xticklabels([ts2dt(ts, '%m-%d %H:%M')[0] for i, ts in enumerate(df_hourly.dt) if i%2==0], \r\n",
    "                   rotation=45, ha=\"right\")\r\n",
    "ax.locator_params(nbins=15, axis='y')\r\n",
    "plt.legend()\r\n",
    "plt.show()"
   ]
  },
  {
   "cell_type": "code",
   "execution_count": 10,
   "metadata": {
    "execution": {
     "iopub.execute_input": "2021-09-03T01:56:53.927174Z",
     "iopub.status.busy": "2021-09-03T01:56:53.919693Z",
     "iopub.status.idle": "2021-09-03T01:56:53.938581Z",
     "shell.execute_reply": "2021-09-03T01:56:53.938168Z"
    }
   },
   "outputs": [
    {
     "data": {
      "text/html": [
       "<div>\n",
       "<style scoped>\n",
       "    .dataframe tbody tr th:only-of-type {\n",
       "        vertical-align: middle;\n",
       "    }\n",
       "\n",
       "    .dataframe tbody tr th {\n",
       "        vertical-align: top;\n",
       "    }\n",
       "\n",
       "    .dataframe thead th {\n",
       "        text-align: right;\n",
       "    }\n",
       "</style>\n",
       "<table border=\"1\" class=\"dataframe\">\n",
       "  <thead>\n",
       "    <tr style=\"text-align: right;\">\n",
       "      <th></th>\n",
       "      <th>dt</th>\n",
       "      <th>temp</th>\n",
       "      <th>feels_like</th>\n",
       "      <th>pressure</th>\n",
       "      <th>humidity</th>\n",
       "      <th>dew_point</th>\n",
       "      <th>uvi</th>\n",
       "      <th>clouds</th>\n",
       "      <th>visibility</th>\n",
       "      <th>wind_speed</th>\n",
       "      <th>wind_deg</th>\n",
       "      <th>wind_gust</th>\n",
       "      <th>weather</th>\n",
       "      <th>pop</th>\n",
       "      <th>rain</th>\n",
       "    </tr>\n",
       "  </thead>\n",
       "  <tbody>\n",
       "    <tr>\n",
       "      <th>0</th>\n",
       "      <td>1630630800</td>\n",
       "      <td>30.20</td>\n",
       "      <td>37.20</td>\n",
       "      <td>1008</td>\n",
       "      <td>80</td>\n",
       "      <td>26.36</td>\n",
       "      <td>3.77</td>\n",
       "      <td>46</td>\n",
       "      <td>10000</td>\n",
       "      <td>1.10</td>\n",
       "      <td>95</td>\n",
       "      <td>1.24</td>\n",
       "      <td>[{'id': 802, 'main': 'Clouds', 'description': ...</td>\n",
       "      <td>0.48</td>\n",
       "      <td>NaN</td>\n",
       "    </tr>\n",
       "    <tr>\n",
       "      <th>1</th>\n",
       "      <td>1630634400</td>\n",
       "      <td>30.45</td>\n",
       "      <td>37.45</td>\n",
       "      <td>1008</td>\n",
       "      <td>82</td>\n",
       "      <td>27.03</td>\n",
       "      <td>6.80</td>\n",
       "      <td>47</td>\n",
       "      <td>10000</td>\n",
       "      <td>1.61</td>\n",
       "      <td>109</td>\n",
       "      <td>1.60</td>\n",
       "      <td>[{'id': 802, 'main': 'Clouds', 'description': ...</td>\n",
       "      <td>0.52</td>\n",
       "      <td>NaN</td>\n",
       "    </tr>\n",
       "    <tr>\n",
       "      <th>2</th>\n",
       "      <td>1630638000</td>\n",
       "      <td>30.38</td>\n",
       "      <td>37.38</td>\n",
       "      <td>1008</td>\n",
       "      <td>79</td>\n",
       "      <td>26.32</td>\n",
       "      <td>9.60</td>\n",
       "      <td>50</td>\n",
       "      <td>10000</td>\n",
       "      <td>2.41</td>\n",
       "      <td>119</td>\n",
       "      <td>2.07</td>\n",
       "      <td>[{'id': 802, 'main': 'Clouds', 'description': ...</td>\n",
       "      <td>0.56</td>\n",
       "      <td>NaN</td>\n",
       "    </tr>\n",
       "    <tr>\n",
       "      <th>3</th>\n",
       "      <td>1630641600</td>\n",
       "      <td>30.36</td>\n",
       "      <td>37.36</td>\n",
       "      <td>1008</td>\n",
       "      <td>76</td>\n",
       "      <td>25.65</td>\n",
       "      <td>9.51</td>\n",
       "      <td>57</td>\n",
       "      <td>10000</td>\n",
       "      <td>3.22</td>\n",
       "      <td>122</td>\n",
       "      <td>2.55</td>\n",
       "      <td>[{'id': 803, 'main': 'Clouds', 'description': ...</td>\n",
       "      <td>0.48</td>\n",
       "      <td>NaN</td>\n",
       "    </tr>\n",
       "    <tr>\n",
       "      <th>4</th>\n",
       "      <td>1630645200</td>\n",
       "      <td>30.29</td>\n",
       "      <td>36.55</td>\n",
       "      <td>1007</td>\n",
       "      <td>73</td>\n",
       "      <td>24.91</td>\n",
       "      <td>9.36</td>\n",
       "      <td>65</td>\n",
       "      <td>10000</td>\n",
       "      <td>3.25</td>\n",
       "      <td>126</td>\n",
       "      <td>2.64</td>\n",
       "      <td>[{'id': 803, 'main': 'Clouds', 'description': ...</td>\n",
       "      <td>0.43</td>\n",
       "      <td>NaN</td>\n",
       "    </tr>\n",
       "  </tbody>\n",
       "</table>\n",
       "</div>"
      ],
      "text/plain": [
       "           dt   temp  feels_like  pressure  humidity  dew_point   uvi  clouds  \\\n",
       "0  1630630800  30.20       37.20      1008        80      26.36  3.77      46   \n",
       "1  1630634400  30.45       37.45      1008        82      27.03  6.80      47   \n",
       "2  1630638000  30.38       37.38      1008        79      26.32  9.60      50   \n",
       "3  1630641600  30.36       37.36      1008        76      25.65  9.51      57   \n",
       "4  1630645200  30.29       36.55      1007        73      24.91  9.36      65   \n",
       "\n",
       "   visibility  wind_speed  wind_deg  wind_gust  \\\n",
       "0       10000        1.10        95       1.24   \n",
       "1       10000        1.61       109       1.60   \n",
       "2       10000        2.41       119       2.07   \n",
       "3       10000        3.22       122       2.55   \n",
       "4       10000        3.25       126       2.64   \n",
       "\n",
       "                                             weather   pop rain  \n",
       "0  [{'id': 802, 'main': 'Clouds', 'description': ...  0.48  NaN  \n",
       "1  [{'id': 802, 'main': 'Clouds', 'description': ...  0.52  NaN  \n",
       "2  [{'id': 802, 'main': 'Clouds', 'description': ...  0.56  NaN  \n",
       "3  [{'id': 803, 'main': 'Clouds', 'description': ...  0.48  NaN  \n",
       "4  [{'id': 803, 'main': 'Clouds', 'description': ...  0.43  NaN  "
      ]
     },
     "execution_count": 10,
     "metadata": {},
     "output_type": "execute_result"
    }
   ],
   "source": [
    "df_hourly.head()"
   ]
  },
  {
   "cell_type": "code",
   "execution_count": null,
   "metadata": {},
   "outputs": [],
   "source": []
  }
 ],
 "metadata": {
  "interpreter": {
   "hash": "c1b4cfe941b6d2466ad1fb5979e97da9cda8801728c8091b097ab734208fc00c"
  },
  "kernelspec": {
   "display_name": "Python 3.8.3 64-bit ('base': conda)",
   "name": "python3"
  },
  "language_info": {
   "codemirror_mode": {
    "name": "ipython",
    "version": 3
   },
   "file_extension": ".py",
   "mimetype": "text/x-python",
   "name": "python",
   "nbconvert_exporter": "python",
   "pygments_lexer": "ipython3",
   "version": "3.8.11"
  }
 },
 "nbformat": 4,
 "nbformat_minor": 2
}
