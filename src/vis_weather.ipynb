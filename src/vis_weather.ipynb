{
 "cells": [
  {
   "cell_type": "code",
   "execution_count": 1,
   "metadata": {
    "execution": {
     "iopub.execute_input": "2021-10-08T23:12:09.856884Z",
     "iopub.status.busy": "2021-10-08T23:12:09.856188Z",
     "iopub.status.idle": "2021-10-08T23:12:11.269444Z",
     "shell.execute_reply": "2021-10-08T23:12:11.268800Z"
    }
   },
   "outputs": [],
   "source": [
    "import json, yaml, requests\r\n",
    "from datetime import datetime\r\n",
    "from dateutil import tz\r\n",
    "import pandas as pd\r\n",
    "from PIL import Image\r\n",
    "from io import BytesIO\r\n",
    "import matplotlib.pyplot as plt\r\n",
    "import seaborn\r\n",
    "\r\n",
    "CONFIG_PATH = \"../config/config.yaml\""
   ]
  },
  {
   "cell_type": "code",
   "execution_count": 2,
   "metadata": {
    "execution": {
     "iopub.execute_input": "2021-10-08T23:12:11.278186Z",
     "iopub.status.busy": "2021-10-08T23:12:11.274245Z",
     "iopub.status.idle": "2021-10-08T23:12:11.281564Z",
     "shell.execute_reply": "2021-10-08T23:12:11.281013Z"
    }
   },
   "outputs": [],
   "source": [
    "with open('../newest_ts', 'r') as f:\r\n",
    "    newest_ts = f.read()\r\n",
    "\r\n",
    "data_path = f\"../data/data_{newest_ts}.json\"\r\n",
    "with open(data_path, 'r') as f:\r\n",
    "    data = json.load(f)\r\n",
    "\r\n",
    "with open(CONFIG_PATH, \"r\") as stream:\r\n",
    "    config = yaml.safe_load(stream)\r\n",
    "\r\n",
    "TIME_ZONE = config['time_zone']\r\n",
    "DATETIME_FORMAT = config['dt_format']"
   ]
  },
  {
   "cell_type": "code",
   "execution_count": 3,
   "metadata": {
    "execution": {
     "iopub.execute_input": "2021-10-08T23:12:11.287400Z",
     "iopub.status.busy": "2021-10-08T23:12:11.286772Z",
     "iopub.status.idle": "2021-10-08T23:12:11.293799Z",
     "shell.execute_reply": "2021-10-08T23:12:11.294276Z"
    }
   },
   "outputs": [
    {
     "name": "stdout",
     "output_type": "stream",
     "text": [
      "Recent query happens at 2021-10-09 07:12:06 (CST).\n"
     ]
    }
   ],
   "source": [
    "def ts2dt(ts, format=DATETIME_FORMAT):\r\n",
    "    dt = (datetime.utcfromtimestamp(int(ts))\r\n",
    "                    .replace(tzinfo=tz.tzutc())\r\n",
    "                    # .astimezone(tz.tzlocal())\r\n",
    "                    .astimezone(tz.gettz(TIME_ZONE)))\r\n",
    "    return dt.strftime(format), dt\r\n",
    "\r\n",
    "_, newest_dt = ts2dt(newest_ts)\r\n",
    "print(f\"Recent query happens at {newest_dt.strftime(DATETIME_FORMAT)} ({newest_dt.tzname()}).\")"
   ]
  },
  {
   "cell_type": "code",
   "execution_count": 4,
   "metadata": {
    "execution": {
     "iopub.execute_input": "2021-10-08T23:12:11.300165Z",
     "iopub.status.busy": "2021-10-08T23:12:11.299466Z",
     "iopub.status.idle": "2021-10-08T23:12:11.302335Z",
     "shell.execute_reply": "2021-10-08T23:12:11.301473Z"
    }
   },
   "outputs": [],
   "source": [
    "def degrees_to_cardinal(d):\r\n",
    "  dirs = ['N', 'NNE', 'NE', 'ENE', 'E', 'ESE', 'SE', 'SSE', 'S', 'SSW', 'SW', 'WSW', 'W', 'WNW', 'NW', 'NNW']\r\n",
    "  ix = int(round(d / (360. / len(dirs))))\r\n",
    "  return dirs[ix % len(dirs)]"
   ]
  },
  {
   "cell_type": "code",
   "execution_count": 5,
   "metadata": {
    "execution": {
     "iopub.execute_input": "2021-10-08T23:12:11.307834Z",
     "iopub.status.busy": "2021-10-08T23:12:11.306343Z",
     "iopub.status.idle": "2021-10-08T23:12:11.308586Z",
     "shell.execute_reply": "2021-10-08T23:12:11.309028Z"
    }
   },
   "outputs": [],
   "source": [
    "# data.keys()"
   ]
  },
  {
   "cell_type": "code",
   "execution_count": 6,
   "metadata": {
    "execution": {
     "iopub.execute_input": "2021-10-08T23:12:11.313858Z",
     "iopub.status.busy": "2021-10-08T23:12:11.312256Z",
     "iopub.status.idle": "2021-10-08T23:12:11.314783Z",
     "shell.execute_reply": "2021-10-08T23:12:11.315438Z"
    }
   },
   "outputs": [],
   "source": [
    "# data['current']"
   ]
  },
  {
   "cell_type": "code",
   "execution_count": 7,
   "metadata": {
    "execution": {
     "iopub.execute_input": "2021-10-08T23:12:11.337692Z",
     "iopub.status.busy": "2021-10-08T23:12:11.326923Z",
     "iopub.status.idle": "2021-10-08T23:12:11.762231Z",
     "shell.execute_reply": "2021-10-08T23:12:11.763018Z"
    }
   },
   "outputs": [
    {
     "data": {
      "image/png": "[encoded data removed]",
      "text/plain": [
       "<Figure size 216x216 with 1 Axes>"
      ]
     },
     "metadata": {
      "needs_background": "light"
     },
     "output_type": "display_data"
    },
    {
     "name": "stdout",
     "output_type": "stream",
     "text": [
      "Today, sun rises at 06:16 and sets at 18:03.\n",
      "Currently, the weather is Rain (light rain).\n",
      "The temperature is 26.34°C and it feels like 26.34°C.\n",
      "The UV index is 0.01, humidity is 92%.\n",
      "The pressure is 1010 hPa, percentage of cloud cover is 100%\n",
      "The wind comes from NW direction with a speed 1.34 m/s.\n"
     ]
    }
   ],
   "source": [
    "current = data['current']\r\n",
    "\r\n",
    "fig, ax = plt.subplots(figsize=(3, 3))\r\n",
    "icon = requests.get(f\"http://openweathermap.org/img/wn/{current['weather'][0]['icon']}@2x.png\")\r\n",
    "im = Image.open(BytesIO(icon.content))\r\n",
    "plt.imshow(im)\r\n",
    "ax.set_axis_off()\r\n",
    "plt.show()\r\n",
    "\r\n",
    "print(f\"Today, sun rises at {ts2dt(current['sunrise'], '%H:%M')[0]} \\\r\n",
    "and sets at {ts2dt(current['sunset'], '%H:%M')[0]}.\\n\\\r\n",
    "Currently, the weather is {current['weather'][0]['main']} ({current['weather'][0]['description']}).\\n\\\r\n",
    "The temperature is {current['temp']}°C and it feels like {current['feels_like']}°C.\\n\\\r\n",
    "The UV index is {current['uvi']}, humidity is {current['humidity']}%.\\n\\\r\n",
    "The pressure is {current['pressure']} hPa, percentage of cloud cover is {current['clouds']}%\\n\\\r\n",
    "The wind comes from {degrees_to_cardinal(current['wind_deg'])} direction with a speed {current['wind_speed']} m/s.\")"
   ]
  },
  {
   "cell_type": "code",
   "execution_count": 8,
   "metadata": {
    "execution": {
     "iopub.execute_input": "2021-10-08T23:12:11.771437Z",
     "iopub.status.busy": "2021-10-08T23:12:11.770848Z",
     "iopub.status.idle": "2021-10-08T23:12:11.775810Z",
     "shell.execute_reply": "2021-10-08T23:12:11.775290Z"
    }
   },
   "outputs": [],
   "source": [
    "df_hourly = pd.DataFrame(data['hourly'])\r\n",
    "df_daily = pd.DataFrame(data['daily'])"
   ]
  },
  {
   "cell_type": "code",
   "execution_count": 9,
   "metadata": {
    "execution": {
     "iopub.execute_input": "2021-10-08T23:12:11.824626Z",
     "iopub.status.busy": "2021-10-08T23:12:11.792341Z",
     "iopub.status.idle": "2021-10-08T23:12:12.130768Z",
     "shell.execute_reply": "2021-10-08T23:12:12.129888Z"
    }
   },
   "outputs": [
    {
     "data": {
      "image/png": "[encoded data removed]",
      "text/plain": [
       "<Figure size 864x432 with 1 Axes>"
      ]
     },
     "metadata": {
      "needs_background": "light"
     },
     "output_type": "display_data"
    }
   ],
   "source": [
    "fig, ax = plt.subplots(figsize=(12, 6))\r\n",
    "plt.plot(df_hourly.temp, '.-', label='Temperature')\r\n",
    "plt.plot(df_hourly.feels_like, '.-', label='Feels Like')\r\n",
    "ax.set(title='Temperature in future 48 hours', xlabel='Time', ylabel='Temperature')\r\n",
    "ax.set_xticks(list(range(0, len(df_hourly), 2)))\r\n",
    "ax.set_xticklabels([ts2dt(ts, '%m-%d %H:%M')[0] for i, ts in enumerate(df_hourly.dt) if i%2==0], \r\n",
    "                   rotation=45, ha=\"right\")\r\n",
    "ax.locator_params(nbins=15, axis='y')\r\n",
    "plt.legend()\r\n",
    "plt.show()"
   ]
  },
  {
   "cell_type": "code",
   "execution_count": 10,
   "metadata": {
    "execution": {
     "iopub.execute_input": "2021-10-08T23:12:12.144600Z",
     "iopub.status.busy": "2021-10-08T23:12:12.135498Z",
     "iopub.status.idle": "2021-10-08T23:12:12.159178Z",
     "shell.execute_reply": "2021-10-08T23:12:12.158606Z"
    }
   },
   "outputs": [
    {
     "data": {
      "text/html": [
       "<div>\n",
       "<style scoped>\n",
       "    .dataframe tbody tr th:only-of-type {\n",
       "        vertical-align: middle;\n",
       "    }\n",
       "\n",
       "    .dataframe tbody tr th {\n",
       "        vertical-align: top;\n",
       "    }\n",
       "\n",
       "    .dataframe thead th {\n",
       "        text-align: right;\n",
       "    }\n",
       "</style>\n",
       "<table border=\"1\" class=\"dataframe\">\n",
       "  <thead>\n",
       "    <tr style=\"text-align: right;\">\n",
       "      <th></th>\n",
       "      <th>dt</th>\n",
       "      <th>temp</th>\n",
       "      <th>feels_like</th>\n",
       "      <th>pressure</th>\n",
       "      <th>humidity</th>\n",
       "      <th>dew_point</th>\n",
       "      <th>uvi</th>\n",
       "      <th>clouds</th>\n",
       "      <th>visibility</th>\n",
       "      <th>wind_speed</th>\n",
       "      <th>wind_deg</th>\n",
       "      <th>wind_gust</th>\n",
       "      <th>weather</th>\n",
       "      <th>pop</th>\n",
       "      <th>rain</th>\n",
       "    </tr>\n",
       "  </thead>\n",
       "  <tbody>\n",
       "    <tr>\n",
       "      <th>0</th>\n",
       "      <td>1633734000</td>\n",
       "      <td>26.34</td>\n",
       "      <td>26.34</td>\n",
       "      <td>1010</td>\n",
       "      <td>92</td>\n",
       "      <td>24.93</td>\n",
       "      <td>0.01</td>\n",
       "      <td>100</td>\n",
       "      <td>4568</td>\n",
       "      <td>10.56</td>\n",
       "      <td>113</td>\n",
       "      <td>15.09</td>\n",
       "      <td>[{'id': 501, 'main': 'Rain', 'description': 'm...</td>\n",
       "      <td>1.0</td>\n",
       "      <td>{'1h': 2.65}</td>\n",
       "    </tr>\n",
       "    <tr>\n",
       "      <th>1</th>\n",
       "      <td>1633737600</td>\n",
       "      <td>26.33</td>\n",
       "      <td>26.33</td>\n",
       "      <td>1009</td>\n",
       "      <td>93</td>\n",
       "      <td>25.11</td>\n",
       "      <td>0.10</td>\n",
       "      <td>100</td>\n",
       "      <td>6080</td>\n",
       "      <td>11.39</td>\n",
       "      <td>110</td>\n",
       "      <td>15.86</td>\n",
       "      <td>[{'id': 501, 'main': 'Rain', 'description': 'm...</td>\n",
       "      <td>1.0</td>\n",
       "      <td>{'1h': 3.65}</td>\n",
       "    </tr>\n",
       "    <tr>\n",
       "      <th>2</th>\n",
       "      <td>1633741200</td>\n",
       "      <td>26.20</td>\n",
       "      <td>26.20</td>\n",
       "      <td>1009</td>\n",
       "      <td>93</td>\n",
       "      <td>24.98</td>\n",
       "      <td>0.25</td>\n",
       "      <td>100</td>\n",
       "      <td>7114</td>\n",
       "      <td>12.21</td>\n",
       "      <td>103</td>\n",
       "      <td>16.76</td>\n",
       "      <td>[{'id': 500, 'main': 'Rain', 'description': 'l...</td>\n",
       "      <td>1.0</td>\n",
       "      <td>{'1h': 0.86}</td>\n",
       "    </tr>\n",
       "    <tr>\n",
       "      <th>3</th>\n",
       "      <td>1633744800</td>\n",
       "      <td>26.05</td>\n",
       "      <td>26.05</td>\n",
       "      <td>1008</td>\n",
       "      <td>91</td>\n",
       "      <td>24.46</td>\n",
       "      <td>0.50</td>\n",
       "      <td>100</td>\n",
       "      <td>6326</td>\n",
       "      <td>12.47</td>\n",
       "      <td>99</td>\n",
       "      <td>17.55</td>\n",
       "      <td>[{'id': 501, 'main': 'Rain', 'description': 'm...</td>\n",
       "      <td>1.0</td>\n",
       "      <td>{'1h': 1.77}</td>\n",
       "    </tr>\n",
       "    <tr>\n",
       "      <th>4</th>\n",
       "      <td>1633748400</td>\n",
       "      <td>26.16</td>\n",
       "      <td>26.16</td>\n",
       "      <td>1008</td>\n",
       "      <td>89</td>\n",
       "      <td>24.20</td>\n",
       "      <td>0.73</td>\n",
       "      <td>100</td>\n",
       "      <td>6600</td>\n",
       "      <td>12.24</td>\n",
       "      <td>99</td>\n",
       "      <td>18.17</td>\n",
       "      <td>[{'id': 501, 'main': 'Rain', 'description': 'm...</td>\n",
       "      <td>1.0</td>\n",
       "      <td>{'1h': 2.34}</td>\n",
       "    </tr>\n",
       "  </tbody>\n",
       "</table>\n",
       "</div>"
      ],
      "text/plain": [
       "           dt   temp  feels_like  pressure  humidity  dew_point   uvi  clouds  \\\n",
       "0  1633734000  26.34       26.34      1010        92      24.93  0.01     100   \n",
       "1  1633737600  26.33       26.33      1009        93      25.11  0.10     100   \n",
       "2  1633741200  26.20       26.20      1009        93      24.98  0.25     100   \n",
       "3  1633744800  26.05       26.05      1008        91      24.46  0.50     100   \n",
       "4  1633748400  26.16       26.16      1008        89      24.20  0.73     100   \n",
       "\n",
       "   visibility  wind_speed  wind_deg  wind_gust  \\\n",
       "0        4568       10.56       113      15.09   \n",
       "1        6080       11.39       110      15.86   \n",
       "2        7114       12.21       103      16.76   \n",
       "3        6326       12.47        99      17.55   \n",
       "4        6600       12.24        99      18.17   \n",
       "\n",
       "                                             weather  pop          rain  \n",
       "0  [{'id': 501, 'main': 'Rain', 'description': 'm...  1.0  {'1h': 2.65}  \n",
       "1  [{'id': 501, 'main': 'Rain', 'description': 'm...  1.0  {'1h': 3.65}  \n",
       "2  [{'id': 500, 'main': 'Rain', 'description': 'l...  1.0  {'1h': 0.86}  \n",
       "3  [{'id': 501, 'main': 'Rain', 'description': 'm...  1.0  {'1h': 1.77}  \n",
       "4  [{'id': 501, 'main': 'Rain', 'description': 'm...  1.0  {'1h': 2.34}  "
      ]
     },
     "execution_count": 10,
     "metadata": {},
     "output_type": "execute_result"
    }
   ],
   "source": [
    "df_hourly.head()"
   ]
  },
  {
   "cell_type": "code",
   "execution_count": null,
   "metadata": {},
   "outputs": [],
   "source": []
  }
 ],
 "metadata": {
  "interpreter": {
   "hash": "c1b4cfe941b6d2466ad1fb5979e97da9cda8801728c8091b097ab734208fc00c"
  },
  "kernelspec": {
   "display_name": "Python 3.8.3 64-bit ('base': conda)",
   "name": "python3"
  },
  "language_info": {
   "codemirror_mode": {
    "name": "ipython",
    "version": 3
   },
   "file_extension": ".py",
   "mimetype": "text/x-python",
   "name": "python",
   "nbconvert_exporter": "python",
   "pygments_lexer": "ipython3",
   "version": "3.8.12"
  }
 },
 "nbformat": 4,
 "nbformat_minor": 2
}
