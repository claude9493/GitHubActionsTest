{
 "cells": [
  {
   "cell_type": "code",
   "execution_count": 1,
   "metadata": {
    "execution": {
     "iopub.execute_input": "2021-10-02T14:10:16.974522Z",
     "iopub.status.busy": "2021-10-02T14:10:16.973915Z",
     "iopub.status.idle": "2021-10-02T14:10:19.365052Z",
     "shell.execute_reply": "2021-10-02T14:10:19.364059Z"
    }
   },
   "outputs": [],
   "source": [
    "import json, yaml, requests\r\n",
    "from datetime import datetime\r\n",
    "from dateutil import tz\r\n",
    "import pandas as pd\r\n",
    "from PIL import Image\r\n",
    "from io import BytesIO\r\n",
    "import matplotlib.pyplot as plt\r\n",
    "import seaborn\r\n",
    "\r\n",
    "CONFIG_PATH = \"../config/config.yaml\""
   ]
  },
  {
   "cell_type": "code",
   "execution_count": 2,
   "metadata": {
    "execution": {
     "iopub.execute_input": "2021-10-02T14:10:19.369937Z",
     "iopub.status.busy": "2021-10-02T14:10:19.369439Z",
     "iopub.status.idle": "2021-10-02T14:10:19.374392Z",
     "shell.execute_reply": "2021-10-02T14:10:19.373983Z"
    }
   },
   "outputs": [],
   "source": [
    "with open('../newest_ts', 'r') as f:\r\n",
    "    newest_ts = f.read()\r\n",
    "\r\n",
    "data_path = f\"../data/data_{newest_ts}.json\"\r\n",
    "with open(data_path, 'r') as f:\r\n",
    "    data = json.load(f)\r\n",
    "\r\n",
    "with open(CONFIG_PATH, \"r\") as stream:\r\n",
    "    config = yaml.safe_load(stream)\r\n",
    "\r\n",
    "TIME_ZONE = config['time_zone']\r\n",
    "DATETIME_FORMAT = config['dt_format']"
   ]
  },
  {
   "cell_type": "code",
   "execution_count": 3,
   "metadata": {
    "execution": {
     "iopub.execute_input": "2021-10-02T14:10:19.379650Z",
     "iopub.status.busy": "2021-10-02T14:10:19.378267Z",
     "iopub.status.idle": "2021-10-02T14:10:19.383424Z",
     "shell.execute_reply": "2021-10-02T14:10:19.383793Z"
    }
   },
   "outputs": [
    {
     "name": "stdout",
     "output_type": "stream",
     "text": [
      "Recent query happens at 2021-10-02 22:10:13 (CST).\n"
     ]
    }
   ],
   "source": [
    "def ts2dt(ts, format=DATETIME_FORMAT):\r\n",
    "    dt = (datetime.utcfromtimestamp(int(ts))\r\n",
    "                    .replace(tzinfo=tz.tzutc())\r\n",
    "                    # .astimezone(tz.tzlocal())\r\n",
    "                    .astimezone(tz.gettz(TIME_ZONE)))\r\n",
    "    return dt.strftime(format), dt\r\n",
    "\r\n",
    "_, newest_dt = ts2dt(newest_ts)\r\n",
    "print(f\"Recent query happens at {newest_dt.strftime(DATETIME_FORMAT)} ({newest_dt.tzname()}).\")"
   ]
  },
  {
   "cell_type": "code",
   "execution_count": 4,
   "metadata": {
    "execution": {
     "iopub.execute_input": "2021-10-02T14:10:19.388745Z",
     "iopub.status.busy": "2021-10-02T14:10:19.387611Z",
     "iopub.status.idle": "2021-10-02T14:10:19.389267Z",
     "shell.execute_reply": "2021-10-02T14:10:19.389662Z"
    }
   },
   "outputs": [],
   "source": [
    "def degrees_to_cardinal(d):\r\n",
    "  dirs = ['N', 'NNE', 'NE', 'ENE', 'E', 'ESE', 'SE', 'SSE', 'S', 'SSW', 'SW', 'WSW', 'W', 'WNW', 'NW', 'NNW']\r\n",
    "  ix = int(round(d / (360. / len(dirs))))\r\n",
    "  return dirs[ix % len(dirs)]"
   ]
  },
  {
   "cell_type": "code",
   "execution_count": 5,
   "metadata": {
    "execution": {
     "iopub.execute_input": "2021-10-02T14:10:19.393560Z",
     "iopub.status.busy": "2021-10-02T14:10:19.392407Z",
     "iopub.status.idle": "2021-10-02T14:10:19.394087Z",
     "shell.execute_reply": "2021-10-02T14:10:19.394453Z"
    }
   },
   "outputs": [],
   "source": [
    "# data.keys()"
   ]
  },
  {
   "cell_type": "code",
   "execution_count": 6,
   "metadata": {
    "execution": {
     "iopub.execute_input": "2021-10-02T14:10:19.398126Z",
     "iopub.status.busy": "2021-10-02T14:10:19.397088Z",
     "iopub.status.idle": "2021-10-02T14:10:19.398656Z",
     "shell.execute_reply": "2021-10-02T14:10:19.399022Z"
    }
   },
   "outputs": [],
   "source": [
    "# data['current']"
   ]
  },
  {
   "cell_type": "code",
   "execution_count": 7,
   "metadata": {
    "execution": {
     "iopub.execute_input": "2021-10-02T14:10:19.420552Z",
     "iopub.status.busy": "2021-10-02T14:10:19.416334Z",
     "iopub.status.idle": "2021-10-02T14:10:19.787667Z",
     "shell.execute_reply": "2021-10-02T14:10:19.788328Z"
    }
   },
   "outputs": [
    {
     "data": {
      "image/png": "[encoded data removed]",
      "text/plain": [
       "<Figure size 216x216 with 1 Axes>"
      ]
     },
     "metadata": {
      "needs_background": "light"
     },
     "output_type": "display_data"
    },
    {
     "name": "stdout",
     "output_type": "stream",
     "text": [
      "Today, sun rises at 06:14 and sets at 18:10.\n",
      "Currently, the weather is Rain (light rain).\n",
      "The temperature is 29.54°C and it feels like 34.84°C.\n",
      "The UV index is 0, humidity is 74%.\n",
      "The pressure is 1011 hPa, percentage of cloud cover is 10%\n",
      "The wind comes from NNE direction with a speed 0.45 m/s.\n"
     ]
    }
   ],
   "source": [
    "current = data['current']\r\n",
    "\r\n",
    "fig, ax = plt.subplots(figsize=(3, 3))\r\n",
    "icon = requests.get(f\"http://openweathermap.org/img/wn/{current['weather'][0]['icon']}@2x.png\")\r\n",
    "im = Image.open(BytesIO(icon.content))\r\n",
    "plt.imshow(im)\r\n",
    "ax.set_axis_off()\r\n",
    "plt.show()\r\n",
    "\r\n",
    "print(f\"Today, sun rises at {ts2dt(current['sunrise'], '%H:%M')[0]} \\\r\n",
    "and sets at {ts2dt(current['sunset'], '%H:%M')[0]}.\\n\\\r\n",
    "Currently, the weather is {current['weather'][0]['main']} ({current['weather'][0]['description']}).\\n\\\r\n",
    "The temperature is {current['temp']}°C and it feels like {current['feels_like']}°C.\\n\\\r\n",
    "The UV index is {current['uvi']}, humidity is {current['humidity']}%.\\n\\\r\n",
    "The pressure is {current['pressure']} hPa, percentage of cloud cover is {current['clouds']}%\\n\\\r\n",
    "The wind comes from {degrees_to_cardinal(current['wind_deg'])} direction with a speed {current['wind_speed']} m/s.\")"
   ]
  },
  {
   "cell_type": "code",
   "execution_count": 8,
   "metadata": {
    "execution": {
     "iopub.execute_input": "2021-10-02T14:10:19.791353Z",
     "iopub.status.busy": "2021-10-02T14:10:19.790907Z",
     "iopub.status.idle": "2021-10-02T14:10:19.797199Z",
     "shell.execute_reply": "2021-10-02T14:10:19.797853Z"
    }
   },
   "outputs": [],
   "source": [
    "df_hourly = pd.DataFrame(data['hourly'])\r\n",
    "df_daily = pd.DataFrame(data['daily'])"
   ]
  },
  {
   "cell_type": "code",
   "execution_count": 9,
   "metadata": {
    "execution": {
     "iopub.execute_input": "2021-10-02T14:10:19.800870Z",
     "iopub.status.busy": "2021-10-02T14:10:19.799951Z",
     "iopub.status.idle": "2021-10-02T14:10:20.033355Z",
     "shell.execute_reply": "2021-10-02T14:10:20.032884Z"
    }
   },
   "outputs": [
    {
     "data": {
      "image/png": "[encoded data removed]",
      "text/plain": [
       "<Figure size 864x432 with 1 Axes>"
      ]
     },
     "metadata": {
      "needs_background": "light"
     },
     "output_type": "display_data"
    }
   ],
   "source": [
    "fig, ax = plt.subplots(figsize=(12, 6))\r\n",
    "plt.plot(df_hourly.temp, '.-', label='Temperature')\r\n",
    "plt.plot(df_hourly.feels_like, '.-', label='Feels Like')\r\n",
    "ax.set(title='Temperature in future 48 hours', xlabel='Time', ylabel='Temperature')\r\n",
    "ax.set_xticks(list(range(0, len(df_hourly), 2)))\r\n",
    "ax.set_xticklabels([ts2dt(ts, '%m-%d %H:%M')[0] for i, ts in enumerate(df_hourly.dt) if i%2==0], \r\n",
    "                   rotation=45, ha=\"right\")\r\n",
    "ax.locator_params(nbins=15, axis='y')\r\n",
    "plt.legend()\r\n",
    "plt.show()"
   ]
  },
  {
   "cell_type": "code",
   "execution_count": 10,
   "metadata": {
    "execution": {
     "iopub.execute_input": "2021-10-02T14:10:20.045349Z",
     "iopub.status.busy": "2021-10-02T14:10:20.037452Z",
     "iopub.status.idle": "2021-10-02T14:10:20.055712Z",
     "shell.execute_reply": "2021-10-02T14:10:20.055300Z"
    }
   },
   "outputs": [
    {
     "data": {
      "text/html": [
       "<div>\n",
       "<style scoped>\n",
       "    .dataframe tbody tr th:only-of-type {\n",
       "        vertical-align: middle;\n",
       "    }\n",
       "\n",
       "    .dataframe tbody tr th {\n",
       "        vertical-align: top;\n",
       "    }\n",
       "\n",
       "    .dataframe thead th {\n",
       "        text-align: right;\n",
       "    }\n",
       "</style>\n",
       "<table border=\"1\" class=\"dataframe\">\n",
       "  <thead>\n",
       "    <tr style=\"text-align: right;\">\n",
       "      <th></th>\n",
       "      <th>dt</th>\n",
       "      <th>temp</th>\n",
       "      <th>feels_like</th>\n",
       "      <th>pressure</th>\n",
       "      <th>humidity</th>\n",
       "      <th>dew_point</th>\n",
       "      <th>uvi</th>\n",
       "      <th>clouds</th>\n",
       "      <th>visibility</th>\n",
       "      <th>wind_speed</th>\n",
       "      <th>wind_deg</th>\n",
       "      <th>wind_gust</th>\n",
       "      <th>weather</th>\n",
       "      <th>pop</th>\n",
       "      <th>rain</th>\n",
       "    </tr>\n",
       "  </thead>\n",
       "  <tbody>\n",
       "    <tr>\n",
       "      <th>0</th>\n",
       "      <td>1633183200</td>\n",
       "      <td>29.54</td>\n",
       "      <td>34.84</td>\n",
       "      <td>1011</td>\n",
       "      <td>74</td>\n",
       "      <td>24.41</td>\n",
       "      <td>0.0</td>\n",
       "      <td>10</td>\n",
       "      <td>10000</td>\n",
       "      <td>5.35</td>\n",
       "      <td>106</td>\n",
       "      <td>6.75</td>\n",
       "      <td>[{'id': 800, 'main': 'Clear', 'description': '...</td>\n",
       "      <td>0.08</td>\n",
       "      <td>NaN</td>\n",
       "    </tr>\n",
       "    <tr>\n",
       "      <th>1</th>\n",
       "      <td>1633186800</td>\n",
       "      <td>29.26</td>\n",
       "      <td>34.13</td>\n",
       "      <td>1011</td>\n",
       "      <td>74</td>\n",
       "      <td>24.14</td>\n",
       "      <td>0.0</td>\n",
       "      <td>10</td>\n",
       "      <td>10000</td>\n",
       "      <td>4.98</td>\n",
       "      <td>110</td>\n",
       "      <td>6.61</td>\n",
       "      <td>[{'id': 500, 'main': 'Rain', 'description': 'l...</td>\n",
       "      <td>0.28</td>\n",
       "      <td>{'1h': 0.27}</td>\n",
       "    </tr>\n",
       "    <tr>\n",
       "      <th>2</th>\n",
       "      <td>1633190400</td>\n",
       "      <td>28.98</td>\n",
       "      <td>33.64</td>\n",
       "      <td>1011</td>\n",
       "      <td>75</td>\n",
       "      <td>24.10</td>\n",
       "      <td>0.0</td>\n",
       "      <td>11</td>\n",
       "      <td>10000</td>\n",
       "      <td>4.71</td>\n",
       "      <td>110</td>\n",
       "      <td>6.46</td>\n",
       "      <td>[{'id': 500, 'main': 'Rain', 'description': 'l...</td>\n",
       "      <td>0.28</td>\n",
       "      <td>{'1h': 0.18}</td>\n",
       "    </tr>\n",
       "    <tr>\n",
       "      <th>3</th>\n",
       "      <td>1633194000</td>\n",
       "      <td>28.69</td>\n",
       "      <td>33.13</td>\n",
       "      <td>1011</td>\n",
       "      <td>76</td>\n",
       "      <td>24.04</td>\n",
       "      <td>0.0</td>\n",
       "      <td>14</td>\n",
       "      <td>10000</td>\n",
       "      <td>4.43</td>\n",
       "      <td>104</td>\n",
       "      <td>5.91</td>\n",
       "      <td>[{'id': 801, 'main': 'Clouds', 'description': ...</td>\n",
       "      <td>0.10</td>\n",
       "      <td>NaN</td>\n",
       "    </tr>\n",
       "    <tr>\n",
       "      <th>4</th>\n",
       "      <td>1633197600</td>\n",
       "      <td>28.24</td>\n",
       "      <td>32.21</td>\n",
       "      <td>1011</td>\n",
       "      <td>77</td>\n",
       "      <td>23.82</td>\n",
       "      <td>0.0</td>\n",
       "      <td>20</td>\n",
       "      <td>10000</td>\n",
       "      <td>4.40</td>\n",
       "      <td>98</td>\n",
       "      <td>5.76</td>\n",
       "      <td>[{'id': 801, 'main': 'Clouds', 'description': ...</td>\n",
       "      <td>0.16</td>\n",
       "      <td>NaN</td>\n",
       "    </tr>\n",
       "  </tbody>\n",
       "</table>\n",
       "</div>"
      ],
      "text/plain": [
       "           dt   temp  feels_like  pressure  humidity  dew_point  uvi  clouds  \\\n",
       "0  1633183200  29.54       34.84      1011        74      24.41  0.0      10   \n",
       "1  1633186800  29.26       34.13      1011        74      24.14  0.0      10   \n",
       "2  1633190400  28.98       33.64      1011        75      24.10  0.0      11   \n",
       "3  1633194000  28.69       33.13      1011        76      24.04  0.0      14   \n",
       "4  1633197600  28.24       32.21      1011        77      23.82  0.0      20   \n",
       "\n",
       "   visibility  wind_speed  wind_deg  wind_gust  \\\n",
       "0       10000        5.35       106       6.75   \n",
       "1       10000        4.98       110       6.61   \n",
       "2       10000        4.71       110       6.46   \n",
       "3       10000        4.43       104       5.91   \n",
       "4       10000        4.40        98       5.76   \n",
       "\n",
       "                                             weather   pop          rain  \n",
       "0  [{'id': 800, 'main': 'Clear', 'description': '...  0.08           NaN  \n",
       "1  [{'id': 500, 'main': 'Rain', 'description': 'l...  0.28  {'1h': 0.27}  \n",
       "2  [{'id': 500, 'main': 'Rain', 'description': 'l...  0.28  {'1h': 0.18}  \n",
       "3  [{'id': 801, 'main': 'Clouds', 'description': ...  0.10           NaN  \n",
       "4  [{'id': 801, 'main': 'Clouds', 'description': ...  0.16           NaN  "
      ]
     },
     "execution_count": 10,
     "metadata": {},
     "output_type": "execute_result"
    }
   ],
   "source": [
    "df_hourly.head()"
   ]
  },
  {
   "cell_type": "code",
   "execution_count": null,
   "metadata": {},
   "outputs": [],
   "source": []
  }
 ],
 "metadata": {
  "interpreter": {
   "hash": "c1b4cfe941b6d2466ad1fb5979e97da9cda8801728c8091b097ab734208fc00c"
  },
  "kernelspec": {
   "display_name": "Python 3.8.3 64-bit ('base': conda)",
   "name": "python3"
  },
  "language_info": {
   "codemirror_mode": {
    "name": "ipython",
    "version": 3
   },
   "file_extension": ".py",
   "mimetype": "text/x-python",
   "name": "python",
   "nbconvert_exporter": "python",
   "pygments_lexer": "ipython3",
   "version": "3.8.12"
  }
 },
 "nbformat": 4,
 "nbformat_minor": 2
}
