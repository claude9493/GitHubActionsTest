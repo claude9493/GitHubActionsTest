{
 "cells": [
  {
   "cell_type": "code",
   "execution_count": 1,
   "metadata": {
    "execution": {
     "iopub.execute_input": "2021-09-21T20:12:02.780070Z",
     "iopub.status.busy": "2021-09-21T20:12:02.779349Z",
     "iopub.status.idle": "2021-09-21T20:12:08.082102Z",
     "shell.execute_reply": "2021-09-21T20:12:08.081025Z"
    }
   },
   "outputs": [],
   "source": [
    "import json, yaml, requests\r\n",
    "from datetime import datetime\r\n",
    "from dateutil import tz\r\n",
    "import pandas as pd\r\n",
    "from PIL import Image\r\n",
    "from io import BytesIO\r\n",
    "import matplotlib.pyplot as plt\r\n",
    "import seaborn\r\n",
    "\r\n",
    "CONFIG_PATH = \"../config/config.yaml\""
   ]
  },
  {
   "cell_type": "code",
   "execution_count": 2,
   "metadata": {
    "execution": {
     "iopub.execute_input": "2021-09-21T20:12:08.088401Z",
     "iopub.status.busy": "2021-09-21T20:12:08.087813Z",
     "iopub.status.idle": "2021-09-21T20:12:08.093131Z",
     "shell.execute_reply": "2021-09-21T20:12:08.092661Z"
    }
   },
   "outputs": [],
   "source": [
    "with open('../newest_ts', 'r') as f:\r\n",
    "    newest_ts = f.read()\r\n",
    "\r\n",
    "data_path = f\"../data/data_{newest_ts}.json\"\r\n",
    "with open(data_path, 'r') as f:\r\n",
    "    data = json.load(f)\r\n",
    "\r\n",
    "with open(CONFIG_PATH, \"r\") as stream:\r\n",
    "    config = yaml.safe_load(stream)\r\n",
    "\r\n",
    "TIME_ZONE = config['time_zone']\r\n",
    "DATETIME_FORMAT = config['dt_format']"
   ]
  },
  {
   "cell_type": "code",
   "execution_count": 3,
   "metadata": {
    "execution": {
     "iopub.execute_input": "2021-09-21T20:12:08.097984Z",
     "iopub.status.busy": "2021-09-21T20:12:08.097442Z",
     "iopub.status.idle": "2021-09-21T20:12:08.116359Z",
     "shell.execute_reply": "2021-09-21T20:12:08.116781Z"
    }
   },
   "outputs": [
    {
     "name": "stdout",
     "output_type": "stream",
     "text": [
      "Recent query happens at 2021-09-22 04:11:58 (CST).\n"
     ]
    }
   ],
   "source": [
    "def ts2dt(ts, format=DATETIME_FORMAT):\r\n",
    "    dt = (datetime.utcfromtimestamp(int(ts))\r\n",
    "                    .replace(tzinfo=tz.tzutc())\r\n",
    "                    # .astimezone(tz.tzlocal())\r\n",
    "                    .astimezone(tz.gettz(TIME_ZONE)))\r\n",
    "    return dt.strftime(format), dt\r\n",
    "\r\n",
    "_, newest_dt = ts2dt(newest_ts)\r\n",
    "print(f\"Recent query happens at {newest_dt.strftime(DATETIME_FORMAT)} ({newest_dt.tzname()}).\")"
   ]
  },
  {
   "cell_type": "code",
   "execution_count": 4,
   "metadata": {
    "execution": {
     "iopub.execute_input": "2021-09-21T20:12:08.121258Z",
     "iopub.status.busy": "2021-09-21T20:12:08.119075Z",
     "iopub.status.idle": "2021-09-21T20:12:08.123594Z",
     "shell.execute_reply": "2021-09-21T20:12:08.123130Z"
    }
   },
   "outputs": [],
   "source": [
    "def degrees_to_cardinal(d):\r\n",
    "  dirs = ['N', 'NNE', 'NE', 'ENE', 'E', 'ESE', 'SE', 'SSE', 'S', 'SSW', 'SW', 'WSW', 'W', 'WNW', 'NW', 'NNW']\r\n",
    "  ix = int(round(d / (360. / len(dirs))))\r\n",
    "  return dirs[ix % len(dirs)]"
   ]
  },
  {
   "cell_type": "code",
   "execution_count": 5,
   "metadata": {
    "execution": {
     "iopub.execute_input": "2021-09-21T20:12:08.128309Z",
     "iopub.status.busy": "2021-09-21T20:12:08.126958Z",
     "iopub.status.idle": "2021-09-21T20:12:08.128920Z",
     "shell.execute_reply": "2021-09-21T20:12:08.129356Z"
    }
   },
   "outputs": [],
   "source": [
    "# data.keys()"
   ]
  },
  {
   "cell_type": "code",
   "execution_count": 6,
   "metadata": {
    "execution": {
     "iopub.execute_input": "2021-09-21T20:12:08.133823Z",
     "iopub.status.busy": "2021-09-21T20:12:08.132469Z",
     "iopub.status.idle": "2021-09-21T20:12:08.134459Z",
     "shell.execute_reply": "2021-09-21T20:12:08.134898Z"
    }
   },
   "outputs": [],
   "source": [
    "# data['current']"
   ]
  },
  {
   "cell_type": "code",
   "execution_count": 7,
   "metadata": {
    "execution": {
     "iopub.execute_input": "2021-09-21T20:12:08.155784Z",
     "iopub.status.busy": "2021-09-21T20:12:08.141422Z",
     "iopub.status.idle": "2021-09-21T20:12:08.587937Z",
     "shell.execute_reply": "2021-09-21T20:12:08.588735Z"
    }
   },
   "outputs": [
    {
     "data": {
      "image/png": "[encoded data removed]",
      "text/plain": [
       "<Figure size 216x216 with 1 Axes>"
      ]
     },
     "metadata": {
      "needs_background": "light"
     },
     "output_type": "display_data"
    },
    {
     "name": "stdout",
     "output_type": "stream",
     "text": [
      "Today, sun rises at 06:11 and sets at 18:19.\n",
      "Currently, the weather is Clouds (overcast clouds).\n",
      "The temperature is 28.99°C and it feels like 35.84°C.\n",
      "The UV index is 0, humidity is 85%.\n",
      "The pressure is 1008 hPa, percentage of cloud cover is 90%\n",
      "The wind comes from ESE direction with a speed 1.53 m/s.\n"
     ]
    }
   ],
   "source": [
    "current = data['current']\r\n",
    "\r\n",
    "fig, ax = plt.subplots(figsize=(3, 3))\r\n",
    "icon = requests.get(f\"http://openweathermap.org/img/wn/{current['weather'][0]['icon']}@2x.png\")\r\n",
    "im = Image.open(BytesIO(icon.content))\r\n",
    "plt.imshow(im)\r\n",
    "ax.set_axis_off()\r\n",
    "plt.show()\r\n",
    "\r\n",
    "print(f\"Today, sun rises at {ts2dt(current['sunrise'], '%H:%M')[0]} \\\r\n",
    "and sets at {ts2dt(current['sunset'], '%H:%M')[0]}.\\n\\\r\n",
    "Currently, the weather is {current['weather'][0]['main']} ({current['weather'][0]['description']}).\\n\\\r\n",
    "The temperature is {current['temp']}°C and it feels like {current['feels_like']}°C.\\n\\\r\n",
    "The UV index is {current['uvi']}, humidity is {current['humidity']}%.\\n\\\r\n",
    "The pressure is {current['pressure']} hPa, percentage of cloud cover is {current['clouds']}%\\n\\\r\n",
    "The wind comes from {degrees_to_cardinal(current['wind_deg'])} direction with a speed {current['wind_speed']} m/s.\")"
   ]
  },
  {
   "cell_type": "code",
   "execution_count": 8,
   "metadata": {
    "execution": {
     "iopub.execute_input": "2021-09-21T20:12:08.592693Z",
     "iopub.status.busy": "2021-09-21T20:12:08.591355Z",
     "iopub.status.idle": "2021-09-21T20:12:08.599832Z",
     "shell.execute_reply": "2021-09-21T20:12:08.600607Z"
    }
   },
   "outputs": [],
   "source": [
    "df_hourly = pd.DataFrame(data['hourly'])\r\n",
    "df_daily = pd.DataFrame(data['daily'])"
   ]
  },
  {
   "cell_type": "code",
   "execution_count": 9,
   "metadata": {
    "execution": {
     "iopub.execute_input": "2021-09-21T20:12:08.604216Z",
     "iopub.status.busy": "2021-09-21T20:12:08.603102Z",
     "iopub.status.idle": "2021-09-21T20:12:08.893791Z",
     "shell.execute_reply": "2021-09-21T20:12:08.893298Z"
    }
   },
   "outputs": [
    {
     "data": {
      "image/png": "[encoded data removed]",
      "text/plain": [
       "<Figure size 864x432 with 1 Axes>"
      ]
     },
     "metadata": {
      "needs_background": "light"
     },
     "output_type": "display_data"
    }
   ],
   "source": [
    "fig, ax = plt.subplots(figsize=(12, 6))\r\n",
    "plt.plot(df_hourly.temp, '.-', label='Temperature')\r\n",
    "plt.plot(df_hourly.feels_like, '.-', label='Feels Like')\r\n",
    "ax.set(title='Temperature in future 48 hours', xlabel='Time', ylabel='Temperature')\r\n",
    "ax.set_xticks(list(range(0, len(df_hourly), 2)))\r\n",
    "ax.set_xticklabels([ts2dt(ts, '%m-%d %H:%M')[0] for i, ts in enumerate(df_hourly.dt) if i%2==0], \r\n",
    "                   rotation=45, ha=\"right\")\r\n",
    "ax.locator_params(nbins=15, axis='y')\r\n",
    "plt.legend()\r\n",
    "plt.show()"
   ]
  },
  {
   "cell_type": "code",
   "execution_count": 10,
   "metadata": {
    "execution": {
     "iopub.execute_input": "2021-09-21T20:12:08.898502Z",
     "iopub.status.busy": "2021-09-21T20:12:08.897914Z",
     "iopub.status.idle": "2021-09-21T20:12:08.919532Z",
     "shell.execute_reply": "2021-09-21T20:12:08.920301Z"
    }
   },
   "outputs": [
    {
     "data": {
      "text/html": [
       "<div>\n",
       "<style scoped>\n",
       "    .dataframe tbody tr th:only-of-type {\n",
       "        vertical-align: middle;\n",
       "    }\n",
       "\n",
       "    .dataframe tbody tr th {\n",
       "        vertical-align: top;\n",
       "    }\n",
       "\n",
       "    .dataframe thead th {\n",
       "        text-align: right;\n",
       "    }\n",
       "</style>\n",
       "<table border=\"1\" class=\"dataframe\">\n",
       "  <thead>\n",
       "    <tr style=\"text-align: right;\">\n",
       "      <th></th>\n",
       "      <th>dt</th>\n",
       "      <th>temp</th>\n",
       "      <th>feels_like</th>\n",
       "      <th>pressure</th>\n",
       "      <th>humidity</th>\n",
       "      <th>dew_point</th>\n",
       "      <th>uvi</th>\n",
       "      <th>clouds</th>\n",
       "      <th>visibility</th>\n",
       "      <th>wind_speed</th>\n",
       "      <th>wind_deg</th>\n",
       "      <th>wind_gust</th>\n",
       "      <th>weather</th>\n",
       "      <th>pop</th>\n",
       "      <th>rain</th>\n",
       "    </tr>\n",
       "  </thead>\n",
       "  <tbody>\n",
       "    <tr>\n",
       "      <th>0</th>\n",
       "      <td>1632254400</td>\n",
       "      <td>28.99</td>\n",
       "      <td>35.84</td>\n",
       "      <td>1008</td>\n",
       "      <td>85</td>\n",
       "      <td>26.21</td>\n",
       "      <td>0.00</td>\n",
       "      <td>90</td>\n",
       "      <td>10000</td>\n",
       "      <td>1.53</td>\n",
       "      <td>120</td>\n",
       "      <td>2.17</td>\n",
       "      <td>[{'id': 804, 'main': 'Clouds', 'description': ...</td>\n",
       "      <td>0.32</td>\n",
       "      <td>NaN</td>\n",
       "    </tr>\n",
       "    <tr>\n",
       "      <th>1</th>\n",
       "      <td>1632258000</td>\n",
       "      <td>28.80</td>\n",
       "      <td>34.82</td>\n",
       "      <td>1008</td>\n",
       "      <td>83</td>\n",
       "      <td>25.62</td>\n",
       "      <td>0.00</td>\n",
       "      <td>91</td>\n",
       "      <td>10000</td>\n",
       "      <td>1.49</td>\n",
       "      <td>108</td>\n",
       "      <td>2.08</td>\n",
       "      <td>[{'id': 804, 'main': 'Clouds', 'description': ...</td>\n",
       "      <td>0.29</td>\n",
       "      <td>NaN</td>\n",
       "    </tr>\n",
       "    <tr>\n",
       "      <th>2</th>\n",
       "      <td>1632261600</td>\n",
       "      <td>28.59</td>\n",
       "      <td>34.01</td>\n",
       "      <td>1008</td>\n",
       "      <td>82</td>\n",
       "      <td>25.21</td>\n",
       "      <td>0.00</td>\n",
       "      <td>92</td>\n",
       "      <td>10000</td>\n",
       "      <td>1.49</td>\n",
       "      <td>96</td>\n",
       "      <td>2.04</td>\n",
       "      <td>[{'id': 804, 'main': 'Clouds', 'description': ...</td>\n",
       "      <td>0.28</td>\n",
       "      <td>NaN</td>\n",
       "    </tr>\n",
       "    <tr>\n",
       "      <th>3</th>\n",
       "      <td>1632265200</td>\n",
       "      <td>28.56</td>\n",
       "      <td>33.54</td>\n",
       "      <td>1009</td>\n",
       "      <td>80</td>\n",
       "      <td>24.77</td>\n",
       "      <td>0.19</td>\n",
       "      <td>94</td>\n",
       "      <td>10000</td>\n",
       "      <td>1.59</td>\n",
       "      <td>75</td>\n",
       "      <td>2.19</td>\n",
       "      <td>[{'id': 804, 'main': 'Clouds', 'description': ...</td>\n",
       "      <td>0.24</td>\n",
       "      <td>NaN</td>\n",
       "    </tr>\n",
       "    <tr>\n",
       "      <th>4</th>\n",
       "      <td>1632268800</td>\n",
       "      <td>28.93</td>\n",
       "      <td>33.92</td>\n",
       "      <td>1010</td>\n",
       "      <td>77</td>\n",
       "      <td>24.49</td>\n",
       "      <td>1.08</td>\n",
       "      <td>95</td>\n",
       "      <td>10000</td>\n",
       "      <td>1.98</td>\n",
       "      <td>68</td>\n",
       "      <td>2.61</td>\n",
       "      <td>[{'id': 804, 'main': 'Clouds', 'description': ...</td>\n",
       "      <td>0.24</td>\n",
       "      <td>NaN</td>\n",
       "    </tr>\n",
       "  </tbody>\n",
       "</table>\n",
       "</div>"
      ],
      "text/plain": [
       "           dt   temp  feels_like  pressure  humidity  dew_point   uvi  clouds  \\\n",
       "0  1632254400  28.99       35.84      1008        85      26.21  0.00      90   \n",
       "1  1632258000  28.80       34.82      1008        83      25.62  0.00      91   \n",
       "2  1632261600  28.59       34.01      1008        82      25.21  0.00      92   \n",
       "3  1632265200  28.56       33.54      1009        80      24.77  0.19      94   \n",
       "4  1632268800  28.93       33.92      1010        77      24.49  1.08      95   \n",
       "\n",
       "   visibility  wind_speed  wind_deg  wind_gust  \\\n",
       "0       10000        1.53       120       2.17   \n",
       "1       10000        1.49       108       2.08   \n",
       "2       10000        1.49        96       2.04   \n",
       "3       10000        1.59        75       2.19   \n",
       "4       10000        1.98        68       2.61   \n",
       "\n",
       "                                             weather   pop rain  \n",
       "0  [{'id': 804, 'main': 'Clouds', 'description': ...  0.32  NaN  \n",
       "1  [{'id': 804, 'main': 'Clouds', 'description': ...  0.29  NaN  \n",
       "2  [{'id': 804, 'main': 'Clouds', 'description': ...  0.28  NaN  \n",
       "3  [{'id': 804, 'main': 'Clouds', 'description': ...  0.24  NaN  \n",
       "4  [{'id': 804, 'main': 'Clouds', 'description': ...  0.24  NaN  "
      ]
     },
     "execution_count": 10,
     "metadata": {},
     "output_type": "execute_result"
    }
   ],
   "source": [
    "df_hourly.head()"
   ]
  },
  {
   "cell_type": "code",
   "execution_count": null,
   "metadata": {},
   "outputs": [],
   "source": []
  }
 ],
 "metadata": {
  "interpreter": {
   "hash": "c1b4cfe941b6d2466ad1fb5979e97da9cda8801728c8091b097ab734208fc00c"
  },
  "kernelspec": {
   "display_name": "Python 3.8.3 64-bit ('base': conda)",
   "name": "python3"
  },
  "language_info": {
   "codemirror_mode": {
    "name": "ipython",
    "version": 3
   },
   "file_extension": ".py",
   "mimetype": "text/x-python",
   "name": "python",
   "nbconvert_exporter": "python",
   "pygments_lexer": "ipython3",
   "version": "3.8.11"
  }
 },
 "nbformat": 4,
 "nbformat_minor": 2
}
