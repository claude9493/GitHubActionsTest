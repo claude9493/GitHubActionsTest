{
 "cells": [
  {
   "cell_type": "code",
   "execution_count": 1,
   "metadata": {
    "execution": {
     "iopub.execute_input": "2021-09-27T05:10:38.556683Z",
     "iopub.status.busy": "2021-09-27T05:10:38.555993Z",
     "iopub.status.idle": "2021-09-27T05:10:40.119046Z",
     "shell.execute_reply": "2021-09-27T05:10:40.118337Z"
    }
   },
   "outputs": [],
   "source": [
    "import json, yaml, requests\r\n",
    "from datetime import datetime\r\n",
    "from dateutil import tz\r\n",
    "import pandas as pd\r\n",
    "from PIL import Image\r\n",
    "from io import BytesIO\r\n",
    "import matplotlib.pyplot as plt\r\n",
    "import seaborn\r\n",
    "\r\n",
    "CONFIG_PATH = \"../config/config.yaml\""
   ]
  },
  {
   "cell_type": "code",
   "execution_count": 2,
   "metadata": {
    "execution": {
     "iopub.execute_input": "2021-09-27T05:10:40.126199Z",
     "iopub.status.busy": "2021-09-27T05:10:40.125275Z",
     "iopub.status.idle": "2021-09-27T05:10:40.132699Z",
     "shell.execute_reply": "2021-09-27T05:10:40.133197Z"
    }
   },
   "outputs": [],
   "source": [
    "with open('../newest_ts', 'r') as f:\r\n",
    "    newest_ts = f.read()\r\n",
    "\r\n",
    "data_path = f\"../data/data_{newest_ts}.json\"\r\n",
    "with open(data_path, 'r') as f:\r\n",
    "    data = json.load(f)\r\n",
    "\r\n",
    "with open(CONFIG_PATH, \"r\") as stream:\r\n",
    "    config = yaml.safe_load(stream)\r\n",
    "\r\n",
    "TIME_ZONE = config['time_zone']\r\n",
    "DATETIME_FORMAT = config['dt_format']"
   ]
  },
  {
   "cell_type": "code",
   "execution_count": 3,
   "metadata": {
    "execution": {
     "iopub.execute_input": "2021-09-27T05:10:40.138592Z",
     "iopub.status.busy": "2021-09-27T05:10:40.135406Z",
     "iopub.status.idle": "2021-09-27T05:10:40.247539Z",
     "shell.execute_reply": "2021-09-27T05:10:40.248041Z"
    }
   },
   "outputs": [
    {
     "name": "stdout",
     "output_type": "stream",
     "text": [
      "Recent query happens at 2021-09-27 13:10:33 (CST).\n"
     ]
    }
   ],
   "source": [
    "def ts2dt(ts, format=DATETIME_FORMAT):\r\n",
    "    dt = (datetime.utcfromtimestamp(int(ts))\r\n",
    "                    .replace(tzinfo=tz.tzutc())\r\n",
    "                    # .astimezone(tz.tzlocal())\r\n",
    "                    .astimezone(tz.gettz(TIME_ZONE)))\r\n",
    "    return dt.strftime(format), dt\r\n",
    "\r\n",
    "_, newest_dt = ts2dt(newest_ts)\r\n",
    "print(f\"Recent query happens at {newest_dt.strftime(DATETIME_FORMAT)} ({newest_dt.tzname()}).\")"
   ]
  },
  {
   "cell_type": "code",
   "execution_count": 4,
   "metadata": {
    "execution": {
     "iopub.execute_input": "2021-09-27T05:10:40.253300Z",
     "iopub.status.busy": "2021-09-27T05:10:40.252622Z",
     "iopub.status.idle": "2021-09-27T05:10:40.256470Z",
     "shell.execute_reply": "2021-09-27T05:10:40.255974Z"
    }
   },
   "outputs": [],
   "source": [
    "def degrees_to_cardinal(d):\r\n",
    "  dirs = ['N', 'NNE', 'NE', 'ENE', 'E', 'ESE', 'SE', 'SSE', 'S', 'SSW', 'SW', 'WSW', 'W', 'WNW', 'NW', 'NNW']\r\n",
    "  ix = int(round(d / (360. / len(dirs))))\r\n",
    "  return dirs[ix % len(dirs)]"
   ]
  },
  {
   "cell_type": "code",
   "execution_count": 5,
   "metadata": {
    "execution": {
     "iopub.execute_input": "2021-09-27T05:10:40.260184Z",
     "iopub.status.busy": "2021-09-27T05:10:40.258658Z",
     "iopub.status.idle": "2021-09-27T05:10:40.262079Z",
     "shell.execute_reply": "2021-09-27T05:10:40.262559Z"
    }
   },
   "outputs": [],
   "source": [
    "# data.keys()"
   ]
  },
  {
   "cell_type": "code",
   "execution_count": 6,
   "metadata": {
    "execution": {
     "iopub.execute_input": "2021-09-27T05:10:40.267419Z",
     "iopub.status.busy": "2021-09-27T05:10:40.266044Z",
     "iopub.status.idle": "2021-09-27T05:10:40.268065Z",
     "shell.execute_reply": "2021-09-27T05:10:40.268552Z"
    }
   },
   "outputs": [],
   "source": [
    "# data['current']"
   ]
  },
  {
   "cell_type": "code",
   "execution_count": 7,
   "metadata": {
    "execution": {
     "iopub.execute_input": "2021-09-27T05:10:40.299155Z",
     "iopub.status.busy": "2021-09-27T05:10:40.277421Z",
     "iopub.status.idle": "2021-09-27T05:10:40.883934Z",
     "shell.execute_reply": "2021-09-27T05:10:40.884737Z"
    }
   },
   "outputs": [
    {
     "data": {
      "image/png": "[encoded data removed]",
      "text/plain": [
       "<Figure size 216x216 with 1 Axes>"
      ]
     },
     "metadata": {
      "needs_background": "light"
     },
     "output_type": "display_data"
    },
    {
     "name": "stdout",
     "output_type": "stream",
     "text": [
      "Today, sun rises at 06:13 and sets at 18:14.\n",
      "Currently, the weather is Clouds (scattered clouds).\n",
      "The temperature is 30.66°C and it feels like 37.66°C.\n",
      "The UV index is 9.19, humidity is 74%.\n",
      "The pressure is 1008 hPa, percentage of cloud cover is 38%\n",
      "The wind comes from W direction with a speed 2.68 m/s.\n"
     ]
    }
   ],
   "source": [
    "current = data['current']\r\n",
    "\r\n",
    "fig, ax = plt.subplots(figsize=(3, 3))\r\n",
    "icon = requests.get(f\"http://openweathermap.org/img/wn/{current['weather'][0]['icon']}@2x.png\")\r\n",
    "im = Image.open(BytesIO(icon.content))\r\n",
    "plt.imshow(im)\r\n",
    "ax.set_axis_off()\r\n",
    "plt.show()\r\n",
    "\r\n",
    "print(f\"Today, sun rises at {ts2dt(current['sunrise'], '%H:%M')[0]} \\\r\n",
    "and sets at {ts2dt(current['sunset'], '%H:%M')[0]}.\\n\\\r\n",
    "Currently, the weather is {current['weather'][0]['main']} ({current['weather'][0]['description']}).\\n\\\r\n",
    "The temperature is {current['temp']}°C and it feels like {current['feels_like']}°C.\\n\\\r\n",
    "The UV index is {current['uvi']}, humidity is {current['humidity']}%.\\n\\\r\n",
    "The pressure is {current['pressure']} hPa, percentage of cloud cover is {current['clouds']}%\\n\\\r\n",
    "The wind comes from {degrees_to_cardinal(current['wind_deg'])} direction with a speed {current['wind_speed']} m/s.\")"
   ]
  },
  {
   "cell_type": "code",
   "execution_count": 8,
   "metadata": {
    "execution": {
     "iopub.execute_input": "2021-09-27T05:10:40.888689Z",
     "iopub.status.busy": "2021-09-27T05:10:40.887552Z",
     "iopub.status.idle": "2021-09-27T05:10:40.897354Z",
     "shell.execute_reply": "2021-09-27T05:10:40.898186Z"
    }
   },
   "outputs": [],
   "source": [
    "df_hourly = pd.DataFrame(data['hourly'])\r\n",
    "df_daily = pd.DataFrame(data['daily'])"
   ]
  },
  {
   "cell_type": "code",
   "execution_count": 9,
   "metadata": {
    "execution": {
     "iopub.execute_input": "2021-09-27T05:10:40.901969Z",
     "iopub.status.busy": "2021-09-27T05:10:40.900740Z",
     "iopub.status.idle": "2021-09-27T05:10:41.235535Z",
     "shell.execute_reply": "2021-09-27T05:10:41.236009Z"
    }
   },
   "outputs": [
    {
     "data": {
      "image/png": "[encoded data removed]",
      "text/plain": [
       "<Figure size 864x432 with 1 Axes>"
      ]
     },
     "metadata": {
      "needs_background": "light"
     },
     "output_type": "display_data"
    }
   ],
   "source": [
    "fig, ax = plt.subplots(figsize=(12, 6))\r\n",
    "plt.plot(df_hourly.temp, '.-', label='Temperature')\r\n",
    "plt.plot(df_hourly.feels_like, '.-', label='Feels Like')\r\n",
    "ax.set(title='Temperature in future 48 hours', xlabel='Time', ylabel='Temperature')\r\n",
    "ax.set_xticks(list(range(0, len(df_hourly), 2)))\r\n",
    "ax.set_xticklabels([ts2dt(ts, '%m-%d %H:%M')[0] for i, ts in enumerate(df_hourly.dt) if i%2==0], \r\n",
    "                   rotation=45, ha=\"right\")\r\n",
    "ax.locator_params(nbins=15, axis='y')\r\n",
    "plt.legend()\r\n",
    "plt.show()"
   ]
  },
  {
   "cell_type": "code",
   "execution_count": 10,
   "metadata": {
    "execution": {
     "iopub.execute_input": "2021-09-27T05:10:41.248236Z",
     "iopub.status.busy": "2021-09-27T05:10:41.240346Z",
     "iopub.status.idle": "2021-09-27T05:10:41.260052Z",
     "shell.execute_reply": "2021-09-27T05:10:41.260530Z"
    }
   },
   "outputs": [
    {
     "data": {
      "text/html": [
       "<div>\n",
       "<style scoped>\n",
       "    .dataframe tbody tr th:only-of-type {\n",
       "        vertical-align: middle;\n",
       "    }\n",
       "\n",
       "    .dataframe tbody tr th {\n",
       "        vertical-align: top;\n",
       "    }\n",
       "\n",
       "    .dataframe thead th {\n",
       "        text-align: right;\n",
       "    }\n",
       "</style>\n",
       "<table border=\"1\" class=\"dataframe\">\n",
       "  <thead>\n",
       "    <tr style=\"text-align: right;\">\n",
       "      <th></th>\n",
       "      <th>dt</th>\n",
       "      <th>temp</th>\n",
       "      <th>feels_like</th>\n",
       "      <th>pressure</th>\n",
       "      <th>humidity</th>\n",
       "      <th>dew_point</th>\n",
       "      <th>uvi</th>\n",
       "      <th>clouds</th>\n",
       "      <th>visibility</th>\n",
       "      <th>wind_speed</th>\n",
       "      <th>wind_deg</th>\n",
       "      <th>wind_gust</th>\n",
       "      <th>weather</th>\n",
       "      <th>pop</th>\n",
       "    </tr>\n",
       "  </thead>\n",
       "  <tbody>\n",
       "    <tr>\n",
       "      <th>0</th>\n",
       "      <td>1632718800</td>\n",
       "      <td>30.66</td>\n",
       "      <td>37.66</td>\n",
       "      <td>1008</td>\n",
       "      <td>74</td>\n",
       "      <td>25.49</td>\n",
       "      <td>9.19</td>\n",
       "      <td>38</td>\n",
       "      <td>10000</td>\n",
       "      <td>4.24</td>\n",
       "      <td>99</td>\n",
       "      <td>3.93</td>\n",
       "      <td>[{'id': 802, 'main': 'Clouds', 'description': ...</td>\n",
       "      <td>0</td>\n",
       "    </tr>\n",
       "    <tr>\n",
       "      <th>1</th>\n",
       "      <td>1632722400</td>\n",
       "      <td>30.34</td>\n",
       "      <td>36.41</td>\n",
       "      <td>1008</td>\n",
       "      <td>72</td>\n",
       "      <td>24.72</td>\n",
       "      <td>7.50</td>\n",
       "      <td>38</td>\n",
       "      <td>10000</td>\n",
       "      <td>4.20</td>\n",
       "      <td>107</td>\n",
       "      <td>3.76</td>\n",
       "      <td>[{'id': 802, 'main': 'Clouds', 'description': ...</td>\n",
       "      <td>0</td>\n",
       "    </tr>\n",
       "    <tr>\n",
       "      <th>2</th>\n",
       "      <td>1632726000</td>\n",
       "      <td>30.04</td>\n",
       "      <td>35.14</td>\n",
       "      <td>1008</td>\n",
       "      <td>70</td>\n",
       "      <td>23.97</td>\n",
       "      <td>5.23</td>\n",
       "      <td>37</td>\n",
       "      <td>10000</td>\n",
       "      <td>3.94</td>\n",
       "      <td>114</td>\n",
       "      <td>3.32</td>\n",
       "      <td>[{'id': 802, 'main': 'Clouds', 'description': ...</td>\n",
       "      <td>0</td>\n",
       "    </tr>\n",
       "    <tr>\n",
       "      <th>3</th>\n",
       "      <td>1632729600</td>\n",
       "      <td>29.66</td>\n",
       "      <td>34.00</td>\n",
       "      <td>1009</td>\n",
       "      <td>69</td>\n",
       "      <td>23.36</td>\n",
       "      <td>2.58</td>\n",
       "      <td>31</td>\n",
       "      <td>10000</td>\n",
       "      <td>3.67</td>\n",
       "      <td>117</td>\n",
       "      <td>3.00</td>\n",
       "      <td>[{'id': 802, 'main': 'Clouds', 'description': ...</td>\n",
       "      <td>0</td>\n",
       "    </tr>\n",
       "    <tr>\n",
       "      <th>4</th>\n",
       "      <td>1632733200</td>\n",
       "      <td>28.98</td>\n",
       "      <td>32.50</td>\n",
       "      <td>1009</td>\n",
       "      <td>69</td>\n",
       "      <td>22.72</td>\n",
       "      <td>0.81</td>\n",
       "      <td>24</td>\n",
       "      <td>10000</td>\n",
       "      <td>3.42</td>\n",
       "      <td>119</td>\n",
       "      <td>2.95</td>\n",
       "      <td>[{'id': 801, 'main': 'Clouds', 'description': ...</td>\n",
       "      <td>0</td>\n",
       "    </tr>\n",
       "  </tbody>\n",
       "</table>\n",
       "</div>"
      ],
      "text/plain": [
       "           dt   temp  feels_like  pressure  humidity  dew_point   uvi  clouds  \\\n",
       "0  1632718800  30.66       37.66      1008        74      25.49  9.19      38   \n",
       "1  1632722400  30.34       36.41      1008        72      24.72  7.50      38   \n",
       "2  1632726000  30.04       35.14      1008        70      23.97  5.23      37   \n",
       "3  1632729600  29.66       34.00      1009        69      23.36  2.58      31   \n",
       "4  1632733200  28.98       32.50      1009        69      22.72  0.81      24   \n",
       "\n",
       "   visibility  wind_speed  wind_deg  wind_gust  \\\n",
       "0       10000        4.24        99       3.93   \n",
       "1       10000        4.20       107       3.76   \n",
       "2       10000        3.94       114       3.32   \n",
       "3       10000        3.67       117       3.00   \n",
       "4       10000        3.42       119       2.95   \n",
       "\n",
       "                                             weather  pop  \n",
       "0  [{'id': 802, 'main': 'Clouds', 'description': ...    0  \n",
       "1  [{'id': 802, 'main': 'Clouds', 'description': ...    0  \n",
       "2  [{'id': 802, 'main': 'Clouds', 'description': ...    0  \n",
       "3  [{'id': 802, 'main': 'Clouds', 'description': ...    0  \n",
       "4  [{'id': 801, 'main': 'Clouds', 'description': ...    0  "
      ]
     },
     "execution_count": 10,
     "metadata": {},
     "output_type": "execute_result"
    }
   ],
   "source": [
    "df_hourly.head()"
   ]
  },
  {
   "cell_type": "code",
   "execution_count": null,
   "metadata": {},
   "outputs": [],
   "source": []
  }
 ],
 "metadata": {
  "interpreter": {
   "hash": "c1b4cfe941b6d2466ad1fb5979e97da9cda8801728c8091b097ab734208fc00c"
  },
  "kernelspec": {
   "display_name": "Python 3.8.3 64-bit ('base': conda)",
   "name": "python3"
  },
  "language_info": {
   "codemirror_mode": {
    "name": "ipython",
    "version": 3
   },
   "file_extension": ".py",
   "mimetype": "text/x-python",
   "name": "python",
   "nbconvert_exporter": "python",
   "pygments_lexer": "ipython3",
   "version": "3.8.12"
  }
 },
 "nbformat": 4,
 "nbformat_minor": 2
}
