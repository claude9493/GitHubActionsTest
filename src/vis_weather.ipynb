{
 "cells": [
  {
   "cell_type": "code",
   "execution_count": 1,
   "metadata": {
    "execution": {
     "iopub.execute_input": "2021-09-07T02:45:09.571770Z",
     "iopub.status.busy": "2021-09-07T02:45:09.570952Z",
     "iopub.status.idle": "2021-09-07T02:45:10.807647Z",
     "shell.execute_reply": "2021-09-07T02:45:10.807017Z"
    }
   },
   "outputs": [],
   "source": [
    "import json, yaml, requests\r\n",
    "from datetime import datetime\r\n",
    "from dateutil import tz\r\n",
    "import pandas as pd\r\n",
    "from PIL import Image\r\n",
    "from io import BytesIO\r\n",
    "import matplotlib.pyplot as plt\r\n",
    "import seaborn\r\n",
    "\r\n",
    "CONFIG_PATH = \"../config/config.yaml\""
   ]
  },
  {
   "cell_type": "code",
   "execution_count": 2,
   "metadata": {
    "execution": {
     "iopub.execute_input": "2021-09-07T02:45:10.812768Z",
     "iopub.status.busy": "2021-09-07T02:45:10.811838Z",
     "iopub.status.idle": "2021-09-07T02:45:10.818988Z",
     "shell.execute_reply": "2021-09-07T02:45:10.818604Z"
    }
   },
   "outputs": [],
   "source": [
    "with open('../newest_ts', 'r') as f:\r\n",
    "    newest_ts = f.read()\r\n",
    "\r\n",
    "data_path = f\"../data/data_{newest_ts}.json\"\r\n",
    "with open(data_path, 'r') as f:\r\n",
    "    data = json.load(f)\r\n",
    "\r\n",
    "with open(CONFIG_PATH, \"r\") as stream:\r\n",
    "    config = yaml.safe_load(stream)\r\n",
    "\r\n",
    "TIME_ZONE = config['time_zone']\r\n",
    "DATETIME_FORMAT = config['dt_format']"
   ]
  },
  {
   "cell_type": "code",
   "execution_count": 3,
   "metadata": {
    "execution": {
     "iopub.execute_input": "2021-09-07T02:45:10.823429Z",
     "iopub.status.busy": "2021-09-07T02:45:10.822928Z",
     "iopub.status.idle": "2021-09-07T02:45:10.829454Z",
     "shell.execute_reply": "2021-09-07T02:45:10.829835Z"
    }
   },
   "outputs": [
    {
     "name": "stdout",
     "output_type": "stream",
     "text": [
      "Recent query happens at 2021-09-07 10:45:06 (CST).\n"
     ]
    }
   ],
   "source": [
    "def ts2dt(ts, format=DATETIME_FORMAT):\r\n",
    "    dt = (datetime.utcfromtimestamp(int(ts))\r\n",
    "                    .replace(tzinfo=tz.tzutc())\r\n",
    "                    # .astimezone(tz.tzlocal())\r\n",
    "                    .astimezone(tz.gettz(TIME_ZONE)))\r\n",
    "    return dt.strftime(format), dt\r\n",
    "\r\n",
    "_, newest_dt = ts2dt(newest_ts)\r\n",
    "print(f\"Recent query happens at {newest_dt.strftime(DATETIME_FORMAT)} ({newest_dt.tzname()}).\")"
   ]
  },
  {
   "cell_type": "code",
   "execution_count": 4,
   "metadata": {
    "execution": {
     "iopub.execute_input": "2021-09-07T02:45:10.833881Z",
     "iopub.status.busy": "2021-09-07T02:45:10.833172Z",
     "iopub.status.idle": "2021-09-07T02:45:10.837001Z",
     "shell.execute_reply": "2021-09-07T02:45:10.836618Z"
    }
   },
   "outputs": [],
   "source": [
    "def degrees_to_cardinal(d):\r\n",
    "  dirs = ['N', 'NNE', 'NE', 'ENE', 'E', 'ESE', 'SE', 'SSE', 'S', 'SSW', 'SW', 'WSW', 'W', 'WNW', 'NW', 'NNW']\r\n",
    "  ix = int(round(d / (360. / len(dirs))))\r\n",
    "  return dirs[ix % len(dirs)]"
   ]
  },
  {
   "cell_type": "code",
   "execution_count": 5,
   "metadata": {
    "execution": {
     "iopub.execute_input": "2021-09-07T02:45:10.839960Z",
     "iopub.status.busy": "2021-09-07T02:45:10.839529Z",
     "iopub.status.idle": "2021-09-07T02:45:10.842530Z",
     "shell.execute_reply": "2021-09-07T02:45:10.843231Z"
    }
   },
   "outputs": [],
   "source": [
    "# data.keys()"
   ]
  },
  {
   "cell_type": "code",
   "execution_count": 6,
   "metadata": {
    "execution": {
     "iopub.execute_input": "2021-09-07T02:45:10.846254Z",
     "iopub.status.busy": "2021-09-07T02:45:10.845829Z",
     "iopub.status.idle": "2021-09-07T02:45:10.848480Z",
     "shell.execute_reply": "2021-09-07T02:45:10.849181Z"
    }
   },
   "outputs": [],
   "source": [
    "# data['current']"
   ]
  },
  {
   "cell_type": "code",
   "execution_count": 7,
   "metadata": {
    "execution": {
     "iopub.execute_input": "2021-09-07T02:45:10.865764Z",
     "iopub.status.busy": "2021-09-07T02:45:10.859713Z",
     "iopub.status.idle": "2021-09-07T02:45:11.148027Z",
     "shell.execute_reply": "2021-09-07T02:45:11.148632Z"
    }
   },
   "outputs": [
    {
     "data": {
      "image/png": "[encoded data removed]",
      "text/plain": [
       "<Figure size 216x216 with 1 Axes>"
      ]
     },
     "metadata": {
      "needs_background": "light"
     },
     "output_type": "display_data"
    },
    {
     "name": "stdout",
     "output_type": "stream",
     "text": [
      "Today, sun rises at 06:07 and sets at 18:34.\n",
      "Currently, the weather is Clouds (scattered clouds).\n",
      "The temperature is 31.39°C and it feels like 38.39°C.\n",
      "The UV index is 9.76, humidity is 77%.\n",
      "The pressure is 1011 hPa, percentage of cloud cover is 50%\n",
      "The wind comes from ENE direction with a speed 6.16 m/s.\n"
     ]
    }
   ],
   "source": [
    "current = data['current']\r\n",
    "\r\n",
    "fig, ax = plt.subplots(figsize=(3, 3))\r\n",
    "icon = requests.get(f\"http://openweathermap.org/img/wn/{current['weather'][0]['icon']}@2x.png\")\r\n",
    "im = Image.open(BytesIO(icon.content))\r\n",
    "plt.imshow(im)\r\n",
    "ax.set_axis_off()\r\n",
    "plt.show()\r\n",
    "\r\n",
    "print(f\"Today, sun rises at {ts2dt(current['sunrise'], '%H:%M')[0]} \\\r\n",
    "and sets at {ts2dt(current['sunset'], '%H:%M')[0]}.\\n\\\r\n",
    "Currently, the weather is {current['weather'][0]['main']} ({current['weather'][0]['description']}).\\n\\\r\n",
    "The temperature is {current['temp']}°C and it feels like {current['feels_like']}°C.\\n\\\r\n",
    "The UV index is {current['uvi']}, humidity is {current['humidity']}%.\\n\\\r\n",
    "The pressure is {current['pressure']} hPa, percentage of cloud cover is {current['clouds']}%\\n\\\r\n",
    "The wind comes from {degrees_to_cardinal(current['wind_deg'])} direction with a speed {current['wind_speed']} m/s.\")"
   ]
  },
  {
   "cell_type": "code",
   "execution_count": 8,
   "metadata": {
    "execution": {
     "iopub.execute_input": "2021-09-07T02:45:11.151920Z",
     "iopub.status.busy": "2021-09-07T02:45:11.150996Z",
     "iopub.status.idle": "2021-09-07T02:45:11.157543Z",
     "shell.execute_reply": "2021-09-07T02:45:11.158114Z"
    }
   },
   "outputs": [],
   "source": [
    "df_hourly = pd.DataFrame(data['hourly'])\r\n",
    "df_daily = pd.DataFrame(data['daily'])"
   ]
  },
  {
   "cell_type": "code",
   "execution_count": 9,
   "metadata": {
    "execution": {
     "iopub.execute_input": "2021-09-07T02:45:11.161215Z",
     "iopub.status.busy": "2021-09-07T02:45:11.160210Z",
     "iopub.status.idle": "2021-09-07T02:45:11.425368Z",
     "shell.execute_reply": "2021-09-07T02:45:11.425784Z"
    }
   },
   "outputs": [
    {
     "data": {
      "image/png": "[encoded data removed]",
      "text/plain": [
       "<Figure size 864x432 with 1 Axes>"
      ]
     },
     "metadata": {
      "needs_background": "light"
     },
     "output_type": "display_data"
    }
   ],
   "source": [
    "fig, ax = plt.subplots(figsize=(12, 6))\r\n",
    "plt.plot(df_hourly.temp, '.-', label='Temperature')\r\n",
    "plt.plot(df_hourly.feels_like, '.-', label='Feels Like')\r\n",
    "ax.set(title='Temperature in future 48 hours', xlabel='Time', ylabel='Temperature')\r\n",
    "ax.set_xticks(list(range(0, len(df_hourly), 2)))\r\n",
    "ax.set_xticklabels([ts2dt(ts, '%m-%d %H:%M')[0] for i, ts in enumerate(df_hourly.dt) if i%2==0], \r\n",
    "                   rotation=45, ha=\"right\")\r\n",
    "ax.locator_params(nbins=15, axis='y')\r\n",
    "plt.legend()\r\n",
    "plt.show()"
   ]
  },
  {
   "cell_type": "code",
   "execution_count": 10,
   "metadata": {
    "execution": {
     "iopub.execute_input": "2021-09-07T02:45:11.438008Z",
     "iopub.status.busy": "2021-09-07T02:45:11.430102Z",
     "iopub.status.idle": "2021-09-07T02:45:11.449760Z",
     "shell.execute_reply": "2021-09-07T02:45:11.449320Z"
    }
   },
   "outputs": [
    {
     "data": {
      "text/html": [
       "<div>\n",
       "<style scoped>\n",
       "    .dataframe tbody tr th:only-of-type {\n",
       "        vertical-align: middle;\n",
       "    }\n",
       "\n",
       "    .dataframe tbody tr th {\n",
       "        vertical-align: top;\n",
       "    }\n",
       "\n",
       "    .dataframe thead th {\n",
       "        text-align: right;\n",
       "    }\n",
       "</style>\n",
       "<table border=\"1\" class=\"dataframe\">\n",
       "  <thead>\n",
       "    <tr style=\"text-align: right;\">\n",
       "      <th></th>\n",
       "      <th>dt</th>\n",
       "      <th>temp</th>\n",
       "      <th>feels_like</th>\n",
       "      <th>pressure</th>\n",
       "      <th>humidity</th>\n",
       "      <th>dew_point</th>\n",
       "      <th>uvi</th>\n",
       "      <th>clouds</th>\n",
       "      <th>visibility</th>\n",
       "      <th>wind_speed</th>\n",
       "      <th>wind_deg</th>\n",
       "      <th>wind_gust</th>\n",
       "      <th>weather</th>\n",
       "      <th>pop</th>\n",
       "      <th>rain</th>\n",
       "    </tr>\n",
       "  </thead>\n",
       "  <tbody>\n",
       "    <tr>\n",
       "      <th>0</th>\n",
       "      <td>1630980000</td>\n",
       "      <td>30.92</td>\n",
       "      <td>37.92</td>\n",
       "      <td>1011</td>\n",
       "      <td>77</td>\n",
       "      <td>26.41</td>\n",
       "      <td>6.88</td>\n",
       "      <td>52</td>\n",
       "      <td>10000</td>\n",
       "      <td>6.07</td>\n",
       "      <td>72</td>\n",
       "      <td>7.21</td>\n",
       "      <td>[{'id': 803, 'main': 'Clouds', 'description': ...</td>\n",
       "      <td>0.46</td>\n",
       "      <td>NaN</td>\n",
       "    </tr>\n",
       "    <tr>\n",
       "      <th>1</th>\n",
       "      <td>1630983600</td>\n",
       "      <td>31.39</td>\n",
       "      <td>38.39</td>\n",
       "      <td>1011</td>\n",
       "      <td>77</td>\n",
       "      <td>26.87</td>\n",
       "      <td>9.76</td>\n",
       "      <td>50</td>\n",
       "      <td>10000</td>\n",
       "      <td>6.16</td>\n",
       "      <td>75</td>\n",
       "      <td>7.20</td>\n",
       "      <td>[{'id': 802, 'main': 'Clouds', 'description': ...</td>\n",
       "      <td>0.57</td>\n",
       "      <td>NaN</td>\n",
       "    </tr>\n",
       "    <tr>\n",
       "      <th>2</th>\n",
       "      <td>1630987200</td>\n",
       "      <td>31.06</td>\n",
       "      <td>38.06</td>\n",
       "      <td>1011</td>\n",
       "      <td>76</td>\n",
       "      <td>26.33</td>\n",
       "      <td>11.19</td>\n",
       "      <td>48</td>\n",
       "      <td>10000</td>\n",
       "      <td>5.87</td>\n",
       "      <td>82</td>\n",
       "      <td>6.82</td>\n",
       "      <td>[{'id': 802, 'main': 'Clouds', 'description': ...</td>\n",
       "      <td>0.61</td>\n",
       "      <td>NaN</td>\n",
       "    </tr>\n",
       "    <tr>\n",
       "      <th>3</th>\n",
       "      <td>1630990800</td>\n",
       "      <td>30.79</td>\n",
       "      <td>37.79</td>\n",
       "      <td>1011</td>\n",
       "      <td>75</td>\n",
       "      <td>25.84</td>\n",
       "      <td>11.01</td>\n",
       "      <td>44</td>\n",
       "      <td>10000</td>\n",
       "      <td>5.52</td>\n",
       "      <td>89</td>\n",
       "      <td>6.48</td>\n",
       "      <td>[{'id': 802, 'main': 'Clouds', 'description': ...</td>\n",
       "      <td>0.61</td>\n",
       "      <td>NaN</td>\n",
       "    </tr>\n",
       "    <tr>\n",
       "      <th>4</th>\n",
       "      <td>1630994400</td>\n",
       "      <td>30.57</td>\n",
       "      <td>37.31</td>\n",
       "      <td>1010</td>\n",
       "      <td>73</td>\n",
       "      <td>25.18</td>\n",
       "      <td>9.09</td>\n",
       "      <td>39</td>\n",
       "      <td>10000</td>\n",
       "      <td>5.13</td>\n",
       "      <td>93</td>\n",
       "      <td>6.07</td>\n",
       "      <td>[{'id': 802, 'main': 'Clouds', 'description': ...</td>\n",
       "      <td>0.57</td>\n",
       "      <td>NaN</td>\n",
       "    </tr>\n",
       "  </tbody>\n",
       "</table>\n",
       "</div>"
      ],
      "text/plain": [
       "           dt   temp  feels_like  pressure  humidity  dew_point    uvi  \\\n",
       "0  1630980000  30.92       37.92      1011        77      26.41   6.88   \n",
       "1  1630983600  31.39       38.39      1011        77      26.87   9.76   \n",
       "2  1630987200  31.06       38.06      1011        76      26.33  11.19   \n",
       "3  1630990800  30.79       37.79      1011        75      25.84  11.01   \n",
       "4  1630994400  30.57       37.31      1010        73      25.18   9.09   \n",
       "\n",
       "   clouds  visibility  wind_speed  wind_deg  wind_gust  \\\n",
       "0      52       10000        6.07        72       7.21   \n",
       "1      50       10000        6.16        75       7.20   \n",
       "2      48       10000        5.87        82       6.82   \n",
       "3      44       10000        5.52        89       6.48   \n",
       "4      39       10000        5.13        93       6.07   \n",
       "\n",
       "                                             weather   pop rain  \n",
       "0  [{'id': 803, 'main': 'Clouds', 'description': ...  0.46  NaN  \n",
       "1  [{'id': 802, 'main': 'Clouds', 'description': ...  0.57  NaN  \n",
       "2  [{'id': 802, 'main': 'Clouds', 'description': ...  0.61  NaN  \n",
       "3  [{'id': 802, 'main': 'Clouds', 'description': ...  0.61  NaN  \n",
       "4  [{'id': 802, 'main': 'Clouds', 'description': ...  0.57  NaN  "
      ]
     },
     "execution_count": 10,
     "metadata": {},
     "output_type": "execute_result"
    }
   ],
   "source": [
    "df_hourly.head()"
   ]
  },
  {
   "cell_type": "code",
   "execution_count": null,
   "metadata": {},
   "outputs": [],
   "source": []
  }
 ],
 "metadata": {
  "interpreter": {
   "hash": "c1b4cfe941b6d2466ad1fb5979e97da9cda8801728c8091b097ab734208fc00c"
  },
  "kernelspec": {
   "display_name": "Python 3.8.3 64-bit ('base': conda)",
   "name": "python3"
  },
  "language_info": {
   "codemirror_mode": {
    "name": "ipython",
    "version": 3
   },
   "file_extension": ".py",
   "mimetype": "text/x-python",
   "name": "python",
   "nbconvert_exporter": "python",
   "pygments_lexer": "ipython3",
   "version": "3.8.11"
  }
 },
 "nbformat": 4,
 "nbformat_minor": 2
}
