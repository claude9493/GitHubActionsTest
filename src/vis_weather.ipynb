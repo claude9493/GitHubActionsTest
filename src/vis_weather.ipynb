{
 "cells": [
  {
   "cell_type": "code",
   "execution_count": 1,
   "metadata": {
    "execution": {
     "iopub.execute_input": "2021-09-04T07:36:17.857890Z",
     "iopub.status.busy": "2021-09-04T07:36:17.857119Z",
     "iopub.status.idle": "2021-09-04T07:36:19.108484Z",
     "shell.execute_reply": "2021-09-04T07:36:19.107488Z"
    }
   },
   "outputs": [],
   "source": [
    "import json, yaml, requests\r\n",
    "from datetime import datetime\r\n",
    "from dateutil import tz\r\n",
    "import pandas as pd\r\n",
    "from PIL import Image\r\n",
    "from io import BytesIO\r\n",
    "import matplotlib.pyplot as plt\r\n",
    "import seaborn\r\n",
    "\r\n",
    "CONFIG_PATH = \"../config/config.yaml\""
   ]
  },
  {
   "cell_type": "code",
   "execution_count": 2,
   "metadata": {
    "execution": {
     "iopub.execute_input": "2021-09-04T07:36:19.117929Z",
     "iopub.status.busy": "2021-09-04T07:36:19.113587Z",
     "iopub.status.idle": "2021-09-04T07:36:19.121026Z",
     "shell.execute_reply": "2021-09-04T07:36:19.120526Z"
    }
   },
   "outputs": [],
   "source": [
    "with open('../newest_ts', 'r') as f:\r\n",
    "    newest_ts = f.read()\r\n",
    "\r\n",
    "data_path = f\"../data/data_{newest_ts}.json\"\r\n",
    "with open(data_path, 'r') as f:\r\n",
    "    data = json.load(f)\r\n",
    "\r\n",
    "with open(CONFIG_PATH, \"r\") as stream:\r\n",
    "    config = yaml.safe_load(stream)\r\n",
    "\r\n",
    "TIME_ZONE = config['time_zone']\r\n",
    "DATETIME_FORMAT = config['dt_format']"
   ]
  },
  {
   "cell_type": "code",
   "execution_count": 3,
   "metadata": {
    "execution": {
     "iopub.execute_input": "2021-09-04T07:36:19.128409Z",
     "iopub.status.busy": "2021-09-04T07:36:19.126944Z",
     "iopub.status.idle": "2021-09-04T07:36:19.133245Z",
     "shell.execute_reply": "2021-09-04T07:36:19.133799Z"
    }
   },
   "outputs": [
    {
     "name": "stdout",
     "output_type": "stream",
     "text": [
      "Recent query happens at 2021-09-04 15:36:15 (CST).\n"
     ]
    }
   ],
   "source": [
    "def ts2dt(ts, format=DATETIME_FORMAT):\r\n",
    "    dt = (datetime.utcfromtimestamp(int(ts))\r\n",
    "                    .replace(tzinfo=tz.tzutc())\r\n",
    "                    # .astimezone(tz.tzlocal())\r\n",
    "                    .astimezone(tz.gettz(TIME_ZONE)))\r\n",
    "    return dt.strftime(format), dt\r\n",
    "\r\n",
    "_, newest_dt = ts2dt(newest_ts)\r\n",
    "print(f\"Recent query happens at {newest_dt.strftime(DATETIME_FORMAT)} ({newest_dt.tzname()}).\")"
   ]
  },
  {
   "cell_type": "code",
   "execution_count": 4,
   "metadata": {
    "execution": {
     "iopub.execute_input": "2021-09-04T07:36:19.139050Z",
     "iopub.status.busy": "2021-09-04T07:36:19.138205Z",
     "iopub.status.idle": "2021-09-04T07:36:19.142456Z",
     "shell.execute_reply": "2021-09-04T07:36:19.141968Z"
    }
   },
   "outputs": [],
   "source": [
    "def degrees_to_cardinal(d):\r\n",
    "  dirs = ['N', 'NNE', 'NE', 'ENE', 'E', 'ESE', 'SE', 'SSE', 'S', 'SSW', 'SW', 'WSW', 'W', 'WNW', 'NW', 'NNW']\r\n",
    "  ix = int(round(d / (360. / len(dirs))))\r\n",
    "  return dirs[ix % len(dirs)]"
   ]
  },
  {
   "cell_type": "code",
   "execution_count": 5,
   "metadata": {
    "execution": {
     "iopub.execute_input": "2021-09-04T07:36:19.146835Z",
     "iopub.status.busy": "2021-09-04T07:36:19.146098Z",
     "iopub.status.idle": "2021-09-04T07:36:19.149631Z",
     "shell.execute_reply": "2021-09-04T07:36:19.150133Z"
    }
   },
   "outputs": [],
   "source": [
    "# data.keys()"
   ]
  },
  {
   "cell_type": "code",
   "execution_count": 6,
   "metadata": {
    "execution": {
     "iopub.execute_input": "2021-09-04T07:36:19.153623Z",
     "iopub.status.busy": "2021-09-04T07:36:19.152975Z",
     "iopub.status.idle": "2021-09-04T07:36:19.156716Z",
     "shell.execute_reply": "2021-09-04T07:36:19.156220Z"
    }
   },
   "outputs": [],
   "source": [
    "# data['current']"
   ]
  },
  {
   "cell_type": "code",
   "execution_count": 7,
   "metadata": {
    "execution": {
     "iopub.execute_input": "2021-09-04T07:36:19.178032Z",
     "iopub.status.busy": "2021-09-04T07:36:19.177397Z",
     "iopub.status.idle": "2021-09-04T07:36:19.590658Z",
     "shell.execute_reply": "2021-09-04T07:36:19.591699Z"
    }
   },
   "outputs": [
    {
     "data": {
      "image/png": "[encoded data removed]",
      "text/plain": [
       "<Figure size 216x216 with 1 Axes>"
      ]
     },
     "metadata": {
      "needs_background": "light"
     },
     "output_type": "display_data"
    },
    {
     "name": "stdout",
     "output_type": "stream",
     "text": [
      "Today, sun rises at 06:06 and sets at 18:37.\n",
      "Currently, the weather is Clear (clear sky).\n",
      "The temperature is 31.75°C and it feels like 38.66°C.\n",
      "The UV index is 3.33, humidity is 67%.\n",
      "The pressure is 1007 hPa, percentage of cloud cover is 4%\n",
      "The wind comes from ESE direction with a speed 3.97 m/s.\n"
     ]
    }
   ],
   "source": [
    "current = data['current']\r\n",
    "\r\n",
    "fig, ax = plt.subplots(figsize=(3, 3))\r\n",
    "icon = requests.get(f\"http://openweathermap.org/img/wn/{current['weather'][0]['icon']}@2x.png\")\r\n",
    "im = Image.open(BytesIO(icon.content))\r\n",
    "plt.imshow(im)\r\n",
    "ax.set_axis_off()\r\n",
    "plt.show()\r\n",
    "\r\n",
    "print(f\"Today, sun rises at {ts2dt(current['sunrise'], '%H:%M')[0]} \\\r\n",
    "and sets at {ts2dt(current['sunset'], '%H:%M')[0]}.\\n\\\r\n",
    "Currently, the weather is {current['weather'][0]['main']} ({current['weather'][0]['description']}).\\n\\\r\n",
    "The temperature is {current['temp']}°C and it feels like {current['feels_like']}°C.\\n\\\r\n",
    "The UV index is {current['uvi']}, humidity is {current['humidity']}%.\\n\\\r\n",
    "The pressure is {current['pressure']} hPa, percentage of cloud cover is {current['clouds']}%\\n\\\r\n",
    "The wind comes from {degrees_to_cardinal(current['wind_deg'])} direction with a speed {current['wind_speed']} m/s.\")"
   ]
  },
  {
   "cell_type": "code",
   "execution_count": 8,
   "metadata": {
    "execution": {
     "iopub.execute_input": "2021-09-04T07:36:19.595247Z",
     "iopub.status.busy": "2021-09-04T07:36:19.594219Z",
     "iopub.status.idle": "2021-09-04T07:36:19.602141Z",
     "shell.execute_reply": "2021-09-04T07:36:19.603083Z"
    }
   },
   "outputs": [],
   "source": [
    "df_hourly = pd.DataFrame(data['hourly'])\r\n",
    "df_daily = pd.DataFrame(data['daily'])"
   ]
  },
  {
   "cell_type": "code",
   "execution_count": 9,
   "metadata": {
    "execution": {
     "iopub.execute_input": "2021-09-04T07:36:19.606530Z",
     "iopub.status.busy": "2021-09-04T07:36:19.605496Z",
     "iopub.status.idle": "2021-09-04T07:36:19.964376Z",
     "shell.execute_reply": "2021-09-04T07:36:19.963807Z"
    }
   },
   "outputs": [
    {
     "data": {
      "image/png": "[encoded data removed]",
      "text/plain": [
       "<Figure size 864x432 with 1 Axes>"
      ]
     },
     "metadata": {
      "needs_background": "light"
     },
     "output_type": "display_data"
    }
   ],
   "source": [
    "fig, ax = plt.subplots(figsize=(12, 6))\r\n",
    "plt.plot(df_hourly.temp, '.-', label='Temperature')\r\n",
    "plt.plot(df_hourly.feels_like, '.-', label='Feels Like')\r\n",
    "ax.set(title='Temperature in future 48 hours', xlabel='Time', ylabel='Temperature')\r\n",
    "ax.set_xticks(list(range(0, len(df_hourly), 2)))\r\n",
    "ax.set_xticklabels([ts2dt(ts, '%m-%d %H:%M')[0] for i, ts in enumerate(df_hourly.dt) if i%2==0], \r\n",
    "                   rotation=45, ha=\"right\")\r\n",
    "ax.locator_params(nbins=15, axis='y')\r\n",
    "plt.legend()\r\n",
    "plt.show()"
   ]
  },
  {
   "cell_type": "code",
   "execution_count": 10,
   "metadata": {
    "execution": {
     "iopub.execute_input": "2021-09-04T07:36:19.968455Z",
     "iopub.status.busy": "2021-09-04T07:36:19.966490Z",
     "iopub.status.idle": "2021-09-04T07:36:19.987556Z",
     "shell.execute_reply": "2021-09-04T07:36:19.987091Z"
    }
   },
   "outputs": [
    {
     "data": {
      "text/html": [
       "<div>\n",
       "<style scoped>\n",
       "    .dataframe tbody tr th:only-of-type {\n",
       "        vertical-align: middle;\n",
       "    }\n",
       "\n",
       "    .dataframe tbody tr th {\n",
       "        vertical-align: top;\n",
       "    }\n",
       "\n",
       "    .dataframe thead th {\n",
       "        text-align: right;\n",
       "    }\n",
       "</style>\n",
       "<table border=\"1\" class=\"dataframe\">\n",
       "  <thead>\n",
       "    <tr style=\"text-align: right;\">\n",
       "      <th></th>\n",
       "      <th>dt</th>\n",
       "      <th>temp</th>\n",
       "      <th>feels_like</th>\n",
       "      <th>pressure</th>\n",
       "      <th>humidity</th>\n",
       "      <th>dew_point</th>\n",
       "      <th>uvi</th>\n",
       "      <th>clouds</th>\n",
       "      <th>visibility</th>\n",
       "      <th>wind_speed</th>\n",
       "      <th>wind_deg</th>\n",
       "      <th>wind_gust</th>\n",
       "      <th>weather</th>\n",
       "      <th>pop</th>\n",
       "      <th>rain</th>\n",
       "    </tr>\n",
       "  </thead>\n",
       "  <tbody>\n",
       "    <tr>\n",
       "      <th>0</th>\n",
       "      <td>1630738800</td>\n",
       "      <td>31.42</td>\n",
       "      <td>37.48</td>\n",
       "      <td>1007</td>\n",
       "      <td>66</td>\n",
       "      <td>24.30</td>\n",
       "      <td>6.42</td>\n",
       "      <td>4</td>\n",
       "      <td>10000</td>\n",
       "      <td>3.81</td>\n",
       "      <td>113</td>\n",
       "      <td>3.29</td>\n",
       "      <td>[{'id': 800, 'main': 'Clear', 'description': '...</td>\n",
       "      <td>0.01</td>\n",
       "      <td>NaN</td>\n",
       "    </tr>\n",
       "    <tr>\n",
       "      <th>1</th>\n",
       "      <td>1630742400</td>\n",
       "      <td>31.75</td>\n",
       "      <td>38.66</td>\n",
       "      <td>1007</td>\n",
       "      <td>67</td>\n",
       "      <td>24.86</td>\n",
       "      <td>3.33</td>\n",
       "      <td>4</td>\n",
       "      <td>10000</td>\n",
       "      <td>3.97</td>\n",
       "      <td>111</td>\n",
       "      <td>3.84</td>\n",
       "      <td>[{'id': 800, 'main': 'Clear', 'description': '...</td>\n",
       "      <td>0.00</td>\n",
       "      <td>NaN</td>\n",
       "    </tr>\n",
       "    <tr>\n",
       "      <th>2</th>\n",
       "      <td>1630746000</td>\n",
       "      <td>31.32</td>\n",
       "      <td>37.84</td>\n",
       "      <td>1007</td>\n",
       "      <td>68</td>\n",
       "      <td>24.70</td>\n",
       "      <td>1.18</td>\n",
       "      <td>4</td>\n",
       "      <td>10000</td>\n",
       "      <td>3.64</td>\n",
       "      <td>109</td>\n",
       "      <td>4.02</td>\n",
       "      <td>[{'id': 800, 'main': 'Clear', 'description': '...</td>\n",
       "      <td>0.00</td>\n",
       "      <td>NaN</td>\n",
       "    </tr>\n",
       "    <tr>\n",
       "      <th>3</th>\n",
       "      <td>1630749600</td>\n",
       "      <td>30.63</td>\n",
       "      <td>36.62</td>\n",
       "      <td>1007</td>\n",
       "      <td>70</td>\n",
       "      <td>24.53</td>\n",
       "      <td>0.20</td>\n",
       "      <td>3</td>\n",
       "      <td>10000</td>\n",
       "      <td>3.59</td>\n",
       "      <td>112</td>\n",
       "      <td>4.45</td>\n",
       "      <td>[{'id': 800, 'main': 'Clear', 'description': '...</td>\n",
       "      <td>0.00</td>\n",
       "      <td>NaN</td>\n",
       "    </tr>\n",
       "    <tr>\n",
       "      <th>4</th>\n",
       "      <td>1630753200</td>\n",
       "      <td>29.73</td>\n",
       "      <td>35.33</td>\n",
       "      <td>1008</td>\n",
       "      <td>74</td>\n",
       "      <td>24.60</td>\n",
       "      <td>0.00</td>\n",
       "      <td>3</td>\n",
       "      <td>10000</td>\n",
       "      <td>3.56</td>\n",
       "      <td>124</td>\n",
       "      <td>4.75</td>\n",
       "      <td>[{'id': 800, 'main': 'Clear', 'description': '...</td>\n",
       "      <td>0.00</td>\n",
       "      <td>NaN</td>\n",
       "    </tr>\n",
       "  </tbody>\n",
       "</table>\n",
       "</div>"
      ],
      "text/plain": [
       "           dt   temp  feels_like  pressure  humidity  dew_point   uvi  clouds  \\\n",
       "0  1630738800  31.42       37.48      1007        66      24.30  6.42       4   \n",
       "1  1630742400  31.75       38.66      1007        67      24.86  3.33       4   \n",
       "2  1630746000  31.32       37.84      1007        68      24.70  1.18       4   \n",
       "3  1630749600  30.63       36.62      1007        70      24.53  0.20       3   \n",
       "4  1630753200  29.73       35.33      1008        74      24.60  0.00       3   \n",
       "\n",
       "   visibility  wind_speed  wind_deg  wind_gust  \\\n",
       "0       10000        3.81       113       3.29   \n",
       "1       10000        3.97       111       3.84   \n",
       "2       10000        3.64       109       4.02   \n",
       "3       10000        3.59       112       4.45   \n",
       "4       10000        3.56       124       4.75   \n",
       "\n",
       "                                             weather   pop rain  \n",
       "0  [{'id': 800, 'main': 'Clear', 'description': '...  0.01  NaN  \n",
       "1  [{'id': 800, 'main': 'Clear', 'description': '...  0.00  NaN  \n",
       "2  [{'id': 800, 'main': 'Clear', 'description': '...  0.00  NaN  \n",
       "3  [{'id': 800, 'main': 'Clear', 'description': '...  0.00  NaN  \n",
       "4  [{'id': 800, 'main': 'Clear', 'description': '...  0.00  NaN  "
      ]
     },
     "execution_count": 10,
     "metadata": {},
     "output_type": "execute_result"
    }
   ],
   "source": [
    "df_hourly.head()"
   ]
  },
  {
   "cell_type": "code",
   "execution_count": null,
   "metadata": {},
   "outputs": [],
   "source": []
  }
 ],
 "metadata": {
  "interpreter": {
   "hash": "c1b4cfe941b6d2466ad1fb5979e97da9cda8801728c8091b097ab734208fc00c"
  },
  "kernelspec": {
   "display_name": "Python 3.8.3 64-bit ('base': conda)",
   "name": "python3"
  },
  "language_info": {
   "codemirror_mode": {
    "name": "ipython",
    "version": 3
   },
   "file_extension": ".py",
   "mimetype": "text/x-python",
   "name": "python",
   "nbconvert_exporter": "python",
   "pygments_lexer": "ipython3",
   "version": "3.8.11"
  }
 },
 "nbformat": 4,
 "nbformat_minor": 2
}
