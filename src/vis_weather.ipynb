{
 "cells": [
  {
   "cell_type": "code",
   "execution_count": 1,
   "metadata": {
    "execution": {
     "iopub.execute_input": "2021-10-14T10:13:00.185689Z",
     "iopub.status.busy": "2021-10-14T10:13:00.185109Z",
     "iopub.status.idle": "2021-10-14T10:13:02.885298Z",
     "shell.execute_reply": "2021-10-14T10:13:02.884655Z"
    }
   },
   "outputs": [],
   "source": [
    "import json, yaml, requests\r\n",
    "from datetime import datetime\r\n",
    "from dateutil import tz\r\n",
    "import pandas as pd\r\n",
    "from PIL import Image\r\n",
    "from io import BytesIO\r\n",
    "import matplotlib.pyplot as plt\r\n",
    "import seaborn\r\n",
    "\r\n",
    "CONFIG_PATH = \"../config/config.yaml\""
   ]
  },
  {
   "cell_type": "code",
   "execution_count": 2,
   "metadata": {
    "execution": {
     "iopub.execute_input": "2021-10-14T10:13:02.892806Z",
     "iopub.status.busy": "2021-10-14T10:13:02.889919Z",
     "iopub.status.idle": "2021-10-14T10:13:02.895295Z",
     "shell.execute_reply": "2021-10-14T10:13:02.894916Z"
    }
   },
   "outputs": [],
   "source": [
    "with open('../newest_ts', 'r') as f:\r\n",
    "    newest_ts = f.read()\r\n",
    "\r\n",
    "data_path = f\"../data/data_{newest_ts}.json\"\r\n",
    "with open(data_path, 'r') as f:\r\n",
    "    data = json.load(f)\r\n",
    "\r\n",
    "with open(CONFIG_PATH, \"r\") as stream:\r\n",
    "    config = yaml.safe_load(stream)\r\n",
    "\r\n",
    "TIME_ZONE = config['time_zone']\r\n",
    "DATETIME_FORMAT = config['dt_format']"
   ]
  },
  {
   "cell_type": "code",
   "execution_count": 3,
   "metadata": {
    "execution": {
     "iopub.execute_input": "2021-10-14T10:13:02.899577Z",
     "iopub.status.busy": "2021-10-14T10:13:02.899120Z",
     "iopub.status.idle": "2021-10-14T10:13:02.904326Z",
     "shell.execute_reply": "2021-10-14T10:13:02.904696Z"
    }
   },
   "outputs": [
    {
     "name": "stdout",
     "output_type": "stream",
     "text": [
      "Recent query happens at 2021-10-14 18:12:57 (CST).\n"
     ]
    }
   ],
   "source": [
    "def ts2dt(ts, format=DATETIME_FORMAT):\r\n",
    "    dt = (datetime.utcfromtimestamp(int(ts))\r\n",
    "                    .replace(tzinfo=tz.tzutc())\r\n",
    "                    # .astimezone(tz.tzlocal())\r\n",
    "                    .astimezone(tz.gettz(TIME_ZONE)))\r\n",
    "    return dt.strftime(format), dt\r\n",
    "\r\n",
    "_, newest_dt = ts2dt(newest_ts)\r\n",
    "print(f\"Recent query happens at {newest_dt.strftime(DATETIME_FORMAT)} ({newest_dt.tzname()}).\")"
   ]
  },
  {
   "cell_type": "code",
   "execution_count": 4,
   "metadata": {
    "execution": {
     "iopub.execute_input": "2021-10-14T10:13:02.909536Z",
     "iopub.status.busy": "2021-10-14T10:13:02.908430Z",
     "iopub.status.idle": "2021-10-14T10:13:02.910053Z",
     "shell.execute_reply": "2021-10-14T10:13:02.910450Z"
    }
   },
   "outputs": [],
   "source": [
    "def degrees_to_cardinal(d):\r\n",
    "  dirs = ['N', 'NNE', 'NE', 'ENE', 'E', 'ESE', 'SE', 'SSE', 'S', 'SSW', 'SW', 'WSW', 'W', 'WNW', 'NW', 'NNW']\r\n",
    "  ix = int(round(d / (360. / len(dirs))))\r\n",
    "  return dirs[ix % len(dirs)]"
   ]
  },
  {
   "cell_type": "code",
   "execution_count": 5,
   "metadata": {
    "execution": {
     "iopub.execute_input": "2021-10-14T10:13:02.914210Z",
     "iopub.status.busy": "2021-10-14T10:13:02.913221Z",
     "iopub.status.idle": "2021-10-14T10:13:02.914756Z",
     "shell.execute_reply": "2021-10-14T10:13:02.915126Z"
    }
   },
   "outputs": [],
   "source": [
    "# data.keys()"
   ]
  },
  {
   "cell_type": "code",
   "execution_count": 6,
   "metadata": {
    "execution": {
     "iopub.execute_input": "2021-10-14T10:13:02.918831Z",
     "iopub.status.busy": "2021-10-14T10:13:02.917667Z",
     "iopub.status.idle": "2021-10-14T10:13:02.919357Z",
     "shell.execute_reply": "2021-10-14T10:13:02.919718Z"
    }
   },
   "outputs": [],
   "source": [
    "# data['current']"
   ]
  },
  {
   "cell_type": "code",
   "execution_count": 7,
   "metadata": {
    "execution": {
     "iopub.execute_input": "2021-10-14T10:13:02.936004Z",
     "iopub.status.busy": "2021-10-14T10:13:02.935537Z",
     "iopub.status.idle": "2021-10-14T10:13:03.321845Z",
     "shell.execute_reply": "2021-10-14T10:13:03.322545Z"
    }
   },
   "outputs": [
    {
     "data": {
      "image/png": "[encoded data removed]",
      "text/plain": [
       "<Figure size 216x216 with 1 Axes>"
      ]
     },
     "metadata": {
      "needs_background": "light"
     },
     "output_type": "display_data"
    },
    {
     "name": "stdout",
     "output_type": "stream",
     "text": [
      "Today, sun rises at 06:18 and sets at 17:59.\n",
      "Currently, the weather is Clouds (broken clouds).\n",
      "The temperature is 28.25°C and it feels like 33.08°C.\n",
      "The UV index is 0, humidity is 82%.\n",
      "The pressure is 1008 hPa, percentage of cloud cover is 74%\n",
      "The wind comes from E direction with a speed 4.02 m/s.\n"
     ]
    }
   ],
   "source": [
    "current = data['current']\r\n",
    "\r\n",
    "fig, ax = plt.subplots(figsize=(3, 3))\r\n",
    "icon = requests.get(f\"http://openweathermap.org/img/wn/{current['weather'][0]['icon']}@2x.png\")\r\n",
    "im = Image.open(BytesIO(icon.content))\r\n",
    "plt.imshow(im)\r\n",
    "ax.set_axis_off()\r\n",
    "plt.show()\r\n",
    "\r\n",
    "print(f\"Today, sun rises at {ts2dt(current['sunrise'], '%H:%M')[0]} \\\r\n",
    "and sets at {ts2dt(current['sunset'], '%H:%M')[0]}.\\n\\\r\n",
    "Currently, the weather is {current['weather'][0]['main']} ({current['weather'][0]['description']}).\\n\\\r\n",
    "The temperature is {current['temp']}°C and it feels like {current['feels_like']}°C.\\n\\\r\n",
    "The UV index is {current['uvi']}, humidity is {current['humidity']}%.\\n\\\r\n",
    "The pressure is {current['pressure']} hPa, percentage of cloud cover is {current['clouds']}%\\n\\\r\n",
    "The wind comes from {degrees_to_cardinal(current['wind_deg'])} direction with a speed {current['wind_speed']} m/s.\")"
   ]
  },
  {
   "cell_type": "code",
   "execution_count": 8,
   "metadata": {
    "execution": {
     "iopub.execute_input": "2021-10-14T10:13:03.325769Z",
     "iopub.status.busy": "2021-10-14T10:13:03.324841Z",
     "iopub.status.idle": "2021-10-14T10:13:03.331696Z",
     "shell.execute_reply": "2021-10-14T10:13:03.332332Z"
    }
   },
   "outputs": [],
   "source": [
    "df_hourly = pd.DataFrame(data['hourly'])\r\n",
    "df_daily = pd.DataFrame(data['daily'])"
   ]
  },
  {
   "cell_type": "code",
   "execution_count": 9,
   "metadata": {
    "execution": {
     "iopub.execute_input": "2021-10-14T10:13:03.335377Z",
     "iopub.status.busy": "2021-10-14T10:13:03.334447Z",
     "iopub.status.idle": "2021-10-14T10:13:03.578192Z",
     "shell.execute_reply": "2021-10-14T10:13:03.577734Z"
    }
   },
   "outputs": [
    {
     "data": {
      "image/png": "[encoded data removed]",
      "text/plain": [
       "<Figure size 864x432 with 1 Axes>"
      ]
     },
     "metadata": {
      "needs_background": "light"
     },
     "output_type": "display_data"
    }
   ],
   "source": [
    "fig, ax = plt.subplots(figsize=(12, 6))\r\n",
    "plt.plot(df_hourly.temp, '.-', label='Temperature')\r\n",
    "plt.plot(df_hourly.feels_like, '.-', label='Feels Like')\r\n",
    "ax.set(title='Temperature in future 48 hours', xlabel='Time', ylabel='Temperature')\r\n",
    "ax.set_xticks(list(range(0, len(df_hourly), 2)))\r\n",
    "ax.set_xticklabels([ts2dt(ts, '%m-%d %H:%M')[0] for i, ts in enumerate(df_hourly.dt) if i%2==0], \r\n",
    "                   rotation=45, ha=\"right\")\r\n",
    "ax.locator_params(nbins=15, axis='y')\r\n",
    "plt.legend()\r\n",
    "plt.show()"
   ]
  },
  {
   "cell_type": "code",
   "execution_count": 10,
   "metadata": {
    "execution": {
     "iopub.execute_input": "2021-10-14T10:13:03.589398Z",
     "iopub.status.busy": "2021-10-14T10:13:03.582169Z",
     "iopub.status.idle": "2021-10-14T10:13:03.599373Z",
     "shell.execute_reply": "2021-10-14T10:13:03.599750Z"
    }
   },
   "outputs": [
    {
     "data": {
      "text/html": [
       "<div>\n",
       "<style scoped>\n",
       "    .dataframe tbody tr th:only-of-type {\n",
       "        vertical-align: middle;\n",
       "    }\n",
       "\n",
       "    .dataframe tbody tr th {\n",
       "        vertical-align: top;\n",
       "    }\n",
       "\n",
       "    .dataframe thead th {\n",
       "        text-align: right;\n",
       "    }\n",
       "</style>\n",
       "<table border=\"1\" class=\"dataframe\">\n",
       "  <thead>\n",
       "    <tr style=\"text-align: right;\">\n",
       "      <th></th>\n",
       "      <th>dt</th>\n",
       "      <th>temp</th>\n",
       "      <th>feels_like</th>\n",
       "      <th>pressure</th>\n",
       "      <th>humidity</th>\n",
       "      <th>dew_point</th>\n",
       "      <th>uvi</th>\n",
       "      <th>clouds</th>\n",
       "      <th>visibility</th>\n",
       "      <th>wind_speed</th>\n",
       "      <th>wind_deg</th>\n",
       "      <th>wind_gust</th>\n",
       "      <th>weather</th>\n",
       "      <th>pop</th>\n",
       "      <th>rain</th>\n",
       "    </tr>\n",
       "  </thead>\n",
       "  <tbody>\n",
       "    <tr>\n",
       "      <th>0</th>\n",
       "      <td>1634205600</td>\n",
       "      <td>28.25</td>\n",
       "      <td>33.08</td>\n",
       "      <td>1008</td>\n",
       "      <td>82</td>\n",
       "      <td>24.88</td>\n",
       "      <td>0.0</td>\n",
       "      <td>74</td>\n",
       "      <td>10000</td>\n",
       "      <td>4.22</td>\n",
       "      <td>68</td>\n",
       "      <td>5.96</td>\n",
       "      <td>[{'id': 500, 'main': 'Rain', 'description': 'l...</td>\n",
       "      <td>1.00</td>\n",
       "      <td>{'1h': 0.51}</td>\n",
       "    </tr>\n",
       "    <tr>\n",
       "      <th>1</th>\n",
       "      <td>1634209200</td>\n",
       "      <td>27.85</td>\n",
       "      <td>32.17</td>\n",
       "      <td>1008</td>\n",
       "      <td>83</td>\n",
       "      <td>24.69</td>\n",
       "      <td>0.0</td>\n",
       "      <td>75</td>\n",
       "      <td>10000</td>\n",
       "      <td>4.46</td>\n",
       "      <td>64</td>\n",
       "      <td>6.23</td>\n",
       "      <td>[{'id': 803, 'main': 'Clouds', 'description': ...</td>\n",
       "      <td>0.80</td>\n",
       "      <td>NaN</td>\n",
       "    </tr>\n",
       "    <tr>\n",
       "      <th>2</th>\n",
       "      <td>1634212800</td>\n",
       "      <td>27.32</td>\n",
       "      <td>30.93</td>\n",
       "      <td>1009</td>\n",
       "      <td>84</td>\n",
       "      <td>24.38</td>\n",
       "      <td>0.0</td>\n",
       "      <td>77</td>\n",
       "      <td>10000</td>\n",
       "      <td>3.94</td>\n",
       "      <td>63</td>\n",
       "      <td>5.50</td>\n",
       "      <td>[{'id': 803, 'main': 'Clouds', 'description': ...</td>\n",
       "      <td>0.80</td>\n",
       "      <td>NaN</td>\n",
       "    </tr>\n",
       "    <tr>\n",
       "      <th>3</th>\n",
       "      <td>1634216400</td>\n",
       "      <td>26.65</td>\n",
       "      <td>26.65</td>\n",
       "      <td>1010</td>\n",
       "      <td>85</td>\n",
       "      <td>23.92</td>\n",
       "      <td>0.0</td>\n",
       "      <td>90</td>\n",
       "      <td>10000</td>\n",
       "      <td>3.29</td>\n",
       "      <td>39</td>\n",
       "      <td>4.65</td>\n",
       "      <td>[{'id': 500, 'main': 'Rain', 'description': 'l...</td>\n",
       "      <td>0.65</td>\n",
       "      <td>{'1h': 0.52}</td>\n",
       "    </tr>\n",
       "    <tr>\n",
       "      <th>4</th>\n",
       "      <td>1634220000</td>\n",
       "      <td>25.70</td>\n",
       "      <td>26.57</td>\n",
       "      <td>1010</td>\n",
       "      <td>86</td>\n",
       "      <td>23.18</td>\n",
       "      <td>0.0</td>\n",
       "      <td>95</td>\n",
       "      <td>10000</td>\n",
       "      <td>3.18</td>\n",
       "      <td>23</td>\n",
       "      <td>4.04</td>\n",
       "      <td>[{'id': 500, 'main': 'Rain', 'description': 'l...</td>\n",
       "      <td>0.65</td>\n",
       "      <td>{'1h': 0.61}</td>\n",
       "    </tr>\n",
       "  </tbody>\n",
       "</table>\n",
       "</div>"
      ],
      "text/plain": [
       "           dt   temp  feels_like  pressure  humidity  dew_point  uvi  clouds  \\\n",
       "0  1634205600  28.25       33.08      1008        82      24.88  0.0      74   \n",
       "1  1634209200  27.85       32.17      1008        83      24.69  0.0      75   \n",
       "2  1634212800  27.32       30.93      1009        84      24.38  0.0      77   \n",
       "3  1634216400  26.65       26.65      1010        85      23.92  0.0      90   \n",
       "4  1634220000  25.70       26.57      1010        86      23.18  0.0      95   \n",
       "\n",
       "   visibility  wind_speed  wind_deg  wind_gust  \\\n",
       "0       10000        4.22        68       5.96   \n",
       "1       10000        4.46        64       6.23   \n",
       "2       10000        3.94        63       5.50   \n",
       "3       10000        3.29        39       4.65   \n",
       "4       10000        3.18        23       4.04   \n",
       "\n",
       "                                             weather   pop          rain  \n",
       "0  [{'id': 500, 'main': 'Rain', 'description': 'l...  1.00  {'1h': 0.51}  \n",
       "1  [{'id': 803, 'main': 'Clouds', 'description': ...  0.80           NaN  \n",
       "2  [{'id': 803, 'main': 'Clouds', 'description': ...  0.80           NaN  \n",
       "3  [{'id': 500, 'main': 'Rain', 'description': 'l...  0.65  {'1h': 0.52}  \n",
       "4  [{'id': 500, 'main': 'Rain', 'description': 'l...  0.65  {'1h': 0.61}  "
      ]
     },
     "execution_count": 10,
     "metadata": {},
     "output_type": "execute_result"
    }
   ],
   "source": [
    "df_hourly.head()"
   ]
  },
  {
   "cell_type": "code",
   "execution_count": null,
   "metadata": {},
   "outputs": [],
   "source": []
  }
 ],
 "metadata": {
  "interpreter": {
   "hash": "c1b4cfe941b6d2466ad1fb5979e97da9cda8801728c8091b097ab734208fc00c"
  },
  "kernelspec": {
   "display_name": "Python 3.8.3 64-bit ('base': conda)",
   "name": "python3"
  },
  "language_info": {
   "codemirror_mode": {
    "name": "ipython",
    "version": 3
   },
   "file_extension": ".py",
   "mimetype": "text/x-python",
   "name": "python",
   "nbconvert_exporter": "python",
   "pygments_lexer": "ipython3",
   "version": "3.8.12"
  }
 },
 "nbformat": 4,
 "nbformat_minor": 2
}
