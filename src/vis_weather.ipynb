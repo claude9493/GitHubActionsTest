{
 "cells": [
  {
   "cell_type": "code",
   "execution_count": 1,
   "metadata": {
    "execution": {
     "iopub.execute_input": "2021-08-28T10:16:34.105031Z",
     "iopub.status.busy": "2021-08-28T10:16:34.104432Z",
     "iopub.status.idle": "2021-08-28T10:16:36.877718Z",
     "shell.execute_reply": "2021-08-28T10:16:36.877026Z"
    }
   },
   "outputs": [],
   "source": [
    "import json, yaml, requests\r\n",
    "from datetime import datetime\r\n",
    "from dateutil import tz\r\n",
    "import pandas as pd\r\n",
    "from PIL import Image\r\n",
    "from io import BytesIO\r\n",
    "import matplotlib.pyplot as plt\r\n",
    "import seaborn\r\n",
    "\r\n",
    "CONFIG_PATH = \"../config/config.yaml\""
   ]
  },
  {
   "cell_type": "code",
   "execution_count": 2,
   "metadata": {
    "execution": {
     "iopub.execute_input": "2021-08-28T10:16:36.885394Z",
     "iopub.status.busy": "2021-08-28T10:16:36.882323Z",
     "iopub.status.idle": "2021-08-28T10:16:36.888599Z",
     "shell.execute_reply": "2021-08-28T10:16:36.888088Z"
    }
   },
   "outputs": [],
   "source": [
    "with open('../newest_ts', 'r') as f:\r\n",
    "    newest_ts = f.read()\r\n",
    "\r\n",
    "data_path = f\"../data/data_{newest_ts}.json\"\r\n",
    "with open(data_path, 'r') as f:\r\n",
    "    data = json.load(f)\r\n",
    "\r\n",
    "with open(CONFIG_PATH, \"r\") as stream:\r\n",
    "    config = yaml.safe_load(stream)\r\n",
    "\r\n",
    "TIME_ZONE = config['time_zone']\r\n",
    "DATETIME_FORMAT = config['dt_format']"
   ]
  },
  {
   "cell_type": "code",
   "execution_count": 3,
   "metadata": {
    "execution": {
     "iopub.execute_input": "2021-08-28T10:16:36.893447Z",
     "iopub.status.busy": "2021-08-28T10:16:36.892659Z",
     "iopub.status.idle": "2021-08-28T10:16:36.906894Z",
     "shell.execute_reply": "2021-08-28T10:16:36.906124Z"
    }
   },
   "outputs": [
    {
     "name": "stdout",
     "output_type": "stream",
     "text": [
      "Recent query happens at 2021-08-28 18:16:31 (CST).\n"
     ]
    }
   ],
   "source": [
    "def ts2dt(ts, format=DATETIME_FORMAT):\r\n",
    "    dt = (datetime.utcfromtimestamp(int(ts))\r\n",
    "                    .replace(tzinfo=tz.tzutc())\r\n",
    "                    # .astimezone(tz.tzlocal())\r\n",
    "                    .astimezone(tz.gettz(TIME_ZONE)))\r\n",
    "    return dt.strftime(format), dt\r\n",
    "\r\n",
    "_, newest_dt = ts2dt(newest_ts)\r\n",
    "print(f\"Recent query happens at {newest_dt.strftime(DATETIME_FORMAT)} ({newest_dt.tzname()}).\")"
   ]
  },
  {
   "cell_type": "code",
   "execution_count": 4,
   "metadata": {
    "execution": {
     "iopub.execute_input": "2021-08-28T10:16:36.911438Z",
     "iopub.status.busy": "2021-08-28T10:16:36.910923Z",
     "iopub.status.idle": "2021-08-28T10:16:36.914009Z",
     "shell.execute_reply": "2021-08-28T10:16:36.914604Z"
    }
   },
   "outputs": [],
   "source": [
    "def degrees_to_cardinal(d):\r\n",
    "  dirs = ['N', 'NNE', 'NE', 'ENE', 'E', 'ESE', 'SE', 'SSE', 'S', 'SSW', 'SW', 'WSW', 'W', 'WNW', 'NW', 'NNW']\r\n",
    "  ix = int(round(d / (360. / len(dirs))))\r\n",
    "  return dirs[ix % len(dirs)]"
   ]
  },
  {
   "cell_type": "code",
   "execution_count": 5,
   "metadata": {
    "execution": {
     "iopub.execute_input": "2021-08-28T10:16:36.918142Z",
     "iopub.status.busy": "2021-08-28T10:16:36.917437Z",
     "iopub.status.idle": "2021-08-28T10:16:36.921183Z",
     "shell.execute_reply": "2021-08-28T10:16:36.920759Z"
    }
   },
   "outputs": [],
   "source": [
    "# data.keys()"
   ]
  },
  {
   "cell_type": "code",
   "execution_count": 6,
   "metadata": {
    "execution": {
     "iopub.execute_input": "2021-08-28T10:16:36.924832Z",
     "iopub.status.busy": "2021-08-28T10:16:36.924190Z",
     "iopub.status.idle": "2021-08-28T10:16:36.928235Z",
     "shell.execute_reply": "2021-08-28T10:16:36.927440Z"
    }
   },
   "outputs": [],
   "source": [
    "# data['current']"
   ]
  },
  {
   "cell_type": "code",
   "execution_count": 7,
   "metadata": {
    "execution": {
     "iopub.execute_input": "2021-08-28T10:16:36.947180Z",
     "iopub.status.busy": "2021-08-28T10:16:36.946617Z",
     "iopub.status.idle": "2021-08-28T10:16:37.436357Z",
     "shell.execute_reply": "2021-08-28T10:16:37.437066Z"
    }
   },
   "outputs": [
    {
     "data": {
      "image/png": "[encoded data removed]",
      "text/plain": [
       "<Figure size 216x216 with 1 Axes>"
      ]
     },
     "metadata": {
      "needs_background": "light"
     },
     "output_type": "display_data"
    },
    {
     "name": "stdout",
     "output_type": "stream",
     "text": [
      "Today, sun rises at 06:04 and sets at 18:44.\n",
      "Currently, the weather is Clouds (scattered clouds).\n",
      "The temperature is 29.02°C and it feels like 34.16°C.\n",
      "The UV index is 0.07, humidity is 77%.\n",
      "The pressure is 1009 hPa, percentage of cloud cover is 39%\n",
      "The wind comes from E direction with a speed 3.93 m/s.\n"
     ]
    }
   ],
   "source": [
    "current = data['current']\r\n",
    "\r\n",
    "fig, ax = plt.subplots(figsize=(3, 3))\r\n",
    "icon = requests.get(f\"http://openweathermap.org/img/wn/{current['weather'][0]['icon']}@2x.png\")\r\n",
    "im = Image.open(BytesIO(icon.content))\r\n",
    "plt.imshow(im)\r\n",
    "ax.set_axis_off()\r\n",
    "plt.show()\r\n",
    "\r\n",
    "print(f\"Today, sun rises at {ts2dt(current['sunrise'], '%H:%M')[0]} \\\r\n",
    "and sets at {ts2dt(current['sunset'], '%H:%M')[0]}.\\n\\\r\n",
    "Currently, the weather is {current['weather'][0]['main']} ({current['weather'][0]['description']}).\\n\\\r\n",
    "The temperature is {current['temp']}°C and it feels like {current['feels_like']}°C.\\n\\\r\n",
    "The UV index is {current['uvi']}, humidity is {current['humidity']}%.\\n\\\r\n",
    "The pressure is {current['pressure']} hPa, percentage of cloud cover is {current['clouds']}%\\n\\\r\n",
    "The wind comes from {degrees_to_cardinal(current['wind_deg'])} direction with a speed {current['wind_speed']} m/s.\")"
   ]
  },
  {
   "cell_type": "code",
   "execution_count": 8,
   "metadata": {
    "execution": {
     "iopub.execute_input": "2021-08-28T10:16:37.440535Z",
     "iopub.status.busy": "2021-08-28T10:16:37.439345Z",
     "iopub.status.idle": "2021-08-28T10:16:37.447412Z",
     "shell.execute_reply": "2021-08-28T10:16:37.448126Z"
    }
   },
   "outputs": [],
   "source": [
    "df_hourly = pd.DataFrame(data['hourly'])\r\n",
    "df_daily = pd.DataFrame(data['daily'])"
   ]
  },
  {
   "cell_type": "code",
   "execution_count": 9,
   "metadata": {
    "execution": {
     "iopub.execute_input": "2021-08-28T10:16:37.451471Z",
     "iopub.status.busy": "2021-08-28T10:16:37.450253Z",
     "iopub.status.idle": "2021-08-28T10:16:37.756986Z",
     "shell.execute_reply": "2021-08-28T10:16:37.756272Z"
    }
   },
   "outputs": [
    {
     "data": {
      "image/png": "[encoded data removed]",
      "text/plain": [
       "<Figure size 864x432 with 1 Axes>"
      ]
     },
     "metadata": {
      "needs_background": "light"
     },
     "output_type": "display_data"
    }
   ],
   "source": [
    "fig, ax = plt.subplots(figsize=(12, 6))\r\n",
    "plt.plot(df_hourly.temp, '.-', label='Temperature')\r\n",
    "plt.plot(df_hourly.feels_like, '.-', label='Feels Like')\r\n",
    "ax.set(title='Temperature in future 48 hours', xlabel='Time', ylabel='Temperature')\r\n",
    "ax.set_xticks(list(range(0, len(df_hourly), 2)))\r\n",
    "ax.set_xticklabels([ts2dt(ts, '%m-%d %H:%M')[0] for i, ts in enumerate(df_hourly.dt) if i%2==0], \r\n",
    "                   rotation=45, ha=\"right\")\r\n",
    "ax.locator_params(nbins=15, axis='y')\r\n",
    "plt.legend()\r\n",
    "plt.show()"
   ]
  },
  {
   "cell_type": "code",
   "execution_count": 10,
   "metadata": {
    "execution": {
     "iopub.execute_input": "2021-08-28T10:16:37.761325Z",
     "iopub.status.busy": "2021-08-28T10:16:37.760807Z",
     "iopub.status.idle": "2021-08-28T10:16:37.779969Z",
     "shell.execute_reply": "2021-08-28T10:16:37.779495Z"
    }
   },
   "outputs": [
    {
     "data": {
      "text/html": [
       "<div>\n",
       "<style scoped>\n",
       "    .dataframe tbody tr th:only-of-type {\n",
       "        vertical-align: middle;\n",
       "    }\n",
       "\n",
       "    .dataframe tbody tr th {\n",
       "        vertical-align: top;\n",
       "    }\n",
       "\n",
       "    .dataframe thead th {\n",
       "        text-align: right;\n",
       "    }\n",
       "</style>\n",
       "<table border=\"1\" class=\"dataframe\">\n",
       "  <thead>\n",
       "    <tr style=\"text-align: right;\">\n",
       "      <th></th>\n",
       "      <th>dt</th>\n",
       "      <th>temp</th>\n",
       "      <th>feels_like</th>\n",
       "      <th>pressure</th>\n",
       "      <th>humidity</th>\n",
       "      <th>dew_point</th>\n",
       "      <th>uvi</th>\n",
       "      <th>clouds</th>\n",
       "      <th>visibility</th>\n",
       "      <th>wind_speed</th>\n",
       "      <th>wind_deg</th>\n",
       "      <th>wind_gust</th>\n",
       "      <th>weather</th>\n",
       "      <th>pop</th>\n",
       "      <th>rain</th>\n",
       "    </tr>\n",
       "  </thead>\n",
       "  <tbody>\n",
       "    <tr>\n",
       "      <th>0</th>\n",
       "      <td>1630144800</td>\n",
       "      <td>29.02</td>\n",
       "      <td>34.16</td>\n",
       "      <td>1009</td>\n",
       "      <td>77</td>\n",
       "      <td>24.58</td>\n",
       "      <td>0.07</td>\n",
       "      <td>39</td>\n",
       "      <td>10000</td>\n",
       "      <td>3.93</td>\n",
       "      <td>94</td>\n",
       "      <td>5.95</td>\n",
       "      <td>[{'id': 802, 'main': 'Clouds', 'description': ...</td>\n",
       "      <td>0.47</td>\n",
       "      <td>NaN</td>\n",
       "    </tr>\n",
       "    <tr>\n",
       "      <th>1</th>\n",
       "      <td>1630148400</td>\n",
       "      <td>28.88</td>\n",
       "      <td>33.60</td>\n",
       "      <td>1009</td>\n",
       "      <td>76</td>\n",
       "      <td>24.22</td>\n",
       "      <td>0.00</td>\n",
       "      <td>39</td>\n",
       "      <td>10000</td>\n",
       "      <td>3.84</td>\n",
       "      <td>93</td>\n",
       "      <td>5.38</td>\n",
       "      <td>[{'id': 802, 'main': 'Clouds', 'description': ...</td>\n",
       "      <td>0.47</td>\n",
       "      <td>NaN</td>\n",
       "    </tr>\n",
       "    <tr>\n",
       "      <th>2</th>\n",
       "      <td>1630152000</td>\n",
       "      <td>28.60</td>\n",
       "      <td>32.91</td>\n",
       "      <td>1009</td>\n",
       "      <td>76</td>\n",
       "      <td>23.95</td>\n",
       "      <td>0.00</td>\n",
       "      <td>39</td>\n",
       "      <td>10000</td>\n",
       "      <td>4.07</td>\n",
       "      <td>92</td>\n",
       "      <td>5.83</td>\n",
       "      <td>[{'id': 802, 'main': 'Clouds', 'description': ...</td>\n",
       "      <td>0.54</td>\n",
       "      <td>NaN</td>\n",
       "    </tr>\n",
       "    <tr>\n",
       "      <th>3</th>\n",
       "      <td>1630155600</td>\n",
       "      <td>28.26</td>\n",
       "      <td>32.59</td>\n",
       "      <td>1010</td>\n",
       "      <td>79</td>\n",
       "      <td>24.27</td>\n",
       "      <td>0.00</td>\n",
       "      <td>50</td>\n",
       "      <td>10000</td>\n",
       "      <td>4.15</td>\n",
       "      <td>99</td>\n",
       "      <td>6.14</td>\n",
       "      <td>[{'id': 501, 'main': 'Rain', 'description': 'm...</td>\n",
       "      <td>0.74</td>\n",
       "      <td>{'1h': 1.01}</td>\n",
       "    </tr>\n",
       "    <tr>\n",
       "      <th>4</th>\n",
       "      <td>1630159200</td>\n",
       "      <td>28.07</td>\n",
       "      <td>32.12</td>\n",
       "      <td>1011</td>\n",
       "      <td>79</td>\n",
       "      <td>24.08</td>\n",
       "      <td>0.00</td>\n",
       "      <td>69</td>\n",
       "      <td>10000</td>\n",
       "      <td>4.10</td>\n",
       "      <td>100</td>\n",
       "      <td>6.16</td>\n",
       "      <td>[{'id': 501, 'main': 'Rain', 'description': 'm...</td>\n",
       "      <td>0.78</td>\n",
       "      <td>{'1h': 1.36}</td>\n",
       "    </tr>\n",
       "  </tbody>\n",
       "</table>\n",
       "</div>"
      ],
      "text/plain": [
       "           dt   temp  feels_like  pressure  humidity  dew_point   uvi  clouds  \\\n",
       "0  1630144800  29.02       34.16      1009        77      24.58  0.07      39   \n",
       "1  1630148400  28.88       33.60      1009        76      24.22  0.00      39   \n",
       "2  1630152000  28.60       32.91      1009        76      23.95  0.00      39   \n",
       "3  1630155600  28.26       32.59      1010        79      24.27  0.00      50   \n",
       "4  1630159200  28.07       32.12      1011        79      24.08  0.00      69   \n",
       "\n",
       "   visibility  wind_speed  wind_deg  wind_gust  \\\n",
       "0       10000        3.93        94       5.95   \n",
       "1       10000        3.84        93       5.38   \n",
       "2       10000        4.07        92       5.83   \n",
       "3       10000        4.15        99       6.14   \n",
       "4       10000        4.10       100       6.16   \n",
       "\n",
       "                                             weather   pop          rain  \n",
       "0  [{'id': 802, 'main': 'Clouds', 'description': ...  0.47           NaN  \n",
       "1  [{'id': 802, 'main': 'Clouds', 'description': ...  0.47           NaN  \n",
       "2  [{'id': 802, 'main': 'Clouds', 'description': ...  0.54           NaN  \n",
       "3  [{'id': 501, 'main': 'Rain', 'description': 'm...  0.74  {'1h': 1.01}  \n",
       "4  [{'id': 501, 'main': 'Rain', 'description': 'm...  0.78  {'1h': 1.36}  "
      ]
     },
     "execution_count": 10,
     "metadata": {},
     "output_type": "execute_result"
    }
   ],
   "source": [
    "df_hourly.head()"
   ]
  },
  {
   "cell_type": "code",
   "execution_count": null,
   "metadata": {},
   "outputs": [],
   "source": []
  }
 ],
 "metadata": {
  "interpreter": {
   "hash": "c1b4cfe941b6d2466ad1fb5979e97da9cda8801728c8091b097ab734208fc00c"
  },
  "kernelspec": {
   "display_name": "Python 3.8.3 64-bit ('base': conda)",
   "name": "python3"
  },
  "language_info": {
   "codemirror_mode": {
    "name": "ipython",
    "version": 3
   },
   "file_extension": ".py",
   "mimetype": "text/x-python",
   "name": "python",
   "nbconvert_exporter": "python",
   "pygments_lexer": "ipython3",
   "version": "3.8.11"
  }
 },
 "nbformat": 4,
 "nbformat_minor": 2
}
