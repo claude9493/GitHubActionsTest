{
 "cells": [
  {
   "cell_type": "code",
   "execution_count": 1,
   "metadata": {
    "execution": {
     "iopub.execute_input": "2021-10-02T19:09:30.086957Z",
     "iopub.status.busy": "2021-10-02T19:09:30.086127Z",
     "iopub.status.idle": "2021-10-02T19:09:32.831756Z",
     "shell.execute_reply": "2021-10-02T19:09:32.831034Z"
    }
   },
   "outputs": [],
   "source": [
    "import json, yaml, requests\r\n",
    "from datetime import datetime\r\n",
    "from dateutil import tz\r\n",
    "import pandas as pd\r\n",
    "from PIL import Image\r\n",
    "from io import BytesIO\r\n",
    "import matplotlib.pyplot as plt\r\n",
    "import seaborn\r\n",
    "\r\n",
    "CONFIG_PATH = \"../config/config.yaml\""
   ]
  },
  {
   "cell_type": "code",
   "execution_count": 2,
   "metadata": {
    "execution": {
     "iopub.execute_input": "2021-10-02T19:09:32.836658Z",
     "iopub.status.busy": "2021-10-02T19:09:32.835696Z",
     "iopub.status.idle": "2021-10-02T19:09:32.841779Z",
     "shell.execute_reply": "2021-10-02T19:09:32.840962Z"
    }
   },
   "outputs": [],
   "source": [
    "with open('../newest_ts', 'r') as f:\r\n",
    "    newest_ts = f.read()\r\n",
    "\r\n",
    "data_path = f\"../data/data_{newest_ts}.json\"\r\n",
    "with open(data_path, 'r') as f:\r\n",
    "    data = json.load(f)\r\n",
    "\r\n",
    "with open(CONFIG_PATH, \"r\") as stream:\r\n",
    "    config = yaml.safe_load(stream)\r\n",
    "\r\n",
    "TIME_ZONE = config['time_zone']\r\n",
    "DATETIME_FORMAT = config['dt_format']"
   ]
  },
  {
   "cell_type": "code",
   "execution_count": 3,
   "metadata": {
    "execution": {
     "iopub.execute_input": "2021-10-02T19:09:32.846735Z",
     "iopub.status.busy": "2021-10-02T19:09:32.846153Z",
     "iopub.status.idle": "2021-10-02T19:09:32.857930Z",
     "shell.execute_reply": "2021-10-02T19:09:32.858337Z"
    }
   },
   "outputs": [
    {
     "name": "stdout",
     "output_type": "stream",
     "text": [
      "Recent query happens at 2021-10-03 03:09:26 (CST).\n"
     ]
    }
   ],
   "source": [
    "def ts2dt(ts, format=DATETIME_FORMAT):\r\n",
    "    dt = (datetime.utcfromtimestamp(int(ts))\r\n",
    "                    .replace(tzinfo=tz.tzutc())\r\n",
    "                    # .astimezone(tz.tzlocal())\r\n",
    "                    .astimezone(tz.gettz(TIME_ZONE)))\r\n",
    "    return dt.strftime(format), dt\r\n",
    "\r\n",
    "_, newest_dt = ts2dt(newest_ts)\r\n",
    "print(f\"Recent query happens at {newest_dt.strftime(DATETIME_FORMAT)} ({newest_dt.tzname()}).\")"
   ]
  },
  {
   "cell_type": "code",
   "execution_count": 4,
   "metadata": {
    "execution": {
     "iopub.execute_input": "2021-10-02T19:09:32.864166Z",
     "iopub.status.busy": "2021-10-02T19:09:32.862970Z",
     "iopub.status.idle": "2021-10-02T19:09:32.864789Z",
     "shell.execute_reply": "2021-10-02T19:09:32.865183Z"
    }
   },
   "outputs": [],
   "source": [
    "def degrees_to_cardinal(d):\r\n",
    "  dirs = ['N', 'NNE', 'NE', 'ENE', 'E', 'ESE', 'SE', 'SSE', 'S', 'SSW', 'SW', 'WSW', 'W', 'WNW', 'NW', 'NNW']\r\n",
    "  ix = int(round(d / (360. / len(dirs))))\r\n",
    "  return dirs[ix % len(dirs)]"
   ]
  },
  {
   "cell_type": "code",
   "execution_count": 5,
   "metadata": {
    "execution": {
     "iopub.execute_input": "2021-10-02T19:09:32.868966Z",
     "iopub.status.busy": "2021-10-02T19:09:32.868403Z",
     "iopub.status.idle": "2021-10-02T19:09:32.872463Z",
     "shell.execute_reply": "2021-10-02T19:09:32.871945Z"
    }
   },
   "outputs": [],
   "source": [
    "# data.keys()"
   ]
  },
  {
   "cell_type": "code",
   "execution_count": 6,
   "metadata": {
    "execution": {
     "iopub.execute_input": "2021-10-02T19:09:32.875663Z",
     "iopub.status.busy": "2021-10-02T19:09:32.875137Z",
     "iopub.status.idle": "2021-10-02T19:09:32.878757Z",
     "shell.execute_reply": "2021-10-02T19:09:32.878279Z"
    }
   },
   "outputs": [],
   "source": [
    "# data['current']"
   ]
  },
  {
   "cell_type": "code",
   "execution_count": 7,
   "metadata": {
    "execution": {
     "iopub.execute_input": "2021-10-02T19:09:32.889051Z",
     "iopub.status.busy": "2021-10-02T19:09:32.887965Z",
     "iopub.status.idle": "2021-10-02T19:09:33.314878Z",
     "shell.execute_reply": "2021-10-02T19:09:33.315662Z"
    }
   },
   "outputs": [
    {
     "data": {
      "image/png": "[encoded data removed]",
      "text/plain": [
       "<Figure size 216x216 with 1 Axes>"
      ]
     },
     "metadata": {
      "needs_background": "light"
     },
     "output_type": "display_data"
    },
    {
     "name": "stdout",
     "output_type": "stream",
     "text": [
      "Today, sun rises at 06:14 and sets at 18:09.\n",
      "Currently, the weather is Clouds (broken clouds).\n",
      "The temperature is 29.14°C and it feels like 35.13°C.\n",
      "The UV index is 0, humidity is 80%.\n",
      "The pressure is 1010 hPa, percentage of cloud cover is 79%\n",
      "The wind comes from E direction with a speed 0.89 m/s.\n"
     ]
    }
   ],
   "source": [
    "current = data['current']\r\n",
    "\r\n",
    "fig, ax = plt.subplots(figsize=(3, 3))\r\n",
    "icon = requests.get(f\"http://openweathermap.org/img/wn/{current['weather'][0]['icon']}@2x.png\")\r\n",
    "im = Image.open(BytesIO(icon.content))\r\n",
    "plt.imshow(im)\r\n",
    "ax.set_axis_off()\r\n",
    "plt.show()\r\n",
    "\r\n",
    "print(f\"Today, sun rises at {ts2dt(current['sunrise'], '%H:%M')[0]} \\\r\n",
    "and sets at {ts2dt(current['sunset'], '%H:%M')[0]}.\\n\\\r\n",
    "Currently, the weather is {current['weather'][0]['main']} ({current['weather'][0]['description']}).\\n\\\r\n",
    "The temperature is {current['temp']}°C and it feels like {current['feels_like']}°C.\\n\\\r\n",
    "The UV index is {current['uvi']}, humidity is {current['humidity']}%.\\n\\\r\n",
    "The pressure is {current['pressure']} hPa, percentage of cloud cover is {current['clouds']}%\\n\\\r\n",
    "The wind comes from {degrees_to_cardinal(current['wind_deg'])} direction with a speed {current['wind_speed']} m/s.\")"
   ]
  },
  {
   "cell_type": "code",
   "execution_count": 8,
   "metadata": {
    "execution": {
     "iopub.execute_input": "2021-10-02T19:09:33.319644Z",
     "iopub.status.busy": "2021-10-02T19:09:33.318524Z",
     "iopub.status.idle": "2021-10-02T19:09:33.326847Z",
     "shell.execute_reply": "2021-10-02T19:09:33.327752Z"
    }
   },
   "outputs": [],
   "source": [
    "df_hourly = pd.DataFrame(data['hourly'])\r\n",
    "df_daily = pd.DataFrame(data['daily'])"
   ]
  },
  {
   "cell_type": "code",
   "execution_count": 9,
   "metadata": {
    "execution": {
     "iopub.execute_input": "2021-10-02T19:09:33.331067Z",
     "iopub.status.busy": "2021-10-02T19:09:33.330017Z",
     "iopub.status.idle": "2021-10-02T19:09:33.653560Z",
     "shell.execute_reply": "2021-10-02T19:09:33.652707Z"
    }
   },
   "outputs": [
    {
     "data": {
      "image/png": "[encoded data removed]",
      "text/plain": [
       "<Figure size 864x432 with 1 Axes>"
      ]
     },
     "metadata": {
      "needs_background": "light"
     },
     "output_type": "display_data"
    }
   ],
   "source": [
    "fig, ax = plt.subplots(figsize=(12, 6))\r\n",
    "plt.plot(df_hourly.temp, '.-', label='Temperature')\r\n",
    "plt.plot(df_hourly.feels_like, '.-', label='Feels Like')\r\n",
    "ax.set(title='Temperature in future 48 hours', xlabel='Time', ylabel='Temperature')\r\n",
    "ax.set_xticks(list(range(0, len(df_hourly), 2)))\r\n",
    "ax.set_xticklabels([ts2dt(ts, '%m-%d %H:%M')[0] for i, ts in enumerate(df_hourly.dt) if i%2==0], \r\n",
    "                   rotation=45, ha=\"right\")\r\n",
    "ax.locator_params(nbins=15, axis='y')\r\n",
    "plt.legend()\r\n",
    "plt.show()"
   ]
  },
  {
   "cell_type": "code",
   "execution_count": 10,
   "metadata": {
    "execution": {
     "iopub.execute_input": "2021-10-02T19:09:33.657083Z",
     "iopub.status.busy": "2021-10-02T19:09:33.656459Z",
     "iopub.status.idle": "2021-10-02T19:09:33.684882Z",
     "shell.execute_reply": "2021-10-02T19:09:33.685343Z"
    }
   },
   "outputs": [
    {
     "data": {
      "text/html": [
       "<div>\n",
       "<style scoped>\n",
       "    .dataframe tbody tr th:only-of-type {\n",
       "        vertical-align: middle;\n",
       "    }\n",
       "\n",
       "    .dataframe tbody tr th {\n",
       "        vertical-align: top;\n",
       "    }\n",
       "\n",
       "    .dataframe thead th {\n",
       "        text-align: right;\n",
       "    }\n",
       "</style>\n",
       "<table border=\"1\" class=\"dataframe\">\n",
       "  <thead>\n",
       "    <tr style=\"text-align: right;\">\n",
       "      <th></th>\n",
       "      <th>dt</th>\n",
       "      <th>temp</th>\n",
       "      <th>feels_like</th>\n",
       "      <th>pressure</th>\n",
       "      <th>humidity</th>\n",
       "      <th>dew_point</th>\n",
       "      <th>uvi</th>\n",
       "      <th>clouds</th>\n",
       "      <th>visibility</th>\n",
       "      <th>wind_speed</th>\n",
       "      <th>wind_deg</th>\n",
       "      <th>wind_gust</th>\n",
       "      <th>weather</th>\n",
       "      <th>pop</th>\n",
       "      <th>rain</th>\n",
       "    </tr>\n",
       "  </thead>\n",
       "  <tbody>\n",
       "    <tr>\n",
       "      <th>0</th>\n",
       "      <td>1633201200</td>\n",
       "      <td>29.14</td>\n",
       "      <td>35.13</td>\n",
       "      <td>1010</td>\n",
       "      <td>80</td>\n",
       "      <td>25.33</td>\n",
       "      <td>0.00</td>\n",
       "      <td>79</td>\n",
       "      <td>10000</td>\n",
       "      <td>3.95</td>\n",
       "      <td>101</td>\n",
       "      <td>5.24</td>\n",
       "      <td>[{'id': 500, 'main': 'Rain', 'description': 'l...</td>\n",
       "      <td>0.72</td>\n",
       "      <td>{'1h': 0.72}</td>\n",
       "    </tr>\n",
       "    <tr>\n",
       "      <th>1</th>\n",
       "      <td>1633204800</td>\n",
       "      <td>28.84</td>\n",
       "      <td>34.09</td>\n",
       "      <td>1010</td>\n",
       "      <td>79</td>\n",
       "      <td>24.83</td>\n",
       "      <td>0.00</td>\n",
       "      <td>75</td>\n",
       "      <td>10000</td>\n",
       "      <td>3.79</td>\n",
       "      <td>106</td>\n",
       "      <td>5.14</td>\n",
       "      <td>[{'id': 803, 'main': 'Clouds', 'description': ...</td>\n",
       "      <td>0.86</td>\n",
       "      <td>NaN</td>\n",
       "    </tr>\n",
       "    <tr>\n",
       "      <th>2</th>\n",
       "      <td>1633208400</td>\n",
       "      <td>28.40</td>\n",
       "      <td>32.94</td>\n",
       "      <td>1010</td>\n",
       "      <td>79</td>\n",
       "      <td>24.40</td>\n",
       "      <td>0.00</td>\n",
       "      <td>64</td>\n",
       "      <td>10000</td>\n",
       "      <td>4.05</td>\n",
       "      <td>103</td>\n",
       "      <td>5.65</td>\n",
       "      <td>[{'id': 803, 'main': 'Clouds', 'description': ...</td>\n",
       "      <td>0.89</td>\n",
       "      <td>NaN</td>\n",
       "    </tr>\n",
       "    <tr>\n",
       "      <th>3</th>\n",
       "      <td>1633212000</td>\n",
       "      <td>27.95</td>\n",
       "      <td>31.82</td>\n",
       "      <td>1011</td>\n",
       "      <td>79</td>\n",
       "      <td>23.97</td>\n",
       "      <td>0.00</td>\n",
       "      <td>51</td>\n",
       "      <td>10000</td>\n",
       "      <td>4.64</td>\n",
       "      <td>97</td>\n",
       "      <td>6.14</td>\n",
       "      <td>[{'id': 500, 'main': 'Rain', 'description': 'l...</td>\n",
       "      <td>0.93</td>\n",
       "      <td>{'1h': 0.41}</td>\n",
       "    </tr>\n",
       "    <tr>\n",
       "      <th>4</th>\n",
       "      <td>1633215600</td>\n",
       "      <td>27.58</td>\n",
       "      <td>31.07</td>\n",
       "      <td>1012</td>\n",
       "      <td>80</td>\n",
       "      <td>23.82</td>\n",
       "      <td>0.15</td>\n",
       "      <td>39</td>\n",
       "      <td>10000</td>\n",
       "      <td>5.15</td>\n",
       "      <td>91</td>\n",
       "      <td>6.61</td>\n",
       "      <td>[{'id': 500, 'main': 'Rain', 'description': 'l...</td>\n",
       "      <td>0.97</td>\n",
       "      <td>{'1h': 0.65}</td>\n",
       "    </tr>\n",
       "  </tbody>\n",
       "</table>\n",
       "</div>"
      ],
      "text/plain": [
       "           dt   temp  feels_like  pressure  humidity  dew_point   uvi  clouds  \\\n",
       "0  1633201200  29.14       35.13      1010        80      25.33  0.00      79   \n",
       "1  1633204800  28.84       34.09      1010        79      24.83  0.00      75   \n",
       "2  1633208400  28.40       32.94      1010        79      24.40  0.00      64   \n",
       "3  1633212000  27.95       31.82      1011        79      23.97  0.00      51   \n",
       "4  1633215600  27.58       31.07      1012        80      23.82  0.15      39   \n",
       "\n",
       "   visibility  wind_speed  wind_deg  wind_gust  \\\n",
       "0       10000        3.95       101       5.24   \n",
       "1       10000        3.79       106       5.14   \n",
       "2       10000        4.05       103       5.65   \n",
       "3       10000        4.64        97       6.14   \n",
       "4       10000        5.15        91       6.61   \n",
       "\n",
       "                                             weather   pop          rain  \n",
       "0  [{'id': 500, 'main': 'Rain', 'description': 'l...  0.72  {'1h': 0.72}  \n",
       "1  [{'id': 803, 'main': 'Clouds', 'description': ...  0.86           NaN  \n",
       "2  [{'id': 803, 'main': 'Clouds', 'description': ...  0.89           NaN  \n",
       "3  [{'id': 500, 'main': 'Rain', 'description': 'l...  0.93  {'1h': 0.41}  \n",
       "4  [{'id': 500, 'main': 'Rain', 'description': 'l...  0.97  {'1h': 0.65}  "
      ]
     },
     "execution_count": 10,
     "metadata": {},
     "output_type": "execute_result"
    }
   ],
   "source": [
    "df_hourly.head()"
   ]
  },
  {
   "cell_type": "code",
   "execution_count": null,
   "metadata": {},
   "outputs": [],
   "source": []
  }
 ],
 "metadata": {
  "interpreter": {
   "hash": "c1b4cfe941b6d2466ad1fb5979e97da9cda8801728c8091b097ab734208fc00c"
  },
  "kernelspec": {
   "display_name": "Python 3.8.3 64-bit ('base': conda)",
   "name": "python3"
  },
  "language_info": {
   "codemirror_mode": {
    "name": "ipython",
    "version": 3
   },
   "file_extension": ".py",
   "mimetype": "text/x-python",
   "name": "python",
   "nbconvert_exporter": "python",
   "pygments_lexer": "ipython3",
   "version": "3.8.12"
  }
 },
 "nbformat": 4,
 "nbformat_minor": 2
}
