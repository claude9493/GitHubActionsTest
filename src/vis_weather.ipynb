{
 "cells": [
  {
   "cell_type": "code",
   "execution_count": 1,
   "metadata": {
    "execution": {
     "iopub.execute_input": "2021-08-22T21:37:30.045803Z",
     "iopub.status.busy": "2021-08-22T21:37:30.045065Z",
     "iopub.status.idle": "2021-08-22T21:37:32.592313Z",
     "shell.execute_reply": "2021-08-22T21:37:32.591182Z"
    }
   },
   "outputs": [],
   "source": [
    "import json\r\n",
    "from datetime import datetime\r\n",
    "from dateutil import tz\r\n",
    "import pandas as pd\r\n",
    "import matplotlib.pyplot as plt\r\n",
    "import seaborn\r\n"
   ]
  },
  {
   "cell_type": "code",
   "execution_count": 2,
   "metadata": {
    "execution": {
     "iopub.execute_input": "2021-08-22T21:37:32.597795Z",
     "iopub.status.busy": "2021-08-22T21:37:32.596628Z",
     "iopub.status.idle": "2021-08-22T21:37:32.600809Z",
     "shell.execute_reply": "2021-08-22T21:37:32.600362Z"
    }
   },
   "outputs": [],
   "source": [
    "with open('../newest_ts', 'r') as f:\r\n",
    "    ts = f.read()\r\n",
    "\r\n",
    "data_path = f\"../data/data_{ts}.json\"\r\n",
    "with open(data_path, 'r') as f:\r\n",
    "    data = json.load(f)"
   ]
  },
  {
   "cell_type": "code",
   "execution_count": 3,
   "metadata": {
    "execution": {
     "iopub.execute_input": "2021-08-22T21:37:32.607060Z",
     "iopub.status.busy": "2021-08-22T21:37:32.605745Z",
     "iopub.status.idle": "2021-08-22T21:37:32.609778Z",
     "shell.execute_reply": "2021-08-22T21:37:32.609303Z"
    }
   },
   "outputs": [
    {
     "name": "stdout",
     "output_type": "stream",
     "text": [
      "Recent query happens at 2021-08-22 21:37:27\n"
     ]
    }
   ],
   "source": [
    "def ts2dt(ts, format='%Y-%m-%d %H:%M:%S'):\r\n",
    "    return (datetime.utcfromtimestamp(int(ts))\r\n",
    "                    .replace(tzinfo=tz.tzutc())\r\n",
    "                    .astimezone(tz.tzlocal())\r\n",
    "                    .strftime(format))\r\n",
    "\r\n",
    "print(f\"Recent query happens at {ts2dt(ts)}\")"
   ]
  },
  {
   "cell_type": "code",
   "execution_count": 4,
   "metadata": {
    "execution": {
     "iopub.execute_input": "2021-08-22T21:37:32.616795Z",
     "iopub.status.busy": "2021-08-22T21:37:32.615876Z",
     "iopub.status.idle": "2021-08-22T21:37:32.618656Z",
     "shell.execute_reply": "2021-08-22T21:37:32.619086Z"
    }
   },
   "outputs": [
    {
     "data": {
      "text/plain": [
       "dict_keys(['lat', 'lon', 'timezone', 'timezone_offset', 'current', 'hourly', 'daily'])"
      ]
     },
     "execution_count": 4,
     "metadata": {},
     "output_type": "execute_result"
    }
   ],
   "source": [
    "data.keys()"
   ]
  },
  {
   "cell_type": "code",
   "execution_count": 5,
   "metadata": {
    "execution": {
     "iopub.execute_input": "2021-08-22T21:37:32.624908Z",
     "iopub.status.busy": "2021-08-22T21:37:32.623989Z",
     "iopub.status.idle": "2021-08-22T21:37:32.627106Z",
     "shell.execute_reply": "2021-08-22T21:37:32.626667Z"
    }
   },
   "outputs": [
    {
     "data": {
      "text/plain": [
       "{'dt': 1629668247,\n",
       " 'sunrise': 1629669780,\n",
       " 'sunset': 1629715720,\n",
       " 'temp': 28.73,\n",
       " 'feels_like': 35.04,\n",
       " 'pressure': 1007,\n",
       " 'humidity': 85,\n",
       " 'dew_point': 25.95,\n",
       " 'uvi': 0,\n",
       " 'clouds': 78,\n",
       " 'visibility': 10000,\n",
       " 'wind_speed': 3.63,\n",
       " 'wind_deg': 218,\n",
       " 'wind_gust': 4.7,\n",
       " 'weather': [{'id': 803,\n",
       "   'main': 'Clouds',\n",
       "   'description': 'broken clouds',\n",
       "   'icon': '04n'}]}"
      ]
     },
     "execution_count": 5,
     "metadata": {},
     "output_type": "execute_result"
    }
   ],
   "source": [
    "data['current']"
   ]
  },
  {
   "cell_type": "code",
   "execution_count": 6,
   "metadata": {
    "execution": {
     "iopub.execute_input": "2021-08-22T21:37:32.632426Z",
     "iopub.status.busy": "2021-08-22T21:37:32.631877Z",
     "iopub.status.idle": "2021-08-22T21:37:32.634507Z",
     "shell.execute_reply": "2021-08-22T21:37:32.634939Z"
    }
   },
   "outputs": [
    {
     "data": {
      "text/plain": [
       "{'dt': 1629666000,\n",
       " 'temp': 28.49,\n",
       " 'feels_like': 34.12,\n",
       " 'pressure': 1007,\n",
       " 'humidity': 84,\n",
       " 'dew_point': 25.52,\n",
       " 'uvi': 0,\n",
       " 'clouds': 81,\n",
       " 'visibility': 10000,\n",
       " 'wind_speed': 2.77,\n",
       " 'wind_deg': 220,\n",
       " 'wind_gust': 3.9,\n",
       " 'weather': [{'id': 500,\n",
       "   'main': 'Rain',\n",
       "   'description': 'light rain',\n",
       "   'icon': '10n'}],\n",
       " 'pop': 0.72,\n",
       " 'rain': {'1h': 0.4}}"
      ]
     },
     "execution_count": 6,
     "metadata": {},
     "output_type": "execute_result"
    }
   ],
   "source": [
    "data['hourly'][0]"
   ]
  },
  {
   "cell_type": "code",
   "execution_count": 7,
   "metadata": {
    "execution": {
     "iopub.execute_input": "2021-08-22T21:37:32.643071Z",
     "iopub.status.busy": "2021-08-22T21:37:32.641914Z",
     "iopub.status.idle": "2021-08-22T21:37:32.643669Z",
     "shell.execute_reply": "2021-08-22T21:37:32.644126Z"
    }
   },
   "outputs": [],
   "source": [
    "df_hourly = pd.DataFrame(data['hourly'])\r\n",
    "df_daily = pd.DataFrame(data['daily'])"
   ]
  },
  {
   "cell_type": "code",
   "execution_count": 8,
   "metadata": {
    "execution": {
     "iopub.execute_input": "2021-08-22T21:37:32.656103Z",
     "iopub.status.busy": "2021-08-22T21:37:32.648483Z",
     "iopub.status.idle": "2021-08-22T21:37:32.666024Z",
     "shell.execute_reply": "2021-08-22T21:37:32.666465Z"
    }
   },
   "outputs": [
    {
     "data": {
      "text/html": [
       "<div>\n",
       "<style scoped>\n",
       "    .dataframe tbody tr th:only-of-type {\n",
       "        vertical-align: middle;\n",
       "    }\n",
       "\n",
       "    .dataframe tbody tr th {\n",
       "        vertical-align: top;\n",
       "    }\n",
       "\n",
       "    .dataframe thead th {\n",
       "        text-align: right;\n",
       "    }\n",
       "</style>\n",
       "<table border=\"1\" class=\"dataframe\">\n",
       "  <thead>\n",
       "    <tr style=\"text-align: right;\">\n",
       "      <th></th>\n",
       "      <th>dt</th>\n",
       "      <th>temp</th>\n",
       "      <th>feels_like</th>\n",
       "      <th>pressure</th>\n",
       "      <th>humidity</th>\n",
       "      <th>dew_point</th>\n",
       "      <th>uvi</th>\n",
       "      <th>clouds</th>\n",
       "      <th>visibility</th>\n",
       "      <th>wind_speed</th>\n",
       "      <th>wind_deg</th>\n",
       "      <th>wind_gust</th>\n",
       "      <th>weather</th>\n",
       "      <th>pop</th>\n",
       "      <th>rain</th>\n",
       "    </tr>\n",
       "  </thead>\n",
       "  <tbody>\n",
       "    <tr>\n",
       "      <th>0</th>\n",
       "      <td>1629666000</td>\n",
       "      <td>28.49</td>\n",
       "      <td>34.12</td>\n",
       "      <td>1007</td>\n",
       "      <td>84</td>\n",
       "      <td>25.52</td>\n",
       "      <td>0.00</td>\n",
       "      <td>81</td>\n",
       "      <td>10000</td>\n",
       "      <td>2.77</td>\n",
       "      <td>220</td>\n",
       "      <td>3.90</td>\n",
       "      <td>[{'id': 500, 'main': 'Rain', 'description': 'l...</td>\n",
       "      <td>0.72</td>\n",
       "      <td>{'1h': 0.4}</td>\n",
       "    </tr>\n",
       "    <tr>\n",
       "      <th>1</th>\n",
       "      <td>1629669600</td>\n",
       "      <td>28.73</td>\n",
       "      <td>35.04</td>\n",
       "      <td>1007</td>\n",
       "      <td>85</td>\n",
       "      <td>25.95</td>\n",
       "      <td>0.00</td>\n",
       "      <td>78</td>\n",
       "      <td>10000</td>\n",
       "      <td>3.63</td>\n",
       "      <td>218</td>\n",
       "      <td>4.70</td>\n",
       "      <td>[{'id': 803, 'main': 'Clouds', 'description': ...</td>\n",
       "      <td>0.67</td>\n",
       "      <td>NaN</td>\n",
       "    </tr>\n",
       "    <tr>\n",
       "      <th>2</th>\n",
       "      <td>1629673200</td>\n",
       "      <td>28.59</td>\n",
       "      <td>34.41</td>\n",
       "      <td>1007</td>\n",
       "      <td>84</td>\n",
       "      <td>25.62</td>\n",
       "      <td>0.40</td>\n",
       "      <td>79</td>\n",
       "      <td>10000</td>\n",
       "      <td>3.73</td>\n",
       "      <td>224</td>\n",
       "      <td>5.11</td>\n",
       "      <td>[{'id': 803, 'main': 'Clouds', 'description': ...</td>\n",
       "      <td>0.70</td>\n",
       "      <td>NaN</td>\n",
       "    </tr>\n",
       "    <tr>\n",
       "      <th>3</th>\n",
       "      <td>1629676800</td>\n",
       "      <td>28.74</td>\n",
       "      <td>34.43</td>\n",
       "      <td>1007</td>\n",
       "      <td>82</td>\n",
       "      <td>25.36</td>\n",
       "      <td>1.70</td>\n",
       "      <td>80</td>\n",
       "      <td>10000</td>\n",
       "      <td>3.48</td>\n",
       "      <td>222</td>\n",
       "      <td>4.91</td>\n",
       "      <td>[{'id': 803, 'main': 'Clouds', 'description': ...</td>\n",
       "      <td>0.66</td>\n",
       "      <td>NaN</td>\n",
       "    </tr>\n",
       "    <tr>\n",
       "      <th>4</th>\n",
       "      <td>1629680400</td>\n",
       "      <td>29.10</td>\n",
       "      <td>34.58</td>\n",
       "      <td>1008</td>\n",
       "      <td>78</td>\n",
       "      <td>24.87</td>\n",
       "      <td>4.24</td>\n",
       "      <td>47</td>\n",
       "      <td>10000</td>\n",
       "      <td>3.55</td>\n",
       "      <td>228</td>\n",
       "      <td>4.73</td>\n",
       "      <td>[{'id': 500, 'main': 'Rain', 'description': 'l...</td>\n",
       "      <td>0.58</td>\n",
       "      <td>{'1h': 0.25}</td>\n",
       "    </tr>\n",
       "  </tbody>\n",
       "</table>\n",
       "</div>"
      ],
      "text/plain": [
       "           dt   temp  feels_like  pressure  humidity  dew_point   uvi  clouds  \\\n",
       "0  1629666000  28.49       34.12      1007        84      25.52  0.00      81   \n",
       "1  1629669600  28.73       35.04      1007        85      25.95  0.00      78   \n",
       "2  1629673200  28.59       34.41      1007        84      25.62  0.40      79   \n",
       "3  1629676800  28.74       34.43      1007        82      25.36  1.70      80   \n",
       "4  1629680400  29.10       34.58      1008        78      24.87  4.24      47   \n",
       "\n",
       "   visibility  wind_speed  wind_deg  wind_gust  \\\n",
       "0       10000        2.77       220       3.90   \n",
       "1       10000        3.63       218       4.70   \n",
       "2       10000        3.73       224       5.11   \n",
       "3       10000        3.48       222       4.91   \n",
       "4       10000        3.55       228       4.73   \n",
       "\n",
       "                                             weather   pop          rain  \n",
       "0  [{'id': 500, 'main': 'Rain', 'description': 'l...  0.72   {'1h': 0.4}  \n",
       "1  [{'id': 803, 'main': 'Clouds', 'description': ...  0.67           NaN  \n",
       "2  [{'id': 803, 'main': 'Clouds', 'description': ...  0.70           NaN  \n",
       "3  [{'id': 803, 'main': 'Clouds', 'description': ...  0.66           NaN  \n",
       "4  [{'id': 500, 'main': 'Rain', 'description': 'l...  0.58  {'1h': 0.25}  "
      ]
     },
     "execution_count": 8,
     "metadata": {},
     "output_type": "execute_result"
    }
   ],
   "source": [
    "df_hourly.head()"
   ]
  },
  {
   "cell_type": "code",
   "execution_count": 9,
   "metadata": {
    "execution": {
     "iopub.execute_input": "2021-08-22T21:37:32.684846Z",
     "iopub.status.busy": "2021-08-22T21:37:32.684305Z",
     "iopub.status.idle": "2021-08-22T21:37:32.947359Z",
     "shell.execute_reply": "2021-08-22T21:37:32.947830Z"
    }
   },
   "outputs": [
    {
     "data": {
      "image/png": "[encoded data removed]",
      "text/plain": [
       "<Figure size 864x432 with 1 Axes>"
      ]
     },
     "metadata": {
      "needs_background": "light"
     },
     "output_type": "display_data"
    }
   ],
   "source": [
    "fig, ax = plt.subplots(figsize=(12, 6))\r\n",
    "plt.plot(df_hourly.temp, '.-')\r\n",
    "ax.set(title='Temperature in future 48 hours', xlabel='Time', ylabel='Temperature')\r\n",
    "ax.set_xticks(list(range(0, len(df_hourly), 2)))\r\n",
    "ax.set_xticklabels([ts2dt(ts, '%m-%d %H:%M') for i, ts in enumerate(df_hourly.dt) if i%2==0], \r\n",
    "                   rotation=45, ha=\"right\")\r\n",
    "plt.show()"
   ]
  },
  {
   "cell_type": "code",
   "execution_count": null,
   "metadata": {},
   "outputs": [],
   "source": []
  }
 ],
 "metadata": {
  "interpreter": {
   "hash": "c1b4cfe941b6d2466ad1fb5979e97da9cda8801728c8091b097ab734208fc00c"
  },
  "kernelspec": {
   "display_name": "Python 3.8.3 64-bit ('base': conda)",
   "name": "python3"
  },
  "language_info": {
   "codemirror_mode": {
    "name": "ipython",
    "version": 3
   },
   "file_extension": ".py",
   "mimetype": "text/x-python",
   "name": "python",
   "nbconvert_exporter": "python",
   "pygments_lexer": "ipython3",
   "version": "3.8.11"
  }
 },
 "nbformat": 4,
 "nbformat_minor": 2
}
