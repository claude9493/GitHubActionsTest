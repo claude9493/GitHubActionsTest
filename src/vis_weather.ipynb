{
 "cells": [
  {
   "cell_type": "code",
   "execution_count": 1,
   "metadata": {
    "execution": {
     "iopub.execute_input": "2021-10-21T02:05:47.135051Z",
     "iopub.status.busy": "2021-10-21T02:05:47.134353Z",
     "iopub.status.idle": "2021-10-21T02:05:49.751758Z",
     "shell.execute_reply": "2021-10-21T02:05:49.751048Z"
    }
   },
   "outputs": [],
   "source": [
    "import json, yaml, requests\r\n",
    "from datetime import datetime\r\n",
    "from dateutil import tz\r\n",
    "import pandas as pd\r\n",
    "from PIL import Image\r\n",
    "from io import BytesIO\r\n",
    "import matplotlib.pyplot as plt\r\n",
    "import seaborn\r\n",
    "\r\n",
    "CONFIG_PATH = \"../config/config.yaml\""
   ]
  },
  {
   "cell_type": "code",
   "execution_count": 2,
   "metadata": {
    "execution": {
     "iopub.execute_input": "2021-10-21T02:05:49.760335Z",
     "iopub.status.busy": "2021-10-21T02:05:49.756719Z",
     "iopub.status.idle": "2021-10-21T02:05:49.763526Z",
     "shell.execute_reply": "2021-10-21T02:05:49.762964Z"
    }
   },
   "outputs": [],
   "source": [
    "with open('../newest_ts', 'r') as f:\r\n",
    "    newest_ts = f.read()\r\n",
    "\r\n",
    "data_path = f\"../data/data_{newest_ts}.json\"\r\n",
    "with open(data_path, 'r') as f:\r\n",
    "    data = json.load(f)\r\n",
    "\r\n",
    "with open(CONFIG_PATH, \"r\") as stream:\r\n",
    "    config = yaml.safe_load(stream)\r\n",
    "\r\n",
    "TIME_ZONE = config['time_zone']\r\n",
    "DATETIME_FORMAT = config['dt_format']"
   ]
  },
  {
   "cell_type": "code",
   "execution_count": 3,
   "metadata": {
    "execution": {
     "iopub.execute_input": "2021-10-21T02:05:49.768782Z",
     "iopub.status.busy": "2021-10-21T02:05:49.768146Z",
     "iopub.status.idle": "2021-10-21T02:05:49.775335Z",
     "shell.execute_reply": "2021-10-21T02:05:49.775849Z"
    }
   },
   "outputs": [
    {
     "name": "stdout",
     "output_type": "stream",
     "text": [
      "Recent query happens at 2021-10-21 10:05:43 (CST).\n"
     ]
    }
   ],
   "source": [
    "def ts2dt(ts, format=DATETIME_FORMAT):\r\n",
    "    dt = (datetime.utcfromtimestamp(int(ts))\r\n",
    "                    .replace(tzinfo=tz.tzutc())\r\n",
    "                    # .astimezone(tz.tzlocal())\r\n",
    "                    .astimezone(tz.gettz(TIME_ZONE)))\r\n",
    "    return dt.strftime(format), dt\r\n",
    "\r\n",
    "_, newest_dt = ts2dt(newest_ts)\r\n",
    "print(f\"Recent query happens at {newest_dt.strftime(DATETIME_FORMAT)} ({newest_dt.tzname()}).\")"
   ]
  },
  {
   "cell_type": "code",
   "execution_count": 4,
   "metadata": {
    "execution": {
     "iopub.execute_input": "2021-10-21T02:05:49.781752Z",
     "iopub.status.busy": "2021-10-21T02:05:49.780151Z",
     "iopub.status.idle": "2021-10-21T02:05:49.782447Z",
     "shell.execute_reply": "2021-10-21T02:05:49.782919Z"
    }
   },
   "outputs": [],
   "source": [
    "def degrees_to_cardinal(d):\r\n",
    "  dirs = ['N', 'NNE', 'NE', 'ENE', 'E', 'ESE', 'SE', 'SSE', 'S', 'SSW', 'SW', 'WSW', 'W', 'WNW', 'NW', 'NNW']\r\n",
    "  ix = int(round(d / (360. / len(dirs))))\r\n",
    "  return dirs[ix % len(dirs)]"
   ]
  },
  {
   "cell_type": "code",
   "execution_count": 5,
   "metadata": {
    "execution": {
     "iopub.execute_input": "2021-10-21T02:05:49.788218Z",
     "iopub.status.busy": "2021-10-21T02:05:49.786723Z",
     "iopub.status.idle": "2021-10-21T02:05:49.788860Z",
     "shell.execute_reply": "2021-10-21T02:05:49.789312Z"
    }
   },
   "outputs": [],
   "source": [
    "# data.keys()"
   ]
  },
  {
   "cell_type": "code",
   "execution_count": 6,
   "metadata": {
    "execution": {
     "iopub.execute_input": "2021-10-21T02:05:49.794295Z",
     "iopub.status.busy": "2021-10-21T02:05:49.792767Z",
     "iopub.status.idle": "2021-10-21T02:05:49.795081Z",
     "shell.execute_reply": "2021-10-21T02:05:49.795667Z"
    }
   },
   "outputs": [],
   "source": [
    "# data['current']"
   ]
  },
  {
   "cell_type": "code",
   "execution_count": 7,
   "metadata": {
    "execution": {
     "iopub.execute_input": "2021-10-21T02:05:49.828471Z",
     "iopub.status.busy": "2021-10-21T02:05:49.824656Z",
     "iopub.status.idle": "2021-10-21T02:05:50.243011Z",
     "shell.execute_reply": "2021-10-21T02:05:50.243814Z"
    }
   },
   "outputs": [
    {
     "data": {
      "image/png": "[encoded data removed]",
      "text/plain": [
       "<Figure size 216x216 with 1 Axes>"
      ]
     },
     "metadata": {
      "needs_background": "light"
     },
     "output_type": "display_data"
    },
    {
     "name": "stdout",
     "output_type": "stream",
     "text": [
      "Today, sun rises at 06:21 and sets at 17:53.\n",
      "Currently, the weather is Clouds (overcast clouds).\n",
      "The temperature is 28.13°C and it feels like 31.5°C.\n",
      "The UV index is 4.43, humidity is 74%.\n",
      "The pressure is 1015 hPa, percentage of cloud cover is 100%\n",
      "The wind comes from NE direction with a speed 1.79 m/s.\n"
     ]
    }
   ],
   "source": [
    "current = data['current']\r\n",
    "\r\n",
    "fig, ax = plt.subplots(figsize=(3, 3))\r\n",
    "icon = requests.get(f\"http://openweathermap.org/img/wn/{current['weather'][0]['icon']}@2x.png\")\r\n",
    "im = Image.open(BytesIO(icon.content))\r\n",
    "plt.imshow(im)\r\n",
    "ax.set_axis_off()\r\n",
    "plt.show()\r\n",
    "\r\n",
    "print(f\"Today, sun rises at {ts2dt(current['sunrise'], '%H:%M')[0]} \\\r\n",
    "and sets at {ts2dt(current['sunset'], '%H:%M')[0]}.\\n\\\r\n",
    "Currently, the weather is {current['weather'][0]['main']} ({current['weather'][0]['description']}).\\n\\\r\n",
    "The temperature is {current['temp']}°C and it feels like {current['feels_like']}°C.\\n\\\r\n",
    "The UV index is {current['uvi']}, humidity is {current['humidity']}%.\\n\\\r\n",
    "The pressure is {current['pressure']} hPa, percentage of cloud cover is {current['clouds']}%\\n\\\r\n",
    "The wind comes from {degrees_to_cardinal(current['wind_deg'])} direction with a speed {current['wind_speed']} m/s.\")"
   ]
  },
  {
   "cell_type": "code",
   "execution_count": 8,
   "metadata": {
    "execution": {
     "iopub.execute_input": "2021-10-21T02:05:50.247985Z",
     "iopub.status.busy": "2021-10-21T02:05:50.246809Z",
     "iopub.status.idle": "2021-10-21T02:05:50.255224Z",
     "shell.execute_reply": "2021-10-21T02:05:50.256095Z"
    }
   },
   "outputs": [],
   "source": [
    "df_hourly = pd.DataFrame(data['hourly'])\r\n",
    "df_daily = pd.DataFrame(data['daily'])"
   ]
  },
  {
   "cell_type": "code",
   "execution_count": 9,
   "metadata": {
    "execution": {
     "iopub.execute_input": "2021-10-21T02:05:50.260101Z",
     "iopub.status.busy": "2021-10-21T02:05:50.258718Z",
     "iopub.status.idle": "2021-10-21T02:05:50.582687Z",
     "shell.execute_reply": "2021-10-21T02:05:50.582179Z"
    }
   },
   "outputs": [
    {
     "data": {
      "image/png": "[encoded data removed]",
      "text/plain": [
       "<Figure size 864x432 with 1 Axes>"
      ]
     },
     "metadata": {
      "needs_background": "light"
     },
     "output_type": "display_data"
    }
   ],
   "source": [
    "fig, ax = plt.subplots(figsize=(12, 6))\r\n",
    "plt.plot(df_hourly.temp, '.-', label='Temperature')\r\n",
    "plt.plot(df_hourly.feels_like, '.-', label='Feels Like')\r\n",
    "ax.set(title='Temperature in future 48 hours', xlabel='Time', ylabel='Temperature')\r\n",
    "ax.set_xticks(list(range(0, len(df_hourly), 2)))\r\n",
    "ax.set_xticklabels([ts2dt(ts, '%m-%d %H:%M')[0] for i, ts in enumerate(df_hourly.dt) if i%2==0], \r\n",
    "                   rotation=45, ha=\"right\")\r\n",
    "ax.locator_params(nbins=15, axis='y')\r\n",
    "plt.legend()\r\n",
    "plt.show()"
   ]
  },
  {
   "cell_type": "code",
   "execution_count": 10,
   "metadata": {
    "execution": {
     "iopub.execute_input": "2021-10-21T02:05:50.607104Z",
     "iopub.status.busy": "2021-10-21T02:05:50.587515Z",
     "iopub.status.idle": "2021-10-21T02:05:50.610865Z",
     "shell.execute_reply": "2021-10-21T02:05:50.611340Z"
    }
   },
   "outputs": [
    {
     "data": {
      "text/html": [
       "<div>\n",
       "<style scoped>\n",
       "    .dataframe tbody tr th:only-of-type {\n",
       "        vertical-align: middle;\n",
       "    }\n",
       "\n",
       "    .dataframe tbody tr th {\n",
       "        vertical-align: top;\n",
       "    }\n",
       "\n",
       "    .dataframe thead th {\n",
       "        text-align: right;\n",
       "    }\n",
       "</style>\n",
       "<table border=\"1\" class=\"dataframe\">\n",
       "  <thead>\n",
       "    <tr style=\"text-align: right;\">\n",
       "      <th></th>\n",
       "      <th>dt</th>\n",
       "      <th>temp</th>\n",
       "      <th>feels_like</th>\n",
       "      <th>pressure</th>\n",
       "      <th>humidity</th>\n",
       "      <th>dew_point</th>\n",
       "      <th>uvi</th>\n",
       "      <th>clouds</th>\n",
       "      <th>visibility</th>\n",
       "      <th>wind_speed</th>\n",
       "      <th>wind_deg</th>\n",
       "      <th>wind_gust</th>\n",
       "      <th>weather</th>\n",
       "      <th>pop</th>\n",
       "      <th>rain</th>\n",
       "    </tr>\n",
       "  </thead>\n",
       "  <tbody>\n",
       "    <tr>\n",
       "      <th>0</th>\n",
       "      <td>1634781600</td>\n",
       "      <td>28.13</td>\n",
       "      <td>31.50</td>\n",
       "      <td>1015</td>\n",
       "      <td>74</td>\n",
       "      <td>23.06</td>\n",
       "      <td>4.43</td>\n",
       "      <td>100</td>\n",
       "      <td>10000</td>\n",
       "      <td>1.83</td>\n",
       "      <td>24</td>\n",
       "      <td>2.12</td>\n",
       "      <td>[{'id': 804, 'main': 'Clouds', 'description': ...</td>\n",
       "      <td>0.48</td>\n",
       "      <td>NaN</td>\n",
       "    </tr>\n",
       "    <tr>\n",
       "      <th>1</th>\n",
       "      <td>1634785200</td>\n",
       "      <td>28.05</td>\n",
       "      <td>31.18</td>\n",
       "      <td>1015</td>\n",
       "      <td>73</td>\n",
       "      <td>22.76</td>\n",
       "      <td>6.62</td>\n",
       "      <td>100</td>\n",
       "      <td>10000</td>\n",
       "      <td>1.76</td>\n",
       "      <td>38</td>\n",
       "      <td>1.99</td>\n",
       "      <td>[{'id': 804, 'main': 'Clouds', 'description': ...</td>\n",
       "      <td>0.52</td>\n",
       "      <td>NaN</td>\n",
       "    </tr>\n",
       "    <tr>\n",
       "      <th>2</th>\n",
       "      <td>1634788800</td>\n",
       "      <td>27.78</td>\n",
       "      <td>30.62</td>\n",
       "      <td>1015</td>\n",
       "      <td>73</td>\n",
       "      <td>22.50</td>\n",
       "      <td>5.15</td>\n",
       "      <td>100</td>\n",
       "      <td>10000</td>\n",
       "      <td>2.23</td>\n",
       "      <td>50</td>\n",
       "      <td>2.22</td>\n",
       "      <td>[{'id': 804, 'main': 'Clouds', 'description': ...</td>\n",
       "      <td>0.52</td>\n",
       "      <td>NaN</td>\n",
       "    </tr>\n",
       "    <tr>\n",
       "      <th>3</th>\n",
       "      <td>1634792400</td>\n",
       "      <td>26.73</td>\n",
       "      <td>28.85</td>\n",
       "      <td>1014</td>\n",
       "      <td>76</td>\n",
       "      <td>22.15</td>\n",
       "      <td>5.05</td>\n",
       "      <td>99</td>\n",
       "      <td>10000</td>\n",
       "      <td>2.26</td>\n",
       "      <td>22</td>\n",
       "      <td>2.61</td>\n",
       "      <td>[{'id': 500, 'main': 'Rain', 'description': 'l...</td>\n",
       "      <td>0.47</td>\n",
       "      <td>{'1h': 0.41}</td>\n",
       "    </tr>\n",
       "    <tr>\n",
       "      <th>4</th>\n",
       "      <td>1634796000</td>\n",
       "      <td>25.87</td>\n",
       "      <td>26.47</td>\n",
       "      <td>1013</td>\n",
       "      <td>75</td>\n",
       "      <td>21.10</td>\n",
       "      <td>4.06</td>\n",
       "      <td>98</td>\n",
       "      <td>10000</td>\n",
       "      <td>2.26</td>\n",
       "      <td>16</td>\n",
       "      <td>2.78</td>\n",
       "      <td>[{'id': 500, 'main': 'Rain', 'description': 'l...</td>\n",
       "      <td>0.39</td>\n",
       "      <td>{'1h': 0.16}</td>\n",
       "    </tr>\n",
       "  </tbody>\n",
       "</table>\n",
       "</div>"
      ],
      "text/plain": [
       "           dt   temp  feels_like  pressure  humidity  dew_point   uvi  clouds  \\\n",
       "0  1634781600  28.13       31.50      1015        74      23.06  4.43     100   \n",
       "1  1634785200  28.05       31.18      1015        73      22.76  6.62     100   \n",
       "2  1634788800  27.78       30.62      1015        73      22.50  5.15     100   \n",
       "3  1634792400  26.73       28.85      1014        76      22.15  5.05      99   \n",
       "4  1634796000  25.87       26.47      1013        75      21.10  4.06      98   \n",
       "\n",
       "   visibility  wind_speed  wind_deg  wind_gust  \\\n",
       "0       10000        1.83        24       2.12   \n",
       "1       10000        1.76        38       1.99   \n",
       "2       10000        2.23        50       2.22   \n",
       "3       10000        2.26        22       2.61   \n",
       "4       10000        2.26        16       2.78   \n",
       "\n",
       "                                             weather   pop          rain  \n",
       "0  [{'id': 804, 'main': 'Clouds', 'description': ...  0.48           NaN  \n",
       "1  [{'id': 804, 'main': 'Clouds', 'description': ...  0.52           NaN  \n",
       "2  [{'id': 804, 'main': 'Clouds', 'description': ...  0.52           NaN  \n",
       "3  [{'id': 500, 'main': 'Rain', 'description': 'l...  0.47  {'1h': 0.41}  \n",
       "4  [{'id': 500, 'main': 'Rain', 'description': 'l...  0.39  {'1h': 0.16}  "
      ]
     },
     "execution_count": 10,
     "metadata": {},
     "output_type": "execute_result"
    }
   ],
   "source": [
    "df_hourly.head()"
   ]
  },
  {
   "cell_type": "code",
   "execution_count": null,
   "metadata": {},
   "outputs": [],
   "source": []
  }
 ],
 "metadata": {
  "interpreter": {
   "hash": "c1b4cfe941b6d2466ad1fb5979e97da9cda8801728c8091b097ab734208fc00c"
  },
  "kernelspec": {
   "display_name": "Python 3.8.3 64-bit ('base': conda)",
   "name": "python3"
  },
  "language_info": {
   "codemirror_mode": {
    "name": "ipython",
    "version": 3
   },
   "file_extension": ".py",
   "mimetype": "text/x-python",
   "name": "python",
   "nbconvert_exporter": "python",
   "pygments_lexer": "ipython3",
   "version": "3.8.12"
  }
 },
 "nbformat": 4,
 "nbformat_minor": 2
}
