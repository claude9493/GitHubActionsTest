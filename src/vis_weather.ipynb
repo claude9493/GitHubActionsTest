{
 "cells": [
  {
   "cell_type": "code",
   "execution_count": 1,
   "metadata": {
    "execution": {
     "iopub.execute_input": "2021-09-10T14:14:46.797273Z",
     "iopub.status.busy": "2021-09-10T14:14:46.796408Z",
     "iopub.status.idle": "2021-09-10T14:14:49.914745Z",
     "shell.execute_reply": "2021-09-10T14:14:49.913943Z"
    }
   },
   "outputs": [],
   "source": [
    "import json, yaml, requests\r\n",
    "from datetime import datetime\r\n",
    "from dateutil import tz\r\n",
    "import pandas as pd\r\n",
    "from PIL import Image\r\n",
    "from io import BytesIO\r\n",
    "import matplotlib.pyplot as plt\r\n",
    "import seaborn\r\n",
    "\r\n",
    "CONFIG_PATH = \"../config/config.yaml\""
   ]
  },
  {
   "cell_type": "code",
   "execution_count": 2,
   "metadata": {
    "execution": {
     "iopub.execute_input": "2021-09-10T14:14:49.921342Z",
     "iopub.status.busy": "2021-09-10T14:14:49.920140Z",
     "iopub.status.idle": "2021-09-10T14:14:49.926126Z",
     "shell.execute_reply": "2021-09-10T14:14:49.926658Z"
    }
   },
   "outputs": [],
   "source": [
    "with open('../newest_ts', 'r') as f:\r\n",
    "    newest_ts = f.read()\r\n",
    "\r\n",
    "data_path = f\"../data/data_{newest_ts}.json\"\r\n",
    "with open(data_path, 'r') as f:\r\n",
    "    data = json.load(f)\r\n",
    "\r\n",
    "with open(CONFIG_PATH, \"r\") as stream:\r\n",
    "    config = yaml.safe_load(stream)\r\n",
    "\r\n",
    "TIME_ZONE = config['time_zone']\r\n",
    "DATETIME_FORMAT = config['dt_format']"
   ]
  },
  {
   "cell_type": "code",
   "execution_count": 3,
   "metadata": {
    "execution": {
     "iopub.execute_input": "2021-09-10T14:14:49.932231Z",
     "iopub.status.busy": "2021-09-10T14:14:49.931571Z",
     "iopub.status.idle": "2021-09-10T14:14:49.942838Z",
     "shell.execute_reply": "2021-09-10T14:14:49.943361Z"
    }
   },
   "outputs": [
    {
     "name": "stdout",
     "output_type": "stream",
     "text": [
      "Recent query happens at 2021-09-10 22:14:43 (CST).\n"
     ]
    }
   ],
   "source": [
    "def ts2dt(ts, format=DATETIME_FORMAT):\r\n",
    "    dt = (datetime.utcfromtimestamp(int(ts))\r\n",
    "                    .replace(tzinfo=tz.tzutc())\r\n",
    "                    # .astimezone(tz.tzlocal())\r\n",
    "                    .astimezone(tz.gettz(TIME_ZONE)))\r\n",
    "    return dt.strftime(format), dt\r\n",
    "\r\n",
    "_, newest_dt = ts2dt(newest_ts)\r\n",
    "print(f\"Recent query happens at {newest_dt.strftime(DATETIME_FORMAT)} ({newest_dt.tzname()}).\")"
   ]
  },
  {
   "cell_type": "code",
   "execution_count": 4,
   "metadata": {
    "execution": {
     "iopub.execute_input": "2021-09-10T14:14:49.949859Z",
     "iopub.status.busy": "2021-09-10T14:14:49.948405Z",
     "iopub.status.idle": "2021-09-10T14:14:49.950615Z",
     "shell.execute_reply": "2021-09-10T14:14:49.951114Z"
    }
   },
   "outputs": [],
   "source": [
    "def degrees_to_cardinal(d):\r\n",
    "  dirs = ['N', 'NNE', 'NE', 'ENE', 'E', 'ESE', 'SE', 'SSE', 'S', 'SSW', 'SW', 'WSW', 'W', 'WNW', 'NW', 'NNW']\r\n",
    "  ix = int(round(d / (360. / len(dirs))))\r\n",
    "  return dirs[ix % len(dirs)]"
   ]
  },
  {
   "cell_type": "code",
   "execution_count": 5,
   "metadata": {
    "execution": {
     "iopub.execute_input": "2021-09-10T14:14:49.956263Z",
     "iopub.status.busy": "2021-09-10T14:14:49.954782Z",
     "iopub.status.idle": "2021-09-10T14:14:49.956912Z",
     "shell.execute_reply": "2021-09-10T14:14:49.957549Z"
    }
   },
   "outputs": [],
   "source": [
    "# data.keys()"
   ]
  },
  {
   "cell_type": "code",
   "execution_count": 6,
   "metadata": {
    "execution": {
     "iopub.execute_input": "2021-09-10T14:14:49.962236Z",
     "iopub.status.busy": "2021-09-10T14:14:49.960796Z",
     "iopub.status.idle": "2021-09-10T14:14:49.962856Z",
     "shell.execute_reply": "2021-09-10T14:14:49.963359Z"
    }
   },
   "outputs": [],
   "source": [
    "# data['current']"
   ]
  },
  {
   "cell_type": "code",
   "execution_count": 7,
   "metadata": {
    "execution": {
     "iopub.execute_input": "2021-09-10T14:14:49.986573Z",
     "iopub.status.busy": "2021-09-10T14:14:49.985905Z",
     "iopub.status.idle": "2021-09-10T14:14:50.401211Z",
     "shell.execute_reply": "2021-09-10T14:14:50.402109Z"
    }
   },
   "outputs": [
    {
     "data": {
      "image/png": "[encoded data removed]",
      "text/plain": [
       "<Figure size 216x216 with 1 Axes>"
      ]
     },
     "metadata": {
      "needs_background": "light"
     },
     "output_type": "display_data"
    },
    {
     "name": "stdout",
     "output_type": "stream",
     "text": [
      "Today, sun rises at 06:08 and sets at 18:32.\n",
      "Currently, the weather is Rain (light rain).\n",
      "The temperature is 30.51°C and it feels like 37.15°C.\n",
      "The UV index is 0, humidity is 73%.\n",
      "The pressure is 1008 hPa, percentage of cloud cover is 4%\n",
      "The wind comes from ESE direction with a speed 2.7 m/s.\n"
     ]
    }
   ],
   "source": [
    "current = data['current']\r\n",
    "\r\n",
    "fig, ax = plt.subplots(figsize=(3, 3))\r\n",
    "icon = requests.get(f\"http://openweathermap.org/img/wn/{current['weather'][0]['icon']}@2x.png\")\r\n",
    "im = Image.open(BytesIO(icon.content))\r\n",
    "plt.imshow(im)\r\n",
    "ax.set_axis_off()\r\n",
    "plt.show()\r\n",
    "\r\n",
    "print(f\"Today, sun rises at {ts2dt(current['sunrise'], '%H:%M')[0]} \\\r\n",
    "and sets at {ts2dt(current['sunset'], '%H:%M')[0]}.\\n\\\r\n",
    "Currently, the weather is {current['weather'][0]['main']} ({current['weather'][0]['description']}).\\n\\\r\n",
    "The temperature is {current['temp']}°C and it feels like {current['feels_like']}°C.\\n\\\r\n",
    "The UV index is {current['uvi']}, humidity is {current['humidity']}%.\\n\\\r\n",
    "The pressure is {current['pressure']} hPa, percentage of cloud cover is {current['clouds']}%\\n\\\r\n",
    "The wind comes from {degrees_to_cardinal(current['wind_deg'])} direction with a speed {current['wind_speed']} m/s.\")"
   ]
  },
  {
   "cell_type": "code",
   "execution_count": 8,
   "metadata": {
    "execution": {
     "iopub.execute_input": "2021-09-10T14:14:50.405738Z",
     "iopub.status.busy": "2021-09-10T14:14:50.404691Z",
     "iopub.status.idle": "2021-09-10T14:14:50.413082Z",
     "shell.execute_reply": "2021-09-10T14:14:50.413872Z"
    }
   },
   "outputs": [],
   "source": [
    "df_hourly = pd.DataFrame(data['hourly'])\r\n",
    "df_daily = pd.DataFrame(data['daily'])"
   ]
  },
  {
   "cell_type": "code",
   "execution_count": 9,
   "metadata": {
    "execution": {
     "iopub.execute_input": "2021-09-10T14:14:50.417436Z",
     "iopub.status.busy": "2021-09-10T14:14:50.416158Z",
     "iopub.status.idle": "2021-09-10T14:14:50.776873Z",
     "shell.execute_reply": "2021-09-10T14:14:50.776225Z"
    }
   },
   "outputs": [
    {
     "data": {
      "image/png": "[encoded data removed]",
      "text/plain": [
       "<Figure size 864x432 with 1 Axes>"
      ]
     },
     "metadata": {
      "needs_background": "light"
     },
     "output_type": "display_data"
    }
   ],
   "source": [
    "fig, ax = plt.subplots(figsize=(12, 6))\r\n",
    "plt.plot(df_hourly.temp, '.-', label='Temperature')\r\n",
    "plt.plot(df_hourly.feels_like, '.-', label='Feels Like')\r\n",
    "ax.set(title='Temperature in future 48 hours', xlabel='Time', ylabel='Temperature')\r\n",
    "ax.set_xticks(list(range(0, len(df_hourly), 2)))\r\n",
    "ax.set_xticklabels([ts2dt(ts, '%m-%d %H:%M')[0] for i, ts in enumerate(df_hourly.dt) if i%2==0], \r\n",
    "                   rotation=45, ha=\"right\")\r\n",
    "ax.locator_params(nbins=15, axis='y')\r\n",
    "plt.legend()\r\n",
    "plt.show()"
   ]
  },
  {
   "cell_type": "code",
   "execution_count": 10,
   "metadata": {
    "execution": {
     "iopub.execute_input": "2021-09-10T14:14:50.790557Z",
     "iopub.status.busy": "2021-09-10T14:14:50.781319Z",
     "iopub.status.idle": "2021-09-10T14:14:50.802870Z",
     "shell.execute_reply": "2021-09-10T14:14:50.803378Z"
    }
   },
   "outputs": [
    {
     "data": {
      "text/html": [
       "<div>\n",
       "<style scoped>\n",
       "    .dataframe tbody tr th:only-of-type {\n",
       "        vertical-align: middle;\n",
       "    }\n",
       "\n",
       "    .dataframe tbody tr th {\n",
       "        vertical-align: top;\n",
       "    }\n",
       "\n",
       "    .dataframe thead th {\n",
       "        text-align: right;\n",
       "    }\n",
       "</style>\n",
       "<table border=\"1\" class=\"dataframe\">\n",
       "  <thead>\n",
       "    <tr style=\"text-align: right;\">\n",
       "      <th></th>\n",
       "      <th>dt</th>\n",
       "      <th>temp</th>\n",
       "      <th>feels_like</th>\n",
       "      <th>pressure</th>\n",
       "      <th>humidity</th>\n",
       "      <th>dew_point</th>\n",
       "      <th>uvi</th>\n",
       "      <th>clouds</th>\n",
       "      <th>visibility</th>\n",
       "      <th>wind_speed</th>\n",
       "      <th>wind_deg</th>\n",
       "      <th>wind_gust</th>\n",
       "      <th>weather</th>\n",
       "      <th>pop</th>\n",
       "      <th>rain</th>\n",
       "    </tr>\n",
       "  </thead>\n",
       "  <tbody>\n",
       "    <tr>\n",
       "      <th>0</th>\n",
       "      <td>1631282400</td>\n",
       "      <td>30.51</td>\n",
       "      <td>37.15</td>\n",
       "      <td>1008</td>\n",
       "      <td>73</td>\n",
       "      <td>25.12</td>\n",
       "      <td>0.0</td>\n",
       "      <td>4</td>\n",
       "      <td>10000</td>\n",
       "      <td>2.70</td>\n",
       "      <td>102</td>\n",
       "      <td>3.67</td>\n",
       "      <td>[{'id': 800, 'main': 'Clear', 'description': '...</td>\n",
       "      <td>0.38</td>\n",
       "      <td>NaN</td>\n",
       "    </tr>\n",
       "    <tr>\n",
       "      <th>1</th>\n",
       "      <td>1631286000</td>\n",
       "      <td>30.04</td>\n",
       "      <td>36.41</td>\n",
       "      <td>1008</td>\n",
       "      <td>75</td>\n",
       "      <td>25.12</td>\n",
       "      <td>0.0</td>\n",
       "      <td>4</td>\n",
       "      <td>10000</td>\n",
       "      <td>2.30</td>\n",
       "      <td>97</td>\n",
       "      <td>2.96</td>\n",
       "      <td>[{'id': 500, 'main': 'Rain', 'description': 'l...</td>\n",
       "      <td>0.38</td>\n",
       "      <td>{'1h': 0.12}</td>\n",
       "    </tr>\n",
       "    <tr>\n",
       "      <th>2</th>\n",
       "      <td>1631289600</td>\n",
       "      <td>29.49</td>\n",
       "      <td>35.41</td>\n",
       "      <td>1008</td>\n",
       "      <td>77</td>\n",
       "      <td>25.03</td>\n",
       "      <td>0.0</td>\n",
       "      <td>5</td>\n",
       "      <td>10000</td>\n",
       "      <td>2.24</td>\n",
       "      <td>97</td>\n",
       "      <td>2.71</td>\n",
       "      <td>[{'id': 800, 'main': 'Clear', 'description': '...</td>\n",
       "      <td>0.49</td>\n",
       "      <td>NaN</td>\n",
       "    </tr>\n",
       "    <tr>\n",
       "      <th>3</th>\n",
       "      <td>1631293200</td>\n",
       "      <td>28.93</td>\n",
       "      <td>34.34</td>\n",
       "      <td>1007</td>\n",
       "      <td>79</td>\n",
       "      <td>24.92</td>\n",
       "      <td>0.0</td>\n",
       "      <td>6</td>\n",
       "      <td>10000</td>\n",
       "      <td>2.25</td>\n",
       "      <td>101</td>\n",
       "      <td>2.66</td>\n",
       "      <td>[{'id': 500, 'main': 'Rain', 'description': 'l...</td>\n",
       "      <td>0.57</td>\n",
       "      <td>{'1h': 0.35}</td>\n",
       "    </tr>\n",
       "    <tr>\n",
       "      <th>4</th>\n",
       "      <td>1631296800</td>\n",
       "      <td>28.48</td>\n",
       "      <td>33.33</td>\n",
       "      <td>1007</td>\n",
       "      <td>80</td>\n",
       "      <td>24.69</td>\n",
       "      <td>0.0</td>\n",
       "      <td>7</td>\n",
       "      <td>10000</td>\n",
       "      <td>1.82</td>\n",
       "      <td>80</td>\n",
       "      <td>2.18</td>\n",
       "      <td>[{'id': 800, 'main': 'Clear', 'description': '...</td>\n",
       "      <td>0.57</td>\n",
       "      <td>NaN</td>\n",
       "    </tr>\n",
       "  </tbody>\n",
       "</table>\n",
       "</div>"
      ],
      "text/plain": [
       "           dt   temp  feels_like  pressure  humidity  dew_point  uvi  clouds  \\\n",
       "0  1631282400  30.51       37.15      1008        73      25.12  0.0       4   \n",
       "1  1631286000  30.04       36.41      1008        75      25.12  0.0       4   \n",
       "2  1631289600  29.49       35.41      1008        77      25.03  0.0       5   \n",
       "3  1631293200  28.93       34.34      1007        79      24.92  0.0       6   \n",
       "4  1631296800  28.48       33.33      1007        80      24.69  0.0       7   \n",
       "\n",
       "   visibility  wind_speed  wind_deg  wind_gust  \\\n",
       "0       10000        2.70       102       3.67   \n",
       "1       10000        2.30        97       2.96   \n",
       "2       10000        2.24        97       2.71   \n",
       "3       10000        2.25       101       2.66   \n",
       "4       10000        1.82        80       2.18   \n",
       "\n",
       "                                             weather   pop          rain  \n",
       "0  [{'id': 800, 'main': 'Clear', 'description': '...  0.38           NaN  \n",
       "1  [{'id': 500, 'main': 'Rain', 'description': 'l...  0.38  {'1h': 0.12}  \n",
       "2  [{'id': 800, 'main': 'Clear', 'description': '...  0.49           NaN  \n",
       "3  [{'id': 500, 'main': 'Rain', 'description': 'l...  0.57  {'1h': 0.35}  \n",
       "4  [{'id': 800, 'main': 'Clear', 'description': '...  0.57           NaN  "
      ]
     },
     "execution_count": 10,
     "metadata": {},
     "output_type": "execute_result"
    }
   ],
   "source": [
    "df_hourly.head()"
   ]
  },
  {
   "cell_type": "code",
   "execution_count": null,
   "metadata": {},
   "outputs": [],
   "source": []
  }
 ],
 "metadata": {
  "interpreter": {
   "hash": "c1b4cfe941b6d2466ad1fb5979e97da9cda8801728c8091b097ab734208fc00c"
  },
  "kernelspec": {
   "display_name": "Python 3.8.3 64-bit ('base': conda)",
   "name": "python3"
  },
  "language_info": {
   "codemirror_mode": {
    "name": "ipython",
    "version": 3
   },
   "file_extension": ".py",
   "mimetype": "text/x-python",
   "name": "python",
   "nbconvert_exporter": "python",
   "pygments_lexer": "ipython3",
   "version": "3.8.11"
  }
 },
 "nbformat": 4,
 "nbformat_minor": 2
}
