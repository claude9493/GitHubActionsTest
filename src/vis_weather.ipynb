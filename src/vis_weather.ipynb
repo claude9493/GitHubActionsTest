{
 "cells": [
  {
   "cell_type": "code",
   "execution_count": 1,
   "metadata": {
    "execution": {
     "iopub.execute_input": "2021-09-09T04:50:53.185143Z",
     "iopub.status.busy": "2021-09-09T04:50:53.184571Z",
     "iopub.status.idle": "2021-09-09T04:50:56.546991Z",
     "shell.execute_reply": "2021-09-09T04:50:56.546385Z"
    }
   },
   "outputs": [],
   "source": [
    "import json, yaml, requests\r\n",
    "from datetime import datetime\r\n",
    "from dateutil import tz\r\n",
    "import pandas as pd\r\n",
    "from PIL import Image\r\n",
    "from io import BytesIO\r\n",
    "import matplotlib.pyplot as plt\r\n",
    "import seaborn\r\n",
    "\r\n",
    "CONFIG_PATH = \"../config/config.yaml\""
   ]
  },
  {
   "cell_type": "code",
   "execution_count": 2,
   "metadata": {
    "execution": {
     "iopub.execute_input": "2021-09-09T04:50:56.552456Z",
     "iopub.status.busy": "2021-09-09T04:50:56.551908Z",
     "iopub.status.idle": "2021-09-09T04:50:56.556794Z",
     "shell.execute_reply": "2021-09-09T04:50:56.556155Z"
    }
   },
   "outputs": [],
   "source": [
    "with open('../newest_ts', 'r') as f:\r\n",
    "    newest_ts = f.read()\r\n",
    "\r\n",
    "data_path = f\"../data/data_{newest_ts}.json\"\r\n",
    "with open(data_path, 'r') as f:\r\n",
    "    data = json.load(f)\r\n",
    "\r\n",
    "with open(CONFIG_PATH, \"r\") as stream:\r\n",
    "    config = yaml.safe_load(stream)\r\n",
    "\r\n",
    "TIME_ZONE = config['time_zone']\r\n",
    "DATETIME_FORMAT = config['dt_format']"
   ]
  },
  {
   "cell_type": "code",
   "execution_count": 3,
   "metadata": {
    "execution": {
     "iopub.execute_input": "2021-09-09T04:50:56.560919Z",
     "iopub.status.busy": "2021-09-09T04:50:56.560433Z",
     "iopub.status.idle": "2021-09-09T04:50:56.564454Z",
     "shell.execute_reply": "2021-09-09T04:50:56.564823Z"
    }
   },
   "outputs": [
    {
     "name": "stdout",
     "output_type": "stream",
     "text": [
      "Recent query happens at 2021-09-09 12:50:50 (CST).\n"
     ]
    }
   ],
   "source": [
    "def ts2dt(ts, format=DATETIME_FORMAT):\r\n",
    "    dt = (datetime.utcfromtimestamp(int(ts))\r\n",
    "                    .replace(tzinfo=tz.tzutc())\r\n",
    "                    # .astimezone(tz.tzlocal())\r\n",
    "                    .astimezone(tz.gettz(TIME_ZONE)))\r\n",
    "    return dt.strftime(format), dt\r\n",
    "\r\n",
    "_, newest_dt = ts2dt(newest_ts)\r\n",
    "print(f\"Recent query happens at {newest_dt.strftime(DATETIME_FORMAT)} ({newest_dt.tzname()}).\")"
   ]
  },
  {
   "cell_type": "code",
   "execution_count": 4,
   "metadata": {
    "execution": {
     "iopub.execute_input": "2021-09-09T04:50:56.569529Z",
     "iopub.status.busy": "2021-09-09T04:50:56.568547Z",
     "iopub.status.idle": "2021-09-09T04:50:56.570046Z",
     "shell.execute_reply": "2021-09-09T04:50:56.570407Z"
    }
   },
   "outputs": [],
   "source": [
    "def degrees_to_cardinal(d):\r\n",
    "  dirs = ['N', 'NNE', 'NE', 'ENE', 'E', 'ESE', 'SE', 'SSE', 'S', 'SSW', 'SW', 'WSW', 'W', 'WNW', 'NW', 'NNW']\r\n",
    "  ix = int(round(d / (360. / len(dirs))))\r\n",
    "  return dirs[ix % len(dirs)]"
   ]
  },
  {
   "cell_type": "code",
   "execution_count": 5,
   "metadata": {
    "execution": {
     "iopub.execute_input": "2021-09-09T04:50:56.574102Z",
     "iopub.status.busy": "2021-09-09T04:50:56.573112Z",
     "iopub.status.idle": "2021-09-09T04:50:56.574625Z",
     "shell.execute_reply": "2021-09-09T04:50:56.574987Z"
    }
   },
   "outputs": [],
   "source": [
    "# data.keys()"
   ]
  },
  {
   "cell_type": "code",
   "execution_count": 6,
   "metadata": {
    "execution": {
     "iopub.execute_input": "2021-09-09T04:50:56.578485Z",
     "iopub.status.busy": "2021-09-09T04:50:56.577457Z",
     "iopub.status.idle": "2021-09-09T04:50:56.579007Z",
     "shell.execute_reply": "2021-09-09T04:50:56.579368Z"
    }
   },
   "outputs": [],
   "source": [
    "# data['current']"
   ]
  },
  {
   "cell_type": "code",
   "execution_count": 7,
   "metadata": {
    "execution": {
     "iopub.execute_input": "2021-09-09T04:50:56.595639Z",
     "iopub.status.busy": "2021-09-09T04:50:56.595173Z",
     "iopub.status.idle": "2021-09-09T04:50:56.875388Z",
     "shell.execute_reply": "2021-09-09T04:50:56.875778Z"
    }
   },
   "outputs": [
    {
     "data": {
      "image/png": "[encoded data removed]",
      "text/plain": [
       "<Figure size 216x216 with 1 Axes>"
      ]
     },
     "metadata": {
      "needs_background": "light"
     },
     "output_type": "display_data"
    },
    {
     "name": "stdout",
     "output_type": "stream",
     "text": [
      "Today, sun rises at 06:08 and sets at 18:32.\n",
      "Currently, the weather is Clouds (few clouds).\n",
      "The temperature is 32.5°C and it feels like 39.5°C.\n",
      "The UV index is 8.8, humidity is 70%.\n",
      "The pressure is 1009 hPa, percentage of cloud cover is 19%\n",
      "The wind comes from E direction with a speed 3.53 m/s.\n"
     ]
    }
   ],
   "source": [
    "current = data['current']\r\n",
    "\r\n",
    "fig, ax = plt.subplots(figsize=(3, 3))\r\n",
    "icon = requests.get(f\"http://openweathermap.org/img/wn/{current['weather'][0]['icon']}@2x.png\")\r\n",
    "im = Image.open(BytesIO(icon.content))\r\n",
    "plt.imshow(im)\r\n",
    "ax.set_axis_off()\r\n",
    "plt.show()\r\n",
    "\r\n",
    "print(f\"Today, sun rises at {ts2dt(current['sunrise'], '%H:%M')[0]} \\\r\n",
    "and sets at {ts2dt(current['sunset'], '%H:%M')[0]}.\\n\\\r\n",
    "Currently, the weather is {current['weather'][0]['main']} ({current['weather'][0]['description']}).\\n\\\r\n",
    "The temperature is {current['temp']}°C and it feels like {current['feels_like']}°C.\\n\\\r\n",
    "The UV index is {current['uvi']}, humidity is {current['humidity']}%.\\n\\\r\n",
    "The pressure is {current['pressure']} hPa, percentage of cloud cover is {current['clouds']}%\\n\\\r\n",
    "The wind comes from {degrees_to_cardinal(current['wind_deg'])} direction with a speed {current['wind_speed']} m/s.\")"
   ]
  },
  {
   "cell_type": "code",
   "execution_count": 8,
   "metadata": {
    "execution": {
     "iopub.execute_input": "2021-09-09T04:50:56.881963Z",
     "iopub.status.busy": "2021-09-09T04:50:56.880040Z",
     "iopub.status.idle": "2021-09-09T04:50:56.884194Z",
     "shell.execute_reply": "2021-09-09T04:50:56.883810Z"
    }
   },
   "outputs": [],
   "source": [
    "df_hourly = pd.DataFrame(data['hourly'])\r\n",
    "df_daily = pd.DataFrame(data['daily'])"
   ]
  },
  {
   "cell_type": "code",
   "execution_count": 9,
   "metadata": {
    "execution": {
     "iopub.execute_input": "2021-09-09T04:50:56.900831Z",
     "iopub.status.busy": "2021-09-09T04:50:56.899004Z",
     "iopub.status.idle": "2021-09-09T04:50:57.131110Z",
     "shell.execute_reply": "2021-09-09T04:50:57.131488Z"
    }
   },
   "outputs": [
    {
     "data": {
      "image/png": "[encoded data removed]",
      "text/plain": [
       "<Figure size 864x432 with 1 Axes>"
      ]
     },
     "metadata": {
      "needs_background": "light"
     },
     "output_type": "display_data"
    }
   ],
   "source": [
    "fig, ax = plt.subplots(figsize=(12, 6))\r\n",
    "plt.plot(df_hourly.temp, '.-', label='Temperature')\r\n",
    "plt.plot(df_hourly.feels_like, '.-', label='Feels Like')\r\n",
    "ax.set(title='Temperature in future 48 hours', xlabel='Time', ylabel='Temperature')\r\n",
    "ax.set_xticks(list(range(0, len(df_hourly), 2)))\r\n",
    "ax.set_xticklabels([ts2dt(ts, '%m-%d %H:%M')[0] for i, ts in enumerate(df_hourly.dt) if i%2==0], \r\n",
    "                   rotation=45, ha=\"right\")\r\n",
    "ax.locator_params(nbins=15, axis='y')\r\n",
    "plt.legend()\r\n",
    "plt.show()"
   ]
  },
  {
   "cell_type": "code",
   "execution_count": 10,
   "metadata": {
    "execution": {
     "iopub.execute_input": "2021-09-09T04:50:57.135855Z",
     "iopub.status.busy": "2021-09-09T04:50:57.135378Z",
     "iopub.status.idle": "2021-09-09T04:50:57.153365Z",
     "shell.execute_reply": "2021-09-09T04:50:57.152965Z"
    }
   },
   "outputs": [
    {
     "data": {
      "text/html": [
       "<div>\n",
       "<style scoped>\n",
       "    .dataframe tbody tr th:only-of-type {\n",
       "        vertical-align: middle;\n",
       "    }\n",
       "\n",
       "    .dataframe tbody tr th {\n",
       "        vertical-align: top;\n",
       "    }\n",
       "\n",
       "    .dataframe thead th {\n",
       "        text-align: right;\n",
       "    }\n",
       "</style>\n",
       "<table border=\"1\" class=\"dataframe\">\n",
       "  <thead>\n",
       "    <tr style=\"text-align: right;\">\n",
       "      <th></th>\n",
       "      <th>dt</th>\n",
       "      <th>temp</th>\n",
       "      <th>feels_like</th>\n",
       "      <th>pressure</th>\n",
       "      <th>humidity</th>\n",
       "      <th>dew_point</th>\n",
       "      <th>uvi</th>\n",
       "      <th>clouds</th>\n",
       "      <th>visibility</th>\n",
       "      <th>wind_speed</th>\n",
       "      <th>wind_deg</th>\n",
       "      <th>wind_gust</th>\n",
       "      <th>weather</th>\n",
       "      <th>pop</th>\n",
       "      <th>rain</th>\n",
       "    </tr>\n",
       "  </thead>\n",
       "  <tbody>\n",
       "    <tr>\n",
       "      <th>0</th>\n",
       "      <td>1631160000</td>\n",
       "      <td>32.09</td>\n",
       "      <td>39.09</td>\n",
       "      <td>1009</td>\n",
       "      <td>69</td>\n",
       "      <td>25.68</td>\n",
       "      <td>8.94</td>\n",
       "      <td>17</td>\n",
       "      <td>10000</td>\n",
       "      <td>3.18</td>\n",
       "      <td>86</td>\n",
       "      <td>3.34</td>\n",
       "      <td>[{'id': 801, 'main': 'Clouds', 'description': ...</td>\n",
       "      <td>0.00</td>\n",
       "      <td>NaN</td>\n",
       "    </tr>\n",
       "    <tr>\n",
       "      <th>1</th>\n",
       "      <td>1631163600</td>\n",
       "      <td>32.50</td>\n",
       "      <td>39.50</td>\n",
       "      <td>1009</td>\n",
       "      <td>70</td>\n",
       "      <td>26.31</td>\n",
       "      <td>8.80</td>\n",
       "      <td>19</td>\n",
       "      <td>10000</td>\n",
       "      <td>3.53</td>\n",
       "      <td>98</td>\n",
       "      <td>3.56</td>\n",
       "      <td>[{'id': 801, 'main': 'Clouds', 'description': ...</td>\n",
       "      <td>0.01</td>\n",
       "      <td>NaN</td>\n",
       "    </tr>\n",
       "    <tr>\n",
       "      <th>2</th>\n",
       "      <td>1631167200</td>\n",
       "      <td>32.10</td>\n",
       "      <td>39.10</td>\n",
       "      <td>1009</td>\n",
       "      <td>69</td>\n",
       "      <td>25.69</td>\n",
       "      <td>7.26</td>\n",
       "      <td>20</td>\n",
       "      <td>10000</td>\n",
       "      <td>4.17</td>\n",
       "      <td>110</td>\n",
       "      <td>3.77</td>\n",
       "      <td>[{'id': 801, 'main': 'Clouds', 'description': ...</td>\n",
       "      <td>0.06</td>\n",
       "      <td>NaN</td>\n",
       "    </tr>\n",
       "    <tr>\n",
       "      <th>3</th>\n",
       "      <td>1631170800</td>\n",
       "      <td>31.67</td>\n",
       "      <td>38.67</td>\n",
       "      <td>1009</td>\n",
       "      <td>68</td>\n",
       "      <td>25.04</td>\n",
       "      <td>4.60</td>\n",
       "      <td>39</td>\n",
       "      <td>10000</td>\n",
       "      <td>4.18</td>\n",
       "      <td>114</td>\n",
       "      <td>3.76</td>\n",
       "      <td>[{'id': 802, 'main': 'Clouds', 'description': ...</td>\n",
       "      <td>0.14</td>\n",
       "      <td>NaN</td>\n",
       "    </tr>\n",
       "    <tr>\n",
       "      <th>4</th>\n",
       "      <td>1631174400</td>\n",
       "      <td>31.14</td>\n",
       "      <td>37.37</td>\n",
       "      <td>1008</td>\n",
       "      <td>68</td>\n",
       "      <td>24.53</td>\n",
       "      <td>2.36</td>\n",
       "      <td>53</td>\n",
       "      <td>10000</td>\n",
       "      <td>3.85</td>\n",
       "      <td>113</td>\n",
       "      <td>3.64</td>\n",
       "      <td>[{'id': 803, 'main': 'Clouds', 'description': ...</td>\n",
       "      <td>0.06</td>\n",
       "      <td>NaN</td>\n",
       "    </tr>\n",
       "  </tbody>\n",
       "</table>\n",
       "</div>"
      ],
      "text/plain": [
       "           dt   temp  feels_like  pressure  humidity  dew_point   uvi  clouds  \\\n",
       "0  1631160000  32.09       39.09      1009        69      25.68  8.94      17   \n",
       "1  1631163600  32.50       39.50      1009        70      26.31  8.80      19   \n",
       "2  1631167200  32.10       39.10      1009        69      25.69  7.26      20   \n",
       "3  1631170800  31.67       38.67      1009        68      25.04  4.60      39   \n",
       "4  1631174400  31.14       37.37      1008        68      24.53  2.36      53   \n",
       "\n",
       "   visibility  wind_speed  wind_deg  wind_gust  \\\n",
       "0       10000        3.18        86       3.34   \n",
       "1       10000        3.53        98       3.56   \n",
       "2       10000        4.17       110       3.77   \n",
       "3       10000        4.18       114       3.76   \n",
       "4       10000        3.85       113       3.64   \n",
       "\n",
       "                                             weather   pop rain  \n",
       "0  [{'id': 801, 'main': 'Clouds', 'description': ...  0.00  NaN  \n",
       "1  [{'id': 801, 'main': 'Clouds', 'description': ...  0.01  NaN  \n",
       "2  [{'id': 801, 'main': 'Clouds', 'description': ...  0.06  NaN  \n",
       "3  [{'id': 802, 'main': 'Clouds', 'description': ...  0.14  NaN  \n",
       "4  [{'id': 803, 'main': 'Clouds', 'description': ...  0.06  NaN  "
      ]
     },
     "execution_count": 10,
     "metadata": {},
     "output_type": "execute_result"
    }
   ],
   "source": [
    "df_hourly.head()"
   ]
  },
  {
   "cell_type": "code",
   "execution_count": null,
   "metadata": {},
   "outputs": [],
   "source": []
  }
 ],
 "metadata": {
  "interpreter": {
   "hash": "c1b4cfe941b6d2466ad1fb5979e97da9cda8801728c8091b097ab734208fc00c"
  },
  "kernelspec": {
   "display_name": "Python 3.8.3 64-bit ('base': conda)",
   "name": "python3"
  },
  "language_info": {
   "codemirror_mode": {
    "name": "ipython",
    "version": 3
   },
   "file_extension": ".py",
   "mimetype": "text/x-python",
   "name": "python",
   "nbconvert_exporter": "python",
   "pygments_lexer": "ipython3",
   "version": "3.8.11"
  }
 },
 "nbformat": 4,
 "nbformat_minor": 2
}
