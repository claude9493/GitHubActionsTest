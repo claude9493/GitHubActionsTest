{
 "cells": [
  {
   "cell_type": "code",
   "execution_count": 1,
   "metadata": {
    "execution": {
     "iopub.execute_input": "2021-08-29T07:14:52.172499Z",
     "iopub.status.busy": "2021-08-29T07:14:52.171846Z",
     "iopub.status.idle": "2021-08-29T07:14:53.525103Z",
     "shell.execute_reply": "2021-08-29T07:14:53.524375Z"
    }
   },
   "outputs": [],
   "source": [
    "import json, yaml, requests\r\n",
    "from datetime import datetime\r\n",
    "from dateutil import tz\r\n",
    "import pandas as pd\r\n",
    "from PIL import Image\r\n",
    "from io import BytesIO\r\n",
    "import matplotlib.pyplot as plt\r\n",
    "import seaborn\r\n",
    "\r\n",
    "CONFIG_PATH = \"../config/config.yaml\""
   ]
  },
  {
   "cell_type": "code",
   "execution_count": 2,
   "metadata": {
    "execution": {
     "iopub.execute_input": "2021-08-29T07:14:53.531992Z",
     "iopub.status.busy": "2021-08-29T07:14:53.530892Z",
     "iopub.status.idle": "2021-08-29T07:14:53.537346Z",
     "shell.execute_reply": "2021-08-29T07:14:53.536539Z"
    }
   },
   "outputs": [],
   "source": [
    "with open('../newest_ts', 'r') as f:\r\n",
    "    newest_ts = f.read()\r\n",
    "\r\n",
    "data_path = f\"../data/data_{newest_ts}.json\"\r\n",
    "with open(data_path, 'r') as f:\r\n",
    "    data = json.load(f)\r\n",
    "\r\n",
    "with open(CONFIG_PATH, \"r\") as stream:\r\n",
    "    config = yaml.safe_load(stream)\r\n",
    "\r\n",
    "TIME_ZONE = config['time_zone']\r\n",
    "DATETIME_FORMAT = config['dt_format']"
   ]
  },
  {
   "cell_type": "code",
   "execution_count": 3,
   "metadata": {
    "execution": {
     "iopub.execute_input": "2021-08-29T07:14:53.542706Z",
     "iopub.status.busy": "2021-08-29T07:14:53.541848Z",
     "iopub.status.idle": "2021-08-29T07:14:53.549046Z",
     "shell.execute_reply": "2021-08-29T07:14:53.549458Z"
    }
   },
   "outputs": [
    {
     "name": "stdout",
     "output_type": "stream",
     "text": [
      "Recent query happens at 2021-08-29 15:14:49 (CST).\n"
     ]
    }
   ],
   "source": [
    "def ts2dt(ts, format=DATETIME_FORMAT):\r\n",
    "    dt = (datetime.utcfromtimestamp(int(ts))\r\n",
    "                    .replace(tzinfo=tz.tzutc())\r\n",
    "                    # .astimezone(tz.tzlocal())\r\n",
    "                    .astimezone(tz.gettz(TIME_ZONE)))\r\n",
    "    return dt.strftime(format), dt\r\n",
    "\r\n",
    "_, newest_dt = ts2dt(newest_ts)\r\n",
    "print(f\"Recent query happens at {newest_dt.strftime(DATETIME_FORMAT)} ({newest_dt.tzname()}).\")"
   ]
  },
  {
   "cell_type": "code",
   "execution_count": 4,
   "metadata": {
    "execution": {
     "iopub.execute_input": "2021-08-29T07:14:53.554683Z",
     "iopub.status.busy": "2021-08-29T07:14:53.553974Z",
     "iopub.status.idle": "2021-08-29T07:14:53.556881Z",
     "shell.execute_reply": "2021-08-29T07:14:53.556312Z"
    }
   },
   "outputs": [],
   "source": [
    "def degrees_to_cardinal(d):\r\n",
    "  dirs = ['N', 'NNE', 'NE', 'ENE', 'E', 'ESE', 'SE', 'SSE', 'S', 'SSW', 'SW', 'WSW', 'W', 'WNW', 'NW', 'NNW']\r\n",
    "  ix = int(round(d / (360. / len(dirs))))\r\n",
    "  return dirs[ix % len(dirs)]"
   ]
  },
  {
   "cell_type": "code",
   "execution_count": 5,
   "metadata": {
    "execution": {
     "iopub.execute_input": "2021-08-29T07:14:53.561001Z",
     "iopub.status.busy": "2021-08-29T07:14:53.560301Z",
     "iopub.status.idle": "2021-08-29T07:14:53.562969Z",
     "shell.execute_reply": "2021-08-29T07:14:53.562416Z"
    }
   },
   "outputs": [],
   "source": [
    "# data.keys()"
   ]
  },
  {
   "cell_type": "code",
   "execution_count": 6,
   "metadata": {
    "execution": {
     "iopub.execute_input": "2021-08-29T07:14:53.567964Z",
     "iopub.status.busy": "2021-08-29T07:14:53.566481Z",
     "iopub.status.idle": "2021-08-29T07:14:53.568639Z",
     "shell.execute_reply": "2021-08-29T07:14:53.569087Z"
    }
   },
   "outputs": [],
   "source": [
    "# data['current']"
   ]
  },
  {
   "cell_type": "code",
   "execution_count": 7,
   "metadata": {
    "execution": {
     "iopub.execute_input": "2021-08-29T07:14:53.583852Z",
     "iopub.status.busy": "2021-08-29T07:14:53.583188Z",
     "iopub.status.idle": "2021-08-29T07:14:54.056241Z",
     "shell.execute_reply": "2021-08-29T07:14:54.055787Z"
    }
   },
   "outputs": [
    {
     "data": {
      "image/png": "[encoded data removed]",
      "text/plain": [
       "<Figure size 216x216 with 1 Axes>"
      ]
     },
     "metadata": {
      "needs_background": "light"
     },
     "output_type": "display_data"
    },
    {
     "name": "stdout",
     "output_type": "stream",
     "text": [
      "Today, sun rises at 06:04 and sets at 18:43.\n",
      "Currently, the weather is Clouds (overcast clouds).\n",
      "The temperature is 30.67°C and it feels like 37.67°C.\n",
      "The UV index is 6.35, humidity is 76%.\n",
      "The pressure is 1010 hPa, percentage of cloud cover is 100%\n",
      "The wind comes from ESE direction with a speed 3.89 m/s.\n"
     ]
    }
   ],
   "source": [
    "current = data['current']\r\n",
    "\r\n",
    "fig, ax = plt.subplots(figsize=(3, 3))\r\n",
    "icon = requests.get(f\"http://openweathermap.org/img/wn/{current['weather'][0]['icon']}@2x.png\")\r\n",
    "im = Image.open(BytesIO(icon.content))\r\n",
    "plt.imshow(im)\r\n",
    "ax.set_axis_off()\r\n",
    "plt.show()\r\n",
    "\r\n",
    "print(f\"Today, sun rises at {ts2dt(current['sunrise'], '%H:%M')[0]} \\\r\n",
    "and sets at {ts2dt(current['sunset'], '%H:%M')[0]}.\\n\\\r\n",
    "Currently, the weather is {current['weather'][0]['main']} ({current['weather'][0]['description']}).\\n\\\r\n",
    "The temperature is {current['temp']}°C and it feels like {current['feels_like']}°C.\\n\\\r\n",
    "The UV index is {current['uvi']}, humidity is {current['humidity']}%.\\n\\\r\n",
    "The pressure is {current['pressure']} hPa, percentage of cloud cover is {current['clouds']}%\\n\\\r\n",
    "The wind comes from {degrees_to_cardinal(current['wind_deg'])} direction with a speed {current['wind_speed']} m/s.\")"
   ]
  },
  {
   "cell_type": "code",
   "execution_count": 8,
   "metadata": {
    "execution": {
     "iopub.execute_input": "2021-08-29T07:14:54.066047Z",
     "iopub.status.busy": "2021-08-29T07:14:54.064411Z",
     "iopub.status.idle": "2021-08-29T07:14:54.068567Z",
     "shell.execute_reply": "2021-08-29T07:14:54.069243Z"
    }
   },
   "outputs": [],
   "source": [
    "df_hourly = pd.DataFrame(data['hourly'])\r\n",
    "df_daily = pd.DataFrame(data['daily'])"
   ]
  },
  {
   "cell_type": "code",
   "execution_count": 9,
   "metadata": {
    "execution": {
     "iopub.execute_input": "2021-08-29T07:14:54.080868Z",
     "iopub.status.busy": "2021-08-29T07:14:54.080314Z",
     "iopub.status.idle": "2021-08-29T07:14:54.381504Z",
     "shell.execute_reply": "2021-08-29T07:14:54.380939Z"
    }
   },
   "outputs": [
    {
     "data": {
      "image/png": "[encoded data removed]",
      "text/plain": [
       "<Figure size 864x432 with 1 Axes>"
      ]
     },
     "metadata": {
      "needs_background": "light"
     },
     "output_type": "display_data"
    }
   ],
   "source": [
    "fig, ax = plt.subplots(figsize=(12, 6))\r\n",
    "plt.plot(df_hourly.temp, '.-', label='Temperature')\r\n",
    "plt.plot(df_hourly.feels_like, '.-', label='Feels Like')\r\n",
    "ax.set(title='Temperature in future 48 hours', xlabel='Time', ylabel='Temperature')\r\n",
    "ax.set_xticks(list(range(0, len(df_hourly), 2)))\r\n",
    "ax.set_xticklabels([ts2dt(ts, '%m-%d %H:%M')[0] for i, ts in enumerate(df_hourly.dt) if i%2==0], \r\n",
    "                   rotation=45, ha=\"right\")\r\n",
    "ax.locator_params(nbins=15, axis='y')\r\n",
    "plt.legend()\r\n",
    "plt.show()"
   ]
  },
  {
   "cell_type": "code",
   "execution_count": 10,
   "metadata": {
    "execution": {
     "iopub.execute_input": "2021-08-29T07:14:54.394039Z",
     "iopub.status.busy": "2021-08-29T07:14:54.385435Z",
     "iopub.status.idle": "2021-08-29T07:14:54.407080Z",
     "shell.execute_reply": "2021-08-29T07:14:54.406213Z"
    }
   },
   "outputs": [
    {
     "data": {
      "text/html": [
       "<div>\n",
       "<style scoped>\n",
       "    .dataframe tbody tr th:only-of-type {\n",
       "        vertical-align: middle;\n",
       "    }\n",
       "\n",
       "    .dataframe tbody tr th {\n",
       "        vertical-align: top;\n",
       "    }\n",
       "\n",
       "    .dataframe thead th {\n",
       "        text-align: right;\n",
       "    }\n",
       "</style>\n",
       "<table border=\"1\" class=\"dataframe\">\n",
       "  <thead>\n",
       "    <tr style=\"text-align: right;\">\n",
       "      <th></th>\n",
       "      <th>dt</th>\n",
       "      <th>temp</th>\n",
       "      <th>feels_like</th>\n",
       "      <th>pressure</th>\n",
       "      <th>humidity</th>\n",
       "      <th>dew_point</th>\n",
       "      <th>uvi</th>\n",
       "      <th>clouds</th>\n",
       "      <th>visibility</th>\n",
       "      <th>wind_speed</th>\n",
       "      <th>wind_deg</th>\n",
       "      <th>wind_gust</th>\n",
       "      <th>weather</th>\n",
       "      <th>pop</th>\n",
       "      <th>rain</th>\n",
       "    </tr>\n",
       "  </thead>\n",
       "  <tbody>\n",
       "    <tr>\n",
       "      <th>0</th>\n",
       "      <td>1630220400</td>\n",
       "      <td>30.67</td>\n",
       "      <td>37.67</td>\n",
       "      <td>1010</td>\n",
       "      <td>76</td>\n",
       "      <td>25.95</td>\n",
       "      <td>6.35</td>\n",
       "      <td>100</td>\n",
       "      <td>10000</td>\n",
       "      <td>3.89</td>\n",
       "      <td>111</td>\n",
       "      <td>5.30</td>\n",
       "      <td>[{'id': 500, 'main': 'Rain', 'description': 'l...</td>\n",
       "      <td>0.74</td>\n",
       "      <td>{'1h': 0.8}</td>\n",
       "    </tr>\n",
       "    <tr>\n",
       "      <th>1</th>\n",
       "      <td>1630224000</td>\n",
       "      <td>30.47</td>\n",
       "      <td>37.33</td>\n",
       "      <td>1010</td>\n",
       "      <td>74</td>\n",
       "      <td>25.31</td>\n",
       "      <td>3.35</td>\n",
       "      <td>100</td>\n",
       "      <td>10000</td>\n",
       "      <td>3.93</td>\n",
       "      <td>102</td>\n",
       "      <td>5.23</td>\n",
       "      <td>[{'id': 804, 'main': 'Clouds', 'description': ...</td>\n",
       "      <td>0.70</td>\n",
       "      <td>NaN</td>\n",
       "    </tr>\n",
       "    <tr>\n",
       "      <th>2</th>\n",
       "      <td>1630227600</td>\n",
       "      <td>30.18</td>\n",
       "      <td>36.52</td>\n",
       "      <td>1010</td>\n",
       "      <td>74</td>\n",
       "      <td>25.03</td>\n",
       "      <td>1.21</td>\n",
       "      <td>100</td>\n",
       "      <td>10000</td>\n",
       "      <td>4.37</td>\n",
       "      <td>96</td>\n",
       "      <td>5.72</td>\n",
       "      <td>[{'id': 804, 'main': 'Clouds', 'description': ...</td>\n",
       "      <td>0.58</td>\n",
       "      <td>NaN</td>\n",
       "    </tr>\n",
       "    <tr>\n",
       "      <th>3</th>\n",
       "      <td>1630231200</td>\n",
       "      <td>29.60</td>\n",
       "      <td>35.23</td>\n",
       "      <td>1010</td>\n",
       "      <td>75</td>\n",
       "      <td>24.70</td>\n",
       "      <td>0.22</td>\n",
       "      <td>98</td>\n",
       "      <td>10000</td>\n",
       "      <td>4.07</td>\n",
       "      <td>95</td>\n",
       "      <td>6.08</td>\n",
       "      <td>[{'id': 804, 'main': 'Clouds', 'description': ...</td>\n",
       "      <td>0.58</td>\n",
       "      <td>NaN</td>\n",
       "    </tr>\n",
       "    <tr>\n",
       "      <th>4</th>\n",
       "      <td>1630234800</td>\n",
       "      <td>28.81</td>\n",
       "      <td>33.81</td>\n",
       "      <td>1010</td>\n",
       "      <td>78</td>\n",
       "      <td>24.59</td>\n",
       "      <td>0.00</td>\n",
       "      <td>90</td>\n",
       "      <td>10000</td>\n",
       "      <td>4.11</td>\n",
       "      <td>98</td>\n",
       "      <td>6.09</td>\n",
       "      <td>[{'id': 804, 'main': 'Clouds', 'description': ...</td>\n",
       "      <td>0.51</td>\n",
       "      <td>NaN</td>\n",
       "    </tr>\n",
       "  </tbody>\n",
       "</table>\n",
       "</div>"
      ],
      "text/plain": [
       "           dt   temp  feels_like  pressure  humidity  dew_point   uvi  clouds  \\\n",
       "0  1630220400  30.67       37.67      1010        76      25.95  6.35     100   \n",
       "1  1630224000  30.47       37.33      1010        74      25.31  3.35     100   \n",
       "2  1630227600  30.18       36.52      1010        74      25.03  1.21     100   \n",
       "3  1630231200  29.60       35.23      1010        75      24.70  0.22      98   \n",
       "4  1630234800  28.81       33.81      1010        78      24.59  0.00      90   \n",
       "\n",
       "   visibility  wind_speed  wind_deg  wind_gust  \\\n",
       "0       10000        3.89       111       5.30   \n",
       "1       10000        3.93       102       5.23   \n",
       "2       10000        4.37        96       5.72   \n",
       "3       10000        4.07        95       6.08   \n",
       "4       10000        4.11        98       6.09   \n",
       "\n",
       "                                             weather   pop         rain  \n",
       "0  [{'id': 500, 'main': 'Rain', 'description': 'l...  0.74  {'1h': 0.8}  \n",
       "1  [{'id': 804, 'main': 'Clouds', 'description': ...  0.70          NaN  \n",
       "2  [{'id': 804, 'main': 'Clouds', 'description': ...  0.58          NaN  \n",
       "3  [{'id': 804, 'main': 'Clouds', 'description': ...  0.58          NaN  \n",
       "4  [{'id': 804, 'main': 'Clouds', 'description': ...  0.51          NaN  "
      ]
     },
     "execution_count": 10,
     "metadata": {},
     "output_type": "execute_result"
    }
   ],
   "source": [
    "df_hourly.head()"
   ]
  },
  {
   "cell_type": "code",
   "execution_count": null,
   "metadata": {},
   "outputs": [],
   "source": []
  }
 ],
 "metadata": {
  "interpreter": {
   "hash": "c1b4cfe941b6d2466ad1fb5979e97da9cda8801728c8091b097ab734208fc00c"
  },
  "kernelspec": {
   "display_name": "Python 3.8.3 64-bit ('base': conda)",
   "name": "python3"
  },
  "language_info": {
   "codemirror_mode": {
    "name": "ipython",
    "version": 3
   },
   "file_extension": ".py",
   "mimetype": "text/x-python",
   "name": "python",
   "nbconvert_exporter": "python",
   "pygments_lexer": "ipython3",
   "version": "3.8.11"
  }
 },
 "nbformat": 4,
 "nbformat_minor": 2
}
