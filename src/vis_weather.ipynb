{
 "cells": [
  {
   "cell_type": "code",
   "execution_count": 1,
   "metadata": {
    "execution": {
     "iopub.execute_input": "2021-09-20T12:18:45.470057Z",
     "iopub.status.busy": "2021-09-20T12:18:45.469297Z",
     "iopub.status.idle": "2021-09-20T12:18:48.051880Z",
     "shell.execute_reply": "2021-09-20T12:18:48.052359Z"
    }
   },
   "outputs": [],
   "source": [
    "import json, yaml, requests\r\n",
    "from datetime import datetime\r\n",
    "from dateutil import tz\r\n",
    "import pandas as pd\r\n",
    "from PIL import Image\r\n",
    "from io import BytesIO\r\n",
    "import matplotlib.pyplot as plt\r\n",
    "import seaborn\r\n",
    "\r\n",
    "CONFIG_PATH = \"../config/config.yaml\""
   ]
  },
  {
   "cell_type": "code",
   "execution_count": 2,
   "metadata": {
    "execution": {
     "iopub.execute_input": "2021-09-20T12:18:48.059121Z",
     "iopub.status.busy": "2021-09-20T12:18:48.058439Z",
     "iopub.status.idle": "2021-09-20T12:18:48.067565Z",
     "shell.execute_reply": "2021-09-20T12:18:48.067996Z"
    }
   },
   "outputs": [],
   "source": [
    "with open('../newest_ts', 'r') as f:\r\n",
    "    newest_ts = f.read()\r\n",
    "\r\n",
    "data_path = f\"../data/data_{newest_ts}.json\"\r\n",
    "with open(data_path, 'r') as f:\r\n",
    "    data = json.load(f)\r\n",
    "\r\n",
    "with open(CONFIG_PATH, \"r\") as stream:\r\n",
    "    config = yaml.safe_load(stream)\r\n",
    "\r\n",
    "TIME_ZONE = config['time_zone']\r\n",
    "DATETIME_FORMAT = config['dt_format']"
   ]
  },
  {
   "cell_type": "code",
   "execution_count": 3,
   "metadata": {
    "execution": {
     "iopub.execute_input": "2021-09-20T12:18:48.075995Z",
     "iopub.status.busy": "2021-09-20T12:18:48.075458Z",
     "iopub.status.idle": "2021-09-20T12:18:48.082703Z",
     "shell.execute_reply": "2021-09-20T12:18:48.082216Z"
    }
   },
   "outputs": [
    {
     "name": "stdout",
     "output_type": "stream",
     "text": [
      "Recent query happens at 2021-09-20 20:18:42 (CST).\n"
     ]
    }
   ],
   "source": [
    "def ts2dt(ts, format=DATETIME_FORMAT):\r\n",
    "    dt = (datetime.utcfromtimestamp(int(ts))\r\n",
    "                    .replace(tzinfo=tz.tzutc())\r\n",
    "                    # .astimezone(tz.tzlocal())\r\n",
    "                    .astimezone(tz.gettz(TIME_ZONE)))\r\n",
    "    return dt.strftime(format), dt\r\n",
    "\r\n",
    "_, newest_dt = ts2dt(newest_ts)\r\n",
    "print(f\"Recent query happens at {newest_dt.strftime(DATETIME_FORMAT)} ({newest_dt.tzname()}).\")"
   ]
  },
  {
   "cell_type": "code",
   "execution_count": 4,
   "metadata": {
    "execution": {
     "iopub.execute_input": "2021-09-20T12:18:48.087689Z",
     "iopub.status.busy": "2021-09-20T12:18:48.087153Z",
     "iopub.status.idle": "2021-09-20T12:18:48.090280Z",
     "shell.execute_reply": "2021-09-20T12:18:48.090787Z"
    }
   },
   "outputs": [],
   "source": [
    "def degrees_to_cardinal(d):\r\n",
    "  dirs = ['N', 'NNE', 'NE', 'ENE', 'E', 'ESE', 'SE', 'SSE', 'S', 'SSW', 'SW', 'WSW', 'W', 'WNW', 'NW', 'NNW']\r\n",
    "  ix = int(round(d / (360. / len(dirs))))\r\n",
    "  return dirs[ix % len(dirs)]"
   ]
  },
  {
   "cell_type": "code",
   "execution_count": 5,
   "metadata": {
    "execution": {
     "iopub.execute_input": "2021-09-20T12:18:48.095666Z",
     "iopub.status.busy": "2021-09-20T12:18:48.094197Z",
     "iopub.status.idle": "2021-09-20T12:18:48.096264Z",
     "shell.execute_reply": "2021-09-20T12:18:48.096691Z"
    }
   },
   "outputs": [],
   "source": [
    "# data.keys()"
   ]
  },
  {
   "cell_type": "code",
   "execution_count": 6,
   "metadata": {
    "execution": {
     "iopub.execute_input": "2021-09-20T12:18:48.100759Z",
     "iopub.status.busy": "2021-09-20T12:18:48.099610Z",
     "iopub.status.idle": "2021-09-20T12:18:48.101352Z",
     "shell.execute_reply": "2021-09-20T12:18:48.101774Z"
    }
   },
   "outputs": [],
   "source": [
    "# data['current']"
   ]
  },
  {
   "cell_type": "code",
   "execution_count": 7,
   "metadata": {
    "execution": {
     "iopub.execute_input": "2021-09-20T12:18:48.126093Z",
     "iopub.status.busy": "2021-09-20T12:18:48.121805Z",
     "iopub.status.idle": "2021-09-20T12:18:48.456588Z",
     "shell.execute_reply": "2021-09-20T12:18:48.457383Z"
    }
   },
   "outputs": [
    {
     "data": {
      "image/png": "[encoded data removed]",
      "text/plain": [
       "<Figure size 216x216 with 1 Axes>"
      ]
     },
     "metadata": {
      "needs_background": "light"
     },
     "output_type": "display_data"
    },
    {
     "name": "stdout",
     "output_type": "stream",
     "text": [
      "Today, sun rises at 06:11 and sets at 18:21.\n",
      "Currently, the weather is Rain (light rain).\n",
      "The temperature is 29.99°C and it feels like 36.81°C.\n",
      "The UV index is 0, humidity is 77%.\n",
      "The pressure is 1010 hPa, percentage of cloud cover is 51%\n",
      "The wind comes from ESE direction with a speed 2.75 m/s.\n"
     ]
    }
   ],
   "source": [
    "current = data['current']\r\n",
    "\r\n",
    "fig, ax = plt.subplots(figsize=(3, 3))\r\n",
    "icon = requests.get(f\"http://openweathermap.org/img/wn/{current['weather'][0]['icon']}@2x.png\")\r\n",
    "im = Image.open(BytesIO(icon.content))\r\n",
    "plt.imshow(im)\r\n",
    "ax.set_axis_off()\r\n",
    "plt.show()\r\n",
    "\r\n",
    "print(f\"Today, sun rises at {ts2dt(current['sunrise'], '%H:%M')[0]} \\\r\n",
    "and sets at {ts2dt(current['sunset'], '%H:%M')[0]}.\\n\\\r\n",
    "Currently, the weather is {current['weather'][0]['main']} ({current['weather'][0]['description']}).\\n\\\r\n",
    "The temperature is {current['temp']}°C and it feels like {current['feels_like']}°C.\\n\\\r\n",
    "The UV index is {current['uvi']}, humidity is {current['humidity']}%.\\n\\\r\n",
    "The pressure is {current['pressure']} hPa, percentage of cloud cover is {current['clouds']}%\\n\\\r\n",
    "The wind comes from {degrees_to_cardinal(current['wind_deg'])} direction with a speed {current['wind_speed']} m/s.\")"
   ]
  },
  {
   "cell_type": "code",
   "execution_count": 8,
   "metadata": {
    "execution": {
     "iopub.execute_input": "2021-09-20T12:18:48.461388Z",
     "iopub.status.busy": "2021-09-20T12:18:48.460309Z",
     "iopub.status.idle": "2021-09-20T12:18:48.468565Z",
     "shell.execute_reply": "2021-09-20T12:18:48.469402Z"
    }
   },
   "outputs": [],
   "source": [
    "df_hourly = pd.DataFrame(data['hourly'])\r\n",
    "df_daily = pd.DataFrame(data['daily'])"
   ]
  },
  {
   "cell_type": "code",
   "execution_count": 9,
   "metadata": {
    "execution": {
     "iopub.execute_input": "2021-09-20T12:18:48.473108Z",
     "iopub.status.busy": "2021-09-20T12:18:48.472039Z",
     "iopub.status.idle": "2021-09-20T12:18:48.766396Z",
     "shell.execute_reply": "2021-09-20T12:18:48.767196Z"
    }
   },
   "outputs": [
    {
     "data": {
      "image/png": "[encoded data removed]",
      "text/plain": [
       "<Figure size 864x432 with 1 Axes>"
      ]
     },
     "metadata": {
      "needs_background": "light"
     },
     "output_type": "display_data"
    }
   ],
   "source": [
    "fig, ax = plt.subplots(figsize=(12, 6))\r\n",
    "plt.plot(df_hourly.temp, '.-', label='Temperature')\r\n",
    "plt.plot(df_hourly.feels_like, '.-', label='Feels Like')\r\n",
    "ax.set(title='Temperature in future 48 hours', xlabel='Time', ylabel='Temperature')\r\n",
    "ax.set_xticks(list(range(0, len(df_hourly), 2)))\r\n",
    "ax.set_xticklabels([ts2dt(ts, '%m-%d %H:%M')[0] for i, ts in enumerate(df_hourly.dt) if i%2==0], \r\n",
    "                   rotation=45, ha=\"right\")\r\n",
    "ax.locator_params(nbins=15, axis='y')\r\n",
    "plt.legend()\r\n",
    "plt.show()"
   ]
  },
  {
   "cell_type": "code",
   "execution_count": 10,
   "metadata": {
    "execution": {
     "iopub.execute_input": "2021-09-20T12:18:48.772696Z",
     "iopub.status.busy": "2021-09-20T12:18:48.772156Z",
     "iopub.status.idle": "2021-09-20T12:18:48.792583Z",
     "shell.execute_reply": "2021-09-20T12:18:48.793024Z"
    }
   },
   "outputs": [
    {
     "data": {
      "text/html": [
       "<div>\n",
       "<style scoped>\n",
       "    .dataframe tbody tr th:only-of-type {\n",
       "        vertical-align: middle;\n",
       "    }\n",
       "\n",
       "    .dataframe tbody tr th {\n",
       "        vertical-align: top;\n",
       "    }\n",
       "\n",
       "    .dataframe thead th {\n",
       "        text-align: right;\n",
       "    }\n",
       "</style>\n",
       "<table border=\"1\" class=\"dataframe\">\n",
       "  <thead>\n",
       "    <tr style=\"text-align: right;\">\n",
       "      <th></th>\n",
       "      <th>dt</th>\n",
       "      <th>temp</th>\n",
       "      <th>feels_like</th>\n",
       "      <th>pressure</th>\n",
       "      <th>humidity</th>\n",
       "      <th>dew_point</th>\n",
       "      <th>uvi</th>\n",
       "      <th>clouds</th>\n",
       "      <th>visibility</th>\n",
       "      <th>wind_speed</th>\n",
       "      <th>wind_deg</th>\n",
       "      <th>wind_gust</th>\n",
       "      <th>weather</th>\n",
       "      <th>pop</th>\n",
       "      <th>rain</th>\n",
       "    </tr>\n",
       "  </thead>\n",
       "  <tbody>\n",
       "    <tr>\n",
       "      <th>0</th>\n",
       "      <td>1632139200</td>\n",
       "      <td>29.99</td>\n",
       "      <td>36.81</td>\n",
       "      <td>1010</td>\n",
       "      <td>77</td>\n",
       "      <td>25.51</td>\n",
       "      <td>0.0</td>\n",
       "      <td>51</td>\n",
       "      <td>10000</td>\n",
       "      <td>2.75</td>\n",
       "      <td>110</td>\n",
       "      <td>3.62</td>\n",
       "      <td>[{'id': 803, 'main': 'Clouds', 'description': ...</td>\n",
       "      <td>0.20</td>\n",
       "      <td>NaN</td>\n",
       "    </tr>\n",
       "    <tr>\n",
       "      <th>1</th>\n",
       "      <td>1632142800</td>\n",
       "      <td>29.68</td>\n",
       "      <td>36.18</td>\n",
       "      <td>1010</td>\n",
       "      <td>78</td>\n",
       "      <td>25.43</td>\n",
       "      <td>0.0</td>\n",
       "      <td>51</td>\n",
       "      <td>10000</td>\n",
       "      <td>2.44</td>\n",
       "      <td>106</td>\n",
       "      <td>3.25</td>\n",
       "      <td>[{'id': 500, 'main': 'Rain', 'description': 'l...</td>\n",
       "      <td>0.24</td>\n",
       "      <td>{'1h': 0.24}</td>\n",
       "    </tr>\n",
       "    <tr>\n",
       "      <th>2</th>\n",
       "      <td>1632146400</td>\n",
       "      <td>29.35</td>\n",
       "      <td>35.49</td>\n",
       "      <td>1010</td>\n",
       "      <td>79</td>\n",
       "      <td>25.33</td>\n",
       "      <td>0.0</td>\n",
       "      <td>49</td>\n",
       "      <td>10000</td>\n",
       "      <td>2.40</td>\n",
       "      <td>110</td>\n",
       "      <td>3.24</td>\n",
       "      <td>[{'id': 500, 'main': 'Rain', 'description': 'l...</td>\n",
       "      <td>0.24</td>\n",
       "      <td>{'1h': 0.32}</td>\n",
       "    </tr>\n",
       "    <tr>\n",
       "      <th>3</th>\n",
       "      <td>1632150000</td>\n",
       "      <td>28.99</td>\n",
       "      <td>34.71</td>\n",
       "      <td>1011</td>\n",
       "      <td>80</td>\n",
       "      <td>25.19</td>\n",
       "      <td>0.0</td>\n",
       "      <td>49</td>\n",
       "      <td>10000</td>\n",
       "      <td>2.33</td>\n",
       "      <td>109</td>\n",
       "      <td>3.04</td>\n",
       "      <td>[{'id': 802, 'main': 'Clouds', 'description': ...</td>\n",
       "      <td>0.04</td>\n",
       "      <td>NaN</td>\n",
       "    </tr>\n",
       "    <tr>\n",
       "      <th>4</th>\n",
       "      <td>1632153600</td>\n",
       "      <td>28.61</td>\n",
       "      <td>33.87</td>\n",
       "      <td>1010</td>\n",
       "      <td>81</td>\n",
       "      <td>25.03</td>\n",
       "      <td>0.0</td>\n",
       "      <td>53</td>\n",
       "      <td>10000</td>\n",
       "      <td>2.13</td>\n",
       "      <td>113</td>\n",
       "      <td>2.80</td>\n",
       "      <td>[{'id': 803, 'main': 'Clouds', 'description': ...</td>\n",
       "      <td>0.04</td>\n",
       "      <td>NaN</td>\n",
       "    </tr>\n",
       "  </tbody>\n",
       "</table>\n",
       "</div>"
      ],
      "text/plain": [
       "           dt   temp  feels_like  pressure  humidity  dew_point  uvi  clouds  \\\n",
       "0  1632139200  29.99       36.81      1010        77      25.51  0.0      51   \n",
       "1  1632142800  29.68       36.18      1010        78      25.43  0.0      51   \n",
       "2  1632146400  29.35       35.49      1010        79      25.33  0.0      49   \n",
       "3  1632150000  28.99       34.71      1011        80      25.19  0.0      49   \n",
       "4  1632153600  28.61       33.87      1010        81      25.03  0.0      53   \n",
       "\n",
       "   visibility  wind_speed  wind_deg  wind_gust  \\\n",
       "0       10000        2.75       110       3.62   \n",
       "1       10000        2.44       106       3.25   \n",
       "2       10000        2.40       110       3.24   \n",
       "3       10000        2.33       109       3.04   \n",
       "4       10000        2.13       113       2.80   \n",
       "\n",
       "                                             weather   pop          rain  \n",
       "0  [{'id': 803, 'main': 'Clouds', 'description': ...  0.20           NaN  \n",
       "1  [{'id': 500, 'main': 'Rain', 'description': 'l...  0.24  {'1h': 0.24}  \n",
       "2  [{'id': 500, 'main': 'Rain', 'description': 'l...  0.24  {'1h': 0.32}  \n",
       "3  [{'id': 802, 'main': 'Clouds', 'description': ...  0.04           NaN  \n",
       "4  [{'id': 803, 'main': 'Clouds', 'description': ...  0.04           NaN  "
      ]
     },
     "execution_count": 10,
     "metadata": {},
     "output_type": "execute_result"
    }
   ],
   "source": [
    "df_hourly.head()"
   ]
  },
  {
   "cell_type": "code",
   "execution_count": null,
   "metadata": {},
   "outputs": [],
   "source": []
  }
 ],
 "metadata": {
  "interpreter": {
   "hash": "c1b4cfe941b6d2466ad1fb5979e97da9cda8801728c8091b097ab734208fc00c"
  },
  "kernelspec": {
   "display_name": "Python 3.8.3 64-bit ('base': conda)",
   "name": "python3"
  },
  "language_info": {
   "codemirror_mode": {
    "name": "ipython",
    "version": 3
   },
   "file_extension": ".py",
   "mimetype": "text/x-python",
   "name": "python",
   "nbconvert_exporter": "python",
   "pygments_lexer": "ipython3",
   "version": "3.8.11"
  }
 },
 "nbformat": 4,
 "nbformat_minor": 2
}
