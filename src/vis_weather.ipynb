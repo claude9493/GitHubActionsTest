{
 "cells": [
  {
   "cell_type": "code",
   "execution_count": 1,
   "metadata": {
    "execution": {
     "iopub.execute_input": "2021-09-08T05:36:35.821304Z",
     "iopub.status.busy": "2021-09-08T05:36:35.820658Z",
     "iopub.status.idle": "2021-09-08T05:36:40.983475Z",
     "shell.execute_reply": "2021-09-08T05:36:40.982882Z"
    }
   },
   "outputs": [],
   "source": [
    "import json, yaml, requests\r\n",
    "from datetime import datetime\r\n",
    "from dateutil import tz\r\n",
    "import pandas as pd\r\n",
    "from PIL import Image\r\n",
    "from io import BytesIO\r\n",
    "import matplotlib.pyplot as plt\r\n",
    "import seaborn\r\n",
    "\r\n",
    "CONFIG_PATH = \"../config/config.yaml\""
   ]
  },
  {
   "cell_type": "code",
   "execution_count": 2,
   "metadata": {
    "execution": {
     "iopub.execute_input": "2021-09-08T05:36:40.988247Z",
     "iopub.status.busy": "2021-09-08T05:36:40.987777Z",
     "iopub.status.idle": "2021-09-08T05:36:40.993441Z",
     "shell.execute_reply": "2021-09-08T05:36:40.993037Z"
    }
   },
   "outputs": [],
   "source": [
    "with open('../newest_ts', 'r') as f:\r\n",
    "    newest_ts = f.read()\r\n",
    "\r\n",
    "data_path = f\"../data/data_{newest_ts}.json\"\r\n",
    "with open(data_path, 'r') as f:\r\n",
    "    data = json.load(f)\r\n",
    "\r\n",
    "with open(CONFIG_PATH, \"r\") as stream:\r\n",
    "    config = yaml.safe_load(stream)\r\n",
    "\r\n",
    "TIME_ZONE = config['time_zone']\r\n",
    "DATETIME_FORMAT = config['dt_format']"
   ]
  },
  {
   "cell_type": "code",
   "execution_count": 3,
   "metadata": {
    "execution": {
     "iopub.execute_input": "2021-09-08T05:36:40.997930Z",
     "iopub.status.busy": "2021-09-08T05:36:40.997439Z",
     "iopub.status.idle": "2021-09-08T05:36:41.018606Z",
     "shell.execute_reply": "2021-09-08T05:36:41.018951Z"
    }
   },
   "outputs": [
    {
     "name": "stdout",
     "output_type": "stream",
     "text": [
      "Recent query happens at 2021-09-08 13:36:32 (CST).\n"
     ]
    }
   ],
   "source": [
    "def ts2dt(ts, format=DATETIME_FORMAT):\r\n",
    "    dt = (datetime.utcfromtimestamp(int(ts))\r\n",
    "                    .replace(tzinfo=tz.tzutc())\r\n",
    "                    # .astimezone(tz.tzlocal())\r\n",
    "                    .astimezone(tz.gettz(TIME_ZONE)))\r\n",
    "    return dt.strftime(format), dt\r\n",
    "\r\n",
    "_, newest_dt = ts2dt(newest_ts)\r\n",
    "print(f\"Recent query happens at {newest_dt.strftime(DATETIME_FORMAT)} ({newest_dt.tzname()}).\")"
   ]
  },
  {
   "cell_type": "code",
   "execution_count": 4,
   "metadata": {
    "execution": {
     "iopub.execute_input": "2021-09-08T05:36:41.023892Z",
     "iopub.status.busy": "2021-09-08T05:36:41.023127Z",
     "iopub.status.idle": "2021-09-08T05:36:41.024815Z",
     "shell.execute_reply": "2021-09-08T05:36:41.025190Z"
    }
   },
   "outputs": [],
   "source": [
    "def degrees_to_cardinal(d):\r\n",
    "  dirs = ['N', 'NNE', 'NE', 'ENE', 'E', 'ESE', 'SE', 'SSE', 'S', 'SSW', 'SW', 'WSW', 'W', 'WNW', 'NW', 'NNW']\r\n",
    "  ix = int(round(d / (360. / len(dirs))))\r\n",
    "  return dirs[ix % len(dirs)]"
   ]
  },
  {
   "cell_type": "code",
   "execution_count": 5,
   "metadata": {
    "execution": {
     "iopub.execute_input": "2021-09-08T05:36:41.029035Z",
     "iopub.status.busy": "2021-09-08T05:36:41.028286Z",
     "iopub.status.idle": "2021-09-08T05:36:41.029829Z",
     "shell.execute_reply": "2021-09-08T05:36:41.030140Z"
    }
   },
   "outputs": [],
   "source": [
    "# data.keys()"
   ]
  },
  {
   "cell_type": "code",
   "execution_count": 6,
   "metadata": {
    "execution": {
     "iopub.execute_input": "2021-09-08T05:36:41.033417Z",
     "iopub.status.busy": "2021-09-08T05:36:41.032806Z",
     "iopub.status.idle": "2021-09-08T05:36:41.034471Z",
     "shell.execute_reply": "2021-09-08T05:36:41.034783Z"
    }
   },
   "outputs": [],
   "source": [
    "# data['current']"
   ]
  },
  {
   "cell_type": "code",
   "execution_count": 7,
   "metadata": {
    "execution": {
     "iopub.execute_input": "2021-09-08T05:36:41.052019Z",
     "iopub.status.busy": "2021-09-08T05:36:41.051473Z",
     "iopub.status.idle": "2021-09-08T05:36:41.339245Z",
     "shell.execute_reply": "2021-09-08T05:36:41.338835Z"
    }
   },
   "outputs": [
    {
     "data": {
      "image/png": "[encoded data removed]",
      "text/plain": [
       "<Figure size 216x216 with 1 Axes>"
      ]
     },
     "metadata": {
      "needs_background": "light"
     },
     "output_type": "display_data"
    },
    {
     "name": "stdout",
     "output_type": "stream",
     "text": [
      "Today, sun rises at 06:07 and sets at 18:33.\n",
      "Currently, the weather is Clear (clear sky).\n",
      "The temperature is 32.32°C and it feels like 39.32°C.\n",
      "The UV index is 8.62, humidity is 73%.\n",
      "The pressure is 1008 hPa, percentage of cloud cover is 6%\n",
      "The wind comes from ESE direction with a speed 3.91 m/s.\n"
     ]
    }
   ],
   "source": [
    "current = data['current']\r\n",
    "\r\n",
    "fig, ax = plt.subplots(figsize=(3, 3))\r\n",
    "icon = requests.get(f\"http://openweathermap.org/img/wn/{current['weather'][0]['icon']}@2x.png\")\r\n",
    "im = Image.open(BytesIO(icon.content))\r\n",
    "plt.imshow(im)\r\n",
    "ax.set_axis_off()\r\n",
    "plt.show()\r\n",
    "\r\n",
    "print(f\"Today, sun rises at {ts2dt(current['sunrise'], '%H:%M')[0]} \\\r\n",
    "and sets at {ts2dt(current['sunset'], '%H:%M')[0]}.\\n\\\r\n",
    "Currently, the weather is {current['weather'][0]['main']} ({current['weather'][0]['description']}).\\n\\\r\n",
    "The temperature is {current['temp']}°C and it feels like {current['feels_like']}°C.\\n\\\r\n",
    "The UV index is {current['uvi']}, humidity is {current['humidity']}%.\\n\\\r\n",
    "The pressure is {current['pressure']} hPa, percentage of cloud cover is {current['clouds']}%\\n\\\r\n",
    "The wind comes from {degrees_to_cardinal(current['wind_deg'])} direction with a speed {current['wind_speed']} m/s.\")"
   ]
  },
  {
   "cell_type": "code",
   "execution_count": 8,
   "metadata": {
    "execution": {
     "iopub.execute_input": "2021-09-08T05:36:41.346696Z",
     "iopub.status.busy": "2021-09-08T05:36:41.341597Z",
     "iopub.status.idle": "2021-09-08T05:36:41.349226Z",
     "shell.execute_reply": "2021-09-08T05:36:41.349883Z"
    }
   },
   "outputs": [],
   "source": [
    "df_hourly = pd.DataFrame(data['hourly'])\r\n",
    "df_daily = pd.DataFrame(data['daily'])"
   ]
  },
  {
   "cell_type": "code",
   "execution_count": 9,
   "metadata": {
    "execution": {
     "iopub.execute_input": "2021-09-08T05:36:41.353042Z",
     "iopub.status.busy": "2021-09-08T05:36:41.352121Z",
     "iopub.status.idle": "2021-09-08T05:36:41.603858Z",
     "shell.execute_reply": "2021-09-08T05:36:41.604529Z"
    }
   },
   "outputs": [
    {
     "data": {
      "image/png": "[encoded data removed]",
      "text/plain": [
       "<Figure size 864x432 with 1 Axes>"
      ]
     },
     "metadata": {
      "needs_background": "light"
     },
     "output_type": "display_data"
    }
   ],
   "source": [
    "fig, ax = plt.subplots(figsize=(12, 6))\r\n",
    "plt.plot(df_hourly.temp, '.-', label='Temperature')\r\n",
    "plt.plot(df_hourly.feels_like, '.-', label='Feels Like')\r\n",
    "ax.set(title='Temperature in future 48 hours', xlabel='Time', ylabel='Temperature')\r\n",
    "ax.set_xticks(list(range(0, len(df_hourly), 2)))\r\n",
    "ax.set_xticklabels([ts2dt(ts, '%m-%d %H:%M')[0] for i, ts in enumerate(df_hourly.dt) if i%2==0], \r\n",
    "                   rotation=45, ha=\"right\")\r\n",
    "ax.locator_params(nbins=15, axis='y')\r\n",
    "plt.legend()\r\n",
    "plt.show()"
   ]
  },
  {
   "cell_type": "code",
   "execution_count": 10,
   "metadata": {
    "execution": {
     "iopub.execute_input": "2021-09-08T05:36:41.615969Z",
     "iopub.status.busy": "2021-09-08T05:36:41.608774Z",
     "iopub.status.idle": "2021-09-08T05:36:41.627043Z",
     "shell.execute_reply": "2021-09-08T05:36:41.626592Z"
    }
   },
   "outputs": [
    {
     "data": {
      "text/html": [
       "<div>\n",
       "<style scoped>\n",
       "    .dataframe tbody tr th:only-of-type {\n",
       "        vertical-align: middle;\n",
       "    }\n",
       "\n",
       "    .dataframe tbody tr th {\n",
       "        vertical-align: top;\n",
       "    }\n",
       "\n",
       "    .dataframe thead th {\n",
       "        text-align: right;\n",
       "    }\n",
       "</style>\n",
       "<table border=\"1\" class=\"dataframe\">\n",
       "  <thead>\n",
       "    <tr style=\"text-align: right;\">\n",
       "      <th></th>\n",
       "      <th>dt</th>\n",
       "      <th>temp</th>\n",
       "      <th>feels_like</th>\n",
       "      <th>pressure</th>\n",
       "      <th>humidity</th>\n",
       "      <th>dew_point</th>\n",
       "      <th>uvi</th>\n",
       "      <th>clouds</th>\n",
       "      <th>visibility</th>\n",
       "      <th>wind_speed</th>\n",
       "      <th>wind_deg</th>\n",
       "      <th>wind_gust</th>\n",
       "      <th>weather</th>\n",
       "      <th>pop</th>\n",
       "      <th>rain</th>\n",
       "    </tr>\n",
       "  </thead>\n",
       "  <tbody>\n",
       "    <tr>\n",
       "      <th>0</th>\n",
       "      <td>1631077200</td>\n",
       "      <td>31.92</td>\n",
       "      <td>38.92</td>\n",
       "      <td>1008</td>\n",
       "      <td>71</td>\n",
       "      <td>26.00</td>\n",
       "      <td>10.46</td>\n",
       "      <td>6</td>\n",
       "      <td>10000</td>\n",
       "      <td>3.86</td>\n",
       "      <td>98</td>\n",
       "      <td>3.73</td>\n",
       "      <td>[{'id': 800, 'main': 'Clear', 'description': '...</td>\n",
       "      <td>0.04</td>\n",
       "      <td>NaN</td>\n",
       "    </tr>\n",
       "    <tr>\n",
       "      <th>1</th>\n",
       "      <td>1631080800</td>\n",
       "      <td>32.32</td>\n",
       "      <td>39.32</td>\n",
       "      <td>1008</td>\n",
       "      <td>73</td>\n",
       "      <td>26.86</td>\n",
       "      <td>8.62</td>\n",
       "      <td>6</td>\n",
       "      <td>10000</td>\n",
       "      <td>3.91</td>\n",
       "      <td>108</td>\n",
       "      <td>3.71</td>\n",
       "      <td>[{'id': 800, 'main': 'Clear', 'description': '...</td>\n",
       "      <td>0.04</td>\n",
       "      <td>NaN</td>\n",
       "    </tr>\n",
       "    <tr>\n",
       "      <th>2</th>\n",
       "      <td>1631084400</td>\n",
       "      <td>31.89</td>\n",
       "      <td>38.89</td>\n",
       "      <td>1008</td>\n",
       "      <td>71</td>\n",
       "      <td>25.97</td>\n",
       "      <td>5.71</td>\n",
       "      <td>7</td>\n",
       "      <td>10000</td>\n",
       "      <td>4.00</td>\n",
       "      <td>117</td>\n",
       "      <td>3.69</td>\n",
       "      <td>[{'id': 800, 'main': 'Clear', 'description': '...</td>\n",
       "      <td>0.02</td>\n",
       "      <td>NaN</td>\n",
       "    </tr>\n",
       "    <tr>\n",
       "      <th>3</th>\n",
       "      <td>1631088000</td>\n",
       "      <td>31.46</td>\n",
       "      <td>38.46</td>\n",
       "      <td>1008</td>\n",
       "      <td>70</td>\n",
       "      <td>25.32</td>\n",
       "      <td>2.94</td>\n",
       "      <td>11</td>\n",
       "      <td>10000</td>\n",
       "      <td>3.57</td>\n",
       "      <td>122</td>\n",
       "      <td>3.34</td>\n",
       "      <td>[{'id': 801, 'main': 'Clouds', 'description': ...</td>\n",
       "      <td>0.02</td>\n",
       "      <td>NaN</td>\n",
       "    </tr>\n",
       "    <tr>\n",
       "      <th>4</th>\n",
       "      <td>1631091600</td>\n",
       "      <td>30.80</td>\n",
       "      <td>37.07</td>\n",
       "      <td>1008</td>\n",
       "      <td>70</td>\n",
       "      <td>24.69</td>\n",
       "      <td>1.02</td>\n",
       "      <td>16</td>\n",
       "      <td>10000</td>\n",
       "      <td>3.35</td>\n",
       "      <td>130</td>\n",
       "      <td>3.22</td>\n",
       "      <td>[{'id': 801, 'main': 'Clouds', 'description': ...</td>\n",
       "      <td>0.02</td>\n",
       "      <td>NaN</td>\n",
       "    </tr>\n",
       "  </tbody>\n",
       "</table>\n",
       "</div>"
      ],
      "text/plain": [
       "           dt   temp  feels_like  pressure  humidity  dew_point    uvi  \\\n",
       "0  1631077200  31.92       38.92      1008        71      26.00  10.46   \n",
       "1  1631080800  32.32       39.32      1008        73      26.86   8.62   \n",
       "2  1631084400  31.89       38.89      1008        71      25.97   5.71   \n",
       "3  1631088000  31.46       38.46      1008        70      25.32   2.94   \n",
       "4  1631091600  30.80       37.07      1008        70      24.69   1.02   \n",
       "\n",
       "   clouds  visibility  wind_speed  wind_deg  wind_gust  \\\n",
       "0       6       10000        3.86        98       3.73   \n",
       "1       6       10000        3.91       108       3.71   \n",
       "2       7       10000        4.00       117       3.69   \n",
       "3      11       10000        3.57       122       3.34   \n",
       "4      16       10000        3.35       130       3.22   \n",
       "\n",
       "                                             weather   pop rain  \n",
       "0  [{'id': 800, 'main': 'Clear', 'description': '...  0.04  NaN  \n",
       "1  [{'id': 800, 'main': 'Clear', 'description': '...  0.04  NaN  \n",
       "2  [{'id': 800, 'main': 'Clear', 'description': '...  0.02  NaN  \n",
       "3  [{'id': 801, 'main': 'Clouds', 'description': ...  0.02  NaN  \n",
       "4  [{'id': 801, 'main': 'Clouds', 'description': ...  0.02  NaN  "
      ]
     },
     "execution_count": 10,
     "metadata": {},
     "output_type": "execute_result"
    }
   ],
   "source": [
    "df_hourly.head()"
   ]
  },
  {
   "cell_type": "code",
   "execution_count": null,
   "metadata": {},
   "outputs": [],
   "source": []
  }
 ],
 "metadata": {
  "interpreter": {
   "hash": "c1b4cfe941b6d2466ad1fb5979e97da9cda8801728c8091b097ab734208fc00c"
  },
  "kernelspec": {
   "display_name": "Python 3.8.3 64-bit ('base': conda)",
   "name": "python3"
  },
  "language_info": {
   "codemirror_mode": {
    "name": "ipython",
    "version": 3
   },
   "file_extension": ".py",
   "mimetype": "text/x-python",
   "name": "python",
   "nbconvert_exporter": "python",
   "pygments_lexer": "ipython3",
   "version": "3.8.11"
  }
 },
 "nbformat": 4,
 "nbformat_minor": 2
}
