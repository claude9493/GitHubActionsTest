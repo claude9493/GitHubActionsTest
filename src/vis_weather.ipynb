{
 "cells": [
  {
   "cell_type": "code",
   "execution_count": 1,
   "metadata": {
    "execution": {
     "iopub.execute_input": "2021-09-21T05:10:15.480819Z",
     "iopub.status.busy": "2021-09-21T05:10:15.480012Z",
     "iopub.status.idle": "2021-09-21T05:10:16.987253Z",
     "shell.execute_reply": "2021-09-21T05:10:16.986594Z"
    }
   },
   "outputs": [],
   "source": [
    "import json, yaml, requests\r\n",
    "from datetime import datetime\r\n",
    "from dateutil import tz\r\n",
    "import pandas as pd\r\n",
    "from PIL import Image\r\n",
    "from io import BytesIO\r\n",
    "import matplotlib.pyplot as plt\r\n",
    "import seaborn\r\n",
    "\r\n",
    "CONFIG_PATH = \"../config/config.yaml\""
   ]
  },
  {
   "cell_type": "code",
   "execution_count": 2,
   "metadata": {
    "execution": {
     "iopub.execute_input": "2021-09-21T05:10:16.993167Z",
     "iopub.status.busy": "2021-09-21T05:10:16.990395Z",
     "iopub.status.idle": "2021-09-21T05:10:16.999528Z",
     "shell.execute_reply": "2021-09-21T05:10:17.000024Z"
    }
   },
   "outputs": [],
   "source": [
    "with open('../newest_ts', 'r') as f:\r\n",
    "    newest_ts = f.read()\r\n",
    "\r\n",
    "data_path = f\"../data/data_{newest_ts}.json\"\r\n",
    "with open(data_path, 'r') as f:\r\n",
    "    data = json.load(f)\r\n",
    "\r\n",
    "with open(CONFIG_PATH, \"r\") as stream:\r\n",
    "    config = yaml.safe_load(stream)\r\n",
    "\r\n",
    "TIME_ZONE = config['time_zone']\r\n",
    "DATETIME_FORMAT = config['dt_format']"
   ]
  },
  {
   "cell_type": "code",
   "execution_count": 3,
   "metadata": {
    "execution": {
     "iopub.execute_input": "2021-09-21T05:10:17.005949Z",
     "iopub.status.busy": "2021-09-21T05:10:17.005381Z",
     "iopub.status.idle": "2021-09-21T05:10:17.010299Z",
     "shell.execute_reply": "2021-09-21T05:10:17.010758Z"
    }
   },
   "outputs": [
    {
     "name": "stdout",
     "output_type": "stream",
     "text": [
      "Recent query happens at 2021-09-21 13:10:12 (CST).\n"
     ]
    }
   ],
   "source": [
    "def ts2dt(ts, format=DATETIME_FORMAT):\r\n",
    "    dt = (datetime.utcfromtimestamp(int(ts))\r\n",
    "                    .replace(tzinfo=tz.tzutc())\r\n",
    "                    # .astimezone(tz.tzlocal())\r\n",
    "                    .astimezone(tz.gettz(TIME_ZONE)))\r\n",
    "    return dt.strftime(format), dt\r\n",
    "\r\n",
    "_, newest_dt = ts2dt(newest_ts)\r\n",
    "print(f\"Recent query happens at {newest_dt.strftime(DATETIME_FORMAT)} ({newest_dt.tzname()}).\")"
   ]
  },
  {
   "cell_type": "code",
   "execution_count": 4,
   "metadata": {
    "execution": {
     "iopub.execute_input": "2021-09-21T05:10:17.017001Z",
     "iopub.status.busy": "2021-09-21T05:10:17.016434Z",
     "iopub.status.idle": "2021-09-21T05:10:17.017882Z",
     "shell.execute_reply": "2021-09-21T05:10:17.018293Z"
    }
   },
   "outputs": [],
   "source": [
    "def degrees_to_cardinal(d):\r\n",
    "  dirs = ['N', 'NNE', 'NE', 'ENE', 'E', 'ESE', 'SE', 'SSE', 'S', 'SSW', 'SW', 'WSW', 'W', 'WNW', 'NW', 'NNW']\r\n",
    "  ix = int(round(d / (360. / len(dirs))))\r\n",
    "  return dirs[ix % len(dirs)]"
   ]
  },
  {
   "cell_type": "code",
   "execution_count": 5,
   "metadata": {
    "execution": {
     "iopub.execute_input": "2021-09-21T05:10:17.021500Z",
     "iopub.status.busy": "2021-09-21T05:10:17.020937Z",
     "iopub.status.idle": "2021-09-21T05:10:17.025406Z",
     "shell.execute_reply": "2021-09-21T05:10:17.025840Z"
    }
   },
   "outputs": [],
   "source": [
    "# data.keys()"
   ]
  },
  {
   "cell_type": "code",
   "execution_count": 6,
   "metadata": {
    "execution": {
     "iopub.execute_input": "2021-09-21T05:10:17.030941Z",
     "iopub.status.busy": "2021-09-21T05:10:17.030149Z",
     "iopub.status.idle": "2021-09-21T05:10:17.033076Z",
     "shell.execute_reply": "2021-09-21T05:10:17.033500Z"
    }
   },
   "outputs": [],
   "source": [
    "# data['current']"
   ]
  },
  {
   "cell_type": "code",
   "execution_count": 7,
   "metadata": {
    "execution": {
     "iopub.execute_input": "2021-09-21T05:10:17.041577Z",
     "iopub.status.busy": "2021-09-21T05:10:17.036287Z",
     "iopub.status.idle": "2021-09-21T05:10:17.396793Z",
     "shell.execute_reply": "2021-09-21T05:10:17.397692Z"
    }
   },
   "outputs": [
    {
     "data": {
      "image/png": "[encoded data removed]",
      "text/plain": [
       "<Figure size 216x216 with 1 Axes>"
      ]
     },
     "metadata": {
      "needs_background": "light"
     },
     "output_type": "display_data"
    },
    {
     "name": "stdout",
     "output_type": "stream",
     "text": [
      "Today, sun rises at 06:11 and sets at 18:20.\n",
      "Currently, the weather is Clouds (broken clouds).\n",
      "The temperature is 28.75°C and it feels like 31.21°C.\n",
      "The UV index is 10.06, humidity is 64%.\n",
      "The pressure is 1009 hPa, percentage of cloud cover is 51%\n",
      "The wind comes from SSE direction with a speed 1.91 m/s.\n"
     ]
    }
   ],
   "source": [
    "current = data['current']\r\n",
    "\r\n",
    "fig, ax = plt.subplots(figsize=(3, 3))\r\n",
    "icon = requests.get(f\"http://openweathermap.org/img/wn/{current['weather'][0]['icon']}@2x.png\")\r\n",
    "im = Image.open(BytesIO(icon.content))\r\n",
    "plt.imshow(im)\r\n",
    "ax.set_axis_off()\r\n",
    "plt.show()\r\n",
    "\r\n",
    "print(f\"Today, sun rises at {ts2dt(current['sunrise'], '%H:%M')[0]} \\\r\n",
    "and sets at {ts2dt(current['sunset'], '%H:%M')[0]}.\\n\\\r\n",
    "Currently, the weather is {current['weather'][0]['main']} ({current['weather'][0]['description']}).\\n\\\r\n",
    "The temperature is {current['temp']}°C and it feels like {current['feels_like']}°C.\\n\\\r\n",
    "The UV index is {current['uvi']}, humidity is {current['humidity']}%.\\n\\\r\n",
    "The pressure is {current['pressure']} hPa, percentage of cloud cover is {current['clouds']}%\\n\\\r\n",
    "The wind comes from {degrees_to_cardinal(current['wind_deg'])} direction with a speed {current['wind_speed']} m/s.\")"
   ]
  },
  {
   "cell_type": "code",
   "execution_count": 8,
   "metadata": {
    "execution": {
     "iopub.execute_input": "2021-09-21T05:10:17.401581Z",
     "iopub.status.busy": "2021-09-21T05:10:17.400436Z",
     "iopub.status.idle": "2021-09-21T05:10:17.409099Z",
     "shell.execute_reply": "2021-09-21T05:10:17.409997Z"
    }
   },
   "outputs": [],
   "source": [
    "df_hourly = pd.DataFrame(data['hourly'])\r\n",
    "df_daily = pd.DataFrame(data['daily'])"
   ]
  },
  {
   "cell_type": "code",
   "execution_count": 9,
   "metadata": {
    "execution": {
     "iopub.execute_input": "2021-09-21T05:10:17.414107Z",
     "iopub.status.busy": "2021-09-21T05:10:17.412809Z",
     "iopub.status.idle": "2021-09-21T05:10:17.707148Z",
     "shell.execute_reply": "2021-09-21T05:10:17.706210Z"
    }
   },
   "outputs": [
    {
     "data": {
      "image/png": "[encoded data removed]",
      "text/plain": [
       "<Figure size 864x432 with 1 Axes>"
      ]
     },
     "metadata": {
      "needs_background": "light"
     },
     "output_type": "display_data"
    }
   ],
   "source": [
    "fig, ax = plt.subplots(figsize=(12, 6))\r\n",
    "plt.plot(df_hourly.temp, '.-', label='Temperature')\r\n",
    "plt.plot(df_hourly.feels_like, '.-', label='Feels Like')\r\n",
    "ax.set(title='Temperature in future 48 hours', xlabel='Time', ylabel='Temperature')\r\n",
    "ax.set_xticks(list(range(0, len(df_hourly), 2)))\r\n",
    "ax.set_xticklabels([ts2dt(ts, '%m-%d %H:%M')[0] for i, ts in enumerate(df_hourly.dt) if i%2==0], \r\n",
    "                   rotation=45, ha=\"right\")\r\n",
    "ax.locator_params(nbins=15, axis='y')\r\n",
    "plt.legend()\r\n",
    "plt.show()"
   ]
  },
  {
   "cell_type": "code",
   "execution_count": 10,
   "metadata": {
    "execution": {
     "iopub.execute_input": "2021-09-21T05:10:17.721196Z",
     "iopub.status.busy": "2021-09-21T05:10:17.712707Z",
     "iopub.status.idle": "2021-09-21T05:10:17.736499Z",
     "shell.execute_reply": "2021-09-21T05:10:17.735983Z"
    }
   },
   "outputs": [
    {
     "data": {
      "text/html": [
       "<div>\n",
       "<style scoped>\n",
       "    .dataframe tbody tr th:only-of-type {\n",
       "        vertical-align: middle;\n",
       "    }\n",
       "\n",
       "    .dataframe tbody tr th {\n",
       "        vertical-align: top;\n",
       "    }\n",
       "\n",
       "    .dataframe thead th {\n",
       "        text-align: right;\n",
       "    }\n",
       "</style>\n",
       "<table border=\"1\" class=\"dataframe\">\n",
       "  <thead>\n",
       "    <tr style=\"text-align: right;\">\n",
       "      <th></th>\n",
       "      <th>dt</th>\n",
       "      <th>temp</th>\n",
       "      <th>feels_like</th>\n",
       "      <th>pressure</th>\n",
       "      <th>humidity</th>\n",
       "      <th>dew_point</th>\n",
       "      <th>uvi</th>\n",
       "      <th>clouds</th>\n",
       "      <th>visibility</th>\n",
       "      <th>wind_speed</th>\n",
       "      <th>wind_deg</th>\n",
       "      <th>wind_gust</th>\n",
       "      <th>weather</th>\n",
       "      <th>pop</th>\n",
       "      <th>rain</th>\n",
       "    </tr>\n",
       "  </thead>\n",
       "  <tbody>\n",
       "    <tr>\n",
       "      <th>0</th>\n",
       "      <td>1632200400</td>\n",
       "      <td>28.75</td>\n",
       "      <td>31.21</td>\n",
       "      <td>1009</td>\n",
       "      <td>64</td>\n",
       "      <td>21.26</td>\n",
       "      <td>10.06</td>\n",
       "      <td>51</td>\n",
       "      <td>10000</td>\n",
       "      <td>1.91</td>\n",
       "      <td>147</td>\n",
       "      <td>1.47</td>\n",
       "      <td>[{'id': 803, 'main': 'Clouds', 'description': ...</td>\n",
       "      <td>0.33</td>\n",
       "      <td>NaN</td>\n",
       "    </tr>\n",
       "    <tr>\n",
       "      <th>1</th>\n",
       "      <td>1632204000</td>\n",
       "      <td>29.20</td>\n",
       "      <td>31.88</td>\n",
       "      <td>1009</td>\n",
       "      <td>63</td>\n",
       "      <td>21.43</td>\n",
       "      <td>8.23</td>\n",
       "      <td>52</td>\n",
       "      <td>10000</td>\n",
       "      <td>2.06</td>\n",
       "      <td>162</td>\n",
       "      <td>1.76</td>\n",
       "      <td>[{'id': 803, 'main': 'Clouds', 'description': ...</td>\n",
       "      <td>0.34</td>\n",
       "      <td>NaN</td>\n",
       "    </tr>\n",
       "    <tr>\n",
       "      <th>2</th>\n",
       "      <td>1632207600</td>\n",
       "      <td>29.52</td>\n",
       "      <td>32.87</td>\n",
       "      <td>1009</td>\n",
       "      <td>65</td>\n",
       "      <td>22.25</td>\n",
       "      <td>5.37</td>\n",
       "      <td>69</td>\n",
       "      <td>10000</td>\n",
       "      <td>2.50</td>\n",
       "      <td>169</td>\n",
       "      <td>1.73</td>\n",
       "      <td>[{'id': 803, 'main': 'Clouds', 'description': ...</td>\n",
       "      <td>0.07</td>\n",
       "      <td>NaN</td>\n",
       "    </tr>\n",
       "    <tr>\n",
       "      <th>3</th>\n",
       "      <td>1632211200</td>\n",
       "      <td>29.73</td>\n",
       "      <td>33.52</td>\n",
       "      <td>1008</td>\n",
       "      <td>66</td>\n",
       "      <td>22.70</td>\n",
       "      <td>2.69</td>\n",
       "      <td>79</td>\n",
       "      <td>10000</td>\n",
       "      <td>2.57</td>\n",
       "      <td>178</td>\n",
       "      <td>1.96</td>\n",
       "      <td>[{'id': 803, 'main': 'Clouds', 'description': ...</td>\n",
       "      <td>0.03</td>\n",
       "      <td>NaN</td>\n",
       "    </tr>\n",
       "    <tr>\n",
       "      <th>4</th>\n",
       "      <td>1632214800</td>\n",
       "      <td>29.90</td>\n",
       "      <td>34.11</td>\n",
       "      <td>1007</td>\n",
       "      <td>67</td>\n",
       "      <td>23.11</td>\n",
       "      <td>0.86</td>\n",
       "      <td>89</td>\n",
       "      <td>10000</td>\n",
       "      <td>2.10</td>\n",
       "      <td>172</td>\n",
       "      <td>1.69</td>\n",
       "      <td>[{'id': 804, 'main': 'Clouds', 'description': ...</td>\n",
       "      <td>0.01</td>\n",
       "      <td>NaN</td>\n",
       "    </tr>\n",
       "  </tbody>\n",
       "</table>\n",
       "</div>"
      ],
      "text/plain": [
       "           dt   temp  feels_like  pressure  humidity  dew_point    uvi  \\\n",
       "0  1632200400  28.75       31.21      1009        64      21.26  10.06   \n",
       "1  1632204000  29.20       31.88      1009        63      21.43   8.23   \n",
       "2  1632207600  29.52       32.87      1009        65      22.25   5.37   \n",
       "3  1632211200  29.73       33.52      1008        66      22.70   2.69   \n",
       "4  1632214800  29.90       34.11      1007        67      23.11   0.86   \n",
       "\n",
       "   clouds  visibility  wind_speed  wind_deg  wind_gust  \\\n",
       "0      51       10000        1.91       147       1.47   \n",
       "1      52       10000        2.06       162       1.76   \n",
       "2      69       10000        2.50       169       1.73   \n",
       "3      79       10000        2.57       178       1.96   \n",
       "4      89       10000        2.10       172       1.69   \n",
       "\n",
       "                                             weather   pop rain  \n",
       "0  [{'id': 803, 'main': 'Clouds', 'description': ...  0.33  NaN  \n",
       "1  [{'id': 803, 'main': 'Clouds', 'description': ...  0.34  NaN  \n",
       "2  [{'id': 803, 'main': 'Clouds', 'description': ...  0.07  NaN  \n",
       "3  [{'id': 803, 'main': 'Clouds', 'description': ...  0.03  NaN  \n",
       "4  [{'id': 804, 'main': 'Clouds', 'description': ...  0.01  NaN  "
      ]
     },
     "execution_count": 10,
     "metadata": {},
     "output_type": "execute_result"
    }
   ],
   "source": [
    "df_hourly.head()"
   ]
  },
  {
   "cell_type": "code",
   "execution_count": null,
   "metadata": {},
   "outputs": [],
   "source": []
  }
 ],
 "metadata": {
  "interpreter": {
   "hash": "c1b4cfe941b6d2466ad1fb5979e97da9cda8801728c8091b097ab734208fc00c"
  },
  "kernelspec": {
   "display_name": "Python 3.8.3 64-bit ('base': conda)",
   "name": "python3"
  },
  "language_info": {
   "codemirror_mode": {
    "name": "ipython",
    "version": 3
   },
   "file_extension": ".py",
   "mimetype": "text/x-python",
   "name": "python",
   "nbconvert_exporter": "python",
   "pygments_lexer": "ipython3",
   "version": "3.8.11"
  }
 },
 "nbformat": 4,
 "nbformat_minor": 2
}
