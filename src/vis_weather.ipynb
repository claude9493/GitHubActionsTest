{
 "cells": [
  {
   "cell_type": "code",
   "execution_count": 1,
   "metadata": {
    "execution": {
     "iopub.execute_input": "2021-10-03T06:13:24.666958Z",
     "iopub.status.busy": "2021-10-03T06:13:24.666271Z",
     "iopub.status.idle": "2021-10-03T06:13:26.117597Z",
     "shell.execute_reply": "2021-10-03T06:13:26.116906Z"
    }
   },
   "outputs": [],
   "source": [
    "import json, yaml, requests\r\n",
    "from datetime import datetime\r\n",
    "from dateutil import tz\r\n",
    "import pandas as pd\r\n",
    "from PIL import Image\r\n",
    "from io import BytesIO\r\n",
    "import matplotlib.pyplot as plt\r\n",
    "import seaborn\r\n",
    "\r\n",
    "CONFIG_PATH = \"../config/config.yaml\""
   ]
  },
  {
   "cell_type": "code",
   "execution_count": 2,
   "metadata": {
    "execution": {
     "iopub.execute_input": "2021-10-03T06:13:26.126476Z",
     "iopub.status.busy": "2021-10-03T06:13:26.123065Z",
     "iopub.status.idle": "2021-10-03T06:13:26.129819Z",
     "shell.execute_reply": "2021-10-03T06:13:26.129280Z"
    }
   },
   "outputs": [],
   "source": [
    "with open('../newest_ts', 'r') as f:\r\n",
    "    newest_ts = f.read()\r\n",
    "\r\n",
    "data_path = f\"../data/data_{newest_ts}.json\"\r\n",
    "with open(data_path, 'r') as f:\r\n",
    "    data = json.load(f)\r\n",
    "\r\n",
    "with open(CONFIG_PATH, \"r\") as stream:\r\n",
    "    config = yaml.safe_load(stream)\r\n",
    "\r\n",
    "TIME_ZONE = config['time_zone']\r\n",
    "DATETIME_FORMAT = config['dt_format']"
   ]
  },
  {
   "cell_type": "code",
   "execution_count": 3,
   "metadata": {
    "execution": {
     "iopub.execute_input": "2021-10-03T06:13:26.136222Z",
     "iopub.status.busy": "2021-10-03T06:13:26.134411Z",
     "iopub.status.idle": "2021-10-03T06:13:26.140912Z",
     "shell.execute_reply": "2021-10-03T06:13:26.141385Z"
    }
   },
   "outputs": [
    {
     "name": "stdout",
     "output_type": "stream",
     "text": [
      "Recent query happens at 2021-10-03 14:13:21 (CST).\n"
     ]
    }
   ],
   "source": [
    "def ts2dt(ts, format=DATETIME_FORMAT):\r\n",
    "    dt = (datetime.utcfromtimestamp(int(ts))\r\n",
    "                    .replace(tzinfo=tz.tzutc())\r\n",
    "                    # .astimezone(tz.tzlocal())\r\n",
    "                    .astimezone(tz.gettz(TIME_ZONE)))\r\n",
    "    return dt.strftime(format), dt\r\n",
    "\r\n",
    "_, newest_dt = ts2dt(newest_ts)\r\n",
    "print(f\"Recent query happens at {newest_dt.strftime(DATETIME_FORMAT)} ({newest_dt.tzname()}).\")"
   ]
  },
  {
   "cell_type": "code",
   "execution_count": 4,
   "metadata": {
    "execution": {
     "iopub.execute_input": "2021-10-03T06:13:26.147426Z",
     "iopub.status.busy": "2021-10-03T06:13:26.145880Z",
     "iopub.status.idle": "2021-10-03T06:13:26.148093Z",
     "shell.execute_reply": "2021-10-03T06:13:26.148652Z"
    }
   },
   "outputs": [],
   "source": [
    "def degrees_to_cardinal(d):\r\n",
    "  dirs = ['N', 'NNE', 'NE', 'ENE', 'E', 'ESE', 'SE', 'SSE', 'S', 'SSW', 'SW', 'WSW', 'W', 'WNW', 'NW', 'NNW']\r\n",
    "  ix = int(round(d / (360. / len(dirs))))\r\n",
    "  return dirs[ix % len(dirs)]"
   ]
  },
  {
   "cell_type": "code",
   "execution_count": 5,
   "metadata": {
    "execution": {
     "iopub.execute_input": "2021-10-03T06:13:26.153967Z",
     "iopub.status.busy": "2021-10-03T06:13:26.152403Z",
     "iopub.status.idle": "2021-10-03T06:13:26.154629Z",
     "shell.execute_reply": "2021-10-03T06:13:26.155212Z"
    }
   },
   "outputs": [],
   "source": [
    "# data.keys()"
   ]
  },
  {
   "cell_type": "code",
   "execution_count": 6,
   "metadata": {
    "execution": {
     "iopub.execute_input": "2021-10-03T06:13:26.158953Z",
     "iopub.status.busy": "2021-10-03T06:13:26.158224Z",
     "iopub.status.idle": "2021-10-03T06:13:26.162513Z",
     "shell.execute_reply": "2021-10-03T06:13:26.161848Z"
    }
   },
   "outputs": [],
   "source": [
    "# data['current']"
   ]
  },
  {
   "cell_type": "code",
   "execution_count": 7,
   "metadata": {
    "execution": {
     "iopub.execute_input": "2021-10-03T06:13:26.183908Z",
     "iopub.status.busy": "2021-10-03T06:13:26.167472Z",
     "iopub.status.idle": "2021-10-03T06:13:26.463447Z",
     "shell.execute_reply": "2021-10-03T06:13:26.464018Z"
    }
   },
   "outputs": [
    {
     "data": {
      "image/png": "[encoded data removed]",
      "text/plain": [
       "<Figure size 216x216 with 1 Axes>"
      ]
     },
     "metadata": {
      "needs_background": "light"
     },
     "output_type": "display_data"
    },
    {
     "name": "stdout",
     "output_type": "stream",
     "text": [
      "Today, sun rises at 06:14 and sets at 18:09.\n",
      "Currently, the weather is Rain (moderate rain).\n",
      "The temperature is 29.26°C and it feels like 35.01°C.\n",
      "The UV index is 7.35, humidity is 78%.\n",
      "The pressure is 1017 hPa, percentage of cloud cover is 82%\n",
      "The wind comes from E direction with a speed 0.45 m/s.\n"
     ]
    }
   ],
   "source": [
    "current = data['current']\r\n",
    "\r\n",
    "fig, ax = plt.subplots(figsize=(3, 3))\r\n",
    "icon = requests.get(f\"http://openweathermap.org/img/wn/{current['weather'][0]['icon']}@2x.png\")\r\n",
    "im = Image.open(BytesIO(icon.content))\r\n",
    "plt.imshow(im)\r\n",
    "ax.set_axis_off()\r\n",
    "plt.show()\r\n",
    "\r\n",
    "print(f\"Today, sun rises at {ts2dt(current['sunrise'], '%H:%M')[0]} \\\r\n",
    "and sets at {ts2dt(current['sunset'], '%H:%M')[0]}.\\n\\\r\n",
    "Currently, the weather is {current['weather'][0]['main']} ({current['weather'][0]['description']}).\\n\\\r\n",
    "The temperature is {current['temp']}°C and it feels like {current['feels_like']}°C.\\n\\\r\n",
    "The UV index is {current['uvi']}, humidity is {current['humidity']}%.\\n\\\r\n",
    "The pressure is {current['pressure']} hPa, percentage of cloud cover is {current['clouds']}%\\n\\\r\n",
    "The wind comes from {degrees_to_cardinal(current['wind_deg'])} direction with a speed {current['wind_speed']} m/s.\")"
   ]
  },
  {
   "cell_type": "code",
   "execution_count": 8,
   "metadata": {
    "execution": {
     "iopub.execute_input": "2021-10-03T06:13:26.470276Z",
     "iopub.status.busy": "2021-10-03T06:13:26.469592Z",
     "iopub.status.idle": "2021-10-03T06:13:26.474068Z",
     "shell.execute_reply": "2021-10-03T06:13:26.474664Z"
    }
   },
   "outputs": [],
   "source": [
    "df_hourly = pd.DataFrame(data['hourly'])\r\n",
    "df_daily = pd.DataFrame(data['daily'])"
   ]
  },
  {
   "cell_type": "code",
   "execution_count": 9,
   "metadata": {
    "execution": {
     "iopub.execute_input": "2021-10-03T06:13:26.477512Z",
     "iopub.status.busy": "2021-10-03T06:13:26.476808Z",
     "iopub.status.idle": "2021-10-03T06:13:26.816588Z",
     "shell.execute_reply": "2021-10-03T06:13:26.815989Z"
    }
   },
   "outputs": [
    {
     "data": {
      "image/png": "[encoded data removed]",
      "text/plain": [
       "<Figure size 864x432 with 1 Axes>"
      ]
     },
     "metadata": {
      "needs_background": "light"
     },
     "output_type": "display_data"
    }
   ],
   "source": [
    "fig, ax = plt.subplots(figsize=(12, 6))\r\n",
    "plt.plot(df_hourly.temp, '.-', label='Temperature')\r\n",
    "plt.plot(df_hourly.feels_like, '.-', label='Feels Like')\r\n",
    "ax.set(title='Temperature in future 48 hours', xlabel='Time', ylabel='Temperature')\r\n",
    "ax.set_xticks(list(range(0, len(df_hourly), 2)))\r\n",
    "ax.set_xticklabels([ts2dt(ts, '%m-%d %H:%M')[0] for i, ts in enumerate(df_hourly.dt) if i%2==0], \r\n",
    "                   rotation=45, ha=\"right\")\r\n",
    "ax.locator_params(nbins=15, axis='y')\r\n",
    "plt.legend()\r\n",
    "plt.show()"
   ]
  },
  {
   "cell_type": "code",
   "execution_count": 10,
   "metadata": {
    "execution": {
     "iopub.execute_input": "2021-10-03T06:13:26.829945Z",
     "iopub.status.busy": "2021-10-03T06:13:26.820811Z",
     "iopub.status.idle": "2021-10-03T06:13:26.843639Z",
     "shell.execute_reply": "2021-10-03T06:13:26.844114Z"
    }
   },
   "outputs": [
    {
     "data": {
      "text/html": [
       "<div>\n",
       "<style scoped>\n",
       "    .dataframe tbody tr th:only-of-type {\n",
       "        vertical-align: middle;\n",
       "    }\n",
       "\n",
       "    .dataframe tbody tr th {\n",
       "        vertical-align: top;\n",
       "    }\n",
       "\n",
       "    .dataframe thead th {\n",
       "        text-align: right;\n",
       "    }\n",
       "</style>\n",
       "<table border=\"1\" class=\"dataframe\">\n",
       "  <thead>\n",
       "    <tr style=\"text-align: right;\">\n",
       "      <th></th>\n",
       "      <th>dt</th>\n",
       "      <th>temp</th>\n",
       "      <th>feels_like</th>\n",
       "      <th>pressure</th>\n",
       "      <th>humidity</th>\n",
       "      <th>dew_point</th>\n",
       "      <th>uvi</th>\n",
       "      <th>clouds</th>\n",
       "      <th>visibility</th>\n",
       "      <th>wind_speed</th>\n",
       "      <th>wind_deg</th>\n",
       "      <th>wind_gust</th>\n",
       "      <th>weather</th>\n",
       "      <th>pop</th>\n",
       "      <th>rain</th>\n",
       "    </tr>\n",
       "  </thead>\n",
       "  <tbody>\n",
       "    <tr>\n",
       "      <th>0</th>\n",
       "      <td>1633240800</td>\n",
       "      <td>29.26</td>\n",
       "      <td>35.01</td>\n",
       "      <td>1017</td>\n",
       "      <td>78</td>\n",
       "      <td>25.02</td>\n",
       "      <td>7.35</td>\n",
       "      <td>82</td>\n",
       "      <td>10000</td>\n",
       "      <td>6.53</td>\n",
       "      <td>93</td>\n",
       "      <td>7.21</td>\n",
       "      <td>[{'id': 803, 'main': 'Clouds', 'description': ...</td>\n",
       "      <td>0.67</td>\n",
       "      <td>NaN</td>\n",
       "    </tr>\n",
       "    <tr>\n",
       "      <th>1</th>\n",
       "      <td>1633244400</td>\n",
       "      <td>29.20</td>\n",
       "      <td>34.63</td>\n",
       "      <td>1016</td>\n",
       "      <td>77</td>\n",
       "      <td>24.75</td>\n",
       "      <td>4.80</td>\n",
       "      <td>83</td>\n",
       "      <td>10000</td>\n",
       "      <td>6.68</td>\n",
       "      <td>99</td>\n",
       "      <td>7.41</td>\n",
       "      <td>[{'id': 501, 'main': 'Rain', 'description': 'm...</td>\n",
       "      <td>0.47</td>\n",
       "      <td>{'1h': 1.15}</td>\n",
       "    </tr>\n",
       "    <tr>\n",
       "      <th>2</th>\n",
       "      <td>1633248000</td>\n",
       "      <td>28.99</td>\n",
       "      <td>33.87</td>\n",
       "      <td>1015</td>\n",
       "      <td>76</td>\n",
       "      <td>24.33</td>\n",
       "      <td>2.31</td>\n",
       "      <td>78</td>\n",
       "      <td>10000</td>\n",
       "      <td>6.65</td>\n",
       "      <td>101</td>\n",
       "      <td>7.53</td>\n",
       "      <td>[{'id': 500, 'main': 'Rain', 'description': 'l...</td>\n",
       "      <td>0.59</td>\n",
       "      <td>{'1h': 0.36}</td>\n",
       "    </tr>\n",
       "    <tr>\n",
       "      <th>3</th>\n",
       "      <td>1633251600</td>\n",
       "      <td>28.64</td>\n",
       "      <td>33.19</td>\n",
       "      <td>1013</td>\n",
       "      <td>77</td>\n",
       "      <td>24.21</td>\n",
       "      <td>0.71</td>\n",
       "      <td>77</td>\n",
       "      <td>10000</td>\n",
       "      <td>6.14</td>\n",
       "      <td>102</td>\n",
       "      <td>7.47</td>\n",
       "      <td>[{'id': 500, 'main': 'Rain', 'description': 'l...</td>\n",
       "      <td>0.59</td>\n",
       "      <td>{'1h': 0.14}</td>\n",
       "    </tr>\n",
       "    <tr>\n",
       "      <th>4</th>\n",
       "      <td>1633255200</td>\n",
       "      <td>28.19</td>\n",
       "      <td>32.25</td>\n",
       "      <td>1012</td>\n",
       "      <td>78</td>\n",
       "      <td>23.99</td>\n",
       "      <td>0.00</td>\n",
       "      <td>73</td>\n",
       "      <td>10000</td>\n",
       "      <td>5.47</td>\n",
       "      <td>99</td>\n",
       "      <td>7.43</td>\n",
       "      <td>[{'id': 500, 'main': 'Rain', 'description': 'l...</td>\n",
       "      <td>0.59</td>\n",
       "      <td>{'1h': 0.17}</td>\n",
       "    </tr>\n",
       "  </tbody>\n",
       "</table>\n",
       "</div>"
      ],
      "text/plain": [
       "           dt   temp  feels_like  pressure  humidity  dew_point   uvi  clouds  \\\n",
       "0  1633240800  29.26       35.01      1017        78      25.02  7.35      82   \n",
       "1  1633244400  29.20       34.63      1016        77      24.75  4.80      83   \n",
       "2  1633248000  28.99       33.87      1015        76      24.33  2.31      78   \n",
       "3  1633251600  28.64       33.19      1013        77      24.21  0.71      77   \n",
       "4  1633255200  28.19       32.25      1012        78      23.99  0.00      73   \n",
       "\n",
       "   visibility  wind_speed  wind_deg  wind_gust  \\\n",
       "0       10000        6.53        93       7.21   \n",
       "1       10000        6.68        99       7.41   \n",
       "2       10000        6.65       101       7.53   \n",
       "3       10000        6.14       102       7.47   \n",
       "4       10000        5.47        99       7.43   \n",
       "\n",
       "                                             weather   pop          rain  \n",
       "0  [{'id': 803, 'main': 'Clouds', 'description': ...  0.67           NaN  \n",
       "1  [{'id': 501, 'main': 'Rain', 'description': 'm...  0.47  {'1h': 1.15}  \n",
       "2  [{'id': 500, 'main': 'Rain', 'description': 'l...  0.59  {'1h': 0.36}  \n",
       "3  [{'id': 500, 'main': 'Rain', 'description': 'l...  0.59  {'1h': 0.14}  \n",
       "4  [{'id': 500, 'main': 'Rain', 'description': 'l...  0.59  {'1h': 0.17}  "
      ]
     },
     "execution_count": 10,
     "metadata": {},
     "output_type": "execute_result"
    }
   ],
   "source": [
    "df_hourly.head()"
   ]
  },
  {
   "cell_type": "code",
   "execution_count": null,
   "metadata": {},
   "outputs": [],
   "source": []
  }
 ],
 "metadata": {
  "interpreter": {
   "hash": "c1b4cfe941b6d2466ad1fb5979e97da9cda8801728c8091b097ab734208fc00c"
  },
  "kernelspec": {
   "display_name": "Python 3.8.3 64-bit ('base': conda)",
   "name": "python3"
  },
  "language_info": {
   "codemirror_mode": {
    "name": "ipython",
    "version": 3
   },
   "file_extension": ".py",
   "mimetype": "text/x-python",
   "name": "python",
   "nbconvert_exporter": "python",
   "pygments_lexer": "ipython3",
   "version": "3.8.12"
  }
 },
 "nbformat": 4,
 "nbformat_minor": 2
}
