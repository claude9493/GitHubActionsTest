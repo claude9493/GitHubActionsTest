{
 "cells": [
  {
   "cell_type": "code",
   "execution_count": 1,
   "metadata": {
    "execution": {
     "iopub.execute_input": "2021-09-24T04:14:30.852087Z",
     "iopub.status.busy": "2021-09-24T04:14:30.851539Z",
     "iopub.status.idle": "2021-09-24T04:14:32.720894Z",
     "shell.execute_reply": "2021-09-24T04:14:32.720281Z"
    }
   },
   "outputs": [],
   "source": [
    "import json, yaml, requests\r\n",
    "from datetime import datetime\r\n",
    "from dateutil import tz\r\n",
    "import pandas as pd\r\n",
    "from PIL import Image\r\n",
    "from io import BytesIO\r\n",
    "import matplotlib.pyplot as plt\r\n",
    "import seaborn\r\n",
    "\r\n",
    "CONFIG_PATH = \"../config/config.yaml\""
   ]
  },
  {
   "cell_type": "code",
   "execution_count": 2,
   "metadata": {
    "execution": {
     "iopub.execute_input": "2021-09-24T04:14:32.728164Z",
     "iopub.status.busy": "2021-09-24T04:14:32.725323Z",
     "iopub.status.idle": "2021-09-24T04:14:32.730668Z",
     "shell.execute_reply": "2021-09-24T04:14:32.730296Z"
    }
   },
   "outputs": [],
   "source": [
    "with open('../newest_ts', 'r') as f:\r\n",
    "    newest_ts = f.read()\r\n",
    "\r\n",
    "data_path = f\"../data/data_{newest_ts}.json\"\r\n",
    "with open(data_path, 'r') as f:\r\n",
    "    data = json.load(f)\r\n",
    "\r\n",
    "with open(CONFIG_PATH, \"r\") as stream:\r\n",
    "    config = yaml.safe_load(stream)\r\n",
    "\r\n",
    "TIME_ZONE = config['time_zone']\r\n",
    "DATETIME_FORMAT = config['dt_format']"
   ]
  },
  {
   "cell_type": "code",
   "execution_count": 3,
   "metadata": {
    "execution": {
     "iopub.execute_input": "2021-09-24T04:14:32.734942Z",
     "iopub.status.busy": "2021-09-24T04:14:32.734454Z",
     "iopub.status.idle": "2021-09-24T04:14:32.743612Z",
     "shell.execute_reply": "2021-09-24T04:14:32.743985Z"
    }
   },
   "outputs": [
    {
     "name": "stdout",
     "output_type": "stream",
     "text": [
      "Recent query happens at 2021-09-24 12:14:28 (CST).\n"
     ]
    }
   ],
   "source": [
    "def ts2dt(ts, format=DATETIME_FORMAT):\r\n",
    "    dt = (datetime.utcfromtimestamp(int(ts))\r\n",
    "                    .replace(tzinfo=tz.tzutc())\r\n",
    "                    # .astimezone(tz.tzlocal())\r\n",
    "                    .astimezone(tz.gettz(TIME_ZONE)))\r\n",
    "    return dt.strftime(format), dt\r\n",
    "\r\n",
    "_, newest_dt = ts2dt(newest_ts)\r\n",
    "print(f\"Recent query happens at {newest_dt.strftime(DATETIME_FORMAT)} ({newest_dt.tzname()}).\")"
   ]
  },
  {
   "cell_type": "code",
   "execution_count": 4,
   "metadata": {
    "execution": {
     "iopub.execute_input": "2021-09-24T04:14:32.748693Z",
     "iopub.status.busy": "2021-09-24T04:14:32.747680Z",
     "iopub.status.idle": "2021-09-24T04:14:32.749210Z",
     "shell.execute_reply": "2021-09-24T04:14:32.749573Z"
    }
   },
   "outputs": [],
   "source": [
    "def degrees_to_cardinal(d):\r\n",
    "  dirs = ['N', 'NNE', 'NE', 'ENE', 'E', 'ESE', 'SE', 'SSE', 'S', 'SSW', 'SW', 'WSW', 'W', 'WNW', 'NW', 'NNW']\r\n",
    "  ix = int(round(d / (360. / len(dirs))))\r\n",
    "  return dirs[ix % len(dirs)]"
   ]
  },
  {
   "cell_type": "code",
   "execution_count": 5,
   "metadata": {
    "execution": {
     "iopub.execute_input": "2021-09-24T04:14:32.753512Z",
     "iopub.status.busy": "2021-09-24T04:14:32.752380Z",
     "iopub.status.idle": "2021-09-24T04:14:32.754074Z",
     "shell.execute_reply": "2021-09-24T04:14:32.754448Z"
    }
   },
   "outputs": [],
   "source": [
    "# data.keys()"
   ]
  },
  {
   "cell_type": "code",
   "execution_count": 6,
   "metadata": {
    "execution": {
     "iopub.execute_input": "2021-09-24T04:14:32.758042Z",
     "iopub.status.busy": "2021-09-24T04:14:32.757009Z",
     "iopub.status.idle": "2021-09-24T04:14:32.758560Z",
     "shell.execute_reply": "2021-09-24T04:14:32.758921Z"
    }
   },
   "outputs": [],
   "source": [
    "# data['current']"
   ]
  },
  {
   "cell_type": "code",
   "execution_count": 7,
   "metadata": {
    "execution": {
     "iopub.execute_input": "2021-09-24T04:14:32.775349Z",
     "iopub.status.busy": "2021-09-24T04:14:32.774875Z",
     "iopub.status.idle": "2021-09-24T04:14:37.187392Z",
     "shell.execute_reply": "2021-09-24T04:14:37.186681Z"
    }
   },
   "outputs": [
    {
     "data": {
      "image/png": "[encoded data removed]",
      "text/plain": [
       "<Figure size 216x216 with 1 Axes>"
      ]
     },
     "metadata": {
      "needs_background": "light"
     },
     "output_type": "display_data"
    },
    {
     "name": "stdout",
     "output_type": "stream",
     "text": [
      "Today, sun rises at 06:12 and sets at 18:17.\n",
      "Currently, the weather is Clouds (broken clouds).\n",
      "The temperature is 30.75°C and it feels like 37.75°C.\n",
      "The UV index is 10.09, humidity is 82%.\n",
      "The pressure is 1014 hPa, percentage of cloud cover is 58%\n",
      "The wind comes from E direction with a speed 6.93 m/s.\n"
     ]
    }
   ],
   "source": [
    "current = data['current']\r\n",
    "\r\n",
    "fig, ax = plt.subplots(figsize=(3, 3))\r\n",
    "icon = requests.get(f\"http://openweathermap.org/img/wn/{current['weather'][0]['icon']}@2x.png\")\r\n",
    "im = Image.open(BytesIO(icon.content))\r\n",
    "plt.imshow(im)\r\n",
    "ax.set_axis_off()\r\n",
    "plt.show()\r\n",
    "\r\n",
    "print(f\"Today, sun rises at {ts2dt(current['sunrise'], '%H:%M')[0]} \\\r\n",
    "and sets at {ts2dt(current['sunset'], '%H:%M')[0]}.\\n\\\r\n",
    "Currently, the weather is {current['weather'][0]['main']} ({current['weather'][0]['description']}).\\n\\\r\n",
    "The temperature is {current['temp']}°C and it feels like {current['feels_like']}°C.\\n\\\r\n",
    "The UV index is {current['uvi']}, humidity is {current['humidity']}%.\\n\\\r\n",
    "The pressure is {current['pressure']} hPa, percentage of cloud cover is {current['clouds']}%\\n\\\r\n",
    "The wind comes from {degrees_to_cardinal(current['wind_deg'])} direction with a speed {current['wind_speed']} m/s.\")"
   ]
  },
  {
   "cell_type": "code",
   "execution_count": 8,
   "metadata": {
    "execution": {
     "iopub.execute_input": "2021-09-24T04:14:37.193992Z",
     "iopub.status.busy": "2021-09-24T04:14:37.193151Z",
     "iopub.status.idle": "2021-09-24T04:14:37.195967Z",
     "shell.execute_reply": "2021-09-24T04:14:37.196604Z"
    }
   },
   "outputs": [],
   "source": [
    "df_hourly = pd.DataFrame(data['hourly'])\r\n",
    "df_daily = pd.DataFrame(data['daily'])"
   ]
  },
  {
   "cell_type": "code",
   "execution_count": 9,
   "metadata": {
    "execution": {
     "iopub.execute_input": "2021-09-24T04:14:37.199895Z",
     "iopub.status.busy": "2021-09-24T04:14:37.198773Z",
     "iopub.status.idle": "2021-09-24T04:14:37.445165Z",
     "shell.execute_reply": "2021-09-24T04:14:37.444740Z"
    }
   },
   "outputs": [
    {
     "data": {
      "image/png": "[encoded data removed]",
      "text/plain": [
       "<Figure size 864x432 with 1 Axes>"
      ]
     },
     "metadata": {
      "needs_background": "light"
     },
     "output_type": "display_data"
    }
   ],
   "source": [
    "fig, ax = plt.subplots(figsize=(12, 6))\r\n",
    "plt.plot(df_hourly.temp, '.-', label='Temperature')\r\n",
    "plt.plot(df_hourly.feels_like, '.-', label='Feels Like')\r\n",
    "ax.set(title='Temperature in future 48 hours', xlabel='Time', ylabel='Temperature')\r\n",
    "ax.set_xticks(list(range(0, len(df_hourly), 2)))\r\n",
    "ax.set_xticklabels([ts2dt(ts, '%m-%d %H:%M')[0] for i, ts in enumerate(df_hourly.dt) if i%2==0], \r\n",
    "                   rotation=45, ha=\"right\")\r\n",
    "ax.locator_params(nbins=15, axis='y')\r\n",
    "plt.legend()\r\n",
    "plt.show()"
   ]
  },
  {
   "cell_type": "code",
   "execution_count": 10,
   "metadata": {
    "execution": {
     "iopub.execute_input": "2021-09-24T04:14:37.456094Z",
     "iopub.status.busy": "2021-09-24T04:14:37.449042Z",
     "iopub.status.idle": "2021-09-24T04:14:37.466164Z",
     "shell.execute_reply": "2021-09-24T04:14:37.465721Z"
    }
   },
   "outputs": [
    {
     "data": {
      "text/html": [
       "<div>\n",
       "<style scoped>\n",
       "    .dataframe tbody tr th:only-of-type {\n",
       "        vertical-align: middle;\n",
       "    }\n",
       "\n",
       "    .dataframe tbody tr th {\n",
       "        vertical-align: top;\n",
       "    }\n",
       "\n",
       "    .dataframe thead th {\n",
       "        text-align: right;\n",
       "    }\n",
       "</style>\n",
       "<table border=\"1\" class=\"dataframe\">\n",
       "  <thead>\n",
       "    <tr style=\"text-align: right;\">\n",
       "      <th></th>\n",
       "      <th>dt</th>\n",
       "      <th>temp</th>\n",
       "      <th>feels_like</th>\n",
       "      <th>pressure</th>\n",
       "      <th>humidity</th>\n",
       "      <th>dew_point</th>\n",
       "      <th>uvi</th>\n",
       "      <th>clouds</th>\n",
       "      <th>visibility</th>\n",
       "      <th>wind_speed</th>\n",
       "      <th>wind_deg</th>\n",
       "      <th>wind_gust</th>\n",
       "      <th>weather</th>\n",
       "      <th>pop</th>\n",
       "      <th>rain</th>\n",
       "    </tr>\n",
       "  </thead>\n",
       "  <tbody>\n",
       "    <tr>\n",
       "      <th>0</th>\n",
       "      <td>1632456000</td>\n",
       "      <td>30.75</td>\n",
       "      <td>37.75</td>\n",
       "      <td>1014</td>\n",
       "      <td>82</td>\n",
       "      <td>27.32</td>\n",
       "      <td>10.09</td>\n",
       "      <td>58</td>\n",
       "      <td>10000</td>\n",
       "      <td>6.93</td>\n",
       "      <td>84</td>\n",
       "      <td>8.08</td>\n",
       "      <td>[{'id': 803, 'main': 'Clouds', 'description': ...</td>\n",
       "      <td>0.34</td>\n",
       "      <td>NaN</td>\n",
       "    </tr>\n",
       "    <tr>\n",
       "      <th>1</th>\n",
       "      <td>1632459600</td>\n",
       "      <td>30.54</td>\n",
       "      <td>37.54</td>\n",
       "      <td>1014</td>\n",
       "      <td>80</td>\n",
       "      <td>26.69</td>\n",
       "      <td>9.91</td>\n",
       "      <td>57</td>\n",
       "      <td>10000</td>\n",
       "      <td>6.80</td>\n",
       "      <td>84</td>\n",
       "      <td>7.91</td>\n",
       "      <td>[{'id': 803, 'main': 'Clouds', 'description': ...</td>\n",
       "      <td>0.30</td>\n",
       "      <td>NaN</td>\n",
       "    </tr>\n",
       "    <tr>\n",
       "      <th>2</th>\n",
       "      <td>1632463200</td>\n",
       "      <td>30.41</td>\n",
       "      <td>37.41</td>\n",
       "      <td>1014</td>\n",
       "      <td>77</td>\n",
       "      <td>25.92</td>\n",
       "      <td>8.10</td>\n",
       "      <td>54</td>\n",
       "      <td>10000</td>\n",
       "      <td>6.50</td>\n",
       "      <td>88</td>\n",
       "      <td>7.78</td>\n",
       "      <td>[{'id': 803, 'main': 'Clouds', 'description': ...</td>\n",
       "      <td>0.30</td>\n",
       "      <td>NaN</td>\n",
       "    </tr>\n",
       "    <tr>\n",
       "      <th>3</th>\n",
       "      <td>1632466800</td>\n",
       "      <td>30.23</td>\n",
       "      <td>36.94</td>\n",
       "      <td>1013</td>\n",
       "      <td>75</td>\n",
       "      <td>25.30</td>\n",
       "      <td>5.46</td>\n",
       "      <td>32</td>\n",
       "      <td>10000</td>\n",
       "      <td>6.62</td>\n",
       "      <td>93</td>\n",
       "      <td>7.95</td>\n",
       "      <td>[{'id': 802, 'main': 'Clouds', 'description': ...</td>\n",
       "      <td>0.30</td>\n",
       "      <td>NaN</td>\n",
       "    </tr>\n",
       "    <tr>\n",
       "      <th>4</th>\n",
       "      <td>1632470400</td>\n",
       "      <td>29.78</td>\n",
       "      <td>35.70</td>\n",
       "      <td>1012</td>\n",
       "      <td>75</td>\n",
       "      <td>24.87</td>\n",
       "      <td>2.71</td>\n",
       "      <td>20</td>\n",
       "      <td>10000</td>\n",
       "      <td>6.71</td>\n",
       "      <td>96</td>\n",
       "      <td>8.27</td>\n",
       "      <td>[{'id': 801, 'main': 'Clouds', 'description': ...</td>\n",
       "      <td>0.34</td>\n",
       "      <td>NaN</td>\n",
       "    </tr>\n",
       "  </tbody>\n",
       "</table>\n",
       "</div>"
      ],
      "text/plain": [
       "           dt   temp  feels_like  pressure  humidity  dew_point    uvi  \\\n",
       "0  1632456000  30.75       37.75      1014        82      27.32  10.09   \n",
       "1  1632459600  30.54       37.54      1014        80      26.69   9.91   \n",
       "2  1632463200  30.41       37.41      1014        77      25.92   8.10   \n",
       "3  1632466800  30.23       36.94      1013        75      25.30   5.46   \n",
       "4  1632470400  29.78       35.70      1012        75      24.87   2.71   \n",
       "\n",
       "   clouds  visibility  wind_speed  wind_deg  wind_gust  \\\n",
       "0      58       10000        6.93        84       8.08   \n",
       "1      57       10000        6.80        84       7.91   \n",
       "2      54       10000        6.50        88       7.78   \n",
       "3      32       10000        6.62        93       7.95   \n",
       "4      20       10000        6.71        96       8.27   \n",
       "\n",
       "                                             weather   pop rain  \n",
       "0  [{'id': 803, 'main': 'Clouds', 'description': ...  0.34  NaN  \n",
       "1  [{'id': 803, 'main': 'Clouds', 'description': ...  0.30  NaN  \n",
       "2  [{'id': 803, 'main': 'Clouds', 'description': ...  0.30  NaN  \n",
       "3  [{'id': 802, 'main': 'Clouds', 'description': ...  0.30  NaN  \n",
       "4  [{'id': 801, 'main': 'Clouds', 'description': ...  0.34  NaN  "
      ]
     },
     "execution_count": 10,
     "metadata": {},
     "output_type": "execute_result"
    }
   ],
   "source": [
    "df_hourly.head()"
   ]
  },
  {
   "cell_type": "code",
   "execution_count": null,
   "metadata": {},
   "outputs": [],
   "source": []
  }
 ],
 "metadata": {
  "interpreter": {
   "hash": "c1b4cfe941b6d2466ad1fb5979e97da9cda8801728c8091b097ab734208fc00c"
  },
  "kernelspec": {
   "display_name": "Python 3.8.3 64-bit ('base': conda)",
   "name": "python3"
  },
  "language_info": {
   "codemirror_mode": {
    "name": "ipython",
    "version": 3
   },
   "file_extension": ".py",
   "mimetype": "text/x-python",
   "name": "python",
   "nbconvert_exporter": "python",
   "pygments_lexer": "ipython3",
   "version": "3.8.12"
  }
 },
 "nbformat": 4,
 "nbformat_minor": 2
}
