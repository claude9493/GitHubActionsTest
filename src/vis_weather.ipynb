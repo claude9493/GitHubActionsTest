{
 "cells": [
  {
   "cell_type": "code",
   "execution_count": 1,
   "metadata": {
    "execution": {
     "iopub.execute_input": "2021-10-05T16:17:44.621632Z",
     "iopub.status.busy": "2021-10-05T16:17:44.620961Z",
     "iopub.status.idle": "2021-10-05T16:17:55.199484Z",
     "shell.execute_reply": "2021-10-05T16:17:55.198419Z"
    }
   },
   "outputs": [
    {
     "name": "stderr",
     "output_type": "stream",
     "text": [
      "Matplotlib is building the font cache; this may take a moment.\n"
     ]
    }
   ],
   "source": [
    "import json, yaml, requests\r\n",
    "from datetime import datetime\r\n",
    "from dateutil import tz\r\n",
    "import pandas as pd\r\n",
    "from PIL import Image\r\n",
    "from io import BytesIO\r\n",
    "import matplotlib.pyplot as plt\r\n",
    "import seaborn\r\n",
    "\r\n",
    "CONFIG_PATH = \"../config/config.yaml\""
   ]
  },
  {
   "cell_type": "code",
   "execution_count": 2,
   "metadata": {
    "execution": {
     "iopub.execute_input": "2021-10-05T16:17:55.203692Z",
     "iopub.status.busy": "2021-10-05T16:17:55.203078Z",
     "iopub.status.idle": "2021-10-05T16:17:55.210743Z",
     "shell.execute_reply": "2021-10-05T16:17:55.211265Z"
    }
   },
   "outputs": [],
   "source": [
    "with open('../newest_ts', 'r') as f:\r\n",
    "    newest_ts = f.read()\r\n",
    "\r\n",
    "data_path = f\"../data/data_{newest_ts}.json\"\r\n",
    "with open(data_path, 'r') as f:\r\n",
    "    data = json.load(f)\r\n",
    "\r\n",
    "with open(CONFIG_PATH, \"r\") as stream:\r\n",
    "    config = yaml.safe_load(stream)\r\n",
    "\r\n",
    "TIME_ZONE = config['time_zone']\r\n",
    "DATETIME_FORMAT = config['dt_format']"
   ]
  },
  {
   "cell_type": "code",
   "execution_count": 3,
   "metadata": {
    "execution": {
     "iopub.execute_input": "2021-10-05T16:17:55.216488Z",
     "iopub.status.busy": "2021-10-05T16:17:55.215791Z",
     "iopub.status.idle": "2021-10-05T16:17:55.253421Z",
     "shell.execute_reply": "2021-10-05T16:17:55.253861Z"
    }
   },
   "outputs": [
    {
     "name": "stdout",
     "output_type": "stream",
     "text": [
      "Recent query happens at 2021-10-06 00:17:37 (CST).\n"
     ]
    }
   ],
   "source": [
    "def ts2dt(ts, format=DATETIME_FORMAT):\r\n",
    "    dt = (datetime.utcfromtimestamp(int(ts))\r\n",
    "                    .replace(tzinfo=tz.tzutc())\r\n",
    "                    # .astimezone(tz.tzlocal())\r\n",
    "                    .astimezone(tz.gettz(TIME_ZONE)))\r\n",
    "    return dt.strftime(format), dt\r\n",
    "\r\n",
    "_, newest_dt = ts2dt(newest_ts)\r\n",
    "print(f\"Recent query happens at {newest_dt.strftime(DATETIME_FORMAT)} ({newest_dt.tzname()}).\")"
   ]
  },
  {
   "cell_type": "code",
   "execution_count": 4,
   "metadata": {
    "execution": {
     "iopub.execute_input": "2021-10-05T16:17:55.259492Z",
     "iopub.status.busy": "2021-10-05T16:17:55.258323Z",
     "iopub.status.idle": "2021-10-05T16:17:55.260253Z",
     "shell.execute_reply": "2021-10-05T16:17:55.260748Z"
    }
   },
   "outputs": [],
   "source": [
    "def degrees_to_cardinal(d):\r\n",
    "  dirs = ['N', 'NNE', 'NE', 'ENE', 'E', 'ESE', 'SE', 'SSE', 'S', 'SSW', 'SW', 'WSW', 'W', 'WNW', 'NW', 'NNW']\r\n",
    "  ix = int(round(d / (360. / len(dirs))))\r\n",
    "  return dirs[ix % len(dirs)]"
   ]
  },
  {
   "cell_type": "code",
   "execution_count": 5,
   "metadata": {
    "execution": {
     "iopub.execute_input": "2021-10-05T16:17:55.265807Z",
     "iopub.status.busy": "2021-10-05T16:17:55.264436Z",
     "iopub.status.idle": "2021-10-05T16:17:55.266621Z",
     "shell.execute_reply": "2021-10-05T16:17:55.267113Z"
    }
   },
   "outputs": [],
   "source": [
    "# data.keys()"
   ]
  },
  {
   "cell_type": "code",
   "execution_count": 6,
   "metadata": {
    "execution": {
     "iopub.execute_input": "2021-10-05T16:17:55.270591Z",
     "iopub.status.busy": "2021-10-05T16:17:55.269948Z",
     "iopub.status.idle": "2021-10-05T16:17:55.272934Z",
     "shell.execute_reply": "2021-10-05T16:17:55.272382Z"
    }
   },
   "outputs": [],
   "source": [
    "# data['current']"
   ]
  },
  {
   "cell_type": "code",
   "execution_count": 7,
   "metadata": {
    "execution": {
     "iopub.execute_input": "2021-10-05T16:17:55.293928Z",
     "iopub.status.busy": "2021-10-05T16:17:55.292670Z",
     "iopub.status.idle": "2021-10-05T16:17:55.567205Z",
     "shell.execute_reply": "2021-10-05T16:17:55.567992Z"
    }
   },
   "outputs": [
    {
     "data": {
      "image/png": "[encoded data removed]",
      "text/plain": [
       "<Figure size 216x216 with 1 Axes>"
      ]
     },
     "metadata": {
      "needs_background": "light"
     },
     "output_type": "display_data"
    },
    {
     "name": "stdout",
     "output_type": "stream",
     "text": [
      "Today, sun rises at 06:15 and sets at 18:06.\n",
      "Currently, the weather is Rain (light rain).\n",
      "The temperature is 29.38°C and it feels like 34.21°C.\n",
      "The UV index is 0, humidity is 73%.\n",
      "The pressure is 1010 hPa, percentage of cloud cover is 1%\n",
      "The wind comes from WSW direction with a speed 0.89 m/s.\n"
     ]
    }
   ],
   "source": [
    "current = data['current']\r\n",
    "\r\n",
    "fig, ax = plt.subplots(figsize=(3, 3))\r\n",
    "icon = requests.get(f\"http://openweathermap.org/img/wn/{current['weather'][0]['icon']}@2x.png\")\r\n",
    "im = Image.open(BytesIO(icon.content))\r\n",
    "plt.imshow(im)\r\n",
    "ax.set_axis_off()\r\n",
    "plt.show()\r\n",
    "\r\n",
    "print(f\"Today, sun rises at {ts2dt(current['sunrise'], '%H:%M')[0]} \\\r\n",
    "and sets at {ts2dt(current['sunset'], '%H:%M')[0]}.\\n\\\r\n",
    "Currently, the weather is {current['weather'][0]['main']} ({current['weather'][0]['description']}).\\n\\\r\n",
    "The temperature is {current['temp']}°C and it feels like {current['feels_like']}°C.\\n\\\r\n",
    "The UV index is {current['uvi']}, humidity is {current['humidity']}%.\\n\\\r\n",
    "The pressure is {current['pressure']} hPa, percentage of cloud cover is {current['clouds']}%\\n\\\r\n",
    "The wind comes from {degrees_to_cardinal(current['wind_deg'])} direction with a speed {current['wind_speed']} m/s.\")"
   ]
  },
  {
   "cell_type": "code",
   "execution_count": 8,
   "metadata": {
    "execution": {
     "iopub.execute_input": "2021-10-05T16:17:55.571788Z",
     "iopub.status.busy": "2021-10-05T16:17:55.570683Z",
     "iopub.status.idle": "2021-10-05T16:17:55.578823Z",
     "shell.execute_reply": "2021-10-05T16:17:55.579608Z"
    }
   },
   "outputs": [],
   "source": [
    "df_hourly = pd.DataFrame(data['hourly'])\r\n",
    "df_daily = pd.DataFrame(data['daily'])"
   ]
  },
  {
   "cell_type": "code",
   "execution_count": 9,
   "metadata": {
    "execution": {
     "iopub.execute_input": "2021-10-05T16:17:55.583395Z",
     "iopub.status.busy": "2021-10-05T16:17:55.582315Z",
     "iopub.status.idle": "2021-10-05T16:17:55.882611Z",
     "shell.execute_reply": "2021-10-05T16:17:55.883031Z"
    }
   },
   "outputs": [
    {
     "data": {
      "image/png": "[encoded data removed]",
      "text/plain": [
       "<Figure size 864x432 with 1 Axes>"
      ]
     },
     "metadata": {
      "needs_background": "light"
     },
     "output_type": "display_data"
    }
   ],
   "source": [
    "fig, ax = plt.subplots(figsize=(12, 6))\r\n",
    "plt.plot(df_hourly.temp, '.-', label='Temperature')\r\n",
    "plt.plot(df_hourly.feels_like, '.-', label='Feels Like')\r\n",
    "ax.set(title='Temperature in future 48 hours', xlabel='Time', ylabel='Temperature')\r\n",
    "ax.set_xticks(list(range(0, len(df_hourly), 2)))\r\n",
    "ax.set_xticklabels([ts2dt(ts, '%m-%d %H:%M')[0] for i, ts in enumerate(df_hourly.dt) if i%2==0], \r\n",
    "                   rotation=45, ha=\"right\")\r\n",
    "ax.locator_params(nbins=15, axis='y')\r\n",
    "plt.legend()\r\n",
    "plt.show()"
   ]
  },
  {
   "cell_type": "code",
   "execution_count": 10,
   "metadata": {
    "execution": {
     "iopub.execute_input": "2021-10-05T16:17:55.887584Z",
     "iopub.status.busy": "2021-10-05T16:17:55.887024Z",
     "iopub.status.idle": "2021-10-05T16:17:55.909066Z",
     "shell.execute_reply": "2021-10-05T16:17:55.909531Z"
    }
   },
   "outputs": [
    {
     "data": {
      "text/html": [
       "<div>\n",
       "<style scoped>\n",
       "    .dataframe tbody tr th:only-of-type {\n",
       "        vertical-align: middle;\n",
       "    }\n",
       "\n",
       "    .dataframe tbody tr th {\n",
       "        vertical-align: top;\n",
       "    }\n",
       "\n",
       "    .dataframe thead th {\n",
       "        text-align: right;\n",
       "    }\n",
       "</style>\n",
       "<table border=\"1\" class=\"dataframe\">\n",
       "  <thead>\n",
       "    <tr style=\"text-align: right;\">\n",
       "      <th></th>\n",
       "      <th>dt</th>\n",
       "      <th>temp</th>\n",
       "      <th>feels_like</th>\n",
       "      <th>pressure</th>\n",
       "      <th>humidity</th>\n",
       "      <th>dew_point</th>\n",
       "      <th>uvi</th>\n",
       "      <th>clouds</th>\n",
       "      <th>visibility</th>\n",
       "      <th>wind_speed</th>\n",
       "      <th>wind_deg</th>\n",
       "      <th>wind_gust</th>\n",
       "      <th>weather</th>\n",
       "      <th>pop</th>\n",
       "      <th>rain</th>\n",
       "    </tr>\n",
       "  </thead>\n",
       "  <tbody>\n",
       "    <tr>\n",
       "      <th>0</th>\n",
       "      <td>1633449600</td>\n",
       "      <td>29.38</td>\n",
       "      <td>34.21</td>\n",
       "      <td>1010</td>\n",
       "      <td>73</td>\n",
       "      <td>24.03</td>\n",
       "      <td>0.0</td>\n",
       "      <td>1</td>\n",
       "      <td>10000</td>\n",
       "      <td>9.64</td>\n",
       "      <td>84</td>\n",
       "      <td>12.31</td>\n",
       "      <td>[{'id': 800, 'main': 'Clear', 'description': '...</td>\n",
       "      <td>0.0</td>\n",
       "      <td>NaN</td>\n",
       "    </tr>\n",
       "    <tr>\n",
       "      <th>1</th>\n",
       "      <td>1633453200</td>\n",
       "      <td>29.01</td>\n",
       "      <td>33.52</td>\n",
       "      <td>1010</td>\n",
       "      <td>74</td>\n",
       "      <td>23.90</td>\n",
       "      <td>0.0</td>\n",
       "      <td>1</td>\n",
       "      <td>10000</td>\n",
       "      <td>9.98</td>\n",
       "      <td>78</td>\n",
       "      <td>12.76</td>\n",
       "      <td>[{'id': 500, 'main': 'Rain', 'description': 'l...</td>\n",
       "      <td>0.2</td>\n",
       "      <td>{'1h': 0.15}</td>\n",
       "    </tr>\n",
       "    <tr>\n",
       "      <th>2</th>\n",
       "      <td>1633456800</td>\n",
       "      <td>28.52</td>\n",
       "      <td>32.37</td>\n",
       "      <td>1010</td>\n",
       "      <td>74</td>\n",
       "      <td>23.43</td>\n",
       "      <td>0.0</td>\n",
       "      <td>1</td>\n",
       "      <td>10000</td>\n",
       "      <td>9.54</td>\n",
       "      <td>71</td>\n",
       "      <td>12.57</td>\n",
       "      <td>[{'id': 500, 'main': 'Rain', 'description': 'l...</td>\n",
       "      <td>0.2</td>\n",
       "      <td>{'1h': 0.21}</td>\n",
       "    </tr>\n",
       "    <tr>\n",
       "      <th>3</th>\n",
       "      <td>1633460400</td>\n",
       "      <td>27.92</td>\n",
       "      <td>31.04</td>\n",
       "      <td>1010</td>\n",
       "      <td>74</td>\n",
       "      <td>22.85</td>\n",
       "      <td>0.0</td>\n",
       "      <td>2</td>\n",
       "      <td>10000</td>\n",
       "      <td>8.94</td>\n",
       "      <td>67</td>\n",
       "      <td>11.95</td>\n",
       "      <td>[{'id': 800, 'main': 'Clear', 'description': '...</td>\n",
       "      <td>0.0</td>\n",
       "      <td>NaN</td>\n",
       "    </tr>\n",
       "    <tr>\n",
       "      <th>4</th>\n",
       "      <td>1633464000</td>\n",
       "      <td>27.22</td>\n",
       "      <td>29.72</td>\n",
       "      <td>1009</td>\n",
       "      <td>75</td>\n",
       "      <td>22.40</td>\n",
       "      <td>0.0</td>\n",
       "      <td>2</td>\n",
       "      <td>10000</td>\n",
       "      <td>8.43</td>\n",
       "      <td>67</td>\n",
       "      <td>11.08</td>\n",
       "      <td>[{'id': 800, 'main': 'Clear', 'description': '...</td>\n",
       "      <td>0.0</td>\n",
       "      <td>NaN</td>\n",
       "    </tr>\n",
       "  </tbody>\n",
       "</table>\n",
       "</div>"
      ],
      "text/plain": [
       "           dt   temp  feels_like  pressure  humidity  dew_point  uvi  clouds  \\\n",
       "0  1633449600  29.38       34.21      1010        73      24.03  0.0       1   \n",
       "1  1633453200  29.01       33.52      1010        74      23.90  0.0       1   \n",
       "2  1633456800  28.52       32.37      1010        74      23.43  0.0       1   \n",
       "3  1633460400  27.92       31.04      1010        74      22.85  0.0       2   \n",
       "4  1633464000  27.22       29.72      1009        75      22.40  0.0       2   \n",
       "\n",
       "   visibility  wind_speed  wind_deg  wind_gust  \\\n",
       "0       10000        9.64        84      12.31   \n",
       "1       10000        9.98        78      12.76   \n",
       "2       10000        9.54        71      12.57   \n",
       "3       10000        8.94        67      11.95   \n",
       "4       10000        8.43        67      11.08   \n",
       "\n",
       "                                             weather  pop          rain  \n",
       "0  [{'id': 800, 'main': 'Clear', 'description': '...  0.0           NaN  \n",
       "1  [{'id': 500, 'main': 'Rain', 'description': 'l...  0.2  {'1h': 0.15}  \n",
       "2  [{'id': 500, 'main': 'Rain', 'description': 'l...  0.2  {'1h': 0.21}  \n",
       "3  [{'id': 800, 'main': 'Clear', 'description': '...  0.0           NaN  \n",
       "4  [{'id': 800, 'main': 'Clear', 'description': '...  0.0           NaN  "
      ]
     },
     "execution_count": 10,
     "metadata": {},
     "output_type": "execute_result"
    }
   ],
   "source": [
    "df_hourly.head()"
   ]
  },
  {
   "cell_type": "code",
   "execution_count": null,
   "metadata": {},
   "outputs": [],
   "source": []
  }
 ],
 "metadata": {
  "interpreter": {
   "hash": "c1b4cfe941b6d2466ad1fb5979e97da9cda8801728c8091b097ab734208fc00c"
  },
  "kernelspec": {
   "display_name": "Python 3.8.3 64-bit ('base': conda)",
   "name": "python3"
  },
  "language_info": {
   "codemirror_mode": {
    "name": "ipython",
    "version": 3
   },
   "file_extension": ".py",
   "mimetype": "text/x-python",
   "name": "python",
   "nbconvert_exporter": "python",
   "pygments_lexer": "ipython3",
   "version": "3.8.12"
  }
 },
 "nbformat": 4,
 "nbformat_minor": 2
}
