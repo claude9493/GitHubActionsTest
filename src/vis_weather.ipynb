{
 "cells": [
  {
   "cell_type": "code",
   "execution_count": 1,
   "metadata": {
    "execution": {
     "iopub.execute_input": "2021-10-07T07:11:52.351269Z",
     "iopub.status.busy": "2021-10-07T07:11:52.350638Z",
     "iopub.status.idle": "2021-10-07T07:11:55.296531Z",
     "shell.execute_reply": "2021-10-07T07:11:55.295613Z"
    }
   },
   "outputs": [],
   "source": [
    "import json, yaml, requests\r\n",
    "from datetime import datetime\r\n",
    "from dateutil import tz\r\n",
    "import pandas as pd\r\n",
    "from PIL import Image\r\n",
    "from io import BytesIO\r\n",
    "import matplotlib.pyplot as plt\r\n",
    "import seaborn\r\n",
    "\r\n",
    "CONFIG_PATH = \"../config/config.yaml\""
   ]
  },
  {
   "cell_type": "code",
   "execution_count": 2,
   "metadata": {
    "execution": {
     "iopub.execute_input": "2021-10-07T07:11:55.304430Z",
     "iopub.status.busy": "2021-10-07T07:11:55.300884Z",
     "iopub.status.idle": "2021-10-07T07:11:55.307247Z",
     "shell.execute_reply": "2021-10-07T07:11:55.306843Z"
    }
   },
   "outputs": [],
   "source": [
    "with open('../newest_ts', 'r') as f:\r\n",
    "    newest_ts = f.read()\r\n",
    "\r\n",
    "data_path = f\"../data/data_{newest_ts}.json\"\r\n",
    "with open(data_path, 'r') as f:\r\n",
    "    data = json.load(f)\r\n",
    "\r\n",
    "with open(CONFIG_PATH, \"r\") as stream:\r\n",
    "    config = yaml.safe_load(stream)\r\n",
    "\r\n",
    "TIME_ZONE = config['time_zone']\r\n",
    "DATETIME_FORMAT = config['dt_format']"
   ]
  },
  {
   "cell_type": "code",
   "execution_count": 3,
   "metadata": {
    "execution": {
     "iopub.execute_input": "2021-10-07T07:11:55.311810Z",
     "iopub.status.busy": "2021-10-07T07:11:55.311297Z",
     "iopub.status.idle": "2021-10-07T07:11:55.324624Z",
     "shell.execute_reply": "2021-10-07T07:11:55.325008Z"
    }
   },
   "outputs": [
    {
     "name": "stdout",
     "output_type": "stream",
     "text": [
      "Recent query happens at 2021-10-07 15:11:48 (CST).\n"
     ]
    }
   ],
   "source": [
    "def ts2dt(ts, format=DATETIME_FORMAT):\r\n",
    "    dt = (datetime.utcfromtimestamp(int(ts))\r\n",
    "                    .replace(tzinfo=tz.tzutc())\r\n",
    "                    # .astimezone(tz.tzlocal())\r\n",
    "                    .astimezone(tz.gettz(TIME_ZONE)))\r\n",
    "    return dt.strftime(format), dt\r\n",
    "\r\n",
    "_, newest_dt = ts2dt(newest_ts)\r\n",
    "print(f\"Recent query happens at {newest_dt.strftime(DATETIME_FORMAT)} ({newest_dt.tzname()}).\")"
   ]
  },
  {
   "cell_type": "code",
   "execution_count": 4,
   "metadata": {
    "execution": {
     "iopub.execute_input": "2021-10-07T07:11:55.329098Z",
     "iopub.status.busy": "2021-10-07T07:11:55.328592Z",
     "iopub.status.idle": "2021-10-07T07:11:55.330739Z",
     "shell.execute_reply": "2021-10-07T07:11:55.330361Z"
    }
   },
   "outputs": [],
   "source": [
    "def degrees_to_cardinal(d):\r\n",
    "  dirs = ['N', 'NNE', 'NE', 'ENE', 'E', 'ESE', 'SE', 'SSE', 'S', 'SSW', 'SW', 'WSW', 'W', 'WNW', 'NW', 'NNW']\r\n",
    "  ix = int(round(d / (360. / len(dirs))))\r\n",
    "  return dirs[ix % len(dirs)]"
   ]
  },
  {
   "cell_type": "code",
   "execution_count": 5,
   "metadata": {
    "execution": {
     "iopub.execute_input": "2021-10-07T07:11:55.335623Z",
     "iopub.status.busy": "2021-10-07T07:11:55.334754Z",
     "iopub.status.idle": "2021-10-07T07:11:55.336551Z",
     "shell.execute_reply": "2021-10-07T07:11:55.336150Z"
    }
   },
   "outputs": [],
   "source": [
    "# data.keys()"
   ]
  },
  {
   "cell_type": "code",
   "execution_count": 6,
   "metadata": {
    "execution": {
     "iopub.execute_input": "2021-10-07T07:11:55.340702Z",
     "iopub.status.busy": "2021-10-07T07:11:55.339351Z",
     "iopub.status.idle": "2021-10-07T07:11:55.341226Z",
     "shell.execute_reply": "2021-10-07T07:11:55.341601Z"
    }
   },
   "outputs": [],
   "source": [
    "# data['current']"
   ]
  },
  {
   "cell_type": "code",
   "execution_count": 7,
   "metadata": {
    "execution": {
     "iopub.execute_input": "2021-10-07T07:11:55.360294Z",
     "iopub.status.busy": "2021-10-07T07:11:55.359671Z",
     "iopub.status.idle": "2021-10-07T07:11:55.772131Z",
     "shell.execute_reply": "2021-10-07T07:11:55.771553Z"
    }
   },
   "outputs": [
    {
     "data": {
      "image/png": "[encoded data removed]",
      "text/plain": [
       "<Figure size 216x216 with 1 Axes>"
      ]
     },
     "metadata": {
      "needs_background": "light"
     },
     "output_type": "display_data"
    },
    {
     "name": "stdout",
     "output_type": "stream",
     "text": [
      "Today, sun rises at 06:16 and sets at 18:05.\n",
      "Currently, the weather is Rain (light rain).\n",
      "The temperature is 30.57°C and it feels like 37.31°C.\n",
      "The UV index is 4.37, humidity is 73%.\n",
      "The pressure is 1003 hPa, percentage of cloud cover is 89%\n",
      "The wind comes from WNW direction with a speed 1.34 m/s.\n"
     ]
    }
   ],
   "source": [
    "current = data['current']\r\n",
    "\r\n",
    "fig, ax = plt.subplots(figsize=(3, 3))\r\n",
    "icon = requests.get(f\"http://openweathermap.org/img/wn/{current['weather'][0]['icon']}@2x.png\")\r\n",
    "im = Image.open(BytesIO(icon.content))\r\n",
    "plt.imshow(im)\r\n",
    "ax.set_axis_off()\r\n",
    "plt.show()\r\n",
    "\r\n",
    "print(f\"Today, sun rises at {ts2dt(current['sunrise'], '%H:%M')[0]} \\\r\n",
    "and sets at {ts2dt(current['sunset'], '%H:%M')[0]}.\\n\\\r\n",
    "Currently, the weather is {current['weather'][0]['main']} ({current['weather'][0]['description']}).\\n\\\r\n",
    "The temperature is {current['temp']}°C and it feels like {current['feels_like']}°C.\\n\\\r\n",
    "The UV index is {current['uvi']}, humidity is {current['humidity']}%.\\n\\\r\n",
    "The pressure is {current['pressure']} hPa, percentage of cloud cover is {current['clouds']}%\\n\\\r\n",
    "The wind comes from {degrees_to_cardinal(current['wind_deg'])} direction with a speed {current['wind_speed']} m/s.\")"
   ]
  },
  {
   "cell_type": "code",
   "execution_count": 8,
   "metadata": {
    "execution": {
     "iopub.execute_input": "2021-10-07T07:11:55.778864Z",
     "iopub.status.busy": "2021-10-07T07:11:55.778349Z",
     "iopub.status.idle": "2021-10-07T07:11:55.781608Z",
     "shell.execute_reply": "2021-10-07T07:11:55.782372Z"
    }
   },
   "outputs": [],
   "source": [
    "df_hourly = pd.DataFrame(data['hourly'])\r\n",
    "df_daily = pd.DataFrame(data['daily'])"
   ]
  },
  {
   "cell_type": "code",
   "execution_count": 9,
   "metadata": {
    "execution": {
     "iopub.execute_input": "2021-10-07T07:11:55.785649Z",
     "iopub.status.busy": "2021-10-07T07:11:55.784624Z",
     "iopub.status.idle": "2021-10-07T07:11:56.103241Z",
     "shell.execute_reply": "2021-10-07T07:11:56.102787Z"
    }
   },
   "outputs": [
    {
     "data": {
      "image/png": "[encoded data removed]",
      "text/plain": [
       "<Figure size 864x432 with 1 Axes>"
      ]
     },
     "metadata": {
      "needs_background": "light"
     },
     "output_type": "display_data"
    }
   ],
   "source": [
    "fig, ax = plt.subplots(figsize=(12, 6))\r\n",
    "plt.plot(df_hourly.temp, '.-', label='Temperature')\r\n",
    "plt.plot(df_hourly.feels_like, '.-', label='Feels Like')\r\n",
    "ax.set(title='Temperature in future 48 hours', xlabel='Time', ylabel='Temperature')\r\n",
    "ax.set_xticks(list(range(0, len(df_hourly), 2)))\r\n",
    "ax.set_xticklabels([ts2dt(ts, '%m-%d %H:%M')[0] for i, ts in enumerate(df_hourly.dt) if i%2==0], \r\n",
    "                   rotation=45, ha=\"right\")\r\n",
    "ax.locator_params(nbins=15, axis='y')\r\n",
    "plt.legend()\r\n",
    "plt.show()"
   ]
  },
  {
   "cell_type": "code",
   "execution_count": 10,
   "metadata": {
    "execution": {
     "iopub.execute_input": "2021-10-07T07:11:56.116710Z",
     "iopub.status.busy": "2021-10-07T07:11:56.107609Z",
     "iopub.status.idle": "2021-10-07T07:11:56.130456Z",
     "shell.execute_reply": "2021-10-07T07:11:56.129813Z"
    }
   },
   "outputs": [
    {
     "data": {
      "text/html": [
       "<div>\n",
       "<style scoped>\n",
       "    .dataframe tbody tr th:only-of-type {\n",
       "        vertical-align: middle;\n",
       "    }\n",
       "\n",
       "    .dataframe tbody tr th {\n",
       "        vertical-align: top;\n",
       "    }\n",
       "\n",
       "    .dataframe thead th {\n",
       "        text-align: right;\n",
       "    }\n",
       "</style>\n",
       "<table border=\"1\" class=\"dataframe\">\n",
       "  <thead>\n",
       "    <tr style=\"text-align: right;\">\n",
       "      <th></th>\n",
       "      <th>dt</th>\n",
       "      <th>temp</th>\n",
       "      <th>feels_like</th>\n",
       "      <th>pressure</th>\n",
       "      <th>humidity</th>\n",
       "      <th>dew_point</th>\n",
       "      <th>uvi</th>\n",
       "      <th>clouds</th>\n",
       "      <th>visibility</th>\n",
       "      <th>wind_speed</th>\n",
       "      <th>wind_deg</th>\n",
       "      <th>wind_gust</th>\n",
       "      <th>weather</th>\n",
       "      <th>pop</th>\n",
       "      <th>rain</th>\n",
       "    </tr>\n",
       "  </thead>\n",
       "  <tbody>\n",
       "    <tr>\n",
       "      <th>0</th>\n",
       "      <td>1633590000</td>\n",
       "      <td>30.57</td>\n",
       "      <td>37.31</td>\n",
       "      <td>1003</td>\n",
       "      <td>73</td>\n",
       "      <td>25.18</td>\n",
       "      <td>4.37</td>\n",
       "      <td>89</td>\n",
       "      <td>10000</td>\n",
       "      <td>11.00</td>\n",
       "      <td>82</td>\n",
       "      <td>14.63</td>\n",
       "      <td>[{'id': 500, 'main': 'Rain', 'description': 'l...</td>\n",
       "      <td>0.77</td>\n",
       "      <td>{'1h': 0.61}</td>\n",
       "    </tr>\n",
       "    <tr>\n",
       "      <th>1</th>\n",
       "      <td>1633593600</td>\n",
       "      <td>29.99</td>\n",
       "      <td>36.27</td>\n",
       "      <td>1003</td>\n",
       "      <td>75</td>\n",
       "      <td>25.07</td>\n",
       "      <td>2.08</td>\n",
       "      <td>90</td>\n",
       "      <td>10000</td>\n",
       "      <td>11.40</td>\n",
       "      <td>81</td>\n",
       "      <td>15.26</td>\n",
       "      <td>[{'id': 500, 'main': 'Rain', 'description': 'l...</td>\n",
       "      <td>0.77</td>\n",
       "      <td>{'1h': 0.18}</td>\n",
       "    </tr>\n",
       "    <tr>\n",
       "      <th>2</th>\n",
       "      <td>1633597200</td>\n",
       "      <td>29.29</td>\n",
       "      <td>34.87</td>\n",
       "      <td>1003</td>\n",
       "      <td>77</td>\n",
       "      <td>24.84</td>\n",
       "      <td>0.63</td>\n",
       "      <td>92</td>\n",
       "      <td>10000</td>\n",
       "      <td>11.38</td>\n",
       "      <td>80</td>\n",
       "      <td>15.43</td>\n",
       "      <td>[{'id': 804, 'main': 'Clouds', 'description': ...</td>\n",
       "      <td>0.77</td>\n",
       "      <td>NaN</td>\n",
       "    </tr>\n",
       "    <tr>\n",
       "      <th>3</th>\n",
       "      <td>1633600800</td>\n",
       "      <td>28.51</td>\n",
       "      <td>33.41</td>\n",
       "      <td>1004</td>\n",
       "      <td>80</td>\n",
       "      <td>24.72</td>\n",
       "      <td>0.00</td>\n",
       "      <td>94</td>\n",
       "      <td>10000</td>\n",
       "      <td>11.65</td>\n",
       "      <td>82</td>\n",
       "      <td>15.62</td>\n",
       "      <td>[{'id': 500, 'main': 'Rain', 'description': 'l...</td>\n",
       "      <td>0.77</td>\n",
       "      <td>{'1h': 0.99}</td>\n",
       "    </tr>\n",
       "    <tr>\n",
       "      <th>4</th>\n",
       "      <td>1633604400</td>\n",
       "      <td>27.72</td>\n",
       "      <td>31.69</td>\n",
       "      <td>1005</td>\n",
       "      <td>82</td>\n",
       "      <td>24.36</td>\n",
       "      <td>0.00</td>\n",
       "      <td>96</td>\n",
       "      <td>10000</td>\n",
       "      <td>12.04</td>\n",
       "      <td>83</td>\n",
       "      <td>15.41</td>\n",
       "      <td>[{'id': 500, 'main': 'Rain', 'description': 'l...</td>\n",
       "      <td>0.77</td>\n",
       "      <td>{'1h': 1}</td>\n",
       "    </tr>\n",
       "  </tbody>\n",
       "</table>\n",
       "</div>"
      ],
      "text/plain": [
       "           dt   temp  feels_like  pressure  humidity  dew_point   uvi  clouds  \\\n",
       "0  1633590000  30.57       37.31      1003        73      25.18  4.37      89   \n",
       "1  1633593600  29.99       36.27      1003        75      25.07  2.08      90   \n",
       "2  1633597200  29.29       34.87      1003        77      24.84  0.63      92   \n",
       "3  1633600800  28.51       33.41      1004        80      24.72  0.00      94   \n",
       "4  1633604400  27.72       31.69      1005        82      24.36  0.00      96   \n",
       "\n",
       "   visibility  wind_speed  wind_deg  wind_gust  \\\n",
       "0       10000       11.00        82      14.63   \n",
       "1       10000       11.40        81      15.26   \n",
       "2       10000       11.38        80      15.43   \n",
       "3       10000       11.65        82      15.62   \n",
       "4       10000       12.04        83      15.41   \n",
       "\n",
       "                                             weather   pop          rain  \n",
       "0  [{'id': 500, 'main': 'Rain', 'description': 'l...  0.77  {'1h': 0.61}  \n",
       "1  [{'id': 500, 'main': 'Rain', 'description': 'l...  0.77  {'1h': 0.18}  \n",
       "2  [{'id': 804, 'main': 'Clouds', 'description': ...  0.77           NaN  \n",
       "3  [{'id': 500, 'main': 'Rain', 'description': 'l...  0.77  {'1h': 0.99}  \n",
       "4  [{'id': 500, 'main': 'Rain', 'description': 'l...  0.77     {'1h': 1}  "
      ]
     },
     "execution_count": 10,
     "metadata": {},
     "output_type": "execute_result"
    }
   ],
   "source": [
    "df_hourly.head()"
   ]
  },
  {
   "cell_type": "code",
   "execution_count": null,
   "metadata": {},
   "outputs": [],
   "source": []
  }
 ],
 "metadata": {
  "interpreter": {
   "hash": "c1b4cfe941b6d2466ad1fb5979e97da9cda8801728c8091b097ab734208fc00c"
  },
  "kernelspec": {
   "display_name": "Python 3.8.3 64-bit ('base': conda)",
   "name": "python3"
  },
  "language_info": {
   "codemirror_mode": {
    "name": "ipython",
    "version": 3
   },
   "file_extension": ".py",
   "mimetype": "text/x-python",
   "name": "python",
   "nbconvert_exporter": "python",
   "pygments_lexer": "ipython3",
   "version": "3.8.12"
  }
 },
 "nbformat": 4,
 "nbformat_minor": 2
}
