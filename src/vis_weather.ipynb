{
 "cells": [
  {
   "cell_type": "code",
   "execution_count": 1,
   "metadata": {
    "execution": {
     "iopub.execute_input": "2021-10-21T14:11:32.563869Z",
     "iopub.status.busy": "2021-10-21T14:11:32.563008Z",
     "iopub.status.idle": "2021-10-21T14:11:36.117468Z",
     "shell.execute_reply": "2021-10-21T14:11:36.116524Z"
    }
   },
   "outputs": [],
   "source": [
    "import json, yaml, requests\r\n",
    "from datetime import datetime\r\n",
    "from dateutil import tz\r\n",
    "import pandas as pd\r\n",
    "from PIL import Image\r\n",
    "from io import BytesIO\r\n",
    "import matplotlib.pyplot as plt\r\n",
    "import seaborn\r\n",
    "\r\n",
    "CONFIG_PATH = \"../config/config.yaml\""
   ]
  },
  {
   "cell_type": "code",
   "execution_count": 2,
   "metadata": {
    "execution": {
     "iopub.execute_input": "2021-10-21T14:11:36.123760Z",
     "iopub.status.busy": "2021-10-21T14:11:36.122473Z",
     "iopub.status.idle": "2021-10-21T14:11:36.128633Z",
     "shell.execute_reply": "2021-10-21T14:11:36.128176Z"
    }
   },
   "outputs": [],
   "source": [
    "with open('../newest_ts', 'r') as f:\r\n",
    "    newest_ts = f.read()\r\n",
    "\r\n",
    "data_path = f\"../data/data_{newest_ts}.json\"\r\n",
    "with open(data_path, 'r') as f:\r\n",
    "    data = json.load(f)\r\n",
    "\r\n",
    "with open(CONFIG_PATH, \"r\") as stream:\r\n",
    "    config = yaml.safe_load(stream)\r\n",
    "\r\n",
    "TIME_ZONE = config['time_zone']\r\n",
    "DATETIME_FORMAT = config['dt_format']"
   ]
  },
  {
   "cell_type": "code",
   "execution_count": 3,
   "metadata": {
    "execution": {
     "iopub.execute_input": "2021-10-21T14:11:36.133802Z",
     "iopub.status.busy": "2021-10-21T14:11:36.133145Z",
     "iopub.status.idle": "2021-10-21T14:11:36.147881Z",
     "shell.execute_reply": "2021-10-21T14:11:36.148344Z"
    }
   },
   "outputs": [
    {
     "name": "stdout",
     "output_type": "stream",
     "text": [
      "Recent query happens at 2021-10-21 22:11:28 (CST).\n"
     ]
    }
   ],
   "source": [
    "def ts2dt(ts, format=DATETIME_FORMAT):\r\n",
    "    dt = (datetime.utcfromtimestamp(int(ts))\r\n",
    "                    .replace(tzinfo=tz.tzutc())\r\n",
    "                    # .astimezone(tz.tzlocal())\r\n",
    "                    .astimezone(tz.gettz(TIME_ZONE)))\r\n",
    "    return dt.strftime(format), dt\r\n",
    "\r\n",
    "_, newest_dt = ts2dt(newest_ts)\r\n",
    "print(f\"Recent query happens at {newest_dt.strftime(DATETIME_FORMAT)} ({newest_dt.tzname()}).\")"
   ]
  },
  {
   "cell_type": "code",
   "execution_count": 4,
   "metadata": {
    "execution": {
     "iopub.execute_input": "2021-10-21T14:11:36.155403Z",
     "iopub.status.busy": "2021-10-21T14:11:36.153850Z",
     "iopub.status.idle": "2021-10-21T14:11:36.156034Z",
     "shell.execute_reply": "2021-10-21T14:11:36.156499Z"
    }
   },
   "outputs": [],
   "source": [
    "def degrees_to_cardinal(d):\r\n",
    "  dirs = ['N', 'NNE', 'NE', 'ENE', 'E', 'ESE', 'SE', 'SSE', 'S', 'SSW', 'SW', 'WSW', 'W', 'WNW', 'NW', 'NNW']\r\n",
    "  ix = int(round(d / (360. / len(dirs))))\r\n",
    "  return dirs[ix % len(dirs)]"
   ]
  },
  {
   "cell_type": "code",
   "execution_count": 5,
   "metadata": {
    "execution": {
     "iopub.execute_input": "2021-10-21T14:11:36.161881Z",
     "iopub.status.busy": "2021-10-21T14:11:36.160224Z",
     "iopub.status.idle": "2021-10-21T14:11:36.162686Z",
     "shell.execute_reply": "2021-10-21T14:11:36.163222Z"
    }
   },
   "outputs": [],
   "source": [
    "# data.keys()"
   ]
  },
  {
   "cell_type": "code",
   "execution_count": 6,
   "metadata": {
    "execution": {
     "iopub.execute_input": "2021-10-21T14:11:36.168175Z",
     "iopub.status.busy": "2021-10-21T14:11:36.166738Z",
     "iopub.status.idle": "2021-10-21T14:11:36.168873Z",
     "shell.execute_reply": "2021-10-21T14:11:36.169348Z"
    }
   },
   "outputs": [],
   "source": [
    "# data['current']"
   ]
  },
  {
   "cell_type": "code",
   "execution_count": 7,
   "metadata": {
    "execution": {
     "iopub.execute_input": "2021-10-21T14:11:36.191490Z",
     "iopub.status.busy": "2021-10-21T14:11:36.190909Z",
     "iopub.status.idle": "2021-10-21T14:11:36.604724Z",
     "shell.execute_reply": "2021-10-21T14:11:36.605506Z"
    }
   },
   "outputs": [
    {
     "data": {
      "image/png": "[encoded data removed]",
      "text/plain": [
       "<Figure size 216x216 with 1 Axes>"
      ]
     },
     "metadata": {
      "needs_background": "light"
     },
     "output_type": "display_data"
    },
    {
     "name": "stdout",
     "output_type": "stream",
     "text": [
      "Today, sun rises at 06:21 and sets at 17:53.\n",
      "Currently, the weather is Clouds (overcast clouds).\n",
      "The temperature is 21.04°C and it feels like 21.24°C.\n",
      "The UV index is 0, humidity is 78%.\n",
      "The pressure is 1016 hPa, percentage of cloud cover is 99%\n",
      "The wind comes from S direction with a speed 0.45 m/s.\n"
     ]
    }
   ],
   "source": [
    "current = data['current']\r\n",
    "\r\n",
    "fig, ax = plt.subplots(figsize=(3, 3))\r\n",
    "icon = requests.get(f\"http://openweathermap.org/img/wn/{current['weather'][0]['icon']}@2x.png\")\r\n",
    "im = Image.open(BytesIO(icon.content))\r\n",
    "plt.imshow(im)\r\n",
    "ax.set_axis_off()\r\n",
    "plt.show()\r\n",
    "\r\n",
    "print(f\"Today, sun rises at {ts2dt(current['sunrise'], '%H:%M')[0]} \\\r\n",
    "and sets at {ts2dt(current['sunset'], '%H:%M')[0]}.\\n\\\r\n",
    "Currently, the weather is {current['weather'][0]['main']} ({current['weather'][0]['description']}).\\n\\\r\n",
    "The temperature is {current['temp']}°C and it feels like {current['feels_like']}°C.\\n\\\r\n",
    "The UV index is {current['uvi']}, humidity is {current['humidity']}%.\\n\\\r\n",
    "The pressure is {current['pressure']} hPa, percentage of cloud cover is {current['clouds']}%\\n\\\r\n",
    "The wind comes from {degrees_to_cardinal(current['wind_deg'])} direction with a speed {current['wind_speed']} m/s.\")"
   ]
  },
  {
   "cell_type": "code",
   "execution_count": 8,
   "metadata": {
    "execution": {
     "iopub.execute_input": "2021-10-21T14:11:36.609068Z",
     "iopub.status.busy": "2021-10-21T14:11:36.608540Z",
     "iopub.status.idle": "2021-10-21T14:11:36.616877Z",
     "shell.execute_reply": "2021-10-21T14:11:36.617685Z"
    }
   },
   "outputs": [],
   "source": [
    "df_hourly = pd.DataFrame(data['hourly'])\r\n",
    "df_daily = pd.DataFrame(data['daily'])"
   ]
  },
  {
   "cell_type": "code",
   "execution_count": 9,
   "metadata": {
    "execution": {
     "iopub.execute_input": "2021-10-21T14:11:36.621032Z",
     "iopub.status.busy": "2021-10-21T14:11:36.620400Z",
     "iopub.status.idle": "2021-10-21T14:11:36.972395Z",
     "shell.execute_reply": "2021-10-21T14:11:36.971750Z"
    }
   },
   "outputs": [
    {
     "data": {
      "image/png": "[encoded data removed]",
      "text/plain": [
       "<Figure size 864x432 with 1 Axes>"
      ]
     },
     "metadata": {
      "needs_background": "light"
     },
     "output_type": "display_data"
    }
   ],
   "source": [
    "fig, ax = plt.subplots(figsize=(12, 6))\r\n",
    "plt.plot(df_hourly.temp, '.-', label='Temperature')\r\n",
    "plt.plot(df_hourly.feels_like, '.-', label='Feels Like')\r\n",
    "ax.set(title='Temperature in future 48 hours', xlabel='Time', ylabel='Temperature')\r\n",
    "ax.set_xticks(list(range(0, len(df_hourly), 2)))\r\n",
    "ax.set_xticklabels([ts2dt(ts, '%m-%d %H:%M')[0] for i, ts in enumerate(df_hourly.dt) if i%2==0], \r\n",
    "                   rotation=45, ha=\"right\")\r\n",
    "ax.locator_params(nbins=15, axis='y')\r\n",
    "plt.legend()\r\n",
    "plt.show()"
   ]
  },
  {
   "cell_type": "code",
   "execution_count": 10,
   "metadata": {
    "execution": {
     "iopub.execute_input": "2021-10-21T14:11:36.984717Z",
     "iopub.status.busy": "2021-10-21T14:11:36.976876Z",
     "iopub.status.idle": "2021-10-21T14:11:36.996295Z",
     "shell.execute_reply": "2021-10-21T14:11:36.995864Z"
    }
   },
   "outputs": [
    {
     "data": {
      "text/html": [
       "<div>\n",
       "<style scoped>\n",
       "    .dataframe tbody tr th:only-of-type {\n",
       "        vertical-align: middle;\n",
       "    }\n",
       "\n",
       "    .dataframe tbody tr th {\n",
       "        vertical-align: top;\n",
       "    }\n",
       "\n",
       "    .dataframe thead th {\n",
       "        text-align: right;\n",
       "    }\n",
       "</style>\n",
       "<table border=\"1\" class=\"dataframe\">\n",
       "  <thead>\n",
       "    <tr style=\"text-align: right;\">\n",
       "      <th></th>\n",
       "      <th>dt</th>\n",
       "      <th>temp</th>\n",
       "      <th>feels_like</th>\n",
       "      <th>pressure</th>\n",
       "      <th>humidity</th>\n",
       "      <th>dew_point</th>\n",
       "      <th>uvi</th>\n",
       "      <th>clouds</th>\n",
       "      <th>visibility</th>\n",
       "      <th>wind_speed</th>\n",
       "      <th>wind_deg</th>\n",
       "      <th>wind_gust</th>\n",
       "      <th>weather</th>\n",
       "      <th>pop</th>\n",
       "    </tr>\n",
       "  </thead>\n",
       "  <tbody>\n",
       "    <tr>\n",
       "      <th>0</th>\n",
       "      <td>1634824800</td>\n",
       "      <td>21.04</td>\n",
       "      <td>21.24</td>\n",
       "      <td>1016</td>\n",
       "      <td>78</td>\n",
       "      <td>17.06</td>\n",
       "      <td>0.0</td>\n",
       "      <td>99</td>\n",
       "      <td>10000</td>\n",
       "      <td>5.35</td>\n",
       "      <td>9</td>\n",
       "      <td>8.41</td>\n",
       "      <td>[{'id': 804, 'main': 'Clouds', 'description': ...</td>\n",
       "      <td>0.0</td>\n",
       "    </tr>\n",
       "    <tr>\n",
       "      <th>1</th>\n",
       "      <td>1634828400</td>\n",
       "      <td>20.79</td>\n",
       "      <td>20.88</td>\n",
       "      <td>1016</td>\n",
       "      <td>75</td>\n",
       "      <td>16.20</td>\n",
       "      <td>0.0</td>\n",
       "      <td>99</td>\n",
       "      <td>10000</td>\n",
       "      <td>4.99</td>\n",
       "      <td>14</td>\n",
       "      <td>7.56</td>\n",
       "      <td>[{'id': 804, 'main': 'Clouds', 'description': ...</td>\n",
       "      <td>0.0</td>\n",
       "    </tr>\n",
       "    <tr>\n",
       "      <th>2</th>\n",
       "      <td>1634832000</td>\n",
       "      <td>20.37</td>\n",
       "      <td>20.37</td>\n",
       "      <td>1017</td>\n",
       "      <td>73</td>\n",
       "      <td>15.37</td>\n",
       "      <td>0.0</td>\n",
       "      <td>99</td>\n",
       "      <td>10000</td>\n",
       "      <td>4.16</td>\n",
       "      <td>9</td>\n",
       "      <td>5.74</td>\n",
       "      <td>[{'id': 804, 'main': 'Clouds', 'description': ...</td>\n",
       "      <td>0.0</td>\n",
       "    </tr>\n",
       "    <tr>\n",
       "      <th>3</th>\n",
       "      <td>1634835600</td>\n",
       "      <td>19.85</td>\n",
       "      <td>19.74</td>\n",
       "      <td>1017</td>\n",
       "      <td>71</td>\n",
       "      <td>14.44</td>\n",
       "      <td>0.0</td>\n",
       "      <td>99</td>\n",
       "      <td>10000</td>\n",
       "      <td>3.76</td>\n",
       "      <td>353</td>\n",
       "      <td>4.64</td>\n",
       "      <td>[{'id': 804, 'main': 'Clouds', 'description': ...</td>\n",
       "      <td>0.0</td>\n",
       "    </tr>\n",
       "    <tr>\n",
       "      <th>4</th>\n",
       "      <td>1634839200</td>\n",
       "      <td>19.30</td>\n",
       "      <td>19.09</td>\n",
       "      <td>1017</td>\n",
       "      <td>69</td>\n",
       "      <td>13.48</td>\n",
       "      <td>0.0</td>\n",
       "      <td>100</td>\n",
       "      <td>10000</td>\n",
       "      <td>3.49</td>\n",
       "      <td>351</td>\n",
       "      <td>4.11</td>\n",
       "      <td>[{'id': 804, 'main': 'Clouds', 'description': ...</td>\n",
       "      <td>0.0</td>\n",
       "    </tr>\n",
       "  </tbody>\n",
       "</table>\n",
       "</div>"
      ],
      "text/plain": [
       "           dt   temp  feels_like  pressure  humidity  dew_point  uvi  clouds  \\\n",
       "0  1634824800  21.04       21.24      1016        78      17.06  0.0      99   \n",
       "1  1634828400  20.79       20.88      1016        75      16.20  0.0      99   \n",
       "2  1634832000  20.37       20.37      1017        73      15.37  0.0      99   \n",
       "3  1634835600  19.85       19.74      1017        71      14.44  0.0      99   \n",
       "4  1634839200  19.30       19.09      1017        69      13.48  0.0     100   \n",
       "\n",
       "   visibility  wind_speed  wind_deg  wind_gust  \\\n",
       "0       10000        5.35         9       8.41   \n",
       "1       10000        4.99        14       7.56   \n",
       "2       10000        4.16         9       5.74   \n",
       "3       10000        3.76       353       4.64   \n",
       "4       10000        3.49       351       4.11   \n",
       "\n",
       "                                             weather  pop  \n",
       "0  [{'id': 804, 'main': 'Clouds', 'description': ...  0.0  \n",
       "1  [{'id': 804, 'main': 'Clouds', 'description': ...  0.0  \n",
       "2  [{'id': 804, 'main': 'Clouds', 'description': ...  0.0  \n",
       "3  [{'id': 804, 'main': 'Clouds', 'description': ...  0.0  \n",
       "4  [{'id': 804, 'main': 'Clouds', 'description': ...  0.0  "
      ]
     },
     "execution_count": 10,
     "metadata": {},
     "output_type": "execute_result"
    }
   ],
   "source": [
    "df_hourly.head()"
   ]
  },
  {
   "cell_type": "code",
   "execution_count": null,
   "metadata": {},
   "outputs": [],
   "source": []
  }
 ],
 "metadata": {
  "interpreter": {
   "hash": "c1b4cfe941b6d2466ad1fb5979e97da9cda8801728c8091b097ab734208fc00c"
  },
  "kernelspec": {
   "display_name": "Python 3.8.3 64-bit ('base': conda)",
   "name": "python3"
  },
  "language_info": {
   "codemirror_mode": {
    "name": "ipython",
    "version": 3
   },
   "file_extension": ".py",
   "mimetype": "text/x-python",
   "name": "python",
   "nbconvert_exporter": "python",
   "pygments_lexer": "ipython3",
   "version": "3.8.12"
  }
 },
 "nbformat": 4,
 "nbformat_minor": 2
}
