{
 "cells": [
  {
   "cell_type": "code",
   "execution_count": 1,
   "metadata": {
    "execution": {
     "iopub.execute_input": "2021-09-17T21:09:54.915895Z",
     "iopub.status.busy": "2021-09-17T21:09:54.915347Z",
     "iopub.status.idle": "2021-09-17T21:09:56.208086Z",
     "shell.execute_reply": "2021-09-17T21:09:56.207490Z"
    }
   },
   "outputs": [],
   "source": [
    "import json, yaml, requests\r\n",
    "from datetime import datetime\r\n",
    "from dateutil import tz\r\n",
    "import pandas as pd\r\n",
    "from PIL import Image\r\n",
    "from io import BytesIO\r\n",
    "import matplotlib.pyplot as plt\r\n",
    "import seaborn\r\n",
    "\r\n",
    "CONFIG_PATH = \"../config/config.yaml\""
   ]
  },
  {
   "cell_type": "code",
   "execution_count": 2,
   "metadata": {
    "execution": {
     "iopub.execute_input": "2021-09-17T21:09:56.215815Z",
     "iopub.status.busy": "2021-09-17T21:09:56.212869Z",
     "iopub.status.idle": "2021-09-17T21:09:56.218634Z",
     "shell.execute_reply": "2021-09-17T21:09:56.217982Z"
    }
   },
   "outputs": [],
   "source": [
    "with open('../newest_ts', 'r') as f:\r\n",
    "    newest_ts = f.read()\r\n",
    "\r\n",
    "data_path = f\"../data/data_{newest_ts}.json\"\r\n",
    "with open(data_path, 'r') as f:\r\n",
    "    data = json.load(f)\r\n",
    "\r\n",
    "with open(CONFIG_PATH, \"r\") as stream:\r\n",
    "    config = yaml.safe_load(stream)\r\n",
    "\r\n",
    "TIME_ZONE = config['time_zone']\r\n",
    "DATETIME_FORMAT = config['dt_format']"
   ]
  },
  {
   "cell_type": "code",
   "execution_count": 3,
   "metadata": {
    "execution": {
     "iopub.execute_input": "2021-09-17T21:09:56.224018Z",
     "iopub.status.busy": "2021-09-17T21:09:56.222556Z",
     "iopub.status.idle": "2021-09-17T21:09:56.226595Z",
     "shell.execute_reply": "2021-09-17T21:09:56.226976Z"
    }
   },
   "outputs": [
    {
     "name": "stdout",
     "output_type": "stream",
     "text": [
      "Recent query happens at 2021-09-18 05:09:51 (CST).\n"
     ]
    }
   ],
   "source": [
    "def ts2dt(ts, format=DATETIME_FORMAT):\r\n",
    "    dt = (datetime.utcfromtimestamp(int(ts))\r\n",
    "                    .replace(tzinfo=tz.tzutc())\r\n",
    "                    # .astimezone(tz.tzlocal())\r\n",
    "                    .astimezone(tz.gettz(TIME_ZONE)))\r\n",
    "    return dt.strftime(format), dt\r\n",
    "\r\n",
    "_, newest_dt = ts2dt(newest_ts)\r\n",
    "print(f\"Recent query happens at {newest_dt.strftime(DATETIME_FORMAT)} ({newest_dt.tzname()}).\")"
   ]
  },
  {
   "cell_type": "code",
   "execution_count": 4,
   "metadata": {
    "execution": {
     "iopub.execute_input": "2021-09-17T21:09:56.232039Z",
     "iopub.status.busy": "2021-09-17T21:09:56.231004Z",
     "iopub.status.idle": "2021-09-17T21:09:56.232658Z",
     "shell.execute_reply": "2021-09-17T21:09:56.233029Z"
    }
   },
   "outputs": [],
   "source": [
    "def degrees_to_cardinal(d):\r\n",
    "  dirs = ['N', 'NNE', 'NE', 'ENE', 'E', 'ESE', 'SE', 'SSE', 'S', 'SSW', 'SW', 'WSW', 'W', 'WNW', 'NW', 'NNW']\r\n",
    "  ix = int(round(d / (360. / len(dirs))))\r\n",
    "  return dirs[ix % len(dirs)]"
   ]
  },
  {
   "cell_type": "code",
   "execution_count": 5,
   "metadata": {
    "execution": {
     "iopub.execute_input": "2021-09-17T21:09:56.236571Z",
     "iopub.status.busy": "2021-09-17T21:09:56.236112Z",
     "iopub.status.idle": "2021-09-17T21:09:56.238186Z",
     "shell.execute_reply": "2021-09-17T21:09:56.237755Z"
    }
   },
   "outputs": [],
   "source": [
    "# data.keys()"
   ]
  },
  {
   "cell_type": "code",
   "execution_count": 6,
   "metadata": {
    "execution": {
     "iopub.execute_input": "2021-09-17T21:09:56.241922Z",
     "iopub.status.busy": "2021-09-17T21:09:56.240933Z",
     "iopub.status.idle": "2021-09-17T21:09:56.242462Z",
     "shell.execute_reply": "2021-09-17T21:09:56.242833Z"
    }
   },
   "outputs": [],
   "source": [
    "# data['current']"
   ]
  },
  {
   "cell_type": "code",
   "execution_count": 7,
   "metadata": {
    "execution": {
     "iopub.execute_input": "2021-09-17T21:09:56.259783Z",
     "iopub.status.busy": "2021-09-17T21:09:56.259283Z",
     "iopub.status.idle": "2021-09-17T21:09:56.659407Z",
     "shell.execute_reply": "2021-09-17T21:09:56.659862Z"
    }
   },
   "outputs": [
    {
     "data": {
      "image/png": "[encoded data removed]",
      "text/plain": [
       "<Figure size 216x216 with 1 Axes>"
      ]
     },
     "metadata": {
      "needs_background": "light"
     },
     "output_type": "display_data"
    },
    {
     "name": "stdout",
     "output_type": "stream",
     "text": [
      "Today, sun rises at 06:10 and sets at 18:24.\n",
      "Currently, the weather is Clouds (few clouds).\n",
      "The temperature is 29.34°C and it feels like 36.34°C.\n",
      "The UV index is 0, humidity is 83%.\n",
      "The pressure is 1010 hPa, percentage of cloud cover is 13%\n",
      "The wind comes from E direction with a speed 3.52 m/s.\n"
     ]
    }
   ],
   "source": [
    "current = data['current']\r\n",
    "\r\n",
    "fig, ax = plt.subplots(figsize=(3, 3))\r\n",
    "icon = requests.get(f\"http://openweathermap.org/img/wn/{current['weather'][0]['icon']}@2x.png\")\r\n",
    "im = Image.open(BytesIO(icon.content))\r\n",
    "plt.imshow(im)\r\n",
    "ax.set_axis_off()\r\n",
    "plt.show()\r\n",
    "\r\n",
    "print(f\"Today, sun rises at {ts2dt(current['sunrise'], '%H:%M')[0]} \\\r\n",
    "and sets at {ts2dt(current['sunset'], '%H:%M')[0]}.\\n\\\r\n",
    "Currently, the weather is {current['weather'][0]['main']} ({current['weather'][0]['description']}).\\n\\\r\n",
    "The temperature is {current['temp']}°C and it feels like {current['feels_like']}°C.\\n\\\r\n",
    "The UV index is {current['uvi']}, humidity is {current['humidity']}%.\\n\\\r\n",
    "The pressure is {current['pressure']} hPa, percentage of cloud cover is {current['clouds']}%\\n\\\r\n",
    "The wind comes from {degrees_to_cardinal(current['wind_deg'])} direction with a speed {current['wind_speed']} m/s.\")"
   ]
  },
  {
   "cell_type": "code",
   "execution_count": 8,
   "metadata": {
    "execution": {
     "iopub.execute_input": "2021-09-17T21:09:56.662540Z",
     "iopub.status.busy": "2021-09-17T21:09:56.662047Z",
     "iopub.status.idle": "2021-09-17T21:09:56.667455Z",
     "shell.execute_reply": "2021-09-17T21:09:56.667897Z"
    }
   },
   "outputs": [],
   "source": [
    "df_hourly = pd.DataFrame(data['hourly'])\r\n",
    "df_daily = pd.DataFrame(data['daily'])"
   ]
  },
  {
   "cell_type": "code",
   "execution_count": 9,
   "metadata": {
    "execution": {
     "iopub.execute_input": "2021-09-17T21:09:56.670352Z",
     "iopub.status.busy": "2021-09-17T21:09:56.669747Z",
     "iopub.status.idle": "2021-09-17T21:09:56.910598Z",
     "shell.execute_reply": "2021-09-17T21:09:56.910991Z"
    }
   },
   "outputs": [
    {
     "data": {
      "image/png": "[encoded data removed]",
      "text/plain": [
       "<Figure size 864x432 with 1 Axes>"
      ]
     },
     "metadata": {
      "needs_background": "light"
     },
     "output_type": "display_data"
    }
   ],
   "source": [
    "fig, ax = plt.subplots(figsize=(12, 6))\r\n",
    "plt.plot(df_hourly.temp, '.-', label='Temperature')\r\n",
    "plt.plot(df_hourly.feels_like, '.-', label='Feels Like')\r\n",
    "ax.set(title='Temperature in future 48 hours', xlabel='Time', ylabel='Temperature')\r\n",
    "ax.set_xticks(list(range(0, len(df_hourly), 2)))\r\n",
    "ax.set_xticklabels([ts2dt(ts, '%m-%d %H:%M')[0] for i, ts in enumerate(df_hourly.dt) if i%2==0], \r\n",
    "                   rotation=45, ha=\"right\")\r\n",
    "ax.locator_params(nbins=15, axis='y')\r\n",
    "plt.legend()\r\n",
    "plt.show()"
   ]
  },
  {
   "cell_type": "code",
   "execution_count": 10,
   "metadata": {
    "execution": {
     "iopub.execute_input": "2021-09-17T21:09:56.922901Z",
     "iopub.status.busy": "2021-09-17T21:09:56.915225Z",
     "iopub.status.idle": "2021-09-17T21:09:56.933899Z",
     "shell.execute_reply": "2021-09-17T21:09:56.934307Z"
    }
   },
   "outputs": [
    {
     "data": {
      "text/html": [
       "<div>\n",
       "<style scoped>\n",
       "    .dataframe tbody tr th:only-of-type {\n",
       "        vertical-align: middle;\n",
       "    }\n",
       "\n",
       "    .dataframe tbody tr th {\n",
       "        vertical-align: top;\n",
       "    }\n",
       "\n",
       "    .dataframe thead th {\n",
       "        text-align: right;\n",
       "    }\n",
       "</style>\n",
       "<table border=\"1\" class=\"dataframe\">\n",
       "  <thead>\n",
       "    <tr style=\"text-align: right;\">\n",
       "      <th></th>\n",
       "      <th>dt</th>\n",
       "      <th>temp</th>\n",
       "      <th>feels_like</th>\n",
       "      <th>pressure</th>\n",
       "      <th>humidity</th>\n",
       "      <th>dew_point</th>\n",
       "      <th>uvi</th>\n",
       "      <th>clouds</th>\n",
       "      <th>visibility</th>\n",
       "      <th>wind_speed</th>\n",
       "      <th>wind_deg</th>\n",
       "      <th>wind_gust</th>\n",
       "      <th>weather</th>\n",
       "      <th>pop</th>\n",
       "      <th>rain</th>\n",
       "    </tr>\n",
       "  </thead>\n",
       "  <tbody>\n",
       "    <tr>\n",
       "      <th>0</th>\n",
       "      <td>1631912400</td>\n",
       "      <td>29.34</td>\n",
       "      <td>36.34</td>\n",
       "      <td>1010</td>\n",
       "      <td>83</td>\n",
       "      <td>26.15</td>\n",
       "      <td>0.00</td>\n",
       "      <td>13</td>\n",
       "      <td>10000</td>\n",
       "      <td>3.52</td>\n",
       "      <td>100</td>\n",
       "      <td>5.01</td>\n",
       "      <td>[{'id': 500, 'main': 'Rain', 'description': 'l...</td>\n",
       "      <td>0.64</td>\n",
       "      <td>{'1h': 0.87}</td>\n",
       "    </tr>\n",
       "    <tr>\n",
       "      <th>1</th>\n",
       "      <td>1631916000</td>\n",
       "      <td>28.96</td>\n",
       "      <td>35.51</td>\n",
       "      <td>1010</td>\n",
       "      <td>84</td>\n",
       "      <td>25.98</td>\n",
       "      <td>0.00</td>\n",
       "      <td>15</td>\n",
       "      <td>10000</td>\n",
       "      <td>3.11</td>\n",
       "      <td>93</td>\n",
       "      <td>4.41</td>\n",
       "      <td>[{'id': 801, 'main': 'Clouds', 'description': ...</td>\n",
       "      <td>0.68</td>\n",
       "      <td>NaN</td>\n",
       "    </tr>\n",
       "    <tr>\n",
       "      <th>2</th>\n",
       "      <td>1631919600</td>\n",
       "      <td>28.63</td>\n",
       "      <td>34.32</td>\n",
       "      <td>1010</td>\n",
       "      <td>83</td>\n",
       "      <td>25.46</td>\n",
       "      <td>0.22</td>\n",
       "      <td>18</td>\n",
       "      <td>10000</td>\n",
       "      <td>3.45</td>\n",
       "      <td>83</td>\n",
       "      <td>4.83</td>\n",
       "      <td>[{'id': 801, 'main': 'Clouds', 'description': ...</td>\n",
       "      <td>0.80</td>\n",
       "      <td>NaN</td>\n",
       "    </tr>\n",
       "    <tr>\n",
       "      <th>3</th>\n",
       "      <td>1631923200</td>\n",
       "      <td>28.72</td>\n",
       "      <td>33.97</td>\n",
       "      <td>1011</td>\n",
       "      <td>80</td>\n",
       "      <td>24.92</td>\n",
       "      <td>1.19</td>\n",
       "      <td>23</td>\n",
       "      <td>10000</td>\n",
       "      <td>4.30</td>\n",
       "      <td>83</td>\n",
       "      <td>5.28</td>\n",
       "      <td>[{'id': 500, 'main': 'Rain', 'description': 'l...</td>\n",
       "      <td>0.92</td>\n",
       "      <td>{'1h': 0.52}</td>\n",
       "    </tr>\n",
       "    <tr>\n",
       "      <th>4</th>\n",
       "      <td>1631926800</td>\n",
       "      <td>28.87</td>\n",
       "      <td>33.77</td>\n",
       "      <td>1012</td>\n",
       "      <td>77</td>\n",
       "      <td>24.43</td>\n",
       "      <td>3.17</td>\n",
       "      <td>48</td>\n",
       "      <td>10000</td>\n",
       "      <td>4.39</td>\n",
       "      <td>88</td>\n",
       "      <td>5.46</td>\n",
       "      <td>[{'id': 500, 'main': 'Rain', 'description': 'l...</td>\n",
       "      <td>0.86</td>\n",
       "      <td>{'1h': 0.23}</td>\n",
       "    </tr>\n",
       "  </tbody>\n",
       "</table>\n",
       "</div>"
      ],
      "text/plain": [
       "           dt   temp  feels_like  pressure  humidity  dew_point   uvi  clouds  \\\n",
       "0  1631912400  29.34       36.34      1010        83      26.15  0.00      13   \n",
       "1  1631916000  28.96       35.51      1010        84      25.98  0.00      15   \n",
       "2  1631919600  28.63       34.32      1010        83      25.46  0.22      18   \n",
       "3  1631923200  28.72       33.97      1011        80      24.92  1.19      23   \n",
       "4  1631926800  28.87       33.77      1012        77      24.43  3.17      48   \n",
       "\n",
       "   visibility  wind_speed  wind_deg  wind_gust  \\\n",
       "0       10000        3.52       100       5.01   \n",
       "1       10000        3.11        93       4.41   \n",
       "2       10000        3.45        83       4.83   \n",
       "3       10000        4.30        83       5.28   \n",
       "4       10000        4.39        88       5.46   \n",
       "\n",
       "                                             weather   pop          rain  \n",
       "0  [{'id': 500, 'main': 'Rain', 'description': 'l...  0.64  {'1h': 0.87}  \n",
       "1  [{'id': 801, 'main': 'Clouds', 'description': ...  0.68           NaN  \n",
       "2  [{'id': 801, 'main': 'Clouds', 'description': ...  0.80           NaN  \n",
       "3  [{'id': 500, 'main': 'Rain', 'description': 'l...  0.92  {'1h': 0.52}  \n",
       "4  [{'id': 500, 'main': 'Rain', 'description': 'l...  0.86  {'1h': 0.23}  "
      ]
     },
     "execution_count": 10,
     "metadata": {},
     "output_type": "execute_result"
    }
   ],
   "source": [
    "df_hourly.head()"
   ]
  },
  {
   "cell_type": "code",
   "execution_count": null,
   "metadata": {},
   "outputs": [],
   "source": []
  }
 ],
 "metadata": {
  "interpreter": {
   "hash": "c1b4cfe941b6d2466ad1fb5979e97da9cda8801728c8091b097ab734208fc00c"
  },
  "kernelspec": {
   "display_name": "Python 3.8.3 64-bit ('base': conda)",
   "name": "python3"
  },
  "language_info": {
   "codemirror_mode": {
    "name": "ipython",
    "version": 3
   },
   "file_extension": ".py",
   "mimetype": "text/x-python",
   "name": "python",
   "nbconvert_exporter": "python",
   "pygments_lexer": "ipython3",
   "version": "3.8.11"
  }
 },
 "nbformat": 4,
 "nbformat_minor": 2
}
