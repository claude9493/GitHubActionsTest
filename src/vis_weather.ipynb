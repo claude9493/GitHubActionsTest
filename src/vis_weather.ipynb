{
 "cells": [
  {
   "cell_type": "code",
   "execution_count": 1,
   "metadata": {
    "execution": {
     "iopub.execute_input": "2021-09-17T04:14:29.523292Z",
     "iopub.status.busy": "2021-09-17T04:14:29.522591Z",
     "iopub.status.idle": "2021-09-17T04:14:31.273023Z",
     "shell.execute_reply": "2021-09-17T04:14:31.273581Z"
    }
   },
   "outputs": [],
   "source": [
    "import json, yaml, requests\r\n",
    "from datetime import datetime\r\n",
    "from dateutil import tz\r\n",
    "import pandas as pd\r\n",
    "from PIL import Image\r\n",
    "from io import BytesIO\r\n",
    "import matplotlib.pyplot as plt\r\n",
    "import seaborn\r\n",
    "\r\n",
    "CONFIG_PATH = \"../config/config.yaml\""
   ]
  },
  {
   "cell_type": "code",
   "execution_count": 2,
   "metadata": {
    "execution": {
     "iopub.execute_input": "2021-09-17T04:14:31.282019Z",
     "iopub.status.busy": "2021-09-17T04:14:31.278810Z",
     "iopub.status.idle": "2021-09-17T04:14:31.284659Z",
     "shell.execute_reply": "2021-09-17T04:14:31.285171Z"
    }
   },
   "outputs": [],
   "source": [
    "with open('../newest_ts', 'r') as f:\r\n",
    "    newest_ts = f.read()\r\n",
    "\r\n",
    "data_path = f\"../data/data_{newest_ts}.json\"\r\n",
    "with open(data_path, 'r') as f:\r\n",
    "    data = json.load(f)\r\n",
    "\r\n",
    "with open(CONFIG_PATH, \"r\") as stream:\r\n",
    "    config = yaml.safe_load(stream)\r\n",
    "\r\n",
    "TIME_ZONE = config['time_zone']\r\n",
    "DATETIME_FORMAT = config['dt_format']"
   ]
  },
  {
   "cell_type": "code",
   "execution_count": 3,
   "metadata": {
    "execution": {
     "iopub.execute_input": "2021-09-17T04:14:31.289783Z",
     "iopub.status.busy": "2021-09-17T04:14:31.289240Z",
     "iopub.status.idle": "2021-09-17T04:14:31.299847Z",
     "shell.execute_reply": "2021-09-17T04:14:31.300381Z"
    }
   },
   "outputs": [
    {
     "name": "stdout",
     "output_type": "stream",
     "text": [
      "Recent query happens at 2021-09-17 12:14:25 (CST).\n"
     ]
    }
   ],
   "source": [
    "def ts2dt(ts, format=DATETIME_FORMAT):\r\n",
    "    dt = (datetime.utcfromtimestamp(int(ts))\r\n",
    "                    .replace(tzinfo=tz.tzutc())\r\n",
    "                    # .astimezone(tz.tzlocal())\r\n",
    "                    .astimezone(tz.gettz(TIME_ZONE)))\r\n",
    "    return dt.strftime(format), dt\r\n",
    "\r\n",
    "_, newest_dt = ts2dt(newest_ts)\r\n",
    "print(f\"Recent query happens at {newest_dt.strftime(DATETIME_FORMAT)} ({newest_dt.tzname()}).\")"
   ]
  },
  {
   "cell_type": "code",
   "execution_count": 4,
   "metadata": {
    "execution": {
     "iopub.execute_input": "2021-09-17T04:14:31.306283Z",
     "iopub.status.busy": "2021-09-17T04:14:31.304891Z",
     "iopub.status.idle": "2021-09-17T04:14:31.306904Z",
     "shell.execute_reply": "2021-09-17T04:14:31.307457Z"
    }
   },
   "outputs": [],
   "source": [
    "def degrees_to_cardinal(d):\r\n",
    "  dirs = ['N', 'NNE', 'NE', 'ENE', 'E', 'ESE', 'SE', 'SSE', 'S', 'SSW', 'SW', 'WSW', 'W', 'WNW', 'NW', 'NNW']\r\n",
    "  ix = int(round(d / (360. / len(dirs))))\r\n",
    "  return dirs[ix % len(dirs)]"
   ]
  },
  {
   "cell_type": "code",
   "execution_count": 5,
   "metadata": {
    "execution": {
     "iopub.execute_input": "2021-09-17T04:14:31.313317Z",
     "iopub.status.busy": "2021-09-17T04:14:31.311554Z",
     "iopub.status.idle": "2021-09-17T04:14:31.315737Z",
     "shell.execute_reply": "2021-09-17T04:14:31.315085Z"
    }
   },
   "outputs": [],
   "source": [
    "# data.keys()"
   ]
  },
  {
   "cell_type": "code",
   "execution_count": 6,
   "metadata": {
    "execution": {
     "iopub.execute_input": "2021-09-17T04:14:31.321347Z",
     "iopub.status.busy": "2021-09-17T04:14:31.319707Z",
     "iopub.status.idle": "2021-09-17T04:14:31.321961Z",
     "shell.execute_reply": "2021-09-17T04:14:31.322405Z"
    }
   },
   "outputs": [],
   "source": [
    "# data['current']"
   ]
  },
  {
   "cell_type": "code",
   "execution_count": 7,
   "metadata": {
    "execution": {
     "iopub.execute_input": "2021-09-17T04:14:31.345698Z",
     "iopub.status.busy": "2021-09-17T04:14:31.345146Z",
     "iopub.status.idle": "2021-09-17T04:14:32.018726Z",
     "shell.execute_reply": "2021-09-17T04:14:32.019487Z"
    }
   },
   "outputs": [
    {
     "data": {
      "image/png": "[encoded data removed]",
      "text/plain": [
       "<Figure size 216x216 with 1 Axes>"
      ]
     },
     "metadata": {
      "needs_background": "light"
     },
     "output_type": "display_data"
    },
    {
     "name": "stdout",
     "output_type": "stream",
     "text": [
      "Today, sun rises at 06:10 and sets at 18:25.\n",
      "Currently, the weather is Clouds (broken clouds).\n",
      "The temperature is 32.33°C and it feels like 39.33°C.\n",
      "The UV index is 10.55, humidity is 72%.\n",
      "The pressure is 1010 hPa, percentage of cloud cover is 57%\n",
      "The wind comes from E direction with a speed 1.73 m/s.\n"
     ]
    }
   ],
   "source": [
    "current = data['current']\r\n",
    "\r\n",
    "fig, ax = plt.subplots(figsize=(3, 3))\r\n",
    "icon = requests.get(f\"http://openweathermap.org/img/wn/{current['weather'][0]['icon']}@2x.png\")\r\n",
    "im = Image.open(BytesIO(icon.content))\r\n",
    "plt.imshow(im)\r\n",
    "ax.set_axis_off()\r\n",
    "plt.show()\r\n",
    "\r\n",
    "print(f\"Today, sun rises at {ts2dt(current['sunrise'], '%H:%M')[0]} \\\r\n",
    "and sets at {ts2dt(current['sunset'], '%H:%M')[0]}.\\n\\\r\n",
    "Currently, the weather is {current['weather'][0]['main']} ({current['weather'][0]['description']}).\\n\\\r\n",
    "The temperature is {current['temp']}°C and it feels like {current['feels_like']}°C.\\n\\\r\n",
    "The UV index is {current['uvi']}, humidity is {current['humidity']}%.\\n\\\r\n",
    "The pressure is {current['pressure']} hPa, percentage of cloud cover is {current['clouds']}%\\n\\\r\n",
    "The wind comes from {degrees_to_cardinal(current['wind_deg'])} direction with a speed {current['wind_speed']} m/s.\")"
   ]
  },
  {
   "cell_type": "code",
   "execution_count": 8,
   "metadata": {
    "execution": {
     "iopub.execute_input": "2021-09-17T04:14:32.024068Z",
     "iopub.status.busy": "2021-09-17T04:14:32.023017Z",
     "iopub.status.idle": "2021-09-17T04:14:32.030647Z",
     "shell.execute_reply": "2021-09-17T04:14:32.031387Z"
    }
   },
   "outputs": [],
   "source": [
    "df_hourly = pd.DataFrame(data['hourly'])\r\n",
    "df_daily = pd.DataFrame(data['daily'])"
   ]
  },
  {
   "cell_type": "code",
   "execution_count": 9,
   "metadata": {
    "execution": {
     "iopub.execute_input": "2021-09-17T04:14:32.035051Z",
     "iopub.status.busy": "2021-09-17T04:14:32.033967Z",
     "iopub.status.idle": "2021-09-17T04:14:32.399515Z",
     "shell.execute_reply": "2021-09-17T04:14:32.398991Z"
    }
   },
   "outputs": [
    {
     "data": {
      "image/png": "[encoded data removed]",
      "text/plain": [
       "<Figure size 864x432 with 1 Axes>"
      ]
     },
     "metadata": {
      "needs_background": "light"
     },
     "output_type": "display_data"
    }
   ],
   "source": [
    "fig, ax = plt.subplots(figsize=(12, 6))\r\n",
    "plt.plot(df_hourly.temp, '.-', label='Temperature')\r\n",
    "plt.plot(df_hourly.feels_like, '.-', label='Feels Like')\r\n",
    "ax.set(title='Temperature in future 48 hours', xlabel='Time', ylabel='Temperature')\r\n",
    "ax.set_xticks(list(range(0, len(df_hourly), 2)))\r\n",
    "ax.set_xticklabels([ts2dt(ts, '%m-%d %H:%M')[0] for i, ts in enumerate(df_hourly.dt) if i%2==0], \r\n",
    "                   rotation=45, ha=\"right\")\r\n",
    "ax.locator_params(nbins=15, axis='y')\r\n",
    "plt.legend()\r\n",
    "plt.show()"
   ]
  },
  {
   "cell_type": "code",
   "execution_count": 10,
   "metadata": {
    "execution": {
     "iopub.execute_input": "2021-09-17T04:14:32.413374Z",
     "iopub.status.busy": "2021-09-17T04:14:32.403647Z",
     "iopub.status.idle": "2021-09-17T04:14:32.426650Z",
     "shell.execute_reply": "2021-09-17T04:14:32.426144Z"
    }
   },
   "outputs": [
    {
     "data": {
      "text/html": [
       "<div>\n",
       "<style scoped>\n",
       "    .dataframe tbody tr th:only-of-type {\n",
       "        vertical-align: middle;\n",
       "    }\n",
       "\n",
       "    .dataframe tbody tr th {\n",
       "        vertical-align: top;\n",
       "    }\n",
       "\n",
       "    .dataframe thead th {\n",
       "        text-align: right;\n",
       "    }\n",
       "</style>\n",
       "<table border=\"1\" class=\"dataframe\">\n",
       "  <thead>\n",
       "    <tr style=\"text-align: right;\">\n",
       "      <th></th>\n",
       "      <th>dt</th>\n",
       "      <th>temp</th>\n",
       "      <th>feels_like</th>\n",
       "      <th>pressure</th>\n",
       "      <th>humidity</th>\n",
       "      <th>dew_point</th>\n",
       "      <th>uvi</th>\n",
       "      <th>clouds</th>\n",
       "      <th>visibility</th>\n",
       "      <th>wind_speed</th>\n",
       "      <th>wind_deg</th>\n",
       "      <th>wind_gust</th>\n",
       "      <th>weather</th>\n",
       "      <th>pop</th>\n",
       "      <th>rain</th>\n",
       "    </tr>\n",
       "  </thead>\n",
       "  <tbody>\n",
       "    <tr>\n",
       "      <th>0</th>\n",
       "      <td>1631851200</td>\n",
       "      <td>32.33</td>\n",
       "      <td>39.33</td>\n",
       "      <td>1010</td>\n",
       "      <td>72</td>\n",
       "      <td>26.63</td>\n",
       "      <td>10.55</td>\n",
       "      <td>57</td>\n",
       "      <td>10000</td>\n",
       "      <td>1.73</td>\n",
       "      <td>84</td>\n",
       "      <td>1.67</td>\n",
       "      <td>[{'id': 803, 'main': 'Clouds', 'description': ...</td>\n",
       "      <td>0.74</td>\n",
       "      <td>NaN</td>\n",
       "    </tr>\n",
       "    <tr>\n",
       "      <th>1</th>\n",
       "      <td>1631854800</td>\n",
       "      <td>31.88</td>\n",
       "      <td>38.88</td>\n",
       "      <td>1010</td>\n",
       "      <td>70</td>\n",
       "      <td>25.72</td>\n",
       "      <td>10.37</td>\n",
       "      <td>58</td>\n",
       "      <td>10000</td>\n",
       "      <td>1.80</td>\n",
       "      <td>92</td>\n",
       "      <td>1.71</td>\n",
       "      <td>[{'id': 500, 'main': 'Rain', 'description': 'l...</td>\n",
       "      <td>0.94</td>\n",
       "      <td>{'1h': 0.1}</td>\n",
       "    </tr>\n",
       "    <tr>\n",
       "      <th>2</th>\n",
       "      <td>1631858400</td>\n",
       "      <td>31.63</td>\n",
       "      <td>38.63</td>\n",
       "      <td>1009</td>\n",
       "      <td>68</td>\n",
       "      <td>25.00</td>\n",
       "      <td>8.51</td>\n",
       "      <td>57</td>\n",
       "      <td>10000</td>\n",
       "      <td>2.08</td>\n",
       "      <td>104</td>\n",
       "      <td>1.95</td>\n",
       "      <td>[{'id': 500, 'main': 'Rain', 'description': 'l...</td>\n",
       "      <td>0.94</td>\n",
       "      <td>{'1h': 0.12}</td>\n",
       "    </tr>\n",
       "    <tr>\n",
       "      <th>3</th>\n",
       "      <td>1631862000</td>\n",
       "      <td>31.30</td>\n",
       "      <td>37.18</td>\n",
       "      <td>1009</td>\n",
       "      <td>66</td>\n",
       "      <td>24.18</td>\n",
       "      <td>5.73</td>\n",
       "      <td>35</td>\n",
       "      <td>10000</td>\n",
       "      <td>2.33</td>\n",
       "      <td>113</td>\n",
       "      <td>2.09</td>\n",
       "      <td>[{'id': 802, 'main': 'Clouds', 'description': ...</td>\n",
       "      <td>0.01</td>\n",
       "      <td>NaN</td>\n",
       "    </tr>\n",
       "    <tr>\n",
       "      <th>4</th>\n",
       "      <td>1631865600</td>\n",
       "      <td>30.82</td>\n",
       "      <td>35.73</td>\n",
       "      <td>1008</td>\n",
       "      <td>65</td>\n",
       "      <td>23.48</td>\n",
       "      <td>2.90</td>\n",
       "      <td>29</td>\n",
       "      <td>10000</td>\n",
       "      <td>2.38</td>\n",
       "      <td>118</td>\n",
       "      <td>2.10</td>\n",
       "      <td>[{'id': 802, 'main': 'Clouds', 'description': ...</td>\n",
       "      <td>0.04</td>\n",
       "      <td>NaN</td>\n",
       "    </tr>\n",
       "  </tbody>\n",
       "</table>\n",
       "</div>"
      ],
      "text/plain": [
       "           dt   temp  feels_like  pressure  humidity  dew_point    uvi  \\\n",
       "0  1631851200  32.33       39.33      1010        72      26.63  10.55   \n",
       "1  1631854800  31.88       38.88      1010        70      25.72  10.37   \n",
       "2  1631858400  31.63       38.63      1009        68      25.00   8.51   \n",
       "3  1631862000  31.30       37.18      1009        66      24.18   5.73   \n",
       "4  1631865600  30.82       35.73      1008        65      23.48   2.90   \n",
       "\n",
       "   clouds  visibility  wind_speed  wind_deg  wind_gust  \\\n",
       "0      57       10000        1.73        84       1.67   \n",
       "1      58       10000        1.80        92       1.71   \n",
       "2      57       10000        2.08       104       1.95   \n",
       "3      35       10000        2.33       113       2.09   \n",
       "4      29       10000        2.38       118       2.10   \n",
       "\n",
       "                                             weather   pop          rain  \n",
       "0  [{'id': 803, 'main': 'Clouds', 'description': ...  0.74           NaN  \n",
       "1  [{'id': 500, 'main': 'Rain', 'description': 'l...  0.94   {'1h': 0.1}  \n",
       "2  [{'id': 500, 'main': 'Rain', 'description': 'l...  0.94  {'1h': 0.12}  \n",
       "3  [{'id': 802, 'main': 'Clouds', 'description': ...  0.01           NaN  \n",
       "4  [{'id': 802, 'main': 'Clouds', 'description': ...  0.04           NaN  "
      ]
     },
     "execution_count": 10,
     "metadata": {},
     "output_type": "execute_result"
    }
   ],
   "source": [
    "df_hourly.head()"
   ]
  },
  {
   "cell_type": "code",
   "execution_count": null,
   "metadata": {},
   "outputs": [],
   "source": []
  }
 ],
 "metadata": {
  "interpreter": {
   "hash": "c1b4cfe941b6d2466ad1fb5979e97da9cda8801728c8091b097ab734208fc00c"
  },
  "kernelspec": {
   "display_name": "Python 3.8.3 64-bit ('base': conda)",
   "name": "python3"
  },
  "language_info": {
   "codemirror_mode": {
    "name": "ipython",
    "version": 3
   },
   "file_extension": ".py",
   "mimetype": "text/x-python",
   "name": "python",
   "nbconvert_exporter": "python",
   "pygments_lexer": "ipython3",
   "version": "3.8.11"
  }
 },
 "nbformat": 4,
 "nbformat_minor": 2
}
