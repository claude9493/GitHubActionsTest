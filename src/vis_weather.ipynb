{
 "cells": [
  {
   "cell_type": "code",
   "execution_count": 1,
   "metadata": {
    "execution": {
     "iopub.execute_input": "2021-08-31T06:18:18.911929Z",
     "iopub.status.busy": "2021-08-31T06:18:18.911400Z",
     "iopub.status.idle": "2021-08-31T06:18:21.119831Z",
     "shell.execute_reply": "2021-08-31T06:18:21.120452Z"
    }
   },
   "outputs": [],
   "source": [
    "import json, yaml, requests\r\n",
    "from datetime import datetime\r\n",
    "from dateutil import tz\r\n",
    "import pandas as pd\r\n",
    "from PIL import Image\r\n",
    "from io import BytesIO\r\n",
    "import matplotlib.pyplot as plt\r\n",
    "import seaborn\r\n",
    "\r\n",
    "CONFIG_PATH = \"../config/config.yaml\""
   ]
  },
  {
   "cell_type": "code",
   "execution_count": 2,
   "metadata": {
    "execution": {
     "iopub.execute_input": "2021-08-31T06:18:21.126681Z",
     "iopub.status.busy": "2021-08-31T06:18:21.126028Z",
     "iopub.status.idle": "2021-08-31T06:18:21.132510Z",
     "shell.execute_reply": "2021-08-31T06:18:21.131652Z"
    }
   },
   "outputs": [],
   "source": [
    "with open('../newest_ts', 'r') as f:\r\n",
    "    newest_ts = f.read()\r\n",
    "\r\n",
    "data_path = f\"../data/data_{newest_ts}.json\"\r\n",
    "with open(data_path, 'r') as f:\r\n",
    "    data = json.load(f)\r\n",
    "\r\n",
    "with open(CONFIG_PATH, \"r\") as stream:\r\n",
    "    config = yaml.safe_load(stream)\r\n",
    "\r\n",
    "TIME_ZONE = config['time_zone']\r\n",
    "DATETIME_FORMAT = config['dt_format']"
   ]
  },
  {
   "cell_type": "code",
   "execution_count": 3,
   "metadata": {
    "execution": {
     "iopub.execute_input": "2021-08-31T06:18:21.137918Z",
     "iopub.status.busy": "2021-08-31T06:18:21.137143Z",
     "iopub.status.idle": "2021-08-31T06:18:21.151303Z",
     "shell.execute_reply": "2021-08-31T06:18:21.151731Z"
    }
   },
   "outputs": [
    {
     "name": "stdout",
     "output_type": "stream",
     "text": [
      "Recent query happens at 2021-08-31 14:18:15 (CST).\n"
     ]
    }
   ],
   "source": [
    "def ts2dt(ts, format=DATETIME_FORMAT):\r\n",
    "    dt = (datetime.utcfromtimestamp(int(ts))\r\n",
    "                    .replace(tzinfo=tz.tzutc())\r\n",
    "                    # .astimezone(tz.tzlocal())\r\n",
    "                    .astimezone(tz.gettz(TIME_ZONE)))\r\n",
    "    return dt.strftime(format), dt\r\n",
    "\r\n",
    "_, newest_dt = ts2dt(newest_ts)\r\n",
    "print(f\"Recent query happens at {newest_dt.strftime(DATETIME_FORMAT)} ({newest_dt.tzname()}).\")"
   ]
  },
  {
   "cell_type": "code",
   "execution_count": 4,
   "metadata": {
    "execution": {
     "iopub.execute_input": "2021-08-31T06:18:21.157217Z",
     "iopub.status.busy": "2021-08-31T06:18:21.156703Z",
     "iopub.status.idle": "2021-08-31T06:18:21.158973Z",
     "shell.execute_reply": "2021-08-31T06:18:21.158442Z"
    }
   },
   "outputs": [],
   "source": [
    "def degrees_to_cardinal(d):\r\n",
    "  dirs = ['N', 'NNE', 'NE', 'ENE', 'E', 'ESE', 'SE', 'SSE', 'S', 'SSW', 'SW', 'WSW', 'W', 'WNW', 'NW', 'NNW']\r\n",
    "  ix = int(round(d / (360. / len(dirs))))\r\n",
    "  return dirs[ix % len(dirs)]"
   ]
  },
  {
   "cell_type": "code",
   "execution_count": 5,
   "metadata": {
    "execution": {
     "iopub.execute_input": "2021-08-31T06:18:21.165624Z",
     "iopub.status.busy": "2021-08-31T06:18:21.164470Z",
     "iopub.status.idle": "2021-08-31T06:18:21.166942Z",
     "shell.execute_reply": "2021-08-31T06:18:21.166409Z"
    }
   },
   "outputs": [],
   "source": [
    "# data.keys()"
   ]
  },
  {
   "cell_type": "code",
   "execution_count": 6,
   "metadata": {
    "execution": {
     "iopub.execute_input": "2021-08-31T06:18:21.172708Z",
     "iopub.status.busy": "2021-08-31T06:18:21.170546Z",
     "iopub.status.idle": "2021-08-31T06:18:21.173478Z",
     "shell.execute_reply": "2021-08-31T06:18:21.174104Z"
    }
   },
   "outputs": [],
   "source": [
    "# data['current']"
   ]
  },
  {
   "cell_type": "code",
   "execution_count": 7,
   "metadata": {
    "execution": {
     "iopub.execute_input": "2021-08-31T06:18:21.187329Z",
     "iopub.status.busy": "2021-08-31T06:18:21.186778Z",
     "iopub.status.idle": "2021-08-31T06:18:21.642777Z",
     "shell.execute_reply": "2021-08-31T06:18:21.643388Z"
    }
   },
   "outputs": [
    {
     "data": {
      "image/png": "[encoded data removed]",
      "text/plain": [
       "<Figure size 216x216 with 1 Axes>"
      ]
     },
     "metadata": {
      "needs_background": "light"
     },
     "output_type": "display_data"
    },
    {
     "name": "stdout",
     "output_type": "stream",
     "text": [
      "Today, sun rises at 06:05 and sets at 18:41.\n",
      "Currently, the weather is Rain (moderate rain).\n",
      "The temperature is 26.75°C and it feels like 28.23°C.\n",
      "The UV index is 8.07, humidity is 67%.\n",
      "The pressure is 1010 hPa, percentage of cloud cover is 48%\n",
      "The wind comes from ENE direction with a speed 4.81 m/s.\n"
     ]
    }
   ],
   "source": [
    "current = data['current']\r\n",
    "\r\n",
    "fig, ax = plt.subplots(figsize=(3, 3))\r\n",
    "icon = requests.get(f\"http://openweathermap.org/img/wn/{current['weather'][0]['icon']}@2x.png\")\r\n",
    "im = Image.open(BytesIO(icon.content))\r\n",
    "plt.imshow(im)\r\n",
    "ax.set_axis_off()\r\n",
    "plt.show()\r\n",
    "\r\n",
    "print(f\"Today, sun rises at {ts2dt(current['sunrise'], '%H:%M')[0]} \\\r\n",
    "and sets at {ts2dt(current['sunset'], '%H:%M')[0]}.\\n\\\r\n",
    "Currently, the weather is {current['weather'][0]['main']} ({current['weather'][0]['description']}).\\n\\\r\n",
    "The temperature is {current['temp']}°C and it feels like {current['feels_like']}°C.\\n\\\r\n",
    "The UV index is {current['uvi']}, humidity is {current['humidity']}%.\\n\\\r\n",
    "The pressure is {current['pressure']} hPa, percentage of cloud cover is {current['clouds']}%\\n\\\r\n",
    "The wind comes from {degrees_to_cardinal(current['wind_deg'])} direction with a speed {current['wind_speed']} m/s.\")"
   ]
  },
  {
   "cell_type": "code",
   "execution_count": 8,
   "metadata": {
    "execution": {
     "iopub.execute_input": "2021-08-31T06:18:21.646629Z",
     "iopub.status.busy": "2021-08-31T06:18:21.646126Z",
     "iopub.status.idle": "2021-08-31T06:18:21.652310Z",
     "shell.execute_reply": "2021-08-31T06:18:21.652840Z"
    }
   },
   "outputs": [],
   "source": [
    "df_hourly = pd.DataFrame(data['hourly'])\r\n",
    "df_daily = pd.DataFrame(data['daily'])"
   ]
  },
  {
   "cell_type": "code",
   "execution_count": 9,
   "metadata": {
    "execution": {
     "iopub.execute_input": "2021-08-31T06:18:21.655831Z",
     "iopub.status.busy": "2021-08-31T06:18:21.655150Z",
     "iopub.status.idle": "2021-08-31T06:18:21.950609Z",
     "shell.execute_reply": "2021-08-31T06:18:21.950104Z"
    }
   },
   "outputs": [
    {
     "data": {
      "image/png": "[encoded data removed]",
      "text/plain": [
       "<Figure size 864x432 with 1 Axes>"
      ]
     },
     "metadata": {
      "needs_background": "light"
     },
     "output_type": "display_data"
    }
   ],
   "source": [
    "fig, ax = plt.subplots(figsize=(12, 6))\r\n",
    "plt.plot(df_hourly.temp, '.-', label='Temperature')\r\n",
    "plt.plot(df_hourly.feels_like, '.-', label='Feels Like')\r\n",
    "ax.set(title='Temperature in future 48 hours', xlabel='Time', ylabel='Temperature')\r\n",
    "ax.set_xticks(list(range(0, len(df_hourly), 2)))\r\n",
    "ax.set_xticklabels([ts2dt(ts, '%m-%d %H:%M')[0] for i, ts in enumerate(df_hourly.dt) if i%2==0], \r\n",
    "                   rotation=45, ha=\"right\")\r\n",
    "ax.locator_params(nbins=15, axis='y')\r\n",
    "plt.legend()\r\n",
    "plt.show()"
   ]
  },
  {
   "cell_type": "code",
   "execution_count": 10,
   "metadata": {
    "execution": {
     "iopub.execute_input": "2021-08-31T06:18:21.955822Z",
     "iopub.status.busy": "2021-08-31T06:18:21.955254Z",
     "iopub.status.idle": "2021-08-31T06:18:21.974288Z",
     "shell.execute_reply": "2021-08-31T06:18:21.974676Z"
    }
   },
   "outputs": [
    {
     "data": {
      "text/html": [
       "<div>\n",
       "<style scoped>\n",
       "    .dataframe tbody tr th:only-of-type {\n",
       "        vertical-align: middle;\n",
       "    }\n",
       "\n",
       "    .dataframe tbody tr th {\n",
       "        vertical-align: top;\n",
       "    }\n",
       "\n",
       "    .dataframe thead th {\n",
       "        text-align: right;\n",
       "    }\n",
       "</style>\n",
       "<table border=\"1\" class=\"dataframe\">\n",
       "  <thead>\n",
       "    <tr style=\"text-align: right;\">\n",
       "      <th></th>\n",
       "      <th>dt</th>\n",
       "      <th>temp</th>\n",
       "      <th>feels_like</th>\n",
       "      <th>pressure</th>\n",
       "      <th>humidity</th>\n",
       "      <th>dew_point</th>\n",
       "      <th>uvi</th>\n",
       "      <th>clouds</th>\n",
       "      <th>visibility</th>\n",
       "      <th>wind_speed</th>\n",
       "      <th>wind_deg</th>\n",
       "      <th>wind_gust</th>\n",
       "      <th>weather</th>\n",
       "      <th>pop</th>\n",
       "      <th>rain</th>\n",
       "    </tr>\n",
       "  </thead>\n",
       "  <tbody>\n",
       "    <tr>\n",
       "      <th>0</th>\n",
       "      <td>1630389600</td>\n",
       "      <td>26.75</td>\n",
       "      <td>28.23</td>\n",
       "      <td>1010</td>\n",
       "      <td>67</td>\n",
       "      <td>20.11</td>\n",
       "      <td>8.07</td>\n",
       "      <td>48</td>\n",
       "      <td>10000</td>\n",
       "      <td>4.81</td>\n",
       "      <td>75</td>\n",
       "      <td>5.42</td>\n",
       "      <td>[{'id': 802, 'main': 'Clouds', 'description': ...</td>\n",
       "      <td>0.65</td>\n",
       "      <td>NaN</td>\n",
       "    </tr>\n",
       "    <tr>\n",
       "      <th>1</th>\n",
       "      <td>1630393200</td>\n",
       "      <td>27.33</td>\n",
       "      <td>29.04</td>\n",
       "      <td>1010</td>\n",
       "      <td>66</td>\n",
       "      <td>20.42</td>\n",
       "      <td>3.95</td>\n",
       "      <td>53</td>\n",
       "      <td>10000</td>\n",
       "      <td>5.33</td>\n",
       "      <td>80</td>\n",
       "      <td>6.05</td>\n",
       "      <td>[{'id': 501, 'main': 'Rain', 'description': 'm...</td>\n",
       "      <td>0.83</td>\n",
       "      <td>{'1h': 1.54}</td>\n",
       "    </tr>\n",
       "    <tr>\n",
       "      <th>2</th>\n",
       "      <td>1630396800</td>\n",
       "      <td>27.55</td>\n",
       "      <td>29.71</td>\n",
       "      <td>1010</td>\n",
       "      <td>69</td>\n",
       "      <td>21.35</td>\n",
       "      <td>2.08</td>\n",
       "      <td>62</td>\n",
       "      <td>10000</td>\n",
       "      <td>4.00</td>\n",
       "      <td>83</td>\n",
       "      <td>5.63</td>\n",
       "      <td>[{'id': 500, 'main': 'Rain', 'description': 'l...</td>\n",
       "      <td>0.84</td>\n",
       "      <td>{'1h': 1}</td>\n",
       "    </tr>\n",
       "    <tr>\n",
       "      <th>3</th>\n",
       "      <td>1630400400</td>\n",
       "      <td>27.85</td>\n",
       "      <td>30.50</td>\n",
       "      <td>1009</td>\n",
       "      <td>71</td>\n",
       "      <td>22.11</td>\n",
       "      <td>0.75</td>\n",
       "      <td>67</td>\n",
       "      <td>10000</td>\n",
       "      <td>3.81</td>\n",
       "      <td>84</td>\n",
       "      <td>5.43</td>\n",
       "      <td>[{'id': 803, 'main': 'Clouds', 'description': ...</td>\n",
       "      <td>0.80</td>\n",
       "      <td>NaN</td>\n",
       "    </tr>\n",
       "    <tr>\n",
       "      <th>4</th>\n",
       "      <td>1630404000</td>\n",
       "      <td>28.13</td>\n",
       "      <td>31.35</td>\n",
       "      <td>1009</td>\n",
       "      <td>73</td>\n",
       "      <td>22.83</td>\n",
       "      <td>0.22</td>\n",
       "      <td>74</td>\n",
       "      <td>10000</td>\n",
       "      <td>4.17</td>\n",
       "      <td>87</td>\n",
       "      <td>5.76</td>\n",
       "      <td>[{'id': 803, 'main': 'Clouds', 'description': ...</td>\n",
       "      <td>0.72</td>\n",
       "      <td>NaN</td>\n",
       "    </tr>\n",
       "  </tbody>\n",
       "</table>\n",
       "</div>"
      ],
      "text/plain": [
       "           dt   temp  feels_like  pressure  humidity  dew_point   uvi  clouds  \\\n",
       "0  1630389600  26.75       28.23      1010        67      20.11  8.07      48   \n",
       "1  1630393200  27.33       29.04      1010        66      20.42  3.95      53   \n",
       "2  1630396800  27.55       29.71      1010        69      21.35  2.08      62   \n",
       "3  1630400400  27.85       30.50      1009        71      22.11  0.75      67   \n",
       "4  1630404000  28.13       31.35      1009        73      22.83  0.22      74   \n",
       "\n",
       "   visibility  wind_speed  wind_deg  wind_gust  \\\n",
       "0       10000        4.81        75       5.42   \n",
       "1       10000        5.33        80       6.05   \n",
       "2       10000        4.00        83       5.63   \n",
       "3       10000        3.81        84       5.43   \n",
       "4       10000        4.17        87       5.76   \n",
       "\n",
       "                                             weather   pop          rain  \n",
       "0  [{'id': 802, 'main': 'Clouds', 'description': ...  0.65           NaN  \n",
       "1  [{'id': 501, 'main': 'Rain', 'description': 'm...  0.83  {'1h': 1.54}  \n",
       "2  [{'id': 500, 'main': 'Rain', 'description': 'l...  0.84     {'1h': 1}  \n",
       "3  [{'id': 803, 'main': 'Clouds', 'description': ...  0.80           NaN  \n",
       "4  [{'id': 803, 'main': 'Clouds', 'description': ...  0.72           NaN  "
      ]
     },
     "execution_count": 10,
     "metadata": {},
     "output_type": "execute_result"
    }
   ],
   "source": [
    "df_hourly.head()"
   ]
  },
  {
   "cell_type": "code",
   "execution_count": null,
   "metadata": {},
   "outputs": [],
   "source": []
  }
 ],
 "metadata": {
  "interpreter": {
   "hash": "c1b4cfe941b6d2466ad1fb5979e97da9cda8801728c8091b097ab734208fc00c"
  },
  "kernelspec": {
   "display_name": "Python 3.8.3 64-bit ('base': conda)",
   "name": "python3"
  },
  "language_info": {
   "codemirror_mode": {
    "name": "ipython",
    "version": 3
   },
   "file_extension": ".py",
   "mimetype": "text/x-python",
   "name": "python",
   "nbconvert_exporter": "python",
   "pygments_lexer": "ipython3",
   "version": "3.8.11"
  }
 },
 "nbformat": 4,
 "nbformat_minor": 2
}
