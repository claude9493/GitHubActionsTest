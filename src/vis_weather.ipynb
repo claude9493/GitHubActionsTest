{
 "cells": [
  {
   "cell_type": "code",
   "execution_count": 1,
   "metadata": {
    "execution": {
     "iopub.execute_input": "2021-10-10T08:13:12.549038Z",
     "iopub.status.busy": "2021-10-10T08:13:12.548280Z",
     "iopub.status.idle": "2021-10-10T08:13:13.903552Z",
     "shell.execute_reply": "2021-10-10T08:13:13.902846Z"
    }
   },
   "outputs": [],
   "source": [
    "import json, yaml, requests\r\n",
    "from datetime import datetime\r\n",
    "from dateutil import tz\r\n",
    "import pandas as pd\r\n",
    "from PIL import Image\r\n",
    "from io import BytesIO\r\n",
    "import matplotlib.pyplot as plt\r\n",
    "import seaborn\r\n",
    "\r\n",
    "CONFIG_PATH = \"../config/config.yaml\""
   ]
  },
  {
   "cell_type": "code",
   "execution_count": 2,
   "metadata": {
    "execution": {
     "iopub.execute_input": "2021-10-10T08:13:13.910103Z",
     "iopub.status.busy": "2021-10-10T08:13:13.908632Z",
     "iopub.status.idle": "2021-10-10T08:13:13.915809Z",
     "shell.execute_reply": "2021-10-10T08:13:13.915054Z"
    }
   },
   "outputs": [],
   "source": [
    "with open('../newest_ts', 'r') as f:\r\n",
    "    newest_ts = f.read()\r\n",
    "\r\n",
    "data_path = f\"../data/data_{newest_ts}.json\"\r\n",
    "with open(data_path, 'r') as f:\r\n",
    "    data = json.load(f)\r\n",
    "\r\n",
    "with open(CONFIG_PATH, \"r\") as stream:\r\n",
    "    config = yaml.safe_load(stream)\r\n",
    "\r\n",
    "TIME_ZONE = config['time_zone']\r\n",
    "DATETIME_FORMAT = config['dt_format']"
   ]
  },
  {
   "cell_type": "code",
   "execution_count": 3,
   "metadata": {
    "execution": {
     "iopub.execute_input": "2021-10-10T08:13:13.922514Z",
     "iopub.status.busy": "2021-10-10T08:13:13.920578Z",
     "iopub.status.idle": "2021-10-10T08:13:13.926699Z",
     "shell.execute_reply": "2021-10-10T08:13:13.927240Z"
    }
   },
   "outputs": [
    {
     "name": "stdout",
     "output_type": "stream",
     "text": [
      "Recent query happens at 2021-10-10 16:13:09 (CST).\n"
     ]
    }
   ],
   "source": [
    "def ts2dt(ts, format=DATETIME_FORMAT):\r\n",
    "    dt = (datetime.utcfromtimestamp(int(ts))\r\n",
    "                    .replace(tzinfo=tz.tzutc())\r\n",
    "                    # .astimezone(tz.tzlocal())\r\n",
    "                    .astimezone(tz.gettz(TIME_ZONE)))\r\n",
    "    return dt.strftime(format), dt\r\n",
    "\r\n",
    "_, newest_dt = ts2dt(newest_ts)\r\n",
    "print(f\"Recent query happens at {newest_dt.strftime(DATETIME_FORMAT)} ({newest_dt.tzname()}).\")"
   ]
  },
  {
   "cell_type": "code",
   "execution_count": 4,
   "metadata": {
    "execution": {
     "iopub.execute_input": "2021-10-10T08:13:13.933988Z",
     "iopub.status.busy": "2021-10-10T08:13:13.932517Z",
     "iopub.status.idle": "2021-10-10T08:13:13.934643Z",
     "shell.execute_reply": "2021-10-10T08:13:13.935084Z"
    }
   },
   "outputs": [],
   "source": [
    "def degrees_to_cardinal(d):\r\n",
    "  dirs = ['N', 'NNE', 'NE', 'ENE', 'E', 'ESE', 'SE', 'SSE', 'S', 'SSW', 'SW', 'WSW', 'W', 'WNW', 'NW', 'NNW']\r\n",
    "  ix = int(round(d / (360. / len(dirs))))\r\n",
    "  return dirs[ix % len(dirs)]"
   ]
  },
  {
   "cell_type": "code",
   "execution_count": 5,
   "metadata": {
    "execution": {
     "iopub.execute_input": "2021-10-10T08:13:13.940083Z",
     "iopub.status.busy": "2021-10-10T08:13:13.938430Z",
     "iopub.status.idle": "2021-10-10T08:13:13.940968Z",
     "shell.execute_reply": "2021-10-10T08:13:13.941583Z"
    }
   },
   "outputs": [],
   "source": [
    "# data.keys()"
   ]
  },
  {
   "cell_type": "code",
   "execution_count": 6,
   "metadata": {
    "execution": {
     "iopub.execute_input": "2021-10-10T08:13:13.946711Z",
     "iopub.status.busy": "2021-10-10T08:13:13.945175Z",
     "iopub.status.idle": "2021-10-10T08:13:13.947315Z",
     "shell.execute_reply": "2021-10-10T08:13:13.947877Z"
    }
   },
   "outputs": [],
   "source": [
    "# data['current']"
   ]
  },
  {
   "cell_type": "code",
   "execution_count": 7,
   "metadata": {
    "execution": {
     "iopub.execute_input": "2021-10-10T08:13:13.970503Z",
     "iopub.status.busy": "2021-10-10T08:13:13.969728Z",
     "iopub.status.idle": "2021-10-10T08:13:14.533579Z",
     "shell.execute_reply": "2021-10-10T08:13:14.534297Z"
    }
   },
   "outputs": [
    {
     "data": {
      "image/png": "[encoded data removed]",
      "text/plain": [
       "<Figure size 216x216 with 1 Axes>"
      ]
     },
     "metadata": {
      "needs_background": "light"
     },
     "output_type": "display_data"
    },
    {
     "name": "stdout",
     "output_type": "stream",
     "text": [
      "Today, sun rises at 06:17 and sets at 18:02.\n",
      "Currently, the weather is Clouds (overcast clouds).\n",
      "The temperature is 27.55°C and it feels like 31.79°C.\n",
      "The UV index is 1.42, humidity is 86%.\n",
      "The pressure is 1010 hPa, percentage of cloud cover is 100%\n",
      "The wind comes from NE direction with a speed 1.34 m/s.\n"
     ]
    }
   ],
   "source": [
    "current = data['current']\r\n",
    "\r\n",
    "fig, ax = plt.subplots(figsize=(3, 3))\r\n",
    "icon = requests.get(f\"http://openweathermap.org/img/wn/{current['weather'][0]['icon']}@2x.png\")\r\n",
    "im = Image.open(BytesIO(icon.content))\r\n",
    "plt.imshow(im)\r\n",
    "ax.set_axis_off()\r\n",
    "plt.show()\r\n",
    "\r\n",
    "print(f\"Today, sun rises at {ts2dt(current['sunrise'], '%H:%M')[0]} \\\r\n",
    "and sets at {ts2dt(current['sunset'], '%H:%M')[0]}.\\n\\\r\n",
    "Currently, the weather is {current['weather'][0]['main']} ({current['weather'][0]['description']}).\\n\\\r\n",
    "The temperature is {current['temp']}°C and it feels like {current['feels_like']}°C.\\n\\\r\n",
    "The UV index is {current['uvi']}, humidity is {current['humidity']}%.\\n\\\r\n",
    "The pressure is {current['pressure']} hPa, percentage of cloud cover is {current['clouds']}%\\n\\\r\n",
    "The wind comes from {degrees_to_cardinal(current['wind_deg'])} direction with a speed {current['wind_speed']} m/s.\")"
   ]
  },
  {
   "cell_type": "code",
   "execution_count": 8,
   "metadata": {
    "execution": {
     "iopub.execute_input": "2021-10-10T08:13:14.543708Z",
     "iopub.status.busy": "2021-10-10T08:13:14.541954Z",
     "iopub.status.idle": "2021-10-10T08:13:14.547157Z",
     "shell.execute_reply": "2021-10-10T08:13:14.546652Z"
    }
   },
   "outputs": [],
   "source": [
    "df_hourly = pd.DataFrame(data['hourly'])\r\n",
    "df_daily = pd.DataFrame(data['daily'])"
   ]
  },
  {
   "cell_type": "code",
   "execution_count": 9,
   "metadata": {
    "execution": {
     "iopub.execute_input": "2021-10-10T08:13:14.579249Z",
     "iopub.status.busy": "2021-10-10T08:13:14.567306Z",
     "iopub.status.idle": "2021-10-10T08:13:14.891596Z",
     "shell.execute_reply": "2021-10-10T08:13:14.890998Z"
    }
   },
   "outputs": [
    {
     "data": {
      "image/png": "[encoded data removed]",
      "text/plain": [
       "<Figure size 864x432 with 1 Axes>"
      ]
     },
     "metadata": {
      "needs_background": "light"
     },
     "output_type": "display_data"
    }
   ],
   "source": [
    "fig, ax = plt.subplots(figsize=(12, 6))\r\n",
    "plt.plot(df_hourly.temp, '.-', label='Temperature')\r\n",
    "plt.plot(df_hourly.feels_like, '.-', label='Feels Like')\r\n",
    "ax.set(title='Temperature in future 48 hours', xlabel='Time', ylabel='Temperature')\r\n",
    "ax.set_xticks(list(range(0, len(df_hourly), 2)))\r\n",
    "ax.set_xticklabels([ts2dt(ts, '%m-%d %H:%M')[0] for i, ts in enumerate(df_hourly.dt) if i%2==0], \r\n",
    "                   rotation=45, ha=\"right\")\r\n",
    "ax.locator_params(nbins=15, axis='y')\r\n",
    "plt.legend()\r\n",
    "plt.show()"
   ]
  },
  {
   "cell_type": "code",
   "execution_count": 10,
   "metadata": {
    "execution": {
     "iopub.execute_input": "2021-10-10T08:13:14.905551Z",
     "iopub.status.busy": "2021-10-10T08:13:14.896166Z",
     "iopub.status.idle": "2021-10-10T08:13:14.919499Z",
     "shell.execute_reply": "2021-10-10T08:13:14.919948Z"
    }
   },
   "outputs": [
    {
     "data": {
      "text/html": [
       "<div>\n",
       "<style scoped>\n",
       "    .dataframe tbody tr th:only-of-type {\n",
       "        vertical-align: middle;\n",
       "    }\n",
       "\n",
       "    .dataframe tbody tr th {\n",
       "        vertical-align: top;\n",
       "    }\n",
       "\n",
       "    .dataframe thead th {\n",
       "        text-align: right;\n",
       "    }\n",
       "</style>\n",
       "<table border=\"1\" class=\"dataframe\">\n",
       "  <thead>\n",
       "    <tr style=\"text-align: right;\">\n",
       "      <th></th>\n",
       "      <th>dt</th>\n",
       "      <th>temp</th>\n",
       "      <th>feels_like</th>\n",
       "      <th>pressure</th>\n",
       "      <th>humidity</th>\n",
       "      <th>dew_point</th>\n",
       "      <th>uvi</th>\n",
       "      <th>clouds</th>\n",
       "      <th>visibility</th>\n",
       "      <th>wind_speed</th>\n",
       "      <th>wind_deg</th>\n",
       "      <th>wind_gust</th>\n",
       "      <th>weather</th>\n",
       "      <th>pop</th>\n",
       "      <th>rain</th>\n",
       "    </tr>\n",
       "  </thead>\n",
       "  <tbody>\n",
       "    <tr>\n",
       "      <th>0</th>\n",
       "      <td>1633852800</td>\n",
       "      <td>27.55</td>\n",
       "      <td>31.79</td>\n",
       "      <td>1010</td>\n",
       "      <td>86</td>\n",
       "      <td>25.00</td>\n",
       "      <td>1.42</td>\n",
       "      <td>100</td>\n",
       "      <td>10000</td>\n",
       "      <td>7.38</td>\n",
       "      <td>95</td>\n",
       "      <td>10.29</td>\n",
       "      <td>[{'id': 500, 'main': 'Rain', 'description': 'l...</td>\n",
       "      <td>0.79</td>\n",
       "      <td>{'1h': 0.36}</td>\n",
       "    </tr>\n",
       "    <tr>\n",
       "      <th>1</th>\n",
       "      <td>1633856400</td>\n",
       "      <td>27.54</td>\n",
       "      <td>31.50</td>\n",
       "      <td>1010</td>\n",
       "      <td>84</td>\n",
       "      <td>24.59</td>\n",
       "      <td>0.41</td>\n",
       "      <td>100</td>\n",
       "      <td>10000</td>\n",
       "      <td>6.52</td>\n",
       "      <td>98</td>\n",
       "      <td>10.18</td>\n",
       "      <td>[{'id': 501, 'main': 'Rain', 'description': 'm...</td>\n",
       "      <td>0.87</td>\n",
       "      <td>{'1h': 3.16}</td>\n",
       "    </tr>\n",
       "    <tr>\n",
       "      <th>2</th>\n",
       "      <td>1633860000</td>\n",
       "      <td>27.37</td>\n",
       "      <td>31.06</td>\n",
       "      <td>1010</td>\n",
       "      <td>84</td>\n",
       "      <td>24.43</td>\n",
       "      <td>0.00</td>\n",
       "      <td>100</td>\n",
       "      <td>10000</td>\n",
       "      <td>5.63</td>\n",
       "      <td>99</td>\n",
       "      <td>9.01</td>\n",
       "      <td>[{'id': 500, 'main': 'Rain', 'description': 'l...</td>\n",
       "      <td>0.91</td>\n",
       "      <td>{'1h': 1}</td>\n",
       "    </tr>\n",
       "    <tr>\n",
       "      <th>3</th>\n",
       "      <td>1633863600</td>\n",
       "      <td>27.19</td>\n",
       "      <td>30.60</td>\n",
       "      <td>1009</td>\n",
       "      <td>84</td>\n",
       "      <td>24.25</td>\n",
       "      <td>0.00</td>\n",
       "      <td>100</td>\n",
       "      <td>10000</td>\n",
       "      <td>4.84</td>\n",
       "      <td>96</td>\n",
       "      <td>8.03</td>\n",
       "      <td>[{'id': 500, 'main': 'Rain', 'description': 'l...</td>\n",
       "      <td>0.91</td>\n",
       "      <td>{'1h': 0.24}</td>\n",
       "    </tr>\n",
       "    <tr>\n",
       "      <th>4</th>\n",
       "      <td>1633867200</td>\n",
       "      <td>27.04</td>\n",
       "      <td>30.12</td>\n",
       "      <td>1009</td>\n",
       "      <td>83</td>\n",
       "      <td>23.90</td>\n",
       "      <td>0.00</td>\n",
       "      <td>100</td>\n",
       "      <td>10000</td>\n",
       "      <td>3.99</td>\n",
       "      <td>91</td>\n",
       "      <td>6.49</td>\n",
       "      <td>[{'id': 500, 'main': 'Rain', 'description': 'l...</td>\n",
       "      <td>0.91</td>\n",
       "      <td>{'1h': 0.14}</td>\n",
       "    </tr>\n",
       "  </tbody>\n",
       "</table>\n",
       "</div>"
      ],
      "text/plain": [
       "           dt   temp  feels_like  pressure  humidity  dew_point   uvi  clouds  \\\n",
       "0  1633852800  27.55       31.79      1010        86      25.00  1.42     100   \n",
       "1  1633856400  27.54       31.50      1010        84      24.59  0.41     100   \n",
       "2  1633860000  27.37       31.06      1010        84      24.43  0.00     100   \n",
       "3  1633863600  27.19       30.60      1009        84      24.25  0.00     100   \n",
       "4  1633867200  27.04       30.12      1009        83      23.90  0.00     100   \n",
       "\n",
       "   visibility  wind_speed  wind_deg  wind_gust  \\\n",
       "0       10000        7.38        95      10.29   \n",
       "1       10000        6.52        98      10.18   \n",
       "2       10000        5.63        99       9.01   \n",
       "3       10000        4.84        96       8.03   \n",
       "4       10000        3.99        91       6.49   \n",
       "\n",
       "                                             weather   pop          rain  \n",
       "0  [{'id': 500, 'main': 'Rain', 'description': 'l...  0.79  {'1h': 0.36}  \n",
       "1  [{'id': 501, 'main': 'Rain', 'description': 'm...  0.87  {'1h': 3.16}  \n",
       "2  [{'id': 500, 'main': 'Rain', 'description': 'l...  0.91     {'1h': 1}  \n",
       "3  [{'id': 500, 'main': 'Rain', 'description': 'l...  0.91  {'1h': 0.24}  \n",
       "4  [{'id': 500, 'main': 'Rain', 'description': 'l...  0.91  {'1h': 0.14}  "
      ]
     },
     "execution_count": 10,
     "metadata": {},
     "output_type": "execute_result"
    }
   ],
   "source": [
    "df_hourly.head()"
   ]
  },
  {
   "cell_type": "code",
   "execution_count": null,
   "metadata": {},
   "outputs": [],
   "source": []
  }
 ],
 "metadata": {
  "interpreter": {
   "hash": "c1b4cfe941b6d2466ad1fb5979e97da9cda8801728c8091b097ab734208fc00c"
  },
  "kernelspec": {
   "display_name": "Python 3.8.3 64-bit ('base': conda)",
   "name": "python3"
  },
  "language_info": {
   "codemirror_mode": {
    "name": "ipython",
    "version": 3
   },
   "file_extension": ".py",
   "mimetype": "text/x-python",
   "name": "python",
   "nbconvert_exporter": "python",
   "pygments_lexer": "ipython3",
   "version": "3.8.12"
  }
 },
 "nbformat": 4,
 "nbformat_minor": 2
}
