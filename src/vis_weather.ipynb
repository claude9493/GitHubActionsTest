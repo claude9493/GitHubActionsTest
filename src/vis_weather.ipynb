{
 "cells": [
  {
   "cell_type": "code",
   "execution_count": 1,
   "metadata": {
    "execution": {
     "iopub.execute_input": "2021-08-28T02:25:59.806621Z",
     "iopub.status.busy": "2021-08-28T02:25:59.799650Z",
     "iopub.status.idle": "2021-08-28T02:26:01.938540Z",
     "shell.execute_reply": "2021-08-28T02:26:01.937473Z"
    }
   },
   "outputs": [],
   "source": [
    "import json, yaml, requests\r\n",
    "from datetime import datetime\r\n",
    "from dateutil import tz\r\n",
    "import pandas as pd\r\n",
    "from PIL import Image\r\n",
    "from io import BytesIO\r\n",
    "import matplotlib.pyplot as plt\r\n",
    "import seaborn\r\n",
    "\r\n",
    "CONFIG_PATH = \"../config/config.yaml\""
   ]
  },
  {
   "cell_type": "code",
   "execution_count": 2,
   "metadata": {
    "execution": {
     "iopub.execute_input": "2021-08-28T02:26:01.947178Z",
     "iopub.status.busy": "2021-08-28T02:26:01.943643Z",
     "iopub.status.idle": "2021-08-28T02:26:01.950304Z",
     "shell.execute_reply": "2021-08-28T02:26:01.949484Z"
    }
   },
   "outputs": [],
   "source": [
    "with open('../newest_ts', 'r') as f:\r\n",
    "    newest_ts = f.read()\r\n",
    "\r\n",
    "data_path = f\"../data/data_{newest_ts}.json\"\r\n",
    "with open(data_path, 'r') as f:\r\n",
    "    data = json.load(f)\r\n",
    "\r\n",
    "with open(CONFIG_PATH, \"r\") as stream:\r\n",
    "    config = yaml.safe_load(stream)\r\n",
    "\r\n",
    "TIME_ZONE = config['time_zone']\r\n",
    "DATETIME_FORMAT = config['dt_format']"
   ]
  },
  {
   "cell_type": "code",
   "execution_count": 3,
   "metadata": {
    "execution": {
     "iopub.execute_input": "2021-08-28T02:26:01.955060Z",
     "iopub.status.busy": "2021-08-28T02:26:01.952669Z",
     "iopub.status.idle": "2021-08-28T02:26:01.959984Z",
     "shell.execute_reply": "2021-08-28T02:26:01.960582Z"
    }
   },
   "outputs": [
    {
     "name": "stdout",
     "output_type": "stream",
     "text": [
      "Recent query happens at 2021-08-28 10:25:57 (CST).\n"
     ]
    }
   ],
   "source": [
    "def ts2dt(ts, format=DATETIME_FORMAT):\r\n",
    "    dt = (datetime.utcfromtimestamp(int(ts))\r\n",
    "                    .replace(tzinfo=tz.tzutc())\r\n",
    "                    # .astimezone(tz.tzlocal())\r\n",
    "                    .astimezone(tz.gettz(TIME_ZONE)))\r\n",
    "    return dt.strftime(format), dt\r\n",
    "\r\n",
    "_, newest_dt = ts2dt(newest_ts)\r\n",
    "print(f\"Recent query happens at {newest_dt.strftime(DATETIME_FORMAT)} ({newest_dt.tzname()}).\")"
   ]
  },
  {
   "cell_type": "code",
   "execution_count": 4,
   "metadata": {
    "execution": {
     "iopub.execute_input": "2021-08-28T02:26:01.966484Z",
     "iopub.status.busy": "2021-08-28T02:26:01.965329Z",
     "iopub.status.idle": "2021-08-28T02:26:01.967197Z",
     "shell.execute_reply": "2021-08-28T02:26:01.967632Z"
    }
   },
   "outputs": [],
   "source": [
    "def degrees_to_cardinal(d):\r\n",
    "  dirs = ['N', 'NNE', 'NE', 'ENE', 'E', 'ESE', 'SE', 'SSE', 'S', 'SSW', 'SW', 'WSW', 'W', 'WNW', 'NW', 'NNW']\r\n",
    "  ix = int(round(d / (360. / len(dirs))))\r\n",
    "  return dirs[ix % len(dirs)]"
   ]
  },
  {
   "cell_type": "code",
   "execution_count": 5,
   "metadata": {
    "execution": {
     "iopub.execute_input": "2021-08-28T02:26:01.972034Z",
     "iopub.status.busy": "2021-08-28T02:26:01.970890Z",
     "iopub.status.idle": "2021-08-28T02:26:01.972722Z",
     "shell.execute_reply": "2021-08-28T02:26:01.973152Z"
    }
   },
   "outputs": [],
   "source": [
    "# data.keys()"
   ]
  },
  {
   "cell_type": "code",
   "execution_count": 6,
   "metadata": {
    "execution": {
     "iopub.execute_input": "2021-08-28T02:26:01.977497Z",
     "iopub.status.busy": "2021-08-28T02:26:01.976214Z",
     "iopub.status.idle": "2021-08-28T02:26:01.978095Z",
     "shell.execute_reply": "2021-08-28T02:26:01.978518Z"
    }
   },
   "outputs": [],
   "source": [
    "# data['current']"
   ]
  },
  {
   "cell_type": "code",
   "execution_count": 7,
   "metadata": {
    "execution": {
     "iopub.execute_input": "2021-08-28T02:26:01.999582Z",
     "iopub.status.busy": "2021-08-28T02:26:01.995308Z",
     "iopub.status.idle": "2021-08-28T02:26:02.290222Z",
     "shell.execute_reply": "2021-08-28T02:26:02.290962Z"
    }
   },
   "outputs": [
    {
     "data": {
      "image/png": "[encoded data removed]",
      "text/plain": [
       "<Figure size 216x216 with 1 Axes>"
      ]
     },
     "metadata": {
      "needs_background": "light"
     },
     "output_type": "display_data"
    },
    {
     "name": "stdout",
     "output_type": "stream",
     "text": [
      "Today, sun rises at 06:04 and sets at 18:44.\n",
      "Currently, the weather is Clouds (broken clouds).\n",
      "The temperature is 30.44°C and it feels like 35.1°C.\n",
      "The UV index is 6.83, humidity is 66%.\n",
      "The pressure is 1012 hPa, percentage of cloud cover is 64%\n",
      "The wind comes from E direction with a speed 5.13 m/s.\n"
     ]
    }
   ],
   "source": [
    "current = data['current']\r\n",
    "\r\n",
    "fig, ax = plt.subplots(figsize=(3, 3))\r\n",
    "icon = requests.get(f\"http://openweathermap.org/img/wn/{current['weather'][0]['icon']}@2x.png\")\r\n",
    "im = Image.open(BytesIO(icon.content))\r\n",
    "plt.imshow(im)\r\n",
    "ax.set_axis_off()\r\n",
    "plt.show()\r\n",
    "\r\n",
    "print(f\"Today, sun rises at {ts2dt(current['sunrise'], '%H:%M')[0]} \\\r\n",
    "and sets at {ts2dt(current['sunset'], '%H:%M')[0]}.\\n\\\r\n",
    "Currently, the weather is {current['weather'][0]['main']} ({current['weather'][0]['description']}).\\n\\\r\n",
    "The temperature is {current['temp']}°C and it feels like {current['feels_like']}°C.\\n\\\r\n",
    "The UV index is {current['uvi']}, humidity is {current['humidity']}%.\\n\\\r\n",
    "The pressure is {current['pressure']} hPa, percentage of cloud cover is {current['clouds']}%\\n\\\r\n",
    "The wind comes from {degrees_to_cardinal(current['wind_deg'])} direction with a speed {current['wind_speed']} m/s.\")"
   ]
  },
  {
   "cell_type": "code",
   "execution_count": 8,
   "metadata": {
    "execution": {
     "iopub.execute_input": "2021-08-28T02:26:02.296589Z",
     "iopub.status.busy": "2021-08-28T02:26:02.296060Z",
     "iopub.status.idle": "2021-08-28T02:26:02.301493Z",
     "shell.execute_reply": "2021-08-28T02:26:02.302146Z"
    }
   },
   "outputs": [],
   "source": [
    "df_hourly = pd.DataFrame(data['hourly'])\r\n",
    "df_daily = pd.DataFrame(data['daily'])"
   ]
  },
  {
   "cell_type": "code",
   "execution_count": 9,
   "metadata": {
    "execution": {
     "iopub.execute_input": "2021-08-28T02:26:02.319590Z",
     "iopub.status.busy": "2021-08-28T02:26:02.311278Z",
     "iopub.status.idle": "2021-08-28T02:26:02.604275Z",
     "shell.execute_reply": "2021-08-28T02:26:02.603787Z"
    }
   },
   "outputs": [
    {
     "data": {
      "image/png": "[encoded data removed]",
      "text/plain": [
       "<Figure size 864x432 with 1 Axes>"
      ]
     },
     "metadata": {
      "needs_background": "light"
     },
     "output_type": "display_data"
    }
   ],
   "source": [
    "fig, ax = plt.subplots(figsize=(12, 6))\r\n",
    "plt.plot(df_hourly.temp, '.-', label='Temperature')\r\n",
    "plt.plot(df_hourly.feels_like, '.-', label='Feels Like')\r\n",
    "ax.set(title='Temperature in future 48 hours', xlabel='Time', ylabel='Temperature')\r\n",
    "ax.set_xticks(list(range(0, len(df_hourly), 2)))\r\n",
    "ax.set_xticklabels([ts2dt(ts, '%m-%d %H:%M')[0] for i, ts in enumerate(df_hourly.dt) if i%2==0], \r\n",
    "                   rotation=45, ha=\"right\")\r\n",
    "ax.locator_params(nbins=15, axis='y')\r\n",
    "plt.legend()\r\n",
    "plt.show()"
   ]
  },
  {
   "cell_type": "code",
   "execution_count": 10,
   "metadata": {
    "execution": {
     "iopub.execute_input": "2021-08-28T02:26:02.609061Z",
     "iopub.status.busy": "2021-08-28T02:26:02.608526Z",
     "iopub.status.idle": "2021-08-28T02:26:02.627684Z",
     "shell.execute_reply": "2021-08-28T02:26:02.628121Z"
    }
   },
   "outputs": [
    {
     "data": {
      "text/html": [
       "<div>\n",
       "<style scoped>\n",
       "    .dataframe tbody tr th:only-of-type {\n",
       "        vertical-align: middle;\n",
       "    }\n",
       "\n",
       "    .dataframe tbody tr th {\n",
       "        vertical-align: top;\n",
       "    }\n",
       "\n",
       "    .dataframe thead th {\n",
       "        text-align: right;\n",
       "    }\n",
       "</style>\n",
       "<table border=\"1\" class=\"dataframe\">\n",
       "  <thead>\n",
       "    <tr style=\"text-align: right;\">\n",
       "      <th></th>\n",
       "      <th>dt</th>\n",
       "      <th>temp</th>\n",
       "      <th>feels_like</th>\n",
       "      <th>pressure</th>\n",
       "      <th>humidity</th>\n",
       "      <th>dew_point</th>\n",
       "      <th>uvi</th>\n",
       "      <th>clouds</th>\n",
       "      <th>visibility</th>\n",
       "      <th>wind_speed</th>\n",
       "      <th>wind_deg</th>\n",
       "      <th>wind_gust</th>\n",
       "      <th>weather</th>\n",
       "      <th>pop</th>\n",
       "      <th>rain</th>\n",
       "    </tr>\n",
       "  </thead>\n",
       "  <tbody>\n",
       "    <tr>\n",
       "      <th>0</th>\n",
       "      <td>1630116000</td>\n",
       "      <td>30.44</td>\n",
       "      <td>35.10</td>\n",
       "      <td>1012</td>\n",
       "      <td>66</td>\n",
       "      <td>23.37</td>\n",
       "      <td>6.83</td>\n",
       "      <td>64</td>\n",
       "      <td>10000</td>\n",
       "      <td>5.13</td>\n",
       "      <td>89</td>\n",
       "      <td>6.77</td>\n",
       "      <td>[{'id': 501, 'main': 'Rain', 'description': 'm...</td>\n",
       "      <td>0.68</td>\n",
       "      <td>{'1h': 1.11}</td>\n",
       "    </tr>\n",
       "    <tr>\n",
       "      <th>1</th>\n",
       "      <td>1630119600</td>\n",
       "      <td>30.24</td>\n",
       "      <td>34.64</td>\n",
       "      <td>1012</td>\n",
       "      <td>66</td>\n",
       "      <td>23.18</td>\n",
       "      <td>9.59</td>\n",
       "      <td>63</td>\n",
       "      <td>10000</td>\n",
       "      <td>5.14</td>\n",
       "      <td>91</td>\n",
       "      <td>6.78</td>\n",
       "      <td>[{'id': 803, 'main': 'Clouds', 'description': ...</td>\n",
       "      <td>0.68</td>\n",
       "      <td>NaN</td>\n",
       "    </tr>\n",
       "    <tr>\n",
       "      <th>2</th>\n",
       "      <td>1630123200</td>\n",
       "      <td>30.26</td>\n",
       "      <td>34.22</td>\n",
       "      <td>1012</td>\n",
       "      <td>64</td>\n",
       "      <td>22.69</td>\n",
       "      <td>11.73</td>\n",
       "      <td>59</td>\n",
       "      <td>10000</td>\n",
       "      <td>5.47</td>\n",
       "      <td>89</td>\n",
       "      <td>6.86</td>\n",
       "      <td>[{'id': 500, 'main': 'Rain', 'description': 'l...</td>\n",
       "      <td>0.72</td>\n",
       "      <td>{'1h': 0.15}</td>\n",
       "    </tr>\n",
       "    <tr>\n",
       "      <th>3</th>\n",
       "      <td>1630126800</td>\n",
       "      <td>30.21</td>\n",
       "      <td>34.11</td>\n",
       "      <td>1011</td>\n",
       "      <td>64</td>\n",
       "      <td>22.64</td>\n",
       "      <td>11.53</td>\n",
       "      <td>55</td>\n",
       "      <td>10000</td>\n",
       "      <td>5.46</td>\n",
       "      <td>91</td>\n",
       "      <td>6.84</td>\n",
       "      <td>[{'id': 803, 'main': 'Clouds', 'description': ...</td>\n",
       "      <td>0.68</td>\n",
       "      <td>NaN</td>\n",
       "    </tr>\n",
       "    <tr>\n",
       "      <th>4</th>\n",
       "      <td>1630130400</td>\n",
       "      <td>30.07</td>\n",
       "      <td>33.59</td>\n",
       "      <td>1010</td>\n",
       "      <td>63</td>\n",
       "      <td>22.25</td>\n",
       "      <td>9.57</td>\n",
       "      <td>50</td>\n",
       "      <td>10000</td>\n",
       "      <td>5.08</td>\n",
       "      <td>95</td>\n",
       "      <td>6.56</td>\n",
       "      <td>[{'id': 802, 'main': 'Clouds', 'description': ...</td>\n",
       "      <td>0.68</td>\n",
       "      <td>NaN</td>\n",
       "    </tr>\n",
       "  </tbody>\n",
       "</table>\n",
       "</div>"
      ],
      "text/plain": [
       "           dt   temp  feels_like  pressure  humidity  dew_point    uvi  \\\n",
       "0  1630116000  30.44       35.10      1012        66      23.37   6.83   \n",
       "1  1630119600  30.24       34.64      1012        66      23.18   9.59   \n",
       "2  1630123200  30.26       34.22      1012        64      22.69  11.73   \n",
       "3  1630126800  30.21       34.11      1011        64      22.64  11.53   \n",
       "4  1630130400  30.07       33.59      1010        63      22.25   9.57   \n",
       "\n",
       "   clouds  visibility  wind_speed  wind_deg  wind_gust  \\\n",
       "0      64       10000        5.13        89       6.77   \n",
       "1      63       10000        5.14        91       6.78   \n",
       "2      59       10000        5.47        89       6.86   \n",
       "3      55       10000        5.46        91       6.84   \n",
       "4      50       10000        5.08        95       6.56   \n",
       "\n",
       "                                             weather   pop          rain  \n",
       "0  [{'id': 501, 'main': 'Rain', 'description': 'm...  0.68  {'1h': 1.11}  \n",
       "1  [{'id': 803, 'main': 'Clouds', 'description': ...  0.68           NaN  \n",
       "2  [{'id': 500, 'main': 'Rain', 'description': 'l...  0.72  {'1h': 0.15}  \n",
       "3  [{'id': 803, 'main': 'Clouds', 'description': ...  0.68           NaN  \n",
       "4  [{'id': 802, 'main': 'Clouds', 'description': ...  0.68           NaN  "
      ]
     },
     "execution_count": 10,
     "metadata": {},
     "output_type": "execute_result"
    }
   ],
   "source": [
    "df_hourly.head()"
   ]
  },
  {
   "cell_type": "code",
   "execution_count": null,
   "metadata": {},
   "outputs": [],
   "source": []
  }
 ],
 "metadata": {
  "interpreter": {
   "hash": "c1b4cfe941b6d2466ad1fb5979e97da9cda8801728c8091b097ab734208fc00c"
  },
  "kernelspec": {
   "display_name": "Python 3.8.3 64-bit ('base': conda)",
   "name": "python3"
  },
  "language_info": {
   "codemirror_mode": {
    "name": "ipython",
    "version": 3
   },
   "file_extension": ".py",
   "mimetype": "text/x-python",
   "name": "python",
   "nbconvert_exporter": "python",
   "pygments_lexer": "ipython3",
   "version": "3.8.11"
  }
 },
 "nbformat": 4,
 "nbformat_minor": 2
}
