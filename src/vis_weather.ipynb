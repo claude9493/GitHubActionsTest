{
 "cells": [
  {
   "cell_type": "code",
   "execution_count": 1,
   "metadata": {
    "execution": {
     "iopub.execute_input": "2021-09-08T02:46:01.888262Z",
     "iopub.status.busy": "2021-09-08T02:46:01.887593Z",
     "iopub.status.idle": "2021-09-08T02:46:03.167025Z",
     "shell.execute_reply": "2021-09-08T02:46:03.166419Z"
    }
   },
   "outputs": [],
   "source": [
    "import json, yaml, requests\r\n",
    "from datetime import datetime\r\n",
    "from dateutil import tz\r\n",
    "import pandas as pd\r\n",
    "from PIL import Image\r\n",
    "from io import BytesIO\r\n",
    "import matplotlib.pyplot as plt\r\n",
    "import seaborn\r\n",
    "\r\n",
    "CONFIG_PATH = \"../config/config.yaml\""
   ]
  },
  {
   "cell_type": "code",
   "execution_count": 2,
   "metadata": {
    "execution": {
     "iopub.execute_input": "2021-09-08T02:46:03.175282Z",
     "iopub.status.busy": "2021-09-08T02:46:03.171800Z",
     "iopub.status.idle": "2021-09-08T02:46:03.177859Z",
     "shell.execute_reply": "2021-09-08T02:46:03.178310Z"
    }
   },
   "outputs": [],
   "source": [
    "with open('../newest_ts', 'r') as f:\r\n",
    "    newest_ts = f.read()\r\n",
    "\r\n",
    "data_path = f\"../data/data_{newest_ts}.json\"\r\n",
    "with open(data_path, 'r') as f:\r\n",
    "    data = json.load(f)\r\n",
    "\r\n",
    "with open(CONFIG_PATH, \"r\") as stream:\r\n",
    "    config = yaml.safe_load(stream)\r\n",
    "\r\n",
    "TIME_ZONE = config['time_zone']\r\n",
    "DATETIME_FORMAT = config['dt_format']"
   ]
  },
  {
   "cell_type": "code",
   "execution_count": 3,
   "metadata": {
    "execution": {
     "iopub.execute_input": "2021-09-08T02:46:03.183226Z",
     "iopub.status.busy": "2021-09-08T02:46:03.182663Z",
     "iopub.status.idle": "2021-09-08T02:46:03.210641Z",
     "shell.execute_reply": "2021-09-08T02:46:03.209944Z"
    }
   },
   "outputs": [
    {
     "name": "stdout",
     "output_type": "stream",
     "text": [
      "Recent query happens at 2021-09-08 10:45:59 (CST).\n"
     ]
    }
   ],
   "source": [
    "def ts2dt(ts, format=DATETIME_FORMAT):\r\n",
    "    dt = (datetime.utcfromtimestamp(int(ts))\r\n",
    "                    .replace(tzinfo=tz.tzutc())\r\n",
    "                    # .astimezone(tz.tzlocal())\r\n",
    "                    .astimezone(tz.gettz(TIME_ZONE)))\r\n",
    "    return dt.strftime(format), dt\r\n",
    "\r\n",
    "_, newest_dt = ts2dt(newest_ts)\r\n",
    "print(f\"Recent query happens at {newest_dt.strftime(DATETIME_FORMAT)} ({newest_dt.tzname()}).\")"
   ]
  },
  {
   "cell_type": "code",
   "execution_count": 4,
   "metadata": {
    "execution": {
     "iopub.execute_input": "2021-09-08T02:46:03.215808Z",
     "iopub.status.busy": "2021-09-08T02:46:03.215170Z",
     "iopub.status.idle": "2021-09-08T02:46:03.218932Z",
     "shell.execute_reply": "2021-09-08T02:46:03.218393Z"
    }
   },
   "outputs": [],
   "source": [
    "def degrees_to_cardinal(d):\r\n",
    "  dirs = ['N', 'NNE', 'NE', 'ENE', 'E', 'ESE', 'SE', 'SSE', 'S', 'SSW', 'SW', 'WSW', 'W', 'WNW', 'NW', 'NNW']\r\n",
    "  ix = int(round(d / (360. / len(dirs))))\r\n",
    "  return dirs[ix % len(dirs)]"
   ]
  },
  {
   "cell_type": "code",
   "execution_count": 5,
   "metadata": {
    "execution": {
     "iopub.execute_input": "2021-09-08T02:46:03.222839Z",
     "iopub.status.busy": "2021-09-08T02:46:03.222355Z",
     "iopub.status.idle": "2021-09-08T02:46:03.225792Z",
     "shell.execute_reply": "2021-09-08T02:46:03.226350Z"
    }
   },
   "outputs": [],
   "source": [
    "# data.keys()"
   ]
  },
  {
   "cell_type": "code",
   "execution_count": 6,
   "metadata": {
    "execution": {
     "iopub.execute_input": "2021-09-08T02:46:03.230182Z",
     "iopub.status.busy": "2021-09-08T02:46:03.229703Z",
     "iopub.status.idle": "2021-09-08T02:46:03.233241Z",
     "shell.execute_reply": "2021-09-08T02:46:03.232694Z"
    }
   },
   "outputs": [],
   "source": [
    "# data['current']"
   ]
  },
  {
   "cell_type": "code",
   "execution_count": 7,
   "metadata": {
    "execution": {
     "iopub.execute_input": "2021-09-08T02:46:03.255230Z",
     "iopub.status.busy": "2021-09-08T02:46:03.254151Z",
     "iopub.status.idle": "2021-09-08T02:46:03.680062Z",
     "shell.execute_reply": "2021-09-08T02:46:03.680982Z"
    }
   },
   "outputs": [
    {
     "data": {
      "image/png": "[encoded data removed]",
      "text/plain": [
       "<Figure size 216x216 with 1 Axes>"
      ]
     },
     "metadata": {
      "needs_background": "light"
     },
     "output_type": "display_data"
    },
    {
     "name": "stdout",
     "output_type": "stream",
     "text": [
      "Today, sun rises at 06:07 and sets at 18:33.\n",
      "Currently, the weather is Clear (clear sky).\n",
      "The temperature is 32.61°C and it feels like 39.61°C.\n",
      "The UV index is 9.25, humidity is 70%.\n",
      "The pressure is 1010 hPa, percentage of cloud cover is 4%\n",
      "The wind comes from E direction with a speed 3.44 m/s.\n"
     ]
    }
   ],
   "source": [
    "current = data['current']\r\n",
    "\r\n",
    "fig, ax = plt.subplots(figsize=(3, 3))\r\n",
    "icon = requests.get(f\"http://openweathermap.org/img/wn/{current['weather'][0]['icon']}@2x.png\")\r\n",
    "im = Image.open(BytesIO(icon.content))\r\n",
    "plt.imshow(im)\r\n",
    "ax.set_axis_off()\r\n",
    "plt.show()\r\n",
    "\r\n",
    "print(f\"Today, sun rises at {ts2dt(current['sunrise'], '%H:%M')[0]} \\\r\n",
    "and sets at {ts2dt(current['sunset'], '%H:%M')[0]}.\\n\\\r\n",
    "Currently, the weather is {current['weather'][0]['main']} ({current['weather'][0]['description']}).\\n\\\r\n",
    "The temperature is {current['temp']}°C and it feels like {current['feels_like']}°C.\\n\\\r\n",
    "The UV index is {current['uvi']}, humidity is {current['humidity']}%.\\n\\\r\n",
    "The pressure is {current['pressure']} hPa, percentage of cloud cover is {current['clouds']}%\\n\\\r\n",
    "The wind comes from {degrees_to_cardinal(current['wind_deg'])} direction with a speed {current['wind_speed']} m/s.\")"
   ]
  },
  {
   "cell_type": "code",
   "execution_count": 8,
   "metadata": {
    "execution": {
     "iopub.execute_input": "2021-09-08T02:46:03.688500Z",
     "iopub.status.busy": "2021-09-08T02:46:03.687464Z",
     "iopub.status.idle": "2021-09-08T02:46:03.691782Z",
     "shell.execute_reply": "2021-09-08T02:46:03.692527Z"
    }
   },
   "outputs": [],
   "source": [
    "df_hourly = pd.DataFrame(data['hourly'])\r\n",
    "df_daily = pd.DataFrame(data['daily'])"
   ]
  },
  {
   "cell_type": "code",
   "execution_count": 9,
   "metadata": {
    "execution": {
     "iopub.execute_input": "2021-09-08T02:46:03.695815Z",
     "iopub.status.busy": "2021-09-08T02:46:03.694775Z",
     "iopub.status.idle": "2021-09-08T02:46:04.035331Z",
     "shell.execute_reply": "2021-09-08T02:46:04.036145Z"
    }
   },
   "outputs": [
    {
     "data": {
      "image/png": "[encoded data removed]",
      "text/plain": [
       "<Figure size 864x432 with 1 Axes>"
      ]
     },
     "metadata": {
      "needs_background": "light"
     },
     "output_type": "display_data"
    }
   ],
   "source": [
    "fig, ax = plt.subplots(figsize=(12, 6))\r\n",
    "plt.plot(df_hourly.temp, '.-', label='Temperature')\r\n",
    "plt.plot(df_hourly.feels_like, '.-', label='Feels Like')\r\n",
    "ax.set(title='Temperature in future 48 hours', xlabel='Time', ylabel='Temperature')\r\n",
    "ax.set_xticks(list(range(0, len(df_hourly), 2)))\r\n",
    "ax.set_xticklabels([ts2dt(ts, '%m-%d %H:%M')[0] for i, ts in enumerate(df_hourly.dt) if i%2==0], \r\n",
    "                   rotation=45, ha=\"right\")\r\n",
    "ax.locator_params(nbins=15, axis='y')\r\n",
    "plt.legend()\r\n",
    "plt.show()"
   ]
  },
  {
   "cell_type": "code",
   "execution_count": 10,
   "metadata": {
    "execution": {
     "iopub.execute_input": "2021-09-08T02:46:04.050652Z",
     "iopub.status.busy": "2021-09-08T02:46:04.040792Z",
     "iopub.status.idle": "2021-09-08T02:46:04.066624Z",
     "shell.execute_reply": "2021-09-08T02:46:04.067063Z"
    }
   },
   "outputs": [
    {
     "data": {
      "text/html": [
       "<div>\n",
       "<style scoped>\n",
       "    .dataframe tbody tr th:only-of-type {\n",
       "        vertical-align: middle;\n",
       "    }\n",
       "\n",
       "    .dataframe tbody tr th {\n",
       "        vertical-align: top;\n",
       "    }\n",
       "\n",
       "    .dataframe thead th {\n",
       "        text-align: right;\n",
       "    }\n",
       "</style>\n",
       "<table border=\"1\" class=\"dataframe\">\n",
       "  <thead>\n",
       "    <tr style=\"text-align: right;\">\n",
       "      <th></th>\n",
       "      <th>dt</th>\n",
       "      <th>temp</th>\n",
       "      <th>feels_like</th>\n",
       "      <th>pressure</th>\n",
       "      <th>humidity</th>\n",
       "      <th>dew_point</th>\n",
       "      <th>uvi</th>\n",
       "      <th>clouds</th>\n",
       "      <th>visibility</th>\n",
       "      <th>wind_speed</th>\n",
       "      <th>wind_deg</th>\n",
       "      <th>wind_gust</th>\n",
       "      <th>weather</th>\n",
       "      <th>pop</th>\n",
       "      <th>rain</th>\n",
       "    </tr>\n",
       "  </thead>\n",
       "  <tbody>\n",
       "    <tr>\n",
       "      <th>0</th>\n",
       "      <td>1631066400</td>\n",
       "      <td>31.97</td>\n",
       "      <td>38.97</td>\n",
       "      <td>1010</td>\n",
       "      <td>71</td>\n",
       "      <td>26.05</td>\n",
       "      <td>6.52</td>\n",
       "      <td>4</td>\n",
       "      <td>10000</td>\n",
       "      <td>3.16</td>\n",
       "      <td>71</td>\n",
       "      <td>3.53</td>\n",
       "      <td>[{'id': 800, 'main': 'Clear', 'description': '...</td>\n",
       "      <td>0.04</td>\n",
       "      <td>NaN</td>\n",
       "    </tr>\n",
       "    <tr>\n",
       "      <th>1</th>\n",
       "      <td>1631070000</td>\n",
       "      <td>32.61</td>\n",
       "      <td>39.61</td>\n",
       "      <td>1010</td>\n",
       "      <td>70</td>\n",
       "      <td>26.42</td>\n",
       "      <td>9.25</td>\n",
       "      <td>4</td>\n",
       "      <td>10000</td>\n",
       "      <td>3.44</td>\n",
       "      <td>79</td>\n",
       "      <td>3.58</td>\n",
       "      <td>[{'id': 800, 'main': 'Clear', 'description': '...</td>\n",
       "      <td>0.00</td>\n",
       "      <td>NaN</td>\n",
       "    </tr>\n",
       "    <tr>\n",
       "      <th>2</th>\n",
       "      <td>1631073600</td>\n",
       "      <td>32.11</td>\n",
       "      <td>39.11</td>\n",
       "      <td>1010</td>\n",
       "      <td>69</td>\n",
       "      <td>25.70</td>\n",
       "      <td>10.62</td>\n",
       "      <td>4</td>\n",
       "      <td>10000</td>\n",
       "      <td>3.82</td>\n",
       "      <td>88</td>\n",
       "      <td>3.80</td>\n",
       "      <td>[{'id': 500, 'main': 'Rain', 'description': 'l...</td>\n",
       "      <td>0.24</td>\n",
       "      <td>{'1h': 0.15}</td>\n",
       "    </tr>\n",
       "    <tr>\n",
       "      <th>3</th>\n",
       "      <td>1631077200</td>\n",
       "      <td>31.70</td>\n",
       "      <td>38.70</td>\n",
       "      <td>1010</td>\n",
       "      <td>68</td>\n",
       "      <td>25.06</td>\n",
       "      <td>10.46</td>\n",
       "      <td>4</td>\n",
       "      <td>10000</td>\n",
       "      <td>3.86</td>\n",
       "      <td>98</td>\n",
       "      <td>3.73</td>\n",
       "      <td>[{'id': 800, 'main': 'Clear', 'description': '...</td>\n",
       "      <td>0.04</td>\n",
       "      <td>NaN</td>\n",
       "    </tr>\n",
       "    <tr>\n",
       "      <th>4</th>\n",
       "      <td>1631080800</td>\n",
       "      <td>31.24</td>\n",
       "      <td>37.63</td>\n",
       "      <td>1009</td>\n",
       "      <td>68</td>\n",
       "      <td>24.63</td>\n",
       "      <td>8.62</td>\n",
       "      <td>5</td>\n",
       "      <td>10000</td>\n",
       "      <td>3.91</td>\n",
       "      <td>108</td>\n",
       "      <td>3.71</td>\n",
       "      <td>[{'id': 800, 'main': 'Clear', 'description': '...</td>\n",
       "      <td>0.04</td>\n",
       "      <td>NaN</td>\n",
       "    </tr>\n",
       "  </tbody>\n",
       "</table>\n",
       "</div>"
      ],
      "text/plain": [
       "           dt   temp  feels_like  pressure  humidity  dew_point    uvi  \\\n",
       "0  1631066400  31.97       38.97      1010        71      26.05   6.52   \n",
       "1  1631070000  32.61       39.61      1010        70      26.42   9.25   \n",
       "2  1631073600  32.11       39.11      1010        69      25.70  10.62   \n",
       "3  1631077200  31.70       38.70      1010        68      25.06  10.46   \n",
       "4  1631080800  31.24       37.63      1009        68      24.63   8.62   \n",
       "\n",
       "   clouds  visibility  wind_speed  wind_deg  wind_gust  \\\n",
       "0       4       10000        3.16        71       3.53   \n",
       "1       4       10000        3.44        79       3.58   \n",
       "2       4       10000        3.82        88       3.80   \n",
       "3       4       10000        3.86        98       3.73   \n",
       "4       5       10000        3.91       108       3.71   \n",
       "\n",
       "                                             weather   pop          rain  \n",
       "0  [{'id': 800, 'main': 'Clear', 'description': '...  0.04           NaN  \n",
       "1  [{'id': 800, 'main': 'Clear', 'description': '...  0.00           NaN  \n",
       "2  [{'id': 500, 'main': 'Rain', 'description': 'l...  0.24  {'1h': 0.15}  \n",
       "3  [{'id': 800, 'main': 'Clear', 'description': '...  0.04           NaN  \n",
       "4  [{'id': 800, 'main': 'Clear', 'description': '...  0.04           NaN  "
      ]
     },
     "execution_count": 10,
     "metadata": {},
     "output_type": "execute_result"
    }
   ],
   "source": [
    "df_hourly.head()"
   ]
  },
  {
   "cell_type": "code",
   "execution_count": null,
   "metadata": {},
   "outputs": [],
   "source": []
  }
 ],
 "metadata": {
  "interpreter": {
   "hash": "c1b4cfe941b6d2466ad1fb5979e97da9cda8801728c8091b097ab734208fc00c"
  },
  "kernelspec": {
   "display_name": "Python 3.8.3 64-bit ('base': conda)",
   "name": "python3"
  },
  "language_info": {
   "codemirror_mode": {
    "name": "ipython",
    "version": 3
   },
   "file_extension": ".py",
   "mimetype": "text/x-python",
   "name": "python",
   "nbconvert_exporter": "python",
   "pygments_lexer": "ipython3",
   "version": "3.8.11"
  }
 },
 "nbformat": 4,
 "nbformat_minor": 2
}
