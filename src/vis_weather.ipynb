{
 "cells": [
  {
   "cell_type": "code",
   "execution_count": 1,
   "metadata": {
    "execution": {
     "iopub.execute_input": "2021-09-02T17:03:00.916001Z",
     "iopub.status.busy": "2021-09-02T17:03:00.915437Z",
     "iopub.status.idle": "2021-09-02T17:03:02.167330Z",
     "shell.execute_reply": "2021-09-02T17:03:02.166742Z"
    }
   },
   "outputs": [],
   "source": [
    "import json, yaml, requests\r\n",
    "from datetime import datetime\r\n",
    "from dateutil import tz\r\n",
    "import pandas as pd\r\n",
    "from PIL import Image\r\n",
    "from io import BytesIO\r\n",
    "import matplotlib.pyplot as plt\r\n",
    "import seaborn\r\n",
    "\r\n",
    "CONFIG_PATH = \"../config/config.yaml\""
   ]
  },
  {
   "cell_type": "code",
   "execution_count": 2,
   "metadata": {
    "execution": {
     "iopub.execute_input": "2021-09-02T17:03:02.174754Z",
     "iopub.status.busy": "2021-09-02T17:03:02.171980Z",
     "iopub.status.idle": "2021-09-02T17:03:02.177215Z",
     "shell.execute_reply": "2021-09-02T17:03:02.176839Z"
    }
   },
   "outputs": [],
   "source": [
    "with open('../newest_ts', 'r') as f:\r\n",
    "    newest_ts = f.read()\r\n",
    "\r\n",
    "data_path = f\"../data/data_{newest_ts}.json\"\r\n",
    "with open(data_path, 'r') as f:\r\n",
    "    data = json.load(f)\r\n",
    "\r\n",
    "with open(CONFIG_PATH, \"r\") as stream:\r\n",
    "    config = yaml.safe_load(stream)\r\n",
    "\r\n",
    "TIME_ZONE = config['time_zone']\r\n",
    "DATETIME_FORMAT = config['dt_format']"
   ]
  },
  {
   "cell_type": "code",
   "execution_count": 3,
   "metadata": {
    "execution": {
     "iopub.execute_input": "2021-09-02T17:03:02.181375Z",
     "iopub.status.busy": "2021-09-02T17:03:02.180898Z",
     "iopub.status.idle": "2021-09-02T17:03:02.185154Z",
     "shell.execute_reply": "2021-09-02T17:03:02.185526Z"
    }
   },
   "outputs": [
    {
     "name": "stdout",
     "output_type": "stream",
     "text": [
      "Recent query happens at 2021-09-03 01:02:58 (CST).\n"
     ]
    }
   ],
   "source": [
    "def ts2dt(ts, format=DATETIME_FORMAT):\r\n",
    "    dt = (datetime.utcfromtimestamp(int(ts))\r\n",
    "                    .replace(tzinfo=tz.tzutc())\r\n",
    "                    # .astimezone(tz.tzlocal())\r\n",
    "                    .astimezone(tz.gettz(TIME_ZONE)))\r\n",
    "    return dt.strftime(format), dt\r\n",
    "\r\n",
    "_, newest_dt = ts2dt(newest_ts)\r\n",
    "print(f\"Recent query happens at {newest_dt.strftime(DATETIME_FORMAT)} ({newest_dt.tzname()}).\")"
   ]
  },
  {
   "cell_type": "code",
   "execution_count": 4,
   "metadata": {
    "execution": {
     "iopub.execute_input": "2021-09-02T17:03:02.190073Z",
     "iopub.status.busy": "2021-09-02T17:03:02.189190Z",
     "iopub.status.idle": "2021-09-02T17:03:02.190745Z",
     "shell.execute_reply": "2021-09-02T17:03:02.191117Z"
    }
   },
   "outputs": [],
   "source": [
    "def degrees_to_cardinal(d):\r\n",
    "  dirs = ['N', 'NNE', 'NE', 'ENE', 'E', 'ESE', 'SE', 'SSE', 'S', 'SSW', 'SW', 'WSW', 'W', 'WNW', 'NW', 'NNW']\r\n",
    "  ix = int(round(d / (360. / len(dirs))))\r\n",
    "  return dirs[ix % len(dirs)]"
   ]
  },
  {
   "cell_type": "code",
   "execution_count": 5,
   "metadata": {
    "execution": {
     "iopub.execute_input": "2021-09-02T17:03:02.194844Z",
     "iopub.status.busy": "2021-09-02T17:03:02.193870Z",
     "iopub.status.idle": "2021-09-02T17:03:02.195363Z",
     "shell.execute_reply": "2021-09-02T17:03:02.195744Z"
    }
   },
   "outputs": [],
   "source": [
    "# data.keys()"
   ]
  },
  {
   "cell_type": "code",
   "execution_count": 6,
   "metadata": {
    "execution": {
     "iopub.execute_input": "2021-09-02T17:03:02.199167Z",
     "iopub.status.busy": "2021-09-02T17:03:02.198220Z",
     "iopub.status.idle": "2021-09-02T17:03:02.199706Z",
     "shell.execute_reply": "2021-09-02T17:03:02.200074Z"
    }
   },
   "outputs": [],
   "source": [
    "# data['current']"
   ]
  },
  {
   "cell_type": "code",
   "execution_count": 7,
   "metadata": {
    "execution": {
     "iopub.execute_input": "2021-09-02T17:03:02.205545Z",
     "iopub.status.busy": "2021-09-02T17:03:02.204529Z",
     "iopub.status.idle": "2021-09-02T17:03:02.504151Z",
     "shell.execute_reply": "2021-09-02T17:03:02.504596Z"
    }
   },
   "outputs": [
    {
     "data": {
      "image/png": "[encoded data removed]",
      "text/plain": [
       "<Figure size 216x216 with 1 Axes>"
      ]
     },
     "metadata": {
      "needs_background": "light"
     },
     "output_type": "display_data"
    },
    {
     "name": "stdout",
     "output_type": "stream",
     "text": [
      "Today, sun rises at 06:06 and sets at 18:38.\n",
      "Currently, the weather is Clouds (few clouds).\n",
      "The temperature is 29.23°C and it feels like 36.1°C.\n",
      "The UV index is 0, humidity is 83%.\n",
      "The pressure is 1009 hPa, percentage of cloud cover is 14%\n",
      "The wind comes from SE direction with a speed 2.45 m/s.\n"
     ]
    }
   ],
   "source": [
    "current = data['current']\r\n",
    "\r\n",
    "fig, ax = plt.subplots(figsize=(3, 3))\r\n",
    "icon = requests.get(f\"http://openweathermap.org/img/wn/{current['weather'][0]['icon']}@2x.png\")\r\n",
    "im = Image.open(BytesIO(icon.content))\r\n",
    "plt.imshow(im)\r\n",
    "ax.set_axis_off()\r\n",
    "plt.show()\r\n",
    "\r\n",
    "print(f\"Today, sun rises at {ts2dt(current['sunrise'], '%H:%M')[0]} \\\r\n",
    "and sets at {ts2dt(current['sunset'], '%H:%M')[0]}.\\n\\\r\n",
    "Currently, the weather is {current['weather'][0]['main']} ({current['weather'][0]['description']}).\\n\\\r\n",
    "The temperature is {current['temp']}°C and it feels like {current['feels_like']}°C.\\n\\\r\n",
    "The UV index is {current['uvi']}, humidity is {current['humidity']}%.\\n\\\r\n",
    "The pressure is {current['pressure']} hPa, percentage of cloud cover is {current['clouds']}%\\n\\\r\n",
    "The wind comes from {degrees_to_cardinal(current['wind_deg'])} direction with a speed {current['wind_speed']} m/s.\")"
   ]
  },
  {
   "cell_type": "code",
   "execution_count": 8,
   "metadata": {
    "execution": {
     "iopub.execute_input": "2021-09-02T17:03:02.506970Z",
     "iopub.status.busy": "2021-09-02T17:03:02.506523Z",
     "iopub.status.idle": "2021-09-02T17:03:02.511996Z",
     "shell.execute_reply": "2021-09-02T17:03:02.512423Z"
    }
   },
   "outputs": [],
   "source": [
    "df_hourly = pd.DataFrame(data['hourly'])\r\n",
    "df_daily = pd.DataFrame(data['daily'])"
   ]
  },
  {
   "cell_type": "code",
   "execution_count": 9,
   "metadata": {
    "execution": {
     "iopub.execute_input": "2021-09-02T17:03:02.514517Z",
     "iopub.status.busy": "2021-09-02T17:03:02.514077Z",
     "iopub.status.idle": "2021-09-02T17:03:02.753117Z",
     "shell.execute_reply": "2021-09-02T17:03:02.751673Z"
    }
   },
   "outputs": [
    {
     "data": {
      "image/png": "[encoded data removed]",
      "text/plain": [
       "<Figure size 864x432 with 1 Axes>"
      ]
     },
     "metadata": {
      "needs_background": "light"
     },
     "output_type": "display_data"
    }
   ],
   "source": [
    "fig, ax = plt.subplots(figsize=(12, 6))\r\n",
    "plt.plot(df_hourly.temp, '.-', label='Temperature')\r\n",
    "plt.plot(df_hourly.feels_like, '.-', label='Feels Like')\r\n",
    "ax.set(title='Temperature in future 48 hours', xlabel='Time', ylabel='Temperature')\r\n",
    "ax.set_xticks(list(range(0, len(df_hourly), 2)))\r\n",
    "ax.set_xticklabels([ts2dt(ts, '%m-%d %H:%M')[0] for i, ts in enumerate(df_hourly.dt) if i%2==0], \r\n",
    "                   rotation=45, ha=\"right\")\r\n",
    "ax.locator_params(nbins=15, axis='y')\r\n",
    "plt.legend()\r\n",
    "plt.show()"
   ]
  },
  {
   "cell_type": "code",
   "execution_count": 10,
   "metadata": {
    "execution": {
     "iopub.execute_input": "2021-09-02T17:03:02.757464Z",
     "iopub.status.busy": "2021-09-02T17:03:02.757018Z",
     "iopub.status.idle": "2021-09-02T17:03:02.774714Z",
     "shell.execute_reply": "2021-09-02T17:03:02.775091Z"
    }
   },
   "outputs": [
    {
     "data": {
      "text/html": [
       "<div>\n",
       "<style scoped>\n",
       "    .dataframe tbody tr th:only-of-type {\n",
       "        vertical-align: middle;\n",
       "    }\n",
       "\n",
       "    .dataframe tbody tr th {\n",
       "        vertical-align: top;\n",
       "    }\n",
       "\n",
       "    .dataframe thead th {\n",
       "        text-align: right;\n",
       "    }\n",
       "</style>\n",
       "<table border=\"1\" class=\"dataframe\">\n",
       "  <thead>\n",
       "    <tr style=\"text-align: right;\">\n",
       "      <th></th>\n",
       "      <th>dt</th>\n",
       "      <th>temp</th>\n",
       "      <th>feels_like</th>\n",
       "      <th>pressure</th>\n",
       "      <th>humidity</th>\n",
       "      <th>dew_point</th>\n",
       "      <th>uvi</th>\n",
       "      <th>clouds</th>\n",
       "      <th>visibility</th>\n",
       "      <th>wind_speed</th>\n",
       "      <th>wind_deg</th>\n",
       "      <th>wind_gust</th>\n",
       "      <th>weather</th>\n",
       "      <th>pop</th>\n",
       "      <th>rain</th>\n",
       "    </tr>\n",
       "  </thead>\n",
       "  <tbody>\n",
       "    <tr>\n",
       "      <th>0</th>\n",
       "      <td>1630602000</td>\n",
       "      <td>29.23</td>\n",
       "      <td>36.10</td>\n",
       "      <td>1009</td>\n",
       "      <td>83</td>\n",
       "      <td>26.04</td>\n",
       "      <td>0.0</td>\n",
       "      <td>14</td>\n",
       "      <td>10000</td>\n",
       "      <td>2.45</td>\n",
       "      <td>140</td>\n",
       "      <td>3.04</td>\n",
       "      <td>[{'id': 801, 'main': 'Clouds', 'description': ...</td>\n",
       "      <td>0.04</td>\n",
       "      <td>NaN</td>\n",
       "    </tr>\n",
       "    <tr>\n",
       "      <th>1</th>\n",
       "      <td>1630605600</td>\n",
       "      <td>28.90</td>\n",
       "      <td>34.89</td>\n",
       "      <td>1009</td>\n",
       "      <td>82</td>\n",
       "      <td>25.51</td>\n",
       "      <td>0.0</td>\n",
       "      <td>14</td>\n",
       "      <td>10000</td>\n",
       "      <td>1.81</td>\n",
       "      <td>133</td>\n",
       "      <td>2.30</td>\n",
       "      <td>[{'id': 801, 'main': 'Clouds', 'description': ...</td>\n",
       "      <td>0.04</td>\n",
       "      <td>NaN</td>\n",
       "    </tr>\n",
       "    <tr>\n",
       "      <th>2</th>\n",
       "      <td>1630609200</td>\n",
       "      <td>28.51</td>\n",
       "      <td>33.79</td>\n",
       "      <td>1008</td>\n",
       "      <td>82</td>\n",
       "      <td>25.13</td>\n",
       "      <td>0.0</td>\n",
       "      <td>36</td>\n",
       "      <td>10000</td>\n",
       "      <td>1.42</td>\n",
       "      <td>140</td>\n",
       "      <td>1.88</td>\n",
       "      <td>[{'id': 802, 'main': 'Clouds', 'description': ...</td>\n",
       "      <td>0.00</td>\n",
       "      <td>NaN</td>\n",
       "    </tr>\n",
       "    <tr>\n",
       "      <th>3</th>\n",
       "      <td>1630612800</td>\n",
       "      <td>28.07</td>\n",
       "      <td>32.43</td>\n",
       "      <td>1008</td>\n",
       "      <td>81</td>\n",
       "      <td>24.50</td>\n",
       "      <td>0.0</td>\n",
       "      <td>46</td>\n",
       "      <td>10000</td>\n",
       "      <td>0.94</td>\n",
       "      <td>136</td>\n",
       "      <td>1.29</td>\n",
       "      <td>[{'id': 802, 'main': 'Clouds', 'description': ...</td>\n",
       "      <td>0.00</td>\n",
       "      <td>NaN</td>\n",
       "    </tr>\n",
       "    <tr>\n",
       "      <th>4</th>\n",
       "      <td>1630616400</td>\n",
       "      <td>27.60</td>\n",
       "      <td>31.38</td>\n",
       "      <td>1007</td>\n",
       "      <td>82</td>\n",
       "      <td>24.25</td>\n",
       "      <td>0.0</td>\n",
       "      <td>45</td>\n",
       "      <td>10000</td>\n",
       "      <td>0.61</td>\n",
       "      <td>110</td>\n",
       "      <td>0.93</td>\n",
       "      <td>[{'id': 802, 'main': 'Clouds', 'description': ...</td>\n",
       "      <td>0.00</td>\n",
       "      <td>NaN</td>\n",
       "    </tr>\n",
       "  </tbody>\n",
       "</table>\n",
       "</div>"
      ],
      "text/plain": [
       "           dt   temp  feels_like  pressure  humidity  dew_point  uvi  clouds  \\\n",
       "0  1630602000  29.23       36.10      1009        83      26.04  0.0      14   \n",
       "1  1630605600  28.90       34.89      1009        82      25.51  0.0      14   \n",
       "2  1630609200  28.51       33.79      1008        82      25.13  0.0      36   \n",
       "3  1630612800  28.07       32.43      1008        81      24.50  0.0      46   \n",
       "4  1630616400  27.60       31.38      1007        82      24.25  0.0      45   \n",
       "\n",
       "   visibility  wind_speed  wind_deg  wind_gust  \\\n",
       "0       10000        2.45       140       3.04   \n",
       "1       10000        1.81       133       2.30   \n",
       "2       10000        1.42       140       1.88   \n",
       "3       10000        0.94       136       1.29   \n",
       "4       10000        0.61       110       0.93   \n",
       "\n",
       "                                             weather   pop rain  \n",
       "0  [{'id': 801, 'main': 'Clouds', 'description': ...  0.04  NaN  \n",
       "1  [{'id': 801, 'main': 'Clouds', 'description': ...  0.04  NaN  \n",
       "2  [{'id': 802, 'main': 'Clouds', 'description': ...  0.00  NaN  \n",
       "3  [{'id': 802, 'main': 'Clouds', 'description': ...  0.00  NaN  \n",
       "4  [{'id': 802, 'main': 'Clouds', 'description': ...  0.00  NaN  "
      ]
     },
     "execution_count": 10,
     "metadata": {},
     "output_type": "execute_result"
    }
   ],
   "source": [
    "df_hourly.head()"
   ]
  },
  {
   "cell_type": "code",
   "execution_count": null,
   "metadata": {},
   "outputs": [],
   "source": []
  }
 ],
 "metadata": {
  "interpreter": {
   "hash": "c1b4cfe941b6d2466ad1fb5979e97da9cda8801728c8091b097ab734208fc00c"
  },
  "kernelspec": {
   "display_name": "Python 3.8.3 64-bit ('base': conda)",
   "name": "python3"
  },
  "language_info": {
   "codemirror_mode": {
    "name": "ipython",
    "version": 3
   },
   "file_extension": ".py",
   "mimetype": "text/x-python",
   "name": "python",
   "nbconvert_exporter": "python",
   "pygments_lexer": "ipython3",
   "version": "3.8.11"
  }
 },
 "nbformat": 4,
 "nbformat_minor": 2
}
