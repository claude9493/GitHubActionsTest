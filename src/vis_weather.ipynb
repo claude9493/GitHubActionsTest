{
 "cells": [
  {
   "cell_type": "code",
   "execution_count": 1,
   "metadata": {
    "execution": {
     "iopub.execute_input": "2021-10-13T10:12:40.530726Z",
     "iopub.status.busy": "2021-10-13T10:12:40.530120Z",
     "iopub.status.idle": "2021-10-13T10:12:41.793693Z",
     "shell.execute_reply": "2021-10-13T10:12:41.793146Z"
    }
   },
   "outputs": [],
   "source": [
    "import json, yaml, requests\r\n",
    "from datetime import datetime\r\n",
    "from dateutil import tz\r\n",
    "import pandas as pd\r\n",
    "from PIL import Image\r\n",
    "from io import BytesIO\r\n",
    "import matplotlib.pyplot as plt\r\n",
    "import seaborn\r\n",
    "\r\n",
    "CONFIG_PATH = \"../config/config.yaml\""
   ]
  },
  {
   "cell_type": "code",
   "execution_count": 2,
   "metadata": {
    "execution": {
     "iopub.execute_input": "2021-10-13T10:12:41.800951Z",
     "iopub.status.busy": "2021-10-13T10:12:41.797978Z",
     "iopub.status.idle": "2021-10-13T10:12:41.804485Z",
     "shell.execute_reply": "2021-10-13T10:12:41.803778Z"
    }
   },
   "outputs": [],
   "source": [
    "with open('../newest_ts', 'r') as f:\r\n",
    "    newest_ts = f.read()\r\n",
    "\r\n",
    "data_path = f\"../data/data_{newest_ts}.json\"\r\n",
    "with open(data_path, 'r') as f:\r\n",
    "    data = json.load(f)\r\n",
    "\r\n",
    "with open(CONFIG_PATH, \"r\") as stream:\r\n",
    "    config = yaml.safe_load(stream)\r\n",
    "\r\n",
    "TIME_ZONE = config['time_zone']\r\n",
    "DATETIME_FORMAT = config['dt_format']"
   ]
  },
  {
   "cell_type": "code",
   "execution_count": 3,
   "metadata": {
    "execution": {
     "iopub.execute_input": "2021-10-13T10:12:41.808821Z",
     "iopub.status.busy": "2021-10-13T10:12:41.808357Z",
     "iopub.status.idle": "2021-10-13T10:12:41.839666Z",
     "shell.execute_reply": "2021-10-13T10:12:41.839232Z"
    }
   },
   "outputs": [
    {
     "name": "stdout",
     "output_type": "stream",
     "text": [
      "Recent query happens at 2021-10-13 18:12:37 (CST).\n"
     ]
    }
   ],
   "source": [
    "def ts2dt(ts, format=DATETIME_FORMAT):\r\n",
    "    dt = (datetime.utcfromtimestamp(int(ts))\r\n",
    "                    .replace(tzinfo=tz.tzutc())\r\n",
    "                    # .astimezone(tz.tzlocal())\r\n",
    "                    .astimezone(tz.gettz(TIME_ZONE)))\r\n",
    "    return dt.strftime(format), dt\r\n",
    "\r\n",
    "_, newest_dt = ts2dt(newest_ts)\r\n",
    "print(f\"Recent query happens at {newest_dt.strftime(DATETIME_FORMAT)} ({newest_dt.tzname()}).\")"
   ]
  },
  {
   "cell_type": "code",
   "execution_count": 4,
   "metadata": {
    "execution": {
     "iopub.execute_input": "2021-10-13T10:12:41.845285Z",
     "iopub.status.busy": "2021-10-13T10:12:41.844112Z",
     "iopub.status.idle": "2021-10-13T10:12:41.845809Z",
     "shell.execute_reply": "2021-10-13T10:12:41.846202Z"
    }
   },
   "outputs": [],
   "source": [
    "def degrees_to_cardinal(d):\r\n",
    "  dirs = ['N', 'NNE', 'NE', 'ENE', 'E', 'ESE', 'SE', 'SSE', 'S', 'SSW', 'SW', 'WSW', 'W', 'WNW', 'NW', 'NNW']\r\n",
    "  ix = int(round(d / (360. / len(dirs))))\r\n",
    "  return dirs[ix % len(dirs)]"
   ]
  },
  {
   "cell_type": "code",
   "execution_count": 5,
   "metadata": {
    "execution": {
     "iopub.execute_input": "2021-10-13T10:12:41.850165Z",
     "iopub.status.busy": "2021-10-13T10:12:41.849092Z",
     "iopub.status.idle": "2021-10-13T10:12:41.850686Z",
     "shell.execute_reply": "2021-10-13T10:12:41.851046Z"
    }
   },
   "outputs": [],
   "source": [
    "# data.keys()"
   ]
  },
  {
   "cell_type": "code",
   "execution_count": 6,
   "metadata": {
    "execution": {
     "iopub.execute_input": "2021-10-13T10:12:41.854806Z",
     "iopub.status.busy": "2021-10-13T10:12:41.853659Z",
     "iopub.status.idle": "2021-10-13T10:12:41.855333Z",
     "shell.execute_reply": "2021-10-13T10:12:41.855705Z"
    }
   },
   "outputs": [],
   "source": [
    "# data['current']"
   ]
  },
  {
   "cell_type": "code",
   "execution_count": 7,
   "metadata": {
    "execution": {
     "iopub.execute_input": "2021-10-13T10:12:41.872481Z",
     "iopub.status.busy": "2021-10-13T10:12:41.871998Z",
     "iopub.status.idle": "2021-10-13T10:12:42.136067Z",
     "shell.execute_reply": "2021-10-13T10:12:42.136729Z"
    }
   },
   "outputs": [
    {
     "data": {
      "image/png": "[encoded data removed]",
      "text/plain": [
       "<Figure size 216x216 with 1 Axes>"
      ]
     },
     "metadata": {
      "needs_background": "light"
     },
     "output_type": "display_data"
    },
    {
     "name": "stdout",
     "output_type": "stream",
     "text": [
      "Today, sun rises at 06:18 and sets at 17:59.\n",
      "Currently, the weather is Rain (light rain).\n",
      "The temperature is 26.81°C and it feels like 30.48°C.\n",
      "The UV index is 0, humidity is 93%.\n",
      "The pressure is 1003 hPa, percentage of cloud cover is 99%\n",
      "The wind comes from N direction with a speed 0.89 m/s.\n"
     ]
    }
   ],
   "source": [
    "current = data['current']\r\n",
    "\r\n",
    "fig, ax = plt.subplots(figsize=(3, 3))\r\n",
    "icon = requests.get(f\"http://openweathermap.org/img/wn/{current['weather'][0]['icon']}@2x.png\")\r\n",
    "im = Image.open(BytesIO(icon.content))\r\n",
    "plt.imshow(im)\r\n",
    "ax.set_axis_off()\r\n",
    "plt.show()\r\n",
    "\r\n",
    "print(f\"Today, sun rises at {ts2dt(current['sunrise'], '%H:%M')[0]} \\\r\n",
    "and sets at {ts2dt(current['sunset'], '%H:%M')[0]}.\\n\\\r\n",
    "Currently, the weather is {current['weather'][0]['main']} ({current['weather'][0]['description']}).\\n\\\r\n",
    "The temperature is {current['temp']}°C and it feels like {current['feels_like']}°C.\\n\\\r\n",
    "The UV index is {current['uvi']}, humidity is {current['humidity']}%.\\n\\\r\n",
    "The pressure is {current['pressure']} hPa, percentage of cloud cover is {current['clouds']}%\\n\\\r\n",
    "The wind comes from {degrees_to_cardinal(current['wind_deg'])} direction with a speed {current['wind_speed']} m/s.\")"
   ]
  },
  {
   "cell_type": "code",
   "execution_count": 8,
   "metadata": {
    "execution": {
     "iopub.execute_input": "2021-10-13T10:12:42.139738Z",
     "iopub.status.busy": "2021-10-13T10:12:42.139282Z",
     "iopub.status.idle": "2021-10-13T10:12:42.145602Z",
     "shell.execute_reply": "2021-10-13T10:12:42.146262Z"
    }
   },
   "outputs": [],
   "source": [
    "df_hourly = pd.DataFrame(data['hourly'])\r\n",
    "df_daily = pd.DataFrame(data['daily'])"
   ]
  },
  {
   "cell_type": "code",
   "execution_count": 9,
   "metadata": {
    "execution": {
     "iopub.execute_input": "2021-10-13T10:12:42.149290Z",
     "iopub.status.busy": "2021-10-13T10:12:42.148350Z",
     "iopub.status.idle": "2021-10-13T10:12:42.403049Z",
     "shell.execute_reply": "2021-10-13T10:12:42.403407Z"
    }
   },
   "outputs": [
    {
     "data": {
      "image/png": "[encoded data removed]",
      "text/plain": [
       "<Figure size 864x432 with 1 Axes>"
      ]
     },
     "metadata": {
      "needs_background": "light"
     },
     "output_type": "display_data"
    }
   ],
   "source": [
    "fig, ax = plt.subplots(figsize=(12, 6))\r\n",
    "plt.plot(df_hourly.temp, '.-', label='Temperature')\r\n",
    "plt.plot(df_hourly.feels_like, '.-', label='Feels Like')\r\n",
    "ax.set(title='Temperature in future 48 hours', xlabel='Time', ylabel='Temperature')\r\n",
    "ax.set_xticks(list(range(0, len(df_hourly), 2)))\r\n",
    "ax.set_xticklabels([ts2dt(ts, '%m-%d %H:%M')[0] for i, ts in enumerate(df_hourly.dt) if i%2==0], \r\n",
    "                   rotation=45, ha=\"right\")\r\n",
    "ax.locator_params(nbins=15, axis='y')\r\n",
    "plt.legend()\r\n",
    "plt.show()"
   ]
  },
  {
   "cell_type": "code",
   "execution_count": 10,
   "metadata": {
    "execution": {
     "iopub.execute_input": "2021-10-13T10:12:42.410839Z",
     "iopub.status.busy": "2021-10-13T10:12:42.410382Z",
     "iopub.status.idle": "2021-10-13T10:12:42.425913Z",
     "shell.execute_reply": "2021-10-13T10:12:42.425509Z"
    }
   },
   "outputs": [
    {
     "data": {
      "text/html": [
       "<div>\n",
       "<style scoped>\n",
       "    .dataframe tbody tr th:only-of-type {\n",
       "        vertical-align: middle;\n",
       "    }\n",
       "\n",
       "    .dataframe tbody tr th {\n",
       "        vertical-align: top;\n",
       "    }\n",
       "\n",
       "    .dataframe thead th {\n",
       "        text-align: right;\n",
       "    }\n",
       "</style>\n",
       "<table border=\"1\" class=\"dataframe\">\n",
       "  <thead>\n",
       "    <tr style=\"text-align: right;\">\n",
       "      <th></th>\n",
       "      <th>dt</th>\n",
       "      <th>temp</th>\n",
       "      <th>feels_like</th>\n",
       "      <th>pressure</th>\n",
       "      <th>humidity</th>\n",
       "      <th>dew_point</th>\n",
       "      <th>uvi</th>\n",
       "      <th>clouds</th>\n",
       "      <th>visibility</th>\n",
       "      <th>wind_speed</th>\n",
       "      <th>wind_deg</th>\n",
       "      <th>wind_gust</th>\n",
       "      <th>weather</th>\n",
       "      <th>pop</th>\n",
       "      <th>rain</th>\n",
       "    </tr>\n",
       "  </thead>\n",
       "  <tbody>\n",
       "    <tr>\n",
       "      <th>0</th>\n",
       "      <td>1634119200</td>\n",
       "      <td>26.81</td>\n",
       "      <td>30.48</td>\n",
       "      <td>1003</td>\n",
       "      <td>93</td>\n",
       "      <td>25.58</td>\n",
       "      <td>0.0</td>\n",
       "      <td>99</td>\n",
       "      <td>10000</td>\n",
       "      <td>10.39</td>\n",
       "      <td>90</td>\n",
       "      <td>13.52</td>\n",
       "      <td>[{'id': 500, 'main': 'Rain', 'description': 'l...</td>\n",
       "      <td>1.00</td>\n",
       "      <td>{'1h': 0.63}</td>\n",
       "    </tr>\n",
       "    <tr>\n",
       "      <th>1</th>\n",
       "      <td>1634122800</td>\n",
       "      <td>26.68</td>\n",
       "      <td>29.92</td>\n",
       "      <td>1004</td>\n",
       "      <td>91</td>\n",
       "      <td>25.09</td>\n",
       "      <td>0.0</td>\n",
       "      <td>99</td>\n",
       "      <td>10000</td>\n",
       "      <td>10.52</td>\n",
       "      <td>83</td>\n",
       "      <td>14.13</td>\n",
       "      <td>[{'id': 500, 'main': 'Rain', 'description': 'l...</td>\n",
       "      <td>1.00</td>\n",
       "      <td>{'1h': 1}</td>\n",
       "    </tr>\n",
       "    <tr>\n",
       "      <th>2</th>\n",
       "      <td>1634126400</td>\n",
       "      <td>26.53</td>\n",
       "      <td>26.53</td>\n",
       "      <td>1005</td>\n",
       "      <td>90</td>\n",
       "      <td>24.75</td>\n",
       "      <td>0.0</td>\n",
       "      <td>99</td>\n",
       "      <td>9303</td>\n",
       "      <td>10.98</td>\n",
       "      <td>80</td>\n",
       "      <td>14.34</td>\n",
       "      <td>[{'id': 500, 'main': 'Rain', 'description': 'l...</td>\n",
       "      <td>1.00</td>\n",
       "      <td>{'1h': 1}</td>\n",
       "    </tr>\n",
       "    <tr>\n",
       "      <th>3</th>\n",
       "      <td>1634130000</td>\n",
       "      <td>26.20</td>\n",
       "      <td>26.20</td>\n",
       "      <td>1006</td>\n",
       "      <td>91</td>\n",
       "      <td>24.61</td>\n",
       "      <td>0.0</td>\n",
       "      <td>98</td>\n",
       "      <td>10000</td>\n",
       "      <td>8.48</td>\n",
       "      <td>77</td>\n",
       "      <td>12.66</td>\n",
       "      <td>[{'id': 501, 'main': 'Rain', 'description': 'm...</td>\n",
       "      <td>0.88</td>\n",
       "      <td>{'1h': 1.05}</td>\n",
       "    </tr>\n",
       "    <tr>\n",
       "      <th>4</th>\n",
       "      <td>1634133600</td>\n",
       "      <td>26.28</td>\n",
       "      <td>26.28</td>\n",
       "      <td>1007</td>\n",
       "      <td>89</td>\n",
       "      <td>24.32</td>\n",
       "      <td>0.0</td>\n",
       "      <td>90</td>\n",
       "      <td>6913</td>\n",
       "      <td>9.86</td>\n",
       "      <td>88</td>\n",
       "      <td>13.16</td>\n",
       "      <td>[{'id': 501, 'main': 'Rain', 'description': 'm...</td>\n",
       "      <td>0.97</td>\n",
       "      <td>{'1h': 3.17}</td>\n",
       "    </tr>\n",
       "  </tbody>\n",
       "</table>\n",
       "</div>"
      ],
      "text/plain": [
       "           dt   temp  feels_like  pressure  humidity  dew_point  uvi  clouds  \\\n",
       "0  1634119200  26.81       30.48      1003        93      25.58  0.0      99   \n",
       "1  1634122800  26.68       29.92      1004        91      25.09  0.0      99   \n",
       "2  1634126400  26.53       26.53      1005        90      24.75  0.0      99   \n",
       "3  1634130000  26.20       26.20      1006        91      24.61  0.0      98   \n",
       "4  1634133600  26.28       26.28      1007        89      24.32  0.0      90   \n",
       "\n",
       "   visibility  wind_speed  wind_deg  wind_gust  \\\n",
       "0       10000       10.39        90      13.52   \n",
       "1       10000       10.52        83      14.13   \n",
       "2        9303       10.98        80      14.34   \n",
       "3       10000        8.48        77      12.66   \n",
       "4        6913        9.86        88      13.16   \n",
       "\n",
       "                                             weather   pop          rain  \n",
       "0  [{'id': 500, 'main': 'Rain', 'description': 'l...  1.00  {'1h': 0.63}  \n",
       "1  [{'id': 500, 'main': 'Rain', 'description': 'l...  1.00     {'1h': 1}  \n",
       "2  [{'id': 500, 'main': 'Rain', 'description': 'l...  1.00     {'1h': 1}  \n",
       "3  [{'id': 501, 'main': 'Rain', 'description': 'm...  0.88  {'1h': 1.05}  \n",
       "4  [{'id': 501, 'main': 'Rain', 'description': 'm...  0.97  {'1h': 3.17}  "
      ]
     },
     "execution_count": 10,
     "metadata": {},
     "output_type": "execute_result"
    }
   ],
   "source": [
    "df_hourly.head()"
   ]
  },
  {
   "cell_type": "code",
   "execution_count": null,
   "metadata": {},
   "outputs": [],
   "source": []
  }
 ],
 "metadata": {
  "interpreter": {
   "hash": "c1b4cfe941b6d2466ad1fb5979e97da9cda8801728c8091b097ab734208fc00c"
  },
  "kernelspec": {
   "display_name": "Python 3.8.3 64-bit ('base': conda)",
   "name": "python3"
  },
  "language_info": {
   "codemirror_mode": {
    "name": "ipython",
    "version": 3
   },
   "file_extension": ".py",
   "mimetype": "text/x-python",
   "name": "python",
   "nbconvert_exporter": "python",
   "pygments_lexer": "ipython3",
   "version": "3.8.12"
  }
 },
 "nbformat": 4,
 "nbformat_minor": 2
}
