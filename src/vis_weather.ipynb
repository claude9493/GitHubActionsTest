{
 "cells": [
  {
   "cell_type": "code",
   "execution_count": 1,
   "metadata": {
    "execution": {
     "iopub.execute_input": "2021-08-28T05:13:20.183985Z",
     "iopub.status.busy": "2021-08-28T05:13:20.183338Z",
     "iopub.status.idle": "2021-08-28T05:13:24.574701Z",
     "shell.execute_reply": "2021-08-28T05:13:24.573735Z"
    }
   },
   "outputs": [],
   "source": [
    "import json, yaml, requests\r\n",
    "from datetime import datetime\r\n",
    "from dateutil import tz\r\n",
    "import pandas as pd\r\n",
    "from PIL import Image\r\n",
    "from io import BytesIO\r\n",
    "import matplotlib.pyplot as plt\r\n",
    "import seaborn\r\n",
    "\r\n",
    "CONFIG_PATH = \"../config/config.yaml\""
   ]
  },
  {
   "cell_type": "code",
   "execution_count": 2,
   "metadata": {
    "execution": {
     "iopub.execute_input": "2021-08-28T05:13:24.580765Z",
     "iopub.status.busy": "2021-08-28T05:13:24.579629Z",
     "iopub.status.idle": "2021-08-28T05:13:24.585357Z",
     "shell.execute_reply": "2021-08-28T05:13:24.585834Z"
    }
   },
   "outputs": [],
   "source": [
    "with open('../newest_ts', 'r') as f:\r\n",
    "    newest_ts = f.read()\r\n",
    "\r\n",
    "data_path = f\"../data/data_{newest_ts}.json\"\r\n",
    "with open(data_path, 'r') as f:\r\n",
    "    data = json.load(f)\r\n",
    "\r\n",
    "with open(CONFIG_PATH, \"r\") as stream:\r\n",
    "    config = yaml.safe_load(stream)\r\n",
    "\r\n",
    "TIME_ZONE = config['time_zone']\r\n",
    "DATETIME_FORMAT = config['dt_format']"
   ]
  },
  {
   "cell_type": "code",
   "execution_count": 3,
   "metadata": {
    "execution": {
     "iopub.execute_input": "2021-08-28T05:13:24.591410Z",
     "iopub.status.busy": "2021-08-28T05:13:24.590825Z",
     "iopub.status.idle": "2021-08-28T05:13:24.603332Z",
     "shell.execute_reply": "2021-08-28T05:13:24.603944Z"
    }
   },
   "outputs": [
    {
     "name": "stdout",
     "output_type": "stream",
     "text": [
      "Recent query happens at 2021-08-28 13:13:16 (CST).\n"
     ]
    }
   ],
   "source": [
    "def ts2dt(ts, format=DATETIME_FORMAT):\r\n",
    "    dt = (datetime.utcfromtimestamp(int(ts))\r\n",
    "                    .replace(tzinfo=tz.tzutc())\r\n",
    "                    # .astimezone(tz.tzlocal())\r\n",
    "                    .astimezone(tz.gettz(TIME_ZONE)))\r\n",
    "    return dt.strftime(format), dt\r\n",
    "\r\n",
    "_, newest_dt = ts2dt(newest_ts)\r\n",
    "print(f\"Recent query happens at {newest_dt.strftime(DATETIME_FORMAT)} ({newest_dt.tzname()}).\")"
   ]
  },
  {
   "cell_type": "code",
   "execution_count": 4,
   "metadata": {
    "execution": {
     "iopub.execute_input": "2021-08-28T05:13:24.610518Z",
     "iopub.status.busy": "2021-08-28T05:13:24.608912Z",
     "iopub.status.idle": "2021-08-28T05:13:24.611150Z",
     "shell.execute_reply": "2021-08-28T05:13:24.611623Z"
    }
   },
   "outputs": [],
   "source": [
    "def degrees_to_cardinal(d):\r\n",
    "  dirs = ['N', 'NNE', 'NE', 'ENE', 'E', 'ESE', 'SE', 'SSE', 'S', 'SSW', 'SW', 'WSW', 'W', 'WNW', 'NW', 'NNW']\r\n",
    "  ix = int(round(d / (360. / len(dirs))))\r\n",
    "  return dirs[ix % len(dirs)]"
   ]
  },
  {
   "cell_type": "code",
   "execution_count": 5,
   "metadata": {
    "execution": {
     "iopub.execute_input": "2021-08-28T05:13:24.617042Z",
     "iopub.status.busy": "2021-08-28T05:13:24.616472Z",
     "iopub.status.idle": "2021-08-28T05:13:24.619040Z",
     "shell.execute_reply": "2021-08-28T05:13:24.618545Z"
    }
   },
   "outputs": [],
   "source": [
    "# data.keys()"
   ]
  },
  {
   "cell_type": "code",
   "execution_count": 6,
   "metadata": {
    "execution": {
     "iopub.execute_input": "2021-08-28T05:13:24.625618Z",
     "iopub.status.busy": "2021-08-28T05:13:24.624241Z",
     "iopub.status.idle": "2021-08-28T05:13:24.626275Z",
     "shell.execute_reply": "2021-08-28T05:13:24.626757Z"
    }
   },
   "outputs": [],
   "source": [
    "# data['current']"
   ]
  },
  {
   "cell_type": "code",
   "execution_count": 7,
   "metadata": {
    "execution": {
     "iopub.execute_input": "2021-08-28T05:13:24.652932Z",
     "iopub.status.busy": "2021-08-28T05:13:24.652255Z",
     "iopub.status.idle": "2021-08-28T05:13:25.152927Z",
     "shell.execute_reply": "2021-08-28T05:13:25.153897Z"
    }
   },
   "outputs": [
    {
     "data": {
      "image/png": "[encoded data removed]",
      "text/plain": [
       "<Figure size 216x216 with 1 Axes>"
      ]
     },
     "metadata": {
      "needs_background": "light"
     },
     "output_type": "display_data"
    },
    {
     "name": "stdout",
     "output_type": "stream",
     "text": [
      "Today, sun rises at 06:04 and sets at 18:44.\n",
      "Currently, the weather is Rain (light rain).\n",
      "The temperature is 29.14°C and it feels like 31.77°C.\n",
      "The UV index is 11.53, humidity is 63%.\n",
      "The pressure is 1011 hPa, percentage of cloud cover is 49%\n",
      "The wind comes from E direction with a speed 5.46 m/s.\n"
     ]
    }
   ],
   "source": [
    "current = data['current']\r\n",
    "\r\n",
    "fig, ax = plt.subplots(figsize=(3, 3))\r\n",
    "icon = requests.get(f\"http://openweathermap.org/img/wn/{current['weather'][0]['icon']}@2x.png\")\r\n",
    "im = Image.open(BytesIO(icon.content))\r\n",
    "plt.imshow(im)\r\n",
    "ax.set_axis_off()\r\n",
    "plt.show()\r\n",
    "\r\n",
    "print(f\"Today, sun rises at {ts2dt(current['sunrise'], '%H:%M')[0]} \\\r\n",
    "and sets at {ts2dt(current['sunset'], '%H:%M')[0]}.\\n\\\r\n",
    "Currently, the weather is {current['weather'][0]['main']} ({current['weather'][0]['description']}).\\n\\\r\n",
    "The temperature is {current['temp']}°C and it feels like {current['feels_like']}°C.\\n\\\r\n",
    "The UV index is {current['uvi']}, humidity is {current['humidity']}%.\\n\\\r\n",
    "The pressure is {current['pressure']} hPa, percentage of cloud cover is {current['clouds']}%\\n\\\r\n",
    "The wind comes from {degrees_to_cardinal(current['wind_deg'])} direction with a speed {current['wind_speed']} m/s.\")"
   ]
  },
  {
   "cell_type": "code",
   "execution_count": 8,
   "metadata": {
    "execution": {
     "iopub.execute_input": "2021-08-28T05:13:25.162053Z",
     "iopub.status.busy": "2021-08-28T05:13:25.161306Z",
     "iopub.status.idle": "2021-08-28T05:13:25.165319Z",
     "shell.execute_reply": "2021-08-28T05:13:25.166127Z"
    }
   },
   "outputs": [],
   "source": [
    "df_hourly = pd.DataFrame(data['hourly'])\r\n",
    "df_daily = pd.DataFrame(data['daily'])"
   ]
  },
  {
   "cell_type": "code",
   "execution_count": 9,
   "metadata": {
    "execution": {
     "iopub.execute_input": "2021-08-28T05:13:25.179034Z",
     "iopub.status.busy": "2021-08-28T05:13:25.174065Z",
     "iopub.status.idle": "2021-08-28T05:13:25.495507Z",
     "shell.execute_reply": "2021-08-28T05:13:25.496210Z"
    }
   },
   "outputs": [
    {
     "data": {
      "image/png": "[encoded data removed]",
      "text/plain": [
       "<Figure size 864x432 with 1 Axes>"
      ]
     },
     "metadata": {
      "needs_background": "light"
     },
     "output_type": "display_data"
    }
   ],
   "source": [
    "fig, ax = plt.subplots(figsize=(12, 6))\r\n",
    "plt.plot(df_hourly.temp, '.-', label='Temperature')\r\n",
    "plt.plot(df_hourly.feels_like, '.-', label='Feels Like')\r\n",
    "ax.set(title='Temperature in future 48 hours', xlabel='Time', ylabel='Temperature')\r\n",
    "ax.set_xticks(list(range(0, len(df_hourly), 2)))\r\n",
    "ax.set_xticklabels([ts2dt(ts, '%m-%d %H:%M')[0] for i, ts in enumerate(df_hourly.dt) if i%2==0], \r\n",
    "                   rotation=45, ha=\"right\")\r\n",
    "ax.locator_params(nbins=15, axis='y')\r\n",
    "plt.legend()\r\n",
    "plt.show()"
   ]
  },
  {
   "cell_type": "code",
   "execution_count": 10,
   "metadata": {
    "execution": {
     "iopub.execute_input": "2021-08-28T05:13:25.509281Z",
     "iopub.status.busy": "2021-08-28T05:13:25.500489Z",
     "iopub.status.idle": "2021-08-28T05:13:25.521953Z",
     "shell.execute_reply": "2021-08-28T05:13:25.522422Z"
    }
   },
   "outputs": [
    {
     "data": {
      "text/html": [
       "<div>\n",
       "<style scoped>\n",
       "    .dataframe tbody tr th:only-of-type {\n",
       "        vertical-align: middle;\n",
       "    }\n",
       "\n",
       "    .dataframe tbody tr th {\n",
       "        vertical-align: top;\n",
       "    }\n",
       "\n",
       "    .dataframe thead th {\n",
       "        text-align: right;\n",
       "    }\n",
       "</style>\n",
       "<table border=\"1\" class=\"dataframe\">\n",
       "  <thead>\n",
       "    <tr style=\"text-align: right;\">\n",
       "      <th></th>\n",
       "      <th>dt</th>\n",
       "      <th>temp</th>\n",
       "      <th>feels_like</th>\n",
       "      <th>pressure</th>\n",
       "      <th>humidity</th>\n",
       "      <th>dew_point</th>\n",
       "      <th>uvi</th>\n",
       "      <th>clouds</th>\n",
       "      <th>visibility</th>\n",
       "      <th>wind_speed</th>\n",
       "      <th>wind_deg</th>\n",
       "      <th>wind_gust</th>\n",
       "      <th>weather</th>\n",
       "      <th>pop</th>\n",
       "      <th>rain</th>\n",
       "    </tr>\n",
       "  </thead>\n",
       "  <tbody>\n",
       "    <tr>\n",
       "      <th>0</th>\n",
       "      <td>1630126800</td>\n",
       "      <td>29.14</td>\n",
       "      <td>31.77</td>\n",
       "      <td>1011</td>\n",
       "      <td>63</td>\n",
       "      <td>21.38</td>\n",
       "      <td>11.53</td>\n",
       "      <td>49</td>\n",
       "      <td>10000</td>\n",
       "      <td>5.46</td>\n",
       "      <td>91</td>\n",
       "      <td>6.84</td>\n",
       "      <td>[{'id': 802, 'main': 'Clouds', 'description': ...</td>\n",
       "      <td>0.68</td>\n",
       "      <td>NaN</td>\n",
       "    </tr>\n",
       "    <tr>\n",
       "      <th>1</th>\n",
       "      <td>1630130400</td>\n",
       "      <td>29.31</td>\n",
       "      <td>32.09</td>\n",
       "      <td>1011</td>\n",
       "      <td>63</td>\n",
       "      <td>21.54</td>\n",
       "      <td>9.57</td>\n",
       "      <td>49</td>\n",
       "      <td>10000</td>\n",
       "      <td>5.08</td>\n",
       "      <td>95</td>\n",
       "      <td>6.56</td>\n",
       "      <td>[{'id': 802, 'main': 'Clouds', 'description': ...</td>\n",
       "      <td>0.68</td>\n",
       "      <td>NaN</td>\n",
       "    </tr>\n",
       "    <tr>\n",
       "      <th>2</th>\n",
       "      <td>1630134000</td>\n",
       "      <td>29.44</td>\n",
       "      <td>32.52</td>\n",
       "      <td>1011</td>\n",
       "      <td>64</td>\n",
       "      <td>21.92</td>\n",
       "      <td>5.99</td>\n",
       "      <td>33</td>\n",
       "      <td>10000</td>\n",
       "      <td>4.93</td>\n",
       "      <td>96</td>\n",
       "      <td>6.22</td>\n",
       "      <td>[{'id': 802, 'main': 'Clouds', 'description': ...</td>\n",
       "      <td>0.00</td>\n",
       "      <td>NaN</td>\n",
       "    </tr>\n",
       "    <tr>\n",
       "      <th>3</th>\n",
       "      <td>1630137600</td>\n",
       "      <td>29.46</td>\n",
       "      <td>32.75</td>\n",
       "      <td>1010</td>\n",
       "      <td>65</td>\n",
       "      <td>22.19</td>\n",
       "      <td>3.17</td>\n",
       "      <td>26</td>\n",
       "      <td>10000</td>\n",
       "      <td>5.26</td>\n",
       "      <td>95</td>\n",
       "      <td>6.52</td>\n",
       "      <td>[{'id': 802, 'main': 'Clouds', 'description': ...</td>\n",
       "      <td>0.05</td>\n",
       "      <td>NaN</td>\n",
       "    </tr>\n",
       "    <tr>\n",
       "      <th>4</th>\n",
       "      <td>1630141200</td>\n",
       "      <td>29.36</td>\n",
       "      <td>32.93</td>\n",
       "      <td>1009</td>\n",
       "      <td>67</td>\n",
       "      <td>22.59</td>\n",
       "      <td>1.15</td>\n",
       "      <td>19</td>\n",
       "      <td>10000</td>\n",
       "      <td>5.17</td>\n",
       "      <td>96</td>\n",
       "      <td>6.70</td>\n",
       "      <td>[{'id': 801, 'main': 'Clouds', 'description': ...</td>\n",
       "      <td>0.05</td>\n",
       "      <td>NaN</td>\n",
       "    </tr>\n",
       "  </tbody>\n",
       "</table>\n",
       "</div>"
      ],
      "text/plain": [
       "           dt   temp  feels_like  pressure  humidity  dew_point    uvi  \\\n",
       "0  1630126800  29.14       31.77      1011        63      21.38  11.53   \n",
       "1  1630130400  29.31       32.09      1011        63      21.54   9.57   \n",
       "2  1630134000  29.44       32.52      1011        64      21.92   5.99   \n",
       "3  1630137600  29.46       32.75      1010        65      22.19   3.17   \n",
       "4  1630141200  29.36       32.93      1009        67      22.59   1.15   \n",
       "\n",
       "   clouds  visibility  wind_speed  wind_deg  wind_gust  \\\n",
       "0      49       10000        5.46        91       6.84   \n",
       "1      49       10000        5.08        95       6.56   \n",
       "2      33       10000        4.93        96       6.22   \n",
       "3      26       10000        5.26        95       6.52   \n",
       "4      19       10000        5.17        96       6.70   \n",
       "\n",
       "                                             weather   pop rain  \n",
       "0  [{'id': 802, 'main': 'Clouds', 'description': ...  0.68  NaN  \n",
       "1  [{'id': 802, 'main': 'Clouds', 'description': ...  0.68  NaN  \n",
       "2  [{'id': 802, 'main': 'Clouds', 'description': ...  0.00  NaN  \n",
       "3  [{'id': 802, 'main': 'Clouds', 'description': ...  0.05  NaN  \n",
       "4  [{'id': 801, 'main': 'Clouds', 'description': ...  0.05  NaN  "
      ]
     },
     "execution_count": 10,
     "metadata": {},
     "output_type": "execute_result"
    }
   ],
   "source": [
    "df_hourly.head()"
   ]
  },
  {
   "cell_type": "code",
   "execution_count": null,
   "metadata": {},
   "outputs": [],
   "source": []
  }
 ],
 "metadata": {
  "interpreter": {
   "hash": "c1b4cfe941b6d2466ad1fb5979e97da9cda8801728c8091b097ab734208fc00c"
  },
  "kernelspec": {
   "display_name": "Python 3.8.3 64-bit ('base': conda)",
   "name": "python3"
  },
  "language_info": {
   "codemirror_mode": {
    "name": "ipython",
    "version": 3
   },
   "file_extension": ".py",
   "mimetype": "text/x-python",
   "name": "python",
   "nbconvert_exporter": "python",
   "pygments_lexer": "ipython3",
   "version": "3.8.11"
  }
 },
 "nbformat": 4,
 "nbformat_minor": 2
}
