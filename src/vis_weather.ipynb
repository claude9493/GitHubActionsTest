{
 "cells": [
  {
   "cell_type": "code",
   "execution_count": 1,
   "metadata": {
    "execution": {
     "iopub.execute_input": "2021-09-10T02:33:52.883915Z",
     "iopub.status.busy": "2021-09-10T02:33:52.883091Z",
     "iopub.status.idle": "2021-09-10T02:33:54.390413Z",
     "shell.execute_reply": "2021-09-10T02:33:54.390907Z"
    }
   },
   "outputs": [],
   "source": [
    "import json, yaml, requests\r\n",
    "from datetime import datetime\r\n",
    "from dateutil import tz\r\n",
    "import pandas as pd\r\n",
    "from PIL import Image\r\n",
    "from io import BytesIO\r\n",
    "import matplotlib.pyplot as plt\r\n",
    "import seaborn\r\n",
    "\r\n",
    "CONFIG_PATH = \"../config/config.yaml\""
   ]
  },
  {
   "cell_type": "code",
   "execution_count": 2,
   "metadata": {
    "execution": {
     "iopub.execute_input": "2021-09-10T02:33:54.399064Z",
     "iopub.status.busy": "2021-09-10T02:33:54.397900Z",
     "iopub.status.idle": "2021-09-10T02:33:54.404102Z",
     "shell.execute_reply": "2021-09-10T02:33:54.403314Z"
    }
   },
   "outputs": [],
   "source": [
    "with open('../newest_ts', 'r') as f:\r\n",
    "    newest_ts = f.read()\r\n",
    "\r\n",
    "data_path = f\"../data/data_{newest_ts}.json\"\r\n",
    "with open(data_path, 'r') as f:\r\n",
    "    data = json.load(f)\r\n",
    "\r\n",
    "with open(CONFIG_PATH, \"r\") as stream:\r\n",
    "    config = yaml.safe_load(stream)\r\n",
    "\r\n",
    "TIME_ZONE = config['time_zone']\r\n",
    "DATETIME_FORMAT = config['dt_format']"
   ]
  },
  {
   "cell_type": "code",
   "execution_count": 3,
   "metadata": {
    "execution": {
     "iopub.execute_input": "2021-09-10T02:33:54.408868Z",
     "iopub.status.busy": "2021-09-10T02:33:54.408258Z",
     "iopub.status.idle": "2021-09-10T02:33:54.422238Z",
     "shell.execute_reply": "2021-09-10T02:33:54.422983Z"
    }
   },
   "outputs": [
    {
     "name": "stdout",
     "output_type": "stream",
     "text": [
      "Recent query happens at 2021-09-10 10:33:49 (CST).\n"
     ]
    }
   ],
   "source": [
    "def ts2dt(ts, format=DATETIME_FORMAT):\r\n",
    "    dt = (datetime.utcfromtimestamp(int(ts))\r\n",
    "                    .replace(tzinfo=tz.tzutc())\r\n",
    "                    # .astimezone(tz.tzlocal())\r\n",
    "                    .astimezone(tz.gettz(TIME_ZONE)))\r\n",
    "    return dt.strftime(format), dt\r\n",
    "\r\n",
    "_, newest_dt = ts2dt(newest_ts)\r\n",
    "print(f\"Recent query happens at {newest_dt.strftime(DATETIME_FORMAT)} ({newest_dt.tzname()}).\")"
   ]
  },
  {
   "cell_type": "code",
   "execution_count": 4,
   "metadata": {
    "execution": {
     "iopub.execute_input": "2021-09-10T02:33:54.429182Z",
     "iopub.status.busy": "2021-09-10T02:33:54.427022Z",
     "iopub.status.idle": "2021-09-10T02:33:54.431524Z",
     "shell.execute_reply": "2021-09-10T02:33:54.432002Z"
    }
   },
   "outputs": [],
   "source": [
    "def degrees_to_cardinal(d):\r\n",
    "  dirs = ['N', 'NNE', 'NE', 'ENE', 'E', 'ESE', 'SE', 'SSE', 'S', 'SSW', 'SW', 'WSW', 'W', 'WNW', 'NW', 'NNW']\r\n",
    "  ix = int(round(d / (360. / len(dirs))))\r\n",
    "  return dirs[ix % len(dirs)]"
   ]
  },
  {
   "cell_type": "code",
   "execution_count": 5,
   "metadata": {
    "execution": {
     "iopub.execute_input": "2021-09-10T02:33:54.443440Z",
     "iopub.status.busy": "2021-09-10T02:33:54.442294Z",
     "iopub.status.idle": "2021-09-10T02:33:54.444000Z",
     "shell.execute_reply": "2021-09-10T02:33:54.442892Z"
    }
   },
   "outputs": [],
   "source": [
    "# data.keys()"
   ]
  },
  {
   "cell_type": "code",
   "execution_count": 6,
   "metadata": {
    "execution": {
     "iopub.execute_input": "2021-09-10T02:33:54.447542Z",
     "iopub.status.busy": "2021-09-10T02:33:54.447007Z",
     "iopub.status.idle": "2021-09-10T02:33:54.450368Z",
     "shell.execute_reply": "2021-09-10T02:33:54.450817Z"
    }
   },
   "outputs": [],
   "source": [
    "# data['current']"
   ]
  },
  {
   "cell_type": "code",
   "execution_count": 7,
   "metadata": {
    "execution": {
     "iopub.execute_input": "2021-09-10T02:33:54.471683Z",
     "iopub.status.busy": "2021-09-10T02:33:54.471076Z",
     "iopub.status.idle": "2021-09-10T02:33:54.997144Z",
     "shell.execute_reply": "2021-09-10T02:33:54.997937Z"
    }
   },
   "outputs": [
    {
     "data": {
      "image/png": "[encoded data removed]",
      "text/plain": [
       "<Figure size 216x216 with 1 Axes>"
      ]
     },
     "metadata": {
      "needs_background": "light"
     },
     "output_type": "display_data"
    },
    {
     "name": "stdout",
     "output_type": "stream",
     "text": [
      "Today, sun rises at 06:08 and sets at 18:32.\n",
      "Currently, the weather is Clouds (overcast clouds).\n",
      "The temperature is 31.82°C and it feels like 38.82°C.\n",
      "The UV index is 8.8, humidity is 75%.\n",
      "The pressure is 1010 hPa, percentage of cloud cover is 91%\n",
      "The wind comes from ENE direction with a speed 5.77 m/s.\n"
     ]
    }
   ],
   "source": [
    "current = data['current']\r\n",
    "\r\n",
    "fig, ax = plt.subplots(figsize=(3, 3))\r\n",
    "icon = requests.get(f\"http://openweathermap.org/img/wn/{current['weather'][0]['icon']}@2x.png\")\r\n",
    "im = Image.open(BytesIO(icon.content))\r\n",
    "plt.imshow(im)\r\n",
    "ax.set_axis_off()\r\n",
    "plt.show()\r\n",
    "\r\n",
    "print(f\"Today, sun rises at {ts2dt(current['sunrise'], '%H:%M')[0]} \\\r\n",
    "and sets at {ts2dt(current['sunset'], '%H:%M')[0]}.\\n\\\r\n",
    "Currently, the weather is {current['weather'][0]['main']} ({current['weather'][0]['description']}).\\n\\\r\n",
    "The temperature is {current['temp']}°C and it feels like {current['feels_like']}°C.\\n\\\r\n",
    "The UV index is {current['uvi']}, humidity is {current['humidity']}%.\\n\\\r\n",
    "The pressure is {current['pressure']} hPa, percentage of cloud cover is {current['clouds']}%\\n\\\r\n",
    "The wind comes from {degrees_to_cardinal(current['wind_deg'])} direction with a speed {current['wind_speed']} m/s.\")"
   ]
  },
  {
   "cell_type": "code",
   "execution_count": 8,
   "metadata": {
    "execution": {
     "iopub.execute_input": "2021-09-10T02:33:55.002487Z",
     "iopub.status.busy": "2021-09-10T02:33:55.001277Z",
     "iopub.status.idle": "2021-09-10T02:33:55.010809Z",
     "shell.execute_reply": "2021-09-10T02:33:55.011543Z"
    }
   },
   "outputs": [],
   "source": [
    "df_hourly = pd.DataFrame(data['hourly'])\r\n",
    "df_daily = pd.DataFrame(data['daily'])"
   ]
  },
  {
   "cell_type": "code",
   "execution_count": 9,
   "metadata": {
    "execution": {
     "iopub.execute_input": "2021-09-10T02:33:55.014864Z",
     "iopub.status.busy": "2021-09-10T02:33:55.013824Z",
     "iopub.status.idle": "2021-09-10T02:33:55.335451Z",
     "shell.execute_reply": "2021-09-10T02:33:55.336180Z"
    }
   },
   "outputs": [
    {
     "data": {
      "image/png": "[encoded data removed]",
      "text/plain": [
       "<Figure size 864x432 with 1 Axes>"
      ]
     },
     "metadata": {
      "needs_background": "light"
     },
     "output_type": "display_data"
    }
   ],
   "source": [
    "fig, ax = plt.subplots(figsize=(12, 6))\r\n",
    "plt.plot(df_hourly.temp, '.-', label='Temperature')\r\n",
    "plt.plot(df_hourly.feels_like, '.-', label='Feels Like')\r\n",
    "ax.set(title='Temperature in future 48 hours', xlabel='Time', ylabel='Temperature')\r\n",
    "ax.set_xticks(list(range(0, len(df_hourly), 2)))\r\n",
    "ax.set_xticklabels([ts2dt(ts, '%m-%d %H:%M')[0] for i, ts in enumerate(df_hourly.dt) if i%2==0], \r\n",
    "                   rotation=45, ha=\"right\")\r\n",
    "ax.locator_params(nbins=15, axis='y')\r\n",
    "plt.legend()\r\n",
    "plt.show()"
   ]
  },
  {
   "cell_type": "code",
   "execution_count": 10,
   "metadata": {
    "execution": {
     "iopub.execute_input": "2021-09-10T02:33:55.351270Z",
     "iopub.status.busy": "2021-09-10T02:33:55.340493Z",
     "iopub.status.idle": "2021-09-10T02:33:55.364903Z",
     "shell.execute_reply": "2021-09-10T02:33:55.364032Z"
    }
   },
   "outputs": [
    {
     "data": {
      "text/html": [
       "<div>\n",
       "<style scoped>\n",
       "    .dataframe tbody tr th:only-of-type {\n",
       "        vertical-align: middle;\n",
       "    }\n",
       "\n",
       "    .dataframe tbody tr th {\n",
       "        vertical-align: top;\n",
       "    }\n",
       "\n",
       "    .dataframe thead th {\n",
       "        text-align: right;\n",
       "    }\n",
       "</style>\n",
       "<table border=\"1\" class=\"dataframe\">\n",
       "  <thead>\n",
       "    <tr style=\"text-align: right;\">\n",
       "      <th></th>\n",
       "      <th>dt</th>\n",
       "      <th>temp</th>\n",
       "      <th>feels_like</th>\n",
       "      <th>pressure</th>\n",
       "      <th>humidity</th>\n",
       "      <th>dew_point</th>\n",
       "      <th>uvi</th>\n",
       "      <th>clouds</th>\n",
       "      <th>visibility</th>\n",
       "      <th>wind_speed</th>\n",
       "      <th>wind_deg</th>\n",
       "      <th>wind_gust</th>\n",
       "      <th>weather</th>\n",
       "      <th>pop</th>\n",
       "      <th>rain</th>\n",
       "    </tr>\n",
       "  </thead>\n",
       "  <tbody>\n",
       "    <tr>\n",
       "      <th>0</th>\n",
       "      <td>1631239200</td>\n",
       "      <td>31.28</td>\n",
       "      <td>38.28</td>\n",
       "      <td>1010</td>\n",
       "      <td>75</td>\n",
       "      <td>26.31</td>\n",
       "      <td>6.19</td>\n",
       "      <td>93</td>\n",
       "      <td>10000</td>\n",
       "      <td>5.79</td>\n",
       "      <td>70</td>\n",
       "      <td>6.64</td>\n",
       "      <td>[{'id': 804, 'main': 'Clouds', 'description': ...</td>\n",
       "      <td>0.34</td>\n",
       "      <td>NaN</td>\n",
       "    </tr>\n",
       "    <tr>\n",
       "      <th>1</th>\n",
       "      <td>1631242800</td>\n",
       "      <td>31.82</td>\n",
       "      <td>38.82</td>\n",
       "      <td>1010</td>\n",
       "      <td>75</td>\n",
       "      <td>26.83</td>\n",
       "      <td>8.80</td>\n",
       "      <td>91</td>\n",
       "      <td>10000</td>\n",
       "      <td>5.77</td>\n",
       "      <td>72</td>\n",
       "      <td>6.73</td>\n",
       "      <td>[{'id': 804, 'main': 'Clouds', 'description': ...</td>\n",
       "      <td>0.37</td>\n",
       "      <td>NaN</td>\n",
       "    </tr>\n",
       "    <tr>\n",
       "      <th>2</th>\n",
       "      <td>1631246400</td>\n",
       "      <td>31.45</td>\n",
       "      <td>38.45</td>\n",
       "      <td>1010</td>\n",
       "      <td>74</td>\n",
       "      <td>26.25</td>\n",
       "      <td>10.69</td>\n",
       "      <td>89</td>\n",
       "      <td>10000</td>\n",
       "      <td>5.63</td>\n",
       "      <td>79</td>\n",
       "      <td>6.62</td>\n",
       "      <td>[{'id': 804, 'main': 'Clouds', 'description': ...</td>\n",
       "      <td>0.37</td>\n",
       "      <td>NaN</td>\n",
       "    </tr>\n",
       "    <tr>\n",
       "      <th>3</th>\n",
       "      <td>1631250000</td>\n",
       "      <td>31.14</td>\n",
       "      <td>38.14</td>\n",
       "      <td>1010</td>\n",
       "      <td>73</td>\n",
       "      <td>25.72</td>\n",
       "      <td>10.51</td>\n",
       "      <td>86</td>\n",
       "      <td>10000</td>\n",
       "      <td>5.56</td>\n",
       "      <td>88</td>\n",
       "      <td>6.34</td>\n",
       "      <td>[{'id': 804, 'main': 'Clouds', 'description': ...</td>\n",
       "      <td>0.38</td>\n",
       "      <td>NaN</td>\n",
       "    </tr>\n",
       "    <tr>\n",
       "      <th>4</th>\n",
       "      <td>1631253600</td>\n",
       "      <td>30.76</td>\n",
       "      <td>37.55</td>\n",
       "      <td>1009</td>\n",
       "      <td>72</td>\n",
       "      <td>25.13</td>\n",
       "      <td>8.66</td>\n",
       "      <td>85</td>\n",
       "      <td>10000</td>\n",
       "      <td>5.56</td>\n",
       "      <td>90</td>\n",
       "      <td>6.40</td>\n",
       "      <td>[{'id': 804, 'main': 'Clouds', 'description': ...</td>\n",
       "      <td>0.38</td>\n",
       "      <td>NaN</td>\n",
       "    </tr>\n",
       "  </tbody>\n",
       "</table>\n",
       "</div>"
      ],
      "text/plain": [
       "           dt   temp  feels_like  pressure  humidity  dew_point    uvi  \\\n",
       "0  1631239200  31.28       38.28      1010        75      26.31   6.19   \n",
       "1  1631242800  31.82       38.82      1010        75      26.83   8.80   \n",
       "2  1631246400  31.45       38.45      1010        74      26.25  10.69   \n",
       "3  1631250000  31.14       38.14      1010        73      25.72  10.51   \n",
       "4  1631253600  30.76       37.55      1009        72      25.13   8.66   \n",
       "\n",
       "   clouds  visibility  wind_speed  wind_deg  wind_gust  \\\n",
       "0      93       10000        5.79        70       6.64   \n",
       "1      91       10000        5.77        72       6.73   \n",
       "2      89       10000        5.63        79       6.62   \n",
       "3      86       10000        5.56        88       6.34   \n",
       "4      85       10000        5.56        90       6.40   \n",
       "\n",
       "                                             weather   pop rain  \n",
       "0  [{'id': 804, 'main': 'Clouds', 'description': ...  0.34  NaN  \n",
       "1  [{'id': 804, 'main': 'Clouds', 'description': ...  0.37  NaN  \n",
       "2  [{'id': 804, 'main': 'Clouds', 'description': ...  0.37  NaN  \n",
       "3  [{'id': 804, 'main': 'Clouds', 'description': ...  0.38  NaN  \n",
       "4  [{'id': 804, 'main': 'Clouds', 'description': ...  0.38  NaN  "
      ]
     },
     "execution_count": 10,
     "metadata": {},
     "output_type": "execute_result"
    }
   ],
   "source": [
    "df_hourly.head()"
   ]
  },
  {
   "cell_type": "code",
   "execution_count": null,
   "metadata": {},
   "outputs": [],
   "source": []
  }
 ],
 "metadata": {
  "interpreter": {
   "hash": "c1b4cfe941b6d2466ad1fb5979e97da9cda8801728c8091b097ab734208fc00c"
  },
  "kernelspec": {
   "display_name": "Python 3.8.3 64-bit ('base': conda)",
   "name": "python3"
  },
  "language_info": {
   "codemirror_mode": {
    "name": "ipython",
    "version": 3
   },
   "file_extension": ".py",
   "mimetype": "text/x-python",
   "name": "python",
   "nbconvert_exporter": "python",
   "pygments_lexer": "ipython3",
   "version": "3.8.11"
  }
 },
 "nbformat": 4,
 "nbformat_minor": 2
}
