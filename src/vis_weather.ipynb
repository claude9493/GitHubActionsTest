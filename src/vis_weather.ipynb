{
 "cells": [
  {
   "cell_type": "code",
   "execution_count": 1,
   "metadata": {
    "execution": {
     "iopub.execute_input": "2021-09-03T08:41:33.737124Z",
     "iopub.status.busy": "2021-09-03T08:41:33.736577Z",
     "iopub.status.idle": "2021-09-03T08:41:35.093224Z",
     "shell.execute_reply": "2021-09-03T08:41:35.093674Z"
    }
   },
   "outputs": [],
   "source": [
    "import json, yaml, requests\r\n",
    "from datetime import datetime\r\n",
    "from dateutil import tz\r\n",
    "import pandas as pd\r\n",
    "from PIL import Image\r\n",
    "from io import BytesIO\r\n",
    "import matplotlib.pyplot as plt\r\n",
    "import seaborn\r\n",
    "\r\n",
    "CONFIG_PATH = \"../config/config.yaml\""
   ]
  },
  {
   "cell_type": "code",
   "execution_count": 2,
   "metadata": {
    "execution": {
     "iopub.execute_input": "2021-09-03T08:41:35.101740Z",
     "iopub.status.busy": "2021-09-03T08:41:35.101268Z",
     "iopub.status.idle": "2021-09-03T08:41:35.104300Z",
     "shell.execute_reply": "2021-09-03T08:41:35.103913Z"
    }
   },
   "outputs": [],
   "source": [
    "with open('../newest_ts', 'r') as f:\r\n",
    "    newest_ts = f.read()\r\n",
    "\r\n",
    "data_path = f\"../data/data_{newest_ts}.json\"\r\n",
    "with open(data_path, 'r') as f:\r\n",
    "    data = json.load(f)\r\n",
    "\r\n",
    "with open(CONFIG_PATH, \"r\") as stream:\r\n",
    "    config = yaml.safe_load(stream)\r\n",
    "\r\n",
    "TIME_ZONE = config['time_zone']\r\n",
    "DATETIME_FORMAT = config['dt_format']"
   ]
  },
  {
   "cell_type": "code",
   "execution_count": 3,
   "metadata": {
    "execution": {
     "iopub.execute_input": "2021-09-03T08:41:35.109358Z",
     "iopub.status.busy": "2021-09-03T08:41:35.108030Z",
     "iopub.status.idle": "2021-09-03T08:41:35.111862Z",
     "shell.execute_reply": "2021-09-03T08:41:35.112231Z"
    }
   },
   "outputs": [
    {
     "name": "stdout",
     "output_type": "stream",
     "text": [
      "Recent query happens at 2021-09-03 16:41:31 (CST).\n"
     ]
    }
   ],
   "source": [
    "def ts2dt(ts, format=DATETIME_FORMAT):\r\n",
    "    dt = (datetime.utcfromtimestamp(int(ts))\r\n",
    "                    .replace(tzinfo=tz.tzutc())\r\n",
    "                    # .astimezone(tz.tzlocal())\r\n",
    "                    .astimezone(tz.gettz(TIME_ZONE)))\r\n",
    "    return dt.strftime(format), dt\r\n",
    "\r\n",
    "_, newest_dt = ts2dt(newest_ts)\r\n",
    "print(f\"Recent query happens at {newest_dt.strftime(DATETIME_FORMAT)} ({newest_dt.tzname()}).\")"
   ]
  },
  {
   "cell_type": "code",
   "execution_count": 4,
   "metadata": {
    "execution": {
     "iopub.execute_input": "2021-09-03T08:41:35.116746Z",
     "iopub.status.busy": "2021-09-03T08:41:35.115929Z",
     "iopub.status.idle": "2021-09-03T08:41:35.117926Z",
     "shell.execute_reply": "2021-09-03T08:41:35.117507Z"
    }
   },
   "outputs": [],
   "source": [
    "def degrees_to_cardinal(d):\r\n",
    "  dirs = ['N', 'NNE', 'NE', 'ENE', 'E', 'ESE', 'SE', 'SSE', 'S', 'SSW', 'SW', 'WSW', 'W', 'WNW', 'NW', 'NNW']\r\n",
    "  ix = int(round(d / (360. / len(dirs))))\r\n",
    "  return dirs[ix % len(dirs)]"
   ]
  },
  {
   "cell_type": "code",
   "execution_count": 5,
   "metadata": {
    "execution": {
     "iopub.execute_input": "2021-09-03T08:41:35.121483Z",
     "iopub.status.busy": "2021-09-03T08:41:35.120668Z",
     "iopub.status.idle": "2021-09-03T08:41:35.122675Z",
     "shell.execute_reply": "2021-09-03T08:41:35.122245Z"
    }
   },
   "outputs": [],
   "source": [
    "# data.keys()"
   ]
  },
  {
   "cell_type": "code",
   "execution_count": 6,
   "metadata": {
    "execution": {
     "iopub.execute_input": "2021-09-03T08:41:35.126020Z",
     "iopub.status.busy": "2021-09-03T08:41:35.125209Z",
     "iopub.status.idle": "2021-09-03T08:41:35.126710Z",
     "shell.execute_reply": "2021-09-03T08:41:35.127083Z"
    }
   },
   "outputs": [],
   "source": [
    "# data['current']"
   ]
  },
  {
   "cell_type": "code",
   "execution_count": 7,
   "metadata": {
    "execution": {
     "iopub.execute_input": "2021-09-03T08:41:35.143780Z",
     "iopub.status.busy": "2021-09-03T08:41:35.143295Z",
     "iopub.status.idle": "2021-09-03T08:41:35.438386Z",
     "shell.execute_reply": "2021-09-03T08:41:35.439052Z"
    }
   },
   "outputs": [
    {
     "data": {
      "image/png": "[encoded data removed]",
      "text/plain": [
       "<Figure size 216x216 with 1 Axes>"
      ]
     },
     "metadata": {
      "needs_background": "light"
     },
     "output_type": "display_data"
    },
    {
     "name": "stdout",
     "output_type": "stream",
     "text": [
      "Today, sun rises at 06:06 and sets at 18:38.\n",
      "Currently, the weather is Clouds (broken clouds).\n",
      "The temperature is 31.75°C and it feels like 38.75°C.\n",
      "The UV index is 1.17, humidity is 70%.\n",
      "The pressure is 1006 hPa, percentage of cloud cover is 54%\n",
      "The wind comes from SE direction with a speed 3.46 m/s.\n"
     ]
    }
   ],
   "source": [
    "current = data['current']\r\n",
    "\r\n",
    "fig, ax = plt.subplots(figsize=(3, 3))\r\n",
    "icon = requests.get(f\"http://openweathermap.org/img/wn/{current['weather'][0]['icon']}@2x.png\")\r\n",
    "im = Image.open(BytesIO(icon.content))\r\n",
    "plt.imshow(im)\r\n",
    "ax.set_axis_off()\r\n",
    "plt.show()\r\n",
    "\r\n",
    "print(f\"Today, sun rises at {ts2dt(current['sunrise'], '%H:%M')[0]} \\\r\n",
    "and sets at {ts2dt(current['sunset'], '%H:%M')[0]}.\\n\\\r\n",
    "Currently, the weather is {current['weather'][0]['main']} ({current['weather'][0]['description']}).\\n\\\r\n",
    "The temperature is {current['temp']}°C and it feels like {current['feels_like']}°C.\\n\\\r\n",
    "The UV index is {current['uvi']}, humidity is {current['humidity']}%.\\n\\\r\n",
    "The pressure is {current['pressure']} hPa, percentage of cloud cover is {current['clouds']}%\\n\\\r\n",
    "The wind comes from {degrees_to_cardinal(current['wind_deg'])} direction with a speed {current['wind_speed']} m/s.\")"
   ]
  },
  {
   "cell_type": "code",
   "execution_count": 8,
   "metadata": {
    "execution": {
     "iopub.execute_input": "2021-09-03T08:41:35.446178Z",
     "iopub.status.busy": "2021-09-03T08:41:35.445601Z",
     "iopub.status.idle": "2021-09-03T08:41:35.448379Z",
     "shell.execute_reply": "2021-09-03T08:41:35.449041Z"
    }
   },
   "outputs": [],
   "source": [
    "df_hourly = pd.DataFrame(data['hourly'])\r\n",
    "df_daily = pd.DataFrame(data['daily'])"
   ]
  },
  {
   "cell_type": "code",
   "execution_count": 9,
   "metadata": {
    "execution": {
     "iopub.execute_input": "2021-09-03T08:41:35.452271Z",
     "iopub.status.busy": "2021-09-03T08:41:35.451351Z",
     "iopub.status.idle": "2021-09-03T08:41:35.704165Z",
     "shell.execute_reply": "2021-09-03T08:41:35.703685Z"
    }
   },
   "outputs": [
    {
     "data": {
      "image/png": "[encoded data removed]",
      "text/plain": [
       "<Figure size 864x432 with 1 Axes>"
      ]
     },
     "metadata": {
      "needs_background": "light"
     },
     "output_type": "display_data"
    }
   ],
   "source": [
    "fig, ax = plt.subplots(figsize=(12, 6))\r\n",
    "plt.plot(df_hourly.temp, '.-', label='Temperature')\r\n",
    "plt.plot(df_hourly.feels_like, '.-', label='Feels Like')\r\n",
    "ax.set(title='Temperature in future 48 hours', xlabel='Time', ylabel='Temperature')\r\n",
    "ax.set_xticks(list(range(0, len(df_hourly), 2)))\r\n",
    "ax.set_xticklabels([ts2dt(ts, '%m-%d %H:%M')[0] for i, ts in enumerate(df_hourly.dt) if i%2==0], \r\n",
    "                   rotation=45, ha=\"right\")\r\n",
    "ax.locator_params(nbins=15, axis='y')\r\n",
    "plt.legend()\r\n",
    "plt.show()"
   ]
  },
  {
   "cell_type": "code",
   "execution_count": 10,
   "metadata": {
    "execution": {
     "iopub.execute_input": "2021-09-03T08:41:35.715280Z",
     "iopub.status.busy": "2021-09-03T08:41:35.708250Z",
     "iopub.status.idle": "2021-09-03T08:41:35.725184Z",
     "shell.execute_reply": "2021-09-03T08:41:35.724790Z"
    }
   },
   "outputs": [
    {
     "data": {
      "text/html": [
       "<div>\n",
       "<style scoped>\n",
       "    .dataframe tbody tr th:only-of-type {\n",
       "        vertical-align: middle;\n",
       "    }\n",
       "\n",
       "    .dataframe tbody tr th {\n",
       "        vertical-align: top;\n",
       "    }\n",
       "\n",
       "    .dataframe thead th {\n",
       "        text-align: right;\n",
       "    }\n",
       "</style>\n",
       "<table border=\"1\" class=\"dataframe\">\n",
       "  <thead>\n",
       "    <tr style=\"text-align: right;\">\n",
       "      <th></th>\n",
       "      <th>dt</th>\n",
       "      <th>temp</th>\n",
       "      <th>feels_like</th>\n",
       "      <th>pressure</th>\n",
       "      <th>humidity</th>\n",
       "      <th>dew_point</th>\n",
       "      <th>uvi</th>\n",
       "      <th>clouds</th>\n",
       "      <th>visibility</th>\n",
       "      <th>wind_speed</th>\n",
       "      <th>wind_deg</th>\n",
       "      <th>wind_gust</th>\n",
       "      <th>weather</th>\n",
       "      <th>pop</th>\n",
       "      <th>rain</th>\n",
       "    </tr>\n",
       "  </thead>\n",
       "  <tbody>\n",
       "    <tr>\n",
       "      <th>0</th>\n",
       "      <td>1630656000</td>\n",
       "      <td>31.45</td>\n",
       "      <td>38.45</td>\n",
       "      <td>1006</td>\n",
       "      <td>69</td>\n",
       "      <td>25.07</td>\n",
       "      <td>3.30</td>\n",
       "      <td>56</td>\n",
       "      <td>10000</td>\n",
       "      <td>3.42</td>\n",
       "      <td>143</td>\n",
       "      <td>3.18</td>\n",
       "      <td>[{'id': 803, 'main': 'Clouds', 'description': ...</td>\n",
       "      <td>0.00</td>\n",
       "      <td>NaN</td>\n",
       "    </tr>\n",
       "    <tr>\n",
       "      <th>1</th>\n",
       "      <td>1630659600</td>\n",
       "      <td>31.75</td>\n",
       "      <td>38.75</td>\n",
       "      <td>1006</td>\n",
       "      <td>70</td>\n",
       "      <td>25.60</td>\n",
       "      <td>1.17</td>\n",
       "      <td>54</td>\n",
       "      <td>10000</td>\n",
       "      <td>3.46</td>\n",
       "      <td>145</td>\n",
       "      <td>3.48</td>\n",
       "      <td>[{'id': 803, 'main': 'Clouds', 'description': ...</td>\n",
       "      <td>0.04</td>\n",
       "      <td>NaN</td>\n",
       "    </tr>\n",
       "    <tr>\n",
       "      <th>2</th>\n",
       "      <td>1630663200</td>\n",
       "      <td>31.24</td>\n",
       "      <td>38.24</td>\n",
       "      <td>1006</td>\n",
       "      <td>71</td>\n",
       "      <td>25.35</td>\n",
       "      <td>0.21</td>\n",
       "      <td>55</td>\n",
       "      <td>10000</td>\n",
       "      <td>2.86</td>\n",
       "      <td>150</td>\n",
       "      <td>3.34</td>\n",
       "      <td>[{'id': 803, 'main': 'Clouds', 'description': ...</td>\n",
       "      <td>0.01</td>\n",
       "      <td>NaN</td>\n",
       "    </tr>\n",
       "    <tr>\n",
       "      <th>3</th>\n",
       "      <td>1630666800</td>\n",
       "      <td>30.49</td>\n",
       "      <td>37.09</td>\n",
       "      <td>1006</td>\n",
       "      <td>73</td>\n",
       "      <td>25.10</td>\n",
       "      <td>0.00</td>\n",
       "      <td>59</td>\n",
       "      <td>10000</td>\n",
       "      <td>2.65</td>\n",
       "      <td>153</td>\n",
       "      <td>3.10</td>\n",
       "      <td>[{'id': 803, 'main': 'Clouds', 'description': ...</td>\n",
       "      <td>0.00</td>\n",
       "      <td>NaN</td>\n",
       "    </tr>\n",
       "    <tr>\n",
       "      <th>4</th>\n",
       "      <td>1630670400</td>\n",
       "      <td>29.71</td>\n",
       "      <td>35.76</td>\n",
       "      <td>1006</td>\n",
       "      <td>76</td>\n",
       "      <td>25.02</td>\n",
       "      <td>0.00</td>\n",
       "      <td>64</td>\n",
       "      <td>10000</td>\n",
       "      <td>2.82</td>\n",
       "      <td>152</td>\n",
       "      <td>3.53</td>\n",
       "      <td>[{'id': 803, 'main': 'Clouds', 'description': ...</td>\n",
       "      <td>0.00</td>\n",
       "      <td>NaN</td>\n",
       "    </tr>\n",
       "  </tbody>\n",
       "</table>\n",
       "</div>"
      ],
      "text/plain": [
       "           dt   temp  feels_like  pressure  humidity  dew_point   uvi  clouds  \\\n",
       "0  1630656000  31.45       38.45      1006        69      25.07  3.30      56   \n",
       "1  1630659600  31.75       38.75      1006        70      25.60  1.17      54   \n",
       "2  1630663200  31.24       38.24      1006        71      25.35  0.21      55   \n",
       "3  1630666800  30.49       37.09      1006        73      25.10  0.00      59   \n",
       "4  1630670400  29.71       35.76      1006        76      25.02  0.00      64   \n",
       "\n",
       "   visibility  wind_speed  wind_deg  wind_gust  \\\n",
       "0       10000        3.42       143       3.18   \n",
       "1       10000        3.46       145       3.48   \n",
       "2       10000        2.86       150       3.34   \n",
       "3       10000        2.65       153       3.10   \n",
       "4       10000        2.82       152       3.53   \n",
       "\n",
       "                                             weather   pop rain  \n",
       "0  [{'id': 803, 'main': 'Clouds', 'description': ...  0.00  NaN  \n",
       "1  [{'id': 803, 'main': 'Clouds', 'description': ...  0.04  NaN  \n",
       "2  [{'id': 803, 'main': 'Clouds', 'description': ...  0.01  NaN  \n",
       "3  [{'id': 803, 'main': 'Clouds', 'description': ...  0.00  NaN  \n",
       "4  [{'id': 803, 'main': 'Clouds', 'description': ...  0.00  NaN  "
      ]
     },
     "execution_count": 10,
     "metadata": {},
     "output_type": "execute_result"
    }
   ],
   "source": [
    "df_hourly.head()"
   ]
  },
  {
   "cell_type": "code",
   "execution_count": null,
   "metadata": {},
   "outputs": [],
   "source": []
  }
 ],
 "metadata": {
  "interpreter": {
   "hash": "c1b4cfe941b6d2466ad1fb5979e97da9cda8801728c8091b097ab734208fc00c"
  },
  "kernelspec": {
   "display_name": "Python 3.8.3 64-bit ('base': conda)",
   "name": "python3"
  },
  "language_info": {
   "codemirror_mode": {
    "name": "ipython",
    "version": 3
   },
   "file_extension": ".py",
   "mimetype": "text/x-python",
   "name": "python",
   "nbconvert_exporter": "python",
   "pygments_lexer": "ipython3",
   "version": "3.8.11"
  }
 },
 "nbformat": 4,
 "nbformat_minor": 2
}
