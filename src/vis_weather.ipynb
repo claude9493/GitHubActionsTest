{
 "cells": [
  {
   "cell_type": "code",
   "execution_count": 1,
   "metadata": {
    "execution": {
     "iopub.execute_input": "2021-09-04T21:37:21.870838Z",
     "iopub.status.busy": "2021-09-04T21:37:21.870072Z",
     "iopub.status.idle": "2021-09-04T21:37:23.209836Z",
     "shell.execute_reply": "2021-09-04T21:37:23.210543Z"
    }
   },
   "outputs": [],
   "source": [
    "import json, yaml, requests\r\n",
    "from datetime import datetime\r\n",
    "from dateutil import tz\r\n",
    "import pandas as pd\r\n",
    "from PIL import Image\r\n",
    "from io import BytesIO\r\n",
    "import matplotlib.pyplot as plt\r\n",
    "import seaborn\r\n",
    "\r\n",
    "CONFIG_PATH = \"../config/config.yaml\""
   ]
  },
  {
   "cell_type": "code",
   "execution_count": 2,
   "metadata": {
    "execution": {
     "iopub.execute_input": "2021-09-04T21:37:23.219372Z",
     "iopub.status.busy": "2021-09-04T21:37:23.216198Z",
     "iopub.status.idle": "2021-09-04T21:37:23.221991Z",
     "shell.execute_reply": "2021-09-04T21:37:23.222457Z"
    }
   },
   "outputs": [],
   "source": [
    "with open('../newest_ts', 'r') as f:\r\n",
    "    newest_ts = f.read()\r\n",
    "\r\n",
    "data_path = f\"../data/data_{newest_ts}.json\"\r\n",
    "with open(data_path, 'r') as f:\r\n",
    "    data = json.load(f)\r\n",
    "\r\n",
    "with open(CONFIG_PATH, \"r\") as stream:\r\n",
    "    config = yaml.safe_load(stream)\r\n",
    "\r\n",
    "TIME_ZONE = config['time_zone']\r\n",
    "DATETIME_FORMAT = config['dt_format']"
   ]
  },
  {
   "cell_type": "code",
   "execution_count": 3,
   "metadata": {
    "execution": {
     "iopub.execute_input": "2021-09-04T21:37:23.227094Z",
     "iopub.status.busy": "2021-09-04T21:37:23.226598Z",
     "iopub.status.idle": "2021-09-04T21:37:23.234220Z",
     "shell.execute_reply": "2021-09-04T21:37:23.233681Z"
    }
   },
   "outputs": [
    {
     "name": "stdout",
     "output_type": "stream",
     "text": [
      "Recent query happens at 2021-09-05 05:37:19 (CST).\n"
     ]
    }
   ],
   "source": [
    "def ts2dt(ts, format=DATETIME_FORMAT):\r\n",
    "    dt = (datetime.utcfromtimestamp(int(ts))\r\n",
    "                    .replace(tzinfo=tz.tzutc())\r\n",
    "                    # .astimezone(tz.tzlocal())\r\n",
    "                    .astimezone(tz.gettz(TIME_ZONE)))\r\n",
    "    return dt.strftime(format), dt\r\n",
    "\r\n",
    "_, newest_dt = ts2dt(newest_ts)\r\n",
    "print(f\"Recent query happens at {newest_dt.strftime(DATETIME_FORMAT)} ({newest_dt.tzname()}).\")"
   ]
  },
  {
   "cell_type": "code",
   "execution_count": 4,
   "metadata": {
    "execution": {
     "iopub.execute_input": "2021-09-04T21:37:23.239288Z",
     "iopub.status.busy": "2021-09-04T21:37:23.238602Z",
     "iopub.status.idle": "2021-09-04T21:37:23.242272Z",
     "shell.execute_reply": "2021-09-04T21:37:23.242716Z"
    }
   },
   "outputs": [],
   "source": [
    "def degrees_to_cardinal(d):\r\n",
    "  dirs = ['N', 'NNE', 'NE', 'ENE', 'E', 'ESE', 'SE', 'SSE', 'S', 'SSW', 'SW', 'WSW', 'W', 'WNW', 'NW', 'NNW']\r\n",
    "  ix = int(round(d / (360. / len(dirs))))\r\n",
    "  return dirs[ix % len(dirs)]"
   ]
  },
  {
   "cell_type": "code",
   "execution_count": 5,
   "metadata": {
    "execution": {
     "iopub.execute_input": "2021-09-04T21:37:23.246742Z",
     "iopub.status.busy": "2021-09-04T21:37:23.246245Z",
     "iopub.status.idle": "2021-09-04T21:37:23.250283Z",
     "shell.execute_reply": "2021-09-04T21:37:23.249712Z"
    }
   },
   "outputs": [],
   "source": [
    "# data.keys()"
   ]
  },
  {
   "cell_type": "code",
   "execution_count": 6,
   "metadata": {
    "execution": {
     "iopub.execute_input": "2021-09-04T21:37:23.254412Z",
     "iopub.status.busy": "2021-09-04T21:37:23.253820Z",
     "iopub.status.idle": "2021-09-04T21:37:23.257865Z",
     "shell.execute_reply": "2021-09-04T21:37:23.257401Z"
    }
   },
   "outputs": [],
   "source": [
    "# data['current']"
   ]
  },
  {
   "cell_type": "code",
   "execution_count": 7,
   "metadata": {
    "execution": {
     "iopub.execute_input": "2021-09-04T21:37:23.279605Z",
     "iopub.status.busy": "2021-09-04T21:37:23.279005Z",
     "iopub.status.idle": "2021-09-04T21:37:23.877716Z",
     "shell.execute_reply": "2021-09-04T21:37:23.878748Z"
    }
   },
   "outputs": [
    {
     "data": {
      "image/png": "[encoded data removed]",
      "text/plain": [
       "<Figure size 216x216 with 1 Axes>"
      ]
     },
     "metadata": {
      "needs_background": "light"
     },
     "output_type": "display_data"
    },
    {
     "name": "stdout",
     "output_type": "stream",
     "text": [
      "Today, sun rises at 06:06 and sets at 18:36.\n",
      "Currently, the weather is Clouds (few clouds).\n",
      "The temperature is 28.6°C and it feels like 33.65°C.\n",
      "The UV index is 0, humidity is 80%.\n",
      "The pressure is 1009 hPa, percentage of cloud cover is 15%\n",
      "The wind comes from ESE direction with a speed 2.22 m/s.\n"
     ]
    }
   ],
   "source": [
    "current = data['current']\r\n",
    "\r\n",
    "fig, ax = plt.subplots(figsize=(3, 3))\r\n",
    "icon = requests.get(f\"http://openweathermap.org/img/wn/{current['weather'][0]['icon']}@2x.png\")\r\n",
    "im = Image.open(BytesIO(icon.content))\r\n",
    "plt.imshow(im)\r\n",
    "ax.set_axis_off()\r\n",
    "plt.show()\r\n",
    "\r\n",
    "print(f\"Today, sun rises at {ts2dt(current['sunrise'], '%H:%M')[0]} \\\r\n",
    "and sets at {ts2dt(current['sunset'], '%H:%M')[0]}.\\n\\\r\n",
    "Currently, the weather is {current['weather'][0]['main']} ({current['weather'][0]['description']}).\\n\\\r\n",
    "The temperature is {current['temp']}°C and it feels like {current['feels_like']}°C.\\n\\\r\n",
    "The UV index is {current['uvi']}, humidity is {current['humidity']}%.\\n\\\r\n",
    "The pressure is {current['pressure']} hPa, percentage of cloud cover is {current['clouds']}%\\n\\\r\n",
    "The wind comes from {degrees_to_cardinal(current['wind_deg'])} direction with a speed {current['wind_speed']} m/s.\")"
   ]
  },
  {
   "cell_type": "code",
   "execution_count": 8,
   "metadata": {
    "execution": {
     "iopub.execute_input": "2021-09-04T21:37:23.882710Z",
     "iopub.status.busy": "2021-09-04T21:37:23.882037Z",
     "iopub.status.idle": "2021-09-04T21:37:23.889913Z",
     "shell.execute_reply": "2021-09-04T21:37:23.890632Z"
    }
   },
   "outputs": [],
   "source": [
    "df_hourly = pd.DataFrame(data['hourly'])\r\n",
    "df_daily = pd.DataFrame(data['daily'])"
   ]
  },
  {
   "cell_type": "code",
   "execution_count": 9,
   "metadata": {
    "execution": {
     "iopub.execute_input": "2021-09-04T21:37:23.893718Z",
     "iopub.status.busy": "2021-09-04T21:37:23.893139Z",
     "iopub.status.idle": "2021-09-04T21:37:24.211456Z",
     "shell.execute_reply": "2021-09-04T21:37:24.211885Z"
    }
   },
   "outputs": [
    {
     "data": {
      "image/png": "[encoded data removed]",
      "text/plain": [
       "<Figure size 864x432 with 1 Axes>"
      ]
     },
     "metadata": {
      "needs_background": "light"
     },
     "output_type": "display_data"
    }
   ],
   "source": [
    "fig, ax = plt.subplots(figsize=(12, 6))\r\n",
    "plt.plot(df_hourly.temp, '.-', label='Temperature')\r\n",
    "plt.plot(df_hourly.feels_like, '.-', label='Feels Like')\r\n",
    "ax.set(title='Temperature in future 48 hours', xlabel='Time', ylabel='Temperature')\r\n",
    "ax.set_xticks(list(range(0, len(df_hourly), 2)))\r\n",
    "ax.set_xticklabels([ts2dt(ts, '%m-%d %H:%M')[0] for i, ts in enumerate(df_hourly.dt) if i%2==0], \r\n",
    "                   rotation=45, ha=\"right\")\r\n",
    "ax.locator_params(nbins=15, axis='y')\r\n",
    "plt.legend()\r\n",
    "plt.show()"
   ]
  },
  {
   "cell_type": "code",
   "execution_count": 10,
   "metadata": {
    "execution": {
     "iopub.execute_input": "2021-09-04T21:37:24.224427Z",
     "iopub.status.busy": "2021-09-04T21:37:24.216116Z",
     "iopub.status.idle": "2021-09-04T21:37:24.242712Z",
     "shell.execute_reply": "2021-09-04T21:37:24.242270Z"
    }
   },
   "outputs": [
    {
     "data": {
      "text/html": [
       "<div>\n",
       "<style scoped>\n",
       "    .dataframe tbody tr th:only-of-type {\n",
       "        vertical-align: middle;\n",
       "    }\n",
       "\n",
       "    .dataframe tbody tr th {\n",
       "        vertical-align: top;\n",
       "    }\n",
       "\n",
       "    .dataframe thead th {\n",
       "        text-align: right;\n",
       "    }\n",
       "</style>\n",
       "<table border=\"1\" class=\"dataframe\">\n",
       "  <thead>\n",
       "    <tr style=\"text-align: right;\">\n",
       "      <th></th>\n",
       "      <th>dt</th>\n",
       "      <th>temp</th>\n",
       "      <th>feels_like</th>\n",
       "      <th>pressure</th>\n",
       "      <th>humidity</th>\n",
       "      <th>dew_point</th>\n",
       "      <th>uvi</th>\n",
       "      <th>clouds</th>\n",
       "      <th>visibility</th>\n",
       "      <th>wind_speed</th>\n",
       "      <th>wind_deg</th>\n",
       "      <th>wind_gust</th>\n",
       "      <th>weather</th>\n",
       "      <th>pop</th>\n",
       "      <th>rain</th>\n",
       "    </tr>\n",
       "  </thead>\n",
       "  <tbody>\n",
       "    <tr>\n",
       "      <th>0</th>\n",
       "      <td>1630789200</td>\n",
       "      <td>28.36</td>\n",
       "      <td>33.20</td>\n",
       "      <td>1009</td>\n",
       "      <td>81</td>\n",
       "      <td>24.78</td>\n",
       "      <td>0.00</td>\n",
       "      <td>15</td>\n",
       "      <td>10000</td>\n",
       "      <td>2.07</td>\n",
       "      <td>111</td>\n",
       "      <td>2.44</td>\n",
       "      <td>[{'id': 500, 'main': 'Rain', 'description': 'l...</td>\n",
       "      <td>0.73</td>\n",
       "      <td>{'1h': 0.6}</td>\n",
       "    </tr>\n",
       "    <tr>\n",
       "      <th>1</th>\n",
       "      <td>1630792800</td>\n",
       "      <td>28.60</td>\n",
       "      <td>33.65</td>\n",
       "      <td>1009</td>\n",
       "      <td>80</td>\n",
       "      <td>24.81</td>\n",
       "      <td>0.00</td>\n",
       "      <td>15</td>\n",
       "      <td>10000</td>\n",
       "      <td>2.22</td>\n",
       "      <td>108</td>\n",
       "      <td>2.61</td>\n",
       "      <td>[{'id': 801, 'main': 'Clouds', 'description': ...</td>\n",
       "      <td>0.70</td>\n",
       "      <td>NaN</td>\n",
       "    </tr>\n",
       "    <tr>\n",
       "      <th>2</th>\n",
       "      <td>1630796400</td>\n",
       "      <td>28.34</td>\n",
       "      <td>33.14</td>\n",
       "      <td>1009</td>\n",
       "      <td>81</td>\n",
       "      <td>24.76</td>\n",
       "      <td>0.30</td>\n",
       "      <td>15</td>\n",
       "      <td>10000</td>\n",
       "      <td>1.83</td>\n",
       "      <td>101</td>\n",
       "      <td>2.32</td>\n",
       "      <td>[{'id': 801, 'main': 'Clouds', 'description': ...</td>\n",
       "      <td>0.76</td>\n",
       "      <td>NaN</td>\n",
       "    </tr>\n",
       "    <tr>\n",
       "      <th>3</th>\n",
       "      <td>1630800000</td>\n",
       "      <td>28.43</td>\n",
       "      <td>32.84</td>\n",
       "      <td>1009</td>\n",
       "      <td>78</td>\n",
       "      <td>24.22</td>\n",
       "      <td>1.47</td>\n",
       "      <td>15</td>\n",
       "      <td>10000</td>\n",
       "      <td>1.87</td>\n",
       "      <td>89</td>\n",
       "      <td>2.67</td>\n",
       "      <td>[{'id': 500, 'main': 'Rain', 'description': 'l...</td>\n",
       "      <td>0.97</td>\n",
       "      <td>{'1h': 0.13}</td>\n",
       "    </tr>\n",
       "    <tr>\n",
       "      <th>4</th>\n",
       "      <td>1630803600</td>\n",
       "      <td>28.70</td>\n",
       "      <td>33.15</td>\n",
       "      <td>1010</td>\n",
       "      <td>76</td>\n",
       "      <td>24.05</td>\n",
       "      <td>3.80</td>\n",
       "      <td>40</td>\n",
       "      <td>10000</td>\n",
       "      <td>2.17</td>\n",
       "      <td>80</td>\n",
       "      <td>2.64</td>\n",
       "      <td>[{'id': 802, 'main': 'Clouds', 'description': ...</td>\n",
       "      <td>0.63</td>\n",
       "      <td>NaN</td>\n",
       "    </tr>\n",
       "  </tbody>\n",
       "</table>\n",
       "</div>"
      ],
      "text/plain": [
       "           dt   temp  feels_like  pressure  humidity  dew_point   uvi  clouds  \\\n",
       "0  1630789200  28.36       33.20      1009        81      24.78  0.00      15   \n",
       "1  1630792800  28.60       33.65      1009        80      24.81  0.00      15   \n",
       "2  1630796400  28.34       33.14      1009        81      24.76  0.30      15   \n",
       "3  1630800000  28.43       32.84      1009        78      24.22  1.47      15   \n",
       "4  1630803600  28.70       33.15      1010        76      24.05  3.80      40   \n",
       "\n",
       "   visibility  wind_speed  wind_deg  wind_gust  \\\n",
       "0       10000        2.07       111       2.44   \n",
       "1       10000        2.22       108       2.61   \n",
       "2       10000        1.83       101       2.32   \n",
       "3       10000        1.87        89       2.67   \n",
       "4       10000        2.17        80       2.64   \n",
       "\n",
       "                                             weather   pop          rain  \n",
       "0  [{'id': 500, 'main': 'Rain', 'description': 'l...  0.73   {'1h': 0.6}  \n",
       "1  [{'id': 801, 'main': 'Clouds', 'description': ...  0.70           NaN  \n",
       "2  [{'id': 801, 'main': 'Clouds', 'description': ...  0.76           NaN  \n",
       "3  [{'id': 500, 'main': 'Rain', 'description': 'l...  0.97  {'1h': 0.13}  \n",
       "4  [{'id': 802, 'main': 'Clouds', 'description': ...  0.63           NaN  "
      ]
     },
     "execution_count": 10,
     "metadata": {},
     "output_type": "execute_result"
    }
   ],
   "source": [
    "df_hourly.head()"
   ]
  },
  {
   "cell_type": "code",
   "execution_count": null,
   "metadata": {},
   "outputs": [],
   "source": []
  }
 ],
 "metadata": {
  "interpreter": {
   "hash": "c1b4cfe941b6d2466ad1fb5979e97da9cda8801728c8091b097ab734208fc00c"
  },
  "kernelspec": {
   "display_name": "Python 3.8.3 64-bit ('base': conda)",
   "name": "python3"
  },
  "language_info": {
   "codemirror_mode": {
    "name": "ipython",
    "version": 3
   },
   "file_extension": ".py",
   "mimetype": "text/x-python",
   "name": "python",
   "nbconvert_exporter": "python",
   "pygments_lexer": "ipython3",
   "version": "3.8.11"
  }
 },
 "nbformat": 4,
 "nbformat_minor": 2
}
