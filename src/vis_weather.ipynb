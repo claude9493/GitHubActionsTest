{
 "cells": [
  {
   "cell_type": "code",
   "execution_count": 1,
   "metadata": {
    "execution": {
     "iopub.execute_input": "2021-09-01T02:47:30.504308Z",
     "iopub.status.busy": "2021-09-01T02:47:30.503306Z",
     "iopub.status.idle": "2021-09-01T02:47:32.765898Z",
     "shell.execute_reply": "2021-09-01T02:47:32.766601Z"
    }
   },
   "outputs": [],
   "source": [
    "import json, yaml, requests\r\n",
    "from datetime import datetime\r\n",
    "from dateutil import tz\r\n",
    "import pandas as pd\r\n",
    "from PIL import Image\r\n",
    "from io import BytesIO\r\n",
    "import matplotlib.pyplot as plt\r\n",
    "import seaborn\r\n",
    "\r\n",
    "CONFIG_PATH = \"../config/config.yaml\""
   ]
  },
  {
   "cell_type": "code",
   "execution_count": 2,
   "metadata": {
    "execution": {
     "iopub.execute_input": "2021-09-01T02:47:32.772648Z",
     "iopub.status.busy": "2021-09-01T02:47:32.771631Z",
     "iopub.status.idle": "2021-09-01T02:47:32.777802Z",
     "shell.execute_reply": "2021-09-01T02:47:32.777318Z"
    }
   },
   "outputs": [],
   "source": [
    "with open('../newest_ts', 'r') as f:\r\n",
    "    newest_ts = f.read()\r\n",
    "\r\n",
    "data_path = f\"../data/data_{newest_ts}.json\"\r\n",
    "with open(data_path, 'r') as f:\r\n",
    "    data = json.load(f)\r\n",
    "\r\n",
    "with open(CONFIG_PATH, \"r\") as stream:\r\n",
    "    config = yaml.safe_load(stream)\r\n",
    "\r\n",
    "TIME_ZONE = config['time_zone']\r\n",
    "DATETIME_FORMAT = config['dt_format']"
   ]
  },
  {
   "cell_type": "code",
   "execution_count": 3,
   "metadata": {
    "execution": {
     "iopub.execute_input": "2021-09-01T02:47:32.784495Z",
     "iopub.status.busy": "2021-09-01T02:47:32.782337Z",
     "iopub.status.idle": "2021-09-01T02:47:32.787683Z",
     "shell.execute_reply": "2021-09-01T02:47:32.788167Z"
    }
   },
   "outputs": [
    {
     "name": "stdout",
     "output_type": "stream",
     "text": [
      "Recent query happens at 2021-09-01 10:47:27 (CST).\n"
     ]
    }
   ],
   "source": [
    "def ts2dt(ts, format=DATETIME_FORMAT):\r\n",
    "    dt = (datetime.utcfromtimestamp(int(ts))\r\n",
    "                    .replace(tzinfo=tz.tzutc())\r\n",
    "                    # .astimezone(tz.tzlocal())\r\n",
    "                    .astimezone(tz.gettz(TIME_ZONE)))\r\n",
    "    return dt.strftime(format), dt\r\n",
    "\r\n",
    "_, newest_dt = ts2dt(newest_ts)\r\n",
    "print(f\"Recent query happens at {newest_dt.strftime(DATETIME_FORMAT)} ({newest_dt.tzname()}).\")"
   ]
  },
  {
   "cell_type": "code",
   "execution_count": 4,
   "metadata": {
    "execution": {
     "iopub.execute_input": "2021-09-01T02:47:32.793952Z",
     "iopub.status.busy": "2021-09-01T02:47:32.792466Z",
     "iopub.status.idle": "2021-09-01T02:47:32.794722Z",
     "shell.execute_reply": "2021-09-01T02:47:32.795150Z"
    }
   },
   "outputs": [],
   "source": [
    "def degrees_to_cardinal(d):\r\n",
    "  dirs = ['N', 'NNE', 'NE', 'ENE', 'E', 'ESE', 'SE', 'SSE', 'S', 'SSW', 'SW', 'WSW', 'W', 'WNW', 'NW', 'NNW']\r\n",
    "  ix = int(round(d / (360. / len(dirs))))\r\n",
    "  return dirs[ix % len(dirs)]"
   ]
  },
  {
   "cell_type": "code",
   "execution_count": 5,
   "metadata": {
    "execution": {
     "iopub.execute_input": "2021-09-01T02:47:32.799717Z",
     "iopub.status.busy": "2021-09-01T02:47:32.798289Z",
     "iopub.status.idle": "2021-09-01T02:47:32.800302Z",
     "shell.execute_reply": "2021-09-01T02:47:32.800722Z"
    }
   },
   "outputs": [],
   "source": [
    "# data.keys()"
   ]
  },
  {
   "cell_type": "code",
   "execution_count": 6,
   "metadata": {
    "execution": {
     "iopub.execute_input": "2021-09-01T02:47:32.805080Z",
     "iopub.status.busy": "2021-09-01T02:47:32.803682Z",
     "iopub.status.idle": "2021-09-01T02:47:32.805668Z",
     "shell.execute_reply": "2021-09-01T02:47:32.806135Z"
    }
   },
   "outputs": [],
   "source": [
    "# data['current']"
   ]
  },
  {
   "cell_type": "code",
   "execution_count": 7,
   "metadata": {
    "execution": {
     "iopub.execute_input": "2021-09-01T02:47:32.827318Z",
     "iopub.status.busy": "2021-09-01T02:47:32.826587Z",
     "iopub.status.idle": "2021-09-01T02:47:33.266190Z",
     "shell.execute_reply": "2021-09-01T02:47:33.267297Z"
    }
   },
   "outputs": [
    {
     "data": {
      "image/png": "[encoded data removed]",
      "text/plain": [
       "<Figure size 216x216 with 1 Axes>"
      ]
     },
     "metadata": {
      "needs_background": "light"
     },
     "output_type": "display_data"
    },
    {
     "name": "stdout",
     "output_type": "stream",
     "text": [
      "Today, sun rises at 06:05 and sets at 18:40.\n",
      "Currently, the weather is Clouds (overcast clouds).\n",
      "The temperature is 28.28°C and it feels like 33.7°C.\n",
      "The UV index is 9.28, humidity is 85%.\n",
      "The pressure is 1010 hPa, percentage of cloud cover is 92%\n",
      "The wind comes from ENE direction with a speed 6.52 m/s.\n"
     ]
    }
   ],
   "source": [
    "current = data['current']\r\n",
    "\r\n",
    "fig, ax = plt.subplots(figsize=(3, 3))\r\n",
    "icon = requests.get(f\"http://openweathermap.org/img/wn/{current['weather'][0]['icon']}@2x.png\")\r\n",
    "im = Image.open(BytesIO(icon.content))\r\n",
    "plt.imshow(im)\r\n",
    "ax.set_axis_off()\r\n",
    "plt.show()\r\n",
    "\r\n",
    "print(f\"Today, sun rises at {ts2dt(current['sunrise'], '%H:%M')[0]} \\\r\n",
    "and sets at {ts2dt(current['sunset'], '%H:%M')[0]}.\\n\\\r\n",
    "Currently, the weather is {current['weather'][0]['main']} ({current['weather'][0]['description']}).\\n\\\r\n",
    "The temperature is {current['temp']}°C and it feels like {current['feels_like']}°C.\\n\\\r\n",
    "The UV index is {current['uvi']}, humidity is {current['humidity']}%.\\n\\\r\n",
    "The pressure is {current['pressure']} hPa, percentage of cloud cover is {current['clouds']}%\\n\\\r\n",
    "The wind comes from {degrees_to_cardinal(current['wind_deg'])} direction with a speed {current['wind_speed']} m/s.\")"
   ]
  },
  {
   "cell_type": "code",
   "execution_count": 8,
   "metadata": {
    "execution": {
     "iopub.execute_input": "2021-09-01T02:47:33.273618Z",
     "iopub.status.busy": "2021-09-01T02:47:33.271696Z",
     "iopub.status.idle": "2021-09-01T02:47:33.283597Z",
     "shell.execute_reply": "2021-09-01T02:47:33.284310Z"
    }
   },
   "outputs": [],
   "source": [
    "df_hourly = pd.DataFrame(data['hourly'])\r\n",
    "df_daily = pd.DataFrame(data['daily'])"
   ]
  },
  {
   "cell_type": "code",
   "execution_count": 9,
   "metadata": {
    "execution": {
     "iopub.execute_input": "2021-09-01T02:47:33.287874Z",
     "iopub.status.busy": "2021-09-01T02:47:33.286761Z",
     "iopub.status.idle": "2021-09-01T02:47:33.618431Z",
     "shell.execute_reply": "2021-09-01T02:47:33.618852Z"
    }
   },
   "outputs": [
    {
     "data": {
      "image/png": "[encoded data removed]",
      "text/plain": [
       "<Figure size 864x432 with 1 Axes>"
      ]
     },
     "metadata": {
      "needs_background": "light"
     },
     "output_type": "display_data"
    }
   ],
   "source": [
    "fig, ax = plt.subplots(figsize=(12, 6))\r\n",
    "plt.plot(df_hourly.temp, '.-', label='Temperature')\r\n",
    "plt.plot(df_hourly.feels_like, '.-', label='Feels Like')\r\n",
    "ax.set(title='Temperature in future 48 hours', xlabel='Time', ylabel='Temperature')\r\n",
    "ax.set_xticks(list(range(0, len(df_hourly), 2)))\r\n",
    "ax.set_xticklabels([ts2dt(ts, '%m-%d %H:%M')[0] for i, ts in enumerate(df_hourly.dt) if i%2==0], \r\n",
    "                   rotation=45, ha=\"right\")\r\n",
    "ax.locator_params(nbins=15, axis='y')\r\n",
    "plt.legend()\r\n",
    "plt.show()"
   ]
  },
  {
   "cell_type": "code",
   "execution_count": 10,
   "metadata": {
    "execution": {
     "iopub.execute_input": "2021-09-01T02:47:33.637076Z",
     "iopub.status.busy": "2021-09-01T02:47:33.626755Z",
     "iopub.status.idle": "2021-09-01T02:47:33.651857Z",
     "shell.execute_reply": "2021-09-01T02:47:33.653088Z"
    }
   },
   "outputs": [
    {
     "data": {
      "text/html": [
       "<div>\n",
       "<style scoped>\n",
       "    .dataframe tbody tr th:only-of-type {\n",
       "        vertical-align: middle;\n",
       "    }\n",
       "\n",
       "    .dataframe tbody tr th {\n",
       "        vertical-align: top;\n",
       "    }\n",
       "\n",
       "    .dataframe thead th {\n",
       "        text-align: right;\n",
       "    }\n",
       "</style>\n",
       "<table border=\"1\" class=\"dataframe\">\n",
       "  <thead>\n",
       "    <tr style=\"text-align: right;\">\n",
       "      <th></th>\n",
       "      <th>dt</th>\n",
       "      <th>temp</th>\n",
       "      <th>feels_like</th>\n",
       "      <th>pressure</th>\n",
       "      <th>humidity</th>\n",
       "      <th>dew_point</th>\n",
       "      <th>uvi</th>\n",
       "      <th>clouds</th>\n",
       "      <th>visibility</th>\n",
       "      <th>wind_speed</th>\n",
       "      <th>wind_deg</th>\n",
       "      <th>wind_gust</th>\n",
       "      <th>weather</th>\n",
       "      <th>pop</th>\n",
       "      <th>rain</th>\n",
       "    </tr>\n",
       "  </thead>\n",
       "  <tbody>\n",
       "    <tr>\n",
       "      <th>0</th>\n",
       "      <td>1630461600</td>\n",
       "      <td>28.30</td>\n",
       "      <td>33.39</td>\n",
       "      <td>1010</td>\n",
       "      <td>83</td>\n",
       "      <td>25.13</td>\n",
       "      <td>6.58</td>\n",
       "      <td>92</td>\n",
       "      <td>10000</td>\n",
       "      <td>6.15</td>\n",
       "      <td>78</td>\n",
       "      <td>7.75</td>\n",
       "      <td>[{'id': 500, 'main': 'Rain', 'description': 'l...</td>\n",
       "      <td>0.73</td>\n",
       "      <td>{'1h': 0.96}</td>\n",
       "    </tr>\n",
       "    <tr>\n",
       "      <th>1</th>\n",
       "      <td>1630465200</td>\n",
       "      <td>28.28</td>\n",
       "      <td>33.70</td>\n",
       "      <td>1010</td>\n",
       "      <td>85</td>\n",
       "      <td>25.51</td>\n",
       "      <td>9.28</td>\n",
       "      <td>92</td>\n",
       "      <td>10000</td>\n",
       "      <td>6.52</td>\n",
       "      <td>78</td>\n",
       "      <td>7.87</td>\n",
       "      <td>[{'id': 804, 'main': 'Clouds', 'description': ...</td>\n",
       "      <td>0.81</td>\n",
       "      <td>NaN</td>\n",
       "    </tr>\n",
       "    <tr>\n",
       "      <th>2</th>\n",
       "      <td>1630468800</td>\n",
       "      <td>28.48</td>\n",
       "      <td>33.71</td>\n",
       "      <td>1010</td>\n",
       "      <td>82</td>\n",
       "      <td>25.11</td>\n",
       "      <td>11.03</td>\n",
       "      <td>92</td>\n",
       "      <td>10000</td>\n",
       "      <td>6.61</td>\n",
       "      <td>82</td>\n",
       "      <td>7.86</td>\n",
       "      <td>[{'id': 501, 'main': 'Rain', 'description': 'm...</td>\n",
       "      <td>0.86</td>\n",
       "      <td>{'1h': 3.16}</td>\n",
       "    </tr>\n",
       "    <tr>\n",
       "      <th>3</th>\n",
       "      <td>1630472400</td>\n",
       "      <td>28.78</td>\n",
       "      <td>33.93</td>\n",
       "      <td>1010</td>\n",
       "      <td>79</td>\n",
       "      <td>24.77</td>\n",
       "      <td>10.84</td>\n",
       "      <td>92</td>\n",
       "      <td>10000</td>\n",
       "      <td>6.19</td>\n",
       "      <td>90</td>\n",
       "      <td>7.15</td>\n",
       "      <td>[{'id': 804, 'main': 'Clouds', 'description': ...</td>\n",
       "      <td>0.84</td>\n",
       "      <td>NaN</td>\n",
       "    </tr>\n",
       "    <tr>\n",
       "      <th>4</th>\n",
       "      <td>1630476000</td>\n",
       "      <td>29.08</td>\n",
       "      <td>34.10</td>\n",
       "      <td>1009</td>\n",
       "      <td>76</td>\n",
       "      <td>24.42</td>\n",
       "      <td>8.98</td>\n",
       "      <td>88</td>\n",
       "      <td>10000</td>\n",
       "      <td>6.10</td>\n",
       "      <td>94</td>\n",
       "      <td>6.93</td>\n",
       "      <td>[{'id': 804, 'main': 'Clouds', 'description': ...</td>\n",
       "      <td>0.80</td>\n",
       "      <td>NaN</td>\n",
       "    </tr>\n",
       "  </tbody>\n",
       "</table>\n",
       "</div>"
      ],
      "text/plain": [
       "           dt   temp  feels_like  pressure  humidity  dew_point    uvi  \\\n",
       "0  1630461600  28.30       33.39      1010        83      25.13   6.58   \n",
       "1  1630465200  28.28       33.70      1010        85      25.51   9.28   \n",
       "2  1630468800  28.48       33.71      1010        82      25.11  11.03   \n",
       "3  1630472400  28.78       33.93      1010        79      24.77  10.84   \n",
       "4  1630476000  29.08       34.10      1009        76      24.42   8.98   \n",
       "\n",
       "   clouds  visibility  wind_speed  wind_deg  wind_gust  \\\n",
       "0      92       10000        6.15        78       7.75   \n",
       "1      92       10000        6.52        78       7.87   \n",
       "2      92       10000        6.61        82       7.86   \n",
       "3      92       10000        6.19        90       7.15   \n",
       "4      88       10000        6.10        94       6.93   \n",
       "\n",
       "                                             weather   pop          rain  \n",
       "0  [{'id': 500, 'main': 'Rain', 'description': 'l...  0.73  {'1h': 0.96}  \n",
       "1  [{'id': 804, 'main': 'Clouds', 'description': ...  0.81           NaN  \n",
       "2  [{'id': 501, 'main': 'Rain', 'description': 'm...  0.86  {'1h': 3.16}  \n",
       "3  [{'id': 804, 'main': 'Clouds', 'description': ...  0.84           NaN  \n",
       "4  [{'id': 804, 'main': 'Clouds', 'description': ...  0.80           NaN  "
      ]
     },
     "execution_count": 10,
     "metadata": {},
     "output_type": "execute_result"
    }
   ],
   "source": [
    "df_hourly.head()"
   ]
  },
  {
   "cell_type": "code",
   "execution_count": null,
   "metadata": {},
   "outputs": [],
   "source": []
  }
 ],
 "metadata": {
  "interpreter": {
   "hash": "c1b4cfe941b6d2466ad1fb5979e97da9cda8801728c8091b097ab734208fc00c"
  },
  "kernelspec": {
   "display_name": "Python 3.8.3 64-bit ('base': conda)",
   "name": "python3"
  },
  "language_info": {
   "codemirror_mode": {
    "name": "ipython",
    "version": 3
   },
   "file_extension": ".py",
   "mimetype": "text/x-python",
   "name": "python",
   "nbconvert_exporter": "python",
   "pygments_lexer": "ipython3",
   "version": "3.8.11"
  }
 },
 "nbformat": 4,
 "nbformat_minor": 2
}
