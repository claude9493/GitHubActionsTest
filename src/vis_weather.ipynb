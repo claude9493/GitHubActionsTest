{
 "cells": [
  {
   "cell_type": "code",
   "execution_count": 1,
   "metadata": {
    "execution": {
     "iopub.execute_input": "2021-10-03T07:11:22.595465Z",
     "iopub.status.busy": "2021-10-03T07:11:22.594592Z",
     "iopub.status.idle": "2021-10-03T07:11:24.249356Z",
     "shell.execute_reply": "2021-10-03T07:11:24.248448Z"
    }
   },
   "outputs": [],
   "source": [
    "import json, yaml, requests\r\n",
    "from datetime import datetime\r\n",
    "from dateutil import tz\r\n",
    "import pandas as pd\r\n",
    "from PIL import Image\r\n",
    "from io import BytesIO\r\n",
    "import matplotlib.pyplot as plt\r\n",
    "import seaborn\r\n",
    "\r\n",
    "CONFIG_PATH = \"../config/config.yaml\""
   ]
  },
  {
   "cell_type": "code",
   "execution_count": 2,
   "metadata": {
    "execution": {
     "iopub.execute_input": "2021-10-03T07:11:24.257775Z",
     "iopub.status.busy": "2021-10-03T07:11:24.256850Z",
     "iopub.status.idle": "2021-10-03T07:11:24.269114Z",
     "shell.execute_reply": "2021-10-03T07:11:24.267637Z"
    }
   },
   "outputs": [],
   "source": [
    "with open('../newest_ts', 'r') as f:\r\n",
    "    newest_ts = f.read()\r\n",
    "\r\n",
    "data_path = f\"../data/data_{newest_ts}.json\"\r\n",
    "with open(data_path, 'r') as f:\r\n",
    "    data = json.load(f)\r\n",
    "\r\n",
    "with open(CONFIG_PATH, \"r\") as stream:\r\n",
    "    config = yaml.safe_load(stream)\r\n",
    "\r\n",
    "TIME_ZONE = config['time_zone']\r\n",
    "DATETIME_FORMAT = config['dt_format']"
   ]
  },
  {
   "cell_type": "code",
   "execution_count": 3,
   "metadata": {
    "execution": {
     "iopub.execute_input": "2021-10-03T07:11:24.275421Z",
     "iopub.status.busy": "2021-10-03T07:11:24.274695Z",
     "iopub.status.idle": "2021-10-03T07:11:24.282497Z",
     "shell.execute_reply": "2021-10-03T07:11:24.283206Z"
    }
   },
   "outputs": [
    {
     "name": "stdout",
     "output_type": "stream",
     "text": [
      "Recent query happens at 2021-10-03 15:11:19 (CST).\n"
     ]
    }
   ],
   "source": [
    "def ts2dt(ts, format=DATETIME_FORMAT):\r\n",
    "    dt = (datetime.utcfromtimestamp(int(ts))\r\n",
    "                    .replace(tzinfo=tz.tzutc())\r\n",
    "                    # .astimezone(tz.tzlocal())\r\n",
    "                    .astimezone(tz.gettz(TIME_ZONE)))\r\n",
    "    return dt.strftime(format), dt\r\n",
    "\r\n",
    "_, newest_dt = ts2dt(newest_ts)\r\n",
    "print(f\"Recent query happens at {newest_dt.strftime(DATETIME_FORMAT)} ({newest_dt.tzname()}).\")"
   ]
  },
  {
   "cell_type": "code",
   "execution_count": 4,
   "metadata": {
    "execution": {
     "iopub.execute_input": "2021-10-03T07:11:24.291203Z",
     "iopub.status.busy": "2021-10-03T07:11:24.289941Z",
     "iopub.status.idle": "2021-10-03T07:11:24.292451Z",
     "shell.execute_reply": "2021-10-03T07:11:24.291873Z"
    }
   },
   "outputs": [],
   "source": [
    "def degrees_to_cardinal(d):\r\n",
    "  dirs = ['N', 'NNE', 'NE', 'ENE', 'E', 'ESE', 'SE', 'SSE', 'S', 'SSW', 'SW', 'WSW', 'W', 'WNW', 'NW', 'NNW']\r\n",
    "  ix = int(round(d / (360. / len(dirs))))\r\n",
    "  return dirs[ix % len(dirs)]"
   ]
  },
  {
   "cell_type": "code",
   "execution_count": 5,
   "metadata": {
    "execution": {
     "iopub.execute_input": "2021-10-03T07:11:24.299696Z",
     "iopub.status.busy": "2021-10-03T07:11:24.298526Z",
     "iopub.status.idle": "2021-10-03T07:11:24.301091Z",
     "shell.execute_reply": "2021-10-03T07:11:24.300393Z"
    }
   },
   "outputs": [],
   "source": [
    "# data.keys()"
   ]
  },
  {
   "cell_type": "code",
   "execution_count": 6,
   "metadata": {
    "execution": {
     "iopub.execute_input": "2021-10-03T07:11:24.307063Z",
     "iopub.status.busy": "2021-10-03T07:11:24.305155Z",
     "iopub.status.idle": "2021-10-03T07:11:24.307728Z",
     "shell.execute_reply": "2021-10-03T07:11:24.308323Z"
    }
   },
   "outputs": [],
   "source": [
    "# data['current']"
   ]
  },
  {
   "cell_type": "code",
   "execution_count": 7,
   "metadata": {
    "execution": {
     "iopub.execute_input": "2021-10-03T07:11:24.333205Z",
     "iopub.status.busy": "2021-10-03T07:11:24.332320Z",
     "iopub.status.idle": "2021-10-03T07:11:24.619076Z",
     "shell.execute_reply": "2021-10-03T07:11:24.619646Z"
    }
   },
   "outputs": [
    {
     "data": {
      "image/png": "[encoded data removed]",
      "text/plain": [
       "<Figure size 216x216 with 1 Axes>"
      ]
     },
     "metadata": {
      "needs_background": "light"
     },
     "output_type": "display_data"
    },
    {
     "name": "stdout",
     "output_type": "stream",
     "text": [
      "Today, sun rises at 06:14 and sets at 18:09.\n",
      "Currently, the weather is Clouds (broken clouds).\n",
      "The temperature is 29.87°C and it feels like 35.95°C.\n",
      "The UV index is 4.8, humidity is 75%.\n",
      "The pressure is 1016 hPa, percentage of cloud cover is 62%\n",
      "The wind comes from NE direction with a speed 1.34 m/s.\n"
     ]
    }
   ],
   "source": [
    "current = data['current']\r\n",
    "\r\n",
    "fig, ax = plt.subplots(figsize=(3, 3))\r\n",
    "icon = requests.get(f\"http://openweathermap.org/img/wn/{current['weather'][0]['icon']}@2x.png\")\r\n",
    "im = Image.open(BytesIO(icon.content))\r\n",
    "plt.imshow(im)\r\n",
    "ax.set_axis_off()\r\n",
    "plt.show()\r\n",
    "\r\n",
    "print(f\"Today, sun rises at {ts2dt(current['sunrise'], '%H:%M')[0]} \\\r\n",
    "and sets at {ts2dt(current['sunset'], '%H:%M')[0]}.\\n\\\r\n",
    "Currently, the weather is {current['weather'][0]['main']} ({current['weather'][0]['description']}).\\n\\\r\n",
    "The temperature is {current['temp']}°C and it feels like {current['feels_like']}°C.\\n\\\r\n",
    "The UV index is {current['uvi']}, humidity is {current['humidity']}%.\\n\\\r\n",
    "The pressure is {current['pressure']} hPa, percentage of cloud cover is {current['clouds']}%\\n\\\r\n",
    "The wind comes from {degrees_to_cardinal(current['wind_deg'])} direction with a speed {current['wind_speed']} m/s.\")"
   ]
  },
  {
   "cell_type": "code",
   "execution_count": 8,
   "metadata": {
    "execution": {
     "iopub.execute_input": "2021-10-03T07:11:24.625793Z",
     "iopub.status.busy": "2021-10-03T07:11:24.625182Z",
     "iopub.status.idle": "2021-10-03T07:11:24.632787Z",
     "shell.execute_reply": "2021-10-03T07:11:24.633703Z"
    }
   },
   "outputs": [],
   "source": [
    "df_hourly = pd.DataFrame(data['hourly'])\r\n",
    "df_daily = pd.DataFrame(data['daily'])"
   ]
  },
  {
   "cell_type": "code",
   "execution_count": 9,
   "metadata": {
    "execution": {
     "iopub.execute_input": "2021-10-03T07:11:24.638215Z",
     "iopub.status.busy": "2021-10-03T07:11:24.636790Z",
     "iopub.status.idle": "2021-10-03T07:11:24.987519Z",
     "shell.execute_reply": "2021-10-03T07:11:24.986969Z"
    }
   },
   "outputs": [
    {
     "data": {
      "image/png": "[encoded data removed]",
      "text/plain": [
       "<Figure size 864x432 with 1 Axes>"
      ]
     },
     "metadata": {
      "needs_background": "light"
     },
     "output_type": "display_data"
    }
   ],
   "source": [
    "fig, ax = plt.subplots(figsize=(12, 6))\r\n",
    "plt.plot(df_hourly.temp, '.-', label='Temperature')\r\n",
    "plt.plot(df_hourly.feels_like, '.-', label='Feels Like')\r\n",
    "ax.set(title='Temperature in future 48 hours', xlabel='Time', ylabel='Temperature')\r\n",
    "ax.set_xticks(list(range(0, len(df_hourly), 2)))\r\n",
    "ax.set_xticklabels([ts2dt(ts, '%m-%d %H:%M')[0] for i, ts in enumerate(df_hourly.dt) if i%2==0], \r\n",
    "                   rotation=45, ha=\"right\")\r\n",
    "ax.locator_params(nbins=15, axis='y')\r\n",
    "plt.legend()\r\n",
    "plt.show()"
   ]
  },
  {
   "cell_type": "code",
   "execution_count": 10,
   "metadata": {
    "execution": {
     "iopub.execute_input": "2021-10-03T07:11:25.003658Z",
     "iopub.status.busy": "2021-10-03T07:11:24.992388Z",
     "iopub.status.idle": "2021-10-03T07:11:25.017216Z",
     "shell.execute_reply": "2021-10-03T07:11:25.017750Z"
    }
   },
   "outputs": [
    {
     "data": {
      "text/html": [
       "<div>\n",
       "<style scoped>\n",
       "    .dataframe tbody tr th:only-of-type {\n",
       "        vertical-align: middle;\n",
       "    }\n",
       "\n",
       "    .dataframe tbody tr th {\n",
       "        vertical-align: top;\n",
       "    }\n",
       "\n",
       "    .dataframe thead th {\n",
       "        text-align: right;\n",
       "    }\n",
       "</style>\n",
       "<table border=\"1\" class=\"dataframe\">\n",
       "  <thead>\n",
       "    <tr style=\"text-align: right;\">\n",
       "      <th></th>\n",
       "      <th>dt</th>\n",
       "      <th>temp</th>\n",
       "      <th>feels_like</th>\n",
       "      <th>pressure</th>\n",
       "      <th>humidity</th>\n",
       "      <th>dew_point</th>\n",
       "      <th>uvi</th>\n",
       "      <th>clouds</th>\n",
       "      <th>visibility</th>\n",
       "      <th>wind_speed</th>\n",
       "      <th>wind_deg</th>\n",
       "      <th>wind_gust</th>\n",
       "      <th>weather</th>\n",
       "      <th>pop</th>\n",
       "      <th>rain</th>\n",
       "    </tr>\n",
       "  </thead>\n",
       "  <tbody>\n",
       "    <tr>\n",
       "      <th>0</th>\n",
       "      <td>1633244400</td>\n",
       "      <td>29.87</td>\n",
       "      <td>35.95</td>\n",
       "      <td>1016</td>\n",
       "      <td>75</td>\n",
       "      <td>24.96</td>\n",
       "      <td>4.80</td>\n",
       "      <td>62</td>\n",
       "      <td>10000</td>\n",
       "      <td>6.72</td>\n",
       "      <td>95</td>\n",
       "      <td>7.53</td>\n",
       "      <td>[{'id': 803, 'main': 'Clouds', 'description': ...</td>\n",
       "      <td>0.63</td>\n",
       "      <td>NaN</td>\n",
       "    </tr>\n",
       "    <tr>\n",
       "      <th>1</th>\n",
       "      <td>1633248000</td>\n",
       "      <td>29.66</td>\n",
       "      <td>35.14</td>\n",
       "      <td>1015</td>\n",
       "      <td>74</td>\n",
       "      <td>24.53</td>\n",
       "      <td>2.31</td>\n",
       "      <td>60</td>\n",
       "      <td>10000</td>\n",
       "      <td>6.88</td>\n",
       "      <td>97</td>\n",
       "      <td>7.79</td>\n",
       "      <td>[{'id': 501, 'main': 'Rain', 'description': 'm...</td>\n",
       "      <td>0.74</td>\n",
       "      <td>{'1h': 1.54}</td>\n",
       "    </tr>\n",
       "    <tr>\n",
       "      <th>2</th>\n",
       "      <td>1633251600</td>\n",
       "      <td>29.24</td>\n",
       "      <td>34.51</td>\n",
       "      <td>1014</td>\n",
       "      <td>76</td>\n",
       "      <td>24.57</td>\n",
       "      <td>0.71</td>\n",
       "      <td>59</td>\n",
       "      <td>10000</td>\n",
       "      <td>6.65</td>\n",
       "      <td>101</td>\n",
       "      <td>8.00</td>\n",
       "      <td>[{'id': 803, 'main': 'Clouds', 'description': ...</td>\n",
       "      <td>0.74</td>\n",
       "      <td>NaN</td>\n",
       "    </tr>\n",
       "    <tr>\n",
       "      <th>3</th>\n",
       "      <td>1633255200</td>\n",
       "      <td>28.68</td>\n",
       "      <td>33.29</td>\n",
       "      <td>1013</td>\n",
       "      <td>77</td>\n",
       "      <td>24.25</td>\n",
       "      <td>0.00</td>\n",
       "      <td>60</td>\n",
       "      <td>10000</td>\n",
       "      <td>6.08</td>\n",
       "      <td>99</td>\n",
       "      <td>8.03</td>\n",
       "      <td>[{'id': 500, 'main': 'Rain', 'description': 'l...</td>\n",
       "      <td>0.78</td>\n",
       "      <td>{'1h': 0.14}</td>\n",
       "    </tr>\n",
       "    <tr>\n",
       "      <th>4</th>\n",
       "      <td>1633258800</td>\n",
       "      <td>28.33</td>\n",
       "      <td>32.77</td>\n",
       "      <td>1013</td>\n",
       "      <td>79</td>\n",
       "      <td>24.34</td>\n",
       "      <td>0.00</td>\n",
       "      <td>56</td>\n",
       "      <td>10000</td>\n",
       "      <td>5.91</td>\n",
       "      <td>96</td>\n",
       "      <td>8.01</td>\n",
       "      <td>[{'id': 803, 'main': 'Clouds', 'description': ...</td>\n",
       "      <td>0.78</td>\n",
       "      <td>NaN</td>\n",
       "    </tr>\n",
       "  </tbody>\n",
       "</table>\n",
       "</div>"
      ],
      "text/plain": [
       "           dt   temp  feels_like  pressure  humidity  dew_point   uvi  clouds  \\\n",
       "0  1633244400  29.87       35.95      1016        75      24.96  4.80      62   \n",
       "1  1633248000  29.66       35.14      1015        74      24.53  2.31      60   \n",
       "2  1633251600  29.24       34.51      1014        76      24.57  0.71      59   \n",
       "3  1633255200  28.68       33.29      1013        77      24.25  0.00      60   \n",
       "4  1633258800  28.33       32.77      1013        79      24.34  0.00      56   \n",
       "\n",
       "   visibility  wind_speed  wind_deg  wind_gust  \\\n",
       "0       10000        6.72        95       7.53   \n",
       "1       10000        6.88        97       7.79   \n",
       "2       10000        6.65       101       8.00   \n",
       "3       10000        6.08        99       8.03   \n",
       "4       10000        5.91        96       8.01   \n",
       "\n",
       "                                             weather   pop          rain  \n",
       "0  [{'id': 803, 'main': 'Clouds', 'description': ...  0.63           NaN  \n",
       "1  [{'id': 501, 'main': 'Rain', 'description': 'm...  0.74  {'1h': 1.54}  \n",
       "2  [{'id': 803, 'main': 'Clouds', 'description': ...  0.74           NaN  \n",
       "3  [{'id': 500, 'main': 'Rain', 'description': 'l...  0.78  {'1h': 0.14}  \n",
       "4  [{'id': 803, 'main': 'Clouds', 'description': ...  0.78           NaN  "
      ]
     },
     "execution_count": 10,
     "metadata": {},
     "output_type": "execute_result"
    }
   ],
   "source": [
    "df_hourly.head()"
   ]
  },
  {
   "cell_type": "code",
   "execution_count": null,
   "metadata": {},
   "outputs": [],
   "source": []
  }
 ],
 "metadata": {
  "interpreter": {
   "hash": "c1b4cfe941b6d2466ad1fb5979e97da9cda8801728c8091b097ab734208fc00c"
  },
  "kernelspec": {
   "display_name": "Python 3.8.3 64-bit ('base': conda)",
   "name": "python3"
  },
  "language_info": {
   "codemirror_mode": {
    "name": "ipython",
    "version": 3
   },
   "file_extension": ".py",
   "mimetype": "text/x-python",
   "name": "python",
   "nbconvert_exporter": "python",
   "pygments_lexer": "ipython3",
   "version": "3.8.12"
  }
 },
 "nbformat": 4,
 "nbformat_minor": 2
}
