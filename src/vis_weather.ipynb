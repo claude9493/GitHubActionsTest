{
 "cells": [
  {
   "cell_type": "code",
   "execution_count": 1,
   "metadata": {
    "execution": {
     "iopub.execute_input": "2021-09-02T00:50:14.274508Z",
     "iopub.status.busy": "2021-09-02T00:50:14.273706Z",
     "iopub.status.idle": "2021-09-02T00:50:16.284316Z",
     "shell.execute_reply": "2021-09-02T00:50:16.283331Z"
    }
   },
   "outputs": [],
   "source": [
    "import json, yaml, requests\r\n",
    "from datetime import datetime\r\n",
    "from dateutil import tz\r\n",
    "import pandas as pd\r\n",
    "from PIL import Image\r\n",
    "from io import BytesIO\r\n",
    "import matplotlib.pyplot as plt\r\n",
    "import seaborn\r\n",
    "\r\n",
    "CONFIG_PATH = \"../config/config.yaml\""
   ]
  },
  {
   "cell_type": "code",
   "execution_count": 2,
   "metadata": {
    "execution": {
     "iopub.execute_input": "2021-09-02T00:50:16.289801Z",
     "iopub.status.busy": "2021-09-02T00:50:16.286966Z",
     "iopub.status.idle": "2021-09-02T00:50:16.295685Z",
     "shell.execute_reply": "2021-09-02T00:50:16.295194Z"
    }
   },
   "outputs": [],
   "source": [
    "with open('../newest_ts', 'r') as f:\r\n",
    "    newest_ts = f.read()\r\n",
    "\r\n",
    "data_path = f\"../data/data_{newest_ts}.json\"\r\n",
    "with open(data_path, 'r') as f:\r\n",
    "    data = json.load(f)\r\n",
    "\r\n",
    "with open(CONFIG_PATH, \"r\") as stream:\r\n",
    "    config = yaml.safe_load(stream)\r\n",
    "\r\n",
    "TIME_ZONE = config['time_zone']\r\n",
    "DATETIME_FORMAT = config['dt_format']"
   ]
  },
  {
   "cell_type": "code",
   "execution_count": 3,
   "metadata": {
    "execution": {
     "iopub.execute_input": "2021-09-02T00:50:16.300560Z",
     "iopub.status.busy": "2021-09-02T00:50:16.299764Z",
     "iopub.status.idle": "2021-09-02T00:50:16.362067Z",
     "shell.execute_reply": "2021-09-02T00:50:16.361571Z"
    }
   },
   "outputs": [
    {
     "name": "stdout",
     "output_type": "stream",
     "text": [
      "Recent query happens at 2021-09-02 08:50:10 (CST).\n"
     ]
    }
   ],
   "source": [
    "def ts2dt(ts, format=DATETIME_FORMAT):\r\n",
    "    dt = (datetime.utcfromtimestamp(int(ts))\r\n",
    "                    .replace(tzinfo=tz.tzutc())\r\n",
    "                    # .astimezone(tz.tzlocal())\r\n",
    "                    .astimezone(tz.gettz(TIME_ZONE)))\r\n",
    "    return dt.strftime(format), dt\r\n",
    "\r\n",
    "_, newest_dt = ts2dt(newest_ts)\r\n",
    "print(f\"Recent query happens at {newest_dt.strftime(DATETIME_FORMAT)} ({newest_dt.tzname()}).\")"
   ]
  },
  {
   "cell_type": "code",
   "execution_count": 4,
   "metadata": {
    "execution": {
     "iopub.execute_input": "2021-09-02T00:50:16.367879Z",
     "iopub.status.busy": "2021-09-02T00:50:16.366487Z",
     "iopub.status.idle": "2021-09-02T00:50:16.368503Z",
     "shell.execute_reply": "2021-09-02T00:50:16.368994Z"
    }
   },
   "outputs": [],
   "source": [
    "def degrees_to_cardinal(d):\r\n",
    "  dirs = ['N', 'NNE', 'NE', 'ENE', 'E', 'ESE', 'SE', 'SSE', 'S', 'SSW', 'SW', 'WSW', 'W', 'WNW', 'NW', 'NNW']\r\n",
    "  ix = int(round(d / (360. / len(dirs))))\r\n",
    "  return dirs[ix % len(dirs)]"
   ]
  },
  {
   "cell_type": "code",
   "execution_count": 5,
   "metadata": {
    "execution": {
     "iopub.execute_input": "2021-09-02T00:50:16.373242Z",
     "iopub.status.busy": "2021-09-02T00:50:16.372241Z",
     "iopub.status.idle": "2021-09-02T00:50:16.374341Z",
     "shell.execute_reply": "2021-09-02T00:50:16.375143Z"
    }
   },
   "outputs": [],
   "source": [
    "# data.keys()"
   ]
  },
  {
   "cell_type": "code",
   "execution_count": 6,
   "metadata": {
    "execution": {
     "iopub.execute_input": "2021-09-02T00:50:16.379876Z",
     "iopub.status.busy": "2021-09-02T00:50:16.378521Z",
     "iopub.status.idle": "2021-09-02T00:50:16.380571Z",
     "shell.execute_reply": "2021-09-02T00:50:16.381029Z"
    }
   },
   "outputs": [],
   "source": [
    "# data['current']"
   ]
  },
  {
   "cell_type": "code",
   "execution_count": 7,
   "metadata": {
    "execution": {
     "iopub.execute_input": "2021-09-02T00:50:16.401827Z",
     "iopub.status.busy": "2021-09-02T00:50:16.401310Z",
     "iopub.status.idle": "2021-09-02T00:50:17.032833Z",
     "shell.execute_reply": "2021-09-02T00:50:17.033347Z"
    }
   },
   "outputs": [
    {
     "data": {
      "image/png": "[encoded data removed]",
      "text/plain": [
       "<Figure size 216x216 with 1 Axes>"
      ]
     },
     "metadata": {
      "needs_background": "light"
     },
     "output_type": "display_data"
    },
    {
     "name": "stdout",
     "output_type": "stream",
     "text": [
      "Today, sun rises at 06:06 and sets at 18:39.\n",
      "Currently, the weather is Clouds (scattered clouds).\n",
      "The temperature is 29.34°C and it feels like 36.34°C.\n",
      "The UV index is 3.61, humidity is 84%.\n",
      "The pressure is 1010 hPa, percentage of cloud cover is 33%\n",
      "The wind comes from E direction with a speed 3.77 m/s.\n"
     ]
    }
   ],
   "source": [
    "current = data['current']\r\n",
    "\r\n",
    "fig, ax = plt.subplots(figsize=(3, 3))\r\n",
    "icon = requests.get(f\"http://openweathermap.org/img/wn/{current['weather'][0]['icon']}@2x.png\")\r\n",
    "im = Image.open(BytesIO(icon.content))\r\n",
    "plt.imshow(im)\r\n",
    "ax.set_axis_off()\r\n",
    "plt.show()\r\n",
    "\r\n",
    "print(f\"Today, sun rises at {ts2dt(current['sunrise'], '%H:%M')[0]} \\\r\n",
    "and sets at {ts2dt(current['sunset'], '%H:%M')[0]}.\\n\\\r\n",
    "Currently, the weather is {current['weather'][0]['main']} ({current['weather'][0]['description']}).\\n\\\r\n",
    "The temperature is {current['temp']}°C and it feels like {current['feels_like']}°C.\\n\\\r\n",
    "The UV index is {current['uvi']}, humidity is {current['humidity']}%.\\n\\\r\n",
    "The pressure is {current['pressure']} hPa, percentage of cloud cover is {current['clouds']}%\\n\\\r\n",
    "The wind comes from {degrees_to_cardinal(current['wind_deg'])} direction with a speed {current['wind_speed']} m/s.\")"
   ]
  },
  {
   "cell_type": "code",
   "execution_count": 8,
   "metadata": {
    "execution": {
     "iopub.execute_input": "2021-09-02T00:50:17.036188Z",
     "iopub.status.busy": "2021-09-02T00:50:17.035594Z",
     "iopub.status.idle": "2021-09-02T00:50:17.042483Z",
     "shell.execute_reply": "2021-09-02T00:50:17.043096Z"
    }
   },
   "outputs": [],
   "source": [
    "df_hourly = pd.DataFrame(data['hourly'])\r\n",
    "df_daily = pd.DataFrame(data['daily'])"
   ]
  },
  {
   "cell_type": "code",
   "execution_count": 9,
   "metadata": {
    "execution": {
     "iopub.execute_input": "2021-09-02T00:50:17.046457Z",
     "iopub.status.busy": "2021-09-02T00:50:17.044981Z",
     "iopub.status.idle": "2021-09-02T00:50:17.391498Z",
     "shell.execute_reply": "2021-09-02T00:50:17.395530Z"
    }
   },
   "outputs": [
    {
     "data": {
      "image/png": "[encoded data removed]",
      "text/plain": [
       "<Figure size 864x432 with 1 Axes>"
      ]
     },
     "metadata": {
      "needs_background": "light"
     },
     "output_type": "display_data"
    }
   ],
   "source": [
    "fig, ax = plt.subplots(figsize=(12, 6))\r\n",
    "plt.plot(df_hourly.temp, '.-', label='Temperature')\r\n",
    "plt.plot(df_hourly.feels_like, '.-', label='Feels Like')\r\n",
    "ax.set(title='Temperature in future 48 hours', xlabel='Time', ylabel='Temperature')\r\n",
    "ax.set_xticks(list(range(0, len(df_hourly), 2)))\r\n",
    "ax.set_xticklabels([ts2dt(ts, '%m-%d %H:%M')[0] for i, ts in enumerate(df_hourly.dt) if i%2==0], \r\n",
    "                   rotation=45, ha=\"right\")\r\n",
    "ax.locator_params(nbins=15, axis='y')\r\n",
    "plt.legend()\r\n",
    "plt.show()"
   ]
  },
  {
   "cell_type": "code",
   "execution_count": 10,
   "metadata": {
    "execution": {
     "iopub.execute_input": "2021-09-02T00:50:17.400349Z",
     "iopub.status.busy": "2021-09-02T00:50:17.399802Z",
     "iopub.status.idle": "2021-09-02T00:50:17.418201Z",
     "shell.execute_reply": "2021-09-02T00:50:17.418741Z"
    }
   },
   "outputs": [
    {
     "data": {
      "text/html": [
       "<div>\n",
       "<style scoped>\n",
       "    .dataframe tbody tr th:only-of-type {\n",
       "        vertical-align: middle;\n",
       "    }\n",
       "\n",
       "    .dataframe tbody tr th {\n",
       "        vertical-align: top;\n",
       "    }\n",
       "\n",
       "    .dataframe thead th {\n",
       "        text-align: right;\n",
       "    }\n",
       "</style>\n",
       "<table border=\"1\" class=\"dataframe\">\n",
       "  <thead>\n",
       "    <tr style=\"text-align: right;\">\n",
       "      <th></th>\n",
       "      <th>dt</th>\n",
       "      <th>temp</th>\n",
       "      <th>feels_like</th>\n",
       "      <th>pressure</th>\n",
       "      <th>humidity</th>\n",
       "      <th>dew_point</th>\n",
       "      <th>uvi</th>\n",
       "      <th>clouds</th>\n",
       "      <th>visibility</th>\n",
       "      <th>wind_speed</th>\n",
       "      <th>wind_deg</th>\n",
       "      <th>wind_gust</th>\n",
       "      <th>weather</th>\n",
       "      <th>pop</th>\n",
       "      <th>rain</th>\n",
       "    </tr>\n",
       "  </thead>\n",
       "  <tbody>\n",
       "    <tr>\n",
       "      <th>0</th>\n",
       "      <td>1630540800</td>\n",
       "      <td>29.14</td>\n",
       "      <td>35.83</td>\n",
       "      <td>1010</td>\n",
       "      <td>83</td>\n",
       "      <td>25.95</td>\n",
       "      <td>1.46</td>\n",
       "      <td>32</td>\n",
       "      <td>10000</td>\n",
       "      <td>3.96</td>\n",
       "      <td>95</td>\n",
       "      <td>5.37</td>\n",
       "      <td>[{'id': 802, 'main': 'Clouds', 'description': ...</td>\n",
       "      <td>0.43</td>\n",
       "      <td>NaN</td>\n",
       "    </tr>\n",
       "    <tr>\n",
       "      <th>1</th>\n",
       "      <td>1630544400</td>\n",
       "      <td>29.34</td>\n",
       "      <td>36.34</td>\n",
       "      <td>1010</td>\n",
       "      <td>84</td>\n",
       "      <td>26.35</td>\n",
       "      <td>3.61</td>\n",
       "      <td>33</td>\n",
       "      <td>10000</td>\n",
       "      <td>3.77</td>\n",
       "      <td>101</td>\n",
       "      <td>4.85</td>\n",
       "      <td>[{'id': 802, 'main': 'Clouds', 'description': ...</td>\n",
       "      <td>0.59</td>\n",
       "      <td>NaN</td>\n",
       "    </tr>\n",
       "    <tr>\n",
       "      <th>2</th>\n",
       "      <td>1630548000</td>\n",
       "      <td>29.24</td>\n",
       "      <td>35.89</td>\n",
       "      <td>1010</td>\n",
       "      <td>82</td>\n",
       "      <td>25.85</td>\n",
       "      <td>6.50</td>\n",
       "      <td>31</td>\n",
       "      <td>10000</td>\n",
       "      <td>3.96</td>\n",
       "      <td>99</td>\n",
       "      <td>4.68</td>\n",
       "      <td>[{'id': 802, 'main': 'Clouds', 'description': ...</td>\n",
       "      <td>0.75</td>\n",
       "      <td>NaN</td>\n",
       "    </tr>\n",
       "    <tr>\n",
       "      <th>3</th>\n",
       "      <td>1630551600</td>\n",
       "      <td>29.31</td>\n",
       "      <td>35.62</td>\n",
       "      <td>1010</td>\n",
       "      <td>80</td>\n",
       "      <td>25.50</td>\n",
       "      <td>9.17</td>\n",
       "      <td>28</td>\n",
       "      <td>10000</td>\n",
       "      <td>3.90</td>\n",
       "      <td>100</td>\n",
       "      <td>4.44</td>\n",
       "      <td>[{'id': 802, 'main': 'Clouds', 'description': ...</td>\n",
       "      <td>0.73</td>\n",
       "      <td>NaN</td>\n",
       "    </tr>\n",
       "    <tr>\n",
       "      <th>4</th>\n",
       "      <td>1630555200</td>\n",
       "      <td>29.47</td>\n",
       "      <td>35.12</td>\n",
       "      <td>1009</td>\n",
       "      <td>76</td>\n",
       "      <td>24.79</td>\n",
       "      <td>11.30</td>\n",
       "      <td>24</td>\n",
       "      <td>10000</td>\n",
       "      <td>3.79</td>\n",
       "      <td>104</td>\n",
       "      <td>4.09</td>\n",
       "      <td>[{'id': 500, 'main': 'Rain', 'description': 'l...</td>\n",
       "      <td>0.93</td>\n",
       "      <td>{'1h': 0.13}</td>\n",
       "    </tr>\n",
       "  </tbody>\n",
       "</table>\n",
       "</div>"
      ],
      "text/plain": [
       "           dt   temp  feels_like  pressure  humidity  dew_point    uvi  \\\n",
       "0  1630540800  29.14       35.83      1010        83      25.95   1.46   \n",
       "1  1630544400  29.34       36.34      1010        84      26.35   3.61   \n",
       "2  1630548000  29.24       35.89      1010        82      25.85   6.50   \n",
       "3  1630551600  29.31       35.62      1010        80      25.50   9.17   \n",
       "4  1630555200  29.47       35.12      1009        76      24.79  11.30   \n",
       "\n",
       "   clouds  visibility  wind_speed  wind_deg  wind_gust  \\\n",
       "0      32       10000        3.96        95       5.37   \n",
       "1      33       10000        3.77       101       4.85   \n",
       "2      31       10000        3.96        99       4.68   \n",
       "3      28       10000        3.90       100       4.44   \n",
       "4      24       10000        3.79       104       4.09   \n",
       "\n",
       "                                             weather   pop          rain  \n",
       "0  [{'id': 802, 'main': 'Clouds', 'description': ...  0.43           NaN  \n",
       "1  [{'id': 802, 'main': 'Clouds', 'description': ...  0.59           NaN  \n",
       "2  [{'id': 802, 'main': 'Clouds', 'description': ...  0.75           NaN  \n",
       "3  [{'id': 802, 'main': 'Clouds', 'description': ...  0.73           NaN  \n",
       "4  [{'id': 500, 'main': 'Rain', 'description': 'l...  0.93  {'1h': 0.13}  "
      ]
     },
     "execution_count": 10,
     "metadata": {},
     "output_type": "execute_result"
    }
   ],
   "source": [
    "df_hourly.head()"
   ]
  },
  {
   "cell_type": "code",
   "execution_count": null,
   "metadata": {},
   "outputs": [],
   "source": []
  }
 ],
 "metadata": {
  "interpreter": {
   "hash": "c1b4cfe941b6d2466ad1fb5979e97da9cda8801728c8091b097ab734208fc00c"
  },
  "kernelspec": {
   "display_name": "Python 3.8.3 64-bit ('base': conda)",
   "name": "python3"
  },
  "language_info": {
   "codemirror_mode": {
    "name": "ipython",
    "version": 3
   },
   "file_extension": ".py",
   "mimetype": "text/x-python",
   "name": "python",
   "nbconvert_exporter": "python",
   "pygments_lexer": "ipython3",
   "version": "3.8.11"
  }
 },
 "nbformat": 4,
 "nbformat_minor": 2
}
