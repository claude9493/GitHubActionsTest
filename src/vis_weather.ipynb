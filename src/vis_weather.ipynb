{
 "cells": [
  {
   "cell_type": "code",
   "execution_count": 1,
   "metadata": {
    "execution": {
     "iopub.execute_input": "2021-09-08T14:14:34.786293Z",
     "iopub.status.busy": "2021-09-08T14:14:34.785722Z",
     "iopub.status.idle": "2021-09-08T14:14:35.958824Z",
     "shell.execute_reply": "2021-09-08T14:14:35.958218Z"
    }
   },
   "outputs": [],
   "source": [
    "import json, yaml, requests\r\n",
    "from datetime import datetime\r\n",
    "from dateutil import tz\r\n",
    "import pandas as pd\r\n",
    "from PIL import Image\r\n",
    "from io import BytesIO\r\n",
    "import matplotlib.pyplot as plt\r\n",
    "import seaborn\r\n",
    "\r\n",
    "CONFIG_PATH = \"../config/config.yaml\""
   ]
  },
  {
   "cell_type": "code",
   "execution_count": 2,
   "metadata": {
    "execution": {
     "iopub.execute_input": "2021-09-08T14:14:35.964233Z",
     "iopub.status.busy": "2021-09-08T14:14:35.963564Z",
     "iopub.status.idle": "2021-09-08T14:14:35.968827Z",
     "shell.execute_reply": "2021-09-08T14:14:35.968409Z"
    }
   },
   "outputs": [],
   "source": [
    "with open('../newest_ts', 'r') as f:\r\n",
    "    newest_ts = f.read()\r\n",
    "\r\n",
    "data_path = f\"../data/data_{newest_ts}.json\"\r\n",
    "with open(data_path, 'r') as f:\r\n",
    "    data = json.load(f)\r\n",
    "\r\n",
    "with open(CONFIG_PATH, \"r\") as stream:\r\n",
    "    config = yaml.safe_load(stream)\r\n",
    "\r\n",
    "TIME_ZONE = config['time_zone']\r\n",
    "DATETIME_FORMAT = config['dt_format']"
   ]
  },
  {
   "cell_type": "code",
   "execution_count": 3,
   "metadata": {
    "execution": {
     "iopub.execute_input": "2021-09-08T14:14:35.973328Z",
     "iopub.status.busy": "2021-09-08T14:14:35.972871Z",
     "iopub.status.idle": "2021-09-08T14:14:35.982676Z",
     "shell.execute_reply": "2021-09-08T14:14:35.983046Z"
    }
   },
   "outputs": [
    {
     "name": "stdout",
     "output_type": "stream",
     "text": [
      "Recent query happens at 2021-09-08 22:14:32 (CST).\n"
     ]
    }
   ],
   "source": [
    "def ts2dt(ts, format=DATETIME_FORMAT):\r\n",
    "    dt = (datetime.utcfromtimestamp(int(ts))\r\n",
    "                    .replace(tzinfo=tz.tzutc())\r\n",
    "                    # .astimezone(tz.tzlocal())\r\n",
    "                    .astimezone(tz.gettz(TIME_ZONE)))\r\n",
    "    return dt.strftime(format), dt\r\n",
    "\r\n",
    "_, newest_dt = ts2dt(newest_ts)\r\n",
    "print(f\"Recent query happens at {newest_dt.strftime(DATETIME_FORMAT)} ({newest_dt.tzname()}).\")"
   ]
  },
  {
   "cell_type": "code",
   "execution_count": 4,
   "metadata": {
    "execution": {
     "iopub.execute_input": "2021-09-08T14:14:35.988055Z",
     "iopub.status.busy": "2021-09-08T14:14:35.987146Z",
     "iopub.status.idle": "2021-09-08T14:14:35.988663Z",
     "shell.execute_reply": "2021-09-08T14:14:35.989033Z"
    }
   },
   "outputs": [],
   "source": [
    "def degrees_to_cardinal(d):\r\n",
    "  dirs = ['N', 'NNE', 'NE', 'ENE', 'E', 'ESE', 'SE', 'SSE', 'S', 'SSW', 'SW', 'WSW', 'W', 'WNW', 'NW', 'NNW']\r\n",
    "  ix = int(round(d / (360. / len(dirs))))\r\n",
    "  return dirs[ix % len(dirs)]"
   ]
  },
  {
   "cell_type": "code",
   "execution_count": 5,
   "metadata": {
    "execution": {
     "iopub.execute_input": "2021-09-08T14:14:35.992915Z",
     "iopub.status.busy": "2021-09-08T14:14:35.991925Z",
     "iopub.status.idle": "2021-09-08T14:14:35.993443Z",
     "shell.execute_reply": "2021-09-08T14:14:35.993807Z"
    }
   },
   "outputs": [],
   "source": [
    "# data.keys()"
   ]
  },
  {
   "cell_type": "code",
   "execution_count": 6,
   "metadata": {
    "execution": {
     "iopub.execute_input": "2021-09-08T14:14:35.997575Z",
     "iopub.status.busy": "2021-09-08T14:14:35.996491Z",
     "iopub.status.idle": "2021-09-08T14:14:35.998147Z",
     "shell.execute_reply": "2021-09-08T14:14:35.998522Z"
    }
   },
   "outputs": [],
   "source": [
    "# data['current']"
   ]
  },
  {
   "cell_type": "code",
   "execution_count": 7,
   "metadata": {
    "execution": {
     "iopub.execute_input": "2021-09-08T14:14:36.015276Z",
     "iopub.status.busy": "2021-09-08T14:14:36.014787Z",
     "iopub.status.idle": "2021-09-08T14:14:36.464865Z",
     "shell.execute_reply": "2021-09-08T14:14:36.465312Z"
    }
   },
   "outputs": [
    {
     "data": {
      "image/png": "[encoded data removed]",
      "text/plain": [
       "<Figure size 216x216 with 1 Axes>"
      ]
     },
     "metadata": {
      "needs_background": "light"
     },
     "output_type": "display_data"
    },
    {
     "name": "stdout",
     "output_type": "stream",
     "text": [
      "Today, sun rises at 06:07 and sets at 18:33.\n",
      "Currently, the weather is Rain (light rain).\n",
      "The temperature is 30.35°C and it feels like 33.51°C.\n",
      "The UV index is 0, humidity is 60%.\n",
      "The pressure is 1011 hPa, percentage of cloud cover is 20%\n",
      "The wind comes from SSE direction with a speed 2.77 m/s.\n"
     ]
    }
   ],
   "source": [
    "current = data['current']\r\n",
    "\r\n",
    "fig, ax = plt.subplots(figsize=(3, 3))\r\n",
    "icon = requests.get(f\"http://openweathermap.org/img/wn/{current['weather'][0]['icon']}@2x.png\")\r\n",
    "im = Image.open(BytesIO(icon.content))\r\n",
    "plt.imshow(im)\r\n",
    "ax.set_axis_off()\r\n",
    "plt.show()\r\n",
    "\r\n",
    "print(f\"Today, sun rises at {ts2dt(current['sunrise'], '%H:%M')[0]} \\\r\n",
    "and sets at {ts2dt(current['sunset'], '%H:%M')[0]}.\\n\\\r\n",
    "Currently, the weather is {current['weather'][0]['main']} ({current['weather'][0]['description']}).\\n\\\r\n",
    "The temperature is {current['temp']}°C and it feels like {current['feels_like']}°C.\\n\\\r\n",
    "The UV index is {current['uvi']}, humidity is {current['humidity']}%.\\n\\\r\n",
    "The pressure is {current['pressure']} hPa, percentage of cloud cover is {current['clouds']}%\\n\\\r\n",
    "The wind comes from {degrees_to_cardinal(current['wind_deg'])} direction with a speed {current['wind_speed']} m/s.\")"
   ]
  },
  {
   "cell_type": "code",
   "execution_count": 8,
   "metadata": {
    "execution": {
     "iopub.execute_input": "2021-09-08T14:14:36.467615Z",
     "iopub.status.busy": "2021-09-08T14:14:36.467173Z",
     "iopub.status.idle": "2021-09-08T14:14:36.472736Z",
     "shell.execute_reply": "2021-09-08T14:14:36.473169Z"
    }
   },
   "outputs": [],
   "source": [
    "df_hourly = pd.DataFrame(data['hourly'])\r\n",
    "df_daily = pd.DataFrame(data['daily'])"
   ]
  },
  {
   "cell_type": "code",
   "execution_count": 9,
   "metadata": {
    "execution": {
     "iopub.execute_input": "2021-09-08T14:14:36.475295Z",
     "iopub.status.busy": "2021-09-08T14:14:36.474853Z",
     "iopub.status.idle": "2021-09-08T14:14:36.713704Z",
     "shell.execute_reply": "2021-09-08T14:14:36.714097Z"
    }
   },
   "outputs": [
    {
     "data": {
      "image/png": "[encoded data removed]",
      "text/plain": [
       "<Figure size 864x432 with 1 Axes>"
      ]
     },
     "metadata": {
      "needs_background": "light"
     },
     "output_type": "display_data"
    }
   ],
   "source": [
    "fig, ax = plt.subplots(figsize=(12, 6))\r\n",
    "plt.plot(df_hourly.temp, '.-', label='Temperature')\r\n",
    "plt.plot(df_hourly.feels_like, '.-', label='Feels Like')\r\n",
    "ax.set(title='Temperature in future 48 hours', xlabel='Time', ylabel='Temperature')\r\n",
    "ax.set_xticks(list(range(0, len(df_hourly), 2)))\r\n",
    "ax.set_xticklabels([ts2dt(ts, '%m-%d %H:%M')[0] for i, ts in enumerate(df_hourly.dt) if i%2==0], \r\n",
    "                   rotation=45, ha=\"right\")\r\n",
    "ax.locator_params(nbins=15, axis='y')\r\n",
    "plt.legend()\r\n",
    "plt.show()"
   ]
  },
  {
   "cell_type": "code",
   "execution_count": 10,
   "metadata": {
    "execution": {
     "iopub.execute_input": "2021-09-08T14:14:36.725188Z",
     "iopub.status.busy": "2021-09-08T14:14:36.718011Z",
     "iopub.status.idle": "2021-09-08T14:14:36.734749Z",
     "shell.execute_reply": "2021-09-08T14:14:36.735120Z"
    }
   },
   "outputs": [
    {
     "data": {
      "text/html": [
       "<div>\n",
       "<style scoped>\n",
       "    .dataframe tbody tr th:only-of-type {\n",
       "        vertical-align: middle;\n",
       "    }\n",
       "\n",
       "    .dataframe tbody tr th {\n",
       "        vertical-align: top;\n",
       "    }\n",
       "\n",
       "    .dataframe thead th {\n",
       "        text-align: right;\n",
       "    }\n",
       "</style>\n",
       "<table border=\"1\" class=\"dataframe\">\n",
       "  <thead>\n",
       "    <tr style=\"text-align: right;\">\n",
       "      <th></th>\n",
       "      <th>dt</th>\n",
       "      <th>temp</th>\n",
       "      <th>feels_like</th>\n",
       "      <th>pressure</th>\n",
       "      <th>humidity</th>\n",
       "      <th>dew_point</th>\n",
       "      <th>uvi</th>\n",
       "      <th>clouds</th>\n",
       "      <th>visibility</th>\n",
       "      <th>wind_speed</th>\n",
       "      <th>wind_deg</th>\n",
       "      <th>wind_gust</th>\n",
       "      <th>weather</th>\n",
       "      <th>pop</th>\n",
       "      <th>rain</th>\n",
       "    </tr>\n",
       "  </thead>\n",
       "  <tbody>\n",
       "    <tr>\n",
       "      <th>0</th>\n",
       "      <td>1631109600</td>\n",
       "      <td>30.35</td>\n",
       "      <td>33.51</td>\n",
       "      <td>1011</td>\n",
       "      <td>60</td>\n",
       "      <td>21.72</td>\n",
       "      <td>0.0</td>\n",
       "      <td>20</td>\n",
       "      <td>10000</td>\n",
       "      <td>2.77</td>\n",
       "      <td>148</td>\n",
       "      <td>3.24</td>\n",
       "      <td>[{'id': 801, 'main': 'Clouds', 'description': ...</td>\n",
       "      <td>0.14</td>\n",
       "      <td>NaN</td>\n",
       "    </tr>\n",
       "    <tr>\n",
       "      <th>1</th>\n",
       "      <td>1631113200</td>\n",
       "      <td>29.86</td>\n",
       "      <td>33.37</td>\n",
       "      <td>1011</td>\n",
       "      <td>64</td>\n",
       "      <td>22.31</td>\n",
       "      <td>0.0</td>\n",
       "      <td>19</td>\n",
       "      <td>10000</td>\n",
       "      <td>1.79</td>\n",
       "      <td>157</td>\n",
       "      <td>2.09</td>\n",
       "      <td>[{'id': 500, 'main': 'Rain', 'description': 'l...</td>\n",
       "      <td>0.37</td>\n",
       "      <td>{'1h': 0.1}</td>\n",
       "    </tr>\n",
       "    <tr>\n",
       "      <th>2</th>\n",
       "      <td>1631116800</td>\n",
       "      <td>29.35</td>\n",
       "      <td>33.11</td>\n",
       "      <td>1011</td>\n",
       "      <td>68</td>\n",
       "      <td>22.83</td>\n",
       "      <td>0.0</td>\n",
       "      <td>21</td>\n",
       "      <td>10000</td>\n",
       "      <td>0.40</td>\n",
       "      <td>189</td>\n",
       "      <td>0.59</td>\n",
       "      <td>[{'id': 801, 'main': 'Clouds', 'description': ...</td>\n",
       "      <td>0.12</td>\n",
       "      <td>NaN</td>\n",
       "    </tr>\n",
       "    <tr>\n",
       "      <th>3</th>\n",
       "      <td>1631120400</td>\n",
       "      <td>28.79</td>\n",
       "      <td>32.45</td>\n",
       "      <td>1010</td>\n",
       "      <td>71</td>\n",
       "      <td>23.01</td>\n",
       "      <td>0.0</td>\n",
       "      <td>31</td>\n",
       "      <td>10000</td>\n",
       "      <td>0.43</td>\n",
       "      <td>244</td>\n",
       "      <td>0.44</td>\n",
       "      <td>[{'id': 802, 'main': 'Clouds', 'description': ...</td>\n",
       "      <td>0.13</td>\n",
       "      <td>NaN</td>\n",
       "    </tr>\n",
       "    <tr>\n",
       "      <th>4</th>\n",
       "      <td>1631124000</td>\n",
       "      <td>28.17</td>\n",
       "      <td>31.58</td>\n",
       "      <td>1009</td>\n",
       "      <td>74</td>\n",
       "      <td>23.10</td>\n",
       "      <td>0.0</td>\n",
       "      <td>40</td>\n",
       "      <td>10000</td>\n",
       "      <td>0.33</td>\n",
       "      <td>274</td>\n",
       "      <td>0.35</td>\n",
       "      <td>[{'id': 802, 'main': 'Clouds', 'description': ...</td>\n",
       "      <td>0.12</td>\n",
       "      <td>NaN</td>\n",
       "    </tr>\n",
       "  </tbody>\n",
       "</table>\n",
       "</div>"
      ],
      "text/plain": [
       "           dt   temp  feels_like  pressure  humidity  dew_point  uvi  clouds  \\\n",
       "0  1631109600  30.35       33.51      1011        60      21.72  0.0      20   \n",
       "1  1631113200  29.86       33.37      1011        64      22.31  0.0      19   \n",
       "2  1631116800  29.35       33.11      1011        68      22.83  0.0      21   \n",
       "3  1631120400  28.79       32.45      1010        71      23.01  0.0      31   \n",
       "4  1631124000  28.17       31.58      1009        74      23.10  0.0      40   \n",
       "\n",
       "   visibility  wind_speed  wind_deg  wind_gust  \\\n",
       "0       10000        2.77       148       3.24   \n",
       "1       10000        1.79       157       2.09   \n",
       "2       10000        0.40       189       0.59   \n",
       "3       10000        0.43       244       0.44   \n",
       "4       10000        0.33       274       0.35   \n",
       "\n",
       "                                             weather   pop         rain  \n",
       "0  [{'id': 801, 'main': 'Clouds', 'description': ...  0.14          NaN  \n",
       "1  [{'id': 500, 'main': 'Rain', 'description': 'l...  0.37  {'1h': 0.1}  \n",
       "2  [{'id': 801, 'main': 'Clouds', 'description': ...  0.12          NaN  \n",
       "3  [{'id': 802, 'main': 'Clouds', 'description': ...  0.13          NaN  \n",
       "4  [{'id': 802, 'main': 'Clouds', 'description': ...  0.12          NaN  "
      ]
     },
     "execution_count": 10,
     "metadata": {},
     "output_type": "execute_result"
    }
   ],
   "source": [
    "df_hourly.head()"
   ]
  },
  {
   "cell_type": "code",
   "execution_count": null,
   "metadata": {},
   "outputs": [],
   "source": []
  }
 ],
 "metadata": {
  "interpreter": {
   "hash": "c1b4cfe941b6d2466ad1fb5979e97da9cda8801728c8091b097ab734208fc00c"
  },
  "kernelspec": {
   "display_name": "Python 3.8.3 64-bit ('base': conda)",
   "name": "python3"
  },
  "language_info": {
   "codemirror_mode": {
    "name": "ipython",
    "version": 3
   },
   "file_extension": ".py",
   "mimetype": "text/x-python",
   "name": "python",
   "nbconvert_exporter": "python",
   "pygments_lexer": "ipython3",
   "version": "3.8.11"
  }
 },
 "nbformat": 4,
 "nbformat_minor": 2
}
