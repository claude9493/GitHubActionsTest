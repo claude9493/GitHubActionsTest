{
 "cells": [
  {
   "cell_type": "code",
   "execution_count": 1,
   "metadata": {
    "execution": {
     "iopub.execute_input": "2021-08-28T03:40:23.019757Z",
     "iopub.status.busy": "2021-08-28T03:40:23.018520Z",
     "iopub.status.idle": "2021-08-28T03:40:24.321540Z",
     "shell.execute_reply": "2021-08-28T03:40:24.320676Z"
    }
   },
   "outputs": [],
   "source": [
    "import json, yaml, requests\r\n",
    "from datetime import datetime\r\n",
    "from dateutil import tz\r\n",
    "import pandas as pd\r\n",
    "from PIL import Image\r\n",
    "from io import BytesIO\r\n",
    "import matplotlib.pyplot as plt\r\n",
    "import seaborn\r\n",
    "\r\n",
    "CONFIG_PATH = \"../config/config.yaml\""
   ]
  },
  {
   "cell_type": "code",
   "execution_count": 2,
   "metadata": {
    "execution": {
     "iopub.execute_input": "2021-08-28T03:40:24.329734Z",
     "iopub.status.busy": "2021-08-28T03:40:24.326518Z",
     "iopub.status.idle": "2021-08-28T03:40:24.332558Z",
     "shell.execute_reply": "2021-08-28T03:40:24.332056Z"
    }
   },
   "outputs": [],
   "source": [
    "with open('../newest_ts', 'r') as f:\r\n",
    "    newest_ts = f.read()\r\n",
    "\r\n",
    "data_path = f\"../data/data_{newest_ts}.json\"\r\n",
    "with open(data_path, 'r') as f:\r\n",
    "    data = json.load(f)\r\n",
    "\r\n",
    "with open(CONFIG_PATH, \"r\") as stream:\r\n",
    "    config = yaml.safe_load(stream)\r\n",
    "\r\n",
    "TIME_ZONE = config['time_zone']\r\n",
    "DATETIME_FORMAT = config['dt_format']"
   ]
  },
  {
   "cell_type": "code",
   "execution_count": 3,
   "metadata": {
    "execution": {
     "iopub.execute_input": "2021-08-28T03:40:24.337507Z",
     "iopub.status.busy": "2021-08-28T03:40:24.336969Z",
     "iopub.status.idle": "2021-08-28T03:40:24.342137Z",
     "shell.execute_reply": "2021-08-28T03:40:24.341673Z"
    }
   },
   "outputs": [
    {
     "name": "stdout",
     "output_type": "stream",
     "text": [
      "Recent query happens at 2021-08-28 11:40:20 (CST).\n"
     ]
    }
   ],
   "source": [
    "def ts2dt(ts, format=DATETIME_FORMAT):\r\n",
    "    dt = (datetime.utcfromtimestamp(int(ts))\r\n",
    "                    .replace(tzinfo=tz.tzutc())\r\n",
    "                    # .astimezone(tz.tzlocal())\r\n",
    "                    .astimezone(tz.gettz(TIME_ZONE)))\r\n",
    "    return dt.strftime(format), dt\r\n",
    "\r\n",
    "_, newest_dt = ts2dt(newest_ts)\r\n",
    "print(f\"Recent query happens at {newest_dt.strftime(DATETIME_FORMAT)} ({newest_dt.tzname()}).\")"
   ]
  },
  {
   "cell_type": "code",
   "execution_count": 4,
   "metadata": {
    "execution": {
     "iopub.execute_input": "2021-08-28T03:40:24.347595Z",
     "iopub.status.busy": "2021-08-28T03:40:24.346408Z",
     "iopub.status.idle": "2021-08-28T03:40:24.348184Z",
     "shell.execute_reply": "2021-08-28T03:40:24.348606Z"
    }
   },
   "outputs": [],
   "source": [
    "def degrees_to_cardinal(d):\r\n",
    "  dirs = ['N', 'NNE', 'NE', 'ENE', 'E', 'ESE', 'SE', 'SSE', 'S', 'SSW', 'SW', 'WSW', 'W', 'WNW', 'NW', 'NNW']\r\n",
    "  ix = int(round(d / (360. / len(dirs))))\r\n",
    "  return dirs[ix % len(dirs)]"
   ]
  },
  {
   "cell_type": "code",
   "execution_count": 5,
   "metadata": {
    "execution": {
     "iopub.execute_input": "2021-08-28T03:40:24.352994Z",
     "iopub.status.busy": "2021-08-28T03:40:24.351818Z",
     "iopub.status.idle": "2021-08-28T03:40:24.353583Z",
     "shell.execute_reply": "2021-08-28T03:40:24.354005Z"
    }
   },
   "outputs": [],
   "source": [
    "# data.keys()"
   ]
  },
  {
   "cell_type": "code",
   "execution_count": 6,
   "metadata": {
    "execution": {
     "iopub.execute_input": "2021-08-28T03:40:24.357267Z",
     "iopub.status.busy": "2021-08-28T03:40:24.356732Z",
     "iopub.status.idle": "2021-08-28T03:40:24.358600Z",
     "shell.execute_reply": "2021-08-28T03:40:24.359006Z"
    }
   },
   "outputs": [],
   "source": [
    "# data['current']"
   ]
  },
  {
   "cell_type": "code",
   "execution_count": 7,
   "metadata": {
    "execution": {
     "iopub.execute_input": "2021-08-28T03:40:24.377559Z",
     "iopub.status.busy": "2021-08-28T03:40:24.377002Z",
     "iopub.status.idle": "2021-08-28T03:40:24.669350Z",
     "shell.execute_reply": "2021-08-28T03:40:24.670105Z"
    }
   },
   "outputs": [
    {
     "data": {
      "image/png": "[encoded data removed]",
      "text/plain": [
       "<Figure size 216x216 with 1 Axes>"
      ]
     },
     "metadata": {
      "needs_background": "light"
     },
     "output_type": "display_data"
    },
    {
     "name": "stdout",
     "output_type": "stream",
     "text": [
      "Today, sun rises at 06:04 and sets at 18:44.\n",
      "Currently, the weather is Clouds (broken clouds).\n",
      "The temperature is 30.91°C and it feels like 37.91°C.\n",
      "The UV index is 11.73, humidity is 72%.\n",
      "The pressure is 1012 hPa, percentage of cloud cover is 52%\n",
      "The wind comes from E direction with a speed 5.47 m/s.\n"
     ]
    }
   ],
   "source": [
    "current = data['current']\r\n",
    "\r\n",
    "fig, ax = plt.subplots(figsize=(3, 3))\r\n",
    "icon = requests.get(f\"http://openweathermap.org/img/wn/{current['weather'][0]['icon']}@2x.png\")\r\n",
    "im = Image.open(BytesIO(icon.content))\r\n",
    "plt.imshow(im)\r\n",
    "ax.set_axis_off()\r\n",
    "plt.show()\r\n",
    "\r\n",
    "print(f\"Today, sun rises at {ts2dt(current['sunrise'], '%H:%M')[0]} \\\r\n",
    "and sets at {ts2dt(current['sunset'], '%H:%M')[0]}.\\n\\\r\n",
    "Currently, the weather is {current['weather'][0]['main']} ({current['weather'][0]['description']}).\\n\\\r\n",
    "The temperature is {current['temp']}°C and it feels like {current['feels_like']}°C.\\n\\\r\n",
    "The UV index is {current['uvi']}, humidity is {current['humidity']}%.\\n\\\r\n",
    "The pressure is {current['pressure']} hPa, percentage of cloud cover is {current['clouds']}%\\n\\\r\n",
    "The wind comes from {degrees_to_cardinal(current['wind_deg'])} direction with a speed {current['wind_speed']} m/s.\")"
   ]
  },
  {
   "cell_type": "code",
   "execution_count": 8,
   "metadata": {
    "execution": {
     "iopub.execute_input": "2021-08-28T03:40:24.673627Z",
     "iopub.status.busy": "2021-08-28T03:40:24.672577Z",
     "iopub.status.idle": "2021-08-28T03:40:24.680129Z",
     "shell.execute_reply": "2021-08-28T03:40:24.680852Z"
    }
   },
   "outputs": [],
   "source": [
    "df_hourly = pd.DataFrame(data['hourly'])\r\n",
    "df_daily = pd.DataFrame(data['daily'])"
   ]
  },
  {
   "cell_type": "code",
   "execution_count": 9,
   "metadata": {
    "execution": {
     "iopub.execute_input": "2021-08-28T03:40:24.684235Z",
     "iopub.status.busy": "2021-08-28T03:40:24.683174Z",
     "iopub.status.idle": "2021-08-28T03:40:25.000972Z",
     "shell.execute_reply": "2021-08-28T03:40:25.000176Z"
    }
   },
   "outputs": [
    {
     "data": {
      "image/png": "[encoded data removed]",
      "text/plain": [
       "<Figure size 864x432 with 1 Axes>"
      ]
     },
     "metadata": {
      "needs_background": "light"
     },
     "output_type": "display_data"
    }
   ],
   "source": [
    "fig, ax = plt.subplots(figsize=(12, 6))\r\n",
    "plt.plot(df_hourly.temp, '.-', label='Temperature')\r\n",
    "plt.plot(df_hourly.feels_like, '.-', label='Feels Like')\r\n",
    "ax.set(title='Temperature in future 48 hours', xlabel='Time', ylabel='Temperature')\r\n",
    "ax.set_xticks(list(range(0, len(df_hourly), 2)))\r\n",
    "ax.set_xticklabels([ts2dt(ts, '%m-%d %H:%M')[0] for i, ts in enumerate(df_hourly.dt) if i%2==0], \r\n",
    "                   rotation=45, ha=\"right\")\r\n",
    "ax.locator_params(nbins=15, axis='y')\r\n",
    "plt.legend()\r\n",
    "plt.show()"
   ]
  },
  {
   "cell_type": "code",
   "execution_count": 10,
   "metadata": {
    "execution": {
     "iopub.execute_input": "2021-08-28T03:40:25.014787Z",
     "iopub.status.busy": "2021-08-28T03:40:25.006371Z",
     "iopub.status.idle": "2021-08-28T03:40:25.027207Z",
     "shell.execute_reply": "2021-08-28T03:40:25.026739Z"
    }
   },
   "outputs": [
    {
     "data": {
      "text/html": [
       "<div>\n",
       "<style scoped>\n",
       "    .dataframe tbody tr th:only-of-type {\n",
       "        vertical-align: middle;\n",
       "    }\n",
       "\n",
       "    .dataframe tbody tr th {\n",
       "        vertical-align: top;\n",
       "    }\n",
       "\n",
       "    .dataframe thead th {\n",
       "        text-align: right;\n",
       "    }\n",
       "</style>\n",
       "<table border=\"1\" class=\"dataframe\">\n",
       "  <thead>\n",
       "    <tr style=\"text-align: right;\">\n",
       "      <th></th>\n",
       "      <th>dt</th>\n",
       "      <th>temp</th>\n",
       "      <th>feels_like</th>\n",
       "      <th>pressure</th>\n",
       "      <th>humidity</th>\n",
       "      <th>dew_point</th>\n",
       "      <th>uvi</th>\n",
       "      <th>clouds</th>\n",
       "      <th>visibility</th>\n",
       "      <th>wind_speed</th>\n",
       "      <th>wind_deg</th>\n",
       "      <th>wind_gust</th>\n",
       "      <th>weather</th>\n",
       "      <th>pop</th>\n",
       "      <th>rain</th>\n",
       "    </tr>\n",
       "  </thead>\n",
       "  <tbody>\n",
       "    <tr>\n",
       "      <th>0</th>\n",
       "      <td>1630119600</td>\n",
       "      <td>30.62</td>\n",
       "      <td>36.60</td>\n",
       "      <td>1012</td>\n",
       "      <td>70</td>\n",
       "      <td>24.52</td>\n",
       "      <td>9.59</td>\n",
       "      <td>53</td>\n",
       "      <td>10000</td>\n",
       "      <td>5.14</td>\n",
       "      <td>91</td>\n",
       "      <td>6.78</td>\n",
       "      <td>[{'id': 500, 'main': 'Rain', 'description': 'l...</td>\n",
       "      <td>0.68</td>\n",
       "      <td>{'1h': 0.48}</td>\n",
       "    </tr>\n",
       "    <tr>\n",
       "      <th>1</th>\n",
       "      <td>1630123200</td>\n",
       "      <td>30.91</td>\n",
       "      <td>37.91</td>\n",
       "      <td>1012</td>\n",
       "      <td>72</td>\n",
       "      <td>25.27</td>\n",
       "      <td>11.73</td>\n",
       "      <td>52</td>\n",
       "      <td>10000</td>\n",
       "      <td>5.47</td>\n",
       "      <td>89</td>\n",
       "      <td>6.86</td>\n",
       "      <td>[{'id': 803, 'main': 'Clouds', 'description': ...</td>\n",
       "      <td>0.72</td>\n",
       "      <td>NaN</td>\n",
       "    </tr>\n",
       "    <tr>\n",
       "      <th>2</th>\n",
       "      <td>1630126800</td>\n",
       "      <td>30.74</td>\n",
       "      <td>36.91</td>\n",
       "      <td>1012</td>\n",
       "      <td>70</td>\n",
       "      <td>24.63</td>\n",
       "      <td>11.53</td>\n",
       "      <td>51</td>\n",
       "      <td>10000</td>\n",
       "      <td>5.46</td>\n",
       "      <td>91</td>\n",
       "      <td>6.84</td>\n",
       "      <td>[{'id': 803, 'main': 'Clouds', 'description': ...</td>\n",
       "      <td>0.68</td>\n",
       "      <td>NaN</td>\n",
       "    </tr>\n",
       "    <tr>\n",
       "      <th>3</th>\n",
       "      <td>1630130400</td>\n",
       "      <td>30.54</td>\n",
       "      <td>35.85</td>\n",
       "      <td>1011</td>\n",
       "      <td>68</td>\n",
       "      <td>23.96</td>\n",
       "      <td>9.57</td>\n",
       "      <td>50</td>\n",
       "      <td>10000</td>\n",
       "      <td>5.08</td>\n",
       "      <td>95</td>\n",
       "      <td>6.56</td>\n",
       "      <td>[{'id': 500, 'main': 'Rain', 'description': 'l...</td>\n",
       "      <td>0.68</td>\n",
       "      <td>{'1h': 0.12}</td>\n",
       "    </tr>\n",
       "    <tr>\n",
       "      <th>4</th>\n",
       "      <td>1630134000</td>\n",
       "      <td>30.29</td>\n",
       "      <td>35.00</td>\n",
       "      <td>1011</td>\n",
       "      <td>67</td>\n",
       "      <td>23.48</td>\n",
       "      <td>5.99</td>\n",
       "      <td>27</td>\n",
       "      <td>10000</td>\n",
       "      <td>4.93</td>\n",
       "      <td>96</td>\n",
       "      <td>6.22</td>\n",
       "      <td>[{'id': 802, 'main': 'Clouds', 'description': ...</td>\n",
       "      <td>0.00</td>\n",
       "      <td>NaN</td>\n",
       "    </tr>\n",
       "  </tbody>\n",
       "</table>\n",
       "</div>"
      ],
      "text/plain": [
       "           dt   temp  feels_like  pressure  humidity  dew_point    uvi  \\\n",
       "0  1630119600  30.62       36.60      1012        70      24.52   9.59   \n",
       "1  1630123200  30.91       37.91      1012        72      25.27  11.73   \n",
       "2  1630126800  30.74       36.91      1012        70      24.63  11.53   \n",
       "3  1630130400  30.54       35.85      1011        68      23.96   9.57   \n",
       "4  1630134000  30.29       35.00      1011        67      23.48   5.99   \n",
       "\n",
       "   clouds  visibility  wind_speed  wind_deg  wind_gust  \\\n",
       "0      53       10000        5.14        91       6.78   \n",
       "1      52       10000        5.47        89       6.86   \n",
       "2      51       10000        5.46        91       6.84   \n",
       "3      50       10000        5.08        95       6.56   \n",
       "4      27       10000        4.93        96       6.22   \n",
       "\n",
       "                                             weather   pop          rain  \n",
       "0  [{'id': 500, 'main': 'Rain', 'description': 'l...  0.68  {'1h': 0.48}  \n",
       "1  [{'id': 803, 'main': 'Clouds', 'description': ...  0.72           NaN  \n",
       "2  [{'id': 803, 'main': 'Clouds', 'description': ...  0.68           NaN  \n",
       "3  [{'id': 500, 'main': 'Rain', 'description': 'l...  0.68  {'1h': 0.12}  \n",
       "4  [{'id': 802, 'main': 'Clouds', 'description': ...  0.00           NaN  "
      ]
     },
     "execution_count": 10,
     "metadata": {},
     "output_type": "execute_result"
    }
   ],
   "source": [
    "df_hourly.head()"
   ]
  },
  {
   "cell_type": "code",
   "execution_count": null,
   "metadata": {},
   "outputs": [],
   "source": []
  }
 ],
 "metadata": {
  "interpreter": {
   "hash": "c1b4cfe941b6d2466ad1fb5979e97da9cda8801728c8091b097ab734208fc00c"
  },
  "kernelspec": {
   "display_name": "Python 3.8.3 64-bit ('base': conda)",
   "name": "python3"
  },
  "language_info": {
   "codemirror_mode": {
    "name": "ipython",
    "version": 3
   },
   "file_extension": ".py",
   "mimetype": "text/x-python",
   "name": "python",
   "nbconvert_exporter": "python",
   "pygments_lexer": "ipython3",
   "version": "3.8.11"
  }
 },
 "nbformat": 4,
 "nbformat_minor": 2
}
