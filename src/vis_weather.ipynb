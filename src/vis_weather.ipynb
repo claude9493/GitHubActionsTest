{
 "cells": [
  {
   "cell_type": "code",
   "execution_count": 1,
   "metadata": {
    "execution": {
     "iopub.execute_input": "2021-09-23T21:10:21.983101Z",
     "iopub.status.busy": "2021-09-23T21:10:21.982419Z",
     "iopub.status.idle": "2021-09-23T21:10:26.377491Z",
     "shell.execute_reply": "2021-09-23T21:10:26.376469Z"
    }
   },
   "outputs": [],
   "source": [
    "import json, yaml, requests\r\n",
    "from datetime import datetime\r\n",
    "from dateutil import tz\r\n",
    "import pandas as pd\r\n",
    "from PIL import Image\r\n",
    "from io import BytesIO\r\n",
    "import matplotlib.pyplot as plt\r\n",
    "import seaborn\r\n",
    "\r\n",
    "CONFIG_PATH = \"../config/config.yaml\""
   ]
  },
  {
   "cell_type": "code",
   "execution_count": 2,
   "metadata": {
    "execution": {
     "iopub.execute_input": "2021-09-23T21:10:26.386400Z",
     "iopub.status.busy": "2021-09-23T21:10:26.382905Z",
     "iopub.status.idle": "2021-09-23T21:10:26.389626Z",
     "shell.execute_reply": "2021-09-23T21:10:26.389162Z"
    }
   },
   "outputs": [],
   "source": [
    "with open('../newest_ts', 'r') as f:\r\n",
    "    newest_ts = f.read()\r\n",
    "\r\n",
    "data_path = f\"../data/data_{newest_ts}.json\"\r\n",
    "with open(data_path, 'r') as f:\r\n",
    "    data = json.load(f)\r\n",
    "\r\n",
    "with open(CONFIG_PATH, \"r\") as stream:\r\n",
    "    config = yaml.safe_load(stream)\r\n",
    "\r\n",
    "TIME_ZONE = config['time_zone']\r\n",
    "DATETIME_FORMAT = config['dt_format']"
   ]
  },
  {
   "cell_type": "code",
   "execution_count": 3,
   "metadata": {
    "execution": {
     "iopub.execute_input": "2021-09-23T21:10:26.396325Z",
     "iopub.status.busy": "2021-09-23T21:10:26.395581Z",
     "iopub.status.idle": "2021-09-23T21:10:26.424285Z",
     "shell.execute_reply": "2021-09-23T21:10:26.424752Z"
    }
   },
   "outputs": [
    {
     "name": "stdout",
     "output_type": "stream",
     "text": [
      "Recent query happens at 2021-09-24 05:10:18 (CST).\n"
     ]
    }
   ],
   "source": [
    "def ts2dt(ts, format=DATETIME_FORMAT):\r\n",
    "    dt = (datetime.utcfromtimestamp(int(ts))\r\n",
    "                    .replace(tzinfo=tz.tzutc())\r\n",
    "                    # .astimezone(tz.tzlocal())\r\n",
    "                    .astimezone(tz.gettz(TIME_ZONE)))\r\n",
    "    return dt.strftime(format), dt\r\n",
    "\r\n",
    "_, newest_dt = ts2dt(newest_ts)\r\n",
    "print(f\"Recent query happens at {newest_dt.strftime(DATETIME_FORMAT)} ({newest_dt.tzname()}).\")"
   ]
  },
  {
   "cell_type": "code",
   "execution_count": 4,
   "metadata": {
    "execution": {
     "iopub.execute_input": "2021-09-23T21:10:26.431765Z",
     "iopub.status.busy": "2021-09-23T21:10:26.430508Z",
     "iopub.status.idle": "2021-09-23T21:10:26.432323Z",
     "shell.execute_reply": "2021-09-23T21:10:26.432710Z"
    }
   },
   "outputs": [],
   "source": [
    "def degrees_to_cardinal(d):\r\n",
    "  dirs = ['N', 'NNE', 'NE', 'ENE', 'E', 'ESE', 'SE', 'SSE', 'S', 'SSW', 'SW', 'WSW', 'W', 'WNW', 'NW', 'NNW']\r\n",
    "  ix = int(round(d / (360. / len(dirs))))\r\n",
    "  return dirs[ix % len(dirs)]"
   ]
  },
  {
   "cell_type": "code",
   "execution_count": 5,
   "metadata": {
    "execution": {
     "iopub.execute_input": "2021-09-23T21:10:26.437000Z",
     "iopub.status.busy": "2021-09-23T21:10:26.436404Z",
     "iopub.status.idle": "2021-09-23T21:10:26.439077Z",
     "shell.execute_reply": "2021-09-23T21:10:26.438605Z"
    }
   },
   "outputs": [],
   "source": [
    "# data.keys()"
   ]
  },
  {
   "cell_type": "code",
   "execution_count": 6,
   "metadata": {
    "execution": {
     "iopub.execute_input": "2021-09-23T21:10:26.443823Z",
     "iopub.status.busy": "2021-09-23T21:10:26.442682Z",
     "iopub.status.idle": "2021-09-23T21:10:26.444377Z",
     "shell.execute_reply": "2021-09-23T21:10:26.444759Z"
    }
   },
   "outputs": [],
   "source": [
    "# data['current']"
   ]
  },
  {
   "cell_type": "code",
   "execution_count": 7,
   "metadata": {
    "execution": {
     "iopub.execute_input": "2021-09-23T21:10:26.464435Z",
     "iopub.status.busy": "2021-09-23T21:10:26.463889Z",
     "iopub.status.idle": "2021-09-23T21:10:26.873873Z",
     "shell.execute_reply": "2021-09-23T21:10:26.874407Z"
    }
   },
   "outputs": [
    {
     "data": {
      "image/png": "[encoded data removed]",
      "text/plain": [
       "<Figure size 216x216 with 1 Axes>"
      ]
     },
     "metadata": {
      "needs_background": "light"
     },
     "output_type": "display_data"
    },
    {
     "name": "stdout",
     "output_type": "stream",
     "text": [
      "Today, sun rises at 06:12 and sets at 18:17.\n",
      "Currently, the weather is Rain (light rain).\n",
      "The temperature is 28.99°C and it feels like 35.84°C.\n",
      "The UV index is 0, humidity is 85%.\n",
      "The pressure is 1013 hPa, percentage of cloud cover is 68%\n",
      "The wind comes from E direction with a speed 6.45 m/s.\n"
     ]
    }
   ],
   "source": [
    "current = data['current']\r\n",
    "\r\n",
    "fig, ax = plt.subplots(figsize=(3, 3))\r\n",
    "icon = requests.get(f\"http://openweathermap.org/img/wn/{current['weather'][0]['icon']}@2x.png\")\r\n",
    "im = Image.open(BytesIO(icon.content))\r\n",
    "plt.imshow(im)\r\n",
    "ax.set_axis_off()\r\n",
    "plt.show()\r\n",
    "\r\n",
    "print(f\"Today, sun rises at {ts2dt(current['sunrise'], '%H:%M')[0]} \\\r\n",
    "and sets at {ts2dt(current['sunset'], '%H:%M')[0]}.\\n\\\r\n",
    "Currently, the weather is {current['weather'][0]['main']} ({current['weather'][0]['description']}).\\n\\\r\n",
    "The temperature is {current['temp']}°C and it feels like {current['feels_like']}°C.\\n\\\r\n",
    "The UV index is {current['uvi']}, humidity is {current['humidity']}%.\\n\\\r\n",
    "The pressure is {current['pressure']} hPa, percentage of cloud cover is {current['clouds']}%\\n\\\r\n",
    "The wind comes from {degrees_to_cardinal(current['wind_deg'])} direction with a speed {current['wind_speed']} m/s.\")"
   ]
  },
  {
   "cell_type": "code",
   "execution_count": 8,
   "metadata": {
    "execution": {
     "iopub.execute_input": "2021-09-23T21:10:26.877698Z",
     "iopub.status.busy": "2021-09-23T21:10:26.876629Z",
     "iopub.status.idle": "2021-09-23T21:10:26.884870Z",
     "shell.execute_reply": "2021-09-23T21:10:26.885555Z"
    }
   },
   "outputs": [],
   "source": [
    "df_hourly = pd.DataFrame(data['hourly'])\r\n",
    "df_daily = pd.DataFrame(data['daily'])"
   ]
  },
  {
   "cell_type": "code",
   "execution_count": 9,
   "metadata": {
    "execution": {
     "iopub.execute_input": "2021-09-23T21:10:26.889121Z",
     "iopub.status.busy": "2021-09-23T21:10:26.888124Z",
     "iopub.status.idle": "2021-09-23T21:10:27.141861Z",
     "shell.execute_reply": "2021-09-23T21:10:27.141368Z"
    }
   },
   "outputs": [
    {
     "data": {
      "image/png": "[encoded data removed]",
      "text/plain": [
       "<Figure size 864x432 with 1 Axes>"
      ]
     },
     "metadata": {
      "needs_background": "light"
     },
     "output_type": "display_data"
    }
   ],
   "source": [
    "fig, ax = plt.subplots(figsize=(12, 6))\r\n",
    "plt.plot(df_hourly.temp, '.-', label='Temperature')\r\n",
    "plt.plot(df_hourly.feels_like, '.-', label='Feels Like')\r\n",
    "ax.set(title='Temperature in future 48 hours', xlabel='Time', ylabel='Temperature')\r\n",
    "ax.set_xticks(list(range(0, len(df_hourly), 2)))\r\n",
    "ax.set_xticklabels([ts2dt(ts, '%m-%d %H:%M')[0] for i, ts in enumerate(df_hourly.dt) if i%2==0], \r\n",
    "                   rotation=45, ha=\"right\")\r\n",
    "ax.locator_params(nbins=15, axis='y')\r\n",
    "plt.legend()\r\n",
    "plt.show()"
   ]
  },
  {
   "cell_type": "code",
   "execution_count": 10,
   "metadata": {
    "execution": {
     "iopub.execute_input": "2021-09-23T21:10:27.156163Z",
     "iopub.status.busy": "2021-09-23T21:10:27.147024Z",
     "iopub.status.idle": "2021-09-23T21:10:27.169311Z",
     "shell.execute_reply": "2021-09-23T21:10:27.168830Z"
    }
   },
   "outputs": [
    {
     "data": {
      "text/html": [
       "<div>\n",
       "<style scoped>\n",
       "    .dataframe tbody tr th:only-of-type {\n",
       "        vertical-align: middle;\n",
       "    }\n",
       "\n",
       "    .dataframe tbody tr th {\n",
       "        vertical-align: top;\n",
       "    }\n",
       "\n",
       "    .dataframe thead th {\n",
       "        text-align: right;\n",
       "    }\n",
       "</style>\n",
       "<table border=\"1\" class=\"dataframe\">\n",
       "  <thead>\n",
       "    <tr style=\"text-align: right;\">\n",
       "      <th></th>\n",
       "      <th>dt</th>\n",
       "      <th>temp</th>\n",
       "      <th>feels_like</th>\n",
       "      <th>pressure</th>\n",
       "      <th>humidity</th>\n",
       "      <th>dew_point</th>\n",
       "      <th>uvi</th>\n",
       "      <th>clouds</th>\n",
       "      <th>visibility</th>\n",
       "      <th>wind_speed</th>\n",
       "      <th>wind_deg</th>\n",
       "      <th>wind_gust</th>\n",
       "      <th>weather</th>\n",
       "      <th>pop</th>\n",
       "      <th>rain</th>\n",
       "    </tr>\n",
       "  </thead>\n",
       "  <tbody>\n",
       "    <tr>\n",
       "      <th>0</th>\n",
       "      <td>1632430800</td>\n",
       "      <td>28.99</td>\n",
       "      <td>35.84</td>\n",
       "      <td>1013</td>\n",
       "      <td>85</td>\n",
       "      <td>26.21</td>\n",
       "      <td>0.00</td>\n",
       "      <td>68</td>\n",
       "      <td>10000</td>\n",
       "      <td>6.45</td>\n",
       "      <td>92</td>\n",
       "      <td>9.16</td>\n",
       "      <td>[{'id': 500, 'main': 'Rain', 'description': 'l...</td>\n",
       "      <td>0.65</td>\n",
       "      <td>{'1h': 0.42}</td>\n",
       "    </tr>\n",
       "    <tr>\n",
       "      <th>1</th>\n",
       "      <td>1632434400</td>\n",
       "      <td>28.74</td>\n",
       "      <td>34.85</td>\n",
       "      <td>1013</td>\n",
       "      <td>84</td>\n",
       "      <td>25.76</td>\n",
       "      <td>0.00</td>\n",
       "      <td>67</td>\n",
       "      <td>10000</td>\n",
       "      <td>6.57</td>\n",
       "      <td>91</td>\n",
       "      <td>9.17</td>\n",
       "      <td>[{'id': 803, 'main': 'Clouds', 'description': ...</td>\n",
       "      <td>0.65</td>\n",
       "      <td>NaN</td>\n",
       "    </tr>\n",
       "    <tr>\n",
       "      <th>2</th>\n",
       "      <td>1632438000</td>\n",
       "      <td>28.52</td>\n",
       "      <td>34.01</td>\n",
       "      <td>1013</td>\n",
       "      <td>83</td>\n",
       "      <td>25.35</td>\n",
       "      <td>0.20</td>\n",
       "      <td>64</td>\n",
       "      <td>10000</td>\n",
       "      <td>6.36</td>\n",
       "      <td>88</td>\n",
       "      <td>8.73</td>\n",
       "      <td>[{'id': 803, 'main': 'Clouds', 'description': ...</td>\n",
       "      <td>0.69</td>\n",
       "      <td>NaN</td>\n",
       "    </tr>\n",
       "    <tr>\n",
       "      <th>3</th>\n",
       "      <td>1632441600</td>\n",
       "      <td>28.61</td>\n",
       "      <td>33.87</td>\n",
       "      <td>1014</td>\n",
       "      <td>81</td>\n",
       "      <td>25.03</td>\n",
       "      <td>1.10</td>\n",
       "      <td>60</td>\n",
       "      <td>10000</td>\n",
       "      <td>6.68</td>\n",
       "      <td>89</td>\n",
       "      <td>8.59</td>\n",
       "      <td>[{'id': 500, 'main': 'Rain', 'description': 'l...</td>\n",
       "      <td>0.69</td>\n",
       "      <td>{'1h': 0.15}</td>\n",
       "    </tr>\n",
       "    <tr>\n",
       "      <th>4</th>\n",
       "      <td>1632445200</td>\n",
       "      <td>28.73</td>\n",
       "      <td>33.61</td>\n",
       "      <td>1015</td>\n",
       "      <td>78</td>\n",
       "      <td>24.51</td>\n",
       "      <td>3.08</td>\n",
       "      <td>46</td>\n",
       "      <td>10000</td>\n",
       "      <td>7.08</td>\n",
       "      <td>91</td>\n",
       "      <td>8.65</td>\n",
       "      <td>[{'id': 500, 'main': 'Rain', 'description': 'l...</td>\n",
       "      <td>0.58</td>\n",
       "      <td>{'1h': 0.14}</td>\n",
       "    </tr>\n",
       "  </tbody>\n",
       "</table>\n",
       "</div>"
      ],
      "text/plain": [
       "           dt   temp  feels_like  pressure  humidity  dew_point   uvi  clouds  \\\n",
       "0  1632430800  28.99       35.84      1013        85      26.21  0.00      68   \n",
       "1  1632434400  28.74       34.85      1013        84      25.76  0.00      67   \n",
       "2  1632438000  28.52       34.01      1013        83      25.35  0.20      64   \n",
       "3  1632441600  28.61       33.87      1014        81      25.03  1.10      60   \n",
       "4  1632445200  28.73       33.61      1015        78      24.51  3.08      46   \n",
       "\n",
       "   visibility  wind_speed  wind_deg  wind_gust  \\\n",
       "0       10000        6.45        92       9.16   \n",
       "1       10000        6.57        91       9.17   \n",
       "2       10000        6.36        88       8.73   \n",
       "3       10000        6.68        89       8.59   \n",
       "4       10000        7.08        91       8.65   \n",
       "\n",
       "                                             weather   pop          rain  \n",
       "0  [{'id': 500, 'main': 'Rain', 'description': 'l...  0.65  {'1h': 0.42}  \n",
       "1  [{'id': 803, 'main': 'Clouds', 'description': ...  0.65           NaN  \n",
       "2  [{'id': 803, 'main': 'Clouds', 'description': ...  0.69           NaN  \n",
       "3  [{'id': 500, 'main': 'Rain', 'description': 'l...  0.69  {'1h': 0.15}  \n",
       "4  [{'id': 500, 'main': 'Rain', 'description': 'l...  0.58  {'1h': 0.14}  "
      ]
     },
     "execution_count": 10,
     "metadata": {},
     "output_type": "execute_result"
    }
   ],
   "source": [
    "df_hourly.head()"
   ]
  },
  {
   "cell_type": "code",
   "execution_count": null,
   "metadata": {},
   "outputs": [],
   "source": []
  }
 ],
 "metadata": {
  "interpreter": {
   "hash": "c1b4cfe941b6d2466ad1fb5979e97da9cda8801728c8091b097ab734208fc00c"
  },
  "kernelspec": {
   "display_name": "Python 3.8.3 64-bit ('base': conda)",
   "name": "python3"
  },
  "language_info": {
   "codemirror_mode": {
    "name": "ipython",
    "version": 3
   },
   "file_extension": ".py",
   "mimetype": "text/x-python",
   "name": "python",
   "nbconvert_exporter": "python",
   "pygments_lexer": "ipython3",
   "version": "3.8.12"
  }
 },
 "nbformat": 4,
 "nbformat_minor": 2
}
