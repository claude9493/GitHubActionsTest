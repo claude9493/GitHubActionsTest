{
 "cells": [
  {
   "cell_type": "code",
   "execution_count": 1,
   "metadata": {
    "execution": {
     "iopub.execute_input": "2021-10-16T20:11:38.865312Z",
     "iopub.status.busy": "2021-10-16T20:11:38.864773Z",
     "iopub.status.idle": "2021-10-16T20:11:40.036622Z",
     "shell.execute_reply": "2021-10-16T20:11:40.036023Z"
    }
   },
   "outputs": [],
   "source": [
    "import json, yaml, requests\r\n",
    "from datetime import datetime\r\n",
    "from dateutil import tz\r\n",
    "import pandas as pd\r\n",
    "from PIL import Image\r\n",
    "from io import BytesIO\r\n",
    "import matplotlib.pyplot as plt\r\n",
    "import seaborn\r\n",
    "\r\n",
    "CONFIG_PATH = \"../config/config.yaml\""
   ]
  },
  {
   "cell_type": "code",
   "execution_count": 2,
   "metadata": {
    "execution": {
     "iopub.execute_input": "2021-10-16T20:11:40.044061Z",
     "iopub.status.busy": "2021-10-16T20:11:40.041740Z",
     "iopub.status.idle": "2021-10-16T20:11:40.046592Z",
     "shell.execute_reply": "2021-10-16T20:11:40.046191Z"
    }
   },
   "outputs": [],
   "source": [
    "with open('../newest_ts', 'r') as f:\r\n",
    "    newest_ts = f.read()\r\n",
    "\r\n",
    "data_path = f\"../data/data_{newest_ts}.json\"\r\n",
    "with open(data_path, 'r') as f:\r\n",
    "    data = json.load(f)\r\n",
    "\r\n",
    "with open(CONFIG_PATH, \"r\") as stream:\r\n",
    "    config = yaml.safe_load(stream)\r\n",
    "\r\n",
    "TIME_ZONE = config['time_zone']\r\n",
    "DATETIME_FORMAT = config['dt_format']"
   ]
  },
  {
   "cell_type": "code",
   "execution_count": 3,
   "metadata": {
    "execution": {
     "iopub.execute_input": "2021-10-16T20:11:40.050737Z",
     "iopub.status.busy": "2021-10-16T20:11:40.050225Z",
     "iopub.status.idle": "2021-10-16T20:11:40.055838Z",
     "shell.execute_reply": "2021-10-16T20:11:40.056209Z"
    }
   },
   "outputs": [
    {
     "name": "stdout",
     "output_type": "stream",
     "text": [
      "Recent query happens at 2021-10-17 04:11:36 (CST).\n"
     ]
    }
   ],
   "source": [
    "def ts2dt(ts, format=DATETIME_FORMAT):\r\n",
    "    dt = (datetime.utcfromtimestamp(int(ts))\r\n",
    "                    .replace(tzinfo=tz.tzutc())\r\n",
    "                    # .astimezone(tz.tzlocal())\r\n",
    "                    .astimezone(tz.gettz(TIME_ZONE)))\r\n",
    "    return dt.strftime(format), dt\r\n",
    "\r\n",
    "_, newest_dt = ts2dt(newest_ts)\r\n",
    "print(f\"Recent query happens at {newest_dt.strftime(DATETIME_FORMAT)} ({newest_dt.tzname()}).\")"
   ]
  },
  {
   "cell_type": "code",
   "execution_count": 4,
   "metadata": {
    "execution": {
     "iopub.execute_input": "2021-10-16T20:11:40.061313Z",
     "iopub.status.busy": "2021-10-16T20:11:40.060192Z",
     "iopub.status.idle": "2021-10-16T20:11:40.061832Z",
     "shell.execute_reply": "2021-10-16T20:11:40.062198Z"
    }
   },
   "outputs": [],
   "source": [
    "def degrees_to_cardinal(d):\r\n",
    "  dirs = ['N', 'NNE', 'NE', 'ENE', 'E', 'ESE', 'SE', 'SSE', 'S', 'SSW', 'SW', 'WSW', 'W', 'WNW', 'NW', 'NNW']\r\n",
    "  ix = int(round(d / (360. / len(dirs))))\r\n",
    "  return dirs[ix % len(dirs)]"
   ]
  },
  {
   "cell_type": "code",
   "execution_count": 5,
   "metadata": {
    "execution": {
     "iopub.execute_input": "2021-10-16T20:11:40.066098Z",
     "iopub.status.busy": "2021-10-16T20:11:40.064969Z",
     "iopub.status.idle": "2021-10-16T20:11:40.066648Z",
     "shell.execute_reply": "2021-10-16T20:11:40.067025Z"
    }
   },
   "outputs": [],
   "source": [
    "# data.keys()"
   ]
  },
  {
   "cell_type": "code",
   "execution_count": 6,
   "metadata": {
    "execution": {
     "iopub.execute_input": "2021-10-16T20:11:40.070629Z",
     "iopub.status.busy": "2021-10-16T20:11:40.069523Z",
     "iopub.status.idle": "2021-10-16T20:11:40.071153Z",
     "shell.execute_reply": "2021-10-16T20:11:40.071514Z"
    }
   },
   "outputs": [],
   "source": [
    "# data['current']"
   ]
  },
  {
   "cell_type": "code",
   "execution_count": 7,
   "metadata": {
    "execution": {
     "iopub.execute_input": "2021-10-16T20:11:40.077401Z",
     "iopub.status.busy": "2021-10-16T20:11:40.076939Z",
     "iopub.status.idle": "2021-10-16T20:11:40.479390Z",
     "shell.execute_reply": "2021-10-16T20:11:40.478991Z"
    }
   },
   "outputs": [
    {
     "data": {
      "image/png": "[encoded data removed]",
      "text/plain": [
       "<Figure size 216x216 with 1 Axes>"
      ]
     },
     "metadata": {
      "needs_background": "light"
     },
     "output_type": "display_data"
    },
    {
     "name": "stdout",
     "output_type": "stream",
     "text": [
      "Today, sun rises at 06:19 and sets at 17:56.\n",
      "Currently, the weather is Clouds (scattered clouds).\n",
      "The temperature is 21.68°C and it feels like 21.99°C.\n",
      "The UV index is 0, humidity is 80%.\n",
      "The pressure is 1017 hPa, percentage of cloud cover is 46%\n",
      "The wind comes from NE direction with a speed 7.15 m/s.\n"
     ]
    }
   ],
   "source": [
    "current = data['current']\r\n",
    "\r\n",
    "fig, ax = plt.subplots(figsize=(3, 3))\r\n",
    "icon = requests.get(f\"http://openweathermap.org/img/wn/{current['weather'][0]['icon']}@2x.png\")\r\n",
    "im = Image.open(BytesIO(icon.content))\r\n",
    "plt.imshow(im)\r\n",
    "ax.set_axis_off()\r\n",
    "plt.show()\r\n",
    "\r\n",
    "print(f\"Today, sun rises at {ts2dt(current['sunrise'], '%H:%M')[0]} \\\r\n",
    "and sets at {ts2dt(current['sunset'], '%H:%M')[0]}.\\n\\\r\n",
    "Currently, the weather is {current['weather'][0]['main']} ({current['weather'][0]['description']}).\\n\\\r\n",
    "The temperature is {current['temp']}°C and it feels like {current['feels_like']}°C.\\n\\\r\n",
    "The UV index is {current['uvi']}, humidity is {current['humidity']}%.\\n\\\r\n",
    "The pressure is {current['pressure']} hPa, percentage of cloud cover is {current['clouds']}%\\n\\\r\n",
    "The wind comes from {degrees_to_cardinal(current['wind_deg'])} direction with a speed {current['wind_speed']} m/s.\")"
   ]
  },
  {
   "cell_type": "code",
   "execution_count": 8,
   "metadata": {
    "execution": {
     "iopub.execute_input": "2021-10-16T20:11:40.483919Z",
     "iopub.status.busy": "2021-10-16T20:11:40.483473Z",
     "iopub.status.idle": "2021-10-16T20:11:40.486906Z",
     "shell.execute_reply": "2021-10-16T20:11:40.487348Z"
    }
   },
   "outputs": [],
   "source": [
    "df_hourly = pd.DataFrame(data['hourly'])\r\n",
    "df_daily = pd.DataFrame(data['daily'])"
   ]
  },
  {
   "cell_type": "code",
   "execution_count": 9,
   "metadata": {
    "execution": {
     "iopub.execute_input": "2021-10-16T20:11:40.489690Z",
     "iopub.status.busy": "2021-10-16T20:11:40.489240Z",
     "iopub.status.idle": "2021-10-16T20:11:40.737879Z",
     "shell.execute_reply": "2021-10-16T20:11:40.737454Z"
    }
   },
   "outputs": [
    {
     "data": {
      "image/png": "[encoded data removed]",
      "text/plain": [
       "<Figure size 864x432 with 1 Axes>"
      ]
     },
     "metadata": {
      "needs_background": "light"
     },
     "output_type": "display_data"
    }
   ],
   "source": [
    "fig, ax = plt.subplots(figsize=(12, 6))\r\n",
    "plt.plot(df_hourly.temp, '.-', label='Temperature')\r\n",
    "plt.plot(df_hourly.feels_like, '.-', label='Feels Like')\r\n",
    "ax.set(title='Temperature in future 48 hours', xlabel='Time', ylabel='Temperature')\r\n",
    "ax.set_xticks(list(range(0, len(df_hourly), 2)))\r\n",
    "ax.set_xticklabels([ts2dt(ts, '%m-%d %H:%M')[0] for i, ts in enumerate(df_hourly.dt) if i%2==0], \r\n",
    "                   rotation=45, ha=\"right\")\r\n",
    "ax.locator_params(nbins=15, axis='y')\r\n",
    "plt.legend()\r\n",
    "plt.show()"
   ]
  },
  {
   "cell_type": "code",
   "execution_count": 10,
   "metadata": {
    "execution": {
     "iopub.execute_input": "2021-10-16T20:11:40.742664Z",
     "iopub.status.busy": "2021-10-16T20:11:40.742160Z",
     "iopub.status.idle": "2021-10-16T20:11:40.760154Z",
     "shell.execute_reply": "2021-10-16T20:11:40.759771Z"
    }
   },
   "outputs": [
    {
     "data": {
      "text/html": [
       "<div>\n",
       "<style scoped>\n",
       "    .dataframe tbody tr th:only-of-type {\n",
       "        vertical-align: middle;\n",
       "    }\n",
       "\n",
       "    .dataframe tbody tr th {\n",
       "        vertical-align: top;\n",
       "    }\n",
       "\n",
       "    .dataframe thead th {\n",
       "        text-align: right;\n",
       "    }\n",
       "</style>\n",
       "<table border=\"1\" class=\"dataframe\">\n",
       "  <thead>\n",
       "    <tr style=\"text-align: right;\">\n",
       "      <th></th>\n",
       "      <th>dt</th>\n",
       "      <th>temp</th>\n",
       "      <th>feels_like</th>\n",
       "      <th>pressure</th>\n",
       "      <th>humidity</th>\n",
       "      <th>dew_point</th>\n",
       "      <th>uvi</th>\n",
       "      <th>clouds</th>\n",
       "      <th>visibility</th>\n",
       "      <th>wind_speed</th>\n",
       "      <th>wind_deg</th>\n",
       "      <th>wind_gust</th>\n",
       "      <th>weather</th>\n",
       "      <th>pop</th>\n",
       "    </tr>\n",
       "  </thead>\n",
       "  <tbody>\n",
       "    <tr>\n",
       "      <th>0</th>\n",
       "      <td>1634414400</td>\n",
       "      <td>21.68</td>\n",
       "      <td>21.99</td>\n",
       "      <td>1017</td>\n",
       "      <td>80</td>\n",
       "      <td>18.08</td>\n",
       "      <td>0.00</td>\n",
       "      <td>46</td>\n",
       "      <td>10000</td>\n",
       "      <td>5.35</td>\n",
       "      <td>10</td>\n",
       "      <td>8.83</td>\n",
       "      <td>[{'id': 802, 'main': 'Clouds', 'description': ...</td>\n",
       "      <td>0.03</td>\n",
       "    </tr>\n",
       "    <tr>\n",
       "      <th>1</th>\n",
       "      <td>1634418000</td>\n",
       "      <td>21.39</td>\n",
       "      <td>21.65</td>\n",
       "      <td>1017</td>\n",
       "      <td>79</td>\n",
       "      <td>17.60</td>\n",
       "      <td>0.00</td>\n",
       "      <td>47</td>\n",
       "      <td>10000</td>\n",
       "      <td>5.11</td>\n",
       "      <td>19</td>\n",
       "      <td>8.53</td>\n",
       "      <td>[{'id': 802, 'main': 'Clouds', 'description': ...</td>\n",
       "      <td>0.03</td>\n",
       "    </tr>\n",
       "    <tr>\n",
       "      <th>2</th>\n",
       "      <td>1634421600</td>\n",
       "      <td>21.11</td>\n",
       "      <td>21.31</td>\n",
       "      <td>1017</td>\n",
       "      <td>78</td>\n",
       "      <td>17.13</td>\n",
       "      <td>0.00</td>\n",
       "      <td>53</td>\n",
       "      <td>10000</td>\n",
       "      <td>5.19</td>\n",
       "      <td>24</td>\n",
       "      <td>9.12</td>\n",
       "      <td>[{'id': 803, 'main': 'Clouds', 'description': ...</td>\n",
       "      <td>0.03</td>\n",
       "    </tr>\n",
       "    <tr>\n",
       "      <th>3</th>\n",
       "      <td>1634425200</td>\n",
       "      <td>20.79</td>\n",
       "      <td>20.96</td>\n",
       "      <td>1018</td>\n",
       "      <td>78</td>\n",
       "      <td>16.82</td>\n",
       "      <td>0.00</td>\n",
       "      <td>60</td>\n",
       "      <td>10000</td>\n",
       "      <td>5.36</td>\n",
       "      <td>20</td>\n",
       "      <td>9.00</td>\n",
       "      <td>[{'id': 803, 'main': 'Clouds', 'description': ...</td>\n",
       "      <td>0.03</td>\n",
       "    </tr>\n",
       "    <tr>\n",
       "      <th>4</th>\n",
       "      <td>1634428800</td>\n",
       "      <td>20.65</td>\n",
       "      <td>20.76</td>\n",
       "      <td>1019</td>\n",
       "      <td>76</td>\n",
       "      <td>16.27</td>\n",
       "      <td>0.41</td>\n",
       "      <td>66</td>\n",
       "      <td>10000</td>\n",
       "      <td>5.24</td>\n",
       "      <td>17</td>\n",
       "      <td>9.03</td>\n",
       "      <td>[{'id': 803, 'main': 'Clouds', 'description': ...</td>\n",
       "      <td>0.03</td>\n",
       "    </tr>\n",
       "  </tbody>\n",
       "</table>\n",
       "</div>"
      ],
      "text/plain": [
       "           dt   temp  feels_like  pressure  humidity  dew_point   uvi  clouds  \\\n",
       "0  1634414400  21.68       21.99      1017        80      18.08  0.00      46   \n",
       "1  1634418000  21.39       21.65      1017        79      17.60  0.00      47   \n",
       "2  1634421600  21.11       21.31      1017        78      17.13  0.00      53   \n",
       "3  1634425200  20.79       20.96      1018        78      16.82  0.00      60   \n",
       "4  1634428800  20.65       20.76      1019        76      16.27  0.41      66   \n",
       "\n",
       "   visibility  wind_speed  wind_deg  wind_gust  \\\n",
       "0       10000        5.35        10       8.83   \n",
       "1       10000        5.11        19       8.53   \n",
       "2       10000        5.19        24       9.12   \n",
       "3       10000        5.36        20       9.00   \n",
       "4       10000        5.24        17       9.03   \n",
       "\n",
       "                                             weather   pop  \n",
       "0  [{'id': 802, 'main': 'Clouds', 'description': ...  0.03  \n",
       "1  [{'id': 802, 'main': 'Clouds', 'description': ...  0.03  \n",
       "2  [{'id': 803, 'main': 'Clouds', 'description': ...  0.03  \n",
       "3  [{'id': 803, 'main': 'Clouds', 'description': ...  0.03  \n",
       "4  [{'id': 803, 'main': 'Clouds', 'description': ...  0.03  "
      ]
     },
     "execution_count": 10,
     "metadata": {},
     "output_type": "execute_result"
    }
   ],
   "source": [
    "df_hourly.head()"
   ]
  },
  {
   "cell_type": "code",
   "execution_count": null,
   "metadata": {},
   "outputs": [],
   "source": []
  }
 ],
 "metadata": {
  "interpreter": {
   "hash": "c1b4cfe941b6d2466ad1fb5979e97da9cda8801728c8091b097ab734208fc00c"
  },
  "kernelspec": {
   "display_name": "Python 3.8.3 64-bit ('base': conda)",
   "name": "python3"
  },
  "language_info": {
   "codemirror_mode": {
    "name": "ipython",
    "version": 3
   },
   "file_extension": ".py",
   "mimetype": "text/x-python",
   "name": "python",
   "nbconvert_exporter": "python",
   "pygments_lexer": "ipython3",
   "version": "3.8.12"
  }
 },
 "nbformat": 4,
 "nbformat_minor": 2
}
