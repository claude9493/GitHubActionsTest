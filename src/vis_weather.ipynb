{
 "cells": [
  {
   "cell_type": "code",
   "execution_count": 1,
   "metadata": {
    "execution": {
     "iopub.execute_input": "2021-08-27T06:18:36.946426Z",
     "iopub.status.busy": "2021-08-27T06:18:36.945685Z",
     "iopub.status.idle": "2021-08-27T06:18:39.942335Z",
     "shell.execute_reply": "2021-08-27T06:18:39.941411Z"
    }
   },
   "outputs": [],
   "source": [
    "import json, yaml, requests\r\n",
    "from datetime import datetime\r\n",
    "from dateutil import tz\r\n",
    "import pandas as pd\r\n",
    "from PIL import Image\r\n",
    "from io import BytesIO\r\n",
    "import matplotlib.pyplot as plt\r\n",
    "import seaborn\r\n",
    "\r\n",
    "CONFIG_PATH = \"../config/config.yaml\""
   ]
  },
  {
   "cell_type": "code",
   "execution_count": 2,
   "metadata": {
    "execution": {
     "iopub.execute_input": "2021-08-27T06:18:39.947237Z",
     "iopub.status.busy": "2021-08-27T06:18:39.946726Z",
     "iopub.status.idle": "2021-08-27T06:18:39.951676Z",
     "shell.execute_reply": "2021-08-27T06:18:39.952102Z"
    }
   },
   "outputs": [],
   "source": [
    "with open('../newest_ts', 'r') as f:\r\n",
    "    newest_ts = f.read()\r\n",
    "\r\n",
    "data_path = f\"../data/data_{newest_ts}.json\"\r\n",
    "with open(data_path, 'r') as f:\r\n",
    "    data = json.load(f)\r\n",
    "\r\n",
    "with open(CONFIG_PATH, \"r\") as stream:\r\n",
    "    config = yaml.safe_load(stream)\r\n",
    "\r\n",
    "TIME_ZONE = config['time_zone']\r\n",
    "DATETIME_FORMAT = config['dt_format']"
   ]
  },
  {
   "cell_type": "code",
   "execution_count": 3,
   "metadata": {
    "execution": {
     "iopub.execute_input": "2021-08-27T06:18:39.956647Z",
     "iopub.status.busy": "2021-08-27T06:18:39.956027Z",
     "iopub.status.idle": "2021-08-27T06:18:39.983315Z",
     "shell.execute_reply": "2021-08-27T06:18:39.983692Z"
    }
   },
   "outputs": [
    {
     "name": "stdout",
     "output_type": "stream",
     "text": [
      "Recent query happens at 2021-08-27 14:18:34 (CST).\n"
     ]
    }
   ],
   "source": [
    "def ts2dt(ts, format=DATETIME_FORMAT):\r\n",
    "    dt = (datetime.utcfromtimestamp(int(ts))\r\n",
    "                    .replace(tzinfo=tz.tzutc())\r\n",
    "                    # .astimezone(tz.tzlocal())\r\n",
    "                    .astimezone(tz.gettz(TIME_ZONE)))\r\n",
    "    return dt.strftime(format), dt\r\n",
    "\r\n",
    "_, newest_dt = ts2dt(newest_ts)\r\n",
    "print(f\"Recent query happens at {newest_dt.strftime(DATETIME_FORMAT)} ({newest_dt.tzname()}).\")"
   ]
  },
  {
   "cell_type": "code",
   "execution_count": 4,
   "metadata": {
    "execution": {
     "iopub.execute_input": "2021-08-27T06:18:39.988969Z",
     "iopub.status.busy": "2021-08-27T06:18:39.987567Z",
     "iopub.status.idle": "2021-08-27T06:18:39.989529Z",
     "shell.execute_reply": "2021-08-27T06:18:39.989921Z"
    }
   },
   "outputs": [],
   "source": [
    "def degrees_to_cardinal(d):\r\n",
    "  dirs = ['N', 'NNE', 'NE', 'ENE', 'E', 'ESE', 'SE', 'SSE', 'S', 'SSW', 'SW', 'WSW', 'W', 'WNW', 'NW', 'NNW']\r\n",
    "  ix = int(round(d / (360. / len(dirs))))\r\n",
    "  return dirs[ix % len(dirs)]"
   ]
  },
  {
   "cell_type": "code",
   "execution_count": 5,
   "metadata": {
    "execution": {
     "iopub.execute_input": "2021-08-27T06:18:39.994151Z",
     "iopub.status.busy": "2021-08-27T06:18:39.992943Z",
     "iopub.status.idle": "2021-08-27T06:18:39.994782Z",
     "shell.execute_reply": "2021-08-27T06:18:39.995300Z"
    }
   },
   "outputs": [],
   "source": [
    "# data.keys()"
   ]
  },
  {
   "cell_type": "code",
   "execution_count": 6,
   "metadata": {
    "execution": {
     "iopub.execute_input": "2021-08-27T06:18:40.000195Z",
     "iopub.status.busy": "2021-08-27T06:18:39.998896Z",
     "iopub.status.idle": "2021-08-27T06:18:40.000744Z",
     "shell.execute_reply": "2021-08-27T06:18:40.001145Z"
    }
   },
   "outputs": [],
   "source": [
    "# data['current']"
   ]
  },
  {
   "cell_type": "code",
   "execution_count": 7,
   "metadata": {
    "execution": {
     "iopub.execute_input": "2021-08-27T06:18:40.023059Z",
     "iopub.status.busy": "2021-08-27T06:18:40.003048Z",
     "iopub.status.idle": "2021-08-27T06:18:40.443068Z",
     "shell.execute_reply": "2021-08-27T06:18:40.443564Z"
    }
   },
   "outputs": [
    {
     "data": {
      "image/png": "[encoded data removed]",
      "text/plain": [
       "<Figure size 216x216 with 1 Axes>"
      ]
     },
     "metadata": {
      "needs_background": "light"
     },
     "output_type": "display_data"
    },
    {
     "name": "stdout",
     "output_type": "stream",
     "text": [
      "Today, sun rises at 06:04 and sets at 18:45.\n",
      "Currently, the weather is Rain (moderate rain).\n",
      "The temperature is 24.75°C and it feels like 25°C.\n",
      "The UV index is 9.43, humidity is 66%.\n",
      "The pressure is 1011 hPa, percentage of cloud cover is 16%\n",
      "The wind comes from E direction with a speed 6.95 m/s.\n"
     ]
    }
   ],
   "source": [
    "current = data['current']\r\n",
    "\r\n",
    "fig, ax = plt.subplots(figsize=(3, 3))\r\n",
    "icon = requests.get(f\"http://openweathermap.org/img/wn/{current['weather'][0]['icon']}@2x.png\")\r\n",
    "im = Image.open(BytesIO(icon.content))\r\n",
    "plt.imshow(im)\r\n",
    "ax.set_axis_off()\r\n",
    "plt.show()\r\n",
    "\r\n",
    "print(f\"Today, sun rises at {ts2dt(current['sunrise'], '%H:%M')[0]} \\\r\n",
    "and sets at {ts2dt(current['sunset'], '%H:%M')[0]}.\\n\\\r\n",
    "Currently, the weather is {current['weather'][0]['main']} ({current['weather'][0]['description']}).\\n\\\r\n",
    "The temperature is {current['temp']}°C and it feels like {current['feels_like']}°C.\\n\\\r\n",
    "The UV index is {current['uvi']}, humidity is {current['humidity']}%.\\n\\\r\n",
    "The pressure is {current['pressure']} hPa, percentage of cloud cover is {current['clouds']}%\\n\\\r\n",
    "The wind comes from {degrees_to_cardinal(current['wind_deg'])} direction with a speed {current['wind_speed']} m/s.\")"
   ]
  },
  {
   "cell_type": "code",
   "execution_count": 8,
   "metadata": {
    "execution": {
     "iopub.execute_input": "2021-08-27T06:18:40.446283Z",
     "iopub.status.busy": "2021-08-27T06:18:40.445759Z",
     "iopub.status.idle": "2021-08-27T06:18:40.451616Z",
     "shell.execute_reply": "2021-08-27T06:18:40.452242Z"
    }
   },
   "outputs": [],
   "source": [
    "df_hourly = pd.DataFrame(data['hourly'])\r\n",
    "df_daily = pd.DataFrame(data['daily'])"
   ]
  },
  {
   "cell_type": "code",
   "execution_count": 9,
   "metadata": {
    "execution": {
     "iopub.execute_input": "2021-08-27T06:18:40.454889Z",
     "iopub.status.busy": "2021-08-27T06:18:40.454374Z",
     "iopub.status.idle": "2021-08-27T06:18:40.759813Z",
     "shell.execute_reply": "2021-08-27T06:18:40.758945Z"
    }
   },
   "outputs": [
    {
     "data": {
      "image/png": "[encoded data removed]",
      "text/plain": [
       "<Figure size 864x432 with 1 Axes>"
      ]
     },
     "metadata": {
      "needs_background": "light"
     },
     "output_type": "display_data"
    }
   ],
   "source": [
    "fig, ax = plt.subplots(figsize=(12, 6))\r\n",
    "plt.plot(df_hourly.temp, '.-', label='Temperature')\r\n",
    "plt.plot(df_hourly.feels_like, '.-', label='Feels Like')\r\n",
    "ax.set(title='Temperature in future 48 hours', xlabel='Time', ylabel='Temperature')\r\n",
    "ax.set_xticks(list(range(0, len(df_hourly), 2)))\r\n",
    "ax.set_xticklabels([ts2dt(ts, '%m-%d %H:%M')[0] for i, ts in enumerate(df_hourly.dt) if i%2==0], \r\n",
    "                   rotation=45, ha=\"right\")\r\n",
    "ax.locator_params(nbins=15, axis='y')\r\n",
    "plt.legend()\r\n",
    "plt.show()"
   ]
  },
  {
   "cell_type": "code",
   "execution_count": 10,
   "metadata": {
    "execution": {
     "iopub.execute_input": "2021-08-27T06:18:40.771896Z",
     "iopub.status.busy": "2021-08-27T06:18:40.764236Z",
     "iopub.status.idle": "2021-08-27T06:18:40.783363Z",
     "shell.execute_reply": "2021-08-27T06:18:40.782958Z"
    }
   },
   "outputs": [
    {
     "data": {
      "text/html": [
       "<div>\n",
       "<style scoped>\n",
       "    .dataframe tbody tr th:only-of-type {\n",
       "        vertical-align: middle;\n",
       "    }\n",
       "\n",
       "    .dataframe tbody tr th {\n",
       "        vertical-align: top;\n",
       "    }\n",
       "\n",
       "    .dataframe thead th {\n",
       "        text-align: right;\n",
       "    }\n",
       "</style>\n",
       "<table border=\"1\" class=\"dataframe\">\n",
       "  <thead>\n",
       "    <tr style=\"text-align: right;\">\n",
       "      <th></th>\n",
       "      <th>dt</th>\n",
       "      <th>temp</th>\n",
       "      <th>feels_like</th>\n",
       "      <th>pressure</th>\n",
       "      <th>humidity</th>\n",
       "      <th>dew_point</th>\n",
       "      <th>uvi</th>\n",
       "      <th>clouds</th>\n",
       "      <th>visibility</th>\n",
       "      <th>wind_speed</th>\n",
       "      <th>wind_deg</th>\n",
       "      <th>wind_gust</th>\n",
       "      <th>weather</th>\n",
       "      <th>pop</th>\n",
       "      <th>rain</th>\n",
       "    </tr>\n",
       "  </thead>\n",
       "  <tbody>\n",
       "    <tr>\n",
       "      <th>0</th>\n",
       "      <td>1630044000</td>\n",
       "      <td>24.75</td>\n",
       "      <td>25.00</td>\n",
       "      <td>1011</td>\n",
       "      <td>66</td>\n",
       "      <td>17.97</td>\n",
       "      <td>9.43</td>\n",
       "      <td>16</td>\n",
       "      <td>10000</td>\n",
       "      <td>6.95</td>\n",
       "      <td>97</td>\n",
       "      <td>8.00</td>\n",
       "      <td>[{'id': 801, 'main': 'Clouds', 'description': ...</td>\n",
       "      <td>0.79</td>\n",
       "      <td>NaN</td>\n",
       "    </tr>\n",
       "    <tr>\n",
       "      <th>1</th>\n",
       "      <td>1630047600</td>\n",
       "      <td>25.79</td>\n",
       "      <td>26.17</td>\n",
       "      <td>1011</td>\n",
       "      <td>67</td>\n",
       "      <td>19.20</td>\n",
       "      <td>5.71</td>\n",
       "      <td>22</td>\n",
       "      <td>10000</td>\n",
       "      <td>6.88</td>\n",
       "      <td>99</td>\n",
       "      <td>7.90</td>\n",
       "      <td>[{'id': 501, 'main': 'Rain', 'description': 'm...</td>\n",
       "      <td>0.20</td>\n",
       "      <td>{'1h': 1.54}</td>\n",
       "    </tr>\n",
       "    <tr>\n",
       "      <th>2</th>\n",
       "      <td>1630051200</td>\n",
       "      <td>26.73</td>\n",
       "      <td>28.27</td>\n",
       "      <td>1011</td>\n",
       "      <td>68</td>\n",
       "      <td>20.33</td>\n",
       "      <td>3.03</td>\n",
       "      <td>32</td>\n",
       "      <td>10000</td>\n",
       "      <td>6.80</td>\n",
       "      <td>101</td>\n",
       "      <td>7.87</td>\n",
       "      <td>[{'id': 500, 'main': 'Rain', 'description': 'l...</td>\n",
       "      <td>0.25</td>\n",
       "      <td>{'1h': 0.87}</td>\n",
       "    </tr>\n",
       "    <tr>\n",
       "      <th>3</th>\n",
       "      <td>1630054800</td>\n",
       "      <td>27.47</td>\n",
       "      <td>29.78</td>\n",
       "      <td>1010</td>\n",
       "      <td>71</td>\n",
       "      <td>21.74</td>\n",
       "      <td>1.11</td>\n",
       "      <td>41</td>\n",
       "      <td>10000</td>\n",
       "      <td>6.99</td>\n",
       "      <td>102</td>\n",
       "      <td>8.19</td>\n",
       "      <td>[{'id': 802, 'main': 'Clouds', 'description': ...</td>\n",
       "      <td>0.14</td>\n",
       "      <td>NaN</td>\n",
       "    </tr>\n",
       "    <tr>\n",
       "      <th>4</th>\n",
       "      <td>1630058400</td>\n",
       "      <td>28.02</td>\n",
       "      <td>31.26</td>\n",
       "      <td>1010</td>\n",
       "      <td>74</td>\n",
       "      <td>22.95</td>\n",
       "      <td>0.17</td>\n",
       "      <td>52</td>\n",
       "      <td>10000</td>\n",
       "      <td>6.00</td>\n",
       "      <td>105</td>\n",
       "      <td>7.86</td>\n",
       "      <td>[{'id': 500, 'main': 'Rain', 'description': 'l...</td>\n",
       "      <td>0.24</td>\n",
       "      <td>{'1h': 0.27}</td>\n",
       "    </tr>\n",
       "  </tbody>\n",
       "</table>\n",
       "</div>"
      ],
      "text/plain": [
       "           dt   temp  feels_like  pressure  humidity  dew_point   uvi  clouds  \\\n",
       "0  1630044000  24.75       25.00      1011        66      17.97  9.43      16   \n",
       "1  1630047600  25.79       26.17      1011        67      19.20  5.71      22   \n",
       "2  1630051200  26.73       28.27      1011        68      20.33  3.03      32   \n",
       "3  1630054800  27.47       29.78      1010        71      21.74  1.11      41   \n",
       "4  1630058400  28.02       31.26      1010        74      22.95  0.17      52   \n",
       "\n",
       "   visibility  wind_speed  wind_deg  wind_gust  \\\n",
       "0       10000        6.95        97       8.00   \n",
       "1       10000        6.88        99       7.90   \n",
       "2       10000        6.80       101       7.87   \n",
       "3       10000        6.99       102       8.19   \n",
       "4       10000        6.00       105       7.86   \n",
       "\n",
       "                                             weather   pop          rain  \n",
       "0  [{'id': 801, 'main': 'Clouds', 'description': ...  0.79           NaN  \n",
       "1  [{'id': 501, 'main': 'Rain', 'description': 'm...  0.20  {'1h': 1.54}  \n",
       "2  [{'id': 500, 'main': 'Rain', 'description': 'l...  0.25  {'1h': 0.87}  \n",
       "3  [{'id': 802, 'main': 'Clouds', 'description': ...  0.14           NaN  \n",
       "4  [{'id': 500, 'main': 'Rain', 'description': 'l...  0.24  {'1h': 0.27}  "
      ]
     },
     "execution_count": 10,
     "metadata": {},
     "output_type": "execute_result"
    }
   ],
   "source": [
    "df_hourly.head()"
   ]
  },
  {
   "cell_type": "code",
   "execution_count": null,
   "metadata": {},
   "outputs": [],
   "source": []
  }
 ],
 "metadata": {
  "interpreter": {
   "hash": "c1b4cfe941b6d2466ad1fb5979e97da9cda8801728c8091b097ab734208fc00c"
  },
  "kernelspec": {
   "display_name": "Python 3.8.3 64-bit ('base': conda)",
   "name": "python3"
  },
  "language_info": {
   "codemirror_mode": {
    "name": "ipython",
    "version": 3
   },
   "file_extension": ".py",
   "mimetype": "text/x-python",
   "name": "python",
   "nbconvert_exporter": "python",
   "pygments_lexer": "ipython3",
   "version": "3.8.11"
  }
 },
 "nbformat": 4,
 "nbformat_minor": 2
}
