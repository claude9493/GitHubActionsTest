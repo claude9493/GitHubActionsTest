{
 "cells": [
  {
   "cell_type": "code",
   "execution_count": 1,
   "metadata": {
    "execution": {
     "iopub.execute_input": "2021-10-17T13:16:20.072028Z",
     "iopub.status.busy": "2021-10-17T13:16:20.071129Z",
     "iopub.status.idle": "2021-10-17T13:16:23.127828Z",
     "shell.execute_reply": "2021-10-17T13:16:23.126818Z"
    }
   },
   "outputs": [],
   "source": [
    "import json, yaml, requests\r\n",
    "from datetime import datetime\r\n",
    "from dateutil import tz\r\n",
    "import pandas as pd\r\n",
    "from PIL import Image\r\n",
    "from io import BytesIO\r\n",
    "import matplotlib.pyplot as plt\r\n",
    "import seaborn\r\n",
    "\r\n",
    "CONFIG_PATH = \"../config/config.yaml\""
   ]
  },
  {
   "cell_type": "code",
   "execution_count": 2,
   "metadata": {
    "execution": {
     "iopub.execute_input": "2021-10-17T13:16:23.134075Z",
     "iopub.status.busy": "2021-10-17T13:16:23.133356Z",
     "iopub.status.idle": "2021-10-17T13:16:23.138807Z",
     "shell.execute_reply": "2021-10-17T13:16:23.139331Z"
    }
   },
   "outputs": [],
   "source": [
    "with open('../newest_ts', 'r') as f:\r\n",
    "    newest_ts = f.read()\r\n",
    "\r\n",
    "data_path = f\"../data/data_{newest_ts}.json\"\r\n",
    "with open(data_path, 'r') as f:\r\n",
    "    data = json.load(f)\r\n",
    "\r\n",
    "with open(CONFIG_PATH, \"r\") as stream:\r\n",
    "    config = yaml.safe_load(stream)\r\n",
    "\r\n",
    "TIME_ZONE = config['time_zone']\r\n",
    "DATETIME_FORMAT = config['dt_format']"
   ]
  },
  {
   "cell_type": "code",
   "execution_count": 3,
   "metadata": {
    "execution": {
     "iopub.execute_input": "2021-10-17T13:16:23.146533Z",
     "iopub.status.busy": "2021-10-17T13:16:23.144608Z",
     "iopub.status.idle": "2021-10-17T13:16:23.151069Z",
     "shell.execute_reply": "2021-10-17T13:16:23.151553Z"
    }
   },
   "outputs": [
    {
     "name": "stdout",
     "output_type": "stream",
     "text": [
      "Recent query happens at 2021-10-17 21:16:15 (CST).\n"
     ]
    }
   ],
   "source": [
    "def ts2dt(ts, format=DATETIME_FORMAT):\r\n",
    "    dt = (datetime.utcfromtimestamp(int(ts))\r\n",
    "                    .replace(tzinfo=tz.tzutc())\r\n",
    "                    # .astimezone(tz.tzlocal())\r\n",
    "                    .astimezone(tz.gettz(TIME_ZONE)))\r\n",
    "    return dt.strftime(format), dt\r\n",
    "\r\n",
    "_, newest_dt = ts2dt(newest_ts)\r\n",
    "print(f\"Recent query happens at {newest_dt.strftime(DATETIME_FORMAT)} ({newest_dt.tzname()}).\")"
   ]
  },
  {
   "cell_type": "code",
   "execution_count": 4,
   "metadata": {
    "execution": {
     "iopub.execute_input": "2021-10-17T13:16:23.157725Z",
     "iopub.status.busy": "2021-10-17T13:16:23.156238Z",
     "iopub.status.idle": "2021-10-17T13:16:23.158364Z",
     "shell.execute_reply": "2021-10-17T13:16:23.158849Z"
    }
   },
   "outputs": [],
   "source": [
    "def degrees_to_cardinal(d):\r\n",
    "  dirs = ['N', 'NNE', 'NE', 'ENE', 'E', 'ESE', 'SE', 'SSE', 'S', 'SSW', 'SW', 'WSW', 'W', 'WNW', 'NW', 'NNW']\r\n",
    "  ix = int(round(d / (360. / len(dirs))))\r\n",
    "  return dirs[ix % len(dirs)]"
   ]
  },
  {
   "cell_type": "code",
   "execution_count": 5,
   "metadata": {
    "execution": {
     "iopub.execute_input": "2021-10-17T13:16:23.163842Z",
     "iopub.status.busy": "2021-10-17T13:16:23.163181Z",
     "iopub.status.idle": "2021-10-17T13:16:23.165876Z",
     "shell.execute_reply": "2021-10-17T13:16:23.165343Z"
    }
   },
   "outputs": [],
   "source": [
    "# data.keys()"
   ]
  },
  {
   "cell_type": "code",
   "execution_count": 6,
   "metadata": {
    "execution": {
     "iopub.execute_input": "2021-10-17T13:16:23.170963Z",
     "iopub.status.busy": "2021-10-17T13:16:23.169173Z",
     "iopub.status.idle": "2021-10-17T13:16:23.171686Z",
     "shell.execute_reply": "2021-10-17T13:16:23.172165Z"
    }
   },
   "outputs": [],
   "source": [
    "# data['current']"
   ]
  },
  {
   "cell_type": "code",
   "execution_count": 7,
   "metadata": {
    "execution": {
     "iopub.execute_input": "2021-10-17T13:16:23.185362Z",
     "iopub.status.busy": "2021-10-17T13:16:23.179771Z",
     "iopub.status.idle": "2021-10-17T13:16:23.644051Z",
     "shell.execute_reply": "2021-10-17T13:16:23.644553Z"
    }
   },
   "outputs": [
    {
     "data": {
      "image/png": "[encoded data removed]",
      "text/plain": [
       "<Figure size 216x216 with 1 Axes>"
      ]
     },
     "metadata": {
      "needs_background": "light"
     },
     "output_type": "display_data"
    },
    {
     "name": "stdout",
     "output_type": "stream",
     "text": [
      "Today, sun rises at 06:19 and sets at 17:56.\n",
      "Currently, the weather is Clouds (overcast clouds).\n",
      "The temperature is 22.25°C and it feels like 22.51°C.\n",
      "The UV index is 0, humidity is 76%.\n",
      "The pressure is 1019 hPa, percentage of cloud cover is 85%\n",
      "The wind comes from ENE direction with a speed 0.45 m/s.\n"
     ]
    }
   ],
   "source": [
    "current = data['current']\r\n",
    "\r\n",
    "fig, ax = plt.subplots(figsize=(3, 3))\r\n",
    "icon = requests.get(f\"http://openweathermap.org/img/wn/{current['weather'][0]['icon']}@2x.png\")\r\n",
    "im = Image.open(BytesIO(icon.content))\r\n",
    "plt.imshow(im)\r\n",
    "ax.set_axis_off()\r\n",
    "plt.show()\r\n",
    "\r\n",
    "print(f\"Today, sun rises at {ts2dt(current['sunrise'], '%H:%M')[0]} \\\r\n",
    "and sets at {ts2dt(current['sunset'], '%H:%M')[0]}.\\n\\\r\n",
    "Currently, the weather is {current['weather'][0]['main']} ({current['weather'][0]['description']}).\\n\\\r\n",
    "The temperature is {current['temp']}°C and it feels like {current['feels_like']}°C.\\n\\\r\n",
    "The UV index is {current['uvi']}, humidity is {current['humidity']}%.\\n\\\r\n",
    "The pressure is {current['pressure']} hPa, percentage of cloud cover is {current['clouds']}%\\n\\\r\n",
    "The wind comes from {degrees_to_cardinal(current['wind_deg'])} direction with a speed {current['wind_speed']} m/s.\")"
   ]
  },
  {
   "cell_type": "code",
   "execution_count": 8,
   "metadata": {
    "execution": {
     "iopub.execute_input": "2021-10-17T13:16:23.653124Z",
     "iopub.status.busy": "2021-10-17T13:16:23.652515Z",
     "iopub.status.idle": "2021-10-17T13:16:23.655778Z",
     "shell.execute_reply": "2021-10-17T13:16:23.656626Z"
    }
   },
   "outputs": [],
   "source": [
    "df_hourly = pd.DataFrame(data['hourly'])\r\n",
    "df_daily = pd.DataFrame(data['daily'])"
   ]
  },
  {
   "cell_type": "code",
   "execution_count": 9,
   "metadata": {
    "execution": {
     "iopub.execute_input": "2021-10-17T13:16:23.660656Z",
     "iopub.status.busy": "2021-10-17T13:16:23.659503Z",
     "iopub.status.idle": "2021-10-17T13:16:24.024341Z",
     "shell.execute_reply": "2021-10-17T13:16:24.023820Z"
    }
   },
   "outputs": [
    {
     "data": {
      "image/png": "[encoded data removed]",
      "text/plain": [
       "<Figure size 864x432 with 1 Axes>"
      ]
     },
     "metadata": {
      "needs_background": "light"
     },
     "output_type": "display_data"
    }
   ],
   "source": [
    "fig, ax = plt.subplots(figsize=(12, 6))\r\n",
    "plt.plot(df_hourly.temp, '.-', label='Temperature')\r\n",
    "plt.plot(df_hourly.feels_like, '.-', label='Feels Like')\r\n",
    "ax.set(title='Temperature in future 48 hours', xlabel='Time', ylabel='Temperature')\r\n",
    "ax.set_xticks(list(range(0, len(df_hourly), 2)))\r\n",
    "ax.set_xticklabels([ts2dt(ts, '%m-%d %H:%M')[0] for i, ts in enumerate(df_hourly.dt) if i%2==0], \r\n",
    "                   rotation=45, ha=\"right\")\r\n",
    "ax.locator_params(nbins=15, axis='y')\r\n",
    "plt.legend()\r\n",
    "plt.show()"
   ]
  },
  {
   "cell_type": "code",
   "execution_count": 10,
   "metadata": {
    "execution": {
     "iopub.execute_input": "2021-10-17T13:16:24.029826Z",
     "iopub.status.busy": "2021-10-17T13:16:24.029145Z",
     "iopub.status.idle": "2021-10-17T13:16:24.049229Z",
     "shell.execute_reply": "2021-10-17T13:16:24.049691Z"
    }
   },
   "outputs": [
    {
     "data": {
      "text/html": [
       "<div>\n",
       "<style scoped>\n",
       "    .dataframe tbody tr th:only-of-type {\n",
       "        vertical-align: middle;\n",
       "    }\n",
       "\n",
       "    .dataframe tbody tr th {\n",
       "        vertical-align: top;\n",
       "    }\n",
       "\n",
       "    .dataframe thead th {\n",
       "        text-align: right;\n",
       "    }\n",
       "</style>\n",
       "<table border=\"1\" class=\"dataframe\">\n",
       "  <thead>\n",
       "    <tr style=\"text-align: right;\">\n",
       "      <th></th>\n",
       "      <th>dt</th>\n",
       "      <th>temp</th>\n",
       "      <th>feels_like</th>\n",
       "      <th>pressure</th>\n",
       "      <th>humidity</th>\n",
       "      <th>dew_point</th>\n",
       "      <th>uvi</th>\n",
       "      <th>clouds</th>\n",
       "      <th>visibility</th>\n",
       "      <th>wind_speed</th>\n",
       "      <th>wind_deg</th>\n",
       "      <th>wind_gust</th>\n",
       "      <th>weather</th>\n",
       "      <th>pop</th>\n",
       "    </tr>\n",
       "  </thead>\n",
       "  <tbody>\n",
       "    <tr>\n",
       "      <th>0</th>\n",
       "      <td>1634475600</td>\n",
       "      <td>22.25</td>\n",
       "      <td>22.51</td>\n",
       "      <td>1019</td>\n",
       "      <td>76</td>\n",
       "      <td>17.82</td>\n",
       "      <td>0.0</td>\n",
       "      <td>85</td>\n",
       "      <td>10000</td>\n",
       "      <td>4.52</td>\n",
       "      <td>16</td>\n",
       "      <td>5.93</td>\n",
       "      <td>[{'id': 804, 'main': 'Clouds', 'description': ...</td>\n",
       "      <td>0.00</td>\n",
       "    </tr>\n",
       "    <tr>\n",
       "      <th>1</th>\n",
       "      <td>1634479200</td>\n",
       "      <td>21.97</td>\n",
       "      <td>22.18</td>\n",
       "      <td>1019</td>\n",
       "      <td>75</td>\n",
       "      <td>17.34</td>\n",
       "      <td>0.0</td>\n",
       "      <td>83</td>\n",
       "      <td>10000</td>\n",
       "      <td>4.36</td>\n",
       "      <td>24</td>\n",
       "      <td>6.13</td>\n",
       "      <td>[{'id': 803, 'main': 'Clouds', 'description': ...</td>\n",
       "      <td>0.00</td>\n",
       "    </tr>\n",
       "    <tr>\n",
       "      <th>2</th>\n",
       "      <td>1634482800</td>\n",
       "      <td>21.67</td>\n",
       "      <td>21.85</td>\n",
       "      <td>1019</td>\n",
       "      <td>75</td>\n",
       "      <td>17.05</td>\n",
       "      <td>0.0</td>\n",
       "      <td>80</td>\n",
       "      <td>10000</td>\n",
       "      <td>4.65</td>\n",
       "      <td>36</td>\n",
       "      <td>6.95</td>\n",
       "      <td>[{'id': 803, 'main': 'Clouds', 'description': ...</td>\n",
       "      <td>0.00</td>\n",
       "    </tr>\n",
       "    <tr>\n",
       "      <th>3</th>\n",
       "      <td>1634486400</td>\n",
       "      <td>21.25</td>\n",
       "      <td>21.41</td>\n",
       "      <td>1019</td>\n",
       "      <td>76</td>\n",
       "      <td>16.85</td>\n",
       "      <td>0.0</td>\n",
       "      <td>74</td>\n",
       "      <td>10000</td>\n",
       "      <td>4.48</td>\n",
       "      <td>34</td>\n",
       "      <td>6.25</td>\n",
       "      <td>[{'id': 803, 'main': 'Clouds', 'description': ...</td>\n",
       "      <td>0.00</td>\n",
       "    </tr>\n",
       "    <tr>\n",
       "      <th>4</th>\n",
       "      <td>1634490000</td>\n",
       "      <td>20.66</td>\n",
       "      <td>20.77</td>\n",
       "      <td>1019</td>\n",
       "      <td>76</td>\n",
       "      <td>16.28</td>\n",
       "      <td>0.0</td>\n",
       "      <td>65</td>\n",
       "      <td>10000</td>\n",
       "      <td>4.35</td>\n",
       "      <td>29</td>\n",
       "      <td>5.78</td>\n",
       "      <td>[{'id': 803, 'main': 'Clouds', 'description': ...</td>\n",
       "      <td>0.03</td>\n",
       "    </tr>\n",
       "  </tbody>\n",
       "</table>\n",
       "</div>"
      ],
      "text/plain": [
       "           dt   temp  feels_like  pressure  humidity  dew_point  uvi  clouds  \\\n",
       "0  1634475600  22.25       22.51      1019        76      17.82  0.0      85   \n",
       "1  1634479200  21.97       22.18      1019        75      17.34  0.0      83   \n",
       "2  1634482800  21.67       21.85      1019        75      17.05  0.0      80   \n",
       "3  1634486400  21.25       21.41      1019        76      16.85  0.0      74   \n",
       "4  1634490000  20.66       20.77      1019        76      16.28  0.0      65   \n",
       "\n",
       "   visibility  wind_speed  wind_deg  wind_gust  \\\n",
       "0       10000        4.52        16       5.93   \n",
       "1       10000        4.36        24       6.13   \n",
       "2       10000        4.65        36       6.95   \n",
       "3       10000        4.48        34       6.25   \n",
       "4       10000        4.35        29       5.78   \n",
       "\n",
       "                                             weather   pop  \n",
       "0  [{'id': 804, 'main': 'Clouds', 'description': ...  0.00  \n",
       "1  [{'id': 803, 'main': 'Clouds', 'description': ...  0.00  \n",
       "2  [{'id': 803, 'main': 'Clouds', 'description': ...  0.00  \n",
       "3  [{'id': 803, 'main': 'Clouds', 'description': ...  0.00  \n",
       "4  [{'id': 803, 'main': 'Clouds', 'description': ...  0.03  "
      ]
     },
     "execution_count": 10,
     "metadata": {},
     "output_type": "execute_result"
    }
   ],
   "source": [
    "df_hourly.head()"
   ]
  },
  {
   "cell_type": "code",
   "execution_count": null,
   "metadata": {},
   "outputs": [],
   "source": []
  }
 ],
 "metadata": {
  "interpreter": {
   "hash": "c1b4cfe941b6d2466ad1fb5979e97da9cda8801728c8091b097ab734208fc00c"
  },
  "kernelspec": {
   "display_name": "Python 3.8.3 64-bit ('base': conda)",
   "name": "python3"
  },
  "language_info": {
   "codemirror_mode": {
    "name": "ipython",
    "version": 3
   },
   "file_extension": ".py",
   "mimetype": "text/x-python",
   "name": "python",
   "nbconvert_exporter": "python",
   "pygments_lexer": "ipython3",
   "version": "3.8.12"
  }
 },
 "nbformat": 4,
 "nbformat_minor": 2
}
