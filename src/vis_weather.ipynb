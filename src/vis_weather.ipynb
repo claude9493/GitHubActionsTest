{
 "cells": [
  {
   "cell_type": "code",
   "execution_count": 1,
   "metadata": {
    "execution": {
     "iopub.execute_input": "2021-09-22T20:12:09.925096Z",
     "iopub.status.busy": "2021-09-22T20:12:09.924567Z",
     "iopub.status.idle": "2021-09-22T20:12:11.072657Z",
     "shell.execute_reply": "2021-09-22T20:12:11.072061Z"
    }
   },
   "outputs": [],
   "source": [
    "import json, yaml, requests\r\n",
    "from datetime import datetime\r\n",
    "from dateutil import tz\r\n",
    "import pandas as pd\r\n",
    "from PIL import Image\r\n",
    "from io import BytesIO\r\n",
    "import matplotlib.pyplot as plt\r\n",
    "import seaborn\r\n",
    "\r\n",
    "CONFIG_PATH = \"../config/config.yaml\""
   ]
  },
  {
   "cell_type": "code",
   "execution_count": 2,
   "metadata": {
    "execution": {
     "iopub.execute_input": "2021-09-22T20:12:11.077955Z",
     "iopub.status.busy": "2021-09-22T20:12:11.077102Z",
     "iopub.status.idle": "2021-09-22T20:12:11.082241Z",
     "shell.execute_reply": "2021-09-22T20:12:11.081845Z"
    }
   },
   "outputs": [],
   "source": [
    "with open('../newest_ts', 'r') as f:\r\n",
    "    newest_ts = f.read()\r\n",
    "\r\n",
    "data_path = f\"../data/data_{newest_ts}.json\"\r\n",
    "with open(data_path, 'r') as f:\r\n",
    "    data = json.load(f)\r\n",
    "\r\n",
    "with open(CONFIG_PATH, \"r\") as stream:\r\n",
    "    config = yaml.safe_load(stream)\r\n",
    "\r\n",
    "TIME_ZONE = config['time_zone']\r\n",
    "DATETIME_FORMAT = config['dt_format']"
   ]
  },
  {
   "cell_type": "code",
   "execution_count": 3,
   "metadata": {
    "execution": {
     "iopub.execute_input": "2021-09-22T20:12:11.086378Z",
     "iopub.status.busy": "2021-09-22T20:12:11.085853Z",
     "iopub.status.idle": "2021-09-22T20:12:11.090076Z",
     "shell.execute_reply": "2021-09-22T20:12:11.090473Z"
    }
   },
   "outputs": [
    {
     "name": "stdout",
     "output_type": "stream",
     "text": [
      "Recent query happens at 2021-09-23 04:12:06 (CST).\n"
     ]
    }
   ],
   "source": [
    "def ts2dt(ts, format=DATETIME_FORMAT):\r\n",
    "    dt = (datetime.utcfromtimestamp(int(ts))\r\n",
    "                    .replace(tzinfo=tz.tzutc())\r\n",
    "                    # .astimezone(tz.tzlocal())\r\n",
    "                    .astimezone(tz.gettz(TIME_ZONE)))\r\n",
    "    return dt.strftime(format), dt\r\n",
    "\r\n",
    "_, newest_dt = ts2dt(newest_ts)\r\n",
    "print(f\"Recent query happens at {newest_dt.strftime(DATETIME_FORMAT)} ({newest_dt.tzname()}).\")"
   ]
  },
  {
   "cell_type": "code",
   "execution_count": 4,
   "metadata": {
    "execution": {
     "iopub.execute_input": "2021-09-22T20:12:11.095227Z",
     "iopub.status.busy": "2021-09-22T20:12:11.094107Z",
     "iopub.status.idle": "2021-09-22T20:12:11.095739Z",
     "shell.execute_reply": "2021-09-22T20:12:11.096105Z"
    }
   },
   "outputs": [],
   "source": [
    "def degrees_to_cardinal(d):\r\n",
    "  dirs = ['N', 'NNE', 'NE', 'ENE', 'E', 'ESE', 'SE', 'SSE', 'S', 'SSW', 'SW', 'WSW', 'W', 'WNW', 'NW', 'NNW']\r\n",
    "  ix = int(round(d / (360. / len(dirs))))\r\n",
    "  return dirs[ix % len(dirs)]"
   ]
  },
  {
   "cell_type": "code",
   "execution_count": 5,
   "metadata": {
    "execution": {
     "iopub.execute_input": "2021-09-22T20:12:11.099780Z",
     "iopub.status.busy": "2021-09-22T20:12:11.098771Z",
     "iopub.status.idle": "2021-09-22T20:12:11.100297Z",
     "shell.execute_reply": "2021-09-22T20:12:11.100665Z"
    }
   },
   "outputs": [],
   "source": [
    "# data.keys()"
   ]
  },
  {
   "cell_type": "code",
   "execution_count": 6,
   "metadata": {
    "execution": {
     "iopub.execute_input": "2021-09-22T20:12:11.104186Z",
     "iopub.status.busy": "2021-09-22T20:12:11.103190Z",
     "iopub.status.idle": "2021-09-22T20:12:11.104701Z",
     "shell.execute_reply": "2021-09-22T20:12:11.105066Z"
    }
   },
   "outputs": [],
   "source": [
    "# data['current']"
   ]
  },
  {
   "cell_type": "code",
   "execution_count": 7,
   "metadata": {
    "execution": {
     "iopub.execute_input": "2021-09-22T20:12:11.121622Z",
     "iopub.status.busy": "2021-09-22T20:12:11.121146Z",
     "iopub.status.idle": "2021-09-22T20:12:11.553229Z",
     "shell.execute_reply": "2021-09-22T20:12:11.553897Z"
    }
   },
   "outputs": [
    {
     "data": {
      "image/png": "[encoded data removed]",
      "text/plain": [
       "<Figure size 216x216 with 1 Axes>"
      ]
     },
     "metadata": {
      "needs_background": "light"
     },
     "output_type": "display_data"
    },
    {
     "name": "stdout",
     "output_type": "stream",
     "text": [
      "Today, sun rises at 06:11 and sets at 18:18.\n",
      "Currently, the weather is Clouds (few clouds).\n",
      "The temperature is 28.52°C and it feels like 33.63°C.\n",
      "The UV index is 0, humidity is 81%.\n",
      "The pressure is 1011 hPa, percentage of cloud cover is 21%\n",
      "The wind comes from E direction with a speed 4.82 m/s.\n"
     ]
    }
   ],
   "source": [
    "current = data['current']\r\n",
    "\r\n",
    "fig, ax = plt.subplots(figsize=(3, 3))\r\n",
    "icon = requests.get(f\"http://openweathermap.org/img/wn/{current['weather'][0]['icon']}@2x.png\")\r\n",
    "im = Image.open(BytesIO(icon.content))\r\n",
    "plt.imshow(im)\r\n",
    "ax.set_axis_off()\r\n",
    "plt.show()\r\n",
    "\r\n",
    "print(f\"Today, sun rises at {ts2dt(current['sunrise'], '%H:%M')[0]} \\\r\n",
    "and sets at {ts2dt(current['sunset'], '%H:%M')[0]}.\\n\\\r\n",
    "Currently, the weather is {current['weather'][0]['main']} ({current['weather'][0]['description']}).\\n\\\r\n",
    "The temperature is {current['temp']}°C and it feels like {current['feels_like']}°C.\\n\\\r\n",
    "The UV index is {current['uvi']}, humidity is {current['humidity']}%.\\n\\\r\n",
    "The pressure is {current['pressure']} hPa, percentage of cloud cover is {current['clouds']}%\\n\\\r\n",
    "The wind comes from {degrees_to_cardinal(current['wind_deg'])} direction with a speed {current['wind_speed']} m/s.\")"
   ]
  },
  {
   "cell_type": "code",
   "execution_count": 8,
   "metadata": {
    "execution": {
     "iopub.execute_input": "2021-09-22T20:12:11.557233Z",
     "iopub.status.busy": "2021-09-22T20:12:11.556286Z",
     "iopub.status.idle": "2021-09-22T20:12:11.563069Z",
     "shell.execute_reply": "2021-09-22T20:12:11.563705Z"
    }
   },
   "outputs": [],
   "source": [
    "df_hourly = pd.DataFrame(data['hourly'])\r\n",
    "df_daily = pd.DataFrame(data['daily'])"
   ]
  },
  {
   "cell_type": "code",
   "execution_count": 9,
   "metadata": {
    "execution": {
     "iopub.execute_input": "2021-09-22T20:12:11.566840Z",
     "iopub.status.busy": "2021-09-22T20:12:11.565806Z",
     "iopub.status.idle": "2021-09-22T20:12:11.796398Z",
     "shell.execute_reply": "2021-09-22T20:12:11.796817Z"
    }
   },
   "outputs": [
    {
     "data": {
      "image/png": "[encoded data removed]",
      "text/plain": [
       "<Figure size 864x432 with 1 Axes>"
      ]
     },
     "metadata": {
      "needs_background": "light"
     },
     "output_type": "display_data"
    }
   ],
   "source": [
    "fig, ax = plt.subplots(figsize=(12, 6))\r\n",
    "plt.plot(df_hourly.temp, '.-', label='Temperature')\r\n",
    "plt.plot(df_hourly.feels_like, '.-', label='Feels Like')\r\n",
    "ax.set(title='Temperature in future 48 hours', xlabel='Time', ylabel='Temperature')\r\n",
    "ax.set_xticks(list(range(0, len(df_hourly), 2)))\r\n",
    "ax.set_xticklabels([ts2dt(ts, '%m-%d %H:%M')[0] for i, ts in enumerate(df_hourly.dt) if i%2==0], \r\n",
    "                   rotation=45, ha=\"right\")\r\n",
    "ax.locator_params(nbins=15, axis='y')\r\n",
    "plt.legend()\r\n",
    "plt.show()"
   ]
  },
  {
   "cell_type": "code",
   "execution_count": 10,
   "metadata": {
    "execution": {
     "iopub.execute_input": "2021-09-22T20:12:11.807683Z",
     "iopub.status.busy": "2021-09-22T20:12:11.800619Z",
     "iopub.status.idle": "2021-09-22T20:12:11.817856Z",
     "shell.execute_reply": "2021-09-22T20:12:11.817460Z"
    }
   },
   "outputs": [
    {
     "data": {
      "text/html": [
       "<div>\n",
       "<style scoped>\n",
       "    .dataframe tbody tr th:only-of-type {\n",
       "        vertical-align: middle;\n",
       "    }\n",
       "\n",
       "    .dataframe tbody tr th {\n",
       "        vertical-align: top;\n",
       "    }\n",
       "\n",
       "    .dataframe thead th {\n",
       "        text-align: right;\n",
       "    }\n",
       "</style>\n",
       "<table border=\"1\" class=\"dataframe\">\n",
       "  <thead>\n",
       "    <tr style=\"text-align: right;\">\n",
       "      <th></th>\n",
       "      <th>dt</th>\n",
       "      <th>temp</th>\n",
       "      <th>feels_like</th>\n",
       "      <th>pressure</th>\n",
       "      <th>humidity</th>\n",
       "      <th>dew_point</th>\n",
       "      <th>uvi</th>\n",
       "      <th>clouds</th>\n",
       "      <th>visibility</th>\n",
       "      <th>wind_speed</th>\n",
       "      <th>wind_deg</th>\n",
       "      <th>wind_gust</th>\n",
       "      <th>weather</th>\n",
       "      <th>pop</th>\n",
       "      <th>rain</th>\n",
       "    </tr>\n",
       "  </thead>\n",
       "  <tbody>\n",
       "    <tr>\n",
       "      <th>0</th>\n",
       "      <td>1632340800</td>\n",
       "      <td>28.52</td>\n",
       "      <td>33.63</td>\n",
       "      <td>1011</td>\n",
       "      <td>81</td>\n",
       "      <td>24.94</td>\n",
       "      <td>0.00</td>\n",
       "      <td>21</td>\n",
       "      <td>10000</td>\n",
       "      <td>4.82</td>\n",
       "      <td>97</td>\n",
       "      <td>6.88</td>\n",
       "      <td>[{'id': 801, 'main': 'Clouds', 'description': ...</td>\n",
       "      <td>0.66</td>\n",
       "      <td>NaN</td>\n",
       "    </tr>\n",
       "    <tr>\n",
       "      <th>1</th>\n",
       "      <td>1632344400</td>\n",
       "      <td>28.48</td>\n",
       "      <td>33.33</td>\n",
       "      <td>1011</td>\n",
       "      <td>80</td>\n",
       "      <td>24.69</td>\n",
       "      <td>0.00</td>\n",
       "      <td>24</td>\n",
       "      <td>10000</td>\n",
       "      <td>4.92</td>\n",
       "      <td>92</td>\n",
       "      <td>6.68</td>\n",
       "      <td>[{'id': 801, 'main': 'Clouds', 'description': ...</td>\n",
       "      <td>0.65</td>\n",
       "      <td>NaN</td>\n",
       "    </tr>\n",
       "    <tr>\n",
       "      <th>2</th>\n",
       "      <td>1632348000</td>\n",
       "      <td>28.36</td>\n",
       "      <td>33.02</td>\n",
       "      <td>1011</td>\n",
       "      <td>80</td>\n",
       "      <td>24.58</td>\n",
       "      <td>0.00</td>\n",
       "      <td>33</td>\n",
       "      <td>10000</td>\n",
       "      <td>5.28</td>\n",
       "      <td>91</td>\n",
       "      <td>6.75</td>\n",
       "      <td>[{'id': 802, 'main': 'Clouds', 'description': ...</td>\n",
       "      <td>0.69</td>\n",
       "      <td>NaN</td>\n",
       "    </tr>\n",
       "    <tr>\n",
       "      <th>3</th>\n",
       "      <td>1632351600</td>\n",
       "      <td>28.29</td>\n",
       "      <td>32.84</td>\n",
       "      <td>1012</td>\n",
       "      <td>80</td>\n",
       "      <td>24.51</td>\n",
       "      <td>0.19</td>\n",
       "      <td>44</td>\n",
       "      <td>10000</td>\n",
       "      <td>5.32</td>\n",
       "      <td>87</td>\n",
       "      <td>6.88</td>\n",
       "      <td>[{'id': 500, 'main': 'Rain', 'description': 'l...</td>\n",
       "      <td>0.77</td>\n",
       "      <td>{'1h': 0.4}</td>\n",
       "    </tr>\n",
       "    <tr>\n",
       "      <th>4</th>\n",
       "      <td>1632355200</td>\n",
       "      <td>28.42</td>\n",
       "      <td>33.00</td>\n",
       "      <td>1013</td>\n",
       "      <td>79</td>\n",
       "      <td>24.42</td>\n",
       "      <td>1.06</td>\n",
       "      <td>56</td>\n",
       "      <td>10000</td>\n",
       "      <td>5.46</td>\n",
       "      <td>86</td>\n",
       "      <td>7.00</td>\n",
       "      <td>[{'id': 500, 'main': 'Rain', 'description': 'l...</td>\n",
       "      <td>0.73</td>\n",
       "      <td>{'1h': 0.7}</td>\n",
       "    </tr>\n",
       "  </tbody>\n",
       "</table>\n",
       "</div>"
      ],
      "text/plain": [
       "           dt   temp  feels_like  pressure  humidity  dew_point   uvi  clouds  \\\n",
       "0  1632340800  28.52       33.63      1011        81      24.94  0.00      21   \n",
       "1  1632344400  28.48       33.33      1011        80      24.69  0.00      24   \n",
       "2  1632348000  28.36       33.02      1011        80      24.58  0.00      33   \n",
       "3  1632351600  28.29       32.84      1012        80      24.51  0.19      44   \n",
       "4  1632355200  28.42       33.00      1013        79      24.42  1.06      56   \n",
       "\n",
       "   visibility  wind_speed  wind_deg  wind_gust  \\\n",
       "0       10000        4.82        97       6.88   \n",
       "1       10000        4.92        92       6.68   \n",
       "2       10000        5.28        91       6.75   \n",
       "3       10000        5.32        87       6.88   \n",
       "4       10000        5.46        86       7.00   \n",
       "\n",
       "                                             weather   pop         rain  \n",
       "0  [{'id': 801, 'main': 'Clouds', 'description': ...  0.66          NaN  \n",
       "1  [{'id': 801, 'main': 'Clouds', 'description': ...  0.65          NaN  \n",
       "2  [{'id': 802, 'main': 'Clouds', 'description': ...  0.69          NaN  \n",
       "3  [{'id': 500, 'main': 'Rain', 'description': 'l...  0.77  {'1h': 0.4}  \n",
       "4  [{'id': 500, 'main': 'Rain', 'description': 'l...  0.73  {'1h': 0.7}  "
      ]
     },
     "execution_count": 10,
     "metadata": {},
     "output_type": "execute_result"
    }
   ],
   "source": [
    "df_hourly.head()"
   ]
  },
  {
   "cell_type": "code",
   "execution_count": null,
   "metadata": {},
   "outputs": [],
   "source": []
  }
 ],
 "metadata": {
  "interpreter": {
   "hash": "c1b4cfe941b6d2466ad1fb5979e97da9cda8801728c8091b097ab734208fc00c"
  },
  "kernelspec": {
   "display_name": "Python 3.8.3 64-bit ('base': conda)",
   "name": "python3"
  },
  "language_info": {
   "codemirror_mode": {
    "name": "ipython",
    "version": 3
   },
   "file_extension": ".py",
   "mimetype": "text/x-python",
   "name": "python",
   "nbconvert_exporter": "python",
   "pygments_lexer": "ipython3",
   "version": "3.8.11"
  }
 },
 "nbformat": 4,
 "nbformat_minor": 2
}
