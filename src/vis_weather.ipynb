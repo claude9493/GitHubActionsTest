{
 "cells": [
  {
   "cell_type": "code",
   "execution_count": 1,
   "metadata": {
    "execution": {
     "iopub.execute_input": "2021-09-05T03:16:15.805397Z",
     "iopub.status.busy": "2021-09-05T03:16:15.804866Z",
     "iopub.status.idle": "2021-09-05T03:16:16.916331Z",
     "shell.execute_reply": "2021-09-05T03:16:16.915778Z"
    }
   },
   "outputs": [],
   "source": [
    "import json, yaml, requests\r\n",
    "from datetime import datetime\r\n",
    "from dateutil import tz\r\n",
    "import pandas as pd\r\n",
    "from PIL import Image\r\n",
    "from io import BytesIO\r\n",
    "import matplotlib.pyplot as plt\r\n",
    "import seaborn\r\n",
    "\r\n",
    "CONFIG_PATH = \"../config/config.yaml\""
   ]
  },
  {
   "cell_type": "code",
   "execution_count": 2,
   "metadata": {
    "execution": {
     "iopub.execute_input": "2021-09-05T03:16:16.921450Z",
     "iopub.status.busy": "2021-09-05T03:16:16.920647Z",
     "iopub.status.idle": "2021-09-05T03:16:16.926266Z",
     "shell.execute_reply": "2021-09-05T03:16:16.925659Z"
    }
   },
   "outputs": [],
   "source": [
    "with open('../newest_ts', 'r') as f:\r\n",
    "    newest_ts = f.read()\r\n",
    "\r\n",
    "data_path = f\"../data/data_{newest_ts}.json\"\r\n",
    "with open(data_path, 'r') as f:\r\n",
    "    data = json.load(f)\r\n",
    "\r\n",
    "with open(CONFIG_PATH, \"r\") as stream:\r\n",
    "    config = yaml.safe_load(stream)\r\n",
    "\r\n",
    "TIME_ZONE = config['time_zone']\r\n",
    "DATETIME_FORMAT = config['dt_format']"
   ]
  },
  {
   "cell_type": "code",
   "execution_count": 3,
   "metadata": {
    "execution": {
     "iopub.execute_input": "2021-09-05T03:16:16.930392Z",
     "iopub.status.busy": "2021-09-05T03:16:16.929909Z",
     "iopub.status.idle": "2021-09-05T03:16:16.933850Z",
     "shell.execute_reply": "2021-09-05T03:16:16.934222Z"
    }
   },
   "outputs": [
    {
     "name": "stdout",
     "output_type": "stream",
     "text": [
      "Recent query happens at 2021-09-05 11:16:13 (CST).\n"
     ]
    }
   ],
   "source": [
    "def ts2dt(ts, format=DATETIME_FORMAT):\r\n",
    "    dt = (datetime.utcfromtimestamp(int(ts))\r\n",
    "                    .replace(tzinfo=tz.tzutc())\r\n",
    "                    # .astimezone(tz.tzlocal())\r\n",
    "                    .astimezone(tz.gettz(TIME_ZONE)))\r\n",
    "    return dt.strftime(format), dt\r\n",
    "\r\n",
    "_, newest_dt = ts2dt(newest_ts)\r\n",
    "print(f\"Recent query happens at {newest_dt.strftime(DATETIME_FORMAT)} ({newest_dt.tzname()}).\")"
   ]
  },
  {
   "cell_type": "code",
   "execution_count": 4,
   "metadata": {
    "execution": {
     "iopub.execute_input": "2021-09-05T03:16:16.938942Z",
     "iopub.status.busy": "2021-09-05T03:16:16.937956Z",
     "iopub.status.idle": "2021-09-05T03:16:16.939460Z",
     "shell.execute_reply": "2021-09-05T03:16:16.939848Z"
    }
   },
   "outputs": [],
   "source": [
    "def degrees_to_cardinal(d):\r\n",
    "  dirs = ['N', 'NNE', 'NE', 'ENE', 'E', 'ESE', 'SE', 'SSE', 'S', 'SSW', 'SW', 'WSW', 'W', 'WNW', 'NW', 'NNW']\r\n",
    "  ix = int(round(d / (360. / len(dirs))))\r\n",
    "  return dirs[ix % len(dirs)]"
   ]
  },
  {
   "cell_type": "code",
   "execution_count": 5,
   "metadata": {
    "execution": {
     "iopub.execute_input": "2021-09-05T03:16:16.943536Z",
     "iopub.status.busy": "2021-09-05T03:16:16.942558Z",
     "iopub.status.idle": "2021-09-05T03:16:16.944084Z",
     "shell.execute_reply": "2021-09-05T03:16:16.944451Z"
    }
   },
   "outputs": [],
   "source": [
    "# data.keys()"
   ]
  },
  {
   "cell_type": "code",
   "execution_count": 6,
   "metadata": {
    "execution": {
     "iopub.execute_input": "2021-09-05T03:16:16.947906Z",
     "iopub.status.busy": "2021-09-05T03:16:16.946929Z",
     "iopub.status.idle": "2021-09-05T03:16:16.948429Z",
     "shell.execute_reply": "2021-09-05T03:16:16.948797Z"
    }
   },
   "outputs": [],
   "source": [
    "# data['current']"
   ]
  },
  {
   "cell_type": "code",
   "execution_count": 7,
   "metadata": {
    "execution": {
     "iopub.execute_input": "2021-09-05T03:16:16.965077Z",
     "iopub.status.busy": "2021-09-05T03:16:16.964610Z",
     "iopub.status.idle": "2021-09-05T03:16:17.523552Z",
     "shell.execute_reply": "2021-09-05T03:16:17.524236Z"
    }
   },
   "outputs": [
    {
     "data": {
      "image/png": "[encoded data removed]",
      "text/plain": [
       "<Figure size 216x216 with 1 Axes>"
      ]
     },
     "metadata": {
      "needs_background": "light"
     },
     "output_type": "display_data"
    },
    {
     "name": "stdout",
     "output_type": "stream",
     "text": [
      "Today, sun rises at 06:06 and sets at 18:36.\n",
      "Currently, the weather is Clouds (overcast clouds).\n",
      "The temperature is 31.07°C and it feels like 38.07°C.\n",
      "The UV index is 9.73, humidity is 78%.\n",
      "The pressure is 1011 hPa, percentage of cloud cover is 92%\n",
      "The wind comes from E direction with a speed 2.38 m/s.\n"
     ]
    }
   ],
   "source": [
    "current = data['current']\r\n",
    "\r\n",
    "fig, ax = plt.subplots(figsize=(3, 3))\r\n",
    "icon = requests.get(f\"http://openweathermap.org/img/wn/{current['weather'][0]['icon']}@2x.png\")\r\n",
    "im = Image.open(BytesIO(icon.content))\r\n",
    "plt.imshow(im)\r\n",
    "ax.set_axis_off()\r\n",
    "plt.show()\r\n",
    "\r\n",
    "print(f\"Today, sun rises at {ts2dt(current['sunrise'], '%H:%M')[0]} \\\r\n",
    "and sets at {ts2dt(current['sunset'], '%H:%M')[0]}.\\n\\\r\n",
    "Currently, the weather is {current['weather'][0]['main']} ({current['weather'][0]['description']}).\\n\\\r\n",
    "The temperature is {current['temp']}°C and it feels like {current['feels_like']}°C.\\n\\\r\n",
    "The UV index is {current['uvi']}, humidity is {current['humidity']}%.\\n\\\r\n",
    "The pressure is {current['pressure']} hPa, percentage of cloud cover is {current['clouds']}%\\n\\\r\n",
    "The wind comes from {degrees_to_cardinal(current['wind_deg'])} direction with a speed {current['wind_speed']} m/s.\")"
   ]
  },
  {
   "cell_type": "code",
   "execution_count": 8,
   "metadata": {
    "execution": {
     "iopub.execute_input": "2021-09-05T03:16:17.527384Z",
     "iopub.status.busy": "2021-09-05T03:16:17.526436Z",
     "iopub.status.idle": "2021-09-05T03:16:17.533132Z",
     "shell.execute_reply": "2021-09-05T03:16:17.533755Z"
    }
   },
   "outputs": [],
   "source": [
    "df_hourly = pd.DataFrame(data['hourly'])\r\n",
    "df_daily = pd.DataFrame(data['daily'])"
   ]
  },
  {
   "cell_type": "code",
   "execution_count": 9,
   "metadata": {
    "execution": {
     "iopub.execute_input": "2021-09-05T03:16:17.536755Z",
     "iopub.status.busy": "2021-09-05T03:16:17.535853Z",
     "iopub.status.idle": "2021-09-05T03:16:17.785737Z",
     "shell.execute_reply": "2021-09-05T03:16:17.785306Z"
    }
   },
   "outputs": [
    {
     "data": {
      "image/png": "[encoded data removed]",
      "text/plain": [
       "<Figure size 864x432 with 1 Axes>"
      ]
     },
     "metadata": {
      "needs_background": "light"
     },
     "output_type": "display_data"
    }
   ],
   "source": [
    "fig, ax = plt.subplots(figsize=(12, 6))\r\n",
    "plt.plot(df_hourly.temp, '.-', label='Temperature')\r\n",
    "plt.plot(df_hourly.feels_like, '.-', label='Feels Like')\r\n",
    "ax.set(title='Temperature in future 48 hours', xlabel='Time', ylabel='Temperature')\r\n",
    "ax.set_xticks(list(range(0, len(df_hourly), 2)))\r\n",
    "ax.set_xticklabels([ts2dt(ts, '%m-%d %H:%M')[0] for i, ts in enumerate(df_hourly.dt) if i%2==0], \r\n",
    "                   rotation=45, ha=\"right\")\r\n",
    "ax.locator_params(nbins=15, axis='y')\r\n",
    "plt.legend()\r\n",
    "plt.show()"
   ]
  },
  {
   "cell_type": "code",
   "execution_count": 10,
   "metadata": {
    "execution": {
     "iopub.execute_input": "2021-09-05T03:16:17.797512Z",
     "iopub.status.busy": "2021-09-05T03:16:17.789768Z",
     "iopub.status.idle": "2021-09-05T03:16:17.808342Z",
     "shell.execute_reply": "2021-09-05T03:16:17.807940Z"
    }
   },
   "outputs": [
    {
     "data": {
      "text/html": [
       "<div>\n",
       "<style scoped>\n",
       "    .dataframe tbody tr th:only-of-type {\n",
       "        vertical-align: middle;\n",
       "    }\n",
       "\n",
       "    .dataframe tbody tr th {\n",
       "        vertical-align: top;\n",
       "    }\n",
       "\n",
       "    .dataframe thead th {\n",
       "        text-align: right;\n",
       "    }\n",
       "</style>\n",
       "<table border=\"1\" class=\"dataframe\">\n",
       "  <thead>\n",
       "    <tr style=\"text-align: right;\">\n",
       "      <th></th>\n",
       "      <th>dt</th>\n",
       "      <th>temp</th>\n",
       "      <th>feels_like</th>\n",
       "      <th>pressure</th>\n",
       "      <th>humidity</th>\n",
       "      <th>dew_point</th>\n",
       "      <th>uvi</th>\n",
       "      <th>clouds</th>\n",
       "      <th>visibility</th>\n",
       "      <th>wind_speed</th>\n",
       "      <th>wind_deg</th>\n",
       "      <th>wind_gust</th>\n",
       "      <th>weather</th>\n",
       "      <th>pop</th>\n",
       "      <th>rain</th>\n",
       "    </tr>\n",
       "  </thead>\n",
       "  <tbody>\n",
       "    <tr>\n",
       "      <th>0</th>\n",
       "      <td>1630810800</td>\n",
       "      <td>31.07</td>\n",
       "      <td>38.07</td>\n",
       "      <td>1011</td>\n",
       "      <td>78</td>\n",
       "      <td>26.78</td>\n",
       "      <td>9.73</td>\n",
       "      <td>92</td>\n",
       "      <td>10000</td>\n",
       "      <td>2.38</td>\n",
       "      <td>88</td>\n",
       "      <td>2.32</td>\n",
       "      <td>[{'id': 804, 'main': 'Clouds', 'description': ...</td>\n",
       "      <td>0.60</td>\n",
       "      <td>NaN</td>\n",
       "    </tr>\n",
       "    <tr>\n",
       "      <th>1</th>\n",
       "      <td>1630814400</td>\n",
       "      <td>30.88</td>\n",
       "      <td>37.88</td>\n",
       "      <td>1011</td>\n",
       "      <td>75</td>\n",
       "      <td>25.93</td>\n",
       "      <td>11.45</td>\n",
       "      <td>92</td>\n",
       "      <td>10000</td>\n",
       "      <td>3.08</td>\n",
       "      <td>92</td>\n",
       "      <td>2.81</td>\n",
       "      <td>[{'id': 804, 'main': 'Clouds', 'description': ...</td>\n",
       "      <td>0.63</td>\n",
       "      <td>NaN</td>\n",
       "    </tr>\n",
       "    <tr>\n",
       "      <th>2</th>\n",
       "      <td>1630818000</td>\n",
       "      <td>30.72</td>\n",
       "      <td>37.72</td>\n",
       "      <td>1011</td>\n",
       "      <td>73</td>\n",
       "      <td>25.32</td>\n",
       "      <td>11.26</td>\n",
       "      <td>92</td>\n",
       "      <td>10000</td>\n",
       "      <td>3.65</td>\n",
       "      <td>101</td>\n",
       "      <td>3.13</td>\n",
       "      <td>[{'id': 804, 'main': 'Clouds', 'description': ...</td>\n",
       "      <td>0.74</td>\n",
       "      <td>NaN</td>\n",
       "    </tr>\n",
       "    <tr>\n",
       "      <th>3</th>\n",
       "      <td>1630821600</td>\n",
       "      <td>30.44</td>\n",
       "      <td>36.68</td>\n",
       "      <td>1010</td>\n",
       "      <td>72</td>\n",
       "      <td>24.82</td>\n",
       "      <td>9.30</td>\n",
       "      <td>92</td>\n",
       "      <td>10000</td>\n",
       "      <td>4.02</td>\n",
       "      <td>102</td>\n",
       "      <td>3.85</td>\n",
       "      <td>[{'id': 500, 'main': 'Rain', 'description': 'l...</td>\n",
       "      <td>0.86</td>\n",
       "      <td>{'1h': 0.32}</td>\n",
       "    </tr>\n",
       "    <tr>\n",
       "      <th>4</th>\n",
       "      <td>1630825200</td>\n",
       "      <td>30.21</td>\n",
       "      <td>35.30</td>\n",
       "      <td>1009</td>\n",
       "      <td>69</td>\n",
       "      <td>23.89</td>\n",
       "      <td>5.93</td>\n",
       "      <td>94</td>\n",
       "      <td>10000</td>\n",
       "      <td>3.26</td>\n",
       "      <td>114</td>\n",
       "      <td>3.00</td>\n",
       "      <td>[{'id': 804, 'main': 'Clouds', 'description': ...</td>\n",
       "      <td>0.28</td>\n",
       "      <td>NaN</td>\n",
       "    </tr>\n",
       "  </tbody>\n",
       "</table>\n",
       "</div>"
      ],
      "text/plain": [
       "           dt   temp  feels_like  pressure  humidity  dew_point    uvi  \\\n",
       "0  1630810800  31.07       38.07      1011        78      26.78   9.73   \n",
       "1  1630814400  30.88       37.88      1011        75      25.93  11.45   \n",
       "2  1630818000  30.72       37.72      1011        73      25.32  11.26   \n",
       "3  1630821600  30.44       36.68      1010        72      24.82   9.30   \n",
       "4  1630825200  30.21       35.30      1009        69      23.89   5.93   \n",
       "\n",
       "   clouds  visibility  wind_speed  wind_deg  wind_gust  \\\n",
       "0      92       10000        2.38        88       2.32   \n",
       "1      92       10000        3.08        92       2.81   \n",
       "2      92       10000        3.65       101       3.13   \n",
       "3      92       10000        4.02       102       3.85   \n",
       "4      94       10000        3.26       114       3.00   \n",
       "\n",
       "                                             weather   pop          rain  \n",
       "0  [{'id': 804, 'main': 'Clouds', 'description': ...  0.60           NaN  \n",
       "1  [{'id': 804, 'main': 'Clouds', 'description': ...  0.63           NaN  \n",
       "2  [{'id': 804, 'main': 'Clouds', 'description': ...  0.74           NaN  \n",
       "3  [{'id': 500, 'main': 'Rain', 'description': 'l...  0.86  {'1h': 0.32}  \n",
       "4  [{'id': 804, 'main': 'Clouds', 'description': ...  0.28           NaN  "
      ]
     },
     "execution_count": 10,
     "metadata": {},
     "output_type": "execute_result"
    }
   ],
   "source": [
    "df_hourly.head()"
   ]
  },
  {
   "cell_type": "code",
   "execution_count": null,
   "metadata": {},
   "outputs": [],
   "source": []
  }
 ],
 "metadata": {
  "interpreter": {
   "hash": "c1b4cfe941b6d2466ad1fb5979e97da9cda8801728c8091b097ab734208fc00c"
  },
  "kernelspec": {
   "display_name": "Python 3.8.3 64-bit ('base': conda)",
   "name": "python3"
  },
  "language_info": {
   "codemirror_mode": {
    "name": "ipython",
    "version": 3
   },
   "file_extension": ".py",
   "mimetype": "text/x-python",
   "name": "python",
   "nbconvert_exporter": "python",
   "pygments_lexer": "ipython3",
   "version": "3.8.11"
  }
 },
 "nbformat": 4,
 "nbformat_minor": 2
}
