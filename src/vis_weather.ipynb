{
 "cells": [
  {
   "cell_type": "code",
   "execution_count": 1,
   "metadata": {
    "execution": {
     "iopub.execute_input": "2021-10-08T12:18:17.009687Z",
     "iopub.status.busy": "2021-10-08T12:18:17.009160Z",
     "iopub.status.idle": "2021-10-08T12:18:18.823584Z",
     "shell.execute_reply": "2021-10-08T12:18:18.822976Z"
    }
   },
   "outputs": [],
   "source": [
    "import json, yaml, requests\r\n",
    "from datetime import datetime\r\n",
    "from dateutil import tz\r\n",
    "import pandas as pd\r\n",
    "from PIL import Image\r\n",
    "from io import BytesIO\r\n",
    "import matplotlib.pyplot as plt\r\n",
    "import seaborn\r\n",
    "\r\n",
    "CONFIG_PATH = \"../config/config.yaml\""
   ]
  },
  {
   "cell_type": "code",
   "execution_count": 2,
   "metadata": {
    "execution": {
     "iopub.execute_input": "2021-10-08T12:18:18.830928Z",
     "iopub.status.busy": "2021-10-08T12:18:18.828222Z",
     "iopub.status.idle": "2021-10-08T12:18:18.833467Z",
     "shell.execute_reply": "2021-10-08T12:18:18.833092Z"
    }
   },
   "outputs": [],
   "source": [
    "with open('../newest_ts', 'r') as f:\r\n",
    "    newest_ts = f.read()\r\n",
    "\r\n",
    "data_path = f\"../data/data_{newest_ts}.json\"\r\n",
    "with open(data_path, 'r') as f:\r\n",
    "    data = json.load(f)\r\n",
    "\r\n",
    "with open(CONFIG_PATH, \"r\") as stream:\r\n",
    "    config = yaml.safe_load(stream)\r\n",
    "\r\n",
    "TIME_ZONE = config['time_zone']\r\n",
    "DATETIME_FORMAT = config['dt_format']"
   ]
  },
  {
   "cell_type": "code",
   "execution_count": 3,
   "metadata": {
    "execution": {
     "iopub.execute_input": "2021-10-08T12:18:18.837925Z",
     "iopub.status.busy": "2021-10-08T12:18:18.837196Z",
     "iopub.status.idle": "2021-10-08T12:18:18.842361Z",
     "shell.execute_reply": "2021-10-08T12:18:18.842734Z"
    }
   },
   "outputs": [
    {
     "name": "stdout",
     "output_type": "stream",
     "text": [
      "Recent query happens at 2021-10-08 20:18:14 (CST).\n"
     ]
    }
   ],
   "source": [
    "def ts2dt(ts, format=DATETIME_FORMAT):\r\n",
    "    dt = (datetime.utcfromtimestamp(int(ts))\r\n",
    "                    .replace(tzinfo=tz.tzutc())\r\n",
    "                    # .astimezone(tz.tzlocal())\r\n",
    "                    .astimezone(tz.gettz(TIME_ZONE)))\r\n",
    "    return dt.strftime(format), dt\r\n",
    "\r\n",
    "_, newest_dt = ts2dt(newest_ts)\r\n",
    "print(f\"Recent query happens at {newest_dt.strftime(DATETIME_FORMAT)} ({newest_dt.tzname()}).\")"
   ]
  },
  {
   "cell_type": "code",
   "execution_count": 4,
   "metadata": {
    "execution": {
     "iopub.execute_input": "2021-10-08T12:18:18.847602Z",
     "iopub.status.busy": "2021-10-08T12:18:18.846553Z",
     "iopub.status.idle": "2021-10-08T12:18:18.848118Z",
     "shell.execute_reply": "2021-10-08T12:18:18.848515Z"
    }
   },
   "outputs": [],
   "source": [
    "def degrees_to_cardinal(d):\r\n",
    "  dirs = ['N', 'NNE', 'NE', 'ENE', 'E', 'ESE', 'SE', 'SSE', 'S', 'SSW', 'SW', 'WSW', 'W', 'WNW', 'NW', 'NNW']\r\n",
    "  ix = int(round(d / (360. / len(dirs))))\r\n",
    "  return dirs[ix % len(dirs)]"
   ]
  },
  {
   "cell_type": "code",
   "execution_count": 5,
   "metadata": {
    "execution": {
     "iopub.execute_input": "2021-10-08T12:18:18.852474Z",
     "iopub.status.busy": "2021-10-08T12:18:18.851382Z",
     "iopub.status.idle": "2021-10-08T12:18:18.853003Z",
     "shell.execute_reply": "2021-10-08T12:18:18.853366Z"
    }
   },
   "outputs": [],
   "source": [
    "# data.keys()"
   ]
  },
  {
   "cell_type": "code",
   "execution_count": 6,
   "metadata": {
    "execution": {
     "iopub.execute_input": "2021-10-08T12:18:18.857080Z",
     "iopub.status.busy": "2021-10-08T12:18:18.855917Z",
     "iopub.status.idle": "2021-10-08T12:18:18.857605Z",
     "shell.execute_reply": "2021-10-08T12:18:18.857966Z"
    }
   },
   "outputs": [],
   "source": [
    "# data['current']"
   ]
  },
  {
   "cell_type": "code",
   "execution_count": 7,
   "metadata": {
    "execution": {
     "iopub.execute_input": "2021-10-08T12:18:18.880548Z",
     "iopub.status.busy": "2021-10-08T12:18:18.878070Z",
     "iopub.status.idle": "2021-10-08T12:18:19.246853Z",
     "shell.execute_reply": "2021-10-08T12:18:19.246423Z"
    }
   },
   "outputs": [
    {
     "data": {
      "image/png": "[encoded data removed]",
      "text/plain": [
       "<Figure size 216x216 with 1 Axes>"
      ]
     },
     "metadata": {
      "needs_background": "light"
     },
     "output_type": "display_data"
    },
    {
     "name": "stdout",
     "output_type": "stream",
     "text": [
      "Today, sun rises at 06:16 and sets at 18:04.\n",
      "Currently, the weather is Rain (light rain).\n",
      "The temperature is 25.89°C and it feels like 26.99°C.\n",
      "The UV index is 0, humidity is 94%.\n",
      "The pressure is 1003 hPa, percentage of cloud cover is 100%\n",
      "The wind comes from NNW direction with a speed 1.79 m/s.\n"
     ]
    }
   ],
   "source": [
    "current = data['current']\r\n",
    "\r\n",
    "fig, ax = plt.subplots(figsize=(3, 3))\r\n",
    "icon = requests.get(f\"http://openweathermap.org/img/wn/{current['weather'][0]['icon']}@2x.png\")\r\n",
    "im = Image.open(BytesIO(icon.content))\r\n",
    "plt.imshow(im)\r\n",
    "ax.set_axis_off()\r\n",
    "plt.show()\r\n",
    "\r\n",
    "print(f\"Today, sun rises at {ts2dt(current['sunrise'], '%H:%M')[0]} \\\r\n",
    "and sets at {ts2dt(current['sunset'], '%H:%M')[0]}.\\n\\\r\n",
    "Currently, the weather is {current['weather'][0]['main']} ({current['weather'][0]['description']}).\\n\\\r\n",
    "The temperature is {current['temp']}°C and it feels like {current['feels_like']}°C.\\n\\\r\n",
    "The UV index is {current['uvi']}, humidity is {current['humidity']}%.\\n\\\r\n",
    "The pressure is {current['pressure']} hPa, percentage of cloud cover is {current['clouds']}%\\n\\\r\n",
    "The wind comes from {degrees_to_cardinal(current['wind_deg'])} direction with a speed {current['wind_speed']} m/s.\")"
   ]
  },
  {
   "cell_type": "code",
   "execution_count": 8,
   "metadata": {
    "execution": {
     "iopub.execute_input": "2021-10-08T12:18:19.254918Z",
     "iopub.status.busy": "2021-10-08T12:18:19.254101Z",
     "iopub.status.idle": "2021-10-08T12:18:19.256269Z",
     "shell.execute_reply": "2021-10-08T12:18:19.255845Z"
    }
   },
   "outputs": [],
   "source": [
    "df_hourly = pd.DataFrame(data['hourly'])\r\n",
    "df_daily = pd.DataFrame(data['daily'])"
   ]
  },
  {
   "cell_type": "code",
   "execution_count": 9,
   "metadata": {
    "execution": {
     "iopub.execute_input": "2021-10-08T12:18:19.261612Z",
     "iopub.status.busy": "2021-10-08T12:18:19.261145Z",
     "iopub.status.idle": "2021-10-08T12:18:19.506825Z",
     "shell.execute_reply": "2021-10-08T12:18:19.506337Z"
    }
   },
   "outputs": [
    {
     "data": {
      "image/png": "[encoded data removed]",
      "text/plain": [
       "<Figure size 864x432 with 1 Axes>"
      ]
     },
     "metadata": {
      "needs_background": "light"
     },
     "output_type": "display_data"
    }
   ],
   "source": [
    "fig, ax = plt.subplots(figsize=(12, 6))\r\n",
    "plt.plot(df_hourly.temp, '.-', label='Temperature')\r\n",
    "plt.plot(df_hourly.feels_like, '.-', label='Feels Like')\r\n",
    "ax.set(title='Temperature in future 48 hours', xlabel='Time', ylabel='Temperature')\r\n",
    "ax.set_xticks(list(range(0, len(df_hourly), 2)))\r\n",
    "ax.set_xticklabels([ts2dt(ts, '%m-%d %H:%M')[0] for i, ts in enumerate(df_hourly.dt) if i%2==0], \r\n",
    "                   rotation=45, ha=\"right\")\r\n",
    "ax.locator_params(nbins=15, axis='y')\r\n",
    "plt.legend()\r\n",
    "plt.show()"
   ]
  },
  {
   "cell_type": "code",
   "execution_count": 10,
   "metadata": {
    "execution": {
     "iopub.execute_input": "2021-10-08T12:18:19.511385Z",
     "iopub.status.busy": "2021-10-08T12:18:19.510920Z",
     "iopub.status.idle": "2021-10-08T12:18:19.530557Z",
     "shell.execute_reply": "2021-10-08T12:18:19.530144Z"
    }
   },
   "outputs": [
    {
     "data": {
      "text/html": [
       "<div>\n",
       "<style scoped>\n",
       "    .dataframe tbody tr th:only-of-type {\n",
       "        vertical-align: middle;\n",
       "    }\n",
       "\n",
       "    .dataframe tbody tr th {\n",
       "        vertical-align: top;\n",
       "    }\n",
       "\n",
       "    .dataframe thead th {\n",
       "        text-align: right;\n",
       "    }\n",
       "</style>\n",
       "<table border=\"1\" class=\"dataframe\">\n",
       "  <thead>\n",
       "    <tr style=\"text-align: right;\">\n",
       "      <th></th>\n",
       "      <th>dt</th>\n",
       "      <th>temp</th>\n",
       "      <th>feels_like</th>\n",
       "      <th>pressure</th>\n",
       "      <th>humidity</th>\n",
       "      <th>dew_point</th>\n",
       "      <th>uvi</th>\n",
       "      <th>clouds</th>\n",
       "      <th>visibility</th>\n",
       "      <th>wind_speed</th>\n",
       "      <th>wind_deg</th>\n",
       "      <th>wind_gust</th>\n",
       "      <th>weather</th>\n",
       "      <th>pop</th>\n",
       "      <th>rain</th>\n",
       "    </tr>\n",
       "  </thead>\n",
       "  <tbody>\n",
       "    <tr>\n",
       "      <th>0</th>\n",
       "      <td>1633694400</td>\n",
       "      <td>25.89</td>\n",
       "      <td>26.99</td>\n",
       "      <td>1003</td>\n",
       "      <td>94</td>\n",
       "      <td>24.85</td>\n",
       "      <td>0.0</td>\n",
       "      <td>100</td>\n",
       "      <td>2379</td>\n",
       "      <td>12.92</td>\n",
       "      <td>110</td>\n",
       "      <td>18.21</td>\n",
       "      <td>[{'id': 502, 'main': 'Rain', 'description': 'h...</td>\n",
       "      <td>1.0</td>\n",
       "      <td>{'1h': 12.07}</td>\n",
       "    </tr>\n",
       "    <tr>\n",
       "      <th>1</th>\n",
       "      <td>1633698000</td>\n",
       "      <td>25.89</td>\n",
       "      <td>26.99</td>\n",
       "      <td>1003</td>\n",
       "      <td>94</td>\n",
       "      <td>24.85</td>\n",
       "      <td>0.0</td>\n",
       "      <td>100</td>\n",
       "      <td>2030</td>\n",
       "      <td>12.65</td>\n",
       "      <td>107</td>\n",
       "      <td>17.55</td>\n",
       "      <td>[{'id': 501, 'main': 'Rain', 'description': 'm...</td>\n",
       "      <td>1.0</td>\n",
       "      <td>{'1h': 2.05}</td>\n",
       "    </tr>\n",
       "    <tr>\n",
       "      <th>2</th>\n",
       "      <td>1633701600</td>\n",
       "      <td>25.80</td>\n",
       "      <td>26.92</td>\n",
       "      <td>1004</td>\n",
       "      <td>95</td>\n",
       "      <td>24.94</td>\n",
       "      <td>0.0</td>\n",
       "      <td>100</td>\n",
       "      <td>2176</td>\n",
       "      <td>12.54</td>\n",
       "      <td>106</td>\n",
       "      <td>17.41</td>\n",
       "      <td>[{'id': 500, 'main': 'Rain', 'description': 'l...</td>\n",
       "      <td>1.0</td>\n",
       "      <td>{'1h': 0.75}</td>\n",
       "    </tr>\n",
       "    <tr>\n",
       "      <th>3</th>\n",
       "      <td>1633705200</td>\n",
       "      <td>25.84</td>\n",
       "      <td>26.93</td>\n",
       "      <td>1005</td>\n",
       "      <td>94</td>\n",
       "      <td>24.80</td>\n",
       "      <td>0.0</td>\n",
       "      <td>100</td>\n",
       "      <td>3303</td>\n",
       "      <td>13.13</td>\n",
       "      <td>105</td>\n",
       "      <td>18.05</td>\n",
       "      <td>[{'id': 502, 'main': 'Rain', 'description': 'h...</td>\n",
       "      <td>1.0</td>\n",
       "      <td>{'1h': 8.97}</td>\n",
       "    </tr>\n",
       "    <tr>\n",
       "      <th>4</th>\n",
       "      <td>1633708800</td>\n",
       "      <td>25.89</td>\n",
       "      <td>26.96</td>\n",
       "      <td>1005</td>\n",
       "      <td>93</td>\n",
       "      <td>24.67</td>\n",
       "      <td>0.0</td>\n",
       "      <td>100</td>\n",
       "      <td>4920</td>\n",
       "      <td>13.15</td>\n",
       "      <td>106</td>\n",
       "      <td>18.19</td>\n",
       "      <td>[{'id': 502, 'main': 'Rain', 'description': 'h...</td>\n",
       "      <td>1.0</td>\n",
       "      <td>{'1h': 5.71}</td>\n",
       "    </tr>\n",
       "  </tbody>\n",
       "</table>\n",
       "</div>"
      ],
      "text/plain": [
       "           dt   temp  feels_like  pressure  humidity  dew_point  uvi  clouds  \\\n",
       "0  1633694400  25.89       26.99      1003        94      24.85  0.0     100   \n",
       "1  1633698000  25.89       26.99      1003        94      24.85  0.0     100   \n",
       "2  1633701600  25.80       26.92      1004        95      24.94  0.0     100   \n",
       "3  1633705200  25.84       26.93      1005        94      24.80  0.0     100   \n",
       "4  1633708800  25.89       26.96      1005        93      24.67  0.0     100   \n",
       "\n",
       "   visibility  wind_speed  wind_deg  wind_gust  \\\n",
       "0        2379       12.92       110      18.21   \n",
       "1        2030       12.65       107      17.55   \n",
       "2        2176       12.54       106      17.41   \n",
       "3        3303       13.13       105      18.05   \n",
       "4        4920       13.15       106      18.19   \n",
       "\n",
       "                                             weather  pop           rain  \n",
       "0  [{'id': 502, 'main': 'Rain', 'description': 'h...  1.0  {'1h': 12.07}  \n",
       "1  [{'id': 501, 'main': 'Rain', 'description': 'm...  1.0   {'1h': 2.05}  \n",
       "2  [{'id': 500, 'main': 'Rain', 'description': 'l...  1.0   {'1h': 0.75}  \n",
       "3  [{'id': 502, 'main': 'Rain', 'description': 'h...  1.0   {'1h': 8.97}  \n",
       "4  [{'id': 502, 'main': 'Rain', 'description': 'h...  1.0   {'1h': 5.71}  "
      ]
     },
     "execution_count": 10,
     "metadata": {},
     "output_type": "execute_result"
    }
   ],
   "source": [
    "df_hourly.head()"
   ]
  },
  {
   "cell_type": "code",
   "execution_count": null,
   "metadata": {},
   "outputs": [],
   "source": []
  }
 ],
 "metadata": {
  "interpreter": {
   "hash": "c1b4cfe941b6d2466ad1fb5979e97da9cda8801728c8091b097ab734208fc00c"
  },
  "kernelspec": {
   "display_name": "Python 3.8.3 64-bit ('base': conda)",
   "name": "python3"
  },
  "language_info": {
   "codemirror_mode": {
    "name": "ipython",
    "version": 3
   },
   "file_extension": ".py",
   "mimetype": "text/x-python",
   "name": "python",
   "nbconvert_exporter": "python",
   "pygments_lexer": "ipython3",
   "version": "3.8.12"
  }
 },
 "nbformat": 4,
 "nbformat_minor": 2
}
