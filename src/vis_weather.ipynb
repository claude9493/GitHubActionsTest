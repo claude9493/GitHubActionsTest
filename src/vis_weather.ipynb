{
 "cells": [
  {
   "cell_type": "code",
   "execution_count": 1,
   "metadata": {
    "execution": {
     "iopub.execute_input": "2021-10-16T17:14:58.138417Z",
     "iopub.status.busy": "2021-10-16T17:14:58.137825Z",
     "iopub.status.idle": "2021-10-16T17:15:00.611624Z",
     "shell.execute_reply": "2021-10-16T17:15:00.611002Z"
    }
   },
   "outputs": [],
   "source": [
    "import json, yaml, requests\r\n",
    "from datetime import datetime\r\n",
    "from dateutil import tz\r\n",
    "import pandas as pd\r\n",
    "from PIL import Image\r\n",
    "from io import BytesIO\r\n",
    "import matplotlib.pyplot as plt\r\n",
    "import seaborn\r\n",
    "\r\n",
    "CONFIG_PATH = \"../config/config.yaml\""
   ]
  },
  {
   "cell_type": "code",
   "execution_count": 2,
   "metadata": {
    "execution": {
     "iopub.execute_input": "2021-10-16T17:15:00.616715Z",
     "iopub.status.busy": "2021-10-16T17:15:00.616190Z",
     "iopub.status.idle": "2021-10-16T17:15:00.620787Z",
     "shell.execute_reply": "2021-10-16T17:15:00.620391Z"
    }
   },
   "outputs": [],
   "source": [
    "with open('../newest_ts', 'r') as f:\r\n",
    "    newest_ts = f.read()\r\n",
    "\r\n",
    "data_path = f\"../data/data_{newest_ts}.json\"\r\n",
    "with open(data_path, 'r') as f:\r\n",
    "    data = json.load(f)\r\n",
    "\r\n",
    "with open(CONFIG_PATH, \"r\") as stream:\r\n",
    "    config = yaml.safe_load(stream)\r\n",
    "\r\n",
    "TIME_ZONE = config['time_zone']\r\n",
    "DATETIME_FORMAT = config['dt_format']"
   ]
  },
  {
   "cell_type": "code",
   "execution_count": 3,
   "metadata": {
    "execution": {
     "iopub.execute_input": "2021-10-16T17:15:00.625004Z",
     "iopub.status.busy": "2021-10-16T17:15:00.624514Z",
     "iopub.status.idle": "2021-10-16T17:15:00.629704Z",
     "shell.execute_reply": "2021-10-16T17:15:00.630073Z"
    }
   },
   "outputs": [
    {
     "name": "stdout",
     "output_type": "stream",
     "text": [
      "Recent query happens at 2021-10-17 01:14:54 (CST).\n"
     ]
    }
   ],
   "source": [
    "def ts2dt(ts, format=DATETIME_FORMAT):\r\n",
    "    dt = (datetime.utcfromtimestamp(int(ts))\r\n",
    "                    .replace(tzinfo=tz.tzutc())\r\n",
    "                    # .astimezone(tz.tzlocal())\r\n",
    "                    .astimezone(tz.gettz(TIME_ZONE)))\r\n",
    "    return dt.strftime(format), dt\r\n",
    "\r\n",
    "_, newest_dt = ts2dt(newest_ts)\r\n",
    "print(f\"Recent query happens at {newest_dt.strftime(DATETIME_FORMAT)} ({newest_dt.tzname()}).\")"
   ]
  },
  {
   "cell_type": "code",
   "execution_count": 4,
   "metadata": {
    "execution": {
     "iopub.execute_input": "2021-10-16T17:15:00.633989Z",
     "iopub.status.busy": "2021-10-16T17:15:00.633520Z",
     "iopub.status.idle": "2021-10-16T17:15:00.635699Z",
     "shell.execute_reply": "2021-10-16T17:15:00.635321Z"
    }
   },
   "outputs": [],
   "source": [
    "def degrees_to_cardinal(d):\r\n",
    "  dirs = ['N', 'NNE', 'NE', 'ENE', 'E', 'ESE', 'SE', 'SSE', 'S', 'SSW', 'SW', 'WSW', 'W', 'WNW', 'NW', 'NNW']\r\n",
    "  ix = int(round(d / (360. / len(dirs))))\r\n",
    "  return dirs[ix % len(dirs)]"
   ]
  },
  {
   "cell_type": "code",
   "execution_count": 5,
   "metadata": {
    "execution": {
     "iopub.execute_input": "2021-10-16T17:15:00.639613Z",
     "iopub.status.busy": "2021-10-16T17:15:00.638470Z",
     "iopub.status.idle": "2021-10-16T17:15:00.640135Z",
     "shell.execute_reply": "2021-10-16T17:15:00.640498Z"
    }
   },
   "outputs": [],
   "source": [
    "# data.keys()"
   ]
  },
  {
   "cell_type": "code",
   "execution_count": 6,
   "metadata": {
    "execution": {
     "iopub.execute_input": "2021-10-16T17:15:00.644086Z",
     "iopub.status.busy": "2021-10-16T17:15:00.643033Z",
     "iopub.status.idle": "2021-10-16T17:15:00.644597Z",
     "shell.execute_reply": "2021-10-16T17:15:00.644956Z"
    }
   },
   "outputs": [],
   "source": [
    "# data['current']"
   ]
  },
  {
   "cell_type": "code",
   "execution_count": 7,
   "metadata": {
    "execution": {
     "iopub.execute_input": "2021-10-16T17:15:00.661139Z",
     "iopub.status.busy": "2021-10-16T17:15:00.660664Z",
     "iopub.status.idle": "2021-10-16T17:15:01.045357Z",
     "shell.execute_reply": "2021-10-16T17:15:01.046033Z"
    }
   },
   "outputs": [
    {
     "data": {
      "image/png": "[encoded data removed]",
      "text/plain": [
       "<Figure size 216x216 with 1 Axes>"
      ]
     },
     "metadata": {
      "needs_background": "light"
     },
     "output_type": "display_data"
    },
    {
     "name": "stdout",
     "output_type": "stream",
     "text": [
      "Today, sun rises at 06:19 and sets at 17:56.\n",
      "Currently, the weather is Clouds (few clouds).\n",
      "The temperature is 23.72°C and it feels like 23.95°C.\n",
      "The UV index is 0, humidity is 69%.\n",
      "The pressure is 1018 hPa, percentage of cloud cover is 21%\n",
      "The wind comes from NE direction with a speed 2.68 m/s.\n"
     ]
    }
   ],
   "source": [
    "current = data['current']\r\n",
    "\r\n",
    "fig, ax = plt.subplots(figsize=(3, 3))\r\n",
    "icon = requests.get(f\"http://openweathermap.org/img/wn/{current['weather'][0]['icon']}@2x.png\")\r\n",
    "im = Image.open(BytesIO(icon.content))\r\n",
    "plt.imshow(im)\r\n",
    "ax.set_axis_off()\r\n",
    "plt.show()\r\n",
    "\r\n",
    "print(f\"Today, sun rises at {ts2dt(current['sunrise'], '%H:%M')[0]} \\\r\n",
    "and sets at {ts2dt(current['sunset'], '%H:%M')[0]}.\\n\\\r\n",
    "Currently, the weather is {current['weather'][0]['main']} ({current['weather'][0]['description']}).\\n\\\r\n",
    "The temperature is {current['temp']}°C and it feels like {current['feels_like']}°C.\\n\\\r\n",
    "The UV index is {current['uvi']}, humidity is {current['humidity']}%.\\n\\\r\n",
    "The pressure is {current['pressure']} hPa, percentage of cloud cover is {current['clouds']}%\\n\\\r\n",
    "The wind comes from {degrees_to_cardinal(current['wind_deg'])} direction with a speed {current['wind_speed']} m/s.\")"
   ]
  },
  {
   "cell_type": "code",
   "execution_count": 8,
   "metadata": {
    "execution": {
     "iopub.execute_input": "2021-10-16T17:15:01.049172Z",
     "iopub.status.busy": "2021-10-16T17:15:01.048250Z",
     "iopub.status.idle": "2021-10-16T17:15:01.054932Z",
     "shell.execute_reply": "2021-10-16T17:15:01.055606Z"
    }
   },
   "outputs": [],
   "source": [
    "df_hourly = pd.DataFrame(data['hourly'])\r\n",
    "df_daily = pd.DataFrame(data['daily'])"
   ]
  },
  {
   "cell_type": "code",
   "execution_count": 9,
   "metadata": {
    "execution": {
     "iopub.execute_input": "2021-10-16T17:15:01.058630Z",
     "iopub.status.busy": "2021-10-16T17:15:01.057686Z",
     "iopub.status.idle": "2021-10-16T17:15:01.307179Z",
     "shell.execute_reply": "2021-10-16T17:15:01.306309Z"
    }
   },
   "outputs": [
    {
     "data": {
      "image/png": "[encoded data removed]",
      "text/plain": [
       "<Figure size 864x432 with 1 Axes>"
      ]
     },
     "metadata": {
      "needs_background": "light"
     },
     "output_type": "display_data"
    }
   ],
   "source": [
    "fig, ax = plt.subplots(figsize=(12, 6))\r\n",
    "plt.plot(df_hourly.temp, '.-', label='Temperature')\r\n",
    "plt.plot(df_hourly.feels_like, '.-', label='Feels Like')\r\n",
    "ax.set(title='Temperature in future 48 hours', xlabel='Time', ylabel='Temperature')\r\n",
    "ax.set_xticks(list(range(0, len(df_hourly), 2)))\r\n",
    "ax.set_xticklabels([ts2dt(ts, '%m-%d %H:%M')[0] for i, ts in enumerate(df_hourly.dt) if i%2==0], \r\n",
    "                   rotation=45, ha=\"right\")\r\n",
    "ax.locator_params(nbins=15, axis='y')\r\n",
    "plt.legend()\r\n",
    "plt.show()"
   ]
  },
  {
   "cell_type": "code",
   "execution_count": 10,
   "metadata": {
    "execution": {
     "iopub.execute_input": "2021-10-16T17:15:01.318276Z",
     "iopub.status.busy": "2021-10-16T17:15:01.310975Z",
     "iopub.status.idle": "2021-10-16T17:15:01.329589Z",
     "shell.execute_reply": "2021-10-16T17:15:01.329159Z"
    }
   },
   "outputs": [
    {
     "data": {
      "text/html": [
       "<div>\n",
       "<style scoped>\n",
       "    .dataframe tbody tr th:only-of-type {\n",
       "        vertical-align: middle;\n",
       "    }\n",
       "\n",
       "    .dataframe tbody tr th {\n",
       "        vertical-align: top;\n",
       "    }\n",
       "\n",
       "    .dataframe thead th {\n",
       "        text-align: right;\n",
       "    }\n",
       "</style>\n",
       "<table border=\"1\" class=\"dataframe\">\n",
       "  <thead>\n",
       "    <tr style=\"text-align: right;\">\n",
       "      <th></th>\n",
       "      <th>dt</th>\n",
       "      <th>temp</th>\n",
       "      <th>feels_like</th>\n",
       "      <th>pressure</th>\n",
       "      <th>humidity</th>\n",
       "      <th>dew_point</th>\n",
       "      <th>uvi</th>\n",
       "      <th>clouds</th>\n",
       "      <th>visibility</th>\n",
       "      <th>wind_speed</th>\n",
       "      <th>wind_deg</th>\n",
       "      <th>wind_gust</th>\n",
       "      <th>weather</th>\n",
       "      <th>pop</th>\n",
       "    </tr>\n",
       "  </thead>\n",
       "  <tbody>\n",
       "    <tr>\n",
       "      <th>0</th>\n",
       "      <td>1634403600</td>\n",
       "      <td>23.72</td>\n",
       "      <td>23.95</td>\n",
       "      <td>1018</td>\n",
       "      <td>69</td>\n",
       "      <td>17.70</td>\n",
       "      <td>0.0</td>\n",
       "      <td>21</td>\n",
       "      <td>10000</td>\n",
       "      <td>5.87</td>\n",
       "      <td>11</td>\n",
       "      <td>9.47</td>\n",
       "      <td>[{'id': 801, 'main': 'Clouds', 'description': ...</td>\n",
       "      <td>0.00</td>\n",
       "    </tr>\n",
       "    <tr>\n",
       "      <th>1</th>\n",
       "      <td>1634407200</td>\n",
       "      <td>23.17</td>\n",
       "      <td>23.40</td>\n",
       "      <td>1018</td>\n",
       "      <td>71</td>\n",
       "      <td>17.62</td>\n",
       "      <td>0.0</td>\n",
       "      <td>23</td>\n",
       "      <td>10000</td>\n",
       "      <td>5.63</td>\n",
       "      <td>11</td>\n",
       "      <td>9.28</td>\n",
       "      <td>[{'id': 801, 'main': 'Clouds', 'description': ...</td>\n",
       "      <td>0.00</td>\n",
       "    </tr>\n",
       "    <tr>\n",
       "      <th>2</th>\n",
       "      <td>1634410800</td>\n",
       "      <td>22.47</td>\n",
       "      <td>22.65</td>\n",
       "      <td>1018</td>\n",
       "      <td>72</td>\n",
       "      <td>17.17</td>\n",
       "      <td>0.0</td>\n",
       "      <td>15</td>\n",
       "      <td>10000</td>\n",
       "      <td>5.09</td>\n",
       "      <td>14</td>\n",
       "      <td>7.77</td>\n",
       "      <td>[{'id': 801, 'main': 'Clouds', 'description': ...</td>\n",
       "      <td>0.00</td>\n",
       "    </tr>\n",
       "    <tr>\n",
       "      <th>3</th>\n",
       "      <td>1634414400</td>\n",
       "      <td>21.81</td>\n",
       "      <td>21.98</td>\n",
       "      <td>1017</td>\n",
       "      <td>74</td>\n",
       "      <td>16.97</td>\n",
       "      <td>0.0</td>\n",
       "      <td>36</td>\n",
       "      <td>10000</td>\n",
       "      <td>5.35</td>\n",
       "      <td>10</td>\n",
       "      <td>8.83</td>\n",
       "      <td>[{'id': 802, 'main': 'Clouds', 'description': ...</td>\n",
       "      <td>0.03</td>\n",
       "    </tr>\n",
       "    <tr>\n",
       "      <th>4</th>\n",
       "      <td>1634418000</td>\n",
       "      <td>20.92</td>\n",
       "      <td>21.05</td>\n",
       "      <td>1018</td>\n",
       "      <td>76</td>\n",
       "      <td>16.53</td>\n",
       "      <td>0.0</td>\n",
       "      <td>45</td>\n",
       "      <td>10000</td>\n",
       "      <td>5.11</td>\n",
       "      <td>19</td>\n",
       "      <td>8.53</td>\n",
       "      <td>[{'id': 802, 'main': 'Clouds', 'description': ...</td>\n",
       "      <td>0.03</td>\n",
       "    </tr>\n",
       "  </tbody>\n",
       "</table>\n",
       "</div>"
      ],
      "text/plain": [
       "           dt   temp  feels_like  pressure  humidity  dew_point  uvi  clouds  \\\n",
       "0  1634403600  23.72       23.95      1018        69      17.70  0.0      21   \n",
       "1  1634407200  23.17       23.40      1018        71      17.62  0.0      23   \n",
       "2  1634410800  22.47       22.65      1018        72      17.17  0.0      15   \n",
       "3  1634414400  21.81       21.98      1017        74      16.97  0.0      36   \n",
       "4  1634418000  20.92       21.05      1018        76      16.53  0.0      45   \n",
       "\n",
       "   visibility  wind_speed  wind_deg  wind_gust  \\\n",
       "0       10000        5.87        11       9.47   \n",
       "1       10000        5.63        11       9.28   \n",
       "2       10000        5.09        14       7.77   \n",
       "3       10000        5.35        10       8.83   \n",
       "4       10000        5.11        19       8.53   \n",
       "\n",
       "                                             weather   pop  \n",
       "0  [{'id': 801, 'main': 'Clouds', 'description': ...  0.00  \n",
       "1  [{'id': 801, 'main': 'Clouds', 'description': ...  0.00  \n",
       "2  [{'id': 801, 'main': 'Clouds', 'description': ...  0.00  \n",
       "3  [{'id': 802, 'main': 'Clouds', 'description': ...  0.03  \n",
       "4  [{'id': 802, 'main': 'Clouds', 'description': ...  0.03  "
      ]
     },
     "execution_count": 10,
     "metadata": {},
     "output_type": "execute_result"
    }
   ],
   "source": [
    "df_hourly.head()"
   ]
  },
  {
   "cell_type": "code",
   "execution_count": null,
   "metadata": {},
   "outputs": [],
   "source": []
  }
 ],
 "metadata": {
  "interpreter": {
   "hash": "c1b4cfe941b6d2466ad1fb5979e97da9cda8801728c8091b097ab734208fc00c"
  },
  "kernelspec": {
   "display_name": "Python 3.8.3 64-bit ('base': conda)",
   "name": "python3"
  },
  "language_info": {
   "codemirror_mode": {
    "name": "ipython",
    "version": 3
   },
   "file_extension": ".py",
   "mimetype": "text/x-python",
   "name": "python",
   "nbconvert_exporter": "python",
   "pygments_lexer": "ipython3",
   "version": "3.8.12"
  }
 },
 "nbformat": 4,
 "nbformat_minor": 2
}
