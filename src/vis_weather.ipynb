{
 "cells": [
  {
   "cell_type": "code",
   "execution_count": 1,
   "metadata": {
    "execution": {
     "iopub.execute_input": "2021-10-23T02:36:08.061762Z",
     "iopub.status.busy": "2021-10-23T02:36:08.060906Z",
     "iopub.status.idle": "2021-10-23T02:36:11.269523Z",
     "shell.execute_reply": "2021-10-23T02:36:11.268972Z"
    }
   },
   "outputs": [],
   "source": [
    "import json, yaml, requests\r\n",
    "from datetime import datetime\r\n",
    "from dateutil import tz\r\n",
    "import pandas as pd\r\n",
    "from PIL import Image\r\n",
    "from io import BytesIO\r\n",
    "import matplotlib.pyplot as plt\r\n",
    "import seaborn\r\n",
    "\r\n",
    "CONFIG_PATH = \"../config/config.yaml\""
   ]
  },
  {
   "cell_type": "code",
   "execution_count": 2,
   "metadata": {
    "execution": {
     "iopub.execute_input": "2021-10-23T02:36:11.275377Z",
     "iopub.status.busy": "2021-10-23T02:36:11.274067Z",
     "iopub.status.idle": "2021-10-23T02:36:11.279860Z",
     "shell.execute_reply": "2021-10-23T02:36:11.280243Z"
    }
   },
   "outputs": [],
   "source": [
    "with open('../newest_ts', 'r') as f:\r\n",
    "    newest_ts = f.read()\r\n",
    "\r\n",
    "data_path = f\"../data/data_{newest_ts}.json\"\r\n",
    "with open(data_path, 'r') as f:\r\n",
    "    data = json.load(f)\r\n",
    "\r\n",
    "with open(CONFIG_PATH, \"r\") as stream:\r\n",
    "    config = yaml.safe_load(stream)\r\n",
    "\r\n",
    "TIME_ZONE = config['time_zone']\r\n",
    "DATETIME_FORMAT = config['dt_format']"
   ]
  },
  {
   "cell_type": "code",
   "execution_count": 3,
   "metadata": {
    "execution": {
     "iopub.execute_input": "2021-10-23T02:36:11.285445Z",
     "iopub.status.busy": "2021-10-23T02:36:11.284934Z",
     "iopub.status.idle": "2021-10-23T02:36:11.297449Z",
     "shell.execute_reply": "2021-10-23T02:36:11.297919Z"
    }
   },
   "outputs": [
    {
     "name": "stdout",
     "output_type": "stream",
     "text": [
      "Recent query happens at 2021-10-23 10:36:04 (CST).\n"
     ]
    }
   ],
   "source": [
    "def ts2dt(ts, format=DATETIME_FORMAT):\r\n",
    "    dt = (datetime.utcfromtimestamp(int(ts))\r\n",
    "                    .replace(tzinfo=tz.tzutc())\r\n",
    "                    # .astimezone(tz.tzlocal())\r\n",
    "                    .astimezone(tz.gettz(TIME_ZONE)))\r\n",
    "    return dt.strftime(format), dt\r\n",
    "\r\n",
    "_, newest_dt = ts2dt(newest_ts)\r\n",
    "print(f\"Recent query happens at {newest_dt.strftime(DATETIME_FORMAT)} ({newest_dt.tzname()}).\")"
   ]
  },
  {
   "cell_type": "code",
   "execution_count": 4,
   "metadata": {
    "execution": {
     "iopub.execute_input": "2021-10-23T02:36:11.302670Z",
     "iopub.status.busy": "2021-10-23T02:36:11.302155Z",
     "iopub.status.idle": "2021-10-23T02:36:11.304012Z",
     "shell.execute_reply": "2021-10-23T02:36:11.304458Z"
    }
   },
   "outputs": [],
   "source": [
    "def degrees_to_cardinal(d):\r\n",
    "  dirs = ['N', 'NNE', 'NE', 'ENE', 'E', 'ESE', 'SE', 'SSE', 'S', 'SSW', 'SW', 'WSW', 'W', 'WNW', 'NW', 'NNW']\r\n",
    "  ix = int(round(d / (360. / len(dirs))))\r\n",
    "  return dirs[ix % len(dirs)]"
   ]
  },
  {
   "cell_type": "code",
   "execution_count": 5,
   "metadata": {
    "execution": {
     "iopub.execute_input": "2021-10-23T02:36:11.309636Z",
     "iopub.status.busy": "2021-10-23T02:36:11.308325Z",
     "iopub.status.idle": "2021-10-23T02:36:11.310201Z",
     "shell.execute_reply": "2021-10-23T02:36:11.310599Z"
    }
   },
   "outputs": [],
   "source": [
    "# data.keys()"
   ]
  },
  {
   "cell_type": "code",
   "execution_count": 6,
   "metadata": {
    "execution": {
     "iopub.execute_input": "2021-10-23T02:36:11.314838Z",
     "iopub.status.busy": "2021-10-23T02:36:11.313625Z",
     "iopub.status.idle": "2021-10-23T02:36:11.315617Z",
     "shell.execute_reply": "2021-10-23T02:36:11.316041Z"
    }
   },
   "outputs": [],
   "source": [
    "# data['current']"
   ]
  },
  {
   "cell_type": "code",
   "execution_count": 7,
   "metadata": {
    "execution": {
     "iopub.execute_input": "2021-10-23T02:36:11.343758Z",
     "iopub.status.busy": "2021-10-23T02:36:11.323520Z",
     "iopub.status.idle": "2021-10-23T02:36:11.732965Z",
     "shell.execute_reply": "2021-10-23T02:36:11.732367Z"
    }
   },
   "outputs": [
    {
     "data": {
      "image/png": "[encoded data removed]",
      "text/plain": [
       "<Figure size 216x216 with 1 Axes>"
      ]
     },
     "metadata": {
      "needs_background": "light"
     },
     "output_type": "display_data"
    },
    {
     "name": "stdout",
     "output_type": "stream",
     "text": [
      "Today, sun rises at 06:22 and sets at 17:51.\n",
      "Currently, the weather is Clouds (broken clouds).\n",
      "The temperature is 20.29°C and it feels like 20.36°C.\n",
      "The UV index is 4.76, humidity is 76%.\n",
      "The pressure is 1020 hPa, percentage of cloud cover is 68%\n",
      "The wind comes from E direction with a speed 0.45 m/s.\n"
     ]
    }
   ],
   "source": [
    "current = data['current']\r\n",
    "\r\n",
    "fig, ax = plt.subplots(figsize=(3, 3))\r\n",
    "icon = requests.get(f\"http://openweathermap.org/img/wn/{current['weather'][0]['icon']}@2x.png\")\r\n",
    "im = Image.open(BytesIO(icon.content))\r\n",
    "plt.imshow(im)\r\n",
    "ax.set_axis_off()\r\n",
    "plt.show()\r\n",
    "\r\n",
    "print(f\"Today, sun rises at {ts2dt(current['sunrise'], '%H:%M')[0]} \\\r\n",
    "and sets at {ts2dt(current['sunset'], '%H:%M')[0]}.\\n\\\r\n",
    "Currently, the weather is {current['weather'][0]['main']} ({current['weather'][0]['description']}).\\n\\\r\n",
    "The temperature is {current['temp']}°C and it feels like {current['feels_like']}°C.\\n\\\r\n",
    "The UV index is {current['uvi']}, humidity is {current['humidity']}%.\\n\\\r\n",
    "The pressure is {current['pressure']} hPa, percentage of cloud cover is {current['clouds']}%\\n\\\r\n",
    "The wind comes from {degrees_to_cardinal(current['wind_deg'])} direction with a speed {current['wind_speed']} m/s.\")"
   ]
  },
  {
   "cell_type": "code",
   "execution_count": 8,
   "metadata": {
    "execution": {
     "iopub.execute_input": "2021-10-23T02:36:11.741266Z",
     "iopub.status.busy": "2021-10-23T02:36:11.740494Z",
     "iopub.status.idle": "2021-10-23T02:36:11.744084Z",
     "shell.execute_reply": "2021-10-23T02:36:11.744859Z"
    }
   },
   "outputs": [],
   "source": [
    "df_hourly = pd.DataFrame(data['hourly'])\r\n",
    "df_daily = pd.DataFrame(data['daily'])"
   ]
  },
  {
   "cell_type": "code",
   "execution_count": 9,
   "metadata": {
    "execution": {
     "iopub.execute_input": "2021-10-23T02:36:11.748293Z",
     "iopub.status.busy": "2021-10-23T02:36:11.747229Z",
     "iopub.status.idle": "2021-10-23T02:36:12.066538Z",
     "shell.execute_reply": "2021-10-23T02:36:12.067344Z"
    }
   },
   "outputs": [
    {
     "data": {
      "image/png": "[encoded data removed]",
      "text/plain": [
       "<Figure size 864x432 with 1 Axes>"
      ]
     },
     "metadata": {
      "needs_background": "light"
     },
     "output_type": "display_data"
    }
   ],
   "source": [
    "fig, ax = plt.subplots(figsize=(12, 6))\r\n",
    "plt.plot(df_hourly.temp, '.-', label='Temperature')\r\n",
    "plt.plot(df_hourly.feels_like, '.-', label='Feels Like')\r\n",
    "ax.set(title='Temperature in future 48 hours', xlabel='Time', ylabel='Temperature')\r\n",
    "ax.set_xticks(list(range(0, len(df_hourly), 2)))\r\n",
    "ax.set_xticklabels([ts2dt(ts, '%m-%d %H:%M')[0] for i, ts in enumerate(df_hourly.dt) if i%2==0], \r\n",
    "                   rotation=45, ha=\"right\")\r\n",
    "ax.locator_params(nbins=15, axis='y')\r\n",
    "plt.legend()\r\n",
    "plt.show()"
   ]
  },
  {
   "cell_type": "code",
   "execution_count": 10,
   "metadata": {
    "execution": {
     "iopub.execute_input": "2021-10-23T02:36:12.072724Z",
     "iopub.status.busy": "2021-10-23T02:36:12.072086Z",
     "iopub.status.idle": "2021-10-23T02:36:12.091690Z",
     "shell.execute_reply": "2021-10-23T02:36:12.091243Z"
    }
   },
   "outputs": [
    {
     "data": {
      "text/html": [
       "<div>\n",
       "<style scoped>\n",
       "    .dataframe tbody tr th:only-of-type {\n",
       "        vertical-align: middle;\n",
       "    }\n",
       "\n",
       "    .dataframe tbody tr th {\n",
       "        vertical-align: top;\n",
       "    }\n",
       "\n",
       "    .dataframe thead th {\n",
       "        text-align: right;\n",
       "    }\n",
       "</style>\n",
       "<table border=\"1\" class=\"dataframe\">\n",
       "  <thead>\n",
       "    <tr style=\"text-align: right;\">\n",
       "      <th></th>\n",
       "      <th>dt</th>\n",
       "      <th>temp</th>\n",
       "      <th>feels_like</th>\n",
       "      <th>pressure</th>\n",
       "      <th>humidity</th>\n",
       "      <th>dew_point</th>\n",
       "      <th>uvi</th>\n",
       "      <th>clouds</th>\n",
       "      <th>visibility</th>\n",
       "      <th>wind_speed</th>\n",
       "      <th>wind_deg</th>\n",
       "      <th>wind_gust</th>\n",
       "      <th>weather</th>\n",
       "      <th>pop</th>\n",
       "    </tr>\n",
       "  </thead>\n",
       "  <tbody>\n",
       "    <tr>\n",
       "      <th>0</th>\n",
       "      <td>1634954400</td>\n",
       "      <td>20.31</td>\n",
       "      <td>20.30</td>\n",
       "      <td>1020</td>\n",
       "      <td>73</td>\n",
       "      <td>15.32</td>\n",
       "      <td>3.17</td>\n",
       "      <td>70</td>\n",
       "      <td>10000</td>\n",
       "      <td>3.01</td>\n",
       "      <td>13</td>\n",
       "      <td>4.08</td>\n",
       "      <td>[{'id': 803, 'main': 'Clouds', 'description': ...</td>\n",
       "      <td>0.0</td>\n",
       "    </tr>\n",
       "    <tr>\n",
       "      <th>1</th>\n",
       "      <td>1634958000</td>\n",
       "      <td>20.29</td>\n",
       "      <td>20.36</td>\n",
       "      <td>1020</td>\n",
       "      <td>76</td>\n",
       "      <td>15.92</td>\n",
       "      <td>4.76</td>\n",
       "      <td>68</td>\n",
       "      <td>10000</td>\n",
       "      <td>3.04</td>\n",
       "      <td>26</td>\n",
       "      <td>4.16</td>\n",
       "      <td>[{'id': 803, 'main': 'Clouds', 'description': ...</td>\n",
       "      <td>0.0</td>\n",
       "    </tr>\n",
       "    <tr>\n",
       "      <th>2</th>\n",
       "      <td>1634961600</td>\n",
       "      <td>20.71</td>\n",
       "      <td>20.74</td>\n",
       "      <td>1020</td>\n",
       "      <td>73</td>\n",
       "      <td>15.70</td>\n",
       "      <td>7.64</td>\n",
       "      <td>66</td>\n",
       "      <td>10000</td>\n",
       "      <td>3.03</td>\n",
       "      <td>41</td>\n",
       "      <td>3.95</td>\n",
       "      <td>[{'id': 803, 'main': 'Clouds', 'description': ...</td>\n",
       "      <td>0.0</td>\n",
       "    </tr>\n",
       "    <tr>\n",
       "      <th>3</th>\n",
       "      <td>1634965200</td>\n",
       "      <td>21.33</td>\n",
       "      <td>21.35</td>\n",
       "      <td>1020</td>\n",
       "      <td>70</td>\n",
       "      <td>15.64</td>\n",
       "      <td>7.49</td>\n",
       "      <td>63</td>\n",
       "      <td>10000</td>\n",
       "      <td>3.15</td>\n",
       "      <td>46</td>\n",
       "      <td>3.52</td>\n",
       "      <td>[{'id': 803, 'main': 'Clouds', 'description': ...</td>\n",
       "      <td>0.0</td>\n",
       "    </tr>\n",
       "    <tr>\n",
       "      <th>4</th>\n",
       "      <td>1634968800</td>\n",
       "      <td>21.95</td>\n",
       "      <td>21.95</td>\n",
       "      <td>1019</td>\n",
       "      <td>67</td>\n",
       "      <td>15.55</td>\n",
       "      <td>6.02</td>\n",
       "      <td>58</td>\n",
       "      <td>10000</td>\n",
       "      <td>2.97</td>\n",
       "      <td>57</td>\n",
       "      <td>3.09</td>\n",
       "      <td>[{'id': 803, 'main': 'Clouds', 'description': ...</td>\n",
       "      <td>0.0</td>\n",
       "    </tr>\n",
       "  </tbody>\n",
       "</table>\n",
       "</div>"
      ],
      "text/plain": [
       "           dt   temp  feels_like  pressure  humidity  dew_point   uvi  clouds  \\\n",
       "0  1634954400  20.31       20.30      1020        73      15.32  3.17      70   \n",
       "1  1634958000  20.29       20.36      1020        76      15.92  4.76      68   \n",
       "2  1634961600  20.71       20.74      1020        73      15.70  7.64      66   \n",
       "3  1634965200  21.33       21.35      1020        70      15.64  7.49      63   \n",
       "4  1634968800  21.95       21.95      1019        67      15.55  6.02      58   \n",
       "\n",
       "   visibility  wind_speed  wind_deg  wind_gust  \\\n",
       "0       10000        3.01        13       4.08   \n",
       "1       10000        3.04        26       4.16   \n",
       "2       10000        3.03        41       3.95   \n",
       "3       10000        3.15        46       3.52   \n",
       "4       10000        2.97        57       3.09   \n",
       "\n",
       "                                             weather  pop  \n",
       "0  [{'id': 803, 'main': 'Clouds', 'description': ...  0.0  \n",
       "1  [{'id': 803, 'main': 'Clouds', 'description': ...  0.0  \n",
       "2  [{'id': 803, 'main': 'Clouds', 'description': ...  0.0  \n",
       "3  [{'id': 803, 'main': 'Clouds', 'description': ...  0.0  \n",
       "4  [{'id': 803, 'main': 'Clouds', 'description': ...  0.0  "
      ]
     },
     "execution_count": 10,
     "metadata": {},
     "output_type": "execute_result"
    }
   ],
   "source": [
    "df_hourly.head()"
   ]
  },
  {
   "cell_type": "code",
   "execution_count": null,
   "metadata": {},
   "outputs": [],
   "source": []
  }
 ],
 "metadata": {
  "interpreter": {
   "hash": "c1b4cfe941b6d2466ad1fb5979e97da9cda8801728c8091b097ab734208fc00c"
  },
  "kernelspec": {
   "display_name": "Python 3.8.3 64-bit ('base': conda)",
   "name": "python3"
  },
  "language_info": {
   "codemirror_mode": {
    "name": "ipython",
    "version": 3
   },
   "file_extension": ".py",
   "mimetype": "text/x-python",
   "name": "python",
   "nbconvert_exporter": "python",
   "pygments_lexer": "ipython3",
   "version": "3.8.12"
  }
 },
 "nbformat": 4,
 "nbformat_minor": 2
}
