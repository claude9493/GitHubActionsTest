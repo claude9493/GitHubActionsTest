{
 "cells": [
  {
   "cell_type": "code",
   "execution_count": 1,
   "metadata": {
    "execution": {
     "iopub.execute_input": "2021-09-20T21:10:54.210105Z",
     "iopub.status.busy": "2021-09-20T21:10:54.209511Z",
     "iopub.status.idle": "2021-09-20T21:10:56.929621Z",
     "shell.execute_reply": "2021-09-20T21:10:56.929029Z"
    }
   },
   "outputs": [],
   "source": [
    "import json, yaml, requests\r\n",
    "from datetime import datetime\r\n",
    "from dateutil import tz\r\n",
    "import pandas as pd\r\n",
    "from PIL import Image\r\n",
    "from io import BytesIO\r\n",
    "import matplotlib.pyplot as plt\r\n",
    "import seaborn\r\n",
    "\r\n",
    "CONFIG_PATH = \"../config/config.yaml\""
   ]
  },
  {
   "cell_type": "code",
   "execution_count": 2,
   "metadata": {
    "execution": {
     "iopub.execute_input": "2021-09-20T21:10:56.934737Z",
     "iopub.status.busy": "2021-09-20T21:10:56.934271Z",
     "iopub.status.idle": "2021-09-20T21:10:56.939117Z",
     "shell.execute_reply": "2021-09-20T21:10:56.938506Z"
    }
   },
   "outputs": [],
   "source": [
    "with open('../newest_ts', 'r') as f:\r\n",
    "    newest_ts = f.read()\r\n",
    "\r\n",
    "data_path = f\"../data/data_{newest_ts}.json\"\r\n",
    "with open(data_path, 'r') as f:\r\n",
    "    data = json.load(f)\r\n",
    "\r\n",
    "with open(CONFIG_PATH, \"r\") as stream:\r\n",
    "    config = yaml.safe_load(stream)\r\n",
    "\r\n",
    "TIME_ZONE = config['time_zone']\r\n",
    "DATETIME_FORMAT = config['dt_format']"
   ]
  },
  {
   "cell_type": "code",
   "execution_count": 3,
   "metadata": {
    "execution": {
     "iopub.execute_input": "2021-09-20T21:10:56.943246Z",
     "iopub.status.busy": "2021-09-20T21:10:56.942794Z",
     "iopub.status.idle": "2021-09-20T21:10:56.947993Z",
     "shell.execute_reply": "2021-09-20T21:10:56.948362Z"
    }
   },
   "outputs": [
    {
     "name": "stdout",
     "output_type": "stream",
     "text": [
      "Recent query happens at 2021-09-21 05:10:51 (CST).\n"
     ]
    }
   ],
   "source": [
    "def ts2dt(ts, format=DATETIME_FORMAT):\r\n",
    "    dt = (datetime.utcfromtimestamp(int(ts))\r\n",
    "                    .replace(tzinfo=tz.tzutc())\r\n",
    "                    # .astimezone(tz.tzlocal())\r\n",
    "                    .astimezone(tz.gettz(TIME_ZONE)))\r\n",
    "    return dt.strftime(format), dt\r\n",
    "\r\n",
    "_, newest_dt = ts2dt(newest_ts)\r\n",
    "print(f\"Recent query happens at {newest_dt.strftime(DATETIME_FORMAT)} ({newest_dt.tzname()}).\")"
   ]
  },
  {
   "cell_type": "code",
   "execution_count": 4,
   "metadata": {
    "execution": {
     "iopub.execute_input": "2021-09-20T21:10:56.953053Z",
     "iopub.status.busy": "2021-09-20T21:10:56.952059Z",
     "iopub.status.idle": "2021-09-20T21:10:56.953558Z",
     "shell.execute_reply": "2021-09-20T21:10:56.953915Z"
    }
   },
   "outputs": [],
   "source": [
    "def degrees_to_cardinal(d):\r\n",
    "  dirs = ['N', 'NNE', 'NE', 'ENE', 'E', 'ESE', 'SE', 'SSE', 'S', 'SSW', 'SW', 'WSW', 'W', 'WNW', 'NW', 'NNW']\r\n",
    "  ix = int(round(d / (360. / len(dirs))))\r\n",
    "  return dirs[ix % len(dirs)]"
   ]
  },
  {
   "cell_type": "code",
   "execution_count": 5,
   "metadata": {
    "execution": {
     "iopub.execute_input": "2021-09-20T21:10:56.957575Z",
     "iopub.status.busy": "2021-09-20T21:10:56.956587Z",
     "iopub.status.idle": "2021-09-20T21:10:56.958083Z",
     "shell.execute_reply": "2021-09-20T21:10:56.958442Z"
    }
   },
   "outputs": [],
   "source": [
    "# data.keys()"
   ]
  },
  {
   "cell_type": "code",
   "execution_count": 6,
   "metadata": {
    "execution": {
     "iopub.execute_input": "2021-09-20T21:10:56.961962Z",
     "iopub.status.busy": "2021-09-20T21:10:56.960856Z",
     "iopub.status.idle": "2021-09-20T21:10:56.962479Z",
     "shell.execute_reply": "2021-09-20T21:10:56.962838Z"
    }
   },
   "outputs": [],
   "source": [
    "# data['current']"
   ]
  },
  {
   "cell_type": "code",
   "execution_count": 7,
   "metadata": {
    "execution": {
     "iopub.execute_input": "2021-09-20T21:10:56.984842Z",
     "iopub.status.busy": "2021-09-20T21:10:56.979104Z",
     "iopub.status.idle": "2021-09-20T21:10:57.374644Z",
     "shell.execute_reply": "2021-09-20T21:10:57.375285Z"
    }
   },
   "outputs": [
    {
     "data": {
      "image/png": "[encoded data removed]",
      "text/plain": [
       "<Figure size 216x216 with 1 Axes>"
      ]
     },
     "metadata": {
      "needs_background": "light"
     },
     "output_type": "display_data"
    },
    {
     "name": "stdout",
     "output_type": "stream",
     "text": [
      "Today, sun rises at 06:11 and sets at 18:20.\n",
      "Currently, the weather is Clouds (scattered clouds).\n",
      "The temperature is 27.75°C and it feels like 31.76°C.\n",
      "The UV index is 0, humidity is 82%.\n",
      "The pressure is 1009 hPa, percentage of cloud cover is 39%\n",
      "The wind comes from ENE direction with a speed 0.94 m/s.\n"
     ]
    }
   ],
   "source": [
    "current = data['current']\r\n",
    "\r\n",
    "fig, ax = plt.subplots(figsize=(3, 3))\r\n",
    "icon = requests.get(f\"http://openweathermap.org/img/wn/{current['weather'][0]['icon']}@2x.png\")\r\n",
    "im = Image.open(BytesIO(icon.content))\r\n",
    "plt.imshow(im)\r\n",
    "ax.set_axis_off()\r\n",
    "plt.show()\r\n",
    "\r\n",
    "print(f\"Today, sun rises at {ts2dt(current['sunrise'], '%H:%M')[0]} \\\r\n",
    "and sets at {ts2dt(current['sunset'], '%H:%M')[0]}.\\n\\\r\n",
    "Currently, the weather is {current['weather'][0]['main']} ({current['weather'][0]['description']}).\\n\\\r\n",
    "The temperature is {current['temp']}°C and it feels like {current['feels_like']}°C.\\n\\\r\n",
    "The UV index is {current['uvi']}, humidity is {current['humidity']}%.\\n\\\r\n",
    "The pressure is {current['pressure']} hPa, percentage of cloud cover is {current['clouds']}%\\n\\\r\n",
    "The wind comes from {degrees_to_cardinal(current['wind_deg'])} direction with a speed {current['wind_speed']} m/s.\")"
   ]
  },
  {
   "cell_type": "code",
   "execution_count": 8,
   "metadata": {
    "execution": {
     "iopub.execute_input": "2021-09-20T21:10:57.378530Z",
     "iopub.status.busy": "2021-09-20T21:10:57.377623Z",
     "iopub.status.idle": "2021-09-20T21:10:57.384374Z",
     "shell.execute_reply": "2021-09-20T21:10:57.385003Z"
    }
   },
   "outputs": [],
   "source": [
    "df_hourly = pd.DataFrame(data['hourly'])\r\n",
    "df_daily = pd.DataFrame(data['daily'])"
   ]
  },
  {
   "cell_type": "code",
   "execution_count": 9,
   "metadata": {
    "execution": {
     "iopub.execute_input": "2021-09-20T21:10:57.387919Z",
     "iopub.status.busy": "2021-09-20T21:10:57.387025Z",
     "iopub.status.idle": "2021-09-20T21:10:57.623346Z",
     "shell.execute_reply": "2021-09-20T21:10:57.622888Z"
    }
   },
   "outputs": [
    {
     "data": {
      "image/png": "[encoded data removed]",
      "text/plain": [
       "<Figure size 864x432 with 1 Axes>"
      ]
     },
     "metadata": {
      "needs_background": "light"
     },
     "output_type": "display_data"
    }
   ],
   "source": [
    "fig, ax = plt.subplots(figsize=(12, 6))\r\n",
    "plt.plot(df_hourly.temp, '.-', label='Temperature')\r\n",
    "plt.plot(df_hourly.feels_like, '.-', label='Feels Like')\r\n",
    "ax.set(title='Temperature in future 48 hours', xlabel='Time', ylabel='Temperature')\r\n",
    "ax.set_xticks(list(range(0, len(df_hourly), 2)))\r\n",
    "ax.set_xticklabels([ts2dt(ts, '%m-%d %H:%M')[0] for i, ts in enumerate(df_hourly.dt) if i%2==0], \r\n",
    "                   rotation=45, ha=\"right\")\r\n",
    "ax.locator_params(nbins=15, axis='y')\r\n",
    "plt.legend()\r\n",
    "plt.show()"
   ]
  },
  {
   "cell_type": "code",
   "execution_count": 10,
   "metadata": {
    "execution": {
     "iopub.execute_input": "2021-09-20T21:10:57.627633Z",
     "iopub.status.busy": "2021-09-20T21:10:57.627184Z",
     "iopub.status.idle": "2021-09-20T21:10:57.645021Z",
     "shell.execute_reply": "2021-09-20T21:10:57.645386Z"
    }
   },
   "outputs": [
    {
     "data": {
      "text/html": [
       "<div>\n",
       "<style scoped>\n",
       "    .dataframe tbody tr th:only-of-type {\n",
       "        vertical-align: middle;\n",
       "    }\n",
       "\n",
       "    .dataframe tbody tr th {\n",
       "        vertical-align: top;\n",
       "    }\n",
       "\n",
       "    .dataframe thead th {\n",
       "        text-align: right;\n",
       "    }\n",
       "</style>\n",
       "<table border=\"1\" class=\"dataframe\">\n",
       "  <thead>\n",
       "    <tr style=\"text-align: right;\">\n",
       "      <th></th>\n",
       "      <th>dt</th>\n",
       "      <th>temp</th>\n",
       "      <th>feels_like</th>\n",
       "      <th>pressure</th>\n",
       "      <th>humidity</th>\n",
       "      <th>dew_point</th>\n",
       "      <th>uvi</th>\n",
       "      <th>clouds</th>\n",
       "      <th>visibility</th>\n",
       "      <th>wind_speed</th>\n",
       "      <th>wind_deg</th>\n",
       "      <th>wind_gust</th>\n",
       "      <th>weather</th>\n",
       "      <th>pop</th>\n",
       "      <th>rain</th>\n",
       "    </tr>\n",
       "  </thead>\n",
       "  <tbody>\n",
       "    <tr>\n",
       "      <th>0</th>\n",
       "      <td>1632171600</td>\n",
       "      <td>27.75</td>\n",
       "      <td>31.76</td>\n",
       "      <td>1009</td>\n",
       "      <td>82</td>\n",
       "      <td>24.39</td>\n",
       "      <td>0.00</td>\n",
       "      <td>39</td>\n",
       "      <td>10000</td>\n",
       "      <td>0.94</td>\n",
       "      <td>75</td>\n",
       "      <td>1.27</td>\n",
       "      <td>[{'id': 802, 'main': 'Clouds', 'description': ...</td>\n",
       "      <td>0.06</td>\n",
       "      <td>NaN</td>\n",
       "    </tr>\n",
       "    <tr>\n",
       "      <th>1</th>\n",
       "      <td>1632175200</td>\n",
       "      <td>27.69</td>\n",
       "      <td>31.75</td>\n",
       "      <td>1009</td>\n",
       "      <td>83</td>\n",
       "      <td>24.54</td>\n",
       "      <td>0.00</td>\n",
       "      <td>38</td>\n",
       "      <td>10000</td>\n",
       "      <td>0.91</td>\n",
       "      <td>32</td>\n",
       "      <td>1.08</td>\n",
       "      <td>[{'id': 500, 'main': 'Rain', 'description': 'l...</td>\n",
       "      <td>0.38</td>\n",
       "      <td>{'1h': 0.1}</td>\n",
       "    </tr>\n",
       "    <tr>\n",
       "      <th>2</th>\n",
       "      <td>1632178800</td>\n",
       "      <td>27.68</td>\n",
       "      <td>31.73</td>\n",
       "      <td>1009</td>\n",
       "      <td>83</td>\n",
       "      <td>24.53</td>\n",
       "      <td>0.21</td>\n",
       "      <td>35</td>\n",
       "      <td>10000</td>\n",
       "      <td>1.16</td>\n",
       "      <td>8</td>\n",
       "      <td>1.15</td>\n",
       "      <td>[{'id': 802, 'main': 'Clouds', 'description': ...</td>\n",
       "      <td>0.43</td>\n",
       "      <td>NaN</td>\n",
       "    </tr>\n",
       "    <tr>\n",
       "      <th>3</th>\n",
       "      <td>1632182400</td>\n",
       "      <td>28.06</td>\n",
       "      <td>32.25</td>\n",
       "      <td>1010</td>\n",
       "      <td>80</td>\n",
       "      <td>24.28</td>\n",
       "      <td>1.19</td>\n",
       "      <td>32</td>\n",
       "      <td>10000</td>\n",
       "      <td>1.02</td>\n",
       "      <td>4</td>\n",
       "      <td>0.93</td>\n",
       "      <td>[{'id': 500, 'main': 'Rain', 'description': 'l...</td>\n",
       "      <td>0.64</td>\n",
       "      <td>{'1h': 0.38}</td>\n",
       "    </tr>\n",
       "    <tr>\n",
       "      <th>4</th>\n",
       "      <td>1632186000</td>\n",
       "      <td>28.92</td>\n",
       "      <td>33.30</td>\n",
       "      <td>1011</td>\n",
       "      <td>74</td>\n",
       "      <td>23.82</td>\n",
       "      <td>3.22</td>\n",
       "      <td>18</td>\n",
       "      <td>10000</td>\n",
       "      <td>0.51</td>\n",
       "      <td>43</td>\n",
       "      <td>0.69</td>\n",
       "      <td>[{'id': 500, 'main': 'Rain', 'description': 'l...</td>\n",
       "      <td>0.42</td>\n",
       "      <td>{'1h': 0.26}</td>\n",
       "    </tr>\n",
       "  </tbody>\n",
       "</table>\n",
       "</div>"
      ],
      "text/plain": [
       "           dt   temp  feels_like  pressure  humidity  dew_point   uvi  clouds  \\\n",
       "0  1632171600  27.75       31.76      1009        82      24.39  0.00      39   \n",
       "1  1632175200  27.69       31.75      1009        83      24.54  0.00      38   \n",
       "2  1632178800  27.68       31.73      1009        83      24.53  0.21      35   \n",
       "3  1632182400  28.06       32.25      1010        80      24.28  1.19      32   \n",
       "4  1632186000  28.92       33.30      1011        74      23.82  3.22      18   \n",
       "\n",
       "   visibility  wind_speed  wind_deg  wind_gust  \\\n",
       "0       10000        0.94        75       1.27   \n",
       "1       10000        0.91        32       1.08   \n",
       "2       10000        1.16         8       1.15   \n",
       "3       10000        1.02         4       0.93   \n",
       "4       10000        0.51        43       0.69   \n",
       "\n",
       "                                             weather   pop          rain  \n",
       "0  [{'id': 802, 'main': 'Clouds', 'description': ...  0.06           NaN  \n",
       "1  [{'id': 500, 'main': 'Rain', 'description': 'l...  0.38   {'1h': 0.1}  \n",
       "2  [{'id': 802, 'main': 'Clouds', 'description': ...  0.43           NaN  \n",
       "3  [{'id': 500, 'main': 'Rain', 'description': 'l...  0.64  {'1h': 0.38}  \n",
       "4  [{'id': 500, 'main': 'Rain', 'description': 'l...  0.42  {'1h': 0.26}  "
      ]
     },
     "execution_count": 10,
     "metadata": {},
     "output_type": "execute_result"
    }
   ],
   "source": [
    "df_hourly.head()"
   ]
  },
  {
   "cell_type": "code",
   "execution_count": null,
   "metadata": {},
   "outputs": [],
   "source": []
  }
 ],
 "metadata": {
  "interpreter": {
   "hash": "c1b4cfe941b6d2466ad1fb5979e97da9cda8801728c8091b097ab734208fc00c"
  },
  "kernelspec": {
   "display_name": "Python 3.8.3 64-bit ('base': conda)",
   "name": "python3"
  },
  "language_info": {
   "codemirror_mode": {
    "name": "ipython",
    "version": 3
   },
   "file_extension": ".py",
   "mimetype": "text/x-python",
   "name": "python",
   "nbconvert_exporter": "python",
   "pygments_lexer": "ipython3",
   "version": "3.8.11"
  }
 },
 "nbformat": 4,
 "nbformat_minor": 2
}
